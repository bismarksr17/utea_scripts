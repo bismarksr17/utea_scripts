{
 "cells": [
  {
   "cell_type": "code",
   "execution_count": 2,
   "id": "ea998e25-b972-45f8-8a7f-86cec592995b",
   "metadata": {},
   "outputs": [],
   "source": [
    "\n",
    "import sqlite3"
   ]
  },
  {
   "cell_type": "code",
   "execution_count": 8,
   "id": "cfa72337-f069-4250-ad3a-25ae66a40154",
   "metadata": {},
   "outputs": [],
   "source": [
    "# conecta o crea la base de datos\n",
    "conn = sqlite3.connect('mensajes_whatsapp.db')\n",
    "# cursor a la base de datos\n",
    "cursor = conn.cursor()\n",
    "# script parta crear si no existe la tabla\n",
    "cursor.execute('''\n",
    "CREATE TABLE IF NOT EXISTS mensajes_whatsapp (\n",
    "    id INTEGER PRIMARY KEY AUTOINCREMENT,\n",
    "    fecha TIMESTAMP,\n",
    "    idd INTEGER,\n",
    "    cod_canero INTEGER,\n",
    "    nombre_canero TEXT,\n",
    "    numero INTEGER,\n",
    "    mensaje TEXT,\n",
    "    enviado BOOLEAN DEFAULT 0,\n",
    "    fecha_enviado TIMESTAMP\n",
    ");\n",
    "''')\n",
    "# ejecura el script\n",
    "conn.commit()\n",
    "# cierra la conexion\n",
    "conn.close()"
   ]
  },
  {
   "cell_type": "code",
   "execution_count": 9,
   "id": "6c859db0-094e-49af-8a9f-374e35291ff3",
   "metadata": {},
   "outputs": [],
   "source": [
    "conn = sqlite3.connect('mensajes_whatsapp.db')\n",
    "cursor = conn.cursor()\n",
    "\n",
    "cursor.execute('''\n",
    "SELECT * FROM mensajes_whatsapp WHERE enviado = 0;\n",
    "''')\n",
    "\n",
    "pendientes = cursor.fetchall()"
   ]
  },
  {
   "cell_type": "code",
   "execution_count": 10,
   "id": "4db3c80e-d2fe-433e-a817-33934704260e",
   "metadata": {},
   "outputs": [],
   "source": [
    "for msg in pendientes:\n",
    "    print(msg)\n",
    "\n",
    "conn.close()"
   ]
  },
  {
   "cell_type": "code",
   "execution_count": 11,
   "id": "c003a63e-b2a2-45ec-b94d-3ec685b1b47d",
   "metadata": {},
   "outputs": [
    {
     "data": {
      "text/plain": [
       "[]"
      ]
     },
     "execution_count": 11,
     "metadata": {},
     "output_type": "execute_result"
    }
   ],
   "source": [
    "pendientes"
   ]
  },
  {
   "cell_type": "code",
   "execution_count": null,
   "id": "0edbd57a-5406-4cc3-a0f6-9001aa5877ef",
   "metadata": {},
   "outputs": [],
   "source": []
  },
  {
   "cell_type": "code",
   "execution_count": null,
   "id": "da952327-0303-4604-a048-e8c04564eba2",
   "metadata": {},
   "outputs": [],
   "source": []
  }
 ],
 "metadata": {
  "kernelspec": {
   "display_name": "Python 3 (ipykernel)",
   "language": "python",
   "name": "python3"
  },
  "language_info": {
   "codemirror_mode": {
    "name": "ipython",
    "version": 3
   },
   "file_extension": ".py",
   "mimetype": "text/x-python",
   "name": "python",
   "nbconvert_exporter": "python",
   "pygments_lexer": "ipython3",
   "version": "3.10.13"
  }
 },
 "nbformat": 4,
 "nbformat_minor": 5
}
