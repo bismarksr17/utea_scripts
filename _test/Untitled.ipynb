{
 "cells": [
  {
   "cell_type": "code",
   "execution_count": 2,
   "id": "512b8d52-a722-49dc-9a61-f53414e48d95",
   "metadata": {},
   "outputs": [],
   "source": [
    "from amigocloud import AmigoCloud"
   ]
  },
  {
   "cell_type": "code",
   "execution_count": 3,
   "id": "f413bd51-9d1b-4781-9eb5-4f9a12944e7f",
   "metadata": {},
   "outputs": [],
   "source": [
    "import pandas as pd"
   ]
  },
  {
   "cell_type": "code",
   "execution_count": 4,
   "id": "e9e0908a-195d-406e-b9fc-6a29750ce78a",
   "metadata": {},
   "outputs": [
    {
     "data": {
      "text/plain": [
       "<amigocloud.amigocloud.AmigoCloud at 0x1e8d873dd88>"
      ]
     },
     "execution_count": 4,
     "metadata": {},
     "output_type": "execute_result"
    }
   ],
   "source": [
    "# ruta de carpera donde estan las llaves\n",
    "ruta = open('../ruta.txt')\n",
    "ruta = ruta.readlines()[0]\n",
    "\n",
    "# leer token\n",
    "acceso = open(ruta + '/_keys/api_amigocloud.key','r')\n",
    "api_token = acceso.readlines()[0]\n",
    "acceso.close()\n",
    "amigocloud = AmigoCloud(token=api_token)\n",
    "amigocloud"
   ]
  },
  {
   "cell_type": "code",
   "execution_count": 5,
   "id": "ce0f71a2-de6b-47ee-808c-0d007fcf7b70",
   "metadata": {},
   "outputs": [],
   "source": [
    "semana = 'S36'\n",
    "query = {'query': 'select split_part(canhero, \\' / \\', 1) cod, split_part(canhero, \\' / \\', 2) nom from dataset_307560 where semana_2da = \\'{sem}\\''.format(sem=semana)}\n",
    "project = 'https://app.amigocloud.com/api/v1/projects/32672/sql'\n",
    "select = amigocloud.get(project, query)\n",
    "data = select['data']"
   ]
  },
  {
   "cell_type": "code",
   "execution_count": 6,
   "id": "06f35cc2-32f9-422a-96f6-5e7229641155",
   "metadata": {},
   "outputs": [
    {
     "data": {
      "text/html": [
       "<div>\n",
       "<style scoped>\n",
       "    .dataframe tbody tr th:only-of-type {\n",
       "        vertical-align: middle;\n",
       "    }\n",
       "\n",
       "    .dataframe tbody tr th {\n",
       "        vertical-align: top;\n",
       "    }\n",
       "\n",
       "    .dataframe thead th {\n",
       "        text-align: right;\n",
       "    }\n",
       "</style>\n",
       "<table border=\"1\" class=\"dataframe\">\n",
       "  <thead>\n",
       "    <tr style=\"text-align: right;\">\n",
       "      <th></th>\n",
       "      <th>cod</th>\n",
       "      <th>nom</th>\n",
       "    </tr>\n",
       "  </thead>\n",
       "  <tbody>\n",
       "    <tr>\n",
       "      <th>0</th>\n",
       "      <td>13067</td>\n",
       "      <td>SAUCEDO CERRUTI SONIA</td>\n",
       "    </tr>\n",
       "    <tr>\n",
       "      <th>1</th>\n",
       "      <td>1693</td>\n",
       "      <td>CANO DELGADILLO LIMBERG</td>\n",
       "    </tr>\n",
       "    <tr>\n",
       "      <th>2</th>\n",
       "      <td>13480</td>\n",
       "      <td>TAPIA MARTINEZ FRANCISCO</td>\n",
       "    </tr>\n",
       "    <tr>\n",
       "      <th>3</th>\n",
       "      <td>42073</td>\n",
       "      <td>TAPIA SEGOVIA ENRIQUE</td>\n",
       "    </tr>\n",
       "    <tr>\n",
       "      <th>4</th>\n",
       "      <td>8838</td>\n",
       "      <td>MENDEZ PAZ MIRYAM</td>\n",
       "    </tr>\n",
       "    <tr>\n",
       "      <th>5</th>\n",
       "      <td>11750</td>\n",
       "      <td>REYES VALDIVIA JOSE</td>\n",
       "    </tr>\n",
       "    <tr>\n",
       "      <th>6</th>\n",
       "      <td>2285</td>\n",
       "      <td>CUELLAR ZABALA ADALBERTO</td>\n",
       "    </tr>\n",
       "    <tr>\n",
       "      <th>7</th>\n",
       "      <td>6457</td>\n",
       "      <td>JORDAN TONDELLY RODOLFO</td>\n",
       "    </tr>\n",
       "    <tr>\n",
       "      <th>8</th>\n",
       "      <td>40252</td>\n",
       "      <td>BEJARANO ALVES LUIS ALBERTO</td>\n",
       "    </tr>\n",
       "    <tr>\n",
       "      <th>9</th>\n",
       "      <td>42182</td>\n",
       "      <td>TAPIA SEGOVIA RONALD</td>\n",
       "    </tr>\n",
       "    <tr>\n",
       "      <th>10</th>\n",
       "      <td>8814</td>\n",
       "      <td>MURIALDO MENDEZ WALTER DANIEL</td>\n",
       "    </tr>\n",
       "    <tr>\n",
       "      <th>11</th>\n",
       "      <td>5345</td>\n",
       "      <td>HUANCA SUAREZ EDGAR</td>\n",
       "    </tr>\n",
       "    <tr>\n",
       "      <th>12</th>\n",
       "      <td>1104</td>\n",
       "      <td>BRUNNER LIMPIAS JUAN CARLOS</td>\n",
       "    </tr>\n",
       "    <tr>\n",
       "      <th>13</th>\n",
       "      <td>2893</td>\n",
       "      <td>DAVALOS SILVA MARIO</td>\n",
       "    </tr>\n",
       "    <tr>\n",
       "      <th>14</th>\n",
       "      <td>11116</td>\n",
       "      <td>QUENA OVANDO VICTOR</td>\n",
       "    </tr>\n",
       "    <tr>\n",
       "      <th>15</th>\n",
       "      <td>41556</td>\n",
       "      <td>FRANCO GUZMAN MARIA AILEN</td>\n",
       "    </tr>\n",
       "  </tbody>\n",
       "</table>\n",
       "</div>"
      ],
      "text/plain": [
       "      cod                            nom\n",
       "0   13067         SAUCEDO CERRUTI SONIA \n",
       "1    1693        CANO DELGADILLO LIMBERG\n",
       "2   13480       TAPIA MARTINEZ FRANCISCO\n",
       "3   42073          TAPIA SEGOVIA ENRIQUE\n",
       "4    8838              MENDEZ PAZ MIRYAM\n",
       "5   11750           REYES VALDIVIA JOSE \n",
       "6    2285       CUELLAR ZABALA ADALBERTO\n",
       "7    6457       JORDAN TONDELLY RODOLFO \n",
       "8   40252   BEJARANO ALVES LUIS ALBERTO \n",
       "9   42182           TAPIA SEGOVIA RONALD\n",
       "10   8814  MURIALDO MENDEZ WALTER DANIEL\n",
       "11   5345           HUANCA SUAREZ EDGAR \n",
       "12   1104   BRUNNER LIMPIAS JUAN CARLOS \n",
       "13   2893            DAVALOS SILVA MARIO\n",
       "14  11116            QUENA OVANDO VICTOR\n",
       "15  41556      FRANCO GUZMAN MARIA AILEN"
      ]
     },
     "execution_count": 6,
     "metadata": {},
     "output_type": "execute_result"
    }
   ],
   "source": [
    "df = pd.DataFrame(data)\n",
    "df"
   ]
  }
 ],
 "metadata": {
  "kernelspec": {
   "display_name": "Python 3 (ipykernel)",
   "language": "python",
   "name": "python3"
  },
  "language_info": {
   "codemirror_mode": {
    "name": "ipython",
    "version": 3
   },
   "file_extension": ".py",
   "mimetype": "text/x-python",
   "name": "python",
   "nbconvert_exporter": "python",
   "pygments_lexer": "ipython3",
   "version": "3.7.16"
  }
 },
 "nbformat": 4,
 "nbformat_minor": 5
}
