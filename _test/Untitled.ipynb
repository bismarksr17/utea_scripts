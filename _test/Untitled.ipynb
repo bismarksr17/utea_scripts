{
 "cells": [
  {
   "cell_type": "code",
   "execution_count": 9,
   "id": "512b8d52-a722-49dc-9a61-f53414e48d95",
   "metadata": {},
   "outputs": [],
   "source": [
    "import ipywidgets as widgets"
   ]
  },
  {
   "cell_type": "code",
   "execution_count": 80,
   "id": "3256d2f0-525c-4765-8063-23e68b763c8e",
   "metadata": {},
   "outputs": [
    {
     "data": {
      "application/vnd.jupyter.widget-view+json": {
       "model_id": "5cd4b852f65644758e70bdc3f4a42564",
       "version_major": 2,
       "version_minor": 0
      },
      "text/plain": [
       "Output(layout=Layout(border='1px solid white'))"
      ]
     },
     "metadata": {},
     "output_type": "display_data"
    }
   ],
   "source": [
    "out = widgets.Output(layout={'border':'1px solid white'})\n",
    "out"
   ]
  },
  {
   "cell_type": "code",
   "execution_count": null,
   "id": "6f2b4c73-2edc-421d-8fb0-0097278aaa34",
   "metadata": {},
   "outputs": [],
   "source": []
  },
  {
   "cell_type": "code",
   "execution_count": 67,
   "id": "c77663f4-de26-42e2-b3b2-d84625ce64b6",
   "metadata": {},
   "outputs": [],
   "source": [
    "out.clear_output(wait=True)\n",
    "with out:\n",
    "    for i in range(3):\n",
    "        print(i, 'Hello world!')"
   ]
  },
  {
   "cell_type": "code",
   "execution_count": 82,
   "id": "7ec88bbc-e683-4b05-8a6f-7e3003cb8ec3",
   "metadata": {},
   "outputs": [],
   "source": [
    "@out.capture(clear_output=True)\n",
    "def function_with_captured_output():\n",
    "    print('This goes into the output widget')\n",
    "    x = 2\n",
    "    print(x)\n",
    "    #raise Exception('As does this')"
   ]
  },
  {
   "cell_type": "code",
   "execution_count": 104,
   "id": "a5d8d2e6-11a2-44fc-bd1a-a3f06638761a",
   "metadata": {},
   "outputs": [],
   "source": [
    "function_with_captured_output()"
   ]
  },
  {
   "cell_type": "code",
   "execution_count": null,
   "id": "b08f074a-d7a2-4fe8-95da-f1f006e38c5b",
   "metadata": {},
   "outputs": [],
   "source": []
  },
  {
   "cell_type": "code",
   "execution_count": null,
   "id": "e9e0908a-195d-406e-b9fc-6a29750ce78a",
   "metadata": {},
   "outputs": [],
   "source": []
  },
  {
   "cell_type": "code",
   "execution_count": null,
   "id": "ce0f71a2-de6b-47ee-808c-0d007fcf7b70",
   "metadata": {},
   "outputs": [],
   "source": []
  },
  {
   "cell_type": "code",
   "execution_count": null,
   "id": "06f35cc2-32f9-422a-96f6-5e7229641155",
   "metadata": {},
   "outputs": [],
   "source": []
  }
 ],
 "metadata": {
  "kernelspec": {
   "display_name": "Python 3 (ipykernel)",
   "language": "python",
   "name": "python3"
  },
  "language_info": {
   "codemirror_mode": {
    "name": "ipython",
    "version": 3
   },
   "file_extension": ".py",
   "mimetype": "text/x-python",
   "name": "python",
   "nbconvert_exporter": "python",
   "pygments_lexer": "ipython3",
   "version": "3.7.13"
  }
 },
 "nbformat": 4,
 "nbformat_minor": 5
}
