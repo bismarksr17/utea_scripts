{
 "cells": [
  {
   "cell_type": "code",
   "execution_count": null,
   "id": "23314c20-64df-48d4-869d-94a9ed320abf",
   "metadata": {},
   "outputs": [],
   "source": []
  },
  {
   "cell_type": "code",
   "execution_count": 1,
   "id": "6ca1b4b3-ac1f-4fd5-8ed1-87a5957629d9",
   "metadata": {},
   "outputs": [
    {
     "name": "stdout",
     "output_type": "stream",
     "text": [
      "Error: 401 JWT strings must contain exactly 2 period characters. Found: 0\n"
     ]
    }
   ],
   "source": [
    "import requests\n",
    "\n",
    "# Datos base\n",
    "BASE_URL = \"https://api.deere.com/platform\"\n",
    "MACHINE_ID = \"1BM6190JKPD661044\"  # reemplaza por el ID real de la máquina\n",
    "ACCESS_TOKEN = \"Kjm8LU9cU9u7NDCLlbNf6xa3Xkln48OGwvXkLtSkRXkxbguQRejquJsV9Gl1BR1p\"  # token obtenido vía OAuth2\n",
    "\n",
    "# Llamada al endpoint\n",
    "url = f\"{BASE_URL}/machines/{MACHINE_ID}/hoursOfOperation\"\n",
    "headers = {\"Authorization\": f\"Bearer {ACCESS_TOKEN}\"}\n",
    "\n",
    "response = requests.get(url, headers=headers)\n",
    "\n",
    "if response.status_code == 200:\n",
    "    data = response.json()\n",
    "    print(\"Horas de operación:\", data)\n",
    "else:\n",
    "    print(\"Error:\", response.status_code, response.text)\n"
   ]
  },
  {
   "cell_type": "code",
   "execution_count": null,
   "id": "2e50f886-b3f0-4481-a20d-0def1cf13c78",
   "metadata": {},
   "outputs": [],
   "source": []
  },
  {
   "cell_type": "code",
   "execution_count": null,
   "id": "dbec585d-9e53-40cc-a496-87849183b79e",
   "metadata": {},
   "outputs": [],
   "source": []
  },
  {
   "cell_type": "code",
   "execution_count": null,
   "id": "4d1cc759-b01c-4e94-a4eb-41ecca4e786b",
   "metadata": {},
   "outputs": [],
   "source": []
  }
 ],
 "metadata": {
  "kernelspec": {
   "display_name": "Python 3 (ipykernel)",
   "language": "python",
   "name": "python3"
  },
  "language_info": {
   "codemirror_mode": {
    "name": "ipython",
    "version": 3
   },
   "file_extension": ".py",
   "mimetype": "text/x-python",
   "name": "python",
   "nbconvert_exporter": "python",
   "pygments_lexer": "ipython3",
   "version": "3.10.13"
  }
 },
 "nbformat": 4,
 "nbformat_minor": 5
}
