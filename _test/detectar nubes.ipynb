{
 "cells": [
  {
   "cell_type": "code",
   "execution_count": 44,
   "id": "81bc8e84-751f-4477-98b7-c34f2d5aedb4",
   "metadata": {},
   "outputs": [],
   "source": [
    "import ee\n",
    "import geemap"
   ]
  },
  {
   "cell_type": "code",
   "execution_count": 45,
   "id": "e238ac13-d9a8-4320-9c8c-ee49817aaec8",
   "metadata": {},
   "outputs": [],
   "source": [
    "Map = geemap.Map(basemap=\"SATELLITE\")"
   ]
  },
  {
   "cell_type": "code",
   "execution_count": 46,
   "id": "ab9f0cb9-d6d9-42b6-9014-cea484b02edb",
   "metadata": {},
   "outputs": [],
   "source": [
    "vis_lote = {\n",
    "    'color': 'red', \n",
    "    'width': 1,\n",
    "    'lineType': 'solid',\n",
    "    'fillColor': '00000000',\n",
    "}\n",
    "\n",
    "vis_buffer = {\n",
    "    'color': 'blue', \n",
    "    'width': 1,\n",
    "    'lineType': 'solid',\n",
    "    'fillColor': '00000000',\n",
    "}\n",
    "\n",
    "viz_rgb = {\n",
    "    'bands':['B4','B3','B2'],\n",
    "    'min':0.0,\n",
    "    'max':0.5,\n",
    "    'fillColorOpacity': '0'\n",
    "}\n",
    "\n",
    "viz_ndvi = {\n",
    "    'palette': ['FFFFFF', 'CE7E45','DF923D', 'F1B555',\n",
    "                'FCD163', '99B718','74A901', '66A000',\n",
    "                '529400', '3E8601','207401', '056201',\n",
    "                '004C00', '023B01','012E01', '011D01',\n",
    "                '011301'],\n",
    "    'min': -0.4,\n",
    "    'max': 1,\n",
    "    'bands': \"NDVI\"\n",
    "}\n",
    "\n",
    "viz_clas = {\n",
    "    'palette': ['CE7E45', 'DF923D', 'F1B555', 'FCD163', '99B718', '74A901',\n",
    "    '66A000', '529400', '3E8601', '207401'],\n",
    "    'min': 1,\n",
    "    'max': 10\n",
    "}"
   ]
  },
  {
   "cell_type": "code",
   "execution_count": 47,
   "id": "f012b7fb-792a-4a8f-825c-fb3142e4cebd",
   "metadata": {},
   "outputs": [],
   "source": [
    "img = ee.Image('COPERNICUS/S2_SR/20220318T141741_20220318T142130_T20KMF')\\\n",
    "    .multiply(0.0001)\\\n",
    "    .select(['B1', 'B2', 'B3', 'B4', 'B5', 'B6', 'B7', 'B8', 'B8A', 'B9', 'B11', 'B12'])\n",
    "Map.addLayer(img, viz_rgb, 'Imagen Sat')"
   ]
  },
  {
   "cell_type": "code",
   "execution_count": 48,
   "id": "8c9f5370-e8c2-4063-a2f1-9e985feb1db9",
   "metadata": {},
   "outputs": [
    {
     "data": {
      "text/plain": [
       "'\\n# EVI\\nEVI = img.expression(\\'2.5 * float(B8 - B4) / ((B8+6*B4-7.5*B2)+1)\\', {\\n        \\'B2\\':img.select(\\'B2\\'),\\n        \\'B4\\':img.select(\\'B4\\'),\\n        \\'B8\\':img.select(\\'B8\\'),\\n    })\\n\\n#AVI\\nAVI = img.expression(\\'(B8 * (1 - B4) * (B8 - B4)) ** (1/3)\\', {\\n        \\'B4\\':img.select(\\'B4\\'),\\n        \\'B8\\':img.select(\\'B8\\'),\\n    })\\n\\n#SAVI\\nSAVI = img.expression(\\'float(B8 - B4) / (B8 + B4 + 0.428) * (1.428)\\', {\\n        \\'B4\\':img.select(\\'B4\\'),\\n        \\'B8\\':img.select(\\'B8\\'),\\n    })\\n\\n#NDMI\\nNDMI = img.normalizedDifference([\\'B8\\',\\'B11\\']).rename(\"NDMI\")\\n\\n#MSI\\nMSI = img.expression(\\'float(B11 / B8)\\', {\\n        \\'B11\\':img.select(\\'B11\\'),\\n        \\'B8\\':img.select(\\'B8\\'),\\n    })\\n\\n#GCI\\nGCI = img.expression(\\'float(B9 / B3) - 1\\', {\\n        \\'B9\\':img.select(\\'B9\\'),\\n        \\'B3\\':img.select(\\'B3\\'),\\n    })\\n\\n#NBRI\\nNBRI = img.normalizedDifference([\\'B8\\',\\'B12\\']).rename(\"NBRI\")\\n\\n#BSI\\nBSI = img.expression(\\'float(B11 + B4) - (B8 + B2) / (B11 + B4) + (B8 + B2)\\', {\\n        \\'B11\\':img.select(\\'B11\\'),\\n        \\'B4\\':img.select(\\'B4\\'),\\n        \\'B8\\':img.select(\\'B8\\'),\\n        \\'B2\\':img.select(\\'B2\\'),\\n    })\\n'"
      ]
     },
     "execution_count": 48,
     "metadata": {},
     "output_type": "execute_result"
    }
   ],
   "source": [
    "#NDVI\n",
    "NDVI = img.normalizedDifference(['B8','B4']).rename(\"NDVI\")\n",
    "#GDVI\n",
    "GNDVI = img.normalizedDifference(['B8','B3']).rename(\"GNDVI\")\n",
    "\n",
    "'''\n",
    "# EVI\n",
    "EVI = img.expression('2.5 * float(B8 - B4) / ((B8+6*B4-7.5*B2)+1)', {\n",
    "        'B2':img.select('B2'),\n",
    "        'B4':img.select('B4'),\n",
    "        'B8':img.select('B8'),\n",
    "    })\n",
    "\n",
    "#AVI\n",
    "AVI = img.expression('(B8 * (1 - B4) * (B8 - B4)) ** (1/3)', {\n",
    "        'B4':img.select('B4'),\n",
    "        'B8':img.select('B8'),\n",
    "    })\n",
    "\n",
    "#SAVI\n",
    "SAVI = img.expression('float(B8 - B4) / (B8 + B4 + 0.428) * (1.428)', {\n",
    "        'B4':img.select('B4'),\n",
    "        'B8':img.select('B8'),\n",
    "    })\n",
    "\n",
    "#NDMI\n",
    "NDMI = img.normalizedDifference(['B8','B11']).rename(\"NDMI\")\n",
    "\n",
    "#MSI\n",
    "MSI = img.expression('float(B11 / B8)', {\n",
    "        'B11':img.select('B11'),\n",
    "        'B8':img.select('B8'),\n",
    "    })\n",
    "\n",
    "#GCI\n",
    "GCI = img.expression('float(B9 / B3) - 1', {\n",
    "        'B9':img.select('B9'),\n",
    "        'B3':img.select('B3'),\n",
    "    })\n",
    "\n",
    "#NBRI\n",
    "NBRI = img.normalizedDifference(['B8','B12']).rename(\"NBRI\")\n",
    "\n",
    "#BSI\n",
    "BSI = img.expression('float(B11 + B4) - (B8 + B2) / (B11 + B4) + (B8 + B2)', {\n",
    "        'B11':img.select('B11'),\n",
    "        'B4':img.select('B4'),\n",
    "        'B8':img.select('B8'),\n",
    "        'B2':img.select('B2'),\n",
    "    })\n",
    "'''"
   ]
  },
  {
   "cell_type": "code",
   "execution_count": 23,
   "id": "10c19a8c-c705-49ea-82f0-518bd58cc520",
   "metadata": {},
   "outputs": [],
   "source": [
    "NDVI_class = ee.Image(-1).where(NDVI.lt(0.1),1)\\\n",
    "                        .where(NDVI.gte(0.1),2)\\\n",
    "                        .where(NDVI.gte(0.2),3)\\\n",
    "                        .where(NDVI.gte(0.3),4)\\\n",
    "                        .where(NDVI.gte(0.4),5)\\\n",
    "                        .where(NDVI.gte(0.5),6)\\\n",
    "                        .where(NDVI.gte(0.6),7)\\\n",
    "                        .where(NDVI.gte(0.7),8)\\\n",
    "                        .where(NDVI.gte(0.8),9)\\\n",
    "                        .where(NDVI.gte(0.9),10)"
   ]
  },
  {
   "cell_type": "code",
   "execution_count": 49,
   "id": "5caafba6-b31c-4265-8017-110b30e76a07",
   "metadata": {},
   "outputs": [],
   "source": [
    "GNDVI_class = ee.Image(-1).where(GNDVI.lt(0.1),1)\\\n",
    "                        .where(GNDVI.gte(0.1),2)\\\n",
    "                        .where(GNDVI.gte(0.2),3)\\\n",
    "                        .where(GNDVI.gte(0.3),4)\\\n",
    "                        .where(GNDVI.gte(0.4),5)\\\n",
    "                        .where(GNDVI.gte(0.5),6)\\\n",
    "                        .where(GNDVI.gte(0.6),7)\\\n",
    "                        .where(GNDVI.gte(0.7),8)\\\n",
    "                        .where(GNDVI.gte(0.8),9)\\\n",
    "                        .where(GNDVI.gte(0.9),10)"
   ]
  },
  {
   "cell_type": "code",
   "execution_count": 25,
   "id": "20e62fed-7972-489b-8701-7486f1af63ce",
   "metadata": {},
   "outputs": [],
   "source": [
    "EVI_class = ee.Image(-1).where(EVI.lt(0.1),1)\\\n",
    "                        .where(EVI.gte(0.1),2)\\\n",
    "                        .where(EVI.gte(0.2),3)\\\n",
    "                        .where(EVI.gte(0.3),4)\\\n",
    "                        .where(EVI.gte(0.4),5)\\\n",
    "                        .where(EVI.gte(0.5),6)\\\n",
    "                        .where(EVI.gte(0.6),7)\\\n",
    "                        .where(EVI.gte(0.7),8)\\\n",
    "                        .where(EVI.gte(0.8),9)\\\n",
    "                        .where(EVI.gte(0.9),10)"
   ]
  },
  {
   "cell_type": "code",
   "execution_count": 26,
   "id": "7b1690fc-c652-4356-a18a-bc0e3070bc13",
   "metadata": {},
   "outputs": [],
   "source": [
    "AVI_class = ee.Image(-1).where(AVI.lt(0.1),1)\\\n",
    "                        .where(AVI.gte(0.1),2)\\\n",
    "                        .where(AVI.gte(0.2),3)\\\n",
    "                        .where(AVI.gte(0.3),4)\\\n",
    "                        .where(AVI.gte(0.4),5)\\\n",
    "                        .where(AVI.gte(0.5),6)\\\n",
    "                        .where(AVI.gte(0.6),7)\\\n",
    "                        .where(AVI.gte(0.7),8)\\\n",
    "                        .where(AVI.gte(0.8),9)\\\n",
    "                        .where(AVI.gte(0.9),10)"
   ]
  },
  {
   "cell_type": "code",
   "execution_count": 27,
   "id": "3dcae157-d235-49b2-9ca7-e6c945d825ec",
   "metadata": {},
   "outputs": [],
   "source": [
    "SAVI_class = ee.Image(-1).where(SAVI.lt(0.1),1)\\\n",
    "                        .where(SAVI.gte(0.1),2)\\\n",
    "                        .where(SAVI.gte(0.2),3)\\\n",
    "                        .where(SAVI.gte(0.3),4)\\\n",
    "                        .where(SAVI.gte(0.4),5)\\\n",
    "                        .where(SAVI.gte(0.5),6)\\\n",
    "                        .where(SAVI.gte(0.6),7)\\\n",
    "                        .where(SAVI.gte(0.7),8)\\\n",
    "                        .where(SAVI.gte(0.8),9)\\\n",
    "                        .where(SAVI.gte(0.9),10)"
   ]
  },
  {
   "cell_type": "code",
   "execution_count": 28,
   "id": "e80fa63c-1465-4635-8351-44893aab2ea5",
   "metadata": {},
   "outputs": [],
   "source": [
    "NDMI_class = ee.Image(-1).where(NDMI.lt(0.1),1)\\\n",
    "                        .where(NDMI.gte(0.1),2)\\\n",
    "                        .where(NDMI.gte(0.2),3)\\\n",
    "                        .where(NDMI.gte(0.3),4)\\\n",
    "                        .where(NDMI.gte(0.4),5)\\\n",
    "                        .where(NDMI.gte(0.5),6)\\\n",
    "                        .where(NDMI.gte(0.6),7)\\\n",
    "                        .where(NDMI.gte(0.7),8)\\\n",
    "                        .where(NDMI.gte(0.8),9)\\\n",
    "                        .where(NDMI.gte(0.9),10)"
   ]
  },
  {
   "cell_type": "code",
   "execution_count": 29,
   "id": "7f5453e4-621c-4649-8090-df7010e8567d",
   "metadata": {},
   "outputs": [],
   "source": [
    "MSI_class = ee.Image(-1).where(MSI.lt(0.1),1)\\\n",
    "                        .where(MSI.gte(0.1),2)\\\n",
    "                        .where(MSI.gte(0.2),3)\\\n",
    "                        .where(MSI.gte(0.3),4)\\\n",
    "                        .where(MSI.gte(0.4),5)\\\n",
    "                        .where(MSI.gte(0.5),6)\\\n",
    "                        .where(MSI.gte(0.6),7)\\\n",
    "                        .where(MSI.gte(0.7),8)\\\n",
    "                        .where(MSI.gte(0.8),9)\\\n",
    "                        .where(MSI.gte(0.9),10)"
   ]
  },
  {
   "cell_type": "code",
   "execution_count": 30,
   "id": "d12d91e9-8c4b-452f-8662-e8a384c96d2c",
   "metadata": {},
   "outputs": [],
   "source": [
    "GCI_class = ee.Image(-1).where(GCI.lt(0.1),1)\\\n",
    "                        .where(GCI.gte(0.1),2)\\\n",
    "                        .where(GCI.gte(0.2),3)\\\n",
    "                        .where(GCI.gte(0.3),4)\\\n",
    "                        .where(GCI.gte(0.4),5)\\\n",
    "                        .where(GCI.gte(0.5),6)\\\n",
    "                        .where(GCI.gte(0.6),7)\\\n",
    "                        .where(GCI.gte(0.7),8)\\\n",
    "                        .where(GCI.gte(0.8),9)\\\n",
    "                        .where(GCI.gte(0.9),10)"
   ]
  },
  {
   "cell_type": "code",
   "execution_count": 31,
   "id": "fa92b7dd-f7b4-4b64-b79d-e5f968c26768",
   "metadata": {},
   "outputs": [],
   "source": [
    "NBRI_class = ee.Image(-1).where(NBRI.lt(0.1),1)\\\n",
    "                        .where(NBRI.gte(0.1),2)\\\n",
    "                        .where(NBRI.gte(0.2),3)\\\n",
    "                        .where(NBRI.gte(0.3),4)\\\n",
    "                        .where(NBRI.gte(0.4),5)\\\n",
    "                        .where(NBRI.gte(0.5),6)\\\n",
    "                        .where(NBRI.gte(0.6),7)\\\n",
    "                        .where(NBRI.gte(0.7),8)\\\n",
    "                        .where(NBRI.gte(0.8),9)\\\n",
    "                        .where(NBRI.gte(0.9),10)"
   ]
  },
  {
   "cell_type": "code",
   "execution_count": 32,
   "id": "57ba8396-6f42-47e3-8dce-09ae9a9fd1ac",
   "metadata": {},
   "outputs": [],
   "source": [
    "BSI_class = ee.Image(-1).where(BSI.lt(0.1),1)\\\n",
    "                        .where(BSI.gte(0.1),2)\\\n",
    "                        .where(BSI.gte(0.2),3)\\\n",
    "                        .where(BSI.gte(0.3),4)\\\n",
    "                        .where(BSI.gte(0.4),5)\\\n",
    "                        .where(BSI.gte(0.5),6)\\\n",
    "                        .where(BSI.gte(0.6),7)\\\n",
    "                        .where(BSI.gte(0.7),8)\\\n",
    "                        .where(BSI.gte(0.8),9)\\\n",
    "                        .where(BSI.gte(0.9),10)"
   ]
  },
  {
   "cell_type": "code",
   "execution_count": 50,
   "id": "e6cd7470-e7a1-40b8-a617-dea15b53af55",
   "metadata": {},
   "outputs": [
    {
     "data": {
      "text/plain": [
       "\"\\nMap.addLayer(NDVI_class, viz_clas, 'NDVI')\\nMap.addLayer(EVI_class, viz_clas, 'EVI')\\nMap.addLayer(AVI_class, viz_clas, 'AVI')\\nMap.addLayer(SAVI_class, viz_clas, 'SAVI')\\nMap.addLayer(NDMI_class, viz_clas, 'NDMI')\\nMap.addLayer(MSI_class, viz_clas, 'MSI')\\nMap.addLayer(GCI_class, viz_clas, 'GCI')\\nMap.addLayer(NBRI_class, viz_clas, 'NBRI')\\nMap.addLayer(BSI_class, viz_clas, 'BSI')\\n\""
      ]
     },
     "execution_count": 50,
     "metadata": {},
     "output_type": "execute_result"
    }
   ],
   "source": [
    "Map.addLayer(GNDVI_class, viz_clas, 'GNDVI')\n",
    "'''\n",
    "Map.addLayer(NDVI_class, viz_clas, 'NDVI')\n",
    "Map.addLayer(EVI_class, viz_clas, 'EVI')\n",
    "Map.addLayer(AVI_class, viz_clas, 'AVI')\n",
    "Map.addLayer(SAVI_class, viz_clas, 'SAVI')\n",
    "Map.addLayer(NDMI_class, viz_clas, 'NDMI')\n",
    "Map.addLayer(MSI_class, viz_clas, 'MSI')\n",
    "Map.addLayer(GCI_class, viz_clas, 'GCI')\n",
    "Map.addLayer(NBRI_class, viz_clas, 'NBRI')\n",
    "Map.addLayer(BSI_class, viz_clas, 'BSI')\n",
    "'''"
   ]
  },
  {
   "cell_type": "code",
   "execution_count": null,
   "id": "affad80a-1f1b-4010-8379-63044694bc58",
   "metadata": {},
   "outputs": [],
   "source": []
  },
  {
   "cell_type": "code",
   "execution_count": 51,
   "id": "1034e670-ebf4-4fa7-b0ea-16bc1b5f775a",
   "metadata": {},
   "outputs": [],
   "source": [
    "ruta = 'projects/ee-bismarksr17/assets/lotes_test_nuebes'\n",
    "propiedad = ee.FeatureCollection(ruta)\n",
    "Map.addLayer(propiedad.style(**vis_lote), {}, 'Lotes')\n",
    "Map.centerObject(propiedad, 14)"
   ]
  },
  {
   "cell_type": "code",
   "execution_count": 52,
   "id": "c936df49-f658-434e-be98-1a33c62e3129",
   "metadata": {},
   "outputs": [],
   "source": [
    "poligono = propiedad.geometry().buffer(2000)\n",
    "poligono = ee.FeatureCollection(poligono)\n",
    "Map.addLayer(poligono.style(**vis_buffer), {}, 'buffer')"
   ]
  },
  {
   "cell_type": "code",
   "execution_count": 53,
   "id": "7ad2e293-9eee-4f2b-8004-3000c65cde4c",
   "metadata": {},
   "outputs": [
    {
     "data": {
      "application/vnd.jupyter.widget-view+json": {
       "model_id": "179a78ffedb54a569f592c483242032f",
       "version_major": 2,
       "version_minor": 0
      },
      "text/plain": [
       "Map(center=[-17.278153650154934, -63.180003705405774], controls=(WidgetControl(options=['position', 'transpare…"
      ]
     },
     "metadata": {},
     "output_type": "display_data"
    }
   ],
   "source": [
    "Map"
   ]
  }
 ],
 "metadata": {
  "kernelspec": {
   "display_name": "Python 3 (ipykernel)",
   "language": "python",
   "name": "python3"
  },
  "language_info": {
   "codemirror_mode": {
    "name": "ipython",
    "version": 3
   },
   "file_extension": ".py",
   "mimetype": "text/x-python",
   "name": "python",
   "nbconvert_exporter": "python",
   "pygments_lexer": "ipython3",
   "version": "3.10.13"
  }
 },
 "nbformat": 4,
 "nbformat_minor": 5
}
