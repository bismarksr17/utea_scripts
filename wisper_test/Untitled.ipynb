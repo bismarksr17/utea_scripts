{
 "cells": [
  {
   "cell_type": "code",
   "execution_count": 5,
   "id": "624b15f4-5165-44f5-8628-4e3c542dd93b",
   "metadata": {},
   "outputs": [],
   "source": [
    "from moviepy import VideoFileClip"
   ]
  },
  {
   "cell_type": "code",
   "execution_count": 8,
   "id": "00de8d7c-9752-4e2d-9db6-3eaf56d29d2c",
   "metadata": {},
   "outputs": [
    {
     "name": "stdout",
     "output_type": "stream",
     "text": [
      "MoviePy - Writing audio in C:\\Users\\bismarksr\\Downloads\\Video\\audio.mp3\n"
     ]
    },
    {
     "name": "stderr",
     "output_type": "stream",
     "text": [
      "                                                                                                                       "
     ]
    },
    {
     "name": "stdout",
     "output_type": "stream",
     "text": [
      "MoviePy - Done.\n"
     ]
    },
    {
     "name": "stderr",
     "output_type": "stream",
     "text": [
      "\r"
     ]
    }
   ],
   "source": [
    "#from moviepy.editor import VideoFileClip\n",
    "\n",
    "# Ruta al archivo de video\n",
    "ruta_video = r\"C:\\Users\\bismarksr\\Downloads\\Video\\Ec 08112023 Raphael Delloiagono Entendendo O Programa Renovabio E Perspectivas Da Safra De Cana De Acucar Bl1 Ed.mp4\"\n",
    "\n",
    "# Ruta donde se guardará el archivo de audio\n",
    "ruta_audio = r\"C:\\Users\\bismarksr\\Downloads\\Video\\audio.mp3\"\n",
    "\n",
    "# Cargar el video\n",
    "clip_video = VideoFileClip(ruta_video)\n",
    "\n",
    "# Extraer el audio\n",
    "clip_audio = clip_video.audio\n",
    "\n",
    "# Guardar el audio en formato mp3\n",
    "clip_audio.write_audiofile(ruta_audio)\n",
    "\n",
    "# Cerrar los clips para liberar recursos\n",
    "clip_audio.close()\n",
    "clip_video.close()"
   ]
  }
 ],
 "metadata": {
  "kernelspec": {
   "display_name": "Python 3 (ipykernel)",
   "language": "python",
   "name": "python3"
  },
  "language_info": {
   "codemirror_mode": {
    "name": "ipython",
    "version": 3
   },
   "file_extension": ".py",
   "mimetype": "text/x-python",
   "name": "python",
   "nbconvert_exporter": "python",
   "pygments_lexer": "ipython3",
   "version": "3.10.13"
  }
 },
 "nbformat": 4,
 "nbformat_minor": 5
}
