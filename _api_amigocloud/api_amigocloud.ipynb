{
 "cells": [
  {
   "cell_type": "code",
   "execution_count": 3,
   "id": "8c8fbcd1-c5f0-4f9f-bf4b-b4da335eb11d",
   "metadata": {
    "tags": []
   },
   "outputs": [],
   "source": [
    "import json\n",
    "import requests\n",
    "\n",
    "BASE_URL = 'https://app.amigocloud.com'\n",
    "API_URL = BASE_URL + '/api/v1'\n",
    "\n",
    "class AmigoCloudError(Exception):\n",
    "    \n",
    "    def __init__(self, message, response=None):\n",
    "        self.message = message\n",
    "        self.response = response\n",
    "        self.text = getattr(self.response, 'text', None)\n",
    "\n",
    "    def __str__(self):\n",
    "        if self.text:\n",
    "            return self.message + '\\n' + self.text\n",
    "        return self.message"
   ]
  },
  {
   "cell_type": "code",
   "execution_count": 4,
   "id": "12db9e55-abd1-43c0-a1be-08b2b5ee89c0",
   "metadata": {
    "tags": []
   },
   "outputs": [],
   "source": [
    "class AmigoCloud(object):\n",
    "\n",
    "    def __init__(self, token, base_url=BASE_URL):\n",
    "        self.base_url = base_url\n",
    "        self.api_url = base_url + '/api/v1'\n",
    "        self.token = token\n",
    "\n",
    "    def build_url(self, url):\n",
    "        if url.startswith('http'):\n",
    "            return url\n",
    "        if url.startswith('/'):\n",
    "            return self.api_url + url\n",
    "        return '/'.join(s.strip('/') for s in (self.api_url, url))\n",
    "\n",
    "    def get(self, url, params=None):\n",
    "        full_url = self.build_url(url)\n",
    "        params = params or {}\n",
    "        if self.token:\n",
    "            params.setdefault('token', self.token)\n",
    "\n",
    "        response = requests.get(full_url, params=params)\n",
    "        if response.status_code != 200:\n",
    "            raise AmigoCloudError('Failed to retrieve data: ' + response.text)\n",
    "\n",
    "        return json.loads(response.text)\n",
    "\n",
    "    def execute_sql(self, project_id, query, limit=100):\n",
    "        url = f'/projects/{project_id}/sql'\n",
    "        offset = 0\n",
    "        while True:\n",
    "            params = {'query': query, 'limit': limit, 'offset': offset}\n",
    "            response = self.get(url, params)\n",
    "            yield response  # This will return the current page of results\n",
    "            \n",
    "            # Assuming 'data' is the key where the results are stored\n",
    "            data = response.get('data', [])\n",
    "            if len(data) < limit:\n",
    "                break  # No more pages, exit loop\n",
    "            \n",
    "            offset += limit  # Update the offset to get the next page"
   ]
  },
  {
   "cell_type": "code",
   "execution_count": 10,
   "id": "6220e3af-fd16-4753-bda4-aec624af1f11",
   "metadata": {
    "tags": []
   },
   "outputs": [
    {
     "name": "stdout",
     "output_type": "stream",
     "text": [
      "56\n"
     ]
    }
   ],
   "source": [
    "# Uso:\n",
    "token = ''\n",
    "project_id = ''\n",
    "query = 'SELECT * FROM dataset_'\n",
    "\n",
    "amigo_client = AmigoCloud(token)\n",
    "x = 0\n",
    "for page in amigo_client.execute_sql(project_id, query):\n",
    "    x = x + len(page['data'])\n",
    "    print(x)"
   ]
  }
 ],
 "metadata": {
  "kernelspec": {
   "display_name": "Python 3 (ipykernel)",
   "language": "python",
   "name": "python3"
  },
  "language_info": {
   "codemirror_mode": {
    "name": "ipython",
    "version": 3
   },
   "file_extension": ".py",
   "mimetype": "text/x-python",
   "name": "python",
   "nbconvert_exporter": "python",
   "pygments_lexer": "ipython3",
   "version": "3.10.13"
  }
 },
 "nbformat": 4,
 "nbformat_minor": 5
}
