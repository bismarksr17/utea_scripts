{
 "cells": [
  {
   "cell_type": "markdown",
   "id": "8644d1bd",
   "metadata": {
    "tags": []
   },
   "source": [
    "## Parametros"
   ]
  },
  {
   "cell_type": "code",
   "execution_count": 5,
   "id": "99f46eb8",
   "metadata": {
    "tags": []
   },
   "outputs": [],
   "source": [
    "codigo_canhero = 40132"
   ]
  },
  {
   "cell_type": "markdown",
   "id": "efd45d64",
   "metadata": {},
   "source": [
    "## Librerias"
   ]
  },
  {
   "cell_type": "code",
   "execution_count": 1,
   "id": "5cb5968b",
   "metadata": {
    "tags": []
   },
   "outputs": [],
   "source": [
    "from werkzeug.wrappers import Request, Response\n",
    "#from flask import Flask, render_template\n",
    "from jinja2 import Template\n",
    "\n",
    "#from datetime import date\n",
    "from datetime import datetime, timedelta\n",
    "\n",
    "import collections\n",
    "from amigocloud import AmigoCloud\n",
    "\n",
    "from datetime import datetime"
   ]
  },
  {
   "cell_type": "markdown",
   "id": "9429e2a1",
   "metadata": {},
   "source": [
    "## Conectar a AmigoCloud"
   ]
  },
  {
   "cell_type": "code",
   "execution_count": 3,
   "id": "b046e5ec-e53a-4681-b08b-5406ced2f306",
   "metadata": {
    "tags": []
   },
   "outputs": [
    {
     "data": {
      "text/plain": [
       "<amigocloud.amigocloud.AmigoCloud at 0x1bddbcc4bc8>"
      ]
     },
     "execution_count": 3,
     "metadata": {},
     "output_type": "execute_result"
    }
   ],
   "source": [
    "# CONECTAR A AMIGOCLOUD\n",
    "acceso = open('../api_key/api.key','r')\n",
    "api_token = acceso.readlines()[0]\n",
    "acceso.close()\n",
    "amigocloud = AmigoCloud(token=api_token)\n",
    "amigocloud"
   ]
  },
  {
   "cell_type": "markdown",
   "id": "c1e7f707",
   "metadata": {},
   "source": [
    "## Datos de crédito"
   ]
  },
  {
   "cell_type": "code",
   "execution_count": 6,
   "id": "3c8f0c01",
   "metadata": {
    "tags": []
   },
   "outputs": [
    {
     "name": "stdout",
     "output_type": "stream",
     "text": [
      "end\n"
     ]
    }
   ],
   "source": [
    "query_credito = {'query': 'select * from dataset_282969 where cast(SPLIT_PART(canhero, \\'/\\', 1) as integer) = {cod_ca}'.format(cod_ca=codigo_canhero)}\n",
    "credito_select = amigocloud.get('https://app.amigocloud.com/api/v1/projects/31360/sql', query_credito)\n",
    "credito_data = credito_select['data'][0]\n",
    "credito_data['fecha_informe'] = (datetime.strptime(credito_data['fecha_1ra_insp'].split(' ')[0], '%Y-%m-%d') + timedelta(days=1)).strftime('%d/%m/%Y')\n",
    "credito_data['fecha_1ra_insp'] = datetime.strptime(credito_data['fecha_1ra_insp'].split(' ')[0], '%Y-%m-%d').strftime('%d/%m/%Y')\n",
    "credito = collections.namedtuple(\"credito\", credito_data.keys())(*credito_data.values())\n",
    "print('end')"
   ]
  },
  {
   "cell_type": "code",
   "execution_count": null,
   "id": "e49ecf6d-4c9f-4e23-9264-781eba0df1ac",
   "metadata": {},
   "outputs": [],
   "source": [
    "credito"
   ]
  },
  {
   "cell_type": "markdown",
   "id": "70323d19",
   "metadata": {},
   "source": [
    "## Datos de propiedades"
   ]
  },
  {
   "cell_type": "code",
   "execution_count": 7,
   "id": "3496435d",
   "metadata": {
    "tags": []
   },
   "outputs": [
    {
     "name": "stdout",
     "output_type": "stream",
     "text": [
      "end\n"
     ]
    }
   ],
   "source": [
    "query_propiedades = {'query': 'select * from dataset_282968 where cre_ref_prop = \\'{cre_ref_prop}\\''.format(cre_ref_prop=credito.amigo_id)}\n",
    "propiedades_select = amigocloud.get('https://app.amigocloud.com/api/v1/projects/31360/sql', query_propiedades)\n",
    "propiedades_data = propiedades_select['data']\n",
    "print('end')"
   ]
  },
  {
   "cell_type": "code",
   "execution_count": 8,
   "id": "dbb4f0ac-5c34-49f5-a414-bbc8db5dbf46",
   "metadata": {
    "tags": []
   },
   "outputs": [
    {
     "data": {
      "text/plain": [
       "[{'ubicacion': '0101000020E6100000D6216A7BB9A74FC0D8EBE507E7EF30C0',\n",
       "  'propiedad': '1755 / SANTA MARIA--VELARDE OSCAR',\n",
       "  'fecha_registro': '2022-05-28 14:15:44+00:00',\n",
       "  'fecha_actualizacion': '2022-05-28 14:15:44+00:00',\n",
       "  'cre_ref_prop': '1863c049b4b94d80a7d0cb9763636c64',\n",
       "  'amigo_id': 'b3a6e27c23d848bc9bba52c9730cc338',\n",
       "  'tenencia': 'PROPIO'}]"
      ]
     },
     "execution_count": 8,
     "metadata": {},
     "output_type": "execute_result"
    }
   ],
   "source": [
    "propiedades_data"
   ]
  },
  {
   "cell_type": "markdown",
   "id": "4dcd1537",
   "metadata": {},
   "source": [
    "## Datos de lotes"
   ]
  },
  {
   "cell_type": "code",
   "execution_count": 9,
   "id": "0c39d55e",
   "metadata": {
    "tags": []
   },
   "outputs": [
    {
     "name": "stdout",
     "output_type": "stream",
     "text": [
      "end\n"
     ]
    }
   ],
   "source": [
    "propiedades = []\n",
    "for prop in propiedades_data:\n",
    "    prop['lotes'] = []\n",
    "    query_lotes = {'query': 'select * from dataset_282975 where prop_ref_lote=\\'{prop_ref_lote}\\''.format(prop_ref_lote=prop['amigo_id'])}\n",
    "    lotes_select = amigocloud.get('https://app.amigocloud.com/api/v1/projects/31360/sql', query_lotes)\n",
    "    for lote_select in lotes_select['data']:\n",
    "        lote = collections.namedtuple(\"lote\", lote_select.keys())(*lote_select.values())\n",
    "        prop['lotes'].append(lote)\n",
    "    propiedades.append(collections.namedtuple(\"propiedad\", prop.keys())(*prop.values()))\n",
    "print('end')"
   ]
  },
  {
   "cell_type": "code",
   "execution_count": 10,
   "id": "0566f29f-8a94-4cc0-9ea1-4b053006d233",
   "metadata": {
    "tags": []
   },
   "outputs": [
    {
     "data": {
      "text/plain": [
       "[propiedad(ubicacion='0101000020E6100000D6216A7BB9A74FC0D8EBE507E7EF30C0', propiedad='1755 / SANTA MARIA--VELARDE OSCAR', fecha_registro='2022-05-28 14:15:44+00:00', fecha_actualizacion='2022-05-28 14:15:44+00:00', cre_ref_prop='1863c049b4b94d80a7d0cb9763636c64', amigo_id='b3a6e27c23d848bc9bba52c9730cc338', tenencia='PROPIO', lotes=[lote(prop_ref_lote='b3a6e27c23d848bc9bba52c9730cc338', geometria='0106000020E6100000010000000103000000010000000A000000CFA80DCC5BA74FC03F8074E9A6F030C0786E300D46A74FC0B8DF6E50BEF030C05BADFE3840A74FC0D4240FDBC9F030C0617D369945A74FC0DD7F1CA7F6F030C0212DA73736A74FC0B52B4E3F07F130C08ACD441E1FA74FC0107F0BCB1DF130C02234534E30A74FC0E9A2273268F130C0C4C5DE7272A74FC0683A24FD14F130C0D36388C365A74FC0C8C2BC1DD3F030C0CFA80DCC5BA74FC03F8074E9A6F030C0', fecha_registro='2022-08-05 17:21:42+00:00', lote='L2.1', superficie=4.15, textura='F', lote_semillero=None, variedad_semillero=None, variedad_sugerida=None, estado_semillero=None, mes_siembra=None, variedad_sembrada='RBB 77-26', fecha_siembra='2022-05-10 17:21:29+00:00', estado_de_siembra='CAÑA NO NACIDA', obs=None, fecha_actualizacion='2022-08-05 20:28:14.537279+00:00', amigo_id='d58edc61ab55410383b20fc052778f92', obs_2=None), lote(prop_ref_lote='b3a6e27c23d848bc9bba52c9730cc338', geometria='0106000020E61000000100000001030000000100000018000000A132593739A74FC0200835E8F0EF30C07C53477D48A74FC00F74FE3740F030C06CA45B655CA74FC0E71C3C139AF030C08B8A389D64A74FC038328FFCC1F030C0472DDED968A74FC02E4613DED4F030C06C5A290472A74FC00CE544BB0AF130C09B62C4F473A74FC05031732612F130C0211A828879A74FC0ACBC2E0D0DF130C0090154CC9CA74FC0FE96A542E1F030C017CEA1C5A3A74FC0F01D5168DDF030C0DB83F26EBAA74FC024108624C8F030C0975DD557E7A74FC030769D0E83F030C02002300D03A84FC0ECC2EDDA5DF030C0FA9CBB5D2FA84FC0C01770E01FF030C0120A5BFD22A84FC02543E966DAEF30C0D965AEC21CA84FC027B9686DBFEF30C0FEDC2B4E10A84FC0C1B22D5E87EF30C07526DFEAFDA74FC01C0C08361AEF30C057D2BA4DF0A74FC02BE7432B2EEF30C03FA8B308DFA74FC048F9AE2945EF30C076DCEDFFC1A74FC05EDA54D86CEF30C0BADCAE49A4A74FC0E3D900828DEF30C0A81BD4ED77A74FC0C0BE9902B7EF30C0A132593739A74FC0200835E8F0EF30C0', fecha_registro='2022-05-28 13:57:53+00:00', lote='L4', superficie=35.25, textura='FY', lote_semillero=None, variedad_semillero='NA 56-26', variedad_sugerida='NA 56-26', estado_semillero='BUENO', mes_siembra='MAYO', variedad_sembrada='RBB 77-26', fecha_siembra='2022-05-19 17:08:53+00:00', estado_de_siembra='CAÑA NACIDA', obs=None, fecha_actualizacion='2022-08-05 20:27:07.754628+00:00', amigo_id='91e67bb58c294aa9aafed4bf4b782cea', obs_2=None), lote(prop_ref_lote='b3a6e27c23d848bc9bba52c9730cc338', geometria='0106000020E61000000100000001030000000100000005000000D8D9FF42B2A74FC050C645E3CCF130C0A43C90505AA74FC050F7556921F230C006593EEF3AA74FC0E0FC24F0C8F130C0FAB642ED8DA74FC03C6EBC9846F130C0D8D9FF42B2A74FC050C645E3CCF130C0', fecha_registro='2022-08-05 17:14:52+00:00', lote='L8', superficie=7.22, textura='F', lote_semillero=None, variedad_semillero=None, variedad_sugerida=None, estado_semillero=None, mes_siembra=None, variedad_sembrada='UCG 90-20', fecha_siembra='2022-05-17 17:14:37+00:00', estado_de_siembra='CAÑA NO NACIDA', obs=None, fecha_actualizacion='2022-08-05 20:28:03.375516+00:00', amigo_id='d218d3c5381a4129b5dcfd25eeb5d7b0', obs_2=None), lote(prop_ref_lote='b3a6e27c23d848bc9bba52c9730cc338', geometria='0106000020E6100000010000000103000000010000000F000000BAE0581377A84FC0A0B1B53517F130C0368E96E46CA84FC024C40815EEF030C0AAD2E003FEA74FC024FD058C6AF130C03C5DB884E8A74FC05424855933F130C0AA8F93D011A84FC08C4809A0C0F030C0DAC32CC922A84FC0E87BAA0FACF030C0582E1D672CA84FC0444E880CB9F030C0B27E21E94EA84FC09CA30B1985F030C0C68B177742A84FC004936D1050F030C0BE54FF1007A84FC0048EA6E89CF030C0E681DC81DBA74FC0A8D2402DE2F030C05EB5B4B9A9A74FC07CF29D4725F130C018FFFCB38FA74FC0209A8E9543F130C04A0877E8B3A74FC03866EBC9C9F130C0BAE0581377A84FC0A0B1B53517F130C0', fecha_registro='2022-08-05 17:14:03+00:00', lote='L7', superficie=14.2, textura='F', lote_semillero=None, variedad_semillero=None, variedad_sugerida=None, estado_semillero=None, mes_siembra=None, variedad_sembrada='UCG 90-20', fecha_siembra='2022-05-19 17:13:43+00:00', estado_de_siembra='CAÑA NACIDA', obs=None, fecha_actualizacion='2022-08-05 17:14:03+00:00', amigo_id='2bd2ca7c5bc4451289d6fa2898107481', obs_2=None), lote(prop_ref_lote='b3a6e27c23d848bc9bba52c9730cc338', geometria='0106000020E6100000010000000103000000010000000A0000008C4A283838A74FC018CE0A2CEDEF30C028084E0C12A74FC0DC7BB99736EF30C06288EF2953A74FC0F478EFD1E2EE30C026AD410497A74FC09423E65786EE30C0408012BBC6A74FC08C14614233EF30C0F8057B52F5A74FC000B309A2FEEE30C0D022552EFDA74FC0D0EFD94216EF30C02CFE081EC1A74FC06CBEA9E267EF30C03C8BA0AEA1A74FC01C29CD538BEF30C08C4A283838A74FC018CE0A2CEDEF30C0', fecha_registro='2022-05-28 13:56:13+00:00', lote='L3', superficie=20.71, textura='FY', lote_semillero=None, variedad_semillero='UCG 90-20', variedad_sugerida='UCG 90-20', estado_semillero='BUENO', mes_siembra='MAYO', variedad_sembrada='NA 56-26', fecha_siembra='2022-05-17 17:09:18+00:00', estado_de_siembra='CAÑA NACIDA', obs=None, fecha_actualizacion='2022-08-05 20:40:40.532709+00:00', amigo_id='31dc53236a624ee2a39a580102493aef', obs_2=None)])]"
      ]
     },
     "execution_count": 10,
     "metadata": {},
     "output_type": "execute_result"
    }
   ],
   "source": [
    "propiedades"
   ]
  },
  {
   "cell_type": "markdown",
   "id": "88ab9ff1",
   "metadata": {},
   "source": [
    "## Fotos"
   ]
  },
  {
   "cell_type": "code",
   "execution_count": null,
   "id": "e45d5334",
   "metadata": {},
   "outputs": [],
   "source": [
    "# fotos genereles\n",
    "query_fotos = {'query': 'select s3_filename from gallery_39467 where source_amigo_id=\\'{source_amigo_id}\\''.format(source_amigo_id=credito.amigo_id)}\n",
    "fotos_filename = amigocloud.get('https://app.amigocloud.com/api/v1/projects/31360/sql', query_fotos)\n",
    "fotos_filename['data']\n",
    "fotos = []\n",
    "for file_name in fotos_filename['data']:\n",
    "    fotos.append(collections.namedtuple(\"foto\", file_name.keys())(*file_name.values()))\n",
    "print('end')"
   ]
  },
  {
   "cell_type": "code",
   "execution_count": null,
   "id": "3d14113a",
   "metadata": {},
   "outputs": [],
   "source": [
    "# fotos lotes\n",
    "fotos = []\n",
    "for propiedad in propiedades:\n",
    "    for lote in propiedad.lotes:\n",
    "        print(lote.lote, lote.amigo_id)\n",
    "        query_fotos = {'query': 'select source_amigo_id, s3_filename from gallery_39467 where source_amigo_id=\\'{source_amigo_id}\\''.format(source_amigo_id=lote.amigo_id)}\n",
    "        fotos_filename = amigocloud.get('https://app.amigocloud.com/api/v1/projects/31360/sql', query_fotos)\n",
    "        if fotos_filename['data'] != []:\n",
    "            dic = {'lote': lote.lote, 'file_name': fotos_filename['data'][0]['s3_filename']}\n",
    "            fotos.append(dic)\n",
    "\n",
    "fotos"
   ]
  },
  {
   "cell_type": "markdown",
   "id": "98de675d",
   "metadata": {},
   "source": [
    "## Recorrido de las propiedades y lotes"
   ]
  },
  {
   "cell_type": "code",
   "execution_count": null,
   "id": "19f2234e",
   "metadata": {},
   "outputs": [],
   "source": [
    "for prop in propiedades:\n",
    "    print(prop.propiedad)\n",
    "    for lote in prop.lotes:\n",
    "        print(lote.lote)"
   ]
  },
  {
   "cell_type": "markdown",
   "id": "1b085265",
   "metadata": {},
   "source": [
    "# Sección de planos"
   ]
  },
  {
   "cell_type": "markdown",
   "id": "62536632",
   "metadata": {},
   "source": [
    "# ------------------------------------------------------------------------------------------"
   ]
  },
  {
   "cell_type": "code",
   "execution_count": null,
   "id": "a136e28c",
   "metadata": {
    "scrolled": true
   },
   "outputs": [],
   "source": [
    "from shapely import wkb\n",
    "import geopandas\n",
    "import pandas as pd\n",
    "import contextily as ctx\n",
    "import matplotlib.pyplot as plt\n",
    "\n",
    "def convertir_wkb(wkb_data):\n",
    "    return wkb.loads(wkb_data, hex=True)[0]"
   ]
  },
  {
   "cell_type": "code",
   "execution_count": null,
   "id": "d2a3aed1",
   "metadata": {},
   "outputs": [],
   "source": [
    "i = 0\n",
    "lista_planos = []\n",
    "ruta = ''\n",
    "for propiedad in propiedades:\n",
    "    i = i + 1\n",
    "    lotes_lista = []\n",
    "    for lote in propiedad.lotes:\n",
    "        lotes_lista.append(lote._asdict())\n",
    "    df = pd.DataFrame(lotes_lista)\n",
    "    df['geometria'] = df['geometria'].apply(convertir_wkb)\n",
    "\n",
    "    #Convertir a GeoDataFrame\n",
    "    data = geopandas.GeoDataFrame(df, geometry='geometria')\n",
    "    #data\n",
    "    #ctx.add_basemap(ax, source=ctx.providers.Esri.WorldImagery)\n",
    "\n",
    "    data['coords'] = data['geometria'].apply(lambda x: x.representative_point().coords[:])\n",
    "    data['coords'] = [coords[0] for coords in data['coords']]\n",
    "\n",
    "    data.crs = \"EPSG:4326\"\n",
    "    data = data.to_crs(epsg=3857)\n",
    "\n",
    "    \n",
    "    fig = plt.figure(i, figsize=(20,20))\n",
    "    #fig = plt.figure(1)\n",
    "    ax = None\n",
    "    ax = fig.add_subplot()\n",
    "\n",
    "    #data.set_crs(epsg=4326, inplace=True)\n",
    "\n",
    "    data.apply(lambda x: ax.annotate(text=x.lote + ' \\n' + str(x.superficie) + ' ha', xy=x.geometria.centroid.coords[0], ha='center', va='center', color='black', fontsize=12, weight=1000, bbox=dict(facecolor=(1,1,1,0.3), edgecolor='none', pad=0)), axis=1);\n",
    "\n",
    "    #data.boundary.plot(ax=ax, color=(0,0,0,0), linewidth=0)\n",
    "\n",
    "    #data = data.to_crs(epsg=3857)\n",
    "\n",
    "    minx, miny, maxx, maxy = data.total_bounds\n",
    "    ax.set_xlim(minx - 500, maxx + 500)\n",
    "    ax.set_ylim(miny - 400, maxy + 400)\n",
    "\n",
    "    data.plot(ax=ax, edgecolor='r', facecolor=(0,0,0,0), linewidth=2, figsize=(20,20))\n",
    "    #data.plot(ax=ax, edgecolor='r', facecolor=(0,0,0,0), linewidth=2)\n",
    "    \n",
    "    ctx.add_basemap(ax, source=ctx.providers.Esri.WorldImagery)\n",
    "    ax.set_axis_off()\n",
    "    ax.set_title(str(propiedad.propiedad), fontsize=20)\n",
    "    ruta = 'planos/' + str(credito.amigo_id) + '_' + str(propiedad.amigo_id) + '.jpeg'\n",
    "    lista_planos.append(ruta)\n",
    "    fig.savefig(ruta, dpi = 300, bbox_inches='tight')\n",
    "    del fig\n",
    "print('end')"
   ]
  },
  {
   "cell_type": "code",
   "execution_count": null,
   "id": "e2df25f5",
   "metadata": {},
   "outputs": [],
   "source": [
    "fotos"
   ]
  },
  {
   "cell_type": "code",
   "execution_count": null,
   "id": "48e765f2",
   "metadata": {},
   "outputs": [],
   "source": [
    "from docxtpl import DocxTemplate\n",
    "import docxtpl\n",
    "from docx.shared import Mm\n",
    "\n",
    "import requests\n",
    "\n",
    "doc = DocxTemplate(\"templates/template_word_1ra.docx\")\n",
    "\n",
    "#generar lista de InlineImage de planos \n",
    "lista_InlineImage = []\n",
    "for plano in lista_planos:\n",
    "    lista_InlineImage.append(docxtpl.InlineImage(doc, image_descriptor=plano, width=Mm(150)))\n",
    "\n",
    "#descargar fotos y generar lista InlineImage\n",
    "lista_fotos_inline = []\n",
    "for foto in fotos:\n",
    "    #response = requests.get(\"https://www-amigocloud.s3.amazonaws.com/gallery/\" + foto['file_name'])\n",
    "    response = requests.get(\"https://www-amigocloud.s3.amazonaws.com/gallery/\" + foto['file_name'])\n",
    "    file = open('fotos/' + foto['file_name'], \"wb\")\n",
    "    file.write(response.content)\n",
    "    file.close()\n",
    "    lista_fotos_inline.append({'foto': docxtpl.InlineImage(doc, image_descriptor='fotos/' + foto['file_name'], width=Mm(120)), 'lote': foto['lote']})\n",
    "\n",
    "firma_respon = None\n",
    "if credito.respon_1ra_insp == 'Rogelio Acuña Rodríguez':\n",
    "    firma_respon = docxtpl.InlineImage(doc, image_descriptor='templates/firma_rogelio.png', width=Mm(60))\n",
    "else:\n",
    "    firma_respon = docxtpl.InlineImage(doc, image_descriptor='templates/firma_jaldin.png', width=Mm(60))\n",
    "\n",
    "context = {'credito':credito, 'propiedades':propiedades, 'planos':lista_InlineImage, 'fotos':lista_fotos_inline, 'firma':firma_respon}\n",
    "\n",
    "doc.render(context)\n",
    "file_name = credito.canhero.replace(' / ', '_')\n",
    "doc.save('_' + file_name + '.docx')"
   ]
  }
 ],
 "metadata": {
  "kernelspec": {
   "display_name": "Python 3 (ipykernel)",
   "language": "python",
   "name": "python3"
  },
  "language_info": {
   "codemirror_mode": {
    "name": "ipython",
    "version": 3
   },
   "file_extension": ".py",
   "mimetype": "text/x-python",
   "name": "python",
   "nbconvert_exporter": "python",
   "pygments_lexer": "ipython3",
   "version": "3.11.3"
  }
 },
 "nbformat": 4,
 "nbformat_minor": 5
}
