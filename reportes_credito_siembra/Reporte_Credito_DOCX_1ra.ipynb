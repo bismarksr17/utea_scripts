{
 "cells": [
  {
   "cell_type": "markdown",
   "id": "8644d1bd",
   "metadata": {
    "tags": []
   },
   "source": [
    "## Parametros"
   ]
  },
  {
   "cell_type": "code",
   "execution_count": null,
   "id": "99f46eb8",
   "metadata": {},
   "outputs": [],
   "source": [
    "codigo_canhero = 40132"
   ]
  },
  {
   "cell_type": "markdown",
   "id": "efd45d64",
   "metadata": {},
   "source": [
    "## Librerias"
   ]
  },
  {
   "cell_type": "code",
   "execution_count": null,
   "id": "5cb5968b",
   "metadata": {},
   "outputs": [],
   "source": [
    "from werkzeug.wrappers import Request, Response\n",
    "#from flask import Flask, render_template\n",
    "from jinja2 import Template\n",
    "\n",
    "#from datetime import date\n",
    "from datetime import datetime, timedelta\n",
    "\n",
    "import collections\n",
    "from amigocloud import AmigoCloud\n",
    "\n",
    "from datetime import datetime"
   ]
  },
  {
   "cell_type": "markdown",
   "id": "9429e2a1",
   "metadata": {},
   "source": [
    "## Conectar a AmigoCloud"
   ]
  },
  {
   "cell_type": "code",
   "execution_count": null,
   "id": "b046e5ec-e53a-4681-b08b-5406ced2f306",
   "metadata": {},
   "outputs": [],
   "source": [
    "acceso = open('accesos/api.txt','r')\n",
    "api_token = acceso.readlines()[0]\n",
    "acceso.close()\n",
    "\n",
    "amigocloud = AmigoCloud(token=api_token)\n",
    "amigocloud"
   ]
  },
  {
   "cell_type": "markdown",
   "id": "c1e7f707",
   "metadata": {},
   "source": [
    "## Datos de crédito"
   ]
  },
  {
   "cell_type": "code",
   "execution_count": null,
   "id": "3c8f0c01",
   "metadata": {},
   "outputs": [],
   "source": [
    "query_credito = {'query': 'select * from dataset_282969 where cast(SPLIT_PART(canhero, \\'/\\', 1) as integer) = {cod_ca}'.format(cod_ca=codigo_canhero)}\n",
    "credito_select = amigocloud.get('https://app.amigocloud.com/api/v1/projects/31360/sql', query_credito)\n",
    "credito_data = credito_select['data'][0]\n",
    "credito_data['fecha_informe'] = (datetime.strptime(credito_data['fecha_1ra_insp'].split(' ')[0], '%Y-%m-%d') + timedelta(days=1)).strftime('%d/%m/%Y')\n",
    "credito_data['fecha_1ra_insp'] = datetime.strptime(credito_data['fecha_1ra_insp'].split(' ')[0], '%Y-%m-%d').strftime('%d/%m/%Y')\n",
    "credito = collections.namedtuple(\"credito\", credito_data.keys())(*credito_data.values())\n",
    "print('end')"
   ]
  },
  {
   "cell_type": "code",
   "execution_count": null,
   "id": "e49ecf6d-4c9f-4e23-9264-781eba0df1ac",
   "metadata": {},
   "outputs": [],
   "source": [
    "credito"
   ]
  },
  {
   "cell_type": "markdown",
   "id": "70323d19",
   "metadata": {},
   "source": [
    "## Datos de propiedades"
   ]
  },
  {
   "cell_type": "code",
   "execution_count": null,
   "id": "3496435d",
   "metadata": {},
   "outputs": [],
   "source": [
    "query_propiedades = {'query': 'select * from dataset_282968 where cre_ref_prop = \\'{cre_ref_prop}\\''.format(cre_ref_prop=credito.amigo_id)}\n",
    "propiedades_select = amigocloud.get('https://app.amigocloud.com/api/v1/projects/31360/sql', query_propiedades)\n",
    "propiedades_data = propiedades_select['data']\n",
    "print('end')"
   ]
  },
  {
   "cell_type": "code",
   "execution_count": null,
   "id": "dbb4f0ac-5c34-49f5-a414-bbc8db5dbf46",
   "metadata": {},
   "outputs": [],
   "source": [
    "propiedades_data"
   ]
  },
  {
   "cell_type": "markdown",
   "id": "4dcd1537",
   "metadata": {},
   "source": [
    "## Datos de lotes"
   ]
  },
  {
   "cell_type": "code",
   "execution_count": null,
   "id": "0c39d55e",
   "metadata": {},
   "outputs": [],
   "source": [
    "propiedades = []\n",
    "for prop in propiedades_data:\n",
    "    prop['lotes'] = []\n",
    "    query_lotes = {'query': 'select * from dataset_282975 where prop_ref_lote=\\'{prop_ref_lote}\\''.format(prop_ref_lote=prop['amigo_id'])}\n",
    "    lotes_select = amigocloud.get('https://app.amigocloud.com/api/v1/projects/31360/sql', query_lotes)\n",
    "    for lote_select in lotes_select['data']:\n",
    "        lote = collections.namedtuple(\"lote\", lote_select.keys())(*lote_select.values())\n",
    "        prop['lotes'].append(lote)\n",
    "    propiedades.append(collections.namedtuple(\"propiedad\", prop.keys())(*prop.values()))\n",
    "print('end')"
   ]
  },
  {
   "cell_type": "markdown",
   "id": "88ab9ff1",
   "metadata": {},
   "source": [
    "## Fotos"
   ]
  },
  {
   "cell_type": "code",
   "execution_count": null,
   "id": "e45d5334",
   "metadata": {},
   "outputs": [],
   "source": [
    "# fotos genereles\n",
    "query_fotos = {'query': 'select s3_filename from gallery_39467 where source_amigo_id=\\'{source_amigo_id}\\''.format(source_amigo_id=credito.amigo_id)}\n",
    "fotos_filename = amigocloud.get('https://app.amigocloud.com/api/v1/projects/31360/sql', query_fotos)\n",
    "fotos_filename['data']\n",
    "fotos = []\n",
    "for file_name in fotos_filename['data']:\n",
    "    fotos.append(collections.namedtuple(\"foto\", file_name.keys())(*file_name.values()))\n",
    "print('end')"
   ]
  },
  {
   "cell_type": "code",
   "execution_count": null,
   "id": "3d14113a",
   "metadata": {},
   "outputs": [],
   "source": [
    "# fotos lotes\n",
    "fotos = []\n",
    "for propiedad in propiedades:\n",
    "    for lote in propiedad.lotes:\n",
    "        print(lote.lote, lote.amigo_id)\n",
    "        query_fotos = {'query': 'select source_amigo_id, s3_filename from gallery_39467 where source_amigo_id=\\'{source_amigo_id}\\''.format(source_amigo_id=lote.amigo_id)}\n",
    "        fotos_filename = amigocloud.get('https://app.amigocloud.com/api/v1/projects/31360/sql', query_fotos)\n",
    "        if fotos_filename['data'] != []:\n",
    "            dic = {'lote': lote.lote, 'file_name': fotos_filename['data'][0]['s3_filename']}\n",
    "            fotos.append(dic)\n",
    "\n",
    "fotos"
   ]
  },
  {
   "cell_type": "markdown",
   "id": "98de675d",
   "metadata": {},
   "source": [
    "## Recorrido de las propiedades y lotes"
   ]
  },
  {
   "cell_type": "code",
   "execution_count": null,
   "id": "19f2234e",
   "metadata": {},
   "outputs": [],
   "source": [
    "for prop in propiedades:\n",
    "    print(prop.propiedad)\n",
    "    for lote in prop.lotes:\n",
    "        print(lote.lote)"
   ]
  },
  {
   "cell_type": "markdown",
   "id": "1b085265",
   "metadata": {},
   "source": [
    "# Sección de planos"
   ]
  },
  {
   "cell_type": "markdown",
   "id": "62536632",
   "metadata": {},
   "source": [
    "# ------------------------------------------------------------------------------------------"
   ]
  },
  {
   "cell_type": "code",
   "execution_count": null,
   "id": "a136e28c",
   "metadata": {
    "scrolled": true
   },
   "outputs": [],
   "source": [
    "from shapely import wkb\n",
    "import geopandas\n",
    "import pandas as pd\n",
    "import contextily as ctx\n",
    "import matplotlib.pyplot as plt\n",
    "\n",
    "def convertir_wkb(wkb_data):\n",
    "    return wkb.loads(wkb_data, hex=True)[0]"
   ]
  },
  {
   "cell_type": "code",
   "execution_count": null,
   "id": "d2a3aed1",
   "metadata": {},
   "outputs": [],
   "source": [
    "i = 0\n",
    "lista_planos = []\n",
    "ruta = ''\n",
    "for propiedad in propiedades:\n",
    "    i = i + 1\n",
    "    lotes_lista = []\n",
    "    for lote in propiedad.lotes:\n",
    "        lotes_lista.append(lote._asdict())\n",
    "    df = pd.DataFrame(lotes_lista)\n",
    "    df['geometria'] = df['geometria'].apply(convertir_wkb)\n",
    "\n",
    "    #Convertir a GeoDataFrame\n",
    "    data = geopandas.GeoDataFrame(df, geometry='geometria')\n",
    "    #data\n",
    "    #ctx.add_basemap(ax, source=ctx.providers.Esri.WorldImagery)\n",
    "\n",
    "    data['coords'] = data['geometria'].apply(lambda x: x.representative_point().coords[:])\n",
    "    data['coords'] = [coords[0] for coords in data['coords']]\n",
    "\n",
    "    data.crs = \"EPSG:4326\"\n",
    "    data = data.to_crs(epsg=3857)\n",
    "\n",
    "    \n",
    "    fig = plt.figure(i, figsize=(20,20))\n",
    "    #fig = plt.figure(1)\n",
    "    ax = None\n",
    "    ax = fig.add_subplot()\n",
    "\n",
    "    #data.set_crs(epsg=4326, inplace=True)\n",
    "\n",
    "    data.apply(lambda x: ax.annotate(text=x.lote + ' \\n' + str(x.superficie) + ' ha', xy=x.geometria.centroid.coords[0], ha='center', va='center', color='black', fontsize=12, weight=1000, bbox=dict(facecolor=(1,1,1,0.3), edgecolor='none', pad=0)), axis=1);\n",
    "\n",
    "    #data.boundary.plot(ax=ax, color=(0,0,0,0), linewidth=0)\n",
    "\n",
    "    #data = data.to_crs(epsg=3857)\n",
    "\n",
    "    minx, miny, maxx, maxy = data.total_bounds\n",
    "    ax.set_xlim(minx - 500, maxx + 500)\n",
    "    ax.set_ylim(miny - 400, maxy + 400)\n",
    "\n",
    "    data.plot(ax=ax, edgecolor='r', facecolor=(0,0,0,0), linewidth=2, figsize=(20,20))\n",
    "    #data.plot(ax=ax, edgecolor='r', facecolor=(0,0,0,0), linewidth=2)\n",
    "    \n",
    "    ctx.add_basemap(ax, source=ctx.providers.Esri.WorldImagery)\n",
    "    ax.set_axis_off()\n",
    "    ax.set_title(str(propiedad.propiedad), fontsize=20)\n",
    "    ruta = 'planos/' + str(credito.amigo_id) + '_' + str(propiedad.amigo_id) + '.jpeg'\n",
    "    lista_planos.append(ruta)\n",
    "    fig.savefig(ruta, dpi = 300, bbox_inches='tight')\n",
    "    del fig\n",
    "print('end')"
   ]
  },
  {
   "cell_type": "code",
   "execution_count": null,
   "id": "e2df25f5",
   "metadata": {},
   "outputs": [],
   "source": [
    "fotos"
   ]
  },
  {
   "cell_type": "code",
   "execution_count": null,
   "id": "48e765f2",
   "metadata": {},
   "outputs": [],
   "source": [
    "from docxtpl import DocxTemplate\n",
    "import docxtpl\n",
    "from docx.shared import Mm\n",
    "\n",
    "import requests\n",
    "\n",
    "doc = DocxTemplate(\"templates/template_word_1ra.docx\")\n",
    "\n",
    "#generar lista de InlineImage de planos \n",
    "lista_InlineImage = []\n",
    "for plano in lista_planos:\n",
    "    lista_InlineImage.append(docxtpl.InlineImage(doc, image_descriptor=plano, width=Mm(150)))\n",
    "\n",
    "#descargar fotos y generar lista InlineImage\n",
    "lista_fotos_inline = []\n",
    "for foto in fotos:\n",
    "    #response = requests.get(\"https://www-amigocloud.s3.amazonaws.com/gallery/\" + foto['file_name'])\n",
    "    response = requests.get(\"https://www-amigocloud.s3.amazonaws.com/gallery/\" + foto['file_name'])\n",
    "    file = open('fotos/' + foto['file_name'], \"wb\")\n",
    "    file.write(response.content)\n",
    "    file.close()\n",
    "    lista_fotos_inline.append({'foto': docxtpl.InlineImage(doc, image_descriptor='fotos/' + foto['file_name'], width=Mm(120)), 'lote': foto['lote']})\n",
    "\n",
    "firma_respon = None\n",
    "if credito.respon_1ra_insp == 'Rogelio Acuña Rodríguez':\n",
    "    firma_respon = docxtpl.InlineImage(doc, image_descriptor='templates/firma_rogelio.png', width=Mm(60))\n",
    "else:\n",
    "    firma_respon = docxtpl.InlineImage(doc, image_descriptor='templates/firma_jaldin.png', width=Mm(60))\n",
    "\n",
    "context = {'credito':credito, 'propiedades':propiedades, 'planos':lista_InlineImage, 'fotos':lista_fotos_inline, 'firma':firma_respon}\n",
    "\n",
    "doc.render(context)\n",
    "file_name = credito.canhero.replace(' / ', '_')\n",
    "doc.save('_' + file_name + '.docx')"
   ]
  }
 ],
 "metadata": {
  "kernelspec": {
   "display_name": "Python 3 (ipykernel)",
   "language": "python",
   "name": "python3"
  },
  "language_info": {
   "codemirror_mode": {
    "name": "ipython",
    "version": 3
   },
   "file_extension": ".py",
   "mimetype": "text/x-python",
   "name": "python",
   "nbconvert_exporter": "python",
   "pygments_lexer": "ipython3",
   "version": "3.7.11"
  }
 },
 "nbformat": 4,
 "nbformat_minor": 5
}
