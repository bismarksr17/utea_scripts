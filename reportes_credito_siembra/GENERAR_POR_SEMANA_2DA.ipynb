{
 "cells": [
  {
   "cell_type": "code",
   "execution_count": 3,
   "id": "665919a4-6184-4280-8c4c-64588f9131d6",
   "metadata": {},
   "outputs": [],
   "source": [
    "from werkzeug.wrappers import Request, Response\n",
    "#from flask import Flask, render_template\n",
    "from jinja2 import Template\n",
    "\n",
    "#from datetime import date\n",
    "from datetime import datetime, timedelta\n",
    "\n",
    "import collections\n",
    "from amigocloud import AmigoCloud\n",
    "\n",
    "from datetime import datetime\n",
    "\n",
    "from shapely import wkb\n",
    "import geopandas\n",
    "import pandas as pd\n",
    "import contextily as ctx\n",
    "import matplotlib.pyplot as plt\n",
    "\n",
    "from docxtpl import DocxTemplate\n",
    "import docxtpl\n",
    "from docx.shared import Mm\n",
    "import requests\n",
    "\n",
    "def convertir_wkb(wkb_data):\n",
    "    return wkb.loads(wkb_data, hex=True)[0]"
   ]
  },
  {
   "cell_type": "code",
   "execution_count": 4,
   "id": "f78ec737-093c-44bb-a782-1af54be4a65f",
   "metadata": {},
   "outputs": [
    {
     "name": "stderr",
     "output_type": "stream",
     "text": [
      "WARNING:socketIO-client:app.amigocloud.com:443/v2_socket.io/socket.io [connection error] recv disconnected by SSL ([SSL: SSLV3_ALERT_BAD_RECORD_MAC] sslv3 alert bad record mac (_ssl.c:2570))\n"
     ]
    },
    {
     "data": {
      "text/plain": [
       "<amigocloud.amigocloud.AmigoCloud at 0x2068cb00148>"
      ]
     },
     "execution_count": 4,
     "metadata": {},
     "output_type": "execute_result"
    }
   ],
   "source": [
    "# CONECTAR A AMIGOCLOUD\n",
    "acceso = open('../api_key/api.key','r')\n",
    "api_token = acceso.readlines()[0]\n",
    "acceso.close()\n",
    "amigocloud = AmigoCloud(token=api_token)\n",
    "amigocloud"
   ]
  },
  {
   "cell_type": "code",
   "execution_count": 5,
   "id": "671335c0-f848-4ced-9199-d1000c19c39b",
   "metadata": {},
   "outputs": [],
   "source": [
    "def generar_reporte(codigo_canhero):\n",
    "    # EXTRAER DATOS DE CREDITO\n",
    "    query_credito = {'query': 'select * from dataset_282969 where cast(SPLIT_PART(canhero, \\'/\\', 1) as integer) = {cod_ca}'.format(cod_ca=codigo_canhero)}\n",
    "    credito_select = amigocloud.get('https://app.amigocloud.com/api/v1/projects/31360/sql', query_credito)\n",
    "    credito_data = credito_select['data'][0]\n",
    "    credito_data['fecha_informe'] = datetime.strptime(credito_data['fecha_2da_insp'].split(' ')[0], '%Y-%m-%d').strftime('%d/%m/%Y')\n",
    "    credito_data['fecha_2da_insp'] = datetime.strptime(credito_data['fecha_2da_insp'].split(' ')[0], '%Y-%m-%d').strftime('%d/%m/%Y')\n",
    "    credito = collections.namedtuple(\"credito\", credito_data.keys())(*credito_data.values())\n",
    "\n",
    "    # EXTRAER DATOS DE PROPIEDADES\n",
    "    # query_propiedades = {'query': 'select * from dataset_282968 where cre_ref_prop = \\'{cre_ref_prop}\\''.format(cre_ref_prop=credito.amigo_id)}\n",
    "    query_propiedades = {'query': 'select prop.propiedad, prop.amigo_id from dataset_282968 prop inner join dataset_282975 lotes on lotes.prop_ref_lote=prop.amigo_id where cre_ref_prop=\\'{cre_ref_prop}\\' and (lotes.estado_de_siembra=\\'CAÑA NACIDA\\' or lotes.estado_de_siembra=\\'CAÑA NO NACIDA\\') group by prop.propiedad, prop.amigo_id'.format(cre_ref_prop=credito.amigo_id)}\n",
    "    propiedades_select = amigocloud.get('https://app.amigocloud.com/api/v1/projects/31360/sql', query_propiedades)    \n",
    "    \n",
    "    propiedades_data = propiedades_select['data']\n",
    "\n",
    "    # EXTRAER DATOS DE LOTES\n",
    "    propiedades = []\n",
    "    for prop in propiedades_data:\n",
    "        prop['lotes'] = []\n",
    "        query_lotes = {'query': 'select * from dataset_282975 where prop_ref_lote=\\'{prop_ref_lote}\\' and (estado_de_siembra=\\'CAÑA NACIDA\\' or estado_de_siembra=\\'CAÑA NO NACIDA\\')'.format(prop_ref_lote=prop['amigo_id'])}\n",
    "        lotes_select = amigocloud.get('https://app.amigocloud.com/api/v1/projects/31360/sql', query_lotes)\n",
    "        for lote_select in lotes_select['data']:\n",
    "            lote = collections.namedtuple(\"lote\", lote_select.keys())(*lote_select.values())\n",
    "            prop['lotes'].append(lote)\n",
    "        propiedades.append(collections.namedtuple(\"propiedad\", prop.keys())(*prop.values()))\n",
    "\n",
    "    # EXTRAER FOTOS\n",
    "    fotos = []\n",
    "    for propiedad in propiedades:\n",
    "        for lote in propiedad.lotes:\n",
    "            print(lote.lote, lote.amigo_id)\n",
    "            query_fotos = {'query': 'select source_amigo_id, s3_filename from gallery_41588 where source_amigo_id=\\'{source_amigo_id}\\''.format(source_amigo_id=lote.amigo_id)}\n",
    "            fotos_filename = amigocloud.get('https://app.amigocloud.com/api/v1/projects/31360/sql', query_fotos)\n",
    "            if fotos_filename['data'] != []:\n",
    "                dic = {'lote': lote.lote, 'file_name': fotos_filename['data'][0]['s3_filename']}\n",
    "                fotos.append(dic)\n",
    "\n",
    "    # GENERERAR PLANOS\n",
    "    i = 0\n",
    "    lista_planos = []\n",
    "    for propiedad in propiedades:\n",
    "        i = i + 1\n",
    "        lista_planos.append(generar_plano(propiedad, i))\n",
    "\n",
    "\n",
    "    # GENERAR REPORTE\n",
    "    doc = DocxTemplate(\"templates/template_word_2da.docx\")\n",
    "    #generar lista de InlineImage de planos \n",
    "    lista_InlineImage = []\n",
    "    for plano in lista_planos:\n",
    "        lista_InlineImage.append(docxtpl.InlineImage(doc, image_descriptor=plano, width=Mm(150)))\n",
    "    #descargar fotos y generar lista InlineImage\n",
    "    lista_fotos_inline = []\n",
    "    for foto in fotos:\n",
    "        #response = requests.get(\"https://www-amigocloud.s3.amazonaws.com/gallery/\" + foto['file_name'])\n",
    "        response = requests.get(\"https://www-amigocloud.s3.amazonaws.com/gallery/\" + foto['file_name'])\n",
    "        file = open('fotos/' + foto['file_name'], \"wb\")\n",
    "        file.write(response.content)\n",
    "        file.close()\n",
    "        lista_fotos_inline.append({'foto': docxtpl.InlineImage(doc, image_descriptor='fotos/' + foto['file_name'], width=Mm(120)), 'lote': foto['lote']})\n",
    "    firma_respon = None\n",
    "    if credito.respon_1ra_insp == 'Juan Pablo Jaldin Duran':\n",
    "        firma_respon = docxtpl.InlineImage(doc, image_descriptor='templates/firma_jaldin.png', width=Mm(60))\n",
    "    else:\n",
    "        firma_respon = docxtpl.InlineImage(doc, image_descriptor='templates/firma_rogelio.png', width=Mm(60))\n",
    "    context = {'credito':credito, 'propiedades':propiedades, 'planos':lista_InlineImage, 'fotos':lista_fotos_inline, 'firma':firma_respon}\n",
    "    doc.render(context)\n",
    "    file_name = credito.canhero.replace(' / ', '_')\n",
    "    doc.save('informes/_' + file_name + '.docx')"
   ]
  },
  {
   "cell_type": "code",
   "execution_count": 6,
   "id": "f90ffde3-b794-45c0-a48e-f69a592752af",
   "metadata": {},
   "outputs": [],
   "source": [
    "def generar_plano(propiedad, i):\n",
    "    lotes_lista = []\n",
    "    for lote in propiedad.lotes:\n",
    "        lotes_lista.append(lote._asdict())\n",
    "    df = pd.DataFrame(lotes_lista)\n",
    "    df['geometria'] = df['geometria'].apply(convertir_wkb)\n",
    "\n",
    "    #Convertir a GeoDataFrame\n",
    "    data = geopandas.GeoDataFrame(df, geometry='geometria')\n",
    "    #data\n",
    "    #ctx.add_basemap(ax, source=ctx.providers.Esri.WorldImagery)\n",
    "\n",
    "    data['coords'] = data['geometria'].apply(lambda x: x.representative_point().coords[:])\n",
    "    data['coords'] = [coords[0] for coords in data['coords']]\n",
    "\n",
    "    data.crs = \"EPSG:4326\"\n",
    "    data = data.to_crs(epsg=3857)\n",
    "\n",
    "    \n",
    "    fig = plt.figure(i, figsize=(20,20))\n",
    "    #fig = plt.figure(1)\n",
    "    ax = None\n",
    "    ax = fig.add_subplot()\n",
    "\n",
    "    #data.set_crs(epsg=4326, inplace=True)\n",
    "\n",
    "    data.apply(lambda x: ax.annotate(text=x.lote + ' \\n' + str(x.superficie) + ' ha', xy=x.geometria.centroid.coords[0], ha='center', va='center', color='black', fontsize=12, weight=1000, bbox=dict(facecolor=(1,1,1,0.3), edgecolor='none', pad=0)), axis=1);\n",
    "\n",
    "    #data.boundary.plot(ax=ax, color=(0,0,0,0), linewidth=0)\n",
    "\n",
    "    #data = data.to_crs(epsg=3857)\n",
    "\n",
    "    minx, miny, maxx, maxy = data.total_bounds\n",
    "    ax.set_xlim(minx - 500, maxx + 500)\n",
    "    ax.set_ylim(miny - 400, maxy + 400)\n",
    "\n",
    "    data.plot(ax=ax, edgecolor='r', facecolor=(0,0,0,0), linewidth=2, figsize=(20,20))\n",
    "    #data.plot(ax=ax, edgecolor='r', facecolor=(0,0,0,0), linewidth=2)\n",
    "    \n",
    "    ctx.add_basemap(ax, source=ctx.providers.Esri.WorldImagery)\n",
    "    ax.set_axis_off()\n",
    "    ax.set_title(str(propiedad.propiedad), fontsize=20)\n",
    "    ruta = 'planos/' + str(propiedad.amigo_id) + '.jpeg'\n",
    "    fig.savefig(ruta, dpi = 300, bbox_inches='tight')\n",
    "    plt.clf()\n",
    "    return ruta"
   ]
  },
  {
   "cell_type": "code",
   "execution_count": 7,
   "id": "087099cc-c534-4e27-bcce-15a11a372167",
   "metadata": {},
   "outputs": [],
   "source": [
    "semana = 'S29'\n",
    "query = {'query': 'select split_part(canhero, \\' / \\', 1) cod, split_part(canhero, \\' / \\', 2) nom from dataset_282969 where semana_2da = \\'{sem}\\''.format(sem=semana)}\n",
    "project = 'https://app.amigocloud.com/api/v1/projects/31360/sql'\n",
    "select = amigocloud.get(project, query)\n",
    "data = select['data']"
   ]
  },
  {
   "cell_type": "code",
   "execution_count": 8,
   "id": "9849c6ee-9d80-404e-81d0-28b79513cc20",
   "metadata": {},
   "outputs": [
    {
     "data": {
      "text/plain": [
       "[{'cod': '17678', 'nom': 'ESPINOZA JUANA MAIDA DE'},\n",
       " {'cod': '40251', 'nom': 'AMURRIO MELGAREJO JUAN GABRIEL'},\n",
       " {'cod': '4834', 'nom': 'GUTIERREZ MARTHA S. AGUILERA DE'},\n",
       " {'cod': '7494', 'nom': 'LINARES S. AIDEE'},\n",
       " {'cod': '5407', 'nom': 'HUANCA MENCHAQUE HERNAN'},\n",
       " {'cod': '7821', 'nom': 'LEON MONDAQUE ELISA'},\n",
       " {'cod': '10816', 'nom': 'PIEROLA VACA FERNANDO'},\n",
       " {'cod': '15085', 'nom': 'CRUZ RUTH JAQUELIN B. DE'},\n",
       " {'cod': '3415', 'nom': 'ESPINOZA VILLEGAS GERARDO'},\n",
       " {'cod': '7754', 'nom': 'LEON MONDAQUE ROLY'},\n",
       " {'cod': '5448', 'nom': 'HUANCA MENCHAQUE ROLY'},\n",
       " {'cod': '7385', 'nom': 'LINARES SALVATIERRA MARY LUZ'},\n",
       " {'cod': '5401', 'nom': 'HUALLPA CARDENAS CARLOS'},\n",
       " {'cod': '41554', 'nom': 'LEDEZMA SALAZAR RICHARD JIMMY'},\n",
       " {'cod': '2677', 'nom': 'CLAROS VASQUEZ KEVIN F.'},\n",
       " {'cod': '2505', 'nom': 'CRUZ BARRIENTOS CRISTIAN F.'},\n",
       " {'cod': '1988', 'nom': 'CLAROS CADIMA JHONNY'},\n",
       " {'cod': '1979', 'nom': 'CLAROS CADIMA EDMUNDO'}]"
      ]
     },
     "execution_count": 8,
     "metadata": {},
     "output_type": "execute_result"
    }
   ],
   "source": [
    "data"
   ]
  },
  {
   "cell_type": "code",
   "execution_count": 9,
   "id": "18543415-df34-4ac7-9299-e5eee01b5c69",
   "metadata": {},
   "outputs": [],
   "source": [
    "# lista = [430, 40270, 13132, 874, 41966, 11798, 41544, 14993, 644, 1068, 13763, 2220, 1858, 2719]\n",
    "lista = [i['cod'] for i in data]"
   ]
  },
  {
   "cell_type": "code",
   "execution_count": 10,
   "id": "c6a125e1-2886-4ef1-ab90-26be02d91dbf",
   "metadata": {},
   "outputs": [
    {
     "data": {
      "text/plain": [
       "['17678',\n",
       " '40251',\n",
       " '4834',\n",
       " '7494',\n",
       " '5407',\n",
       " '7821',\n",
       " '10816',\n",
       " '15085',\n",
       " '3415',\n",
       " '7754',\n",
       " '5448',\n",
       " '7385',\n",
       " '5401',\n",
       " '41554',\n",
       " '2677',\n",
       " '2505',\n",
       " '1988',\n",
       " '1979']"
      ]
     },
     "execution_count": 10,
     "metadata": {},
     "output_type": "execute_result"
    }
   ],
   "source": [
    "lista"
   ]
  },
  {
   "cell_type": "code",
   "execution_count": 11,
   "id": "48d79f54-6869-432f-8076-3a928eff1753",
   "metadata": {},
   "outputs": [
    {
     "name": "stdout",
     "output_type": "stream",
     "text": [
      "L4.1 c57cbb3f38494c25b6beab00ad46305d\n",
      "L4 273eaecaf8cf4c8685cd85177ab3a9b1\n",
      "L1 2243df7dde404bb492a5a6f9f467012c\n",
      "L3 d065e06a405944a5b4932602de74d058\n",
      "====================== 17678\n",
      "L3 37a1c20bf76346b48d2801f7a2675e44\n",
      "L1 5be5e9608ef0497a9fe369c6b0cba812\n",
      "L2 8f5bf5d1681c4292861d51fe6c5e7bac\n",
      "====================== 40251\n",
      "L8.1 a4b9512edeff4e61b798f91d4064b56d\n",
      "L3 d9a658e6e6084612bf4fed7d57214e51\n",
      "L9.2 8c14479d7ec64f76b222ec35bf25ebd1\n",
      "L8.4 39759daf9e17413d8e7a49d8240c42aa\n",
      "L7 352640df33fa4c048476d6af0b971cf2\n",
      "====================== 4834\n",
      "L7 d590c698ae3648088a9af8db23ef2932\n",
      "L2 59a4c642ebe949149cfa58b1130cfc61\n",
      "L15.2 461d9467b286464982ca8312b20da575\n",
      "====================== 7494\n",
      "L1.2 f9155d561b7441ed9bfce4fa5577bbb9\n",
      "====================== 5407\n",
      "L1.2 141141f6bfe145c3b877f60698d2b858\n",
      "L1.8 cb5c6401f7164f4780231dc4816c41d7\n",
      "L5 547219fea86746cb8badaea9769795c4\n",
      "L1.3 81399ed72bb74adfa0327ae7e0198ded\n",
      "L7 6baeb75c3f844991a3a70a817163ea0f\n",
      "L8 844628f740be443f9db86b465c229522\n",
      "L12.2 f99faa3a65a74417b309881713afaab8\n",
      "L1.1 f36a2b055b2349c3bf5d68b892525c5a\n",
      "L3 85707b0cda1d49569ef3fe69ad824f44\n",
      "L12.4 941de39cb60147cd8fc4f094902161af\n",
      "L9 3d182cf50a0b4fe7b63ab32d15622382\n",
      "L11 13dea7db478541ccb6862733e176f4da\n",
      "L4 c57b33c61e3e48f798775c4d2ecb65ce\n",
      "L10 ca8638e153234a2981488c3b77eba7eb\n",
      "L12.1 90c43a44e8c74b5196607da02b25e4c3\n",
      "L12.3 bfd3565e0b5c49dea3d74d177b7b21a1\n",
      "L12.5 0b2aba9bc7514aeead1c6bc8a53fd78e\n",
      "L12 91aef4877de44e0091b4633a243ab6d3\n",
      "L1.5 b5c0487bc71240d2b00064f0663fe6eb\n",
      "L1.4 bc8d984ce4734b4c8d24c645e34f9ed7\n",
      "L6 c315e73dabab4ffcb9d11a8a7f4caf2c\n",
      "L2 9c839e006a0f4e049aeba57d31da37a9\n",
      "L1.7 bf327af670f64c8294dd42f92adcd14f\n",
      "L1.6 b583f2463cd44f478cbe6acaa6f24a47\n",
      "====================== 7821\n",
      "L1 0599c2b824ab4f93aef01471511eca0a\n",
      "L6 91e8faa3d5cd43a6b87f1e77f5cda7b1\n",
      "====================== 10816\n",
      "L2 ffd41f25d446405a89d3edba594f3aab\n",
      "L1 003aaa6d532148ebbd88b57a5d262500\n",
      "====================== 15085\n",
      "L5 122cf7d2067c4797ad48a328458cbf91\n",
      "L2 b2f7eb89e1ba470b8e4abb14b99132f6\n",
      "====================== 3415\n",
      "L5 db976e7260e941d8b187509cbe1e463a\n",
      "L7 b866e0d1b8c540c9bd36a1e4d896247d\n",
      "====================== 7754\n",
      "L1 ef7be2de51bb43d1ad609c6ad7f85c1b\n",
      "L2 fd81630b96ed4c2da70dd65ff81765ef\n",
      "L3 b727de97da0c49ac9a0dd4b03afbdded\n",
      "L3.1 2f69218007ad4ea8aa1e60735f2ee85a\n",
      "L2.1 4eb9f87a9bbd47dfa4090835bbec0ced\n",
      "====================== 5448\n",
      "L2 234b3117bf954da38e548368fed34b06\n",
      "L1 9cf769040f23429b835472c922787f8a\n",
      "====================== 7385\n",
      "L3 e76f78f261454229ba1aa162d5989e5e\n",
      "L1 82557349840d416cbc8a35e22f7cc2ea\n",
      "L5 e8d6b5e361964413a43dff59728a0e2d\n",
      "====================== 5401\n",
      "L3 27767b46d21f449db990b83a64adbd76\n",
      "L4 1e92dc96725a4863ae03768085316cf0\n",
      "L2 25b394989d1b4f46840e8fbc869849f3\n",
      "L1 6b6021b98ebf4a248c83b1103633c147\n",
      "====================== 41554\n",
      "L10.1 fd7c83879b8449928038d40d544142d3\n",
      "====================== 2677\n",
      "L13.1 6f4c28b32b9946b2855edd25c48599bf\n",
      "L3.3.1 6af8a66978424a15b1ac5d3c4d4e42a0\n",
      "====================== 2505\n",
      "L1 04119a028773421594a462aa9f8511bf\n",
      "====================== 1988\n",
      "L8.5 db3529b327234241bc0e6fcbe42e0a9d\n",
      "L10 407035b586364079a8f24980d53800a6\n",
      "L3.1.1 d51f1a0434db423dae1b017fb79e223f\n",
      "L8.7 9de8034729f649fca7bf7efba7d634d1\n",
      "L8.4 f209c08676e640bb9772289c44257a6e\n",
      "L7.12 28fcb3083654449ab95dc6cbd3390b05\n",
      "L8.2 fa9b6a16b9c34b259e143ff98e87bd0d\n",
      "L7.13 4a3532c018a546d3b0332fa78bca3b7a\n",
      "L8.1 8d8cbf5c4e1d4218858ec840b79ebc0e\n",
      "L8.3 b2d3c26ead704dee84ab5f6ff16ea6bd\n",
      "L8.6 2a45d956a35d4a2b8e6cbcf318199764\n",
      "====================== 1979\n"
     ]
    },
    {
     "data": {
      "text/plain": [
       "<Figure size 1440x1440 with 0 Axes>"
      ]
     },
     "metadata": {},
     "output_type": "display_data"
    },
    {
     "data": {
      "text/plain": [
       "<Figure size 1440x1440 with 0 Axes>"
      ]
     },
     "metadata": {},
     "output_type": "display_data"
    },
    {
     "data": {
      "text/plain": [
       "<Figure size 1440x1440 with 0 Axes>"
      ]
     },
     "metadata": {},
     "output_type": "display_data"
    }
   ],
   "source": [
    "for i in lista:\n",
    "    generar_reporte(i)\n",
    "    print('======================', i)"
   ]
  }
 ],
 "metadata": {
  "kernelspec": {
   "display_name": "Python 3 (ipykernel)",
   "language": "python",
   "name": "python3"
  },
  "language_info": {
   "codemirror_mode": {
    "name": "ipython",
    "version": 3
   },
   "file_extension": ".py",
   "mimetype": "text/x-python",
   "name": "python",
   "nbconvert_exporter": "python",
   "pygments_lexer": "ipython3",
   "version": "3.7.11"
  }
 },
 "nbformat": 4,
 "nbformat_minor": 5
}
