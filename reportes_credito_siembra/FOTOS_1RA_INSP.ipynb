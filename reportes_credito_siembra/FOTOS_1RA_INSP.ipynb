{
 "cells": [
  {
   "cell_type": "markdown",
   "id": "efd45d64",
   "metadata": {},
   "source": [
    "## Librerias"
   ]
  },
  {
   "cell_type": "code",
   "execution_count": 1,
   "id": "5cb5968b",
   "metadata": {},
   "outputs": [
    {
     "name": "stderr",
     "output_type": "stream",
     "text": [
      "C:\\Users\\Bismar\\.conda\\envs\\utea_reportes\\lib\\importlib\\_bootstrap.py:219: RuntimeWarning: greenlet.greenlet size changed, may indicate binary incompatibility. Expected 144 from C header, got 152 from PyObject\n",
      "  return f(*args, **kwds)\n",
      "C:\\Users\\Bismar\\.conda\\envs\\utea_reportes\\lib\\importlib\\_bootstrap.py:219: RuntimeWarning: greenlet.greenlet size changed, may indicate binary incompatibility. Expected 144 from C header, got 152 from PyObject\n",
      "  return f(*args, **kwds)\n",
      "C:\\Users\\Bismar\\.conda\\envs\\utea_reportes\\lib\\importlib\\_bootstrap.py:219: RuntimeWarning: greenlet.greenlet size changed, may indicate binary incompatibility. Expected 144 from C header, got 152 from PyObject\n",
      "  return f(*args, **kwds)\n",
      "C:\\Users\\Bismar\\.conda\\envs\\utea_reportes\\lib\\importlib\\_bootstrap.py:219: RuntimeWarning: greenlet.greenlet size changed, may indicate binary incompatibility. Expected 144 from C header, got 152 from PyObject\n",
      "  return f(*args, **kwds)\n"
     ]
    }
   ],
   "source": [
    "from werkzeug.wrappers import Request, Response\n",
    "#from flask import Flask, render_template\n",
    "from jinja2 import Template\n",
    "\n",
    "#from datetime import date\n",
    "from datetime import datetime, timedelta\n",
    "\n",
    "import collections\n",
    "from amigocloud import AmigoCloud\n",
    "\n",
    "from datetime import datetime"
   ]
  },
  {
   "cell_type": "markdown",
   "id": "9429e2a1",
   "metadata": {},
   "source": [
    "## Conectar a AmigoCloud"
   ]
  },
  {
   "cell_type": "code",
   "execution_count": 2,
   "id": "b046e5ec-e53a-4681-b08b-5406ced2f306",
   "metadata": {},
   "outputs": [
    {
     "data": {
      "text/plain": [
       "<amigocloud.amigocloud.AmigoCloud at 0x1e2469e01c8>"
      ]
     },
     "execution_count": 2,
     "metadata": {},
     "output_type": "execute_result"
    }
   ],
   "source": [
    "# CONECTAR A AMIGOCLOUD\n",
    "acceso = open('../api_key/api.key','r')\n",
    "api_token = acceso.readlines()[0]\n",
    "acceso.close()\n",
    "amigocloud = AmigoCloud(token=api_token)\n",
    "amigocloud"
   ]
  },
  {
   "cell_type": "markdown",
   "id": "c1e7f707",
   "metadata": {},
   "source": [
    "## Datos de crédito"
   ]
  },
  {
   "cell_type": "code",
   "execution_count": 3,
   "id": "685262ce-7bbb-4469-92f2-eb113a0d5cba",
   "metadata": {},
   "outputs": [],
   "source": [
    "semana = 'S08'"
   ]
  },
  {
   "cell_type": "code",
   "execution_count": 4,
   "id": "3c8f0c01",
   "metadata": {},
   "outputs": [
    {
     "name": "stdout",
     "output_type": "stream",
     "text": [
      "end\n"
     ]
    }
   ],
   "source": [
    "query = {'query': 'select insp.canhero, prop.propiedad, lote.lote, gal.s3_filename, gal.amigocloud_url foto\\\n",
    "         from dataset_307560 insp\\\n",
    "         inner join dataset_307562 prop on insp.amigo_id=prop.insp_ref_prop\\\n",
    "         inner join dataset_307563 lote on prop.amigo_id=lote.prop_ref_lote\\\n",
    "         inner join gallery_46845 gal on lote.amigo_id=gal.source_amigo_id\\\n",
    "         where semana_1ra = \\'{sem}\\' order by canhero'.format(sem=semana)}\n",
    "select = amigocloud.get('https://app.amigocloud.com/api/v1/projects/32672/sql', query)\n",
    "data = select['data']\n",
    "#credito = collections.namedtuple(\"credito\", credito_data.keys())(*credito_data.values())\n",
    "print('end')"
   ]
  },
  {
   "cell_type": "code",
   "execution_count": 5,
   "id": "e49ecf6d-4c9f-4e23-9264-781eba0df1ac",
   "metadata": {},
   "outputs": [
    {
     "data": {
      "text/plain": [
       "[{'canhero': '14993 / VACA CUELLAR JORGE',\n",
       "  'propiedad': '211 / LOS MAGUESES--VACA CUELLAR',\n",
       "  'lote': 'L22',\n",
       "  's3_filename': 'WhatsApp Image 2023-02-23 at 6.18.43 PM (2).jpeg',\n",
       "  'foto': 'app.amigocloud.com/api/v1/related_tables/46845/files/92779d667e674dee8d99a7fd4dac314b/eba0c6791b04453ebb03adeb42fcc21a/WhatsApp%20Image%202023-02-23%20at%206.18.43%20PM%20(2).jpeg'},\n",
       " {'canhero': '14993 / VACA CUELLAR JORGE',\n",
       "  'propiedad': '211 / LOS MAGUESES--VACA CUELLAR',\n",
       "  'lote': 'L14',\n",
       "  's3_filename': 'IMG_20230224_112645.jpg',\n",
       "  'foto': 'app.amigocloud.com/api/v1/related_tables/46845/files/3e68304ad6804965a87ecb86b47c865c/8aa66f8a856c4191b0d780a926101d91/IMG_20230224_112645.jpg'},\n",
       " {'canhero': '15162 / VELASCO ANEZ MARCO ANTONIO',\n",
       "  'propiedad': '142 / SAN MARTIN--VELAZCO',\n",
       "  'lote': 'L9',\n",
       "  's3_filename': 'WhatsApp Image 2023-02-23 at 6.18.46 PM.jpeg',\n",
       "  'foto': 'app.amigocloud.com/api/v1/related_tables/46845/files/b4ee02e3da95485f8606fbe80344477b/605e6cfea71e436b9ac7e47bd2545f62/WhatsApp%20Image%202023-02-23%20at%206.18.46%20PM.jpeg'},\n",
       " {'canhero': '15162 / VELASCO ANEZ MARCO ANTONIO',\n",
       "  'propiedad': '142 / SAN MARTIN--VELAZCO',\n",
       "  'lote': 'L5.2',\n",
       "  's3_filename': 'WhatsApp Image 2023-02-23 at 6.18.45 PM (1).jpeg',\n",
       "  'foto': 'app.amigocloud.com/api/v1/related_tables/46845/files/45589788793f4e10b830e19948d4b4af/ec6643791c5b480c99ddb67706e55a35/WhatsApp%20Image%202023-02-23%20at%206.18.45%20PM%20(1).jpeg'},\n",
       " {'canhero': '41550 / ZALZER ANTELO LUIS JHONNY ',\n",
       "  'propiedad': '1467 / PORVENIR--LUIS JHONNY ZALZAR ANTELO',\n",
       "  'lote': 'L4.1A',\n",
       "  's3_filename': 'WhatsApp Image 2023-02-23 at 6.18.43 PM.jpeg',\n",
       "  'foto': 'app.amigocloud.com/api/v1/related_tables/46845/files/8a7e8eacd7054779aed5188c68ad5530/ad2ffbc5d5ac459b9d7df52fccf486b4/WhatsApp%20Image%202023-02-23%20at%206.18.43%20PM.jpeg'},\n",
       " {'canhero': '41550 / ZALZER ANTELO LUIS JHONNY ',\n",
       "  'propiedad': '796 / NAVIDACITO--YHONY ZALZER',\n",
       "  'lote': 'L1.1.1',\n",
       "  's3_filename': 'WhatsApp Image 2023-02-23 at 6.18.45 PM.jpeg',\n",
       "  'foto': 'app.amigocloud.com/api/v1/related_tables/46845/files/48a26116653e45f9af569bb6032ae16d/181c578aec69468b81f8e8c077892114/WhatsApp%20Image%202023-02-23%20at%206.18.45%20PM.jpeg'}]"
      ]
     },
     "execution_count": 5,
     "metadata": {},
     "output_type": "execute_result"
    }
   ],
   "source": [
    "data"
   ]
  },
  {
   "cell_type": "code",
   "execution_count": 6,
   "id": "48e765f2",
   "metadata": {},
   "outputs": [
    {
     "name": "stdout",
     "output_type": "stream",
     "text": [
      "WhatsApp Image 2023-02-23 at 6.18.43 PM (2).jpeg\n",
      "IMG_20230224_112645.jpg\n",
      "WhatsApp Image 2023-02-23 at 6.18.46 PM.jpeg\n",
      "WhatsApp Image 2023-02-23 at 6.18.45 PM (1).jpeg\n",
      "WhatsApp Image 2023-02-23 at 6.18.43 PM.jpeg\n",
      "WhatsApp Image 2023-02-23 at 6.18.45 PM.jpeg\n"
     ]
    }
   ],
   "source": [
    "from docxtpl import DocxTemplate\n",
    "import docxtpl\n",
    "from docx.shared import Mm\n",
    "\n",
    "import requests\n",
    "\n",
    "doc = DocxTemplate(\"templates/template_1ra_fotos.docx\")\n",
    "\n",
    "#descargar fotos y generar lista InlineImage\n",
    "lista_fotos_inline = []\n",
    "for foto in data:\n",
    "    response = requests.get(\"https://www-amigocloud.s3.amazonaws.com/gallery/\" + foto['s3_filename'])\n",
    "    file = open('fotos/' + foto['s3_filename'], \"wb\")\n",
    "    file.write(response.content)\n",
    "    file.close()\n",
    "    lista_fotos_inline.append({'foto': docxtpl.InlineImage(doc, image_descriptor='fotos/' + foto['s3_filename'], width=Mm(120)), 'canhero': foto['canhero']})\n",
    "    print(foto['s3_filename'])\n",
    "\n",
    "context = {'fotos':lista_fotos_inline}\n",
    "\n",
    "doc.render(context)\n",
    "file_name = 'SEMANA - ' + semana\n",
    "doc.save('_' + file_name + '.docx')"
   ]
  }
 ],
 "metadata": {
  "kernelspec": {
   "display_name": "Python 3 (ipykernel)",
   "language": "python",
   "name": "python3"
  },
  "language_info": {
   "codemirror_mode": {
    "name": "ipython",
    "version": 3
   },
   "file_extension": ".py",
   "mimetype": "text/x-python",
   "name": "python",
   "nbconvert_exporter": "python",
   "pygments_lexer": "ipython3",
   "version": "3.7.11"
  }
 },
 "nbformat": 4,
 "nbformat_minor": 5
}
