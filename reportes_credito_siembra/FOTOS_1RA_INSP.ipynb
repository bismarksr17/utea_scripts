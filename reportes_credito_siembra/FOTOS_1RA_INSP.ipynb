{
 "cells": [
  {
   "cell_type": "markdown",
   "id": "efd45d64",
   "metadata": {},
   "source": [
    "## Librerias"
   ]
  },
  {
   "cell_type": "code",
   "execution_count": 1,
   "id": "5cb5968b",
   "metadata": {},
   "outputs": [
    {
     "name": "stderr",
     "output_type": "stream",
     "text": [
      "C:\\Users\\Bismar\\.conda\\envs\\utea_reportes\\lib\\importlib\\_bootstrap.py:219: RuntimeWarning: greenlet.greenlet size changed, may indicate binary incompatibility. Expected 144 from C header, got 152 from PyObject\n",
      "  return f(*args, **kwds)\n",
      "C:\\Users\\Bismar\\.conda\\envs\\utea_reportes\\lib\\importlib\\_bootstrap.py:219: RuntimeWarning: greenlet.greenlet size changed, may indicate binary incompatibility. Expected 144 from C header, got 152 from PyObject\n",
      "  return f(*args, **kwds)\n",
      "C:\\Users\\Bismar\\.conda\\envs\\utea_reportes\\lib\\importlib\\_bootstrap.py:219: RuntimeWarning: greenlet.greenlet size changed, may indicate binary incompatibility. Expected 144 from C header, got 152 from PyObject\n",
      "  return f(*args, **kwds)\n",
      "C:\\Users\\Bismar\\.conda\\envs\\utea_reportes\\lib\\importlib\\_bootstrap.py:219: RuntimeWarning: greenlet.greenlet size changed, may indicate binary incompatibility. Expected 144 from C header, got 152 from PyObject\n",
      "  return f(*args, **kwds)\n"
     ]
    }
   ],
   "source": [
    "from werkzeug.wrappers import Request, Response\n",
    "#from flask import Flask, render_template\n",
    "from jinja2 import Template\n",
    "\n",
    "#from datetime import date\n",
    "from datetime import datetime, timedelta\n",
    "\n",
    "import collections\n",
    "from amigocloud import AmigoCloud\n",
    "\n",
    "from datetime import datetime"
   ]
  },
  {
   "cell_type": "markdown",
   "id": "9429e2a1",
   "metadata": {},
   "source": [
    "## Conectar a AmigoCloud"
   ]
  },
  {
   "cell_type": "code",
   "execution_count": 2,
   "id": "b046e5ec-e53a-4681-b08b-5406ced2f306",
   "metadata": {},
   "outputs": [
    {
     "data": {
      "text/plain": [
       "<amigocloud.amigocloud.AmigoCloud at 0x20129f03548>"
      ]
     },
     "execution_count": 2,
     "metadata": {},
     "output_type": "execute_result"
    }
   ],
   "source": [
    "# CONECTAR A AMIGOCLOUD\n",
    "acceso = open('../api_key/api.key','r')\n",
    "api_token = acceso.readlines()[0]\n",
    "acceso.close()\n",
    "amigocloud = AmigoCloud(token=api_token)\n",
    "amigocloud"
   ]
  },
  {
   "cell_type": "markdown",
   "id": "c1e7f707",
   "metadata": {},
   "source": [
    "## Datos de crédito"
   ]
  },
  {
   "cell_type": "code",
   "execution_count": 3,
   "id": "685262ce-7bbb-4469-92f2-eb113a0d5cba",
   "metadata": {},
   "outputs": [],
   "source": [
    "semana = 'S13'"
   ]
  },
  {
   "cell_type": "code",
   "execution_count": 4,
   "id": "3c8f0c01",
   "metadata": {},
   "outputs": [
    {
     "name": "stdout",
     "output_type": "stream",
     "text": [
      "end\n"
     ]
    }
   ],
   "source": [
    "query = {'query': 'select insp.canhero, prop.propiedad, lote.lote, gal.s3_filename, gal.amigocloud_url foto\\\n",
    "         from dataset_307560 insp\\\n",
    "         inner join dataset_307562 prop on insp.amigo_id=prop.insp_ref_prop\\\n",
    "         inner join dataset_307563 lote on prop.amigo_id=lote.prop_ref_lote\\\n",
    "         inner join gallery_46845 gal on lote.amigo_id=gal.source_amigo_id\\\n",
    "         where semana_1ra = \\'{sem}\\' order by canhero'.format(sem=semana)}\n",
    "select = amigocloud.get('https://app.amigocloud.com/api/v1/projects/32672/sql', query)\n",
    "data = select['data']\n",
    "#credito = collections.namedtuple(\"credito\", credito_data.keys())(*credito_data.values())\n",
    "print('end')"
   ]
  },
  {
   "cell_type": "code",
   "execution_count": 5,
   "id": "e49ecf6d-4c9f-4e23-9264-781eba0df1ac",
   "metadata": {},
   "outputs": [
    {
     "data": {
      "text/plain": [
       "[{'canhero': '11805 / RIOJA CABRERA JOSE GROVER ',\n",
       "  'propiedad': '771 / PUEBLO NUEVO (PARCELA 062)--RIOJA',\n",
       "  'lote': 'L14',\n",
       "  's3_filename': 'WhatsApp Image 2023-04-01 at 10.45.51.jpeg',\n",
       "  'foto': 'app.amigocloud.com/api/v1/related_tables/46845/files/f4d4133ccde24fdcb987942af757bb5e/ec5ff42d68d44fb584e204ed3a7bf75d/WhatsApp%20Image%202023-04-01%20at%2010.45.51.jpeg'},\n",
       " {'canhero': '11805 / RIOJA CABRERA JOSE GROVER ',\n",
       "  'propiedad': '771 / PUEBLO NUEVO (PARCELA 062)--RIOJA',\n",
       "  'lote': 'L13',\n",
       "  's3_filename': 'WhatsApp Image 2023-04-01 at 10.45.52.jpeg',\n",
       "  'foto': 'app.amigocloud.com/api/v1/related_tables/46845/files/f803d84eb41f402582794ba1c8a4c288/e38d0679ce434c8585919b0c38bc481d/WhatsApp%20Image%202023-04-01%20at%2010.45.52.jpeg'},\n",
       " {'canhero': '2160 / CORDOVA CAMARA JUAN ',\n",
       "  'propiedad': '637 / SILES--CORDOVA',\n",
       "  'lote': 'L1.3',\n",
       "  's3_filename': 'WhatsApp Image 2023-04-01 at 11.26.34 (2).jpeg',\n",
       "  'foto': 'app.amigocloud.com/api/v1/related_tables/46845/files/8880a15eb53a40dbb5ade5cefa56722f/e069771d047a4ce8b305df27c82499bc/WhatsApp%20Image%202023-04-01%20at%2011.26.34%20(2).jpeg'},\n",
       " {'canhero': '41967 / ANZE CUAJIRA RUTTY',\n",
       "  'propiedad': '1539 / MERCEDES Y PAULINA',\n",
       "  'lote': 'L14',\n",
       "  's3_filename': 'WhatsApp Image 2023-03-24 at 11.58.13.jpeg',\n",
       "  'foto': 'app.amigocloud.com/api/v1/related_tables/46845/files/dec20ef5fe6d49d68901c01f3c7bfdf1/53518fb9c7664f478d46af3987c26933/WhatsApp%20Image%202023-03-24%20at%2011.58.13.jpeg'},\n",
       " {'canhero': '41967 / ANZE CUAJIRA RUTTY',\n",
       "  'propiedad': '1539 / MERCEDES Y PAULINA',\n",
       "  'lote': 'L12.2',\n",
       "  's3_filename': 'WhatsApp Image 2023-04-01 at 10.45.17.jpeg',\n",
       "  'foto': 'app.amigocloud.com/api/v1/related_tables/46845/files/c83113ee4de443d7b7258736cadec16c/e88ca7d3aba84fe29ff6843953b1a505/WhatsApp%20Image%202023-04-01%20at%2010.45.17.jpeg'},\n",
       " {'canhero': '430 / AMURRIO QUINTANILLA FREDDY',\n",
       "  'propiedad': '1252 / PARCELA 41--JUANA QUINTANILLA DE AMURRIO',\n",
       "  'lote': 'L1',\n",
       "  's3_filename': 'WhatsApp Image 2023-04-01 at 10.46.34 (2).jpeg',\n",
       "  'foto': 'app.amigocloud.com/api/v1/related_tables/46845/files/842271590b3d4ef5b79174c9f91c8094/32836e915bec4293adb5cad01ea97aa8/WhatsApp%20Image%202023-04-01%20at%2010.46.34%20(2).jpeg'},\n",
       " {'canhero': '430 / AMURRIO QUINTANILLA FREDDY',\n",
       "  'propiedad': '1885 / PORTON--AMURRIO JUANA',\n",
       "  'lote': 'L1.2',\n",
       "  's3_filename': 'WhatsApp Image 2023-04-01 at 10.46.34.jpeg',\n",
       "  'foto': 'app.amigocloud.com/api/v1/related_tables/46845/files/c47492605ccf4fb5b9c882e59e97d327/3be5129f534b44dfab199361a50e586c/WhatsApp%20Image%202023-04-01%20at%2010.46.34.jpeg'}]"
      ]
     },
     "execution_count": 5,
     "metadata": {},
     "output_type": "execute_result"
    }
   ],
   "source": [
    "data"
   ]
  },
  {
   "cell_type": "code",
   "execution_count": 6,
   "id": "48e765f2",
   "metadata": {},
   "outputs": [
    {
     "name": "stdout",
     "output_type": "stream",
     "text": [
      "WhatsApp Image 2023-04-01 at 10.45.51.jpeg\n",
      "WhatsApp Image 2023-04-01 at 10.45.52.jpeg\n",
      "WhatsApp Image 2023-04-01 at 11.26.34 (2).jpeg\n",
      "WhatsApp Image 2023-03-24 at 11.58.13.jpeg\n",
      "WhatsApp Image 2023-04-01 at 10.45.17.jpeg\n",
      "WhatsApp Image 2023-04-01 at 10.46.34 (2).jpeg\n",
      "WhatsApp Image 2023-04-01 at 10.46.34.jpeg\n"
     ]
    }
   ],
   "source": [
    "from docxtpl import DocxTemplate\n",
    "import docxtpl\n",
    "from docx.shared import Mm\n",
    "\n",
    "import requests\n",
    "\n",
    "doc = DocxTemplate(\"templates/template_1ra_fotos.docx\")\n",
    "\n",
    "#descargar fotos y generar lista InlineImage\n",
    "lista_fotos_inline = []\n",
    "for foto in data:\n",
    "    response = requests.get(\"https://www-amigocloud.s3.amazonaws.com/gallery/\" + foto['s3_filename'])\n",
    "    file = open('fotos/' + foto['s3_filename'], \"wb\")\n",
    "    file.write(response.content)\n",
    "    file.close()\n",
    "    lista_fotos_inline.append({'foto': docxtpl.InlineImage(doc, image_descriptor='fotos/' + foto['s3_filename'], width=Mm(120)), 'canhero': foto['canhero']})\n",
    "    print(foto['s3_filename'])\n",
    "\n",
    "context = {'fotos':lista_fotos_inline}\n",
    "\n",
    "doc.render(context)\n",
    "file_name = 'SEMANA - ' + semana\n",
    "doc.save('_' + file_name + '.docx')"
   ]
  }
 ],
 "metadata": {
  "kernelspec": {
   "display_name": "Python 3 (ipykernel)",
   "language": "python",
   "name": "python3"
  },
  "language_info": {
   "codemirror_mode": {
    "name": "ipython",
    "version": 3
   },
   "file_extension": ".py",
   "mimetype": "text/x-python",
   "name": "python",
   "nbconvert_exporter": "python",
   "pygments_lexer": "ipython3",
   "version": "3.7.11"
  }
 },
 "nbformat": 4,
 "nbformat_minor": 5
}
