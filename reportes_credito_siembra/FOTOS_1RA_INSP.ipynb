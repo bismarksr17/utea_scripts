{
 "cells": [
  {
   "cell_type": "markdown",
   "id": "efd45d64",
   "metadata": {},
   "source": [
    "## Librerias"
   ]
  },
  {
   "cell_type": "code",
   "execution_count": 1,
   "id": "5cb5968b",
   "metadata": {},
   "outputs": [
    {
     "name": "stderr",
     "output_type": "stream",
     "text": [
      "C:\\Users\\Bismar\\.conda\\envs\\utea_reportes\\lib\\importlib\\_bootstrap.py:219: RuntimeWarning: greenlet.greenlet size changed, may indicate binary incompatibility. Expected 144 from C header, got 152 from PyObject\n",
      "  return f(*args, **kwds)\n",
      "C:\\Users\\Bismar\\.conda\\envs\\utea_reportes\\lib\\importlib\\_bootstrap.py:219: RuntimeWarning: greenlet.greenlet size changed, may indicate binary incompatibility. Expected 144 from C header, got 152 from PyObject\n",
      "  return f(*args, **kwds)\n",
      "C:\\Users\\Bismar\\.conda\\envs\\utea_reportes\\lib\\importlib\\_bootstrap.py:219: RuntimeWarning: greenlet.greenlet size changed, may indicate binary incompatibility. Expected 144 from C header, got 152 from PyObject\n",
      "  return f(*args, **kwds)\n",
      "C:\\Users\\Bismar\\.conda\\envs\\utea_reportes\\lib\\importlib\\_bootstrap.py:219: RuntimeWarning: greenlet.greenlet size changed, may indicate binary incompatibility. Expected 144 from C header, got 152 from PyObject\n",
      "  return f(*args, **kwds)\n"
     ]
    }
   ],
   "source": [
    "from werkzeug.wrappers import Request, Response\n",
    "#from flask import Flask, render_template\n",
    "from jinja2 import Template\n",
    "\n",
    "#from datetime import date\n",
    "from datetime import datetime, timedelta\n",
    "\n",
    "import collections\n",
    "from amigocloud import AmigoCloud\n",
    "\n",
    "from datetime import datetime"
   ]
  },
  {
   "cell_type": "markdown",
   "id": "9429e2a1",
   "metadata": {},
   "source": [
    "## Conectar a AmigoCloud"
   ]
  },
  {
   "cell_type": "code",
   "execution_count": 2,
   "id": "b8cbf515-a519-4f36-a672-9d756da2e5bb",
   "metadata": {},
   "outputs": [],
   "source": [
    "# ruta de carpera donde estan las llaves\n",
    "ruta = open('../ruta.txt')\n",
    "ruta = ruta.readlines()[0]"
   ]
  },
  {
   "cell_type": "code",
   "execution_count": 3,
   "id": "b046e5ec-e53a-4681-b08b-5406ced2f306",
   "metadata": {},
   "outputs": [
    {
     "data": {
      "text/plain": [
       "<amigocloud.amigocloud.AmigoCloud at 0x19fd0ddc8c8>"
      ]
     },
     "execution_count": 3,
     "metadata": {},
     "output_type": "execute_result"
    }
   ],
   "source": [
    "# leer token\n",
    "acceso = open(ruta + '/_keys/api_amigocloud.key','r')\n",
    "api_token = acceso.readlines()[0]\n",
    "acceso.close()\n",
    "amigocloud = AmigoCloud(token=api_token)\n",
    "amigocloud"
   ]
  },
  {
   "cell_type": "markdown",
   "id": "c1e7f707",
   "metadata": {},
   "source": [
    "## Datos de crédito"
   ]
  },
  {
   "cell_type": "code",
   "execution_count": 4,
   "id": "685262ce-7bbb-4469-92f2-eb113a0d5cba",
   "metadata": {},
   "outputs": [],
   "source": [
    "semana = 'S17'"
   ]
  },
  {
   "cell_type": "code",
   "execution_count": 5,
   "id": "3c8f0c01",
   "metadata": {},
   "outputs": [
    {
     "name": "stdout",
     "output_type": "stream",
     "text": [
      "end\n"
     ]
    }
   ],
   "source": [
    "query = {'query': 'select insp.canhero, prop.propiedad, lote.lote, gal.s3_filename, gal.amigocloud_url foto\\\n",
    "         from dataset_307560 insp\\\n",
    "         inner join dataset_307562 prop on insp.amigo_id=prop.insp_ref_prop\\\n",
    "         inner join dataset_307563 lote on prop.amigo_id=lote.prop_ref_lote\\\n",
    "         inner join gallery_46845 gal on lote.amigo_id=gal.source_amigo_id\\\n",
    "         where semana_1ra = \\'{sem}\\' order by canhero'.format(sem=semana)}\n",
    "select = amigocloud.get('https://app.amigocloud.com/api/v1/projects/32672/sql', query)\n",
    "data = select['data']\n",
    "#credito = collections.namedtuple(\"credito\", credito_data.keys())(*credito_data.values())\n",
    "print('end')"
   ]
  },
  {
   "cell_type": "code",
   "execution_count": 6,
   "id": "e49ecf6d-4c9f-4e23-9264-781eba0df1ac",
   "metadata": {},
   "outputs": [
    {
     "data": {
      "text/plain": [
       "[{'canhero': '13171 / SUAREZ JUSTINIANO DAVID',\n",
       "  'propiedad': '1395 / LA CANDELARIA--DAVID SUAREZ DEMIQUEL',\n",
       "  'lote': 'L1',\n",
       "  's3_filename': 'WhatsApp Image 2023-04-29 at 16.48.19.jpeg',\n",
       "  'foto': 'app.amigocloud.com/api/v1/related_tables/46845/files/19f8438fa52c4262b8a1420c006cc306/d8e915f489074dba9366f68fb247f0ea/WhatsApp%20Image%202023-04-29%20at%2016.48.19.jpeg'},\n",
       " {'canhero': '15085 / CRUZ RUTH JAQUELIN B. DE',\n",
       "  'propiedad': '201 / LA HONDONADA--CRUZ',\n",
       "  'lote': 'L10.2',\n",
       "  's3_filename': 'WhatsApp Image 2023-04-30 at 18.01.01.jpeg',\n",
       "  'foto': 'app.amigocloud.com/api/v1/related_tables/46845/files/d99cef3ec1124a7c9b03dff499f14351/8bae858f064746cf875e492836fa4a8d/WhatsApp%20Image%202023-04-30%20at%2018.01.01.jpeg'},\n",
       " {'canhero': '2505 / CRUZ BARRIENTOS CRISTIAN F. ',\n",
       "  'propiedad': '201 / LA HONDONADA--CRUZ',\n",
       "  'lote': 'L9',\n",
       "  's3_filename': 'WhatsApp Image 2023-04-30 at 22.05.27.jpeg',\n",
       "  'foto': 'app.amigocloud.com/api/v1/related_tables/46845/files/00bd0c9120d440ea849551394d635e3e/5df4e2c8232741f8a170952e41d1a343/WhatsApp%20Image%202023-04-30%20at%2022.05.27.jpeg'},\n",
       " {'canhero': '41954 / EL TARTARO SRL',\n",
       "  'propiedad': '1946 / MARAYAU--MORA MARCELO',\n",
       "  'lote': 'L1',\n",
       "  's3_filename': 'WhatsApp Image 2023-04-29 at 16.56.19.jpeg',\n",
       "  'foto': 'app.amigocloud.com/api/v1/related_tables/46845/files/babdac65bb97443d920f271b2f6cd8d2/fb926bf169c5455ab45ed4b00329be30/WhatsApp%20Image%202023-04-29%20at%2016.56.19.jpeg'},\n",
       " {'canhero': '41954 / EL TARTARO SRL',\n",
       "  'propiedad': '1946 / MARAYAU--MORA MARCELO',\n",
       "  'lote': 'L3',\n",
       "  's3_filename': 'WhatsApp Image 2023-04-29 at 16.54.45.jpeg',\n",
       "  'foto': 'app.amigocloud.com/api/v1/related_tables/46845/files/c22f617816264db286383f94322fb840/cf1b2b7aaf8c4318bf4828dca254ea48/WhatsApp%20Image%202023-04-29%20at%2016.54.45.jpeg'},\n",
       " {'canhero': '5001 / GUZMAN CACERES ROXANA ',\n",
       "  'propiedad': '1945 / TOTAISES--FRANCO_GREGORIO',\n",
       "  'lote': 'L3',\n",
       "  's3_filename': 'WhatsApp Image 2023-04-29 at 16.37.42 (3).jpeg',\n",
       "  'foto': 'app.amigocloud.com/api/v1/related_tables/46845/files/d485b4590990441783956a19148b2ed3/271f10e1e74341728f54f9ccfd26f446/WhatsApp%20Image%202023-04-29%20at%2016.37.42%20(3).jpeg'},\n",
       " {'canhero': '5011 / FRANCO ARIAS GREGORIO ',\n",
       "  'propiedad': '1945 / TOTAISES--FRANCO_GREGORIO',\n",
       "  'lote': 'L1',\n",
       "  's3_filename': 'WhatsApp Image 2023-04-29 at 16.37.42.jpeg',\n",
       "  'foto': 'app.amigocloud.com/api/v1/related_tables/46845/files/d739403108ce484d86dfe1854949271a/ea55668961844810b54bd4ff4d16ab4f/WhatsApp%20Image%202023-04-29%20at%2016.37.42.jpeg'},\n",
       " {'canhero': '5421 / HUBBAUER HOYOS ENRIQUE',\n",
       "  'propiedad': '187 / MATIAS--HABBAUER',\n",
       "  'lote': 'L6',\n",
       "  's3_filename': 'WhatsApp Image 2023-04-29 at 16.50.39.jpeg',\n",
       "  'foto': 'app.amigocloud.com/api/v1/related_tables/46845/files/a179a69e751c4513bdaefa544193125e/465b9e20e3e64a549f1198d85dbbc6ab/WhatsApp%20Image%202023-04-29%20at%2016.50.39.jpeg'},\n",
       " {'canhero': '5421 / HUBBAUER HOYOS ENRIQUE',\n",
       "  'propiedad': '187 / MATIAS--HABBAUER',\n",
       "  'lote': 'L7.3',\n",
       "  's3_filename': 'WhatsApp Image 2023-04-29 at 16.50.38.jpeg',\n",
       "  'foto': 'app.amigocloud.com/api/v1/related_tables/46845/files/6039f54b6dd04e66a5dddefc02a9c0d9/cb89df26b0da4fce89ce18da4174ed50/WhatsApp%20Image%202023-04-29%20at%2016.50.38.jpeg'}]"
      ]
     },
     "execution_count": 6,
     "metadata": {},
     "output_type": "execute_result"
    }
   ],
   "source": [
    "data"
   ]
  },
  {
   "cell_type": "code",
   "execution_count": 7,
   "id": "48e765f2",
   "metadata": {},
   "outputs": [
    {
     "name": "stdout",
     "output_type": "stream",
     "text": [
      "WhatsApp Image 2023-04-29 at 16.48.19.jpeg\n",
      "WhatsApp Image 2023-04-30 at 18.01.01.jpeg\n",
      "WhatsApp Image 2023-04-30 at 22.05.27.jpeg\n",
      "WhatsApp Image 2023-04-29 at 16.56.19.jpeg\n",
      "WhatsApp Image 2023-04-29 at 16.54.45.jpeg\n",
      "WhatsApp Image 2023-04-29 at 16.37.42 (3).jpeg\n",
      "WhatsApp Image 2023-04-29 at 16.37.42.jpeg\n",
      "WhatsApp Image 2023-04-29 at 16.50.39.jpeg\n",
      "WhatsApp Image 2023-04-29 at 16.50.38.jpeg\n"
     ]
    }
   ],
   "source": [
    "from docxtpl import DocxTemplate\n",
    "import docxtpl\n",
    "from docx.shared import Mm\n",
    "\n",
    "import requests\n",
    "\n",
    "doc = DocxTemplate(ruta + \"/templates/tpl_1ra_fotos.docx\")\n",
    "\n",
    "#descargar fotos y generar lista InlineImage\n",
    "lista_fotos_inline = []\n",
    "for foto in data:\n",
    "    response = requests.get(\"https://www-amigocloud.s3.amazonaws.com/gallery/\" + foto['s3_filename'])\n",
    "    file = open(ruta + '/fotos/' + foto['s3_filename'], \"wb\")\n",
    "    file.write(response.content)\n",
    "    file.close()\n",
    "    lista_fotos_inline.append({'foto': docxtpl.InlineImage(doc, image_descriptor=ruta + '/fotos/' + foto['s3_filename'], width=Mm(120)), 'canhero': foto['canhero']})\n",
    "    print(foto['s3_filename'])\n",
    "\n",
    "context = {'fotos':lista_fotos_inline}\n",
    "\n",
    "doc.render(context)\n",
    "file_name = 'SEMANA - ' + semana\n",
    "doc.save(ruta + '/_' + file_name + '.docx')"
   ]
  }
 ],
 "metadata": {
  "kernelspec": {
   "display_name": "Python 3 (ipykernel)",
   "language": "python",
   "name": "python3"
  },
  "language_info": {
   "codemirror_mode": {
    "name": "ipython",
    "version": 3
   },
   "file_extension": ".py",
   "mimetype": "text/x-python",
   "name": "python",
   "nbconvert_exporter": "python",
   "pygments_lexer": "ipython3",
   "version": "3.7.11"
  }
 },
 "nbformat": 4,
 "nbformat_minor": 5
}
