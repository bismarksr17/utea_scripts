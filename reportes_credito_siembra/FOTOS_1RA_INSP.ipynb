{
 "cells": [
  {
   "cell_type": "markdown",
   "id": "efd45d64",
   "metadata": {},
   "source": [
    "## Librerias"
   ]
  },
  {
   "cell_type": "code",
   "execution_count": 1,
   "id": "5cb5968b",
   "metadata": {},
   "outputs": [
    {
     "name": "stderr",
     "output_type": "stream",
     "text": [
      "C:\\Users\\Bismar\\.conda\\envs\\utea_reportes\\lib\\importlib\\_bootstrap.py:219: RuntimeWarning: greenlet.greenlet size changed, may indicate binary incompatibility. Expected 144 from C header, got 152 from PyObject\n",
      "  return f(*args, **kwds)\n",
      "C:\\Users\\Bismar\\.conda\\envs\\utea_reportes\\lib\\importlib\\_bootstrap.py:219: RuntimeWarning: greenlet.greenlet size changed, may indicate binary incompatibility. Expected 144 from C header, got 152 from PyObject\n",
      "  return f(*args, **kwds)\n",
      "C:\\Users\\Bismar\\.conda\\envs\\utea_reportes\\lib\\importlib\\_bootstrap.py:219: RuntimeWarning: greenlet.greenlet size changed, may indicate binary incompatibility. Expected 144 from C header, got 152 from PyObject\n",
      "  return f(*args, **kwds)\n",
      "C:\\Users\\Bismar\\.conda\\envs\\utea_reportes\\lib\\importlib\\_bootstrap.py:219: RuntimeWarning: greenlet.greenlet size changed, may indicate binary incompatibility. Expected 144 from C header, got 152 from PyObject\n",
      "  return f(*args, **kwds)\n"
     ]
    }
   ],
   "source": [
    "from werkzeug.wrappers import Request, Response\n",
    "#from flask import Flask, render_template\n",
    "from jinja2 import Template\n",
    "\n",
    "#from datetime import date\n",
    "from datetime import datetime, timedelta\n",
    "\n",
    "import collections\n",
    "from amigocloud import AmigoCloud\n",
    "\n",
    "from datetime import datetime"
   ]
  },
  {
   "cell_type": "markdown",
   "id": "9429e2a1",
   "metadata": {},
   "source": [
    "## Conectar a AmigoCloud"
   ]
  },
  {
   "cell_type": "code",
   "execution_count": 2,
   "id": "b8cbf515-a519-4f36-a672-9d756da2e5bb",
   "metadata": {},
   "outputs": [],
   "source": [
    "# ruta de carpera donde estan las llaves\n",
    "ruta = open('../ruta.txt')\n",
    "ruta = ruta.readlines()[0]"
   ]
  },
  {
   "cell_type": "code",
   "execution_count": 3,
   "id": "b046e5ec-e53a-4681-b08b-5406ced2f306",
   "metadata": {},
   "outputs": [
    {
     "data": {
      "text/plain": [
       "<amigocloud.amigocloud.AmigoCloud at 0x2409aea2b88>"
      ]
     },
     "execution_count": 3,
     "metadata": {},
     "output_type": "execute_result"
    }
   ],
   "source": [
    "# leer token\n",
    "acceso = open(ruta + '/_keys/api_amigocloud.key','r')\n",
    "api_token = acceso.readlines()[0]\n",
    "acceso.close()\n",
    "amigocloud = AmigoCloud(token=api_token)\n",
    "amigocloud"
   ]
  },
  {
   "cell_type": "markdown",
   "id": "c1e7f707",
   "metadata": {},
   "source": [
    "## Datos de crédito"
   ]
  },
  {
   "cell_type": "code",
   "execution_count": 5,
   "id": "685262ce-7bbb-4469-92f2-eb113a0d5cba",
   "metadata": {},
   "outputs": [],
   "source": [
    "semana = 'S15'"
   ]
  },
  {
   "cell_type": "code",
   "execution_count": 6,
   "id": "3c8f0c01",
   "metadata": {},
   "outputs": [
    {
     "name": "stdout",
     "output_type": "stream",
     "text": [
      "end\n"
     ]
    }
   ],
   "source": [
    "query = {'query': 'select insp.canhero, prop.propiedad, lote.lote, gal.s3_filename, gal.amigocloud_url foto\\\n",
    "         from dataset_307560 insp\\\n",
    "         inner join dataset_307562 prop on insp.amigo_id=prop.insp_ref_prop\\\n",
    "         inner join dataset_307563 lote on prop.amigo_id=lote.prop_ref_lote\\\n",
    "         inner join gallery_46845 gal on lote.amigo_id=gal.source_amigo_id\\\n",
    "         where semana_1ra = \\'{sem}\\' order by canhero'.format(sem=semana)}\n",
    "select = amigocloud.get('https://app.amigocloud.com/api/v1/projects/32672/sql', query)\n",
    "data = select['data']\n",
    "#credito = collections.namedtuple(\"credito\", credito_data.keys())(*credito_data.values())\n",
    "print('end')"
   ]
  },
  {
   "cell_type": "code",
   "execution_count": 7,
   "id": "e49ecf6d-4c9f-4e23-9264-781eba0df1ac",
   "metadata": {},
   "outputs": [
    {
     "data": {
      "text/plain": [
       "[{'canhero': '2220 / CRUZ VARGAS TITO JHONNY ',\n",
       "  'propiedad': '416 / LAS TRANQUERAS--OMAR CRUZ',\n",
       "  'lote': 'L2',\n",
       "  's3_filename': 'WhatsApp Image 2023-04-15 at 11.26.15 (1).jpeg',\n",
       "  'foto': 'app.amigocloud.com/api/v1/related_tables/46845/files/bd75686fafe34c1da4d30fe676a45a24/15bff8cb3cb041c58dc2e438673f593a/WhatsApp%20Image%202023-04-15%20at%2011.26.15%20(1).jpeg'},\n",
       " {'canhero': '2220 / CRUZ VARGAS TITO JHONNY ',\n",
       "  'propiedad': '201 / LA HONDONADA--CRUZ',\n",
       "  'lote': 'L13.5',\n",
       "  's3_filename': 'WhatsApp Image 2023-04-15 at 11.26.15.jpeg',\n",
       "  'foto': 'app.amigocloud.com/api/v1/related_tables/46845/files/b4cc2ccaf3b8409b99334a63434953fe/bcc70a285326444c8dcfd4b9e6dfcb1e/WhatsApp%20Image%202023-04-15%20at%2011.26.15.jpeg'},\n",
       " {'canhero': '2510 / CRUZ BARRIENTOS OSCAR ANDREZ',\n",
       "  'propiedad': '419 / PIRAICITO--CRUZ',\n",
       "  'lote': 'L3.1',\n",
       "  's3_filename': 'WhatsApp Image 2023-04-15 at 11.26.16.jpeg',\n",
       "  'foto': 'app.amigocloud.com/api/v1/related_tables/46845/files/599a3287c2684e8fa8e2609a1b73a314/da6faef8c9e044a69ca7dda66b525233/WhatsApp%20Image%202023-04-15%20at%2011.26.16.jpeg'},\n",
       " {'canhero': '2510 / CRUZ BARRIENTOS OSCAR ANDREZ',\n",
       "  'propiedad': '201 / LA HONDONADA--CRUZ',\n",
       "  'lote': 'L4',\n",
       "  's3_filename': 'WhatsApp Image 2023-04-15 at 11.26.15 (2).jpeg',\n",
       "  'foto': 'app.amigocloud.com/api/v1/related_tables/46845/files/b1de072220e544f3a9dcd15d40fd07cf/d9eb66f4472f455c8a3c25fcb91a70c2/WhatsApp%20Image%202023-04-15%20at%2011.26.15%20(2).jpeg'},\n",
       " {'canhero': '2641 / CRONENBOLD AGUILERA ROBERTO ',\n",
       "  'propiedad': '63 / SAN MARIANITO--CRONEMBOLD AGUILERA',\n",
       "  'lote': 'L42',\n",
       "  's3_filename': 'WhatsApp Image 2023-04-13 at 14.29.27.jpeg',\n",
       "  'foto': 'app.amigocloud.com/api/v1/related_tables/46845/files/0f9df2d9615c4a7c9b73bcaba83adacb/dc37204e854f45868f45346a6c9f687f/WhatsApp%20Image%202023-04-13%20at%2014.29.27.jpeg'},\n",
       " {'canhero': '2641 / CRONENBOLD AGUILERA ROBERTO ',\n",
       "  'propiedad': '220 / SANTA BARBARA--SORUCO',\n",
       "  'lote': 'L4',\n",
       "  's3_filename': 'WhatsApp Image 2023-04-15 at 11.07.55.jpeg',\n",
       "  'foto': 'app.amigocloud.com/api/v1/related_tables/46845/files/74a4000444d04dc7801cdd086f4304d8/bbb801f406d241fbbddfbafa7fdf483e/WhatsApp%20Image%202023-04-15%20at%2011.07.55.jpeg'},\n",
       " {'canhero': '6626 / JANKO ALANES VERONICA ',\n",
       "  'propiedad': '604 / VILLA NUEVA--JANCKO',\n",
       "  'lote': 'L1.3',\n",
       "  's3_filename': 'WhatsApp Image 2023-04-15 at 11.21.05.jpeg',\n",
       "  'foto': 'app.amigocloud.com/api/v1/related_tables/46845/files/43c031aae6dc4a1db89cf2f347db9ef3/88ade1ce0c564d14b1a7b24807c08168/WhatsApp%20Image%202023-04-15%20at%2011.21.05.jpeg'},\n",
       " {'canhero': '6626 / JANKO ALANES VERONICA ',\n",
       "  'propiedad': '604 / VILLA NUEVA--JANCKO',\n",
       "  'lote': 'L1.1',\n",
       "  's3_filename': 'WhatsApp Image 2023-04-15 at 11.21.05 (1).jpeg',\n",
       "  'foto': 'app.amigocloud.com/api/v1/related_tables/46845/files/389150a9f9f043c3950a461f0627c347/9894bb0e9405451da3d1bdf10e372848/WhatsApp%20Image%202023-04-15%20at%2011.21.05%20(1).jpeg'}]"
      ]
     },
     "execution_count": 7,
     "metadata": {},
     "output_type": "execute_result"
    }
   ],
   "source": [
    "data"
   ]
  },
  {
   "cell_type": "code",
   "execution_count": 8,
   "id": "48e765f2",
   "metadata": {},
   "outputs": [
    {
     "name": "stdout",
     "output_type": "stream",
     "text": [
      "WhatsApp Image 2023-04-15 at 11.26.15 (1).jpeg\n",
      "WhatsApp Image 2023-04-15 at 11.26.15.jpeg\n",
      "WhatsApp Image 2023-04-15 at 11.26.16.jpeg\n",
      "WhatsApp Image 2023-04-15 at 11.26.15 (2).jpeg\n",
      "WhatsApp Image 2023-04-13 at 14.29.27.jpeg\n",
      "WhatsApp Image 2023-04-15 at 11.07.55.jpeg\n",
      "WhatsApp Image 2023-04-15 at 11.21.05.jpeg\n",
      "WhatsApp Image 2023-04-15 at 11.21.05 (1).jpeg\n"
     ]
    }
   ],
   "source": [
    "from docxtpl import DocxTemplate\n",
    "import docxtpl\n",
    "from docx.shared import Mm\n",
    "\n",
    "import requests\n",
    "\n",
    "doc = DocxTemplate(ruta + \"/templates/tpl_1ra_fotos.docx\")\n",
    "\n",
    "#descargar fotos y generar lista InlineImage\n",
    "lista_fotos_inline = []\n",
    "for foto in data:\n",
    "    response = requests.get(\"https://www-amigocloud.s3.amazonaws.com/gallery/\" + foto['s3_filename'])\n",
    "    file = open(ruta + '/fotos/' + foto['s3_filename'], \"wb\")\n",
    "    file.write(response.content)\n",
    "    file.close()\n",
    "    lista_fotos_inline.append({'foto': docxtpl.InlineImage(doc, image_descriptor=ruta + '/fotos/' + foto['s3_filename'], width=Mm(120)), 'canhero': foto['canhero']})\n",
    "    print(foto['s3_filename'])\n",
    "\n",
    "context = {'fotos':lista_fotos_inline}\n",
    "\n",
    "doc.render(context)\n",
    "file_name = 'SEMANA - ' + semana\n",
    "doc.save(ruta + '/_' + file_name + '.docx')"
   ]
  }
 ],
 "metadata": {
  "kernelspec": {
   "display_name": "Python 3 (ipykernel)",
   "language": "python",
   "name": "python3"
  },
  "language_info": {
   "codemirror_mode": {
    "name": "ipython",
    "version": 3
   },
   "file_extension": ".py",
   "mimetype": "text/x-python",
   "name": "python",
   "nbconvert_exporter": "python",
   "pygments_lexer": "ipython3",
   "version": "3.7.11"
  }
 },
 "nbformat": 4,
 "nbformat_minor": 5
}
