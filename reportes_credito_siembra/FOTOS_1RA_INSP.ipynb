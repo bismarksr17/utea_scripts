{
 "cells": [
  {
   "cell_type": "markdown",
   "id": "efd45d64",
   "metadata": {},
   "source": [
    "## Librerias"
   ]
  },
  {
   "cell_type": "code",
   "execution_count": 2,
   "id": "5cb5968b",
   "metadata": {},
   "outputs": [],
   "source": [
    "from werkzeug.wrappers import Request, Response\n",
    "#from flask import Flask, render_template\n",
    "from jinja2 import Template\n",
    "\n",
    "#from datetime import date\n",
    "from datetime import datetime, timedelta\n",
    "\n",
    "import collections\n",
    "from amigocloud import AmigoCloud\n",
    "\n",
    "from datetime import datetime"
   ]
  },
  {
   "cell_type": "markdown",
   "id": "9429e2a1",
   "metadata": {},
   "source": [
    "## Conectar a AmigoCloud"
   ]
  },
  {
   "cell_type": "code",
   "execution_count": 4,
   "id": "b046e5ec-e53a-4681-b08b-5406ced2f306",
   "metadata": {},
   "outputs": [
    {
     "data": {
      "text/plain": [
       "<amigocloud.amigocloud.AmigoCloud at 0x2558a3f2508>"
      ]
     },
     "execution_count": 4,
     "metadata": {},
     "output_type": "execute_result"
    }
   ],
   "source": [
    "# CONECTAR A AMIGOCLOUD\n",
    "acceso = open('../api_key/api.key','r')\n",
    "api_token = acceso.readlines()[0]\n",
    "acceso.close()\n",
    "amigocloud = AmigoCloud(token=api_token)\n",
    "amigocloud"
   ]
  },
  {
   "cell_type": "markdown",
   "id": "c1e7f707",
   "metadata": {},
   "source": [
    "## Datos de crédito"
   ]
  },
  {
   "cell_type": "code",
   "execution_count": 15,
   "id": "3c8f0c01",
   "metadata": {},
   "outputs": [
    {
     "name": "stdout",
     "output_type": "stream",
     "text": [
      "end\n"
     ]
    }
   ],
   "source": [
    "query = {'query': 'select insp.canhero, prop.propiedad, lote.lote, gal.s3_filename, gal.amigocloud_url foto\\\n",
    "         from dataset_307560 insp\\\n",
    "         inner join dataset_307562 prop on insp.amigo_id=prop.insp_ref_prop\\\n",
    "         inner join dataset_307563 lote on prop.amigo_id=lote.prop_ref_lote\\\n",
    "         inner join gallery_46845 gal on lote.amigo_id=gal.source_amigo_id\\\n",
    "         where semana_1ra = \\'S06\\' order by canhero'.format(sem=semana)}\n",
    "select = amigocloud.get('https://app.amigocloud.com/api/v1/projects/32672/sql', query)\n",
    "data = select['data']\n",
    "#credito = collections.namedtuple(\"credito\", credito_data.keys())(*credito_data.values())\n",
    "print('end')"
   ]
  },
  {
   "cell_type": "code",
   "execution_count": 16,
   "id": "e49ecf6d-4c9f-4e23-9264-781eba0df1ac",
   "metadata": {},
   "outputs": [
    {
     "data": {
      "text/plain": [
       "[{'canhero': '12162 / ROCA REYES MARCOS ',\n",
       "  'propiedad': '85 / NARANJAL ROCA',\n",
       "  'lote': 'L8.1',\n",
       "  's3_filename': 'WhatsApp Image 2023-02-10 at 09.52.43 (1).jpeg',\n",
       "  'foto': 'app.amigocloud.com/api/v1/related_tables/46845/files/94382d17b8e94c14865b1194cfd6f7bc/e212128e1f02482e9073e9d39c404a5e/WhatsApp%20Image%202023-02-10%20at%2009.52.43%20(1).jpeg'},\n",
       " {'canhero': '12162 / ROCA REYES MARCOS ',\n",
       "  'propiedad': '85 / NARANJAL ROCA',\n",
       "  'lote': 'L9',\n",
       "  's3_filename': 'WhatsApp Image 2023-02-10 at 09.52.44 (1).jpeg',\n",
       "  'foto': 'app.amigocloud.com/api/v1/related_tables/46845/files/4f78c976b150496594c2672b7a7be58e/a465d6ea906f44319b88ea53f490ee1b/WhatsApp%20Image%202023-02-10%20at%2009.52.44%20(1).jpeg'},\n",
       " {'canhero': '15501 / WENDE RIOJA MAURICIO',\n",
       "  'propiedad': '122 / LAS CHACRAS--IAG',\n",
       "  'lote': 'L7',\n",
       "  's3_filename': 'WENDE.jpeg',\n",
       "  'foto': 'app.amigocloud.com/api/v1/related_tables/46845/files/1ae18a6ff5274250a00c70e96f2188a7/5c83639e156f480881aa441582165e0c/WENDE.jpeg'},\n",
       " {'canhero': '15501 / WENDE RIOJA MAURICIO',\n",
       "  'propiedad': '122 / LAS CHACRAS--IAG',\n",
       "  'lote': 'L12',\n",
       "  's3_filename': 'WENDE2.jpeg',\n",
       "  'foto': 'app.amigocloud.com/api/v1/related_tables/46845/files/200e93a441374eacba8d3ef2e9d67c1b/c2015665819a44d5bab776a7e52c72da/WENDE2.jpeg'},\n",
       " {'canhero': '40149 / PAZ REA JOSE ERNESTO',\n",
       "  'propiedad': '47 / SANTA MARTHA',\n",
       "  'lote': 'C7.1',\n",
       "  's3_filename': 'SANTA ,ARTHA.jpeg',\n",
       "  'foto': 'app.amigocloud.com/api/v1/related_tables/46845/files/77e8f79ae72a4edf9b4117d677314ead/ab8a337bbdb24f6b9222b4590a39b48f/SANTA%20,ARTHA.jpeg'},\n",
       " {'canhero': '40149 / PAZ REA JOSE ERNESTO',\n",
       "  'propiedad': '47 / SANTA MARTHA',\n",
       "  'lote': 'A7',\n",
       "  's3_filename': 'MARTHA2.jpeg',\n",
       "  'foto': 'app.amigocloud.com/api/v1/related_tables/46845/files/a5528be9317a4e7788e88051b558c447/00acc72f40274858b9b321bba5db2bf8/MARTHA2.jpeg'},\n",
       " {'canhero': '4061 / FRITZER PAZ ROMEL ',\n",
       "  'propiedad': '118 / EL ARROZAL--FRITZER',\n",
       "  'lote': 'L13',\n",
       "  's3_filename': 'ROMEL 2.jpeg',\n",
       "  'foto': 'app.amigocloud.com/api/v1/related_tables/46845/files/2668fb3db03c4e0ba1f1192187eb1347/3cd7c1af5146430c85957e1fea083a3e/ROMEL%202.jpeg'},\n",
       " {'canhero': '4061 / FRITZER PAZ ROMEL ',\n",
       "  'propiedad': '273 / HACIENDA LOS NIETOS--FRITZER',\n",
       "  'lote': 'L6.1',\n",
       "  's3_filename': 'ROMEL.jpeg',\n",
       "  'foto': 'app.amigocloud.com/api/v1/related_tables/46845/files/c28166574793458183087f8e7d6f6c60/b53f88e4f7954587a66497508a7bf3cb/ROMEL.jpeg'},\n",
       " {'canhero': '41541 / SUAREZ JUSTINIANO MERCY BEATRIZ',\n",
       "  'propiedad': '1395 / LA CANDELARIA--DAVID SUAREZ DEMIQUEL',\n",
       "  'lote': 'L2',\n",
       "  's3_filename': 'MARCY.jpeg',\n",
       "  'foto': 'app.amigocloud.com/api/v1/related_tables/46845/files/35d13a9ee7e347adb08cdc2d9f9a194a/fca720c236264347807599645c9d7dd2/MARCY.jpeg'},\n",
       " {'canhero': '4171 / FRITZER CUELLAR SAMIR EDUARDO ',\n",
       "  'propiedad': '273 / HACIENDA LOS NIETOS--FRITZER',\n",
       "  'lote': 'L2',\n",
       "  's3_filename': 'SAMIR.jpeg',\n",
       "  'foto': 'app.amigocloud.com/api/v1/related_tables/46845/files/7731b7b086c54134987dc4a535c19cf2/b1bf160d18bc41c0b4154e82706fc299/SAMIR.jpeg'},\n",
       " {'canhero': '41944 / CONDORI QUEVEDO RONALD ',\n",
       "  'propiedad': '1440 / VALLECITO--MIGUEL CONDORI MAMANI',\n",
       "  'lote': 'L5',\n",
       "  's3_filename': 'WhatsApp Image 2023-02-06 at 11.22.43.jpeg',\n",
       "  'foto': 'app.amigocloud.com/api/v1/related_tables/46845/files/3c76e814905746c0a4b65f60de899852/72c0f37058ed4e9d8120cb9486cb818e/WhatsApp%20Image%202023-02-06%20at%2011.22.43.jpeg'},\n",
       " {'canhero': '41956 / TORRICO SUAREZ CAROLINA',\n",
       "  'propiedad': '126 / PROP.LA MADRE--ABELARDO SUAREZ',\n",
       "  'lote': 'L7',\n",
       "  's3_filename': 'WhatsApp Image 2023-02-10 at 09.59.05.jpeg',\n",
       "  'foto': 'app.amigocloud.com/api/v1/related_tables/46845/files/5806f5b7fe8640838bce617150ba693a/8ab2d523f0684367bc907cc8cc85497c/WhatsApp%20Image%202023-02-10%20at%2009.59.05.jpeg'},\n",
       " {'canhero': '41956 / TORRICO SUAREZ CAROLINA',\n",
       "  'propiedad': '126 / PROP.LA MADRE--ABELARDO SUAREZ',\n",
       "  'lote': 'L2',\n",
       "  's3_filename': 'WhatsApp Image 2023-02-10 at 09.59.06 (1).jpeg',\n",
       "  'foto': 'app.amigocloud.com/api/v1/related_tables/46845/files/879fb4ea21df49998604485f67f38ddc/6e39e8ddf4d44f248389625b212c8dab/WhatsApp%20Image%202023-02-10%20at%2009.59.06%20(1).jpeg'},\n",
       " {'canhero': '41965 / ANCE CONDORI MIGUEL ANGEL ',\n",
       "  'propiedad': '1822 / AGUA DULCE--ANCE MIGUEL ANGEL',\n",
       "  'lote': 'L1',\n",
       "  's3_filename': 'WhatsApp Image 2023-02-10 at 09.45.11.jpeg',\n",
       "  'foto': 'app.amigocloud.com/api/v1/related_tables/46845/files/1ade7de5ccd04225b920c184ae0b96a7/d156f3ba1fbe46dd8fc1ddfa808dd74e/WhatsApp%20Image%202023-02-10%20at%2009.45.11.jpeg'},\n",
       " {'canhero': '42131 / AGROPECUARIA CAMPOAZUL S.R.L.',\n",
       "  'propiedad': '113 / EL PARAISO--JHONNY GUZMAN',\n",
       "  'lote': 'L6',\n",
       "  's3_filename': 'WhatsApp Image 2023-02-10 at 10.15.25.jpeg',\n",
       "  'foto': 'app.amigocloud.com/api/v1/related_tables/46845/files/ef9c177c43b24ac28c89f3ce0e2b75db/f3df877ac0a0461ca6ff578dabacb7f6/WhatsApp%20Image%202023-02-10%20at%2010.15.25.jpeg'},\n",
       " {'canhero': '465 / ACSAMA SALVADOR MARIO REYES ',\n",
       "  'propiedad': '1823 / PUESTO NUEVO--ACSAMA MARIO',\n",
       "  'lote': 'L1',\n",
       "  's3_filename': 'WhatsApp Image 2023-02-10 at 09.39.22 (1).jpeg',\n",
       "  'foto': 'app.amigocloud.com/api/v1/related_tables/46845/files/4a9f91a5da1b4b14a07763aa31c6e404/19ad29ac38394927aefadcf627956d4f/WhatsApp%20Image%202023-02-10%20at%2009.39.22%20(1).jpeg'},\n",
       " {'canhero': '465 / ACSAMA SALVADOR MARIO REYES ',\n",
       "  'propiedad': '1823 / PUESTO NUEVO--ACSAMA MARIO',\n",
       "  'lote': 'L5',\n",
       "  's3_filename': 'WhatsApp Image 2023-02-10 at 09.39.21 (1).jpeg',\n",
       "  'foto': 'app.amigocloud.com/api/v1/related_tables/46845/files/1da00f00c49c439da55a0b01cd6738ad/f9a8798e447e44f8b4557473c3749730/WhatsApp%20Image%202023-02-10%20at%2009.39.21%20(1).jpeg'},\n",
       " {'canhero': '770 / ANCE CONDORI JUANITO',\n",
       "  'propiedad': '548 / LIMONCITO--ANZE&CONDORI',\n",
       "  'lote': 'L5',\n",
       "  's3_filename': 'WhatsApp Image 2023-02-06 at 11.16.23.jpeg',\n",
       "  'foto': 'app.amigocloud.com/api/v1/related_tables/46845/files/04b1f4397eaa44eb932ba9964df4a6f2/e5156ca87c8b4207bc70c964e246622a/WhatsApp%20Image%202023-02-06%20at%2011.16.23.jpeg'},\n",
       " {'canhero': '770 / ANCE CONDORI JUANITO',\n",
       "  'propiedad': '1784 / NUEVA ESPERANZA--ANCE JUANITO',\n",
       "  'lote': 'L2',\n",
       "  's3_filename': 'WhatsApp Image 2023-02-10 at 09.45.11_8uAn2jE.jpeg',\n",
       "  'foto': 'app.amigocloud.com/api/v1/related_tables/46845/files/ea410aad74ba4824b6d55a77994f8d70/4bdf360889744e7e96f663ecd3b93a61/WhatsApp%20Image%202023-02-10%20at%2009.45.11.jpeg'}]"
      ]
     },
     "execution_count": 16,
     "metadata": {},
     "output_type": "execute_result"
    }
   ],
   "source": [
    "data"
   ]
  },
  {
   "cell_type": "code",
   "execution_count": 20,
   "id": "48e765f2",
   "metadata": {},
   "outputs": [
    {
     "name": "stdout",
     "output_type": "stream",
     "text": [
      "WhatsApp Image 2023-02-10 at 09.52.43 (1).jpeg\n",
      "WhatsApp Image 2023-02-10 at 09.52.44 (1).jpeg\n",
      "WENDE.jpeg\n",
      "WENDE2.jpeg\n",
      "SANTA ,ARTHA.jpeg\n",
      "MARTHA2.jpeg\n",
      "ROMEL 2.jpeg\n",
      "ROMEL.jpeg\n",
      "MARCY.jpeg\n",
      "SAMIR.jpeg\n",
      "WhatsApp Image 2023-02-06 at 11.22.43.jpeg\n",
      "WhatsApp Image 2023-02-10 at 09.59.05.jpeg\n",
      "WhatsApp Image 2023-02-10 at 09.59.06 (1).jpeg\n",
      "WhatsApp Image 2023-02-10 at 09.45.11.jpeg\n",
      "WhatsApp Image 2023-02-10 at 10.15.25.jpeg\n",
      "WhatsApp Image 2023-02-10 at 09.39.22 (1).jpeg\n",
      "WhatsApp Image 2023-02-10 at 09.39.21 (1).jpeg\n",
      "WhatsApp Image 2023-02-06 at 11.16.23.jpeg\n",
      "WhatsApp Image 2023-02-10 at 09.45.11_8uAn2jE.jpeg\n"
     ]
    }
   ],
   "source": [
    "from docxtpl import DocxTemplate\n",
    "import docxtpl\n",
    "from docx.shared import Mm\n",
    "\n",
    "import requests\n",
    "\n",
    "doc = DocxTemplate(\"templates/template_1ra_fotos.docx\")\n",
    "\n",
    "#descargar fotos y generar lista InlineImage\n",
    "lista_fotos_inline = []\n",
    "for foto in data:\n",
    "    response = requests.get(\"https://www-amigocloud.s3.amazonaws.com/gallery/\" + foto['s3_filename'])\n",
    "    file = open('fotos/' + foto['s3_filename'], \"wb\")\n",
    "    file.write(response.content)\n",
    "    file.close()\n",
    "    lista_fotos_inline.append({'foto': docxtpl.InlineImage(doc, image_descriptor='fotos/' + foto['s3_filename'], width=Mm(120)), 'canhero': foto['canhero']})\n",
    "    print(foto['s3_filename'])\n",
    "\n",
    "context = {'fotos':lista_fotos_inline}\n",
    "\n",
    "doc.render(context)\n",
    "file_name = 'SEMANA - ' + semana\n",
    "doc.save('_' + file_name + '.docx')"
   ]
  }
 ],
 "metadata": {
  "kernelspec": {
   "display_name": "Python 3 (ipykernel)",
   "language": "python",
   "name": "python3"
  },
  "language_info": {
   "codemirror_mode": {
    "name": "ipython",
    "version": 3
   },
   "file_extension": ".py",
   "mimetype": "text/x-python",
   "name": "python",
   "nbconvert_exporter": "python",
   "pygments_lexer": "ipython3",
   "version": "3.7.11"
  }
 },
 "nbformat": 4,
 "nbformat_minor": 5
}
