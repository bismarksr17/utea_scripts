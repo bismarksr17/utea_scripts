{
 "cells": [
  {
   "cell_type": "markdown",
   "id": "efd45d64",
   "metadata": {},
   "source": [
    "## Librerias"
   ]
  },
  {
   "cell_type": "code",
   "execution_count": 2,
   "id": "5cb5968b",
   "metadata": {},
   "outputs": [],
   "source": [
    "from werkzeug.wrappers import Request, Response\n",
    "#from flask import Flask, render_template\n",
    "from jinja2 import Template\n",
    "\n",
    "#from datetime import date\n",
    "from datetime import datetime, timedelta\n",
    "\n",
    "import collections\n",
    "from amigocloud import AmigoCloud\n",
    "\n",
    "from datetime import datetime"
   ]
  },
  {
   "cell_type": "markdown",
   "id": "9429e2a1",
   "metadata": {},
   "source": [
    "## Conectar a AmigoCloud"
   ]
  },
  {
   "cell_type": "code",
   "execution_count": 3,
   "id": "b046e5ec-e53a-4681-b08b-5406ced2f306",
   "metadata": {},
   "outputs": [
    {
     "data": {
      "text/plain": [
       "<amigocloud.amigocloud.AmigoCloud at 0x1f40c6dcec8>"
      ]
     },
     "execution_count": 3,
     "metadata": {},
     "output_type": "execute_result"
    }
   ],
   "source": [
    "# CONECTAR A AMIGOCLOUD\n",
    "acceso = open('../api_key/api.key','r')\n",
    "api_token = acceso.readlines()[0]\n",
    "acceso.close()\n",
    "amigocloud = AmigoCloud(token=api_token)\n",
    "amigocloud"
   ]
  },
  {
   "cell_type": "markdown",
   "id": "c1e7f707",
   "metadata": {},
   "source": [
    "## Datos de crédito"
   ]
  },
  {
   "cell_type": "code",
   "execution_count": 4,
   "id": "685262ce-7bbb-4469-92f2-eb113a0d5cba",
   "metadata": {},
   "outputs": [],
   "source": [
    "semana = 'S07'"
   ]
  },
  {
   "cell_type": "code",
   "execution_count": 5,
   "id": "3c8f0c01",
   "metadata": {},
   "outputs": [
    {
     "name": "stdout",
     "output_type": "stream",
     "text": [
      "end\n"
     ]
    }
   ],
   "source": [
    "query = {'query': 'select insp.canhero, prop.propiedad, lote.lote, gal.s3_filename, gal.amigocloud_url foto\\\n",
    "         from dataset_307560 insp\\\n",
    "         inner join dataset_307562 prop on insp.amigo_id=prop.insp_ref_prop\\\n",
    "         inner join dataset_307563 lote on prop.amigo_id=lote.prop_ref_lote\\\n",
    "         inner join gallery_46845 gal on lote.amigo_id=gal.source_amigo_id\\\n",
    "         where semana_1ra = \\'{sem}\\' order by canhero'.format(sem=semana)}\n",
    "select = amigocloud.get('https://app.amigocloud.com/api/v1/projects/32672/sql', query)\n",
    "data = select['data']\n",
    "#credito = collections.namedtuple(\"credito\", credito_data.keys())(*credito_data.values())\n",
    "print('end')"
   ]
  },
  {
   "cell_type": "code",
   "execution_count": 6,
   "id": "e49ecf6d-4c9f-4e23-9264-781eba0df1ac",
   "metadata": {},
   "outputs": [
    {
     "data": {
      "text/plain": [
       "[{'canhero': '11227 / QUIROZ OLGUIN DENICE',\n",
       "  'propiedad': '741 / PROPIEDAD TARIJA II--OLGUIN',\n",
       "  'lote': 'L2.1',\n",
       "  's3_filename': 'WhatsApp Image 2023-02-17 at 15.25.54.jpeg',\n",
       "  'foto': 'app.amigocloud.com/api/v1/related_tables/46845/files/4906259a5149492fbe433cefe7b2448a/360cd77e059e4ab099170d66b9b3e2e8/WhatsApp%20Image%202023-02-17%20at%2015.25.54.jpeg'},\n",
       " {'canhero': '1218 / BALCAZAR ALCANTARA JOSE LOLY',\n",
       "  'propiedad': '510 / LA BELLA & SANTA ROSA I & VILLA FLORES',\n",
       "  'lote': 'L5.2',\n",
       "  's3_filename': 'LOLY.jpeg',\n",
       "  'foto': 'app.amigocloud.com/api/v1/related_tables/46845/files/a9d29cc46f17430f893240726c966d64/68edd3077c35424aa9259aec7dc64da2/LOLY.jpeg'},\n",
       " {'canhero': '18028 / RIVERO GUTIERREZ FRANCISCO',\n",
       "  'propiedad': '705 / LOMAS DE BIBOSI RIVERO',\n",
       "  'lote': 'L1.2',\n",
       "  's3_filename': 'WhatsApp Image 2023-02-17 at 15.06.54 (1).jpeg',\n",
       "  'foto': 'app.amigocloud.com/api/v1/related_tables/46845/files/35206a63a45f407cb9ed860e9efdd7d8/38bfbb28abec4852a3fce8ff9fcb33f5/WhatsApp%20Image%202023-02-17%20at%2015.06.54%20(1).jpeg'},\n",
       " {'canhero': '18028 / RIVERO GUTIERREZ FRANCISCO',\n",
       "  'propiedad': '705 / LOMAS DE BIBOSI RIVERO',\n",
       "  'lote': 'L5',\n",
       "  's3_filename': 'WhatsApp Image 2023-02-17 at 15.06.56 (1).jpeg',\n",
       "  'foto': 'app.amigocloud.com/api/v1/related_tables/46845/files/dced4c088fee41ebad142d5df600b103/2512cd6eb67f43e78804f8962f402b8b/WhatsApp%20Image%202023-02-17%20at%2015.06.56%20(1).jpeg'},\n",
       " {'canhero': '2565 / CANDIA RUIZ JOSE LUIS',\n",
       "  'propiedad': '408 / SANTA ROSA--CANDIA R JOSE LUIS',\n",
       "  'lote': 'L5.2',\n",
       "  's3_filename': 'CANDIA.jpeg',\n",
       "  'foto': 'app.amigocloud.com/api/v1/related_tables/46845/files/028512cee20341b88b607ef044edabbb/1734f54f28644fa9b207de5bd504a065/CANDIA.jpeg'},\n",
       " {'canhero': '2565 / CANDIA RUIZ JOSE LUIS',\n",
       "  'propiedad': '360 / EL CONGO--VICTOR HUANCA',\n",
       "  'lote': 'L8',\n",
       "  's3_filename': 'CANDIA 2.jpeg',\n",
       "  'foto': 'app.amigocloud.com/api/v1/related_tables/46845/files/20221412696c43acba562ab2bf67cdad/18357e59a7c6404ba8e3f2982abc9493/CANDIA%202.jpeg'},\n",
       " {'canhero': '40144 / RIVERO AGUAYO FRANCISCO ',\n",
       "  'propiedad': '705 / LOMAS DE BIBOSI RIVERO',\n",
       "  'lote': 'L1.1',\n",
       "  's3_filename': 'WhatsApp Image 2023-02-17 at 15.06.55.jpeg',\n",
       "  'foto': 'app.amigocloud.com/api/v1/related_tables/46845/files/2e9425d108a4407da4dd82434a483694/fdaf3f91e94b487fae19d1d1653a7753/WhatsApp%20Image%202023-02-17%20at%2015.06.55.jpeg'},\n",
       " {'canhero': '40256 / INSERVA DAMIANA S.R.L.',\n",
       "  'propiedad': '253 / 6 DE AGOSTO--DAMIANA',\n",
       "  'lote': 'L19',\n",
       "  's3_filename': 'WhatsApp Image 2023-02-17 at 15.49.04.jpeg',\n",
       "  'foto': 'app.amigocloud.com/api/v1/related_tables/46845/files/7a092471510c4392804197e430d81b7d/7d3bd8b8864f46f5b1867d70a9daa2c7/WhatsApp%20Image%202023-02-17%20at%2015.49.04.jpeg'},\n",
       " {'canhero': '40256 / INSERVA DAMIANA S.R.L.',\n",
       "  'propiedad': '253 / 6 DE AGOSTO--DAMIANA',\n",
       "  'lote': 'L6.2',\n",
       "  's3_filename': 'WhatsApp Image 2023-02-17 at 15.49.05.jpeg',\n",
       "  'foto': 'app.amigocloud.com/api/v1/related_tables/46845/files/eac4e6d7b5b84fe893dda3f74202f8e5/d595b2b6899d40ceb08ada64a7ce3fd6/WhatsApp%20Image%202023-02-17%20at%2015.49.05.jpeg'},\n",
       " {'canhero': '41544 / AMURRIO TAPIA JOSE LUIS',\n",
       "  'propiedad': '525 / LA LECHERIA--AMURRIO',\n",
       "  'lote': 'L1',\n",
       "  's3_filename': 'WhatsApp Image 2023-02-17 at 15.47.21 (2).jpeg',\n",
       "  'foto': 'app.amigocloud.com/api/v1/related_tables/46845/files/4ccb25aba50c4b56a24c7c4e5e276ddc/5c32b11f4cf146febdf740dc351ccc4b/WhatsApp%20Image%202023-02-17%20at%2015.47.21%20(2).jpeg'},\n",
       " {'canhero': '41546 / CASANOVA BASTOS PEDRO RAMIRO',\n",
       "  'propiedad': '556 / SAN MARTIN--CASANOVA',\n",
       "  'lote': 'L8.1',\n",
       "  's3_filename': 'Imagen de WhatsApp 2023-02-18 a las s09.49.34.jpg',\n",
       "  'foto': 'app.amigocloud.com/api/v1/related_tables/46845/files/05c49083b8554f959254a80dce95c960/b65ba29d73364711be2f6f2e6b40927f/Imagen%20de%20WhatsApp%202023-02-18%20a%20las%20s09.49.34.jpg'},\n",
       " {'canhero': '41554 / LEDEZMA SALAZAR RICHARD JIMMY',\n",
       "  'propiedad': '825 / HECTOR I--SALAZAR ARNEZ',\n",
       "  'lote': 'L3',\n",
       "  's3_filename': 'WhatsApp Image 2023-02-17 at 1.31.04 PM.jpeg',\n",
       "  'foto': 'app.amigocloud.com/api/v1/related_tables/46845/files/87dec22b7a6044e0967b442bb3f72ec3/bcb90d6adfb042ea96f66fa220be6ed2/WhatsApp%20Image%202023-02-17%20at%201.31.04%20PM.jpeg'},\n",
       " {'canhero': '41821 / AGROMETALDIBRI S.R.L.',\n",
       "  'propiedad': '1825 / PARCELA 43--AGROMETALDIBRI SRL',\n",
       "  'lote': 'L1',\n",
       "  's3_filename': 'WhatsApp Image 2023-02-18 at 11.46.27.jpeg',\n",
       "  'foto': 'app.amigocloud.com/api/v1/related_tables/46845/files/3bcc76d194d542aabbbe7994ad84b0f8/ead1491509254c67bfdfb4ad5dde5b8b/WhatsApp%20Image%202023-02-18%20at%2011.46.27.jpeg'},\n",
       " {'canhero': '41823 / VARGAS MAMANI JOSUE',\n",
       "  'propiedad': '1199 / SAN MARCOS--ISMAEL VARGAS',\n",
       "  'lote': 'L19',\n",
       "  's3_filename': 'WhatsApp Image 2023-02-17 at 15.48.19.jpeg',\n",
       "  'foto': 'app.amigocloud.com/api/v1/related_tables/46845/files/bc3b6161792146cb83cca9be258b7804/1b0c59362f0943518fbd3bc2ef5c0047/WhatsApp%20Image%202023-02-17%20at%2015.48.19.jpeg'},\n",
       " {'canhero': '41823 / VARGAS MAMANI JOSUE',\n",
       "  'propiedad': '1826 / SAN MARCOS--VARGAS JOSUE',\n",
       "  'lote': 'L1',\n",
       "  's3_filename': 'WhatsApp Image 2023-02-17 at 15.48.21 (1).jpeg',\n",
       "  'foto': 'app.amigocloud.com/api/v1/related_tables/46845/files/419faff2322e4a36a97a521d4a205d94/89f30d94178f412a91e99c1623b1cab9/WhatsApp%20Image%202023-02-17%20at%2015.48.21%20(1).jpeg'},\n",
       " {'canhero': '42025 / TRUJILLO CONDORI JAIME ',\n",
       "  'propiedad': '1393 / CUPESI 1--JOSE LUIS CARBAJAL',\n",
       "  'lote': 'L5',\n",
       "  's3_filename': 'WhatsApp Image 2023-02-17 at 15.47.20.jpeg',\n",
       "  'foto': 'app.amigocloud.com/api/v1/related_tables/46845/files/54ec33bfcfcf4b3ea5471d14f4dc3dcb/f5d07f76d97a408f9920127b4771f09d/WhatsApp%20Image%202023-02-17%20at%2015.47.20.jpeg'},\n",
       " {'canhero': '42025 / TRUJILLO CONDORI JAIME ',\n",
       "  'propiedad': '1547 / QUINTA YOSHI--PONCIANO TRUJILLO',\n",
       "  'lote': 'L2',\n",
       "  's3_filename': 'WhatsApp Image 2023-02-10 at 09.59.06 (1)_NpgjNUa.jpeg',\n",
       "  'foto': 'app.amigocloud.com/api/v1/related_tables/46845/files/c1bea7feaa1e41c88b92542635b52a69/1d9de617ed714ae6b46b79d0df077cd7/WhatsApp%20Image%202023-02-10%20at%2009.59.06%20(1).jpeg'},\n",
       " {'canhero': '42164 / GUTIERREZ ROJAS ALEXANDER',\n",
       "  'propiedad': '779 / LOS GUTIERREZ--GUTIERREZ',\n",
       "  'lote': 'L1',\n",
       "  's3_filename': 'WhatsApp Image 2023-02-17 at 15.23.12.jpeg',\n",
       "  'foto': 'app.amigocloud.com/api/v1/related_tables/46845/files/5241404dbe9f45b08d1cc3899eb54076/09b2cbb2895140728b9f1e232ab16a9f/WhatsApp%20Image%202023-02-17%20at%2015.23.12.jpeg'},\n",
       " {'canhero': '446 / AGUILERA ANEZ JHONNY',\n",
       "  'propiedad': '400 / TOTAISAL--AGUILERA AÑEZ',\n",
       "  'lote': 'L3',\n",
       "  's3_filename': 'WhatsApp Image 2023-02-17 at 1.31.03 PM.jpeg',\n",
       "  'foto': 'app.amigocloud.com/api/v1/related_tables/46845/files/f16761aedbd347e3975b63142dac1362/fbc28716858b4cef89f4ef8b1c4c4c83/WhatsApp%20Image%202023-02-17%20at%201.31.03%20PM.jpeg'},\n",
       " {'canhero': '446 / AGUILERA ANEZ JHONNY',\n",
       "  'propiedad': '62 / EL REFUGIO--AGUILERA AÑEZ',\n",
       "  'lote': 'L5.2',\n",
       "  's3_filename': 'WhatsApp Image 2023-02-17 at 1.31.02 PM (2).jpeg',\n",
       "  'foto': 'app.amigocloud.com/api/v1/related_tables/46845/files/5c36062aef614850a63c70f9a93e0516/fbd8aa738f3d44d5ab39aa12b3ea7a84/WhatsApp%20Image%202023-02-17%20at%201.31.02%20PM%20(2).jpeg'},\n",
       " {'canhero': '5345 / HUANCA SUAREZ EDGAR ',\n",
       "  'propiedad': '26 / MONACO--HUANCA',\n",
       "  'lote': 'L4.2.1',\n",
       "  's3_filename': 'HUANCA.jpeg',\n",
       "  'foto': 'app.amigocloud.com/api/v1/related_tables/46845/files/70f1a188ee2e49859cf5ebd71f364efc/18f0a195bfa64f398fd44d5eba026e17/HUANCA.jpeg'},\n",
       " {'canhero': '5385 / HUANCA CANO MARIA ',\n",
       "  'propiedad': '961 / 10 DE MAYO--FLORENCIO FLORES',\n",
       "  'lote': 'L2.3',\n",
       "  's3_filename': 'WhatsApp Image 2023-02-16 at 9.43.39 AM.jpeg',\n",
       "  'foto': 'app.amigocloud.com/api/v1/related_tables/46845/files/7cef00000dac434aaf29ce9fa61c55b4/47c4c2b00614438b9e4b457410aaf7f9/WhatsApp%20Image%202023-02-16%20at%209.43.39%20AM.jpeg'},\n",
       " {'canhero': '5385 / HUANCA CANO MARIA ',\n",
       "  'propiedad': '766 / PUEBLO NUEVO--HUANCA',\n",
       "  'lote': 'L1.2',\n",
       "  's3_filename': 'WhatsApp Image 2023-02-16 at 9.43.39 AM (1).jpeg',\n",
       "  'foto': 'app.amigocloud.com/api/v1/related_tables/46845/files/0ba7687fbcb94af69e5d0bdbded1b4ad/d3e3b0e88ee04583a178e105faccdff0/WhatsApp%20Image%202023-02-16%20at%209.43.39%20AM%20(1).jpeg'},\n",
       " {'canhero': '7494 / LINARES S. AIDEE',\n",
       "  'propiedad': '941 / SURRAPA II--AIDEE LINARES',\n",
       "  'lote': 'L5',\n",
       "  's3_filename': 'AIDE LINARES.jpeg',\n",
       "  'foto': 'app.amigocloud.com/api/v1/related_tables/46845/files/7f528d432da7437599777cfdb8d5878f/fbcb7ab990be438cbe14a4be4df2c8a5/AIDE%20LINARES.jpeg'},\n",
       " {'canhero': '765 / AGROP. CATALA S.R.L.',\n",
       "  'propiedad': '210 / SAN LUIS SEBASTIAN--CATALA',\n",
       "  'lote': 'L3',\n",
       "  's3_filename': 'WhatsApp Image 2023-02-03 at 16.35.29 (2).jpeg',\n",
       "  'foto': 'app.amigocloud.com/api/v1/related_tables/46845/files/bdcf275d14f646328f96a9b7af19f6b3/ceb474b74b294e7b9dcab17533a4f32a/WhatsApp%20Image%202023-02-03%20at%2016.35.29%20(2).jpeg'},\n",
       " {'canhero': '8028 / ZABALA GARRIDO MARCELO',\n",
       "  'propiedad': '129 / PUESTO ZABALA--MARCELO ZABALA',\n",
       "  'lote': 'L1',\n",
       "  's3_filename': '20230214_104124.jpg',\n",
       "  'foto': 'app.amigocloud.com/api/v1/related_tables/46845/files/7fcb815a7aa344c6bf3e731015f44811/c681dc33720445dd9df8e11cb906ecce/20230214_104124.jpg'},\n",
       " {'canhero': '8140 / MASAI CHAVEZ SIRLE YOBANA ',\n",
       "  'propiedad': '943 / PAILON--EDGAR HUANCA',\n",
       "  'lote': 'L1.2',\n",
       "  's3_filename': 'YOVANA MASAI 2.jpeg',\n",
       "  'foto': 'app.amigocloud.com/api/v1/related_tables/46845/files/8e88df921bc24bc08bb02c3867fbfa49/6594795a70c441cbb0dd1ef3aee25570/YOVANA%20MASAI%202.jpeg'},\n",
       " {'canhero': '8140 / MASAI CHAVEZ SIRLE YOBANA ',\n",
       "  'propiedad': '26 / MONACO--HUANCA',\n",
       "  'lote': 'L4.2.2',\n",
       "  's3_filename': 'YOVANA MASAY.jpeg',\n",
       "  'foto': 'app.amigocloud.com/api/v1/related_tables/46845/files/d213148c17b64356ab55ca9a574aa8ca/2186e2ebb8be48969991ec42ccb2cab6/YOVANA%20MASAY.jpeg'},\n",
       " {'canhero': '9722 / OLGUIN FLORES MIGUELINA ',\n",
       "  'propiedad': '71 / TARIJA I--CRUZ',\n",
       "  'lote': 'L1',\n",
       "  's3_filename': 'WhatsApp Image 2023-02-17 at 15.25.53.jpeg',\n",
       "  'foto': 'app.amigocloud.com/api/v1/related_tables/46845/files/99eef9b868564a698e53241737719cee/7d46f231eaf24b54ac3e95dca94f52c5/WhatsApp%20Image%202023-02-17%20at%2015.25.53.jpeg'}]"
      ]
     },
     "execution_count": 6,
     "metadata": {},
     "output_type": "execute_result"
    }
   ],
   "source": [
    "data"
   ]
  },
  {
   "cell_type": "code",
   "execution_count": null,
   "id": "48e765f2",
   "metadata": {},
   "outputs": [
    {
     "name": "stdout",
     "output_type": "stream",
     "text": [
      "WhatsApp Image 2023-02-17 at 15.25.54.jpeg\n",
      "LOLY.jpeg\n",
      "WhatsApp Image 2023-02-17 at 15.06.54 (1).jpeg\n",
      "WhatsApp Image 2023-02-17 at 15.06.56 (1).jpeg\n",
      "CANDIA.jpeg\n",
      "CANDIA 2.jpeg\n",
      "WhatsApp Image 2023-02-17 at 15.06.55.jpeg\n",
      "WhatsApp Image 2023-02-17 at 15.49.04.jpeg\n",
      "WhatsApp Image 2023-02-17 at 15.49.05.jpeg\n",
      "WhatsApp Image 2023-02-17 at 15.47.21 (2).jpeg\n",
      "Imagen de WhatsApp 2023-02-18 a las s09.49.34.jpg\n",
      "WhatsApp Image 2023-02-17 at 1.31.04 PM.jpeg\n",
      "WhatsApp Image 2023-02-18 at 11.46.27.jpeg\n",
      "WhatsApp Image 2023-02-17 at 15.48.19.jpeg\n",
      "WhatsApp Image 2023-02-17 at 15.48.21 (1).jpeg\n",
      "WhatsApp Image 2023-02-17 at 15.47.20.jpeg\n",
      "WhatsApp Image 2023-02-10 at 09.59.06 (1)_NpgjNUa.jpeg\n",
      "WhatsApp Image 2023-02-17 at 15.23.12.jpeg\n",
      "WhatsApp Image 2023-02-17 at 1.31.03 PM.jpeg\n",
      "WhatsApp Image 2023-02-17 at 1.31.02 PM (2).jpeg\n",
      "HUANCA.jpeg\n",
      "WhatsApp Image 2023-02-16 at 9.43.39 AM.jpeg\n",
      "WhatsApp Image 2023-02-16 at 9.43.39 AM (1).jpeg\n",
      "AIDE LINARES.jpeg\n",
      "WhatsApp Image 2023-02-03 at 16.35.29 (2).jpeg\n"
     ]
    }
   ],
   "source": [
    "from docxtpl import DocxTemplate\n",
    "import docxtpl\n",
    "from docx.shared import Mm\n",
    "\n",
    "import requests\n",
    "\n",
    "doc = DocxTemplate(\"templates/template_1ra_fotos.docx\")\n",
    "\n",
    "#descargar fotos y generar lista InlineImage\n",
    "lista_fotos_inline = []\n",
    "for foto in data:\n",
    "    response = requests.get(\"https://www-amigocloud.s3.amazonaws.com/gallery/\" + foto['s3_filename'])\n",
    "    file = open('fotos/' + foto['s3_filename'], \"wb\")\n",
    "    file.write(response.content)\n",
    "    file.close()\n",
    "    lista_fotos_inline.append({'foto': docxtpl.InlineImage(doc, image_descriptor='fotos/' + foto['s3_filename'], width=Mm(120)), 'canhero': foto['canhero']})\n",
    "    print(foto['s3_filename'])\n",
    "\n",
    "context = {'fotos':lista_fotos_inline}\n",
    "\n",
    "doc.render(context)\n",
    "file_name = 'SEMANA - ' + semana\n",
    "doc.save('_' + file_name + '.docx')"
   ]
  }
 ],
 "metadata": {
  "kernelspec": {
   "display_name": "Python 3 (ipykernel)",
   "language": "python",
   "name": "python3"
  },
  "language_info": {
   "codemirror_mode": {
    "name": "ipython",
    "version": 3
   },
   "file_extension": ".py",
   "mimetype": "text/x-python",
   "name": "python",
   "nbconvert_exporter": "python",
   "pygments_lexer": "ipython3",
   "version": "3.7.11"
  }
 },
 "nbformat": 4,
 "nbformat_minor": 5
}
