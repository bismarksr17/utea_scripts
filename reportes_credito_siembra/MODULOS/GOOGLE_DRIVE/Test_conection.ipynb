{
 "cells": [
  {
   "cell_type": "code",
   "execution_count": null,
   "id": "ffc603c8-d68a-4dab-bd1c-6fade8109aca",
   "metadata": {},
   "outputs": [],
   "source": [
    "#!pip install pydrive"
   ]
  },
  {
   "cell_type": "code",
   "execution_count": 1,
   "id": "55bb12d0",
   "metadata": {},
   "outputs": [],
   "source": [
    "import os"
   ]
  },
  {
   "cell_type": "code",
   "execution_count": 4,
   "id": "352e1bf5",
   "metadata": {},
   "outputs": [
    {
     "data": {
      "text/plain": [
       "{13132: '13132_ZUMARAN MENACHO JORGE.pdf',\n",
       " 18088: '18088_FRERKING ORTIZ RICARDO.pdf',\n",
       " 2816: '2816_DONOSO BLANCO ALBERTO.pdf',\n",
       " 42154: '42154_PIZARRO CABRERA ARMANDO CESAR.pdf',\n",
       " 42191: '42191_CALVI LEON MARIOLY.pdf',\n",
       " 515: '515_AGUILERA OLGA RIVERO DE.pdf',\n",
       " 594: '594_AGROPECUARIA FLAMBOYAN.pdf',\n",
       " 7506: '7506_LOHENER ROSENDA SHEILA PAZ DE.pdf',\n",
       " 86: '86_AGUILERA TARADELLES JOSE LUIS.pdf'}"
      ]
     },
     "execution_count": 4,
     "metadata": {},
     "output_type": "execute_result"
    }
   ],
   "source": [
    "contenido = os.listdir(r'D:\\PYTHON\\utea_scripts\\reportes_credito_siembra\\pdfs')\n",
    "\n",
    "dic_files = {}\n",
    "for file in contenido:\n",
    "    split = file.split('_')\n",
    "    dic_files[int(split[0])] = file\n",
    "dic_files"
   ]
  },
  {
   "cell_type": "markdown",
   "id": "0965c43d",
   "metadata": {},
   "source": [
    "#  CARGAR FILES A DRIVE"
   ]
  },
  {
   "cell_type": "code",
   "execution_count": 5,
   "id": "24d6954e",
   "metadata": {},
   "outputs": [
    {
     "name": "stdout",
     "output_type": "stream",
     "text": [
      "Your browser has been opened to visit:\n",
      "\n",
      "    https://accounts.google.com/o/oauth2/auth?client_id=1096764895697-57btfmtn7rdejufct5qq4j9mi61j0unl.apps.googleusercontent.com&redirect_uri=http%3A%2F%2Flocalhost%3A8080%2F&scope=https%3A%2F%2Fwww.googleapis.com%2Fauth%2Fdrive&access_type=offline&response_type=code\n",
      "\n",
      "Authentication successful.\n"
     ]
    }
   ],
   "source": [
    "from pydrive.auth import GoogleAuth\n",
    "from pydrive.drive import GoogleDrive\n",
    "\n",
    "gauth = GoogleAuth()\n",
    "gauth.LocalWebserverAuth() # client_secrets.json need to be in the same directory as the script\n",
    "drive = GoogleDrive(gauth)"
   ]
  },
  {
   "cell_type": "code",
   "execution_count": 6,
   "id": "bed250fb-448e-438f-a9c5-fba5540ff787",
   "metadata": {},
   "outputs": [
    {
     "name": "stdout",
     "output_type": "stream",
     "text": [
      "9 INFORMES\n"
     ]
    },
    {
     "data": {
      "text/plain": [
       "{13132: '13132_ZUMARAN MENACHO JORGE.pdf',\n",
       " 18088: '18088_FRERKING ORTIZ RICARDO.pdf',\n",
       " 2816: '2816_DONOSO BLANCO ALBERTO.pdf',\n",
       " 42154: '42154_PIZARRO CABRERA ARMANDO CESAR.pdf',\n",
       " 42191: '42191_CALVI LEON MARIOLY.pdf',\n",
       " 515: '515_AGUILERA OLGA RIVERO DE.pdf',\n",
       " 594: '594_AGROPECUARIA FLAMBOYAN.pdf',\n",
       " 7506: '7506_LOHENER ROSENDA SHEILA PAZ DE.pdf',\n",
       " 86: '86_AGUILERA TARADELLES JOSE LUIS.pdf'}"
      ]
     },
     "execution_count": 6,
     "metadata": {},
     "output_type": "execute_result"
    }
   ],
   "source": [
    "print(len(dic_files), 'INFORMES')\n",
    "dic_files"
   ]
  },
  {
   "cell_type": "code",
   "execution_count": 9,
   "id": "09bef398",
   "metadata": {},
   "outputs": [
    {
     "name": "stdout",
     "output_type": "stream",
     "text": [
      "Created file 13132_ZUMARAN MENACHO JORGE.pdf with mimeType application/pdf\n",
      "Created file 18088_FRERKING ORTIZ RICARDO.pdf with mimeType application/pdf\n",
      "Created file 2816_DONOSO BLANCO ALBERTO.pdf with mimeType application/pdf\n",
      "Created file 42154_PIZARRO CABRERA ARMANDO CESAR.pdf with mimeType application/pdf\n",
      "Created file 42191_CALVI LEON MARIOLY.pdf with mimeType application/pdf\n",
      "Created file 515_AGUILERA OLGA RIVERO DE.pdf with mimeType application/pdf\n",
      "Created file 594_AGROPECUARIA FLAMBOYAN.pdf with mimeType application/pdf\n",
      "Created file 7506_LOHENER ROSENDA SHEILA PAZ DE.pdf with mimeType application/pdf\n",
      "Created file 86_AGUILERA TARADELLES JOSE LUIS.pdf with mimeType application/pdf\n",
      "end\n"
     ]
    }
   ],
   "source": [
    "dic_urls = {}\n",
    "# View all folders and file in your Google Drive\n",
    "fileList = drive.ListFile({'q': \"'root' in parents and trashed=false\"}).GetList()\n",
    "for file in fileList:\n",
    "  #print('Title: %s, ID: %s' % (file['title'], file['id']))\n",
    "  # Get the folder ID that you want\n",
    "  if(file['title'] == \"1RA_INSPECCION\"):\n",
    "      fileID = file['id']\n",
    "\n",
    "for file in dic_files:\n",
    "    file1 = drive.CreateFile({\"mimeType\": \"application/pdf\", \"parents\": [{\"kind\": \"drive#fileLink\", \"id\": fileID}]})\n",
    "    file1['title'] = dic_files[file]\n",
    "    file1.SetContentFile(r'D:\\PYTHON\\utea_scripts\\reportes_credito_siembra\\pdfs//' + dic_files[file])\n",
    "    file1.Upload() # Upload the file.\n",
    "    print('Created file %s with mimeType %s' % (file1['title'], file1['mimeType']))\n",
    "    permission = file1.InsertPermission({\n",
    "                        'type': 'anyone',\n",
    "                        'value': 'anyone',\n",
    "                        'role': 'reader'})\n",
    "    dic_urls[file] = file1['alternateLink']\n",
    "dic_urls\n",
    "print('end')"
   ]
  },
  {
   "cell_type": "code",
   "execution_count": 10,
   "id": "d82634b6",
   "metadata": {},
   "outputs": [
    {
     "name": "stdout",
     "output_type": "stream",
     "text": [
      "9 URLs\n"
     ]
    },
    {
     "data": {
      "text/plain": [
       "{13132: 'https://drive.google.com/file/d/1xlejwzRx3Dq6iBzeLisrsLKE7eqddRrI/view?usp=drivesdk',\n",
       " 18088: 'https://drive.google.com/file/d/1ArH4lMotAytLVvY7EamVuijfucWExQ_r/view?usp=drivesdk',\n",
       " 2816: 'https://drive.google.com/file/d/1uCaA5ecEHmgTukwk4MPDd0T961_GtVg_/view?usp=drivesdk',\n",
       " 42154: 'https://drive.google.com/file/d/1e6fXf-whgzuujFoQVNAObM1EBDg6c6S8/view?usp=drivesdk',\n",
       " 42191: 'https://drive.google.com/file/d/1guW8dCLiiG7KoMlaQVZfE1GRlvz_PFl4/view?usp=drivesdk',\n",
       " 515: 'https://drive.google.com/file/d/11Wh31FjxRBd4IGb4fDZR8Go3zJPIdWpC/view?usp=drivesdk',\n",
       " 594: 'https://drive.google.com/file/d/1Y2XYf01__kRFXJCjK4tRwrsSsNbWln00/view?usp=drivesdk',\n",
       " 7506: 'https://drive.google.com/file/d/16skeJXdRBQMNb8WGS3OXe5o_cANdAV6m/view?usp=drivesdk',\n",
       " 86: 'https://drive.google.com/file/d/1PfWAityoc55ZNPFRqIY9T-neE-7Omg5J/view?usp=drivesdk'}"
      ]
     },
     "execution_count": 10,
     "metadata": {},
     "output_type": "execute_result"
    }
   ],
   "source": [
    "print(len(dic_urls), 'URLs')\n",
    "dic_urls"
   ]
  },
  {
   "cell_type": "markdown",
   "id": "0474d333",
   "metadata": {},
   "source": [
    "# CONECTAR A AMIGOCLOUD"
   ]
  },
  {
   "cell_type": "code",
   "execution_count": 12,
   "id": "8bae518a",
   "metadata": {
    "scrolled": true
   },
   "outputs": [],
   "source": [
    "from amigocloud import AmigoCloud"
   ]
  },
  {
   "cell_type": "code",
   "execution_count": 15,
   "id": "2dedb595-5b01-48fd-9137-e99330ae0e07",
   "metadata": {},
   "outputs": [
    {
     "name": "stderr",
     "output_type": "stream",
     "text": [
      "WARNING:socketIO-client:app.amigocloud.com:443/v2_socket.io/socket.io [connection error] recv disconnected ([Errno 2] No such file or directory)\n"
     ]
    },
    {
     "data": {
      "text/plain": [
       "<amigocloud.amigocloud.AmigoCloud at 0x1637121fa08>"
      ]
     },
     "execution_count": 15,
     "metadata": {},
     "output_type": "execute_result"
    }
   ],
   "source": [
    "# CONECTAR A AMIGOCLOUD\n",
    "acceso = open('../../../api_key/api.key','r')\n",
    "api_token = acceso.readlines()[0]\n",
    "acceso.close()\n",
    "amigocloud = AmigoCloud(token=api_token)\n",
    "amigocloud"
   ]
  },
  {
   "cell_type": "code",
   "execution_count": 16,
   "id": "c4ca8775",
   "metadata": {},
   "outputs": [
    {
     "name": "stdout",
     "output_type": "stream",
     "text": [
      "13132\n",
      "18088\n",
      "2816\n",
      "42154\n",
      "42191\n",
      "515\n",
      "594\n",
      "7506\n",
      "86\n",
      "end\n"
     ]
    }
   ],
   "source": [
    "for key in dic_urls:\n",
    "    query = {'query': 'update dataset_307560 set link_doc_1ra = \\'{link}\\' where cast(SPLIT_PART(canhero, \\' / \\', 1) as integer) = \\'{cod}\\''.format(link=dic_urls[key], cod=key)}\n",
    "    res = amigocloud.post('https://app.amigocloud.com/api/v1/projects/32672/sql', query)\n",
    "    print(key)\n",
    "print('end')"
   ]
  },
  {
   "cell_type": "markdown",
   "id": "1ed2aeba",
   "metadata": {},
   "source": [
    "# -----------------------------------------------------------"
   ]
  },
  {
   "cell_type": "markdown",
   "id": "ba9ee21e",
   "metadata": {},
   "source": [
    "# CONECCION A DRIVE"
   ]
  },
  {
   "cell_type": "code",
   "execution_count": null,
   "id": "3214cfd4",
   "metadata": {},
   "outputs": [],
   "source": [
    "from pydrive.auth import GoogleAuth\n",
    "from pydrive.drive import GoogleDrive\n",
    "\n",
    "gauth = GoogleAuth()\n",
    "gauth.LocalWebserverAuth() # client_secrets.json need to be in the same directory as the script\n",
    "drive = GoogleDrive(gauth)"
   ]
  },
  {
   "cell_type": "code",
   "execution_count": null,
   "id": "4ab01e0f",
   "metadata": {},
   "outputs": [],
   "source": [
    "# View all folders and file in your Google Drive\n",
    "fileList = drive.ListFile({'q': \"'root' in parents and trashed=false\"}).GetList()\n",
    "for file in fileList:\n",
    "  print('Title: %s, ID: %s' % (file['title'], file['id']))\n",
    "  # Get the folder ID that you want\n",
    "  if(file['title'] == \"REPORTES_CREDITO\"):\n",
    "      fileID = file['id']\n",
    "\n",
    "file1 = drive.CreateFile({\"mimeType\": \"application/pdf\", \"parents\": [{\"kind\": \"drive#fileLink\", \"id\": fileID}]})\n",
    "file1.SetContentFile(\"file.pdf\")\n",
    "file1.Upload() # Upload the file.\n",
    "print('Created file %s with mimeType %s' % (file1['title'], file1['mimeType']))"
   ]
  },
  {
   "cell_type": "code",
   "execution_count": null,
   "id": "bb1acb28",
   "metadata": {},
   "outputs": [],
   "source": [
    "permission = file1.InsertPermission({\n",
    "                        'type': 'anyone',\n",
    "                        'value': 'anyone',\n",
    "                        'role': 'reader'})\n",
    "\n",
    "print(file1['alternateLink'])  # Display the sharable link."
   ]
  },
  {
   "cell_type": "code",
   "execution_count": null,
   "id": "7a9a0b5a",
   "metadata": {},
   "outputs": [],
   "source": [
    "for file in fileList[0]:\n",
    "    print(file, '       ',fileList[0][file])"
   ]
  },
  {
   "cell_type": "code",
   "execution_count": null,
   "id": "42db2945",
   "metadata": {},
   "outputs": [],
   "source": [
    "fileList[0]['title']"
   ]
  }
 ],
 "metadata": {
  "kernelspec": {
   "display_name": "Python 3 (ipykernel)",
   "language": "python",
   "name": "python3"
  },
  "language_info": {
   "codemirror_mode": {
    "name": "ipython",
    "version": 3
   },
   "file_extension": ".py",
   "mimetype": "text/x-python",
   "name": "python",
   "nbconvert_exporter": "python",
   "pygments_lexer": "ipython3",
   "version": "3.7.11"
  }
 },
 "nbformat": 4,
 "nbformat_minor": 5
}
