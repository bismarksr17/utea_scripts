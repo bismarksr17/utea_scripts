{
 "cells": [
  {
   "cell_type": "code",
   "execution_count": null,
   "id": "ffc603c8-d68a-4dab-bd1c-6fade8109aca",
   "metadata": {},
   "outputs": [],
   "source": [
    "#!pip install pydrive"
   ]
  },
  {
   "cell_type": "code",
   "execution_count": null,
   "id": "55bb12d0",
   "metadata": {},
   "outputs": [],
   "source": [
    "import os"
   ]
  },
  {
   "cell_type": "code",
   "execution_count": null,
   "id": "352e1bf5",
   "metadata": {},
   "outputs": [],
   "source": [
    "contenido = os.listdir('D:/utea/DEV/utea_scripts/reportes_credito_siembra/pdfs')\n",
    "\n",
    "dic_files = {}\n",
    "for file in contenido:\n",
    "    split = file.split('_')\n",
    "    dic_files[int(split[0])] = file\n",
    "dic_files"
   ]
  },
  {
   "cell_type": "markdown",
   "id": "0965c43d",
   "metadata": {},
   "source": [
    "#  CARGAR FILES A DRIVE"
   ]
  },
  {
   "cell_type": "code",
   "execution_count": null,
   "id": "24d6954e",
   "metadata": {},
   "outputs": [],
   "source": [
    "from pydrive.auth import GoogleAuth\n",
    "from pydrive.drive import GoogleDrive\n",
    "\n",
    "gauth = GoogleAuth()\n",
    "gauth.LocalWebserverAuth() # client_secrets.json need to be in the same directory as the script\n",
    "drive = GoogleDrive(gauth)"
   ]
  },
  {
   "cell_type": "code",
   "execution_count": null,
   "id": "bed250fb-448e-438f-a9c5-fba5540ff787",
   "metadata": {},
   "outputs": [],
   "source": [
    "print(len(dic_files), 'INFORMES')\n",
    "dic_files"
   ]
  },
  {
   "cell_type": "code",
   "execution_count": null,
   "id": "09bef398",
   "metadata": {},
   "outputs": [],
   "source": [
    "dic_urls = {}\n",
    "# View all folders and file in your Google Drive\n",
    "fileList = drive.ListFile({'q': \"'root' in parents and trashed=false\"}).GetList()\n",
    "for file in fileList:\n",
    "  #print('Title: %s, ID: %s' % (file['title'], file['id']))\n",
    "  # Get the folder ID that you want\n",
    "  if(file['title'] == \"2DA_INSPECCION\"):\n",
    "      fileID = file['id']\n",
    "\n",
    "for file in dic_files:\n",
    "    file1 = drive.CreateFile({\"mimeType\": \"application/pdf\", \"parents\": [{\"kind\": \"drive#fileLink\", \"id\": fileID}]})\n",
    "    file1['title'] = dic_files[file]\n",
    "    file1.SetContentFile('D:/utea/DEV/utea_scripts/reportes_credito_siembra/pdfs/' + dic_files[file])\n",
    "    file1.Upload() # Upload the file.\n",
    "    print('Created file %s with mimeType %s' % (file1['title'], file1['mimeType']))\n",
    "    permission = file1.InsertPermission({\n",
    "                        'type': 'anyone',\n",
    "                        'value': 'anyone',\n",
    "                        'role': 'reader'})\n",
    "    dic_urls[file] = file1['alternateLink']\n",
    "dic_urls\n",
    "print('end')"
   ]
  },
  {
   "cell_type": "code",
   "execution_count": null,
   "id": "d82634b6",
   "metadata": {},
   "outputs": [],
   "source": [
    "print(len(dic_urls), 'URLs')\n",
    "dic_urls"
   ]
  },
  {
   "cell_type": "markdown",
   "id": "0474d333",
   "metadata": {},
   "source": [
    "# CONECTAR A AMIGOCLOUD"
   ]
  },
  {
   "cell_type": "code",
   "execution_count": null,
   "id": "8bae518a",
   "metadata": {
    "scrolled": true
   },
   "outputs": [],
   "source": [
    "from amigocloud import AmigoCloud"
   ]
  },
  {
   "cell_type": "code",
   "execution_count": null,
   "id": "2dedb595-5b01-48fd-9137-e99330ae0e07",
   "metadata": {},
   "outputs": [],
   "source": [
    "# CONECTAR A AMIGOCLOUD\n",
    "acceso = open('../../../api_key/api.key','r')\n",
    "api_token = acceso.readlines()[0]\n",
    "acceso.close()\n",
    "amigocloud = AmigoCloud(token=api_token)\n",
    "amigocloud"
   ]
  },
  {
   "cell_type": "code",
   "execution_count": null,
   "id": "c4ca8775",
   "metadata": {},
   "outputs": [],
   "source": [
    "for key in dic_urls:\n",
    "    query = {'query': 'update dataset_282969 set link_doc_2da = \\'{link}\\' where cast(SPLIT_PART(canhero, \\' / \\', 1) as integer) = \\'{cod}\\''.format(link=dic_urls[key], cod=key)}\n",
    "    res = amigocloud.post('https://app.amigocloud.com/api/v1/projects/31360/sql', query)\n",
    "    print(key)\n",
    "print('end')"
   ]
  },
  {
   "cell_type": "markdown",
   "id": "1ed2aeba",
   "metadata": {},
   "source": [
    "# -----------------------------------------------------------"
   ]
  },
  {
   "cell_type": "markdown",
   "id": "ba9ee21e",
   "metadata": {},
   "source": [
    "# CONECCION A DRIVE"
   ]
  },
  {
   "cell_type": "code",
   "execution_count": null,
   "id": "3214cfd4",
   "metadata": {},
   "outputs": [],
   "source": [
    "from pydrive.auth import GoogleAuth\n",
    "from pydrive.drive import GoogleDrive\n",
    "\n",
    "gauth = GoogleAuth()\n",
    "gauth.LocalWebserverAuth() # client_secrets.json need to be in the same directory as the script\n",
    "drive = GoogleDrive(gauth)"
   ]
  },
  {
   "cell_type": "code",
   "execution_count": null,
   "id": "4ab01e0f",
   "metadata": {},
   "outputs": [],
   "source": [
    "# View all folders and file in your Google Drive\n",
    "fileList = drive.ListFile({'q': \"'root' in parents and trashed=false\"}).GetList()\n",
    "for file in fileList:\n",
    "  print('Title: %s, ID: %s' % (file['title'], file['id']))\n",
    "  # Get the folder ID that you want\n",
    "  if(file['title'] == \"REPORTES_CREDITO\"):\n",
    "      fileID = file['id']\n",
    "\n",
    "file1 = drive.CreateFile({\"mimeType\": \"application/pdf\", \"parents\": [{\"kind\": \"drive#fileLink\", \"id\": fileID}]})\n",
    "file1.SetContentFile(\"file.pdf\")\n",
    "file1.Upload() # Upload the file.\n",
    "print('Created file %s with mimeType %s' % (file1['title'], file1['mimeType']))"
   ]
  },
  {
   "cell_type": "code",
   "execution_count": null,
   "id": "bb1acb28",
   "metadata": {},
   "outputs": [],
   "source": [
    "permission = file1.InsertPermission({\n",
    "                        'type': 'anyone',\n",
    "                        'value': 'anyone',\n",
    "                        'role': 'reader'})\n",
    "\n",
    "print(file1['alternateLink'])  # Display the sharable link."
   ]
  },
  {
   "cell_type": "code",
   "execution_count": null,
   "id": "7a9a0b5a",
   "metadata": {},
   "outputs": [],
   "source": [
    "for file in fileList[0]:\n",
    "    print(file, '       ',fileList[0][file])"
   ]
  },
  {
   "cell_type": "code",
   "execution_count": null,
   "id": "42db2945",
   "metadata": {},
   "outputs": [],
   "source": [
    "fileList[0]['title']"
   ]
  }
 ],
 "metadata": {
  "kernelspec": {
   "display_name": "Python 3 (ipykernel)",
   "language": "python",
   "name": "python3"
  },
  "language_info": {
   "codemirror_mode": {
    "name": "ipython",
    "version": 3
   },
   "file_extension": ".py",
   "mimetype": "text/x-python",
   "name": "python",
   "nbconvert_exporter": "python",
   "pygments_lexer": "ipython3",
   "version": "3.7.13"
  }
 },
 "nbformat": 4,
 "nbformat_minor": 5
}
