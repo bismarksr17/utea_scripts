{
 "cells": [
  {
   "cell_type": "code",
   "execution_count": null,
   "id": "ffc603c8-d68a-4dab-bd1c-6fade8109aca",
   "metadata": {},
   "outputs": [],
   "source": [
    "#!pip install pydrive"
   ]
  },
  {
   "cell_type": "code",
   "execution_count": 1,
   "id": "55bb12d0",
   "metadata": {},
   "outputs": [],
   "source": [
    "import os"
   ]
  },
  {
   "cell_type": "code",
   "execution_count": 2,
   "id": "352e1bf5",
   "metadata": {},
   "outputs": [
    {
     "data": {
      "text/plain": [
       "{12478: '12478_SERRATE COLAMARINO HUGO.pdf',\n",
       " 18027: '18027_AGUILERA TARRADELLES GUILLERMO.pdf',\n",
       " 2029: '2029_COLAMARINO DI SILVIO ANGELO.pdf',\n",
       " 2392: '2392_COLAMARINO SUAREZ DOMENICO A..pdf',\n",
       " 2408: '2408_CHOQUE CACERES FREDDY.pdf',\n",
       " 2662: '2662_DON SERAFIN SRL..pdf',\n",
       " 40139: '40139_ROCA SUAREZ MARIA ALEJANDRA.pdf',\n",
       " 41820: '41820_ASUBY S.R.L..pdf',\n",
       " 633: '633_AGROP. VICENTE ROCA GIL SRL.pdf',\n",
       " 743: '743_ARTEAGA CHAVEZ ROBERT E..pdf'}"
      ]
     },
     "execution_count": 2,
     "metadata": {},
     "output_type": "execute_result"
    }
   ],
   "source": [
    "contenido = os.listdir(r'D:\\PYTHON\\utea_scripts\\reportes_credito_siembra\\pdfs')\n",
    "\n",
    "dic_files = {}\n",
    "for file in contenido:\n",
    "    split = file.split('_')\n",
    "    dic_files[int(split[0])] = file\n",
    "dic_files"
   ]
  },
  {
   "cell_type": "markdown",
   "id": "0965c43d",
   "metadata": {},
   "source": [
    "#  CARGAR FILES A DRIVE"
   ]
  },
  {
   "cell_type": "code",
   "execution_count": 3,
   "id": "24d6954e",
   "metadata": {},
   "outputs": [
    {
     "name": "stdout",
     "output_type": "stream",
     "text": [
      "Your browser has been opened to visit:\n",
      "\n",
      "    https://accounts.google.com/o/oauth2/auth?client_id=1096764895697-57btfmtn7rdejufct5qq4j9mi61j0unl.apps.googleusercontent.com&redirect_uri=http%3A%2F%2Flocalhost%3A8080%2F&scope=https%3A%2F%2Fwww.googleapis.com%2Fauth%2Fdrive&access_type=offline&response_type=code\n",
      "\n",
      "Authentication successful.\n"
     ]
    }
   ],
   "source": [
    "from pydrive.auth import GoogleAuth\n",
    "from pydrive.drive import GoogleDrive\n",
    "\n",
    "gauth = GoogleAuth()\n",
    "gauth.LocalWebserverAuth() # client_secrets.json need to be in the same directory as the script\n",
    "drive = GoogleDrive(gauth)"
   ]
  },
  {
   "cell_type": "code",
   "execution_count": 4,
   "id": "bed250fb-448e-438f-a9c5-fba5540ff787",
   "metadata": {},
   "outputs": [
    {
     "name": "stdout",
     "output_type": "stream",
     "text": [
      "10 INFORMES\n"
     ]
    },
    {
     "data": {
      "text/plain": [
       "{12478: '12478_SERRATE COLAMARINO HUGO.pdf',\n",
       " 18027: '18027_AGUILERA TARRADELLES GUILLERMO.pdf',\n",
       " 2029: '2029_COLAMARINO DI SILVIO ANGELO.pdf',\n",
       " 2392: '2392_COLAMARINO SUAREZ DOMENICO A..pdf',\n",
       " 2408: '2408_CHOQUE CACERES FREDDY.pdf',\n",
       " 2662: '2662_DON SERAFIN SRL..pdf',\n",
       " 40139: '40139_ROCA SUAREZ MARIA ALEJANDRA.pdf',\n",
       " 41820: '41820_ASUBY S.R.L..pdf',\n",
       " 633: '633_AGROP. VICENTE ROCA GIL SRL.pdf',\n",
       " 743: '743_ARTEAGA CHAVEZ ROBERT E..pdf'}"
      ]
     },
     "execution_count": 4,
     "metadata": {},
     "output_type": "execute_result"
    }
   ],
   "source": [
    "print(len(dic_files), 'INFORMES')\n",
    "dic_files"
   ]
  },
  {
   "cell_type": "code",
   "execution_count": 5,
   "id": "09bef398",
   "metadata": {},
   "outputs": [
    {
     "name": "stdout",
     "output_type": "stream",
     "text": [
      "Created file 12478_SERRATE COLAMARINO HUGO.pdf with mimeType application/pdf\n",
      "Created file 18027_AGUILERA TARRADELLES GUILLERMO.pdf with mimeType application/pdf\n",
      "Created file 2029_COLAMARINO DI SILVIO ANGELO.pdf with mimeType application/pdf\n",
      "Created file 2392_COLAMARINO SUAREZ DOMENICO A..pdf with mimeType application/pdf\n",
      "Created file 2408_CHOQUE CACERES FREDDY.pdf with mimeType application/pdf\n",
      "Created file 2662_DON SERAFIN SRL..pdf with mimeType application/pdf\n",
      "Created file 40139_ROCA SUAREZ MARIA ALEJANDRA.pdf with mimeType application/pdf\n",
      "Created file 41820_ASUBY S.R.L..pdf with mimeType application/pdf\n",
      "Created file 633_AGROP. VICENTE ROCA GIL SRL.pdf with mimeType application/pdf\n",
      "Created file 743_ARTEAGA CHAVEZ ROBERT E..pdf with mimeType application/pdf\n",
      "end\n"
     ]
    }
   ],
   "source": [
    "dic_urls = {}\n",
    "# View all folders and file in your Google Drive\n",
    "fileList = drive.ListFile({'q': \"'root' in parents and trashed=false\"}).GetList()\n",
    "for file in fileList:\n",
    "  #print('Title: %s, ID: %s' % (file['title'], file['id']))\n",
    "  # Get the folder ID that you want\n",
    "  if(file['title'] == \"1RA_INSPECCION\"):\n",
    "      fileID = file['id']\n",
    "\n",
    "for file in dic_files:\n",
    "    file1 = drive.CreateFile({\"mimeType\": \"application/pdf\", \"parents\": [{\"kind\": \"drive#fileLink\", \"id\": fileID}]})\n",
    "    file1['title'] = dic_files[file]\n",
    "    file1.SetContentFile(r'D:\\PYTHON\\utea_scripts\\reportes_credito_siembra\\pdfs//' + dic_files[file])\n",
    "    file1.Upload() # Upload the file.\n",
    "    print('Created file %s with mimeType %s' % (file1['title'], file1['mimeType']))\n",
    "    permission = file1.InsertPermission({\n",
    "                        'type': 'anyone',\n",
    "                        'value': 'anyone',\n",
    "                        'role': 'reader'})\n",
    "    dic_urls[file] = file1['alternateLink']\n",
    "dic_urls\n",
    "print('end')"
   ]
  },
  {
   "cell_type": "code",
   "execution_count": 6,
   "id": "d82634b6",
   "metadata": {},
   "outputs": [
    {
     "name": "stdout",
     "output_type": "stream",
     "text": [
      "10 URLs\n"
     ]
    },
    {
     "data": {
      "text/plain": [
       "{12478: 'https://drive.google.com/file/d/1rk26B9a5M8IvQ6pC_U5nKpqcwtLlCTJu/view?usp=drivesdk',\n",
       " 18027: 'https://drive.google.com/file/d/1wnCAUBDZzVLvl3dOTkcs1sThX0b_4aZC/view?usp=drivesdk',\n",
       " 2029: 'https://drive.google.com/file/d/1c2PelYsk7JtpRc0M9rX7ZlV8N8ZA1jZB/view?usp=drivesdk',\n",
       " 2392: 'https://drive.google.com/file/d/13Z4VaOapQ5PQgtW0ipWQbIh4LsMuCYp_/view?usp=drivesdk',\n",
       " 2408: 'https://drive.google.com/file/d/1-7n_aEdrmY-lbKGIVj3cl6C8JibgLRE-/view?usp=drivesdk',\n",
       " 2662: 'https://drive.google.com/file/d/1VUTd0sR2HYJVT3WoG4wfnsnWilUCBbKd/view?usp=drivesdk',\n",
       " 40139: 'https://drive.google.com/file/d/1waBi9mqk551HK3NR4RIc8sU6bHvsKYbT/view?usp=drivesdk',\n",
       " 41820: 'https://drive.google.com/file/d/1PRrOnnXAR8ghZ3GleZ41BkiU2P_JTksv/view?usp=drivesdk',\n",
       " 633: 'https://drive.google.com/file/d/1a-5bFEqYLcYwxRQXBBoW6Ids-ipMzT1d/view?usp=drivesdk',\n",
       " 743: 'https://drive.google.com/file/d/19hC2JaPq5N31XJdUGyPtuQcenepjRkZW/view?usp=drivesdk'}"
      ]
     },
     "execution_count": 6,
     "metadata": {},
     "output_type": "execute_result"
    }
   ],
   "source": [
    "print(len(dic_urls), 'URLs')\n",
    "dic_urls"
   ]
  },
  {
   "cell_type": "markdown",
   "id": "0474d333",
   "metadata": {},
   "source": [
    "# CONECTAR A AMIGOCLOUD"
   ]
  },
  {
   "cell_type": "code",
   "execution_count": 8,
   "id": "8bae518a",
   "metadata": {
    "scrolled": true
   },
   "outputs": [],
   "source": [
    "from amigocloud import AmigoCloud"
   ]
  },
  {
   "cell_type": "code",
   "execution_count": 11,
   "id": "2dedb595-5b01-48fd-9137-e99330ae0e07",
   "metadata": {},
   "outputs": [
    {
     "name": "stderr",
     "output_type": "stream",
     "text": [
      "WARNING:socketIO-client:app.amigocloud.com:443/v2_socket.io/socket.io [connection error] recv disconnected by SSL ([SSL: SSLV3_ALERT_BAD_RECORD_MAC] sslv3 alert bad record mac (_ssl.c:2570))\n"
     ]
    },
    {
     "data": {
      "text/plain": [
       "<amigocloud.amigocloud.AmigoCloud at 0x276e1cd17c8>"
      ]
     },
     "execution_count": 11,
     "metadata": {},
     "output_type": "execute_result"
    }
   ],
   "source": [
    "# CONECTAR A AMIGOCLOUD\n",
    "acceso = open('../../../api_key/api.key','r')\n",
    "api_token = acceso.readlines()[0]\n",
    "acceso.close()\n",
    "amigocloud = AmigoCloud(token=api_token)\n",
    "amigocloud"
   ]
  },
  {
   "cell_type": "code",
   "execution_count": 12,
   "id": "c4ca8775",
   "metadata": {},
   "outputs": [
    {
     "name": "stdout",
     "output_type": "stream",
     "text": [
      "12478\n",
      "18027\n",
      "2029\n",
      "2392\n",
      "2408\n",
      "2662\n",
      "40139\n",
      "41820\n",
      "633\n",
      "743\n",
      "end\n"
     ]
    }
   ],
   "source": [
    "for key in dic_urls:\n",
    "    query = {'query': 'update dataset_307560 set link_doc_1ra = \\'{link}\\' where cast(SPLIT_PART(canhero, \\' / \\', 1) as integer) = \\'{cod}\\''.format(link=dic_urls[key], cod=key)}\n",
    "    res = amigocloud.post('https://app.amigocloud.com/api/v1/projects/32672/sql', query)\n",
    "    print(key)\n",
    "print('end')"
   ]
  },
  {
   "cell_type": "markdown",
   "id": "1ed2aeba",
   "metadata": {},
   "source": [
    "# -----------------------------------------------------------"
   ]
  },
  {
   "cell_type": "markdown",
   "id": "ba9ee21e",
   "metadata": {},
   "source": [
    "# CONECCION A DRIVE"
   ]
  },
  {
   "cell_type": "code",
   "execution_count": null,
   "id": "3214cfd4",
   "metadata": {},
   "outputs": [],
   "source": [
    "from pydrive.auth import GoogleAuth\n",
    "from pydrive.drive import GoogleDrive\n",
    "\n",
    "gauth = GoogleAuth()\n",
    "gauth.LocalWebserverAuth() # client_secrets.json need to be in the same directory as the script\n",
    "drive = GoogleDrive(gauth)"
   ]
  },
  {
   "cell_type": "code",
   "execution_count": null,
   "id": "4ab01e0f",
   "metadata": {},
   "outputs": [],
   "source": [
    "# View all folders and file in your Google Drive\n",
    "fileList = drive.ListFile({'q': \"'root' in parents and trashed=false\"}).GetList()\n",
    "for file in fileList:\n",
    "  print('Title: %s, ID: %s' % (file['title'], file['id']))\n",
    "  # Get the folder ID that you want\n",
    "  if(file['title'] == \"REPORTES_CREDITO\"):\n",
    "      fileID = file['id']\n",
    "\n",
    "file1 = drive.CreateFile({\"mimeType\": \"application/pdf\", \"parents\": [{\"kind\": \"drive#fileLink\", \"id\": fileID}]})\n",
    "file1.SetContentFile(\"file.pdf\")\n",
    "file1.Upload() # Upload the file.\n",
    "print('Created file %s with mimeType %s' % (file1['title'], file1['mimeType']))"
   ]
  },
  {
   "cell_type": "code",
   "execution_count": null,
   "id": "bb1acb28",
   "metadata": {},
   "outputs": [],
   "source": [
    "permission = file1.InsertPermission({\n",
    "                        'type': 'anyone',\n",
    "                        'value': 'anyone',\n",
    "                        'role': 'reader'})\n",
    "\n",
    "print(file1['alternateLink'])  # Display the sharable link."
   ]
  },
  {
   "cell_type": "code",
   "execution_count": null,
   "id": "7a9a0b5a",
   "metadata": {},
   "outputs": [],
   "source": [
    "for file in fileList[0]:\n",
    "    print(file, '       ',fileList[0][file])"
   ]
  },
  {
   "cell_type": "code",
   "execution_count": null,
   "id": "42db2945",
   "metadata": {},
   "outputs": [],
   "source": [
    "fileList[0]['title']"
   ]
  }
 ],
 "metadata": {
  "kernelspec": {
   "display_name": "Python 3 (ipykernel)",
   "language": "python",
   "name": "python3"
  },
  "language_info": {
   "codemirror_mode": {
    "name": "ipython",
    "version": 3
   },
   "file_extension": ".py",
   "mimetype": "text/x-python",
   "name": "python",
   "nbconvert_exporter": "python",
   "pygments_lexer": "ipython3",
   "version": "3.7.11"
  }
 },
 "nbformat": 4,
 "nbformat_minor": 5
}
