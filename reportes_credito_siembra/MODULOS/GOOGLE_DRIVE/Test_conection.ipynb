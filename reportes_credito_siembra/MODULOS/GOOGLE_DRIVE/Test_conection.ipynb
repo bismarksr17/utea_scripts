{
 "cells": [
  {
   "cell_type": "code",
   "execution_count": null,
   "id": "ffc603c8-d68a-4dab-bd1c-6fade8109aca",
   "metadata": {},
   "outputs": [],
   "source": [
    "#!pip install pydrive"
   ]
  },
  {
   "cell_type": "code",
   "execution_count": 2,
   "id": "55bb12d0",
   "metadata": {},
   "outputs": [],
   "source": [
    "import os"
   ]
  },
  {
   "cell_type": "code",
   "execution_count": 3,
   "id": "352e1bf5",
   "metadata": {},
   "outputs": [
    {
     "data": {
      "text/plain": [
       "{11641: '11641_ROJAS SANTISTEVAN JUAN MANUEL .pdf',\n",
       " 17683: '17683_ROJAS MARINA SANTISTEVAN DE .pdf',\n",
       " 18358: '18358_ROJAS AMELUNGE CARLOS .pdf',\n",
       " 1988: '1988_CLAROS CADIMA JHONNY.pdf',\n",
       " 2794: '2794_DELGADILLO RODRIGUEZ JUAN CARLOS.pdf',\n",
       " 388: '388_AGROPECUARIA MARIANA S.R.L. .pdf',\n",
       " 41534: '41534_CAMPBELL MEDINA FERNANDO WALTER.pdf',\n",
       " 842: '842_AGRODAR S.R.L..pdf',\n",
       " 8624: '8624_MORENO TORRICO JOSE ALBERTO.pdf'}"
      ]
     },
     "execution_count": 3,
     "metadata": {},
     "output_type": "execute_result"
    }
   ],
   "source": [
    "contenido = os.listdir(r'D:\\PYTHON\\utea_scripts\\reportes_credito_siembra\\pdfs')\n",
    "\n",
    "dic_files = {}\n",
    "for file in contenido:\n",
    "    split = file.split('_')\n",
    "    dic_files[int(split[0])] = file\n",
    "dic_files"
   ]
  },
  {
   "cell_type": "markdown",
   "id": "0965c43d",
   "metadata": {},
   "source": [
    "#  CARGAR FILES A DRIVE"
   ]
  },
  {
   "cell_type": "code",
   "execution_count": 4,
   "id": "24d6954e",
   "metadata": {},
   "outputs": [
    {
     "name": "stdout",
     "output_type": "stream",
     "text": [
      "Your browser has been opened to visit:\n",
      "\n",
      "    https://accounts.google.com/o/oauth2/auth?client_id=1096764895697-57btfmtn7rdejufct5qq4j9mi61j0unl.apps.googleusercontent.com&redirect_uri=http%3A%2F%2Flocalhost%3A8080%2F&scope=https%3A%2F%2Fwww.googleapis.com%2Fauth%2Fdrive&access_type=offline&response_type=code\n",
      "\n",
      "Authentication successful.\n"
     ]
    }
   ],
   "source": [
    "from pydrive.auth import GoogleAuth\n",
    "from pydrive.drive import GoogleDrive\n",
    "\n",
    "gauth = GoogleAuth()\n",
    "gauth.LocalWebserverAuth() # client_secrets.json need to be in the same directory as the script\n",
    "drive = GoogleDrive(gauth)"
   ]
  },
  {
   "cell_type": "code",
   "execution_count": 5,
   "id": "bed250fb-448e-438f-a9c5-fba5540ff787",
   "metadata": {},
   "outputs": [
    {
     "name": "stdout",
     "output_type": "stream",
     "text": [
      "9 INFORMES\n"
     ]
    },
    {
     "data": {
      "text/plain": [
       "{11641: '11641_ROJAS SANTISTEVAN JUAN MANUEL .pdf',\n",
       " 17683: '17683_ROJAS MARINA SANTISTEVAN DE .pdf',\n",
       " 18358: '18358_ROJAS AMELUNGE CARLOS .pdf',\n",
       " 1988: '1988_CLAROS CADIMA JHONNY.pdf',\n",
       " 2794: '2794_DELGADILLO RODRIGUEZ JUAN CARLOS.pdf',\n",
       " 388: '388_AGROPECUARIA MARIANA S.R.L. .pdf',\n",
       " 41534: '41534_CAMPBELL MEDINA FERNANDO WALTER.pdf',\n",
       " 842: '842_AGRODAR S.R.L..pdf',\n",
       " 8624: '8624_MORENO TORRICO JOSE ALBERTO.pdf'}"
      ]
     },
     "execution_count": 5,
     "metadata": {},
     "output_type": "execute_result"
    }
   ],
   "source": [
    "print(len(dic_files), 'INFORMES')\n",
    "dic_files"
   ]
  },
  {
   "cell_type": "code",
   "execution_count": 6,
   "id": "09bef398",
   "metadata": {},
   "outputs": [
    {
     "name": "stdout",
     "output_type": "stream",
     "text": [
      "Created file 11641_ROJAS SANTISTEVAN JUAN MANUEL .pdf with mimeType application/pdf\n",
      "Created file 17683_ROJAS MARINA SANTISTEVAN DE .pdf with mimeType application/pdf\n",
      "Created file 18358_ROJAS AMELUNGE CARLOS .pdf with mimeType application/pdf\n",
      "Created file 1988_CLAROS CADIMA JHONNY.pdf with mimeType application/pdf\n",
      "Created file 2794_DELGADILLO RODRIGUEZ JUAN CARLOS.pdf with mimeType application/pdf\n",
      "Created file 388_AGROPECUARIA MARIANA S.R.L. .pdf with mimeType application/pdf\n",
      "Created file 41534_CAMPBELL MEDINA FERNANDO WALTER.pdf with mimeType application/pdf\n",
      "Created file 842_AGRODAR S.R.L..pdf with mimeType application/pdf\n",
      "Created file 8624_MORENO TORRICO JOSE ALBERTO.pdf with mimeType application/pdf\n",
      "end\n"
     ]
    }
   ],
   "source": [
    "dic_urls = {}\n",
    "# View all folders and file in your Google Drive\n",
    "fileList = drive.ListFile({'q': \"'root' in parents and trashed=false\"}).GetList()\n",
    "for file in fileList:\n",
    "  #print('Title: %s, ID: %s' % (file['title'], file['id']))\n",
    "  # Get the folder ID that you want\n",
    "  if(file['title'] == \"1RA_INSPECCION\"):\n",
    "      fileID = file['id']\n",
    "\n",
    "for file in dic_files:\n",
    "    file1 = drive.CreateFile({\"mimeType\": \"application/pdf\", \"parents\": [{\"kind\": \"drive#fileLink\", \"id\": fileID}]})\n",
    "    file1['title'] = dic_files[file]\n",
    "    file1.SetContentFile(r'D:\\PYTHON\\utea_scripts\\reportes_credito_siembra\\pdfs//' + dic_files[file])\n",
    "    file1.Upload() # Upload the file.\n",
    "    print('Created file %s with mimeType %s' % (file1['title'], file1['mimeType']))\n",
    "    permission = file1.InsertPermission({\n",
    "                        'type': 'anyone',\n",
    "                        'value': 'anyone',\n",
    "                        'role': 'reader'})\n",
    "    dic_urls[file] = file1['alternateLink']\n",
    "dic_urls\n",
    "print('end')"
   ]
  },
  {
   "cell_type": "code",
   "execution_count": 7,
   "id": "d82634b6",
   "metadata": {},
   "outputs": [
    {
     "name": "stdout",
     "output_type": "stream",
     "text": [
      "9 URLs\n"
     ]
    },
    {
     "data": {
      "text/plain": [
       "{11641: 'https://drive.google.com/file/d/1ol4LtPVbPwbK5GipVEmrDvZGW8vTgRl6/view?usp=drivesdk',\n",
       " 17683: 'https://drive.google.com/file/d/1bUX1J-0UZ92Xxu70UusclBl2pYT0MKoX/view?usp=drivesdk',\n",
       " 18358: 'https://drive.google.com/file/d/1Cr0dWRsL2IDEw9-pDB5YSy7wM1UH-5Yj/view?usp=drivesdk',\n",
       " 1988: 'https://drive.google.com/file/d/1R6_kMkwNVrp7-9k5N8kNTNbMCPa1CwVP/view?usp=drivesdk',\n",
       " 2794: 'https://drive.google.com/file/d/1hvFA93Ilg0elmCFRfd78dTzYItq6ZR-T/view?usp=drivesdk',\n",
       " 388: 'https://drive.google.com/file/d/1fSx9h0SAv04xAK-nooOsysrF80IqscgW/view?usp=drivesdk',\n",
       " 41534: 'https://drive.google.com/file/d/1uZvAbrSi1gbBlBvTuDLg36PDkjb6SoND/view?usp=drivesdk',\n",
       " 842: 'https://drive.google.com/file/d/1aOdU6PqUGKlBdNnsD6EfLD92hEo9o8Q3/view?usp=drivesdk',\n",
       " 8624: 'https://drive.google.com/file/d/1f17rVKPTrL-iU01BDYMRUG6G5eVYxyV4/view?usp=drivesdk'}"
      ]
     },
     "execution_count": 7,
     "metadata": {},
     "output_type": "execute_result"
    }
   ],
   "source": [
    "print(len(dic_urls), 'URLs')\n",
    "dic_urls"
   ]
  },
  {
   "cell_type": "markdown",
   "id": "0474d333",
   "metadata": {},
   "source": [
    "# CONECTAR A AMIGOCLOUD"
   ]
  },
  {
   "cell_type": "code",
   "execution_count": 9,
   "id": "8bae518a",
   "metadata": {
    "scrolled": true
   },
   "outputs": [],
   "source": [
    "from amigocloud import AmigoCloud"
   ]
  },
  {
   "cell_type": "code",
   "execution_count": 10,
   "id": "2dedb595-5b01-48fd-9137-e99330ae0e07",
   "metadata": {},
   "outputs": [
    {
     "data": {
      "text/plain": [
       "<amigocloud.amigocloud.AmigoCloud at 0x1f872eed108>"
      ]
     },
     "execution_count": 10,
     "metadata": {},
     "output_type": "execute_result"
    }
   ],
   "source": [
    "# CONECTAR A AMIGOCLOUD\n",
    "acceso = open('../../../api_key/api.key','r')\n",
    "api_token = acceso.readlines()[0]\n",
    "acceso.close()\n",
    "amigocloud = AmigoCloud(token=api_token)\n",
    "amigocloud"
   ]
  },
  {
   "cell_type": "code",
   "execution_count": 11,
   "id": "c4ca8775",
   "metadata": {},
   "outputs": [
    {
     "name": "stdout",
     "output_type": "stream",
     "text": [
      "11641\n",
      "17683\n",
      "18358\n",
      "1988\n",
      "2794\n",
      "388\n",
      "41534\n",
      "842\n",
      "8624\n",
      "end\n"
     ]
    }
   ],
   "source": [
    "for key in dic_urls:\n",
    "    query = {'query': 'update dataset_307560 set link_doc_1ra = \\'{link}\\' where cast(SPLIT_PART(canhero, \\' / \\', 1) as integer) = \\'{cod}\\''.format(link=dic_urls[key], cod=key)}\n",
    "    res = amigocloud.post('https://app.amigocloud.com/api/v1/projects/32672/sql', query)\n",
    "    print(key)\n",
    "print('end')"
   ]
  },
  {
   "cell_type": "markdown",
   "id": "1ed2aeba",
   "metadata": {},
   "source": [
    "# -----------------------------------------------------------"
   ]
  },
  {
   "cell_type": "markdown",
   "id": "ba9ee21e",
   "metadata": {},
   "source": [
    "# CONECCION A DRIVE"
   ]
  },
  {
   "cell_type": "code",
   "execution_count": null,
   "id": "3214cfd4",
   "metadata": {},
   "outputs": [],
   "source": [
    "from pydrive.auth import GoogleAuth\n",
    "from pydrive.drive import GoogleDrive\n",
    "\n",
    "gauth = GoogleAuth()\n",
    "gauth.LocalWebserverAuth() # client_secrets.json need to be in the same directory as the script\n",
    "drive = GoogleDrive(gauth)"
   ]
  },
  {
   "cell_type": "code",
   "execution_count": null,
   "id": "4ab01e0f",
   "metadata": {},
   "outputs": [],
   "source": [
    "# View all folders and file in your Google Drive\n",
    "fileList = drive.ListFile({'q': \"'root' in parents and trashed=false\"}).GetList()\n",
    "for file in fileList:\n",
    "  print('Title: %s, ID: %s' % (file['title'], file['id']))\n",
    "  # Get the folder ID that you want\n",
    "  if(file['title'] == \"REPORTES_CREDITO\"):\n",
    "      fileID = file['id']\n",
    "\n",
    "file1 = drive.CreateFile({\"mimeType\": \"application/pdf\", \"parents\": [{\"kind\": \"drive#fileLink\", \"id\": fileID}]})\n",
    "file1.SetContentFile(\"file.pdf\")\n",
    "file1.Upload() # Upload the file.\n",
    "print('Created file %s with mimeType %s' % (file1['title'], file1['mimeType']))"
   ]
  },
  {
   "cell_type": "code",
   "execution_count": null,
   "id": "bb1acb28",
   "metadata": {},
   "outputs": [],
   "source": [
    "permission = file1.InsertPermission({\n",
    "                        'type': 'anyone',\n",
    "                        'value': 'anyone',\n",
    "                        'role': 'reader'})\n",
    "\n",
    "print(file1['alternateLink'])  # Display the sharable link."
   ]
  },
  {
   "cell_type": "code",
   "execution_count": null,
   "id": "7a9a0b5a",
   "metadata": {},
   "outputs": [],
   "source": [
    "for file in fileList[0]:\n",
    "    print(file, '       ',fileList[0][file])"
   ]
  },
  {
   "cell_type": "code",
   "execution_count": null,
   "id": "42db2945",
   "metadata": {},
   "outputs": [],
   "source": [
    "fileList[0]['title']"
   ]
  }
 ],
 "metadata": {
  "kernelspec": {
   "display_name": "Python 3 (ipykernel)",
   "language": "python",
   "name": "python3"
  },
  "language_info": {
   "codemirror_mode": {
    "name": "ipython",
    "version": 3
   },
   "file_extension": ".py",
   "mimetype": "text/x-python",
   "name": "python",
   "nbconvert_exporter": "python",
   "pygments_lexer": "ipython3",
   "version": "3.7.11"
  }
 },
 "nbformat": 4,
 "nbformat_minor": 5
}
