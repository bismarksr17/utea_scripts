{
 "cells": [
  {
   "cell_type": "code",
   "execution_count": 3,
   "id": "ffc603c8-d68a-4dab-bd1c-6fade8109aca",
   "metadata": {},
   "outputs": [],
   "source": [
    "#!pip install pydrive"
   ]
  },
  {
   "cell_type": "code",
   "execution_count": 1,
   "id": "55bb12d0",
   "metadata": {},
   "outputs": [],
   "source": [
    "import os"
   ]
  },
  {
   "cell_type": "code",
   "execution_count": 2,
   "id": "352e1bf5",
   "metadata": {},
   "outputs": [
    {
     "data": {
      "text/plain": [
       "{1068: '1068_BALCAZAR SOLETO LORENZO.pdf',\n",
       " 11798: '11798_RIVERO BECERRA JUAN.pdf',\n",
       " 11860: '11860_ROCA SERRANO ARMANDO.pdf',\n",
       " 13132: '13132_ZUMARAN MENACHO JORGE.pdf',\n",
       " 13763: '13763_TUFINO SCHWENK RUBEN DARIO.pdf',\n",
       " 14993: '14993_VACA CUELLAR JORGE.pdf',\n",
       " 1858: '1858_CATALA CAMPOS SEGISMUNDO.pdf',\n",
       " 2220: '2220_CRUZ VARGAS TITO JHONNY.pdf',\n",
       " 2719: '2719_CORDOVA VALENTINA OLGUIN DE.pdf',\n",
       " 40270: '40270_AGUILERA PARADA MARIA ROSARIO.pdf',\n",
       " 41544: '41544_AMURRIO TAPIA JOSE LUIS.pdf',\n",
       " 41966: '41966_CAMARGO RAQUEL BALCAZAR DE.pdf',\n",
       " 430: '430_AMURRIO QUINTANILLA FREDDY.pdf',\n",
       " 644: '644_ANTELO ANTELO ARIEL.pdf',\n",
       " 874: '874_BALCAZAR VACA HENRY.pdf'}"
      ]
     },
     "execution_count": 2,
     "metadata": {},
     "output_type": "execute_result"
    }
   ],
   "source": [
    "contenido = os.listdir('D:/utea/DEV/_REPORTE_CREDITO_SIEMBRA/reporte_credito_siembra/informes/pdf')\n",
    "\n",
    "dic_files = {}\n",
    "for file in contenido:\n",
    "    split = file.split('_')\n",
    "    dic_files[int(split[0])] = file\n",
    "dic_files"
   ]
  },
  {
   "cell_type": "markdown",
   "id": "0965c43d",
   "metadata": {},
   "source": [
    "#  CARGAR FILES A DRIVE"
   ]
  },
  {
   "cell_type": "code",
   "execution_count": 3,
   "id": "24d6954e",
   "metadata": {},
   "outputs": [
    {
     "name": "stdout",
     "output_type": "stream",
     "text": [
      "Your browser has been opened to visit:\n",
      "\n",
      "    https://accounts.google.com/o/oauth2/auth?client_id=1096764895697-57btfmtn7rdejufct5qq4j9mi61j0unl.apps.googleusercontent.com&redirect_uri=http%3A%2F%2Flocalhost%3A8080%2F&scope=https%3A%2F%2Fwww.googleapis.com%2Fauth%2Fdrive&access_type=offline&response_type=code\n",
      "\n",
      "Authentication successful.\n"
     ]
    }
   ],
   "source": [
    "from pydrive.auth import GoogleAuth\n",
    "from pydrive.drive import GoogleDrive\n",
    "\n",
    "gauth = GoogleAuth()\n",
    "gauth.LocalWebserverAuth() # client_secrets.json need to be in the same directory as the script\n",
    "drive = GoogleDrive(gauth)"
   ]
  },
  {
   "cell_type": "code",
   "execution_count": 5,
   "id": "bed250fb-448e-438f-a9c5-fba5540ff787",
   "metadata": {},
   "outputs": [
    {
     "name": "stdout",
     "output_type": "stream",
     "text": [
      "15 INFORMES\n"
     ]
    },
    {
     "data": {
      "text/plain": [
       "{1068: '1068_BALCAZAR SOLETO LORENZO.pdf',\n",
       " 11798: '11798_RIVERO BECERRA JUAN.pdf',\n",
       " 11860: '11860_ROCA SERRANO ARMANDO.pdf',\n",
       " 13132: '13132_ZUMARAN MENACHO JORGE.pdf',\n",
       " 13763: '13763_TUFINO SCHWENK RUBEN DARIO.pdf',\n",
       " 14993: '14993_VACA CUELLAR JORGE.pdf',\n",
       " 1858: '1858_CATALA CAMPOS SEGISMUNDO.pdf',\n",
       " 2220: '2220_CRUZ VARGAS TITO JHONNY.pdf',\n",
       " 2719: '2719_CORDOVA VALENTINA OLGUIN DE.pdf',\n",
       " 40270: '40270_AGUILERA PARADA MARIA ROSARIO.pdf',\n",
       " 41544: '41544_AMURRIO TAPIA JOSE LUIS.pdf',\n",
       " 41966: '41966_CAMARGO RAQUEL BALCAZAR DE.pdf',\n",
       " 430: '430_AMURRIO QUINTANILLA FREDDY.pdf',\n",
       " 644: '644_ANTELO ANTELO ARIEL.pdf',\n",
       " 874: '874_BALCAZAR VACA HENRY.pdf'}"
      ]
     },
     "execution_count": 5,
     "metadata": {},
     "output_type": "execute_result"
    }
   ],
   "source": [
    "print(len(dic_files), 'INFORMES')\n",
    "dic_files"
   ]
  },
  {
   "cell_type": "code",
   "execution_count": 6,
   "id": "09bef398",
   "metadata": {},
   "outputs": [
    {
     "name": "stdout",
     "output_type": "stream",
     "text": [
      "Created file 1068_BALCAZAR SOLETO LORENZO.pdf with mimeType application/pdf\n",
      "Created file 11798_RIVERO BECERRA JUAN.pdf with mimeType application/pdf\n",
      "Created file 11860_ROCA SERRANO ARMANDO.pdf with mimeType application/pdf\n",
      "Created file 13132_ZUMARAN MENACHO JORGE.pdf with mimeType application/pdf\n",
      "Created file 13763_TUFINO SCHWENK RUBEN DARIO.pdf with mimeType application/pdf\n",
      "Created file 14993_VACA CUELLAR JORGE.pdf with mimeType application/pdf\n",
      "Created file 1858_CATALA CAMPOS SEGISMUNDO.pdf with mimeType application/pdf\n",
      "Created file 2220_CRUZ VARGAS TITO JHONNY.pdf with mimeType application/pdf\n",
      "Created file 2719_CORDOVA VALENTINA OLGUIN DE.pdf with mimeType application/pdf\n",
      "Created file 40270_AGUILERA PARADA MARIA ROSARIO.pdf with mimeType application/pdf\n",
      "Created file 41544_AMURRIO TAPIA JOSE LUIS.pdf with mimeType application/pdf\n",
      "Created file 41966_CAMARGO RAQUEL BALCAZAR DE.pdf with mimeType application/pdf\n",
      "Created file 430_AMURRIO QUINTANILLA FREDDY.pdf with mimeType application/pdf\n",
      "Created file 644_ANTELO ANTELO ARIEL.pdf with mimeType application/pdf\n",
      "Created file 874_BALCAZAR VACA HENRY.pdf with mimeType application/pdf\n",
      "end\n"
     ]
    }
   ],
   "source": [
    "dic_urls = {}\n",
    "# View all folders and file in your Google Drive\n",
    "fileList = drive.ListFile({'q': \"'root' in parents and trashed=false\"}).GetList()\n",
    "for file in fileList:\n",
    "  #print('Title: %s, ID: %s' % (file['title'], file['id']))\n",
    "  # Get the folder ID that you want\n",
    "  if(file['title'] == \"2DA_INSPECCION\"):\n",
    "      fileID = file['id']\n",
    "\n",
    "for file in dic_files:\n",
    "    file1 = drive.CreateFile({\"mimeType\": \"application/pdf\", \"parents\": [{\"kind\": \"drive#fileLink\", \"id\": fileID}]})\n",
    "    file1['title'] = dic_files[file]\n",
    "    file1.SetContentFile('D:/utea/DEV/_REPORTE_CREDITO_SIEMBRA/reporte_credito_siembra/informes/pdf/' + dic_files[file])\n",
    "    file1.Upload() # Upload the file.\n",
    "    print('Created file %s with mimeType %s' % (file1['title'], file1['mimeType']))\n",
    "    permission = file1.InsertPermission({\n",
    "                        'type': 'anyone',\n",
    "                        'value': 'anyone',\n",
    "                        'role': 'reader'})\n",
    "    dic_urls[file] = file1['alternateLink']\n",
    "dic_urls\n",
    "print('end')"
   ]
  },
  {
   "cell_type": "code",
   "execution_count": 7,
   "id": "d82634b6",
   "metadata": {},
   "outputs": [
    {
     "name": "stdout",
     "output_type": "stream",
     "text": [
      "15 URLs\n"
     ]
    },
    {
     "data": {
      "text/plain": [
       "{1068: 'https://drive.google.com/file/d/1RYy6y5bVNPQs5yFYPU63a-IuPYQVXT_6/view?usp=drivesdk',\n",
       " 11798: 'https://drive.google.com/file/d/1uCDF7BIvSMzUphLeGZAf3f6gxcELVAK_/view?usp=drivesdk',\n",
       " 11860: 'https://drive.google.com/file/d/10IX-3AOpiV6Eu0AqfQMse_SfPheu4s8e/view?usp=drivesdk',\n",
       " 13132: 'https://drive.google.com/file/d/1N4LNoWctvrWTG6ohzbwR5c98YByolxEw/view?usp=drivesdk',\n",
       " 13763: 'https://drive.google.com/file/d/1-Nv3jDIyzHwS0ZdOIjsKR9ch6vVBMQ9X/view?usp=drivesdk',\n",
       " 14993: 'https://drive.google.com/file/d/17eqpxJzyFdafcvoFYZ_PzlgRk9A74zHH/view?usp=drivesdk',\n",
       " 1858: 'https://drive.google.com/file/d/1jsh1Zl9sLLt3aGFccuJhy7R0ega71h4n/view?usp=drivesdk',\n",
       " 2220: 'https://drive.google.com/file/d/1P127NxnaKFZ8Gga5TsxCim5ssM5EQttB/view?usp=drivesdk',\n",
       " 2719: 'https://drive.google.com/file/d/1RhscimruF1pFlQrfxBUWgUQSbe4GOIkf/view?usp=drivesdk',\n",
       " 40270: 'https://drive.google.com/file/d/1c1S1qCSP_DJz1osg7gzkJsgfKYzxL5Ga/view?usp=drivesdk',\n",
       " 41544: 'https://drive.google.com/file/d/12xT7Ea6skMmSiF0lwY4DOVcqThEMmnMk/view?usp=drivesdk',\n",
       " 41966: 'https://drive.google.com/file/d/1XSB_O6G-QV7DJHTxf-Zs_wVLzDzXCdpy/view?usp=drivesdk',\n",
       " 430: 'https://drive.google.com/file/d/1KfwqZ1ZjZZHzU2h16HyLDSfhc7fed2PD/view?usp=drivesdk',\n",
       " 644: 'https://drive.google.com/file/d/1FSA9yiHQYHUO8wmLBwAIlsZNh0Y3jqXS/view?usp=drivesdk',\n",
       " 874: 'https://drive.google.com/file/d/1K7rscAXWoC4NhK5TSzAsQdS8wMTYlGNw/view?usp=drivesdk'}"
      ]
     },
     "execution_count": 7,
     "metadata": {},
     "output_type": "execute_result"
    }
   ],
   "source": [
    "print(len(dic_urls), 'URLs')\n",
    "dic_urls"
   ]
  },
  {
   "cell_type": "markdown",
   "id": "0474d333",
   "metadata": {},
   "source": [
    "# CONECTAR A AMIGOCLOUD"
   ]
  },
  {
   "cell_type": "code",
   "execution_count": 10,
   "id": "8bae518a",
   "metadata": {
    "scrolled": true
   },
   "outputs": [
    {
     "data": {
      "text/plain": [
       "<amigocloud.amigocloud.AmigoCloud at 0x2773dd516c8>"
      ]
     },
     "execution_count": 10,
     "metadata": {},
     "output_type": "execute_result"
    }
   ],
   "source": [
    "from amigocloud import AmigoCloud\n",
    "amigocloud = AmigoCloud(token='')\n",
    "amigocloud"
   ]
  },
  {
   "cell_type": "code",
   "execution_count": 11,
   "id": "c4ca8775",
   "metadata": {},
   "outputs": [
    {
     "name": "stdout",
     "output_type": "stream",
     "text": [
      "1068\n",
      "11798\n",
      "11860\n",
      "13132\n",
      "13763\n",
      "14993\n",
      "1858\n",
      "2220\n",
      "2719\n",
      "40270\n",
      "41544\n",
      "41966\n",
      "430\n",
      "644\n",
      "874\n",
      "end\n"
     ]
    }
   ],
   "source": [
    "for key in dic_urls:\n",
    "    query = {'query': 'update dataset_282969 set link_doc_2da = \\'{link}\\' where cast(SPLIT_PART(canhero, \\' / \\', 1) as integer) = \\'{cod}\\''.format(link=dic_urls[key], cod=key)}\n",
    "    res = amigocloud.post('https://app.amigocloud.com/api/v1/projects/31360/sql', query)\n",
    "    print(key)\n",
    "print('end')"
   ]
  },
  {
   "cell_type": "markdown",
   "id": "1ed2aeba",
   "metadata": {},
   "source": [
    "# -----------------------------------------------------------"
   ]
  },
  {
   "cell_type": "markdown",
   "id": "ba9ee21e",
   "metadata": {},
   "source": [
    "# CONECCION A DRIVE"
   ]
  },
  {
   "cell_type": "code",
   "execution_count": 1,
   "id": "3214cfd4",
   "metadata": {},
   "outputs": [
    {
     "name": "stdout",
     "output_type": "stream",
     "text": [
      "Your browser has been opened to visit:\n",
      "\n",
      "    https://accounts.google.com/o/oauth2/auth?client_id=1096764895697-57btfmtn7rdejufct5qq4j9mi61j0unl.apps.googleusercontent.com&redirect_uri=http%3A%2F%2Flocalhost%3A8080%2F&scope=https%3A%2F%2Fwww.googleapis.com%2Fauth%2Fdrive&access_type=offline&response_type=code\n",
      "\n",
      "Authentication successful.\n"
     ]
    }
   ],
   "source": [
    "from pydrive.auth import GoogleAuth\n",
    "from pydrive.drive import GoogleDrive\n",
    "\n",
    "gauth = GoogleAuth()\n",
    "gauth.LocalWebserverAuth() # client_secrets.json need to be in the same directory as the script\n",
    "drive = GoogleDrive(gauth)"
   ]
  },
  {
   "cell_type": "code",
   "execution_count": 10,
   "id": "4ab01e0f",
   "metadata": {},
   "outputs": [
    {
     "name": "stdout",
     "output_type": "stream",
     "text": [
      "Title: 1052_LOTE_HOYOS_DE_FELIX--_SEJAS_RGB_2021-06-16.tif, ID: 1tET43zwdJZKFOxZ66qGqRIrKB4658YGb\n",
      "Title: To Share, ID: 1Nq_9CZ3mALsvrrj02NNZkkRrJ64EpaCY\n",
      "Title: nothing.csv, ID: 1bAgy4sGOi6a8hlWdOLN4eBqi8py5C9mG\n",
      "Title: 267_LAS_TACUARAS--TREPP_RGB_2021-06-26.tif, ID: 1OADojINgOfH4W9Nnxl4-2bV4Wi4sjRJl\n",
      "Title: 1050_SAN_CATALINO--LEOCADIO_ANZE_RGB_2021-06-26.tif, ID: 1v3gnPCLFD3ZqMqR7qb7iWs98jRv98r7H\n",
      "Title: Colab Notebooks, ID: 1FbWK-98G1ORsTiBkfUwVUijJOffKYvk1\n",
      "Title: SANTA ISABEL.pdf, ID: 1kGapKFqJf_IjCUdAlzuRSzCaYC8AwAfU\n",
      "Title: Dark-Mode-2020-Spanish.pdf, ID: 1rpY4_DHJJe1ZaZ4nr0mRABX9aTvKuODt\n",
      "Title: Bismark Socompi - Hoja de vida, ID: 1ZTfVF3Mnjk4WoTe4kzDe-yD8FHO4CShI1nzyL-i3RCM\n",
      "Title: 2021-06-14.pptx, ID: 17IR0oBKkv-raZUXvpXqYc_J6-uMR72Vu\n",
      "Title: REPORTES_CREDITO, ID: 1kh_OBP08TRxqrl3uKu7C8QFrS9lZGZy1\n",
      "Title: _, ID: 1xJiu5GTlFTQvuqSBzUU4Jt_2IoB5ykaC\n",
      "Title: Test, ID: 1-4e7k7Ddq6vD8MoE3-RbG8dEVzT7Cbw4\n",
      "Title: Copia de Business Model Canvas, ID: 1n46ABazNzX15UVsf_lz5BGEvaxh2BmSHwJvVoErrbC0\n",
      "Title: Presentacion SGC - 2.pdf, ID: 1v24mEdq9VHlxymOlWF0tl1qcLJPZlo9f\n",
      "Title: UTEA, ID: 11UoPDhw7wd_O6iMNtwI4CPYU8BBSAJ_j\n",
      "Title: IMG, ID: 18uq5HOxZWwqRXZxo_wfPZZIIueDBywMw\n",
      "Title: LIBROS, ID: 1L2qHqcAWvNM0UYGHS5Egt0lADEOFASDa\n",
      "Title: Bismark Socompi - Hoja de vida.pdf, ID: 1OcornX-01PlH7jjC6QXDGbSUWLXA-35Q\n",
      "Title: SIG, ID: 1zESkX-5I9ZUCfffWaWRr0dP9oSrnkyF8\n",
      "Title: Fraces, ID: 18XhXtIKrGS6lOHj3OOUir5vzYTT-oUU2aF_QzcNpUi0\n",
      "Created file file.pdf with mimeType application/pdf\n"
     ]
    }
   ],
   "source": [
    "# View all folders and file in your Google Drive\n",
    "fileList = drive.ListFile({'q': \"'root' in parents and trashed=false\"}).GetList()\n",
    "for file in fileList:\n",
    "  print('Title: %s, ID: %s' % (file['title'], file['id']))\n",
    "  # Get the folder ID that you want\n",
    "  if(file['title'] == \"REPORTES_CREDITO\"):\n",
    "      fileID = file['id']\n",
    "\n",
    "file1 = drive.CreateFile({\"mimeType\": \"application/pdf\", \"parents\": [{\"kind\": \"drive#fileLink\", \"id\": fileID}]})\n",
    "file1.SetContentFile(\"file.pdf\")\n",
    "file1.Upload() # Upload the file.\n",
    "print('Created file %s with mimeType %s' % (file1['title'], file1['mimeType']))"
   ]
  },
  {
   "cell_type": "code",
   "execution_count": 80,
   "id": "bb1acb28",
   "metadata": {},
   "outputs": [
    {
     "name": "stdout",
     "output_type": "stream",
     "text": [
      "https://drive.google.com/file/d/1DfBhpPAAlyWgPDyL-1fMpCi4DwNBljUC/view?usp=drivesdk\n"
     ]
    }
   ],
   "source": [
    "permission = file1.InsertPermission({\n",
    "                        'type': 'anyone',\n",
    "                        'value': 'anyone',\n",
    "                        'role': 'reader'})\n",
    "\n",
    "print(file1['alternateLink'])  # Display the sharable link."
   ]
  },
  {
   "cell_type": "code",
   "execution_count": 79,
   "id": "7a9a0b5a",
   "metadata": {},
   "outputs": [
    {
     "name": "stdout",
     "output_type": "stream",
     "text": [
      "kind         drive#file\n",
      "id         1tET43zwdJZKFOxZ66qGqRIrKB4658YGb\n",
      "etag         \"MTYyNjg5MDY0MzA1Mg\"\n",
      "selfLink         https://www.googleapis.com/drive/v2/files/1tET43zwdJZKFOxZ66qGqRIrKB4658YGb\n",
      "webContentLink         https://drive.google.com/uc?id=1tET43zwdJZKFOxZ66qGqRIrKB4658YGb&export=download\n",
      "alternateLink         https://drive.google.com/file/d/1tET43zwdJZKFOxZ66qGqRIrKB4658YGb/view?usp=drivesdk\n",
      "embedLink         https://drive.google.com/file/d/1tET43zwdJZKFOxZ66qGqRIrKB4658YGb/preview?usp=drivesdk\n",
      "iconLink         https://drive-thirdparty.googleusercontent.com/16/type/image/tiff\n",
      "thumbnailLink         https://lh3.googleusercontent.com/PvTwfsWe5dmBcnH0m9U1tnlP9k_Wqcl2-tpJsrw_7E3hZy2JkWwjlXJYpF8o_E0l5b0tsU2XETaWWm0=s220\n",
      "title         1052_LOTE_HOYOS_DE_FELIX--_SEJAS_RGB_2021-06-16.tif\n",
      "mimeType         image/tiff\n",
      "labels         {'starred': False, 'hidden': False, 'trashed': False, 'restricted': False, 'viewed': False}\n",
      "copyRequiresWriterPermission         False\n",
      "createdDate         2021-07-21T18:04:03.052Z\n",
      "modifiedDate         2021-07-21T18:04:03.052Z\n",
      "markedViewedByMeDate         1970-01-01T00:00:00.000Z\n",
      "version         2\n",
      "parents         [{'kind': 'drive#parentReference', 'id': '0ABjPXew0yrleUk9PVA', 'selfLink': 'https://www.googleapis.com/drive/v2/files/1tET43zwdJZKFOxZ66qGqRIrKB4658YGb/parents/0ABjPXew0yrleUk9PVA', 'parentLink': 'https://www.googleapis.com/drive/v2/files/0ABjPXew0yrleUk9PVA', 'isRoot': True}]\n",
      "downloadUrl         https://www.googleapis.com/drive/v2/files/1tET43zwdJZKFOxZ66qGqRIrKB4658YGb?alt=media&source=downloadUrl\n",
      "userPermission         {'kind': 'drive#permission', 'etag': '\"SSUp_84ZBh4qj6G3PO4sarRccEs\"', 'id': 'me', 'selfLink': 'https://www.googleapis.com/drive/v2/files/1tET43zwdJZKFOxZ66qGqRIrKB4658YGb/permissions/me', 'role': 'owner', 'type': 'user'}\n",
      "originalFilename         1052_LOTE_HOYOS_DE_FELIX--_SEJAS_RGB_2021-06-16-0000000000-0000000000.tif\n",
      "fileExtension         tif\n",
      "md5Checksum         f8a4dbce950a5edec404707368660318\n",
      "fileSize         1153309\n",
      "quotaBytesUsed         1153309\n",
      "ownerNames         ['Bismark sr17']\n",
      "owners         [{'kind': 'drive#user', 'displayName': 'Bismark sr17', 'picture': {'url': 'https://lh3.googleusercontent.com/a-/AOh14GgtxNI9WykIS54TNUveJ-bEAfcM3ZHZ8LJQjKppeQ=s64'}, 'isAuthenticatedUser': True, 'permissionId': '11285477193373600586', 'emailAddress': 'bismark.sr.17@gmail.com'}]\n",
      "lastModifyingUserName         Bismark sr17\n",
      "lastModifyingUser         {'kind': 'drive#user', 'displayName': 'Bismark sr17', 'picture': {'url': 'https://lh3.googleusercontent.com/a-/AOh14GgtxNI9WykIS54TNUveJ-bEAfcM3ZHZ8LJQjKppeQ=s64'}, 'isAuthenticatedUser': True, 'permissionId': '11285477193373600586', 'emailAddress': 'bismark.sr.17@gmail.com'}\n",
      "capabilities         {'canCopy': True, 'canEdit': True}\n",
      "editable         True\n",
      "copyable         True\n",
      "writersCanShare         True\n",
      "shared         False\n",
      "explicitlyTrashed         False\n",
      "appDataContents         False\n",
      "headRevisionId         0BxjPXew0yrleOG43Skl4UEpRQmFvSVhTZEIzSlJXcDVuamVFPQ\n",
      "imageMediaMetadata         {'width': 0, 'height': 0}\n",
      "spaces         ['drive']\n"
     ]
    }
   ],
   "source": [
    "for file in fileList[0]:\n",
    "    print(file, '       ',fileList[0][file])"
   ]
  },
  {
   "cell_type": "code",
   "execution_count": 77,
   "id": "42db2945",
   "metadata": {},
   "outputs": [
    {
     "data": {
      "text/plain": [
       "'1052_LOTE_HOYOS_DE_FELIX--_SEJAS_RGB_2021-06-16.tif'"
      ]
     },
     "execution_count": 77,
     "metadata": {},
     "output_type": "execute_result"
    }
   ],
   "source": [
    "fileList[0]['title']"
   ]
  }
 ],
 "metadata": {
  "kernelspec": {
   "display_name": "Python 3 (ipykernel)",
   "language": "python",
   "name": "python3"
  },
  "language_info": {
   "codemirror_mode": {
    "name": "ipython",
    "version": 3
   },
   "file_extension": ".py",
   "mimetype": "text/x-python",
   "name": "python",
   "nbconvert_exporter": "python",
   "pygments_lexer": "ipython3",
   "version": "3.7.11"
  }
 },
 "nbformat": 4,
 "nbformat_minor": 5
}
