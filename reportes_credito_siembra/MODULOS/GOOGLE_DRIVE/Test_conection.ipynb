{
 "cells": [
  {
   "cell_type": "code",
   "execution_count": null,
   "id": "ffc603c8-d68a-4dab-bd1c-6fade8109aca",
   "metadata": {},
   "outputs": [],
   "source": [
    "#!pip install pydrive"
   ]
  },
  {
   "cell_type": "code",
   "execution_count": 1,
   "id": "55bb12d0",
   "metadata": {},
   "outputs": [],
   "source": [
    "import os"
   ]
  },
  {
   "cell_type": "code",
   "execution_count": 2,
   "id": "352e1bf5",
   "metadata": {},
   "outputs": [
    {
     "data": {
      "text/plain": [
       "{11750: '11750_REYES VALDIVIA JOSE.pdf',\n",
       " 11860: '11860_ROCA SERRANO ARMANDO.pdf',\n",
       " 1478: '1478_CALLE RALDEZ MARCO ANTONIO.pdf',\n",
       " 15308: '15308_VARGAS SOTO ELVIRA.pdf',\n",
       " 1533: '1533_CALVI PADILLA ROMAN.pdf',\n",
       " 1540: '1540_CALVI PADILLA MARIO.pdf',\n",
       " 1580: '1580_CALLE DELGADO IVER.pdf',\n",
       " 17678: '17678_ESPINOZA JUANA MAIDA DE.pdf',\n",
       " 18189: '18189_BALCAZAR SOLETO RAMON BERTHY.pdf',\n",
       " 1992: '1992_CLAROS CADIMA JUANA.pdf',\n",
       " 3415: '3415_ESPINOZA VILLEGAS GERARDO.pdf',\n",
       " 41819: '41819_AGROPECUARIA GUSTAVITO SRL.pdf',\n",
       " 41973: '41973_RIBERA JUSTINIANO JEFFER PAUL.pdf',\n",
       " 42047: '42047_TORREJON MONTAÑO ERICK FERNANDO.pdf',\n",
       " 4914: '4914_GONZALEZ LIMPIAS LUIS ALBERTO.pdf',\n",
       " 7821: '7821_LEON MONDAQUE ELISA.pdf',\n",
       " 7844: '7844_LAMAS QUINTEROS MILTON J.pdf',\n",
       " 8816: '8816_MONTANO GUTIERREZ CINDA.pdf'}"
      ]
     },
     "execution_count": 2,
     "metadata": {},
     "output_type": "execute_result"
    }
   ],
   "source": [
    "contenido = os.listdir(r'D:\\PYTHON\\utea_scripts\\reportes_credito_siembra\\pdfs')\n",
    "\n",
    "dic_files = {}\n",
    "for file in contenido:\n",
    "    split = file.split('_')\n",
    "    dic_files[int(split[0])] = file\n",
    "dic_files"
   ]
  },
  {
   "cell_type": "code",
   "execution_count": 3,
   "id": "1ccd43e3-5070-4351-a9da-5f1e64f9a8e1",
   "metadata": {},
   "outputs": [
    {
     "data": {
      "text/plain": [
       "18"
      ]
     },
     "execution_count": 3,
     "metadata": {},
     "output_type": "execute_result"
    }
   ],
   "source": [
    "len(dic_files)"
   ]
  },
  {
   "cell_type": "markdown",
   "id": "0965c43d",
   "metadata": {},
   "source": [
    "#  CARGAR FILES A DRIVE"
   ]
  },
  {
   "cell_type": "code",
   "execution_count": 4,
   "id": "24d6954e",
   "metadata": {},
   "outputs": [
    {
     "name": "stdout",
     "output_type": "stream",
     "text": [
      "Your browser has been opened to visit:\n",
      "\n",
      "    https://accounts.google.com/o/oauth2/auth?client_id=1096764895697-57btfmtn7rdejufct5qq4j9mi61j0unl.apps.googleusercontent.com&redirect_uri=http%3A%2F%2Flocalhost%3A8080%2F&scope=https%3A%2F%2Fwww.googleapis.com%2Fauth%2Fdrive&access_type=offline&response_type=code\n",
      "\n",
      "Authentication successful.\n"
     ]
    }
   ],
   "source": [
    "from pydrive.auth import GoogleAuth\n",
    "from pydrive.drive import GoogleDrive\n",
    "\n",
    "gauth = GoogleAuth()\n",
    "gauth.LocalWebserverAuth() # client_secrets.json need to be in the same directory as the script\n",
    "drive = GoogleDrive(gauth)"
   ]
  },
  {
   "cell_type": "code",
   "execution_count": 5,
   "id": "bed250fb-448e-438f-a9c5-fba5540ff787",
   "metadata": {},
   "outputs": [
    {
     "name": "stdout",
     "output_type": "stream",
     "text": [
      "18 INFORMES\n"
     ]
    },
    {
     "data": {
      "text/plain": [
       "{11750: '11750_REYES VALDIVIA JOSE.pdf',\n",
       " 11860: '11860_ROCA SERRANO ARMANDO.pdf',\n",
       " 1478: '1478_CALLE RALDEZ MARCO ANTONIO.pdf',\n",
       " 15308: '15308_VARGAS SOTO ELVIRA.pdf',\n",
       " 1533: '1533_CALVI PADILLA ROMAN.pdf',\n",
       " 1540: '1540_CALVI PADILLA MARIO.pdf',\n",
       " 1580: '1580_CALLE DELGADO IVER.pdf',\n",
       " 17678: '17678_ESPINOZA JUANA MAIDA DE.pdf',\n",
       " 18189: '18189_BALCAZAR SOLETO RAMON BERTHY.pdf',\n",
       " 1992: '1992_CLAROS CADIMA JUANA.pdf',\n",
       " 3415: '3415_ESPINOZA VILLEGAS GERARDO.pdf',\n",
       " 41819: '41819_AGROPECUARIA GUSTAVITO SRL.pdf',\n",
       " 41973: '41973_RIBERA JUSTINIANO JEFFER PAUL.pdf',\n",
       " 42047: '42047_TORREJON MONTAÑO ERICK FERNANDO.pdf',\n",
       " 4914: '4914_GONZALEZ LIMPIAS LUIS ALBERTO.pdf',\n",
       " 7821: '7821_LEON MONDAQUE ELISA.pdf',\n",
       " 7844: '7844_LAMAS QUINTEROS MILTON J.pdf',\n",
       " 8816: '8816_MONTANO GUTIERREZ CINDA.pdf'}"
      ]
     },
     "execution_count": 5,
     "metadata": {},
     "output_type": "execute_result"
    }
   ],
   "source": [
    "print(len(dic_files), 'INFORMES')\n",
    "dic_files"
   ]
  },
  {
   "cell_type": "code",
   "execution_count": 6,
   "id": "09bef398",
   "metadata": {},
   "outputs": [
    {
     "name": "stdout",
     "output_type": "stream",
     "text": [
      "Created file 11750_REYES VALDIVIA JOSE.pdf with mimeType application/pdf\n",
      "Created file 11860_ROCA SERRANO ARMANDO.pdf with mimeType application/pdf\n",
      "Created file 1478_CALLE RALDEZ MARCO ANTONIO.pdf with mimeType application/pdf\n",
      "Created file 15308_VARGAS SOTO ELVIRA.pdf with mimeType application/pdf\n",
      "Created file 1533_CALVI PADILLA ROMAN.pdf with mimeType application/pdf\n",
      "Created file 1540_CALVI PADILLA MARIO.pdf with mimeType application/pdf\n",
      "Created file 1580_CALLE DELGADO IVER.pdf with mimeType application/pdf\n",
      "Created file 17678_ESPINOZA JUANA MAIDA DE.pdf with mimeType application/pdf\n",
      "Created file 18189_BALCAZAR SOLETO RAMON BERTHY.pdf with mimeType application/pdf\n",
      "Created file 1992_CLAROS CADIMA JUANA.pdf with mimeType application/pdf\n",
      "Created file 3415_ESPINOZA VILLEGAS GERARDO.pdf with mimeType application/pdf\n",
      "Created file 41819_AGROPECUARIA GUSTAVITO SRL.pdf with mimeType application/pdf\n",
      "Created file 41973_RIBERA JUSTINIANO JEFFER PAUL.pdf with mimeType application/pdf\n",
      "Created file 42047_TORREJON MONTAÑO ERICK FERNANDO.pdf with mimeType application/pdf\n",
      "Created file 4914_GONZALEZ LIMPIAS LUIS ALBERTO.pdf with mimeType application/pdf\n",
      "Created file 7821_LEON MONDAQUE ELISA.pdf with mimeType application/pdf\n",
      "Created file 7844_LAMAS QUINTEROS MILTON J.pdf with mimeType application/pdf\n",
      "Created file 8816_MONTANO GUTIERREZ CINDA.pdf with mimeType application/pdf\n",
      "end\n"
     ]
    }
   ],
   "source": [
    "dic_urls = {}\n",
    "# View all folders and file in your Google Drive\n",
    "fileList = drive.ListFile({'q': \"'root' in parents and trashed=false\"}).GetList()\n",
    "for file in fileList:\n",
    "  #print('Title: %s, ID: %s' % (file['title'], file['id']))\n",
    "  # Get the folder ID that you want\n",
    "  if(file['title'] == \"1RA_INSPECCION\"):\n",
    "      fileID = file['id']\n",
    "\n",
    "for file in dic_files:\n",
    "    file1 = drive.CreateFile({\"mimeType\": \"application/pdf\", \"parents\": [{\"kind\": \"drive#fileLink\", \"id\": fileID}]})\n",
    "    file1['title'] = dic_files[file]\n",
    "    file1.SetContentFile(r'D:\\PYTHON\\utea_scripts\\reportes_credito_siembra\\pdfs//' + dic_files[file])\n",
    "    file1.Upload() # Upload the file.\n",
    "    print('Created file %s with mimeType %s' % (file1['title'], file1['mimeType']))\n",
    "    permission = file1.InsertPermission({\n",
    "                        'type': 'anyone',\n",
    "                        'value': 'anyone',\n",
    "                        'role': 'reader'})\n",
    "    dic_urls[file] = file1['alternateLink']\n",
    "dic_urls\n",
    "print('end')"
   ]
  },
  {
   "cell_type": "code",
   "execution_count": 7,
   "id": "d82634b6",
   "metadata": {},
   "outputs": [
    {
     "name": "stdout",
     "output_type": "stream",
     "text": [
      "18 URLs\n"
     ]
    },
    {
     "data": {
      "text/plain": [
       "{11750: 'https://drive.google.com/file/d/1m7fCywRtLK9JFQxyZ_UiMZnzGjTDPJHg/view?usp=drivesdk',\n",
       " 11860: 'https://drive.google.com/file/d/14YrL27dgcBsD1S06CZVJ5IzCJ4RAcza_/view?usp=drivesdk',\n",
       " 1478: 'https://drive.google.com/file/d/1F7bLFxgs01xDn6Qm0A8336ReesxIpicA/view?usp=drivesdk',\n",
       " 15308: 'https://drive.google.com/file/d/1mjfBuruhTPZ8sJ71ctqHYXsp6Sv54C4X/view?usp=drivesdk',\n",
       " 1533: 'https://drive.google.com/file/d/1E0knGO4c6QpnRISwLdxvjbWE-P-nRbLg/view?usp=drivesdk',\n",
       " 1540: 'https://drive.google.com/file/d/1X2RAnCGiVNk3Jvb2mLjTKUodUw75Pdo4/view?usp=drivesdk',\n",
       " 1580: 'https://drive.google.com/file/d/19xm1-hk1DQFGck0wg0AWCejMNW_eH1SR/view?usp=drivesdk',\n",
       " 17678: 'https://drive.google.com/file/d/1qFRkkQ9KHqFQn_DWFLDTZ7bWAE-6TU4o/view?usp=drivesdk',\n",
       " 18189: 'https://drive.google.com/file/d/13QcIyAXXi-LWDegMgLBgX3z3uP1K5S7S/view?usp=drivesdk',\n",
       " 1992: 'https://drive.google.com/file/d/1OoSpvPaoDo_5Dr5XrWSfW3ghbXpEJlTR/view?usp=drivesdk',\n",
       " 3415: 'https://drive.google.com/file/d/1H4jqO6bA5Mhrtid7MRt2y_UEsBuzwsqN/view?usp=drivesdk',\n",
       " 41819: 'https://drive.google.com/file/d/1KzP4f_1bTRGb9W4SxorFLOr9LW5r-Xhu/view?usp=drivesdk',\n",
       " 41973: 'https://drive.google.com/file/d/1ZdqP0m9U3_pgNSg04AYhpe0fXncyzcYC/view?usp=drivesdk',\n",
       " 42047: 'https://drive.google.com/file/d/1VwgDCpb_ZnDB4HbB00hIcL4iZNiZzQCR/view?usp=drivesdk',\n",
       " 4914: 'https://drive.google.com/file/d/1L-NiV_9m8SpA6ZAoUaG79iCn-VQkz7q8/view?usp=drivesdk',\n",
       " 7821: 'https://drive.google.com/file/d/1rg8Y_CsRY_J9LZn1M4dMzN4lpE9Lke0c/view?usp=drivesdk',\n",
       " 7844: 'https://drive.google.com/file/d/1Lrc7X-xKYVPs21LhNus08DFmeTA_v-iV/view?usp=drivesdk',\n",
       " 8816: 'https://drive.google.com/file/d/1qQE0uEN-gnIBq4BTP0QJpci9kBew0gq4/view?usp=drivesdk'}"
      ]
     },
     "execution_count": 7,
     "metadata": {},
     "output_type": "execute_result"
    }
   ],
   "source": [
    "print(len(dic_urls), 'URLs')\n",
    "dic_urls"
   ]
  },
  {
   "cell_type": "markdown",
   "id": "0474d333",
   "metadata": {},
   "source": [
    "# CONECTAR A AMIGOCLOUD"
   ]
  },
  {
   "cell_type": "code",
   "execution_count": 8,
   "id": "8bae518a",
   "metadata": {
    "scrolled": true
   },
   "outputs": [
    {
     "name": "stderr",
     "output_type": "stream",
     "text": [
      "C:\\Users\\Bismar\\.conda\\envs\\utea_reportes\\lib\\importlib\\_bootstrap.py:219: RuntimeWarning: greenlet.greenlet size changed, may indicate binary incompatibility. Expected 144 from C header, got 152 from PyObject\n",
      "  return f(*args, **kwds)\n",
      "C:\\Users\\Bismar\\.conda\\envs\\utea_reportes\\lib\\importlib\\_bootstrap.py:219: RuntimeWarning: greenlet.greenlet size changed, may indicate binary incompatibility. Expected 144 from C header, got 152 from PyObject\n",
      "  return f(*args, **kwds)\n",
      "C:\\Users\\Bismar\\.conda\\envs\\utea_reportes\\lib\\importlib\\_bootstrap.py:219: RuntimeWarning: greenlet.greenlet size changed, may indicate binary incompatibility. Expected 144 from C header, got 152 from PyObject\n",
      "  return f(*args, **kwds)\n",
      "C:\\Users\\Bismar\\.conda\\envs\\utea_reportes\\lib\\importlib\\_bootstrap.py:219: RuntimeWarning: greenlet.greenlet size changed, may indicate binary incompatibility. Expected 144 from C header, got 152 from PyObject\n",
      "  return f(*args, **kwds)\n"
     ]
    }
   ],
   "source": [
    "from amigocloud import AmigoCloud"
   ]
  },
  {
   "cell_type": "code",
   "execution_count": 9,
   "id": "2dedb595-5b01-48fd-9137-e99330ae0e07",
   "metadata": {},
   "outputs": [
    {
     "name": "stderr",
     "output_type": "stream",
     "text": [
      "WARNING:socketIO-client:app.amigocloud.com:443/v2_socket.io/socket.io [connection error] recv disconnected ([WinError 10054] An existing connection was forcibly closed by the remote host)\n"
     ]
    },
    {
     "data": {
      "text/plain": [
       "<amigocloud.amigocloud.AmigoCloud at 0x1ecda430348>"
      ]
     },
     "execution_count": 9,
     "metadata": {},
     "output_type": "execute_result"
    }
   ],
   "source": [
    "# CONECTAR A AMIGOCLOUD\n",
    "acceso = open('../../../api_key/api.key','r')\n",
    "api_token = acceso.readlines()[0]\n",
    "acceso.close()\n",
    "amigocloud = AmigoCloud(token=api_token)\n",
    "amigocloud"
   ]
  },
  {
   "cell_type": "code",
   "execution_count": 10,
   "id": "c4ca8775",
   "metadata": {},
   "outputs": [
    {
     "name": "stdout",
     "output_type": "stream",
     "text": [
      "11750\n",
      "11860\n",
      "1478\n",
      "15308\n",
      "1533\n",
      "1540\n",
      "1580\n",
      "17678\n",
      "18189\n",
      "1992\n",
      "3415\n",
      "41819\n",
      "41973\n",
      "42047\n",
      "4914\n",
      "7821\n",
      "7844\n",
      "8816\n",
      "end\n"
     ]
    }
   ],
   "source": [
    "for key in dic_urls:\n",
    "    query = {'query': 'update dataset_307560 set link_doc_1ra = \\'{link}\\' where cast(SPLIT_PART(canhero, \\' / \\', 1) as integer) = \\'{cod}\\''.format(link=dic_urls[key], cod=key)}\n",
    "    res = amigocloud.post('https://app.amigocloud.com/api/v1/projects/32672/sql', query)\n",
    "    print(key)\n",
    "print('end')"
   ]
  },
  {
   "cell_type": "markdown",
   "id": "1ed2aeba",
   "metadata": {},
   "source": [
    "# -----------------------------------------------------------"
   ]
  },
  {
   "cell_type": "markdown",
   "id": "ba9ee21e",
   "metadata": {},
   "source": [
    "# CONECCION A DRIVE"
   ]
  },
  {
   "cell_type": "code",
   "execution_count": null,
   "id": "3214cfd4",
   "metadata": {},
   "outputs": [],
   "source": [
    "from pydrive.auth import GoogleAuth\n",
    "from pydrive.drive import GoogleDrive\n",
    "\n",
    "gauth = GoogleAuth()\n",
    "gauth.LocalWebserverAuth() # client_secrets.json need to be in the same directory as the script\n",
    "drive = GoogleDrive(gauth)"
   ]
  },
  {
   "cell_type": "code",
   "execution_count": null,
   "id": "4ab01e0f",
   "metadata": {},
   "outputs": [],
   "source": [
    "# View all folders and file in your Google Drive\n",
    "fileList = drive.ListFile({'q': \"'root' in parents and trashed=false\"}).GetList()\n",
    "for file in fileList:\n",
    "  print('Title: %s, ID: %s' % (file['title'], file['id']))\n",
    "  # Get the folder ID that you want\n",
    "  if(file['title'] == \"REPORTES_CREDITO\"):\n",
    "      fileID = file['id']\n",
    "\n",
    "file1 = drive.CreateFile({\"mimeType\": \"application/pdf\", \"parents\": [{\"kind\": \"drive#fileLink\", \"id\": fileID}]})\n",
    "file1.SetContentFile(\"file.pdf\")\n",
    "file1.Upload() # Upload the file.\n",
    "print('Created file %s with mimeType %s' % (file1['title'], file1['mimeType']))"
   ]
  },
  {
   "cell_type": "code",
   "execution_count": null,
   "id": "bb1acb28",
   "metadata": {},
   "outputs": [],
   "source": [
    "permission = file1.InsertPermission({\n",
    "                        'type': 'anyone',\n",
    "                        'value': 'anyone',\n",
    "                        'role': 'reader'})\n",
    "\n",
    "print(file1['alternateLink'])  # Display the sharable link."
   ]
  },
  {
   "cell_type": "code",
   "execution_count": null,
   "id": "7a9a0b5a",
   "metadata": {},
   "outputs": [],
   "source": [
    "for file in fileList[0]:\n",
    "    print(file, '       ',fileList[0][file])"
   ]
  },
  {
   "cell_type": "code",
   "execution_count": null,
   "id": "42db2945",
   "metadata": {},
   "outputs": [],
   "source": [
    "fileList[0]['title']"
   ]
  }
 ],
 "metadata": {
  "kernelspec": {
   "display_name": "Python 3 (ipykernel)",
   "language": "python",
   "name": "python3"
  },
  "language_info": {
   "codemirror_mode": {
    "name": "ipython",
    "version": 3
   },
   "file_extension": ".py",
   "mimetype": "text/x-python",
   "name": "python",
   "nbconvert_exporter": "python",
   "pygments_lexer": "ipython3",
   "version": "3.7.11"
  }
 },
 "nbformat": 4,
 "nbformat_minor": 5
}
