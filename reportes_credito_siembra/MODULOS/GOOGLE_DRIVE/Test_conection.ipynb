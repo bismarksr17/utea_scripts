{
 "cells": [
  {
   "cell_type": "code",
   "execution_count": null,
   "id": "ffc603c8-d68a-4dab-bd1c-6fade8109aca",
   "metadata": {},
   "outputs": [],
   "source": [
    "#!pip install pydrive"
   ]
  },
  {
   "cell_type": "code",
   "execution_count": 1,
   "id": "55bb12d0",
   "metadata": {},
   "outputs": [],
   "source": [
    "import os"
   ]
  },
  {
   "cell_type": "code",
   "execution_count": 2,
   "id": "352e1bf5",
   "metadata": {},
   "outputs": [
    {
     "data": {
      "text/plain": [
       "{10816: '10816_PIEROLA VACA FERNANDO.pdf',\n",
       " 15085: '15085_CRUZ RUTH JAQUELIN B. DE.pdf',\n",
       " 17678: '17678_ESPINOZA JUANA MAIDA DE.pdf',\n",
       " 1979: '1979_CLAROS CADIMA EDMUNDO.pdf',\n",
       " 1988: '1988_CLAROS CADIMA JHONNY.pdf',\n",
       " 2505: '2505_CRUZ BARRIENTOS CRISTIAN F..pdf',\n",
       " 2677: '2677_CLAROS VASQUEZ KEVIN F..pdf',\n",
       " 3415: '3415_ESPINOZA VILLEGAS GERARDO.pdf',\n",
       " 40251: '40251_AMURRIO MELGAREJO JUAN GABRIEL.pdf',\n",
       " 41554: '41554_LEDEZMA SALAZAR RICHARD JIMMY.pdf',\n",
       " 4834: '4834_GUTIERREZ MARTHA S. AGUILERA DE.pdf',\n",
       " 5401: '5401_HUALLPA CARDENAS CARLOS.pdf',\n",
       " 5407: '5407_HUANCA MENCHAQUE HERNAN.pdf',\n",
       " 5448: '5448_HUANCA MENCHAQUE ROLY.pdf',\n",
       " 7385: '7385_LINARES SALVATIERRA MARY LUZ.pdf',\n",
       " 7494: '7494_LINARES S. AIDEE.pdf',\n",
       " 7754: '7754_LEON MONDAQUE ROLY.pdf',\n",
       " 7821: '7821_LEON MONDAQUE ELISA.pdf'}"
      ]
     },
     "execution_count": 2,
     "metadata": {},
     "output_type": "execute_result"
    }
   ],
   "source": [
    "contenido = os.listdir('D:/utea/DEV/utea_scripts/reportes_credito_siembra/pdfs')\n",
    "\n",
    "dic_files = {}\n",
    "for file in contenido:\n",
    "    split = file.split('_')\n",
    "    dic_files[int(split[0])] = file\n",
    "dic_files"
   ]
  },
  {
   "cell_type": "markdown",
   "id": "0965c43d",
   "metadata": {},
   "source": [
    "#  CARGAR FILES A DRIVE"
   ]
  },
  {
   "cell_type": "code",
   "execution_count": 3,
   "id": "24d6954e",
   "metadata": {},
   "outputs": [
    {
     "name": "stdout",
     "output_type": "stream",
     "text": [
      "Your browser has been opened to visit:\n",
      "\n",
      "    https://accounts.google.com/o/oauth2/auth?client_id=1096764895697-57btfmtn7rdejufct5qq4j9mi61j0unl.apps.googleusercontent.com&redirect_uri=http%3A%2F%2Flocalhost%3A8080%2F&scope=https%3A%2F%2Fwww.googleapis.com%2Fauth%2Fdrive&access_type=offline&response_type=code\n",
      "\n",
      "Authentication successful.\n"
     ]
    }
   ],
   "source": [
    "from pydrive.auth import GoogleAuth\n",
    "from pydrive.drive import GoogleDrive\n",
    "\n",
    "gauth = GoogleAuth()\n",
    "gauth.LocalWebserverAuth() # client_secrets.json need to be in the same directory as the script\n",
    "drive = GoogleDrive(gauth)"
   ]
  },
  {
   "cell_type": "code",
   "execution_count": 4,
   "id": "bed250fb-448e-438f-a9c5-fba5540ff787",
   "metadata": {},
   "outputs": [
    {
     "name": "stdout",
     "output_type": "stream",
     "text": [
      "18 INFORMES\n"
     ]
    },
    {
     "data": {
      "text/plain": [
       "{10816: '10816_PIEROLA VACA FERNANDO.pdf',\n",
       " 15085: '15085_CRUZ RUTH JAQUELIN B. DE.pdf',\n",
       " 17678: '17678_ESPINOZA JUANA MAIDA DE.pdf',\n",
       " 1979: '1979_CLAROS CADIMA EDMUNDO.pdf',\n",
       " 1988: '1988_CLAROS CADIMA JHONNY.pdf',\n",
       " 2505: '2505_CRUZ BARRIENTOS CRISTIAN F..pdf',\n",
       " 2677: '2677_CLAROS VASQUEZ KEVIN F..pdf',\n",
       " 3415: '3415_ESPINOZA VILLEGAS GERARDO.pdf',\n",
       " 40251: '40251_AMURRIO MELGAREJO JUAN GABRIEL.pdf',\n",
       " 41554: '41554_LEDEZMA SALAZAR RICHARD JIMMY.pdf',\n",
       " 4834: '4834_GUTIERREZ MARTHA S. AGUILERA DE.pdf',\n",
       " 5401: '5401_HUALLPA CARDENAS CARLOS.pdf',\n",
       " 5407: '5407_HUANCA MENCHAQUE HERNAN.pdf',\n",
       " 5448: '5448_HUANCA MENCHAQUE ROLY.pdf',\n",
       " 7385: '7385_LINARES SALVATIERRA MARY LUZ.pdf',\n",
       " 7494: '7494_LINARES S. AIDEE.pdf',\n",
       " 7754: '7754_LEON MONDAQUE ROLY.pdf',\n",
       " 7821: '7821_LEON MONDAQUE ELISA.pdf'}"
      ]
     },
     "execution_count": 4,
     "metadata": {},
     "output_type": "execute_result"
    }
   ],
   "source": [
    "print(len(dic_files), 'INFORMES')\n",
    "dic_files"
   ]
  },
  {
   "cell_type": "code",
   "execution_count": 5,
   "id": "09bef398",
   "metadata": {},
   "outputs": [
    {
     "name": "stdout",
     "output_type": "stream",
     "text": [
      "Created file 10816_PIEROLA VACA FERNANDO.pdf with mimeType application/pdf\n",
      "Created file 15085_CRUZ RUTH JAQUELIN B. DE.pdf with mimeType application/pdf\n",
      "Created file 17678_ESPINOZA JUANA MAIDA DE.pdf with mimeType application/pdf\n",
      "Created file 1979_CLAROS CADIMA EDMUNDO.pdf with mimeType application/pdf\n",
      "Created file 1988_CLAROS CADIMA JHONNY.pdf with mimeType application/pdf\n",
      "Created file 2505_CRUZ BARRIENTOS CRISTIAN F..pdf with mimeType application/pdf\n",
      "Created file 2677_CLAROS VASQUEZ KEVIN F..pdf with mimeType application/pdf\n",
      "Created file 3415_ESPINOZA VILLEGAS GERARDO.pdf with mimeType application/pdf\n",
      "Created file 40251_AMURRIO MELGAREJO JUAN GABRIEL.pdf with mimeType application/pdf\n",
      "Created file 41554_LEDEZMA SALAZAR RICHARD JIMMY.pdf with mimeType application/pdf\n",
      "Created file 4834_GUTIERREZ MARTHA S. AGUILERA DE.pdf with mimeType application/pdf\n",
      "Created file 5401_HUALLPA CARDENAS CARLOS.pdf with mimeType application/pdf\n",
      "Created file 5407_HUANCA MENCHAQUE HERNAN.pdf with mimeType application/pdf\n",
      "Created file 5448_HUANCA MENCHAQUE ROLY.pdf with mimeType application/pdf\n",
      "Created file 7385_LINARES SALVATIERRA MARY LUZ.pdf with mimeType application/pdf\n",
      "Created file 7494_LINARES S. AIDEE.pdf with mimeType application/pdf\n",
      "Created file 7754_LEON MONDAQUE ROLY.pdf with mimeType application/pdf\n",
      "Created file 7821_LEON MONDAQUE ELISA.pdf with mimeType application/pdf\n",
      "end\n"
     ]
    }
   ],
   "source": [
    "dic_urls = {}\n",
    "# View all folders and file in your Google Drive\n",
    "fileList = drive.ListFile({'q': \"'root' in parents and trashed=false\"}).GetList()\n",
    "for file in fileList:\n",
    "  #print('Title: %s, ID: %s' % (file['title'], file['id']))\n",
    "  # Get the folder ID that you want\n",
    "  if(file['title'] == \"2DA_INSPECCION\"):\n",
    "      fileID = file['id']\n",
    "\n",
    "for file in dic_files:\n",
    "    file1 = drive.CreateFile({\"mimeType\": \"application/pdf\", \"parents\": [{\"kind\": \"drive#fileLink\", \"id\": fileID}]})\n",
    "    file1['title'] = dic_files[file]\n",
    "    file1.SetContentFile('D:/utea/DEV/utea_scripts/reportes_credito_siembra/pdfs/' + dic_files[file])\n",
    "    file1.Upload() # Upload the file.\n",
    "    print('Created file %s with mimeType %s' % (file1['title'], file1['mimeType']))\n",
    "    permission = file1.InsertPermission({\n",
    "                        'type': 'anyone',\n",
    "                        'value': 'anyone',\n",
    "                        'role': 'reader'})\n",
    "    dic_urls[file] = file1['alternateLink']\n",
    "dic_urls\n",
    "print('end')"
   ]
  },
  {
   "cell_type": "code",
   "execution_count": 6,
   "id": "d82634b6",
   "metadata": {},
   "outputs": [
    {
     "name": "stdout",
     "output_type": "stream",
     "text": [
      "18 URLs\n"
     ]
    },
    {
     "data": {
      "text/plain": [
       "{10816: 'https://drive.google.com/file/d/1GX-iuRPywyTIOW9aRWkB2nQjUL7E5VdM/view?usp=drivesdk',\n",
       " 15085: 'https://drive.google.com/file/d/1WkeNSosXjY9MrzbkVRTIy1GdUNWT69rN/view?usp=drivesdk',\n",
       " 17678: 'https://drive.google.com/file/d/1aqs7ODhF346mwNWucSQnJ0oYHKADYne2/view?usp=drivesdk',\n",
       " 1979: 'https://drive.google.com/file/d/1opOHi09iiZNoPQDSkzMMHALielYUGcnk/view?usp=drivesdk',\n",
       " 1988: 'https://drive.google.com/file/d/1oijOxgU5Z7cb3ea-_b6QfY-q0gbETmF-/view?usp=drivesdk',\n",
       " 2505: 'https://drive.google.com/file/d/19LULg2V2SE2DK_CqQ6l2S2oGVbEzqwvH/view?usp=drivesdk',\n",
       " 2677: 'https://drive.google.com/file/d/1OVuFaqe4vZeoXBLYQIEdvjzdQvAb_XUR/view?usp=drivesdk',\n",
       " 3415: 'https://drive.google.com/file/d/1zJKzuwtc6BuYjqw5kA5dBPI4ryJxyJ4S/view?usp=drivesdk',\n",
       " 40251: 'https://drive.google.com/file/d/1ouBLsn8KB4lSeVNs0WGA46rqh9vryXQd/view?usp=drivesdk',\n",
       " 41554: 'https://drive.google.com/file/d/1HBDpa6a8f5st_GsiZqHglIu2oeAi6WL0/view?usp=drivesdk',\n",
       " 4834: 'https://drive.google.com/file/d/1VaHFdMfL-ax7BJTPHJgELHLop7znq37Y/view?usp=drivesdk',\n",
       " 5401: 'https://drive.google.com/file/d/1R6SKjD-zvyppyqZE_f8Jx8yM2VLMXV63/view?usp=drivesdk',\n",
       " 5407: 'https://drive.google.com/file/d/1-zk6-qiasVnRXU_akplwzR1XMSw0KZF3/view?usp=drivesdk',\n",
       " 5448: 'https://drive.google.com/file/d/1Elv6JMBQaA9DrDZwPsLdONhQD9pk2bY3/view?usp=drivesdk',\n",
       " 7385: 'https://drive.google.com/file/d/1WyhmNv0YLf_2mmgArNOlDAFP4TMgvEn3/view?usp=drivesdk',\n",
       " 7494: 'https://drive.google.com/file/d/1H-KMgPSpMXPs6yGj_plr-fEw-cnDTsmm/view?usp=drivesdk',\n",
       " 7754: 'https://drive.google.com/file/d/1mtB7R3drv7ezaTTWl6rbALh-RW9lHZCG/view?usp=drivesdk',\n",
       " 7821: 'https://drive.google.com/file/d/1CrjQ82IN5jryfDIbjYld0XWLjJas6Yfj/view?usp=drivesdk'}"
      ]
     },
     "execution_count": 6,
     "metadata": {},
     "output_type": "execute_result"
    }
   ],
   "source": [
    "print(len(dic_urls), 'URLs')\n",
    "dic_urls"
   ]
  },
  {
   "cell_type": "markdown",
   "id": "0474d333",
   "metadata": {},
   "source": [
    "# CONECTAR A AMIGOCLOUD"
   ]
  },
  {
   "cell_type": "code",
   "execution_count": 8,
   "id": "8bae518a",
   "metadata": {
    "scrolled": true
   },
   "outputs": [],
   "source": [
    "from amigocloud import AmigoCloud"
   ]
  },
  {
   "cell_type": "code",
   "execution_count": 10,
   "id": "2dedb595-5b01-48fd-9137-e99330ae0e07",
   "metadata": {},
   "outputs": [
    {
     "name": "stderr",
     "output_type": "stream",
     "text": [
      "WARNING:socketIO-client:app.amigocloud.com:443/v2_socket.io/socket.io [connection error] recv disconnected ([Errno 2] No such file or directory)\n"
     ]
    },
    {
     "data": {
      "text/plain": [
       "<amigocloud.amigocloud.AmigoCloud at 0x1ee6cddb408>"
      ]
     },
     "execution_count": 10,
     "metadata": {},
     "output_type": "execute_result"
    }
   ],
   "source": [
    "# CONECTAR A AMIGOCLOUD\n",
    "acceso = open('../../../api_key/api.key','r')\n",
    "api_token = acceso.readlines()[0]\n",
    "acceso.close()\n",
    "amigocloud = AmigoCloud(token=api_token)\n",
    "amigocloud"
   ]
  },
  {
   "cell_type": "code",
   "execution_count": 11,
   "id": "c4ca8775",
   "metadata": {},
   "outputs": [
    {
     "name": "stdout",
     "output_type": "stream",
     "text": [
      "10816\n",
      "15085\n",
      "17678\n",
      "1979\n",
      "1988\n",
      "2505\n",
      "2677\n",
      "3415\n",
      "40251\n",
      "41554\n",
      "4834\n",
      "5401\n",
      "5407\n",
      "5448\n",
      "7385\n",
      "7494\n",
      "7754\n",
      "7821\n",
      "end\n"
     ]
    }
   ],
   "source": [
    "for key in dic_urls:\n",
    "    query = {'query': 'update dataset_282969 set link_doc_2da = \\'{link}\\' where cast(SPLIT_PART(canhero, \\' / \\', 1) as integer) = \\'{cod}\\''.format(link=dic_urls[key], cod=key)}\n",
    "    res = amigocloud.post('https://app.amigocloud.com/api/v1/projects/31360/sql', query)\n",
    "    print(key)\n",
    "print('end')"
   ]
  },
  {
   "cell_type": "markdown",
   "id": "1ed2aeba",
   "metadata": {},
   "source": [
    "# -----------------------------------------------------------"
   ]
  },
  {
   "cell_type": "markdown",
   "id": "ba9ee21e",
   "metadata": {},
   "source": [
    "# CONECCION A DRIVE"
   ]
  },
  {
   "cell_type": "code",
   "execution_count": null,
   "id": "3214cfd4",
   "metadata": {},
   "outputs": [],
   "source": [
    "from pydrive.auth import GoogleAuth\n",
    "from pydrive.drive import GoogleDrive\n",
    "\n",
    "gauth = GoogleAuth()\n",
    "gauth.LocalWebserverAuth() # client_secrets.json need to be in the same directory as the script\n",
    "drive = GoogleDrive(gauth)"
   ]
  },
  {
   "cell_type": "code",
   "execution_count": null,
   "id": "4ab01e0f",
   "metadata": {},
   "outputs": [],
   "source": [
    "# View all folders and file in your Google Drive\n",
    "fileList = drive.ListFile({'q': \"'root' in parents and trashed=false\"}).GetList()\n",
    "for file in fileList:\n",
    "  print('Title: %s, ID: %s' % (file['title'], file['id']))\n",
    "  # Get the folder ID that you want\n",
    "  if(file['title'] == \"REPORTES_CREDITO\"):\n",
    "      fileID = file['id']\n",
    "\n",
    "file1 = drive.CreateFile({\"mimeType\": \"application/pdf\", \"parents\": [{\"kind\": \"drive#fileLink\", \"id\": fileID}]})\n",
    "file1.SetContentFile(\"file.pdf\")\n",
    "file1.Upload() # Upload the file.\n",
    "print('Created file %s with mimeType %s' % (file1['title'], file1['mimeType']))"
   ]
  },
  {
   "cell_type": "code",
   "execution_count": null,
   "id": "bb1acb28",
   "metadata": {},
   "outputs": [],
   "source": [
    "permission = file1.InsertPermission({\n",
    "                        'type': 'anyone',\n",
    "                        'value': 'anyone',\n",
    "                        'role': 'reader'})\n",
    "\n",
    "print(file1['alternateLink'])  # Display the sharable link."
   ]
  },
  {
   "cell_type": "code",
   "execution_count": null,
   "id": "7a9a0b5a",
   "metadata": {},
   "outputs": [],
   "source": [
    "for file in fileList[0]:\n",
    "    print(file, '       ',fileList[0][file])"
   ]
  },
  {
   "cell_type": "code",
   "execution_count": null,
   "id": "42db2945",
   "metadata": {},
   "outputs": [],
   "source": [
    "fileList[0]['title']"
   ]
  }
 ],
 "metadata": {
  "kernelspec": {
   "display_name": "Python 3 (ipykernel)",
   "language": "python",
   "name": "python3"
  },
  "language_info": {
   "codemirror_mode": {
    "name": "ipython",
    "version": 3
   },
   "file_extension": ".py",
   "mimetype": "text/x-python",
   "name": "python",
   "nbconvert_exporter": "python",
   "pygments_lexer": "ipython3",
   "version": "3.7.11"
  }
 },
 "nbformat": 4,
 "nbformat_minor": 5
}
