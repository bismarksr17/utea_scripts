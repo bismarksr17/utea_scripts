{
 "cells": [
  {
   "cell_type": "markdown",
   "id": "18a80bc5",
   "metadata": {},
   "source": [
    "# INSTALAR LIBRERIAS"
   ]
  },
  {
   "cell_type": "code",
   "execution_count": 3,
   "id": "7e312719",
   "metadata": {},
   "outputs": [],
   "source": [
    "# !pip install docx2pdf\n",
    "#pip install ipywidgets"
   ]
  },
  {
   "cell_type": "markdown",
   "id": "7e934ca6",
   "metadata": {},
   "source": [
    "# IMPORTAR"
   ]
  },
  {
   "cell_type": "code",
   "execution_count": 4,
   "id": "508a28c7",
   "metadata": {},
   "outputs": [],
   "source": [
    "from docx2pdf import convert\n",
    "import os"
   ]
  },
  {
   "cell_type": "markdown",
   "id": "64ec4ba6",
   "metadata": {},
   "source": [
    "# CONSTRUIR LA RUTA DE LOS ARCHIVOS"
   ]
  },
  {
   "cell_type": "code",
   "execution_count": 24,
   "id": "1fc560f3",
   "metadata": {},
   "outputs": [
    {
     "name": "stdout",
     "output_type": "stream",
     "text": [
      "SE ENCONTRARON 12 INFORMES\n",
      "12 INFORMES\n"
     ]
    },
    {
     "data": {
      "text/plain": [
       "['D:\\\\PYTHON\\\\utea_scripts\\\\reportes_credito_siembra\\\\informes/12162_ROCA REYES MARCOS.docx',\n",
       " 'D:\\\\PYTHON\\\\utea_scripts\\\\reportes_credito_siembra\\\\informes/15501_WENDE RIOJA MAURICIO.docx',\n",
       " 'D:\\\\PYTHON\\\\utea_scripts\\\\reportes_credito_siembra\\\\informes/40149_PAZ REA JOSE ERNESTO.docx',\n",
       " 'D:\\\\PYTHON\\\\utea_scripts\\\\reportes_credito_siembra\\\\informes/4061_FRITZER PAZ ROMEL.docx',\n",
       " 'D:\\\\PYTHON\\\\utea_scripts\\\\reportes_credito_siembra\\\\informes/41541_SUAREZ JUSTINIANO MERCY BEATRIZ.docx',\n",
       " 'D:\\\\PYTHON\\\\utea_scripts\\\\reportes_credito_siembra\\\\informes/4171_FRITZER CUELLAR SAMIR EDUARDO.docx',\n",
       " 'D:\\\\PYTHON\\\\utea_scripts\\\\reportes_credito_siembra\\\\informes/41944_CONDORI QUEVEDO RONALD .docx',\n",
       " 'D:\\\\PYTHON\\\\utea_scripts\\\\reportes_credito_siembra\\\\informes/41956_TORRICO SUAREZ CAROLINA.docx',\n",
       " 'D:\\\\PYTHON\\\\utea_scripts\\\\reportes_credito_siembra\\\\informes/41965_ANCE CONDORI MIGUEL ANGEL.docx',\n",
       " 'D:\\\\PYTHON\\\\utea_scripts\\\\reportes_credito_siembra\\\\informes/42131_AGROPECUARIA CAMPOAZUL S.R.L..docx',\n",
       " 'D:\\\\PYTHON\\\\utea_scripts\\\\reportes_credito_siembra\\\\informes/465_ACSAMA SALVADOR MARIO REYES.docx',\n",
       " 'D:\\\\PYTHON\\\\utea_scripts\\\\reportes_credito_siembra\\\\informes/770_ANCE CONDORI JUANITO.docx']"
      ]
     },
     "execution_count": 24,
     "metadata": {},
     "output_type": "execute_result"
    }
   ],
   "source": [
    "# colocar aqui la ruta de los archivos\n",
    "ruta = r'D:\\PYTHON\\utea_scripts\\reportes_credito_siembra\\informes'\n",
    "contenido = os.listdir(ruta)\n",
    "rutas =[]\n",
    "i = 0\n",
    "for name in contenido:\n",
    "    rutas.append(ruta + '/' + name)\n",
    "    i+=1\n",
    "\n",
    "print('SE ENCONTRARON ' + str(i) + ' INFORMES')\n",
    "print(len(rutas), 'INFORMES')\n",
    "rutas"
   ]
  },
  {
   "cell_type": "markdown",
   "id": "6b9af706",
   "metadata": {
    "tags": []
   },
   "source": [
    "# INICIA EL PROCESO DE CONVERCIÓN"
   ]
  },
  {
   "cell_type": "code",
   "execution_count": 18,
   "id": "cdbc481d-e9f8-4a85-946f-4c45abd61e87",
   "metadata": {},
   "outputs": [
    {
     "data": {
      "text/plain": [
       "'D:\\\\PYTHON\\\\utea_scripts\\\\reportes_credito_siembra\\\\pdf/15501_WENDE RIOJA MAURICIO.pdf'"
      ]
     },
     "execution_count": 18,
     "metadata": {},
     "output_type": "execute_result"
    }
   ],
   "source": [
    "rutas[1].replace('.docx','.pdf').replace('informes','pdf')"
   ]
  },
  {
   "cell_type": "code",
   "execution_count": 25,
   "id": "0f018b1e",
   "metadata": {
    "tags": []
   },
   "outputs": [
    {
     "name": "stdout",
     "output_type": "stream",
     "text": [
      "CONVIRTIENDO... INFORME 1 D:\\PYTHON\\utea_scripts\\reportes_credito_siembra\\informes/12162_ROCA REYES MARCOS.docx\n",
      "D:\\PYTHON\\utea_scripts\\reportes_credito_siembra\\informes/12162_ROCA REYES MARCOS.docx\n",
      "D:\\PYTHON\\utea_scripts\\reportes_credito_siembra\\pdfs/12162_ROCA REYES MARCOS.pdf\n"
     ]
    },
    {
     "data": {
      "application/vnd.jupyter.widget-view+json": {
       "model_id": "021c3f868c6843e8beaa7eeae585a1f3",
       "version_major": 2,
       "version_minor": 0
      },
      "text/plain": [
       "  0%|          | 0/1 [00:00<?, ?it/s]"
      ]
     },
     "metadata": {},
     "output_type": "display_data"
    },
    {
     "name": "stdout",
     "output_type": "stream",
     "text": [
      "CONVIRTIENDO... INFORME 2 D:\\PYTHON\\utea_scripts\\reportes_credito_siembra\\informes/15501_WENDE RIOJA MAURICIO.docx\n",
      "D:\\PYTHON\\utea_scripts\\reportes_credito_siembra\\informes/15501_WENDE RIOJA MAURICIO.docx\n",
      "D:\\PYTHON\\utea_scripts\\reportes_credito_siembra\\pdfs/15501_WENDE RIOJA MAURICIO.pdf\n"
     ]
    },
    {
     "data": {
      "application/vnd.jupyter.widget-view+json": {
       "model_id": "32ef4606f8164fb1b2a8466fa41a793b",
       "version_major": 2,
       "version_minor": 0
      },
      "text/plain": [
       "  0%|          | 0/1 [00:00<?, ?it/s]"
      ]
     },
     "metadata": {},
     "output_type": "display_data"
    },
    {
     "name": "stdout",
     "output_type": "stream",
     "text": [
      "CONVIRTIENDO... INFORME 3 D:\\PYTHON\\utea_scripts\\reportes_credito_siembra\\informes/40149_PAZ REA JOSE ERNESTO.docx\n",
      "D:\\PYTHON\\utea_scripts\\reportes_credito_siembra\\informes/40149_PAZ REA JOSE ERNESTO.docx\n",
      "D:\\PYTHON\\utea_scripts\\reportes_credito_siembra\\pdfs/40149_PAZ REA JOSE ERNESTO.pdf\n"
     ]
    },
    {
     "data": {
      "application/vnd.jupyter.widget-view+json": {
       "model_id": "15f85b1eac7845e995b6faefbd86f9b4",
       "version_major": 2,
       "version_minor": 0
      },
      "text/plain": [
       "  0%|          | 0/1 [00:00<?, ?it/s]"
      ]
     },
     "metadata": {},
     "output_type": "display_data"
    },
    {
     "name": "stdout",
     "output_type": "stream",
     "text": [
      "CONVIRTIENDO... INFORME 4 D:\\PYTHON\\utea_scripts\\reportes_credito_siembra\\informes/4061_FRITZER PAZ ROMEL.docx\n",
      "D:\\PYTHON\\utea_scripts\\reportes_credito_siembra\\informes/4061_FRITZER PAZ ROMEL.docx\n",
      "D:\\PYTHON\\utea_scripts\\reportes_credito_siembra\\pdfs/4061_FRITZER PAZ ROMEL.pdf\n"
     ]
    },
    {
     "data": {
      "application/vnd.jupyter.widget-view+json": {
       "model_id": "9566925e3fea4cd39b309734d0de7481",
       "version_major": 2,
       "version_minor": 0
      },
      "text/plain": [
       "  0%|          | 0/1 [00:00<?, ?it/s]"
      ]
     },
     "metadata": {},
     "output_type": "display_data"
    },
    {
     "name": "stdout",
     "output_type": "stream",
     "text": [
      "CONVIRTIENDO... INFORME 5 D:\\PYTHON\\utea_scripts\\reportes_credito_siembra\\informes/41541_SUAREZ JUSTINIANO MERCY BEATRIZ.docx\n",
      "D:\\PYTHON\\utea_scripts\\reportes_credito_siembra\\informes/41541_SUAREZ JUSTINIANO MERCY BEATRIZ.docx\n",
      "D:\\PYTHON\\utea_scripts\\reportes_credito_siembra\\pdfs/41541_SUAREZ JUSTINIANO MERCY BEATRIZ.pdf\n"
     ]
    },
    {
     "data": {
      "application/vnd.jupyter.widget-view+json": {
       "model_id": "d387991efcf44ea7b11ed6150d26e4f2",
       "version_major": 2,
       "version_minor": 0
      },
      "text/plain": [
       "  0%|          | 0/1 [00:00<?, ?it/s]"
      ]
     },
     "metadata": {},
     "output_type": "display_data"
    },
    {
     "name": "stdout",
     "output_type": "stream",
     "text": [
      "CONVIRTIENDO... INFORME 6 D:\\PYTHON\\utea_scripts\\reportes_credito_siembra\\informes/4171_FRITZER CUELLAR SAMIR EDUARDO.docx\n",
      "D:\\PYTHON\\utea_scripts\\reportes_credito_siembra\\informes/4171_FRITZER CUELLAR SAMIR EDUARDO.docx\n",
      "D:\\PYTHON\\utea_scripts\\reportes_credito_siembra\\pdfs/4171_FRITZER CUELLAR SAMIR EDUARDO.pdf\n"
     ]
    },
    {
     "data": {
      "application/vnd.jupyter.widget-view+json": {
       "model_id": "0f02f72cd85841418e2c41e64d9e3e30",
       "version_major": 2,
       "version_minor": 0
      },
      "text/plain": [
       "  0%|          | 0/1 [00:00<?, ?it/s]"
      ]
     },
     "metadata": {},
     "output_type": "display_data"
    },
    {
     "name": "stdout",
     "output_type": "stream",
     "text": [
      "CONVIRTIENDO... INFORME 7 D:\\PYTHON\\utea_scripts\\reportes_credito_siembra\\informes/41944_CONDORI QUEVEDO RONALD .docx\n",
      "D:\\PYTHON\\utea_scripts\\reportes_credito_siembra\\informes/41944_CONDORI QUEVEDO RONALD .docx\n",
      "D:\\PYTHON\\utea_scripts\\reportes_credito_siembra\\pdfs/41944_CONDORI QUEVEDO RONALD .pdf\n"
     ]
    },
    {
     "data": {
      "application/vnd.jupyter.widget-view+json": {
       "model_id": "737d8ee30c82401082a3ba77f2f04a34",
       "version_major": 2,
       "version_minor": 0
      },
      "text/plain": [
       "  0%|          | 0/1 [00:00<?, ?it/s]"
      ]
     },
     "metadata": {},
     "output_type": "display_data"
    },
    {
     "name": "stdout",
     "output_type": "stream",
     "text": [
      "CONVIRTIENDO... INFORME 8 D:\\PYTHON\\utea_scripts\\reportes_credito_siembra\\informes/41956_TORRICO SUAREZ CAROLINA.docx\n",
      "D:\\PYTHON\\utea_scripts\\reportes_credito_siembra\\informes/41956_TORRICO SUAREZ CAROLINA.docx\n",
      "D:\\PYTHON\\utea_scripts\\reportes_credito_siembra\\pdfs/41956_TORRICO SUAREZ CAROLINA.pdf\n"
     ]
    },
    {
     "data": {
      "application/vnd.jupyter.widget-view+json": {
       "model_id": "e543419d693942d790c0087d7214842c",
       "version_major": 2,
       "version_minor": 0
      },
      "text/plain": [
       "  0%|          | 0/1 [00:00<?, ?it/s]"
      ]
     },
     "metadata": {},
     "output_type": "display_data"
    },
    {
     "name": "stdout",
     "output_type": "stream",
     "text": [
      "CONVIRTIENDO... INFORME 9 D:\\PYTHON\\utea_scripts\\reportes_credito_siembra\\informes/41965_ANCE CONDORI MIGUEL ANGEL.docx\n",
      "D:\\PYTHON\\utea_scripts\\reportes_credito_siembra\\informes/41965_ANCE CONDORI MIGUEL ANGEL.docx\n",
      "D:\\PYTHON\\utea_scripts\\reportes_credito_siembra\\pdfs/41965_ANCE CONDORI MIGUEL ANGEL.pdf\n"
     ]
    },
    {
     "data": {
      "application/vnd.jupyter.widget-view+json": {
       "model_id": "125dcf3b49744d35a44b57139ab80d4a",
       "version_major": 2,
       "version_minor": 0
      },
      "text/plain": [
       "  0%|          | 0/1 [00:00<?, ?it/s]"
      ]
     },
     "metadata": {},
     "output_type": "display_data"
    },
    {
     "name": "stdout",
     "output_type": "stream",
     "text": [
      "CONVIRTIENDO... INFORME 10 D:\\PYTHON\\utea_scripts\\reportes_credito_siembra\\informes/42131_AGROPECUARIA CAMPOAZUL S.R.L..docx\n",
      "D:\\PYTHON\\utea_scripts\\reportes_credito_siembra\\informes/42131_AGROPECUARIA CAMPOAZUL S.R.L..docx\n",
      "D:\\PYTHON\\utea_scripts\\reportes_credito_siembra\\pdfs/42131_AGROPECUARIA CAMPOAZUL S.R.L..pdf\n"
     ]
    },
    {
     "data": {
      "application/vnd.jupyter.widget-view+json": {
       "model_id": "967d6cdb73aa457d98da999398a871e7",
       "version_major": 2,
       "version_minor": 0
      },
      "text/plain": [
       "  0%|          | 0/1 [00:00<?, ?it/s]"
      ]
     },
     "metadata": {},
     "output_type": "display_data"
    },
    {
     "name": "stdout",
     "output_type": "stream",
     "text": [
      "CONVIRTIENDO... INFORME 11 D:\\PYTHON\\utea_scripts\\reportes_credito_siembra\\informes/465_ACSAMA SALVADOR MARIO REYES.docx\n",
      "D:\\PYTHON\\utea_scripts\\reportes_credito_siembra\\informes/465_ACSAMA SALVADOR MARIO REYES.docx\n",
      "D:\\PYTHON\\utea_scripts\\reportes_credito_siembra\\pdfs/465_ACSAMA SALVADOR MARIO REYES.pdf\n"
     ]
    },
    {
     "data": {
      "application/vnd.jupyter.widget-view+json": {
       "model_id": "5dc4cea0e4634832a5eb379ce2610799",
       "version_major": 2,
       "version_minor": 0
      },
      "text/plain": [
       "  0%|          | 0/1 [00:00<?, ?it/s]"
      ]
     },
     "metadata": {},
     "output_type": "display_data"
    },
    {
     "name": "stdout",
     "output_type": "stream",
     "text": [
      "CONVIRTIENDO... INFORME 12 D:\\PYTHON\\utea_scripts\\reportes_credito_siembra\\informes/770_ANCE CONDORI JUANITO.docx\n",
      "D:\\PYTHON\\utea_scripts\\reportes_credito_siembra\\informes/770_ANCE CONDORI JUANITO.docx\n",
      "D:\\PYTHON\\utea_scripts\\reportes_credito_siembra\\pdfs/770_ANCE CONDORI JUANITO.pdf\n"
     ]
    },
    {
     "data": {
      "application/vnd.jupyter.widget-view+json": {
       "model_id": "1d52b6874aff43e6ab2b8427b86cc3db",
       "version_major": 2,
       "version_minor": 0
      },
      "text/plain": [
       "  0%|          | 0/1 [00:00<?, ?it/s]"
      ]
     },
     "metadata": {},
     "output_type": "display_data"
    },
    {
     "name": "stdout",
     "output_type": "stream",
     "text": [
      "END\n"
     ]
    }
   ],
   "source": [
    "i = 1\n",
    "for filename in rutas:\n",
    "    print('CONVIRTIENDO... INFORME ' + str(i) + ' ' + filename)\n",
    "    # se realiza la convrsion pasando parametro de salida y entrada, \n",
    "    # para la salida se reemplaza la extencion y la ruta\n",
    "    print(filename)\n",
    "    print(filename.replace('.docx','.pdf').replace('informes','pdfs'))\n",
    "    convert(filename, filename.replace('.docx','.pdf').replace('informes','pdfs'))\n",
    "    i+=1\n",
    "print('END')"
   ]
  },
  {
   "cell_type": "markdown",
   "id": "455ef654-fe35-492c-8f69-3dc00102b0bb",
   "metadata": {},
   "source": [
    "# Leer archivos"
   ]
  },
  {
   "cell_type": "code",
   "execution_count": 31,
   "id": "df0f066e-d897-4ca6-a8cd-23b40ad41307",
   "metadata": {},
   "outputs": [
    {
     "name": "stdout",
     "output_type": "stream",
     "text": [
      "Your browser has been opened to visit:\n",
      "\n",
      "    https://accounts.google.com/o/oauth2/auth?client_id=1096764895697-57btfmtn7rdejufct5qq4j9mi61j0unl.apps.googleusercontent.com&redirect_uri=http%3A%2F%2Flocalhost%3A8080%2F&scope=https%3A%2F%2Fwww.googleapis.com%2Fauth%2Fdrive&access_type=offline&response_type=code\n",
      "\n",
      "Authentication successful.\n"
     ]
    }
   ],
   "source": [
    "# CONEXION A GOOGLE DRIVE\n",
    "from pydrive.auth import GoogleAuth\n",
    "from pydrive.drive import GoogleDrive\n",
    "gauth = GoogleAuth()\n",
    "gauth.LocalWebserverAuth() # client_secrets.json need to be in the same directory as the script\n",
    "drive = GoogleDrive(gauth)"
   ]
  },
  {
   "cell_type": "code",
   "execution_count": 32,
   "id": "5bc6184d-91a1-42a1-a809-84014f898d43",
   "metadata": {},
   "outputs": [
    {
     "name": "stdout",
     "output_type": "stream",
     "text": [
      "12 informes\n"
     ]
    },
    {
     "data": {
      "text/plain": [
       "{12162: '12162_ROCA REYES MARCOS.pdf',\n",
       " 15501: '15501_WENDE RIOJA MAURICIO.pdf',\n",
       " 40149: '40149_PAZ REA JOSE ERNESTO.pdf',\n",
       " 4061: '4061_FRITZER PAZ ROMEL.pdf',\n",
       " 41541: '41541_SUAREZ JUSTINIANO MERCY BEATRIZ.pdf',\n",
       " 4171: '4171_FRITZER CUELLAR SAMIR EDUARDO.pdf',\n",
       " 41944: '41944_CONDORI QUEVEDO RONALD .pdf',\n",
       " 41956: '41956_TORRICO SUAREZ CAROLINA.pdf',\n",
       " 41965: '41965_ANCE CONDORI MIGUEL ANGEL.pdf',\n",
       " 42131: '42131_AGROPECUARIA CAMPOAZUL S.R.L..pdf',\n",
       " 465: '465_ACSAMA SALVADOR MARIO REYES.pdf',\n",
       " 770: '770_ANCE CONDORI JUANITO.pdf'}"
      ]
     },
     "execution_count": 32,
     "metadata": {},
     "output_type": "execute_result"
    }
   ],
   "source": [
    "contenido = os.listdir(r'D:\\PYTHON\\utea_scripts\\reportes_credito_siembra\\pdfs')\n",
    "dic_files = {}\n",
    "for file in contenido:\n",
    "    split = file.split('_')\n",
    "    dic_files[int(split[0])] = file\n",
    "print(len(dic_files), 'informes')\n",
    "dic_files"
   ]
  },
  {
   "cell_type": "markdown",
   "id": "68778c6d-31c1-4f6f-880c-5d3f2d04ed17",
   "metadata": {},
   "source": [
    "# CARGAR LOS PDFS A GOOGLE DRIVE"
   ]
  },
  {
   "cell_type": "code",
   "execution_count": 33,
   "id": "aaf8d01b-5324-4b14-a67d-a6162850efa2",
   "metadata": {},
   "outputs": [
    {
     "name": "stdout",
     "output_type": "stream",
     "text": [
      "Created file 12162_ROCA REYES MARCOS.pdf with mimeType application/pdf\n",
      "Created file 15501_WENDE RIOJA MAURICIO.pdf with mimeType application/pdf\n",
      "Created file 40149_PAZ REA JOSE ERNESTO.pdf with mimeType application/pdf\n",
      "Created file 4061_FRITZER PAZ ROMEL.pdf with mimeType application/pdf\n",
      "Created file 41541_SUAREZ JUSTINIANO MERCY BEATRIZ.pdf with mimeType application/pdf\n",
      "Created file 4171_FRITZER CUELLAR SAMIR EDUARDO.pdf with mimeType application/pdf\n",
      "Created file 41944_CONDORI QUEVEDO RONALD .pdf with mimeType application/pdf\n",
      "Created file 41956_TORRICO SUAREZ CAROLINA.pdf with mimeType application/pdf\n",
      "Created file 41965_ANCE CONDORI MIGUEL ANGEL.pdf with mimeType application/pdf\n",
      "Created file 42131_AGROPECUARIA CAMPOAZUL S.R.L..pdf with mimeType application/pdf\n",
      "Created file 465_ACSAMA SALVADOR MARIO REYES.pdf with mimeType application/pdf\n",
      "Created file 770_ANCE CONDORI JUANITO.pdf with mimeType application/pdf\n",
      "end\n"
     ]
    }
   ],
   "source": [
    "# CARGAR LOS PDFS A GOOGLE DRIVE\n",
    "dic_urls = {}\n",
    "# View all folders and file in your Google Drive\n",
    "fileList = drive.ListFile({'q': \"'root' in parents and trashed=false\"}).GetList()\n",
    "for file in fileList:\n",
    "  #print('Title: %s, ID: %s' % (file['title'], file['id']))\n",
    "  # Get the folder ID that you want\n",
    "  if(file['title'] == \"1RA_INSPECCION\"):\n",
    "      fileID = file['id']\n",
    "\n",
    "for file in dic_files:\n",
    "    file1 = drive.CreateFile({\"mimeType\": \"application/pdf\", \"parents\": [{\"kind\": \"drive#fileLink\", \"id\": fileID}]})\n",
    "    file1['title'] = dic_files[file]\n",
    "    file1.SetContentFile(r'D:\\PYTHON\\utea_scripts\\reportes_credito_siembra\\pdfs//' + dic_files[file])\n",
    "    file1.Upload() # Upload the file.\n",
    "    print('Created file %s with mimeType %s' % (file1['title'], file1['mimeType']))\n",
    "    permission = file1.InsertPermission({\n",
    "                        'type': 'anyone',\n",
    "                        'value': 'anyone',\n",
    "                        'role': 'reader'})\n",
    "    dic_urls[file] = file1['alternateLink']\n",
    "dic_urls\n",
    "print('end')"
   ]
  },
  {
   "cell_type": "code",
   "execution_count": 54,
   "id": "6aceb417-cee6-413c-917f-f03bcba671b6",
   "metadata": {},
   "outputs": [
    {
     "name": "stdout",
     "output_type": "stream",
     "text": [
      "12 URLs\n"
     ]
    },
    {
     "data": {
      "text/plain": [
       "{12162: 'https://drive.google.com/file/d/1YlOynHB6IxDzENLPq0sZ6EtafW7IPEK4/view?usp=drivesdk',\n",
       " 15501: 'https://drive.google.com/file/d/182qx_o0zmgPW5ZAsOSsCulf_6dIlgK0e/view?usp=drivesdk',\n",
       " 40149: 'https://drive.google.com/file/d/18LdZiDnVPMTHymPhC3OzS4R_Js-1JM36/view?usp=drivesdk',\n",
       " 4061: 'https://drive.google.com/file/d/1a76TBd8miOCn3EqPi4G_OoGUrK9HNHHL/view?usp=drivesdk',\n",
       " 41541: 'https://drive.google.com/file/d/1FgYKQQH7NhRJWwUOHQwr5HfjRhHHnKYR/view?usp=drivesdk',\n",
       " 4171: 'https://drive.google.com/file/d/1QxYLmNHcohx09ypX0HQkMjJl1ZcJkNx8/view?usp=drivesdk',\n",
       " 41944: 'https://drive.google.com/file/d/1mP4--tkXntFKT61gsxjCIHzbGUySJl-2/view?usp=drivesdk',\n",
       " 41956: 'https://drive.google.com/file/d/1U6uHriWnxSO3iHcB9uyQVUUyv605FbFt/view?usp=drivesdk',\n",
       " 41965: 'https://drive.google.com/file/d/19YiBST1SlpTSa1wMBlGpi03Qbyaxe4ms/view?usp=drivesdk',\n",
       " 42131: 'https://drive.google.com/file/d/1qwfifyj2ZYFPMXEhzhJm7JIiK9-2CRU5/view?usp=drivesdk',\n",
       " 465: 'https://drive.google.com/file/d/18_X3QFzWuPIUHb9aQEdJx9xwKK6Rv6s3/view?usp=drivesdk',\n",
       " 770: 'https://drive.google.com/file/d/1ZMTW6PARhmAojtOEFMJCfNm4z6mSoTL2/view?usp=drivesdk'}"
      ]
     },
     "execution_count": 54,
     "metadata": {},
     "output_type": "execute_result"
    }
   ],
   "source": [
    "print(len(dic_urls), 'URLs')\n",
    "dic_urls"
   ]
  },
  {
   "cell_type": "markdown",
   "id": "6063c8ed-d601-4164-9af1-e1c2dbc865d0",
   "metadata": {},
   "source": [
    "# conexion a amigocloud"
   ]
  },
  {
   "cell_type": "code",
   "execution_count": 55,
   "id": "f0d01517-62ff-4a1f-a49b-79646323127e",
   "metadata": {},
   "outputs": [],
   "source": [
    "from amigocloud import AmigoCloud"
   ]
  },
  {
   "cell_type": "code",
   "execution_count": 56,
   "id": "fea924a5-9048-42a8-b912-6604dc5b6539",
   "metadata": {},
   "outputs": [
    {
     "data": {
      "text/plain": [
       "<amigocloud.amigocloud.AmigoCloud at 0x1714e7b3888>"
      ]
     },
     "execution_count": 56,
     "metadata": {},
     "output_type": "execute_result"
    }
   ],
   "source": [
    "# CONECTAR A AMIGOCLOUD\n",
    "acceso = open('../../../api_key/api.key','r')\n",
    "api_token = acceso.readlines()[0]\n",
    "acceso.close()\n",
    "amigocloud = AmigoCloud(token=api_token)\n",
    "amigocloud"
   ]
  },
  {
   "cell_type": "code",
   "execution_count": 57,
   "id": "6ea99bee-0a6d-48a1-9833-6b8c2a62433a",
   "metadata": {},
   "outputs": [
    {
     "name": "stdout",
     "output_type": "stream",
     "text": [
      "12162\n",
      "15501\n",
      "40149\n",
      "4061\n",
      "41541\n",
      "4171\n",
      "41944\n",
      "41956\n",
      "41965\n",
      "42131\n",
      "465\n",
      "770\n",
      "end\n"
     ]
    }
   ],
   "source": [
    "for key in dic_urls:\n",
    "    query = {'query': 'update dataset_307560 set link_doc_1ra = \\'{link}\\' where cast(SPLIT_PART(canhero, \\' / \\', 1) as integer) = \\'{cod}\\''.format(link=dic_urls[key], cod=key)}\n",
    "    res = amigocloud.post('https://app.amigocloud.com/api/v1/projects/32672/sql', query)\n",
    "    print(key)\n",
    "print('end')"
   ]
  }
 ],
 "metadata": {
  "kernelspec": {
   "display_name": "Python 3 (ipykernel)",
   "language": "python",
   "name": "python3"
  },
  "language_info": {
   "codemirror_mode": {
    "name": "ipython",
    "version": 3
   },
   "file_extension": ".py",
   "mimetype": "text/x-python",
   "name": "python",
   "nbconvert_exporter": "python",
   "pygments_lexer": "ipython3",
   "version": "3.7.11"
  }
 },
 "nbformat": 4,
 "nbformat_minor": 5
}
