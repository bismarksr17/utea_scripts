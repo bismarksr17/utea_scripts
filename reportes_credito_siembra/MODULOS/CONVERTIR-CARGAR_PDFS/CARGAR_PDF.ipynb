{
 "cells": [
  {
   "cell_type": "markdown",
   "id": "18a80bc5",
   "metadata": {},
   "source": [
    "# INSTALAR LIBRERIAS"
   ]
  },
  {
   "cell_type": "code",
   "execution_count": 3,
   "id": "7e312719",
   "metadata": {},
   "outputs": [],
   "source": [
    "# !pip install docx2pdf\n",
    "#pip install ipywidgets"
   ]
  },
  {
   "cell_type": "markdown",
   "id": "7e934ca6",
   "metadata": {},
   "source": [
    "# IMPORTAR"
   ]
  },
  {
   "cell_type": "code",
   "execution_count": 1,
   "id": "508a28c7",
   "metadata": {},
   "outputs": [],
   "source": [
    "from docx2pdf import convert\n",
    "import os"
   ]
  },
  {
   "cell_type": "markdown",
   "id": "64ec4ba6",
   "metadata": {},
   "source": [
    "# CONSTRUIR LA RUTA DE LOS ARCHIVOS"
   ]
  },
  {
   "cell_type": "code",
   "execution_count": 2,
   "id": "1fc560f3",
   "metadata": {},
   "outputs": [
    {
     "name": "stdout",
     "output_type": "stream",
     "text": [
      "SE ENCONTRARON 21 INFORMES\n",
      "21 INFORMES\n"
     ]
    },
    {
     "data": {
      "text/plain": [
       "['D:\\\\PYTHON\\\\utea_scripts\\\\reportes_credito_siembra\\\\informes/11227_QUIROZ OLGUIN DENICE.docx',\n",
       " 'D:\\\\PYTHON\\\\utea_scripts\\\\reportes_credito_siembra\\\\informes/1218_BALCAZAR ALCANTARA JOSE LOLY.docx',\n",
       " 'D:\\\\PYTHON\\\\utea_scripts\\\\reportes_credito_siembra\\\\informes/18028_RIVERO GUTIERREZ FRANCISCO.docx',\n",
       " 'D:\\\\PYTHON\\\\utea_scripts\\\\reportes_credito_siembra\\\\informes/2565_CANDIA RUIZ JOSE LUIS.docx',\n",
       " 'D:\\\\PYTHON\\\\utea_scripts\\\\reportes_credito_siembra\\\\informes/40144_RIVERO AGUAYO FRANCISCO .docx',\n",
       " 'D:\\\\PYTHON\\\\utea_scripts\\\\reportes_credito_siembra\\\\informes/40256_INSERVA DAMIANA S.R.L..docx',\n",
       " 'D:\\\\PYTHON\\\\utea_scripts\\\\reportes_credito_siembra\\\\informes/41544_AMURRIO TAPIA JOSE LUIS.docx',\n",
       " 'D:\\\\PYTHON\\\\utea_scripts\\\\reportes_credito_siembra\\\\informes/41546_CASANOVA BASTOS PEDRO RAMIRO.docx',\n",
       " 'D:\\\\PYTHON\\\\utea_scripts\\\\reportes_credito_siembra\\\\informes/41554_LEDEZMA SALAZAR RICHARD JIMMY.docx',\n",
       " 'D:\\\\PYTHON\\\\utea_scripts\\\\reportes_credito_siembra\\\\informes/41821_AGROMETALDIBRI S.R.L..docx',\n",
       " 'D:\\\\PYTHON\\\\utea_scripts\\\\reportes_credito_siembra\\\\informes/41823_VARGAS MAMANI JOSUE.docx',\n",
       " 'D:\\\\PYTHON\\\\utea_scripts\\\\reportes_credito_siembra\\\\informes/42025_TRUJILLO CONDORI JAIME .docx',\n",
       " 'D:\\\\PYTHON\\\\utea_scripts\\\\reportes_credito_siembra\\\\informes/42164_GUTIERREZ ROJAS ALEXANDER.docx',\n",
       " 'D:\\\\PYTHON\\\\utea_scripts\\\\reportes_credito_siembra\\\\informes/446_AGUILERA ANEZ JHONNY.docx',\n",
       " 'D:\\\\PYTHON\\\\utea_scripts\\\\reportes_credito_siembra\\\\informes/5345_HUANCA SUAREZ EDGAR .docx',\n",
       " 'D:\\\\PYTHON\\\\utea_scripts\\\\reportes_credito_siembra\\\\informes/5385_HUANCA CANO MARIA .docx',\n",
       " 'D:\\\\PYTHON\\\\utea_scripts\\\\reportes_credito_siembra\\\\informes/7494_LINARES S. AIDEE.docx',\n",
       " 'D:\\\\PYTHON\\\\utea_scripts\\\\reportes_credito_siembra\\\\informes/765_AGROP. CATALA S.R.L..docx',\n",
       " 'D:\\\\PYTHON\\\\utea_scripts\\\\reportes_credito_siembra\\\\informes/8028_ZABALA GARRIDO MARCELO.docx',\n",
       " 'D:\\\\PYTHON\\\\utea_scripts\\\\reportes_credito_siembra\\\\informes/8140_MASAI CHAVEZ SIRLE YOBANA .docx',\n",
       " 'D:\\\\PYTHON\\\\utea_scripts\\\\reportes_credito_siembra\\\\informes/9722_OLGUIN FLORES MIGUELINA .docx']"
      ]
     },
     "execution_count": 2,
     "metadata": {},
     "output_type": "execute_result"
    }
   ],
   "source": [
    "# colocar aqui la ruta de los archivos\n",
    "ruta = r'D:\\PYTHON\\utea_scripts\\reportes_credito_siembra\\informes'\n",
    "contenido = os.listdir(ruta)\n",
    "rutas =[]\n",
    "i = 0\n",
    "for name in contenido:\n",
    "    rutas.append(ruta + '/' + name)\n",
    "    i+=1\n",
    "\n",
    "print('SE ENCONTRARON ' + str(i) + ' INFORMES')\n",
    "print(len(rutas), 'INFORMES')\n",
    "rutas"
   ]
  },
  {
   "cell_type": "markdown",
   "id": "6b9af706",
   "metadata": {
    "tags": []
   },
   "source": [
    "# INICIA EL PROCESO DE CONVERCIÓN"
   ]
  },
  {
   "cell_type": "code",
   "execution_count": 3,
   "id": "cdbc481d-e9f8-4a85-946f-4c45abd61e87",
   "metadata": {},
   "outputs": [
    {
     "data": {
      "text/plain": [
       "'D:\\\\PYTHON\\\\utea_scripts\\\\reportes_credito_siembra\\\\pdf/1218_BALCAZAR ALCANTARA JOSE LOLY.pdf'"
      ]
     },
     "execution_count": 3,
     "metadata": {},
     "output_type": "execute_result"
    }
   ],
   "source": [
    "rutas[1].replace('.docx','.pdf').replace('informes','pdf')"
   ]
  },
  {
   "cell_type": "code",
   "execution_count": 5,
   "id": "0f018b1e",
   "metadata": {
    "tags": []
   },
   "outputs": [
    {
     "name": "stdout",
     "output_type": "stream",
     "text": [
      "CONVIRTIENDO... INFORME 1 D:\\PYTHON\\utea_scripts\\reportes_credito_siembra\\informes/11227_QUIROZ OLGUIN DENICE.docx\n",
      "D:\\PYTHON\\utea_scripts\\reportes_credito_siembra\\informes/11227_QUIROZ OLGUIN DENICE.docx\n",
      "D:\\PYTHON\\utea_scripts\\reportes_credito_siembra\\pdfs/11227_QUIROZ OLGUIN DENICE.pdf\n"
     ]
    },
    {
     "data": {
      "application/vnd.jupyter.widget-view+json": {
       "model_id": "ccad8523c1b94623a745875ce247d29b",
       "version_major": 2,
       "version_minor": 0
      },
      "text/plain": [
       "  0%|          | 0/1 [00:00<?, ?it/s]"
      ]
     },
     "metadata": {},
     "output_type": "display_data"
    },
    {
     "name": "stdout",
     "output_type": "stream",
     "text": [
      "CONVIRTIENDO... INFORME 2 D:\\PYTHON\\utea_scripts\\reportes_credito_siembra\\informes/1218_BALCAZAR ALCANTARA JOSE LOLY.docx\n",
      "D:\\PYTHON\\utea_scripts\\reportes_credito_siembra\\informes/1218_BALCAZAR ALCANTARA JOSE LOLY.docx\n",
      "D:\\PYTHON\\utea_scripts\\reportes_credito_siembra\\pdfs/1218_BALCAZAR ALCANTARA JOSE LOLY.pdf\n"
     ]
    },
    {
     "data": {
      "application/vnd.jupyter.widget-view+json": {
       "model_id": "0c62c8f5f10147a4ab8cfe7382cd464e",
       "version_major": 2,
       "version_minor": 0
      },
      "text/plain": [
       "  0%|          | 0/1 [00:00<?, ?it/s]"
      ]
     },
     "metadata": {},
     "output_type": "display_data"
    },
    {
     "name": "stdout",
     "output_type": "stream",
     "text": [
      "CONVIRTIENDO... INFORME 3 D:\\PYTHON\\utea_scripts\\reportes_credito_siembra\\informes/18028_RIVERO GUTIERREZ FRANCISCO.docx\n",
      "D:\\PYTHON\\utea_scripts\\reportes_credito_siembra\\informes/18028_RIVERO GUTIERREZ FRANCISCO.docx\n",
      "D:\\PYTHON\\utea_scripts\\reportes_credito_siembra\\pdfs/18028_RIVERO GUTIERREZ FRANCISCO.pdf\n"
     ]
    },
    {
     "data": {
      "application/vnd.jupyter.widget-view+json": {
       "model_id": "9abb352018da4e278faf7a18171135ad",
       "version_major": 2,
       "version_minor": 0
      },
      "text/plain": [
       "  0%|          | 0/1 [00:00<?, ?it/s]"
      ]
     },
     "metadata": {},
     "output_type": "display_data"
    },
    {
     "name": "stdout",
     "output_type": "stream",
     "text": [
      "CONVIRTIENDO... INFORME 4 D:\\PYTHON\\utea_scripts\\reportes_credito_siembra\\informes/2565_CANDIA RUIZ JOSE LUIS.docx\n",
      "D:\\PYTHON\\utea_scripts\\reportes_credito_siembra\\informes/2565_CANDIA RUIZ JOSE LUIS.docx\n",
      "D:\\PYTHON\\utea_scripts\\reportes_credito_siembra\\pdfs/2565_CANDIA RUIZ JOSE LUIS.pdf\n"
     ]
    },
    {
     "data": {
      "application/vnd.jupyter.widget-view+json": {
       "model_id": "6f747892aa9045e5adeb467fbb6913d5",
       "version_major": 2,
       "version_minor": 0
      },
      "text/plain": [
       "  0%|          | 0/1 [00:00<?, ?it/s]"
      ]
     },
     "metadata": {},
     "output_type": "display_data"
    },
    {
     "name": "stdout",
     "output_type": "stream",
     "text": [
      "CONVIRTIENDO... INFORME 5 D:\\PYTHON\\utea_scripts\\reportes_credito_siembra\\informes/40144_RIVERO AGUAYO FRANCISCO .docx\n",
      "D:\\PYTHON\\utea_scripts\\reportes_credito_siembra\\informes/40144_RIVERO AGUAYO FRANCISCO .docx\n",
      "D:\\PYTHON\\utea_scripts\\reportes_credito_siembra\\pdfs/40144_RIVERO AGUAYO FRANCISCO .pdf\n"
     ]
    },
    {
     "data": {
      "application/vnd.jupyter.widget-view+json": {
       "model_id": "8f1cf9550757467a9ff0645a0395a479",
       "version_major": 2,
       "version_minor": 0
      },
      "text/plain": [
       "  0%|          | 0/1 [00:00<?, ?it/s]"
      ]
     },
     "metadata": {},
     "output_type": "display_data"
    },
    {
     "name": "stdout",
     "output_type": "stream",
     "text": [
      "CONVIRTIENDO... INFORME 6 D:\\PYTHON\\utea_scripts\\reportes_credito_siembra\\informes/40256_INSERVA DAMIANA S.R.L..docx\n",
      "D:\\PYTHON\\utea_scripts\\reportes_credito_siembra\\informes/40256_INSERVA DAMIANA S.R.L..docx\n",
      "D:\\PYTHON\\utea_scripts\\reportes_credito_siembra\\pdfs/40256_INSERVA DAMIANA S.R.L..pdf\n"
     ]
    },
    {
     "data": {
      "application/vnd.jupyter.widget-view+json": {
       "model_id": "72dcc5012f6d4ce181dad04e5b834f51",
       "version_major": 2,
       "version_minor": 0
      },
      "text/plain": [
       "  0%|          | 0/1 [00:00<?, ?it/s]"
      ]
     },
     "metadata": {},
     "output_type": "display_data"
    },
    {
     "name": "stdout",
     "output_type": "stream",
     "text": [
      "CONVIRTIENDO... INFORME 7 D:\\PYTHON\\utea_scripts\\reportes_credito_siembra\\informes/41544_AMURRIO TAPIA JOSE LUIS.docx\n",
      "D:\\PYTHON\\utea_scripts\\reportes_credito_siembra\\informes/41544_AMURRIO TAPIA JOSE LUIS.docx\n",
      "D:\\PYTHON\\utea_scripts\\reportes_credito_siembra\\pdfs/41544_AMURRIO TAPIA JOSE LUIS.pdf\n"
     ]
    },
    {
     "data": {
      "application/vnd.jupyter.widget-view+json": {
       "model_id": "a359ded6b0144832a9e6b733b0d1b584",
       "version_major": 2,
       "version_minor": 0
      },
      "text/plain": [
       "  0%|          | 0/1 [00:00<?, ?it/s]"
      ]
     },
     "metadata": {},
     "output_type": "display_data"
    },
    {
     "name": "stdout",
     "output_type": "stream",
     "text": [
      "CONVIRTIENDO... INFORME 8 D:\\PYTHON\\utea_scripts\\reportes_credito_siembra\\informes/41546_CASANOVA BASTOS PEDRO RAMIRO.docx\n",
      "D:\\PYTHON\\utea_scripts\\reportes_credito_siembra\\informes/41546_CASANOVA BASTOS PEDRO RAMIRO.docx\n",
      "D:\\PYTHON\\utea_scripts\\reportes_credito_siembra\\pdfs/41546_CASANOVA BASTOS PEDRO RAMIRO.pdf\n"
     ]
    },
    {
     "data": {
      "application/vnd.jupyter.widget-view+json": {
       "model_id": "c2984e922126403c890ee0ad63f67260",
       "version_major": 2,
       "version_minor": 0
      },
      "text/plain": [
       "  0%|          | 0/1 [00:00<?, ?it/s]"
      ]
     },
     "metadata": {},
     "output_type": "display_data"
    },
    {
     "name": "stdout",
     "output_type": "stream",
     "text": [
      "CONVIRTIENDO... INFORME 9 D:\\PYTHON\\utea_scripts\\reportes_credito_siembra\\informes/41554_LEDEZMA SALAZAR RICHARD JIMMY.docx\n",
      "D:\\PYTHON\\utea_scripts\\reportes_credito_siembra\\informes/41554_LEDEZMA SALAZAR RICHARD JIMMY.docx\n",
      "D:\\PYTHON\\utea_scripts\\reportes_credito_siembra\\pdfs/41554_LEDEZMA SALAZAR RICHARD JIMMY.pdf\n"
     ]
    },
    {
     "data": {
      "application/vnd.jupyter.widget-view+json": {
       "model_id": "d085af6abca440439166d0a87202e76e",
       "version_major": 2,
       "version_minor": 0
      },
      "text/plain": [
       "  0%|          | 0/1 [00:00<?, ?it/s]"
      ]
     },
     "metadata": {},
     "output_type": "display_data"
    },
    {
     "name": "stdout",
     "output_type": "stream",
     "text": [
      "CONVIRTIENDO... INFORME 10 D:\\PYTHON\\utea_scripts\\reportes_credito_siembra\\informes/41821_AGROMETALDIBRI S.R.L..docx\n",
      "D:\\PYTHON\\utea_scripts\\reportes_credito_siembra\\informes/41821_AGROMETALDIBRI S.R.L..docx\n",
      "D:\\PYTHON\\utea_scripts\\reportes_credito_siembra\\pdfs/41821_AGROMETALDIBRI S.R.L..pdf\n"
     ]
    },
    {
     "data": {
      "application/vnd.jupyter.widget-view+json": {
       "model_id": "694fd354d2934e74aa39884aaf9c7c7b",
       "version_major": 2,
       "version_minor": 0
      },
      "text/plain": [
       "  0%|          | 0/1 [00:00<?, ?it/s]"
      ]
     },
     "metadata": {},
     "output_type": "display_data"
    },
    {
     "name": "stdout",
     "output_type": "stream",
     "text": [
      "CONVIRTIENDO... INFORME 11 D:\\PYTHON\\utea_scripts\\reportes_credito_siembra\\informes/41823_VARGAS MAMANI JOSUE.docx\n",
      "D:\\PYTHON\\utea_scripts\\reportes_credito_siembra\\informes/41823_VARGAS MAMANI JOSUE.docx\n",
      "D:\\PYTHON\\utea_scripts\\reportes_credito_siembra\\pdfs/41823_VARGAS MAMANI JOSUE.pdf\n"
     ]
    },
    {
     "data": {
      "application/vnd.jupyter.widget-view+json": {
       "model_id": "e76d157d12a0444cbabfabfd5294fd77",
       "version_major": 2,
       "version_minor": 0
      },
      "text/plain": [
       "  0%|          | 0/1 [00:00<?, ?it/s]"
      ]
     },
     "metadata": {},
     "output_type": "display_data"
    },
    {
     "name": "stdout",
     "output_type": "stream",
     "text": [
      "CONVIRTIENDO... INFORME 12 D:\\PYTHON\\utea_scripts\\reportes_credito_siembra\\informes/42025_TRUJILLO CONDORI JAIME .docx\n",
      "D:\\PYTHON\\utea_scripts\\reportes_credito_siembra\\informes/42025_TRUJILLO CONDORI JAIME .docx\n",
      "D:\\PYTHON\\utea_scripts\\reportes_credito_siembra\\pdfs/42025_TRUJILLO CONDORI JAIME .pdf\n"
     ]
    },
    {
     "data": {
      "application/vnd.jupyter.widget-view+json": {
       "model_id": "1c5bef8c7fed4f69a766f0549b0f3bd1",
       "version_major": 2,
       "version_minor": 0
      },
      "text/plain": [
       "  0%|          | 0/1 [00:00<?, ?it/s]"
      ]
     },
     "metadata": {},
     "output_type": "display_data"
    },
    {
     "name": "stdout",
     "output_type": "stream",
     "text": [
      "CONVIRTIENDO... INFORME 13 D:\\PYTHON\\utea_scripts\\reportes_credito_siembra\\informes/42164_GUTIERREZ ROJAS ALEXANDER.docx\n",
      "D:\\PYTHON\\utea_scripts\\reportes_credito_siembra\\informes/42164_GUTIERREZ ROJAS ALEXANDER.docx\n",
      "D:\\PYTHON\\utea_scripts\\reportes_credito_siembra\\pdfs/42164_GUTIERREZ ROJAS ALEXANDER.pdf\n"
     ]
    },
    {
     "data": {
      "application/vnd.jupyter.widget-view+json": {
       "model_id": "1d0697339ac542f48d751c769ae9080d",
       "version_major": 2,
       "version_minor": 0
      },
      "text/plain": [
       "  0%|          | 0/1 [00:00<?, ?it/s]"
      ]
     },
     "metadata": {},
     "output_type": "display_data"
    },
    {
     "name": "stdout",
     "output_type": "stream",
     "text": [
      "CONVIRTIENDO... INFORME 14 D:\\PYTHON\\utea_scripts\\reportes_credito_siembra\\informes/446_AGUILERA ANEZ JHONNY.docx\n",
      "D:\\PYTHON\\utea_scripts\\reportes_credito_siembra\\informes/446_AGUILERA ANEZ JHONNY.docx\n",
      "D:\\PYTHON\\utea_scripts\\reportes_credito_siembra\\pdfs/446_AGUILERA ANEZ JHONNY.pdf\n"
     ]
    },
    {
     "data": {
      "application/vnd.jupyter.widget-view+json": {
       "model_id": "e3bd84c5e99c45ed93dc042402a670a1",
       "version_major": 2,
       "version_minor": 0
      },
      "text/plain": [
       "  0%|          | 0/1 [00:00<?, ?it/s]"
      ]
     },
     "metadata": {},
     "output_type": "display_data"
    },
    {
     "name": "stdout",
     "output_type": "stream",
     "text": [
      "CONVIRTIENDO... INFORME 15 D:\\PYTHON\\utea_scripts\\reportes_credito_siembra\\informes/5345_HUANCA SUAREZ EDGAR .docx\n",
      "D:\\PYTHON\\utea_scripts\\reportes_credito_siembra\\informes/5345_HUANCA SUAREZ EDGAR .docx\n",
      "D:\\PYTHON\\utea_scripts\\reportes_credito_siembra\\pdfs/5345_HUANCA SUAREZ EDGAR .pdf\n"
     ]
    },
    {
     "data": {
      "application/vnd.jupyter.widget-view+json": {
       "model_id": "0509bbf500f94354a944cd138141ed83",
       "version_major": 2,
       "version_minor": 0
      },
      "text/plain": [
       "  0%|          | 0/1 [00:00<?, ?it/s]"
      ]
     },
     "metadata": {},
     "output_type": "display_data"
    },
    {
     "name": "stdout",
     "output_type": "stream",
     "text": [
      "CONVIRTIENDO... INFORME 16 D:\\PYTHON\\utea_scripts\\reportes_credito_siembra\\informes/5385_HUANCA CANO MARIA .docx\n",
      "D:\\PYTHON\\utea_scripts\\reportes_credito_siembra\\informes/5385_HUANCA CANO MARIA .docx\n",
      "D:\\PYTHON\\utea_scripts\\reportes_credito_siembra\\pdfs/5385_HUANCA CANO MARIA .pdf\n"
     ]
    },
    {
     "data": {
      "application/vnd.jupyter.widget-view+json": {
       "model_id": "61e425769d3a43439fa6a9dbe5358f6b",
       "version_major": 2,
       "version_minor": 0
      },
      "text/plain": [
       "  0%|          | 0/1 [00:00<?, ?it/s]"
      ]
     },
     "metadata": {},
     "output_type": "display_data"
    },
    {
     "name": "stdout",
     "output_type": "stream",
     "text": [
      "CONVIRTIENDO... INFORME 17 D:\\PYTHON\\utea_scripts\\reportes_credito_siembra\\informes/7494_LINARES S. AIDEE.docx\n",
      "D:\\PYTHON\\utea_scripts\\reportes_credito_siembra\\informes/7494_LINARES S. AIDEE.docx\n",
      "D:\\PYTHON\\utea_scripts\\reportes_credito_siembra\\pdfs/7494_LINARES S. AIDEE.pdf\n"
     ]
    },
    {
     "data": {
      "application/vnd.jupyter.widget-view+json": {
       "model_id": "e6bb17d3e4d84f0dbef3f480efbd3405",
       "version_major": 2,
       "version_minor": 0
      },
      "text/plain": [
       "  0%|          | 0/1 [00:00<?, ?it/s]"
      ]
     },
     "metadata": {},
     "output_type": "display_data"
    },
    {
     "name": "stdout",
     "output_type": "stream",
     "text": [
      "CONVIRTIENDO... INFORME 18 D:\\PYTHON\\utea_scripts\\reportes_credito_siembra\\informes/765_AGROP. CATALA S.R.L..docx\n",
      "D:\\PYTHON\\utea_scripts\\reportes_credito_siembra\\informes/765_AGROP. CATALA S.R.L..docx\n",
      "D:\\PYTHON\\utea_scripts\\reportes_credito_siembra\\pdfs/765_AGROP. CATALA S.R.L..pdf\n"
     ]
    },
    {
     "data": {
      "application/vnd.jupyter.widget-view+json": {
       "model_id": "8a19c14555ea4946bef37f7f612a95a0",
       "version_major": 2,
       "version_minor": 0
      },
      "text/plain": [
       "  0%|          | 0/1 [00:00<?, ?it/s]"
      ]
     },
     "metadata": {},
     "output_type": "display_data"
    },
    {
     "name": "stdout",
     "output_type": "stream",
     "text": [
      "CONVIRTIENDO... INFORME 19 D:\\PYTHON\\utea_scripts\\reportes_credito_siembra\\informes/8028_ZABALA GARRIDO MARCELO.docx\n",
      "D:\\PYTHON\\utea_scripts\\reportes_credito_siembra\\informes/8028_ZABALA GARRIDO MARCELO.docx\n",
      "D:\\PYTHON\\utea_scripts\\reportes_credito_siembra\\pdfs/8028_ZABALA GARRIDO MARCELO.pdf\n"
     ]
    },
    {
     "data": {
      "application/vnd.jupyter.widget-view+json": {
       "model_id": "0fdc375c3d9143de8c303f8f9c29a798",
       "version_major": 2,
       "version_minor": 0
      },
      "text/plain": [
       "  0%|          | 0/1 [00:00<?, ?it/s]"
      ]
     },
     "metadata": {},
     "output_type": "display_data"
    },
    {
     "name": "stdout",
     "output_type": "stream",
     "text": [
      "CONVIRTIENDO... INFORME 20 D:\\PYTHON\\utea_scripts\\reportes_credito_siembra\\informes/8140_MASAI CHAVEZ SIRLE YOBANA .docx\n",
      "D:\\PYTHON\\utea_scripts\\reportes_credito_siembra\\informes/8140_MASAI CHAVEZ SIRLE YOBANA .docx\n",
      "D:\\PYTHON\\utea_scripts\\reportes_credito_siembra\\pdfs/8140_MASAI CHAVEZ SIRLE YOBANA .pdf\n"
     ]
    },
    {
     "data": {
      "application/vnd.jupyter.widget-view+json": {
       "model_id": "c21dbc9f96524108b5ee1fc71ccf09d1",
       "version_major": 2,
       "version_minor": 0
      },
      "text/plain": [
       "  0%|          | 0/1 [00:00<?, ?it/s]"
      ]
     },
     "metadata": {},
     "output_type": "display_data"
    },
    {
     "name": "stdout",
     "output_type": "stream",
     "text": [
      "CONVIRTIENDO... INFORME 21 D:\\PYTHON\\utea_scripts\\reportes_credito_siembra\\informes/9722_OLGUIN FLORES MIGUELINA .docx\n",
      "D:\\PYTHON\\utea_scripts\\reportes_credito_siembra\\informes/9722_OLGUIN FLORES MIGUELINA .docx\n",
      "D:\\PYTHON\\utea_scripts\\reportes_credito_siembra\\pdfs/9722_OLGUIN FLORES MIGUELINA .pdf\n"
     ]
    },
    {
     "data": {
      "application/vnd.jupyter.widget-view+json": {
       "model_id": "267c1dd2af404ce2b06ad713edc80011",
       "version_major": 2,
       "version_minor": 0
      },
      "text/plain": [
       "  0%|          | 0/1 [00:00<?, ?it/s]"
      ]
     },
     "metadata": {},
     "output_type": "display_data"
    },
    {
     "name": "stdout",
     "output_type": "stream",
     "text": [
      "END\n"
     ]
    }
   ],
   "source": [
    "i = 1\n",
    "for filename in rutas:\n",
    "    print('CONVIRTIENDO... INFORME ' + str(i) + ' ' + filename)\n",
    "    # se realiza la convrsion pasando parametro de salida y entrada, \n",
    "    # para la salida se reemplaza la extencion y la ruta\n",
    "    print(filename)\n",
    "    print(filename.replace('.docx','.pdf').replace('informes','pdfs'))\n",
    "    convert(filename, filename.replace('.docx','.pdf').replace('informes','pdfs'))\n",
    "    i+=1\n",
    "print('END')"
   ]
  },
  {
   "cell_type": "markdown",
   "id": "455ef654-fe35-492c-8f69-3dc00102b0bb",
   "metadata": {},
   "source": [
    "# Leer archivos"
   ]
  },
  {
   "cell_type": "code",
   "execution_count": 9,
   "id": "df0f066e-d897-4ca6-a8cd-23b40ad41307",
   "metadata": {},
   "outputs": [
    {
     "name": "stdout",
     "output_type": "stream",
     "text": [
      "Your browser has been opened to visit:\n",
      "\n",
      "    https://accounts.google.com/o/oauth2/auth?client_id=1096764895697-57btfmtn7rdejufct5qq4j9mi61j0unl.apps.googleusercontent.com&redirect_uri=http%3A%2F%2Flocalhost%3A8080%2F&scope=https%3A%2F%2Fwww.googleapis.com%2Fauth%2Fdrive&access_type=offline&response_type=code\n",
      "\n",
      "Authentication successful.\n"
     ]
    }
   ],
   "source": [
    "# CONEXION A GOOGLE DRIVE\n",
    "from pydrive.auth import GoogleAuth\n",
    "from pydrive.drive import GoogleDrive\n",
    "gauth = GoogleAuth()\n",
    "gauth.LocalWebserverAuth() # client_secrets.json need to be in the same directory as the script\n",
    "drive = GoogleDrive(gauth)"
   ]
  },
  {
   "cell_type": "code",
   "execution_count": 10,
   "id": "5bc6184d-91a1-42a1-a809-84014f898d43",
   "metadata": {},
   "outputs": [
    {
     "name": "stdout",
     "output_type": "stream",
     "text": [
      "21 informes\n"
     ]
    },
    {
     "data": {
      "text/plain": [
       "{11227: '11227_QUIROZ OLGUIN DENICE.pdf',\n",
       " 1218: '1218_BALCAZAR ALCANTARA JOSE LOLY.pdf',\n",
       " 18028: '18028_RIVERO GUTIERREZ FRANCISCO.pdf',\n",
       " 2565: '2565_CANDIA RUIZ JOSE LUIS.pdf',\n",
       " 40144: '40144_RIVERO AGUAYO FRANCISCO .pdf',\n",
       " 40256: '40256_INSERVA DAMIANA S.R.L..pdf',\n",
       " 41544: '41544_AMURRIO TAPIA JOSE LUIS.pdf',\n",
       " 41546: '41546_CASANOVA BASTOS PEDRO RAMIRO.pdf',\n",
       " 41554: '41554_LEDEZMA SALAZAR RICHARD JIMMY.pdf',\n",
       " 41821: '41821_AGROMETALDIBRI S.R.L..pdf',\n",
       " 41823: '41823_VARGAS MAMANI JOSUE.pdf',\n",
       " 42025: '42025_TRUJILLO CONDORI JAIME .pdf',\n",
       " 42164: '42164_GUTIERREZ ROJAS ALEXANDER.pdf',\n",
       " 446: '446_AGUILERA ANEZ JHONNY.pdf',\n",
       " 5345: '5345_HUANCA SUAREZ EDGAR .pdf',\n",
       " 5385: '5385_HUANCA CANO MARIA .pdf',\n",
       " 7494: '7494_LINARES S. AIDEE.pdf',\n",
       " 765: '765_AGROP. CATALA S.R.L..pdf',\n",
       " 8028: '8028_ZABALA GARRIDO MARCELO.pdf',\n",
       " 8140: '8140_MASAI CHAVEZ SIRLE YOBANA .pdf',\n",
       " 9722: '9722_OLGUIN FLORES MIGUELINA .pdf'}"
      ]
     },
     "execution_count": 10,
     "metadata": {},
     "output_type": "execute_result"
    }
   ],
   "source": [
    "contenido = os.listdir(r'D:\\PYTHON\\utea_scripts\\reportes_credito_siembra\\pdfs')\n",
    "dic_files = {}\n",
    "for file in contenido:\n",
    "    split = file.split('_')\n",
    "    dic_files[int(split[0])] = file\n",
    "print(len(dic_files), 'informes')\n",
    "dic_files"
   ]
  },
  {
   "cell_type": "markdown",
   "id": "68778c6d-31c1-4f6f-880c-5d3f2d04ed17",
   "metadata": {},
   "source": [
    "# CARGAR LOS PDFS A GOOGLE DRIVE"
   ]
  },
  {
   "cell_type": "code",
   "execution_count": 11,
   "id": "aaf8d01b-5324-4b14-a67d-a6162850efa2",
   "metadata": {},
   "outputs": [
    {
     "name": "stdout",
     "output_type": "stream",
     "text": [
      "Created file 11227_QUIROZ OLGUIN DENICE.pdf with mimeType application/pdf\n",
      "Created file 1218_BALCAZAR ALCANTARA JOSE LOLY.pdf with mimeType application/pdf\n",
      "Created file 18028_RIVERO GUTIERREZ FRANCISCO.pdf with mimeType application/pdf\n",
      "Created file 2565_CANDIA RUIZ JOSE LUIS.pdf with mimeType application/pdf\n",
      "Created file 40144_RIVERO AGUAYO FRANCISCO .pdf with mimeType application/pdf\n",
      "Created file 40256_INSERVA DAMIANA S.R.L..pdf with mimeType application/pdf\n",
      "Created file 41544_AMURRIO TAPIA JOSE LUIS.pdf with mimeType application/pdf\n",
      "Created file 41546_CASANOVA BASTOS PEDRO RAMIRO.pdf with mimeType application/pdf\n",
      "Created file 41554_LEDEZMA SALAZAR RICHARD JIMMY.pdf with mimeType application/pdf\n",
      "Created file 41821_AGROMETALDIBRI S.R.L..pdf with mimeType application/pdf\n",
      "Created file 41823_VARGAS MAMANI JOSUE.pdf with mimeType application/pdf\n",
      "Created file 42025_TRUJILLO CONDORI JAIME .pdf with mimeType application/pdf\n",
      "Created file 42164_GUTIERREZ ROJAS ALEXANDER.pdf with mimeType application/pdf\n",
      "Created file 446_AGUILERA ANEZ JHONNY.pdf with mimeType application/pdf\n",
      "Created file 5345_HUANCA SUAREZ EDGAR .pdf with mimeType application/pdf\n",
      "Created file 5385_HUANCA CANO MARIA .pdf with mimeType application/pdf\n",
      "Created file 7494_LINARES S. AIDEE.pdf with mimeType application/pdf\n",
      "Created file 765_AGROP. CATALA S.R.L..pdf with mimeType application/pdf\n",
      "Created file 8028_ZABALA GARRIDO MARCELO.pdf with mimeType application/pdf\n",
      "Created file 8140_MASAI CHAVEZ SIRLE YOBANA .pdf with mimeType application/pdf\n",
      "Created file 9722_OLGUIN FLORES MIGUELINA .pdf with mimeType application/pdf\n",
      "end\n"
     ]
    }
   ],
   "source": [
    "# CARGAR LOS PDFS A GOOGLE DRIVE\n",
    "dic_urls = {}\n",
    "# View all folders and file in your Google Drive\n",
    "fileList = drive.ListFile({'q': \"'root' in parents and trashed=false\"}).GetList()\n",
    "for file in fileList:\n",
    "  #print('Title: %s, ID: %s' % (file['title'], file['id']))\n",
    "  # Get the folder ID that you want\n",
    "  if(file['title'] == \"1RA_INSPECCION\"):\n",
    "      fileID = file['id']\n",
    "\n",
    "for file in dic_files:\n",
    "    file1 = drive.CreateFile({\"mimeType\": \"application/pdf\", \"parents\": [{\"kind\": \"drive#fileLink\", \"id\": fileID}]})\n",
    "    file1['title'] = dic_files[file]\n",
    "    file1.SetContentFile(r'D:\\PYTHON\\utea_scripts\\reportes_credito_siembra\\pdfs//' + dic_files[file])\n",
    "    file1.Upload() # Upload the file.\n",
    "    print('Created file %s with mimeType %s' % (file1['title'], file1['mimeType']))\n",
    "    permission = file1.InsertPermission({\n",
    "                        'type': 'anyone',\n",
    "                        'value': 'anyone',\n",
    "                        'role': 'reader'})\n",
    "    dic_urls[file] = file1['alternateLink']\n",
    "dic_urls\n",
    "print('end')"
   ]
  },
  {
   "cell_type": "code",
   "execution_count": 12,
   "id": "6aceb417-cee6-413c-917f-f03bcba671b6",
   "metadata": {},
   "outputs": [
    {
     "name": "stdout",
     "output_type": "stream",
     "text": [
      "21 URLs\n"
     ]
    },
    {
     "data": {
      "text/plain": [
       "{11227: 'https://drive.google.com/file/d/1WbCzW8bCZb1wQK7BeNwR29gSqObT22Hu/view?usp=drivesdk',\n",
       " 1218: 'https://drive.google.com/file/d/1doQc2Ogq5UgPI1-cNjH7il5Qx4UB1PbK/view?usp=drivesdk',\n",
       " 18028: 'https://drive.google.com/file/d/1QK7odD9O8PUpxEEuqLUTwo2wvW1mkppH/view?usp=drivesdk',\n",
       " 2565: 'https://drive.google.com/file/d/13HKpJCRsMrzZJzeiLWEuHHiLLzTNjIH_/view?usp=drivesdk',\n",
       " 40144: 'https://drive.google.com/file/d/1cxcJnaNIiw26yJlc9JsMCpZBce5RzKUK/view?usp=drivesdk',\n",
       " 40256: 'https://drive.google.com/file/d/1jculeW1L9PC__BFu7sdrlH5b_dsFx1Iy/view?usp=drivesdk',\n",
       " 41544: 'https://drive.google.com/file/d/1pj6k_jhycv1V75LpDE9Ch7DSAj-Lt9QX/view?usp=drivesdk',\n",
       " 41546: 'https://drive.google.com/file/d/1-YXAQZnFeozlG3rPMyV_xegxIFnb-a78/view?usp=drivesdk',\n",
       " 41554: 'https://drive.google.com/file/d/1gCPmGN40L8xdXHdJjkhD0w50FUo8yy54/view?usp=drivesdk',\n",
       " 41821: 'https://drive.google.com/file/d/1I_mNGWHxrRNU15TFGZX4h4L1a9F1Xiq3/view?usp=drivesdk',\n",
       " 41823: 'https://drive.google.com/file/d/1pGV2m_73wp1yUoVPDe84319IJNl2bVOq/view?usp=drivesdk',\n",
       " 42025: 'https://drive.google.com/file/d/1fqIxsYs2vfwnQ3F486FdBd-uurZbLTXW/view?usp=drivesdk',\n",
       " 42164: 'https://drive.google.com/file/d/1JIBegJ8XlZ4GE4kIa4Il-uTkUzGBZi8A/view?usp=drivesdk',\n",
       " 446: 'https://drive.google.com/file/d/10t6NTNxU9qvfu5fl5wXxNoq9nMR0cl_Z/view?usp=drivesdk',\n",
       " 5345: 'https://drive.google.com/file/d/1xy5Vu5tM-f8BPeu04KtrF74TaYqUkIaU/view?usp=drivesdk',\n",
       " 5385: 'https://drive.google.com/file/d/1hRFENlhCmAUZINUDz6Z4TLI4jnkxvBfi/view?usp=drivesdk',\n",
       " 7494: 'https://drive.google.com/file/d/1w5nzjfp5hCJL9-WKFGcD2dSm94IJJ1Qb/view?usp=drivesdk',\n",
       " 765: 'https://drive.google.com/file/d/1TtFiClma7p38OaH_RfeFVfJo2rsO-mOV/view?usp=drivesdk',\n",
       " 8028: 'https://drive.google.com/file/d/1jwCAYPqE9-_aBy7lLuG4z_VQjUqOsBcs/view?usp=drivesdk',\n",
       " 8140: 'https://drive.google.com/file/d/1LZXKUNQTqi1EvWbzY0v1sSxqGYxYY4j3/view?usp=drivesdk',\n",
       " 9722: 'https://drive.google.com/file/d/1nzS78XK_TAsfUvOfaUL3dEDoseO9QD5l/view?usp=drivesdk'}"
      ]
     },
     "execution_count": 12,
     "metadata": {},
     "output_type": "execute_result"
    }
   ],
   "source": [
    "print(len(dic_urls), 'URLs')\n",
    "dic_urls"
   ]
  },
  {
   "cell_type": "markdown",
   "id": "6063c8ed-d601-4164-9af1-e1c2dbc865d0",
   "metadata": {},
   "source": [
    "# conexion a amigocloud"
   ]
  },
  {
   "cell_type": "code",
   "execution_count": 14,
   "id": "f0d01517-62ff-4a1f-a49b-79646323127e",
   "metadata": {},
   "outputs": [],
   "source": [
    "from amigocloud import AmigoCloud"
   ]
  },
  {
   "cell_type": "code",
   "execution_count": 15,
   "id": "fea924a5-9048-42a8-b912-6604dc5b6539",
   "metadata": {},
   "outputs": [
    {
     "name": "stderr",
     "output_type": "stream",
     "text": [
      "WARNING:socketIO-client:app.amigocloud.com:443/v2_socket.io/socket.io [connection error] recv disconnected by SSL ([SSL: SSLV3_ALERT_BAD_RECORD_MAC] sslv3 alert bad record mac (_ssl.c:2570))\n"
     ]
    },
    {
     "data": {
      "text/plain": [
       "<amigocloud.amigocloud.AmigoCloud at 0x22319270208>"
      ]
     },
     "execution_count": 15,
     "metadata": {},
     "output_type": "execute_result"
    }
   ],
   "source": [
    "# CONECTAR A AMIGOCLOUD\n",
    "acceso = open('../../../api_key/api.key','r')\n",
    "api_token = acceso.readlines()[0]\n",
    "acceso.close()\n",
    "amigocloud = AmigoCloud(token=api_token)\n",
    "amigocloud"
   ]
  },
  {
   "cell_type": "code",
   "execution_count": 16,
   "id": "6ea99bee-0a6d-48a1-9833-6b8c2a62433a",
   "metadata": {},
   "outputs": [
    {
     "name": "stdout",
     "output_type": "stream",
     "text": [
      "11227\n",
      "1218\n",
      "18028\n",
      "2565\n",
      "40144\n",
      "40256\n",
      "41544\n",
      "41546\n",
      "41554\n",
      "41821\n",
      "41823\n",
      "42025\n",
      "42164\n",
      "446\n",
      "5345\n",
      "5385\n",
      "7494\n",
      "765\n",
      "8028\n",
      "8140\n",
      "9722\n",
      "end\n"
     ]
    }
   ],
   "source": [
    "for key in dic_urls:\n",
    "    query = {'query': 'update dataset_307560 set link_doc_1ra = \\'{link}\\' where cast(SPLIT_PART(canhero, \\' / \\', 1) as integer) = \\'{cod}\\''.format(link=dic_urls[key], cod=key)}\n",
    "    res = amigocloud.post('https://app.amigocloud.com/api/v1/projects/32672/sql', query)\n",
    "    print(key)\n",
    "print('end')"
   ]
  }
 ],
 "metadata": {
  "kernelspec": {
   "display_name": "Python 3 (ipykernel)",
   "language": "python",
   "name": "python3"
  },
  "language_info": {
   "codemirror_mode": {
    "name": "ipython",
    "version": 3
   },
   "file_extension": ".py",
   "mimetype": "text/x-python",
   "name": "python",
   "nbconvert_exporter": "python",
   "pygments_lexer": "ipython3",
   "version": "3.7.11"
  }
 },
 "nbformat": 4,
 "nbformat_minor": 5
}
