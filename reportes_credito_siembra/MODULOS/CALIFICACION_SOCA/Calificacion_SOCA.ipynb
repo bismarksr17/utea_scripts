{
 "cells": [
  {
   "cell_type": "code",
   "execution_count": 5,
   "id": "c5956e2b",
   "metadata": {
    "scrolled": true
   },
   "outputs": [],
   "source": [
    "from amigocloud import AmigoCloud"
   ]
  },
  {
   "cell_type": "code",
   "execution_count": 8,
   "id": "66af17fd",
   "metadata": {},
   "outputs": [
    {
     "name": "stderr",
     "output_type": "stream",
     "text": [
      "WARNING:socketIO-client:app.amigocloud.com:443/v2_socket.io/socket.io [connection error] recv disconnected ([Errno 2] No such file or directory)\n"
     ]
    },
    {
     "data": {
      "text/plain": [
       "<amigocloud.amigocloud.AmigoCloud at 0x2e27aea6348>"
      ]
     },
     "execution_count": 8,
     "metadata": {},
     "output_type": "execute_result"
    }
   ],
   "source": [
    "amigocloud = AmigoCloud(token='')\n",
    "amigocloud"
   ]
  },
  {
   "cell_type": "code",
   "execution_count": 9,
   "id": "2e7be8d2",
   "metadata": {
    "scrolled": true
   },
   "outputs": [
    {
     "name": "stdout",
     "output_type": "stream",
     "text": [
      "{'query': \"update dataset_273487 resum set porcentaje = (select cast(count(case when post_emergente='true' then 1 end) as decimal)/cast(count(post_emergente) as decimal) from dataset_272975) where categoria = 'POST EMERGENTE'\", 'count': 1}\n"
     ]
    }
   ],
   "source": [
    "# ENTERA FRESCA\n",
    "query = {'query': 'update dataset_273487 resum set porcentaje = (select cast(count(case when entera_fresca=\\'true\\' then 1 end) as decimal)/cast(count(entera_fresca) as decimal) from dataset_272975) where categoria = \\'ENTERA FRESCA\\''}\n",
    "execut = amigocloud.post('https://app.amigocloud.com/api/v1/projects/30837/sql', query)\n",
    "\n",
    "# ENTERA QUEMADA\n",
    "query = {'query': 'update dataset_273487 resum set porcentaje = (select cast(count(case when entera_quemada=\\'true\\' then 1 end) as decimal)/cast(count(entera_quemada) as decimal) from dataset_272975) where categoria = \\'ENTERA QUEMADA\\''}\n",
    "execut = amigocloud.post('https://app.amigocloud.com/api/v1/projects/30837/sql', query)\n",
    "\n",
    "# PICADA FRESCA\n",
    "query = {'query': 'update dataset_273487 resum set porcentaje = (select cast(count(case when picada_fresca=\\'true\\' then 1 end) as decimal)/cast(count(picada_fresca) as decimal) from dataset_272975) where categoria = \\'PICADA FRESCA\\''}\n",
    "execut = amigocloud.post('https://app.amigocloud.com/api/v1/projects/30837/sql', query)\n",
    "\n",
    "# PICADA QUEMADA\n",
    "query = {'query': 'update dataset_273487 resum set porcentaje = (select cast(count(case when picada_quemada=\\'true\\' then 1 end) as decimal)/cast(count(picada_quemada) as decimal) from dataset_272975) where categoria = \\'PICADA QUEMADA\\''}\n",
    "execut = amigocloud.post('https://app.amigocloud.com/api/v1/projects/30837/sql', query)\n",
    "\n",
    "# QUEMA\n",
    "query = {'query': 'update dataset_273487 resum set porcentaje = (select cast(count(case when quema=\\'true\\' then 1 end) as decimal)/cast(count(quema) as decimal) from dataset_272975) where categoria = \\'QUEMA\\''}\n",
    "execut = amigocloud.post('https://app.amigocloud.com/api/v1/projects/30837/sql', query)\n",
    "\n",
    "# HILERADO\n",
    "query = {'query': 'update dataset_273487 resum set porcentaje = (select cast(count(case when hilerado=\\'true\\' then 1 end) as decimal)/cast(count(hilerado) as decimal) from dataset_272975) where categoria = \\'HILERADO\\''}\n",
    "execut = amigocloud.post('https://app.amigocloud.com/api/v1/projects/30837/sql', query)\n",
    "\n",
    "# PERMANENTE\n",
    "query = {'query': 'update dataset_273487 resum set porcentaje = (select cast(count(case when permanente=\\'true\\' then 1 end) as decimal)/cast(count(permanente) as decimal) from dataset_272975) where categoria = \\'PERMANENTE\\''}\n",
    "execut = amigocloud.post('https://app.amigocloud.com/api/v1/projects/30837/sql', query)\n",
    "\n",
    "# SUBSOLADO\n",
    "query = {'query': 'update dataset_273487 resum set porcentaje = (select cast(count(case when subsolado=\\'true\\' then 1 end) as decimal)/cast(count(subsolado) as decimal) from dataset_272975) where categoria = \\'SUBSOLADO\\''}\n",
    "execut = amigocloud.post('https://app.amigocloud.com/api/v1/projects/30837/sql', query)\n",
    "\n",
    "# CULTIVADO\n",
    "query = {'query': 'update dataset_273487 resum set porcentaje = (select cast(count(case when cultivado=\\'true\\' then 1 end) as decimal)/cast(count(cultivado) as decimal) from dataset_272975) where categoria = \\'CULTIVADO\\''}\n",
    "execut = amigocloud.post('https://app.amigocloud.com/api/v1/projects/30837/sql', query)\n",
    "\n",
    "# FERTILIZADO\n",
    "query = {'query': 'update dataset_273487 resum set porcentaje = (select cast(count(case when fertilizado=\\'true\\' then 1 end) as decimal)/cast(count(fertilizado) as decimal) from dataset_272975) where categoria = \\'FERTILIZADO\\''}\n",
    "execut = amigocloud.post('https://app.amigocloud.com/api/v1/projects/30837/sql', query)\n",
    "\n",
    "# PRE EMERGENTE\n",
    "query = {'query': 'update dataset_273487 resum set porcentaje = (select cast(count(case when pre_emergente=\\'true\\' then 1 end) as decimal)/cast(count(pre_emergente) as decimal) from dataset_272975) where categoria = \\'PRE EMERGENTE\\''}\n",
    "execut = amigocloud.post('https://app.amigocloud.com/api/v1/projects/30837/sql', query)\n",
    "\n",
    "# POST EMERGENTE\n",
    "query = {'query': 'update dataset_273487 resum set porcentaje = (select cast(count(case when post_emergente=\\'true\\' then 1 end) as decimal)/cast(count(post_emergente) as decimal) from dataset_272975) where categoria = \\'POST EMERGENTE\\''}\n",
    "execut = amigocloud.post('https://app.amigocloud.com/api/v1/projects/30837/sql', query)\n",
    "\n",
    "print(execut)"
   ]
  }
 ],
 "metadata": {
  "kernelspec": {
   "display_name": "Python 3 (ipykernel)",
   "language": "python",
   "name": "python3"
  },
  "language_info": {
   "codemirror_mode": {
    "name": "ipython",
    "version": 3
   },
   "file_extension": ".py",
   "mimetype": "text/x-python",
   "name": "python",
   "nbconvert_exporter": "python",
   "pygments_lexer": "ipython3",
   "version": "3.7.11"
  }
 },
 "nbformat": 4,
 "nbformat_minor": 5
}
