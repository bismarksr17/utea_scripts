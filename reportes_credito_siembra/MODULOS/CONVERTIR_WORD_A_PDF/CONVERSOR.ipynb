{
 "cells": [
  {
   "cell_type": "markdown",
   "id": "18a80bc5",
   "metadata": {},
   "source": [
    "# INSTALAR LIBRERIAS"
   ]
  },
  {
   "cell_type": "code",
   "execution_count": 3,
   "id": "7e312719",
   "metadata": {},
   "outputs": [],
   "source": [
    "# !pip install docx2pdf\n",
    "#pip install ipywidgets"
   ]
  },
  {
   "cell_type": "markdown",
   "id": "7e934ca6",
   "metadata": {},
   "source": [
    "# IMPORTAR"
   ]
  },
  {
   "cell_type": "code",
   "execution_count": 1,
   "id": "508a28c7",
   "metadata": {},
   "outputs": [],
   "source": [
    "from docx2pdf import convert\n",
    "import os"
   ]
  },
  {
   "cell_type": "markdown",
   "id": "64ec4ba6",
   "metadata": {},
   "source": [
    "# CONSTRUIR LA RUTA DE LOS ARCHIVOS"
   ]
  },
  {
   "cell_type": "code",
   "execution_count": 3,
   "id": "1fc560f3",
   "metadata": {},
   "outputs": [
    {
     "name": "stdout",
     "output_type": "stream",
     "text": [
      "SE ENCONTRARON 9 INFORMES\n",
      "9 INFORMES\n"
     ]
    },
    {
     "data": {
      "text/plain": [
       "['D:\\\\PYTHON\\\\utea_scripts\\\\reportes_credito_siembra\\\\informes/13132_ZUMARAN MENACHO JORGE.docx',\n",
       " 'D:\\\\PYTHON\\\\utea_scripts\\\\reportes_credito_siembra\\\\informes/18088_FRERKING ORTIZ RICARDO.docx',\n",
       " 'D:\\\\PYTHON\\\\utea_scripts\\\\reportes_credito_siembra\\\\informes/2816_DONOSO BLANCO ALBERTO.docx',\n",
       " 'D:\\\\PYTHON\\\\utea_scripts\\\\reportes_credito_siembra\\\\informes/42154_PIZARRO CABRERA ARMANDO CESAR.docx',\n",
       " 'D:\\\\PYTHON\\\\utea_scripts\\\\reportes_credito_siembra\\\\informes/42191_CALVI LEON MARIOLY.docx',\n",
       " 'D:\\\\PYTHON\\\\utea_scripts\\\\reportes_credito_siembra\\\\informes/515_AGUILERA OLGA RIVERO DE.docx',\n",
       " 'D:\\\\PYTHON\\\\utea_scripts\\\\reportes_credito_siembra\\\\informes/594_AGROPECUARIA FLAMBOYAN.docx',\n",
       " 'D:\\\\PYTHON\\\\utea_scripts\\\\reportes_credito_siembra\\\\informes/7506_LOHENER ROSENDA SHEILA PAZ DE.docx',\n",
       " 'D:\\\\PYTHON\\\\utea_scripts\\\\reportes_credito_siembra\\\\informes/86_AGUILERA TARADELLES JOSE LUIS.docx']"
      ]
     },
     "execution_count": 3,
     "metadata": {},
     "output_type": "execute_result"
    }
   ],
   "source": [
    "# colocar aqui la ruta de los archivos\n",
    "ruta = r'D:\\PYTHON\\utea_scripts\\reportes_credito_siembra\\informes'\n",
    "contenido = os.listdir(ruta)\n",
    "rutas =[]\n",
    "i = 0\n",
    "for name in contenido:\n",
    "    rutas.append(ruta + '/' + name)\n",
    "    i+=1\n",
    "\n",
    "print('SE ENCONTRARON ' + str(i) + ' INFORMES')\n",
    "print(len(rutas), 'INFORMES')\n",
    "rutas"
   ]
  },
  {
   "cell_type": "markdown",
   "id": "6b9af706",
   "metadata": {},
   "source": [
    "# INICIA EL PROCESO DE CONVERCIÓN"
   ]
  },
  {
   "cell_type": "code",
   "execution_count": 4,
   "id": "0f018b1e",
   "metadata": {
    "tags": []
   },
   "outputs": [
    {
     "name": "stdout",
     "output_type": "stream",
     "text": [
      "CONVIRTIENDO... INFORME 1 D:\\PYTHON\\utea_scripts\\reportes_credito_siembra\\informes/13132_ZUMARAN MENACHO JORGE.docx\n"
     ]
    },
    {
     "data": {
      "application/vnd.jupyter.widget-view+json": {
       "model_id": "29e170a86ff74d6982d04506332dd610",
       "version_major": 2,
       "version_minor": 0
      },
      "text/plain": [
       "  0%|          | 0/1 [00:00<?, ?it/s]"
      ]
     },
     "metadata": {},
     "output_type": "display_data"
    },
    {
     "name": "stdout",
     "output_type": "stream",
     "text": [
      "CONVIRTIENDO... INFORME 2 D:\\PYTHON\\utea_scripts\\reportes_credito_siembra\\informes/18088_FRERKING ORTIZ RICARDO.docx\n"
     ]
    },
    {
     "data": {
      "application/vnd.jupyter.widget-view+json": {
       "model_id": "41e148d2db404b50a4c3f1b1333bf914",
       "version_major": 2,
       "version_minor": 0
      },
      "text/plain": [
       "  0%|          | 0/1 [00:00<?, ?it/s]"
      ]
     },
     "metadata": {},
     "output_type": "display_data"
    },
    {
     "name": "stdout",
     "output_type": "stream",
     "text": [
      "CONVIRTIENDO... INFORME 3 D:\\PYTHON\\utea_scripts\\reportes_credito_siembra\\informes/2816_DONOSO BLANCO ALBERTO.docx\n"
     ]
    },
    {
     "data": {
      "application/vnd.jupyter.widget-view+json": {
       "model_id": "82782dfc5975466599ce2396a79906c0",
       "version_major": 2,
       "version_minor": 0
      },
      "text/plain": [
       "  0%|          | 0/1 [00:00<?, ?it/s]"
      ]
     },
     "metadata": {},
     "output_type": "display_data"
    },
    {
     "name": "stdout",
     "output_type": "stream",
     "text": [
      "CONVIRTIENDO... INFORME 4 D:\\PYTHON\\utea_scripts\\reportes_credito_siembra\\informes/42154_PIZARRO CABRERA ARMANDO CESAR.docx\n"
     ]
    },
    {
     "data": {
      "application/vnd.jupyter.widget-view+json": {
       "model_id": "0d228ecb8dfc4e048d376b2bd54a6b35",
       "version_major": 2,
       "version_minor": 0
      },
      "text/plain": [
       "  0%|          | 0/1 [00:00<?, ?it/s]"
      ]
     },
     "metadata": {},
     "output_type": "display_data"
    },
    {
     "name": "stdout",
     "output_type": "stream",
     "text": [
      "CONVIRTIENDO... INFORME 5 D:\\PYTHON\\utea_scripts\\reportes_credito_siembra\\informes/42191_CALVI LEON MARIOLY.docx\n"
     ]
    },
    {
     "data": {
      "application/vnd.jupyter.widget-view+json": {
       "model_id": "51469d8abd6a4c5cbb242b839728d512",
       "version_major": 2,
       "version_minor": 0
      },
      "text/plain": [
       "  0%|          | 0/1 [00:00<?, ?it/s]"
      ]
     },
     "metadata": {},
     "output_type": "display_data"
    },
    {
     "name": "stdout",
     "output_type": "stream",
     "text": [
      "CONVIRTIENDO... INFORME 6 D:\\PYTHON\\utea_scripts\\reportes_credito_siembra\\informes/515_AGUILERA OLGA RIVERO DE.docx\n"
     ]
    },
    {
     "data": {
      "application/vnd.jupyter.widget-view+json": {
       "model_id": "64d975a515d944758438bfb0df78f892",
       "version_major": 2,
       "version_minor": 0
      },
      "text/plain": [
       "  0%|          | 0/1 [00:00<?, ?it/s]"
      ]
     },
     "metadata": {},
     "output_type": "display_data"
    },
    {
     "name": "stdout",
     "output_type": "stream",
     "text": [
      "CONVIRTIENDO... INFORME 7 D:\\PYTHON\\utea_scripts\\reportes_credito_siembra\\informes/594_AGROPECUARIA FLAMBOYAN.docx\n"
     ]
    },
    {
     "data": {
      "application/vnd.jupyter.widget-view+json": {
       "model_id": "7e059aa1abd340e0b270fa5694a42f04",
       "version_major": 2,
       "version_minor": 0
      },
      "text/plain": [
       "  0%|          | 0/1 [00:00<?, ?it/s]"
      ]
     },
     "metadata": {},
     "output_type": "display_data"
    },
    {
     "name": "stdout",
     "output_type": "stream",
     "text": [
      "CONVIRTIENDO... INFORME 8 D:\\PYTHON\\utea_scripts\\reportes_credito_siembra\\informes/7506_LOHENER ROSENDA SHEILA PAZ DE.docx\n"
     ]
    },
    {
     "data": {
      "application/vnd.jupyter.widget-view+json": {
       "model_id": "366b821de1804e6f943e376cd81fb1a8",
       "version_major": 2,
       "version_minor": 0
      },
      "text/plain": [
       "  0%|          | 0/1 [00:00<?, ?it/s]"
      ]
     },
     "metadata": {},
     "output_type": "display_data"
    },
    {
     "name": "stdout",
     "output_type": "stream",
     "text": [
      "CONVIRTIENDO... INFORME 9 D:\\PYTHON\\utea_scripts\\reportes_credito_siembra\\informes/86_AGUILERA TARADELLES JOSE LUIS.docx\n"
     ]
    },
    {
     "data": {
      "application/vnd.jupyter.widget-view+json": {
       "model_id": "4ca53435251148a4b01d47941c241712",
       "version_major": 2,
       "version_minor": 0
      },
      "text/plain": [
       "  0%|          | 0/1 [00:00<?, ?it/s]"
      ]
     },
     "metadata": {},
     "output_type": "display_data"
    },
    {
     "name": "stdout",
     "output_type": "stream",
     "text": [
      "END\n"
     ]
    }
   ],
   "source": [
    "i = 1\n",
    "for filename in rutas:\n",
    "    print('CONVIRTIENDO... INFORME ' + str(i) + ' ' + filename)\n",
    "    convert(filename)\n",
    "    i+=1\n",
    "print('END')"
   ]
  }
 ],
 "metadata": {
  "kernelspec": {
   "display_name": "Python 3 (ipykernel)",
   "language": "python",
   "name": "python3"
  },
  "language_info": {
   "codemirror_mode": {
    "name": "ipython",
    "version": 3
   },
   "file_extension": ".py",
   "mimetype": "text/x-python",
   "name": "python",
   "nbconvert_exporter": "python",
   "pygments_lexer": "ipython3",
   "version": "3.7.11"
  }
 },
 "nbformat": 4,
 "nbformat_minor": 5
}
