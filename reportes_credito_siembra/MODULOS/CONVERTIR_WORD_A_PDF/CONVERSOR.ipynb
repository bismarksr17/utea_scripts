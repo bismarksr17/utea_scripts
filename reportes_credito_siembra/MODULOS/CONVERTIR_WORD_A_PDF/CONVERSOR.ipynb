{
 "cells": [
  {
   "cell_type": "markdown",
   "id": "18a80bc5",
   "metadata": {},
   "source": [
    "# INSTALAR LIBRERIAS"
   ]
  },
  {
   "cell_type": "code",
   "execution_count": 3,
   "id": "7e312719",
   "metadata": {},
   "outputs": [],
   "source": [
    "# !pip install docx2pdf\n",
    "#pip install ipywidgets"
   ]
  },
  {
   "cell_type": "markdown",
   "id": "7e934ca6",
   "metadata": {},
   "source": [
    "# IMPORTAR"
   ]
  },
  {
   "cell_type": "code",
   "execution_count": 1,
   "id": "508a28c7",
   "metadata": {},
   "outputs": [],
   "source": [
    "from docx2pdf import convert\n",
    "import os"
   ]
  },
  {
   "cell_type": "markdown",
   "id": "64ec4ba6",
   "metadata": {},
   "source": [
    "# CONSTRUIR LA RUTA DE LOS ARCHIVOS"
   ]
  },
  {
   "cell_type": "code",
   "execution_count": 2,
   "id": "1fc560f3",
   "metadata": {},
   "outputs": [
    {
     "name": "stdout",
     "output_type": "stream",
     "text": [
      "SE ENCONTRARON 10 INFORMES\n",
      "10 INFORMES\n"
     ]
    },
    {
     "data": {
      "text/plain": [
       "['D:\\\\PYTHON\\\\utea_scripts\\\\reportes_credito_siembra\\\\informes/12478_SERRATE COLAMARINO HUGO.docx',\n",
       " 'D:\\\\PYTHON\\\\utea_scripts\\\\reportes_credito_siembra\\\\informes/18027_AGUILERA TARRADELLES GUILLERMO.docx',\n",
       " 'D:\\\\PYTHON\\\\utea_scripts\\\\reportes_credito_siembra\\\\informes/2029_COLAMARINO DI SILVIO ANGELO.docx',\n",
       " 'D:\\\\PYTHON\\\\utea_scripts\\\\reportes_credito_siembra\\\\informes/2392_COLAMARINO SUAREZ DOMENICO A..docx',\n",
       " 'D:\\\\PYTHON\\\\utea_scripts\\\\reportes_credito_siembra\\\\informes/2408_CHOQUE CACERES FREDDY.docx',\n",
       " 'D:\\\\PYTHON\\\\utea_scripts\\\\reportes_credito_siembra\\\\informes/2662_DON SERAFIN SRL..docx',\n",
       " 'D:\\\\PYTHON\\\\utea_scripts\\\\reportes_credito_siembra\\\\informes/40139_ROCA SUAREZ MARIA ALEJANDRA.docx',\n",
       " 'D:\\\\PYTHON\\\\utea_scripts\\\\reportes_credito_siembra\\\\informes/41820_ASUBY S.R.L..docx',\n",
       " 'D:\\\\PYTHON\\\\utea_scripts\\\\reportes_credito_siembra\\\\informes/633_AGROP. VICENTE ROCA GIL SRL.docx',\n",
       " 'D:\\\\PYTHON\\\\utea_scripts\\\\reportes_credito_siembra\\\\informes/743_ARTEAGA CHAVEZ ROBERT E..docx']"
      ]
     },
     "execution_count": 2,
     "metadata": {},
     "output_type": "execute_result"
    }
   ],
   "source": [
    "# colocar aqui la ruta de los archivos\n",
    "ruta = r'D:\\PYTHON\\utea_scripts\\reportes_credito_siembra\\informes'\n",
    "contenido = os.listdir(ruta)\n",
    "rutas =[]\n",
    "i = 0\n",
    "for name in contenido:\n",
    "    rutas.append(ruta + '/' + name)\n",
    "    i+=1\n",
    "\n",
    "print('SE ENCONTRARON ' + str(i) + ' INFORMES')\n",
    "print(len(rutas), 'INFORMES')\n",
    "rutas"
   ]
  },
  {
   "cell_type": "markdown",
   "id": "6b9af706",
   "metadata": {},
   "source": [
    "# INICIA EL PROCESO DE CONVERCIÓN"
   ]
  },
  {
   "cell_type": "code",
   "execution_count": 3,
   "id": "0f018b1e",
   "metadata": {
    "tags": []
   },
   "outputs": [
    {
     "name": "stdout",
     "output_type": "stream",
     "text": [
      "CONVIRTIENDO... INFORME 1 D:\\PYTHON\\utea_scripts\\reportes_credito_siembra\\informes/12478_SERRATE COLAMARINO HUGO.docx\n"
     ]
    },
    {
     "data": {
      "application/vnd.jupyter.widget-view+json": {
       "model_id": "e5a6c427fb69409ea9e3032a968ec122",
       "version_major": 2,
       "version_minor": 0
      },
      "text/plain": [
       "  0%|          | 0/1 [00:00<?, ?it/s]"
      ]
     },
     "metadata": {},
     "output_type": "display_data"
    },
    {
     "name": "stdout",
     "output_type": "stream",
     "text": [
      "CONVIRTIENDO... INFORME 2 D:\\PYTHON\\utea_scripts\\reportes_credito_siembra\\informes/18027_AGUILERA TARRADELLES GUILLERMO.docx\n"
     ]
    },
    {
     "data": {
      "application/vnd.jupyter.widget-view+json": {
       "model_id": "5c9792b7b39f4037aeeb4e557ed89df1",
       "version_major": 2,
       "version_minor": 0
      },
      "text/plain": [
       "  0%|          | 0/1 [00:00<?, ?it/s]"
      ]
     },
     "metadata": {},
     "output_type": "display_data"
    },
    {
     "name": "stdout",
     "output_type": "stream",
     "text": [
      "CONVIRTIENDO... INFORME 3 D:\\PYTHON\\utea_scripts\\reportes_credito_siembra\\informes/2029_COLAMARINO DI SILVIO ANGELO.docx\n"
     ]
    },
    {
     "data": {
      "application/vnd.jupyter.widget-view+json": {
       "model_id": "49eb4fc8f7eb4be79130fe23a4e5f561",
       "version_major": 2,
       "version_minor": 0
      },
      "text/plain": [
       "  0%|          | 0/1 [00:00<?, ?it/s]"
      ]
     },
     "metadata": {},
     "output_type": "display_data"
    },
    {
     "name": "stdout",
     "output_type": "stream",
     "text": [
      "CONVIRTIENDO... INFORME 4 D:\\PYTHON\\utea_scripts\\reportes_credito_siembra\\informes/2392_COLAMARINO SUAREZ DOMENICO A..docx\n"
     ]
    },
    {
     "data": {
      "application/vnd.jupyter.widget-view+json": {
       "model_id": "bfcde48bd5694734a67f0fe6dd4b6efd",
       "version_major": 2,
       "version_minor": 0
      },
      "text/plain": [
       "  0%|          | 0/1 [00:00<?, ?it/s]"
      ]
     },
     "metadata": {},
     "output_type": "display_data"
    },
    {
     "name": "stdout",
     "output_type": "stream",
     "text": [
      "CONVIRTIENDO... INFORME 5 D:\\PYTHON\\utea_scripts\\reportes_credito_siembra\\informes/2408_CHOQUE CACERES FREDDY.docx\n"
     ]
    },
    {
     "data": {
      "application/vnd.jupyter.widget-view+json": {
       "model_id": "1061ff88831c4f06b16ad99e01483cae",
       "version_major": 2,
       "version_minor": 0
      },
      "text/plain": [
       "  0%|          | 0/1 [00:00<?, ?it/s]"
      ]
     },
     "metadata": {},
     "output_type": "display_data"
    },
    {
     "name": "stdout",
     "output_type": "stream",
     "text": [
      "CONVIRTIENDO... INFORME 6 D:\\PYTHON\\utea_scripts\\reportes_credito_siembra\\informes/2662_DON SERAFIN SRL..docx\n"
     ]
    },
    {
     "data": {
      "application/vnd.jupyter.widget-view+json": {
       "model_id": "e8669f33e3344d6caa343b6dd01a3bdc",
       "version_major": 2,
       "version_minor": 0
      },
      "text/plain": [
       "  0%|          | 0/1 [00:00<?, ?it/s]"
      ]
     },
     "metadata": {},
     "output_type": "display_data"
    },
    {
     "name": "stdout",
     "output_type": "stream",
     "text": [
      "CONVIRTIENDO... INFORME 7 D:\\PYTHON\\utea_scripts\\reportes_credito_siembra\\informes/40139_ROCA SUAREZ MARIA ALEJANDRA.docx\n"
     ]
    },
    {
     "data": {
      "application/vnd.jupyter.widget-view+json": {
       "model_id": "5c5304a6897845eaa22d315b4491fc36",
       "version_major": 2,
       "version_minor": 0
      },
      "text/plain": [
       "  0%|          | 0/1 [00:00<?, ?it/s]"
      ]
     },
     "metadata": {},
     "output_type": "display_data"
    },
    {
     "name": "stdout",
     "output_type": "stream",
     "text": [
      "CONVIRTIENDO... INFORME 8 D:\\PYTHON\\utea_scripts\\reportes_credito_siembra\\informes/41820_ASUBY S.R.L..docx\n"
     ]
    },
    {
     "data": {
      "application/vnd.jupyter.widget-view+json": {
       "model_id": "12fb88e2199c4b74b91088ff79680edf",
       "version_major": 2,
       "version_minor": 0
      },
      "text/plain": [
       "  0%|          | 0/1 [00:00<?, ?it/s]"
      ]
     },
     "metadata": {},
     "output_type": "display_data"
    },
    {
     "name": "stdout",
     "output_type": "stream",
     "text": [
      "CONVIRTIENDO... INFORME 9 D:\\PYTHON\\utea_scripts\\reportes_credito_siembra\\informes/633_AGROP. VICENTE ROCA GIL SRL.docx\n"
     ]
    },
    {
     "data": {
      "application/vnd.jupyter.widget-view+json": {
       "model_id": "ff602bd120ca4528b839138144d58f38",
       "version_major": 2,
       "version_minor": 0
      },
      "text/plain": [
       "  0%|          | 0/1 [00:00<?, ?it/s]"
      ]
     },
     "metadata": {},
     "output_type": "display_data"
    },
    {
     "name": "stdout",
     "output_type": "stream",
     "text": [
      "CONVIRTIENDO... INFORME 10 D:\\PYTHON\\utea_scripts\\reportes_credito_siembra\\informes/743_ARTEAGA CHAVEZ ROBERT E..docx\n"
     ]
    },
    {
     "data": {
      "application/vnd.jupyter.widget-view+json": {
       "model_id": "3de81feb9d0f4184ad95500353388eda",
       "version_major": 2,
       "version_minor": 0
      },
      "text/plain": [
       "  0%|          | 0/1 [00:00<?, ?it/s]"
      ]
     },
     "metadata": {},
     "output_type": "display_data"
    },
    {
     "name": "stdout",
     "output_type": "stream",
     "text": [
      "END\n"
     ]
    }
   ],
   "source": [
    "i = 1\n",
    "for filename in rutas:\n",
    "    print('CONVIRTIENDO... INFORME ' + str(i) + ' ' + filename)\n",
    "    convert(filename)\n",
    "    i+=1\n",
    "print('END')"
   ]
  }
 ],
 "metadata": {
  "kernelspec": {
   "display_name": "Python 3 (ipykernel)",
   "language": "python",
   "name": "python3"
  },
  "language_info": {
   "codemirror_mode": {
    "name": "ipython",
    "version": 3
   },
   "file_extension": ".py",
   "mimetype": "text/x-python",
   "name": "python",
   "nbconvert_exporter": "python",
   "pygments_lexer": "ipython3",
   "version": "3.7.11"
  }
 },
 "nbformat": 4,
 "nbformat_minor": 5
}
