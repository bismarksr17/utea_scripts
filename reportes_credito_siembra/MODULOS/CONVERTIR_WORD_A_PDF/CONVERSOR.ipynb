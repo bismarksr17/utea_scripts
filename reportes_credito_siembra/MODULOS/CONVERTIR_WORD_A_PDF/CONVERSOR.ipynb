{
 "cells": [
  {
   "cell_type": "markdown",
   "id": "18a80bc5",
   "metadata": {},
   "source": [
    "# INSTALAR LIBRERIAS"
   ]
  },
  {
   "cell_type": "code",
   "execution_count": 3,
   "id": "7e312719",
   "metadata": {},
   "outputs": [],
   "source": [
    "# !pip install docx2pdf\n",
    "#pip install ipywidgets"
   ]
  },
  {
   "cell_type": "markdown",
   "id": "7e934ca6",
   "metadata": {},
   "source": [
    "# IMPORTAR"
   ]
  },
  {
   "cell_type": "code",
   "execution_count": 9,
   "id": "508a28c7",
   "metadata": {},
   "outputs": [],
   "source": [
    "from docx2pdf import convert\n",
    "import os"
   ]
  },
  {
   "cell_type": "markdown",
   "id": "64ec4ba6",
   "metadata": {},
   "source": [
    "# CONSTRUIR LA RUTA DE LOS ARCHIVOS"
   ]
  },
  {
   "cell_type": "code",
   "execution_count": 10,
   "id": "1fc560f3",
   "metadata": {},
   "outputs": [
    {
     "name": "stdout",
     "output_type": "stream",
     "text": [
      "SE ENCONTRARON 5 INFORMES\n",
      "5 INFORMES\n"
     ]
    },
    {
     "data": {
      "text/plain": [
       "['C:/Users/UTEA/Desktop/PYTHON/utea_scripts/reportes_credito_siembra/informes/75_EVC_28-09-2022_AGUILERA TARADELLES MARIANO_135.docx',\n",
       " 'C:/Users/UTEA/Desktop/PYTHON/utea_scripts/reportes_credito_siembra/informes/75_EVC_28-09-2022_AGUILERA TARADELLES MARIANO_136.docx',\n",
       " 'C:/Users/UTEA/Desktop/PYTHON/utea_scripts/reportes_credito_siembra/informes/7659_EVC_01-10-2022_LOPEZ CONDORI VICENTE_144.docx',\n",
       " 'C:/Users/UTEA/Desktop/PYTHON/utea_scripts/reportes_credito_siembra/informes/765_EVC_27-09-2022_AGROP. CATALA S.R.L._133.docx',\n",
       " 'C:/Users/UTEA/Desktop/PYTHON/utea_scripts/reportes_credito_siembra/informes/805_EVC_26-09-2022_AGROP. TRES HNOS DEL ORIENTE_128.docx']"
      ]
     },
     "execution_count": 10,
     "metadata": {},
     "output_type": "execute_result"
    }
   ],
   "source": [
    "# colocar aqui la ruta de los archivos\n",
    "ruta = 'C:/Users/UTEA/Desktop/PYTHON/utea_scripts/reportes_credito_siembra/informes'\n",
    "contenido = os.listdir(ruta)\n",
    "rutas =[]\n",
    "i = 0\n",
    "for name in contenido:\n",
    "    rutas.append(ruta + '/' + name)\n",
    "    i+=1\n",
    "\n",
    "print('SE ENCONTRARON ' + str(i) + ' INFORMES')\n",
    "print(len(rutas), 'INFORMES')\n",
    "rutas"
   ]
  },
  {
   "cell_type": "markdown",
   "id": "6b9af706",
   "metadata": {},
   "source": [
    "# INICIA EL PROCESO DE CONVERCIÓN"
   ]
  },
  {
   "cell_type": "code",
   "execution_count": 11,
   "id": "0f018b1e",
   "metadata": {
    "tags": []
   },
   "outputs": [
    {
     "name": "stdout",
     "output_type": "stream",
     "text": [
      "CONVIRTIENDO... INFORME 1 C:/Users/UTEA/Desktop/PYTHON/utea_scripts/reportes_credito_siembra/informes/75_EVC_28-09-2022_AGUILERA TARADELLES MARIANO_135.docx\n"
     ]
    },
    {
     "data": {
      "application/vnd.jupyter.widget-view+json": {
       "model_id": "29b899fd8d3b4683a392dc41000c4ef3",
       "version_major": 2,
       "version_minor": 0
      },
      "text/plain": [
       "  0%|          | 0/1 [00:00<?, ?it/s]"
      ]
     },
     "metadata": {},
     "output_type": "display_data"
    },
    {
     "name": "stdout",
     "output_type": "stream",
     "text": [
      "CONVIRTIENDO... INFORME 2 C:/Users/UTEA/Desktop/PYTHON/utea_scripts/reportes_credito_siembra/informes/75_EVC_28-09-2022_AGUILERA TARADELLES MARIANO_136.docx\n"
     ]
    },
    {
     "data": {
      "application/vnd.jupyter.widget-view+json": {
       "model_id": "84ef0435ce7d4314894942ceffae384a",
       "version_major": 2,
       "version_minor": 0
      },
      "text/plain": [
       "  0%|          | 0/1 [00:00<?, ?it/s]"
      ]
     },
     "metadata": {},
     "output_type": "display_data"
    },
    {
     "name": "stdout",
     "output_type": "stream",
     "text": [
      "CONVIRTIENDO... INFORME 3 C:/Users/UTEA/Desktop/PYTHON/utea_scripts/reportes_credito_siembra/informes/7659_EVC_01-10-2022_LOPEZ CONDORI VICENTE_144.docx\n"
     ]
    },
    {
     "data": {
      "application/vnd.jupyter.widget-view+json": {
       "model_id": "b4ce9450145e46929e6e38ea5196040a",
       "version_major": 2,
       "version_minor": 0
      },
      "text/plain": [
       "  0%|          | 0/1 [00:00<?, ?it/s]"
      ]
     },
     "metadata": {},
     "output_type": "display_data"
    },
    {
     "name": "stdout",
     "output_type": "stream",
     "text": [
      "CONVIRTIENDO... INFORME 4 C:/Users/UTEA/Desktop/PYTHON/utea_scripts/reportes_credito_siembra/informes/765_EVC_27-09-2022_AGROP. CATALA S.R.L._133.docx\n"
     ]
    },
    {
     "data": {
      "application/vnd.jupyter.widget-view+json": {
       "model_id": "389f673ca0634579befdeafd828df1f7",
       "version_major": 2,
       "version_minor": 0
      },
      "text/plain": [
       "  0%|          | 0/1 [00:00<?, ?it/s]"
      ]
     },
     "metadata": {},
     "output_type": "display_data"
    },
    {
     "name": "stdout",
     "output_type": "stream",
     "text": [
      "CONVIRTIENDO... INFORME 5 C:/Users/UTEA/Desktop/PYTHON/utea_scripts/reportes_credito_siembra/informes/805_EVC_26-09-2022_AGROP. TRES HNOS DEL ORIENTE_128.docx\n"
     ]
    },
    {
     "data": {
      "application/vnd.jupyter.widget-view+json": {
       "model_id": "3abae1170e6549da8cff75559f2d6e54",
       "version_major": 2,
       "version_minor": 0
      },
      "text/plain": [
       "  0%|          | 0/1 [00:00<?, ?it/s]"
      ]
     },
     "metadata": {},
     "output_type": "display_data"
    },
    {
     "name": "stdout",
     "output_type": "stream",
     "text": [
      "END\n"
     ]
    }
   ],
   "source": [
    "i = 1\n",
    "for filename in rutas:\n",
    "    print('CONVIRTIENDO... INFORME ' + str(i) + ' ' + filename)\n",
    "    convert(filename)\n",
    "    i+=1\n",
    "print('END')"
   ]
  }
 ],
 "metadata": {
  "kernelspec": {
   "display_name": "Python 3 (ipykernel)",
   "language": "python",
   "name": "python3"
  },
  "language_info": {
   "codemirror_mode": {
    "name": "ipython",
    "version": 3
   },
   "file_extension": ".py",
   "mimetype": "text/x-python",
   "name": "python",
   "nbconvert_exporter": "python",
   "pygments_lexer": "ipython3",
   "version": "3.7.13"
  }
 },
 "nbformat": 4,
 "nbformat_minor": 5
}
