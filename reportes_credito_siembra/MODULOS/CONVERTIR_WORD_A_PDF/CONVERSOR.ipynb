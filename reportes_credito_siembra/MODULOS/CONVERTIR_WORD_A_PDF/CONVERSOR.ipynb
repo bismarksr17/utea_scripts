{
 "cells": [
  {
   "cell_type": "markdown",
   "id": "18a80bc5",
   "metadata": {},
   "source": [
    "# INSTALAR LIBRERIAS"
   ]
  },
  {
   "cell_type": "code",
   "execution_count": 3,
   "id": "7e312719",
   "metadata": {},
   "outputs": [],
   "source": [
    "# !pip install docx2pdf\n",
    "#pip install ipywidgets"
   ]
  },
  {
   "cell_type": "markdown",
   "id": "7e934ca6",
   "metadata": {},
   "source": [
    "# IMPORTAR"
   ]
  },
  {
   "cell_type": "code",
   "execution_count": 1,
   "id": "508a28c7",
   "metadata": {},
   "outputs": [],
   "source": [
    "from docx2pdf import convert\n",
    "import os"
   ]
  },
  {
   "cell_type": "markdown",
   "id": "64ec4ba6",
   "metadata": {},
   "source": [
    "# CONSTRUIR LA RUTA DE LOS ARCHIVOS"
   ]
  },
  {
   "cell_type": "code",
   "execution_count": 2,
   "id": "1fc560f3",
   "metadata": {},
   "outputs": [
    {
     "name": "stdout",
     "output_type": "stream",
     "text": [
      "SE ENCONTRARON 17 INFORMES\n",
      "17 INFORMES\n"
     ]
    },
    {
     "data": {
      "text/plain": [
       "['C:/Users/UTEA/Desktop/PYTHON/utea_scripts/reportes_credito_siembra/informes/11852_EC_11-07-2022_ROCA GIL VICENTE.docx',\n",
       " 'C:/Users/UTEA/Desktop/PYTHON/utea_scripts/reportes_credito_siembra/informes/14760_EC_15-07-2022_VARGAS PINTO RENE.docx',\n",
       " 'C:/Users/UTEA/Desktop/PYTHON/utea_scripts/reportes_credito_siembra/informes/1672_EC_07-07-2022_CAMPBELL BALCAZAR ALAN.docx',\n",
       " 'C:/Users/UTEA/Desktop/PYTHON/utea_scripts/reportes_credito_siembra/informes/18356_EC_11-07-2022_CATALA HUBBAUER JORGE ALBERTO.docx',\n",
       " 'C:/Users/UTEA/Desktop/PYTHON/utea_scripts/reportes_credito_siembra/informes/18358_EC_06-07-2022_ROJAS AMELUNGE CARLOS.docx',\n",
       " 'C:/Users/UTEA/Desktop/PYTHON/utea_scripts/reportes_credito_siembra/informes/2446_EC_08-07-2022_CORDOVA SEJAS ALCIDES.docx',\n",
       " 'C:/Users/UTEA/Desktop/PYTHON/utea_scripts/reportes_credito_siembra/informes/2816_EC_11-07-2022_DONOSO BLANCO ALBERTO.docx',\n",
       " 'C:/Users/UTEA/Desktop/PYTHON/utea_scripts/reportes_credito_siembra/informes/2899_EC_05-07-2022_EGUEZ ELHAGE JOSE EDUARDO.docx',\n",
       " 'C:/Users/UTEA/Desktop/PYTHON/utea_scripts/reportes_credito_siembra/informes/3408_EC_13-07-2022_ESPINOZA TERRAZAS MIGUEL.docx',\n",
       " 'C:/Users/UTEA/Desktop/PYTHON/utea_scripts/reportes_credito_siembra/informes/3466_EC_13-07-2022_ESPINOZA MAIDA RICHARD.docx',\n",
       " 'C:/Users/UTEA/Desktop/PYTHON/utea_scripts/reportes_credito_siembra/informes/41594_EC_05-07-2022_AGROPECUARIA CAMPO DULCE S.R.L..docx',\n",
       " 'C:/Users/UTEA/Desktop/PYTHON/utea_scripts/reportes_credito_siembra/informes/4839_EC_14-07-2022_GUTIERREZ TARRADELLES ALFREDO.docx',\n",
       " 'C:/Users/UTEA/Desktop/PYTHON/utea_scripts/reportes_credito_siembra/informes/515_EC_08-07-2022_AGUILERA OLGA RIVERO DE.docx',\n",
       " 'C:/Users/UTEA/Desktop/PYTHON/utea_scripts/reportes_credito_siembra/informes/5387_EC_12-07-2022_HURTADO ORTIZ RONALD.docx',\n",
       " 'C:/Users/UTEA/Desktop/PYTHON/utea_scripts/reportes_credito_siembra/informes/6436_EC_15-07-2022_JIMENEZ PEDRAZA GUALBERTO.docx',\n",
       " 'C:/Users/UTEA/Desktop/PYTHON/utea_scripts/reportes_credito_siembra/informes/8014_EC_06-07-2022_NAZER PARADA ROBERTO DOMINGO.docx',\n",
       " 'C:/Users/UTEA/Desktop/PYTHON/utea_scripts/reportes_credito_siembra/informes/9677_EC_14-07-2022_OVANDO JIMENEZ JAIRO ESTEVAN.docx']"
      ]
     },
     "execution_count": 2,
     "metadata": {},
     "output_type": "execute_result"
    }
   ],
   "source": [
    "# colocar aqui la ruta de los archivos\n",
    "ruta = 'C:/Users/UTEA/Desktop/PYTHON/utea_scripts/reportes_credito_siembra/informes'\n",
    "contenido = os.listdir(ruta)\n",
    "rutas =[]\n",
    "i = 0\n",
    "for name in contenido:\n",
    "    rutas.append(ruta + '/' + name)\n",
    "    i+=1\n",
    "\n",
    "print('SE ENCONTRARON ' + str(i) + ' INFORMES')\n",
    "print(len(rutas), 'INFORMES')\n",
    "rutas"
   ]
  },
  {
   "cell_type": "markdown",
   "id": "6b9af706",
   "metadata": {},
   "source": [
    "# INICIA EL PROCESO DE CONVERCIÓN"
   ]
  },
  {
   "cell_type": "code",
   "execution_count": 3,
   "id": "0f018b1e",
   "metadata": {
    "tags": []
   },
   "outputs": [
    {
     "name": "stdout",
     "output_type": "stream",
     "text": [
      "CONVIRTIENDO... INFORME 1 C:/Users/UTEA/Desktop/PYTHON/utea_scripts/reportes_credito_siembra/informes/11852_EC_11-07-2022_ROCA GIL VICENTE.docx\n"
     ]
    },
    {
     "data": {
      "application/vnd.jupyter.widget-view+json": {
       "model_id": "63369c5103b64ad1b367da0f14a86d06",
       "version_major": 2,
       "version_minor": 0
      },
      "text/plain": [
       "  0%|          | 0/1 [00:00<?, ?it/s]"
      ]
     },
     "metadata": {},
     "output_type": "display_data"
    },
    {
     "name": "stdout",
     "output_type": "stream",
     "text": [
      "CONVIRTIENDO... INFORME 2 C:/Users/UTEA/Desktop/PYTHON/utea_scripts/reportes_credito_siembra/informes/14760_EC_15-07-2022_VARGAS PINTO RENE.docx\n"
     ]
    },
    {
     "data": {
      "application/vnd.jupyter.widget-view+json": {
       "model_id": "57014a19e1274a5d867a4e274930b5d6",
       "version_major": 2,
       "version_minor": 0
      },
      "text/plain": [
       "  0%|          | 0/1 [00:00<?, ?it/s]"
      ]
     },
     "metadata": {},
     "output_type": "display_data"
    },
    {
     "name": "stdout",
     "output_type": "stream",
     "text": [
      "CONVIRTIENDO... INFORME 3 C:/Users/UTEA/Desktop/PYTHON/utea_scripts/reportes_credito_siembra/informes/1672_EC_07-07-2022_CAMPBELL BALCAZAR ALAN.docx\n"
     ]
    },
    {
     "data": {
      "application/vnd.jupyter.widget-view+json": {
       "model_id": "2b5120a4adb04aeda57c87c210d3a0b4",
       "version_major": 2,
       "version_minor": 0
      },
      "text/plain": [
       "  0%|          | 0/1 [00:00<?, ?it/s]"
      ]
     },
     "metadata": {},
     "output_type": "display_data"
    },
    {
     "name": "stdout",
     "output_type": "stream",
     "text": [
      "CONVIRTIENDO... INFORME 4 C:/Users/UTEA/Desktop/PYTHON/utea_scripts/reportes_credito_siembra/informes/18356_EC_11-07-2022_CATALA HUBBAUER JORGE ALBERTO.docx\n"
     ]
    },
    {
     "data": {
      "application/vnd.jupyter.widget-view+json": {
       "model_id": "a8f25af456524b20b8714e1d0614f1e2",
       "version_major": 2,
       "version_minor": 0
      },
      "text/plain": [
       "  0%|          | 0/1 [00:00<?, ?it/s]"
      ]
     },
     "metadata": {},
     "output_type": "display_data"
    },
    {
     "name": "stdout",
     "output_type": "stream",
     "text": [
      "CONVIRTIENDO... INFORME 5 C:/Users/UTEA/Desktop/PYTHON/utea_scripts/reportes_credito_siembra/informes/18358_EC_06-07-2022_ROJAS AMELUNGE CARLOS.docx\n"
     ]
    },
    {
     "data": {
      "application/vnd.jupyter.widget-view+json": {
       "model_id": "d2e9d7031a6c4aca9b3144b7ebc35f5b",
       "version_major": 2,
       "version_minor": 0
      },
      "text/plain": [
       "  0%|          | 0/1 [00:00<?, ?it/s]"
      ]
     },
     "metadata": {},
     "output_type": "display_data"
    },
    {
     "name": "stdout",
     "output_type": "stream",
     "text": [
      "CONVIRTIENDO... INFORME 6 C:/Users/UTEA/Desktop/PYTHON/utea_scripts/reportes_credito_siembra/informes/2446_EC_08-07-2022_CORDOVA SEJAS ALCIDES.docx\n"
     ]
    },
    {
     "data": {
      "application/vnd.jupyter.widget-view+json": {
       "model_id": "7563c4fe87f347ad8ee9225141f97186",
       "version_major": 2,
       "version_minor": 0
      },
      "text/plain": [
       "  0%|          | 0/1 [00:00<?, ?it/s]"
      ]
     },
     "metadata": {},
     "output_type": "display_data"
    },
    {
     "name": "stdout",
     "output_type": "stream",
     "text": [
      "CONVIRTIENDO... INFORME 7 C:/Users/UTEA/Desktop/PYTHON/utea_scripts/reportes_credito_siembra/informes/2816_EC_11-07-2022_DONOSO BLANCO ALBERTO.docx\n"
     ]
    },
    {
     "data": {
      "application/vnd.jupyter.widget-view+json": {
       "model_id": "f05e14a7a59a452c922871ce572fbe1e",
       "version_major": 2,
       "version_minor": 0
      },
      "text/plain": [
       "  0%|          | 0/1 [00:00<?, ?it/s]"
      ]
     },
     "metadata": {},
     "output_type": "display_data"
    },
    {
     "name": "stdout",
     "output_type": "stream",
     "text": [
      "CONVIRTIENDO... INFORME 8 C:/Users/UTEA/Desktop/PYTHON/utea_scripts/reportes_credito_siembra/informes/2899_EC_05-07-2022_EGUEZ ELHAGE JOSE EDUARDO.docx\n"
     ]
    },
    {
     "data": {
      "application/vnd.jupyter.widget-view+json": {
       "model_id": "86b5110ea7d0475080514dbf684357a8",
       "version_major": 2,
       "version_minor": 0
      },
      "text/plain": [
       "  0%|          | 0/1 [00:00<?, ?it/s]"
      ]
     },
     "metadata": {},
     "output_type": "display_data"
    },
    {
     "name": "stdout",
     "output_type": "stream",
     "text": [
      "CONVIRTIENDO... INFORME 9 C:/Users/UTEA/Desktop/PYTHON/utea_scripts/reportes_credito_siembra/informes/3408_EC_13-07-2022_ESPINOZA TERRAZAS MIGUEL.docx\n"
     ]
    },
    {
     "data": {
      "application/vnd.jupyter.widget-view+json": {
       "model_id": "45e850e9e3bb428daa571e359d42a79b",
       "version_major": 2,
       "version_minor": 0
      },
      "text/plain": [
       "  0%|          | 0/1 [00:00<?, ?it/s]"
      ]
     },
     "metadata": {},
     "output_type": "display_data"
    },
    {
     "name": "stdout",
     "output_type": "stream",
     "text": [
      "CONVIRTIENDO... INFORME 10 C:/Users/UTEA/Desktop/PYTHON/utea_scripts/reportes_credito_siembra/informes/3466_EC_13-07-2022_ESPINOZA MAIDA RICHARD.docx\n"
     ]
    },
    {
     "data": {
      "application/vnd.jupyter.widget-view+json": {
       "model_id": "19d41d7a6e8645bc87dd9bf7d45573b8",
       "version_major": 2,
       "version_minor": 0
      },
      "text/plain": [
       "  0%|          | 0/1 [00:00<?, ?it/s]"
      ]
     },
     "metadata": {},
     "output_type": "display_data"
    },
    {
     "name": "stdout",
     "output_type": "stream",
     "text": [
      "CONVIRTIENDO... INFORME 11 C:/Users/UTEA/Desktop/PYTHON/utea_scripts/reportes_credito_siembra/informes/41594_EC_05-07-2022_AGROPECUARIA CAMPO DULCE S.R.L..docx\n"
     ]
    },
    {
     "data": {
      "application/vnd.jupyter.widget-view+json": {
       "model_id": "80f26f1660944188b95ce254758e9d87",
       "version_major": 2,
       "version_minor": 0
      },
      "text/plain": [
       "  0%|          | 0/1 [00:00<?, ?it/s]"
      ]
     },
     "metadata": {},
     "output_type": "display_data"
    },
    {
     "name": "stdout",
     "output_type": "stream",
     "text": [
      "CONVIRTIENDO... INFORME 12 C:/Users/UTEA/Desktop/PYTHON/utea_scripts/reportes_credito_siembra/informes/4839_EC_14-07-2022_GUTIERREZ TARRADELLES ALFREDO.docx\n"
     ]
    },
    {
     "data": {
      "application/vnd.jupyter.widget-view+json": {
       "model_id": "76672f00caac422790251108e0830134",
       "version_major": 2,
       "version_minor": 0
      },
      "text/plain": [
       "  0%|          | 0/1 [00:00<?, ?it/s]"
      ]
     },
     "metadata": {},
     "output_type": "display_data"
    },
    {
     "name": "stdout",
     "output_type": "stream",
     "text": [
      "CONVIRTIENDO... INFORME 13 C:/Users/UTEA/Desktop/PYTHON/utea_scripts/reportes_credito_siembra/informes/515_EC_08-07-2022_AGUILERA OLGA RIVERO DE.docx\n"
     ]
    },
    {
     "data": {
      "application/vnd.jupyter.widget-view+json": {
       "model_id": "aac58566f6084ec1a726d8e8badd2283",
       "version_major": 2,
       "version_minor": 0
      },
      "text/plain": [
       "  0%|          | 0/1 [00:00<?, ?it/s]"
      ]
     },
     "metadata": {},
     "output_type": "display_data"
    },
    {
     "name": "stdout",
     "output_type": "stream",
     "text": [
      "CONVIRTIENDO... INFORME 14 C:/Users/UTEA/Desktop/PYTHON/utea_scripts/reportes_credito_siembra/informes/5387_EC_12-07-2022_HURTADO ORTIZ RONALD.docx\n"
     ]
    },
    {
     "data": {
      "application/vnd.jupyter.widget-view+json": {
       "model_id": "21e2da01903c4ea2a6b143066b8b6288",
       "version_major": 2,
       "version_minor": 0
      },
      "text/plain": [
       "  0%|          | 0/1 [00:00<?, ?it/s]"
      ]
     },
     "metadata": {},
     "output_type": "display_data"
    },
    {
     "name": "stdout",
     "output_type": "stream",
     "text": [
      "CONVIRTIENDO... INFORME 15 C:/Users/UTEA/Desktop/PYTHON/utea_scripts/reportes_credito_siembra/informes/6436_EC_15-07-2022_JIMENEZ PEDRAZA GUALBERTO.docx\n"
     ]
    },
    {
     "data": {
      "application/vnd.jupyter.widget-view+json": {
       "model_id": "6432be24babf4c4eb200eb680163c7ce",
       "version_major": 2,
       "version_minor": 0
      },
      "text/plain": [
       "  0%|          | 0/1 [00:00<?, ?it/s]"
      ]
     },
     "metadata": {},
     "output_type": "display_data"
    },
    {
     "name": "stdout",
     "output_type": "stream",
     "text": [
      "CONVIRTIENDO... INFORME 16 C:/Users/UTEA/Desktop/PYTHON/utea_scripts/reportes_credito_siembra/informes/8014_EC_06-07-2022_NAZER PARADA ROBERTO DOMINGO.docx\n"
     ]
    },
    {
     "data": {
      "application/vnd.jupyter.widget-view+json": {
       "model_id": "d98ac1e3991e4009a647edd8dae72f20",
       "version_major": 2,
       "version_minor": 0
      },
      "text/plain": [
       "  0%|          | 0/1 [00:00<?, ?it/s]"
      ]
     },
     "metadata": {},
     "output_type": "display_data"
    },
    {
     "name": "stdout",
     "output_type": "stream",
     "text": [
      "CONVIRTIENDO... INFORME 17 C:/Users/UTEA/Desktop/PYTHON/utea_scripts/reportes_credito_siembra/informes/9677_EC_14-07-2022_OVANDO JIMENEZ JAIRO ESTEVAN.docx\n"
     ]
    },
    {
     "data": {
      "application/vnd.jupyter.widget-view+json": {
       "model_id": "b936aa6aa4844b9e83d85b192b05abfa",
       "version_major": 2,
       "version_minor": 0
      },
      "text/plain": [
       "  0%|          | 0/1 [00:00<?, ?it/s]"
      ]
     },
     "metadata": {},
     "output_type": "display_data"
    },
    {
     "name": "stdout",
     "output_type": "stream",
     "text": [
      "END\n"
     ]
    }
   ],
   "source": [
    "i = 1\n",
    "for filename in rutas:\n",
    "    print('CONVIRTIENDO... INFORME ' + str(i) + ' ' + filename)\n",
    "    convert(filename)\n",
    "    i+=1\n",
    "print('END')"
   ]
  }
 ],
 "metadata": {
  "kernelspec": {
   "display_name": "Python 3 (ipykernel)",
   "language": "python",
   "name": "python3"
  },
  "language_info": {
   "codemirror_mode": {
    "name": "ipython",
    "version": 3
   },
   "file_extension": ".py",
   "mimetype": "text/x-python",
   "name": "python",
   "nbconvert_exporter": "python",
   "pygments_lexer": "ipython3",
   "version": "3.7.12"
  }
 },
 "nbformat": 4,
 "nbformat_minor": 5
}
