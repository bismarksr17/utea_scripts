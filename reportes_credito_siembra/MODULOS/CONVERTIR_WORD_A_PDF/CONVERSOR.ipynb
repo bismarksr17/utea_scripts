{
 "cells": [
  {
   "cell_type": "markdown",
   "id": "18a80bc5",
   "metadata": {},
   "source": [
    "# INSTALAR LIBRERIAS"
   ]
  },
  {
   "cell_type": "code",
   "execution_count": 1,
   "id": "7e312719",
   "metadata": {},
   "outputs": [
    {
     "name": "stdout",
     "output_type": "stream",
     "text": [
      "Requirement already satisfied: docx2pdf in c:\\users\\bismar\\.conda\\envs\\utea_reportes\\lib\\site-packages (0.1.8)\n",
      "Requirement already satisfied: importlib_metadata>=1.3.0 in c:\\users\\bismar\\.conda\\envs\\utea_reportes\\lib\\site-packages (from docx2pdf) (4.8.1)\n",
      "Requirement already satisfied: tqdm>=4.41.0 in c:\\users\\bismar\\.conda\\envs\\utea_reportes\\lib\\site-packages (from docx2pdf) (4.63.0)\n",
      "Requirement already satisfied: pywin32>=227 in c:\\users\\bismar\\.conda\\envs\\utea_reportes\\lib\\site-packages (from docx2pdf) (228)\n",
      "Requirement already satisfied: typing-extensions>=3.6.4 in c:\\users\\bismar\\.conda\\envs\\utea_reportes\\lib\\site-packages (from importlib_metadata>=1.3.0->docx2pdf) (3.10.0.2)\n",
      "Requirement already satisfied: zipp>=0.5 in c:\\users\\bismar\\.conda\\envs\\utea_reportes\\lib\\site-packages (from importlib_metadata>=1.3.0->docx2pdf) (3.6.0)\n",
      "Requirement already satisfied: colorama in c:\\users\\bismar\\.conda\\envs\\utea_reportes\\lib\\site-packages (from tqdm>=4.41.0->docx2pdf) (0.4.4)\n"
     ]
    }
   ],
   "source": [
    "!pip install docx2pdf\n",
    "#pip install ipywidgets"
   ]
  },
  {
   "cell_type": "markdown",
   "id": "7e934ca6",
   "metadata": {},
   "source": [
    "# IMPORTAR"
   ]
  },
  {
   "cell_type": "code",
   "execution_count": 1,
   "id": "508a28c7",
   "metadata": {},
   "outputs": [],
   "source": [
    "from docx2pdf import convert\n",
    "import os"
   ]
  },
  {
   "cell_type": "markdown",
   "id": "64ec4ba6",
   "metadata": {},
   "source": [
    "# CONSTRUIR LA RUTA DE LOS ARCHIVOS"
   ]
  },
  {
   "cell_type": "code",
   "execution_count": 3,
   "id": "1fc560f3",
   "metadata": {},
   "outputs": [
    {
     "name": "stdout",
     "output_type": "stream",
     "text": [
      "SE ENCONTRARON 16 INFORMES\n",
      "15 INFORMES\n"
     ]
    },
    {
     "data": {
      "text/plain": [
       "['D:/utea/DEV/_REPORTE_CREDITO_SIEMBRA/reporte_credito_siembra/informes/1068_BALCAZAR SOLETO LORENZO.docx',\n",
       " 'D:/utea/DEV/_REPORTE_CREDITO_SIEMBRA/reporte_credito_siembra/informes/11798_RIVERO BECERRA JUAN.docx',\n",
       " 'D:/utea/DEV/_REPORTE_CREDITO_SIEMBRA/reporte_credito_siembra/informes/11860_ROCA SERRANO ARMANDO.docx',\n",
       " 'D:/utea/DEV/_REPORTE_CREDITO_SIEMBRA/reporte_credito_siembra/informes/13132_ZUMARAN MENACHO JORGE.docx',\n",
       " 'D:/utea/DEV/_REPORTE_CREDITO_SIEMBRA/reporte_credito_siembra/informes/13763_TUFINO SCHWENK RUBEN DARIO.docx',\n",
       " 'D:/utea/DEV/_REPORTE_CREDITO_SIEMBRA/reporte_credito_siembra/informes/14993_VACA CUELLAR JORGE.docx',\n",
       " 'D:/utea/DEV/_REPORTE_CREDITO_SIEMBRA/reporte_credito_siembra/informes/1858_CATALA CAMPOS SEGISMUNDO.docx',\n",
       " 'D:/utea/DEV/_REPORTE_CREDITO_SIEMBRA/reporte_credito_siembra/informes/2220_CRUZ VARGAS TITO JHONNY.docx',\n",
       " 'D:/utea/DEV/_REPORTE_CREDITO_SIEMBRA/reporte_credito_siembra/informes/2719_CORDOVA VALENTINA OLGUIN DE.docx',\n",
       " 'D:/utea/DEV/_REPORTE_CREDITO_SIEMBRA/reporte_credito_siembra/informes/40270_AGUILERA PARADA MARIA ROSARIO.docx',\n",
       " 'D:/utea/DEV/_REPORTE_CREDITO_SIEMBRA/reporte_credito_siembra/informes/41544_AMURRIO TAPIA JOSE LUIS.docx',\n",
       " 'D:/utea/DEV/_REPORTE_CREDITO_SIEMBRA/reporte_credito_siembra/informes/41966_CAMARGO RAQUEL BALCAZAR DE.docx',\n",
       " 'D:/utea/DEV/_REPORTE_CREDITO_SIEMBRA/reporte_credito_siembra/informes/430_AMURRIO QUINTANILLA FREDDY.docx',\n",
       " 'D:/utea/DEV/_REPORTE_CREDITO_SIEMBRA/reporte_credito_siembra/informes/644_ANTELO ANTELO ARIEL.docx',\n",
       " 'D:/utea/DEV/_REPORTE_CREDITO_SIEMBRA/reporte_credito_siembra/informes/874_BALCAZAR VACA HENRY.docx',\n",
       " 'D:/utea/DEV/_REPORTE_CREDITO_SIEMBRA/reporte_credito_siembra/informes/pdf']"
      ]
     },
     "execution_count": 3,
     "metadata": {},
     "output_type": "execute_result"
    }
   ],
   "source": [
    "# colocar aqui la ruta de los archivos\n",
    "ruta = 'D:/utea/DEV/_REPORTE_CREDITO_SIEMBRA/reporte_credito_siembra/informes'\n",
    "contenido = os.listdir(ruta)\n",
    "rutas =[]\n",
    "i = 0\n",
    "for name in contenido:\n",
    "    rutas.append(ruta + '/' + name)\n",
    "    i+=1\n",
    "\n",
    "print('SE ENCONTRARON ' + str(i) + ' INFORMES')\n",
    "print(len(rutas)-1, 'INFORMES')\n",
    "rutas"
   ]
  },
  {
   "cell_type": "markdown",
   "id": "6b9af706",
   "metadata": {},
   "source": [
    "# INICIA EL PROCESO DE CONVERCIÓN"
   ]
  },
  {
   "cell_type": "code",
   "execution_count": 4,
   "id": "0f018b1e",
   "metadata": {
    "tags": []
   },
   "outputs": [
    {
     "name": "stdout",
     "output_type": "stream",
     "text": [
      "CONVIRTIENDO... INFORME 1 D:/utea/DEV/_REPORTE_CREDITO_SIEMBRA/reporte_credito_siembra/informes/1068_BALCAZAR SOLETO LORENZO.docx\n"
     ]
    },
    {
     "data": {
      "application/vnd.jupyter.widget-view+json": {
       "model_id": "35c4a4a9a5ab42be9269f2b101d2cc34",
       "version_major": 2,
       "version_minor": 0
      },
      "text/plain": [
       "  0%|          | 0/1 [00:00<?, ?it/s]"
      ]
     },
     "metadata": {},
     "output_type": "display_data"
    },
    {
     "name": "stdout",
     "output_type": "stream",
     "text": [
      "CONVIRTIENDO... INFORME 2 D:/utea/DEV/_REPORTE_CREDITO_SIEMBRA/reporte_credito_siembra/informes/11798_RIVERO BECERRA JUAN.docx\n"
     ]
    },
    {
     "data": {
      "application/vnd.jupyter.widget-view+json": {
       "model_id": "2e777753eb39423da6192ab97888c2a1",
       "version_major": 2,
       "version_minor": 0
      },
      "text/plain": [
       "  0%|          | 0/1 [00:00<?, ?it/s]"
      ]
     },
     "metadata": {},
     "output_type": "display_data"
    },
    {
     "name": "stdout",
     "output_type": "stream",
     "text": [
      "CONVIRTIENDO... INFORME 3 D:/utea/DEV/_REPORTE_CREDITO_SIEMBRA/reporte_credito_siembra/informes/11860_ROCA SERRANO ARMANDO.docx\n"
     ]
    },
    {
     "data": {
      "application/vnd.jupyter.widget-view+json": {
       "model_id": "fc856243664d4408adf18f885ee4680b",
       "version_major": 2,
       "version_minor": 0
      },
      "text/plain": [
       "  0%|          | 0/1 [00:00<?, ?it/s]"
      ]
     },
     "metadata": {},
     "output_type": "display_data"
    },
    {
     "name": "stdout",
     "output_type": "stream",
     "text": [
      "CONVIRTIENDO... INFORME 4 D:/utea/DEV/_REPORTE_CREDITO_SIEMBRA/reporte_credito_siembra/informes/13132_ZUMARAN MENACHO JORGE.docx\n"
     ]
    },
    {
     "data": {
      "application/vnd.jupyter.widget-view+json": {
       "model_id": "6cfe7403e23945b49fe71a2b7fb456bb",
       "version_major": 2,
       "version_minor": 0
      },
      "text/plain": [
       "  0%|          | 0/1 [00:00<?, ?it/s]"
      ]
     },
     "metadata": {},
     "output_type": "display_data"
    },
    {
     "name": "stdout",
     "output_type": "stream",
     "text": [
      "CONVIRTIENDO... INFORME 5 D:/utea/DEV/_REPORTE_CREDITO_SIEMBRA/reporte_credito_siembra/informes/13763_TUFINO SCHWENK RUBEN DARIO.docx\n"
     ]
    },
    {
     "data": {
      "application/vnd.jupyter.widget-view+json": {
       "model_id": "ab7c531f486a4c94980ec014559e0956",
       "version_major": 2,
       "version_minor": 0
      },
      "text/plain": [
       "  0%|          | 0/1 [00:00<?, ?it/s]"
      ]
     },
     "metadata": {},
     "output_type": "display_data"
    },
    {
     "name": "stdout",
     "output_type": "stream",
     "text": [
      "CONVIRTIENDO... INFORME 6 D:/utea/DEV/_REPORTE_CREDITO_SIEMBRA/reporte_credito_siembra/informes/14993_VACA CUELLAR JORGE.docx\n"
     ]
    },
    {
     "data": {
      "application/vnd.jupyter.widget-view+json": {
       "model_id": "d602a85f74e542a9913d64c9d81260e5",
       "version_major": 2,
       "version_minor": 0
      },
      "text/plain": [
       "  0%|          | 0/1 [00:00<?, ?it/s]"
      ]
     },
     "metadata": {},
     "output_type": "display_data"
    },
    {
     "name": "stdout",
     "output_type": "stream",
     "text": [
      "CONVIRTIENDO... INFORME 7 D:/utea/DEV/_REPORTE_CREDITO_SIEMBRA/reporte_credito_siembra/informes/1858_CATALA CAMPOS SEGISMUNDO.docx\n"
     ]
    },
    {
     "data": {
      "application/vnd.jupyter.widget-view+json": {
       "model_id": "be6844bef4a244318a183ca5f05b0831",
       "version_major": 2,
       "version_minor": 0
      },
      "text/plain": [
       "  0%|          | 0/1 [00:00<?, ?it/s]"
      ]
     },
     "metadata": {},
     "output_type": "display_data"
    },
    {
     "name": "stdout",
     "output_type": "stream",
     "text": [
      "CONVIRTIENDO... INFORME 8 D:/utea/DEV/_REPORTE_CREDITO_SIEMBRA/reporte_credito_siembra/informes/2220_CRUZ VARGAS TITO JHONNY.docx\n"
     ]
    },
    {
     "data": {
      "application/vnd.jupyter.widget-view+json": {
       "model_id": "31f0e0576e6e4d56b817aa97f62526e3",
       "version_major": 2,
       "version_minor": 0
      },
      "text/plain": [
       "  0%|          | 0/1 [00:00<?, ?it/s]"
      ]
     },
     "metadata": {},
     "output_type": "display_data"
    },
    {
     "name": "stdout",
     "output_type": "stream",
     "text": [
      "CONVIRTIENDO... INFORME 9 D:/utea/DEV/_REPORTE_CREDITO_SIEMBRA/reporte_credito_siembra/informes/2719_CORDOVA VALENTINA OLGUIN DE.docx\n"
     ]
    },
    {
     "data": {
      "application/vnd.jupyter.widget-view+json": {
       "model_id": "6656791315644e16b112dcb341bd3a0e",
       "version_major": 2,
       "version_minor": 0
      },
      "text/plain": [
       "  0%|          | 0/1 [00:00<?, ?it/s]"
      ]
     },
     "metadata": {},
     "output_type": "display_data"
    },
    {
     "name": "stdout",
     "output_type": "stream",
     "text": [
      "CONVIRTIENDO... INFORME 10 D:/utea/DEV/_REPORTE_CREDITO_SIEMBRA/reporte_credito_siembra/informes/40270_AGUILERA PARADA MARIA ROSARIO.docx\n"
     ]
    },
    {
     "data": {
      "application/vnd.jupyter.widget-view+json": {
       "model_id": "b240e59da1d040df99f9a69ef672d8d7",
       "version_major": 2,
       "version_minor": 0
      },
      "text/plain": [
       "  0%|          | 0/1 [00:00<?, ?it/s]"
      ]
     },
     "metadata": {},
     "output_type": "display_data"
    },
    {
     "name": "stdout",
     "output_type": "stream",
     "text": [
      "CONVIRTIENDO... INFORME 11 D:/utea/DEV/_REPORTE_CREDITO_SIEMBRA/reporte_credito_siembra/informes/41544_AMURRIO TAPIA JOSE LUIS.docx\n"
     ]
    },
    {
     "data": {
      "application/vnd.jupyter.widget-view+json": {
       "model_id": "c15842fbbe394fcf8dad2a91725c2271",
       "version_major": 2,
       "version_minor": 0
      },
      "text/plain": [
       "  0%|          | 0/1 [00:00<?, ?it/s]"
      ]
     },
     "metadata": {},
     "output_type": "display_data"
    },
    {
     "name": "stdout",
     "output_type": "stream",
     "text": [
      "CONVIRTIENDO... INFORME 12 D:/utea/DEV/_REPORTE_CREDITO_SIEMBRA/reporte_credito_siembra/informes/41966_CAMARGO RAQUEL BALCAZAR DE.docx\n"
     ]
    },
    {
     "data": {
      "application/vnd.jupyter.widget-view+json": {
       "model_id": "5d44f65a236648839cb3b47b95295cca",
       "version_major": 2,
       "version_minor": 0
      },
      "text/plain": [
       "  0%|          | 0/1 [00:00<?, ?it/s]"
      ]
     },
     "metadata": {},
     "output_type": "display_data"
    },
    {
     "name": "stdout",
     "output_type": "stream",
     "text": [
      "CONVIRTIENDO... INFORME 13 D:/utea/DEV/_REPORTE_CREDITO_SIEMBRA/reporte_credito_siembra/informes/430_AMURRIO QUINTANILLA FREDDY.docx\n"
     ]
    },
    {
     "data": {
      "application/vnd.jupyter.widget-view+json": {
       "model_id": "76460abe604e40aeae499ba1d3d9ab15",
       "version_major": 2,
       "version_minor": 0
      },
      "text/plain": [
       "  0%|          | 0/1 [00:00<?, ?it/s]"
      ]
     },
     "metadata": {},
     "output_type": "display_data"
    },
    {
     "name": "stdout",
     "output_type": "stream",
     "text": [
      "CONVIRTIENDO... INFORME 14 D:/utea/DEV/_REPORTE_CREDITO_SIEMBRA/reporte_credito_siembra/informes/644_ANTELO ANTELO ARIEL.docx\n"
     ]
    },
    {
     "data": {
      "application/vnd.jupyter.widget-view+json": {
       "model_id": "de13647db8074692868a0e98a5d1eb54",
       "version_major": 2,
       "version_minor": 0
      },
      "text/plain": [
       "  0%|          | 0/1 [00:00<?, ?it/s]"
      ]
     },
     "metadata": {},
     "output_type": "display_data"
    },
    {
     "name": "stdout",
     "output_type": "stream",
     "text": [
      "CONVIRTIENDO... INFORME 15 D:/utea/DEV/_REPORTE_CREDITO_SIEMBRA/reporte_credito_siembra/informes/874_BALCAZAR VACA HENRY.docx\n"
     ]
    },
    {
     "data": {
      "application/vnd.jupyter.widget-view+json": {
       "model_id": "7e29f95571904c16aedef39dfd2b9346",
       "version_major": 2,
       "version_minor": 0
      },
      "text/plain": [
       "  0%|          | 0/1 [00:00<?, ?it/s]"
      ]
     },
     "metadata": {},
     "output_type": "display_data"
    },
    {
     "name": "stdout",
     "output_type": "stream",
     "text": [
      "CONVIRTIENDO... INFORME 16 D:/utea/DEV/_REPORTE_CREDITO_SIEMBRA/reporte_credito_siembra/informes/pdf\n"
     ]
    },
    {
     "data": {
      "application/vnd.jupyter.widget-view+json": {
       "model_id": "44078809e55d43afbffdfde05a547eca",
       "version_major": 2,
       "version_minor": 0
      },
      "text/plain": [
       "0it [00:00, ?it/s]"
      ]
     },
     "metadata": {},
     "output_type": "display_data"
    },
    {
     "name": "stdout",
     "output_type": "stream",
     "text": [
      "END\n"
     ]
    }
   ],
   "source": [
    "i = 1\n",
    "for filename in rutas:\n",
    "    print('CONVIRTIENDO... INFORME ' + str(i) + ' ' + filename)\n",
    "    convert(filename)\n",
    "    i+=1\n",
    "print('END')"
   ]
  }
 ],
 "metadata": {
  "kernelspec": {
   "display_name": "Python 3 (ipykernel)",
   "language": "python",
   "name": "python3"
  },
  "language_info": {
   "codemirror_mode": {
    "name": "ipython",
    "version": 3
   },
   "file_extension": ".py",
   "mimetype": "text/x-python",
   "name": "python",
   "nbconvert_exporter": "python",
   "pygments_lexer": "ipython3",
   "version": "3.7.11"
  }
 },
 "nbformat": 4,
 "nbformat_minor": 5
}
