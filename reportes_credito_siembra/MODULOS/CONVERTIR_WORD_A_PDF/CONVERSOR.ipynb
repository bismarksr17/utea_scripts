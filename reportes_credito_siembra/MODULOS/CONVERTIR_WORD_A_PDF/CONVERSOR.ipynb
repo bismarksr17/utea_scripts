{
 "cells": [
  {
   "cell_type": "markdown",
   "id": "18a80bc5",
   "metadata": {},
   "source": [
    "# INSTALAR LIBRERIAS"
   ]
  },
  {
   "cell_type": "code",
   "execution_count": null,
   "id": "7e312719",
   "metadata": {},
   "outputs": [],
   "source": [
    "# !pip install docx2pdf\n",
    "#pip install ipywidgets"
   ]
  },
  {
   "cell_type": "markdown",
   "id": "7e934ca6",
   "metadata": {},
   "source": [
    "# IMPORTAR"
   ]
  },
  {
   "cell_type": "code",
   "execution_count": 1,
   "id": "508a28c7",
   "metadata": {},
   "outputs": [],
   "source": [
    "from docx2pdf import convert\n",
    "import os"
   ]
  },
  {
   "cell_type": "markdown",
   "id": "64ec4ba6",
   "metadata": {},
   "source": [
    "# CONSTRUIR LA RUTA DE LOS ARCHIVOS"
   ]
  },
  {
   "cell_type": "code",
   "execution_count": 2,
   "id": "1fc560f3",
   "metadata": {},
   "outputs": [
    {
     "name": "stdout",
     "output_type": "stream",
     "text": [
      "SE ENCONTRARON 18 INFORMES\n",
      "18 INFORMES\n"
     ]
    },
    {
     "data": {
      "text/plain": [
       "['D:/utea/DEV/utea_scripts/reportes_credito_siembra/informes/10816_PIEROLA VACA FERNANDO.docx',\n",
       " 'D:/utea/DEV/utea_scripts/reportes_credito_siembra/informes/15085_CRUZ RUTH JAQUELIN B. DE.docx',\n",
       " 'D:/utea/DEV/utea_scripts/reportes_credito_siembra/informes/17678_ESPINOZA JUANA MAIDA DE.docx',\n",
       " 'D:/utea/DEV/utea_scripts/reportes_credito_siembra/informes/1979_CLAROS CADIMA EDMUNDO.docx',\n",
       " 'D:/utea/DEV/utea_scripts/reportes_credito_siembra/informes/1988_CLAROS CADIMA JHONNY.docx',\n",
       " 'D:/utea/DEV/utea_scripts/reportes_credito_siembra/informes/2505_CRUZ BARRIENTOS CRISTIAN F..docx',\n",
       " 'D:/utea/DEV/utea_scripts/reportes_credito_siembra/informes/2677_CLAROS VASQUEZ KEVIN F..docx',\n",
       " 'D:/utea/DEV/utea_scripts/reportes_credito_siembra/informes/3415_ESPINOZA VILLEGAS GERARDO.docx',\n",
       " 'D:/utea/DEV/utea_scripts/reportes_credito_siembra/informes/40251_AMURRIO MELGAREJO JUAN GABRIEL.docx',\n",
       " 'D:/utea/DEV/utea_scripts/reportes_credito_siembra/informes/41554_LEDEZMA SALAZAR RICHARD JIMMY.docx',\n",
       " 'D:/utea/DEV/utea_scripts/reportes_credito_siembra/informes/4834_GUTIERREZ MARTHA S. AGUILERA DE.docx',\n",
       " 'D:/utea/DEV/utea_scripts/reportes_credito_siembra/informes/5401_HUALLPA CARDENAS CARLOS.docx',\n",
       " 'D:/utea/DEV/utea_scripts/reportes_credito_siembra/informes/5407_HUANCA MENCHAQUE HERNAN.docx',\n",
       " 'D:/utea/DEV/utea_scripts/reportes_credito_siembra/informes/5448_HUANCA MENCHAQUE ROLY.docx',\n",
       " 'D:/utea/DEV/utea_scripts/reportes_credito_siembra/informes/7385_LINARES SALVATIERRA MARY LUZ.docx',\n",
       " 'D:/utea/DEV/utea_scripts/reportes_credito_siembra/informes/7494_LINARES S. AIDEE.docx',\n",
       " 'D:/utea/DEV/utea_scripts/reportes_credito_siembra/informes/7754_LEON MONDAQUE ROLY.docx',\n",
       " 'D:/utea/DEV/utea_scripts/reportes_credito_siembra/informes/7821_LEON MONDAQUE ELISA.docx']"
      ]
     },
     "execution_count": 2,
     "metadata": {},
     "output_type": "execute_result"
    }
   ],
   "source": [
    "# colocar aqui la ruta de los archivos\n",
    "ruta = 'D:/utea/DEV/utea_scripts/reportes_credito_siembra/informes'\n",
    "contenido = os.listdir(ruta)\n",
    "rutas =[]\n",
    "i = 0\n",
    "for name in contenido:\n",
    "    rutas.append(ruta + '/' + name)\n",
    "    i+=1\n",
    "\n",
    "print('SE ENCONTRARON ' + str(i) + ' INFORMES')\n",
    "print(len(rutas), 'INFORMES')\n",
    "rutas"
   ]
  },
  {
   "cell_type": "markdown",
   "id": "6b9af706",
   "metadata": {},
   "source": [
    "# INICIA EL PROCESO DE CONVERCIÓN"
   ]
  },
  {
   "cell_type": "code",
   "execution_count": 3,
   "id": "0f018b1e",
   "metadata": {
    "tags": []
   },
   "outputs": [
    {
     "name": "stdout",
     "output_type": "stream",
     "text": [
      "CONVIRTIENDO... INFORME 1 D:/utea/DEV/utea_scripts/reportes_credito_siembra/informes/10816_PIEROLA VACA FERNANDO.docx\n"
     ]
    },
    {
     "data": {
      "application/vnd.jupyter.widget-view+json": {
       "model_id": "4ba48c560adc4ca286f1fbe26fb9cb46",
       "version_major": 2,
       "version_minor": 0
      },
      "text/plain": [
       "  0%|          | 0/1 [00:00<?, ?it/s]"
      ]
     },
     "metadata": {},
     "output_type": "display_data"
    },
    {
     "name": "stdout",
     "output_type": "stream",
     "text": [
      "CONVIRTIENDO... INFORME 2 D:/utea/DEV/utea_scripts/reportes_credito_siembra/informes/15085_CRUZ RUTH JAQUELIN B. DE.docx\n"
     ]
    },
    {
     "data": {
      "application/vnd.jupyter.widget-view+json": {
       "model_id": "efbe3c692390458c8a3179708c70bacf",
       "version_major": 2,
       "version_minor": 0
      },
      "text/plain": [
       "  0%|          | 0/1 [00:00<?, ?it/s]"
      ]
     },
     "metadata": {},
     "output_type": "display_data"
    },
    {
     "name": "stdout",
     "output_type": "stream",
     "text": [
      "CONVIRTIENDO... INFORME 3 D:/utea/DEV/utea_scripts/reportes_credito_siembra/informes/17678_ESPINOZA JUANA MAIDA DE.docx\n"
     ]
    },
    {
     "data": {
      "application/vnd.jupyter.widget-view+json": {
       "model_id": "0ff6b362fa08496e91b7788589bcda5c",
       "version_major": 2,
       "version_minor": 0
      },
      "text/plain": [
       "  0%|          | 0/1 [00:00<?, ?it/s]"
      ]
     },
     "metadata": {},
     "output_type": "display_data"
    },
    {
     "name": "stdout",
     "output_type": "stream",
     "text": [
      "CONVIRTIENDO... INFORME 4 D:/utea/DEV/utea_scripts/reportes_credito_siembra/informes/1979_CLAROS CADIMA EDMUNDO.docx\n"
     ]
    },
    {
     "data": {
      "application/vnd.jupyter.widget-view+json": {
       "model_id": "e11264233e264a6592ef05ea5c3850a0",
       "version_major": 2,
       "version_minor": 0
      },
      "text/plain": [
       "  0%|          | 0/1 [00:00<?, ?it/s]"
      ]
     },
     "metadata": {},
     "output_type": "display_data"
    },
    {
     "name": "stdout",
     "output_type": "stream",
     "text": [
      "CONVIRTIENDO... INFORME 5 D:/utea/DEV/utea_scripts/reportes_credito_siembra/informes/1988_CLAROS CADIMA JHONNY.docx\n"
     ]
    },
    {
     "data": {
      "application/vnd.jupyter.widget-view+json": {
       "model_id": "930e2f9e09e04341af316c490bf55246",
       "version_major": 2,
       "version_minor": 0
      },
      "text/plain": [
       "  0%|          | 0/1 [00:00<?, ?it/s]"
      ]
     },
     "metadata": {},
     "output_type": "display_data"
    },
    {
     "name": "stdout",
     "output_type": "stream",
     "text": [
      "CONVIRTIENDO... INFORME 6 D:/utea/DEV/utea_scripts/reportes_credito_siembra/informes/2505_CRUZ BARRIENTOS CRISTIAN F..docx\n"
     ]
    },
    {
     "data": {
      "application/vnd.jupyter.widget-view+json": {
       "model_id": "da6e11926a264f989eba1e5e1d3ce017",
       "version_major": 2,
       "version_minor": 0
      },
      "text/plain": [
       "  0%|          | 0/1 [00:00<?, ?it/s]"
      ]
     },
     "metadata": {},
     "output_type": "display_data"
    },
    {
     "name": "stdout",
     "output_type": "stream",
     "text": [
      "CONVIRTIENDO... INFORME 7 D:/utea/DEV/utea_scripts/reportes_credito_siembra/informes/2677_CLAROS VASQUEZ KEVIN F..docx\n"
     ]
    },
    {
     "data": {
      "application/vnd.jupyter.widget-view+json": {
       "model_id": "749b62d3133340e99caca5132c44843d",
       "version_major": 2,
       "version_minor": 0
      },
      "text/plain": [
       "  0%|          | 0/1 [00:00<?, ?it/s]"
      ]
     },
     "metadata": {},
     "output_type": "display_data"
    },
    {
     "name": "stdout",
     "output_type": "stream",
     "text": [
      "CONVIRTIENDO... INFORME 8 D:/utea/DEV/utea_scripts/reportes_credito_siembra/informes/3415_ESPINOZA VILLEGAS GERARDO.docx\n"
     ]
    },
    {
     "data": {
      "application/vnd.jupyter.widget-view+json": {
       "model_id": "cd4e4160058a4d9093dcc908c5b99716",
       "version_major": 2,
       "version_minor": 0
      },
      "text/plain": [
       "  0%|          | 0/1 [00:00<?, ?it/s]"
      ]
     },
     "metadata": {},
     "output_type": "display_data"
    },
    {
     "name": "stdout",
     "output_type": "stream",
     "text": [
      "CONVIRTIENDO... INFORME 9 D:/utea/DEV/utea_scripts/reportes_credito_siembra/informes/40251_AMURRIO MELGAREJO JUAN GABRIEL.docx\n"
     ]
    },
    {
     "data": {
      "application/vnd.jupyter.widget-view+json": {
       "model_id": "72e01f39c7704339ac11a0b65c052a88",
       "version_major": 2,
       "version_minor": 0
      },
      "text/plain": [
       "  0%|          | 0/1 [00:00<?, ?it/s]"
      ]
     },
     "metadata": {},
     "output_type": "display_data"
    },
    {
     "name": "stdout",
     "output_type": "stream",
     "text": [
      "CONVIRTIENDO... INFORME 10 D:/utea/DEV/utea_scripts/reportes_credito_siembra/informes/41554_LEDEZMA SALAZAR RICHARD JIMMY.docx\n"
     ]
    },
    {
     "data": {
      "application/vnd.jupyter.widget-view+json": {
       "model_id": "e34683cb09954085a5c01b7ca80cad19",
       "version_major": 2,
       "version_minor": 0
      },
      "text/plain": [
       "  0%|          | 0/1 [00:00<?, ?it/s]"
      ]
     },
     "metadata": {},
     "output_type": "display_data"
    },
    {
     "name": "stdout",
     "output_type": "stream",
     "text": [
      "CONVIRTIENDO... INFORME 11 D:/utea/DEV/utea_scripts/reportes_credito_siembra/informes/4834_GUTIERREZ MARTHA S. AGUILERA DE.docx\n"
     ]
    },
    {
     "data": {
      "application/vnd.jupyter.widget-view+json": {
       "model_id": "08002063db2541abbbf1babb19d79ae9",
       "version_major": 2,
       "version_minor": 0
      },
      "text/plain": [
       "  0%|          | 0/1 [00:00<?, ?it/s]"
      ]
     },
     "metadata": {},
     "output_type": "display_data"
    },
    {
     "name": "stdout",
     "output_type": "stream",
     "text": [
      "CONVIRTIENDO... INFORME 12 D:/utea/DEV/utea_scripts/reportes_credito_siembra/informes/5401_HUALLPA CARDENAS CARLOS.docx\n"
     ]
    },
    {
     "data": {
      "application/vnd.jupyter.widget-view+json": {
       "model_id": "5872e8d51880480fa82c633b0e1c13f4",
       "version_major": 2,
       "version_minor": 0
      },
      "text/plain": [
       "  0%|          | 0/1 [00:00<?, ?it/s]"
      ]
     },
     "metadata": {},
     "output_type": "display_data"
    },
    {
     "name": "stdout",
     "output_type": "stream",
     "text": [
      "CONVIRTIENDO... INFORME 13 D:/utea/DEV/utea_scripts/reportes_credito_siembra/informes/5407_HUANCA MENCHAQUE HERNAN.docx\n"
     ]
    },
    {
     "data": {
      "application/vnd.jupyter.widget-view+json": {
       "model_id": "ecff8448877647458b40db4fa482ba68",
       "version_major": 2,
       "version_minor": 0
      },
      "text/plain": [
       "  0%|          | 0/1 [00:00<?, ?it/s]"
      ]
     },
     "metadata": {},
     "output_type": "display_data"
    },
    {
     "name": "stdout",
     "output_type": "stream",
     "text": [
      "CONVIRTIENDO... INFORME 14 D:/utea/DEV/utea_scripts/reportes_credito_siembra/informes/5448_HUANCA MENCHAQUE ROLY.docx\n"
     ]
    },
    {
     "data": {
      "application/vnd.jupyter.widget-view+json": {
       "model_id": "4c07ecebc2394bb8889f98c82f72b06e",
       "version_major": 2,
       "version_minor": 0
      },
      "text/plain": [
       "  0%|          | 0/1 [00:00<?, ?it/s]"
      ]
     },
     "metadata": {},
     "output_type": "display_data"
    },
    {
     "name": "stdout",
     "output_type": "stream",
     "text": [
      "CONVIRTIENDO... INFORME 15 D:/utea/DEV/utea_scripts/reportes_credito_siembra/informes/7385_LINARES SALVATIERRA MARY LUZ.docx\n"
     ]
    },
    {
     "data": {
      "application/vnd.jupyter.widget-view+json": {
       "model_id": "64f11c72f6914bb8aaf31d66c3a55489",
       "version_major": 2,
       "version_minor": 0
      },
      "text/plain": [
       "  0%|          | 0/1 [00:00<?, ?it/s]"
      ]
     },
     "metadata": {},
     "output_type": "display_data"
    },
    {
     "name": "stdout",
     "output_type": "stream",
     "text": [
      "CONVIRTIENDO... INFORME 16 D:/utea/DEV/utea_scripts/reportes_credito_siembra/informes/7494_LINARES S. AIDEE.docx\n"
     ]
    },
    {
     "data": {
      "application/vnd.jupyter.widget-view+json": {
       "model_id": "8ec16247b6d04dbd942f11b3f0329342",
       "version_major": 2,
       "version_minor": 0
      },
      "text/plain": [
       "  0%|          | 0/1 [00:00<?, ?it/s]"
      ]
     },
     "metadata": {},
     "output_type": "display_data"
    },
    {
     "name": "stdout",
     "output_type": "stream",
     "text": [
      "CONVIRTIENDO... INFORME 17 D:/utea/DEV/utea_scripts/reportes_credito_siembra/informes/7754_LEON MONDAQUE ROLY.docx\n"
     ]
    },
    {
     "data": {
      "application/vnd.jupyter.widget-view+json": {
       "model_id": "a3e7a6c762ca440496102e2a22baa0f1",
       "version_major": 2,
       "version_minor": 0
      },
      "text/plain": [
       "  0%|          | 0/1 [00:00<?, ?it/s]"
      ]
     },
     "metadata": {},
     "output_type": "display_data"
    },
    {
     "name": "stdout",
     "output_type": "stream",
     "text": [
      "CONVIRTIENDO... INFORME 18 D:/utea/DEV/utea_scripts/reportes_credito_siembra/informes/7821_LEON MONDAQUE ELISA.docx\n"
     ]
    },
    {
     "data": {
      "application/vnd.jupyter.widget-view+json": {
       "model_id": "7f819ae065b5484b99ce8bea05c4e9b9",
       "version_major": 2,
       "version_minor": 0
      },
      "text/plain": [
       "  0%|          | 0/1 [00:00<?, ?it/s]"
      ]
     },
     "metadata": {},
     "output_type": "display_data"
    },
    {
     "name": "stdout",
     "output_type": "stream",
     "text": [
      "END\n"
     ]
    }
   ],
   "source": [
    "i = 1\n",
    "for filename in rutas:\n",
    "    print('CONVIRTIENDO... INFORME ' + str(i) + ' ' + filename)\n",
    "    convert(filename)\n",
    "    i+=1\n",
    "print('END')"
   ]
  }
 ],
 "metadata": {
  "kernelspec": {
   "display_name": "Python 3 (ipykernel)",
   "language": "python",
   "name": "python3"
  },
  "language_info": {
   "codemirror_mode": {
    "name": "ipython",
    "version": 3
   },
   "file_extension": ".py",
   "mimetype": "text/x-python",
   "name": "python",
   "nbconvert_exporter": "python",
   "pygments_lexer": "ipython3",
   "version": "3.7.11"
  }
 },
 "nbformat": 4,
 "nbformat_minor": 5
}
