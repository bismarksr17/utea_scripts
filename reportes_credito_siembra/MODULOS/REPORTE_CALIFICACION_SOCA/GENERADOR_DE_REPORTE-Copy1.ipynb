{
 "cells": [
  {
   "cell_type": "code",
   "execution_count": null,
   "id": "18c0606a",
   "metadata": {},
   "outputs": [],
   "source": [
    "#codigo_canhero = 6457\n",
    "fecha_inicio = '2021-12-06'\n",
    "fecha_final = '2021-12-11'"
   ]
  },
  {
   "cell_type": "code",
   "execution_count": null,
   "id": "878e9caf",
   "metadata": {},
   "outputs": [],
   "source": [
    "from werkzeug.wrappers import Request, Response\n",
    "from flask import Flask, render_template\n",
    "from jinja2 import Template\n",
    "\n",
    "#from datetime import date\n",
    "from datetime import datetime\n",
    "\n",
    "import collections\n",
    "from amigocloud import AmigoCloud\n",
    "\n",
    "import collections"
   ]
  },
  {
   "cell_type": "code",
   "execution_count": null,
   "id": "ab1ab2b9-fed0-4292-87e0-f095e77ce4f5",
   "metadata": {},
   "outputs": [],
   "source": [
    "acceso = open('../../accesos/api.txt','r')\n",
    "api_token = acceso.readlines()[0]\n",
    "acceso.close()"
   ]
  },
  {
   "cell_type": "code",
   "execution_count": null,
   "id": "f0fd3cc0",
   "metadata": {},
   "outputs": [],
   "source": [
    "amigocloud = AmigoCloud(token=api_token)\n",
    "amigocloud"
   ]
  },
  {
   "cell_type": "code",
   "execution_count": null,
   "id": "6fd2e1a5",
   "metadata": {},
   "outputs": [],
   "source": [
    "query_reporte = {'query': 'select canhero, propiedad, detalle, estado, gal.s3_filename, gal.amigo_id from dataset_272975 insp inner join dataset_276804 foto on insp.amigo_id = foto.fotografias inner join gallery_37796 gal on foto.amigo_id = gal.source_amigo_id where insp.fecha_registro between \\'{fecha_ini}\\' and \\'{fecha_fin}\\' order by canhero'.format(fecha_ini=fecha_inicio, fecha_fin=fecha_final)}\n",
    "reporte_select = amigocloud.get('https://app.amigocloud.com/api/v1/projects/30837/sql', query_reporte)\n",
    "reporte_data = reporte_select['data']\n",
    "\n",
    "#credito_data['insp_fech_inf'] = datetime.now().strftime('%d/%m/%Y')\n",
    "#date_update = credito_data['date_update']\n",
    "#credito_data['date_update'] = datetime.strptime(date_update[:10], '%Y-%m-%d').strftime('%d/%m/%Y')\n",
    "#credito = collections.namedtuple(\"credito\", credito_data.keys())(*credito_data.values())\n",
    "\n",
    "reporte_data\n",
    "\n",
    "\n",
    "#print(query_reporte)\n",
    "#print('end')"
   ]
  },
  {
   "cell_type": "code",
   "execution_count": null,
   "id": "fe8f0893",
   "metadata": {},
   "outputs": [],
   "source": [
    "import pandas as pd"
   ]
  },
  {
   "cell_type": "code",
   "execution_count": null,
   "id": "ae5c5db6",
   "metadata": {},
   "outputs": [],
   "source": [
    "tabla = pd.DataFrame(reporte_data)"
   ]
  },
  {
   "cell_type": "code",
   "execution_count": null,
   "id": "63462b2b",
   "metadata": {},
   "outputs": [],
   "source": [
    "tabla"
   ]
  },
  {
   "cell_type": "code",
   "execution_count": null,
   "id": "305e718e-b19d-49a7-bc03-88b24e3206a7",
   "metadata": {},
   "outputs": [],
   "source": [
    "import requests\n",
    "import docxtpl\n",
    "from docxtpl import DocxTemplate\n",
    "from docx.shared import Mm"
   ]
  },
  {
   "cell_type": "code",
   "execution_count": null,
   "id": "3543a4c0-87a0-4123-bd2f-6f00dfa429c8",
   "metadata": {},
   "outputs": [],
   "source": [
    "obs = reporte_data"
   ]
  },
  {
   "cell_type": "code",
   "execution_count": null,
   "id": "b51b2507-8c07-4fb4-8dfb-558271b1aee0",
   "metadata": {},
   "outputs": [],
   "source": [
    "obs['canhero']"
   ]
  },
  {
   "cell_type": "code",
   "execution_count": null,
   "id": "4ac3428b",
   "metadata": {},
   "outputs": [],
   "source": [
    "doc = DocxTemplate(\"template/template02.docx\")\n",
    "lista_fotos_inline = []\n",
    "for obs in reporte_data:\n",
    "    response = requests.get(\"https://www-amigocloud.s3.amazonaws.com/gallery/\" + obs['s3_filename'])\n",
    "    file = open('fotos/' + obs['amigo_id']+'.jpg', \"wb\")\n",
    "    file.write(response.content)\n",
    "    file.close()\n",
    "    print(obs['canhero'], obs['propiedad'])\n",
    "    lista_fotos_inline.append({'foto': docxtpl.InlineImage(doc, image_descriptor='fotos/' + obs['amigo_id']+'.jpg', width=Mm(70)), 'canhero':obs['canhero'], 'propiedad':obs['propiedad'], 'detalle': obs['detalle'], 'estado':obs['estado']})\n",
    "\n",
    "data = collections.namedtuple(\"insp\", obs.keys())(*obs.values())\n",
    "context = {'insp':data, 'obs':lista_fotos_inline}\n",
    "doc.render(context)\n",
    "doc.save('_' + fecha_inicio + ' --  ' + fecha_final + '.docx')"
   ]
  }
 ],
 "metadata": {
  "kernelspec": {
   "display_name": "Python 3 (ipykernel)",
   "language": "python",
   "name": "python3"
  },
  "language_info": {
   "codemirror_mode": {
    "name": "ipython",
    "version": 3
   },
   "file_extension": ".py",
   "mimetype": "text/x-python",
   "name": "python",
   "nbconvert_exporter": "python",
   "pygments_lexer": "ipython3",
   "version": "3.7.13"
  }
 },
 "nbformat": 4,
 "nbformat_minor": 5
}
