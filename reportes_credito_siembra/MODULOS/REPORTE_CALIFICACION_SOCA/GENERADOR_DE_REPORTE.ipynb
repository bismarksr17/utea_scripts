{
 "cells": [
  {
   "cell_type": "code",
   "execution_count": null,
   "id": "18c0606a",
   "metadata": {},
   "outputs": [],
   "source": [
    "#codigo_canhero = 6457\n",
    "fecha_inicio = '2021-10-25'\n",
    "fecha_final = '2021-10-28'\n",
    "cod_ca = 772"
   ]
  },
  {
   "cell_type": "code",
   "execution_count": null,
   "id": "878e9caf",
   "metadata": {},
   "outputs": [],
   "source": [
    "from werkzeug.wrappers import Request, Response\n",
    "from flask import Flask, render_template\n",
    "from jinja2 import Template\n",
    "\n",
    "#from datetime import date\n",
    "from datetime import datetime\n",
    "\n",
    "import collections\n",
    "from amigocloud import AmigoCloud\n",
    "\n",
    "import collections"
   ]
  },
  {
   "cell_type": "code",
   "execution_count": null,
   "id": "f0fd3cc0",
   "metadata": {},
   "outputs": [],
   "source": [
    "amigocloud = AmigoCloud(token='')\n",
    "amigocloud"
   ]
  },
  {
   "cell_type": "code",
   "execution_count": null,
   "id": "6fd2e1a5",
   "metadata": {},
   "outputs": [],
   "source": [
    "query_reporte = {'query': 'select * from dataset_272975 where (fecha_registro between \\'{fecha_ini}\\' and \\'{fecha_fin}\\') and cast(SPLIT_PART(canhero, \\' / \\', 1) as integer) = {cod}'.format(fecha_ini=fecha_inicio, fecha_fin=fecha_final, cod=cod_ca)}\n",
    "reporte_select = amigocloud.get('https://app.amigocloud.com/api/v1/projects/30837/sql', query_reporte)\n",
    "reporte_data = reporte_select['data']\n",
    "\n",
    "#credito_data['insp_fech_inf'] = datetime.now().strftime('%d/%m/%Y')\n",
    "#date_update = credito_data['date_update']\n",
    "#credito_data['date_update'] = datetime.strptime(date_update[:10], '%Y-%m-%d').strftime('%d/%m/%Y')\n",
    "#credito = collections.namedtuple(\"credito\", credito_data.keys())(*credito_data.values())\n",
    "\n",
    "reporte_data\n",
    "\n",
    "\n",
    "#print(query_reporte)\n",
    "#print('end')"
   ]
  },
  {
   "cell_type": "code",
   "execution_count": null,
   "id": "9b546691",
   "metadata": {},
   "outputs": [],
   "source": [
    "for i in reporte_data:\n",
    "    query = {'query': 'select detalle, estado, s3_filename, fo.amigo_id from dataset_276804 fo inner join gallery_37796 ga on ga.source_amigo_id = fo.amigo_id where fotografias=\\'{id}\\''.format(id=i['amigo_id'])}\n",
    "    select = amigocloud.get('https://app.amigocloud.com/api/v1/projects/30837/sql', query)\n",
    "    data = select['data']\n",
    "    i['obs']=data"
   ]
  },
  {
   "cell_type": "code",
   "execution_count": null,
   "id": "a0c35bc7",
   "metadata": {},
   "outputs": [],
   "source": [
    "reporte_data"
   ]
  },
  {
   "cell_type": "code",
   "execution_count": null,
   "id": "305e718e-b19d-49a7-bc03-88b24e3206a7",
   "metadata": {},
   "outputs": [],
   "source": [
    "import requests\n",
    "import docxtpl\n",
    "from docxtpl import DocxTemplate\n",
    "from docx.shared import Mm"
   ]
  },
  {
   "cell_type": "code",
   "execution_count": null,
   "id": "4ac3428b",
   "metadata": {},
   "outputs": [],
   "source": [
    "for insp in reporte_data:\n",
    "    doc = DocxTemplate(\"template/template01.docx\")\n",
    "    lista_fotos_inline = []\n",
    "    for obs in insp['obs']:\n",
    "        print(obs['amigo_id'] + '  ---  ' + obs['s3_filename'])\n",
    "        response = requests.get(\"https://www-amigocloud.s3.amazonaws.com/gallery/\" + obs['s3_filename'])\n",
    "        file = open('fotos/' + obs['amigo_id']+'.jpg', \"wb\")\n",
    "        file.write(response.content)\n",
    "        file.close()\n",
    "        lista_fotos_inline.append({'foto': docxtpl.InlineImage(doc, image_descriptor='fotos/' + obs['amigo_id']+'.jpg', width=Mm(70)), 'obs': obs['detalle'], 'estado':obs['estado']})\n",
    "    data = collections.namedtuple(\"insp\", insp.keys())(*insp.values())\n",
    "    context = {'insp':data, 'obs':lista_fotos_inline}\n",
    "    doc.render(context)\n",
    "    doc.save('_' + str(insp['canhero'].replace('/','-')) + '-' + str(insp['propiedad'].replace('/','-')) + '.docx')"
   ]
  }
 ],
 "metadata": {
  "kernelspec": {
   "display_name": "Python 3 (ipykernel)",
   "language": "python",
   "name": "python3"
  },
  "language_info": {
   "codemirror_mode": {
    "name": "ipython",
    "version": 3
   },
   "file_extension": ".py",
   "mimetype": "text/x-python",
   "name": "python",
   "nbconvert_exporter": "python",
   "pygments_lexer": "ipython3",
   "version": "3.7.13"
  }
 },
 "nbformat": 4,
 "nbformat_minor": 5
}
