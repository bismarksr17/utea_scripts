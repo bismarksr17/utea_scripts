{
 "cells": [
  {
   "cell_type": "code",
   "execution_count": 140,
   "id": "18c0606a",
   "metadata": {},
   "outputs": [],
   "source": [
    "#codigo_canhero = 6457\n",
    "fecha_inicio = '2021-10-25'\n",
    "fecha_final = '2021-10-28'\n",
    "cod_ca = 772"
   ]
  },
  {
   "cell_type": "code",
   "execution_count": 78,
   "id": "878e9caf",
   "metadata": {},
   "outputs": [],
   "source": [
    "from werkzeug.wrappers import Request, Response\n",
    "from flask import Flask, render_template\n",
    "from jinja2 import Template\n",
    "\n",
    "#from datetime import date\n",
    "from datetime import datetime\n",
    "\n",
    "import collections\n",
    "from amigocloud import AmigoCloud\n",
    "\n",
    "import collections"
   ]
  },
  {
   "cell_type": "code",
   "execution_count": 7,
   "id": "f0fd3cc0",
   "metadata": {},
   "outputs": [
    {
     "data": {
      "text/plain": [
       "<amigocloud.amigocloud.AmigoCloud at 0x25075928550>"
      ]
     },
     "execution_count": 7,
     "metadata": {},
     "output_type": "execute_result"
    }
   ],
   "source": [
    "amigocloud = AmigoCloud(token='')\n",
    "amigocloud"
   ]
  },
  {
   "cell_type": "code",
   "execution_count": 141,
   "id": "6fd2e1a5",
   "metadata": {},
   "outputs": [
    {
     "data": {
      "text/plain": [
       "[{'ubicacion': '0101000020E610000092E3F32FEEAE4FC05254EC1E8FDB30C0',\n",
       "  'amigo_id': '23e107c002ce4c169e3d37c3420e809d',\n",
       "  'fecha_registro': '2021-10-25 17:00:56+00:00',\n",
       "  'canhero': '772 / AGRO-SERVILOG S.R.L.',\n",
       "  'entera_fresca': False,\n",
       "  'entera_quemada': False,\n",
       "  'picada_fresca': True,\n",
       "  'picada_quemada': False,\n",
       "  'quema': True,\n",
       "  'hilerado': False,\n",
       "  'permanente': True,\n",
       "  'subsolado': True,\n",
       "  'fertilizado': True,\n",
       "  'pre_emergente': False,\n",
       "  'post_emergente': False,\n",
       "  'control_de_malezas': 3,\n",
       "  'observaciones': None,\n",
       "  'cultivado': True,\n",
       "  'responsable': 'Juan Pablo Jaldin Duran',\n",
       "  'propiedad': '588 / SIND.AGRARIO LOS ANDES-PARCELA 11',\n",
       "  'superficie': 32.8977564273,\n",
       "  'evaluacion': 4,\n",
       "  'latitud': -16.86045364,\n",
       "  'longitud': -63.3607437,\n",
       "  'user': 'jjaldinduran@gmail.com'}]"
      ]
     },
     "execution_count": 141,
     "metadata": {},
     "output_type": "execute_result"
    }
   ],
   "source": [
    "query_reporte = {'query': 'select * from dataset_272975 where (fecha_registro between \\'{fecha_ini}\\' and \\'{fecha_fin}\\') and cast(SPLIT_PART(canhero, \\' / \\', 1) as integer) = {cod}'.format(fecha_ini=fecha_inicio, fecha_fin=fecha_final, cod=cod_ca)}\n",
    "reporte_select = amigocloud.get('https://app.amigocloud.com/api/v1/projects/30837/sql', query_reporte)\n",
    "reporte_data = reporte_select['data']\n",
    "\n",
    "#credito_data['insp_fech_inf'] = datetime.now().strftime('%d/%m/%Y')\n",
    "#date_update = credito_data['date_update']\n",
    "#credito_data['date_update'] = datetime.strptime(date_update[:10], '%Y-%m-%d').strftime('%d/%m/%Y')\n",
    "#credito = collections.namedtuple(\"credito\", credito_data.keys())(*credito_data.values())\n",
    "\n",
    "reporte_data\n",
    "\n",
    "\n",
    "#print(query_reporte)\n",
    "#print('end')"
   ]
  },
  {
   "cell_type": "code",
   "execution_count": 142,
   "id": "9b546691",
   "metadata": {},
   "outputs": [],
   "source": [
    "for i in reporte_data:\n",
    "    query = {'query': 'select detalle, estado, s3_filename, fo.amigo_id from dataset_276804 fo inner join gallery_37796 ga on ga.source_amigo_id = fo.amigo_id where fotografias=\\'{id}\\''.format(id=i['amigo_id'])}\n",
    "    select = amigocloud.get('https://app.amigocloud.com/api/v1/projects/30837/sql', query)\n",
    "    data = select['data']\n",
    "    i['obs']=data"
   ]
  },
  {
   "cell_type": "code",
   "execution_count": 44,
   "id": "a0c35bc7",
   "metadata": {},
   "outputs": [
    {
     "data": {
      "text/plain": [
       "[{'ubicacion': '0101000020E61000002F19C748F6A24FC08CC30545983931C0',\n",
       "  'amigo_id': '9d4e441b0e6347649d276b47995ccdef',\n",
       "  'fecha_registro': '2021-10-21 14:34:55+00:00',\n",
       "  'canhero': '6457 / JORDAN TONDELLY RODOLFO',\n",
       "  'entera_fresca': False,\n",
       "  'entera_quemada': True,\n",
       "  'picada_fresca': False,\n",
       "  'picada_quemada': False,\n",
       "  'quema': True,\n",
       "  'hilerado': False,\n",
       "  'permanente': False,\n",
       "  'subsolado': True,\n",
       "  'fertilizado': True,\n",
       "  'pre_emergente': False,\n",
       "  'post_emergente': True,\n",
       "  'control_de_malezas': 4,\n",
       "  'observaciones': 'Mal manejo, pese que realiza toda las actividades necesarias para el cultivo ',\n",
       "  'cultivado': True,\n",
       "  'responsable': 'Rogelio Acuña Rodríguez',\n",
       "  'propiedad': '1088 / EL CHAPARRAL--RODOLFO JORDAN',\n",
       "  'superficie': 40.837516221121,\n",
       "  'evaluacion': 4,\n",
       "  'latitud': -17.22574132,\n",
       "  'longitud': -63.273084,\n",
       "  'user': 'ingenieriaagricola2016@gmail.com',\n",
       "  'obs': [{'detalle': 'Mal manejo, pese que realiza toda las actividades necesarias para el cultivo',\n",
       "    'estado': 'Malo',\n",
       "    's3_filename': '36927_20211021105940952_ZE2Ckgq.jpg',\n",
       "    'amigo_id': 'a664a285a9624553a1e50101bc98af38'}]},\n",
       " {'ubicacion': '0101000020E61000002DA17197B3994FC0367C77D0914931C0',\n",
       "  'amigo_id': '0a0af1fa920149fab0b647ec14b5cb43',\n",
       "  'fecha_registro': '2021-10-21 13:16:32+00:00',\n",
       "  'canhero': '6457 / JORDAN TONDELLY RODOLFO',\n",
       "  'entera_fresca': False,\n",
       "  'entera_quemada': True,\n",
       "  'picada_fresca': False,\n",
       "  'picada_quemada': False,\n",
       "  'quema': True,\n",
       "  'hilerado': False,\n",
       "  'permanente': False,\n",
       "  'subsolado': True,\n",
       "  'fertilizado': True,\n",
       "  'pre_emergente': False,\n",
       "  'post_emergente': True,\n",
       "  'control_de_malezas': 5,\n",
       "  'observaciones': 'Propiedad mal manejada, MUCHA presión de maleza ',\n",
       "  'cultivado': True,\n",
       "  'responsable': 'Rogelio Acuña Rodríguez',\n",
       "  'propiedad': '1289 / LA PASCANA--TONDELLY',\n",
       "  'superficie': 109.139773954371,\n",
       "  'evaluacion': 4,\n",
       "  'latitud': -17.28687666,\n",
       "  'longitud': -63.2007771,\n",
       "  'user': 'ingenieriaagricola2016@gmail.com',\n",
       "  'obs': [{'detalle': 'Propiedad mal manejada, MUCHA presión de maleza',\n",
       "    'estado': 'Malo',\n",
       "    's3_filename': '36927_20211021091737758_e2CUDJi_0pCBZJK.jpg',\n",
       "    'amigo_id': 'b0d2604fb03c42efb6ee5e49335c85ae'},\n",
       "   {'detalle': 'Mal manejo, pese que realiza toda las actividades necesarias para el cultivo',\n",
       "    'estado': 'Malo',\n",
       "    's3_filename': '36927_20211021105940952_gjs0l8Y.jpg',\n",
       "    'amigo_id': 'e49b348194504d6b995a52f1ebc92932'}]}]"
      ]
     },
     "execution_count": 44,
     "metadata": {},
     "output_type": "execute_result"
    }
   ],
   "source": [
    "reporte_data"
   ]
  },
  {
   "cell_type": "code",
   "execution_count": 65,
   "id": "305e718e-b19d-49a7-bc03-88b24e3206a7",
   "metadata": {},
   "outputs": [],
   "source": [
    "import requests\n",
    "import docxtpl\n",
    "from docxtpl import DocxTemplate\n",
    "from docx.shared import Mm"
   ]
  },
  {
   "cell_type": "code",
   "execution_count": 143,
   "id": "4ac3428b",
   "metadata": {},
   "outputs": [
    {
     "name": "stdout",
     "output_type": "stream",
     "text": [
      "e471015419614644a74aac6c322a2cff  ---  37796_20211025125930267.jpg\n",
      "46e2226f3a9c48aab5841f726f496ec6  ---  37796_20211025130028755.jpg\n"
     ]
    }
   ],
   "source": [
    "for insp in reporte_data:\n",
    "    doc = DocxTemplate(\"template/template01.docx\")\n",
    "    lista_fotos_inline = []\n",
    "    for obs in insp['obs']:\n",
    "        print(obs['amigo_id'] + '  ---  ' + obs['s3_filename'])\n",
    "        response = requests.get(\"https://www-amigocloud.s3.amazonaws.com/gallery/\" + obs['s3_filename'])\n",
    "        file = open('fotos/' + obs['amigo_id']+'.jpg', \"wb\")\n",
    "        file.write(response.content)\n",
    "        file.close()\n",
    "        lista_fotos_inline.append({'foto': docxtpl.InlineImage(doc, image_descriptor='fotos/' + obs['amigo_id']+'.jpg', width=Mm(70)), 'obs': obs['detalle'], 'estado':obs['estado']})\n",
    "    data = collections.namedtuple(\"insp\", insp.keys())(*insp.values())\n",
    "    context = {'insp':data, 'obs':lista_fotos_inline}\n",
    "    doc.render(context)\n",
    "    doc.save('_' + str(insp['canhero'].replace('/','-')) + '-' + str(insp['propiedad'].replace('/','-')) + '.docx')"
   ]
  }
 ],
 "metadata": {
  "kernelspec": {
   "display_name": "Python 3 (ipykernel)",
   "language": "python",
   "name": "python3"
  },
  "language_info": {
   "codemirror_mode": {
    "name": "ipython",
    "version": 3
   },
   "file_extension": ".py",
   "mimetype": "text/x-python",
   "name": "python",
   "nbconvert_exporter": "python",
   "pygments_lexer": "ipython3",
   "version": "3.7.11"
  }
 },
 "nbformat": 4,
 "nbformat_minor": 5
}
