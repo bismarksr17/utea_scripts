{
 "cells": [
  {
   "cell_type": "markdown",
   "id": "efd45d64",
   "metadata": {},
   "source": [
    "## Librerias"
   ]
  },
  {
   "cell_type": "code",
   "execution_count": 4,
   "id": "5cb5968b",
   "metadata": {},
   "outputs": [],
   "source": [
    "from werkzeug.wrappers import Request, Response\n",
    "\n",
    "import collections\n",
    "from amigocloud import AmigoCloud"
   ]
  },
  {
   "cell_type": "markdown",
   "id": "9429e2a1",
   "metadata": {},
   "source": [
    "## Conectar a AmigoCloud"
   ]
  },
  {
   "cell_type": "code",
   "execution_count": 5,
   "id": "b046e5ec-e53a-4681-b08b-5406ced2f306",
   "metadata": {},
   "outputs": [
    {
     "data": {
      "text/plain": [
       "<amigocloud.amigocloud.AmigoCloud at 0x2ac591bc208>"
      ]
     },
     "execution_count": 5,
     "metadata": {},
     "output_type": "execute_result"
    }
   ],
   "source": [
    "# CONECTAR A AMIGOCLOUD\n",
    "acceso = open('../api_key/api.key','r')\n",
    "api_token = acceso.readlines()[0]\n",
    "acceso.close()\n",
    "amigocloud = AmigoCloud(token=api_token)\n",
    "amigocloud"
   ]
  },
  {
   "cell_type": "markdown",
   "id": "c1e7f707",
   "metadata": {},
   "source": [
    "## Buscar registros de soca"
   ]
  },
  {
   "cell_type": "code",
   "execution_count": 11,
   "id": "a5dd3fa5-53a6-4d31-8189-65c18b284b45",
   "metadata": {},
   "outputs": [],
   "source": [
    "semana = 6"
   ]
  },
  {
   "cell_type": "code",
   "execution_count": 20,
   "id": "3c8f0c01",
   "metadata": {},
   "outputs": [
    {
     "name": "stdout",
     "output_type": "stream",
     "text": [
      "end\n"
     ]
    }
   ],
   "source": [
    "query = {'query': 'select insp.canhero, replace(insp.propiedad, \\'_\\', \\' \\') propiedad, insp.user, soca.observacion, gal.s3_filename from dataset_302136 soca\\\n",
    "         inner join dataset_302115 insp on insp.amigo_id=soca.insp_ref_soca\\\n",
    "         inner join gallery_45144 gal on soca.amigo_id=gal.source_amigo_id\\\n",
    "         where gal.s3_filename is not null and date_part(\\'week\\', soca.fecha_de_registro)={sem}'.format(sem=semana)}\n",
    "select = amigocloud.get('https://app.amigocloud.com/api/v1/projects/32424/sql', query)\n",
    "data = select['data']\n",
    "#credito = collections.namedtuple(\"credito\", credito_data.keys())(*credito_data.values())\n",
    "print('end')"
   ]
  },
  {
   "cell_type": "code",
   "execution_count": 21,
   "id": "e49ecf6d-4c9f-4e23-9264-781eba0df1ac",
   "metadata": {},
   "outputs": [
    {
     "data": {
      "text/plain": [
       "[{'canhero': '12162 / ROCA REYES MARCOS',\n",
       "  'propiedad': '85 / NARANJAL ROCA',\n",
       "  'user': 'ingenieriaagricola2016@gmail.com',\n",
       "  'observacion': 'Maleza hoja delgada en la orillera ',\n",
       "  's3_filename': '45144_20230207115901506.jpg'},\n",
       " {'canhero': '41956 / TORRICO SUAREZ CAROLINA',\n",
       "  'propiedad': '126 / PROP.LA MADRE--ABELARDO SUAREZ',\n",
       "  'user': 'ingenieriaagricola2016@gmail.com',\n",
       "  'observacion': 'Lote limpio',\n",
       "  's3_filename': '45144_20230207102918352.jpg'},\n",
       " {'canhero': '3414 / ESPINOZA TERRAZAS SERAFIN',\n",
       "  'propiedad': '971 / PUEBLO NUEVO 103--RUBEN ESPINOZA',\n",
       "  'user': 'ingenieriaagricola2016@gmail.com',\n",
       "  'observacion': 'Lote Aplicado ',\n",
       "  's3_filename': '45144_20230208094143154.jpg'}]"
      ]
     },
     "execution_count": 21,
     "metadata": {},
     "output_type": "execute_result"
    }
   ],
   "source": [
    "data"
   ]
  },
  {
   "cell_type": "code",
   "execution_count": 23,
   "id": "48e765f2",
   "metadata": {},
   "outputs": [
    {
     "name": "stdout",
     "output_type": "stream",
     "text": [
      "45144_20230207115901506.jpg\n",
      "45144_20230207102918352.jpg\n",
      "45144_20230208094143154.jpg\n"
     ]
    }
   ],
   "source": [
    "from docxtpl import DocxTemplate\n",
    "import docxtpl\n",
    "from docx.shared import Mm\n",
    "\n",
    "import requests\n",
    "\n",
    "doc = DocxTemplate(\"templates/template_soca_fotos.docx\")\n",
    "\n",
    "lista_fotos_inline = []\n",
    "for foto in data:\n",
    "    response = requests.get(\"https://www-amigocloud.s3.amazonaws.com/gallery/\" + foto['s3_filename'])\n",
    "    file = open('fotos/' + foto['s3_filename'], \"wb\")\n",
    "    file.write(response.content)\n",
    "    file.close()\n",
    "    lista_fotos_inline.append({\n",
    "        'foto': docxtpl.InlineImage(doc, image_descriptor='fotos/' + foto['s3_filename'], width=Mm(70)), \n",
    "        'canhero': foto['canhero'],\n",
    "        'propiedad': foto['propiedad'],\n",
    "        'obs' : foto['observacion']\n",
    "    })\n",
    "    print(foto['s3_filename'])\n",
    "\n",
    "context = {'fotos':lista_fotos_inline}\n",
    "\n",
    "doc.render(context)\n",
    "file_name = 'SOCA SEMANA - ' + str(semana)\n",
    "doc.save('_' + file_name + '.docx')"
   ]
  }
 ],
 "metadata": {
  "kernelspec": {
   "display_name": "Python 3 (ipykernel)",
   "language": "python",
   "name": "python3"
  },
  "language_info": {
   "codemirror_mode": {
    "name": "ipython",
    "version": 3
   },
   "file_extension": ".py",
   "mimetype": "text/x-python",
   "name": "python",
   "nbconvert_exporter": "python",
   "pygments_lexer": "ipython3",
   "version": "3.7.11"
  }
 },
 "nbformat": 4,
 "nbformat_minor": 5
}
