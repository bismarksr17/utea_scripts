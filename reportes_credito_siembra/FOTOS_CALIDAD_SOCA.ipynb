{
 "cells": [
  {
   "cell_type": "markdown",
   "id": "efd45d64",
   "metadata": {},
   "source": [
    "## Librerias"
   ]
  },
  {
   "cell_type": "code",
   "execution_count": 1,
   "id": "5cb5968b",
   "metadata": {},
   "outputs": [
    {
     "name": "stderr",
     "output_type": "stream",
     "text": [
      "C:\\Users\\Bismar\\.conda\\envs\\utea_reportes\\lib\\importlib\\_bootstrap.py:219: RuntimeWarning: greenlet.greenlet size changed, may indicate binary incompatibility. Expected 144 from C header, got 152 from PyObject\n",
      "  return f(*args, **kwds)\n",
      "C:\\Users\\Bismar\\.conda\\envs\\utea_reportes\\lib\\importlib\\_bootstrap.py:219: RuntimeWarning: greenlet.greenlet size changed, may indicate binary incompatibility. Expected 144 from C header, got 152 from PyObject\n",
      "  return f(*args, **kwds)\n",
      "C:\\Users\\Bismar\\.conda\\envs\\utea_reportes\\lib\\importlib\\_bootstrap.py:219: RuntimeWarning: greenlet.greenlet size changed, may indicate binary incompatibility. Expected 144 from C header, got 152 from PyObject\n",
      "  return f(*args, **kwds)\n",
      "C:\\Users\\Bismar\\.conda\\envs\\utea_reportes\\lib\\importlib\\_bootstrap.py:219: RuntimeWarning: greenlet.greenlet size changed, may indicate binary incompatibility. Expected 144 from C header, got 152 from PyObject\n",
      "  return f(*args, **kwds)\n"
     ]
    }
   ],
   "source": [
    "from werkzeug.wrappers import Request, Response\n",
    "\n",
    "import collections\n",
    "from amigocloud import AmigoCloud"
   ]
  },
  {
   "cell_type": "markdown",
   "id": "9429e2a1",
   "metadata": {},
   "source": [
    "## Conectar a AmigoCloud"
   ]
  },
  {
   "cell_type": "code",
   "execution_count": 2,
   "id": "b046e5ec-e53a-4681-b08b-5406ced2f306",
   "metadata": {},
   "outputs": [
    {
     "data": {
      "text/plain": [
       "<amigocloud.amigocloud.AmigoCloud at 0x1e8e4735a88>"
      ]
     },
     "execution_count": 2,
     "metadata": {},
     "output_type": "execute_result"
    }
   ],
   "source": [
    "# CONECTAR A AMIGOCLOUD\n",
    "acceso = open('../api_key/api.key','r')\n",
    "api_token = acceso.readlines()[0]\n",
    "acceso.close()\n",
    "amigocloud = AmigoCloud(token=api_token)\n",
    "amigocloud"
   ]
  },
  {
   "cell_type": "markdown",
   "id": "c1e7f707",
   "metadata": {},
   "source": [
    "## Buscar registros de soca"
   ]
  },
  {
   "cell_type": "code",
   "execution_count": 3,
   "id": "a5dd3fa5-53a6-4d31-8189-65c18b284b45",
   "metadata": {},
   "outputs": [],
   "source": [
    "semana = 13"
   ]
  },
  {
   "cell_type": "code",
   "execution_count": 5,
   "id": "3c8f0c01",
   "metadata": {},
   "outputs": [
    {
     "name": "stdout",
     "output_type": "stream",
     "text": [
      "end\n"
     ]
    }
   ],
   "source": [
    "query = {'query': 'select insp.canhero, replace(insp.propiedad, \\'_\\', \\' \\') propiedad, insp.user, soca.observacion, gal.s3_filename from dataset_302136 soca\\\n",
    "         inner join dataset_302115 insp on insp.amigo_id=soca.insp_ref_soca\\\n",
    "         inner join gallery_45144 gal on soca.amigo_id=gal.source_amigo_id\\\n",
    "         where gal.s3_filename is not null and date_part(\\'week\\', soca.fecha_de_registro)={sem}'.format(sem=semana)}\n",
    "select = amigocloud.get('https://app.amigocloud.com/api/v1/projects/32424/sql', query)\n",
    "data = select['data']\n",
    "#credito = collections.namedtuple(\"credito\", credito_data.keys())(*credito_data.values())\n",
    "print('end')"
   ]
  },
  {
   "cell_type": "code",
   "execution_count": 6,
   "id": "e49ecf6d-4c9f-4e23-9264-781eba0df1ac",
   "metadata": {},
   "outputs": [
    {
     "data": {
      "text/plain": [
       "[{'canhero': '3998 / FLORES LUCIANO',\n",
       "  'propiedad': '863 / P-116 COOP.AGRIC.DE P.GUALBERTO VILLARROEL',\n",
       "  'user': 'ingenieriaagricola2016@gmail.com',\n",
       "  'observacion': 'Buen control de maleza ',\n",
       "  's3_filename': '45144_20230328162018049.jpg'},\n",
       " {'canhero': '3998 / FLORES LUCIANO',\n",
       "  'propiedad': '802 / P-92 COOP.AGRIC.DE P.GUALBERTO VILLARROEL',\n",
       "  'user': 'ingenieriaagricola2016@gmail.com',\n",
       "  'observacion': 'Bremura en la orilla \"recomendación\" paraquat 1.5L + americano 1.5 L',\n",
       "  's3_filename': '45144_20230328165253056.jpg'},\n",
       " {'canhero': '1533 / CALVI PADILLA ROMAN',\n",
       "  'propiedad': '104 / EL CARMEN II--CALVI',\n",
       "  'user': 'ingenieriaagricola2016@gmail.com',\n",
       "  'observacion': 'Buen control de maleza.\\nObservaciones, bremura en orilla \\n',\n",
       "  's3_filename': '20230331_132237.jpg'},\n",
       " {'canhero': '430 / AMURRIO QUINTANILLA FREDDY',\n",
       "  'propiedad': '1252 / PARCELA 41--JUANA QUINTANILLA DE AMURRIO',\n",
       "  'user': 'ingenieriaagricola2016@gmail.com',\n",
       "  'observacion': 'Premura en la orilla ',\n",
       "  's3_filename': '45144_20230327104521424.jpg'}]"
      ]
     },
     "execution_count": 6,
     "metadata": {},
     "output_type": "execute_result"
    }
   ],
   "source": [
    "data"
   ]
  },
  {
   "cell_type": "code",
   "execution_count": 7,
   "id": "48e765f2",
   "metadata": {},
   "outputs": [
    {
     "name": "stdout",
     "output_type": "stream",
     "text": [
      "45144_20230328162018049.jpg\n",
      "45144_20230328165253056.jpg\n",
      "20230331_132237.jpg\n",
      "45144_20230327104521424.jpg\n"
     ]
    }
   ],
   "source": [
    "from docxtpl import DocxTemplate\n",
    "import docxtpl\n",
    "from docx.shared import Mm\n",
    "\n",
    "import requests\n",
    "\n",
    "doc = DocxTemplate(\"templates/template_soca_fotos.docx\")\n",
    "\n",
    "lista_fotos_inline = []\n",
    "for foto in data:\n",
    "    response = requests.get(\"https://www-amigocloud.s3.amazonaws.com/gallery/\" + foto['s3_filename'])\n",
    "    file = open('fotos/' + foto['s3_filename'], \"wb\")\n",
    "    file.write(response.content)\n",
    "    file.close()\n",
    "    lista_fotos_inline.append({\n",
    "        'foto': docxtpl.InlineImage(doc, image_descriptor='fotos/' + foto['s3_filename'], width=Mm(70)), \n",
    "        'canhero': foto['canhero'],\n",
    "        'propiedad': foto['propiedad'],\n",
    "        'obs' : foto['observacion']\n",
    "    })\n",
    "    print(foto['s3_filename'])\n",
    "\n",
    "context = {'fotos':lista_fotos_inline}\n",
    "\n",
    "doc.render(context)\n",
    "file_name = 'SOCA SEMANA - ' + str(semana)\n",
    "doc.save('_' + file_name + '.docx')"
   ]
  }
 ],
 "metadata": {
  "kernelspec": {
   "display_name": "Python 3 (ipykernel)",
   "language": "python",
   "name": "python3"
  },
  "language_info": {
   "codemirror_mode": {
    "name": "ipython",
    "version": 3
   },
   "file_extension": ".py",
   "mimetype": "text/x-python",
   "name": "python",
   "nbconvert_exporter": "python",
   "pygments_lexer": "ipython3",
   "version": "3.7.11"
  }
 },
 "nbformat": 4,
 "nbformat_minor": 5
}
