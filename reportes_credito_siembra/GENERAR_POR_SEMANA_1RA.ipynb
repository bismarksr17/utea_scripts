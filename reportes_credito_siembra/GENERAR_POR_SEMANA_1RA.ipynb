{
 "cells": [
  {
   "cell_type": "code",
   "execution_count": 10,
   "id": "665919a4-6184-4280-8c4c-64588f9131d6",
   "metadata": {},
   "outputs": [],
   "source": [
    "from werkzeug.wrappers import Request, Response\n",
    "#from flask import Flask, render_template\n",
    "from jinja2 import Template\n",
    "\n",
    "#from datetime import date\n",
    "from datetime import datetime, timedelta\n",
    "\n",
    "import collections\n",
    "from amigocloud import AmigoCloud\n",
    "\n",
    "from datetime import datetime\n",
    "\n",
    "from shapely import wkb\n",
    "import geopandas\n",
    "import pandas as pd\n",
    "import contextily as ctx\n",
    "import matplotlib.pyplot as plt\n",
    "\n",
    "from docxtpl import DocxTemplate\n",
    "import docxtpl\n",
    "from docx.shared import Mm\n",
    "import requests\n",
    "\n",
    "def convertir_wkb(wkb_data):\n",
    "    return wkb.loads(wkb_data, hex=True)[0]"
   ]
  },
  {
   "cell_type": "code",
   "execution_count": 12,
   "id": "f78ec737-093c-44bb-a782-1af54be4a65f",
   "metadata": {},
   "outputs": [
    {
     "data": {
      "text/plain": [
       "<amigocloud.amigocloud.AmigoCloud at 0x1f6c8975b08>"
      ]
     },
     "execution_count": 12,
     "metadata": {},
     "output_type": "execute_result"
    }
   ],
   "source": [
    "# CONECTAR A AMIGOCLOUD\n",
    "acceso = open('../api_key/api.key','r')\n",
    "api_token = acceso.readlines()[0]\n",
    "acceso.close()\n",
    "amigocloud = AmigoCloud(token=api_token)\n",
    "amigocloud"
   ]
  },
  {
   "cell_type": "code",
   "execution_count": 13,
   "id": "671335c0-f848-4ced-9199-d1000c19c39b",
   "metadata": {},
   "outputs": [],
   "source": [
    "def generar_reporte(codigo_canhero):\n",
    "    # EXTRAER DATOS DE CREDITO\n",
    "    query_credito = {'query': 'select * from dataset_307560 where cast(SPLIT_PART(canhero, \\'/\\', 1) as integer) = {cod_ca}'.format(cod_ca=codigo_canhero)}\n",
    "    credito_select = amigocloud.get('https://app.amigocloud.com/api/v1/projects/32672/sql', query_credito)\n",
    "    credito_data = credito_select['data'][0]\n",
    "    credito_data['fecha_informe'] = (datetime.strptime(credito_data['fecha_1ra_insp'].split(' ')[0], '%Y-%m-%d') + timedelta(days=1)).strftime('%d/%m/%Y')\n",
    "    credito_data['fecha_1ra_insp'] = datetime.strptime(credito_data['fecha_1ra_insp'].split(' ')[0], '%Y-%m-%d').strftime('%d/%m/%Y')\n",
    "    credito = collections.namedtuple(\"credito\", credito_data.keys())(*credito_data.values())\n",
    "\n",
    "    # EXTRAER DATOS DE PROPIEDADES\n",
    "    query_propiedades = {'query': 'select * from dataset_307562 where insp_ref_prop = \\'{insp_ref_prop}\\''.format(insp_ref_prop=credito.amigo_id)}\n",
    "    propiedades_select = amigocloud.get('https://app.amigocloud.com/api/v1/projects/32672/sql', query_propiedades)\n",
    "    propiedades_data = propiedades_select['data']\n",
    "\n",
    "    # EXTRAER DATOS DE LOTES\n",
    "    propiedades = []\n",
    "    for prop in propiedades_data:\n",
    "        prop['lotes'] = []\n",
    "        query_lotes = {'query': 'select * from dataset_307563 where prop_ref_lote=\\'{prop_ref_lote}\\''.format(prop_ref_lote=prop['amigo_id'])}\n",
    "        lotes_select = amigocloud.get('https://app.amigocloud.com/api/v1/projects/32672/sql', query_lotes)\n",
    "        for lote_select in lotes_select['data']:\n",
    "            lote = collections.namedtuple(\"lote\", lote_select.keys())(*lote_select.values())\n",
    "            prop['lotes'].append(lote)\n",
    "        propiedades.append(collections.namedtuple(\"propiedad\", prop.keys())(*prop.values()))\n",
    "\n",
    "    # EXTRAER FOTOS\n",
    "    fotos = []\n",
    "    for propiedad in propiedades:\n",
    "        for lote in propiedad.lotes:\n",
    "            print(lote.lote, lote.amigo_id)\n",
    "            query_fotos = {'query': 'select source_amigo_id, s3_filename from gallery_46845 where source_amigo_id=\\'{source_amigo_id}\\''.format(source_amigo_id=lote.amigo_id)}\n",
    "            fotos_filename = amigocloud.get('https://app.amigocloud.com/api/v1/projects/32672/sql', query_fotos)\n",
    "            if fotos_filename['data'] != []:\n",
    "                dic = {'lote': lote.lote, 'file_name': fotos_filename['data'][0]['s3_filename']}\n",
    "                fotos.append(dic)\n",
    "\n",
    "    # GENERERAR PLANOS\n",
    "    i = 0\n",
    "    lista_planos = []\n",
    "    for propiedad in propiedades:\n",
    "        i = i + 1\n",
    "        lista_planos.append(generar_plano(propiedad, i))\n",
    "\n",
    "\n",
    "    # GENERAR REPORTE\n",
    "    doc = DocxTemplate(\"templates/template_word_1ra.docx\")\n",
    "    #generar lista de InlineImage de planos \n",
    "    lista_InlineImage = []\n",
    "    for plano in lista_planos:\n",
    "        lista_InlineImage.append(docxtpl.InlineImage(doc, image_descriptor=plano, width=Mm(150)))\n",
    "    #descargar fotos y generar lista InlineImage\n",
    "    lista_fotos_inline = []\n",
    "    for foto in fotos:\n",
    "        #response = requests.get(\"https://www-amigocloud.s3.amazonaws.com/gallery/\" + foto['file_name'])\n",
    "        response = requests.get(\"https://www-amigocloud.s3.amazonaws.com/gallery/\" + foto['file_name'])\n",
    "        file = open('fotos/' + foto['file_name'], \"wb\")\n",
    "        file.write(response.content)\n",
    "        file.close()\n",
    "        lista_fotos_inline.append({'foto': docxtpl.InlineImage(doc, image_descriptor='fotos/' + foto['file_name'], width=Mm(120)), 'lote': foto['lote']})\n",
    "    firma_respon = None\n",
    "    if credito.respon_1ra_insp == 'Rogelio Acuña Rodríguez':\n",
    "        firma_respon = docxtpl.InlineImage(doc, image_descriptor='templates/firma_rogelio.png', width=Mm(60))\n",
    "    else:\n",
    "        firma_respon = docxtpl.InlineImage(doc, image_descriptor='templates/firma_jaldin.png', width=Mm(60))\n",
    "    context = {'credito':credito, 'propiedades':propiedades, 'planos':lista_InlineImage, 'fotos':lista_fotos_inline, 'firma':firma_respon}\n",
    "    doc.render(context)\n",
    "    file_name = credito.canhero.replace(' / ', '_')\n",
    "    doc.save('_' + file_name + '.docx')"
   ]
  },
  {
   "cell_type": "code",
   "execution_count": 14,
   "id": "f90ffde3-b794-45c0-a48e-f69a592752af",
   "metadata": {},
   "outputs": [],
   "source": [
    "def generar_plano(propiedad, i):\n",
    "    lotes_lista = []\n",
    "    for lote in propiedad.lotes:\n",
    "        lotes_lista.append(lote._asdict())\n",
    "    df = pd.DataFrame(lotes_lista)\n",
    "    df['geometria'] = df['geometria'].apply(convertir_wkb)\n",
    "\n",
    "    #Convertir a GeoDataFrame\n",
    "    data = geopandas.GeoDataFrame(df, geometry='geometria')\n",
    "    #data\n",
    "    #ctx.add_basemap(ax, source=ctx.providers.Esri.WorldImagery)\n",
    "\n",
    "    data['coords'] = data['geometria'].apply(lambda x: x.representative_point().coords[:])\n",
    "    data['coords'] = [coords[0] for coords in data['coords']]\n",
    "\n",
    "    data.crs = \"EPSG:4326\"\n",
    "    data = data.to_crs(epsg=3857)\n",
    "\n",
    "    \n",
    "    fig = plt.figure(i, figsize=(20,20))\n",
    "    #fig = plt.figure(1)\n",
    "    ax = None\n",
    "    ax = fig.add_subplot()\n",
    "\n",
    "    #data.set_crs(epsg=4326, inplace=True)\n",
    "\n",
    "    data.apply(lambda x: ax.annotate(text=x.lote + ' \\n' + str(x.superficie) + ' ha', xy=x.geometria.centroid.coords[0], ha='center', va='center', color='black', fontsize=12, weight=1000, bbox=dict(facecolor=(1,1,1,0.3), edgecolor='none', pad=0)), axis=1);\n",
    "\n",
    "    #data.boundary.plot(ax=ax, color=(0,0,0,0), linewidth=0)\n",
    "\n",
    "    #data = data.to_crs(epsg=3857)\n",
    "\n",
    "    minx, miny, maxx, maxy = data.total_bounds\n",
    "    ax.set_xlim(minx - 500, maxx + 500)\n",
    "    ax.set_ylim(miny - 400, maxy + 400)\n",
    "\n",
    "    data.plot(ax=ax, edgecolor='r', facecolor=(0,0,0,0), linewidth=2, figsize=(20,20))\n",
    "    #data.plot(ax=ax, edgecolor='r', facecolor=(0,0,0,0), linewidth=2)\n",
    "    \n",
    "    ctx.add_basemap(ax, source=ctx.providers.Esri.WorldImagery)\n",
    "    ax.set_axis_off()\n",
    "    ax.set_title(str(propiedad.propiedad), fontsize=20)\n",
    "    ruta = 'planos/' + str(propiedad.amigo_id) + '.jpeg'\n",
    "    fig.savefig(ruta, dpi = 300, bbox_inches='tight')\n",
    "    plt.clf()\n",
    "    return ruta"
   ]
  },
  {
   "cell_type": "code",
   "execution_count": 15,
   "id": "e4cd18b4-2c5c-4d42-a40a-7f98bb6650d4",
   "metadata": {},
   "outputs": [],
   "source": [
    "semana = 'S04'\n",
    "query = {'query': 'select split_part(canhero, \\' / \\', 1) cod, split_part(canhero, \\' / \\', 2) nom from dataset_307560 where semana_1ra = \\'{sem}\\''.format(sem=semana)}\n",
    "project = 'https://app.amigocloud.com/api/v1/projects/32672/sql'\n",
    "select = amigocloud.get(project, query)\n",
    "data = select['data']"
   ]
  },
  {
   "cell_type": "code",
   "execution_count": 16,
   "id": "4cb06cb9-c4eb-42ca-acf9-6156d769042b",
   "metadata": {},
   "outputs": [
    {
     "data": {
      "text/plain": [
       "[{'cod': '8624', 'nom': 'MORENO TORRICO JOSE ALBERTO'},\n",
       " {'cod': '2794', 'nom': 'DELGADILLO RODRIGUEZ JUAN CARLOS'},\n",
       " {'cod': '842', 'nom': 'AGRODAR S.R.L.'},\n",
       " {'cod': '388', 'nom': 'AGROPECUARIA MARIANA S.R.L. '},\n",
       " {'cod': '11641', 'nom': 'ROJAS SANTISTEVAN JUAN MANUEL '},\n",
       " {'cod': '17683', 'nom': 'ROJAS MARINA SANTISTEVAN DE '},\n",
       " {'cod': '18358', 'nom': 'ROJAS AMELUNGE CARLOS '},\n",
       " {'cod': '1988', 'nom': 'CLAROS CADIMA JHONNY'},\n",
       " {'cod': '41534', 'nom': 'CAMPBELL MEDINA FERNANDO WALTER'}]"
      ]
     },
     "execution_count": 16,
     "metadata": {},
     "output_type": "execute_result"
    }
   ],
   "source": [
    "data"
   ]
  },
  {
   "cell_type": "code",
   "execution_count": 17,
   "id": "c9643d6a-4861-4ed3-b9ba-619aeaaeba46",
   "metadata": {},
   "outputs": [],
   "source": [
    "#lista = [1068, 18062, 10739, 41955, 2392, 15162, 2517, 8706, 15085, 430, 874, 5498, 2505, 2274]\n",
    "lista = [int(i['cod']) for i in data]"
   ]
  },
  {
   "cell_type": "code",
   "execution_count": 18,
   "id": "59340321-ace8-43b3-832b-75a531664da5",
   "metadata": {},
   "outputs": [
    {
     "data": {
      "text/plain": [
       "[8624, 2794, 842, 388, 11641, 17683, 18358, 1988, 41534]"
      ]
     },
     "execution_count": 18,
     "metadata": {},
     "output_type": "execute_result"
    }
   ],
   "source": [
    "lista"
   ]
  },
  {
   "cell_type": "code",
   "execution_count": 19,
   "id": "48d79f54-6869-432f-8076-3a928eff1753",
   "metadata": {},
   "outputs": [
    {
     "name": "stdout",
     "output_type": "stream",
     "text": [
      "L4.1.1 171b7ddae75d49e98c61874b2a3230f5\n",
      "L6 76e56056b8d241ffab4b1c3646178615\n",
      "====================== 8624\n",
      "L3.1 64491550453f4ef78ceb95c9f3a0d48e\n",
      "L7.1 5ecbe77d2a1c4ce89817f9e7bc6401e0\n",
      "L8 48b10daaf2be4b6ca827be444545a090\n",
      "L7.3 0c4f6b8b914249ea9a68fcbec3c17f8c\n",
      "====================== 2794\n",
      "L1 d0d808deb0a6408da1631c410dc80635\n",
      "L2.1 cee0e03450234655a2d727ee4395d1ee\n",
      "L1 e2bc6aca192f408ebb493fbca2a9bf3e\n",
      "L1.1 e84b4bb28aa2469b8c8a1a62b29035b2\n",
      "L2 81cf382662a54aa9831666e5a9e971a3\n",
      "L1 7494e98d69dd4f5baf2b0e6b1bfc33e6\n",
      "L2 5087cff5875a4f5b818c5f41f00195d9\n",
      "====================== 842\n",
      "L4 f72dd4beca874a9fa9eed993daf5bee6\n",
      "L6 461eaa14f36c4b17ac21704aa08ddad9\n",
      "L3.2 5109cb41127d427ba3c7790d2ca48f8c\n",
      "====================== 388\n",
      "L17 42c5b671ddda463cbcfc39f41461109d\n",
      "L18 f446c5e7f7004ff99f406664f3dcfea0\n",
      "====================== 11641\n",
      "L15.1 945a629eb8d544bfa4d54739d4b282b3\n",
      "====================== 17683\n",
      "L12.1 53e3d126bdef4e13a44fcdd1e9682864\n",
      "L13.1.2 3d092ee28a4e4740a4e9df84f452517f\n",
      "L1.2 561152cfa6944c0487440180fc590b7b\n",
      "L2.1 ca6d7bcb1241462084c9677937b18fda\n",
      "L13.3.1 51db102268b6456b9a858b04fa7a3c8c\n",
      "L9 3ec6f3179be54a5b8509b489a9159d02\n",
      "L30.1 973d996bfb914c8bb73bd9168a4bb985\n",
      "L30.1 9348720734694342856bed5a163861b8\n",
      "L30.8 f60bccb981454503b6f43aecfa43ee21\n",
      "L31.1 c93bc247f4e5418285ecbaca30b054a1\n",
      "L28.2 9242a6bbfabf43189ccd17eb7b342f74\n",
      "L6.2.1 197589c5cb5048b18296075cb70f842a\n",
      "L10.1 64585286c98e4ee0aa145eb241f4991a\n",
      "L8 6239846f0d24470aa2c88a608823178e\n",
      "L5.2 c693d5ffcdf54349b0d665787dc382f9\n",
      "L12 c1aa11a8377546e983887a87b16640b2\n",
      "====================== 18358\n",
      "L7.3 a60e4430254f44799a38f38669a7a976\n",
      "L5 ce13e4edebfd48a38d499ab210e07415\n",
      "L4.10 2bf434455e4a4d508eedbea202f09f39\n",
      "L7.4 4953b626b61e4f9cbc2d4f808f47fae6\n",
      "L7.1 476b75f45cc74ec5b95e2cffd7c34399\n",
      "L6 4a0eed4a769349c1906ce28244b27999\n",
      "L7.5 f538ccc8293e4ae699d8167d78283130\n",
      "L4.11 feeacbaa511b489a99948dd7f0894034\n",
      "L4.12 7174d1f0a4a046b3993f9534b7a2eaa1\n",
      "L4.13 edaeae90aea349bea3fb682dcd602760\n",
      "====================== 1988\n",
      "L8 d86a4b4da1f147358d09485901b54b7f\n",
      "L6.2 a49fee1bda90451cbb05b83b39abdd42\n",
      "L10 da23f586da0c4f2a8d6c24b5b91f7126\n",
      "L2.5 fcb47ae9204844f985e2eb0ceea57037\n",
      "M4.1 84afa9dcba3347e289584b30b335f703\n",
      "M8.2 bec20722b8de47038422f8d5d7d61f89\n",
      "A2 6df7302be7994ac69d53e12cdb83635d\n",
      "L10 16c2109c64ed4a02abc65b3617fc57dc\n",
      "F18.2 3f36ff888fad4948bd2ef618dc6ee843\n",
      "F18.1 d55173d66a104bf9a48bc2b4bde84822\n",
      "F19 73860124060f4c8592ac16175805ef96\n",
      "F17 032afbc9355d4f0f864ad720891a79dc\n",
      "A4.1 967b1700eb2a45e8af0b58d0572c971a\n",
      "M1.1 9392a2b540fe4d1aa7356c987ab870d9\n",
      "M1.2 188d1fb2ce924bab8e7ace8f0d3b2895\n",
      "M8.1 91897e0beb0846058bcb969f136a8f03\n",
      "F1.1 2bae4f36f97041c39836e562b0ddd496\n",
      "F1.2 165d9786d11f43038dea8ddb56fdc4d9\n",
      "====================== 41534\n"
     ]
    },
    {
     "data": {
      "text/plain": [
       "<Figure size 1440x1440 with 0 Axes>"
      ]
     },
     "metadata": {},
     "output_type": "display_data"
    },
    {
     "data": {
      "text/plain": [
       "<Figure size 1440x1440 with 0 Axes>"
      ]
     },
     "metadata": {},
     "output_type": "display_data"
    },
    {
     "data": {
      "text/plain": [
       "<Figure size 1440x1440 with 0 Axes>"
      ]
     },
     "metadata": {},
     "output_type": "display_data"
    },
    {
     "data": {
      "text/plain": [
       "<Figure size 1440x1440 with 0 Axes>"
      ]
     },
     "metadata": {},
     "output_type": "display_data"
    },
    {
     "data": {
      "text/plain": [
       "<Figure size 1440x1440 with 0 Axes>"
      ]
     },
     "metadata": {},
     "output_type": "display_data"
    }
   ],
   "source": [
    "for i in lista:\n",
    "    generar_reporte(i)\n",
    "    print('======================', i)"
   ]
  }
 ],
 "metadata": {
  "kernelspec": {
   "display_name": "Python 3 (ipykernel)",
   "language": "python",
   "name": "python3"
  },
  "language_info": {
   "codemirror_mode": {
    "name": "ipython",
    "version": 3
   },
   "file_extension": ".py",
   "mimetype": "text/x-python",
   "name": "python",
   "nbconvert_exporter": "python",
   "pygments_lexer": "ipython3",
   "version": "3.7.11"
  }
 },
 "nbformat": 4,
 "nbformat_minor": 5
}
