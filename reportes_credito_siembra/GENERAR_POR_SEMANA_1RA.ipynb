{
 "cells": [
  {
   "cell_type": "code",
   "execution_count": 13,
   "id": "6658e010-c382-4e03-a45a-67c832b35ef9",
   "metadata": {},
   "outputs": [],
   "source": [
    "# werkzeug\n",
    "# shapely=1.7.1\n",
    "# geopandas\n",
    "# pandas\n",
    "# contextily\n",
    "# matplotlib\n",
    "# docxtpl\n",
    "# docx"
   ]
  },
  {
   "cell_type": "code",
   "execution_count": 1,
   "id": "665919a4-6184-4280-8c4c-64588f9131d6",
   "metadata": {},
   "outputs": [
    {
     "name": "stderr",
     "output_type": "stream",
     "text": [
      "C:\\Users\\Bismar\\.conda\\envs\\utea_reportes\\lib\\importlib\\_bootstrap.py:219: RuntimeWarning: greenlet.greenlet size changed, may indicate binary incompatibility. Expected 144 from C header, got 152 from PyObject\n",
      "  return f(*args, **kwds)\n",
      "C:\\Users\\Bismar\\.conda\\envs\\utea_reportes\\lib\\importlib\\_bootstrap.py:219: RuntimeWarning: greenlet.greenlet size changed, may indicate binary incompatibility. Expected 144 from C header, got 152 from PyObject\n",
      "  return f(*args, **kwds)\n",
      "C:\\Users\\Bismar\\.conda\\envs\\utea_reportes\\lib\\importlib\\_bootstrap.py:219: RuntimeWarning: greenlet.greenlet size changed, may indicate binary incompatibility. Expected 144 from C header, got 152 from PyObject\n",
      "  return f(*args, **kwds)\n",
      "C:\\Users\\Bismar\\.conda\\envs\\utea_reportes\\lib\\importlib\\_bootstrap.py:219: RuntimeWarning: greenlet.greenlet size changed, may indicate binary incompatibility. Expected 144 from C header, got 152 from PyObject\n",
      "  return f(*args, **kwds)\n"
     ]
    }
   ],
   "source": [
    "from werkzeug.wrappers import Request, Response\n",
    "from jinja2 import Template\n",
    "\n",
    "from datetime import datetime, timedelta\n",
    "\n",
    "import collections\n",
    "from amigocloud import AmigoCloud\n",
    "\n",
    "from datetime import datetime\n",
    "\n",
    "from shapely import wkb\n",
    "import geopandas\n",
    "import pandas as pd\n",
    "import contextily as ctx\n",
    "import matplotlib.pyplot as plt\n",
    "\n",
    "from docxtpl import DocxTemplate\n",
    "import docxtpl\n",
    "from docx.shared import Mm\n",
    "import requests\n",
    "\n",
    "def convertir_wkb(wkb_data):\n",
    "    return wkb.loads(wkb_data, hex=True)[0]"
   ]
  },
  {
   "cell_type": "code",
   "execution_count": 2,
   "id": "f78ec737-093c-44bb-a782-1af54be4a65f",
   "metadata": {},
   "outputs": [
    {
     "data": {
      "text/plain": [
       "<amigocloud.amigocloud.AmigoCloud at 0x258b4b62d48>"
      ]
     },
     "execution_count": 2,
     "metadata": {},
     "output_type": "execute_result"
    }
   ],
   "source": [
    "# CONECTAR A AMIGOCLOUD\n",
    "acceso = open('../api_key/api.key','r')\n",
    "api_token = acceso.readlines()[0]\n",
    "acceso.close()\n",
    "amigocloud = AmigoCloud(token=api_token)\n",
    "amigocloud"
   ]
  },
  {
   "cell_type": "code",
   "execution_count": 3,
   "id": "671335c0-f848-4ced-9199-d1000c19c39b",
   "metadata": {},
   "outputs": [],
   "source": [
    "def generar_reporte(codigo_canhero):\n",
    "    # EXTRAER DATOS DE CREDITO\n",
    "    query_credito = {'query': 'select * from dataset_307560 where cast(SPLIT_PART(canhero, \\'/\\', 1) as integer) = {cod_ca}'.format(cod_ca=codigo_canhero)}\n",
    "    credito_select = amigocloud.get('https://app.amigocloud.com/api/v1/projects/32672/sql', query_credito)\n",
    "    credito_data = credito_select['data'][0]\n",
    "    credito_data['fecha_informe'] = (datetime.strptime(credito_data['fecha_1ra_insp'].split(' ')[0], '%Y-%m-%d') + timedelta(days=1)).strftime('%d/%m/%Y')\n",
    "    credito_data['fecha_1ra_insp'] = datetime.strptime(credito_data['fecha_1ra_insp'].split(' ')[0], '%Y-%m-%d').strftime('%d/%m/%Y')\n",
    "    credito = collections.namedtuple(\"credito\", credito_data.keys())(*credito_data.values())\n",
    "\n",
    "    # EXTRAER DATOS DE PROPIEDADES\n",
    "    query_propiedades = {'query': 'select * from dataset_307562 where insp_ref_prop = \\'{insp_ref_prop}\\''.format(insp_ref_prop=credito.amigo_id)}\n",
    "    propiedades_select = amigocloud.get('https://app.amigocloud.com/api/v1/projects/32672/sql', query_propiedades)\n",
    "    propiedades_data = propiedades_select['data']\n",
    "\n",
    "    # EXTRAER DATOS DE LOTES\n",
    "    propiedades = []\n",
    "    for prop in propiedades_data:\n",
    "        prop['lotes'] = []\n",
    "        query_lotes = {'query': 'select * from dataset_307563 where prop_ref_lote=\\'{prop_ref_lote}\\''.format(prop_ref_lote=prop['amigo_id'])}\n",
    "        lotes_select = amigocloud.get('https://app.amigocloud.com/api/v1/projects/32672/sql', query_lotes)\n",
    "        for lote_select in lotes_select['data']:\n",
    "            lote = collections.namedtuple(\"lote\", lote_select.keys())(*lote_select.values())\n",
    "            prop['lotes'].append(lote)\n",
    "        propiedades.append(collections.namedtuple(\"propiedad\", prop.keys())(*prop.values()))\n",
    "\n",
    "    # EXTRAER FOTOS\n",
    "    fotos = []\n",
    "    for propiedad in propiedades:\n",
    "        for lote in propiedad.lotes:\n",
    "            print(lote.lote, lote.amigo_id)\n",
    "            query_fotos = {'query': 'select source_amigo_id, s3_filename from gallery_46845 where source_amigo_id=\\'{source_amigo_id}\\''.format(source_amigo_id=lote.amigo_id)}\n",
    "            fotos_filename = amigocloud.get('https://app.amigocloud.com/api/v1/projects/32672/sql', query_fotos)\n",
    "            if fotos_filename['data'] != []:\n",
    "                dic = {'lote': lote.lote, 'file_name': fotos_filename['data'][0]['s3_filename']}\n",
    "                fotos.append(dic)\n",
    "\n",
    "    # GENERERAR PLANOS\n",
    "    i = 0\n",
    "    lista_planos = []\n",
    "    for propiedad in propiedades:\n",
    "        i = i + 1\n",
    "        lista_planos.append(generar_plano(propiedad, i))\n",
    "\n",
    "\n",
    "    # GENERAR REPORTE\n",
    "    doc = DocxTemplate(\"templates/template_word_1ra.docx\")\n",
    "    #generar lista de InlineImage de planos \n",
    "    lista_InlineImage = []\n",
    "    for plano in lista_planos:\n",
    "        lista_InlineImage.append(docxtpl.InlineImage(doc, image_descriptor=plano, width=Mm(150)))\n",
    "    #descargar fotos y generar lista InlineImage\n",
    "    lista_fotos_inline = []\n",
    "    for foto in fotos:\n",
    "        #response = requests.get(\"https://www-amigocloud.s3.amazonaws.com/gallery/\" + foto['file_name'])\n",
    "        response = requests.get(\"https://www-amigocloud.s3.amazonaws.com/gallery/\" + foto['file_name'])\n",
    "        file = open('fotos/' + foto['file_name'], \"wb\")\n",
    "        file.write(response.content)\n",
    "        file.close()\n",
    "        lista_fotos_inline.append({'foto': docxtpl.InlineImage(doc, image_descriptor='fotos/' + foto['file_name'], width=Mm(120)), 'lote': foto['lote']})\n",
    "    firma_respon = None\n",
    "    if credito.respon_1ra_insp == 'Rogelio Acuña Rodríguez':\n",
    "        firma_respon = docxtpl.InlineImage(doc, image_descriptor='templates/firma_rogelio.png', width=Mm(60))\n",
    "    else:\n",
    "        firma_respon = docxtpl.InlineImage(doc, image_descriptor='templates/firma_jaldin.png', width=Mm(60))\n",
    "    context = {'credito':credito, 'propiedades':propiedades, 'planos':lista_InlineImage, 'fotos':lista_fotos_inline, 'firma':firma_respon}\n",
    "    doc.render(context)\n",
    "    file_name = credito.canhero.replace(' / ', '_')\n",
    "    doc.save('_' + file_name + '.docx')"
   ]
  },
  {
   "cell_type": "code",
   "execution_count": 4,
   "id": "f90ffde3-b794-45c0-a48e-f69a592752af",
   "metadata": {},
   "outputs": [],
   "source": [
    "def generar_plano(propiedad, i):\n",
    "    lotes_lista = []\n",
    "    for lote in propiedad.lotes:\n",
    "        lotes_lista.append(lote._asdict())\n",
    "    df = pd.DataFrame(lotes_lista)\n",
    "    df['geometria'] = df['geometria'].apply(convertir_wkb)\n",
    "\n",
    "    #Convertir a GeoDataFrame\n",
    "    data = geopandas.GeoDataFrame(df, geometry='geometria')\n",
    "    #data\n",
    "    #ctx.add_basemap(ax, source=ctx.providers.Esri.WorldImagery)\n",
    "\n",
    "    data['coords'] = data['geometria'].apply(lambda x: x.representative_point().coords[:])\n",
    "    data['coords'] = [coords[0] for coords in data['coords']]\n",
    "\n",
    "    data.crs = \"EPSG:4326\"\n",
    "    data = data.to_crs(epsg=3857)\n",
    "\n",
    "    \n",
    "    fig = plt.figure(i, figsize=(20,20))\n",
    "    #fig = plt.figure(1)\n",
    "    ax = None\n",
    "    ax = fig.add_subplot()\n",
    "\n",
    "    #data.set_crs(epsg=4326, inplace=True)\n",
    "\n",
    "    data.apply(lambda x: ax.annotate(text=x.lote + ' \\n' + str(x.superficie) + ' ha', xy=x.geometria.centroid.coords[0], ha='center', va='center', color='black', fontsize=12, weight=1000, bbox=dict(facecolor=(1,1,1,0.3), edgecolor='none', pad=0)), axis=1);\n",
    "\n",
    "    #data.boundary.plot(ax=ax, color=(0,0,0,0), linewidth=0)\n",
    "\n",
    "    #data = data.to_crs(epsg=3857)\n",
    "\n",
    "    minx, miny, maxx, maxy = data.total_bounds\n",
    "    ax.set_xlim(minx - 500, maxx + 500)\n",
    "    ax.set_ylim(miny - 400, maxy + 400)\n",
    "\n",
    "    data.plot(ax=ax, edgecolor='r', facecolor=(0,0,0,0), linewidth=2, figsize=(20,20))\n",
    "    #data.plot(ax=ax, edgecolor='r', facecolor=(0,0,0,0), linewidth=2)\n",
    "    \n",
    "    ctx.add_basemap(ax, source=ctx.providers.Esri.WorldImagery)\n",
    "    ax.set_axis_off()\n",
    "    ax.set_title(str(propiedad.propiedad), fontsize=20)\n",
    "    ruta = 'planos/' + str(propiedad.amigo_id) + '.jpeg'\n",
    "    fig.savefig(ruta, dpi = 300, bbox_inches='tight')\n",
    "    plt.clf()\n",
    "    return ruta"
   ]
  },
  {
   "cell_type": "code",
   "execution_count": 5,
   "id": "e4cd18b4-2c5c-4d42-a40a-7f98bb6650d4",
   "metadata": {},
   "outputs": [],
   "source": [
    "semana = 'S07'\n",
    "query = {'query': 'select split_part(canhero, \\' / \\', 1) cod, split_part(canhero, \\' / \\', 2) nom from dataset_307560 where semana_1ra = \\'{sem}\\''.format(sem=semana)}\n",
    "project = 'https://app.amigocloud.com/api/v1/projects/32672/sql'\n",
    "select = amigocloud.get(project, query)\n",
    "data = select['data']"
   ]
  },
  {
   "cell_type": "code",
   "execution_count": 11,
   "id": "4cb06cb9-c4eb-42ca-acf9-6156d769042b",
   "metadata": {},
   "outputs": [
    {
     "data": {
      "text/plain": [
       "[{'cod': '42164', 'nom': 'GUTIERREZ ROJAS ALEXANDER'},\n",
       " {'cod': '40144', 'nom': 'RIVERO AGUAYO FRANCISCO '},\n",
       " {'cod': '7494', 'nom': 'LINARES S. AIDEE'},\n",
       " {'cod': '18028', 'nom': 'RIVERO GUTIERREZ FRANCISCO'},\n",
       " {'cod': '41821', 'nom': 'AGROMETALDIBRI S.R.L.'},\n",
       " {'cod': '2565', 'nom': 'CANDIA RUIZ JOSE LUIS'},\n",
       " {'cod': '5385', 'nom': 'HUANCA CANO MARIA '},\n",
       " {'cod': '9722', 'nom': 'OLGUIN FLORES MIGUELINA '},\n",
       " {'cod': '41544', 'nom': 'AMURRIO TAPIA JOSE LUIS'},\n",
       " {'cod': '41823', 'nom': 'VARGAS MAMANI JOSUE'},\n",
       " {'cod': '8028', 'nom': 'ZABALA GARRIDO MARCELO'},\n",
       " {'cod': '1218', 'nom': 'BALCAZAR ALCANTARA JOSE LOLY'},\n",
       " {'cod': '446', 'nom': 'AGUILERA ANEZ JHONNY'},\n",
       " {'cod': '40256', 'nom': 'INSERVA DAMIANA S.R.L.'},\n",
       " {'cod': '42025', 'nom': 'TRUJILLO CONDORI JAIME '},\n",
       " {'cod': '5345', 'nom': 'HUANCA SUAREZ EDGAR '},\n",
       " {'cod': '8140', 'nom': 'MASAI CHAVEZ SIRLE YOBANA '},\n",
       " {'cod': '765', 'nom': 'AGROP. CATALA S.R.L.'},\n",
       " {'cod': '41546', 'nom': 'CASANOVA BASTOS PEDRO RAMIRO'},\n",
       " {'cod': '11227', 'nom': 'QUIROZ OLGUIN DENICE'},\n",
       " {'cod': '41554', 'nom': 'LEDEZMA SALAZAR RICHARD JIMMY'}]"
      ]
     },
     "execution_count": 11,
     "metadata": {},
     "output_type": "execute_result"
    }
   ],
   "source": [
    "data"
   ]
  },
  {
   "cell_type": "code",
   "execution_count": 12,
   "id": "c9643d6a-4861-4ed3-b9ba-619aeaaeba46",
   "metadata": {},
   "outputs": [],
   "source": [
    "#lista = [1068, 18062, 10739, 41955, 2392, 15162, 2517, 8706, 15085, 430, 874, 5498, 2505, 2274]\n",
    "lista = [int(i['cod']) for i in data]"
   ]
  },
  {
   "cell_type": "code",
   "execution_count": 13,
   "id": "59340321-ace8-43b3-832b-75a531664da5",
   "metadata": {},
   "outputs": [
    {
     "name": "stdout",
     "output_type": "stream",
     "text": [
      "21 informes\n"
     ]
    }
   ],
   "source": [
    "print(len(lista), 'informes')"
   ]
  },
  {
   "cell_type": "code",
   "execution_count": 14,
   "id": "c823801e-734b-440e-81b2-896d42fe4c6e",
   "metadata": {},
   "outputs": [
    {
     "data": {
      "text/plain": [
       "[42164,\n",
       " 40144,\n",
       " 7494,\n",
       " 18028,\n",
       " 41821,\n",
       " 2565,\n",
       " 5385,\n",
       " 9722,\n",
       " 41544,\n",
       " 41823,\n",
       " 8028,\n",
       " 1218,\n",
       " 446,\n",
       " 40256,\n",
       " 42025,\n",
       " 5345,\n",
       " 8140,\n",
       " 765,\n",
       " 41546,\n",
       " 11227,\n",
       " 41554]"
      ]
     },
     "execution_count": 14,
     "metadata": {},
     "output_type": "execute_result"
    }
   ],
   "source": [
    "lista "
   ]
  },
  {
   "cell_type": "code",
   "execution_count": 15,
   "id": "48d79f54-6869-432f-8076-3a928eff1753",
   "metadata": {},
   "outputs": [
    {
     "name": "stdout",
     "output_type": "stream",
     "text": [
      "L1 5241404dbe9f45b08d1cc3899eb54076\n",
      "====================== 42164\n",
      "L1.1 2e9425d108a4407da4dd82434a483694\n",
      "====================== 40144\n",
      "L5 7f528d432da7437599777cfdb8d5878f\n",
      "L18.3 250705a3e18c4041bc70d75d4e959ef2\n",
      "L18.2 c50416f03efa4f339f7b72964ff30b43\n",
      "====================== 7494\n",
      "L5 dced4c088fee41ebad142d5df600b103\n",
      "L1.2 35206a63a45f407cb9ed860e9efdd7d8\n",
      "====================== 18028\n",
      "L1 3bcc76d194d542aabbbe7994ad84b0f8\n",
      "====================== 41821\n",
      "L9 c13ecb5ebcbf4462b5b956cc133de4ff\n",
      "L8 20221412696c43acba562ab2bf67cdad\n",
      "L7.2 9db1c9bf9844457293faf5c8c8f8b360\n",
      "L4.1 0f4d5153045f4ee386e1e880ab0034d5\n",
      "L5.2 028512cee20341b88b607ef044edabbb\n",
      "====================== 2565\n",
      "L1.2 0ba7687fbcb94af69e5d0bdbded1b4ad\n",
      "L1.2 08d1423c2e3e4bdea7562e072de25200\n",
      "L2.3 7cef00000dac434aaf29ce9fa61c55b4\n",
      "====================== 5385\n",
      "L1 99eef9b868564a698e53241737719cee\n",
      "L5 9da70bf95b3f47aeb6254c2805c30d35\n",
      "L6 f5790f35656044dd95225094e315d681\n",
      "L1.2 8ba654351744495187a44c5e3dc0c0b6\n",
      "====================== 9722\n",
      "L1 4ccb25aba50c4b56a24c7c4e5e276ddc\n",
      "====================== 41544\n",
      "L19 bc3b6161792146cb83cca9be258b7804\n",
      "L8.1 7d8c9e73276148639903a17d08b75b4e\n",
      "L11 afd68441897246c49095a2aafde23ad5\n",
      "L1 419faff2322e4a36a97a521d4a205d94\n",
      "====================== 41823\n",
      "L1 7fcb815a7aa344c6bf3e731015f44811\n",
      "====================== 8028\n",
      "L7.1 c0ca6c65a0b94c8194d7d544864544fa\n",
      "L13 c144f528065945d89ac39118c4520dc0\n",
      "L4 3ec3cae8b387433db88c5d3a758f118e\n",
      "L5.2 a9d29cc46f17430f893240726c966d64\n",
      "====================== 1218\n",
      "L3 f16761aedbd347e3975b63142dac1362\n",
      "L13 3ef6ac8a46c9400abefa10f729e872e8\n",
      "L14.3 b33bd293439a4d638c7d95700b9b0bac\n",
      "L8.1 27589ed74403403bad9a2245ffa6659c\n",
      "L4 b9ad647b76554123bb6b7c2fdaf1014e\n",
      "L5 c7690d871a184978b0cc0448e8a3aa2b\n",
      "L16.2 dcb47f335204497281618b8c308742b5\n",
      "L7.1 aadcea301ce146dd8ab7e14930a8ba3a\n",
      "L9.3.1 9630079d07304d6fb98de87279b30ac1\n",
      "L5.2 5c36062aef614850a63c70f9a93e0516\n",
      "L1 2199529dee6e4621887e45a7d665cfec\n",
      "====================== 446\n",
      "L6.2 eac4e6d7b5b84fe893dda3f74202f8e5\n",
      "L1.1 ea97066e58c443678c0837e7a937ddc3\n",
      "L20.2 f8c5942935204c248f99548520b458f9\n",
      "L7 d9119e4c3b374a52af1fa7268cc20bf5\n",
      "L8.2 4b458fbfb8f9459fa4c1e185565ea2d0\n",
      "L19 7a092471510c4392804197e430d81b7d\n",
      "L6.1 7d8ab8bde81146829c424bac7f2956a6\n",
      "L14 69acbab4b5d349c4a5b011fc53122bdb\n",
      "L17.4 d8e621d6be0546e8a2f106211846ec73\n",
      "====================== 40256\n",
      "L2 c1bea7feaa1e41c88b92542635b52a69\n",
      "L5 54ec33bfcfcf4b3ea5471d14f4dc3dcb\n",
      "====================== 42025\n",
      "L4.2.1 70f1a188ee2e49859cf5ebd71f364efc\n",
      "====================== 5345\n",
      "L4.2.2 d213148c17b64356ab55ca9a574aa8ca\n",
      "L1.2 8e88df921bc24bc08bb02c3867fbfa49\n",
      "====================== 8140\n",
      "L16.3.1 6d0f064cc49f4c13a1f231a56608893b\n",
      "L13.1 f4ee58bba4ce450495a807b18f0d1dff\n",
      "L22.2 c39b56434f77446b8ec626837598b3a6\n",
      "L25 392fd267aa7f49b98ab91f3ed230e58f\n",
      "L7 120cddd7e74241cd9ed07dccdbbff05d\n",
      "L28.3 34f63339e12a4fee9cee4698d16e77f8\n",
      "L15.1 2f8d7adb804443ebb2e714317f8f3a34\n",
      "L9 16d86fc9dcb34e82a7f7667dad9f66aa\n",
      "L21.3 2417f4bd68de47348df7b8cca508ace7\n",
      "L19.2 721a18598e414fc386238e4268c8e583\n",
      "L13.3 6f51a9915e6f4886bb7e3da83061ea4a\n",
      "L3 bdcf275d14f646328f96a9b7af19f6b3\n",
      "L1 10b43db357d04b41abf5616f5cd5d5d3\n",
      "L5.7 ca38a24662634d14bf759e890bf7456a\n",
      "L6 87acbd88cb654bbc87bf47355961ed47\n",
      "L2 763094cd699743178f7704e0838eb891\n",
      "====================== 765\n",
      "L8.1 05c49083b8554f959254a80dce95c960\n",
      "====================== 41546\n",
      "L1 ec1afe10d2544779a6a5cb2391a10304\n",
      "L4 d0968d48567743dda7dbb2231e2c9bc2\n",
      "L2.1 4906259a5149492fbe433cefe7b2448a\n",
      "L2.4 cdddd2b32c2a4f999c24d61b5f67f5f0\n",
      "L3 d0fd2cf95a6c43d8b74d4f2515e17e42\n",
      "====================== 11227\n",
      "L3 87dec22b7a6044e0967b442bb3f72ec3\n",
      "====================== 41554\n"
     ]
    },
    {
     "data": {
      "text/plain": [
       "<Figure size 1440x1440 with 0 Axes>"
      ]
     },
     "metadata": {},
     "output_type": "display_data"
    },
    {
     "data": {
      "text/plain": [
       "<Figure size 1440x1440 with 0 Axes>"
      ]
     },
     "metadata": {},
     "output_type": "display_data"
    },
    {
     "data": {
      "text/plain": [
       "<Figure size 1440x1440 with 0 Axes>"
      ]
     },
     "metadata": {},
     "output_type": "display_data"
    }
   ],
   "source": [
    "for i in lista:\n",
    "    generar_reporte(i)\n",
    "    print('======================', i)"
   ]
  }
 ],
 "metadata": {
  "kernelspec": {
   "display_name": "Python 3 (ipykernel)",
   "language": "python",
   "name": "python3"
  },
  "language_info": {
   "codemirror_mode": {
    "name": "ipython",
    "version": 3
   },
   "file_extension": ".py",
   "mimetype": "text/x-python",
   "name": "python",
   "nbconvert_exporter": "python",
   "pygments_lexer": "ipython3",
   "version": "3.7.16"
  }
 },
 "nbformat": 4,
 "nbformat_minor": 5
}
