{
 "cells": [
  {
   "cell_type": "code",
   "execution_count": 3,
   "id": "665919a4-6184-4280-8c4c-64588f9131d6",
   "metadata": {},
   "outputs": [],
   "source": [
    "from werkzeug.wrappers import Request, Response\n",
    "#from flask import Flask, render_template\n",
    "from jinja2 import Template\n",
    "\n",
    "#from datetime import date\n",
    "from datetime import datetime, timedelta\n",
    "\n",
    "import collections\n",
    "from amigocloud import AmigoCloud\n",
    "\n",
    "from datetime import datetime\n",
    "\n",
    "from shapely import wkb\n",
    "import geopandas\n",
    "import pandas as pd\n",
    "import contextily as ctx\n",
    "import matplotlib.pyplot as plt\n",
    "\n",
    "from docxtpl import DocxTemplate\n",
    "import docxtpl\n",
    "from docx.shared import Mm\n",
    "import requests\n",
    "\n",
    "def convertir_wkb(wkb_data):\n",
    "    return wkb.loads(wkb_data, hex=True)[0]"
   ]
  },
  {
   "cell_type": "code",
   "execution_count": 5,
   "id": "f78ec737-093c-44bb-a782-1af54be4a65f",
   "metadata": {},
   "outputs": [
    {
     "name": "stderr",
     "output_type": "stream",
     "text": [
      "WARNING:socketIO-client:app.amigocloud.com:443/v2_socket.io/socket.io [connection error] recv disconnected ([Errno 2] No such file or directory)\n"
     ]
    },
    {
     "data": {
      "text/plain": [
       "<amigocloud.amigocloud.AmigoCloud at 0x202a03e94c8>"
      ]
     },
     "execution_count": 5,
     "metadata": {},
     "output_type": "execute_result"
    }
   ],
   "source": [
    "# CONECTAR A AMIGOCLOUD\n",
    "acceso = open('../api_key/api.key','r')\n",
    "api_token = acceso.readlines()[0]\n",
    "acceso.close()\n",
    "amigocloud = AmigoCloud(token=api_token)\n",
    "amigocloud"
   ]
  },
  {
   "cell_type": "code",
   "execution_count": 6,
   "id": "671335c0-f848-4ced-9199-d1000c19c39b",
   "metadata": {},
   "outputs": [],
   "source": [
    "def generar_reporte(codigo_canhero):\n",
    "    # EXTRAER DATOS DE CREDITO\n",
    "    query_credito = {'query': 'select * from dataset_307560 where cast(SPLIT_PART(canhero, \\'/\\', 1) as integer) = {cod_ca}'.format(cod_ca=codigo_canhero)}\n",
    "    credito_select = amigocloud.get('https://app.amigocloud.com/api/v1/projects/32672/sql', query_credito)\n",
    "    credito_data = credito_select['data'][0]\n",
    "    credito_data['fecha_informe'] = (datetime.strptime(credito_data['fecha_1ra_insp'].split(' ')[0], '%Y-%m-%d') + timedelta(days=1)).strftime('%d/%m/%Y')\n",
    "    credito_data['fecha_1ra_insp'] = datetime.strptime(credito_data['fecha_1ra_insp'].split(' ')[0], '%Y-%m-%d').strftime('%d/%m/%Y')\n",
    "    credito = collections.namedtuple(\"credito\", credito_data.keys())(*credito_data.values())\n",
    "\n",
    "    # EXTRAER DATOS DE PROPIEDADES\n",
    "    query_propiedades = {'query': 'select * from dataset_307562 where insp_ref_prop = \\'{insp_ref_prop}\\''.format(insp_ref_prop=credito.amigo_id)}\n",
    "    propiedades_select = amigocloud.get('https://app.amigocloud.com/api/v1/projects/32672/sql', query_propiedades)\n",
    "    propiedades_data = propiedades_select['data']\n",
    "\n",
    "    # EXTRAER DATOS DE LOTES\n",
    "    propiedades = []\n",
    "    for prop in propiedades_data:\n",
    "        prop['lotes'] = []\n",
    "        query_lotes = {'query': 'select * from dataset_307563 where prop_ref_lote=\\'{prop_ref_lote}\\''.format(prop_ref_lote=prop['amigo_id'])}\n",
    "        lotes_select = amigocloud.get('https://app.amigocloud.com/api/v1/projects/32672/sql', query_lotes)\n",
    "        for lote_select in lotes_select['data']:\n",
    "            lote = collections.namedtuple(\"lote\", lote_select.keys())(*lote_select.values())\n",
    "            prop['lotes'].append(lote)\n",
    "        propiedades.append(collections.namedtuple(\"propiedad\", prop.keys())(*prop.values()))\n",
    "\n",
    "    # EXTRAER FOTOS\n",
    "    fotos = []\n",
    "    for propiedad in propiedades:\n",
    "        for lote in propiedad.lotes:\n",
    "            print(lote.lote, lote.amigo_id)\n",
    "            query_fotos = {'query': 'select source_amigo_id, s3_filename from gallery_46845 where source_amigo_id=\\'{source_amigo_id}\\''.format(source_amigo_id=lote.amigo_id)}\n",
    "            fotos_filename = amigocloud.get('https://app.amigocloud.com/api/v1/projects/32672/sql', query_fotos)\n",
    "            if fotos_filename['data'] != []:\n",
    "                dic = {'lote': lote.lote, 'file_name': fotos_filename['data'][0]['s3_filename']}\n",
    "                fotos.append(dic)\n",
    "\n",
    "    # GENERERAR PLANOS\n",
    "    i = 0\n",
    "    lista_planos = []\n",
    "    for propiedad in propiedades:\n",
    "        i = i + 1\n",
    "        lista_planos.append(generar_plano(propiedad, i))\n",
    "\n",
    "\n",
    "    # GENERAR REPORTE\n",
    "    doc = DocxTemplate(\"templates/template_word_1ra.docx\")\n",
    "    #generar lista de InlineImage de planos \n",
    "    lista_InlineImage = []\n",
    "    for plano in lista_planos:\n",
    "        lista_InlineImage.append(docxtpl.InlineImage(doc, image_descriptor=plano, width=Mm(150)))\n",
    "    #descargar fotos y generar lista InlineImage\n",
    "    lista_fotos_inline = []\n",
    "    for foto in fotos:\n",
    "        #response = requests.get(\"https://www-amigocloud.s3.amazonaws.com/gallery/\" + foto['file_name'])\n",
    "        response = requests.get(\"https://www-amigocloud.s3.amazonaws.com/gallery/\" + foto['file_name'])\n",
    "        file = open('fotos/' + foto['file_name'], \"wb\")\n",
    "        file.write(response.content)\n",
    "        file.close()\n",
    "        lista_fotos_inline.append({'foto': docxtpl.InlineImage(doc, image_descriptor='fotos/' + foto['file_name'], width=Mm(120)), 'lote': foto['lote']})\n",
    "    firma_respon = None\n",
    "    if credito.respon_1ra_insp == 'Rogelio Acuña Rodríguez':\n",
    "        firma_respon = docxtpl.InlineImage(doc, image_descriptor='templates/firma_rogelio.png', width=Mm(60))\n",
    "    else:\n",
    "        firma_respon = docxtpl.InlineImage(doc, image_descriptor='templates/firma_jaldin.png', width=Mm(60))\n",
    "    context = {'credito':credito, 'propiedades':propiedades, 'planos':lista_InlineImage, 'fotos':lista_fotos_inline, 'firma':firma_respon}\n",
    "    doc.render(context)\n",
    "    file_name = credito.canhero.replace(' / ', '_')\n",
    "    doc.save('_' + file_name + '.docx')"
   ]
  },
  {
   "cell_type": "code",
   "execution_count": 7,
   "id": "f90ffde3-b794-45c0-a48e-f69a592752af",
   "metadata": {},
   "outputs": [],
   "source": [
    "def generar_plano(propiedad, i):\n",
    "    lotes_lista = []\n",
    "    for lote in propiedad.lotes:\n",
    "        lotes_lista.append(lote._asdict())\n",
    "    df = pd.DataFrame(lotes_lista)\n",
    "    df['geometria'] = df['geometria'].apply(convertir_wkb)\n",
    "\n",
    "    #Convertir a GeoDataFrame\n",
    "    data = geopandas.GeoDataFrame(df, geometry='geometria')\n",
    "    #data\n",
    "    #ctx.add_basemap(ax, source=ctx.providers.Esri.WorldImagery)\n",
    "\n",
    "    data['coords'] = data['geometria'].apply(lambda x: x.representative_point().coords[:])\n",
    "    data['coords'] = [coords[0] for coords in data['coords']]\n",
    "\n",
    "    data.crs = \"EPSG:4326\"\n",
    "    data = data.to_crs(epsg=3857)\n",
    "\n",
    "    \n",
    "    fig = plt.figure(i, figsize=(20,20))\n",
    "    #fig = plt.figure(1)\n",
    "    ax = None\n",
    "    ax = fig.add_subplot()\n",
    "\n",
    "    #data.set_crs(epsg=4326, inplace=True)\n",
    "\n",
    "    data.apply(lambda x: ax.annotate(text=x.lote + ' \\n' + str(x.superficie) + ' ha', xy=x.geometria.centroid.coords[0], ha='center', va='center', color='black', fontsize=12, weight=1000, bbox=dict(facecolor=(1,1,1,0.3), edgecolor='none', pad=0)), axis=1);\n",
    "\n",
    "    #data.boundary.plot(ax=ax, color=(0,0,0,0), linewidth=0)\n",
    "\n",
    "    #data = data.to_crs(epsg=3857)\n",
    "\n",
    "    minx, miny, maxx, maxy = data.total_bounds\n",
    "    ax.set_xlim(minx - 500, maxx + 500)\n",
    "    ax.set_ylim(miny - 400, maxy + 400)\n",
    "\n",
    "    data.plot(ax=ax, edgecolor='r', facecolor=(0,0,0,0), linewidth=2, figsize=(20,20))\n",
    "    #data.plot(ax=ax, edgecolor='r', facecolor=(0,0,0,0), linewidth=2)\n",
    "    \n",
    "    ctx.add_basemap(ax, source=ctx.providers.Esri.WorldImagery)\n",
    "    ax.set_axis_off()\n",
    "    ax.set_title(str(propiedad.propiedad), fontsize=20)\n",
    "    ruta = 'planos/' + str(propiedad.amigo_id) + '.jpeg'\n",
    "    fig.savefig(ruta, dpi = 300, bbox_inches='tight')\n",
    "    plt.clf()\n",
    "    return ruta"
   ]
  },
  {
   "cell_type": "code",
   "execution_count": 8,
   "id": "e4cd18b4-2c5c-4d42-a40a-7f98bb6650d4",
   "metadata": {},
   "outputs": [],
   "source": [
    "semana = 'S03'\n",
    "query = {'query': 'select split_part(canhero, \\' / \\', 1) cod, split_part(canhero, \\' / \\', 2) nom from dataset_307560 where semana_1ra = \\'{sem}\\''.format(sem=semana)}\n",
    "project = 'https://app.amigocloud.com/api/v1/projects/32672/sql'\n",
    "select = amigocloud.get(project, query)\n",
    "data = select['data']"
   ]
  },
  {
   "cell_type": "code",
   "execution_count": 9,
   "id": "4cb06cb9-c4eb-42ca-acf9-6156d769042b",
   "metadata": {},
   "outputs": [
    {
     "data": {
      "text/plain": [
       "[{'cod': '18027', 'nom': 'AGUILERA TARRADELLES GUILLERMO'},\n",
       " {'cod': '2408', 'nom': 'CHOQUE CACERES FREDDY'},\n",
       " {'cod': '743', 'nom': 'ARTEAGA CHAVEZ ROBERT E.'},\n",
       " {'cod': '2029', 'nom': 'COLAMARINO DI SILVIO ANGELO'},\n",
       " {'cod': '12478', 'nom': 'SERRATE COLAMARINO HUGO'},\n",
       " {'cod': '2662', 'nom': 'DON SERAFIN SRL.'},\n",
       " {'cod': '633', 'nom': 'AGROP. VICENTE ROCA GIL SRL'},\n",
       " {'cod': '41820', 'nom': 'ASUBY S.R.L.'},\n",
       " {'cod': '2392', 'nom': 'COLAMARINO SUAREZ DOMENICO A.'},\n",
       " {'cod': '40139', 'nom': 'ROCA SUAREZ MARIA ALEJANDRA'}]"
      ]
     },
     "execution_count": 9,
     "metadata": {},
     "output_type": "execute_result"
    }
   ],
   "source": [
    "data"
   ]
  },
  {
   "cell_type": "code",
   "execution_count": 10,
   "id": "c9643d6a-4861-4ed3-b9ba-619aeaaeba46",
   "metadata": {},
   "outputs": [],
   "source": [
    "#lista = [1068, 18062, 10739, 41955, 2392, 15162, 2517, 8706, 15085, 430, 874, 5498, 2505, 2274]\n",
    "lista = [int(i['cod']) for i in data]"
   ]
  },
  {
   "cell_type": "code",
   "execution_count": 11,
   "id": "59340321-ace8-43b3-832b-75a531664da5",
   "metadata": {},
   "outputs": [
    {
     "data": {
      "text/plain": [
       "[18027, 2408, 743, 2029, 12478, 2662, 633, 41820, 2392, 40139]"
      ]
     },
     "execution_count": 11,
     "metadata": {},
     "output_type": "execute_result"
    }
   ],
   "source": [
    "lista"
   ]
  },
  {
   "cell_type": "code",
   "execution_count": 13,
   "id": "48d79f54-6869-432f-8076-3a928eff1753",
   "metadata": {},
   "outputs": [
    {
     "name": "stdout",
     "output_type": "stream",
     "text": [
      "L27 1fff509938fc4f52b0d70f487e9459cc\n",
      "L23 cbef3ba9e1e8487dba90593c3456c315\n",
      "L15.1 6bbdac1c354643d284bcfa0aa89603cb\n",
      "L4 aca011bb784149eea91d65e6707b8459\n",
      "L3.2 a60f957b338c4847a0a097436d6f84c8\n",
      "L10.1 928c3de1d58c41ab874f6c1faff403ca\n",
      "L13 74045138f8c34892943246fa43bf8877\n",
      "L17.3 111661468c554f52a12b4072428d178e\n",
      "L5 1db065977f454092a2865f06459650d6\n",
      "L18.3 99141238f52343688853ff3957aa695d\n",
      "L2 3e07c696812949e98d98256447e39e77\n",
      "====================== 18027\n",
      "L2.2 cf8586bba0be4592b4fdb076c27aa768\n",
      "L3.2 b88a6076290b436aabd4b78dc4b5bc87\n",
      "====================== 2408\n",
      "L3.2 9a1f7a6ec5db4ca48b91ef0d1e38912c\n",
      "L4.1 d96b5c4c5a444a5bbc39e75f9f3d385a\n",
      "====================== 743\n",
      "L4.2.1 41c898ca209742108d45beb1affb57a9\n",
      "L4.3 836dddd44de24d7893f080874d0a8781\n",
      "L3.1 237345f93d6e4191bb1b4cdc672c31c3\n",
      "L1.1 197efe8280aa45a1bd7a088ad3a52a4f\n",
      "L3.3 c6e14e0da67d4384ab9f5524e264bd7f\n",
      "L3.4 03634173be494396b3a1c4a37f65d05d\n",
      "L5.2 0d16f6dc81ca4d32a706cad47768b857\n",
      "L5.1 0ebb47f725d34a83a431c20fcfd05ead\n",
      "L5.4 f409391e287a4f118cafe22a46eaac59\n",
      "L1.6 cd68c8b55cc746fe96634ddf71c271c2\n",
      "L7 09d10ef7222646baa4304c97e884f15d\n",
      "====================== 2029\n",
      "L3.2 26228b2d464c42839a8ad117bca8110a\n",
      "L1 1762dd1ff0584cae9bc3a73e64a14ca8\n",
      "L5.2 2a1d4f5f0b034a898014da546ae86338\n",
      "L7 71a94b043cd341c89a6e7c45a39315f3\n",
      "L17.1 336cd72437284cd18d57569d8f992954\n",
      "L7.1 c840507839884e45936a2548615d4212\n",
      "L9.2 522f08406a7c46f8b169aeb83673661d\n",
      "L20.2 eac9ffd6ff9f464a9d4eb13622a1c58f\n",
      "L16.1 80257a58bd1f47e4b0e5d5bfb0538a84\n",
      "L15.2 974d2b40edea49f588318ed6e035614b\n",
      "L1.2 173dc15ede0343d59cdab9e18949c8e2\n",
      "L4.1 779e417c79a143a79b2064b4ce315b7a\n",
      "====================== 12478\n",
      "L8 7dccb90755d04e7eb91d6fae4a45fbd8\n",
      "L16 8bcdead498dc47edb2281e56b31a15f1\n",
      "L12.1 6358a68e260847aea01e782a7e49f837\n",
      "L21 8e56ca834f584351946beb8c81fe94f2\n",
      "L25 445afb2c18a9430d8d8429f7139dda72\n",
      "L8 e5df7dbe12dc4cc68ef478053c6aa38e\n",
      "L32.1 13ca1b20b48d4aeaae1ff6ae9a8e5907\n",
      "L31 54c40a156e944b12880e6b2dd68c5a61\n",
      "====================== 2662\n",
      "L11.1 3c1e657b19084522b4b924604cac0c2e\n",
      "L5 e2ebd4cbd83d41389bf6cae1e93339b6\n",
      "L15.1 9655351d79d64424a52771b4172fd030\n",
      "L6 fd8fb821e85a45d8853dfe9fdbaaa622\n",
      "L11.4 3698381351f542c4a56946429244da6b\n",
      "L18.3 61c23568ea3a47648136ff9cfd3c159f\n",
      "L19.1 7f0452e8cf954f81b4c052d2dcdb29d6\n",
      "L6.3 eb6cecc0d897470ca1395a0d472851bb\n",
      "L4.3 d8ce932d6729404d8e36a20a54d3d8d6\n",
      "L4.5 47cad9706b624a5cb177d8bd990532f3\n",
      "L2.2 599be74484f840d1bf660b8c740bf5ab\n",
      "====================== 633\n",
      "L1.1 e8c251a6bd8e493886cb4e8075651d71\n",
      "L2 9e2fe3680b004eddafd31be5f7c11725\n",
      "L3 2b5ce690070a484ca5cb9272c2ce8386\n",
      "L4.2 9167fee3ed5748bd8bb5b35b911259c3\n",
      "====================== 41820\n",
      "L15.2 2b9a9dfaa63c43bd8c34cac6b3a898a8\n",
      "L12.2 f376ed52de2d4668a4511ace253557a0\n",
      "L12.3 5f2e266cee7042b89d1b1b3b6b1b65bb\n",
      "L2.2 eb580b9d790b403582ba9c067846ca70\n",
      "L11 51d11db38c1f46b1af9fac0cfd3ee3ed\n",
      "L4.1 d7d6890790ec44e4a0cda086245a2d94\n",
      "====================== 2392\n",
      "L2 68cb200222bd4521b55ebf83f7f796a1\n",
      "L1 4d4000bb491c43d6adc04d3577acaeb5\n",
      "L4 57d6e4aa356048df945f61876ff8a3f8\n",
      "L3 659c99c5efea4cdcb2753dce97f7afc8\n",
      "L2 00ae8ba8344c401dae146810de8ec624\n",
      "L15.1 a3be66054cb14d5f9dd776b1656e1f39\n",
      "L16 e3c10e2aaf2f4f4f9b179b5ed49a1d57\n",
      "L20 451fc9fdbe6a43a3970c8af09ab66bc1\n",
      "L1 a9d1cd6dd2794b25a5f0594aee0ec1a5\n",
      "L15.2 e4ccae14792744a0bb4ef73629c5a946\n",
      "L8.1 055dd0f183a6431792dac0accd93881b\n",
      "====================== 40139\n"
     ]
    },
    {
     "data": {
      "text/plain": [
       "<Figure size 1440x1440 with 0 Axes>"
      ]
     },
     "metadata": {},
     "output_type": "display_data"
    },
    {
     "data": {
      "text/plain": [
       "<Figure size 1440x1440 with 0 Axes>"
      ]
     },
     "metadata": {},
     "output_type": "display_data"
    },
    {
     "data": {
      "text/plain": [
       "<Figure size 1440x1440 with 0 Axes>"
      ]
     },
     "metadata": {},
     "output_type": "display_data"
    }
   ],
   "source": [
    "for i in lista:\n",
    "    generar_reporte(i)\n",
    "    print('======================', i)"
   ]
  }
 ],
 "metadata": {
  "kernelspec": {
   "display_name": "Python 3 (ipykernel)",
   "language": "python",
   "name": "python3"
  },
  "language_info": {
   "codemirror_mode": {
    "name": "ipython",
    "version": 3
   },
   "file_extension": ".py",
   "mimetype": "text/x-python",
   "name": "python",
   "nbconvert_exporter": "python",
   "pygments_lexer": "ipython3",
   "version": "3.7.11"
  }
 },
 "nbformat": 4,
 "nbformat_minor": 5
}
