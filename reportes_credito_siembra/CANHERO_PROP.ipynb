{
 "cells": [
  {
   "cell_type": "code",
   "execution_count": 17,
   "id": "e5452892-0768-4541-8064-3d10d26bd942",
   "metadata": {},
   "outputs": [],
   "source": [
    "from amigocloud import AmigoCloud\n",
    "\n",
    "from shapely import wkb\n",
    "import geopandas\n",
    "import pandas as pd\n",
    "\n",
    "import ipywidgets as widgets\n",
    "from datetime import datetime"
   ]
  },
  {
   "cell_type": "code",
   "execution_count": 18,
   "id": "af3c05da-bddc-4c62-9a7a-94f2c3ae1e73",
   "metadata": {},
   "outputs": [
    {
     "name": "stderr",
     "output_type": "stream",
     "text": [
      "WARNING:socketIO-client:app.amigocloud.com:443/v2_socket.io/socket.io [connection error] recv disconnected by SSL ([SSL: SSLV3_ALERT_BAD_RECORD_MAC] sslv3 alert bad record mac (_ssl.c:2570))\n"
     ]
    },
    {
     "data": {
      "text/plain": [
       "<amigocloud.amigocloud.AmigoCloud at 0x299cd53e408>"
      ]
     },
     "execution_count": 18,
     "metadata": {},
     "output_type": "execute_result"
    }
   ],
   "source": [
    "acceso = open('accesos/api.txt','r')\n",
    "api_token = acceso.readlines()[0]\n",
    "acceso.close()\n",
    "\n",
    "amigocloud = AmigoCloud(token=api_token)\n",
    "amigocloud"
   ]
  },
  {
   "cell_type": "code",
   "execution_count": 97,
   "id": "dd742ff0-2962-4f9c-a54e-8ef1ae1c7c74",
   "metadata": {},
   "outputs": [],
   "source": [
    "\n",
    "# funcion para conversion de wkb a poligonos\n",
    "def convertir_wkb(wkb_data):\n",
    "    return wkb.loads(wkb_data, hex=True)[0]\n",
    "\n",
    "def get_canhero_prop(codigo):\n",
    "    # consulta sql para extraer los lotes de un credito\n",
    "    query = {'query': 'select codca cod_ca, ca__ero nombre, cod_prop, propiedad, round(sum(superficie)::numeric, 2) superf from dataset_287438 where codca=\\'{cod}\\' group by codca, ca__ero, cod_prop, propiedad'.format(cod=codigo)}\n",
    "    select = amigocloud.get('https://app.amigocloud.com/api/v1/projects/30232/sql', query)\n",
    "    data = select['data']\n",
    "    \n",
    "    # carga de datos seleccionados a DadaFrame\n",
    "    df = pd.DataFrame(data)\n",
    "    df['cod_prop'] = df['cod_prop'].apply(int)\n",
    "    # DataFrame a GeoDataFrame\n",
    "    # data = geopandas.GeoDataFrame(df, geometry='geometria')\n",
    "    # convercion a FeatureColleccion\n",
    "    # ee_lotes = ee.FeatureCollection(data.__geo_interface__)\n",
    "    return df\n",
    "\n",
    "def get_prop(codigo):\n",
    "    # consulta sql para extraer los lotes de un credito\n",
    "    query = {'query': 'select cod_prop, propiedad, codca, ca__ero, round(sum(superficie)::numeric, 2) from dataset_287438 where cod_prop={cod} group by codca, ca__ero, cod_prop, propiedad'.format(cod=codigo)}\n",
    "    select = amigocloud.get('https://app.amigocloud.com/api/v1/projects/30232/sql', query)\n",
    "    data = select['data']\n",
    "    \n",
    "    # carga de datos seleccionados a DadaFrame\n",
    "    df = pd.DataFrame(data)\n",
    "    #df['cod_prop'] = df['cod_prop'].apply(int)\n",
    "    # DataFrame a GeoDataFrame\n",
    "    # data = geopandas.GeoDataFrame(df, geometry='geometria')\n",
    "    # convercion a FeatureColleccion\n",
    "    # ee_lotes = ee.FeatureCollection(data.__geo_interface__)\n",
    "    return df\n",
    "\n",
    "out_props = widgets.Output(layout={'border': '1px solid black'})"
   ]
  },
  {
   "cell_type": "code",
   "execution_count": 103,
   "id": "371387c6-7136-4127-8b57-de4ff75dfb7b",
   "metadata": {},
   "outputs": [
    {
     "data": {
      "text/html": [
       "<div>\n",
       "<style scoped>\n",
       "    .dataframe tbody tr th:only-of-type {\n",
       "        vertical-align: middle;\n",
       "    }\n",
       "\n",
       "    .dataframe tbody tr th {\n",
       "        vertical-align: top;\n",
       "    }\n",
       "\n",
       "    .dataframe thead th {\n",
       "        text-align: right;\n",
       "    }\n",
       "</style>\n",
       "<table border=\"1\" class=\"dataframe\">\n",
       "  <thead>\n",
       "    <tr style=\"text-align: right;\">\n",
       "      <th></th>\n",
       "      <th>cod_ca</th>\n",
       "      <th>nombre</th>\n",
       "      <th>cod_prop</th>\n",
       "      <th>propiedad</th>\n",
       "      <th>superf</th>\n",
       "    </tr>\n",
       "  </thead>\n",
       "  <tbody>\n",
       "    <tr>\n",
       "      <th>0</th>\n",
       "      <td>75</td>\n",
       "      <td>AGUILERA TARADELLES NELSON MARIANO</td>\n",
       "      <td>324</td>\n",
       "      <td>EL NARANJAL--AGUILERA</td>\n",
       "      <td>39.30</td>\n",
       "    </tr>\n",
       "    <tr>\n",
       "      <th>1</th>\n",
       "      <td>75</td>\n",
       "      <td>AGUILERA TARADELLES NELSON MARIANO</td>\n",
       "      <td>216</td>\n",
       "      <td>LA ESTACADA--AGUILERA</td>\n",
       "      <td>123.11</td>\n",
       "    </tr>\n",
       "    <tr>\n",
       "      <th>2</th>\n",
       "      <td>75</td>\n",
       "      <td>AGUILERA TARADELLES NELSON MARIANO</td>\n",
       "      <td>217</td>\n",
       "      <td>FLAMBOYAN--AGUILERA</td>\n",
       "      <td>80.23</td>\n",
       "    </tr>\n",
       "    <tr>\n",
       "      <th>3</th>\n",
       "      <td>75</td>\n",
       "      <td>AGUILERA TARADELLES NELSON MARIANO</td>\n",
       "      <td>256</td>\n",
       "      <td>LOS ANDES--AGUILERA</td>\n",
       "      <td>82.42</td>\n",
       "    </tr>\n",
       "    <tr>\n",
       "      <th>4</th>\n",
       "      <td>75</td>\n",
       "      <td>AGUILERA TARADELLES NELSON MARIANO</td>\n",
       "      <td>551</td>\n",
       "      <td>VILLA CAROLA</td>\n",
       "      <td>265.92</td>\n",
       "    </tr>\n",
       "  </tbody>\n",
       "</table>\n",
       "</div>"
      ],
      "text/plain": [
       "  cod_ca                              nombre  cod_prop              propiedad  \\\n",
       "0     75  AGUILERA TARADELLES NELSON MARIANO       324  EL NARANJAL--AGUILERA   \n",
       "1     75  AGUILERA TARADELLES NELSON MARIANO       216  LA ESTACADA--AGUILERA   \n",
       "2     75  AGUILERA TARADELLES NELSON MARIANO       217    FLAMBOYAN--AGUILERA   \n",
       "3     75  AGUILERA TARADELLES NELSON MARIANO       256    LOS ANDES--AGUILERA   \n",
       "4     75  AGUILERA TARADELLES NELSON MARIANO       551           VILLA CAROLA   \n",
       "\n",
       "   superf  \n",
       "0   39.30  \n",
       "1  123.11  \n",
       "2   80.23  \n",
       "3   82.42  \n",
       "4  265.92  "
      ]
     },
     "execution_count": 103,
     "metadata": {},
     "output_type": "execute_result"
    }
   ],
   "source": [
    "COD_CA = 75\n",
    "\n",
    "\n",
    "out_props.clear_output()\n",
    "canero = get_canhero_prop(COD_CA)\n",
    "lista_cods = canero['cod_prop'].tolist()\n",
    "\n",
    "lista=[]\n",
    "for i in lista_cods:\n",
    "    res = get_prop(i)\n",
    "    with out_props:\n",
    "        display(res)\n",
    "\n",
    "canero"
   ]
  },
  {
   "cell_type": "markdown",
   "id": "98f6f6b9-41a4-420a-8b3d-cfa8fc6670fd",
   "metadata": {},
   "source": [
    "# PROPIEDADES"
   ]
  },
  {
   "cell_type": "code",
   "execution_count": 100,
   "id": "7ee39bb1-06a9-469c-914b-d33dbcbd3001",
   "metadata": {},
   "outputs": [
    {
     "data": {
      "application/vnd.jupyter.widget-view+json": {
       "model_id": "ad350a3282824391ae42ae7c7a28e8ea",
       "version_major": 2,
       "version_minor": 0
      },
      "text/plain": [
       "Output(layout=Layout(border='1px solid black'), outputs=({'output_type': 'display_data', 'data': {'text/plain'…"
      ]
     },
     "metadata": {},
     "output_type": "display_data"
    }
   ],
   "source": [
    "out_props"
   ]
  },
  {
   "cell_type": "code",
   "execution_count": null,
   "id": "dc233a97-a2ae-4f09-9e39-17b988d96773",
   "metadata": {},
   "outputs": [],
   "source": []
  },
  {
   "cell_type": "code",
   "execution_count": null,
   "id": "be3ac8cc-1dfa-46e5-bff4-d01e416ff52c",
   "metadata": {},
   "outputs": [],
   "source": []
  },
  {
   "cell_type": "code",
   "execution_count": null,
   "id": "db6ebd52-2770-441c-ac42-04dd3c2bec47",
   "metadata": {},
   "outputs": [],
   "source": []
  },
  {
   "cell_type": "code",
   "execution_count": null,
   "id": "d1657d1a-a40b-4229-8e2c-1843274c99c8",
   "metadata": {},
   "outputs": [],
   "source": []
  }
 ],
 "metadata": {
  "kernelspec": {
   "display_name": "Python 3 (ipykernel)",
   "language": "python",
   "name": "python3"
  },
  "language_info": {
   "codemirror_mode": {
    "name": "ipython",
    "version": 3
   },
   "file_extension": ".py",
   "mimetype": "text/x-python",
   "name": "python",
   "nbconvert_exporter": "python",
   "pygments_lexer": "ipython3",
   "version": "3.7.11"
  }
 },
 "nbformat": 4,
 "nbformat_minor": 5
}
