{
 "cells": [
  {
   "cell_type": "code",
   "execution_count": 3,
   "id": "b6f11235-a9b1-4b74-af54-d97e976d8e85",
   "metadata": {},
   "outputs": [],
   "source": [
    "import sys\n",
    "sys.path.append('../_amigocloud')"
   ]
  },
  {
   "cell_type": "code",
   "execution_count": 4,
   "id": "b8a1e437-1641-44eb-811f-1bfaee4b1d28",
   "metadata": {},
   "outputs": [],
   "source": [
    "from werkzeug.wrappers import Request, Response\n",
    "#from flask import Flask, render_template\n",
    "from jinja2 import Template\n",
    "\n",
    "#from datetime import date\n",
    "from datetime import datetime, timedelta\n",
    "\n",
    "import collections\n",
    "from amigocloud import AmigoCloud\n",
    "\n",
    "from docxtpl import DocxTemplate\n",
    "import docxtpl\n",
    "from docx.shared import Mm\n",
    "import requests\n",
    "\n",
    "from docx2pdf import convert\n",
    "import os\n",
    "\n",
    "import pandas as pd\n",
    "import json"
   ]
  },
  {
   "cell_type": "code",
   "execution_count": 5,
   "id": "973aeb0b-1e1c-464a-b1f9-cb1b8b3a0dbd",
   "metadata": {},
   "outputs": [
    {
     "data": {
      "text/plain": [
       "<amigocloud.AmigoCloud at 0x22facf09f00>"
      ]
     },
     "execution_count": 5,
     "metadata": {},
     "output_type": "execute_result"
    }
   ],
   "source": [
    "# ruta de carpera donde estan las llaves\n",
    "ruta = open('../ruta.txt')\n",
    "ruta = ruta.readlines()[0]\n",
    "# leer token\n",
    "acceso = open(ruta + '/_keys/api_amigocloud.key','r')\n",
    "api_token = acceso.readlines()[0]\n",
    "acceso.close()\n",
    "# conexion a amigocloud\n",
    "amigocloud = AmigoCloud(token=api_token)\n",
    "amigocloud"
   ]
  },
  {
   "cell_type": "code",
   "execution_count": 18,
   "id": "4769eecf-34f4-4d14-8d41-5e6c1509593f",
   "metadata": {},
   "outputs": [
    {
     "data": {
      "text/plain": [
       "[{'id': 48, 'canhero': '515 / AGUILERA OLGA RIVERO DE'},\n",
       " {'id': 49, 'canhero': '805 / AGROP. TRES HNOS DEL ORIENTE'}]"
      ]
     },
     "execution_count": 18,
     "metadata": {},
     "output_type": "execute_result"
    }
   ],
   "source": [
    "fecha = '2024-03-23'\n",
    "query_dia = {'query': 'select id, canhero from dataset_289611 where date(fecha_registro)=\\'{fech}\\''.format(fech=fecha)}\n",
    "project = 'https://app.amigocloud.com/api/v1/projects/31702/sql'\n",
    "select_dia = amigocloud.get(project, query_dia)\n",
    "data_dia = select_dia['data']\n",
    "data_dia"
   ]
  },
  {
   "cell_type": "code",
   "execution_count": 19,
   "id": "866aec4c-bd4c-4c32-a1b2-24bbb30ee248",
   "metadata": {},
   "outputs": [
    {
     "data": {
      "text/plain": [
       "{'query': \"select id, canhero from dataset_289611 where date(fecha_registro)='2024-03-23'\",\n",
       " 'count': 2,\n",
       " 'limit': 100,\n",
       " 'offset': 0,\n",
       " 'columns': [{'type': 'integer', 'name': 'id'},\n",
       "  {'type': 'string', 'name': 'canhero'}],\n",
       " 'data': [{'id': 48, 'canhero': '515 / AGUILERA OLGA RIVERO DE'},\n",
       "  {'id': 49, 'canhero': '805 / AGROP. TRES HNOS DEL ORIENTE'}],\n",
       " 'next': None}"
      ]
     },
     "execution_count": 19,
     "metadata": {},
     "output_type": "execute_result"
    }
   ],
   "source": [
    "select_dia"
   ]
  },
  {
   "cell_type": "code",
   "execution_count": 20,
   "id": "00754d38-4700-4700-8e0c-39748566f87f",
   "metadata": {},
   "outputs": [
    {
     "name": "stdout",
     "output_type": "stream",
     "text": [
      "Generando reporte de: 515 / AGUILERA OLGA RIVERO DE ------------------------------------------\n",
      "Trarea terminada.\n",
      "Generando reporte de: 805 / AGROP. TRES HNOS DEL ORIENTE ------------------------------------------\n",
      "Trarea terminada.\n",
      "END=========================================\n"
     ]
    }
   ],
   "source": [
    "for insp in data_dia:\n",
    "    \n",
    "    print('Generando reporte de:', insp['canhero'], '------------------------------------------')\n",
    "    id_insp = insp['id']\n",
    "    \n",
    "    # consulta para buscar por id\n",
    "    query = {'query': 'select * from dataset_289611 where id={id}'.format(id=id_insp)}\n",
    "    project = 'https://app.amigocloud.com/api/v1/projects/31702/sql'\n",
    "    select = amigocloud.get(project, query)\n",
    "    data = select['data'][0]\n",
    "    # cambio del formato de fecha\n",
    "    data['fecha_registro'] = datetime.strptime(data['fecha_registro'][0:10], '%Y-%m-%d').strftime('%d/%m/%Y')\n",
    "    # convercion a objeto\n",
    "    insp = collections.namedtuple(\"insp\", data.keys())(*data.values())\n",
    "    \n",
    "    # consulta para buscar \n",
    "    query = {'query': 'select * from dataset_289610 where calidad_ref_muestra=\\'{amigo_id}\\''.format(amigo_id=insp.amigo_id)}\n",
    "    project = 'https://app.amigocloud.com/api/v1/projects/31702/sql'\n",
    "    select = amigocloud.get(project, query)\n",
    "    data_muestras = select['data']\n",
    "    \n",
    "    # calculo de promedio de muestras\n",
    "    keys_to_avg = ['profundidad_surco', \n",
    "               'distancia_entre_surco', \n",
    "               'tamaño_de_cañoto', \n",
    "               'cantidad_tierra', \n",
    "               'falla_de_tapado', \n",
    "               'peso_en_5m', \n",
    "               'cantidad_de_semilla', \n",
    "               'yemas_metro', \n",
    "               'yemas_no_viables']\n",
    "    averages = {}\n",
    "    for key in keys_to_avg:\n",
    "        total = sum(d[key] for d in data_muestras)\n",
    "        averages[key] = total / len(data_muestras)\n",
    "    averages['yemas_metro'] = int(averages['yemas_metro']) # redondea\n",
    "    data = collections.namedtuple(\"data\", averages.keys())(*averages.values())\n",
    "    \n",
    "    # get fotos\n",
    "    query_fotos = {'query': 'select insp.lote, muestra.obs, gal.s3_filename from dataset_289611 insp inner join dataset_289610 muestra on insp.amigo_id=muestra.calidad_ref_muestra inner join gallery_41234 gal on muestra.amigo_id=gal.source_amigo_id where insp.amigo_id=\\'{amigo_id}\\''.format(amigo_id=insp.amigo_id)}\n",
    "    project = 'https://app.amigocloud.com/api/v1/projects/31702/sql'\n",
    "    select_fotos = amigocloud.get(project, query_fotos)\n",
    "    fotos = select_fotos['data']\n",
    "    \n",
    "    doc = DocxTemplate(ruta + \"/templates/tpl_rpt_calidad-siembra.docx\")\n",
    "    \n",
    "    # SE DESCARGAN LAS FOTOS\n",
    "    lista_fotos_inline = []\n",
    "    i = 1\n",
    "    for foto in fotos:\n",
    "        response = requests.get(\"https://www-amigocloud.s3.amazonaws.com/gallery/\" + foto['s3_filename'])\n",
    "        file = open(ruta + '/fotos/' + foto['s3_filename'], \"wb\")\n",
    "        file.write(response.content)\n",
    "        file.close()\n",
    "        lista_fotos_inline.append({\n",
    "            'foto': docxtpl.InlineImage(doc, image_descriptor=ruta+'/fotos/' + foto['s3_filename'], width=Mm(60)), \n",
    "            'muestra': 'M' + str(i),\n",
    "            'obs':foto['obs']\n",
    "        })\n",
    "        i=i+1\n",
    "    \n",
    "    # estableser firma de tecnico\n",
    "    firma_respon = None\n",
    "    if insp.usuario == 'Rogelio Acuña Rodríguez':\n",
    "        firma_respon = docxtpl.InlineImage(doc, image_descriptor=ruta+'/templates/firma_rogelio.png', width=Mm(60))\n",
    "    else:\n",
    "        firma_respon = docxtpl.InlineImage(doc, image_descriptor=ruta+'/templates/firma_jaldin.png', width=Mm(60))\n",
    "        \n",
    "    # nombre de archivo\n",
    "    filename = '/_' + insp.canhero.split(' / ')[0] + '_CDS_' + insp.fecha_registro.replace('/','-') + '_' + insp.canhero.split(' / ')[1] + '_' + str(insp.id) + '.docx'\n",
    "    \n",
    "    # CREAR EL CONTEXTO DEL DOC Y CREAR EL DOC\n",
    "    context = {'insp':insp, 'data':data, 'fotos':lista_fotos_inline, 'firma':firma_respon}\n",
    "    doc.render(context)\n",
    "    doc.save(ruta + '/informes' + filename)\n",
    "    print('Trarea terminada.')\n",
    "print('END=========================================')"
   ]
  },
  {
   "cell_type": "code",
   "execution_count": null,
   "id": "c101a2c3-43fc-45f7-96a9-03f1baedf365",
   "metadata": {},
   "outputs": [],
   "source": []
  },
  {
   "cell_type": "markdown",
   "id": "18767441-c04f-4d71-874a-d1034cb34283",
   "metadata": {},
   "source": [
    "## Convertir a PDF"
   ]
  },
  {
   "cell_type": "code",
   "execution_count": 8,
   "id": "1adc69dd-5f1b-490a-9644-c1047733d84a",
   "metadata": {},
   "outputs": [
    {
     "name": "stdout",
     "output_type": "stream",
     "text": [
      "SE ENCONTRARON 1 INFORMES\n",
      "1 INFORMES\n"
     ]
    },
    {
     "data": {
      "text/plain": [
       "['D:\\\\OneDrive - Ingenio Azucarero Guabira S.A\\\\_DATOS_PYTHON/informes/40256_CDS_07-06-2023_INSERVA DAMIANA S.R.L._35.docx']"
      ]
     },
     "execution_count": 8,
     "metadata": {},
     "output_type": "execute_result"
    }
   ],
   "source": [
    "path = r'' + ruta + '/informes'\n",
    "contenido = os.listdir(path)\n",
    "rutas =[]\n",
    "i = 0\n",
    "for name in contenido:\n",
    "    rutas.append(path + '/' + name)\n",
    "    i+=1\n",
    "\n",
    "print('SE ENCONTRARON ' + str(i) + ' INFORMES')\n",
    "print(len(rutas), 'INFORMES')\n",
    "rutas"
   ]
  },
  {
   "cell_type": "code",
   "execution_count": 9,
   "id": "f6189731-9f1e-4587-b8cb-a2e3329b611d",
   "metadata": {},
   "outputs": [
    {
     "name": "stdout",
     "output_type": "stream",
     "text": [
      "CONVIRTIENDO... INFORME 1 D:\\OneDrive - Ingenio Azucarero Guabira S.A\\_DATOS_PYTHON/informes/40256_CDS_07-06-2023_INSERVA DAMIANA S.R.L._35.docx\n",
      "D:\\OneDrive - Ingenio Azucarero Guabira S.A\\_DATOS_PYTHON/informes/40256_CDS_07-06-2023_INSERVA DAMIANA S.R.L._35.docx\n",
      "D:\\OneDrive - Ingenio Azucarero Guabira S.A\\_DATOS_PYTHON/pdfs/40256_CDS_07-06-2023_INSERVA DAMIANA S.R.L._35.pdf\n"
     ]
    },
    {
     "data": {
      "application/vnd.jupyter.widget-view+json": {
       "model_id": "7dea045f15124fb7a7021cf683072673",
       "version_major": 2,
       "version_minor": 0
      },
      "text/plain": [
       "  0%|          | 0/1 [00:00<?, ?it/s]"
      ]
     },
     "metadata": {},
     "output_type": "display_data"
    },
    {
     "name": "stdout",
     "output_type": "stream",
     "text": [
      "END\n"
     ]
    }
   ],
   "source": [
    "i = 1\n",
    "for filename in rutas:\n",
    "    print('CONVIRTIENDO... INFORME ' + str(i) + ' ' + filename)\n",
    "    # se realiza la convrsion pasando parametro de salida y entrada, \n",
    "    # para la salida se reemplaza la extencion y la ruta\n",
    "    print(filename)\n",
    "    print(filename.replace('.docx','.pdf').replace('informes','pdfs'))\n",
    "    pdf = filename.replace('.docx','.pdf').replace('informes','pdfs').split('/')[-1]\n",
    "    convert(filename, r'D:\\OneDrive - Ingenio Azucarero Guabira S.A\\_DATOS_PYTHON\\pdf\\\\' + pdf)\n",
    "    i+=1\n",
    "print('END')"
   ]
  },
  {
   "cell_type": "code",
   "execution_count": null,
   "id": "325a45d6-6170-41c7-bfac-33a5391ee45e",
   "metadata": {},
   "outputs": [],
   "source": []
  },
  {
   "cell_type": "code",
   "execution_count": null,
   "id": "48cc347c-6ac2-43a2-a5c4-c211f0b4d18f",
   "metadata": {},
   "outputs": [],
   "source": []
  },
  {
   "cell_type": "code",
   "execution_count": null,
   "id": "d72e2283-49a1-46ce-a152-12fbd3683c39",
   "metadata": {},
   "outputs": [],
   "source": []
  },
  {
   "cell_type": "code",
   "execution_count": null,
   "id": "eabeda29-8dab-4619-addf-ab65e61444ac",
   "metadata": {},
   "outputs": [],
   "source": []
  },
  {
   "cell_type": "code",
   "execution_count": null,
   "id": "e6d78cbc-2bcb-4e4e-ac7c-87fc584ba2fc",
   "metadata": {},
   "outputs": [],
   "source": []
  },
  {
   "cell_type": "code",
   "execution_count": null,
   "id": "8a92bbe9-af28-4164-b4ee-7bea2003ad9e",
   "metadata": {},
   "outputs": [],
   "source": []
  },
  {
   "cell_type": "code",
   "execution_count": null,
   "id": "fe737391-fd5a-439b-bf22-f8476c04e903",
   "metadata": {},
   "outputs": [],
   "source": []
  },
  {
   "cell_type": "code",
   "execution_count": null,
   "id": "102097f9-9f80-4f9f-80ac-520fde8d700b",
   "metadata": {},
   "outputs": [],
   "source": []
  },
  {
   "cell_type": "code",
   "execution_count": null,
   "id": "ee9ce12a-2eeb-4064-b498-3eb9f2070fb0",
   "metadata": {},
   "outputs": [],
   "source": []
  },
  {
   "cell_type": "code",
   "execution_count": null,
   "id": "80611e16-965e-4a3f-b808-238b5a859f26",
   "metadata": {},
   "outputs": [],
   "source": []
  },
  {
   "cell_type": "code",
   "execution_count": null,
   "id": "9a9e74ff-c04a-4df0-9d96-f359019dc224",
   "metadata": {},
   "outputs": [],
   "source": []
  }
 ],
 "metadata": {
  "kernelspec": {
   "display_name": "Python 3 (ipykernel)",
   "language": "python",
   "name": "python3"
  },
  "language_info": {
   "codemirror_mode": {
    "name": "ipython",
    "version": 3
   },
   "file_extension": ".py",
   "mimetype": "text/x-python",
   "name": "python",
   "nbconvert_exporter": "python",
   "pygments_lexer": "ipython3",
   "version": "3.10.13"
  }
 },
 "nbformat": 4,
 "nbformat_minor": 5
}
