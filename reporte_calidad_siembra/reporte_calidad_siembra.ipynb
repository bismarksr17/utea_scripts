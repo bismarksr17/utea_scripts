{
 "cells": [
  {
   "cell_type": "code",
   "execution_count": 1,
   "id": "b8a1e437-1641-44eb-811f-1bfaee4b1d28",
   "metadata": {},
   "outputs": [],
   "source": [
    "from werkzeug.wrappers import Request, Response\n",
    "#from flask import Flask, render_template\n",
    "from jinja2 import Template\n",
    "\n",
    "#from datetime import date\n",
    "from datetime import datetime, timedelta\n",
    "\n",
    "import collections\n",
    "from amigocloud import AmigoCloud\n",
    "\n",
    "from docxtpl import DocxTemplate\n",
    "import docxtpl\n",
    "from docx.shared import Mm\n",
    "import requests\n",
    "\n",
    "from docx2pdf import convert\n",
    "import os\n",
    "\n",
    "import pandas as pd\n",
    "import json"
   ]
  },
  {
   "cell_type": "code",
   "execution_count": 4,
   "id": "973aeb0b-1e1c-464a-b1f9-cb1b8b3a0dbd",
   "metadata": {},
   "outputs": [
    {
     "name": "stderr",
     "output_type": "stream",
     "text": [
      "WARNING:socketIO-client:app.amigocloud.com:443/v2_socket.io/socket.io [connection error] recv disconnected by SSL ([SSL: SSLV3_ALERT_BAD_RECORD_MAC] sslv3 alert bad record mac (_ssl.c:2570))\n",
      "WARNING:socketIO-client:app.amigocloud.com:443/v2_socket.io/socket.io [connection error] recv disconnected ([WinError 10035] A non-blocking socket operation could not be completed immediately)\n"
     ]
    },
    {
     "data": {
      "text/plain": [
       "<amigocloud.amigocloud.AmigoCloud at 0x2d23ba01c88>"
      ]
     },
     "execution_count": 4,
     "metadata": {},
     "output_type": "execute_result"
    }
   ],
   "source": [
    "# ruta de carpera donde estan las llaves\n",
    "ruta = open('../ruta.txt')\n",
    "ruta = ruta.readlines()[0]\n",
    "# leer token\n",
    "acceso = open(ruta + '/_keys/api_amigocloud.key','r')\n",
    "api_token = acceso.readlines()[0]\n",
    "acceso.close()\n",
    "# conexion a amigocloud\n",
    "amigocloud = AmigoCloud(token=api_token)\n",
    "amigocloud"
   ]
  },
  {
   "cell_type": "code",
   "execution_count": 11,
   "id": "111eeb88-5c07-44a4-acc8-b4424d735d26",
   "metadata": {},
   "outputs": [],
   "source": [
    "fecha = '2023-05-02'"
   ]
  },
  {
   "cell_type": "code",
   "execution_count": 12,
   "id": "4769eecf-34f4-4d14-8d41-5e6c1509593f",
   "metadata": {},
   "outputs": [
    {
     "data": {
      "text/plain": [
       "[{'id': 1, 'canhero': '6550 / JUSTINIANO PEREYRA ALVARO'},\n",
       " {'id': 2, 'canhero': '10697 / PAZ REA JAIME EDUARDO'},\n",
       " {'id': 3, 'canhero': '1171 / BALCAZAR BALCAZAR ROQUE DAVID'},\n",
       " {'id': 4, 'canhero': '2816 / DONOSO BLANCO ALBERTO'},\n",
       " {'id': 5, 'canhero': '2160 / CORDOVA CAMARA JUAN'}]"
      ]
     },
     "execution_count": 12,
     "metadata": {},
     "output_type": "execute_result"
    }
   ],
   "source": [
    "query_dia = {'query': 'select id, canhero from dataset_289611 where date(fecha_registro)=\\'{fech}\\''.format(fech=fecha)}\n",
    "project = 'https://app.amigocloud.com/api/v1/projects/31702/sql'\n",
    "select = amigocloud.get(project, query)\n",
    "data_semana = select['data']\n",
    "data_semana"
   ]
  },
  {
   "cell_type": "code",
   "execution_count": 13,
   "id": "93c5a2a8-0ed1-4354-bf67-0d1ea1a18c11",
   "metadata": {},
   "outputs": [
    {
     "data": {
      "text/plain": [
       "1"
      ]
     },
     "execution_count": 13,
     "metadata": {},
     "output_type": "execute_result"
    }
   ],
   "source": [
    "id_insp = data_semana[0]['id']\n",
    "id_insp"
   ]
  },
  {
   "cell_type": "code",
   "execution_count": 14,
   "id": "60850dc1-e024-4ce0-85ad-0f3d811a1437",
   "metadata": {},
   "outputs": [
    {
     "data": {
      "text/plain": [
       "insp(fecha_registro='02/05/2023', amigo_id='418db79190884947b35317c5550a4329', canhero='6550 / JUSTINIANO PEREYRA ALVARO', lote='A-13', area=3.73, textura='FY', variedad='CITTCA 85-22', repeticiones=None, filas_por_surco=3, origen_de_semilla='PROPIO', edad_de_semilla='HOJA', ubicacion='0101000020E610000074EA61D15C8C4FC014E01738B85731C0', obs='Se ha recomendado el padronizar el trozado de semilla, cruzado de semilla (punta base), corregir el tapado.', propiedad='333 / LA_CUTA--JUSTINIANO', usuario='Rogelio Acuña Rodríguez', id=1)"
      ]
     },
     "execution_count": 14,
     "metadata": {},
     "output_type": "execute_result"
    }
   ],
   "source": [
    "# consulta para buscar por id\n",
    "query = {'query': 'select * from dataset_289611 where id={id}'.format(id=id_insp)}\n",
    "project = 'https://app.amigocloud.com/api/v1/projects/31702/sql'\n",
    "select = amigocloud.get(project, query)\n",
    "data = select['data'][0]\n",
    "# cambio del formato de fecha\n",
    "data['fecha_registro'] = datetime.strptime(data['fecha_registro'][0:10], '%Y-%m-%d').strftime('%d/%m/%Y')\n",
    "# convercion a objeto\n",
    "insp = collections.namedtuple(\"insp\", data.keys())(*data.values())\n",
    "insp"
   ]
  },
  {
   "cell_type": "code",
   "execution_count": 16,
   "id": "c603f067-7ac9-4d17-8fbc-6656b35867dc",
   "metadata": {},
   "outputs": [],
   "source": [
    "# consulta para buscar \n",
    "query = {'query': 'select * from dataset_289610 where calidad_ref_muestra=\\'{amigo_id}\\''.format(amigo_id=insp.amigo_id)}\n",
    "project = 'https://app.amigocloud.com/api/v1/projects/31702/sql'\n",
    "select = amigocloud.get(project, query)\n",
    "data_muestras = select['data']"
   ]
  },
  {
   "cell_type": "code",
   "execution_count": 18,
   "id": "ee1605ba-db7c-4663-97ef-5f7c38d90c27",
   "metadata": {},
   "outputs": [
    {
     "data": {
      "text/plain": [
       "[{'fecha_registro': '2023-05-02 12:44:01+00:00',\n",
       "  'amigo_id': 'd8cce4c159f049e8ba84f5c54dbaf9c6',\n",
       "  'punto': '0101000020E6100000BC993A44688C4FC038AE5430785731C0',\n",
       "  'profundidad_surco': 32.0,\n",
       "  'distancia_entre_surco': 1.5,\n",
       "  'tamaño_de_cañoto': 45.0,\n",
       "  'cantidad_tierra': 10.0,\n",
       "  'falla_de_tapado': 38.0,\n",
       "  'peso_en_5m': 7.5,\n",
       "  'cantidad_de_semilla': 10.0,\n",
       "  'calidad_ref_muestra': '418db79190884947b35317c5550a4329',\n",
       "  'yemas_metro': 21.0,\n",
       "  'yemas_no_viables': 3.0,\n",
       "  'obs': 'Se observó el cruce del caña (punta tronco)',\n",
       "  'id': 1},\n",
       " {'fecha_registro': '2023-05-02 18:07:34+00:00',\n",
       "  'amigo_id': '02d7af91c72d4225a0568eb921564339',\n",
       "  'punto': '0101000020E610000098C394E2618C4FC0BCD0E52CB45731C0',\n",
       "  'profundidad_surco': 28.0,\n",
       "  'distancia_entre_surco': 1.5,\n",
       "  'tamaño_de_cañoto': 50.0,\n",
       "  'cantidad_tierra': 10.0,\n",
       "  'falla_de_tapado': 24.0,\n",
       "  'peso_en_5m': 8.0,\n",
       "  'cantidad_de_semilla': 10.6666666666667,\n",
       "  'calidad_ref_muestra': '418db79190884947b35317c5550a4329',\n",
       "  'yemas_metro': 16.0,\n",
       "  'yemas_no_viables': 8.0,\n",
       "  'obs': 'En el primer punto se observó la distribución de semilla  yemas viable y dañadas, trodado de la semilla',\n",
       "  'id': 2}]"
      ]
     },
     "execution_count": 18,
     "metadata": {},
     "output_type": "execute_result"
    }
   ],
   "source": [
    "data_muestras"
   ]
  },
  {
   "cell_type": "code",
   "execution_count": 22,
   "id": "d8357f93-cf1d-411e-914d-d10ae6b8e7d2",
   "metadata": {},
   "outputs": [],
   "source": [
    "muestras = []\n",
    "i = 1\n",
    "for muestra in data_muestras:\n",
    "    muestra['id'] = i\n",
    "    i += 1\n",
    "    obj_muestra = collections.namedtuple(\"muestra\", muestra.keys())(*muestra.values())\n",
    "    muestras.append(obj_muestra)"
   ]
  },
  {
   "cell_type": "code",
   "execution_count": 23,
   "id": "5aab1294-adf7-4bff-b675-409d0b8def74",
   "metadata": {},
   "outputs": [
    {
     "data": {
      "text/plain": [
       "[muestra(fecha_registro='2023-05-02 12:44:01+00:00', amigo_id='d8cce4c159f049e8ba84f5c54dbaf9c6', punto='0101000020E6100000BC993A44688C4FC038AE5430785731C0', profundidad_surco=32.0, distancia_entre_surco=1.5, tamaño_de_cañoto=45.0, cantidad_tierra=10.0, falla_de_tapado=38.0, peso_en_5m=7.5, cantidad_de_semilla=10.0, calidad_ref_muestra='418db79190884947b35317c5550a4329', yemas_metro=21.0, yemas_no_viables=3.0, obs='Se observó el cruce del caña (punta tronco)', id=1),\n",
       " muestra(fecha_registro='2023-05-02 18:07:34+00:00', amigo_id='02d7af91c72d4225a0568eb921564339', punto='0101000020E610000098C394E2618C4FC0BCD0E52CB45731C0', profundidad_surco=28.0, distancia_entre_surco=1.5, tamaño_de_cañoto=50.0, cantidad_tierra=10.0, falla_de_tapado=24.0, peso_en_5m=8.0, cantidad_de_semilla=10.6666666666667, calidad_ref_muestra='418db79190884947b35317c5550a4329', yemas_metro=16.0, yemas_no_viables=8.0, obs='En el primer punto se observó la distribución de semilla  yemas viable y dañadas, trodado de la semilla', id=2)]"
      ]
     },
     "execution_count": 23,
     "metadata": {},
     "output_type": "execute_result"
    }
   ],
   "source": [
    "muestras"
   ]
  },
  {
   "cell_type": "code",
   "execution_count": null,
   "id": "d0c07973-73ea-4816-8e66-131d4527ace6",
   "metadata": {},
   "outputs": [],
   "source": []
  }
 ],
 "metadata": {
  "kernelspec": {
   "display_name": "Python 3 (ipykernel)",
   "language": "python",
   "name": "python3"
  },
  "language_info": {
   "codemirror_mode": {
    "name": "ipython",
    "version": 3
   },
   "file_extension": ".py",
   "mimetype": "text/x-python",
   "name": "python",
   "nbconvert_exporter": "python",
   "pygments_lexer": "ipython3",
   "version": "3.7.16"
  }
 },
 "nbformat": 4,
 "nbformat_minor": 5
}
