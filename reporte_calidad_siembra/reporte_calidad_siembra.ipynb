{
 "cells": [
  {
   "cell_type": "code",
   "execution_count": 55,
   "id": "b8a1e437-1641-44eb-811f-1bfaee4b1d28",
   "metadata": {},
   "outputs": [],
   "source": [
    "from werkzeug.wrappers import Request, Response\n",
    "#from flask import Flask, render_template\n",
    "from jinja2 import Template\n",
    "\n",
    "#from datetime import date\n",
    "from datetime import datetime, timedelta\n",
    "\n",
    "import collections\n",
    "from amigocloud import AmigoCloud\n",
    "\n",
    "from docxtpl import DocxTemplate\n",
    "import docxtpl\n",
    "from docx.shared import Mm\n",
    "import requests\n",
    "\n",
    "from docx2pdf import convert\n",
    "import os\n",
    "\n",
    "import pandas as pd\n",
    "import json"
   ]
  },
  {
   "cell_type": "code",
   "execution_count": 56,
   "id": "973aeb0b-1e1c-464a-b1f9-cb1b8b3a0dbd",
   "metadata": {},
   "outputs": [
    {
     "name": "stderr",
     "output_type": "stream",
     "text": [
      "WARNING:socketIO-client:app.amigocloud.com:443/v2_socket.io/socket.io [connection error] recv disconnected by SSL ([SSL: SSLV3_ALERT_BAD_RECORD_MAC] sslv3 alert bad record mac (_ssl.c:2570))\n",
      "WARNING:socketIO-client:app.amigocloud.com:443/v2_socket.io/socket.io [connection error] recv disconnected ([WinError 10035] A non-blocking socket operation could not be completed immediately)\n"
     ]
    },
    {
     "data": {
      "text/plain": [
       "<amigocloud.amigocloud.AmigoCloud at 0x2b76809eb88>"
      ]
     },
     "execution_count": 56,
     "metadata": {},
     "output_type": "execute_result"
    }
   ],
   "source": [
    "# ruta de carpera donde estan las llaves\n",
    "ruta = open('../ruta.txt')\n",
    "ruta = ruta.readlines()[0]\n",
    "# leer token\n",
    "acceso = open(ruta + '/_keys/api_amigocloud.key','r')\n",
    "api_token = acceso.readlines()[0]\n",
    "acceso.close()\n",
    "# conexion a amigocloud\n",
    "amigocloud = AmigoCloud(token=api_token)\n",
    "amigocloud"
   ]
  },
  {
   "cell_type": "code",
   "execution_count": 57,
   "id": "111eeb88-5c07-44a4-acc8-b4424d735d26",
   "metadata": {},
   "outputs": [],
   "source": [
    "fecha = '2023-05-22'"
   ]
  },
  {
   "cell_type": "code",
   "execution_count": 58,
   "id": "4769eecf-34f4-4d14-8d41-5e6c1509593f",
   "metadata": {},
   "outputs": [
    {
     "data": {
      "text/plain": [
       "[{'id': 25, 'canhero': '388 / AGROPECUARIA MARIANA S.R.L.'}]"
      ]
     },
     "execution_count": 58,
     "metadata": {},
     "output_type": "execute_result"
    }
   ],
   "source": [
    "query_dia = {'query': 'select id, canhero from dataset_289611 where date(fecha_registro)=\\'{fech}\\''.format(fech=fecha)}\n",
    "project = 'https://app.amigocloud.com/api/v1/projects/31702/sql'\n",
    "select_dia = amigocloud.get(project, query_dia)\n",
    "data_dia = select_dia['data']\n",
    "data_dia"
   ]
  },
  {
   "cell_type": "code",
   "execution_count": 59,
   "id": "93c5a2a8-0ed1-4354-bf67-0d1ea1a18c11",
   "metadata": {},
   "outputs": [
    {
     "data": {
      "text/plain": [
       "25"
      ]
     },
     "execution_count": 59,
     "metadata": {},
     "output_type": "execute_result"
    }
   ],
   "source": [
    "id_insp = data_dia[0]['id']\n",
    "id_insp"
   ]
  },
  {
   "cell_type": "code",
   "execution_count": 60,
   "id": "60850dc1-e024-4ce0-85ad-0f3d811a1437",
   "metadata": {},
   "outputs": [
    {
     "data": {
      "text/plain": [
       "insp(fecha_registro='22/05/2023', amigo_id='fdbf1104c44f4be0b0493907b36fb62e', canhero='388 / AGROPECUARIA MARIANA S.R.L.', lote='L30.8', area=7.48, textura='F', variedad='RB-2', repeticiones=None, filas_por_surco=3, origen_de_semilla='PROPIO', edad_de_semilla='HOJA', ubicacion='0101000020E6100000737275B636954FC0C1EE2A5A6F4831C0', obs='Siembra con tres cañas, tamaño del cañoto grande ', propiedad='19 / SANTA BARBARA', usuario='Rogelio Acuña Rodríguez', id=25)"
      ]
     },
     "execution_count": 60,
     "metadata": {},
     "output_type": "execute_result"
    }
   ],
   "source": [
    "# consulta para buscar por id\n",
    "query = {'query': 'select * from dataset_289611 where id={id}'.format(id=id_insp)}\n",
    "project = 'https://app.amigocloud.com/api/v1/projects/31702/sql'\n",
    "select = amigocloud.get(project, query)\n",
    "data = select['data'][0]\n",
    "# cambio del formato de fecha\n",
    "data['fecha_registro'] = datetime.strptime(data['fecha_registro'][0:10], '%Y-%m-%d').strftime('%d/%m/%Y')\n",
    "# convercion a objeto\n",
    "insp = collections.namedtuple(\"insp\", data.keys())(*data.values())\n",
    "insp"
   ]
  },
  {
   "cell_type": "code",
   "execution_count": 61,
   "id": "c603f067-7ac9-4d17-8fbc-6656b35867dc",
   "metadata": {},
   "outputs": [],
   "source": [
    "# consulta para buscar \n",
    "query = {'query': 'select * from dataset_289610 where calidad_ref_muestra=\\'{amigo_id}\\''.format(amigo_id=insp.amigo_id)}\n",
    "project = 'https://app.amigocloud.com/api/v1/projects/31702/sql'\n",
    "select = amigocloud.get(project, query)\n",
    "data_muestras = select['data']"
   ]
  },
  {
   "cell_type": "code",
   "execution_count": 62,
   "id": "cfe55e86-5556-4e39-9852-805f9a818e56",
   "metadata": {},
   "outputs": [
    {
     "data": {
      "text/plain": [
       "[{'fecha_registro': '2023-05-22 17:33:25+00:00',\n",
       "  'amigo_id': '96c65d87998c46c9ab00ec467325d559',\n",
       "  'punto': '0101000020E61000005DEEDD301B954FC022C08EA4494831C0',\n",
       "  'profundidad_surco': 16.0,\n",
       "  'distancia_entre_surco': 1.5,\n",
       "  'tamaño_de_cañoto': 60.0,\n",
       "  'cantidad_tierra': 10.0,\n",
       "  'falla_de_tapado': 38.0,\n",
       "  'peso_en_5m': 9.5,\n",
       "  'cantidad_de_semilla': 12.6666666666667,\n",
       "  'calidad_ref_muestra': 'fdbf1104c44f4be0b0493907b36fb62e',\n",
       "  'yemas_metro': 25.0,\n",
       "  'yemas_no_viables': 0.0,\n",
       "  'obs': 'Tamaño del cañoto ',\n",
       "  'id': 38},\n",
       " {'fecha_registro': '2023-05-22 18:00:29+00:00',\n",
       "  'amigo_id': '50f446dc41434412908a36cd1d1ab22f',\n",
       "  'punto': '0101000020E6100000EA0203AD65954FC0ABA7A0EC774831C0',\n",
       "  'profundidad_surco': 19.0,\n",
       "  'distancia_entre_surco': 1.5,\n",
       "  'tamaño_de_cañoto': 60.0,\n",
       "  'cantidad_tierra': 10.0,\n",
       "  'falla_de_tapado': 0.0,\n",
       "  'peso_en_5m': 8.79,\n",
       "  'cantidad_de_semilla': 11.72,\n",
       "  'calidad_ref_muestra': 'fdbf1104c44f4be0b0493907b36fb62e',\n",
       "  'yemas_metro': 22.0,\n",
       "  'yemas_no_viables': 1.0,\n",
       "  'obs': 'Tamaño del cañoto ',\n",
       "  'id': 39}]"
      ]
     },
     "execution_count": 62,
     "metadata": {},
     "output_type": "execute_result"
    }
   ],
   "source": [
    "data_muestras"
   ]
  },
  {
   "cell_type": "code",
   "execution_count": 63,
   "id": "d0c07973-73ea-4816-8e66-131d4527ace6",
   "metadata": {},
   "outputs": [],
   "source": [
    "keys_to_avg = ['profundidad_surco', \n",
    "               'distancia_entre_surco', \n",
    "               'tamaño_de_cañoto', \n",
    "               'cantidad_tierra', \n",
    "               'falla_de_tapado', \n",
    "               'peso_en_5m', \n",
    "               'cantidad_de_semilla', \n",
    "               'yemas_metro', \n",
    "               'yemas_no_viables']\n",
    "averages = {}\n",
    "for key in keys_to_avg:\n",
    "    total = sum(d[key] for d in data_muestras)\n",
    "    averages[key] = total / len(data_muestras)\n",
    "\n",
    "averages['yemas_metro'] = int(averages['yemas_metro'])"
   ]
  },
  {
   "cell_type": "code",
   "execution_count": 64,
   "id": "4973201c-b36a-4e0e-9105-f153a1d651e3",
   "metadata": {},
   "outputs": [
    {
     "data": {
      "text/plain": [
       "{'profundidad_surco': 17.5,\n",
       " 'distancia_entre_surco': 1.5,\n",
       " 'tamaño_de_cañoto': 60.0,\n",
       " 'cantidad_tierra': 10.0,\n",
       " 'falla_de_tapado': 19.0,\n",
       " 'peso_en_5m': 9.145,\n",
       " 'cantidad_de_semilla': 12.19333333333335,\n",
       " 'yemas_metro': 23,\n",
       " 'yemas_no_viables': 0.5}"
      ]
     },
     "execution_count": 64,
     "metadata": {},
     "output_type": "execute_result"
    }
   ],
   "source": [
    "averages"
   ]
  },
  {
   "cell_type": "code",
   "execution_count": 65,
   "id": "660b3935-cfe2-4978-9a28-ea6f01d4080a",
   "metadata": {},
   "outputs": [],
   "source": [
    "data = collections.namedtuple(\"data\", averages.keys())(*averages.values())"
   ]
  },
  {
   "cell_type": "code",
   "execution_count": 66,
   "id": "c54fbfac-190e-44f2-bc13-37c7b9c16e9d",
   "metadata": {},
   "outputs": [
    {
     "data": {
      "text/plain": [
       "data(profundidad_surco=17.5, distancia_entre_surco=1.5, tamaño_de_cañoto=60.0, cantidad_tierra=10.0, falla_de_tapado=19.0, peso_en_5m=9.145, cantidad_de_semilla=12.19333333333335, yemas_metro=23, yemas_no_viables=0.5)"
      ]
     },
     "execution_count": 66,
     "metadata": {},
     "output_type": "execute_result"
    }
   ],
   "source": [
    "data"
   ]
  },
  {
   "cell_type": "code",
   "execution_count": null,
   "id": "ad78eab6-0fdf-4743-8aae-c0226d5b4704",
   "metadata": {},
   "outputs": [],
   "source": []
  },
  {
   "cell_type": "code",
   "execution_count": null,
   "id": "dc59f765-1826-4a87-9bda-b49d7a7e010a",
   "metadata": {},
   "outputs": [],
   "source": []
  },
  {
   "cell_type": "code",
   "execution_count": 67,
   "id": "87e5c861-ca93-463e-90d1-cd25fc2df90b",
   "metadata": {},
   "outputs": [],
   "source": [
    "query_fotos = {'query': 'select insp.lote, muestra.obs, gal.s3_filename from dataset_289611 insp inner join dataset_289610 muestra on insp.amigo_id=muestra.calidad_ref_muestra inner join gallery_41234 gal on muestra.amigo_id=gal.source_amigo_id where insp.amigo_id=\\'{amigo_id}\\''.format(amigo_id=insp.amigo_id)}\n",
    "project = 'https://app.amigocloud.com/api/v1/projects/31702/sql'\n",
    "select_fotos = amigocloud.get(project, query_fotos)\n",
    "fotos = select_fotos['data']"
   ]
  },
  {
   "cell_type": "code",
   "execution_count": 68,
   "id": "d0d59790-7440-44b0-b695-908619f9ae33",
   "metadata": {},
   "outputs": [
    {
     "data": {
      "text/plain": [
       "[{'lote': 'L30.8',\n",
       "  'obs': 'Tamaño del cañoto ',\n",
       "  's3_filename': '20230522_134219.jpg'},\n",
       " {'lote': 'L30.8',\n",
       "  'obs': 'Tamaño del cañoto ',\n",
       "  's3_filename': '20230522_134848.jpg'}]"
      ]
     },
     "execution_count": 68,
     "metadata": {},
     "output_type": "execute_result"
    }
   ],
   "source": [
    "fotos"
   ]
  },
  {
   "cell_type": "code",
   "execution_count": 69,
   "id": "5bfa3d50-be06-4d25-8b6a-d534a7d302ee",
   "metadata": {},
   "outputs": [],
   "source": [
    "doc = DocxTemplate(ruta + \"/templates/tpl_rpt_calidad-siembra.docx\")"
   ]
  },
  {
   "cell_type": "code",
   "execution_count": 70,
   "id": "5a2f46ee-3e52-48e9-b9a4-5640c6babdb2",
   "metadata": {},
   "outputs": [],
   "source": [
    "# SE DESCARGAN LAS FOTOS\n",
    "lista_fotos_inline = []\n",
    "i = 1\n",
    "for foto in fotos:\n",
    "    response = requests.get(\"https://www-amigocloud.s3.amazonaws.com/gallery/\" + foto['s3_filename'])\n",
    "    file = open(ruta + '/fotos/' + foto['s3_filename'], \"wb\")\n",
    "    file.write(response.content)\n",
    "    file.close()\n",
    "    lista_fotos_inline.append({\n",
    "        'foto': docxtpl.InlineImage(doc, image_descriptor=ruta+'/fotos/' + foto['s3_filename'], width=Mm(60)), \n",
    "        'muestra': 'M' + str(i),\n",
    "        'obs':foto['obs']\n",
    "    })\n",
    "    i=i+1"
   ]
  },
  {
   "cell_type": "code",
   "execution_count": 71,
   "id": "a06720ca-4db5-4157-b6d6-e9ae6b6a4ac2",
   "metadata": {},
   "outputs": [
    {
     "data": {
      "text/plain": [
       "'M1'"
      ]
     },
     "execution_count": 71,
     "metadata": {},
     "output_type": "execute_result"
    }
   ],
   "source": [
    "lista_fotos_inline[0]['muestra']"
   ]
  },
  {
   "cell_type": "code",
   "execution_count": null,
   "id": "83539fb3-3918-40a4-95c8-e1a00c5cff84",
   "metadata": {},
   "outputs": [],
   "source": []
  },
  {
   "cell_type": "code",
   "execution_count": 72,
   "id": "80190538-c3f4-47a8-99c3-f7346792ad80",
   "metadata": {},
   "outputs": [],
   "source": [
    "firma_respon = None\n",
    "if insp.usuario == 'Rogelio Acuña Rodríguez':\n",
    "    firma_respon = docxtpl.InlineImage(doc, image_descriptor=ruta+'/templates/firma_rogelio.png', width=Mm(60))\n",
    "else:\n",
    "    firma_respon = docxtpl.InlineImage(doc, image_descriptor=ruta+'/templates/firma_jaldin.png', width=Mm(60))"
   ]
  },
  {
   "cell_type": "code",
   "execution_count": 73,
   "id": "d7c4a799-4055-4844-92ec-3bb27afc4424",
   "metadata": {},
   "outputs": [
    {
     "data": {
      "text/plain": [
       "<docxtpl.InlineImage at 0x2b768100bc8>"
      ]
     },
     "execution_count": 73,
     "metadata": {},
     "output_type": "execute_result"
    }
   ],
   "source": [
    "firma_respon"
   ]
  },
  {
   "cell_type": "code",
   "execution_count": null,
   "id": "42d94a03-7dce-4626-8810-cc892ca74e27",
   "metadata": {},
   "outputs": [],
   "source": []
  },
  {
   "cell_type": "code",
   "execution_count": 74,
   "id": "62178c16-72f2-40bf-bf44-f68ca70903ed",
   "metadata": {},
   "outputs": [
    {
     "data": {
      "text/plain": [
       "'/_388_CDS_22-05-2023_AGROPECUARIA MARIANA S.R.L._25.docx'"
      ]
     },
     "execution_count": 74,
     "metadata": {},
     "output_type": "execute_result"
    }
   ],
   "source": [
    "# NORMBRE DEL ARCHIVO\n",
    "filename = '/_' + insp.canhero.split(' / ')[0] + '_CDS_' + insp.fecha_registro.replace('/','-') + '_' + insp.canhero.split(' / ')[1] + '_' + str(insp.id) + '.docx'\n",
    "filename"
   ]
  },
  {
   "cell_type": "code",
   "execution_count": 75,
   "id": "a2532ae8-8ce7-4831-8398-d21ce589e7cb",
   "metadata": {},
   "outputs": [
    {
     "name": "stdout",
     "output_type": "stream",
     "text": [
      "Trarea terminada.\n"
     ]
    }
   ],
   "source": [
    "# CREAR EL CONTEXTO DEL DOC Y CREAR EL DOC\n",
    "context = {'insp':insp, 'data':data, 'fotos':lista_fotos_inline, 'responsable':firma_respon}\n",
    "doc.render(context)\n",
    "doc.save(ruta + '/informes' + filename)\n",
    "print('Trarea terminada.')"
   ]
  },
  {
   "cell_type": "code",
   "execution_count": null,
   "id": "eabeda29-8dab-4619-addf-ab65e61444ac",
   "metadata": {},
   "outputs": [],
   "source": []
  },
  {
   "cell_type": "code",
   "execution_count": null,
   "id": "e6d78cbc-2bcb-4e4e-ac7c-87fc584ba2fc",
   "metadata": {},
   "outputs": [],
   "source": []
  },
  {
   "cell_type": "code",
   "execution_count": null,
   "id": "8a92bbe9-af28-4164-b4ee-7bea2003ad9e",
   "metadata": {},
   "outputs": [],
   "source": []
  },
  {
   "cell_type": "code",
   "execution_count": null,
   "id": "fe737391-fd5a-439b-bf22-f8476c04e903",
   "metadata": {},
   "outputs": [],
   "source": []
  },
  {
   "cell_type": "code",
   "execution_count": null,
   "id": "102097f9-9f80-4f9f-80ac-520fde8d700b",
   "metadata": {},
   "outputs": [],
   "source": []
  },
  {
   "cell_type": "code",
   "execution_count": null,
   "id": "ee9ce12a-2eeb-4064-b498-3eb9f2070fb0",
   "metadata": {},
   "outputs": [],
   "source": []
  },
  {
   "cell_type": "code",
   "execution_count": null,
   "id": "80611e16-965e-4a3f-b808-238b5a859f26",
   "metadata": {},
   "outputs": [],
   "source": []
  },
  {
   "cell_type": "code",
   "execution_count": null,
   "id": "9a9e74ff-c04a-4df0-9d96-f359019dc224",
   "metadata": {},
   "outputs": [],
   "source": []
  }
 ],
 "metadata": {
  "kernelspec": {
   "display_name": "Python 3 (ipykernel)",
   "language": "python",
   "name": "python3"
  },
  "language_info": {
   "codemirror_mode": {
    "name": "ipython",
    "version": 3
   },
   "file_extension": ".py",
   "mimetype": "text/x-python",
   "name": "python",
   "nbconvert_exporter": "python",
   "pygments_lexer": "ipython3",
   "version": "3.7.16"
  }
 },
 "nbformat": 4,
 "nbformat_minor": 5
}
