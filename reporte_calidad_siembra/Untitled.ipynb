{
 "cells": [
  {
   "cell_type": "code",
   "execution_count": 2,
   "id": "938017ef-c755-4c92-8965-f563dce59073",
   "metadata": {},
   "outputs": [],
   "source": [
    "import os\n",
    "import comtypes.client\n",
    "\n",
    "def docx_to_pdf(source_folder, target_folder):\n",
    "    # Asegúrate de que la carpeta de destino existe, si no, créala\n",
    "    if not os.path.exists(target_folder):\n",
    "        os.makedirs(target_folder)\n",
    "\n",
    "    # Inicia la aplicación de Word en modo invisible\n",
    "    word = comtypes.client.CreateObject('Word.Application')\n",
    "    word.Visible = False\n",
    "\n",
    "    # Convierte cada archivo .docx en la carpeta de origen\n",
    "    for filename in os.listdir(source_folder):\n",
    "        if filename.endswith(\".docx\"):\n",
    "            source_path = os.path.join(source_folder, filename)\n",
    "            target_path = os.path.join(target_folder, os.path.splitext(filename)[0] + '.pdf')\n",
    "            \n",
    "            # Abre el documento y lo convierte\n",
    "            doc = word.Documents.Open(source_path)\n",
    "            doc.SaveAs(target_path, FileFormat=17) # 17 representa el formato PDF en Word\n",
    "            doc.Close()\n",
    "\n",
    "    word.Quit()\n",
    "\n",
    "source_folder = r'G:\\OneDrive - Ingenio Azucarero Guabira S.A\\_DATOS_PYTHON\\informes'\n",
    "target_folder = r'G:\\OneDrive - Ingenio Azucarero Guabira S.A\\_DATOS_PYTHON\\informes_pdf'\n",
    "\n",
    "docx_to_pdf(source_folder, target_folder)"
   ]
  }
 ],
 "metadata": {
  "kernelspec": {
   "display_name": "Python 3 (ipykernel)",
   "language": "python",
   "name": "python3"
  },
  "language_info": {
   "codemirror_mode": {
    "name": "ipython",
    "version": 3
   },
   "file_extension": ".py",
   "mimetype": "text/x-python",
   "name": "python",
   "nbconvert_exporter": "python",
   "pygments_lexer": "ipython3",
   "version": "3.10.13"
  }
 },
 "nbformat": 4,
 "nbformat_minor": 5
}
