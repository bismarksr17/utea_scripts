{
 "cells": [
  {
   "cell_type": "code",
   "execution_count": 23,
   "id": "7a9f8b73",
   "metadata": {},
   "outputs": [],
   "source": [
    "import sys\n",
    "sys.path.append('../_amigocloud')\n",
    "from amigocloud import AmigoCloud\n",
    "\n",
    "import pandas as pd\n",
    "from datetime import datetime, timedelta\n",
    "import collections\n",
    "\n",
    "from docxtpl import DocxTemplate\n",
    "from docx.shared import Mm\n",
    "import docxtpl\n",
    "import requests\n",
    "import os"
   ]
  },
  {
   "cell_type": "code",
   "execution_count": 24,
   "id": "0083a6c8-361d-4257-b9a9-fa7abf38c128",
   "metadata": {},
   "outputs": [],
   "source": [
    "def get_unidad_local():\n",
    "    try:\n",
    "        # ruta del archivo que contiene la información necesaria\n",
    "        with open('../../unidad_local.txt', 'r') as file:\n",
    "            unidad = file.readline().strip()\n",
    "            return unidad\n",
    "    except FileNotFoundError:\n",
    "        print(\"El archivo 'unidad_local.txt' no se encuentra en la ruta especificada.\")\n",
    "    return None\n",
    "\n",
    "def get_ruta_local():\n",
    "    try:\n",
    "        with open('../ruta_local.txt', 'r') as file:\n",
    "            ruta = file.readline().strip()\n",
    "            return ruta\n",
    "    except FileNotFoundError:\n",
    "        print(\"El archivo 'ruta_local.txt' no se encuentra en la ruta especificada.\")\n",
    "    return None"
   ]
  },
  {
   "cell_type": "code",
   "execution_count": 25,
   "id": "c8a417f1-d8d6-4da1-bd44-42b0f0b7a4f8",
   "metadata": {},
   "outputs": [
    {
     "data": {
      "text/plain": [
       "'C:\\\\Documents\\\\OneDrive - Ingenio Azucarero Guabira S.A\\\\_DATOS_PYTHON'"
      ]
     },
     "execution_count": 25,
     "metadata": {},
     "output_type": "execute_result"
    }
   ],
   "source": [
    "# RUTA ONEDRIVE\n",
    "unidad = get_unidad_local()\n",
    "ruta = get_ruta_local()\n",
    "ruta_completa = os.path.join(unidad, ruta)\n",
    "ruta_completa"
   ]
  },
  {
   "cell_type": "code",
   "execution_count": 26,
   "id": "25e9245f",
   "metadata": {},
   "outputs": [
    {
     "data": {
      "text/plain": [
       "<amigocloud.AmigoCloud at 0x1eb722c5780>"
      ]
     },
     "execution_count": 26,
     "metadata": {},
     "output_type": "execute_result"
    }
   ],
   "source": [
    "# leer token\n",
    "acceso = open(ruta_completa + '/_keys/api_amigocloud.key','r')\n",
    "api_token = acceso.readlines()[0]\n",
    "acceso.close()\n",
    "amigocloud = AmigoCloud(token=api_token)\n",
    "amigocloud"
   ]
  },
  {
   "cell_type": "code",
   "execution_count": 27,
   "id": "2ae72b9f-5421-4fbe-96e5-5eb0559d942b",
   "metadata": {},
   "outputs": [],
   "source": [
    "def crear_lista_imagenes(id_proyecto, source_amigo_id, doc):\n",
    "    print('buscando fotos')\n",
    "    query_fotos = {'query': 'select * from gallery_67001 where source_amigo_id=\\'{amigo_id}\\''.format(amigo_id=source_amigo_id)}\n",
    "    print(query_fotos)\n",
    "    project = 'https://app.amigocloud.com/api/v1/projects/' + id_proyecto + '/sql'\n",
    "    select_fotos = amigocloud.get(project, query_fotos)\n",
    "    fotos = select_fotos['data']\n",
    "    lista_fotos_inline = []\n",
    "    print('descargando fotos')\n",
    "    for foto in fotos:\n",
    "        print('descargando una foto')\n",
    "        response = requests.get(\"https://www-amigocloud.s3.amazonaws.com/gallery/\" + foto['s3_filename'])\n",
    "        file = open(ruta_completa + '/fotos/' + foto['s3_filename'], \"wb\")\n",
    "        file.write(response.content)\n",
    "        file.close()\n",
    "        lista_fotos_inline.append({'foto': docxtpl.InlineImage(doc, image_descriptor=ruta_completa +'/fotos/' + foto['s3_filename'], width=Mm(60))})\n",
    "    return lista_fotos_inline"
   ]
  },
  {
   "cell_type": "code",
   "execution_count": 28,
   "id": "bacd8ce8-7888-4ee3-acb3-7d4e2f90ee32",
   "metadata": {},
   "outputs": [],
   "source": [
    "def generar_reporte(cod):\n",
    "    id = cod\n",
    "    query = {'query': 'select mu.*, (select count(*) from dataset_365891 da where mu.amigo_id = da.muestra_ref_datos) from dataset_365887 mu where id={idd}'.format(idd=id)}\n",
    "    select = amigocloud.get('https://app.amigocloud.com/api/v1/projects/35567/sql', query)\n",
    "    data = select['data'][0]\n",
    "    data['fecha_registro'] = datetime.strptime(data['fecha_registro'].split(' ')[0], '%Y-%m-%d').strftime('%d/%m/%Y')\n",
    "    print(data)\n",
    "    insp = {\n",
    "        'fecha':data['fecha_registro'],\n",
    "        'canhero':data['canhero'],\n",
    "        'propiedad':data['propiedad'].split('--')[0],\n",
    "        'lote':data['lote'],\n",
    "        'area':data['area'],\n",
    "        'variedad':data['variedad'],\n",
    "        'edad':data['edad'],\n",
    "        'ciclo':data['ciclo'],\n",
    "        'num_mus':data['count']*20,\n",
    "        'id':data['id'],\n",
    "        'amigo_id':data['amigo_id']\n",
    "    }\n",
    "    insp = collections.namedtuple(\"insp\", insp.keys())(*insp.values())  \n",
    "\n",
    "    query = {'query': 'select * from dataset_365891 where muestra_ref_datos=\\'{amigo_id}\\''.format(amigo_id=data['amigo_id'])}\n",
    "    select = amigocloud.get('https://app.amigocloud.com/api/v1/projects/35567/sql', query)\n",
    "    datos = select['data']\n",
    "    tabla_datos = pd.DataFrame(datos)[['id', 'total_yemas', 'perforadas', 'enraizamiento', 'brotacion', 'muerta']]\n",
    "\n",
    "    total_yemas = tabla_datos['total_yemas'].sum()\n",
    "    total_perforadas = tabla_datos['perforadas'].sum()\n",
    "    total_enraizamiento = tabla_datos['enraizamiento'].sum()\n",
    "    total_brotacion = tabla_datos['brotacion'].sum()\n",
    "    total_muertas = tabla_datos['muerta'].sum()\n",
    "    total_inviables = total_perforadas + total_enraizamiento + total_brotacion + total_muertas\n",
    "    total_viables = total_yemas - total_inviables\n",
    "\n",
    "    porcen_perforadas = (total_perforadas / total_yemas)*100\n",
    "    porcen_enraizamiento = (total_enraizamiento / total_yemas)*100\n",
    "    porcen_brotacion = (total_brotacion / total_yemas)*100\n",
    "    porcen_muertas = (total_muertas / total_yemas)*100\n",
    "    porcen_inviables = (total_inviables / total_yemas)*100\n",
    "    porcen_viables = (total_viables / total_yemas)*100\n",
    "\n",
    "    res = {\n",
    "        'diat':total_perforadas,\n",
    "        'en':total_enraizamiento,\n",
    "        'bro':total_brotacion,\n",
    "        'mur':total_muertas,\n",
    "        'invi':total_inviables,\n",
    "        'via':total_viables,\n",
    "        'ana':total_yemas,\n",
    "        'diatp':porcen_perforadas,\n",
    "        'enp':porcen_enraizamiento,\n",
    "        'brop':porcen_brotacion,\n",
    "        'murp':porcen_muertas,\n",
    "        'invip':porcen_inviables,\n",
    "        'viap':porcen_viables\n",
    "    }\n",
    "    res = collections.namedtuple(\"res\", res.keys())(*res.values())\n",
    "    \n",
    "    doc = DocxTemplate(ruta_completa + \"/templates/tpl_rpt_calidad_semilla.docx\")\n",
    "    id_proyecto = '35567'\n",
    "    source_amigo_id = insp.amigo_id\n",
    "    inline_fotos = crear_lista_imagenes(id_proyecto, source_amigo_id, doc)\n",
    "    context = {'insp':insp, 'res':res, 'fotos':inline_fotos }\n",
    "    doc.render(context)\n",
    "    ca = insp.canhero.split(' / ')\n",
    "    file_name = ca[0] + '_CDSE_' + insp.fecha.replace('/', '-') + '_' + ca[1] + '_' + str(insp.id) + '_' + str(insp.lote)\n",
    "    doc.save(ruta_completa + '/informes/_' + file_name + '.docx')"
   ]
  },
  {
   "cell_type": "code",
   "execution_count": null,
   "id": "7ce71a17-114f-43fb-a635-9d2f0bd36724",
   "metadata": {},
   "outputs": [],
   "source": []
  },
  {
   "cell_type": "code",
   "execution_count": null,
   "id": "560fd71e-12a0-4607-a0e9-caff30f0c97f",
   "metadata": {},
   "outputs": [],
   "source": []
  },
  {
   "cell_type": "code",
   "execution_count": 22,
   "id": "c0d3cea4-dd8f-480e-b50a-07100507b32a",
   "metadata": {},
   "outputs": [
    {
     "data": {
      "text/html": [
       "<div>\n",
       "<style scoped>\n",
       "    .dataframe tbody tr th:only-of-type {\n",
       "        vertical-align: middle;\n",
       "    }\n",
       "\n",
       "    .dataframe tbody tr th {\n",
       "        vertical-align: top;\n",
       "    }\n",
       "\n",
       "    .dataframe thead th {\n",
       "        text-align: right;\n",
       "    }\n",
       "</style>\n",
       "<table border=\"1\" class=\"dataframe\">\n",
       "  <thead>\n",
       "    <tr style=\"text-align: right;\">\n",
       "      <th></th>\n",
       "      <th>id</th>\n",
       "      <th>canhero</th>\n",
       "      <th>propiedad</th>\n",
       "      <th>lote</th>\n",
       "      <th>variedad</th>\n",
       "    </tr>\n",
       "  </thead>\n",
       "  <tbody>\n",
       "    <tr>\n",
       "      <th>0</th>\n",
       "      <td>188</td>\n",
       "      <td>3473 / ESCALERA FRANCO JORGE</td>\n",
       "      <td>None</td>\n",
       "      <td>None</td>\n",
       "      <td>UCG 90-20</td>\n",
       "    </tr>\n",
       "  </tbody>\n",
       "</table>\n",
       "</div>"
      ],
      "text/plain": [
       "    id                       canhero propiedad  lote   variedad\n",
       "0  188  3473 / ESCALERA FRANCO JORGE      None  None  UCG 90-20"
      ]
     },
     "execution_count": 22,
     "metadata": {},
     "output_type": "execute_result"
    }
   ],
   "source": [
    "query = {'query': 'select id, canhero, propiedad, lote, variedad from dataset_365887 where procesado=false'}\n",
    "select = amigocloud.get('https://app.amigocloud.com/api/v1/projects/35567/sql', query)\n",
    "data = select['data']\n",
    "tabla = pd.DataFrame(data)\n",
    "tabla"
   ]
  },
  {
   "cell_type": "code",
   "execution_count": null,
   "id": "66519438-8cb1-4098-8ac1-bd195c73b917",
   "metadata": {},
   "outputs": [],
   "source": []
  },
  {
   "cell_type": "code",
   "execution_count": null,
   "id": "ae81e2e3-13c5-4e3a-9242-3ad7908ed260",
   "metadata": {},
   "outputs": [],
   "source": []
  },
  {
   "cell_type": "code",
   "execution_count": null,
   "id": "df203dbe-0f8e-4af6-9d37-a00d5ffc8574",
   "metadata": {},
   "outputs": [],
   "source": []
  },
  {
   "cell_type": "code",
   "execution_count": null,
   "id": "22d220ad-fd86-4bcf-9fd8-cc7e5d051afb",
   "metadata": {},
   "outputs": [],
   "source": []
  },
  {
   "cell_type": "code",
   "execution_count": 38,
   "id": "7626c1f9",
   "metadata": {},
   "outputs": [
    {
     "data": {
      "text/html": [
       "<div>\n",
       "<style scoped>\n",
       "    .dataframe tbody tr th:only-of-type {\n",
       "        vertical-align: middle;\n",
       "    }\n",
       "\n",
       "    .dataframe tbody tr th {\n",
       "        vertical-align: top;\n",
       "    }\n",
       "\n",
       "    .dataframe thead th {\n",
       "        text-align: right;\n",
       "    }\n",
       "</style>\n",
       "<table border=\"1\" class=\"dataframe\">\n",
       "  <thead>\n",
       "    <tr style=\"text-align: right;\">\n",
       "      <th></th>\n",
       "      <th>id</th>\n",
       "      <th>canhero</th>\n",
       "      <th>propiedad</th>\n",
       "      <th>lote</th>\n",
       "      <th>variedad</th>\n",
       "    </tr>\n",
       "  </thead>\n",
       "  <tbody>\n",
       "    <tr>\n",
       "      <th>0</th>\n",
       "      <td>196</td>\n",
       "      <td>8624 / MORENO TORRICO JOSE ALBERTO</td>\n",
       "      <td>54 / SANTA MARIA--MORENO TORRICO</td>\n",
       "      <td>L2.1</td>\n",
       "      <td>CITTCA 0563</td>\n",
       "    </tr>\n",
       "    <tr>\n",
       "      <th>1</th>\n",
       "      <td>197</td>\n",
       "      <td>8624 / MORENO TORRICO JOSE ALBERTO</td>\n",
       "      <td>54 / SANTA MARIA--MORENO TORRICO</td>\n",
       "      <td>L8.1</td>\n",
       "      <td>CITTCA 85-22</td>\n",
       "    </tr>\n",
       "    <tr>\n",
       "      <th>2</th>\n",
       "      <td>198</td>\n",
       "      <td>8624 / MORENO TORRICO JOSE ALBERTO</td>\n",
       "      <td>54 / SANTA MARIA--MORENO TORRICO</td>\n",
       "      <td>L8.2</td>\n",
       "      <td>CITTCA 85-22</td>\n",
       "    </tr>\n",
       "    <tr>\n",
       "      <th>3</th>\n",
       "      <td>199</td>\n",
       "      <td>8624 / MORENO TORRICO JOSE ALBERTO</td>\n",
       "      <td>54 / SANTA MARIA--MORENO TORRICO</td>\n",
       "      <td>L2.1</td>\n",
       "      <td>CITTCA 85-22</td>\n",
       "    </tr>\n",
       "  </tbody>\n",
       "</table>\n",
       "</div>"
      ],
      "text/plain": [
       "    id                             canhero                         propiedad  \\\n",
       "0  196  8624 / MORENO TORRICO JOSE ALBERTO  54 / SANTA MARIA--MORENO TORRICO   \n",
       "1  197  8624 / MORENO TORRICO JOSE ALBERTO  54 / SANTA MARIA--MORENO TORRICO   \n",
       "2  198  8624 / MORENO TORRICO JOSE ALBERTO  54 / SANTA MARIA--MORENO TORRICO   \n",
       "3  199  8624 / MORENO TORRICO JOSE ALBERTO  54 / SANTA MARIA--MORENO TORRICO   \n",
       "\n",
       "   lote      variedad  \n",
       "0  L2.1   CITTCA 0563  \n",
       "1  L8.1  CITTCA 85-22  \n",
       "2  L8.2  CITTCA 85-22  \n",
       "3  L2.1  CITTCA 85-22  "
      ]
     },
     "execution_count": 38,
     "metadata": {},
     "output_type": "execute_result"
    }
   ],
   "source": [
    "fecha_insp = '2025-03-29'\n",
    "query = {'query': 'select id, canhero, propiedad, lote, variedad from dataset_365887 where fecha_registro::date=\\'{fecha}\\''.format(fecha=fecha_insp)}\n",
    "select = amigocloud.get('https://app.amigocloud.com/api/v1/projects/35567/sql', query)\n",
    "data = select['data']\n",
    "tabla = pd.DataFrame(data)\n",
    "tabla"
   ]
  },
  {
   "cell_type": "code",
   "execution_count": 39,
   "id": "17246ad8",
   "metadata": {},
   "outputs": [
    {
     "data": {
      "text/plain": [
       "[196, 197, 198, 199]"
      ]
     },
     "execution_count": 39,
     "metadata": {},
     "output_type": "execute_result"
    }
   ],
   "source": [
    "ids = list(tabla['id'])\n",
    "ids"
   ]
  },
  {
   "cell_type": "code",
   "execution_count": 40,
   "id": "e5d0a840",
   "metadata": {},
   "outputs": [
    {
     "name": "stdout",
     "output_type": "stream",
     "text": [
      "{'fecha_registro': '29/03/2025', 'id': 196, 'estado': 'APROBADO', 'ubicacion': '0101000020E610000044F77EDD839B4FC0A8AB434CDF4831C0', 'tecnico_responsable': 'JUAN PABLO', 'canhero': '8624 / MORENO TORRICO JOSE ALBERTO', 'lote': 'L2.1', 'observaciones': None, 'propiedad': '54 / SANTA MARIA--MORENO TORRICO', 'variedad': 'CITTCA 0563', 'ciclo': 'HOJA', 'area': 4.0, 'edad': 10, 'usuario': 'Juan Pablo Jaldin Duran', 'amigo_id': '0968C9A23E324F90BE445FCCC0B006EC', 'procesado': True, 'count': 1}\n",
      "buscando fotos\n",
      "{'query': \"select * from gallery_67001 where source_amigo_id='0968C9A23E324F90BE445FCCC0B006EC'\"}\n",
      "descargando fotos\n",
      "descargando una foto\n",
      "196\n",
      "{'fecha_registro': '29/03/2025', 'id': 197, 'estado': 'APROBADO', 'ubicacion': '0101000020E6100000EE95FF8C059C4FC004071222A54A31C0', 'tecnico_responsable': 'JUAN PABLO', 'canhero': '8624 / MORENO TORRICO JOSE ALBERTO', 'lote': 'L8.1', 'observaciones': None, 'propiedad': '54 / SANTA MARIA--MORENO TORRICO', 'variedad': 'CITTCA 85-22', 'ciclo': 'SOCA 1', 'area': 3.0, 'edad': 11, 'usuario': 'Juan Pablo Jaldin Duran', 'amigo_id': '22508426AF3C4AF8A1A24439F84D5A2C', 'procesado': True, 'count': 1}\n",
      "buscando fotos\n",
      "{'query': \"select * from gallery_67001 where source_amigo_id='22508426AF3C4AF8A1A24439F84D5A2C'\"}\n",
      "descargando fotos\n",
      "descargando una foto\n",
      "197\n",
      "{'fecha_registro': '29/03/2025', 'id': 198, 'estado': 'APROBADO', 'ubicacion': '0101000020E61000003C952486339C4FC0087F4BFE7C4A31C0', 'tecnico_responsable': 'JUAN PABLO', 'canhero': '8624 / MORENO TORRICO JOSE ALBERTO', 'lote': 'L8.2', 'observaciones': None, 'propiedad': '54 / SANTA MARIA--MORENO TORRICO', 'variedad': 'CITTCA 85-22', 'ciclo': 'SOCA 1', 'area': 3.0, 'edad': 11, 'usuario': 'Juan Pablo Jaldin Duran', 'amigo_id': '312680952D9D4EF4A204EFB09A27DAA6', 'procesado': True, 'count': 1}\n",
      "buscando fotos\n",
      "{'query': \"select * from gallery_67001 where source_amigo_id='312680952D9D4EF4A204EFB09A27DAA6'\"}\n",
      "descargando fotos\n",
      "descargando una foto\n",
      "198\n",
      "{'fecha_registro': '29/03/2025', 'id': 199, 'estado': 'APROBADO', 'ubicacion': '0101000020E6100000306114B39A9B4FC09C186283FE4831C0', 'tecnico_responsable': 'JUAN PABLO', 'canhero': '8624 / MORENO TORRICO JOSE ALBERTO', 'lote': 'L2.1', 'observaciones': None, 'propiedad': '54 / SANTA MARIA--MORENO TORRICO', 'variedad': 'CITTCA 85-22', 'ciclo': 'HOJA', 'area': 3.0, 'edad': 11, 'usuario': 'Juan Pablo Jaldin Duran', 'amigo_id': '093155DCF20B4136953324116D514D2F', 'procesado': True, 'count': 1}\n",
      "buscando fotos\n",
      "{'query': \"select * from gallery_67001 where source_amigo_id='093155DCF20B4136953324116D514D2F'\"}\n",
      "descargando fotos\n",
      "descargando una foto\n",
      "199\n"
     ]
    }
   ],
   "source": [
    "for i in ids:\n",
    "    generar_reporte(i)\n",
    "    print(i)"
   ]
  },
  {
   "cell_type": "code",
   "execution_count": null,
   "id": "8ec581df",
   "metadata": {},
   "outputs": [],
   "source": []
  }
 ],
 "metadata": {
  "kernelspec": {
   "display_name": "Python 3 (ipykernel)",
   "language": "python",
   "name": "python3"
  },
  "language_info": {
   "codemirror_mode": {
    "name": "ipython",
    "version": 3
   },
   "file_extension": ".py",
   "mimetype": "text/x-python",
   "name": "python",
   "nbconvert_exporter": "python",
   "pygments_lexer": "ipython3",
   "version": "3.10.13"
  }
 },
 "nbformat": 4,
 "nbformat_minor": 5
}
