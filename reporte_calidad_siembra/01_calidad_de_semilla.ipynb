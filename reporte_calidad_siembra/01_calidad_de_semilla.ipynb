{
 "cells": [
  {
   "cell_type": "code",
   "execution_count": 11,
   "id": "840aadf5-ba61-498a-b36e-080094e22148",
   "metadata": {},
   "outputs": [],
   "source": [
    "import sys\n",
    "sys.path.append('../_amigocloud')"
   ]
  },
  {
   "cell_type": "code",
   "execution_count": 12,
   "id": "5e609e50-8829-4eee-b18d-a2357f446d1d",
   "metadata": {},
   "outputs": [],
   "source": [
    "from amigocloud import AmigoCloud\n",
    "\n",
    "import pandas as pd\n",
    "from datetime import datetime, timedelta\n",
    "import collections\n",
    "\n",
    "from docxtpl import DocxTemplate\n",
    "from docx.shared import Mm\n",
    "import docxtpl\n",
    "import requests"
   ]
  },
  {
   "cell_type": "code",
   "execution_count": 13,
   "id": "e8a4ec55-a6d6-448e-bca6-e96efa845973",
   "metadata": {},
   "outputs": [
    {
     "data": {
      "text/plain": [
       "'G:\\\\OneDrive - Ingenio Azucarero Guabira S.A\\\\_DATOS_PYTHON'"
      ]
     },
     "execution_count": 13,
     "metadata": {},
     "output_type": "execute_result"
    }
   ],
   "source": [
    "# ruta de carpera donde estan las llaves\n",
    "ruta = open('../ruta.txt')\n",
    "ruta = ruta.readlines()[0]\n",
    "ruta"
   ]
  },
  {
   "cell_type": "code",
   "execution_count": 14,
   "id": "bd580eae-6aa4-4766-8ddc-029e8b10bb3c",
   "metadata": {},
   "outputs": [
    {
     "data": {
      "text/plain": [
       "<amigocloud.AmigoCloud at 0x1c6f80eb5e0>"
      ]
     },
     "execution_count": 14,
     "metadata": {},
     "output_type": "execute_result"
    }
   ],
   "source": [
    "# leer token\n",
    "acceso = open(ruta + '/_keys/api_amigocloud.key','r')\n",
    "api_token = acceso.readlines()[0]\n",
    "acceso.close()\n",
    "amigocloud = AmigoCloud(token=api_token)\n",
    "amigocloud"
   ]
  },
  {
   "cell_type": "code",
   "execution_count": 15,
   "id": "38c4e2b7-6f1a-451d-b960-bf256f7f6aca",
   "metadata": {},
   "outputs": [
    {
     "data": {
      "text/html": [
       "<div>\n",
       "<style scoped>\n",
       "    .dataframe tbody tr th:only-of-type {\n",
       "        vertical-align: middle;\n",
       "    }\n",
       "\n",
       "    .dataframe tbody tr th {\n",
       "        vertical-align: top;\n",
       "    }\n",
       "\n",
       "    .dataframe thead th {\n",
       "        text-align: right;\n",
       "    }\n",
       "</style>\n",
       "<table border=\"1\" class=\"dataframe\">\n",
       "  <thead>\n",
       "    <tr style=\"text-align: right;\">\n",
       "      <th></th>\n",
       "      <th>id</th>\n",
       "      <th>canhero</th>\n",
       "      <th>propiedad</th>\n",
       "      <th>lote</th>\n",
       "      <th>variedad</th>\n",
       "    </tr>\n",
       "  </thead>\n",
       "  <tbody>\n",
       "    <tr>\n",
       "      <th>0</th>\n",
       "      <td>109</td>\n",
       "      <td>4844 / TARRADELLES MARTINEZ DIETER JORGE</td>\n",
       "      <td>559 / EL NARANJAL--DIETER</td>\n",
       "      <td>L14</td>\n",
       "      <td>CITTCA 0563</td>\n",
       "    </tr>\n",
       "    <tr>\n",
       "      <th>1</th>\n",
       "      <td>108</td>\n",
       "      <td>40256 / INSERVA DAMIANA S.R.L.</td>\n",
       "      <td>10 / PUESTO MENDEZ--INSERVA DAMIANA S.R.L.</td>\n",
       "      <td>L17</td>\n",
       "      <td>RB-2</td>\n",
       "    </tr>\n",
       "  </tbody>\n",
       "</table>\n",
       "</div>"
      ],
      "text/plain": [
       "    id                                   canhero  \\\n",
       "0  109  4844 / TARRADELLES MARTINEZ DIETER JORGE   \n",
       "1  108            40256 / INSERVA DAMIANA S.R.L.   \n",
       "\n",
       "                                    propiedad lote     variedad  \n",
       "0                   559 / EL NARANJAL--DIETER  L14  CITTCA 0563  \n",
       "1  10 / PUESTO MENDEZ--INSERVA DAMIANA S.R.L.  L17         RB-2  "
      ]
     },
     "execution_count": 15,
     "metadata": {},
     "output_type": "execute_result"
    }
   ],
   "source": [
    "fecha_insp = '2024-04-11'\n",
    "query = {'query': 'select id, canhero, propiedad, lote, variedad from dataset_338305 where fecha_registro::date=\\'{fecha}\\''.format(fecha=fecha_insp)}\n",
    "select = amigocloud.get('https://app.amigocloud.com/api/v1/projects/33953/sql', query)\n",
    "data = select['data']\n",
    "tabla = pd.DataFrame(data)\n",
    "tabla"
   ]
  },
  {
   "cell_type": "code",
   "execution_count": 16,
   "id": "644433af-cf66-47da-bc1f-eb4cf35eb5bf",
   "metadata": {},
   "outputs": [
    {
     "data": {
      "text/plain": [
       "[109, 108]"
      ]
     },
     "execution_count": 16,
     "metadata": {},
     "output_type": "execute_result"
    }
   ],
   "source": [
    "ids = list(tabla['id'])\n",
    "ids"
   ]
  },
  {
   "cell_type": "code",
   "execution_count": null,
   "id": "1a891bd7-5d36-45ff-9a0f-b344525cb370",
   "metadata": {},
   "outputs": [],
   "source": []
  },
  {
   "cell_type": "code",
   "execution_count": null,
   "id": "03a76eaa-bdd6-45f2-944b-34b74605bd3f",
   "metadata": {},
   "outputs": [],
   "source": []
  },
  {
   "cell_type": "code",
   "execution_count": null,
   "id": "132a9d5a-36c9-446c-b7e3-3f2bf97b5f1f",
   "metadata": {},
   "outputs": [],
   "source": []
  },
  {
   "cell_type": "code",
   "execution_count": 17,
   "id": "b41ffd58-b7cc-4c23-9652-09b8fdd26abf",
   "metadata": {},
   "outputs": [],
   "source": [
    "def crear_lista_imagenes(id_proyecto, source_amigo_id, doc):\n",
    "    print('buscando fotos')\n",
    "    query_fotos = {'query': 'select * from gallery_56570 where source_amigo_id=\\'{amigo_id}\\''.format(amigo_id=source_amigo_id)}\n",
    "    print(query_fotos)\n",
    "    project = 'https://app.amigocloud.com/api/v1/projects/' + id_proyecto + '/sql'\n",
    "    select_fotos = amigocloud.get(project, query_fotos)\n",
    "    fotos = select_fotos['data']\n",
    "    lista_fotos_inline = []\n",
    "    print('descargando fotos')\n",
    "    for foto in fotos:\n",
    "        print('descargando una foto')\n",
    "        response = requests.get(\"https://www-amigocloud.s3.amazonaws.com/gallery/\" + foto['s3_filename'])\n",
    "        file = open(ruta + '/fotos/' + foto['s3_filename'], \"wb\")\n",
    "        file.write(response.content)\n",
    "        file.close()\n",
    "        lista_fotos_inline.append({'foto': docxtpl.InlineImage(doc, image_descriptor=ruta+'/fotos/' + foto['s3_filename'], width=Mm(60))})\n",
    "    return lista_fotos_inline"
   ]
  },
  {
   "cell_type": "code",
   "execution_count": 18,
   "id": "dd6b99d0-e528-4555-abdf-ca67d7534126",
   "metadata": {},
   "outputs": [],
   "source": [
    "def generar_reporte(cod):\n",
    "    id = cod\n",
    "    query = {'query': 'select mu.*, (select count(*) from dataset_338313 da where mu.amigo_id = da.muestra_ref_datos) from dataset_338305 mu where id={idd}'.format(idd=id)}\n",
    "    select = amigocloud.get('https://app.amigocloud.com/api/v1/projects/33953/sql', query)\n",
    "    data = select['data'][0]\n",
    "    data['fecha_registro'] = datetime.strptime(data['fecha_registro'].split(' ')[0], '%Y-%m-%d').strftime('%d/%m/%Y')\n",
    "    print(data)\n",
    "    insp = {\n",
    "        'fecha':data['fecha_registro'],\n",
    "        'canhero':data['canhero'],\n",
    "        'propiedad':data['propiedad'].split('--')[0],\n",
    "        'lote':data['lote'],\n",
    "        'area':data['area'],\n",
    "        'variedad':data['variedad'],\n",
    "        'edad':data['edad'],\n",
    "        'ciclo':data['ciclo'],\n",
    "        'num_mus':data['count']*20,\n",
    "        'id':data['id'],\n",
    "        'amigo_id':data['amigo_id']\n",
    "    }\n",
    "    insp = collections.namedtuple(\"insp\", insp.keys())(*insp.values())  \n",
    "\n",
    "    vi = {\n",
    "        'uno': data['canha1'],\n",
    "        'dos': data['canha2'],\n",
    "        'tres': data['canha3'],\n",
    "        'cuatro': data['canha4'],\n",
    "        'cinco': data['canha5'],\n",
    "        'seis': data['canha6'],\n",
    "        'siete': data['canha7'],\n",
    "        'ocho': data['canha8'],\n",
    "        'nueve': data['canha9'],\n",
    "        'diez': data['canha10']\n",
    "    }\n",
    "    vi_values = list(vi.values())\n",
    "    vi_sum = sum(vi_values)\n",
    "    vi['porcen'] = vi_sum\n",
    "    vi = collections.namedtuple(\"vi\", vi.keys())(*vi.values())\n",
    "\n",
    "    query = {'query': 'select * from dataset_338313 where muestra_ref_datos=\\'{amigo_id}\\''.format(amigo_id=data['amigo_id'])}\n",
    "    select = amigocloud.get('https://app.amigocloud.com/api/v1/projects/33953/sql', query)\n",
    "    datos = select['data']\n",
    "    tabla_datos = pd.DataFrame(datos)[['id', 'total_yemas', 'perforadas', 'enraizamiento', 'brotacion', 'muerta']]\n",
    "\n",
    "    total_yemas = tabla_datos['total_yemas'].sum()\n",
    "    total_perforadas = tabla_datos['perforadas'].sum()\n",
    "    total_enraizamiento = tabla_datos['enraizamiento'].sum()\n",
    "    total_brotacion = tabla_datos['brotacion'].sum()\n",
    "    total_muertas = tabla_datos['muerta'].sum()\n",
    "    total_inviables = total_perforadas + total_enraizamiento + total_brotacion + total_muertas\n",
    "    total_viables = total_yemas - total_inviables\n",
    "\n",
    "    porcen_perforadas = (total_perforadas / total_yemas)*100\n",
    "    porcen_enraizamiento = (total_enraizamiento / total_yemas)*100\n",
    "    porcen_brotacion = (total_brotacion / total_yemas)*100\n",
    "    porcen_muertas = (total_muertas / total_yemas)*100\n",
    "    porcen_inviables = (total_inviables / total_yemas)*100\n",
    "    porcen_viables = (total_viables / total_yemas)*100\n",
    "\n",
    "    res = {\n",
    "        'diat':total_perforadas,\n",
    "        'en':total_enraizamiento,\n",
    "        'bro':total_brotacion,\n",
    "        'mur':total_muertas,\n",
    "        'invi':total_inviables,\n",
    "        'via':total_viables,\n",
    "        'ana':total_yemas,\n",
    "        'diatp':porcen_perforadas,\n",
    "        'enp':porcen_enraizamiento,\n",
    "        'brop':porcen_brotacion,\n",
    "        'murp':porcen_muertas,\n",
    "        'invip':porcen_inviables,\n",
    "        'viap':porcen_viables\n",
    "    }\n",
    "    res = collections.namedtuple(\"res\", res.keys())(*res.values())\n",
    "    \n",
    "    doc = DocxTemplate(ruta + \"/templates/tpl_rpt_calidad_semilla.docx\")\n",
    "    id_proyecto = '33953'\n",
    "    source_amigo_id = insp.amigo_id\n",
    "    inline_fotos = crear_lista_imagenes(id_proyecto, source_amigo_id, doc)\n",
    "    context = {'insp':insp, 'vi':vi, 'res':res, 'fotos':inline_fotos }\n",
    "    doc.render(context)\n",
    "    ca = insp.canhero.split(' / ')\n",
    "    file_name = ca[0] + '_CDS_' + insp.fecha.replace('/', '-') + '_' + ca[1] + '_' + str(insp.id)\n",
    "    doc.save(ruta + '/informes/_' + file_name + '.docx')"
   ]
  },
  {
   "cell_type": "code",
   "execution_count": 22,
   "id": "f7045105-8532-4a03-b887-418b09cd42bc",
   "metadata": {},
   "outputs": [],
   "source": [
    "ids = [109]"
   ]
  },
  {
   "cell_type": "code",
   "execution_count": 23,
   "id": "3df242bd-386f-4064-a92a-0d4f092b6e5f",
   "metadata": {},
   "outputs": [
    {
     "name": "stdout",
     "output_type": "stream",
     "text": [
      "{'fecha_registro': '11/04/2024', 'id': 109, 'ubicacion': '0101000020E610000025F4E967A0964FC01285B8CDAF6331C0', 'canhero': '4844 / TARRADELLES MARTINEZ DIETER JORGE', 'lote': 'L14', 'tipo': None, 'observaciones': None, 'amigo_id': '894798d2ca2f409aaea245ced167e123', 'propiedad': '559 / EL NARANJAL--DIETER', 'variedad': 'CITTCA 0563', 'ciclo': 'HOJA', 'area': 3.0, 'edad': 11, 'canha1': 0, 'canha2': 0, 'canha3': 0, 'canha4': 0, 'canha5': 0, 'canha6': 0, 'canha7': 0, 'canha8': 0, 'canha9': 0, 'canha10': 0, 'usuario': 'Leandro Rodriguez G.', 'estado': 'APROBADO', 'count': 10}\n",
      "buscando fotos\n",
      "{'query': \"select * from gallery_56570 where source_amigo_id='894798d2ca2f409aaea245ced167e123'\"}\n",
      "descargando fotos\n",
      "descargando una foto\n",
      "descargando una foto\n",
      "descargando una foto\n",
      "109\n"
     ]
    }
   ],
   "source": [
    "for i in ids:\n",
    "    generar_reporte(i)\n",
    "    print(i)"
   ]
  },
  {
   "cell_type": "code",
   "execution_count": null,
   "id": "2cffa001-8308-40fb-8abf-653510ff3845",
   "metadata": {},
   "outputs": [],
   "source": []
  },
  {
   "cell_type": "code",
   "execution_count": null,
   "id": "1596cec8-ad73-456b-8e82-9f0676f79109",
   "metadata": {},
   "outputs": [],
   "source": []
  },
  {
   "cell_type": "code",
   "execution_count": null,
   "id": "cd209d38-e3ee-450a-9019-0edfb3e653ef",
   "metadata": {},
   "outputs": [],
   "source": []
  },
  {
   "cell_type": "code",
   "execution_count": null,
   "id": "9f427311-1a4f-45f1-b5b1-8d2527bf3b09",
   "metadata": {},
   "outputs": [],
   "source": []
  },
  {
   "cell_type": "code",
   "execution_count": null,
   "id": "32140c3b-f0dc-41b4-b9a9-bc62c1debd42",
   "metadata": {},
   "outputs": [],
   "source": []
  },
  {
   "cell_type": "code",
   "execution_count": null,
   "id": "861710f7-0566-4b91-b7fe-56af4c6e94f2",
   "metadata": {},
   "outputs": [],
   "source": []
  },
  {
   "cell_type": "code",
   "execution_count": 118,
   "id": "9ea390d5-a421-47df-8091-23424213d892",
   "metadata": {},
   "outputs": [],
   "source": [
    "id = 29\n",
    "query = {'query': 'select mu.*, (select count(*) from dataset_338313 da where mu.amigo_id = da.muestra_ref_datos) from dataset_338305 mu where id={idd}'.format(idd=id)}\n",
    "select = amigocloud.get('https://app.amigocloud.com/api/v1/projects/33953/sql', query)\n",
    "data = select['data'][0]\n",
    "data['fecha_registro'] = datetime.strptime(data['fecha_registro'].split(' ')[0], '%Y-%m-%d').strftime('%d/%m/%Y')    "
   ]
  },
  {
   "cell_type": "code",
   "execution_count": 119,
   "id": "da157167-b5e7-42b0-8d62-c908686a46e4",
   "metadata": {},
   "outputs": [
    {
     "data": {
      "text/plain": [
       "{'fecha_registro': '08/03/2024',\n",
       " 'id': 29,\n",
       " 'ubicacion': '0101000020E6100000666CE8667FAF4FC0E919C231CB3A31C0',\n",
       " 'canhero': '11860 / ROCA SERRANO ARMANDO',\n",
       " 'lote': 'L3',\n",
       " 'tipo': None,\n",
       " 'observaciones': None,\n",
       " 'amigo_id': '888354e0fd8441b0a27d8ef97386e1ec',\n",
       " 'propiedad': '114 / SAUSALITO--ROCA',\n",
       " 'variedad': 'UCG 90-20',\n",
       " 'ciclo': 'HOJA',\n",
       " 'area': 31.71,\n",
       " 'edad': 10,\n",
       " 'canha1': 0,\n",
       " 'canha2': 0,\n",
       " 'canha3': 0,\n",
       " 'canha4': 0,\n",
       " 'canha5': 0,\n",
       " 'canha6': 0,\n",
       " 'canha7': 0,\n",
       " 'canha8': 0,\n",
       " 'canha9': 0,\n",
       " 'canha10': 0,\n",
       " 'usuario': 'Bismark Socompi Rodríguez',\n",
       " 'count': 10}"
      ]
     },
     "execution_count": 119,
     "metadata": {},
     "output_type": "execute_result"
    }
   ],
   "source": [
    "data"
   ]
  },
  {
   "cell_type": "code",
   "execution_count": 158,
   "id": "0bf3d871-ff77-4582-b655-1caa4cb64483",
   "metadata": {},
   "outputs": [
    {
     "data": {
      "text/plain": [
       "insp(fecha='08/03/2024', canhero='11860 / ROCA SERRANO ARMANDO', propiedad='114 / SAUSALITO', lote='L3', area=31.71, variedad='UCG 90-20', edad=10, ciclo='HOJA', num_mus=200, id=29)"
      ]
     },
     "execution_count": 158,
     "metadata": {},
     "output_type": "execute_result"
    }
   ],
   "source": [
    "insp = {\n",
    "    'fecha':data['fecha_registro'],\n",
    "    'canhero':data['canhero'],\n",
    "    'propiedad':data['propiedad'].split('--')[0],\n",
    "    'lote':data['lote'],\n",
    "    'area':data['area'],\n",
    "    'variedad':data['variedad'],\n",
    "    'edad':data['edad'],\n",
    "    'ciclo':data['ciclo'],\n",
    "    'num_mus':data['count']*20,\n",
    "    'id':data['id']\n",
    "}\n",
    "insp = collections.namedtuple(\"insp\", insp.keys())(*insp.values())\n",
    "insp"
   ]
  },
  {
   "cell_type": "code",
   "execution_count": 159,
   "id": "ce5330ef-d06d-4fc8-a384-ccf6d000c081",
   "metadata": {},
   "outputs": [
    {
     "data": {
      "text/plain": [
       "vi(uno=0, dos=0, tres=0, cuatro=0, cinco=0, seis=0, siete=0, ocho=0, nueve=0, diez=0, porcen=0)"
      ]
     },
     "execution_count": 159,
     "metadata": {},
     "output_type": "execute_result"
    }
   ],
   "source": [
    "vi = {\n",
    "    'uno': data['canha1'],\n",
    "    'dos': data['canha2'],\n",
    "    'tres': data['canha3'],\n",
    "    'cuatro': data['canha4'],\n",
    "    'cinco': data['canha5'],\n",
    "    'seis': data['canha6'],\n",
    "    'siete': data['canha7'],\n",
    "    'ocho': data['canha8'],\n",
    "    'nueve': data['canha9'],\n",
    "    'diez': data['canha10']\n",
    "}\n",
    "\n",
    "vi_values = list(vi.values())\n",
    "vi_sum = sum(vi_values)\n",
    "vi['porcen'] = vi_sum\n",
    "vi = collections.namedtuple(\"vi\", vi.keys())(*vi.values())\n",
    "vi"
   ]
  },
  {
   "cell_type": "code",
   "execution_count": null,
   "id": "136ea710-5981-446b-8026-9f875ff03f8f",
   "metadata": {},
   "outputs": [],
   "source": []
  },
  {
   "cell_type": "code",
   "execution_count": 160,
   "id": "8a62e29b-3ffb-41c6-8c3c-389dd4e6b4f6",
   "metadata": {},
   "outputs": [
    {
     "data": {
      "text/html": [
       "<div>\n",
       "<style scoped>\n",
       "    .dataframe tbody tr th:only-of-type {\n",
       "        vertical-align: middle;\n",
       "    }\n",
       "\n",
       "    .dataframe tbody tr th {\n",
       "        vertical-align: top;\n",
       "    }\n",
       "\n",
       "    .dataframe thead th {\n",
       "        text-align: right;\n",
       "    }\n",
       "</style>\n",
       "<table border=\"1\" class=\"dataframe\">\n",
       "  <thead>\n",
       "    <tr style=\"text-align: right;\">\n",
       "      <th></th>\n",
       "      <th>id</th>\n",
       "      <th>total_yemas</th>\n",
       "      <th>perforadas</th>\n",
       "      <th>enraizamiento</th>\n",
       "      <th>brotacion</th>\n",
       "      <th>muerta</th>\n",
       "    </tr>\n",
       "  </thead>\n",
       "  <tbody>\n",
       "    <tr>\n",
       "      <th>0</th>\n",
       "      <td>1763</td>\n",
       "      <td>331</td>\n",
       "      <td>10</td>\n",
       "      <td>2</td>\n",
       "      <td>2</td>\n",
       "      <td>0</td>\n",
       "    </tr>\n",
       "    <tr>\n",
       "      <th>1</th>\n",
       "      <td>1764</td>\n",
       "      <td>307</td>\n",
       "      <td>2</td>\n",
       "      <td>4</td>\n",
       "      <td>0</td>\n",
       "      <td>0</td>\n",
       "    </tr>\n",
       "    <tr>\n",
       "      <th>2</th>\n",
       "      <td>1765</td>\n",
       "      <td>300</td>\n",
       "      <td>6</td>\n",
       "      <td>0</td>\n",
       "      <td>5</td>\n",
       "      <td>0</td>\n",
       "    </tr>\n",
       "    <tr>\n",
       "      <th>3</th>\n",
       "      <td>1766</td>\n",
       "      <td>306</td>\n",
       "      <td>0</td>\n",
       "      <td>1</td>\n",
       "      <td>9</td>\n",
       "      <td>0</td>\n",
       "    </tr>\n",
       "    <tr>\n",
       "      <th>4</th>\n",
       "      <td>1767</td>\n",
       "      <td>274</td>\n",
       "      <td>0</td>\n",
       "      <td>2</td>\n",
       "      <td>7</td>\n",
       "      <td>0</td>\n",
       "    </tr>\n",
       "    <tr>\n",
       "      <th>5</th>\n",
       "      <td>1768</td>\n",
       "      <td>282</td>\n",
       "      <td>0</td>\n",
       "      <td>3</td>\n",
       "      <td>6</td>\n",
       "      <td>0</td>\n",
       "    </tr>\n",
       "    <tr>\n",
       "      <th>6</th>\n",
       "      <td>1769</td>\n",
       "      <td>291</td>\n",
       "      <td>0</td>\n",
       "      <td>1</td>\n",
       "      <td>6</td>\n",
       "      <td>0</td>\n",
       "    </tr>\n",
       "    <tr>\n",
       "      <th>7</th>\n",
       "      <td>1770</td>\n",
       "      <td>291</td>\n",
       "      <td>1</td>\n",
       "      <td>4</td>\n",
       "      <td>1</td>\n",
       "      <td>0</td>\n",
       "    </tr>\n",
       "    <tr>\n",
       "      <th>8</th>\n",
       "      <td>1771</td>\n",
       "      <td>296</td>\n",
       "      <td>0</td>\n",
       "      <td>13</td>\n",
       "      <td>0</td>\n",
       "      <td>0</td>\n",
       "    </tr>\n",
       "    <tr>\n",
       "      <th>9</th>\n",
       "      <td>1772</td>\n",
       "      <td>312</td>\n",
       "      <td>14</td>\n",
       "      <td>1</td>\n",
       "      <td>2</td>\n",
       "      <td>0</td>\n",
       "    </tr>\n",
       "  </tbody>\n",
       "</table>\n",
       "</div>"
      ],
      "text/plain": [
       "     id  total_yemas  perforadas  enraizamiento  brotacion  muerta\n",
       "0  1763          331          10              2          2       0\n",
       "1  1764          307           2              4          0       0\n",
       "2  1765          300           6              0          5       0\n",
       "3  1766          306           0              1          9       0\n",
       "4  1767          274           0              2          7       0\n",
       "5  1768          282           0              3          6       0\n",
       "6  1769          291           0              1          6       0\n",
       "7  1770          291           1              4          1       0\n",
       "8  1771          296           0             13          0       0\n",
       "9  1772          312          14              1          2       0"
      ]
     },
     "execution_count": 160,
     "metadata": {},
     "output_type": "execute_result"
    }
   ],
   "source": [
    "query = {'query': 'select * from dataset_338313 where muestra_ref_datos=\\'{amigo_id}\\''.format(amigo_id=data['amigo_id'])}\n",
    "select = amigocloud.get('https://app.amigocloud.com/api/v1/projects/33953/sql', query)\n",
    "datos = select['data']\n",
    "tabla_datos = pd.DataFrame(datos)[['id', 'total_yemas', 'perforadas', 'enraizamiento', 'brotacion', 'muerta']]\n",
    "tabla_datos"
   ]
  },
  {
   "cell_type": "code",
   "execution_count": null,
   "id": "008d3d32-4d68-4b89-b123-ba1fc5149179",
   "metadata": {},
   "outputs": [],
   "source": []
  },
  {
   "cell_type": "code",
   "execution_count": 170,
   "id": "17d3eaac-622e-489a-8142-2036843113f8",
   "metadata": {},
   "outputs": [],
   "source": [
    "total_yemas = tabla_datos['total_yemas'].sum()\n",
    "total_perforadas = tabla_datos['perforadas'].sum()\n",
    "total_enraizamiento = tabla_datos['enraizamiento'].sum()\n",
    "total_brotacion = tabla_datos['brotacion'].sum()\n",
    "total_muertas = tabla_datos['muerta'].sum()\n",
    "total_inviables = total_perforadas + total_enraizamiento + total_brotacion + total_muertas\n",
    "total_viables = total_yemas - total_inviables\n",
    "\n",
    "porcen_perforadas = (total_perforadas / total_yemas)*100\n",
    "porcen_enraizamiento = (total_enraizamiento / total_yemas)*100\n",
    "porcen_brotacion = (total_brotacion / total_yemas)*100\n",
    "porcen_muertas = (total_muertas / total_yemas)*100\n",
    "porcen_inviables = (total_inviables / total_yemas)*100\n",
    "porcen_viables = (total_viables / total_yemas)*100"
   ]
  },
  {
   "cell_type": "code",
   "execution_count": 162,
   "id": "9398eb11-ab1f-4476-8bcb-e97e8e1e74d5",
   "metadata": {},
   "outputs": [
    {
     "data": {
      "text/plain": [
       "res(diat=33, en=31, bro=38, mur=0, invi=102, via=2888, ana=2990, diatp=1.1036789297658862, enp=1.0367892976588629, brop=1.2709030100334449, murp=0.0, invip=3.411371237458194, viap=96.5886287625418)"
      ]
     },
     "execution_count": 162,
     "metadata": {},
     "output_type": "execute_result"
    }
   ],
   "source": [
    "res = {\n",
    "    'diat':total_perforadas,\n",
    "    'en':total_enraizamiento,\n",
    "    'bro':total_brotacion,\n",
    "    'mur':total_muertas,\n",
    "    'invi':total_inviables,\n",
    "    'via':total_viables,\n",
    "    'ana':total_yemas,\n",
    "    'diatp':porcen_perforadas,\n",
    "    'enp':porcen_enraizamiento,\n",
    "    'brop':porcen_brotacion,\n",
    "    'murp':porcen_muertas,\n",
    "    'invip':porcen_inviables,\n",
    "    'viap':porcen_viables\n",
    "}\n",
    "res = collections.namedtuple(\"res\", res.keys())(*res.values())\n",
    "res"
   ]
  },
  {
   "cell_type": "code",
   "execution_count": 163,
   "id": "7bac5e75-2660-4aac-9904-fe558ad8b727",
   "metadata": {},
   "outputs": [],
   "source": []
  },
  {
   "cell_type": "code",
   "execution_count": 166,
   "id": "174d8eb8-06f8-4268-9207-5a5b031590fe",
   "metadata": {},
   "outputs": [],
   "source": [
    "doc = DocxTemplate(ruta + \"/templates/tpl_rpt_calidad_semilla.docx\")\n",
    "context = {'insp':insp, 'vi':vi, 'res':res}\n",
    "doc.render(context)\n",
    "ca = insp.canhero.split(' / ')\n",
    "file_name = ca[0] + '_CDS_' + insp.fecha.replace('/', '-') + '_' + ca[1] + '_' + str(insp.id)\n",
    "doc.save(ruta + '/informes/' + file_name + '.docx')"
   ]
  },
  {
   "cell_type": "code",
   "execution_count": 165,
   "id": "2086ab33-30a9-4cfb-8523-d3cc9f92f31e",
   "metadata": {},
   "outputs": [
    {
     "data": {
      "text/plain": [
       "insp(fecha='08/03/2024', canhero='11860 / ROCA SERRANO ARMANDO', propiedad='114 / SAUSALITO', lote='L3', area=31.71, variedad='UCG 90-20', edad=10, ciclo='HOJA', num_mus=200, id=29)"
      ]
     },
     "execution_count": 165,
     "metadata": {},
     "output_type": "execute_result"
    }
   ],
   "source": [
    "insp"
   ]
  },
  {
   "cell_type": "code",
   "execution_count": null,
   "id": "ddd9a32c-974f-4590-9901-62f5f32b7372",
   "metadata": {},
   "outputs": [],
   "source": []
  },
  {
   "cell_type": "code",
   "execution_count": null,
   "id": "62ce39f8-ae98-4299-a4c6-c42a3616d578",
   "metadata": {},
   "outputs": [],
   "source": []
  }
 ],
 "metadata": {
  "kernelspec": {
   "display_name": "Python 3 (ipykernel)",
   "language": "python",
   "name": "python3"
  },
  "language_info": {
   "codemirror_mode": {
    "name": "ipython",
    "version": 3
   },
   "file_extension": ".py",
   "mimetype": "text/x-python",
   "name": "python",
   "nbconvert_exporter": "python",
   "pygments_lexer": "ipython3",
   "version": "3.10.13"
  }
 },
 "nbformat": 4,
 "nbformat_minor": 5
}
