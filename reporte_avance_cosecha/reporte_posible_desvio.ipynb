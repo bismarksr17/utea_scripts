{
 "cells": [
  {
   "cell_type": "markdown",
   "id": "a7a290fe-5066-46af-b0de-ba7f3341acee",
   "metadata": {},
   "source": [
    "Cartar de posible desvio para la union"
   ]
  },
  {
   "cell_type": "code",
   "execution_count": 1,
   "id": "ca9b4b00-6b15-4a9d-af08-e70c7d600def",
   "metadata": {},
   "outputs": [],
   "source": [
    "import pandas as pd\n",
    "import collections\n",
    "\n",
    "from docxtpl import DocxTemplate"
   ]
  },
  {
   "cell_type": "code",
   "execution_count": 2,
   "id": "bc615d29-fa0e-4e6e-a202-5ba5dfa94fe6",
   "metadata": {},
   "outputs": [],
   "source": [
    "# ruta de carpera donde estan las llaves\n",
    "ruta = open('../ruta.txt')\n",
    "ruta = ruta.readlines()[0]"
   ]
  },
  {
   "cell_type": "code",
   "execution_count": 3,
   "id": "3e5d52ea-5b4f-486d-ab01-b7ceb2667134",
   "metadata": {},
   "outputs": [
    {
     "data": {
      "text/plain": [
       "'G:\\\\OneDrive - Ingenio Azucarero Guabira S.A\\\\_DATOS_PYTHON'"
      ]
     },
     "execution_count": 3,
     "metadata": {},
     "output_type": "execute_result"
    }
   ],
   "source": [
    "ruta"
   ]
  },
  {
   "cell_type": "code",
   "execution_count": 4,
   "id": "b52240b8-8333-4bb2-914a-9dc70d0f143d",
   "metadata": {},
   "outputs": [],
   "source": [
    "path_xlsx_avance = r'G:/Ingenio Azucarero Guabira S.A/UTEA - SEMANAL - AVANCE COSECHA/2023/ANALISIS DE CAÑA EN CAMPO 2023/AVANCE DE COSECHA V3 - 2023-11-08.xlsx'"
   ]
  },
  {
   "cell_type": "code",
   "execution_count": 5,
   "id": "1b728e8b-d1fb-4952-be59-d80b6e9bfb55",
   "metadata": {},
   "outputs": [
    {
     "name": "stderr",
     "output_type": "stream",
     "text": [
      "C:\\Users\\Usuario\\anaconda3\\envs\\utea_reportes\\lib\\site-packages\\openpyxl\\worksheet\\_reader.py:329: UserWarning: Unknown extension is not supported and will be removed\n",
      "  warn(msg)\n",
      "C:\\Users\\Usuario\\anaconda3\\envs\\utea_reportes\\lib\\site-packages\\openpyxl\\worksheet\\_reader.py:329: UserWarning: Conditional Formatting extension is not supported and will be removed\n",
      "  warn(msg)\n"
     ]
    }
   ],
   "source": [
    "xlsx_entregas = pd.read_excel(path_xlsx_avance, sheet_name='ENTREGAS')\n",
    "xlsx_avance = pd.read_excel(path_xlsx_avance, sheet_name = 'AVANCE POR GRUPO')"
   ]
  },
  {
   "cell_type": "code",
   "execution_count": 7,
   "id": "0b8d2740-973f-4c38-9b9e-4824a2e72c65",
   "metadata": {},
   "outputs": [
    {
     "data": {
      "text/html": [
       "<div>\n",
       "<style scoped>\n",
       "    .dataframe tbody tr th:only-of-type {\n",
       "        vertical-align: middle;\n",
       "    }\n",
       "\n",
       "    .dataframe tbody tr th {\n",
       "        vertical-align: top;\n",
       "    }\n",
       "\n",
       "    .dataframe thead th {\n",
       "        text-align: right;\n",
       "    }\n",
       "</style>\n",
       "<table border=\"1\" class=\"dataframe\">\n",
       "  <thead>\n",
       "    <tr style=\"text-align: right;\">\n",
       "      <th></th>\n",
       "      <th>INST</th>\n",
       "      <th>GRUPO</th>\n",
       "      <th>CODIGO CAÑERO</th>\n",
       "      <th>NOMBRE CAÑERO</th>\n",
       "      <th>COMPROMISO DE ENTREGA</th>\n",
       "      <th>PAQ</th>\n",
       "      <th>TM. ENTREGADAS</th>\n",
       "      <th>AVANCE</th>\n",
       "      <th>INICIO DE ENTREGAS</th>\n",
       "      <th>ULTIMA ENTREGA</th>\n",
       "      <th>COD_COSECHA</th>\n",
       "    </tr>\n",
       "  </thead>\n",
       "  <tbody>\n",
       "    <tr>\n",
       "      <th>0</th>\n",
       "      <td>1</td>\n",
       "      <td>1</td>\n",
       "      <td>2710</td>\n",
       "      <td>DEMIQUEL JIMENEZ JOSELITO</td>\n",
       "      <td>1054.46</td>\n",
       "      <td>NaN</td>\n",
       "      <td>1482.15</td>\n",
       "      <td>1.405601</td>\n",
       "      <td>NaN</td>\n",
       "      <td>NaN</td>\n",
       "      <td>287.0</td>\n",
       "    </tr>\n",
       "    <tr>\n",
       "      <th>1</th>\n",
       "      <td>1</td>\n",
       "      <td>1</td>\n",
       "      <td>2751</td>\n",
       "      <td>DEMIQUEL TERESA JIMENEZ DE</td>\n",
       "      <td>114.10</td>\n",
       "      <td>NaN</td>\n",
       "      <td>120.89</td>\n",
       "      <td>1.059509</td>\n",
       "      <td>NaN</td>\n",
       "      <td>NaN</td>\n",
       "      <td>287.0</td>\n",
       "    </tr>\n",
       "    <tr>\n",
       "      <th>2</th>\n",
       "      <td>1</td>\n",
       "      <td>1</td>\n",
       "      <td>7572</td>\n",
       "      <td>LAVERAN VACA ZENON</td>\n",
       "      <td>64.75</td>\n",
       "      <td>NaN</td>\n",
       "      <td>42.35</td>\n",
       "      <td>0.654054</td>\n",
       "      <td>NaN</td>\n",
       "      <td>NaN</td>\n",
       "      <td>286.0</td>\n",
       "    </tr>\n",
       "  </tbody>\n",
       "</table>\n",
       "</div>"
      ],
      "text/plain": [
       "   INST  GRUPO  CODIGO CAÑERO                NOMBRE CAÑERO  \\\n",
       "0     1      1            2710  DEMIQUEL JIMENEZ JOSELITO    \n",
       "1     1      1            2751  DEMIQUEL TERESA JIMENEZ DE   \n",
       "2     1      1            7572          LAVERAN VACA ZENON   \n",
       "\n",
       "   COMPROMISO DE ENTREGA  PAQ  TM. ENTREGADAS    AVANCE  INICIO DE ENTREGAS  \\\n",
       "0                1054.46  NaN         1482.15  1.405601                 NaN   \n",
       "1                 114.10  NaN          120.89  1.059509                 NaN   \n",
       "2                  64.75  NaN           42.35  0.654054                 NaN   \n",
       "\n",
       "   ULTIMA ENTREGA  COD_COSECHA  \n",
       "0             NaN        287.0  \n",
       "1             NaN        287.0  \n",
       "2             NaN        286.0  "
      ]
     },
     "execution_count": 7,
     "metadata": {},
     "output_type": "execute_result"
    }
   ],
   "source": [
    "xlsx_entregas.head(3)"
   ]
  },
  {
   "cell_type": "code",
   "execution_count": 8,
   "id": "f37e76c4-f292-49f6-a6f6-3c55a1488a1a",
   "metadata": {},
   "outputs": [
    {
     "data": {
      "text/html": [
       "<div>\n",
       "<style scoped>\n",
       "    .dataframe tbody tr th:only-of-type {\n",
       "        vertical-align: middle;\n",
       "    }\n",
       "\n",
       "    .dataframe tbody tr th {\n",
       "        vertical-align: top;\n",
       "    }\n",
       "\n",
       "    .dataframe thead th {\n",
       "        text-align: right;\n",
       "    }\n",
       "</style>\n",
       "<table border=\"1\" class=\"dataframe\">\n",
       "  <thead>\n",
       "    <tr style=\"text-align: right;\">\n",
       "      <th></th>\n",
       "      <th>COD_COS</th>\n",
       "      <th>COMPROMISO</th>\n",
       "      <th>ENTREGA</th>\n",
       "      <th>_ENTREGA</th>\n",
       "      <th>TOTAL_AREA</th>\n",
       "      <th>COSECHA</th>\n",
       "      <th>SIN COSECHA</th>\n",
       "      <th>%COSECHA</th>\n",
       "      <th>TCH</th>\n",
       "      <th>DIF.AVANCE</th>\n",
       "      <th>...</th>\n",
       "      <th>TN_COSECHA_ESTIM</th>\n",
       "      <th>DIF.ESTIM</th>\n",
       "      <th>% DIF.ESTIM</th>\n",
       "      <th>TN_EN_CAMPO</th>\n",
       "      <th>COMPROMISO_RESTANTE</th>\n",
       "      <th>DIFERENCIA</th>\n",
       "      <th>Unnamed: 19</th>\n",
       "      <th>Unnamed: 20</th>\n",
       "      <th>Unnamed: 21</th>\n",
       "      <th>Unnamed: 22</th>\n",
       "    </tr>\n",
       "  </thead>\n",
       "  <tbody>\n",
       "    <tr>\n",
       "      <th>0</th>\n",
       "      <td>1</td>\n",
       "      <td>26449.77</td>\n",
       "      <td>32068.61</td>\n",
       "      <td>1.212434</td>\n",
       "      <td>543.38</td>\n",
       "      <td>543.38</td>\n",
       "      <td>NaN</td>\n",
       "      <td>1.000000</td>\n",
       "      <td>59.016913</td>\n",
       "      <td>0.212434</td>\n",
       "      <td>...</td>\n",
       "      <td>30115.348382</td>\n",
       "      <td>1953.261618</td>\n",
       "      <td>0.939091</td>\n",
       "      <td>NaN</td>\n",
       "      <td>-5618.84</td>\n",
       "      <td>5618.840000</td>\n",
       "      <td>NaN</td>\n",
       "      <td>NaN</td>\n",
       "      <td>NaN</td>\n",
       "      <td>NaN</td>\n",
       "    </tr>\n",
       "    <tr>\n",
       "      <th>1</th>\n",
       "      <td>2</td>\n",
       "      <td>10848.49</td>\n",
       "      <td>12296.90</td>\n",
       "      <td>1.133513</td>\n",
       "      <td>170.47</td>\n",
       "      <td>170.47</td>\n",
       "      <td>NaN</td>\n",
       "      <td>1.000000</td>\n",
       "      <td>72.135273</td>\n",
       "      <td>0.133513</td>\n",
       "      <td>...</td>\n",
       "      <td>8677.777218</td>\n",
       "      <td>3619.122782</td>\n",
       "      <td>0.705688</td>\n",
       "      <td>NaN</td>\n",
       "      <td>-1448.41</td>\n",
       "      <td>1448.410000</td>\n",
       "      <td>NaN</td>\n",
       "      <td>NaN</td>\n",
       "      <td>NaN</td>\n",
       "      <td>NaN</td>\n",
       "    </tr>\n",
       "    <tr>\n",
       "      <th>2</th>\n",
       "      <td>3</td>\n",
       "      <td>5390.78</td>\n",
       "      <td>6233.97</td>\n",
       "      <td>1.156413</td>\n",
       "      <td>100.01</td>\n",
       "      <td>94.56</td>\n",
       "      <td>5.45</td>\n",
       "      <td>0.945505</td>\n",
       "      <td>65.926079</td>\n",
       "      <td>0.210908</td>\n",
       "      <td>...</td>\n",
       "      <td>4517.391536</td>\n",
       "      <td>1716.578464</td>\n",
       "      <td>0.724641</td>\n",
       "      <td>271.425777</td>\n",
       "      <td>-843.19</td>\n",
       "      <td>1114.615777</td>\n",
       "      <td>NaN</td>\n",
       "      <td>NaN</td>\n",
       "      <td>NaN</td>\n",
       "      <td>NaN</td>\n",
       "    </tr>\n",
       "  </tbody>\n",
       "</table>\n",
       "<p>3 rows × 23 columns</p>\n",
       "</div>"
      ],
      "text/plain": [
       "  COD_COS  COMPROMISO   ENTREGA  _ENTREGA  TOTAL_AREA  COSECHA  SIN COSECHA  \\\n",
       "0       1    26449.77  32068.61  1.212434      543.38   543.38          NaN   \n",
       "1       2    10848.49  12296.90  1.133513      170.47   170.47          NaN   \n",
       "2       3     5390.78   6233.97  1.156413      100.01    94.56         5.45   \n",
       "\n",
       "   %COSECHA        TCH  DIF.AVANCE  ...  TN_COSECHA_ESTIM    DIF.ESTIM  \\\n",
       "0  1.000000  59.016913    0.212434  ...      30115.348382  1953.261618   \n",
       "1  1.000000  72.135273    0.133513  ...       8677.777218  3619.122782   \n",
       "2  0.945505  65.926079    0.210908  ...       4517.391536  1716.578464   \n",
       "\n",
       "   % DIF.ESTIM  TN_EN_CAMPO  COMPROMISO_RESTANTE   DIFERENCIA  Unnamed: 19  \\\n",
       "0     0.939091          NaN             -5618.84  5618.840000          NaN   \n",
       "1     0.705688          NaN             -1448.41  1448.410000          NaN   \n",
       "2     0.724641   271.425777              -843.19  1114.615777          NaN   \n",
       "\n",
       "   Unnamed: 20  Unnamed: 21  Unnamed: 22  \n",
       "0          NaN          NaN          NaN  \n",
       "1          NaN          NaN          NaN  \n",
       "2          NaN          NaN          NaN  \n",
       "\n",
       "[3 rows x 23 columns]"
      ]
     },
     "execution_count": 8,
     "metadata": {},
     "output_type": "execute_result"
    }
   ],
   "source": [
    "xlsx_avance.head(3)"
   ]
  },
  {
   "cell_type": "markdown",
   "id": "4a1d6b56-eb17-4c5b-9991-023b46760aca",
   "metadata": {},
   "source": [
    "## Argumentos"
   ]
  },
  {
   "cell_type": "code",
   "execution_count": 9,
   "id": "03e8f925-dee3-44e3-b1f1-4f06314732a7",
   "metadata": {},
   "outputs": [],
   "source": [
    "fecha_inf = '10 de noviembre de 2023'\n",
    "fecha_form = '10-11-2023'\n",
    "\n",
    "fecha_img = '10 de noviembre de 2023'\n",
    "cod_grupos = [510, 277, 432, 158, 310, 98, 324, 323, 437, 115, 156, 205]"
   ]
  },
  {
   "cell_type": "code",
   "execution_count": 10,
   "id": "35e16c7f-2ba0-425c-b258-c05b0625215c",
   "metadata": {},
   "outputs": [
    {
     "name": "stdout",
     "output_type": "stream",
     "text": [
      "Se generó reporte de grupo: 510\n",
      "Se generó reporte de grupo: 277\n",
      "Se generó reporte de grupo: 432\n",
      "Se generó reporte de grupo: 158\n",
      "Se generó reporte de grupo: 310\n",
      "Se generó reporte de grupo: 98\n",
      "Se generó reporte de grupo: 324\n",
      "Se generó reporte de grupo: 323\n",
      "Se generó reporte de grupo: 437\n",
      "Se generó reporte de grupo: 115\n",
      "Se generó reporte de grupo: 156\n",
      "Se generó reporte de grupo: 205\n"
     ]
    }
   ],
   "source": [
    "for i in cod_grupos:\n",
    "    # datos del grupo\n",
    "    grupo = xlsx_entregas[xlsx_entregas['COD_COSECHA'] == i].copy()\n",
    "    grupo = grupo[['INST', 'CODIGO CAÑERO ', 'NOMBRE CAÑERO','COMPROMISO DE ENTREGA', 'TM. ENTREGADAS']]\n",
    "    grupo['TM. ENTREGADAS'] = grupo['TM. ENTREGADAS'].fillna(0)\n",
    "    grupo['avance%'] = grupo['TM. ENTREGADAS'] / grupo['COMPROMISO DE ENTREGA'] * 100\n",
    "    \n",
    "    # convertir datos del grupo a objetos\n",
    "    list_obj_caneros = []\n",
    "    for index, row in grupo.iterrows():\n",
    "        canero = {\n",
    "            'inst' : row['INST'],\n",
    "            'cod_ca' : row['CODIGO CAÑERO '],\n",
    "            'nom_ca' : row['NOMBRE CAÑERO'],\n",
    "            'compromiso' : row['COMPROMISO DE ENTREGA'],\n",
    "            'entrega' : row['TM. ENTREGADAS'],\n",
    "            'entrega_porcen' : row['avance%']\n",
    "        }\n",
    "        list_obj_caneros.append(collections.namedtuple(\"canero\", canero.keys())(*canero.values()))\n",
    "    \n",
    "    # totales de los datos del grupo\n",
    "    grupo_totales = {\n",
    "        'compromiso' : grupo['COMPROMISO DE ENTREGA'].sum(),\n",
    "        'entregas' : grupo['TM. ENTREGADAS'].sum(),\n",
    "        'entrega_porcen' : grupo['TM. ENTREGADAS'].sum() / grupo['COMPROMISO DE ENTREGA'].sum() * 100\n",
    "    }\n",
    "    obj_grupo_totales = collections.namedtuple(\"grupo_totales\", grupo_totales.keys())(*grupo_totales.values())\n",
    "    \n",
    "    # datos generales de avance de cosecha\n",
    "    avance = xlsx_avance[xlsx_avance['COD_COS'] == i]\n",
    "    avance_totales = {\n",
    "        'fecha_img' : fecha_img,\n",
    "        'fecha_informe' : fecha_inf,\n",
    "        'compromiso' : float(avance['COMPROMISO']),\n",
    "        'entrega' : float(avance['ENTREGA']),\n",
    "        'entrega_porcen' : float(avance['_ENTREGA']) * 100,\n",
    "        'ha_canha' : float(avance['TOTAL_AREA']),\n",
    "        'ha_cosecha' : float(avance['COSECHA']),\n",
    "        'cosecha_porcen' : float(avance['%COSECHA']) * 100,\n",
    "        'tch' : float(avance['TCH'])\n",
    "    }\n",
    "    \n",
    "    # datos generales a objeto\n",
    "    obj_avance_totales = collections.namedtuple(\"avance_totales\",avance_totales.keys())(*avance_totales.values())\n",
    "    \n",
    "    # generar reporte\n",
    "    doc = DocxTemplate(ruta + '/templates/tpl_rpt_avance_posible_desvio.docx')\n",
    "    context = {\n",
    "        'insp' : list_obj_caneros,\n",
    "        'grupo_totales' : obj_grupo_totales,\n",
    "        'avance' : obj_avance_totales\n",
    "    }\n",
    "    doc.render(context)\n",
    "    doc.save(ruta + '/informes/_' + str(grupo['CODIGO CAÑERO '].iloc[0]) + '_RDC_' + fecha_form + '_' + grupo['NOMBRE CAÑERO'].iloc[0] + '.docx')\n",
    "    print('Se generó reporte de grupo:', i)"
   ]
  },
  {
   "cell_type": "code",
   "execution_count": null,
   "id": "b2074267-172e-4ce7-b75c-4b5fdd62c4a8",
   "metadata": {},
   "outputs": [],
   "source": []
  },
  {
   "cell_type": "code",
   "execution_count": null,
   "id": "77a3cf14-ed56-43ba-af68-e158e17cae46",
   "metadata": {},
   "outputs": [],
   "source": []
  },
  {
   "cell_type": "code",
   "execution_count": null,
   "id": "b35c0011-4704-469a-965d-d4ce5d0efa4d",
   "metadata": {},
   "outputs": [],
   "source": []
  },
  {
   "cell_type": "code",
   "execution_count": null,
   "id": "30b41900-d827-4e6c-bd9e-38468f303d2b",
   "metadata": {},
   "outputs": [],
   "source": []
  },
  {
   "cell_type": "code",
   "execution_count": null,
   "id": "ac183af9-0b33-46b0-800c-6679765dc6d0",
   "metadata": {},
   "outputs": [],
   "source": []
  },
  {
   "cell_type": "code",
   "execution_count": null,
   "id": "b01d8e9c-9e63-4cee-9294-567da5176718",
   "metadata": {},
   "outputs": [],
   "source": []
  },
  {
   "cell_type": "code",
   "execution_count": null,
   "id": "3d5f940b-052b-4ba3-8fd8-77dfdfa6b012",
   "metadata": {},
   "outputs": [],
   "source": []
  },
  {
   "cell_type": "code",
   "execution_count": null,
   "id": "2b11deb8-42e0-433d-b38a-97fdb92eb95c",
   "metadata": {},
   "outputs": [],
   "source": []
  },
  {
   "cell_type": "code",
   "execution_count": null,
   "id": "fdaf2319-da71-4f77-9224-90ce4f31bf6a",
   "metadata": {},
   "outputs": [],
   "source": []
  },
  {
   "cell_type": "code",
   "execution_count": null,
   "id": "7e9f87ff-9c4d-4450-9ba2-934d8953d187",
   "metadata": {},
   "outputs": [],
   "source": []
  },
  {
   "cell_type": "code",
   "execution_count": null,
   "id": "87310f52-157d-4662-8f23-c6a521b3717b",
   "metadata": {},
   "outputs": [],
   "source": []
  },
  {
   "cell_type": "code",
   "execution_count": null,
   "id": "ecf62042-d7c2-4aea-8acb-8054bee92758",
   "metadata": {},
   "outputs": [],
   "source": []
  },
  {
   "cell_type": "code",
   "execution_count": null,
   "id": "82001312-c870-47da-8691-d377f8323974",
   "metadata": {},
   "outputs": [],
   "source": []
  },
  {
   "cell_type": "code",
   "execution_count": null,
   "id": "d1003fc9-0c22-4afa-8c2c-04aac7f529be",
   "metadata": {},
   "outputs": [],
   "source": []
  },
  {
   "cell_type": "code",
   "execution_count": null,
   "id": "db507b83-f104-4a01-a6a8-d79e5d5e794f",
   "metadata": {},
   "outputs": [],
   "source": []
  },
  {
   "cell_type": "code",
   "execution_count": null,
   "id": "5f142f46-840f-4e33-9835-195a2183be8e",
   "metadata": {},
   "outputs": [],
   "source": []
  },
  {
   "cell_type": "markdown",
   "id": "9ecfcfff-c39c-4c23-b02e-7990cea7d26e",
   "metadata": {},
   "source": [
    "## DATOS DEL GRUPO"
   ]
  },
  {
   "cell_type": "code",
   "execution_count": 32,
   "id": "7d7f2dcd-19b5-457d-ad1c-88e3bd1b10c2",
   "metadata": {},
   "outputs": [],
   "source": [
    "cod_grupo = 425"
   ]
  },
  {
   "cell_type": "code",
   "execution_count": 33,
   "id": "f5b70e9d-3121-4aec-bb05-217ae1bd52e3",
   "metadata": {},
   "outputs": [
    {
     "data": {
      "text/html": [
       "<div>\n",
       "<style scoped>\n",
       "    .dataframe tbody tr th:only-of-type {\n",
       "        vertical-align: middle;\n",
       "    }\n",
       "\n",
       "    .dataframe tbody tr th {\n",
       "        vertical-align: top;\n",
       "    }\n",
       "\n",
       "    .dataframe thead th {\n",
       "        text-align: right;\n",
       "    }\n",
       "</style>\n",
       "<table border=\"1\" class=\"dataframe\">\n",
       "  <thead>\n",
       "    <tr style=\"text-align: right;\">\n",
       "      <th></th>\n",
       "      <th>INST</th>\n",
       "      <th>CODIGO CAÑERO</th>\n",
       "      <th>NOMBRE CAÑERO</th>\n",
       "      <th>COMPROMISO DE ENTREGA</th>\n",
       "      <th>TM. ENTREGADAS</th>\n",
       "      <th>avance%</th>\n",
       "    </tr>\n",
       "  </thead>\n",
       "  <tbody>\n",
       "    <tr>\n",
       "      <th>1226</th>\n",
       "      <td>138</td>\n",
       "      <td>7542</td>\n",
       "      <td>LAZARTE PEREZ VICTOR</td>\n",
       "      <td>15137.2</td>\n",
       "      <td>7872.39</td>\n",
       "      <td>52.00691</td>\n",
       "    </tr>\n",
       "  </tbody>\n",
       "</table>\n",
       "</div>"
      ],
      "text/plain": [
       "      INST  CODIGO CAÑERO          NOMBRE CAÑERO  COMPROMISO DE ENTREGA  \\\n",
       "1226   138            7542  LAZARTE PEREZ VICTOR                15137.2   \n",
       "\n",
       "      TM. ENTREGADAS   avance%  \n",
       "1226         7872.39  52.00691  "
      ]
     },
     "execution_count": 33,
     "metadata": {},
     "output_type": "execute_result"
    }
   ],
   "source": [
    "grupo = xlsx_entregas[xlsx_entregas['COD_COSECHA'] == cod_grupo].copy()\n",
    "grupo = grupo[['INST', 'CODIGO CAÑERO ', 'NOMBRE CAÑERO','COMPROMISO DE ENTREGA', 'TM. ENTREGADAS']]\n",
    "grupo['TM. ENTREGADAS'] = grupo['TM. ENTREGADAS'].fillna(0)\n",
    "grupo['avance%'] = grupo['TM. ENTREGADAS'] / grupo['COMPROMISO DE ENTREGA'] * 100\n",
    "grupo"
   ]
  },
  {
   "cell_type": "code",
   "execution_count": 43,
   "id": "bfdbcad3-5a65-48ff-ac3b-3efa5118adb0",
   "metadata": {},
   "outputs": [
    {
     "data": {
      "text/plain": [
       "10295"
      ]
     },
     "execution_count": 43,
     "metadata": {},
     "output_type": "execute_result"
    }
   ],
   "source": [
    "grupo['CODIGO CAÑERO '].iloc[0]"
   ]
  },
  {
   "cell_type": "code",
   "execution_count": 34,
   "id": "78e78f5c-caa9-498e-8199-3e439cae1ae9",
   "metadata": {},
   "outputs": [
    {
     "data": {
      "text/plain": [
       "[canero(inst=138, cod_ca=7542, nom_ca='LAZARTE PEREZ VICTOR', compromiso=15137.2, entrega=7872.39, entrega_porcen=52.00691012868959)]"
      ]
     },
     "execution_count": 34,
     "metadata": {},
     "output_type": "execute_result"
    }
   ],
   "source": [
    "list_obj_caneros = []\n",
    "for index, row in grupo.iterrows():\n",
    "    canero = {\n",
    "        'inst' : row['INST'],\n",
    "        'cod_ca' : row['CODIGO CAÑERO '],\n",
    "        'nom_ca' : row['NOMBRE CAÑERO'],\n",
    "        'compromiso' : row['COMPROMISO DE ENTREGA'],\n",
    "        'entrega' : row['TM. ENTREGADAS'],\n",
    "        'entrega_porcen' : row['avance%']\n",
    "    }\n",
    "    list_obj_caneros.append(collections.namedtuple(\"canero\", canero.keys())(*canero.values()))\n",
    "list_obj_caneros"
   ]
  },
  {
   "cell_type": "code",
   "execution_count": 35,
   "id": "8f94ddd4-1ef1-42d1-bfa3-0721a8733165",
   "metadata": {},
   "outputs": [
    {
     "data": {
      "text/plain": [
       "grupo_totales(compromiso=15137.2, entregas=7872.39, entrega_porcen=52.00691012868959)"
      ]
     },
     "execution_count": 35,
     "metadata": {},
     "output_type": "execute_result"
    }
   ],
   "source": [
    "grupo_totales = {\n",
    "    'compromiso' : grupo['COMPROMISO DE ENTREGA'].sum(),\n",
    "    'entregas' : grupo['TM. ENTREGADAS'].sum(),\n",
    "    'entrega_porcen' : grupo['TM. ENTREGADAS'].sum() / grupo['COMPROMISO DE ENTREGA'].sum() * 100\n",
    "}\n",
    "obj_grupo_totales = collections.namedtuple(\"grupo_totales\", grupo_totales.keys())(*grupo_totales.values())\n",
    "obj_grupo_totales"
   ]
  },
  {
   "cell_type": "markdown",
   "id": "bd2416ea-0ec2-4295-8f9d-f1aa0eca0261",
   "metadata": {},
   "source": [
    "## DATOS DE AVANCE"
   ]
  },
  {
   "cell_type": "code",
   "execution_count": 36,
   "id": "e4032d79-a1e3-4084-8f27-8999dacd6e97",
   "metadata": {},
   "outputs": [
    {
     "data": {
      "text/html": [
       "<div>\n",
       "<style scoped>\n",
       "    .dataframe tbody tr th:only-of-type {\n",
       "        vertical-align: middle;\n",
       "    }\n",
       "\n",
       "    .dataframe tbody tr th {\n",
       "        vertical-align: top;\n",
       "    }\n",
       "\n",
       "    .dataframe thead th {\n",
       "        text-align: right;\n",
       "    }\n",
       "</style>\n",
       "<table border=\"1\" class=\"dataframe\">\n",
       "  <thead>\n",
       "    <tr style=\"text-align: right;\">\n",
       "      <th></th>\n",
       "      <th>COD_COS</th>\n",
       "      <th>COMPROMISO</th>\n",
       "      <th>ENTREGA</th>\n",
       "      <th>_ENTREGA</th>\n",
       "      <th>TOTAL_AREA</th>\n",
       "      <th>COSECHA</th>\n",
       "      <th>SIN COSECHA</th>\n",
       "      <th>%COSECHA</th>\n",
       "      <th>TCH</th>\n",
       "      <th>DIF.AVANCE</th>\n",
       "      <th>...</th>\n",
       "      <th>TN_COSECHA_ESTIM</th>\n",
       "      <th>DIF.ESTIM</th>\n",
       "      <th>% DIF.ESTIM</th>\n",
       "      <th>TN_EN_CAMPO</th>\n",
       "      <th>COMPROMISO_RESTANTE</th>\n",
       "      <th>DIFERENCIA</th>\n",
       "      <th>Unnamed: 19</th>\n",
       "      <th>Unnamed: 20</th>\n",
       "      <th>Unnamed: 21</th>\n",
       "      <th>Unnamed: 22</th>\n",
       "    </tr>\n",
       "  </thead>\n",
       "  <tbody>\n",
       "    <tr>\n",
       "      <th>0</th>\n",
       "      <td>1</td>\n",
       "      <td>26449.77</td>\n",
       "      <td>28938.76</td>\n",
       "      <td>1.094103</td>\n",
       "      <td>543.39</td>\n",
       "      <td>463.66</td>\n",
       "      <td>79.73</td>\n",
       "      <td>0.853273</td>\n",
       "      <td>62.413751</td>\n",
       "      <td>0.240830</td>\n",
       "      <td>...</td>\n",
       "      <td>26791.513670</td>\n",
       "      <td>2147.246330</td>\n",
       "      <td>0.925800</td>\n",
       "      <td>3323.834712</td>\n",
       "      <td>-2488.99</td>\n",
       "      <td>5812.824712</td>\n",
       "      <td>NaN</td>\n",
       "      <td>NaN</td>\n",
       "      <td>NaN</td>\n",
       "      <td>NaN</td>\n",
       "    </tr>\n",
       "    <tr>\n",
       "      <th>1</th>\n",
       "      <td>2</td>\n",
       "      <td>10848.49</td>\n",
       "      <td>12015.99</td>\n",
       "      <td>1.107619</td>\n",
       "      <td>170.47</td>\n",
       "      <td>165.21</td>\n",
       "      <td>5.26</td>\n",
       "      <td>0.969144</td>\n",
       "      <td>72.731614</td>\n",
       "      <td>0.138475</td>\n",
       "      <td>...</td>\n",
       "      <td>8421.849103</td>\n",
       "      <td>3594.140897</td>\n",
       "      <td>0.700887</td>\n",
       "      <td>255.928114</td>\n",
       "      <td>-1167.50</td>\n",
       "      <td>1423.428114</td>\n",
       "      <td>NaN</td>\n",
       "      <td>NaN</td>\n",
       "      <td>NaN</td>\n",
       "      <td>NaN</td>\n",
       "    </tr>\n",
       "    <tr>\n",
       "      <th>2</th>\n",
       "      <td>3</td>\n",
       "      <td>5390.78</td>\n",
       "      <td>5359.97</td>\n",
       "      <td>0.994285</td>\n",
       "      <td>100.02</td>\n",
       "      <td>76.67</td>\n",
       "      <td>23.35</td>\n",
       "      <td>0.766547</td>\n",
       "      <td>69.909613</td>\n",
       "      <td>0.227738</td>\n",
       "      <td>...</td>\n",
       "      <td>3797.599057</td>\n",
       "      <td>1562.370943</td>\n",
       "      <td>0.708511</td>\n",
       "      <td>991.218256</td>\n",
       "      <td>30.81</td>\n",
       "      <td>960.408256</td>\n",
       "      <td>NaN</td>\n",
       "      <td>NaN</td>\n",
       "      <td>NaN</td>\n",
       "      <td>NaN</td>\n",
       "    </tr>\n",
       "  </tbody>\n",
       "</table>\n",
       "<p>3 rows × 23 columns</p>\n",
       "</div>"
      ],
      "text/plain": [
       "  COD_COS  COMPROMISO   ENTREGA  _ENTREGA  TOTAL_AREA  COSECHA  SIN COSECHA  \\\n",
       "0       1    26449.77  28938.76  1.094103      543.39   463.66        79.73   \n",
       "1       2    10848.49  12015.99  1.107619      170.47   165.21         5.26   \n",
       "2       3     5390.78   5359.97  0.994285      100.02    76.67        23.35   \n",
       "\n",
       "   %COSECHA        TCH  DIF.AVANCE  ...  TN_COSECHA_ESTIM    DIF.ESTIM  \\\n",
       "0  0.853273  62.413751    0.240830  ...      26791.513670  2147.246330   \n",
       "1  0.969144  72.731614    0.138475  ...       8421.849103  3594.140897   \n",
       "2  0.766547  69.909613    0.227738  ...       3797.599057  1562.370943   \n",
       "\n",
       "   % DIF.ESTIM  TN_EN_CAMPO  COMPROMISO_RESTANTE   DIFERENCIA  Unnamed: 19  \\\n",
       "0     0.925800  3323.834712             -2488.99  5812.824712          NaN   \n",
       "1     0.700887   255.928114             -1167.50  1423.428114          NaN   \n",
       "2     0.708511   991.218256                30.81   960.408256          NaN   \n",
       "\n",
       "   Unnamed: 20  Unnamed: 21  Unnamed: 22  \n",
       "0          NaN          NaN          NaN  \n",
       "1          NaN          NaN          NaN  \n",
       "2          NaN          NaN          NaN  \n",
       "\n",
       "[3 rows x 23 columns]"
      ]
     },
     "execution_count": 36,
     "metadata": {},
     "output_type": "execute_result"
    }
   ],
   "source": [
    "xlsx_avance.head(3)"
   ]
  },
  {
   "cell_type": "code",
   "execution_count": 15,
   "id": "541b7431-2bc8-4d4e-8ff4-662e1b8d8a7f",
   "metadata": {},
   "outputs": [
    {
     "data": {
      "text/html": [
       "<div>\n",
       "<style scoped>\n",
       "    .dataframe tbody tr th:only-of-type {\n",
       "        vertical-align: middle;\n",
       "    }\n",
       "\n",
       "    .dataframe tbody tr th {\n",
       "        vertical-align: top;\n",
       "    }\n",
       "\n",
       "    .dataframe thead th {\n",
       "        text-align: right;\n",
       "    }\n",
       "</style>\n",
       "<table border=\"1\" class=\"dataframe\">\n",
       "  <thead>\n",
       "    <tr style=\"text-align: right;\">\n",
       "      <th></th>\n",
       "      <th>COD_COS</th>\n",
       "      <th>COMPROMISO</th>\n",
       "      <th>ENTREGA</th>\n",
       "      <th>_ENTREGA</th>\n",
       "      <th>TOTAL_AREA</th>\n",
       "      <th>COSECHA</th>\n",
       "      <th>SIN COSECHA</th>\n",
       "      <th>%COSECHA</th>\n",
       "      <th>TCH</th>\n",
       "      <th>DIF.AVANCE</th>\n",
       "      <th>AREA_ESTIM.</th>\n",
       "      <th>TCH_ESTIM</th>\n",
       "      <th>PRODUCCION_ESTIM</th>\n",
       "      <th>TN_COSECHA_ESTIM</th>\n",
       "      <th>DIF.ESTIM</th>\n",
       "      <th>% DIF.ESTIM</th>\n",
       "      <th>TN_EN_CAMPO</th>\n",
       "      <th>COMPROMISO_RESTANTE</th>\n",
       "      <th>DIFERENCIA</th>\n",
       "    </tr>\n",
       "  </thead>\n",
       "  <tbody>\n",
       "    <tr>\n",
       "      <th>28</th>\n",
       "      <td>30</td>\n",
       "      <td>65493.32</td>\n",
       "      <td>42091.86</td>\n",
       "      <td>0.642689</td>\n",
       "      <td>856.71</td>\n",
       "      <td>452.11</td>\n",
       "      <td>404.6</td>\n",
       "      <td>0.527728</td>\n",
       "      <td>93.100927</td>\n",
       "      <td>0.114961</td>\n",
       "      <td>857.018376</td>\n",
       "      <td>76.385829</td>\n",
       "      <td>65464.059007</td>\n",
       "      <td>34547.228021</td>\n",
       "      <td>7544.631979</td>\n",
       "      <td>0.820758</td>\n",
       "      <td>30916.830986</td>\n",
       "      <td>23401.46</td>\n",
       "      <td>7515.370986</td>\n",
       "    </tr>\n",
       "  </tbody>\n",
       "</table>\n",
       "</div>"
      ],
      "text/plain": [
       "   COD_COS  COMPROMISO   ENTREGA  _ENTREGA  TOTAL_AREA  COSECHA  SIN COSECHA  \\\n",
       "28      30    65493.32  42091.86  0.642689      856.71   452.11        404.6   \n",
       "\n",
       "    %COSECHA        TCH  DIF.AVANCE  AREA_ESTIM.  TCH_ESTIM  PRODUCCION_ESTIM  \\\n",
       "28  0.527728  93.100927    0.114961   857.018376  76.385829      65464.059007   \n",
       "\n",
       "    TN_COSECHA_ESTIM    DIF.ESTIM  % DIF.ESTIM   TN_EN_CAMPO  \\\n",
       "28      34547.228021  7544.631979     0.820758  30916.830986   \n",
       "\n",
       "    COMPROMISO_RESTANTE   DIFERENCIA  \n",
       "28             23401.46  7515.370986  "
      ]
     },
     "execution_count": 15,
     "metadata": {},
     "output_type": "execute_result"
    }
   ],
   "source": [
    "avance = xlsx_avance[xlsx_avance['COD_COS'] == cod_grupo]\n",
    "avance"
   ]
  },
  {
   "cell_type": "code",
   "execution_count": 29,
   "id": "76d2bdb3-f993-428e-9658-e448cd029af8",
   "metadata": {},
   "outputs": [
    {
     "data": {
      "text/plain": [
       "{'fecha_img': '05 de agosto de 2023',\n",
       " 'fecha_informe': '14 de agosto de 2023',\n",
       " 'compromiso': 65493.32,\n",
       " 'entrega': 42091.86,\n",
       " 'entrega_porcen': 64.26893612966941,\n",
       " 'ha_canha': 856.71,\n",
       " 'ha_cosecha': 452.11,\n",
       " 'cosecha_porcen': 52.77281693922097,\n",
       " 'tch': 93.10092676561014}"
      ]
     },
     "execution_count": 29,
     "metadata": {},
     "output_type": "execute_result"
    }
   ],
   "source": [
    "avance_totales = {\n",
    "    'fecha_img' : fecha_img,\n",
    "    'fecha_informe' : fecha_inf,\n",
    "    'compromiso' : float(avance['COMPROMISO']),\n",
    "    'entrega' : float(avance['ENTREGA']),\n",
    "    'entrega_porcen' : float(avance['_ENTREGA']) * 100,\n",
    "    'ha_canha' : float(avance['TOTAL_AREA']),\n",
    "    'ha_cosecha' : float(avance['COSECHA']),\n",
    "    'cosecha_porcen' : float(avance['%COSECHA']) * 100,\n",
    "    'tch' : float(avance['TCH'])\n",
    "}\n",
    "avance_totales"
   ]
  },
  {
   "cell_type": "code",
   "execution_count": 67,
   "id": "3a715bec-6771-4d94-a530-8f8b1696c23a",
   "metadata": {},
   "outputs": [
    {
     "data": {
      "text/plain": [
       "avance_totales(fecha_img='05 de agosto de 2023', fecha_informe='14 de agosto de 2023', compromiso=26449.77, entrega=19161.65, entrega_porcen=72.44543147256101, ha_canha=543.38, ha_cosecha=304.38, cosecha_porcen=56.01604770142442, tch=62.953052105920236)"
      ]
     },
     "execution_count": 67,
     "metadata": {},
     "output_type": "execute_result"
    }
   ],
   "source": [
    "obj_avance_totales = collections.namedtuple(\"avance_totales\",avance_totales.keys())(*avance_totales.values())\n",
    "obj_avance_totales"
   ]
  },
  {
   "cell_type": "code",
   "execution_count": 68,
   "id": "a4dda3a6-7425-4c16-9662-8b828a565b29",
   "metadata": {},
   "outputs": [],
   "source": [
    "doc = DocxTemplate(ruta + '/templates/tbl_rpt_posible_desvio.docx')\n",
    "context = {\n",
    "    'insp' : list_obj_caneros,\n",
    "    'grupo_totales' : obj_grupo_totales,\n",
    "    'avance' : obj_avance_totales\n",
    "}\n",
    "doc.render(context)\n",
    "doc.save(ruta + '/informes/rpt.docx')"
   ]
  },
  {
   "cell_type": "code",
   "execution_count": null,
   "id": "13a5a91e-2f38-48f4-ab6d-ab1e8c2e1521",
   "metadata": {},
   "outputs": [],
   "source": []
  },
  {
   "cell_type": "code",
   "execution_count": null,
   "id": "f721eb8f-0880-4014-a2d8-55f3bc3b23b0",
   "metadata": {},
   "outputs": [],
   "source": []
  },
  {
   "cell_type": "code",
   "execution_count": null,
   "id": "d5f5c7b3-1eea-4817-b09e-21e35af54f0b",
   "metadata": {},
   "outputs": [],
   "source": []
  },
  {
   "cell_type": "code",
   "execution_count": null,
   "id": "343bf852-313c-4b3f-ae62-31223cbf7618",
   "metadata": {},
   "outputs": [],
   "source": []
  },
  {
   "cell_type": "code",
   "execution_count": null,
   "id": "4680a160-2b6a-4f32-94a6-b71f254a56c2",
   "metadata": {},
   "outputs": [],
   "source": []
  },
  {
   "cell_type": "code",
   "execution_count": null,
   "id": "edf4cc31-2a7f-4019-9e4b-0dde0766fe15",
   "metadata": {},
   "outputs": [],
   "source": []
  },
  {
   "cell_type": "code",
   "execution_count": null,
   "id": "40b9b981-c0ab-462e-a39a-f7147b2b61f3",
   "metadata": {},
   "outputs": [],
   "source": []
  },
  {
   "cell_type": "code",
   "execution_count": null,
   "id": "3d5401ad-5a89-4fee-8c4f-26567e2067b1",
   "metadata": {},
   "outputs": [],
   "source": []
  },
  {
   "cell_type": "code",
   "execution_count": null,
   "id": "67da0586-dfda-405d-9264-661804478b64",
   "metadata": {},
   "outputs": [],
   "source": []
  }
 ],
 "metadata": {
  "kernelspec": {
   "display_name": "Python 3 (ipykernel)",
   "language": "python",
   "name": "python3"
  },
  "language_info": {
   "codemirror_mode": {
    "name": "ipython",
    "version": 3
   },
   "file_extension": ".py",
   "mimetype": "text/x-python",
   "name": "python",
   "nbconvert_exporter": "python",
   "pygments_lexer": "ipython3",
   "version": "3.7.16"
  }
 },
 "nbformat": 4,
 "nbformat_minor": 5
}
