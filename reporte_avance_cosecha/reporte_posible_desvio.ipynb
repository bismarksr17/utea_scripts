{
 "cells": [
  {
   "cell_type": "markdown",
   "id": "a7a290fe-5066-46af-b0de-ba7f3341acee",
   "metadata": {},
   "source": [
    "Cartar de posible desvio para la union"
   ]
  },
  {
   "cell_type": "code",
   "execution_count": 2,
   "id": "ca9b4b00-6b15-4a9d-af08-e70c7d600def",
   "metadata": {},
   "outputs": [],
   "source": [
    "import pandas as pd\n",
    "import collections\n",
    "\n",
    "from docxtpl import DocxTemplate"
   ]
  },
  {
   "cell_type": "code",
   "execution_count": 3,
   "id": "bc615d29-fa0e-4e6e-a202-5ba5dfa94fe6",
   "metadata": {},
   "outputs": [],
   "source": [
    "# ruta de carpera donde estan las llaves\n",
    "ruta = open('../ruta.txt')\n",
    "ruta = ruta.readlines()[0]"
   ]
  },
  {
   "cell_type": "code",
   "execution_count": 5,
   "id": "3e5d52ea-5b4f-486d-ab01-b7ceb2667134",
   "metadata": {},
   "outputs": [
    {
     "data": {
      "text/plain": [
       "'G:\\\\OneDrive - Ingenio Azucarero Guabira S.A\\\\_DATOS_PYTHON'"
      ]
     },
     "execution_count": 5,
     "metadata": {},
     "output_type": "execute_result"
    }
   ],
   "source": [
    "ruta"
   ]
  },
  {
   "cell_type": "code",
   "execution_count": 6,
   "id": "b52240b8-8333-4bb2-914a-9dc70d0f143d",
   "metadata": {},
   "outputs": [],
   "source": [
    "path_xlsx_avance = r'G:/Ingenio Azucarero Guabira S.A/UTEA - SEMANAL - AVANCE COSECHA/2023/ANALISIS DE CAÑA EN CAMPO 2023/AVANCE DE COSECHA V2.xlsx'"
   ]
  },
  {
   "cell_type": "code",
   "execution_count": 8,
   "id": "1b728e8b-d1fb-4952-be59-d80b6e9bfb55",
   "metadata": {},
   "outputs": [],
   "source": [
    "xlsx_entregas = pd.read_excel(path_xlsx_avance, sheet_name='ENTREGAS')\n",
    "xlsx_avance = pd.read_excel(path_xlsx_avance, sheet_name = 'AVANCE POR GRUPO')"
   ]
  },
  {
   "cell_type": "code",
   "execution_count": 9,
   "id": "0b8d2740-973f-4c38-9b9e-4824a2e72c65",
   "metadata": {},
   "outputs": [
    {
     "data": {
      "text/html": [
       "<div>\n",
       "<style scoped>\n",
       "    .dataframe tbody tr th:only-of-type {\n",
       "        vertical-align: middle;\n",
       "    }\n",
       "\n",
       "    .dataframe tbody tr th {\n",
       "        vertical-align: top;\n",
       "    }\n",
       "\n",
       "    .dataframe thead th {\n",
       "        text-align: right;\n",
       "    }\n",
       "</style>\n",
       "<table border=\"1\" class=\"dataframe\">\n",
       "  <thead>\n",
       "    <tr style=\"text-align: right;\">\n",
       "      <th></th>\n",
       "      <th>INST</th>\n",
       "      <th>GRUPO</th>\n",
       "      <th>CODIGO CAÑERO</th>\n",
       "      <th>NOMBRE CAÑERO</th>\n",
       "      <th>COMPROMISO DE ENTREGA</th>\n",
       "      <th>PAQ</th>\n",
       "      <th>TM. ENTREGADAS</th>\n",
       "      <th>AVANCE</th>\n",
       "      <th>INICIO DE ENTREGAS</th>\n",
       "      <th>ULTIMA ENTREGA</th>\n",
       "      <th>COD_COSECHA</th>\n",
       "    </tr>\n",
       "  </thead>\n",
       "  <tbody>\n",
       "    <tr>\n",
       "      <th>0</th>\n",
       "      <td>131</td>\n",
       "      <td>3</td>\n",
       "      <td>17</td>\n",
       "      <td>ACSAMA SEGOVIA SABINO</td>\n",
       "      <td>565.19</td>\n",
       "      <td>30.0</td>\n",
       "      <td>541.02</td>\n",
       "      <td>0.957236</td>\n",
       "      <td>45136.0</td>\n",
       "      <td>45139.0</td>\n",
       "      <td>356</td>\n",
       "    </tr>\n",
       "    <tr>\n",
       "      <th>1</th>\n",
       "      <td>126</td>\n",
       "      <td>1</td>\n",
       "      <td>18</td>\n",
       "      <td>ACUNA ARISPE HONORATO</td>\n",
       "      <td>517.69</td>\n",
       "      <td>24.0</td>\n",
       "      <td>364.33</td>\n",
       "      <td>0.703761</td>\n",
       "      <td>45138.0</td>\n",
       "      <td>45163.0</td>\n",
       "      <td>354</td>\n",
       "    </tr>\n",
       "    <tr>\n",
       "      <th>2</th>\n",
       "      <td>59</td>\n",
       "      <td>7</td>\n",
       "      <td>39</td>\n",
       "      <td>AGUILAR ROMERO NICOLAS</td>\n",
       "      <td>1020.46</td>\n",
       "      <td>72.0</td>\n",
       "      <td>782.38</td>\n",
       "      <td>0.766693</td>\n",
       "      <td>45080.0</td>\n",
       "      <td>45169.0</td>\n",
       "      <td>32</td>\n",
       "    </tr>\n",
       "  </tbody>\n",
       "</table>\n",
       "</div>"
      ],
      "text/plain": [
       "   INST  GRUPO  CODIGO CAÑERO            NOMBRE CAÑERO  COMPROMISO DE ENTREGA  \\\n",
       "0   131      3              17  ACSAMA SEGOVIA SABINO                  565.19   \n",
       "1   126      1              18  ACUNA ARISPE HONORATO                  517.69   \n",
       "2    59      7              39  AGUILAR ROMERO NICOLAS                1020.46   \n",
       "\n",
       "    PAQ  TM. ENTREGADAS    AVANCE  INICIO DE ENTREGAS  ULTIMA ENTREGA  \\\n",
       "0  30.0          541.02  0.957236             45136.0         45139.0   \n",
       "1  24.0          364.33  0.703761             45138.0         45163.0   \n",
       "2  72.0          782.38  0.766693             45080.0         45169.0   \n",
       "\n",
       "   COD_COSECHA  \n",
       "0          356  \n",
       "1          354  \n",
       "2           32  "
      ]
     },
     "execution_count": 9,
     "metadata": {},
     "output_type": "execute_result"
    }
   ],
   "source": [
    "xlsx_entregas.head(3)"
   ]
  },
  {
   "cell_type": "code",
   "execution_count": 10,
   "id": "f37e76c4-f292-49f6-a6f6-3c55a1488a1a",
   "metadata": {},
   "outputs": [
    {
     "data": {
      "text/html": [
       "<div>\n",
       "<style scoped>\n",
       "    .dataframe tbody tr th:only-of-type {\n",
       "        vertical-align: middle;\n",
       "    }\n",
       "\n",
       "    .dataframe tbody tr th {\n",
       "        vertical-align: top;\n",
       "    }\n",
       "\n",
       "    .dataframe thead th {\n",
       "        text-align: right;\n",
       "    }\n",
       "</style>\n",
       "<table border=\"1\" class=\"dataframe\">\n",
       "  <thead>\n",
       "    <tr style=\"text-align: right;\">\n",
       "      <th></th>\n",
       "      <th>COD_COS</th>\n",
       "      <th>COMPROMISO</th>\n",
       "      <th>ENTREGA</th>\n",
       "      <th>_ENTREGA</th>\n",
       "      <th>TOTAL_AREA</th>\n",
       "      <th>COSECHA</th>\n",
       "      <th>SIN COSECHA</th>\n",
       "      <th>%COSECHA</th>\n",
       "      <th>TCH</th>\n",
       "      <th>DIF.AVANCE</th>\n",
       "      <th>...</th>\n",
       "      <th>TN_COSECHA_ESTIM</th>\n",
       "      <th>DIF.ESTIM</th>\n",
       "      <th>% DIF.ESTIM</th>\n",
       "      <th>TN_EN_CAMPO</th>\n",
       "      <th>COMPROMISO_RESTANTE</th>\n",
       "      <th>DIFERENCIA</th>\n",
       "      <th>Unnamed: 19</th>\n",
       "      <th>Unnamed: 20</th>\n",
       "      <th>Unnamed: 21</th>\n",
       "      <th>Unnamed: 22</th>\n",
       "    </tr>\n",
       "  </thead>\n",
       "  <tbody>\n",
       "    <tr>\n",
       "      <th>0</th>\n",
       "      <td>1</td>\n",
       "      <td>26449.77</td>\n",
       "      <td>20331.96</td>\n",
       "      <td>0.768701</td>\n",
       "      <td>543.38</td>\n",
       "      <td>327.87</td>\n",
       "      <td>215.51</td>\n",
       "      <td>0.603390</td>\n",
       "      <td>62.012261</td>\n",
       "      <td>0.165311</td>\n",
       "      <td>...</td>\n",
       "      <td>18177.722033</td>\n",
       "      <td>2154.237967</td>\n",
       "      <td>0.894047</td>\n",
       "      <td>11948.274851</td>\n",
       "      <td>6117.81</td>\n",
       "      <td>5830.464851</td>\n",
       "      <td>NaN</td>\n",
       "      <td>NaN</td>\n",
       "      <td>NaN</td>\n",
       "      <td>NaN</td>\n",
       "    </tr>\n",
       "    <tr>\n",
       "      <th>1</th>\n",
       "      <td>2</td>\n",
       "      <td>10848.49</td>\n",
       "      <td>9950.67</td>\n",
       "      <td>0.917240</td>\n",
       "      <td>170.47</td>\n",
       "      <td>121.17</td>\n",
       "      <td>49.30</td>\n",
       "      <td>0.710800</td>\n",
       "      <td>82.121565</td>\n",
       "      <td>0.206441</td>\n",
       "      <td>...</td>\n",
       "      <td>6168.160177</td>\n",
       "      <td>3782.509823</td>\n",
       "      <td>0.619874</td>\n",
       "      <td>2509.617040</td>\n",
       "      <td>897.82</td>\n",
       "      <td>1611.797040</td>\n",
       "      <td>NaN</td>\n",
       "      <td>NaN</td>\n",
       "      <td>NaN</td>\n",
       "      <td>NaN</td>\n",
       "    </tr>\n",
       "    <tr>\n",
       "      <th>2</th>\n",
       "      <td>3</td>\n",
       "      <td>5390.78</td>\n",
       "      <td>3570.04</td>\n",
       "      <td>0.662249</td>\n",
       "      <td>112.85</td>\n",
       "      <td>48.95</td>\n",
       "      <td>63.90</td>\n",
       "      <td>0.433762</td>\n",
       "      <td>72.932380</td>\n",
       "      <td>0.228488</td>\n",
       "      <td>...</td>\n",
       "      <td>2372.404219</td>\n",
       "      <td>1197.635781</td>\n",
       "      <td>0.664532</td>\n",
       "      <td>3096.968939</td>\n",
       "      <td>1820.74</td>\n",
       "      <td>1276.228939</td>\n",
       "      <td>NaN</td>\n",
       "      <td>NaN</td>\n",
       "      <td>NaN</td>\n",
       "      <td>NaN</td>\n",
       "    </tr>\n",
       "  </tbody>\n",
       "</table>\n",
       "<p>3 rows × 23 columns</p>\n",
       "</div>"
      ],
      "text/plain": [
       "  COD_COS  COMPROMISO   ENTREGA  _ENTREGA  TOTAL_AREA  COSECHA  SIN COSECHA  \\\n",
       "0       1    26449.77  20331.96  0.768701      543.38   327.87       215.51   \n",
       "1       2    10848.49   9950.67  0.917240      170.47   121.17        49.30   \n",
       "2       3     5390.78   3570.04  0.662249      112.85    48.95        63.90   \n",
       "\n",
       "   %COSECHA        TCH  DIF.AVANCE  ...  TN_COSECHA_ESTIM    DIF.ESTIM  \\\n",
       "0  0.603390  62.012261    0.165311  ...      18177.722033  2154.237967   \n",
       "1  0.710800  82.121565    0.206441  ...       6168.160177  3782.509823   \n",
       "2  0.433762  72.932380    0.228488  ...       2372.404219  1197.635781   \n",
       "\n",
       "   % DIF.ESTIM   TN_EN_CAMPO  COMPROMISO_RESTANTE   DIFERENCIA  Unnamed: 19  \\\n",
       "0     0.894047  11948.274851              6117.81  5830.464851          NaN   \n",
       "1     0.619874   2509.617040               897.82  1611.797040          NaN   \n",
       "2     0.664532   3096.968939              1820.74  1276.228939          NaN   \n",
       "\n",
       "   Unnamed: 20  Unnamed: 21  Unnamed: 22  \n",
       "0          NaN          NaN          NaN  \n",
       "1          NaN          NaN          NaN  \n",
       "2          NaN          NaN          NaN  \n",
       "\n",
       "[3 rows x 23 columns]"
      ]
     },
     "execution_count": 10,
     "metadata": {},
     "output_type": "execute_result"
    }
   ],
   "source": [
    "xlsx_avance.head(3)"
   ]
  },
  {
   "cell_type": "markdown",
   "id": "4a1d6b56-eb17-4c5b-9991-023b46760aca",
   "metadata": {},
   "source": [
    "## Argumentos"
   ]
  },
  {
   "cell_type": "code",
   "execution_count": 11,
   "id": "03e8f925-dee3-44e3-b1f1-4f06314732a7",
   "metadata": {},
   "outputs": [],
   "source": [
    "fecha_inf = '02 de septiembra de 2023'\n",
    "fecha_form = '02-09-2023'\n",
    "\n",
    "fecha_img = '30 de agosto de 2023'\n",
    "cod_grupo = 30\n",
    "cod_grupos = [29, 103]"
   ]
  },
  {
   "cell_type": "code",
   "execution_count": 12,
   "id": "35e16c7f-2ba0-425c-b258-c05b0625215c",
   "metadata": {},
   "outputs": [
    {
     "name": "stdout",
     "output_type": "stream",
     "text": [
      "Se generó reporte de grupo: 29\n",
      "Se generó reporte de grupo: 103\n"
     ]
    }
   ],
   "source": [
    "for i in cod_grupos:\n",
    "    # datos del grupo\n",
    "    grupo = xlsx_entregas[xlsx_entregas['COD_COSECHA'] == i].copy()\n",
    "    grupo = grupo[['INST', 'CODIGO CAÑERO ', 'NOMBRE CAÑERO','COMPROMISO DE ENTREGA', 'TM. ENTREGADAS']]\n",
    "    grupo['TM. ENTREGADAS'] = grupo['TM. ENTREGADAS'].fillna(0)\n",
    "    grupo['avance%'] = grupo['TM. ENTREGADAS'] / grupo['COMPROMISO DE ENTREGA'] * 100\n",
    "    \n",
    "    # convertir datos del grupo a objetos\n",
    "    list_obj_caneros = []\n",
    "    for index, row in grupo.iterrows():\n",
    "        canero = {\n",
    "            'inst' : row['INST'],\n",
    "            'cod_ca' : row['CODIGO CAÑERO '],\n",
    "            'nom_ca' : row['NOMBRE CAÑERO'],\n",
    "            'compromiso' : row['COMPROMISO DE ENTREGA'],\n",
    "            'entrega' : row['TM. ENTREGADAS'],\n",
    "            'entrega_porcen' : row['avance%']\n",
    "        }\n",
    "        list_obj_caneros.append(collections.namedtuple(\"canero\", canero.keys())(*canero.values()))\n",
    "    \n",
    "    # totales de los datos del grupo\n",
    "    grupo_totales = {\n",
    "        'compromiso' : grupo['COMPROMISO DE ENTREGA'].sum(),\n",
    "        'entregas' : grupo['TM. ENTREGADAS'].sum(),\n",
    "        'entrega_porcen' : grupo['TM. ENTREGADAS'].sum() / grupo['COMPROMISO DE ENTREGA'].sum() * 100\n",
    "    }\n",
    "    obj_grupo_totales = collections.namedtuple(\"grupo_totales\", grupo_totales.keys())(*grupo_totales.values())\n",
    "    \n",
    "    # datos generales de avance de cosecha\n",
    "    avance = xlsx_avance[xlsx_avance['COD_COS'] == i]\n",
    "    avance_totales = {\n",
    "        'fecha_img' : fecha_img,\n",
    "        'fecha_informe' : fecha_inf,\n",
    "        'compromiso' : float(avance['COMPROMISO']),\n",
    "        'entrega' : float(avance['ENTREGA']),\n",
    "        'entrega_porcen' : float(avance['_ENTREGA']) * 100,\n",
    "        'ha_canha' : float(avance['TOTAL_AREA']),\n",
    "        'ha_cosecha' : float(avance['COSECHA']),\n",
    "        'cosecha_porcen' : float(avance['%COSECHA']) * 100,\n",
    "        'tch' : float(avance['TCH'])\n",
    "    }\n",
    "    \n",
    "    # datos generales a objeto\n",
    "    obj_avance_totales = collections.namedtuple(\"avance_totales\",avance_totales.keys())(*avance_totales.values())\n",
    "    \n",
    "    # generar reporte\n",
    "    doc = DocxTemplate(ruta + '/templates/tpl_rpt_avance_posible_desvio.docx')\n",
    "    context = {\n",
    "        'insp' : list_obj_caneros,\n",
    "        'grupo_totales' : obj_grupo_totales,\n",
    "        'avance' : obj_avance_totales\n",
    "    }\n",
    "    doc.render(context)\n",
    "    doc.save(ruta + '/informes/_' + str(i) + '_RDC_' + fecha_form + '.docx')\n",
    "    print('Se generó reporte de grupo:', i)"
   ]
  },
  {
   "cell_type": "code",
   "execution_count": null,
   "id": "b2074267-172e-4ce7-b75c-4b5fdd62c4a8",
   "metadata": {},
   "outputs": [],
   "source": []
  },
  {
   "cell_type": "code",
   "execution_count": null,
   "id": "77a3cf14-ed56-43ba-af68-e158e17cae46",
   "metadata": {},
   "outputs": [],
   "source": []
  },
  {
   "cell_type": "code",
   "execution_count": null,
   "id": "b35c0011-4704-469a-965d-d4ce5d0efa4d",
   "metadata": {},
   "outputs": [],
   "source": []
  },
  {
   "cell_type": "code",
   "execution_count": null,
   "id": "30b41900-d827-4e6c-bd9e-38468f303d2b",
   "metadata": {},
   "outputs": [],
   "source": []
  },
  {
   "cell_type": "code",
   "execution_count": null,
   "id": "ac183af9-0b33-46b0-800c-6679765dc6d0",
   "metadata": {},
   "outputs": [],
   "source": []
  },
  {
   "cell_type": "code",
   "execution_count": null,
   "id": "b01d8e9c-9e63-4cee-9294-567da5176718",
   "metadata": {},
   "outputs": [],
   "source": []
  },
  {
   "cell_type": "code",
   "execution_count": null,
   "id": "3d5f940b-052b-4ba3-8fd8-77dfdfa6b012",
   "metadata": {},
   "outputs": [],
   "source": []
  },
  {
   "cell_type": "code",
   "execution_count": null,
   "id": "2b11deb8-42e0-433d-b38a-97fdb92eb95c",
   "metadata": {},
   "outputs": [],
   "source": []
  },
  {
   "cell_type": "code",
   "execution_count": null,
   "id": "fdaf2319-da71-4f77-9224-90ce4f31bf6a",
   "metadata": {},
   "outputs": [],
   "source": []
  },
  {
   "cell_type": "code",
   "execution_count": null,
   "id": "7e9f87ff-9c4d-4450-9ba2-934d8953d187",
   "metadata": {},
   "outputs": [],
   "source": []
  },
  {
   "cell_type": "code",
   "execution_count": null,
   "id": "87310f52-157d-4662-8f23-c6a521b3717b",
   "metadata": {},
   "outputs": [],
   "source": []
  },
  {
   "cell_type": "code",
   "execution_count": null,
   "id": "ecf62042-d7c2-4aea-8acb-8054bee92758",
   "metadata": {},
   "outputs": [],
   "source": []
  },
  {
   "cell_type": "code",
   "execution_count": null,
   "id": "82001312-c870-47da-8691-d377f8323974",
   "metadata": {},
   "outputs": [],
   "source": []
  },
  {
   "cell_type": "code",
   "execution_count": null,
   "id": "d1003fc9-0c22-4afa-8c2c-04aac7f529be",
   "metadata": {},
   "outputs": [],
   "source": []
  },
  {
   "cell_type": "code",
   "execution_count": null,
   "id": "db507b83-f104-4a01-a6a8-d79e5d5e794f",
   "metadata": {},
   "outputs": [],
   "source": []
  },
  {
   "cell_type": "code",
   "execution_count": null,
   "id": "5f142f46-840f-4e33-9835-195a2183be8e",
   "metadata": {},
   "outputs": [],
   "source": []
  },
  {
   "cell_type": "markdown",
   "id": "9ecfcfff-c39c-4c23-b02e-7990cea7d26e",
   "metadata": {},
   "source": [
    "## DATOS DEL GRUPO"
   ]
  },
  {
   "cell_type": "code",
   "execution_count": 11,
   "id": "f5b70e9d-3121-4aec-bb05-217ae1bd52e3",
   "metadata": {},
   "outputs": [
    {
     "data": {
      "text/html": [
       "<div>\n",
       "<style scoped>\n",
       "    .dataframe tbody tr th:only-of-type {\n",
       "        vertical-align: middle;\n",
       "    }\n",
       "\n",
       "    .dataframe tbody tr th {\n",
       "        vertical-align: top;\n",
       "    }\n",
       "\n",
       "    .dataframe thead th {\n",
       "        text-align: right;\n",
       "    }\n",
       "</style>\n",
       "<table border=\"1\" class=\"dataframe\">\n",
       "  <thead>\n",
       "    <tr style=\"text-align: right;\">\n",
       "      <th></th>\n",
       "      <th>INST</th>\n",
       "      <th>CODIGO CAÑERO</th>\n",
       "      <th>NOMBRE CAÑERO</th>\n",
       "      <th>COMPROMISO DE ENTREGA</th>\n",
       "      <th>TM. ENTREGADAS</th>\n",
       "      <th>avance%</th>\n",
       "    </tr>\n",
       "  </thead>\n",
       "  <tbody>\n",
       "    <tr>\n",
       "      <th>6</th>\n",
       "      <td>50</td>\n",
       "      <td>75</td>\n",
       "      <td>AGUILERA TARADELLES NELSON MARIANO</td>\n",
       "      <td>26992.97</td>\n",
       "      <td>10171.47</td>\n",
       "      <td>37.681922</td>\n",
       "    </tr>\n",
       "    <tr>\n",
       "      <th>48</th>\n",
       "      <td>50</td>\n",
       "      <td>577</td>\n",
       "      <td>AGUILERA MARIA INGRID WENDE DE</td>\n",
       "      <td>13433.25</td>\n",
       "      <td>13646.16</td>\n",
       "      <td>101.584948</td>\n",
       "    </tr>\n",
       "    <tr>\n",
       "      <th>103</th>\n",
       "      <td>50</td>\n",
       "      <td>794</td>\n",
       "      <td>AGUILERA WENDE MARIANO</td>\n",
       "      <td>18084.70</td>\n",
       "      <td>18219.59</td>\n",
       "      <td>100.745879</td>\n",
       "    </tr>\n",
       "    <tr>\n",
       "      <th>561</th>\n",
       "      <td>50</td>\n",
       "      <td>8005</td>\n",
       "      <td>AGUILERA WENDE MARIA INGRID</td>\n",
       "      <td>5201.02</td>\n",
       "      <td>54.64</td>\n",
       "      <td>1.050563</td>\n",
       "    </tr>\n",
       "    <tr>\n",
       "      <th>1151</th>\n",
       "      <td>50</td>\n",
       "      <td>41715</td>\n",
       "      <td>VACA DIEZ UGARTE NICOLAS</td>\n",
       "      <td>1781.38</td>\n",
       "      <td>0.00</td>\n",
       "      <td>0.000000</td>\n",
       "    </tr>\n",
       "  </tbody>\n",
       "</table>\n",
       "</div>"
      ],
      "text/plain": [
       "      INST  CODIGO CAÑERO                         NOMBRE CAÑERO  \\\n",
       "6       50              75  AGUILERA TARADELLES NELSON MARIANO    \n",
       "48      50             577       AGUILERA MARIA INGRID WENDE DE   \n",
       "103     50             794               AGUILERA WENDE MARIANO   \n",
       "561     50            8005         AGUILERA WENDE MARIA INGRID    \n",
       "1151    50           41715             VACA DIEZ UGARTE NICOLAS   \n",
       "\n",
       "      COMPROMISO DE ENTREGA  TM. ENTREGADAS     avance%  \n",
       "6                  26992.97        10171.47   37.681922  \n",
       "48                 13433.25        13646.16  101.584948  \n",
       "103                18084.70        18219.59  100.745879  \n",
       "561                 5201.02           54.64    1.050563  \n",
       "1151                1781.38            0.00    0.000000  "
      ]
     },
     "execution_count": 11,
     "metadata": {},
     "output_type": "execute_result"
    }
   ],
   "source": [
    "grupo = xlsx_entregas[xlsx_entregas['COD_COSECHA'] == cod_grupo].copy()\n",
    "grupo = grupo[['INST', 'CODIGO CAÑERO ', 'NOMBRE CAÑERO','COMPROMISO DE ENTREGA', 'TM. ENTREGADAS']]\n",
    "grupo['TM. ENTREGADAS'] = grupo['TM. ENTREGADAS'].fillna(0)\n",
    "grupo['avance%'] = grupo['TM. ENTREGADAS'] / grupo['COMPROMISO DE ENTREGA'] * 100\n",
    "grupo"
   ]
  },
  {
   "cell_type": "code",
   "execution_count": 12,
   "id": "78e78f5c-caa9-498e-8199-3e439cae1ae9",
   "metadata": {},
   "outputs": [
    {
     "data": {
      "text/plain": [
       "[canero(inst=50, cod_ca=75, nom_ca='AGUILERA TARADELLES NELSON MARIANO ', compromiso=26992.97, entrega=10171.47, entrega_porcen=37.68192236719412),\n",
       " canero(inst=50, cod_ca=577, nom_ca='AGUILERA MARIA INGRID WENDE DE', compromiso=13433.25, entrega=13646.16, entrega_porcen=101.58494779744291),\n",
       " canero(inst=50, cod_ca=794, nom_ca='AGUILERA WENDE MARIANO', compromiso=18084.7, entrega=18219.59, entrega_porcen=100.7458791132836),\n",
       " canero(inst=50, cod_ca=8005, nom_ca='AGUILERA WENDE MARIA INGRID ', compromiso=5201.02, entrega=54.64, entrega_porcen=1.0505631587650115),\n",
       " canero(inst=50, cod_ca=41715, nom_ca='VACA DIEZ UGARTE NICOLAS', compromiso=1781.38, entrega=0.0, entrega_porcen=0.0)]"
      ]
     },
     "execution_count": 12,
     "metadata": {},
     "output_type": "execute_result"
    }
   ],
   "source": [
    "list_obj_caneros = []\n",
    "for index, row in grupo.iterrows():\n",
    "    canero = {\n",
    "        'inst' : row['INST'],\n",
    "        'cod_ca' : row['CODIGO CAÑERO '],\n",
    "        'nom_ca' : row['NOMBRE CAÑERO'],\n",
    "        'compromiso' : row['COMPROMISO DE ENTREGA'],\n",
    "        'entrega' : row['TM. ENTREGADAS'],\n",
    "        'entrega_porcen' : row['avance%']\n",
    "    }\n",
    "    list_obj_caneros.append(collections.namedtuple(\"canero\", canero.keys())(*canero.values()))\n",
    "list_obj_caneros"
   ]
  },
  {
   "cell_type": "code",
   "execution_count": 13,
   "id": "8f94ddd4-1ef1-42d1-bfa3-0721a8733165",
   "metadata": {},
   "outputs": [
    {
     "data": {
      "text/plain": [
       "grupo_totales(compromiso=65493.32, entregas=42091.86, entrega_porcen=64.26893612966941)"
      ]
     },
     "execution_count": 13,
     "metadata": {},
     "output_type": "execute_result"
    }
   ],
   "source": [
    "grupo_totales = {\n",
    "    'compromiso' : grupo['COMPROMISO DE ENTREGA'].sum(),\n",
    "    'entregas' : grupo['TM. ENTREGADAS'].sum(),\n",
    "    'entrega_porcen' : grupo['TM. ENTREGADAS'].sum() / grupo['COMPROMISO DE ENTREGA'].sum() * 100\n",
    "}\n",
    "obj_grupo_totales = collections.namedtuple(\"grupo_totales\", grupo_totales.keys())(*grupo_totales.values())\n",
    "obj_grupo_totales"
   ]
  },
  {
   "cell_type": "markdown",
   "id": "bd2416ea-0ec2-4295-8f9d-f1aa0eca0261",
   "metadata": {},
   "source": [
    "## DATOS DE AVANCE"
   ]
  },
  {
   "cell_type": "code",
   "execution_count": 14,
   "id": "e4032d79-a1e3-4084-8f27-8999dacd6e97",
   "metadata": {},
   "outputs": [
    {
     "data": {
      "text/html": [
       "<div>\n",
       "<style scoped>\n",
       "    .dataframe tbody tr th:only-of-type {\n",
       "        vertical-align: middle;\n",
       "    }\n",
       "\n",
       "    .dataframe tbody tr th {\n",
       "        vertical-align: top;\n",
       "    }\n",
       "\n",
       "    .dataframe thead th {\n",
       "        text-align: right;\n",
       "    }\n",
       "</style>\n",
       "<table border=\"1\" class=\"dataframe\">\n",
       "  <thead>\n",
       "    <tr style=\"text-align: right;\">\n",
       "      <th></th>\n",
       "      <th>COD_COS</th>\n",
       "      <th>COMPROMISO</th>\n",
       "      <th>ENTREGA</th>\n",
       "      <th>_ENTREGA</th>\n",
       "      <th>TOTAL_AREA</th>\n",
       "      <th>COSECHA</th>\n",
       "      <th>SIN COSECHA</th>\n",
       "      <th>%COSECHA</th>\n",
       "      <th>TCH</th>\n",
       "      <th>DIF.AVANCE</th>\n",
       "      <th>AREA_ESTIM.</th>\n",
       "      <th>TCH_ESTIM</th>\n",
       "      <th>PRODUCCION_ESTIM</th>\n",
       "      <th>TN_COSECHA_ESTIM</th>\n",
       "      <th>DIF.ESTIM</th>\n",
       "      <th>% DIF.ESTIM</th>\n",
       "      <th>TN_EN_CAMPO</th>\n",
       "      <th>COMPROMISO_RESTANTE</th>\n",
       "      <th>DIFERENCIA</th>\n",
       "    </tr>\n",
       "  </thead>\n",
       "  <tbody>\n",
       "    <tr>\n",
       "      <th>0</th>\n",
       "      <td>1</td>\n",
       "      <td>26449.77</td>\n",
       "      <td>19161.65</td>\n",
       "      <td>0.724454</td>\n",
       "      <td>543.38</td>\n",
       "      <td>304.38</td>\n",
       "      <td>239.00</td>\n",
       "      <td>0.560160</td>\n",
       "      <td>62.953052</td>\n",
       "      <td>0.164294</td>\n",
       "      <td>543.960674</td>\n",
       "      <td>55.385149</td>\n",
       "      <td>30127.342884</td>\n",
       "      <td>16876.146761</td>\n",
       "      <td>2285.503239</td>\n",
       "      <td>0.880725</td>\n",
       "      <td>13251.196123</td>\n",
       "      <td>7288.12</td>\n",
       "      <td>5963.076123</td>\n",
       "    </tr>\n",
       "    <tr>\n",
       "      <th>1</th>\n",
       "      <td>2</td>\n",
       "      <td>10848.49</td>\n",
       "      <td>5689.97</td>\n",
       "      <td>0.524494</td>\n",
       "      <td>170.45</td>\n",
       "      <td>60.19</td>\n",
       "      <td>110.26</td>\n",
       "      <td>0.353124</td>\n",
       "      <td>94.533477</td>\n",
       "      <td>0.171370</td>\n",
       "      <td>170.249063</td>\n",
       "      <td>50.971072</td>\n",
       "      <td>8677.777217</td>\n",
       "      <td>3064.332125</td>\n",
       "      <td>2625.637875</td>\n",
       "      <td>0.538550</td>\n",
       "      <td>5613.445092</td>\n",
       "      <td>5158.52</td>\n",
       "      <td>454.925092</td>\n",
       "    </tr>\n",
       "    <tr>\n",
       "      <th>2</th>\n",
       "      <td>3</td>\n",
       "      <td>5390.78</td>\n",
       "      <td>2792.22</td>\n",
       "      <td>0.517962</td>\n",
       "      <td>112.86</td>\n",
       "      <td>40.34</td>\n",
       "      <td>72.52</td>\n",
       "      <td>0.357434</td>\n",
       "      <td>69.217154</td>\n",
       "      <td>0.160528</td>\n",
       "      <td>114.920802</td>\n",
       "      <td>47.592543</td>\n",
       "      <td>5469.373160</td>\n",
       "      <td>1954.939866</td>\n",
       "      <td>837.280134</td>\n",
       "      <td>0.700138</td>\n",
       "      <td>3514.433294</td>\n",
       "      <td>2598.56</td>\n",
       "      <td>915.873294</td>\n",
       "    </tr>\n",
       "  </tbody>\n",
       "</table>\n",
       "</div>"
      ],
      "text/plain": [
       "  COD_COS  COMPROMISO   ENTREGA  _ENTREGA  TOTAL_AREA  COSECHA  SIN COSECHA  \\\n",
       "0       1    26449.77  19161.65  0.724454      543.38   304.38       239.00   \n",
       "1       2    10848.49   5689.97  0.524494      170.45    60.19       110.26   \n",
       "2       3     5390.78   2792.22  0.517962      112.86    40.34        72.52   \n",
       "\n",
       "   %COSECHA        TCH  DIF.AVANCE  AREA_ESTIM.  TCH_ESTIM  PRODUCCION_ESTIM  \\\n",
       "0  0.560160  62.953052    0.164294   543.960674  55.385149      30127.342884   \n",
       "1  0.353124  94.533477    0.171370   170.249063  50.971072       8677.777217   \n",
       "2  0.357434  69.217154    0.160528   114.920802  47.592543       5469.373160   \n",
       "\n",
       "   TN_COSECHA_ESTIM    DIF.ESTIM  % DIF.ESTIM   TN_EN_CAMPO  \\\n",
       "0      16876.146761  2285.503239     0.880725  13251.196123   \n",
       "1       3064.332125  2625.637875     0.538550   5613.445092   \n",
       "2       1954.939866   837.280134     0.700138   3514.433294   \n",
       "\n",
       "   COMPROMISO_RESTANTE   DIFERENCIA  \n",
       "0              7288.12  5963.076123  \n",
       "1              5158.52   454.925092  \n",
       "2              2598.56   915.873294  "
      ]
     },
     "execution_count": 14,
     "metadata": {},
     "output_type": "execute_result"
    }
   ],
   "source": [
    "xlsx_avance.head(3)"
   ]
  },
  {
   "cell_type": "code",
   "execution_count": 15,
   "id": "541b7431-2bc8-4d4e-8ff4-662e1b8d8a7f",
   "metadata": {},
   "outputs": [
    {
     "data": {
      "text/html": [
       "<div>\n",
       "<style scoped>\n",
       "    .dataframe tbody tr th:only-of-type {\n",
       "        vertical-align: middle;\n",
       "    }\n",
       "\n",
       "    .dataframe tbody tr th {\n",
       "        vertical-align: top;\n",
       "    }\n",
       "\n",
       "    .dataframe thead th {\n",
       "        text-align: right;\n",
       "    }\n",
       "</style>\n",
       "<table border=\"1\" class=\"dataframe\">\n",
       "  <thead>\n",
       "    <tr style=\"text-align: right;\">\n",
       "      <th></th>\n",
       "      <th>COD_COS</th>\n",
       "      <th>COMPROMISO</th>\n",
       "      <th>ENTREGA</th>\n",
       "      <th>_ENTREGA</th>\n",
       "      <th>TOTAL_AREA</th>\n",
       "      <th>COSECHA</th>\n",
       "      <th>SIN COSECHA</th>\n",
       "      <th>%COSECHA</th>\n",
       "      <th>TCH</th>\n",
       "      <th>DIF.AVANCE</th>\n",
       "      <th>AREA_ESTIM.</th>\n",
       "      <th>TCH_ESTIM</th>\n",
       "      <th>PRODUCCION_ESTIM</th>\n",
       "      <th>TN_COSECHA_ESTIM</th>\n",
       "      <th>DIF.ESTIM</th>\n",
       "      <th>% DIF.ESTIM</th>\n",
       "      <th>TN_EN_CAMPO</th>\n",
       "      <th>COMPROMISO_RESTANTE</th>\n",
       "      <th>DIFERENCIA</th>\n",
       "    </tr>\n",
       "  </thead>\n",
       "  <tbody>\n",
       "    <tr>\n",
       "      <th>28</th>\n",
       "      <td>30</td>\n",
       "      <td>65493.32</td>\n",
       "      <td>42091.86</td>\n",
       "      <td>0.642689</td>\n",
       "      <td>856.71</td>\n",
       "      <td>452.11</td>\n",
       "      <td>404.6</td>\n",
       "      <td>0.527728</td>\n",
       "      <td>93.100927</td>\n",
       "      <td>0.114961</td>\n",
       "      <td>857.018376</td>\n",
       "      <td>76.385829</td>\n",
       "      <td>65464.059007</td>\n",
       "      <td>34547.228021</td>\n",
       "      <td>7544.631979</td>\n",
       "      <td>0.820758</td>\n",
       "      <td>30916.830986</td>\n",
       "      <td>23401.46</td>\n",
       "      <td>7515.370986</td>\n",
       "    </tr>\n",
       "  </tbody>\n",
       "</table>\n",
       "</div>"
      ],
      "text/plain": [
       "   COD_COS  COMPROMISO   ENTREGA  _ENTREGA  TOTAL_AREA  COSECHA  SIN COSECHA  \\\n",
       "28      30    65493.32  42091.86  0.642689      856.71   452.11        404.6   \n",
       "\n",
       "    %COSECHA        TCH  DIF.AVANCE  AREA_ESTIM.  TCH_ESTIM  PRODUCCION_ESTIM  \\\n",
       "28  0.527728  93.100927    0.114961   857.018376  76.385829      65464.059007   \n",
       "\n",
       "    TN_COSECHA_ESTIM    DIF.ESTIM  % DIF.ESTIM   TN_EN_CAMPO  \\\n",
       "28      34547.228021  7544.631979     0.820758  30916.830986   \n",
       "\n",
       "    COMPROMISO_RESTANTE   DIFERENCIA  \n",
       "28             23401.46  7515.370986  "
      ]
     },
     "execution_count": 15,
     "metadata": {},
     "output_type": "execute_result"
    }
   ],
   "source": [
    "avance = xlsx_avance[xlsx_avance['COD_COS'] == cod_grupo]\n",
    "avance"
   ]
  },
  {
   "cell_type": "code",
   "execution_count": 29,
   "id": "76d2bdb3-f993-428e-9658-e448cd029af8",
   "metadata": {},
   "outputs": [
    {
     "data": {
      "text/plain": [
       "{'fecha_img': '05 de agosto de 2023',\n",
       " 'fecha_informe': '14 de agosto de 2023',\n",
       " 'compromiso': 65493.32,\n",
       " 'entrega': 42091.86,\n",
       " 'entrega_porcen': 64.26893612966941,\n",
       " 'ha_canha': 856.71,\n",
       " 'ha_cosecha': 452.11,\n",
       " 'cosecha_porcen': 52.77281693922097,\n",
       " 'tch': 93.10092676561014}"
      ]
     },
     "execution_count": 29,
     "metadata": {},
     "output_type": "execute_result"
    }
   ],
   "source": [
    "avance_totales = {\n",
    "    'fecha_img' : fecha_img,\n",
    "    'fecha_informe' : fecha_inf,\n",
    "    'compromiso' : float(avance['COMPROMISO']),\n",
    "    'entrega' : float(avance['ENTREGA']),\n",
    "    'entrega_porcen' : float(avance['_ENTREGA']) * 100,\n",
    "    'ha_canha' : float(avance['TOTAL_AREA']),\n",
    "    'ha_cosecha' : float(avance['COSECHA']),\n",
    "    'cosecha_porcen' : float(avance['%COSECHA']) * 100,\n",
    "    'tch' : float(avance['TCH'])\n",
    "}\n",
    "avance_totales"
   ]
  },
  {
   "cell_type": "code",
   "execution_count": 67,
   "id": "3a715bec-6771-4d94-a530-8f8b1696c23a",
   "metadata": {},
   "outputs": [
    {
     "data": {
      "text/plain": [
       "avance_totales(fecha_img='05 de agosto de 2023', fecha_informe='14 de agosto de 2023', compromiso=26449.77, entrega=19161.65, entrega_porcen=72.44543147256101, ha_canha=543.38, ha_cosecha=304.38, cosecha_porcen=56.01604770142442, tch=62.953052105920236)"
      ]
     },
     "execution_count": 67,
     "metadata": {},
     "output_type": "execute_result"
    }
   ],
   "source": [
    "obj_avance_totales = collections.namedtuple(\"avance_totales\",avance_totales.keys())(*avance_totales.values())\n",
    "obj_avance_totales"
   ]
  },
  {
   "cell_type": "code",
   "execution_count": 68,
   "id": "a4dda3a6-7425-4c16-9662-8b828a565b29",
   "metadata": {},
   "outputs": [],
   "source": [
    "doc = DocxTemplate(ruta + '/templates/tbl_rpt_posible_desvio.docx')\n",
    "context = {\n",
    "    'insp' : list_obj_caneros,\n",
    "    'grupo_totales' : obj_grupo_totales,\n",
    "    'avance' : obj_avance_totales\n",
    "}\n",
    "doc.render(context)\n",
    "doc.save(ruta + '/informes/rpt.docx')"
   ]
  },
  {
   "cell_type": "code",
   "execution_count": null,
   "id": "13a5a91e-2f38-48f4-ab6d-ab1e8c2e1521",
   "metadata": {},
   "outputs": [],
   "source": []
  },
  {
   "cell_type": "code",
   "execution_count": null,
   "id": "f721eb8f-0880-4014-a2d8-55f3bc3b23b0",
   "metadata": {},
   "outputs": [],
   "source": []
  },
  {
   "cell_type": "code",
   "execution_count": null,
   "id": "d5f5c7b3-1eea-4817-b09e-21e35af54f0b",
   "metadata": {},
   "outputs": [],
   "source": []
  },
  {
   "cell_type": "code",
   "execution_count": null,
   "id": "343bf852-313c-4b3f-ae62-31223cbf7618",
   "metadata": {},
   "outputs": [],
   "source": []
  },
  {
   "cell_type": "code",
   "execution_count": null,
   "id": "4680a160-2b6a-4f32-94a6-b71f254a56c2",
   "metadata": {},
   "outputs": [],
   "source": []
  },
  {
   "cell_type": "code",
   "execution_count": null,
   "id": "edf4cc31-2a7f-4019-9e4b-0dde0766fe15",
   "metadata": {},
   "outputs": [],
   "source": []
  },
  {
   "cell_type": "code",
   "execution_count": null,
   "id": "40b9b981-c0ab-462e-a39a-f7147b2b61f3",
   "metadata": {},
   "outputs": [],
   "source": []
  },
  {
   "cell_type": "code",
   "execution_count": null,
   "id": "3d5401ad-5a89-4fee-8c4f-26567e2067b1",
   "metadata": {},
   "outputs": [],
   "source": []
  },
  {
   "cell_type": "code",
   "execution_count": null,
   "id": "67da0586-dfda-405d-9264-661804478b64",
   "metadata": {},
   "outputs": [],
   "source": []
  }
 ],
 "metadata": {
  "kernelspec": {
   "display_name": "Python 3 (ipykernel)",
   "language": "python",
   "name": "python3"
  },
  "language_info": {
   "codemirror_mode": {
    "name": "ipython",
    "version": 3
   },
   "file_extension": ".py",
   "mimetype": "text/x-python",
   "name": "python",
   "nbconvert_exporter": "python",
   "pygments_lexer": "ipython3",
   "version": "3.7.16"
  }
 },
 "nbformat": 4,
 "nbformat_minor": 5
}
