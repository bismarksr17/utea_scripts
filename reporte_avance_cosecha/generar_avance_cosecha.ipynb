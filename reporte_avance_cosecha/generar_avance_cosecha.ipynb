{
 "cells": [
  {
   "cell_type": "code",
   "execution_count": 27,
   "id": "2ff0227a-107e-43dd-bfe7-abee10f1f8dd",
   "metadata": {},
   "outputs": [],
   "source": [
    "import geopandas as gpd\n",
    "import matplotlib.pyplot as plt\n",
    "import pandas as pd\n",
    "from datetime import datetime\n",
    "\n",
    "import tkinter as tk\n",
    "from tkinter import filedialog as fd\n",
    "\n",
    "import collections\n",
    "\n",
    "from docxtpl import DocxTemplate\n",
    "import docxtpl\n",
    "from docx.shared import Mm"
   ]
  },
  {
   "cell_type": "code",
   "execution_count": 28,
   "id": "4449687d-24af-42c4-9220-14c7c5e07a21",
   "metadata": {},
   "outputs": [],
   "source": [
    "# open file dialog / catastro de avance\n",
    "root = tk.Tk()\n",
    "root.attributes('-topmost', True)\n",
    "root.iconify()\n",
    "file_name = fd.askopenfilename(parent=root, filetypes=[(\".shp\", \".shp\")])\n",
    "root.destroy()\n",
    "\n",
    "# open file dialog / xlsx de avance\n",
    "root = tk.Tk()\n",
    "root.attributes('-topmost', True)\n",
    "root.iconify()\n",
    "file_name = fd.askopenfilename(parent=root, filetypes=[(\".xlsx\", \".xlsx\")])\n",
    "root.destroy()"
   ]
  },
  {
   "cell_type": "code",
   "execution_count": 30,
   "id": "6df6f57e-a512-48f1-bde6-1b577b836e3c",
   "metadata": {},
   "outputs": [],
   "source": [
    "file_cat_avance = r'D:/Ingenio Azucarero Guabira S.A/UTEA - SEMANAL - AVANCE COSECHA/2023/ANALISIS DE CAÑA EN CAMPO 2023/REPORTE_AVANCE_COSECHA/SHP/cosecha090623.shp'\n",
    "file_xlsx_avance = r'D:/Ingenio Azucarero Guabira S.A/UTEA - SEMANAL - AVANCE COSECHA/2023/ANALISIS DE CAÑA EN CAMPO 2023/REPORTE_AVANCE_COSECHA/RENDIMIENTO AVANCE 090623.xlsx'\n",
    "file_xlsx_estimativa = r'D:/Ingenio Azucarero Guabira S.A/UTEA - SEMANAL - AVANCE COSECHA/2023/ANALISIS DE CAÑA EN CAMPO 2023/REPORTE_AVANCE_COSECHA/ESTIMATIVAS_DB.xlsx'"
   ]
  },
  {
   "cell_type": "code",
   "execution_count": 31,
   "id": "a1f30ba2-e2e0-4501-b275-6ccd94db7874",
   "metadata": {},
   "outputs": [],
   "source": [
    "catastro_avance = gpd.read_file(file_cat_avance)"
   ]
  },
  {
   "cell_type": "code",
   "execution_count": 33,
   "id": "90f3a1e6-a1a2-4258-a191-de9754034b1f",
   "metadata": {},
   "outputs": [],
   "source": [
    "data_avance = pd.read_excel(file_xlsx_avance)"
   ]
  },
  {
   "cell_type": "code",
   "execution_count": 34,
   "id": "87a46fb2-467a-442e-9262-a7c594bf6369",
   "metadata": {},
   "outputs": [],
   "source": [
    "# extraer codigos de cosecha\n",
    "codigos_cosecha = list(set(data_avance['COD COS']))"
   ]
  },
  {
   "cell_type": "code",
   "execution_count": 35,
   "id": "9dc05557-f4cf-4fa7-9a29-e77353af6c20",
   "metadata": {},
   "outputs": [
    {
     "name": "stdout",
     "output_type": "stream",
     "text": [
      "[1, 2, 3, 4, 5, 6, 7, 8, 9, 10, 11, 12, 13, 14, 15, 16, 17, 18, 19, 20, 21, 22, 23, 24, 25, 26, 28, 29, 30, 31, 32, 33, 34, 35, 36, 37, 38, 39, 40, 41, 42, 43, 44, 45, 46, 47, 48, 49, 50, 51, 52, 54, 55, 56, 57, 58, 59, 60, 61, 62, 63, 64, 65, 67, 68, 69, 70, 71, 72, 73, 74, 75, 76, 77, 78, 79, 80, 81, 82, 83, 84, 85, 86, 87, 88, 89, 90, 91, 92, 93, 94, 95, 96, 97, 98, 99, 100, 101, 102, 103, 104, 105, 106, 107, 108, 109, 110, 111, 112, 113, 114, 115, 116, 117, 118, 119, 120, 121, 122, 123, 124, 125, 126, 127, 128, 129, 130, 131, 132, 134, 135, 136, 137, 138, 139, 140, 141, 142, 143, 144, 145, 146, 147, 148, 149, 150, 151, 152, 153, 154, 155, 156, 157, 158, 159, 160, 161, 162, 163, 164, 165, 166, 167, 168, 169, 170, 171, 172, 173, 174, 175, 176, 177, 179, 180, 181, 182, 183, 184, 185, 186, 187, 188, 189, 190, 191, 192, 193, 194, 195, 196, 197, 198, 199, 200, 201, 202, 203, 204, 205, 206, 207, 208, 209, 210, 211, 212, 213, 214, 215, 216, 217, 218, 219, 220, 221, 222, 223, 224, 225, 226, 227, 228, 229, 230, 231, 232, 233, 234, 235, 236, 237, 238, 239, 240, 241, 242, 243, 244, 245, 246, 247, 248, 249, 250, 251, 252, 253, 254, 255, 256, 257, 258, 259, 260, 261, 262, 264, 265, 266, 267, 268, 269, 270, 271, 272, 273, 274, 275, 276, 277, 278, 279, 280, 281, 282, 283, 284, 285, 286, 287, 288, 289, 290, 291, 292, 293, 294, 295, 296, 297, 298, 299, 300, 301, 302, 303, 304, 305, 306, 307, 308, 309, 310, 311, 312, 313, 314, 315, 316, 317, 318, 319, 320, 321, 322, 323, 324, 325, 326, 327, 328, 329, 330, 331, 332, 333, 334, 335, 336, 337, 338, 339, 340, 341, 342, 343, 344, 345, 346, 347, 348, 349, 350, 351, 352, 353, 354, 355, 356, 357, 358, 359, 360, 361, 362, 363, 364, 365, 366, 367, 368, 369, 370, 371, 372, 373, 374, 375, 376, 377, 378, 379, 380, 381, 382, 383, 384, 385, 386, 387, 388, 389, 390, 391, 392, 393, 394, 395, 396, 397, 398, 399, 400, 401, 402, 403, 404, 405, 406, 407, 408, 409, 410, 412, 413, 414, 416, 417, 418, 419, 420, 421, 422, 423, 424, 425, 426, 427, 429, 430, 432, 433, 434, 435, 437, 438, 439, 440, 441, 442, 443, 444, 445, 446, 447, 448, 449, 450, 451, 452, 453, 454, 455, 456, 457, 458, 459, 500, 501, 502, 503, 504, 505, 507, 508, 509, 510, 511, 512, 513, 514, 515, 516, 517, 518, 519, 520]\n"
     ]
    }
   ],
   "source": [
    "print(codigos_cosecha)"
   ]
  },
  {
   "cell_type": "markdown",
   "id": "ccd09758-31cb-47b3-8c95-7aa710b7da25",
   "metadata": {},
   "source": [
    "## COMPROMISO Y ENTREGAS"
   ]
  },
  {
   "cell_type": "code",
   "execution_count": 144,
   "id": "5138cff3-76a0-4772-be8e-39d7900f3712",
   "metadata": {},
   "outputs": [
    {
     "data": {
      "text/html": [
       "<div>\n",
       "<style scoped>\n",
       "    .dataframe tbody tr th:only-of-type {\n",
       "        vertical-align: middle;\n",
       "    }\n",
       "\n",
       "    .dataframe tbody tr th {\n",
       "        vertical-align: top;\n",
       "    }\n",
       "\n",
       "    .dataframe thead th {\n",
       "        text-align: right;\n",
       "    }\n",
       "</style>\n",
       "<table border=\"1\" class=\"dataframe\">\n",
       "  <thead>\n",
       "    <tr style=\"text-align: right;\">\n",
       "      <th></th>\n",
       "      <th>cod_ca</th>\n",
       "      <th>COD COS</th>\n",
       "      <th>NOMBRE CAÑERO</th>\n",
       "      <th>TN COMPROMISO INDIVIDUAL</th>\n",
       "      <th>TN ENTREGA INDIVIDUAL</th>\n",
       "      <th>avance_porcen</th>\n",
       "    </tr>\n",
       "  </thead>\n",
       "  <tbody>\n",
       "    <tr>\n",
       "      <th>0</th>\n",
       "      <td>75</td>\n",
       "      <td>30</td>\n",
       "      <td>AGUILERA TARADELLES NELSON MARIANO</td>\n",
       "      <td>26992.97</td>\n",
       "      <td>0.00</td>\n",
       "      <td>0.000000</td>\n",
       "    </tr>\n",
       "    <tr>\n",
       "      <th>1</th>\n",
       "      <td>577</td>\n",
       "      <td>30</td>\n",
       "      <td>AGUILERA MARIA INGRID WENDE DE</td>\n",
       "      <td>13433.25</td>\n",
       "      <td>631.64</td>\n",
       "      <td>4.702064</td>\n",
       "    </tr>\n",
       "    <tr>\n",
       "      <th>2</th>\n",
       "      <td>794</td>\n",
       "      <td>30</td>\n",
       "      <td>AGUILERA WENDE MARIANO</td>\n",
       "      <td>18084.70</td>\n",
       "      <td>15218.32</td>\n",
       "      <td>84.150249</td>\n",
       "    </tr>\n",
       "    <tr>\n",
       "      <th>3</th>\n",
       "      <td>8005</td>\n",
       "      <td>30</td>\n",
       "      <td>AGUILERA WENDE MARIA INGRID</td>\n",
       "      <td>5201.02</td>\n",
       "      <td>20.45</td>\n",
       "      <td>0.393192</td>\n",
       "    </tr>\n",
       "    <tr>\n",
       "      <th>4</th>\n",
       "      <td>41715</td>\n",
       "      <td>30</td>\n",
       "      <td>VACA DIEZ UGARTE NICOLAS</td>\n",
       "      <td>1781.38</td>\n",
       "      <td>0.00</td>\n",
       "      <td>0.000000</td>\n",
       "    </tr>\n",
       "  </tbody>\n",
       "</table>\n",
       "</div>"
      ],
      "text/plain": [
       "   cod_ca  COD COS                       NOMBRE CAÑERO  \\\n",
       "0      75       30  AGUILERA TARADELLES NELSON MARIANO   \n",
       "1     577       30      AGUILERA MARIA INGRID WENDE DE   \n",
       "2     794       30              AGUILERA WENDE MARIANO   \n",
       "3    8005       30         AGUILERA WENDE MARIA INGRID   \n",
       "4   41715       30            VACA DIEZ UGARTE NICOLAS   \n",
       "\n",
       "   TN COMPROMISO INDIVIDUAL  TN ENTREGA INDIVIDUAL  avance_porcen  \n",
       "0                  26992.97                   0.00       0.000000  \n",
       "1                  13433.25                 631.64       4.702064  \n",
       "2                  18084.70               15218.32      84.150249  \n",
       "3                   5201.02                  20.45       0.393192  \n",
       "4                   1781.38                   0.00       0.000000  "
      ]
     },
     "execution_count": 144,
     "metadata": {},
     "output_type": "execute_result"
    }
   ],
   "source": [
    "# seleccion de grupo aguilera\n",
    "cod_co = 30\n",
    "# filtrado por codigo de cosecha\n",
    "grupo = data_avance[data_avance['COD COS'] == cod_co]\n",
    "# seleccion de columnas de interes\n",
    "grupo = grupo[['CODIGO CAÑERO ', 'COD COS', 'NOMBRE CAÑERO', 'TN COMPROMISO INDIVIDUAL', 'TN ENTREGA INDIVIDUAL']]\n",
    "# calculo de % de avance de entrega del grupo\n",
    "grupo['avance_porcen'] = (grupo['TN ENTREGA INDIVIDUAL'] / grupo['TN COMPROMISO INDIVIDUAL'])*100\n",
    "# cambio del nombre del campo codigo cañero\n",
    "grupo = grupo.rename(columns={'CODIGO CAÑERO ': 'cod_ca'})\n",
    "grupo"
   ]
  },
  {
   "cell_type": "code",
   "execution_count": 149,
   "id": "b07c34c1-5f3e-43e3-a8e1-05c9cae82362",
   "metadata": {},
   "outputs": [
    {
     "data": {
      "text/plain": [
       "[canero(cod_ca=75, nom_ca='AGUILERA TARADELLES NELSON MARIANO', tn_compro_indiv=26992.97, tn_entrega_indiv=0.0, avance_porcen=0.0),\n",
       " canero(cod_ca=577, nom_ca='AGUILERA MARIA INGRID WENDE DE', tn_compro_indiv=13433.25, tn_entrega_indiv=631.64, avance_porcen=4.702063908585041),\n",
       " canero(cod_ca=794, nom_ca='AGUILERA WENDE MARIANO', tn_compro_indiv=18084.7, tn_entrega_indiv=15218.32, avance_porcen=84.15024855264394),\n",
       " canero(cod_ca=8005, nom_ca='AGUILERA WENDE MARIA INGRID', tn_compro_indiv=5201.02, tn_entrega_indiv=20.45, avance_porcen=0.3931921046256311),\n",
       " canero(cod_ca=41715, nom_ca='VACA DIEZ UGARTE NICOLAS', tn_compro_indiv=1781.38, tn_entrega_indiv=0.0, avance_porcen=0.0)]"
      ]
     },
     "execution_count": 149,
     "metadata": {},
     "output_type": "execute_result"
    }
   ],
   "source": [
    "list_obj_grupo = []\n",
    "for index, row in grupo.iterrows():\n",
    "    canero = {\n",
    "        'cod_ca' : row['cod_ca'],\n",
    "        'nom_ca' : row['NOMBRE CAÑERO'],\n",
    "        'tn_compro_indiv' : row['TN COMPROMISO INDIVIDUAL'],\n",
    "        'tn_entrega_indiv' : row['TN ENTREGA INDIVIDUAL'],\n",
    "        'avance_porcen' : row['avance_porcen']\n",
    "    }\n",
    "    list_obj_grupo.append(collections.namedtuple(\"canero\", canero.keys())(*canero.values()))\n",
    "list_obj_grupo"
   ]
  },
  {
   "cell_type": "code",
   "execution_count": 150,
   "id": "2eaa7b18-b166-48f1-8fad-53567c79aec3",
   "metadata": {},
   "outputs": [
    {
     "data": {
      "text/plain": [
       "totales(total_compromiso=65493.32, total_entrega=15870.41, total_avance_porcen=24.232104892529495)"
      ]
     },
     "execution_count": 150,
     "metadata": {},
     "output_type": "execute_result"
    }
   ],
   "source": [
    "# totales de tabla de entreas del grupo seleccionado\n",
    "grupo_totales = {\n",
    "    'total_compromiso':grupo['TN COMPROMISO INDIVIDUAL'].sum(),\n",
    "    'total_entrega':grupo['TN ENTREGA INDIVIDUAL'].sum(),\n",
    "    'total_avance_porcen':grupo['TN ENTREGA INDIVIDUAL'].sum() / grupo['TN COMPROMISO INDIVIDUAL'].sum() * 100\n",
    "}\n",
    "grupo_totales\n",
    "obj_grupo_totales = collections.namedtuple(\"totales\", grupo_totales.keys())(*grupo_totales.values())\n",
    "obj_grupo_totales"
   ]
  },
  {
   "cell_type": "markdown",
   "id": "c2841e5b-725c-4e91-9491-b897a7b360e6",
   "metadata": {},
   "source": [
    "## AVANCE PROPIEDAD"
   ]
  },
  {
   "cell_type": "code",
   "execution_count": 151,
   "id": "2cc4984e-4ed2-4732-8a10-794a3646ac40",
   "metadata": {},
   "outputs": [],
   "source": [
    "xlsx_estimativas = pd.read_excel(file_xlsx_estimativa, sheet_name='PRODUCCION_POR_PROP')\n",
    "xlsx_estimativas = xlsx_estimativas.rename(columns={'CODIGO' : 'unidad_01'})"
   ]
  },
  {
   "cell_type": "code",
   "execution_count": 152,
   "id": "dcda8548-3c4a-4293-9af1-c2abf17f06b2",
   "metadata": {},
   "outputs": [
    {
     "data": {
      "text/plain": [
       "8"
      ]
     },
     "execution_count": 152,
     "metadata": {},
     "output_type": "execute_result"
    }
   ],
   "source": [
    "hoy = datetime.now()\n",
    "mes_actual = hoy.month\n",
    "mes_actual"
   ]
  },
  {
   "cell_type": "code",
   "execution_count": 154,
   "id": "3786a53f-7eb8-4e23-b23e-6ed6fd182f49",
   "metadata": {},
   "outputs": [
    {
     "data": {
      "text/html": [
       "<div>\n",
       "<style scoped>\n",
       "    .dataframe tbody tr th:only-of-type {\n",
       "        vertical-align: middle;\n",
       "    }\n",
       "\n",
       "    .dataframe tbody tr th {\n",
       "        vertical-align: top;\n",
       "    }\n",
       "\n",
       "    .dataframe thead th {\n",
       "        text-align: right;\n",
       "    }\n",
       "</style>\n",
       "<table border=\"1\" class=\"dataframe\">\n",
       "  <thead>\n",
       "    <tr style=\"text-align: right;\">\n",
       "      <th></th>\n",
       "      <th>unidad_01</th>\n",
       "      <th>unidad_02</th>\n",
       "      <th>area</th>\n",
       "      <th>area_cosechada</th>\n",
       "      <th>%avance</th>\n",
       "      <th>PRODUCCION</th>\n",
       "    </tr>\n",
       "  </thead>\n",
       "  <tbody>\n",
       "    <tr>\n",
       "      <th>0</th>\n",
       "      <td>216</td>\n",
       "      <td>LA_ESTACADA--AGUILERA</td>\n",
       "      <td>226.34</td>\n",
       "      <td>0.00</td>\n",
       "      <td>0.000000</td>\n",
       "      <td>15288.106548</td>\n",
       "    </tr>\n",
       "    <tr>\n",
       "      <th>1</th>\n",
       "      <td>217</td>\n",
       "      <td>FLAMBOYAN--AGUILERA</td>\n",
       "      <td>207.46</td>\n",
       "      <td>0.00</td>\n",
       "      <td>0.000000</td>\n",
       "      <td>14102.152708</td>\n",
       "    </tr>\n",
       "    <tr>\n",
       "      <th>2</th>\n",
       "      <td>256</td>\n",
       "      <td>LOS_ANDES--AGUILERA</td>\n",
       "      <td>423.24</td>\n",
       "      <td>153.93</td>\n",
       "      <td>36.369436</td>\n",
       "      <td>33770.169576</td>\n",
       "    </tr>\n",
       "  </tbody>\n",
       "</table>\n",
       "</div>"
      ],
      "text/plain": [
       "   unidad_01              unidad_02    area  area_cosechada    %avance  \\\n",
       "0        216  LA_ESTACADA--AGUILERA  226.34            0.00   0.000000   \n",
       "1        217    FLAMBOYAN--AGUILERA  207.46            0.00   0.000000   \n",
       "2        256    LOS_ANDES--AGUILERA  423.24          153.93  36.369436   \n",
       "\n",
       "     PRODUCCION  \n",
       "0  15288.106548  \n",
       "1  14102.152708  \n",
       "2  33770.169576  "
      ]
     },
     "execution_count": 154,
     "metadata": {},
     "output_type": "execute_result"
    }
   ],
   "source": [
    "# cambio de nombre de columna para hacer merge con la tabla de grupo\n",
    "catastro_avance = catastro_avance.rename(columns={'unidad_03':'cod_ca'})\n",
    "# merge \n",
    "catastro_merge = pd.merge(grupo, catastro_avance, on='cod_ca')\n",
    "# crea nueva columna \"area_cosecha\", se almacena en area si el campo estado=\"cosechado\"\n",
    "catastro_merge['area_cosechada'] = catastro_merge.apply(lambda row : row['area'] if row['estado'] == 'cosechado' else 0, axis=1)\n",
    "# calculo de area cosechada en el mes actual\n",
    "catastro_merge['avance_mes'] = catastro_merge.apply(lambda row : row['area'] if row['fc']!=None and row['fc'].split('-')[1] == str(mes_actual) else 0, axis=1)\n",
    "# agrupacion de datos por pripiedad, resumiendo por area, area_cosechada, avance_mes\n",
    "propiedades = catastro_merge.groupby(['unidad_01', 'unidad_02'])[['area', 'area_cosechada', 'avance_mes']].sum()\n",
    "# reseteo de index\n",
    "propiedades = propiedades.reset_index()\n",
    "# calculo de % de avance de cosecha\n",
    "propiedades['%avance'] = propiedades['area_cosechada'] / propiedades['area'] * 100\n",
    "# merge con las estimativas de produccion de cada propiedad\n",
    "propiedades = pd.merge(propiedades, xlsx_estimativas, on='unidad_01')\n",
    "# seleccion de columnas de interes\n",
    "propiedad = propiedades[['unidad_01', 'unidad_02', 'area', 'area_cosechada', '%avance', 'PRODUCCION']]\n",
    "propiedad"
   ]
  },
  {
   "cell_type": "code",
   "execution_count": 158,
   "id": "0572cfd3-5b1a-47d1-a12b-df01adb337b2",
   "metadata": {},
   "outputs": [
    {
     "data": {
      "text/plain": [
       "[propiedad(cod_prop=216, nom_prop='LA_ESTACADA--AGUILERA', area=226.34, area_cosechada=0.0, avance_porcen=0.0, produccion=15288.10654838978),\n",
       " propiedad(cod_prop=217, nom_prop='FLAMBOYAN--AGUILERA', area=207.45999999999998, area_cosechada=0.0, avance_porcen=0.0, produccion=14102.152708359197),\n",
       " propiedad(cod_prop=256, nom_prop='LOS_ANDES--AGUILERA', area=423.24, area_cosechada=153.93, avance_porcen=36.3694357811171, produccion=33770.16957626864)]"
      ]
     },
     "execution_count": 158,
     "metadata": {},
     "output_type": "execute_result"
    }
   ],
   "source": [
    "list_obj_props = []\n",
    "for index, row in propiedad.iterrows():\n",
    "    prop = {\n",
    "        'cod_prop' : row['unidad_01'],\n",
    "        'nom_prop' : row['unidad_02'],\n",
    "        'area' : row['area'],\n",
    "        'area_cosechada' : row['area_cosechada'],\n",
    "        'avance_porcen' : row['%avance'],\n",
    "        'produccion' : row['PRODUCCION']\n",
    "    }\n",
    "    list_obj_props.append(collections.namedtuple(\"propiedad\", prop.keys())(*prop.values()))\n",
    "list_obj_props"
   ]
  },
  {
   "cell_type": "code",
   "execution_count": 160,
   "id": "b1a23d3d-3059-4bd3-be4d-a6b7cfbf6e37",
   "metadata": {},
   "outputs": [
    {
     "data": {
      "text/plain": [
       "total(total_area=857.04, total_area_cosechada=153.93, total_avance_mes=0, total_avance_porcen=17.96065527863344, total_proudccion=63160.42883301762)"
      ]
     },
     "execution_count": 160,
     "metadata": {},
     "output_type": "execute_result"
    }
   ],
   "source": [
    "# totales de tabla por columna\n",
    "propiedades_totales = {\n",
    "    'total_area':propiedades['area'].sum(),\n",
    "    'total_area_cosechada':propiedades['area_cosechada'].sum(),\n",
    "    'total_avance_mes':propiedades['avance_mes'].sum(),\n",
    "    'total_avance_porcen':propiedades['area_cosechada'].sum() / propiedades['area'].sum() * 100,\n",
    "    'total_proudccion' : propiedad['PRODUCCION'].sum()\n",
    "}\n",
    "propiedades_totales\n",
    "obj_props_totales = collections.namedtuple(\"total\", propiedades_totales.keys())(*propiedades_totales.values())\n",
    "obj_props_totales"
   ]
  },
  {
   "cell_type": "markdown",
   "id": "29fa89e8-95af-4aa6-86ff-0a81773ff77c",
   "metadata": {},
   "source": [
    "# AVANCE POR VARIEDAD"
   ]
  },
  {
   "cell_type": "code",
   "execution_count": 138,
   "id": "2cc83af3-8c35-4f67-a75d-7a39e3259ed2",
   "metadata": {},
   "outputs": [
    {
     "data": {
      "text/plain": [
       "[propiedad(prop='LA_ESTACADA--AGUILERA', totales=totales(total_cosechado=0.0, total_area=226.34, total_porcen=0.0), variedades=[variedad(var='CITTCA_85-22', area_cosecha=0.0, area=33.11, porcen_avan=0.0), variedad(var='RB-2', area_cosecha=0.0, area=69.25999999999999, porcen_avan=0.0), variedad(var='SP_83-5073', area_cosecha=0.0, area=18.98, porcen_avan=0.0), variedad(var='UCG_90-20', area_cosecha=0.0, area=104.99000000000001, porcen_avan=0.0)]),\n",
       " propiedad(prop='FLAMBOYAN--AGUILERA', totales=totales(total_cosechado=0.0, total_area=207.45999999999998, total_porcen=0.0), variedades=[variedad(var='CITTCA_85-22', area_cosecha=0.0, area=46.59, porcen_avan=0.0), variedad(var='RB-2', area_cosecha=0.0, area=35.26, porcen_avan=0.0), variedad(var='RBB_77-26', area_cosecha=0.0, area=2.03, porcen_avan=0.0), variedad(var='SP_83-5073', area_cosecha=0.0, area=40.72, porcen_avan=0.0), variedad(var='UCG_90-20', area_cosecha=0.0, area=82.86, porcen_avan=0.0)]),\n",
       " propiedad(prop='LOS_ANDES--AGUILERA', totales=totales(total_cosechado=153.93, total_area=423.24, total_porcen=36.3694357811171), variedades=[variedad(var='UCG_90-20', area_cosecha=93.26, area=279.63, porcen_avan=33.35121410435218), variedad(var='CITTCA_85-22', area_cosecha=46.45, area=60.370000000000005, porcen_avan=76.94218982938546), variedad(var='SP_83-5073', area_cosecha=14.22, area=21.85, porcen_avan=65.08009153318078), variedad(var='CITTCA-0563', area_cosecha=0.0, area=15.510000000000002, porcen_avan=0.0), variedad(var='RB-2', area_cosecha=0.0, area=30.63, porcen_avan=0.0), variedad(var='RB-4', area_cosecha=0.0, area=4.25, porcen_avan=0.0), variedad(var='RBB_77-26', area_cosecha=0.0, area=11.0, porcen_avan=0.0)])]"
      ]
     },
     "execution_count": 138,
     "metadata": {},
     "output_type": "execute_result"
    }
   ],
   "source": [
    "# merge \n",
    "catastro_merge_2 = pd.merge(grupo, catastro_avance, on='cod_ca')\n",
    "# crea nueva columna \"area_cosecha\", se almacena en area si el campo estado=\"cosechado\"\n",
    "catastro_merge_2['area_cosechada'] = catastro_merge_2.apply(lambda row : row['area'] if row['estado'] == 'cosechado' else 0, axis=1)\n",
    "# extraer valores unicos en el campo unidad_02\n",
    "nom_props = list(set(catastro_merge_2['unidad_02']))\n",
    "# lista de objetos para almacenar una lista de propiedades\n",
    "list_obj_props_var = []\n",
    "for prop in nom_props:\n",
    "    # dict para almacenar una propiedad en concreto y su avance por variedad\n",
    "    data_obj_props = {}\n",
    "    data_obj_props['prop'] = prop\n",
    "    # selecciona todos los datos de una priedad en concreto segun en nombre en el campo unidad_02\n",
    "    avance_variedad = catastro_merge_2[catastro_merge_2['unidad_02']==prop]\n",
    "    # agrupa los datos segun variedad\n",
    "    avance_variedad = avance_variedad.groupby(['variedad'])[['area_cosechada', 'area']].sum()\n",
    "    # reinicia el index de dataframe\n",
    "    avance_variedad = avance_variedad.reset_index()\n",
    "    # ordemar por area cosechadad\n",
    "    avance_variedad = avance_variedad.sort_values(['area_cosechada'], ascending=False)\n",
    "    # calculo de porcentaje de avance\n",
    "    avance_variedad['porcen_avan'] = avance_variedad.apply(lambda row : row['area_cosechada']/row['area'] *100, axis=1)\n",
    "    # suma de totales\n",
    "    totales_variedad = {\n",
    "        'total_cosechado' : avance_variedad['area_cosechada'].sum(),\n",
    "        'total_area' : avance_variedad['area'].sum(),\n",
    "        'total_porcen' : avance_variedad['area_cosechada'].sum() / avance_variedad['area'].sum() * 100\n",
    "    }\n",
    "    # add totales a dict de datos de la prop\n",
    "    data_obj_props['totales'] = collections.namedtuple(\"totales\", totales_variedad.keys())(*totales_variedad.values())\n",
    "    \n",
    "    # objeto para almacenar las variedades\n",
    "    list_obj_vars = []\n",
    "    # recorres el dataframe de avande por variedad para convertir en obj cada fila\n",
    "    for index, row in avance_variedad.iterrows():\n",
    "        var = {\n",
    "            'var':row['variedad'],\n",
    "            'area_cosecha':row['area_cosechada'],\n",
    "            'area':row['area'],\n",
    "            'porcen_avan':row['porcen_avan']\n",
    "        }\n",
    "        list_obj_vars.append(collections.namedtuple(\"variedad\", var.keys())(*var.values()))\n",
    "    data_obj_props['variedades'] = list_obj_vars\n",
    "    list_obj_props_var.append(collections.namedtuple(\"propiedad\", data_obj_props.keys())(*data_obj_props.values()))\n",
    "list_obj_props_var"
   ]
  },
  {
   "cell_type": "markdown",
   "id": "18eca1b3-d9c1-4956-9a19-6c1156c91a86",
   "metadata": {},
   "source": [
    "## AVANCE POR CORTE"
   ]
  },
  {
   "cell_type": "code",
   "execution_count": 140,
   "id": "9ff2fd75-8838-4ade-929a-4b3c7e4dc27c",
   "metadata": {},
   "outputs": [
    {
     "data": {
      "text/plain": [
       "[propiedad(prop='LA_ESTACADA--AGUILERA', socas=[soca(soca=0.0, area_cosecha=62.3, area=144.88, porcen_avan=43.00110436223081), soca(soca=1.0, area_cosecha=46.410000000000004, area=167.7, porcen_avan=27.67441860465117), soca(soca=2.0, area_cosecha=0.0, area=103.16, porcen_avan=0.0), soca(soca=3.0, area_cosecha=0.0, area=81.21, porcen_avan=0.0), soca(soca=4.0, area_cosecha=0.0, area=107.61, porcen_avan=0.0), soca(soca=5.0, area_cosecha=16.98, area=50.66, porcen_avan=33.51756810106593), soca(soca=6.0, area_cosecha=0.0, area=46.769999999999996, porcen_avan=0.0), soca(soca=7.0, area_cosecha=6.17, area=33.71, porcen_avan=18.303174132304953), soca(soca=8.0, area_cosecha=0.0, area=14.81, porcen_avan=0.0), soca(soca=9.0, area_cosecha=0.0, area=65.66, porcen_avan=0.0), soca(soca=11.0, area_cosecha=0.0, area=2.89, porcen_avan=0.0), soca(soca=13.0, area_cosecha=22.07, area=37.98, porcen_avan=58.10953133228015)]),\n",
       " propiedad(prop='FLAMBOYAN--AGUILERA', socas=[soca(soca=0.0, area_cosecha=62.3, area=144.88, porcen_avan=43.00110436223081), soca(soca=1.0, area_cosecha=46.410000000000004, area=167.7, porcen_avan=27.67441860465117), soca(soca=2.0, area_cosecha=0.0, area=103.16, porcen_avan=0.0), soca(soca=3.0, area_cosecha=0.0, area=81.21, porcen_avan=0.0), soca(soca=4.0, area_cosecha=0.0, area=107.61, porcen_avan=0.0), soca(soca=5.0, area_cosecha=16.98, area=50.66, porcen_avan=33.51756810106593), soca(soca=6.0, area_cosecha=0.0, area=46.769999999999996, porcen_avan=0.0), soca(soca=7.0, area_cosecha=6.17, area=33.71, porcen_avan=18.303174132304953), soca(soca=8.0, area_cosecha=0.0, area=14.81, porcen_avan=0.0), soca(soca=9.0, area_cosecha=0.0, area=65.66, porcen_avan=0.0), soca(soca=11.0, area_cosecha=0.0, area=2.89, porcen_avan=0.0), soca(soca=13.0, area_cosecha=22.07, area=37.98, porcen_avan=58.10953133228015)]),\n",
       " propiedad(prop='LOS_ANDES--AGUILERA', socas=[soca(soca=0.0, area_cosecha=62.3, area=144.88, porcen_avan=43.00110436223081), soca(soca=1.0, area_cosecha=46.410000000000004, area=167.7, porcen_avan=27.67441860465117), soca(soca=2.0, area_cosecha=0.0, area=103.16, porcen_avan=0.0), soca(soca=3.0, area_cosecha=0.0, area=81.21, porcen_avan=0.0), soca(soca=4.0, area_cosecha=0.0, area=107.61, porcen_avan=0.0), soca(soca=5.0, area_cosecha=16.98, area=50.66, porcen_avan=33.51756810106593), soca(soca=6.0, area_cosecha=0.0, area=46.769999999999996, porcen_avan=0.0), soca(soca=7.0, area_cosecha=6.17, area=33.71, porcen_avan=18.303174132304953), soca(soca=8.0, area_cosecha=0.0, area=14.81, porcen_avan=0.0), soca(soca=9.0, area_cosecha=0.0, area=65.66, porcen_avan=0.0), soca(soca=11.0, area_cosecha=0.0, area=2.89, porcen_avan=0.0), soca(soca=13.0, area_cosecha=22.07, area=37.98, porcen_avan=58.10953133228015)])]"
      ]
     },
     "execution_count": 140,
     "metadata": {},
     "output_type": "execute_result"
    }
   ],
   "source": [
    "# merge \n",
    "catastro_merge_3 = pd.merge(grupo, catastro_avance, on='cod_ca')\n",
    "# crea nueva columna \"area_cosecha\", se almacena en area si el campo estado=\"cosechado\"\n",
    "catastro_merge_3['area_cosechada'] = catastro_merge_3.apply(lambda row : row['area'] if row['estado'] == 'cosechado' else 0, axis=1)\n",
    "# extraer valores unicos en el campo unidad_02\n",
    "nom_props = list(set(catastro_merge_3['unidad_02']))\n",
    "# lista de objetos para almacenar una lista de propiedades\n",
    "list_obj_props_soca = []\n",
    "for prop in nom_props:\n",
    "    # dict para almacenar una propiedad en concreto y su avance por variedad\n",
    "    data_obj_props = {}\n",
    "    data_obj_props['prop'] = prop\n",
    "    avance_corte = catastro_merge_3[catastro_merge_3['unidad_02']==prop]\n",
    "    \n",
    "    suma_area = avance_corte.loc[avance_corte['soca'] >= 10, 'area'].sum()\n",
    "    suma_area_cosechada = avance_corte.loc[avance_corte['soca'] >= 10, 'area_cosechada'].sum()\n",
    "    avance_corte= avance_corte[avance_corte['soca'] < 10]\n",
    "    avance_corte['soca'] = avance_corte['soca'].astype(str)\n",
    "    new_reg = {'soca': '>10', 'area': suma_area, 'area_cosechada': suma_area_cosechada}\n",
    "    avance_corte = avance_corte.append(new_reg, ignore_index=True)\n",
    "    #agrupacion de datos por propiedad, resumiendo por area, area_cosechada, avance_mes\n",
    "    avance_corte = catastro_merge_3.groupby(['soca'])[['area_cosechada', 'area']].sum()\n",
    "    # reseteo de index\n",
    "    avance_corte = avance_corte.reset_index()\n",
    "    # ordemar por soca\n",
    "    avance_corte = avance_corte.sort_values(['soca'])\n",
    "    # calculo de porcentaje de avance\n",
    "    avance_corte['porcen_avan'] = avance_corte.apply(lambda row : row['area_cosechada']/row['area'] *100, axis=1)\n",
    "    \n",
    "    \n",
    "    list_obj_soca = []\n",
    "    # recorres el dataframe de avance por soca para convertir en obj cada fila\n",
    "    for index, row in avance_corte.iterrows():\n",
    "        soca = {\n",
    "            'soca':row['soca'],\n",
    "            'area_cosecha':row['area_cosechada'],\n",
    "            'area':row['area'],\n",
    "            'porcen_avan':row['porcen_avan']\n",
    "        }\n",
    "        list_obj_soca.append(collections.namedtuple(\"soca\", soca.keys())(*soca.values()))\n",
    "    data_obj_props['socas'] = list_obj_soca\n",
    "    list_obj_props_soca.append(collections.namedtuple(\"propiedad\", data_obj_props.keys())(*data_obj_props.values()))\n",
    "list_obj_props_soca"
   ]
  },
  {
   "cell_type": "markdown",
   "id": "abe90405-cac9-465d-b421-79f8a7f19e8a",
   "metadata": {},
   "source": [
    "## TABLA AVANCE GENERAL"
   ]
  },
  {
   "cell_type": "code",
   "execution_count": 161,
   "id": "529edb12-e72b-47f9-a4c4-f0ec96cb3473",
   "metadata": {},
   "outputs": [],
   "source": [
    "fecha_anterior = datetime(2023, 5, 5)\n",
    "fecha_actual = datetime.now()"
   ]
  },
  {
   "cell_type": "code",
   "execution_count": 162,
   "id": "48d16f8d-bef4-4782-ada1-39aeab45fbf2",
   "metadata": {},
   "outputs": [],
   "source": [
    "dias_zafra = (fecha_actual - fecha_anterior).days"
   ]
  },
  {
   "cell_type": "code",
   "execution_count": 166,
   "id": "fc0e22d9-b8cc-43c3-aef5-1b6a52f9287b",
   "metadata": {},
   "outputs": [
    {
     "data": {
      "text/plain": [
       "avance_gral(avance_area_porcen=17.96065527863344, avance_tn_porcen=24.232104892529495, tiempo_porcen=52.046783625730995, area_requerida=446.0617543859649, cumplimiento_area_porcen=34.508674748835034, tn_requeridas=32872.97173180449, cumplimiento_tn_porcen=48.27798998362363)"
      ]
     },
     "execution_count": 166,
     "metadata": {},
     "output_type": "execute_result"
    }
   ],
   "source": [
    "totales_avance_gral = {\n",
    "    'avance_area_porcen' : propiedades_totales['total_avance_porcen'],\n",
    "    'avance_tn_porcen' : grupo_totales['total_avance_porcen'],\n",
    "    'tiempo_porcen' : (dias_zafra / 171) * 100,\n",
    "    'area_requerida' : propiedades_totales['total_area'] * (dias_zafra / 171),\n",
    "    'cumplimiento_area_porcen' : propiedades_totales['total_area_cosechada']/(propiedades_totales['total_area'] * (dias_zafra / 171)) * 100,\n",
    "    'tn_requeridas' : (propiedades_totales['total_proudccion'])*(dias_zafra / 171),\n",
    "    'cumplimiento_tn_porcen' : grupo_totales['total_entrega']/((propiedades_totales['total_proudccion'])*(dias_zafra / 171)) * 100\n",
    "}\n",
    "totales_avance_gral\n",
    "obj_avance_gral = collections.namedtuple(\"avance_gral\", totales_avance_gral.keys())(*totales_avance_gral.values())\n",
    "obj_avance_gral"
   ]
  },
  {
   "cell_type": "code",
   "execution_count": null,
   "id": "205bd9ba-fe68-4752-afb3-af232dd58efb",
   "metadata": {},
   "outputs": [],
   "source": []
  },
  {
   "cell_type": "code",
   "execution_count": null,
   "id": "c93451ac-204d-4e46-aecb-19d8d8f738bf",
   "metadata": {},
   "outputs": [],
   "source": []
  },
  {
   "cell_type": "code",
   "execution_count": null,
   "id": "831cd463-2e18-4bf6-80a5-83c6d57f9d54",
   "metadata": {},
   "outputs": [],
   "source": []
  },
  {
   "cell_type": "code",
   "execution_count": null,
   "id": "3306fbb7-841c-456d-9218-c1c92ebd0b5f",
   "metadata": {},
   "outputs": [],
   "source": []
  },
  {
   "cell_type": "code",
   "execution_count": null,
   "id": "0f28d3ff-c708-4424-b2a4-039b39063d76",
   "metadata": {},
   "outputs": [],
   "source": []
  },
  {
   "cell_type": "code",
   "execution_count": null,
   "id": "0a4bed3f-33fe-4340-8c93-af90ff5de715",
   "metadata": {},
   "outputs": [],
   "source": []
  },
  {
   "cell_type": "code",
   "execution_count": null,
   "id": "8a459fa4-07bc-4fe0-8325-5800d68a362c",
   "metadata": {},
   "outputs": [],
   "source": []
  },
  {
   "cell_type": "code",
   "execution_count": null,
   "id": "cf63721a-5dc2-4a51-9def-9e1e1269ab61",
   "metadata": {},
   "outputs": [],
   "source": []
  },
  {
   "cell_type": "code",
   "execution_count": null,
   "id": "460c9d9a-8de1-4b9d-8f28-7a2bd1c6e1e6",
   "metadata": {},
   "outputs": [],
   "source": []
  },
  {
   "cell_type": "code",
   "execution_count": null,
   "id": "d0bb83fd-bad9-48e5-8e93-af03e413e3de",
   "metadata": {},
   "outputs": [],
   "source": []
  },
  {
   "cell_type": "code",
   "execution_count": null,
   "id": "be648606-990f-491d-a875-f9047beb6038",
   "metadata": {},
   "outputs": [],
   "source": []
  },
  {
   "cell_type": "code",
   "execution_count": null,
   "id": "f31a6a6e-1053-4dd6-8a05-cd288bb344a5",
   "metadata": {},
   "outputs": [],
   "source": []
  },
  {
   "cell_type": "code",
   "execution_count": null,
   "id": "82f0d99f-488d-416a-9194-623eeff9b421",
   "metadata": {},
   "outputs": [],
   "source": []
  },
  {
   "cell_type": "code",
   "execution_count": null,
   "id": "8b9b115d-a6cc-4b5c-8c62-01af661a4e0a",
   "metadata": {},
   "outputs": [],
   "source": []
  },
  {
   "cell_type": "code",
   "execution_count": null,
   "id": "9c5a80d0-8148-490d-ac5a-7bc84f79ef86",
   "metadata": {},
   "outputs": [],
   "source": []
  },
  {
   "cell_type": "code",
   "execution_count": null,
   "id": "513706c8-38d0-40bc-b881-3e9465f9b1e9",
   "metadata": {},
   "outputs": [],
   "source": []
  },
  {
   "cell_type": "code",
   "execution_count": null,
   "id": "27d0a896-4d7f-4342-b1b2-446ebf143615",
   "metadata": {},
   "outputs": [],
   "source": []
  },
  {
   "cell_type": "code",
   "execution_count": null,
   "id": "9c569965-af1c-4891-90c9-b381db6c1154",
   "metadata": {},
   "outputs": [],
   "source": []
  },
  {
   "cell_type": "code",
   "execution_count": null,
   "id": "117c16c7-01b6-4e2a-a0ec-94f46846ec9a",
   "metadata": {},
   "outputs": [],
   "source": []
  },
  {
   "cell_type": "code",
   "execution_count": null,
   "id": "3c557a61-b416-4a37-b8ac-89d03d8c0215",
   "metadata": {},
   "outputs": [],
   "source": []
  },
  {
   "cell_type": "markdown",
   "id": "6b9b66b6-c9ca-4503-854b-f6f255e2f775",
   "metadata": {},
   "source": [
    "# Convertir a PDF"
   ]
  },
  {
   "cell_type": "code",
   "execution_count": 249,
   "id": "88c39fc0-6eae-4cb9-8ae6-82f300e460cc",
   "metadata": {},
   "outputs": [],
   "source": [
    "import os"
   ]
  },
  {
   "cell_type": "code",
   "execution_count": 250,
   "id": "b42f65b0-aa79-4a0b-9724-1c11d41488b7",
   "metadata": {},
   "outputs": [],
   "source": [
    "from docx2pdf import convert"
   ]
  },
  {
   "cell_type": "code",
   "execution_count": 251,
   "id": "92923e4c-51e2-4cef-82e1-4e36c4b12e51",
   "metadata": {},
   "outputs": [
    {
     "name": "stdout",
     "output_type": "stream",
     "text": [
      "SE ENCONTRARON 1 INFORMES\n",
      "1 INFORMES\n"
     ]
    },
    {
     "data": {
      "text/plain": [
       "['reportes//911_ADC_09-06-2023_BALCAZAR JUSTINIANO MARIO.docx']"
      ]
     },
     "execution_count": 251,
     "metadata": {},
     "output_type": "execute_result"
    }
   ],
   "source": [
    "path = r'reportes/'\n",
    "contenido = os.listdir(path)\n",
    "rutas =[]\n",
    "i = 0\n",
    "for name in contenido:\n",
    "    rutas.append(path + '/' + name)\n",
    "    i+=1\n",
    "\n",
    "print('SE ENCONTRARON ' + str(i) + ' INFORMES')\n",
    "print(len(rutas), 'INFORMES')\n",
    "rutas"
   ]
  },
  {
   "cell_type": "code",
   "execution_count": 252,
   "id": "1b6e306c-6a4a-44d4-ba28-539c658c1645",
   "metadata": {},
   "outputs": [
    {
     "name": "stdout",
     "output_type": "stream",
     "text": [
      "CONVIRTIENDO... INFORME 1 reportes//911_ADC_09-06-2023_BALCAZAR JUSTINIANO MARIO.docx\n",
      "reportes//911_ADC_09-06-2023_BALCAZAR JUSTINIANO MARIO.docx\n",
      "reportes//911_ADC_09-06-2023_BALCAZAR JUSTINIANO MARIO.pdf\n"
     ]
    },
    {
     "data": {
      "application/vnd.jupyter.widget-view+json": {
       "model_id": "fad5a948f089412487c9fafd0b0900a7",
       "version_major": 2,
       "version_minor": 0
      },
      "text/plain": [
       "  0%|          | 0/1 [00:00<?, ?it/s]"
      ]
     },
     "metadata": {},
     "output_type": "display_data"
    },
    {
     "name": "stdout",
     "output_type": "stream",
     "text": [
      "END\n"
     ]
    }
   ],
   "source": [
    "i = 1\n",
    "for filename in rutas:\n",
    "    print('CONVIRTIENDO... INFORME ' + str(i) + ' ' + filename)\n",
    "    # se realiza la convrsion pasando parametro de salida y entrada, \n",
    "    # para la salida se reemplaza la extencion y la ruta\n",
    "    print(filename)\n",
    "    print(filename.replace('.docx','.pdf').replace('informes','pdfs'))\n",
    "    pdf = filename.replace('.docx','.pdf').split('/')[-1]\n",
    "    convert(filename, r'pdf/' + pdf)\n",
    "    i+=1\n",
    "print('END')"
   ]
  },
  {
   "cell_type": "markdown",
   "id": "01ff1240-1ee0-41e9-a0c5-fa885efed684",
   "metadata": {},
   "source": [
    "# leer ruta de planos"
   ]
  },
  {
   "cell_type": "code",
   "execution_count": 253,
   "id": "5752bf23-b138-46b0-a565-dbe254a57bdd",
   "metadata": {},
   "outputs": [
    {
     "name": "stdout",
     "output_type": "stream",
     "text": [
      "SE ENCONTRARON 1 INFORMES\n",
      "1 INFORMES\n"
     ]
    }
   ],
   "source": [
    "path = r'pdf/'\n",
    "contenido = os.listdir(path)\n",
    "rutas =[]\n",
    "i = 0\n",
    "for name in contenido:\n",
    "    rutas.append(path + '/' + name)\n",
    "    i+=1\n",
    "\n",
    "print('SE ENCONTRARON ' + str(i) + ' INFORMES')\n",
    "print(len(rutas), 'INFORMES')"
   ]
  },
  {
   "cell_type": "code",
   "execution_count": 254,
   "id": "6163f9ef-5862-45e9-9dee-93573d3e28f4",
   "metadata": {},
   "outputs": [],
   "source": [
    "reporte = rutas[0]"
   ]
  },
  {
   "cell_type": "code",
   "execution_count": 255,
   "id": "bdbf8fbf-e471-4133-ace7-67c34d60e6d3",
   "metadata": {},
   "outputs": [
    {
     "data": {
      "text/plain": [
       "'pdf//911_ADC_09-06-2023_BALCAZAR JUSTINIANO MARIO.pdf'"
      ]
     },
     "execution_count": 255,
     "metadata": {},
     "output_type": "execute_result"
    }
   ],
   "source": [
    "reporte"
   ]
  },
  {
   "cell_type": "code",
   "execution_count": 256,
   "id": "5e01f486-a895-48fc-a234-81a86c050a0f",
   "metadata": {},
   "outputs": [],
   "source": [
    "list_pdfs = []\n",
    "list_pdfs.append(reporte)"
   ]
  },
  {
   "cell_type": "code",
   "execution_count": 257,
   "id": "8ce6fed8-1e64-4295-902c-e7a9682c1ae3",
   "metadata": {},
   "outputs": [
    {
     "data": {
      "text/plain": [
       "['pdf//911_ADC_09-06-2023_BALCAZAR JUSTINIANO MARIO.pdf']"
      ]
     },
     "execution_count": 257,
     "metadata": {},
     "output_type": "execute_result"
    }
   ],
   "source": [
    "list_pdfs"
   ]
  },
  {
   "cell_type": "code",
   "execution_count": 258,
   "id": "55914eb1-3041-49f5-a152-e5e59f448513",
   "metadata": {},
   "outputs": [
    {
     "name": "stdout",
     "output_type": "stream",
     "text": [
      "SE ENCONTRARON 1578 INFORMES\n",
      "1578 INFORMES\n"
     ]
    }
   ],
   "source": [
    "path = r'D:\\Ingenio Azucarero Guabira S.A\\UTEA - SEMANAL - AVANCE COSECHA\\2023\\ANALISIS DE CAÑA EN CAMPO 2023\\REPORTE_AVANCE_COSECHA\\PLANOS'\n",
    "contenido = os.listdir(path)\n",
    "rutas =[]\n",
    "i = 0\n",
    "for name in contenido:\n",
    "    rutas.append(path + '/' + name)\n",
    "    i+=1\n",
    "\n",
    "print('SE ENCONTRARON ' + str(i) + ' INFORMES')\n",
    "print(len(rutas), 'INFORMES')"
   ]
  },
  {
   "cell_type": "code",
   "execution_count": 259,
   "id": "e518cac4-7ecb-4fe1-ac32-4b3827c50b9b",
   "metadata": {},
   "outputs": [],
   "source": [
    "data  = {}\n",
    "for i in rutas:\n",
    "    cod_prop = i.split('_')[-1].split('.')[0]\n",
    "    data[cod_prop]=i"
   ]
  },
  {
   "cell_type": "code",
   "execution_count": 260,
   "id": "e40bb3e1-2075-4ff6-87bf-9671ae3810b0",
   "metadata": {},
   "outputs": [
    {
     "data": {
      "text/plain": [
       "'D:\\\\Ingenio Azucarero Guabira S.A\\\\UTEA - SEMANAL - AVANCE COSECHA\\\\2023\\\\ANALISIS DE CAÑA EN CAMPO 2023\\\\REPORTE_AVANCE_COSECHA\\\\PLANOS/PLANO_30.pdf'"
      ]
     },
     "execution_count": 260,
     "metadata": {},
     "output_type": "execute_result"
    }
   ],
   "source": [
    "data['30']"
   ]
  },
  {
   "cell_type": "code",
   "execution_count": 261,
   "id": "1359f77f-2d3b-4348-828e-61d3768b7665",
   "metadata": {},
   "outputs": [
    {
     "data": {
      "text/html": [
       "<div>\n",
       "<style scoped>\n",
       "    .dataframe tbody tr th:only-of-type {\n",
       "        vertical-align: middle;\n",
       "    }\n",
       "\n",
       "    .dataframe tbody tr th {\n",
       "        vertical-align: top;\n",
       "    }\n",
       "\n",
       "    .dataframe thead th {\n",
       "        text-align: right;\n",
       "    }\n",
       "</style>\n",
       "<table border=\"1\" class=\"dataframe\">\n",
       "  <thead>\n",
       "    <tr style=\"text-align: right;\">\n",
       "      <th></th>\n",
       "      <th>unidad_01</th>\n",
       "      <th>unidad_02</th>\n",
       "      <th>area</th>\n",
       "      <th>area_cosechada</th>\n",
       "      <th>TCH</th>\n",
       "      <th>sin_cosechar</th>\n",
       "      <th>produccion_total</th>\n",
       "      <th>produccion_restante</th>\n",
       "      <th>produccion_cosechado</th>\n",
       "    </tr>\n",
       "  </thead>\n",
       "  <tbody>\n",
       "    <tr>\n",
       "      <th>0</th>\n",
       "      <td>732</td>\n",
       "      <td>EL_PUESTO--BALCAZAR</td>\n",
       "      <td>18.59</td>\n",
       "      <td>1.22</td>\n",
       "      <td>46.944692</td>\n",
       "      <td>17.37</td>\n",
       "      <td>872.701825</td>\n",
       "      <td>815.429300</td>\n",
       "      <td>57.272524</td>\n",
       "    </tr>\n",
       "    <tr>\n",
       "      <th>1</th>\n",
       "      <td>733</td>\n",
       "      <td>LAS_PARCELAS--BALCAZAR</td>\n",
       "      <td>20.18</td>\n",
       "      <td>0.00</td>\n",
       "      <td>45.217658</td>\n",
       "      <td>20.18</td>\n",
       "      <td>912.492343</td>\n",
       "      <td>912.492343</td>\n",
       "      <td>0.000000</td>\n",
       "    </tr>\n",
       "    <tr>\n",
       "      <th>2</th>\n",
       "      <td>749</td>\n",
       "      <td>SAN_JORGE_DE_NAICO(EL_TRILLO)--BALCAZAR</td>\n",
       "      <td>25.09</td>\n",
       "      <td>4.28</td>\n",
       "      <td>43.599069</td>\n",
       "      <td>20.81</td>\n",
       "      <td>1093.900635</td>\n",
       "      <td>907.296621</td>\n",
       "      <td>186.604014</td>\n",
       "    </tr>\n",
       "    <tr>\n",
       "      <th>3</th>\n",
       "      <td>750</td>\n",
       "      <td>EL_CARMEN_NAICO--BALCAZAR</td>\n",
       "      <td>7.06</td>\n",
       "      <td>0.00</td>\n",
       "      <td>47.181886</td>\n",
       "      <td>7.06</td>\n",
       "      <td>333.104118</td>\n",
       "      <td>333.104118</td>\n",
       "      <td>0.000000</td>\n",
       "    </tr>\n",
       "    <tr>\n",
       "      <th>4</th>\n",
       "      <td>1694</td>\n",
       "      <td>EL_TRILLO--BALCAZAR_RAMON</td>\n",
       "      <td>25.88</td>\n",
       "      <td>1.24</td>\n",
       "      <td>48.479291</td>\n",
       "      <td>24.64</td>\n",
       "      <td>1254.644064</td>\n",
       "      <td>1194.529742</td>\n",
       "      <td>60.114321</td>\n",
       "    </tr>\n",
       "    <tr>\n",
       "      <th>5</th>\n",
       "      <td>1818</td>\n",
       "      <td>EL_PUESTO--BALCAZAR_RAMON</td>\n",
       "      <td>8.10</td>\n",
       "      <td>4.04</td>\n",
       "      <td>45.167463</td>\n",
       "      <td>4.06</td>\n",
       "      <td>365.856452</td>\n",
       "      <td>183.379901</td>\n",
       "      <td>182.476551</td>\n",
       "    </tr>\n",
       "    <tr>\n",
       "      <th>6</th>\n",
       "      <td>1819</td>\n",
       "      <td>EL_PUESTO--BALCAZAR_SOLETO_MARIO</td>\n",
       "      <td>3.54</td>\n",
       "      <td>0.00</td>\n",
       "      <td>39.509156</td>\n",
       "      <td>3.54</td>\n",
       "      <td>139.862413</td>\n",
       "      <td>139.862413</td>\n",
       "      <td>0.000000</td>\n",
       "    </tr>\n",
       "    <tr>\n",
       "      <th>7</th>\n",
       "      <td>1820</td>\n",
       "      <td>SAN_JORGE--BALCAZAR_SOLETO_MARIO</td>\n",
       "      <td>4.71</td>\n",
       "      <td>0.00</td>\n",
       "      <td>53.842054</td>\n",
       "      <td>4.71</td>\n",
       "      <td>253.596073</td>\n",
       "      <td>253.596073</td>\n",
       "      <td>0.000000</td>\n",
       "    </tr>\n",
       "  </tbody>\n",
       "</table>\n",
       "</div>"
      ],
      "text/plain": [
       "   unidad_01                                unidad_02   area  area_cosechada  \\\n",
       "0        732                      EL_PUESTO--BALCAZAR  18.59            1.22   \n",
       "1        733                   LAS_PARCELAS--BALCAZAR  20.18            0.00   \n",
       "2        749  SAN_JORGE_DE_NAICO(EL_TRILLO)--BALCAZAR  25.09            4.28   \n",
       "3        750                EL_CARMEN_NAICO--BALCAZAR   7.06            0.00   \n",
       "4       1694                EL_TRILLO--BALCAZAR_RAMON  25.88            1.24   \n",
       "5       1818                EL_PUESTO--BALCAZAR_RAMON   8.10            4.04   \n",
       "6       1819         EL_PUESTO--BALCAZAR_SOLETO_MARIO   3.54            0.00   \n",
       "7       1820         SAN_JORGE--BALCAZAR_SOLETO_MARIO   4.71            0.00   \n",
       "\n",
       "         TCH  sin_cosechar  produccion_total  produccion_restante  \\\n",
       "0  46.944692         17.37        872.701825           815.429300   \n",
       "1  45.217658         20.18        912.492343           912.492343   \n",
       "2  43.599069         20.81       1093.900635           907.296621   \n",
       "3  47.181886          7.06        333.104118           333.104118   \n",
       "4  48.479291         24.64       1254.644064          1194.529742   \n",
       "5  45.167463          4.06        365.856452           183.379901   \n",
       "6  39.509156          3.54        139.862413           139.862413   \n",
       "7  53.842054          4.71        253.596073           253.596073   \n",
       "\n",
       "   produccion_cosechado  \n",
       "0             57.272524  \n",
       "1              0.000000  \n",
       "2            186.604014  \n",
       "3              0.000000  \n",
       "4             60.114321  \n",
       "5            182.476551  \n",
       "6              0.000000  \n",
       "7              0.000000  "
      ]
     },
     "execution_count": 261,
     "metadata": {},
     "output_type": "execute_result"
    }
   ],
   "source": [
    "df"
   ]
  },
  {
   "cell_type": "code",
   "execution_count": 262,
   "id": "9099706a-5664-4a13-b335-d5214bb84760",
   "metadata": {},
   "outputs": [],
   "source": [
    "for row in df.itertuples():\n",
    "    cod_prop = row.unidad_01\n",
    "    ruta_prop = data[str(cod_prop)]\n",
    "    list_pdfs.append(ruta_prop)"
   ]
  },
  {
   "cell_type": "code",
   "execution_count": 263,
   "id": "69d51159-59c2-4ee8-b8c9-f9e1b02cd5d2",
   "metadata": {},
   "outputs": [
    {
     "data": {
      "text/plain": [
       "['pdf//911_ADC_09-06-2023_BALCAZAR JUSTINIANO MARIO.pdf',\n",
       " 'D:\\\\Ingenio Azucarero Guabira S.A\\\\UTEA - SEMANAL - AVANCE COSECHA\\\\2023\\\\ANALISIS DE CAÑA EN CAMPO 2023\\\\REPORTE_AVANCE_COSECHA\\\\PLANOS/PLANO_732.pdf',\n",
       " 'D:\\\\Ingenio Azucarero Guabira S.A\\\\UTEA - SEMANAL - AVANCE COSECHA\\\\2023\\\\ANALISIS DE CAÑA EN CAMPO 2023\\\\REPORTE_AVANCE_COSECHA\\\\PLANOS/PLANO_733.pdf',\n",
       " 'D:\\\\Ingenio Azucarero Guabira S.A\\\\UTEA - SEMANAL - AVANCE COSECHA\\\\2023\\\\ANALISIS DE CAÑA EN CAMPO 2023\\\\REPORTE_AVANCE_COSECHA\\\\PLANOS/PLANO_749.pdf',\n",
       " 'D:\\\\Ingenio Azucarero Guabira S.A\\\\UTEA - SEMANAL - AVANCE COSECHA\\\\2023\\\\ANALISIS DE CAÑA EN CAMPO 2023\\\\REPORTE_AVANCE_COSECHA\\\\PLANOS/PLANO_750.pdf',\n",
       " 'D:\\\\Ingenio Azucarero Guabira S.A\\\\UTEA - SEMANAL - AVANCE COSECHA\\\\2023\\\\ANALISIS DE CAÑA EN CAMPO 2023\\\\REPORTE_AVANCE_COSECHA\\\\PLANOS/PLANO_1694.pdf',\n",
       " 'D:\\\\Ingenio Azucarero Guabira S.A\\\\UTEA - SEMANAL - AVANCE COSECHA\\\\2023\\\\ANALISIS DE CAÑA EN CAMPO 2023\\\\REPORTE_AVANCE_COSECHA\\\\PLANOS/PLANO_1818.pdf',\n",
       " 'D:\\\\Ingenio Azucarero Guabira S.A\\\\UTEA - SEMANAL - AVANCE COSECHA\\\\2023\\\\ANALISIS DE CAÑA EN CAMPO 2023\\\\REPORTE_AVANCE_COSECHA\\\\PLANOS/PLANO_1819.pdf',\n",
       " 'D:\\\\Ingenio Azucarero Guabira S.A\\\\UTEA - SEMANAL - AVANCE COSECHA\\\\2023\\\\ANALISIS DE CAÑA EN CAMPO 2023\\\\REPORTE_AVANCE_COSECHA\\\\PLANOS/PLANO_1820.pdf']"
      ]
     },
     "execution_count": 263,
     "metadata": {},
     "output_type": "execute_result"
    }
   ],
   "source": [
    "list_pdfs"
   ]
  },
  {
   "cell_type": "code",
   "execution_count": 264,
   "id": "4dce9633-c8d6-4e67-91ed-875e9811214a",
   "metadata": {},
   "outputs": [],
   "source": [
    "from PyPDF2 import PdfMerger"
   ]
  },
  {
   "cell_type": "code",
   "execution_count": 265,
   "id": "e53e9c90-c499-4af8-834f-9c419592cf92",
   "metadata": {},
   "outputs": [
    {
     "data": {
      "text/plain": [
       "'pdf_final//911_ADC_09-06-2023_BALCAZAR JUSTINIANO MARIO.pdf'"
      ]
     },
     "execution_count": 265,
     "metadata": {},
     "output_type": "execute_result"
    }
   ],
   "source": [
    "filename.replace('reportes', 'pdf_final').replace('docx', 'pdf')"
   ]
  },
  {
   "cell_type": "code",
   "execution_count": 266,
   "id": "4f6b4d10-a5c2-45ce-acce-bce6c3d44631",
   "metadata": {},
   "outputs": [],
   "source": [
    "nombre_archivo_salida = filename.replace('reportes', 'pdf_final').replace('docx', 'pdf')"
   ]
  },
  {
   "cell_type": "code",
   "execution_count": 267,
   "id": "25e914ff-9eb6-42b5-8104-dd73567eaf66",
   "metadata": {},
   "outputs": [],
   "source": [
    "fusionador = PdfMerger()"
   ]
  },
  {
   "cell_type": "code",
   "execution_count": 268,
   "id": "a1c0f2ed-63bf-4690-9f25-c6a68a063073",
   "metadata": {},
   "outputs": [],
   "source": [
    "for pdf in list_pdfs:\n",
    "    fusionador.append(open(pdf, 'rb'))"
   ]
  },
  {
   "cell_type": "code",
   "execution_count": 269,
   "id": "16cd8915-4edb-41eb-82bd-0f33553c14ac",
   "metadata": {},
   "outputs": [],
   "source": [
    "with open(nombre_archivo_salida, 'wb') as salida:\n",
    "    fusionador.write(salida)"
   ]
  },
  {
   "cell_type": "code",
   "execution_count": null,
   "id": "88ecdf1c-cb58-4f57-b6ce-991606f003c6",
   "metadata": {},
   "outputs": [],
   "source": []
  },
  {
   "cell_type": "code",
   "execution_count": null,
   "id": "c1e14bb5-8e2c-42fc-8a09-e7c872cb8dec",
   "metadata": {},
   "outputs": [],
   "source": []
  },
  {
   "cell_type": "code",
   "execution_count": null,
   "id": "db684d01-a009-4e9f-b3f7-0c0e91d6e786",
   "metadata": {},
   "outputs": [],
   "source": []
  },
  {
   "cell_type": "code",
   "execution_count": null,
   "id": "a19c4ffc-89b0-4db0-81d2-2cf6c0a701ac",
   "metadata": {},
   "outputs": [],
   "source": []
  },
  {
   "cell_type": "code",
   "execution_count": null,
   "id": "0ffa553b-ccb6-464e-9ced-f64761da9c19",
   "metadata": {},
   "outputs": [],
   "source": []
  },
  {
   "cell_type": "code",
   "execution_count": null,
   "id": "c58ab25a-7807-49cf-8e9f-fd04cb8949be",
   "metadata": {},
   "outputs": [],
   "source": []
  },
  {
   "cell_type": "code",
   "execution_count": null,
   "id": "bac5f75c-ba9c-426f-803f-ceb6d360d0fc",
   "metadata": {},
   "outputs": [],
   "source": []
  },
  {
   "cell_type": "code",
   "execution_count": null,
   "id": "cbdfebe0-7b91-44bf-af03-7ae67878d9cb",
   "metadata": {},
   "outputs": [],
   "source": []
  },
  {
   "cell_type": "code",
   "execution_count": null,
   "id": "e5d37558-5dbc-42b3-bf7c-9f79140ae770",
   "metadata": {},
   "outputs": [],
   "source": []
  }
 ],
 "metadata": {
  "kernelspec": {
   "display_name": "Python 3 (ipykernel)",
   "language": "python",
   "name": "python3"
  },
  "language_info": {
   "codemirror_mode": {
    "name": "ipython",
    "version": 3
   },
   "file_extension": ".py",
   "mimetype": "text/x-python",
   "name": "python",
   "nbconvert_exporter": "python",
   "pygments_lexer": "ipython3",
   "version": "3.7.11"
  }
 },
 "nbformat": 4,
 "nbformat_minor": 5
}
