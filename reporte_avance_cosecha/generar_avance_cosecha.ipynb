{
 "cells": [
  {
   "cell_type": "code",
   "execution_count": 1,
   "id": "2ff0227a-107e-43dd-bfe7-abee10f1f8dd",
   "metadata": {},
   "outputs": [],
   "source": [
    "import geopandas as gpd\n",
    "import matplotlib.pyplot as plt\n",
    "import pandas as pd\n",
    "from datetime import datetime\n",
    "\n",
    "import tkinter as tk\n",
    "from tkinter import filedialog as fd\n",
    "\n",
    "import collections\n",
    "\n",
    "from docxtpl import DocxTemplate\n",
    "import docxtpl\n",
    "from docx.shared import Mm"
   ]
  },
  {
   "cell_type": "code",
   "execution_count": 2,
   "id": "4449687d-24af-42c4-9220-14c7c5e07a21",
   "metadata": {},
   "outputs": [],
   "source": [
    "# open file dialog / catastro de avance\n",
    "root = tk.Tk()\n",
    "root.attributes('-topmost', True)\n",
    "root.iconify()\n",
    "file_name = fd.askopenfilename(parent=root, filetypes=[(\".shp\", \".shp\")])\n",
    "root.destroy()\n",
    "\n",
    "# open file dialog / xlsx de avance\n",
    "root = tk.Tk()\n",
    "root.attributes('-topmost', True)\n",
    "root.iconify()\n",
    "file_name = fd.askopenfilename(parent=root, filetypes=[(\".xlsx\", \".xlsx\")])\n",
    "root.destroy()"
   ]
  },
  {
   "cell_type": "code",
   "execution_count": 3,
   "id": "75b665bc-4514-47e8-9b74-eee18dd99701",
   "metadata": {},
   "outputs": [],
   "source": [
    "# ruta de carpera donde estan las llaves\n",
    "ruta = open('../ruta.txt')\n",
    "ruta = ruta.readlines()[0]"
   ]
  },
  {
   "cell_type": "code",
   "execution_count": 19,
   "id": "6df6f57e-a512-48f1-bde6-1b577b836e3c",
   "metadata": {},
   "outputs": [],
   "source": [
    "file_cat_avance = r'D:/Ingenio Azucarero Guabira S.A/UTEA - SEMANAL - AVANCE COSECHA/2023/ANALISIS DE CAÑA EN CAMPO 2023/REPORTE_AVANCE_COSECHA/SHP/Cosecha2023.shp'\n",
    "file_xlsx_avance = r'D:/Ingenio Azucarero Guabira S.A/UTEA - SEMANAL - AVANCE COSECHA/2023/ANALISIS DE CAÑA EN CAMPO 2023/REPORTE_AVANCE_COSECHA/RENDIMIENTO AVANCE 310723.xlsx'\n",
    "file_xlsx_estimativa = r'D:/Ingenio Azucarero Guabira S.A/UTEA - SEMANAL - AVANCE COSECHA/2023/ANALISIS DE CAÑA EN CAMPO 2023/REPORTE_AVANCE_COSECHA/ESTIMATIVAS_DB.xlsx'"
   ]
  },
  {
   "cell_type": "code",
   "execution_count": 20,
   "id": "a1f30ba2-e2e0-4501-b275-6ccd94db7874",
   "metadata": {},
   "outputs": [],
   "source": [
    "catastro_avance = gpd.read_file(file_cat_avance)"
   ]
  },
  {
   "cell_type": "code",
   "execution_count": 21,
   "id": "90f3a1e6-a1a2-4258-a191-de9754034b1f",
   "metadata": {},
   "outputs": [],
   "source": [
    "data_avance = pd.read_excel(file_xlsx_avance, sheet_name='Hoja1')"
   ]
  },
  {
   "cell_type": "code",
   "execution_count": 22,
   "id": "87a46fb2-467a-442e-9262-a7c594bf6369",
   "metadata": {},
   "outputs": [],
   "source": [
    "# extraer codigos de cosecha\n",
    "codigos_cosecha = list(set(data_avance['COD COS']))"
   ]
  },
  {
   "cell_type": "code",
   "execution_count": 23,
   "id": "9dc05557-f4cf-4fa7-9a29-e77353af6c20",
   "metadata": {},
   "outputs": [
    {
     "name": "stdout",
     "output_type": "stream",
     "text": [
      "[nan, 1.0, 2.0, 3.0, 4.0, 5.0, 6.0, 7.0, 8.0, 9.0, 10.0, 11.0, 12.0, 13.0, 14.0, 15.0, 16.0, 17.0, 18.0, 19.0, 20.0, 21.0, 22.0, 23.0, 24.0, 25.0, 26.0, 28.0, 29.0, 30.0, 31.0, 32.0, 33.0, 34.0, 35.0, 36.0, 37.0, 38.0, 39.0, 40.0, 41.0, 42.0, 43.0, 44.0, 45.0, 46.0, 47.0, 48.0, 49.0, 50.0, 51.0, 52.0, 54.0, 55.0, 56.0, 57.0, 58.0, 59.0, 60.0, 61.0, 62.0, 63.0, 64.0, 65.0, 67.0, 68.0, 69.0, 70.0, 71.0, 72.0, 73.0, 74.0, 75.0, 76.0, 77.0, 78.0, 79.0, 80.0, 81.0, 82.0, 83.0, 84.0, 85.0, 86.0, 87.0, 88.0, 89.0, 90.0, 91.0, 92.0, 93.0, 94.0, 95.0, 96.0, 97.0, 98.0, 99.0, 100.0, 101.0, 102.0, 103.0, 104.0, 105.0, 106.0, 107.0, 108.0, 109.0, 110.0, 111.0, 112.0, 113.0, 114.0, 115.0, 116.0, 117.0, 118.0, 119.0, 120.0, 121.0, 122.0, 123.0, 124.0, 125.0, 126.0, 127.0, 128.0, 129.0, 130.0, 131.0, 132.0, 134.0, 135.0, 136.0, 137.0, 138.0, 139.0, 140.0, 141.0, 142.0, 143.0, 144.0, 145.0, 146.0, 147.0, 148.0, 149.0, 150.0, 151.0, 152.0, 153.0, 154.0, 155.0, 156.0, 157.0, 158.0, 159.0, 160.0, 161.0, 162.0, 163.0, 164.0, 165.0, 166.0, 167.0, 168.0, 169.0, 170.0, 171.0, 172.0, 173.0, 174.0, 175.0, 176.0, 177.0, 179.0, 180.0, 181.0, 182.0, 183.0, 184.0, 185.0, 186.0, 187.0, 188.0, 189.0, 190.0, 191.0, 192.0, 193.0, 194.0, 195.0, 196.0, 197.0, 198.0, 199.0, 200.0, 201.0, 202.0, 203.0, 204.0, 205.0, 206.0, 207.0, 208.0, 209.0, 210.0, 211.0, 212.0, 213.0, 214.0, 215.0, 216.0, 217.0, 218.0, 219.0, 220.0, 221.0, 222.0, 223.0, 224.0, 225.0, 226.0, 227.0, 228.0, 229.0, 230.0, 231.0, 232.0, 233.0, 234.0, 235.0, 236.0, 237.0, 238.0, 239.0, 240.0, 241.0, 242.0, 243.0, 244.0, 245.0, 246.0, 247.0, 248.0, 249.0, 250.0, 251.0, 252.0, 253.0, 254.0, 255.0, 256.0, 257.0, 258.0, 259.0, 260.0, 261.0, 262.0, 264.0, 265.0, 266.0, 267.0, 268.0, 269.0, 270.0, 271.0, 272.0, 273.0, 274.0, 275.0, 276.0, 277.0, 278.0, 279.0, 280.0, 281.0, 282.0, 283.0, 284.0, 285.0, 286.0, 287.0, 288.0, 289.0, 290.0, 291.0, 292.0, 293.0, 294.0, 295.0, 296.0, 297.0, 298.0, 299.0, 300.0, 301.0, 302.0, 303.0, 304.0, 305.0, 306.0, 307.0, 308.0, 309.0, 310.0, 311.0, 312.0, 313.0, 314.0, 315.0, 316.0, 317.0, 318.0, 319.0, 320.0, 321.0, 322.0, 323.0, 324.0, 325.0, 326.0, 327.0, 328.0, 329.0, 330.0, 331.0, 332.0, 333.0, 334.0, 335.0, 336.0, 337.0, 338.0, 339.0, 340.0, 341.0, 342.0, 343.0, 344.0, 345.0, 346.0, 347.0, 348.0, 349.0, 350.0, 351.0, 352.0, 353.0, 354.0, 355.0, 356.0, 357.0, 358.0, 359.0, 360.0, 361.0, 362.0, 363.0, 364.0, 365.0, 366.0, 367.0, 368.0, 369.0, 370.0, 371.0, 372.0, 373.0, 374.0, 375.0, 376.0, 377.0, 378.0, 379.0, 380.0, 381.0, 382.0, 383.0, 384.0, 385.0, 386.0, 387.0, 388.0, 389.0, 390.0, 391.0, 392.0, 393.0, 394.0, 395.0, 396.0, 397.0, 398.0, 399.0, 400.0, 401.0, 402.0, 403.0, 404.0, 405.0, 406.0, 407.0, 408.0, 409.0, 410.0, 412.0, 413.0, 414.0, 416.0, 417.0, 418.0, 419.0, 420.0, 421.0, 422.0, 423.0, 424.0, 425.0, 426.0, 427.0, 429.0, 430.0, 432.0, 433.0, 434.0, 435.0, 437.0, 438.0, 439.0, 440.0, 441.0, 442.0, 443.0, 444.0, 445.0, 446.0, 447.0, 448.0, 449.0, 450.0, 451.0, 452.0, 453.0, 454.0, 455.0, 456.0, 457.0, 458.0, 459.0, 500.0, 501.0, 502.0, 503.0, 504.0, 505.0, 507.0, 508.0, 509.0, 510.0, 511.0, 513.0, 514.0, 515.0, 516.0, 517.0, 518.0, 519.0, 520.0, 521.0, 522.0, 523.0, 524.0, 525.0]\n"
     ]
    }
   ],
   "source": [
    "print(codigos_cosecha)"
   ]
  },
  {
   "cell_type": "markdown",
   "id": "ccd09758-31cb-47b3-8c95-7aa710b7da25",
   "metadata": {},
   "source": [
    "## COMPROMISO Y ENTREGAS"
   ]
  },
  {
   "cell_type": "code",
   "execution_count": 25,
   "id": "b29e55b5-28d3-4364-93ef-b1706077ba4f",
   "metadata": {},
   "outputs": [
    {
     "data": {
      "text/plain": [
       "Index(['INS', 'GRUPO', 'COD COS', 'CODIGO CAÑERO ', 'CAÑERO',\n",
       "       'TN COMPROMISO GRUPAL', 'TN COMPROMISO INDIVIDUAL',\n",
       "       'HA CANHA POR GRUPO', 'HA CANHA INDIVIDUAL', 'TN ENTREGA GRUPAL',\n",
       "       'TN ENTREGA INDIVIDUAL', '% ENTREGA GRUPAL', 'HA COSECHA GRUPAL',\n",
       "       'HA COSECHA INDIVIDUAL', '% COSECHA GRUPAL', 'HA CAÑA EN CAMPO GRUPAL',\n",
       "       'RENDIMIENTO PROMEDIO', 'TN ESTIMADA APROX', 'COMPROMISO RESTANTE',\n",
       "       'DIFERENCIA COMPROMETIDO', 'RENDIMIENTO 2023', 'RENDIMIENTO 2022',\n",
       "       'RENDIMIENTO 2021', 'DIFERENCIA', 'OBSERVACION', 'TCH ESTIMADO',\n",
       "       'PRODUCCION ESTIMADA', 'TN CAÑA EN CAMPO ESTIMADO', 'TN EXCEDENTE',\n",
       "       'COMPROMISO 2022', 'ENTREGA 2022', 'DIFERENCIA  '],\n",
       "      dtype='object')"
      ]
     },
     "execution_count": 25,
     "metadata": {},
     "output_type": "execute_result"
    }
   ],
   "source": [
    "data_avance.columns"
   ]
  },
  {
   "cell_type": "code",
   "execution_count": 30,
   "id": "5138cff3-76a0-4772-be8e-39d7900f3712",
   "metadata": {},
   "outputs": [
    {
     "data": {
      "text/html": [
       "<div>\n",
       "<style scoped>\n",
       "    .dataframe tbody tr th:only-of-type {\n",
       "        vertical-align: middle;\n",
       "    }\n",
       "\n",
       "    .dataframe tbody tr th {\n",
       "        vertical-align: top;\n",
       "    }\n",
       "\n",
       "    .dataframe thead th {\n",
       "        text-align: right;\n",
       "    }\n",
       "</style>\n",
       "<table border=\"1\" class=\"dataframe\">\n",
       "  <thead>\n",
       "    <tr style=\"text-align: right;\">\n",
       "      <th></th>\n",
       "      <th>cod_ca</th>\n",
       "      <th>COD COS</th>\n",
       "      <th>CAÑERO</th>\n",
       "      <th>TN COMPROMISO INDIVIDUAL</th>\n",
       "      <th>TN ENTREGA INDIVIDUAL</th>\n",
       "      <th>avance_porcen</th>\n",
       "    </tr>\n",
       "  </thead>\n",
       "  <tbody>\n",
       "    <tr>\n",
       "      <th>0</th>\n",
       "      <td>41715.0</td>\n",
       "      <td>30.0</td>\n",
       "      <td>VACA DIEZ UGARTE NICOLAS</td>\n",
       "      <td>1781.38</td>\n",
       "      <td>0.00</td>\n",
       "      <td>0.000000</td>\n",
       "    </tr>\n",
       "    <tr>\n",
       "      <th>1</th>\n",
       "      <td>8005.0</td>\n",
       "      <td>30.0</td>\n",
       "      <td>AGUILERA WENDE MARIA INGRID</td>\n",
       "      <td>5201.02</td>\n",
       "      <td>54.64</td>\n",
       "      <td>1.050563</td>\n",
       "    </tr>\n",
       "    <tr>\n",
       "      <th>2</th>\n",
       "      <td>577.0</td>\n",
       "      <td>30.0</td>\n",
       "      <td>AGUILERA MARIA INGRID WENDE DE</td>\n",
       "      <td>13433.25</td>\n",
       "      <td>13736.29</td>\n",
       "      <td>102.255895</td>\n",
       "    </tr>\n",
       "    <tr>\n",
       "      <th>3</th>\n",
       "      <td>794.0</td>\n",
       "      <td>30.0</td>\n",
       "      <td>AGUILERA WENDE MARIANO</td>\n",
       "      <td>18084.70</td>\n",
       "      <td>18129.46</td>\n",
       "      <td>100.247502</td>\n",
       "    </tr>\n",
       "    <tr>\n",
       "      <th>4</th>\n",
       "      <td>75.0</td>\n",
       "      <td>30.0</td>\n",
       "      <td>AGUILERA TARADELLES NELSON MARIANO</td>\n",
       "      <td>26992.97</td>\n",
       "      <td>9443.15</td>\n",
       "      <td>34.983738</td>\n",
       "    </tr>\n",
       "  </tbody>\n",
       "</table>\n",
       "</div>"
      ],
      "text/plain": [
       "    cod_ca  COD COS                              CAÑERO  \\\n",
       "0  41715.0     30.0            VACA DIEZ UGARTE NICOLAS   \n",
       "1   8005.0     30.0         AGUILERA WENDE MARIA INGRID   \n",
       "2    577.0     30.0      AGUILERA MARIA INGRID WENDE DE   \n",
       "3    794.0     30.0              AGUILERA WENDE MARIANO   \n",
       "4     75.0     30.0  AGUILERA TARADELLES NELSON MARIANO   \n",
       "\n",
       "   TN COMPROMISO INDIVIDUAL  TN ENTREGA INDIVIDUAL  avance_porcen  \n",
       "0                   1781.38                   0.00       0.000000  \n",
       "1                   5201.02                  54.64       1.050563  \n",
       "2                  13433.25               13736.29     102.255895  \n",
       "3                  18084.70               18129.46     100.247502  \n",
       "4                  26992.97                9443.15      34.983738  "
      ]
     },
     "execution_count": 30,
     "metadata": {},
     "output_type": "execute_result"
    }
   ],
   "source": [
    "# seleccion de grupo aguilera\n",
    "cod_co = 30\n",
    "# filtrado por codigo de cosecha\n",
    "grupo = data_avance[data_avance['COD COS'] == cod_co]\n",
    "# seleccion de columnas de interes\n",
    "grupo = grupo[['CODIGO CAÑERO ', 'COD COS', 'CAÑERO', 'TN COMPROMISO INDIVIDUAL', 'TN ENTREGA INDIVIDUAL']]\n",
    "# calculo de % de avance de entrega del grupo\n",
    "grupo['avance_porcen'] = (grupo['TN ENTREGA INDIVIDUAL'] / grupo['TN COMPROMISO INDIVIDUAL'])*100\n",
    "# cambio del nombre del campo codigo cañero\n",
    "grupo = grupo.rename(columns={'CODIGO CAÑERO ': 'cod_ca'})\n",
    "grupo"
   ]
  },
  {
   "cell_type": "code",
   "execution_count": 32,
   "id": "b07c34c1-5f3e-43e3-a8e1-05c9cae82362",
   "metadata": {},
   "outputs": [
    {
     "data": {
      "text/plain": [
       "[canero(cod_ca=41715.0, nom_ca='VACA DIEZ UGARTE NICOLAS', compromiso=1781.38, entrega=0.0, porcen=0.0),\n",
       " canero(cod_ca=8005.0, nom_ca='AGUILERA WENDE MARIA INGRID', compromiso=5201.02, entrega=54.64, porcen=1.0505631587650115),\n",
       " canero(cod_ca=577.0, nom_ca='AGUILERA MARIA INGRID WENDE DE', compromiso=13433.25, entrega=13736.29, porcen=102.2558948876854),\n",
       " canero(cod_ca=794.0, nom_ca='AGUILERA WENDE MARIANO', compromiso=18084.7, entrega=18129.46, porcen=100.24750203210448),\n",
       " canero(cod_ca=75.0, nom_ca='AGUILERA TARADELLES NELSON MARIANO', compromiso=26992.97, entrega=9443.15, porcen=34.98373835854298)]"
      ]
     },
     "execution_count": 32,
     "metadata": {},
     "output_type": "execute_result"
    }
   ],
   "source": [
    "list_obj_grupo = []\n",
    "for index, row in grupo.iterrows():\n",
    "    canero = {\n",
    "        'cod_ca' : row['cod_ca'],\n",
    "        'nom_ca' : row['CAÑERO'],\n",
    "        'compromiso' : row['TN COMPROMISO INDIVIDUAL'],\n",
    "        'entrega' : row['TN ENTREGA INDIVIDUAL'],\n",
    "        'porcen' : row['avance_porcen']\n",
    "    }\n",
    "    list_obj_grupo.append(collections.namedtuple(\"canero\", canero.keys())(*canero.values()))\n",
    "list_obj_grupo"
   ]
  },
  {
   "cell_type": "code",
   "execution_count": 33,
   "id": "2eaa7b18-b166-48f1-8fad-53567c79aec3",
   "metadata": {},
   "outputs": [
    {
     "data": {
      "text/plain": [
       "totales(compromiso=65493.32000000001, entrega=41363.54, porcen=63.15688378601054)"
      ]
     },
     "execution_count": 33,
     "metadata": {},
     "output_type": "execute_result"
    }
   ],
   "source": [
    "# totales de tabla de entreas del grupo seleccionado\n",
    "grupo_totales = {\n",
    "    'compromiso':grupo['TN COMPROMISO INDIVIDUAL'].sum(),\n",
    "    'entrega':grupo['TN ENTREGA INDIVIDUAL'].sum(),\n",
    "    'porcen':grupo['TN ENTREGA INDIVIDUAL'].sum() / grupo['TN COMPROMISO INDIVIDUAL'].sum() * 100\n",
    "}\n",
    "grupo_totales\n",
    "obj_grupo_totales = collections.namedtuple(\"totales\", grupo_totales.keys())(*grupo_totales.values())\n",
    "obj_grupo_totales"
   ]
  },
  {
   "cell_type": "markdown",
   "id": "c2841e5b-725c-4e91-9491-b897a7b360e6",
   "metadata": {},
   "source": [
    "## AVANCE PROPIEDAD"
   ]
  },
  {
   "cell_type": "code",
   "execution_count": 34,
   "id": "2cc4984e-4ed2-4732-8a10-794a3646ac40",
   "metadata": {},
   "outputs": [],
   "source": [
    "xlsx_estimativas = pd.read_excel(file_xlsx_estimativa, sheet_name='ESTIMATIVA_PROPS')\n",
    "xlsx_estimativas = xlsx_estimativas.rename(columns={'CODIGO' : 'unidad_01'})"
   ]
  },
  {
   "cell_type": "code",
   "execution_count": 35,
   "id": "dcda8548-3c4a-4293-9af1-c2abf17f06b2",
   "metadata": {},
   "outputs": [
    {
     "data": {
      "text/plain": [
       "8"
      ]
     },
     "execution_count": 35,
     "metadata": {},
     "output_type": "execute_result"
    }
   ],
   "source": [
    "hoy = datetime.now()\n",
    "mes_actual = hoy.month\n",
    "mes_actual"
   ]
  },
  {
   "cell_type": "code",
   "execution_count": 36,
   "id": "3786a53f-7eb8-4e23-b23e-6ed6fd182f49",
   "metadata": {},
   "outputs": [
    {
     "data": {
      "text/html": [
       "<div>\n",
       "<style scoped>\n",
       "    .dataframe tbody tr th:only-of-type {\n",
       "        vertical-align: middle;\n",
       "    }\n",
       "\n",
       "    .dataframe tbody tr th {\n",
       "        vertical-align: top;\n",
       "    }\n",
       "\n",
       "    .dataframe thead th {\n",
       "        text-align: right;\n",
       "    }\n",
       "</style>\n",
       "<table border=\"1\" class=\"dataframe\">\n",
       "  <thead>\n",
       "    <tr style=\"text-align: right;\">\n",
       "      <th></th>\n",
       "      <th>unidad_01</th>\n",
       "      <th>unidad_02</th>\n",
       "      <th>area</th>\n",
       "      <th>area_cosechada</th>\n",
       "      <th>%avance</th>\n",
       "      <th>PRODUCCION</th>\n",
       "    </tr>\n",
       "  </thead>\n",
       "  <tbody>\n",
       "    <tr>\n",
       "      <th>0</th>\n",
       "      <td>216</td>\n",
       "      <td>LA_ESTACADA--AGUILERA</td>\n",
       "      <td>225.34</td>\n",
       "      <td>189.72</td>\n",
       "      <td>84.192775</td>\n",
       "      <td>15287.860465</td>\n",
       "    </tr>\n",
       "    <tr>\n",
       "      <th>1</th>\n",
       "      <td>217</td>\n",
       "      <td>FLAMBOYAN--AGUILERA</td>\n",
       "      <td>207.46</td>\n",
       "      <td>23.41</td>\n",
       "      <td>11.284103</td>\n",
       "      <td>14105.979993</td>\n",
       "    </tr>\n",
       "    <tr>\n",
       "      <th>2</th>\n",
       "      <td>256</td>\n",
       "      <td>LOS_ANDES--AGUILERA</td>\n",
       "      <td>423.24</td>\n",
       "      <td>218.45</td>\n",
       "      <td>51.613742</td>\n",
       "      <td>33770.218549</td>\n",
       "    </tr>\n",
       "  </tbody>\n",
       "</table>\n",
       "</div>"
      ],
      "text/plain": [
       "   unidad_01              unidad_02    area  area_cosechada    %avance  \\\n",
       "0        216  LA_ESTACADA--AGUILERA  225.34          189.72  84.192775   \n",
       "1        217    FLAMBOYAN--AGUILERA  207.46           23.41  11.284103   \n",
       "2        256    LOS_ANDES--AGUILERA  423.24          218.45  51.613742   \n",
       "\n",
       "     PRODUCCION  \n",
       "0  15287.860465  \n",
       "1  14105.979993  \n",
       "2  33770.218549  "
      ]
     },
     "execution_count": 36,
     "metadata": {},
     "output_type": "execute_result"
    }
   ],
   "source": [
    "# cambio de nombre de columna para hacer merge con la tabla de grupo\n",
    "catastro_avance = catastro_avance.rename(columns={'unidad_03':'cod_ca'})\n",
    "# merge \n",
    "catastro_merge = pd.merge(grupo, catastro_avance, on='cod_ca')\n",
    "# crea nueva columna \"area_cosecha\", se almacena en area si el campo estado=\"cosechado\"\n",
    "catastro_merge['area_cosechada'] = catastro_merge.apply(lambda row : row['area'] if row['estado'] == 'cosechado' else 0, axis=1)\n",
    "# calculo de area cosechada en el mes actual\n",
    "catastro_merge['avance_mes'] = catastro_merge.apply(lambda row : row['area'] if row['fc']!=None and row['fc'].split('-')[1] == str(mes_actual) else 0, axis=1)\n",
    "# agrupacion de datos por pripiedad, resumiendo por area, area_cosechada, avance_mes\n",
    "propiedades = catastro_merge.groupby(['unidad_01', 'unidad_02'])[['area', 'area_cosechada', 'avance_mes']].sum()\n",
    "# reseteo de index\n",
    "propiedades = propiedades.reset_index()\n",
    "# calculo de % de avance de cosecha\n",
    "propiedades['%avance'] = propiedades['area_cosechada'] / propiedades['area'] * 100\n",
    "# merge con las estimativas de produccion de cada propiedad\n",
    "propiedades = pd.merge(propiedades, xlsx_estimativas, on='unidad_01')\n",
    "# seleccion de columnas de interes\n",
    "propiedad = propiedades[['unidad_01', 'unidad_02', 'area', 'area_cosechada', '%avance', 'PRODUCCION']]\n",
    "propiedad"
   ]
  },
  {
   "cell_type": "code",
   "execution_count": 37,
   "id": "0572cfd3-5b1a-47d1-a12b-df01adb337b2",
   "metadata": {},
   "outputs": [
    {
     "data": {
      "text/plain": [
       "[propiedad(cod_prop=216, nom_prop='LA_ESTACADA--AGUILERA', area=225.34, area_cosechada=189.72, avance_porcen=84.19277536167569, produccion=15287.860465384705),\n",
       " propiedad(cod_prop=217, nom_prop='FLAMBOYAN--AGUILERA', area=207.45999999999998, area_cosechada=23.41, avance_porcen=11.284102959606672, produccion=14105.979992834908),\n",
       " propiedad(cod_prop=256, nom_prop='LOS_ANDES--AGUILERA', area=423.24, area_cosechada=218.45, avance_porcen=51.61374161232397, produccion=33770.21854870834)]"
      ]
     },
     "execution_count": 37,
     "metadata": {},
     "output_type": "execute_result"
    }
   ],
   "source": [
    "list_obj_props = []\n",
    "for index, row in propiedad.iterrows():\n",
    "    prop = {\n",
    "        'cod_prop' : row['unidad_01'],\n",
    "        'nom_prop' : row['unidad_02'],\n",
    "        'area' : row['area'],\n",
    "        'area_cosechada' : row['area_cosechada'],\n",
    "        'avance_porcen' : row['%avance'],\n",
    "        'produccion' : row['PRODUCCION']\n",
    "    }\n",
    "    list_obj_props.append(collections.namedtuple(\"propiedad\", prop.keys())(*prop.values()))\n",
    "list_obj_props"
   ]
  },
  {
   "cell_type": "code",
   "execution_count": 38,
   "id": "b1a23d3d-3059-4bd3-be4d-a6b7cfbf6e37",
   "metadata": {},
   "outputs": [
    {
     "data": {
      "text/plain": [
       "total(area=856.04, area_cosechada=431.58, avance_mes=0, avance_porcen=50.415868417363676, produccion=63164.05900692796)"
      ]
     },
     "execution_count": 38,
     "metadata": {},
     "output_type": "execute_result"
    }
   ],
   "source": [
    "# totales de tabla por columna\n",
    "propiedades_totales = {\n",
    "    'area':propiedades['area'].sum(),\n",
    "    'area_cosechada':propiedades['area_cosechada'].sum(),\n",
    "    'avance_mes':propiedades['avance_mes'].sum(),\n",
    "    'avance_porcen':propiedades['area_cosechada'].sum() / propiedades['area'].sum() * 100,\n",
    "    'produccion' : propiedad['PRODUCCION'].sum()\n",
    "}\n",
    "propiedades_totales\n",
    "obj_props_totales = collections.namedtuple(\"total\", propiedades_totales.keys())(*propiedades_totales.values())\n",
    "obj_props_totales"
   ]
  },
  {
   "cell_type": "markdown",
   "id": "29fa89e8-95af-4aa6-86ff-0a81773ff77c",
   "metadata": {},
   "source": [
    "# AVANCE POR VARIEDAD"
   ]
  },
  {
   "cell_type": "code",
   "execution_count": 39,
   "id": "2cc83af3-8c35-4f67-a75d-7a39e3259ed2",
   "metadata": {},
   "outputs": [
    {
     "data": {
      "text/plain": [
       "[propiedad(prop='LA_ESTACADA--AGUILERA', totales=totales(total_cosechado=189.72, total_area=225.33999999999997, total_porcen=84.1927753616757), variedades=[variedad(var='UCG_90-20', area_cosecha=96.41, area=104.64, porcen_avan=92.13493883792049), variedad(var='RB-2', area_cosecha=64.6, area=69.25, porcen_avan=93.28519855595667), variedad(var='CITTCA_85-22', area_cosecha=28.71, area=32.47, porcen_avan=88.42008007391439), variedad(var='SP_83-5073', area_cosecha=0.0, area=18.98, porcen_avan=0.0)]),\n",
       " propiedad(prop='LOS_ANDES--AGUILERA', totales=totales(total_cosechado=218.45000000000002, total_area=423.24, total_porcen=51.613741612323984), variedades=[variedad(var='UCG_90-20', area_cosecha=142.33, area=279.63, porcen_avan=50.89940278224797), variedad(var='CITTCA_85-22', area_cosecha=48.77, area=60.370000000000005, porcen_avan=80.78515819115455), variedad(var='SP_83-5073', area_cosecha=14.22, area=21.85, porcen_avan=65.08009153318078), variedad(var='RB-2', area_cosecha=11.450000000000001, area=30.63, porcen_avan=37.38165197518773), variedad(var='RB-4', area_cosecha=1.68, area=4.25, porcen_avan=39.52941176470588), variedad(var='CITTCA-0563', area_cosecha=0.0, area=15.510000000000002, porcen_avan=0.0), variedad(var='RBB_77-26', area_cosecha=0.0, area=11.0, porcen_avan=0.0)]),\n",
       " propiedad(prop='FLAMBOYAN--AGUILERA', totales=totales(total_cosechado=23.41, total_area=207.45999999999998, total_porcen=11.284102959606672), variedades=[variedad(var='CITTCA_85-22', area_cosecha=23.41, area=46.59, porcen_avan=50.2468340845675), variedad(var='RB-2', area_cosecha=0.0, area=35.26, porcen_avan=0.0), variedad(var='RBB_77-26', area_cosecha=0.0, area=2.03, porcen_avan=0.0), variedad(var='SP_83-5073', area_cosecha=0.0, area=40.72, porcen_avan=0.0), variedad(var='UCG_90-20', area_cosecha=0.0, area=82.86, porcen_avan=0.0)])]"
      ]
     },
     "execution_count": 39,
     "metadata": {},
     "output_type": "execute_result"
    }
   ],
   "source": [
    "# merge \n",
    "catastro_merge_2 = pd.merge(grupo, catastro_avance, on='cod_ca')\n",
    "# crea nueva columna \"area_cosecha\", se almacena en area si el campo estado=\"cosechado\"\n",
    "catastro_merge_2['area_cosechada'] = catastro_merge_2.apply(lambda row : row['area'] if row['estado'] == 'cosechado' else 0, axis=1)\n",
    "# extraer valores unicos en el campo unidad_02\n",
    "nom_props = list(set(catastro_merge_2['unidad_02']))\n",
    "# lista de objetos para almacenar una lista de propiedades\n",
    "list_obj_props_var = []\n",
    "for prop in nom_props:\n",
    "    # dict para almacenar una propiedad en concreto y su avance por variedad\n",
    "    data_obj_props = {}\n",
    "    data_obj_props['prop'] = prop\n",
    "    # selecciona todos los datos de una priedad en concreto segun en nombre en el campo unidad_02\n",
    "    avance_variedad = catastro_merge_2[catastro_merge_2['unidad_02']==prop]\n",
    "    # agrupa los datos segun variedad\n",
    "    avance_variedad = avance_variedad.groupby(['variedad'])[['area_cosechada', 'area']].sum()\n",
    "    # reinicia el index de dataframe\n",
    "    avance_variedad = avance_variedad.reset_index()\n",
    "    # ordemar por area cosechadad\n",
    "    avance_variedad = avance_variedad.sort_values(['area_cosechada'], ascending=False)\n",
    "    # calculo de porcentaje de avance\n",
    "    avance_variedad['porcen_avan'] = avance_variedad.apply(lambda row : row['area_cosechada']/row['area'] *100, axis=1)\n",
    "    # suma de totales\n",
    "    totales_variedad = {\n",
    "        'total_cosechado' : avance_variedad['area_cosechada'].sum(),\n",
    "        'total_area' : avance_variedad['area'].sum(),\n",
    "        'total_porcen' : avance_variedad['area_cosechada'].sum() / avance_variedad['area'].sum() * 100\n",
    "    }\n",
    "    # add totales a dict de datos de la prop\n",
    "    data_obj_props['totales'] = collections.namedtuple(\"totales\", totales_variedad.keys())(*totales_variedad.values())\n",
    "    \n",
    "    # objeto para almacenar las variedades\n",
    "    list_obj_vars = []\n",
    "    # recorres el dataframe de avande por variedad para convertir en obj cada fila\n",
    "    for index, row in avance_variedad.iterrows():\n",
    "        var = {\n",
    "            'var':row['variedad'],\n",
    "            'area_cosecha':row['area_cosechada'],\n",
    "            'area':row['area'],\n",
    "            'porcen_avan':row['porcen_avan']\n",
    "        }\n",
    "        list_obj_vars.append(collections.namedtuple(\"variedad\", var.keys())(*var.values()))\n",
    "    data_obj_props['variedades'] = list_obj_vars\n",
    "    list_obj_props_var.append(collections.namedtuple(\"propiedad\", data_obj_props.keys())(*data_obj_props.values()))\n",
    "list_obj_props_var"
   ]
  },
  {
   "cell_type": "markdown",
   "id": "18eca1b3-d9c1-4956-9a19-6c1156c91a86",
   "metadata": {},
   "source": [
    "## AVANCE POR CORTE"
   ]
  },
  {
   "cell_type": "code",
   "execution_count": 41,
   "id": "9ff2fd75-8838-4ade-929a-4b3c7e4dc27c",
   "metadata": {},
   "outputs": [
    {
     "name": "stderr",
     "output_type": "stream",
     "text": [
      "C:\\Users\\Bismar\\.conda\\envs\\utea_reportes\\lib\\site-packages\\ipykernel_launcher.py:23: SettingWithCopyWarning: \n",
      "A value is trying to be set on a copy of a slice from a DataFrame.\n",
      "Try using .loc[row_indexer,col_indexer] = value instead\n",
      "\n",
      "See the caveats in the documentation: https://pandas.pydata.org/pandas-docs/stable/user_guide/indexing.html#returning-a-view-versus-a-copy\n"
     ]
    },
    {
     "data": {
      "text/plain": [
       "[propiedad(prop='LA_ESTACADA--AGUILERA', socas=[soca(soca='1', area_cosecha=33.46, area=33.46, porcen_avan=100.0), soca(soca='2', area_cosecha=15.01, area=30.810000000000002, porcen_avan=48.71794871794871), soca(soca='3', area_cosecha=16.81, area=28.22, porcen_avan=59.56768249468462), soca(soca='4', area_cosecha=47.269999999999996, area=51.03, porcen_avan=92.63178522437781), soca(soca='5', area_cosecha=18.39, area=18.39, porcen_avan=100.0), soca(soca='6', area_cosecha=29.63, area=29.63, porcen_avan=100.0), soca(soca='7', area_cosecha=6.87, area=6.87, porcen_avan=100.0), soca(soca='8', area_cosecha=6.37, area=11.02, porcen_avan=57.80399274047188), soca(soca='>10', area_cosecha=15.91, area=15.91, porcen_avan=100.0)]),\n",
       " propiedad(prop='LOS_ANDES--AGUILERA', socas=[soca(soca='0', area_cosecha=84.94, area=129.42, porcen_avan=65.63127800958122), soca(soca='1', area_cosecha=63.03, area=123.73, porcen_avan=50.94156631374768), soca(soca='2', area_cosecha=9.81, area=26.009999999999998, porcen_avan=37.716262975778555), soca(soca='3', area_cosecha=4.29, area=27.54, porcen_avan=15.577342047930284), soca(soca='5', area_cosecha=20.98, area=32.26, porcen_avan=65.03409795412276), soca(soca='6', area_cosecha=0.0, area=4.14, porcen_avan=0.0), soca(soca='7', area_cosecha=6.17, area=6.17, porcen_avan=100.0), soca(soca='9', area_cosecha=7.16, area=49.01, porcen_avan=14.609263415629464), soca(soca='>10', area_cosecha=22.07, area=24.96, porcen_avan=88.42147435897436)]),\n",
       " propiedad(prop='FLAMBOYAN--AGUILERA', socas=[soca(soca='0', area_cosecha=15.46, area=15.46, porcen_avan=100.0), soca(soca='1', area_cosecha=0.0, area=10.17, porcen_avan=0.0), soca(soca='2', area_cosecha=6.0, area=45.699999999999996, porcen_avan=13.12910284463895), soca(soca='3', area_cosecha=0.0, area=25.439999999999998, porcen_avan=0.0), soca(soca='4', area_cosecha=0.0, area=56.58, porcen_avan=0.0), soca(soca='6', area_cosecha=0.0, area=13.0, porcen_avan=0.0), soca(soca='7', area_cosecha=1.95, area=20.67, porcen_avan=9.433962264150942), soca(soca='8', area_cosecha=0.0, area=3.79, porcen_avan=0.0), soca(soca='9', area_cosecha=0.0, area=16.65, porcen_avan=0.0)])]"
      ]
     },
     "execution_count": 41,
     "metadata": {},
     "output_type": "execute_result"
    }
   ],
   "source": [
    "# merge \n",
    "catastro_merge_3 = pd.merge(grupo, catastro_avance, on='cod_ca')\n",
    "# crea nueva columna \"area_cosecha\", se almacena en area si el campo estado=\"cosechado\"\n",
    "catastro_merge_3['area_cosechada'] = catastro_merge_3.apply(lambda row : row['area'] if row['estado'] == 'cosechado' else 0, axis=1)\n",
    "# extraer valores unicos en el campo unidad_02\n",
    "nom_props = list(set(catastro_merge_3['unidad_02']))\n",
    "# lista de objetos para almacenar una lista de propiedades\n",
    "list_obj_props_soca = []\n",
    "for prop in nom_props:\n",
    "    # dict para almacenar una propiedad en concreto y su avance por variedad\n",
    "    data_obj_props = {}\n",
    "    data_obj_props['prop'] = prop\n",
    "    avance_corte = catastro_merge_3[catastro_merge_3['unidad_02']==prop]\n",
    "    #avance_corte['soca'] = avance_corte['soca'].astype(int)\n",
    "    suma_area = avance_corte.loc[avance_corte['soca'] >= 10, 'area'].sum()\n",
    "    if (suma_area > 0):\n",
    "        suma_area_cosechada = avance_corte.loc[avance_corte['soca'] >= 10, 'area_cosechada'].sum()\n",
    "        avance_corte= avance_corte[avance_corte['soca'] < 10]\n",
    "        avance_corte['soca'] = avance_corte['soca'].astype(str)\n",
    "        new_reg = {'soca': '>10', 'area': suma_area, 'area_cosechada': suma_area_cosechada}\n",
    "        avance_corte = avance_corte.append(new_reg, ignore_index=True)\n",
    "    else:\n",
    "        avance_corte['soca'] = avance_corte['soca'].astype(str)\n",
    "    #agrupacion de datos por propiedad, resumiendo por area, area_cosechada, avance_mes\n",
    "    avance_corte = avance_corte.groupby(['soca'])[['area_cosechada', 'area']].sum()\n",
    "    # reseteo de index\n",
    "    avance_corte = avance_corte.reset_index()\n",
    "    # ordemar por soca\n",
    "    avance_corte = avance_corte.sort_values(['soca'])\n",
    "    # calculo de porcentaje de avance\n",
    "    avance_corte['porcen_avan'] = avance_corte.apply(lambda row : row['area_cosechada']/row['area'] *100, axis=1)\n",
    "    \n",
    "    \n",
    "    list_obj_soca = []\n",
    "    # recorres el dataframe de avance por soca para convertir en obj cada fila\n",
    "    for index, row in avance_corte.iterrows():\n",
    "        soca = {\n",
    "            'soca': row['soca'],\n",
    "            'area_cosecha':row['area_cosechada'],\n",
    "            'area':row['area'],\n",
    "            'porcen_avan':row['porcen_avan']\n",
    "        }\n",
    "        list_obj_soca.append(collections.namedtuple(\"soca\", soca.keys())(*soca.values()))\n",
    "    data_obj_props['socas'] = list_obj_soca\n",
    "    list_obj_props_soca.append(collections.namedtuple(\"propiedad\", data_obj_props.keys())(*data_obj_props.values()))\n",
    "list_obj_props_soca"
   ]
  },
  {
   "cell_type": "markdown",
   "id": "abe90405-cac9-465d-b421-79f8a7f19e8a",
   "metadata": {
    "tags": []
   },
   "source": [
    "## TABLA AVANCE GENERAL"
   ]
  },
  {
   "cell_type": "code",
   "execution_count": 42,
   "id": "529edb12-e72b-47f9-a4c4-f0ec96cb3473",
   "metadata": {},
   "outputs": [],
   "source": [
    "fecha_anterior = datetime(2023, 5, 5)\n",
    "fecha_actual = datetime.now()"
   ]
  },
  {
   "cell_type": "code",
   "execution_count": 43,
   "id": "48d16f8d-bef4-4782-ada1-39aeab45fbf2",
   "metadata": {},
   "outputs": [],
   "source": [
    "dias_zafra = (fecha_actual - fecha_anterior).days"
   ]
  },
  {
   "cell_type": "code",
   "execution_count": 44,
   "id": "fc0e22d9-b8cc-43c3-aef5-1b6a52f9287b",
   "metadata": {},
   "outputs": [
    {
     "data": {
      "text/plain": [
       "avance_gral(avance_area_porcen=50.415868417363676, avance_tn_porcen=63.15688378601054, tiempo_porcen=52.046783625730995, area_requerida=445.5412865497076, cumplimiento_area_porcen=96.86644381313695, tn_requeridas=32874.86112056484, cumplimiento_tn_porcen=125.82118552015744)"
      ]
     },
     "execution_count": 44,
     "metadata": {},
     "output_type": "execute_result"
    }
   ],
   "source": [
    "totales_avance_gral = {\n",
    "    'avance_area_porcen' : propiedades_totales['avance_porcen'],\n",
    "    'avance_tn_porcen' : grupo_totales['porcen'],\n",
    "    'tiempo_porcen' : (dias_zafra / 171) * 100,\n",
    "    'area_requerida' : propiedades_totales['area'] * (dias_zafra / 171),\n",
    "    'cumplimiento_area_porcen' : propiedades_totales['area_cosechada']/(propiedades_totales['area'] * (dias_zafra / 171)) * 100,\n",
    "    'tn_requeridas' : (propiedades_totales['produccion'])*(dias_zafra / 171),\n",
    "    'cumplimiento_tn_porcen' : grupo_totales['entrega']/((propiedades_totales['produccion'])*(dias_zafra / 171)) * 100\n",
    "}\n",
    "totales_avance_gral\n",
    "obj_avance_gral = collections.namedtuple(\"avance_gral\", totales_avance_gral.keys())(*totales_avance_gral.values())\n",
    "obj_avance_gral"
   ]
  },
  {
   "cell_type": "code",
   "execution_count": 46,
   "id": "831cd463-2e18-4bf6-80a5-83c6d57f9d54",
   "metadata": {},
   "outputs": [],
   "source": [
    "doc = DocxTemplate(ruta + \"/_test/tpl_rpt_avance_cosecha.docx\")\n",
    "context = {\n",
    "    'grupo' : list_obj_grupo, \n",
    "    'g_totales' : obj_grupo_totales,\n",
    "    'prop' : list_obj_props,\n",
    "    'p_totales' : obj_props_totales,\n",
    "    'vars' : list_obj_props_var,\n",
    "    'soca' : list_obj_props_soca,\n",
    "    'avance' : obj_avance_gral\n",
    "}\n",
    "doc.render(context)\n",
    "doc.save(ruta + '/_test/data.docx')"
   ]
  },
  {
   "cell_type": "code",
   "execution_count": null,
   "id": "3306fbb7-841c-456d-9218-c1c92ebd0b5f",
   "metadata": {},
   "outputs": [],
   "source": []
  },
  {
   "cell_type": "code",
   "execution_count": null,
   "id": "0f28d3ff-c708-4424-b2a4-039b39063d76",
   "metadata": {},
   "outputs": [],
   "source": []
  },
  {
   "cell_type": "code",
   "execution_count": null,
   "id": "0a4bed3f-33fe-4340-8c93-af90ff5de715",
   "metadata": {},
   "outputs": [],
   "source": []
  },
  {
   "cell_type": "code",
   "execution_count": null,
   "id": "8a459fa4-07bc-4fe0-8325-5800d68a362c",
   "metadata": {},
   "outputs": [],
   "source": []
  },
  {
   "cell_type": "code",
   "execution_count": null,
   "id": "cf63721a-5dc2-4a51-9def-9e1e1269ab61",
   "metadata": {},
   "outputs": [],
   "source": []
  },
  {
   "cell_type": "code",
   "execution_count": null,
   "id": "460c9d9a-8de1-4b9d-8f28-7a2bd1c6e1e6",
   "metadata": {},
   "outputs": [],
   "source": []
  },
  {
   "cell_type": "code",
   "execution_count": null,
   "id": "d0bb83fd-bad9-48e5-8e93-af03e413e3de",
   "metadata": {},
   "outputs": [],
   "source": []
  },
  {
   "cell_type": "code",
   "execution_count": null,
   "id": "be648606-990f-491d-a875-f9047beb6038",
   "metadata": {},
   "outputs": [],
   "source": []
  },
  {
   "cell_type": "code",
   "execution_count": null,
   "id": "f31a6a6e-1053-4dd6-8a05-cd288bb344a5",
   "metadata": {},
   "outputs": [],
   "source": []
  },
  {
   "cell_type": "code",
   "execution_count": null,
   "id": "82f0d99f-488d-416a-9194-623eeff9b421",
   "metadata": {},
   "outputs": [],
   "source": []
  },
  {
   "cell_type": "code",
   "execution_count": null,
   "id": "8b9b115d-a6cc-4b5c-8c62-01af661a4e0a",
   "metadata": {},
   "outputs": [],
   "source": []
  },
  {
   "cell_type": "code",
   "execution_count": null,
   "id": "9c5a80d0-8148-490d-ac5a-7bc84f79ef86",
   "metadata": {},
   "outputs": [],
   "source": []
  },
  {
   "cell_type": "code",
   "execution_count": null,
   "id": "513706c8-38d0-40bc-b881-3e9465f9b1e9",
   "metadata": {},
   "outputs": [],
   "source": []
  },
  {
   "cell_type": "code",
   "execution_count": null,
   "id": "27d0a896-4d7f-4342-b1b2-446ebf143615",
   "metadata": {},
   "outputs": [],
   "source": []
  },
  {
   "cell_type": "code",
   "execution_count": null,
   "id": "9c569965-af1c-4891-90c9-b381db6c1154",
   "metadata": {},
   "outputs": [],
   "source": []
  },
  {
   "cell_type": "code",
   "execution_count": null,
   "id": "117c16c7-01b6-4e2a-a0ec-94f46846ec9a",
   "metadata": {},
   "outputs": [],
   "source": []
  },
  {
   "cell_type": "code",
   "execution_count": null,
   "id": "3c557a61-b416-4a37-b8ac-89d03d8c0215",
   "metadata": {},
   "outputs": [],
   "source": []
  },
  {
   "cell_type": "markdown",
   "id": "6b9b66b6-c9ca-4503-854b-f6f255e2f775",
   "metadata": {},
   "source": [
    "# Convertir a PDF"
   ]
  },
  {
   "cell_type": "code",
   "execution_count": 249,
   "id": "88c39fc0-6eae-4cb9-8ae6-82f300e460cc",
   "metadata": {},
   "outputs": [],
   "source": [
    "import os"
   ]
  },
  {
   "cell_type": "code",
   "execution_count": 250,
   "id": "b42f65b0-aa79-4a0b-9724-1c11d41488b7",
   "metadata": {},
   "outputs": [],
   "source": [
    "from docx2pdf import convert"
   ]
  },
  {
   "cell_type": "code",
   "execution_count": 251,
   "id": "92923e4c-51e2-4cef-82e1-4e36c4b12e51",
   "metadata": {},
   "outputs": [
    {
     "name": "stdout",
     "output_type": "stream",
     "text": [
      "SE ENCONTRARON 1 INFORMES\n",
      "1 INFORMES\n"
     ]
    },
    {
     "data": {
      "text/plain": [
       "['reportes//911_ADC_09-06-2023_BALCAZAR JUSTINIANO MARIO.docx']"
      ]
     },
     "execution_count": 251,
     "metadata": {},
     "output_type": "execute_result"
    }
   ],
   "source": [
    "path = r'reportes/'\n",
    "contenido = os.listdir(path)\n",
    "rutas =[]\n",
    "i = 0\n",
    "for name in contenido:\n",
    "    rutas.append(path + '/' + name)\n",
    "    i+=1\n",
    "\n",
    "print('SE ENCONTRARON ' + str(i) + ' INFORMES')\n",
    "print(len(rutas), 'INFORMES')\n",
    "rutas"
   ]
  },
  {
   "cell_type": "code",
   "execution_count": 252,
   "id": "1b6e306c-6a4a-44d4-ba28-539c658c1645",
   "metadata": {},
   "outputs": [
    {
     "name": "stdout",
     "output_type": "stream",
     "text": [
      "CONVIRTIENDO... INFORME 1 reportes//911_ADC_09-06-2023_BALCAZAR JUSTINIANO MARIO.docx\n",
      "reportes//911_ADC_09-06-2023_BALCAZAR JUSTINIANO MARIO.docx\n",
      "reportes//911_ADC_09-06-2023_BALCAZAR JUSTINIANO MARIO.pdf\n"
     ]
    },
    {
     "data": {
      "application/vnd.jupyter.widget-view+json": {
       "model_id": "fad5a948f089412487c9fafd0b0900a7",
       "version_major": 2,
       "version_minor": 0
      },
      "text/plain": [
       "  0%|          | 0/1 [00:00<?, ?it/s]"
      ]
     },
     "metadata": {},
     "output_type": "display_data"
    },
    {
     "name": "stdout",
     "output_type": "stream",
     "text": [
      "END\n"
     ]
    }
   ],
   "source": [
    "i = 1\n",
    "for filename in rutas:\n",
    "    print('CONVIRTIENDO... INFORME ' + str(i) + ' ' + filename)\n",
    "    # se realiza la convrsion pasando parametro de salida y entrada, \n",
    "    # para la salida se reemplaza la extencion y la ruta\n",
    "    print(filename)\n",
    "    print(filename.replace('.docx','.pdf').replace('informes','pdfs'))\n",
    "    pdf = filename.replace('.docx','.pdf').split('/')[-1]\n",
    "    convert(filename, r'pdf/' + pdf)\n",
    "    i+=1\n",
    "print('END')"
   ]
  },
  {
   "cell_type": "markdown",
   "id": "01ff1240-1ee0-41e9-a0c5-fa885efed684",
   "metadata": {},
   "source": [
    "# leer ruta de planos"
   ]
  },
  {
   "cell_type": "code",
   "execution_count": 253,
   "id": "5752bf23-b138-46b0-a565-dbe254a57bdd",
   "metadata": {},
   "outputs": [
    {
     "name": "stdout",
     "output_type": "stream",
     "text": [
      "SE ENCONTRARON 1 INFORMES\n",
      "1 INFORMES\n"
     ]
    }
   ],
   "source": [
    "path = r'pdf/'\n",
    "contenido = os.listdir(path)\n",
    "rutas =[]\n",
    "i = 0\n",
    "for name in contenido:\n",
    "    rutas.append(path + '/' + name)\n",
    "    i+=1\n",
    "\n",
    "print('SE ENCONTRARON ' + str(i) + ' INFORMES')\n",
    "print(len(rutas), 'INFORMES')"
   ]
  },
  {
   "cell_type": "code",
   "execution_count": 254,
   "id": "6163f9ef-5862-45e9-9dee-93573d3e28f4",
   "metadata": {},
   "outputs": [],
   "source": [
    "reporte = rutas[0]"
   ]
  },
  {
   "cell_type": "code",
   "execution_count": 255,
   "id": "bdbf8fbf-e471-4133-ace7-67c34d60e6d3",
   "metadata": {},
   "outputs": [
    {
     "data": {
      "text/plain": [
       "'pdf//911_ADC_09-06-2023_BALCAZAR JUSTINIANO MARIO.pdf'"
      ]
     },
     "execution_count": 255,
     "metadata": {},
     "output_type": "execute_result"
    }
   ],
   "source": [
    "reporte"
   ]
  },
  {
   "cell_type": "code",
   "execution_count": 256,
   "id": "5e01f486-a895-48fc-a234-81a86c050a0f",
   "metadata": {},
   "outputs": [],
   "source": [
    "list_pdfs = []\n",
    "list_pdfs.append(reporte)"
   ]
  },
  {
   "cell_type": "code",
   "execution_count": 257,
   "id": "8ce6fed8-1e64-4295-902c-e7a9682c1ae3",
   "metadata": {},
   "outputs": [
    {
     "data": {
      "text/plain": [
       "['pdf//911_ADC_09-06-2023_BALCAZAR JUSTINIANO MARIO.pdf']"
      ]
     },
     "execution_count": 257,
     "metadata": {},
     "output_type": "execute_result"
    }
   ],
   "source": [
    "list_pdfs"
   ]
  },
  {
   "cell_type": "code",
   "execution_count": 258,
   "id": "55914eb1-3041-49f5-a152-e5e59f448513",
   "metadata": {},
   "outputs": [
    {
     "name": "stdout",
     "output_type": "stream",
     "text": [
      "SE ENCONTRARON 1578 INFORMES\n",
      "1578 INFORMES\n"
     ]
    }
   ],
   "source": [
    "path = r'D:\\Ingenio Azucarero Guabira S.A\\UTEA - SEMANAL - AVANCE COSECHA\\2023\\ANALISIS DE CAÑA EN CAMPO 2023\\REPORTE_AVANCE_COSECHA\\PLANOS'\n",
    "contenido = os.listdir(path)\n",
    "rutas =[]\n",
    "i = 0\n",
    "for name in contenido:\n",
    "    rutas.append(path + '/' + name)\n",
    "    i+=1\n",
    "\n",
    "print('SE ENCONTRARON ' + str(i) + ' INFORMES')\n",
    "print(len(rutas), 'INFORMES')"
   ]
  },
  {
   "cell_type": "code",
   "execution_count": 259,
   "id": "e518cac4-7ecb-4fe1-ac32-4b3827c50b9b",
   "metadata": {},
   "outputs": [],
   "source": [
    "data  = {}\n",
    "for i in rutas:\n",
    "    cod_prop = i.split('_')[-1].split('.')[0]\n",
    "    data[cod_prop]=i"
   ]
  },
  {
   "cell_type": "code",
   "execution_count": 260,
   "id": "e40bb3e1-2075-4ff6-87bf-9671ae3810b0",
   "metadata": {},
   "outputs": [
    {
     "data": {
      "text/plain": [
       "'D:\\\\Ingenio Azucarero Guabira S.A\\\\UTEA - SEMANAL - AVANCE COSECHA\\\\2023\\\\ANALISIS DE CAÑA EN CAMPO 2023\\\\REPORTE_AVANCE_COSECHA\\\\PLANOS/PLANO_30.pdf'"
      ]
     },
     "execution_count": 260,
     "metadata": {},
     "output_type": "execute_result"
    }
   ],
   "source": [
    "data['30']"
   ]
  },
  {
   "cell_type": "code",
   "execution_count": 261,
   "id": "1359f77f-2d3b-4348-828e-61d3768b7665",
   "metadata": {},
   "outputs": [
    {
     "data": {
      "text/html": [
       "<div>\n",
       "<style scoped>\n",
       "    .dataframe tbody tr th:only-of-type {\n",
       "        vertical-align: middle;\n",
       "    }\n",
       "\n",
       "    .dataframe tbody tr th {\n",
       "        vertical-align: top;\n",
       "    }\n",
       "\n",
       "    .dataframe thead th {\n",
       "        text-align: right;\n",
       "    }\n",
       "</style>\n",
       "<table border=\"1\" class=\"dataframe\">\n",
       "  <thead>\n",
       "    <tr style=\"text-align: right;\">\n",
       "      <th></th>\n",
       "      <th>unidad_01</th>\n",
       "      <th>unidad_02</th>\n",
       "      <th>area</th>\n",
       "      <th>area_cosechada</th>\n",
       "      <th>TCH</th>\n",
       "      <th>sin_cosechar</th>\n",
       "      <th>produccion_total</th>\n",
       "      <th>produccion_restante</th>\n",
       "      <th>produccion_cosechado</th>\n",
       "    </tr>\n",
       "  </thead>\n",
       "  <tbody>\n",
       "    <tr>\n",
       "      <th>0</th>\n",
       "      <td>732</td>\n",
       "      <td>EL_PUESTO--BALCAZAR</td>\n",
       "      <td>18.59</td>\n",
       "      <td>1.22</td>\n",
       "      <td>46.944692</td>\n",
       "      <td>17.37</td>\n",
       "      <td>872.701825</td>\n",
       "      <td>815.429300</td>\n",
       "      <td>57.272524</td>\n",
       "    </tr>\n",
       "    <tr>\n",
       "      <th>1</th>\n",
       "      <td>733</td>\n",
       "      <td>LAS_PARCELAS--BALCAZAR</td>\n",
       "      <td>20.18</td>\n",
       "      <td>0.00</td>\n",
       "      <td>45.217658</td>\n",
       "      <td>20.18</td>\n",
       "      <td>912.492343</td>\n",
       "      <td>912.492343</td>\n",
       "      <td>0.000000</td>\n",
       "    </tr>\n",
       "    <tr>\n",
       "      <th>2</th>\n",
       "      <td>749</td>\n",
       "      <td>SAN_JORGE_DE_NAICO(EL_TRILLO)--BALCAZAR</td>\n",
       "      <td>25.09</td>\n",
       "      <td>4.28</td>\n",
       "      <td>43.599069</td>\n",
       "      <td>20.81</td>\n",
       "      <td>1093.900635</td>\n",
       "      <td>907.296621</td>\n",
       "      <td>186.604014</td>\n",
       "    </tr>\n",
       "    <tr>\n",
       "      <th>3</th>\n",
       "      <td>750</td>\n",
       "      <td>EL_CARMEN_NAICO--BALCAZAR</td>\n",
       "      <td>7.06</td>\n",
       "      <td>0.00</td>\n",
       "      <td>47.181886</td>\n",
       "      <td>7.06</td>\n",
       "      <td>333.104118</td>\n",
       "      <td>333.104118</td>\n",
       "      <td>0.000000</td>\n",
       "    </tr>\n",
       "    <tr>\n",
       "      <th>4</th>\n",
       "      <td>1694</td>\n",
       "      <td>EL_TRILLO--BALCAZAR_RAMON</td>\n",
       "      <td>25.88</td>\n",
       "      <td>1.24</td>\n",
       "      <td>48.479291</td>\n",
       "      <td>24.64</td>\n",
       "      <td>1254.644064</td>\n",
       "      <td>1194.529742</td>\n",
       "      <td>60.114321</td>\n",
       "    </tr>\n",
       "    <tr>\n",
       "      <th>5</th>\n",
       "      <td>1818</td>\n",
       "      <td>EL_PUESTO--BALCAZAR_RAMON</td>\n",
       "      <td>8.10</td>\n",
       "      <td>4.04</td>\n",
       "      <td>45.167463</td>\n",
       "      <td>4.06</td>\n",
       "      <td>365.856452</td>\n",
       "      <td>183.379901</td>\n",
       "      <td>182.476551</td>\n",
       "    </tr>\n",
       "    <tr>\n",
       "      <th>6</th>\n",
       "      <td>1819</td>\n",
       "      <td>EL_PUESTO--BALCAZAR_SOLETO_MARIO</td>\n",
       "      <td>3.54</td>\n",
       "      <td>0.00</td>\n",
       "      <td>39.509156</td>\n",
       "      <td>3.54</td>\n",
       "      <td>139.862413</td>\n",
       "      <td>139.862413</td>\n",
       "      <td>0.000000</td>\n",
       "    </tr>\n",
       "    <tr>\n",
       "      <th>7</th>\n",
       "      <td>1820</td>\n",
       "      <td>SAN_JORGE--BALCAZAR_SOLETO_MARIO</td>\n",
       "      <td>4.71</td>\n",
       "      <td>0.00</td>\n",
       "      <td>53.842054</td>\n",
       "      <td>4.71</td>\n",
       "      <td>253.596073</td>\n",
       "      <td>253.596073</td>\n",
       "      <td>0.000000</td>\n",
       "    </tr>\n",
       "  </tbody>\n",
       "</table>\n",
       "</div>"
      ],
      "text/plain": [
       "   unidad_01                                unidad_02   area  area_cosechada  \\\n",
       "0        732                      EL_PUESTO--BALCAZAR  18.59            1.22   \n",
       "1        733                   LAS_PARCELAS--BALCAZAR  20.18            0.00   \n",
       "2        749  SAN_JORGE_DE_NAICO(EL_TRILLO)--BALCAZAR  25.09            4.28   \n",
       "3        750                EL_CARMEN_NAICO--BALCAZAR   7.06            0.00   \n",
       "4       1694                EL_TRILLO--BALCAZAR_RAMON  25.88            1.24   \n",
       "5       1818                EL_PUESTO--BALCAZAR_RAMON   8.10            4.04   \n",
       "6       1819         EL_PUESTO--BALCAZAR_SOLETO_MARIO   3.54            0.00   \n",
       "7       1820         SAN_JORGE--BALCAZAR_SOLETO_MARIO   4.71            0.00   \n",
       "\n",
       "         TCH  sin_cosechar  produccion_total  produccion_restante  \\\n",
       "0  46.944692         17.37        872.701825           815.429300   \n",
       "1  45.217658         20.18        912.492343           912.492343   \n",
       "2  43.599069         20.81       1093.900635           907.296621   \n",
       "3  47.181886          7.06        333.104118           333.104118   \n",
       "4  48.479291         24.64       1254.644064          1194.529742   \n",
       "5  45.167463          4.06        365.856452           183.379901   \n",
       "6  39.509156          3.54        139.862413           139.862413   \n",
       "7  53.842054          4.71        253.596073           253.596073   \n",
       "\n",
       "   produccion_cosechado  \n",
       "0             57.272524  \n",
       "1              0.000000  \n",
       "2            186.604014  \n",
       "3              0.000000  \n",
       "4             60.114321  \n",
       "5            182.476551  \n",
       "6              0.000000  \n",
       "7              0.000000  "
      ]
     },
     "execution_count": 261,
     "metadata": {},
     "output_type": "execute_result"
    }
   ],
   "source": [
    "df"
   ]
  },
  {
   "cell_type": "code",
   "execution_count": 262,
   "id": "9099706a-5664-4a13-b335-d5214bb84760",
   "metadata": {},
   "outputs": [],
   "source": [
    "for row in df.itertuples():\n",
    "    cod_prop = row.unidad_01\n",
    "    ruta_prop = data[str(cod_prop)]\n",
    "    list_pdfs.append(ruta_prop)"
   ]
  },
  {
   "cell_type": "code",
   "execution_count": 263,
   "id": "69d51159-59c2-4ee8-b8c9-f9e1b02cd5d2",
   "metadata": {},
   "outputs": [
    {
     "data": {
      "text/plain": [
       "['pdf//911_ADC_09-06-2023_BALCAZAR JUSTINIANO MARIO.pdf',\n",
       " 'D:\\\\Ingenio Azucarero Guabira S.A\\\\UTEA - SEMANAL - AVANCE COSECHA\\\\2023\\\\ANALISIS DE CAÑA EN CAMPO 2023\\\\REPORTE_AVANCE_COSECHA\\\\PLANOS/PLANO_732.pdf',\n",
       " 'D:\\\\Ingenio Azucarero Guabira S.A\\\\UTEA - SEMANAL - AVANCE COSECHA\\\\2023\\\\ANALISIS DE CAÑA EN CAMPO 2023\\\\REPORTE_AVANCE_COSECHA\\\\PLANOS/PLANO_733.pdf',\n",
       " 'D:\\\\Ingenio Azucarero Guabira S.A\\\\UTEA - SEMANAL - AVANCE COSECHA\\\\2023\\\\ANALISIS DE CAÑA EN CAMPO 2023\\\\REPORTE_AVANCE_COSECHA\\\\PLANOS/PLANO_749.pdf',\n",
       " 'D:\\\\Ingenio Azucarero Guabira S.A\\\\UTEA - SEMANAL - AVANCE COSECHA\\\\2023\\\\ANALISIS DE CAÑA EN CAMPO 2023\\\\REPORTE_AVANCE_COSECHA\\\\PLANOS/PLANO_750.pdf',\n",
       " 'D:\\\\Ingenio Azucarero Guabira S.A\\\\UTEA - SEMANAL - AVANCE COSECHA\\\\2023\\\\ANALISIS DE CAÑA EN CAMPO 2023\\\\REPORTE_AVANCE_COSECHA\\\\PLANOS/PLANO_1694.pdf',\n",
       " 'D:\\\\Ingenio Azucarero Guabira S.A\\\\UTEA - SEMANAL - AVANCE COSECHA\\\\2023\\\\ANALISIS DE CAÑA EN CAMPO 2023\\\\REPORTE_AVANCE_COSECHA\\\\PLANOS/PLANO_1818.pdf',\n",
       " 'D:\\\\Ingenio Azucarero Guabira S.A\\\\UTEA - SEMANAL - AVANCE COSECHA\\\\2023\\\\ANALISIS DE CAÑA EN CAMPO 2023\\\\REPORTE_AVANCE_COSECHA\\\\PLANOS/PLANO_1819.pdf',\n",
       " 'D:\\\\Ingenio Azucarero Guabira S.A\\\\UTEA - SEMANAL - AVANCE COSECHA\\\\2023\\\\ANALISIS DE CAÑA EN CAMPO 2023\\\\REPORTE_AVANCE_COSECHA\\\\PLANOS/PLANO_1820.pdf']"
      ]
     },
     "execution_count": 263,
     "metadata": {},
     "output_type": "execute_result"
    }
   ],
   "source": [
    "list_pdfs"
   ]
  },
  {
   "cell_type": "code",
   "execution_count": 264,
   "id": "4dce9633-c8d6-4e67-91ed-875e9811214a",
   "metadata": {},
   "outputs": [],
   "source": [
    "from PyPDF2 import PdfMerger"
   ]
  },
  {
   "cell_type": "code",
   "execution_count": 265,
   "id": "e53e9c90-c499-4af8-834f-9c419592cf92",
   "metadata": {},
   "outputs": [
    {
     "data": {
      "text/plain": [
       "'pdf_final//911_ADC_09-06-2023_BALCAZAR JUSTINIANO MARIO.pdf'"
      ]
     },
     "execution_count": 265,
     "metadata": {},
     "output_type": "execute_result"
    }
   ],
   "source": [
    "filename.replace('reportes', 'pdf_final').replace('docx', 'pdf')"
   ]
  },
  {
   "cell_type": "code",
   "execution_count": 266,
   "id": "4f6b4d10-a5c2-45ce-acce-bce6c3d44631",
   "metadata": {},
   "outputs": [],
   "source": [
    "nombre_archivo_salida = filename.replace('reportes', 'pdf_final').replace('docx', 'pdf')"
   ]
  },
  {
   "cell_type": "code",
   "execution_count": 267,
   "id": "25e914ff-9eb6-42b5-8104-dd73567eaf66",
   "metadata": {},
   "outputs": [],
   "source": [
    "fusionador = PdfMerger()"
   ]
  },
  {
   "cell_type": "code",
   "execution_count": 268,
   "id": "a1c0f2ed-63bf-4690-9f25-c6a68a063073",
   "metadata": {},
   "outputs": [],
   "source": [
    "for pdf in list_pdfs:\n",
    "    fusionador.append(open(pdf, 'rb'))"
   ]
  },
  {
   "cell_type": "code",
   "execution_count": 269,
   "id": "16cd8915-4edb-41eb-82bd-0f33553c14ac",
   "metadata": {},
   "outputs": [],
   "source": [
    "with open(nombre_archivo_salida, 'wb') as salida:\n",
    "    fusionador.write(salida)"
   ]
  },
  {
   "cell_type": "code",
   "execution_count": null,
   "id": "88ecdf1c-cb58-4f57-b6ce-991606f003c6",
   "metadata": {},
   "outputs": [],
   "source": []
  },
  {
   "cell_type": "code",
   "execution_count": null,
   "id": "c1e14bb5-8e2c-42fc-8a09-e7c872cb8dec",
   "metadata": {},
   "outputs": [],
   "source": []
  },
  {
   "cell_type": "code",
   "execution_count": null,
   "id": "db684d01-a009-4e9f-b3f7-0c0e91d6e786",
   "metadata": {},
   "outputs": [],
   "source": []
  },
  {
   "cell_type": "code",
   "execution_count": null,
   "id": "a19c4ffc-89b0-4db0-81d2-2cf6c0a701ac",
   "metadata": {},
   "outputs": [],
   "source": []
  },
  {
   "cell_type": "code",
   "execution_count": null,
   "id": "0ffa553b-ccb6-464e-9ced-f64761da9c19",
   "metadata": {},
   "outputs": [],
   "source": []
  },
  {
   "cell_type": "code",
   "execution_count": null,
   "id": "c58ab25a-7807-49cf-8e9f-fd04cb8949be",
   "metadata": {},
   "outputs": [],
   "source": []
  },
  {
   "cell_type": "code",
   "execution_count": null,
   "id": "bac5f75c-ba9c-426f-803f-ceb6d360d0fc",
   "metadata": {},
   "outputs": [],
   "source": []
  },
  {
   "cell_type": "code",
   "execution_count": null,
   "id": "cbdfebe0-7b91-44bf-af03-7ae67878d9cb",
   "metadata": {},
   "outputs": [],
   "source": []
  },
  {
   "cell_type": "code",
   "execution_count": null,
   "id": "e5d37558-5dbc-42b3-bf7c-9f79140ae770",
   "metadata": {},
   "outputs": [],
   "source": []
  }
 ],
 "metadata": {
  "kernelspec": {
   "display_name": "Python 3 (ipykernel)",
   "language": "python",
   "name": "python3"
  },
  "language_info": {
   "codemirror_mode": {
    "name": "ipython",
    "version": 3
   },
   "file_extension": ".py",
   "mimetype": "text/x-python",
   "name": "python",
   "nbconvert_exporter": "python",
   "pygments_lexer": "ipython3",
   "version": "3.10.13"
  }
 },
 "nbformat": 4,
 "nbformat_minor": 5
}
