{
 "cells": [
  {
   "cell_type": "code",
   "execution_count": 90,
   "id": "2ff0227a-107e-43dd-bfe7-abee10f1f8dd",
   "metadata": {},
   "outputs": [],
   "source": [
    "import geopandas as gpd\n",
    "import matplotlib.pyplot as plt\n",
    "import pandas as pd\n",
    "from datetime import datetime\n",
    "\n",
    "import tkinter as tk\n",
    "from tkinter import filedialog as fd\n",
    "\n",
    "import collections\n",
    "\n",
    "from docxtpl import DocxTemplate\n",
    "import docxtpl\n",
    "from docx.shared import Mm"
   ]
  },
  {
   "cell_type": "code",
   "execution_count": 91,
   "id": "4449687d-24af-42c4-9220-14c7c5e07a21",
   "metadata": {},
   "outputs": [],
   "source": [
    "# open file dialog / catastro de avance\n",
    "root = tk.Tk()\n",
    "root.attributes('-topmost', True)\n",
    "root.iconify()\n",
    "file_name = fd.askopenfilename(parent=root, filetypes=[(\".shp\", \".shp\")])\n",
    "root.destroy()\n",
    "\n",
    "# open file dialog / xlsx de avance\n",
    "root = tk.Tk()\n",
    "root.attributes('-topmost', True)\n",
    "root.iconify()\n",
    "file_name = fd.askopenfilename(parent=root, filetypes=[(\".xlsx\", \".xlsx\")])\n",
    "root.destroy()"
   ]
  },
  {
   "cell_type": "code",
   "execution_count": 5,
   "id": "6df6f57e-a512-48f1-bde6-1b577b836e3c",
   "metadata": {},
   "outputs": [],
   "source": [
    "file_cat_avance = r'D:/Ingenio Azucarero Guabira S.A/UTEA - SEMANAL - AVANCE COSECHA/2023/ANALISIS DE CAÑA EN CAMPO 2023/REPORTE_AVANCE_COSECHA/SHP/cosecha090623.shp'\n",
    "file_xlsx_avance = r'D:/Ingenio Azucarero Guabira S.A/UTEA - SEMANAL - AVANCE COSECHA/2023/ANALISIS DE CAÑA EN CAMPO 2023/REPORTE_AVANCE_COSECHA/RENDIMIENTO AVANCE 090623.xlsx'"
   ]
  },
  {
   "cell_type": "code",
   "execution_count": 6,
   "id": "a1f30ba2-e2e0-4501-b275-6ccd94db7874",
   "metadata": {},
   "outputs": [],
   "source": [
    "catastro_avance = gpd.read_file(file_cat_avance)"
   ]
  },
  {
   "cell_type": "code",
   "execution_count": 8,
   "id": "90f3a1e6-a1a2-4258-a191-de9754034b1f",
   "metadata": {},
   "outputs": [],
   "source": [
    "data_avance = pd.read_excel(file_xlsx_avance)"
   ]
  },
  {
   "cell_type": "code",
   "execution_count": 9,
   "id": "87a46fb2-467a-442e-9262-a7c594bf6369",
   "metadata": {},
   "outputs": [],
   "source": [
    "# extraer codigos de cosecha\n",
    "codigos_cosecha = list(set(data_avance['COD COS']))"
   ]
  },
  {
   "cell_type": "code",
   "execution_count": 10,
   "id": "9dc05557-f4cf-4fa7-9a29-e77353af6c20",
   "metadata": {},
   "outputs": [
    {
     "name": "stdout",
     "output_type": "stream",
     "text": [
      "[1, 2, 3, 4, 5, 6, 7, 8, 9, 10, 11, 12, 13, 14, 15, 16, 17, 18, 19, 20, 21, 22, 23, 24, 25, 26, 28, 29, 30, 31, 32, 33, 34, 35, 36, 37, 38, 39, 40, 41, 42, 43, 44, 45, 46, 47, 48, 49, 50, 51, 52, 54, 55, 56, 57, 58, 59, 60, 61, 62, 63, 64, 65, 67, 68, 69, 70, 71, 72, 73, 74, 75, 76, 77, 78, 79, 80, 81, 82, 83, 84, 85, 86, 87, 88, 89, 90, 91, 92, 93, 94, 95, 96, 97, 98, 99, 100, 101, 102, 103, 104, 105, 106, 107, 108, 109, 110, 111, 112, 113, 114, 115, 116, 117, 118, 119, 120, 121, 122, 123, 124, 125, 126, 127, 128, 129, 130, 131, 132, 134, 135, 136, 137, 138, 139, 140, 141, 142, 143, 144, 145, 146, 147, 148, 149, 150, 151, 152, 153, 154, 155, 156, 157, 158, 159, 160, 161, 162, 163, 164, 165, 166, 167, 168, 169, 170, 171, 172, 173, 174, 175, 176, 177, 179, 180, 181, 182, 183, 184, 185, 186, 187, 188, 189, 190, 191, 192, 193, 194, 195, 196, 197, 198, 199, 200, 201, 202, 203, 204, 205, 206, 207, 208, 209, 210, 211, 212, 213, 214, 215, 216, 217, 218, 219, 220, 221, 222, 223, 224, 225, 226, 227, 228, 229, 230, 231, 232, 233, 234, 235, 236, 237, 238, 239, 240, 241, 242, 243, 244, 245, 246, 247, 248, 249, 250, 251, 252, 253, 254, 255, 256, 257, 258, 259, 260, 261, 262, 264, 265, 266, 267, 268, 269, 270, 271, 272, 273, 274, 275, 276, 277, 278, 279, 280, 281, 282, 283, 284, 285, 286, 287, 288, 289, 290, 291, 292, 293, 294, 295, 296, 297, 298, 299, 300, 301, 302, 303, 304, 305, 306, 307, 308, 309, 310, 311, 312, 313, 314, 315, 316, 317, 318, 319, 320, 321, 322, 323, 324, 325, 326, 327, 328, 329, 330, 331, 332, 333, 334, 335, 336, 337, 338, 339, 340, 341, 342, 343, 344, 345, 346, 347, 348, 349, 350, 351, 352, 353, 354, 355, 356, 357, 358, 359, 360, 361, 362, 363, 364, 365, 366, 367, 368, 369, 370, 371, 372, 373, 374, 375, 376, 377, 378, 379, 380, 381, 382, 383, 384, 385, 386, 387, 388, 389, 390, 391, 392, 393, 394, 395, 396, 397, 398, 399, 400, 401, 402, 403, 404, 405, 406, 407, 408, 409, 410, 412, 413, 414, 416, 417, 418, 419, 420, 421, 422, 423, 424, 425, 426, 427, 429, 430, 432, 433, 434, 435, 437, 438, 439, 440, 441, 442, 443, 444, 445, 446, 447, 448, 449, 450, 451, 452, 453, 454, 455, 456, 457, 458, 459, 500, 501, 502, 503, 504, 505, 507, 508, 509, 510, 511, 512, 513, 514, 515, 516, 517, 518, 519, 520]\n"
     ]
    }
   ],
   "source": [
    "print(codigos_cosecha)"
   ]
  },
  {
   "cell_type": "markdown",
   "id": "ccd09758-31cb-47b3-8c95-7aa710b7da25",
   "metadata": {},
   "source": [
    "## COMPROMISO Y ENTREGAS"
   ]
  },
  {
   "cell_type": "code",
   "execution_count": 11,
   "id": "5138cff3-76a0-4772-be8e-39d7900f3712",
   "metadata": {},
   "outputs": [
    {
     "data": {
      "text/html": [
       "<div>\n",
       "<style scoped>\n",
       "    .dataframe tbody tr th:only-of-type {\n",
       "        vertical-align: middle;\n",
       "    }\n",
       "\n",
       "    .dataframe tbody tr th {\n",
       "        vertical-align: top;\n",
       "    }\n",
       "\n",
       "    .dataframe thead th {\n",
       "        text-align: right;\n",
       "    }\n",
       "</style>\n",
       "<table border=\"1\" class=\"dataframe\">\n",
       "  <thead>\n",
       "    <tr style=\"text-align: right;\">\n",
       "      <th></th>\n",
       "      <th>cod_ca</th>\n",
       "      <th>COD COS</th>\n",
       "      <th>NOMBRE CAÑERO</th>\n",
       "      <th>TN COMPROMISO INDIVIDUAL</th>\n",
       "      <th>TN ENTREGA INDIVIDUAL</th>\n",
       "      <th>avance_porcen</th>\n",
       "    </tr>\n",
       "  </thead>\n",
       "  <tbody>\n",
       "    <tr>\n",
       "      <th>0</th>\n",
       "      <td>75</td>\n",
       "      <td>30</td>\n",
       "      <td>AGUILERA TARADELLES NELSON MARIANO</td>\n",
       "      <td>26992.97</td>\n",
       "      <td>0.00</td>\n",
       "      <td>0.000000</td>\n",
       "    </tr>\n",
       "    <tr>\n",
       "      <th>1</th>\n",
       "      <td>577</td>\n",
       "      <td>30</td>\n",
       "      <td>AGUILERA MARIA INGRID WENDE DE</td>\n",
       "      <td>13433.25</td>\n",
       "      <td>631.64</td>\n",
       "      <td>4.702064</td>\n",
       "    </tr>\n",
       "    <tr>\n",
       "      <th>2</th>\n",
       "      <td>794</td>\n",
       "      <td>30</td>\n",
       "      <td>AGUILERA WENDE MARIANO</td>\n",
       "      <td>18084.70</td>\n",
       "      <td>15218.32</td>\n",
       "      <td>84.150249</td>\n",
       "    </tr>\n",
       "    <tr>\n",
       "      <th>3</th>\n",
       "      <td>8005</td>\n",
       "      <td>30</td>\n",
       "      <td>AGUILERA WENDE MARIA INGRID</td>\n",
       "      <td>5201.02</td>\n",
       "      <td>20.45</td>\n",
       "      <td>0.393192</td>\n",
       "    </tr>\n",
       "    <tr>\n",
       "      <th>4</th>\n",
       "      <td>41715</td>\n",
       "      <td>30</td>\n",
       "      <td>VACA DIEZ UGARTE NICOLAS</td>\n",
       "      <td>1781.38</td>\n",
       "      <td>0.00</td>\n",
       "      <td>0.000000</td>\n",
       "    </tr>\n",
       "  </tbody>\n",
       "</table>\n",
       "</div>"
      ],
      "text/plain": [
       "   cod_ca  COD COS                       NOMBRE CAÑERO  \\\n",
       "0      75       30  AGUILERA TARADELLES NELSON MARIANO   \n",
       "1     577       30      AGUILERA MARIA INGRID WENDE DE   \n",
       "2     794       30              AGUILERA WENDE MARIANO   \n",
       "3    8005       30         AGUILERA WENDE MARIA INGRID   \n",
       "4   41715       30            VACA DIEZ UGARTE NICOLAS   \n",
       "\n",
       "   TN COMPROMISO INDIVIDUAL  TN ENTREGA INDIVIDUAL  avance_porcen  \n",
       "0                  26992.97                   0.00       0.000000  \n",
       "1                  13433.25                 631.64       4.702064  \n",
       "2                  18084.70               15218.32      84.150249  \n",
       "3                   5201.02                  20.45       0.393192  \n",
       "4                   1781.38                   0.00       0.000000  "
      ]
     },
     "execution_count": 11,
     "metadata": {},
     "output_type": "execute_result"
    }
   ],
   "source": [
    "# seleccion de grupo aguilera\n",
    "cod_co = 30\n",
    "# filtrado por codigo de cosecha\n",
    "grupo = data_avance[data_avance['COD COS'] == cod_co]\n",
    "# seleccion de columnas de interes\n",
    "grupo = grupo[['CODIGO CAÑERO ', 'COD COS', 'NOMBRE CAÑERO', 'TN COMPROMISO INDIVIDUAL', 'TN ENTREGA INDIVIDUAL']]\n",
    "# calculo de % de avance de entrega del grupo\n",
    "grupo['avance_porcen'] = (grupo['TN ENTREGA INDIVIDUAL'] / grupo['TN COMPROMISO INDIVIDUAL'])*100\n",
    "# cambio del nombre del campo codigo cañero\n",
    "grupo = grupo.rename(columns={'CODIGO CAÑERO ': 'cod_ca'})\n",
    "grupo"
   ]
  },
  {
   "cell_type": "code",
   "execution_count": 12,
   "id": "2eaa7b18-b166-48f1-8fad-53567c79aec3",
   "metadata": {},
   "outputs": [
    {
     "data": {
      "text/plain": [
       "{'total_compromiso': 65493.32,\n",
       " 'total_entrega': 15870.41,\n",
       " 'total_avance_porcen': 24.232104892529495}"
      ]
     },
     "execution_count": 12,
     "metadata": {},
     "output_type": "execute_result"
    }
   ],
   "source": [
    "# totales de tabla de entreas del grupo seleccionado\n",
    "grupo_totales = {\n",
    "    'total_compromiso':grupo['TN COMPROMISO INDIVIDUAL'].sum(),\n",
    "    'total_entrega':grupo['TN ENTREGA INDIVIDUAL'].sum(),\n",
    "    'total_avance_porcen':grupo['TN ENTREGA INDIVIDUAL'].sum() / grupo['TN COMPROMISO INDIVIDUAL'].sum() * 100\n",
    "}\n",
    "grupo_totales"
   ]
  },
  {
   "cell_type": "markdown",
   "id": "c2841e5b-725c-4e91-9491-b897a7b360e6",
   "metadata": {},
   "source": [
    "## AVANCE PROPIEDAD"
   ]
  },
  {
   "cell_type": "code",
   "execution_count": 13,
   "id": "dcda8548-3c4a-4293-9af1-c2abf17f06b2",
   "metadata": {},
   "outputs": [
    {
     "data": {
      "text/plain": [
       "7"
      ]
     },
     "execution_count": 13,
     "metadata": {},
     "output_type": "execute_result"
    }
   ],
   "source": [
    "hoy = datetime.now()\n",
    "mes_actual = hoy.month\n",
    "mes_actual"
   ]
  },
  {
   "cell_type": "code",
   "execution_count": 14,
   "id": "3786a53f-7eb8-4e23-b23e-6ed6fd182f49",
   "metadata": {},
   "outputs": [
    {
     "data": {
      "text/html": [
       "<div>\n",
       "<style scoped>\n",
       "    .dataframe tbody tr th:only-of-type {\n",
       "        vertical-align: middle;\n",
       "    }\n",
       "\n",
       "    .dataframe tbody tr th {\n",
       "        vertical-align: top;\n",
       "    }\n",
       "\n",
       "    .dataframe thead th {\n",
       "        text-align: right;\n",
       "    }\n",
       "</style>\n",
       "<table border=\"1\" class=\"dataframe\">\n",
       "  <thead>\n",
       "    <tr style=\"text-align: right;\">\n",
       "      <th></th>\n",
       "      <th>unidad_01</th>\n",
       "      <th>unidad_02</th>\n",
       "      <th>area</th>\n",
       "      <th>area_cosechada</th>\n",
       "      <th>avance_mes</th>\n",
       "      <th>%avance</th>\n",
       "    </tr>\n",
       "  </thead>\n",
       "  <tbody>\n",
       "    <tr>\n",
       "      <th>0</th>\n",
       "      <td>216</td>\n",
       "      <td>LA_ESTACADA--AGUILERA</td>\n",
       "      <td>226.34</td>\n",
       "      <td>0.00</td>\n",
       "      <td>0</td>\n",
       "      <td>0.000000</td>\n",
       "    </tr>\n",
       "    <tr>\n",
       "      <th>1</th>\n",
       "      <td>217</td>\n",
       "      <td>FLAMBOYAN--AGUILERA</td>\n",
       "      <td>207.46</td>\n",
       "      <td>0.00</td>\n",
       "      <td>0</td>\n",
       "      <td>0.000000</td>\n",
       "    </tr>\n",
       "    <tr>\n",
       "      <th>2</th>\n",
       "      <td>256</td>\n",
       "      <td>LOS_ANDES--AGUILERA</td>\n",
       "      <td>423.24</td>\n",
       "      <td>153.93</td>\n",
       "      <td>0</td>\n",
       "      <td>36.369436</td>\n",
       "    </tr>\n",
       "  </tbody>\n",
       "</table>\n",
       "</div>"
      ],
      "text/plain": [
       "   unidad_01              unidad_02    area  area_cosechada  avance_mes  \\\n",
       "0        216  LA_ESTACADA--AGUILERA  226.34            0.00           0   \n",
       "1        217    FLAMBOYAN--AGUILERA  207.46            0.00           0   \n",
       "2        256    LOS_ANDES--AGUILERA  423.24          153.93           0   \n",
       "\n",
       "     %avance  \n",
       "0   0.000000  \n",
       "1   0.000000  \n",
       "2  36.369436  "
      ]
     },
     "execution_count": 14,
     "metadata": {},
     "output_type": "execute_result"
    }
   ],
   "source": [
    "# cambio de nombre de columna para hacer merge con la tabla de grupo\n",
    "catastro_avance = catastro_avance.rename(columns={'unidad_03':'cod_ca'})\n",
    "# merge \n",
    "catastro_merge = pd.merge(grupo, catastro_avance, on='cod_ca')\n",
    "# crea nueva columna \"area_cosecha\", se almacena en area si el campo estado=\"cosechado\"\n",
    "catastro_merge['area_cosechada'] = catastro_merge.apply(lambda row : row['area'] if row['estado'] == 'cosechado' else 0, axis=1)\n",
    "# calculo de area cosechada en el mes actual\n",
    "catastro_merge['avance_mes'] = catastro_merge.apply(lambda row : row['area'] if row['fc']!=None and row['fc'].split('-')[1] == str(mes_actual) else 0, axis=1)\n",
    "# agrupacion de datos por pripiedad, resumiendo por area, area_cosechada, avance_mes\n",
    "propiedades = catastro_merge.groupby(['unidad_01', 'unidad_02'])[['area', 'area_cosechada', 'avance_mes']].sum()\n",
    "# reseteo de index\n",
    "propiedades = propiedades.reset_index()\n",
    "# calculo de % de avance de cosecha\n",
    "propiedades['%avance'] = propiedades['area_cosechada'] / propiedades['area'] * 100\n",
    "propiedades"
   ]
  },
  {
   "cell_type": "code",
   "execution_count": 16,
   "id": "b1a23d3d-3059-4bd3-be4d-a6b7cfbf6e37",
   "metadata": {},
   "outputs": [
    {
     "data": {
      "text/plain": [
       "{'total_area': 857.04,\n",
       " 'total_area_cosechada': 153.93,\n",
       " 'total_avance_mes': 0,\n",
       " 'total_avance_porcen': 17.96065527863344}"
      ]
     },
     "execution_count": 16,
     "metadata": {},
     "output_type": "execute_result"
    }
   ],
   "source": [
    "# totales de tabla por columna\n",
    "propiedades_totales = {\n",
    "    'total_area':propiedades['area'].sum(),\n",
    "    'total_area_cosechada':propiedades['area_cosechada'].sum(),\n",
    "    'total_avance_mes':propiedades['avance_mes'].sum(),\n",
    "    'total_avance_porcen':propiedades['area_cosechada'].sum() / propiedades['area'].sum() * 100\n",
    "}\n",
    "propiedades_totales"
   ]
  },
  {
   "cell_type": "markdown",
   "id": "29fa89e8-95af-4aa6-86ff-0a81773ff77c",
   "metadata": {},
   "source": [
    "# AVANCE POR VARIEDAD"
   ]
  },
  {
   "cell_type": "code",
   "execution_count": 43,
   "id": "2cc83af3-8c35-4f67-a75d-7a39e3259ed2",
   "metadata": {},
   "outputs": [
    {
     "data": {
      "text/html": [
       "<div>\n",
       "<style scoped>\n",
       "    .dataframe tbody tr th:only-of-type {\n",
       "        vertical-align: middle;\n",
       "    }\n",
       "\n",
       "    .dataframe tbody tr th {\n",
       "        vertical-align: top;\n",
       "    }\n",
       "\n",
       "    .dataframe thead th {\n",
       "        text-align: right;\n",
       "    }\n",
       "</style>\n",
       "<table border=\"1\" class=\"dataframe\">\n",
       "  <thead>\n",
       "    <tr style=\"text-align: right;\">\n",
       "      <th></th>\n",
       "      <th>variedad</th>\n",
       "      <th>area_cosechada</th>\n",
       "      <th>area</th>\n",
       "      <th>porcen_avan</th>\n",
       "    </tr>\n",
       "  </thead>\n",
       "  <tbody>\n",
       "    <tr>\n",
       "      <th>6</th>\n",
       "      <td>UCG_90-20</td>\n",
       "      <td>93.26</td>\n",
       "      <td>467.48</td>\n",
       "      <td>19.949517</td>\n",
       "    </tr>\n",
       "    <tr>\n",
       "      <th>1</th>\n",
       "      <td>CITTCA_85-22</td>\n",
       "      <td>46.45</td>\n",
       "      <td>140.07</td>\n",
       "      <td>33.161990</td>\n",
       "    </tr>\n",
       "    <tr>\n",
       "      <th>5</th>\n",
       "      <td>SP_83-5073</td>\n",
       "      <td>14.22</td>\n",
       "      <td>81.55</td>\n",
       "      <td>17.437155</td>\n",
       "    </tr>\n",
       "    <tr>\n",
       "      <th>0</th>\n",
       "      <td>CITTCA-0563</td>\n",
       "      <td>0.00</td>\n",
       "      <td>15.51</td>\n",
       "      <td>0.000000</td>\n",
       "    </tr>\n",
       "    <tr>\n",
       "      <th>2</th>\n",
       "      <td>RB-2</td>\n",
       "      <td>0.00</td>\n",
       "      <td>135.15</td>\n",
       "      <td>0.000000</td>\n",
       "    </tr>\n",
       "    <tr>\n",
       "      <th>3</th>\n",
       "      <td>RB-4</td>\n",
       "      <td>0.00</td>\n",
       "      <td>4.25</td>\n",
       "      <td>0.000000</td>\n",
       "    </tr>\n",
       "    <tr>\n",
       "      <th>4</th>\n",
       "      <td>RBB_77-26</td>\n",
       "      <td>0.00</td>\n",
       "      <td>13.03</td>\n",
       "      <td>0.000000</td>\n",
       "    </tr>\n",
       "  </tbody>\n",
       "</table>\n",
       "</div>"
      ],
      "text/plain": [
       "       variedad  area_cosechada    area  porcen_avan\n",
       "6     UCG_90-20           93.26  467.48    19.949517\n",
       "1  CITTCA_85-22           46.45  140.07    33.161990\n",
       "5    SP_83-5073           14.22   81.55    17.437155\n",
       "0   CITTCA-0563            0.00   15.51     0.000000\n",
       "2          RB-2            0.00  135.15     0.000000\n",
       "3          RB-4            0.00    4.25     0.000000\n",
       "4     RBB_77-26            0.00   13.03     0.000000"
      ]
     },
     "execution_count": 43,
     "metadata": {},
     "output_type": "execute_result"
    }
   ],
   "source": [
    "# merge \n",
    "catastro_merge_2 = pd.merge(grupo, catastro_avance, on='cod_ca')\n",
    "# crea nueva columna \"area_cosecha\", se almacena en area si el campo estado=\"cosechado\"\n",
    "catastro_merge_2['area_cosechada'] = catastro_merge_2.apply(lambda row : row['area'] if row['estado'] == 'cosechado' else 0, axis=1)\n",
    "# calculo de area cosechada en el mes actual\n",
    "#catastro_merge_2['avance_mes'] = catastro_merge_2.apply(lambda row : row['area'] if row['fc']!=None and row['fc'].split('-')[1] == str(mes_actual) else 0, axis=1)\n",
    "# agrupacion de datos por pripiedad, resumiendo por area, area_cosechada, avance_mes\n",
    "avance_variedad = catastro_merge.groupby(['variedad'])[['area_cosechada', 'area']].sum()\n",
    "# reseteo de index\n",
    "avance_variedad = avance_variedad.reset_index()\n",
    "# ordemar por area cosechadad\n",
    "avance_variedad = avance_variedad.sort_values('area_cosechada', ascending=False)\n",
    "# calculo de porcentaje de avance\n",
    "avance_variedad['porcen_avan'] = avance_variedad.apply(lambda row : row['area_cosechada']/row['area'] *100, axis=1)\n",
    "avance_variedad"
   ]
  },
  {
   "cell_type": "code",
   "execution_count": 52,
   "id": "889e5c76-7a47-4303-8979-abf61ddb3a9b",
   "metadata": {},
   "outputs": [
    {
     "data": {
      "text/plain": [
       "{'total_cosechado': 153.93,\n",
       " 'total_area': 857.0399999999998,\n",
       " 'total_porcen': 17.96065527863344}"
      ]
     },
     "execution_count": 52,
     "metadata": {},
     "output_type": "execute_result"
    }
   ],
   "source": [
    "totales_variedad = {\n",
    "    'total_cosechado' : avance_variedad['area_cosechada'].sum(),\n",
    "    'total_area' : avance_variedad['area'].sum(),\n",
    "    'total_porcen' : avance_variedad['area_cosechada'].sum() / avance_variedad['area'].sum() * 100\n",
    "}\n",
    "totales_variedad"
   ]
  },
  {
   "cell_type": "markdown",
   "id": "18eca1b3-d9c1-4956-9a19-6c1156c91a86",
   "metadata": {},
   "source": [
    "## AVANCE POR CORTE"
   ]
  },
  {
   "cell_type": "code",
   "execution_count": 88,
   "id": "9ff2fd75-8838-4ade-929a-4b3c7e4dc27c",
   "metadata": {},
   "outputs": [],
   "source": [
    "# merge \n",
    "catastro_merge_3 = pd.merge(grupo, catastro_avance, on='cod_ca')\n",
    "# crea nueva columna \"area_cosecha\", se almacena en area si el campo estado=\"cosechado\"\n",
    "catastro_merge_3['area_cosechada'] = catastro_merge_3.apply(lambda row : row['area'] if row['estado'] == 'cosechado' else 0, axis=1)\n",
    "\n",
    "suma_area = catastro_merge_3.loc[catastro_merge_3['soca'] >= 10, 'area'].sum()\n",
    "suma_area_cosechada = catastro_merge_3.loc[catastro_merge_3['soca'] >= 10, 'area_cosechada'].sum()\n",
    "\n",
    "catastro_merge_3= catastro_merge_3[catastro_merge_3['soca'] < 10]\n",
    "\n",
    "catastro_merge_3['soca'] = catastro_merge_3['soca'].astype(str)\n",
    "\n",
    "new_reg = {'soca': '>10', 'area': suma_area, 'area_cosechada': suma_area_cosechada}\n",
    "\n",
    "catastro_merge_3 = catastro_merge_3.append(new_reg, ignore_index=True)\n",
    "#agrupacion de datos por pripiedad, resumiendo por area, area_cosechada, avance_mes\n",
    "avance_corte = catastro_merge_3.groupby(['soca'])[['area_cosechada', 'area']].sum()\n",
    "# reseteo de index\n",
    "avance_corte = avance_corte.reset_index()\n",
    "# ordemar por area cosechadad\n",
    "avance_corte = avance_corte.sort_values('soca')\n",
    "# calculo de porcentaje de avance\n",
    "avance_corte['porcen_avan'] = avance_corte.apply(lambda row : row['area_cosechada']/row['area'] *100, axis=1)\n",
    "#avance_corte"
   ]
  },
  {
   "cell_type": "code",
   "execution_count": 89,
   "id": "711a533f-1f94-4e79-a525-3d2e8f581490",
   "metadata": {},
   "outputs": [
    {
     "data": {
      "text/html": [
       "<div>\n",
       "<style scoped>\n",
       "    .dataframe tbody tr th:only-of-type {\n",
       "        vertical-align: middle;\n",
       "    }\n",
       "\n",
       "    .dataframe tbody tr th {\n",
       "        vertical-align: top;\n",
       "    }\n",
       "\n",
       "    .dataframe thead th {\n",
       "        text-align: right;\n",
       "    }\n",
       "</style>\n",
       "<table border=\"1\" class=\"dataframe\">\n",
       "  <thead>\n",
       "    <tr style=\"text-align: right;\">\n",
       "      <th></th>\n",
       "      <th>soca</th>\n",
       "      <th>area_cosechada</th>\n",
       "      <th>area</th>\n",
       "      <th>porcen_avan</th>\n",
       "    </tr>\n",
       "  </thead>\n",
       "  <tbody>\n",
       "    <tr>\n",
       "      <th>0</th>\n",
       "      <td>0</td>\n",
       "      <td>62.30</td>\n",
       "      <td>144.88</td>\n",
       "      <td>43.001104</td>\n",
       "    </tr>\n",
       "    <tr>\n",
       "      <th>1</th>\n",
       "      <td>1</td>\n",
       "      <td>46.41</td>\n",
       "      <td>167.70</td>\n",
       "      <td>27.674419</td>\n",
       "    </tr>\n",
       "    <tr>\n",
       "      <th>2</th>\n",
       "      <td>2</td>\n",
       "      <td>0.00</td>\n",
       "      <td>103.16</td>\n",
       "      <td>0.000000</td>\n",
       "    </tr>\n",
       "    <tr>\n",
       "      <th>3</th>\n",
       "      <td>3</td>\n",
       "      <td>0.00</td>\n",
       "      <td>81.21</td>\n",
       "      <td>0.000000</td>\n",
       "    </tr>\n",
       "    <tr>\n",
       "      <th>4</th>\n",
       "      <td>4</td>\n",
       "      <td>0.00</td>\n",
       "      <td>107.61</td>\n",
       "      <td>0.000000</td>\n",
       "    </tr>\n",
       "    <tr>\n",
       "      <th>5</th>\n",
       "      <td>5</td>\n",
       "      <td>16.98</td>\n",
       "      <td>50.66</td>\n",
       "      <td>33.517568</td>\n",
       "    </tr>\n",
       "    <tr>\n",
       "      <th>6</th>\n",
       "      <td>6</td>\n",
       "      <td>0.00</td>\n",
       "      <td>46.77</td>\n",
       "      <td>0.000000</td>\n",
       "    </tr>\n",
       "    <tr>\n",
       "      <th>7</th>\n",
       "      <td>7</td>\n",
       "      <td>6.17</td>\n",
       "      <td>33.71</td>\n",
       "      <td>18.303174</td>\n",
       "    </tr>\n",
       "    <tr>\n",
       "      <th>8</th>\n",
       "      <td>8</td>\n",
       "      <td>0.00</td>\n",
       "      <td>14.81</td>\n",
       "      <td>0.000000</td>\n",
       "    </tr>\n",
       "    <tr>\n",
       "      <th>9</th>\n",
       "      <td>9</td>\n",
       "      <td>0.00</td>\n",
       "      <td>65.66</td>\n",
       "      <td>0.000000</td>\n",
       "    </tr>\n",
       "    <tr>\n",
       "      <th>10</th>\n",
       "      <td>&gt;10</td>\n",
       "      <td>22.07</td>\n",
       "      <td>40.87</td>\n",
       "      <td>54.000489</td>\n",
       "    </tr>\n",
       "  </tbody>\n",
       "</table>\n",
       "</div>"
      ],
      "text/plain": [
       "   soca  area_cosechada    area  porcen_avan\n",
       "0     0           62.30  144.88    43.001104\n",
       "1     1           46.41  167.70    27.674419\n",
       "2     2            0.00  103.16     0.000000\n",
       "3     3            0.00   81.21     0.000000\n",
       "4     4            0.00  107.61     0.000000\n",
       "5     5           16.98   50.66    33.517568\n",
       "6     6            0.00   46.77     0.000000\n",
       "7     7            6.17   33.71    18.303174\n",
       "8     8            0.00   14.81     0.000000\n",
       "9     9            0.00   65.66     0.000000\n",
       "10  >10           22.07   40.87    54.000489"
      ]
     },
     "execution_count": 89,
     "metadata": {},
     "output_type": "execute_result"
    }
   ],
   "source": [
    "avance_corte"
   ]
  },
  {
   "cell_type": "code",
   "execution_count": null,
   "id": "b627eef0-4127-4ab8-b38f-e0da730288af",
   "metadata": {},
   "outputs": [],
   "source": []
  },
  {
   "cell_type": "code",
   "execution_count": null,
   "id": "fc0e22d9-b8cc-43c3-aef5-1b6a52f9287b",
   "metadata": {},
   "outputs": [],
   "source": []
  },
  {
   "cell_type": "code",
   "execution_count": null,
   "id": "1969dad5-f231-4900-aa89-14b9e140f6e1",
   "metadata": {},
   "outputs": [],
   "source": []
  },
  {
   "cell_type": "code",
   "execution_count": null,
   "id": "205bd9ba-fe68-4752-afb3-af232dd58efb",
   "metadata": {},
   "outputs": [],
   "source": []
  },
  {
   "cell_type": "code",
   "execution_count": null,
   "id": "f351c542-b079-4b90-b94f-74f9bb53724a",
   "metadata": {},
   "outputs": [],
   "source": []
  },
  {
   "cell_type": "code",
   "execution_count": null,
   "id": "3b9d212f-47e3-4fd9-9ac4-7fb8a7ce0458",
   "metadata": {},
   "outputs": [],
   "source": []
  },
  {
   "cell_type": "code",
   "execution_count": null,
   "id": "e4c53e1a-9493-4e6f-8354-2eda4edfdc41",
   "metadata": {},
   "outputs": [],
   "source": []
  },
  {
   "cell_type": "code",
   "execution_count": null,
   "id": "0f28d3ff-c708-4424-b2a4-039b39063d76",
   "metadata": {},
   "outputs": [],
   "source": []
  },
  {
   "cell_type": "code",
   "execution_count": null,
   "id": "8b9b115d-a6cc-4b5c-8c62-01af661a4e0a",
   "metadata": {},
   "outputs": [],
   "source": []
  },
  {
   "cell_type": "code",
   "execution_count": 90,
   "id": "a0f1a47c-5b9c-43f4-8817-82d28a5c4957",
   "metadata": {},
   "outputs": [
    {
     "data": {
      "text/plain": [
       "'75_ADC_09-06-2023_AGUILERA TARADELLES NELSON MARIANO'"
      ]
     },
     "execution_count": 90,
     "metadata": {},
     "output_type": "execute_result"
    }
   ],
   "source": [
    "filename = str(cod_ca) + '_ADC_' + '09-06-2023_' + nom_ca\n",
    "filename"
   ]
  },
  {
   "cell_type": "code",
   "execution_count": null,
   "id": "b90162d9-5ccb-4c5d-8aba-dcbf8d27d371",
   "metadata": {},
   "outputs": [],
   "source": []
  },
  {
   "cell_type": "code",
   "execution_count": null,
   "id": "9c569965-af1c-4891-90c9-b381db6c1154",
   "metadata": {},
   "outputs": [],
   "source": []
  },
  {
   "cell_type": "code",
   "execution_count": null,
   "id": "117c16c7-01b6-4e2a-a0ec-94f46846ec9a",
   "metadata": {},
   "outputs": [],
   "source": []
  },
  {
   "cell_type": "code",
   "execution_count": 91,
   "id": "fe7ec4e9-e473-4ddb-adb5-ec512fa10940",
   "metadata": {},
   "outputs": [
    {
     "data": {
      "text/html": [
       "<div>\n",
       "<style scoped>\n",
       "    .dataframe tbody tr th:only-of-type {\n",
       "        vertical-align: middle;\n",
       "    }\n",
       "\n",
       "    .dataframe tbody tr th {\n",
       "        vertical-align: top;\n",
       "    }\n",
       "\n",
       "    .dataframe thead th {\n",
       "        text-align: right;\n",
       "    }\n",
       "</style>\n",
       "<table border=\"1\" class=\"dataframe\">\n",
       "  <thead>\n",
       "    <tr style=\"text-align: right;\">\n",
       "      <th></th>\n",
       "      <th>unidad_01</th>\n",
       "      <th>unidad_02</th>\n",
       "      <th>area</th>\n",
       "      <th>area_cosechada</th>\n",
       "      <th>TCH</th>\n",
       "      <th>sin_cosechar</th>\n",
       "      <th>produccion_total</th>\n",
       "      <th>produccion_restante</th>\n",
       "      <th>produccion_cosechado</th>\n",
       "    </tr>\n",
       "  </thead>\n",
       "  <tbody>\n",
       "    <tr>\n",
       "      <th>0</th>\n",
       "      <td>216</td>\n",
       "      <td>LA_ESTACADA--AGUILERA</td>\n",
       "      <td>226.34</td>\n",
       "      <td>0.00</td>\n",
       "      <td>67.544873</td>\n",
       "      <td>226.34</td>\n",
       "      <td>15288.106548</td>\n",
       "      <td>15288.106548</td>\n",
       "      <td>0.00000</td>\n",
       "    </tr>\n",
       "    <tr>\n",
       "      <th>1</th>\n",
       "      <td>217</td>\n",
       "      <td>FLAMBOYAN--AGUILERA</td>\n",
       "      <td>207.46</td>\n",
       "      <td>0.00</td>\n",
       "      <td>67.975285</td>\n",
       "      <td>207.46</td>\n",
       "      <td>14102.152708</td>\n",
       "      <td>14102.152708</td>\n",
       "      <td>0.00000</td>\n",
       "    </tr>\n",
       "    <tr>\n",
       "      <th>2</th>\n",
       "      <td>256</td>\n",
       "      <td>LOS_ANDES--AGUILERA</td>\n",
       "      <td>423.24</td>\n",
       "      <td>153.93</td>\n",
       "      <td>79.795302</td>\n",
       "      <td>269.31</td>\n",
       "      <td>33772.563435</td>\n",
       "      <td>21489.672665</td>\n",
       "      <td>12282.89077</td>\n",
       "    </tr>\n",
       "  </tbody>\n",
       "</table>\n",
       "</div>"
      ],
      "text/plain": [
       "   unidad_01              unidad_02    area  area_cosechada        TCH  \\\n",
       "0        216  LA_ESTACADA--AGUILERA  226.34            0.00  67.544873   \n",
       "1        217    FLAMBOYAN--AGUILERA  207.46            0.00  67.975285   \n",
       "2        256    LOS_ANDES--AGUILERA  423.24          153.93  79.795302   \n",
       "\n",
       "   sin_cosechar  produccion_total  produccion_restante  produccion_cosechado  \n",
       "0        226.34      15288.106548         15288.106548               0.00000  \n",
       "1        207.46      14102.152708         14102.152708               0.00000  \n",
       "2        269.31      33772.563435         21489.672665           12282.89077  "
      ]
     },
     "execution_count": 91,
     "metadata": {},
     "output_type": "execute_result"
    }
   ],
   "source": [
    "df"
   ]
  },
  {
   "cell_type": "code",
   "execution_count": 92,
   "id": "2eb50124-8dfd-462e-8eed-98c36d87e4d7",
   "metadata": {},
   "outputs": [],
   "source": [
    "totales = {\n",
    "    'tn_compromiso': lista_ca['tn_compromiso_indiv'].sum(),\n",
    "    'tn_entregado': lista_ca['tn_entregado_indiv'].sum(),\n",
    "    'avance': (lista_ca['tn_entregado_indiv'].sum()  / lista_ca['tn_compromiso_indiv'].sum())*100,\n",
    "    'area': df['area'].sum(),\n",
    "    'area_cosechada': df['area_cosechada'].sum(),\n",
    "    'sin_cosechar': df['sin_cosechar'].sum(),\n",
    "    'produccion_total': df['produccion_total'].sum(),\n",
    "    'produccion_restante': df['produccion_restante'].sum(),\n",
    "    'produccion_cosechado': df['produccion_cosechado'].sum(),\n",
    "    'fecha': '09/06/2023'\n",
    "}\n",
    "total = collections.namedtuple(\"totales\", totales.keys())(*totales.values())"
   ]
  },
  {
   "cell_type": "code",
   "execution_count": null,
   "id": "0fd8cbea-2c7c-4373-9814-2477ea489397",
   "metadata": {},
   "outputs": [],
   "source": []
  },
  {
   "cell_type": "code",
   "execution_count": 93,
   "id": "32c83e02-083e-4c40-934a-6a97e849cf9f",
   "metadata": {},
   "outputs": [],
   "source": [
    "canheros = []\n",
    "for index, row in lista_ca.iterrows():\n",
    "    ca = dict(row)\n",
    "    canheros.append(collections.namedtuple(\"canhero\", ca.keys())(*ca.values()))"
   ]
  },
  {
   "cell_type": "code",
   "execution_count": 94,
   "id": "86e1965e-172b-438a-a7ac-55cf8b656103",
   "metadata": {},
   "outputs": [
    {
     "data": {
      "text/plain": [
       "[canhero(cod_ca=75, cod_cos=30, nombre_canhero='AGUILERA TARADELLES NELSON MARIANO', tn_compromiso_indiv=26992.97, tn_entregado_indiv=0.0, avance_porcen=0.0),\n",
       " canhero(cod_ca=577, cod_cos=30, nombre_canhero='AGUILERA MARIA INGRID WENDE DE', tn_compromiso_indiv=13433.25, tn_entregado_indiv=631.64, avance_porcen=4.702063908585041),\n",
       " canhero(cod_ca=794, cod_cos=30, nombre_canhero='AGUILERA WENDE MARIANO', tn_compromiso_indiv=18084.7, tn_entregado_indiv=15218.32, avance_porcen=84.15024855264394),\n",
       " canhero(cod_ca=8005, cod_cos=30, nombre_canhero='AGUILERA WENDE MARIA INGRID', tn_compromiso_indiv=5201.02, tn_entregado_indiv=20.45, avance_porcen=0.3931921046256311),\n",
       " canhero(cod_ca=41715, cod_cos=30, nombre_canhero='VACA DIEZ UGARTE NICOLAS', tn_compromiso_indiv=1781.38, tn_entregado_indiv=0.0, avance_porcen=0.0)]"
      ]
     },
     "execution_count": 94,
     "metadata": {},
     "output_type": "execute_result"
    }
   ],
   "source": [
    "canheros"
   ]
  },
  {
   "cell_type": "code",
   "execution_count": null,
   "id": "f706f936-89db-4633-a4b0-569168ce517c",
   "metadata": {},
   "outputs": [],
   "source": []
  },
  {
   "cell_type": "code",
   "execution_count": 95,
   "id": "ea6f3c06-77f7-4bb3-9d7a-4f318fc5140b",
   "metadata": {},
   "outputs": [],
   "source": [
    "propiedades = []\n",
    "for index, row in df.iterrows():\n",
    "    prop = dict(row)\n",
    "    propiedades.append(collections.namedtuple(\"propiedad\", prop.keys())(*prop.values()))"
   ]
  },
  {
   "cell_type": "code",
   "execution_count": 96,
   "id": "68f49afe-0f09-496f-9fd8-41fb64eb1cb8",
   "metadata": {},
   "outputs": [
    {
     "data": {
      "text/plain": [
       "[propiedad(unidad_01=216, unidad_02='LA_ESTACADA--AGUILERA', area=226.34, area_cosechada=0.0, TCH=67.54487297159044, sin_cosechar=226.34, produccion_total=15288.10654838978, produccion_restante=15288.10654838978, produccion_cosechado=0.0),\n",
       " propiedad(unidad_01=217, unidad_02='FLAMBOYAN--AGUILERA', area=207.45999999999998, area_cosechada=0.0, TCH=67.97528539650631, sin_cosechar=207.45999999999998, produccion_total=14102.152708359197, produccion_restante=14102.152708359197, produccion_cosechado=0.0),\n",
       " propiedad(unidad_01=256, unidad_02='LOS_ANDES--AGUILERA', area=423.24, area_cosechada=153.93, TCH=79.79530156723294, sin_cosechar=269.31, produccion_total=33772.56343531567, produccion_restante=21489.672665071503, produccion_cosechado=12282.890770244167)]"
      ]
     },
     "execution_count": 96,
     "metadata": {},
     "output_type": "execute_result"
    }
   ],
   "source": [
    "propiedades"
   ]
  },
  {
   "cell_type": "code",
   "execution_count": null,
   "id": "3c557a61-b416-4a37-b8ac-89d03d8c0215",
   "metadata": {},
   "outputs": [],
   "source": []
  },
  {
   "cell_type": "code",
   "execution_count": 97,
   "id": "f0a70e49-8d31-48c6-bbf5-7e32d93e8b8e",
   "metadata": {},
   "outputs": [],
   "source": [
    "doc = DocxTemplate(\"tpl_reporte.docx\")"
   ]
  },
  {
   "cell_type": "code",
   "execution_count": 98,
   "id": "9dd766ca-e35e-4dbd-9825-d8bace6dd157",
   "metadata": {},
   "outputs": [],
   "source": [
    "context = {'canheros' : canheros, 'propiedades' : propiedades, 'total':total}\n",
    "doc.render(context)\n",
    "doc.save('reportes/' + filename + '.docx')"
   ]
  },
  {
   "cell_type": "markdown",
   "id": "6b9b66b6-c9ca-4503-854b-f6f255e2f775",
   "metadata": {},
   "source": [
    "# Convertir a PDF"
   ]
  },
  {
   "cell_type": "code",
   "execution_count": 249,
   "id": "88c39fc0-6eae-4cb9-8ae6-82f300e460cc",
   "metadata": {},
   "outputs": [],
   "source": [
    "import os"
   ]
  },
  {
   "cell_type": "code",
   "execution_count": 250,
   "id": "b42f65b0-aa79-4a0b-9724-1c11d41488b7",
   "metadata": {},
   "outputs": [],
   "source": [
    "from docx2pdf import convert"
   ]
  },
  {
   "cell_type": "code",
   "execution_count": 251,
   "id": "92923e4c-51e2-4cef-82e1-4e36c4b12e51",
   "metadata": {},
   "outputs": [
    {
     "name": "stdout",
     "output_type": "stream",
     "text": [
      "SE ENCONTRARON 1 INFORMES\n",
      "1 INFORMES\n"
     ]
    },
    {
     "data": {
      "text/plain": [
       "['reportes//911_ADC_09-06-2023_BALCAZAR JUSTINIANO MARIO.docx']"
      ]
     },
     "execution_count": 251,
     "metadata": {},
     "output_type": "execute_result"
    }
   ],
   "source": [
    "path = r'reportes/'\n",
    "contenido = os.listdir(path)\n",
    "rutas =[]\n",
    "i = 0\n",
    "for name in contenido:\n",
    "    rutas.append(path + '/' + name)\n",
    "    i+=1\n",
    "\n",
    "print('SE ENCONTRARON ' + str(i) + ' INFORMES')\n",
    "print(len(rutas), 'INFORMES')\n",
    "rutas"
   ]
  },
  {
   "cell_type": "code",
   "execution_count": 252,
   "id": "1b6e306c-6a4a-44d4-ba28-539c658c1645",
   "metadata": {},
   "outputs": [
    {
     "name": "stdout",
     "output_type": "stream",
     "text": [
      "CONVIRTIENDO... INFORME 1 reportes//911_ADC_09-06-2023_BALCAZAR JUSTINIANO MARIO.docx\n",
      "reportes//911_ADC_09-06-2023_BALCAZAR JUSTINIANO MARIO.docx\n",
      "reportes//911_ADC_09-06-2023_BALCAZAR JUSTINIANO MARIO.pdf\n"
     ]
    },
    {
     "data": {
      "application/vnd.jupyter.widget-view+json": {
       "model_id": "fad5a948f089412487c9fafd0b0900a7",
       "version_major": 2,
       "version_minor": 0
      },
      "text/plain": [
       "  0%|          | 0/1 [00:00<?, ?it/s]"
      ]
     },
     "metadata": {},
     "output_type": "display_data"
    },
    {
     "name": "stdout",
     "output_type": "stream",
     "text": [
      "END\n"
     ]
    }
   ],
   "source": [
    "i = 1\n",
    "for filename in rutas:\n",
    "    print('CONVIRTIENDO... INFORME ' + str(i) + ' ' + filename)\n",
    "    # se realiza la convrsion pasando parametro de salida y entrada, \n",
    "    # para la salida se reemplaza la extencion y la ruta\n",
    "    print(filename)\n",
    "    print(filename.replace('.docx','.pdf').replace('informes','pdfs'))\n",
    "    pdf = filename.replace('.docx','.pdf').split('/')[-1]\n",
    "    convert(filename, r'pdf/' + pdf)\n",
    "    i+=1\n",
    "print('END')"
   ]
  },
  {
   "cell_type": "markdown",
   "id": "01ff1240-1ee0-41e9-a0c5-fa885efed684",
   "metadata": {},
   "source": [
    "# leer ruta de planos"
   ]
  },
  {
   "cell_type": "code",
   "execution_count": 253,
   "id": "5752bf23-b138-46b0-a565-dbe254a57bdd",
   "metadata": {},
   "outputs": [
    {
     "name": "stdout",
     "output_type": "stream",
     "text": [
      "SE ENCONTRARON 1 INFORMES\n",
      "1 INFORMES\n"
     ]
    }
   ],
   "source": [
    "path = r'pdf/'\n",
    "contenido = os.listdir(path)\n",
    "rutas =[]\n",
    "i = 0\n",
    "for name in contenido:\n",
    "    rutas.append(path + '/' + name)\n",
    "    i+=1\n",
    "\n",
    "print('SE ENCONTRARON ' + str(i) + ' INFORMES')\n",
    "print(len(rutas), 'INFORMES')"
   ]
  },
  {
   "cell_type": "code",
   "execution_count": 254,
   "id": "6163f9ef-5862-45e9-9dee-93573d3e28f4",
   "metadata": {},
   "outputs": [],
   "source": [
    "reporte = rutas[0]"
   ]
  },
  {
   "cell_type": "code",
   "execution_count": 255,
   "id": "bdbf8fbf-e471-4133-ace7-67c34d60e6d3",
   "metadata": {},
   "outputs": [
    {
     "data": {
      "text/plain": [
       "'pdf//911_ADC_09-06-2023_BALCAZAR JUSTINIANO MARIO.pdf'"
      ]
     },
     "execution_count": 255,
     "metadata": {},
     "output_type": "execute_result"
    }
   ],
   "source": [
    "reporte"
   ]
  },
  {
   "cell_type": "code",
   "execution_count": 256,
   "id": "5e01f486-a895-48fc-a234-81a86c050a0f",
   "metadata": {},
   "outputs": [],
   "source": [
    "list_pdfs = []\n",
    "list_pdfs.append(reporte)"
   ]
  },
  {
   "cell_type": "code",
   "execution_count": 257,
   "id": "8ce6fed8-1e64-4295-902c-e7a9682c1ae3",
   "metadata": {},
   "outputs": [
    {
     "data": {
      "text/plain": [
       "['pdf//911_ADC_09-06-2023_BALCAZAR JUSTINIANO MARIO.pdf']"
      ]
     },
     "execution_count": 257,
     "metadata": {},
     "output_type": "execute_result"
    }
   ],
   "source": [
    "list_pdfs"
   ]
  },
  {
   "cell_type": "code",
   "execution_count": 258,
   "id": "55914eb1-3041-49f5-a152-e5e59f448513",
   "metadata": {},
   "outputs": [
    {
     "name": "stdout",
     "output_type": "stream",
     "text": [
      "SE ENCONTRARON 1578 INFORMES\n",
      "1578 INFORMES\n"
     ]
    }
   ],
   "source": [
    "path = r'D:\\Ingenio Azucarero Guabira S.A\\UTEA - SEMANAL - AVANCE COSECHA\\2023\\ANALISIS DE CAÑA EN CAMPO 2023\\REPORTE_AVANCE_COSECHA\\PLANOS'\n",
    "contenido = os.listdir(path)\n",
    "rutas =[]\n",
    "i = 0\n",
    "for name in contenido:\n",
    "    rutas.append(path + '/' + name)\n",
    "    i+=1\n",
    "\n",
    "print('SE ENCONTRARON ' + str(i) + ' INFORMES')\n",
    "print(len(rutas), 'INFORMES')"
   ]
  },
  {
   "cell_type": "code",
   "execution_count": 259,
   "id": "e518cac4-7ecb-4fe1-ac32-4b3827c50b9b",
   "metadata": {},
   "outputs": [],
   "source": [
    "data  = {}\n",
    "for i in rutas:\n",
    "    cod_prop = i.split('_')[-1].split('.')[0]\n",
    "    data[cod_prop]=i"
   ]
  },
  {
   "cell_type": "code",
   "execution_count": 260,
   "id": "e40bb3e1-2075-4ff6-87bf-9671ae3810b0",
   "metadata": {},
   "outputs": [
    {
     "data": {
      "text/plain": [
       "'D:\\\\Ingenio Azucarero Guabira S.A\\\\UTEA - SEMANAL - AVANCE COSECHA\\\\2023\\\\ANALISIS DE CAÑA EN CAMPO 2023\\\\REPORTE_AVANCE_COSECHA\\\\PLANOS/PLANO_30.pdf'"
      ]
     },
     "execution_count": 260,
     "metadata": {},
     "output_type": "execute_result"
    }
   ],
   "source": [
    "data['30']"
   ]
  },
  {
   "cell_type": "code",
   "execution_count": 261,
   "id": "1359f77f-2d3b-4348-828e-61d3768b7665",
   "metadata": {},
   "outputs": [
    {
     "data": {
      "text/html": [
       "<div>\n",
       "<style scoped>\n",
       "    .dataframe tbody tr th:only-of-type {\n",
       "        vertical-align: middle;\n",
       "    }\n",
       "\n",
       "    .dataframe tbody tr th {\n",
       "        vertical-align: top;\n",
       "    }\n",
       "\n",
       "    .dataframe thead th {\n",
       "        text-align: right;\n",
       "    }\n",
       "</style>\n",
       "<table border=\"1\" class=\"dataframe\">\n",
       "  <thead>\n",
       "    <tr style=\"text-align: right;\">\n",
       "      <th></th>\n",
       "      <th>unidad_01</th>\n",
       "      <th>unidad_02</th>\n",
       "      <th>area</th>\n",
       "      <th>area_cosechada</th>\n",
       "      <th>TCH</th>\n",
       "      <th>sin_cosechar</th>\n",
       "      <th>produccion_total</th>\n",
       "      <th>produccion_restante</th>\n",
       "      <th>produccion_cosechado</th>\n",
       "    </tr>\n",
       "  </thead>\n",
       "  <tbody>\n",
       "    <tr>\n",
       "      <th>0</th>\n",
       "      <td>732</td>\n",
       "      <td>EL_PUESTO--BALCAZAR</td>\n",
       "      <td>18.59</td>\n",
       "      <td>1.22</td>\n",
       "      <td>46.944692</td>\n",
       "      <td>17.37</td>\n",
       "      <td>872.701825</td>\n",
       "      <td>815.429300</td>\n",
       "      <td>57.272524</td>\n",
       "    </tr>\n",
       "    <tr>\n",
       "      <th>1</th>\n",
       "      <td>733</td>\n",
       "      <td>LAS_PARCELAS--BALCAZAR</td>\n",
       "      <td>20.18</td>\n",
       "      <td>0.00</td>\n",
       "      <td>45.217658</td>\n",
       "      <td>20.18</td>\n",
       "      <td>912.492343</td>\n",
       "      <td>912.492343</td>\n",
       "      <td>0.000000</td>\n",
       "    </tr>\n",
       "    <tr>\n",
       "      <th>2</th>\n",
       "      <td>749</td>\n",
       "      <td>SAN_JORGE_DE_NAICO(EL_TRILLO)--BALCAZAR</td>\n",
       "      <td>25.09</td>\n",
       "      <td>4.28</td>\n",
       "      <td>43.599069</td>\n",
       "      <td>20.81</td>\n",
       "      <td>1093.900635</td>\n",
       "      <td>907.296621</td>\n",
       "      <td>186.604014</td>\n",
       "    </tr>\n",
       "    <tr>\n",
       "      <th>3</th>\n",
       "      <td>750</td>\n",
       "      <td>EL_CARMEN_NAICO--BALCAZAR</td>\n",
       "      <td>7.06</td>\n",
       "      <td>0.00</td>\n",
       "      <td>47.181886</td>\n",
       "      <td>7.06</td>\n",
       "      <td>333.104118</td>\n",
       "      <td>333.104118</td>\n",
       "      <td>0.000000</td>\n",
       "    </tr>\n",
       "    <tr>\n",
       "      <th>4</th>\n",
       "      <td>1694</td>\n",
       "      <td>EL_TRILLO--BALCAZAR_RAMON</td>\n",
       "      <td>25.88</td>\n",
       "      <td>1.24</td>\n",
       "      <td>48.479291</td>\n",
       "      <td>24.64</td>\n",
       "      <td>1254.644064</td>\n",
       "      <td>1194.529742</td>\n",
       "      <td>60.114321</td>\n",
       "    </tr>\n",
       "    <tr>\n",
       "      <th>5</th>\n",
       "      <td>1818</td>\n",
       "      <td>EL_PUESTO--BALCAZAR_RAMON</td>\n",
       "      <td>8.10</td>\n",
       "      <td>4.04</td>\n",
       "      <td>45.167463</td>\n",
       "      <td>4.06</td>\n",
       "      <td>365.856452</td>\n",
       "      <td>183.379901</td>\n",
       "      <td>182.476551</td>\n",
       "    </tr>\n",
       "    <tr>\n",
       "      <th>6</th>\n",
       "      <td>1819</td>\n",
       "      <td>EL_PUESTO--BALCAZAR_SOLETO_MARIO</td>\n",
       "      <td>3.54</td>\n",
       "      <td>0.00</td>\n",
       "      <td>39.509156</td>\n",
       "      <td>3.54</td>\n",
       "      <td>139.862413</td>\n",
       "      <td>139.862413</td>\n",
       "      <td>0.000000</td>\n",
       "    </tr>\n",
       "    <tr>\n",
       "      <th>7</th>\n",
       "      <td>1820</td>\n",
       "      <td>SAN_JORGE--BALCAZAR_SOLETO_MARIO</td>\n",
       "      <td>4.71</td>\n",
       "      <td>0.00</td>\n",
       "      <td>53.842054</td>\n",
       "      <td>4.71</td>\n",
       "      <td>253.596073</td>\n",
       "      <td>253.596073</td>\n",
       "      <td>0.000000</td>\n",
       "    </tr>\n",
       "  </tbody>\n",
       "</table>\n",
       "</div>"
      ],
      "text/plain": [
       "   unidad_01                                unidad_02   area  area_cosechada  \\\n",
       "0        732                      EL_PUESTO--BALCAZAR  18.59            1.22   \n",
       "1        733                   LAS_PARCELAS--BALCAZAR  20.18            0.00   \n",
       "2        749  SAN_JORGE_DE_NAICO(EL_TRILLO)--BALCAZAR  25.09            4.28   \n",
       "3        750                EL_CARMEN_NAICO--BALCAZAR   7.06            0.00   \n",
       "4       1694                EL_TRILLO--BALCAZAR_RAMON  25.88            1.24   \n",
       "5       1818                EL_PUESTO--BALCAZAR_RAMON   8.10            4.04   \n",
       "6       1819         EL_PUESTO--BALCAZAR_SOLETO_MARIO   3.54            0.00   \n",
       "7       1820         SAN_JORGE--BALCAZAR_SOLETO_MARIO   4.71            0.00   \n",
       "\n",
       "         TCH  sin_cosechar  produccion_total  produccion_restante  \\\n",
       "0  46.944692         17.37        872.701825           815.429300   \n",
       "1  45.217658         20.18        912.492343           912.492343   \n",
       "2  43.599069         20.81       1093.900635           907.296621   \n",
       "3  47.181886          7.06        333.104118           333.104118   \n",
       "4  48.479291         24.64       1254.644064          1194.529742   \n",
       "5  45.167463          4.06        365.856452           183.379901   \n",
       "6  39.509156          3.54        139.862413           139.862413   \n",
       "7  53.842054          4.71        253.596073           253.596073   \n",
       "\n",
       "   produccion_cosechado  \n",
       "0             57.272524  \n",
       "1              0.000000  \n",
       "2            186.604014  \n",
       "3              0.000000  \n",
       "4             60.114321  \n",
       "5            182.476551  \n",
       "6              0.000000  \n",
       "7              0.000000  "
      ]
     },
     "execution_count": 261,
     "metadata": {},
     "output_type": "execute_result"
    }
   ],
   "source": [
    "df"
   ]
  },
  {
   "cell_type": "code",
   "execution_count": 262,
   "id": "9099706a-5664-4a13-b335-d5214bb84760",
   "metadata": {},
   "outputs": [],
   "source": [
    "for row in df.itertuples():\n",
    "    cod_prop = row.unidad_01\n",
    "    ruta_prop = data[str(cod_prop)]\n",
    "    list_pdfs.append(ruta_prop)"
   ]
  },
  {
   "cell_type": "code",
   "execution_count": 263,
   "id": "69d51159-59c2-4ee8-b8c9-f9e1b02cd5d2",
   "metadata": {},
   "outputs": [
    {
     "data": {
      "text/plain": [
       "['pdf//911_ADC_09-06-2023_BALCAZAR JUSTINIANO MARIO.pdf',\n",
       " 'D:\\\\Ingenio Azucarero Guabira S.A\\\\UTEA - SEMANAL - AVANCE COSECHA\\\\2023\\\\ANALISIS DE CAÑA EN CAMPO 2023\\\\REPORTE_AVANCE_COSECHA\\\\PLANOS/PLANO_732.pdf',\n",
       " 'D:\\\\Ingenio Azucarero Guabira S.A\\\\UTEA - SEMANAL - AVANCE COSECHA\\\\2023\\\\ANALISIS DE CAÑA EN CAMPO 2023\\\\REPORTE_AVANCE_COSECHA\\\\PLANOS/PLANO_733.pdf',\n",
       " 'D:\\\\Ingenio Azucarero Guabira S.A\\\\UTEA - SEMANAL - AVANCE COSECHA\\\\2023\\\\ANALISIS DE CAÑA EN CAMPO 2023\\\\REPORTE_AVANCE_COSECHA\\\\PLANOS/PLANO_749.pdf',\n",
       " 'D:\\\\Ingenio Azucarero Guabira S.A\\\\UTEA - SEMANAL - AVANCE COSECHA\\\\2023\\\\ANALISIS DE CAÑA EN CAMPO 2023\\\\REPORTE_AVANCE_COSECHA\\\\PLANOS/PLANO_750.pdf',\n",
       " 'D:\\\\Ingenio Azucarero Guabira S.A\\\\UTEA - SEMANAL - AVANCE COSECHA\\\\2023\\\\ANALISIS DE CAÑA EN CAMPO 2023\\\\REPORTE_AVANCE_COSECHA\\\\PLANOS/PLANO_1694.pdf',\n",
       " 'D:\\\\Ingenio Azucarero Guabira S.A\\\\UTEA - SEMANAL - AVANCE COSECHA\\\\2023\\\\ANALISIS DE CAÑA EN CAMPO 2023\\\\REPORTE_AVANCE_COSECHA\\\\PLANOS/PLANO_1818.pdf',\n",
       " 'D:\\\\Ingenio Azucarero Guabira S.A\\\\UTEA - SEMANAL - AVANCE COSECHA\\\\2023\\\\ANALISIS DE CAÑA EN CAMPO 2023\\\\REPORTE_AVANCE_COSECHA\\\\PLANOS/PLANO_1819.pdf',\n",
       " 'D:\\\\Ingenio Azucarero Guabira S.A\\\\UTEA - SEMANAL - AVANCE COSECHA\\\\2023\\\\ANALISIS DE CAÑA EN CAMPO 2023\\\\REPORTE_AVANCE_COSECHA\\\\PLANOS/PLANO_1820.pdf']"
      ]
     },
     "execution_count": 263,
     "metadata": {},
     "output_type": "execute_result"
    }
   ],
   "source": [
    "list_pdfs"
   ]
  },
  {
   "cell_type": "code",
   "execution_count": 264,
   "id": "4dce9633-c8d6-4e67-91ed-875e9811214a",
   "metadata": {},
   "outputs": [],
   "source": [
    "from PyPDF2 import PdfMerger"
   ]
  },
  {
   "cell_type": "code",
   "execution_count": 265,
   "id": "e53e9c90-c499-4af8-834f-9c419592cf92",
   "metadata": {},
   "outputs": [
    {
     "data": {
      "text/plain": [
       "'pdf_final//911_ADC_09-06-2023_BALCAZAR JUSTINIANO MARIO.pdf'"
      ]
     },
     "execution_count": 265,
     "metadata": {},
     "output_type": "execute_result"
    }
   ],
   "source": [
    "filename.replace('reportes', 'pdf_final').replace('docx', 'pdf')"
   ]
  },
  {
   "cell_type": "code",
   "execution_count": 266,
   "id": "4f6b4d10-a5c2-45ce-acce-bce6c3d44631",
   "metadata": {},
   "outputs": [],
   "source": [
    "nombre_archivo_salida = filename.replace('reportes', 'pdf_final').replace('docx', 'pdf')"
   ]
  },
  {
   "cell_type": "code",
   "execution_count": 267,
   "id": "25e914ff-9eb6-42b5-8104-dd73567eaf66",
   "metadata": {},
   "outputs": [],
   "source": [
    "fusionador = PdfMerger()"
   ]
  },
  {
   "cell_type": "code",
   "execution_count": 268,
   "id": "a1c0f2ed-63bf-4690-9f25-c6a68a063073",
   "metadata": {},
   "outputs": [],
   "source": [
    "for pdf in list_pdfs:\n",
    "    fusionador.append(open(pdf, 'rb'))"
   ]
  },
  {
   "cell_type": "code",
   "execution_count": 269,
   "id": "16cd8915-4edb-41eb-82bd-0f33553c14ac",
   "metadata": {},
   "outputs": [],
   "source": [
    "with open(nombre_archivo_salida, 'wb') as salida:\n",
    "    fusionador.write(salida)"
   ]
  },
  {
   "cell_type": "code",
   "execution_count": null,
   "id": "88ecdf1c-cb58-4f57-b6ce-991606f003c6",
   "metadata": {},
   "outputs": [],
   "source": []
  },
  {
   "cell_type": "code",
   "execution_count": null,
   "id": "c1e14bb5-8e2c-42fc-8a09-e7c872cb8dec",
   "metadata": {},
   "outputs": [],
   "source": []
  },
  {
   "cell_type": "code",
   "execution_count": null,
   "id": "db684d01-a009-4e9f-b3f7-0c0e91d6e786",
   "metadata": {},
   "outputs": [],
   "source": []
  },
  {
   "cell_type": "code",
   "execution_count": null,
   "id": "a19c4ffc-89b0-4db0-81d2-2cf6c0a701ac",
   "metadata": {},
   "outputs": [],
   "source": []
  },
  {
   "cell_type": "code",
   "execution_count": null,
   "id": "0ffa553b-ccb6-464e-9ced-f64761da9c19",
   "metadata": {},
   "outputs": [],
   "source": []
  },
  {
   "cell_type": "code",
   "execution_count": null,
   "id": "c58ab25a-7807-49cf-8e9f-fd04cb8949be",
   "metadata": {},
   "outputs": [],
   "source": []
  },
  {
   "cell_type": "code",
   "execution_count": null,
   "id": "bac5f75c-ba9c-426f-803f-ceb6d360d0fc",
   "metadata": {},
   "outputs": [],
   "source": []
  },
  {
   "cell_type": "code",
   "execution_count": null,
   "id": "cbdfebe0-7b91-44bf-af03-7ae67878d9cb",
   "metadata": {},
   "outputs": [],
   "source": []
  },
  {
   "cell_type": "code",
   "execution_count": null,
   "id": "e5d37558-5dbc-42b3-bf7c-9f79140ae770",
   "metadata": {},
   "outputs": [],
   "source": []
  }
 ],
 "metadata": {
  "kernelspec": {
   "display_name": "Python 3 (ipykernel)",
   "language": "python",
   "name": "python3"
  },
  "language_info": {
   "codemirror_mode": {
    "name": "ipython",
    "version": 3
   },
   "file_extension": ".py",
   "mimetype": "text/x-python",
   "name": "python",
   "nbconvert_exporter": "python",
   "pygments_lexer": "ipython3",
   "version": "3.7.11"
  }
 },
 "nbformat": 4,
 "nbformat_minor": 5
}
