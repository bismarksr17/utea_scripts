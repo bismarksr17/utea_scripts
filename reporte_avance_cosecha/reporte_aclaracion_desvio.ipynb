{
 "cells": [
  {
   "cell_type": "markdown",
   "id": "a7a290fe-5066-46af-b0de-ba7f3341acee",
   "metadata": {},
   "source": [
    "Cartar de aclaracion de posible desvío"
   ]
  },
  {
   "cell_type": "code",
   "execution_count": 1,
   "id": "ca9b4b00-6b15-4a9d-af08-e70c7d600def",
   "metadata": {
    "tags": []
   },
   "outputs": [],
   "source": [
    "import pandas as pd\n",
    "import collections\n",
    "\n",
    "from docxtpl import DocxTemplate"
   ]
  },
  {
   "cell_type": "code",
   "execution_count": 2,
   "id": "bc615d29-fa0e-4e6e-a202-5ba5dfa94fe6",
   "metadata": {
    "tags": []
   },
   "outputs": [],
   "source": [
    "# ruta de carpera donde estan las llaves\n",
    "ruta = open('../ruta.txt')\n",
    "ruta = ruta.readlines()[0]"
   ]
  },
  {
   "cell_type": "code",
   "execution_count": 3,
   "id": "3e5d52ea-5b4f-486d-ab01-b7ceb2667134",
   "metadata": {
    "tags": []
   },
   "outputs": [
    {
     "data": {
      "text/plain": [
       "'C:\\\\Documents\\\\OneDrive - Ingenio Azucarero Guabira S.A\\\\_DATOS_PYTHON'"
      ]
     },
     "execution_count": 3,
     "metadata": {},
     "output_type": "execute_result"
    }
   ],
   "source": [
    "ruta"
   ]
  },
  {
   "cell_type": "code",
   "execution_count": 4,
   "id": "b52240b8-8333-4bb2-914a-9dc70d0f143d",
   "metadata": {
    "tags": []
   },
   "outputs": [],
   "source": [
    "path_xlsx_avance = r'C:/Documents/Ingenio Azucarero Guabira S.A/UTEA - SEMANAL - AVANCE COSECHA/2023/ANALISIS DE CAÑA EN CAMPO 2023/AVANCE DE COSECHA V3.xlsx'\n",
    "#path_xlsx_avance = r'C:/Documents/Ingenio Azucarero Guabira S.A/UTEA - SEMANAL - AVANCE COSECHA/2023/ANALISIS DE CAÑA EN CAMPO 2023/AVANCE DE COSECHA V3.xlsx'"
   ]
  },
  {
   "cell_type": "code",
   "execution_count": 5,
   "id": "1b728e8b-d1fb-4952-be59-d80b6e9bfb55",
   "metadata": {
    "tags": []
   },
   "outputs": [
    {
     "name": "stderr",
     "output_type": "stream",
     "text": [
      "C:\\Users\\bismarksr\\anaconda3\\envs\\utea_reportes\\lib\\site-packages\\openpyxl\\worksheet\\_reader.py:329: UserWarning: Unknown extension is not supported and will be removed\n",
      "  warn(msg)\n",
      "C:\\Users\\bismarksr\\anaconda3\\envs\\utea_reportes\\lib\\site-packages\\openpyxl\\worksheet\\_reader.py:329: UserWarning: Conditional Formatting extension is not supported and will be removed\n",
      "  warn(msg)\n"
     ]
    }
   ],
   "source": [
    "xlsx_entregas = pd.read_excel(path_xlsx_avance, sheet_name='ENTREGAS')\n",
    "xlsx_avance = pd.read_excel(path_xlsx_avance, sheet_name = 'AVANCE')"
   ]
  },
  {
   "cell_type": "code",
   "execution_count": 6,
   "id": "0b8d2740-973f-4c38-9b9e-4824a2e72c65",
   "metadata": {
    "tags": []
   },
   "outputs": [
    {
     "data": {
      "text/html": [
       "<div>\n",
       "<style scoped>\n",
       "    .dataframe tbody tr th:only-of-type {\n",
       "        vertical-align: middle;\n",
       "    }\n",
       "\n",
       "    .dataframe tbody tr th {\n",
       "        vertical-align: top;\n",
       "    }\n",
       "\n",
       "    .dataframe thead th {\n",
       "        text-align: right;\n",
       "    }\n",
       "</style>\n",
       "<table border=\"1\" class=\"dataframe\">\n",
       "  <thead>\n",
       "    <tr style=\"text-align: right;\">\n",
       "      <th></th>\n",
       "      <th>INST</th>\n",
       "      <th>GRUPO</th>\n",
       "      <th>CODIGO CAÑERO</th>\n",
       "      <th>NOMBRE CAÑERO</th>\n",
       "      <th>COMPROMISO DE ENTREGA</th>\n",
       "      <th>PAQ</th>\n",
       "      <th>TM. ENTREGADAS</th>\n",
       "      <th>AVANCE</th>\n",
       "      <th>INICIO DE ENTREGAS</th>\n",
       "      <th>ULTIMA ENTREGA</th>\n",
       "      <th>COD_COSECHA</th>\n",
       "    </tr>\n",
       "  </thead>\n",
       "  <tbody>\n",
       "    <tr>\n",
       "      <th>0</th>\n",
       "      <td>1</td>\n",
       "      <td>1</td>\n",
       "      <td>2710</td>\n",
       "      <td>DEMIQUEL JIMENEZ JOSELITO</td>\n",
       "      <td>1054.46</td>\n",
       "      <td>NaN</td>\n",
       "      <td>1482.15</td>\n",
       "      <td>1.405601</td>\n",
       "      <td>NaN</td>\n",
       "      <td>NaN</td>\n",
       "      <td>287.0</td>\n",
       "    </tr>\n",
       "    <tr>\n",
       "      <th>1</th>\n",
       "      <td>1</td>\n",
       "      <td>1</td>\n",
       "      <td>2751</td>\n",
       "      <td>DEMIQUEL TERESA JIMENEZ DE</td>\n",
       "      <td>114.10</td>\n",
       "      <td>NaN</td>\n",
       "      <td>120.89</td>\n",
       "      <td>1.059509</td>\n",
       "      <td>NaN</td>\n",
       "      <td>NaN</td>\n",
       "      <td>287.0</td>\n",
       "    </tr>\n",
       "    <tr>\n",
       "      <th>2</th>\n",
       "      <td>1</td>\n",
       "      <td>1</td>\n",
       "      <td>7572</td>\n",
       "      <td>LAVERAN VACA ZENON</td>\n",
       "      <td>64.75</td>\n",
       "      <td>NaN</td>\n",
       "      <td>42.35</td>\n",
       "      <td>0.654054</td>\n",
       "      <td>NaN</td>\n",
       "      <td>NaN</td>\n",
       "      <td>286.0</td>\n",
       "    </tr>\n",
       "  </tbody>\n",
       "</table>\n",
       "</div>"
      ],
      "text/plain": [
       "   INST  GRUPO  CODIGO CAÑERO                NOMBRE CAÑERO  \\\n",
       "0     1      1            2710  DEMIQUEL JIMENEZ JOSELITO    \n",
       "1     1      1            2751  DEMIQUEL TERESA JIMENEZ DE   \n",
       "2     1      1            7572          LAVERAN VACA ZENON   \n",
       "\n",
       "   COMPROMISO DE ENTREGA  PAQ  TM. ENTREGADAS    AVANCE  INICIO DE ENTREGAS  \\\n",
       "0                1054.46  NaN         1482.15  1.405601                 NaN   \n",
       "1                 114.10  NaN          120.89  1.059509                 NaN   \n",
       "2                  64.75  NaN           42.35  0.654054                 NaN   \n",
       "\n",
       "   ULTIMA ENTREGA  COD_COSECHA  \n",
       "0             NaN        287.0  \n",
       "1             NaN        287.0  \n",
       "2             NaN        286.0  "
      ]
     },
     "execution_count": 6,
     "metadata": {},
     "output_type": "execute_result"
    }
   ],
   "source": [
    "xlsx_entregas.head(3)"
   ]
  },
  {
   "cell_type": "code",
   "execution_count": 7,
   "id": "f37e76c4-f292-49f6-a6f6-3c55a1488a1a",
   "metadata": {
    "tags": []
   },
   "outputs": [
    {
     "data": {
      "text/html": [
       "<div>\n",
       "<style scoped>\n",
       "    .dataframe tbody tr th:only-of-type {\n",
       "        vertical-align: middle;\n",
       "    }\n",
       "\n",
       "    .dataframe tbody tr th {\n",
       "        vertical-align: top;\n",
       "    }\n",
       "\n",
       "    .dataframe thead th {\n",
       "        text-align: right;\n",
       "    }\n",
       "</style>\n",
       "<table border=\"1\" class=\"dataframe\">\n",
       "  <thead>\n",
       "    <tr style=\"text-align: right;\">\n",
       "      <th></th>\n",
       "      <th>COD_COS</th>\n",
       "      <th>CODIGO CAÑERO</th>\n",
       "      <th>NOMBRE CAÑERO</th>\n",
       "      <th>COMPROMISO</th>\n",
       "      <th>ENTREGA</th>\n",
       "      <th>%_ENTREGA</th>\n",
       "      <th>TOTAL_AREA</th>\n",
       "      <th>COSECHA</th>\n",
       "      <th>SIN COSECHA</th>\n",
       "      <th>%COSECHA</th>\n",
       "      <th>...</th>\n",
       "      <th>DIF.AVANCE</th>\n",
       "      <th>AREA_ESTIM.</th>\n",
       "      <th>TCH_ESTIM</th>\n",
       "      <th>PRODUCCION_ESTIM</th>\n",
       "      <th>TN_COSECHA_ESTIM</th>\n",
       "      <th>DIF.ESTIM</th>\n",
       "      <th>% DIF.ESTIM</th>\n",
       "      <th>TN_EN_CAMPO</th>\n",
       "      <th>COMPROM_REST</th>\n",
       "      <th>DIFERENCIA</th>\n",
       "    </tr>\n",
       "  </thead>\n",
       "  <tbody>\n",
       "    <tr>\n",
       "      <th>0</th>\n",
       "      <td>1</td>\n",
       "      <td>515</td>\n",
       "      <td>AGUILERA OLGA RIVERO VDA DE</td>\n",
       "      <td>26449.77</td>\n",
       "      <td>32139.67</td>\n",
       "      <td>1.215121</td>\n",
       "      <td>543.38</td>\n",
       "      <td>543.38</td>\n",
       "      <td>NaN</td>\n",
       "      <td>1.000000</td>\n",
       "      <td>...</td>\n",
       "      <td>0.215121</td>\n",
       "      <td>543.693782</td>\n",
       "      <td>55.390276</td>\n",
       "      <td>30115.348382</td>\n",
       "      <td>30115.348382</td>\n",
       "      <td>2024.321618</td>\n",
       "      <td>0.937015</td>\n",
       "      <td>NaN</td>\n",
       "      <td>-5689.90</td>\n",
       "      <td>5689.900000</td>\n",
       "    </tr>\n",
       "    <tr>\n",
       "      <th>1</th>\n",
       "      <td>2</td>\n",
       "      <td>1180</td>\n",
       "      <td>BALCAZAR BALCAZAR JESUS E.</td>\n",
       "      <td>10848.49</td>\n",
       "      <td>12360.22</td>\n",
       "      <td>1.139349</td>\n",
       "      <td>170.47</td>\n",
       "      <td>170.47</td>\n",
       "      <td>NaN</td>\n",
       "      <td>1.000000</td>\n",
       "      <td>...</td>\n",
       "      <td>0.139349</td>\n",
       "      <td>170.249063</td>\n",
       "      <td>50.971072</td>\n",
       "      <td>8677.777218</td>\n",
       "      <td>8677.777218</td>\n",
       "      <td>3682.442782</td>\n",
       "      <td>0.702073</td>\n",
       "      <td>NaN</td>\n",
       "      <td>-1511.73</td>\n",
       "      <td>1511.730000</td>\n",
       "    </tr>\n",
       "    <tr>\n",
       "      <th>2</th>\n",
       "      <td>3</td>\n",
       "      <td>911</td>\n",
       "      <td>BALCAZAR JUSTINIANO MARIO</td>\n",
       "      <td>5390.78</td>\n",
       "      <td>6233.97</td>\n",
       "      <td>1.156413</td>\n",
       "      <td>100.01</td>\n",
       "      <td>95.02</td>\n",
       "      <td>4.99</td>\n",
       "      <td>0.950105</td>\n",
       "      <td>...</td>\n",
       "      <td>0.206308</td>\n",
       "      <td>114.920802</td>\n",
       "      <td>47.592543</td>\n",
       "      <td>5469.373160</td>\n",
       "      <td>4540.358938</td>\n",
       "      <td>1693.611062</td>\n",
       "      <td>0.728325</td>\n",
       "      <td>248.458376</td>\n",
       "      <td>-843.19</td>\n",
       "      <td>1091.648376</td>\n",
       "    </tr>\n",
       "  </tbody>\n",
       "</table>\n",
       "<p>3 rows × 21 columns</p>\n",
       "</div>"
      ],
      "text/plain": [
       "  COD_COS CODIGO CAÑERO                NOMBRE CAÑERO  COMPROMISO   ENTREGA  \\\n",
       "0       1           515  AGUILERA OLGA RIVERO VDA DE    26449.77  32139.67   \n",
       "1       2          1180   BALCAZAR BALCAZAR JESUS E.    10848.49  12360.22   \n",
       "2       3           911    BALCAZAR JUSTINIANO MARIO     5390.78   6233.97   \n",
       "\n",
       "   %_ENTREGA  TOTAL_AREA  COSECHA  SIN COSECHA  %COSECHA  ...  DIF.AVANCE  \\\n",
       "0   1.215121      543.38   543.38          NaN  1.000000  ...    0.215121   \n",
       "1   1.139349      170.47   170.47          NaN  1.000000  ...    0.139349   \n",
       "2   1.156413      100.01    95.02         4.99  0.950105  ...    0.206308   \n",
       "\n",
       "   AREA_ESTIM.  TCH_ESTIM  PRODUCCION_ESTIM  TN_COSECHA_ESTIM    DIF.ESTIM  \\\n",
       "0   543.693782  55.390276      30115.348382      30115.348382  2024.321618   \n",
       "1   170.249063  50.971072       8677.777218       8677.777218  3682.442782   \n",
       "2   114.920802  47.592543       5469.373160       4540.358938  1693.611062   \n",
       "\n",
       "   % DIF.ESTIM  TN_EN_CAMPO  COMPROM_REST   DIFERENCIA  \n",
       "0     0.937015          NaN      -5689.90  5689.900000  \n",
       "1     0.702073          NaN      -1511.73  1511.730000  \n",
       "2     0.728325   248.458376       -843.19  1091.648376  \n",
       "\n",
       "[3 rows x 21 columns]"
      ]
     },
     "execution_count": 7,
     "metadata": {},
     "output_type": "execute_result"
    }
   ],
   "source": [
    "xlsx_avance.head(3)"
   ]
  },
  {
   "cell_type": "markdown",
   "id": "4a1d6b56-eb17-4c5b-9991-023b46760aca",
   "metadata": {},
   "source": [
    "## Argumentos"
   ]
  },
  {
   "cell_type": "code",
   "execution_count": 14,
   "id": "03e8f925-dee3-44e3-b1f1-4f06314732a7",
   "metadata": {
    "tags": []
   },
   "outputs": [],
   "source": [
    "fecha_inf = '18 de noviembre de 2023'\n",
    "fecha_form = '18-11-2023' # fecha para el nombre de archivo\n",
    "\n",
    "fecha_aclaracion = '18 de noviembre de 2023'\n",
    "cod_grupos = [474]"
   ]
  },
  {
   "cell_type": "code",
   "execution_count": 15,
   "id": "35e16c7f-2ba0-425c-b258-c05b0625215c",
   "metadata": {
    "tags": []
   },
   "outputs": [
    {
     "name": "stdout",
     "output_type": "stream",
     "text": [
      "Se generó reporte de grupo: 474\n"
     ]
    },
    {
     "name": "stderr",
     "output_type": "stream",
     "text": [
      "C:\\Users\\bismarksr\\AppData\\Local\\Temp\\ipykernel_60148\\2495378206.py:35: FutureWarning: Calling float on a single element Series is deprecated and will raise a TypeError in the future. Use float(ser.iloc[0]) instead\n",
      "  'entrega_porcen' : float(avance['%_ENTREGA']) * 100,\n",
      "C:\\Users\\bismarksr\\AppData\\Local\\Temp\\ipykernel_60148\\2495378206.py:36: FutureWarning: Calling float on a single element Series is deprecated and will raise a TypeError in the future. Use float(ser.iloc[0]) instead\n",
      "  'ha_canha' : float(avance['TOTAL_AREA']),\n",
      "C:\\Users\\bismarksr\\AppData\\Local\\Temp\\ipykernel_60148\\2495378206.py:37: FutureWarning: Calling float on a single element Series is deprecated and will raise a TypeError in the future. Use float(ser.iloc[0]) instead\n",
      "  'ha_cosecha' : float(avance['COSECHA']),\n",
      "C:\\Users\\bismarksr\\AppData\\Local\\Temp\\ipykernel_60148\\2495378206.py:38: FutureWarning: Calling float on a single element Series is deprecated and will raise a TypeError in the future. Use float(ser.iloc[0]) instead\n",
      "  'cosecha_porcen' : float(avance['%COSECHA']) * 100,\n",
      "C:\\Users\\bismarksr\\AppData\\Local\\Temp\\ipykernel_60148\\2495378206.py:39: FutureWarning: Calling float on a single element Series is deprecated and will raise a TypeError in the future. Use float(ser.iloc[0]) instead\n",
      "  'diferencia_porcen' : float(avance['DIF.AVANCE']) * 100,\n",
      "C:\\Users\\bismarksr\\AppData\\Local\\Temp\\ipykernel_60148\\2495378206.py:41: FutureWarning: Calling float on a single element Series is deprecated and will raise a TypeError in the future. Use float(ser.iloc[0]) instead\n",
      "  'compromiso_rest' : float(avance['COMPROM_REST']),\n",
      "C:\\Users\\bismarksr\\AppData\\Local\\Temp\\ipykernel_60148\\2495378206.py:42: FutureWarning: Calling float on a single element Series is deprecated and will raise a TypeError in the future. Use float(ser.iloc[0]) instead\n",
      "  'tn_en_campo' : float(avance['TN_EN_CAMPO']),\n",
      "C:\\Users\\bismarksr\\AppData\\Local\\Temp\\ipykernel_60148\\2495378206.py:43: FutureWarning: Calling float on a single element Series is deprecated and will raise a TypeError in the future. Use float(ser.iloc[0]) instead\n",
      "  'diferencia' : float(avance['DIFERENCIA'])\n"
     ]
    }
   ],
   "source": [
    "for i in cod_grupos:\n",
    "    # datos del grupo\n",
    "    grupo = xlsx_entregas[xlsx_entregas['COD_COSECHA'] == i].copy()\n",
    "    grupo = grupo[['INST', 'CODIGO CAÑERO ', 'NOMBRE CAÑERO','COMPROMISO DE ENTREGA', 'TM. ENTREGADAS']]\n",
    "    grupo['TM. ENTREGADAS'] = grupo['TM. ENTREGADAS'].fillna(0)\n",
    "    grupo['avance%'] = grupo['TM. ENTREGADAS'] / grupo['COMPROMISO DE ENTREGA'] * 100\n",
    "    \n",
    "    # convertir datos del grupo a objetos\n",
    "    list_obj_caneros = []\n",
    "    for index, row in grupo.iterrows():\n",
    "        canero = {\n",
    "            'inst' : row['INST'],\n",
    "            'cod_ca' : row['CODIGO CAÑERO '],\n",
    "            'nom_ca' : row['NOMBRE CAÑERO'],\n",
    "            'compromiso' : row['COMPROMISO DE ENTREGA'],\n",
    "            'entrega' : row['TM. ENTREGADAS'],\n",
    "            'entrega_porcen' : row['avance%']\n",
    "        }\n",
    "        list_obj_caneros.append(collections.namedtuple(\"canero\", canero.keys())(*canero.values()))\n",
    "    \n",
    "    # totales de los datos del grupo\n",
    "    grupo_totales = {\n",
    "        'compromiso' : grupo['COMPROMISO DE ENTREGA'].sum(),\n",
    "        'entregas' : grupo['TM. ENTREGADAS'].sum(),\n",
    "        'entrega_porcen' : grupo['TM. ENTREGADAS'].sum() / grupo['COMPROMISO DE ENTREGA'].sum() * 100\n",
    "    }\n",
    "    obj_grupo_totales = collections.namedtuple(\"grupo_totales\", grupo_totales.keys())(*grupo_totales.values())\n",
    "    \n",
    "    # datos generales de avance de cosecha\n",
    "    avance = xlsx_avance[xlsx_avance['COD_COS'] == i]\n",
    "    avance_totales = {\n",
    "        'fecha_aclaracion' : fecha_aclaracion,\n",
    "        'fecha_informe' : fecha_inf,\n",
    "    \n",
    "        'entrega_porcen' : float(avance['%_ENTREGA']) * 100,\n",
    "        'ha_canha' : float(avance['TOTAL_AREA']),\n",
    "        'ha_cosecha' : float(avance['COSECHA']),\n",
    "        'cosecha_porcen' : float(avance['%COSECHA']) * 100,\n",
    "        'diferencia_porcen' : float(avance['DIF.AVANCE']) * 100,\n",
    "        \n",
    "        'compromiso_rest' : float(avance['COMPROM_REST']),\n",
    "        'tn_en_campo' : float(avance['TN_EN_CAMPO']),\n",
    "        'diferencia' : float(avance['DIFERENCIA'])\n",
    "    }\n",
    "    \n",
    "    # datos generales a objeto\n",
    "    obj_avance_totales = collections.namedtuple(\"avance_totales\",avance_totales.keys())(*avance_totales.values())\n",
    "    \n",
    "    # generar reporte\n",
    "    doc = DocxTemplate(ruta + '/templates/tpl_informe_aclarativa_desvio.docx')\n",
    "    context = {\n",
    "        'insp' : list_obj_caneros,\n",
    "        'grupo_totales' : obj_grupo_totales,\n",
    "        'avance' : obj_avance_totales\n",
    "    }\n",
    "    doc.render(context)\n",
    "    doc.save(ruta + '/informes/_' + avance['NOMBRE CAÑERO'].iloc[0] + fecha_form + '.docx')\n",
    "    print('Se generó reporte de grupo:', i)"
   ]
  },
  {
   "cell_type": "code",
   "execution_count": null,
   "id": "b2074267-172e-4ce7-b75c-4b5fdd62c4a8",
   "metadata": {},
   "outputs": [],
   "source": []
  },
  {
   "cell_type": "code",
   "execution_count": null,
   "id": "77a3cf14-ed56-43ba-af68-e158e17cae46",
   "metadata": {},
   "outputs": [],
   "source": []
  },
  {
   "cell_type": "code",
   "execution_count": null,
   "id": "b35c0011-4704-469a-965d-d4ce5d0efa4d",
   "metadata": {},
   "outputs": [],
   "source": []
  },
  {
   "cell_type": "code",
   "execution_count": null,
   "id": "30b41900-d827-4e6c-bd9e-38468f303d2b",
   "metadata": {},
   "outputs": [],
   "source": []
  },
  {
   "cell_type": "code",
   "execution_count": null,
   "id": "ac183af9-0b33-46b0-800c-6679765dc6d0",
   "metadata": {},
   "outputs": [],
   "source": []
  },
  {
   "cell_type": "code",
   "execution_count": null,
   "id": "b01d8e9c-9e63-4cee-9294-567da5176718",
   "metadata": {},
   "outputs": [],
   "source": []
  },
  {
   "cell_type": "code",
   "execution_count": null,
   "id": "3d5f940b-052b-4ba3-8fd8-77dfdfa6b012",
   "metadata": {},
   "outputs": [],
   "source": []
  },
  {
   "cell_type": "code",
   "execution_count": null,
   "id": "2b11deb8-42e0-433d-b38a-97fdb92eb95c",
   "metadata": {},
   "outputs": [],
   "source": []
  },
  {
   "cell_type": "code",
   "execution_count": null,
   "id": "fdaf2319-da71-4f77-9224-90ce4f31bf6a",
   "metadata": {},
   "outputs": [],
   "source": []
  },
  {
   "cell_type": "code",
   "execution_count": null,
   "id": "7e9f87ff-9c4d-4450-9ba2-934d8953d187",
   "metadata": {},
   "outputs": [],
   "source": []
  },
  {
   "cell_type": "code",
   "execution_count": null,
   "id": "87310f52-157d-4662-8f23-c6a521b3717b",
   "metadata": {},
   "outputs": [],
   "source": []
  },
  {
   "cell_type": "code",
   "execution_count": null,
   "id": "ecf62042-d7c2-4aea-8acb-8054bee92758",
   "metadata": {},
   "outputs": [],
   "source": []
  },
  {
   "cell_type": "code",
   "execution_count": null,
   "id": "82001312-c870-47da-8691-d377f8323974",
   "metadata": {},
   "outputs": [],
   "source": []
  },
  {
   "cell_type": "code",
   "execution_count": null,
   "id": "d1003fc9-0c22-4afa-8c2c-04aac7f529be",
   "metadata": {},
   "outputs": [],
   "source": []
  },
  {
   "cell_type": "code",
   "execution_count": null,
   "id": "db507b83-f104-4a01-a6a8-d79e5d5e794f",
   "metadata": {},
   "outputs": [],
   "source": []
  },
  {
   "cell_type": "code",
   "execution_count": null,
   "id": "5f142f46-840f-4e33-9835-195a2183be8e",
   "metadata": {},
   "outputs": [],
   "source": []
  },
  {
   "cell_type": "markdown",
   "id": "9ecfcfff-c39c-4c23-b02e-7990cea7d26e",
   "metadata": {},
   "source": [
    "## DATOS DEL GRUPO"
   ]
  },
  {
   "cell_type": "code",
   "execution_count": 31,
   "id": "a104a935-cb12-436e-b654-2b3dedc9e53c",
   "metadata": {
    "tags": []
   },
   "outputs": [],
   "source": [
    "cod_grupo = 145"
   ]
  },
  {
   "cell_type": "code",
   "execution_count": 32,
   "id": "f5b70e9d-3121-4aec-bb05-217ae1bd52e3",
   "metadata": {
    "tags": []
   },
   "outputs": [
    {
     "data": {
      "text/html": [
       "<div>\n",
       "<style scoped>\n",
       "    .dataframe tbody tr th:only-of-type {\n",
       "        vertical-align: middle;\n",
       "    }\n",
       "\n",
       "    .dataframe tbody tr th {\n",
       "        vertical-align: top;\n",
       "    }\n",
       "\n",
       "    .dataframe thead th {\n",
       "        text-align: right;\n",
       "    }\n",
       "</style>\n",
       "<table border=\"1\" class=\"dataframe\">\n",
       "  <thead>\n",
       "    <tr style=\"text-align: right;\">\n",
       "      <th></th>\n",
       "      <th>INST</th>\n",
       "      <th>CODIGO CAÑERO</th>\n",
       "      <th>NOMBRE CAÑERO</th>\n",
       "      <th>COMPROMISO DE ENTREGA</th>\n",
       "      <th>TM. ENTREGADAS</th>\n",
       "      <th>avance%</th>\n",
       "    </tr>\n",
       "  </thead>\n",
       "  <tbody>\n",
       "    <tr>\n",
       "      <th>1339</th>\n",
       "      <td>304</td>\n",
       "      <td>2913</td>\n",
       "      <td>CALVIMONTES VARGAS ZAIRA EVELYN</td>\n",
       "      <td>895.06</td>\n",
       "      <td>241.02</td>\n",
       "      <td>26.927804</td>\n",
       "    </tr>\n",
       "    <tr>\n",
       "      <th>1340</th>\n",
       "      <td>304</td>\n",
       "      <td>14569</td>\n",
       "      <td>VARGAS SOTO ERWIN</td>\n",
       "      <td>781.63</td>\n",
       "      <td>1134.24</td>\n",
       "      <td>145.112137</td>\n",
       "    </tr>\n",
       "    <tr>\n",
       "      <th>1341</th>\n",
       "      <td>304</td>\n",
       "      <td>15146</td>\n",
       "      <td>VARGAS IGNACIA SOTO POLO DE</td>\n",
       "      <td>1899.38</td>\n",
       "      <td>1834.59</td>\n",
       "      <td>96.588887</td>\n",
       "    </tr>\n",
       "    <tr>\n",
       "      <th>1342</th>\n",
       "      <td>304</td>\n",
       "      <td>15308</td>\n",
       "      <td>VARGAS SOTO ELVIRA</td>\n",
       "      <td>591.64</td>\n",
       "      <td>884.67</td>\n",
       "      <td>149.528429</td>\n",
       "    </tr>\n",
       "  </tbody>\n",
       "</table>\n",
       "</div>"
      ],
      "text/plain": [
       "      INST  CODIGO CAÑERO                      NOMBRE CAÑERO  \\\n",
       "1339   304            2913  CALVIMONTES VARGAS ZAIRA EVELYN    \n",
       "1340   304           14569                VARGAS SOTO ERWIN    \n",
       "1341   304           15146      VARGAS IGNACIA SOTO POLO DE    \n",
       "1342   304           15308                VARGAS SOTO ELVIRA   \n",
       "\n",
       "      COMPROMISO DE ENTREGA  TM. ENTREGADAS     avance%  \n",
       "1339                 895.06          241.02   26.927804  \n",
       "1340                 781.63         1134.24  145.112137  \n",
       "1341                1899.38         1834.59   96.588887  \n",
       "1342                 591.64          884.67  149.528429  "
      ]
     },
     "execution_count": 32,
     "metadata": {},
     "output_type": "execute_result"
    }
   ],
   "source": [
    "grupo = xlsx_entregas[xlsx_entregas['COD_COSECHA'] == cod_grupo].copy()\n",
    "grupo = grupo[['INST', 'CODIGO CAÑERO ', 'NOMBRE CAÑERO','COMPROMISO DE ENTREGA', 'TM. ENTREGADAS']]\n",
    "grupo['TM. ENTREGADAS'] = grupo['TM. ENTREGADAS'].fillna(0)\n",
    "grupo['avance%'] = grupo['TM. ENTREGADAS'] / grupo['COMPROMISO DE ENTREGA'] * 100\n",
    "grupo"
   ]
  },
  {
   "cell_type": "code",
   "execution_count": 33,
   "id": "78e78f5c-caa9-498e-8199-3e439cae1ae9",
   "metadata": {
    "tags": []
   },
   "outputs": [
    {
     "data": {
      "text/plain": [
       "[canero(inst=304, cod_ca=2913, nom_ca='CALVIMONTES VARGAS ZAIRA EVELYN ', compromiso=895.06, entrega=241.02, entrega_porcen=26.92780372265547),\n",
       " canero(inst=304, cod_ca=14569, nom_ca='VARGAS SOTO ERWIN ', compromiso=781.63, entrega=1134.24, entrega_porcen=145.11213745634123),\n",
       " canero(inst=304, cod_ca=15146, nom_ca='VARGAS IGNACIA SOTO POLO DE ', compromiso=1899.38, entrega=1834.59, entrega_porcen=96.58888689993576),\n",
       " canero(inst=304, cod_ca=15308, nom_ca='VARGAS SOTO ELVIRA', compromiso=591.64, entrega=884.67, entrega_porcen=149.5284294503414)]"
      ]
     },
     "execution_count": 33,
     "metadata": {},
     "output_type": "execute_result"
    }
   ],
   "source": [
    "list_obj_caneros = []\n",
    "for index, row in grupo.iterrows():\n",
    "    canero = {\n",
    "        'inst' : row['INST'],\n",
    "        'cod_ca' : row['CODIGO CAÑERO '],\n",
    "        'nom_ca' : row['NOMBRE CAÑERO'],\n",
    "        'compromiso' : row['COMPROMISO DE ENTREGA'],\n",
    "        'entrega' : row['TM. ENTREGADAS'],\n",
    "        'entrega_porcen' : row['avance%']\n",
    "    }\n",
    "    list_obj_caneros.append(collections.namedtuple(\"canero\", canero.keys())(*canero.values()))\n",
    "list_obj_caneros"
   ]
  },
  {
   "cell_type": "code",
   "execution_count": 34,
   "id": "8f94ddd4-1ef1-42d1-bfa3-0721a8733165",
   "metadata": {
    "tags": []
   },
   "outputs": [
    {
     "data": {
      "text/plain": [
       "grupo_totales(compromiso=4167.71, entregas=4094.52, entrega_porcen=98.24387973251497)"
      ]
     },
     "execution_count": 34,
     "metadata": {},
     "output_type": "execute_result"
    }
   ],
   "source": [
    "grupo_totales = {\n",
    "    'compromiso' : grupo['COMPROMISO DE ENTREGA'].sum(),\n",
    "    'entregas' : grupo['TM. ENTREGADAS'].sum(),\n",
    "    'entrega_porcen' : grupo['TM. ENTREGADAS'].sum() / grupo['COMPROMISO DE ENTREGA'].sum() * 100\n",
    "}\n",
    "obj_grupo_totales = collections.namedtuple(\"grupo_totales\", grupo_totales.keys())(*grupo_totales.values())\n",
    "obj_grupo_totales"
   ]
  },
  {
   "cell_type": "markdown",
   "id": "bd2416ea-0ec2-4295-8f9d-f1aa0eca0261",
   "metadata": {},
   "source": [
    "## DATOS DE AVANCE"
   ]
  },
  {
   "cell_type": "code",
   "execution_count": 38,
   "id": "e4032d79-a1e3-4084-8f27-8999dacd6e97",
   "metadata": {
    "tags": []
   },
   "outputs": [
    {
     "data": {
      "text/html": [
       "<div>\n",
       "<style scoped>\n",
       "    .dataframe tbody tr th:only-of-type {\n",
       "        vertical-align: middle;\n",
       "    }\n",
       "\n",
       "    .dataframe tbody tr th {\n",
       "        vertical-align: top;\n",
       "    }\n",
       "\n",
       "    .dataframe thead th {\n",
       "        text-align: right;\n",
       "    }\n",
       "</style>\n",
       "<table border=\"1\" class=\"dataframe\">\n",
       "  <thead>\n",
       "    <tr style=\"text-align: right;\">\n",
       "      <th></th>\n",
       "      <th>COD_COS</th>\n",
       "      <th>CODIGO CAÑERO</th>\n",
       "      <th>NOMBRE CAÑERO</th>\n",
       "      <th>COMPROMISO</th>\n",
       "      <th>ENTREGA</th>\n",
       "      <th>%_ENTREGA</th>\n",
       "      <th>TOTAL_AREA</th>\n",
       "      <th>COSECHA</th>\n",
       "      <th>SIN COSECHA</th>\n",
       "      <th>%COSECHA</th>\n",
       "      <th>...</th>\n",
       "      <th>DIF.AVANCE</th>\n",
       "      <th>AREA_ESTIM.</th>\n",
       "      <th>TCH_ESTIM</th>\n",
       "      <th>PRODUCCION_ESTIM</th>\n",
       "      <th>TN_COSECHA_ESTIM</th>\n",
       "      <th>DIF.ESTIM</th>\n",
       "      <th>% DIF.ESTIM</th>\n",
       "      <th>TN_EN_CAMPO</th>\n",
       "      <th>COMPROM_REST</th>\n",
       "      <th>DIFERENCIA</th>\n",
       "    </tr>\n",
       "  </thead>\n",
       "  <tbody>\n",
       "    <tr>\n",
       "      <th>0</th>\n",
       "      <td>179</td>\n",
       "      <td>8016.0</td>\n",
       "      <td>PIL ANDINA S.A.</td>\n",
       "      <td>13206.87</td>\n",
       "      <td>8690.9</td>\n",
       "      <td>0.658059</td>\n",
       "      <td>358.47</td>\n",
       "      <td>270.66</td>\n",
       "      <td>87.81</td>\n",
       "      <td>0.755042</td>\n",
       "      <td>...</td>\n",
       "      <td>-0.096983</td>\n",
       "      <td>358.188662</td>\n",
       "      <td>51.34715</td>\n",
       "      <td>18391.966951</td>\n",
       "      <td>15789.085837</td>\n",
       "      <td>-7098.185837</td>\n",
       "      <td>1.816738</td>\n",
       "      <td>2602.881114</td>\n",
       "      <td>4515.97</td>\n",
       "      <td>-1913.088886</td>\n",
       "    </tr>\n",
       "    <tr>\n",
       "      <th>1</th>\n",
       "      <td>Grand Total</td>\n",
       "      <td>NaN</td>\n",
       "      <td>NaN</td>\n",
       "      <td>13206.87</td>\n",
       "      <td>8690.9</td>\n",
       "      <td>0.658059</td>\n",
       "      <td>358.47</td>\n",
       "      <td>270.66</td>\n",
       "      <td>87.81</td>\n",
       "      <td>0.755042</td>\n",
       "      <td>...</td>\n",
       "      <td>-0.096983</td>\n",
       "      <td>358.188662</td>\n",
       "      <td>51.34715</td>\n",
       "      <td>18391.966951</td>\n",
       "      <td>15789.085837</td>\n",
       "      <td>-7098.185837</td>\n",
       "      <td>1.816738</td>\n",
       "      <td>2602.881114</td>\n",
       "      <td>4515.97</td>\n",
       "      <td>-1913.088886</td>\n",
       "    </tr>\n",
       "    <tr>\n",
       "      <th>2</th>\n",
       "      <td>NaN</td>\n",
       "      <td>NaN</td>\n",
       "      <td>NaN</td>\n",
       "      <td>NaN</td>\n",
       "      <td>NaN</td>\n",
       "      <td>NaN</td>\n",
       "      <td>NaN</td>\n",
       "      <td>NaN</td>\n",
       "      <td>NaN</td>\n",
       "      <td>NaN</td>\n",
       "      <td>...</td>\n",
       "      <td>NaN</td>\n",
       "      <td>NaN</td>\n",
       "      <td>NaN</td>\n",
       "      <td>NaN</td>\n",
       "      <td>NaN</td>\n",
       "      <td>NaN</td>\n",
       "      <td>NaN</td>\n",
       "      <td>NaN</td>\n",
       "      <td>NaN</td>\n",
       "      <td>NaN</td>\n",
       "    </tr>\n",
       "  </tbody>\n",
       "</table>\n",
       "<p>3 rows × 21 columns</p>\n",
       "</div>"
      ],
      "text/plain": [
       "       COD_COS  CODIGO CAÑERO    NOMBRE CAÑERO  COMPROMISO  ENTREGA  \\\n",
       "0          179         8016.0  PIL ANDINA S.A.    13206.87   8690.9   \n",
       "1  Grand Total            NaN              NaN    13206.87   8690.9   \n",
       "2          NaN            NaN              NaN         NaN      NaN   \n",
       "\n",
       "   %_ENTREGA  TOTAL_AREA  COSECHA  SIN COSECHA  %COSECHA  ...  DIF.AVANCE  \\\n",
       "0   0.658059      358.47   270.66        87.81  0.755042  ...   -0.096983   \n",
       "1   0.658059      358.47   270.66        87.81  0.755042  ...   -0.096983   \n",
       "2        NaN         NaN      NaN          NaN       NaN  ...         NaN   \n",
       "\n",
       "   AREA_ESTIM.  TCH_ESTIM  PRODUCCION_ESTIM  TN_COSECHA_ESTIM    DIF.ESTIM  \\\n",
       "0   358.188662   51.34715      18391.966951      15789.085837 -7098.185837   \n",
       "1   358.188662   51.34715      18391.966951      15789.085837 -7098.185837   \n",
       "2          NaN        NaN               NaN               NaN          NaN   \n",
       "\n",
       "   % DIF.ESTIM  TN_EN_CAMPO  COMPROM_REST   DIFERENCIA  \n",
       "0     1.816738  2602.881114       4515.97 -1913.088886  \n",
       "1     1.816738  2602.881114       4515.97 -1913.088886  \n",
       "2          NaN          NaN           NaN          NaN  \n",
       "\n",
       "[3 rows x 21 columns]"
      ]
     },
     "execution_count": 38,
     "metadata": {},
     "output_type": "execute_result"
    }
   ],
   "source": [
    "xlsx_avance.head(3)"
   ]
  },
  {
   "cell_type": "code",
   "execution_count": 36,
   "id": "541b7431-2bc8-4d4e-8ff4-662e1b8d8a7f",
   "metadata": {
    "tags": []
   },
   "outputs": [
    {
     "data": {
      "text/html": [
       "<div>\n",
       "<style scoped>\n",
       "    .dataframe tbody tr th:only-of-type {\n",
       "        vertical-align: middle;\n",
       "    }\n",
       "\n",
       "    .dataframe tbody tr th {\n",
       "        vertical-align: top;\n",
       "    }\n",
       "\n",
       "    .dataframe thead th {\n",
       "        text-align: right;\n",
       "    }\n",
       "</style>\n",
       "<table border=\"1\" class=\"dataframe\">\n",
       "  <thead>\n",
       "    <tr style=\"text-align: right;\">\n",
       "      <th></th>\n",
       "      <th>COD_COS</th>\n",
       "      <th>CODIGO CAÑERO</th>\n",
       "      <th>NOMBRE CAÑERO</th>\n",
       "      <th>COMPROMISO</th>\n",
       "      <th>ENTREGA</th>\n",
       "      <th>%_ENTREGA</th>\n",
       "      <th>TOTAL_AREA</th>\n",
       "      <th>COSECHA</th>\n",
       "      <th>SIN COSECHA</th>\n",
       "      <th>%COSECHA</th>\n",
       "      <th>...</th>\n",
       "      <th>DIF.AVANCE</th>\n",
       "      <th>AREA_ESTIM.</th>\n",
       "      <th>TCH_ESTIM</th>\n",
       "      <th>PRODUCCION_ESTIM</th>\n",
       "      <th>TN_COSECHA_ESTIM</th>\n",
       "      <th>DIF.ESTIM</th>\n",
       "      <th>% DIF.ESTIM</th>\n",
       "      <th>TN_EN_CAMPO</th>\n",
       "      <th>COMPROM_REST</th>\n",
       "      <th>DIFERENCIA</th>\n",
       "    </tr>\n",
       "  </thead>\n",
       "  <tbody>\n",
       "  </tbody>\n",
       "</table>\n",
       "<p>0 rows × 21 columns</p>\n",
       "</div>"
      ],
      "text/plain": [
       "Empty DataFrame\n",
       "Columns: [COD_COS, CODIGO CAÑERO, NOMBRE CAÑERO, COMPROMISO, ENTREGA, %_ENTREGA, TOTAL_AREA, COSECHA, SIN COSECHA, %COSECHA, TCH, DIF.AVANCE, AREA_ESTIM., TCH_ESTIM, PRODUCCION_ESTIM, TN_COSECHA_ESTIM, DIF.ESTIM, % DIF.ESTIM, TN_EN_CAMPO, COMPROM_REST, DIFERENCIA]\n",
       "Index: []\n",
       "\n",
       "[0 rows x 21 columns]"
      ]
     },
     "execution_count": 36,
     "metadata": {},
     "output_type": "execute_result"
    }
   ],
   "source": [
    "avance = xlsx_avance[xlsx_avance['COD_COS'] == cod_grupo]\n",
    "avance"
   ]
  },
  {
   "cell_type": "code",
   "execution_count": 45,
   "id": "63661fae-56d3-444b-bf99-04157be52302",
   "metadata": {
    "tags": []
   },
   "outputs": [
    {
     "data": {
      "text/plain": [
       "Index(['COD_COS', 'CODIGO CAÑERO', 'NOMBRE CAÑERO', 'COMPROMISO', 'ENTREGA',\n",
       "       '%_ENTREGA', 'TOTAL_AREA', 'COSECHA', 'SIN COSECHA', '%COSECHA', 'TCH',\n",
       "       'DIF.AVANCE', 'AREA_ESTIM.', 'TCH_ESTIM', 'PRODUCCION_ESTIM',\n",
       "       'TN_COSECHA_ESTIM', 'DIF.ESTIM', '% DIF.ESTIM', 'TN_EN_CAMPO',\n",
       "       'COMPROM_REST', 'DIFERENCIA'],\n",
       "      dtype='object')"
      ]
     },
     "execution_count": 45,
     "metadata": {},
     "output_type": "execute_result"
    }
   ],
   "source": [
    "avance.columns"
   ]
  },
  {
   "cell_type": "code",
   "execution_count": 46,
   "id": "76d2bdb3-f993-428e-9658-e448cd029af8",
   "metadata": {
    "tags": []
   },
   "outputs": [
    {
     "data": {
      "text/plain": [
       "{'fecha_aclaracion': '06 de octubre de 2023',\n",
       " 'fecha_informe': '07 de octubre de 2023',\n",
       " 'entrega_porcen': 81.49958008487488,\n",
       " 'ha_canha': 20.05,\n",
       " 'ha_cosecha': 11.87,\n",
       " 'cosecha_porcen': 59.20199501246882,\n",
       " 'diferencia': -131.43524092747361,\n",
       " 'compromiso_rest': 497.8499999999999,\n",
       " 'tn_en_campo': 366.4147590725263}"
      ]
     },
     "execution_count": 46,
     "metadata": {},
     "output_type": "execute_result"
    }
   ],
   "source": [
    "avance_totales = {\n",
    "    'fecha_aclaracion' : fecha_aclaracion,\n",
    "    'fecha_informe' : fecha_inf,\n",
    "    \n",
    "    'entrega_porcen' : float(avance['%_ENTREGA']) * 100,\n",
    "    'ha_canha' : float(avance['TOTAL_AREA']),\n",
    "    'ha_cosecha' : float(avance['COSECHA']),\n",
    "    'cosecha_porcen' : float(avance['%COSECHA']) * 100,\n",
    "    'diferencia' : float(avance['DIF.AVANCE']) * 100,\n",
    "    \n",
    "    'compromiso_rest' : float(avance['COMPROM_REST']),\n",
    "    'tn_en_campo' : float(avance['TN_EN_CAMPO']),\n",
    "    'diferencia' : float(avance['DIFERENCIA'])\n",
    "}\n",
    "avance_totales"
   ]
  },
  {
   "cell_type": "code",
   "execution_count": 74,
   "id": "581f4edf-6b02-467c-8ca2-aadf01dab9ea",
   "metadata": {},
   "outputs": [
    {
     "data": {
      "text/plain": [
       "'MARTINEZ RODRIGUEZ BASILIO'"
      ]
     },
     "execution_count": 74,
     "metadata": {},
     "output_type": "execute_result"
    }
   ],
   "source": [
    "avance['NOMBRE CAÑERO'].iloc[0]"
   ]
  },
  {
   "cell_type": "code",
   "execution_count": 21,
   "id": "3a715bec-6771-4d94-a530-8f8b1696c23a",
   "metadata": {
    "tags": []
   },
   "outputs": [
    {
     "data": {
      "text/plain": [
       "avance_totales(fecha_aclaracion='10 de septiembre de 2023', fecha_informe='07 de octubre de 2023', entrega_porcen=98.72569780379943, ha_canha=543.39, ha_cosecha=420.85, cosecha_porcen=77.44897771398075, diferencia=5451.913216092134, compromiso_rest=337.0499999999993, tn_en_campo=5788.963216092133)"
      ]
     },
     "execution_count": 21,
     "metadata": {},
     "output_type": "execute_result"
    }
   ],
   "source": [
    "obj_avance_totales = collections.namedtuple(\"avance_totales\",avance_totales.keys())(*avance_totales.values())\n",
    "obj_avance_totales"
   ]
  },
  {
   "cell_type": "code",
   "execution_count": 68,
   "id": "a4dda3a6-7425-4c16-9662-8b828a565b29",
   "metadata": {},
   "outputs": [],
   "source": [
    "doc = DocxTemplate(ruta + '/templates/tbl_rpt_posible_desvio.docx')\n",
    "context = {\n",
    "    'insp' : list_obj_caneros,\n",
    "    'grupo_totales' : obj_grupo_totales,\n",
    "    'avance' : obj_avance_totales\n",
    "}\n",
    "doc.render(context)\n",
    "doc.save(ruta + '/informes/rpt.docx')"
   ]
  },
  {
   "cell_type": "code",
   "execution_count": null,
   "id": "13a5a91e-2f38-48f4-ab6d-ab1e8c2e1521",
   "metadata": {},
   "outputs": [],
   "source": []
  },
  {
   "cell_type": "code",
   "execution_count": null,
   "id": "f721eb8f-0880-4014-a2d8-55f3bc3b23b0",
   "metadata": {},
   "outputs": [],
   "source": []
  },
  {
   "cell_type": "code",
   "execution_count": null,
   "id": "d5f5c7b3-1eea-4817-b09e-21e35af54f0b",
   "metadata": {},
   "outputs": [],
   "source": []
  },
  {
   "cell_type": "code",
   "execution_count": null,
   "id": "343bf852-313c-4b3f-ae62-31223cbf7618",
   "metadata": {},
   "outputs": [],
   "source": []
  },
  {
   "cell_type": "code",
   "execution_count": null,
   "id": "4680a160-2b6a-4f32-94a6-b71f254a56c2",
   "metadata": {},
   "outputs": [],
   "source": []
  },
  {
   "cell_type": "code",
   "execution_count": null,
   "id": "edf4cc31-2a7f-4019-9e4b-0dde0766fe15",
   "metadata": {},
   "outputs": [],
   "source": []
  },
  {
   "cell_type": "code",
   "execution_count": null,
   "id": "40b9b981-c0ab-462e-a39a-f7147b2b61f3",
   "metadata": {},
   "outputs": [],
   "source": []
  },
  {
   "cell_type": "code",
   "execution_count": null,
   "id": "3d5401ad-5a89-4fee-8c4f-26567e2067b1",
   "metadata": {},
   "outputs": [],
   "source": []
  },
  {
   "cell_type": "code",
   "execution_count": null,
   "id": "67da0586-dfda-405d-9264-661804478b64",
   "metadata": {},
   "outputs": [],
   "source": []
  }
 ],
 "metadata": {
  "kernelspec": {
   "display_name": "Python 3 (ipykernel)",
   "language": "python",
   "name": "python3"
  },
  "language_info": {
   "codemirror_mode": {
    "name": "ipython",
    "version": 3
   },
   "file_extension": ".py",
   "mimetype": "text/x-python",
   "name": "python",
   "nbconvert_exporter": "python",
   "pygments_lexer": "ipython3",
   "version": "3.10.13"
  }
 },
 "nbformat": 4,
 "nbformat_minor": 5
}
