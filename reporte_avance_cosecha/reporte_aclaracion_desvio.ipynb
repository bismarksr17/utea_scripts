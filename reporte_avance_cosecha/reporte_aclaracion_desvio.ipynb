{
 "cells": [
  {
   "cell_type": "markdown",
   "id": "a7a290fe-5066-46af-b0de-ba7f3341acee",
   "metadata": {},
   "source": [
    "Cartar de aclaracion de posible desvío"
   ]
  },
  {
   "cell_type": "code",
   "execution_count": 1,
   "id": "ca9b4b00-6b15-4a9d-af08-e70c7d600def",
   "metadata": {
    "tags": []
   },
   "outputs": [],
   "source": [
    "import pandas as pd\n",
    "import collections\n",
    "\n",
    "from docxtpl import DocxTemplate"
   ]
  },
  {
   "cell_type": "code",
   "execution_count": 2,
   "id": "bc615d29-fa0e-4e6e-a202-5ba5dfa94fe6",
   "metadata": {
    "tags": []
   },
   "outputs": [],
   "source": [
    "# ruta de carpera donde estan las llaves\n",
    "ruta = open('../ruta.txt')\n",
    "ruta = ruta.readlines()[0]"
   ]
  },
  {
   "cell_type": "code",
   "execution_count": 3,
   "id": "3e5d52ea-5b4f-486d-ab01-b7ceb2667134",
   "metadata": {
    "tags": []
   },
   "outputs": [
    {
     "data": {
      "text/plain": [
       "'C:\\\\Documents\\\\OneDrive - Ingenio Azucarero Guabira S.A\\\\_DATOS_PYTHON'"
      ]
     },
     "execution_count": 3,
     "metadata": {},
     "output_type": "execute_result"
    }
   ],
   "source": [
    "ruta"
   ]
  },
  {
   "cell_type": "code",
   "execution_count": 4,
   "id": "b52240b8-8333-4bb2-914a-9dc70d0f143d",
   "metadata": {
    "tags": []
   },
   "outputs": [],
   "source": [
    "#path_xlsx_avance = r'D:/Ingenio Azucarero Guabira S.A/UTEA - SEMANAL - AVANCE COSECHA/2023/ANALISIS DE CAÑA EN CAMPO 2023/AVANCE DE COSECHA V3.xlsx'\n",
    "path_xlsx_avance = r'C:/Documents/Ingenio Azucarero Guabira S.A/UTEA - SEMANAL - AVANCE COSECHA/2023/ANALISIS DE CAÑA EN CAMPO 2023/AVANCE DE COSECHA V3.xlsx'"
   ]
  },
  {
   "cell_type": "code",
   "execution_count": 5,
   "id": "1b728e8b-d1fb-4952-be59-d80b6e9bfb55",
   "metadata": {
    "tags": []
   },
   "outputs": [
    {
     "name": "stderr",
     "output_type": "stream",
     "text": [
      "C:\\Users\\bismarksr\\anaconda3\\envs\\utea_reportes\\lib\\site-packages\\openpyxl\\worksheet\\_reader.py:329: UserWarning: Unknown extension is not supported and will be removed\n",
      "  warn(msg)\n",
      "C:\\Users\\bismarksr\\anaconda3\\envs\\utea_reportes\\lib\\site-packages\\openpyxl\\worksheet\\_reader.py:329: UserWarning: Conditional Formatting extension is not supported and will be removed\n",
      "  warn(msg)\n"
     ]
    }
   ],
   "source": [
    "xlsx_entregas = pd.read_excel(path_xlsx_avance, sheet_name='ENTREGAS')\n",
    "xlsx_avance = pd.read_excel(path_xlsx_avance, sheet_name = 'AVANCE')"
   ]
  },
  {
   "cell_type": "code",
   "execution_count": 6,
   "id": "0b8d2740-973f-4c38-9b9e-4824a2e72c65",
   "metadata": {
    "tags": []
   },
   "outputs": [
    {
     "data": {
      "text/html": [
       "<div>\n",
       "<style scoped>\n",
       "    .dataframe tbody tr th:only-of-type {\n",
       "        vertical-align: middle;\n",
       "    }\n",
       "\n",
       "    .dataframe tbody tr th {\n",
       "        vertical-align: top;\n",
       "    }\n",
       "\n",
       "    .dataframe thead th {\n",
       "        text-align: right;\n",
       "    }\n",
       "</style>\n",
       "<table border=\"1\" class=\"dataframe\">\n",
       "  <thead>\n",
       "    <tr style=\"text-align: right;\">\n",
       "      <th></th>\n",
       "      <th>INST</th>\n",
       "      <th>GRUPO</th>\n",
       "      <th>CODIGO CAÑERO</th>\n",
       "      <th>NOMBRE CAÑERO</th>\n",
       "      <th>COMPROMISO DE ENTREGA</th>\n",
       "      <th>PAQ</th>\n",
       "      <th>TM. ENTREGADAS</th>\n",
       "      <th>AVANCE</th>\n",
       "      <th>INICIO DE ENTREGAS</th>\n",
       "      <th>ULTIMA ENTREGA</th>\n",
       "      <th>COD_COSECHA</th>\n",
       "    </tr>\n",
       "  </thead>\n",
       "  <tbody>\n",
       "    <tr>\n",
       "      <th>0</th>\n",
       "      <td>1</td>\n",
       "      <td>16</td>\n",
       "      <td>644</td>\n",
       "      <td>ANTELO ANTELO ARIEL</td>\n",
       "      <td>555.36</td>\n",
       "      <td>104</td>\n",
       "      <td>568.61</td>\n",
       "      <td>1.023858</td>\n",
       "      <td>NaN</td>\n",
       "      <td>NaN</td>\n",
       "      <td>262</td>\n",
       "    </tr>\n",
       "    <tr>\n",
       "      <th>1</th>\n",
       "      <td>1</td>\n",
       "      <td>6</td>\n",
       "      <td>660</td>\n",
       "      <td>AGUILERA ANTELO ALEX ENRIQUE</td>\n",
       "      <td>800.00</td>\n",
       "      <td>104</td>\n",
       "      <td>689.52</td>\n",
       "      <td>0.861900</td>\n",
       "      <td>NaN</td>\n",
       "      <td>NaN</td>\n",
       "      <td>49</td>\n",
       "    </tr>\n",
       "    <tr>\n",
       "      <th>2</th>\n",
       "      <td>1</td>\n",
       "      <td>5</td>\n",
       "      <td>691</td>\n",
       "      <td>AGUILAR POLARES JOSE</td>\n",
       "      <td>752.70</td>\n",
       "      <td>104</td>\n",
       "      <td>1237.58</td>\n",
       "      <td>1.644188</td>\n",
       "      <td>NaN</td>\n",
       "      <td>NaN</td>\n",
       "      <td>57</td>\n",
       "    </tr>\n",
       "  </tbody>\n",
       "</table>\n",
       "</div>"
      ],
      "text/plain": [
       "   INST  GRUPO  CODIGO CAÑERO                  NOMBRE CAÑERO  \\\n",
       "0     1     16             644          ANTELO ANTELO ARIEL    \n",
       "1     1      6             660  AGUILERA ANTELO ALEX ENRIQUE   \n",
       "2     1      5             691          AGUILAR POLARES JOSE   \n",
       "\n",
       "   COMPROMISO DE ENTREGA  PAQ  TM. ENTREGADAS    AVANCE  INICIO DE ENTREGAS  \\\n",
       "0                 555.36  104          568.61  1.023858                 NaN   \n",
       "1                 800.00  104          689.52  0.861900                 NaN   \n",
       "2                 752.70  104         1237.58  1.644188                 NaN   \n",
       "\n",
       "   ULTIMA ENTREGA  COD_COSECHA  \n",
       "0             NaN          262  \n",
       "1             NaN           49  \n",
       "2             NaN           57  "
      ]
     },
     "execution_count": 6,
     "metadata": {},
     "output_type": "execute_result"
    }
   ],
   "source": [
    "xlsx_entregas.head(3)"
   ]
  },
  {
   "cell_type": "code",
   "execution_count": 7,
   "id": "f37e76c4-f292-49f6-a6f6-3c55a1488a1a",
   "metadata": {
    "tags": []
   },
   "outputs": [
    {
     "data": {
      "text/html": [
       "<div>\n",
       "<style scoped>\n",
       "    .dataframe tbody tr th:only-of-type {\n",
       "        vertical-align: middle;\n",
       "    }\n",
       "\n",
       "    .dataframe tbody tr th {\n",
       "        vertical-align: top;\n",
       "    }\n",
       "\n",
       "    .dataframe thead th {\n",
       "        text-align: right;\n",
       "    }\n",
       "</style>\n",
       "<table border=\"1\" class=\"dataframe\">\n",
       "  <thead>\n",
       "    <tr style=\"text-align: right;\">\n",
       "      <th></th>\n",
       "      <th>COD_COS</th>\n",
       "      <th>CODIGO CAÑERO</th>\n",
       "      <th>NOMBRE CAÑERO</th>\n",
       "      <th>COMPROMISO</th>\n",
       "      <th>ENTREGA</th>\n",
       "      <th>%_ENTREGA</th>\n",
       "      <th>TOTAL_AREA</th>\n",
       "      <th>COSECHA</th>\n",
       "      <th>SIN COSECHA</th>\n",
       "      <th>%COSECHA</th>\n",
       "      <th>...</th>\n",
       "      <th>DIF.AVANCE</th>\n",
       "      <th>AREA_ESTIM.</th>\n",
       "      <th>TCH_ESTIM</th>\n",
       "      <th>PRODUCCION_ESTIM</th>\n",
       "      <th>TN_COSECHA_ESTIM</th>\n",
       "      <th>DIF.ESTIM</th>\n",
       "      <th>% DIF.ESTIM</th>\n",
       "      <th>TN_EN_CAMPO</th>\n",
       "      <th>COMPROM_REST</th>\n",
       "      <th>DIFERENCIA</th>\n",
       "    </tr>\n",
       "  </thead>\n",
       "  <tbody>\n",
       "    <tr>\n",
       "      <th>0</th>\n",
       "      <td>1</td>\n",
       "      <td>515.0</td>\n",
       "      <td>AGUILERA OLGA RIVERO VDA DE</td>\n",
       "      <td>26449.77</td>\n",
       "      <td>26112.72</td>\n",
       "      <td>0.987257</td>\n",
       "      <td>543.39</td>\n",
       "      <td>420.85</td>\n",
       "      <td>122.54</td>\n",
       "      <td>0.77449</td>\n",
       "      <td>...</td>\n",
       "      <td>0.212767</td>\n",
       "      <td>543.693782</td>\n",
       "      <td>55.390276</td>\n",
       "      <td>30115.348382</td>\n",
       "      <td>24326.385166</td>\n",
       "      <td>1786.334834</td>\n",
       "      <td>0.931591</td>\n",
       "      <td>5788.963216</td>\n",
       "      <td>337.05</td>\n",
       "      <td>5451.913216</td>\n",
       "    </tr>\n",
       "    <tr>\n",
       "      <th>1</th>\n",
       "      <td>Grand Total</td>\n",
       "      <td>NaN</td>\n",
       "      <td>NaN</td>\n",
       "      <td>26449.77</td>\n",
       "      <td>26112.72</td>\n",
       "      <td>0.987257</td>\n",
       "      <td>543.39</td>\n",
       "      <td>420.85</td>\n",
       "      <td>122.54</td>\n",
       "      <td>0.77449</td>\n",
       "      <td>...</td>\n",
       "      <td>0.212767</td>\n",
       "      <td>543.693782</td>\n",
       "      <td>55.390276</td>\n",
       "      <td>30115.348382</td>\n",
       "      <td>24326.385166</td>\n",
       "      <td>1786.334834</td>\n",
       "      <td>0.931591</td>\n",
       "      <td>5788.963216</td>\n",
       "      <td>337.05</td>\n",
       "      <td>5451.913216</td>\n",
       "    </tr>\n",
       "  </tbody>\n",
       "</table>\n",
       "<p>2 rows × 21 columns</p>\n",
       "</div>"
      ],
      "text/plain": [
       "       COD_COS  CODIGO CAÑERO                NOMBRE CAÑERO  COMPROMISO  \\\n",
       "0            1          515.0  AGUILERA OLGA RIVERO VDA DE    26449.77   \n",
       "1  Grand Total            NaN                          NaN    26449.77   \n",
       "\n",
       "    ENTREGA  %_ENTREGA  TOTAL_AREA  COSECHA  SIN COSECHA  %COSECHA  ...  \\\n",
       "0  26112.72   0.987257      543.39   420.85       122.54   0.77449  ...   \n",
       "1  26112.72   0.987257      543.39   420.85       122.54   0.77449  ...   \n",
       "\n",
       "   DIF.AVANCE  AREA_ESTIM.  TCH_ESTIM  PRODUCCION_ESTIM  TN_COSECHA_ESTIM  \\\n",
       "0    0.212767   543.693782  55.390276      30115.348382      24326.385166   \n",
       "1    0.212767   543.693782  55.390276      30115.348382      24326.385166   \n",
       "\n",
       "     DIF.ESTIM  % DIF.ESTIM  TN_EN_CAMPO  COMPROM_REST   DIFERENCIA  \n",
       "0  1786.334834     0.931591  5788.963216        337.05  5451.913216  \n",
       "1  1786.334834     0.931591  5788.963216        337.05  5451.913216  \n",
       "\n",
       "[2 rows x 21 columns]"
      ]
     },
     "execution_count": 7,
     "metadata": {},
     "output_type": "execute_result"
    }
   ],
   "source": [
    "xlsx_avance.head(3)"
   ]
  },
  {
   "cell_type": "markdown",
   "id": "4a1d6b56-eb17-4c5b-9991-023b46760aca",
   "metadata": {},
   "source": [
    "## Argumentos"
   ]
  },
  {
   "cell_type": "code",
   "execution_count": 9,
   "id": "03e8f925-dee3-44e3-b1f1-4f06314732a7",
   "metadata": {
    "tags": []
   },
   "outputs": [],
   "source": [
    "fecha_inf = '07 de octubre de 2023'\n",
    "fecha_form = '07-10-2023' # fecha para el nombre de archivo\n",
    "\n",
    "fecha_aclaracion = '10 de septiembre de 2023'\n",
    "cod_grupos = [1]"
   ]
  },
  {
   "cell_type": "code",
   "execution_count": null,
   "id": "35e16c7f-2ba0-425c-b258-c05b0625215c",
   "metadata": {
    "tags": []
   },
   "outputs": [
    {
     "name": "stdout",
     "output_type": "stream",
     "text": [
      "Se generó reporte de grupo: 1\n"
     ]
    }
   ],
   "source": [
    "for i in cod_grupos:\n",
    "    # datos del grupo\n",
    "    grupo = xlsx_entregas[xlsx_entregas['COD_COSECHA'] == i].copy()\n",
    "    grupo = grupo[['INST', 'CODIGO CAÑERO ', 'NOMBRE CAÑERO','COMPROMISO DE ENTREGA', 'TM. ENTREGADAS']]\n",
    "    grupo['TM. ENTREGADAS'] = grupo['TM. ENTREGADAS'].fillna(0)\n",
    "    grupo['avance%'] = grupo['TM. ENTREGADAS'] / grupo['COMPROMISO DE ENTREGA'] * 100\n",
    "    \n",
    "    # convertir datos del grupo a objetos\n",
    "    list_obj_caneros = []\n",
    "    for index, row in grupo.iterrows():\n",
    "        canero = {\n",
    "            'inst' : row['INST'],\n",
    "            'cod_ca' : row['CODIGO CAÑERO '],\n",
    "            'nom_ca' : row['NOMBRE CAÑERO'],\n",
    "            'compromiso' : row['COMPROMISO DE ENTREGA'],\n",
    "            'entrega' : row['TM. ENTREGADAS'],\n",
    "            'entrega_porcen' : row['avance%']\n",
    "        }\n",
    "        list_obj_caneros.append(collections.namedtuple(\"canero\", canero.keys())(*canero.values()))\n",
    "    \n",
    "    # totales de los datos del grupo\n",
    "    grupo_totales = {\n",
    "        'compromiso' : grupo['COMPROMISO DE ENTREGA'].sum(),\n",
    "        'entregas' : grupo['TM. ENTREGADAS'].sum(),\n",
    "        'entrega_porcen' : grupo['TM. ENTREGADAS'].sum() / grupo['COMPROMISO DE ENTREGA'].sum() * 100\n",
    "    }\n",
    "    obj_grupo_totales = collections.namedtuple(\"grupo_totales\", grupo_totales.keys())(*grupo_totales.values())\n",
    "    \n",
    "    # datos generales de avance de cosecha\n",
    "    avance = xlsx_avance[xlsx_avance['COD_COS'] == i]\n",
    "    avance_totales = {\n",
    "        'fecha_aclaracion' : fecha_aclaracion,\n",
    "        'fecha_informe' : fecha_inf,\n",
    "    \n",
    "        'entrega_porcen' : float(avance['%_ENTREGA']) * 100,\n",
    "        'ha_canha' : float(avance['TOTAL_AREA']),\n",
    "        'ha_cosecha' : float(avance['COSECHA']),\n",
    "        'cosecha_porcen' : float(avance['%COSECHA']) * 100,\n",
    "        'diferencia_porcen' : float(avance['DIF.AVANCE']) * 100,\n",
    "        \n",
    "        'compromiso_rest' : float(avance['COMPROM_REST']),\n",
    "        'tn_en_campo' : float(avance['TN_EN_CAMPO']),\n",
    "        'diferencia' : float(avance['DIFERENCIA'])\n",
    "    }\n",
    "    \n",
    "    # datos generales a objeto\n",
    "    obj_avance_totales = collections.namedtuple(\"avance_totales\",avance_totales.keys())(*avance_totales.values())\n",
    "    \n",
    "    # generar reporte\n",
    "    doc = DocxTemplate(ruta + '/templates/tpl_informe_aclarativa_desvio.docx')\n",
    "    context = {\n",
    "        'insp' : list_obj_caneros,\n",
    "        'grupo_totales' : obj_grupo_totales,\n",
    "        'avance' : obj_avance_totales\n",
    "    }\n",
    "    doc.render(context)\n",
    "    doc.save(ruta + '/informes/_' + str(i) + '_RDC_' + fecha_form + '.docx')\n",
    "    print('Se generó reporte de grupo:', i)"
   ]
  },
  {
   "cell_type": "code",
   "execution_count": null,
   "id": "b2074267-172e-4ce7-b75c-4b5fdd62c4a8",
   "metadata": {},
   "outputs": [],
   "source": []
  },
  {
   "cell_type": "code",
   "execution_count": null,
   "id": "77a3cf14-ed56-43ba-af68-e158e17cae46",
   "metadata": {},
   "outputs": [],
   "source": []
  },
  {
   "cell_type": "code",
   "execution_count": null,
   "id": "b35c0011-4704-469a-965d-d4ce5d0efa4d",
   "metadata": {},
   "outputs": [],
   "source": []
  },
  {
   "cell_type": "code",
   "execution_count": null,
   "id": "30b41900-d827-4e6c-bd9e-38468f303d2b",
   "metadata": {},
   "outputs": [],
   "source": []
  },
  {
   "cell_type": "code",
   "execution_count": null,
   "id": "ac183af9-0b33-46b0-800c-6679765dc6d0",
   "metadata": {},
   "outputs": [],
   "source": []
  },
  {
   "cell_type": "code",
   "execution_count": null,
   "id": "b01d8e9c-9e63-4cee-9294-567da5176718",
   "metadata": {},
   "outputs": [],
   "source": []
  },
  {
   "cell_type": "code",
   "execution_count": null,
   "id": "3d5f940b-052b-4ba3-8fd8-77dfdfa6b012",
   "metadata": {},
   "outputs": [],
   "source": []
  },
  {
   "cell_type": "code",
   "execution_count": null,
   "id": "2b11deb8-42e0-433d-b38a-97fdb92eb95c",
   "metadata": {},
   "outputs": [],
   "source": []
  },
  {
   "cell_type": "code",
   "execution_count": null,
   "id": "fdaf2319-da71-4f77-9224-90ce4f31bf6a",
   "metadata": {},
   "outputs": [],
   "source": []
  },
  {
   "cell_type": "code",
   "execution_count": null,
   "id": "7e9f87ff-9c4d-4450-9ba2-934d8953d187",
   "metadata": {},
   "outputs": [],
   "source": []
  },
  {
   "cell_type": "code",
   "execution_count": null,
   "id": "87310f52-157d-4662-8f23-c6a521b3717b",
   "metadata": {},
   "outputs": [],
   "source": []
  },
  {
   "cell_type": "code",
   "execution_count": null,
   "id": "ecf62042-d7c2-4aea-8acb-8054bee92758",
   "metadata": {},
   "outputs": [],
   "source": []
  },
  {
   "cell_type": "code",
   "execution_count": null,
   "id": "82001312-c870-47da-8691-d377f8323974",
   "metadata": {},
   "outputs": [],
   "source": []
  },
  {
   "cell_type": "code",
   "execution_count": null,
   "id": "d1003fc9-0c22-4afa-8c2c-04aac7f529be",
   "metadata": {},
   "outputs": [],
   "source": []
  },
  {
   "cell_type": "code",
   "execution_count": null,
   "id": "db507b83-f104-4a01-a6a8-d79e5d5e794f",
   "metadata": {},
   "outputs": [],
   "source": []
  },
  {
   "cell_type": "code",
   "execution_count": null,
   "id": "5f142f46-840f-4e33-9835-195a2183be8e",
   "metadata": {},
   "outputs": [],
   "source": []
  },
  {
   "cell_type": "markdown",
   "id": "9ecfcfff-c39c-4c23-b02e-7990cea7d26e",
   "metadata": {},
   "source": [
    "## DATOS DEL GRUPO"
   ]
  },
  {
   "cell_type": "code",
   "execution_count": 18,
   "id": "a104a935-cb12-436e-b654-2b3dedc9e53c",
   "metadata": {
    "tags": []
   },
   "outputs": [],
   "source": [
    "cod_grupo = 1"
   ]
  },
  {
   "cell_type": "code",
   "execution_count": 19,
   "id": "f5b70e9d-3121-4aec-bb05-217ae1bd52e3",
   "metadata": {
    "tags": []
   },
   "outputs": [
    {
     "data": {
      "text/html": [
       "<div>\n",
       "<style scoped>\n",
       "    .dataframe tbody tr th:only-of-type {\n",
       "        vertical-align: middle;\n",
       "    }\n",
       "\n",
       "    .dataframe tbody tr th {\n",
       "        vertical-align: top;\n",
       "    }\n",
       "\n",
       "    .dataframe thead th {\n",
       "        text-align: right;\n",
       "    }\n",
       "</style>\n",
       "<table border=\"1\" class=\"dataframe\">\n",
       "  <thead>\n",
       "    <tr style=\"text-align: right;\">\n",
       "      <th></th>\n",
       "      <th>INST</th>\n",
       "      <th>CODIGO CAÑERO</th>\n",
       "      <th>NOMBRE CAÑERO</th>\n",
       "      <th>COMPROMISO DE ENTREGA</th>\n",
       "      <th>TM. ENTREGADAS</th>\n",
       "      <th>avance%</th>\n",
       "    </tr>\n",
       "  </thead>\n",
       "  <tbody>\n",
       "    <tr>\n",
       "      <th>393</th>\n",
       "      <td>50</td>\n",
       "      <td>515</td>\n",
       "      <td>AGUILERA OLGA RIVERO VDA DE</td>\n",
       "      <td>12273.83</td>\n",
       "      <td>9036.62</td>\n",
       "      <td>73.625103</td>\n",
       "    </tr>\n",
       "    <tr>\n",
       "      <th>401</th>\n",
       "      <td>50</td>\n",
       "      <td>1215</td>\n",
       "      <td>AGUILERA RIVERO OLGA KARINA</td>\n",
       "      <td>3034.81</td>\n",
       "      <td>4017.21</td>\n",
       "      <td>132.371055</td>\n",
       "    </tr>\n",
       "    <tr>\n",
       "      <th>440</th>\n",
       "      <td>50</td>\n",
       "      <td>8003</td>\n",
       "      <td>AGUILERA RIVERO SERGIO STEFAN</td>\n",
       "      <td>3553.99</td>\n",
       "      <td>4015.77</td>\n",
       "      <td>112.993284</td>\n",
       "    </tr>\n",
       "    <tr>\n",
       "      <th>472</th>\n",
       "      <td>50</td>\n",
       "      <td>40004</td>\n",
       "      <td>AGUILERA RIVERO NICOLAS JULIO</td>\n",
       "      <td>3500.04</td>\n",
       "      <td>4076.59</td>\n",
       "      <td>116.472669</td>\n",
       "    </tr>\n",
       "    <tr>\n",
       "      <th>584</th>\n",
       "      <td>62</td>\n",
       "      <td>42163</td>\n",
       "      <td>GARCIA PELLEGRINI LUIS FERNANDO</td>\n",
       "      <td>514.39</td>\n",
       "      <td>955.65</td>\n",
       "      <td>185.783161</td>\n",
       "    </tr>\n",
       "    <tr>\n",
       "      <th>801</th>\n",
       "      <td>69</td>\n",
       "      <td>790</td>\n",
       "      <td>AGUILERA RIVERO JESSICA BEATRIZ</td>\n",
       "      <td>3572.71</td>\n",
       "      <td>4010.88</td>\n",
       "      <td>112.264360</td>\n",
       "    </tr>\n",
       "  </tbody>\n",
       "</table>\n",
       "</div>"
      ],
      "text/plain": [
       "     INST  CODIGO CAÑERO                      NOMBRE CAÑERO  \\\n",
       "393    50             515      AGUILERA OLGA RIVERO VDA DE    \n",
       "401    50            1215      AGUILERA RIVERO OLGA KARINA    \n",
       "440    50            8003    AGUILERA RIVERO SERGIO STEFAN    \n",
       "472    50           40004    AGUILERA RIVERO NICOLAS JULIO    \n",
       "584    62           42163   GARCIA PELLEGRINI LUIS FERNANDO   \n",
       "801    69             790  AGUILERA RIVERO JESSICA BEATRIZ    \n",
       "\n",
       "     COMPROMISO DE ENTREGA  TM. ENTREGADAS     avance%  \n",
       "393               12273.83         9036.62   73.625103  \n",
       "401                3034.81         4017.21  132.371055  \n",
       "440                3553.99         4015.77  112.993284  \n",
       "472                3500.04         4076.59  116.472669  \n",
       "584                 514.39          955.65  185.783161  \n",
       "801                3572.71         4010.88  112.264360  "
      ]
     },
     "execution_count": 19,
     "metadata": {},
     "output_type": "execute_result"
    }
   ],
   "source": [
    "grupo = xlsx_entregas[xlsx_entregas['COD_COSECHA'] == cod_grupo].copy()\n",
    "grupo = grupo[['INST', 'CODIGO CAÑERO ', 'NOMBRE CAÑERO','COMPROMISO DE ENTREGA', 'TM. ENTREGADAS']]\n",
    "grupo['TM. ENTREGADAS'] = grupo['TM. ENTREGADAS'].fillna(0)\n",
    "grupo['avance%'] = grupo['TM. ENTREGADAS'] / grupo['COMPROMISO DE ENTREGA'] * 100\n",
    "grupo"
   ]
  },
  {
   "cell_type": "code",
   "execution_count": 20,
   "id": "78e78f5c-caa9-498e-8199-3e439cae1ae9",
   "metadata": {
    "tags": []
   },
   "outputs": [
    {
     "data": {
      "text/plain": [
       "[canero(inst=50, cod_ca=515, nom_ca='AGUILERA OLGA RIVERO VDA DE ', compromiso=12273.83, entrega=9036.62, entrega_porcen=73.62510316665622),\n",
       " canero(inst=50, cod_ca=1215, nom_ca='AGUILERA RIVERO OLGA KARINA ', compromiso=3034.81, entrega=4017.21, entrega_porcen=132.37105453059667),\n",
       " canero(inst=50, cod_ca=8003, nom_ca='AGUILERA RIVERO SERGIO STEFAN ', compromiso=3553.99, entrega=4015.77, entrega_porcen=112.99328360518741),\n",
       " canero(inst=50, cod_ca=40004, nom_ca='AGUILERA RIVERO NICOLAS JULIO ', compromiso=3500.04, entrega=4076.59, entrega_porcen=116.47266888378418),\n",
       " canero(inst=62, cod_ca=42163, nom_ca='GARCIA PELLEGRINI LUIS FERNANDO', compromiso=514.39, entrega=955.65, entrega_porcen=185.78316063687086),\n",
       " canero(inst=69, cod_ca=790, nom_ca='AGUILERA RIVERO JESSICA BEATRIZ ', compromiso=3572.71, entrega=4010.88, entrega_porcen=112.26435954779426)]"
      ]
     },
     "execution_count": 20,
     "metadata": {},
     "output_type": "execute_result"
    }
   ],
   "source": [
    "list_obj_caneros = []\n",
    "for index, row in grupo.iterrows():\n",
    "    canero = {\n",
    "        'inst' : row['INST'],\n",
    "        'cod_ca' : row['CODIGO CAÑERO '],\n",
    "        'nom_ca' : row['NOMBRE CAÑERO'],\n",
    "        'compromiso' : row['COMPROMISO DE ENTREGA'],\n",
    "        'entrega' : row['TM. ENTREGADAS'],\n",
    "        'entrega_porcen' : row['avance%']\n",
    "    }\n",
    "    list_obj_caneros.append(collections.namedtuple(\"canero\", canero.keys())(*canero.values()))\n",
    "list_obj_caneros"
   ]
  },
  {
   "cell_type": "code",
   "execution_count": 21,
   "id": "8f94ddd4-1ef1-42d1-bfa3-0721a8733165",
   "metadata": {
    "tags": []
   },
   "outputs": [
    {
     "data": {
      "text/plain": [
       "grupo_totales(compromiso=26449.769999999997, entregas=26112.720000000005, entrega_porcen=98.72569780379946)"
      ]
     },
     "execution_count": 21,
     "metadata": {},
     "output_type": "execute_result"
    }
   ],
   "source": [
    "grupo_totales = {\n",
    "    'compromiso' : grupo['COMPROMISO DE ENTREGA'].sum(),\n",
    "    'entregas' : grupo['TM. ENTREGADAS'].sum(),\n",
    "    'entrega_porcen' : grupo['TM. ENTREGADAS'].sum() / grupo['COMPROMISO DE ENTREGA'].sum() * 100\n",
    "}\n",
    "obj_grupo_totales = collections.namedtuple(\"grupo_totales\", grupo_totales.keys())(*grupo_totales.values())\n",
    "obj_grupo_totales"
   ]
  },
  {
   "cell_type": "markdown",
   "id": "bd2416ea-0ec2-4295-8f9d-f1aa0eca0261",
   "metadata": {},
   "source": [
    "## DATOS DE AVANCE"
   ]
  },
  {
   "cell_type": "code",
   "execution_count": 22,
   "id": "e4032d79-a1e3-4084-8f27-8999dacd6e97",
   "metadata": {
    "tags": []
   },
   "outputs": [
    {
     "data": {
      "text/html": [
       "<div>\n",
       "<style scoped>\n",
       "    .dataframe tbody tr th:only-of-type {\n",
       "        vertical-align: middle;\n",
       "    }\n",
       "\n",
       "    .dataframe tbody tr th {\n",
       "        vertical-align: top;\n",
       "    }\n",
       "\n",
       "    .dataframe thead th {\n",
       "        text-align: right;\n",
       "    }\n",
       "</style>\n",
       "<table border=\"1\" class=\"dataframe\">\n",
       "  <thead>\n",
       "    <tr style=\"text-align: right;\">\n",
       "      <th></th>\n",
       "      <th>COD_COS</th>\n",
       "      <th>CODIGO CAÑERO</th>\n",
       "      <th>NOMBRE CAÑERO</th>\n",
       "      <th>COMPROMISO</th>\n",
       "      <th>ENTREGA</th>\n",
       "      <th>%_ENTREGA</th>\n",
       "      <th>TOTAL_AREA</th>\n",
       "      <th>COSECHA</th>\n",
       "      <th>SIN COSECHA</th>\n",
       "      <th>%COSECHA</th>\n",
       "      <th>...</th>\n",
       "      <th>DIF.AVANCE</th>\n",
       "      <th>AREA_ESTIM.</th>\n",
       "      <th>TCH_ESTIM</th>\n",
       "      <th>PRODUCCION_ESTIM</th>\n",
       "      <th>TN_COSECHA_ESTIM</th>\n",
       "      <th>DIF.ESTIM</th>\n",
       "      <th>% DIF.ESTIM</th>\n",
       "      <th>TN_EN_CAMPO</th>\n",
       "      <th>COMPROM_REST</th>\n",
       "      <th>DIFERENCIA</th>\n",
       "    </tr>\n",
       "  </thead>\n",
       "  <tbody>\n",
       "    <tr>\n",
       "      <th>0</th>\n",
       "      <td>1</td>\n",
       "      <td>515</td>\n",
       "      <td>AGUILERA OLGA RIVERO VDA DE</td>\n",
       "      <td>26449.77</td>\n",
       "      <td>26112.72</td>\n",
       "      <td>0.987257</td>\n",
       "      <td>543.39</td>\n",
       "      <td>420.85</td>\n",
       "      <td>122.54</td>\n",
       "      <td>0.774490</td>\n",
       "      <td>...</td>\n",
       "      <td>0.212767</td>\n",
       "      <td>543.693782</td>\n",
       "      <td>55.390276</td>\n",
       "      <td>30115.348382</td>\n",
       "      <td>24326.385166</td>\n",
       "      <td>1786.334834</td>\n",
       "      <td>0.931591</td>\n",
       "      <td>5788.963216</td>\n",
       "      <td>337.05</td>\n",
       "      <td>5451.913216</td>\n",
       "    </tr>\n",
       "    <tr>\n",
       "      <th>1</th>\n",
       "      <td>2</td>\n",
       "      <td>1180</td>\n",
       "      <td>BALCAZAR BALCAZAR JESUS E.</td>\n",
       "      <td>10848.49</td>\n",
       "      <td>11676.37</td>\n",
       "      <td>1.076313</td>\n",
       "      <td>170.47</td>\n",
       "      <td>159.76</td>\n",
       "      <td>10.71</td>\n",
       "      <td>0.937174</td>\n",
       "      <td>...</td>\n",
       "      <td>0.139139</td>\n",
       "      <td>170.249063</td>\n",
       "      <td>50.971072</td>\n",
       "      <td>8677.777218</td>\n",
       "      <td>8200.493738</td>\n",
       "      <td>3475.876262</td>\n",
       "      <td>0.702315</td>\n",
       "      <td>477.283479</td>\n",
       "      <td>-827.88</td>\n",
       "      <td>1305.163479</td>\n",
       "    </tr>\n",
       "    <tr>\n",
       "      <th>2</th>\n",
       "      <td>3</td>\n",
       "      <td>911</td>\n",
       "      <td>BALCAZAR JUSTINIANO MARIO</td>\n",
       "      <td>5390.78</td>\n",
       "      <td>4970.14</td>\n",
       "      <td>0.921970</td>\n",
       "      <td>100.02</td>\n",
       "      <td>66.35</td>\n",
       "      <td>33.67</td>\n",
       "      <td>0.663367</td>\n",
       "      <td>...</td>\n",
       "      <td>0.258603</td>\n",
       "      <td>114.920802</td>\n",
       "      <td>47.592543</td>\n",
       "      <td>5469.373160</td>\n",
       "      <td>3221.267361</td>\n",
       "      <td>1748.872639</td>\n",
       "      <td>0.648124</td>\n",
       "      <td>1567.549952</td>\n",
       "      <td>420.64</td>\n",
       "      <td>1146.909952</td>\n",
       "    </tr>\n",
       "  </tbody>\n",
       "</table>\n",
       "<p>3 rows × 21 columns</p>\n",
       "</div>"
      ],
      "text/plain": [
       "  COD_COS CODIGO CAÑERO                NOMBRE CAÑERO  COMPROMISO   ENTREGA  \\\n",
       "0       1           515  AGUILERA OLGA RIVERO VDA DE    26449.77  26112.72   \n",
       "1       2          1180   BALCAZAR BALCAZAR JESUS E.    10848.49  11676.37   \n",
       "2       3           911    BALCAZAR JUSTINIANO MARIO     5390.78   4970.14   \n",
       "\n",
       "   %_ENTREGA  TOTAL_AREA  COSECHA  SIN COSECHA  %COSECHA  ...  DIF.AVANCE  \\\n",
       "0   0.987257      543.39   420.85       122.54  0.774490  ...    0.212767   \n",
       "1   1.076313      170.47   159.76        10.71  0.937174  ...    0.139139   \n",
       "2   0.921970      100.02    66.35        33.67  0.663367  ...    0.258603   \n",
       "\n",
       "   AREA_ESTIM.  TCH_ESTIM  PRODUCCION_ESTIM  TN_COSECHA_ESTIM    DIF.ESTIM  \\\n",
       "0   543.693782  55.390276      30115.348382      24326.385166  1786.334834   \n",
       "1   170.249063  50.971072       8677.777218       8200.493738  3475.876262   \n",
       "2   114.920802  47.592543       5469.373160       3221.267361  1748.872639   \n",
       "\n",
       "   % DIF.ESTIM  TN_EN_CAMPO  COMPROM_REST   DIFERENCIA  \n",
       "0     0.931591  5788.963216        337.05  5451.913216  \n",
       "1     0.702315   477.283479       -827.88  1305.163479  \n",
       "2     0.648124  1567.549952        420.64  1146.909952  \n",
       "\n",
       "[3 rows x 21 columns]"
      ]
     },
     "execution_count": 22,
     "metadata": {},
     "output_type": "execute_result"
    }
   ],
   "source": [
    "xlsx_avance.head(3)"
   ]
  },
  {
   "cell_type": "code",
   "execution_count": 23,
   "id": "541b7431-2bc8-4d4e-8ff4-662e1b8d8a7f",
   "metadata": {
    "tags": []
   },
   "outputs": [
    {
     "data": {
      "text/html": [
       "<div>\n",
       "<style scoped>\n",
       "    .dataframe tbody tr th:only-of-type {\n",
       "        vertical-align: middle;\n",
       "    }\n",
       "\n",
       "    .dataframe tbody tr th {\n",
       "        vertical-align: top;\n",
       "    }\n",
       "\n",
       "    .dataframe thead th {\n",
       "        text-align: right;\n",
       "    }\n",
       "</style>\n",
       "<table border=\"1\" class=\"dataframe\">\n",
       "  <thead>\n",
       "    <tr style=\"text-align: right;\">\n",
       "      <th></th>\n",
       "      <th>COD_COS</th>\n",
       "      <th>CODIGO CAÑERO</th>\n",
       "      <th>NOMBRE CAÑERO</th>\n",
       "      <th>COMPROMISO</th>\n",
       "      <th>ENTREGA</th>\n",
       "      <th>%_ENTREGA</th>\n",
       "      <th>TOTAL_AREA</th>\n",
       "      <th>COSECHA</th>\n",
       "      <th>SIN COSECHA</th>\n",
       "      <th>%COSECHA</th>\n",
       "      <th>...</th>\n",
       "      <th>DIF.AVANCE</th>\n",
       "      <th>AREA_ESTIM.</th>\n",
       "      <th>TCH_ESTIM</th>\n",
       "      <th>PRODUCCION_ESTIM</th>\n",
       "      <th>TN_COSECHA_ESTIM</th>\n",
       "      <th>DIF.ESTIM</th>\n",
       "      <th>% DIF.ESTIM</th>\n",
       "      <th>TN_EN_CAMPO</th>\n",
       "      <th>COMPROM_REST</th>\n",
       "      <th>DIFERENCIA</th>\n",
       "    </tr>\n",
       "  </thead>\n",
       "  <tbody>\n",
       "    <tr>\n",
       "      <th>0</th>\n",
       "      <td>1</td>\n",
       "      <td>515</td>\n",
       "      <td>AGUILERA OLGA RIVERO VDA DE</td>\n",
       "      <td>26449.77</td>\n",
       "      <td>26112.72</td>\n",
       "      <td>0.987257</td>\n",
       "      <td>543.39</td>\n",
       "      <td>420.85</td>\n",
       "      <td>122.54</td>\n",
       "      <td>0.77449</td>\n",
       "      <td>...</td>\n",
       "      <td>0.212767</td>\n",
       "      <td>543.693782</td>\n",
       "      <td>55.390276</td>\n",
       "      <td>30115.348382</td>\n",
       "      <td>24326.385166</td>\n",
       "      <td>1786.334834</td>\n",
       "      <td>0.931591</td>\n",
       "      <td>5788.963216</td>\n",
       "      <td>337.05</td>\n",
       "      <td>5451.913216</td>\n",
       "    </tr>\n",
       "  </tbody>\n",
       "</table>\n",
       "<p>1 rows × 21 columns</p>\n",
       "</div>"
      ],
      "text/plain": [
       "  COD_COS CODIGO CAÑERO                NOMBRE CAÑERO  COMPROMISO   ENTREGA  \\\n",
       "0       1           515  AGUILERA OLGA RIVERO VDA DE    26449.77  26112.72   \n",
       "\n",
       "   %_ENTREGA  TOTAL_AREA  COSECHA  SIN COSECHA  %COSECHA  ...  DIF.AVANCE  \\\n",
       "0   0.987257      543.39   420.85       122.54   0.77449  ...    0.212767   \n",
       "\n",
       "   AREA_ESTIM.  TCH_ESTIM  PRODUCCION_ESTIM  TN_COSECHA_ESTIM    DIF.ESTIM  \\\n",
       "0   543.693782  55.390276      30115.348382      24326.385166  1786.334834   \n",
       "\n",
       "   % DIF.ESTIM  TN_EN_CAMPO  COMPROM_REST   DIFERENCIA  \n",
       "0     0.931591  5788.963216        337.05  5451.913216  \n",
       "\n",
       "[1 rows x 21 columns]"
      ]
     },
     "execution_count": 23,
     "metadata": {},
     "output_type": "execute_result"
    }
   ],
   "source": [
    "avance = xlsx_avance[xlsx_avance['COD_COS'] == cod_grupo]\n",
    "avance"
   ]
  },
  {
   "cell_type": "code",
   "execution_count": 25,
   "id": "63661fae-56d3-444b-bf99-04157be52302",
   "metadata": {
    "tags": []
   },
   "outputs": [
    {
     "data": {
      "text/plain": [
       "Index(['COD_COS', 'CODIGO CAÑERO', 'NOMBRE CAÑERO', 'COMPROMISO', 'ENTREGA',\n",
       "       '%_ENTREGA', 'TOTAL_AREA', 'COSECHA', 'SIN COSECHA', '%COSECHA', 'TCH',\n",
       "       'DIF.AVANCE', 'AREA_ESTIM.', 'TCH_ESTIM', 'PRODUCCION_ESTIM',\n",
       "       'TN_COSECHA_ESTIM', 'DIF.ESTIM', '% DIF.ESTIM', 'TN_EN_CAMPO',\n",
       "       'COMPROM_REST', 'DIFERENCIA'],\n",
       "      dtype='object')"
      ]
     },
     "execution_count": 25,
     "metadata": {},
     "output_type": "execute_result"
    }
   ],
   "source": [
    "avance.columns"
   ]
  },
  {
   "cell_type": "code",
   "execution_count": 35,
   "id": "76d2bdb3-f993-428e-9658-e448cd029af8",
   "metadata": {
    "tags": []
   },
   "outputs": [
    {
     "data": {
      "text/plain": [
       "{'fecha_aclaracion': '10 de septiembre de 2023',\n",
       " 'fecha_informe': '12 de septiembra de 2023',\n",
       " 'entrega_porcen': 98.72569780379943,\n",
       " 'ha_canha': 543.39,\n",
       " 'ha_cosecha': 420.85,\n",
       " 'cosecha_porcen': 77.44897771398075,\n",
       " 'diferencia': 5451.913216092134,\n",
       " 'compromiso_rest': 337.0499999999993,\n",
       " 'tn_en_campo': 5788.963216092133}"
      ]
     },
     "execution_count": 35,
     "metadata": {},
     "output_type": "execute_result"
    }
   ],
   "source": [
    "avance_totales = {\n",
    "    'fecha_aclaracion' : fecha_aclaracion,\n",
    "    'fecha_informe' : fecha_inf,\n",
    "    \n",
    "    'entrega_porcen' : float(avance['%_ENTREGA']) * 100,\n",
    "    'ha_canha' : float(avance['TOTAL_AREA']),\n",
    "    'ha_cosecha' : float(avance['COSECHA']),\n",
    "    'cosecha_porcen' : float(avance['%COSECHA']) * 100,\n",
    "    'diferencia' : float(avance['DIF.AVANCE']) * 100,\n",
    "    \n",
    "    'compromiso_rest' : float(avance['COMPROM_REST']),\n",
    "    'tn_en_campo' : float(avance['TN_EN_CAMPO']),\n",
    "    'diferencia' : float(avance['DIFERENCIA'])\n",
    "}\n",
    "avance_totales"
   ]
  },
  {
   "cell_type": "code",
   "execution_count": 36,
   "id": "3a715bec-6771-4d94-a530-8f8b1696c23a",
   "metadata": {
    "tags": []
   },
   "outputs": [
    {
     "data": {
      "text/plain": [
       "avance_totales(fecha_aclaracion='10 de septiembre de 2023', fecha_informe='12 de septiembra de 2023', entrega_porcen=98.72569780379943, ha_canha=543.39, ha_cosecha=420.85, cosecha_porcen=77.44897771398075, diferencia=5451.913216092134, compromiso_rest=337.0499999999993, tn_en_campo=5788.963216092133)"
      ]
     },
     "execution_count": 36,
     "metadata": {},
     "output_type": "execute_result"
    }
   ],
   "source": [
    "obj_avance_totales = collections.namedtuple(\"avance_totales\",avance_totales.keys())(*avance_totales.values())\n",
    "obj_avance_totales"
   ]
  },
  {
   "cell_type": "code",
   "execution_count": 68,
   "id": "a4dda3a6-7425-4c16-9662-8b828a565b29",
   "metadata": {},
   "outputs": [],
   "source": [
    "doc = DocxTemplate(ruta + '/templates/tbl_rpt_posible_desvio.docx')\n",
    "context = {\n",
    "    'insp' : list_obj_caneros,\n",
    "    'grupo_totales' : obj_grupo_totales,\n",
    "    'avance' : obj_avance_totales\n",
    "}\n",
    "doc.render(context)\n",
    "doc.save(ruta + '/informes/rpt.docx')"
   ]
  },
  {
   "cell_type": "code",
   "execution_count": null,
   "id": "13a5a91e-2f38-48f4-ab6d-ab1e8c2e1521",
   "metadata": {},
   "outputs": [],
   "source": []
  },
  {
   "cell_type": "code",
   "execution_count": null,
   "id": "f721eb8f-0880-4014-a2d8-55f3bc3b23b0",
   "metadata": {},
   "outputs": [],
   "source": []
  },
  {
   "cell_type": "code",
   "execution_count": null,
   "id": "d5f5c7b3-1eea-4817-b09e-21e35af54f0b",
   "metadata": {},
   "outputs": [],
   "source": []
  },
  {
   "cell_type": "code",
   "execution_count": null,
   "id": "343bf852-313c-4b3f-ae62-31223cbf7618",
   "metadata": {},
   "outputs": [],
   "source": []
  },
  {
   "cell_type": "code",
   "execution_count": null,
   "id": "4680a160-2b6a-4f32-94a6-b71f254a56c2",
   "metadata": {},
   "outputs": [],
   "source": []
  },
  {
   "cell_type": "code",
   "execution_count": null,
   "id": "edf4cc31-2a7f-4019-9e4b-0dde0766fe15",
   "metadata": {},
   "outputs": [],
   "source": []
  },
  {
   "cell_type": "code",
   "execution_count": null,
   "id": "40b9b981-c0ab-462e-a39a-f7147b2b61f3",
   "metadata": {},
   "outputs": [],
   "source": []
  },
  {
   "cell_type": "code",
   "execution_count": null,
   "id": "3d5401ad-5a89-4fee-8c4f-26567e2067b1",
   "metadata": {},
   "outputs": [],
   "source": []
  },
  {
   "cell_type": "code",
   "execution_count": null,
   "id": "67da0586-dfda-405d-9264-661804478b64",
   "metadata": {},
   "outputs": [],
   "source": []
  }
 ],
 "metadata": {
  "kernelspec": {
   "display_name": "Python 3 (ipykernel)",
   "language": "python",
   "name": "python3"
  },
  "language_info": {
   "codemirror_mode": {
    "name": "ipython",
    "version": 3
   },
   "file_extension": ".py",
   "mimetype": "text/x-python",
   "name": "python",
   "nbconvert_exporter": "python",
   "pygments_lexer": "ipython3",
   "version": "3.10.13"
  }
 },
 "nbformat": 4,
 "nbformat_minor": 5
}
