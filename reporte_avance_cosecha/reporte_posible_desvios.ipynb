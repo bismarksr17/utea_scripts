{
 "cells": [
  {
   "cell_type": "markdown",
   "id": "a7a290fe-5066-46af-b0de-ba7f3341acee",
   "metadata": {},
   "source": [
    "Cartar de posible desvio para la union"
   ]
  },
  {
   "cell_type": "code",
   "execution_count": 2,
   "id": "ca9b4b00-6b15-4a9d-af08-e70c7d600def",
   "metadata": {},
   "outputs": [],
   "source": [
    "import sys\n",
    "sys.path.append('..')\n",
    "\n",
    "import pandas as pd\n",
    "import collections\n",
    "import os\n",
    "\n",
    "from docxtpl import DocxTemplate\n",
    "\n",
    "from config import RUTA_UNIDAD_ONE_DRIVE\n",
    "from config import RUTA_LOCAL_ONE_DRIVE\n",
    "from config import POSTGRES_UTEA\n",
    "\n",
    "RUTA_COMPLETA = os.path.join(RUTA_UNIDAD_ONE_DRIVE, RUTA_LOCAL_ONE_DRIVE)"
   ]
  },
  {
   "cell_type": "code",
   "execution_count": 15,
   "id": "3e5d52ea-5b4f-486d-ab01-b7ceb2667134",
   "metadata": {},
   "outputs": [
    {
     "data": {
      "text/plain": [
       "'G:\\\\OneDrive - Ingenio Azucarero Guabira S.A\\\\_DATOS_PYTHON'"
      ]
     },
     "execution_count": 15,
     "metadata": {},
     "output_type": "execute_result"
    }
   ],
   "source": [
    "RUTA_COMPLETA"
   ]
  },
  {
   "cell_type": "code",
   "execution_count": 16,
   "id": "15207647-8bfc-4d8d-9dd5-4bc8a6ef7d69",
   "metadata": {},
   "outputs": [],
   "source": [
    "path_xlsx_avance = RUTA_UNIDAD_ONE_DRIVE + r'\\Ingenio Azucarero Guabira S.A\\UTEA - SEMANAL - AVANCE COSECHA\\2025\\AVANCE SEMANAL\\AVANCE DE COSECHA V1.xlsx'"
   ]
  },
  {
   "cell_type": "code",
   "execution_count": 17,
   "id": "12e13faf-193b-4d25-964f-58eeb7a0d1b0",
   "metadata": {},
   "outputs": [
    {
     "name": "stderr",
     "output_type": "stream",
     "text": [
      "C:\\Users\\Usuario\\anaconda3\\envs\\utea\\lib\\site-packages\\openpyxl\\worksheet\\_reader.py:329: UserWarning: Unknown extension is not supported and will be removed\n",
      "  warn(msg)\n",
      "C:\\Users\\Usuario\\anaconda3\\envs\\utea\\lib\\site-packages\\openpyxl\\worksheet\\_reader.py:329: UserWarning: Conditional Formatting extension is not supported and will be removed\n",
      "  warn(msg)\n"
     ]
    }
   ],
   "source": [
    "xlsx_entregas = pd.read_excel(path_xlsx_avance, sheet_name='DETALLE ENTREGAS')\n",
    "xlsx_avance = pd.read_excel(path_xlsx_avance, sheet_name = 'AVANCE')"
   ]
  },
  {
   "cell_type": "code",
   "execution_count": 18,
   "id": "332a83a8-8931-4c9d-8bef-e1ee0841778b",
   "metadata": {},
   "outputs": [
    {
     "data": {
      "text/html": [
       "<div>\n",
       "<style scoped>\n",
       "    .dataframe tbody tr th:only-of-type {\n",
       "        vertical-align: middle;\n",
       "    }\n",
       "\n",
       "    .dataframe tbody tr th {\n",
       "        vertical-align: top;\n",
       "    }\n",
       "\n",
       "    .dataframe thead th {\n",
       "        text-align: right;\n",
       "    }\n",
       "</style>\n",
       "<table border=\"1\" class=\"dataframe\">\n",
       "  <thead>\n",
       "    <tr style=\"text-align: right;\">\n",
       "      <th></th>\n",
       "      <th>inst</th>\n",
       "      <th>cod_cos</th>\n",
       "      <th>cod_ca</th>\n",
       "      <th>nom_ca</th>\n",
       "      <th>TOTAL COMPROMISO</th>\n",
       "      <th>TOTAL ENTREGAS</th>\n",
       "      <th>%ENTREGA</th>\n",
       "    </tr>\n",
       "  </thead>\n",
       "  <tbody>\n",
       "    <tr>\n",
       "      <th>0</th>\n",
       "      <td>1</td>\n",
       "      <td>49</td>\n",
       "      <td>660</td>\n",
       "      <td>AGUILERA ANTELO ALEX ENRIQUE</td>\n",
       "      <td>982.61</td>\n",
       "      <td>627.21</td>\n",
       "      <td>63.831021</td>\n",
       "    </tr>\n",
       "    <tr>\n",
       "      <th>1</th>\n",
       "      <td>1</td>\n",
       "      <td>54</td>\n",
       "      <td>3361</td>\n",
       "      <td>ENRIQUEZ ROJAS ALBERTO</td>\n",
       "      <td>1615.39</td>\n",
       "      <td>246.99</td>\n",
       "      <td>15.289806</td>\n",
       "    </tr>\n",
       "    <tr>\n",
       "      <th>2</th>\n",
       "      <td>1</td>\n",
       "      <td>55</td>\n",
       "      <td>3460</td>\n",
       "      <td>ESPINOZA MENDOZA SANTIAGO</td>\n",
       "      <td>5288.56</td>\n",
       "      <td>4142.64</td>\n",
       "      <td>78.332098</td>\n",
       "    </tr>\n",
       "  </tbody>\n",
       "</table>\n",
       "</div>"
      ],
      "text/plain": [
       "  inst  cod_cos  cod_ca                        nom_ca  TOTAL COMPROMISO  \\\n",
       "0    1       49     660  AGUILERA ANTELO ALEX ENRIQUE            982.61   \n",
       "1    1       54    3361        ENRIQUEZ ROJAS ALBERTO           1615.39   \n",
       "2    1       55    3460     ESPINOZA MENDOZA SANTIAGO           5288.56   \n",
       "\n",
       "   TOTAL ENTREGAS   %ENTREGA  \n",
       "0          627.21  63.831021  \n",
       "1          246.99  15.289806  \n",
       "2         4142.64  78.332098  "
      ]
     },
     "execution_count": 18,
     "metadata": {},
     "output_type": "execute_result"
    }
   ],
   "source": [
    "xlsx_entregas = xlsx_entregas.drop(xlsx_entregas.index[-1])\n",
    "xlsx_entregas['cod_cos'] = xlsx_entregas['cod_cos'].astype(int)\n",
    "xlsx_entregas['cod_ca'] = xlsx_entregas['cod_ca'].astype(int)\n",
    "xlsx_entregas['%ENTREGA'] = xlsx_entregas['%ENTREGA'] * 100\n",
    "xlsx_entregas.head(3)"
   ]
  },
  {
   "cell_type": "code",
   "execution_count": 19,
   "id": "233ab732-ee37-49cb-be64-85707f59846b",
   "metadata": {},
   "outputs": [
    {
     "data": {
      "text/html": [
       "<div>\n",
       "<style scoped>\n",
       "    .dataframe tbody tr th:only-of-type {\n",
       "        vertical-align: middle;\n",
       "    }\n",
       "\n",
       "    .dataframe tbody tr th {\n",
       "        vertical-align: top;\n",
       "    }\n",
       "\n",
       "    .dataframe thead th {\n",
       "        text-align: right;\n",
       "    }\n",
       "</style>\n",
       "<table border=\"1\" class=\"dataframe\">\n",
       "  <thead>\n",
       "    <tr style=\"text-align: right;\">\n",
       "      <th></th>\n",
       "      <th>COD COS</th>\n",
       "      <th>COD CA</th>\n",
       "      <th>NOMBRE CAÑERO</th>\n",
       "      <th>COMPROMISO</th>\n",
       "      <th>ENTREGAS</th>\n",
       "      <th>%ENTREGA</th>\n",
       "      <th>AREA</th>\n",
       "      <th>COSECHADO</th>\n",
       "      <th>SIN COSECHAR</th>\n",
       "      <th>SEMILLA</th>\n",
       "      <th>...</th>\n",
       "      <th>PRODUCCION EST</th>\n",
       "      <th>EST TN COSECHA</th>\n",
       "      <th>DIF EST ENTREGA</th>\n",
       "      <th>%DIF EST ENTREGA</th>\n",
       "      <th>TN EN CAMPO</th>\n",
       "      <th>COMPROMISO REST</th>\n",
       "      <th>DIFERENICA</th>\n",
       "      <th>COMPRADOR</th>\n",
       "      <th>DESVIADOR</th>\n",
       "      <th>EST VS COMPRIM</th>\n",
       "    </tr>\n",
       "  </thead>\n",
       "  <tbody>\n",
       "    <tr>\n",
       "      <th>0</th>\n",
       "      <td>414</td>\n",
       "      <td>41973</td>\n",
       "      <td>RIBERA JUSTINIANO JEFFER PAUL</td>\n",
       "      <td>9549.85</td>\n",
       "      <td>1545.58</td>\n",
       "      <td>0.161843</td>\n",
       "      <td>196.846310</td>\n",
       "      <td>60.204988</td>\n",
       "      <td>136.641322</td>\n",
       "      <td>NaN</td>\n",
       "      <td>...</td>\n",
       "      <td>9459.560899</td>\n",
       "      <td>2893.184810</td>\n",
       "      <td>-1347.604810</td>\n",
       "      <td>1.871909</td>\n",
       "      <td>6566.376089</td>\n",
       "      <td>8004.27</td>\n",
       "      <td>-1437.893911</td>\n",
       "      <td>0</td>\n",
       "      <td>1</td>\n",
       "      <td>0.990545</td>\n",
       "    </tr>\n",
       "    <tr>\n",
       "      <th>1</th>\n",
       "      <td>374</td>\n",
       "      <td>4638</td>\n",
       "      <td>LOPEZ JUANA GODOY DE</td>\n",
       "      <td>15693.28</td>\n",
       "      <td>5462.92</td>\n",
       "      <td>0.348106</td>\n",
       "      <td>301.708136</td>\n",
       "      <td>180.152916</td>\n",
       "      <td>121.555220</td>\n",
       "      <td>NaN</td>\n",
       "      <td>...</td>\n",
       "      <td>14856.435455</td>\n",
       "      <td>8870.924737</td>\n",
       "      <td>-3408.004737</td>\n",
       "      <td>1.623843</td>\n",
       "      <td>5985.510718</td>\n",
       "      <td>10230.36</td>\n",
       "      <td>-4244.849282</td>\n",
       "      <td>0</td>\n",
       "      <td>1</td>\n",
       "      <td>0.946675</td>\n",
       "    </tr>\n",
       "    <tr>\n",
       "      <th>2</th>\n",
       "      <td>526</td>\n",
       "      <td>62</td>\n",
       "      <td>AGUILERA PALMA JORGE ENRIQUE</td>\n",
       "      <td>2201.22</td>\n",
       "      <td>1359.12</td>\n",
       "      <td>0.617439</td>\n",
       "      <td>42.160018</td>\n",
       "      <td>42.160018</td>\n",
       "      <td>NaN</td>\n",
       "      <td>NaN</td>\n",
       "      <td>...</td>\n",
       "      <td>2089.558765</td>\n",
       "      <td>2089.558765</td>\n",
       "      <td>-730.438765</td>\n",
       "      <td>1.537435</td>\n",
       "      <td>NaN</td>\n",
       "      <td>842.10</td>\n",
       "      <td>-842.100000</td>\n",
       "      <td>0</td>\n",
       "      <td>1</td>\n",
       "      <td>0.949273</td>\n",
       "    </tr>\n",
       "  </tbody>\n",
       "</table>\n",
       "<p>3 rows × 24 columns</p>\n",
       "</div>"
      ],
      "text/plain": [
       "  COD COS COD CA                  NOMBRE CAÑERO  COMPROMISO  ENTREGAS  \\\n",
       "0     414  41973  RIBERA JUSTINIANO JEFFER PAUL     9549.85   1545.58   \n",
       "1     374   4638           LOPEZ JUANA GODOY DE    15693.28   5462.92   \n",
       "2     526     62   AGUILERA PALMA JORGE ENRIQUE     2201.22   1359.12   \n",
       "\n",
       "   %ENTREGA        AREA   COSECHADO  SIN COSECHAR  SEMILLA  ...  \\\n",
       "0  0.161843  196.846310   60.204988    136.641322      NaN  ...   \n",
       "1  0.348106  301.708136  180.152916    121.555220      NaN  ...   \n",
       "2  0.617439   42.160018   42.160018           NaN      NaN  ...   \n",
       "\n",
       "   PRODUCCION EST  EST TN COSECHA  DIF EST ENTREGA  %DIF EST ENTREGA  \\\n",
       "0     9459.560899     2893.184810     -1347.604810          1.871909   \n",
       "1    14856.435455     8870.924737     -3408.004737          1.623843   \n",
       "2     2089.558765     2089.558765      -730.438765          1.537435   \n",
       "\n",
       "   TN EN CAMPO  COMPROMISO REST   DIFERENICA  COMPRADOR  DESVIADOR  \\\n",
       "0  6566.376089          8004.27 -1437.893911          0          1   \n",
       "1  5985.510718         10230.36 -4244.849282          0          1   \n",
       "2          NaN           842.10  -842.100000          0          1   \n",
       "\n",
       "   EST VS COMPRIM  \n",
       "0        0.990545  \n",
       "1        0.946675  \n",
       "2        0.949273  \n",
       "\n",
       "[3 rows x 24 columns]"
      ]
     },
     "execution_count": 19,
     "metadata": {},
     "output_type": "execute_result"
    }
   ],
   "source": [
    "xlsx_avance.head(3)"
   ]
  },
  {
   "cell_type": "code",
   "execution_count": 20,
   "id": "dc6f5791-67ad-40f4-941d-2a7171d625d3",
   "metadata": {},
   "outputs": [],
   "source": [
    "fecha_inf = '02 de septiembre de 2025'\n",
    "fecha_form = '02-09-2025'\n",
    "\n",
    "fecha_img = ' de septiembre de 2025'\n",
    "\n",
    "cod_grupos = [544]\n",
    "cod = 544"
   ]
  },
  {
   "cell_type": "code",
   "execution_count": 29,
   "id": "8baffdaa-9e7a-40f2-9e99-85b776b70716",
   "metadata": {},
   "outputs": [],
   "source": [
    "def crear_reporte(lista_cod_cos):\n",
    "    for cod in lista_cod_cos:\n",
    "        grupo = xlsx_entregas[xlsx_entregas['cod_cos'] == cod].copy()\n",
    "        \n",
    "        # convertir datos del grupo a objetos\n",
    "        list_obj_caneros = []\n",
    "        for index, row in grupo.iterrows():\n",
    "            canero = {\n",
    "            'inst' : row['inst'],\n",
    "            'cod_ca' : row['cod_ca'],\n",
    "            'nom_ca' : row['nom_ca'],\n",
    "            'compromiso' : row['TOTAL COMPROMISO'],\n",
    "            'entrega' : row['TOTAL ENTREGAS'],\n",
    "            'entrega_porcen' : row['%ENTREGA']\n",
    "            }\n",
    "            list_obj_caneros.append(collections.namedtuple(\"canero\", canero.keys())(*canero.values()))\n",
    "        # totales de los datos del grupo\n",
    "        grupo_totales = {\n",
    "            'compromiso' : grupo['TOTAL COMPROMISO'].sum(),\n",
    "            'entregas' : grupo['TOTAL ENTREGAS'].sum(),\n",
    "            'entrega_porcen' : grupo['TOTAL ENTREGAS'].sum() / grupo['TOTAL COMPROMISO'].sum() * 100\n",
    "        }\n",
    "        obj_grupo_totales = collections.namedtuple(\"grupo_totales\", grupo_totales.keys())(*grupo_totales.values())\n",
    "        \n",
    "        # datos generales de avance de cosecha\n",
    "        avance = xlsx_avance[xlsx_avance['COD COS'] ==cod]\n",
    "        avance_totales = {\n",
    "            'fecha_img' : fecha_img,\n",
    "            'fecha_informe' : fecha_inf,\n",
    "            'compromiso' : float(avance['COMPROMISO'].iloc[0]),\n",
    "            'entrega' : float(avance['ENTREGAS'].iloc[0]),\n",
    "            'entrega_porcen' : float(avance['%ENTREGA'].iloc[0]) * 100,\n",
    "            'ha_canha' : float(avance['COSECHADO'].iloc[0] + avance['SIN COSECHAR'].iloc[0]),\n",
    "            'ha_cosecha' : float(avance['COSECHADO'].iloc[0]),\n",
    "            'cosecha_porcen' : float(avance['%COSECHA'].iloc[0]) * 100,\n",
    "            'tch' : float(avance['TCH'].iloc[0])\n",
    "        }\n",
    "        # datos generales a objeto\n",
    "        obj_avance_totales = collections.namedtuple(\"avance_totales\",avance_totales.keys())(*avance_totales.values())\n",
    "        \n",
    "        # generar reporte\n",
    "        doc = DocxTemplate(RUTA_COMPLETA + '/templates/tpl_rpt_avance_posible_desvio.docx')\n",
    "        context = {\n",
    "            'insp' : list_obj_caneros,\n",
    "            'grupo_totales' : obj_grupo_totales,\n",
    "            'avance' : obj_avance_totales\n",
    "        }\n",
    "        doc.render(context)\n",
    "\n",
    "        #REPROTE POSIBLE COMPRA DE CAÑA\n",
    "        doc.save(RUTA_COMPLETA + '/informes/' + str(avance['COD CA'].iloc[0]) + '_RPCC_' + fecha_form + '_' + avance['NOMBRE CAÑERO'].iloc[0] + '.docx')\n",
    "        print('Se generó reporte de grupo:', cod, ' - ', avance['NOMBRE CAÑERO'].iloc[0])"
   ]
  },
  {
   "cell_type": "code",
   "execution_count": null,
   "id": "97f35dd5-ced3-4a2d-a583-f500a1ec52f1",
   "metadata": {},
   "outputs": [],
   "source": []
  },
  {
   "cell_type": "code",
   "execution_count": null,
   "id": "122b15a2-dc02-434b-adf8-4352025133ee",
   "metadata": {},
   "outputs": [],
   "source": []
  },
  {
   "cell_type": "code",
   "execution_count": 30,
   "id": "78efacf6-1871-4e58-bd9a-90655b71e967",
   "metadata": {},
   "outputs": [
    {
     "data": {
      "text/html": [
       "<div>\n",
       "<style scoped>\n",
       "    .dataframe tbody tr th:only-of-type {\n",
       "        vertical-align: middle;\n",
       "    }\n",
       "\n",
       "    .dataframe tbody tr th {\n",
       "        vertical-align: top;\n",
       "    }\n",
       "\n",
       "    .dataframe thead th {\n",
       "        text-align: right;\n",
       "    }\n",
       "</style>\n",
       "<table border=\"1\" class=\"dataframe\">\n",
       "  <thead>\n",
       "    <tr style=\"text-align: right;\">\n",
       "      <th></th>\n",
       "      <th>COD COS</th>\n",
       "      <th>COD CA</th>\n",
       "      <th>NOMBRE CAÑERO</th>\n",
       "      <th>COMPROMISO</th>\n",
       "      <th>ENTREGAS</th>\n",
       "      <th>%ENTREGA</th>\n",
       "      <th>AREA</th>\n",
       "      <th>COSECHADO</th>\n",
       "      <th>SIN COSECHAR</th>\n",
       "      <th>SEMILLA</th>\n",
       "      <th>...</th>\n",
       "      <th>PRODUCCION EST</th>\n",
       "      <th>EST TN COSECHA</th>\n",
       "      <th>DIF EST ENTREGA</th>\n",
       "      <th>%DIF EST ENTREGA</th>\n",
       "      <th>TN EN CAMPO</th>\n",
       "      <th>COMPROMISO REST</th>\n",
       "      <th>DIFERENICA</th>\n",
       "      <th>COMPRADOR</th>\n",
       "      <th>DESVIADOR</th>\n",
       "      <th>EST VS COMPRIM</th>\n",
       "    </tr>\n",
       "  </thead>\n",
       "  <tbody>\n",
       "    <tr>\n",
       "      <th>0</th>\n",
       "      <td>414</td>\n",
       "      <td>41973</td>\n",
       "      <td>RIBERA JUSTINIANO JEFFER PAUL</td>\n",
       "      <td>9549.85</td>\n",
       "      <td>1545.58</td>\n",
       "      <td>0.161843</td>\n",
       "      <td>196.846310</td>\n",
       "      <td>60.204988</td>\n",
       "      <td>136.641322</td>\n",
       "      <td>NaN</td>\n",
       "      <td>...</td>\n",
       "      <td>9459.560899</td>\n",
       "      <td>2893.184810</td>\n",
       "      <td>-1347.604810</td>\n",
       "      <td>1.871909</td>\n",
       "      <td>6566.376089</td>\n",
       "      <td>8004.27</td>\n",
       "      <td>-1437.893911</td>\n",
       "      <td>0</td>\n",
       "      <td>1</td>\n",
       "      <td>0.990545</td>\n",
       "    </tr>\n",
       "    <tr>\n",
       "      <th>1</th>\n",
       "      <td>374</td>\n",
       "      <td>4638</td>\n",
       "      <td>LOPEZ JUANA GODOY DE</td>\n",
       "      <td>15693.28</td>\n",
       "      <td>5462.92</td>\n",
       "      <td>0.348106</td>\n",
       "      <td>301.708136</td>\n",
       "      <td>180.152916</td>\n",
       "      <td>121.555220</td>\n",
       "      <td>NaN</td>\n",
       "      <td>...</td>\n",
       "      <td>14856.435455</td>\n",
       "      <td>8870.924737</td>\n",
       "      <td>-3408.004737</td>\n",
       "      <td>1.623843</td>\n",
       "      <td>5985.510718</td>\n",
       "      <td>10230.36</td>\n",
       "      <td>-4244.849282</td>\n",
       "      <td>0</td>\n",
       "      <td>1</td>\n",
       "      <td>0.946675</td>\n",
       "    </tr>\n",
       "    <tr>\n",
       "      <th>2</th>\n",
       "      <td>526</td>\n",
       "      <td>62</td>\n",
       "      <td>AGUILERA PALMA JORGE ENRIQUE</td>\n",
       "      <td>2201.22</td>\n",
       "      <td>1359.12</td>\n",
       "      <td>0.617439</td>\n",
       "      <td>42.160018</td>\n",
       "      <td>42.160018</td>\n",
       "      <td>NaN</td>\n",
       "      <td>NaN</td>\n",
       "      <td>...</td>\n",
       "      <td>2089.558765</td>\n",
       "      <td>2089.558765</td>\n",
       "      <td>-730.438765</td>\n",
       "      <td>1.537435</td>\n",
       "      <td>NaN</td>\n",
       "      <td>842.10</td>\n",
       "      <td>-842.100000</td>\n",
       "      <td>0</td>\n",
       "      <td>1</td>\n",
       "      <td>0.949273</td>\n",
       "    </tr>\n",
       "  </tbody>\n",
       "</table>\n",
       "<p>3 rows × 24 columns</p>\n",
       "</div>"
      ],
      "text/plain": [
       "  COD COS COD CA                  NOMBRE CAÑERO  COMPROMISO  ENTREGAS  \\\n",
       "0     414  41973  RIBERA JUSTINIANO JEFFER PAUL     9549.85   1545.58   \n",
       "1     374   4638           LOPEZ JUANA GODOY DE    15693.28   5462.92   \n",
       "2     526     62   AGUILERA PALMA JORGE ENRIQUE     2201.22   1359.12   \n",
       "\n",
       "   %ENTREGA        AREA   COSECHADO  SIN COSECHAR  SEMILLA  ...  \\\n",
       "0  0.161843  196.846310   60.204988    136.641322      NaN  ...   \n",
       "1  0.348106  301.708136  180.152916    121.555220      NaN  ...   \n",
       "2  0.617439   42.160018   42.160018           NaN      NaN  ...   \n",
       "\n",
       "   PRODUCCION EST  EST TN COSECHA  DIF EST ENTREGA  %DIF EST ENTREGA  \\\n",
       "0     9459.560899     2893.184810     -1347.604810          1.871909   \n",
       "1    14856.435455     8870.924737     -3408.004737          1.623843   \n",
       "2     2089.558765     2089.558765      -730.438765          1.537435   \n",
       "\n",
       "   TN EN CAMPO  COMPROMISO REST   DIFERENICA  COMPRADOR  DESVIADOR  \\\n",
       "0  6566.376089          8004.27 -1437.893911          0          1   \n",
       "1  5985.510718         10230.36 -4244.849282          0          1   \n",
       "2          NaN           842.10  -842.100000          0          1   \n",
       "\n",
       "   EST VS COMPRIM  \n",
       "0        0.990545  \n",
       "1        0.946675  \n",
       "2        0.949273  \n",
       "\n",
       "[3 rows x 24 columns]"
      ]
     },
     "execution_count": 30,
     "metadata": {},
     "output_type": "execute_result"
    }
   ],
   "source": [
    "compradores = xlsx_avance[xlsx_avance['DESVIADOR'] == 1]\n",
    "compradores.head(3)"
   ]
  },
  {
   "cell_type": "code",
   "execution_count": 31,
   "id": "f4910ce8-b636-475c-96a0-ce84ad5162bd",
   "metadata": {},
   "outputs": [
    {
     "name": "stdout",
     "output_type": "stream",
     "text": [
      "[450, 291, 132, 409, 155, 187, 526, 432, 370, 371, 374, 345, 347, 414]\n"
     ]
    }
   ],
   "source": [
    "lista_cods = list(set(compradores['COD COS']))\n",
    "print(lista_cods)"
   ]
  },
  {
   "cell_type": "code",
   "execution_count": 32,
   "id": "f27f0933-9406-4723-a477-edf80cb65361",
   "metadata": {},
   "outputs": [],
   "source": [
    "lista_cods = [374,\n",
    "375,\n",
    "345,\n",
    "432,\n",
    "187]"
   ]
  },
  {
   "cell_type": "code",
   "execution_count": 33,
   "id": "4fa31ec4-c5f5-45c3-a35b-e1dfd8edfb59",
   "metadata": {},
   "outputs": [
    {
     "name": "stdout",
     "output_type": "stream",
     "text": [
      "Se generó reporte de grupo: 374  -  LOPEZ JUANA GODOY DE\n",
      "Se generó reporte de grupo: 375  -  DURAN MERIDA CHARLES ROBERT\n",
      "Se generó reporte de grupo: 345  -  DELGADILLO FERMINA LOPEZ DE\n",
      "Se generó reporte de grupo: 432  -  BALDERRAMA VEIZAGA  CHARLES\n",
      "Se generó reporte de grupo: 187  -  LEON RODAS PASCUAL\n"
     ]
    }
   ],
   "source": [
    "crear_reporte(lista_cods)"
   ]
  },
  {
   "cell_type": "code",
   "execution_count": null,
   "id": "e022e110-d87a-4f83-862f-203ac3d98b1f",
   "metadata": {},
   "outputs": [],
   "source": []
  },
  {
   "cell_type": "code",
   "execution_count": null,
   "id": "6221e14d-1614-47e7-bc59-9fa7caab5d47",
   "metadata": {},
   "outputs": [],
   "source": []
  },
  {
   "cell_type": "code",
   "execution_count": null,
   "id": "4612e89c-d39d-4c16-9148-8211c849cc5b",
   "metadata": {},
   "outputs": [],
   "source": []
  },
  {
   "cell_type": "code",
   "execution_count": null,
   "id": "880e4f8f-2a8b-4de3-ac7a-442db22aa517",
   "metadata": {},
   "outputs": [],
   "source": []
  },
  {
   "cell_type": "code",
   "execution_count": null,
   "id": "cc80d8fe-e4db-46c9-85e5-eb347d4b001b",
   "metadata": {},
   "outputs": [],
   "source": []
  },
  {
   "cell_type": "code",
   "execution_count": null,
   "id": "f11294cf-acce-4abe-90c3-3874eb09bcdb",
   "metadata": {},
   "outputs": [],
   "source": []
  },
  {
   "cell_type": "code",
   "execution_count": null,
   "id": "b388c8fa-f0de-419c-8376-6caef0d1e021",
   "metadata": {},
   "outputs": [],
   "source": []
  },
  {
   "cell_type": "code",
   "execution_count": 37,
   "id": "703fc52c-e968-41ed-a23d-6dae593b364a",
   "metadata": {},
   "outputs": [
    {
     "data": {
      "text/html": [
       "<div>\n",
       "<style scoped>\n",
       "    .dataframe tbody tr th:only-of-type {\n",
       "        vertical-align: middle;\n",
       "    }\n",
       "\n",
       "    .dataframe tbody tr th {\n",
       "        vertical-align: top;\n",
       "    }\n",
       "\n",
       "    .dataframe thead th {\n",
       "        text-align: right;\n",
       "    }\n",
       "</style>\n",
       "<table border=\"1\" class=\"dataframe\">\n",
       "  <thead>\n",
       "    <tr style=\"text-align: right;\">\n",
       "      <th></th>\n",
       "      <th>inst</th>\n",
       "      <th>cod_cos</th>\n",
       "      <th>cod_ca</th>\n",
       "      <th>nom_ca</th>\n",
       "      <th>TOTAL COMPROMISO</th>\n",
       "      <th>TOTAL ENTREGAS</th>\n",
       "      <th>%ENTREGA</th>\n",
       "    </tr>\n",
       "  </thead>\n",
       "  <tbody>\n",
       "    <tr>\n",
       "      <th>616</th>\n",
       "      <td>63</td>\n",
       "      <td>544</td>\n",
       "      <td>5277</td>\n",
       "      <td>HUALLPA MENDEZ ADHEMAR</td>\n",
       "      <td>443.91</td>\n",
       "      <td>196.74</td>\n",
       "      <td>44.319795</td>\n",
       "    </tr>\n",
       "    <tr>\n",
       "      <th>617</th>\n",
       "      <td>63</td>\n",
       "      <td>544</td>\n",
       "      <td>5334</td>\n",
       "      <td>HUALLPA AUCACHI JUSTINO</td>\n",
       "      <td>864.39</td>\n",
       "      <td>625.99</td>\n",
       "      <td>72.419857</td>\n",
       "    </tr>\n",
       "    <tr>\n",
       "      <th>618</th>\n",
       "      <td>63</td>\n",
       "      <td>544</td>\n",
       "      <td>5423</td>\n",
       "      <td>HUALLPA MENDEZ ROLY</td>\n",
       "      <td>215.03</td>\n",
       "      <td>NaN</td>\n",
       "      <td>NaN</td>\n",
       "    </tr>\n",
       "    <tr>\n",
       "      <th>619</th>\n",
       "      <td>63</td>\n",
       "      <td>544</td>\n",
       "      <td>5460</td>\n",
       "      <td>HUALLPA MENDEZ GLADYS</td>\n",
       "      <td>893.56</td>\n",
       "      <td>885.39</td>\n",
       "      <td>99.085680</td>\n",
       "    </tr>\n",
       "    <tr>\n",
       "      <th>620</th>\n",
       "      <td>63</td>\n",
       "      <td>544</td>\n",
       "      <td>42375</td>\n",
       "      <td>HUALLPA MENDEZ DIEGO</td>\n",
       "      <td>542.04</td>\n",
       "      <td>234.20</td>\n",
       "      <td>43.207143</td>\n",
       "    </tr>\n",
       "  </tbody>\n",
       "</table>\n",
       "</div>"
      ],
      "text/plain": [
       "    inst  cod_cos  cod_ca                   nom_ca  TOTAL COMPROMISO  \\\n",
       "616   63      544    5277   HUALLPA MENDEZ ADHEMAR            443.91   \n",
       "617   63      544    5334  HUALLPA AUCACHI JUSTINO            864.39   \n",
       "618   63      544    5423      HUALLPA MENDEZ ROLY            215.03   \n",
       "619   63      544    5460    HUALLPA MENDEZ GLADYS            893.56   \n",
       "620   63      544   42375     HUALLPA MENDEZ DIEGO            542.04   \n",
       "\n",
       "     TOTAL ENTREGAS   %ENTREGA  \n",
       "616          196.74  44.319795  \n",
       "617          625.99  72.419857  \n",
       "618             NaN        NaN  \n",
       "619          885.39  99.085680  \n",
       "620          234.20  43.207143  "
      ]
     },
     "execution_count": 37,
     "metadata": {},
     "output_type": "execute_result"
    }
   ],
   "source": [
    "grupo = xlsx_entregas[xlsx_entregas['cod_cos'] == cod].copy()\n",
    "grupo"
   ]
  },
  {
   "cell_type": "code",
   "execution_count": 39,
   "id": "9a01a245-8031-4f07-91a0-dda7bc16f6bb",
   "metadata": {},
   "outputs": [
    {
     "data": {
      "text/plain": [
       "[canero(inst=63, cod_ca=5277, nom_ca='HUALLPA MENDEZ ADHEMAR', compromiso=443.91, entrega=196.74, entrega_porcen=44.31979455294992),\n",
       " canero(inst=63, cod_ca=5334, nom_ca='HUALLPA AUCACHI JUSTINO', compromiso=864.39, entrega=625.99, entrega_porcen=72.41985677761195),\n",
       " canero(inst=63, cod_ca=5423, nom_ca='HUALLPA MENDEZ ROLY', compromiso=215.03, entrega=nan, entrega_porcen=nan),\n",
       " canero(inst=63, cod_ca=5460, nom_ca='HUALLPA MENDEZ GLADYS', compromiso=893.56, entrega=885.39, entrega_porcen=99.08567975289853),\n",
       " canero(inst=63, cod_ca=42375, nom_ca='HUALLPA MENDEZ DIEGO', compromiso=542.04, entrega=234.2, entrega_porcen=43.207143384252085)]"
      ]
     },
     "execution_count": 39,
     "metadata": {},
     "output_type": "execute_result"
    }
   ],
   "source": [
    "# convertir datos del grupo a objetos\n",
    "list_obj_caneros = []\n",
    "for index, row in grupo.iterrows():\n",
    "    canero = {\n",
    "        'inst' : row['inst'],\n",
    "        'cod_ca' : row['cod_ca'],\n",
    "        'nom_ca' : row['nom_ca'],\n",
    "        'compromiso' : row['TOTAL COMPROMISO'],\n",
    "        'entrega' : row['TOTAL ENTREGAS'],\n",
    "        'entrega_porcen' : row['%ENTREGA']\n",
    "    }\n",
    "    list_obj_caneros.append(collections.namedtuple(\"canero\", canero.keys())(*canero.values()))\n",
    "list_obj_caneros"
   ]
  },
  {
   "cell_type": "code",
   "execution_count": 41,
   "id": "f510f3b0-3b7a-479d-a020-6e136e4c61fa",
   "metadata": {},
   "outputs": [
    {
     "data": {
      "text/plain": [
       "grupo_totales(compromiso=2958.93, entregas=1942.32, entrega_porcen=65.64264784905355)"
      ]
     },
     "execution_count": 41,
     "metadata": {},
     "output_type": "execute_result"
    }
   ],
   "source": [
    "# totales de los datos del grupo\n",
    "grupo_totales = {\n",
    "    'compromiso' : grupo['TOTAL COMPROMISO'].sum(),\n",
    "    'entregas' : grupo['TOTAL ENTREGAS'].sum(),\n",
    "    'entrega_porcen' : grupo['TOTAL ENTREGAS'].sum() / grupo['TOTAL COMPROMISO'].sum() * 100\n",
    "}\n",
    "obj_grupo_totales = collections.namedtuple(\"grupo_totales\", grupo_totales.keys())(*grupo_totales.values())\n",
    "obj_grupo_totales"
   ]
  },
  {
   "cell_type": "code",
   "execution_count": 46,
   "id": "d124b7be-93b1-472c-918c-fb8eaf76b584",
   "metadata": {},
   "outputs": [
    {
     "data": {
      "text/plain": [
       "avance_totales(fecha_img=' de agosto de 2025', fecha_informe='27 de agosto de 2025', compromiso=2958.93, entrega=1942.32, entrega_porcen=65.64264784905355, ha_canha=37.17237600000001, ha_cosecha=10.711097322463035, cosecha_porcen=28.814669588145325, tch=181.33716289988487)"
      ]
     },
     "execution_count": 46,
     "metadata": {},
     "output_type": "execute_result"
    }
   ],
   "source": [
    "# datos generales de avance de cosecha\n",
    "avance = xlsx_avance[xlsx_avance['COD COS'] ==cod]\n",
    "avance_totales = {\n",
    "    'fecha_img' : fecha_img,\n",
    "    'fecha_informe' : fecha_inf,\n",
    "    'compromiso' : float(avance['COMPROMISO'].iloc[0]),\n",
    "    'entrega' : float(avance['ENTREGAS'].iloc[0]),\n",
    "    'entrega_porcen' : float(avance['%ENTREGA'].iloc[0]) * 100,\n",
    "    'ha_canha' : float(avance['COSECHADO'].iloc[0] + avance['SIN COSECHAR'].iloc[0]),\n",
    "    'ha_cosecha' : float(avance['COSECHADO'].iloc[0]),\n",
    "    'cosecha_porcen' : float(avance['%COSECHA'].iloc[0]) * 100,\n",
    "    'tch' : float(avance['TCH'].iloc[0])\n",
    "}\n",
    "# datos generales a objeto\n",
    "obj_avance_totales = collections.namedtuple(\"avance_totales\",avance_totales.keys())(*avance_totales.values())\n",
    "obj_avance_totales"
   ]
  },
  {
   "cell_type": "code",
   "execution_count": 52,
   "id": "672384cb-9bca-4e02-a1a2-244380638ce8",
   "metadata": {},
   "outputs": [
    {
     "name": "stdout",
     "output_type": "stream",
     "text": [
      "Se generó reporte de grupo: 544\n"
     ]
    }
   ],
   "source": [
    "# generar reporte\n",
    "doc = DocxTemplate(RUTA_COMPLETA + '/templates/tpl_rpt_avance_posble_compra.docx')\n",
    "context = {\n",
    "    'insp' : list_obj_caneros,\n",
    "    'grupo_totales' : obj_grupo_totales,\n",
    "    'avance' : obj_avance_totales\n",
    "}\n",
    "doc.render(context)\n",
    "\n",
    "#REPROTE POSIBLE COMPRA DE CAÑA\n",
    "doc.save(RUTA_COMPLETA + '/informes/_' + str(avance['COD CA'].iloc[0]) + '_RPCC_' + fecha_form + '_' + avance['NOMBRE CAÑERO'].iloc[0] + '.docx')\n",
    "print('Se generó reporte de grupo:', cod)"
   ]
  },
  {
   "cell_type": "code",
   "execution_count": null,
   "id": "a4fd1a78-0a7b-49e8-9b06-747bba519ad4",
   "metadata": {},
   "outputs": [],
   "source": []
  },
  {
   "cell_type": "code",
   "execution_count": null,
   "id": "d79bebd5-4a86-4da5-b706-132debdeffde",
   "metadata": {},
   "outputs": [],
   "source": []
  },
  {
   "cell_type": "code",
   "execution_count": null,
   "id": "30b41900-d827-4e6c-bd9e-38468f303d2b",
   "metadata": {},
   "outputs": [],
   "source": []
  },
  {
   "cell_type": "code",
   "execution_count": null,
   "id": "ac183af9-0b33-46b0-800c-6679765dc6d0",
   "metadata": {},
   "outputs": [],
   "source": []
  },
  {
   "cell_type": "code",
   "execution_count": null,
   "id": "67da0586-dfda-405d-9264-661804478b64",
   "metadata": {},
   "outputs": [],
   "source": []
  }
 ],
 "metadata": {
  "kernelspec": {
   "display_name": "Python 3 (ipykernel)",
   "language": "python",
   "name": "python3"
  },
  "language_info": {
   "codemirror_mode": {
    "name": "ipython",
    "version": 3
   },
   "file_extension": ".py",
   "mimetype": "text/x-python",
   "name": "python",
   "nbconvert_exporter": "python",
   "pygments_lexer": "ipython3",
   "version": "3.10.13"
  }
 },
 "nbformat": 4,
 "nbformat_minor": 5
}
