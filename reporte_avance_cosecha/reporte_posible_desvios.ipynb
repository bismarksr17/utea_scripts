{
 "cells": [
  {
   "cell_type": "markdown",
   "id": "a7a290fe-5066-46af-b0de-ba7f3341acee",
   "metadata": {},
   "source": [
    "Cartar de posible desvio para la union"
   ]
  },
  {
   "cell_type": "code",
   "execution_count": 2,
   "id": "ca9b4b00-6b15-4a9d-af08-e70c7d600def",
   "metadata": {},
   "outputs": [],
   "source": [
    "import sys\n",
    "sys.path.append('..')\n",
    "\n",
    "import pandas as pd\n",
    "import collections\n",
    "import os\n",
    "\n",
    "from docxtpl import DocxTemplate\n",
    "\n",
    "from config import RUTA_UNIDAD_ONE_DRIVE\n",
    "from config import RUTA_LOCAL_ONE_DRIVE\n",
    "from config import POSTGRES_UTEA\n",
    "\n",
    "RUTA_COMPLETA = os.path.join(RUTA_UNIDAD_ONE_DRIVE, RUTA_LOCAL_ONE_DRIVE)"
   ]
  },
  {
   "cell_type": "code",
   "execution_count": 3,
   "id": "3e5d52ea-5b4f-486d-ab01-b7ceb2667134",
   "metadata": {},
   "outputs": [
    {
     "data": {
      "text/plain": [
       "'G:\\\\OneDrive - Ingenio Azucarero Guabira S.A\\\\_DATOS_PYTHON'"
      ]
     },
     "execution_count": 3,
     "metadata": {},
     "output_type": "execute_result"
    }
   ],
   "source": [
    "RUTA_COMPLETA"
   ]
  },
  {
   "cell_type": "code",
   "execution_count": 4,
   "id": "15207647-8bfc-4d8d-9dd5-4bc8a6ef7d69",
   "metadata": {},
   "outputs": [],
   "source": [
    "path_xlsx_avance = RUTA_UNIDAD_ONE_DRIVE + r'\\Ingenio Azucarero Guabira S.A\\UTEA - SEMANAL - AVANCE COSECHA\\2025\\AVANCE SEMANAL\\AVANCE DE COSECHA V1.xlsx'"
   ]
  },
  {
   "cell_type": "code",
   "execution_count": 5,
   "id": "12e13faf-193b-4d25-964f-58eeb7a0d1b0",
   "metadata": {},
   "outputs": [
    {
     "name": "stderr",
     "output_type": "stream",
     "text": [
      "C:\\Users\\Usuario\\anaconda3\\envs\\utea\\lib\\site-packages\\openpyxl\\worksheet\\_reader.py:329: UserWarning: Unknown extension is not supported and will be removed\n",
      "  warn(msg)\n",
      "C:\\Users\\Usuario\\anaconda3\\envs\\utea\\lib\\site-packages\\openpyxl\\worksheet\\_reader.py:329: UserWarning: Conditional Formatting extension is not supported and will be removed\n",
      "  warn(msg)\n"
     ]
    }
   ],
   "source": [
    "xlsx_entregas = pd.read_excel(path_xlsx_avance, sheet_name='DETALLE ENTREGAS')\n",
    "xlsx_avance = pd.read_excel(path_xlsx_avance, sheet_name = 'AVANCE')"
   ]
  },
  {
   "cell_type": "code",
   "execution_count": 7,
   "id": "332a83a8-8931-4c9d-8bef-e1ee0841778b",
   "metadata": {},
   "outputs": [
    {
     "data": {
      "text/html": [
       "<div>\n",
       "<style scoped>\n",
       "    .dataframe tbody tr th:only-of-type {\n",
       "        vertical-align: middle;\n",
       "    }\n",
       "\n",
       "    .dataframe tbody tr th {\n",
       "        vertical-align: top;\n",
       "    }\n",
       "\n",
       "    .dataframe thead th {\n",
       "        text-align: right;\n",
       "    }\n",
       "</style>\n",
       "<table border=\"1\" class=\"dataframe\">\n",
       "  <thead>\n",
       "    <tr style=\"text-align: right;\">\n",
       "      <th></th>\n",
       "      <th>inst</th>\n",
       "      <th>cod_cos</th>\n",
       "      <th>cod_ca</th>\n",
       "      <th>nom_ca</th>\n",
       "      <th>TOTAL COMPROMISO</th>\n",
       "      <th>TOTAL ENTREGAS</th>\n",
       "      <th>%ENTREGA</th>\n",
       "    </tr>\n",
       "  </thead>\n",
       "  <tbody>\n",
       "    <tr>\n",
       "      <th>0</th>\n",
       "      <td>1</td>\n",
       "      <td>49</td>\n",
       "      <td>660</td>\n",
       "      <td>AGUILERA ANTELO ALEX ENRIQUE</td>\n",
       "      <td>982.61</td>\n",
       "      <td>627.21</td>\n",
       "      <td>63.831021</td>\n",
       "    </tr>\n",
       "    <tr>\n",
       "      <th>1</th>\n",
       "      <td>1</td>\n",
       "      <td>54</td>\n",
       "      <td>3361</td>\n",
       "      <td>ENRIQUEZ ROJAS ALBERTO</td>\n",
       "      <td>1615.39</td>\n",
       "      <td>246.99</td>\n",
       "      <td>15.289806</td>\n",
       "    </tr>\n",
       "    <tr>\n",
       "      <th>2</th>\n",
       "      <td>1</td>\n",
       "      <td>55</td>\n",
       "      <td>3460</td>\n",
       "      <td>ESPINOZA MENDOZA SANTIAGO</td>\n",
       "      <td>5288.56</td>\n",
       "      <td>4826.73</td>\n",
       "      <td>91.267377</td>\n",
       "    </tr>\n",
       "  </tbody>\n",
       "</table>\n",
       "</div>"
      ],
      "text/plain": [
       "  inst  cod_cos  cod_ca                        nom_ca  TOTAL COMPROMISO  \\\n",
       "0    1       49     660  AGUILERA ANTELO ALEX ENRIQUE            982.61   \n",
       "1    1       54    3361        ENRIQUEZ ROJAS ALBERTO           1615.39   \n",
       "2    1       55    3460     ESPINOZA MENDOZA SANTIAGO           5288.56   \n",
       "\n",
       "   TOTAL ENTREGAS   %ENTREGA  \n",
       "0          627.21  63.831021  \n",
       "1          246.99  15.289806  \n",
       "2         4826.73  91.267377  "
      ]
     },
     "execution_count": 7,
     "metadata": {},
     "output_type": "execute_result"
    }
   ],
   "source": [
    "xlsx_entregas = xlsx_entregas.drop(xlsx_entregas.index[-1])\n",
    "xlsx_entregas = xlsx_entregas.drop(xlsx_entregas.index[-1])\n",
    "xlsx_entregas['cod_cos'] = xlsx_entregas['cod_cos'].astype(int)\n",
    "xlsx_entregas['cod_ca'] = xlsx_entregas['cod_ca'].astype(int)\n",
    "xlsx_entregas['%ENTREGA'] = xlsx_entregas['%ENTREGA'] * 100\n",
    "xlsx_entregas.head(3)"
   ]
  },
  {
   "cell_type": "code",
   "execution_count": 8,
   "id": "233ab732-ee37-49cb-be64-85707f59846b",
   "metadata": {},
   "outputs": [
    {
     "data": {
      "text/html": [
       "<div>\n",
       "<style scoped>\n",
       "    .dataframe tbody tr th:only-of-type {\n",
       "        vertical-align: middle;\n",
       "    }\n",
       "\n",
       "    .dataframe tbody tr th {\n",
       "        vertical-align: top;\n",
       "    }\n",
       "\n",
       "    .dataframe thead th {\n",
       "        text-align: right;\n",
       "    }\n",
       "</style>\n",
       "<table border=\"1\" class=\"dataframe\">\n",
       "  <thead>\n",
       "    <tr style=\"text-align: right;\">\n",
       "      <th></th>\n",
       "      <th>COD COS</th>\n",
       "      <th>COD CA</th>\n",
       "      <th>NOMBRE CAÑERO</th>\n",
       "      <th>COMPROMISO</th>\n",
       "      <th>ENTREGAS</th>\n",
       "      <th>%ENTREGA</th>\n",
       "      <th>AREA</th>\n",
       "      <th>COSECHADO</th>\n",
       "      <th>SIN COSECHAR</th>\n",
       "      <th>SEMILLA</th>\n",
       "      <th>...</th>\n",
       "      <th>PRODUCCION EST</th>\n",
       "      <th>EST TN COSECHA</th>\n",
       "      <th>DIF EST ENTREGA</th>\n",
       "      <th>%DIF EST ENTREGA</th>\n",
       "      <th>TN EN CAMPO</th>\n",
       "      <th>COMPROMISO REST</th>\n",
       "      <th>DIFERENICA</th>\n",
       "      <th>COMPRADOR</th>\n",
       "      <th>DESVIADOR</th>\n",
       "      <th>EST VS COMPRIM</th>\n",
       "    </tr>\n",
       "  </thead>\n",
       "  <tbody>\n",
       "    <tr>\n",
       "      <th>0</th>\n",
       "      <td>544</td>\n",
       "      <td>5334</td>\n",
       "      <td>HUALLPA AUCACHI JUSTINO</td>\n",
       "      <td>2958.93</td>\n",
       "      <td>2248.01</td>\n",
       "      <td>0.759737</td>\n",
       "      <td>37.172376</td>\n",
       "      <td>16.748978</td>\n",
       "      <td>20.423398</td>\n",
       "      <td>NaN</td>\n",
       "      <td>...</td>\n",
       "      <td>1991.766094</td>\n",
       "      <td>922.792097</td>\n",
       "      <td>1325.217903</td>\n",
       "      <td>0.410493</td>\n",
       "      <td>1068.973996</td>\n",
       "      <td>710.92</td>\n",
       "      <td>358.053996</td>\n",
       "      <td>1</td>\n",
       "      <td>0</td>\n",
       "      <td>0.673137</td>\n",
       "    </tr>\n",
       "    <tr>\n",
       "      <th>1</th>\n",
       "      <td>602</td>\n",
       "      <td>551</td>\n",
       "      <td>AQUINO PAITA ELIAS</td>\n",
       "      <td>1253.55</td>\n",
       "      <td>1128.61</td>\n",
       "      <td>0.900331</td>\n",
       "      <td>23.142961</td>\n",
       "      <td>10.392392</td>\n",
       "      <td>11.470565</td>\n",
       "      <td>1.280004</td>\n",
       "      <td>...</td>\n",
       "      <td>1106.831999</td>\n",
       "      <td>540.297818</td>\n",
       "      <td>588.312182</td>\n",
       "      <td>0.478729</td>\n",
       "      <td>566.534182</td>\n",
       "      <td>124.94</td>\n",
       "      <td>441.594182</td>\n",
       "      <td>1</td>\n",
       "      <td>0</td>\n",
       "      <td>0.882958</td>\n",
       "    </tr>\n",
       "    <tr>\n",
       "      <th>2</th>\n",
       "      <td>564</td>\n",
       "      <td>172</td>\n",
       "      <td>ALVAREZ ALAVE JORGE</td>\n",
       "      <td>1010.36</td>\n",
       "      <td>1252.95</td>\n",
       "      <td>1.240103</td>\n",
       "      <td>15.750806</td>\n",
       "      <td>12.518848</td>\n",
       "      <td>3.231958</td>\n",
       "      <td>NaN</td>\n",
       "      <td>...</td>\n",
       "      <td>748.728442</td>\n",
       "      <td>601.263242</td>\n",
       "      <td>651.686758</td>\n",
       "      <td>0.479878</td>\n",
       "      <td>147.465200</td>\n",
       "      <td>-242.59</td>\n",
       "      <td>390.055200</td>\n",
       "      <td>1</td>\n",
       "      <td>0</td>\n",
       "      <td>0.741051</td>\n",
       "    </tr>\n",
       "  </tbody>\n",
       "</table>\n",
       "<p>3 rows × 24 columns</p>\n",
       "</div>"
      ],
      "text/plain": [
       "  COD COS COD CA            NOMBRE CAÑERO  COMPROMISO  ENTREGAS  %ENTREGA  \\\n",
       "0     544   5334  HUALLPA AUCACHI JUSTINO     2958.93   2248.01  0.759737   \n",
       "1     602    551       AQUINO PAITA ELIAS     1253.55   1128.61  0.900331   \n",
       "2     564    172      ALVAREZ ALAVE JORGE     1010.36   1252.95  1.240103   \n",
       "\n",
       "        AREA  COSECHADO  SIN COSECHAR   SEMILLA  ...  PRODUCCION EST  \\\n",
       "0  37.172376  16.748978     20.423398       NaN  ...     1991.766094   \n",
       "1  23.142961  10.392392     11.470565  1.280004  ...     1106.831999   \n",
       "2  15.750806  12.518848      3.231958       NaN  ...      748.728442   \n",
       "\n",
       "   EST TN COSECHA  DIF EST ENTREGA  %DIF EST ENTREGA  TN EN CAMPO  \\\n",
       "0      922.792097      1325.217903          0.410493  1068.973996   \n",
       "1      540.297818       588.312182          0.478729   566.534182   \n",
       "2      601.263242       651.686758          0.479878   147.465200   \n",
       "\n",
       "   COMPROMISO REST  DIFERENICA  COMPRADOR  DESVIADOR  EST VS COMPRIM  \n",
       "0           710.92  358.053996          1          0        0.673137  \n",
       "1           124.94  441.594182          1          0        0.882958  \n",
       "2          -242.59  390.055200          1          0        0.741051  \n",
       "\n",
       "[3 rows x 24 columns]"
      ]
     },
     "execution_count": 8,
     "metadata": {},
     "output_type": "execute_result"
    }
   ],
   "source": [
    "xlsx_avance.head(3)"
   ]
  },
  {
   "cell_type": "code",
   "execution_count": 14,
   "id": "dc6f5791-67ad-40f4-941d-2a7171d625d3",
   "metadata": {},
   "outputs": [],
   "source": [
    "fecha_inf = '18 de septiembre de 2025'\n",
    "fecha_form = '18-09-2025'\n",
    "\n",
    "fecha_img = ' de septiembre de 2025'\n",
    "\n",
    "cod_grupos = [523,\n",
    "414,\n",
    "450,\n",
    "370,\n",
    "526,\n",
    "371\n",
    "]\n"
   ]
  },
  {
   "cell_type": "code",
   "execution_count": 15,
   "id": "8baffdaa-9e7a-40f2-9e99-85b776b70716",
   "metadata": {},
   "outputs": [],
   "source": [
    "def crear_reporte(lista_cod_cos):\n",
    "    for cod in lista_cod_cos:\n",
    "        grupo = xlsx_entregas[xlsx_entregas['cod_cos'] == cod].copy()\n",
    "        \n",
    "        # convertir datos del grupo a objetos\n",
    "        list_obj_caneros = []\n",
    "        for index, row in grupo.iterrows():\n",
    "            canero = {\n",
    "            'inst' : row['inst'],\n",
    "            'cod_ca' : row['cod_ca'],\n",
    "            'nom_ca' : row['nom_ca'],\n",
    "            'compromiso' : row['TOTAL COMPROMISO'],\n",
    "            'entrega' : row['TOTAL ENTREGAS'],\n",
    "            'entrega_porcen' : row['%ENTREGA']\n",
    "            }\n",
    "            list_obj_caneros.append(collections.namedtuple(\"canero\", canero.keys())(*canero.values()))\n",
    "        # totales de los datos del grupo\n",
    "        grupo_totales = {\n",
    "            'compromiso' : grupo['TOTAL COMPROMISO'].sum(),\n",
    "            'entregas' : grupo['TOTAL ENTREGAS'].sum(),\n",
    "            'entrega_porcen' : grupo['TOTAL ENTREGAS'].sum() / grupo['TOTAL COMPROMISO'].sum() * 100\n",
    "        }\n",
    "        obj_grupo_totales = collections.namedtuple(\"grupo_totales\", grupo_totales.keys())(*grupo_totales.values())\n",
    "        \n",
    "        # datos generales de avance de cosecha\n",
    "        avance = xlsx_avance[xlsx_avance['COD COS'] ==cod]\n",
    "        avance_totales = {\n",
    "            'fecha_img' : fecha_img,\n",
    "            'fecha_informe' : fecha_inf,\n",
    "            'compromiso' : float(avance['COMPROMISO'].iloc[0]),\n",
    "            'entrega' : float(avance['ENTREGAS'].iloc[0]),\n",
    "            'entrega_porcen' : float(avance['%ENTREGA'].iloc[0]) * 100,\n",
    "            'ha_canha' : float(avance['COSECHADO'].iloc[0] + avance['SIN COSECHAR'].iloc[0]),\n",
    "            'ha_cosecha' : float(avance['COSECHADO'].iloc[0]),\n",
    "            'cosecha_porcen' : float(avance['%COSECHA'].iloc[0]) * 100,\n",
    "            'tch' : float(avance['TCH'].iloc[0])\n",
    "        }\n",
    "        # datos generales a objeto\n",
    "        obj_avance_totales = collections.namedtuple(\"avance_totales\",avance_totales.keys())(*avance_totales.values())\n",
    "        \n",
    "        # generar reporte\n",
    "        doc = DocxTemplate(RUTA_COMPLETA + '/templates/tpl_rpt_avance_posible_desvio.docx')\n",
    "        context = {\n",
    "            'insp' : list_obj_caneros,\n",
    "            'grupo_totales' : obj_grupo_totales,\n",
    "            'avance' : obj_avance_totales\n",
    "        }\n",
    "        doc.render(context)\n",
    "\n",
    "        #REPROTE POSIBLE COMPRA DE CAÑA\n",
    "        doc.save(RUTA_COMPLETA + '/informes/' + str(avance['COD CA'].iloc[0]) + '_RPCC_' + fecha_form + '_' + avance['NOMBRE CAÑERO'].iloc[0] + '.docx')\n",
    "        print('Se generó reporte de grupo:', cod, ' - ', avance['NOMBRE CAÑERO'].iloc[0])"
   ]
  },
  {
   "cell_type": "code",
   "execution_count": null,
   "id": "97f35dd5-ced3-4a2d-a583-f500a1ec52f1",
   "metadata": {},
   "outputs": [],
   "source": []
  },
  {
   "cell_type": "code",
   "execution_count": null,
   "id": "122b15a2-dc02-434b-adf8-4352025133ee",
   "metadata": {},
   "outputs": [],
   "source": []
  },
  {
   "cell_type": "code",
   "execution_count": 16,
   "id": "4fa31ec4-c5f5-45c3-a35b-e1dfd8edfb59",
   "metadata": {},
   "outputs": [
    {
     "name": "stdout",
     "output_type": "stream",
     "text": [
      "Se generó reporte de grupo: 523  -  PIZARRO BRAVO ROLY ANDRES\n",
      "Se generó reporte de grupo: 414  -  RIBERA JUSTINIANO JEFFER PAUL\n",
      "Se generó reporte de grupo: 450  -  CLAROS RODRIGUEZ EMERSON\n",
      "Se generó reporte de grupo: 370  -  TORREJON MENDOZA EULOGIO\n",
      "Se generó reporte de grupo: 526  -  AGUILERA PALMA JORGE ENRIQUE\n",
      "Se generó reporte de grupo: 371  -  REYES VALDIVIA JOSE\n"
     ]
    }
   ],
   "source": [
    "crear_reporte(cod_grupos)"
   ]
  },
  {
   "cell_type": "code",
   "execution_count": null,
   "id": "e022e110-d87a-4f83-862f-203ac3d98b1f",
   "metadata": {},
   "outputs": [],
   "source": []
  },
  {
   "cell_type": "code",
   "execution_count": null,
   "id": "6221e14d-1614-47e7-bc59-9fa7caab5d47",
   "metadata": {},
   "outputs": [],
   "source": []
  },
  {
   "cell_type": "code",
   "execution_count": null,
   "id": "b388c8fa-f0de-419c-8376-6caef0d1e021",
   "metadata": {},
   "outputs": [],
   "source": []
  },
  {
   "cell_type": "code",
   "execution_count": null,
   "id": "ac183af9-0b33-46b0-800c-6679765dc6d0",
   "metadata": {},
   "outputs": [],
   "source": []
  },
  {
   "cell_type": "code",
   "execution_count": null,
   "id": "67da0586-dfda-405d-9264-661804478b64",
   "metadata": {},
   "outputs": [],
   "source": []
  }
 ],
 "metadata": {
  "kernelspec": {
   "display_name": "Python 3 (ipykernel)",
   "language": "python",
   "name": "python3"
  },
  "language_info": {
   "codemirror_mode": {
    "name": "ipython",
    "version": 3
   },
   "file_extension": ".py",
   "mimetype": "text/x-python",
   "name": "python",
   "nbconvert_exporter": "python",
   "pygments_lexer": "ipython3",
   "version": "3.10.13"
  }
 },
 "nbformat": 4,
 "nbformat_minor": 5
}
