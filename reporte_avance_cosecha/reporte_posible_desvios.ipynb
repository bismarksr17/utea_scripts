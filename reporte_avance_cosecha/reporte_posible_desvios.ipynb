{
 "cells": [
  {
   "cell_type": "markdown",
   "id": "a7a290fe-5066-46af-b0de-ba7f3341acee",
   "metadata": {},
   "source": [
    "Cartar de posible desvio para la union"
   ]
  },
  {
   "cell_type": "code",
   "execution_count": 2,
   "id": "ca9b4b00-6b15-4a9d-af08-e70c7d600def",
   "metadata": {},
   "outputs": [],
   "source": [
    "import sys\n",
    "sys.path.append('..')\n",
    "\n",
    "import pandas as pd\n",
    "import collections\n",
    "import os\n",
    "\n",
    "from docxtpl import DocxTemplate\n",
    "\n",
    "from config import RUTA_UNIDAD_ONE_DRIVE\n",
    "from config import RUTA_LOCAL_ONE_DRIVE\n",
    "from config import POSTGRES_UTEA\n",
    "\n",
    "RUTA_COMPLETA = os.path.join(RUTA_UNIDAD_ONE_DRIVE, RUTA_LOCAL_ONE_DRIVE)"
   ]
  },
  {
   "cell_type": "code",
   "execution_count": 3,
   "id": "3e5d52ea-5b4f-486d-ab01-b7ceb2667134",
   "metadata": {},
   "outputs": [
    {
     "data": {
      "text/plain": [
       "'G:\\\\OneDrive - Ingenio Azucarero Guabira S.A\\\\_DATOS_PYTHON'"
      ]
     },
     "execution_count": 3,
     "metadata": {},
     "output_type": "execute_result"
    }
   ],
   "source": [
    "RUTA_COMPLETA"
   ]
  },
  {
   "cell_type": "code",
   "execution_count": 4,
   "id": "15207647-8bfc-4d8d-9dd5-4bc8a6ef7d69",
   "metadata": {},
   "outputs": [],
   "source": [
    "path_xlsx_avance = RUTA_UNIDAD_ONE_DRIVE + r'\\Ingenio Azucarero Guabira S.A\\UTEA - SEMANAL - AVANCE COSECHA\\2025\\AVANCE SEMANAL\\AVANCE DE COSECHA V1.xlsx'"
   ]
  },
  {
   "cell_type": "code",
   "execution_count": 5,
   "id": "12e13faf-193b-4d25-964f-58eeb7a0d1b0",
   "metadata": {},
   "outputs": [
    {
     "name": "stderr",
     "output_type": "stream",
     "text": [
      "C:\\Users\\Usuario\\anaconda3\\envs\\utea\\lib\\site-packages\\openpyxl\\worksheet\\_reader.py:329: UserWarning: Unknown extension is not supported and will be removed\n",
      "  warn(msg)\n",
      "C:\\Users\\Usuario\\anaconda3\\envs\\utea\\lib\\site-packages\\openpyxl\\worksheet\\_reader.py:329: UserWarning: Conditional Formatting extension is not supported and will be removed\n",
      "  warn(msg)\n"
     ]
    }
   ],
   "source": [
    "xlsx_entregas = pd.read_excel(path_xlsx_avance, sheet_name='DETALLE ENTREGAS')\n",
    "xlsx_avance = pd.read_excel(path_xlsx_avance, sheet_name = 'AVANCE')"
   ]
  },
  {
   "cell_type": "code",
   "execution_count": 6,
   "id": "332a83a8-8931-4c9d-8bef-e1ee0841778b",
   "metadata": {},
   "outputs": [
    {
     "data": {
      "text/html": [
       "<div>\n",
       "<style scoped>\n",
       "    .dataframe tbody tr th:only-of-type {\n",
       "        vertical-align: middle;\n",
       "    }\n",
       "\n",
       "    .dataframe tbody tr th {\n",
       "        vertical-align: top;\n",
       "    }\n",
       "\n",
       "    .dataframe thead th {\n",
       "        text-align: right;\n",
       "    }\n",
       "</style>\n",
       "<table border=\"1\" class=\"dataframe\">\n",
       "  <thead>\n",
       "    <tr style=\"text-align: right;\">\n",
       "      <th></th>\n",
       "      <th>inst</th>\n",
       "      <th>cod_cos</th>\n",
       "      <th>cod_ca</th>\n",
       "      <th>nom_ca</th>\n",
       "      <th>TOTAL COMPROMISO</th>\n",
       "      <th>TOTAL ENTREGAS</th>\n",
       "      <th>%ENTREGA</th>\n",
       "    </tr>\n",
       "  </thead>\n",
       "  <tbody>\n",
       "    <tr>\n",
       "      <th>0</th>\n",
       "      <td>1</td>\n",
       "      <td>49</td>\n",
       "      <td>660</td>\n",
       "      <td>AGUILERA ANTELO ALEX ENRIQUE</td>\n",
       "      <td>982.61</td>\n",
       "      <td>627.21</td>\n",
       "      <td>63.831021</td>\n",
       "    </tr>\n",
       "    <tr>\n",
       "      <th>1</th>\n",
       "      <td>1</td>\n",
       "      <td>54</td>\n",
       "      <td>3361</td>\n",
       "      <td>ENRIQUEZ ROJAS ALBERTO</td>\n",
       "      <td>1615.39</td>\n",
       "      <td>1460.25</td>\n",
       "      <td>90.396127</td>\n",
       "    </tr>\n",
       "    <tr>\n",
       "      <th>2</th>\n",
       "      <td>1</td>\n",
       "      <td>55</td>\n",
       "      <td>3460</td>\n",
       "      <td>ESPINOZA MENDOZA SANTIAGO</td>\n",
       "      <td>5288.56</td>\n",
       "      <td>4960.50</td>\n",
       "      <td>93.796799</td>\n",
       "    </tr>\n",
       "  </tbody>\n",
       "</table>\n",
       "</div>"
      ],
      "text/plain": [
       "  inst  cod_cos  cod_ca                        nom_ca  TOTAL COMPROMISO  \\\n",
       "0    1       49     660  AGUILERA ANTELO ALEX ENRIQUE            982.61   \n",
       "1    1       54    3361        ENRIQUEZ ROJAS ALBERTO           1615.39   \n",
       "2    1       55    3460     ESPINOZA MENDOZA SANTIAGO           5288.56   \n",
       "\n",
       "   TOTAL ENTREGAS   %ENTREGA  \n",
       "0          627.21  63.831021  \n",
       "1         1460.25  90.396127  \n",
       "2         4960.50  93.796799  "
      ]
     },
     "execution_count": 6,
     "metadata": {},
     "output_type": "execute_result"
    }
   ],
   "source": [
    "xlsx_entregas = xlsx_entregas.drop(xlsx_entregas.index[-1])\n",
    "xlsx_entregas = xlsx_entregas.drop(xlsx_entregas.index[-1])\n",
    "xlsx_entregas['cod_cos'] = xlsx_entregas['cod_cos'].astype(int)\n",
    "xlsx_entregas['cod_ca'] = xlsx_entregas['cod_ca'].astype(int)\n",
    "xlsx_entregas['%ENTREGA'] = xlsx_entregas['%ENTREGA'] * 100\n",
    "xlsx_entregas.head(3)"
   ]
  },
  {
   "cell_type": "code",
   "execution_count": 7,
   "id": "233ab732-ee37-49cb-be64-85707f59846b",
   "metadata": {},
   "outputs": [
    {
     "data": {
      "text/html": [
       "<div>\n",
       "<style scoped>\n",
       "    .dataframe tbody tr th:only-of-type {\n",
       "        vertical-align: middle;\n",
       "    }\n",
       "\n",
       "    .dataframe tbody tr th {\n",
       "        vertical-align: top;\n",
       "    }\n",
       "\n",
       "    .dataframe thead th {\n",
       "        text-align: right;\n",
       "    }\n",
       "</style>\n",
       "<table border=\"1\" class=\"dataframe\">\n",
       "  <thead>\n",
       "    <tr style=\"text-align: right;\">\n",
       "      <th></th>\n",
       "      <th>COD COS</th>\n",
       "      <th>COD CA</th>\n",
       "      <th>NOMBRE CAÑERO</th>\n",
       "      <th>COMPROMISO</th>\n",
       "      <th>ENTREGAS</th>\n",
       "      <th>%ENTREGA</th>\n",
       "      <th>AREA</th>\n",
       "      <th>COSECHADO</th>\n",
       "      <th>SIN COSECHAR</th>\n",
       "      <th>SEMILLA</th>\n",
       "      <th>...</th>\n",
       "      <th>PRODUCCION EST</th>\n",
       "      <th>EST TN COSECHA</th>\n",
       "      <th>DIF EST ENTREGA</th>\n",
       "      <th>%DIF EST ENTREGA</th>\n",
       "      <th>TN EN CAMPO</th>\n",
       "      <th>COMPROMISO REST</th>\n",
       "      <th>DIFERENICA</th>\n",
       "      <th>COMPRADOR</th>\n",
       "      <th>DESVIADOR</th>\n",
       "      <th>EST VS COMPRIM</th>\n",
       "    </tr>\n",
       "  </thead>\n",
       "  <tbody>\n",
       "    <tr>\n",
       "      <th>0</th>\n",
       "      <td>523</td>\n",
       "      <td>42225</td>\n",
       "      <td>PIZARRO BRAVO ROLY ANDRES</td>\n",
       "      <td>1330.71</td>\n",
       "      <td>187.93</td>\n",
       "      <td>0.141225</td>\n",
       "      <td>21.844502</td>\n",
       "      <td>18.187097</td>\n",
       "      <td>3.657405</td>\n",
       "      <td>NaN</td>\n",
       "      <td>...</td>\n",
       "      <td>1744.673280</td>\n",
       "      <td>1464.826945</td>\n",
       "      <td>-1276.896945</td>\n",
       "      <td>7.794535</td>\n",
       "      <td>279.846335</td>\n",
       "      <td>1142.78</td>\n",
       "      <td>-862.933665</td>\n",
       "      <td>0.0</td>\n",
       "      <td>1.0</td>\n",
       "      <td>1.311085</td>\n",
       "    </tr>\n",
       "    <tr>\n",
       "      <th>1</th>\n",
       "      <td>414</td>\n",
       "      <td>41973</td>\n",
       "      <td>RIBERA JUSTINIANO JEFFER PAUL</td>\n",
       "      <td>9549.85</td>\n",
       "      <td>3140.72</td>\n",
       "      <td>0.328876</td>\n",
       "      <td>196.846310</td>\n",
       "      <td>147.152193</td>\n",
       "      <td>49.694117</td>\n",
       "      <td>NaN</td>\n",
       "      <td>...</td>\n",
       "      <td>9340.156951</td>\n",
       "      <td>7071.481942</td>\n",
       "      <td>-3930.761942</td>\n",
       "      <td>2.251548</td>\n",
       "      <td>2268.675009</td>\n",
       "      <td>6409.13</td>\n",
       "      <td>-4140.454991</td>\n",
       "      <td>0.0</td>\n",
       "      <td>1.0</td>\n",
       "      <td>0.978042</td>\n",
       "    </tr>\n",
       "    <tr>\n",
       "      <th>2</th>\n",
       "      <td>374</td>\n",
       "      <td>4638</td>\n",
       "      <td>LOPEZ JUANA GODOY DE</td>\n",
       "      <td>15693.28</td>\n",
       "      <td>7899.80</td>\n",
       "      <td>0.503387</td>\n",
       "      <td>301.708136</td>\n",
       "      <td>217.821435</td>\n",
       "      <td>83.886701</td>\n",
       "      <td>NaN</td>\n",
       "      <td>...</td>\n",
       "      <td>14649.901853</td>\n",
       "      <td>10725.763407</td>\n",
       "      <td>-2825.963407</td>\n",
       "      <td>1.357726</td>\n",
       "      <td>3924.138446</td>\n",
       "      <td>7793.48</td>\n",
       "      <td>-3869.341554</td>\n",
       "      <td>0.0</td>\n",
       "      <td>1.0</td>\n",
       "      <td>0.933514</td>\n",
       "    </tr>\n",
       "  </tbody>\n",
       "</table>\n",
       "<p>3 rows × 24 columns</p>\n",
       "</div>"
      ],
      "text/plain": [
       "  COD COS COD CA                  NOMBRE CAÑERO  COMPROMISO  ENTREGAS  \\\n",
       "0     523  42225      PIZARRO BRAVO ROLY ANDRES     1330.71    187.93   \n",
       "1     414  41973  RIBERA JUSTINIANO JEFFER PAUL     9549.85   3140.72   \n",
       "2     374   4638           LOPEZ JUANA GODOY DE    15693.28   7899.80   \n",
       "\n",
       "   %ENTREGA        AREA   COSECHADO  SIN COSECHAR  SEMILLA  ...  \\\n",
       "0  0.141225   21.844502   18.187097      3.657405      NaN  ...   \n",
       "1  0.328876  196.846310  147.152193     49.694117      NaN  ...   \n",
       "2  0.503387  301.708136  217.821435     83.886701      NaN  ...   \n",
       "\n",
       "   PRODUCCION EST  EST TN COSECHA  DIF EST ENTREGA  %DIF EST ENTREGA  \\\n",
       "0     1744.673280     1464.826945     -1276.896945          7.794535   \n",
       "1     9340.156951     7071.481942     -3930.761942          2.251548   \n",
       "2    14649.901853    10725.763407     -2825.963407          1.357726   \n",
       "\n",
       "   TN EN CAMPO  COMPROMISO REST   DIFERENICA  COMPRADOR  DESVIADOR  \\\n",
       "0   279.846335          1142.78  -862.933665        0.0        1.0   \n",
       "1  2268.675009          6409.13 -4140.454991        0.0        1.0   \n",
       "2  3924.138446          7793.48 -3869.341554        0.0        1.0   \n",
       "\n",
       "   EST VS COMPRIM  \n",
       "0        1.311085  \n",
       "1        0.978042  \n",
       "2        0.933514  \n",
       "\n",
       "[3 rows x 24 columns]"
      ]
     },
     "execution_count": 7,
     "metadata": {},
     "output_type": "execute_result"
    }
   ],
   "source": [
    "xlsx_avance.head(3)"
   ]
  },
  {
   "cell_type": "code",
   "execution_count": 8,
   "id": "dc6f5791-67ad-40f4-941d-2a7171d625d3",
   "metadata": {},
   "outputs": [],
   "source": [
    "fecha_inf = '25 de septiembre de 2025'\n",
    "fecha_form = '25-09-2025'\n",
    "\n",
    "fecha_img = ' de septiembre de 2025'\n",
    "\n",
    "cod_grupos = [166\n",
    "]\n"
   ]
  },
  {
   "cell_type": "code",
   "execution_count": 9,
   "id": "8baffdaa-9e7a-40f2-9e99-85b776b70716",
   "metadata": {},
   "outputs": [],
   "source": [
    "def crear_reporte(lista_cod_cos):\n",
    "    for cod in lista_cod_cos:\n",
    "        grupo = xlsx_entregas[xlsx_entregas['cod_cos'] == cod].copy()\n",
    "        \n",
    "        # convertir datos del grupo a objetos\n",
    "        list_obj_caneros = []\n",
    "        for index, row in grupo.iterrows():\n",
    "            canero = {\n",
    "            'inst' : row['inst'],\n",
    "            'cod_ca' : row['cod_ca'],\n",
    "            'nom_ca' : row['nom_ca'],\n",
    "            'compromiso' : row['TOTAL COMPROMISO'],\n",
    "            'entrega' : row['TOTAL ENTREGAS'],\n",
    "            'entrega_porcen' : row['%ENTREGA']\n",
    "            }\n",
    "            list_obj_caneros.append(collections.namedtuple(\"canero\", canero.keys())(*canero.values()))\n",
    "        # totales de los datos del grupo\n",
    "        grupo_totales = {\n",
    "            'compromiso' : grupo['TOTAL COMPROMISO'].sum(),\n",
    "            'entregas' : grupo['TOTAL ENTREGAS'].sum(),\n",
    "            'entrega_porcen' : grupo['TOTAL ENTREGAS'].sum() / grupo['TOTAL COMPROMISO'].sum() * 100\n",
    "        }\n",
    "        obj_grupo_totales = collections.namedtuple(\"grupo_totales\", grupo_totales.keys())(*grupo_totales.values())\n",
    "        \n",
    "        # datos generales de avance de cosecha\n",
    "        avance = xlsx_avance[xlsx_avance['COD COS'] ==cod]\n",
    "        avance_totales = {\n",
    "            'fecha_img' : fecha_img,\n",
    "            'fecha_informe' : fecha_inf,\n",
    "            'compromiso' : float(avance['COMPROMISO'].iloc[0]),\n",
    "            'entrega' : float(avance['ENTREGAS'].iloc[0]),\n",
    "            'entrega_porcen' : float(avance['%ENTREGA'].iloc[0]) * 100,\n",
    "            'ha_canha' : float(avance['COSECHADO'].iloc[0] + avance['SIN COSECHAR'].iloc[0]),\n",
    "            'ha_cosecha' : float(avance['COSECHADO'].iloc[0]),\n",
    "            'cosecha_porcen' : float(avance['%COSECHA'].iloc[0]) * 100,\n",
    "            'tch' : float(avance['TCH'].iloc[0])\n",
    "        }\n",
    "        # datos generales a objeto\n",
    "        obj_avance_totales = collections.namedtuple(\"avance_totales\",avance_totales.keys())(*avance_totales.values())\n",
    "        \n",
    "        # generar reporte\n",
    "        doc = DocxTemplate(RUTA_COMPLETA + '/templates/tpl_rpt_avance_posible_desvio.docx')\n",
    "        context = {\n",
    "            'insp' : list_obj_caneros,\n",
    "            'grupo_totales' : obj_grupo_totales,\n",
    "            'avance' : obj_avance_totales\n",
    "        }\n",
    "        doc.render(context)\n",
    "\n",
    "        #REPROTE POSIBLE COMPRA DE CAÑA\n",
    "        doc.save(RUTA_COMPLETA + '/informes/' + str(avance['COD CA'].iloc[0]) + '_RPCC_' + fecha_form + '_' + avance['NOMBRE CAÑERO'].iloc[0] + '.docx')\n",
    "        print('Se generó reporte de grupo:', cod, ' - ', avance['NOMBRE CAÑERO'].iloc[0])"
   ]
  },
  {
   "cell_type": "code",
   "execution_count": null,
   "id": "97f35dd5-ced3-4a2d-a583-f500a1ec52f1",
   "metadata": {},
   "outputs": [],
   "source": []
  },
  {
   "cell_type": "code",
   "execution_count": null,
   "id": "122b15a2-dc02-434b-adf8-4352025133ee",
   "metadata": {},
   "outputs": [],
   "source": []
  },
  {
   "cell_type": "code",
   "execution_count": 10,
   "id": "4fa31ec4-c5f5-45c3-a35b-e1dfd8edfb59",
   "metadata": {},
   "outputs": [
    {
     "name": "stdout",
     "output_type": "stream",
     "text": [
      "Se generó reporte de grupo: 166  -  PERALES GUERRERO IVAR\n"
     ]
    }
   ],
   "source": [
    "crear_reporte(cod_grupos)"
   ]
  },
  {
   "cell_type": "code",
   "execution_count": null,
   "id": "e022e110-d87a-4f83-862f-203ac3d98b1f",
   "metadata": {},
   "outputs": [],
   "source": []
  },
  {
   "cell_type": "code",
   "execution_count": null,
   "id": "6221e14d-1614-47e7-bc59-9fa7caab5d47",
   "metadata": {},
   "outputs": [],
   "source": []
  },
  {
   "cell_type": "code",
   "execution_count": null,
   "id": "b388c8fa-f0de-419c-8376-6caef0d1e021",
   "metadata": {},
   "outputs": [],
   "source": []
  },
  {
   "cell_type": "code",
   "execution_count": null,
   "id": "ac183af9-0b33-46b0-800c-6679765dc6d0",
   "metadata": {},
   "outputs": [],
   "source": []
  },
  {
   "cell_type": "code",
   "execution_count": null,
   "id": "67da0586-dfda-405d-9264-661804478b64",
   "metadata": {},
   "outputs": [],
   "source": []
  }
 ],
 "metadata": {
  "kernelspec": {
   "display_name": "Python 3 (ipykernel)",
   "language": "python",
   "name": "python3"
  },
  "language_info": {
   "codemirror_mode": {
    "name": "ipython",
    "version": 3
   },
   "file_extension": ".py",
   "mimetype": "text/x-python",
   "name": "python",
   "nbconvert_exporter": "python",
   "pygments_lexer": "ipython3",
   "version": "3.10.13"
  }
 },
 "nbformat": 4,
 "nbformat_minor": 5
}
