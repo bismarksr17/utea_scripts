{
 "cells": [
  {
   "cell_type": "markdown",
   "id": "1fb91957-1ff3-47b7-b8f3-4e3e018886a0",
   "metadata": {},
   "source": [
    "Reprote a la Union por falta de catastro en grupos cañeros"
   ]
  },
  {
   "cell_type": "code",
   "execution_count": 26,
   "id": "d46bb177-e2b8-417f-9d95-008b04548cb2",
   "metadata": {},
   "outputs": [],
   "source": [
    "import pandas as pd\n",
    "import collections\n",
    "\n",
    "from docxtpl import DocxTemplate"
   ]
  },
  {
   "cell_type": "code",
   "execution_count": 27,
   "id": "fc7f87f5-4e3d-41f6-b18c-627a78062606",
   "metadata": {},
   "outputs": [],
   "source": [
    "# ruta de carpera donde estan las llaves\n",
    "ruta = open('../ruta.txt')\n",
    "ruta = ruta.readlines()[0]"
   ]
  },
  {
   "cell_type": "code",
   "execution_count": 28,
   "id": "d59aa3ee-1c15-4aec-a096-9ad77b8556f9",
   "metadata": {},
   "outputs": [
    {
     "data": {
      "text/plain": [
       "'G:\\\\OneDrive - Ingenio Azucarero Guabira S.A\\\\_DATOS_PYTHON'"
      ]
     },
     "execution_count": 28,
     "metadata": {},
     "output_type": "execute_result"
    }
   ],
   "source": [
    "ruta"
   ]
  },
  {
   "cell_type": "code",
   "execution_count": 29,
   "id": "f3264e3c-128b-4090-a9cf-840f8f7e5995",
   "metadata": {},
   "outputs": [],
   "source": [
    "path_xlsx_avance = r'G:/Ingenio Azucarero Guabira S.A/UTEA - SEMANAL - AVANCE COSECHA/2023/ANALISIS DE CAÑA EN CAMPO 2023/AVANCE DE COSECHA V2.xlsx'"
   ]
  },
  {
   "cell_type": "code",
   "execution_count": 30,
   "id": "235079f8-3616-493c-a139-3b232dc956b6",
   "metadata": {},
   "outputs": [
    {
     "name": "stderr",
     "output_type": "stream",
     "text": [
      "C:\\Users\\Usuario\\anaconda3\\envs\\utea_reportes\\lib\\site-packages\\openpyxl\\worksheet\\_reader.py:329: UserWarning: Unknown extension is not supported and will be removed\n",
      "  warn(msg)\n",
      "C:\\Users\\Usuario\\anaconda3\\envs\\utea_reportes\\lib\\site-packages\\openpyxl\\worksheet\\_reader.py:329: UserWarning: Conditional Formatting extension is not supported and will be removed\n",
      "  warn(msg)\n"
     ]
    }
   ],
   "source": [
    "xlsx_entregas = pd.read_excel(path_xlsx_avance, sheet_name='ENTREGAS')\n",
    "xlsx_avance = pd.read_excel(path_xlsx_avance, sheet_name = 'AVANCE POR GRUPO')"
   ]
  },
  {
   "cell_type": "code",
   "execution_count": 31,
   "id": "bcd805a0-3c6b-4cb5-a8f5-4ec983509e68",
   "metadata": {},
   "outputs": [
    {
     "data": {
      "text/html": [
       "<div>\n",
       "<style scoped>\n",
       "    .dataframe tbody tr th:only-of-type {\n",
       "        vertical-align: middle;\n",
       "    }\n",
       "\n",
       "    .dataframe tbody tr th {\n",
       "        vertical-align: top;\n",
       "    }\n",
       "\n",
       "    .dataframe thead th {\n",
       "        text-align: right;\n",
       "    }\n",
       "</style>\n",
       "<table border=\"1\" class=\"dataframe\">\n",
       "  <thead>\n",
       "    <tr style=\"text-align: right;\">\n",
       "      <th></th>\n",
       "      <th>INST</th>\n",
       "      <th>GRUPO</th>\n",
       "      <th>CODIGO CAÑERO</th>\n",
       "      <th>NOMBRE CAÑERO</th>\n",
       "      <th>COMPROMISO DE ENTREGA</th>\n",
       "      <th>PAQ</th>\n",
       "      <th>TM. ENTREGADAS</th>\n",
       "      <th>AVANCE</th>\n",
       "      <th>INICIO DE ENTREGAS</th>\n",
       "      <th>ULTIMA ENTREGA</th>\n",
       "      <th>COD_COSECHA</th>\n",
       "    </tr>\n",
       "  </thead>\n",
       "  <tbody>\n",
       "    <tr>\n",
       "      <th>0</th>\n",
       "      <td>131</td>\n",
       "      <td>3</td>\n",
       "      <td>17</td>\n",
       "      <td>ACSAMA SEGOVIA SABINO</td>\n",
       "      <td>565.19</td>\n",
       "      <td>30.0</td>\n",
       "      <td>541.02</td>\n",
       "      <td>0.957236</td>\n",
       "      <td>45136.0</td>\n",
       "      <td>45139.0</td>\n",
       "      <td>356</td>\n",
       "    </tr>\n",
       "    <tr>\n",
       "      <th>1</th>\n",
       "      <td>126</td>\n",
       "      <td>1</td>\n",
       "      <td>18</td>\n",
       "      <td>ACUNA ARISPE HONORATO</td>\n",
       "      <td>517.69</td>\n",
       "      <td>8.0</td>\n",
       "      <td>128.12</td>\n",
       "      <td>0.247484</td>\n",
       "      <td>45138.0</td>\n",
       "      <td>45144.0</td>\n",
       "      <td>354</td>\n",
       "    </tr>\n",
       "    <tr>\n",
       "      <th>2</th>\n",
       "      <td>59</td>\n",
       "      <td>7</td>\n",
       "      <td>39</td>\n",
       "      <td>AGUILAR ROMERO NICOLAS</td>\n",
       "      <td>1020.46</td>\n",
       "      <td>69.0</td>\n",
       "      <td>752.04</td>\n",
       "      <td>0.736962</td>\n",
       "      <td>45080.0</td>\n",
       "      <td>45119.0</td>\n",
       "      <td>32</td>\n",
       "    </tr>\n",
       "  </tbody>\n",
       "</table>\n",
       "</div>"
      ],
      "text/plain": [
       "   INST  GRUPO  CODIGO CAÑERO            NOMBRE CAÑERO  COMPROMISO DE ENTREGA  \\\n",
       "0   131      3              17  ACSAMA SEGOVIA SABINO                  565.19   \n",
       "1   126      1              18  ACUNA ARISPE HONORATO                  517.69   \n",
       "2    59      7              39  AGUILAR ROMERO NICOLAS                1020.46   \n",
       "\n",
       "    PAQ  TM. ENTREGADAS    AVANCE  INICIO DE ENTREGAS  ULTIMA ENTREGA  \\\n",
       "0  30.0          541.02  0.957236             45136.0         45139.0   \n",
       "1   8.0          128.12  0.247484             45138.0         45144.0   \n",
       "2  69.0          752.04  0.736962             45080.0         45119.0   \n",
       "\n",
       "   COD_COSECHA  \n",
       "0          356  \n",
       "1          354  \n",
       "2           32  "
      ]
     },
     "execution_count": 31,
     "metadata": {},
     "output_type": "execute_result"
    }
   ],
   "source": [
    "xlsx_entregas.head(3)"
   ]
  },
  {
   "cell_type": "code",
   "execution_count": 32,
   "id": "407b8f91-ace7-4a49-a1cd-8efe2a20c012",
   "metadata": {},
   "outputs": [
    {
     "data": {
      "text/html": [
       "<div>\n",
       "<style scoped>\n",
       "    .dataframe tbody tr th:only-of-type {\n",
       "        vertical-align: middle;\n",
       "    }\n",
       "\n",
       "    .dataframe tbody tr th {\n",
       "        vertical-align: top;\n",
       "    }\n",
       "\n",
       "    .dataframe thead th {\n",
       "        text-align: right;\n",
       "    }\n",
       "</style>\n",
       "<table border=\"1\" class=\"dataframe\">\n",
       "  <thead>\n",
       "    <tr style=\"text-align: right;\">\n",
       "      <th></th>\n",
       "      <th>COD_COS</th>\n",
       "      <th>COMPROMISO</th>\n",
       "      <th>ENTREGA</th>\n",
       "      <th>_ENTREGA</th>\n",
       "      <th>TOTAL_AREA</th>\n",
       "      <th>COSECHA</th>\n",
       "      <th>SIN COSECHA</th>\n",
       "      <th>%COSECHA</th>\n",
       "      <th>TCH</th>\n",
       "      <th>DIF.AVANCE</th>\n",
       "      <th>AREA_ESTIM.</th>\n",
       "      <th>TCH_ESTIM</th>\n",
       "      <th>PRODUCCION_ESTIM</th>\n",
       "      <th>TN_COSECHA_ESTIM</th>\n",
       "      <th>DIF.ESTIM</th>\n",
       "      <th>% DIF.ESTIM</th>\n",
       "      <th>TN_EN_CAMPO</th>\n",
       "      <th>COMPROMISO_RESTANTE</th>\n",
       "      <th>DIFERENCIA</th>\n",
       "    </tr>\n",
       "  </thead>\n",
       "  <tbody>\n",
       "    <tr>\n",
       "      <th>0</th>\n",
       "      <td>1</td>\n",
       "      <td>26449.77</td>\n",
       "      <td>19161.65</td>\n",
       "      <td>0.724454</td>\n",
       "      <td>543.38</td>\n",
       "      <td>304.38</td>\n",
       "      <td>239.00</td>\n",
       "      <td>0.560160</td>\n",
       "      <td>62.953052</td>\n",
       "      <td>0.164294</td>\n",
       "      <td>543.960674</td>\n",
       "      <td>55.385149</td>\n",
       "      <td>30127.342884</td>\n",
       "      <td>16876.146761</td>\n",
       "      <td>2285.503239</td>\n",
       "      <td>0.880725</td>\n",
       "      <td>13251.196123</td>\n",
       "      <td>7288.12</td>\n",
       "      <td>5963.076123</td>\n",
       "    </tr>\n",
       "    <tr>\n",
       "      <th>1</th>\n",
       "      <td>2</td>\n",
       "      <td>10848.49</td>\n",
       "      <td>5689.97</td>\n",
       "      <td>0.524494</td>\n",
       "      <td>170.45</td>\n",
       "      <td>60.19</td>\n",
       "      <td>110.26</td>\n",
       "      <td>0.353124</td>\n",
       "      <td>94.533477</td>\n",
       "      <td>0.171370</td>\n",
       "      <td>170.249063</td>\n",
       "      <td>50.971072</td>\n",
       "      <td>8677.777217</td>\n",
       "      <td>3064.332125</td>\n",
       "      <td>2625.637875</td>\n",
       "      <td>0.538550</td>\n",
       "      <td>5613.445092</td>\n",
       "      <td>5158.52</td>\n",
       "      <td>454.925092</td>\n",
       "    </tr>\n",
       "    <tr>\n",
       "      <th>2</th>\n",
       "      <td>3</td>\n",
       "      <td>5390.78</td>\n",
       "      <td>2792.22</td>\n",
       "      <td>0.517962</td>\n",
       "      <td>112.86</td>\n",
       "      <td>40.34</td>\n",
       "      <td>72.52</td>\n",
       "      <td>0.357434</td>\n",
       "      <td>69.217154</td>\n",
       "      <td>0.160528</td>\n",
       "      <td>114.920802</td>\n",
       "      <td>47.592543</td>\n",
       "      <td>5469.373160</td>\n",
       "      <td>1954.939866</td>\n",
       "      <td>837.280134</td>\n",
       "      <td>0.700138</td>\n",
       "      <td>3514.433294</td>\n",
       "      <td>2598.56</td>\n",
       "      <td>915.873294</td>\n",
       "    </tr>\n",
       "  </tbody>\n",
       "</table>\n",
       "</div>"
      ],
      "text/plain": [
       "  COD_COS  COMPROMISO   ENTREGA  _ENTREGA  TOTAL_AREA  COSECHA  SIN COSECHA  \\\n",
       "0       1    26449.77  19161.65  0.724454      543.38   304.38       239.00   \n",
       "1       2    10848.49   5689.97  0.524494      170.45    60.19       110.26   \n",
       "2       3     5390.78   2792.22  0.517962      112.86    40.34        72.52   \n",
       "\n",
       "   %COSECHA        TCH  DIF.AVANCE  AREA_ESTIM.  TCH_ESTIM  PRODUCCION_ESTIM  \\\n",
       "0  0.560160  62.953052    0.164294   543.960674  55.385149      30127.342884   \n",
       "1  0.353124  94.533477    0.171370   170.249063  50.971072       8677.777217   \n",
       "2  0.357434  69.217154    0.160528   114.920802  47.592543       5469.373160   \n",
       "\n",
       "   TN_COSECHA_ESTIM    DIF.ESTIM  % DIF.ESTIM   TN_EN_CAMPO  \\\n",
       "0      16876.146761  2285.503239     0.880725  13251.196123   \n",
       "1       3064.332125  2625.637875     0.538550   5613.445092   \n",
       "2       1954.939866   837.280134     0.700138   3514.433294   \n",
       "\n",
       "   COMPROMISO_RESTANTE   DIFERENCIA  \n",
       "0              7288.12  5963.076123  \n",
       "1              5158.52   454.925092  \n",
       "2              2598.56   915.873294  "
      ]
     },
     "execution_count": 32,
     "metadata": {},
     "output_type": "execute_result"
    }
   ],
   "source": [
    "xlsx_avance.head(3)"
   ]
  },
  {
   "cell_type": "markdown",
   "id": "62171f68-725c-4d05-99f4-e5eb9ce1a58b",
   "metadata": {},
   "source": [
    "## Argumentos"
   ]
  },
  {
   "cell_type": "code",
   "execution_count": 35,
   "id": "f32fb74a-eff9-466f-865b-d96f2f5a53a8",
   "metadata": {},
   "outputs": [],
   "source": [
    "fecha_inf = '14 de agosto de 2023'\n",
    "fecha_name = '14-08-2023'\n",
    "\n",
    "fecha_img = '05 de agosto'\n",
    "cod_grupo = 30\n",
    "cod_grupos = [435, 190]"
   ]
  },
  {
   "cell_type": "code",
   "execution_count": 36,
   "id": "a17c7cfc-c282-44b8-b6be-56516456256a",
   "metadata": {},
   "outputs": [
    {
     "name": "stdout",
     "output_type": "stream",
     "text": [
      "Se generó reporte Num: 435\n",
      "Se generó reporte Num: 190\n"
     ]
    }
   ],
   "source": [
    "for i in cod_grupos:\n",
    "    \n",
    "    # filtrar el grupo\n",
    "    grupo = xlsx_entregas[xlsx_entregas['COD_COSECHA'] == i].copy()\n",
    "    grupo = grupo[['INST', 'CODIGO CAÑERO ', 'NOMBRE CAÑERO','COMPROMISO DE ENTREGA', 'TM. ENTREGADAS']]\n",
    "    grupo['TM. ENTREGADAS'] = grupo['TM. ENTREGADAS'].fillna(0)\n",
    "    grupo['avance%'] = grupo['TM. ENTREGADAS'] / grupo['COMPROMISO DE ENTREGA'] * 100\n",
    "    grupo['compromiso_rest'] = grupo['COMPROMISO DE ENTREGA'] - grupo['TM. ENTREGADAS']\n",
    "    \n",
    "    # convertir en dataframe en lista de objetos\n",
    "    list_obj_caneros = []\n",
    "    for index, row in grupo.iterrows():\n",
    "        canero = {\n",
    "            'inst' : row['INST'],\n",
    "            'cod_ca' : row['CODIGO CAÑERO '],\n",
    "            'nom_ca' : row['NOMBRE CAÑERO'],\n",
    "            'compromiso' : row['COMPROMISO DE ENTREGA'],\n",
    "            'entrega' : row['TM. ENTREGADAS'],\n",
    "            'entrega_porcen' : row['avance%'],\n",
    "            'compromiso_rest' : row['compromiso_rest']\n",
    "        }\n",
    "        list_obj_caneros.append(collections.namedtuple(\"canero\", canero.keys())(*canero.values()))\n",
    "    \n",
    "    # totales del grupo\n",
    "    grupo_totales = {\n",
    "        'compromiso' : grupo['COMPROMISO DE ENTREGA'].sum(),\n",
    "        'entrega' : grupo['TM. ENTREGADAS'].sum(),\n",
    "        'entrega_porcen' : grupo['TM. ENTREGADAS'].sum() / grupo['COMPROMISO DE ENTREGA'].sum() * 100,\n",
    "        'compromiso_rest' : grupo['compromiso_rest'].sum()\n",
    "    }\n",
    "    obj_grupo_totales = collections.namedtuple(\"grupo_totales\", grupo_totales.keys())(*grupo_totales.values())\n",
    "    \n",
    "    # filtrar datos de avance\n",
    "    avance = xlsx_avance[xlsx_avance['COD_COS'] == i]\n",
    "    \n",
    "    # totales de avance\n",
    "    avance_totales = {\n",
    "        'fecha_img' : fecha_img,\n",
    "        'fecha_informe' : fecha_inf,\n",
    "        'ha_campo' : float(avance['SIN COSECHA']),\n",
    "        'tn_campo' : float(avance['TN_EN_CAMPO']),\n",
    "        'tch_estimado' : float(avance['TN_EN_CAMPO']) / float(avance['SIN COSECHA']),\n",
    "        'diferencia' : float(avance['DIFERENCIA'])\n",
    "    }\n",
    "    \n",
    "    # converitir datos totales de avance a objeto\n",
    "    obj_avance_totales = collections.namedtuple(\"avance_totales\",avance_totales.keys())(*avance_totales.values())\n",
    "    \n",
    "    doc = DocxTemplate(ruta + '/templates/tpl_rpt_avance_falta_catastro.docx')\n",
    "    context = {\n",
    "        'grupo' : list_obj_caneros,\n",
    "        'grupo_totales' : obj_grupo_totales,\n",
    "        'avance' : obj_avance_totales\n",
    "    }\n",
    "    doc.render(context)\n",
    "    # CCC - consulta de caña en campo\n",
    "    doc.save(ruta + '/informes/_' + str(i) + '_CCC_' + fecha_name + '.docx')\n",
    "    print('Se generó reporte Num:', i)"
   ]
  },
  {
   "cell_type": "code",
   "execution_count": null,
   "id": "75deb8f9-227e-4772-b5c9-3fcfce83f3ae",
   "metadata": {},
   "outputs": [],
   "source": []
  },
  {
   "cell_type": "code",
   "execution_count": null,
   "id": "d77ec065-bd44-4488-839e-b0eb3b65f083",
   "metadata": {},
   "outputs": [],
   "source": []
  },
  {
   "cell_type": "code",
   "execution_count": null,
   "id": "ab46d779-73b6-4748-8251-48e24dda9723",
   "metadata": {},
   "outputs": [],
   "source": []
  },
  {
   "cell_type": "code",
   "execution_count": null,
   "id": "624bc019-9ac8-4ac1-a683-767765d7c20e",
   "metadata": {},
   "outputs": [],
   "source": []
  },
  {
   "cell_type": "code",
   "execution_count": null,
   "id": "4b5db255-dd84-47d9-838d-6873529b37f3",
   "metadata": {},
   "outputs": [],
   "source": []
  },
  {
   "cell_type": "code",
   "execution_count": null,
   "id": "d004483c-9b47-403f-8c83-f82651441e9a",
   "metadata": {},
   "outputs": [],
   "source": []
  },
  {
   "cell_type": "code",
   "execution_count": null,
   "id": "9875dbdf-58ad-4b11-b031-ea4e4c037f27",
   "metadata": {},
   "outputs": [],
   "source": []
  },
  {
   "cell_type": "code",
   "execution_count": null,
   "id": "a0a28b9d-1483-4a7b-9f0d-26d5f25b4daf",
   "metadata": {},
   "outputs": [],
   "source": []
  },
  {
   "cell_type": "code",
   "execution_count": null,
   "id": "a92fddf6-a044-425e-a9dd-54d5e4335d40",
   "metadata": {},
   "outputs": [],
   "source": []
  },
  {
   "cell_type": "code",
   "execution_count": null,
   "id": "9f2c3f2f-cf64-4b77-9b64-7f7cdc25025c",
   "metadata": {},
   "outputs": [],
   "source": []
  },
  {
   "cell_type": "code",
   "execution_count": null,
   "id": "1bd05172-ac1f-461e-80ef-3a707cfa9275",
   "metadata": {},
   "outputs": [],
   "source": []
  },
  {
   "cell_type": "code",
   "execution_count": null,
   "id": "e4c42567-e5c2-4640-bf1b-f08cb6bf175d",
   "metadata": {},
   "outputs": [],
   "source": []
  },
  {
   "cell_type": "code",
   "execution_count": null,
   "id": "8a358952-cec5-4ff5-a109-3d56ed61700c",
   "metadata": {},
   "outputs": [],
   "source": []
  },
  {
   "cell_type": "code",
   "execution_count": null,
   "id": "7041f85b-bb01-432d-a064-7fb12af0d0ed",
   "metadata": {},
   "outputs": [],
   "source": []
  },
  {
   "cell_type": "code",
   "execution_count": null,
   "id": "c96f4eb0-b428-4dd5-a847-c0c9505d8e6a",
   "metadata": {},
   "outputs": [],
   "source": []
  },
  {
   "cell_type": "markdown",
   "id": "904714ae-46bb-417e-9bca-68febe76a086",
   "metadata": {},
   "source": [
    "## Datos del grupo"
   ]
  },
  {
   "cell_type": "code",
   "execution_count": 11,
   "id": "73ca60d8-5342-444c-a852-4d38b31ffb16",
   "metadata": {},
   "outputs": [
    {
     "data": {
      "text/html": [
       "<div>\n",
       "<style scoped>\n",
       "    .dataframe tbody tr th:only-of-type {\n",
       "        vertical-align: middle;\n",
       "    }\n",
       "\n",
       "    .dataframe tbody tr th {\n",
       "        vertical-align: top;\n",
       "    }\n",
       "\n",
       "    .dataframe thead th {\n",
       "        text-align: right;\n",
       "    }\n",
       "</style>\n",
       "<table border=\"1\" class=\"dataframe\">\n",
       "  <thead>\n",
       "    <tr style=\"text-align: right;\">\n",
       "      <th></th>\n",
       "      <th>INST</th>\n",
       "      <th>CODIGO CAÑERO</th>\n",
       "      <th>NOMBRE CAÑERO</th>\n",
       "      <th>COMPROMISO DE ENTREGA</th>\n",
       "      <th>TM. ENTREGADAS</th>\n",
       "      <th>avance%</th>\n",
       "      <th>compromiso_rest</th>\n",
       "    </tr>\n",
       "  </thead>\n",
       "  <tbody>\n",
       "    <tr>\n",
       "      <th>6</th>\n",
       "      <td>50</td>\n",
       "      <td>75</td>\n",
       "      <td>AGUILERA TARADELLES NELSON MARIANO</td>\n",
       "      <td>26992.97</td>\n",
       "      <td>10171.47</td>\n",
       "      <td>37.681922</td>\n",
       "      <td>16821.50</td>\n",
       "    </tr>\n",
       "    <tr>\n",
       "      <th>48</th>\n",
       "      <td>50</td>\n",
       "      <td>577</td>\n",
       "      <td>AGUILERA MARIA INGRID WENDE DE</td>\n",
       "      <td>13433.25</td>\n",
       "      <td>13646.16</td>\n",
       "      <td>101.584948</td>\n",
       "      <td>-212.91</td>\n",
       "    </tr>\n",
       "    <tr>\n",
       "      <th>103</th>\n",
       "      <td>50</td>\n",
       "      <td>794</td>\n",
       "      <td>AGUILERA WENDE MARIANO</td>\n",
       "      <td>18084.70</td>\n",
       "      <td>18219.59</td>\n",
       "      <td>100.745879</td>\n",
       "      <td>-134.89</td>\n",
       "    </tr>\n",
       "    <tr>\n",
       "      <th>561</th>\n",
       "      <td>50</td>\n",
       "      <td>8005</td>\n",
       "      <td>AGUILERA WENDE MARIA INGRID</td>\n",
       "      <td>5201.02</td>\n",
       "      <td>54.64</td>\n",
       "      <td>1.050563</td>\n",
       "      <td>5146.38</td>\n",
       "    </tr>\n",
       "    <tr>\n",
       "      <th>1151</th>\n",
       "      <td>50</td>\n",
       "      <td>41715</td>\n",
       "      <td>VACA DIEZ UGARTE NICOLAS</td>\n",
       "      <td>1781.38</td>\n",
       "      <td>0.00</td>\n",
       "      <td>0.000000</td>\n",
       "      <td>1781.38</td>\n",
       "    </tr>\n",
       "  </tbody>\n",
       "</table>\n",
       "</div>"
      ],
      "text/plain": [
       "      INST  CODIGO CAÑERO                         NOMBRE CAÑERO  \\\n",
       "6       50              75  AGUILERA TARADELLES NELSON MARIANO    \n",
       "48      50             577       AGUILERA MARIA INGRID WENDE DE   \n",
       "103     50             794               AGUILERA WENDE MARIANO   \n",
       "561     50            8005         AGUILERA WENDE MARIA INGRID    \n",
       "1151    50           41715             VACA DIEZ UGARTE NICOLAS   \n",
       "\n",
       "      COMPROMISO DE ENTREGA  TM. ENTREGADAS     avance%  compromiso_rest  \n",
       "6                  26992.97        10171.47   37.681922         16821.50  \n",
       "48                 13433.25        13646.16  101.584948          -212.91  \n",
       "103                18084.70        18219.59  100.745879          -134.89  \n",
       "561                 5201.02           54.64    1.050563          5146.38  \n",
       "1151                1781.38            0.00    0.000000          1781.38  "
      ]
     },
     "execution_count": 11,
     "metadata": {},
     "output_type": "execute_result"
    }
   ],
   "source": [
    "grupo = xlsx_entregas[xlsx_entregas['COD_COSECHA'] == cod_grupo].copy()\n",
    "grupo = grupo[['INST', 'CODIGO CAÑERO ', 'NOMBRE CAÑERO','COMPROMISO DE ENTREGA', 'TM. ENTREGADAS']]\n",
    "grupo['TM. ENTREGADAS'] = grupo['TM. ENTREGADAS'].fillna(0)\n",
    "grupo['avance%'] = grupo['TM. ENTREGADAS'] / grupo['COMPROMISO DE ENTREGA'] * 100\n",
    "grupo['compromiso_rest'] = grupo['COMPROMISO DE ENTREGA'] - grupo['TM. ENTREGADAS']\n",
    "grupo"
   ]
  },
  {
   "cell_type": "code",
   "execution_count": 12,
   "id": "752d474d-7324-4ce6-8ce4-3d4617c33e9d",
   "metadata": {},
   "outputs": [
    {
     "data": {
      "text/plain": [
       "[canero(inst=50, cod_ca=75, nom_ca='AGUILERA TARADELLES NELSON MARIANO ', compromiso=26992.97, entrega=10171.47, entrega_porcen=37.68192236719412, compromiso_rest=16821.5),\n",
       " canero(inst=50, cod_ca=577, nom_ca='AGUILERA MARIA INGRID WENDE DE', compromiso=13433.25, entrega=13646.16, entrega_porcen=101.58494779744291, compromiso_rest=-212.90999999999985),\n",
       " canero(inst=50, cod_ca=794, nom_ca='AGUILERA WENDE MARIANO', compromiso=18084.7, entrega=18219.59, entrega_porcen=100.7458791132836, compromiso_rest=-134.88999999999942),\n",
       " canero(inst=50, cod_ca=8005, nom_ca='AGUILERA WENDE MARIA INGRID ', compromiso=5201.02, entrega=54.64, entrega_porcen=1.0505631587650115, compromiso_rest=5146.38),\n",
       " canero(inst=50, cod_ca=41715, nom_ca='VACA DIEZ UGARTE NICOLAS', compromiso=1781.38, entrega=0.0, entrega_porcen=0.0, compromiso_rest=1781.38)]"
      ]
     },
     "execution_count": 12,
     "metadata": {},
     "output_type": "execute_result"
    }
   ],
   "source": [
    "list_obj_caneros = []\n",
    "for index, row in grupo.iterrows():\n",
    "    canero = {\n",
    "        'inst' : row['INST'],\n",
    "        'cod_ca' : row['CODIGO CAÑERO '],\n",
    "        'nom_ca' : row['NOMBRE CAÑERO'],\n",
    "        'compromiso' : row['COMPROMISO DE ENTREGA'],\n",
    "        'entrega' : row['TM. ENTREGADAS'],\n",
    "        'entrega_porcen' : row['avance%'],\n",
    "        'compromiso_rest' : row['compromiso_rest']\n",
    "    }\n",
    "    list_obj_caneros.append(collections.namedtuple(\"canero\", canero.keys())(*canero.values()))\n",
    "list_obj_caneros"
   ]
  },
  {
   "cell_type": "markdown",
   "id": "6a88a3c0-ebd8-4a5b-a553-f1cdbbd59b8f",
   "metadata": {},
   "source": [
    "## Totales del grupo"
   ]
  },
  {
   "cell_type": "code",
   "execution_count": 13,
   "id": "c2f279cb-ce42-47a8-8bae-d6e6b3db1ec7",
   "metadata": {},
   "outputs": [
    {
     "data": {
      "text/plain": [
       "grupo_totales(compromiso=65493.32, entrega=42091.86, entrega_porcen=64.26893612966941, compromiso_rest=23401.460000000003)"
      ]
     },
     "execution_count": 13,
     "metadata": {},
     "output_type": "execute_result"
    }
   ],
   "source": [
    "grupo_totales = {\n",
    "    'compromiso' : grupo['COMPROMISO DE ENTREGA'].sum(),\n",
    "    'entrega' : grupo['TM. ENTREGADAS'].sum(),\n",
    "    'entrega_porcen' : grupo['TM. ENTREGADAS'].sum() / grupo['COMPROMISO DE ENTREGA'].sum() * 100,\n",
    "    'compromiso_rest' : grupo['compromiso_rest'].sum()\n",
    "}\n",
    "obj_grupo_totales = collections.namedtuple(\"grupo_totales\", grupo_totales.keys())(*grupo_totales.values())\n",
    "obj_grupo_totales"
   ]
  },
  {
   "cell_type": "markdown",
   "id": "3bb7122b-5080-41c9-bbcc-84824757ad59",
   "metadata": {},
   "source": [
    "## Datos de avance"
   ]
  },
  {
   "cell_type": "code",
   "execution_count": 14,
   "id": "cb0eaf77-90cb-4d14-8921-6e68ac57a24f",
   "metadata": {},
   "outputs": [
    {
     "data": {
      "text/html": [
       "<div>\n",
       "<style scoped>\n",
       "    .dataframe tbody tr th:only-of-type {\n",
       "        vertical-align: middle;\n",
       "    }\n",
       "\n",
       "    .dataframe tbody tr th {\n",
       "        vertical-align: top;\n",
       "    }\n",
       "\n",
       "    .dataframe thead th {\n",
       "        text-align: right;\n",
       "    }\n",
       "</style>\n",
       "<table border=\"1\" class=\"dataframe\">\n",
       "  <thead>\n",
       "    <tr style=\"text-align: right;\">\n",
       "      <th></th>\n",
       "      <th>COD_COS</th>\n",
       "      <th>COMPROMISO</th>\n",
       "      <th>ENTREGA</th>\n",
       "      <th>_ENTREGA</th>\n",
       "      <th>TOTAL_AREA</th>\n",
       "      <th>COSECHA</th>\n",
       "      <th>SIN COSECHA</th>\n",
       "      <th>%COSECHA</th>\n",
       "      <th>TCH</th>\n",
       "      <th>DIF.AVANCE</th>\n",
       "      <th>AREA_ESTIM.</th>\n",
       "      <th>TCH_ESTIM</th>\n",
       "      <th>PRODUCCION_ESTIM</th>\n",
       "      <th>TN_COSECHA_ESTIM</th>\n",
       "      <th>DIF.ESTIM</th>\n",
       "      <th>% DIF.ESTIM</th>\n",
       "      <th>TN_EN_CAMPO</th>\n",
       "      <th>COMPROMISO_RESTANTE</th>\n",
       "      <th>DIFERENCIA</th>\n",
       "    </tr>\n",
       "  </thead>\n",
       "  <tbody>\n",
       "    <tr>\n",
       "      <th>0</th>\n",
       "      <td>1</td>\n",
       "      <td>26449.77</td>\n",
       "      <td>19161.65</td>\n",
       "      <td>0.724454</td>\n",
       "      <td>543.38</td>\n",
       "      <td>304.38</td>\n",
       "      <td>239.00</td>\n",
       "      <td>0.560160</td>\n",
       "      <td>62.953052</td>\n",
       "      <td>0.164294</td>\n",
       "      <td>543.960674</td>\n",
       "      <td>55.385149</td>\n",
       "      <td>30127.342884</td>\n",
       "      <td>16876.146761</td>\n",
       "      <td>2285.503239</td>\n",
       "      <td>0.880725</td>\n",
       "      <td>13251.196123</td>\n",
       "      <td>7288.12</td>\n",
       "      <td>5963.076123</td>\n",
       "    </tr>\n",
       "    <tr>\n",
       "      <th>1</th>\n",
       "      <td>2</td>\n",
       "      <td>10848.49</td>\n",
       "      <td>5689.97</td>\n",
       "      <td>0.524494</td>\n",
       "      <td>170.45</td>\n",
       "      <td>60.19</td>\n",
       "      <td>110.26</td>\n",
       "      <td>0.353124</td>\n",
       "      <td>94.533477</td>\n",
       "      <td>0.171370</td>\n",
       "      <td>170.249063</td>\n",
       "      <td>50.971072</td>\n",
       "      <td>8677.777217</td>\n",
       "      <td>3064.332125</td>\n",
       "      <td>2625.637875</td>\n",
       "      <td>0.538550</td>\n",
       "      <td>5613.445092</td>\n",
       "      <td>5158.52</td>\n",
       "      <td>454.925092</td>\n",
       "    </tr>\n",
       "    <tr>\n",
       "      <th>2</th>\n",
       "      <td>3</td>\n",
       "      <td>5390.78</td>\n",
       "      <td>2792.22</td>\n",
       "      <td>0.517962</td>\n",
       "      <td>112.86</td>\n",
       "      <td>40.34</td>\n",
       "      <td>72.52</td>\n",
       "      <td>0.357434</td>\n",
       "      <td>69.217154</td>\n",
       "      <td>0.160528</td>\n",
       "      <td>114.920802</td>\n",
       "      <td>47.592543</td>\n",
       "      <td>5469.373160</td>\n",
       "      <td>1954.939866</td>\n",
       "      <td>837.280134</td>\n",
       "      <td>0.700138</td>\n",
       "      <td>3514.433294</td>\n",
       "      <td>2598.56</td>\n",
       "      <td>915.873294</td>\n",
       "    </tr>\n",
       "  </tbody>\n",
       "</table>\n",
       "</div>"
      ],
      "text/plain": [
       "  COD_COS  COMPROMISO   ENTREGA  _ENTREGA  TOTAL_AREA  COSECHA  SIN COSECHA  \\\n",
       "0       1    26449.77  19161.65  0.724454      543.38   304.38       239.00   \n",
       "1       2    10848.49   5689.97  0.524494      170.45    60.19       110.26   \n",
       "2       3     5390.78   2792.22  0.517962      112.86    40.34        72.52   \n",
       "\n",
       "   %COSECHA        TCH  DIF.AVANCE  AREA_ESTIM.  TCH_ESTIM  PRODUCCION_ESTIM  \\\n",
       "0  0.560160  62.953052    0.164294   543.960674  55.385149      30127.342884   \n",
       "1  0.353124  94.533477    0.171370   170.249063  50.971072       8677.777217   \n",
       "2  0.357434  69.217154    0.160528   114.920802  47.592543       5469.373160   \n",
       "\n",
       "   TN_COSECHA_ESTIM    DIF.ESTIM  % DIF.ESTIM   TN_EN_CAMPO  \\\n",
       "0      16876.146761  2285.503239     0.880725  13251.196123   \n",
       "1       3064.332125  2625.637875     0.538550   5613.445092   \n",
       "2       1954.939866   837.280134     0.700138   3514.433294   \n",
       "\n",
       "   COMPROMISO_RESTANTE   DIFERENCIA  \n",
       "0              7288.12  5963.076123  \n",
       "1              5158.52   454.925092  \n",
       "2              2598.56   915.873294  "
      ]
     },
     "execution_count": 14,
     "metadata": {},
     "output_type": "execute_result"
    }
   ],
   "source": [
    "xlsx_avance.head(3)"
   ]
  },
  {
   "cell_type": "code",
   "execution_count": 15,
   "id": "ab91bd32-9b75-4440-9588-77b26d76d503",
   "metadata": {},
   "outputs": [
    {
     "data": {
      "text/html": [
       "<div>\n",
       "<style scoped>\n",
       "    .dataframe tbody tr th:only-of-type {\n",
       "        vertical-align: middle;\n",
       "    }\n",
       "\n",
       "    .dataframe tbody tr th {\n",
       "        vertical-align: top;\n",
       "    }\n",
       "\n",
       "    .dataframe thead th {\n",
       "        text-align: right;\n",
       "    }\n",
       "</style>\n",
       "<table border=\"1\" class=\"dataframe\">\n",
       "  <thead>\n",
       "    <tr style=\"text-align: right;\">\n",
       "      <th></th>\n",
       "      <th>COD_COS</th>\n",
       "      <th>COMPROMISO</th>\n",
       "      <th>ENTREGA</th>\n",
       "      <th>_ENTREGA</th>\n",
       "      <th>TOTAL_AREA</th>\n",
       "      <th>COSECHA</th>\n",
       "      <th>SIN COSECHA</th>\n",
       "      <th>%COSECHA</th>\n",
       "      <th>TCH</th>\n",
       "      <th>DIF.AVANCE</th>\n",
       "      <th>AREA_ESTIM.</th>\n",
       "      <th>TCH_ESTIM</th>\n",
       "      <th>PRODUCCION_ESTIM</th>\n",
       "      <th>TN_COSECHA_ESTIM</th>\n",
       "      <th>DIF.ESTIM</th>\n",
       "      <th>% DIF.ESTIM</th>\n",
       "      <th>TN_EN_CAMPO</th>\n",
       "      <th>COMPROMISO_RESTANTE</th>\n",
       "      <th>DIFERENCIA</th>\n",
       "    </tr>\n",
       "  </thead>\n",
       "  <tbody>\n",
       "    <tr>\n",
       "      <th>28</th>\n",
       "      <td>30</td>\n",
       "      <td>65493.32</td>\n",
       "      <td>42091.86</td>\n",
       "      <td>0.642689</td>\n",
       "      <td>856.71</td>\n",
       "      <td>452.11</td>\n",
       "      <td>404.6</td>\n",
       "      <td>0.527728</td>\n",
       "      <td>93.100927</td>\n",
       "      <td>0.114961</td>\n",
       "      <td>857.018376</td>\n",
       "      <td>76.385829</td>\n",
       "      <td>65464.059007</td>\n",
       "      <td>34547.228021</td>\n",
       "      <td>7544.631979</td>\n",
       "      <td>0.820758</td>\n",
       "      <td>30916.830986</td>\n",
       "      <td>23401.46</td>\n",
       "      <td>7515.370986</td>\n",
       "    </tr>\n",
       "  </tbody>\n",
       "</table>\n",
       "</div>"
      ],
      "text/plain": [
       "   COD_COS  COMPROMISO   ENTREGA  _ENTREGA  TOTAL_AREA  COSECHA  SIN COSECHA  \\\n",
       "28      30    65493.32  42091.86  0.642689      856.71   452.11        404.6   \n",
       "\n",
       "    %COSECHA        TCH  DIF.AVANCE  AREA_ESTIM.  TCH_ESTIM  PRODUCCION_ESTIM  \\\n",
       "28  0.527728  93.100927    0.114961   857.018376  76.385829      65464.059007   \n",
       "\n",
       "    TN_COSECHA_ESTIM    DIF.ESTIM  % DIF.ESTIM   TN_EN_CAMPO  \\\n",
       "28      34547.228021  7544.631979     0.820758  30916.830986   \n",
       "\n",
       "    COMPROMISO_RESTANTE   DIFERENCIA  \n",
       "28             23401.46  7515.370986  "
      ]
     },
     "execution_count": 15,
     "metadata": {},
     "output_type": "execute_result"
    }
   ],
   "source": [
    "avance = xlsx_avance[xlsx_avance['COD_COS'] == cod_grupo]\n",
    "avance"
   ]
  },
  {
   "cell_type": "code",
   "execution_count": 16,
   "id": "816b5a3e-8dd8-4b0c-865f-ea7a8b118604",
   "metadata": {},
   "outputs": [
    {
     "data": {
      "text/plain": [
       "{'fecha_img': '05 de agosto',\n",
       " 'fecha_informe': '14 de agosto de 2023',\n",
       " 'ha_campo': 404.6,\n",
       " 'tn_campo': 30916.830986172485,\n",
       " 'tch_estimado': 76.41332423670906,\n",
       " 'diferencia': 7515.370986172486}"
      ]
     },
     "execution_count": 16,
     "metadata": {},
     "output_type": "execute_result"
    }
   ],
   "source": [
    "avance_totales = {\n",
    "    'fecha_img' : fecha_img,\n",
    "    'fecha_informe' : fecha_inf,\n",
    "    'ha_campo' : float(avance['SIN COSECHA']),\n",
    "    'tn_campo' : float(avance['TN_EN_CAMPO']),\n",
    "    'tch_estimado' : float(avance['TN_EN_CAMPO']) / float(avance['SIN COSECHA']),\n",
    "    'diferencia' : float(avance['DIFERENCIA'])\n",
    "}\n",
    "avance_totales"
   ]
  },
  {
   "cell_type": "code",
   "execution_count": 17,
   "id": "66ffc10b-792d-433a-9417-2e1a527839d4",
   "metadata": {},
   "outputs": [
    {
     "data": {
      "text/plain": [
       "avance_totales(fecha_img='05 de agosto', fecha_informe='14 de agosto de 2023', ha_campo=404.6, tn_campo=30916.830986172485, tch_estimado=76.41332423670906, diferencia=7515.370986172486)"
      ]
     },
     "execution_count": 17,
     "metadata": {},
     "output_type": "execute_result"
    }
   ],
   "source": [
    "obj_avance_totales = collections.namedtuple(\"avance_totales\",avance_totales.keys())(*avance_totales.values())\n",
    "obj_avance_totales"
   ]
  },
  {
   "cell_type": "code",
   "execution_count": 18,
   "id": "9fedc4b0-111c-4781-a577-f6a102adf431",
   "metadata": {},
   "outputs": [],
   "source": [
    "doc = DocxTemplate(ruta + '/templates/tpl_rpt_avance_falta_catastro.docx')\n",
    "context = {\n",
    "    'grupo' : list_obj_caneros,\n",
    "    'grupo_totales' : obj_grupo_totales,\n",
    "    'avance' : obj_avance_totales\n",
    "}\n",
    "doc.render(context)\n",
    "doc.save(ruta + '/informes/rpt.docx')"
   ]
  },
  {
   "cell_type": "code",
   "execution_count": null,
   "id": "c2099eeb-0a8b-4ac6-912d-ce2cf478ae28",
   "metadata": {},
   "outputs": [],
   "source": []
  },
  {
   "cell_type": "code",
   "execution_count": null,
   "id": "09554804-f52f-4935-ae03-c0efd5369d8a",
   "metadata": {},
   "outputs": [],
   "source": []
  },
  {
   "cell_type": "code",
   "execution_count": null,
   "id": "c736e4c8-cd22-4b12-885c-746d8bf51571",
   "metadata": {},
   "outputs": [],
   "source": []
  }
 ],
 "metadata": {
  "kernelspec": {
   "display_name": "Python 3 (ipykernel)",
   "language": "python",
   "name": "python3"
  },
  "language_info": {
   "codemirror_mode": {
    "name": "ipython",
    "version": 3
   },
   "file_extension": ".py",
   "mimetype": "text/x-python",
   "name": "python",
   "nbconvert_exporter": "python",
   "pygments_lexer": "ipython3",
   "version": "3.7.16"
  }
 },
 "nbformat": 4,
 "nbformat_minor": 5
}
