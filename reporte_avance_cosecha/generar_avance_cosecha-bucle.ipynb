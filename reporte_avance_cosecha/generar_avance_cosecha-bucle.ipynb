{
 "cells": [
  {
   "cell_type": "code",
   "execution_count": 1,
   "id": "2ff0227a-107e-43dd-bfe7-abee10f1f8dd",
   "metadata": {},
   "outputs": [],
   "source": [
    "import geopandas as gpd\n",
    "import matplotlib.pyplot as plt\n",
    "import pandas as pd\n",
    "from datetime import datetime\n",
    "\n",
    "import tkinter as tk\n",
    "from tkinter import filedialog as fd\n",
    "\n",
    "import collections\n",
    "\n",
    "from docxtpl import DocxTemplate\n",
    "import docxtpl\n",
    "from docx.shared import Mm"
   ]
  },
  {
   "cell_type": "code",
   "execution_count": 2,
   "id": "4449687d-24af-42c4-9220-14c7c5e07a21",
   "metadata": {},
   "outputs": [],
   "source": [
    "# open file dialog / catastro de avance\n",
    "root = tk.Tk()\n",
    "root.attributes('-topmost', True)\n",
    "root.iconify()\n",
    "file_name = fd.askopenfilename(parent=root, filetypes=[(\".shp\", \".shp\")])\n",
    "root.destroy()\n",
    "\n",
    "# open file dialog / xlsx de avance\n",
    "root = tk.Tk()\n",
    "root.attributes('-topmost', True)\n",
    "root.iconify()\n",
    "file_name = fd.askopenfilename(parent=root, filetypes=[(\".xlsx\", \".xlsx\")])\n",
    "root.destroy()"
   ]
  },
  {
   "cell_type": "code",
   "execution_count": 4,
   "id": "75b665bc-4514-47e8-9b74-eee18dd99701",
   "metadata": {},
   "outputs": [],
   "source": [
    "# ruta de carpera donde estan las llaves\n",
    "ruta = open('../ruta.txt')\n",
    "ruta = ruta.readlines()[0]"
   ]
  },
  {
   "cell_type": "code",
   "execution_count": 39,
   "id": "6df6f57e-a512-48f1-bde6-1b577b836e3c",
   "metadata": {},
   "outputs": [],
   "source": [
    "file_cat_avance = r'D:/Ingenio Azucarero Guabira S.A/UTEA - SEMANAL - AVANCE COSECHA/2023/ANALISIS DE CAÑA EN CAMPO 2023/REPORTE_AVANCE_COSECHA/SHP/Cosecha2023.shp'\n",
    "file_xlsx_avance = r'D:/Ingenio Azucarero Guabira S.A/UTEA - SEMANAL - AVANCE COSECHA/2023/ANALISIS DE CAÑA EN CAMPO 2023/REPORTE_AVANCE_COSECHA/RENDIMIENTO AVANCE 310723.xlsx'\n",
    "file_xlsx_estimativa = r'D:/Ingenio Azucarero Guabira S.A/UTEA - SEMANAL - AVANCE COSECHA/2023/ANALISIS DE CAÑA EN CAMPO 2023/REPORTE_AVANCE_COSECHA/ESTIMATIVAS_DB.xlsx'"
   ]
  },
  {
   "cell_type": "code",
   "execution_count": 40,
   "id": "a1f30ba2-e2e0-4501-b275-6ccd94db7874",
   "metadata": {},
   "outputs": [],
   "source": [
    "catastro_avance = gpd.read_file(file_cat_avance)"
   ]
  },
  {
   "cell_type": "code",
   "execution_count": 42,
   "id": "90f3a1e6-a1a2-4258-a191-de9754034b1f",
   "metadata": {},
   "outputs": [],
   "source": [
    "data_avance = pd.read_excel(file_xlsx_avance, sheet_name='Hoja1')"
   ]
  },
  {
   "cell_type": "code",
   "execution_count": 45,
   "id": "87a46fb2-467a-442e-9262-a7c594bf6369",
   "metadata": {},
   "outputs": [],
   "source": [
    "# extraer codigos de cosecha\n",
    "codigos_cosecha = list(set(data_avance['COD COS']))\n",
    "codigos_cosecha = [int(numero) for numero in codigos_cosecha]"
   ]
  },
  {
   "cell_type": "code",
   "execution_count": 46,
   "id": "9dc05557-f4cf-4fa7-9a29-e77353af6c20",
   "metadata": {},
   "outputs": [
    {
     "name": "stdout",
     "output_type": "stream",
     "text": [
      "[1, 2, 3, 4, 5, 6, 7, 8, 9, 10, 11, 12, 13, 14, 15, 16, 17, 18, 19, 20, 21, 22, 23, 24, 25, 26, 28, 29, 30, 31, 32, 33, 34, 35, 36, 37, 38, 39, 40, 41, 42, 43, 44, 45, 46, 47, 48, 49, 50, 51, 52, 54, 55, 56, 57, 58, 59, 60, 61, 62, 63, 64, 65, 67, 68, 69, 70, 71, 72, 73, 74, 75, 76, 77, 78, 79, 80, 81, 82, 83, 84, 85, 86, 87, 88, 89, 90, 91, 92, 93, 94, 95, 96, 97, 98, 99, 100, 101, 102, 103, 104, 105, 106, 107, 108, 109, 110, 111, 112, 113, 114, 115, 116, 117, 118, 119, 120, 121, 122, 123, 124, 125, 126, 127, 128, 129, 130, 131, 132, 134, 135, 136, 137, 138, 139, 140, 141, 142, 143, 144, 145, 146, 147, 148, 149, 150, 151, 152, 153, 154, 155, 156, 157, 158, 159, 160, 161, 162, 163, 164, 165, 166, 167, 168, 169, 170, 171, 172, 173, 174, 175, 176, 177, 179, 180, 181, 182, 183, 184, 185, 186, 187, 188, 189, 190, 191, 192, 193, 194, 195, 196, 197, 198, 199, 200, 201, 202, 203, 204, 205, 206, 207, 208, 209, 210, 211, 212, 213, 214, 215, 216, 217, 218, 219, 220, 221, 222, 223, 224, 225, 226, 227, 228, 229, 230, 231, 232, 233, 234, 235, 236, 237, 238, 239, 240, 241, 242, 243, 244, 245, 246, 247, 248, 249, 250, 251, 252, 253, 254, 255, 256, 257, 258, 259, 260, 261, 262, 264, 265, 266, 267, 268, 269, 270, 271, 272, 273, 274, 275, 276, 277, 278, 279, 280, 281, 282, 283, 284, 285, 286, 287, 288, 289, 290, 291, 292, 293, 294, 295, 296, 297, 298, 299, 300, 301, 302, 303, 304, 305, 306, 307, 308, 309, 310, 311, 312, 313, 314, 315, 316, 317, 318, 319, 320, 321, 322, 323, 324, 325, 326, 327, 328, 329, 330, 331, 332, 333, 334, 335, 336, 337, 338, 339, 340, 341, 342, 343, 344, 345, 346, 347, 348, 349, 350, 351, 352, 353, 354, 355, 356, 357, 358, 359, 360, 361, 362, 363, 364, 365, 366, 367, 368, 369, 370, 371, 372, 373, 374, 375, 376, 377, 378, 379, 380, 381, 382, 383, 384, 385, 386, 387, 388, 389, 390, 391, 392, 393, 394, 395, 396, 397, 398, 399, 400, 401, 402, 403, 404, 405, 406, 407, 408, 409, 410, 412, 413, 414, 416, 417, 418, 419, 420, 421, 422, 423, 424, 425, 426, 427, 429, 430, 432, 433, 434, 435, 437, 438, 439, 440, 441, 442, 443, 444, 445, 446, 447, 448, 449, 450, 451, 452, 453, 454, 455, 456, 457, 458, 459, 500, 501, 502, 503, 504, 505, 507, 508, 509, 510, 511, 513, 514, 515, 516, 517, 518, 519, 520, 521, 522, 523, 524, 525]\n"
     ]
    }
   ],
   "source": [
    "print(codigos_cosecha)"
   ]
  },
  {
   "cell_type": "code",
   "execution_count": 94,
   "id": "16ef204f-ad2d-4aae-9dad-93cc26b913b4",
   "metadata": {},
   "outputs": [],
   "source": [
    "dict_keys = {}"
   ]
  },
  {
   "cell_type": "code",
   "execution_count": 96,
   "id": "3d809939-b8db-435d-bbad-a9b2644110ee",
   "metadata": {
    "tags": []
   },
   "outputs": [
    {
     "name": "stdout",
     "output_type": "stream",
     "text": [
      "END\n"
     ]
    }
   ],
   "source": [
    "for i in codigos_cosecha:\n",
    "    \n",
    "    ## GRUPOS\n",
    "    # seleccion de grupo aguilera\n",
    "    cod_co = i\n",
    "    # filtrado por codigo de cosecha\n",
    "    grupo = data_avance[data_avance['COD COS'] == cod_co]\n",
    "    # seleccion de columnas de interes\n",
    "    grupo = grupo[['CODIGO CAÑERO ', 'COD COS', 'CAÑERO', 'TN COMPROMISO INDIVIDUAL', 'TN ENTREGA INDIVIDUAL']]\n",
    "    # calculo de % de avance de entrega del grupo\n",
    "    grupo['avance_porcen'] = (grupo['TN ENTREGA INDIVIDUAL'] / grupo['TN COMPROMISO INDIVIDUAL'])*100\n",
    "    # cambio del nombre del campo codigo cañero\n",
    "    grupo = grupo.rename(columns={'CODIGO CAÑERO ': 'cod_ca'})\n",
    "    list_obj_grupo = []\n",
    "    for index, row in grupo.iterrows():\n",
    "        canero = {\n",
    "            'cod_ca' : row['cod_ca'],\n",
    "            'nom_ca' : row['CAÑERO'],\n",
    "            'compromiso' : row['TN COMPROMISO INDIVIDUAL'],\n",
    "            'entrega' : row['TN ENTREGA INDIVIDUAL'],\n",
    "            'porcen' : row['avance_porcen']\n",
    "        }\n",
    "        list_obj_grupo.append(collections.namedtuple(\"canero\", canero.keys())(*canero.values()))\n",
    "    # TOTALES DE GRUPO\n",
    "    # totales de tabla de entreas del grupo seleccionado\n",
    "    grupo_totales = {\n",
    "        'compromiso':grupo['TN COMPROMISO INDIVIDUAL'].sum(),\n",
    "        'entrega':grupo['TN ENTREGA INDIVIDUAL'].sum(),\n",
    "        'porcen':grupo['TN ENTREGA INDIVIDUAL'].sum() / grupo['TN COMPROMISO INDIVIDUAL'].sum() * 100\n",
    "    }\n",
    "    obj_grupo_totales = collections.namedtuple(\"totales\", grupo_totales.keys())(*grupo_totales.values())\n",
    "    \n",
    "    # AVANCE POR PROPIEDAD\n",
    "    xlsx_estimativas = pd.read_excel(file_xlsx_estimativa, sheet_name='ESTIMATIVA_PROPS')\n",
    "    xlsx_estimativas = xlsx_estimativas.rename(columns={'CODIGO' : 'unidad_01'})\n",
    "    hoy = datetime.now()\n",
    "    mes_actual = hoy.month\n",
    "    mes_actual\n",
    "    # cambio de nombre de columna para hacer merge con la tabla de grupo\n",
    "    catastro_avance = catastro_avance.rename(columns={'unidad_03':'cod_ca'})\n",
    "    # merge \n",
    "    catastro_merge = pd.merge(grupo, catastro_avance, on='cod_ca')\n",
    "    \n",
    "    if len(catastro_merge)==0:\n",
    "        continue\n",
    "    \n",
    "    # crea nueva columna \"area_cosecha\", se almacena en area si el campo estado=\"cosechado\"\n",
    "    catastro_merge['area_cosechada'] = catastro_merge.apply(lambda row : row['area'] if row['estado'] == 'cosechado' else 0, axis=1)\n",
    "    # calculo de area cosechada en el mes actual\n",
    "    catastro_merge['avance_mes'] = catastro_merge.apply(lambda row : row['area'] if row['fc']!=None and row['fc'].split('-')[1] == str(mes_actual) else 0, axis=1)\n",
    "    # agrupacion de datos por pripiedad, resumiendo por area, area_cosechada, avance_mes\n",
    "    propiedades = catastro_merge.groupby(['unidad_01', 'unidad_02'])[['area', 'area_cosechada', 'avance_mes']].sum()\n",
    "    # reseteo de index\n",
    "    propiedades = propiedades.reset_index()\n",
    "    # calculo de % de avance de cosecha\n",
    "    propiedades['%avance'] = propiedades['area_cosechada'] / propiedades['area'] * 100\n",
    "    # merge con las estimativas de produccion de cada propiedad\n",
    "    propiedades = pd.merge(propiedades, xlsx_estimativas, on='unidad_01')\n",
    "    # seleccion de columnas de interes\n",
    "    propiedad = propiedades[['unidad_01', 'unidad_02', 'area', 'area_cosechada', '%avance', 'PRODUCCION']]\n",
    "    \n",
    "    list_obj_props = []\n",
    "    for index, row in propiedad.iterrows():\n",
    "        prop = {\n",
    "            'cod_prop' : row['unidad_01'],\n",
    "            'nom_prop' : row['unidad_02'],\n",
    "            'area' : row['area'],\n",
    "            'area_cosechada' : row['area_cosechada'],\n",
    "            'avance_porcen' : row['%avance'],\n",
    "            'produccion' : row['PRODUCCION']\n",
    "        }\n",
    "        list_obj_props.append(collections.namedtuple(\"propiedad\", prop.keys())(*prop.values()))\n",
    "    \n",
    "    # totales de tabla por columna\n",
    "    propiedades_totales = {\n",
    "        'area':propiedades['area'].sum(),\n",
    "        'area_cosechada':propiedades['area_cosechada'].sum(),\n",
    "        'avance_mes':propiedades['avance_mes'].sum(),\n",
    "        'avance_porcen':propiedades['area_cosechada'].sum() / propiedades['area'].sum() * 100,\n",
    "        'produccion' : propiedad['PRODUCCION'].sum()\n",
    "    }\n",
    "    propiedades_totales\n",
    "    obj_props_totales = collections.namedtuple(\"total\", propiedades_totales.keys())(*propiedades_totales.values())\n",
    "    \n",
    "    # AVANCE POR VARIEDAD\n",
    "    # merge \n",
    "    catastro_merge_2 = pd.merge(grupo, catastro_avance, on='cod_ca')\n",
    "    # crea nueva columna \"area_cosecha\", se almacena en area si el campo estado=\"cosechado\"\n",
    "    catastro_merge_2['area_cosechada'] = catastro_merge_2.apply(lambda row : row['area'] if row['estado'] == 'cosechado' else 0, axis=1)\n",
    "    # extraer valores unicos en el campo unidad_02\n",
    "    nom_props = list(set(catastro_merge_2['unidad_02']))\n",
    "    # lista de los codigos de propiedades\n",
    "    cod_props = list(set(catastro_merge_2['unidad_01'])) ##########################################################################################################\n",
    "    # se crea un dict que relacian al grupo con las propiedades\n",
    "    dict_keys[i] = cod_props\n",
    "    \n",
    "    # lista de objetos para almacenar una lista de propiedades\n",
    "    list_obj_props_var = []\n",
    "    for prop in nom_props:\n",
    "        # dict para almacenar una propiedad en concreto y su avance por variedad\n",
    "        data_obj_props = {}\n",
    "        data_obj_props['prop'] = prop\n",
    "        # selecciona todos los datos de una priedad en concreto segun en nombre en el campo unidad_02\n",
    "        avance_variedad = catastro_merge_2[catastro_merge_2['unidad_02']==prop]\n",
    "        # agrupa los datos segun variedad\n",
    "        avance_variedad = avance_variedad.groupby(['variedad'])[['area_cosechada', 'area']].sum()\n",
    "        # reinicia el index de dataframe\n",
    "        avance_variedad = avance_variedad.reset_index()\n",
    "        # ordemar por area cosechadad\n",
    "        avance_variedad = avance_variedad.sort_values(['area_cosechada'], ascending=False)\n",
    "        # calculo de porcentaje de avance\n",
    "        avance_variedad['porcen_avan'] = avance_variedad.apply(lambda row : row['area_cosechada']/row['area'] *100, axis=1)\n",
    "        # suma de totales\n",
    "        totales_variedad = {\n",
    "            'total_cosechado' : avance_variedad['area_cosechada'].sum(),\n",
    "            'total_area' : avance_variedad['area'].sum(),\n",
    "            'total_porcen' : avance_variedad['area_cosechada'].sum() / avance_variedad['area'].sum() * 100\n",
    "        }\n",
    "        # add totales a dict de datos de la prop\n",
    "        data_obj_props['totales'] = collections.namedtuple(\"totales\", totales_variedad.keys())(*totales_variedad.values())\n",
    "    \n",
    "        # objeto para almacenar las variedades\n",
    "        list_obj_vars = []\n",
    "        # recorres el dataframe de avande por variedad para convertir en obj cada fila\n",
    "        for index, row in avance_variedad.iterrows():\n",
    "            var = {\n",
    "                'var':row['variedad'],\n",
    "                'area_cosecha':row['area_cosechada'],\n",
    "                'area':row['area'],\n",
    "                'porcen_avan':row['porcen_avan']\n",
    "            }\n",
    "            list_obj_vars.append(collections.namedtuple(\"variedad\", var.keys())(*var.values()))\n",
    "        data_obj_props['variedades'] = list_obj_vars\n",
    "        list_obj_props_var.append(collections.namedtuple(\"propiedad\", data_obj_props.keys())(*data_obj_props.values()))\n",
    "    \n",
    "    ## AVANCE POR CORTE\n",
    "    # merge \n",
    "    catastro_merge_3 = pd.merge(grupo, catastro_avance, on='cod_ca')\n",
    "    # crea nueva columna \"area_cosecha\", se almacena en area si el campo estado=\"cosechado\"\n",
    "    catastro_merge_3['area_cosechada'] = catastro_merge_3.apply(lambda row : row['area'] if row['estado'] == 'cosechado' else 0, axis=1)\n",
    "    # extraer valores unicos en el campo unidad_02\n",
    "    nom_props = list(set(catastro_merge_3['unidad_02']))\n",
    "    # lista de objetos para almacenar una lista de propiedades\n",
    "    list_obj_props_soca = []\n",
    "    for prop in nom_props:\n",
    "        # dict para almacenar una propiedad en concreto y su avance por variedad\n",
    "        data_obj_props = {}\n",
    "        data_obj_props['prop'] = prop\n",
    "        avance_corte = catastro_merge_3[catastro_merge_3['unidad_02']==prop]\n",
    "        #avance_corte['soca'] = avance_corte['soca'].astype(int)\n",
    "        suma_area = avance_corte.loc[avance_corte['soca'] >= 10, 'area'].sum()\n",
    "        if (suma_area > 0):\n",
    "            suma_area_cosechada = avance_corte.loc[avance_corte['soca'] >= 10, 'area_cosechada'].sum()\n",
    "            avance_corte= avance_corte[avance_corte['soca'] < 10]\n",
    "            avance_corte['soca'] = avance_corte['soca'].astype(str)\n",
    "            new_reg = {'soca': '>10', 'area': suma_area, 'area_cosechada': suma_area_cosechada}\n",
    "            avance_corte = avance_corte.append(new_reg, ignore_index=True)\n",
    "        else:\n",
    "            avance_corte['soca'] = avance_corte['soca'].astype(str)\n",
    "        #agrupacion de datos por propiedad, resumiendo por area, area_cosechada, avance_mes\n",
    "        avance_corte = avance_corte.groupby(['soca'])[['area_cosechada', 'area']].sum()\n",
    "        # reseteo de index\n",
    "        avance_corte = avance_corte.reset_index()\n",
    "        # ordemar por soca\n",
    "        avance_corte = avance_corte.sort_values(['soca'])\n",
    "        # calculo de porcentaje de avance\n",
    "        avance_corte['porcen_avan'] = avance_corte.apply(lambda row : row['area_cosechada']/row['area'] *100, axis=1)\n",
    "    \n",
    "    \n",
    "        list_obj_soca = []\n",
    "        # recorres el dataframe de avance por soca para convertir en obj cada fila\n",
    "        for index, row in avance_corte.iterrows():\n",
    "            soca = {\n",
    "                'soca': row['soca'],\n",
    "                'area_cosecha':row['area_cosechada'],\n",
    "                'area':row['area'],\n",
    "                'porcen_avan':row['porcen_avan']\n",
    "            }\n",
    "            list_obj_soca.append(collections.namedtuple(\"soca\", soca.keys())(*soca.values()))\n",
    "        data_obj_props['socas'] = list_obj_soca\n",
    "        list_obj_props_soca.append(collections.namedtuple(\"propiedad\", data_obj_props.keys())(*data_obj_props.values()))\n",
    "    \n",
    "    ## AVANCE GENERAL\n",
    "    fecha_anterior = datetime(2023, 5, 5)\n",
    "    fecha_actual = datetime.now()\n",
    "    dias_zafra = (fecha_actual - fecha_anterior).days\n",
    "    totales_avance_gral = {\n",
    "        'avance_area_porcen' : propiedades_totales['avance_porcen'],\n",
    "        'avance_tn_porcen' : grupo_totales['porcen'],\n",
    "        'tiempo_porcen' : (dias_zafra / 171) * 100,\n",
    "        'area_requerida' : propiedades_totales['area'] * (dias_zafra / 171),\n",
    "        'cumplimiento_area_porcen' : propiedades_totales['area_cosechada']/(propiedades_totales['area'] * (dias_zafra / 171)) * 100,\n",
    "        'tn_requeridas' : (propiedades_totales['produccion'])*(dias_zafra / 171),\n",
    "        'cumplimiento_tn_porcen' : grupo_totales['entrega']/((propiedades_totales['produccion'])*(dias_zafra / 171)) * 100\n",
    "    }\n",
    "    totales_avance_gral\n",
    "    obj_avance_gral = collections.namedtuple(\"avance_gral\", totales_avance_gral.keys())(*totales_avance_gral.values())\n",
    "    \n",
    "    doc = DocxTemplate(ruta + \"/_test/tpl_rpt_avance_cosecha.docx\")\n",
    "    context = {\n",
    "        'grupo' : list_obj_grupo, \n",
    "        'g_totales' : obj_grupo_totales,\n",
    "        'prop' : list_obj_props,\n",
    "        'p_totales' : obj_props_totales,\n",
    "        'vars' : list_obj_props_var,\n",
    "        'soca' : list_obj_props_soca,\n",
    "        'avance' : obj_avance_gral\n",
    "    }\n",
    "    doc.render(context)\n",
    "    doc.save(ruta + '/_test/' + str(i) + '.docx')\n",
    "    print('Se generó reporte de grupo:', str(i))\n",
    "print('END')"
   ]
  },
  {
   "cell_type": "code",
   "execution_count": 99,
   "id": "bd7897cc-db19-4f43-a5eb-ed4005ae0dcd",
   "metadata": {},
   "outputs": [
    {
     "data": {
      "text/plain": [
       "{1: [1696, 17, 1748],\n",
       " 2: [265, 369, 211, 1816, 1817],\n",
       " 3: [1820, 1960, 749, 750, 1818, 1819, 732, 733, 1694],\n",
       " 4: [787],\n",
       " 5: [1, 218, 19],\n",
       " 6: [18],\n",
       " 7: [949],\n",
       " 8: [664],\n",
       " 9: [74],\n",
       " 10: [258],\n",
       " 11: [47],\n",
       " 12: [600, 111],\n",
       " 13: [1635, 1315, 1726, 1585, 1310],\n",
       " 14: [979, 981, 982],\n",
       " 15: [1464, 1592, 788],\n",
       " 16: [941],\n",
       " 17: [1225, 1010, 761, 1467, 796],\n",
       " 18: [1594, 519],\n",
       " 19: [791],\n",
       " 20: [520, 1088],\n",
       " 21: [903, 1295, 1525, 1718, 925],\n",
       " 22: [789, 790, 792, 793, 794],\n",
       " 23: [333],\n",
       " 24: [1774, 1855],\n",
       " 25: [766],\n",
       " 26: [320],\n",
       " 28: [1100, 277],\n",
       " 29: [1656, 1961, 1962],\n",
       " 30: [216, 256, 217],\n",
       " 31: [197, 198, 969, 1450, 877, 84, 1049, 700, 1213, 1214],\n",
       " 32: [930, 1287, 1171, 186, 1244, 927],\n",
       " 33: [325],\n",
       " 34: [1336, 1337, 1645, 1335],\n",
       " 35: [288],\n",
       " 36: [1615],\n",
       " 37: [327],\n",
       " 38: [141, 142],\n",
       " 39: [285, 286, 287],\n",
       " 40: [629],\n",
       " 41: [30],\n",
       " 42: [115],\n",
       " 43: [1015],\n",
       " 44: [1561, 1090],\n",
       " 45: [1833, 551],\n",
       " 46: [1618, 1707],\n",
       " 47: [343],\n",
       " 48: [559],\n",
       " 49: [1442],\n",
       " 50: [122],\n",
       " 51: [257],\n",
       " 52: [219, 324],\n",
       " 54: [928, 932, 361, 1358, 1359],\n",
       " 55: [1024, 1025, 963, 964, 1700, 1033, 1034],\n",
       " 56: [554, 398, 720, 755, 757],\n",
       " 57: [1665, 1896, 623, 756, 1176, 1177, 1178, 1179, 1181],\n",
       " 58: [1379, 1354, 1364, 1686, 1687, 729, 1342, 159],\n",
       " 59: [1528, 858, 699],\n",
       " 60: [301, 302, 303, 304, 305],\n",
       " 61: [1765, 1324, 398, 1790, 57, 988, 1085, 1086],\n",
       " 62: [902],\n",
       " 63: [774, 775],\n",
       " 64: [1428, 1413],\n",
       " 65: [1609, 873],\n",
       " 67: [776, 1321, 46, 719],\n",
       " 68: [1413],\n",
       " 69: [416, 417, 418, 419, 1130, 851],\n",
       " 70: [800, 89, 615, 799],\n",
       " 71: [833, 1591, 280, 281, 282, 1756, 698],\n",
       " 72: [459],\n",
       " 73: [1536, 161, 1537, 1548, 527, 944, 529, 945, 1812],\n",
       " 74: [162, 1660, 1661],\n",
       " 75: [1846],\n",
       " 76: [98, 483, 100, 971, 1550, 313],\n",
       " 77: [1152],\n",
       " 78: [133, 783, 80, 313, 1723, 1597, 1598],\n",
       " 79: [1644, 433, 1144, 1369, 1370],\n",
       " 80: [1386, 109, 149, 1375],\n",
       " 81: [1371, 1083, 135],\n",
       " 82: [1418, 1419, 1420, 227],\n",
       " 83: [289, 1538, 168, 1385, 1072, 1073, 146, 535],\n",
       " 84: [1760, 1761, 1762, 1111, 1759],\n",
       " 85: [730],\n",
       " 86: [20],\n",
       " 87: [1040, 1043, 1039],\n",
       " 88: [934, 1054],\n",
       " 89: [1008, 1011],\n",
       " 90: [1611, 1934, 1935, 209, 437, 439, 440, 441, 61, 1695],\n",
       " 91: [1046],\n",
       " 92: [1376, 1377, 1378, 1092, 1038, 1042, 83, 1372, 1373, 1374],\n",
       " 93: [1507, 1508, 44, 1426, 1531],\n",
       " 94: [1792, 1859, 1860, 1924, 683, 915, 1787],\n",
       " 95: [1382, 1380, 1350],\n",
       " 96: [1900, 1901, 1902, 1904, 1905, 1906, 1907, 1908, 1909, 1620, 1621, 1022],\n",
       " 97: [1066, 1067, 1381],\n",
       " 98: [627],\n",
       " 99: [1572, 1384, 1064, 973, 14],\n",
       " 100: [1417],\n",
       " 101: [1425, 1755],\n",
       " 102: [1787],\n",
       " 103: [1442, 1923, 1174],\n",
       " 104: [1107, 1404, 1069, 1070],\n",
       " 105: [816, 1026, 860, 815],\n",
       " 106: [1282, 1668, 1669, 813, 816],\n",
       " 107: [1147, 1139, 1140, 1047],\n",
       " 109: [450, 1379, 1137, 1299, 1301, 444],\n",
       " 110: [1128, 1122, 1123, 1124],\n",
       " 111: [936],\n",
       " 112: [1410, 445],\n",
       " 113: [1627, 1023],\n",
       " 114: [1772, 1776, 1299, 435, 1301],\n",
       " 115: [67, 68, 1095, 1808, 1399, 445, 414],\n",
       " 116: [521, 447],\n",
       " 117: [40, 1498],\n",
       " 118: [1440, 1701, 1554, 1365, 1724],\n",
       " 119: [1731],\n",
       " 120: [156, 1628],\n",
       " 121: [691, 692, 693],\n",
       " 122: [176, 1659, 1654],\n",
       " 124: [1294],\n",
       " 125: [478, 991],\n",
       " 126: [16, 85, 1806, 1799],\n",
       " 129: [1408, 28],\n",
       " 130: [1616, 1617],\n",
       " 131: [1006],\n",
       " 132: [1706],\n",
       " 134: [1267],\n",
       " 135: [1009],\n",
       " 136: [613],\n",
       " 137: [113, 499, 502, 751],\n",
       " 138: [225, 226, 1325, 500, 501, 374, 1149],\n",
       " 139: [290, 291, 292, 293, 294, 295, 675],\n",
       " 140: [309, 310, 239],\n",
       " 141: [172, 342],\n",
       " 142: [10, 1423, 1968, 1969, 311, 1972, 1015, 253],\n",
       " 143: [1771, 996],\n",
       " 144: [1307, 1306, 995, 1308],\n",
       " 145: [1409, 1797, 1303, 1304, 1403, 1405, 1406, 1407],\n",
       " 146: [1573, 458, 1002, 1688, 249, 250, 251],\n",
       " 147: [1216, 1730, 1764, 1671, 171, 1228, 1325, 1273],\n",
       " 148: [1830, 1831],\n",
       " 149: [1411, 527, 1607],\n",
       " 150: [1250, 1252, 1733, 1254, 1258, 1910, 1880, 1305, 1885, 1919],\n",
       " 151: [1412],\n",
       " 152: [944, 1622, 1623, 1629, 1630, 1535],\n",
       " 153: [576],\n",
       " 154: [836, 1767],\n",
       " 155: [958],\n",
       " 156: [1028, 1036],\n",
       " 157: [966, 839, 838, 840, 844, 845, 846],\n",
       " 158: [1633],\n",
       " 159: [1546],\n",
       " 161: [1231],\n",
       " 162: [486, 487, 488, 489, 490, 493, 494, 496],\n",
       " 163: [1184, 1180, 1182, 1183],\n",
       " 164: [1895, 872, 1948, 1949, 1950],\n",
       " 165: [1568],\n",
       " 166: [236, 237, 238, 1735],\n",
       " 167: [48, 989],\n",
       " 168: [573],\n",
       " 169: [1750, 1751],\n",
       " 170: [274, 1100, 277],\n",
       " 171: [231],\n",
       " 172: [1215, 495, 173, 279],\n",
       " 173: [32, 33, 31],\n",
       " 174: [298, 332, 1709],\n",
       " 175: [1289, 221, 222],\n",
       " 176: [355, 1805, 1438],\n",
       " 177: [578, 549, 550, 391, 392],\n",
       " 179: [1314],\n",
       " 180: [555],\n",
       " 181: [174],\n",
       " 182: [36, 1367],\n",
       " 183: [2, 66, 1109, 38],\n",
       " 184: [961, 759],\n",
       " 185: [1159, 1770, 916, 886, 887, 888, 889, 890, 891, 892, 893],\n",
       " 186: [1472, 484, 485, 1478, 753, 1684],\n",
       " 187: [1569, 1154, 1157, 454, 1158, 685, 687, 1170, 690],\n",
       " 188: [672, 1868, 654, 655, 667, 670, 671],\n",
       " 189: [1544, 1473, 682],\n",
       " 190: [1156, 710],\n",
       " 191: [389, 936, 681, 1872, 1939, 1940],\n",
       " 192: [834, 835, 854, 855],\n",
       " 193: [1793],\n",
       " 194: [328, 53, 13, 55],\n",
       " 195: [29],\n",
       " 196: [423, 558, 306, 307, 1491],\n",
       " 197: [259],\n",
       " 198: [376, 1474, 375],\n",
       " 199: [1454, 1619, 345, 27, 669],\n",
       " 201: [864,\n",
       "  1505,\n",
       "  1570,\n",
       "  1443,\n",
       "  1190,\n",
       "  234,\n",
       "  235,\n",
       "  1165,\n",
       "  206,\n",
       "  1712,\n",
       "  1778,\n",
       "  1433,\n",
       "  1243,\n",
       "  862],\n",
       " 202: [803, 1285, 1286, 233, 478],\n",
       " 203: [275, 132],\n",
       " 204: [1587, 628, 734],\n",
       " 205: [5],\n",
       " 206: [705, 870, 1414, 779, 780, 1198, 1422, 1111, 126],\n",
       " 207: [1588],\n",
       " 208: [935, 912, 922, 923, 924],\n",
       " 209: [273, 714, 118],\n",
       " 211: [187],\n",
       " 212: [729],\n",
       " 213: [1290, 1580],\n",
       " 214: [1875, 1876, 1566, 1567],\n",
       " 215: [1952, 42, 1291, 1180, 858, 1275, 476],\n",
       " 216: [1121, 1161, 1125, 1118],\n",
       " 217: [1043, 1349],\n",
       " 218: [1121, 546, 536, 1652, 1080],\n",
       " 219: [1888, 1889, 1480, 1160, 395, 396, 1172, 567, 568, 539, 1887],\n",
       " 220: [1446, 522, 523, 524, 205, 624, 625, 242],\n",
       " 221: [1193, 1162, 1197, 188, 1212, 539, 1020],\n",
       " 222: [580, 582, 583, 150, 537, 538],\n",
       " 223: [105, 106, 140],\n",
       " 224: [544, 1227, 1613, 1234, 1210, 542, 543],\n",
       " 225: [1248, 1249, 103, 395, 1197, 468, 469],\n",
       " 226: [1540, 1541],\n",
       " 227: [128, 129],\n",
       " 228: [1641, 395, 140, 1076, 117, 540, 541],\n",
       " 229: [546, 970, 1465, 145, 1497],\n",
       " 230: [1826, 1476, 1195, 525, 1199],\n",
       " 231: [547, 1227, 1549, 1235, 116, 377, 378],\n",
       " 232: [466, 189],\n",
       " 234: [260, 395, 1233, 1492, 565, 566, 1238, 570, 1563, 1564, 1247],\n",
       " 235: [1604, 1704, 526, 240, 241, 1466],\n",
       " 236: [1472, 1473, 708, 709, 1577],\n",
       " 237: [707],\n",
       " 238: [400, 25, 668, 62],\n",
       " 239: [1452],\n",
       " 240: [1864, 1925, 910, 1783],\n",
       " 241: [39, 942, 472, 473, 1722, 1596],\n",
       " 242: [545, 421, 905, 914, 247, 1946],\n",
       " 243: [408, 1211, 360, 1646],\n",
       " 244: [1264, 1266, 1267, 1268],\n",
       " 245: [1330, 1326, 1327],\n",
       " 247: [867, 261, 263, 11, 1041, 831],\n",
       " 248: [264],\n",
       " 249: [1219, 1221, 1702, 591, 1043, 314],\n",
       " 250: [1731,\n",
       "  1732,\n",
       "  195,\n",
       "  6,\n",
       "  1576,\n",
       "  1867,\n",
       "  1069,\n",
       "  1522,\n",
       "  403,\n",
       "  212,\n",
       "  213,\n",
       "  404,\n",
       "  407,\n",
       "  405,\n",
       "  534,\n",
       "  1459,\n",
       "  406,\n",
       "  318],\n",
       " 251: [1323, 1947, 358, 831],\n",
       " 252: [1862, 1863, 371, 1877, 533, 1913, 1914, 1915, 1916],\n",
       " 253: [421, 360, 1768, 906, 907, 908, 909, 1043],\n",
       " 254: [1574, 1769, 230, 992],\n",
       " 255: [421],\n",
       " 256: [1763, 1926, 1927, 104, 1928, 426, 1131, 1929, 1933, 1488, 1489],\n",
       " 257: [141, 1662],\n",
       " 258: [1703, 830, 1043, 918, 1879, 856, 1917, 1918, 1663],\n",
       " 259: [596, 1269, 597, 598, 1436],\n",
       " 260: [510],\n",
       " 261: [1890, 1480, 1482, 1743, 1018],\n",
       " 262: [1343],\n",
       " 264: [1251, 1798, 1255, 1256, 842, 843, 1811],\n",
       " 265: [1600, 1602, 1356, 1357, 1582, 1078, 1079, 1309],\n",
       " 266: [1313, 1352, 1257, 1259, 1311],\n",
       " 267: [1824, 1297, 978, 785, 119, 1951, 1502, 511],\n",
       " 268: [879, 1200, 1714, 1203, 1204, 1205, 1494, 1207, 1208, 1206, 861, 990],\n",
       " 269: [882, 994],\n",
       " 270: [1237, 1077],\n",
       " 271: [656, 657, 899],\n",
       " 272: [1856,\n",
       "  1857,\n",
       "  1794,\n",
       "  1858,\n",
       "  1897,\n",
       "  1903,\n",
       "  1489,\n",
       "  1562,\n",
       "  915,\n",
       "  1685,\n",
       "  1338,\n",
       "  1339,\n",
       "  1340],\n",
       " 273: [880, 913, 1640],\n",
       " 274: [896, 898],\n",
       " 275: [883, 1964],\n",
       " 276: [1075, 1119],\n",
       " 277: [896, 993, 1699, 1612, 1742, 1775, 1873, 1874, 1021],\n",
       " 278: [1894, 1000, 1001, 491, 1081, 1082, 478],\n",
       " 280: [1057, 988],\n",
       " 281: [79],\n",
       " 282: [577, 1091, 1579, 78, 593, 594, 244, 1559],\n",
       " 283: [297, 507, 1145, 1786, 123, 92, 125],\n",
       " 284: [801, 897, 900, 901, 1510, 1470, 1511, 1509, 185, 1884, 478],\n",
       " 285: [968, 962, 399],\n",
       " 286: [1353, 1351],\n",
       " 287: [1362, 868],\n",
       " 288: [950, 951, 1115, 1116, 1117],\n",
       " 289: [952],\n",
       " 291: [1638, 341, 1690, 601, 602, 603, 605],\n",
       " 292: [651, 652, 653],\n",
       " 293: [504, 505, 1163, 503],\n",
       " 294: [640, 641, 642, 643, 645, 650, 1932, 638, 639],\n",
       " 295: [929, 772, 773, 1099, 1163, 697, 1053, 767],\n",
       " 296: [806, 807],\n",
       " 297: [741,\n",
       "  1542,\n",
       "  71,\n",
       "  614,\n",
       "  615,\n",
       "  618,\n",
       "  619,\n",
       "  617,\n",
       "  616,\n",
       "  620,\n",
       "  621,\n",
       "  1648,\n",
       "  1649,\n",
       "  1464,\n",
       "  1791],\n",
       " 298: [768, 769, 770],\n",
       " 299: [777, 727],\n",
       " 300: [1475, 677],\n",
       " 301: [673, 646, 744, 616, 622, 367, 1136, 666, 636, 637],\n",
       " 303: [804, 811, 975, 976, 1432],\n",
       " 304: [647, 663, 1005, 1457, 659, 660, 661, 662, 1014, 665, 666, 348, 349],\n",
       " 305: [1667, 764, 765, 1014],\n",
       " 306: [947, 1052],\n",
       " 307: [762, 1051, 763],\n",
       " 308: [1302],\n",
       " 309: [678, 694, 679],\n",
       " 310: [384, 386, 819, 820, 954, 829],\n",
       " 311: [1108],\n",
       " 312: [1148, 278, 1871],\n",
       " 313: [442],\n",
       " 314: [771],\n",
       " 315: [110],\n",
       " 316: [984, 980],\n",
       " 317: [832],\n",
       " 318: [1065, 1173],\n",
       " 319: [449, 1931, 1262],\n",
       " 320: [879],\n",
       " 321: [1584, 1583],\n",
       " 322: [1944, 1175, 823],\n",
       " 323: [1096],\n",
       " 324: [825, 827, 828, 1263],\n",
       " 326: [648, 649, 956, 957],\n",
       " 327: [805],\n",
       " 328: [1721, 178, 179, 1670],\n",
       " 329: [1016, 1168, 15],\n",
       " 330: [1608, 1651, 93, 15],\n",
       " 331: [424, 745, 746, 747, 1553],\n",
       " 332: [1458, 1186, 1397, 1166],\n",
       " 335: [552, 1593, 3, 1523],\n",
       " 336: [429],\n",
       " 339: [974, 742],\n",
       " 340: [1844, 1845],\n",
       " 342: [1737, 1738],\n",
       " 343: [1035],\n",
       " 344: [1539],\n",
       " 345: [1185, 164, 1084],\n",
       " 346: [706, 1673, 1674, 1675, 1676, 1677],\n",
       " 347: [1865, 1516, 1518, 1394, 1050, 571],\n",
       " 348: [1401, 1402, 1782],\n",
       " 349: [545, 1614, 1393, 532, 1530],\n",
       " 350: [1483],\n",
       " 351: [1392, 1547],\n",
       " 352: [548, 1483, 1784, 1431, 1720, 1401],\n",
       " 353: [299],\n",
       " 354: [723, 724, 725, 726, 728],\n",
       " 355: [535],\n",
       " 356: [344, 1823],\n",
       " 357: [512, 513, 514, 515, 516, 517, 1481, 1322, 182, 505],\n",
       " 358: [1850],\n",
       " 359: [632, 633, 634, 1526],\n",
       " 360: [416, 201, 1610, 859, 414, 415],\n",
       " 361: [866],\n",
       " 362: [1120, 1606, 1545, 76, 1711, 1815, 1693],\n",
       " 363: [1153, 331],\n",
       " 364: [1639],\n",
       " 365: [329, 330, 778, 1637],\n",
       " 366: [810, 812],\n",
       " 367: [350, 1302],\n",
       " 368: [1642, 26, 943],\n",
       " 369: [1220, 585, 1456, 1524, 572],\n",
       " 370: [384, 809, 814, 817, 818, 1586, 1854],\n",
       " 371: [43],\n",
       " 372: [1126],\n",
       " 373: [874],\n",
       " 374: [1241, 586, 588, 589, 1240, 921],\n",
       " 375: [1672, 137, 1451, 1556, 1557, 1558, 283, 1788, 1789],\n",
       " 376: [1650, 1106, 1102],\n",
       " 377: [972, 853, 471, 1242, 251, 573, 574, 575],\n",
       " 380: [228],\n",
       " 381: [411],\n",
       " 382: [49, 1388, 1389],\n",
       " 383: [1484],\n",
       " 385: [1512, 4],\n",
       " 386: [1189, 45, 1745, 1746, 1142, 926],\n",
       " 387: [875, 1716, 1045, 1461, 1469],\n",
       " 388: [1853],\n",
       " 389: [1828, 1829, 1832, 715, 1631],\n",
       " 390: [1180, 1773, 1847],\n",
       " 391: [1366],\n",
       " 392: [608, 611, 127, 606, 607],\n",
       " 393: [1280,\n",
       "  1281,\n",
       "  704,\n",
       "  869,\n",
       "  871,\n",
       "  1384,\n",
       "  1866,\n",
       "  1744,\n",
       "  1276,\n",
       "  23,\n",
       "  1689,\n",
       "  1658,\n",
       "  1277,\n",
       "  1757,\n",
       "  1278,\n",
       "  1279],\n",
       " 394: [1795, 904, 368, 146, 824],\n",
       " 395: [752, 1500],\n",
       " 396: [1643, 139, 717, 718, 147, 758, 1146],\n",
       " 397: [276],\n",
       " 398: [1094,\n",
       "  1655,\n",
       "  1097,\n",
       "  365,\n",
       "  798,\n",
       "  784,\n",
       "  849,\n",
       "  848,\n",
       "  919,\n",
       "  895,\n",
       "  852,\n",
       "  630,\n",
       "  631,\n",
       "  1852,\n",
       "  797,\n",
       "  894,\n",
       "  1087],\n",
       " 399: [1682, 1683],\n",
       " 400: [1344, 1345, 1346, 1347, 560, 49, 1432],\n",
       " 401: [758],\n",
       " 402: [300],\n",
       " 403: [1447, 1705, 1520, 22, 1758, 63],\n",
       " 404: [50],\n",
       " 405: [1151],\n",
       " 406: [184, 658, 1551],\n",
       " 408: [114],\n",
       " 409: [132, 781, 14, 1453, 308, 1719],\n",
       " 410: [284],\n",
       " 412: [1421],\n",
       " 414: [674],\n",
       " 416: [296, 21],\n",
       " 417: [72, 1777, 1827, 94],\n",
       " 418: [986, 1013],\n",
       " 419: [1272, 721, 722, 591],\n",
       " 420: [1441,\n",
       "  737,\n",
       "  1283,\n",
       "  612,\n",
       "  1284,\n",
       "  739,\n",
       "  1736,\n",
       "  1739,\n",
       "  1740,\n",
       "  1741,\n",
       "  1903,\n",
       "  112,\n",
       "  1851,\n",
       "  1503],\n",
       " 421: [1260, 1605],\n",
       " 422: [1043],\n",
       " 423: [155, 1796, 509, 92],\n",
       " 424: [155, 507],\n",
       " 425: [1800, 1801, 1802, 1513, 1807],\n",
       " 426: [1643],\n",
       " 427: [1416],\n",
       " 429: [1368, 1766],\n",
       " 432: [1780, 1781, 1886],\n",
       " 433: [267, 271, 326, 270],\n",
       " 434: [54],\n",
       " 435: [782],\n",
       " 437: [1093],\n",
       " 438: [1089, 421, 1482, 1708, 247],\n",
       " 439: [1229],\n",
       " 442: [1578, 1922],\n",
       " 443: [716],\n",
       " 444: [1941],\n",
       " 445: [246],\n",
       " 446: [1113, 953, 1114],\n",
       " 448: [125],\n",
       " 449: [865],\n",
       " 450: [577, 1607, 1355, 1460, 92],\n",
       " 451: [1201, 1333, 1495],\n",
       " 452: [1104, 1899, 1898, 1891],\n",
       " 453: [1232, 1021, 229],\n",
       " 455: [12],\n",
       " 456: [696, 1132, 695],\n",
       " 457: [1963],\n",
       " 458: [1331, 1292, 1332],\n",
       " 459: [1074],\n",
       " 500: [592],\n",
       " 501: [1861],\n",
       " 502: [861],\n",
       " 504: [1869, 1870],\n",
       " 505: [1883, 915],\n",
       " 507: [1881, 1882],\n",
       " 508: [937, 938, 939, 9],\n",
       " 509: [993, 802, 1878, 863],\n",
       " 510: [1920, 1921, 1300],\n",
       " 511: [1848, 1849],\n",
       " 513: [1393, 1930],\n",
       " 514: [1705, 579, 590, 183],\n",
       " 515: [676, 1644, 878, 1936, 1937, 1938, 702, 703],\n",
       " 516: [1653, 525],\n",
       " 517: [1222],\n",
       " 518: [556],\n",
       " 519: [8, 510],\n",
       " 520: [119, 999],\n",
       " 521: [1274],\n",
       " 523: [1970],\n",
       " 524: [442, 434, 435],\n",
       " 525: [1424]}"
      ]
     },
     "execution_count": 99,
     "metadata": {},
     "output_type": "execute_result"
    }
   ],
   "source": [
    "dict_keys"
   ]
  },
  {
   "cell_type": "code",
   "execution_count": null,
   "id": "d91d9771-f794-4cf2-a341-68f75aeca02d",
   "metadata": {},
   "outputs": [],
   "source": []
  },
  {
   "cell_type": "code",
   "execution_count": null,
   "id": "a1310d89-17e0-4fc7-8101-ba7984ab488c",
   "metadata": {},
   "outputs": [],
   "source": []
  },
  {
   "cell_type": "code",
   "execution_count": null,
   "id": "7415365a-87c6-425c-8ef3-1793bb748b1e",
   "metadata": {},
   "outputs": [],
   "source": []
  },
  {
   "cell_type": "code",
   "execution_count": null,
   "id": "2062727d-56f7-4a3d-8201-4aa916ff056f",
   "metadata": {},
   "outputs": [],
   "source": []
  },
  {
   "cell_type": "code",
   "execution_count": null,
   "id": "8f913acd-4fb6-4fc0-ba29-0203b16e002c",
   "metadata": {},
   "outputs": [],
   "source": []
  },
  {
   "cell_type": "code",
   "execution_count": null,
   "id": "38cc0dd3-7bd2-4932-94d6-9f1e641b7a3f",
   "metadata": {},
   "outputs": [],
   "source": []
  },
  {
   "cell_type": "code",
   "execution_count": null,
   "id": "8f67d8d5-2536-4560-b111-640b62805cde",
   "metadata": {},
   "outputs": [],
   "source": []
  },
  {
   "cell_type": "code",
   "execution_count": null,
   "id": "021b3910-6e09-43ee-bfc0-1306a815c9d3",
   "metadata": {},
   "outputs": [],
   "source": []
  },
  {
   "cell_type": "code",
   "execution_count": null,
   "id": "5add4656-66fb-4197-94c3-e96d794dde67",
   "metadata": {},
   "outputs": [],
   "source": []
  },
  {
   "cell_type": "markdown",
   "id": "ccd09758-31cb-47b3-8c95-7aa710b7da25",
   "metadata": {
    "tags": []
   },
   "source": [
    "## COMPROMISO Y ENTREGAS"
   ]
  },
  {
   "cell_type": "code",
   "execution_count": 48,
   "id": "5138cff3-76a0-4772-be8e-39d7900f3712",
   "metadata": {},
   "outputs": [
    {
     "data": {
      "text/html": [
       "<div>\n",
       "<style scoped>\n",
       "    .dataframe tbody tr th:only-of-type {\n",
       "        vertical-align: middle;\n",
       "    }\n",
       "\n",
       "    .dataframe tbody tr th {\n",
       "        vertical-align: top;\n",
       "    }\n",
       "\n",
       "    .dataframe thead th {\n",
       "        text-align: right;\n",
       "    }\n",
       "</style>\n",
       "<table border=\"1\" class=\"dataframe\">\n",
       "  <thead>\n",
       "    <tr style=\"text-align: right;\">\n",
       "      <th></th>\n",
       "      <th>cod_ca</th>\n",
       "      <th>COD COS</th>\n",
       "      <th>CAÑERO</th>\n",
       "      <th>TN COMPROMISO INDIVIDUAL</th>\n",
       "      <th>TN ENTREGA INDIVIDUAL</th>\n",
       "      <th>avance_porcen</th>\n",
       "    </tr>\n",
       "  </thead>\n",
       "  <tbody>\n",
       "    <tr>\n",
       "      <th>298</th>\n",
       "      <td>2045</td>\n",
       "      <td>108</td>\n",
       "      <td>COLQUE LIZARAZO ISABEL</td>\n",
       "      <td>2091.92</td>\n",
       "      <td>1201.96</td>\n",
       "      <td>57.457264</td>\n",
       "    </tr>\n",
       "  </tbody>\n",
       "</table>\n",
       "</div>"
      ],
      "text/plain": [
       "     cod_ca  COD COS                  CAÑERO  TN COMPROMISO INDIVIDUAL  \\\n",
       "298    2045      108  COLQUE LIZARAZO ISABEL                   2091.92   \n",
       "\n",
       "     TN ENTREGA INDIVIDUAL  avance_porcen  \n",
       "298                1201.96      57.457264  "
      ]
     },
     "execution_count": 48,
     "metadata": {},
     "output_type": "execute_result"
    }
   ],
   "source": [
    "# seleccion de grupo aguilera\n",
    "cod_co = 108\n",
    "# filtrado por codigo de cosecha\n",
    "grupo = data_avance[data_avance['COD COS'] == cod_co]\n",
    "# seleccion de columnas de interes\n",
    "grupo = grupo[['CODIGO CAÑERO ', 'COD COS', 'CAÑERO', 'TN COMPROMISO INDIVIDUAL', 'TN ENTREGA INDIVIDUAL']]\n",
    "# calculo de % de avance de entrega del grupo\n",
    "grupo['avance_porcen'] = (grupo['TN ENTREGA INDIVIDUAL'] / grupo['TN COMPROMISO INDIVIDUAL'])*100\n",
    "# cambio del nombre del campo codigo cañero\n",
    "grupo = grupo.rename(columns={'CODIGO CAÑERO ': 'cod_ca'})\n",
    "grupo"
   ]
  },
  {
   "cell_type": "code",
   "execution_count": 49,
   "id": "b07c34c1-5f3e-43e3-a8e1-05c9cae82362",
   "metadata": {},
   "outputs": [
    {
     "data": {
      "text/plain": [
       "[canero(cod_ca=2045, nom_ca='COLQUE LIZARAZO ISABEL', compromiso=2091.92, entrega=1201.96, porcen=57.45726414012008)]"
      ]
     },
     "execution_count": 49,
     "metadata": {},
     "output_type": "execute_result"
    }
   ],
   "source": [
    "list_obj_grupo = []\n",
    "for index, row in grupo.iterrows():\n",
    "    canero = {\n",
    "        'cod_ca' : row['cod_ca'],\n",
    "        'nom_ca' : row['CAÑERO'],\n",
    "        'compromiso' : row['TN COMPROMISO INDIVIDUAL'],\n",
    "        'entrega' : row['TN ENTREGA INDIVIDUAL'],\n",
    "        'porcen' : row['avance_porcen']\n",
    "    }\n",
    "    list_obj_grupo.append(collections.namedtuple(\"canero\", canero.keys())(*canero.values()))\n",
    "list_obj_grupo"
   ]
  },
  {
   "cell_type": "code",
   "execution_count": 50,
   "id": "2eaa7b18-b166-48f1-8fad-53567c79aec3",
   "metadata": {},
   "outputs": [
    {
     "data": {
      "text/plain": [
       "totales(compromiso=2091.92, entrega=1201.96, porcen=57.45726414012008)"
      ]
     },
     "execution_count": 50,
     "metadata": {},
     "output_type": "execute_result"
    }
   ],
   "source": [
    "# totales de tabla de entreas del grupo seleccionado\n",
    "grupo_totales = {\n",
    "    'compromiso':grupo['TN COMPROMISO INDIVIDUAL'].sum(),\n",
    "    'entrega':grupo['TN ENTREGA INDIVIDUAL'].sum(),\n",
    "    'porcen':grupo['TN ENTREGA INDIVIDUAL'].sum() / grupo['TN COMPROMISO INDIVIDUAL'].sum() * 100\n",
    "}\n",
    "grupo_totales\n",
    "obj_grupo_totales = collections.namedtuple(\"totales\", grupo_totales.keys())(*grupo_totales.values())\n",
    "obj_grupo_totales"
   ]
  },
  {
   "cell_type": "markdown",
   "id": "c2841e5b-725c-4e91-9491-b897a7b360e6",
   "metadata": {},
   "source": [
    "## AVANCE PROPIEDAD"
   ]
  },
  {
   "cell_type": "code",
   "execution_count": 51,
   "id": "2cc4984e-4ed2-4732-8a10-794a3646ac40",
   "metadata": {},
   "outputs": [],
   "source": [
    "xlsx_estimativas = pd.read_excel(file_xlsx_estimativa, sheet_name='ESTIMATIVA_PROPS')\n",
    "xlsx_estimativas = xlsx_estimativas.rename(columns={'CODIGO' : 'unidad_01'})"
   ]
  },
  {
   "cell_type": "code",
   "execution_count": 52,
   "id": "dcda8548-3c4a-4293-9af1-c2abf17f06b2",
   "metadata": {},
   "outputs": [
    {
     "data": {
      "text/plain": [
       "8"
      ]
     },
     "execution_count": 52,
     "metadata": {},
     "output_type": "execute_result"
    }
   ],
   "source": [
    "hoy = datetime.now()\n",
    "mes_actual = hoy.month\n",
    "mes_actual"
   ]
  },
  {
   "cell_type": "code",
   "execution_count": 53,
   "id": "3786a53f-7eb8-4e23-b23e-6ed6fd182f49",
   "metadata": {},
   "outputs": [
    {
     "ename": "ValueError",
     "evalue": "Wrong number of items passed 23, placement implies 1",
     "output_type": "error",
     "traceback": [
      "\u001b[1;31m---------------------------------------------------------------------------\u001b[0m",
      "\u001b[1;31mKeyError\u001b[0m                                  Traceback (most recent call last)",
      "\u001b[1;32m~\\.conda\\envs\\utea_reportes\\lib\\site-packages\\pandas\\core\\indexes\\base.py\u001b[0m in \u001b[0;36mget_loc\u001b[1;34m(self, key, method, tolerance)\u001b[0m\n\u001b[0;32m   3360\u001b[0m             \u001b[1;32mtry\u001b[0m\u001b[1;33m:\u001b[0m\u001b[1;33m\u001b[0m\u001b[1;33m\u001b[0m\u001b[0m\n\u001b[1;32m-> 3361\u001b[1;33m                 \u001b[1;32mreturn\u001b[0m \u001b[0mself\u001b[0m\u001b[1;33m.\u001b[0m\u001b[0m_engine\u001b[0m\u001b[1;33m.\u001b[0m\u001b[0mget_loc\u001b[0m\u001b[1;33m(\u001b[0m\u001b[0mcasted_key\u001b[0m\u001b[1;33m)\u001b[0m\u001b[1;33m\u001b[0m\u001b[1;33m\u001b[0m\u001b[0m\n\u001b[0m\u001b[0;32m   3362\u001b[0m             \u001b[1;32mexcept\u001b[0m \u001b[0mKeyError\u001b[0m \u001b[1;32mas\u001b[0m \u001b[0merr\u001b[0m\u001b[1;33m:\u001b[0m\u001b[1;33m\u001b[0m\u001b[1;33m\u001b[0m\u001b[0m\n",
      "\u001b[1;32m~\\.conda\\envs\\utea_reportes\\lib\\site-packages\\pandas\\_libs\\index.pyx\u001b[0m in \u001b[0;36mpandas._libs.index.IndexEngine.get_loc\u001b[1;34m()\u001b[0m\n",
      "\u001b[1;32m~\\.conda\\envs\\utea_reportes\\lib\\site-packages\\pandas\\_libs\\index.pyx\u001b[0m in \u001b[0;36mpandas._libs.index.IndexEngine.get_loc\u001b[1;34m()\u001b[0m\n",
      "\u001b[1;32mpandas\\_libs\\hashtable_class_helper.pxi\u001b[0m in \u001b[0;36mpandas._libs.hashtable.PyObjectHashTable.get_item\u001b[1;34m()\u001b[0m\n",
      "\u001b[1;32mpandas\\_libs\\hashtable_class_helper.pxi\u001b[0m in \u001b[0;36mpandas._libs.hashtable.PyObjectHashTable.get_item\u001b[1;34m()\u001b[0m\n",
      "\u001b[1;31mKeyError\u001b[0m: 'area_cosechada'",
      "\nThe above exception was the direct cause of the following exception:\n",
      "\u001b[1;31mKeyError\u001b[0m                                  Traceback (most recent call last)",
      "\u001b[1;32m~\\.conda\\envs\\utea_reportes\\lib\\site-packages\\pandas\\core\\frame.py\u001b[0m in \u001b[0;36m_set_item_mgr\u001b[1;34m(self, key, value)\u001b[0m\n\u001b[0;32m   3750\u001b[0m         \u001b[1;32mtry\u001b[0m\u001b[1;33m:\u001b[0m\u001b[1;33m\u001b[0m\u001b[1;33m\u001b[0m\u001b[0m\n\u001b[1;32m-> 3751\u001b[1;33m             \u001b[0mloc\u001b[0m \u001b[1;33m=\u001b[0m \u001b[0mself\u001b[0m\u001b[1;33m.\u001b[0m\u001b[0m_info_axis\u001b[0m\u001b[1;33m.\u001b[0m\u001b[0mget_loc\u001b[0m\u001b[1;33m(\u001b[0m\u001b[0mkey\u001b[0m\u001b[1;33m)\u001b[0m\u001b[1;33m\u001b[0m\u001b[1;33m\u001b[0m\u001b[0m\n\u001b[0m\u001b[0;32m   3752\u001b[0m         \u001b[1;32mexcept\u001b[0m \u001b[0mKeyError\u001b[0m\u001b[1;33m:\u001b[0m\u001b[1;33m\u001b[0m\u001b[1;33m\u001b[0m\u001b[0m\n",
      "\u001b[1;32m~\\.conda\\envs\\utea_reportes\\lib\\site-packages\\pandas\\core\\indexes\\base.py\u001b[0m in \u001b[0;36mget_loc\u001b[1;34m(self, key, method, tolerance)\u001b[0m\n\u001b[0;32m   3362\u001b[0m             \u001b[1;32mexcept\u001b[0m \u001b[0mKeyError\u001b[0m \u001b[1;32mas\u001b[0m \u001b[0merr\u001b[0m\u001b[1;33m:\u001b[0m\u001b[1;33m\u001b[0m\u001b[1;33m\u001b[0m\u001b[0m\n\u001b[1;32m-> 3363\u001b[1;33m                 \u001b[1;32mraise\u001b[0m \u001b[0mKeyError\u001b[0m\u001b[1;33m(\u001b[0m\u001b[0mkey\u001b[0m\u001b[1;33m)\u001b[0m \u001b[1;32mfrom\u001b[0m \u001b[0merr\u001b[0m\u001b[1;33m\u001b[0m\u001b[1;33m\u001b[0m\u001b[0m\n\u001b[0m\u001b[0;32m   3364\u001b[0m \u001b[1;33m\u001b[0m\u001b[0m\n",
      "\u001b[1;31mKeyError\u001b[0m: 'area_cosechada'",
      "\nDuring handling of the above exception, another exception occurred:\n",
      "\u001b[1;31mValueError\u001b[0m                                Traceback (most recent call last)",
      "\u001b[1;32m~\\AppData\\Local\\Temp/ipykernel_13420/3674866917.py\u001b[0m in \u001b[0;36m<module>\u001b[1;34m\u001b[0m\n\u001b[0;32m      4\u001b[0m \u001b[0mcatastro_merge\u001b[0m \u001b[1;33m=\u001b[0m \u001b[0mpd\u001b[0m\u001b[1;33m.\u001b[0m\u001b[0mmerge\u001b[0m\u001b[1;33m(\u001b[0m\u001b[0mgrupo\u001b[0m\u001b[1;33m,\u001b[0m \u001b[0mcatastro_avance\u001b[0m\u001b[1;33m,\u001b[0m \u001b[0mon\u001b[0m\u001b[1;33m=\u001b[0m\u001b[1;34m'cod_ca'\u001b[0m\u001b[1;33m)\u001b[0m\u001b[1;33m\u001b[0m\u001b[1;33m\u001b[0m\u001b[0m\n\u001b[0;32m      5\u001b[0m \u001b[1;31m# crea nueva columna \"area_cosecha\", se almacena en area si el campo estado=\"cosechado\"\u001b[0m\u001b[1;33m\u001b[0m\u001b[1;33m\u001b[0m\u001b[1;33m\u001b[0m\u001b[0m\n\u001b[1;32m----> 6\u001b[1;33m \u001b[0mcatastro_merge\u001b[0m\u001b[1;33m[\u001b[0m\u001b[1;34m'area_cosechada'\u001b[0m\u001b[1;33m]\u001b[0m \u001b[1;33m=\u001b[0m \u001b[0mcatastro_merge\u001b[0m\u001b[1;33m.\u001b[0m\u001b[0mapply\u001b[0m\u001b[1;33m(\u001b[0m\u001b[1;32mlambda\u001b[0m \u001b[0mrow\u001b[0m \u001b[1;33m:\u001b[0m \u001b[0mrow\u001b[0m\u001b[1;33m[\u001b[0m\u001b[1;34m'area'\u001b[0m\u001b[1;33m]\u001b[0m \u001b[1;32mif\u001b[0m \u001b[0mrow\u001b[0m\u001b[1;33m[\u001b[0m\u001b[1;34m'estado'\u001b[0m\u001b[1;33m]\u001b[0m \u001b[1;33m==\u001b[0m \u001b[1;34m'cosechado'\u001b[0m \u001b[1;32melse\u001b[0m \u001b[1;36m0\u001b[0m\u001b[1;33m,\u001b[0m \u001b[0maxis\u001b[0m\u001b[1;33m=\u001b[0m\u001b[1;36m1\u001b[0m\u001b[1;33m)\u001b[0m\u001b[1;33m\u001b[0m\u001b[1;33m\u001b[0m\u001b[0m\n\u001b[0m\u001b[0;32m      7\u001b[0m \u001b[1;31m# calculo de area cosechada en el mes actual\u001b[0m\u001b[1;33m\u001b[0m\u001b[1;33m\u001b[0m\u001b[1;33m\u001b[0m\u001b[0m\n\u001b[0;32m      8\u001b[0m \u001b[0mcatastro_merge\u001b[0m\u001b[1;33m[\u001b[0m\u001b[1;34m'avance_mes'\u001b[0m\u001b[1;33m]\u001b[0m \u001b[1;33m=\u001b[0m \u001b[0mcatastro_merge\u001b[0m\u001b[1;33m.\u001b[0m\u001b[0mapply\u001b[0m\u001b[1;33m(\u001b[0m\u001b[1;32mlambda\u001b[0m \u001b[0mrow\u001b[0m \u001b[1;33m:\u001b[0m \u001b[0mrow\u001b[0m\u001b[1;33m[\u001b[0m\u001b[1;34m'area'\u001b[0m\u001b[1;33m]\u001b[0m \u001b[1;32mif\u001b[0m \u001b[0mrow\u001b[0m\u001b[1;33m[\u001b[0m\u001b[1;34m'fc'\u001b[0m\u001b[1;33m]\u001b[0m\u001b[1;33m!=\u001b[0m\u001b[1;32mNone\u001b[0m \u001b[1;32mand\u001b[0m \u001b[0mrow\u001b[0m\u001b[1;33m[\u001b[0m\u001b[1;34m'fc'\u001b[0m\u001b[1;33m]\u001b[0m\u001b[1;33m.\u001b[0m\u001b[0msplit\u001b[0m\u001b[1;33m(\u001b[0m\u001b[1;34m'-'\u001b[0m\u001b[1;33m)\u001b[0m\u001b[1;33m[\u001b[0m\u001b[1;36m1\u001b[0m\u001b[1;33m]\u001b[0m \u001b[1;33m==\u001b[0m \u001b[0mstr\u001b[0m\u001b[1;33m(\u001b[0m\u001b[0mmes_actual\u001b[0m\u001b[1;33m)\u001b[0m \u001b[1;32melse\u001b[0m \u001b[1;36m0\u001b[0m\u001b[1;33m,\u001b[0m \u001b[0maxis\u001b[0m\u001b[1;33m=\u001b[0m\u001b[1;36m1\u001b[0m\u001b[1;33m)\u001b[0m\u001b[1;33m\u001b[0m\u001b[1;33m\u001b[0m\u001b[0m\n",
      "\u001b[1;32m~\\.conda\\envs\\utea_reportes\\lib\\site-packages\\pandas\\core\\frame.py\u001b[0m in \u001b[0;36m__setitem__\u001b[1;34m(self, key, value)\u001b[0m\n\u001b[0;32m   3600\u001b[0m             \u001b[0mself\u001b[0m\u001b[1;33m.\u001b[0m\u001b[0m_setitem_array\u001b[0m\u001b[1;33m(\u001b[0m\u001b[0mkey\u001b[0m\u001b[1;33m,\u001b[0m \u001b[0mvalue\u001b[0m\u001b[1;33m)\u001b[0m\u001b[1;33m\u001b[0m\u001b[1;33m\u001b[0m\u001b[0m\n\u001b[0;32m   3601\u001b[0m         \u001b[1;32melif\u001b[0m \u001b[0misinstance\u001b[0m\u001b[1;33m(\u001b[0m\u001b[0mvalue\u001b[0m\u001b[1;33m,\u001b[0m \u001b[0mDataFrame\u001b[0m\u001b[1;33m)\u001b[0m\u001b[1;33m:\u001b[0m\u001b[1;33m\u001b[0m\u001b[1;33m\u001b[0m\u001b[0m\n\u001b[1;32m-> 3602\u001b[1;33m             \u001b[0mself\u001b[0m\u001b[1;33m.\u001b[0m\u001b[0m_set_item_frame_value\u001b[0m\u001b[1;33m(\u001b[0m\u001b[0mkey\u001b[0m\u001b[1;33m,\u001b[0m \u001b[0mvalue\u001b[0m\u001b[1;33m)\u001b[0m\u001b[1;33m\u001b[0m\u001b[1;33m\u001b[0m\u001b[0m\n\u001b[0m\u001b[0;32m   3603\u001b[0m         elif (\n\u001b[0;32m   3604\u001b[0m             \u001b[0mis_list_like\u001b[0m\u001b[1;33m(\u001b[0m\u001b[0mvalue\u001b[0m\u001b[1;33m)\u001b[0m\u001b[1;33m\u001b[0m\u001b[1;33m\u001b[0m\u001b[0m\n",
      "\u001b[1;32m~\\.conda\\envs\\utea_reportes\\lib\\site-packages\\pandas\\core\\frame.py\u001b[0m in \u001b[0;36m_set_item_frame_value\u001b[1;34m(self, key, value)\u001b[0m\n\u001b[0;32m   3740\u001b[0m         \u001b[1;31m# now align rows\u001b[0m\u001b[1;33m\u001b[0m\u001b[1;33m\u001b[0m\u001b[1;33m\u001b[0m\u001b[0m\n\u001b[0;32m   3741\u001b[0m         \u001b[0marraylike\u001b[0m \u001b[1;33m=\u001b[0m \u001b[0m_reindex_for_setitem\u001b[0m\u001b[1;33m(\u001b[0m\u001b[0mvalue\u001b[0m\u001b[1;33m,\u001b[0m \u001b[0mself\u001b[0m\u001b[1;33m.\u001b[0m\u001b[0mindex\u001b[0m\u001b[1;33m)\u001b[0m\u001b[1;33m\u001b[0m\u001b[1;33m\u001b[0m\u001b[0m\n\u001b[1;32m-> 3742\u001b[1;33m         \u001b[0mself\u001b[0m\u001b[1;33m.\u001b[0m\u001b[0m_set_item_mgr\u001b[0m\u001b[1;33m(\u001b[0m\u001b[0mkey\u001b[0m\u001b[1;33m,\u001b[0m \u001b[0marraylike\u001b[0m\u001b[1;33m)\u001b[0m\u001b[1;33m\u001b[0m\u001b[1;33m\u001b[0m\u001b[0m\n\u001b[0m\u001b[0;32m   3743\u001b[0m \u001b[1;33m\u001b[0m\u001b[0m\n\u001b[0;32m   3744\u001b[0m     \u001b[1;32mdef\u001b[0m \u001b[0m_iset_item_mgr\u001b[0m\u001b[1;33m(\u001b[0m\u001b[0mself\u001b[0m\u001b[1;33m,\u001b[0m \u001b[0mloc\u001b[0m\u001b[1;33m:\u001b[0m \u001b[0mint\u001b[0m \u001b[1;33m|\u001b[0m \u001b[0mslice\u001b[0m \u001b[1;33m|\u001b[0m \u001b[0mnp\u001b[0m\u001b[1;33m.\u001b[0m\u001b[0mndarray\u001b[0m\u001b[1;33m,\u001b[0m \u001b[0mvalue\u001b[0m\u001b[1;33m)\u001b[0m \u001b[1;33m->\u001b[0m \u001b[1;32mNone\u001b[0m\u001b[1;33m:\u001b[0m\u001b[1;33m\u001b[0m\u001b[1;33m\u001b[0m\u001b[0m\n",
      "\u001b[1;32m~\\.conda\\envs\\utea_reportes\\lib\\site-packages\\pandas\\core\\frame.py\u001b[0m in \u001b[0;36m_set_item_mgr\u001b[1;34m(self, key, value)\u001b[0m\n\u001b[0;32m   3752\u001b[0m         \u001b[1;32mexcept\u001b[0m \u001b[0mKeyError\u001b[0m\u001b[1;33m:\u001b[0m\u001b[1;33m\u001b[0m\u001b[1;33m\u001b[0m\u001b[0m\n\u001b[0;32m   3753\u001b[0m             \u001b[1;31m# This item wasn't present, just insert at end\u001b[0m\u001b[1;33m\u001b[0m\u001b[1;33m\u001b[0m\u001b[1;33m\u001b[0m\u001b[0m\n\u001b[1;32m-> 3754\u001b[1;33m             \u001b[0mself\u001b[0m\u001b[1;33m.\u001b[0m\u001b[0m_mgr\u001b[0m\u001b[1;33m.\u001b[0m\u001b[0minsert\u001b[0m\u001b[1;33m(\u001b[0m\u001b[0mlen\u001b[0m\u001b[1;33m(\u001b[0m\u001b[0mself\u001b[0m\u001b[1;33m.\u001b[0m\u001b[0m_info_axis\u001b[0m\u001b[1;33m)\u001b[0m\u001b[1;33m,\u001b[0m \u001b[0mkey\u001b[0m\u001b[1;33m,\u001b[0m \u001b[0mvalue\u001b[0m\u001b[1;33m)\u001b[0m\u001b[1;33m\u001b[0m\u001b[1;33m\u001b[0m\u001b[0m\n\u001b[0m\u001b[0;32m   3755\u001b[0m         \u001b[1;32melse\u001b[0m\u001b[1;33m:\u001b[0m\u001b[1;33m\u001b[0m\u001b[1;33m\u001b[0m\u001b[0m\n\u001b[0;32m   3756\u001b[0m             \u001b[0mself\u001b[0m\u001b[1;33m.\u001b[0m\u001b[0m_iset_item_mgr\u001b[0m\u001b[1;33m(\u001b[0m\u001b[0mloc\u001b[0m\u001b[1;33m,\u001b[0m \u001b[0mvalue\u001b[0m\u001b[1;33m)\u001b[0m\u001b[1;33m\u001b[0m\u001b[1;33m\u001b[0m\u001b[0m\n",
      "\u001b[1;32m~\\.conda\\envs\\utea_reportes\\lib\\site-packages\\pandas\\core\\internals\\managers.py\u001b[0m in \u001b[0;36minsert\u001b[1;34m(self, loc, item, value)\u001b[0m\n\u001b[0;32m   1160\u001b[0m             \u001b[0mvalue\u001b[0m \u001b[1;33m=\u001b[0m \u001b[0mensure_block_shape\u001b[0m\u001b[1;33m(\u001b[0m\u001b[0mvalue\u001b[0m\u001b[1;33m,\u001b[0m \u001b[0mndim\u001b[0m\u001b[1;33m=\u001b[0m\u001b[0mself\u001b[0m\u001b[1;33m.\u001b[0m\u001b[0mndim\u001b[0m\u001b[1;33m)\u001b[0m\u001b[1;33m\u001b[0m\u001b[1;33m\u001b[0m\u001b[0m\n\u001b[0;32m   1161\u001b[0m \u001b[1;33m\u001b[0m\u001b[0m\n\u001b[1;32m-> 1162\u001b[1;33m         \u001b[0mblock\u001b[0m \u001b[1;33m=\u001b[0m \u001b[0mnew_block\u001b[0m\u001b[1;33m(\u001b[0m\u001b[0mvalues\u001b[0m\u001b[1;33m=\u001b[0m\u001b[0mvalue\u001b[0m\u001b[1;33m,\u001b[0m \u001b[0mndim\u001b[0m\u001b[1;33m=\u001b[0m\u001b[0mself\u001b[0m\u001b[1;33m.\u001b[0m\u001b[0mndim\u001b[0m\u001b[1;33m,\u001b[0m \u001b[0mplacement\u001b[0m\u001b[1;33m=\u001b[0m\u001b[0mslice\u001b[0m\u001b[1;33m(\u001b[0m\u001b[0mloc\u001b[0m\u001b[1;33m,\u001b[0m \u001b[0mloc\u001b[0m \u001b[1;33m+\u001b[0m \u001b[1;36m1\u001b[0m\u001b[1;33m)\u001b[0m\u001b[1;33m)\u001b[0m\u001b[1;33m\u001b[0m\u001b[1;33m\u001b[0m\u001b[0m\n\u001b[0m\u001b[0;32m   1163\u001b[0m \u001b[1;33m\u001b[0m\u001b[0m\n\u001b[0;32m   1164\u001b[0m         \u001b[1;32mfor\u001b[0m \u001b[0mblkno\u001b[0m\u001b[1;33m,\u001b[0m \u001b[0mcount\u001b[0m \u001b[1;32min\u001b[0m \u001b[0m_fast_count_smallints\u001b[0m\u001b[1;33m(\u001b[0m\u001b[0mself\u001b[0m\u001b[1;33m.\u001b[0m\u001b[0mblknos\u001b[0m\u001b[1;33m[\u001b[0m\u001b[0mloc\u001b[0m\u001b[1;33m:\u001b[0m\u001b[1;33m]\u001b[0m\u001b[1;33m)\u001b[0m\u001b[1;33m:\u001b[0m\u001b[1;33m\u001b[0m\u001b[1;33m\u001b[0m\u001b[0m\n",
      "\u001b[1;32m~\\.conda\\envs\\utea_reportes\\lib\\site-packages\\pandas\\core\\internals\\blocks.py\u001b[0m in \u001b[0;36mnew_block\u001b[1;34m(values, placement, ndim, klass)\u001b[0m\n\u001b[0;32m   1930\u001b[0m \u001b[1;33m\u001b[0m\u001b[0m\n\u001b[0;32m   1931\u001b[0m     \u001b[0mvalues\u001b[0m\u001b[1;33m,\u001b[0m \u001b[0m_\u001b[0m \u001b[1;33m=\u001b[0m \u001b[0mextract_pandas_array\u001b[0m\u001b[1;33m(\u001b[0m\u001b[0mvalues\u001b[0m\u001b[1;33m,\u001b[0m \u001b[1;32mNone\u001b[0m\u001b[1;33m,\u001b[0m \u001b[0mndim\u001b[0m\u001b[1;33m)\u001b[0m\u001b[1;33m\u001b[0m\u001b[1;33m\u001b[0m\u001b[0m\n\u001b[1;32m-> 1932\u001b[1;33m     \u001b[0mcheck_ndim\u001b[0m\u001b[1;33m(\u001b[0m\u001b[0mvalues\u001b[0m\u001b[1;33m,\u001b[0m \u001b[0mplacement\u001b[0m\u001b[1;33m,\u001b[0m \u001b[0mndim\u001b[0m\u001b[1;33m)\u001b[0m\u001b[1;33m\u001b[0m\u001b[1;33m\u001b[0m\u001b[0m\n\u001b[0m\u001b[0;32m   1933\u001b[0m \u001b[1;33m\u001b[0m\u001b[0m\n\u001b[0;32m   1934\u001b[0m     \u001b[1;32mif\u001b[0m \u001b[0mklass\u001b[0m \u001b[1;32mis\u001b[0m \u001b[1;32mNone\u001b[0m\u001b[1;33m:\u001b[0m\u001b[1;33m\u001b[0m\u001b[1;33m\u001b[0m\u001b[0m\n",
      "\u001b[1;32m~\\.conda\\envs\\utea_reportes\\lib\\site-packages\\pandas\\core\\internals\\blocks.py\u001b[0m in \u001b[0;36mcheck_ndim\u001b[1;34m(values, placement, ndim)\u001b[0m\n\u001b[0;32m   1973\u001b[0m         \u001b[1;32mif\u001b[0m \u001b[0mlen\u001b[0m\u001b[1;33m(\u001b[0m\u001b[0mplacement\u001b[0m\u001b[1;33m)\u001b[0m \u001b[1;33m!=\u001b[0m \u001b[0mlen\u001b[0m\u001b[1;33m(\u001b[0m\u001b[0mvalues\u001b[0m\u001b[1;33m)\u001b[0m\u001b[1;33m:\u001b[0m\u001b[1;33m\u001b[0m\u001b[1;33m\u001b[0m\u001b[0m\n\u001b[0;32m   1974\u001b[0m             raise ValueError(\n\u001b[1;32m-> 1975\u001b[1;33m                 \u001b[1;34mf\"Wrong number of items passed {len(values)}, \"\u001b[0m\u001b[1;33m\u001b[0m\u001b[1;33m\u001b[0m\u001b[0m\n\u001b[0m\u001b[0;32m   1976\u001b[0m                 \u001b[1;34mf\"placement implies {len(placement)}\"\u001b[0m\u001b[1;33m\u001b[0m\u001b[1;33m\u001b[0m\u001b[0m\n\u001b[0;32m   1977\u001b[0m             )\n",
      "\u001b[1;31mValueError\u001b[0m: Wrong number of items passed 23, placement implies 1"
     ]
    }
   ],
   "source": [
    "# cambio de nombre de columna para hacer merge con la tabla de grupo\n",
    "catastro_avance = catastro_avance.rename(columns={'unidad_03':'cod_ca'})\n",
    "# merge \n",
    "catastro_merge = pd.merge(grupo, catastro_avance, on='cod_ca')\n",
    "# crea nueva columna \"area_cosecha\", se almacena en area si el campo estado=\"cosechado\"\n",
    "catastro_merge['area_cosechada'] = catastro_merge.apply(lambda row : row['area'] if row['estado'] == 'cosechado' else 0, axis=1)\n",
    "# calculo de area cosechada en el mes actual\n",
    "catastro_merge['avance_mes'] = catastro_merge.apply(lambda row : row['area'] if row['fc']!=None and row['fc'].split('-')[1] == str(mes_actual) else 0, axis=1)\n",
    "# agrupacion de datos por pripiedad, resumiendo por area, area_cosechada, avance_mes\n",
    "propiedades = catastro_merge.groupby(['unidad_01', 'unidad_02'])[['area', 'area_cosechada', 'avance_mes']].sum()\n",
    "# reseteo de index\n",
    "propiedades = propiedades.reset_index()\n",
    "# calculo de % de avance de cosecha\n",
    "propiedades['%avance'] = propiedades['area_cosechada'] / propiedades['area'] * 100\n",
    "# merge con las estimativas de produccion de cada propiedad\n",
    "propiedades = pd.merge(propiedades, xlsx_estimativas, on='unidad_01')\n",
    "# seleccion de columnas de interes\n",
    "propiedad = propiedades[['unidad_01', 'unidad_02', 'area', 'area_cosechada', '%avance', 'PRODUCCION']]\n",
    "propiedad"
   ]
  },
  {
   "cell_type": "code",
   "execution_count": 37,
   "id": "0572cfd3-5b1a-47d1-a12b-df01adb337b2",
   "metadata": {},
   "outputs": [
    {
     "data": {
      "text/plain": [
       "[propiedad(cod_prop=216, nom_prop='LA_ESTACADA--AGUILERA', area=225.34, area_cosechada=189.72, avance_porcen=84.19277536167569, produccion=15287.860465384705),\n",
       " propiedad(cod_prop=217, nom_prop='FLAMBOYAN--AGUILERA', area=207.45999999999998, area_cosechada=23.41, avance_porcen=11.284102959606672, produccion=14105.979992834908),\n",
       " propiedad(cod_prop=256, nom_prop='LOS_ANDES--AGUILERA', area=423.24, area_cosechada=218.45, avance_porcen=51.61374161232397, produccion=33770.21854870834)]"
      ]
     },
     "execution_count": 37,
     "metadata": {},
     "output_type": "execute_result"
    }
   ],
   "source": [
    "list_obj_props = []\n",
    "for index, row in propiedad.iterrows():\n",
    "    prop = {\n",
    "        'cod_prop' : row['unidad_01'],\n",
    "        'nom_prop' : row['unidad_02'],\n",
    "        'area' : row['area'],\n",
    "        'area_cosechada' : row['area_cosechada'],\n",
    "        'avance_porcen' : row['%avance'],\n",
    "        'produccion' : row['PRODUCCION']\n",
    "    }\n",
    "    list_obj_props.append(collections.namedtuple(\"propiedad\", prop.keys())(*prop.values()))\n",
    "list_obj_props"
   ]
  },
  {
   "cell_type": "code",
   "execution_count": 38,
   "id": "b1a23d3d-3059-4bd3-be4d-a6b7cfbf6e37",
   "metadata": {},
   "outputs": [
    {
     "data": {
      "text/plain": [
       "total(area=856.04, area_cosechada=431.58, avance_mes=0, avance_porcen=50.415868417363676, produccion=63164.05900692796)"
      ]
     },
     "execution_count": 38,
     "metadata": {},
     "output_type": "execute_result"
    }
   ],
   "source": [
    "# totales de tabla por columna\n",
    "propiedades_totales = {\n",
    "    'area':propiedades['area'].sum(),\n",
    "    'area_cosechada':propiedades['area_cosechada'].sum(),\n",
    "    'avance_mes':propiedades['avance_mes'].sum(),\n",
    "    'avance_porcen':propiedades['area_cosechada'].sum() / propiedades['area'].sum() * 100,\n",
    "    'produccion' : propiedad['PRODUCCION'].sum()\n",
    "}\n",
    "propiedades_totales\n",
    "obj_props_totales = collections.namedtuple(\"total\", propiedades_totales.keys())(*propiedades_totales.values())\n",
    "obj_props_totales"
   ]
  },
  {
   "cell_type": "markdown",
   "id": "29fa89e8-95af-4aa6-86ff-0a81773ff77c",
   "metadata": {
    "tags": []
   },
   "source": [
    "# AVANCE POR VARIEDAD"
   ]
  },
  {
   "cell_type": "code",
   "execution_count": 39,
   "id": "2cc83af3-8c35-4f67-a75d-7a39e3259ed2",
   "metadata": {},
   "outputs": [
    {
     "data": {
      "text/plain": [
       "[propiedad(prop='LA_ESTACADA--AGUILERA', totales=totales(total_cosechado=189.72, total_area=225.33999999999997, total_porcen=84.1927753616757), variedades=[variedad(var='UCG_90-20', area_cosecha=96.41, area=104.64, porcen_avan=92.13493883792049), variedad(var='RB-2', area_cosecha=64.6, area=69.25, porcen_avan=93.28519855595667), variedad(var='CITTCA_85-22', area_cosecha=28.71, area=32.47, porcen_avan=88.42008007391439), variedad(var='SP_83-5073', area_cosecha=0.0, area=18.98, porcen_avan=0.0)]),\n",
       " propiedad(prop='LOS_ANDES--AGUILERA', totales=totales(total_cosechado=218.45000000000002, total_area=423.24, total_porcen=51.613741612323984), variedades=[variedad(var='UCG_90-20', area_cosecha=142.33, area=279.63, porcen_avan=50.89940278224797), variedad(var='CITTCA_85-22', area_cosecha=48.77, area=60.370000000000005, porcen_avan=80.78515819115455), variedad(var='SP_83-5073', area_cosecha=14.22, area=21.85, porcen_avan=65.08009153318078), variedad(var='RB-2', area_cosecha=11.450000000000001, area=30.63, porcen_avan=37.38165197518773), variedad(var='RB-4', area_cosecha=1.68, area=4.25, porcen_avan=39.52941176470588), variedad(var='CITTCA-0563', area_cosecha=0.0, area=15.510000000000002, porcen_avan=0.0), variedad(var='RBB_77-26', area_cosecha=0.0, area=11.0, porcen_avan=0.0)]),\n",
       " propiedad(prop='FLAMBOYAN--AGUILERA', totales=totales(total_cosechado=23.41, total_area=207.45999999999998, total_porcen=11.284102959606672), variedades=[variedad(var='CITTCA_85-22', area_cosecha=23.41, area=46.59, porcen_avan=50.2468340845675), variedad(var='RB-2', area_cosecha=0.0, area=35.26, porcen_avan=0.0), variedad(var='RBB_77-26', area_cosecha=0.0, area=2.03, porcen_avan=0.0), variedad(var='SP_83-5073', area_cosecha=0.0, area=40.72, porcen_avan=0.0), variedad(var='UCG_90-20', area_cosecha=0.0, area=82.86, porcen_avan=0.0)])]"
      ]
     },
     "execution_count": 39,
     "metadata": {},
     "output_type": "execute_result"
    }
   ],
   "source": [
    "# merge \n",
    "catastro_merge_2 = pd.merge(grupo, catastro_avance, on='cod_ca')\n",
    "# crea nueva columna \"area_cosecha\", se almacena en area si el campo estado=\"cosechado\"\n",
    "catastro_merge_2['area_cosechada'] = catastro_merge_2.apply(lambda row : row['area'] if row['estado'] == 'cosechado' else 0, axis=1)\n",
    "# extraer valores unicos en el campo unidad_02\n",
    "nom_props = list(set(catastro_merge_2['unidad_02']))\n",
    "# lista de objetos para almacenar una lista de propiedades\n",
    "list_obj_props_var = []\n",
    "for prop in nom_props:\n",
    "    # dict para almacenar una propiedad en concreto y su avance por variedad\n",
    "    data_obj_props = {}\n",
    "    data_obj_props['prop'] = prop\n",
    "    # selecciona todos los datos de una priedad en concreto segun en nombre en el campo unidad_02\n",
    "    avance_variedad = catastro_merge_2[catastro_merge_2['unidad_02']==prop]\n",
    "    # agrupa los datos segun variedad\n",
    "    avance_variedad = avance_variedad.groupby(['variedad'])[['area_cosechada', 'area']].sum()\n",
    "    # reinicia el index de dataframe\n",
    "    avance_variedad = avance_variedad.reset_index()\n",
    "    # ordemar por area cosechadad\n",
    "    avance_variedad = avance_variedad.sort_values(['area_cosechada'], ascending=False)\n",
    "    # calculo de porcentaje de avance\n",
    "    avance_variedad['porcen_avan'] = avance_variedad.apply(lambda row : row['area_cosechada']/row['area'] *100, axis=1)\n",
    "    # suma de totales\n",
    "    totales_variedad = {\n",
    "        'total_cosechado' : avance_variedad['area_cosechada'].sum(),\n",
    "        'total_area' : avance_variedad['area'].sum(),\n",
    "        'total_porcen' : avance_variedad['area_cosechada'].sum() / avance_variedad['area'].sum() * 100\n",
    "    }\n",
    "    # add totales a dict de datos de la prop\n",
    "    data_obj_props['totales'] = collections.namedtuple(\"totales\", totales_variedad.keys())(*totales_variedad.values())\n",
    "    \n",
    "    # objeto para almacenar las variedades\n",
    "    list_obj_vars = []\n",
    "    # recorres el dataframe de avande por variedad para convertir en obj cada fila\n",
    "    for index, row in avance_variedad.iterrows():\n",
    "        var = {\n",
    "            'var':row['variedad'],\n",
    "            'area_cosecha':row['area_cosechada'],\n",
    "            'area':row['area'],\n",
    "            'porcen_avan':row['porcen_avan']\n",
    "        }\n",
    "        list_obj_vars.append(collections.namedtuple(\"variedad\", var.keys())(*var.values()))\n",
    "    data_obj_props['variedades'] = list_obj_vars\n",
    "    list_obj_props_var.append(collections.namedtuple(\"propiedad\", data_obj_props.keys())(*data_obj_props.values()))\n",
    "list_obj_props_var"
   ]
  },
  {
   "cell_type": "markdown",
   "id": "18eca1b3-d9c1-4956-9a19-6c1156c91a86",
   "metadata": {
    "tags": []
   },
   "source": [
    "# AVANCE POR CORTE"
   ]
  },
  {
   "cell_type": "code",
   "execution_count": null,
   "id": "9ff2fd75-8838-4ade-929a-4b3c7e4dc27c",
   "metadata": {},
   "outputs": [],
   "source": [
    "# merge \n",
    "catastro_merge_3 = pd.merge(grupo, catastro_avance, on='cod_ca')\n",
    "# crea nueva columna \"area_cosecha\", se almacena en area si el campo estado=\"cosechado\"\n",
    "catastro_merge_3['area_cosechada'] = catastro_merge_3.apply(lambda row : row['area'] if row['estado'] == 'cosechado' else 0, axis=1)\n",
    "# extraer valores unicos en el campo unidad_02\n",
    "nom_props = list(set(catastro_merge_3['unidad_02']))\n",
    "# lista de objetos para almacenar una lista de propiedades\n",
    "list_obj_props_soca = []\n",
    "for prop in nom_props:\n",
    "    # dict para almacenar una propiedad en concreto y su avance por variedad\n",
    "    data_obj_props = {}\n",
    "    data_obj_props['prop'] = prop\n",
    "    avance_corte = catastro_merge_3[catastro_merge_3['unidad_02']==prop]\n",
    "    #avance_corte['soca'] = avance_corte['soca'].astype(int)\n",
    "    suma_area = avance_corte.loc[avance_corte['soca'] >= 10, 'area'].sum()\n",
    "    if (suma_area > 0):\n",
    "        suma_area_cosechada = avance_corte.loc[avance_corte['soca'] >= 10, 'area_cosechada'].sum()\n",
    "        avance_corte= avance_corte[avance_corte['soca'] < 10]\n",
    "        avance_corte['soca'] = avance_corte['soca'].astype(str)\n",
    "        new_reg = {'soca': '>10', 'area': suma_area, 'area_cosechada': suma_area_cosechada}\n",
    "        avance_corte = avance_corte.append(new_reg, ignore_index=True)\n",
    "    else:\n",
    "        avance_corte['soca'] = avance_corte['soca'].astype(str)\n",
    "    #agrupacion de datos por propiedad, resumiendo por area, area_cosechada, avance_mes\n",
    "    avance_corte = avance_corte.groupby(['soca'])[['area_cosechada', 'area']].sum()\n",
    "    # reseteo de index\n",
    "    avance_corte = avance_corte.reset_index()\n",
    "    # ordemar por soca\n",
    "    avance_corte = avance_corte.sort_values(['soca'])\n",
    "    # calculo de porcentaje de avance\n",
    "    avance_corte['porcen_avan'] = avance_corte.apply(lambda row : row['area_cosechada']/row['area'] *100, axis=1)\n",
    "    \n",
    "    \n",
    "    list_obj_soca = []\n",
    "    # recorres el dataframe de avance por soca para convertir en obj cada fila\n",
    "    for index, row in avance_corte.iterrows():\n",
    "        soca = {\n",
    "            'soca': row['soca'],\n",
    "            'area_cosecha':row['area_cosechada'],\n",
    "            'area':row['area'],\n",
    "            'porcen_avan':row['porcen_avan']\n",
    "        }\n",
    "        list_obj_soca.append(collections.namedtuple(\"soca\", soca.keys())(*soca.values()))\n",
    "    data_obj_props['socas'] = list_obj_soca\n",
    "    list_obj_props_soca.append(collections.namedtuple(\"propiedad\", data_obj_props.keys())(*data_obj_props.values()))\n",
    "list_obj_props_soca"
   ]
  },
  {
   "cell_type": "markdown",
   "id": "abe90405-cac9-465d-b421-79f8a7f19e8a",
   "metadata": {
    "tags": []
   },
   "source": [
    "## TABLA AVANCE GENERAL"
   ]
  },
  {
   "cell_type": "code",
   "execution_count": 42,
   "id": "529edb12-e72b-47f9-a4c4-f0ec96cb3473",
   "metadata": {},
   "outputs": [],
   "source": [
    "fecha_anterior = datetime(2023, 5, 5)\n",
    "fecha_actual = datetime.now()\n",
    "dias_zafra = (fecha_actual - fecha_anterior).days"
   ]
  },
  {
   "cell_type": "code",
   "execution_count": 43,
   "id": "48d16f8d-bef4-4782-ada1-39aeab45fbf2",
   "metadata": {},
   "outputs": [],
   "source": []
  },
  {
   "cell_type": "code",
   "execution_count": 44,
   "id": "fc0e22d9-b8cc-43c3-aef5-1b6a52f9287b",
   "metadata": {},
   "outputs": [
    {
     "data": {
      "text/plain": [
       "avance_gral(avance_area_porcen=50.415868417363676, avance_tn_porcen=63.15688378601054, tiempo_porcen=52.046783625730995, area_requerida=445.5412865497076, cumplimiento_area_porcen=96.86644381313695, tn_requeridas=32874.86112056484, cumplimiento_tn_porcen=125.82118552015744)"
      ]
     },
     "execution_count": 44,
     "metadata": {},
     "output_type": "execute_result"
    }
   ],
   "source": [
    "totales_avance_gral = {\n",
    "    'avance_area_porcen' : propiedades_totales['avance_porcen'],\n",
    "    'avance_tn_porcen' : grupo_totales['porcen'],\n",
    "    'tiempo_porcen' : (dias_zafra / 171) * 100,\n",
    "    'area_requerida' : propiedades_totales['area'] * (dias_zafra / 171),\n",
    "    'cumplimiento_area_porcen' : propiedades_totales['area_cosechada']/(propiedades_totales['area'] * (dias_zafra / 171)) * 100,\n",
    "    'tn_requeridas' : (propiedades_totales['produccion'])*(dias_zafra / 171),\n",
    "    'cumplimiento_tn_porcen' : grupo_totales['entrega']/((propiedades_totales['produccion'])*(dias_zafra / 171)) * 100\n",
    "}\n",
    "totales_avance_gral\n",
    "obj_avance_gral = collections.namedtuple(\"avance_gral\", totales_avance_gral.keys())(*totales_avance_gral.values())\n",
    "obj_avance_gral"
   ]
  },
  {
   "cell_type": "code",
   "execution_count": 45,
   "id": "831cd463-2e18-4bf6-80a5-83c6d57f9d54",
   "metadata": {},
   "outputs": [],
   "source": [
    "doc = DocxTemplate(ruta + \"/_test/tpl_rpt_avance_cosecha.docx\")\n",
    "context = {\n",
    "    'grupo' : list_obj_grupo, \n",
    "    'g_totales' : obj_grupo_totales,\n",
    "    'prop' : list_obj_props,\n",
    "    'p_totales' : obj_props_totales,\n",
    "    'vars' : list_obj_props_var,\n",
    "    'soca' : list_obj_props_soca,\n",
    "    'avance' : obj_avance_gral\n",
    "}\n",
    "doc.render(context)\n",
    "doc.save(ruta + '/_test/data.docx')"
   ]
  },
  {
   "cell_type": "code",
   "execution_count": null,
   "id": "3306fbb7-841c-456d-9218-c1c92ebd0b5f",
   "metadata": {},
   "outputs": [],
   "source": []
  },
  {
   "cell_type": "code",
   "execution_count": null,
   "id": "0f28d3ff-c708-4424-b2a4-039b39063d76",
   "metadata": {},
   "outputs": [],
   "source": []
  },
  {
   "cell_type": "code",
   "execution_count": null,
   "id": "0a4bed3f-33fe-4340-8c93-af90ff5de715",
   "metadata": {},
   "outputs": [],
   "source": []
  },
  {
   "cell_type": "code",
   "execution_count": null,
   "id": "8a459fa4-07bc-4fe0-8325-5800d68a362c",
   "metadata": {},
   "outputs": [],
   "source": []
  },
  {
   "cell_type": "code",
   "execution_count": null,
   "id": "cf63721a-5dc2-4a51-9def-9e1e1269ab61",
   "metadata": {},
   "outputs": [],
   "source": []
  },
  {
   "cell_type": "code",
   "execution_count": null,
   "id": "460c9d9a-8de1-4b9d-8f28-7a2bd1c6e1e6",
   "metadata": {},
   "outputs": [],
   "source": []
  },
  {
   "cell_type": "code",
   "execution_count": null,
   "id": "d0bb83fd-bad9-48e5-8e93-af03e413e3de",
   "metadata": {},
   "outputs": [],
   "source": []
  },
  {
   "cell_type": "code",
   "execution_count": null,
   "id": "be648606-990f-491d-a875-f9047beb6038",
   "metadata": {},
   "outputs": [],
   "source": []
  },
  {
   "cell_type": "code",
   "execution_count": null,
   "id": "f31a6a6e-1053-4dd6-8a05-cd288bb344a5",
   "metadata": {},
   "outputs": [],
   "source": []
  },
  {
   "cell_type": "code",
   "execution_count": null,
   "id": "82f0d99f-488d-416a-9194-623eeff9b421",
   "metadata": {},
   "outputs": [],
   "source": []
  },
  {
   "cell_type": "code",
   "execution_count": null,
   "id": "8b9b115d-a6cc-4b5c-8c62-01af661a4e0a",
   "metadata": {},
   "outputs": [],
   "source": []
  },
  {
   "cell_type": "code",
   "execution_count": null,
   "id": "9c5a80d0-8148-490d-ac5a-7bc84f79ef86",
   "metadata": {},
   "outputs": [],
   "source": []
  },
  {
   "cell_type": "code",
   "execution_count": null,
   "id": "513706c8-38d0-40bc-b881-3e9465f9b1e9",
   "metadata": {},
   "outputs": [],
   "source": []
  },
  {
   "cell_type": "code",
   "execution_count": null,
   "id": "27d0a896-4d7f-4342-b1b2-446ebf143615",
   "metadata": {},
   "outputs": [],
   "source": []
  },
  {
   "cell_type": "code",
   "execution_count": null,
   "id": "9c569965-af1c-4891-90c9-b381db6c1154",
   "metadata": {},
   "outputs": [],
   "source": []
  },
  {
   "cell_type": "code",
   "execution_count": null,
   "id": "117c16c7-01b6-4e2a-a0ec-94f46846ec9a",
   "metadata": {},
   "outputs": [],
   "source": []
  },
  {
   "cell_type": "code",
   "execution_count": null,
   "id": "3c557a61-b416-4a37-b8ac-89d03d8c0215",
   "metadata": {},
   "outputs": [],
   "source": []
  },
  {
   "cell_type": "markdown",
   "id": "6b9b66b6-c9ca-4503-854b-f6f255e2f775",
   "metadata": {},
   "source": [
    "# Convertir a PDF"
   ]
  },
  {
   "cell_type": "code",
   "execution_count": 59,
   "id": "88c39fc0-6eae-4cb9-8ae6-82f300e460cc",
   "metadata": {},
   "outputs": [],
   "source": [
    "import os"
   ]
  },
  {
   "cell_type": "code",
   "execution_count": 60,
   "id": "b42f65b0-aa79-4a0b-9724-1c11d41488b7",
   "metadata": {},
   "outputs": [],
   "source": [
    "from docx2pdf import convert"
   ]
  },
  {
   "cell_type": "code",
   "execution_count": 62,
   "id": "92923e4c-51e2-4cef-82e1-4e36c4b12e51",
   "metadata": {},
   "outputs": [
    {
     "name": "stdout",
     "output_type": "stream",
     "text": [
      "SE ENCONTRARON 443 INFORMES\n",
      "443 INFORMES\n"
     ]
    }
   ],
   "source": [
    "path = ruta + '/_test/'\n",
    "contenido = os.listdir(path)\n",
    "rutas =[]\n",
    "i = 0\n",
    "for name in contenido:\n",
    "    rutas.append(path + '/' + name)\n",
    "    i+=1\n",
    "\n",
    "print('SE ENCONTRARON ' + str(i) + ' INFORMES')\n",
    "print(len(rutas), 'INFORMES')"
   ]
  },
  {
   "cell_type": "code",
   "execution_count": 68,
   "id": "f10d3388-3809-46e4-ab58-c1911cfbc529",
   "metadata": {},
   "outputs": [
    {
     "data": {
      "text/plain": [
       "'D:\\\\OneDrive - Ingenio Azucarero Guabira S.A\\\\_DATOS_PYTHON'"
      ]
     },
     "execution_count": 68,
     "metadata": {},
     "output_type": "execute_result"
    }
   ],
   "source": [
    "ruta"
   ]
  },
  {
   "cell_type": "code",
   "execution_count": 74,
   "id": "1b6e306c-6a4a-44d4-ba28-539c658c1645",
   "metadata": {},
   "outputs": [
    {
     "name": "stdout",
     "output_type": "stream",
     "text": [
      "CONVIRTIENDO... INFORME 1 D:\\OneDrive - Ingenio Azucarero Guabira S.A\\_DATOS_PYTHON/_test//1.docx\n",
      "D:\\OneDrive - Ingenio Azucarero Guabira S.A\\_DATOS_PYTHON/_test//1.docx\n",
      "D:\\OneDrive - Ingenio Azucarero Guabira S.A\\_DATOS_PYTHON/_test//1.pdf\n"
     ]
    },
    {
     "data": {
      "application/vnd.jupyter.widget-view+json": {
       "model_id": "21b4c343e21b4b608ff11898ed05a2e7",
       "version_major": 2,
       "version_minor": 0
      },
      "text/plain": [
       "  0%|          | 0/1 [00:00<?, ?it/s]"
      ]
     },
     "metadata": {},
     "output_type": "display_data"
    },
    {
     "name": "stdout",
     "output_type": "stream",
     "text": [
      "CONVIRTIENDO... INFORME 2 D:\\OneDrive - Ingenio Azucarero Guabira S.A\\_DATOS_PYTHON/_test//10.docx\n",
      "D:\\OneDrive - Ingenio Azucarero Guabira S.A\\_DATOS_PYTHON/_test//10.docx\n",
      "D:\\OneDrive - Ingenio Azucarero Guabira S.A\\_DATOS_PYTHON/_test//10.pdf\n"
     ]
    },
    {
     "data": {
      "application/vnd.jupyter.widget-view+json": {
       "model_id": "fdc95b1454f04beb9607496ccd48e91d",
       "version_major": 2,
       "version_minor": 0
      },
      "text/plain": [
       "  0%|          | 0/1 [00:00<?, ?it/s]"
      ]
     },
     "metadata": {},
     "output_type": "display_data"
    },
    {
     "name": "stdout",
     "output_type": "stream",
     "text": [
      "CONVIRTIENDO... INFORME 3 D:\\OneDrive - Ingenio Azucarero Guabira S.A\\_DATOS_PYTHON/_test//100.docx\n",
      "D:\\OneDrive - Ingenio Azucarero Guabira S.A\\_DATOS_PYTHON/_test//100.docx\n",
      "D:\\OneDrive - Ingenio Azucarero Guabira S.A\\_DATOS_PYTHON/_test//100.pdf\n"
     ]
    },
    {
     "data": {
      "application/vnd.jupyter.widget-view+json": {
       "model_id": "1a8c3c217fc549f69eabdb0f4ec8ed46",
       "version_major": 2,
       "version_minor": 0
      },
      "text/plain": [
       "  0%|          | 0/1 [00:00<?, ?it/s]"
      ]
     },
     "metadata": {},
     "output_type": "display_data"
    },
    {
     "name": "stdout",
     "output_type": "stream",
     "text": [
      "CONVIRTIENDO... INFORME 4 D:\\OneDrive - Ingenio Azucarero Guabira S.A\\_DATOS_PYTHON/_test//101.docx\n",
      "D:\\OneDrive - Ingenio Azucarero Guabira S.A\\_DATOS_PYTHON/_test//101.docx\n",
      "D:\\OneDrive - Ingenio Azucarero Guabira S.A\\_DATOS_PYTHON/_test//101.pdf\n"
     ]
    },
    {
     "data": {
      "application/vnd.jupyter.widget-view+json": {
       "model_id": "e8b7e758a7e4471c910fb2fc0f9c3d62",
       "version_major": 2,
       "version_minor": 0
      },
      "text/plain": [
       "  0%|          | 0/1 [00:00<?, ?it/s]"
      ]
     },
     "metadata": {},
     "output_type": "display_data"
    },
    {
     "name": "stdout",
     "output_type": "stream",
     "text": [
      "CONVIRTIENDO... INFORME 5 D:\\OneDrive - Ingenio Azucarero Guabira S.A\\_DATOS_PYTHON/_test//102.docx\n",
      "D:\\OneDrive - Ingenio Azucarero Guabira S.A\\_DATOS_PYTHON/_test//102.docx\n",
      "D:\\OneDrive - Ingenio Azucarero Guabira S.A\\_DATOS_PYTHON/_test//102.pdf\n"
     ]
    },
    {
     "data": {
      "application/vnd.jupyter.widget-view+json": {
       "model_id": "673a6442ef47492285bdcc5e7ad0124f",
       "version_major": 2,
       "version_minor": 0
      },
      "text/plain": [
       "  0%|          | 0/1 [00:00<?, ?it/s]"
      ]
     },
     "metadata": {},
     "output_type": "display_data"
    },
    {
     "name": "stdout",
     "output_type": "stream",
     "text": [
      "CONVIRTIENDO... INFORME 6 D:\\OneDrive - Ingenio Azucarero Guabira S.A\\_DATOS_PYTHON/_test//103.docx\n",
      "D:\\OneDrive - Ingenio Azucarero Guabira S.A\\_DATOS_PYTHON/_test//103.docx\n",
      "D:\\OneDrive - Ingenio Azucarero Guabira S.A\\_DATOS_PYTHON/_test//103.pdf\n"
     ]
    },
    {
     "data": {
      "application/vnd.jupyter.widget-view+json": {
       "model_id": "7a96635677014374bab4f47a0c8840ff",
       "version_major": 2,
       "version_minor": 0
      },
      "text/plain": [
       "  0%|          | 0/1 [00:00<?, ?it/s]"
      ]
     },
     "metadata": {},
     "output_type": "display_data"
    },
    {
     "name": "stdout",
     "output_type": "stream",
     "text": [
      "CONVIRTIENDO... INFORME 7 D:\\OneDrive - Ingenio Azucarero Guabira S.A\\_DATOS_PYTHON/_test//104.docx\n",
      "D:\\OneDrive - Ingenio Azucarero Guabira S.A\\_DATOS_PYTHON/_test//104.docx\n",
      "D:\\OneDrive - Ingenio Azucarero Guabira S.A\\_DATOS_PYTHON/_test//104.pdf\n"
     ]
    },
    {
     "data": {
      "application/vnd.jupyter.widget-view+json": {
       "model_id": "3ca343d0b5e8487aba356d7966395141",
       "version_major": 2,
       "version_minor": 0
      },
      "text/plain": [
       "  0%|          | 0/1 [00:00<?, ?it/s]"
      ]
     },
     "metadata": {},
     "output_type": "display_data"
    },
    {
     "name": "stdout",
     "output_type": "stream",
     "text": [
      "CONVIRTIENDO... INFORME 8 D:\\OneDrive - Ingenio Azucarero Guabira S.A\\_DATOS_PYTHON/_test//105.docx\n",
      "D:\\OneDrive - Ingenio Azucarero Guabira S.A\\_DATOS_PYTHON/_test//105.docx\n",
      "D:\\OneDrive - Ingenio Azucarero Guabira S.A\\_DATOS_PYTHON/_test//105.pdf\n"
     ]
    },
    {
     "data": {
      "application/vnd.jupyter.widget-view+json": {
       "model_id": "bdc8e809e278467ebdb0842954f9ad2b",
       "version_major": 2,
       "version_minor": 0
      },
      "text/plain": [
       "  0%|          | 0/1 [00:00<?, ?it/s]"
      ]
     },
     "metadata": {},
     "output_type": "display_data"
    },
    {
     "name": "stdout",
     "output_type": "stream",
     "text": [
      "CONVIRTIENDO... INFORME 9 D:\\OneDrive - Ingenio Azucarero Guabira S.A\\_DATOS_PYTHON/_test//106.docx\n",
      "D:\\OneDrive - Ingenio Azucarero Guabira S.A\\_DATOS_PYTHON/_test//106.docx\n",
      "D:\\OneDrive - Ingenio Azucarero Guabira S.A\\_DATOS_PYTHON/_test//106.pdf\n"
     ]
    },
    {
     "data": {
      "application/vnd.jupyter.widget-view+json": {
       "model_id": "42c1dcaab2844b5eabcd07751c82ee6d",
       "version_major": 2,
       "version_minor": 0
      },
      "text/plain": [
       "  0%|          | 0/1 [00:00<?, ?it/s]"
      ]
     },
     "metadata": {},
     "output_type": "display_data"
    },
    {
     "name": "stdout",
     "output_type": "stream",
     "text": [
      "CONVIRTIENDO... INFORME 10 D:\\OneDrive - Ingenio Azucarero Guabira S.A\\_DATOS_PYTHON/_test//107.docx\n",
      "D:\\OneDrive - Ingenio Azucarero Guabira S.A\\_DATOS_PYTHON/_test//107.docx\n",
      "D:\\OneDrive - Ingenio Azucarero Guabira S.A\\_DATOS_PYTHON/_test//107.pdf\n"
     ]
    },
    {
     "data": {
      "application/vnd.jupyter.widget-view+json": {
       "model_id": "151438cb59ca488186f0b6a62504f736",
       "version_major": 2,
       "version_minor": 0
      },
      "text/plain": [
       "  0%|          | 0/1 [00:00<?, ?it/s]"
      ]
     },
     "metadata": {},
     "output_type": "display_data"
    },
    {
     "name": "stdout",
     "output_type": "stream",
     "text": [
      "CONVIRTIENDO... INFORME 11 D:\\OneDrive - Ingenio Azucarero Guabira S.A\\_DATOS_PYTHON/_test//109.docx\n",
      "D:\\OneDrive - Ingenio Azucarero Guabira S.A\\_DATOS_PYTHON/_test//109.docx\n",
      "D:\\OneDrive - Ingenio Azucarero Guabira S.A\\_DATOS_PYTHON/_test//109.pdf\n"
     ]
    },
    {
     "data": {
      "application/vnd.jupyter.widget-view+json": {
       "model_id": "4eb397e0e28d4744a99ae03a091080d3",
       "version_major": 2,
       "version_minor": 0
      },
      "text/plain": [
       "  0%|          | 0/1 [00:00<?, ?it/s]"
      ]
     },
     "metadata": {},
     "output_type": "display_data"
    },
    {
     "name": "stdout",
     "output_type": "stream",
     "text": [
      "CONVIRTIENDO... INFORME 12 D:\\OneDrive - Ingenio Azucarero Guabira S.A\\_DATOS_PYTHON/_test//11.docx\n",
      "D:\\OneDrive - Ingenio Azucarero Guabira S.A\\_DATOS_PYTHON/_test//11.docx\n",
      "D:\\OneDrive - Ingenio Azucarero Guabira S.A\\_DATOS_PYTHON/_test//11.pdf\n"
     ]
    },
    {
     "data": {
      "application/vnd.jupyter.widget-view+json": {
       "model_id": "6048ae84163b43828b252caa68bb7e79",
       "version_major": 2,
       "version_minor": 0
      },
      "text/plain": [
       "  0%|          | 0/1 [00:00<?, ?it/s]"
      ]
     },
     "metadata": {},
     "output_type": "display_data"
    },
    {
     "name": "stdout",
     "output_type": "stream",
     "text": [
      "CONVIRTIENDO... INFORME 13 D:\\OneDrive - Ingenio Azucarero Guabira S.A\\_DATOS_PYTHON/_test//110.docx\n",
      "D:\\OneDrive - Ingenio Azucarero Guabira S.A\\_DATOS_PYTHON/_test//110.docx\n",
      "D:\\OneDrive - Ingenio Azucarero Guabira S.A\\_DATOS_PYTHON/_test//110.pdf\n"
     ]
    },
    {
     "data": {
      "application/vnd.jupyter.widget-view+json": {
       "model_id": "c0e8ceac43b041abafaf55971a6aa645",
       "version_major": 2,
       "version_minor": 0
      },
      "text/plain": [
       "  0%|          | 0/1 [00:00<?, ?it/s]"
      ]
     },
     "metadata": {},
     "output_type": "display_data"
    },
    {
     "name": "stdout",
     "output_type": "stream",
     "text": [
      "CONVIRTIENDO... INFORME 14 D:\\OneDrive - Ingenio Azucarero Guabira S.A\\_DATOS_PYTHON/_test//111.docx\n",
      "D:\\OneDrive - Ingenio Azucarero Guabira S.A\\_DATOS_PYTHON/_test//111.docx\n",
      "D:\\OneDrive - Ingenio Azucarero Guabira S.A\\_DATOS_PYTHON/_test//111.pdf\n"
     ]
    },
    {
     "data": {
      "application/vnd.jupyter.widget-view+json": {
       "model_id": "7d3ea4eae5a84151ab32184eeece968c",
       "version_major": 2,
       "version_minor": 0
      },
      "text/plain": [
       "  0%|          | 0/1 [00:00<?, ?it/s]"
      ]
     },
     "metadata": {},
     "output_type": "display_data"
    },
    {
     "name": "stdout",
     "output_type": "stream",
     "text": [
      "CONVIRTIENDO... INFORME 15 D:\\OneDrive - Ingenio Azucarero Guabira S.A\\_DATOS_PYTHON/_test//112.docx\n",
      "D:\\OneDrive - Ingenio Azucarero Guabira S.A\\_DATOS_PYTHON/_test//112.docx\n",
      "D:\\OneDrive - Ingenio Azucarero Guabira S.A\\_DATOS_PYTHON/_test//112.pdf\n"
     ]
    },
    {
     "data": {
      "application/vnd.jupyter.widget-view+json": {
       "model_id": "e3847f96e646432fbae529fb0a093b21",
       "version_major": 2,
       "version_minor": 0
      },
      "text/plain": [
       "  0%|          | 0/1 [00:00<?, ?it/s]"
      ]
     },
     "metadata": {},
     "output_type": "display_data"
    },
    {
     "name": "stdout",
     "output_type": "stream",
     "text": [
      "CONVIRTIENDO... INFORME 16 D:\\OneDrive - Ingenio Azucarero Guabira S.A\\_DATOS_PYTHON/_test//113.docx\n",
      "D:\\OneDrive - Ingenio Azucarero Guabira S.A\\_DATOS_PYTHON/_test//113.docx\n",
      "D:\\OneDrive - Ingenio Azucarero Guabira S.A\\_DATOS_PYTHON/_test//113.pdf\n"
     ]
    },
    {
     "data": {
      "application/vnd.jupyter.widget-view+json": {
       "model_id": "2fa48fd2eec848db9f6117d41d889038",
       "version_major": 2,
       "version_minor": 0
      },
      "text/plain": [
       "  0%|          | 0/1 [00:00<?, ?it/s]"
      ]
     },
     "metadata": {},
     "output_type": "display_data"
    },
    {
     "name": "stdout",
     "output_type": "stream",
     "text": [
      "CONVIRTIENDO... INFORME 17 D:\\OneDrive - Ingenio Azucarero Guabira S.A\\_DATOS_PYTHON/_test//114.docx\n",
      "D:\\OneDrive - Ingenio Azucarero Guabira S.A\\_DATOS_PYTHON/_test//114.docx\n",
      "D:\\OneDrive - Ingenio Azucarero Guabira S.A\\_DATOS_PYTHON/_test//114.pdf\n"
     ]
    },
    {
     "data": {
      "application/vnd.jupyter.widget-view+json": {
       "model_id": "0654da2e97bc4459a877dea1cb33b76e",
       "version_major": 2,
       "version_minor": 0
      },
      "text/plain": [
       "  0%|          | 0/1 [00:00<?, ?it/s]"
      ]
     },
     "metadata": {},
     "output_type": "display_data"
    },
    {
     "name": "stdout",
     "output_type": "stream",
     "text": [
      "CONVIRTIENDO... INFORME 18 D:\\OneDrive - Ingenio Azucarero Guabira S.A\\_DATOS_PYTHON/_test//115.docx\n",
      "D:\\OneDrive - Ingenio Azucarero Guabira S.A\\_DATOS_PYTHON/_test//115.docx\n",
      "D:\\OneDrive - Ingenio Azucarero Guabira S.A\\_DATOS_PYTHON/_test//115.pdf\n"
     ]
    },
    {
     "data": {
      "application/vnd.jupyter.widget-view+json": {
       "model_id": "0344a9ad942d4067b0aaa3538c7cfafa",
       "version_major": 2,
       "version_minor": 0
      },
      "text/plain": [
       "  0%|          | 0/1 [00:00<?, ?it/s]"
      ]
     },
     "metadata": {},
     "output_type": "display_data"
    },
    {
     "name": "stdout",
     "output_type": "stream",
     "text": [
      "CONVIRTIENDO... INFORME 19 D:\\OneDrive - Ingenio Azucarero Guabira S.A\\_DATOS_PYTHON/_test//116.docx\n",
      "D:\\OneDrive - Ingenio Azucarero Guabira S.A\\_DATOS_PYTHON/_test//116.docx\n",
      "D:\\OneDrive - Ingenio Azucarero Guabira S.A\\_DATOS_PYTHON/_test//116.pdf\n"
     ]
    },
    {
     "data": {
      "application/vnd.jupyter.widget-view+json": {
       "model_id": "6ebcda2653bb46ea84b4feca11bb45b0",
       "version_major": 2,
       "version_minor": 0
      },
      "text/plain": [
       "  0%|          | 0/1 [00:00<?, ?it/s]"
      ]
     },
     "metadata": {},
     "output_type": "display_data"
    },
    {
     "name": "stdout",
     "output_type": "stream",
     "text": [
      "CONVIRTIENDO... INFORME 20 D:\\OneDrive - Ingenio Azucarero Guabira S.A\\_DATOS_PYTHON/_test//117.docx\n",
      "D:\\OneDrive - Ingenio Azucarero Guabira S.A\\_DATOS_PYTHON/_test//117.docx\n",
      "D:\\OneDrive - Ingenio Azucarero Guabira S.A\\_DATOS_PYTHON/_test//117.pdf\n"
     ]
    },
    {
     "data": {
      "application/vnd.jupyter.widget-view+json": {
       "model_id": "d2742cdbb88846c6a45ff2147d43d417",
       "version_major": 2,
       "version_minor": 0
      },
      "text/plain": [
       "  0%|          | 0/1 [00:00<?, ?it/s]"
      ]
     },
     "metadata": {},
     "output_type": "display_data"
    },
    {
     "name": "stdout",
     "output_type": "stream",
     "text": [
      "CONVIRTIENDO... INFORME 21 D:\\OneDrive - Ingenio Azucarero Guabira S.A\\_DATOS_PYTHON/_test//118.docx\n",
      "D:\\OneDrive - Ingenio Azucarero Guabira S.A\\_DATOS_PYTHON/_test//118.docx\n",
      "D:\\OneDrive - Ingenio Azucarero Guabira S.A\\_DATOS_PYTHON/_test//118.pdf\n"
     ]
    },
    {
     "data": {
      "application/vnd.jupyter.widget-view+json": {
       "model_id": "7b24e4e2bf04410d821472488499787c",
       "version_major": 2,
       "version_minor": 0
      },
      "text/plain": [
       "  0%|          | 0/1 [00:00<?, ?it/s]"
      ]
     },
     "metadata": {},
     "output_type": "display_data"
    },
    {
     "name": "stdout",
     "output_type": "stream",
     "text": [
      "CONVIRTIENDO... INFORME 22 D:\\OneDrive - Ingenio Azucarero Guabira S.A\\_DATOS_PYTHON/_test//119.docx\n",
      "D:\\OneDrive - Ingenio Azucarero Guabira S.A\\_DATOS_PYTHON/_test//119.docx\n",
      "D:\\OneDrive - Ingenio Azucarero Guabira S.A\\_DATOS_PYTHON/_test//119.pdf\n"
     ]
    },
    {
     "data": {
      "application/vnd.jupyter.widget-view+json": {
       "model_id": "da85c835df6749aeb1fdc2a545ec2e48",
       "version_major": 2,
       "version_minor": 0
      },
      "text/plain": [
       "  0%|          | 0/1 [00:00<?, ?it/s]"
      ]
     },
     "metadata": {},
     "output_type": "display_data"
    },
    {
     "name": "stdout",
     "output_type": "stream",
     "text": [
      "CONVIRTIENDO... INFORME 23 D:\\OneDrive - Ingenio Azucarero Guabira S.A\\_DATOS_PYTHON/_test//12.docx\n",
      "D:\\OneDrive - Ingenio Azucarero Guabira S.A\\_DATOS_PYTHON/_test//12.docx\n",
      "D:\\OneDrive - Ingenio Azucarero Guabira S.A\\_DATOS_PYTHON/_test//12.pdf\n"
     ]
    },
    {
     "data": {
      "application/vnd.jupyter.widget-view+json": {
       "model_id": "ca8827b710d2485a84dbd785695994af",
       "version_major": 2,
       "version_minor": 0
      },
      "text/plain": [
       "  0%|          | 0/1 [00:00<?, ?it/s]"
      ]
     },
     "metadata": {},
     "output_type": "display_data"
    },
    {
     "name": "stdout",
     "output_type": "stream",
     "text": [
      "CONVIRTIENDO... INFORME 24 D:\\OneDrive - Ingenio Azucarero Guabira S.A\\_DATOS_PYTHON/_test//120.docx\n",
      "D:\\OneDrive - Ingenio Azucarero Guabira S.A\\_DATOS_PYTHON/_test//120.docx\n",
      "D:\\OneDrive - Ingenio Azucarero Guabira S.A\\_DATOS_PYTHON/_test//120.pdf\n"
     ]
    },
    {
     "data": {
      "application/vnd.jupyter.widget-view+json": {
       "model_id": "e5e6d02a16334531b0fb05e1cf3e0053",
       "version_major": 2,
       "version_minor": 0
      },
      "text/plain": [
       "  0%|          | 0/1 [00:00<?, ?it/s]"
      ]
     },
     "metadata": {},
     "output_type": "display_data"
    },
    {
     "name": "stdout",
     "output_type": "stream",
     "text": [
      "CONVIRTIENDO... INFORME 25 D:\\OneDrive - Ingenio Azucarero Guabira S.A\\_DATOS_PYTHON/_test//121.docx\n",
      "D:\\OneDrive - Ingenio Azucarero Guabira S.A\\_DATOS_PYTHON/_test//121.docx\n",
      "D:\\OneDrive - Ingenio Azucarero Guabira S.A\\_DATOS_PYTHON/_test//121.pdf\n"
     ]
    },
    {
     "data": {
      "application/vnd.jupyter.widget-view+json": {
       "model_id": "5a3478f4c20b4a27bdd18af9a2522615",
       "version_major": 2,
       "version_minor": 0
      },
      "text/plain": [
       "  0%|          | 0/1 [00:00<?, ?it/s]"
      ]
     },
     "metadata": {},
     "output_type": "display_data"
    },
    {
     "name": "stdout",
     "output_type": "stream",
     "text": [
      "CONVIRTIENDO... INFORME 26 D:\\OneDrive - Ingenio Azucarero Guabira S.A\\_DATOS_PYTHON/_test//122.docx\n",
      "D:\\OneDrive - Ingenio Azucarero Guabira S.A\\_DATOS_PYTHON/_test//122.docx\n",
      "D:\\OneDrive - Ingenio Azucarero Guabira S.A\\_DATOS_PYTHON/_test//122.pdf\n"
     ]
    },
    {
     "data": {
      "application/vnd.jupyter.widget-view+json": {
       "model_id": "783b291408bd457cbabe9b6dfeb0e7ce",
       "version_major": 2,
       "version_minor": 0
      },
      "text/plain": [
       "  0%|          | 0/1 [00:00<?, ?it/s]"
      ]
     },
     "metadata": {},
     "output_type": "display_data"
    },
    {
     "name": "stdout",
     "output_type": "stream",
     "text": [
      "CONVIRTIENDO... INFORME 27 D:\\OneDrive - Ingenio Azucarero Guabira S.A\\_DATOS_PYTHON/_test//124.docx\n",
      "D:\\OneDrive - Ingenio Azucarero Guabira S.A\\_DATOS_PYTHON/_test//124.docx\n",
      "D:\\OneDrive - Ingenio Azucarero Guabira S.A\\_DATOS_PYTHON/_test//124.pdf\n"
     ]
    },
    {
     "data": {
      "application/vnd.jupyter.widget-view+json": {
       "model_id": "e270ae9eba9d47f5a4517e9be5089854",
       "version_major": 2,
       "version_minor": 0
      },
      "text/plain": [
       "  0%|          | 0/1 [00:00<?, ?it/s]"
      ]
     },
     "metadata": {},
     "output_type": "display_data"
    },
    {
     "name": "stdout",
     "output_type": "stream",
     "text": [
      "CONVIRTIENDO... INFORME 28 D:\\OneDrive - Ingenio Azucarero Guabira S.A\\_DATOS_PYTHON/_test//125.docx\n",
      "D:\\OneDrive - Ingenio Azucarero Guabira S.A\\_DATOS_PYTHON/_test//125.docx\n",
      "D:\\OneDrive - Ingenio Azucarero Guabira S.A\\_DATOS_PYTHON/_test//125.pdf\n"
     ]
    },
    {
     "data": {
      "application/vnd.jupyter.widget-view+json": {
       "model_id": "532e96e2a42d4ee190e74439e3074604",
       "version_major": 2,
       "version_minor": 0
      },
      "text/plain": [
       "  0%|          | 0/1 [00:00<?, ?it/s]"
      ]
     },
     "metadata": {},
     "output_type": "display_data"
    },
    {
     "name": "stdout",
     "output_type": "stream",
     "text": [
      "CONVIRTIENDO... INFORME 29 D:\\OneDrive - Ingenio Azucarero Guabira S.A\\_DATOS_PYTHON/_test//126.docx\n",
      "D:\\OneDrive - Ingenio Azucarero Guabira S.A\\_DATOS_PYTHON/_test//126.docx\n",
      "D:\\OneDrive - Ingenio Azucarero Guabira S.A\\_DATOS_PYTHON/_test//126.pdf\n"
     ]
    },
    {
     "data": {
      "application/vnd.jupyter.widget-view+json": {
       "model_id": "cdc5835993864c4caf214e0dbddb2e31",
       "version_major": 2,
       "version_minor": 0
      },
      "text/plain": [
       "  0%|          | 0/1 [00:00<?, ?it/s]"
      ]
     },
     "metadata": {},
     "output_type": "display_data"
    },
    {
     "name": "stdout",
     "output_type": "stream",
     "text": [
      "CONVIRTIENDO... INFORME 30 D:\\OneDrive - Ingenio Azucarero Guabira S.A\\_DATOS_PYTHON/_test//129.docx\n",
      "D:\\OneDrive - Ingenio Azucarero Guabira S.A\\_DATOS_PYTHON/_test//129.docx\n",
      "D:\\OneDrive - Ingenio Azucarero Guabira S.A\\_DATOS_PYTHON/_test//129.pdf\n"
     ]
    },
    {
     "data": {
      "application/vnd.jupyter.widget-view+json": {
       "model_id": "ce4f664acd87467d93510cf448455142",
       "version_major": 2,
       "version_minor": 0
      },
      "text/plain": [
       "  0%|          | 0/1 [00:00<?, ?it/s]"
      ]
     },
     "metadata": {},
     "output_type": "display_data"
    },
    {
     "name": "stdout",
     "output_type": "stream",
     "text": [
      "CONVIRTIENDO... INFORME 31 D:\\OneDrive - Ingenio Azucarero Guabira S.A\\_DATOS_PYTHON/_test//13.docx\n",
      "D:\\OneDrive - Ingenio Azucarero Guabira S.A\\_DATOS_PYTHON/_test//13.docx\n",
      "D:\\OneDrive - Ingenio Azucarero Guabira S.A\\_DATOS_PYTHON/_test//13.pdf\n"
     ]
    },
    {
     "data": {
      "application/vnd.jupyter.widget-view+json": {
       "model_id": "5506dc84861b4c91a36c0d669497b260",
       "version_major": 2,
       "version_minor": 0
      },
      "text/plain": [
       "  0%|          | 0/1 [00:00<?, ?it/s]"
      ]
     },
     "metadata": {},
     "output_type": "display_data"
    },
    {
     "name": "stdout",
     "output_type": "stream",
     "text": [
      "CONVIRTIENDO... INFORME 32 D:\\OneDrive - Ingenio Azucarero Guabira S.A\\_DATOS_PYTHON/_test//130.docx\n",
      "D:\\OneDrive - Ingenio Azucarero Guabira S.A\\_DATOS_PYTHON/_test//130.docx\n",
      "D:\\OneDrive - Ingenio Azucarero Guabira S.A\\_DATOS_PYTHON/_test//130.pdf\n"
     ]
    },
    {
     "data": {
      "application/vnd.jupyter.widget-view+json": {
       "model_id": "cfdb05966b5d4250b5b8659fdc8bd484",
       "version_major": 2,
       "version_minor": 0
      },
      "text/plain": [
       "  0%|          | 0/1 [00:00<?, ?it/s]"
      ]
     },
     "metadata": {},
     "output_type": "display_data"
    },
    {
     "name": "stdout",
     "output_type": "stream",
     "text": [
      "CONVIRTIENDO... INFORME 33 D:\\OneDrive - Ingenio Azucarero Guabira S.A\\_DATOS_PYTHON/_test//131.docx\n",
      "D:\\OneDrive - Ingenio Azucarero Guabira S.A\\_DATOS_PYTHON/_test//131.docx\n",
      "D:\\OneDrive - Ingenio Azucarero Guabira S.A\\_DATOS_PYTHON/_test//131.pdf\n"
     ]
    },
    {
     "data": {
      "application/vnd.jupyter.widget-view+json": {
       "model_id": "717dd88f2a04451c9ca0a8ed66ee9eba",
       "version_major": 2,
       "version_minor": 0
      },
      "text/plain": [
       "  0%|          | 0/1 [00:00<?, ?it/s]"
      ]
     },
     "metadata": {},
     "output_type": "display_data"
    },
    {
     "name": "stdout",
     "output_type": "stream",
     "text": [
      "CONVIRTIENDO... INFORME 34 D:\\OneDrive - Ingenio Azucarero Guabira S.A\\_DATOS_PYTHON/_test//132.docx\n",
      "D:\\OneDrive - Ingenio Azucarero Guabira S.A\\_DATOS_PYTHON/_test//132.docx\n",
      "D:\\OneDrive - Ingenio Azucarero Guabira S.A\\_DATOS_PYTHON/_test//132.pdf\n"
     ]
    },
    {
     "data": {
      "application/vnd.jupyter.widget-view+json": {
       "model_id": "eaba6a6df5b340ceaa175e64641be5d9",
       "version_major": 2,
       "version_minor": 0
      },
      "text/plain": [
       "  0%|          | 0/1 [00:00<?, ?it/s]"
      ]
     },
     "metadata": {},
     "output_type": "display_data"
    },
    {
     "name": "stdout",
     "output_type": "stream",
     "text": [
      "CONVIRTIENDO... INFORME 35 D:\\OneDrive - Ingenio Azucarero Guabira S.A\\_DATOS_PYTHON/_test//134.docx\n",
      "D:\\OneDrive - Ingenio Azucarero Guabira S.A\\_DATOS_PYTHON/_test//134.docx\n",
      "D:\\OneDrive - Ingenio Azucarero Guabira S.A\\_DATOS_PYTHON/_test//134.pdf\n"
     ]
    },
    {
     "data": {
      "application/vnd.jupyter.widget-view+json": {
       "model_id": "e39b79213fd44365b2ed6c99009f2b92",
       "version_major": 2,
       "version_minor": 0
      },
      "text/plain": [
       "  0%|          | 0/1 [00:00<?, ?it/s]"
      ]
     },
     "metadata": {},
     "output_type": "display_data"
    },
    {
     "name": "stdout",
     "output_type": "stream",
     "text": [
      "CONVIRTIENDO... INFORME 36 D:\\OneDrive - Ingenio Azucarero Guabira S.A\\_DATOS_PYTHON/_test//135.docx\n",
      "D:\\OneDrive - Ingenio Azucarero Guabira S.A\\_DATOS_PYTHON/_test//135.docx\n",
      "D:\\OneDrive - Ingenio Azucarero Guabira S.A\\_DATOS_PYTHON/_test//135.pdf\n"
     ]
    },
    {
     "data": {
      "application/vnd.jupyter.widget-view+json": {
       "model_id": "2a2a58893db140fab3403391a4756e94",
       "version_major": 2,
       "version_minor": 0
      },
      "text/plain": [
       "  0%|          | 0/1 [00:00<?, ?it/s]"
      ]
     },
     "metadata": {},
     "output_type": "display_data"
    },
    {
     "name": "stdout",
     "output_type": "stream",
     "text": [
      "CONVIRTIENDO... INFORME 37 D:\\OneDrive - Ingenio Azucarero Guabira S.A\\_DATOS_PYTHON/_test//136.docx\n",
      "D:\\OneDrive - Ingenio Azucarero Guabira S.A\\_DATOS_PYTHON/_test//136.docx\n",
      "D:\\OneDrive - Ingenio Azucarero Guabira S.A\\_DATOS_PYTHON/_test//136.pdf\n"
     ]
    },
    {
     "data": {
      "application/vnd.jupyter.widget-view+json": {
       "model_id": "449ce4976aaf40d4922bcff3af43b513",
       "version_major": 2,
       "version_minor": 0
      },
      "text/plain": [
       "  0%|          | 0/1 [00:00<?, ?it/s]"
      ]
     },
     "metadata": {},
     "output_type": "display_data"
    },
    {
     "name": "stdout",
     "output_type": "stream",
     "text": [
      "CONVIRTIENDO... INFORME 38 D:\\OneDrive - Ingenio Azucarero Guabira S.A\\_DATOS_PYTHON/_test//137.docx\n",
      "D:\\OneDrive - Ingenio Azucarero Guabira S.A\\_DATOS_PYTHON/_test//137.docx\n",
      "D:\\OneDrive - Ingenio Azucarero Guabira S.A\\_DATOS_PYTHON/_test//137.pdf\n"
     ]
    },
    {
     "data": {
      "application/vnd.jupyter.widget-view+json": {
       "model_id": "51ba403007e04cfaa67eaf503900d879",
       "version_major": 2,
       "version_minor": 0
      },
      "text/plain": [
       "  0%|          | 0/1 [00:00<?, ?it/s]"
      ]
     },
     "metadata": {},
     "output_type": "display_data"
    },
    {
     "name": "stdout",
     "output_type": "stream",
     "text": [
      "CONVIRTIENDO... INFORME 39 D:\\OneDrive - Ingenio Azucarero Guabira S.A\\_DATOS_PYTHON/_test//138.docx\n",
      "D:\\OneDrive - Ingenio Azucarero Guabira S.A\\_DATOS_PYTHON/_test//138.docx\n",
      "D:\\OneDrive - Ingenio Azucarero Guabira S.A\\_DATOS_PYTHON/_test//138.pdf\n"
     ]
    },
    {
     "data": {
      "application/vnd.jupyter.widget-view+json": {
       "model_id": "b061592f2d974472b1af0adae796ab6c",
       "version_major": 2,
       "version_minor": 0
      },
      "text/plain": [
       "  0%|          | 0/1 [00:00<?, ?it/s]"
      ]
     },
     "metadata": {},
     "output_type": "display_data"
    },
    {
     "name": "stdout",
     "output_type": "stream",
     "text": [
      "CONVIRTIENDO... INFORME 40 D:\\OneDrive - Ingenio Azucarero Guabira S.A\\_DATOS_PYTHON/_test//139.docx\n",
      "D:\\OneDrive - Ingenio Azucarero Guabira S.A\\_DATOS_PYTHON/_test//139.docx\n",
      "D:\\OneDrive - Ingenio Azucarero Guabira S.A\\_DATOS_PYTHON/_test//139.pdf\n"
     ]
    },
    {
     "data": {
      "application/vnd.jupyter.widget-view+json": {
       "model_id": "a84c7eaeae8b4a5b8e846054bbb344b5",
       "version_major": 2,
       "version_minor": 0
      },
      "text/plain": [
       "  0%|          | 0/1 [00:00<?, ?it/s]"
      ]
     },
     "metadata": {},
     "output_type": "display_data"
    },
    {
     "name": "stdout",
     "output_type": "stream",
     "text": [
      "CONVIRTIENDO... INFORME 41 D:\\OneDrive - Ingenio Azucarero Guabira S.A\\_DATOS_PYTHON/_test//14.docx\n",
      "D:\\OneDrive - Ingenio Azucarero Guabira S.A\\_DATOS_PYTHON/_test//14.docx\n",
      "D:\\OneDrive - Ingenio Azucarero Guabira S.A\\_DATOS_PYTHON/_test//14.pdf\n"
     ]
    },
    {
     "data": {
      "application/vnd.jupyter.widget-view+json": {
       "model_id": "82429351c80a43ab9b418120e7abcb33",
       "version_major": 2,
       "version_minor": 0
      },
      "text/plain": [
       "  0%|          | 0/1 [00:00<?, ?it/s]"
      ]
     },
     "metadata": {},
     "output_type": "display_data"
    },
    {
     "name": "stdout",
     "output_type": "stream",
     "text": [
      "CONVIRTIENDO... INFORME 42 D:\\OneDrive - Ingenio Azucarero Guabira S.A\\_DATOS_PYTHON/_test//140.docx\n",
      "D:\\OneDrive - Ingenio Azucarero Guabira S.A\\_DATOS_PYTHON/_test//140.docx\n",
      "D:\\OneDrive - Ingenio Azucarero Guabira S.A\\_DATOS_PYTHON/_test//140.pdf\n"
     ]
    },
    {
     "data": {
      "application/vnd.jupyter.widget-view+json": {
       "model_id": "f76933c345a94c739fff848efd2f70d9",
       "version_major": 2,
       "version_minor": 0
      },
      "text/plain": [
       "  0%|          | 0/1 [00:00<?, ?it/s]"
      ]
     },
     "metadata": {},
     "output_type": "display_data"
    },
    {
     "name": "stdout",
     "output_type": "stream",
     "text": [
      "CONVIRTIENDO... INFORME 43 D:\\OneDrive - Ingenio Azucarero Guabira S.A\\_DATOS_PYTHON/_test//141.docx\n",
      "D:\\OneDrive - Ingenio Azucarero Guabira S.A\\_DATOS_PYTHON/_test//141.docx\n",
      "D:\\OneDrive - Ingenio Azucarero Guabira S.A\\_DATOS_PYTHON/_test//141.pdf\n"
     ]
    },
    {
     "data": {
      "application/vnd.jupyter.widget-view+json": {
       "model_id": "2bdc946a3afa474a8bfa7879b417d4a0",
       "version_major": 2,
       "version_minor": 0
      },
      "text/plain": [
       "  0%|          | 0/1 [00:00<?, ?it/s]"
      ]
     },
     "metadata": {},
     "output_type": "display_data"
    },
    {
     "name": "stdout",
     "output_type": "stream",
     "text": [
      "CONVIRTIENDO... INFORME 44 D:\\OneDrive - Ingenio Azucarero Guabira S.A\\_DATOS_PYTHON/_test//142.docx\n",
      "D:\\OneDrive - Ingenio Azucarero Guabira S.A\\_DATOS_PYTHON/_test//142.docx\n",
      "D:\\OneDrive - Ingenio Azucarero Guabira S.A\\_DATOS_PYTHON/_test//142.pdf\n"
     ]
    },
    {
     "data": {
      "application/vnd.jupyter.widget-view+json": {
       "model_id": "70b6221c83e9400d8613bd2417b33315",
       "version_major": 2,
       "version_minor": 0
      },
      "text/plain": [
       "  0%|          | 0/1 [00:00<?, ?it/s]"
      ]
     },
     "metadata": {},
     "output_type": "display_data"
    },
    {
     "name": "stdout",
     "output_type": "stream",
     "text": [
      "CONVIRTIENDO... INFORME 45 D:\\OneDrive - Ingenio Azucarero Guabira S.A\\_DATOS_PYTHON/_test//143.docx\n",
      "D:\\OneDrive - Ingenio Azucarero Guabira S.A\\_DATOS_PYTHON/_test//143.docx\n",
      "D:\\OneDrive - Ingenio Azucarero Guabira S.A\\_DATOS_PYTHON/_test//143.pdf\n"
     ]
    },
    {
     "data": {
      "application/vnd.jupyter.widget-view+json": {
       "model_id": "def905e404e142adb166e056717288ca",
       "version_major": 2,
       "version_minor": 0
      },
      "text/plain": [
       "  0%|          | 0/1 [00:00<?, ?it/s]"
      ]
     },
     "metadata": {},
     "output_type": "display_data"
    },
    {
     "name": "stdout",
     "output_type": "stream",
     "text": [
      "CONVIRTIENDO... INFORME 46 D:\\OneDrive - Ingenio Azucarero Guabira S.A\\_DATOS_PYTHON/_test//144.docx\n",
      "D:\\OneDrive - Ingenio Azucarero Guabira S.A\\_DATOS_PYTHON/_test//144.docx\n",
      "D:\\OneDrive - Ingenio Azucarero Guabira S.A\\_DATOS_PYTHON/_test//144.pdf\n"
     ]
    },
    {
     "data": {
      "application/vnd.jupyter.widget-view+json": {
       "model_id": "21c3e34828ab4efbbba10d40b82ff213",
       "version_major": 2,
       "version_minor": 0
      },
      "text/plain": [
       "  0%|          | 0/1 [00:00<?, ?it/s]"
      ]
     },
     "metadata": {},
     "output_type": "display_data"
    },
    {
     "name": "stdout",
     "output_type": "stream",
     "text": [
      "CONVIRTIENDO... INFORME 47 D:\\OneDrive - Ingenio Azucarero Guabira S.A\\_DATOS_PYTHON/_test//145.docx\n",
      "D:\\OneDrive - Ingenio Azucarero Guabira S.A\\_DATOS_PYTHON/_test//145.docx\n",
      "D:\\OneDrive - Ingenio Azucarero Guabira S.A\\_DATOS_PYTHON/_test//145.pdf\n"
     ]
    },
    {
     "data": {
      "application/vnd.jupyter.widget-view+json": {
       "model_id": "7c1396eea7914fdfa0cb966dab722140",
       "version_major": 2,
       "version_minor": 0
      },
      "text/plain": [
       "  0%|          | 0/1 [00:00<?, ?it/s]"
      ]
     },
     "metadata": {},
     "output_type": "display_data"
    },
    {
     "name": "stdout",
     "output_type": "stream",
     "text": [
      "CONVIRTIENDO... INFORME 48 D:\\OneDrive - Ingenio Azucarero Guabira S.A\\_DATOS_PYTHON/_test//146.docx\n",
      "D:\\OneDrive - Ingenio Azucarero Guabira S.A\\_DATOS_PYTHON/_test//146.docx\n",
      "D:\\OneDrive - Ingenio Azucarero Guabira S.A\\_DATOS_PYTHON/_test//146.pdf\n"
     ]
    },
    {
     "data": {
      "application/vnd.jupyter.widget-view+json": {
       "model_id": "91ff67a26a6a452a93738c4c250fd638",
       "version_major": 2,
       "version_minor": 0
      },
      "text/plain": [
       "  0%|          | 0/1 [00:00<?, ?it/s]"
      ]
     },
     "metadata": {},
     "output_type": "display_data"
    },
    {
     "name": "stdout",
     "output_type": "stream",
     "text": [
      "CONVIRTIENDO... INFORME 49 D:\\OneDrive - Ingenio Azucarero Guabira S.A\\_DATOS_PYTHON/_test//147.docx\n",
      "D:\\OneDrive - Ingenio Azucarero Guabira S.A\\_DATOS_PYTHON/_test//147.docx\n",
      "D:\\OneDrive - Ingenio Azucarero Guabira S.A\\_DATOS_PYTHON/_test//147.pdf\n"
     ]
    },
    {
     "data": {
      "application/vnd.jupyter.widget-view+json": {
       "model_id": "7496275d6b0c46aa93f64c7665529490",
       "version_major": 2,
       "version_minor": 0
      },
      "text/plain": [
       "  0%|          | 0/1 [00:00<?, ?it/s]"
      ]
     },
     "metadata": {},
     "output_type": "display_data"
    },
    {
     "name": "stdout",
     "output_type": "stream",
     "text": [
      "CONVIRTIENDO... INFORME 50 D:\\OneDrive - Ingenio Azucarero Guabira S.A\\_DATOS_PYTHON/_test//148.docx\n",
      "D:\\OneDrive - Ingenio Azucarero Guabira S.A\\_DATOS_PYTHON/_test//148.docx\n",
      "D:\\OneDrive - Ingenio Azucarero Guabira S.A\\_DATOS_PYTHON/_test//148.pdf\n"
     ]
    },
    {
     "data": {
      "application/vnd.jupyter.widget-view+json": {
       "model_id": "ee9163a1d6744ad6a5f1efb43b28649f",
       "version_major": 2,
       "version_minor": 0
      },
      "text/plain": [
       "  0%|          | 0/1 [00:00<?, ?it/s]"
      ]
     },
     "metadata": {},
     "output_type": "display_data"
    },
    {
     "name": "stdout",
     "output_type": "stream",
     "text": [
      "CONVIRTIENDO... INFORME 51 D:\\OneDrive - Ingenio Azucarero Guabira S.A\\_DATOS_PYTHON/_test//149.docx\n",
      "D:\\OneDrive - Ingenio Azucarero Guabira S.A\\_DATOS_PYTHON/_test//149.docx\n",
      "D:\\OneDrive - Ingenio Azucarero Guabira S.A\\_DATOS_PYTHON/_test//149.pdf\n"
     ]
    },
    {
     "data": {
      "application/vnd.jupyter.widget-view+json": {
       "model_id": "9481d773f1274889b4e620507ca0392d",
       "version_major": 2,
       "version_minor": 0
      },
      "text/plain": [
       "  0%|          | 0/1 [00:00<?, ?it/s]"
      ]
     },
     "metadata": {},
     "output_type": "display_data"
    },
    {
     "name": "stdout",
     "output_type": "stream",
     "text": [
      "CONVIRTIENDO... INFORME 52 D:\\OneDrive - Ingenio Azucarero Guabira S.A\\_DATOS_PYTHON/_test//15.docx\n",
      "D:\\OneDrive - Ingenio Azucarero Guabira S.A\\_DATOS_PYTHON/_test//15.docx\n",
      "D:\\OneDrive - Ingenio Azucarero Guabira S.A\\_DATOS_PYTHON/_test//15.pdf\n"
     ]
    },
    {
     "data": {
      "application/vnd.jupyter.widget-view+json": {
       "model_id": "c25834f404114f9f890cc4e1cb9a92cf",
       "version_major": 2,
       "version_minor": 0
      },
      "text/plain": [
       "  0%|          | 0/1 [00:00<?, ?it/s]"
      ]
     },
     "metadata": {},
     "output_type": "display_data"
    },
    {
     "name": "stdout",
     "output_type": "stream",
     "text": [
      "CONVIRTIENDO... INFORME 53 D:\\OneDrive - Ingenio Azucarero Guabira S.A\\_DATOS_PYTHON/_test//150.docx\n",
      "D:\\OneDrive - Ingenio Azucarero Guabira S.A\\_DATOS_PYTHON/_test//150.docx\n",
      "D:\\OneDrive - Ingenio Azucarero Guabira S.A\\_DATOS_PYTHON/_test//150.pdf\n"
     ]
    },
    {
     "data": {
      "application/vnd.jupyter.widget-view+json": {
       "model_id": "5e0c7e5eca774ab289c6bda4f1a27c1d",
       "version_major": 2,
       "version_minor": 0
      },
      "text/plain": [
       "  0%|          | 0/1 [00:00<?, ?it/s]"
      ]
     },
     "metadata": {},
     "output_type": "display_data"
    },
    {
     "name": "stdout",
     "output_type": "stream",
     "text": [
      "CONVIRTIENDO... INFORME 54 D:\\OneDrive - Ingenio Azucarero Guabira S.A\\_DATOS_PYTHON/_test//151.docx\n",
      "D:\\OneDrive - Ingenio Azucarero Guabira S.A\\_DATOS_PYTHON/_test//151.docx\n",
      "D:\\OneDrive - Ingenio Azucarero Guabira S.A\\_DATOS_PYTHON/_test//151.pdf\n"
     ]
    },
    {
     "data": {
      "application/vnd.jupyter.widget-view+json": {
       "model_id": "f56fa53483324a328d533982cd9e749f",
       "version_major": 2,
       "version_minor": 0
      },
      "text/plain": [
       "  0%|          | 0/1 [00:00<?, ?it/s]"
      ]
     },
     "metadata": {},
     "output_type": "display_data"
    },
    {
     "name": "stdout",
     "output_type": "stream",
     "text": [
      "CONVIRTIENDO... INFORME 55 D:\\OneDrive - Ingenio Azucarero Guabira S.A\\_DATOS_PYTHON/_test//152.docx\n",
      "D:\\OneDrive - Ingenio Azucarero Guabira S.A\\_DATOS_PYTHON/_test//152.docx\n",
      "D:\\OneDrive - Ingenio Azucarero Guabira S.A\\_DATOS_PYTHON/_test//152.pdf\n"
     ]
    },
    {
     "data": {
      "application/vnd.jupyter.widget-view+json": {
       "model_id": "cb941c3f8f084e128a13aafc5e8718d6",
       "version_major": 2,
       "version_minor": 0
      },
      "text/plain": [
       "  0%|          | 0/1 [00:00<?, ?it/s]"
      ]
     },
     "metadata": {},
     "output_type": "display_data"
    },
    {
     "name": "stdout",
     "output_type": "stream",
     "text": [
      "CONVIRTIENDO... INFORME 56 D:\\OneDrive - Ingenio Azucarero Guabira S.A\\_DATOS_PYTHON/_test//153.docx\n",
      "D:\\OneDrive - Ingenio Azucarero Guabira S.A\\_DATOS_PYTHON/_test//153.docx\n",
      "D:\\OneDrive - Ingenio Azucarero Guabira S.A\\_DATOS_PYTHON/_test//153.pdf\n"
     ]
    },
    {
     "data": {
      "application/vnd.jupyter.widget-view+json": {
       "model_id": "dbd41ad289d444da822c7d95d6fdea35",
       "version_major": 2,
       "version_minor": 0
      },
      "text/plain": [
       "  0%|          | 0/1 [00:00<?, ?it/s]"
      ]
     },
     "metadata": {},
     "output_type": "display_data"
    },
    {
     "name": "stdout",
     "output_type": "stream",
     "text": [
      "CONVIRTIENDO... INFORME 57 D:\\OneDrive - Ingenio Azucarero Guabira S.A\\_DATOS_PYTHON/_test//154.docx\n",
      "D:\\OneDrive - Ingenio Azucarero Guabira S.A\\_DATOS_PYTHON/_test//154.docx\n",
      "D:\\OneDrive - Ingenio Azucarero Guabira S.A\\_DATOS_PYTHON/_test//154.pdf\n"
     ]
    },
    {
     "data": {
      "application/vnd.jupyter.widget-view+json": {
       "model_id": "e82e74f98a914569b8c576c6eb5b51b4",
       "version_major": 2,
       "version_minor": 0
      },
      "text/plain": [
       "  0%|          | 0/1 [00:00<?, ?it/s]"
      ]
     },
     "metadata": {},
     "output_type": "display_data"
    },
    {
     "name": "stdout",
     "output_type": "stream",
     "text": [
      "CONVIRTIENDO... INFORME 58 D:\\OneDrive - Ingenio Azucarero Guabira S.A\\_DATOS_PYTHON/_test//155.docx\n",
      "D:\\OneDrive - Ingenio Azucarero Guabira S.A\\_DATOS_PYTHON/_test//155.docx\n",
      "D:\\OneDrive - Ingenio Azucarero Guabira S.A\\_DATOS_PYTHON/_test//155.pdf\n"
     ]
    },
    {
     "data": {
      "application/vnd.jupyter.widget-view+json": {
       "model_id": "25cdbba92f0f4e7484a9ca8cd1e5336d",
       "version_major": 2,
       "version_minor": 0
      },
      "text/plain": [
       "  0%|          | 0/1 [00:00<?, ?it/s]"
      ]
     },
     "metadata": {},
     "output_type": "display_data"
    },
    {
     "name": "stdout",
     "output_type": "stream",
     "text": [
      "CONVIRTIENDO... INFORME 59 D:\\OneDrive - Ingenio Azucarero Guabira S.A\\_DATOS_PYTHON/_test//156.docx\n",
      "D:\\OneDrive - Ingenio Azucarero Guabira S.A\\_DATOS_PYTHON/_test//156.docx\n",
      "D:\\OneDrive - Ingenio Azucarero Guabira S.A\\_DATOS_PYTHON/_test//156.pdf\n"
     ]
    },
    {
     "data": {
      "application/vnd.jupyter.widget-view+json": {
       "model_id": "b0fa1b18c99148b5bee38fd5b8e1f395",
       "version_major": 2,
       "version_minor": 0
      },
      "text/plain": [
       "  0%|          | 0/1 [00:00<?, ?it/s]"
      ]
     },
     "metadata": {},
     "output_type": "display_data"
    },
    {
     "name": "stdout",
     "output_type": "stream",
     "text": [
      "CONVIRTIENDO... INFORME 60 D:\\OneDrive - Ingenio Azucarero Guabira S.A\\_DATOS_PYTHON/_test//157.docx\n",
      "D:\\OneDrive - Ingenio Azucarero Guabira S.A\\_DATOS_PYTHON/_test//157.docx\n",
      "D:\\OneDrive - Ingenio Azucarero Guabira S.A\\_DATOS_PYTHON/_test//157.pdf\n"
     ]
    },
    {
     "data": {
      "application/vnd.jupyter.widget-view+json": {
       "model_id": "c9a40c588aec48bcbe2dfcdd6e33fdd5",
       "version_major": 2,
       "version_minor": 0
      },
      "text/plain": [
       "  0%|          | 0/1 [00:00<?, ?it/s]"
      ]
     },
     "metadata": {},
     "output_type": "display_data"
    },
    {
     "name": "stdout",
     "output_type": "stream",
     "text": [
      "CONVIRTIENDO... INFORME 61 D:\\OneDrive - Ingenio Azucarero Guabira S.A\\_DATOS_PYTHON/_test//158.docx\n",
      "D:\\OneDrive - Ingenio Azucarero Guabira S.A\\_DATOS_PYTHON/_test//158.docx\n",
      "D:\\OneDrive - Ingenio Azucarero Guabira S.A\\_DATOS_PYTHON/_test//158.pdf\n"
     ]
    },
    {
     "data": {
      "application/vnd.jupyter.widget-view+json": {
       "model_id": "f4840ddd73ad4d2290dc7cb232b41c9b",
       "version_major": 2,
       "version_minor": 0
      },
      "text/plain": [
       "  0%|          | 0/1 [00:00<?, ?it/s]"
      ]
     },
     "metadata": {},
     "output_type": "display_data"
    },
    {
     "name": "stdout",
     "output_type": "stream",
     "text": [
      "CONVIRTIENDO... INFORME 62 D:\\OneDrive - Ingenio Azucarero Guabira S.A\\_DATOS_PYTHON/_test//159.docx\n",
      "D:\\OneDrive - Ingenio Azucarero Guabira S.A\\_DATOS_PYTHON/_test//159.docx\n",
      "D:\\OneDrive - Ingenio Azucarero Guabira S.A\\_DATOS_PYTHON/_test//159.pdf\n"
     ]
    },
    {
     "data": {
      "application/vnd.jupyter.widget-view+json": {
       "model_id": "05ab25d2ff464ee797b51fd42c5f30e6",
       "version_major": 2,
       "version_minor": 0
      },
      "text/plain": [
       "  0%|          | 0/1 [00:00<?, ?it/s]"
      ]
     },
     "metadata": {},
     "output_type": "display_data"
    },
    {
     "name": "stdout",
     "output_type": "stream",
     "text": [
      "CONVIRTIENDO... INFORME 63 D:\\OneDrive - Ingenio Azucarero Guabira S.A\\_DATOS_PYTHON/_test//16.docx\n",
      "D:\\OneDrive - Ingenio Azucarero Guabira S.A\\_DATOS_PYTHON/_test//16.docx\n",
      "D:\\OneDrive - Ingenio Azucarero Guabira S.A\\_DATOS_PYTHON/_test//16.pdf\n"
     ]
    },
    {
     "data": {
      "application/vnd.jupyter.widget-view+json": {
       "model_id": "6dfdcf1812834df089a9454000650470",
       "version_major": 2,
       "version_minor": 0
      },
      "text/plain": [
       "  0%|          | 0/1 [00:00<?, ?it/s]"
      ]
     },
     "metadata": {},
     "output_type": "display_data"
    },
    {
     "name": "stdout",
     "output_type": "stream",
     "text": [
      "CONVIRTIENDO... INFORME 64 D:\\OneDrive - Ingenio Azucarero Guabira S.A\\_DATOS_PYTHON/_test//161.docx\n",
      "D:\\OneDrive - Ingenio Azucarero Guabira S.A\\_DATOS_PYTHON/_test//161.docx\n",
      "D:\\OneDrive - Ingenio Azucarero Guabira S.A\\_DATOS_PYTHON/_test//161.pdf\n"
     ]
    },
    {
     "data": {
      "application/vnd.jupyter.widget-view+json": {
       "model_id": "4e37a510f2cd447db81df3ed03c2ccd6",
       "version_major": 2,
       "version_minor": 0
      },
      "text/plain": [
       "  0%|          | 0/1 [00:00<?, ?it/s]"
      ]
     },
     "metadata": {},
     "output_type": "display_data"
    },
    {
     "name": "stdout",
     "output_type": "stream",
     "text": [
      "CONVIRTIENDO... INFORME 65 D:\\OneDrive - Ingenio Azucarero Guabira S.A\\_DATOS_PYTHON/_test//162.docx\n",
      "D:\\OneDrive - Ingenio Azucarero Guabira S.A\\_DATOS_PYTHON/_test//162.docx\n",
      "D:\\OneDrive - Ingenio Azucarero Guabira S.A\\_DATOS_PYTHON/_test//162.pdf\n"
     ]
    },
    {
     "data": {
      "application/vnd.jupyter.widget-view+json": {
       "model_id": "57caee15c0c6458bbe736674592ec03b",
       "version_major": 2,
       "version_minor": 0
      },
      "text/plain": [
       "  0%|          | 0/1 [00:00<?, ?it/s]"
      ]
     },
     "metadata": {},
     "output_type": "display_data"
    },
    {
     "name": "stdout",
     "output_type": "stream",
     "text": [
      "CONVIRTIENDO... INFORME 66 D:\\OneDrive - Ingenio Azucarero Guabira S.A\\_DATOS_PYTHON/_test//163.docx\n",
      "D:\\OneDrive - Ingenio Azucarero Guabira S.A\\_DATOS_PYTHON/_test//163.docx\n",
      "D:\\OneDrive - Ingenio Azucarero Guabira S.A\\_DATOS_PYTHON/_test//163.pdf\n"
     ]
    },
    {
     "data": {
      "application/vnd.jupyter.widget-view+json": {
       "model_id": "ea9a107524a34652877f6b661795e82e",
       "version_major": 2,
       "version_minor": 0
      },
      "text/plain": [
       "  0%|          | 0/1 [00:00<?, ?it/s]"
      ]
     },
     "metadata": {},
     "output_type": "display_data"
    },
    {
     "name": "stdout",
     "output_type": "stream",
     "text": [
      "CONVIRTIENDO... INFORME 67 D:\\OneDrive - Ingenio Azucarero Guabira S.A\\_DATOS_PYTHON/_test//164.docx\n",
      "D:\\OneDrive - Ingenio Azucarero Guabira S.A\\_DATOS_PYTHON/_test//164.docx\n",
      "D:\\OneDrive - Ingenio Azucarero Guabira S.A\\_DATOS_PYTHON/_test//164.pdf\n"
     ]
    },
    {
     "data": {
      "application/vnd.jupyter.widget-view+json": {
       "model_id": "f50f69a4e0714835b4870be45cdaf332",
       "version_major": 2,
       "version_minor": 0
      },
      "text/plain": [
       "  0%|          | 0/1 [00:00<?, ?it/s]"
      ]
     },
     "metadata": {},
     "output_type": "display_data"
    },
    {
     "name": "stdout",
     "output_type": "stream",
     "text": [
      "CONVIRTIENDO... INFORME 68 D:\\OneDrive - Ingenio Azucarero Guabira S.A\\_DATOS_PYTHON/_test//165.docx\n",
      "D:\\OneDrive - Ingenio Azucarero Guabira S.A\\_DATOS_PYTHON/_test//165.docx\n",
      "D:\\OneDrive - Ingenio Azucarero Guabira S.A\\_DATOS_PYTHON/_test//165.pdf\n"
     ]
    },
    {
     "data": {
      "application/vnd.jupyter.widget-view+json": {
       "model_id": "6b7a8907bcb14051bb7f747a2fcb36ac",
       "version_major": 2,
       "version_minor": 0
      },
      "text/plain": [
       "  0%|          | 0/1 [00:00<?, ?it/s]"
      ]
     },
     "metadata": {},
     "output_type": "display_data"
    },
    {
     "name": "stdout",
     "output_type": "stream",
     "text": [
      "CONVIRTIENDO... INFORME 69 D:\\OneDrive - Ingenio Azucarero Guabira S.A\\_DATOS_PYTHON/_test//166.docx\n",
      "D:\\OneDrive - Ingenio Azucarero Guabira S.A\\_DATOS_PYTHON/_test//166.docx\n",
      "D:\\OneDrive - Ingenio Azucarero Guabira S.A\\_DATOS_PYTHON/_test//166.pdf\n"
     ]
    },
    {
     "data": {
      "application/vnd.jupyter.widget-view+json": {
       "model_id": "2758494703bf4b32864d6357b2587a71",
       "version_major": 2,
       "version_minor": 0
      },
      "text/plain": [
       "  0%|          | 0/1 [00:00<?, ?it/s]"
      ]
     },
     "metadata": {},
     "output_type": "display_data"
    },
    {
     "name": "stdout",
     "output_type": "stream",
     "text": [
      "CONVIRTIENDO... INFORME 70 D:\\OneDrive - Ingenio Azucarero Guabira S.A\\_DATOS_PYTHON/_test//167.docx\n",
      "D:\\OneDrive - Ingenio Azucarero Guabira S.A\\_DATOS_PYTHON/_test//167.docx\n",
      "D:\\OneDrive - Ingenio Azucarero Guabira S.A\\_DATOS_PYTHON/_test//167.pdf\n"
     ]
    },
    {
     "data": {
      "application/vnd.jupyter.widget-view+json": {
       "model_id": "6a70ae3ad21c4054953844a4925680ca",
       "version_major": 2,
       "version_minor": 0
      },
      "text/plain": [
       "  0%|          | 0/1 [00:00<?, ?it/s]"
      ]
     },
     "metadata": {},
     "output_type": "display_data"
    },
    {
     "name": "stdout",
     "output_type": "stream",
     "text": [
      "CONVIRTIENDO... INFORME 71 D:\\OneDrive - Ingenio Azucarero Guabira S.A\\_DATOS_PYTHON/_test//168.docx\n",
      "D:\\OneDrive - Ingenio Azucarero Guabira S.A\\_DATOS_PYTHON/_test//168.docx\n",
      "D:\\OneDrive - Ingenio Azucarero Guabira S.A\\_DATOS_PYTHON/_test//168.pdf\n"
     ]
    },
    {
     "data": {
      "application/vnd.jupyter.widget-view+json": {
       "model_id": "473c3177b742442c8f39ebca2bd24db0",
       "version_major": 2,
       "version_minor": 0
      },
      "text/plain": [
       "  0%|          | 0/1 [00:00<?, ?it/s]"
      ]
     },
     "metadata": {},
     "output_type": "display_data"
    },
    {
     "name": "stdout",
     "output_type": "stream",
     "text": [
      "CONVIRTIENDO... INFORME 72 D:\\OneDrive - Ingenio Azucarero Guabira S.A\\_DATOS_PYTHON/_test//169.docx\n",
      "D:\\OneDrive - Ingenio Azucarero Guabira S.A\\_DATOS_PYTHON/_test//169.docx\n",
      "D:\\OneDrive - Ingenio Azucarero Guabira S.A\\_DATOS_PYTHON/_test//169.pdf\n"
     ]
    },
    {
     "data": {
      "application/vnd.jupyter.widget-view+json": {
       "model_id": "448ff3c0a33e4e23a3ce3d93d18fb2e6",
       "version_major": 2,
       "version_minor": 0
      },
      "text/plain": [
       "  0%|          | 0/1 [00:00<?, ?it/s]"
      ]
     },
     "metadata": {},
     "output_type": "display_data"
    },
    {
     "name": "stdout",
     "output_type": "stream",
     "text": [
      "CONVIRTIENDO... INFORME 73 D:\\OneDrive - Ingenio Azucarero Guabira S.A\\_DATOS_PYTHON/_test//17.docx\n",
      "D:\\OneDrive - Ingenio Azucarero Guabira S.A\\_DATOS_PYTHON/_test//17.docx\n",
      "D:\\OneDrive - Ingenio Azucarero Guabira S.A\\_DATOS_PYTHON/_test//17.pdf\n"
     ]
    },
    {
     "data": {
      "application/vnd.jupyter.widget-view+json": {
       "model_id": "a1ff8462f91846b78d164af6871fcfcd",
       "version_major": 2,
       "version_minor": 0
      },
      "text/plain": [
       "  0%|          | 0/1 [00:00<?, ?it/s]"
      ]
     },
     "metadata": {},
     "output_type": "display_data"
    },
    {
     "name": "stdout",
     "output_type": "stream",
     "text": [
      "CONVIRTIENDO... INFORME 74 D:\\OneDrive - Ingenio Azucarero Guabira S.A\\_DATOS_PYTHON/_test//170.docx\n",
      "D:\\OneDrive - Ingenio Azucarero Guabira S.A\\_DATOS_PYTHON/_test//170.docx\n",
      "D:\\OneDrive - Ingenio Azucarero Guabira S.A\\_DATOS_PYTHON/_test//170.pdf\n"
     ]
    },
    {
     "data": {
      "application/vnd.jupyter.widget-view+json": {
       "model_id": "6c5da418ce76465492fcde029c1682ab",
       "version_major": 2,
       "version_minor": 0
      },
      "text/plain": [
       "  0%|          | 0/1 [00:00<?, ?it/s]"
      ]
     },
     "metadata": {},
     "output_type": "display_data"
    },
    {
     "name": "stdout",
     "output_type": "stream",
     "text": [
      "CONVIRTIENDO... INFORME 75 D:\\OneDrive - Ingenio Azucarero Guabira S.A\\_DATOS_PYTHON/_test//171.docx\n",
      "D:\\OneDrive - Ingenio Azucarero Guabira S.A\\_DATOS_PYTHON/_test//171.docx\n",
      "D:\\OneDrive - Ingenio Azucarero Guabira S.A\\_DATOS_PYTHON/_test//171.pdf\n"
     ]
    },
    {
     "data": {
      "application/vnd.jupyter.widget-view+json": {
       "model_id": "483cf3b3b1dc4e2a8bf7e748f51dde0b",
       "version_major": 2,
       "version_minor": 0
      },
      "text/plain": [
       "  0%|          | 0/1 [00:00<?, ?it/s]"
      ]
     },
     "metadata": {},
     "output_type": "display_data"
    },
    {
     "name": "stdout",
     "output_type": "stream",
     "text": [
      "CONVIRTIENDO... INFORME 76 D:\\OneDrive - Ingenio Azucarero Guabira S.A\\_DATOS_PYTHON/_test//172.docx\n",
      "D:\\OneDrive - Ingenio Azucarero Guabira S.A\\_DATOS_PYTHON/_test//172.docx\n",
      "D:\\OneDrive - Ingenio Azucarero Guabira S.A\\_DATOS_PYTHON/_test//172.pdf\n"
     ]
    },
    {
     "data": {
      "application/vnd.jupyter.widget-view+json": {
       "model_id": "72a775f9c9ed476fbebc3adcc6e0160b",
       "version_major": 2,
       "version_minor": 0
      },
      "text/plain": [
       "  0%|          | 0/1 [00:00<?, ?it/s]"
      ]
     },
     "metadata": {},
     "output_type": "display_data"
    },
    {
     "name": "stdout",
     "output_type": "stream",
     "text": [
      "CONVIRTIENDO... INFORME 77 D:\\OneDrive - Ingenio Azucarero Guabira S.A\\_DATOS_PYTHON/_test//173.docx\n",
      "D:\\OneDrive - Ingenio Azucarero Guabira S.A\\_DATOS_PYTHON/_test//173.docx\n",
      "D:\\OneDrive - Ingenio Azucarero Guabira S.A\\_DATOS_PYTHON/_test//173.pdf\n"
     ]
    },
    {
     "data": {
      "application/vnd.jupyter.widget-view+json": {
       "model_id": "3de29352c562420d8bfb9225bea2fac5",
       "version_major": 2,
       "version_minor": 0
      },
      "text/plain": [
       "  0%|          | 0/1 [00:00<?, ?it/s]"
      ]
     },
     "metadata": {},
     "output_type": "display_data"
    },
    {
     "name": "stdout",
     "output_type": "stream",
     "text": [
      "CONVIRTIENDO... INFORME 78 D:\\OneDrive - Ingenio Azucarero Guabira S.A\\_DATOS_PYTHON/_test//174.docx\n",
      "D:\\OneDrive - Ingenio Azucarero Guabira S.A\\_DATOS_PYTHON/_test//174.docx\n",
      "D:\\OneDrive - Ingenio Azucarero Guabira S.A\\_DATOS_PYTHON/_test//174.pdf\n"
     ]
    },
    {
     "data": {
      "application/vnd.jupyter.widget-view+json": {
       "model_id": "93e9f459347c45bebc8e4bdafc8c8476",
       "version_major": 2,
       "version_minor": 0
      },
      "text/plain": [
       "  0%|          | 0/1 [00:00<?, ?it/s]"
      ]
     },
     "metadata": {},
     "output_type": "display_data"
    },
    {
     "name": "stdout",
     "output_type": "stream",
     "text": [
      "CONVIRTIENDO... INFORME 79 D:\\OneDrive - Ingenio Azucarero Guabira S.A\\_DATOS_PYTHON/_test//175.docx\n",
      "D:\\OneDrive - Ingenio Azucarero Guabira S.A\\_DATOS_PYTHON/_test//175.docx\n",
      "D:\\OneDrive - Ingenio Azucarero Guabira S.A\\_DATOS_PYTHON/_test//175.pdf\n"
     ]
    },
    {
     "data": {
      "application/vnd.jupyter.widget-view+json": {
       "model_id": "37540e4e8ed54c07bb0e03856fa578ba",
       "version_major": 2,
       "version_minor": 0
      },
      "text/plain": [
       "  0%|          | 0/1 [00:00<?, ?it/s]"
      ]
     },
     "metadata": {},
     "output_type": "display_data"
    },
    {
     "name": "stdout",
     "output_type": "stream",
     "text": [
      "CONVIRTIENDO... INFORME 80 D:\\OneDrive - Ingenio Azucarero Guabira S.A\\_DATOS_PYTHON/_test//176.docx\n",
      "D:\\OneDrive - Ingenio Azucarero Guabira S.A\\_DATOS_PYTHON/_test//176.docx\n",
      "D:\\OneDrive - Ingenio Azucarero Guabira S.A\\_DATOS_PYTHON/_test//176.pdf\n"
     ]
    },
    {
     "data": {
      "application/vnd.jupyter.widget-view+json": {
       "model_id": "6192f945bdf04e399ce12877aaca77f0",
       "version_major": 2,
       "version_minor": 0
      },
      "text/plain": [
       "  0%|          | 0/1 [00:00<?, ?it/s]"
      ]
     },
     "metadata": {},
     "output_type": "display_data"
    },
    {
     "name": "stdout",
     "output_type": "stream",
     "text": [
      "CONVIRTIENDO... INFORME 81 D:\\OneDrive - Ingenio Azucarero Guabira S.A\\_DATOS_PYTHON/_test//177.docx\n",
      "D:\\OneDrive - Ingenio Azucarero Guabira S.A\\_DATOS_PYTHON/_test//177.docx\n",
      "D:\\OneDrive - Ingenio Azucarero Guabira S.A\\_DATOS_PYTHON/_test//177.pdf\n"
     ]
    },
    {
     "data": {
      "application/vnd.jupyter.widget-view+json": {
       "model_id": "d83e9d3d99a1427ab31565ecb371bd93",
       "version_major": 2,
       "version_minor": 0
      },
      "text/plain": [
       "  0%|          | 0/1 [00:00<?, ?it/s]"
      ]
     },
     "metadata": {},
     "output_type": "display_data"
    },
    {
     "name": "stdout",
     "output_type": "stream",
     "text": [
      "CONVIRTIENDO... INFORME 82 D:\\OneDrive - Ingenio Azucarero Guabira S.A\\_DATOS_PYTHON/_test//179.docx\n",
      "D:\\OneDrive - Ingenio Azucarero Guabira S.A\\_DATOS_PYTHON/_test//179.docx\n",
      "D:\\OneDrive - Ingenio Azucarero Guabira S.A\\_DATOS_PYTHON/_test//179.pdf\n"
     ]
    },
    {
     "data": {
      "application/vnd.jupyter.widget-view+json": {
       "model_id": "41c9dd7c96e74d02a761eaf9bbb0af03",
       "version_major": 2,
       "version_minor": 0
      },
      "text/plain": [
       "  0%|          | 0/1 [00:00<?, ?it/s]"
      ]
     },
     "metadata": {},
     "output_type": "display_data"
    },
    {
     "name": "stdout",
     "output_type": "stream",
     "text": [
      "CONVIRTIENDO... INFORME 83 D:\\OneDrive - Ingenio Azucarero Guabira S.A\\_DATOS_PYTHON/_test//18.docx\n",
      "D:\\OneDrive - Ingenio Azucarero Guabira S.A\\_DATOS_PYTHON/_test//18.docx\n",
      "D:\\OneDrive - Ingenio Azucarero Guabira S.A\\_DATOS_PYTHON/_test//18.pdf\n"
     ]
    },
    {
     "data": {
      "application/vnd.jupyter.widget-view+json": {
       "model_id": "cd8ecc52acee4d8984a0969742c486ea",
       "version_major": 2,
       "version_minor": 0
      },
      "text/plain": [
       "  0%|          | 0/1 [00:00<?, ?it/s]"
      ]
     },
     "metadata": {},
     "output_type": "display_data"
    },
    {
     "name": "stdout",
     "output_type": "stream",
     "text": [
      "CONVIRTIENDO... INFORME 84 D:\\OneDrive - Ingenio Azucarero Guabira S.A\\_DATOS_PYTHON/_test//180.docx\n",
      "D:\\OneDrive - Ingenio Azucarero Guabira S.A\\_DATOS_PYTHON/_test//180.docx\n",
      "D:\\OneDrive - Ingenio Azucarero Guabira S.A\\_DATOS_PYTHON/_test//180.pdf\n"
     ]
    },
    {
     "data": {
      "application/vnd.jupyter.widget-view+json": {
       "model_id": "c812dd7e675b4d279f921667e48cc53d",
       "version_major": 2,
       "version_minor": 0
      },
      "text/plain": [
       "  0%|          | 0/1 [00:00<?, ?it/s]"
      ]
     },
     "metadata": {},
     "output_type": "display_data"
    },
    {
     "name": "stdout",
     "output_type": "stream",
     "text": [
      "CONVIRTIENDO... INFORME 85 D:\\OneDrive - Ingenio Azucarero Guabira S.A\\_DATOS_PYTHON/_test//181.docx\n",
      "D:\\OneDrive - Ingenio Azucarero Guabira S.A\\_DATOS_PYTHON/_test//181.docx\n",
      "D:\\OneDrive - Ingenio Azucarero Guabira S.A\\_DATOS_PYTHON/_test//181.pdf\n"
     ]
    },
    {
     "data": {
      "application/vnd.jupyter.widget-view+json": {
       "model_id": "85e67982bd7b4726865d444a419c6151",
       "version_major": 2,
       "version_minor": 0
      },
      "text/plain": [
       "  0%|          | 0/1 [00:00<?, ?it/s]"
      ]
     },
     "metadata": {},
     "output_type": "display_data"
    },
    {
     "name": "stdout",
     "output_type": "stream",
     "text": [
      "CONVIRTIENDO... INFORME 86 D:\\OneDrive - Ingenio Azucarero Guabira S.A\\_DATOS_PYTHON/_test//182.docx\n",
      "D:\\OneDrive - Ingenio Azucarero Guabira S.A\\_DATOS_PYTHON/_test//182.docx\n",
      "D:\\OneDrive - Ingenio Azucarero Guabira S.A\\_DATOS_PYTHON/_test//182.pdf\n"
     ]
    },
    {
     "data": {
      "application/vnd.jupyter.widget-view+json": {
       "model_id": "60beb1ef44b3488793a07646e833e52f",
       "version_major": 2,
       "version_minor": 0
      },
      "text/plain": [
       "  0%|          | 0/1 [00:00<?, ?it/s]"
      ]
     },
     "metadata": {},
     "output_type": "display_data"
    },
    {
     "name": "stdout",
     "output_type": "stream",
     "text": [
      "CONVIRTIENDO... INFORME 87 D:\\OneDrive - Ingenio Azucarero Guabira S.A\\_DATOS_PYTHON/_test//183.docx\n",
      "D:\\OneDrive - Ingenio Azucarero Guabira S.A\\_DATOS_PYTHON/_test//183.docx\n",
      "D:\\OneDrive - Ingenio Azucarero Guabira S.A\\_DATOS_PYTHON/_test//183.pdf\n"
     ]
    },
    {
     "data": {
      "application/vnd.jupyter.widget-view+json": {
       "model_id": "5b11e133e4bf47d7b75244b8aab0c6fe",
       "version_major": 2,
       "version_minor": 0
      },
      "text/plain": [
       "  0%|          | 0/1 [00:00<?, ?it/s]"
      ]
     },
     "metadata": {},
     "output_type": "display_data"
    },
    {
     "name": "stdout",
     "output_type": "stream",
     "text": [
      "CONVIRTIENDO... INFORME 88 D:\\OneDrive - Ingenio Azucarero Guabira S.A\\_DATOS_PYTHON/_test//184.docx\n",
      "D:\\OneDrive - Ingenio Azucarero Guabira S.A\\_DATOS_PYTHON/_test//184.docx\n",
      "D:\\OneDrive - Ingenio Azucarero Guabira S.A\\_DATOS_PYTHON/_test//184.pdf\n"
     ]
    },
    {
     "data": {
      "application/vnd.jupyter.widget-view+json": {
       "model_id": "19e3d73c5d6640c4aaa23ebc1fb170e3",
       "version_major": 2,
       "version_minor": 0
      },
      "text/plain": [
       "  0%|          | 0/1 [00:00<?, ?it/s]"
      ]
     },
     "metadata": {},
     "output_type": "display_data"
    },
    {
     "name": "stdout",
     "output_type": "stream",
     "text": [
      "CONVIRTIENDO... INFORME 89 D:\\OneDrive - Ingenio Azucarero Guabira S.A\\_DATOS_PYTHON/_test//185.docx\n",
      "D:\\OneDrive - Ingenio Azucarero Guabira S.A\\_DATOS_PYTHON/_test//185.docx\n",
      "D:\\OneDrive - Ingenio Azucarero Guabira S.A\\_DATOS_PYTHON/_test//185.pdf\n"
     ]
    },
    {
     "data": {
      "application/vnd.jupyter.widget-view+json": {
       "model_id": "6d35d75e20ce4fc7916e309f871624c8",
       "version_major": 2,
       "version_minor": 0
      },
      "text/plain": [
       "  0%|          | 0/1 [00:00<?, ?it/s]"
      ]
     },
     "metadata": {},
     "output_type": "display_data"
    },
    {
     "name": "stdout",
     "output_type": "stream",
     "text": [
      "CONVIRTIENDO... INFORME 90 D:\\OneDrive - Ingenio Azucarero Guabira S.A\\_DATOS_PYTHON/_test//186.docx\n",
      "D:\\OneDrive - Ingenio Azucarero Guabira S.A\\_DATOS_PYTHON/_test//186.docx\n",
      "D:\\OneDrive - Ingenio Azucarero Guabira S.A\\_DATOS_PYTHON/_test//186.pdf\n"
     ]
    },
    {
     "data": {
      "application/vnd.jupyter.widget-view+json": {
       "model_id": "ed1ae36c92a94aec8351dec5a4c206db",
       "version_major": 2,
       "version_minor": 0
      },
      "text/plain": [
       "  0%|          | 0/1 [00:00<?, ?it/s]"
      ]
     },
     "metadata": {},
     "output_type": "display_data"
    },
    {
     "name": "stdout",
     "output_type": "stream",
     "text": [
      "CONVIRTIENDO... INFORME 91 D:\\OneDrive - Ingenio Azucarero Guabira S.A\\_DATOS_PYTHON/_test//187.docx\n",
      "D:\\OneDrive - Ingenio Azucarero Guabira S.A\\_DATOS_PYTHON/_test//187.docx\n",
      "D:\\OneDrive - Ingenio Azucarero Guabira S.A\\_DATOS_PYTHON/_test//187.pdf\n"
     ]
    },
    {
     "data": {
      "application/vnd.jupyter.widget-view+json": {
       "model_id": "cce06246b9204a96a22849ab41befd0f",
       "version_major": 2,
       "version_minor": 0
      },
      "text/plain": [
       "  0%|          | 0/1 [00:00<?, ?it/s]"
      ]
     },
     "metadata": {},
     "output_type": "display_data"
    },
    {
     "name": "stdout",
     "output_type": "stream",
     "text": [
      "CONVIRTIENDO... INFORME 92 D:\\OneDrive - Ingenio Azucarero Guabira S.A\\_DATOS_PYTHON/_test//188.docx\n",
      "D:\\OneDrive - Ingenio Azucarero Guabira S.A\\_DATOS_PYTHON/_test//188.docx\n",
      "D:\\OneDrive - Ingenio Azucarero Guabira S.A\\_DATOS_PYTHON/_test//188.pdf\n"
     ]
    },
    {
     "data": {
      "application/vnd.jupyter.widget-view+json": {
       "model_id": "f4d663d046d04870845eee9cad515381",
       "version_major": 2,
       "version_minor": 0
      },
      "text/plain": [
       "  0%|          | 0/1 [00:00<?, ?it/s]"
      ]
     },
     "metadata": {},
     "output_type": "display_data"
    },
    {
     "name": "stdout",
     "output_type": "stream",
     "text": [
      "CONVIRTIENDO... INFORME 93 D:\\OneDrive - Ingenio Azucarero Guabira S.A\\_DATOS_PYTHON/_test//189.docx\n",
      "D:\\OneDrive - Ingenio Azucarero Guabira S.A\\_DATOS_PYTHON/_test//189.docx\n",
      "D:\\OneDrive - Ingenio Azucarero Guabira S.A\\_DATOS_PYTHON/_test//189.pdf\n"
     ]
    },
    {
     "data": {
      "application/vnd.jupyter.widget-view+json": {
       "model_id": "fc2524e8e4a445209cfc081a5faf26fd",
       "version_major": 2,
       "version_minor": 0
      },
      "text/plain": [
       "  0%|          | 0/1 [00:00<?, ?it/s]"
      ]
     },
     "metadata": {},
     "output_type": "display_data"
    },
    {
     "name": "stdout",
     "output_type": "stream",
     "text": [
      "CONVIRTIENDO... INFORME 94 D:\\OneDrive - Ingenio Azucarero Guabira S.A\\_DATOS_PYTHON/_test//19.docx\n",
      "D:\\OneDrive - Ingenio Azucarero Guabira S.A\\_DATOS_PYTHON/_test//19.docx\n",
      "D:\\OneDrive - Ingenio Azucarero Guabira S.A\\_DATOS_PYTHON/_test//19.pdf\n"
     ]
    },
    {
     "data": {
      "application/vnd.jupyter.widget-view+json": {
       "model_id": "e08223e9a9fe4586acd3f1be76f513d4",
       "version_major": 2,
       "version_minor": 0
      },
      "text/plain": [
       "  0%|          | 0/1 [00:00<?, ?it/s]"
      ]
     },
     "metadata": {},
     "output_type": "display_data"
    },
    {
     "name": "stdout",
     "output_type": "stream",
     "text": [
      "CONVIRTIENDO... INFORME 95 D:\\OneDrive - Ingenio Azucarero Guabira S.A\\_DATOS_PYTHON/_test//190.docx\n",
      "D:\\OneDrive - Ingenio Azucarero Guabira S.A\\_DATOS_PYTHON/_test//190.docx\n",
      "D:\\OneDrive - Ingenio Azucarero Guabira S.A\\_DATOS_PYTHON/_test//190.pdf\n"
     ]
    },
    {
     "data": {
      "application/vnd.jupyter.widget-view+json": {
       "model_id": "05f45963a0934a5aaf5584e4773277c9",
       "version_major": 2,
       "version_minor": 0
      },
      "text/plain": [
       "  0%|          | 0/1 [00:00<?, ?it/s]"
      ]
     },
     "metadata": {},
     "output_type": "display_data"
    },
    {
     "name": "stdout",
     "output_type": "stream",
     "text": [
      "CONVIRTIENDO... INFORME 96 D:\\OneDrive - Ingenio Azucarero Guabira S.A\\_DATOS_PYTHON/_test//191.docx\n",
      "D:\\OneDrive - Ingenio Azucarero Guabira S.A\\_DATOS_PYTHON/_test//191.docx\n",
      "D:\\OneDrive - Ingenio Azucarero Guabira S.A\\_DATOS_PYTHON/_test//191.pdf\n"
     ]
    },
    {
     "data": {
      "application/vnd.jupyter.widget-view+json": {
       "model_id": "4723d9e495554035afdc4468327388ce",
       "version_major": 2,
       "version_minor": 0
      },
      "text/plain": [
       "  0%|          | 0/1 [00:00<?, ?it/s]"
      ]
     },
     "metadata": {},
     "output_type": "display_data"
    },
    {
     "name": "stdout",
     "output_type": "stream",
     "text": [
      "CONVIRTIENDO... INFORME 97 D:\\OneDrive - Ingenio Azucarero Guabira S.A\\_DATOS_PYTHON/_test//192.docx\n",
      "D:\\OneDrive - Ingenio Azucarero Guabira S.A\\_DATOS_PYTHON/_test//192.docx\n",
      "D:\\OneDrive - Ingenio Azucarero Guabira S.A\\_DATOS_PYTHON/_test//192.pdf\n"
     ]
    },
    {
     "data": {
      "application/vnd.jupyter.widget-view+json": {
       "model_id": "938b1825b54945669a01bfe08f0459bb",
       "version_major": 2,
       "version_minor": 0
      },
      "text/plain": [
       "  0%|          | 0/1 [00:00<?, ?it/s]"
      ]
     },
     "metadata": {},
     "output_type": "display_data"
    },
    {
     "name": "stdout",
     "output_type": "stream",
     "text": [
      "CONVIRTIENDO... INFORME 98 D:\\OneDrive - Ingenio Azucarero Guabira S.A\\_DATOS_PYTHON/_test//193.docx\n",
      "D:\\OneDrive - Ingenio Azucarero Guabira S.A\\_DATOS_PYTHON/_test//193.docx\n",
      "D:\\OneDrive - Ingenio Azucarero Guabira S.A\\_DATOS_PYTHON/_test//193.pdf\n"
     ]
    },
    {
     "data": {
      "application/vnd.jupyter.widget-view+json": {
       "model_id": "a1e1b3d81a9444c09f8558292868f4a5",
       "version_major": 2,
       "version_minor": 0
      },
      "text/plain": [
       "  0%|          | 0/1 [00:00<?, ?it/s]"
      ]
     },
     "metadata": {},
     "output_type": "display_data"
    },
    {
     "name": "stdout",
     "output_type": "stream",
     "text": [
      "CONVIRTIENDO... INFORME 99 D:\\OneDrive - Ingenio Azucarero Guabira S.A\\_DATOS_PYTHON/_test//194.docx\n",
      "D:\\OneDrive - Ingenio Azucarero Guabira S.A\\_DATOS_PYTHON/_test//194.docx\n",
      "D:\\OneDrive - Ingenio Azucarero Guabira S.A\\_DATOS_PYTHON/_test//194.pdf\n"
     ]
    },
    {
     "data": {
      "application/vnd.jupyter.widget-view+json": {
       "model_id": "cfdaa471767147b4ac07263e6d740f48",
       "version_major": 2,
       "version_minor": 0
      },
      "text/plain": [
       "  0%|          | 0/1 [00:00<?, ?it/s]"
      ]
     },
     "metadata": {},
     "output_type": "display_data"
    },
    {
     "name": "stdout",
     "output_type": "stream",
     "text": [
      "CONVIRTIENDO... INFORME 100 D:\\OneDrive - Ingenio Azucarero Guabira S.A\\_DATOS_PYTHON/_test//195.docx\n",
      "D:\\OneDrive - Ingenio Azucarero Guabira S.A\\_DATOS_PYTHON/_test//195.docx\n",
      "D:\\OneDrive - Ingenio Azucarero Guabira S.A\\_DATOS_PYTHON/_test//195.pdf\n"
     ]
    },
    {
     "data": {
      "application/vnd.jupyter.widget-view+json": {
       "model_id": "b8960c867a024a10bf2820ff50284431",
       "version_major": 2,
       "version_minor": 0
      },
      "text/plain": [
       "  0%|          | 0/1 [00:00<?, ?it/s]"
      ]
     },
     "metadata": {},
     "output_type": "display_data"
    },
    {
     "name": "stdout",
     "output_type": "stream",
     "text": [
      "CONVIRTIENDO... INFORME 101 D:\\OneDrive - Ingenio Azucarero Guabira S.A\\_DATOS_PYTHON/_test//196.docx\n",
      "D:\\OneDrive - Ingenio Azucarero Guabira S.A\\_DATOS_PYTHON/_test//196.docx\n",
      "D:\\OneDrive - Ingenio Azucarero Guabira S.A\\_DATOS_PYTHON/_test//196.pdf\n"
     ]
    },
    {
     "data": {
      "application/vnd.jupyter.widget-view+json": {
       "model_id": "d4870aff0fcd47abbb7787039cee9f68",
       "version_major": 2,
       "version_minor": 0
      },
      "text/plain": [
       "  0%|          | 0/1 [00:00<?, ?it/s]"
      ]
     },
     "metadata": {},
     "output_type": "display_data"
    },
    {
     "name": "stdout",
     "output_type": "stream",
     "text": [
      "CONVIRTIENDO... INFORME 102 D:\\OneDrive - Ingenio Azucarero Guabira S.A\\_DATOS_PYTHON/_test//197.docx\n",
      "D:\\OneDrive - Ingenio Azucarero Guabira S.A\\_DATOS_PYTHON/_test//197.docx\n",
      "D:\\OneDrive - Ingenio Azucarero Guabira S.A\\_DATOS_PYTHON/_test//197.pdf\n"
     ]
    },
    {
     "data": {
      "application/vnd.jupyter.widget-view+json": {
       "model_id": "981b80cd649b4dcd8893dae29c0cd798",
       "version_major": 2,
       "version_minor": 0
      },
      "text/plain": [
       "  0%|          | 0/1 [00:00<?, ?it/s]"
      ]
     },
     "metadata": {},
     "output_type": "display_data"
    },
    {
     "name": "stdout",
     "output_type": "stream",
     "text": [
      "CONVIRTIENDO... INFORME 103 D:\\OneDrive - Ingenio Azucarero Guabira S.A\\_DATOS_PYTHON/_test//198.docx\n",
      "D:\\OneDrive - Ingenio Azucarero Guabira S.A\\_DATOS_PYTHON/_test//198.docx\n",
      "D:\\OneDrive - Ingenio Azucarero Guabira S.A\\_DATOS_PYTHON/_test//198.pdf\n"
     ]
    },
    {
     "data": {
      "application/vnd.jupyter.widget-view+json": {
       "model_id": "d8a9676d56564f1e8dbab7a103a74146",
       "version_major": 2,
       "version_minor": 0
      },
      "text/plain": [
       "  0%|          | 0/1 [00:00<?, ?it/s]"
      ]
     },
     "metadata": {},
     "output_type": "display_data"
    },
    {
     "name": "stdout",
     "output_type": "stream",
     "text": [
      "CONVIRTIENDO... INFORME 104 D:\\OneDrive - Ingenio Azucarero Guabira S.A\\_DATOS_PYTHON/_test//199.docx\n",
      "D:\\OneDrive - Ingenio Azucarero Guabira S.A\\_DATOS_PYTHON/_test//199.docx\n",
      "D:\\OneDrive - Ingenio Azucarero Guabira S.A\\_DATOS_PYTHON/_test//199.pdf\n"
     ]
    },
    {
     "data": {
      "application/vnd.jupyter.widget-view+json": {
       "model_id": "bdc8296cfc4d4cc8b3e22bbd6b12d4d2",
       "version_major": 2,
       "version_minor": 0
      },
      "text/plain": [
       "  0%|          | 0/1 [00:00<?, ?it/s]"
      ]
     },
     "metadata": {},
     "output_type": "display_data"
    },
    {
     "name": "stdout",
     "output_type": "stream",
     "text": [
      "CONVIRTIENDO... INFORME 105 D:\\OneDrive - Ingenio Azucarero Guabira S.A\\_DATOS_PYTHON/_test//2.docx\n",
      "D:\\OneDrive - Ingenio Azucarero Guabira S.A\\_DATOS_PYTHON/_test//2.docx\n",
      "D:\\OneDrive - Ingenio Azucarero Guabira S.A\\_DATOS_PYTHON/_test//2.pdf\n"
     ]
    },
    {
     "data": {
      "application/vnd.jupyter.widget-view+json": {
       "model_id": "0a5d4d37406941ce8353268c517193f5",
       "version_major": 2,
       "version_minor": 0
      },
      "text/plain": [
       "  0%|          | 0/1 [00:00<?, ?it/s]"
      ]
     },
     "metadata": {},
     "output_type": "display_data"
    },
    {
     "name": "stdout",
     "output_type": "stream",
     "text": [
      "CONVIRTIENDO... INFORME 106 D:\\OneDrive - Ingenio Azucarero Guabira S.A\\_DATOS_PYTHON/_test//20.docx\n",
      "D:\\OneDrive - Ingenio Azucarero Guabira S.A\\_DATOS_PYTHON/_test//20.docx\n",
      "D:\\OneDrive - Ingenio Azucarero Guabira S.A\\_DATOS_PYTHON/_test//20.pdf\n"
     ]
    },
    {
     "data": {
      "application/vnd.jupyter.widget-view+json": {
       "model_id": "f4873d62fca0471d8b212e39f3d7ee36",
       "version_major": 2,
       "version_minor": 0
      },
      "text/plain": [
       "  0%|          | 0/1 [00:00<?, ?it/s]"
      ]
     },
     "metadata": {},
     "output_type": "display_data"
    },
    {
     "name": "stdout",
     "output_type": "stream",
     "text": [
      "CONVIRTIENDO... INFORME 107 D:\\OneDrive - Ingenio Azucarero Guabira S.A\\_DATOS_PYTHON/_test//201.docx\n",
      "D:\\OneDrive - Ingenio Azucarero Guabira S.A\\_DATOS_PYTHON/_test//201.docx\n",
      "D:\\OneDrive - Ingenio Azucarero Guabira S.A\\_DATOS_PYTHON/_test//201.pdf\n"
     ]
    },
    {
     "data": {
      "application/vnd.jupyter.widget-view+json": {
       "model_id": "b3800dfc8e1c482caca253ce681c7b0d",
       "version_major": 2,
       "version_minor": 0
      },
      "text/plain": [
       "  0%|          | 0/1 [00:00<?, ?it/s]"
      ]
     },
     "metadata": {},
     "output_type": "display_data"
    },
    {
     "name": "stdout",
     "output_type": "stream",
     "text": [
      "CONVIRTIENDO... INFORME 108 D:\\OneDrive - Ingenio Azucarero Guabira S.A\\_DATOS_PYTHON/_test//202.docx\n",
      "D:\\OneDrive - Ingenio Azucarero Guabira S.A\\_DATOS_PYTHON/_test//202.docx\n",
      "D:\\OneDrive - Ingenio Azucarero Guabira S.A\\_DATOS_PYTHON/_test//202.pdf\n"
     ]
    },
    {
     "data": {
      "application/vnd.jupyter.widget-view+json": {
       "model_id": "eb81948054b24fdf95d6fff1cb8ad49f",
       "version_major": 2,
       "version_minor": 0
      },
      "text/plain": [
       "  0%|          | 0/1 [00:00<?, ?it/s]"
      ]
     },
     "metadata": {},
     "output_type": "display_data"
    },
    {
     "name": "stdout",
     "output_type": "stream",
     "text": [
      "CONVIRTIENDO... INFORME 109 D:\\OneDrive - Ingenio Azucarero Guabira S.A\\_DATOS_PYTHON/_test//203.docx\n",
      "D:\\OneDrive - Ingenio Azucarero Guabira S.A\\_DATOS_PYTHON/_test//203.docx\n",
      "D:\\OneDrive - Ingenio Azucarero Guabira S.A\\_DATOS_PYTHON/_test//203.pdf\n"
     ]
    },
    {
     "data": {
      "application/vnd.jupyter.widget-view+json": {
       "model_id": "392b956587b649f3b1ccdcac5d2c6721",
       "version_major": 2,
       "version_minor": 0
      },
      "text/plain": [
       "  0%|          | 0/1 [00:00<?, ?it/s]"
      ]
     },
     "metadata": {},
     "output_type": "display_data"
    },
    {
     "name": "stdout",
     "output_type": "stream",
     "text": [
      "CONVIRTIENDO... INFORME 110 D:\\OneDrive - Ingenio Azucarero Guabira S.A\\_DATOS_PYTHON/_test//204.docx\n",
      "D:\\OneDrive - Ingenio Azucarero Guabira S.A\\_DATOS_PYTHON/_test//204.docx\n",
      "D:\\OneDrive - Ingenio Azucarero Guabira S.A\\_DATOS_PYTHON/_test//204.pdf\n"
     ]
    },
    {
     "data": {
      "application/vnd.jupyter.widget-view+json": {
       "model_id": "33688d310e8f4950bc6b8234095d89e6",
       "version_major": 2,
       "version_minor": 0
      },
      "text/plain": [
       "  0%|          | 0/1 [00:00<?, ?it/s]"
      ]
     },
     "metadata": {},
     "output_type": "display_data"
    },
    {
     "name": "stdout",
     "output_type": "stream",
     "text": [
      "CONVIRTIENDO... INFORME 111 D:\\OneDrive - Ingenio Azucarero Guabira S.A\\_DATOS_PYTHON/_test//205.docx\n",
      "D:\\OneDrive - Ingenio Azucarero Guabira S.A\\_DATOS_PYTHON/_test//205.docx\n",
      "D:\\OneDrive - Ingenio Azucarero Guabira S.A\\_DATOS_PYTHON/_test//205.pdf\n"
     ]
    },
    {
     "data": {
      "application/vnd.jupyter.widget-view+json": {
       "model_id": "1d0acc040a4e434c8b57a933c6eff2c9",
       "version_major": 2,
       "version_minor": 0
      },
      "text/plain": [
       "  0%|          | 0/1 [00:00<?, ?it/s]"
      ]
     },
     "metadata": {},
     "output_type": "display_data"
    },
    {
     "name": "stdout",
     "output_type": "stream",
     "text": [
      "CONVIRTIENDO... INFORME 112 D:\\OneDrive - Ingenio Azucarero Guabira S.A\\_DATOS_PYTHON/_test//206.docx\n",
      "D:\\OneDrive - Ingenio Azucarero Guabira S.A\\_DATOS_PYTHON/_test//206.docx\n",
      "D:\\OneDrive - Ingenio Azucarero Guabira S.A\\_DATOS_PYTHON/_test//206.pdf\n"
     ]
    },
    {
     "data": {
      "application/vnd.jupyter.widget-view+json": {
       "model_id": "b11caa8dd26843ab9eee7f922d89fd3b",
       "version_major": 2,
       "version_minor": 0
      },
      "text/plain": [
       "  0%|          | 0/1 [00:00<?, ?it/s]"
      ]
     },
     "metadata": {},
     "output_type": "display_data"
    },
    {
     "name": "stdout",
     "output_type": "stream",
     "text": [
      "CONVIRTIENDO... INFORME 113 D:\\OneDrive - Ingenio Azucarero Guabira S.A\\_DATOS_PYTHON/_test//207.docx\n",
      "D:\\OneDrive - Ingenio Azucarero Guabira S.A\\_DATOS_PYTHON/_test//207.docx\n",
      "D:\\OneDrive - Ingenio Azucarero Guabira S.A\\_DATOS_PYTHON/_test//207.pdf\n"
     ]
    },
    {
     "data": {
      "application/vnd.jupyter.widget-view+json": {
       "model_id": "90d11dc4f9744a91986bef00aca0d404",
       "version_major": 2,
       "version_minor": 0
      },
      "text/plain": [
       "  0%|          | 0/1 [00:00<?, ?it/s]"
      ]
     },
     "metadata": {},
     "output_type": "display_data"
    },
    {
     "name": "stdout",
     "output_type": "stream",
     "text": [
      "CONVIRTIENDO... INFORME 114 D:\\OneDrive - Ingenio Azucarero Guabira S.A\\_DATOS_PYTHON/_test//208.docx\n",
      "D:\\OneDrive - Ingenio Azucarero Guabira S.A\\_DATOS_PYTHON/_test//208.docx\n",
      "D:\\OneDrive - Ingenio Azucarero Guabira S.A\\_DATOS_PYTHON/_test//208.pdf\n"
     ]
    },
    {
     "data": {
      "application/vnd.jupyter.widget-view+json": {
       "model_id": "081b03a1e45049ce96bfb69563f3ec40",
       "version_major": 2,
       "version_minor": 0
      },
      "text/plain": [
       "  0%|          | 0/1 [00:00<?, ?it/s]"
      ]
     },
     "metadata": {},
     "output_type": "display_data"
    },
    {
     "name": "stdout",
     "output_type": "stream",
     "text": [
      "CONVIRTIENDO... INFORME 115 D:\\OneDrive - Ingenio Azucarero Guabira S.A\\_DATOS_PYTHON/_test//209.docx\n",
      "D:\\OneDrive - Ingenio Azucarero Guabira S.A\\_DATOS_PYTHON/_test//209.docx\n",
      "D:\\OneDrive - Ingenio Azucarero Guabira S.A\\_DATOS_PYTHON/_test//209.pdf\n"
     ]
    },
    {
     "data": {
      "application/vnd.jupyter.widget-view+json": {
       "model_id": "6371fa0a77bc46cb9775dd5ed38182b0",
       "version_major": 2,
       "version_minor": 0
      },
      "text/plain": [
       "  0%|          | 0/1 [00:00<?, ?it/s]"
      ]
     },
     "metadata": {},
     "output_type": "display_data"
    },
    {
     "name": "stdout",
     "output_type": "stream",
     "text": [
      "CONVIRTIENDO... INFORME 116 D:\\OneDrive - Ingenio Azucarero Guabira S.A\\_DATOS_PYTHON/_test//21.docx\n",
      "D:\\OneDrive - Ingenio Azucarero Guabira S.A\\_DATOS_PYTHON/_test//21.docx\n",
      "D:\\OneDrive - Ingenio Azucarero Guabira S.A\\_DATOS_PYTHON/_test//21.pdf\n"
     ]
    },
    {
     "data": {
      "application/vnd.jupyter.widget-view+json": {
       "model_id": "0fed306457f1424c95b75aedba2753a4",
       "version_major": 2,
       "version_minor": 0
      },
      "text/plain": [
       "  0%|          | 0/1 [00:00<?, ?it/s]"
      ]
     },
     "metadata": {},
     "output_type": "display_data"
    },
    {
     "name": "stdout",
     "output_type": "stream",
     "text": [
      "CONVIRTIENDO... INFORME 117 D:\\OneDrive - Ingenio Azucarero Guabira S.A\\_DATOS_PYTHON/_test//211.docx\n",
      "D:\\OneDrive - Ingenio Azucarero Guabira S.A\\_DATOS_PYTHON/_test//211.docx\n",
      "D:\\OneDrive - Ingenio Azucarero Guabira S.A\\_DATOS_PYTHON/_test//211.pdf\n"
     ]
    },
    {
     "data": {
      "application/vnd.jupyter.widget-view+json": {
       "model_id": "d9644082d3e94ab693470d399b48aa8a",
       "version_major": 2,
       "version_minor": 0
      },
      "text/plain": [
       "  0%|          | 0/1 [00:00<?, ?it/s]"
      ]
     },
     "metadata": {},
     "output_type": "display_data"
    },
    {
     "name": "stdout",
     "output_type": "stream",
     "text": [
      "CONVIRTIENDO... INFORME 118 D:\\OneDrive - Ingenio Azucarero Guabira S.A\\_DATOS_PYTHON/_test//212.docx\n",
      "D:\\OneDrive - Ingenio Azucarero Guabira S.A\\_DATOS_PYTHON/_test//212.docx\n",
      "D:\\OneDrive - Ingenio Azucarero Guabira S.A\\_DATOS_PYTHON/_test//212.pdf\n"
     ]
    },
    {
     "data": {
      "application/vnd.jupyter.widget-view+json": {
       "model_id": "a4cbe1fe47ea4cb1aae6603dcbd59194",
       "version_major": 2,
       "version_minor": 0
      },
      "text/plain": [
       "  0%|          | 0/1 [00:00<?, ?it/s]"
      ]
     },
     "metadata": {},
     "output_type": "display_data"
    },
    {
     "name": "stdout",
     "output_type": "stream",
     "text": [
      "CONVIRTIENDO... INFORME 119 D:\\OneDrive - Ingenio Azucarero Guabira S.A\\_DATOS_PYTHON/_test//213.docx\n",
      "D:\\OneDrive - Ingenio Azucarero Guabira S.A\\_DATOS_PYTHON/_test//213.docx\n",
      "D:\\OneDrive - Ingenio Azucarero Guabira S.A\\_DATOS_PYTHON/_test//213.pdf\n"
     ]
    },
    {
     "data": {
      "application/vnd.jupyter.widget-view+json": {
       "model_id": "5cadb930bffc4e68a348455c75f2100f",
       "version_major": 2,
       "version_minor": 0
      },
      "text/plain": [
       "  0%|          | 0/1 [00:00<?, ?it/s]"
      ]
     },
     "metadata": {},
     "output_type": "display_data"
    },
    {
     "name": "stdout",
     "output_type": "stream",
     "text": [
      "CONVIRTIENDO... INFORME 120 D:\\OneDrive - Ingenio Azucarero Guabira S.A\\_DATOS_PYTHON/_test//214.docx\n",
      "D:\\OneDrive - Ingenio Azucarero Guabira S.A\\_DATOS_PYTHON/_test//214.docx\n",
      "D:\\OneDrive - Ingenio Azucarero Guabira S.A\\_DATOS_PYTHON/_test//214.pdf\n"
     ]
    },
    {
     "data": {
      "application/vnd.jupyter.widget-view+json": {
       "model_id": "19e764dcc1414f0494c1919d486a413f",
       "version_major": 2,
       "version_minor": 0
      },
      "text/plain": [
       "  0%|          | 0/1 [00:00<?, ?it/s]"
      ]
     },
     "metadata": {},
     "output_type": "display_data"
    },
    {
     "name": "stdout",
     "output_type": "stream",
     "text": [
      "CONVIRTIENDO... INFORME 121 D:\\OneDrive - Ingenio Azucarero Guabira S.A\\_DATOS_PYTHON/_test//215.docx\n",
      "D:\\OneDrive - Ingenio Azucarero Guabira S.A\\_DATOS_PYTHON/_test//215.docx\n",
      "D:\\OneDrive - Ingenio Azucarero Guabira S.A\\_DATOS_PYTHON/_test//215.pdf\n"
     ]
    },
    {
     "data": {
      "application/vnd.jupyter.widget-view+json": {
       "model_id": "6a189d8699204656b6039478f1b9399f",
       "version_major": 2,
       "version_minor": 0
      },
      "text/plain": [
       "  0%|          | 0/1 [00:00<?, ?it/s]"
      ]
     },
     "metadata": {},
     "output_type": "display_data"
    },
    {
     "name": "stdout",
     "output_type": "stream",
     "text": [
      "CONVIRTIENDO... INFORME 122 D:\\OneDrive - Ingenio Azucarero Guabira S.A\\_DATOS_PYTHON/_test//216.docx\n",
      "D:\\OneDrive - Ingenio Azucarero Guabira S.A\\_DATOS_PYTHON/_test//216.docx\n",
      "D:\\OneDrive - Ingenio Azucarero Guabira S.A\\_DATOS_PYTHON/_test//216.pdf\n"
     ]
    },
    {
     "data": {
      "application/vnd.jupyter.widget-view+json": {
       "model_id": "f8ca718b05b14186bc2662da179c78e8",
       "version_major": 2,
       "version_minor": 0
      },
      "text/plain": [
       "  0%|          | 0/1 [00:00<?, ?it/s]"
      ]
     },
     "metadata": {},
     "output_type": "display_data"
    },
    {
     "name": "stdout",
     "output_type": "stream",
     "text": [
      "CONVIRTIENDO... INFORME 123 D:\\OneDrive - Ingenio Azucarero Guabira S.A\\_DATOS_PYTHON/_test//217.docx\n",
      "D:\\OneDrive - Ingenio Azucarero Guabira S.A\\_DATOS_PYTHON/_test//217.docx\n",
      "D:\\OneDrive - Ingenio Azucarero Guabira S.A\\_DATOS_PYTHON/_test//217.pdf\n"
     ]
    },
    {
     "data": {
      "application/vnd.jupyter.widget-view+json": {
       "model_id": "72112e2b410f435bb2fe9ecd035e59c9",
       "version_major": 2,
       "version_minor": 0
      },
      "text/plain": [
       "  0%|          | 0/1 [00:00<?, ?it/s]"
      ]
     },
     "metadata": {},
     "output_type": "display_data"
    },
    {
     "name": "stdout",
     "output_type": "stream",
     "text": [
      "CONVIRTIENDO... INFORME 124 D:\\OneDrive - Ingenio Azucarero Guabira S.A\\_DATOS_PYTHON/_test//218.docx\n",
      "D:\\OneDrive - Ingenio Azucarero Guabira S.A\\_DATOS_PYTHON/_test//218.docx\n",
      "D:\\OneDrive - Ingenio Azucarero Guabira S.A\\_DATOS_PYTHON/_test//218.pdf\n"
     ]
    },
    {
     "data": {
      "application/vnd.jupyter.widget-view+json": {
       "model_id": "27a2b6782d124017a78b1ee39c46b707",
       "version_major": 2,
       "version_minor": 0
      },
      "text/plain": [
       "  0%|          | 0/1 [00:00<?, ?it/s]"
      ]
     },
     "metadata": {},
     "output_type": "display_data"
    },
    {
     "name": "stdout",
     "output_type": "stream",
     "text": [
      "CONVIRTIENDO... INFORME 125 D:\\OneDrive - Ingenio Azucarero Guabira S.A\\_DATOS_PYTHON/_test//219.docx\n",
      "D:\\OneDrive - Ingenio Azucarero Guabira S.A\\_DATOS_PYTHON/_test//219.docx\n",
      "D:\\OneDrive - Ingenio Azucarero Guabira S.A\\_DATOS_PYTHON/_test//219.pdf\n"
     ]
    },
    {
     "data": {
      "application/vnd.jupyter.widget-view+json": {
       "model_id": "d1b804b1857b4d068163b45abbf67232",
       "version_major": 2,
       "version_minor": 0
      },
      "text/plain": [
       "  0%|          | 0/1 [00:00<?, ?it/s]"
      ]
     },
     "metadata": {},
     "output_type": "display_data"
    },
    {
     "name": "stdout",
     "output_type": "stream",
     "text": [
      "CONVIRTIENDO... INFORME 126 D:\\OneDrive - Ingenio Azucarero Guabira S.A\\_DATOS_PYTHON/_test//22.docx\n",
      "D:\\OneDrive - Ingenio Azucarero Guabira S.A\\_DATOS_PYTHON/_test//22.docx\n",
      "D:\\OneDrive - Ingenio Azucarero Guabira S.A\\_DATOS_PYTHON/_test//22.pdf\n"
     ]
    },
    {
     "data": {
      "application/vnd.jupyter.widget-view+json": {
       "model_id": "5fc6dd7a21994f2b94ca27dde5acf8a9",
       "version_major": 2,
       "version_minor": 0
      },
      "text/plain": [
       "  0%|          | 0/1 [00:00<?, ?it/s]"
      ]
     },
     "metadata": {},
     "output_type": "display_data"
    },
    {
     "name": "stdout",
     "output_type": "stream",
     "text": [
      "CONVIRTIENDO... INFORME 127 D:\\OneDrive - Ingenio Azucarero Guabira S.A\\_DATOS_PYTHON/_test//220.docx\n",
      "D:\\OneDrive - Ingenio Azucarero Guabira S.A\\_DATOS_PYTHON/_test//220.docx\n",
      "D:\\OneDrive - Ingenio Azucarero Guabira S.A\\_DATOS_PYTHON/_test//220.pdf\n"
     ]
    },
    {
     "data": {
      "application/vnd.jupyter.widget-view+json": {
       "model_id": "88d5fe3e4feb4ae096d5f870609c1dc7",
       "version_major": 2,
       "version_minor": 0
      },
      "text/plain": [
       "  0%|          | 0/1 [00:00<?, ?it/s]"
      ]
     },
     "metadata": {},
     "output_type": "display_data"
    },
    {
     "name": "stdout",
     "output_type": "stream",
     "text": [
      "CONVIRTIENDO... INFORME 128 D:\\OneDrive - Ingenio Azucarero Guabira S.A\\_DATOS_PYTHON/_test//221.docx\n",
      "D:\\OneDrive - Ingenio Azucarero Guabira S.A\\_DATOS_PYTHON/_test//221.docx\n",
      "D:\\OneDrive - Ingenio Azucarero Guabira S.A\\_DATOS_PYTHON/_test//221.pdf\n"
     ]
    },
    {
     "data": {
      "application/vnd.jupyter.widget-view+json": {
       "model_id": "49778808cfa24783924872bd26e9c24a",
       "version_major": 2,
       "version_minor": 0
      },
      "text/plain": [
       "  0%|          | 0/1 [00:00<?, ?it/s]"
      ]
     },
     "metadata": {},
     "output_type": "display_data"
    },
    {
     "name": "stdout",
     "output_type": "stream",
     "text": [
      "CONVIRTIENDO... INFORME 129 D:\\OneDrive - Ingenio Azucarero Guabira S.A\\_DATOS_PYTHON/_test//222.docx\n",
      "D:\\OneDrive - Ingenio Azucarero Guabira S.A\\_DATOS_PYTHON/_test//222.docx\n",
      "D:\\OneDrive - Ingenio Azucarero Guabira S.A\\_DATOS_PYTHON/_test//222.pdf\n"
     ]
    },
    {
     "data": {
      "application/vnd.jupyter.widget-view+json": {
       "model_id": "5b145b7d16bf48a58aec5dda7b6436e6",
       "version_major": 2,
       "version_minor": 0
      },
      "text/plain": [
       "  0%|          | 0/1 [00:00<?, ?it/s]"
      ]
     },
     "metadata": {},
     "output_type": "display_data"
    },
    {
     "name": "stdout",
     "output_type": "stream",
     "text": [
      "CONVIRTIENDO... INFORME 130 D:\\OneDrive - Ingenio Azucarero Guabira S.A\\_DATOS_PYTHON/_test//223.docx\n",
      "D:\\OneDrive - Ingenio Azucarero Guabira S.A\\_DATOS_PYTHON/_test//223.docx\n",
      "D:\\OneDrive - Ingenio Azucarero Guabira S.A\\_DATOS_PYTHON/_test//223.pdf\n"
     ]
    },
    {
     "data": {
      "application/vnd.jupyter.widget-view+json": {
       "model_id": "0e6716aa3cd44aae8f90d1ec87e2f990",
       "version_major": 2,
       "version_minor": 0
      },
      "text/plain": [
       "  0%|          | 0/1 [00:00<?, ?it/s]"
      ]
     },
     "metadata": {},
     "output_type": "display_data"
    },
    {
     "name": "stdout",
     "output_type": "stream",
     "text": [
      "CONVIRTIENDO... INFORME 131 D:\\OneDrive - Ingenio Azucarero Guabira S.A\\_DATOS_PYTHON/_test//224.docx\n",
      "D:\\OneDrive - Ingenio Azucarero Guabira S.A\\_DATOS_PYTHON/_test//224.docx\n",
      "D:\\OneDrive - Ingenio Azucarero Guabira S.A\\_DATOS_PYTHON/_test//224.pdf\n"
     ]
    },
    {
     "data": {
      "application/vnd.jupyter.widget-view+json": {
       "model_id": "53f3aceff6b84160a11a6b1f34dc4011",
       "version_major": 2,
       "version_minor": 0
      },
      "text/plain": [
       "  0%|          | 0/1 [00:00<?, ?it/s]"
      ]
     },
     "metadata": {},
     "output_type": "display_data"
    },
    {
     "name": "stdout",
     "output_type": "stream",
     "text": [
      "CONVIRTIENDO... INFORME 132 D:\\OneDrive - Ingenio Azucarero Guabira S.A\\_DATOS_PYTHON/_test//225.docx\n",
      "D:\\OneDrive - Ingenio Azucarero Guabira S.A\\_DATOS_PYTHON/_test//225.docx\n",
      "D:\\OneDrive - Ingenio Azucarero Guabira S.A\\_DATOS_PYTHON/_test//225.pdf\n"
     ]
    },
    {
     "data": {
      "application/vnd.jupyter.widget-view+json": {
       "model_id": "97141d8d16b44b84ac1131497a1f7a11",
       "version_major": 2,
       "version_minor": 0
      },
      "text/plain": [
       "  0%|          | 0/1 [00:00<?, ?it/s]"
      ]
     },
     "metadata": {},
     "output_type": "display_data"
    },
    {
     "name": "stdout",
     "output_type": "stream",
     "text": [
      "CONVIRTIENDO... INFORME 133 D:\\OneDrive - Ingenio Azucarero Guabira S.A\\_DATOS_PYTHON/_test//226.docx\n",
      "D:\\OneDrive - Ingenio Azucarero Guabira S.A\\_DATOS_PYTHON/_test//226.docx\n",
      "D:\\OneDrive - Ingenio Azucarero Guabira S.A\\_DATOS_PYTHON/_test//226.pdf\n"
     ]
    },
    {
     "data": {
      "application/vnd.jupyter.widget-view+json": {
       "model_id": "eff953735d3d4535b1923e030d855627",
       "version_major": 2,
       "version_minor": 0
      },
      "text/plain": [
       "  0%|          | 0/1 [00:00<?, ?it/s]"
      ]
     },
     "metadata": {},
     "output_type": "display_data"
    },
    {
     "name": "stdout",
     "output_type": "stream",
     "text": [
      "CONVIRTIENDO... INFORME 134 D:\\OneDrive - Ingenio Azucarero Guabira S.A\\_DATOS_PYTHON/_test//227.docx\n",
      "D:\\OneDrive - Ingenio Azucarero Guabira S.A\\_DATOS_PYTHON/_test//227.docx\n",
      "D:\\OneDrive - Ingenio Azucarero Guabira S.A\\_DATOS_PYTHON/_test//227.pdf\n"
     ]
    },
    {
     "data": {
      "application/vnd.jupyter.widget-view+json": {
       "model_id": "bcab3826f24641f287750c8417ddca7d",
       "version_major": 2,
       "version_minor": 0
      },
      "text/plain": [
       "  0%|          | 0/1 [00:00<?, ?it/s]"
      ]
     },
     "metadata": {},
     "output_type": "display_data"
    },
    {
     "name": "stdout",
     "output_type": "stream",
     "text": [
      "CONVIRTIENDO... INFORME 135 D:\\OneDrive - Ingenio Azucarero Guabira S.A\\_DATOS_PYTHON/_test//228.docx\n",
      "D:\\OneDrive - Ingenio Azucarero Guabira S.A\\_DATOS_PYTHON/_test//228.docx\n",
      "D:\\OneDrive - Ingenio Azucarero Guabira S.A\\_DATOS_PYTHON/_test//228.pdf\n"
     ]
    },
    {
     "data": {
      "application/vnd.jupyter.widget-view+json": {
       "model_id": "5279add070dd4db0b2da8c1788ead27f",
       "version_major": 2,
       "version_minor": 0
      },
      "text/plain": [
       "  0%|          | 0/1 [00:00<?, ?it/s]"
      ]
     },
     "metadata": {},
     "output_type": "display_data"
    },
    {
     "name": "stdout",
     "output_type": "stream",
     "text": [
      "CONVIRTIENDO... INFORME 136 D:\\OneDrive - Ingenio Azucarero Guabira S.A\\_DATOS_PYTHON/_test//229.docx\n",
      "D:\\OneDrive - Ingenio Azucarero Guabira S.A\\_DATOS_PYTHON/_test//229.docx\n",
      "D:\\OneDrive - Ingenio Azucarero Guabira S.A\\_DATOS_PYTHON/_test//229.pdf\n"
     ]
    },
    {
     "data": {
      "application/vnd.jupyter.widget-view+json": {
       "model_id": "f86b0660aeec4bd5ac2b4a4ec741f65e",
       "version_major": 2,
       "version_minor": 0
      },
      "text/plain": [
       "  0%|          | 0/1 [00:00<?, ?it/s]"
      ]
     },
     "metadata": {},
     "output_type": "display_data"
    },
    {
     "name": "stdout",
     "output_type": "stream",
     "text": [
      "CONVIRTIENDO... INFORME 137 D:\\OneDrive - Ingenio Azucarero Guabira S.A\\_DATOS_PYTHON/_test//23.docx\n",
      "D:\\OneDrive - Ingenio Azucarero Guabira S.A\\_DATOS_PYTHON/_test//23.docx\n",
      "D:\\OneDrive - Ingenio Azucarero Guabira S.A\\_DATOS_PYTHON/_test//23.pdf\n"
     ]
    },
    {
     "data": {
      "application/vnd.jupyter.widget-view+json": {
       "model_id": "c489416f3be643c8a4e1d4a118cf478b",
       "version_major": 2,
       "version_minor": 0
      },
      "text/plain": [
       "  0%|          | 0/1 [00:00<?, ?it/s]"
      ]
     },
     "metadata": {},
     "output_type": "display_data"
    },
    {
     "name": "stdout",
     "output_type": "stream",
     "text": [
      "CONVIRTIENDO... INFORME 138 D:\\OneDrive - Ingenio Azucarero Guabira S.A\\_DATOS_PYTHON/_test//230.docx\n",
      "D:\\OneDrive - Ingenio Azucarero Guabira S.A\\_DATOS_PYTHON/_test//230.docx\n",
      "D:\\OneDrive - Ingenio Azucarero Guabira S.A\\_DATOS_PYTHON/_test//230.pdf\n"
     ]
    },
    {
     "data": {
      "application/vnd.jupyter.widget-view+json": {
       "model_id": "b17612aff69b4715ab1a9d69e4d3b97b",
       "version_major": 2,
       "version_minor": 0
      },
      "text/plain": [
       "  0%|          | 0/1 [00:00<?, ?it/s]"
      ]
     },
     "metadata": {},
     "output_type": "display_data"
    },
    {
     "name": "stdout",
     "output_type": "stream",
     "text": [
      "CONVIRTIENDO... INFORME 139 D:\\OneDrive - Ingenio Azucarero Guabira S.A\\_DATOS_PYTHON/_test//231.docx\n",
      "D:\\OneDrive - Ingenio Azucarero Guabira S.A\\_DATOS_PYTHON/_test//231.docx\n",
      "D:\\OneDrive - Ingenio Azucarero Guabira S.A\\_DATOS_PYTHON/_test//231.pdf\n"
     ]
    },
    {
     "data": {
      "application/vnd.jupyter.widget-view+json": {
       "model_id": "e3b94cb1bd664f1e95d267b2594379dd",
       "version_major": 2,
       "version_minor": 0
      },
      "text/plain": [
       "  0%|          | 0/1 [00:00<?, ?it/s]"
      ]
     },
     "metadata": {},
     "output_type": "display_data"
    },
    {
     "name": "stdout",
     "output_type": "stream",
     "text": [
      "CONVIRTIENDO... INFORME 140 D:\\OneDrive - Ingenio Azucarero Guabira S.A\\_DATOS_PYTHON/_test//232.docx\n",
      "D:\\OneDrive - Ingenio Azucarero Guabira S.A\\_DATOS_PYTHON/_test//232.docx\n",
      "D:\\OneDrive - Ingenio Azucarero Guabira S.A\\_DATOS_PYTHON/_test//232.pdf\n"
     ]
    },
    {
     "data": {
      "application/vnd.jupyter.widget-view+json": {
       "model_id": "cbcdb5be1c3d4cdf9f16d084e49db633",
       "version_major": 2,
       "version_minor": 0
      },
      "text/plain": [
       "  0%|          | 0/1 [00:00<?, ?it/s]"
      ]
     },
     "metadata": {},
     "output_type": "display_data"
    },
    {
     "name": "stdout",
     "output_type": "stream",
     "text": [
      "CONVIRTIENDO... INFORME 141 D:\\OneDrive - Ingenio Azucarero Guabira S.A\\_DATOS_PYTHON/_test//234.docx\n",
      "D:\\OneDrive - Ingenio Azucarero Guabira S.A\\_DATOS_PYTHON/_test//234.docx\n",
      "D:\\OneDrive - Ingenio Azucarero Guabira S.A\\_DATOS_PYTHON/_test//234.pdf\n"
     ]
    },
    {
     "data": {
      "application/vnd.jupyter.widget-view+json": {
       "model_id": "1df5135671484012806012578904a4d4",
       "version_major": 2,
       "version_minor": 0
      },
      "text/plain": [
       "  0%|          | 0/1 [00:00<?, ?it/s]"
      ]
     },
     "metadata": {},
     "output_type": "display_data"
    },
    {
     "name": "stdout",
     "output_type": "stream",
     "text": [
      "CONVIRTIENDO... INFORME 142 D:\\OneDrive - Ingenio Azucarero Guabira S.A\\_DATOS_PYTHON/_test//235.docx\n",
      "D:\\OneDrive - Ingenio Azucarero Guabira S.A\\_DATOS_PYTHON/_test//235.docx\n",
      "D:\\OneDrive - Ingenio Azucarero Guabira S.A\\_DATOS_PYTHON/_test//235.pdf\n"
     ]
    },
    {
     "data": {
      "application/vnd.jupyter.widget-view+json": {
       "model_id": "1ac1d061b3864303be4d1513aab31014",
       "version_major": 2,
       "version_minor": 0
      },
      "text/plain": [
       "  0%|          | 0/1 [00:00<?, ?it/s]"
      ]
     },
     "metadata": {},
     "output_type": "display_data"
    },
    {
     "name": "stdout",
     "output_type": "stream",
     "text": [
      "CONVIRTIENDO... INFORME 143 D:\\OneDrive - Ingenio Azucarero Guabira S.A\\_DATOS_PYTHON/_test//236.docx\n",
      "D:\\OneDrive - Ingenio Azucarero Guabira S.A\\_DATOS_PYTHON/_test//236.docx\n",
      "D:\\OneDrive - Ingenio Azucarero Guabira S.A\\_DATOS_PYTHON/_test//236.pdf\n"
     ]
    },
    {
     "data": {
      "application/vnd.jupyter.widget-view+json": {
       "model_id": "1a89d2cb6d7c4742944e6c29229a3716",
       "version_major": 2,
       "version_minor": 0
      },
      "text/plain": [
       "  0%|          | 0/1 [00:00<?, ?it/s]"
      ]
     },
     "metadata": {},
     "output_type": "display_data"
    },
    {
     "name": "stdout",
     "output_type": "stream",
     "text": [
      "CONVIRTIENDO... INFORME 144 D:\\OneDrive - Ingenio Azucarero Guabira S.A\\_DATOS_PYTHON/_test//237.docx\n",
      "D:\\OneDrive - Ingenio Azucarero Guabira S.A\\_DATOS_PYTHON/_test//237.docx\n",
      "D:\\OneDrive - Ingenio Azucarero Guabira S.A\\_DATOS_PYTHON/_test//237.pdf\n"
     ]
    },
    {
     "data": {
      "application/vnd.jupyter.widget-view+json": {
       "model_id": "11b2fd133d9743d49b358c6c3ddac085",
       "version_major": 2,
       "version_minor": 0
      },
      "text/plain": [
       "  0%|          | 0/1 [00:00<?, ?it/s]"
      ]
     },
     "metadata": {},
     "output_type": "display_data"
    },
    {
     "name": "stdout",
     "output_type": "stream",
     "text": [
      "CONVIRTIENDO... INFORME 145 D:\\OneDrive - Ingenio Azucarero Guabira S.A\\_DATOS_PYTHON/_test//238.docx\n",
      "D:\\OneDrive - Ingenio Azucarero Guabira S.A\\_DATOS_PYTHON/_test//238.docx\n",
      "D:\\OneDrive - Ingenio Azucarero Guabira S.A\\_DATOS_PYTHON/_test//238.pdf\n"
     ]
    },
    {
     "data": {
      "application/vnd.jupyter.widget-view+json": {
       "model_id": "0f45aecbfc884349826bcfb5d48631e5",
       "version_major": 2,
       "version_minor": 0
      },
      "text/plain": [
       "  0%|          | 0/1 [00:00<?, ?it/s]"
      ]
     },
     "metadata": {},
     "output_type": "display_data"
    },
    {
     "name": "stdout",
     "output_type": "stream",
     "text": [
      "CONVIRTIENDO... INFORME 146 D:\\OneDrive - Ingenio Azucarero Guabira S.A\\_DATOS_PYTHON/_test//239.docx\n",
      "D:\\OneDrive - Ingenio Azucarero Guabira S.A\\_DATOS_PYTHON/_test//239.docx\n",
      "D:\\OneDrive - Ingenio Azucarero Guabira S.A\\_DATOS_PYTHON/_test//239.pdf\n"
     ]
    },
    {
     "data": {
      "application/vnd.jupyter.widget-view+json": {
       "model_id": "3eda6c46ba2045a1ae5886867fc858b9",
       "version_major": 2,
       "version_minor": 0
      },
      "text/plain": [
       "  0%|          | 0/1 [00:00<?, ?it/s]"
      ]
     },
     "metadata": {},
     "output_type": "display_data"
    },
    {
     "name": "stdout",
     "output_type": "stream",
     "text": [
      "CONVIRTIENDO... INFORME 147 D:\\OneDrive - Ingenio Azucarero Guabira S.A\\_DATOS_PYTHON/_test//24.docx\n",
      "D:\\OneDrive - Ingenio Azucarero Guabira S.A\\_DATOS_PYTHON/_test//24.docx\n",
      "D:\\OneDrive - Ingenio Azucarero Guabira S.A\\_DATOS_PYTHON/_test//24.pdf\n"
     ]
    },
    {
     "data": {
      "application/vnd.jupyter.widget-view+json": {
       "model_id": "0c6471a00b21466981682cda8fd5c7c3",
       "version_major": 2,
       "version_minor": 0
      },
      "text/plain": [
       "  0%|          | 0/1 [00:00<?, ?it/s]"
      ]
     },
     "metadata": {},
     "output_type": "display_data"
    },
    {
     "name": "stdout",
     "output_type": "stream",
     "text": [
      "CONVIRTIENDO... INFORME 148 D:\\OneDrive - Ingenio Azucarero Guabira S.A\\_DATOS_PYTHON/_test//240.docx\n",
      "D:\\OneDrive - Ingenio Azucarero Guabira S.A\\_DATOS_PYTHON/_test//240.docx\n",
      "D:\\OneDrive - Ingenio Azucarero Guabira S.A\\_DATOS_PYTHON/_test//240.pdf\n"
     ]
    },
    {
     "data": {
      "application/vnd.jupyter.widget-view+json": {
       "model_id": "b9abbb4db33b4942a683887b3b4339e4",
       "version_major": 2,
       "version_minor": 0
      },
      "text/plain": [
       "  0%|          | 0/1 [00:00<?, ?it/s]"
      ]
     },
     "metadata": {},
     "output_type": "display_data"
    },
    {
     "name": "stdout",
     "output_type": "stream",
     "text": [
      "CONVIRTIENDO... INFORME 149 D:\\OneDrive - Ingenio Azucarero Guabira S.A\\_DATOS_PYTHON/_test//241.docx\n",
      "D:\\OneDrive - Ingenio Azucarero Guabira S.A\\_DATOS_PYTHON/_test//241.docx\n",
      "D:\\OneDrive - Ingenio Azucarero Guabira S.A\\_DATOS_PYTHON/_test//241.pdf\n"
     ]
    },
    {
     "data": {
      "application/vnd.jupyter.widget-view+json": {
       "model_id": "4aec951fa0894500ba780ef862cf581c",
       "version_major": 2,
       "version_minor": 0
      },
      "text/plain": [
       "  0%|          | 0/1 [00:00<?, ?it/s]"
      ]
     },
     "metadata": {},
     "output_type": "display_data"
    },
    {
     "name": "stdout",
     "output_type": "stream",
     "text": [
      "CONVIRTIENDO... INFORME 150 D:\\OneDrive - Ingenio Azucarero Guabira S.A\\_DATOS_PYTHON/_test//242.docx\n",
      "D:\\OneDrive - Ingenio Azucarero Guabira S.A\\_DATOS_PYTHON/_test//242.docx\n",
      "D:\\OneDrive - Ingenio Azucarero Guabira S.A\\_DATOS_PYTHON/_test//242.pdf\n"
     ]
    },
    {
     "data": {
      "application/vnd.jupyter.widget-view+json": {
       "model_id": "a2c74598f4bc4319af893dec0818c12a",
       "version_major": 2,
       "version_minor": 0
      },
      "text/plain": [
       "  0%|          | 0/1 [00:00<?, ?it/s]"
      ]
     },
     "metadata": {},
     "output_type": "display_data"
    },
    {
     "name": "stdout",
     "output_type": "stream",
     "text": [
      "CONVIRTIENDO... INFORME 151 D:\\OneDrive - Ingenio Azucarero Guabira S.A\\_DATOS_PYTHON/_test//243.docx\n",
      "D:\\OneDrive - Ingenio Azucarero Guabira S.A\\_DATOS_PYTHON/_test//243.docx\n",
      "D:\\OneDrive - Ingenio Azucarero Guabira S.A\\_DATOS_PYTHON/_test//243.pdf\n"
     ]
    },
    {
     "data": {
      "application/vnd.jupyter.widget-view+json": {
       "model_id": "01ae625c82ea4b21aef1a4642ed5c5e1",
       "version_major": 2,
       "version_minor": 0
      },
      "text/plain": [
       "  0%|          | 0/1 [00:00<?, ?it/s]"
      ]
     },
     "metadata": {},
     "output_type": "display_data"
    },
    {
     "name": "stdout",
     "output_type": "stream",
     "text": [
      "CONVIRTIENDO... INFORME 152 D:\\OneDrive - Ingenio Azucarero Guabira S.A\\_DATOS_PYTHON/_test//244.docx\n",
      "D:\\OneDrive - Ingenio Azucarero Guabira S.A\\_DATOS_PYTHON/_test//244.docx\n",
      "D:\\OneDrive - Ingenio Azucarero Guabira S.A\\_DATOS_PYTHON/_test//244.pdf\n"
     ]
    },
    {
     "data": {
      "application/vnd.jupyter.widget-view+json": {
       "model_id": "f84efeeb26b44370b4e8a6765d1a60bf",
       "version_major": 2,
       "version_minor": 0
      },
      "text/plain": [
       "  0%|          | 0/1 [00:00<?, ?it/s]"
      ]
     },
     "metadata": {},
     "output_type": "display_data"
    },
    {
     "name": "stdout",
     "output_type": "stream",
     "text": [
      "CONVIRTIENDO... INFORME 153 D:\\OneDrive - Ingenio Azucarero Guabira S.A\\_DATOS_PYTHON/_test//245.docx\n",
      "D:\\OneDrive - Ingenio Azucarero Guabira S.A\\_DATOS_PYTHON/_test//245.docx\n",
      "D:\\OneDrive - Ingenio Azucarero Guabira S.A\\_DATOS_PYTHON/_test//245.pdf\n"
     ]
    },
    {
     "data": {
      "application/vnd.jupyter.widget-view+json": {
       "model_id": "414cbbb9e2844d8286db006b44a47637",
       "version_major": 2,
       "version_minor": 0
      },
      "text/plain": [
       "  0%|          | 0/1 [00:00<?, ?it/s]"
      ]
     },
     "metadata": {},
     "output_type": "display_data"
    },
    {
     "name": "stdout",
     "output_type": "stream",
     "text": [
      "CONVIRTIENDO... INFORME 154 D:\\OneDrive - Ingenio Azucarero Guabira S.A\\_DATOS_PYTHON/_test//247.docx\n",
      "D:\\OneDrive - Ingenio Azucarero Guabira S.A\\_DATOS_PYTHON/_test//247.docx\n",
      "D:\\OneDrive - Ingenio Azucarero Guabira S.A\\_DATOS_PYTHON/_test//247.pdf\n"
     ]
    },
    {
     "data": {
      "application/vnd.jupyter.widget-view+json": {
       "model_id": "0027b06e68584987a9d77658c0811fe2",
       "version_major": 2,
       "version_minor": 0
      },
      "text/plain": [
       "  0%|          | 0/1 [00:00<?, ?it/s]"
      ]
     },
     "metadata": {},
     "output_type": "display_data"
    },
    {
     "name": "stdout",
     "output_type": "stream",
     "text": [
      "CONVIRTIENDO... INFORME 155 D:\\OneDrive - Ingenio Azucarero Guabira S.A\\_DATOS_PYTHON/_test//248.docx\n",
      "D:\\OneDrive - Ingenio Azucarero Guabira S.A\\_DATOS_PYTHON/_test//248.docx\n",
      "D:\\OneDrive - Ingenio Azucarero Guabira S.A\\_DATOS_PYTHON/_test//248.pdf\n"
     ]
    },
    {
     "data": {
      "application/vnd.jupyter.widget-view+json": {
       "model_id": "5e5c74eebafe4c9fb741c9c0032822ce",
       "version_major": 2,
       "version_minor": 0
      },
      "text/plain": [
       "  0%|          | 0/1 [00:00<?, ?it/s]"
      ]
     },
     "metadata": {},
     "output_type": "display_data"
    },
    {
     "name": "stdout",
     "output_type": "stream",
     "text": [
      "CONVIRTIENDO... INFORME 156 D:\\OneDrive - Ingenio Azucarero Guabira S.A\\_DATOS_PYTHON/_test//249.docx\n",
      "D:\\OneDrive - Ingenio Azucarero Guabira S.A\\_DATOS_PYTHON/_test//249.docx\n",
      "D:\\OneDrive - Ingenio Azucarero Guabira S.A\\_DATOS_PYTHON/_test//249.pdf\n"
     ]
    },
    {
     "data": {
      "application/vnd.jupyter.widget-view+json": {
       "model_id": "6c6beebe185c49fbbedb311ceee775d4",
       "version_major": 2,
       "version_minor": 0
      },
      "text/plain": [
       "  0%|          | 0/1 [00:00<?, ?it/s]"
      ]
     },
     "metadata": {},
     "output_type": "display_data"
    },
    {
     "name": "stdout",
     "output_type": "stream",
     "text": [
      "CONVIRTIENDO... INFORME 157 D:\\OneDrive - Ingenio Azucarero Guabira S.A\\_DATOS_PYTHON/_test//25.docx\n",
      "D:\\OneDrive - Ingenio Azucarero Guabira S.A\\_DATOS_PYTHON/_test//25.docx\n",
      "D:\\OneDrive - Ingenio Azucarero Guabira S.A\\_DATOS_PYTHON/_test//25.pdf\n"
     ]
    },
    {
     "data": {
      "application/vnd.jupyter.widget-view+json": {
       "model_id": "d8f93c30266f4a548a7cd04a072abc63",
       "version_major": 2,
       "version_minor": 0
      },
      "text/plain": [
       "  0%|          | 0/1 [00:00<?, ?it/s]"
      ]
     },
     "metadata": {},
     "output_type": "display_data"
    },
    {
     "name": "stdout",
     "output_type": "stream",
     "text": [
      "CONVIRTIENDO... INFORME 158 D:\\OneDrive - Ingenio Azucarero Guabira S.A\\_DATOS_PYTHON/_test//250.docx\n",
      "D:\\OneDrive - Ingenio Azucarero Guabira S.A\\_DATOS_PYTHON/_test//250.docx\n",
      "D:\\OneDrive - Ingenio Azucarero Guabira S.A\\_DATOS_PYTHON/_test//250.pdf\n"
     ]
    },
    {
     "data": {
      "application/vnd.jupyter.widget-view+json": {
       "model_id": "edcc3269c68b481c9e4aed579f5e3636",
       "version_major": 2,
       "version_minor": 0
      },
      "text/plain": [
       "  0%|          | 0/1 [00:00<?, ?it/s]"
      ]
     },
     "metadata": {},
     "output_type": "display_data"
    },
    {
     "name": "stdout",
     "output_type": "stream",
     "text": [
      "CONVIRTIENDO... INFORME 159 D:\\OneDrive - Ingenio Azucarero Guabira S.A\\_DATOS_PYTHON/_test//251.docx\n",
      "D:\\OneDrive - Ingenio Azucarero Guabira S.A\\_DATOS_PYTHON/_test//251.docx\n",
      "D:\\OneDrive - Ingenio Azucarero Guabira S.A\\_DATOS_PYTHON/_test//251.pdf\n"
     ]
    },
    {
     "data": {
      "application/vnd.jupyter.widget-view+json": {
       "model_id": "04862f88704d4b40b7d2e476e405ab87",
       "version_major": 2,
       "version_minor": 0
      },
      "text/plain": [
       "  0%|          | 0/1 [00:00<?, ?it/s]"
      ]
     },
     "metadata": {},
     "output_type": "display_data"
    },
    {
     "name": "stdout",
     "output_type": "stream",
     "text": [
      "CONVIRTIENDO... INFORME 160 D:\\OneDrive - Ingenio Azucarero Guabira S.A\\_DATOS_PYTHON/_test//252.docx\n",
      "D:\\OneDrive - Ingenio Azucarero Guabira S.A\\_DATOS_PYTHON/_test//252.docx\n",
      "D:\\OneDrive - Ingenio Azucarero Guabira S.A\\_DATOS_PYTHON/_test//252.pdf\n"
     ]
    },
    {
     "data": {
      "application/vnd.jupyter.widget-view+json": {
       "model_id": "d5fdd19ec99c431b9644810c5e177ae9",
       "version_major": 2,
       "version_minor": 0
      },
      "text/plain": [
       "  0%|          | 0/1 [00:00<?, ?it/s]"
      ]
     },
     "metadata": {},
     "output_type": "display_data"
    },
    {
     "name": "stdout",
     "output_type": "stream",
     "text": [
      "CONVIRTIENDO... INFORME 161 D:\\OneDrive - Ingenio Azucarero Guabira S.A\\_DATOS_PYTHON/_test//253.docx\n",
      "D:\\OneDrive - Ingenio Azucarero Guabira S.A\\_DATOS_PYTHON/_test//253.docx\n",
      "D:\\OneDrive - Ingenio Azucarero Guabira S.A\\_DATOS_PYTHON/_test//253.pdf\n"
     ]
    },
    {
     "data": {
      "application/vnd.jupyter.widget-view+json": {
       "model_id": "4be681b77aef49f4949b24de9f1722c9",
       "version_major": 2,
       "version_minor": 0
      },
      "text/plain": [
       "  0%|          | 0/1 [00:00<?, ?it/s]"
      ]
     },
     "metadata": {},
     "output_type": "display_data"
    },
    {
     "name": "stdout",
     "output_type": "stream",
     "text": [
      "CONVIRTIENDO... INFORME 162 D:\\OneDrive - Ingenio Azucarero Guabira S.A\\_DATOS_PYTHON/_test//254.docx\n",
      "D:\\OneDrive - Ingenio Azucarero Guabira S.A\\_DATOS_PYTHON/_test//254.docx\n",
      "D:\\OneDrive - Ingenio Azucarero Guabira S.A\\_DATOS_PYTHON/_test//254.pdf\n"
     ]
    },
    {
     "data": {
      "application/vnd.jupyter.widget-view+json": {
       "model_id": "9bd418af793245e39292d1850fcee5fe",
       "version_major": 2,
       "version_minor": 0
      },
      "text/plain": [
       "  0%|          | 0/1 [00:00<?, ?it/s]"
      ]
     },
     "metadata": {},
     "output_type": "display_data"
    },
    {
     "name": "stdout",
     "output_type": "stream",
     "text": [
      "CONVIRTIENDO... INFORME 163 D:\\OneDrive - Ingenio Azucarero Guabira S.A\\_DATOS_PYTHON/_test//255.docx\n",
      "D:\\OneDrive - Ingenio Azucarero Guabira S.A\\_DATOS_PYTHON/_test//255.docx\n",
      "D:\\OneDrive - Ingenio Azucarero Guabira S.A\\_DATOS_PYTHON/_test//255.pdf\n"
     ]
    },
    {
     "data": {
      "application/vnd.jupyter.widget-view+json": {
       "model_id": "1634b36e738c44c585e7a53a2f97b1ab",
       "version_major": 2,
       "version_minor": 0
      },
      "text/plain": [
       "  0%|          | 0/1 [00:00<?, ?it/s]"
      ]
     },
     "metadata": {},
     "output_type": "display_data"
    },
    {
     "name": "stdout",
     "output_type": "stream",
     "text": [
      "CONVIRTIENDO... INFORME 164 D:\\OneDrive - Ingenio Azucarero Guabira S.A\\_DATOS_PYTHON/_test//256.docx\n",
      "D:\\OneDrive - Ingenio Azucarero Guabira S.A\\_DATOS_PYTHON/_test//256.docx\n",
      "D:\\OneDrive - Ingenio Azucarero Guabira S.A\\_DATOS_PYTHON/_test//256.pdf\n"
     ]
    },
    {
     "data": {
      "application/vnd.jupyter.widget-view+json": {
       "model_id": "4e7e883986fc4332a22904bd562dd884",
       "version_major": 2,
       "version_minor": 0
      },
      "text/plain": [
       "  0%|          | 0/1 [00:00<?, ?it/s]"
      ]
     },
     "metadata": {},
     "output_type": "display_data"
    },
    {
     "name": "stdout",
     "output_type": "stream",
     "text": [
      "CONVIRTIENDO... INFORME 165 D:\\OneDrive - Ingenio Azucarero Guabira S.A\\_DATOS_PYTHON/_test//257.docx\n",
      "D:\\OneDrive - Ingenio Azucarero Guabira S.A\\_DATOS_PYTHON/_test//257.docx\n",
      "D:\\OneDrive - Ingenio Azucarero Guabira S.A\\_DATOS_PYTHON/_test//257.pdf\n"
     ]
    },
    {
     "data": {
      "application/vnd.jupyter.widget-view+json": {
       "model_id": "fb8cf930c5b34fe2b386a482803c8f6d",
       "version_major": 2,
       "version_minor": 0
      },
      "text/plain": [
       "  0%|          | 0/1 [00:00<?, ?it/s]"
      ]
     },
     "metadata": {},
     "output_type": "display_data"
    },
    {
     "name": "stdout",
     "output_type": "stream",
     "text": [
      "CONVIRTIENDO... INFORME 166 D:\\OneDrive - Ingenio Azucarero Guabira S.A\\_DATOS_PYTHON/_test//258.docx\n",
      "D:\\OneDrive - Ingenio Azucarero Guabira S.A\\_DATOS_PYTHON/_test//258.docx\n",
      "D:\\OneDrive - Ingenio Azucarero Guabira S.A\\_DATOS_PYTHON/_test//258.pdf\n"
     ]
    },
    {
     "data": {
      "application/vnd.jupyter.widget-view+json": {
       "model_id": "1464280cb8524ca69c8a8b275e8f015b",
       "version_major": 2,
       "version_minor": 0
      },
      "text/plain": [
       "  0%|          | 0/1 [00:00<?, ?it/s]"
      ]
     },
     "metadata": {},
     "output_type": "display_data"
    },
    {
     "name": "stdout",
     "output_type": "stream",
     "text": [
      "CONVIRTIENDO... INFORME 167 D:\\OneDrive - Ingenio Azucarero Guabira S.A\\_DATOS_PYTHON/_test//259.docx\n",
      "D:\\OneDrive - Ingenio Azucarero Guabira S.A\\_DATOS_PYTHON/_test//259.docx\n",
      "D:\\OneDrive - Ingenio Azucarero Guabira S.A\\_DATOS_PYTHON/_test//259.pdf\n"
     ]
    },
    {
     "data": {
      "application/vnd.jupyter.widget-view+json": {
       "model_id": "b1115465daee4b329055329853d8654d",
       "version_major": 2,
       "version_minor": 0
      },
      "text/plain": [
       "  0%|          | 0/1 [00:00<?, ?it/s]"
      ]
     },
     "metadata": {},
     "output_type": "display_data"
    },
    {
     "name": "stdout",
     "output_type": "stream",
     "text": [
      "CONVIRTIENDO... INFORME 168 D:\\OneDrive - Ingenio Azucarero Guabira S.A\\_DATOS_PYTHON/_test//26.docx\n",
      "D:\\OneDrive - Ingenio Azucarero Guabira S.A\\_DATOS_PYTHON/_test//26.docx\n",
      "D:\\OneDrive - Ingenio Azucarero Guabira S.A\\_DATOS_PYTHON/_test//26.pdf\n"
     ]
    },
    {
     "data": {
      "application/vnd.jupyter.widget-view+json": {
       "model_id": "34cd9b07cac24b8d83e4d2c9b544c9aa",
       "version_major": 2,
       "version_minor": 0
      },
      "text/plain": [
       "  0%|          | 0/1 [00:00<?, ?it/s]"
      ]
     },
     "metadata": {},
     "output_type": "display_data"
    },
    {
     "name": "stdout",
     "output_type": "stream",
     "text": [
      "CONVIRTIENDO... INFORME 169 D:\\OneDrive - Ingenio Azucarero Guabira S.A\\_DATOS_PYTHON/_test//260.docx\n",
      "D:\\OneDrive - Ingenio Azucarero Guabira S.A\\_DATOS_PYTHON/_test//260.docx\n",
      "D:\\OneDrive - Ingenio Azucarero Guabira S.A\\_DATOS_PYTHON/_test//260.pdf\n"
     ]
    },
    {
     "data": {
      "application/vnd.jupyter.widget-view+json": {
       "model_id": "f9e97da1c98840b58bab4417d21e97d7",
       "version_major": 2,
       "version_minor": 0
      },
      "text/plain": [
       "  0%|          | 0/1 [00:00<?, ?it/s]"
      ]
     },
     "metadata": {},
     "output_type": "display_data"
    },
    {
     "name": "stdout",
     "output_type": "stream",
     "text": [
      "CONVIRTIENDO... INFORME 170 D:\\OneDrive - Ingenio Azucarero Guabira S.A\\_DATOS_PYTHON/_test//261.docx\n",
      "D:\\OneDrive - Ingenio Azucarero Guabira S.A\\_DATOS_PYTHON/_test//261.docx\n",
      "D:\\OneDrive - Ingenio Azucarero Guabira S.A\\_DATOS_PYTHON/_test//261.pdf\n"
     ]
    },
    {
     "data": {
      "application/vnd.jupyter.widget-view+json": {
       "model_id": "86ac3aff05694b8aa2031a6917ac8532",
       "version_major": 2,
       "version_minor": 0
      },
      "text/plain": [
       "  0%|          | 0/1 [00:00<?, ?it/s]"
      ]
     },
     "metadata": {},
     "output_type": "display_data"
    },
    {
     "name": "stdout",
     "output_type": "stream",
     "text": [
      "CONVIRTIENDO... INFORME 171 D:\\OneDrive - Ingenio Azucarero Guabira S.A\\_DATOS_PYTHON/_test//262.docx\n",
      "D:\\OneDrive - Ingenio Azucarero Guabira S.A\\_DATOS_PYTHON/_test//262.docx\n",
      "D:\\OneDrive - Ingenio Azucarero Guabira S.A\\_DATOS_PYTHON/_test//262.pdf\n"
     ]
    },
    {
     "data": {
      "application/vnd.jupyter.widget-view+json": {
       "model_id": "f4d0ecbe9ef94a5aa881e33071d7e0e0",
       "version_major": 2,
       "version_minor": 0
      },
      "text/plain": [
       "  0%|          | 0/1 [00:00<?, ?it/s]"
      ]
     },
     "metadata": {},
     "output_type": "display_data"
    },
    {
     "name": "stdout",
     "output_type": "stream",
     "text": [
      "CONVIRTIENDO... INFORME 172 D:\\OneDrive - Ingenio Azucarero Guabira S.A\\_DATOS_PYTHON/_test//264.docx\n",
      "D:\\OneDrive - Ingenio Azucarero Guabira S.A\\_DATOS_PYTHON/_test//264.docx\n",
      "D:\\OneDrive - Ingenio Azucarero Guabira S.A\\_DATOS_PYTHON/_test//264.pdf\n"
     ]
    },
    {
     "data": {
      "application/vnd.jupyter.widget-view+json": {
       "model_id": "e98cb1e9c7ff4f71ad6e74c2dae20ad5",
       "version_major": 2,
       "version_minor": 0
      },
      "text/plain": [
       "  0%|          | 0/1 [00:00<?, ?it/s]"
      ]
     },
     "metadata": {},
     "output_type": "display_data"
    },
    {
     "name": "stdout",
     "output_type": "stream",
     "text": [
      "CONVIRTIENDO... INFORME 173 D:\\OneDrive - Ingenio Azucarero Guabira S.A\\_DATOS_PYTHON/_test//265.docx\n",
      "D:\\OneDrive - Ingenio Azucarero Guabira S.A\\_DATOS_PYTHON/_test//265.docx\n",
      "D:\\OneDrive - Ingenio Azucarero Guabira S.A\\_DATOS_PYTHON/_test//265.pdf\n"
     ]
    },
    {
     "data": {
      "application/vnd.jupyter.widget-view+json": {
       "model_id": "6b4b1a1144294f7481d7423bf4327750",
       "version_major": 2,
       "version_minor": 0
      },
      "text/plain": [
       "  0%|          | 0/1 [00:00<?, ?it/s]"
      ]
     },
     "metadata": {},
     "output_type": "display_data"
    },
    {
     "name": "stdout",
     "output_type": "stream",
     "text": [
      "CONVIRTIENDO... INFORME 174 D:\\OneDrive - Ingenio Azucarero Guabira S.A\\_DATOS_PYTHON/_test//266.docx\n",
      "D:\\OneDrive - Ingenio Azucarero Guabira S.A\\_DATOS_PYTHON/_test//266.docx\n",
      "D:\\OneDrive - Ingenio Azucarero Guabira S.A\\_DATOS_PYTHON/_test//266.pdf\n"
     ]
    },
    {
     "data": {
      "application/vnd.jupyter.widget-view+json": {
       "model_id": "65aa97fce512441caed9d94ba7e593eb",
       "version_major": 2,
       "version_minor": 0
      },
      "text/plain": [
       "  0%|          | 0/1 [00:00<?, ?it/s]"
      ]
     },
     "metadata": {},
     "output_type": "display_data"
    },
    {
     "name": "stdout",
     "output_type": "stream",
     "text": [
      "CONVIRTIENDO... INFORME 175 D:\\OneDrive - Ingenio Azucarero Guabira S.A\\_DATOS_PYTHON/_test//267.docx\n",
      "D:\\OneDrive - Ingenio Azucarero Guabira S.A\\_DATOS_PYTHON/_test//267.docx\n",
      "D:\\OneDrive - Ingenio Azucarero Guabira S.A\\_DATOS_PYTHON/_test//267.pdf\n"
     ]
    },
    {
     "data": {
      "application/vnd.jupyter.widget-view+json": {
       "model_id": "f2aee716ce014435a211b7430c6de86e",
       "version_major": 2,
       "version_minor": 0
      },
      "text/plain": [
       "  0%|          | 0/1 [00:00<?, ?it/s]"
      ]
     },
     "metadata": {},
     "output_type": "display_data"
    },
    {
     "name": "stdout",
     "output_type": "stream",
     "text": [
      "CONVIRTIENDO... INFORME 176 D:\\OneDrive - Ingenio Azucarero Guabira S.A\\_DATOS_PYTHON/_test//268.docx\n",
      "D:\\OneDrive - Ingenio Azucarero Guabira S.A\\_DATOS_PYTHON/_test//268.docx\n",
      "D:\\OneDrive - Ingenio Azucarero Guabira S.A\\_DATOS_PYTHON/_test//268.pdf\n"
     ]
    },
    {
     "data": {
      "application/vnd.jupyter.widget-view+json": {
       "model_id": "1e93c7757d364502b6af5197b8a7917d",
       "version_major": 2,
       "version_minor": 0
      },
      "text/plain": [
       "  0%|          | 0/1 [00:00<?, ?it/s]"
      ]
     },
     "metadata": {},
     "output_type": "display_data"
    },
    {
     "name": "stdout",
     "output_type": "stream",
     "text": [
      "CONVIRTIENDO... INFORME 177 D:\\OneDrive - Ingenio Azucarero Guabira S.A\\_DATOS_PYTHON/_test//269.docx\n",
      "D:\\OneDrive - Ingenio Azucarero Guabira S.A\\_DATOS_PYTHON/_test//269.docx\n",
      "D:\\OneDrive - Ingenio Azucarero Guabira S.A\\_DATOS_PYTHON/_test//269.pdf\n"
     ]
    },
    {
     "data": {
      "application/vnd.jupyter.widget-view+json": {
       "model_id": "aed7cd93d1b44b69b1b6830e37fe6067",
       "version_major": 2,
       "version_minor": 0
      },
      "text/plain": [
       "  0%|          | 0/1 [00:00<?, ?it/s]"
      ]
     },
     "metadata": {},
     "output_type": "display_data"
    },
    {
     "name": "stdout",
     "output_type": "stream",
     "text": [
      "CONVIRTIENDO... INFORME 178 D:\\OneDrive - Ingenio Azucarero Guabira S.A\\_DATOS_PYTHON/_test//270.docx\n",
      "D:\\OneDrive - Ingenio Azucarero Guabira S.A\\_DATOS_PYTHON/_test//270.docx\n",
      "D:\\OneDrive - Ingenio Azucarero Guabira S.A\\_DATOS_PYTHON/_test//270.pdf\n"
     ]
    },
    {
     "data": {
      "application/vnd.jupyter.widget-view+json": {
       "model_id": "605919fd64ea4a70b6340ca718a55813",
       "version_major": 2,
       "version_minor": 0
      },
      "text/plain": [
       "  0%|          | 0/1 [00:00<?, ?it/s]"
      ]
     },
     "metadata": {},
     "output_type": "display_data"
    },
    {
     "name": "stdout",
     "output_type": "stream",
     "text": [
      "CONVIRTIENDO... INFORME 179 D:\\OneDrive - Ingenio Azucarero Guabira S.A\\_DATOS_PYTHON/_test//271.docx\n",
      "D:\\OneDrive - Ingenio Azucarero Guabira S.A\\_DATOS_PYTHON/_test//271.docx\n",
      "D:\\OneDrive - Ingenio Azucarero Guabira S.A\\_DATOS_PYTHON/_test//271.pdf\n"
     ]
    },
    {
     "data": {
      "application/vnd.jupyter.widget-view+json": {
       "model_id": "a0fc4c933f0944208b20060b18eecb8e",
       "version_major": 2,
       "version_minor": 0
      },
      "text/plain": [
       "  0%|          | 0/1 [00:00<?, ?it/s]"
      ]
     },
     "metadata": {},
     "output_type": "display_data"
    },
    {
     "name": "stdout",
     "output_type": "stream",
     "text": [
      "CONVIRTIENDO... INFORME 180 D:\\OneDrive - Ingenio Azucarero Guabira S.A\\_DATOS_PYTHON/_test//272.docx\n",
      "D:\\OneDrive - Ingenio Azucarero Guabira S.A\\_DATOS_PYTHON/_test//272.docx\n",
      "D:\\OneDrive - Ingenio Azucarero Guabira S.A\\_DATOS_PYTHON/_test//272.pdf\n"
     ]
    },
    {
     "data": {
      "application/vnd.jupyter.widget-view+json": {
       "model_id": "1cf106bdf2704eb1bd9608b76390e59e",
       "version_major": 2,
       "version_minor": 0
      },
      "text/plain": [
       "  0%|          | 0/1 [00:00<?, ?it/s]"
      ]
     },
     "metadata": {},
     "output_type": "display_data"
    },
    {
     "name": "stdout",
     "output_type": "stream",
     "text": [
      "CONVIRTIENDO... INFORME 181 D:\\OneDrive - Ingenio Azucarero Guabira S.A\\_DATOS_PYTHON/_test//273.docx\n",
      "D:\\OneDrive - Ingenio Azucarero Guabira S.A\\_DATOS_PYTHON/_test//273.docx\n",
      "D:\\OneDrive - Ingenio Azucarero Guabira S.A\\_DATOS_PYTHON/_test//273.pdf\n"
     ]
    },
    {
     "data": {
      "application/vnd.jupyter.widget-view+json": {
       "model_id": "d629c64763b34854a253bd79cc872432",
       "version_major": 2,
       "version_minor": 0
      },
      "text/plain": [
       "  0%|          | 0/1 [00:00<?, ?it/s]"
      ]
     },
     "metadata": {},
     "output_type": "display_data"
    },
    {
     "name": "stdout",
     "output_type": "stream",
     "text": [
      "CONVIRTIENDO... INFORME 182 D:\\OneDrive - Ingenio Azucarero Guabira S.A\\_DATOS_PYTHON/_test//274.docx\n",
      "D:\\OneDrive - Ingenio Azucarero Guabira S.A\\_DATOS_PYTHON/_test//274.docx\n",
      "D:\\OneDrive - Ingenio Azucarero Guabira S.A\\_DATOS_PYTHON/_test//274.pdf\n"
     ]
    },
    {
     "data": {
      "application/vnd.jupyter.widget-view+json": {
       "model_id": "50a8e0b15a264fc683791cfd1a9fab06",
       "version_major": 2,
       "version_minor": 0
      },
      "text/plain": [
       "  0%|          | 0/1 [00:00<?, ?it/s]"
      ]
     },
     "metadata": {},
     "output_type": "display_data"
    },
    {
     "name": "stdout",
     "output_type": "stream",
     "text": [
      "CONVIRTIENDO... INFORME 183 D:\\OneDrive - Ingenio Azucarero Guabira S.A\\_DATOS_PYTHON/_test//275.docx\n",
      "D:\\OneDrive - Ingenio Azucarero Guabira S.A\\_DATOS_PYTHON/_test//275.docx\n",
      "D:\\OneDrive - Ingenio Azucarero Guabira S.A\\_DATOS_PYTHON/_test//275.pdf\n"
     ]
    },
    {
     "data": {
      "application/vnd.jupyter.widget-view+json": {
       "model_id": "53c21e9c1ea343fdade755bdd6576e2f",
       "version_major": 2,
       "version_minor": 0
      },
      "text/plain": [
       "  0%|          | 0/1 [00:00<?, ?it/s]"
      ]
     },
     "metadata": {},
     "output_type": "display_data"
    },
    {
     "name": "stdout",
     "output_type": "stream",
     "text": [
      "CONVIRTIENDO... INFORME 184 D:\\OneDrive - Ingenio Azucarero Guabira S.A\\_DATOS_PYTHON/_test//276.docx\n",
      "D:\\OneDrive - Ingenio Azucarero Guabira S.A\\_DATOS_PYTHON/_test//276.docx\n",
      "D:\\OneDrive - Ingenio Azucarero Guabira S.A\\_DATOS_PYTHON/_test//276.pdf\n"
     ]
    },
    {
     "data": {
      "application/vnd.jupyter.widget-view+json": {
       "model_id": "4f8651a7cb674261b72f2a68b24a414d",
       "version_major": 2,
       "version_minor": 0
      },
      "text/plain": [
       "  0%|          | 0/1 [00:00<?, ?it/s]"
      ]
     },
     "metadata": {},
     "output_type": "display_data"
    },
    {
     "name": "stdout",
     "output_type": "stream",
     "text": [
      "CONVIRTIENDO... INFORME 185 D:\\OneDrive - Ingenio Azucarero Guabira S.A\\_DATOS_PYTHON/_test//277.docx\n",
      "D:\\OneDrive - Ingenio Azucarero Guabira S.A\\_DATOS_PYTHON/_test//277.docx\n",
      "D:\\OneDrive - Ingenio Azucarero Guabira S.A\\_DATOS_PYTHON/_test//277.pdf\n"
     ]
    },
    {
     "data": {
      "application/vnd.jupyter.widget-view+json": {
       "model_id": "725fedede1674f91bbb3b0b5c7170dab",
       "version_major": 2,
       "version_minor": 0
      },
      "text/plain": [
       "  0%|          | 0/1 [00:00<?, ?it/s]"
      ]
     },
     "metadata": {},
     "output_type": "display_data"
    },
    {
     "name": "stdout",
     "output_type": "stream",
     "text": [
      "CONVIRTIENDO... INFORME 186 D:\\OneDrive - Ingenio Azucarero Guabira S.A\\_DATOS_PYTHON/_test//278.docx\n",
      "D:\\OneDrive - Ingenio Azucarero Guabira S.A\\_DATOS_PYTHON/_test//278.docx\n",
      "D:\\OneDrive - Ingenio Azucarero Guabira S.A\\_DATOS_PYTHON/_test//278.pdf\n"
     ]
    },
    {
     "data": {
      "application/vnd.jupyter.widget-view+json": {
       "model_id": "a87f0beeae9e43aeb8ff629c7db22e5c",
       "version_major": 2,
       "version_minor": 0
      },
      "text/plain": [
       "  0%|          | 0/1 [00:00<?, ?it/s]"
      ]
     },
     "metadata": {},
     "output_type": "display_data"
    },
    {
     "name": "stdout",
     "output_type": "stream",
     "text": [
      "CONVIRTIENDO... INFORME 187 D:\\OneDrive - Ingenio Azucarero Guabira S.A\\_DATOS_PYTHON/_test//28.docx\n",
      "D:\\OneDrive - Ingenio Azucarero Guabira S.A\\_DATOS_PYTHON/_test//28.docx\n",
      "D:\\OneDrive - Ingenio Azucarero Guabira S.A\\_DATOS_PYTHON/_test//28.pdf\n"
     ]
    },
    {
     "data": {
      "application/vnd.jupyter.widget-view+json": {
       "model_id": "4005b266543442439237079e6fcb09a5",
       "version_major": 2,
       "version_minor": 0
      },
      "text/plain": [
       "  0%|          | 0/1 [00:00<?, ?it/s]"
      ]
     },
     "metadata": {},
     "output_type": "display_data"
    },
    {
     "name": "stdout",
     "output_type": "stream",
     "text": [
      "CONVIRTIENDO... INFORME 188 D:\\OneDrive - Ingenio Azucarero Guabira S.A\\_DATOS_PYTHON/_test//280.docx\n",
      "D:\\OneDrive - Ingenio Azucarero Guabira S.A\\_DATOS_PYTHON/_test//280.docx\n",
      "D:\\OneDrive - Ingenio Azucarero Guabira S.A\\_DATOS_PYTHON/_test//280.pdf\n"
     ]
    },
    {
     "data": {
      "application/vnd.jupyter.widget-view+json": {
       "model_id": "6af3fe191c6b4fd6a0f7102c22373603",
       "version_major": 2,
       "version_minor": 0
      },
      "text/plain": [
       "  0%|          | 0/1 [00:00<?, ?it/s]"
      ]
     },
     "metadata": {},
     "output_type": "display_data"
    },
    {
     "name": "stdout",
     "output_type": "stream",
     "text": [
      "CONVIRTIENDO... INFORME 189 D:\\OneDrive - Ingenio Azucarero Guabira S.A\\_DATOS_PYTHON/_test//281.docx\n",
      "D:\\OneDrive - Ingenio Azucarero Guabira S.A\\_DATOS_PYTHON/_test//281.docx\n",
      "D:\\OneDrive - Ingenio Azucarero Guabira S.A\\_DATOS_PYTHON/_test//281.pdf\n"
     ]
    },
    {
     "data": {
      "application/vnd.jupyter.widget-view+json": {
       "model_id": "c07b9607b22745ad936396f6d7d3e492",
       "version_major": 2,
       "version_minor": 0
      },
      "text/plain": [
       "  0%|          | 0/1 [00:00<?, ?it/s]"
      ]
     },
     "metadata": {},
     "output_type": "display_data"
    },
    {
     "name": "stdout",
     "output_type": "stream",
     "text": [
      "CONVIRTIENDO... INFORME 190 D:\\OneDrive - Ingenio Azucarero Guabira S.A\\_DATOS_PYTHON/_test//282.docx\n",
      "D:\\OneDrive - Ingenio Azucarero Guabira S.A\\_DATOS_PYTHON/_test//282.docx\n",
      "D:\\OneDrive - Ingenio Azucarero Guabira S.A\\_DATOS_PYTHON/_test//282.pdf\n"
     ]
    },
    {
     "data": {
      "application/vnd.jupyter.widget-view+json": {
       "model_id": "d90e6fad0e704496affc991129d3e78a",
       "version_major": 2,
       "version_minor": 0
      },
      "text/plain": [
       "  0%|          | 0/1 [00:00<?, ?it/s]"
      ]
     },
     "metadata": {},
     "output_type": "display_data"
    },
    {
     "name": "stdout",
     "output_type": "stream",
     "text": [
      "CONVIRTIENDO... INFORME 191 D:\\OneDrive - Ingenio Azucarero Guabira S.A\\_DATOS_PYTHON/_test//283.docx\n",
      "D:\\OneDrive - Ingenio Azucarero Guabira S.A\\_DATOS_PYTHON/_test//283.docx\n",
      "D:\\OneDrive - Ingenio Azucarero Guabira S.A\\_DATOS_PYTHON/_test//283.pdf\n"
     ]
    },
    {
     "data": {
      "application/vnd.jupyter.widget-view+json": {
       "model_id": "a6be29f416ac4b79a3949260e2666a25",
       "version_major": 2,
       "version_minor": 0
      },
      "text/plain": [
       "  0%|          | 0/1 [00:00<?, ?it/s]"
      ]
     },
     "metadata": {},
     "output_type": "display_data"
    },
    {
     "name": "stdout",
     "output_type": "stream",
     "text": [
      "CONVIRTIENDO... INFORME 192 D:\\OneDrive - Ingenio Azucarero Guabira S.A\\_DATOS_PYTHON/_test//284.docx\n",
      "D:\\OneDrive - Ingenio Azucarero Guabira S.A\\_DATOS_PYTHON/_test//284.docx\n",
      "D:\\OneDrive - Ingenio Azucarero Guabira S.A\\_DATOS_PYTHON/_test//284.pdf\n"
     ]
    },
    {
     "data": {
      "application/vnd.jupyter.widget-view+json": {
       "model_id": "d07a86db3a074efcaa5116ae92e6d2d0",
       "version_major": 2,
       "version_minor": 0
      },
      "text/plain": [
       "  0%|          | 0/1 [00:00<?, ?it/s]"
      ]
     },
     "metadata": {},
     "output_type": "display_data"
    },
    {
     "name": "stdout",
     "output_type": "stream",
     "text": [
      "CONVIRTIENDO... INFORME 193 D:\\OneDrive - Ingenio Azucarero Guabira S.A\\_DATOS_PYTHON/_test//285.docx\n",
      "D:\\OneDrive - Ingenio Azucarero Guabira S.A\\_DATOS_PYTHON/_test//285.docx\n",
      "D:\\OneDrive - Ingenio Azucarero Guabira S.A\\_DATOS_PYTHON/_test//285.pdf\n"
     ]
    },
    {
     "data": {
      "application/vnd.jupyter.widget-view+json": {
       "model_id": "0b322c513e674a67a29ceab30b58a0d4",
       "version_major": 2,
       "version_minor": 0
      },
      "text/plain": [
       "  0%|          | 0/1 [00:00<?, ?it/s]"
      ]
     },
     "metadata": {},
     "output_type": "display_data"
    },
    {
     "name": "stdout",
     "output_type": "stream",
     "text": [
      "CONVIRTIENDO... INFORME 194 D:\\OneDrive - Ingenio Azucarero Guabira S.A\\_DATOS_PYTHON/_test//286.docx\n",
      "D:\\OneDrive - Ingenio Azucarero Guabira S.A\\_DATOS_PYTHON/_test//286.docx\n",
      "D:\\OneDrive - Ingenio Azucarero Guabira S.A\\_DATOS_PYTHON/_test//286.pdf\n"
     ]
    },
    {
     "data": {
      "application/vnd.jupyter.widget-view+json": {
       "model_id": "7de15c261f494932b78b5dfdb62da36b",
       "version_major": 2,
       "version_minor": 0
      },
      "text/plain": [
       "  0%|          | 0/1 [00:00<?, ?it/s]"
      ]
     },
     "metadata": {},
     "output_type": "display_data"
    },
    {
     "name": "stdout",
     "output_type": "stream",
     "text": [
      "CONVIRTIENDO... INFORME 195 D:\\OneDrive - Ingenio Azucarero Guabira S.A\\_DATOS_PYTHON/_test//287.docx\n",
      "D:\\OneDrive - Ingenio Azucarero Guabira S.A\\_DATOS_PYTHON/_test//287.docx\n",
      "D:\\OneDrive - Ingenio Azucarero Guabira S.A\\_DATOS_PYTHON/_test//287.pdf\n"
     ]
    },
    {
     "data": {
      "application/vnd.jupyter.widget-view+json": {
       "model_id": "b76af48ee6b8430eb895e04f23c1187d",
       "version_major": 2,
       "version_minor": 0
      },
      "text/plain": [
       "  0%|          | 0/1 [00:00<?, ?it/s]"
      ]
     },
     "metadata": {},
     "output_type": "display_data"
    },
    {
     "name": "stdout",
     "output_type": "stream",
     "text": [
      "CONVIRTIENDO... INFORME 196 D:\\OneDrive - Ingenio Azucarero Guabira S.A\\_DATOS_PYTHON/_test//288.docx\n",
      "D:\\OneDrive - Ingenio Azucarero Guabira S.A\\_DATOS_PYTHON/_test//288.docx\n",
      "D:\\OneDrive - Ingenio Azucarero Guabira S.A\\_DATOS_PYTHON/_test//288.pdf\n"
     ]
    },
    {
     "data": {
      "application/vnd.jupyter.widget-view+json": {
       "model_id": "251a418458064815883c84e041b09c8c",
       "version_major": 2,
       "version_minor": 0
      },
      "text/plain": [
       "  0%|          | 0/1 [00:00<?, ?it/s]"
      ]
     },
     "metadata": {},
     "output_type": "display_data"
    },
    {
     "name": "stdout",
     "output_type": "stream",
     "text": [
      "CONVIRTIENDO... INFORME 197 D:\\OneDrive - Ingenio Azucarero Guabira S.A\\_DATOS_PYTHON/_test//289.docx\n",
      "D:\\OneDrive - Ingenio Azucarero Guabira S.A\\_DATOS_PYTHON/_test//289.docx\n",
      "D:\\OneDrive - Ingenio Azucarero Guabira S.A\\_DATOS_PYTHON/_test//289.pdf\n"
     ]
    },
    {
     "data": {
      "application/vnd.jupyter.widget-view+json": {
       "model_id": "c935ad4f73874356a7bbd248cd4a1c3b",
       "version_major": 2,
       "version_minor": 0
      },
      "text/plain": [
       "  0%|          | 0/1 [00:00<?, ?it/s]"
      ]
     },
     "metadata": {},
     "output_type": "display_data"
    },
    {
     "name": "stdout",
     "output_type": "stream",
     "text": [
      "CONVIRTIENDO... INFORME 198 D:\\OneDrive - Ingenio Azucarero Guabira S.A\\_DATOS_PYTHON/_test//29.docx\n",
      "D:\\OneDrive - Ingenio Azucarero Guabira S.A\\_DATOS_PYTHON/_test//29.docx\n",
      "D:\\OneDrive - Ingenio Azucarero Guabira S.A\\_DATOS_PYTHON/_test//29.pdf\n"
     ]
    },
    {
     "data": {
      "application/vnd.jupyter.widget-view+json": {
       "model_id": "7047544abbf746d1bf8f42d1784675b6",
       "version_major": 2,
       "version_minor": 0
      },
      "text/plain": [
       "  0%|          | 0/1 [00:00<?, ?it/s]"
      ]
     },
     "metadata": {},
     "output_type": "display_data"
    },
    {
     "name": "stdout",
     "output_type": "stream",
     "text": [
      "CONVIRTIENDO... INFORME 199 D:\\OneDrive - Ingenio Azucarero Guabira S.A\\_DATOS_PYTHON/_test//291.docx\n",
      "D:\\OneDrive - Ingenio Azucarero Guabira S.A\\_DATOS_PYTHON/_test//291.docx\n",
      "D:\\OneDrive - Ingenio Azucarero Guabira S.A\\_DATOS_PYTHON/_test//291.pdf\n"
     ]
    },
    {
     "data": {
      "application/vnd.jupyter.widget-view+json": {
       "model_id": "67889599cf95436badd062f30b49e6b3",
       "version_major": 2,
       "version_minor": 0
      },
      "text/plain": [
       "  0%|          | 0/1 [00:00<?, ?it/s]"
      ]
     },
     "metadata": {},
     "output_type": "display_data"
    },
    {
     "name": "stdout",
     "output_type": "stream",
     "text": [
      "CONVIRTIENDO... INFORME 200 D:\\OneDrive - Ingenio Azucarero Guabira S.A\\_DATOS_PYTHON/_test//292.docx\n",
      "D:\\OneDrive - Ingenio Azucarero Guabira S.A\\_DATOS_PYTHON/_test//292.docx\n",
      "D:\\OneDrive - Ingenio Azucarero Guabira S.A\\_DATOS_PYTHON/_test//292.pdf\n"
     ]
    },
    {
     "data": {
      "application/vnd.jupyter.widget-view+json": {
       "model_id": "b07b78fb596a4647972d02deaeba411b",
       "version_major": 2,
       "version_minor": 0
      },
      "text/plain": [
       "  0%|          | 0/1 [00:00<?, ?it/s]"
      ]
     },
     "metadata": {},
     "output_type": "display_data"
    },
    {
     "name": "stdout",
     "output_type": "stream",
     "text": [
      "CONVIRTIENDO... INFORME 201 D:\\OneDrive - Ingenio Azucarero Guabira S.A\\_DATOS_PYTHON/_test//293.docx\n",
      "D:\\OneDrive - Ingenio Azucarero Guabira S.A\\_DATOS_PYTHON/_test//293.docx\n",
      "D:\\OneDrive - Ingenio Azucarero Guabira S.A\\_DATOS_PYTHON/_test//293.pdf\n"
     ]
    },
    {
     "data": {
      "application/vnd.jupyter.widget-view+json": {
       "model_id": "8522fc81bb004341b9aa7afe86d04c3d",
       "version_major": 2,
       "version_minor": 0
      },
      "text/plain": [
       "  0%|          | 0/1 [00:00<?, ?it/s]"
      ]
     },
     "metadata": {},
     "output_type": "display_data"
    },
    {
     "name": "stdout",
     "output_type": "stream",
     "text": [
      "CONVIRTIENDO... INFORME 202 D:\\OneDrive - Ingenio Azucarero Guabira S.A\\_DATOS_PYTHON/_test//294.docx\n",
      "D:\\OneDrive - Ingenio Azucarero Guabira S.A\\_DATOS_PYTHON/_test//294.docx\n",
      "D:\\OneDrive - Ingenio Azucarero Guabira S.A\\_DATOS_PYTHON/_test//294.pdf\n"
     ]
    },
    {
     "data": {
      "application/vnd.jupyter.widget-view+json": {
       "model_id": "e336bdd7c05d4e809c764a87a6b63bea",
       "version_major": 2,
       "version_minor": 0
      },
      "text/plain": [
       "  0%|          | 0/1 [00:00<?, ?it/s]"
      ]
     },
     "metadata": {},
     "output_type": "display_data"
    },
    {
     "name": "stdout",
     "output_type": "stream",
     "text": [
      "CONVIRTIENDO... INFORME 203 D:\\OneDrive - Ingenio Azucarero Guabira S.A\\_DATOS_PYTHON/_test//295.docx\n",
      "D:\\OneDrive - Ingenio Azucarero Guabira S.A\\_DATOS_PYTHON/_test//295.docx\n",
      "D:\\OneDrive - Ingenio Azucarero Guabira S.A\\_DATOS_PYTHON/_test//295.pdf\n"
     ]
    },
    {
     "data": {
      "application/vnd.jupyter.widget-view+json": {
       "model_id": "3131d8fe676841deb0f69384094b0fe3",
       "version_major": 2,
       "version_minor": 0
      },
      "text/plain": [
       "  0%|          | 0/1 [00:00<?, ?it/s]"
      ]
     },
     "metadata": {},
     "output_type": "display_data"
    },
    {
     "name": "stdout",
     "output_type": "stream",
     "text": [
      "CONVIRTIENDO... INFORME 204 D:\\OneDrive - Ingenio Azucarero Guabira S.A\\_DATOS_PYTHON/_test//296.docx\n",
      "D:\\OneDrive - Ingenio Azucarero Guabira S.A\\_DATOS_PYTHON/_test//296.docx\n",
      "D:\\OneDrive - Ingenio Azucarero Guabira S.A\\_DATOS_PYTHON/_test//296.pdf\n"
     ]
    },
    {
     "data": {
      "application/vnd.jupyter.widget-view+json": {
       "model_id": "0d71b37c1b474c95965f2c91ce3cd7ed",
       "version_major": 2,
       "version_minor": 0
      },
      "text/plain": [
       "  0%|          | 0/1 [00:00<?, ?it/s]"
      ]
     },
     "metadata": {},
     "output_type": "display_data"
    },
    {
     "name": "stdout",
     "output_type": "stream",
     "text": [
      "CONVIRTIENDO... INFORME 205 D:\\OneDrive - Ingenio Azucarero Guabira S.A\\_DATOS_PYTHON/_test//297.docx\n",
      "D:\\OneDrive - Ingenio Azucarero Guabira S.A\\_DATOS_PYTHON/_test//297.docx\n",
      "D:\\OneDrive - Ingenio Azucarero Guabira S.A\\_DATOS_PYTHON/_test//297.pdf\n"
     ]
    },
    {
     "data": {
      "application/vnd.jupyter.widget-view+json": {
       "model_id": "a5d764ec45854350b398227bef559454",
       "version_major": 2,
       "version_minor": 0
      },
      "text/plain": [
       "  0%|          | 0/1 [00:00<?, ?it/s]"
      ]
     },
     "metadata": {},
     "output_type": "display_data"
    },
    {
     "name": "stdout",
     "output_type": "stream",
     "text": [
      "CONVIRTIENDO... INFORME 206 D:\\OneDrive - Ingenio Azucarero Guabira S.A\\_DATOS_PYTHON/_test//298.docx\n",
      "D:\\OneDrive - Ingenio Azucarero Guabira S.A\\_DATOS_PYTHON/_test//298.docx\n",
      "D:\\OneDrive - Ingenio Azucarero Guabira S.A\\_DATOS_PYTHON/_test//298.pdf\n"
     ]
    },
    {
     "data": {
      "application/vnd.jupyter.widget-view+json": {
       "model_id": "930b13350ae74d0a8cb5440ca7c4e26a",
       "version_major": 2,
       "version_minor": 0
      },
      "text/plain": [
       "  0%|          | 0/1 [00:00<?, ?it/s]"
      ]
     },
     "metadata": {},
     "output_type": "display_data"
    },
    {
     "name": "stdout",
     "output_type": "stream",
     "text": [
      "CONVIRTIENDO... INFORME 207 D:\\OneDrive - Ingenio Azucarero Guabira S.A\\_DATOS_PYTHON/_test//299.docx\n",
      "D:\\OneDrive - Ingenio Azucarero Guabira S.A\\_DATOS_PYTHON/_test//299.docx\n",
      "D:\\OneDrive - Ingenio Azucarero Guabira S.A\\_DATOS_PYTHON/_test//299.pdf\n"
     ]
    },
    {
     "data": {
      "application/vnd.jupyter.widget-view+json": {
       "model_id": "a29781b6ca60471483a17cd68ae3c706",
       "version_major": 2,
       "version_minor": 0
      },
      "text/plain": [
       "  0%|          | 0/1 [00:00<?, ?it/s]"
      ]
     },
     "metadata": {},
     "output_type": "display_data"
    },
    {
     "name": "stdout",
     "output_type": "stream",
     "text": [
      "CONVIRTIENDO... INFORME 208 D:\\OneDrive - Ingenio Azucarero Guabira S.A\\_DATOS_PYTHON/_test//3.docx\n",
      "D:\\OneDrive - Ingenio Azucarero Guabira S.A\\_DATOS_PYTHON/_test//3.docx\n",
      "D:\\OneDrive - Ingenio Azucarero Guabira S.A\\_DATOS_PYTHON/_test//3.pdf\n"
     ]
    },
    {
     "data": {
      "application/vnd.jupyter.widget-view+json": {
       "model_id": "296a05d611d44f22b0bb9638fba35bce",
       "version_major": 2,
       "version_minor": 0
      },
      "text/plain": [
       "  0%|          | 0/1 [00:00<?, ?it/s]"
      ]
     },
     "metadata": {},
     "output_type": "display_data"
    },
    {
     "name": "stdout",
     "output_type": "stream",
     "text": [
      "CONVIRTIENDO... INFORME 209 D:\\OneDrive - Ingenio Azucarero Guabira S.A\\_DATOS_PYTHON/_test//30.docx\n",
      "D:\\OneDrive - Ingenio Azucarero Guabira S.A\\_DATOS_PYTHON/_test//30.docx\n",
      "D:\\OneDrive - Ingenio Azucarero Guabira S.A\\_DATOS_PYTHON/_test//30.pdf\n"
     ]
    },
    {
     "data": {
      "application/vnd.jupyter.widget-view+json": {
       "model_id": "618769498ccf4ba7b6376554b875105e",
       "version_major": 2,
       "version_minor": 0
      },
      "text/plain": [
       "  0%|          | 0/1 [00:00<?, ?it/s]"
      ]
     },
     "metadata": {},
     "output_type": "display_data"
    },
    {
     "name": "stdout",
     "output_type": "stream",
     "text": [
      "CONVIRTIENDO... INFORME 210 D:\\OneDrive - Ingenio Azucarero Guabira S.A\\_DATOS_PYTHON/_test//300.docx\n",
      "D:\\OneDrive - Ingenio Azucarero Guabira S.A\\_DATOS_PYTHON/_test//300.docx\n",
      "D:\\OneDrive - Ingenio Azucarero Guabira S.A\\_DATOS_PYTHON/_test//300.pdf\n"
     ]
    },
    {
     "data": {
      "application/vnd.jupyter.widget-view+json": {
       "model_id": "4281379bc45344ad89b54f9bedb2d132",
       "version_major": 2,
       "version_minor": 0
      },
      "text/plain": [
       "  0%|          | 0/1 [00:00<?, ?it/s]"
      ]
     },
     "metadata": {},
     "output_type": "display_data"
    },
    {
     "name": "stdout",
     "output_type": "stream",
     "text": [
      "CONVIRTIENDO... INFORME 211 D:\\OneDrive - Ingenio Azucarero Guabira S.A\\_DATOS_PYTHON/_test//301.docx\n",
      "D:\\OneDrive - Ingenio Azucarero Guabira S.A\\_DATOS_PYTHON/_test//301.docx\n",
      "D:\\OneDrive - Ingenio Azucarero Guabira S.A\\_DATOS_PYTHON/_test//301.pdf\n"
     ]
    },
    {
     "data": {
      "application/vnd.jupyter.widget-view+json": {
       "model_id": "6b100841f3a64630bb9a8bd0a05821ae",
       "version_major": 2,
       "version_minor": 0
      },
      "text/plain": [
       "  0%|          | 0/1 [00:00<?, ?it/s]"
      ]
     },
     "metadata": {},
     "output_type": "display_data"
    },
    {
     "name": "stdout",
     "output_type": "stream",
     "text": [
      "CONVIRTIENDO... INFORME 212 D:\\OneDrive - Ingenio Azucarero Guabira S.A\\_DATOS_PYTHON/_test//303.docx\n",
      "D:\\OneDrive - Ingenio Azucarero Guabira S.A\\_DATOS_PYTHON/_test//303.docx\n",
      "D:\\OneDrive - Ingenio Azucarero Guabira S.A\\_DATOS_PYTHON/_test//303.pdf\n"
     ]
    },
    {
     "data": {
      "application/vnd.jupyter.widget-view+json": {
       "model_id": "01c7865b8fa64a42a12b494a3ece4228",
       "version_major": 2,
       "version_minor": 0
      },
      "text/plain": [
       "  0%|          | 0/1 [00:00<?, ?it/s]"
      ]
     },
     "metadata": {},
     "output_type": "display_data"
    },
    {
     "name": "stdout",
     "output_type": "stream",
     "text": [
      "CONVIRTIENDO... INFORME 213 D:\\OneDrive - Ingenio Azucarero Guabira S.A\\_DATOS_PYTHON/_test//304.docx\n",
      "D:\\OneDrive - Ingenio Azucarero Guabira S.A\\_DATOS_PYTHON/_test//304.docx\n",
      "D:\\OneDrive - Ingenio Azucarero Guabira S.A\\_DATOS_PYTHON/_test//304.pdf\n"
     ]
    },
    {
     "data": {
      "application/vnd.jupyter.widget-view+json": {
       "model_id": "23f74fa95ab9452d929c41444976270f",
       "version_major": 2,
       "version_minor": 0
      },
      "text/plain": [
       "  0%|          | 0/1 [00:00<?, ?it/s]"
      ]
     },
     "metadata": {},
     "output_type": "display_data"
    },
    {
     "name": "stdout",
     "output_type": "stream",
     "text": [
      "CONVIRTIENDO... INFORME 214 D:\\OneDrive - Ingenio Azucarero Guabira S.A\\_DATOS_PYTHON/_test//305.docx\n",
      "D:\\OneDrive - Ingenio Azucarero Guabira S.A\\_DATOS_PYTHON/_test//305.docx\n",
      "D:\\OneDrive - Ingenio Azucarero Guabira S.A\\_DATOS_PYTHON/_test//305.pdf\n"
     ]
    },
    {
     "data": {
      "application/vnd.jupyter.widget-view+json": {
       "model_id": "69ad5ae6eb3e4314a8835bc00700ff07",
       "version_major": 2,
       "version_minor": 0
      },
      "text/plain": [
       "  0%|          | 0/1 [00:00<?, ?it/s]"
      ]
     },
     "metadata": {},
     "output_type": "display_data"
    },
    {
     "name": "stdout",
     "output_type": "stream",
     "text": [
      "CONVIRTIENDO... INFORME 215 D:\\OneDrive - Ingenio Azucarero Guabira S.A\\_DATOS_PYTHON/_test//306.docx\n",
      "D:\\OneDrive - Ingenio Azucarero Guabira S.A\\_DATOS_PYTHON/_test//306.docx\n",
      "D:\\OneDrive - Ingenio Azucarero Guabira S.A\\_DATOS_PYTHON/_test//306.pdf\n"
     ]
    },
    {
     "data": {
      "application/vnd.jupyter.widget-view+json": {
       "model_id": "0af00b23c94d406a91dce3fbaf767fa8",
       "version_major": 2,
       "version_minor": 0
      },
      "text/plain": [
       "  0%|          | 0/1 [00:00<?, ?it/s]"
      ]
     },
     "metadata": {},
     "output_type": "display_data"
    },
    {
     "name": "stdout",
     "output_type": "stream",
     "text": [
      "CONVIRTIENDO... INFORME 216 D:\\OneDrive - Ingenio Azucarero Guabira S.A\\_DATOS_PYTHON/_test//307.docx\n",
      "D:\\OneDrive - Ingenio Azucarero Guabira S.A\\_DATOS_PYTHON/_test//307.docx\n",
      "D:\\OneDrive - Ingenio Azucarero Guabira S.A\\_DATOS_PYTHON/_test//307.pdf\n"
     ]
    },
    {
     "data": {
      "application/vnd.jupyter.widget-view+json": {
       "model_id": "7cafd19359ab47aeacbf6de8c27a5651",
       "version_major": 2,
       "version_minor": 0
      },
      "text/plain": [
       "  0%|          | 0/1 [00:00<?, ?it/s]"
      ]
     },
     "metadata": {},
     "output_type": "display_data"
    },
    {
     "name": "stdout",
     "output_type": "stream",
     "text": [
      "CONVIRTIENDO... INFORME 217 D:\\OneDrive - Ingenio Azucarero Guabira S.A\\_DATOS_PYTHON/_test//308.docx\n",
      "D:\\OneDrive - Ingenio Azucarero Guabira S.A\\_DATOS_PYTHON/_test//308.docx\n",
      "D:\\OneDrive - Ingenio Azucarero Guabira S.A\\_DATOS_PYTHON/_test//308.pdf\n"
     ]
    },
    {
     "data": {
      "application/vnd.jupyter.widget-view+json": {
       "model_id": "2adc7cb2ad59431f8edf1a96d71e1230",
       "version_major": 2,
       "version_minor": 0
      },
      "text/plain": [
       "  0%|          | 0/1 [00:00<?, ?it/s]"
      ]
     },
     "metadata": {},
     "output_type": "display_data"
    },
    {
     "name": "stdout",
     "output_type": "stream",
     "text": [
      "CONVIRTIENDO... INFORME 218 D:\\OneDrive - Ingenio Azucarero Guabira S.A\\_DATOS_PYTHON/_test//309.docx\n",
      "D:\\OneDrive - Ingenio Azucarero Guabira S.A\\_DATOS_PYTHON/_test//309.docx\n",
      "D:\\OneDrive - Ingenio Azucarero Guabira S.A\\_DATOS_PYTHON/_test//309.pdf\n"
     ]
    },
    {
     "data": {
      "application/vnd.jupyter.widget-view+json": {
       "model_id": "97d46008b31149f1b0514cba8b6db274",
       "version_major": 2,
       "version_minor": 0
      },
      "text/plain": [
       "  0%|          | 0/1 [00:00<?, ?it/s]"
      ]
     },
     "metadata": {},
     "output_type": "display_data"
    },
    {
     "name": "stdout",
     "output_type": "stream",
     "text": [
      "CONVIRTIENDO... INFORME 219 D:\\OneDrive - Ingenio Azucarero Guabira S.A\\_DATOS_PYTHON/_test//31.docx\n",
      "D:\\OneDrive - Ingenio Azucarero Guabira S.A\\_DATOS_PYTHON/_test//31.docx\n",
      "D:\\OneDrive - Ingenio Azucarero Guabira S.A\\_DATOS_PYTHON/_test//31.pdf\n"
     ]
    },
    {
     "data": {
      "application/vnd.jupyter.widget-view+json": {
       "model_id": "7acd9ec2e2114f0c959376cfe5767130",
       "version_major": 2,
       "version_minor": 0
      },
      "text/plain": [
       "  0%|          | 0/1 [00:00<?, ?it/s]"
      ]
     },
     "metadata": {},
     "output_type": "display_data"
    },
    {
     "name": "stdout",
     "output_type": "stream",
     "text": [
      "CONVIRTIENDO... INFORME 220 D:\\OneDrive - Ingenio Azucarero Guabira S.A\\_DATOS_PYTHON/_test//310.docx\n",
      "D:\\OneDrive - Ingenio Azucarero Guabira S.A\\_DATOS_PYTHON/_test//310.docx\n",
      "D:\\OneDrive - Ingenio Azucarero Guabira S.A\\_DATOS_PYTHON/_test//310.pdf\n"
     ]
    },
    {
     "data": {
      "application/vnd.jupyter.widget-view+json": {
       "model_id": "e5199fba86ea445eba156604e2aabd10",
       "version_major": 2,
       "version_minor": 0
      },
      "text/plain": [
       "  0%|          | 0/1 [00:00<?, ?it/s]"
      ]
     },
     "metadata": {},
     "output_type": "display_data"
    },
    {
     "name": "stdout",
     "output_type": "stream",
     "text": [
      "CONVIRTIENDO... INFORME 221 D:\\OneDrive - Ingenio Azucarero Guabira S.A\\_DATOS_PYTHON/_test//311.docx\n",
      "D:\\OneDrive - Ingenio Azucarero Guabira S.A\\_DATOS_PYTHON/_test//311.docx\n",
      "D:\\OneDrive - Ingenio Azucarero Guabira S.A\\_DATOS_PYTHON/_test//311.pdf\n"
     ]
    },
    {
     "data": {
      "application/vnd.jupyter.widget-view+json": {
       "model_id": "9c0d0fd4f6b0447db1b4260d960a42a9",
       "version_major": 2,
       "version_minor": 0
      },
      "text/plain": [
       "  0%|          | 0/1 [00:00<?, ?it/s]"
      ]
     },
     "metadata": {},
     "output_type": "display_data"
    },
    {
     "name": "stdout",
     "output_type": "stream",
     "text": [
      "CONVIRTIENDO... INFORME 222 D:\\OneDrive - Ingenio Azucarero Guabira S.A\\_DATOS_PYTHON/_test//312.docx\n",
      "D:\\OneDrive - Ingenio Azucarero Guabira S.A\\_DATOS_PYTHON/_test//312.docx\n",
      "D:\\OneDrive - Ingenio Azucarero Guabira S.A\\_DATOS_PYTHON/_test//312.pdf\n"
     ]
    },
    {
     "data": {
      "application/vnd.jupyter.widget-view+json": {
       "model_id": "813270e73ffe44c1a86fd645fa8d0816",
       "version_major": 2,
       "version_minor": 0
      },
      "text/plain": [
       "  0%|          | 0/1 [00:00<?, ?it/s]"
      ]
     },
     "metadata": {},
     "output_type": "display_data"
    },
    {
     "name": "stdout",
     "output_type": "stream",
     "text": [
      "CONVIRTIENDO... INFORME 223 D:\\OneDrive - Ingenio Azucarero Guabira S.A\\_DATOS_PYTHON/_test//313.docx\n",
      "D:\\OneDrive - Ingenio Azucarero Guabira S.A\\_DATOS_PYTHON/_test//313.docx\n",
      "D:\\OneDrive - Ingenio Azucarero Guabira S.A\\_DATOS_PYTHON/_test//313.pdf\n"
     ]
    },
    {
     "data": {
      "application/vnd.jupyter.widget-view+json": {
       "model_id": "adadc18c75c44f97a12a6e5adfc7c0cd",
       "version_major": 2,
       "version_minor": 0
      },
      "text/plain": [
       "  0%|          | 0/1 [00:00<?, ?it/s]"
      ]
     },
     "metadata": {},
     "output_type": "display_data"
    },
    {
     "name": "stdout",
     "output_type": "stream",
     "text": [
      "CONVIRTIENDO... INFORME 224 D:\\OneDrive - Ingenio Azucarero Guabira S.A\\_DATOS_PYTHON/_test//314.docx\n",
      "D:\\OneDrive - Ingenio Azucarero Guabira S.A\\_DATOS_PYTHON/_test//314.docx\n",
      "D:\\OneDrive - Ingenio Azucarero Guabira S.A\\_DATOS_PYTHON/_test//314.pdf\n"
     ]
    },
    {
     "data": {
      "application/vnd.jupyter.widget-view+json": {
       "model_id": "4cb272f5b8aa4ce1b91c1179bcc0c7e3",
       "version_major": 2,
       "version_minor": 0
      },
      "text/plain": [
       "  0%|          | 0/1 [00:00<?, ?it/s]"
      ]
     },
     "metadata": {},
     "output_type": "display_data"
    },
    {
     "name": "stdout",
     "output_type": "stream",
     "text": [
      "CONVIRTIENDO... INFORME 225 D:\\OneDrive - Ingenio Azucarero Guabira S.A\\_DATOS_PYTHON/_test//315.docx\n",
      "D:\\OneDrive - Ingenio Azucarero Guabira S.A\\_DATOS_PYTHON/_test//315.docx\n",
      "D:\\OneDrive - Ingenio Azucarero Guabira S.A\\_DATOS_PYTHON/_test//315.pdf\n"
     ]
    },
    {
     "data": {
      "application/vnd.jupyter.widget-view+json": {
       "model_id": "7b980dc019dd49cbb4b685237ca34aa9",
       "version_major": 2,
       "version_minor": 0
      },
      "text/plain": [
       "  0%|          | 0/1 [00:00<?, ?it/s]"
      ]
     },
     "metadata": {},
     "output_type": "display_data"
    },
    {
     "name": "stdout",
     "output_type": "stream",
     "text": [
      "CONVIRTIENDO... INFORME 226 D:\\OneDrive - Ingenio Azucarero Guabira S.A\\_DATOS_PYTHON/_test//316.docx\n",
      "D:\\OneDrive - Ingenio Azucarero Guabira S.A\\_DATOS_PYTHON/_test//316.docx\n",
      "D:\\OneDrive - Ingenio Azucarero Guabira S.A\\_DATOS_PYTHON/_test//316.pdf\n"
     ]
    },
    {
     "data": {
      "application/vnd.jupyter.widget-view+json": {
       "model_id": "e1cacb219738418fa5bc1a192db1f55b",
       "version_major": 2,
       "version_minor": 0
      },
      "text/plain": [
       "  0%|          | 0/1 [00:00<?, ?it/s]"
      ]
     },
     "metadata": {},
     "output_type": "display_data"
    },
    {
     "name": "stdout",
     "output_type": "stream",
     "text": [
      "CONVIRTIENDO... INFORME 227 D:\\OneDrive - Ingenio Azucarero Guabira S.A\\_DATOS_PYTHON/_test//317.docx\n",
      "D:\\OneDrive - Ingenio Azucarero Guabira S.A\\_DATOS_PYTHON/_test//317.docx\n",
      "D:\\OneDrive - Ingenio Azucarero Guabira S.A\\_DATOS_PYTHON/_test//317.pdf\n"
     ]
    },
    {
     "data": {
      "application/vnd.jupyter.widget-view+json": {
       "model_id": "bea26cc5df2d496ead0cfb82a62b4b58",
       "version_major": 2,
       "version_minor": 0
      },
      "text/plain": [
       "  0%|          | 0/1 [00:00<?, ?it/s]"
      ]
     },
     "metadata": {},
     "output_type": "display_data"
    },
    {
     "name": "stdout",
     "output_type": "stream",
     "text": [
      "CONVIRTIENDO... INFORME 228 D:\\OneDrive - Ingenio Azucarero Guabira S.A\\_DATOS_PYTHON/_test//318.docx\n",
      "D:\\OneDrive - Ingenio Azucarero Guabira S.A\\_DATOS_PYTHON/_test//318.docx\n",
      "D:\\OneDrive - Ingenio Azucarero Guabira S.A\\_DATOS_PYTHON/_test//318.pdf\n"
     ]
    },
    {
     "data": {
      "application/vnd.jupyter.widget-view+json": {
       "model_id": "3d2deea4d41b42f392c7090c8fc24293",
       "version_major": 2,
       "version_minor": 0
      },
      "text/plain": [
       "  0%|          | 0/1 [00:00<?, ?it/s]"
      ]
     },
     "metadata": {},
     "output_type": "display_data"
    },
    {
     "name": "stdout",
     "output_type": "stream",
     "text": [
      "CONVIRTIENDO... INFORME 229 D:\\OneDrive - Ingenio Azucarero Guabira S.A\\_DATOS_PYTHON/_test//319.docx\n",
      "D:\\OneDrive - Ingenio Azucarero Guabira S.A\\_DATOS_PYTHON/_test//319.docx\n",
      "D:\\OneDrive - Ingenio Azucarero Guabira S.A\\_DATOS_PYTHON/_test//319.pdf\n"
     ]
    },
    {
     "data": {
      "application/vnd.jupyter.widget-view+json": {
       "model_id": "c09e26c06134420cb935c4702543b70c",
       "version_major": 2,
       "version_minor": 0
      },
      "text/plain": [
       "  0%|          | 0/1 [00:00<?, ?it/s]"
      ]
     },
     "metadata": {},
     "output_type": "display_data"
    },
    {
     "name": "stdout",
     "output_type": "stream",
     "text": [
      "CONVIRTIENDO... INFORME 230 D:\\OneDrive - Ingenio Azucarero Guabira S.A\\_DATOS_PYTHON/_test//32.docx\n",
      "D:\\OneDrive - Ingenio Azucarero Guabira S.A\\_DATOS_PYTHON/_test//32.docx\n",
      "D:\\OneDrive - Ingenio Azucarero Guabira S.A\\_DATOS_PYTHON/_test//32.pdf\n"
     ]
    },
    {
     "data": {
      "application/vnd.jupyter.widget-view+json": {
       "model_id": "51830a754e504e1ea1c05f674feb75d3",
       "version_major": 2,
       "version_minor": 0
      },
      "text/plain": [
       "  0%|          | 0/1 [00:00<?, ?it/s]"
      ]
     },
     "metadata": {},
     "output_type": "display_data"
    },
    {
     "name": "stdout",
     "output_type": "stream",
     "text": [
      "CONVIRTIENDO... INFORME 231 D:\\OneDrive - Ingenio Azucarero Guabira S.A\\_DATOS_PYTHON/_test//320.docx\n",
      "D:\\OneDrive - Ingenio Azucarero Guabira S.A\\_DATOS_PYTHON/_test//320.docx\n",
      "D:\\OneDrive - Ingenio Azucarero Guabira S.A\\_DATOS_PYTHON/_test//320.pdf\n"
     ]
    },
    {
     "data": {
      "application/vnd.jupyter.widget-view+json": {
       "model_id": "b9e0d2240b524858866861f42789d352",
       "version_major": 2,
       "version_minor": 0
      },
      "text/plain": [
       "  0%|          | 0/1 [00:00<?, ?it/s]"
      ]
     },
     "metadata": {},
     "output_type": "display_data"
    },
    {
     "name": "stdout",
     "output_type": "stream",
     "text": [
      "CONVIRTIENDO... INFORME 232 D:\\OneDrive - Ingenio Azucarero Guabira S.A\\_DATOS_PYTHON/_test//321.docx\n",
      "D:\\OneDrive - Ingenio Azucarero Guabira S.A\\_DATOS_PYTHON/_test//321.docx\n",
      "D:\\OneDrive - Ingenio Azucarero Guabira S.A\\_DATOS_PYTHON/_test//321.pdf\n"
     ]
    },
    {
     "data": {
      "application/vnd.jupyter.widget-view+json": {
       "model_id": "3d07212c1640438f8ecf1ef2a05bc391",
       "version_major": 2,
       "version_minor": 0
      },
      "text/plain": [
       "  0%|          | 0/1 [00:00<?, ?it/s]"
      ]
     },
     "metadata": {},
     "output_type": "display_data"
    },
    {
     "name": "stdout",
     "output_type": "stream",
     "text": [
      "CONVIRTIENDO... INFORME 233 D:\\OneDrive - Ingenio Azucarero Guabira S.A\\_DATOS_PYTHON/_test//322.docx\n",
      "D:\\OneDrive - Ingenio Azucarero Guabira S.A\\_DATOS_PYTHON/_test//322.docx\n",
      "D:\\OneDrive - Ingenio Azucarero Guabira S.A\\_DATOS_PYTHON/_test//322.pdf\n"
     ]
    },
    {
     "data": {
      "application/vnd.jupyter.widget-view+json": {
       "model_id": "2c60293e6ebd438696b9b11d5ae96e48",
       "version_major": 2,
       "version_minor": 0
      },
      "text/plain": [
       "  0%|          | 0/1 [00:00<?, ?it/s]"
      ]
     },
     "metadata": {},
     "output_type": "display_data"
    },
    {
     "name": "stdout",
     "output_type": "stream",
     "text": [
      "CONVIRTIENDO... INFORME 234 D:\\OneDrive - Ingenio Azucarero Guabira S.A\\_DATOS_PYTHON/_test//323.docx\n",
      "D:\\OneDrive - Ingenio Azucarero Guabira S.A\\_DATOS_PYTHON/_test//323.docx\n",
      "D:\\OneDrive - Ingenio Azucarero Guabira S.A\\_DATOS_PYTHON/_test//323.pdf\n"
     ]
    },
    {
     "data": {
      "application/vnd.jupyter.widget-view+json": {
       "model_id": "7c0a776cb3f84fda9cec2d18210f12f7",
       "version_major": 2,
       "version_minor": 0
      },
      "text/plain": [
       "  0%|          | 0/1 [00:00<?, ?it/s]"
      ]
     },
     "metadata": {},
     "output_type": "display_data"
    },
    {
     "name": "stdout",
     "output_type": "stream",
     "text": [
      "CONVIRTIENDO... INFORME 235 D:\\OneDrive - Ingenio Azucarero Guabira S.A\\_DATOS_PYTHON/_test//324.docx\n",
      "D:\\OneDrive - Ingenio Azucarero Guabira S.A\\_DATOS_PYTHON/_test//324.docx\n",
      "D:\\OneDrive - Ingenio Azucarero Guabira S.A\\_DATOS_PYTHON/_test//324.pdf\n"
     ]
    },
    {
     "data": {
      "application/vnd.jupyter.widget-view+json": {
       "model_id": "5f1fa765589c421889498897e2e88588",
       "version_major": 2,
       "version_minor": 0
      },
      "text/plain": [
       "  0%|          | 0/1 [00:00<?, ?it/s]"
      ]
     },
     "metadata": {},
     "output_type": "display_data"
    },
    {
     "name": "stdout",
     "output_type": "stream",
     "text": [
      "CONVIRTIENDO... INFORME 236 D:\\OneDrive - Ingenio Azucarero Guabira S.A\\_DATOS_PYTHON/_test//326.docx\n",
      "D:\\OneDrive - Ingenio Azucarero Guabira S.A\\_DATOS_PYTHON/_test//326.docx\n",
      "D:\\OneDrive - Ingenio Azucarero Guabira S.A\\_DATOS_PYTHON/_test//326.pdf\n"
     ]
    },
    {
     "data": {
      "application/vnd.jupyter.widget-view+json": {
       "model_id": "53e72086ebea487eb1b112c16c519d40",
       "version_major": 2,
       "version_minor": 0
      },
      "text/plain": [
       "  0%|          | 0/1 [00:00<?, ?it/s]"
      ]
     },
     "metadata": {},
     "output_type": "display_data"
    },
    {
     "name": "stdout",
     "output_type": "stream",
     "text": [
      "CONVIRTIENDO... INFORME 237 D:\\OneDrive - Ingenio Azucarero Guabira S.A\\_DATOS_PYTHON/_test//327.docx\n",
      "D:\\OneDrive - Ingenio Azucarero Guabira S.A\\_DATOS_PYTHON/_test//327.docx\n",
      "D:\\OneDrive - Ingenio Azucarero Guabira S.A\\_DATOS_PYTHON/_test//327.pdf\n"
     ]
    },
    {
     "data": {
      "application/vnd.jupyter.widget-view+json": {
       "model_id": "78e4bd4c9c7044c1bc53f64504ce6259",
       "version_major": 2,
       "version_minor": 0
      },
      "text/plain": [
       "  0%|          | 0/1 [00:00<?, ?it/s]"
      ]
     },
     "metadata": {},
     "output_type": "display_data"
    },
    {
     "name": "stdout",
     "output_type": "stream",
     "text": [
      "CONVIRTIENDO... INFORME 238 D:\\OneDrive - Ingenio Azucarero Guabira S.A\\_DATOS_PYTHON/_test//328.docx\n",
      "D:\\OneDrive - Ingenio Azucarero Guabira S.A\\_DATOS_PYTHON/_test//328.docx\n",
      "D:\\OneDrive - Ingenio Azucarero Guabira S.A\\_DATOS_PYTHON/_test//328.pdf\n"
     ]
    },
    {
     "data": {
      "application/vnd.jupyter.widget-view+json": {
       "model_id": "86945ea41bca4cda8af102d207feb1a1",
       "version_major": 2,
       "version_minor": 0
      },
      "text/plain": [
       "  0%|          | 0/1 [00:00<?, ?it/s]"
      ]
     },
     "metadata": {},
     "output_type": "display_data"
    },
    {
     "name": "stdout",
     "output_type": "stream",
     "text": [
      "CONVIRTIENDO... INFORME 239 D:\\OneDrive - Ingenio Azucarero Guabira S.A\\_DATOS_PYTHON/_test//329.docx\n",
      "D:\\OneDrive - Ingenio Azucarero Guabira S.A\\_DATOS_PYTHON/_test//329.docx\n",
      "D:\\OneDrive - Ingenio Azucarero Guabira S.A\\_DATOS_PYTHON/_test//329.pdf\n"
     ]
    },
    {
     "data": {
      "application/vnd.jupyter.widget-view+json": {
       "model_id": "b4d6891976dd47e889f471f403706cd3",
       "version_major": 2,
       "version_minor": 0
      },
      "text/plain": [
       "  0%|          | 0/1 [00:00<?, ?it/s]"
      ]
     },
     "metadata": {},
     "output_type": "display_data"
    },
    {
     "name": "stdout",
     "output_type": "stream",
     "text": [
      "CONVIRTIENDO... INFORME 240 D:\\OneDrive - Ingenio Azucarero Guabira S.A\\_DATOS_PYTHON/_test//33.docx\n",
      "D:\\OneDrive - Ingenio Azucarero Guabira S.A\\_DATOS_PYTHON/_test//33.docx\n",
      "D:\\OneDrive - Ingenio Azucarero Guabira S.A\\_DATOS_PYTHON/_test//33.pdf\n"
     ]
    },
    {
     "data": {
      "application/vnd.jupyter.widget-view+json": {
       "model_id": "c2b39e5aea074d4bb2b95d1181bc2190",
       "version_major": 2,
       "version_minor": 0
      },
      "text/plain": [
       "  0%|          | 0/1 [00:00<?, ?it/s]"
      ]
     },
     "metadata": {},
     "output_type": "display_data"
    },
    {
     "name": "stdout",
     "output_type": "stream",
     "text": [
      "CONVIRTIENDO... INFORME 241 D:\\OneDrive - Ingenio Azucarero Guabira S.A\\_DATOS_PYTHON/_test//330.docx\n",
      "D:\\OneDrive - Ingenio Azucarero Guabira S.A\\_DATOS_PYTHON/_test//330.docx\n",
      "D:\\OneDrive - Ingenio Azucarero Guabira S.A\\_DATOS_PYTHON/_test//330.pdf\n"
     ]
    },
    {
     "data": {
      "application/vnd.jupyter.widget-view+json": {
       "model_id": "e2fc70ce74a4484d85359abf11ec5c3f",
       "version_major": 2,
       "version_minor": 0
      },
      "text/plain": [
       "  0%|          | 0/1 [00:00<?, ?it/s]"
      ]
     },
     "metadata": {},
     "output_type": "display_data"
    },
    {
     "name": "stdout",
     "output_type": "stream",
     "text": [
      "CONVIRTIENDO... INFORME 242 D:\\OneDrive - Ingenio Azucarero Guabira S.A\\_DATOS_PYTHON/_test//331.docx\n",
      "D:\\OneDrive - Ingenio Azucarero Guabira S.A\\_DATOS_PYTHON/_test//331.docx\n",
      "D:\\OneDrive - Ingenio Azucarero Guabira S.A\\_DATOS_PYTHON/_test//331.pdf\n"
     ]
    },
    {
     "data": {
      "application/vnd.jupyter.widget-view+json": {
       "model_id": "a4c72d78ced64f5fa9aeb24ba1b3a057",
       "version_major": 2,
       "version_minor": 0
      },
      "text/plain": [
       "  0%|          | 0/1 [00:00<?, ?it/s]"
      ]
     },
     "metadata": {},
     "output_type": "display_data"
    },
    {
     "name": "stdout",
     "output_type": "stream",
     "text": [
      "CONVIRTIENDO... INFORME 243 D:\\OneDrive - Ingenio Azucarero Guabira S.A\\_DATOS_PYTHON/_test//332.docx\n",
      "D:\\OneDrive - Ingenio Azucarero Guabira S.A\\_DATOS_PYTHON/_test//332.docx\n",
      "D:\\OneDrive - Ingenio Azucarero Guabira S.A\\_DATOS_PYTHON/_test//332.pdf\n"
     ]
    },
    {
     "data": {
      "application/vnd.jupyter.widget-view+json": {
       "model_id": "f8ce28480088416885ce423aa4d9f1c1",
       "version_major": 2,
       "version_minor": 0
      },
      "text/plain": [
       "  0%|          | 0/1 [00:00<?, ?it/s]"
      ]
     },
     "metadata": {},
     "output_type": "display_data"
    },
    {
     "name": "stdout",
     "output_type": "stream",
     "text": [
      "CONVIRTIENDO... INFORME 244 D:\\OneDrive - Ingenio Azucarero Guabira S.A\\_DATOS_PYTHON/_test//335.docx\n",
      "D:\\OneDrive - Ingenio Azucarero Guabira S.A\\_DATOS_PYTHON/_test//335.docx\n",
      "D:\\OneDrive - Ingenio Azucarero Guabira S.A\\_DATOS_PYTHON/_test//335.pdf\n"
     ]
    },
    {
     "data": {
      "application/vnd.jupyter.widget-view+json": {
       "model_id": "481acaa2f50444a3b847598f2ef38401",
       "version_major": 2,
       "version_minor": 0
      },
      "text/plain": [
       "  0%|          | 0/1 [00:00<?, ?it/s]"
      ]
     },
     "metadata": {},
     "output_type": "display_data"
    },
    {
     "name": "stdout",
     "output_type": "stream",
     "text": [
      "CONVIRTIENDO... INFORME 245 D:\\OneDrive - Ingenio Azucarero Guabira S.A\\_DATOS_PYTHON/_test//336.docx\n",
      "D:\\OneDrive - Ingenio Azucarero Guabira S.A\\_DATOS_PYTHON/_test//336.docx\n",
      "D:\\OneDrive - Ingenio Azucarero Guabira S.A\\_DATOS_PYTHON/_test//336.pdf\n"
     ]
    },
    {
     "data": {
      "application/vnd.jupyter.widget-view+json": {
       "model_id": "3f0be6b60c2e4aa99ed2721662ee2e79",
       "version_major": 2,
       "version_minor": 0
      },
      "text/plain": [
       "  0%|          | 0/1 [00:00<?, ?it/s]"
      ]
     },
     "metadata": {},
     "output_type": "display_data"
    },
    {
     "name": "stdout",
     "output_type": "stream",
     "text": [
      "CONVIRTIENDO... INFORME 246 D:\\OneDrive - Ingenio Azucarero Guabira S.A\\_DATOS_PYTHON/_test//339.docx\n",
      "D:\\OneDrive - Ingenio Azucarero Guabira S.A\\_DATOS_PYTHON/_test//339.docx\n",
      "D:\\OneDrive - Ingenio Azucarero Guabira S.A\\_DATOS_PYTHON/_test//339.pdf\n"
     ]
    },
    {
     "data": {
      "application/vnd.jupyter.widget-view+json": {
       "model_id": "7f1241a1c41940f683e3aad2118fd534",
       "version_major": 2,
       "version_minor": 0
      },
      "text/plain": [
       "  0%|          | 0/1 [00:00<?, ?it/s]"
      ]
     },
     "metadata": {},
     "output_type": "display_data"
    },
    {
     "name": "stdout",
     "output_type": "stream",
     "text": [
      "CONVIRTIENDO... INFORME 247 D:\\OneDrive - Ingenio Azucarero Guabira S.A\\_DATOS_PYTHON/_test//34.docx\n",
      "D:\\OneDrive - Ingenio Azucarero Guabira S.A\\_DATOS_PYTHON/_test//34.docx\n",
      "D:\\OneDrive - Ingenio Azucarero Guabira S.A\\_DATOS_PYTHON/_test//34.pdf\n"
     ]
    },
    {
     "data": {
      "application/vnd.jupyter.widget-view+json": {
       "model_id": "8b36f63b6e394910ae3a31f8d0c36fdd",
       "version_major": 2,
       "version_minor": 0
      },
      "text/plain": [
       "  0%|          | 0/1 [00:00<?, ?it/s]"
      ]
     },
     "metadata": {},
     "output_type": "display_data"
    },
    {
     "name": "stdout",
     "output_type": "stream",
     "text": [
      "CONVIRTIENDO... INFORME 248 D:\\OneDrive - Ingenio Azucarero Guabira S.A\\_DATOS_PYTHON/_test//340.docx\n",
      "D:\\OneDrive - Ingenio Azucarero Guabira S.A\\_DATOS_PYTHON/_test//340.docx\n",
      "D:\\OneDrive - Ingenio Azucarero Guabira S.A\\_DATOS_PYTHON/_test//340.pdf\n"
     ]
    },
    {
     "data": {
      "application/vnd.jupyter.widget-view+json": {
       "model_id": "0c58a364743f4d98965091b6878ec1ab",
       "version_major": 2,
       "version_minor": 0
      },
      "text/plain": [
       "  0%|          | 0/1 [00:00<?, ?it/s]"
      ]
     },
     "metadata": {},
     "output_type": "display_data"
    },
    {
     "name": "stdout",
     "output_type": "stream",
     "text": [
      "CONVIRTIENDO... INFORME 249 D:\\OneDrive - Ingenio Azucarero Guabira S.A\\_DATOS_PYTHON/_test//342.docx\n",
      "D:\\OneDrive - Ingenio Azucarero Guabira S.A\\_DATOS_PYTHON/_test//342.docx\n",
      "D:\\OneDrive - Ingenio Azucarero Guabira S.A\\_DATOS_PYTHON/_test//342.pdf\n"
     ]
    },
    {
     "data": {
      "application/vnd.jupyter.widget-view+json": {
       "model_id": "cc7678b9ea064525b60f1b2f0ba1aa8b",
       "version_major": 2,
       "version_minor": 0
      },
      "text/plain": [
       "  0%|          | 0/1 [00:00<?, ?it/s]"
      ]
     },
     "metadata": {},
     "output_type": "display_data"
    },
    {
     "name": "stdout",
     "output_type": "stream",
     "text": [
      "CONVIRTIENDO... INFORME 250 D:\\OneDrive - Ingenio Azucarero Guabira S.A\\_DATOS_PYTHON/_test//343.docx\n",
      "D:\\OneDrive - Ingenio Azucarero Guabira S.A\\_DATOS_PYTHON/_test//343.docx\n",
      "D:\\OneDrive - Ingenio Azucarero Guabira S.A\\_DATOS_PYTHON/_test//343.pdf\n"
     ]
    },
    {
     "data": {
      "application/vnd.jupyter.widget-view+json": {
       "model_id": "7328ebb688a64ca39a57787e467647c4",
       "version_major": 2,
       "version_minor": 0
      },
      "text/plain": [
       "  0%|          | 0/1 [00:00<?, ?it/s]"
      ]
     },
     "metadata": {},
     "output_type": "display_data"
    },
    {
     "name": "stdout",
     "output_type": "stream",
     "text": [
      "CONVIRTIENDO... INFORME 251 D:\\OneDrive - Ingenio Azucarero Guabira S.A\\_DATOS_PYTHON/_test//344.docx\n",
      "D:\\OneDrive - Ingenio Azucarero Guabira S.A\\_DATOS_PYTHON/_test//344.docx\n",
      "D:\\OneDrive - Ingenio Azucarero Guabira S.A\\_DATOS_PYTHON/_test//344.pdf\n"
     ]
    },
    {
     "data": {
      "application/vnd.jupyter.widget-view+json": {
       "model_id": "110bdc2c30a04d91aff1d5e624114108",
       "version_major": 2,
       "version_minor": 0
      },
      "text/plain": [
       "  0%|          | 0/1 [00:00<?, ?it/s]"
      ]
     },
     "metadata": {},
     "output_type": "display_data"
    },
    {
     "name": "stdout",
     "output_type": "stream",
     "text": [
      "CONVIRTIENDO... INFORME 252 D:\\OneDrive - Ingenio Azucarero Guabira S.A\\_DATOS_PYTHON/_test//345.docx\n",
      "D:\\OneDrive - Ingenio Azucarero Guabira S.A\\_DATOS_PYTHON/_test//345.docx\n",
      "D:\\OneDrive - Ingenio Azucarero Guabira S.A\\_DATOS_PYTHON/_test//345.pdf\n"
     ]
    },
    {
     "data": {
      "application/vnd.jupyter.widget-view+json": {
       "model_id": "f3e35a8882cc45fcaf1c85d68fffd8bb",
       "version_major": 2,
       "version_minor": 0
      },
      "text/plain": [
       "  0%|          | 0/1 [00:00<?, ?it/s]"
      ]
     },
     "metadata": {},
     "output_type": "display_data"
    },
    {
     "name": "stdout",
     "output_type": "stream",
     "text": [
      "CONVIRTIENDO... INFORME 253 D:\\OneDrive - Ingenio Azucarero Guabira S.A\\_DATOS_PYTHON/_test//346.docx\n",
      "D:\\OneDrive - Ingenio Azucarero Guabira S.A\\_DATOS_PYTHON/_test//346.docx\n",
      "D:\\OneDrive - Ingenio Azucarero Guabira S.A\\_DATOS_PYTHON/_test//346.pdf\n"
     ]
    },
    {
     "data": {
      "application/vnd.jupyter.widget-view+json": {
       "model_id": "81aaefb2330449a8a27361e41f1b87cf",
       "version_major": 2,
       "version_minor": 0
      },
      "text/plain": [
       "  0%|          | 0/1 [00:00<?, ?it/s]"
      ]
     },
     "metadata": {},
     "output_type": "display_data"
    },
    {
     "name": "stdout",
     "output_type": "stream",
     "text": [
      "CONVIRTIENDO... INFORME 254 D:\\OneDrive - Ingenio Azucarero Guabira S.A\\_DATOS_PYTHON/_test//347.docx\n",
      "D:\\OneDrive - Ingenio Azucarero Guabira S.A\\_DATOS_PYTHON/_test//347.docx\n",
      "D:\\OneDrive - Ingenio Azucarero Guabira S.A\\_DATOS_PYTHON/_test//347.pdf\n"
     ]
    },
    {
     "data": {
      "application/vnd.jupyter.widget-view+json": {
       "model_id": "74d654a01db840f0810a963fc0449c82",
       "version_major": 2,
       "version_minor": 0
      },
      "text/plain": [
       "  0%|          | 0/1 [00:00<?, ?it/s]"
      ]
     },
     "metadata": {},
     "output_type": "display_data"
    },
    {
     "name": "stdout",
     "output_type": "stream",
     "text": [
      "CONVIRTIENDO... INFORME 255 D:\\OneDrive - Ingenio Azucarero Guabira S.A\\_DATOS_PYTHON/_test//348.docx\n",
      "D:\\OneDrive - Ingenio Azucarero Guabira S.A\\_DATOS_PYTHON/_test//348.docx\n",
      "D:\\OneDrive - Ingenio Azucarero Guabira S.A\\_DATOS_PYTHON/_test//348.pdf\n"
     ]
    },
    {
     "data": {
      "application/vnd.jupyter.widget-view+json": {
       "model_id": "0d0bf409849b42d0b9594467bd5db7e0",
       "version_major": 2,
       "version_minor": 0
      },
      "text/plain": [
       "  0%|          | 0/1 [00:00<?, ?it/s]"
      ]
     },
     "metadata": {},
     "output_type": "display_data"
    },
    {
     "name": "stdout",
     "output_type": "stream",
     "text": [
      "CONVIRTIENDO... INFORME 256 D:\\OneDrive - Ingenio Azucarero Guabira S.A\\_DATOS_PYTHON/_test//349.docx\n",
      "D:\\OneDrive - Ingenio Azucarero Guabira S.A\\_DATOS_PYTHON/_test//349.docx\n",
      "D:\\OneDrive - Ingenio Azucarero Guabira S.A\\_DATOS_PYTHON/_test//349.pdf\n"
     ]
    },
    {
     "data": {
      "application/vnd.jupyter.widget-view+json": {
       "model_id": "2aaddb78cc314beb85b40e82013b5270",
       "version_major": 2,
       "version_minor": 0
      },
      "text/plain": [
       "  0%|          | 0/1 [00:00<?, ?it/s]"
      ]
     },
     "metadata": {},
     "output_type": "display_data"
    },
    {
     "name": "stdout",
     "output_type": "stream",
     "text": [
      "CONVIRTIENDO... INFORME 257 D:\\OneDrive - Ingenio Azucarero Guabira S.A\\_DATOS_PYTHON/_test//35.docx\n",
      "D:\\OneDrive - Ingenio Azucarero Guabira S.A\\_DATOS_PYTHON/_test//35.docx\n",
      "D:\\OneDrive - Ingenio Azucarero Guabira S.A\\_DATOS_PYTHON/_test//35.pdf\n"
     ]
    },
    {
     "data": {
      "application/vnd.jupyter.widget-view+json": {
       "model_id": "a42e52a539354bdcb1d8184086d0d20f",
       "version_major": 2,
       "version_minor": 0
      },
      "text/plain": [
       "  0%|          | 0/1 [00:00<?, ?it/s]"
      ]
     },
     "metadata": {},
     "output_type": "display_data"
    },
    {
     "name": "stdout",
     "output_type": "stream",
     "text": [
      "CONVIRTIENDO... INFORME 258 D:\\OneDrive - Ingenio Azucarero Guabira S.A\\_DATOS_PYTHON/_test//350.docx\n",
      "D:\\OneDrive - Ingenio Azucarero Guabira S.A\\_DATOS_PYTHON/_test//350.docx\n",
      "D:\\OneDrive - Ingenio Azucarero Guabira S.A\\_DATOS_PYTHON/_test//350.pdf\n"
     ]
    },
    {
     "data": {
      "application/vnd.jupyter.widget-view+json": {
       "model_id": "e1ff9177caaf4359a29960c365cbc9e2",
       "version_major": 2,
       "version_minor": 0
      },
      "text/plain": [
       "  0%|          | 0/1 [00:00<?, ?it/s]"
      ]
     },
     "metadata": {},
     "output_type": "display_data"
    },
    {
     "name": "stdout",
     "output_type": "stream",
     "text": [
      "CONVIRTIENDO... INFORME 259 D:\\OneDrive - Ingenio Azucarero Guabira S.A\\_DATOS_PYTHON/_test//351.docx\n",
      "D:\\OneDrive - Ingenio Azucarero Guabira S.A\\_DATOS_PYTHON/_test//351.docx\n",
      "D:\\OneDrive - Ingenio Azucarero Guabira S.A\\_DATOS_PYTHON/_test//351.pdf\n"
     ]
    },
    {
     "data": {
      "application/vnd.jupyter.widget-view+json": {
       "model_id": "1e631432b5234fd9a82e2f8de90d14d9",
       "version_major": 2,
       "version_minor": 0
      },
      "text/plain": [
       "  0%|          | 0/1 [00:00<?, ?it/s]"
      ]
     },
     "metadata": {},
     "output_type": "display_data"
    },
    {
     "name": "stdout",
     "output_type": "stream",
     "text": [
      "CONVIRTIENDO... INFORME 260 D:\\OneDrive - Ingenio Azucarero Guabira S.A\\_DATOS_PYTHON/_test//352.docx\n",
      "D:\\OneDrive - Ingenio Azucarero Guabira S.A\\_DATOS_PYTHON/_test//352.docx\n",
      "D:\\OneDrive - Ingenio Azucarero Guabira S.A\\_DATOS_PYTHON/_test//352.pdf\n"
     ]
    },
    {
     "data": {
      "application/vnd.jupyter.widget-view+json": {
       "model_id": "4eb6757501a441958db72dd942641815",
       "version_major": 2,
       "version_minor": 0
      },
      "text/plain": [
       "  0%|          | 0/1 [00:00<?, ?it/s]"
      ]
     },
     "metadata": {},
     "output_type": "display_data"
    },
    {
     "name": "stdout",
     "output_type": "stream",
     "text": [
      "CONVIRTIENDO... INFORME 261 D:\\OneDrive - Ingenio Azucarero Guabira S.A\\_DATOS_PYTHON/_test//353.docx\n",
      "D:\\OneDrive - Ingenio Azucarero Guabira S.A\\_DATOS_PYTHON/_test//353.docx\n",
      "D:\\OneDrive - Ingenio Azucarero Guabira S.A\\_DATOS_PYTHON/_test//353.pdf\n"
     ]
    },
    {
     "data": {
      "application/vnd.jupyter.widget-view+json": {
       "model_id": "df6d6ba70eb2479d9d4da72f8399ea16",
       "version_major": 2,
       "version_minor": 0
      },
      "text/plain": [
       "  0%|          | 0/1 [00:00<?, ?it/s]"
      ]
     },
     "metadata": {},
     "output_type": "display_data"
    },
    {
     "name": "stdout",
     "output_type": "stream",
     "text": [
      "CONVIRTIENDO... INFORME 262 D:\\OneDrive - Ingenio Azucarero Guabira S.A\\_DATOS_PYTHON/_test//354.docx\n",
      "D:\\OneDrive - Ingenio Azucarero Guabira S.A\\_DATOS_PYTHON/_test//354.docx\n",
      "D:\\OneDrive - Ingenio Azucarero Guabira S.A\\_DATOS_PYTHON/_test//354.pdf\n"
     ]
    },
    {
     "data": {
      "application/vnd.jupyter.widget-view+json": {
       "model_id": "f25e46d6f2e245daafb1a63f464bacf7",
       "version_major": 2,
       "version_minor": 0
      },
      "text/plain": [
       "  0%|          | 0/1 [00:00<?, ?it/s]"
      ]
     },
     "metadata": {},
     "output_type": "display_data"
    },
    {
     "name": "stdout",
     "output_type": "stream",
     "text": [
      "CONVIRTIENDO... INFORME 263 D:\\OneDrive - Ingenio Azucarero Guabira S.A\\_DATOS_PYTHON/_test//355.docx\n",
      "D:\\OneDrive - Ingenio Azucarero Guabira S.A\\_DATOS_PYTHON/_test//355.docx\n",
      "D:\\OneDrive - Ingenio Azucarero Guabira S.A\\_DATOS_PYTHON/_test//355.pdf\n"
     ]
    },
    {
     "data": {
      "application/vnd.jupyter.widget-view+json": {
       "model_id": "8c8bd3f34b084176824d9f078a71c118",
       "version_major": 2,
       "version_minor": 0
      },
      "text/plain": [
       "  0%|          | 0/1 [00:00<?, ?it/s]"
      ]
     },
     "metadata": {},
     "output_type": "display_data"
    },
    {
     "name": "stdout",
     "output_type": "stream",
     "text": [
      "CONVIRTIENDO... INFORME 264 D:\\OneDrive - Ingenio Azucarero Guabira S.A\\_DATOS_PYTHON/_test//356.docx\n",
      "D:\\OneDrive - Ingenio Azucarero Guabira S.A\\_DATOS_PYTHON/_test//356.docx\n",
      "D:\\OneDrive - Ingenio Azucarero Guabira S.A\\_DATOS_PYTHON/_test//356.pdf\n"
     ]
    },
    {
     "data": {
      "application/vnd.jupyter.widget-view+json": {
       "model_id": "b9f5e1d866fe420a8d8750ded88b0edd",
       "version_major": 2,
       "version_minor": 0
      },
      "text/plain": [
       "  0%|          | 0/1 [00:00<?, ?it/s]"
      ]
     },
     "metadata": {},
     "output_type": "display_data"
    },
    {
     "name": "stdout",
     "output_type": "stream",
     "text": [
      "CONVIRTIENDO... INFORME 265 D:\\OneDrive - Ingenio Azucarero Guabira S.A\\_DATOS_PYTHON/_test//357.docx\n",
      "D:\\OneDrive - Ingenio Azucarero Guabira S.A\\_DATOS_PYTHON/_test//357.docx\n",
      "D:\\OneDrive - Ingenio Azucarero Guabira S.A\\_DATOS_PYTHON/_test//357.pdf\n"
     ]
    },
    {
     "data": {
      "application/vnd.jupyter.widget-view+json": {
       "model_id": "ba2765ecc74845e79ddd2dd8d47aeb97",
       "version_major": 2,
       "version_minor": 0
      },
      "text/plain": [
       "  0%|          | 0/1 [00:00<?, ?it/s]"
      ]
     },
     "metadata": {},
     "output_type": "display_data"
    },
    {
     "name": "stdout",
     "output_type": "stream",
     "text": [
      "CONVIRTIENDO... INFORME 266 D:\\OneDrive - Ingenio Azucarero Guabira S.A\\_DATOS_PYTHON/_test//358.docx\n",
      "D:\\OneDrive - Ingenio Azucarero Guabira S.A\\_DATOS_PYTHON/_test//358.docx\n",
      "D:\\OneDrive - Ingenio Azucarero Guabira S.A\\_DATOS_PYTHON/_test//358.pdf\n"
     ]
    },
    {
     "data": {
      "application/vnd.jupyter.widget-view+json": {
       "model_id": "4be92de854f249d0a9fb3c6bfc4b528c",
       "version_major": 2,
       "version_minor": 0
      },
      "text/plain": [
       "  0%|          | 0/1 [00:00<?, ?it/s]"
      ]
     },
     "metadata": {},
     "output_type": "display_data"
    },
    {
     "name": "stdout",
     "output_type": "stream",
     "text": [
      "CONVIRTIENDO... INFORME 267 D:\\OneDrive - Ingenio Azucarero Guabira S.A\\_DATOS_PYTHON/_test//359.docx\n",
      "D:\\OneDrive - Ingenio Azucarero Guabira S.A\\_DATOS_PYTHON/_test//359.docx\n",
      "D:\\OneDrive - Ingenio Azucarero Guabira S.A\\_DATOS_PYTHON/_test//359.pdf\n"
     ]
    },
    {
     "data": {
      "application/vnd.jupyter.widget-view+json": {
       "model_id": "482778acf11e482a937dd0e23fcb941f",
       "version_major": 2,
       "version_minor": 0
      },
      "text/plain": [
       "  0%|          | 0/1 [00:00<?, ?it/s]"
      ]
     },
     "metadata": {},
     "output_type": "display_data"
    },
    {
     "name": "stdout",
     "output_type": "stream",
     "text": [
      "CONVIRTIENDO... INFORME 268 D:\\OneDrive - Ingenio Azucarero Guabira S.A\\_DATOS_PYTHON/_test//36.docx\n",
      "D:\\OneDrive - Ingenio Azucarero Guabira S.A\\_DATOS_PYTHON/_test//36.docx\n",
      "D:\\OneDrive - Ingenio Azucarero Guabira S.A\\_DATOS_PYTHON/_test//36.pdf\n"
     ]
    },
    {
     "data": {
      "application/vnd.jupyter.widget-view+json": {
       "model_id": "0c160a27db754c56a723c224f4568eff",
       "version_major": 2,
       "version_minor": 0
      },
      "text/plain": [
       "  0%|          | 0/1 [00:00<?, ?it/s]"
      ]
     },
     "metadata": {},
     "output_type": "display_data"
    },
    {
     "name": "stdout",
     "output_type": "stream",
     "text": [
      "CONVIRTIENDO... INFORME 269 D:\\OneDrive - Ingenio Azucarero Guabira S.A\\_DATOS_PYTHON/_test//360.docx\n",
      "D:\\OneDrive - Ingenio Azucarero Guabira S.A\\_DATOS_PYTHON/_test//360.docx\n",
      "D:\\OneDrive - Ingenio Azucarero Guabira S.A\\_DATOS_PYTHON/_test//360.pdf\n"
     ]
    },
    {
     "data": {
      "application/vnd.jupyter.widget-view+json": {
       "model_id": "a2fc4dc519274138befdc09875104b55",
       "version_major": 2,
       "version_minor": 0
      },
      "text/plain": [
       "  0%|          | 0/1 [00:00<?, ?it/s]"
      ]
     },
     "metadata": {},
     "output_type": "display_data"
    },
    {
     "name": "stdout",
     "output_type": "stream",
     "text": [
      "CONVIRTIENDO... INFORME 270 D:\\OneDrive - Ingenio Azucarero Guabira S.A\\_DATOS_PYTHON/_test//361.docx\n",
      "D:\\OneDrive - Ingenio Azucarero Guabira S.A\\_DATOS_PYTHON/_test//361.docx\n",
      "D:\\OneDrive - Ingenio Azucarero Guabira S.A\\_DATOS_PYTHON/_test//361.pdf\n"
     ]
    },
    {
     "data": {
      "application/vnd.jupyter.widget-view+json": {
       "model_id": "49c0f961c968481d89bb8808e4e671a3",
       "version_major": 2,
       "version_minor": 0
      },
      "text/plain": [
       "  0%|          | 0/1 [00:00<?, ?it/s]"
      ]
     },
     "metadata": {},
     "output_type": "display_data"
    },
    {
     "name": "stdout",
     "output_type": "stream",
     "text": [
      "CONVIRTIENDO... INFORME 271 D:\\OneDrive - Ingenio Azucarero Guabira S.A\\_DATOS_PYTHON/_test//362.docx\n",
      "D:\\OneDrive - Ingenio Azucarero Guabira S.A\\_DATOS_PYTHON/_test//362.docx\n",
      "D:\\OneDrive - Ingenio Azucarero Guabira S.A\\_DATOS_PYTHON/_test//362.pdf\n"
     ]
    },
    {
     "data": {
      "application/vnd.jupyter.widget-view+json": {
       "model_id": "fa6b3562526345739b8c401e33053391",
       "version_major": 2,
       "version_minor": 0
      },
      "text/plain": [
       "  0%|          | 0/1 [00:00<?, ?it/s]"
      ]
     },
     "metadata": {},
     "output_type": "display_data"
    },
    {
     "name": "stdout",
     "output_type": "stream",
     "text": [
      "CONVIRTIENDO... INFORME 272 D:\\OneDrive - Ingenio Azucarero Guabira S.A\\_DATOS_PYTHON/_test//363.docx\n",
      "D:\\OneDrive - Ingenio Azucarero Guabira S.A\\_DATOS_PYTHON/_test//363.docx\n",
      "D:\\OneDrive - Ingenio Azucarero Guabira S.A\\_DATOS_PYTHON/_test//363.pdf\n"
     ]
    },
    {
     "data": {
      "application/vnd.jupyter.widget-view+json": {
       "model_id": "2a30d507ab954429b71addc49d4464fe",
       "version_major": 2,
       "version_minor": 0
      },
      "text/plain": [
       "  0%|          | 0/1 [00:00<?, ?it/s]"
      ]
     },
     "metadata": {},
     "output_type": "display_data"
    },
    {
     "name": "stdout",
     "output_type": "stream",
     "text": [
      "CONVIRTIENDO... INFORME 273 D:\\OneDrive - Ingenio Azucarero Guabira S.A\\_DATOS_PYTHON/_test//364.docx\n",
      "D:\\OneDrive - Ingenio Azucarero Guabira S.A\\_DATOS_PYTHON/_test//364.docx\n",
      "D:\\OneDrive - Ingenio Azucarero Guabira S.A\\_DATOS_PYTHON/_test//364.pdf\n"
     ]
    },
    {
     "data": {
      "application/vnd.jupyter.widget-view+json": {
       "model_id": "97ecd9d1fd4b449ba47c2ed78c7d4fc4",
       "version_major": 2,
       "version_minor": 0
      },
      "text/plain": [
       "  0%|          | 0/1 [00:00<?, ?it/s]"
      ]
     },
     "metadata": {},
     "output_type": "display_data"
    },
    {
     "name": "stdout",
     "output_type": "stream",
     "text": [
      "CONVIRTIENDO... INFORME 274 D:\\OneDrive - Ingenio Azucarero Guabira S.A\\_DATOS_PYTHON/_test//365.docx\n",
      "D:\\OneDrive - Ingenio Azucarero Guabira S.A\\_DATOS_PYTHON/_test//365.docx\n",
      "D:\\OneDrive - Ingenio Azucarero Guabira S.A\\_DATOS_PYTHON/_test//365.pdf\n"
     ]
    },
    {
     "data": {
      "application/vnd.jupyter.widget-view+json": {
       "model_id": "165634c4dc24423bab45323ca4df9152",
       "version_major": 2,
       "version_minor": 0
      },
      "text/plain": [
       "  0%|          | 0/1 [00:00<?, ?it/s]"
      ]
     },
     "metadata": {},
     "output_type": "display_data"
    },
    {
     "name": "stdout",
     "output_type": "stream",
     "text": [
      "CONVIRTIENDO... INFORME 275 D:\\OneDrive - Ingenio Azucarero Guabira S.A\\_DATOS_PYTHON/_test//366.docx\n",
      "D:\\OneDrive - Ingenio Azucarero Guabira S.A\\_DATOS_PYTHON/_test//366.docx\n",
      "D:\\OneDrive - Ingenio Azucarero Guabira S.A\\_DATOS_PYTHON/_test//366.pdf\n"
     ]
    },
    {
     "data": {
      "application/vnd.jupyter.widget-view+json": {
       "model_id": "313c869ea859402eb33d08efb5094895",
       "version_major": 2,
       "version_minor": 0
      },
      "text/plain": [
       "  0%|          | 0/1 [00:00<?, ?it/s]"
      ]
     },
     "metadata": {},
     "output_type": "display_data"
    },
    {
     "name": "stdout",
     "output_type": "stream",
     "text": [
      "CONVIRTIENDO... INFORME 276 D:\\OneDrive - Ingenio Azucarero Guabira S.A\\_DATOS_PYTHON/_test//367.docx\n",
      "D:\\OneDrive - Ingenio Azucarero Guabira S.A\\_DATOS_PYTHON/_test//367.docx\n",
      "D:\\OneDrive - Ingenio Azucarero Guabira S.A\\_DATOS_PYTHON/_test//367.pdf\n"
     ]
    },
    {
     "data": {
      "application/vnd.jupyter.widget-view+json": {
       "model_id": "e9e56ea4374a4befad559646220bf5ba",
       "version_major": 2,
       "version_minor": 0
      },
      "text/plain": [
       "  0%|          | 0/1 [00:00<?, ?it/s]"
      ]
     },
     "metadata": {},
     "output_type": "display_data"
    },
    {
     "name": "stdout",
     "output_type": "stream",
     "text": [
      "CONVIRTIENDO... INFORME 277 D:\\OneDrive - Ingenio Azucarero Guabira S.A\\_DATOS_PYTHON/_test//368.docx\n",
      "D:\\OneDrive - Ingenio Azucarero Guabira S.A\\_DATOS_PYTHON/_test//368.docx\n",
      "D:\\OneDrive - Ingenio Azucarero Guabira S.A\\_DATOS_PYTHON/_test//368.pdf\n"
     ]
    },
    {
     "data": {
      "application/vnd.jupyter.widget-view+json": {
       "model_id": "70f1b30c780f45c8b4d21519424050fa",
       "version_major": 2,
       "version_minor": 0
      },
      "text/plain": [
       "  0%|          | 0/1 [00:00<?, ?it/s]"
      ]
     },
     "metadata": {},
     "output_type": "display_data"
    },
    {
     "name": "stdout",
     "output_type": "stream",
     "text": [
      "CONVIRTIENDO... INFORME 278 D:\\OneDrive - Ingenio Azucarero Guabira S.A\\_DATOS_PYTHON/_test//369.docx\n",
      "D:\\OneDrive - Ingenio Azucarero Guabira S.A\\_DATOS_PYTHON/_test//369.docx\n",
      "D:\\OneDrive - Ingenio Azucarero Guabira S.A\\_DATOS_PYTHON/_test//369.pdf\n"
     ]
    },
    {
     "data": {
      "application/vnd.jupyter.widget-view+json": {
       "model_id": "c63f52f260fe48148c703edab029faff",
       "version_major": 2,
       "version_minor": 0
      },
      "text/plain": [
       "  0%|          | 0/1 [00:00<?, ?it/s]"
      ]
     },
     "metadata": {},
     "output_type": "display_data"
    },
    {
     "name": "stdout",
     "output_type": "stream",
     "text": [
      "CONVIRTIENDO... INFORME 279 D:\\OneDrive - Ingenio Azucarero Guabira S.A\\_DATOS_PYTHON/_test//37.docx\n",
      "D:\\OneDrive - Ingenio Azucarero Guabira S.A\\_DATOS_PYTHON/_test//37.docx\n",
      "D:\\OneDrive - Ingenio Azucarero Guabira S.A\\_DATOS_PYTHON/_test//37.pdf\n"
     ]
    },
    {
     "data": {
      "application/vnd.jupyter.widget-view+json": {
       "model_id": "fb68944d00af4c57af8a113b7d66ac0d",
       "version_major": 2,
       "version_minor": 0
      },
      "text/plain": [
       "  0%|          | 0/1 [00:00<?, ?it/s]"
      ]
     },
     "metadata": {},
     "output_type": "display_data"
    },
    {
     "name": "stdout",
     "output_type": "stream",
     "text": [
      "CONVIRTIENDO... INFORME 280 D:\\OneDrive - Ingenio Azucarero Guabira S.A\\_DATOS_PYTHON/_test//370.docx\n",
      "D:\\OneDrive - Ingenio Azucarero Guabira S.A\\_DATOS_PYTHON/_test//370.docx\n",
      "D:\\OneDrive - Ingenio Azucarero Guabira S.A\\_DATOS_PYTHON/_test//370.pdf\n"
     ]
    },
    {
     "data": {
      "application/vnd.jupyter.widget-view+json": {
       "model_id": "cf0fc98307904306be25d9849b024b3e",
       "version_major": 2,
       "version_minor": 0
      },
      "text/plain": [
       "  0%|          | 0/1 [00:00<?, ?it/s]"
      ]
     },
     "metadata": {},
     "output_type": "display_data"
    },
    {
     "name": "stdout",
     "output_type": "stream",
     "text": [
      "CONVIRTIENDO... INFORME 281 D:\\OneDrive - Ingenio Azucarero Guabira S.A\\_DATOS_PYTHON/_test//371.docx\n",
      "D:\\OneDrive - Ingenio Azucarero Guabira S.A\\_DATOS_PYTHON/_test//371.docx\n",
      "D:\\OneDrive - Ingenio Azucarero Guabira S.A\\_DATOS_PYTHON/_test//371.pdf\n"
     ]
    },
    {
     "data": {
      "application/vnd.jupyter.widget-view+json": {
       "model_id": "688641d554014c9d8d9aa8bbc5d2a452",
       "version_major": 2,
       "version_minor": 0
      },
      "text/plain": [
       "  0%|          | 0/1 [00:00<?, ?it/s]"
      ]
     },
     "metadata": {},
     "output_type": "display_data"
    },
    {
     "name": "stdout",
     "output_type": "stream",
     "text": [
      "CONVIRTIENDO... INFORME 282 D:\\OneDrive - Ingenio Azucarero Guabira S.A\\_DATOS_PYTHON/_test//372.docx\n",
      "D:\\OneDrive - Ingenio Azucarero Guabira S.A\\_DATOS_PYTHON/_test//372.docx\n",
      "D:\\OneDrive - Ingenio Azucarero Guabira S.A\\_DATOS_PYTHON/_test//372.pdf\n"
     ]
    },
    {
     "data": {
      "application/vnd.jupyter.widget-view+json": {
       "model_id": "21c123d2168446458c9627b8be38ffe5",
       "version_major": 2,
       "version_minor": 0
      },
      "text/plain": [
       "  0%|          | 0/1 [00:00<?, ?it/s]"
      ]
     },
     "metadata": {},
     "output_type": "display_data"
    },
    {
     "name": "stdout",
     "output_type": "stream",
     "text": [
      "CONVIRTIENDO... INFORME 283 D:\\OneDrive - Ingenio Azucarero Guabira S.A\\_DATOS_PYTHON/_test//373.docx\n",
      "D:\\OneDrive - Ingenio Azucarero Guabira S.A\\_DATOS_PYTHON/_test//373.docx\n",
      "D:\\OneDrive - Ingenio Azucarero Guabira S.A\\_DATOS_PYTHON/_test//373.pdf\n"
     ]
    },
    {
     "data": {
      "application/vnd.jupyter.widget-view+json": {
       "model_id": "44355e9591184354ba45d2d91666eef1",
       "version_major": 2,
       "version_minor": 0
      },
      "text/plain": [
       "  0%|          | 0/1 [00:00<?, ?it/s]"
      ]
     },
     "metadata": {},
     "output_type": "display_data"
    },
    {
     "name": "stdout",
     "output_type": "stream",
     "text": [
      "CONVIRTIENDO... INFORME 284 D:\\OneDrive - Ingenio Azucarero Guabira S.A\\_DATOS_PYTHON/_test//374.docx\n",
      "D:\\OneDrive - Ingenio Azucarero Guabira S.A\\_DATOS_PYTHON/_test//374.docx\n",
      "D:\\OneDrive - Ingenio Azucarero Guabira S.A\\_DATOS_PYTHON/_test//374.pdf\n"
     ]
    },
    {
     "data": {
      "application/vnd.jupyter.widget-view+json": {
       "model_id": "f2f9fcf7d5244f37a6a749d96b261bd7",
       "version_major": 2,
       "version_minor": 0
      },
      "text/plain": [
       "  0%|          | 0/1 [00:00<?, ?it/s]"
      ]
     },
     "metadata": {},
     "output_type": "display_data"
    },
    {
     "name": "stdout",
     "output_type": "stream",
     "text": [
      "CONVIRTIENDO... INFORME 285 D:\\OneDrive - Ingenio Azucarero Guabira S.A\\_DATOS_PYTHON/_test//375.docx\n",
      "D:\\OneDrive - Ingenio Azucarero Guabira S.A\\_DATOS_PYTHON/_test//375.docx\n",
      "D:\\OneDrive - Ingenio Azucarero Guabira S.A\\_DATOS_PYTHON/_test//375.pdf\n"
     ]
    },
    {
     "data": {
      "application/vnd.jupyter.widget-view+json": {
       "model_id": "c291f09d3af3474bb25ebb9d7a9e0eb5",
       "version_major": 2,
       "version_minor": 0
      },
      "text/plain": [
       "  0%|          | 0/1 [00:00<?, ?it/s]"
      ]
     },
     "metadata": {},
     "output_type": "display_data"
    },
    {
     "name": "stdout",
     "output_type": "stream",
     "text": [
      "CONVIRTIENDO... INFORME 286 D:\\OneDrive - Ingenio Azucarero Guabira S.A\\_DATOS_PYTHON/_test//376.docx\n",
      "D:\\OneDrive - Ingenio Azucarero Guabira S.A\\_DATOS_PYTHON/_test//376.docx\n",
      "D:\\OneDrive - Ingenio Azucarero Guabira S.A\\_DATOS_PYTHON/_test//376.pdf\n"
     ]
    },
    {
     "data": {
      "application/vnd.jupyter.widget-view+json": {
       "model_id": "b739d843c4df43e797beb296fca43af2",
       "version_major": 2,
       "version_minor": 0
      },
      "text/plain": [
       "  0%|          | 0/1 [00:00<?, ?it/s]"
      ]
     },
     "metadata": {},
     "output_type": "display_data"
    },
    {
     "name": "stdout",
     "output_type": "stream",
     "text": [
      "CONVIRTIENDO... INFORME 287 D:\\OneDrive - Ingenio Azucarero Guabira S.A\\_DATOS_PYTHON/_test//377.docx\n",
      "D:\\OneDrive - Ingenio Azucarero Guabira S.A\\_DATOS_PYTHON/_test//377.docx\n",
      "D:\\OneDrive - Ingenio Azucarero Guabira S.A\\_DATOS_PYTHON/_test//377.pdf\n"
     ]
    },
    {
     "data": {
      "application/vnd.jupyter.widget-view+json": {
       "model_id": "b8bef359e4dd4bfa870e7957c2f88852",
       "version_major": 2,
       "version_minor": 0
      },
      "text/plain": [
       "  0%|          | 0/1 [00:00<?, ?it/s]"
      ]
     },
     "metadata": {},
     "output_type": "display_data"
    },
    {
     "name": "stdout",
     "output_type": "stream",
     "text": [
      "CONVIRTIENDO... INFORME 288 D:\\OneDrive - Ingenio Azucarero Guabira S.A\\_DATOS_PYTHON/_test//38.docx\n",
      "D:\\OneDrive - Ingenio Azucarero Guabira S.A\\_DATOS_PYTHON/_test//38.docx\n",
      "D:\\OneDrive - Ingenio Azucarero Guabira S.A\\_DATOS_PYTHON/_test//38.pdf\n"
     ]
    },
    {
     "data": {
      "application/vnd.jupyter.widget-view+json": {
       "model_id": "341d08344fab44fb90e661d46d7a367a",
       "version_major": 2,
       "version_minor": 0
      },
      "text/plain": [
       "  0%|          | 0/1 [00:00<?, ?it/s]"
      ]
     },
     "metadata": {},
     "output_type": "display_data"
    },
    {
     "name": "stdout",
     "output_type": "stream",
     "text": [
      "CONVIRTIENDO... INFORME 289 D:\\OneDrive - Ingenio Azucarero Guabira S.A\\_DATOS_PYTHON/_test//380.docx\n",
      "D:\\OneDrive - Ingenio Azucarero Guabira S.A\\_DATOS_PYTHON/_test//380.docx\n",
      "D:\\OneDrive - Ingenio Azucarero Guabira S.A\\_DATOS_PYTHON/_test//380.pdf\n"
     ]
    },
    {
     "data": {
      "application/vnd.jupyter.widget-view+json": {
       "model_id": "b189d246071143eb922bc30da5d6c3bd",
       "version_major": 2,
       "version_minor": 0
      },
      "text/plain": [
       "  0%|          | 0/1 [00:00<?, ?it/s]"
      ]
     },
     "metadata": {},
     "output_type": "display_data"
    },
    {
     "name": "stdout",
     "output_type": "stream",
     "text": [
      "CONVIRTIENDO... INFORME 290 D:\\OneDrive - Ingenio Azucarero Guabira S.A\\_DATOS_PYTHON/_test//381.docx\n",
      "D:\\OneDrive - Ingenio Azucarero Guabira S.A\\_DATOS_PYTHON/_test//381.docx\n",
      "D:\\OneDrive - Ingenio Azucarero Guabira S.A\\_DATOS_PYTHON/_test//381.pdf\n"
     ]
    },
    {
     "data": {
      "application/vnd.jupyter.widget-view+json": {
       "model_id": "4408dd1f9e26425d967ac74401e6f3be",
       "version_major": 2,
       "version_minor": 0
      },
      "text/plain": [
       "  0%|          | 0/1 [00:00<?, ?it/s]"
      ]
     },
     "metadata": {},
     "output_type": "display_data"
    },
    {
     "name": "stdout",
     "output_type": "stream",
     "text": [
      "CONVIRTIENDO... INFORME 291 D:\\OneDrive - Ingenio Azucarero Guabira S.A\\_DATOS_PYTHON/_test//382.docx\n",
      "D:\\OneDrive - Ingenio Azucarero Guabira S.A\\_DATOS_PYTHON/_test//382.docx\n",
      "D:\\OneDrive - Ingenio Azucarero Guabira S.A\\_DATOS_PYTHON/_test//382.pdf\n"
     ]
    },
    {
     "data": {
      "application/vnd.jupyter.widget-view+json": {
       "model_id": "c98b0efeb12b4509925eb492e1eeaa25",
       "version_major": 2,
       "version_minor": 0
      },
      "text/plain": [
       "  0%|          | 0/1 [00:00<?, ?it/s]"
      ]
     },
     "metadata": {},
     "output_type": "display_data"
    },
    {
     "name": "stdout",
     "output_type": "stream",
     "text": [
      "CONVIRTIENDO... INFORME 292 D:\\OneDrive - Ingenio Azucarero Guabira S.A\\_DATOS_PYTHON/_test//383.docx\n",
      "D:\\OneDrive - Ingenio Azucarero Guabira S.A\\_DATOS_PYTHON/_test//383.docx\n",
      "D:\\OneDrive - Ingenio Azucarero Guabira S.A\\_DATOS_PYTHON/_test//383.pdf\n"
     ]
    },
    {
     "data": {
      "application/vnd.jupyter.widget-view+json": {
       "model_id": "58ef7b7822774693b93ea3b50ec38424",
       "version_major": 2,
       "version_minor": 0
      },
      "text/plain": [
       "  0%|          | 0/1 [00:00<?, ?it/s]"
      ]
     },
     "metadata": {},
     "output_type": "display_data"
    },
    {
     "name": "stdout",
     "output_type": "stream",
     "text": [
      "CONVIRTIENDO... INFORME 293 D:\\OneDrive - Ingenio Azucarero Guabira S.A\\_DATOS_PYTHON/_test//385.docx\n",
      "D:\\OneDrive - Ingenio Azucarero Guabira S.A\\_DATOS_PYTHON/_test//385.docx\n",
      "D:\\OneDrive - Ingenio Azucarero Guabira S.A\\_DATOS_PYTHON/_test//385.pdf\n"
     ]
    },
    {
     "data": {
      "application/vnd.jupyter.widget-view+json": {
       "model_id": "a7225806e5c1452ca1526b495d0b156b",
       "version_major": 2,
       "version_minor": 0
      },
      "text/plain": [
       "  0%|          | 0/1 [00:00<?, ?it/s]"
      ]
     },
     "metadata": {},
     "output_type": "display_data"
    },
    {
     "name": "stdout",
     "output_type": "stream",
     "text": [
      "CONVIRTIENDO... INFORME 294 D:\\OneDrive - Ingenio Azucarero Guabira S.A\\_DATOS_PYTHON/_test//386.docx\n",
      "D:\\OneDrive - Ingenio Azucarero Guabira S.A\\_DATOS_PYTHON/_test//386.docx\n",
      "D:\\OneDrive - Ingenio Azucarero Guabira S.A\\_DATOS_PYTHON/_test//386.pdf\n"
     ]
    },
    {
     "data": {
      "application/vnd.jupyter.widget-view+json": {
       "model_id": "b9005646168d418e943ad80fd91c2ece",
       "version_major": 2,
       "version_minor": 0
      },
      "text/plain": [
       "  0%|          | 0/1 [00:00<?, ?it/s]"
      ]
     },
     "metadata": {},
     "output_type": "display_data"
    },
    {
     "name": "stdout",
     "output_type": "stream",
     "text": [
      "CONVIRTIENDO... INFORME 295 D:\\OneDrive - Ingenio Azucarero Guabira S.A\\_DATOS_PYTHON/_test//387.docx\n",
      "D:\\OneDrive - Ingenio Azucarero Guabira S.A\\_DATOS_PYTHON/_test//387.docx\n",
      "D:\\OneDrive - Ingenio Azucarero Guabira S.A\\_DATOS_PYTHON/_test//387.pdf\n"
     ]
    },
    {
     "data": {
      "application/vnd.jupyter.widget-view+json": {
       "model_id": "72b08856bb4049488dd0398793de9430",
       "version_major": 2,
       "version_minor": 0
      },
      "text/plain": [
       "  0%|          | 0/1 [00:00<?, ?it/s]"
      ]
     },
     "metadata": {},
     "output_type": "display_data"
    },
    {
     "name": "stdout",
     "output_type": "stream",
     "text": [
      "CONVIRTIENDO... INFORME 296 D:\\OneDrive - Ingenio Azucarero Guabira S.A\\_DATOS_PYTHON/_test//388.docx\n",
      "D:\\OneDrive - Ingenio Azucarero Guabira S.A\\_DATOS_PYTHON/_test//388.docx\n",
      "D:\\OneDrive - Ingenio Azucarero Guabira S.A\\_DATOS_PYTHON/_test//388.pdf\n"
     ]
    },
    {
     "data": {
      "application/vnd.jupyter.widget-view+json": {
       "model_id": "de03c1e618154bacb1485764f6804e9c",
       "version_major": 2,
       "version_minor": 0
      },
      "text/plain": [
       "  0%|          | 0/1 [00:00<?, ?it/s]"
      ]
     },
     "metadata": {},
     "output_type": "display_data"
    },
    {
     "name": "stdout",
     "output_type": "stream",
     "text": [
      "CONVIRTIENDO... INFORME 297 D:\\OneDrive - Ingenio Azucarero Guabira S.A\\_DATOS_PYTHON/_test//389.docx\n",
      "D:\\OneDrive - Ingenio Azucarero Guabira S.A\\_DATOS_PYTHON/_test//389.docx\n",
      "D:\\OneDrive - Ingenio Azucarero Guabira S.A\\_DATOS_PYTHON/_test//389.pdf\n"
     ]
    },
    {
     "data": {
      "application/vnd.jupyter.widget-view+json": {
       "model_id": "434d22dc3881435d9834e1e325db5703",
       "version_major": 2,
       "version_minor": 0
      },
      "text/plain": [
       "  0%|          | 0/1 [00:00<?, ?it/s]"
      ]
     },
     "metadata": {},
     "output_type": "display_data"
    },
    {
     "name": "stdout",
     "output_type": "stream",
     "text": [
      "CONVIRTIENDO... INFORME 298 D:\\OneDrive - Ingenio Azucarero Guabira S.A\\_DATOS_PYTHON/_test//39.docx\n",
      "D:\\OneDrive - Ingenio Azucarero Guabira S.A\\_DATOS_PYTHON/_test//39.docx\n",
      "D:\\OneDrive - Ingenio Azucarero Guabira S.A\\_DATOS_PYTHON/_test//39.pdf\n"
     ]
    },
    {
     "data": {
      "application/vnd.jupyter.widget-view+json": {
       "model_id": "eb32a00f61634e5eae3c1bdd983c4357",
       "version_major": 2,
       "version_minor": 0
      },
      "text/plain": [
       "  0%|          | 0/1 [00:00<?, ?it/s]"
      ]
     },
     "metadata": {},
     "output_type": "display_data"
    },
    {
     "name": "stdout",
     "output_type": "stream",
     "text": [
      "CONVIRTIENDO... INFORME 299 D:\\OneDrive - Ingenio Azucarero Guabira S.A\\_DATOS_PYTHON/_test//390.docx\n",
      "D:\\OneDrive - Ingenio Azucarero Guabira S.A\\_DATOS_PYTHON/_test//390.docx\n",
      "D:\\OneDrive - Ingenio Azucarero Guabira S.A\\_DATOS_PYTHON/_test//390.pdf\n"
     ]
    },
    {
     "data": {
      "application/vnd.jupyter.widget-view+json": {
       "model_id": "499bebb1ccfe48cd943b8aa4a7b31819",
       "version_major": 2,
       "version_minor": 0
      },
      "text/plain": [
       "  0%|          | 0/1 [00:00<?, ?it/s]"
      ]
     },
     "metadata": {},
     "output_type": "display_data"
    },
    {
     "name": "stdout",
     "output_type": "stream",
     "text": [
      "CONVIRTIENDO... INFORME 300 D:\\OneDrive - Ingenio Azucarero Guabira S.A\\_DATOS_PYTHON/_test//391.docx\n",
      "D:\\OneDrive - Ingenio Azucarero Guabira S.A\\_DATOS_PYTHON/_test//391.docx\n",
      "D:\\OneDrive - Ingenio Azucarero Guabira S.A\\_DATOS_PYTHON/_test//391.pdf\n"
     ]
    },
    {
     "data": {
      "application/vnd.jupyter.widget-view+json": {
       "model_id": "d64ffef3b94245a09860b946c2439dc1",
       "version_major": 2,
       "version_minor": 0
      },
      "text/plain": [
       "  0%|          | 0/1 [00:00<?, ?it/s]"
      ]
     },
     "metadata": {},
     "output_type": "display_data"
    },
    {
     "name": "stdout",
     "output_type": "stream",
     "text": [
      "CONVIRTIENDO... INFORME 301 D:\\OneDrive - Ingenio Azucarero Guabira S.A\\_DATOS_PYTHON/_test//392.docx\n",
      "D:\\OneDrive - Ingenio Azucarero Guabira S.A\\_DATOS_PYTHON/_test//392.docx\n",
      "D:\\OneDrive - Ingenio Azucarero Guabira S.A\\_DATOS_PYTHON/_test//392.pdf\n"
     ]
    },
    {
     "data": {
      "application/vnd.jupyter.widget-view+json": {
       "model_id": "d86257e58a92442fbace88e750f1f8e9",
       "version_major": 2,
       "version_minor": 0
      },
      "text/plain": [
       "  0%|          | 0/1 [00:00<?, ?it/s]"
      ]
     },
     "metadata": {},
     "output_type": "display_data"
    },
    {
     "name": "stdout",
     "output_type": "stream",
     "text": [
      "CONVIRTIENDO... INFORME 302 D:\\OneDrive - Ingenio Azucarero Guabira S.A\\_DATOS_PYTHON/_test//393.docx\n",
      "D:\\OneDrive - Ingenio Azucarero Guabira S.A\\_DATOS_PYTHON/_test//393.docx\n",
      "D:\\OneDrive - Ingenio Azucarero Guabira S.A\\_DATOS_PYTHON/_test//393.pdf\n"
     ]
    },
    {
     "data": {
      "application/vnd.jupyter.widget-view+json": {
       "model_id": "5a19abdccabb4e36abd1d45e60a51226",
       "version_major": 2,
       "version_minor": 0
      },
      "text/plain": [
       "  0%|          | 0/1 [00:00<?, ?it/s]"
      ]
     },
     "metadata": {},
     "output_type": "display_data"
    },
    {
     "name": "stdout",
     "output_type": "stream",
     "text": [
      "CONVIRTIENDO... INFORME 303 D:\\OneDrive - Ingenio Azucarero Guabira S.A\\_DATOS_PYTHON/_test//394.docx\n",
      "D:\\OneDrive - Ingenio Azucarero Guabira S.A\\_DATOS_PYTHON/_test//394.docx\n",
      "D:\\OneDrive - Ingenio Azucarero Guabira S.A\\_DATOS_PYTHON/_test//394.pdf\n"
     ]
    },
    {
     "data": {
      "application/vnd.jupyter.widget-view+json": {
       "model_id": "6377094daa204a8b842944022ba41a3c",
       "version_major": 2,
       "version_minor": 0
      },
      "text/plain": [
       "  0%|          | 0/1 [00:00<?, ?it/s]"
      ]
     },
     "metadata": {},
     "output_type": "display_data"
    },
    {
     "name": "stdout",
     "output_type": "stream",
     "text": [
      "CONVIRTIENDO... INFORME 304 D:\\OneDrive - Ingenio Azucarero Guabira S.A\\_DATOS_PYTHON/_test//395.docx\n",
      "D:\\OneDrive - Ingenio Azucarero Guabira S.A\\_DATOS_PYTHON/_test//395.docx\n",
      "D:\\OneDrive - Ingenio Azucarero Guabira S.A\\_DATOS_PYTHON/_test//395.pdf\n"
     ]
    },
    {
     "data": {
      "application/vnd.jupyter.widget-view+json": {
       "model_id": "1da372f9a2eb470c9a5ac8cdbfb29d6c",
       "version_major": 2,
       "version_minor": 0
      },
      "text/plain": [
       "  0%|          | 0/1 [00:00<?, ?it/s]"
      ]
     },
     "metadata": {},
     "output_type": "display_data"
    },
    {
     "name": "stdout",
     "output_type": "stream",
     "text": [
      "CONVIRTIENDO... INFORME 305 D:\\OneDrive - Ingenio Azucarero Guabira S.A\\_DATOS_PYTHON/_test//396.docx\n",
      "D:\\OneDrive - Ingenio Azucarero Guabira S.A\\_DATOS_PYTHON/_test//396.docx\n",
      "D:\\OneDrive - Ingenio Azucarero Guabira S.A\\_DATOS_PYTHON/_test//396.pdf\n"
     ]
    },
    {
     "data": {
      "application/vnd.jupyter.widget-view+json": {
       "model_id": "43dd63cae93b443e9d3775b650f53e78",
       "version_major": 2,
       "version_minor": 0
      },
      "text/plain": [
       "  0%|          | 0/1 [00:00<?, ?it/s]"
      ]
     },
     "metadata": {},
     "output_type": "display_data"
    },
    {
     "name": "stdout",
     "output_type": "stream",
     "text": [
      "CONVIRTIENDO... INFORME 306 D:\\OneDrive - Ingenio Azucarero Guabira S.A\\_DATOS_PYTHON/_test//397.docx\n",
      "D:\\OneDrive - Ingenio Azucarero Guabira S.A\\_DATOS_PYTHON/_test//397.docx\n",
      "D:\\OneDrive - Ingenio Azucarero Guabira S.A\\_DATOS_PYTHON/_test//397.pdf\n"
     ]
    },
    {
     "data": {
      "application/vnd.jupyter.widget-view+json": {
       "model_id": "635c621be14f4580a4f42540f060b461",
       "version_major": 2,
       "version_minor": 0
      },
      "text/plain": [
       "  0%|          | 0/1 [00:00<?, ?it/s]"
      ]
     },
     "metadata": {},
     "output_type": "display_data"
    },
    {
     "name": "stdout",
     "output_type": "stream",
     "text": [
      "CONVIRTIENDO... INFORME 307 D:\\OneDrive - Ingenio Azucarero Guabira S.A\\_DATOS_PYTHON/_test//398.docx\n",
      "D:\\OneDrive - Ingenio Azucarero Guabira S.A\\_DATOS_PYTHON/_test//398.docx\n",
      "D:\\OneDrive - Ingenio Azucarero Guabira S.A\\_DATOS_PYTHON/_test//398.pdf\n"
     ]
    },
    {
     "data": {
      "application/vnd.jupyter.widget-view+json": {
       "model_id": "4034256b250549f48e6a0df5b0a203a6",
       "version_major": 2,
       "version_minor": 0
      },
      "text/plain": [
       "  0%|          | 0/1 [00:00<?, ?it/s]"
      ]
     },
     "metadata": {},
     "output_type": "display_data"
    },
    {
     "name": "stdout",
     "output_type": "stream",
     "text": [
      "CONVIRTIENDO... INFORME 308 D:\\OneDrive - Ingenio Azucarero Guabira S.A\\_DATOS_PYTHON/_test//399.docx\n",
      "D:\\OneDrive - Ingenio Azucarero Guabira S.A\\_DATOS_PYTHON/_test//399.docx\n",
      "D:\\OneDrive - Ingenio Azucarero Guabira S.A\\_DATOS_PYTHON/_test//399.pdf\n"
     ]
    },
    {
     "data": {
      "application/vnd.jupyter.widget-view+json": {
       "model_id": "2e0338045959425fb7ce119931485bd9",
       "version_major": 2,
       "version_minor": 0
      },
      "text/plain": [
       "  0%|          | 0/1 [00:00<?, ?it/s]"
      ]
     },
     "metadata": {},
     "output_type": "display_data"
    },
    {
     "name": "stdout",
     "output_type": "stream",
     "text": [
      "CONVIRTIENDO... INFORME 309 D:\\OneDrive - Ingenio Azucarero Guabira S.A\\_DATOS_PYTHON/_test//4.docx\n",
      "D:\\OneDrive - Ingenio Azucarero Guabira S.A\\_DATOS_PYTHON/_test//4.docx\n",
      "D:\\OneDrive - Ingenio Azucarero Guabira S.A\\_DATOS_PYTHON/_test//4.pdf\n"
     ]
    },
    {
     "data": {
      "application/vnd.jupyter.widget-view+json": {
       "model_id": "46ef7dc23a4745e7ad222a068c412e6d",
       "version_major": 2,
       "version_minor": 0
      },
      "text/plain": [
       "  0%|          | 0/1 [00:00<?, ?it/s]"
      ]
     },
     "metadata": {},
     "output_type": "display_data"
    },
    {
     "name": "stdout",
     "output_type": "stream",
     "text": [
      "CONVIRTIENDO... INFORME 310 D:\\OneDrive - Ingenio Azucarero Guabira S.A\\_DATOS_PYTHON/_test//40.docx\n",
      "D:\\OneDrive - Ingenio Azucarero Guabira S.A\\_DATOS_PYTHON/_test//40.docx\n",
      "D:\\OneDrive - Ingenio Azucarero Guabira S.A\\_DATOS_PYTHON/_test//40.pdf\n"
     ]
    },
    {
     "data": {
      "application/vnd.jupyter.widget-view+json": {
       "model_id": "ff879bb9bafd4c0f8455b5524d4f410b",
       "version_major": 2,
       "version_minor": 0
      },
      "text/plain": [
       "  0%|          | 0/1 [00:00<?, ?it/s]"
      ]
     },
     "metadata": {},
     "output_type": "display_data"
    },
    {
     "name": "stdout",
     "output_type": "stream",
     "text": [
      "CONVIRTIENDO... INFORME 311 D:\\OneDrive - Ingenio Azucarero Guabira S.A\\_DATOS_PYTHON/_test//400.docx\n",
      "D:\\OneDrive - Ingenio Azucarero Guabira S.A\\_DATOS_PYTHON/_test//400.docx\n",
      "D:\\OneDrive - Ingenio Azucarero Guabira S.A\\_DATOS_PYTHON/_test//400.pdf\n"
     ]
    },
    {
     "data": {
      "application/vnd.jupyter.widget-view+json": {
       "model_id": "f347d65c142442d297fc166a3ca58706",
       "version_major": 2,
       "version_minor": 0
      },
      "text/plain": [
       "  0%|          | 0/1 [00:00<?, ?it/s]"
      ]
     },
     "metadata": {},
     "output_type": "display_data"
    },
    {
     "name": "stdout",
     "output_type": "stream",
     "text": [
      "CONVIRTIENDO... INFORME 312 D:\\OneDrive - Ingenio Azucarero Guabira S.A\\_DATOS_PYTHON/_test//401.docx\n",
      "D:\\OneDrive - Ingenio Azucarero Guabira S.A\\_DATOS_PYTHON/_test//401.docx\n",
      "D:\\OneDrive - Ingenio Azucarero Guabira S.A\\_DATOS_PYTHON/_test//401.pdf\n"
     ]
    },
    {
     "data": {
      "application/vnd.jupyter.widget-view+json": {
       "model_id": "ddc8da01d6bc429484a0438e9c3f963f",
       "version_major": 2,
       "version_minor": 0
      },
      "text/plain": [
       "  0%|          | 0/1 [00:00<?, ?it/s]"
      ]
     },
     "metadata": {},
     "output_type": "display_data"
    },
    {
     "name": "stdout",
     "output_type": "stream",
     "text": [
      "CONVIRTIENDO... INFORME 313 D:\\OneDrive - Ingenio Azucarero Guabira S.A\\_DATOS_PYTHON/_test//402.docx\n",
      "D:\\OneDrive - Ingenio Azucarero Guabira S.A\\_DATOS_PYTHON/_test//402.docx\n",
      "D:\\OneDrive - Ingenio Azucarero Guabira S.A\\_DATOS_PYTHON/_test//402.pdf\n"
     ]
    },
    {
     "data": {
      "application/vnd.jupyter.widget-view+json": {
       "model_id": "ba218ad6934848b1bee852372f2819ea",
       "version_major": 2,
       "version_minor": 0
      },
      "text/plain": [
       "  0%|          | 0/1 [00:00<?, ?it/s]"
      ]
     },
     "metadata": {},
     "output_type": "display_data"
    },
    {
     "name": "stdout",
     "output_type": "stream",
     "text": [
      "CONVIRTIENDO... INFORME 314 D:\\OneDrive - Ingenio Azucarero Guabira S.A\\_DATOS_PYTHON/_test//403.docx\n",
      "D:\\OneDrive - Ingenio Azucarero Guabira S.A\\_DATOS_PYTHON/_test//403.docx\n",
      "D:\\OneDrive - Ingenio Azucarero Guabira S.A\\_DATOS_PYTHON/_test//403.pdf\n"
     ]
    },
    {
     "data": {
      "application/vnd.jupyter.widget-view+json": {
       "model_id": "1185e941bc7a4adb95a957fa775cf303",
       "version_major": 2,
       "version_minor": 0
      },
      "text/plain": [
       "  0%|          | 0/1 [00:00<?, ?it/s]"
      ]
     },
     "metadata": {},
     "output_type": "display_data"
    },
    {
     "name": "stdout",
     "output_type": "stream",
     "text": [
      "CONVIRTIENDO... INFORME 315 D:\\OneDrive - Ingenio Azucarero Guabira S.A\\_DATOS_PYTHON/_test//404.docx\n",
      "D:\\OneDrive - Ingenio Azucarero Guabira S.A\\_DATOS_PYTHON/_test//404.docx\n",
      "D:\\OneDrive - Ingenio Azucarero Guabira S.A\\_DATOS_PYTHON/_test//404.pdf\n"
     ]
    },
    {
     "data": {
      "application/vnd.jupyter.widget-view+json": {
       "model_id": "22e082f39a6940ed9507d8398abca74f",
       "version_major": 2,
       "version_minor": 0
      },
      "text/plain": [
       "  0%|          | 0/1 [00:00<?, ?it/s]"
      ]
     },
     "metadata": {},
     "output_type": "display_data"
    },
    {
     "name": "stdout",
     "output_type": "stream",
     "text": [
      "CONVIRTIENDO... INFORME 316 D:\\OneDrive - Ingenio Azucarero Guabira S.A\\_DATOS_PYTHON/_test//405.docx\n",
      "D:\\OneDrive - Ingenio Azucarero Guabira S.A\\_DATOS_PYTHON/_test//405.docx\n",
      "D:\\OneDrive - Ingenio Azucarero Guabira S.A\\_DATOS_PYTHON/_test//405.pdf\n"
     ]
    },
    {
     "data": {
      "application/vnd.jupyter.widget-view+json": {
       "model_id": "368508ed02e94e71a83ab52e6c159a73",
       "version_major": 2,
       "version_minor": 0
      },
      "text/plain": [
       "  0%|          | 0/1 [00:00<?, ?it/s]"
      ]
     },
     "metadata": {},
     "output_type": "display_data"
    },
    {
     "name": "stdout",
     "output_type": "stream",
     "text": [
      "CONVIRTIENDO... INFORME 317 D:\\OneDrive - Ingenio Azucarero Guabira S.A\\_DATOS_PYTHON/_test//406.docx\n",
      "D:\\OneDrive - Ingenio Azucarero Guabira S.A\\_DATOS_PYTHON/_test//406.docx\n",
      "D:\\OneDrive - Ingenio Azucarero Guabira S.A\\_DATOS_PYTHON/_test//406.pdf\n"
     ]
    },
    {
     "data": {
      "application/vnd.jupyter.widget-view+json": {
       "model_id": "95a1a5965e874aabbb7648949d369d6b",
       "version_major": 2,
       "version_minor": 0
      },
      "text/plain": [
       "  0%|          | 0/1 [00:00<?, ?it/s]"
      ]
     },
     "metadata": {},
     "output_type": "display_data"
    },
    {
     "name": "stdout",
     "output_type": "stream",
     "text": [
      "CONVIRTIENDO... INFORME 318 D:\\OneDrive - Ingenio Azucarero Guabira S.A\\_DATOS_PYTHON/_test//408.docx\n",
      "D:\\OneDrive - Ingenio Azucarero Guabira S.A\\_DATOS_PYTHON/_test//408.docx\n",
      "D:\\OneDrive - Ingenio Azucarero Guabira S.A\\_DATOS_PYTHON/_test//408.pdf\n"
     ]
    },
    {
     "data": {
      "application/vnd.jupyter.widget-view+json": {
       "model_id": "e58c0ad88f124bf7ab6399e852eca7e8",
       "version_major": 2,
       "version_minor": 0
      },
      "text/plain": [
       "  0%|          | 0/1 [00:00<?, ?it/s]"
      ]
     },
     "metadata": {},
     "output_type": "display_data"
    },
    {
     "name": "stdout",
     "output_type": "stream",
     "text": [
      "CONVIRTIENDO... INFORME 319 D:\\OneDrive - Ingenio Azucarero Guabira S.A\\_DATOS_PYTHON/_test//409.docx\n",
      "D:\\OneDrive - Ingenio Azucarero Guabira S.A\\_DATOS_PYTHON/_test//409.docx\n",
      "D:\\OneDrive - Ingenio Azucarero Guabira S.A\\_DATOS_PYTHON/_test//409.pdf\n"
     ]
    },
    {
     "data": {
      "application/vnd.jupyter.widget-view+json": {
       "model_id": "b0e5ebf2e8ea47e2b8413af85a719d20",
       "version_major": 2,
       "version_minor": 0
      },
      "text/plain": [
       "  0%|          | 0/1 [00:00<?, ?it/s]"
      ]
     },
     "metadata": {},
     "output_type": "display_data"
    },
    {
     "name": "stdout",
     "output_type": "stream",
     "text": [
      "CONVIRTIENDO... INFORME 320 D:\\OneDrive - Ingenio Azucarero Guabira S.A\\_DATOS_PYTHON/_test//41.docx\n",
      "D:\\OneDrive - Ingenio Azucarero Guabira S.A\\_DATOS_PYTHON/_test//41.docx\n",
      "D:\\OneDrive - Ingenio Azucarero Guabira S.A\\_DATOS_PYTHON/_test//41.pdf\n"
     ]
    },
    {
     "data": {
      "application/vnd.jupyter.widget-view+json": {
       "model_id": "53b4818f76a74caa87338df029c741fc",
       "version_major": 2,
       "version_minor": 0
      },
      "text/plain": [
       "  0%|          | 0/1 [00:00<?, ?it/s]"
      ]
     },
     "metadata": {},
     "output_type": "display_data"
    },
    {
     "name": "stdout",
     "output_type": "stream",
     "text": [
      "CONVIRTIENDO... INFORME 321 D:\\OneDrive - Ingenio Azucarero Guabira S.A\\_DATOS_PYTHON/_test//410.docx\n",
      "D:\\OneDrive - Ingenio Azucarero Guabira S.A\\_DATOS_PYTHON/_test//410.docx\n",
      "D:\\OneDrive - Ingenio Azucarero Guabira S.A\\_DATOS_PYTHON/_test//410.pdf\n"
     ]
    },
    {
     "data": {
      "application/vnd.jupyter.widget-view+json": {
       "model_id": "4e31016592db49ec9983a3a5be5ee3b2",
       "version_major": 2,
       "version_minor": 0
      },
      "text/plain": [
       "  0%|          | 0/1 [00:00<?, ?it/s]"
      ]
     },
     "metadata": {},
     "output_type": "display_data"
    },
    {
     "name": "stdout",
     "output_type": "stream",
     "text": [
      "CONVIRTIENDO... INFORME 322 D:\\OneDrive - Ingenio Azucarero Guabira S.A\\_DATOS_PYTHON/_test//412.docx\n",
      "D:\\OneDrive - Ingenio Azucarero Guabira S.A\\_DATOS_PYTHON/_test//412.docx\n",
      "D:\\OneDrive - Ingenio Azucarero Guabira S.A\\_DATOS_PYTHON/_test//412.pdf\n"
     ]
    },
    {
     "data": {
      "application/vnd.jupyter.widget-view+json": {
       "model_id": "8b6c58155d444bf2894b6e7e571bbc41",
       "version_major": 2,
       "version_minor": 0
      },
      "text/plain": [
       "  0%|          | 0/1 [00:00<?, ?it/s]"
      ]
     },
     "metadata": {},
     "output_type": "display_data"
    },
    {
     "name": "stdout",
     "output_type": "stream",
     "text": [
      "CONVIRTIENDO... INFORME 323 D:\\OneDrive - Ingenio Azucarero Guabira S.A\\_DATOS_PYTHON/_test//414.docx\n",
      "D:\\OneDrive - Ingenio Azucarero Guabira S.A\\_DATOS_PYTHON/_test//414.docx\n",
      "D:\\OneDrive - Ingenio Azucarero Guabira S.A\\_DATOS_PYTHON/_test//414.pdf\n"
     ]
    },
    {
     "data": {
      "application/vnd.jupyter.widget-view+json": {
       "model_id": "cb6cd29b1ead4cf091b3c90369774850",
       "version_major": 2,
       "version_minor": 0
      },
      "text/plain": [
       "  0%|          | 0/1 [00:00<?, ?it/s]"
      ]
     },
     "metadata": {},
     "output_type": "display_data"
    },
    {
     "name": "stdout",
     "output_type": "stream",
     "text": [
      "CONVIRTIENDO... INFORME 324 D:\\OneDrive - Ingenio Azucarero Guabira S.A\\_DATOS_PYTHON/_test//416.docx\n",
      "D:\\OneDrive - Ingenio Azucarero Guabira S.A\\_DATOS_PYTHON/_test//416.docx\n",
      "D:\\OneDrive - Ingenio Azucarero Guabira S.A\\_DATOS_PYTHON/_test//416.pdf\n"
     ]
    },
    {
     "data": {
      "application/vnd.jupyter.widget-view+json": {
       "model_id": "bd3ab8456e9343aa9ca276fa577460e6",
       "version_major": 2,
       "version_minor": 0
      },
      "text/plain": [
       "  0%|          | 0/1 [00:00<?, ?it/s]"
      ]
     },
     "metadata": {},
     "output_type": "display_data"
    },
    {
     "name": "stdout",
     "output_type": "stream",
     "text": [
      "CONVIRTIENDO... INFORME 325 D:\\OneDrive - Ingenio Azucarero Guabira S.A\\_DATOS_PYTHON/_test//417.docx\n",
      "D:\\OneDrive - Ingenio Azucarero Guabira S.A\\_DATOS_PYTHON/_test//417.docx\n",
      "D:\\OneDrive - Ingenio Azucarero Guabira S.A\\_DATOS_PYTHON/_test//417.pdf\n"
     ]
    },
    {
     "data": {
      "application/vnd.jupyter.widget-view+json": {
       "model_id": "6f87d7da637c4794b0ac000f151b6bd5",
       "version_major": 2,
       "version_minor": 0
      },
      "text/plain": [
       "  0%|          | 0/1 [00:00<?, ?it/s]"
      ]
     },
     "metadata": {},
     "output_type": "display_data"
    },
    {
     "name": "stdout",
     "output_type": "stream",
     "text": [
      "CONVIRTIENDO... INFORME 326 D:\\OneDrive - Ingenio Azucarero Guabira S.A\\_DATOS_PYTHON/_test//418.docx\n",
      "D:\\OneDrive - Ingenio Azucarero Guabira S.A\\_DATOS_PYTHON/_test//418.docx\n",
      "D:\\OneDrive - Ingenio Azucarero Guabira S.A\\_DATOS_PYTHON/_test//418.pdf\n"
     ]
    },
    {
     "data": {
      "application/vnd.jupyter.widget-view+json": {
       "model_id": "8c4067a9bb344818a5b5b30436760050",
       "version_major": 2,
       "version_minor": 0
      },
      "text/plain": [
       "  0%|          | 0/1 [00:00<?, ?it/s]"
      ]
     },
     "metadata": {},
     "output_type": "display_data"
    },
    {
     "name": "stdout",
     "output_type": "stream",
     "text": [
      "CONVIRTIENDO... INFORME 327 D:\\OneDrive - Ingenio Azucarero Guabira S.A\\_DATOS_PYTHON/_test//419.docx\n",
      "D:\\OneDrive - Ingenio Azucarero Guabira S.A\\_DATOS_PYTHON/_test//419.docx\n",
      "D:\\OneDrive - Ingenio Azucarero Guabira S.A\\_DATOS_PYTHON/_test//419.pdf\n"
     ]
    },
    {
     "data": {
      "application/vnd.jupyter.widget-view+json": {
       "model_id": "45b4e0a1ad70413ead5c8459040bfb8e",
       "version_major": 2,
       "version_minor": 0
      },
      "text/plain": [
       "  0%|          | 0/1 [00:00<?, ?it/s]"
      ]
     },
     "metadata": {},
     "output_type": "display_data"
    },
    {
     "name": "stdout",
     "output_type": "stream",
     "text": [
      "CONVIRTIENDO... INFORME 328 D:\\OneDrive - Ingenio Azucarero Guabira S.A\\_DATOS_PYTHON/_test//42.docx\n",
      "D:\\OneDrive - Ingenio Azucarero Guabira S.A\\_DATOS_PYTHON/_test//42.docx\n",
      "D:\\OneDrive - Ingenio Azucarero Guabira S.A\\_DATOS_PYTHON/_test//42.pdf\n"
     ]
    },
    {
     "data": {
      "application/vnd.jupyter.widget-view+json": {
       "model_id": "40e01eb71d934a0db59ef078e716d4ad",
       "version_major": 2,
       "version_minor": 0
      },
      "text/plain": [
       "  0%|          | 0/1 [00:00<?, ?it/s]"
      ]
     },
     "metadata": {},
     "output_type": "display_data"
    },
    {
     "name": "stdout",
     "output_type": "stream",
     "text": [
      "CONVIRTIENDO... INFORME 329 D:\\OneDrive - Ingenio Azucarero Guabira S.A\\_DATOS_PYTHON/_test//420.docx\n",
      "D:\\OneDrive - Ingenio Azucarero Guabira S.A\\_DATOS_PYTHON/_test//420.docx\n",
      "D:\\OneDrive - Ingenio Azucarero Guabira S.A\\_DATOS_PYTHON/_test//420.pdf\n"
     ]
    },
    {
     "data": {
      "application/vnd.jupyter.widget-view+json": {
       "model_id": "b0c9554088534ecbbf97268af2bd8cff",
       "version_major": 2,
       "version_minor": 0
      },
      "text/plain": [
       "  0%|          | 0/1 [00:00<?, ?it/s]"
      ]
     },
     "metadata": {},
     "output_type": "display_data"
    },
    {
     "name": "stdout",
     "output_type": "stream",
     "text": [
      "CONVIRTIENDO... INFORME 330 D:\\OneDrive - Ingenio Azucarero Guabira S.A\\_DATOS_PYTHON/_test//421.docx\n",
      "D:\\OneDrive - Ingenio Azucarero Guabira S.A\\_DATOS_PYTHON/_test//421.docx\n",
      "D:\\OneDrive - Ingenio Azucarero Guabira S.A\\_DATOS_PYTHON/_test//421.pdf\n"
     ]
    },
    {
     "data": {
      "application/vnd.jupyter.widget-view+json": {
       "model_id": "84a93fdf7ce0425383083e5b467b4dcc",
       "version_major": 2,
       "version_minor": 0
      },
      "text/plain": [
       "  0%|          | 0/1 [00:00<?, ?it/s]"
      ]
     },
     "metadata": {},
     "output_type": "display_data"
    },
    {
     "name": "stdout",
     "output_type": "stream",
     "text": [
      "CONVIRTIENDO... INFORME 331 D:\\OneDrive - Ingenio Azucarero Guabira S.A\\_DATOS_PYTHON/_test//422.docx\n",
      "D:\\OneDrive - Ingenio Azucarero Guabira S.A\\_DATOS_PYTHON/_test//422.docx\n",
      "D:\\OneDrive - Ingenio Azucarero Guabira S.A\\_DATOS_PYTHON/_test//422.pdf\n"
     ]
    },
    {
     "data": {
      "application/vnd.jupyter.widget-view+json": {
       "model_id": "d8b452f404204887bc6974018188edf0",
       "version_major": 2,
       "version_minor": 0
      },
      "text/plain": [
       "  0%|          | 0/1 [00:00<?, ?it/s]"
      ]
     },
     "metadata": {},
     "output_type": "display_data"
    },
    {
     "name": "stdout",
     "output_type": "stream",
     "text": [
      "CONVIRTIENDO... INFORME 332 D:\\OneDrive - Ingenio Azucarero Guabira S.A\\_DATOS_PYTHON/_test//423.docx\n",
      "D:\\OneDrive - Ingenio Azucarero Guabira S.A\\_DATOS_PYTHON/_test//423.docx\n",
      "D:\\OneDrive - Ingenio Azucarero Guabira S.A\\_DATOS_PYTHON/_test//423.pdf\n"
     ]
    },
    {
     "data": {
      "application/vnd.jupyter.widget-view+json": {
       "model_id": "e2023303aa09414887ca376be672e440",
       "version_major": 2,
       "version_minor": 0
      },
      "text/plain": [
       "  0%|          | 0/1 [00:00<?, ?it/s]"
      ]
     },
     "metadata": {},
     "output_type": "display_data"
    },
    {
     "name": "stdout",
     "output_type": "stream",
     "text": [
      "CONVIRTIENDO... INFORME 333 D:\\OneDrive - Ingenio Azucarero Guabira S.A\\_DATOS_PYTHON/_test//424.docx\n",
      "D:\\OneDrive - Ingenio Azucarero Guabira S.A\\_DATOS_PYTHON/_test//424.docx\n",
      "D:\\OneDrive - Ingenio Azucarero Guabira S.A\\_DATOS_PYTHON/_test//424.pdf\n"
     ]
    },
    {
     "data": {
      "application/vnd.jupyter.widget-view+json": {
       "model_id": "57d0bbd2f9ea43f5a741eeed4b106f18",
       "version_major": 2,
       "version_minor": 0
      },
      "text/plain": [
       "  0%|          | 0/1 [00:00<?, ?it/s]"
      ]
     },
     "metadata": {},
     "output_type": "display_data"
    },
    {
     "name": "stdout",
     "output_type": "stream",
     "text": [
      "CONVIRTIENDO... INFORME 334 D:\\OneDrive - Ingenio Azucarero Guabira S.A\\_DATOS_PYTHON/_test//425.docx\n",
      "D:\\OneDrive - Ingenio Azucarero Guabira S.A\\_DATOS_PYTHON/_test//425.docx\n",
      "D:\\OneDrive - Ingenio Azucarero Guabira S.A\\_DATOS_PYTHON/_test//425.pdf\n"
     ]
    },
    {
     "data": {
      "application/vnd.jupyter.widget-view+json": {
       "model_id": "c8b5d14bb4c840139e6451038a509599",
       "version_major": 2,
       "version_minor": 0
      },
      "text/plain": [
       "  0%|          | 0/1 [00:00<?, ?it/s]"
      ]
     },
     "metadata": {},
     "output_type": "display_data"
    },
    {
     "name": "stdout",
     "output_type": "stream",
     "text": [
      "CONVIRTIENDO... INFORME 335 D:\\OneDrive - Ingenio Azucarero Guabira S.A\\_DATOS_PYTHON/_test//426.docx\n",
      "D:\\OneDrive - Ingenio Azucarero Guabira S.A\\_DATOS_PYTHON/_test//426.docx\n",
      "D:\\OneDrive - Ingenio Azucarero Guabira S.A\\_DATOS_PYTHON/_test//426.pdf\n"
     ]
    },
    {
     "data": {
      "application/vnd.jupyter.widget-view+json": {
       "model_id": "10981f76d8fe4e73a753e84ffd7f0886",
       "version_major": 2,
       "version_minor": 0
      },
      "text/plain": [
       "  0%|          | 0/1 [00:00<?, ?it/s]"
      ]
     },
     "metadata": {},
     "output_type": "display_data"
    },
    {
     "name": "stdout",
     "output_type": "stream",
     "text": [
      "CONVIRTIENDO... INFORME 336 D:\\OneDrive - Ingenio Azucarero Guabira S.A\\_DATOS_PYTHON/_test//427.docx\n",
      "D:\\OneDrive - Ingenio Azucarero Guabira S.A\\_DATOS_PYTHON/_test//427.docx\n",
      "D:\\OneDrive - Ingenio Azucarero Guabira S.A\\_DATOS_PYTHON/_test//427.pdf\n"
     ]
    },
    {
     "data": {
      "application/vnd.jupyter.widget-view+json": {
       "model_id": "a0a3f22bb4824d81a434c9cc5f241e3a",
       "version_major": 2,
       "version_minor": 0
      },
      "text/plain": [
       "  0%|          | 0/1 [00:00<?, ?it/s]"
      ]
     },
     "metadata": {},
     "output_type": "display_data"
    },
    {
     "name": "stdout",
     "output_type": "stream",
     "text": [
      "CONVIRTIENDO... INFORME 337 D:\\OneDrive - Ingenio Azucarero Guabira S.A\\_DATOS_PYTHON/_test//429.docx\n",
      "D:\\OneDrive - Ingenio Azucarero Guabira S.A\\_DATOS_PYTHON/_test//429.docx\n",
      "D:\\OneDrive - Ingenio Azucarero Guabira S.A\\_DATOS_PYTHON/_test//429.pdf\n"
     ]
    },
    {
     "data": {
      "application/vnd.jupyter.widget-view+json": {
       "model_id": "78cc6bf75c9042d3ad99920056714242",
       "version_major": 2,
       "version_minor": 0
      },
      "text/plain": [
       "  0%|          | 0/1 [00:00<?, ?it/s]"
      ]
     },
     "metadata": {},
     "output_type": "display_data"
    },
    {
     "name": "stdout",
     "output_type": "stream",
     "text": [
      "CONVIRTIENDO... INFORME 338 D:\\OneDrive - Ingenio Azucarero Guabira S.A\\_DATOS_PYTHON/_test//43.docx\n",
      "D:\\OneDrive - Ingenio Azucarero Guabira S.A\\_DATOS_PYTHON/_test//43.docx\n",
      "D:\\OneDrive - Ingenio Azucarero Guabira S.A\\_DATOS_PYTHON/_test//43.pdf\n"
     ]
    },
    {
     "data": {
      "application/vnd.jupyter.widget-view+json": {
       "model_id": "f07175a4a74b4483bcc76e73a1beb719",
       "version_major": 2,
       "version_minor": 0
      },
      "text/plain": [
       "  0%|          | 0/1 [00:00<?, ?it/s]"
      ]
     },
     "metadata": {},
     "output_type": "display_data"
    },
    {
     "name": "stdout",
     "output_type": "stream",
     "text": [
      "CONVIRTIENDO... INFORME 339 D:\\OneDrive - Ingenio Azucarero Guabira S.A\\_DATOS_PYTHON/_test//432.docx\n",
      "D:\\OneDrive - Ingenio Azucarero Guabira S.A\\_DATOS_PYTHON/_test//432.docx\n",
      "D:\\OneDrive - Ingenio Azucarero Guabira S.A\\_DATOS_PYTHON/_test//432.pdf\n"
     ]
    },
    {
     "data": {
      "application/vnd.jupyter.widget-view+json": {
       "model_id": "97af7b6a56f64d74b34d0dd71da8da91",
       "version_major": 2,
       "version_minor": 0
      },
      "text/plain": [
       "  0%|          | 0/1 [00:00<?, ?it/s]"
      ]
     },
     "metadata": {},
     "output_type": "display_data"
    },
    {
     "name": "stdout",
     "output_type": "stream",
     "text": [
      "CONVIRTIENDO... INFORME 340 D:\\OneDrive - Ingenio Azucarero Guabira S.A\\_DATOS_PYTHON/_test//433.docx\n",
      "D:\\OneDrive - Ingenio Azucarero Guabira S.A\\_DATOS_PYTHON/_test//433.docx\n",
      "D:\\OneDrive - Ingenio Azucarero Guabira S.A\\_DATOS_PYTHON/_test//433.pdf\n"
     ]
    },
    {
     "data": {
      "application/vnd.jupyter.widget-view+json": {
       "model_id": "0aaab96b47a14cddaaa4e8bd082eab6d",
       "version_major": 2,
       "version_minor": 0
      },
      "text/plain": [
       "  0%|          | 0/1 [00:00<?, ?it/s]"
      ]
     },
     "metadata": {},
     "output_type": "display_data"
    },
    {
     "name": "stdout",
     "output_type": "stream",
     "text": [
      "CONVIRTIENDO... INFORME 341 D:\\OneDrive - Ingenio Azucarero Guabira S.A\\_DATOS_PYTHON/_test//434.docx\n",
      "D:\\OneDrive - Ingenio Azucarero Guabira S.A\\_DATOS_PYTHON/_test//434.docx\n",
      "D:\\OneDrive - Ingenio Azucarero Guabira S.A\\_DATOS_PYTHON/_test//434.pdf\n"
     ]
    },
    {
     "data": {
      "application/vnd.jupyter.widget-view+json": {
       "model_id": "1e4a2973d2334ea7a4aea3c33f710541",
       "version_major": 2,
       "version_minor": 0
      },
      "text/plain": [
       "  0%|          | 0/1 [00:00<?, ?it/s]"
      ]
     },
     "metadata": {},
     "output_type": "display_data"
    },
    {
     "name": "stdout",
     "output_type": "stream",
     "text": [
      "CONVIRTIENDO... INFORME 342 D:\\OneDrive - Ingenio Azucarero Guabira S.A\\_DATOS_PYTHON/_test//435.docx\n",
      "D:\\OneDrive - Ingenio Azucarero Guabira S.A\\_DATOS_PYTHON/_test//435.docx\n",
      "D:\\OneDrive - Ingenio Azucarero Guabira S.A\\_DATOS_PYTHON/_test//435.pdf\n"
     ]
    },
    {
     "data": {
      "application/vnd.jupyter.widget-view+json": {
       "model_id": "59a62b6a2df24a0b844598cbc04af42b",
       "version_major": 2,
       "version_minor": 0
      },
      "text/plain": [
       "  0%|          | 0/1 [00:00<?, ?it/s]"
      ]
     },
     "metadata": {},
     "output_type": "display_data"
    },
    {
     "name": "stdout",
     "output_type": "stream",
     "text": [
      "CONVIRTIENDO... INFORME 343 D:\\OneDrive - Ingenio Azucarero Guabira S.A\\_DATOS_PYTHON/_test//437.docx\n",
      "D:\\OneDrive - Ingenio Azucarero Guabira S.A\\_DATOS_PYTHON/_test//437.docx\n",
      "D:\\OneDrive - Ingenio Azucarero Guabira S.A\\_DATOS_PYTHON/_test//437.pdf\n"
     ]
    },
    {
     "data": {
      "application/vnd.jupyter.widget-view+json": {
       "model_id": "2da6a4b1bbc84345bf6b8ff45473b3b6",
       "version_major": 2,
       "version_minor": 0
      },
      "text/plain": [
       "  0%|          | 0/1 [00:00<?, ?it/s]"
      ]
     },
     "metadata": {},
     "output_type": "display_data"
    },
    {
     "name": "stdout",
     "output_type": "stream",
     "text": [
      "CONVIRTIENDO... INFORME 344 D:\\OneDrive - Ingenio Azucarero Guabira S.A\\_DATOS_PYTHON/_test//438.docx\n",
      "D:\\OneDrive - Ingenio Azucarero Guabira S.A\\_DATOS_PYTHON/_test//438.docx\n",
      "D:\\OneDrive - Ingenio Azucarero Guabira S.A\\_DATOS_PYTHON/_test//438.pdf\n"
     ]
    },
    {
     "data": {
      "application/vnd.jupyter.widget-view+json": {
       "model_id": "34f356e34aa6480db63aad0b43a1fb22",
       "version_major": 2,
       "version_minor": 0
      },
      "text/plain": [
       "  0%|          | 0/1 [00:00<?, ?it/s]"
      ]
     },
     "metadata": {},
     "output_type": "display_data"
    },
    {
     "name": "stdout",
     "output_type": "stream",
     "text": [
      "CONVIRTIENDO... INFORME 345 D:\\OneDrive - Ingenio Azucarero Guabira S.A\\_DATOS_PYTHON/_test//439.docx\n",
      "D:\\OneDrive - Ingenio Azucarero Guabira S.A\\_DATOS_PYTHON/_test//439.docx\n",
      "D:\\OneDrive - Ingenio Azucarero Guabira S.A\\_DATOS_PYTHON/_test//439.pdf\n"
     ]
    },
    {
     "data": {
      "application/vnd.jupyter.widget-view+json": {
       "model_id": "1ee019938b164dbeaa45caf1eb34a9a5",
       "version_major": 2,
       "version_minor": 0
      },
      "text/plain": [
       "  0%|          | 0/1 [00:00<?, ?it/s]"
      ]
     },
     "metadata": {},
     "output_type": "display_data"
    },
    {
     "name": "stdout",
     "output_type": "stream",
     "text": [
      "CONVIRTIENDO... INFORME 346 D:\\OneDrive - Ingenio Azucarero Guabira S.A\\_DATOS_PYTHON/_test//44.docx\n",
      "D:\\OneDrive - Ingenio Azucarero Guabira S.A\\_DATOS_PYTHON/_test//44.docx\n",
      "D:\\OneDrive - Ingenio Azucarero Guabira S.A\\_DATOS_PYTHON/_test//44.pdf\n"
     ]
    },
    {
     "data": {
      "application/vnd.jupyter.widget-view+json": {
       "model_id": "2c988e5a4bce45e6bf24520c680b6aa1",
       "version_major": 2,
       "version_minor": 0
      },
      "text/plain": [
       "  0%|          | 0/1 [00:00<?, ?it/s]"
      ]
     },
     "metadata": {},
     "output_type": "display_data"
    },
    {
     "name": "stdout",
     "output_type": "stream",
     "text": [
      "CONVIRTIENDO... INFORME 347 D:\\OneDrive - Ingenio Azucarero Guabira S.A\\_DATOS_PYTHON/_test//442.docx\n",
      "D:\\OneDrive - Ingenio Azucarero Guabira S.A\\_DATOS_PYTHON/_test//442.docx\n",
      "D:\\OneDrive - Ingenio Azucarero Guabira S.A\\_DATOS_PYTHON/_test//442.pdf\n"
     ]
    },
    {
     "data": {
      "application/vnd.jupyter.widget-view+json": {
       "model_id": "c057d5eb849f4b2c8be35a12c4c8bc2a",
       "version_major": 2,
       "version_minor": 0
      },
      "text/plain": [
       "  0%|          | 0/1 [00:00<?, ?it/s]"
      ]
     },
     "metadata": {},
     "output_type": "display_data"
    },
    {
     "name": "stdout",
     "output_type": "stream",
     "text": [
      "CONVIRTIENDO... INFORME 348 D:\\OneDrive - Ingenio Azucarero Guabira S.A\\_DATOS_PYTHON/_test//443.docx\n",
      "D:\\OneDrive - Ingenio Azucarero Guabira S.A\\_DATOS_PYTHON/_test//443.docx\n",
      "D:\\OneDrive - Ingenio Azucarero Guabira S.A\\_DATOS_PYTHON/_test//443.pdf\n"
     ]
    },
    {
     "data": {
      "application/vnd.jupyter.widget-view+json": {
       "model_id": "63c9b0b6aa854ffd8d3a3d1d38feb9a1",
       "version_major": 2,
       "version_minor": 0
      },
      "text/plain": [
       "  0%|          | 0/1 [00:00<?, ?it/s]"
      ]
     },
     "metadata": {},
     "output_type": "display_data"
    },
    {
     "name": "stdout",
     "output_type": "stream",
     "text": [
      "CONVIRTIENDO... INFORME 349 D:\\OneDrive - Ingenio Azucarero Guabira S.A\\_DATOS_PYTHON/_test//444.docx\n",
      "D:\\OneDrive - Ingenio Azucarero Guabira S.A\\_DATOS_PYTHON/_test//444.docx\n",
      "D:\\OneDrive - Ingenio Azucarero Guabira S.A\\_DATOS_PYTHON/_test//444.pdf\n"
     ]
    },
    {
     "data": {
      "application/vnd.jupyter.widget-view+json": {
       "model_id": "203ac80147754417bcd11584fc2904b2",
       "version_major": 2,
       "version_minor": 0
      },
      "text/plain": [
       "  0%|          | 0/1 [00:00<?, ?it/s]"
      ]
     },
     "metadata": {},
     "output_type": "display_data"
    },
    {
     "name": "stdout",
     "output_type": "stream",
     "text": [
      "CONVIRTIENDO... INFORME 350 D:\\OneDrive - Ingenio Azucarero Guabira S.A\\_DATOS_PYTHON/_test//445.docx\n",
      "D:\\OneDrive - Ingenio Azucarero Guabira S.A\\_DATOS_PYTHON/_test//445.docx\n",
      "D:\\OneDrive - Ingenio Azucarero Guabira S.A\\_DATOS_PYTHON/_test//445.pdf\n"
     ]
    },
    {
     "data": {
      "application/vnd.jupyter.widget-view+json": {
       "model_id": "1117d9352f9243d0967f3d1e77c4d667",
       "version_major": 2,
       "version_minor": 0
      },
      "text/plain": [
       "  0%|          | 0/1 [00:00<?, ?it/s]"
      ]
     },
     "metadata": {},
     "output_type": "display_data"
    },
    {
     "name": "stdout",
     "output_type": "stream",
     "text": [
      "CONVIRTIENDO... INFORME 351 D:\\OneDrive - Ingenio Azucarero Guabira S.A\\_DATOS_PYTHON/_test//446.docx\n",
      "D:\\OneDrive - Ingenio Azucarero Guabira S.A\\_DATOS_PYTHON/_test//446.docx\n",
      "D:\\OneDrive - Ingenio Azucarero Guabira S.A\\_DATOS_PYTHON/_test//446.pdf\n"
     ]
    },
    {
     "data": {
      "application/vnd.jupyter.widget-view+json": {
       "model_id": "beb3963dcc4b45e585547b6e0384bfe9",
       "version_major": 2,
       "version_minor": 0
      },
      "text/plain": [
       "  0%|          | 0/1 [00:00<?, ?it/s]"
      ]
     },
     "metadata": {},
     "output_type": "display_data"
    },
    {
     "name": "stdout",
     "output_type": "stream",
     "text": [
      "CONVIRTIENDO... INFORME 352 D:\\OneDrive - Ingenio Azucarero Guabira S.A\\_DATOS_PYTHON/_test//448.docx\n",
      "D:\\OneDrive - Ingenio Azucarero Guabira S.A\\_DATOS_PYTHON/_test//448.docx\n",
      "D:\\OneDrive - Ingenio Azucarero Guabira S.A\\_DATOS_PYTHON/_test//448.pdf\n"
     ]
    },
    {
     "data": {
      "application/vnd.jupyter.widget-view+json": {
       "model_id": "2ffe8647a44a493689fe505ca7d58f5f",
       "version_major": 2,
       "version_minor": 0
      },
      "text/plain": [
       "  0%|          | 0/1 [00:00<?, ?it/s]"
      ]
     },
     "metadata": {},
     "output_type": "display_data"
    },
    {
     "name": "stdout",
     "output_type": "stream",
     "text": [
      "CONVIRTIENDO... INFORME 353 D:\\OneDrive - Ingenio Azucarero Guabira S.A\\_DATOS_PYTHON/_test//449.docx\n",
      "D:\\OneDrive - Ingenio Azucarero Guabira S.A\\_DATOS_PYTHON/_test//449.docx\n",
      "D:\\OneDrive - Ingenio Azucarero Guabira S.A\\_DATOS_PYTHON/_test//449.pdf\n"
     ]
    },
    {
     "data": {
      "application/vnd.jupyter.widget-view+json": {
       "model_id": "51ff1d6841c4411383549afb2a796f75",
       "version_major": 2,
       "version_minor": 0
      },
      "text/plain": [
       "  0%|          | 0/1 [00:00<?, ?it/s]"
      ]
     },
     "metadata": {},
     "output_type": "display_data"
    },
    {
     "name": "stdout",
     "output_type": "stream",
     "text": [
      "CONVIRTIENDO... INFORME 354 D:\\OneDrive - Ingenio Azucarero Guabira S.A\\_DATOS_PYTHON/_test//45.docx\n",
      "D:\\OneDrive - Ingenio Azucarero Guabira S.A\\_DATOS_PYTHON/_test//45.docx\n",
      "D:\\OneDrive - Ingenio Azucarero Guabira S.A\\_DATOS_PYTHON/_test//45.pdf\n"
     ]
    },
    {
     "data": {
      "application/vnd.jupyter.widget-view+json": {
       "model_id": "0e87e88ec34f4d049a7c1e23d510473a",
       "version_major": 2,
       "version_minor": 0
      },
      "text/plain": [
       "  0%|          | 0/1 [00:00<?, ?it/s]"
      ]
     },
     "metadata": {},
     "output_type": "display_data"
    },
    {
     "name": "stdout",
     "output_type": "stream",
     "text": [
      "CONVIRTIENDO... INFORME 355 D:\\OneDrive - Ingenio Azucarero Guabira S.A\\_DATOS_PYTHON/_test//450.docx\n",
      "D:\\OneDrive - Ingenio Azucarero Guabira S.A\\_DATOS_PYTHON/_test//450.docx\n",
      "D:\\OneDrive - Ingenio Azucarero Guabira S.A\\_DATOS_PYTHON/_test//450.pdf\n"
     ]
    },
    {
     "data": {
      "application/vnd.jupyter.widget-view+json": {
       "model_id": "46d55921555e4eaf86da970bf935f0d9",
       "version_major": 2,
       "version_minor": 0
      },
      "text/plain": [
       "  0%|          | 0/1 [00:00<?, ?it/s]"
      ]
     },
     "metadata": {},
     "output_type": "display_data"
    },
    {
     "name": "stdout",
     "output_type": "stream",
     "text": [
      "CONVIRTIENDO... INFORME 356 D:\\OneDrive - Ingenio Azucarero Guabira S.A\\_DATOS_PYTHON/_test//451.docx\n",
      "D:\\OneDrive - Ingenio Azucarero Guabira S.A\\_DATOS_PYTHON/_test//451.docx\n",
      "D:\\OneDrive - Ingenio Azucarero Guabira S.A\\_DATOS_PYTHON/_test//451.pdf\n"
     ]
    },
    {
     "data": {
      "application/vnd.jupyter.widget-view+json": {
       "model_id": "b7adb3b016bd4f3f9057a922c2776c14",
       "version_major": 2,
       "version_minor": 0
      },
      "text/plain": [
       "  0%|          | 0/1 [00:00<?, ?it/s]"
      ]
     },
     "metadata": {},
     "output_type": "display_data"
    },
    {
     "name": "stdout",
     "output_type": "stream",
     "text": [
      "CONVIRTIENDO... INFORME 357 D:\\OneDrive - Ingenio Azucarero Guabira S.A\\_DATOS_PYTHON/_test//452.docx\n",
      "D:\\OneDrive - Ingenio Azucarero Guabira S.A\\_DATOS_PYTHON/_test//452.docx\n",
      "D:\\OneDrive - Ingenio Azucarero Guabira S.A\\_DATOS_PYTHON/_test//452.pdf\n"
     ]
    },
    {
     "data": {
      "application/vnd.jupyter.widget-view+json": {
       "model_id": "7699a824e0f74ad98bc532a394d74a93",
       "version_major": 2,
       "version_minor": 0
      },
      "text/plain": [
       "  0%|          | 0/1 [00:00<?, ?it/s]"
      ]
     },
     "metadata": {},
     "output_type": "display_data"
    },
    {
     "name": "stdout",
     "output_type": "stream",
     "text": [
      "CONVIRTIENDO... INFORME 358 D:\\OneDrive - Ingenio Azucarero Guabira S.A\\_DATOS_PYTHON/_test//453.docx\n",
      "D:\\OneDrive - Ingenio Azucarero Guabira S.A\\_DATOS_PYTHON/_test//453.docx\n",
      "D:\\OneDrive - Ingenio Azucarero Guabira S.A\\_DATOS_PYTHON/_test//453.pdf\n"
     ]
    },
    {
     "data": {
      "application/vnd.jupyter.widget-view+json": {
       "model_id": "5933275237514b25983b7ef4a8d05044",
       "version_major": 2,
       "version_minor": 0
      },
      "text/plain": [
       "  0%|          | 0/1 [00:00<?, ?it/s]"
      ]
     },
     "metadata": {},
     "output_type": "display_data"
    },
    {
     "name": "stdout",
     "output_type": "stream",
     "text": [
      "CONVIRTIENDO... INFORME 359 D:\\OneDrive - Ingenio Azucarero Guabira S.A\\_DATOS_PYTHON/_test//455.docx\n",
      "D:\\OneDrive - Ingenio Azucarero Guabira S.A\\_DATOS_PYTHON/_test//455.docx\n",
      "D:\\OneDrive - Ingenio Azucarero Guabira S.A\\_DATOS_PYTHON/_test//455.pdf\n"
     ]
    },
    {
     "data": {
      "application/vnd.jupyter.widget-view+json": {
       "model_id": "72f860061dfc4a2ca5e3d84b8dcf643a",
       "version_major": 2,
       "version_minor": 0
      },
      "text/plain": [
       "  0%|          | 0/1 [00:00<?, ?it/s]"
      ]
     },
     "metadata": {},
     "output_type": "display_data"
    },
    {
     "name": "stdout",
     "output_type": "stream",
     "text": [
      "CONVIRTIENDO... INFORME 360 D:\\OneDrive - Ingenio Azucarero Guabira S.A\\_DATOS_PYTHON/_test//456.docx\n",
      "D:\\OneDrive - Ingenio Azucarero Guabira S.A\\_DATOS_PYTHON/_test//456.docx\n",
      "D:\\OneDrive - Ingenio Azucarero Guabira S.A\\_DATOS_PYTHON/_test//456.pdf\n"
     ]
    },
    {
     "data": {
      "application/vnd.jupyter.widget-view+json": {
       "model_id": "8a27df34c4d8470f81cc963ea634d76a",
       "version_major": 2,
       "version_minor": 0
      },
      "text/plain": [
       "  0%|          | 0/1 [00:00<?, ?it/s]"
      ]
     },
     "metadata": {},
     "output_type": "display_data"
    },
    {
     "name": "stdout",
     "output_type": "stream",
     "text": [
      "CONVIRTIENDO... INFORME 361 D:\\OneDrive - Ingenio Azucarero Guabira S.A\\_DATOS_PYTHON/_test//457.docx\n",
      "D:\\OneDrive - Ingenio Azucarero Guabira S.A\\_DATOS_PYTHON/_test//457.docx\n",
      "D:\\OneDrive - Ingenio Azucarero Guabira S.A\\_DATOS_PYTHON/_test//457.pdf\n"
     ]
    },
    {
     "data": {
      "application/vnd.jupyter.widget-view+json": {
       "model_id": "87843f12791d4e53988d7bf7e6d238d1",
       "version_major": 2,
       "version_minor": 0
      },
      "text/plain": [
       "  0%|          | 0/1 [00:00<?, ?it/s]"
      ]
     },
     "metadata": {},
     "output_type": "display_data"
    },
    {
     "name": "stdout",
     "output_type": "stream",
     "text": [
      "CONVIRTIENDO... INFORME 362 D:\\OneDrive - Ingenio Azucarero Guabira S.A\\_DATOS_PYTHON/_test//458.docx\n",
      "D:\\OneDrive - Ingenio Azucarero Guabira S.A\\_DATOS_PYTHON/_test//458.docx\n",
      "D:\\OneDrive - Ingenio Azucarero Guabira S.A\\_DATOS_PYTHON/_test//458.pdf\n"
     ]
    },
    {
     "data": {
      "application/vnd.jupyter.widget-view+json": {
       "model_id": "60f2b45d83c24f798949967e5adb858f",
       "version_major": 2,
       "version_minor": 0
      },
      "text/plain": [
       "  0%|          | 0/1 [00:00<?, ?it/s]"
      ]
     },
     "metadata": {},
     "output_type": "display_data"
    },
    {
     "name": "stdout",
     "output_type": "stream",
     "text": [
      "CONVIRTIENDO... INFORME 363 D:\\OneDrive - Ingenio Azucarero Guabira S.A\\_DATOS_PYTHON/_test//459.docx\n",
      "D:\\OneDrive - Ingenio Azucarero Guabira S.A\\_DATOS_PYTHON/_test//459.docx\n",
      "D:\\OneDrive - Ingenio Azucarero Guabira S.A\\_DATOS_PYTHON/_test//459.pdf\n"
     ]
    },
    {
     "data": {
      "application/vnd.jupyter.widget-view+json": {
       "model_id": "4e17cf9e553c4c2a9f62ce066ba0ba78",
       "version_major": 2,
       "version_minor": 0
      },
      "text/plain": [
       "  0%|          | 0/1 [00:00<?, ?it/s]"
      ]
     },
     "metadata": {},
     "output_type": "display_data"
    },
    {
     "name": "stdout",
     "output_type": "stream",
     "text": [
      "CONVIRTIENDO... INFORME 364 D:\\OneDrive - Ingenio Azucarero Guabira S.A\\_DATOS_PYTHON/_test//46.docx\n",
      "D:\\OneDrive - Ingenio Azucarero Guabira S.A\\_DATOS_PYTHON/_test//46.docx\n",
      "D:\\OneDrive - Ingenio Azucarero Guabira S.A\\_DATOS_PYTHON/_test//46.pdf\n"
     ]
    },
    {
     "data": {
      "application/vnd.jupyter.widget-view+json": {
       "model_id": "56c9b63e2ddb4433b5c7df3102349607",
       "version_major": 2,
       "version_minor": 0
      },
      "text/plain": [
       "  0%|          | 0/1 [00:00<?, ?it/s]"
      ]
     },
     "metadata": {},
     "output_type": "display_data"
    },
    {
     "name": "stdout",
     "output_type": "stream",
     "text": [
      "CONVIRTIENDO... INFORME 365 D:\\OneDrive - Ingenio Azucarero Guabira S.A\\_DATOS_PYTHON/_test//47.docx\n",
      "D:\\OneDrive - Ingenio Azucarero Guabira S.A\\_DATOS_PYTHON/_test//47.docx\n",
      "D:\\OneDrive - Ingenio Azucarero Guabira S.A\\_DATOS_PYTHON/_test//47.pdf\n"
     ]
    },
    {
     "data": {
      "application/vnd.jupyter.widget-view+json": {
       "model_id": "3cfad8a1f6d54236932c6aa31776b734",
       "version_major": 2,
       "version_minor": 0
      },
      "text/plain": [
       "  0%|          | 0/1 [00:00<?, ?it/s]"
      ]
     },
     "metadata": {},
     "output_type": "display_data"
    },
    {
     "name": "stdout",
     "output_type": "stream",
     "text": [
      "CONVIRTIENDO... INFORME 366 D:\\OneDrive - Ingenio Azucarero Guabira S.A\\_DATOS_PYTHON/_test//48.docx\n",
      "D:\\OneDrive - Ingenio Azucarero Guabira S.A\\_DATOS_PYTHON/_test//48.docx\n",
      "D:\\OneDrive - Ingenio Azucarero Guabira S.A\\_DATOS_PYTHON/_test//48.pdf\n"
     ]
    },
    {
     "data": {
      "application/vnd.jupyter.widget-view+json": {
       "model_id": "223fd6f125b2478692da5038348b0cef",
       "version_major": 2,
       "version_minor": 0
      },
      "text/plain": [
       "  0%|          | 0/1 [00:00<?, ?it/s]"
      ]
     },
     "metadata": {},
     "output_type": "display_data"
    },
    {
     "name": "stdout",
     "output_type": "stream",
     "text": [
      "CONVIRTIENDO... INFORME 367 D:\\OneDrive - Ingenio Azucarero Guabira S.A\\_DATOS_PYTHON/_test//49.docx\n",
      "D:\\OneDrive - Ingenio Azucarero Guabira S.A\\_DATOS_PYTHON/_test//49.docx\n",
      "D:\\OneDrive - Ingenio Azucarero Guabira S.A\\_DATOS_PYTHON/_test//49.pdf\n"
     ]
    },
    {
     "data": {
      "application/vnd.jupyter.widget-view+json": {
       "model_id": "cd9ba079e16a494b88bf84c23680d635",
       "version_major": 2,
       "version_minor": 0
      },
      "text/plain": [
       "  0%|          | 0/1 [00:00<?, ?it/s]"
      ]
     },
     "metadata": {},
     "output_type": "display_data"
    },
    {
     "name": "stdout",
     "output_type": "stream",
     "text": [
      "CONVIRTIENDO... INFORME 368 D:\\OneDrive - Ingenio Azucarero Guabira S.A\\_DATOS_PYTHON/_test//5.docx\n",
      "D:\\OneDrive - Ingenio Azucarero Guabira S.A\\_DATOS_PYTHON/_test//5.docx\n",
      "D:\\OneDrive - Ingenio Azucarero Guabira S.A\\_DATOS_PYTHON/_test//5.pdf\n"
     ]
    },
    {
     "data": {
      "application/vnd.jupyter.widget-view+json": {
       "model_id": "f5eb3531021e4545a55fb0e42ffc7fd2",
       "version_major": 2,
       "version_minor": 0
      },
      "text/plain": [
       "  0%|          | 0/1 [00:00<?, ?it/s]"
      ]
     },
     "metadata": {},
     "output_type": "display_data"
    },
    {
     "name": "stdout",
     "output_type": "stream",
     "text": [
      "CONVIRTIENDO... INFORME 369 D:\\OneDrive - Ingenio Azucarero Guabira S.A\\_DATOS_PYTHON/_test//50.docx\n",
      "D:\\OneDrive - Ingenio Azucarero Guabira S.A\\_DATOS_PYTHON/_test//50.docx\n",
      "D:\\OneDrive - Ingenio Azucarero Guabira S.A\\_DATOS_PYTHON/_test//50.pdf\n"
     ]
    },
    {
     "data": {
      "application/vnd.jupyter.widget-view+json": {
       "model_id": "6e4f70dbf4c844a9ac9021909d052123",
       "version_major": 2,
       "version_minor": 0
      },
      "text/plain": [
       "  0%|          | 0/1 [00:00<?, ?it/s]"
      ]
     },
     "metadata": {},
     "output_type": "display_data"
    },
    {
     "name": "stdout",
     "output_type": "stream",
     "text": [
      "CONVIRTIENDO... INFORME 370 D:\\OneDrive - Ingenio Azucarero Guabira S.A\\_DATOS_PYTHON/_test//500.docx\n",
      "D:\\OneDrive - Ingenio Azucarero Guabira S.A\\_DATOS_PYTHON/_test//500.docx\n",
      "D:\\OneDrive - Ingenio Azucarero Guabira S.A\\_DATOS_PYTHON/_test//500.pdf\n"
     ]
    },
    {
     "data": {
      "application/vnd.jupyter.widget-view+json": {
       "model_id": "b1d6b15895114f299f5cbe3e17bc57fe",
       "version_major": 2,
       "version_minor": 0
      },
      "text/plain": [
       "  0%|          | 0/1 [00:00<?, ?it/s]"
      ]
     },
     "metadata": {},
     "output_type": "display_data"
    },
    {
     "name": "stdout",
     "output_type": "stream",
     "text": [
      "CONVIRTIENDO... INFORME 371 D:\\OneDrive - Ingenio Azucarero Guabira S.A\\_DATOS_PYTHON/_test//501.docx\n",
      "D:\\OneDrive - Ingenio Azucarero Guabira S.A\\_DATOS_PYTHON/_test//501.docx\n",
      "D:\\OneDrive - Ingenio Azucarero Guabira S.A\\_DATOS_PYTHON/_test//501.pdf\n"
     ]
    },
    {
     "data": {
      "application/vnd.jupyter.widget-view+json": {
       "model_id": "fe61e956f8714ff0a178c0f1dd5b05ac",
       "version_major": 2,
       "version_minor": 0
      },
      "text/plain": [
       "  0%|          | 0/1 [00:00<?, ?it/s]"
      ]
     },
     "metadata": {},
     "output_type": "display_data"
    },
    {
     "name": "stdout",
     "output_type": "stream",
     "text": [
      "CONVIRTIENDO... INFORME 372 D:\\OneDrive - Ingenio Azucarero Guabira S.A\\_DATOS_PYTHON/_test//502.docx\n",
      "D:\\OneDrive - Ingenio Azucarero Guabira S.A\\_DATOS_PYTHON/_test//502.docx\n",
      "D:\\OneDrive - Ingenio Azucarero Guabira S.A\\_DATOS_PYTHON/_test//502.pdf\n"
     ]
    },
    {
     "data": {
      "application/vnd.jupyter.widget-view+json": {
       "model_id": "43c4ec5067314eed9b19e6dabdf9c738",
       "version_major": 2,
       "version_minor": 0
      },
      "text/plain": [
       "  0%|          | 0/1 [00:00<?, ?it/s]"
      ]
     },
     "metadata": {},
     "output_type": "display_data"
    },
    {
     "name": "stdout",
     "output_type": "stream",
     "text": [
      "CONVIRTIENDO... INFORME 373 D:\\OneDrive - Ingenio Azucarero Guabira S.A\\_DATOS_PYTHON/_test//504.docx\n",
      "D:\\OneDrive - Ingenio Azucarero Guabira S.A\\_DATOS_PYTHON/_test//504.docx\n",
      "D:\\OneDrive - Ingenio Azucarero Guabira S.A\\_DATOS_PYTHON/_test//504.pdf\n"
     ]
    },
    {
     "data": {
      "application/vnd.jupyter.widget-view+json": {
       "model_id": "935f2103e15740c3b68474bb548b564d",
       "version_major": 2,
       "version_minor": 0
      },
      "text/plain": [
       "  0%|          | 0/1 [00:00<?, ?it/s]"
      ]
     },
     "metadata": {},
     "output_type": "display_data"
    },
    {
     "name": "stdout",
     "output_type": "stream",
     "text": [
      "CONVIRTIENDO... INFORME 374 D:\\OneDrive - Ingenio Azucarero Guabira S.A\\_DATOS_PYTHON/_test//505.docx\n",
      "D:\\OneDrive - Ingenio Azucarero Guabira S.A\\_DATOS_PYTHON/_test//505.docx\n",
      "D:\\OneDrive - Ingenio Azucarero Guabira S.A\\_DATOS_PYTHON/_test//505.pdf\n"
     ]
    },
    {
     "data": {
      "application/vnd.jupyter.widget-view+json": {
       "model_id": "2877b5dd3fb94bd087b532d2b40cd07a",
       "version_major": 2,
       "version_minor": 0
      },
      "text/plain": [
       "  0%|          | 0/1 [00:00<?, ?it/s]"
      ]
     },
     "metadata": {},
     "output_type": "display_data"
    },
    {
     "name": "stdout",
     "output_type": "stream",
     "text": [
      "CONVIRTIENDO... INFORME 375 D:\\OneDrive - Ingenio Azucarero Guabira S.A\\_DATOS_PYTHON/_test//507.docx\n",
      "D:\\OneDrive - Ingenio Azucarero Guabira S.A\\_DATOS_PYTHON/_test//507.docx\n",
      "D:\\OneDrive - Ingenio Azucarero Guabira S.A\\_DATOS_PYTHON/_test//507.pdf\n"
     ]
    },
    {
     "data": {
      "application/vnd.jupyter.widget-view+json": {
       "model_id": "cefead93371e4e9a90575341bbbdfddd",
       "version_major": 2,
       "version_minor": 0
      },
      "text/plain": [
       "  0%|          | 0/1 [00:00<?, ?it/s]"
      ]
     },
     "metadata": {},
     "output_type": "display_data"
    },
    {
     "name": "stdout",
     "output_type": "stream",
     "text": [
      "CONVIRTIENDO... INFORME 376 D:\\OneDrive - Ingenio Azucarero Guabira S.A\\_DATOS_PYTHON/_test//508.docx\n",
      "D:\\OneDrive - Ingenio Azucarero Guabira S.A\\_DATOS_PYTHON/_test//508.docx\n",
      "D:\\OneDrive - Ingenio Azucarero Guabira S.A\\_DATOS_PYTHON/_test//508.pdf\n"
     ]
    },
    {
     "data": {
      "application/vnd.jupyter.widget-view+json": {
       "model_id": "3bd6446bd95d427b9638c354fb6e6e94",
       "version_major": 2,
       "version_minor": 0
      },
      "text/plain": [
       "  0%|          | 0/1 [00:00<?, ?it/s]"
      ]
     },
     "metadata": {},
     "output_type": "display_data"
    },
    {
     "name": "stdout",
     "output_type": "stream",
     "text": [
      "CONVIRTIENDO... INFORME 377 D:\\OneDrive - Ingenio Azucarero Guabira S.A\\_DATOS_PYTHON/_test//509.docx\n",
      "D:\\OneDrive - Ingenio Azucarero Guabira S.A\\_DATOS_PYTHON/_test//509.docx\n",
      "D:\\OneDrive - Ingenio Azucarero Guabira S.A\\_DATOS_PYTHON/_test//509.pdf\n"
     ]
    },
    {
     "data": {
      "application/vnd.jupyter.widget-view+json": {
       "model_id": "8e19a3c031c147799a57ee4a8effe04c",
       "version_major": 2,
       "version_minor": 0
      },
      "text/plain": [
       "  0%|          | 0/1 [00:00<?, ?it/s]"
      ]
     },
     "metadata": {},
     "output_type": "display_data"
    },
    {
     "name": "stdout",
     "output_type": "stream",
     "text": [
      "CONVIRTIENDO... INFORME 378 D:\\OneDrive - Ingenio Azucarero Guabira S.A\\_DATOS_PYTHON/_test//51.docx\n",
      "D:\\OneDrive - Ingenio Azucarero Guabira S.A\\_DATOS_PYTHON/_test//51.docx\n",
      "D:\\OneDrive - Ingenio Azucarero Guabira S.A\\_DATOS_PYTHON/_test//51.pdf\n"
     ]
    },
    {
     "data": {
      "application/vnd.jupyter.widget-view+json": {
       "model_id": "2751580cc27b4fefa9580ab6de7bc306",
       "version_major": 2,
       "version_minor": 0
      },
      "text/plain": [
       "  0%|          | 0/1 [00:00<?, ?it/s]"
      ]
     },
     "metadata": {},
     "output_type": "display_data"
    },
    {
     "name": "stdout",
     "output_type": "stream",
     "text": [
      "CONVIRTIENDO... INFORME 379 D:\\OneDrive - Ingenio Azucarero Guabira S.A\\_DATOS_PYTHON/_test//510.docx\n",
      "D:\\OneDrive - Ingenio Azucarero Guabira S.A\\_DATOS_PYTHON/_test//510.docx\n",
      "D:\\OneDrive - Ingenio Azucarero Guabira S.A\\_DATOS_PYTHON/_test//510.pdf\n"
     ]
    },
    {
     "data": {
      "application/vnd.jupyter.widget-view+json": {
       "model_id": "5a50e405964a40aa9c4058f8966711bb",
       "version_major": 2,
       "version_minor": 0
      },
      "text/plain": [
       "  0%|          | 0/1 [00:00<?, ?it/s]"
      ]
     },
     "metadata": {},
     "output_type": "display_data"
    },
    {
     "name": "stdout",
     "output_type": "stream",
     "text": [
      "CONVIRTIENDO... INFORME 380 D:\\OneDrive - Ingenio Azucarero Guabira S.A\\_DATOS_PYTHON/_test//511.docx\n",
      "D:\\OneDrive - Ingenio Azucarero Guabira S.A\\_DATOS_PYTHON/_test//511.docx\n",
      "D:\\OneDrive - Ingenio Azucarero Guabira S.A\\_DATOS_PYTHON/_test//511.pdf\n"
     ]
    },
    {
     "data": {
      "application/vnd.jupyter.widget-view+json": {
       "model_id": "190c7a712c5b4285b400b158a4811a9c",
       "version_major": 2,
       "version_minor": 0
      },
      "text/plain": [
       "  0%|          | 0/1 [00:00<?, ?it/s]"
      ]
     },
     "metadata": {},
     "output_type": "display_data"
    },
    {
     "name": "stdout",
     "output_type": "stream",
     "text": [
      "CONVIRTIENDO... INFORME 381 D:\\OneDrive - Ingenio Azucarero Guabira S.A\\_DATOS_PYTHON/_test//513.docx\n",
      "D:\\OneDrive - Ingenio Azucarero Guabira S.A\\_DATOS_PYTHON/_test//513.docx\n",
      "D:\\OneDrive - Ingenio Azucarero Guabira S.A\\_DATOS_PYTHON/_test//513.pdf\n"
     ]
    },
    {
     "data": {
      "application/vnd.jupyter.widget-view+json": {
       "model_id": "3ce5f44b6db34205825140acc3b77161",
       "version_major": 2,
       "version_minor": 0
      },
      "text/plain": [
       "  0%|          | 0/1 [00:00<?, ?it/s]"
      ]
     },
     "metadata": {},
     "output_type": "display_data"
    },
    {
     "name": "stdout",
     "output_type": "stream",
     "text": [
      "CONVIRTIENDO... INFORME 382 D:\\OneDrive - Ingenio Azucarero Guabira S.A\\_DATOS_PYTHON/_test//514.docx\n",
      "D:\\OneDrive - Ingenio Azucarero Guabira S.A\\_DATOS_PYTHON/_test//514.docx\n",
      "D:\\OneDrive - Ingenio Azucarero Guabira S.A\\_DATOS_PYTHON/_test//514.pdf\n"
     ]
    },
    {
     "data": {
      "application/vnd.jupyter.widget-view+json": {
       "model_id": "b376935f8ac1482e90d99c631d0c3ec2",
       "version_major": 2,
       "version_minor": 0
      },
      "text/plain": [
       "  0%|          | 0/1 [00:00<?, ?it/s]"
      ]
     },
     "metadata": {},
     "output_type": "display_data"
    },
    {
     "name": "stdout",
     "output_type": "stream",
     "text": [
      "CONVIRTIENDO... INFORME 383 D:\\OneDrive - Ingenio Azucarero Guabira S.A\\_DATOS_PYTHON/_test//515.docx\n",
      "D:\\OneDrive - Ingenio Azucarero Guabira S.A\\_DATOS_PYTHON/_test//515.docx\n",
      "D:\\OneDrive - Ingenio Azucarero Guabira S.A\\_DATOS_PYTHON/_test//515.pdf\n"
     ]
    },
    {
     "data": {
      "application/vnd.jupyter.widget-view+json": {
       "model_id": "d4258d7aa4d04b87a6622a3dffb9887d",
       "version_major": 2,
       "version_minor": 0
      },
      "text/plain": [
       "  0%|          | 0/1 [00:00<?, ?it/s]"
      ]
     },
     "metadata": {},
     "output_type": "display_data"
    },
    {
     "name": "stdout",
     "output_type": "stream",
     "text": [
      "CONVIRTIENDO... INFORME 384 D:\\OneDrive - Ingenio Azucarero Guabira S.A\\_DATOS_PYTHON/_test//516.docx\n",
      "D:\\OneDrive - Ingenio Azucarero Guabira S.A\\_DATOS_PYTHON/_test//516.docx\n",
      "D:\\OneDrive - Ingenio Azucarero Guabira S.A\\_DATOS_PYTHON/_test//516.pdf\n"
     ]
    },
    {
     "data": {
      "application/vnd.jupyter.widget-view+json": {
       "model_id": "555a31af9a0146e7ad5c96e7616322ac",
       "version_major": 2,
       "version_minor": 0
      },
      "text/plain": [
       "  0%|          | 0/1 [00:00<?, ?it/s]"
      ]
     },
     "metadata": {},
     "output_type": "display_data"
    },
    {
     "name": "stdout",
     "output_type": "stream",
     "text": [
      "CONVIRTIENDO... INFORME 385 D:\\OneDrive - Ingenio Azucarero Guabira S.A\\_DATOS_PYTHON/_test//517.docx\n",
      "D:\\OneDrive - Ingenio Azucarero Guabira S.A\\_DATOS_PYTHON/_test//517.docx\n",
      "D:\\OneDrive - Ingenio Azucarero Guabira S.A\\_DATOS_PYTHON/_test//517.pdf\n"
     ]
    },
    {
     "data": {
      "application/vnd.jupyter.widget-view+json": {
       "model_id": "cbd365a07027434aaf9e3ab9c40f8652",
       "version_major": 2,
       "version_minor": 0
      },
      "text/plain": [
       "  0%|          | 0/1 [00:00<?, ?it/s]"
      ]
     },
     "metadata": {},
     "output_type": "display_data"
    },
    {
     "name": "stdout",
     "output_type": "stream",
     "text": [
      "CONVIRTIENDO... INFORME 386 D:\\OneDrive - Ingenio Azucarero Guabira S.A\\_DATOS_PYTHON/_test//518.docx\n",
      "D:\\OneDrive - Ingenio Azucarero Guabira S.A\\_DATOS_PYTHON/_test//518.docx\n",
      "D:\\OneDrive - Ingenio Azucarero Guabira S.A\\_DATOS_PYTHON/_test//518.pdf\n"
     ]
    },
    {
     "data": {
      "application/vnd.jupyter.widget-view+json": {
       "model_id": "5c1286eecf1046538de55b5f8a310863",
       "version_major": 2,
       "version_minor": 0
      },
      "text/plain": [
       "  0%|          | 0/1 [00:00<?, ?it/s]"
      ]
     },
     "metadata": {},
     "output_type": "display_data"
    },
    {
     "name": "stdout",
     "output_type": "stream",
     "text": [
      "CONVIRTIENDO... INFORME 387 D:\\OneDrive - Ingenio Azucarero Guabira S.A\\_DATOS_PYTHON/_test//519.docx\n",
      "D:\\OneDrive - Ingenio Azucarero Guabira S.A\\_DATOS_PYTHON/_test//519.docx\n",
      "D:\\OneDrive - Ingenio Azucarero Guabira S.A\\_DATOS_PYTHON/_test//519.pdf\n"
     ]
    },
    {
     "data": {
      "application/vnd.jupyter.widget-view+json": {
       "model_id": "206f64c6cf4847a9b7f40e78fba60f6c",
       "version_major": 2,
       "version_minor": 0
      },
      "text/plain": [
       "  0%|          | 0/1 [00:00<?, ?it/s]"
      ]
     },
     "metadata": {},
     "output_type": "display_data"
    },
    {
     "name": "stdout",
     "output_type": "stream",
     "text": [
      "CONVIRTIENDO... INFORME 388 D:\\OneDrive - Ingenio Azucarero Guabira S.A\\_DATOS_PYTHON/_test//52.docx\n",
      "D:\\OneDrive - Ingenio Azucarero Guabira S.A\\_DATOS_PYTHON/_test//52.docx\n",
      "D:\\OneDrive - Ingenio Azucarero Guabira S.A\\_DATOS_PYTHON/_test//52.pdf\n"
     ]
    },
    {
     "data": {
      "application/vnd.jupyter.widget-view+json": {
       "model_id": "ccf439049563473e8296240dadffb21f",
       "version_major": 2,
       "version_minor": 0
      },
      "text/plain": [
       "  0%|          | 0/1 [00:00<?, ?it/s]"
      ]
     },
     "metadata": {},
     "output_type": "display_data"
    },
    {
     "name": "stdout",
     "output_type": "stream",
     "text": [
      "CONVIRTIENDO... INFORME 389 D:\\OneDrive - Ingenio Azucarero Guabira S.A\\_DATOS_PYTHON/_test//520.docx\n",
      "D:\\OneDrive - Ingenio Azucarero Guabira S.A\\_DATOS_PYTHON/_test//520.docx\n",
      "D:\\OneDrive - Ingenio Azucarero Guabira S.A\\_DATOS_PYTHON/_test//520.pdf\n"
     ]
    },
    {
     "data": {
      "application/vnd.jupyter.widget-view+json": {
       "model_id": "e33fa8a9d907495e87ad1d569b2b121d",
       "version_major": 2,
       "version_minor": 0
      },
      "text/plain": [
       "  0%|          | 0/1 [00:00<?, ?it/s]"
      ]
     },
     "metadata": {},
     "output_type": "display_data"
    },
    {
     "name": "stdout",
     "output_type": "stream",
     "text": [
      "CONVIRTIENDO... INFORME 390 D:\\OneDrive - Ingenio Azucarero Guabira S.A\\_DATOS_PYTHON/_test//521.docx\n",
      "D:\\OneDrive - Ingenio Azucarero Guabira S.A\\_DATOS_PYTHON/_test//521.docx\n",
      "D:\\OneDrive - Ingenio Azucarero Guabira S.A\\_DATOS_PYTHON/_test//521.pdf\n"
     ]
    },
    {
     "data": {
      "application/vnd.jupyter.widget-view+json": {
       "model_id": "1071002581314636923a62a17a29b511",
       "version_major": 2,
       "version_minor": 0
      },
      "text/plain": [
       "  0%|          | 0/1 [00:00<?, ?it/s]"
      ]
     },
     "metadata": {},
     "output_type": "display_data"
    },
    {
     "name": "stdout",
     "output_type": "stream",
     "text": [
      "CONVIRTIENDO... INFORME 391 D:\\OneDrive - Ingenio Azucarero Guabira S.A\\_DATOS_PYTHON/_test//523.docx\n",
      "D:\\OneDrive - Ingenio Azucarero Guabira S.A\\_DATOS_PYTHON/_test//523.docx\n",
      "D:\\OneDrive - Ingenio Azucarero Guabira S.A\\_DATOS_PYTHON/_test//523.pdf\n"
     ]
    },
    {
     "data": {
      "application/vnd.jupyter.widget-view+json": {
       "model_id": "23e4f64c6d0c48268a98023178ea93e5",
       "version_major": 2,
       "version_minor": 0
      },
      "text/plain": [
       "  0%|          | 0/1 [00:00<?, ?it/s]"
      ]
     },
     "metadata": {},
     "output_type": "display_data"
    },
    {
     "name": "stdout",
     "output_type": "stream",
     "text": [
      "CONVIRTIENDO... INFORME 392 D:\\OneDrive - Ingenio Azucarero Guabira S.A\\_DATOS_PYTHON/_test//524.docx\n",
      "D:\\OneDrive - Ingenio Azucarero Guabira S.A\\_DATOS_PYTHON/_test//524.docx\n",
      "D:\\OneDrive - Ingenio Azucarero Guabira S.A\\_DATOS_PYTHON/_test//524.pdf\n"
     ]
    },
    {
     "data": {
      "application/vnd.jupyter.widget-view+json": {
       "model_id": "000c585a46904664bdea377137a68a30",
       "version_major": 2,
       "version_minor": 0
      },
      "text/plain": [
       "  0%|          | 0/1 [00:00<?, ?it/s]"
      ]
     },
     "metadata": {},
     "output_type": "display_data"
    },
    {
     "name": "stdout",
     "output_type": "stream",
     "text": [
      "CONVIRTIENDO... INFORME 393 D:\\OneDrive - Ingenio Azucarero Guabira S.A\\_DATOS_PYTHON/_test//525.docx\n",
      "D:\\OneDrive - Ingenio Azucarero Guabira S.A\\_DATOS_PYTHON/_test//525.docx\n",
      "D:\\OneDrive - Ingenio Azucarero Guabira S.A\\_DATOS_PYTHON/_test//525.pdf\n"
     ]
    },
    {
     "data": {
      "application/vnd.jupyter.widget-view+json": {
       "model_id": "17a8ca021959449e8aad08db6e2b2d64",
       "version_major": 2,
       "version_minor": 0
      },
      "text/plain": [
       "  0%|          | 0/1 [00:00<?, ?it/s]"
      ]
     },
     "metadata": {},
     "output_type": "display_data"
    },
    {
     "name": "stdout",
     "output_type": "stream",
     "text": [
      "CONVIRTIENDO... INFORME 394 D:\\OneDrive - Ingenio Azucarero Guabira S.A\\_DATOS_PYTHON/_test//54.docx\n",
      "D:\\OneDrive - Ingenio Azucarero Guabira S.A\\_DATOS_PYTHON/_test//54.docx\n",
      "D:\\OneDrive - Ingenio Azucarero Guabira S.A\\_DATOS_PYTHON/_test//54.pdf\n"
     ]
    },
    {
     "data": {
      "application/vnd.jupyter.widget-view+json": {
       "model_id": "9ce1484922e040f0afedc7cd04698d5c",
       "version_major": 2,
       "version_minor": 0
      },
      "text/plain": [
       "  0%|          | 0/1 [00:00<?, ?it/s]"
      ]
     },
     "metadata": {},
     "output_type": "display_data"
    },
    {
     "name": "stdout",
     "output_type": "stream",
     "text": [
      "CONVIRTIENDO... INFORME 395 D:\\OneDrive - Ingenio Azucarero Guabira S.A\\_DATOS_PYTHON/_test//55.docx\n",
      "D:\\OneDrive - Ingenio Azucarero Guabira S.A\\_DATOS_PYTHON/_test//55.docx\n",
      "D:\\OneDrive - Ingenio Azucarero Guabira S.A\\_DATOS_PYTHON/_test//55.pdf\n"
     ]
    },
    {
     "data": {
      "application/vnd.jupyter.widget-view+json": {
       "model_id": "7393249806ba43979357e1d9fb636fe6",
       "version_major": 2,
       "version_minor": 0
      },
      "text/plain": [
       "  0%|          | 0/1 [00:00<?, ?it/s]"
      ]
     },
     "metadata": {},
     "output_type": "display_data"
    },
    {
     "name": "stdout",
     "output_type": "stream",
     "text": [
      "CONVIRTIENDO... INFORME 396 D:\\OneDrive - Ingenio Azucarero Guabira S.A\\_DATOS_PYTHON/_test//56.docx\n",
      "D:\\OneDrive - Ingenio Azucarero Guabira S.A\\_DATOS_PYTHON/_test//56.docx\n",
      "D:\\OneDrive - Ingenio Azucarero Guabira S.A\\_DATOS_PYTHON/_test//56.pdf\n"
     ]
    },
    {
     "data": {
      "application/vnd.jupyter.widget-view+json": {
       "model_id": "a3b06ea1c020422c857b27e47808243f",
       "version_major": 2,
       "version_minor": 0
      },
      "text/plain": [
       "  0%|          | 0/1 [00:00<?, ?it/s]"
      ]
     },
     "metadata": {},
     "output_type": "display_data"
    },
    {
     "name": "stdout",
     "output_type": "stream",
     "text": [
      "CONVIRTIENDO... INFORME 397 D:\\OneDrive - Ingenio Azucarero Guabira S.A\\_DATOS_PYTHON/_test//57.docx\n",
      "D:\\OneDrive - Ingenio Azucarero Guabira S.A\\_DATOS_PYTHON/_test//57.docx\n",
      "D:\\OneDrive - Ingenio Azucarero Guabira S.A\\_DATOS_PYTHON/_test//57.pdf\n"
     ]
    },
    {
     "data": {
      "application/vnd.jupyter.widget-view+json": {
       "model_id": "df99aa6f4df6497892f1fc29dde91afa",
       "version_major": 2,
       "version_minor": 0
      },
      "text/plain": [
       "  0%|          | 0/1 [00:00<?, ?it/s]"
      ]
     },
     "metadata": {},
     "output_type": "display_data"
    },
    {
     "name": "stdout",
     "output_type": "stream",
     "text": [
      "CONVIRTIENDO... INFORME 398 D:\\OneDrive - Ingenio Azucarero Guabira S.A\\_DATOS_PYTHON/_test//58.docx\n",
      "D:\\OneDrive - Ingenio Azucarero Guabira S.A\\_DATOS_PYTHON/_test//58.docx\n",
      "D:\\OneDrive - Ingenio Azucarero Guabira S.A\\_DATOS_PYTHON/_test//58.pdf\n"
     ]
    },
    {
     "data": {
      "application/vnd.jupyter.widget-view+json": {
       "model_id": "d5a6e454b3d242058fffbc9321b1480c",
       "version_major": 2,
       "version_minor": 0
      },
      "text/plain": [
       "  0%|          | 0/1 [00:00<?, ?it/s]"
      ]
     },
     "metadata": {},
     "output_type": "display_data"
    },
    {
     "name": "stdout",
     "output_type": "stream",
     "text": [
      "CONVIRTIENDO... INFORME 399 D:\\OneDrive - Ingenio Azucarero Guabira S.A\\_DATOS_PYTHON/_test//59.docx\n",
      "D:\\OneDrive - Ingenio Azucarero Guabira S.A\\_DATOS_PYTHON/_test//59.docx\n",
      "D:\\OneDrive - Ingenio Azucarero Guabira S.A\\_DATOS_PYTHON/_test//59.pdf\n"
     ]
    },
    {
     "data": {
      "application/vnd.jupyter.widget-view+json": {
       "model_id": "63ce8c05322d44a99086b1d82a4e4f5b",
       "version_major": 2,
       "version_minor": 0
      },
      "text/plain": [
       "  0%|          | 0/1 [00:00<?, ?it/s]"
      ]
     },
     "metadata": {},
     "output_type": "display_data"
    },
    {
     "name": "stdout",
     "output_type": "stream",
     "text": [
      "CONVIRTIENDO... INFORME 400 D:\\OneDrive - Ingenio Azucarero Guabira S.A\\_DATOS_PYTHON/_test//6.docx\n",
      "D:\\OneDrive - Ingenio Azucarero Guabira S.A\\_DATOS_PYTHON/_test//6.docx\n",
      "D:\\OneDrive - Ingenio Azucarero Guabira S.A\\_DATOS_PYTHON/_test//6.pdf\n"
     ]
    },
    {
     "data": {
      "application/vnd.jupyter.widget-view+json": {
       "model_id": "9457562850794ea5a2bd7c8a701e9d0b",
       "version_major": 2,
       "version_minor": 0
      },
      "text/plain": [
       "  0%|          | 0/1 [00:00<?, ?it/s]"
      ]
     },
     "metadata": {},
     "output_type": "display_data"
    },
    {
     "name": "stdout",
     "output_type": "stream",
     "text": [
      "CONVIRTIENDO... INFORME 401 D:\\OneDrive - Ingenio Azucarero Guabira S.A\\_DATOS_PYTHON/_test//60.docx\n",
      "D:\\OneDrive - Ingenio Azucarero Guabira S.A\\_DATOS_PYTHON/_test//60.docx\n",
      "D:\\OneDrive - Ingenio Azucarero Guabira S.A\\_DATOS_PYTHON/_test//60.pdf\n"
     ]
    },
    {
     "data": {
      "application/vnd.jupyter.widget-view+json": {
       "model_id": "2b354b3e17444743abe6e9b7918994a9",
       "version_major": 2,
       "version_minor": 0
      },
      "text/plain": [
       "  0%|          | 0/1 [00:00<?, ?it/s]"
      ]
     },
     "metadata": {},
     "output_type": "display_data"
    },
    {
     "name": "stdout",
     "output_type": "stream",
     "text": [
      "CONVIRTIENDO... INFORME 402 D:\\OneDrive - Ingenio Azucarero Guabira S.A\\_DATOS_PYTHON/_test//61.docx\n",
      "D:\\OneDrive - Ingenio Azucarero Guabira S.A\\_DATOS_PYTHON/_test//61.docx\n",
      "D:\\OneDrive - Ingenio Azucarero Guabira S.A\\_DATOS_PYTHON/_test//61.pdf\n"
     ]
    },
    {
     "data": {
      "application/vnd.jupyter.widget-view+json": {
       "model_id": "023a3daab81e45579d18b12866d00275",
       "version_major": 2,
       "version_minor": 0
      },
      "text/plain": [
       "  0%|          | 0/1 [00:00<?, ?it/s]"
      ]
     },
     "metadata": {},
     "output_type": "display_data"
    },
    {
     "name": "stdout",
     "output_type": "stream",
     "text": [
      "CONVIRTIENDO... INFORME 403 D:\\OneDrive - Ingenio Azucarero Guabira S.A\\_DATOS_PYTHON/_test//62.docx\n",
      "D:\\OneDrive - Ingenio Azucarero Guabira S.A\\_DATOS_PYTHON/_test//62.docx\n",
      "D:\\OneDrive - Ingenio Azucarero Guabira S.A\\_DATOS_PYTHON/_test//62.pdf\n"
     ]
    },
    {
     "data": {
      "application/vnd.jupyter.widget-view+json": {
       "model_id": "b8295e9b7f3741ffba7c7506157ee4f8",
       "version_major": 2,
       "version_minor": 0
      },
      "text/plain": [
       "  0%|          | 0/1 [00:00<?, ?it/s]"
      ]
     },
     "metadata": {},
     "output_type": "display_data"
    },
    {
     "name": "stdout",
     "output_type": "stream",
     "text": [
      "CONVIRTIENDO... INFORME 404 D:\\OneDrive - Ingenio Azucarero Guabira S.A\\_DATOS_PYTHON/_test//63.docx\n",
      "D:\\OneDrive - Ingenio Azucarero Guabira S.A\\_DATOS_PYTHON/_test//63.docx\n",
      "D:\\OneDrive - Ingenio Azucarero Guabira S.A\\_DATOS_PYTHON/_test//63.pdf\n"
     ]
    },
    {
     "data": {
      "application/vnd.jupyter.widget-view+json": {
       "model_id": "335c88324848445e8448039cc1cdae16",
       "version_major": 2,
       "version_minor": 0
      },
      "text/plain": [
       "  0%|          | 0/1 [00:00<?, ?it/s]"
      ]
     },
     "metadata": {},
     "output_type": "display_data"
    },
    {
     "name": "stdout",
     "output_type": "stream",
     "text": [
      "CONVIRTIENDO... INFORME 405 D:\\OneDrive - Ingenio Azucarero Guabira S.A\\_DATOS_PYTHON/_test//64.docx\n",
      "D:\\OneDrive - Ingenio Azucarero Guabira S.A\\_DATOS_PYTHON/_test//64.docx\n",
      "D:\\OneDrive - Ingenio Azucarero Guabira S.A\\_DATOS_PYTHON/_test//64.pdf\n"
     ]
    },
    {
     "data": {
      "application/vnd.jupyter.widget-view+json": {
       "model_id": "30c88ea0c86843debecd9a884d502c33",
       "version_major": 2,
       "version_minor": 0
      },
      "text/plain": [
       "  0%|          | 0/1 [00:00<?, ?it/s]"
      ]
     },
     "metadata": {},
     "output_type": "display_data"
    },
    {
     "name": "stdout",
     "output_type": "stream",
     "text": [
      "CONVIRTIENDO... INFORME 406 D:\\OneDrive - Ingenio Azucarero Guabira S.A\\_DATOS_PYTHON/_test//65.docx\n",
      "D:\\OneDrive - Ingenio Azucarero Guabira S.A\\_DATOS_PYTHON/_test//65.docx\n",
      "D:\\OneDrive - Ingenio Azucarero Guabira S.A\\_DATOS_PYTHON/_test//65.pdf\n"
     ]
    },
    {
     "data": {
      "application/vnd.jupyter.widget-view+json": {
       "model_id": "fd9d83996a5447bf8de7619a670d0899",
       "version_major": 2,
       "version_minor": 0
      },
      "text/plain": [
       "  0%|          | 0/1 [00:00<?, ?it/s]"
      ]
     },
     "metadata": {},
     "output_type": "display_data"
    },
    {
     "name": "stdout",
     "output_type": "stream",
     "text": [
      "CONVIRTIENDO... INFORME 407 D:\\OneDrive - Ingenio Azucarero Guabira S.A\\_DATOS_PYTHON/_test//67.docx\n",
      "D:\\OneDrive - Ingenio Azucarero Guabira S.A\\_DATOS_PYTHON/_test//67.docx\n",
      "D:\\OneDrive - Ingenio Azucarero Guabira S.A\\_DATOS_PYTHON/_test//67.pdf\n"
     ]
    },
    {
     "data": {
      "application/vnd.jupyter.widget-view+json": {
       "model_id": "64b1606532314ad6ac5f676a9a78c4c1",
       "version_major": 2,
       "version_minor": 0
      },
      "text/plain": [
       "  0%|          | 0/1 [00:00<?, ?it/s]"
      ]
     },
     "metadata": {},
     "output_type": "display_data"
    },
    {
     "name": "stdout",
     "output_type": "stream",
     "text": [
      "CONVIRTIENDO... INFORME 408 D:\\OneDrive - Ingenio Azucarero Guabira S.A\\_DATOS_PYTHON/_test//68.docx\n",
      "D:\\OneDrive - Ingenio Azucarero Guabira S.A\\_DATOS_PYTHON/_test//68.docx\n",
      "D:\\OneDrive - Ingenio Azucarero Guabira S.A\\_DATOS_PYTHON/_test//68.pdf\n"
     ]
    },
    {
     "data": {
      "application/vnd.jupyter.widget-view+json": {
       "model_id": "3ba5e2c323774f92ba36502a1151a0e2",
       "version_major": 2,
       "version_minor": 0
      },
      "text/plain": [
       "  0%|          | 0/1 [00:00<?, ?it/s]"
      ]
     },
     "metadata": {},
     "output_type": "display_data"
    },
    {
     "name": "stdout",
     "output_type": "stream",
     "text": [
      "CONVIRTIENDO... INFORME 409 D:\\OneDrive - Ingenio Azucarero Guabira S.A\\_DATOS_PYTHON/_test//69.docx\n",
      "D:\\OneDrive - Ingenio Azucarero Guabira S.A\\_DATOS_PYTHON/_test//69.docx\n",
      "D:\\OneDrive - Ingenio Azucarero Guabira S.A\\_DATOS_PYTHON/_test//69.pdf\n"
     ]
    },
    {
     "data": {
      "application/vnd.jupyter.widget-view+json": {
       "model_id": "78977ea8796148bd86e258891c6b72ba",
       "version_major": 2,
       "version_minor": 0
      },
      "text/plain": [
       "  0%|          | 0/1 [00:00<?, ?it/s]"
      ]
     },
     "metadata": {},
     "output_type": "display_data"
    },
    {
     "name": "stdout",
     "output_type": "stream",
     "text": [
      "CONVIRTIENDO... INFORME 410 D:\\OneDrive - Ingenio Azucarero Guabira S.A\\_DATOS_PYTHON/_test//7.docx\n",
      "D:\\OneDrive - Ingenio Azucarero Guabira S.A\\_DATOS_PYTHON/_test//7.docx\n",
      "D:\\OneDrive - Ingenio Azucarero Guabira S.A\\_DATOS_PYTHON/_test//7.pdf\n"
     ]
    },
    {
     "data": {
      "application/vnd.jupyter.widget-view+json": {
       "model_id": "8420d5f238174bdeba6bd75f3c056304",
       "version_major": 2,
       "version_minor": 0
      },
      "text/plain": [
       "  0%|          | 0/1 [00:00<?, ?it/s]"
      ]
     },
     "metadata": {},
     "output_type": "display_data"
    },
    {
     "name": "stdout",
     "output_type": "stream",
     "text": [
      "CONVIRTIENDO... INFORME 411 D:\\OneDrive - Ingenio Azucarero Guabira S.A\\_DATOS_PYTHON/_test//70.docx\n",
      "D:\\OneDrive - Ingenio Azucarero Guabira S.A\\_DATOS_PYTHON/_test//70.docx\n",
      "D:\\OneDrive - Ingenio Azucarero Guabira S.A\\_DATOS_PYTHON/_test//70.pdf\n"
     ]
    },
    {
     "data": {
      "application/vnd.jupyter.widget-view+json": {
       "model_id": "7925844c4c304deda6354703bd5bff25",
       "version_major": 2,
       "version_minor": 0
      },
      "text/plain": [
       "  0%|          | 0/1 [00:00<?, ?it/s]"
      ]
     },
     "metadata": {},
     "output_type": "display_data"
    },
    {
     "name": "stdout",
     "output_type": "stream",
     "text": [
      "CONVIRTIENDO... INFORME 412 D:\\OneDrive - Ingenio Azucarero Guabira S.A\\_DATOS_PYTHON/_test//71.docx\n",
      "D:\\OneDrive - Ingenio Azucarero Guabira S.A\\_DATOS_PYTHON/_test//71.docx\n",
      "D:\\OneDrive - Ingenio Azucarero Guabira S.A\\_DATOS_PYTHON/_test//71.pdf\n"
     ]
    },
    {
     "data": {
      "application/vnd.jupyter.widget-view+json": {
       "model_id": "4c57db0b494e4301b64f6deab0ea5a56",
       "version_major": 2,
       "version_minor": 0
      },
      "text/plain": [
       "  0%|          | 0/1 [00:00<?, ?it/s]"
      ]
     },
     "metadata": {},
     "output_type": "display_data"
    },
    {
     "name": "stdout",
     "output_type": "stream",
     "text": [
      "CONVIRTIENDO... INFORME 413 D:\\OneDrive - Ingenio Azucarero Guabira S.A\\_DATOS_PYTHON/_test//72.docx\n",
      "D:\\OneDrive - Ingenio Azucarero Guabira S.A\\_DATOS_PYTHON/_test//72.docx\n",
      "D:\\OneDrive - Ingenio Azucarero Guabira S.A\\_DATOS_PYTHON/_test//72.pdf\n"
     ]
    },
    {
     "data": {
      "application/vnd.jupyter.widget-view+json": {
       "model_id": "7153b9fed62040b7921070fec850f3a0",
       "version_major": 2,
       "version_minor": 0
      },
      "text/plain": [
       "  0%|          | 0/1 [00:00<?, ?it/s]"
      ]
     },
     "metadata": {},
     "output_type": "display_data"
    },
    {
     "name": "stdout",
     "output_type": "stream",
     "text": [
      "CONVIRTIENDO... INFORME 414 D:\\OneDrive - Ingenio Azucarero Guabira S.A\\_DATOS_PYTHON/_test//73.docx\n",
      "D:\\OneDrive - Ingenio Azucarero Guabira S.A\\_DATOS_PYTHON/_test//73.docx\n",
      "D:\\OneDrive - Ingenio Azucarero Guabira S.A\\_DATOS_PYTHON/_test//73.pdf\n"
     ]
    },
    {
     "data": {
      "application/vnd.jupyter.widget-view+json": {
       "model_id": "065a351438964c08888cc91212e4ff18",
       "version_major": 2,
       "version_minor": 0
      },
      "text/plain": [
       "  0%|          | 0/1 [00:00<?, ?it/s]"
      ]
     },
     "metadata": {},
     "output_type": "display_data"
    },
    {
     "name": "stdout",
     "output_type": "stream",
     "text": [
      "CONVIRTIENDO... INFORME 415 D:\\OneDrive - Ingenio Azucarero Guabira S.A\\_DATOS_PYTHON/_test//74.docx\n",
      "D:\\OneDrive - Ingenio Azucarero Guabira S.A\\_DATOS_PYTHON/_test//74.docx\n",
      "D:\\OneDrive - Ingenio Azucarero Guabira S.A\\_DATOS_PYTHON/_test//74.pdf\n"
     ]
    },
    {
     "data": {
      "application/vnd.jupyter.widget-view+json": {
       "model_id": "d745509228494c8b9d96940cc05dca96",
       "version_major": 2,
       "version_minor": 0
      },
      "text/plain": [
       "  0%|          | 0/1 [00:00<?, ?it/s]"
      ]
     },
     "metadata": {},
     "output_type": "display_data"
    },
    {
     "name": "stdout",
     "output_type": "stream",
     "text": [
      "CONVIRTIENDO... INFORME 416 D:\\OneDrive - Ingenio Azucarero Guabira S.A\\_DATOS_PYTHON/_test//75.docx\n",
      "D:\\OneDrive - Ingenio Azucarero Guabira S.A\\_DATOS_PYTHON/_test//75.docx\n",
      "D:\\OneDrive - Ingenio Azucarero Guabira S.A\\_DATOS_PYTHON/_test//75.pdf\n"
     ]
    },
    {
     "data": {
      "application/vnd.jupyter.widget-view+json": {
       "model_id": "2db41429c1634ca5aabe9402bd4f1586",
       "version_major": 2,
       "version_minor": 0
      },
      "text/plain": [
       "  0%|          | 0/1 [00:00<?, ?it/s]"
      ]
     },
     "metadata": {},
     "output_type": "display_data"
    },
    {
     "name": "stdout",
     "output_type": "stream",
     "text": [
      "CONVIRTIENDO... INFORME 417 D:\\OneDrive - Ingenio Azucarero Guabira S.A\\_DATOS_PYTHON/_test//76.docx\n",
      "D:\\OneDrive - Ingenio Azucarero Guabira S.A\\_DATOS_PYTHON/_test//76.docx\n",
      "D:\\OneDrive - Ingenio Azucarero Guabira S.A\\_DATOS_PYTHON/_test//76.pdf\n"
     ]
    },
    {
     "data": {
      "application/vnd.jupyter.widget-view+json": {
       "model_id": "21a75efd156b4855bb37f1b51c7f4200",
       "version_major": 2,
       "version_minor": 0
      },
      "text/plain": [
       "  0%|          | 0/1 [00:00<?, ?it/s]"
      ]
     },
     "metadata": {},
     "output_type": "display_data"
    },
    {
     "name": "stdout",
     "output_type": "stream",
     "text": [
      "CONVIRTIENDO... INFORME 418 D:\\OneDrive - Ingenio Azucarero Guabira S.A\\_DATOS_PYTHON/_test//77.docx\n",
      "D:\\OneDrive - Ingenio Azucarero Guabira S.A\\_DATOS_PYTHON/_test//77.docx\n",
      "D:\\OneDrive - Ingenio Azucarero Guabira S.A\\_DATOS_PYTHON/_test//77.pdf\n"
     ]
    },
    {
     "data": {
      "application/vnd.jupyter.widget-view+json": {
       "model_id": "e64df678997a4ca6b3a200772f26d6c7",
       "version_major": 2,
       "version_minor": 0
      },
      "text/plain": [
       "  0%|          | 0/1 [00:00<?, ?it/s]"
      ]
     },
     "metadata": {},
     "output_type": "display_data"
    },
    {
     "name": "stdout",
     "output_type": "stream",
     "text": [
      "CONVIRTIENDO... INFORME 419 D:\\OneDrive - Ingenio Azucarero Guabira S.A\\_DATOS_PYTHON/_test//78.docx\n",
      "D:\\OneDrive - Ingenio Azucarero Guabira S.A\\_DATOS_PYTHON/_test//78.docx\n",
      "D:\\OneDrive - Ingenio Azucarero Guabira S.A\\_DATOS_PYTHON/_test//78.pdf\n"
     ]
    },
    {
     "data": {
      "application/vnd.jupyter.widget-view+json": {
       "model_id": "feb452a4377041fd89603562b6737b9e",
       "version_major": 2,
       "version_minor": 0
      },
      "text/plain": [
       "  0%|          | 0/1 [00:00<?, ?it/s]"
      ]
     },
     "metadata": {},
     "output_type": "display_data"
    },
    {
     "name": "stdout",
     "output_type": "stream",
     "text": [
      "CONVIRTIENDO... INFORME 420 D:\\OneDrive - Ingenio Azucarero Guabira S.A\\_DATOS_PYTHON/_test//79.docx\n",
      "D:\\OneDrive - Ingenio Azucarero Guabira S.A\\_DATOS_PYTHON/_test//79.docx\n",
      "D:\\OneDrive - Ingenio Azucarero Guabira S.A\\_DATOS_PYTHON/_test//79.pdf\n"
     ]
    },
    {
     "data": {
      "application/vnd.jupyter.widget-view+json": {
       "model_id": "ef9a14f173824d26b022e01af75c01fc",
       "version_major": 2,
       "version_minor": 0
      },
      "text/plain": [
       "  0%|          | 0/1 [00:00<?, ?it/s]"
      ]
     },
     "metadata": {},
     "output_type": "display_data"
    },
    {
     "name": "stdout",
     "output_type": "stream",
     "text": [
      "CONVIRTIENDO... INFORME 421 D:\\OneDrive - Ingenio Azucarero Guabira S.A\\_DATOS_PYTHON/_test//8.docx\n",
      "D:\\OneDrive - Ingenio Azucarero Guabira S.A\\_DATOS_PYTHON/_test//8.docx\n",
      "D:\\OneDrive - Ingenio Azucarero Guabira S.A\\_DATOS_PYTHON/_test//8.pdf\n"
     ]
    },
    {
     "data": {
      "application/vnd.jupyter.widget-view+json": {
       "model_id": "044e6f2d40604912b1a0ff355b970380",
       "version_major": 2,
       "version_minor": 0
      },
      "text/plain": [
       "  0%|          | 0/1 [00:00<?, ?it/s]"
      ]
     },
     "metadata": {},
     "output_type": "display_data"
    },
    {
     "name": "stdout",
     "output_type": "stream",
     "text": [
      "CONVIRTIENDO... INFORME 422 D:\\OneDrive - Ingenio Azucarero Guabira S.A\\_DATOS_PYTHON/_test//80.docx\n",
      "D:\\OneDrive - Ingenio Azucarero Guabira S.A\\_DATOS_PYTHON/_test//80.docx\n",
      "D:\\OneDrive - Ingenio Azucarero Guabira S.A\\_DATOS_PYTHON/_test//80.pdf\n"
     ]
    },
    {
     "data": {
      "application/vnd.jupyter.widget-view+json": {
       "model_id": "d1716bf3e5f14ca5a754b8df5f2c2c34",
       "version_major": 2,
       "version_minor": 0
      },
      "text/plain": [
       "  0%|          | 0/1 [00:00<?, ?it/s]"
      ]
     },
     "metadata": {},
     "output_type": "display_data"
    },
    {
     "name": "stdout",
     "output_type": "stream",
     "text": [
      "CONVIRTIENDO... INFORME 423 D:\\OneDrive - Ingenio Azucarero Guabira S.A\\_DATOS_PYTHON/_test//81.docx\n",
      "D:\\OneDrive - Ingenio Azucarero Guabira S.A\\_DATOS_PYTHON/_test//81.docx\n",
      "D:\\OneDrive - Ingenio Azucarero Guabira S.A\\_DATOS_PYTHON/_test//81.pdf\n"
     ]
    },
    {
     "data": {
      "application/vnd.jupyter.widget-view+json": {
       "model_id": "41214f650f2d4492829b3ff7497f60d7",
       "version_major": 2,
       "version_minor": 0
      },
      "text/plain": [
       "  0%|          | 0/1 [00:00<?, ?it/s]"
      ]
     },
     "metadata": {},
     "output_type": "display_data"
    },
    {
     "name": "stdout",
     "output_type": "stream",
     "text": [
      "CONVIRTIENDO... INFORME 424 D:\\OneDrive - Ingenio Azucarero Guabira S.A\\_DATOS_PYTHON/_test//82.docx\n",
      "D:\\OneDrive - Ingenio Azucarero Guabira S.A\\_DATOS_PYTHON/_test//82.docx\n",
      "D:\\OneDrive - Ingenio Azucarero Guabira S.A\\_DATOS_PYTHON/_test//82.pdf\n"
     ]
    },
    {
     "data": {
      "application/vnd.jupyter.widget-view+json": {
       "model_id": "da8664a964a849d3a125d12065dc03b2",
       "version_major": 2,
       "version_minor": 0
      },
      "text/plain": [
       "  0%|          | 0/1 [00:00<?, ?it/s]"
      ]
     },
     "metadata": {},
     "output_type": "display_data"
    },
    {
     "name": "stdout",
     "output_type": "stream",
     "text": [
      "CONVIRTIENDO... INFORME 425 D:\\OneDrive - Ingenio Azucarero Guabira S.A\\_DATOS_PYTHON/_test//83.docx\n",
      "D:\\OneDrive - Ingenio Azucarero Guabira S.A\\_DATOS_PYTHON/_test//83.docx\n",
      "D:\\OneDrive - Ingenio Azucarero Guabira S.A\\_DATOS_PYTHON/_test//83.pdf\n"
     ]
    },
    {
     "data": {
      "application/vnd.jupyter.widget-view+json": {
       "model_id": "3c9c2c918d84428ea24e6e5f3dd5af5b",
       "version_major": 2,
       "version_minor": 0
      },
      "text/plain": [
       "  0%|          | 0/1 [00:00<?, ?it/s]"
      ]
     },
     "metadata": {},
     "output_type": "display_data"
    },
    {
     "name": "stdout",
     "output_type": "stream",
     "text": [
      "CONVIRTIENDO... INFORME 426 D:\\OneDrive - Ingenio Azucarero Guabira S.A\\_DATOS_PYTHON/_test//84.docx\n",
      "D:\\OneDrive - Ingenio Azucarero Guabira S.A\\_DATOS_PYTHON/_test//84.docx\n",
      "D:\\OneDrive - Ingenio Azucarero Guabira S.A\\_DATOS_PYTHON/_test//84.pdf\n"
     ]
    },
    {
     "data": {
      "application/vnd.jupyter.widget-view+json": {
       "model_id": "cdaa5ebb09c84fd2a37749f0855264e4",
       "version_major": 2,
       "version_minor": 0
      },
      "text/plain": [
       "  0%|          | 0/1 [00:00<?, ?it/s]"
      ]
     },
     "metadata": {},
     "output_type": "display_data"
    },
    {
     "name": "stdout",
     "output_type": "stream",
     "text": [
      "CONVIRTIENDO... INFORME 427 D:\\OneDrive - Ingenio Azucarero Guabira S.A\\_DATOS_PYTHON/_test//85.docx\n",
      "D:\\OneDrive - Ingenio Azucarero Guabira S.A\\_DATOS_PYTHON/_test//85.docx\n",
      "D:\\OneDrive - Ingenio Azucarero Guabira S.A\\_DATOS_PYTHON/_test//85.pdf\n"
     ]
    },
    {
     "data": {
      "application/vnd.jupyter.widget-view+json": {
       "model_id": "8288b91ebce648fc825c6346f16a9f5f",
       "version_major": 2,
       "version_minor": 0
      },
      "text/plain": [
       "  0%|          | 0/1 [00:00<?, ?it/s]"
      ]
     },
     "metadata": {},
     "output_type": "display_data"
    },
    {
     "name": "stdout",
     "output_type": "stream",
     "text": [
      "CONVIRTIENDO... INFORME 428 D:\\OneDrive - Ingenio Azucarero Guabira S.A\\_DATOS_PYTHON/_test//86.docx\n",
      "D:\\OneDrive - Ingenio Azucarero Guabira S.A\\_DATOS_PYTHON/_test//86.docx\n",
      "D:\\OneDrive - Ingenio Azucarero Guabira S.A\\_DATOS_PYTHON/_test//86.pdf\n"
     ]
    },
    {
     "data": {
      "application/vnd.jupyter.widget-view+json": {
       "model_id": "a99ec89250f540df85730bb17584b9f4",
       "version_major": 2,
       "version_minor": 0
      },
      "text/plain": [
       "  0%|          | 0/1 [00:00<?, ?it/s]"
      ]
     },
     "metadata": {},
     "output_type": "display_data"
    },
    {
     "name": "stdout",
     "output_type": "stream",
     "text": [
      "CONVIRTIENDO... INFORME 429 D:\\OneDrive - Ingenio Azucarero Guabira S.A\\_DATOS_PYTHON/_test//87.docx\n",
      "D:\\OneDrive - Ingenio Azucarero Guabira S.A\\_DATOS_PYTHON/_test//87.docx\n",
      "D:\\OneDrive - Ingenio Azucarero Guabira S.A\\_DATOS_PYTHON/_test//87.pdf\n"
     ]
    },
    {
     "data": {
      "application/vnd.jupyter.widget-view+json": {
       "model_id": "722b21b179c6406ea0ef4b3ca699dd32",
       "version_major": 2,
       "version_minor": 0
      },
      "text/plain": [
       "  0%|          | 0/1 [00:00<?, ?it/s]"
      ]
     },
     "metadata": {},
     "output_type": "display_data"
    },
    {
     "name": "stdout",
     "output_type": "stream",
     "text": [
      "CONVIRTIENDO... INFORME 430 D:\\OneDrive - Ingenio Azucarero Guabira S.A\\_DATOS_PYTHON/_test//88.docx\n",
      "D:\\OneDrive - Ingenio Azucarero Guabira S.A\\_DATOS_PYTHON/_test//88.docx\n",
      "D:\\OneDrive - Ingenio Azucarero Guabira S.A\\_DATOS_PYTHON/_test//88.pdf\n"
     ]
    },
    {
     "data": {
      "application/vnd.jupyter.widget-view+json": {
       "model_id": "c42f8a1e487745c39673eaf37894cae1",
       "version_major": 2,
       "version_minor": 0
      },
      "text/plain": [
       "  0%|          | 0/1 [00:00<?, ?it/s]"
      ]
     },
     "metadata": {},
     "output_type": "display_data"
    },
    {
     "name": "stdout",
     "output_type": "stream",
     "text": [
      "CONVIRTIENDO... INFORME 431 D:\\OneDrive - Ingenio Azucarero Guabira S.A\\_DATOS_PYTHON/_test//89.docx\n",
      "D:\\OneDrive - Ingenio Azucarero Guabira S.A\\_DATOS_PYTHON/_test//89.docx\n",
      "D:\\OneDrive - Ingenio Azucarero Guabira S.A\\_DATOS_PYTHON/_test//89.pdf\n"
     ]
    },
    {
     "data": {
      "application/vnd.jupyter.widget-view+json": {
       "model_id": "654b55e495574822af0a3108d642085d",
       "version_major": 2,
       "version_minor": 0
      },
      "text/plain": [
       "  0%|          | 0/1 [00:00<?, ?it/s]"
      ]
     },
     "metadata": {},
     "output_type": "display_data"
    },
    {
     "name": "stdout",
     "output_type": "stream",
     "text": [
      "CONVIRTIENDO... INFORME 432 D:\\OneDrive - Ingenio Azucarero Guabira S.A\\_DATOS_PYTHON/_test//9.docx\n",
      "D:\\OneDrive - Ingenio Azucarero Guabira S.A\\_DATOS_PYTHON/_test//9.docx\n",
      "D:\\OneDrive - Ingenio Azucarero Guabira S.A\\_DATOS_PYTHON/_test//9.pdf\n"
     ]
    },
    {
     "data": {
      "application/vnd.jupyter.widget-view+json": {
       "model_id": "d7e0772c76f3454bba1bc72a66336289",
       "version_major": 2,
       "version_minor": 0
      },
      "text/plain": [
       "  0%|          | 0/1 [00:00<?, ?it/s]"
      ]
     },
     "metadata": {},
     "output_type": "display_data"
    },
    {
     "name": "stdout",
     "output_type": "stream",
     "text": [
      "CONVIRTIENDO... INFORME 433 D:\\OneDrive - Ingenio Azucarero Guabira S.A\\_DATOS_PYTHON/_test//90.docx\n",
      "D:\\OneDrive - Ingenio Azucarero Guabira S.A\\_DATOS_PYTHON/_test//90.docx\n",
      "D:\\OneDrive - Ingenio Azucarero Guabira S.A\\_DATOS_PYTHON/_test//90.pdf\n"
     ]
    },
    {
     "data": {
      "application/vnd.jupyter.widget-view+json": {
       "model_id": "0bc86746f47245b2acbf06e78be9210b",
       "version_major": 2,
       "version_minor": 0
      },
      "text/plain": [
       "  0%|          | 0/1 [00:00<?, ?it/s]"
      ]
     },
     "metadata": {},
     "output_type": "display_data"
    },
    {
     "name": "stdout",
     "output_type": "stream",
     "text": [
      "CONVIRTIENDO... INFORME 434 D:\\OneDrive - Ingenio Azucarero Guabira S.A\\_DATOS_PYTHON/_test//91.docx\n",
      "D:\\OneDrive - Ingenio Azucarero Guabira S.A\\_DATOS_PYTHON/_test//91.docx\n",
      "D:\\OneDrive - Ingenio Azucarero Guabira S.A\\_DATOS_PYTHON/_test//91.pdf\n"
     ]
    },
    {
     "data": {
      "application/vnd.jupyter.widget-view+json": {
       "model_id": "4aac0c4d380e4a6db7ce697d777108e1",
       "version_major": 2,
       "version_minor": 0
      },
      "text/plain": [
       "  0%|          | 0/1 [00:00<?, ?it/s]"
      ]
     },
     "metadata": {},
     "output_type": "display_data"
    },
    {
     "name": "stdout",
     "output_type": "stream",
     "text": [
      "CONVIRTIENDO... INFORME 435 D:\\OneDrive - Ingenio Azucarero Guabira S.A\\_DATOS_PYTHON/_test//92.docx\n",
      "D:\\OneDrive - Ingenio Azucarero Guabira S.A\\_DATOS_PYTHON/_test//92.docx\n",
      "D:\\OneDrive - Ingenio Azucarero Guabira S.A\\_DATOS_PYTHON/_test//92.pdf\n"
     ]
    },
    {
     "data": {
      "application/vnd.jupyter.widget-view+json": {
       "model_id": "43b8009885ef4ab7bafd6f1eff72f971",
       "version_major": 2,
       "version_minor": 0
      },
      "text/plain": [
       "  0%|          | 0/1 [00:00<?, ?it/s]"
      ]
     },
     "metadata": {},
     "output_type": "display_data"
    },
    {
     "name": "stdout",
     "output_type": "stream",
     "text": [
      "CONVIRTIENDO... INFORME 436 D:\\OneDrive - Ingenio Azucarero Guabira S.A\\_DATOS_PYTHON/_test//93.docx\n",
      "D:\\OneDrive - Ingenio Azucarero Guabira S.A\\_DATOS_PYTHON/_test//93.docx\n",
      "D:\\OneDrive - Ingenio Azucarero Guabira S.A\\_DATOS_PYTHON/_test//93.pdf\n"
     ]
    },
    {
     "data": {
      "application/vnd.jupyter.widget-view+json": {
       "model_id": "237a7e30fdc44087a723052dbfb6c564",
       "version_major": 2,
       "version_minor": 0
      },
      "text/plain": [
       "  0%|          | 0/1 [00:00<?, ?it/s]"
      ]
     },
     "metadata": {},
     "output_type": "display_data"
    },
    {
     "name": "stdout",
     "output_type": "stream",
     "text": [
      "CONVIRTIENDO... INFORME 437 D:\\OneDrive - Ingenio Azucarero Guabira S.A\\_DATOS_PYTHON/_test//94.docx\n",
      "D:\\OneDrive - Ingenio Azucarero Guabira S.A\\_DATOS_PYTHON/_test//94.docx\n",
      "D:\\OneDrive - Ingenio Azucarero Guabira S.A\\_DATOS_PYTHON/_test//94.pdf\n"
     ]
    },
    {
     "data": {
      "application/vnd.jupyter.widget-view+json": {
       "model_id": "0985d387d00a4546b16fd6afdd906d2c",
       "version_major": 2,
       "version_minor": 0
      },
      "text/plain": [
       "  0%|          | 0/1 [00:00<?, ?it/s]"
      ]
     },
     "metadata": {},
     "output_type": "display_data"
    },
    {
     "name": "stdout",
     "output_type": "stream",
     "text": [
      "CONVIRTIENDO... INFORME 438 D:\\OneDrive - Ingenio Azucarero Guabira S.A\\_DATOS_PYTHON/_test//95.docx\n",
      "D:\\OneDrive - Ingenio Azucarero Guabira S.A\\_DATOS_PYTHON/_test//95.docx\n",
      "D:\\OneDrive - Ingenio Azucarero Guabira S.A\\_DATOS_PYTHON/_test//95.pdf\n"
     ]
    },
    {
     "data": {
      "application/vnd.jupyter.widget-view+json": {
       "model_id": "1ea2953334834cb9b38392cec8b36152",
       "version_major": 2,
       "version_minor": 0
      },
      "text/plain": [
       "  0%|          | 0/1 [00:00<?, ?it/s]"
      ]
     },
     "metadata": {},
     "output_type": "display_data"
    },
    {
     "name": "stdout",
     "output_type": "stream",
     "text": [
      "CONVIRTIENDO... INFORME 439 D:\\OneDrive - Ingenio Azucarero Guabira S.A\\_DATOS_PYTHON/_test//96.docx\n",
      "D:\\OneDrive - Ingenio Azucarero Guabira S.A\\_DATOS_PYTHON/_test//96.docx\n",
      "D:\\OneDrive - Ingenio Azucarero Guabira S.A\\_DATOS_PYTHON/_test//96.pdf\n"
     ]
    },
    {
     "data": {
      "application/vnd.jupyter.widget-view+json": {
       "model_id": "b8ad11f1088f4eddbe953d865841d5e8",
       "version_major": 2,
       "version_minor": 0
      },
      "text/plain": [
       "  0%|          | 0/1 [00:00<?, ?it/s]"
      ]
     },
     "metadata": {},
     "output_type": "display_data"
    },
    {
     "name": "stdout",
     "output_type": "stream",
     "text": [
      "CONVIRTIENDO... INFORME 440 D:\\OneDrive - Ingenio Azucarero Guabira S.A\\_DATOS_PYTHON/_test//97.docx\n",
      "D:\\OneDrive - Ingenio Azucarero Guabira S.A\\_DATOS_PYTHON/_test//97.docx\n",
      "D:\\OneDrive - Ingenio Azucarero Guabira S.A\\_DATOS_PYTHON/_test//97.pdf\n"
     ]
    },
    {
     "data": {
      "application/vnd.jupyter.widget-view+json": {
       "model_id": "97aa5b92c21c4116b0982f3c518a4306",
       "version_major": 2,
       "version_minor": 0
      },
      "text/plain": [
       "  0%|          | 0/1 [00:00<?, ?it/s]"
      ]
     },
     "metadata": {},
     "output_type": "display_data"
    },
    {
     "name": "stdout",
     "output_type": "stream",
     "text": [
      "CONVIRTIENDO... INFORME 441 D:\\OneDrive - Ingenio Azucarero Guabira S.A\\_DATOS_PYTHON/_test//98.docx\n",
      "D:\\OneDrive - Ingenio Azucarero Guabira S.A\\_DATOS_PYTHON/_test//98.docx\n",
      "D:\\OneDrive - Ingenio Azucarero Guabira S.A\\_DATOS_PYTHON/_test//98.pdf\n"
     ]
    },
    {
     "data": {
      "application/vnd.jupyter.widget-view+json": {
       "model_id": "b494db21ab7a4356a0faa815d3646017",
       "version_major": 2,
       "version_minor": 0
      },
      "text/plain": [
       "  0%|          | 0/1 [00:00<?, ?it/s]"
      ]
     },
     "metadata": {},
     "output_type": "display_data"
    },
    {
     "name": "stdout",
     "output_type": "stream",
     "text": [
      "CONVIRTIENDO... INFORME 442 D:\\OneDrive - Ingenio Azucarero Guabira S.A\\_DATOS_PYTHON/_test//99.docx\n",
      "D:\\OneDrive - Ingenio Azucarero Guabira S.A\\_DATOS_PYTHON/_test//99.docx\n",
      "D:\\OneDrive - Ingenio Azucarero Guabira S.A\\_DATOS_PYTHON/_test//99.pdf\n"
     ]
    },
    {
     "data": {
      "application/vnd.jupyter.widget-view+json": {
       "model_id": "0c06a42e84aa4c7db18a9d848cd1ca7c",
       "version_major": 2,
       "version_minor": 0
      },
      "text/plain": [
       "  0%|          | 0/1 [00:00<?, ?it/s]"
      ]
     },
     "metadata": {},
     "output_type": "display_data"
    },
    {
     "name": "stdout",
     "output_type": "stream",
     "text": [
      "CONVIRTIENDO... INFORME 443 D:\\OneDrive - Ingenio Azucarero Guabira S.A\\_DATOS_PYTHON/_test//tpl_rpt_avance_cosecha.docx\n",
      "D:\\OneDrive - Ingenio Azucarero Guabira S.A\\_DATOS_PYTHON/_test//tpl_rpt_avance_cosecha.docx\n",
      "D:\\OneDrive - Ingenio Azucarero Guabira S.A\\_DATOS_PYTHON/_test//tpl_rpt_avance_cosecha.pdf\n"
     ]
    },
    {
     "data": {
      "application/vnd.jupyter.widget-view+json": {
       "model_id": "48e0de8ca65e40d886a954dc6c8876bf",
       "version_major": 2,
       "version_minor": 0
      },
      "text/plain": [
       "  0%|          | 0/1 [00:00<?, ?it/s]"
      ]
     },
     "metadata": {},
     "output_type": "display_data"
    },
    {
     "name": "stdout",
     "output_type": "stream",
     "text": [
      "END\n"
     ]
    }
   ],
   "source": [
    "i = 1\n",
    "for filename in rutas:\n",
    "    print('CONVIRTIENDO... INFORME ' + str(i) + ' ' + filename)\n",
    "    # se realiza la convrsion pasando parametro de salida y entrada, \n",
    "    # para la salida se reemplaza la extencion y la ruta\n",
    "    print(filename)\n",
    "    print(filename.replace('.docx','.pdf').replace('informes','pdfs'))\n",
    "    pdf = filename.replace('.docx','.pdf').split('/')[-1]\n",
    "    convert(filename, r'C:/Users/Bismar/Downloads/' + pdf)\n",
    "    i+=1\n",
    "print('END')"
   ]
  },
  {
   "cell_type": "markdown",
   "id": "01ff1240-1ee0-41e9-a0c5-fa885efed684",
   "metadata": {},
   "source": [
    "# leer ruta de planos"
   ]
  },
  {
   "cell_type": "code",
   "execution_count": 109,
   "id": "5752bf23-b138-46b0-a565-dbe254a57bdd",
   "metadata": {},
   "outputs": [
    {
     "name": "stdout",
     "output_type": "stream",
     "text": [
      "SE ENCONTRARON 441 INFORMES\n",
      "441 INFORMES\n"
     ]
    }
   ],
   "source": [
    "path = r'D:\\OneDrive - Ingenio Azucarero Guabira S.A\\_DATOS_PYTHON\\_tes_pdf/'\n",
    "contenido = os.listdir(path)\n",
    "rutas =[]\n",
    "i = 0\n",
    "for name in contenido:\n",
    "    rutas.append(path + '/' + name)\n",
    "    i+=1\n",
    "\n",
    "print('SE ENCONTRARON ' + str(i) + ' INFORMES')\n",
    "print(len(rutas), 'INFORMES')\n"
   ]
  },
  {
   "cell_type": "code",
   "execution_count": 78,
   "id": "6163f9ef-5862-45e9-9dee-93573d3e28f4",
   "metadata": {},
   "outputs": [],
   "source": [
    "reporte = rutas[0]"
   ]
  },
  {
   "cell_type": "code",
   "execution_count": 79,
   "id": "bdbf8fbf-e471-4133-ace7-67c34d60e6d3",
   "metadata": {},
   "outputs": [
    {
     "data": {
      "text/plain": [
       "'D:\\\\OneDrive - Ingenio Azucarero Guabira S.A\\\\_DATOS_PYTHON\\\\_tes_pdf//10.pdf'"
      ]
     },
     "execution_count": 79,
     "metadata": {},
     "output_type": "execute_result"
    }
   ],
   "source": [
    "reporte"
   ]
  },
  {
   "cell_type": "code",
   "execution_count": 80,
   "id": "5e01f486-a895-48fc-a234-81a86c050a0f",
   "metadata": {},
   "outputs": [],
   "source": [
    "list_pdfs = []\n",
    "list_pdfs.append(reporte)"
   ]
  },
  {
   "cell_type": "code",
   "execution_count": 81,
   "id": "8ce6fed8-1e64-4295-902c-e7a9682c1ae3",
   "metadata": {},
   "outputs": [
    {
     "data": {
      "text/plain": [
       "['D:\\\\OneDrive - Ingenio Azucarero Guabira S.A\\\\_DATOS_PYTHON\\\\_tes_pdf//10.pdf']"
      ]
     },
     "execution_count": 81,
     "metadata": {},
     "output_type": "execute_result"
    }
   ],
   "source": [
    "list_pdfs"
   ]
  },
  {
   "cell_type": "code",
   "execution_count": 93,
   "id": "55914eb1-3041-49f5-a152-e5e59f448513",
   "metadata": {},
   "outputs": [
    {
     "name": "stdout",
     "output_type": "stream",
     "text": [
      "SE ENCONTRARON 1590 INFORMES\n",
      "1590 INFORMES\n"
     ]
    }
   ],
   "source": [
    "path = r'D:\\Ingenio Azucarero Guabira S.A\\UTEA - SEMANAL - AVANCE COSECHA\\2023\\ANALISIS DE CAÑA EN CAMPO 2023\\REPORTE_AVANCE_COSECHA\\PLANOS_2'\n",
    "contenido = os.listdir(path)\n",
    "rutas =[]\n",
    "i = 0\n",
    "for name in contenido:\n",
    "    rutas.append(path + '/' + name)\n",
    "    i+=1\n",
    "\n",
    "print('SE ENCONTRARON ' + str(i) + ' INFORMES')\n",
    "print(len(rutas), 'INFORMES')"
   ]
  },
  {
   "cell_type": "code",
   "execution_count": 84,
   "id": "e518cac4-7ecb-4fe1-ac32-4b3827c50b9b",
   "metadata": {},
   "outputs": [],
   "source": [
    "data  = {}\n",
    "for i in rutas:\n",
    "    cod_prop = i.split('_')[-1].split('.')[0]\n",
    "    data[cod_prop]=i"
   ]
  },
  {
   "cell_type": "code",
   "execution_count": 87,
   "id": "e40bb3e1-2075-4ff6-87bf-9671ae3810b0",
   "metadata": {},
   "outputs": [
    {
     "data": {
      "text/plain": [
       "'D:\\\\Ingenio Azucarero Guabira S.A\\\\UTEA - SEMANAL - AVANCE COSECHA\\\\2023\\\\ANALISIS DE CAÑA EN CAMPO 2023\\\\REPORTE_AVANCE_COSECHA\\\\PLANOS_2/PLANO_30.pdf'"
      ]
     },
     "execution_count": 87,
     "metadata": {},
     "output_type": "execute_result"
    }
   ],
   "source": [
    "data['30']"
   ]
  },
  {
   "cell_type": "code",
   "execution_count": 88,
   "id": "1359f77f-2d3b-4348-828e-61d3768b7665",
   "metadata": {},
   "outputs": [
    {
     "ename": "NameError",
     "evalue": "name 'df' is not defined",
     "output_type": "error",
     "traceback": [
      "\u001b[1;31m---------------------------------------------------------------------------\u001b[0m",
      "\u001b[1;31mNameError\u001b[0m                                 Traceback (most recent call last)",
      "\u001b[1;32m~\\AppData\\Local\\Temp/ipykernel_13420/1396537375.py\u001b[0m in \u001b[0;36m<module>\u001b[1;34m\u001b[0m\n\u001b[1;32m----> 1\u001b[1;33m \u001b[0mdf\u001b[0m\u001b[1;33m\u001b[0m\u001b[1;33m\u001b[0m\u001b[0m\n\u001b[0m",
      "\u001b[1;31mNameError\u001b[0m: name 'df' is not defined"
     ]
    }
   ],
   "source": [
    "df"
   ]
  },
  {
   "cell_type": "code",
   "execution_count": 89,
   "id": "9099706a-5664-4a13-b335-d5214bb84760",
   "metadata": {},
   "outputs": [
    {
     "ename": "NameError",
     "evalue": "name 'df' is not defined",
     "output_type": "error",
     "traceback": [
      "\u001b[1;31m---------------------------------------------------------------------------\u001b[0m",
      "\u001b[1;31mNameError\u001b[0m                                 Traceback (most recent call last)",
      "\u001b[1;32m~\\AppData\\Local\\Temp/ipykernel_13420/420837716.py\u001b[0m in \u001b[0;36m<module>\u001b[1;34m\u001b[0m\n\u001b[1;32m----> 1\u001b[1;33m \u001b[1;32mfor\u001b[0m \u001b[0mrow\u001b[0m \u001b[1;32min\u001b[0m \u001b[0mdf\u001b[0m\u001b[1;33m.\u001b[0m\u001b[0mitertuples\u001b[0m\u001b[1;33m(\u001b[0m\u001b[1;33m)\u001b[0m\u001b[1;33m:\u001b[0m\u001b[1;33m\u001b[0m\u001b[1;33m\u001b[0m\u001b[0m\n\u001b[0m\u001b[0;32m      2\u001b[0m     \u001b[0mcod_prop\u001b[0m \u001b[1;33m=\u001b[0m \u001b[0mrow\u001b[0m\u001b[1;33m.\u001b[0m\u001b[0munidad_01\u001b[0m\u001b[1;33m\u001b[0m\u001b[1;33m\u001b[0m\u001b[0m\n\u001b[0;32m      3\u001b[0m     \u001b[0mruta_prop\u001b[0m \u001b[1;33m=\u001b[0m \u001b[0mdata\u001b[0m\u001b[1;33m[\u001b[0m\u001b[0mstr\u001b[0m\u001b[1;33m(\u001b[0m\u001b[0mcod_prop\u001b[0m\u001b[1;33m)\u001b[0m\u001b[1;33m]\u001b[0m\u001b[1;33m\u001b[0m\u001b[1;33m\u001b[0m\u001b[0m\n\u001b[0;32m      4\u001b[0m     \u001b[0mlist_pdfs\u001b[0m\u001b[1;33m.\u001b[0m\u001b[0mappend\u001b[0m\u001b[1;33m(\u001b[0m\u001b[0mruta_prop\u001b[0m\u001b[1;33m)\u001b[0m\u001b[1;33m\u001b[0m\u001b[1;33m\u001b[0m\u001b[0m\n",
      "\u001b[1;31mNameError\u001b[0m: name 'df' is not defined"
     ]
    }
   ],
   "source": [
    "for row in df.itertuples():\n",
    "    cod_prop = row.unidad_01\n",
    "    ruta_prop = data[str(cod_prop)]\n",
    "    list_pdfs.append(ruta_prop)"
   ]
  },
  {
   "cell_type": "code",
   "execution_count": 90,
   "id": "69d51159-59c2-4ee8-b8c9-f9e1b02cd5d2",
   "metadata": {},
   "outputs": [
    {
     "data": {
      "text/plain": [
       "['D:\\\\OneDrive - Ingenio Azucarero Guabira S.A\\\\_DATOS_PYTHON\\\\_tes_pdf//10.pdf']"
      ]
     },
     "execution_count": 90,
     "metadata": {},
     "output_type": "execute_result"
    }
   ],
   "source": [
    "list_pdfs"
   ]
  },
  {
   "cell_type": "code",
   "execution_count": 91,
   "id": "4dce9633-c8d6-4e67-91ed-875e9811214a",
   "metadata": {},
   "outputs": [
    {
     "ename": "ModuleNotFoundError",
     "evalue": "No module named 'PyPDF2'",
     "output_type": "error",
     "traceback": [
      "\u001b[1;31m---------------------------------------------------------------------------\u001b[0m",
      "\u001b[1;31mModuleNotFoundError\u001b[0m                       Traceback (most recent call last)",
      "\u001b[1;32m~\\AppData\\Local\\Temp/ipykernel_13420/4261970868.py\u001b[0m in \u001b[0;36m<module>\u001b[1;34m\u001b[0m\n\u001b[1;32m----> 1\u001b[1;33m \u001b[1;32mfrom\u001b[0m \u001b[0mPyPDF2\u001b[0m \u001b[1;32mimport\u001b[0m \u001b[0mPdfMerger\u001b[0m\u001b[1;33m\u001b[0m\u001b[1;33m\u001b[0m\u001b[0m\n\u001b[0m",
      "\u001b[1;31mModuleNotFoundError\u001b[0m: No module named 'PyPDF2'"
     ]
    }
   ],
   "source": []
  },
  {
   "cell_type": "code",
   "execution_count": 92,
   "id": "e53e9c90-c499-4af8-834f-9c419592cf92",
   "metadata": {},
   "outputs": [
    {
     "data": {
      "text/plain": [
       "'D:\\\\OneDrive - Ingenio Azucarero Guabira S.A\\\\_DATOS_PYTHON/_test//tpl_rpt_avance_cosecha.pdf'"
      ]
     },
     "execution_count": 92,
     "metadata": {},
     "output_type": "execute_result"
    }
   ],
   "source": [
    "filename.replace('reportes', 'pdf_final').replace('docx', 'pdf')"
   ]
  },
  {
   "cell_type": "code",
   "execution_count": 35,
   "id": "4f6b4d10-a5c2-45ce-acce-bce6c3d44631",
   "metadata": {},
   "outputs": [
    {
     "ename": "NameError",
     "evalue": "name 'filename' is not defined",
     "output_type": "error",
     "traceback": [
      "\u001b[1;31m---------------------------------------------------------------------------\u001b[0m",
      "\u001b[1;31mNameError\u001b[0m                                 Traceback (most recent call last)",
      "\u001b[1;32m~\\AppData\\Local\\Temp/ipykernel_19032/1911480437.py\u001b[0m in \u001b[0;36m<module>\u001b[1;34m\u001b[0m\n\u001b[1;32m----> 1\u001b[1;33m \u001b[0mnombre_archivo_salida\u001b[0m \u001b[1;33m=\u001b[0m \u001b[0mfilename\u001b[0m\u001b[1;33m.\u001b[0m\u001b[0mreplace\u001b[0m\u001b[1;33m(\u001b[0m\u001b[1;34m'reportes'\u001b[0m\u001b[1;33m,\u001b[0m \u001b[1;34m'pdf_final'\u001b[0m\u001b[1;33m)\u001b[0m\u001b[1;33m.\u001b[0m\u001b[0mreplace\u001b[0m\u001b[1;33m(\u001b[0m\u001b[1;34m'docx'\u001b[0m\u001b[1;33m,\u001b[0m \u001b[1;34m'pdf'\u001b[0m\u001b[1;33m)\u001b[0m\u001b[1;33m\u001b[0m\u001b[1;33m\u001b[0m\u001b[0m\n\u001b[0m",
      "\u001b[1;31mNameError\u001b[0m: name 'filename' is not defined"
     ]
    }
   ],
   "source": [
    "nombre_archivo_salida = filename.replace('reportes', 'pdf_final').replace('docx', 'pdf')"
   ]
  },
  {
   "cell_type": "code",
   "execution_count": null,
   "id": "2148db8f-2e35-4cfa-973a-8f7dea92ac94",
   "metadata": {},
   "outputs": [],
   "source": []
  },
  {
   "cell_type": "code",
   "execution_count": null,
   "id": "3a5bdf1b-b1f0-4bc6-b9fd-a68f6e3a27ae",
   "metadata": {},
   "outputs": [],
   "source": []
  },
  {
   "cell_type": "code",
   "execution_count": null,
   "id": "35ef6258-0673-4235-8263-c30cfb244303",
   "metadata": {},
   "outputs": [],
   "source": [
    "path = r'D:\\OneDrive - Ingenio Azucarero Guabira S.A\\_DATOS_PYTHON\\_tes_pdf/'\n",
    "contenido = os.listdir(path)\n",
    "rutas =[]\n",
    "i = 0\n",
    "for name in contenido:\n",
    "    rutas.append(path + '/' + name)\n",
    "    i+=1\n",
    "\n",
    "print('SE ENCONTRARON ' + str(i) + ' INFORMES')\n",
    "print(len(rutas), 'INFORMES')"
   ]
  },
  {
   "cell_type": "code",
   "execution_count": null,
   "id": "05f8145a-7a1e-4ca0-82a1-6c61d43db155",
   "metadata": {},
   "outputs": [],
   "source": []
  },
  {
   "cell_type": "code",
   "execution_count": 7,
   "id": "a7d10b79-eb23-4626-8501-11aa2f4d58ab",
   "metadata": {},
   "outputs": [],
   "source": [
    "dict_keys = {1: [1696, 17, 1748],\n",
    " 2: [265, 369, 211, 1816, 1817],\n",
    " 3: [1820, 1960, 749, 750, 1818, 1819, 732, 733, 1694],\n",
    " 4: [787],\n",
    " 5: [1, 218, 19],\n",
    " 6: [18],\n",
    " 7: [949],\n",
    " 8: [664],\n",
    " 9: [74],\n",
    " 10: [258],\n",
    " 11: [47],\n",
    " 12: [600, 111],\n",
    " 13: [1635, 1315, 1726, 1585, 1310],\n",
    " 14: [979, 981, 982],\n",
    " 15: [1464, 1592, 788],\n",
    " 16: [941],\n",
    " 17: [1225, 1010, 761, 1467, 796],\n",
    " 18: [1594, 519],\n",
    " 19: [791],\n",
    " 20: [520, 1088],\n",
    " 21: [903, 1295, 1525, 1718, 925],\n",
    " 22: [789, 790, 792, 793, 794],\n",
    " 23: [333],\n",
    " 24: [1774, 1855],\n",
    " 25: [766],\n",
    " 26: [320],\n",
    " 28: [1100, 277],\n",
    " 29: [1656, 1961, 1962],\n",
    " 30: [216, 256, 217],\n",
    " 31: [197, 198, 969, 1450, 877, 84, 1049, 700, 1213, 1214],\n",
    " 32: [930, 1287, 1171, 186, 1244, 927],\n",
    " 33: [325],\n",
    " 34: [1336, 1337, 1645, 1335],\n",
    " 35: [288],\n",
    " 36: [1615],\n",
    " 37: [327],\n",
    " 38: [141, 142],\n",
    " 39: [285, 286, 287],\n",
    " 40: [629],\n",
    " 41: [30],\n",
    " 42: [115],\n",
    " 43: [1015],\n",
    " 44: [1561, 1090],\n",
    " 45: [1833, 551],\n",
    " 46: [1618, 1707],\n",
    " 47: [343],\n",
    " 48: [559],\n",
    " 49: [1442],\n",
    " 50: [122],\n",
    " 51: [257],\n",
    " 52: [219, 324],\n",
    " 54: [928, 932, 361, 1358, 1359],\n",
    " 55: [1024, 1025, 963, 964, 1700, 1033, 1034],\n",
    " 56: [554, 398, 720, 755, 757],\n",
    " 57: [1665, 1896, 623, 756, 1176, 1177, 1178, 1179, 1181],\n",
    " 58: [1379, 1354, 1364, 1686, 1687, 729, 1342, 159],\n",
    " 59: [1528, 858, 699],\n",
    " 60: [301, 302, 303, 304, 305],\n",
    " 61: [1765, 1324, 398, 1790, 57, 988, 1085, 1086],\n",
    " 62: [902],\n",
    " 63: [774, 775],\n",
    " 64: [1428, 1413],\n",
    " 65: [1609, 873],\n",
    " 67: [776, 1321, 46, 719],\n",
    " 68: [1413],\n",
    " 69: [416, 417, 418, 419, 1130, 851],\n",
    " 70: [800, 89, 615, 799],\n",
    " 71: [833, 1591, 280, 281, 282, 1756, 698],\n",
    " 72: [459],\n",
    " 73: [1536, 161, 1537, 1548, 527, 944, 529, 945, 1812],\n",
    " 74: [162, 1660, 1661],\n",
    " 75: [1846],\n",
    " 76: [98, 483, 100, 971, 1550, 313],\n",
    " 77: [1152],\n",
    " 78: [133, 783, 80, 313, 1723, 1597, 1598],\n",
    " 79: [1644, 433, 1144, 1369, 1370],\n",
    " 80: [1386, 109, 149, 1375],\n",
    " 81: [1371, 1083, 135],\n",
    " 82: [1418, 1419, 1420, 227],\n",
    " 83: [289, 1538, 168, 1385, 1072, 1073, 146, 535],\n",
    " 84: [1760, 1761, 1762, 1111, 1759],\n",
    " 85: [730],\n",
    " 86: [20],\n",
    " 87: [1040, 1043, 1039],\n",
    " 88: [934, 1054],\n",
    " 90: [1611, 1934, 1935, 209, 437, 439, 440, 441, 61, 1695],\n",
    " 91: [1046],\n",
    " 92: [1376, 1377, 1378, 1092, 1038, 1042, 83, 1372, 1373, 1374],\n",
    " 93: [1507, 1508, 44, 1426, 1531],\n",
    " 94: [1792, 1859, 1860, 1924, 683, 915, 1787],\n",
    " 95: [1382, 1380, 1350],\n",
    " 96: [1900, 1901, 1902, 1904, 1905, 1906, 1907, 1908, 1909, 1620, 1621, 1022],\n",
    " 97: [1066, 1067, 1381],\n",
    " 98: [627],\n",
    " 99: [1572, 1384, 1064, 973, 14],\n",
    " 100: [1417],\n",
    " 101: [1425, 1755],\n",
    " 102: [1787],\n",
    " 103: [1442, 1923, 1174],\n",
    " 104: [1107, 1404, 1069, 1070],\n",
    " 105: [816, 1026, 860, 815],\n",
    " 106: [1282, 1668, 1669, 813, 816],\n",
    " 107: [1147, 1139, 1140, 1047],\n",
    " 109: [450, 1379, 1137, 1299, 1301, 444],\n",
    " 110: [1128, 1122, 1123, 1124],\n",
    " 111: [936],\n",
    " 112: [1410, 445],\n",
    " 113: [1627, 1023],\n",
    " 114: [1772, 1776, 1299, 435, 1301],\n",
    " 115: [67, 68, 1095, 1808, 1399, 445, 414],\n",
    " 116: [521, 447],\n",
    " 117: [40, 1498],\n",
    " 118: [1440, 1701, 1554, 1365, 1724],\n",
    " 119: [1731],\n",
    " 120: [156, 1628],\n",
    " 121: [691, 692, 693],\n",
    " 122: [176, 1659, 1654],\n",
    " 124: [1294],\n",
    " 125: [478, 991],\n",
    " 126: [16, 85, 1806, 1799],\n",
    " 129: [1408, 28],\n",
    " 130: [1616, 1617],\n",
    " 131: [1006],\n",
    " 132: [1706],\n",
    " 134: [1267],\n",
    " 135: [1009],\n",
    " 136: [613],\n",
    " 137: [113, 499, 502, 751],\n",
    " 138: [225, 226, 1325, 500, 501, 374, 1149],\n",
    " 139: [290, 291, 292, 293, 294, 295, 675],\n",
    " 140: [309, 310, 239],\n",
    " 141: [172, 342],\n",
    " 142: [10, 1423, 1968, 1969, 311, 1972, 1015, 253],\n",
    " 143: [1771, 996],\n",
    " 144: [1307, 1306, 995, 1308],\n",
    " 145: [1409, 1797, 1303, 1304, 1403, 1405, 1406, 1407],\n",
    " 146: [1573, 458, 1002, 1688, 249, 250, 251],\n",
    " 147: [1216, 1730, 1764, 1671, 171, 1228, 1325, 1273],\n",
    " 148: [1830, 1831],\n",
    " 149: [1411, 527, 1607],\n",
    " 150: [1250, 1252, 1733, 1254, 1258, 1910, 1880, 1305, 1885, 1919],\n",
    " 151: [1412],\n",
    " 152: [944, 1622, 1623, 1629, 1630, 1535],\n",
    " 153: [576],\n",
    " 154: [836, 1767],\n",
    " 155: [958],\n",
    " 156: [1028, 1036],\n",
    " 157: [966, 839, 838, 840, 844, 845, 846],\n",
    " 158: [1633],\n",
    " 159: [1546],\n",
    " 161: [1231],\n",
    " 162: [486, 487, 488, 489, 490, 493, 494, 496],\n",
    " 163: [1184, 1180, 1182, 1183],\n",
    " 164: [1895, 872, 1948, 1949, 1950],\n",
    " 165: [1568],\n",
    " 166: [236, 237, 238, 1735],\n",
    " 167: [48, 989],\n",
    " 168: [573],\n",
    " 169: [1750, 1751],\n",
    " 170: [274, 1100, 277],\n",
    " 171: [231],\n",
    " 172: [1215, 495, 173, 279],\n",
    " 173: [32, 33, 31],\n",
    " 174: [298, 332, 1709],\n",
    " 175: [1289, 221, 222],\n",
    " 176: [355, 1805, 1438],\n",
    " 177: [578, 549, 550, 391, 392],\n",
    " 179: [1314],\n",
    " 180: [555],\n",
    " 181: [174],\n",
    " 182: [36, 1367],\n",
    " 183: [2, 66, 1109, 38],\n",
    " 184: [961, 759],\n",
    " 185: [1159, 1770, 916, 886, 887, 888, 889, 890, 891, 892, 893],\n",
    " 186: [1472, 484, 485, 1478, 753, 1684],\n",
    " 187: [1569, 1154, 1157, 454, 1158, 685, 687, 1170, 690],\n",
    " 188: [672, 1868, 654, 655, 667, 670, 671],\n",
    " 189: [1544, 1473, 682],\n",
    " 190: [1156, 710],\n",
    " 191: [389, 936, 681, 1872, 1939, 1940],\n",
    " 192: [834, 835, 854, 855],\n",
    " 193: [1793],\n",
    " 194: [328, 53, 13, 55],\n",
    " 195: [29],\n",
    " 196: [423, 558, 306, 307, 1491],\n",
    " 197: [259],\n",
    " 198: [376, 1474, 375],\n",
    " 199: [1454, 1619, 345, 27, 669],\n",
    " 201: [864,\n",
    "  1505,\n",
    "  1570,\n",
    "  1443,\n",
    "  1190,\n",
    "  234,\n",
    "  235,\n",
    "  1165,\n",
    "  206,\n",
    "  1712,\n",
    "  1778,\n",
    "  1433,\n",
    "  1243,\n",
    "  862],\n",
    " 202: [803, 1285, 1286, 233, 478],\n",
    " 203: [275, 132],\n",
    " 204: [1587, 628, 734],\n",
    " 205: [5],\n",
    " 206: [705, 870, 1414, 779, 780, 1198, 1422, 1111, 126],\n",
    " 207: [1588],\n",
    " 208: [935, 912, 922, 923, 924],\n",
    " 209: [273, 714, 118],\n",
    " 211: [187],\n",
    " 212: [729],\n",
    " 213: [1290, 1580],\n",
    " 214: [1875, 1876, 1566, 1567],\n",
    " 215: [1952, 42, 1291, 1180, 858, 1275, 476],\n",
    " 216: [1121, 1161, 1125, 1118],\n",
    " 217: [1043, 1349],\n",
    " 218: [1121, 546, 536, 1652, 1080],\n",
    " 219: [1888, 1889, 1480, 1160, 395, 396, 1172, 567, 568, 539, 1887],\n",
    " 220: [1446, 522, 523, 524, 205, 624, 625, 242],\n",
    " 221: [1193, 1162, 1197, 188, 1212, 539, 1020],\n",
    " 222: [580, 582, 583, 150, 537, 538],\n",
    " 223: [105, 106, 140],\n",
    " 224: [544, 1227, 1613, 1234, 1210, 542, 543],\n",
    " 225: [1248, 1249, 103, 395, 1197, 468, 469],\n",
    " 226: [1540, 1541],\n",
    " 227: [128, 129],\n",
    " 228: [1641, 395, 140, 1076, 117, 540, 541],\n",
    " 229: [546, 970, 1465, 145, 1497],\n",
    " 230: [1826, 1476, 1195, 525, 1199],\n",
    " 231: [547, 1227, 1549, 1235, 116, 377, 378],\n",
    " 232: [466, 189],\n",
    " 234: [260, 395, 1233, 1492, 565, 566, 1238, 570, 1563, 1564, 1247],\n",
    " 235: [1604, 1704, 526, 240, 241, 1466],\n",
    " 236: [1472, 1473, 708, 709, 1577],\n",
    " 237: [707],\n",
    " 238: [400, 25, 668, 62],\n",
    " 239: [1452],\n",
    " 240: [1864, 1925, 910, 1783],\n",
    " 241: [39, 942, 472, 473, 1722, 1596],\n",
    " 242: [545, 421, 905, 914, 247, 1946],\n",
    " 243: [408, 1211, 360, 1646],\n",
    " 244: [1264, 1266, 1267, 1268],\n",
    " 245: [1330, 1326, 1327],\n",
    " 247: [867, 261, 263, 11, 1041, 831],\n",
    " 248: [264],\n",
    " 249: [1219, 1221, 1702, 591, 1043, 314],\n",
    " 250: [1731,\n",
    "  1732,\n",
    "  195,\n",
    "  6,\n",
    "  1576,\n",
    "  1867,\n",
    "  1069,\n",
    "  1522,\n",
    "  403,\n",
    "  212,\n",
    "  213,\n",
    "  404,\n",
    "  407,\n",
    "  405,\n",
    "  534,\n",
    "  1459,\n",
    "  406,\n",
    "  318],\n",
    " 251: [1323, 1947, 358, 831],\n",
    " 252: [1862, 1863, 371, 1877, 533, 1913, 1914, 1915, 1916],\n",
    " 253: [421, 360, 1768, 906, 907, 908, 909, 1043],\n",
    " 254: [1574, 1769, 230, 992],\n",
    " 255: [421],\n",
    " 256: [1763, 1926, 1927, 104, 1928, 426, 1131, 1929, 1933, 1488, 1489],\n",
    " 257: [141, 1662],\n",
    " 258: [1703, 830, 1043, 918, 1879, 856, 1917, 1918, 1663],\n",
    " 259: [596, 1269, 597, 598, 1436],\n",
    " 260: [510],\n",
    " 261: [1890, 1480, 1482, 1743, 1018],\n",
    " 262: [1343],\n",
    " 264: [1251, 1798, 1255, 1256, 842, 843, 1811],\n",
    " 265: [1600, 1602, 1356, 1357, 1582, 1078, 1079, 1309],\n",
    " 266: [1313, 1352, 1257, 1259, 1311],\n",
    " 267: [1824, 1297, 978, 785, 119, 1951, 1502, 511],\n",
    " 268: [879, 1200, 1714, 1203, 1204, 1205, 1494, 1207, 1208, 1206, 861, 990],\n",
    " 269: [882, 994],\n",
    " 270: [1237, 1077],\n",
    " 271: [656, 657, 899],\n",
    " 272: [1856,\n",
    "  1857,\n",
    "  1794,\n",
    "  1858,\n",
    "  1897,\n",
    "  1903,\n",
    "  1489,\n",
    "  1562,\n",
    "  915,\n",
    "  1685,\n",
    "  1338,\n",
    "  1339,\n",
    "  1340],\n",
    " 273: [880, 913, 1640],\n",
    " 274: [896, 898],\n",
    " 275: [883, 1964],\n",
    " 276: [1075, 1119],\n",
    " 277: [896, 993, 1699, 1612, 1742, 1775, 1873, 1874, 1021],\n",
    " 278: [1894, 1000, 1001, 491, 1081, 1082, 478],\n",
    " 280: [1057, 988],\n",
    " 281: [79],\n",
    " 282: [577, 1091, 1579, 78, 593, 594, 244, 1559],\n",
    " 283: [297, 507, 1145, 1786, 123, 92, 125],\n",
    " 284: [801, 897, 900, 901, 1510, 1470, 1511, 1509, 185, 1884, 478],\n",
    " 285: [968, 962, 399],\n",
    " 286: [1353, 1351],\n",
    " 287: [1362, 868],\n",
    " 288: [950, 951, 1115, 1116, 1117],\n",
    " 289: [952],\n",
    " 291: [1638, 341, 1690, 601, 602, 603, 605],\n",
    " 292: [651, 652, 653],\n",
    " 293: [504, 505, 1163, 503],\n",
    " 294: [640, 641, 642, 643, 645, 650, 1932, 638, 639],\n",
    " 295: [929, 772, 773, 1099, 1163, 697, 1053, 767],\n",
    " 296: [806, 807],\n",
    " 297: [741,\n",
    "  1542,\n",
    "  71,\n",
    "  614,\n",
    "  615,\n",
    "  618,\n",
    "  619,\n",
    "  617,\n",
    "  616,\n",
    "  620,\n",
    "  621,\n",
    "  1648,\n",
    "  1649,\n",
    "  1464,\n",
    "  1791],\n",
    " 298: [768, 769, 770],\n",
    " 299: [777, 727],\n",
    " 300: [1475, 677],\n",
    " 301: [673, 646, 744, 616, 622, 367, 1136, 666, 636, 637],\n",
    " 303: [804, 811, 975, 976, 1432],\n",
    " 304: [647, 663, 1005, 1457, 659, 660, 661, 662, 1014, 665, 666, 348, 349],\n",
    " 305: [1667, 764, 765, 1014],\n",
    " 306: [947, 1052],\n",
    " 307: [762, 1051, 763],\n",
    " 308: [1302],\n",
    " 309: [678, 694, 679],\n",
    " 310: [384, 386, 819, 820, 954, 829],\n",
    " 311: [1108],\n",
    " 312: [1148, 278, 1871],\n",
    " 313: [442],\n",
    " 314: [771],\n",
    " 315: [110],\n",
    " 316: [984, 980],\n",
    " 317: [832],\n",
    " 318: [1065, 1173],\n",
    " 319: [449, 1931, 1262],\n",
    " 320: [879],\n",
    " 321: [1584, 1583],\n",
    " 322: [1944, 1175, 823],\n",
    " 323: [1096],\n",
    " 324: [825, 827, 828, 1263],\n",
    " 326: [648, 649, 956, 957],\n",
    " 327: [805],\n",
    " 328: [1721, 178, 179, 1670],\n",
    " 329: [1016, 1168, 15],\n",
    " 330: [1608, 1651, 93, 15],\n",
    " 331: [424, 745, 746, 747, 1553],\n",
    " 332: [1458, 1186, 1397, 1166],\n",
    " 335: [552, 1593, 3, 1523],\n",
    " 336: [429],\n",
    " 339: [974, 742],\n",
    " 340: [1844, 1845],\n",
    " 342: [1737, 1738],\n",
    " 343: [1035],\n",
    " 344: [1539],\n",
    " 345: [1185, 164, 1084],\n",
    " 346: [706, 1673, 1674, 1675, 1676, 1677],\n",
    " 347: [1865, 1516, 1518, 1394, 1050, 571],\n",
    " 348: [1401, 1402, 1782],\n",
    " 349: [545, 1614, 1393, 532, 1530],\n",
    " 350: [1483],\n",
    " 351: [1392, 1547],\n",
    " 352: [548, 1483, 1784, 1431, 1720, 1401],\n",
    " 353: [299],\n",
    " 354: [723, 724, 725, 726, 728],\n",
    " 355: [535],\n",
    " 356: [344, 1823],\n",
    " 357: [512, 513, 514, 515, 516, 517, 1481, 1322, 182, 505],\n",
    " 358: [1850],\n",
    " 359: [632, 633, 634, 1526],\n",
    " 360: [416, 201, 1610, 859, 414, 415],\n",
    " 361: [866],\n",
    " 362: [1120, 1606, 1545, 76, 1711, 1815, 1693],\n",
    " 363: [1153, 331],\n",
    " 364: [1639],\n",
    " 365: [329, 330, 778, 1637],\n",
    " 366: [810, 812],\n",
    " 367: [350, 1302],\n",
    " 368: [1642, 26, 943],\n",
    " 369: [1220, 585, 1456, 1524, 572],\n",
    " 370: [384, 809, 814, 817, 818, 1586, 1854],\n",
    " 371: [43],\n",
    " 372: [1126],\n",
    " 373: [874],\n",
    " 374: [1241, 586, 588, 589, 1240, 921],\n",
    " 375: [1672, 137, 1451, 1556, 1557, 1558, 283, 1788, 1789],\n",
    " 376: [1650, 1106, 1102],\n",
    " 377: [972, 853, 471, 1242, 251, 573, 574, 575],\n",
    " 380: [228],\n",
    " 381: [411],\n",
    " 382: [49, 1388, 1389],\n",
    " 383: [1484],\n",
    " 385: [1512, 4],\n",
    " 386: [1189, 45, 1745, 1746, 1142, 926],\n",
    " 387: [875, 1716, 1045, 1461, 1469],\n",
    " 388: [1853],\n",
    " 389: [1828, 1829, 1832, 715, 1631],\n",
    " 390: [1180, 1773, 1847],\n",
    " 391: [1366],\n",
    " 392: [608, 611, 127, 606, 607],\n",
    " 393: [1280,\n",
    "  1281,\n",
    "  704,\n",
    "  869,\n",
    "  871,\n",
    "  1384,\n",
    "  1866,\n",
    "  1744,\n",
    "  1276,\n",
    "  23,\n",
    "  1689,\n",
    "  1658,\n",
    "  1277,\n",
    "  1757,\n",
    "  1278,\n",
    "  1279],\n",
    " 394: [1795, 904, 368, 146, 824],\n",
    " 395: [752, 1500],\n",
    " 396: [1643, 139, 717, 718, 147, 758, 1146],\n",
    " 397: [276],\n",
    " 398: [1094,\n",
    "  1655,\n",
    "  1097,\n",
    "  365,\n",
    "  798,\n",
    "  784,\n",
    "  849,\n",
    "  848,\n",
    "  919,\n",
    "  895,\n",
    "  852,\n",
    "  630,\n",
    "  631,\n",
    "  1852,\n",
    "  797,\n",
    "  894,\n",
    "  1087],\n",
    " 399: [1682, 1683],\n",
    " 400: [1344, 1345, 1346, 1347, 560, 49, 1432],\n",
    " 401: [758],\n",
    " 402: [300],\n",
    " 403: [1447, 1705, 1520, 22, 1758, 63],\n",
    " 404: [50],\n",
    " 405: [1151],\n",
    " 406: [184, 658, 1551],\n",
    " 408: [114],\n",
    " 409: [132, 781, 14, 1453, 308, 1719],\n",
    " 410: [284],\n",
    " 412: [1421],\n",
    " 414: [674],\n",
    " 416: [296, 21],\n",
    " 417: [72, 1777, 1827, 94],\n",
    " 418: [986, 1013],\n",
    " 419: [1272, 721, 722, 591],\n",
    " 420: [1441,\n",
    "  737,\n",
    "  1283,\n",
    "  612,\n",
    "  1284,\n",
    "  739,\n",
    "  1736,\n",
    "  1739,\n",
    "  1740,\n",
    "  1741,\n",
    "  1903,\n",
    "  112,\n",
    "  1851,\n",
    "  1503],\n",
    " 421: [1260, 1605],\n",
    " 422: [1043],\n",
    " 423: [155, 1796, 509, 92],\n",
    " 424: [155, 507],\n",
    " 425: [1800, 1801, 1802, 1513, 1807],\n",
    " 426: [1643],\n",
    " 427: [1416],\n",
    " 429: [1368, 1766],\n",
    " 432: [1780, 1781, 1886],\n",
    " 433: [267, 271, 326, 270],\n",
    " 434: [54],\n",
    " 435: [782],\n",
    " 437: [1093],\n",
    " 438: [1089, 421, 1482, 1708, 247],\n",
    " 439: [1229],\n",
    " 442: [1578, 1922],\n",
    " 443: [716],\n",
    " 444: [1941],\n",
    " 445: [246],\n",
    " 446: [1113, 953, 1114],\n",
    " 448: [125],\n",
    " 449: [865],\n",
    " 450: [577, 1607, 1355, 1460, 92],\n",
    " 451: [1201, 1333, 1495],\n",
    " 452: [1104, 1899, 1898, 1891],\n",
    " 453: [1232, 1021, 229],\n",
    " 455: [12],\n",
    " 456: [696, 1132, 695],\n",
    " 457: [1963],\n",
    " 458: [1331, 1292, 1332],\n",
    " 459: [1074],\n",
    " 500: [592],\n",
    " 501: [1861],\n",
    " 502: [861],\n",
    " 504: [1869, 1870],\n",
    " 505: [1883, 915],\n",
    " 507: [1881, 1882],\n",
    " 508: [937, 938, 939, 9],\n",
    " 509: [993, 802, 1878, 863],\n",
    " 510: [1920, 1921, 1300],\n",
    " 511: [1848, 1849],\n",
    " 513: [1393, 1930],\n",
    " 514: [1705, 579, 590, 183],\n",
    " 515: [676, 1644, 878, 1936, 1937, 1938, 702, 703],\n",
    " 516: [1653, 525],\n",
    " 517: [1222],\n",
    " 518: [556],\n",
    " 519: [8, 510],\n",
    " 520: [119, 999],\n",
    " 521: [1274],\n",
    " 523: [1970],\n",
    " 524: [442, 434, 435],\n",
    " 525: [1424]}"
   ]
  },
  {
   "cell_type": "code",
   "execution_count": null,
   "id": "86cec760-e7c6-46c3-ba33-c6f5e4317775",
   "metadata": {},
   "outputs": [],
   "source": []
  },
  {
   "cell_type": "code",
   "execution_count": null,
   "id": "bdb3b8fa-33b7-4f47-92f5-68706c01e4c8",
   "metadata": {},
   "outputs": [],
   "source": []
  },
  {
   "cell_type": "code",
   "execution_count": null,
   "id": "7dc4278a-5de3-4bc1-a9fe-8a9bed852eea",
   "metadata": {},
   "outputs": [],
   "source": []
  },
  {
   "cell_type": "code",
   "execution_count": null,
   "id": "f9a7717b-0a56-4d6b-9c50-986fba77cc1f",
   "metadata": {},
   "outputs": [],
   "source": []
  },
  {
   "cell_type": "code",
   "execution_count": null,
   "id": "8dc38ecc-9d33-4dc7-ae2c-aca3272af3c1",
   "metadata": {},
   "outputs": [],
   "source": []
  },
  {
   "cell_type": "code",
   "execution_count": 25,
   "id": "eb7fe4aa-c03b-4c79-9314-90c1717f975c",
   "metadata": {},
   "outputs": [],
   "source": [
    "reporte = 'D:/OneDrive - Ingenio Azucarero Guabira S.A/_DATOS_PYTHON/_tes_pdf/' + str(1) + '.pdf'"
   ]
  },
  {
   "cell_type": "code",
   "execution_count": 26,
   "id": "3ff0f323-dcc1-4047-95f1-4c7c5b8d88e8",
   "metadata": {},
   "outputs": [],
   "source": [
    "props = [1696, 17, 1748]"
   ]
  },
  {
   "cell_type": "code",
   "execution_count": 31,
   "id": "79fe750e-3608-4c98-b92f-d839116c8be4",
   "metadata": {},
   "outputs": [
    {
     "data": {
      "text/plain": [
       "['D:/OneDrive - Ingenio Azucarero Guabira S.A/_DATOS_PYTHON/_tes_pdf/1.pdf',\n",
       " 'D:/Ingenio Azucarero Guabira S.A/UTEA - SEMANAL - AVANCE COSECHA/2023/ANALISIS DE CAÑA EN CAMPO 2023/REPORTE_AVANCE_COSECHA/PLANOS_2/PLANO_1696.pdf',\n",
       " 'D:/Ingenio Azucarero Guabira S.A/UTEA - SEMANAL - AVANCE COSECHA/2023/ANALISIS DE CAÑA EN CAMPO 2023/REPORTE_AVANCE_COSECHA/PLANOS_2/PLANO_17.pdf',\n",
       " 'D:/Ingenio Azucarero Guabira S.A/UTEA - SEMANAL - AVANCE COSECHA/2023/ANALISIS DE CAÑA EN CAMPO 2023/REPORTE_AVANCE_COSECHA/PLANOS_2/PLANO_1748.pdf']"
      ]
     },
     "execution_count": 31,
     "metadata": {},
     "output_type": "execute_result"
    }
   ],
   "source": [
    "p = []\n",
    "p.append(reporte)\n",
    "for prop in props:\n",
    "    name = 'D:/Ingenio Azucarero Guabira S.A/UTEA - SEMANAL - AVANCE COSECHA/2023/ANALISIS DE CAÑA EN CAMPO 2023/REPORTE_AVANCE_COSECHA/PLANOS_2/PLANO_' + str(prop) + '.pdf'\n",
    "    p.append(name)\n",
    "p"
   ]
  },
  {
   "cell_type": "code",
   "execution_count": null,
   "id": "5c0ca362-b893-4941-bc25-f4a7560a7b6d",
   "metadata": {},
   "outputs": [],
   "source": []
  },
  {
   "cell_type": "code",
   "execution_count": null,
   "id": "df9044d7-d09e-467d-97e3-ac954a24d0a8",
   "metadata": {},
   "outputs": [],
   "source": []
  },
  {
   "cell_type": "code",
   "execution_count": 3,
   "id": "140f0703-6ad3-4694-8a73-fe86b0202ba6",
   "metadata": {},
   "outputs": [],
   "source": [
    "from PyPDF2 import PdfMerger"
   ]
  },
  {
   "cell_type": "code",
   "execution_count": 4,
   "id": "25e914ff-9eb6-42b5-8104-dd73567eaf66",
   "metadata": {},
   "outputs": [],
   "source": [
    "fusionador = PdfMerger()"
   ]
  },
  {
   "cell_type": "code",
   "execution_count": null,
   "id": "7c879284-63f7-4d6e-9d55-51090a647894",
   "metadata": {},
   "outputs": [],
   "source": []
  },
  {
   "cell_type": "code",
   "execution_count": 8,
   "id": "5eec74ca-b8e3-4c40-989c-2d6f8fa81360",
   "metadata": {},
   "outputs": [
    {
     "name": "stdout",
     "output_type": "stream",
     "text": [
      "['G:/OneDrive - Ingenio Azucarero Guabira S.A/_DATOS_PYTHON/_tes_pdf/1.pdf', 'G:/Ingenio Azucarero Guabira S.A/UTEA - SEMANAL - AVANCE COSECHA/2023/ANALISIS DE CAÑA EN CAMPO 2023/REPORTE_AVANCE_COSECHA/PLANOS_2/PLANO_1696.pdf', 'G:/Ingenio Azucarero Guabira S.A/UTEA - SEMANAL - AVANCE COSECHA/2023/ANALISIS DE CAÑA EN CAMPO 2023/REPORTE_AVANCE_COSECHA/PLANOS_2/PLANO_17.pdf', 'G:/Ingenio Azucarero Guabira S.A/UTEA - SEMANAL - AVANCE COSECHA/2023/ANALISIS DE CAÑA EN CAMPO 2023/REPORTE_AVANCE_COSECHA/PLANOS_2/PLANO_1748.pdf']\n",
      "-*************************************\n",
      "1\n",
      "['G:/OneDrive - Ingenio Azucarero Guabira S.A/_DATOS_PYTHON/_tes_pdf/2.pdf', 'G:/Ingenio Azucarero Guabira S.A/UTEA - SEMANAL - AVANCE COSECHA/2023/ANALISIS DE CAÑA EN CAMPO 2023/REPORTE_AVANCE_COSECHA/PLANOS_2/PLANO_265.pdf', 'G:/Ingenio Azucarero Guabira S.A/UTEA - SEMANAL - AVANCE COSECHA/2023/ANALISIS DE CAÑA EN CAMPO 2023/REPORTE_AVANCE_COSECHA/PLANOS_2/PLANO_369.pdf', 'G:/Ingenio Azucarero Guabira S.A/UTEA - SEMANAL - AVANCE COSECHA/2023/ANALISIS DE CAÑA EN CAMPO 2023/REPORTE_AVANCE_COSECHA/PLANOS_2/PLANO_211.pdf', 'G:/Ingenio Azucarero Guabira S.A/UTEA - SEMANAL - AVANCE COSECHA/2023/ANALISIS DE CAÑA EN CAMPO 2023/REPORTE_AVANCE_COSECHA/PLANOS_2/PLANO_1816.pdf', 'G:/Ingenio Azucarero Guabira S.A/UTEA - SEMANAL - AVANCE COSECHA/2023/ANALISIS DE CAÑA EN CAMPO 2023/REPORTE_AVANCE_COSECHA/PLANOS_2/PLANO_1817.pdf']\n",
      "-*************************************\n",
      "2\n",
      "['G:/OneDrive - Ingenio Azucarero Guabira S.A/_DATOS_PYTHON/_tes_pdf/3.pdf', 'G:/Ingenio Azucarero Guabira S.A/UTEA - SEMANAL - AVANCE COSECHA/2023/ANALISIS DE CAÑA EN CAMPO 2023/REPORTE_AVANCE_COSECHA/PLANOS_2/PLANO_1820.pdf', 'G:/Ingenio Azucarero Guabira S.A/UTEA - SEMANAL - AVANCE COSECHA/2023/ANALISIS DE CAÑA EN CAMPO 2023/REPORTE_AVANCE_COSECHA/PLANOS_2/PLANO_1960.pdf', 'G:/Ingenio Azucarero Guabira S.A/UTEA - SEMANAL - AVANCE COSECHA/2023/ANALISIS DE CAÑA EN CAMPO 2023/REPORTE_AVANCE_COSECHA/PLANOS_2/PLANO_749.pdf', 'G:/Ingenio Azucarero Guabira S.A/UTEA - SEMANAL - AVANCE COSECHA/2023/ANALISIS DE CAÑA EN CAMPO 2023/REPORTE_AVANCE_COSECHA/PLANOS_2/PLANO_750.pdf', 'G:/Ingenio Azucarero Guabira S.A/UTEA - SEMANAL - AVANCE COSECHA/2023/ANALISIS DE CAÑA EN CAMPO 2023/REPORTE_AVANCE_COSECHA/PLANOS_2/PLANO_1818.pdf', 'G:/Ingenio Azucarero Guabira S.A/UTEA - SEMANAL - AVANCE COSECHA/2023/ANALISIS DE CAÑA EN CAMPO 2023/REPORTE_AVANCE_COSECHA/PLANOS_2/PLANO_1819.pdf', 'G:/Ingenio Azucarero Guabira S.A/UTEA - SEMANAL - AVANCE COSECHA/2023/ANALISIS DE CAÑA EN CAMPO 2023/REPORTE_AVANCE_COSECHA/PLANOS_2/PLANO_732.pdf', 'G:/Ingenio Azucarero Guabira S.A/UTEA - SEMANAL - AVANCE COSECHA/2023/ANALISIS DE CAÑA EN CAMPO 2023/REPORTE_AVANCE_COSECHA/PLANOS_2/PLANO_733.pdf', 'G:/Ingenio Azucarero Guabira S.A/UTEA - SEMANAL - AVANCE COSECHA/2023/ANALISIS DE CAÑA EN CAMPO 2023/REPORTE_AVANCE_COSECHA/PLANOS_2/PLANO_1694.pdf']\n",
      "-*************************************\n",
      "3\n",
      "['G:/OneDrive - Ingenio Azucarero Guabira S.A/_DATOS_PYTHON/_tes_pdf/4.pdf', 'G:/Ingenio Azucarero Guabira S.A/UTEA - SEMANAL - AVANCE COSECHA/2023/ANALISIS DE CAÑA EN CAMPO 2023/REPORTE_AVANCE_COSECHA/PLANOS_2/PLANO_787.pdf']\n",
      "-*************************************\n",
      "4\n",
      "['G:/OneDrive - Ingenio Azucarero Guabira S.A/_DATOS_PYTHON/_tes_pdf/5.pdf', 'G:/Ingenio Azucarero Guabira S.A/UTEA - SEMANAL - AVANCE COSECHA/2023/ANALISIS DE CAÑA EN CAMPO 2023/REPORTE_AVANCE_COSECHA/PLANOS_2/PLANO_1.pdf', 'G:/Ingenio Azucarero Guabira S.A/UTEA - SEMANAL - AVANCE COSECHA/2023/ANALISIS DE CAÑA EN CAMPO 2023/REPORTE_AVANCE_COSECHA/PLANOS_2/PLANO_218.pdf', 'G:/Ingenio Azucarero Guabira S.A/UTEA - SEMANAL - AVANCE COSECHA/2023/ANALISIS DE CAÑA EN CAMPO 2023/REPORTE_AVANCE_COSECHA/PLANOS_2/PLANO_19.pdf']\n",
      "-*************************************\n",
      "5\n",
      "['G:/OneDrive - Ingenio Azucarero Guabira S.A/_DATOS_PYTHON/_tes_pdf/6.pdf', 'G:/Ingenio Azucarero Guabira S.A/UTEA - SEMANAL - AVANCE COSECHA/2023/ANALISIS DE CAÑA EN CAMPO 2023/REPORTE_AVANCE_COSECHA/PLANOS_2/PLANO_18.pdf']\n",
      "-*************************************\n",
      "6\n",
      "['G:/OneDrive - Ingenio Azucarero Guabira S.A/_DATOS_PYTHON/_tes_pdf/7.pdf', 'G:/Ingenio Azucarero Guabira S.A/UTEA - SEMANAL - AVANCE COSECHA/2023/ANALISIS DE CAÑA EN CAMPO 2023/REPORTE_AVANCE_COSECHA/PLANOS_2/PLANO_949.pdf']\n",
      "-*************************************\n",
      "7\n",
      "['G:/OneDrive - Ingenio Azucarero Guabira S.A/_DATOS_PYTHON/_tes_pdf/8.pdf', 'G:/Ingenio Azucarero Guabira S.A/UTEA - SEMANAL - AVANCE COSECHA/2023/ANALISIS DE CAÑA EN CAMPO 2023/REPORTE_AVANCE_COSECHA/PLANOS_2/PLANO_664.pdf']\n",
      "-*************************************\n",
      "8\n",
      "['G:/OneDrive - Ingenio Azucarero Guabira S.A/_DATOS_PYTHON/_tes_pdf/9.pdf', 'G:/Ingenio Azucarero Guabira S.A/UTEA - SEMANAL - AVANCE COSECHA/2023/ANALISIS DE CAÑA EN CAMPO 2023/REPORTE_AVANCE_COSECHA/PLANOS_2/PLANO_74.pdf']\n",
      "-*************************************\n",
      "9\n",
      "['G:/OneDrive - Ingenio Azucarero Guabira S.A/_DATOS_PYTHON/_tes_pdf/10.pdf', 'G:/Ingenio Azucarero Guabira S.A/UTEA - SEMANAL - AVANCE COSECHA/2023/ANALISIS DE CAÑA EN CAMPO 2023/REPORTE_AVANCE_COSECHA/PLANOS_2/PLANO_258.pdf']\n",
      "-*************************************\n",
      "10\n",
      "['G:/OneDrive - Ingenio Azucarero Guabira S.A/_DATOS_PYTHON/_tes_pdf/11.pdf', 'G:/Ingenio Azucarero Guabira S.A/UTEA - SEMANAL - AVANCE COSECHA/2023/ANALISIS DE CAÑA EN CAMPO 2023/REPORTE_AVANCE_COSECHA/PLANOS_2/PLANO_47.pdf']\n",
      "-*************************************\n",
      "11\n",
      "['G:/OneDrive - Ingenio Azucarero Guabira S.A/_DATOS_PYTHON/_tes_pdf/12.pdf', 'G:/Ingenio Azucarero Guabira S.A/UTEA - SEMANAL - AVANCE COSECHA/2023/ANALISIS DE CAÑA EN CAMPO 2023/REPORTE_AVANCE_COSECHA/PLANOS_2/PLANO_600.pdf', 'G:/Ingenio Azucarero Guabira S.A/UTEA - SEMANAL - AVANCE COSECHA/2023/ANALISIS DE CAÑA EN CAMPO 2023/REPORTE_AVANCE_COSECHA/PLANOS_2/PLANO_111.pdf']\n",
      "-*************************************\n",
      "12\n",
      "['G:/OneDrive - Ingenio Azucarero Guabira S.A/_DATOS_PYTHON/_tes_pdf/13.pdf', 'G:/Ingenio Azucarero Guabira S.A/UTEA - SEMANAL - AVANCE COSECHA/2023/ANALISIS DE CAÑA EN CAMPO 2023/REPORTE_AVANCE_COSECHA/PLANOS_2/PLANO_1635.pdf', 'G:/Ingenio Azucarero Guabira S.A/UTEA - SEMANAL - AVANCE COSECHA/2023/ANALISIS DE CAÑA EN CAMPO 2023/REPORTE_AVANCE_COSECHA/PLANOS_2/PLANO_1315.pdf', 'G:/Ingenio Azucarero Guabira S.A/UTEA - SEMANAL - AVANCE COSECHA/2023/ANALISIS DE CAÑA EN CAMPO 2023/REPORTE_AVANCE_COSECHA/PLANOS_2/PLANO_1726.pdf', 'G:/Ingenio Azucarero Guabira S.A/UTEA - SEMANAL - AVANCE COSECHA/2023/ANALISIS DE CAÑA EN CAMPO 2023/REPORTE_AVANCE_COSECHA/PLANOS_2/PLANO_1585.pdf', 'G:/Ingenio Azucarero Guabira S.A/UTEA - SEMANAL - AVANCE COSECHA/2023/ANALISIS DE CAÑA EN CAMPO 2023/REPORTE_AVANCE_COSECHA/PLANOS_2/PLANO_1310.pdf']\n",
      "-*************************************\n",
      "13\n",
      "['G:/OneDrive - Ingenio Azucarero Guabira S.A/_DATOS_PYTHON/_tes_pdf/14.pdf', 'G:/Ingenio Azucarero Guabira S.A/UTEA - SEMANAL - AVANCE COSECHA/2023/ANALISIS DE CAÑA EN CAMPO 2023/REPORTE_AVANCE_COSECHA/PLANOS_2/PLANO_979.pdf', 'G:/Ingenio Azucarero Guabira S.A/UTEA - SEMANAL - AVANCE COSECHA/2023/ANALISIS DE CAÑA EN CAMPO 2023/REPORTE_AVANCE_COSECHA/PLANOS_2/PLANO_981.pdf', 'G:/Ingenio Azucarero Guabira S.A/UTEA - SEMANAL - AVANCE COSECHA/2023/ANALISIS DE CAÑA EN CAMPO 2023/REPORTE_AVANCE_COSECHA/PLANOS_2/PLANO_982.pdf']\n",
      "-*************************************\n",
      "14\n",
      "['G:/OneDrive - Ingenio Azucarero Guabira S.A/_DATOS_PYTHON/_tes_pdf/15.pdf', 'G:/Ingenio Azucarero Guabira S.A/UTEA - SEMANAL - AVANCE COSECHA/2023/ANALISIS DE CAÑA EN CAMPO 2023/REPORTE_AVANCE_COSECHA/PLANOS_2/PLANO_1464.pdf', 'G:/Ingenio Azucarero Guabira S.A/UTEA - SEMANAL - AVANCE COSECHA/2023/ANALISIS DE CAÑA EN CAMPO 2023/REPORTE_AVANCE_COSECHA/PLANOS_2/PLANO_1592.pdf', 'G:/Ingenio Azucarero Guabira S.A/UTEA - SEMANAL - AVANCE COSECHA/2023/ANALISIS DE CAÑA EN CAMPO 2023/REPORTE_AVANCE_COSECHA/PLANOS_2/PLANO_788.pdf']\n",
      "-*************************************\n",
      "15\n",
      "['G:/OneDrive - Ingenio Azucarero Guabira S.A/_DATOS_PYTHON/_tes_pdf/16.pdf', 'G:/Ingenio Azucarero Guabira S.A/UTEA - SEMANAL - AVANCE COSECHA/2023/ANALISIS DE CAÑA EN CAMPO 2023/REPORTE_AVANCE_COSECHA/PLANOS_2/PLANO_941.pdf']\n",
      "-*************************************\n",
      "16\n",
      "['G:/OneDrive - Ingenio Azucarero Guabira S.A/_DATOS_PYTHON/_tes_pdf/17.pdf', 'G:/Ingenio Azucarero Guabira S.A/UTEA - SEMANAL - AVANCE COSECHA/2023/ANALISIS DE CAÑA EN CAMPO 2023/REPORTE_AVANCE_COSECHA/PLANOS_2/PLANO_1225.pdf', 'G:/Ingenio Azucarero Guabira S.A/UTEA - SEMANAL - AVANCE COSECHA/2023/ANALISIS DE CAÑA EN CAMPO 2023/REPORTE_AVANCE_COSECHA/PLANOS_2/PLANO_1010.pdf', 'G:/Ingenio Azucarero Guabira S.A/UTEA - SEMANAL - AVANCE COSECHA/2023/ANALISIS DE CAÑA EN CAMPO 2023/REPORTE_AVANCE_COSECHA/PLANOS_2/PLANO_761.pdf', 'G:/Ingenio Azucarero Guabira S.A/UTEA - SEMANAL - AVANCE COSECHA/2023/ANALISIS DE CAÑA EN CAMPO 2023/REPORTE_AVANCE_COSECHA/PLANOS_2/PLANO_1467.pdf', 'G:/Ingenio Azucarero Guabira S.A/UTEA - SEMANAL - AVANCE COSECHA/2023/ANALISIS DE CAÑA EN CAMPO 2023/REPORTE_AVANCE_COSECHA/PLANOS_2/PLANO_796.pdf']\n",
      "-*************************************\n",
      "17\n",
      "['G:/OneDrive - Ingenio Azucarero Guabira S.A/_DATOS_PYTHON/_tes_pdf/18.pdf', 'G:/Ingenio Azucarero Guabira S.A/UTEA - SEMANAL - AVANCE COSECHA/2023/ANALISIS DE CAÑA EN CAMPO 2023/REPORTE_AVANCE_COSECHA/PLANOS_2/PLANO_1594.pdf', 'G:/Ingenio Azucarero Guabira S.A/UTEA - SEMANAL - AVANCE COSECHA/2023/ANALISIS DE CAÑA EN CAMPO 2023/REPORTE_AVANCE_COSECHA/PLANOS_2/PLANO_519.pdf']\n",
      "-*************************************\n",
      "18\n",
      "['G:/OneDrive - Ingenio Azucarero Guabira S.A/_DATOS_PYTHON/_tes_pdf/19.pdf', 'G:/Ingenio Azucarero Guabira S.A/UTEA - SEMANAL - AVANCE COSECHA/2023/ANALISIS DE CAÑA EN CAMPO 2023/REPORTE_AVANCE_COSECHA/PLANOS_2/PLANO_791.pdf']\n",
      "-*************************************\n",
      "19\n",
      "['G:/OneDrive - Ingenio Azucarero Guabira S.A/_DATOS_PYTHON/_tes_pdf/20.pdf', 'G:/Ingenio Azucarero Guabira S.A/UTEA - SEMANAL - AVANCE COSECHA/2023/ANALISIS DE CAÑA EN CAMPO 2023/REPORTE_AVANCE_COSECHA/PLANOS_2/PLANO_520.pdf', 'G:/Ingenio Azucarero Guabira S.A/UTEA - SEMANAL - AVANCE COSECHA/2023/ANALISIS DE CAÑA EN CAMPO 2023/REPORTE_AVANCE_COSECHA/PLANOS_2/PLANO_1088.pdf']\n",
      "-*************************************\n",
      "20\n",
      "['G:/OneDrive - Ingenio Azucarero Guabira S.A/_DATOS_PYTHON/_tes_pdf/21.pdf', 'G:/Ingenio Azucarero Guabira S.A/UTEA - SEMANAL - AVANCE COSECHA/2023/ANALISIS DE CAÑA EN CAMPO 2023/REPORTE_AVANCE_COSECHA/PLANOS_2/PLANO_903.pdf', 'G:/Ingenio Azucarero Guabira S.A/UTEA - SEMANAL - AVANCE COSECHA/2023/ANALISIS DE CAÑA EN CAMPO 2023/REPORTE_AVANCE_COSECHA/PLANOS_2/PLANO_1295.pdf', 'G:/Ingenio Azucarero Guabira S.A/UTEA - SEMANAL - AVANCE COSECHA/2023/ANALISIS DE CAÑA EN CAMPO 2023/REPORTE_AVANCE_COSECHA/PLANOS_2/PLANO_1525.pdf', 'G:/Ingenio Azucarero Guabira S.A/UTEA - SEMANAL - AVANCE COSECHA/2023/ANALISIS DE CAÑA EN CAMPO 2023/REPORTE_AVANCE_COSECHA/PLANOS_2/PLANO_1718.pdf', 'G:/Ingenio Azucarero Guabira S.A/UTEA - SEMANAL - AVANCE COSECHA/2023/ANALISIS DE CAÑA EN CAMPO 2023/REPORTE_AVANCE_COSECHA/PLANOS_2/PLANO_925.pdf']\n",
      "-*************************************\n",
      "21\n",
      "['G:/OneDrive - Ingenio Azucarero Guabira S.A/_DATOS_PYTHON/_tes_pdf/22.pdf', 'G:/Ingenio Azucarero Guabira S.A/UTEA - SEMANAL - AVANCE COSECHA/2023/ANALISIS DE CAÑA EN CAMPO 2023/REPORTE_AVANCE_COSECHA/PLANOS_2/PLANO_789.pdf', 'G:/Ingenio Azucarero Guabira S.A/UTEA - SEMANAL - AVANCE COSECHA/2023/ANALISIS DE CAÑA EN CAMPO 2023/REPORTE_AVANCE_COSECHA/PLANOS_2/PLANO_790.pdf', 'G:/Ingenio Azucarero Guabira S.A/UTEA - SEMANAL - AVANCE COSECHA/2023/ANALISIS DE CAÑA EN CAMPO 2023/REPORTE_AVANCE_COSECHA/PLANOS_2/PLANO_792.pdf', 'G:/Ingenio Azucarero Guabira S.A/UTEA - SEMANAL - AVANCE COSECHA/2023/ANALISIS DE CAÑA EN CAMPO 2023/REPORTE_AVANCE_COSECHA/PLANOS_2/PLANO_793.pdf', 'G:/Ingenio Azucarero Guabira S.A/UTEA - SEMANAL - AVANCE COSECHA/2023/ANALISIS DE CAÑA EN CAMPO 2023/REPORTE_AVANCE_COSECHA/PLANOS_2/PLANO_794.pdf']\n",
      "-*************************************\n",
      "22\n",
      "['G:/OneDrive - Ingenio Azucarero Guabira S.A/_DATOS_PYTHON/_tes_pdf/23.pdf', 'G:/Ingenio Azucarero Guabira S.A/UTEA - SEMANAL - AVANCE COSECHA/2023/ANALISIS DE CAÑA EN CAMPO 2023/REPORTE_AVANCE_COSECHA/PLANOS_2/PLANO_333.pdf']\n",
      "-*************************************\n",
      "23\n",
      "['G:/OneDrive - Ingenio Azucarero Guabira S.A/_DATOS_PYTHON/_tes_pdf/24.pdf', 'G:/Ingenio Azucarero Guabira S.A/UTEA - SEMANAL - AVANCE COSECHA/2023/ANALISIS DE CAÑA EN CAMPO 2023/REPORTE_AVANCE_COSECHA/PLANOS_2/PLANO_1774.pdf', 'G:/Ingenio Azucarero Guabira S.A/UTEA - SEMANAL - AVANCE COSECHA/2023/ANALISIS DE CAÑA EN CAMPO 2023/REPORTE_AVANCE_COSECHA/PLANOS_2/PLANO_1855.pdf']\n",
      "-*************************************\n",
      "24\n",
      "['G:/OneDrive - Ingenio Azucarero Guabira S.A/_DATOS_PYTHON/_tes_pdf/25.pdf', 'G:/Ingenio Azucarero Guabira S.A/UTEA - SEMANAL - AVANCE COSECHA/2023/ANALISIS DE CAÑA EN CAMPO 2023/REPORTE_AVANCE_COSECHA/PLANOS_2/PLANO_766.pdf']\n",
      "-*************************************\n",
      "25\n",
      "['G:/OneDrive - Ingenio Azucarero Guabira S.A/_DATOS_PYTHON/_tes_pdf/26.pdf', 'G:/Ingenio Azucarero Guabira S.A/UTEA - SEMANAL - AVANCE COSECHA/2023/ANALISIS DE CAÑA EN CAMPO 2023/REPORTE_AVANCE_COSECHA/PLANOS_2/PLANO_320.pdf']\n",
      "-*************************************\n",
      "26\n",
      "['G:/OneDrive - Ingenio Azucarero Guabira S.A/_DATOS_PYTHON/_tes_pdf/28.pdf', 'G:/Ingenio Azucarero Guabira S.A/UTEA - SEMANAL - AVANCE COSECHA/2023/ANALISIS DE CAÑA EN CAMPO 2023/REPORTE_AVANCE_COSECHA/PLANOS_2/PLANO_1100.pdf', 'G:/Ingenio Azucarero Guabira S.A/UTEA - SEMANAL - AVANCE COSECHA/2023/ANALISIS DE CAÑA EN CAMPO 2023/REPORTE_AVANCE_COSECHA/PLANOS_2/PLANO_277.pdf']\n",
      "-*************************************\n",
      "28\n",
      "['G:/OneDrive - Ingenio Azucarero Guabira S.A/_DATOS_PYTHON/_tes_pdf/29.pdf', 'G:/Ingenio Azucarero Guabira S.A/UTEA - SEMANAL - AVANCE COSECHA/2023/ANALISIS DE CAÑA EN CAMPO 2023/REPORTE_AVANCE_COSECHA/PLANOS_2/PLANO_1656.pdf', 'G:/Ingenio Azucarero Guabira S.A/UTEA - SEMANAL - AVANCE COSECHA/2023/ANALISIS DE CAÑA EN CAMPO 2023/REPORTE_AVANCE_COSECHA/PLANOS_2/PLANO_1961.pdf', 'G:/Ingenio Azucarero Guabira S.A/UTEA - SEMANAL - AVANCE COSECHA/2023/ANALISIS DE CAÑA EN CAMPO 2023/REPORTE_AVANCE_COSECHA/PLANOS_2/PLANO_1962.pdf']\n",
      "-*************************************\n",
      "29\n",
      "['G:/OneDrive - Ingenio Azucarero Guabira S.A/_DATOS_PYTHON/_tes_pdf/30.pdf', 'G:/Ingenio Azucarero Guabira S.A/UTEA - SEMANAL - AVANCE COSECHA/2023/ANALISIS DE CAÑA EN CAMPO 2023/REPORTE_AVANCE_COSECHA/PLANOS_2/PLANO_216.pdf', 'G:/Ingenio Azucarero Guabira S.A/UTEA - SEMANAL - AVANCE COSECHA/2023/ANALISIS DE CAÑA EN CAMPO 2023/REPORTE_AVANCE_COSECHA/PLANOS_2/PLANO_256.pdf', 'G:/Ingenio Azucarero Guabira S.A/UTEA - SEMANAL - AVANCE COSECHA/2023/ANALISIS DE CAÑA EN CAMPO 2023/REPORTE_AVANCE_COSECHA/PLANOS_2/PLANO_217.pdf']\n",
      "-*************************************\n",
      "30\n",
      "['G:/OneDrive - Ingenio Azucarero Guabira S.A/_DATOS_PYTHON/_tes_pdf/31.pdf', 'G:/Ingenio Azucarero Guabira S.A/UTEA - SEMANAL - AVANCE COSECHA/2023/ANALISIS DE CAÑA EN CAMPO 2023/REPORTE_AVANCE_COSECHA/PLANOS_2/PLANO_197.pdf', 'G:/Ingenio Azucarero Guabira S.A/UTEA - SEMANAL - AVANCE COSECHA/2023/ANALISIS DE CAÑA EN CAMPO 2023/REPORTE_AVANCE_COSECHA/PLANOS_2/PLANO_198.pdf', 'G:/Ingenio Azucarero Guabira S.A/UTEA - SEMANAL - AVANCE COSECHA/2023/ANALISIS DE CAÑA EN CAMPO 2023/REPORTE_AVANCE_COSECHA/PLANOS_2/PLANO_969.pdf', 'G:/Ingenio Azucarero Guabira S.A/UTEA - SEMANAL - AVANCE COSECHA/2023/ANALISIS DE CAÑA EN CAMPO 2023/REPORTE_AVANCE_COSECHA/PLANOS_2/PLANO_1450.pdf', 'G:/Ingenio Azucarero Guabira S.A/UTEA - SEMANAL - AVANCE COSECHA/2023/ANALISIS DE CAÑA EN CAMPO 2023/REPORTE_AVANCE_COSECHA/PLANOS_2/PLANO_877.pdf', 'G:/Ingenio Azucarero Guabira S.A/UTEA - SEMANAL - AVANCE COSECHA/2023/ANALISIS DE CAÑA EN CAMPO 2023/REPORTE_AVANCE_COSECHA/PLANOS_2/PLANO_84.pdf', 'G:/Ingenio Azucarero Guabira S.A/UTEA - SEMANAL - AVANCE COSECHA/2023/ANALISIS DE CAÑA EN CAMPO 2023/REPORTE_AVANCE_COSECHA/PLANOS_2/PLANO_1049.pdf', 'G:/Ingenio Azucarero Guabira S.A/UTEA - SEMANAL - AVANCE COSECHA/2023/ANALISIS DE CAÑA EN CAMPO 2023/REPORTE_AVANCE_COSECHA/PLANOS_2/PLANO_700.pdf', 'G:/Ingenio Azucarero Guabira S.A/UTEA - SEMANAL - AVANCE COSECHA/2023/ANALISIS DE CAÑA EN CAMPO 2023/REPORTE_AVANCE_COSECHA/PLANOS_2/PLANO_1213.pdf', 'G:/Ingenio Azucarero Guabira S.A/UTEA - SEMANAL - AVANCE COSECHA/2023/ANALISIS DE CAÑA EN CAMPO 2023/REPORTE_AVANCE_COSECHA/PLANOS_2/PLANO_1214.pdf']\n",
      "-*************************************\n",
      "31\n",
      "['G:/OneDrive - Ingenio Azucarero Guabira S.A/_DATOS_PYTHON/_tes_pdf/32.pdf', 'G:/Ingenio Azucarero Guabira S.A/UTEA - SEMANAL - AVANCE COSECHA/2023/ANALISIS DE CAÑA EN CAMPO 2023/REPORTE_AVANCE_COSECHA/PLANOS_2/PLANO_930.pdf', 'G:/Ingenio Azucarero Guabira S.A/UTEA - SEMANAL - AVANCE COSECHA/2023/ANALISIS DE CAÑA EN CAMPO 2023/REPORTE_AVANCE_COSECHA/PLANOS_2/PLANO_1287.pdf', 'G:/Ingenio Azucarero Guabira S.A/UTEA - SEMANAL - AVANCE COSECHA/2023/ANALISIS DE CAÑA EN CAMPO 2023/REPORTE_AVANCE_COSECHA/PLANOS_2/PLANO_1171.pdf', 'G:/Ingenio Azucarero Guabira S.A/UTEA - SEMANAL - AVANCE COSECHA/2023/ANALISIS DE CAÑA EN CAMPO 2023/REPORTE_AVANCE_COSECHA/PLANOS_2/PLANO_186.pdf', 'G:/Ingenio Azucarero Guabira S.A/UTEA - SEMANAL - AVANCE COSECHA/2023/ANALISIS DE CAÑA EN CAMPO 2023/REPORTE_AVANCE_COSECHA/PLANOS_2/PLANO_1244.pdf', 'G:/Ingenio Azucarero Guabira S.A/UTEA - SEMANAL - AVANCE COSECHA/2023/ANALISIS DE CAÑA EN CAMPO 2023/REPORTE_AVANCE_COSECHA/PLANOS_2/PLANO_927.pdf']\n",
      "-*************************************\n",
      "32\n",
      "['G:/OneDrive - Ingenio Azucarero Guabira S.A/_DATOS_PYTHON/_tes_pdf/33.pdf', 'G:/Ingenio Azucarero Guabira S.A/UTEA - SEMANAL - AVANCE COSECHA/2023/ANALISIS DE CAÑA EN CAMPO 2023/REPORTE_AVANCE_COSECHA/PLANOS_2/PLANO_325.pdf']\n",
      "-*************************************\n",
      "33\n",
      "['G:/OneDrive - Ingenio Azucarero Guabira S.A/_DATOS_PYTHON/_tes_pdf/34.pdf', 'G:/Ingenio Azucarero Guabira S.A/UTEA - SEMANAL - AVANCE COSECHA/2023/ANALISIS DE CAÑA EN CAMPO 2023/REPORTE_AVANCE_COSECHA/PLANOS_2/PLANO_1336.pdf', 'G:/Ingenio Azucarero Guabira S.A/UTEA - SEMANAL - AVANCE COSECHA/2023/ANALISIS DE CAÑA EN CAMPO 2023/REPORTE_AVANCE_COSECHA/PLANOS_2/PLANO_1337.pdf', 'G:/Ingenio Azucarero Guabira S.A/UTEA - SEMANAL - AVANCE COSECHA/2023/ANALISIS DE CAÑA EN CAMPO 2023/REPORTE_AVANCE_COSECHA/PLANOS_2/PLANO_1645.pdf', 'G:/Ingenio Azucarero Guabira S.A/UTEA - SEMANAL - AVANCE COSECHA/2023/ANALISIS DE CAÑA EN CAMPO 2023/REPORTE_AVANCE_COSECHA/PLANOS_2/PLANO_1335.pdf']\n",
      "-*************************************\n",
      "34\n",
      "['G:/OneDrive - Ingenio Azucarero Guabira S.A/_DATOS_PYTHON/_tes_pdf/35.pdf', 'G:/Ingenio Azucarero Guabira S.A/UTEA - SEMANAL - AVANCE COSECHA/2023/ANALISIS DE CAÑA EN CAMPO 2023/REPORTE_AVANCE_COSECHA/PLANOS_2/PLANO_288.pdf']\n",
      "-*************************************\n",
      "35\n",
      "['G:/OneDrive - Ingenio Azucarero Guabira S.A/_DATOS_PYTHON/_tes_pdf/36.pdf', 'G:/Ingenio Azucarero Guabira S.A/UTEA - SEMANAL - AVANCE COSECHA/2023/ANALISIS DE CAÑA EN CAMPO 2023/REPORTE_AVANCE_COSECHA/PLANOS_2/PLANO_1615.pdf']\n",
      "-*************************************\n",
      "36\n",
      "['G:/OneDrive - Ingenio Azucarero Guabira S.A/_DATOS_PYTHON/_tes_pdf/37.pdf', 'G:/Ingenio Azucarero Guabira S.A/UTEA - SEMANAL - AVANCE COSECHA/2023/ANALISIS DE CAÑA EN CAMPO 2023/REPORTE_AVANCE_COSECHA/PLANOS_2/PLANO_327.pdf']\n",
      "-*************************************\n",
      "37\n",
      "['G:/OneDrive - Ingenio Azucarero Guabira S.A/_DATOS_PYTHON/_tes_pdf/38.pdf', 'G:/Ingenio Azucarero Guabira S.A/UTEA - SEMANAL - AVANCE COSECHA/2023/ANALISIS DE CAÑA EN CAMPO 2023/REPORTE_AVANCE_COSECHA/PLANOS_2/PLANO_141.pdf', 'G:/Ingenio Azucarero Guabira S.A/UTEA - SEMANAL - AVANCE COSECHA/2023/ANALISIS DE CAÑA EN CAMPO 2023/REPORTE_AVANCE_COSECHA/PLANOS_2/PLANO_142.pdf']\n",
      "-*************************************\n",
      "38\n",
      "['G:/OneDrive - Ingenio Azucarero Guabira S.A/_DATOS_PYTHON/_tes_pdf/39.pdf', 'G:/Ingenio Azucarero Guabira S.A/UTEA - SEMANAL - AVANCE COSECHA/2023/ANALISIS DE CAÑA EN CAMPO 2023/REPORTE_AVANCE_COSECHA/PLANOS_2/PLANO_285.pdf', 'G:/Ingenio Azucarero Guabira S.A/UTEA - SEMANAL - AVANCE COSECHA/2023/ANALISIS DE CAÑA EN CAMPO 2023/REPORTE_AVANCE_COSECHA/PLANOS_2/PLANO_286.pdf', 'G:/Ingenio Azucarero Guabira S.A/UTEA - SEMANAL - AVANCE COSECHA/2023/ANALISIS DE CAÑA EN CAMPO 2023/REPORTE_AVANCE_COSECHA/PLANOS_2/PLANO_287.pdf']\n",
      "-*************************************\n",
      "39\n",
      "['G:/OneDrive - Ingenio Azucarero Guabira S.A/_DATOS_PYTHON/_tes_pdf/40.pdf', 'G:/Ingenio Azucarero Guabira S.A/UTEA - SEMANAL - AVANCE COSECHA/2023/ANALISIS DE CAÑA EN CAMPO 2023/REPORTE_AVANCE_COSECHA/PLANOS_2/PLANO_629.pdf']\n",
      "-*************************************\n",
      "40\n",
      "['G:/OneDrive - Ingenio Azucarero Guabira S.A/_DATOS_PYTHON/_tes_pdf/41.pdf', 'G:/Ingenio Azucarero Guabira S.A/UTEA - SEMANAL - AVANCE COSECHA/2023/ANALISIS DE CAÑA EN CAMPO 2023/REPORTE_AVANCE_COSECHA/PLANOS_2/PLANO_30.pdf']\n",
      "-*************************************\n",
      "41\n",
      "['G:/OneDrive - Ingenio Azucarero Guabira S.A/_DATOS_PYTHON/_tes_pdf/42.pdf', 'G:/Ingenio Azucarero Guabira S.A/UTEA - SEMANAL - AVANCE COSECHA/2023/ANALISIS DE CAÑA EN CAMPO 2023/REPORTE_AVANCE_COSECHA/PLANOS_2/PLANO_115.pdf']\n",
      "-*************************************\n",
      "42\n",
      "['G:/OneDrive - Ingenio Azucarero Guabira S.A/_DATOS_PYTHON/_tes_pdf/43.pdf', 'G:/Ingenio Azucarero Guabira S.A/UTEA - SEMANAL - AVANCE COSECHA/2023/ANALISIS DE CAÑA EN CAMPO 2023/REPORTE_AVANCE_COSECHA/PLANOS_2/PLANO_1015.pdf']\n",
      "-*************************************\n",
      "43\n",
      "['G:/OneDrive - Ingenio Azucarero Guabira S.A/_DATOS_PYTHON/_tes_pdf/44.pdf', 'G:/Ingenio Azucarero Guabira S.A/UTEA - SEMANAL - AVANCE COSECHA/2023/ANALISIS DE CAÑA EN CAMPO 2023/REPORTE_AVANCE_COSECHA/PLANOS_2/PLANO_1561.pdf', 'G:/Ingenio Azucarero Guabira S.A/UTEA - SEMANAL - AVANCE COSECHA/2023/ANALISIS DE CAÑA EN CAMPO 2023/REPORTE_AVANCE_COSECHA/PLANOS_2/PLANO_1090.pdf']\n",
      "-*************************************\n",
      "44\n",
      "['G:/OneDrive - Ingenio Azucarero Guabira S.A/_DATOS_PYTHON/_tes_pdf/45.pdf', 'G:/Ingenio Azucarero Guabira S.A/UTEA - SEMANAL - AVANCE COSECHA/2023/ANALISIS DE CAÑA EN CAMPO 2023/REPORTE_AVANCE_COSECHA/PLANOS_2/PLANO_1833.pdf', 'G:/Ingenio Azucarero Guabira S.A/UTEA - SEMANAL - AVANCE COSECHA/2023/ANALISIS DE CAÑA EN CAMPO 2023/REPORTE_AVANCE_COSECHA/PLANOS_2/PLANO_551.pdf']\n",
      "-*************************************\n",
      "45\n",
      "['G:/OneDrive - Ingenio Azucarero Guabira S.A/_DATOS_PYTHON/_tes_pdf/46.pdf', 'G:/Ingenio Azucarero Guabira S.A/UTEA - SEMANAL - AVANCE COSECHA/2023/ANALISIS DE CAÑA EN CAMPO 2023/REPORTE_AVANCE_COSECHA/PLANOS_2/PLANO_1618.pdf', 'G:/Ingenio Azucarero Guabira S.A/UTEA - SEMANAL - AVANCE COSECHA/2023/ANALISIS DE CAÑA EN CAMPO 2023/REPORTE_AVANCE_COSECHA/PLANOS_2/PLANO_1707.pdf']\n",
      "-*************************************\n",
      "46\n",
      "['G:/OneDrive - Ingenio Azucarero Guabira S.A/_DATOS_PYTHON/_tes_pdf/47.pdf', 'G:/Ingenio Azucarero Guabira S.A/UTEA - SEMANAL - AVANCE COSECHA/2023/ANALISIS DE CAÑA EN CAMPO 2023/REPORTE_AVANCE_COSECHA/PLANOS_2/PLANO_343.pdf']\n",
      "-*************************************\n",
      "47\n",
      "['G:/OneDrive - Ingenio Azucarero Guabira S.A/_DATOS_PYTHON/_tes_pdf/48.pdf', 'G:/Ingenio Azucarero Guabira S.A/UTEA - SEMANAL - AVANCE COSECHA/2023/ANALISIS DE CAÑA EN CAMPO 2023/REPORTE_AVANCE_COSECHA/PLANOS_2/PLANO_559.pdf']\n",
      "-*************************************\n",
      "48\n",
      "['G:/OneDrive - Ingenio Azucarero Guabira S.A/_DATOS_PYTHON/_tes_pdf/49.pdf', 'G:/Ingenio Azucarero Guabira S.A/UTEA - SEMANAL - AVANCE COSECHA/2023/ANALISIS DE CAÑA EN CAMPO 2023/REPORTE_AVANCE_COSECHA/PLANOS_2/PLANO_1442.pdf']\n",
      "-*************************************\n",
      "49\n",
      "['G:/OneDrive - Ingenio Azucarero Guabira S.A/_DATOS_PYTHON/_tes_pdf/50.pdf', 'G:/Ingenio Azucarero Guabira S.A/UTEA - SEMANAL - AVANCE COSECHA/2023/ANALISIS DE CAÑA EN CAMPO 2023/REPORTE_AVANCE_COSECHA/PLANOS_2/PLANO_122.pdf']\n",
      "-*************************************\n",
      "50\n",
      "['G:/OneDrive - Ingenio Azucarero Guabira S.A/_DATOS_PYTHON/_tes_pdf/51.pdf', 'G:/Ingenio Azucarero Guabira S.A/UTEA - SEMANAL - AVANCE COSECHA/2023/ANALISIS DE CAÑA EN CAMPO 2023/REPORTE_AVANCE_COSECHA/PLANOS_2/PLANO_257.pdf']\n",
      "-*************************************\n",
      "51\n",
      "['G:/OneDrive - Ingenio Azucarero Guabira S.A/_DATOS_PYTHON/_tes_pdf/52.pdf', 'G:/Ingenio Azucarero Guabira S.A/UTEA - SEMANAL - AVANCE COSECHA/2023/ANALISIS DE CAÑA EN CAMPO 2023/REPORTE_AVANCE_COSECHA/PLANOS_2/PLANO_219.pdf', 'G:/Ingenio Azucarero Guabira S.A/UTEA - SEMANAL - AVANCE COSECHA/2023/ANALISIS DE CAÑA EN CAMPO 2023/REPORTE_AVANCE_COSECHA/PLANOS_2/PLANO_324.pdf']\n",
      "-*************************************\n",
      "52\n",
      "['G:/OneDrive - Ingenio Azucarero Guabira S.A/_DATOS_PYTHON/_tes_pdf/54.pdf', 'G:/Ingenio Azucarero Guabira S.A/UTEA - SEMANAL - AVANCE COSECHA/2023/ANALISIS DE CAÑA EN CAMPO 2023/REPORTE_AVANCE_COSECHA/PLANOS_2/PLANO_928.pdf', 'G:/Ingenio Azucarero Guabira S.A/UTEA - SEMANAL - AVANCE COSECHA/2023/ANALISIS DE CAÑA EN CAMPO 2023/REPORTE_AVANCE_COSECHA/PLANOS_2/PLANO_932.pdf', 'G:/Ingenio Azucarero Guabira S.A/UTEA - SEMANAL - AVANCE COSECHA/2023/ANALISIS DE CAÑA EN CAMPO 2023/REPORTE_AVANCE_COSECHA/PLANOS_2/PLANO_361.pdf', 'G:/Ingenio Azucarero Guabira S.A/UTEA - SEMANAL - AVANCE COSECHA/2023/ANALISIS DE CAÑA EN CAMPO 2023/REPORTE_AVANCE_COSECHA/PLANOS_2/PLANO_1358.pdf', 'G:/Ingenio Azucarero Guabira S.A/UTEA - SEMANAL - AVANCE COSECHA/2023/ANALISIS DE CAÑA EN CAMPO 2023/REPORTE_AVANCE_COSECHA/PLANOS_2/PLANO_1359.pdf']\n",
      "-*************************************\n",
      "54\n",
      "['G:/OneDrive - Ingenio Azucarero Guabira S.A/_DATOS_PYTHON/_tes_pdf/55.pdf', 'G:/Ingenio Azucarero Guabira S.A/UTEA - SEMANAL - AVANCE COSECHA/2023/ANALISIS DE CAÑA EN CAMPO 2023/REPORTE_AVANCE_COSECHA/PLANOS_2/PLANO_1024.pdf', 'G:/Ingenio Azucarero Guabira S.A/UTEA - SEMANAL - AVANCE COSECHA/2023/ANALISIS DE CAÑA EN CAMPO 2023/REPORTE_AVANCE_COSECHA/PLANOS_2/PLANO_1025.pdf', 'G:/Ingenio Azucarero Guabira S.A/UTEA - SEMANAL - AVANCE COSECHA/2023/ANALISIS DE CAÑA EN CAMPO 2023/REPORTE_AVANCE_COSECHA/PLANOS_2/PLANO_963.pdf', 'G:/Ingenio Azucarero Guabira S.A/UTEA - SEMANAL - AVANCE COSECHA/2023/ANALISIS DE CAÑA EN CAMPO 2023/REPORTE_AVANCE_COSECHA/PLANOS_2/PLANO_964.pdf', 'G:/Ingenio Azucarero Guabira S.A/UTEA - SEMANAL - AVANCE COSECHA/2023/ANALISIS DE CAÑA EN CAMPO 2023/REPORTE_AVANCE_COSECHA/PLANOS_2/PLANO_1700.pdf', 'G:/Ingenio Azucarero Guabira S.A/UTEA - SEMANAL - AVANCE COSECHA/2023/ANALISIS DE CAÑA EN CAMPO 2023/REPORTE_AVANCE_COSECHA/PLANOS_2/PLANO_1033.pdf', 'G:/Ingenio Azucarero Guabira S.A/UTEA - SEMANAL - AVANCE COSECHA/2023/ANALISIS DE CAÑA EN CAMPO 2023/REPORTE_AVANCE_COSECHA/PLANOS_2/PLANO_1034.pdf']\n",
      "-*************************************\n",
      "55\n",
      "['G:/OneDrive - Ingenio Azucarero Guabira S.A/_DATOS_PYTHON/_tes_pdf/56.pdf', 'G:/Ingenio Azucarero Guabira S.A/UTEA - SEMANAL - AVANCE COSECHA/2023/ANALISIS DE CAÑA EN CAMPO 2023/REPORTE_AVANCE_COSECHA/PLANOS_2/PLANO_554.pdf', 'G:/Ingenio Azucarero Guabira S.A/UTEA - SEMANAL - AVANCE COSECHA/2023/ANALISIS DE CAÑA EN CAMPO 2023/REPORTE_AVANCE_COSECHA/PLANOS_2/PLANO_398.pdf', 'G:/Ingenio Azucarero Guabira S.A/UTEA - SEMANAL - AVANCE COSECHA/2023/ANALISIS DE CAÑA EN CAMPO 2023/REPORTE_AVANCE_COSECHA/PLANOS_2/PLANO_720.pdf', 'G:/Ingenio Azucarero Guabira S.A/UTEA - SEMANAL - AVANCE COSECHA/2023/ANALISIS DE CAÑA EN CAMPO 2023/REPORTE_AVANCE_COSECHA/PLANOS_2/PLANO_755.pdf', 'G:/Ingenio Azucarero Guabira S.A/UTEA - SEMANAL - AVANCE COSECHA/2023/ANALISIS DE CAÑA EN CAMPO 2023/REPORTE_AVANCE_COSECHA/PLANOS_2/PLANO_757.pdf']\n",
      "-*************************************\n",
      "56\n",
      "['G:/OneDrive - Ingenio Azucarero Guabira S.A/_DATOS_PYTHON/_tes_pdf/57.pdf', 'G:/Ingenio Azucarero Guabira S.A/UTEA - SEMANAL - AVANCE COSECHA/2023/ANALISIS DE CAÑA EN CAMPO 2023/REPORTE_AVANCE_COSECHA/PLANOS_2/PLANO_1665.pdf', 'G:/Ingenio Azucarero Guabira S.A/UTEA - SEMANAL - AVANCE COSECHA/2023/ANALISIS DE CAÑA EN CAMPO 2023/REPORTE_AVANCE_COSECHA/PLANOS_2/PLANO_1896.pdf', 'G:/Ingenio Azucarero Guabira S.A/UTEA - SEMANAL - AVANCE COSECHA/2023/ANALISIS DE CAÑA EN CAMPO 2023/REPORTE_AVANCE_COSECHA/PLANOS_2/PLANO_623.pdf', 'G:/Ingenio Azucarero Guabira S.A/UTEA - SEMANAL - AVANCE COSECHA/2023/ANALISIS DE CAÑA EN CAMPO 2023/REPORTE_AVANCE_COSECHA/PLANOS_2/PLANO_756.pdf', 'G:/Ingenio Azucarero Guabira S.A/UTEA - SEMANAL - AVANCE COSECHA/2023/ANALISIS DE CAÑA EN CAMPO 2023/REPORTE_AVANCE_COSECHA/PLANOS_2/PLANO_1176.pdf', 'G:/Ingenio Azucarero Guabira S.A/UTEA - SEMANAL - AVANCE COSECHA/2023/ANALISIS DE CAÑA EN CAMPO 2023/REPORTE_AVANCE_COSECHA/PLANOS_2/PLANO_1177.pdf', 'G:/Ingenio Azucarero Guabira S.A/UTEA - SEMANAL - AVANCE COSECHA/2023/ANALISIS DE CAÑA EN CAMPO 2023/REPORTE_AVANCE_COSECHA/PLANOS_2/PLANO_1178.pdf', 'G:/Ingenio Azucarero Guabira S.A/UTEA - SEMANAL - AVANCE COSECHA/2023/ANALISIS DE CAÑA EN CAMPO 2023/REPORTE_AVANCE_COSECHA/PLANOS_2/PLANO_1179.pdf', 'G:/Ingenio Azucarero Guabira S.A/UTEA - SEMANAL - AVANCE COSECHA/2023/ANALISIS DE CAÑA EN CAMPO 2023/REPORTE_AVANCE_COSECHA/PLANOS_2/PLANO_1181.pdf']\n",
      "-*************************************\n",
      "57\n",
      "['G:/OneDrive - Ingenio Azucarero Guabira S.A/_DATOS_PYTHON/_tes_pdf/58.pdf', 'G:/Ingenio Azucarero Guabira S.A/UTEA - SEMANAL - AVANCE COSECHA/2023/ANALISIS DE CAÑA EN CAMPO 2023/REPORTE_AVANCE_COSECHA/PLANOS_2/PLANO_1379.pdf', 'G:/Ingenio Azucarero Guabira S.A/UTEA - SEMANAL - AVANCE COSECHA/2023/ANALISIS DE CAÑA EN CAMPO 2023/REPORTE_AVANCE_COSECHA/PLANOS_2/PLANO_1354.pdf', 'G:/Ingenio Azucarero Guabira S.A/UTEA - SEMANAL - AVANCE COSECHA/2023/ANALISIS DE CAÑA EN CAMPO 2023/REPORTE_AVANCE_COSECHA/PLANOS_2/PLANO_1364.pdf', 'G:/Ingenio Azucarero Guabira S.A/UTEA - SEMANAL - AVANCE COSECHA/2023/ANALISIS DE CAÑA EN CAMPO 2023/REPORTE_AVANCE_COSECHA/PLANOS_2/PLANO_1686.pdf', 'G:/Ingenio Azucarero Guabira S.A/UTEA - SEMANAL - AVANCE COSECHA/2023/ANALISIS DE CAÑA EN CAMPO 2023/REPORTE_AVANCE_COSECHA/PLANOS_2/PLANO_1687.pdf', 'G:/Ingenio Azucarero Guabira S.A/UTEA - SEMANAL - AVANCE COSECHA/2023/ANALISIS DE CAÑA EN CAMPO 2023/REPORTE_AVANCE_COSECHA/PLANOS_2/PLANO_729.pdf', 'G:/Ingenio Azucarero Guabira S.A/UTEA - SEMANAL - AVANCE COSECHA/2023/ANALISIS DE CAÑA EN CAMPO 2023/REPORTE_AVANCE_COSECHA/PLANOS_2/PLANO_1342.pdf', 'G:/Ingenio Azucarero Guabira S.A/UTEA - SEMANAL - AVANCE COSECHA/2023/ANALISIS DE CAÑA EN CAMPO 2023/REPORTE_AVANCE_COSECHA/PLANOS_2/PLANO_159.pdf']\n",
      "-*************************************\n",
      "58\n",
      "['G:/OneDrive - Ingenio Azucarero Guabira S.A/_DATOS_PYTHON/_tes_pdf/59.pdf', 'G:/Ingenio Azucarero Guabira S.A/UTEA - SEMANAL - AVANCE COSECHA/2023/ANALISIS DE CAÑA EN CAMPO 2023/REPORTE_AVANCE_COSECHA/PLANOS_2/PLANO_1528.pdf', 'G:/Ingenio Azucarero Guabira S.A/UTEA - SEMANAL - AVANCE COSECHA/2023/ANALISIS DE CAÑA EN CAMPO 2023/REPORTE_AVANCE_COSECHA/PLANOS_2/PLANO_858.pdf', 'G:/Ingenio Azucarero Guabira S.A/UTEA - SEMANAL - AVANCE COSECHA/2023/ANALISIS DE CAÑA EN CAMPO 2023/REPORTE_AVANCE_COSECHA/PLANOS_2/PLANO_699.pdf']\n",
      "-*************************************\n",
      "59\n",
      "['G:/OneDrive - Ingenio Azucarero Guabira S.A/_DATOS_PYTHON/_tes_pdf/60.pdf', 'G:/Ingenio Azucarero Guabira S.A/UTEA - SEMANAL - AVANCE COSECHA/2023/ANALISIS DE CAÑA EN CAMPO 2023/REPORTE_AVANCE_COSECHA/PLANOS_2/PLANO_301.pdf', 'G:/Ingenio Azucarero Guabira S.A/UTEA - SEMANAL - AVANCE COSECHA/2023/ANALISIS DE CAÑA EN CAMPO 2023/REPORTE_AVANCE_COSECHA/PLANOS_2/PLANO_302.pdf', 'G:/Ingenio Azucarero Guabira S.A/UTEA - SEMANAL - AVANCE COSECHA/2023/ANALISIS DE CAÑA EN CAMPO 2023/REPORTE_AVANCE_COSECHA/PLANOS_2/PLANO_303.pdf', 'G:/Ingenio Azucarero Guabira S.A/UTEA - SEMANAL - AVANCE COSECHA/2023/ANALISIS DE CAÑA EN CAMPO 2023/REPORTE_AVANCE_COSECHA/PLANOS_2/PLANO_304.pdf', 'G:/Ingenio Azucarero Guabira S.A/UTEA - SEMANAL - AVANCE COSECHA/2023/ANALISIS DE CAÑA EN CAMPO 2023/REPORTE_AVANCE_COSECHA/PLANOS_2/PLANO_305.pdf']\n",
      "-*************************************\n",
      "60\n",
      "['G:/OneDrive - Ingenio Azucarero Guabira S.A/_DATOS_PYTHON/_tes_pdf/61.pdf', 'G:/Ingenio Azucarero Guabira S.A/UTEA - SEMANAL - AVANCE COSECHA/2023/ANALISIS DE CAÑA EN CAMPO 2023/REPORTE_AVANCE_COSECHA/PLANOS_2/PLANO_1765.pdf', 'G:/Ingenio Azucarero Guabira S.A/UTEA - SEMANAL - AVANCE COSECHA/2023/ANALISIS DE CAÑA EN CAMPO 2023/REPORTE_AVANCE_COSECHA/PLANOS_2/PLANO_1324.pdf', 'G:/Ingenio Azucarero Guabira S.A/UTEA - SEMANAL - AVANCE COSECHA/2023/ANALISIS DE CAÑA EN CAMPO 2023/REPORTE_AVANCE_COSECHA/PLANOS_2/PLANO_398.pdf', 'G:/Ingenio Azucarero Guabira S.A/UTEA - SEMANAL - AVANCE COSECHA/2023/ANALISIS DE CAÑA EN CAMPO 2023/REPORTE_AVANCE_COSECHA/PLANOS_2/PLANO_1790.pdf', 'G:/Ingenio Azucarero Guabira S.A/UTEA - SEMANAL - AVANCE COSECHA/2023/ANALISIS DE CAÑA EN CAMPO 2023/REPORTE_AVANCE_COSECHA/PLANOS_2/PLANO_57.pdf', 'G:/Ingenio Azucarero Guabira S.A/UTEA - SEMANAL - AVANCE COSECHA/2023/ANALISIS DE CAÑA EN CAMPO 2023/REPORTE_AVANCE_COSECHA/PLANOS_2/PLANO_988.pdf', 'G:/Ingenio Azucarero Guabira S.A/UTEA - SEMANAL - AVANCE COSECHA/2023/ANALISIS DE CAÑA EN CAMPO 2023/REPORTE_AVANCE_COSECHA/PLANOS_2/PLANO_1085.pdf', 'G:/Ingenio Azucarero Guabira S.A/UTEA - SEMANAL - AVANCE COSECHA/2023/ANALISIS DE CAÑA EN CAMPO 2023/REPORTE_AVANCE_COSECHA/PLANOS_2/PLANO_1086.pdf']\n",
      "-*************************************\n",
      "61\n",
      "['G:/OneDrive - Ingenio Azucarero Guabira S.A/_DATOS_PYTHON/_tes_pdf/62.pdf', 'G:/Ingenio Azucarero Guabira S.A/UTEA - SEMANAL - AVANCE COSECHA/2023/ANALISIS DE CAÑA EN CAMPO 2023/REPORTE_AVANCE_COSECHA/PLANOS_2/PLANO_902.pdf']\n",
      "-*************************************\n",
      "62\n",
      "['G:/OneDrive - Ingenio Azucarero Guabira S.A/_DATOS_PYTHON/_tes_pdf/63.pdf', 'G:/Ingenio Azucarero Guabira S.A/UTEA - SEMANAL - AVANCE COSECHA/2023/ANALISIS DE CAÑA EN CAMPO 2023/REPORTE_AVANCE_COSECHA/PLANOS_2/PLANO_774.pdf', 'G:/Ingenio Azucarero Guabira S.A/UTEA - SEMANAL - AVANCE COSECHA/2023/ANALISIS DE CAÑA EN CAMPO 2023/REPORTE_AVANCE_COSECHA/PLANOS_2/PLANO_775.pdf']\n",
      "-*************************************\n",
      "63\n",
      "['G:/OneDrive - Ingenio Azucarero Guabira S.A/_DATOS_PYTHON/_tes_pdf/64.pdf', 'G:/Ingenio Azucarero Guabira S.A/UTEA - SEMANAL - AVANCE COSECHA/2023/ANALISIS DE CAÑA EN CAMPO 2023/REPORTE_AVANCE_COSECHA/PLANOS_2/PLANO_1428.pdf', 'G:/Ingenio Azucarero Guabira S.A/UTEA - SEMANAL - AVANCE COSECHA/2023/ANALISIS DE CAÑA EN CAMPO 2023/REPORTE_AVANCE_COSECHA/PLANOS_2/PLANO_1413.pdf']\n",
      "-*************************************\n",
      "64\n",
      "['G:/OneDrive - Ingenio Azucarero Guabira S.A/_DATOS_PYTHON/_tes_pdf/65.pdf', 'G:/Ingenio Azucarero Guabira S.A/UTEA - SEMANAL - AVANCE COSECHA/2023/ANALISIS DE CAÑA EN CAMPO 2023/REPORTE_AVANCE_COSECHA/PLANOS_2/PLANO_1609.pdf', 'G:/Ingenio Azucarero Guabira S.A/UTEA - SEMANAL - AVANCE COSECHA/2023/ANALISIS DE CAÑA EN CAMPO 2023/REPORTE_AVANCE_COSECHA/PLANOS_2/PLANO_873.pdf']\n",
      "-*************************************\n",
      "65\n",
      "['G:/OneDrive - Ingenio Azucarero Guabira S.A/_DATOS_PYTHON/_tes_pdf/67.pdf', 'G:/Ingenio Azucarero Guabira S.A/UTEA - SEMANAL - AVANCE COSECHA/2023/ANALISIS DE CAÑA EN CAMPO 2023/REPORTE_AVANCE_COSECHA/PLANOS_2/PLANO_776.pdf', 'G:/Ingenio Azucarero Guabira S.A/UTEA - SEMANAL - AVANCE COSECHA/2023/ANALISIS DE CAÑA EN CAMPO 2023/REPORTE_AVANCE_COSECHA/PLANOS_2/PLANO_1321.pdf', 'G:/Ingenio Azucarero Guabira S.A/UTEA - SEMANAL - AVANCE COSECHA/2023/ANALISIS DE CAÑA EN CAMPO 2023/REPORTE_AVANCE_COSECHA/PLANOS_2/PLANO_46.pdf', 'G:/Ingenio Azucarero Guabira S.A/UTEA - SEMANAL - AVANCE COSECHA/2023/ANALISIS DE CAÑA EN CAMPO 2023/REPORTE_AVANCE_COSECHA/PLANOS_2/PLANO_719.pdf']\n",
      "-*************************************\n",
      "67\n",
      "['G:/OneDrive - Ingenio Azucarero Guabira S.A/_DATOS_PYTHON/_tes_pdf/68.pdf', 'G:/Ingenio Azucarero Guabira S.A/UTEA - SEMANAL - AVANCE COSECHA/2023/ANALISIS DE CAÑA EN CAMPO 2023/REPORTE_AVANCE_COSECHA/PLANOS_2/PLANO_1413.pdf']\n",
      "-*************************************\n",
      "68\n",
      "['G:/OneDrive - Ingenio Azucarero Guabira S.A/_DATOS_PYTHON/_tes_pdf/69.pdf', 'G:/Ingenio Azucarero Guabira S.A/UTEA - SEMANAL - AVANCE COSECHA/2023/ANALISIS DE CAÑA EN CAMPO 2023/REPORTE_AVANCE_COSECHA/PLANOS_2/PLANO_416.pdf', 'G:/Ingenio Azucarero Guabira S.A/UTEA - SEMANAL - AVANCE COSECHA/2023/ANALISIS DE CAÑA EN CAMPO 2023/REPORTE_AVANCE_COSECHA/PLANOS_2/PLANO_417.pdf', 'G:/Ingenio Azucarero Guabira S.A/UTEA - SEMANAL - AVANCE COSECHA/2023/ANALISIS DE CAÑA EN CAMPO 2023/REPORTE_AVANCE_COSECHA/PLANOS_2/PLANO_418.pdf', 'G:/Ingenio Azucarero Guabira S.A/UTEA - SEMANAL - AVANCE COSECHA/2023/ANALISIS DE CAÑA EN CAMPO 2023/REPORTE_AVANCE_COSECHA/PLANOS_2/PLANO_419.pdf', 'G:/Ingenio Azucarero Guabira S.A/UTEA - SEMANAL - AVANCE COSECHA/2023/ANALISIS DE CAÑA EN CAMPO 2023/REPORTE_AVANCE_COSECHA/PLANOS_2/PLANO_1130.pdf', 'G:/Ingenio Azucarero Guabira S.A/UTEA - SEMANAL - AVANCE COSECHA/2023/ANALISIS DE CAÑA EN CAMPO 2023/REPORTE_AVANCE_COSECHA/PLANOS_2/PLANO_851.pdf']\n",
      "-*************************************\n",
      "69\n",
      "['G:/OneDrive - Ingenio Azucarero Guabira S.A/_DATOS_PYTHON/_tes_pdf/70.pdf', 'G:/Ingenio Azucarero Guabira S.A/UTEA - SEMANAL - AVANCE COSECHA/2023/ANALISIS DE CAÑA EN CAMPO 2023/REPORTE_AVANCE_COSECHA/PLANOS_2/PLANO_800.pdf', 'G:/Ingenio Azucarero Guabira S.A/UTEA - SEMANAL - AVANCE COSECHA/2023/ANALISIS DE CAÑA EN CAMPO 2023/REPORTE_AVANCE_COSECHA/PLANOS_2/PLANO_89.pdf', 'G:/Ingenio Azucarero Guabira S.A/UTEA - SEMANAL - AVANCE COSECHA/2023/ANALISIS DE CAÑA EN CAMPO 2023/REPORTE_AVANCE_COSECHA/PLANOS_2/PLANO_615.pdf', 'G:/Ingenio Azucarero Guabira S.A/UTEA - SEMANAL - AVANCE COSECHA/2023/ANALISIS DE CAÑA EN CAMPO 2023/REPORTE_AVANCE_COSECHA/PLANOS_2/PLANO_799.pdf']\n",
      "-*************************************\n",
      "70\n",
      "['G:/OneDrive - Ingenio Azucarero Guabira S.A/_DATOS_PYTHON/_tes_pdf/71.pdf', 'G:/Ingenio Azucarero Guabira S.A/UTEA - SEMANAL - AVANCE COSECHA/2023/ANALISIS DE CAÑA EN CAMPO 2023/REPORTE_AVANCE_COSECHA/PLANOS_2/PLANO_833.pdf', 'G:/Ingenio Azucarero Guabira S.A/UTEA - SEMANAL - AVANCE COSECHA/2023/ANALISIS DE CAÑA EN CAMPO 2023/REPORTE_AVANCE_COSECHA/PLANOS_2/PLANO_1591.pdf', 'G:/Ingenio Azucarero Guabira S.A/UTEA - SEMANAL - AVANCE COSECHA/2023/ANALISIS DE CAÑA EN CAMPO 2023/REPORTE_AVANCE_COSECHA/PLANOS_2/PLANO_280.pdf', 'G:/Ingenio Azucarero Guabira S.A/UTEA - SEMANAL - AVANCE COSECHA/2023/ANALISIS DE CAÑA EN CAMPO 2023/REPORTE_AVANCE_COSECHA/PLANOS_2/PLANO_281.pdf', 'G:/Ingenio Azucarero Guabira S.A/UTEA - SEMANAL - AVANCE COSECHA/2023/ANALISIS DE CAÑA EN CAMPO 2023/REPORTE_AVANCE_COSECHA/PLANOS_2/PLANO_282.pdf', 'G:/Ingenio Azucarero Guabira S.A/UTEA - SEMANAL - AVANCE COSECHA/2023/ANALISIS DE CAÑA EN CAMPO 2023/REPORTE_AVANCE_COSECHA/PLANOS_2/PLANO_1756.pdf', 'G:/Ingenio Azucarero Guabira S.A/UTEA - SEMANAL - AVANCE COSECHA/2023/ANALISIS DE CAÑA EN CAMPO 2023/REPORTE_AVANCE_COSECHA/PLANOS_2/PLANO_698.pdf']\n",
      "-*************************************\n",
      "71\n",
      "['G:/OneDrive - Ingenio Azucarero Guabira S.A/_DATOS_PYTHON/_tes_pdf/72.pdf', 'G:/Ingenio Azucarero Guabira S.A/UTEA - SEMANAL - AVANCE COSECHA/2023/ANALISIS DE CAÑA EN CAMPO 2023/REPORTE_AVANCE_COSECHA/PLANOS_2/PLANO_459.pdf']\n",
      "-*************************************\n",
      "72\n",
      "['G:/OneDrive - Ingenio Azucarero Guabira S.A/_DATOS_PYTHON/_tes_pdf/73.pdf', 'G:/Ingenio Azucarero Guabira S.A/UTEA - SEMANAL - AVANCE COSECHA/2023/ANALISIS DE CAÑA EN CAMPO 2023/REPORTE_AVANCE_COSECHA/PLANOS_2/PLANO_1536.pdf', 'G:/Ingenio Azucarero Guabira S.A/UTEA - SEMANAL - AVANCE COSECHA/2023/ANALISIS DE CAÑA EN CAMPO 2023/REPORTE_AVANCE_COSECHA/PLANOS_2/PLANO_161.pdf', 'G:/Ingenio Azucarero Guabira S.A/UTEA - SEMANAL - AVANCE COSECHA/2023/ANALISIS DE CAÑA EN CAMPO 2023/REPORTE_AVANCE_COSECHA/PLANOS_2/PLANO_1537.pdf', 'G:/Ingenio Azucarero Guabira S.A/UTEA - SEMANAL - AVANCE COSECHA/2023/ANALISIS DE CAÑA EN CAMPO 2023/REPORTE_AVANCE_COSECHA/PLANOS_2/PLANO_1548.pdf', 'G:/Ingenio Azucarero Guabira S.A/UTEA - SEMANAL - AVANCE COSECHA/2023/ANALISIS DE CAÑA EN CAMPO 2023/REPORTE_AVANCE_COSECHA/PLANOS_2/PLANO_527.pdf', 'G:/Ingenio Azucarero Guabira S.A/UTEA - SEMANAL - AVANCE COSECHA/2023/ANALISIS DE CAÑA EN CAMPO 2023/REPORTE_AVANCE_COSECHA/PLANOS_2/PLANO_944.pdf', 'G:/Ingenio Azucarero Guabira S.A/UTEA - SEMANAL - AVANCE COSECHA/2023/ANALISIS DE CAÑA EN CAMPO 2023/REPORTE_AVANCE_COSECHA/PLANOS_2/PLANO_529.pdf', 'G:/Ingenio Azucarero Guabira S.A/UTEA - SEMANAL - AVANCE COSECHA/2023/ANALISIS DE CAÑA EN CAMPO 2023/REPORTE_AVANCE_COSECHA/PLANOS_2/PLANO_945.pdf', 'G:/Ingenio Azucarero Guabira S.A/UTEA - SEMANAL - AVANCE COSECHA/2023/ANALISIS DE CAÑA EN CAMPO 2023/REPORTE_AVANCE_COSECHA/PLANOS_2/PLANO_1812.pdf']\n",
      "-*************************************\n",
      "73\n",
      "['G:/OneDrive - Ingenio Azucarero Guabira S.A/_DATOS_PYTHON/_tes_pdf/74.pdf', 'G:/Ingenio Azucarero Guabira S.A/UTEA - SEMANAL - AVANCE COSECHA/2023/ANALISIS DE CAÑA EN CAMPO 2023/REPORTE_AVANCE_COSECHA/PLANOS_2/PLANO_162.pdf', 'G:/Ingenio Azucarero Guabira S.A/UTEA - SEMANAL - AVANCE COSECHA/2023/ANALISIS DE CAÑA EN CAMPO 2023/REPORTE_AVANCE_COSECHA/PLANOS_2/PLANO_1660.pdf', 'G:/Ingenio Azucarero Guabira S.A/UTEA - SEMANAL - AVANCE COSECHA/2023/ANALISIS DE CAÑA EN CAMPO 2023/REPORTE_AVANCE_COSECHA/PLANOS_2/PLANO_1661.pdf']\n",
      "-*************************************\n",
      "74\n",
      "['G:/OneDrive - Ingenio Azucarero Guabira S.A/_DATOS_PYTHON/_tes_pdf/75.pdf', 'G:/Ingenio Azucarero Guabira S.A/UTEA - SEMANAL - AVANCE COSECHA/2023/ANALISIS DE CAÑA EN CAMPO 2023/REPORTE_AVANCE_COSECHA/PLANOS_2/PLANO_1846.pdf']\n",
      "-*************************************\n",
      "75\n",
      "['G:/OneDrive - Ingenio Azucarero Guabira S.A/_DATOS_PYTHON/_tes_pdf/76.pdf', 'G:/Ingenio Azucarero Guabira S.A/UTEA - SEMANAL - AVANCE COSECHA/2023/ANALISIS DE CAÑA EN CAMPO 2023/REPORTE_AVANCE_COSECHA/PLANOS_2/PLANO_98.pdf', 'G:/Ingenio Azucarero Guabira S.A/UTEA - SEMANAL - AVANCE COSECHA/2023/ANALISIS DE CAÑA EN CAMPO 2023/REPORTE_AVANCE_COSECHA/PLANOS_2/PLANO_483.pdf', 'G:/Ingenio Azucarero Guabira S.A/UTEA - SEMANAL - AVANCE COSECHA/2023/ANALISIS DE CAÑA EN CAMPO 2023/REPORTE_AVANCE_COSECHA/PLANOS_2/PLANO_100.pdf', 'G:/Ingenio Azucarero Guabira S.A/UTEA - SEMANAL - AVANCE COSECHA/2023/ANALISIS DE CAÑA EN CAMPO 2023/REPORTE_AVANCE_COSECHA/PLANOS_2/PLANO_971.pdf', 'G:/Ingenio Azucarero Guabira S.A/UTEA - SEMANAL - AVANCE COSECHA/2023/ANALISIS DE CAÑA EN CAMPO 2023/REPORTE_AVANCE_COSECHA/PLANOS_2/PLANO_1550.pdf', 'G:/Ingenio Azucarero Guabira S.A/UTEA - SEMANAL - AVANCE COSECHA/2023/ANALISIS DE CAÑA EN CAMPO 2023/REPORTE_AVANCE_COSECHA/PLANOS_2/PLANO_313.pdf']\n",
      "-*************************************\n",
      "76\n",
      "['G:/OneDrive - Ingenio Azucarero Guabira S.A/_DATOS_PYTHON/_tes_pdf/77.pdf', 'G:/Ingenio Azucarero Guabira S.A/UTEA - SEMANAL - AVANCE COSECHA/2023/ANALISIS DE CAÑA EN CAMPO 2023/REPORTE_AVANCE_COSECHA/PLANOS_2/PLANO_1152.pdf']\n",
      "-*************************************\n",
      "77\n",
      "['G:/OneDrive - Ingenio Azucarero Guabira S.A/_DATOS_PYTHON/_tes_pdf/78.pdf', 'G:/Ingenio Azucarero Guabira S.A/UTEA - SEMANAL - AVANCE COSECHA/2023/ANALISIS DE CAÑA EN CAMPO 2023/REPORTE_AVANCE_COSECHA/PLANOS_2/PLANO_133.pdf', 'G:/Ingenio Azucarero Guabira S.A/UTEA - SEMANAL - AVANCE COSECHA/2023/ANALISIS DE CAÑA EN CAMPO 2023/REPORTE_AVANCE_COSECHA/PLANOS_2/PLANO_783.pdf', 'G:/Ingenio Azucarero Guabira S.A/UTEA - SEMANAL - AVANCE COSECHA/2023/ANALISIS DE CAÑA EN CAMPO 2023/REPORTE_AVANCE_COSECHA/PLANOS_2/PLANO_80.pdf', 'G:/Ingenio Azucarero Guabira S.A/UTEA - SEMANAL - AVANCE COSECHA/2023/ANALISIS DE CAÑA EN CAMPO 2023/REPORTE_AVANCE_COSECHA/PLANOS_2/PLANO_313.pdf', 'G:/Ingenio Azucarero Guabira S.A/UTEA - SEMANAL - AVANCE COSECHA/2023/ANALISIS DE CAÑA EN CAMPO 2023/REPORTE_AVANCE_COSECHA/PLANOS_2/PLANO_1723.pdf', 'G:/Ingenio Azucarero Guabira S.A/UTEA - SEMANAL - AVANCE COSECHA/2023/ANALISIS DE CAÑA EN CAMPO 2023/REPORTE_AVANCE_COSECHA/PLANOS_2/PLANO_1597.pdf', 'G:/Ingenio Azucarero Guabira S.A/UTEA - SEMANAL - AVANCE COSECHA/2023/ANALISIS DE CAÑA EN CAMPO 2023/REPORTE_AVANCE_COSECHA/PLANOS_2/PLANO_1598.pdf']\n",
      "-*************************************\n",
      "78\n",
      "['G:/OneDrive - Ingenio Azucarero Guabira S.A/_DATOS_PYTHON/_tes_pdf/79.pdf', 'G:/Ingenio Azucarero Guabira S.A/UTEA - SEMANAL - AVANCE COSECHA/2023/ANALISIS DE CAÑA EN CAMPO 2023/REPORTE_AVANCE_COSECHA/PLANOS_2/PLANO_1644.pdf', 'G:/Ingenio Azucarero Guabira S.A/UTEA - SEMANAL - AVANCE COSECHA/2023/ANALISIS DE CAÑA EN CAMPO 2023/REPORTE_AVANCE_COSECHA/PLANOS_2/PLANO_433.pdf', 'G:/Ingenio Azucarero Guabira S.A/UTEA - SEMANAL - AVANCE COSECHA/2023/ANALISIS DE CAÑA EN CAMPO 2023/REPORTE_AVANCE_COSECHA/PLANOS_2/PLANO_1144.pdf', 'G:/Ingenio Azucarero Guabira S.A/UTEA - SEMANAL - AVANCE COSECHA/2023/ANALISIS DE CAÑA EN CAMPO 2023/REPORTE_AVANCE_COSECHA/PLANOS_2/PLANO_1369.pdf', 'G:/Ingenio Azucarero Guabira S.A/UTEA - SEMANAL - AVANCE COSECHA/2023/ANALISIS DE CAÑA EN CAMPO 2023/REPORTE_AVANCE_COSECHA/PLANOS_2/PLANO_1370.pdf']\n",
      "-*************************************\n",
      "79\n",
      "['G:/OneDrive - Ingenio Azucarero Guabira S.A/_DATOS_PYTHON/_tes_pdf/80.pdf', 'G:/Ingenio Azucarero Guabira S.A/UTEA - SEMANAL - AVANCE COSECHA/2023/ANALISIS DE CAÑA EN CAMPO 2023/REPORTE_AVANCE_COSECHA/PLANOS_2/PLANO_1386.pdf', 'G:/Ingenio Azucarero Guabira S.A/UTEA - SEMANAL - AVANCE COSECHA/2023/ANALISIS DE CAÑA EN CAMPO 2023/REPORTE_AVANCE_COSECHA/PLANOS_2/PLANO_109.pdf', 'G:/Ingenio Azucarero Guabira S.A/UTEA - SEMANAL - AVANCE COSECHA/2023/ANALISIS DE CAÑA EN CAMPO 2023/REPORTE_AVANCE_COSECHA/PLANOS_2/PLANO_149.pdf', 'G:/Ingenio Azucarero Guabira S.A/UTEA - SEMANAL - AVANCE COSECHA/2023/ANALISIS DE CAÑA EN CAMPO 2023/REPORTE_AVANCE_COSECHA/PLANOS_2/PLANO_1375.pdf']\n",
      "-*************************************\n",
      "80\n",
      "['G:/OneDrive - Ingenio Azucarero Guabira S.A/_DATOS_PYTHON/_tes_pdf/81.pdf', 'G:/Ingenio Azucarero Guabira S.A/UTEA - SEMANAL - AVANCE COSECHA/2023/ANALISIS DE CAÑA EN CAMPO 2023/REPORTE_AVANCE_COSECHA/PLANOS_2/PLANO_1371.pdf', 'G:/Ingenio Azucarero Guabira S.A/UTEA - SEMANAL - AVANCE COSECHA/2023/ANALISIS DE CAÑA EN CAMPO 2023/REPORTE_AVANCE_COSECHA/PLANOS_2/PLANO_1083.pdf', 'G:/Ingenio Azucarero Guabira S.A/UTEA - SEMANAL - AVANCE COSECHA/2023/ANALISIS DE CAÑA EN CAMPO 2023/REPORTE_AVANCE_COSECHA/PLANOS_2/PLANO_135.pdf']\n",
      "-*************************************\n",
      "81\n",
      "['G:/OneDrive - Ingenio Azucarero Guabira S.A/_DATOS_PYTHON/_tes_pdf/82.pdf', 'G:/Ingenio Azucarero Guabira S.A/UTEA - SEMANAL - AVANCE COSECHA/2023/ANALISIS DE CAÑA EN CAMPO 2023/REPORTE_AVANCE_COSECHA/PLANOS_2/PLANO_1418.pdf', 'G:/Ingenio Azucarero Guabira S.A/UTEA - SEMANAL - AVANCE COSECHA/2023/ANALISIS DE CAÑA EN CAMPO 2023/REPORTE_AVANCE_COSECHA/PLANOS_2/PLANO_1419.pdf', 'G:/Ingenio Azucarero Guabira S.A/UTEA - SEMANAL - AVANCE COSECHA/2023/ANALISIS DE CAÑA EN CAMPO 2023/REPORTE_AVANCE_COSECHA/PLANOS_2/PLANO_1420.pdf', 'G:/Ingenio Azucarero Guabira S.A/UTEA - SEMANAL - AVANCE COSECHA/2023/ANALISIS DE CAÑA EN CAMPO 2023/REPORTE_AVANCE_COSECHA/PLANOS_2/PLANO_227.pdf']\n",
      "-*************************************\n",
      "82\n",
      "['G:/OneDrive - Ingenio Azucarero Guabira S.A/_DATOS_PYTHON/_tes_pdf/83.pdf', 'G:/Ingenio Azucarero Guabira S.A/UTEA - SEMANAL - AVANCE COSECHA/2023/ANALISIS DE CAÑA EN CAMPO 2023/REPORTE_AVANCE_COSECHA/PLANOS_2/PLANO_289.pdf', 'G:/Ingenio Azucarero Guabira S.A/UTEA - SEMANAL - AVANCE COSECHA/2023/ANALISIS DE CAÑA EN CAMPO 2023/REPORTE_AVANCE_COSECHA/PLANOS_2/PLANO_1538.pdf', 'G:/Ingenio Azucarero Guabira S.A/UTEA - SEMANAL - AVANCE COSECHA/2023/ANALISIS DE CAÑA EN CAMPO 2023/REPORTE_AVANCE_COSECHA/PLANOS_2/PLANO_168.pdf', 'G:/Ingenio Azucarero Guabira S.A/UTEA - SEMANAL - AVANCE COSECHA/2023/ANALISIS DE CAÑA EN CAMPO 2023/REPORTE_AVANCE_COSECHA/PLANOS_2/PLANO_1385.pdf', 'G:/Ingenio Azucarero Guabira S.A/UTEA - SEMANAL - AVANCE COSECHA/2023/ANALISIS DE CAÑA EN CAMPO 2023/REPORTE_AVANCE_COSECHA/PLANOS_2/PLANO_1072.pdf', 'G:/Ingenio Azucarero Guabira S.A/UTEA - SEMANAL - AVANCE COSECHA/2023/ANALISIS DE CAÑA EN CAMPO 2023/REPORTE_AVANCE_COSECHA/PLANOS_2/PLANO_1073.pdf', 'G:/Ingenio Azucarero Guabira S.A/UTEA - SEMANAL - AVANCE COSECHA/2023/ANALISIS DE CAÑA EN CAMPO 2023/REPORTE_AVANCE_COSECHA/PLANOS_2/PLANO_146.pdf', 'G:/Ingenio Azucarero Guabira S.A/UTEA - SEMANAL - AVANCE COSECHA/2023/ANALISIS DE CAÑA EN CAMPO 2023/REPORTE_AVANCE_COSECHA/PLANOS_2/PLANO_535.pdf']\n",
      "-*************************************\n",
      "83\n",
      "['G:/OneDrive - Ingenio Azucarero Guabira S.A/_DATOS_PYTHON/_tes_pdf/84.pdf', 'G:/Ingenio Azucarero Guabira S.A/UTEA - SEMANAL - AVANCE COSECHA/2023/ANALISIS DE CAÑA EN CAMPO 2023/REPORTE_AVANCE_COSECHA/PLANOS_2/PLANO_1760.pdf', 'G:/Ingenio Azucarero Guabira S.A/UTEA - SEMANAL - AVANCE COSECHA/2023/ANALISIS DE CAÑA EN CAMPO 2023/REPORTE_AVANCE_COSECHA/PLANOS_2/PLANO_1761.pdf', 'G:/Ingenio Azucarero Guabira S.A/UTEA - SEMANAL - AVANCE COSECHA/2023/ANALISIS DE CAÑA EN CAMPO 2023/REPORTE_AVANCE_COSECHA/PLANOS_2/PLANO_1762.pdf', 'G:/Ingenio Azucarero Guabira S.A/UTEA - SEMANAL - AVANCE COSECHA/2023/ANALISIS DE CAÑA EN CAMPO 2023/REPORTE_AVANCE_COSECHA/PLANOS_2/PLANO_1111.pdf', 'G:/Ingenio Azucarero Guabira S.A/UTEA - SEMANAL - AVANCE COSECHA/2023/ANALISIS DE CAÑA EN CAMPO 2023/REPORTE_AVANCE_COSECHA/PLANOS_2/PLANO_1759.pdf']\n",
      "-*************************************\n",
      "84\n",
      "['G:/OneDrive - Ingenio Azucarero Guabira S.A/_DATOS_PYTHON/_tes_pdf/85.pdf', 'G:/Ingenio Azucarero Guabira S.A/UTEA - SEMANAL - AVANCE COSECHA/2023/ANALISIS DE CAÑA EN CAMPO 2023/REPORTE_AVANCE_COSECHA/PLANOS_2/PLANO_730.pdf']\n",
      "-*************************************\n",
      "85\n",
      "['G:/OneDrive - Ingenio Azucarero Guabira S.A/_DATOS_PYTHON/_tes_pdf/86.pdf', 'G:/Ingenio Azucarero Guabira S.A/UTEA - SEMANAL - AVANCE COSECHA/2023/ANALISIS DE CAÑA EN CAMPO 2023/REPORTE_AVANCE_COSECHA/PLANOS_2/PLANO_20.pdf']\n",
      "-*************************************\n",
      "86\n",
      "['G:/OneDrive - Ingenio Azucarero Guabira S.A/_DATOS_PYTHON/_tes_pdf/87.pdf', 'G:/Ingenio Azucarero Guabira S.A/UTEA - SEMANAL - AVANCE COSECHA/2023/ANALISIS DE CAÑA EN CAMPO 2023/REPORTE_AVANCE_COSECHA/PLANOS_2/PLANO_1040.pdf', 'G:/Ingenio Azucarero Guabira S.A/UTEA - SEMANAL - AVANCE COSECHA/2023/ANALISIS DE CAÑA EN CAMPO 2023/REPORTE_AVANCE_COSECHA/PLANOS_2/PLANO_1043.pdf', 'G:/Ingenio Azucarero Guabira S.A/UTEA - SEMANAL - AVANCE COSECHA/2023/ANALISIS DE CAÑA EN CAMPO 2023/REPORTE_AVANCE_COSECHA/PLANOS_2/PLANO_1039.pdf']\n",
      "-*************************************\n",
      "87\n",
      "['G:/OneDrive - Ingenio Azucarero Guabira S.A/_DATOS_PYTHON/_tes_pdf/88.pdf', 'G:/Ingenio Azucarero Guabira S.A/UTEA - SEMANAL - AVANCE COSECHA/2023/ANALISIS DE CAÑA EN CAMPO 2023/REPORTE_AVANCE_COSECHA/PLANOS_2/PLANO_934.pdf', 'G:/Ingenio Azucarero Guabira S.A/UTEA - SEMANAL - AVANCE COSECHA/2023/ANALISIS DE CAÑA EN CAMPO 2023/REPORTE_AVANCE_COSECHA/PLANOS_2/PLANO_1054.pdf']\n",
      "-*************************************\n",
      "88\n",
      "['G:/OneDrive - Ingenio Azucarero Guabira S.A/_DATOS_PYTHON/_tes_pdf/90.pdf', 'G:/Ingenio Azucarero Guabira S.A/UTEA - SEMANAL - AVANCE COSECHA/2023/ANALISIS DE CAÑA EN CAMPO 2023/REPORTE_AVANCE_COSECHA/PLANOS_2/PLANO_1611.pdf', 'G:/Ingenio Azucarero Guabira S.A/UTEA - SEMANAL - AVANCE COSECHA/2023/ANALISIS DE CAÑA EN CAMPO 2023/REPORTE_AVANCE_COSECHA/PLANOS_2/PLANO_1934.pdf', 'G:/Ingenio Azucarero Guabira S.A/UTEA - SEMANAL - AVANCE COSECHA/2023/ANALISIS DE CAÑA EN CAMPO 2023/REPORTE_AVANCE_COSECHA/PLANOS_2/PLANO_1935.pdf', 'G:/Ingenio Azucarero Guabira S.A/UTEA - SEMANAL - AVANCE COSECHA/2023/ANALISIS DE CAÑA EN CAMPO 2023/REPORTE_AVANCE_COSECHA/PLANOS_2/PLANO_209.pdf', 'G:/Ingenio Azucarero Guabira S.A/UTEA - SEMANAL - AVANCE COSECHA/2023/ANALISIS DE CAÑA EN CAMPO 2023/REPORTE_AVANCE_COSECHA/PLANOS_2/PLANO_437.pdf', 'G:/Ingenio Azucarero Guabira S.A/UTEA - SEMANAL - AVANCE COSECHA/2023/ANALISIS DE CAÑA EN CAMPO 2023/REPORTE_AVANCE_COSECHA/PLANOS_2/PLANO_439.pdf', 'G:/Ingenio Azucarero Guabira S.A/UTEA - SEMANAL - AVANCE COSECHA/2023/ANALISIS DE CAÑA EN CAMPO 2023/REPORTE_AVANCE_COSECHA/PLANOS_2/PLANO_440.pdf', 'G:/Ingenio Azucarero Guabira S.A/UTEA - SEMANAL - AVANCE COSECHA/2023/ANALISIS DE CAÑA EN CAMPO 2023/REPORTE_AVANCE_COSECHA/PLANOS_2/PLANO_441.pdf', 'G:/Ingenio Azucarero Guabira S.A/UTEA - SEMANAL - AVANCE COSECHA/2023/ANALISIS DE CAÑA EN CAMPO 2023/REPORTE_AVANCE_COSECHA/PLANOS_2/PLANO_61.pdf', 'G:/Ingenio Azucarero Guabira S.A/UTEA - SEMANAL - AVANCE COSECHA/2023/ANALISIS DE CAÑA EN CAMPO 2023/REPORTE_AVANCE_COSECHA/PLANOS_2/PLANO_1695.pdf']\n",
      "-*************************************\n",
      "90\n",
      "['G:/OneDrive - Ingenio Azucarero Guabira S.A/_DATOS_PYTHON/_tes_pdf/91.pdf', 'G:/Ingenio Azucarero Guabira S.A/UTEA - SEMANAL - AVANCE COSECHA/2023/ANALISIS DE CAÑA EN CAMPO 2023/REPORTE_AVANCE_COSECHA/PLANOS_2/PLANO_1046.pdf']\n",
      "-*************************************\n",
      "91\n",
      "['G:/OneDrive - Ingenio Azucarero Guabira S.A/_DATOS_PYTHON/_tes_pdf/92.pdf', 'G:/Ingenio Azucarero Guabira S.A/UTEA - SEMANAL - AVANCE COSECHA/2023/ANALISIS DE CAÑA EN CAMPO 2023/REPORTE_AVANCE_COSECHA/PLANOS_2/PLANO_1376.pdf', 'G:/Ingenio Azucarero Guabira S.A/UTEA - SEMANAL - AVANCE COSECHA/2023/ANALISIS DE CAÑA EN CAMPO 2023/REPORTE_AVANCE_COSECHA/PLANOS_2/PLANO_1377.pdf', 'G:/Ingenio Azucarero Guabira S.A/UTEA - SEMANAL - AVANCE COSECHA/2023/ANALISIS DE CAÑA EN CAMPO 2023/REPORTE_AVANCE_COSECHA/PLANOS_2/PLANO_1378.pdf', 'G:/Ingenio Azucarero Guabira S.A/UTEA - SEMANAL - AVANCE COSECHA/2023/ANALISIS DE CAÑA EN CAMPO 2023/REPORTE_AVANCE_COSECHA/PLANOS_2/PLANO_1092.pdf', 'G:/Ingenio Azucarero Guabira S.A/UTEA - SEMANAL - AVANCE COSECHA/2023/ANALISIS DE CAÑA EN CAMPO 2023/REPORTE_AVANCE_COSECHA/PLANOS_2/PLANO_1038.pdf', 'G:/Ingenio Azucarero Guabira S.A/UTEA - SEMANAL - AVANCE COSECHA/2023/ANALISIS DE CAÑA EN CAMPO 2023/REPORTE_AVANCE_COSECHA/PLANOS_2/PLANO_1042.pdf', 'G:/Ingenio Azucarero Guabira S.A/UTEA - SEMANAL - AVANCE COSECHA/2023/ANALISIS DE CAÑA EN CAMPO 2023/REPORTE_AVANCE_COSECHA/PLANOS_2/PLANO_83.pdf', 'G:/Ingenio Azucarero Guabira S.A/UTEA - SEMANAL - AVANCE COSECHA/2023/ANALISIS DE CAÑA EN CAMPO 2023/REPORTE_AVANCE_COSECHA/PLANOS_2/PLANO_1372.pdf', 'G:/Ingenio Azucarero Guabira S.A/UTEA - SEMANAL - AVANCE COSECHA/2023/ANALISIS DE CAÑA EN CAMPO 2023/REPORTE_AVANCE_COSECHA/PLANOS_2/PLANO_1373.pdf', 'G:/Ingenio Azucarero Guabira S.A/UTEA - SEMANAL - AVANCE COSECHA/2023/ANALISIS DE CAÑA EN CAMPO 2023/REPORTE_AVANCE_COSECHA/PLANOS_2/PLANO_1374.pdf']\n",
      "-*************************************\n",
      "92\n",
      "['G:/OneDrive - Ingenio Azucarero Guabira S.A/_DATOS_PYTHON/_tes_pdf/93.pdf', 'G:/Ingenio Azucarero Guabira S.A/UTEA - SEMANAL - AVANCE COSECHA/2023/ANALISIS DE CAÑA EN CAMPO 2023/REPORTE_AVANCE_COSECHA/PLANOS_2/PLANO_1507.pdf', 'G:/Ingenio Azucarero Guabira S.A/UTEA - SEMANAL - AVANCE COSECHA/2023/ANALISIS DE CAÑA EN CAMPO 2023/REPORTE_AVANCE_COSECHA/PLANOS_2/PLANO_1508.pdf', 'G:/Ingenio Azucarero Guabira S.A/UTEA - SEMANAL - AVANCE COSECHA/2023/ANALISIS DE CAÑA EN CAMPO 2023/REPORTE_AVANCE_COSECHA/PLANOS_2/PLANO_44.pdf', 'G:/Ingenio Azucarero Guabira S.A/UTEA - SEMANAL - AVANCE COSECHA/2023/ANALISIS DE CAÑA EN CAMPO 2023/REPORTE_AVANCE_COSECHA/PLANOS_2/PLANO_1426.pdf', 'G:/Ingenio Azucarero Guabira S.A/UTEA - SEMANAL - AVANCE COSECHA/2023/ANALISIS DE CAÑA EN CAMPO 2023/REPORTE_AVANCE_COSECHA/PLANOS_2/PLANO_1531.pdf']\n",
      "-*************************************\n",
      "93\n",
      "['G:/OneDrive - Ingenio Azucarero Guabira S.A/_DATOS_PYTHON/_tes_pdf/94.pdf', 'G:/Ingenio Azucarero Guabira S.A/UTEA - SEMANAL - AVANCE COSECHA/2023/ANALISIS DE CAÑA EN CAMPO 2023/REPORTE_AVANCE_COSECHA/PLANOS_2/PLANO_1792.pdf', 'G:/Ingenio Azucarero Guabira S.A/UTEA - SEMANAL - AVANCE COSECHA/2023/ANALISIS DE CAÑA EN CAMPO 2023/REPORTE_AVANCE_COSECHA/PLANOS_2/PLANO_1859.pdf', 'G:/Ingenio Azucarero Guabira S.A/UTEA - SEMANAL - AVANCE COSECHA/2023/ANALISIS DE CAÑA EN CAMPO 2023/REPORTE_AVANCE_COSECHA/PLANOS_2/PLANO_1860.pdf', 'G:/Ingenio Azucarero Guabira S.A/UTEA - SEMANAL - AVANCE COSECHA/2023/ANALISIS DE CAÑA EN CAMPO 2023/REPORTE_AVANCE_COSECHA/PLANOS_2/PLANO_1924.pdf', 'G:/Ingenio Azucarero Guabira S.A/UTEA - SEMANAL - AVANCE COSECHA/2023/ANALISIS DE CAÑA EN CAMPO 2023/REPORTE_AVANCE_COSECHA/PLANOS_2/PLANO_683.pdf', 'G:/Ingenio Azucarero Guabira S.A/UTEA - SEMANAL - AVANCE COSECHA/2023/ANALISIS DE CAÑA EN CAMPO 2023/REPORTE_AVANCE_COSECHA/PLANOS_2/PLANO_915.pdf', 'G:/Ingenio Azucarero Guabira S.A/UTEA - SEMANAL - AVANCE COSECHA/2023/ANALISIS DE CAÑA EN CAMPO 2023/REPORTE_AVANCE_COSECHA/PLANOS_2/PLANO_1787.pdf']\n",
      "-*************************************\n",
      "94\n",
      "['G:/OneDrive - Ingenio Azucarero Guabira S.A/_DATOS_PYTHON/_tes_pdf/95.pdf', 'G:/Ingenio Azucarero Guabira S.A/UTEA - SEMANAL - AVANCE COSECHA/2023/ANALISIS DE CAÑA EN CAMPO 2023/REPORTE_AVANCE_COSECHA/PLANOS_2/PLANO_1382.pdf', 'G:/Ingenio Azucarero Guabira S.A/UTEA - SEMANAL - AVANCE COSECHA/2023/ANALISIS DE CAÑA EN CAMPO 2023/REPORTE_AVANCE_COSECHA/PLANOS_2/PLANO_1380.pdf', 'G:/Ingenio Azucarero Guabira S.A/UTEA - SEMANAL - AVANCE COSECHA/2023/ANALISIS DE CAÑA EN CAMPO 2023/REPORTE_AVANCE_COSECHA/PLANOS_2/PLANO_1350.pdf']\n",
      "-*************************************\n",
      "95\n",
      "['G:/OneDrive - Ingenio Azucarero Guabira S.A/_DATOS_PYTHON/_tes_pdf/96.pdf', 'G:/Ingenio Azucarero Guabira S.A/UTEA - SEMANAL - AVANCE COSECHA/2023/ANALISIS DE CAÑA EN CAMPO 2023/REPORTE_AVANCE_COSECHA/PLANOS_2/PLANO_1900.pdf', 'G:/Ingenio Azucarero Guabira S.A/UTEA - SEMANAL - AVANCE COSECHA/2023/ANALISIS DE CAÑA EN CAMPO 2023/REPORTE_AVANCE_COSECHA/PLANOS_2/PLANO_1901.pdf', 'G:/Ingenio Azucarero Guabira S.A/UTEA - SEMANAL - AVANCE COSECHA/2023/ANALISIS DE CAÑA EN CAMPO 2023/REPORTE_AVANCE_COSECHA/PLANOS_2/PLANO_1902.pdf', 'G:/Ingenio Azucarero Guabira S.A/UTEA - SEMANAL - AVANCE COSECHA/2023/ANALISIS DE CAÑA EN CAMPO 2023/REPORTE_AVANCE_COSECHA/PLANOS_2/PLANO_1904.pdf', 'G:/Ingenio Azucarero Guabira S.A/UTEA - SEMANAL - AVANCE COSECHA/2023/ANALISIS DE CAÑA EN CAMPO 2023/REPORTE_AVANCE_COSECHA/PLANOS_2/PLANO_1905.pdf', 'G:/Ingenio Azucarero Guabira S.A/UTEA - SEMANAL - AVANCE COSECHA/2023/ANALISIS DE CAÑA EN CAMPO 2023/REPORTE_AVANCE_COSECHA/PLANOS_2/PLANO_1906.pdf', 'G:/Ingenio Azucarero Guabira S.A/UTEA - SEMANAL - AVANCE COSECHA/2023/ANALISIS DE CAÑA EN CAMPO 2023/REPORTE_AVANCE_COSECHA/PLANOS_2/PLANO_1907.pdf', 'G:/Ingenio Azucarero Guabira S.A/UTEA - SEMANAL - AVANCE COSECHA/2023/ANALISIS DE CAÑA EN CAMPO 2023/REPORTE_AVANCE_COSECHA/PLANOS_2/PLANO_1908.pdf', 'G:/Ingenio Azucarero Guabira S.A/UTEA - SEMANAL - AVANCE COSECHA/2023/ANALISIS DE CAÑA EN CAMPO 2023/REPORTE_AVANCE_COSECHA/PLANOS_2/PLANO_1909.pdf', 'G:/Ingenio Azucarero Guabira S.A/UTEA - SEMANAL - AVANCE COSECHA/2023/ANALISIS DE CAÑA EN CAMPO 2023/REPORTE_AVANCE_COSECHA/PLANOS_2/PLANO_1620.pdf', 'G:/Ingenio Azucarero Guabira S.A/UTEA - SEMANAL - AVANCE COSECHA/2023/ANALISIS DE CAÑA EN CAMPO 2023/REPORTE_AVANCE_COSECHA/PLANOS_2/PLANO_1621.pdf', 'G:/Ingenio Azucarero Guabira S.A/UTEA - SEMANAL - AVANCE COSECHA/2023/ANALISIS DE CAÑA EN CAMPO 2023/REPORTE_AVANCE_COSECHA/PLANOS_2/PLANO_1022.pdf']\n",
      "-*************************************\n",
      "96\n",
      "['G:/OneDrive - Ingenio Azucarero Guabira S.A/_DATOS_PYTHON/_tes_pdf/97.pdf', 'G:/Ingenio Azucarero Guabira S.A/UTEA - SEMANAL - AVANCE COSECHA/2023/ANALISIS DE CAÑA EN CAMPO 2023/REPORTE_AVANCE_COSECHA/PLANOS_2/PLANO_1066.pdf', 'G:/Ingenio Azucarero Guabira S.A/UTEA - SEMANAL - AVANCE COSECHA/2023/ANALISIS DE CAÑA EN CAMPO 2023/REPORTE_AVANCE_COSECHA/PLANOS_2/PLANO_1067.pdf', 'G:/Ingenio Azucarero Guabira S.A/UTEA - SEMANAL - AVANCE COSECHA/2023/ANALISIS DE CAÑA EN CAMPO 2023/REPORTE_AVANCE_COSECHA/PLANOS_2/PLANO_1381.pdf']\n",
      "-*************************************\n",
      "97\n",
      "['G:/OneDrive - Ingenio Azucarero Guabira S.A/_DATOS_PYTHON/_tes_pdf/98.pdf', 'G:/Ingenio Azucarero Guabira S.A/UTEA - SEMANAL - AVANCE COSECHA/2023/ANALISIS DE CAÑA EN CAMPO 2023/REPORTE_AVANCE_COSECHA/PLANOS_2/PLANO_627.pdf']\n",
      "-*************************************\n",
      "98\n",
      "['G:/OneDrive - Ingenio Azucarero Guabira S.A/_DATOS_PYTHON/_tes_pdf/99.pdf', 'G:/Ingenio Azucarero Guabira S.A/UTEA - SEMANAL - AVANCE COSECHA/2023/ANALISIS DE CAÑA EN CAMPO 2023/REPORTE_AVANCE_COSECHA/PLANOS_2/PLANO_1572.pdf', 'G:/Ingenio Azucarero Guabira S.A/UTEA - SEMANAL - AVANCE COSECHA/2023/ANALISIS DE CAÑA EN CAMPO 2023/REPORTE_AVANCE_COSECHA/PLANOS_2/PLANO_1384.pdf', 'G:/Ingenio Azucarero Guabira S.A/UTEA - SEMANAL - AVANCE COSECHA/2023/ANALISIS DE CAÑA EN CAMPO 2023/REPORTE_AVANCE_COSECHA/PLANOS_2/PLANO_1064.pdf', 'G:/Ingenio Azucarero Guabira S.A/UTEA - SEMANAL - AVANCE COSECHA/2023/ANALISIS DE CAÑA EN CAMPO 2023/REPORTE_AVANCE_COSECHA/PLANOS_2/PLANO_973.pdf', 'G:/Ingenio Azucarero Guabira S.A/UTEA - SEMANAL - AVANCE COSECHA/2023/ANALISIS DE CAÑA EN CAMPO 2023/REPORTE_AVANCE_COSECHA/PLANOS_2/PLANO_14.pdf']\n",
      "-*************************************\n",
      "99\n",
      "['G:/OneDrive - Ingenio Azucarero Guabira S.A/_DATOS_PYTHON/_tes_pdf/100.pdf', 'G:/Ingenio Azucarero Guabira S.A/UTEA - SEMANAL - AVANCE COSECHA/2023/ANALISIS DE CAÑA EN CAMPO 2023/REPORTE_AVANCE_COSECHA/PLANOS_2/PLANO_1417.pdf']\n",
      "-*************************************\n",
      "100\n",
      "['G:/OneDrive - Ingenio Azucarero Guabira S.A/_DATOS_PYTHON/_tes_pdf/101.pdf', 'G:/Ingenio Azucarero Guabira S.A/UTEA - SEMANAL - AVANCE COSECHA/2023/ANALISIS DE CAÑA EN CAMPO 2023/REPORTE_AVANCE_COSECHA/PLANOS_2/PLANO_1425.pdf', 'G:/Ingenio Azucarero Guabira S.A/UTEA - SEMANAL - AVANCE COSECHA/2023/ANALISIS DE CAÑA EN CAMPO 2023/REPORTE_AVANCE_COSECHA/PLANOS_2/PLANO_1755.pdf']\n",
      "-*************************************\n",
      "101\n",
      "['G:/OneDrive - Ingenio Azucarero Guabira S.A/_DATOS_PYTHON/_tes_pdf/102.pdf', 'G:/Ingenio Azucarero Guabira S.A/UTEA - SEMANAL - AVANCE COSECHA/2023/ANALISIS DE CAÑA EN CAMPO 2023/REPORTE_AVANCE_COSECHA/PLANOS_2/PLANO_1787.pdf']\n",
      "-*************************************\n",
      "102\n",
      "['G:/OneDrive - Ingenio Azucarero Guabira S.A/_DATOS_PYTHON/_tes_pdf/103.pdf', 'G:/Ingenio Azucarero Guabira S.A/UTEA - SEMANAL - AVANCE COSECHA/2023/ANALISIS DE CAÑA EN CAMPO 2023/REPORTE_AVANCE_COSECHA/PLANOS_2/PLANO_1442.pdf', 'G:/Ingenio Azucarero Guabira S.A/UTEA - SEMANAL - AVANCE COSECHA/2023/ANALISIS DE CAÑA EN CAMPO 2023/REPORTE_AVANCE_COSECHA/PLANOS_2/PLANO_1923.pdf', 'G:/Ingenio Azucarero Guabira S.A/UTEA - SEMANAL - AVANCE COSECHA/2023/ANALISIS DE CAÑA EN CAMPO 2023/REPORTE_AVANCE_COSECHA/PLANOS_2/PLANO_1174.pdf']\n",
      "-*************************************\n",
      "103\n",
      "['G:/OneDrive - Ingenio Azucarero Guabira S.A/_DATOS_PYTHON/_tes_pdf/104.pdf', 'G:/Ingenio Azucarero Guabira S.A/UTEA - SEMANAL - AVANCE COSECHA/2023/ANALISIS DE CAÑA EN CAMPO 2023/REPORTE_AVANCE_COSECHA/PLANOS_2/PLANO_1107.pdf', 'G:/Ingenio Azucarero Guabira S.A/UTEA - SEMANAL - AVANCE COSECHA/2023/ANALISIS DE CAÑA EN CAMPO 2023/REPORTE_AVANCE_COSECHA/PLANOS_2/PLANO_1404.pdf', 'G:/Ingenio Azucarero Guabira S.A/UTEA - SEMANAL - AVANCE COSECHA/2023/ANALISIS DE CAÑA EN CAMPO 2023/REPORTE_AVANCE_COSECHA/PLANOS_2/PLANO_1069.pdf', 'G:/Ingenio Azucarero Guabira S.A/UTEA - SEMANAL - AVANCE COSECHA/2023/ANALISIS DE CAÑA EN CAMPO 2023/REPORTE_AVANCE_COSECHA/PLANOS_2/PLANO_1070.pdf']\n",
      "-*************************************\n",
      "104\n",
      "['G:/OneDrive - Ingenio Azucarero Guabira S.A/_DATOS_PYTHON/_tes_pdf/105.pdf', 'G:/Ingenio Azucarero Guabira S.A/UTEA - SEMANAL - AVANCE COSECHA/2023/ANALISIS DE CAÑA EN CAMPO 2023/REPORTE_AVANCE_COSECHA/PLANOS_2/PLANO_816.pdf', 'G:/Ingenio Azucarero Guabira S.A/UTEA - SEMANAL - AVANCE COSECHA/2023/ANALISIS DE CAÑA EN CAMPO 2023/REPORTE_AVANCE_COSECHA/PLANOS_2/PLANO_1026.pdf', 'G:/Ingenio Azucarero Guabira S.A/UTEA - SEMANAL - AVANCE COSECHA/2023/ANALISIS DE CAÑA EN CAMPO 2023/REPORTE_AVANCE_COSECHA/PLANOS_2/PLANO_860.pdf', 'G:/Ingenio Azucarero Guabira S.A/UTEA - SEMANAL - AVANCE COSECHA/2023/ANALISIS DE CAÑA EN CAMPO 2023/REPORTE_AVANCE_COSECHA/PLANOS_2/PLANO_815.pdf']\n",
      "-*************************************\n",
      "105\n",
      "['G:/OneDrive - Ingenio Azucarero Guabira S.A/_DATOS_PYTHON/_tes_pdf/106.pdf', 'G:/Ingenio Azucarero Guabira S.A/UTEA - SEMANAL - AVANCE COSECHA/2023/ANALISIS DE CAÑA EN CAMPO 2023/REPORTE_AVANCE_COSECHA/PLANOS_2/PLANO_1282.pdf', 'G:/Ingenio Azucarero Guabira S.A/UTEA - SEMANAL - AVANCE COSECHA/2023/ANALISIS DE CAÑA EN CAMPO 2023/REPORTE_AVANCE_COSECHA/PLANOS_2/PLANO_1668.pdf', 'G:/Ingenio Azucarero Guabira S.A/UTEA - SEMANAL - AVANCE COSECHA/2023/ANALISIS DE CAÑA EN CAMPO 2023/REPORTE_AVANCE_COSECHA/PLANOS_2/PLANO_1669.pdf', 'G:/Ingenio Azucarero Guabira S.A/UTEA - SEMANAL - AVANCE COSECHA/2023/ANALISIS DE CAÑA EN CAMPO 2023/REPORTE_AVANCE_COSECHA/PLANOS_2/PLANO_813.pdf', 'G:/Ingenio Azucarero Guabira S.A/UTEA - SEMANAL - AVANCE COSECHA/2023/ANALISIS DE CAÑA EN CAMPO 2023/REPORTE_AVANCE_COSECHA/PLANOS_2/PLANO_816.pdf']\n",
      "-*************************************\n",
      "106\n",
      "['G:/OneDrive - Ingenio Azucarero Guabira S.A/_DATOS_PYTHON/_tes_pdf/107.pdf', 'G:/Ingenio Azucarero Guabira S.A/UTEA - SEMANAL - AVANCE COSECHA/2023/ANALISIS DE CAÑA EN CAMPO 2023/REPORTE_AVANCE_COSECHA/PLANOS_2/PLANO_1147.pdf', 'G:/Ingenio Azucarero Guabira S.A/UTEA - SEMANAL - AVANCE COSECHA/2023/ANALISIS DE CAÑA EN CAMPO 2023/REPORTE_AVANCE_COSECHA/PLANOS_2/PLANO_1139.pdf', 'G:/Ingenio Azucarero Guabira S.A/UTEA - SEMANAL - AVANCE COSECHA/2023/ANALISIS DE CAÑA EN CAMPO 2023/REPORTE_AVANCE_COSECHA/PLANOS_2/PLANO_1140.pdf', 'G:/Ingenio Azucarero Guabira S.A/UTEA - SEMANAL - AVANCE COSECHA/2023/ANALISIS DE CAÑA EN CAMPO 2023/REPORTE_AVANCE_COSECHA/PLANOS_2/PLANO_1047.pdf']\n",
      "-*************************************\n",
      "107\n",
      "['G:/OneDrive - Ingenio Azucarero Guabira S.A/_DATOS_PYTHON/_tes_pdf/109.pdf', 'G:/Ingenio Azucarero Guabira S.A/UTEA - SEMANAL - AVANCE COSECHA/2023/ANALISIS DE CAÑA EN CAMPO 2023/REPORTE_AVANCE_COSECHA/PLANOS_2/PLANO_450.pdf', 'G:/Ingenio Azucarero Guabira S.A/UTEA - SEMANAL - AVANCE COSECHA/2023/ANALISIS DE CAÑA EN CAMPO 2023/REPORTE_AVANCE_COSECHA/PLANOS_2/PLANO_1379.pdf', 'G:/Ingenio Azucarero Guabira S.A/UTEA - SEMANAL - AVANCE COSECHA/2023/ANALISIS DE CAÑA EN CAMPO 2023/REPORTE_AVANCE_COSECHA/PLANOS_2/PLANO_1137.pdf', 'G:/Ingenio Azucarero Guabira S.A/UTEA - SEMANAL - AVANCE COSECHA/2023/ANALISIS DE CAÑA EN CAMPO 2023/REPORTE_AVANCE_COSECHA/PLANOS_2/PLANO_1299.pdf', 'G:/Ingenio Azucarero Guabira S.A/UTEA - SEMANAL - AVANCE COSECHA/2023/ANALISIS DE CAÑA EN CAMPO 2023/REPORTE_AVANCE_COSECHA/PLANOS_2/PLANO_1301.pdf', 'G:/Ingenio Azucarero Guabira S.A/UTEA - SEMANAL - AVANCE COSECHA/2023/ANALISIS DE CAÑA EN CAMPO 2023/REPORTE_AVANCE_COSECHA/PLANOS_2/PLANO_444.pdf']\n",
      "-*************************************\n",
      "109\n",
      "['G:/OneDrive - Ingenio Azucarero Guabira S.A/_DATOS_PYTHON/_tes_pdf/110.pdf', 'G:/Ingenio Azucarero Guabira S.A/UTEA - SEMANAL - AVANCE COSECHA/2023/ANALISIS DE CAÑA EN CAMPO 2023/REPORTE_AVANCE_COSECHA/PLANOS_2/PLANO_1128.pdf', 'G:/Ingenio Azucarero Guabira S.A/UTEA - SEMANAL - AVANCE COSECHA/2023/ANALISIS DE CAÑA EN CAMPO 2023/REPORTE_AVANCE_COSECHA/PLANOS_2/PLANO_1122.pdf', 'G:/Ingenio Azucarero Guabira S.A/UTEA - SEMANAL - AVANCE COSECHA/2023/ANALISIS DE CAÑA EN CAMPO 2023/REPORTE_AVANCE_COSECHA/PLANOS_2/PLANO_1123.pdf', 'G:/Ingenio Azucarero Guabira S.A/UTEA - SEMANAL - AVANCE COSECHA/2023/ANALISIS DE CAÑA EN CAMPO 2023/REPORTE_AVANCE_COSECHA/PLANOS_2/PLANO_1124.pdf']\n",
      "-*************************************\n",
      "110\n",
      "['G:/OneDrive - Ingenio Azucarero Guabira S.A/_DATOS_PYTHON/_tes_pdf/111.pdf', 'G:/Ingenio Azucarero Guabira S.A/UTEA - SEMANAL - AVANCE COSECHA/2023/ANALISIS DE CAÑA EN CAMPO 2023/REPORTE_AVANCE_COSECHA/PLANOS_2/PLANO_936.pdf']\n",
      "-*************************************\n",
      "111\n",
      "['G:/OneDrive - Ingenio Azucarero Guabira S.A/_DATOS_PYTHON/_tes_pdf/112.pdf', 'G:/Ingenio Azucarero Guabira S.A/UTEA - SEMANAL - AVANCE COSECHA/2023/ANALISIS DE CAÑA EN CAMPO 2023/REPORTE_AVANCE_COSECHA/PLANOS_2/PLANO_1410.pdf', 'G:/Ingenio Azucarero Guabira S.A/UTEA - SEMANAL - AVANCE COSECHA/2023/ANALISIS DE CAÑA EN CAMPO 2023/REPORTE_AVANCE_COSECHA/PLANOS_2/PLANO_445.pdf']\n",
      "-*************************************\n",
      "112\n",
      "['G:/OneDrive - Ingenio Azucarero Guabira S.A/_DATOS_PYTHON/_tes_pdf/113.pdf', 'G:/Ingenio Azucarero Guabira S.A/UTEA - SEMANAL - AVANCE COSECHA/2023/ANALISIS DE CAÑA EN CAMPO 2023/REPORTE_AVANCE_COSECHA/PLANOS_2/PLANO_1627.pdf', 'G:/Ingenio Azucarero Guabira S.A/UTEA - SEMANAL - AVANCE COSECHA/2023/ANALISIS DE CAÑA EN CAMPO 2023/REPORTE_AVANCE_COSECHA/PLANOS_2/PLANO_1023.pdf']\n",
      "-*************************************\n",
      "113\n",
      "['G:/OneDrive - Ingenio Azucarero Guabira S.A/_DATOS_PYTHON/_tes_pdf/114.pdf', 'G:/Ingenio Azucarero Guabira S.A/UTEA - SEMANAL - AVANCE COSECHA/2023/ANALISIS DE CAÑA EN CAMPO 2023/REPORTE_AVANCE_COSECHA/PLANOS_2/PLANO_1772.pdf', 'G:/Ingenio Azucarero Guabira S.A/UTEA - SEMANAL - AVANCE COSECHA/2023/ANALISIS DE CAÑA EN CAMPO 2023/REPORTE_AVANCE_COSECHA/PLANOS_2/PLANO_1776.pdf', 'G:/Ingenio Azucarero Guabira S.A/UTEA - SEMANAL - AVANCE COSECHA/2023/ANALISIS DE CAÑA EN CAMPO 2023/REPORTE_AVANCE_COSECHA/PLANOS_2/PLANO_1299.pdf', 'G:/Ingenio Azucarero Guabira S.A/UTEA - SEMANAL - AVANCE COSECHA/2023/ANALISIS DE CAÑA EN CAMPO 2023/REPORTE_AVANCE_COSECHA/PLANOS_2/PLANO_435.pdf', 'G:/Ingenio Azucarero Guabira S.A/UTEA - SEMANAL - AVANCE COSECHA/2023/ANALISIS DE CAÑA EN CAMPO 2023/REPORTE_AVANCE_COSECHA/PLANOS_2/PLANO_1301.pdf']\n",
      "-*************************************\n",
      "114\n",
      "['G:/OneDrive - Ingenio Azucarero Guabira S.A/_DATOS_PYTHON/_tes_pdf/115.pdf', 'G:/Ingenio Azucarero Guabira S.A/UTEA - SEMANAL - AVANCE COSECHA/2023/ANALISIS DE CAÑA EN CAMPO 2023/REPORTE_AVANCE_COSECHA/PLANOS_2/PLANO_67.pdf', 'G:/Ingenio Azucarero Guabira S.A/UTEA - SEMANAL - AVANCE COSECHA/2023/ANALISIS DE CAÑA EN CAMPO 2023/REPORTE_AVANCE_COSECHA/PLANOS_2/PLANO_68.pdf', 'G:/Ingenio Azucarero Guabira S.A/UTEA - SEMANAL - AVANCE COSECHA/2023/ANALISIS DE CAÑA EN CAMPO 2023/REPORTE_AVANCE_COSECHA/PLANOS_2/PLANO_1095.pdf', 'G:/Ingenio Azucarero Guabira S.A/UTEA - SEMANAL - AVANCE COSECHA/2023/ANALISIS DE CAÑA EN CAMPO 2023/REPORTE_AVANCE_COSECHA/PLANOS_2/PLANO_1808.pdf', 'G:/Ingenio Azucarero Guabira S.A/UTEA - SEMANAL - AVANCE COSECHA/2023/ANALISIS DE CAÑA EN CAMPO 2023/REPORTE_AVANCE_COSECHA/PLANOS_2/PLANO_1399.pdf', 'G:/Ingenio Azucarero Guabira S.A/UTEA - SEMANAL - AVANCE COSECHA/2023/ANALISIS DE CAÑA EN CAMPO 2023/REPORTE_AVANCE_COSECHA/PLANOS_2/PLANO_445.pdf', 'G:/Ingenio Azucarero Guabira S.A/UTEA - SEMANAL - AVANCE COSECHA/2023/ANALISIS DE CAÑA EN CAMPO 2023/REPORTE_AVANCE_COSECHA/PLANOS_2/PLANO_414.pdf']\n",
      "-*************************************\n",
      "115\n",
      "['G:/OneDrive - Ingenio Azucarero Guabira S.A/_DATOS_PYTHON/_tes_pdf/116.pdf', 'G:/Ingenio Azucarero Guabira S.A/UTEA - SEMANAL - AVANCE COSECHA/2023/ANALISIS DE CAÑA EN CAMPO 2023/REPORTE_AVANCE_COSECHA/PLANOS_2/PLANO_521.pdf', 'G:/Ingenio Azucarero Guabira S.A/UTEA - SEMANAL - AVANCE COSECHA/2023/ANALISIS DE CAÑA EN CAMPO 2023/REPORTE_AVANCE_COSECHA/PLANOS_2/PLANO_447.pdf']\n",
      "-*************************************\n",
      "116\n",
      "['G:/OneDrive - Ingenio Azucarero Guabira S.A/_DATOS_PYTHON/_tes_pdf/117.pdf', 'G:/Ingenio Azucarero Guabira S.A/UTEA - SEMANAL - AVANCE COSECHA/2023/ANALISIS DE CAÑA EN CAMPO 2023/REPORTE_AVANCE_COSECHA/PLANOS_2/PLANO_40.pdf', 'G:/Ingenio Azucarero Guabira S.A/UTEA - SEMANAL - AVANCE COSECHA/2023/ANALISIS DE CAÑA EN CAMPO 2023/REPORTE_AVANCE_COSECHA/PLANOS_2/PLANO_1498.pdf']\n",
      "-*************************************\n",
      "117\n",
      "['G:/OneDrive - Ingenio Azucarero Guabira S.A/_DATOS_PYTHON/_tes_pdf/118.pdf', 'G:/Ingenio Azucarero Guabira S.A/UTEA - SEMANAL - AVANCE COSECHA/2023/ANALISIS DE CAÑA EN CAMPO 2023/REPORTE_AVANCE_COSECHA/PLANOS_2/PLANO_1440.pdf', 'G:/Ingenio Azucarero Guabira S.A/UTEA - SEMANAL - AVANCE COSECHA/2023/ANALISIS DE CAÑA EN CAMPO 2023/REPORTE_AVANCE_COSECHA/PLANOS_2/PLANO_1701.pdf', 'G:/Ingenio Azucarero Guabira S.A/UTEA - SEMANAL - AVANCE COSECHA/2023/ANALISIS DE CAÑA EN CAMPO 2023/REPORTE_AVANCE_COSECHA/PLANOS_2/PLANO_1554.pdf', 'G:/Ingenio Azucarero Guabira S.A/UTEA - SEMANAL - AVANCE COSECHA/2023/ANALISIS DE CAÑA EN CAMPO 2023/REPORTE_AVANCE_COSECHA/PLANOS_2/PLANO_1365.pdf', 'G:/Ingenio Azucarero Guabira S.A/UTEA - SEMANAL - AVANCE COSECHA/2023/ANALISIS DE CAÑA EN CAMPO 2023/REPORTE_AVANCE_COSECHA/PLANOS_2/PLANO_1724.pdf']\n",
      "-*************************************\n",
      "118\n",
      "['G:/OneDrive - Ingenio Azucarero Guabira S.A/_DATOS_PYTHON/_tes_pdf/119.pdf', 'G:/Ingenio Azucarero Guabira S.A/UTEA - SEMANAL - AVANCE COSECHA/2023/ANALISIS DE CAÑA EN CAMPO 2023/REPORTE_AVANCE_COSECHA/PLANOS_2/PLANO_1731.pdf']\n",
      "-*************************************\n",
      "119\n",
      "['G:/OneDrive - Ingenio Azucarero Guabira S.A/_DATOS_PYTHON/_tes_pdf/120.pdf', 'G:/Ingenio Azucarero Guabira S.A/UTEA - SEMANAL - AVANCE COSECHA/2023/ANALISIS DE CAÑA EN CAMPO 2023/REPORTE_AVANCE_COSECHA/PLANOS_2/PLANO_156.pdf', 'G:/Ingenio Azucarero Guabira S.A/UTEA - SEMANAL - AVANCE COSECHA/2023/ANALISIS DE CAÑA EN CAMPO 2023/REPORTE_AVANCE_COSECHA/PLANOS_2/PLANO_1628.pdf']\n",
      "-*************************************\n",
      "120\n",
      "['G:/OneDrive - Ingenio Azucarero Guabira S.A/_DATOS_PYTHON/_tes_pdf/121.pdf', 'G:/Ingenio Azucarero Guabira S.A/UTEA - SEMANAL - AVANCE COSECHA/2023/ANALISIS DE CAÑA EN CAMPO 2023/REPORTE_AVANCE_COSECHA/PLANOS_2/PLANO_691.pdf', 'G:/Ingenio Azucarero Guabira S.A/UTEA - SEMANAL - AVANCE COSECHA/2023/ANALISIS DE CAÑA EN CAMPO 2023/REPORTE_AVANCE_COSECHA/PLANOS_2/PLANO_692.pdf', 'G:/Ingenio Azucarero Guabira S.A/UTEA - SEMANAL - AVANCE COSECHA/2023/ANALISIS DE CAÑA EN CAMPO 2023/REPORTE_AVANCE_COSECHA/PLANOS_2/PLANO_693.pdf']\n",
      "-*************************************\n",
      "121\n",
      "['G:/OneDrive - Ingenio Azucarero Guabira S.A/_DATOS_PYTHON/_tes_pdf/122.pdf', 'G:/Ingenio Azucarero Guabira S.A/UTEA - SEMANAL - AVANCE COSECHA/2023/ANALISIS DE CAÑA EN CAMPO 2023/REPORTE_AVANCE_COSECHA/PLANOS_2/PLANO_176.pdf', 'G:/Ingenio Azucarero Guabira S.A/UTEA - SEMANAL - AVANCE COSECHA/2023/ANALISIS DE CAÑA EN CAMPO 2023/REPORTE_AVANCE_COSECHA/PLANOS_2/PLANO_1659.pdf', 'G:/Ingenio Azucarero Guabira S.A/UTEA - SEMANAL - AVANCE COSECHA/2023/ANALISIS DE CAÑA EN CAMPO 2023/REPORTE_AVANCE_COSECHA/PLANOS_2/PLANO_1654.pdf']\n",
      "-*************************************\n",
      "122\n",
      "['G:/OneDrive - Ingenio Azucarero Guabira S.A/_DATOS_PYTHON/_tes_pdf/124.pdf', 'G:/Ingenio Azucarero Guabira S.A/UTEA - SEMANAL - AVANCE COSECHA/2023/ANALISIS DE CAÑA EN CAMPO 2023/REPORTE_AVANCE_COSECHA/PLANOS_2/PLANO_1294.pdf']\n",
      "-*************************************\n",
      "124\n",
      "['G:/OneDrive - Ingenio Azucarero Guabira S.A/_DATOS_PYTHON/_tes_pdf/125.pdf', 'G:/Ingenio Azucarero Guabira S.A/UTEA - SEMANAL - AVANCE COSECHA/2023/ANALISIS DE CAÑA EN CAMPO 2023/REPORTE_AVANCE_COSECHA/PLANOS_2/PLANO_478.pdf', 'G:/Ingenio Azucarero Guabira S.A/UTEA - SEMANAL - AVANCE COSECHA/2023/ANALISIS DE CAÑA EN CAMPO 2023/REPORTE_AVANCE_COSECHA/PLANOS_2/PLANO_991.pdf']\n",
      "-*************************************\n",
      "125\n",
      "['G:/OneDrive - Ingenio Azucarero Guabira S.A/_DATOS_PYTHON/_tes_pdf/126.pdf', 'G:/Ingenio Azucarero Guabira S.A/UTEA - SEMANAL - AVANCE COSECHA/2023/ANALISIS DE CAÑA EN CAMPO 2023/REPORTE_AVANCE_COSECHA/PLANOS_2/PLANO_16.pdf', 'G:/Ingenio Azucarero Guabira S.A/UTEA - SEMANAL - AVANCE COSECHA/2023/ANALISIS DE CAÑA EN CAMPO 2023/REPORTE_AVANCE_COSECHA/PLANOS_2/PLANO_85.pdf', 'G:/Ingenio Azucarero Guabira S.A/UTEA - SEMANAL - AVANCE COSECHA/2023/ANALISIS DE CAÑA EN CAMPO 2023/REPORTE_AVANCE_COSECHA/PLANOS_2/PLANO_1806.pdf', 'G:/Ingenio Azucarero Guabira S.A/UTEA - SEMANAL - AVANCE COSECHA/2023/ANALISIS DE CAÑA EN CAMPO 2023/REPORTE_AVANCE_COSECHA/PLANOS_2/PLANO_1799.pdf']\n",
      "-*************************************\n",
      "126\n",
      "['G:/OneDrive - Ingenio Azucarero Guabira S.A/_DATOS_PYTHON/_tes_pdf/129.pdf', 'G:/Ingenio Azucarero Guabira S.A/UTEA - SEMANAL - AVANCE COSECHA/2023/ANALISIS DE CAÑA EN CAMPO 2023/REPORTE_AVANCE_COSECHA/PLANOS_2/PLANO_1408.pdf', 'G:/Ingenio Azucarero Guabira S.A/UTEA - SEMANAL - AVANCE COSECHA/2023/ANALISIS DE CAÑA EN CAMPO 2023/REPORTE_AVANCE_COSECHA/PLANOS_2/PLANO_28.pdf']\n",
      "-*************************************\n",
      "129\n",
      "['G:/OneDrive - Ingenio Azucarero Guabira S.A/_DATOS_PYTHON/_tes_pdf/130.pdf', 'G:/Ingenio Azucarero Guabira S.A/UTEA - SEMANAL - AVANCE COSECHA/2023/ANALISIS DE CAÑA EN CAMPO 2023/REPORTE_AVANCE_COSECHA/PLANOS_2/PLANO_1616.pdf', 'G:/Ingenio Azucarero Guabira S.A/UTEA - SEMANAL - AVANCE COSECHA/2023/ANALISIS DE CAÑA EN CAMPO 2023/REPORTE_AVANCE_COSECHA/PLANOS_2/PLANO_1617.pdf']\n",
      "-*************************************\n",
      "130\n",
      "['G:/OneDrive - Ingenio Azucarero Guabira S.A/_DATOS_PYTHON/_tes_pdf/131.pdf', 'G:/Ingenio Azucarero Guabira S.A/UTEA - SEMANAL - AVANCE COSECHA/2023/ANALISIS DE CAÑA EN CAMPO 2023/REPORTE_AVANCE_COSECHA/PLANOS_2/PLANO_1006.pdf']\n",
      "-*************************************\n",
      "131\n",
      "['G:/OneDrive - Ingenio Azucarero Guabira S.A/_DATOS_PYTHON/_tes_pdf/132.pdf', 'G:/Ingenio Azucarero Guabira S.A/UTEA - SEMANAL - AVANCE COSECHA/2023/ANALISIS DE CAÑA EN CAMPO 2023/REPORTE_AVANCE_COSECHA/PLANOS_2/PLANO_1706.pdf']\n",
      "-*************************************\n",
      "132\n",
      "['G:/OneDrive - Ingenio Azucarero Guabira S.A/_DATOS_PYTHON/_tes_pdf/134.pdf', 'G:/Ingenio Azucarero Guabira S.A/UTEA - SEMANAL - AVANCE COSECHA/2023/ANALISIS DE CAÑA EN CAMPO 2023/REPORTE_AVANCE_COSECHA/PLANOS_2/PLANO_1267.pdf']\n",
      "-*************************************\n",
      "134\n",
      "['G:/OneDrive - Ingenio Azucarero Guabira S.A/_DATOS_PYTHON/_tes_pdf/135.pdf', 'G:/Ingenio Azucarero Guabira S.A/UTEA - SEMANAL - AVANCE COSECHA/2023/ANALISIS DE CAÑA EN CAMPO 2023/REPORTE_AVANCE_COSECHA/PLANOS_2/PLANO_1009.pdf']\n",
      "-*************************************\n",
      "135\n",
      "['G:/OneDrive - Ingenio Azucarero Guabira S.A/_DATOS_PYTHON/_tes_pdf/136.pdf', 'G:/Ingenio Azucarero Guabira S.A/UTEA - SEMANAL - AVANCE COSECHA/2023/ANALISIS DE CAÑA EN CAMPO 2023/REPORTE_AVANCE_COSECHA/PLANOS_2/PLANO_613.pdf']\n",
      "-*************************************\n",
      "136\n",
      "['G:/OneDrive - Ingenio Azucarero Guabira S.A/_DATOS_PYTHON/_tes_pdf/137.pdf', 'G:/Ingenio Azucarero Guabira S.A/UTEA - SEMANAL - AVANCE COSECHA/2023/ANALISIS DE CAÑA EN CAMPO 2023/REPORTE_AVANCE_COSECHA/PLANOS_2/PLANO_113.pdf', 'G:/Ingenio Azucarero Guabira S.A/UTEA - SEMANAL - AVANCE COSECHA/2023/ANALISIS DE CAÑA EN CAMPO 2023/REPORTE_AVANCE_COSECHA/PLANOS_2/PLANO_499.pdf', 'G:/Ingenio Azucarero Guabira S.A/UTEA - SEMANAL - AVANCE COSECHA/2023/ANALISIS DE CAÑA EN CAMPO 2023/REPORTE_AVANCE_COSECHA/PLANOS_2/PLANO_502.pdf', 'G:/Ingenio Azucarero Guabira S.A/UTEA - SEMANAL - AVANCE COSECHA/2023/ANALISIS DE CAÑA EN CAMPO 2023/REPORTE_AVANCE_COSECHA/PLANOS_2/PLANO_751.pdf']\n",
      "-*************************************\n",
      "137\n",
      "['G:/OneDrive - Ingenio Azucarero Guabira S.A/_DATOS_PYTHON/_tes_pdf/138.pdf', 'G:/Ingenio Azucarero Guabira S.A/UTEA - SEMANAL - AVANCE COSECHA/2023/ANALISIS DE CAÑA EN CAMPO 2023/REPORTE_AVANCE_COSECHA/PLANOS_2/PLANO_225.pdf', 'G:/Ingenio Azucarero Guabira S.A/UTEA - SEMANAL - AVANCE COSECHA/2023/ANALISIS DE CAÑA EN CAMPO 2023/REPORTE_AVANCE_COSECHA/PLANOS_2/PLANO_226.pdf', 'G:/Ingenio Azucarero Guabira S.A/UTEA - SEMANAL - AVANCE COSECHA/2023/ANALISIS DE CAÑA EN CAMPO 2023/REPORTE_AVANCE_COSECHA/PLANOS_2/PLANO_1325.pdf', 'G:/Ingenio Azucarero Guabira S.A/UTEA - SEMANAL - AVANCE COSECHA/2023/ANALISIS DE CAÑA EN CAMPO 2023/REPORTE_AVANCE_COSECHA/PLANOS_2/PLANO_500.pdf', 'G:/Ingenio Azucarero Guabira S.A/UTEA - SEMANAL - AVANCE COSECHA/2023/ANALISIS DE CAÑA EN CAMPO 2023/REPORTE_AVANCE_COSECHA/PLANOS_2/PLANO_501.pdf', 'G:/Ingenio Azucarero Guabira S.A/UTEA - SEMANAL - AVANCE COSECHA/2023/ANALISIS DE CAÑA EN CAMPO 2023/REPORTE_AVANCE_COSECHA/PLANOS_2/PLANO_374.pdf', 'G:/Ingenio Azucarero Guabira S.A/UTEA - SEMANAL - AVANCE COSECHA/2023/ANALISIS DE CAÑA EN CAMPO 2023/REPORTE_AVANCE_COSECHA/PLANOS_2/PLANO_1149.pdf']\n",
      "-*************************************\n",
      "138\n",
      "['G:/OneDrive - Ingenio Azucarero Guabira S.A/_DATOS_PYTHON/_tes_pdf/139.pdf', 'G:/Ingenio Azucarero Guabira S.A/UTEA - SEMANAL - AVANCE COSECHA/2023/ANALISIS DE CAÑA EN CAMPO 2023/REPORTE_AVANCE_COSECHA/PLANOS_2/PLANO_290.pdf', 'G:/Ingenio Azucarero Guabira S.A/UTEA - SEMANAL - AVANCE COSECHA/2023/ANALISIS DE CAÑA EN CAMPO 2023/REPORTE_AVANCE_COSECHA/PLANOS_2/PLANO_291.pdf', 'G:/Ingenio Azucarero Guabira S.A/UTEA - SEMANAL - AVANCE COSECHA/2023/ANALISIS DE CAÑA EN CAMPO 2023/REPORTE_AVANCE_COSECHA/PLANOS_2/PLANO_292.pdf', 'G:/Ingenio Azucarero Guabira S.A/UTEA - SEMANAL - AVANCE COSECHA/2023/ANALISIS DE CAÑA EN CAMPO 2023/REPORTE_AVANCE_COSECHA/PLANOS_2/PLANO_293.pdf', 'G:/Ingenio Azucarero Guabira S.A/UTEA - SEMANAL - AVANCE COSECHA/2023/ANALISIS DE CAÑA EN CAMPO 2023/REPORTE_AVANCE_COSECHA/PLANOS_2/PLANO_294.pdf', 'G:/Ingenio Azucarero Guabira S.A/UTEA - SEMANAL - AVANCE COSECHA/2023/ANALISIS DE CAÑA EN CAMPO 2023/REPORTE_AVANCE_COSECHA/PLANOS_2/PLANO_295.pdf', 'G:/Ingenio Azucarero Guabira S.A/UTEA - SEMANAL - AVANCE COSECHA/2023/ANALISIS DE CAÑA EN CAMPO 2023/REPORTE_AVANCE_COSECHA/PLANOS_2/PLANO_675.pdf']\n",
      "-*************************************\n",
      "139\n",
      "['G:/OneDrive - Ingenio Azucarero Guabira S.A/_DATOS_PYTHON/_tes_pdf/140.pdf', 'G:/Ingenio Azucarero Guabira S.A/UTEA - SEMANAL - AVANCE COSECHA/2023/ANALISIS DE CAÑA EN CAMPO 2023/REPORTE_AVANCE_COSECHA/PLANOS_2/PLANO_309.pdf', 'G:/Ingenio Azucarero Guabira S.A/UTEA - SEMANAL - AVANCE COSECHA/2023/ANALISIS DE CAÑA EN CAMPO 2023/REPORTE_AVANCE_COSECHA/PLANOS_2/PLANO_310.pdf', 'G:/Ingenio Azucarero Guabira S.A/UTEA - SEMANAL - AVANCE COSECHA/2023/ANALISIS DE CAÑA EN CAMPO 2023/REPORTE_AVANCE_COSECHA/PLANOS_2/PLANO_239.pdf']\n",
      "-*************************************\n",
      "140\n",
      "['G:/OneDrive - Ingenio Azucarero Guabira S.A/_DATOS_PYTHON/_tes_pdf/141.pdf', 'G:/Ingenio Azucarero Guabira S.A/UTEA - SEMANAL - AVANCE COSECHA/2023/ANALISIS DE CAÑA EN CAMPO 2023/REPORTE_AVANCE_COSECHA/PLANOS_2/PLANO_172.pdf', 'G:/Ingenio Azucarero Guabira S.A/UTEA - SEMANAL - AVANCE COSECHA/2023/ANALISIS DE CAÑA EN CAMPO 2023/REPORTE_AVANCE_COSECHA/PLANOS_2/PLANO_342.pdf']\n",
      "-*************************************\n",
      "141\n",
      "['G:/OneDrive - Ingenio Azucarero Guabira S.A/_DATOS_PYTHON/_tes_pdf/142.pdf', 'G:/Ingenio Azucarero Guabira S.A/UTEA - SEMANAL - AVANCE COSECHA/2023/ANALISIS DE CAÑA EN CAMPO 2023/REPORTE_AVANCE_COSECHA/PLANOS_2/PLANO_10.pdf', 'G:/Ingenio Azucarero Guabira S.A/UTEA - SEMANAL - AVANCE COSECHA/2023/ANALISIS DE CAÑA EN CAMPO 2023/REPORTE_AVANCE_COSECHA/PLANOS_2/PLANO_1423.pdf', 'G:/Ingenio Azucarero Guabira S.A/UTEA - SEMANAL - AVANCE COSECHA/2023/ANALISIS DE CAÑA EN CAMPO 2023/REPORTE_AVANCE_COSECHA/PLANOS_2/PLANO_1968.pdf', 'G:/Ingenio Azucarero Guabira S.A/UTEA - SEMANAL - AVANCE COSECHA/2023/ANALISIS DE CAÑA EN CAMPO 2023/REPORTE_AVANCE_COSECHA/PLANOS_2/PLANO_1969.pdf', 'G:/Ingenio Azucarero Guabira S.A/UTEA - SEMANAL - AVANCE COSECHA/2023/ANALISIS DE CAÑA EN CAMPO 2023/REPORTE_AVANCE_COSECHA/PLANOS_2/PLANO_311.pdf', 'G:/Ingenio Azucarero Guabira S.A/UTEA - SEMANAL - AVANCE COSECHA/2023/ANALISIS DE CAÑA EN CAMPO 2023/REPORTE_AVANCE_COSECHA/PLANOS_2/PLANO_1972.pdf', 'G:/Ingenio Azucarero Guabira S.A/UTEA - SEMANAL - AVANCE COSECHA/2023/ANALISIS DE CAÑA EN CAMPO 2023/REPORTE_AVANCE_COSECHA/PLANOS_2/PLANO_1015.pdf', 'G:/Ingenio Azucarero Guabira S.A/UTEA - SEMANAL - AVANCE COSECHA/2023/ANALISIS DE CAÑA EN CAMPO 2023/REPORTE_AVANCE_COSECHA/PLANOS_2/PLANO_253.pdf']\n",
      "-*************************************\n",
      "142\n",
      "['G:/OneDrive - Ingenio Azucarero Guabira S.A/_DATOS_PYTHON/_tes_pdf/143.pdf', 'G:/Ingenio Azucarero Guabira S.A/UTEA - SEMANAL - AVANCE COSECHA/2023/ANALISIS DE CAÑA EN CAMPO 2023/REPORTE_AVANCE_COSECHA/PLANOS_2/PLANO_1771.pdf', 'G:/Ingenio Azucarero Guabira S.A/UTEA - SEMANAL - AVANCE COSECHA/2023/ANALISIS DE CAÑA EN CAMPO 2023/REPORTE_AVANCE_COSECHA/PLANOS_2/PLANO_996.pdf']\n",
      "-*************************************\n",
      "143\n",
      "['G:/OneDrive - Ingenio Azucarero Guabira S.A/_DATOS_PYTHON/_tes_pdf/144.pdf', 'G:/Ingenio Azucarero Guabira S.A/UTEA - SEMANAL - AVANCE COSECHA/2023/ANALISIS DE CAÑA EN CAMPO 2023/REPORTE_AVANCE_COSECHA/PLANOS_2/PLANO_1307.pdf', 'G:/Ingenio Azucarero Guabira S.A/UTEA - SEMANAL - AVANCE COSECHA/2023/ANALISIS DE CAÑA EN CAMPO 2023/REPORTE_AVANCE_COSECHA/PLANOS_2/PLANO_1306.pdf', 'G:/Ingenio Azucarero Guabira S.A/UTEA - SEMANAL - AVANCE COSECHA/2023/ANALISIS DE CAÑA EN CAMPO 2023/REPORTE_AVANCE_COSECHA/PLANOS_2/PLANO_995.pdf', 'G:/Ingenio Azucarero Guabira S.A/UTEA - SEMANAL - AVANCE COSECHA/2023/ANALISIS DE CAÑA EN CAMPO 2023/REPORTE_AVANCE_COSECHA/PLANOS_2/PLANO_1308.pdf']\n",
      "-*************************************\n",
      "144\n",
      "['G:/OneDrive - Ingenio Azucarero Guabira S.A/_DATOS_PYTHON/_tes_pdf/145.pdf', 'G:/Ingenio Azucarero Guabira S.A/UTEA - SEMANAL - AVANCE COSECHA/2023/ANALISIS DE CAÑA EN CAMPO 2023/REPORTE_AVANCE_COSECHA/PLANOS_2/PLANO_1409.pdf', 'G:/Ingenio Azucarero Guabira S.A/UTEA - SEMANAL - AVANCE COSECHA/2023/ANALISIS DE CAÑA EN CAMPO 2023/REPORTE_AVANCE_COSECHA/PLANOS_2/PLANO_1797.pdf', 'G:/Ingenio Azucarero Guabira S.A/UTEA - SEMANAL - AVANCE COSECHA/2023/ANALISIS DE CAÑA EN CAMPO 2023/REPORTE_AVANCE_COSECHA/PLANOS_2/PLANO_1303.pdf', 'G:/Ingenio Azucarero Guabira S.A/UTEA - SEMANAL - AVANCE COSECHA/2023/ANALISIS DE CAÑA EN CAMPO 2023/REPORTE_AVANCE_COSECHA/PLANOS_2/PLANO_1304.pdf', 'G:/Ingenio Azucarero Guabira S.A/UTEA - SEMANAL - AVANCE COSECHA/2023/ANALISIS DE CAÑA EN CAMPO 2023/REPORTE_AVANCE_COSECHA/PLANOS_2/PLANO_1403.pdf', 'G:/Ingenio Azucarero Guabira S.A/UTEA - SEMANAL - AVANCE COSECHA/2023/ANALISIS DE CAÑA EN CAMPO 2023/REPORTE_AVANCE_COSECHA/PLANOS_2/PLANO_1405.pdf', 'G:/Ingenio Azucarero Guabira S.A/UTEA - SEMANAL - AVANCE COSECHA/2023/ANALISIS DE CAÑA EN CAMPO 2023/REPORTE_AVANCE_COSECHA/PLANOS_2/PLANO_1406.pdf', 'G:/Ingenio Azucarero Guabira S.A/UTEA - SEMANAL - AVANCE COSECHA/2023/ANALISIS DE CAÑA EN CAMPO 2023/REPORTE_AVANCE_COSECHA/PLANOS_2/PLANO_1407.pdf']\n",
      "-*************************************\n",
      "145\n",
      "['G:/OneDrive - Ingenio Azucarero Guabira S.A/_DATOS_PYTHON/_tes_pdf/146.pdf', 'G:/Ingenio Azucarero Guabira S.A/UTEA - SEMANAL - AVANCE COSECHA/2023/ANALISIS DE CAÑA EN CAMPO 2023/REPORTE_AVANCE_COSECHA/PLANOS_2/PLANO_1573.pdf', 'G:/Ingenio Azucarero Guabira S.A/UTEA - SEMANAL - AVANCE COSECHA/2023/ANALISIS DE CAÑA EN CAMPO 2023/REPORTE_AVANCE_COSECHA/PLANOS_2/PLANO_458.pdf', 'G:/Ingenio Azucarero Guabira S.A/UTEA - SEMANAL - AVANCE COSECHA/2023/ANALISIS DE CAÑA EN CAMPO 2023/REPORTE_AVANCE_COSECHA/PLANOS_2/PLANO_1002.pdf', 'G:/Ingenio Azucarero Guabira S.A/UTEA - SEMANAL - AVANCE COSECHA/2023/ANALISIS DE CAÑA EN CAMPO 2023/REPORTE_AVANCE_COSECHA/PLANOS_2/PLANO_1688.pdf', 'G:/Ingenio Azucarero Guabira S.A/UTEA - SEMANAL - AVANCE COSECHA/2023/ANALISIS DE CAÑA EN CAMPO 2023/REPORTE_AVANCE_COSECHA/PLANOS_2/PLANO_249.pdf', 'G:/Ingenio Azucarero Guabira S.A/UTEA - SEMANAL - AVANCE COSECHA/2023/ANALISIS DE CAÑA EN CAMPO 2023/REPORTE_AVANCE_COSECHA/PLANOS_2/PLANO_250.pdf', 'G:/Ingenio Azucarero Guabira S.A/UTEA - SEMANAL - AVANCE COSECHA/2023/ANALISIS DE CAÑA EN CAMPO 2023/REPORTE_AVANCE_COSECHA/PLANOS_2/PLANO_251.pdf']\n",
      "-*************************************\n",
      "146\n",
      "['G:/OneDrive - Ingenio Azucarero Guabira S.A/_DATOS_PYTHON/_tes_pdf/147.pdf', 'G:/Ingenio Azucarero Guabira S.A/UTEA - SEMANAL - AVANCE COSECHA/2023/ANALISIS DE CAÑA EN CAMPO 2023/REPORTE_AVANCE_COSECHA/PLANOS_2/PLANO_1216.pdf', 'G:/Ingenio Azucarero Guabira S.A/UTEA - SEMANAL - AVANCE COSECHA/2023/ANALISIS DE CAÑA EN CAMPO 2023/REPORTE_AVANCE_COSECHA/PLANOS_2/PLANO_1730.pdf', 'G:/Ingenio Azucarero Guabira S.A/UTEA - SEMANAL - AVANCE COSECHA/2023/ANALISIS DE CAÑA EN CAMPO 2023/REPORTE_AVANCE_COSECHA/PLANOS_2/PLANO_1764.pdf', 'G:/Ingenio Azucarero Guabira S.A/UTEA - SEMANAL - AVANCE COSECHA/2023/ANALISIS DE CAÑA EN CAMPO 2023/REPORTE_AVANCE_COSECHA/PLANOS_2/PLANO_1671.pdf', 'G:/Ingenio Azucarero Guabira S.A/UTEA - SEMANAL - AVANCE COSECHA/2023/ANALISIS DE CAÑA EN CAMPO 2023/REPORTE_AVANCE_COSECHA/PLANOS_2/PLANO_171.pdf', 'G:/Ingenio Azucarero Guabira S.A/UTEA - SEMANAL - AVANCE COSECHA/2023/ANALISIS DE CAÑA EN CAMPO 2023/REPORTE_AVANCE_COSECHA/PLANOS_2/PLANO_1228.pdf', 'G:/Ingenio Azucarero Guabira S.A/UTEA - SEMANAL - AVANCE COSECHA/2023/ANALISIS DE CAÑA EN CAMPO 2023/REPORTE_AVANCE_COSECHA/PLANOS_2/PLANO_1325.pdf', 'G:/Ingenio Azucarero Guabira S.A/UTEA - SEMANAL - AVANCE COSECHA/2023/ANALISIS DE CAÑA EN CAMPO 2023/REPORTE_AVANCE_COSECHA/PLANOS_2/PLANO_1273.pdf']\n",
      "-*************************************\n",
      "147\n",
      "['G:/OneDrive - Ingenio Azucarero Guabira S.A/_DATOS_PYTHON/_tes_pdf/148.pdf', 'G:/Ingenio Azucarero Guabira S.A/UTEA - SEMANAL - AVANCE COSECHA/2023/ANALISIS DE CAÑA EN CAMPO 2023/REPORTE_AVANCE_COSECHA/PLANOS_2/PLANO_1830.pdf', 'G:/Ingenio Azucarero Guabira S.A/UTEA - SEMANAL - AVANCE COSECHA/2023/ANALISIS DE CAÑA EN CAMPO 2023/REPORTE_AVANCE_COSECHA/PLANOS_2/PLANO_1831.pdf']\n",
      "-*************************************\n",
      "148\n",
      "['G:/OneDrive - Ingenio Azucarero Guabira S.A/_DATOS_PYTHON/_tes_pdf/149.pdf', 'G:/Ingenio Azucarero Guabira S.A/UTEA - SEMANAL - AVANCE COSECHA/2023/ANALISIS DE CAÑA EN CAMPO 2023/REPORTE_AVANCE_COSECHA/PLANOS_2/PLANO_1411.pdf', 'G:/Ingenio Azucarero Guabira S.A/UTEA - SEMANAL - AVANCE COSECHA/2023/ANALISIS DE CAÑA EN CAMPO 2023/REPORTE_AVANCE_COSECHA/PLANOS_2/PLANO_527.pdf', 'G:/Ingenio Azucarero Guabira S.A/UTEA - SEMANAL - AVANCE COSECHA/2023/ANALISIS DE CAÑA EN CAMPO 2023/REPORTE_AVANCE_COSECHA/PLANOS_2/PLANO_1607.pdf']\n",
      "-*************************************\n",
      "149\n",
      "['G:/OneDrive - Ingenio Azucarero Guabira S.A/_DATOS_PYTHON/_tes_pdf/150.pdf', 'G:/Ingenio Azucarero Guabira S.A/UTEA - SEMANAL - AVANCE COSECHA/2023/ANALISIS DE CAÑA EN CAMPO 2023/REPORTE_AVANCE_COSECHA/PLANOS_2/PLANO_1250.pdf', 'G:/Ingenio Azucarero Guabira S.A/UTEA - SEMANAL - AVANCE COSECHA/2023/ANALISIS DE CAÑA EN CAMPO 2023/REPORTE_AVANCE_COSECHA/PLANOS_2/PLANO_1252.pdf', 'G:/Ingenio Azucarero Guabira S.A/UTEA - SEMANAL - AVANCE COSECHA/2023/ANALISIS DE CAÑA EN CAMPO 2023/REPORTE_AVANCE_COSECHA/PLANOS_2/PLANO_1733.pdf', 'G:/Ingenio Azucarero Guabira S.A/UTEA - SEMANAL - AVANCE COSECHA/2023/ANALISIS DE CAÑA EN CAMPO 2023/REPORTE_AVANCE_COSECHA/PLANOS_2/PLANO_1254.pdf', 'G:/Ingenio Azucarero Guabira S.A/UTEA - SEMANAL - AVANCE COSECHA/2023/ANALISIS DE CAÑA EN CAMPO 2023/REPORTE_AVANCE_COSECHA/PLANOS_2/PLANO_1258.pdf', 'G:/Ingenio Azucarero Guabira S.A/UTEA - SEMANAL - AVANCE COSECHA/2023/ANALISIS DE CAÑA EN CAMPO 2023/REPORTE_AVANCE_COSECHA/PLANOS_2/PLANO_1910.pdf', 'G:/Ingenio Azucarero Guabira S.A/UTEA - SEMANAL - AVANCE COSECHA/2023/ANALISIS DE CAÑA EN CAMPO 2023/REPORTE_AVANCE_COSECHA/PLANOS_2/PLANO_1880.pdf', 'G:/Ingenio Azucarero Guabira S.A/UTEA - SEMANAL - AVANCE COSECHA/2023/ANALISIS DE CAÑA EN CAMPO 2023/REPORTE_AVANCE_COSECHA/PLANOS_2/PLANO_1305.pdf', 'G:/Ingenio Azucarero Guabira S.A/UTEA - SEMANAL - AVANCE COSECHA/2023/ANALISIS DE CAÑA EN CAMPO 2023/REPORTE_AVANCE_COSECHA/PLANOS_2/PLANO_1885.pdf', 'G:/Ingenio Azucarero Guabira S.A/UTEA - SEMANAL - AVANCE COSECHA/2023/ANALISIS DE CAÑA EN CAMPO 2023/REPORTE_AVANCE_COSECHA/PLANOS_2/PLANO_1919.pdf']\n",
      "-*************************************\n",
      "150\n",
      "['G:/OneDrive - Ingenio Azucarero Guabira S.A/_DATOS_PYTHON/_tes_pdf/151.pdf', 'G:/Ingenio Azucarero Guabira S.A/UTEA - SEMANAL - AVANCE COSECHA/2023/ANALISIS DE CAÑA EN CAMPO 2023/REPORTE_AVANCE_COSECHA/PLANOS_2/PLANO_1412.pdf']\n",
      "-*************************************\n",
      "151\n",
      "['G:/OneDrive - Ingenio Azucarero Guabira S.A/_DATOS_PYTHON/_tes_pdf/152.pdf', 'G:/Ingenio Azucarero Guabira S.A/UTEA - SEMANAL - AVANCE COSECHA/2023/ANALISIS DE CAÑA EN CAMPO 2023/REPORTE_AVANCE_COSECHA/PLANOS_2/PLANO_944.pdf', 'G:/Ingenio Azucarero Guabira S.A/UTEA - SEMANAL - AVANCE COSECHA/2023/ANALISIS DE CAÑA EN CAMPO 2023/REPORTE_AVANCE_COSECHA/PLANOS_2/PLANO_1622.pdf', 'G:/Ingenio Azucarero Guabira S.A/UTEA - SEMANAL - AVANCE COSECHA/2023/ANALISIS DE CAÑA EN CAMPO 2023/REPORTE_AVANCE_COSECHA/PLANOS_2/PLANO_1623.pdf', 'G:/Ingenio Azucarero Guabira S.A/UTEA - SEMANAL - AVANCE COSECHA/2023/ANALISIS DE CAÑA EN CAMPO 2023/REPORTE_AVANCE_COSECHA/PLANOS_2/PLANO_1629.pdf', 'G:/Ingenio Azucarero Guabira S.A/UTEA - SEMANAL - AVANCE COSECHA/2023/ANALISIS DE CAÑA EN CAMPO 2023/REPORTE_AVANCE_COSECHA/PLANOS_2/PLANO_1630.pdf', 'G:/Ingenio Azucarero Guabira S.A/UTEA - SEMANAL - AVANCE COSECHA/2023/ANALISIS DE CAÑA EN CAMPO 2023/REPORTE_AVANCE_COSECHA/PLANOS_2/PLANO_1535.pdf']\n",
      "-*************************************\n",
      "152\n",
      "['G:/OneDrive - Ingenio Azucarero Guabira S.A/_DATOS_PYTHON/_tes_pdf/153.pdf', 'G:/Ingenio Azucarero Guabira S.A/UTEA - SEMANAL - AVANCE COSECHA/2023/ANALISIS DE CAÑA EN CAMPO 2023/REPORTE_AVANCE_COSECHA/PLANOS_2/PLANO_576.pdf']\n",
      "-*************************************\n",
      "153\n",
      "['G:/OneDrive - Ingenio Azucarero Guabira S.A/_DATOS_PYTHON/_tes_pdf/154.pdf', 'G:/Ingenio Azucarero Guabira S.A/UTEA - SEMANAL - AVANCE COSECHA/2023/ANALISIS DE CAÑA EN CAMPO 2023/REPORTE_AVANCE_COSECHA/PLANOS_2/PLANO_836.pdf', 'G:/Ingenio Azucarero Guabira S.A/UTEA - SEMANAL - AVANCE COSECHA/2023/ANALISIS DE CAÑA EN CAMPO 2023/REPORTE_AVANCE_COSECHA/PLANOS_2/PLANO_1767.pdf']\n",
      "-*************************************\n",
      "154\n",
      "['G:/OneDrive - Ingenio Azucarero Guabira S.A/_DATOS_PYTHON/_tes_pdf/155.pdf', 'G:/Ingenio Azucarero Guabira S.A/UTEA - SEMANAL - AVANCE COSECHA/2023/ANALISIS DE CAÑA EN CAMPO 2023/REPORTE_AVANCE_COSECHA/PLANOS_2/PLANO_958.pdf']\n",
      "-*************************************\n",
      "155\n",
      "['G:/OneDrive - Ingenio Azucarero Guabira S.A/_DATOS_PYTHON/_tes_pdf/156.pdf', 'G:/Ingenio Azucarero Guabira S.A/UTEA - SEMANAL - AVANCE COSECHA/2023/ANALISIS DE CAÑA EN CAMPO 2023/REPORTE_AVANCE_COSECHA/PLANOS_2/PLANO_1028.pdf', 'G:/Ingenio Azucarero Guabira S.A/UTEA - SEMANAL - AVANCE COSECHA/2023/ANALISIS DE CAÑA EN CAMPO 2023/REPORTE_AVANCE_COSECHA/PLANOS_2/PLANO_1036.pdf']\n",
      "-*************************************\n",
      "156\n",
      "['G:/OneDrive - Ingenio Azucarero Guabira S.A/_DATOS_PYTHON/_tes_pdf/157.pdf', 'G:/Ingenio Azucarero Guabira S.A/UTEA - SEMANAL - AVANCE COSECHA/2023/ANALISIS DE CAÑA EN CAMPO 2023/REPORTE_AVANCE_COSECHA/PLANOS_2/PLANO_966.pdf', 'G:/Ingenio Azucarero Guabira S.A/UTEA - SEMANAL - AVANCE COSECHA/2023/ANALISIS DE CAÑA EN CAMPO 2023/REPORTE_AVANCE_COSECHA/PLANOS_2/PLANO_839.pdf', 'G:/Ingenio Azucarero Guabira S.A/UTEA - SEMANAL - AVANCE COSECHA/2023/ANALISIS DE CAÑA EN CAMPO 2023/REPORTE_AVANCE_COSECHA/PLANOS_2/PLANO_838.pdf', 'G:/Ingenio Azucarero Guabira S.A/UTEA - SEMANAL - AVANCE COSECHA/2023/ANALISIS DE CAÑA EN CAMPO 2023/REPORTE_AVANCE_COSECHA/PLANOS_2/PLANO_840.pdf', 'G:/Ingenio Azucarero Guabira S.A/UTEA - SEMANAL - AVANCE COSECHA/2023/ANALISIS DE CAÑA EN CAMPO 2023/REPORTE_AVANCE_COSECHA/PLANOS_2/PLANO_844.pdf', 'G:/Ingenio Azucarero Guabira S.A/UTEA - SEMANAL - AVANCE COSECHA/2023/ANALISIS DE CAÑA EN CAMPO 2023/REPORTE_AVANCE_COSECHA/PLANOS_2/PLANO_845.pdf', 'G:/Ingenio Azucarero Guabira S.A/UTEA - SEMANAL - AVANCE COSECHA/2023/ANALISIS DE CAÑA EN CAMPO 2023/REPORTE_AVANCE_COSECHA/PLANOS_2/PLANO_846.pdf']\n",
      "-*************************************\n",
      "157\n",
      "['G:/OneDrive - Ingenio Azucarero Guabira S.A/_DATOS_PYTHON/_tes_pdf/158.pdf', 'G:/Ingenio Azucarero Guabira S.A/UTEA - SEMANAL - AVANCE COSECHA/2023/ANALISIS DE CAÑA EN CAMPO 2023/REPORTE_AVANCE_COSECHA/PLANOS_2/PLANO_1633.pdf']\n",
      "-*************************************\n",
      "158\n",
      "['G:/OneDrive - Ingenio Azucarero Guabira S.A/_DATOS_PYTHON/_tes_pdf/159.pdf', 'G:/Ingenio Azucarero Guabira S.A/UTEA - SEMANAL - AVANCE COSECHA/2023/ANALISIS DE CAÑA EN CAMPO 2023/REPORTE_AVANCE_COSECHA/PLANOS_2/PLANO_1546.pdf']\n",
      "-*************************************\n",
      "159\n",
      "['G:/OneDrive - Ingenio Azucarero Guabira S.A/_DATOS_PYTHON/_tes_pdf/161.pdf', 'G:/Ingenio Azucarero Guabira S.A/UTEA - SEMANAL - AVANCE COSECHA/2023/ANALISIS DE CAÑA EN CAMPO 2023/REPORTE_AVANCE_COSECHA/PLANOS_2/PLANO_1231.pdf']\n",
      "-*************************************\n",
      "161\n",
      "['G:/OneDrive - Ingenio Azucarero Guabira S.A/_DATOS_PYTHON/_tes_pdf/162.pdf', 'G:/Ingenio Azucarero Guabira S.A/UTEA - SEMANAL - AVANCE COSECHA/2023/ANALISIS DE CAÑA EN CAMPO 2023/REPORTE_AVANCE_COSECHA/PLANOS_2/PLANO_486.pdf', 'G:/Ingenio Azucarero Guabira S.A/UTEA - SEMANAL - AVANCE COSECHA/2023/ANALISIS DE CAÑA EN CAMPO 2023/REPORTE_AVANCE_COSECHA/PLANOS_2/PLANO_487.pdf', 'G:/Ingenio Azucarero Guabira S.A/UTEA - SEMANAL - AVANCE COSECHA/2023/ANALISIS DE CAÑA EN CAMPO 2023/REPORTE_AVANCE_COSECHA/PLANOS_2/PLANO_488.pdf', 'G:/Ingenio Azucarero Guabira S.A/UTEA - SEMANAL - AVANCE COSECHA/2023/ANALISIS DE CAÑA EN CAMPO 2023/REPORTE_AVANCE_COSECHA/PLANOS_2/PLANO_489.pdf', 'G:/Ingenio Azucarero Guabira S.A/UTEA - SEMANAL - AVANCE COSECHA/2023/ANALISIS DE CAÑA EN CAMPO 2023/REPORTE_AVANCE_COSECHA/PLANOS_2/PLANO_490.pdf', 'G:/Ingenio Azucarero Guabira S.A/UTEA - SEMANAL - AVANCE COSECHA/2023/ANALISIS DE CAÑA EN CAMPO 2023/REPORTE_AVANCE_COSECHA/PLANOS_2/PLANO_493.pdf', 'G:/Ingenio Azucarero Guabira S.A/UTEA - SEMANAL - AVANCE COSECHA/2023/ANALISIS DE CAÑA EN CAMPO 2023/REPORTE_AVANCE_COSECHA/PLANOS_2/PLANO_494.pdf', 'G:/Ingenio Azucarero Guabira S.A/UTEA - SEMANAL - AVANCE COSECHA/2023/ANALISIS DE CAÑA EN CAMPO 2023/REPORTE_AVANCE_COSECHA/PLANOS_2/PLANO_496.pdf']\n",
      "-*************************************\n",
      "162\n",
      "['G:/OneDrive - Ingenio Azucarero Guabira S.A/_DATOS_PYTHON/_tes_pdf/163.pdf', 'G:/Ingenio Azucarero Guabira S.A/UTEA - SEMANAL - AVANCE COSECHA/2023/ANALISIS DE CAÑA EN CAMPO 2023/REPORTE_AVANCE_COSECHA/PLANOS_2/PLANO_1184.pdf', 'G:/Ingenio Azucarero Guabira S.A/UTEA - SEMANAL - AVANCE COSECHA/2023/ANALISIS DE CAÑA EN CAMPO 2023/REPORTE_AVANCE_COSECHA/PLANOS_2/PLANO_1180.pdf', 'G:/Ingenio Azucarero Guabira S.A/UTEA - SEMANAL - AVANCE COSECHA/2023/ANALISIS DE CAÑA EN CAMPO 2023/REPORTE_AVANCE_COSECHA/PLANOS_2/PLANO_1182.pdf', 'G:/Ingenio Azucarero Guabira S.A/UTEA - SEMANAL - AVANCE COSECHA/2023/ANALISIS DE CAÑA EN CAMPO 2023/REPORTE_AVANCE_COSECHA/PLANOS_2/PLANO_1183.pdf']\n",
      "-*************************************\n",
      "163\n",
      "['G:/OneDrive - Ingenio Azucarero Guabira S.A/_DATOS_PYTHON/_tes_pdf/164.pdf', 'G:/Ingenio Azucarero Guabira S.A/UTEA - SEMANAL - AVANCE COSECHA/2023/ANALISIS DE CAÑA EN CAMPO 2023/REPORTE_AVANCE_COSECHA/PLANOS_2/PLANO_1895.pdf', 'G:/Ingenio Azucarero Guabira S.A/UTEA - SEMANAL - AVANCE COSECHA/2023/ANALISIS DE CAÑA EN CAMPO 2023/REPORTE_AVANCE_COSECHA/PLANOS_2/PLANO_872.pdf', 'G:/Ingenio Azucarero Guabira S.A/UTEA - SEMANAL - AVANCE COSECHA/2023/ANALISIS DE CAÑA EN CAMPO 2023/REPORTE_AVANCE_COSECHA/PLANOS_2/PLANO_1948.pdf', 'G:/Ingenio Azucarero Guabira S.A/UTEA - SEMANAL - AVANCE COSECHA/2023/ANALISIS DE CAÑA EN CAMPO 2023/REPORTE_AVANCE_COSECHA/PLANOS_2/PLANO_1949.pdf', 'G:/Ingenio Azucarero Guabira S.A/UTEA - SEMANAL - AVANCE COSECHA/2023/ANALISIS DE CAÑA EN CAMPO 2023/REPORTE_AVANCE_COSECHA/PLANOS_2/PLANO_1950.pdf']\n",
      "-*************************************\n",
      "164\n",
      "['G:/OneDrive - Ingenio Azucarero Guabira S.A/_DATOS_PYTHON/_tes_pdf/165.pdf', 'G:/Ingenio Azucarero Guabira S.A/UTEA - SEMANAL - AVANCE COSECHA/2023/ANALISIS DE CAÑA EN CAMPO 2023/REPORTE_AVANCE_COSECHA/PLANOS_2/PLANO_1568.pdf']\n",
      "-*************************************\n",
      "165\n",
      "['G:/OneDrive - Ingenio Azucarero Guabira S.A/_DATOS_PYTHON/_tes_pdf/166.pdf', 'G:/Ingenio Azucarero Guabira S.A/UTEA - SEMANAL - AVANCE COSECHA/2023/ANALISIS DE CAÑA EN CAMPO 2023/REPORTE_AVANCE_COSECHA/PLANOS_2/PLANO_236.pdf', 'G:/Ingenio Azucarero Guabira S.A/UTEA - SEMANAL - AVANCE COSECHA/2023/ANALISIS DE CAÑA EN CAMPO 2023/REPORTE_AVANCE_COSECHA/PLANOS_2/PLANO_237.pdf', 'G:/Ingenio Azucarero Guabira S.A/UTEA - SEMANAL - AVANCE COSECHA/2023/ANALISIS DE CAÑA EN CAMPO 2023/REPORTE_AVANCE_COSECHA/PLANOS_2/PLANO_238.pdf', 'G:/Ingenio Azucarero Guabira S.A/UTEA - SEMANAL - AVANCE COSECHA/2023/ANALISIS DE CAÑA EN CAMPO 2023/REPORTE_AVANCE_COSECHA/PLANOS_2/PLANO_1735.pdf']\n",
      "-*************************************\n",
      "166\n",
      "['G:/OneDrive - Ingenio Azucarero Guabira S.A/_DATOS_PYTHON/_tes_pdf/167.pdf', 'G:/Ingenio Azucarero Guabira S.A/UTEA - SEMANAL - AVANCE COSECHA/2023/ANALISIS DE CAÑA EN CAMPO 2023/REPORTE_AVANCE_COSECHA/PLANOS_2/PLANO_48.pdf', 'G:/Ingenio Azucarero Guabira S.A/UTEA - SEMANAL - AVANCE COSECHA/2023/ANALISIS DE CAÑA EN CAMPO 2023/REPORTE_AVANCE_COSECHA/PLANOS_2/PLANO_989.pdf']\n",
      "-*************************************\n",
      "167\n",
      "['G:/OneDrive - Ingenio Azucarero Guabira S.A/_DATOS_PYTHON/_tes_pdf/168.pdf', 'G:/Ingenio Azucarero Guabira S.A/UTEA - SEMANAL - AVANCE COSECHA/2023/ANALISIS DE CAÑA EN CAMPO 2023/REPORTE_AVANCE_COSECHA/PLANOS_2/PLANO_573.pdf']\n",
      "-*************************************\n",
      "168\n",
      "['G:/OneDrive - Ingenio Azucarero Guabira S.A/_DATOS_PYTHON/_tes_pdf/169.pdf', 'G:/Ingenio Azucarero Guabira S.A/UTEA - SEMANAL - AVANCE COSECHA/2023/ANALISIS DE CAÑA EN CAMPO 2023/REPORTE_AVANCE_COSECHA/PLANOS_2/PLANO_1750.pdf', 'G:/Ingenio Azucarero Guabira S.A/UTEA - SEMANAL - AVANCE COSECHA/2023/ANALISIS DE CAÑA EN CAMPO 2023/REPORTE_AVANCE_COSECHA/PLANOS_2/PLANO_1751.pdf']\n",
      "-*************************************\n",
      "169\n",
      "['G:/OneDrive - Ingenio Azucarero Guabira S.A/_DATOS_PYTHON/_tes_pdf/170.pdf', 'G:/Ingenio Azucarero Guabira S.A/UTEA - SEMANAL - AVANCE COSECHA/2023/ANALISIS DE CAÑA EN CAMPO 2023/REPORTE_AVANCE_COSECHA/PLANOS_2/PLANO_274.pdf', 'G:/Ingenio Azucarero Guabira S.A/UTEA - SEMANAL - AVANCE COSECHA/2023/ANALISIS DE CAÑA EN CAMPO 2023/REPORTE_AVANCE_COSECHA/PLANOS_2/PLANO_1100.pdf', 'G:/Ingenio Azucarero Guabira S.A/UTEA - SEMANAL - AVANCE COSECHA/2023/ANALISIS DE CAÑA EN CAMPO 2023/REPORTE_AVANCE_COSECHA/PLANOS_2/PLANO_277.pdf']\n",
      "-*************************************\n",
      "170\n",
      "['G:/OneDrive - Ingenio Azucarero Guabira S.A/_DATOS_PYTHON/_tes_pdf/171.pdf', 'G:/Ingenio Azucarero Guabira S.A/UTEA - SEMANAL - AVANCE COSECHA/2023/ANALISIS DE CAÑA EN CAMPO 2023/REPORTE_AVANCE_COSECHA/PLANOS_2/PLANO_231.pdf']\n",
      "-*************************************\n",
      "171\n",
      "['G:/OneDrive - Ingenio Azucarero Guabira S.A/_DATOS_PYTHON/_tes_pdf/172.pdf', 'G:/Ingenio Azucarero Guabira S.A/UTEA - SEMANAL - AVANCE COSECHA/2023/ANALISIS DE CAÑA EN CAMPO 2023/REPORTE_AVANCE_COSECHA/PLANOS_2/PLANO_1215.pdf', 'G:/Ingenio Azucarero Guabira S.A/UTEA - SEMANAL - AVANCE COSECHA/2023/ANALISIS DE CAÑA EN CAMPO 2023/REPORTE_AVANCE_COSECHA/PLANOS_2/PLANO_495.pdf', 'G:/Ingenio Azucarero Guabira S.A/UTEA - SEMANAL - AVANCE COSECHA/2023/ANALISIS DE CAÑA EN CAMPO 2023/REPORTE_AVANCE_COSECHA/PLANOS_2/PLANO_173.pdf', 'G:/Ingenio Azucarero Guabira S.A/UTEA - SEMANAL - AVANCE COSECHA/2023/ANALISIS DE CAÑA EN CAMPO 2023/REPORTE_AVANCE_COSECHA/PLANOS_2/PLANO_279.pdf']\n",
      "-*************************************\n",
      "172\n",
      "['G:/OneDrive - Ingenio Azucarero Guabira S.A/_DATOS_PYTHON/_tes_pdf/173.pdf', 'G:/Ingenio Azucarero Guabira S.A/UTEA - SEMANAL - AVANCE COSECHA/2023/ANALISIS DE CAÑA EN CAMPO 2023/REPORTE_AVANCE_COSECHA/PLANOS_2/PLANO_32.pdf', 'G:/Ingenio Azucarero Guabira S.A/UTEA - SEMANAL - AVANCE COSECHA/2023/ANALISIS DE CAÑA EN CAMPO 2023/REPORTE_AVANCE_COSECHA/PLANOS_2/PLANO_33.pdf', 'G:/Ingenio Azucarero Guabira S.A/UTEA - SEMANAL - AVANCE COSECHA/2023/ANALISIS DE CAÑA EN CAMPO 2023/REPORTE_AVANCE_COSECHA/PLANOS_2/PLANO_31.pdf']\n",
      "-*************************************\n",
      "173\n",
      "['G:/OneDrive - Ingenio Azucarero Guabira S.A/_DATOS_PYTHON/_tes_pdf/174.pdf', 'G:/Ingenio Azucarero Guabira S.A/UTEA - SEMANAL - AVANCE COSECHA/2023/ANALISIS DE CAÑA EN CAMPO 2023/REPORTE_AVANCE_COSECHA/PLANOS_2/PLANO_298.pdf', 'G:/Ingenio Azucarero Guabira S.A/UTEA - SEMANAL - AVANCE COSECHA/2023/ANALISIS DE CAÑA EN CAMPO 2023/REPORTE_AVANCE_COSECHA/PLANOS_2/PLANO_332.pdf', 'G:/Ingenio Azucarero Guabira S.A/UTEA - SEMANAL - AVANCE COSECHA/2023/ANALISIS DE CAÑA EN CAMPO 2023/REPORTE_AVANCE_COSECHA/PLANOS_2/PLANO_1709.pdf']\n",
      "-*************************************\n",
      "174\n",
      "['G:/OneDrive - Ingenio Azucarero Guabira S.A/_DATOS_PYTHON/_tes_pdf/175.pdf', 'G:/Ingenio Azucarero Guabira S.A/UTEA - SEMANAL - AVANCE COSECHA/2023/ANALISIS DE CAÑA EN CAMPO 2023/REPORTE_AVANCE_COSECHA/PLANOS_2/PLANO_1289.pdf', 'G:/Ingenio Azucarero Guabira S.A/UTEA - SEMANAL - AVANCE COSECHA/2023/ANALISIS DE CAÑA EN CAMPO 2023/REPORTE_AVANCE_COSECHA/PLANOS_2/PLANO_221.pdf', 'G:/Ingenio Azucarero Guabira S.A/UTEA - SEMANAL - AVANCE COSECHA/2023/ANALISIS DE CAÑA EN CAMPO 2023/REPORTE_AVANCE_COSECHA/PLANOS_2/PLANO_222.pdf']\n",
      "-*************************************\n",
      "175\n",
      "['G:/OneDrive - Ingenio Azucarero Guabira S.A/_DATOS_PYTHON/_tes_pdf/176.pdf', 'G:/Ingenio Azucarero Guabira S.A/UTEA - SEMANAL - AVANCE COSECHA/2023/ANALISIS DE CAÑA EN CAMPO 2023/REPORTE_AVANCE_COSECHA/PLANOS_2/PLANO_355.pdf', 'G:/Ingenio Azucarero Guabira S.A/UTEA - SEMANAL - AVANCE COSECHA/2023/ANALISIS DE CAÑA EN CAMPO 2023/REPORTE_AVANCE_COSECHA/PLANOS_2/PLANO_1805.pdf', 'G:/Ingenio Azucarero Guabira S.A/UTEA - SEMANAL - AVANCE COSECHA/2023/ANALISIS DE CAÑA EN CAMPO 2023/REPORTE_AVANCE_COSECHA/PLANOS_2/PLANO_1438.pdf']\n",
      "-*************************************\n",
      "176\n",
      "['G:/OneDrive - Ingenio Azucarero Guabira S.A/_DATOS_PYTHON/_tes_pdf/177.pdf', 'G:/Ingenio Azucarero Guabira S.A/UTEA - SEMANAL - AVANCE COSECHA/2023/ANALISIS DE CAÑA EN CAMPO 2023/REPORTE_AVANCE_COSECHA/PLANOS_2/PLANO_578.pdf', 'G:/Ingenio Azucarero Guabira S.A/UTEA - SEMANAL - AVANCE COSECHA/2023/ANALISIS DE CAÑA EN CAMPO 2023/REPORTE_AVANCE_COSECHA/PLANOS_2/PLANO_549.pdf', 'G:/Ingenio Azucarero Guabira S.A/UTEA - SEMANAL - AVANCE COSECHA/2023/ANALISIS DE CAÑA EN CAMPO 2023/REPORTE_AVANCE_COSECHA/PLANOS_2/PLANO_550.pdf', 'G:/Ingenio Azucarero Guabira S.A/UTEA - SEMANAL - AVANCE COSECHA/2023/ANALISIS DE CAÑA EN CAMPO 2023/REPORTE_AVANCE_COSECHA/PLANOS_2/PLANO_391.pdf', 'G:/Ingenio Azucarero Guabira S.A/UTEA - SEMANAL - AVANCE COSECHA/2023/ANALISIS DE CAÑA EN CAMPO 2023/REPORTE_AVANCE_COSECHA/PLANOS_2/PLANO_392.pdf']\n",
      "-*************************************\n",
      "177\n",
      "['G:/OneDrive - Ingenio Azucarero Guabira S.A/_DATOS_PYTHON/_tes_pdf/179.pdf', 'G:/Ingenio Azucarero Guabira S.A/UTEA - SEMANAL - AVANCE COSECHA/2023/ANALISIS DE CAÑA EN CAMPO 2023/REPORTE_AVANCE_COSECHA/PLANOS_2/PLANO_1314.pdf']\n",
      "-*************************************\n",
      "179\n",
      "['G:/OneDrive - Ingenio Azucarero Guabira S.A/_DATOS_PYTHON/_tes_pdf/180.pdf', 'G:/Ingenio Azucarero Guabira S.A/UTEA - SEMANAL - AVANCE COSECHA/2023/ANALISIS DE CAÑA EN CAMPO 2023/REPORTE_AVANCE_COSECHA/PLANOS_2/PLANO_555.pdf']\n",
      "-*************************************\n",
      "180\n",
      "['G:/OneDrive - Ingenio Azucarero Guabira S.A/_DATOS_PYTHON/_tes_pdf/181.pdf', 'G:/Ingenio Azucarero Guabira S.A/UTEA - SEMANAL - AVANCE COSECHA/2023/ANALISIS DE CAÑA EN CAMPO 2023/REPORTE_AVANCE_COSECHA/PLANOS_2/PLANO_174.pdf']\n",
      "-*************************************\n",
      "181\n",
      "['G:/OneDrive - Ingenio Azucarero Guabira S.A/_DATOS_PYTHON/_tes_pdf/182.pdf', 'G:/Ingenio Azucarero Guabira S.A/UTEA - SEMANAL - AVANCE COSECHA/2023/ANALISIS DE CAÑA EN CAMPO 2023/REPORTE_AVANCE_COSECHA/PLANOS_2/PLANO_36.pdf', 'G:/Ingenio Azucarero Guabira S.A/UTEA - SEMANAL - AVANCE COSECHA/2023/ANALISIS DE CAÑA EN CAMPO 2023/REPORTE_AVANCE_COSECHA/PLANOS_2/PLANO_1367.pdf']\n",
      "-*************************************\n",
      "182\n",
      "['G:/OneDrive - Ingenio Azucarero Guabira S.A/_DATOS_PYTHON/_tes_pdf/183.pdf', 'G:/Ingenio Azucarero Guabira S.A/UTEA - SEMANAL - AVANCE COSECHA/2023/ANALISIS DE CAÑA EN CAMPO 2023/REPORTE_AVANCE_COSECHA/PLANOS_2/PLANO_2.pdf', 'G:/Ingenio Azucarero Guabira S.A/UTEA - SEMANAL - AVANCE COSECHA/2023/ANALISIS DE CAÑA EN CAMPO 2023/REPORTE_AVANCE_COSECHA/PLANOS_2/PLANO_66.pdf', 'G:/Ingenio Azucarero Guabira S.A/UTEA - SEMANAL - AVANCE COSECHA/2023/ANALISIS DE CAÑA EN CAMPO 2023/REPORTE_AVANCE_COSECHA/PLANOS_2/PLANO_1109.pdf', 'G:/Ingenio Azucarero Guabira S.A/UTEA - SEMANAL - AVANCE COSECHA/2023/ANALISIS DE CAÑA EN CAMPO 2023/REPORTE_AVANCE_COSECHA/PLANOS_2/PLANO_38.pdf']\n",
      "-*************************************\n",
      "183\n",
      "['G:/OneDrive - Ingenio Azucarero Guabira S.A/_DATOS_PYTHON/_tes_pdf/184.pdf', 'G:/Ingenio Azucarero Guabira S.A/UTEA - SEMANAL - AVANCE COSECHA/2023/ANALISIS DE CAÑA EN CAMPO 2023/REPORTE_AVANCE_COSECHA/PLANOS_2/PLANO_961.pdf', 'G:/Ingenio Azucarero Guabira S.A/UTEA - SEMANAL - AVANCE COSECHA/2023/ANALISIS DE CAÑA EN CAMPO 2023/REPORTE_AVANCE_COSECHA/PLANOS_2/PLANO_759.pdf']\n",
      "-*************************************\n",
      "184\n",
      "['G:/OneDrive - Ingenio Azucarero Guabira S.A/_DATOS_PYTHON/_tes_pdf/185.pdf', 'G:/Ingenio Azucarero Guabira S.A/UTEA - SEMANAL - AVANCE COSECHA/2023/ANALISIS DE CAÑA EN CAMPO 2023/REPORTE_AVANCE_COSECHA/PLANOS_2/PLANO_1159.pdf', 'G:/Ingenio Azucarero Guabira S.A/UTEA - SEMANAL - AVANCE COSECHA/2023/ANALISIS DE CAÑA EN CAMPO 2023/REPORTE_AVANCE_COSECHA/PLANOS_2/PLANO_1770.pdf', 'G:/Ingenio Azucarero Guabira S.A/UTEA - SEMANAL - AVANCE COSECHA/2023/ANALISIS DE CAÑA EN CAMPO 2023/REPORTE_AVANCE_COSECHA/PLANOS_2/PLANO_916.pdf', 'G:/Ingenio Azucarero Guabira S.A/UTEA - SEMANAL - AVANCE COSECHA/2023/ANALISIS DE CAÑA EN CAMPO 2023/REPORTE_AVANCE_COSECHA/PLANOS_2/PLANO_886.pdf', 'G:/Ingenio Azucarero Guabira S.A/UTEA - SEMANAL - AVANCE COSECHA/2023/ANALISIS DE CAÑA EN CAMPO 2023/REPORTE_AVANCE_COSECHA/PLANOS_2/PLANO_887.pdf', 'G:/Ingenio Azucarero Guabira S.A/UTEA - SEMANAL - AVANCE COSECHA/2023/ANALISIS DE CAÑA EN CAMPO 2023/REPORTE_AVANCE_COSECHA/PLANOS_2/PLANO_888.pdf', 'G:/Ingenio Azucarero Guabira S.A/UTEA - SEMANAL - AVANCE COSECHA/2023/ANALISIS DE CAÑA EN CAMPO 2023/REPORTE_AVANCE_COSECHA/PLANOS_2/PLANO_889.pdf', 'G:/Ingenio Azucarero Guabira S.A/UTEA - SEMANAL - AVANCE COSECHA/2023/ANALISIS DE CAÑA EN CAMPO 2023/REPORTE_AVANCE_COSECHA/PLANOS_2/PLANO_890.pdf', 'G:/Ingenio Azucarero Guabira S.A/UTEA - SEMANAL - AVANCE COSECHA/2023/ANALISIS DE CAÑA EN CAMPO 2023/REPORTE_AVANCE_COSECHA/PLANOS_2/PLANO_891.pdf', 'G:/Ingenio Azucarero Guabira S.A/UTEA - SEMANAL - AVANCE COSECHA/2023/ANALISIS DE CAÑA EN CAMPO 2023/REPORTE_AVANCE_COSECHA/PLANOS_2/PLANO_892.pdf', 'G:/Ingenio Azucarero Guabira S.A/UTEA - SEMANAL - AVANCE COSECHA/2023/ANALISIS DE CAÑA EN CAMPO 2023/REPORTE_AVANCE_COSECHA/PLANOS_2/PLANO_893.pdf']\n",
      "-*************************************\n",
      "185\n",
      "['G:/OneDrive - Ingenio Azucarero Guabira S.A/_DATOS_PYTHON/_tes_pdf/186.pdf', 'G:/Ingenio Azucarero Guabira S.A/UTEA - SEMANAL - AVANCE COSECHA/2023/ANALISIS DE CAÑA EN CAMPO 2023/REPORTE_AVANCE_COSECHA/PLANOS_2/PLANO_1472.pdf', 'G:/Ingenio Azucarero Guabira S.A/UTEA - SEMANAL - AVANCE COSECHA/2023/ANALISIS DE CAÑA EN CAMPO 2023/REPORTE_AVANCE_COSECHA/PLANOS_2/PLANO_484.pdf', 'G:/Ingenio Azucarero Guabira S.A/UTEA - SEMANAL - AVANCE COSECHA/2023/ANALISIS DE CAÑA EN CAMPO 2023/REPORTE_AVANCE_COSECHA/PLANOS_2/PLANO_485.pdf', 'G:/Ingenio Azucarero Guabira S.A/UTEA - SEMANAL - AVANCE COSECHA/2023/ANALISIS DE CAÑA EN CAMPO 2023/REPORTE_AVANCE_COSECHA/PLANOS_2/PLANO_1478.pdf', 'G:/Ingenio Azucarero Guabira S.A/UTEA - SEMANAL - AVANCE COSECHA/2023/ANALISIS DE CAÑA EN CAMPO 2023/REPORTE_AVANCE_COSECHA/PLANOS_2/PLANO_753.pdf', 'G:/Ingenio Azucarero Guabira S.A/UTEA - SEMANAL - AVANCE COSECHA/2023/ANALISIS DE CAÑA EN CAMPO 2023/REPORTE_AVANCE_COSECHA/PLANOS_2/PLANO_1684.pdf']\n",
      "-*************************************\n",
      "186\n",
      "['G:/OneDrive - Ingenio Azucarero Guabira S.A/_DATOS_PYTHON/_tes_pdf/187.pdf', 'G:/Ingenio Azucarero Guabira S.A/UTEA - SEMANAL - AVANCE COSECHA/2023/ANALISIS DE CAÑA EN CAMPO 2023/REPORTE_AVANCE_COSECHA/PLANOS_2/PLANO_1569.pdf', 'G:/Ingenio Azucarero Guabira S.A/UTEA - SEMANAL - AVANCE COSECHA/2023/ANALISIS DE CAÑA EN CAMPO 2023/REPORTE_AVANCE_COSECHA/PLANOS_2/PLANO_1154.pdf', 'G:/Ingenio Azucarero Guabira S.A/UTEA - SEMANAL - AVANCE COSECHA/2023/ANALISIS DE CAÑA EN CAMPO 2023/REPORTE_AVANCE_COSECHA/PLANOS_2/PLANO_1157.pdf', 'G:/Ingenio Azucarero Guabira S.A/UTEA - SEMANAL - AVANCE COSECHA/2023/ANALISIS DE CAÑA EN CAMPO 2023/REPORTE_AVANCE_COSECHA/PLANOS_2/PLANO_454.pdf', 'G:/Ingenio Azucarero Guabira S.A/UTEA - SEMANAL - AVANCE COSECHA/2023/ANALISIS DE CAÑA EN CAMPO 2023/REPORTE_AVANCE_COSECHA/PLANOS_2/PLANO_1158.pdf', 'G:/Ingenio Azucarero Guabira S.A/UTEA - SEMANAL - AVANCE COSECHA/2023/ANALISIS DE CAÑA EN CAMPO 2023/REPORTE_AVANCE_COSECHA/PLANOS_2/PLANO_685.pdf', 'G:/Ingenio Azucarero Guabira S.A/UTEA - SEMANAL - AVANCE COSECHA/2023/ANALISIS DE CAÑA EN CAMPO 2023/REPORTE_AVANCE_COSECHA/PLANOS_2/PLANO_687.pdf', 'G:/Ingenio Azucarero Guabira S.A/UTEA - SEMANAL - AVANCE COSECHA/2023/ANALISIS DE CAÑA EN CAMPO 2023/REPORTE_AVANCE_COSECHA/PLANOS_2/PLANO_1170.pdf', 'G:/Ingenio Azucarero Guabira S.A/UTEA - SEMANAL - AVANCE COSECHA/2023/ANALISIS DE CAÑA EN CAMPO 2023/REPORTE_AVANCE_COSECHA/PLANOS_2/PLANO_690.pdf']\n",
      "-*************************************\n",
      "187\n",
      "['G:/OneDrive - Ingenio Azucarero Guabira S.A/_DATOS_PYTHON/_tes_pdf/188.pdf', 'G:/Ingenio Azucarero Guabira S.A/UTEA - SEMANAL - AVANCE COSECHA/2023/ANALISIS DE CAÑA EN CAMPO 2023/REPORTE_AVANCE_COSECHA/PLANOS_2/PLANO_672.pdf', 'G:/Ingenio Azucarero Guabira S.A/UTEA - SEMANAL - AVANCE COSECHA/2023/ANALISIS DE CAÑA EN CAMPO 2023/REPORTE_AVANCE_COSECHA/PLANOS_2/PLANO_1868.pdf', 'G:/Ingenio Azucarero Guabira S.A/UTEA - SEMANAL - AVANCE COSECHA/2023/ANALISIS DE CAÑA EN CAMPO 2023/REPORTE_AVANCE_COSECHA/PLANOS_2/PLANO_654.pdf', 'G:/Ingenio Azucarero Guabira S.A/UTEA - SEMANAL - AVANCE COSECHA/2023/ANALISIS DE CAÑA EN CAMPO 2023/REPORTE_AVANCE_COSECHA/PLANOS_2/PLANO_655.pdf', 'G:/Ingenio Azucarero Guabira S.A/UTEA - SEMANAL - AVANCE COSECHA/2023/ANALISIS DE CAÑA EN CAMPO 2023/REPORTE_AVANCE_COSECHA/PLANOS_2/PLANO_667.pdf', 'G:/Ingenio Azucarero Guabira S.A/UTEA - SEMANAL - AVANCE COSECHA/2023/ANALISIS DE CAÑA EN CAMPO 2023/REPORTE_AVANCE_COSECHA/PLANOS_2/PLANO_670.pdf', 'G:/Ingenio Azucarero Guabira S.A/UTEA - SEMANAL - AVANCE COSECHA/2023/ANALISIS DE CAÑA EN CAMPO 2023/REPORTE_AVANCE_COSECHA/PLANOS_2/PLANO_671.pdf']\n",
      "-*************************************\n",
      "188\n",
      "['G:/OneDrive - Ingenio Azucarero Guabira S.A/_DATOS_PYTHON/_tes_pdf/189.pdf', 'G:/Ingenio Azucarero Guabira S.A/UTEA - SEMANAL - AVANCE COSECHA/2023/ANALISIS DE CAÑA EN CAMPO 2023/REPORTE_AVANCE_COSECHA/PLANOS_2/PLANO_1544.pdf', 'G:/Ingenio Azucarero Guabira S.A/UTEA - SEMANAL - AVANCE COSECHA/2023/ANALISIS DE CAÑA EN CAMPO 2023/REPORTE_AVANCE_COSECHA/PLANOS_2/PLANO_1473.pdf', 'G:/Ingenio Azucarero Guabira S.A/UTEA - SEMANAL - AVANCE COSECHA/2023/ANALISIS DE CAÑA EN CAMPO 2023/REPORTE_AVANCE_COSECHA/PLANOS_2/PLANO_682.pdf']\n",
      "-*************************************\n",
      "189\n",
      "['G:/OneDrive - Ingenio Azucarero Guabira S.A/_DATOS_PYTHON/_tes_pdf/190.pdf', 'G:/Ingenio Azucarero Guabira S.A/UTEA - SEMANAL - AVANCE COSECHA/2023/ANALISIS DE CAÑA EN CAMPO 2023/REPORTE_AVANCE_COSECHA/PLANOS_2/PLANO_1156.pdf', 'G:/Ingenio Azucarero Guabira S.A/UTEA - SEMANAL - AVANCE COSECHA/2023/ANALISIS DE CAÑA EN CAMPO 2023/REPORTE_AVANCE_COSECHA/PLANOS_2/PLANO_710.pdf']\n",
      "-*************************************\n",
      "190\n",
      "['G:/OneDrive - Ingenio Azucarero Guabira S.A/_DATOS_PYTHON/_tes_pdf/191.pdf', 'G:/Ingenio Azucarero Guabira S.A/UTEA - SEMANAL - AVANCE COSECHA/2023/ANALISIS DE CAÑA EN CAMPO 2023/REPORTE_AVANCE_COSECHA/PLANOS_2/PLANO_389.pdf', 'G:/Ingenio Azucarero Guabira S.A/UTEA - SEMANAL - AVANCE COSECHA/2023/ANALISIS DE CAÑA EN CAMPO 2023/REPORTE_AVANCE_COSECHA/PLANOS_2/PLANO_936.pdf', 'G:/Ingenio Azucarero Guabira S.A/UTEA - SEMANAL - AVANCE COSECHA/2023/ANALISIS DE CAÑA EN CAMPO 2023/REPORTE_AVANCE_COSECHA/PLANOS_2/PLANO_681.pdf', 'G:/Ingenio Azucarero Guabira S.A/UTEA - SEMANAL - AVANCE COSECHA/2023/ANALISIS DE CAÑA EN CAMPO 2023/REPORTE_AVANCE_COSECHA/PLANOS_2/PLANO_1872.pdf', 'G:/Ingenio Azucarero Guabira S.A/UTEA - SEMANAL - AVANCE COSECHA/2023/ANALISIS DE CAÑA EN CAMPO 2023/REPORTE_AVANCE_COSECHA/PLANOS_2/PLANO_1939.pdf', 'G:/Ingenio Azucarero Guabira S.A/UTEA - SEMANAL - AVANCE COSECHA/2023/ANALISIS DE CAÑA EN CAMPO 2023/REPORTE_AVANCE_COSECHA/PLANOS_2/PLANO_1940.pdf']\n",
      "-*************************************\n",
      "191\n",
      "['G:/OneDrive - Ingenio Azucarero Guabira S.A/_DATOS_PYTHON/_tes_pdf/192.pdf', 'G:/Ingenio Azucarero Guabira S.A/UTEA - SEMANAL - AVANCE COSECHA/2023/ANALISIS DE CAÑA EN CAMPO 2023/REPORTE_AVANCE_COSECHA/PLANOS_2/PLANO_834.pdf', 'G:/Ingenio Azucarero Guabira S.A/UTEA - SEMANAL - AVANCE COSECHA/2023/ANALISIS DE CAÑA EN CAMPO 2023/REPORTE_AVANCE_COSECHA/PLANOS_2/PLANO_835.pdf', 'G:/Ingenio Azucarero Guabira S.A/UTEA - SEMANAL - AVANCE COSECHA/2023/ANALISIS DE CAÑA EN CAMPO 2023/REPORTE_AVANCE_COSECHA/PLANOS_2/PLANO_854.pdf', 'G:/Ingenio Azucarero Guabira S.A/UTEA - SEMANAL - AVANCE COSECHA/2023/ANALISIS DE CAÑA EN CAMPO 2023/REPORTE_AVANCE_COSECHA/PLANOS_2/PLANO_855.pdf']\n",
      "-*************************************\n",
      "192\n",
      "['G:/OneDrive - Ingenio Azucarero Guabira S.A/_DATOS_PYTHON/_tes_pdf/193.pdf', 'G:/Ingenio Azucarero Guabira S.A/UTEA - SEMANAL - AVANCE COSECHA/2023/ANALISIS DE CAÑA EN CAMPO 2023/REPORTE_AVANCE_COSECHA/PLANOS_2/PLANO_1793.pdf']\n",
      "-*************************************\n",
      "193\n",
      "['G:/OneDrive - Ingenio Azucarero Guabira S.A/_DATOS_PYTHON/_tes_pdf/194.pdf', 'G:/Ingenio Azucarero Guabira S.A/UTEA - SEMANAL - AVANCE COSECHA/2023/ANALISIS DE CAÑA EN CAMPO 2023/REPORTE_AVANCE_COSECHA/PLANOS_2/PLANO_328.pdf', 'G:/Ingenio Azucarero Guabira S.A/UTEA - SEMANAL - AVANCE COSECHA/2023/ANALISIS DE CAÑA EN CAMPO 2023/REPORTE_AVANCE_COSECHA/PLANOS_2/PLANO_53.pdf', 'G:/Ingenio Azucarero Guabira S.A/UTEA - SEMANAL - AVANCE COSECHA/2023/ANALISIS DE CAÑA EN CAMPO 2023/REPORTE_AVANCE_COSECHA/PLANOS_2/PLANO_13.pdf', 'G:/Ingenio Azucarero Guabira S.A/UTEA - SEMANAL - AVANCE COSECHA/2023/ANALISIS DE CAÑA EN CAMPO 2023/REPORTE_AVANCE_COSECHA/PLANOS_2/PLANO_55.pdf']\n",
      "-*************************************\n",
      "194\n",
      "['G:/OneDrive - Ingenio Azucarero Guabira S.A/_DATOS_PYTHON/_tes_pdf/195.pdf', 'G:/Ingenio Azucarero Guabira S.A/UTEA - SEMANAL - AVANCE COSECHA/2023/ANALISIS DE CAÑA EN CAMPO 2023/REPORTE_AVANCE_COSECHA/PLANOS_2/PLANO_29.pdf']\n",
      "-*************************************\n",
      "195\n",
      "['G:/OneDrive - Ingenio Azucarero Guabira S.A/_DATOS_PYTHON/_tes_pdf/196.pdf', 'G:/Ingenio Azucarero Guabira S.A/UTEA - SEMANAL - AVANCE COSECHA/2023/ANALISIS DE CAÑA EN CAMPO 2023/REPORTE_AVANCE_COSECHA/PLANOS_2/PLANO_423.pdf', 'G:/Ingenio Azucarero Guabira S.A/UTEA - SEMANAL - AVANCE COSECHA/2023/ANALISIS DE CAÑA EN CAMPO 2023/REPORTE_AVANCE_COSECHA/PLANOS_2/PLANO_558.pdf', 'G:/Ingenio Azucarero Guabira S.A/UTEA - SEMANAL - AVANCE COSECHA/2023/ANALISIS DE CAÑA EN CAMPO 2023/REPORTE_AVANCE_COSECHA/PLANOS_2/PLANO_306.pdf', 'G:/Ingenio Azucarero Guabira S.A/UTEA - SEMANAL - AVANCE COSECHA/2023/ANALISIS DE CAÑA EN CAMPO 2023/REPORTE_AVANCE_COSECHA/PLANOS_2/PLANO_307.pdf', 'G:/Ingenio Azucarero Guabira S.A/UTEA - SEMANAL - AVANCE COSECHA/2023/ANALISIS DE CAÑA EN CAMPO 2023/REPORTE_AVANCE_COSECHA/PLANOS_2/PLANO_1491.pdf']\n",
      "-*************************************\n",
      "196\n",
      "['G:/OneDrive - Ingenio Azucarero Guabira S.A/_DATOS_PYTHON/_tes_pdf/197.pdf', 'G:/Ingenio Azucarero Guabira S.A/UTEA - SEMANAL - AVANCE COSECHA/2023/ANALISIS DE CAÑA EN CAMPO 2023/REPORTE_AVANCE_COSECHA/PLANOS_2/PLANO_259.pdf']\n",
      "-*************************************\n",
      "197\n",
      "['G:/OneDrive - Ingenio Azucarero Guabira S.A/_DATOS_PYTHON/_tes_pdf/198.pdf', 'G:/Ingenio Azucarero Guabira S.A/UTEA - SEMANAL - AVANCE COSECHA/2023/ANALISIS DE CAÑA EN CAMPO 2023/REPORTE_AVANCE_COSECHA/PLANOS_2/PLANO_376.pdf', 'G:/Ingenio Azucarero Guabira S.A/UTEA - SEMANAL - AVANCE COSECHA/2023/ANALISIS DE CAÑA EN CAMPO 2023/REPORTE_AVANCE_COSECHA/PLANOS_2/PLANO_1474.pdf', 'G:/Ingenio Azucarero Guabira S.A/UTEA - SEMANAL - AVANCE COSECHA/2023/ANALISIS DE CAÑA EN CAMPO 2023/REPORTE_AVANCE_COSECHA/PLANOS_2/PLANO_375.pdf']\n",
      "-*************************************\n",
      "198\n",
      "['G:/OneDrive - Ingenio Azucarero Guabira S.A/_DATOS_PYTHON/_tes_pdf/199.pdf', 'G:/Ingenio Azucarero Guabira S.A/UTEA - SEMANAL - AVANCE COSECHA/2023/ANALISIS DE CAÑA EN CAMPO 2023/REPORTE_AVANCE_COSECHA/PLANOS_2/PLANO_1454.pdf', 'G:/Ingenio Azucarero Guabira S.A/UTEA - SEMANAL - AVANCE COSECHA/2023/ANALISIS DE CAÑA EN CAMPO 2023/REPORTE_AVANCE_COSECHA/PLANOS_2/PLANO_1619.pdf', 'G:/Ingenio Azucarero Guabira S.A/UTEA - SEMANAL - AVANCE COSECHA/2023/ANALISIS DE CAÑA EN CAMPO 2023/REPORTE_AVANCE_COSECHA/PLANOS_2/PLANO_345.pdf', 'G:/Ingenio Azucarero Guabira S.A/UTEA - SEMANAL - AVANCE COSECHA/2023/ANALISIS DE CAÑA EN CAMPO 2023/REPORTE_AVANCE_COSECHA/PLANOS_2/PLANO_27.pdf', 'G:/Ingenio Azucarero Guabira S.A/UTEA - SEMANAL - AVANCE COSECHA/2023/ANALISIS DE CAÑA EN CAMPO 2023/REPORTE_AVANCE_COSECHA/PLANOS_2/PLANO_669.pdf']\n",
      "-*************************************\n",
      "199\n",
      "['G:/OneDrive - Ingenio Azucarero Guabira S.A/_DATOS_PYTHON/_tes_pdf/201.pdf', 'G:/Ingenio Azucarero Guabira S.A/UTEA - SEMANAL - AVANCE COSECHA/2023/ANALISIS DE CAÑA EN CAMPO 2023/REPORTE_AVANCE_COSECHA/PLANOS_2/PLANO_864.pdf', 'G:/Ingenio Azucarero Guabira S.A/UTEA - SEMANAL - AVANCE COSECHA/2023/ANALISIS DE CAÑA EN CAMPO 2023/REPORTE_AVANCE_COSECHA/PLANOS_2/PLANO_1505.pdf', 'G:/Ingenio Azucarero Guabira S.A/UTEA - SEMANAL - AVANCE COSECHA/2023/ANALISIS DE CAÑA EN CAMPO 2023/REPORTE_AVANCE_COSECHA/PLANOS_2/PLANO_1570.pdf', 'G:/Ingenio Azucarero Guabira S.A/UTEA - SEMANAL - AVANCE COSECHA/2023/ANALISIS DE CAÑA EN CAMPO 2023/REPORTE_AVANCE_COSECHA/PLANOS_2/PLANO_1443.pdf', 'G:/Ingenio Azucarero Guabira S.A/UTEA - SEMANAL - AVANCE COSECHA/2023/ANALISIS DE CAÑA EN CAMPO 2023/REPORTE_AVANCE_COSECHA/PLANOS_2/PLANO_1190.pdf', 'G:/Ingenio Azucarero Guabira S.A/UTEA - SEMANAL - AVANCE COSECHA/2023/ANALISIS DE CAÑA EN CAMPO 2023/REPORTE_AVANCE_COSECHA/PLANOS_2/PLANO_234.pdf', 'G:/Ingenio Azucarero Guabira S.A/UTEA - SEMANAL - AVANCE COSECHA/2023/ANALISIS DE CAÑA EN CAMPO 2023/REPORTE_AVANCE_COSECHA/PLANOS_2/PLANO_235.pdf', 'G:/Ingenio Azucarero Guabira S.A/UTEA - SEMANAL - AVANCE COSECHA/2023/ANALISIS DE CAÑA EN CAMPO 2023/REPORTE_AVANCE_COSECHA/PLANOS_2/PLANO_1165.pdf', 'G:/Ingenio Azucarero Guabira S.A/UTEA - SEMANAL - AVANCE COSECHA/2023/ANALISIS DE CAÑA EN CAMPO 2023/REPORTE_AVANCE_COSECHA/PLANOS_2/PLANO_206.pdf', 'G:/Ingenio Azucarero Guabira S.A/UTEA - SEMANAL - AVANCE COSECHA/2023/ANALISIS DE CAÑA EN CAMPO 2023/REPORTE_AVANCE_COSECHA/PLANOS_2/PLANO_1712.pdf', 'G:/Ingenio Azucarero Guabira S.A/UTEA - SEMANAL - AVANCE COSECHA/2023/ANALISIS DE CAÑA EN CAMPO 2023/REPORTE_AVANCE_COSECHA/PLANOS_2/PLANO_1778.pdf', 'G:/Ingenio Azucarero Guabira S.A/UTEA - SEMANAL - AVANCE COSECHA/2023/ANALISIS DE CAÑA EN CAMPO 2023/REPORTE_AVANCE_COSECHA/PLANOS_2/PLANO_1433.pdf', 'G:/Ingenio Azucarero Guabira S.A/UTEA - SEMANAL - AVANCE COSECHA/2023/ANALISIS DE CAÑA EN CAMPO 2023/REPORTE_AVANCE_COSECHA/PLANOS_2/PLANO_1243.pdf', 'G:/Ingenio Azucarero Guabira S.A/UTEA - SEMANAL - AVANCE COSECHA/2023/ANALISIS DE CAÑA EN CAMPO 2023/REPORTE_AVANCE_COSECHA/PLANOS_2/PLANO_862.pdf']\n",
      "-*************************************\n",
      "201\n",
      "['G:/OneDrive - Ingenio Azucarero Guabira S.A/_DATOS_PYTHON/_tes_pdf/202.pdf', 'G:/Ingenio Azucarero Guabira S.A/UTEA - SEMANAL - AVANCE COSECHA/2023/ANALISIS DE CAÑA EN CAMPO 2023/REPORTE_AVANCE_COSECHA/PLANOS_2/PLANO_803.pdf', 'G:/Ingenio Azucarero Guabira S.A/UTEA - SEMANAL - AVANCE COSECHA/2023/ANALISIS DE CAÑA EN CAMPO 2023/REPORTE_AVANCE_COSECHA/PLANOS_2/PLANO_1285.pdf', 'G:/Ingenio Azucarero Guabira S.A/UTEA - SEMANAL - AVANCE COSECHA/2023/ANALISIS DE CAÑA EN CAMPO 2023/REPORTE_AVANCE_COSECHA/PLANOS_2/PLANO_1286.pdf', 'G:/Ingenio Azucarero Guabira S.A/UTEA - SEMANAL - AVANCE COSECHA/2023/ANALISIS DE CAÑA EN CAMPO 2023/REPORTE_AVANCE_COSECHA/PLANOS_2/PLANO_233.pdf', 'G:/Ingenio Azucarero Guabira S.A/UTEA - SEMANAL - AVANCE COSECHA/2023/ANALISIS DE CAÑA EN CAMPO 2023/REPORTE_AVANCE_COSECHA/PLANOS_2/PLANO_478.pdf']\n",
      "-*************************************\n",
      "202\n",
      "['G:/OneDrive - Ingenio Azucarero Guabira S.A/_DATOS_PYTHON/_tes_pdf/203.pdf', 'G:/Ingenio Azucarero Guabira S.A/UTEA - SEMANAL - AVANCE COSECHA/2023/ANALISIS DE CAÑA EN CAMPO 2023/REPORTE_AVANCE_COSECHA/PLANOS_2/PLANO_275.pdf', 'G:/Ingenio Azucarero Guabira S.A/UTEA - SEMANAL - AVANCE COSECHA/2023/ANALISIS DE CAÑA EN CAMPO 2023/REPORTE_AVANCE_COSECHA/PLANOS_2/PLANO_132.pdf']\n",
      "-*************************************\n",
      "203\n",
      "['G:/OneDrive - Ingenio Azucarero Guabira S.A/_DATOS_PYTHON/_tes_pdf/204.pdf', 'G:/Ingenio Azucarero Guabira S.A/UTEA - SEMANAL - AVANCE COSECHA/2023/ANALISIS DE CAÑA EN CAMPO 2023/REPORTE_AVANCE_COSECHA/PLANOS_2/PLANO_1587.pdf', 'G:/Ingenio Azucarero Guabira S.A/UTEA - SEMANAL - AVANCE COSECHA/2023/ANALISIS DE CAÑA EN CAMPO 2023/REPORTE_AVANCE_COSECHA/PLANOS_2/PLANO_628.pdf', 'G:/Ingenio Azucarero Guabira S.A/UTEA - SEMANAL - AVANCE COSECHA/2023/ANALISIS DE CAÑA EN CAMPO 2023/REPORTE_AVANCE_COSECHA/PLANOS_2/PLANO_734.pdf']\n",
      "-*************************************\n",
      "204\n",
      "['G:/OneDrive - Ingenio Azucarero Guabira S.A/_DATOS_PYTHON/_tes_pdf/205.pdf', 'G:/Ingenio Azucarero Guabira S.A/UTEA - SEMANAL - AVANCE COSECHA/2023/ANALISIS DE CAÑA EN CAMPO 2023/REPORTE_AVANCE_COSECHA/PLANOS_2/PLANO_5.pdf']\n",
      "-*************************************\n",
      "205\n",
      "['G:/OneDrive - Ingenio Azucarero Guabira S.A/_DATOS_PYTHON/_tes_pdf/206.pdf', 'G:/Ingenio Azucarero Guabira S.A/UTEA - SEMANAL - AVANCE COSECHA/2023/ANALISIS DE CAÑA EN CAMPO 2023/REPORTE_AVANCE_COSECHA/PLANOS_2/PLANO_705.pdf', 'G:/Ingenio Azucarero Guabira S.A/UTEA - SEMANAL - AVANCE COSECHA/2023/ANALISIS DE CAÑA EN CAMPO 2023/REPORTE_AVANCE_COSECHA/PLANOS_2/PLANO_870.pdf', 'G:/Ingenio Azucarero Guabira S.A/UTEA - SEMANAL - AVANCE COSECHA/2023/ANALISIS DE CAÑA EN CAMPO 2023/REPORTE_AVANCE_COSECHA/PLANOS_2/PLANO_1414.pdf', 'G:/Ingenio Azucarero Guabira S.A/UTEA - SEMANAL - AVANCE COSECHA/2023/ANALISIS DE CAÑA EN CAMPO 2023/REPORTE_AVANCE_COSECHA/PLANOS_2/PLANO_779.pdf', 'G:/Ingenio Azucarero Guabira S.A/UTEA - SEMANAL - AVANCE COSECHA/2023/ANALISIS DE CAÑA EN CAMPO 2023/REPORTE_AVANCE_COSECHA/PLANOS_2/PLANO_780.pdf', 'G:/Ingenio Azucarero Guabira S.A/UTEA - SEMANAL - AVANCE COSECHA/2023/ANALISIS DE CAÑA EN CAMPO 2023/REPORTE_AVANCE_COSECHA/PLANOS_2/PLANO_1198.pdf', 'G:/Ingenio Azucarero Guabira S.A/UTEA - SEMANAL - AVANCE COSECHA/2023/ANALISIS DE CAÑA EN CAMPO 2023/REPORTE_AVANCE_COSECHA/PLANOS_2/PLANO_1422.pdf', 'G:/Ingenio Azucarero Guabira S.A/UTEA - SEMANAL - AVANCE COSECHA/2023/ANALISIS DE CAÑA EN CAMPO 2023/REPORTE_AVANCE_COSECHA/PLANOS_2/PLANO_1111.pdf', 'G:/Ingenio Azucarero Guabira S.A/UTEA - SEMANAL - AVANCE COSECHA/2023/ANALISIS DE CAÑA EN CAMPO 2023/REPORTE_AVANCE_COSECHA/PLANOS_2/PLANO_126.pdf']\n",
      "-*************************************\n",
      "206\n",
      "['G:/OneDrive - Ingenio Azucarero Guabira S.A/_DATOS_PYTHON/_tes_pdf/207.pdf', 'G:/Ingenio Azucarero Guabira S.A/UTEA - SEMANAL - AVANCE COSECHA/2023/ANALISIS DE CAÑA EN CAMPO 2023/REPORTE_AVANCE_COSECHA/PLANOS_2/PLANO_1588.pdf']\n",
      "-*************************************\n",
      "207\n",
      "['G:/OneDrive - Ingenio Azucarero Guabira S.A/_DATOS_PYTHON/_tes_pdf/208.pdf', 'G:/Ingenio Azucarero Guabira S.A/UTEA - SEMANAL - AVANCE COSECHA/2023/ANALISIS DE CAÑA EN CAMPO 2023/REPORTE_AVANCE_COSECHA/PLANOS_2/PLANO_935.pdf', 'G:/Ingenio Azucarero Guabira S.A/UTEA - SEMANAL - AVANCE COSECHA/2023/ANALISIS DE CAÑA EN CAMPO 2023/REPORTE_AVANCE_COSECHA/PLANOS_2/PLANO_912.pdf', 'G:/Ingenio Azucarero Guabira S.A/UTEA - SEMANAL - AVANCE COSECHA/2023/ANALISIS DE CAÑA EN CAMPO 2023/REPORTE_AVANCE_COSECHA/PLANOS_2/PLANO_922.pdf', 'G:/Ingenio Azucarero Guabira S.A/UTEA - SEMANAL - AVANCE COSECHA/2023/ANALISIS DE CAÑA EN CAMPO 2023/REPORTE_AVANCE_COSECHA/PLANOS_2/PLANO_923.pdf', 'G:/Ingenio Azucarero Guabira S.A/UTEA - SEMANAL - AVANCE COSECHA/2023/ANALISIS DE CAÑA EN CAMPO 2023/REPORTE_AVANCE_COSECHA/PLANOS_2/PLANO_924.pdf']\n",
      "-*************************************\n",
      "208\n",
      "['G:/OneDrive - Ingenio Azucarero Guabira S.A/_DATOS_PYTHON/_tes_pdf/209.pdf', 'G:/Ingenio Azucarero Guabira S.A/UTEA - SEMANAL - AVANCE COSECHA/2023/ANALISIS DE CAÑA EN CAMPO 2023/REPORTE_AVANCE_COSECHA/PLANOS_2/PLANO_273.pdf', 'G:/Ingenio Azucarero Guabira S.A/UTEA - SEMANAL - AVANCE COSECHA/2023/ANALISIS DE CAÑA EN CAMPO 2023/REPORTE_AVANCE_COSECHA/PLANOS_2/PLANO_714.pdf', 'G:/Ingenio Azucarero Guabira S.A/UTEA - SEMANAL - AVANCE COSECHA/2023/ANALISIS DE CAÑA EN CAMPO 2023/REPORTE_AVANCE_COSECHA/PLANOS_2/PLANO_118.pdf']\n",
      "-*************************************\n",
      "209\n",
      "['G:/OneDrive - Ingenio Azucarero Guabira S.A/_DATOS_PYTHON/_tes_pdf/211.pdf', 'G:/Ingenio Azucarero Guabira S.A/UTEA - SEMANAL - AVANCE COSECHA/2023/ANALISIS DE CAÑA EN CAMPO 2023/REPORTE_AVANCE_COSECHA/PLANOS_2/PLANO_187.pdf']\n",
      "-*************************************\n",
      "211\n",
      "['G:/OneDrive - Ingenio Azucarero Guabira S.A/_DATOS_PYTHON/_tes_pdf/212.pdf', 'G:/Ingenio Azucarero Guabira S.A/UTEA - SEMANAL - AVANCE COSECHA/2023/ANALISIS DE CAÑA EN CAMPO 2023/REPORTE_AVANCE_COSECHA/PLANOS_2/PLANO_729.pdf']\n",
      "-*************************************\n",
      "212\n",
      "['G:/OneDrive - Ingenio Azucarero Guabira S.A/_DATOS_PYTHON/_tes_pdf/213.pdf', 'G:/Ingenio Azucarero Guabira S.A/UTEA - SEMANAL - AVANCE COSECHA/2023/ANALISIS DE CAÑA EN CAMPO 2023/REPORTE_AVANCE_COSECHA/PLANOS_2/PLANO_1290.pdf', 'G:/Ingenio Azucarero Guabira S.A/UTEA - SEMANAL - AVANCE COSECHA/2023/ANALISIS DE CAÑA EN CAMPO 2023/REPORTE_AVANCE_COSECHA/PLANOS_2/PLANO_1580.pdf']\n",
      "-*************************************\n",
      "213\n",
      "['G:/OneDrive - Ingenio Azucarero Guabira S.A/_DATOS_PYTHON/_tes_pdf/214.pdf', 'G:/Ingenio Azucarero Guabira S.A/UTEA - SEMANAL - AVANCE COSECHA/2023/ANALISIS DE CAÑA EN CAMPO 2023/REPORTE_AVANCE_COSECHA/PLANOS_2/PLANO_1875.pdf', 'G:/Ingenio Azucarero Guabira S.A/UTEA - SEMANAL - AVANCE COSECHA/2023/ANALISIS DE CAÑA EN CAMPO 2023/REPORTE_AVANCE_COSECHA/PLANOS_2/PLANO_1876.pdf', 'G:/Ingenio Azucarero Guabira S.A/UTEA - SEMANAL - AVANCE COSECHA/2023/ANALISIS DE CAÑA EN CAMPO 2023/REPORTE_AVANCE_COSECHA/PLANOS_2/PLANO_1566.pdf', 'G:/Ingenio Azucarero Guabira S.A/UTEA - SEMANAL - AVANCE COSECHA/2023/ANALISIS DE CAÑA EN CAMPO 2023/REPORTE_AVANCE_COSECHA/PLANOS_2/PLANO_1567.pdf']\n",
      "-*************************************\n",
      "214\n",
      "['G:/OneDrive - Ingenio Azucarero Guabira S.A/_DATOS_PYTHON/_tes_pdf/215.pdf', 'G:/Ingenio Azucarero Guabira S.A/UTEA - SEMANAL - AVANCE COSECHA/2023/ANALISIS DE CAÑA EN CAMPO 2023/REPORTE_AVANCE_COSECHA/PLANOS_2/PLANO_1952.pdf', 'G:/Ingenio Azucarero Guabira S.A/UTEA - SEMANAL - AVANCE COSECHA/2023/ANALISIS DE CAÑA EN CAMPO 2023/REPORTE_AVANCE_COSECHA/PLANOS_2/PLANO_42.pdf', 'G:/Ingenio Azucarero Guabira S.A/UTEA - SEMANAL - AVANCE COSECHA/2023/ANALISIS DE CAÑA EN CAMPO 2023/REPORTE_AVANCE_COSECHA/PLANOS_2/PLANO_1291.pdf', 'G:/Ingenio Azucarero Guabira S.A/UTEA - SEMANAL - AVANCE COSECHA/2023/ANALISIS DE CAÑA EN CAMPO 2023/REPORTE_AVANCE_COSECHA/PLANOS_2/PLANO_1180.pdf', 'G:/Ingenio Azucarero Guabira S.A/UTEA - SEMANAL - AVANCE COSECHA/2023/ANALISIS DE CAÑA EN CAMPO 2023/REPORTE_AVANCE_COSECHA/PLANOS_2/PLANO_858.pdf', 'G:/Ingenio Azucarero Guabira S.A/UTEA - SEMANAL - AVANCE COSECHA/2023/ANALISIS DE CAÑA EN CAMPO 2023/REPORTE_AVANCE_COSECHA/PLANOS_2/PLANO_1275.pdf', 'G:/Ingenio Azucarero Guabira S.A/UTEA - SEMANAL - AVANCE COSECHA/2023/ANALISIS DE CAÑA EN CAMPO 2023/REPORTE_AVANCE_COSECHA/PLANOS_2/PLANO_476.pdf']\n",
      "-*************************************\n",
      "215\n",
      "['G:/OneDrive - Ingenio Azucarero Guabira S.A/_DATOS_PYTHON/_tes_pdf/216.pdf', 'G:/Ingenio Azucarero Guabira S.A/UTEA - SEMANAL - AVANCE COSECHA/2023/ANALISIS DE CAÑA EN CAMPO 2023/REPORTE_AVANCE_COSECHA/PLANOS_2/PLANO_1121.pdf', 'G:/Ingenio Azucarero Guabira S.A/UTEA - SEMANAL - AVANCE COSECHA/2023/ANALISIS DE CAÑA EN CAMPO 2023/REPORTE_AVANCE_COSECHA/PLANOS_2/PLANO_1161.pdf', 'G:/Ingenio Azucarero Guabira S.A/UTEA - SEMANAL - AVANCE COSECHA/2023/ANALISIS DE CAÑA EN CAMPO 2023/REPORTE_AVANCE_COSECHA/PLANOS_2/PLANO_1125.pdf', 'G:/Ingenio Azucarero Guabira S.A/UTEA - SEMANAL - AVANCE COSECHA/2023/ANALISIS DE CAÑA EN CAMPO 2023/REPORTE_AVANCE_COSECHA/PLANOS_2/PLANO_1118.pdf']\n",
      "-*************************************\n",
      "216\n",
      "['G:/OneDrive - Ingenio Azucarero Guabira S.A/_DATOS_PYTHON/_tes_pdf/217.pdf', 'G:/Ingenio Azucarero Guabira S.A/UTEA - SEMANAL - AVANCE COSECHA/2023/ANALISIS DE CAÑA EN CAMPO 2023/REPORTE_AVANCE_COSECHA/PLANOS_2/PLANO_1043.pdf', 'G:/Ingenio Azucarero Guabira S.A/UTEA - SEMANAL - AVANCE COSECHA/2023/ANALISIS DE CAÑA EN CAMPO 2023/REPORTE_AVANCE_COSECHA/PLANOS_2/PLANO_1349.pdf']\n",
      "-*************************************\n",
      "217\n",
      "['G:/OneDrive - Ingenio Azucarero Guabira S.A/_DATOS_PYTHON/_tes_pdf/218.pdf', 'G:/Ingenio Azucarero Guabira S.A/UTEA - SEMANAL - AVANCE COSECHA/2023/ANALISIS DE CAÑA EN CAMPO 2023/REPORTE_AVANCE_COSECHA/PLANOS_2/PLANO_1121.pdf', 'G:/Ingenio Azucarero Guabira S.A/UTEA - SEMANAL - AVANCE COSECHA/2023/ANALISIS DE CAÑA EN CAMPO 2023/REPORTE_AVANCE_COSECHA/PLANOS_2/PLANO_546.pdf', 'G:/Ingenio Azucarero Guabira S.A/UTEA - SEMANAL - AVANCE COSECHA/2023/ANALISIS DE CAÑA EN CAMPO 2023/REPORTE_AVANCE_COSECHA/PLANOS_2/PLANO_536.pdf', 'G:/Ingenio Azucarero Guabira S.A/UTEA - SEMANAL - AVANCE COSECHA/2023/ANALISIS DE CAÑA EN CAMPO 2023/REPORTE_AVANCE_COSECHA/PLANOS_2/PLANO_1652.pdf', 'G:/Ingenio Azucarero Guabira S.A/UTEA - SEMANAL - AVANCE COSECHA/2023/ANALISIS DE CAÑA EN CAMPO 2023/REPORTE_AVANCE_COSECHA/PLANOS_2/PLANO_1080.pdf']\n",
      "-*************************************\n",
      "218\n",
      "['G:/OneDrive - Ingenio Azucarero Guabira S.A/_DATOS_PYTHON/_tes_pdf/219.pdf', 'G:/Ingenio Azucarero Guabira S.A/UTEA - SEMANAL - AVANCE COSECHA/2023/ANALISIS DE CAÑA EN CAMPO 2023/REPORTE_AVANCE_COSECHA/PLANOS_2/PLANO_1888.pdf', 'G:/Ingenio Azucarero Guabira S.A/UTEA - SEMANAL - AVANCE COSECHA/2023/ANALISIS DE CAÑA EN CAMPO 2023/REPORTE_AVANCE_COSECHA/PLANOS_2/PLANO_1889.pdf', 'G:/Ingenio Azucarero Guabira S.A/UTEA - SEMANAL - AVANCE COSECHA/2023/ANALISIS DE CAÑA EN CAMPO 2023/REPORTE_AVANCE_COSECHA/PLANOS_2/PLANO_1480.pdf', 'G:/Ingenio Azucarero Guabira S.A/UTEA - SEMANAL - AVANCE COSECHA/2023/ANALISIS DE CAÑA EN CAMPO 2023/REPORTE_AVANCE_COSECHA/PLANOS_2/PLANO_1160.pdf', 'G:/Ingenio Azucarero Guabira S.A/UTEA - SEMANAL - AVANCE COSECHA/2023/ANALISIS DE CAÑA EN CAMPO 2023/REPORTE_AVANCE_COSECHA/PLANOS_2/PLANO_395.pdf', 'G:/Ingenio Azucarero Guabira S.A/UTEA - SEMANAL - AVANCE COSECHA/2023/ANALISIS DE CAÑA EN CAMPO 2023/REPORTE_AVANCE_COSECHA/PLANOS_2/PLANO_396.pdf', 'G:/Ingenio Azucarero Guabira S.A/UTEA - SEMANAL - AVANCE COSECHA/2023/ANALISIS DE CAÑA EN CAMPO 2023/REPORTE_AVANCE_COSECHA/PLANOS_2/PLANO_1172.pdf', 'G:/Ingenio Azucarero Guabira S.A/UTEA - SEMANAL - AVANCE COSECHA/2023/ANALISIS DE CAÑA EN CAMPO 2023/REPORTE_AVANCE_COSECHA/PLANOS_2/PLANO_567.pdf', 'G:/Ingenio Azucarero Guabira S.A/UTEA - SEMANAL - AVANCE COSECHA/2023/ANALISIS DE CAÑA EN CAMPO 2023/REPORTE_AVANCE_COSECHA/PLANOS_2/PLANO_568.pdf', 'G:/Ingenio Azucarero Guabira S.A/UTEA - SEMANAL - AVANCE COSECHA/2023/ANALISIS DE CAÑA EN CAMPO 2023/REPORTE_AVANCE_COSECHA/PLANOS_2/PLANO_539.pdf', 'G:/Ingenio Azucarero Guabira S.A/UTEA - SEMANAL - AVANCE COSECHA/2023/ANALISIS DE CAÑA EN CAMPO 2023/REPORTE_AVANCE_COSECHA/PLANOS_2/PLANO_1887.pdf']\n",
      "-*************************************\n",
      "219\n",
      "['G:/OneDrive - Ingenio Azucarero Guabira S.A/_DATOS_PYTHON/_tes_pdf/220.pdf', 'G:/Ingenio Azucarero Guabira S.A/UTEA - SEMANAL - AVANCE COSECHA/2023/ANALISIS DE CAÑA EN CAMPO 2023/REPORTE_AVANCE_COSECHA/PLANOS_2/PLANO_1446.pdf', 'G:/Ingenio Azucarero Guabira S.A/UTEA - SEMANAL - AVANCE COSECHA/2023/ANALISIS DE CAÑA EN CAMPO 2023/REPORTE_AVANCE_COSECHA/PLANOS_2/PLANO_522.pdf', 'G:/Ingenio Azucarero Guabira S.A/UTEA - SEMANAL - AVANCE COSECHA/2023/ANALISIS DE CAÑA EN CAMPO 2023/REPORTE_AVANCE_COSECHA/PLANOS_2/PLANO_523.pdf', 'G:/Ingenio Azucarero Guabira S.A/UTEA - SEMANAL - AVANCE COSECHA/2023/ANALISIS DE CAÑA EN CAMPO 2023/REPORTE_AVANCE_COSECHA/PLANOS_2/PLANO_524.pdf', 'G:/Ingenio Azucarero Guabira S.A/UTEA - SEMANAL - AVANCE COSECHA/2023/ANALISIS DE CAÑA EN CAMPO 2023/REPORTE_AVANCE_COSECHA/PLANOS_2/PLANO_205.pdf', 'G:/Ingenio Azucarero Guabira S.A/UTEA - SEMANAL - AVANCE COSECHA/2023/ANALISIS DE CAÑA EN CAMPO 2023/REPORTE_AVANCE_COSECHA/PLANOS_2/PLANO_624.pdf', 'G:/Ingenio Azucarero Guabira S.A/UTEA - SEMANAL - AVANCE COSECHA/2023/ANALISIS DE CAÑA EN CAMPO 2023/REPORTE_AVANCE_COSECHA/PLANOS_2/PLANO_625.pdf', 'G:/Ingenio Azucarero Guabira S.A/UTEA - SEMANAL - AVANCE COSECHA/2023/ANALISIS DE CAÑA EN CAMPO 2023/REPORTE_AVANCE_COSECHA/PLANOS_2/PLANO_242.pdf']\n",
      "-*************************************\n",
      "220\n",
      "['G:/OneDrive - Ingenio Azucarero Guabira S.A/_DATOS_PYTHON/_tes_pdf/221.pdf', 'G:/Ingenio Azucarero Guabira S.A/UTEA - SEMANAL - AVANCE COSECHA/2023/ANALISIS DE CAÑA EN CAMPO 2023/REPORTE_AVANCE_COSECHA/PLANOS_2/PLANO_1193.pdf', 'G:/Ingenio Azucarero Guabira S.A/UTEA - SEMANAL - AVANCE COSECHA/2023/ANALISIS DE CAÑA EN CAMPO 2023/REPORTE_AVANCE_COSECHA/PLANOS_2/PLANO_1162.pdf', 'G:/Ingenio Azucarero Guabira S.A/UTEA - SEMANAL - AVANCE COSECHA/2023/ANALISIS DE CAÑA EN CAMPO 2023/REPORTE_AVANCE_COSECHA/PLANOS_2/PLANO_1197.pdf', 'G:/Ingenio Azucarero Guabira S.A/UTEA - SEMANAL - AVANCE COSECHA/2023/ANALISIS DE CAÑA EN CAMPO 2023/REPORTE_AVANCE_COSECHA/PLANOS_2/PLANO_188.pdf', 'G:/Ingenio Azucarero Guabira S.A/UTEA - SEMANAL - AVANCE COSECHA/2023/ANALISIS DE CAÑA EN CAMPO 2023/REPORTE_AVANCE_COSECHA/PLANOS_2/PLANO_1212.pdf', 'G:/Ingenio Azucarero Guabira S.A/UTEA - SEMANAL - AVANCE COSECHA/2023/ANALISIS DE CAÑA EN CAMPO 2023/REPORTE_AVANCE_COSECHA/PLANOS_2/PLANO_539.pdf', 'G:/Ingenio Azucarero Guabira S.A/UTEA - SEMANAL - AVANCE COSECHA/2023/ANALISIS DE CAÑA EN CAMPO 2023/REPORTE_AVANCE_COSECHA/PLANOS_2/PLANO_1020.pdf']\n",
      "-*************************************\n",
      "221\n",
      "['G:/OneDrive - Ingenio Azucarero Guabira S.A/_DATOS_PYTHON/_tes_pdf/222.pdf', 'G:/Ingenio Azucarero Guabira S.A/UTEA - SEMANAL - AVANCE COSECHA/2023/ANALISIS DE CAÑA EN CAMPO 2023/REPORTE_AVANCE_COSECHA/PLANOS_2/PLANO_580.pdf', 'G:/Ingenio Azucarero Guabira S.A/UTEA - SEMANAL - AVANCE COSECHA/2023/ANALISIS DE CAÑA EN CAMPO 2023/REPORTE_AVANCE_COSECHA/PLANOS_2/PLANO_582.pdf', 'G:/Ingenio Azucarero Guabira S.A/UTEA - SEMANAL - AVANCE COSECHA/2023/ANALISIS DE CAÑA EN CAMPO 2023/REPORTE_AVANCE_COSECHA/PLANOS_2/PLANO_583.pdf', 'G:/Ingenio Azucarero Guabira S.A/UTEA - SEMANAL - AVANCE COSECHA/2023/ANALISIS DE CAÑA EN CAMPO 2023/REPORTE_AVANCE_COSECHA/PLANOS_2/PLANO_150.pdf', 'G:/Ingenio Azucarero Guabira S.A/UTEA - SEMANAL - AVANCE COSECHA/2023/ANALISIS DE CAÑA EN CAMPO 2023/REPORTE_AVANCE_COSECHA/PLANOS_2/PLANO_537.pdf', 'G:/Ingenio Azucarero Guabira S.A/UTEA - SEMANAL - AVANCE COSECHA/2023/ANALISIS DE CAÑA EN CAMPO 2023/REPORTE_AVANCE_COSECHA/PLANOS_2/PLANO_538.pdf']\n",
      "-*************************************\n",
      "222\n",
      "['G:/OneDrive - Ingenio Azucarero Guabira S.A/_DATOS_PYTHON/_tes_pdf/223.pdf', 'G:/Ingenio Azucarero Guabira S.A/UTEA - SEMANAL - AVANCE COSECHA/2023/ANALISIS DE CAÑA EN CAMPO 2023/REPORTE_AVANCE_COSECHA/PLANOS_2/PLANO_105.pdf', 'G:/Ingenio Azucarero Guabira S.A/UTEA - SEMANAL - AVANCE COSECHA/2023/ANALISIS DE CAÑA EN CAMPO 2023/REPORTE_AVANCE_COSECHA/PLANOS_2/PLANO_106.pdf', 'G:/Ingenio Azucarero Guabira S.A/UTEA - SEMANAL - AVANCE COSECHA/2023/ANALISIS DE CAÑA EN CAMPO 2023/REPORTE_AVANCE_COSECHA/PLANOS_2/PLANO_140.pdf']\n",
      "-*************************************\n",
      "223\n",
      "['G:/OneDrive - Ingenio Azucarero Guabira S.A/_DATOS_PYTHON/_tes_pdf/224.pdf', 'G:/Ingenio Azucarero Guabira S.A/UTEA - SEMANAL - AVANCE COSECHA/2023/ANALISIS DE CAÑA EN CAMPO 2023/REPORTE_AVANCE_COSECHA/PLANOS_2/PLANO_544.pdf', 'G:/Ingenio Azucarero Guabira S.A/UTEA - SEMANAL - AVANCE COSECHA/2023/ANALISIS DE CAÑA EN CAMPO 2023/REPORTE_AVANCE_COSECHA/PLANOS_2/PLANO_1227.pdf', 'G:/Ingenio Azucarero Guabira S.A/UTEA - SEMANAL - AVANCE COSECHA/2023/ANALISIS DE CAÑA EN CAMPO 2023/REPORTE_AVANCE_COSECHA/PLANOS_2/PLANO_1613.pdf', 'G:/Ingenio Azucarero Guabira S.A/UTEA - SEMANAL - AVANCE COSECHA/2023/ANALISIS DE CAÑA EN CAMPO 2023/REPORTE_AVANCE_COSECHA/PLANOS_2/PLANO_1234.pdf', 'G:/Ingenio Azucarero Guabira S.A/UTEA - SEMANAL - AVANCE COSECHA/2023/ANALISIS DE CAÑA EN CAMPO 2023/REPORTE_AVANCE_COSECHA/PLANOS_2/PLANO_1210.pdf', 'G:/Ingenio Azucarero Guabira S.A/UTEA - SEMANAL - AVANCE COSECHA/2023/ANALISIS DE CAÑA EN CAMPO 2023/REPORTE_AVANCE_COSECHA/PLANOS_2/PLANO_542.pdf', 'G:/Ingenio Azucarero Guabira S.A/UTEA - SEMANAL - AVANCE COSECHA/2023/ANALISIS DE CAÑA EN CAMPO 2023/REPORTE_AVANCE_COSECHA/PLANOS_2/PLANO_543.pdf']\n",
      "-*************************************\n",
      "224\n",
      "['G:/OneDrive - Ingenio Azucarero Guabira S.A/_DATOS_PYTHON/_tes_pdf/225.pdf', 'G:/Ingenio Azucarero Guabira S.A/UTEA - SEMANAL - AVANCE COSECHA/2023/ANALISIS DE CAÑA EN CAMPO 2023/REPORTE_AVANCE_COSECHA/PLANOS_2/PLANO_1248.pdf', 'G:/Ingenio Azucarero Guabira S.A/UTEA - SEMANAL - AVANCE COSECHA/2023/ANALISIS DE CAÑA EN CAMPO 2023/REPORTE_AVANCE_COSECHA/PLANOS_2/PLANO_1249.pdf', 'G:/Ingenio Azucarero Guabira S.A/UTEA - SEMANAL - AVANCE COSECHA/2023/ANALISIS DE CAÑA EN CAMPO 2023/REPORTE_AVANCE_COSECHA/PLANOS_2/PLANO_103.pdf', 'G:/Ingenio Azucarero Guabira S.A/UTEA - SEMANAL - AVANCE COSECHA/2023/ANALISIS DE CAÑA EN CAMPO 2023/REPORTE_AVANCE_COSECHA/PLANOS_2/PLANO_395.pdf', 'G:/Ingenio Azucarero Guabira S.A/UTEA - SEMANAL - AVANCE COSECHA/2023/ANALISIS DE CAÑA EN CAMPO 2023/REPORTE_AVANCE_COSECHA/PLANOS_2/PLANO_1197.pdf', 'G:/Ingenio Azucarero Guabira S.A/UTEA - SEMANAL - AVANCE COSECHA/2023/ANALISIS DE CAÑA EN CAMPO 2023/REPORTE_AVANCE_COSECHA/PLANOS_2/PLANO_468.pdf', 'G:/Ingenio Azucarero Guabira S.A/UTEA - SEMANAL - AVANCE COSECHA/2023/ANALISIS DE CAÑA EN CAMPO 2023/REPORTE_AVANCE_COSECHA/PLANOS_2/PLANO_469.pdf']\n",
      "-*************************************\n",
      "225\n",
      "['G:/OneDrive - Ingenio Azucarero Guabira S.A/_DATOS_PYTHON/_tes_pdf/226.pdf', 'G:/Ingenio Azucarero Guabira S.A/UTEA - SEMANAL - AVANCE COSECHA/2023/ANALISIS DE CAÑA EN CAMPO 2023/REPORTE_AVANCE_COSECHA/PLANOS_2/PLANO_1540.pdf', 'G:/Ingenio Azucarero Guabira S.A/UTEA - SEMANAL - AVANCE COSECHA/2023/ANALISIS DE CAÑA EN CAMPO 2023/REPORTE_AVANCE_COSECHA/PLANOS_2/PLANO_1541.pdf']\n",
      "-*************************************\n",
      "226\n",
      "['G:/OneDrive - Ingenio Azucarero Guabira S.A/_DATOS_PYTHON/_tes_pdf/227.pdf', 'G:/Ingenio Azucarero Guabira S.A/UTEA - SEMANAL - AVANCE COSECHA/2023/ANALISIS DE CAÑA EN CAMPO 2023/REPORTE_AVANCE_COSECHA/PLANOS_2/PLANO_128.pdf', 'G:/Ingenio Azucarero Guabira S.A/UTEA - SEMANAL - AVANCE COSECHA/2023/ANALISIS DE CAÑA EN CAMPO 2023/REPORTE_AVANCE_COSECHA/PLANOS_2/PLANO_129.pdf']\n",
      "-*************************************\n",
      "227\n",
      "['G:/OneDrive - Ingenio Azucarero Guabira S.A/_DATOS_PYTHON/_tes_pdf/228.pdf', 'G:/Ingenio Azucarero Guabira S.A/UTEA - SEMANAL - AVANCE COSECHA/2023/ANALISIS DE CAÑA EN CAMPO 2023/REPORTE_AVANCE_COSECHA/PLANOS_2/PLANO_1641.pdf', 'G:/Ingenio Azucarero Guabira S.A/UTEA - SEMANAL - AVANCE COSECHA/2023/ANALISIS DE CAÑA EN CAMPO 2023/REPORTE_AVANCE_COSECHA/PLANOS_2/PLANO_395.pdf', 'G:/Ingenio Azucarero Guabira S.A/UTEA - SEMANAL - AVANCE COSECHA/2023/ANALISIS DE CAÑA EN CAMPO 2023/REPORTE_AVANCE_COSECHA/PLANOS_2/PLANO_140.pdf', 'G:/Ingenio Azucarero Guabira S.A/UTEA - SEMANAL - AVANCE COSECHA/2023/ANALISIS DE CAÑA EN CAMPO 2023/REPORTE_AVANCE_COSECHA/PLANOS_2/PLANO_1076.pdf', 'G:/Ingenio Azucarero Guabira S.A/UTEA - SEMANAL - AVANCE COSECHA/2023/ANALISIS DE CAÑA EN CAMPO 2023/REPORTE_AVANCE_COSECHA/PLANOS_2/PLANO_117.pdf', 'G:/Ingenio Azucarero Guabira S.A/UTEA - SEMANAL - AVANCE COSECHA/2023/ANALISIS DE CAÑA EN CAMPO 2023/REPORTE_AVANCE_COSECHA/PLANOS_2/PLANO_540.pdf', 'G:/Ingenio Azucarero Guabira S.A/UTEA - SEMANAL - AVANCE COSECHA/2023/ANALISIS DE CAÑA EN CAMPO 2023/REPORTE_AVANCE_COSECHA/PLANOS_2/PLANO_541.pdf']\n",
      "-*************************************\n",
      "228\n",
      "['G:/OneDrive - Ingenio Azucarero Guabira S.A/_DATOS_PYTHON/_tes_pdf/229.pdf', 'G:/Ingenio Azucarero Guabira S.A/UTEA - SEMANAL - AVANCE COSECHA/2023/ANALISIS DE CAÑA EN CAMPO 2023/REPORTE_AVANCE_COSECHA/PLANOS_2/PLANO_546.pdf', 'G:/Ingenio Azucarero Guabira S.A/UTEA - SEMANAL - AVANCE COSECHA/2023/ANALISIS DE CAÑA EN CAMPO 2023/REPORTE_AVANCE_COSECHA/PLANOS_2/PLANO_970.pdf', 'G:/Ingenio Azucarero Guabira S.A/UTEA - SEMANAL - AVANCE COSECHA/2023/ANALISIS DE CAÑA EN CAMPO 2023/REPORTE_AVANCE_COSECHA/PLANOS_2/PLANO_1465.pdf', 'G:/Ingenio Azucarero Guabira S.A/UTEA - SEMANAL - AVANCE COSECHA/2023/ANALISIS DE CAÑA EN CAMPO 2023/REPORTE_AVANCE_COSECHA/PLANOS_2/PLANO_145.pdf', 'G:/Ingenio Azucarero Guabira S.A/UTEA - SEMANAL - AVANCE COSECHA/2023/ANALISIS DE CAÑA EN CAMPO 2023/REPORTE_AVANCE_COSECHA/PLANOS_2/PLANO_1497.pdf']\n",
      "-*************************************\n",
      "229\n",
      "['G:/OneDrive - Ingenio Azucarero Guabira S.A/_DATOS_PYTHON/_tes_pdf/230.pdf', 'G:/Ingenio Azucarero Guabira S.A/UTEA - SEMANAL - AVANCE COSECHA/2023/ANALISIS DE CAÑA EN CAMPO 2023/REPORTE_AVANCE_COSECHA/PLANOS_2/PLANO_1826.pdf', 'G:/Ingenio Azucarero Guabira S.A/UTEA - SEMANAL - AVANCE COSECHA/2023/ANALISIS DE CAÑA EN CAMPO 2023/REPORTE_AVANCE_COSECHA/PLANOS_2/PLANO_1476.pdf', 'G:/Ingenio Azucarero Guabira S.A/UTEA - SEMANAL - AVANCE COSECHA/2023/ANALISIS DE CAÑA EN CAMPO 2023/REPORTE_AVANCE_COSECHA/PLANOS_2/PLANO_1195.pdf', 'G:/Ingenio Azucarero Guabira S.A/UTEA - SEMANAL - AVANCE COSECHA/2023/ANALISIS DE CAÑA EN CAMPO 2023/REPORTE_AVANCE_COSECHA/PLANOS_2/PLANO_525.pdf', 'G:/Ingenio Azucarero Guabira S.A/UTEA - SEMANAL - AVANCE COSECHA/2023/ANALISIS DE CAÑA EN CAMPO 2023/REPORTE_AVANCE_COSECHA/PLANOS_2/PLANO_1199.pdf']\n",
      "-*************************************\n",
      "230\n",
      "['G:/OneDrive - Ingenio Azucarero Guabira S.A/_DATOS_PYTHON/_tes_pdf/231.pdf', 'G:/Ingenio Azucarero Guabira S.A/UTEA - SEMANAL - AVANCE COSECHA/2023/ANALISIS DE CAÑA EN CAMPO 2023/REPORTE_AVANCE_COSECHA/PLANOS_2/PLANO_547.pdf', 'G:/Ingenio Azucarero Guabira S.A/UTEA - SEMANAL - AVANCE COSECHA/2023/ANALISIS DE CAÑA EN CAMPO 2023/REPORTE_AVANCE_COSECHA/PLANOS_2/PLANO_1227.pdf', 'G:/Ingenio Azucarero Guabira S.A/UTEA - SEMANAL - AVANCE COSECHA/2023/ANALISIS DE CAÑA EN CAMPO 2023/REPORTE_AVANCE_COSECHA/PLANOS_2/PLANO_1549.pdf', 'G:/Ingenio Azucarero Guabira S.A/UTEA - SEMANAL - AVANCE COSECHA/2023/ANALISIS DE CAÑA EN CAMPO 2023/REPORTE_AVANCE_COSECHA/PLANOS_2/PLANO_1235.pdf', 'G:/Ingenio Azucarero Guabira S.A/UTEA - SEMANAL - AVANCE COSECHA/2023/ANALISIS DE CAÑA EN CAMPO 2023/REPORTE_AVANCE_COSECHA/PLANOS_2/PLANO_116.pdf', 'G:/Ingenio Azucarero Guabira S.A/UTEA - SEMANAL - AVANCE COSECHA/2023/ANALISIS DE CAÑA EN CAMPO 2023/REPORTE_AVANCE_COSECHA/PLANOS_2/PLANO_377.pdf', 'G:/Ingenio Azucarero Guabira S.A/UTEA - SEMANAL - AVANCE COSECHA/2023/ANALISIS DE CAÑA EN CAMPO 2023/REPORTE_AVANCE_COSECHA/PLANOS_2/PLANO_378.pdf']\n",
      "-*************************************\n",
      "231\n",
      "['G:/OneDrive - Ingenio Azucarero Guabira S.A/_DATOS_PYTHON/_tes_pdf/232.pdf', 'G:/Ingenio Azucarero Guabira S.A/UTEA - SEMANAL - AVANCE COSECHA/2023/ANALISIS DE CAÑA EN CAMPO 2023/REPORTE_AVANCE_COSECHA/PLANOS_2/PLANO_466.pdf', 'G:/Ingenio Azucarero Guabira S.A/UTEA - SEMANAL - AVANCE COSECHA/2023/ANALISIS DE CAÑA EN CAMPO 2023/REPORTE_AVANCE_COSECHA/PLANOS_2/PLANO_189.pdf']\n",
      "-*************************************\n",
      "232\n",
      "['G:/OneDrive - Ingenio Azucarero Guabira S.A/_DATOS_PYTHON/_tes_pdf/234.pdf', 'G:/Ingenio Azucarero Guabira S.A/UTEA - SEMANAL - AVANCE COSECHA/2023/ANALISIS DE CAÑA EN CAMPO 2023/REPORTE_AVANCE_COSECHA/PLANOS_2/PLANO_260.pdf', 'G:/Ingenio Azucarero Guabira S.A/UTEA - SEMANAL - AVANCE COSECHA/2023/ANALISIS DE CAÑA EN CAMPO 2023/REPORTE_AVANCE_COSECHA/PLANOS_2/PLANO_395.pdf', 'G:/Ingenio Azucarero Guabira S.A/UTEA - SEMANAL - AVANCE COSECHA/2023/ANALISIS DE CAÑA EN CAMPO 2023/REPORTE_AVANCE_COSECHA/PLANOS_2/PLANO_1233.pdf', 'G:/Ingenio Azucarero Guabira S.A/UTEA - SEMANAL - AVANCE COSECHA/2023/ANALISIS DE CAÑA EN CAMPO 2023/REPORTE_AVANCE_COSECHA/PLANOS_2/PLANO_1492.pdf', 'G:/Ingenio Azucarero Guabira S.A/UTEA - SEMANAL - AVANCE COSECHA/2023/ANALISIS DE CAÑA EN CAMPO 2023/REPORTE_AVANCE_COSECHA/PLANOS_2/PLANO_565.pdf', 'G:/Ingenio Azucarero Guabira S.A/UTEA - SEMANAL - AVANCE COSECHA/2023/ANALISIS DE CAÑA EN CAMPO 2023/REPORTE_AVANCE_COSECHA/PLANOS_2/PLANO_566.pdf', 'G:/Ingenio Azucarero Guabira S.A/UTEA - SEMANAL - AVANCE COSECHA/2023/ANALISIS DE CAÑA EN CAMPO 2023/REPORTE_AVANCE_COSECHA/PLANOS_2/PLANO_1238.pdf', 'G:/Ingenio Azucarero Guabira S.A/UTEA - SEMANAL - AVANCE COSECHA/2023/ANALISIS DE CAÑA EN CAMPO 2023/REPORTE_AVANCE_COSECHA/PLANOS_2/PLANO_570.pdf', 'G:/Ingenio Azucarero Guabira S.A/UTEA - SEMANAL - AVANCE COSECHA/2023/ANALISIS DE CAÑA EN CAMPO 2023/REPORTE_AVANCE_COSECHA/PLANOS_2/PLANO_1563.pdf', 'G:/Ingenio Azucarero Guabira S.A/UTEA - SEMANAL - AVANCE COSECHA/2023/ANALISIS DE CAÑA EN CAMPO 2023/REPORTE_AVANCE_COSECHA/PLANOS_2/PLANO_1564.pdf', 'G:/Ingenio Azucarero Guabira S.A/UTEA - SEMANAL - AVANCE COSECHA/2023/ANALISIS DE CAÑA EN CAMPO 2023/REPORTE_AVANCE_COSECHA/PLANOS_2/PLANO_1247.pdf']\n",
      "-*************************************\n",
      "234\n",
      "['G:/OneDrive - Ingenio Azucarero Guabira S.A/_DATOS_PYTHON/_tes_pdf/235.pdf', 'G:/Ingenio Azucarero Guabira S.A/UTEA - SEMANAL - AVANCE COSECHA/2023/ANALISIS DE CAÑA EN CAMPO 2023/REPORTE_AVANCE_COSECHA/PLANOS_2/PLANO_1604.pdf', 'G:/Ingenio Azucarero Guabira S.A/UTEA - SEMANAL - AVANCE COSECHA/2023/ANALISIS DE CAÑA EN CAMPO 2023/REPORTE_AVANCE_COSECHA/PLANOS_2/PLANO_1704.pdf', 'G:/Ingenio Azucarero Guabira S.A/UTEA - SEMANAL - AVANCE COSECHA/2023/ANALISIS DE CAÑA EN CAMPO 2023/REPORTE_AVANCE_COSECHA/PLANOS_2/PLANO_526.pdf', 'G:/Ingenio Azucarero Guabira S.A/UTEA - SEMANAL - AVANCE COSECHA/2023/ANALISIS DE CAÑA EN CAMPO 2023/REPORTE_AVANCE_COSECHA/PLANOS_2/PLANO_240.pdf', 'G:/Ingenio Azucarero Guabira S.A/UTEA - SEMANAL - AVANCE COSECHA/2023/ANALISIS DE CAÑA EN CAMPO 2023/REPORTE_AVANCE_COSECHA/PLANOS_2/PLANO_241.pdf', 'G:/Ingenio Azucarero Guabira S.A/UTEA - SEMANAL - AVANCE COSECHA/2023/ANALISIS DE CAÑA EN CAMPO 2023/REPORTE_AVANCE_COSECHA/PLANOS_2/PLANO_1466.pdf']\n",
      "-*************************************\n",
      "235\n",
      "['G:/OneDrive - Ingenio Azucarero Guabira S.A/_DATOS_PYTHON/_tes_pdf/236.pdf', 'G:/Ingenio Azucarero Guabira S.A/UTEA - SEMANAL - AVANCE COSECHA/2023/ANALISIS DE CAÑA EN CAMPO 2023/REPORTE_AVANCE_COSECHA/PLANOS_2/PLANO_1472.pdf', 'G:/Ingenio Azucarero Guabira S.A/UTEA - SEMANAL - AVANCE COSECHA/2023/ANALISIS DE CAÑA EN CAMPO 2023/REPORTE_AVANCE_COSECHA/PLANOS_2/PLANO_1473.pdf', 'G:/Ingenio Azucarero Guabira S.A/UTEA - SEMANAL - AVANCE COSECHA/2023/ANALISIS DE CAÑA EN CAMPO 2023/REPORTE_AVANCE_COSECHA/PLANOS_2/PLANO_708.pdf', 'G:/Ingenio Azucarero Guabira S.A/UTEA - SEMANAL - AVANCE COSECHA/2023/ANALISIS DE CAÑA EN CAMPO 2023/REPORTE_AVANCE_COSECHA/PLANOS_2/PLANO_709.pdf', 'G:/Ingenio Azucarero Guabira S.A/UTEA - SEMANAL - AVANCE COSECHA/2023/ANALISIS DE CAÑA EN CAMPO 2023/REPORTE_AVANCE_COSECHA/PLANOS_2/PLANO_1577.pdf']\n",
      "-*************************************\n",
      "236\n",
      "['G:/OneDrive - Ingenio Azucarero Guabira S.A/_DATOS_PYTHON/_tes_pdf/237.pdf', 'G:/Ingenio Azucarero Guabira S.A/UTEA - SEMANAL - AVANCE COSECHA/2023/ANALISIS DE CAÑA EN CAMPO 2023/REPORTE_AVANCE_COSECHA/PLANOS_2/PLANO_707.pdf']\n",
      "-*************************************\n",
      "237\n",
      "['G:/OneDrive - Ingenio Azucarero Guabira S.A/_DATOS_PYTHON/_tes_pdf/238.pdf', 'G:/Ingenio Azucarero Guabira S.A/UTEA - SEMANAL - AVANCE COSECHA/2023/ANALISIS DE CAÑA EN CAMPO 2023/REPORTE_AVANCE_COSECHA/PLANOS_2/PLANO_400.pdf', 'G:/Ingenio Azucarero Guabira S.A/UTEA - SEMANAL - AVANCE COSECHA/2023/ANALISIS DE CAÑA EN CAMPO 2023/REPORTE_AVANCE_COSECHA/PLANOS_2/PLANO_25.pdf', 'G:/Ingenio Azucarero Guabira S.A/UTEA - SEMANAL - AVANCE COSECHA/2023/ANALISIS DE CAÑA EN CAMPO 2023/REPORTE_AVANCE_COSECHA/PLANOS_2/PLANO_668.pdf', 'G:/Ingenio Azucarero Guabira S.A/UTEA - SEMANAL - AVANCE COSECHA/2023/ANALISIS DE CAÑA EN CAMPO 2023/REPORTE_AVANCE_COSECHA/PLANOS_2/PLANO_62.pdf']\n",
      "-*************************************\n",
      "238\n",
      "['G:/OneDrive - Ingenio Azucarero Guabira S.A/_DATOS_PYTHON/_tes_pdf/239.pdf', 'G:/Ingenio Azucarero Guabira S.A/UTEA - SEMANAL - AVANCE COSECHA/2023/ANALISIS DE CAÑA EN CAMPO 2023/REPORTE_AVANCE_COSECHA/PLANOS_2/PLANO_1452.pdf']\n",
      "-*************************************\n",
      "239\n",
      "['G:/OneDrive - Ingenio Azucarero Guabira S.A/_DATOS_PYTHON/_tes_pdf/240.pdf', 'G:/Ingenio Azucarero Guabira S.A/UTEA - SEMANAL - AVANCE COSECHA/2023/ANALISIS DE CAÑA EN CAMPO 2023/REPORTE_AVANCE_COSECHA/PLANOS_2/PLANO_1864.pdf', 'G:/Ingenio Azucarero Guabira S.A/UTEA - SEMANAL - AVANCE COSECHA/2023/ANALISIS DE CAÑA EN CAMPO 2023/REPORTE_AVANCE_COSECHA/PLANOS_2/PLANO_1925.pdf', 'G:/Ingenio Azucarero Guabira S.A/UTEA - SEMANAL - AVANCE COSECHA/2023/ANALISIS DE CAÑA EN CAMPO 2023/REPORTE_AVANCE_COSECHA/PLANOS_2/PLANO_910.pdf', 'G:/Ingenio Azucarero Guabira S.A/UTEA - SEMANAL - AVANCE COSECHA/2023/ANALISIS DE CAÑA EN CAMPO 2023/REPORTE_AVANCE_COSECHA/PLANOS_2/PLANO_1783.pdf']\n",
      "-*************************************\n",
      "240\n",
      "['G:/OneDrive - Ingenio Azucarero Guabira S.A/_DATOS_PYTHON/_tes_pdf/241.pdf', 'G:/Ingenio Azucarero Guabira S.A/UTEA - SEMANAL - AVANCE COSECHA/2023/ANALISIS DE CAÑA EN CAMPO 2023/REPORTE_AVANCE_COSECHA/PLANOS_2/PLANO_39.pdf', 'G:/Ingenio Azucarero Guabira S.A/UTEA - SEMANAL - AVANCE COSECHA/2023/ANALISIS DE CAÑA EN CAMPO 2023/REPORTE_AVANCE_COSECHA/PLANOS_2/PLANO_942.pdf', 'G:/Ingenio Azucarero Guabira S.A/UTEA - SEMANAL - AVANCE COSECHA/2023/ANALISIS DE CAÑA EN CAMPO 2023/REPORTE_AVANCE_COSECHA/PLANOS_2/PLANO_472.pdf', 'G:/Ingenio Azucarero Guabira S.A/UTEA - SEMANAL - AVANCE COSECHA/2023/ANALISIS DE CAÑA EN CAMPO 2023/REPORTE_AVANCE_COSECHA/PLANOS_2/PLANO_473.pdf', 'G:/Ingenio Azucarero Guabira S.A/UTEA - SEMANAL - AVANCE COSECHA/2023/ANALISIS DE CAÑA EN CAMPO 2023/REPORTE_AVANCE_COSECHA/PLANOS_2/PLANO_1722.pdf', 'G:/Ingenio Azucarero Guabira S.A/UTEA - SEMANAL - AVANCE COSECHA/2023/ANALISIS DE CAÑA EN CAMPO 2023/REPORTE_AVANCE_COSECHA/PLANOS_2/PLANO_1596.pdf']\n",
      "-*************************************\n",
      "241\n",
      "['G:/OneDrive - Ingenio Azucarero Guabira S.A/_DATOS_PYTHON/_tes_pdf/242.pdf', 'G:/Ingenio Azucarero Guabira S.A/UTEA - SEMANAL - AVANCE COSECHA/2023/ANALISIS DE CAÑA EN CAMPO 2023/REPORTE_AVANCE_COSECHA/PLANOS_2/PLANO_545.pdf', 'G:/Ingenio Azucarero Guabira S.A/UTEA - SEMANAL - AVANCE COSECHA/2023/ANALISIS DE CAÑA EN CAMPO 2023/REPORTE_AVANCE_COSECHA/PLANOS_2/PLANO_421.pdf', 'G:/Ingenio Azucarero Guabira S.A/UTEA - SEMANAL - AVANCE COSECHA/2023/ANALISIS DE CAÑA EN CAMPO 2023/REPORTE_AVANCE_COSECHA/PLANOS_2/PLANO_905.pdf', 'G:/Ingenio Azucarero Guabira S.A/UTEA - SEMANAL - AVANCE COSECHA/2023/ANALISIS DE CAÑA EN CAMPO 2023/REPORTE_AVANCE_COSECHA/PLANOS_2/PLANO_914.pdf', 'G:/Ingenio Azucarero Guabira S.A/UTEA - SEMANAL - AVANCE COSECHA/2023/ANALISIS DE CAÑA EN CAMPO 2023/REPORTE_AVANCE_COSECHA/PLANOS_2/PLANO_247.pdf', 'G:/Ingenio Azucarero Guabira S.A/UTEA - SEMANAL - AVANCE COSECHA/2023/ANALISIS DE CAÑA EN CAMPO 2023/REPORTE_AVANCE_COSECHA/PLANOS_2/PLANO_1946.pdf']\n",
      "-*************************************\n",
      "242\n",
      "['G:/OneDrive - Ingenio Azucarero Guabira S.A/_DATOS_PYTHON/_tes_pdf/243.pdf', 'G:/Ingenio Azucarero Guabira S.A/UTEA - SEMANAL - AVANCE COSECHA/2023/ANALISIS DE CAÑA EN CAMPO 2023/REPORTE_AVANCE_COSECHA/PLANOS_2/PLANO_408.pdf', 'G:/Ingenio Azucarero Guabira S.A/UTEA - SEMANAL - AVANCE COSECHA/2023/ANALISIS DE CAÑA EN CAMPO 2023/REPORTE_AVANCE_COSECHA/PLANOS_2/PLANO_1211.pdf', 'G:/Ingenio Azucarero Guabira S.A/UTEA - SEMANAL - AVANCE COSECHA/2023/ANALISIS DE CAÑA EN CAMPO 2023/REPORTE_AVANCE_COSECHA/PLANOS_2/PLANO_360.pdf', 'G:/Ingenio Azucarero Guabira S.A/UTEA - SEMANAL - AVANCE COSECHA/2023/ANALISIS DE CAÑA EN CAMPO 2023/REPORTE_AVANCE_COSECHA/PLANOS_2/PLANO_1646.pdf']\n",
      "-*************************************\n",
      "243\n",
      "['G:/OneDrive - Ingenio Azucarero Guabira S.A/_DATOS_PYTHON/_tes_pdf/244.pdf', 'G:/Ingenio Azucarero Guabira S.A/UTEA - SEMANAL - AVANCE COSECHA/2023/ANALISIS DE CAÑA EN CAMPO 2023/REPORTE_AVANCE_COSECHA/PLANOS_2/PLANO_1264.pdf', 'G:/Ingenio Azucarero Guabira S.A/UTEA - SEMANAL - AVANCE COSECHA/2023/ANALISIS DE CAÑA EN CAMPO 2023/REPORTE_AVANCE_COSECHA/PLANOS_2/PLANO_1266.pdf', 'G:/Ingenio Azucarero Guabira S.A/UTEA - SEMANAL - AVANCE COSECHA/2023/ANALISIS DE CAÑA EN CAMPO 2023/REPORTE_AVANCE_COSECHA/PLANOS_2/PLANO_1267.pdf', 'G:/Ingenio Azucarero Guabira S.A/UTEA - SEMANAL - AVANCE COSECHA/2023/ANALISIS DE CAÑA EN CAMPO 2023/REPORTE_AVANCE_COSECHA/PLANOS_2/PLANO_1268.pdf']\n",
      "-*************************************\n",
      "244\n",
      "['G:/OneDrive - Ingenio Azucarero Guabira S.A/_DATOS_PYTHON/_tes_pdf/245.pdf', 'G:/Ingenio Azucarero Guabira S.A/UTEA - SEMANAL - AVANCE COSECHA/2023/ANALISIS DE CAÑA EN CAMPO 2023/REPORTE_AVANCE_COSECHA/PLANOS_2/PLANO_1330.pdf', 'G:/Ingenio Azucarero Guabira S.A/UTEA - SEMANAL - AVANCE COSECHA/2023/ANALISIS DE CAÑA EN CAMPO 2023/REPORTE_AVANCE_COSECHA/PLANOS_2/PLANO_1326.pdf', 'G:/Ingenio Azucarero Guabira S.A/UTEA - SEMANAL - AVANCE COSECHA/2023/ANALISIS DE CAÑA EN CAMPO 2023/REPORTE_AVANCE_COSECHA/PLANOS_2/PLANO_1327.pdf']\n",
      "-*************************************\n",
      "245\n",
      "['G:/OneDrive - Ingenio Azucarero Guabira S.A/_DATOS_PYTHON/_tes_pdf/247.pdf', 'G:/Ingenio Azucarero Guabira S.A/UTEA - SEMANAL - AVANCE COSECHA/2023/ANALISIS DE CAÑA EN CAMPO 2023/REPORTE_AVANCE_COSECHA/PLANOS_2/PLANO_867.pdf', 'G:/Ingenio Azucarero Guabira S.A/UTEA - SEMANAL - AVANCE COSECHA/2023/ANALISIS DE CAÑA EN CAMPO 2023/REPORTE_AVANCE_COSECHA/PLANOS_2/PLANO_261.pdf', 'G:/Ingenio Azucarero Guabira S.A/UTEA - SEMANAL - AVANCE COSECHA/2023/ANALISIS DE CAÑA EN CAMPO 2023/REPORTE_AVANCE_COSECHA/PLANOS_2/PLANO_263.pdf', 'G:/Ingenio Azucarero Guabira S.A/UTEA - SEMANAL - AVANCE COSECHA/2023/ANALISIS DE CAÑA EN CAMPO 2023/REPORTE_AVANCE_COSECHA/PLANOS_2/PLANO_11.pdf', 'G:/Ingenio Azucarero Guabira S.A/UTEA - SEMANAL - AVANCE COSECHA/2023/ANALISIS DE CAÑA EN CAMPO 2023/REPORTE_AVANCE_COSECHA/PLANOS_2/PLANO_1041.pdf', 'G:/Ingenio Azucarero Guabira S.A/UTEA - SEMANAL - AVANCE COSECHA/2023/ANALISIS DE CAÑA EN CAMPO 2023/REPORTE_AVANCE_COSECHA/PLANOS_2/PLANO_831.pdf']\n",
      "-*************************************\n",
      "247\n",
      "['G:/OneDrive - Ingenio Azucarero Guabira S.A/_DATOS_PYTHON/_tes_pdf/248.pdf', 'G:/Ingenio Azucarero Guabira S.A/UTEA - SEMANAL - AVANCE COSECHA/2023/ANALISIS DE CAÑA EN CAMPO 2023/REPORTE_AVANCE_COSECHA/PLANOS_2/PLANO_264.pdf']\n",
      "-*************************************\n",
      "248\n",
      "['G:/OneDrive - Ingenio Azucarero Guabira S.A/_DATOS_PYTHON/_tes_pdf/249.pdf', 'G:/Ingenio Azucarero Guabira S.A/UTEA - SEMANAL - AVANCE COSECHA/2023/ANALISIS DE CAÑA EN CAMPO 2023/REPORTE_AVANCE_COSECHA/PLANOS_2/PLANO_1219.pdf', 'G:/Ingenio Azucarero Guabira S.A/UTEA - SEMANAL - AVANCE COSECHA/2023/ANALISIS DE CAÑA EN CAMPO 2023/REPORTE_AVANCE_COSECHA/PLANOS_2/PLANO_1221.pdf', 'G:/Ingenio Azucarero Guabira S.A/UTEA - SEMANAL - AVANCE COSECHA/2023/ANALISIS DE CAÑA EN CAMPO 2023/REPORTE_AVANCE_COSECHA/PLANOS_2/PLANO_1702.pdf', 'G:/Ingenio Azucarero Guabira S.A/UTEA - SEMANAL - AVANCE COSECHA/2023/ANALISIS DE CAÑA EN CAMPO 2023/REPORTE_AVANCE_COSECHA/PLANOS_2/PLANO_591.pdf', 'G:/Ingenio Azucarero Guabira S.A/UTEA - SEMANAL - AVANCE COSECHA/2023/ANALISIS DE CAÑA EN CAMPO 2023/REPORTE_AVANCE_COSECHA/PLANOS_2/PLANO_1043.pdf', 'G:/Ingenio Azucarero Guabira S.A/UTEA - SEMANAL - AVANCE COSECHA/2023/ANALISIS DE CAÑA EN CAMPO 2023/REPORTE_AVANCE_COSECHA/PLANOS_2/PLANO_314.pdf']\n",
      "-*************************************\n",
      "249\n",
      "['G:/OneDrive - Ingenio Azucarero Guabira S.A/_DATOS_PYTHON/_tes_pdf/250.pdf', 'G:/Ingenio Azucarero Guabira S.A/UTEA - SEMANAL - AVANCE COSECHA/2023/ANALISIS DE CAÑA EN CAMPO 2023/REPORTE_AVANCE_COSECHA/PLANOS_2/PLANO_1731.pdf', 'G:/Ingenio Azucarero Guabira S.A/UTEA - SEMANAL - AVANCE COSECHA/2023/ANALISIS DE CAÑA EN CAMPO 2023/REPORTE_AVANCE_COSECHA/PLANOS_2/PLANO_1732.pdf', 'G:/Ingenio Azucarero Guabira S.A/UTEA - SEMANAL - AVANCE COSECHA/2023/ANALISIS DE CAÑA EN CAMPO 2023/REPORTE_AVANCE_COSECHA/PLANOS_2/PLANO_195.pdf', 'G:/Ingenio Azucarero Guabira S.A/UTEA - SEMANAL - AVANCE COSECHA/2023/ANALISIS DE CAÑA EN CAMPO 2023/REPORTE_AVANCE_COSECHA/PLANOS_2/PLANO_6.pdf', 'G:/Ingenio Azucarero Guabira S.A/UTEA - SEMANAL - AVANCE COSECHA/2023/ANALISIS DE CAÑA EN CAMPO 2023/REPORTE_AVANCE_COSECHA/PLANOS_2/PLANO_1576.pdf', 'G:/Ingenio Azucarero Guabira S.A/UTEA - SEMANAL - AVANCE COSECHA/2023/ANALISIS DE CAÑA EN CAMPO 2023/REPORTE_AVANCE_COSECHA/PLANOS_2/PLANO_1867.pdf', 'G:/Ingenio Azucarero Guabira S.A/UTEA - SEMANAL - AVANCE COSECHA/2023/ANALISIS DE CAÑA EN CAMPO 2023/REPORTE_AVANCE_COSECHA/PLANOS_2/PLANO_1069.pdf', 'G:/Ingenio Azucarero Guabira S.A/UTEA - SEMANAL - AVANCE COSECHA/2023/ANALISIS DE CAÑA EN CAMPO 2023/REPORTE_AVANCE_COSECHA/PLANOS_2/PLANO_1522.pdf', 'G:/Ingenio Azucarero Guabira S.A/UTEA - SEMANAL - AVANCE COSECHA/2023/ANALISIS DE CAÑA EN CAMPO 2023/REPORTE_AVANCE_COSECHA/PLANOS_2/PLANO_403.pdf', 'G:/Ingenio Azucarero Guabira S.A/UTEA - SEMANAL - AVANCE COSECHA/2023/ANALISIS DE CAÑA EN CAMPO 2023/REPORTE_AVANCE_COSECHA/PLANOS_2/PLANO_212.pdf', 'G:/Ingenio Azucarero Guabira S.A/UTEA - SEMANAL - AVANCE COSECHA/2023/ANALISIS DE CAÑA EN CAMPO 2023/REPORTE_AVANCE_COSECHA/PLANOS_2/PLANO_213.pdf', 'G:/Ingenio Azucarero Guabira S.A/UTEA - SEMANAL - AVANCE COSECHA/2023/ANALISIS DE CAÑA EN CAMPO 2023/REPORTE_AVANCE_COSECHA/PLANOS_2/PLANO_404.pdf', 'G:/Ingenio Azucarero Guabira S.A/UTEA - SEMANAL - AVANCE COSECHA/2023/ANALISIS DE CAÑA EN CAMPO 2023/REPORTE_AVANCE_COSECHA/PLANOS_2/PLANO_407.pdf', 'G:/Ingenio Azucarero Guabira S.A/UTEA - SEMANAL - AVANCE COSECHA/2023/ANALISIS DE CAÑA EN CAMPO 2023/REPORTE_AVANCE_COSECHA/PLANOS_2/PLANO_405.pdf', 'G:/Ingenio Azucarero Guabira S.A/UTEA - SEMANAL - AVANCE COSECHA/2023/ANALISIS DE CAÑA EN CAMPO 2023/REPORTE_AVANCE_COSECHA/PLANOS_2/PLANO_534.pdf', 'G:/Ingenio Azucarero Guabira S.A/UTEA - SEMANAL - AVANCE COSECHA/2023/ANALISIS DE CAÑA EN CAMPO 2023/REPORTE_AVANCE_COSECHA/PLANOS_2/PLANO_1459.pdf', 'G:/Ingenio Azucarero Guabira S.A/UTEA - SEMANAL - AVANCE COSECHA/2023/ANALISIS DE CAÑA EN CAMPO 2023/REPORTE_AVANCE_COSECHA/PLANOS_2/PLANO_406.pdf', 'G:/Ingenio Azucarero Guabira S.A/UTEA - SEMANAL - AVANCE COSECHA/2023/ANALISIS DE CAÑA EN CAMPO 2023/REPORTE_AVANCE_COSECHA/PLANOS_2/PLANO_318.pdf']\n",
      "-*************************************\n",
      "250\n",
      "['G:/OneDrive - Ingenio Azucarero Guabira S.A/_DATOS_PYTHON/_tes_pdf/251.pdf', 'G:/Ingenio Azucarero Guabira S.A/UTEA - SEMANAL - AVANCE COSECHA/2023/ANALISIS DE CAÑA EN CAMPO 2023/REPORTE_AVANCE_COSECHA/PLANOS_2/PLANO_1323.pdf', 'G:/Ingenio Azucarero Guabira S.A/UTEA - SEMANAL - AVANCE COSECHA/2023/ANALISIS DE CAÑA EN CAMPO 2023/REPORTE_AVANCE_COSECHA/PLANOS_2/PLANO_1947.pdf', 'G:/Ingenio Azucarero Guabira S.A/UTEA - SEMANAL - AVANCE COSECHA/2023/ANALISIS DE CAÑA EN CAMPO 2023/REPORTE_AVANCE_COSECHA/PLANOS_2/PLANO_358.pdf', 'G:/Ingenio Azucarero Guabira S.A/UTEA - SEMANAL - AVANCE COSECHA/2023/ANALISIS DE CAÑA EN CAMPO 2023/REPORTE_AVANCE_COSECHA/PLANOS_2/PLANO_831.pdf']\n",
      "-*************************************\n",
      "251\n",
      "['G:/OneDrive - Ingenio Azucarero Guabira S.A/_DATOS_PYTHON/_tes_pdf/252.pdf', 'G:/Ingenio Azucarero Guabira S.A/UTEA - SEMANAL - AVANCE COSECHA/2023/ANALISIS DE CAÑA EN CAMPO 2023/REPORTE_AVANCE_COSECHA/PLANOS_2/PLANO_1862.pdf', 'G:/Ingenio Azucarero Guabira S.A/UTEA - SEMANAL - AVANCE COSECHA/2023/ANALISIS DE CAÑA EN CAMPO 2023/REPORTE_AVANCE_COSECHA/PLANOS_2/PLANO_1863.pdf', 'G:/Ingenio Azucarero Guabira S.A/UTEA - SEMANAL - AVANCE COSECHA/2023/ANALISIS DE CAÑA EN CAMPO 2023/REPORTE_AVANCE_COSECHA/PLANOS_2/PLANO_371.pdf', 'G:/Ingenio Azucarero Guabira S.A/UTEA - SEMANAL - AVANCE COSECHA/2023/ANALISIS DE CAÑA EN CAMPO 2023/REPORTE_AVANCE_COSECHA/PLANOS_2/PLANO_1877.pdf', 'G:/Ingenio Azucarero Guabira S.A/UTEA - SEMANAL - AVANCE COSECHA/2023/ANALISIS DE CAÑA EN CAMPO 2023/REPORTE_AVANCE_COSECHA/PLANOS_2/PLANO_533.pdf', 'G:/Ingenio Azucarero Guabira S.A/UTEA - SEMANAL - AVANCE COSECHA/2023/ANALISIS DE CAÑA EN CAMPO 2023/REPORTE_AVANCE_COSECHA/PLANOS_2/PLANO_1913.pdf', 'G:/Ingenio Azucarero Guabira S.A/UTEA - SEMANAL - AVANCE COSECHA/2023/ANALISIS DE CAÑA EN CAMPO 2023/REPORTE_AVANCE_COSECHA/PLANOS_2/PLANO_1914.pdf', 'G:/Ingenio Azucarero Guabira S.A/UTEA - SEMANAL - AVANCE COSECHA/2023/ANALISIS DE CAÑA EN CAMPO 2023/REPORTE_AVANCE_COSECHA/PLANOS_2/PLANO_1915.pdf', 'G:/Ingenio Azucarero Guabira S.A/UTEA - SEMANAL - AVANCE COSECHA/2023/ANALISIS DE CAÑA EN CAMPO 2023/REPORTE_AVANCE_COSECHA/PLANOS_2/PLANO_1916.pdf']\n",
      "-*************************************\n",
      "252\n",
      "['G:/OneDrive - Ingenio Azucarero Guabira S.A/_DATOS_PYTHON/_tes_pdf/253.pdf', 'G:/Ingenio Azucarero Guabira S.A/UTEA - SEMANAL - AVANCE COSECHA/2023/ANALISIS DE CAÑA EN CAMPO 2023/REPORTE_AVANCE_COSECHA/PLANOS_2/PLANO_421.pdf', 'G:/Ingenio Azucarero Guabira S.A/UTEA - SEMANAL - AVANCE COSECHA/2023/ANALISIS DE CAÑA EN CAMPO 2023/REPORTE_AVANCE_COSECHA/PLANOS_2/PLANO_360.pdf', 'G:/Ingenio Azucarero Guabira S.A/UTEA - SEMANAL - AVANCE COSECHA/2023/ANALISIS DE CAÑA EN CAMPO 2023/REPORTE_AVANCE_COSECHA/PLANOS_2/PLANO_1768.pdf', 'G:/Ingenio Azucarero Guabira S.A/UTEA - SEMANAL - AVANCE COSECHA/2023/ANALISIS DE CAÑA EN CAMPO 2023/REPORTE_AVANCE_COSECHA/PLANOS_2/PLANO_906.pdf', 'G:/Ingenio Azucarero Guabira S.A/UTEA - SEMANAL - AVANCE COSECHA/2023/ANALISIS DE CAÑA EN CAMPO 2023/REPORTE_AVANCE_COSECHA/PLANOS_2/PLANO_907.pdf', 'G:/Ingenio Azucarero Guabira S.A/UTEA - SEMANAL - AVANCE COSECHA/2023/ANALISIS DE CAÑA EN CAMPO 2023/REPORTE_AVANCE_COSECHA/PLANOS_2/PLANO_908.pdf', 'G:/Ingenio Azucarero Guabira S.A/UTEA - SEMANAL - AVANCE COSECHA/2023/ANALISIS DE CAÑA EN CAMPO 2023/REPORTE_AVANCE_COSECHA/PLANOS_2/PLANO_909.pdf', 'G:/Ingenio Azucarero Guabira S.A/UTEA - SEMANAL - AVANCE COSECHA/2023/ANALISIS DE CAÑA EN CAMPO 2023/REPORTE_AVANCE_COSECHA/PLANOS_2/PLANO_1043.pdf']\n",
      "-*************************************\n",
      "253\n",
      "['G:/OneDrive - Ingenio Azucarero Guabira S.A/_DATOS_PYTHON/_tes_pdf/254.pdf', 'G:/Ingenio Azucarero Guabira S.A/UTEA - SEMANAL - AVANCE COSECHA/2023/ANALISIS DE CAÑA EN CAMPO 2023/REPORTE_AVANCE_COSECHA/PLANOS_2/PLANO_1574.pdf', 'G:/Ingenio Azucarero Guabira S.A/UTEA - SEMANAL - AVANCE COSECHA/2023/ANALISIS DE CAÑA EN CAMPO 2023/REPORTE_AVANCE_COSECHA/PLANOS_2/PLANO_1769.pdf', 'G:/Ingenio Azucarero Guabira S.A/UTEA - SEMANAL - AVANCE COSECHA/2023/ANALISIS DE CAÑA EN CAMPO 2023/REPORTE_AVANCE_COSECHA/PLANOS_2/PLANO_230.pdf', 'G:/Ingenio Azucarero Guabira S.A/UTEA - SEMANAL - AVANCE COSECHA/2023/ANALISIS DE CAÑA EN CAMPO 2023/REPORTE_AVANCE_COSECHA/PLANOS_2/PLANO_992.pdf']\n",
      "-*************************************\n",
      "254\n",
      "['G:/OneDrive - Ingenio Azucarero Guabira S.A/_DATOS_PYTHON/_tes_pdf/255.pdf', 'G:/Ingenio Azucarero Guabira S.A/UTEA - SEMANAL - AVANCE COSECHA/2023/ANALISIS DE CAÑA EN CAMPO 2023/REPORTE_AVANCE_COSECHA/PLANOS_2/PLANO_421.pdf']\n",
      "-*************************************\n",
      "255\n",
      "['G:/OneDrive - Ingenio Azucarero Guabira S.A/_DATOS_PYTHON/_tes_pdf/256.pdf', 'G:/Ingenio Azucarero Guabira S.A/UTEA - SEMANAL - AVANCE COSECHA/2023/ANALISIS DE CAÑA EN CAMPO 2023/REPORTE_AVANCE_COSECHA/PLANOS_2/PLANO_1763.pdf', 'G:/Ingenio Azucarero Guabira S.A/UTEA - SEMANAL - AVANCE COSECHA/2023/ANALISIS DE CAÑA EN CAMPO 2023/REPORTE_AVANCE_COSECHA/PLANOS_2/PLANO_1926.pdf', 'G:/Ingenio Azucarero Guabira S.A/UTEA - SEMANAL - AVANCE COSECHA/2023/ANALISIS DE CAÑA EN CAMPO 2023/REPORTE_AVANCE_COSECHA/PLANOS_2/PLANO_1927.pdf', 'G:/Ingenio Azucarero Guabira S.A/UTEA - SEMANAL - AVANCE COSECHA/2023/ANALISIS DE CAÑA EN CAMPO 2023/REPORTE_AVANCE_COSECHA/PLANOS_2/PLANO_104.pdf', 'G:/Ingenio Azucarero Guabira S.A/UTEA - SEMANAL - AVANCE COSECHA/2023/ANALISIS DE CAÑA EN CAMPO 2023/REPORTE_AVANCE_COSECHA/PLANOS_2/PLANO_1928.pdf', 'G:/Ingenio Azucarero Guabira S.A/UTEA - SEMANAL - AVANCE COSECHA/2023/ANALISIS DE CAÑA EN CAMPO 2023/REPORTE_AVANCE_COSECHA/PLANOS_2/PLANO_426.pdf', 'G:/Ingenio Azucarero Guabira S.A/UTEA - SEMANAL - AVANCE COSECHA/2023/ANALISIS DE CAÑA EN CAMPO 2023/REPORTE_AVANCE_COSECHA/PLANOS_2/PLANO_1131.pdf', 'G:/Ingenio Azucarero Guabira S.A/UTEA - SEMANAL - AVANCE COSECHA/2023/ANALISIS DE CAÑA EN CAMPO 2023/REPORTE_AVANCE_COSECHA/PLANOS_2/PLANO_1929.pdf', 'G:/Ingenio Azucarero Guabira S.A/UTEA - SEMANAL - AVANCE COSECHA/2023/ANALISIS DE CAÑA EN CAMPO 2023/REPORTE_AVANCE_COSECHA/PLANOS_2/PLANO_1933.pdf', 'G:/Ingenio Azucarero Guabira S.A/UTEA - SEMANAL - AVANCE COSECHA/2023/ANALISIS DE CAÑA EN CAMPO 2023/REPORTE_AVANCE_COSECHA/PLANOS_2/PLANO_1488.pdf', 'G:/Ingenio Azucarero Guabira S.A/UTEA - SEMANAL - AVANCE COSECHA/2023/ANALISIS DE CAÑA EN CAMPO 2023/REPORTE_AVANCE_COSECHA/PLANOS_2/PLANO_1489.pdf']\n",
      "-*************************************\n",
      "256\n",
      "['G:/OneDrive - Ingenio Azucarero Guabira S.A/_DATOS_PYTHON/_tes_pdf/257.pdf', 'G:/Ingenio Azucarero Guabira S.A/UTEA - SEMANAL - AVANCE COSECHA/2023/ANALISIS DE CAÑA EN CAMPO 2023/REPORTE_AVANCE_COSECHA/PLANOS_2/PLANO_141.pdf', 'G:/Ingenio Azucarero Guabira S.A/UTEA - SEMANAL - AVANCE COSECHA/2023/ANALISIS DE CAÑA EN CAMPO 2023/REPORTE_AVANCE_COSECHA/PLANOS_2/PLANO_1662.pdf']\n",
      "-*************************************\n",
      "257\n",
      "['G:/OneDrive - Ingenio Azucarero Guabira S.A/_DATOS_PYTHON/_tes_pdf/258.pdf', 'G:/Ingenio Azucarero Guabira S.A/UTEA - SEMANAL - AVANCE COSECHA/2023/ANALISIS DE CAÑA EN CAMPO 2023/REPORTE_AVANCE_COSECHA/PLANOS_2/PLANO_1703.pdf', 'G:/Ingenio Azucarero Guabira S.A/UTEA - SEMANAL - AVANCE COSECHA/2023/ANALISIS DE CAÑA EN CAMPO 2023/REPORTE_AVANCE_COSECHA/PLANOS_2/PLANO_830.pdf', 'G:/Ingenio Azucarero Guabira S.A/UTEA - SEMANAL - AVANCE COSECHA/2023/ANALISIS DE CAÑA EN CAMPO 2023/REPORTE_AVANCE_COSECHA/PLANOS_2/PLANO_1043.pdf', 'G:/Ingenio Azucarero Guabira S.A/UTEA - SEMANAL - AVANCE COSECHA/2023/ANALISIS DE CAÑA EN CAMPO 2023/REPORTE_AVANCE_COSECHA/PLANOS_2/PLANO_918.pdf', 'G:/Ingenio Azucarero Guabira S.A/UTEA - SEMANAL - AVANCE COSECHA/2023/ANALISIS DE CAÑA EN CAMPO 2023/REPORTE_AVANCE_COSECHA/PLANOS_2/PLANO_1879.pdf', 'G:/Ingenio Azucarero Guabira S.A/UTEA - SEMANAL - AVANCE COSECHA/2023/ANALISIS DE CAÑA EN CAMPO 2023/REPORTE_AVANCE_COSECHA/PLANOS_2/PLANO_856.pdf', 'G:/Ingenio Azucarero Guabira S.A/UTEA - SEMANAL - AVANCE COSECHA/2023/ANALISIS DE CAÑA EN CAMPO 2023/REPORTE_AVANCE_COSECHA/PLANOS_2/PLANO_1917.pdf', 'G:/Ingenio Azucarero Guabira S.A/UTEA - SEMANAL - AVANCE COSECHA/2023/ANALISIS DE CAÑA EN CAMPO 2023/REPORTE_AVANCE_COSECHA/PLANOS_2/PLANO_1918.pdf', 'G:/Ingenio Azucarero Guabira S.A/UTEA - SEMANAL - AVANCE COSECHA/2023/ANALISIS DE CAÑA EN CAMPO 2023/REPORTE_AVANCE_COSECHA/PLANOS_2/PLANO_1663.pdf']\n",
      "-*************************************\n",
      "258\n",
      "['G:/OneDrive - Ingenio Azucarero Guabira S.A/_DATOS_PYTHON/_tes_pdf/259.pdf', 'G:/Ingenio Azucarero Guabira S.A/UTEA - SEMANAL - AVANCE COSECHA/2023/ANALISIS DE CAÑA EN CAMPO 2023/REPORTE_AVANCE_COSECHA/PLANOS_2/PLANO_596.pdf', 'G:/Ingenio Azucarero Guabira S.A/UTEA - SEMANAL - AVANCE COSECHA/2023/ANALISIS DE CAÑA EN CAMPO 2023/REPORTE_AVANCE_COSECHA/PLANOS_2/PLANO_1269.pdf', 'G:/Ingenio Azucarero Guabira S.A/UTEA - SEMANAL - AVANCE COSECHA/2023/ANALISIS DE CAÑA EN CAMPO 2023/REPORTE_AVANCE_COSECHA/PLANOS_2/PLANO_597.pdf', 'G:/Ingenio Azucarero Guabira S.A/UTEA - SEMANAL - AVANCE COSECHA/2023/ANALISIS DE CAÑA EN CAMPO 2023/REPORTE_AVANCE_COSECHA/PLANOS_2/PLANO_598.pdf', 'G:/Ingenio Azucarero Guabira S.A/UTEA - SEMANAL - AVANCE COSECHA/2023/ANALISIS DE CAÑA EN CAMPO 2023/REPORTE_AVANCE_COSECHA/PLANOS_2/PLANO_1436.pdf']\n",
      "-*************************************\n",
      "259\n",
      "['G:/OneDrive - Ingenio Azucarero Guabira S.A/_DATOS_PYTHON/_tes_pdf/260.pdf', 'G:/Ingenio Azucarero Guabira S.A/UTEA - SEMANAL - AVANCE COSECHA/2023/ANALISIS DE CAÑA EN CAMPO 2023/REPORTE_AVANCE_COSECHA/PLANOS_2/PLANO_510.pdf']\n",
      "-*************************************\n",
      "260\n",
      "['G:/OneDrive - Ingenio Azucarero Guabira S.A/_DATOS_PYTHON/_tes_pdf/261.pdf', 'G:/Ingenio Azucarero Guabira S.A/UTEA - SEMANAL - AVANCE COSECHA/2023/ANALISIS DE CAÑA EN CAMPO 2023/REPORTE_AVANCE_COSECHA/PLANOS_2/PLANO_1890.pdf', 'G:/Ingenio Azucarero Guabira S.A/UTEA - SEMANAL - AVANCE COSECHA/2023/ANALISIS DE CAÑA EN CAMPO 2023/REPORTE_AVANCE_COSECHA/PLANOS_2/PLANO_1480.pdf', 'G:/Ingenio Azucarero Guabira S.A/UTEA - SEMANAL - AVANCE COSECHA/2023/ANALISIS DE CAÑA EN CAMPO 2023/REPORTE_AVANCE_COSECHA/PLANOS_2/PLANO_1482.pdf', 'G:/Ingenio Azucarero Guabira S.A/UTEA - SEMANAL - AVANCE COSECHA/2023/ANALISIS DE CAÑA EN CAMPO 2023/REPORTE_AVANCE_COSECHA/PLANOS_2/PLANO_1743.pdf', 'G:/Ingenio Azucarero Guabira S.A/UTEA - SEMANAL - AVANCE COSECHA/2023/ANALISIS DE CAÑA EN CAMPO 2023/REPORTE_AVANCE_COSECHA/PLANOS_2/PLANO_1018.pdf']\n",
      "-*************************************\n",
      "261\n",
      "['G:/OneDrive - Ingenio Azucarero Guabira S.A/_DATOS_PYTHON/_tes_pdf/262.pdf', 'G:/Ingenio Azucarero Guabira S.A/UTEA - SEMANAL - AVANCE COSECHA/2023/ANALISIS DE CAÑA EN CAMPO 2023/REPORTE_AVANCE_COSECHA/PLANOS_2/PLANO_1343.pdf']\n",
      "-*************************************\n",
      "262\n",
      "['G:/OneDrive - Ingenio Azucarero Guabira S.A/_DATOS_PYTHON/_tes_pdf/264.pdf', 'G:/Ingenio Azucarero Guabira S.A/UTEA - SEMANAL - AVANCE COSECHA/2023/ANALISIS DE CAÑA EN CAMPO 2023/REPORTE_AVANCE_COSECHA/PLANOS_2/PLANO_1251.pdf', 'G:/Ingenio Azucarero Guabira S.A/UTEA - SEMANAL - AVANCE COSECHA/2023/ANALISIS DE CAÑA EN CAMPO 2023/REPORTE_AVANCE_COSECHA/PLANOS_2/PLANO_1798.pdf', 'G:/Ingenio Azucarero Guabira S.A/UTEA - SEMANAL - AVANCE COSECHA/2023/ANALISIS DE CAÑA EN CAMPO 2023/REPORTE_AVANCE_COSECHA/PLANOS_2/PLANO_1255.pdf', 'G:/Ingenio Azucarero Guabira S.A/UTEA - SEMANAL - AVANCE COSECHA/2023/ANALISIS DE CAÑA EN CAMPO 2023/REPORTE_AVANCE_COSECHA/PLANOS_2/PLANO_1256.pdf', 'G:/Ingenio Azucarero Guabira S.A/UTEA - SEMANAL - AVANCE COSECHA/2023/ANALISIS DE CAÑA EN CAMPO 2023/REPORTE_AVANCE_COSECHA/PLANOS_2/PLANO_842.pdf', 'G:/Ingenio Azucarero Guabira S.A/UTEA - SEMANAL - AVANCE COSECHA/2023/ANALISIS DE CAÑA EN CAMPO 2023/REPORTE_AVANCE_COSECHA/PLANOS_2/PLANO_843.pdf', 'G:/Ingenio Azucarero Guabira S.A/UTEA - SEMANAL - AVANCE COSECHA/2023/ANALISIS DE CAÑA EN CAMPO 2023/REPORTE_AVANCE_COSECHA/PLANOS_2/PLANO_1811.pdf']\n",
      "-*************************************\n",
      "264\n",
      "['G:/OneDrive - Ingenio Azucarero Guabira S.A/_DATOS_PYTHON/_tes_pdf/265.pdf', 'G:/Ingenio Azucarero Guabira S.A/UTEA - SEMANAL - AVANCE COSECHA/2023/ANALISIS DE CAÑA EN CAMPO 2023/REPORTE_AVANCE_COSECHA/PLANOS_2/PLANO_1600.pdf', 'G:/Ingenio Azucarero Guabira S.A/UTEA - SEMANAL - AVANCE COSECHA/2023/ANALISIS DE CAÑA EN CAMPO 2023/REPORTE_AVANCE_COSECHA/PLANOS_2/PLANO_1602.pdf', 'G:/Ingenio Azucarero Guabira S.A/UTEA - SEMANAL - AVANCE COSECHA/2023/ANALISIS DE CAÑA EN CAMPO 2023/REPORTE_AVANCE_COSECHA/PLANOS_2/PLANO_1356.pdf', 'G:/Ingenio Azucarero Guabira S.A/UTEA - SEMANAL - AVANCE COSECHA/2023/ANALISIS DE CAÑA EN CAMPO 2023/REPORTE_AVANCE_COSECHA/PLANOS_2/PLANO_1357.pdf', 'G:/Ingenio Azucarero Guabira S.A/UTEA - SEMANAL - AVANCE COSECHA/2023/ANALISIS DE CAÑA EN CAMPO 2023/REPORTE_AVANCE_COSECHA/PLANOS_2/PLANO_1582.pdf', 'G:/Ingenio Azucarero Guabira S.A/UTEA - SEMANAL - AVANCE COSECHA/2023/ANALISIS DE CAÑA EN CAMPO 2023/REPORTE_AVANCE_COSECHA/PLANOS_2/PLANO_1078.pdf', 'G:/Ingenio Azucarero Guabira S.A/UTEA - SEMANAL - AVANCE COSECHA/2023/ANALISIS DE CAÑA EN CAMPO 2023/REPORTE_AVANCE_COSECHA/PLANOS_2/PLANO_1079.pdf', 'G:/Ingenio Azucarero Guabira S.A/UTEA - SEMANAL - AVANCE COSECHA/2023/ANALISIS DE CAÑA EN CAMPO 2023/REPORTE_AVANCE_COSECHA/PLANOS_2/PLANO_1309.pdf']\n",
      "-*************************************\n",
      "265\n",
      "['G:/OneDrive - Ingenio Azucarero Guabira S.A/_DATOS_PYTHON/_tes_pdf/266.pdf', 'G:/Ingenio Azucarero Guabira S.A/UTEA - SEMANAL - AVANCE COSECHA/2023/ANALISIS DE CAÑA EN CAMPO 2023/REPORTE_AVANCE_COSECHA/PLANOS_2/PLANO_1313.pdf', 'G:/Ingenio Azucarero Guabira S.A/UTEA - SEMANAL - AVANCE COSECHA/2023/ANALISIS DE CAÑA EN CAMPO 2023/REPORTE_AVANCE_COSECHA/PLANOS_2/PLANO_1352.pdf', 'G:/Ingenio Azucarero Guabira S.A/UTEA - SEMANAL - AVANCE COSECHA/2023/ANALISIS DE CAÑA EN CAMPO 2023/REPORTE_AVANCE_COSECHA/PLANOS_2/PLANO_1257.pdf', 'G:/Ingenio Azucarero Guabira S.A/UTEA - SEMANAL - AVANCE COSECHA/2023/ANALISIS DE CAÑA EN CAMPO 2023/REPORTE_AVANCE_COSECHA/PLANOS_2/PLANO_1259.pdf', 'G:/Ingenio Azucarero Guabira S.A/UTEA - SEMANAL - AVANCE COSECHA/2023/ANALISIS DE CAÑA EN CAMPO 2023/REPORTE_AVANCE_COSECHA/PLANOS_2/PLANO_1311.pdf']\n",
      "-*************************************\n",
      "266\n",
      "['G:/OneDrive - Ingenio Azucarero Guabira S.A/_DATOS_PYTHON/_tes_pdf/267.pdf', 'G:/Ingenio Azucarero Guabira S.A/UTEA - SEMANAL - AVANCE COSECHA/2023/ANALISIS DE CAÑA EN CAMPO 2023/REPORTE_AVANCE_COSECHA/PLANOS_2/PLANO_1824.pdf', 'G:/Ingenio Azucarero Guabira S.A/UTEA - SEMANAL - AVANCE COSECHA/2023/ANALISIS DE CAÑA EN CAMPO 2023/REPORTE_AVANCE_COSECHA/PLANOS_2/PLANO_1297.pdf', 'G:/Ingenio Azucarero Guabira S.A/UTEA - SEMANAL - AVANCE COSECHA/2023/ANALISIS DE CAÑA EN CAMPO 2023/REPORTE_AVANCE_COSECHA/PLANOS_2/PLANO_978.pdf', 'G:/Ingenio Azucarero Guabira S.A/UTEA - SEMANAL - AVANCE COSECHA/2023/ANALISIS DE CAÑA EN CAMPO 2023/REPORTE_AVANCE_COSECHA/PLANOS_2/PLANO_785.pdf', 'G:/Ingenio Azucarero Guabira S.A/UTEA - SEMANAL - AVANCE COSECHA/2023/ANALISIS DE CAÑA EN CAMPO 2023/REPORTE_AVANCE_COSECHA/PLANOS_2/PLANO_119.pdf', 'G:/Ingenio Azucarero Guabira S.A/UTEA - SEMANAL - AVANCE COSECHA/2023/ANALISIS DE CAÑA EN CAMPO 2023/REPORTE_AVANCE_COSECHA/PLANOS_2/PLANO_1951.pdf', 'G:/Ingenio Azucarero Guabira S.A/UTEA - SEMANAL - AVANCE COSECHA/2023/ANALISIS DE CAÑA EN CAMPO 2023/REPORTE_AVANCE_COSECHA/PLANOS_2/PLANO_1502.pdf', 'G:/Ingenio Azucarero Guabira S.A/UTEA - SEMANAL - AVANCE COSECHA/2023/ANALISIS DE CAÑA EN CAMPO 2023/REPORTE_AVANCE_COSECHA/PLANOS_2/PLANO_511.pdf']\n",
      "-*************************************\n",
      "267\n",
      "['G:/OneDrive - Ingenio Azucarero Guabira S.A/_DATOS_PYTHON/_tes_pdf/268.pdf', 'G:/Ingenio Azucarero Guabira S.A/UTEA - SEMANAL - AVANCE COSECHA/2023/ANALISIS DE CAÑA EN CAMPO 2023/REPORTE_AVANCE_COSECHA/PLANOS_2/PLANO_879.pdf', 'G:/Ingenio Azucarero Guabira S.A/UTEA - SEMANAL - AVANCE COSECHA/2023/ANALISIS DE CAÑA EN CAMPO 2023/REPORTE_AVANCE_COSECHA/PLANOS_2/PLANO_1200.pdf', 'G:/Ingenio Azucarero Guabira S.A/UTEA - SEMANAL - AVANCE COSECHA/2023/ANALISIS DE CAÑA EN CAMPO 2023/REPORTE_AVANCE_COSECHA/PLANOS_2/PLANO_1714.pdf', 'G:/Ingenio Azucarero Guabira S.A/UTEA - SEMANAL - AVANCE COSECHA/2023/ANALISIS DE CAÑA EN CAMPO 2023/REPORTE_AVANCE_COSECHA/PLANOS_2/PLANO_1203.pdf', 'G:/Ingenio Azucarero Guabira S.A/UTEA - SEMANAL - AVANCE COSECHA/2023/ANALISIS DE CAÑA EN CAMPO 2023/REPORTE_AVANCE_COSECHA/PLANOS_2/PLANO_1204.pdf', 'G:/Ingenio Azucarero Guabira S.A/UTEA - SEMANAL - AVANCE COSECHA/2023/ANALISIS DE CAÑA EN CAMPO 2023/REPORTE_AVANCE_COSECHA/PLANOS_2/PLANO_1205.pdf', 'G:/Ingenio Azucarero Guabira S.A/UTEA - SEMANAL - AVANCE COSECHA/2023/ANALISIS DE CAÑA EN CAMPO 2023/REPORTE_AVANCE_COSECHA/PLANOS_2/PLANO_1494.pdf', 'G:/Ingenio Azucarero Guabira S.A/UTEA - SEMANAL - AVANCE COSECHA/2023/ANALISIS DE CAÑA EN CAMPO 2023/REPORTE_AVANCE_COSECHA/PLANOS_2/PLANO_1207.pdf', 'G:/Ingenio Azucarero Guabira S.A/UTEA - SEMANAL - AVANCE COSECHA/2023/ANALISIS DE CAÑA EN CAMPO 2023/REPORTE_AVANCE_COSECHA/PLANOS_2/PLANO_1208.pdf', 'G:/Ingenio Azucarero Guabira S.A/UTEA - SEMANAL - AVANCE COSECHA/2023/ANALISIS DE CAÑA EN CAMPO 2023/REPORTE_AVANCE_COSECHA/PLANOS_2/PLANO_1206.pdf', 'G:/Ingenio Azucarero Guabira S.A/UTEA - SEMANAL - AVANCE COSECHA/2023/ANALISIS DE CAÑA EN CAMPO 2023/REPORTE_AVANCE_COSECHA/PLANOS_2/PLANO_861.pdf', 'G:/Ingenio Azucarero Guabira S.A/UTEA - SEMANAL - AVANCE COSECHA/2023/ANALISIS DE CAÑA EN CAMPO 2023/REPORTE_AVANCE_COSECHA/PLANOS_2/PLANO_990.pdf']\n",
      "-*************************************\n",
      "268\n",
      "['G:/OneDrive - Ingenio Azucarero Guabira S.A/_DATOS_PYTHON/_tes_pdf/269.pdf', 'G:/Ingenio Azucarero Guabira S.A/UTEA - SEMANAL - AVANCE COSECHA/2023/ANALISIS DE CAÑA EN CAMPO 2023/REPORTE_AVANCE_COSECHA/PLANOS_2/PLANO_882.pdf', 'G:/Ingenio Azucarero Guabira S.A/UTEA - SEMANAL - AVANCE COSECHA/2023/ANALISIS DE CAÑA EN CAMPO 2023/REPORTE_AVANCE_COSECHA/PLANOS_2/PLANO_994.pdf']\n",
      "-*************************************\n",
      "269\n",
      "['G:/OneDrive - Ingenio Azucarero Guabira S.A/_DATOS_PYTHON/_tes_pdf/270.pdf', 'G:/Ingenio Azucarero Guabira S.A/UTEA - SEMANAL - AVANCE COSECHA/2023/ANALISIS DE CAÑA EN CAMPO 2023/REPORTE_AVANCE_COSECHA/PLANOS_2/PLANO_1237.pdf', 'G:/Ingenio Azucarero Guabira S.A/UTEA - SEMANAL - AVANCE COSECHA/2023/ANALISIS DE CAÑA EN CAMPO 2023/REPORTE_AVANCE_COSECHA/PLANOS_2/PLANO_1077.pdf']\n",
      "-*************************************\n",
      "270\n",
      "['G:/OneDrive - Ingenio Azucarero Guabira S.A/_DATOS_PYTHON/_tes_pdf/271.pdf', 'G:/Ingenio Azucarero Guabira S.A/UTEA - SEMANAL - AVANCE COSECHA/2023/ANALISIS DE CAÑA EN CAMPO 2023/REPORTE_AVANCE_COSECHA/PLANOS_2/PLANO_656.pdf', 'G:/Ingenio Azucarero Guabira S.A/UTEA - SEMANAL - AVANCE COSECHA/2023/ANALISIS DE CAÑA EN CAMPO 2023/REPORTE_AVANCE_COSECHA/PLANOS_2/PLANO_657.pdf', 'G:/Ingenio Azucarero Guabira S.A/UTEA - SEMANAL - AVANCE COSECHA/2023/ANALISIS DE CAÑA EN CAMPO 2023/REPORTE_AVANCE_COSECHA/PLANOS_2/PLANO_899.pdf']\n",
      "-*************************************\n",
      "271\n",
      "['G:/OneDrive - Ingenio Azucarero Guabira S.A/_DATOS_PYTHON/_tes_pdf/272.pdf', 'G:/Ingenio Azucarero Guabira S.A/UTEA - SEMANAL - AVANCE COSECHA/2023/ANALISIS DE CAÑA EN CAMPO 2023/REPORTE_AVANCE_COSECHA/PLANOS_2/PLANO_1856.pdf', 'G:/Ingenio Azucarero Guabira S.A/UTEA - SEMANAL - AVANCE COSECHA/2023/ANALISIS DE CAÑA EN CAMPO 2023/REPORTE_AVANCE_COSECHA/PLANOS_2/PLANO_1857.pdf', 'G:/Ingenio Azucarero Guabira S.A/UTEA - SEMANAL - AVANCE COSECHA/2023/ANALISIS DE CAÑA EN CAMPO 2023/REPORTE_AVANCE_COSECHA/PLANOS_2/PLANO_1794.pdf', 'G:/Ingenio Azucarero Guabira S.A/UTEA - SEMANAL - AVANCE COSECHA/2023/ANALISIS DE CAÑA EN CAMPO 2023/REPORTE_AVANCE_COSECHA/PLANOS_2/PLANO_1858.pdf', 'G:/Ingenio Azucarero Guabira S.A/UTEA - SEMANAL - AVANCE COSECHA/2023/ANALISIS DE CAÑA EN CAMPO 2023/REPORTE_AVANCE_COSECHA/PLANOS_2/PLANO_1897.pdf', 'G:/Ingenio Azucarero Guabira S.A/UTEA - SEMANAL - AVANCE COSECHA/2023/ANALISIS DE CAÑA EN CAMPO 2023/REPORTE_AVANCE_COSECHA/PLANOS_2/PLANO_1903.pdf', 'G:/Ingenio Azucarero Guabira S.A/UTEA - SEMANAL - AVANCE COSECHA/2023/ANALISIS DE CAÑA EN CAMPO 2023/REPORTE_AVANCE_COSECHA/PLANOS_2/PLANO_1489.pdf', 'G:/Ingenio Azucarero Guabira S.A/UTEA - SEMANAL - AVANCE COSECHA/2023/ANALISIS DE CAÑA EN CAMPO 2023/REPORTE_AVANCE_COSECHA/PLANOS_2/PLANO_1562.pdf', 'G:/Ingenio Azucarero Guabira S.A/UTEA - SEMANAL - AVANCE COSECHA/2023/ANALISIS DE CAÑA EN CAMPO 2023/REPORTE_AVANCE_COSECHA/PLANOS_2/PLANO_915.pdf', 'G:/Ingenio Azucarero Guabira S.A/UTEA - SEMANAL - AVANCE COSECHA/2023/ANALISIS DE CAÑA EN CAMPO 2023/REPORTE_AVANCE_COSECHA/PLANOS_2/PLANO_1685.pdf', 'G:/Ingenio Azucarero Guabira S.A/UTEA - SEMANAL - AVANCE COSECHA/2023/ANALISIS DE CAÑA EN CAMPO 2023/REPORTE_AVANCE_COSECHA/PLANOS_2/PLANO_1338.pdf', 'G:/Ingenio Azucarero Guabira S.A/UTEA - SEMANAL - AVANCE COSECHA/2023/ANALISIS DE CAÑA EN CAMPO 2023/REPORTE_AVANCE_COSECHA/PLANOS_2/PLANO_1339.pdf', 'G:/Ingenio Azucarero Guabira S.A/UTEA - SEMANAL - AVANCE COSECHA/2023/ANALISIS DE CAÑA EN CAMPO 2023/REPORTE_AVANCE_COSECHA/PLANOS_2/PLANO_1340.pdf']\n",
      "-*************************************\n",
      "272\n",
      "['G:/OneDrive - Ingenio Azucarero Guabira S.A/_DATOS_PYTHON/_tes_pdf/273.pdf', 'G:/Ingenio Azucarero Guabira S.A/UTEA - SEMANAL - AVANCE COSECHA/2023/ANALISIS DE CAÑA EN CAMPO 2023/REPORTE_AVANCE_COSECHA/PLANOS_2/PLANO_880.pdf', 'G:/Ingenio Azucarero Guabira S.A/UTEA - SEMANAL - AVANCE COSECHA/2023/ANALISIS DE CAÑA EN CAMPO 2023/REPORTE_AVANCE_COSECHA/PLANOS_2/PLANO_913.pdf', 'G:/Ingenio Azucarero Guabira S.A/UTEA - SEMANAL - AVANCE COSECHA/2023/ANALISIS DE CAÑA EN CAMPO 2023/REPORTE_AVANCE_COSECHA/PLANOS_2/PLANO_1640.pdf']\n",
      "-*************************************\n",
      "273\n",
      "['G:/OneDrive - Ingenio Azucarero Guabira S.A/_DATOS_PYTHON/_tes_pdf/274.pdf', 'G:/Ingenio Azucarero Guabira S.A/UTEA - SEMANAL - AVANCE COSECHA/2023/ANALISIS DE CAÑA EN CAMPO 2023/REPORTE_AVANCE_COSECHA/PLANOS_2/PLANO_896.pdf', 'G:/Ingenio Azucarero Guabira S.A/UTEA - SEMANAL - AVANCE COSECHA/2023/ANALISIS DE CAÑA EN CAMPO 2023/REPORTE_AVANCE_COSECHA/PLANOS_2/PLANO_898.pdf']\n",
      "-*************************************\n",
      "274\n",
      "['G:/OneDrive - Ingenio Azucarero Guabira S.A/_DATOS_PYTHON/_tes_pdf/275.pdf', 'G:/Ingenio Azucarero Guabira S.A/UTEA - SEMANAL - AVANCE COSECHA/2023/ANALISIS DE CAÑA EN CAMPO 2023/REPORTE_AVANCE_COSECHA/PLANOS_2/PLANO_883.pdf', 'G:/Ingenio Azucarero Guabira S.A/UTEA - SEMANAL - AVANCE COSECHA/2023/ANALISIS DE CAÑA EN CAMPO 2023/REPORTE_AVANCE_COSECHA/PLANOS_2/PLANO_1964.pdf']\n",
      "-*************************************\n",
      "275\n",
      "['G:/OneDrive - Ingenio Azucarero Guabira S.A/_DATOS_PYTHON/_tes_pdf/276.pdf', 'G:/Ingenio Azucarero Guabira S.A/UTEA - SEMANAL - AVANCE COSECHA/2023/ANALISIS DE CAÑA EN CAMPO 2023/REPORTE_AVANCE_COSECHA/PLANOS_2/PLANO_1075.pdf', 'G:/Ingenio Azucarero Guabira S.A/UTEA - SEMANAL - AVANCE COSECHA/2023/ANALISIS DE CAÑA EN CAMPO 2023/REPORTE_AVANCE_COSECHA/PLANOS_2/PLANO_1119.pdf']\n",
      "-*************************************\n",
      "276\n",
      "['G:/OneDrive - Ingenio Azucarero Guabira S.A/_DATOS_PYTHON/_tes_pdf/277.pdf', 'G:/Ingenio Azucarero Guabira S.A/UTEA - SEMANAL - AVANCE COSECHA/2023/ANALISIS DE CAÑA EN CAMPO 2023/REPORTE_AVANCE_COSECHA/PLANOS_2/PLANO_896.pdf', 'G:/Ingenio Azucarero Guabira S.A/UTEA - SEMANAL - AVANCE COSECHA/2023/ANALISIS DE CAÑA EN CAMPO 2023/REPORTE_AVANCE_COSECHA/PLANOS_2/PLANO_993.pdf', 'G:/Ingenio Azucarero Guabira S.A/UTEA - SEMANAL - AVANCE COSECHA/2023/ANALISIS DE CAÑA EN CAMPO 2023/REPORTE_AVANCE_COSECHA/PLANOS_2/PLANO_1699.pdf', 'G:/Ingenio Azucarero Guabira S.A/UTEA - SEMANAL - AVANCE COSECHA/2023/ANALISIS DE CAÑA EN CAMPO 2023/REPORTE_AVANCE_COSECHA/PLANOS_2/PLANO_1612.pdf', 'G:/Ingenio Azucarero Guabira S.A/UTEA - SEMANAL - AVANCE COSECHA/2023/ANALISIS DE CAÑA EN CAMPO 2023/REPORTE_AVANCE_COSECHA/PLANOS_2/PLANO_1742.pdf', 'G:/Ingenio Azucarero Guabira S.A/UTEA - SEMANAL - AVANCE COSECHA/2023/ANALISIS DE CAÑA EN CAMPO 2023/REPORTE_AVANCE_COSECHA/PLANOS_2/PLANO_1775.pdf', 'G:/Ingenio Azucarero Guabira S.A/UTEA - SEMANAL - AVANCE COSECHA/2023/ANALISIS DE CAÑA EN CAMPO 2023/REPORTE_AVANCE_COSECHA/PLANOS_2/PLANO_1873.pdf', 'G:/Ingenio Azucarero Guabira S.A/UTEA - SEMANAL - AVANCE COSECHA/2023/ANALISIS DE CAÑA EN CAMPO 2023/REPORTE_AVANCE_COSECHA/PLANOS_2/PLANO_1874.pdf', 'G:/Ingenio Azucarero Guabira S.A/UTEA - SEMANAL - AVANCE COSECHA/2023/ANALISIS DE CAÑA EN CAMPO 2023/REPORTE_AVANCE_COSECHA/PLANOS_2/PLANO_1021.pdf']\n",
      "-*************************************\n",
      "277\n",
      "['G:/OneDrive - Ingenio Azucarero Guabira S.A/_DATOS_PYTHON/_tes_pdf/278.pdf', 'G:/Ingenio Azucarero Guabira S.A/UTEA - SEMANAL - AVANCE COSECHA/2023/ANALISIS DE CAÑA EN CAMPO 2023/REPORTE_AVANCE_COSECHA/PLANOS_2/PLANO_1894.pdf', 'G:/Ingenio Azucarero Guabira S.A/UTEA - SEMANAL - AVANCE COSECHA/2023/ANALISIS DE CAÑA EN CAMPO 2023/REPORTE_AVANCE_COSECHA/PLANOS_2/PLANO_1000.pdf', 'G:/Ingenio Azucarero Guabira S.A/UTEA - SEMANAL - AVANCE COSECHA/2023/ANALISIS DE CAÑA EN CAMPO 2023/REPORTE_AVANCE_COSECHA/PLANOS_2/PLANO_1001.pdf', 'G:/Ingenio Azucarero Guabira S.A/UTEA - SEMANAL - AVANCE COSECHA/2023/ANALISIS DE CAÑA EN CAMPO 2023/REPORTE_AVANCE_COSECHA/PLANOS_2/PLANO_491.pdf', 'G:/Ingenio Azucarero Guabira S.A/UTEA - SEMANAL - AVANCE COSECHA/2023/ANALISIS DE CAÑA EN CAMPO 2023/REPORTE_AVANCE_COSECHA/PLANOS_2/PLANO_1081.pdf', 'G:/Ingenio Azucarero Guabira S.A/UTEA - SEMANAL - AVANCE COSECHA/2023/ANALISIS DE CAÑA EN CAMPO 2023/REPORTE_AVANCE_COSECHA/PLANOS_2/PLANO_1082.pdf', 'G:/Ingenio Azucarero Guabira S.A/UTEA - SEMANAL - AVANCE COSECHA/2023/ANALISIS DE CAÑA EN CAMPO 2023/REPORTE_AVANCE_COSECHA/PLANOS_2/PLANO_478.pdf']\n",
      "-*************************************\n",
      "278\n",
      "['G:/OneDrive - Ingenio Azucarero Guabira S.A/_DATOS_PYTHON/_tes_pdf/280.pdf', 'G:/Ingenio Azucarero Guabira S.A/UTEA - SEMANAL - AVANCE COSECHA/2023/ANALISIS DE CAÑA EN CAMPO 2023/REPORTE_AVANCE_COSECHA/PLANOS_2/PLANO_1057.pdf', 'G:/Ingenio Azucarero Guabira S.A/UTEA - SEMANAL - AVANCE COSECHA/2023/ANALISIS DE CAÑA EN CAMPO 2023/REPORTE_AVANCE_COSECHA/PLANOS_2/PLANO_988.pdf']\n",
      "-*************************************\n",
      "280\n",
      "['G:/OneDrive - Ingenio Azucarero Guabira S.A/_DATOS_PYTHON/_tes_pdf/281.pdf', 'G:/Ingenio Azucarero Guabira S.A/UTEA - SEMANAL - AVANCE COSECHA/2023/ANALISIS DE CAÑA EN CAMPO 2023/REPORTE_AVANCE_COSECHA/PLANOS_2/PLANO_79.pdf']\n",
      "-*************************************\n",
      "281\n",
      "['G:/OneDrive - Ingenio Azucarero Guabira S.A/_DATOS_PYTHON/_tes_pdf/282.pdf', 'G:/Ingenio Azucarero Guabira S.A/UTEA - SEMANAL - AVANCE COSECHA/2023/ANALISIS DE CAÑA EN CAMPO 2023/REPORTE_AVANCE_COSECHA/PLANOS_2/PLANO_577.pdf', 'G:/Ingenio Azucarero Guabira S.A/UTEA - SEMANAL - AVANCE COSECHA/2023/ANALISIS DE CAÑA EN CAMPO 2023/REPORTE_AVANCE_COSECHA/PLANOS_2/PLANO_1091.pdf', 'G:/Ingenio Azucarero Guabira S.A/UTEA - SEMANAL - AVANCE COSECHA/2023/ANALISIS DE CAÑA EN CAMPO 2023/REPORTE_AVANCE_COSECHA/PLANOS_2/PLANO_1579.pdf', 'G:/Ingenio Azucarero Guabira S.A/UTEA - SEMANAL - AVANCE COSECHA/2023/ANALISIS DE CAÑA EN CAMPO 2023/REPORTE_AVANCE_COSECHA/PLANOS_2/PLANO_78.pdf', 'G:/Ingenio Azucarero Guabira S.A/UTEA - SEMANAL - AVANCE COSECHA/2023/ANALISIS DE CAÑA EN CAMPO 2023/REPORTE_AVANCE_COSECHA/PLANOS_2/PLANO_593.pdf', 'G:/Ingenio Azucarero Guabira S.A/UTEA - SEMANAL - AVANCE COSECHA/2023/ANALISIS DE CAÑA EN CAMPO 2023/REPORTE_AVANCE_COSECHA/PLANOS_2/PLANO_594.pdf', 'G:/Ingenio Azucarero Guabira S.A/UTEA - SEMANAL - AVANCE COSECHA/2023/ANALISIS DE CAÑA EN CAMPO 2023/REPORTE_AVANCE_COSECHA/PLANOS_2/PLANO_244.pdf', 'G:/Ingenio Azucarero Guabira S.A/UTEA - SEMANAL - AVANCE COSECHA/2023/ANALISIS DE CAÑA EN CAMPO 2023/REPORTE_AVANCE_COSECHA/PLANOS_2/PLANO_1559.pdf']\n",
      "-*************************************\n",
      "282\n",
      "['G:/OneDrive - Ingenio Azucarero Guabira S.A/_DATOS_PYTHON/_tes_pdf/283.pdf', 'G:/Ingenio Azucarero Guabira S.A/UTEA - SEMANAL - AVANCE COSECHA/2023/ANALISIS DE CAÑA EN CAMPO 2023/REPORTE_AVANCE_COSECHA/PLANOS_2/PLANO_297.pdf', 'G:/Ingenio Azucarero Guabira S.A/UTEA - SEMANAL - AVANCE COSECHA/2023/ANALISIS DE CAÑA EN CAMPO 2023/REPORTE_AVANCE_COSECHA/PLANOS_2/PLANO_507.pdf', 'G:/Ingenio Azucarero Guabira S.A/UTEA - SEMANAL - AVANCE COSECHA/2023/ANALISIS DE CAÑA EN CAMPO 2023/REPORTE_AVANCE_COSECHA/PLANOS_2/PLANO_1145.pdf', 'G:/Ingenio Azucarero Guabira S.A/UTEA - SEMANAL - AVANCE COSECHA/2023/ANALISIS DE CAÑA EN CAMPO 2023/REPORTE_AVANCE_COSECHA/PLANOS_2/PLANO_1786.pdf', 'G:/Ingenio Azucarero Guabira S.A/UTEA - SEMANAL - AVANCE COSECHA/2023/ANALISIS DE CAÑA EN CAMPO 2023/REPORTE_AVANCE_COSECHA/PLANOS_2/PLANO_123.pdf', 'G:/Ingenio Azucarero Guabira S.A/UTEA - SEMANAL - AVANCE COSECHA/2023/ANALISIS DE CAÑA EN CAMPO 2023/REPORTE_AVANCE_COSECHA/PLANOS_2/PLANO_92.pdf', 'G:/Ingenio Azucarero Guabira S.A/UTEA - SEMANAL - AVANCE COSECHA/2023/ANALISIS DE CAÑA EN CAMPO 2023/REPORTE_AVANCE_COSECHA/PLANOS_2/PLANO_125.pdf']\n",
      "-*************************************\n",
      "283\n",
      "['G:/OneDrive - Ingenio Azucarero Guabira S.A/_DATOS_PYTHON/_tes_pdf/284.pdf', 'G:/Ingenio Azucarero Guabira S.A/UTEA - SEMANAL - AVANCE COSECHA/2023/ANALISIS DE CAÑA EN CAMPO 2023/REPORTE_AVANCE_COSECHA/PLANOS_2/PLANO_801.pdf', 'G:/Ingenio Azucarero Guabira S.A/UTEA - SEMANAL - AVANCE COSECHA/2023/ANALISIS DE CAÑA EN CAMPO 2023/REPORTE_AVANCE_COSECHA/PLANOS_2/PLANO_897.pdf', 'G:/Ingenio Azucarero Guabira S.A/UTEA - SEMANAL - AVANCE COSECHA/2023/ANALISIS DE CAÑA EN CAMPO 2023/REPORTE_AVANCE_COSECHA/PLANOS_2/PLANO_900.pdf', 'G:/Ingenio Azucarero Guabira S.A/UTEA - SEMANAL - AVANCE COSECHA/2023/ANALISIS DE CAÑA EN CAMPO 2023/REPORTE_AVANCE_COSECHA/PLANOS_2/PLANO_901.pdf', 'G:/Ingenio Azucarero Guabira S.A/UTEA - SEMANAL - AVANCE COSECHA/2023/ANALISIS DE CAÑA EN CAMPO 2023/REPORTE_AVANCE_COSECHA/PLANOS_2/PLANO_1510.pdf', 'G:/Ingenio Azucarero Guabira S.A/UTEA - SEMANAL - AVANCE COSECHA/2023/ANALISIS DE CAÑA EN CAMPO 2023/REPORTE_AVANCE_COSECHA/PLANOS_2/PLANO_1470.pdf', 'G:/Ingenio Azucarero Guabira S.A/UTEA - SEMANAL - AVANCE COSECHA/2023/ANALISIS DE CAÑA EN CAMPO 2023/REPORTE_AVANCE_COSECHA/PLANOS_2/PLANO_1511.pdf', 'G:/Ingenio Azucarero Guabira S.A/UTEA - SEMANAL - AVANCE COSECHA/2023/ANALISIS DE CAÑA EN CAMPO 2023/REPORTE_AVANCE_COSECHA/PLANOS_2/PLANO_1509.pdf', 'G:/Ingenio Azucarero Guabira S.A/UTEA - SEMANAL - AVANCE COSECHA/2023/ANALISIS DE CAÑA EN CAMPO 2023/REPORTE_AVANCE_COSECHA/PLANOS_2/PLANO_185.pdf', 'G:/Ingenio Azucarero Guabira S.A/UTEA - SEMANAL - AVANCE COSECHA/2023/ANALISIS DE CAÑA EN CAMPO 2023/REPORTE_AVANCE_COSECHA/PLANOS_2/PLANO_1884.pdf', 'G:/Ingenio Azucarero Guabira S.A/UTEA - SEMANAL - AVANCE COSECHA/2023/ANALISIS DE CAÑA EN CAMPO 2023/REPORTE_AVANCE_COSECHA/PLANOS_2/PLANO_478.pdf']\n",
      "-*************************************\n",
      "284\n",
      "['G:/OneDrive - Ingenio Azucarero Guabira S.A/_DATOS_PYTHON/_tes_pdf/285.pdf', 'G:/Ingenio Azucarero Guabira S.A/UTEA - SEMANAL - AVANCE COSECHA/2023/ANALISIS DE CAÑA EN CAMPO 2023/REPORTE_AVANCE_COSECHA/PLANOS_2/PLANO_968.pdf', 'G:/Ingenio Azucarero Guabira S.A/UTEA - SEMANAL - AVANCE COSECHA/2023/ANALISIS DE CAÑA EN CAMPO 2023/REPORTE_AVANCE_COSECHA/PLANOS_2/PLANO_962.pdf', 'G:/Ingenio Azucarero Guabira S.A/UTEA - SEMANAL - AVANCE COSECHA/2023/ANALISIS DE CAÑA EN CAMPO 2023/REPORTE_AVANCE_COSECHA/PLANOS_2/PLANO_399.pdf']\n",
      "-*************************************\n",
      "285\n",
      "['G:/OneDrive - Ingenio Azucarero Guabira S.A/_DATOS_PYTHON/_tes_pdf/286.pdf', 'G:/Ingenio Azucarero Guabira S.A/UTEA - SEMANAL - AVANCE COSECHA/2023/ANALISIS DE CAÑA EN CAMPO 2023/REPORTE_AVANCE_COSECHA/PLANOS_2/PLANO_1353.pdf', 'G:/Ingenio Azucarero Guabira S.A/UTEA - SEMANAL - AVANCE COSECHA/2023/ANALISIS DE CAÑA EN CAMPO 2023/REPORTE_AVANCE_COSECHA/PLANOS_2/PLANO_1351.pdf']\n",
      "-*************************************\n",
      "286\n",
      "['G:/OneDrive - Ingenio Azucarero Guabira S.A/_DATOS_PYTHON/_tes_pdf/287.pdf', 'G:/Ingenio Azucarero Guabira S.A/UTEA - SEMANAL - AVANCE COSECHA/2023/ANALISIS DE CAÑA EN CAMPO 2023/REPORTE_AVANCE_COSECHA/PLANOS_2/PLANO_1362.pdf', 'G:/Ingenio Azucarero Guabira S.A/UTEA - SEMANAL - AVANCE COSECHA/2023/ANALISIS DE CAÑA EN CAMPO 2023/REPORTE_AVANCE_COSECHA/PLANOS_2/PLANO_868.pdf']\n",
      "-*************************************\n",
      "287\n",
      "['G:/OneDrive - Ingenio Azucarero Guabira S.A/_DATOS_PYTHON/_tes_pdf/288.pdf', 'G:/Ingenio Azucarero Guabira S.A/UTEA - SEMANAL - AVANCE COSECHA/2023/ANALISIS DE CAÑA EN CAMPO 2023/REPORTE_AVANCE_COSECHA/PLANOS_2/PLANO_950.pdf', 'G:/Ingenio Azucarero Guabira S.A/UTEA - SEMANAL - AVANCE COSECHA/2023/ANALISIS DE CAÑA EN CAMPO 2023/REPORTE_AVANCE_COSECHA/PLANOS_2/PLANO_951.pdf', 'G:/Ingenio Azucarero Guabira S.A/UTEA - SEMANAL - AVANCE COSECHA/2023/ANALISIS DE CAÑA EN CAMPO 2023/REPORTE_AVANCE_COSECHA/PLANOS_2/PLANO_1115.pdf', 'G:/Ingenio Azucarero Guabira S.A/UTEA - SEMANAL - AVANCE COSECHA/2023/ANALISIS DE CAÑA EN CAMPO 2023/REPORTE_AVANCE_COSECHA/PLANOS_2/PLANO_1116.pdf', 'G:/Ingenio Azucarero Guabira S.A/UTEA - SEMANAL - AVANCE COSECHA/2023/ANALISIS DE CAÑA EN CAMPO 2023/REPORTE_AVANCE_COSECHA/PLANOS_2/PLANO_1117.pdf']\n",
      "-*************************************\n",
      "288\n",
      "['G:/OneDrive - Ingenio Azucarero Guabira S.A/_DATOS_PYTHON/_tes_pdf/289.pdf', 'G:/Ingenio Azucarero Guabira S.A/UTEA - SEMANAL - AVANCE COSECHA/2023/ANALISIS DE CAÑA EN CAMPO 2023/REPORTE_AVANCE_COSECHA/PLANOS_2/PLANO_952.pdf']\n",
      "-*************************************\n",
      "289\n",
      "['G:/OneDrive - Ingenio Azucarero Guabira S.A/_DATOS_PYTHON/_tes_pdf/291.pdf', 'G:/Ingenio Azucarero Guabira S.A/UTEA - SEMANAL - AVANCE COSECHA/2023/ANALISIS DE CAÑA EN CAMPO 2023/REPORTE_AVANCE_COSECHA/PLANOS_2/PLANO_1638.pdf', 'G:/Ingenio Azucarero Guabira S.A/UTEA - SEMANAL - AVANCE COSECHA/2023/ANALISIS DE CAÑA EN CAMPO 2023/REPORTE_AVANCE_COSECHA/PLANOS_2/PLANO_341.pdf', 'G:/Ingenio Azucarero Guabira S.A/UTEA - SEMANAL - AVANCE COSECHA/2023/ANALISIS DE CAÑA EN CAMPO 2023/REPORTE_AVANCE_COSECHA/PLANOS_2/PLANO_1690.pdf', 'G:/Ingenio Azucarero Guabira S.A/UTEA - SEMANAL - AVANCE COSECHA/2023/ANALISIS DE CAÑA EN CAMPO 2023/REPORTE_AVANCE_COSECHA/PLANOS_2/PLANO_601.pdf', 'G:/Ingenio Azucarero Guabira S.A/UTEA - SEMANAL - AVANCE COSECHA/2023/ANALISIS DE CAÑA EN CAMPO 2023/REPORTE_AVANCE_COSECHA/PLANOS_2/PLANO_602.pdf', 'G:/Ingenio Azucarero Guabira S.A/UTEA - SEMANAL - AVANCE COSECHA/2023/ANALISIS DE CAÑA EN CAMPO 2023/REPORTE_AVANCE_COSECHA/PLANOS_2/PLANO_603.pdf', 'G:/Ingenio Azucarero Guabira S.A/UTEA - SEMANAL - AVANCE COSECHA/2023/ANALISIS DE CAÑA EN CAMPO 2023/REPORTE_AVANCE_COSECHA/PLANOS_2/PLANO_605.pdf']\n",
      "-*************************************\n",
      "291\n",
      "['G:/OneDrive - Ingenio Azucarero Guabira S.A/_DATOS_PYTHON/_tes_pdf/292.pdf', 'G:/Ingenio Azucarero Guabira S.A/UTEA - SEMANAL - AVANCE COSECHA/2023/ANALISIS DE CAÑA EN CAMPO 2023/REPORTE_AVANCE_COSECHA/PLANOS_2/PLANO_651.pdf', 'G:/Ingenio Azucarero Guabira S.A/UTEA - SEMANAL - AVANCE COSECHA/2023/ANALISIS DE CAÑA EN CAMPO 2023/REPORTE_AVANCE_COSECHA/PLANOS_2/PLANO_652.pdf', 'G:/Ingenio Azucarero Guabira S.A/UTEA - SEMANAL - AVANCE COSECHA/2023/ANALISIS DE CAÑA EN CAMPO 2023/REPORTE_AVANCE_COSECHA/PLANOS_2/PLANO_653.pdf']\n",
      "-*************************************\n",
      "292\n",
      "['G:/OneDrive - Ingenio Azucarero Guabira S.A/_DATOS_PYTHON/_tes_pdf/293.pdf', 'G:/Ingenio Azucarero Guabira S.A/UTEA - SEMANAL - AVANCE COSECHA/2023/ANALISIS DE CAÑA EN CAMPO 2023/REPORTE_AVANCE_COSECHA/PLANOS_2/PLANO_504.pdf', 'G:/Ingenio Azucarero Guabira S.A/UTEA - SEMANAL - AVANCE COSECHA/2023/ANALISIS DE CAÑA EN CAMPO 2023/REPORTE_AVANCE_COSECHA/PLANOS_2/PLANO_505.pdf', 'G:/Ingenio Azucarero Guabira S.A/UTEA - SEMANAL - AVANCE COSECHA/2023/ANALISIS DE CAÑA EN CAMPO 2023/REPORTE_AVANCE_COSECHA/PLANOS_2/PLANO_1163.pdf', 'G:/Ingenio Azucarero Guabira S.A/UTEA - SEMANAL - AVANCE COSECHA/2023/ANALISIS DE CAÑA EN CAMPO 2023/REPORTE_AVANCE_COSECHA/PLANOS_2/PLANO_503.pdf']\n",
      "-*************************************\n",
      "293\n",
      "['G:/OneDrive - Ingenio Azucarero Guabira S.A/_DATOS_PYTHON/_tes_pdf/294.pdf', 'G:/Ingenio Azucarero Guabira S.A/UTEA - SEMANAL - AVANCE COSECHA/2023/ANALISIS DE CAÑA EN CAMPO 2023/REPORTE_AVANCE_COSECHA/PLANOS_2/PLANO_640.pdf', 'G:/Ingenio Azucarero Guabira S.A/UTEA - SEMANAL - AVANCE COSECHA/2023/ANALISIS DE CAÑA EN CAMPO 2023/REPORTE_AVANCE_COSECHA/PLANOS_2/PLANO_641.pdf', 'G:/Ingenio Azucarero Guabira S.A/UTEA - SEMANAL - AVANCE COSECHA/2023/ANALISIS DE CAÑA EN CAMPO 2023/REPORTE_AVANCE_COSECHA/PLANOS_2/PLANO_642.pdf', 'G:/Ingenio Azucarero Guabira S.A/UTEA - SEMANAL - AVANCE COSECHA/2023/ANALISIS DE CAÑA EN CAMPO 2023/REPORTE_AVANCE_COSECHA/PLANOS_2/PLANO_643.pdf', 'G:/Ingenio Azucarero Guabira S.A/UTEA - SEMANAL - AVANCE COSECHA/2023/ANALISIS DE CAÑA EN CAMPO 2023/REPORTE_AVANCE_COSECHA/PLANOS_2/PLANO_645.pdf', 'G:/Ingenio Azucarero Guabira S.A/UTEA - SEMANAL - AVANCE COSECHA/2023/ANALISIS DE CAÑA EN CAMPO 2023/REPORTE_AVANCE_COSECHA/PLANOS_2/PLANO_650.pdf', 'G:/Ingenio Azucarero Guabira S.A/UTEA - SEMANAL - AVANCE COSECHA/2023/ANALISIS DE CAÑA EN CAMPO 2023/REPORTE_AVANCE_COSECHA/PLANOS_2/PLANO_1932.pdf', 'G:/Ingenio Azucarero Guabira S.A/UTEA - SEMANAL - AVANCE COSECHA/2023/ANALISIS DE CAÑA EN CAMPO 2023/REPORTE_AVANCE_COSECHA/PLANOS_2/PLANO_638.pdf', 'G:/Ingenio Azucarero Guabira S.A/UTEA - SEMANAL - AVANCE COSECHA/2023/ANALISIS DE CAÑA EN CAMPO 2023/REPORTE_AVANCE_COSECHA/PLANOS_2/PLANO_639.pdf']\n",
      "-*************************************\n",
      "294\n",
      "['G:/OneDrive - Ingenio Azucarero Guabira S.A/_DATOS_PYTHON/_tes_pdf/295.pdf', 'G:/Ingenio Azucarero Guabira S.A/UTEA - SEMANAL - AVANCE COSECHA/2023/ANALISIS DE CAÑA EN CAMPO 2023/REPORTE_AVANCE_COSECHA/PLANOS_2/PLANO_929.pdf', 'G:/Ingenio Azucarero Guabira S.A/UTEA - SEMANAL - AVANCE COSECHA/2023/ANALISIS DE CAÑA EN CAMPO 2023/REPORTE_AVANCE_COSECHA/PLANOS_2/PLANO_772.pdf', 'G:/Ingenio Azucarero Guabira S.A/UTEA - SEMANAL - AVANCE COSECHA/2023/ANALISIS DE CAÑA EN CAMPO 2023/REPORTE_AVANCE_COSECHA/PLANOS_2/PLANO_773.pdf', 'G:/Ingenio Azucarero Guabira S.A/UTEA - SEMANAL - AVANCE COSECHA/2023/ANALISIS DE CAÑA EN CAMPO 2023/REPORTE_AVANCE_COSECHA/PLANOS_2/PLANO_1099.pdf', 'G:/Ingenio Azucarero Guabira S.A/UTEA - SEMANAL - AVANCE COSECHA/2023/ANALISIS DE CAÑA EN CAMPO 2023/REPORTE_AVANCE_COSECHA/PLANOS_2/PLANO_1163.pdf', 'G:/Ingenio Azucarero Guabira S.A/UTEA - SEMANAL - AVANCE COSECHA/2023/ANALISIS DE CAÑA EN CAMPO 2023/REPORTE_AVANCE_COSECHA/PLANOS_2/PLANO_697.pdf', 'G:/Ingenio Azucarero Guabira S.A/UTEA - SEMANAL - AVANCE COSECHA/2023/ANALISIS DE CAÑA EN CAMPO 2023/REPORTE_AVANCE_COSECHA/PLANOS_2/PLANO_1053.pdf', 'G:/Ingenio Azucarero Guabira S.A/UTEA - SEMANAL - AVANCE COSECHA/2023/ANALISIS DE CAÑA EN CAMPO 2023/REPORTE_AVANCE_COSECHA/PLANOS_2/PLANO_767.pdf']\n",
      "-*************************************\n",
      "295\n",
      "['G:/OneDrive - Ingenio Azucarero Guabira S.A/_DATOS_PYTHON/_tes_pdf/296.pdf', 'G:/Ingenio Azucarero Guabira S.A/UTEA - SEMANAL - AVANCE COSECHA/2023/ANALISIS DE CAÑA EN CAMPO 2023/REPORTE_AVANCE_COSECHA/PLANOS_2/PLANO_806.pdf', 'G:/Ingenio Azucarero Guabira S.A/UTEA - SEMANAL - AVANCE COSECHA/2023/ANALISIS DE CAÑA EN CAMPO 2023/REPORTE_AVANCE_COSECHA/PLANOS_2/PLANO_807.pdf']\n",
      "-*************************************\n",
      "296\n",
      "['G:/OneDrive - Ingenio Azucarero Guabira S.A/_DATOS_PYTHON/_tes_pdf/297.pdf', 'G:/Ingenio Azucarero Guabira S.A/UTEA - SEMANAL - AVANCE COSECHA/2023/ANALISIS DE CAÑA EN CAMPO 2023/REPORTE_AVANCE_COSECHA/PLANOS_2/PLANO_741.pdf', 'G:/Ingenio Azucarero Guabira S.A/UTEA - SEMANAL - AVANCE COSECHA/2023/ANALISIS DE CAÑA EN CAMPO 2023/REPORTE_AVANCE_COSECHA/PLANOS_2/PLANO_1542.pdf', 'G:/Ingenio Azucarero Guabira S.A/UTEA - SEMANAL - AVANCE COSECHA/2023/ANALISIS DE CAÑA EN CAMPO 2023/REPORTE_AVANCE_COSECHA/PLANOS_2/PLANO_71.pdf', 'G:/Ingenio Azucarero Guabira S.A/UTEA - SEMANAL - AVANCE COSECHA/2023/ANALISIS DE CAÑA EN CAMPO 2023/REPORTE_AVANCE_COSECHA/PLANOS_2/PLANO_614.pdf', 'G:/Ingenio Azucarero Guabira S.A/UTEA - SEMANAL - AVANCE COSECHA/2023/ANALISIS DE CAÑA EN CAMPO 2023/REPORTE_AVANCE_COSECHA/PLANOS_2/PLANO_615.pdf', 'G:/Ingenio Azucarero Guabira S.A/UTEA - SEMANAL - AVANCE COSECHA/2023/ANALISIS DE CAÑA EN CAMPO 2023/REPORTE_AVANCE_COSECHA/PLANOS_2/PLANO_618.pdf', 'G:/Ingenio Azucarero Guabira S.A/UTEA - SEMANAL - AVANCE COSECHA/2023/ANALISIS DE CAÑA EN CAMPO 2023/REPORTE_AVANCE_COSECHA/PLANOS_2/PLANO_619.pdf', 'G:/Ingenio Azucarero Guabira S.A/UTEA - SEMANAL - AVANCE COSECHA/2023/ANALISIS DE CAÑA EN CAMPO 2023/REPORTE_AVANCE_COSECHA/PLANOS_2/PLANO_617.pdf', 'G:/Ingenio Azucarero Guabira S.A/UTEA - SEMANAL - AVANCE COSECHA/2023/ANALISIS DE CAÑA EN CAMPO 2023/REPORTE_AVANCE_COSECHA/PLANOS_2/PLANO_616.pdf', 'G:/Ingenio Azucarero Guabira S.A/UTEA - SEMANAL - AVANCE COSECHA/2023/ANALISIS DE CAÑA EN CAMPO 2023/REPORTE_AVANCE_COSECHA/PLANOS_2/PLANO_620.pdf', 'G:/Ingenio Azucarero Guabira S.A/UTEA - SEMANAL - AVANCE COSECHA/2023/ANALISIS DE CAÑA EN CAMPO 2023/REPORTE_AVANCE_COSECHA/PLANOS_2/PLANO_621.pdf', 'G:/Ingenio Azucarero Guabira S.A/UTEA - SEMANAL - AVANCE COSECHA/2023/ANALISIS DE CAÑA EN CAMPO 2023/REPORTE_AVANCE_COSECHA/PLANOS_2/PLANO_1648.pdf', 'G:/Ingenio Azucarero Guabira S.A/UTEA - SEMANAL - AVANCE COSECHA/2023/ANALISIS DE CAÑA EN CAMPO 2023/REPORTE_AVANCE_COSECHA/PLANOS_2/PLANO_1649.pdf', 'G:/Ingenio Azucarero Guabira S.A/UTEA - SEMANAL - AVANCE COSECHA/2023/ANALISIS DE CAÑA EN CAMPO 2023/REPORTE_AVANCE_COSECHA/PLANOS_2/PLANO_1464.pdf', 'G:/Ingenio Azucarero Guabira S.A/UTEA - SEMANAL - AVANCE COSECHA/2023/ANALISIS DE CAÑA EN CAMPO 2023/REPORTE_AVANCE_COSECHA/PLANOS_2/PLANO_1791.pdf']\n",
      "-*************************************\n",
      "297\n",
      "['G:/OneDrive - Ingenio Azucarero Guabira S.A/_DATOS_PYTHON/_tes_pdf/298.pdf', 'G:/Ingenio Azucarero Guabira S.A/UTEA - SEMANAL - AVANCE COSECHA/2023/ANALISIS DE CAÑA EN CAMPO 2023/REPORTE_AVANCE_COSECHA/PLANOS_2/PLANO_768.pdf', 'G:/Ingenio Azucarero Guabira S.A/UTEA - SEMANAL - AVANCE COSECHA/2023/ANALISIS DE CAÑA EN CAMPO 2023/REPORTE_AVANCE_COSECHA/PLANOS_2/PLANO_769.pdf', 'G:/Ingenio Azucarero Guabira S.A/UTEA - SEMANAL - AVANCE COSECHA/2023/ANALISIS DE CAÑA EN CAMPO 2023/REPORTE_AVANCE_COSECHA/PLANOS_2/PLANO_770.pdf']\n",
      "-*************************************\n",
      "298\n",
      "['G:/OneDrive - Ingenio Azucarero Guabira S.A/_DATOS_PYTHON/_tes_pdf/299.pdf', 'G:/Ingenio Azucarero Guabira S.A/UTEA - SEMANAL - AVANCE COSECHA/2023/ANALISIS DE CAÑA EN CAMPO 2023/REPORTE_AVANCE_COSECHA/PLANOS_2/PLANO_777.pdf', 'G:/Ingenio Azucarero Guabira S.A/UTEA - SEMANAL - AVANCE COSECHA/2023/ANALISIS DE CAÑA EN CAMPO 2023/REPORTE_AVANCE_COSECHA/PLANOS_2/PLANO_727.pdf']\n",
      "-*************************************\n",
      "299\n",
      "['G:/OneDrive - Ingenio Azucarero Guabira S.A/_DATOS_PYTHON/_tes_pdf/300.pdf', 'G:/Ingenio Azucarero Guabira S.A/UTEA - SEMANAL - AVANCE COSECHA/2023/ANALISIS DE CAÑA EN CAMPO 2023/REPORTE_AVANCE_COSECHA/PLANOS_2/PLANO_1475.pdf', 'G:/Ingenio Azucarero Guabira S.A/UTEA - SEMANAL - AVANCE COSECHA/2023/ANALISIS DE CAÑA EN CAMPO 2023/REPORTE_AVANCE_COSECHA/PLANOS_2/PLANO_677.pdf']\n",
      "-*************************************\n",
      "300\n",
      "['G:/OneDrive - Ingenio Azucarero Guabira S.A/_DATOS_PYTHON/_tes_pdf/301.pdf', 'G:/Ingenio Azucarero Guabira S.A/UTEA - SEMANAL - AVANCE COSECHA/2023/ANALISIS DE CAÑA EN CAMPO 2023/REPORTE_AVANCE_COSECHA/PLANOS_2/PLANO_673.pdf', 'G:/Ingenio Azucarero Guabira S.A/UTEA - SEMANAL - AVANCE COSECHA/2023/ANALISIS DE CAÑA EN CAMPO 2023/REPORTE_AVANCE_COSECHA/PLANOS_2/PLANO_646.pdf', 'G:/Ingenio Azucarero Guabira S.A/UTEA - SEMANAL - AVANCE COSECHA/2023/ANALISIS DE CAÑA EN CAMPO 2023/REPORTE_AVANCE_COSECHA/PLANOS_2/PLANO_744.pdf', 'G:/Ingenio Azucarero Guabira S.A/UTEA - SEMANAL - AVANCE COSECHA/2023/ANALISIS DE CAÑA EN CAMPO 2023/REPORTE_AVANCE_COSECHA/PLANOS_2/PLANO_616.pdf', 'G:/Ingenio Azucarero Guabira S.A/UTEA - SEMANAL - AVANCE COSECHA/2023/ANALISIS DE CAÑA EN CAMPO 2023/REPORTE_AVANCE_COSECHA/PLANOS_2/PLANO_622.pdf', 'G:/Ingenio Azucarero Guabira S.A/UTEA - SEMANAL - AVANCE COSECHA/2023/ANALISIS DE CAÑA EN CAMPO 2023/REPORTE_AVANCE_COSECHA/PLANOS_2/PLANO_367.pdf', 'G:/Ingenio Azucarero Guabira S.A/UTEA - SEMANAL - AVANCE COSECHA/2023/ANALISIS DE CAÑA EN CAMPO 2023/REPORTE_AVANCE_COSECHA/PLANOS_2/PLANO_1136.pdf', 'G:/Ingenio Azucarero Guabira S.A/UTEA - SEMANAL - AVANCE COSECHA/2023/ANALISIS DE CAÑA EN CAMPO 2023/REPORTE_AVANCE_COSECHA/PLANOS_2/PLANO_666.pdf', 'G:/Ingenio Azucarero Guabira S.A/UTEA - SEMANAL - AVANCE COSECHA/2023/ANALISIS DE CAÑA EN CAMPO 2023/REPORTE_AVANCE_COSECHA/PLANOS_2/PLANO_636.pdf', 'G:/Ingenio Azucarero Guabira S.A/UTEA - SEMANAL - AVANCE COSECHA/2023/ANALISIS DE CAÑA EN CAMPO 2023/REPORTE_AVANCE_COSECHA/PLANOS_2/PLANO_637.pdf']\n",
      "-*************************************\n",
      "301\n",
      "['G:/OneDrive - Ingenio Azucarero Guabira S.A/_DATOS_PYTHON/_tes_pdf/303.pdf', 'G:/Ingenio Azucarero Guabira S.A/UTEA - SEMANAL - AVANCE COSECHA/2023/ANALISIS DE CAÑA EN CAMPO 2023/REPORTE_AVANCE_COSECHA/PLANOS_2/PLANO_804.pdf', 'G:/Ingenio Azucarero Guabira S.A/UTEA - SEMANAL - AVANCE COSECHA/2023/ANALISIS DE CAÑA EN CAMPO 2023/REPORTE_AVANCE_COSECHA/PLANOS_2/PLANO_811.pdf', 'G:/Ingenio Azucarero Guabira S.A/UTEA - SEMANAL - AVANCE COSECHA/2023/ANALISIS DE CAÑA EN CAMPO 2023/REPORTE_AVANCE_COSECHA/PLANOS_2/PLANO_975.pdf', 'G:/Ingenio Azucarero Guabira S.A/UTEA - SEMANAL - AVANCE COSECHA/2023/ANALISIS DE CAÑA EN CAMPO 2023/REPORTE_AVANCE_COSECHA/PLANOS_2/PLANO_976.pdf', 'G:/Ingenio Azucarero Guabira S.A/UTEA - SEMANAL - AVANCE COSECHA/2023/ANALISIS DE CAÑA EN CAMPO 2023/REPORTE_AVANCE_COSECHA/PLANOS_2/PLANO_1432.pdf']\n",
      "-*************************************\n",
      "303\n",
      "['G:/OneDrive - Ingenio Azucarero Guabira S.A/_DATOS_PYTHON/_tes_pdf/304.pdf', 'G:/Ingenio Azucarero Guabira S.A/UTEA - SEMANAL - AVANCE COSECHA/2023/ANALISIS DE CAÑA EN CAMPO 2023/REPORTE_AVANCE_COSECHA/PLANOS_2/PLANO_647.pdf', 'G:/Ingenio Azucarero Guabira S.A/UTEA - SEMANAL - AVANCE COSECHA/2023/ANALISIS DE CAÑA EN CAMPO 2023/REPORTE_AVANCE_COSECHA/PLANOS_2/PLANO_663.pdf', 'G:/Ingenio Azucarero Guabira S.A/UTEA - SEMANAL - AVANCE COSECHA/2023/ANALISIS DE CAÑA EN CAMPO 2023/REPORTE_AVANCE_COSECHA/PLANOS_2/PLANO_1005.pdf', 'G:/Ingenio Azucarero Guabira S.A/UTEA - SEMANAL - AVANCE COSECHA/2023/ANALISIS DE CAÑA EN CAMPO 2023/REPORTE_AVANCE_COSECHA/PLANOS_2/PLANO_1457.pdf', 'G:/Ingenio Azucarero Guabira S.A/UTEA - SEMANAL - AVANCE COSECHA/2023/ANALISIS DE CAÑA EN CAMPO 2023/REPORTE_AVANCE_COSECHA/PLANOS_2/PLANO_659.pdf', 'G:/Ingenio Azucarero Guabira S.A/UTEA - SEMANAL - AVANCE COSECHA/2023/ANALISIS DE CAÑA EN CAMPO 2023/REPORTE_AVANCE_COSECHA/PLANOS_2/PLANO_660.pdf', 'G:/Ingenio Azucarero Guabira S.A/UTEA - SEMANAL - AVANCE COSECHA/2023/ANALISIS DE CAÑA EN CAMPO 2023/REPORTE_AVANCE_COSECHA/PLANOS_2/PLANO_661.pdf', 'G:/Ingenio Azucarero Guabira S.A/UTEA - SEMANAL - AVANCE COSECHA/2023/ANALISIS DE CAÑA EN CAMPO 2023/REPORTE_AVANCE_COSECHA/PLANOS_2/PLANO_662.pdf', 'G:/Ingenio Azucarero Guabira S.A/UTEA - SEMANAL - AVANCE COSECHA/2023/ANALISIS DE CAÑA EN CAMPO 2023/REPORTE_AVANCE_COSECHA/PLANOS_2/PLANO_1014.pdf', 'G:/Ingenio Azucarero Guabira S.A/UTEA - SEMANAL - AVANCE COSECHA/2023/ANALISIS DE CAÑA EN CAMPO 2023/REPORTE_AVANCE_COSECHA/PLANOS_2/PLANO_665.pdf', 'G:/Ingenio Azucarero Guabira S.A/UTEA - SEMANAL - AVANCE COSECHA/2023/ANALISIS DE CAÑA EN CAMPO 2023/REPORTE_AVANCE_COSECHA/PLANOS_2/PLANO_666.pdf', 'G:/Ingenio Azucarero Guabira S.A/UTEA - SEMANAL - AVANCE COSECHA/2023/ANALISIS DE CAÑA EN CAMPO 2023/REPORTE_AVANCE_COSECHA/PLANOS_2/PLANO_348.pdf', 'G:/Ingenio Azucarero Guabira S.A/UTEA - SEMANAL - AVANCE COSECHA/2023/ANALISIS DE CAÑA EN CAMPO 2023/REPORTE_AVANCE_COSECHA/PLANOS_2/PLANO_349.pdf']\n",
      "-*************************************\n",
      "304\n",
      "['G:/OneDrive - Ingenio Azucarero Guabira S.A/_DATOS_PYTHON/_tes_pdf/305.pdf', 'G:/Ingenio Azucarero Guabira S.A/UTEA - SEMANAL - AVANCE COSECHA/2023/ANALISIS DE CAÑA EN CAMPO 2023/REPORTE_AVANCE_COSECHA/PLANOS_2/PLANO_1667.pdf', 'G:/Ingenio Azucarero Guabira S.A/UTEA - SEMANAL - AVANCE COSECHA/2023/ANALISIS DE CAÑA EN CAMPO 2023/REPORTE_AVANCE_COSECHA/PLANOS_2/PLANO_764.pdf', 'G:/Ingenio Azucarero Guabira S.A/UTEA - SEMANAL - AVANCE COSECHA/2023/ANALISIS DE CAÑA EN CAMPO 2023/REPORTE_AVANCE_COSECHA/PLANOS_2/PLANO_765.pdf', 'G:/Ingenio Azucarero Guabira S.A/UTEA - SEMANAL - AVANCE COSECHA/2023/ANALISIS DE CAÑA EN CAMPO 2023/REPORTE_AVANCE_COSECHA/PLANOS_2/PLANO_1014.pdf']\n",
      "-*************************************\n",
      "305\n",
      "['G:/OneDrive - Ingenio Azucarero Guabira S.A/_DATOS_PYTHON/_tes_pdf/306.pdf', 'G:/Ingenio Azucarero Guabira S.A/UTEA - SEMANAL - AVANCE COSECHA/2023/ANALISIS DE CAÑA EN CAMPO 2023/REPORTE_AVANCE_COSECHA/PLANOS_2/PLANO_947.pdf', 'G:/Ingenio Azucarero Guabira S.A/UTEA - SEMANAL - AVANCE COSECHA/2023/ANALISIS DE CAÑA EN CAMPO 2023/REPORTE_AVANCE_COSECHA/PLANOS_2/PLANO_1052.pdf']\n",
      "-*************************************\n",
      "306\n",
      "['G:/OneDrive - Ingenio Azucarero Guabira S.A/_DATOS_PYTHON/_tes_pdf/307.pdf', 'G:/Ingenio Azucarero Guabira S.A/UTEA - SEMANAL - AVANCE COSECHA/2023/ANALISIS DE CAÑA EN CAMPO 2023/REPORTE_AVANCE_COSECHA/PLANOS_2/PLANO_762.pdf', 'G:/Ingenio Azucarero Guabira S.A/UTEA - SEMANAL - AVANCE COSECHA/2023/ANALISIS DE CAÑA EN CAMPO 2023/REPORTE_AVANCE_COSECHA/PLANOS_2/PLANO_1051.pdf', 'G:/Ingenio Azucarero Guabira S.A/UTEA - SEMANAL - AVANCE COSECHA/2023/ANALISIS DE CAÑA EN CAMPO 2023/REPORTE_AVANCE_COSECHA/PLANOS_2/PLANO_763.pdf']\n",
      "-*************************************\n",
      "307\n",
      "['G:/OneDrive - Ingenio Azucarero Guabira S.A/_DATOS_PYTHON/_tes_pdf/308.pdf', 'G:/Ingenio Azucarero Guabira S.A/UTEA - SEMANAL - AVANCE COSECHA/2023/ANALISIS DE CAÑA EN CAMPO 2023/REPORTE_AVANCE_COSECHA/PLANOS_2/PLANO_1302.pdf']\n",
      "-*************************************\n",
      "308\n",
      "['G:/OneDrive - Ingenio Azucarero Guabira S.A/_DATOS_PYTHON/_tes_pdf/309.pdf', 'G:/Ingenio Azucarero Guabira S.A/UTEA - SEMANAL - AVANCE COSECHA/2023/ANALISIS DE CAÑA EN CAMPO 2023/REPORTE_AVANCE_COSECHA/PLANOS_2/PLANO_678.pdf', 'G:/Ingenio Azucarero Guabira S.A/UTEA - SEMANAL - AVANCE COSECHA/2023/ANALISIS DE CAÑA EN CAMPO 2023/REPORTE_AVANCE_COSECHA/PLANOS_2/PLANO_694.pdf', 'G:/Ingenio Azucarero Guabira S.A/UTEA - SEMANAL - AVANCE COSECHA/2023/ANALISIS DE CAÑA EN CAMPO 2023/REPORTE_AVANCE_COSECHA/PLANOS_2/PLANO_679.pdf']\n",
      "-*************************************\n",
      "309\n",
      "['G:/OneDrive - Ingenio Azucarero Guabira S.A/_DATOS_PYTHON/_tes_pdf/310.pdf', 'G:/Ingenio Azucarero Guabira S.A/UTEA - SEMANAL - AVANCE COSECHA/2023/ANALISIS DE CAÑA EN CAMPO 2023/REPORTE_AVANCE_COSECHA/PLANOS_2/PLANO_384.pdf', 'G:/Ingenio Azucarero Guabira S.A/UTEA - SEMANAL - AVANCE COSECHA/2023/ANALISIS DE CAÑA EN CAMPO 2023/REPORTE_AVANCE_COSECHA/PLANOS_2/PLANO_386.pdf', 'G:/Ingenio Azucarero Guabira S.A/UTEA - SEMANAL - AVANCE COSECHA/2023/ANALISIS DE CAÑA EN CAMPO 2023/REPORTE_AVANCE_COSECHA/PLANOS_2/PLANO_819.pdf', 'G:/Ingenio Azucarero Guabira S.A/UTEA - SEMANAL - AVANCE COSECHA/2023/ANALISIS DE CAÑA EN CAMPO 2023/REPORTE_AVANCE_COSECHA/PLANOS_2/PLANO_820.pdf', 'G:/Ingenio Azucarero Guabira S.A/UTEA - SEMANAL - AVANCE COSECHA/2023/ANALISIS DE CAÑA EN CAMPO 2023/REPORTE_AVANCE_COSECHA/PLANOS_2/PLANO_954.pdf', 'G:/Ingenio Azucarero Guabira S.A/UTEA - SEMANAL - AVANCE COSECHA/2023/ANALISIS DE CAÑA EN CAMPO 2023/REPORTE_AVANCE_COSECHA/PLANOS_2/PLANO_829.pdf']\n",
      "-*************************************\n",
      "310\n",
      "['G:/OneDrive - Ingenio Azucarero Guabira S.A/_DATOS_PYTHON/_tes_pdf/311.pdf', 'G:/Ingenio Azucarero Guabira S.A/UTEA - SEMANAL - AVANCE COSECHA/2023/ANALISIS DE CAÑA EN CAMPO 2023/REPORTE_AVANCE_COSECHA/PLANOS_2/PLANO_1108.pdf']\n",
      "-*************************************\n",
      "311\n",
      "['G:/OneDrive - Ingenio Azucarero Guabira S.A/_DATOS_PYTHON/_tes_pdf/312.pdf', 'G:/Ingenio Azucarero Guabira S.A/UTEA - SEMANAL - AVANCE COSECHA/2023/ANALISIS DE CAÑA EN CAMPO 2023/REPORTE_AVANCE_COSECHA/PLANOS_2/PLANO_1148.pdf', 'G:/Ingenio Azucarero Guabira S.A/UTEA - SEMANAL - AVANCE COSECHA/2023/ANALISIS DE CAÑA EN CAMPO 2023/REPORTE_AVANCE_COSECHA/PLANOS_2/PLANO_278.pdf', 'G:/Ingenio Azucarero Guabira S.A/UTEA - SEMANAL - AVANCE COSECHA/2023/ANALISIS DE CAÑA EN CAMPO 2023/REPORTE_AVANCE_COSECHA/PLANOS_2/PLANO_1871.pdf']\n",
      "-*************************************\n",
      "312\n",
      "['G:/OneDrive - Ingenio Azucarero Guabira S.A/_DATOS_PYTHON/_tes_pdf/313.pdf', 'G:/Ingenio Azucarero Guabira S.A/UTEA - SEMANAL - AVANCE COSECHA/2023/ANALISIS DE CAÑA EN CAMPO 2023/REPORTE_AVANCE_COSECHA/PLANOS_2/PLANO_442.pdf']\n",
      "-*************************************\n",
      "313\n",
      "['G:/OneDrive - Ingenio Azucarero Guabira S.A/_DATOS_PYTHON/_tes_pdf/314.pdf', 'G:/Ingenio Azucarero Guabira S.A/UTEA - SEMANAL - AVANCE COSECHA/2023/ANALISIS DE CAÑA EN CAMPO 2023/REPORTE_AVANCE_COSECHA/PLANOS_2/PLANO_771.pdf']\n",
      "-*************************************\n",
      "314\n",
      "['G:/OneDrive - Ingenio Azucarero Guabira S.A/_DATOS_PYTHON/_tes_pdf/315.pdf', 'G:/Ingenio Azucarero Guabira S.A/UTEA - SEMANAL - AVANCE COSECHA/2023/ANALISIS DE CAÑA EN CAMPO 2023/REPORTE_AVANCE_COSECHA/PLANOS_2/PLANO_110.pdf']\n",
      "-*************************************\n",
      "315\n",
      "['G:/OneDrive - Ingenio Azucarero Guabira S.A/_DATOS_PYTHON/_tes_pdf/316.pdf', 'G:/Ingenio Azucarero Guabira S.A/UTEA - SEMANAL - AVANCE COSECHA/2023/ANALISIS DE CAÑA EN CAMPO 2023/REPORTE_AVANCE_COSECHA/PLANOS_2/PLANO_984.pdf', 'G:/Ingenio Azucarero Guabira S.A/UTEA - SEMANAL - AVANCE COSECHA/2023/ANALISIS DE CAÑA EN CAMPO 2023/REPORTE_AVANCE_COSECHA/PLANOS_2/PLANO_980.pdf']\n",
      "-*************************************\n",
      "316\n",
      "['G:/OneDrive - Ingenio Azucarero Guabira S.A/_DATOS_PYTHON/_tes_pdf/317.pdf', 'G:/Ingenio Azucarero Guabira S.A/UTEA - SEMANAL - AVANCE COSECHA/2023/ANALISIS DE CAÑA EN CAMPO 2023/REPORTE_AVANCE_COSECHA/PLANOS_2/PLANO_832.pdf']\n",
      "-*************************************\n",
      "317\n",
      "['G:/OneDrive - Ingenio Azucarero Guabira S.A/_DATOS_PYTHON/_tes_pdf/318.pdf', 'G:/Ingenio Azucarero Guabira S.A/UTEA - SEMANAL - AVANCE COSECHA/2023/ANALISIS DE CAÑA EN CAMPO 2023/REPORTE_AVANCE_COSECHA/PLANOS_2/PLANO_1065.pdf', 'G:/Ingenio Azucarero Guabira S.A/UTEA - SEMANAL - AVANCE COSECHA/2023/ANALISIS DE CAÑA EN CAMPO 2023/REPORTE_AVANCE_COSECHA/PLANOS_2/PLANO_1173.pdf']\n",
      "-*************************************\n",
      "318\n",
      "['G:/OneDrive - Ingenio Azucarero Guabira S.A/_DATOS_PYTHON/_tes_pdf/319.pdf', 'G:/Ingenio Azucarero Guabira S.A/UTEA - SEMANAL - AVANCE COSECHA/2023/ANALISIS DE CAÑA EN CAMPO 2023/REPORTE_AVANCE_COSECHA/PLANOS_2/PLANO_449.pdf', 'G:/Ingenio Azucarero Guabira S.A/UTEA - SEMANAL - AVANCE COSECHA/2023/ANALISIS DE CAÑA EN CAMPO 2023/REPORTE_AVANCE_COSECHA/PLANOS_2/PLANO_1931.pdf', 'G:/Ingenio Azucarero Guabira S.A/UTEA - SEMANAL - AVANCE COSECHA/2023/ANALISIS DE CAÑA EN CAMPO 2023/REPORTE_AVANCE_COSECHA/PLANOS_2/PLANO_1262.pdf']\n",
      "-*************************************\n",
      "319\n",
      "['G:/OneDrive - Ingenio Azucarero Guabira S.A/_DATOS_PYTHON/_tes_pdf/320.pdf', 'G:/Ingenio Azucarero Guabira S.A/UTEA - SEMANAL - AVANCE COSECHA/2023/ANALISIS DE CAÑA EN CAMPO 2023/REPORTE_AVANCE_COSECHA/PLANOS_2/PLANO_879.pdf']\n",
      "-*************************************\n",
      "320\n",
      "['G:/OneDrive - Ingenio Azucarero Guabira S.A/_DATOS_PYTHON/_tes_pdf/321.pdf', 'G:/Ingenio Azucarero Guabira S.A/UTEA - SEMANAL - AVANCE COSECHA/2023/ANALISIS DE CAÑA EN CAMPO 2023/REPORTE_AVANCE_COSECHA/PLANOS_2/PLANO_1584.pdf', 'G:/Ingenio Azucarero Guabira S.A/UTEA - SEMANAL - AVANCE COSECHA/2023/ANALISIS DE CAÑA EN CAMPO 2023/REPORTE_AVANCE_COSECHA/PLANOS_2/PLANO_1583.pdf']\n",
      "-*************************************\n",
      "321\n",
      "['G:/OneDrive - Ingenio Azucarero Guabira S.A/_DATOS_PYTHON/_tes_pdf/322.pdf', 'G:/Ingenio Azucarero Guabira S.A/UTEA - SEMANAL - AVANCE COSECHA/2023/ANALISIS DE CAÑA EN CAMPO 2023/REPORTE_AVANCE_COSECHA/PLANOS_2/PLANO_1944.pdf', 'G:/Ingenio Azucarero Guabira S.A/UTEA - SEMANAL - AVANCE COSECHA/2023/ANALISIS DE CAÑA EN CAMPO 2023/REPORTE_AVANCE_COSECHA/PLANOS_2/PLANO_1175.pdf', 'G:/Ingenio Azucarero Guabira S.A/UTEA - SEMANAL - AVANCE COSECHA/2023/ANALISIS DE CAÑA EN CAMPO 2023/REPORTE_AVANCE_COSECHA/PLANOS_2/PLANO_823.pdf']\n",
      "-*************************************\n",
      "322\n",
      "['G:/OneDrive - Ingenio Azucarero Guabira S.A/_DATOS_PYTHON/_tes_pdf/323.pdf', 'G:/Ingenio Azucarero Guabira S.A/UTEA - SEMANAL - AVANCE COSECHA/2023/ANALISIS DE CAÑA EN CAMPO 2023/REPORTE_AVANCE_COSECHA/PLANOS_2/PLANO_1096.pdf']\n",
      "-*************************************\n",
      "323\n",
      "['G:/OneDrive - Ingenio Azucarero Guabira S.A/_DATOS_PYTHON/_tes_pdf/324.pdf', 'G:/Ingenio Azucarero Guabira S.A/UTEA - SEMANAL - AVANCE COSECHA/2023/ANALISIS DE CAÑA EN CAMPO 2023/REPORTE_AVANCE_COSECHA/PLANOS_2/PLANO_825.pdf', 'G:/Ingenio Azucarero Guabira S.A/UTEA - SEMANAL - AVANCE COSECHA/2023/ANALISIS DE CAÑA EN CAMPO 2023/REPORTE_AVANCE_COSECHA/PLANOS_2/PLANO_827.pdf', 'G:/Ingenio Azucarero Guabira S.A/UTEA - SEMANAL - AVANCE COSECHA/2023/ANALISIS DE CAÑA EN CAMPO 2023/REPORTE_AVANCE_COSECHA/PLANOS_2/PLANO_828.pdf', 'G:/Ingenio Azucarero Guabira S.A/UTEA - SEMANAL - AVANCE COSECHA/2023/ANALISIS DE CAÑA EN CAMPO 2023/REPORTE_AVANCE_COSECHA/PLANOS_2/PLANO_1263.pdf']\n",
      "-*************************************\n",
      "324\n",
      "['G:/OneDrive - Ingenio Azucarero Guabira S.A/_DATOS_PYTHON/_tes_pdf/326.pdf', 'G:/Ingenio Azucarero Guabira S.A/UTEA - SEMANAL - AVANCE COSECHA/2023/ANALISIS DE CAÑA EN CAMPO 2023/REPORTE_AVANCE_COSECHA/PLANOS_2/PLANO_648.pdf', 'G:/Ingenio Azucarero Guabira S.A/UTEA - SEMANAL - AVANCE COSECHA/2023/ANALISIS DE CAÑA EN CAMPO 2023/REPORTE_AVANCE_COSECHA/PLANOS_2/PLANO_649.pdf', 'G:/Ingenio Azucarero Guabira S.A/UTEA - SEMANAL - AVANCE COSECHA/2023/ANALISIS DE CAÑA EN CAMPO 2023/REPORTE_AVANCE_COSECHA/PLANOS_2/PLANO_956.pdf', 'G:/Ingenio Azucarero Guabira S.A/UTEA - SEMANAL - AVANCE COSECHA/2023/ANALISIS DE CAÑA EN CAMPO 2023/REPORTE_AVANCE_COSECHA/PLANOS_2/PLANO_957.pdf']\n",
      "-*************************************\n",
      "326\n",
      "['G:/OneDrive - Ingenio Azucarero Guabira S.A/_DATOS_PYTHON/_tes_pdf/327.pdf', 'G:/Ingenio Azucarero Guabira S.A/UTEA - SEMANAL - AVANCE COSECHA/2023/ANALISIS DE CAÑA EN CAMPO 2023/REPORTE_AVANCE_COSECHA/PLANOS_2/PLANO_805.pdf']\n",
      "-*************************************\n",
      "327\n",
      "['G:/OneDrive - Ingenio Azucarero Guabira S.A/_DATOS_PYTHON/_tes_pdf/328.pdf', 'G:/Ingenio Azucarero Guabira S.A/UTEA - SEMANAL - AVANCE COSECHA/2023/ANALISIS DE CAÑA EN CAMPO 2023/REPORTE_AVANCE_COSECHA/PLANOS_2/PLANO_1721.pdf', 'G:/Ingenio Azucarero Guabira S.A/UTEA - SEMANAL - AVANCE COSECHA/2023/ANALISIS DE CAÑA EN CAMPO 2023/REPORTE_AVANCE_COSECHA/PLANOS_2/PLANO_178.pdf', 'G:/Ingenio Azucarero Guabira S.A/UTEA - SEMANAL - AVANCE COSECHA/2023/ANALISIS DE CAÑA EN CAMPO 2023/REPORTE_AVANCE_COSECHA/PLANOS_2/PLANO_179.pdf', 'G:/Ingenio Azucarero Guabira S.A/UTEA - SEMANAL - AVANCE COSECHA/2023/ANALISIS DE CAÑA EN CAMPO 2023/REPORTE_AVANCE_COSECHA/PLANOS_2/PLANO_1670.pdf']\n",
      "-*************************************\n",
      "328\n",
      "['G:/OneDrive - Ingenio Azucarero Guabira S.A/_DATOS_PYTHON/_tes_pdf/329.pdf', 'G:/Ingenio Azucarero Guabira S.A/UTEA - SEMANAL - AVANCE COSECHA/2023/ANALISIS DE CAÑA EN CAMPO 2023/REPORTE_AVANCE_COSECHA/PLANOS_2/PLANO_1016.pdf', 'G:/Ingenio Azucarero Guabira S.A/UTEA - SEMANAL - AVANCE COSECHA/2023/ANALISIS DE CAÑA EN CAMPO 2023/REPORTE_AVANCE_COSECHA/PLANOS_2/PLANO_1168.pdf', 'G:/Ingenio Azucarero Guabira S.A/UTEA - SEMANAL - AVANCE COSECHA/2023/ANALISIS DE CAÑA EN CAMPO 2023/REPORTE_AVANCE_COSECHA/PLANOS_2/PLANO_15.pdf']\n",
      "-*************************************\n",
      "329\n",
      "['G:/OneDrive - Ingenio Azucarero Guabira S.A/_DATOS_PYTHON/_tes_pdf/330.pdf', 'G:/Ingenio Azucarero Guabira S.A/UTEA - SEMANAL - AVANCE COSECHA/2023/ANALISIS DE CAÑA EN CAMPO 2023/REPORTE_AVANCE_COSECHA/PLANOS_2/PLANO_1608.pdf', 'G:/Ingenio Azucarero Guabira S.A/UTEA - SEMANAL - AVANCE COSECHA/2023/ANALISIS DE CAÑA EN CAMPO 2023/REPORTE_AVANCE_COSECHA/PLANOS_2/PLANO_1651.pdf', 'G:/Ingenio Azucarero Guabira S.A/UTEA - SEMANAL - AVANCE COSECHA/2023/ANALISIS DE CAÑA EN CAMPO 2023/REPORTE_AVANCE_COSECHA/PLANOS_2/PLANO_93.pdf', 'G:/Ingenio Azucarero Guabira S.A/UTEA - SEMANAL - AVANCE COSECHA/2023/ANALISIS DE CAÑA EN CAMPO 2023/REPORTE_AVANCE_COSECHA/PLANOS_2/PLANO_15.pdf']\n",
      "-*************************************\n",
      "330\n",
      "['G:/OneDrive - Ingenio Azucarero Guabira S.A/_DATOS_PYTHON/_tes_pdf/331.pdf', 'G:/Ingenio Azucarero Guabira S.A/UTEA - SEMANAL - AVANCE COSECHA/2023/ANALISIS DE CAÑA EN CAMPO 2023/REPORTE_AVANCE_COSECHA/PLANOS_2/PLANO_424.pdf', 'G:/Ingenio Azucarero Guabira S.A/UTEA - SEMANAL - AVANCE COSECHA/2023/ANALISIS DE CAÑA EN CAMPO 2023/REPORTE_AVANCE_COSECHA/PLANOS_2/PLANO_745.pdf', 'G:/Ingenio Azucarero Guabira S.A/UTEA - SEMANAL - AVANCE COSECHA/2023/ANALISIS DE CAÑA EN CAMPO 2023/REPORTE_AVANCE_COSECHA/PLANOS_2/PLANO_746.pdf', 'G:/Ingenio Azucarero Guabira S.A/UTEA - SEMANAL - AVANCE COSECHA/2023/ANALISIS DE CAÑA EN CAMPO 2023/REPORTE_AVANCE_COSECHA/PLANOS_2/PLANO_747.pdf', 'G:/Ingenio Azucarero Guabira S.A/UTEA - SEMANAL - AVANCE COSECHA/2023/ANALISIS DE CAÑA EN CAMPO 2023/REPORTE_AVANCE_COSECHA/PLANOS_2/PLANO_1553.pdf']\n",
      "-*************************************\n",
      "331\n",
      "['G:/OneDrive - Ingenio Azucarero Guabira S.A/_DATOS_PYTHON/_tes_pdf/332.pdf', 'G:/Ingenio Azucarero Guabira S.A/UTEA - SEMANAL - AVANCE COSECHA/2023/ANALISIS DE CAÑA EN CAMPO 2023/REPORTE_AVANCE_COSECHA/PLANOS_2/PLANO_1458.pdf', 'G:/Ingenio Azucarero Guabira S.A/UTEA - SEMANAL - AVANCE COSECHA/2023/ANALISIS DE CAÑA EN CAMPO 2023/REPORTE_AVANCE_COSECHA/PLANOS_2/PLANO_1186.pdf', 'G:/Ingenio Azucarero Guabira S.A/UTEA - SEMANAL - AVANCE COSECHA/2023/ANALISIS DE CAÑA EN CAMPO 2023/REPORTE_AVANCE_COSECHA/PLANOS_2/PLANO_1397.pdf', 'G:/Ingenio Azucarero Guabira S.A/UTEA - SEMANAL - AVANCE COSECHA/2023/ANALISIS DE CAÑA EN CAMPO 2023/REPORTE_AVANCE_COSECHA/PLANOS_2/PLANO_1166.pdf']\n",
      "-*************************************\n",
      "332\n",
      "['G:/OneDrive - Ingenio Azucarero Guabira S.A/_DATOS_PYTHON/_tes_pdf/335.pdf', 'G:/Ingenio Azucarero Guabira S.A/UTEA - SEMANAL - AVANCE COSECHA/2023/ANALISIS DE CAÑA EN CAMPO 2023/REPORTE_AVANCE_COSECHA/PLANOS_2/PLANO_552.pdf', 'G:/Ingenio Azucarero Guabira S.A/UTEA - SEMANAL - AVANCE COSECHA/2023/ANALISIS DE CAÑA EN CAMPO 2023/REPORTE_AVANCE_COSECHA/PLANOS_2/PLANO_1593.pdf', 'G:/Ingenio Azucarero Guabira S.A/UTEA - SEMANAL - AVANCE COSECHA/2023/ANALISIS DE CAÑA EN CAMPO 2023/REPORTE_AVANCE_COSECHA/PLANOS_2/PLANO_3.pdf', 'G:/Ingenio Azucarero Guabira S.A/UTEA - SEMANAL - AVANCE COSECHA/2023/ANALISIS DE CAÑA EN CAMPO 2023/REPORTE_AVANCE_COSECHA/PLANOS_2/PLANO_1523.pdf']\n",
      "-*************************************\n",
      "335\n",
      "['G:/OneDrive - Ingenio Azucarero Guabira S.A/_DATOS_PYTHON/_tes_pdf/336.pdf', 'G:/Ingenio Azucarero Guabira S.A/UTEA - SEMANAL - AVANCE COSECHA/2023/ANALISIS DE CAÑA EN CAMPO 2023/REPORTE_AVANCE_COSECHA/PLANOS_2/PLANO_429.pdf']\n",
      "-*************************************\n",
      "336\n",
      "['G:/OneDrive - Ingenio Azucarero Guabira S.A/_DATOS_PYTHON/_tes_pdf/339.pdf', 'G:/Ingenio Azucarero Guabira S.A/UTEA - SEMANAL - AVANCE COSECHA/2023/ANALISIS DE CAÑA EN CAMPO 2023/REPORTE_AVANCE_COSECHA/PLANOS_2/PLANO_974.pdf', 'G:/Ingenio Azucarero Guabira S.A/UTEA - SEMANAL - AVANCE COSECHA/2023/ANALISIS DE CAÑA EN CAMPO 2023/REPORTE_AVANCE_COSECHA/PLANOS_2/PLANO_742.pdf']\n",
      "-*************************************\n",
      "339\n",
      "['G:/OneDrive - Ingenio Azucarero Guabira S.A/_DATOS_PYTHON/_tes_pdf/340.pdf', 'G:/Ingenio Azucarero Guabira S.A/UTEA - SEMANAL - AVANCE COSECHA/2023/ANALISIS DE CAÑA EN CAMPO 2023/REPORTE_AVANCE_COSECHA/PLANOS_2/PLANO_1844.pdf', 'G:/Ingenio Azucarero Guabira S.A/UTEA - SEMANAL - AVANCE COSECHA/2023/ANALISIS DE CAÑA EN CAMPO 2023/REPORTE_AVANCE_COSECHA/PLANOS_2/PLANO_1845.pdf']\n",
      "-*************************************\n",
      "340\n",
      "['G:/OneDrive - Ingenio Azucarero Guabira S.A/_DATOS_PYTHON/_tes_pdf/342.pdf', 'G:/Ingenio Azucarero Guabira S.A/UTEA - SEMANAL - AVANCE COSECHA/2023/ANALISIS DE CAÑA EN CAMPO 2023/REPORTE_AVANCE_COSECHA/PLANOS_2/PLANO_1737.pdf', 'G:/Ingenio Azucarero Guabira S.A/UTEA - SEMANAL - AVANCE COSECHA/2023/ANALISIS DE CAÑA EN CAMPO 2023/REPORTE_AVANCE_COSECHA/PLANOS_2/PLANO_1738.pdf']\n",
      "-*************************************\n",
      "342\n",
      "['G:/OneDrive - Ingenio Azucarero Guabira S.A/_DATOS_PYTHON/_tes_pdf/343.pdf', 'G:/Ingenio Azucarero Guabira S.A/UTEA - SEMANAL - AVANCE COSECHA/2023/ANALISIS DE CAÑA EN CAMPO 2023/REPORTE_AVANCE_COSECHA/PLANOS_2/PLANO_1035.pdf']\n",
      "-*************************************\n",
      "343\n",
      "['G:/OneDrive - Ingenio Azucarero Guabira S.A/_DATOS_PYTHON/_tes_pdf/344.pdf', 'G:/Ingenio Azucarero Guabira S.A/UTEA - SEMANAL - AVANCE COSECHA/2023/ANALISIS DE CAÑA EN CAMPO 2023/REPORTE_AVANCE_COSECHA/PLANOS_2/PLANO_1539.pdf']\n",
      "-*************************************\n",
      "344\n",
      "['G:/OneDrive - Ingenio Azucarero Guabira S.A/_DATOS_PYTHON/_tes_pdf/345.pdf', 'G:/Ingenio Azucarero Guabira S.A/UTEA - SEMANAL - AVANCE COSECHA/2023/ANALISIS DE CAÑA EN CAMPO 2023/REPORTE_AVANCE_COSECHA/PLANOS_2/PLANO_1185.pdf', 'G:/Ingenio Azucarero Guabira S.A/UTEA - SEMANAL - AVANCE COSECHA/2023/ANALISIS DE CAÑA EN CAMPO 2023/REPORTE_AVANCE_COSECHA/PLANOS_2/PLANO_164.pdf', 'G:/Ingenio Azucarero Guabira S.A/UTEA - SEMANAL - AVANCE COSECHA/2023/ANALISIS DE CAÑA EN CAMPO 2023/REPORTE_AVANCE_COSECHA/PLANOS_2/PLANO_1084.pdf']\n",
      "-*************************************\n",
      "345\n",
      "['G:/OneDrive - Ingenio Azucarero Guabira S.A/_DATOS_PYTHON/_tes_pdf/346.pdf', 'G:/Ingenio Azucarero Guabira S.A/UTEA - SEMANAL - AVANCE COSECHA/2023/ANALISIS DE CAÑA EN CAMPO 2023/REPORTE_AVANCE_COSECHA/PLANOS_2/PLANO_706.pdf', 'G:/Ingenio Azucarero Guabira S.A/UTEA - SEMANAL - AVANCE COSECHA/2023/ANALISIS DE CAÑA EN CAMPO 2023/REPORTE_AVANCE_COSECHA/PLANOS_2/PLANO_1673.pdf', 'G:/Ingenio Azucarero Guabira S.A/UTEA - SEMANAL - AVANCE COSECHA/2023/ANALISIS DE CAÑA EN CAMPO 2023/REPORTE_AVANCE_COSECHA/PLANOS_2/PLANO_1674.pdf', 'G:/Ingenio Azucarero Guabira S.A/UTEA - SEMANAL - AVANCE COSECHA/2023/ANALISIS DE CAÑA EN CAMPO 2023/REPORTE_AVANCE_COSECHA/PLANOS_2/PLANO_1675.pdf', 'G:/Ingenio Azucarero Guabira S.A/UTEA - SEMANAL - AVANCE COSECHA/2023/ANALISIS DE CAÑA EN CAMPO 2023/REPORTE_AVANCE_COSECHA/PLANOS_2/PLANO_1676.pdf', 'G:/Ingenio Azucarero Guabira S.A/UTEA - SEMANAL - AVANCE COSECHA/2023/ANALISIS DE CAÑA EN CAMPO 2023/REPORTE_AVANCE_COSECHA/PLANOS_2/PLANO_1677.pdf']\n",
      "-*************************************\n",
      "346\n",
      "['G:/OneDrive - Ingenio Azucarero Guabira S.A/_DATOS_PYTHON/_tes_pdf/347.pdf', 'G:/Ingenio Azucarero Guabira S.A/UTEA - SEMANAL - AVANCE COSECHA/2023/ANALISIS DE CAÑA EN CAMPO 2023/REPORTE_AVANCE_COSECHA/PLANOS_2/PLANO_1865.pdf', 'G:/Ingenio Azucarero Guabira S.A/UTEA - SEMANAL - AVANCE COSECHA/2023/ANALISIS DE CAÑA EN CAMPO 2023/REPORTE_AVANCE_COSECHA/PLANOS_2/PLANO_1516.pdf', 'G:/Ingenio Azucarero Guabira S.A/UTEA - SEMANAL - AVANCE COSECHA/2023/ANALISIS DE CAÑA EN CAMPO 2023/REPORTE_AVANCE_COSECHA/PLANOS_2/PLANO_1518.pdf', 'G:/Ingenio Azucarero Guabira S.A/UTEA - SEMANAL - AVANCE COSECHA/2023/ANALISIS DE CAÑA EN CAMPO 2023/REPORTE_AVANCE_COSECHA/PLANOS_2/PLANO_1394.pdf', 'G:/Ingenio Azucarero Guabira S.A/UTEA - SEMANAL - AVANCE COSECHA/2023/ANALISIS DE CAÑA EN CAMPO 2023/REPORTE_AVANCE_COSECHA/PLANOS_2/PLANO_1050.pdf', 'G:/Ingenio Azucarero Guabira S.A/UTEA - SEMANAL - AVANCE COSECHA/2023/ANALISIS DE CAÑA EN CAMPO 2023/REPORTE_AVANCE_COSECHA/PLANOS_2/PLANO_571.pdf']\n",
      "-*************************************\n",
      "347\n",
      "['G:/OneDrive - Ingenio Azucarero Guabira S.A/_DATOS_PYTHON/_tes_pdf/348.pdf', 'G:/Ingenio Azucarero Guabira S.A/UTEA - SEMANAL - AVANCE COSECHA/2023/ANALISIS DE CAÑA EN CAMPO 2023/REPORTE_AVANCE_COSECHA/PLANOS_2/PLANO_1401.pdf', 'G:/Ingenio Azucarero Guabira S.A/UTEA - SEMANAL - AVANCE COSECHA/2023/ANALISIS DE CAÑA EN CAMPO 2023/REPORTE_AVANCE_COSECHA/PLANOS_2/PLANO_1402.pdf', 'G:/Ingenio Azucarero Guabira S.A/UTEA - SEMANAL - AVANCE COSECHA/2023/ANALISIS DE CAÑA EN CAMPO 2023/REPORTE_AVANCE_COSECHA/PLANOS_2/PLANO_1782.pdf']\n",
      "-*************************************\n",
      "348\n",
      "['G:/OneDrive - Ingenio Azucarero Guabira S.A/_DATOS_PYTHON/_tes_pdf/349.pdf', 'G:/Ingenio Azucarero Guabira S.A/UTEA - SEMANAL - AVANCE COSECHA/2023/ANALISIS DE CAÑA EN CAMPO 2023/REPORTE_AVANCE_COSECHA/PLANOS_2/PLANO_545.pdf', 'G:/Ingenio Azucarero Guabira S.A/UTEA - SEMANAL - AVANCE COSECHA/2023/ANALISIS DE CAÑA EN CAMPO 2023/REPORTE_AVANCE_COSECHA/PLANOS_2/PLANO_1614.pdf', 'G:/Ingenio Azucarero Guabira S.A/UTEA - SEMANAL - AVANCE COSECHA/2023/ANALISIS DE CAÑA EN CAMPO 2023/REPORTE_AVANCE_COSECHA/PLANOS_2/PLANO_1393.pdf', 'G:/Ingenio Azucarero Guabira S.A/UTEA - SEMANAL - AVANCE COSECHA/2023/ANALISIS DE CAÑA EN CAMPO 2023/REPORTE_AVANCE_COSECHA/PLANOS_2/PLANO_532.pdf', 'G:/Ingenio Azucarero Guabira S.A/UTEA - SEMANAL - AVANCE COSECHA/2023/ANALISIS DE CAÑA EN CAMPO 2023/REPORTE_AVANCE_COSECHA/PLANOS_2/PLANO_1530.pdf']\n",
      "-*************************************\n",
      "349\n",
      "['G:/OneDrive - Ingenio Azucarero Guabira S.A/_DATOS_PYTHON/_tes_pdf/350.pdf', 'G:/Ingenio Azucarero Guabira S.A/UTEA - SEMANAL - AVANCE COSECHA/2023/ANALISIS DE CAÑA EN CAMPO 2023/REPORTE_AVANCE_COSECHA/PLANOS_2/PLANO_1483.pdf']\n",
      "-*************************************\n",
      "350\n",
      "['G:/OneDrive - Ingenio Azucarero Guabira S.A/_DATOS_PYTHON/_tes_pdf/351.pdf', 'G:/Ingenio Azucarero Guabira S.A/UTEA - SEMANAL - AVANCE COSECHA/2023/ANALISIS DE CAÑA EN CAMPO 2023/REPORTE_AVANCE_COSECHA/PLANOS_2/PLANO_1392.pdf', 'G:/Ingenio Azucarero Guabira S.A/UTEA - SEMANAL - AVANCE COSECHA/2023/ANALISIS DE CAÑA EN CAMPO 2023/REPORTE_AVANCE_COSECHA/PLANOS_2/PLANO_1547.pdf']\n",
      "-*************************************\n",
      "351\n",
      "['G:/OneDrive - Ingenio Azucarero Guabira S.A/_DATOS_PYTHON/_tes_pdf/352.pdf', 'G:/Ingenio Azucarero Guabira S.A/UTEA - SEMANAL - AVANCE COSECHA/2023/ANALISIS DE CAÑA EN CAMPO 2023/REPORTE_AVANCE_COSECHA/PLANOS_2/PLANO_548.pdf', 'G:/Ingenio Azucarero Guabira S.A/UTEA - SEMANAL - AVANCE COSECHA/2023/ANALISIS DE CAÑA EN CAMPO 2023/REPORTE_AVANCE_COSECHA/PLANOS_2/PLANO_1483.pdf', 'G:/Ingenio Azucarero Guabira S.A/UTEA - SEMANAL - AVANCE COSECHA/2023/ANALISIS DE CAÑA EN CAMPO 2023/REPORTE_AVANCE_COSECHA/PLANOS_2/PLANO_1784.pdf', 'G:/Ingenio Azucarero Guabira S.A/UTEA - SEMANAL - AVANCE COSECHA/2023/ANALISIS DE CAÑA EN CAMPO 2023/REPORTE_AVANCE_COSECHA/PLANOS_2/PLANO_1431.pdf', 'G:/Ingenio Azucarero Guabira S.A/UTEA - SEMANAL - AVANCE COSECHA/2023/ANALISIS DE CAÑA EN CAMPO 2023/REPORTE_AVANCE_COSECHA/PLANOS_2/PLANO_1720.pdf', 'G:/Ingenio Azucarero Guabira S.A/UTEA - SEMANAL - AVANCE COSECHA/2023/ANALISIS DE CAÑA EN CAMPO 2023/REPORTE_AVANCE_COSECHA/PLANOS_2/PLANO_1401.pdf']\n",
      "-*************************************\n",
      "352\n",
      "['G:/OneDrive - Ingenio Azucarero Guabira S.A/_DATOS_PYTHON/_tes_pdf/353.pdf', 'G:/Ingenio Azucarero Guabira S.A/UTEA - SEMANAL - AVANCE COSECHA/2023/ANALISIS DE CAÑA EN CAMPO 2023/REPORTE_AVANCE_COSECHA/PLANOS_2/PLANO_299.pdf']\n",
      "-*************************************\n",
      "353\n",
      "['G:/OneDrive - Ingenio Azucarero Guabira S.A/_DATOS_PYTHON/_tes_pdf/354.pdf', 'G:/Ingenio Azucarero Guabira S.A/UTEA - SEMANAL - AVANCE COSECHA/2023/ANALISIS DE CAÑA EN CAMPO 2023/REPORTE_AVANCE_COSECHA/PLANOS_2/PLANO_723.pdf', 'G:/Ingenio Azucarero Guabira S.A/UTEA - SEMANAL - AVANCE COSECHA/2023/ANALISIS DE CAÑA EN CAMPO 2023/REPORTE_AVANCE_COSECHA/PLANOS_2/PLANO_724.pdf', 'G:/Ingenio Azucarero Guabira S.A/UTEA - SEMANAL - AVANCE COSECHA/2023/ANALISIS DE CAÑA EN CAMPO 2023/REPORTE_AVANCE_COSECHA/PLANOS_2/PLANO_725.pdf', 'G:/Ingenio Azucarero Guabira S.A/UTEA - SEMANAL - AVANCE COSECHA/2023/ANALISIS DE CAÑA EN CAMPO 2023/REPORTE_AVANCE_COSECHA/PLANOS_2/PLANO_726.pdf', 'G:/Ingenio Azucarero Guabira S.A/UTEA - SEMANAL - AVANCE COSECHA/2023/ANALISIS DE CAÑA EN CAMPO 2023/REPORTE_AVANCE_COSECHA/PLANOS_2/PLANO_728.pdf']\n",
      "-*************************************\n",
      "354\n",
      "['G:/OneDrive - Ingenio Azucarero Guabira S.A/_DATOS_PYTHON/_tes_pdf/355.pdf', 'G:/Ingenio Azucarero Guabira S.A/UTEA - SEMANAL - AVANCE COSECHA/2023/ANALISIS DE CAÑA EN CAMPO 2023/REPORTE_AVANCE_COSECHA/PLANOS_2/PLANO_535.pdf']\n",
      "-*************************************\n",
      "355\n",
      "['G:/OneDrive - Ingenio Azucarero Guabira S.A/_DATOS_PYTHON/_tes_pdf/356.pdf', 'G:/Ingenio Azucarero Guabira S.A/UTEA - SEMANAL - AVANCE COSECHA/2023/ANALISIS DE CAÑA EN CAMPO 2023/REPORTE_AVANCE_COSECHA/PLANOS_2/PLANO_344.pdf', 'G:/Ingenio Azucarero Guabira S.A/UTEA - SEMANAL - AVANCE COSECHA/2023/ANALISIS DE CAÑA EN CAMPO 2023/REPORTE_AVANCE_COSECHA/PLANOS_2/PLANO_1823.pdf']\n",
      "-*************************************\n",
      "356\n",
      "['G:/OneDrive - Ingenio Azucarero Guabira S.A/_DATOS_PYTHON/_tes_pdf/357.pdf', 'G:/Ingenio Azucarero Guabira S.A/UTEA - SEMANAL - AVANCE COSECHA/2023/ANALISIS DE CAÑA EN CAMPO 2023/REPORTE_AVANCE_COSECHA/PLANOS_2/PLANO_512.pdf', 'G:/Ingenio Azucarero Guabira S.A/UTEA - SEMANAL - AVANCE COSECHA/2023/ANALISIS DE CAÑA EN CAMPO 2023/REPORTE_AVANCE_COSECHA/PLANOS_2/PLANO_513.pdf', 'G:/Ingenio Azucarero Guabira S.A/UTEA - SEMANAL - AVANCE COSECHA/2023/ANALISIS DE CAÑA EN CAMPO 2023/REPORTE_AVANCE_COSECHA/PLANOS_2/PLANO_514.pdf', 'G:/Ingenio Azucarero Guabira S.A/UTEA - SEMANAL - AVANCE COSECHA/2023/ANALISIS DE CAÑA EN CAMPO 2023/REPORTE_AVANCE_COSECHA/PLANOS_2/PLANO_515.pdf', 'G:/Ingenio Azucarero Guabira S.A/UTEA - SEMANAL - AVANCE COSECHA/2023/ANALISIS DE CAÑA EN CAMPO 2023/REPORTE_AVANCE_COSECHA/PLANOS_2/PLANO_516.pdf', 'G:/Ingenio Azucarero Guabira S.A/UTEA - SEMANAL - AVANCE COSECHA/2023/ANALISIS DE CAÑA EN CAMPO 2023/REPORTE_AVANCE_COSECHA/PLANOS_2/PLANO_517.pdf', 'G:/Ingenio Azucarero Guabira S.A/UTEA - SEMANAL - AVANCE COSECHA/2023/ANALISIS DE CAÑA EN CAMPO 2023/REPORTE_AVANCE_COSECHA/PLANOS_2/PLANO_1481.pdf', 'G:/Ingenio Azucarero Guabira S.A/UTEA - SEMANAL - AVANCE COSECHA/2023/ANALISIS DE CAÑA EN CAMPO 2023/REPORTE_AVANCE_COSECHA/PLANOS_2/PLANO_1322.pdf', 'G:/Ingenio Azucarero Guabira S.A/UTEA - SEMANAL - AVANCE COSECHA/2023/ANALISIS DE CAÑA EN CAMPO 2023/REPORTE_AVANCE_COSECHA/PLANOS_2/PLANO_182.pdf', 'G:/Ingenio Azucarero Guabira S.A/UTEA - SEMANAL - AVANCE COSECHA/2023/ANALISIS DE CAÑA EN CAMPO 2023/REPORTE_AVANCE_COSECHA/PLANOS_2/PLANO_505.pdf']\n",
      "-*************************************\n",
      "357\n",
      "['G:/OneDrive - Ingenio Azucarero Guabira S.A/_DATOS_PYTHON/_tes_pdf/358.pdf', 'G:/Ingenio Azucarero Guabira S.A/UTEA - SEMANAL - AVANCE COSECHA/2023/ANALISIS DE CAÑA EN CAMPO 2023/REPORTE_AVANCE_COSECHA/PLANOS_2/PLANO_1850.pdf']\n",
      "-*************************************\n",
      "358\n",
      "['G:/OneDrive - Ingenio Azucarero Guabira S.A/_DATOS_PYTHON/_tes_pdf/359.pdf', 'G:/Ingenio Azucarero Guabira S.A/UTEA - SEMANAL - AVANCE COSECHA/2023/ANALISIS DE CAÑA EN CAMPO 2023/REPORTE_AVANCE_COSECHA/PLANOS_2/PLANO_632.pdf', 'G:/Ingenio Azucarero Guabira S.A/UTEA - SEMANAL - AVANCE COSECHA/2023/ANALISIS DE CAÑA EN CAMPO 2023/REPORTE_AVANCE_COSECHA/PLANOS_2/PLANO_633.pdf', 'G:/Ingenio Azucarero Guabira S.A/UTEA - SEMANAL - AVANCE COSECHA/2023/ANALISIS DE CAÑA EN CAMPO 2023/REPORTE_AVANCE_COSECHA/PLANOS_2/PLANO_634.pdf', 'G:/Ingenio Azucarero Guabira S.A/UTEA - SEMANAL - AVANCE COSECHA/2023/ANALISIS DE CAÑA EN CAMPO 2023/REPORTE_AVANCE_COSECHA/PLANOS_2/PLANO_1526.pdf']\n",
      "-*************************************\n",
      "359\n",
      "['G:/OneDrive - Ingenio Azucarero Guabira S.A/_DATOS_PYTHON/_tes_pdf/360.pdf', 'G:/Ingenio Azucarero Guabira S.A/UTEA - SEMANAL - AVANCE COSECHA/2023/ANALISIS DE CAÑA EN CAMPO 2023/REPORTE_AVANCE_COSECHA/PLANOS_2/PLANO_416.pdf', 'G:/Ingenio Azucarero Guabira S.A/UTEA - SEMANAL - AVANCE COSECHA/2023/ANALISIS DE CAÑA EN CAMPO 2023/REPORTE_AVANCE_COSECHA/PLANOS_2/PLANO_201.pdf', 'G:/Ingenio Azucarero Guabira S.A/UTEA - SEMANAL - AVANCE COSECHA/2023/ANALISIS DE CAÑA EN CAMPO 2023/REPORTE_AVANCE_COSECHA/PLANOS_2/PLANO_1610.pdf', 'G:/Ingenio Azucarero Guabira S.A/UTEA - SEMANAL - AVANCE COSECHA/2023/ANALISIS DE CAÑA EN CAMPO 2023/REPORTE_AVANCE_COSECHA/PLANOS_2/PLANO_859.pdf', 'G:/Ingenio Azucarero Guabira S.A/UTEA - SEMANAL - AVANCE COSECHA/2023/ANALISIS DE CAÑA EN CAMPO 2023/REPORTE_AVANCE_COSECHA/PLANOS_2/PLANO_414.pdf', 'G:/Ingenio Azucarero Guabira S.A/UTEA - SEMANAL - AVANCE COSECHA/2023/ANALISIS DE CAÑA EN CAMPO 2023/REPORTE_AVANCE_COSECHA/PLANOS_2/PLANO_415.pdf']\n",
      "-*************************************\n",
      "360\n",
      "['G:/OneDrive - Ingenio Azucarero Guabira S.A/_DATOS_PYTHON/_tes_pdf/361.pdf', 'G:/Ingenio Azucarero Guabira S.A/UTEA - SEMANAL - AVANCE COSECHA/2023/ANALISIS DE CAÑA EN CAMPO 2023/REPORTE_AVANCE_COSECHA/PLANOS_2/PLANO_866.pdf']\n",
      "-*************************************\n",
      "361\n",
      "['G:/OneDrive - Ingenio Azucarero Guabira S.A/_DATOS_PYTHON/_tes_pdf/362.pdf', 'G:/Ingenio Azucarero Guabira S.A/UTEA - SEMANAL - AVANCE COSECHA/2023/ANALISIS DE CAÑA EN CAMPO 2023/REPORTE_AVANCE_COSECHA/PLANOS_2/PLANO_1120.pdf', 'G:/Ingenio Azucarero Guabira S.A/UTEA - SEMANAL - AVANCE COSECHA/2023/ANALISIS DE CAÑA EN CAMPO 2023/REPORTE_AVANCE_COSECHA/PLANOS_2/PLANO_1606.pdf', 'G:/Ingenio Azucarero Guabira S.A/UTEA - SEMANAL - AVANCE COSECHA/2023/ANALISIS DE CAÑA EN CAMPO 2023/REPORTE_AVANCE_COSECHA/PLANOS_2/PLANO_1545.pdf', 'G:/Ingenio Azucarero Guabira S.A/UTEA - SEMANAL - AVANCE COSECHA/2023/ANALISIS DE CAÑA EN CAMPO 2023/REPORTE_AVANCE_COSECHA/PLANOS_2/PLANO_76.pdf', 'G:/Ingenio Azucarero Guabira S.A/UTEA - SEMANAL - AVANCE COSECHA/2023/ANALISIS DE CAÑA EN CAMPO 2023/REPORTE_AVANCE_COSECHA/PLANOS_2/PLANO_1711.pdf', 'G:/Ingenio Azucarero Guabira S.A/UTEA - SEMANAL - AVANCE COSECHA/2023/ANALISIS DE CAÑA EN CAMPO 2023/REPORTE_AVANCE_COSECHA/PLANOS_2/PLANO_1815.pdf', 'G:/Ingenio Azucarero Guabira S.A/UTEA - SEMANAL - AVANCE COSECHA/2023/ANALISIS DE CAÑA EN CAMPO 2023/REPORTE_AVANCE_COSECHA/PLANOS_2/PLANO_1693.pdf']\n",
      "-*************************************\n",
      "362\n",
      "['G:/OneDrive - Ingenio Azucarero Guabira S.A/_DATOS_PYTHON/_tes_pdf/363.pdf', 'G:/Ingenio Azucarero Guabira S.A/UTEA - SEMANAL - AVANCE COSECHA/2023/ANALISIS DE CAÑA EN CAMPO 2023/REPORTE_AVANCE_COSECHA/PLANOS_2/PLANO_1153.pdf', 'G:/Ingenio Azucarero Guabira S.A/UTEA - SEMANAL - AVANCE COSECHA/2023/ANALISIS DE CAÑA EN CAMPO 2023/REPORTE_AVANCE_COSECHA/PLANOS_2/PLANO_331.pdf']\n",
      "-*************************************\n",
      "363\n",
      "['G:/OneDrive - Ingenio Azucarero Guabira S.A/_DATOS_PYTHON/_tes_pdf/364.pdf', 'G:/Ingenio Azucarero Guabira S.A/UTEA - SEMANAL - AVANCE COSECHA/2023/ANALISIS DE CAÑA EN CAMPO 2023/REPORTE_AVANCE_COSECHA/PLANOS_2/PLANO_1639.pdf']\n",
      "-*************************************\n",
      "364\n",
      "['G:/OneDrive - Ingenio Azucarero Guabira S.A/_DATOS_PYTHON/_tes_pdf/365.pdf', 'G:/Ingenio Azucarero Guabira S.A/UTEA - SEMANAL - AVANCE COSECHA/2023/ANALISIS DE CAÑA EN CAMPO 2023/REPORTE_AVANCE_COSECHA/PLANOS_2/PLANO_329.pdf', 'G:/Ingenio Azucarero Guabira S.A/UTEA - SEMANAL - AVANCE COSECHA/2023/ANALISIS DE CAÑA EN CAMPO 2023/REPORTE_AVANCE_COSECHA/PLANOS_2/PLANO_330.pdf', 'G:/Ingenio Azucarero Guabira S.A/UTEA - SEMANAL - AVANCE COSECHA/2023/ANALISIS DE CAÑA EN CAMPO 2023/REPORTE_AVANCE_COSECHA/PLANOS_2/PLANO_778.pdf', 'G:/Ingenio Azucarero Guabira S.A/UTEA - SEMANAL - AVANCE COSECHA/2023/ANALISIS DE CAÑA EN CAMPO 2023/REPORTE_AVANCE_COSECHA/PLANOS_2/PLANO_1637.pdf']\n",
      "-*************************************\n",
      "365\n",
      "['G:/OneDrive - Ingenio Azucarero Guabira S.A/_DATOS_PYTHON/_tes_pdf/366.pdf', 'G:/Ingenio Azucarero Guabira S.A/UTEA - SEMANAL - AVANCE COSECHA/2023/ANALISIS DE CAÑA EN CAMPO 2023/REPORTE_AVANCE_COSECHA/PLANOS_2/PLANO_810.pdf', 'G:/Ingenio Azucarero Guabira S.A/UTEA - SEMANAL - AVANCE COSECHA/2023/ANALISIS DE CAÑA EN CAMPO 2023/REPORTE_AVANCE_COSECHA/PLANOS_2/PLANO_812.pdf']\n",
      "-*************************************\n",
      "366\n",
      "['G:/OneDrive - Ingenio Azucarero Guabira S.A/_DATOS_PYTHON/_tes_pdf/367.pdf', 'G:/Ingenio Azucarero Guabira S.A/UTEA - SEMANAL - AVANCE COSECHA/2023/ANALISIS DE CAÑA EN CAMPO 2023/REPORTE_AVANCE_COSECHA/PLANOS_2/PLANO_350.pdf', 'G:/Ingenio Azucarero Guabira S.A/UTEA - SEMANAL - AVANCE COSECHA/2023/ANALISIS DE CAÑA EN CAMPO 2023/REPORTE_AVANCE_COSECHA/PLANOS_2/PLANO_1302.pdf']\n",
      "-*************************************\n",
      "367\n",
      "['G:/OneDrive - Ingenio Azucarero Guabira S.A/_DATOS_PYTHON/_tes_pdf/368.pdf', 'G:/Ingenio Azucarero Guabira S.A/UTEA - SEMANAL - AVANCE COSECHA/2023/ANALISIS DE CAÑA EN CAMPO 2023/REPORTE_AVANCE_COSECHA/PLANOS_2/PLANO_1642.pdf', 'G:/Ingenio Azucarero Guabira S.A/UTEA - SEMANAL - AVANCE COSECHA/2023/ANALISIS DE CAÑA EN CAMPO 2023/REPORTE_AVANCE_COSECHA/PLANOS_2/PLANO_26.pdf', 'G:/Ingenio Azucarero Guabira S.A/UTEA - SEMANAL - AVANCE COSECHA/2023/ANALISIS DE CAÑA EN CAMPO 2023/REPORTE_AVANCE_COSECHA/PLANOS_2/PLANO_943.pdf']\n",
      "-*************************************\n",
      "368\n",
      "['G:/OneDrive - Ingenio Azucarero Guabira S.A/_DATOS_PYTHON/_tes_pdf/369.pdf', 'G:/Ingenio Azucarero Guabira S.A/UTEA - SEMANAL - AVANCE COSECHA/2023/ANALISIS DE CAÑA EN CAMPO 2023/REPORTE_AVANCE_COSECHA/PLANOS_2/PLANO_1220.pdf', 'G:/Ingenio Azucarero Guabira S.A/UTEA - SEMANAL - AVANCE COSECHA/2023/ANALISIS DE CAÑA EN CAMPO 2023/REPORTE_AVANCE_COSECHA/PLANOS_2/PLANO_585.pdf', 'G:/Ingenio Azucarero Guabira S.A/UTEA - SEMANAL - AVANCE COSECHA/2023/ANALISIS DE CAÑA EN CAMPO 2023/REPORTE_AVANCE_COSECHA/PLANOS_2/PLANO_1456.pdf', 'G:/Ingenio Azucarero Guabira S.A/UTEA - SEMANAL - AVANCE COSECHA/2023/ANALISIS DE CAÑA EN CAMPO 2023/REPORTE_AVANCE_COSECHA/PLANOS_2/PLANO_1524.pdf', 'G:/Ingenio Azucarero Guabira S.A/UTEA - SEMANAL - AVANCE COSECHA/2023/ANALISIS DE CAÑA EN CAMPO 2023/REPORTE_AVANCE_COSECHA/PLANOS_2/PLANO_572.pdf']\n",
      "-*************************************\n",
      "369\n",
      "['G:/OneDrive - Ingenio Azucarero Guabira S.A/_DATOS_PYTHON/_tes_pdf/370.pdf', 'G:/Ingenio Azucarero Guabira S.A/UTEA - SEMANAL - AVANCE COSECHA/2023/ANALISIS DE CAÑA EN CAMPO 2023/REPORTE_AVANCE_COSECHA/PLANOS_2/PLANO_384.pdf', 'G:/Ingenio Azucarero Guabira S.A/UTEA - SEMANAL - AVANCE COSECHA/2023/ANALISIS DE CAÑA EN CAMPO 2023/REPORTE_AVANCE_COSECHA/PLANOS_2/PLANO_809.pdf', 'G:/Ingenio Azucarero Guabira S.A/UTEA - SEMANAL - AVANCE COSECHA/2023/ANALISIS DE CAÑA EN CAMPO 2023/REPORTE_AVANCE_COSECHA/PLANOS_2/PLANO_814.pdf', 'G:/Ingenio Azucarero Guabira S.A/UTEA - SEMANAL - AVANCE COSECHA/2023/ANALISIS DE CAÑA EN CAMPO 2023/REPORTE_AVANCE_COSECHA/PLANOS_2/PLANO_817.pdf', 'G:/Ingenio Azucarero Guabira S.A/UTEA - SEMANAL - AVANCE COSECHA/2023/ANALISIS DE CAÑA EN CAMPO 2023/REPORTE_AVANCE_COSECHA/PLANOS_2/PLANO_818.pdf', 'G:/Ingenio Azucarero Guabira S.A/UTEA - SEMANAL - AVANCE COSECHA/2023/ANALISIS DE CAÑA EN CAMPO 2023/REPORTE_AVANCE_COSECHA/PLANOS_2/PLANO_1586.pdf', 'G:/Ingenio Azucarero Guabira S.A/UTEA - SEMANAL - AVANCE COSECHA/2023/ANALISIS DE CAÑA EN CAMPO 2023/REPORTE_AVANCE_COSECHA/PLANOS_2/PLANO_1854.pdf']\n",
      "-*************************************\n",
      "370\n",
      "['G:/OneDrive - Ingenio Azucarero Guabira S.A/_DATOS_PYTHON/_tes_pdf/371.pdf', 'G:/Ingenio Azucarero Guabira S.A/UTEA - SEMANAL - AVANCE COSECHA/2023/ANALISIS DE CAÑA EN CAMPO 2023/REPORTE_AVANCE_COSECHA/PLANOS_2/PLANO_43.pdf']\n",
      "-*************************************\n",
      "371\n",
      "['G:/OneDrive - Ingenio Azucarero Guabira S.A/_DATOS_PYTHON/_tes_pdf/372.pdf', 'G:/Ingenio Azucarero Guabira S.A/UTEA - SEMANAL - AVANCE COSECHA/2023/ANALISIS DE CAÑA EN CAMPO 2023/REPORTE_AVANCE_COSECHA/PLANOS_2/PLANO_1126.pdf']\n",
      "-*************************************\n",
      "372\n",
      "['G:/OneDrive - Ingenio Azucarero Guabira S.A/_DATOS_PYTHON/_tes_pdf/373.pdf', 'G:/Ingenio Azucarero Guabira S.A/UTEA - SEMANAL - AVANCE COSECHA/2023/ANALISIS DE CAÑA EN CAMPO 2023/REPORTE_AVANCE_COSECHA/PLANOS_2/PLANO_874.pdf']\n",
      "-*************************************\n",
      "373\n",
      "['G:/OneDrive - Ingenio Azucarero Guabira S.A/_DATOS_PYTHON/_tes_pdf/374.pdf', 'G:/Ingenio Azucarero Guabira S.A/UTEA - SEMANAL - AVANCE COSECHA/2023/ANALISIS DE CAÑA EN CAMPO 2023/REPORTE_AVANCE_COSECHA/PLANOS_2/PLANO_1241.pdf', 'G:/Ingenio Azucarero Guabira S.A/UTEA - SEMANAL - AVANCE COSECHA/2023/ANALISIS DE CAÑA EN CAMPO 2023/REPORTE_AVANCE_COSECHA/PLANOS_2/PLANO_586.pdf', 'G:/Ingenio Azucarero Guabira S.A/UTEA - SEMANAL - AVANCE COSECHA/2023/ANALISIS DE CAÑA EN CAMPO 2023/REPORTE_AVANCE_COSECHA/PLANOS_2/PLANO_588.pdf', 'G:/Ingenio Azucarero Guabira S.A/UTEA - SEMANAL - AVANCE COSECHA/2023/ANALISIS DE CAÑA EN CAMPO 2023/REPORTE_AVANCE_COSECHA/PLANOS_2/PLANO_589.pdf', 'G:/Ingenio Azucarero Guabira S.A/UTEA - SEMANAL - AVANCE COSECHA/2023/ANALISIS DE CAÑA EN CAMPO 2023/REPORTE_AVANCE_COSECHA/PLANOS_2/PLANO_1240.pdf', 'G:/Ingenio Azucarero Guabira S.A/UTEA - SEMANAL - AVANCE COSECHA/2023/ANALISIS DE CAÑA EN CAMPO 2023/REPORTE_AVANCE_COSECHA/PLANOS_2/PLANO_921.pdf']\n",
      "-*************************************\n",
      "374\n",
      "['G:/OneDrive - Ingenio Azucarero Guabira S.A/_DATOS_PYTHON/_tes_pdf/375.pdf', 'G:/Ingenio Azucarero Guabira S.A/UTEA - SEMANAL - AVANCE COSECHA/2023/ANALISIS DE CAÑA EN CAMPO 2023/REPORTE_AVANCE_COSECHA/PLANOS_2/PLANO_1672.pdf', 'G:/Ingenio Azucarero Guabira S.A/UTEA - SEMANAL - AVANCE COSECHA/2023/ANALISIS DE CAÑA EN CAMPO 2023/REPORTE_AVANCE_COSECHA/PLANOS_2/PLANO_137.pdf', 'G:/Ingenio Azucarero Guabira S.A/UTEA - SEMANAL - AVANCE COSECHA/2023/ANALISIS DE CAÑA EN CAMPO 2023/REPORTE_AVANCE_COSECHA/PLANOS_2/PLANO_1451.pdf', 'G:/Ingenio Azucarero Guabira S.A/UTEA - SEMANAL - AVANCE COSECHA/2023/ANALISIS DE CAÑA EN CAMPO 2023/REPORTE_AVANCE_COSECHA/PLANOS_2/PLANO_1556.pdf', 'G:/Ingenio Azucarero Guabira S.A/UTEA - SEMANAL - AVANCE COSECHA/2023/ANALISIS DE CAÑA EN CAMPO 2023/REPORTE_AVANCE_COSECHA/PLANOS_2/PLANO_1557.pdf', 'G:/Ingenio Azucarero Guabira S.A/UTEA - SEMANAL - AVANCE COSECHA/2023/ANALISIS DE CAÑA EN CAMPO 2023/REPORTE_AVANCE_COSECHA/PLANOS_2/PLANO_1558.pdf', 'G:/Ingenio Azucarero Guabira S.A/UTEA - SEMANAL - AVANCE COSECHA/2023/ANALISIS DE CAÑA EN CAMPO 2023/REPORTE_AVANCE_COSECHA/PLANOS_2/PLANO_283.pdf', 'G:/Ingenio Azucarero Guabira S.A/UTEA - SEMANAL - AVANCE COSECHA/2023/ANALISIS DE CAÑA EN CAMPO 2023/REPORTE_AVANCE_COSECHA/PLANOS_2/PLANO_1788.pdf', 'G:/Ingenio Azucarero Guabira S.A/UTEA - SEMANAL - AVANCE COSECHA/2023/ANALISIS DE CAÑA EN CAMPO 2023/REPORTE_AVANCE_COSECHA/PLANOS_2/PLANO_1789.pdf']\n",
      "-*************************************\n",
      "375\n",
      "['G:/OneDrive - Ingenio Azucarero Guabira S.A/_DATOS_PYTHON/_tes_pdf/376.pdf', 'G:/Ingenio Azucarero Guabira S.A/UTEA - SEMANAL - AVANCE COSECHA/2023/ANALISIS DE CAÑA EN CAMPO 2023/REPORTE_AVANCE_COSECHA/PLANOS_2/PLANO_1650.pdf', 'G:/Ingenio Azucarero Guabira S.A/UTEA - SEMANAL - AVANCE COSECHA/2023/ANALISIS DE CAÑA EN CAMPO 2023/REPORTE_AVANCE_COSECHA/PLANOS_2/PLANO_1106.pdf', 'G:/Ingenio Azucarero Guabira S.A/UTEA - SEMANAL - AVANCE COSECHA/2023/ANALISIS DE CAÑA EN CAMPO 2023/REPORTE_AVANCE_COSECHA/PLANOS_2/PLANO_1102.pdf']\n",
      "-*************************************\n",
      "376\n",
      "['G:/OneDrive - Ingenio Azucarero Guabira S.A/_DATOS_PYTHON/_tes_pdf/377.pdf', 'G:/Ingenio Azucarero Guabira S.A/UTEA - SEMANAL - AVANCE COSECHA/2023/ANALISIS DE CAÑA EN CAMPO 2023/REPORTE_AVANCE_COSECHA/PLANOS_2/PLANO_972.pdf', 'G:/Ingenio Azucarero Guabira S.A/UTEA - SEMANAL - AVANCE COSECHA/2023/ANALISIS DE CAÑA EN CAMPO 2023/REPORTE_AVANCE_COSECHA/PLANOS_2/PLANO_853.pdf', 'G:/Ingenio Azucarero Guabira S.A/UTEA - SEMANAL - AVANCE COSECHA/2023/ANALISIS DE CAÑA EN CAMPO 2023/REPORTE_AVANCE_COSECHA/PLANOS_2/PLANO_471.pdf', 'G:/Ingenio Azucarero Guabira S.A/UTEA - SEMANAL - AVANCE COSECHA/2023/ANALISIS DE CAÑA EN CAMPO 2023/REPORTE_AVANCE_COSECHA/PLANOS_2/PLANO_1242.pdf', 'G:/Ingenio Azucarero Guabira S.A/UTEA - SEMANAL - AVANCE COSECHA/2023/ANALISIS DE CAÑA EN CAMPO 2023/REPORTE_AVANCE_COSECHA/PLANOS_2/PLANO_251.pdf', 'G:/Ingenio Azucarero Guabira S.A/UTEA - SEMANAL - AVANCE COSECHA/2023/ANALISIS DE CAÑA EN CAMPO 2023/REPORTE_AVANCE_COSECHA/PLANOS_2/PLANO_573.pdf', 'G:/Ingenio Azucarero Guabira S.A/UTEA - SEMANAL - AVANCE COSECHA/2023/ANALISIS DE CAÑA EN CAMPO 2023/REPORTE_AVANCE_COSECHA/PLANOS_2/PLANO_574.pdf', 'G:/Ingenio Azucarero Guabira S.A/UTEA - SEMANAL - AVANCE COSECHA/2023/ANALISIS DE CAÑA EN CAMPO 2023/REPORTE_AVANCE_COSECHA/PLANOS_2/PLANO_575.pdf']\n",
      "-*************************************\n",
      "377\n",
      "['G:/OneDrive - Ingenio Azucarero Guabira S.A/_DATOS_PYTHON/_tes_pdf/380.pdf', 'G:/Ingenio Azucarero Guabira S.A/UTEA - SEMANAL - AVANCE COSECHA/2023/ANALISIS DE CAÑA EN CAMPO 2023/REPORTE_AVANCE_COSECHA/PLANOS_2/PLANO_228.pdf']\n",
      "-*************************************\n",
      "380\n",
      "['G:/OneDrive - Ingenio Azucarero Guabira S.A/_DATOS_PYTHON/_tes_pdf/381.pdf', 'G:/Ingenio Azucarero Guabira S.A/UTEA - SEMANAL - AVANCE COSECHA/2023/ANALISIS DE CAÑA EN CAMPO 2023/REPORTE_AVANCE_COSECHA/PLANOS_2/PLANO_411.pdf']\n",
      "-*************************************\n",
      "381\n",
      "['G:/OneDrive - Ingenio Azucarero Guabira S.A/_DATOS_PYTHON/_tes_pdf/382.pdf', 'G:/Ingenio Azucarero Guabira S.A/UTEA - SEMANAL - AVANCE COSECHA/2023/ANALISIS DE CAÑA EN CAMPO 2023/REPORTE_AVANCE_COSECHA/PLANOS_2/PLANO_49.pdf', 'G:/Ingenio Azucarero Guabira S.A/UTEA - SEMANAL - AVANCE COSECHA/2023/ANALISIS DE CAÑA EN CAMPO 2023/REPORTE_AVANCE_COSECHA/PLANOS_2/PLANO_1388.pdf', 'G:/Ingenio Azucarero Guabira S.A/UTEA - SEMANAL - AVANCE COSECHA/2023/ANALISIS DE CAÑA EN CAMPO 2023/REPORTE_AVANCE_COSECHA/PLANOS_2/PLANO_1389.pdf']\n",
      "-*************************************\n",
      "382\n",
      "['G:/OneDrive - Ingenio Azucarero Guabira S.A/_DATOS_PYTHON/_tes_pdf/383.pdf', 'G:/Ingenio Azucarero Guabira S.A/UTEA - SEMANAL - AVANCE COSECHA/2023/ANALISIS DE CAÑA EN CAMPO 2023/REPORTE_AVANCE_COSECHA/PLANOS_2/PLANO_1484.pdf']\n",
      "-*************************************\n",
      "383\n",
      "['G:/OneDrive - Ingenio Azucarero Guabira S.A/_DATOS_PYTHON/_tes_pdf/385.pdf', 'G:/Ingenio Azucarero Guabira S.A/UTEA - SEMANAL - AVANCE COSECHA/2023/ANALISIS DE CAÑA EN CAMPO 2023/REPORTE_AVANCE_COSECHA/PLANOS_2/PLANO_1512.pdf', 'G:/Ingenio Azucarero Guabira S.A/UTEA - SEMANAL - AVANCE COSECHA/2023/ANALISIS DE CAÑA EN CAMPO 2023/REPORTE_AVANCE_COSECHA/PLANOS_2/PLANO_4.pdf']\n",
      "-*************************************\n",
      "385\n",
      "['G:/OneDrive - Ingenio Azucarero Guabira S.A/_DATOS_PYTHON/_tes_pdf/386.pdf', 'G:/Ingenio Azucarero Guabira S.A/UTEA - SEMANAL - AVANCE COSECHA/2023/ANALISIS DE CAÑA EN CAMPO 2023/REPORTE_AVANCE_COSECHA/PLANOS_2/PLANO_1189.pdf', 'G:/Ingenio Azucarero Guabira S.A/UTEA - SEMANAL - AVANCE COSECHA/2023/ANALISIS DE CAÑA EN CAMPO 2023/REPORTE_AVANCE_COSECHA/PLANOS_2/PLANO_45.pdf', 'G:/Ingenio Azucarero Guabira S.A/UTEA - SEMANAL - AVANCE COSECHA/2023/ANALISIS DE CAÑA EN CAMPO 2023/REPORTE_AVANCE_COSECHA/PLANOS_2/PLANO_1745.pdf', 'G:/Ingenio Azucarero Guabira S.A/UTEA - SEMANAL - AVANCE COSECHA/2023/ANALISIS DE CAÑA EN CAMPO 2023/REPORTE_AVANCE_COSECHA/PLANOS_2/PLANO_1746.pdf', 'G:/Ingenio Azucarero Guabira S.A/UTEA - SEMANAL - AVANCE COSECHA/2023/ANALISIS DE CAÑA EN CAMPO 2023/REPORTE_AVANCE_COSECHA/PLANOS_2/PLANO_1142.pdf', 'G:/Ingenio Azucarero Guabira S.A/UTEA - SEMANAL - AVANCE COSECHA/2023/ANALISIS DE CAÑA EN CAMPO 2023/REPORTE_AVANCE_COSECHA/PLANOS_2/PLANO_926.pdf']\n",
      "-*************************************\n",
      "386\n",
      "['G:/OneDrive - Ingenio Azucarero Guabira S.A/_DATOS_PYTHON/_tes_pdf/387.pdf', 'G:/Ingenio Azucarero Guabira S.A/UTEA - SEMANAL - AVANCE COSECHA/2023/ANALISIS DE CAÑA EN CAMPO 2023/REPORTE_AVANCE_COSECHA/PLANOS_2/PLANO_875.pdf', 'G:/Ingenio Azucarero Guabira S.A/UTEA - SEMANAL - AVANCE COSECHA/2023/ANALISIS DE CAÑA EN CAMPO 2023/REPORTE_AVANCE_COSECHA/PLANOS_2/PLANO_1716.pdf', 'G:/Ingenio Azucarero Guabira S.A/UTEA - SEMANAL - AVANCE COSECHA/2023/ANALISIS DE CAÑA EN CAMPO 2023/REPORTE_AVANCE_COSECHA/PLANOS_2/PLANO_1045.pdf', 'G:/Ingenio Azucarero Guabira S.A/UTEA - SEMANAL - AVANCE COSECHA/2023/ANALISIS DE CAÑA EN CAMPO 2023/REPORTE_AVANCE_COSECHA/PLANOS_2/PLANO_1461.pdf', 'G:/Ingenio Azucarero Guabira S.A/UTEA - SEMANAL - AVANCE COSECHA/2023/ANALISIS DE CAÑA EN CAMPO 2023/REPORTE_AVANCE_COSECHA/PLANOS_2/PLANO_1469.pdf']\n",
      "-*************************************\n",
      "387\n",
      "['G:/OneDrive - Ingenio Azucarero Guabira S.A/_DATOS_PYTHON/_tes_pdf/388.pdf', 'G:/Ingenio Azucarero Guabira S.A/UTEA - SEMANAL - AVANCE COSECHA/2023/ANALISIS DE CAÑA EN CAMPO 2023/REPORTE_AVANCE_COSECHA/PLANOS_2/PLANO_1853.pdf']\n",
      "-*************************************\n",
      "388\n",
      "['G:/OneDrive - Ingenio Azucarero Guabira S.A/_DATOS_PYTHON/_tes_pdf/389.pdf', 'G:/Ingenio Azucarero Guabira S.A/UTEA - SEMANAL - AVANCE COSECHA/2023/ANALISIS DE CAÑA EN CAMPO 2023/REPORTE_AVANCE_COSECHA/PLANOS_2/PLANO_1828.pdf', 'G:/Ingenio Azucarero Guabira S.A/UTEA - SEMANAL - AVANCE COSECHA/2023/ANALISIS DE CAÑA EN CAMPO 2023/REPORTE_AVANCE_COSECHA/PLANOS_2/PLANO_1829.pdf', 'G:/Ingenio Azucarero Guabira S.A/UTEA - SEMANAL - AVANCE COSECHA/2023/ANALISIS DE CAÑA EN CAMPO 2023/REPORTE_AVANCE_COSECHA/PLANOS_2/PLANO_1832.pdf', 'G:/Ingenio Azucarero Guabira S.A/UTEA - SEMANAL - AVANCE COSECHA/2023/ANALISIS DE CAÑA EN CAMPO 2023/REPORTE_AVANCE_COSECHA/PLANOS_2/PLANO_715.pdf', 'G:/Ingenio Azucarero Guabira S.A/UTEA - SEMANAL - AVANCE COSECHA/2023/ANALISIS DE CAÑA EN CAMPO 2023/REPORTE_AVANCE_COSECHA/PLANOS_2/PLANO_1631.pdf']\n",
      "-*************************************\n",
      "389\n",
      "['G:/OneDrive - Ingenio Azucarero Guabira S.A/_DATOS_PYTHON/_tes_pdf/390.pdf', 'G:/Ingenio Azucarero Guabira S.A/UTEA - SEMANAL - AVANCE COSECHA/2023/ANALISIS DE CAÑA EN CAMPO 2023/REPORTE_AVANCE_COSECHA/PLANOS_2/PLANO_1180.pdf', 'G:/Ingenio Azucarero Guabira S.A/UTEA - SEMANAL - AVANCE COSECHA/2023/ANALISIS DE CAÑA EN CAMPO 2023/REPORTE_AVANCE_COSECHA/PLANOS_2/PLANO_1773.pdf', 'G:/Ingenio Azucarero Guabira S.A/UTEA - SEMANAL - AVANCE COSECHA/2023/ANALISIS DE CAÑA EN CAMPO 2023/REPORTE_AVANCE_COSECHA/PLANOS_2/PLANO_1847.pdf']\n",
      "-*************************************\n",
      "390\n",
      "['G:/OneDrive - Ingenio Azucarero Guabira S.A/_DATOS_PYTHON/_tes_pdf/391.pdf', 'G:/Ingenio Azucarero Guabira S.A/UTEA - SEMANAL - AVANCE COSECHA/2023/ANALISIS DE CAÑA EN CAMPO 2023/REPORTE_AVANCE_COSECHA/PLANOS_2/PLANO_1366.pdf']\n",
      "-*************************************\n",
      "391\n",
      "['G:/OneDrive - Ingenio Azucarero Guabira S.A/_DATOS_PYTHON/_tes_pdf/392.pdf', 'G:/Ingenio Azucarero Guabira S.A/UTEA - SEMANAL - AVANCE COSECHA/2023/ANALISIS DE CAÑA EN CAMPO 2023/REPORTE_AVANCE_COSECHA/PLANOS_2/PLANO_608.pdf', 'G:/Ingenio Azucarero Guabira S.A/UTEA - SEMANAL - AVANCE COSECHA/2023/ANALISIS DE CAÑA EN CAMPO 2023/REPORTE_AVANCE_COSECHA/PLANOS_2/PLANO_611.pdf', 'G:/Ingenio Azucarero Guabira S.A/UTEA - SEMANAL - AVANCE COSECHA/2023/ANALISIS DE CAÑA EN CAMPO 2023/REPORTE_AVANCE_COSECHA/PLANOS_2/PLANO_127.pdf', 'G:/Ingenio Azucarero Guabira S.A/UTEA - SEMANAL - AVANCE COSECHA/2023/ANALISIS DE CAÑA EN CAMPO 2023/REPORTE_AVANCE_COSECHA/PLANOS_2/PLANO_606.pdf', 'G:/Ingenio Azucarero Guabira S.A/UTEA - SEMANAL - AVANCE COSECHA/2023/ANALISIS DE CAÑA EN CAMPO 2023/REPORTE_AVANCE_COSECHA/PLANOS_2/PLANO_607.pdf']\n",
      "-*************************************\n",
      "392\n",
      "['G:/OneDrive - Ingenio Azucarero Guabira S.A/_DATOS_PYTHON/_tes_pdf/393.pdf', 'G:/Ingenio Azucarero Guabira S.A/UTEA - SEMANAL - AVANCE COSECHA/2023/ANALISIS DE CAÑA EN CAMPO 2023/REPORTE_AVANCE_COSECHA/PLANOS_2/PLANO_1280.pdf', 'G:/Ingenio Azucarero Guabira S.A/UTEA - SEMANAL - AVANCE COSECHA/2023/ANALISIS DE CAÑA EN CAMPO 2023/REPORTE_AVANCE_COSECHA/PLANOS_2/PLANO_1281.pdf', 'G:/Ingenio Azucarero Guabira S.A/UTEA - SEMANAL - AVANCE COSECHA/2023/ANALISIS DE CAÑA EN CAMPO 2023/REPORTE_AVANCE_COSECHA/PLANOS_2/PLANO_704.pdf', 'G:/Ingenio Azucarero Guabira S.A/UTEA - SEMANAL - AVANCE COSECHA/2023/ANALISIS DE CAÑA EN CAMPO 2023/REPORTE_AVANCE_COSECHA/PLANOS_2/PLANO_869.pdf', 'G:/Ingenio Azucarero Guabira S.A/UTEA - SEMANAL - AVANCE COSECHA/2023/ANALISIS DE CAÑA EN CAMPO 2023/REPORTE_AVANCE_COSECHA/PLANOS_2/PLANO_871.pdf', 'G:/Ingenio Azucarero Guabira S.A/UTEA - SEMANAL - AVANCE COSECHA/2023/ANALISIS DE CAÑA EN CAMPO 2023/REPORTE_AVANCE_COSECHA/PLANOS_2/PLANO_1384.pdf', 'G:/Ingenio Azucarero Guabira S.A/UTEA - SEMANAL - AVANCE COSECHA/2023/ANALISIS DE CAÑA EN CAMPO 2023/REPORTE_AVANCE_COSECHA/PLANOS_2/PLANO_1866.pdf', 'G:/Ingenio Azucarero Guabira S.A/UTEA - SEMANAL - AVANCE COSECHA/2023/ANALISIS DE CAÑA EN CAMPO 2023/REPORTE_AVANCE_COSECHA/PLANOS_2/PLANO_1744.pdf', 'G:/Ingenio Azucarero Guabira S.A/UTEA - SEMANAL - AVANCE COSECHA/2023/ANALISIS DE CAÑA EN CAMPO 2023/REPORTE_AVANCE_COSECHA/PLANOS_2/PLANO_1276.pdf', 'G:/Ingenio Azucarero Guabira S.A/UTEA - SEMANAL - AVANCE COSECHA/2023/ANALISIS DE CAÑA EN CAMPO 2023/REPORTE_AVANCE_COSECHA/PLANOS_2/PLANO_23.pdf', 'G:/Ingenio Azucarero Guabira S.A/UTEA - SEMANAL - AVANCE COSECHA/2023/ANALISIS DE CAÑA EN CAMPO 2023/REPORTE_AVANCE_COSECHA/PLANOS_2/PLANO_1689.pdf', 'G:/Ingenio Azucarero Guabira S.A/UTEA - SEMANAL - AVANCE COSECHA/2023/ANALISIS DE CAÑA EN CAMPO 2023/REPORTE_AVANCE_COSECHA/PLANOS_2/PLANO_1658.pdf', 'G:/Ingenio Azucarero Guabira S.A/UTEA - SEMANAL - AVANCE COSECHA/2023/ANALISIS DE CAÑA EN CAMPO 2023/REPORTE_AVANCE_COSECHA/PLANOS_2/PLANO_1277.pdf', 'G:/Ingenio Azucarero Guabira S.A/UTEA - SEMANAL - AVANCE COSECHA/2023/ANALISIS DE CAÑA EN CAMPO 2023/REPORTE_AVANCE_COSECHA/PLANOS_2/PLANO_1757.pdf', 'G:/Ingenio Azucarero Guabira S.A/UTEA - SEMANAL - AVANCE COSECHA/2023/ANALISIS DE CAÑA EN CAMPO 2023/REPORTE_AVANCE_COSECHA/PLANOS_2/PLANO_1278.pdf', 'G:/Ingenio Azucarero Guabira S.A/UTEA - SEMANAL - AVANCE COSECHA/2023/ANALISIS DE CAÑA EN CAMPO 2023/REPORTE_AVANCE_COSECHA/PLANOS_2/PLANO_1279.pdf']\n",
      "-*************************************\n",
      "393\n",
      "['G:/OneDrive - Ingenio Azucarero Guabira S.A/_DATOS_PYTHON/_tes_pdf/394.pdf', 'G:/Ingenio Azucarero Guabira S.A/UTEA - SEMANAL - AVANCE COSECHA/2023/ANALISIS DE CAÑA EN CAMPO 2023/REPORTE_AVANCE_COSECHA/PLANOS_2/PLANO_1795.pdf', 'G:/Ingenio Azucarero Guabira S.A/UTEA - SEMANAL - AVANCE COSECHA/2023/ANALISIS DE CAÑA EN CAMPO 2023/REPORTE_AVANCE_COSECHA/PLANOS_2/PLANO_904.pdf', 'G:/Ingenio Azucarero Guabira S.A/UTEA - SEMANAL - AVANCE COSECHA/2023/ANALISIS DE CAÑA EN CAMPO 2023/REPORTE_AVANCE_COSECHA/PLANOS_2/PLANO_368.pdf', 'G:/Ingenio Azucarero Guabira S.A/UTEA - SEMANAL - AVANCE COSECHA/2023/ANALISIS DE CAÑA EN CAMPO 2023/REPORTE_AVANCE_COSECHA/PLANOS_2/PLANO_146.pdf', 'G:/Ingenio Azucarero Guabira S.A/UTEA - SEMANAL - AVANCE COSECHA/2023/ANALISIS DE CAÑA EN CAMPO 2023/REPORTE_AVANCE_COSECHA/PLANOS_2/PLANO_824.pdf']\n",
      "-*************************************\n",
      "394\n",
      "['G:/OneDrive - Ingenio Azucarero Guabira S.A/_DATOS_PYTHON/_tes_pdf/395.pdf', 'G:/Ingenio Azucarero Guabira S.A/UTEA - SEMANAL - AVANCE COSECHA/2023/ANALISIS DE CAÑA EN CAMPO 2023/REPORTE_AVANCE_COSECHA/PLANOS_2/PLANO_752.pdf', 'G:/Ingenio Azucarero Guabira S.A/UTEA - SEMANAL - AVANCE COSECHA/2023/ANALISIS DE CAÑA EN CAMPO 2023/REPORTE_AVANCE_COSECHA/PLANOS_2/PLANO_1500.pdf']\n",
      "-*************************************\n",
      "395\n",
      "['G:/OneDrive - Ingenio Azucarero Guabira S.A/_DATOS_PYTHON/_tes_pdf/396.pdf', 'G:/Ingenio Azucarero Guabira S.A/UTEA - SEMANAL - AVANCE COSECHA/2023/ANALISIS DE CAÑA EN CAMPO 2023/REPORTE_AVANCE_COSECHA/PLANOS_2/PLANO_1643.pdf', 'G:/Ingenio Azucarero Guabira S.A/UTEA - SEMANAL - AVANCE COSECHA/2023/ANALISIS DE CAÑA EN CAMPO 2023/REPORTE_AVANCE_COSECHA/PLANOS_2/PLANO_139.pdf', 'G:/Ingenio Azucarero Guabira S.A/UTEA - SEMANAL - AVANCE COSECHA/2023/ANALISIS DE CAÑA EN CAMPO 2023/REPORTE_AVANCE_COSECHA/PLANOS_2/PLANO_717.pdf', 'G:/Ingenio Azucarero Guabira S.A/UTEA - SEMANAL - AVANCE COSECHA/2023/ANALISIS DE CAÑA EN CAMPO 2023/REPORTE_AVANCE_COSECHA/PLANOS_2/PLANO_718.pdf', 'G:/Ingenio Azucarero Guabira S.A/UTEA - SEMANAL - AVANCE COSECHA/2023/ANALISIS DE CAÑA EN CAMPO 2023/REPORTE_AVANCE_COSECHA/PLANOS_2/PLANO_147.pdf', 'G:/Ingenio Azucarero Guabira S.A/UTEA - SEMANAL - AVANCE COSECHA/2023/ANALISIS DE CAÑA EN CAMPO 2023/REPORTE_AVANCE_COSECHA/PLANOS_2/PLANO_758.pdf', 'G:/Ingenio Azucarero Guabira S.A/UTEA - SEMANAL - AVANCE COSECHA/2023/ANALISIS DE CAÑA EN CAMPO 2023/REPORTE_AVANCE_COSECHA/PLANOS_2/PLANO_1146.pdf']\n",
      "-*************************************\n",
      "396\n",
      "['G:/OneDrive - Ingenio Azucarero Guabira S.A/_DATOS_PYTHON/_tes_pdf/397.pdf', 'G:/Ingenio Azucarero Guabira S.A/UTEA - SEMANAL - AVANCE COSECHA/2023/ANALISIS DE CAÑA EN CAMPO 2023/REPORTE_AVANCE_COSECHA/PLANOS_2/PLANO_276.pdf']\n",
      "-*************************************\n",
      "397\n",
      "['G:/OneDrive - Ingenio Azucarero Guabira S.A/_DATOS_PYTHON/_tes_pdf/398.pdf', 'G:/Ingenio Azucarero Guabira S.A/UTEA - SEMANAL - AVANCE COSECHA/2023/ANALISIS DE CAÑA EN CAMPO 2023/REPORTE_AVANCE_COSECHA/PLANOS_2/PLANO_1094.pdf', 'G:/Ingenio Azucarero Guabira S.A/UTEA - SEMANAL - AVANCE COSECHA/2023/ANALISIS DE CAÑA EN CAMPO 2023/REPORTE_AVANCE_COSECHA/PLANOS_2/PLANO_1655.pdf', 'G:/Ingenio Azucarero Guabira S.A/UTEA - SEMANAL - AVANCE COSECHA/2023/ANALISIS DE CAÑA EN CAMPO 2023/REPORTE_AVANCE_COSECHA/PLANOS_2/PLANO_1097.pdf', 'G:/Ingenio Azucarero Guabira S.A/UTEA - SEMANAL - AVANCE COSECHA/2023/ANALISIS DE CAÑA EN CAMPO 2023/REPORTE_AVANCE_COSECHA/PLANOS_2/PLANO_365.pdf', 'G:/Ingenio Azucarero Guabira S.A/UTEA - SEMANAL - AVANCE COSECHA/2023/ANALISIS DE CAÑA EN CAMPO 2023/REPORTE_AVANCE_COSECHA/PLANOS_2/PLANO_798.pdf', 'G:/Ingenio Azucarero Guabira S.A/UTEA - SEMANAL - AVANCE COSECHA/2023/ANALISIS DE CAÑA EN CAMPO 2023/REPORTE_AVANCE_COSECHA/PLANOS_2/PLANO_784.pdf', 'G:/Ingenio Azucarero Guabira S.A/UTEA - SEMANAL - AVANCE COSECHA/2023/ANALISIS DE CAÑA EN CAMPO 2023/REPORTE_AVANCE_COSECHA/PLANOS_2/PLANO_849.pdf', 'G:/Ingenio Azucarero Guabira S.A/UTEA - SEMANAL - AVANCE COSECHA/2023/ANALISIS DE CAÑA EN CAMPO 2023/REPORTE_AVANCE_COSECHA/PLANOS_2/PLANO_848.pdf', 'G:/Ingenio Azucarero Guabira S.A/UTEA - SEMANAL - AVANCE COSECHA/2023/ANALISIS DE CAÑA EN CAMPO 2023/REPORTE_AVANCE_COSECHA/PLANOS_2/PLANO_919.pdf', 'G:/Ingenio Azucarero Guabira S.A/UTEA - SEMANAL - AVANCE COSECHA/2023/ANALISIS DE CAÑA EN CAMPO 2023/REPORTE_AVANCE_COSECHA/PLANOS_2/PLANO_895.pdf', 'G:/Ingenio Azucarero Guabira S.A/UTEA - SEMANAL - AVANCE COSECHA/2023/ANALISIS DE CAÑA EN CAMPO 2023/REPORTE_AVANCE_COSECHA/PLANOS_2/PLANO_852.pdf', 'G:/Ingenio Azucarero Guabira S.A/UTEA - SEMANAL - AVANCE COSECHA/2023/ANALISIS DE CAÑA EN CAMPO 2023/REPORTE_AVANCE_COSECHA/PLANOS_2/PLANO_630.pdf', 'G:/Ingenio Azucarero Guabira S.A/UTEA - SEMANAL - AVANCE COSECHA/2023/ANALISIS DE CAÑA EN CAMPO 2023/REPORTE_AVANCE_COSECHA/PLANOS_2/PLANO_631.pdf', 'G:/Ingenio Azucarero Guabira S.A/UTEA - SEMANAL - AVANCE COSECHA/2023/ANALISIS DE CAÑA EN CAMPO 2023/REPORTE_AVANCE_COSECHA/PLANOS_2/PLANO_1852.pdf', 'G:/Ingenio Azucarero Guabira S.A/UTEA - SEMANAL - AVANCE COSECHA/2023/ANALISIS DE CAÑA EN CAMPO 2023/REPORTE_AVANCE_COSECHA/PLANOS_2/PLANO_797.pdf', 'G:/Ingenio Azucarero Guabira S.A/UTEA - SEMANAL - AVANCE COSECHA/2023/ANALISIS DE CAÑA EN CAMPO 2023/REPORTE_AVANCE_COSECHA/PLANOS_2/PLANO_894.pdf', 'G:/Ingenio Azucarero Guabira S.A/UTEA - SEMANAL - AVANCE COSECHA/2023/ANALISIS DE CAÑA EN CAMPO 2023/REPORTE_AVANCE_COSECHA/PLANOS_2/PLANO_1087.pdf']\n",
      "-*************************************\n",
      "398\n",
      "['G:/OneDrive - Ingenio Azucarero Guabira S.A/_DATOS_PYTHON/_tes_pdf/399.pdf', 'G:/Ingenio Azucarero Guabira S.A/UTEA - SEMANAL - AVANCE COSECHA/2023/ANALISIS DE CAÑA EN CAMPO 2023/REPORTE_AVANCE_COSECHA/PLANOS_2/PLANO_1682.pdf', 'G:/Ingenio Azucarero Guabira S.A/UTEA - SEMANAL - AVANCE COSECHA/2023/ANALISIS DE CAÑA EN CAMPO 2023/REPORTE_AVANCE_COSECHA/PLANOS_2/PLANO_1683.pdf']\n",
      "-*************************************\n",
      "399\n",
      "['G:/OneDrive - Ingenio Azucarero Guabira S.A/_DATOS_PYTHON/_tes_pdf/400.pdf', 'G:/Ingenio Azucarero Guabira S.A/UTEA - SEMANAL - AVANCE COSECHA/2023/ANALISIS DE CAÑA EN CAMPO 2023/REPORTE_AVANCE_COSECHA/PLANOS_2/PLANO_1344.pdf', 'G:/Ingenio Azucarero Guabira S.A/UTEA - SEMANAL - AVANCE COSECHA/2023/ANALISIS DE CAÑA EN CAMPO 2023/REPORTE_AVANCE_COSECHA/PLANOS_2/PLANO_1345.pdf', 'G:/Ingenio Azucarero Guabira S.A/UTEA - SEMANAL - AVANCE COSECHA/2023/ANALISIS DE CAÑA EN CAMPO 2023/REPORTE_AVANCE_COSECHA/PLANOS_2/PLANO_1346.pdf', 'G:/Ingenio Azucarero Guabira S.A/UTEA - SEMANAL - AVANCE COSECHA/2023/ANALISIS DE CAÑA EN CAMPO 2023/REPORTE_AVANCE_COSECHA/PLANOS_2/PLANO_1347.pdf', 'G:/Ingenio Azucarero Guabira S.A/UTEA - SEMANAL - AVANCE COSECHA/2023/ANALISIS DE CAÑA EN CAMPO 2023/REPORTE_AVANCE_COSECHA/PLANOS_2/PLANO_560.pdf', 'G:/Ingenio Azucarero Guabira S.A/UTEA - SEMANAL - AVANCE COSECHA/2023/ANALISIS DE CAÑA EN CAMPO 2023/REPORTE_AVANCE_COSECHA/PLANOS_2/PLANO_49.pdf', 'G:/Ingenio Azucarero Guabira S.A/UTEA - SEMANAL - AVANCE COSECHA/2023/ANALISIS DE CAÑA EN CAMPO 2023/REPORTE_AVANCE_COSECHA/PLANOS_2/PLANO_1432.pdf']\n",
      "-*************************************\n",
      "400\n",
      "['G:/OneDrive - Ingenio Azucarero Guabira S.A/_DATOS_PYTHON/_tes_pdf/401.pdf', 'G:/Ingenio Azucarero Guabira S.A/UTEA - SEMANAL - AVANCE COSECHA/2023/ANALISIS DE CAÑA EN CAMPO 2023/REPORTE_AVANCE_COSECHA/PLANOS_2/PLANO_758.pdf']\n",
      "-*************************************\n",
      "401\n",
      "['G:/OneDrive - Ingenio Azucarero Guabira S.A/_DATOS_PYTHON/_tes_pdf/402.pdf', 'G:/Ingenio Azucarero Guabira S.A/UTEA - SEMANAL - AVANCE COSECHA/2023/ANALISIS DE CAÑA EN CAMPO 2023/REPORTE_AVANCE_COSECHA/PLANOS_2/PLANO_300.pdf']\n",
      "-*************************************\n",
      "402\n",
      "['G:/OneDrive - Ingenio Azucarero Guabira S.A/_DATOS_PYTHON/_tes_pdf/403.pdf', 'G:/Ingenio Azucarero Guabira S.A/UTEA - SEMANAL - AVANCE COSECHA/2023/ANALISIS DE CAÑA EN CAMPO 2023/REPORTE_AVANCE_COSECHA/PLANOS_2/PLANO_1447.pdf', 'G:/Ingenio Azucarero Guabira S.A/UTEA - SEMANAL - AVANCE COSECHA/2023/ANALISIS DE CAÑA EN CAMPO 2023/REPORTE_AVANCE_COSECHA/PLANOS_2/PLANO_1705.pdf', 'G:/Ingenio Azucarero Guabira S.A/UTEA - SEMANAL - AVANCE COSECHA/2023/ANALISIS DE CAÑA EN CAMPO 2023/REPORTE_AVANCE_COSECHA/PLANOS_2/PLANO_1520.pdf', 'G:/Ingenio Azucarero Guabira S.A/UTEA - SEMANAL - AVANCE COSECHA/2023/ANALISIS DE CAÑA EN CAMPO 2023/REPORTE_AVANCE_COSECHA/PLANOS_2/PLANO_22.pdf', 'G:/Ingenio Azucarero Guabira S.A/UTEA - SEMANAL - AVANCE COSECHA/2023/ANALISIS DE CAÑA EN CAMPO 2023/REPORTE_AVANCE_COSECHA/PLANOS_2/PLANO_1758.pdf', 'G:/Ingenio Azucarero Guabira S.A/UTEA - SEMANAL - AVANCE COSECHA/2023/ANALISIS DE CAÑA EN CAMPO 2023/REPORTE_AVANCE_COSECHA/PLANOS_2/PLANO_63.pdf']\n",
      "-*************************************\n",
      "403\n",
      "['G:/OneDrive - Ingenio Azucarero Guabira S.A/_DATOS_PYTHON/_tes_pdf/404.pdf', 'G:/Ingenio Azucarero Guabira S.A/UTEA - SEMANAL - AVANCE COSECHA/2023/ANALISIS DE CAÑA EN CAMPO 2023/REPORTE_AVANCE_COSECHA/PLANOS_2/PLANO_50.pdf']\n",
      "-*************************************\n",
      "404\n",
      "['G:/OneDrive - Ingenio Azucarero Guabira S.A/_DATOS_PYTHON/_tes_pdf/405.pdf', 'G:/Ingenio Azucarero Guabira S.A/UTEA - SEMANAL - AVANCE COSECHA/2023/ANALISIS DE CAÑA EN CAMPO 2023/REPORTE_AVANCE_COSECHA/PLANOS_2/PLANO_1151.pdf']\n",
      "-*************************************\n",
      "405\n",
      "['G:/OneDrive - Ingenio Azucarero Guabira S.A/_DATOS_PYTHON/_tes_pdf/406.pdf', 'G:/Ingenio Azucarero Guabira S.A/UTEA - SEMANAL - AVANCE COSECHA/2023/ANALISIS DE CAÑA EN CAMPO 2023/REPORTE_AVANCE_COSECHA/PLANOS_2/PLANO_184.pdf', 'G:/Ingenio Azucarero Guabira S.A/UTEA - SEMANAL - AVANCE COSECHA/2023/ANALISIS DE CAÑA EN CAMPO 2023/REPORTE_AVANCE_COSECHA/PLANOS_2/PLANO_658.pdf', 'G:/Ingenio Azucarero Guabira S.A/UTEA - SEMANAL - AVANCE COSECHA/2023/ANALISIS DE CAÑA EN CAMPO 2023/REPORTE_AVANCE_COSECHA/PLANOS_2/PLANO_1551.pdf']\n",
      "-*************************************\n",
      "406\n",
      "['G:/OneDrive - Ingenio Azucarero Guabira S.A/_DATOS_PYTHON/_tes_pdf/408.pdf', 'G:/Ingenio Azucarero Guabira S.A/UTEA - SEMANAL - AVANCE COSECHA/2023/ANALISIS DE CAÑA EN CAMPO 2023/REPORTE_AVANCE_COSECHA/PLANOS_2/PLANO_114.pdf']\n",
      "-*************************************\n",
      "408\n",
      "['G:/OneDrive - Ingenio Azucarero Guabira S.A/_DATOS_PYTHON/_tes_pdf/409.pdf', 'G:/Ingenio Azucarero Guabira S.A/UTEA - SEMANAL - AVANCE COSECHA/2023/ANALISIS DE CAÑA EN CAMPO 2023/REPORTE_AVANCE_COSECHA/PLANOS_2/PLANO_132.pdf', 'G:/Ingenio Azucarero Guabira S.A/UTEA - SEMANAL - AVANCE COSECHA/2023/ANALISIS DE CAÑA EN CAMPO 2023/REPORTE_AVANCE_COSECHA/PLANOS_2/PLANO_781.pdf', 'G:/Ingenio Azucarero Guabira S.A/UTEA - SEMANAL - AVANCE COSECHA/2023/ANALISIS DE CAÑA EN CAMPO 2023/REPORTE_AVANCE_COSECHA/PLANOS_2/PLANO_14.pdf', 'G:/Ingenio Azucarero Guabira S.A/UTEA - SEMANAL - AVANCE COSECHA/2023/ANALISIS DE CAÑA EN CAMPO 2023/REPORTE_AVANCE_COSECHA/PLANOS_2/PLANO_1453.pdf', 'G:/Ingenio Azucarero Guabira S.A/UTEA - SEMANAL - AVANCE COSECHA/2023/ANALISIS DE CAÑA EN CAMPO 2023/REPORTE_AVANCE_COSECHA/PLANOS_2/PLANO_308.pdf', 'G:/Ingenio Azucarero Guabira S.A/UTEA - SEMANAL - AVANCE COSECHA/2023/ANALISIS DE CAÑA EN CAMPO 2023/REPORTE_AVANCE_COSECHA/PLANOS_2/PLANO_1719.pdf']\n",
      "-*************************************\n",
      "409\n",
      "['G:/OneDrive - Ingenio Azucarero Guabira S.A/_DATOS_PYTHON/_tes_pdf/410.pdf', 'G:/Ingenio Azucarero Guabira S.A/UTEA - SEMANAL - AVANCE COSECHA/2023/ANALISIS DE CAÑA EN CAMPO 2023/REPORTE_AVANCE_COSECHA/PLANOS_2/PLANO_284.pdf']\n",
      "-*************************************\n",
      "410\n",
      "['G:/OneDrive - Ingenio Azucarero Guabira S.A/_DATOS_PYTHON/_tes_pdf/412.pdf', 'G:/Ingenio Azucarero Guabira S.A/UTEA - SEMANAL - AVANCE COSECHA/2023/ANALISIS DE CAÑA EN CAMPO 2023/REPORTE_AVANCE_COSECHA/PLANOS_2/PLANO_1421.pdf']\n",
      "-*************************************\n",
      "412\n",
      "['G:/OneDrive - Ingenio Azucarero Guabira S.A/_DATOS_PYTHON/_tes_pdf/414.pdf', 'G:/Ingenio Azucarero Guabira S.A/UTEA - SEMANAL - AVANCE COSECHA/2023/ANALISIS DE CAÑA EN CAMPO 2023/REPORTE_AVANCE_COSECHA/PLANOS_2/PLANO_674.pdf']\n",
      "-*************************************\n",
      "414\n",
      "['G:/OneDrive - Ingenio Azucarero Guabira S.A/_DATOS_PYTHON/_tes_pdf/416.pdf', 'G:/Ingenio Azucarero Guabira S.A/UTEA - SEMANAL - AVANCE COSECHA/2023/ANALISIS DE CAÑA EN CAMPO 2023/REPORTE_AVANCE_COSECHA/PLANOS_2/PLANO_296.pdf', 'G:/Ingenio Azucarero Guabira S.A/UTEA - SEMANAL - AVANCE COSECHA/2023/ANALISIS DE CAÑA EN CAMPO 2023/REPORTE_AVANCE_COSECHA/PLANOS_2/PLANO_21.pdf']\n",
      "-*************************************\n",
      "416\n",
      "['G:/OneDrive - Ingenio Azucarero Guabira S.A/_DATOS_PYTHON/_tes_pdf/417.pdf', 'G:/Ingenio Azucarero Guabira S.A/UTEA - SEMANAL - AVANCE COSECHA/2023/ANALISIS DE CAÑA EN CAMPO 2023/REPORTE_AVANCE_COSECHA/PLANOS_2/PLANO_72.pdf', 'G:/Ingenio Azucarero Guabira S.A/UTEA - SEMANAL - AVANCE COSECHA/2023/ANALISIS DE CAÑA EN CAMPO 2023/REPORTE_AVANCE_COSECHA/PLANOS_2/PLANO_1777.pdf', 'G:/Ingenio Azucarero Guabira S.A/UTEA - SEMANAL - AVANCE COSECHA/2023/ANALISIS DE CAÑA EN CAMPO 2023/REPORTE_AVANCE_COSECHA/PLANOS_2/PLANO_1827.pdf', 'G:/Ingenio Azucarero Guabira S.A/UTEA - SEMANAL - AVANCE COSECHA/2023/ANALISIS DE CAÑA EN CAMPO 2023/REPORTE_AVANCE_COSECHA/PLANOS_2/PLANO_94.pdf']\n",
      "-*************************************\n",
      "417\n",
      "['G:/OneDrive - Ingenio Azucarero Guabira S.A/_DATOS_PYTHON/_tes_pdf/418.pdf', 'G:/Ingenio Azucarero Guabira S.A/UTEA - SEMANAL - AVANCE COSECHA/2023/ANALISIS DE CAÑA EN CAMPO 2023/REPORTE_AVANCE_COSECHA/PLANOS_2/PLANO_986.pdf', 'G:/Ingenio Azucarero Guabira S.A/UTEA - SEMANAL - AVANCE COSECHA/2023/ANALISIS DE CAÑA EN CAMPO 2023/REPORTE_AVANCE_COSECHA/PLANOS_2/PLANO_1013.pdf']\n",
      "-*************************************\n",
      "418\n",
      "['G:/OneDrive - Ingenio Azucarero Guabira S.A/_DATOS_PYTHON/_tes_pdf/419.pdf', 'G:/Ingenio Azucarero Guabira S.A/UTEA - SEMANAL - AVANCE COSECHA/2023/ANALISIS DE CAÑA EN CAMPO 2023/REPORTE_AVANCE_COSECHA/PLANOS_2/PLANO_1272.pdf', 'G:/Ingenio Azucarero Guabira S.A/UTEA - SEMANAL - AVANCE COSECHA/2023/ANALISIS DE CAÑA EN CAMPO 2023/REPORTE_AVANCE_COSECHA/PLANOS_2/PLANO_721.pdf', 'G:/Ingenio Azucarero Guabira S.A/UTEA - SEMANAL - AVANCE COSECHA/2023/ANALISIS DE CAÑA EN CAMPO 2023/REPORTE_AVANCE_COSECHA/PLANOS_2/PLANO_722.pdf', 'G:/Ingenio Azucarero Guabira S.A/UTEA - SEMANAL - AVANCE COSECHA/2023/ANALISIS DE CAÑA EN CAMPO 2023/REPORTE_AVANCE_COSECHA/PLANOS_2/PLANO_591.pdf']\n",
      "-*************************************\n",
      "419\n",
      "['G:/OneDrive - Ingenio Azucarero Guabira S.A/_DATOS_PYTHON/_tes_pdf/420.pdf', 'G:/Ingenio Azucarero Guabira S.A/UTEA - SEMANAL - AVANCE COSECHA/2023/ANALISIS DE CAÑA EN CAMPO 2023/REPORTE_AVANCE_COSECHA/PLANOS_2/PLANO_1441.pdf', 'G:/Ingenio Azucarero Guabira S.A/UTEA - SEMANAL - AVANCE COSECHA/2023/ANALISIS DE CAÑA EN CAMPO 2023/REPORTE_AVANCE_COSECHA/PLANOS_2/PLANO_737.pdf', 'G:/Ingenio Azucarero Guabira S.A/UTEA - SEMANAL - AVANCE COSECHA/2023/ANALISIS DE CAÑA EN CAMPO 2023/REPORTE_AVANCE_COSECHA/PLANOS_2/PLANO_1283.pdf', 'G:/Ingenio Azucarero Guabira S.A/UTEA - SEMANAL - AVANCE COSECHA/2023/ANALISIS DE CAÑA EN CAMPO 2023/REPORTE_AVANCE_COSECHA/PLANOS_2/PLANO_612.pdf', 'G:/Ingenio Azucarero Guabira S.A/UTEA - SEMANAL - AVANCE COSECHA/2023/ANALISIS DE CAÑA EN CAMPO 2023/REPORTE_AVANCE_COSECHA/PLANOS_2/PLANO_1284.pdf', 'G:/Ingenio Azucarero Guabira S.A/UTEA - SEMANAL - AVANCE COSECHA/2023/ANALISIS DE CAÑA EN CAMPO 2023/REPORTE_AVANCE_COSECHA/PLANOS_2/PLANO_739.pdf', 'G:/Ingenio Azucarero Guabira S.A/UTEA - SEMANAL - AVANCE COSECHA/2023/ANALISIS DE CAÑA EN CAMPO 2023/REPORTE_AVANCE_COSECHA/PLANOS_2/PLANO_1736.pdf', 'G:/Ingenio Azucarero Guabira S.A/UTEA - SEMANAL - AVANCE COSECHA/2023/ANALISIS DE CAÑA EN CAMPO 2023/REPORTE_AVANCE_COSECHA/PLANOS_2/PLANO_1739.pdf', 'G:/Ingenio Azucarero Guabira S.A/UTEA - SEMANAL - AVANCE COSECHA/2023/ANALISIS DE CAÑA EN CAMPO 2023/REPORTE_AVANCE_COSECHA/PLANOS_2/PLANO_1740.pdf', 'G:/Ingenio Azucarero Guabira S.A/UTEA - SEMANAL - AVANCE COSECHA/2023/ANALISIS DE CAÑA EN CAMPO 2023/REPORTE_AVANCE_COSECHA/PLANOS_2/PLANO_1741.pdf', 'G:/Ingenio Azucarero Guabira S.A/UTEA - SEMANAL - AVANCE COSECHA/2023/ANALISIS DE CAÑA EN CAMPO 2023/REPORTE_AVANCE_COSECHA/PLANOS_2/PLANO_1903.pdf', 'G:/Ingenio Azucarero Guabira S.A/UTEA - SEMANAL - AVANCE COSECHA/2023/ANALISIS DE CAÑA EN CAMPO 2023/REPORTE_AVANCE_COSECHA/PLANOS_2/PLANO_112.pdf', 'G:/Ingenio Azucarero Guabira S.A/UTEA - SEMANAL - AVANCE COSECHA/2023/ANALISIS DE CAÑA EN CAMPO 2023/REPORTE_AVANCE_COSECHA/PLANOS_2/PLANO_1851.pdf', 'G:/Ingenio Azucarero Guabira S.A/UTEA - SEMANAL - AVANCE COSECHA/2023/ANALISIS DE CAÑA EN CAMPO 2023/REPORTE_AVANCE_COSECHA/PLANOS_2/PLANO_1503.pdf']\n",
      "-*************************************\n",
      "420\n",
      "['G:/OneDrive - Ingenio Azucarero Guabira S.A/_DATOS_PYTHON/_tes_pdf/421.pdf', 'G:/Ingenio Azucarero Guabira S.A/UTEA - SEMANAL - AVANCE COSECHA/2023/ANALISIS DE CAÑA EN CAMPO 2023/REPORTE_AVANCE_COSECHA/PLANOS_2/PLANO_1260.pdf', 'G:/Ingenio Azucarero Guabira S.A/UTEA - SEMANAL - AVANCE COSECHA/2023/ANALISIS DE CAÑA EN CAMPO 2023/REPORTE_AVANCE_COSECHA/PLANOS_2/PLANO_1605.pdf']\n",
      "-*************************************\n",
      "421\n",
      "['G:/OneDrive - Ingenio Azucarero Guabira S.A/_DATOS_PYTHON/_tes_pdf/422.pdf', 'G:/Ingenio Azucarero Guabira S.A/UTEA - SEMANAL - AVANCE COSECHA/2023/ANALISIS DE CAÑA EN CAMPO 2023/REPORTE_AVANCE_COSECHA/PLANOS_2/PLANO_1043.pdf']\n",
      "-*************************************\n",
      "422\n",
      "['G:/OneDrive - Ingenio Azucarero Guabira S.A/_DATOS_PYTHON/_tes_pdf/423.pdf', 'G:/Ingenio Azucarero Guabira S.A/UTEA - SEMANAL - AVANCE COSECHA/2023/ANALISIS DE CAÑA EN CAMPO 2023/REPORTE_AVANCE_COSECHA/PLANOS_2/PLANO_155.pdf', 'G:/Ingenio Azucarero Guabira S.A/UTEA - SEMANAL - AVANCE COSECHA/2023/ANALISIS DE CAÑA EN CAMPO 2023/REPORTE_AVANCE_COSECHA/PLANOS_2/PLANO_1796.pdf', 'G:/Ingenio Azucarero Guabira S.A/UTEA - SEMANAL - AVANCE COSECHA/2023/ANALISIS DE CAÑA EN CAMPO 2023/REPORTE_AVANCE_COSECHA/PLANOS_2/PLANO_509.pdf', 'G:/Ingenio Azucarero Guabira S.A/UTEA - SEMANAL - AVANCE COSECHA/2023/ANALISIS DE CAÑA EN CAMPO 2023/REPORTE_AVANCE_COSECHA/PLANOS_2/PLANO_92.pdf']\n",
      "-*************************************\n",
      "423\n",
      "['G:/OneDrive - Ingenio Azucarero Guabira S.A/_DATOS_PYTHON/_tes_pdf/424.pdf', 'G:/Ingenio Azucarero Guabira S.A/UTEA - SEMANAL - AVANCE COSECHA/2023/ANALISIS DE CAÑA EN CAMPO 2023/REPORTE_AVANCE_COSECHA/PLANOS_2/PLANO_155.pdf', 'G:/Ingenio Azucarero Guabira S.A/UTEA - SEMANAL - AVANCE COSECHA/2023/ANALISIS DE CAÑA EN CAMPO 2023/REPORTE_AVANCE_COSECHA/PLANOS_2/PLANO_507.pdf']\n",
      "-*************************************\n",
      "424\n",
      "['G:/OneDrive - Ingenio Azucarero Guabira S.A/_DATOS_PYTHON/_tes_pdf/425.pdf', 'G:/Ingenio Azucarero Guabira S.A/UTEA - SEMANAL - AVANCE COSECHA/2023/ANALISIS DE CAÑA EN CAMPO 2023/REPORTE_AVANCE_COSECHA/PLANOS_2/PLANO_1800.pdf', 'G:/Ingenio Azucarero Guabira S.A/UTEA - SEMANAL - AVANCE COSECHA/2023/ANALISIS DE CAÑA EN CAMPO 2023/REPORTE_AVANCE_COSECHA/PLANOS_2/PLANO_1801.pdf', 'G:/Ingenio Azucarero Guabira S.A/UTEA - SEMANAL - AVANCE COSECHA/2023/ANALISIS DE CAÑA EN CAMPO 2023/REPORTE_AVANCE_COSECHA/PLANOS_2/PLANO_1802.pdf', 'G:/Ingenio Azucarero Guabira S.A/UTEA - SEMANAL - AVANCE COSECHA/2023/ANALISIS DE CAÑA EN CAMPO 2023/REPORTE_AVANCE_COSECHA/PLANOS_2/PLANO_1513.pdf', 'G:/Ingenio Azucarero Guabira S.A/UTEA - SEMANAL - AVANCE COSECHA/2023/ANALISIS DE CAÑA EN CAMPO 2023/REPORTE_AVANCE_COSECHA/PLANOS_2/PLANO_1807.pdf']\n",
      "-*************************************\n",
      "425\n",
      "['G:/OneDrive - Ingenio Azucarero Guabira S.A/_DATOS_PYTHON/_tes_pdf/426.pdf', 'G:/Ingenio Azucarero Guabira S.A/UTEA - SEMANAL - AVANCE COSECHA/2023/ANALISIS DE CAÑA EN CAMPO 2023/REPORTE_AVANCE_COSECHA/PLANOS_2/PLANO_1643.pdf']\n",
      "-*************************************\n",
      "426\n",
      "['G:/OneDrive - Ingenio Azucarero Guabira S.A/_DATOS_PYTHON/_tes_pdf/427.pdf', 'G:/Ingenio Azucarero Guabira S.A/UTEA - SEMANAL - AVANCE COSECHA/2023/ANALISIS DE CAÑA EN CAMPO 2023/REPORTE_AVANCE_COSECHA/PLANOS_2/PLANO_1416.pdf']\n",
      "-*************************************\n",
      "427\n",
      "['G:/OneDrive - Ingenio Azucarero Guabira S.A/_DATOS_PYTHON/_tes_pdf/429.pdf', 'G:/Ingenio Azucarero Guabira S.A/UTEA - SEMANAL - AVANCE COSECHA/2023/ANALISIS DE CAÑA EN CAMPO 2023/REPORTE_AVANCE_COSECHA/PLANOS_2/PLANO_1368.pdf', 'G:/Ingenio Azucarero Guabira S.A/UTEA - SEMANAL - AVANCE COSECHA/2023/ANALISIS DE CAÑA EN CAMPO 2023/REPORTE_AVANCE_COSECHA/PLANOS_2/PLANO_1766.pdf']\n",
      "-*************************************\n",
      "429\n",
      "['G:/OneDrive - Ingenio Azucarero Guabira S.A/_DATOS_PYTHON/_tes_pdf/432.pdf', 'G:/Ingenio Azucarero Guabira S.A/UTEA - SEMANAL - AVANCE COSECHA/2023/ANALISIS DE CAÑA EN CAMPO 2023/REPORTE_AVANCE_COSECHA/PLANOS_2/PLANO_1780.pdf', 'G:/Ingenio Azucarero Guabira S.A/UTEA - SEMANAL - AVANCE COSECHA/2023/ANALISIS DE CAÑA EN CAMPO 2023/REPORTE_AVANCE_COSECHA/PLANOS_2/PLANO_1781.pdf', 'G:/Ingenio Azucarero Guabira S.A/UTEA - SEMANAL - AVANCE COSECHA/2023/ANALISIS DE CAÑA EN CAMPO 2023/REPORTE_AVANCE_COSECHA/PLANOS_2/PLANO_1886.pdf']\n",
      "-*************************************\n",
      "432\n",
      "['G:/OneDrive - Ingenio Azucarero Guabira S.A/_DATOS_PYTHON/_tes_pdf/433.pdf', 'G:/Ingenio Azucarero Guabira S.A/UTEA - SEMANAL - AVANCE COSECHA/2023/ANALISIS DE CAÑA EN CAMPO 2023/REPORTE_AVANCE_COSECHA/PLANOS_2/PLANO_267.pdf', 'G:/Ingenio Azucarero Guabira S.A/UTEA - SEMANAL - AVANCE COSECHA/2023/ANALISIS DE CAÑA EN CAMPO 2023/REPORTE_AVANCE_COSECHA/PLANOS_2/PLANO_271.pdf', 'G:/Ingenio Azucarero Guabira S.A/UTEA - SEMANAL - AVANCE COSECHA/2023/ANALISIS DE CAÑA EN CAMPO 2023/REPORTE_AVANCE_COSECHA/PLANOS_2/PLANO_326.pdf', 'G:/Ingenio Azucarero Guabira S.A/UTEA - SEMANAL - AVANCE COSECHA/2023/ANALISIS DE CAÑA EN CAMPO 2023/REPORTE_AVANCE_COSECHA/PLANOS_2/PLANO_270.pdf']\n",
      "-*************************************\n",
      "433\n",
      "['G:/OneDrive - Ingenio Azucarero Guabira S.A/_DATOS_PYTHON/_tes_pdf/434.pdf', 'G:/Ingenio Azucarero Guabira S.A/UTEA - SEMANAL - AVANCE COSECHA/2023/ANALISIS DE CAÑA EN CAMPO 2023/REPORTE_AVANCE_COSECHA/PLANOS_2/PLANO_54.pdf']\n",
      "-*************************************\n",
      "434\n",
      "['G:/OneDrive - Ingenio Azucarero Guabira S.A/_DATOS_PYTHON/_tes_pdf/435.pdf', 'G:/Ingenio Azucarero Guabira S.A/UTEA - SEMANAL - AVANCE COSECHA/2023/ANALISIS DE CAÑA EN CAMPO 2023/REPORTE_AVANCE_COSECHA/PLANOS_2/PLANO_782.pdf']\n",
      "-*************************************\n",
      "435\n",
      "['G:/OneDrive - Ingenio Azucarero Guabira S.A/_DATOS_PYTHON/_tes_pdf/437.pdf', 'G:/Ingenio Azucarero Guabira S.A/UTEA - SEMANAL - AVANCE COSECHA/2023/ANALISIS DE CAÑA EN CAMPO 2023/REPORTE_AVANCE_COSECHA/PLANOS_2/PLANO_1093.pdf']\n",
      "-*************************************\n",
      "437\n",
      "['G:/OneDrive - Ingenio Azucarero Guabira S.A/_DATOS_PYTHON/_tes_pdf/438.pdf', 'G:/Ingenio Azucarero Guabira S.A/UTEA - SEMANAL - AVANCE COSECHA/2023/ANALISIS DE CAÑA EN CAMPO 2023/REPORTE_AVANCE_COSECHA/PLANOS_2/PLANO_1089.pdf', 'G:/Ingenio Azucarero Guabira S.A/UTEA - SEMANAL - AVANCE COSECHA/2023/ANALISIS DE CAÑA EN CAMPO 2023/REPORTE_AVANCE_COSECHA/PLANOS_2/PLANO_421.pdf', 'G:/Ingenio Azucarero Guabira S.A/UTEA - SEMANAL - AVANCE COSECHA/2023/ANALISIS DE CAÑA EN CAMPO 2023/REPORTE_AVANCE_COSECHA/PLANOS_2/PLANO_1482.pdf', 'G:/Ingenio Azucarero Guabira S.A/UTEA - SEMANAL - AVANCE COSECHA/2023/ANALISIS DE CAÑA EN CAMPO 2023/REPORTE_AVANCE_COSECHA/PLANOS_2/PLANO_1708.pdf', 'G:/Ingenio Azucarero Guabira S.A/UTEA - SEMANAL - AVANCE COSECHA/2023/ANALISIS DE CAÑA EN CAMPO 2023/REPORTE_AVANCE_COSECHA/PLANOS_2/PLANO_247.pdf']\n",
      "-*************************************\n",
      "438\n",
      "['G:/OneDrive - Ingenio Azucarero Guabira S.A/_DATOS_PYTHON/_tes_pdf/439.pdf', 'G:/Ingenio Azucarero Guabira S.A/UTEA - SEMANAL - AVANCE COSECHA/2023/ANALISIS DE CAÑA EN CAMPO 2023/REPORTE_AVANCE_COSECHA/PLANOS_2/PLANO_1229.pdf']\n",
      "-*************************************\n",
      "439\n",
      "['G:/OneDrive - Ingenio Azucarero Guabira S.A/_DATOS_PYTHON/_tes_pdf/442.pdf', 'G:/Ingenio Azucarero Guabira S.A/UTEA - SEMANAL - AVANCE COSECHA/2023/ANALISIS DE CAÑA EN CAMPO 2023/REPORTE_AVANCE_COSECHA/PLANOS_2/PLANO_1578.pdf', 'G:/Ingenio Azucarero Guabira S.A/UTEA - SEMANAL - AVANCE COSECHA/2023/ANALISIS DE CAÑA EN CAMPO 2023/REPORTE_AVANCE_COSECHA/PLANOS_2/PLANO_1922.pdf']\n",
      "-*************************************\n",
      "442\n",
      "['G:/OneDrive - Ingenio Azucarero Guabira S.A/_DATOS_PYTHON/_tes_pdf/443.pdf', 'G:/Ingenio Azucarero Guabira S.A/UTEA - SEMANAL - AVANCE COSECHA/2023/ANALISIS DE CAÑA EN CAMPO 2023/REPORTE_AVANCE_COSECHA/PLANOS_2/PLANO_716.pdf']\n",
      "-*************************************\n",
      "443\n",
      "['G:/OneDrive - Ingenio Azucarero Guabira S.A/_DATOS_PYTHON/_tes_pdf/444.pdf', 'G:/Ingenio Azucarero Guabira S.A/UTEA - SEMANAL - AVANCE COSECHA/2023/ANALISIS DE CAÑA EN CAMPO 2023/REPORTE_AVANCE_COSECHA/PLANOS_2/PLANO_1941.pdf']\n",
      "-*************************************\n",
      "444\n",
      "['G:/OneDrive - Ingenio Azucarero Guabira S.A/_DATOS_PYTHON/_tes_pdf/445.pdf', 'G:/Ingenio Azucarero Guabira S.A/UTEA - SEMANAL - AVANCE COSECHA/2023/ANALISIS DE CAÑA EN CAMPO 2023/REPORTE_AVANCE_COSECHA/PLANOS_2/PLANO_246.pdf']\n",
      "-*************************************\n",
      "445\n",
      "['G:/OneDrive - Ingenio Azucarero Guabira S.A/_DATOS_PYTHON/_tes_pdf/446.pdf', 'G:/Ingenio Azucarero Guabira S.A/UTEA - SEMANAL - AVANCE COSECHA/2023/ANALISIS DE CAÑA EN CAMPO 2023/REPORTE_AVANCE_COSECHA/PLANOS_2/PLANO_1113.pdf', 'G:/Ingenio Azucarero Guabira S.A/UTEA - SEMANAL - AVANCE COSECHA/2023/ANALISIS DE CAÑA EN CAMPO 2023/REPORTE_AVANCE_COSECHA/PLANOS_2/PLANO_953.pdf', 'G:/Ingenio Azucarero Guabira S.A/UTEA - SEMANAL - AVANCE COSECHA/2023/ANALISIS DE CAÑA EN CAMPO 2023/REPORTE_AVANCE_COSECHA/PLANOS_2/PLANO_1114.pdf']\n",
      "-*************************************\n",
      "446\n",
      "['G:/OneDrive - Ingenio Azucarero Guabira S.A/_DATOS_PYTHON/_tes_pdf/448.pdf', 'G:/Ingenio Azucarero Guabira S.A/UTEA - SEMANAL - AVANCE COSECHA/2023/ANALISIS DE CAÑA EN CAMPO 2023/REPORTE_AVANCE_COSECHA/PLANOS_2/PLANO_125.pdf']\n",
      "-*************************************\n",
      "448\n",
      "['G:/OneDrive - Ingenio Azucarero Guabira S.A/_DATOS_PYTHON/_tes_pdf/449.pdf', 'G:/Ingenio Azucarero Guabira S.A/UTEA - SEMANAL - AVANCE COSECHA/2023/ANALISIS DE CAÑA EN CAMPO 2023/REPORTE_AVANCE_COSECHA/PLANOS_2/PLANO_865.pdf']\n",
      "-*************************************\n",
      "449\n",
      "['G:/OneDrive - Ingenio Azucarero Guabira S.A/_DATOS_PYTHON/_tes_pdf/450.pdf', 'G:/Ingenio Azucarero Guabira S.A/UTEA - SEMANAL - AVANCE COSECHA/2023/ANALISIS DE CAÑA EN CAMPO 2023/REPORTE_AVANCE_COSECHA/PLANOS_2/PLANO_577.pdf', 'G:/Ingenio Azucarero Guabira S.A/UTEA - SEMANAL - AVANCE COSECHA/2023/ANALISIS DE CAÑA EN CAMPO 2023/REPORTE_AVANCE_COSECHA/PLANOS_2/PLANO_1607.pdf', 'G:/Ingenio Azucarero Guabira S.A/UTEA - SEMANAL - AVANCE COSECHA/2023/ANALISIS DE CAÑA EN CAMPO 2023/REPORTE_AVANCE_COSECHA/PLANOS_2/PLANO_1355.pdf', 'G:/Ingenio Azucarero Guabira S.A/UTEA - SEMANAL - AVANCE COSECHA/2023/ANALISIS DE CAÑA EN CAMPO 2023/REPORTE_AVANCE_COSECHA/PLANOS_2/PLANO_1460.pdf', 'G:/Ingenio Azucarero Guabira S.A/UTEA - SEMANAL - AVANCE COSECHA/2023/ANALISIS DE CAÑA EN CAMPO 2023/REPORTE_AVANCE_COSECHA/PLANOS_2/PLANO_92.pdf']\n",
      "-*************************************\n",
      "450\n",
      "['G:/OneDrive - Ingenio Azucarero Guabira S.A/_DATOS_PYTHON/_tes_pdf/451.pdf', 'G:/Ingenio Azucarero Guabira S.A/UTEA - SEMANAL - AVANCE COSECHA/2023/ANALISIS DE CAÑA EN CAMPO 2023/REPORTE_AVANCE_COSECHA/PLANOS_2/PLANO_1201.pdf', 'G:/Ingenio Azucarero Guabira S.A/UTEA - SEMANAL - AVANCE COSECHA/2023/ANALISIS DE CAÑA EN CAMPO 2023/REPORTE_AVANCE_COSECHA/PLANOS_2/PLANO_1333.pdf', 'G:/Ingenio Azucarero Guabira S.A/UTEA - SEMANAL - AVANCE COSECHA/2023/ANALISIS DE CAÑA EN CAMPO 2023/REPORTE_AVANCE_COSECHA/PLANOS_2/PLANO_1495.pdf']\n",
      "-*************************************\n",
      "451\n",
      "['G:/OneDrive - Ingenio Azucarero Guabira S.A/_DATOS_PYTHON/_tes_pdf/452.pdf', 'G:/Ingenio Azucarero Guabira S.A/UTEA - SEMANAL - AVANCE COSECHA/2023/ANALISIS DE CAÑA EN CAMPO 2023/REPORTE_AVANCE_COSECHA/PLANOS_2/PLANO_1104.pdf', 'G:/Ingenio Azucarero Guabira S.A/UTEA - SEMANAL - AVANCE COSECHA/2023/ANALISIS DE CAÑA EN CAMPO 2023/REPORTE_AVANCE_COSECHA/PLANOS_2/PLANO_1899.pdf', 'G:/Ingenio Azucarero Guabira S.A/UTEA - SEMANAL - AVANCE COSECHA/2023/ANALISIS DE CAÑA EN CAMPO 2023/REPORTE_AVANCE_COSECHA/PLANOS_2/PLANO_1898.pdf', 'G:/Ingenio Azucarero Guabira S.A/UTEA - SEMANAL - AVANCE COSECHA/2023/ANALISIS DE CAÑA EN CAMPO 2023/REPORTE_AVANCE_COSECHA/PLANOS_2/PLANO_1891.pdf']\n",
      "-*************************************\n",
      "452\n",
      "['G:/OneDrive - Ingenio Azucarero Guabira S.A/_DATOS_PYTHON/_tes_pdf/453.pdf', 'G:/Ingenio Azucarero Guabira S.A/UTEA - SEMANAL - AVANCE COSECHA/2023/ANALISIS DE CAÑA EN CAMPO 2023/REPORTE_AVANCE_COSECHA/PLANOS_2/PLANO_1232.pdf', 'G:/Ingenio Azucarero Guabira S.A/UTEA - SEMANAL - AVANCE COSECHA/2023/ANALISIS DE CAÑA EN CAMPO 2023/REPORTE_AVANCE_COSECHA/PLANOS_2/PLANO_1021.pdf', 'G:/Ingenio Azucarero Guabira S.A/UTEA - SEMANAL - AVANCE COSECHA/2023/ANALISIS DE CAÑA EN CAMPO 2023/REPORTE_AVANCE_COSECHA/PLANOS_2/PLANO_229.pdf']\n",
      "-*************************************\n",
      "453\n",
      "['G:/OneDrive - Ingenio Azucarero Guabira S.A/_DATOS_PYTHON/_tes_pdf/455.pdf', 'G:/Ingenio Azucarero Guabira S.A/UTEA - SEMANAL - AVANCE COSECHA/2023/ANALISIS DE CAÑA EN CAMPO 2023/REPORTE_AVANCE_COSECHA/PLANOS_2/PLANO_12.pdf']\n",
      "-*************************************\n",
      "455\n",
      "['G:/OneDrive - Ingenio Azucarero Guabira S.A/_DATOS_PYTHON/_tes_pdf/456.pdf', 'G:/Ingenio Azucarero Guabira S.A/UTEA - SEMANAL - AVANCE COSECHA/2023/ANALISIS DE CAÑA EN CAMPO 2023/REPORTE_AVANCE_COSECHA/PLANOS_2/PLANO_696.pdf', 'G:/Ingenio Azucarero Guabira S.A/UTEA - SEMANAL - AVANCE COSECHA/2023/ANALISIS DE CAÑA EN CAMPO 2023/REPORTE_AVANCE_COSECHA/PLANOS_2/PLANO_1132.pdf', 'G:/Ingenio Azucarero Guabira S.A/UTEA - SEMANAL - AVANCE COSECHA/2023/ANALISIS DE CAÑA EN CAMPO 2023/REPORTE_AVANCE_COSECHA/PLANOS_2/PLANO_695.pdf']\n",
      "-*************************************\n",
      "456\n",
      "['G:/OneDrive - Ingenio Azucarero Guabira S.A/_DATOS_PYTHON/_tes_pdf/457.pdf', 'G:/Ingenio Azucarero Guabira S.A/UTEA - SEMANAL - AVANCE COSECHA/2023/ANALISIS DE CAÑA EN CAMPO 2023/REPORTE_AVANCE_COSECHA/PLANOS_2/PLANO_1963.pdf']\n",
      "-*************************************\n",
      "457\n",
      "['G:/OneDrive - Ingenio Azucarero Guabira S.A/_DATOS_PYTHON/_tes_pdf/458.pdf', 'G:/Ingenio Azucarero Guabira S.A/UTEA - SEMANAL - AVANCE COSECHA/2023/ANALISIS DE CAÑA EN CAMPO 2023/REPORTE_AVANCE_COSECHA/PLANOS_2/PLANO_1331.pdf', 'G:/Ingenio Azucarero Guabira S.A/UTEA - SEMANAL - AVANCE COSECHA/2023/ANALISIS DE CAÑA EN CAMPO 2023/REPORTE_AVANCE_COSECHA/PLANOS_2/PLANO_1292.pdf', 'G:/Ingenio Azucarero Guabira S.A/UTEA - SEMANAL - AVANCE COSECHA/2023/ANALISIS DE CAÑA EN CAMPO 2023/REPORTE_AVANCE_COSECHA/PLANOS_2/PLANO_1332.pdf']\n",
      "-*************************************\n",
      "458\n",
      "['G:/OneDrive - Ingenio Azucarero Guabira S.A/_DATOS_PYTHON/_tes_pdf/459.pdf', 'G:/Ingenio Azucarero Guabira S.A/UTEA - SEMANAL - AVANCE COSECHA/2023/ANALISIS DE CAÑA EN CAMPO 2023/REPORTE_AVANCE_COSECHA/PLANOS_2/PLANO_1074.pdf']\n",
      "-*************************************\n",
      "459\n",
      "['G:/OneDrive - Ingenio Azucarero Guabira S.A/_DATOS_PYTHON/_tes_pdf/500.pdf', 'G:/Ingenio Azucarero Guabira S.A/UTEA - SEMANAL - AVANCE COSECHA/2023/ANALISIS DE CAÑA EN CAMPO 2023/REPORTE_AVANCE_COSECHA/PLANOS_2/PLANO_592.pdf']\n",
      "-*************************************\n",
      "500\n",
      "['G:/OneDrive - Ingenio Azucarero Guabira S.A/_DATOS_PYTHON/_tes_pdf/501.pdf', 'G:/Ingenio Azucarero Guabira S.A/UTEA - SEMANAL - AVANCE COSECHA/2023/ANALISIS DE CAÑA EN CAMPO 2023/REPORTE_AVANCE_COSECHA/PLANOS_2/PLANO_1861.pdf']\n",
      "-*************************************\n",
      "501\n",
      "['G:/OneDrive - Ingenio Azucarero Guabira S.A/_DATOS_PYTHON/_tes_pdf/502.pdf', 'G:/Ingenio Azucarero Guabira S.A/UTEA - SEMANAL - AVANCE COSECHA/2023/ANALISIS DE CAÑA EN CAMPO 2023/REPORTE_AVANCE_COSECHA/PLANOS_2/PLANO_861.pdf']\n",
      "-*************************************\n",
      "502\n",
      "['G:/OneDrive - Ingenio Azucarero Guabira S.A/_DATOS_PYTHON/_tes_pdf/504.pdf', 'G:/Ingenio Azucarero Guabira S.A/UTEA - SEMANAL - AVANCE COSECHA/2023/ANALISIS DE CAÑA EN CAMPO 2023/REPORTE_AVANCE_COSECHA/PLANOS_2/PLANO_1869.pdf', 'G:/Ingenio Azucarero Guabira S.A/UTEA - SEMANAL - AVANCE COSECHA/2023/ANALISIS DE CAÑA EN CAMPO 2023/REPORTE_AVANCE_COSECHA/PLANOS_2/PLANO_1870.pdf']\n",
      "-*************************************\n",
      "504\n",
      "['G:/OneDrive - Ingenio Azucarero Guabira S.A/_DATOS_PYTHON/_tes_pdf/505.pdf', 'G:/Ingenio Azucarero Guabira S.A/UTEA - SEMANAL - AVANCE COSECHA/2023/ANALISIS DE CAÑA EN CAMPO 2023/REPORTE_AVANCE_COSECHA/PLANOS_2/PLANO_1883.pdf', 'G:/Ingenio Azucarero Guabira S.A/UTEA - SEMANAL - AVANCE COSECHA/2023/ANALISIS DE CAÑA EN CAMPO 2023/REPORTE_AVANCE_COSECHA/PLANOS_2/PLANO_915.pdf']\n",
      "-*************************************\n",
      "505\n",
      "['G:/OneDrive - Ingenio Azucarero Guabira S.A/_DATOS_PYTHON/_tes_pdf/507.pdf', 'G:/Ingenio Azucarero Guabira S.A/UTEA - SEMANAL - AVANCE COSECHA/2023/ANALISIS DE CAÑA EN CAMPO 2023/REPORTE_AVANCE_COSECHA/PLANOS_2/PLANO_1881.pdf', 'G:/Ingenio Azucarero Guabira S.A/UTEA - SEMANAL - AVANCE COSECHA/2023/ANALISIS DE CAÑA EN CAMPO 2023/REPORTE_AVANCE_COSECHA/PLANOS_2/PLANO_1882.pdf']\n",
      "-*************************************\n",
      "507\n",
      "['G:/OneDrive - Ingenio Azucarero Guabira S.A/_DATOS_PYTHON/_tes_pdf/508.pdf', 'G:/Ingenio Azucarero Guabira S.A/UTEA - SEMANAL - AVANCE COSECHA/2023/ANALISIS DE CAÑA EN CAMPO 2023/REPORTE_AVANCE_COSECHA/PLANOS_2/PLANO_937.pdf', 'G:/Ingenio Azucarero Guabira S.A/UTEA - SEMANAL - AVANCE COSECHA/2023/ANALISIS DE CAÑA EN CAMPO 2023/REPORTE_AVANCE_COSECHA/PLANOS_2/PLANO_938.pdf', 'G:/Ingenio Azucarero Guabira S.A/UTEA - SEMANAL - AVANCE COSECHA/2023/ANALISIS DE CAÑA EN CAMPO 2023/REPORTE_AVANCE_COSECHA/PLANOS_2/PLANO_939.pdf', 'G:/Ingenio Azucarero Guabira S.A/UTEA - SEMANAL - AVANCE COSECHA/2023/ANALISIS DE CAÑA EN CAMPO 2023/REPORTE_AVANCE_COSECHA/PLANOS_2/PLANO_9.pdf']\n",
      "-*************************************\n",
      "508\n",
      "['G:/OneDrive - Ingenio Azucarero Guabira S.A/_DATOS_PYTHON/_tes_pdf/509.pdf', 'G:/Ingenio Azucarero Guabira S.A/UTEA - SEMANAL - AVANCE COSECHA/2023/ANALISIS DE CAÑA EN CAMPO 2023/REPORTE_AVANCE_COSECHA/PLANOS_2/PLANO_993.pdf', 'G:/Ingenio Azucarero Guabira S.A/UTEA - SEMANAL - AVANCE COSECHA/2023/ANALISIS DE CAÑA EN CAMPO 2023/REPORTE_AVANCE_COSECHA/PLANOS_2/PLANO_802.pdf', 'G:/Ingenio Azucarero Guabira S.A/UTEA - SEMANAL - AVANCE COSECHA/2023/ANALISIS DE CAÑA EN CAMPO 2023/REPORTE_AVANCE_COSECHA/PLANOS_2/PLANO_1878.pdf', 'G:/Ingenio Azucarero Guabira S.A/UTEA - SEMANAL - AVANCE COSECHA/2023/ANALISIS DE CAÑA EN CAMPO 2023/REPORTE_AVANCE_COSECHA/PLANOS_2/PLANO_863.pdf']\n",
      "-*************************************\n",
      "509\n",
      "['G:/OneDrive - Ingenio Azucarero Guabira S.A/_DATOS_PYTHON/_tes_pdf/510.pdf', 'G:/Ingenio Azucarero Guabira S.A/UTEA - SEMANAL - AVANCE COSECHA/2023/ANALISIS DE CAÑA EN CAMPO 2023/REPORTE_AVANCE_COSECHA/PLANOS_2/PLANO_1920.pdf', 'G:/Ingenio Azucarero Guabira S.A/UTEA - SEMANAL - AVANCE COSECHA/2023/ANALISIS DE CAÑA EN CAMPO 2023/REPORTE_AVANCE_COSECHA/PLANOS_2/PLANO_1921.pdf', 'G:/Ingenio Azucarero Guabira S.A/UTEA - SEMANAL - AVANCE COSECHA/2023/ANALISIS DE CAÑA EN CAMPO 2023/REPORTE_AVANCE_COSECHA/PLANOS_2/PLANO_1300.pdf']\n",
      "-*************************************\n",
      "510\n",
      "['G:/OneDrive - Ingenio Azucarero Guabira S.A/_DATOS_PYTHON/_tes_pdf/511.pdf', 'G:/Ingenio Azucarero Guabira S.A/UTEA - SEMANAL - AVANCE COSECHA/2023/ANALISIS DE CAÑA EN CAMPO 2023/REPORTE_AVANCE_COSECHA/PLANOS_2/PLANO_1848.pdf', 'G:/Ingenio Azucarero Guabira S.A/UTEA - SEMANAL - AVANCE COSECHA/2023/ANALISIS DE CAÑA EN CAMPO 2023/REPORTE_AVANCE_COSECHA/PLANOS_2/PLANO_1849.pdf']\n",
      "-*************************************\n",
      "511\n",
      "['G:/OneDrive - Ingenio Azucarero Guabira S.A/_DATOS_PYTHON/_tes_pdf/513.pdf', 'G:/Ingenio Azucarero Guabira S.A/UTEA - SEMANAL - AVANCE COSECHA/2023/ANALISIS DE CAÑA EN CAMPO 2023/REPORTE_AVANCE_COSECHA/PLANOS_2/PLANO_1393.pdf', 'G:/Ingenio Azucarero Guabira S.A/UTEA - SEMANAL - AVANCE COSECHA/2023/ANALISIS DE CAÑA EN CAMPO 2023/REPORTE_AVANCE_COSECHA/PLANOS_2/PLANO_1930.pdf']\n",
      "-*************************************\n",
      "513\n",
      "['G:/OneDrive - Ingenio Azucarero Guabira S.A/_DATOS_PYTHON/_tes_pdf/514.pdf', 'G:/Ingenio Azucarero Guabira S.A/UTEA - SEMANAL - AVANCE COSECHA/2023/ANALISIS DE CAÑA EN CAMPO 2023/REPORTE_AVANCE_COSECHA/PLANOS_2/PLANO_1705.pdf', 'G:/Ingenio Azucarero Guabira S.A/UTEA - SEMANAL - AVANCE COSECHA/2023/ANALISIS DE CAÑA EN CAMPO 2023/REPORTE_AVANCE_COSECHA/PLANOS_2/PLANO_579.pdf', 'G:/Ingenio Azucarero Guabira S.A/UTEA - SEMANAL - AVANCE COSECHA/2023/ANALISIS DE CAÑA EN CAMPO 2023/REPORTE_AVANCE_COSECHA/PLANOS_2/PLANO_590.pdf', 'G:/Ingenio Azucarero Guabira S.A/UTEA - SEMANAL - AVANCE COSECHA/2023/ANALISIS DE CAÑA EN CAMPO 2023/REPORTE_AVANCE_COSECHA/PLANOS_2/PLANO_183.pdf']\n",
      "-*************************************\n",
      "514\n",
      "['G:/OneDrive - Ingenio Azucarero Guabira S.A/_DATOS_PYTHON/_tes_pdf/515.pdf', 'G:/Ingenio Azucarero Guabira S.A/UTEA - SEMANAL - AVANCE COSECHA/2023/ANALISIS DE CAÑA EN CAMPO 2023/REPORTE_AVANCE_COSECHA/PLANOS_2/PLANO_676.pdf', 'G:/Ingenio Azucarero Guabira S.A/UTEA - SEMANAL - AVANCE COSECHA/2023/ANALISIS DE CAÑA EN CAMPO 2023/REPORTE_AVANCE_COSECHA/PLANOS_2/PLANO_1644.pdf', 'G:/Ingenio Azucarero Guabira S.A/UTEA - SEMANAL - AVANCE COSECHA/2023/ANALISIS DE CAÑA EN CAMPO 2023/REPORTE_AVANCE_COSECHA/PLANOS_2/PLANO_878.pdf', 'G:/Ingenio Azucarero Guabira S.A/UTEA - SEMANAL - AVANCE COSECHA/2023/ANALISIS DE CAÑA EN CAMPO 2023/REPORTE_AVANCE_COSECHA/PLANOS_2/PLANO_1936.pdf', 'G:/Ingenio Azucarero Guabira S.A/UTEA - SEMANAL - AVANCE COSECHA/2023/ANALISIS DE CAÑA EN CAMPO 2023/REPORTE_AVANCE_COSECHA/PLANOS_2/PLANO_1937.pdf', 'G:/Ingenio Azucarero Guabira S.A/UTEA - SEMANAL - AVANCE COSECHA/2023/ANALISIS DE CAÑA EN CAMPO 2023/REPORTE_AVANCE_COSECHA/PLANOS_2/PLANO_1938.pdf', 'G:/Ingenio Azucarero Guabira S.A/UTEA - SEMANAL - AVANCE COSECHA/2023/ANALISIS DE CAÑA EN CAMPO 2023/REPORTE_AVANCE_COSECHA/PLANOS_2/PLANO_702.pdf', 'G:/Ingenio Azucarero Guabira S.A/UTEA - SEMANAL - AVANCE COSECHA/2023/ANALISIS DE CAÑA EN CAMPO 2023/REPORTE_AVANCE_COSECHA/PLANOS_2/PLANO_703.pdf']\n",
      "-*************************************\n",
      "515\n",
      "['G:/OneDrive - Ingenio Azucarero Guabira S.A/_DATOS_PYTHON/_tes_pdf/516.pdf', 'G:/Ingenio Azucarero Guabira S.A/UTEA - SEMANAL - AVANCE COSECHA/2023/ANALISIS DE CAÑA EN CAMPO 2023/REPORTE_AVANCE_COSECHA/PLANOS_2/PLANO_1653.pdf', 'G:/Ingenio Azucarero Guabira S.A/UTEA - SEMANAL - AVANCE COSECHA/2023/ANALISIS DE CAÑA EN CAMPO 2023/REPORTE_AVANCE_COSECHA/PLANOS_2/PLANO_525.pdf']\n",
      "-*************************************\n",
      "516\n",
      "['G:/OneDrive - Ingenio Azucarero Guabira S.A/_DATOS_PYTHON/_tes_pdf/517.pdf', 'G:/Ingenio Azucarero Guabira S.A/UTEA - SEMANAL - AVANCE COSECHA/2023/ANALISIS DE CAÑA EN CAMPO 2023/REPORTE_AVANCE_COSECHA/PLANOS_2/PLANO_1222.pdf']\n",
      "-*************************************\n",
      "517\n",
      "['G:/OneDrive - Ingenio Azucarero Guabira S.A/_DATOS_PYTHON/_tes_pdf/518.pdf', 'G:/Ingenio Azucarero Guabira S.A/UTEA - SEMANAL - AVANCE COSECHA/2023/ANALISIS DE CAÑA EN CAMPO 2023/REPORTE_AVANCE_COSECHA/PLANOS_2/PLANO_556.pdf']\n",
      "-*************************************\n",
      "518\n",
      "['G:/OneDrive - Ingenio Azucarero Guabira S.A/_DATOS_PYTHON/_tes_pdf/519.pdf', 'G:/Ingenio Azucarero Guabira S.A/UTEA - SEMANAL - AVANCE COSECHA/2023/ANALISIS DE CAÑA EN CAMPO 2023/REPORTE_AVANCE_COSECHA/PLANOS_2/PLANO_8.pdf', 'G:/Ingenio Azucarero Guabira S.A/UTEA - SEMANAL - AVANCE COSECHA/2023/ANALISIS DE CAÑA EN CAMPO 2023/REPORTE_AVANCE_COSECHA/PLANOS_2/PLANO_510.pdf']\n",
      "-*************************************\n",
      "519\n",
      "['G:/OneDrive - Ingenio Azucarero Guabira S.A/_DATOS_PYTHON/_tes_pdf/520.pdf', 'G:/Ingenio Azucarero Guabira S.A/UTEA - SEMANAL - AVANCE COSECHA/2023/ANALISIS DE CAÑA EN CAMPO 2023/REPORTE_AVANCE_COSECHA/PLANOS_2/PLANO_119.pdf', 'G:/Ingenio Azucarero Guabira S.A/UTEA - SEMANAL - AVANCE COSECHA/2023/ANALISIS DE CAÑA EN CAMPO 2023/REPORTE_AVANCE_COSECHA/PLANOS_2/PLANO_999.pdf']\n",
      "-*************************************\n",
      "520\n",
      "['G:/OneDrive - Ingenio Azucarero Guabira S.A/_DATOS_PYTHON/_tes_pdf/521.pdf', 'G:/Ingenio Azucarero Guabira S.A/UTEA - SEMANAL - AVANCE COSECHA/2023/ANALISIS DE CAÑA EN CAMPO 2023/REPORTE_AVANCE_COSECHA/PLANOS_2/PLANO_1274.pdf']\n",
      "-*************************************\n",
      "521\n",
      "['G:/OneDrive - Ingenio Azucarero Guabira S.A/_DATOS_PYTHON/_tes_pdf/523.pdf', 'G:/Ingenio Azucarero Guabira S.A/UTEA - SEMANAL - AVANCE COSECHA/2023/ANALISIS DE CAÑA EN CAMPO 2023/REPORTE_AVANCE_COSECHA/PLANOS_2/PLANO_1970.pdf']\n",
      "-*************************************\n",
      "523\n",
      "['G:/OneDrive - Ingenio Azucarero Guabira S.A/_DATOS_PYTHON/_tes_pdf/524.pdf', 'G:/Ingenio Azucarero Guabira S.A/UTEA - SEMANAL - AVANCE COSECHA/2023/ANALISIS DE CAÑA EN CAMPO 2023/REPORTE_AVANCE_COSECHA/PLANOS_2/PLANO_442.pdf', 'G:/Ingenio Azucarero Guabira S.A/UTEA - SEMANAL - AVANCE COSECHA/2023/ANALISIS DE CAÑA EN CAMPO 2023/REPORTE_AVANCE_COSECHA/PLANOS_2/PLANO_434.pdf', 'G:/Ingenio Azucarero Guabira S.A/UTEA - SEMANAL - AVANCE COSECHA/2023/ANALISIS DE CAÑA EN CAMPO 2023/REPORTE_AVANCE_COSECHA/PLANOS_2/PLANO_435.pdf']\n",
      "-*************************************\n",
      "524\n",
      "['G:/OneDrive - Ingenio Azucarero Guabira S.A/_DATOS_PYTHON/_tes_pdf/525.pdf', 'G:/Ingenio Azucarero Guabira S.A/UTEA - SEMANAL - AVANCE COSECHA/2023/ANALISIS DE CAÑA EN CAMPO 2023/REPORTE_AVANCE_COSECHA/PLANOS_2/PLANO_1424.pdf']\n",
      "-*************************************\n",
      "525\n"
     ]
    }
   ],
   "source": [
    "for llave, valor in dict_keys.items():\n",
    "    fusionador = PdfMerger()\n",
    "    reporte = 'G:/OneDrive - Ingenio Azucarero Guabira S.A/_DATOS_PYTHON/_tes_pdf/' + str(llave) + '.pdf'\n",
    "    p = []\n",
    "    p.append(reporte)\n",
    "    for prop in valor:\n",
    "        name = 'G:/Ingenio Azucarero Guabira S.A/UTEA - SEMANAL - AVANCE COSECHA/2023/ANALISIS DE CAÑA EN CAMPO 2023/REPORTE_AVANCE_COSECHA/PLANOS_2/PLANO_' + str(prop) + '.pdf'\n",
    "        p.append(name)\n",
    "    print(p)\n",
    "    print('-*************************************')\n",
    "    \n",
    "    for pdf in p:\n",
    "        fusionador.append(open(pdf, 'rb'))\n",
    "    salida_r = 'G:/OneDrive - Ingenio Azucarero Guabira S.A/_DATOS_PYTHON/_tes_pdf_2/'\n",
    "    with open(salida_r + str(llave) + '.pdf', 'wb') as salida:\n",
    "        fusionador.write(salida)\n",
    "    print(llave)"
   ]
  },
  {
   "cell_type": "code",
   "execution_count": null,
   "id": "d5df7508-d24f-4f86-8126-ea93ddfb010f",
   "metadata": {},
   "outputs": [],
   "source": []
  },
  {
   "cell_type": "code",
   "execution_count": null,
   "id": "7169e195-cb39-43e0-94a9-54e09b741442",
   "metadata": {},
   "outputs": [],
   "source": []
  },
  {
   "cell_type": "code",
   "execution_count": 34,
   "id": "a1c0f2ed-63bf-4690-9f25-c6a68a063073",
   "metadata": {},
   "outputs": [],
   "source": [
    "for pdf in p:\n",
    "    fusionador.append(open(pdf, 'rb'))"
   ]
  },
  {
   "cell_type": "code",
   "execution_count": 40,
   "id": "e1971d18-5c88-4cca-8409-f12cabec5caf",
   "metadata": {},
   "outputs": [],
   "source": [
    "salida_r = 'D:/OneDrive - Ingenio Azucarero Guabira S.A/_DATOS_PYTHON/_tes_pdf_2/'"
   ]
  },
  {
   "cell_type": "code",
   "execution_count": 41,
   "id": "16cd8915-4edb-41eb-82bd-0f33553c14ac",
   "metadata": {},
   "outputs": [],
   "source": [
    "with open(salida_r + str(1) + '.pdf', 'wb') as salida:\n",
    "    fusionador.write(salida)"
   ]
  },
  {
   "cell_type": "code",
   "execution_count": null,
   "id": "88ecdf1c-cb58-4f57-b6ce-991606f003c6",
   "metadata": {},
   "outputs": [],
   "source": []
  },
  {
   "cell_type": "code",
   "execution_count": null,
   "id": "c1e14bb5-8e2c-42fc-8a09-e7c872cb8dec",
   "metadata": {},
   "outputs": [],
   "source": []
  },
  {
   "cell_type": "code",
   "execution_count": null,
   "id": "db684d01-a009-4e9f-b3f7-0c0e91d6e786",
   "metadata": {},
   "outputs": [],
   "source": []
  },
  {
   "cell_type": "code",
   "execution_count": null,
   "id": "a19c4ffc-89b0-4db0-81d2-2cf6c0a701ac",
   "metadata": {},
   "outputs": [],
   "source": []
  },
  {
   "cell_type": "code",
   "execution_count": null,
   "id": "0ffa553b-ccb6-464e-9ced-f64761da9c19",
   "metadata": {},
   "outputs": [],
   "source": []
  },
  {
   "cell_type": "code",
   "execution_count": null,
   "id": "c58ab25a-7807-49cf-8e9f-fd04cb8949be",
   "metadata": {},
   "outputs": [],
   "source": []
  },
  {
   "cell_type": "code",
   "execution_count": null,
   "id": "bac5f75c-ba9c-426f-803f-ceb6d360d0fc",
   "metadata": {},
   "outputs": [],
   "source": []
  },
  {
   "cell_type": "code",
   "execution_count": null,
   "id": "cbdfebe0-7b91-44bf-af03-7ae67878d9cb",
   "metadata": {},
   "outputs": [],
   "source": []
  },
  {
   "cell_type": "code",
   "execution_count": null,
   "id": "e5d37558-5dbc-42b3-bf7c-9f79140ae770",
   "metadata": {},
   "outputs": [],
   "source": []
  }
 ],
 "metadata": {
  "kernelspec": {
   "display_name": "Python 3 (ipykernel)",
   "language": "python",
   "name": "python3"
  },
  "language_info": {
   "codemirror_mode": {
    "name": "ipython",
    "version": 3
   },
   "file_extension": ".py",
   "mimetype": "text/x-python",
   "name": "python",
   "nbconvert_exporter": "python",
   "pygments_lexer": "ipython3",
   "version": "3.7.16"
  }
 },
 "nbformat": 4,
 "nbformat_minor": 5
}
