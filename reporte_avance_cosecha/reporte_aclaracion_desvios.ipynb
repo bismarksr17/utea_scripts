{
 "cells": [
  {
   "cell_type": "markdown",
   "id": "a7a290fe-5066-46af-b0de-ba7f3341acee",
   "metadata": {},
   "source": [
    "Cartar de posible desvio para la union"
   ]
  },
  {
   "cell_type": "code",
   "execution_count": 1,
   "id": "ca9b4b00-6b15-4a9d-af08-e70c7d600def",
   "metadata": {},
   "outputs": [],
   "source": [
    "import sys\n",
    "sys.path.append('..')\n",
    "\n",
    "import pandas as pd\n",
    "import collections\n",
    "import os\n",
    "\n",
    "from docxtpl import DocxTemplate\n",
    "\n",
    "from config import RUTA_UNIDAD_ONE_DRIVE\n",
    "from config import RUTA_LOCAL_ONE_DRIVE\n",
    "from config import POSTGRES_UTEA\n",
    "\n",
    "RUTA_COMPLETA = os.path.join(RUTA_UNIDAD_ONE_DRIVE, RUTA_LOCAL_ONE_DRIVE)"
   ]
  },
  {
   "cell_type": "code",
   "execution_count": 2,
   "id": "3e5d52ea-5b4f-486d-ab01-b7ceb2667134",
   "metadata": {},
   "outputs": [
    {
     "data": {
      "text/plain": [
       "'G:\\\\OneDrive - Ingenio Azucarero Guabira S.A\\\\_DATOS_PYTHON'"
      ]
     },
     "execution_count": 2,
     "metadata": {},
     "output_type": "execute_result"
    }
   ],
   "source": [
    "RUTA_COMPLETA"
   ]
  },
  {
   "cell_type": "code",
   "execution_count": 3,
   "id": "15207647-8bfc-4d8d-9dd5-4bc8a6ef7d69",
   "metadata": {},
   "outputs": [],
   "source": [
    "path_xlsx_avance = RUTA_UNIDAD_ONE_DRIVE + r'\\Ingenio Azucarero Guabira S.A\\UTEA - SEMANAL - AVANCE COSECHA\\2025\\AVANCE SEMANAL\\AVANCE DE COSECHA V1.xlsx'"
   ]
  },
  {
   "cell_type": "code",
   "execution_count": 4,
   "id": "12e13faf-193b-4d25-964f-58eeb7a0d1b0",
   "metadata": {},
   "outputs": [],
   "source": [
    "xlsx_entregas = pd.read_excel(path_xlsx_avance, sheet_name='DETALLE ENTREGAS')\n",
    "xlsx_avance = pd.read_excel(path_xlsx_avance, sheet_name = 'AVANCE')"
   ]
  },
  {
   "cell_type": "code",
   "execution_count": 5,
   "id": "332a83a8-8931-4c9d-8bef-e1ee0841778b",
   "metadata": {},
   "outputs": [
    {
     "data": {
      "text/html": [
       "<div>\n",
       "<style scoped>\n",
       "    .dataframe tbody tr th:only-of-type {\n",
       "        vertical-align: middle;\n",
       "    }\n",
       "\n",
       "    .dataframe tbody tr th {\n",
       "        vertical-align: top;\n",
       "    }\n",
       "\n",
       "    .dataframe thead th {\n",
       "        text-align: right;\n",
       "    }\n",
       "</style>\n",
       "<table border=\"1\" class=\"dataframe\">\n",
       "  <thead>\n",
       "    <tr style=\"text-align: right;\">\n",
       "      <th></th>\n",
       "      <th>inst</th>\n",
       "      <th>cod_cos</th>\n",
       "      <th>cod_ca</th>\n",
       "      <th>nom_ca</th>\n",
       "      <th>TOTAL COMPROMISO</th>\n",
       "      <th>TOTAL ENTREGAS</th>\n",
       "      <th>%ENTREGA</th>\n",
       "    </tr>\n",
       "  </thead>\n",
       "  <tbody>\n",
       "    <tr>\n",
       "      <th>0</th>\n",
       "      <td>1</td>\n",
       "      <td>49</td>\n",
       "      <td>660</td>\n",
       "      <td>AGUILERA ANTELO ALEX ENRIQUE</td>\n",
       "      <td>982.61</td>\n",
       "      <td>627.21</td>\n",
       "      <td>63.831021</td>\n",
       "    </tr>\n",
       "    <tr>\n",
       "      <th>1</th>\n",
       "      <td>1</td>\n",
       "      <td>54</td>\n",
       "      <td>3361</td>\n",
       "      <td>ENRIQUEZ ROJAS ALBERTO</td>\n",
       "      <td>1615.39</td>\n",
       "      <td>1460.25</td>\n",
       "      <td>90.396127</td>\n",
       "    </tr>\n",
       "    <tr>\n",
       "      <th>2</th>\n",
       "      <td>1</td>\n",
       "      <td>55</td>\n",
       "      <td>3460</td>\n",
       "      <td>ESPINOZA MENDOZA SANTIAGO</td>\n",
       "      <td>5288.56</td>\n",
       "      <td>6138.79</td>\n",
       "      <td>116.076777</td>\n",
       "    </tr>\n",
       "  </tbody>\n",
       "</table>\n",
       "</div>"
      ],
      "text/plain": [
       "  inst  cod_cos  cod_ca                        nom_ca  TOTAL COMPROMISO  \\\n",
       "0    1       49     660  AGUILERA ANTELO ALEX ENRIQUE            982.61   \n",
       "1    1       54    3361        ENRIQUEZ ROJAS ALBERTO           1615.39   \n",
       "2    1       55    3460     ESPINOZA MENDOZA SANTIAGO           5288.56   \n",
       "\n",
       "   TOTAL ENTREGAS    %ENTREGA  \n",
       "0          627.21   63.831021  \n",
       "1         1460.25   90.396127  \n",
       "2         6138.79  116.076777  "
      ]
     },
     "execution_count": 5,
     "metadata": {},
     "output_type": "execute_result"
    }
   ],
   "source": [
    "xlsx_entregas = xlsx_entregas.drop(xlsx_entregas.index[-1])\n",
    "xlsx_entregas = xlsx_entregas.drop(xlsx_entregas.index[-1])\n",
    "xlsx_entregas['cod_cos'] = xlsx_entregas['cod_cos'].astype(int)\n",
    "xlsx_entregas['cod_ca'] = xlsx_entregas['cod_ca'].astype(int)\n",
    "xlsx_entregas['%ENTREGA'] = xlsx_entregas['%ENTREGA'] * 100\n",
    "xlsx_entregas.head(3)"
   ]
  },
  {
   "cell_type": "code",
   "execution_count": 6,
   "id": "233ab732-ee37-49cb-be64-85707f59846b",
   "metadata": {},
   "outputs": [
    {
     "data": {
      "text/html": [
       "<div>\n",
       "<style scoped>\n",
       "    .dataframe tbody tr th:only-of-type {\n",
       "        vertical-align: middle;\n",
       "    }\n",
       "\n",
       "    .dataframe tbody tr th {\n",
       "        vertical-align: top;\n",
       "    }\n",
       "\n",
       "    .dataframe thead th {\n",
       "        text-align: right;\n",
       "    }\n",
       "</style>\n",
       "<table border=\"1\" class=\"dataframe\">\n",
       "  <thead>\n",
       "    <tr style=\"text-align: right;\">\n",
       "      <th></th>\n",
       "      <th>COD COS</th>\n",
       "      <th>INST</th>\n",
       "      <th>COD CA</th>\n",
       "      <th>NOMBRE</th>\n",
       "      <th>COMPROMISO</th>\n",
       "      <th>ENTREGAS</th>\n",
       "      <th>%ENTREGA</th>\n",
       "      <th>TOTAL AREA</th>\n",
       "      <th>COSECHADO</th>\n",
       "      <th>SIN COSECHAR</th>\n",
       "      <th>...</th>\n",
       "      <th>TCH</th>\n",
       "      <th>%DIFF AVANCE</th>\n",
       "      <th>TCH EST</th>\n",
       "      <th>PRODUC EST</th>\n",
       "      <th>EST PRODUC COSECHADO</th>\n",
       "      <th>DIF. EST ENTREGA</th>\n",
       "      <th>%DIF. EST ENTREGA</th>\n",
       "      <th>TN EN CAMPO</th>\n",
       "      <th>COMPROMISO RES</th>\n",
       "      <th>DIFERENCIA</th>\n",
       "    </tr>\n",
       "  </thead>\n",
       "  <tbody>\n",
       "    <tr>\n",
       "      <th>0</th>\n",
       "      <td>1</td>\n",
       "      <td>50</td>\n",
       "      <td>515</td>\n",
       "      <td>AGUILERA OLGA RIVERO VDA DE</td>\n",
       "      <td>30572.11</td>\n",
       "      <td>24584.36</td>\n",
       "      <td>0.804143</td>\n",
       "      <td>618.27</td>\n",
       "      <td>393.00</td>\n",
       "      <td>219.30</td>\n",
       "      <td>...</td>\n",
       "      <td>62.555623</td>\n",
       "      <td>0.168499</td>\n",
       "      <td>57.639599</td>\n",
       "      <td>35292.15</td>\n",
       "      <td>22949.92</td>\n",
       "      <td>1634.44</td>\n",
       "      <td>0.933517</td>\n",
       "      <td>12342.23</td>\n",
       "      <td>5987.75</td>\n",
       "      <td>6354.48</td>\n",
       "    </tr>\n",
       "    <tr>\n",
       "      <th>1</th>\n",
       "      <td>2</td>\n",
       "      <td>69</td>\n",
       "      <td>1180</td>\n",
       "      <td>BALCAZAR BALCAZAR JESUS E.</td>\n",
       "      <td>10965.29</td>\n",
       "      <td>11870.94</td>\n",
       "      <td>1.082592</td>\n",
       "      <td>200.94</td>\n",
       "      <td>195.54</td>\n",
       "      <td>3.34</td>\n",
       "      <td>...</td>\n",
       "      <td>60.708500</td>\n",
       "      <td>0.109466</td>\n",
       "      <td>53.082819</td>\n",
       "      <td>10569.32</td>\n",
       "      <td>10385.82</td>\n",
       "      <td>1485.12</td>\n",
       "      <td>0.874894</td>\n",
       "      <td>183.50</td>\n",
       "      <td>-905.65</td>\n",
       "      <td>1089.15</td>\n",
       "    </tr>\n",
       "    <tr>\n",
       "      <th>2</th>\n",
       "      <td>3</td>\n",
       "      <td>69</td>\n",
       "      <td>911</td>\n",
       "      <td>BALCAZAR JUSTINIANO MARIO</td>\n",
       "      <td>5422.67</td>\n",
       "      <td>3339.39</td>\n",
       "      <td>0.615820</td>\n",
       "      <td>122.97</td>\n",
       "      <td>60.95</td>\n",
       "      <td>61.37</td>\n",
       "      <td>...</td>\n",
       "      <td>54.789007</td>\n",
       "      <td>0.120171</td>\n",
       "      <td>51.431188</td>\n",
       "      <td>6289.52</td>\n",
       "      <td>3275.12</td>\n",
       "      <td>64.27</td>\n",
       "      <td>0.980754</td>\n",
       "      <td>3014.40</td>\n",
       "      <td>2083.28</td>\n",
       "      <td>931.12</td>\n",
       "    </tr>\n",
       "  </tbody>\n",
       "</table>\n",
       "<p>3 rows × 22 columns</p>\n",
       "</div>"
      ],
      "text/plain": [
       "  COD COS INST  COD CA                       NOMBRE  COMPROMISO  ENTREGAS  \\\n",
       "0       1    50    515  AGUILERA OLGA RIVERO VDA DE    30572.11  24584.36   \n",
       "1       2    69   1180   BALCAZAR BALCAZAR JESUS E.    10965.29  11870.94   \n",
       "2       3    69    911    BALCAZAR JUSTINIANO MARIO     5422.67   3339.39   \n",
       "\n",
       "   %ENTREGA  TOTAL AREA  COSECHADO  SIN COSECHAR  ...        TCH  \\\n",
       "0  0.804143      618.27     393.00        219.30  ...  62.555623   \n",
       "1  1.082592      200.94     195.54          3.34  ...  60.708500   \n",
       "2  0.615820      122.97      60.95         61.37  ...  54.789007   \n",
       "\n",
       "   %DIFF AVANCE    TCH EST  PRODUC EST  EST PRODUC COSECHADO  \\\n",
       "0      0.168499  57.639599    35292.15              22949.92   \n",
       "1      0.109466  53.082819    10569.32              10385.82   \n",
       "2      0.120171  51.431188     6289.52               3275.12   \n",
       "\n",
       "   DIF. EST ENTREGA  %DIF. EST ENTREGA  TN EN CAMPO  COMPROMISO RES   \\\n",
       "0           1634.44           0.933517     12342.23          5987.75   \n",
       "1           1485.12           0.874894       183.50          -905.65   \n",
       "2             64.27           0.980754      3014.40          2083.28   \n",
       "\n",
       "   DIFERENCIA  \n",
       "0     6354.48  \n",
       "1     1089.15  \n",
       "2      931.12  \n",
       "\n",
       "[3 rows x 22 columns]"
      ]
     },
     "execution_count": 6,
     "metadata": {},
     "output_type": "execute_result"
    }
   ],
   "source": [
    "xlsx_avance.head(3)"
   ]
  },
  {
   "cell_type": "code",
   "execution_count": 7,
   "id": "4a4ac4ba-661c-4c6e-b78d-11fd28ecebad",
   "metadata": {},
   "outputs": [
    {
     "data": {
      "text/plain": [
       "Index(['COD COS', 'INST ', 'COD CA', 'NOMBRE', 'COMPROMISO', 'ENTREGAS',\n",
       "       '%ENTREGA', 'TOTAL AREA', 'COSECHADO', 'SIN COSECHAR', 'SEMILLA',\n",
       "       '%COSECHADO', 'TCH', '%DIFF AVANCE', 'TCH EST', 'PRODUC EST',\n",
       "       'EST PRODUC COSECHADO', 'DIF. EST ENTREGA', '%DIF. EST ENTREGA',\n",
       "       'TN EN CAMPO', 'COMPROMISO RES ', 'DIFERENCIA'],\n",
       "      dtype='object')"
      ]
     },
     "execution_count": 7,
     "metadata": {},
     "output_type": "execute_result"
    }
   ],
   "source": [
    "xlsx_avance.columns"
   ]
  },
  {
   "cell_type": "code",
   "execution_count": 9,
   "id": "123de1d7-dc88-40d8-bcec-09cc94bb8e4f",
   "metadata": {},
   "outputs": [],
   "source": [
    "### fecha_inf = '17 de octubre de 2025'\n",
    "fecha_form = '17-10-2025'\n",
    "\n",
    "fecha_img = '17 de octubre de 2025'\n",
    "\n",
    "cod_grupos = [327]"
   ]
  },
  {
   "cell_type": "code",
   "execution_count": 10,
   "id": "8baffdaa-9e7a-40f2-9e99-85b776b70716",
   "metadata": {},
   "outputs": [],
   "source": [
    "def crear_reporte(lista_cod_cos):\n",
    "    for cod in lista_cod_cos:\n",
    "        grupo = xlsx_entregas[xlsx_entregas['cod_cos'] == cod].copy()\n",
    "        \n",
    "        # convertir datos del grupo a objetos\n",
    "        list_obj_caneros = []\n",
    "        for index, row in grupo.iterrows():\n",
    "            canero = {\n",
    "            'inst' : row['inst'],\n",
    "            'cod_ca' : row['cod_ca'],\n",
    "            'nom_ca' : row['nom_ca'],\n",
    "            'compromiso' : row['TOTAL COMPROMISO'],\n",
    "            'entrega' : row['TOTAL ENTREGAS'],\n",
    "            'entrega_porcen' : row['%ENTREGA']\n",
    "            }\n",
    "            list_obj_caneros.append(collections.namedtuple(\"canero\", canero.keys())(*canero.values()))\n",
    "        # totales de los datos del grupo\n",
    "        grupo_totales = {\n",
    "            'compromiso' : grupo['TOTAL COMPROMISO'].sum(),\n",
    "            'entregas' : grupo['TOTAL ENTREGAS'].sum(),\n",
    "            'entrega_porcen' : grupo['TOTAL ENTREGAS'].sum() / grupo['TOTAL COMPROMISO'].sum() * 100\n",
    "        }\n",
    "        obj_grupo_totales = collections.namedtuple(\"grupo_totales\", grupo_totales.keys())(*grupo_totales.values())\n",
    "        \n",
    "        # datos generales de avance de cosecha\n",
    "        avance = xlsx_avance[xlsx_avance['COD COS'] ==cod]\n",
    "        avance_totales = {\n",
    "            'fecha_img' : fecha_img,\n",
    "            'fecha_informe' : fecha_inf,\n",
    "            'compromiso' : float(avance['COMPROMISO'].iloc[0]),\n",
    "            'entrega' : float(avance['ENTREGAS'].iloc[0]),\n",
    "            'entrega_porcen' : float(avance['%ENTREGA'].iloc[0]) * 100,\n",
    "            'ha_canha' : float(avance['COSECHADO'].iloc[0] + avance['SIN COSECHAR'].iloc[0]),\n",
    "            'ha_cosecha' : float(avance['COSECHADO'].iloc[0]),\n",
    "            'cosecha_porcen' : float(avance['%COSECHADO'].iloc[0]) * 100,\n",
    "            'tch' : float(avance['TCH'].iloc[0])\n",
    "        }\n",
    "        # datos generales a objeto\n",
    "        obj_avance_totales = collections.namedtuple(\"avance_totales\",avance_totales.keys())(*avance_totales.values())\n",
    "        \n",
    "        # generar reporte\n",
    "        doc = DocxTemplate(RUTA_COMPLETA + '/templates/tpl_rpt_avance_aclarativa_desvio.docx')\n",
    "        context = {\n",
    "            'insp' : list_obj_caneros,\n",
    "            'grupo_totales' : obj_grupo_totales,\n",
    "            'avance' : obj_avance_totales\n",
    "        }\n",
    "        doc.render(context)\n",
    "\n",
    "        #REPROTE POSIBLE COMPRA DE CAÑA\n",
    "        doc.save(RUTA_COMPLETA + '/informes/' + str(avance['COD CA'].iloc[0]) + '_RPCC_' + fecha_form + '_' + avance['NOMBRE'].iloc[0] + '.docx')\n",
    "        print('Se generó reporte de grupo:', cod, ' - ', avance['NOMBRE'].iloc[0])"
   ]
  },
  {
   "cell_type": "code",
   "execution_count": null,
   "id": "97f35dd5-ced3-4a2d-a583-f500a1ec52f1",
   "metadata": {},
   "outputs": [],
   "source": []
  },
  {
   "cell_type": "code",
   "execution_count": null,
   "id": "122b15a2-dc02-434b-adf8-4352025133ee",
   "metadata": {},
   "outputs": [],
   "source": []
  },
  {
   "cell_type": "code",
   "execution_count": 11,
   "id": "4fa31ec4-c5f5-45c3-a35b-e1dfd8edfb59",
   "metadata": {},
   "outputs": [
    {
     "name": "stdout",
     "output_type": "stream",
     "text": [
      "Se generó reporte de grupo: 327  -  LAURA CAMACHO JACINTO\n"
     ]
    }
   ],
   "source": [
    "crear_reporte(cod_grupos)"
   ]
  },
  {
   "cell_type": "code",
   "execution_count": null,
   "id": "e022e110-d87a-4f83-862f-203ac3d98b1f",
   "metadata": {},
   "outputs": [],
   "source": []
  },
  {
   "cell_type": "code",
   "execution_count": null,
   "id": "6221e14d-1614-47e7-bc59-9fa7caab5d47",
   "metadata": {},
   "outputs": [],
   "source": []
  },
  {
   "cell_type": "code",
   "execution_count": null,
   "id": "b388c8fa-f0de-419c-8376-6caef0d1e021",
   "metadata": {},
   "outputs": [],
   "source": []
  },
  {
   "cell_type": "code",
   "execution_count": null,
   "id": "ac183af9-0b33-46b0-800c-6679765dc6d0",
   "metadata": {},
   "outputs": [],
   "source": []
  },
  {
   "cell_type": "code",
   "execution_count": null,
   "id": "67da0586-dfda-405d-9264-661804478b64",
   "metadata": {},
   "outputs": [],
   "source": []
  }
 ],
 "metadata": {
  "kernelspec": {
   "display_name": "Python 3 (ipykernel)",
   "language": "python",
   "name": "python3"
  },
  "language_info": {
   "codemirror_mode": {
    "name": "ipython",
    "version": 3
   },
   "file_extension": ".py",
   "mimetype": "text/x-python",
   "name": "python",
   "nbconvert_exporter": "python",
   "pygments_lexer": "ipython3",
   "version": "3.10.13"
  }
 },
 "nbformat": 4,
 "nbformat_minor": 5
}
