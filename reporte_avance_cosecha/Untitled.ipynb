{
 "cells": [
  {
   "cell_type": "code",
   "execution_count": 9,
   "id": "9197f943-15b8-4f79-86a4-f6764e3d4fd3",
   "metadata": {},
   "outputs": [],
   "source": [
    "from PyPDF2 import PdfMerger"
   ]
  },
  {
   "cell_type": "code",
   "execution_count": 10,
   "id": "eb7668ec-73e5-4cb8-9f75-5ff92a43f762",
   "metadata": {},
   "outputs": [],
   "source": [
    "pdfs = [\"PLANO_1.pdf\", \"PLANO_10.pdf\"]"
   ]
  },
  {
   "cell_type": "code",
   "execution_count": 11,
   "id": "114e4c20-fe3e-4fe0-a4d2-6e6fb65a2448",
   "metadata": {},
   "outputs": [],
   "source": [
    "nombre_archivo_salida = \"salida.pdf\""
   ]
  },
  {
   "cell_type": "code",
   "execution_count": 12,
   "id": "731ad0fe-a17e-4ac4-b21b-d97e22a0eb77",
   "metadata": {},
   "outputs": [],
   "source": [
    "fusionador = PdfMerger()"
   ]
  },
  {
   "cell_type": "code",
   "execution_count": 13,
   "id": "976e090d-6006-464d-8409-22c036e69fae",
   "metadata": {},
   "outputs": [],
   "source": [
    "for pdf in pdfs:\n",
    "    fusionador.append(open(pdf, 'rb'))"
   ]
  },
  {
   "cell_type": "code",
   "execution_count": 14,
   "id": "5fb321ef-d995-4052-86ce-f16e6da5c17e",
   "metadata": {},
   "outputs": [],
   "source": [
    "with open(nombre_archivo_salida, 'wb') as salida:\n",
    "    fusionador.write(salida)"
   ]
  },
  {
   "cell_type": "code",
   "execution_count": null,
   "id": "1fbda037-dace-4a5f-9338-3d20dadf9c32",
   "metadata": {},
   "outputs": [],
   "source": []
  }
 ],
 "metadata": {
  "kernelspec": {
   "display_name": "Python 3 (ipykernel)",
   "language": "python",
   "name": "python3"
  },
  "language_info": {
   "codemirror_mode": {
    "name": "ipython",
    "version": 3
   },
   "file_extension": ".py",
   "mimetype": "text/x-python",
   "name": "python",
   "nbconvert_exporter": "python",
   "pygments_lexer": "ipython3",
   "version": "3.7.16"
  }
 },
 "nbformat": 4,
 "nbformat_minor": 5
}
