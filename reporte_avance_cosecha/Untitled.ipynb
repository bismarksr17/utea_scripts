{
 "cells": [
  {
   "cell_type": "code",
   "execution_count": 34,
   "id": "d0d6c9ad-1a51-4049-90b8-643b85ed7671",
   "metadata": {
    "tags": []
   },
   "outputs": [],
   "source": [
    "import pandas as pd"
   ]
  },
  {
   "cell_type": "code",
   "execution_count": 35,
   "id": "ed255b9e-acaf-4f59-9ed8-040566b98782",
   "metadata": {
    "tags": []
   },
   "outputs": [],
   "source": [
    "path_xlsx_avance = r'G:/Ingenio Azucarero Guabira S.A/UTEA - SEMANAL - AVANCE COSECHA/2024/AVANCE_SEMANAL/COMPARAIVA_AVANCE DE COSECHA.xlsx'"
   ]
  },
  {
   "cell_type": "code",
   "execution_count": 36,
   "id": "73e582c0-62b4-4225-ba24-25530fae77e1",
   "metadata": {
    "tags": []
   },
   "outputs": [],
   "source": [
    "xlsx_resumen = pd.read_excel(path_xlsx_avance, sheet_name='RESUMEN')"
   ]
  },
  {
   "cell_type": "code",
   "execution_count": 37,
   "id": "7c3e1329-b898-4207-991d-cca0cd985325",
   "metadata": {
    "tags": []
   },
   "outputs": [],
   "source": [
    "grupo = xlsx_resumen[xlsx_resumen['COD_COS']==425].fillna(0)"
   ]
  },
  {
   "cell_type": "code",
   "execution_count": 38,
   "id": "62f82407-f7aa-455c-85be-9bc6edc23f86",
   "metadata": {
    "tags": []
   },
   "outputs": [],
   "source": [
    "def colapsar_tabla(df_param):\n",
    "    suma_acumulador = [None] * len(df_param)\n",
    "    acumulador = 0\n",
    "    contador = 0\n",
    "    for i, r in df_param.iterrows():\n",
    "        if(r['AREA'] == 0):\n",
    "            acumulador += r['ENTREGAS']\n",
    "            contador += 1\n",
    "        else:\n",
    "            acumulador += r['ENTREGAS']\n",
    "            suma_acumulador[contador] = acumulador\n",
    "            acumulador = 0\n",
    "            contador += 1\n",
    "            continue\n",
    "    df_param['ENTREGADO'] = suma_acumulador\n",
    "    df_param = df_param.drop(columns=['ENTREGAS'])\n",
    "    df_param = df_param[grupo['AREA']!=0]\n",
    "    return df_param"
   ]
  },
  {
   "cell_type": "code",
   "execution_count": 39,
   "id": "8fce237f-7f9f-4b0f-84ca-f5c1706f9335",
   "metadata": {},
   "outputs": [],
   "source": [
    "list_cod_cos = list(set(xlsx_resumen['COD_COS']))"
   ]
  },
  {
   "cell_type": "code",
   "execution_count": 40,
   "id": "271a4d97-3b83-4764-842d-e451c4a7651a",
   "metadata": {},
   "outputs": [],
   "source": [
    "list_df = []"
   ]
  },
  {
   "cell_type": "code",
   "execution_count": 41,
   "id": "af4170c6-ff6a-4dd5-8f5c-e50a94df747c",
   "metadata": {},
   "outputs": [
    {
     "name": "stderr",
     "output_type": "stream",
     "text": [
      "C:\\Users\\Usuario\\AppData\\Local\\Temp\\ipykernel_9800\\2327553473.py:2: FutureWarning: Downcasting object dtype arrays on .fillna, .ffill, .bfill is deprecated and will change in a future version. Call result.infer_objects(copy=False) instead. To opt-in to the future behavior, set `pd.set_option('future.no_silent_downcasting', True)`\n",
      "  grupo = xlsx_resumen[xlsx_resumen['COD_COS']==i].fillna(0)\n",
      "C:\\Users\\Usuario\\AppData\\Local\\Temp\\ipykernel_9800\\2327553473.py:2: FutureWarning: Downcasting object dtype arrays on .fillna, .ffill, .bfill is deprecated and will change in a future version. Call result.infer_objects(copy=False) instead. To opt-in to the future behavior, set `pd.set_option('future.no_silent_downcasting', True)`\n",
      "  grupo = xlsx_resumen[xlsx_resumen['COD_COS']==i].fillna(0)\n",
      "C:\\Users\\Usuario\\AppData\\Local\\Temp\\ipykernel_9800\\2327553473.py:2: FutureWarning: Downcasting object dtype arrays on .fillna, .ffill, .bfill is deprecated and will change in a future version. Call result.infer_objects(copy=False) instead. To opt-in to the future behavior, set `pd.set_option('future.no_silent_downcasting', True)`\n",
      "  grupo = xlsx_resumen[xlsx_resumen['COD_COS']==i].fillna(0)\n",
      "C:\\Users\\Usuario\\AppData\\Local\\Temp\\ipykernel_9800\\2327553473.py:2: FutureWarning: Downcasting object dtype arrays on .fillna, .ffill, .bfill is deprecated and will change in a future version. Call result.infer_objects(copy=False) instead. To opt-in to the future behavior, set `pd.set_option('future.no_silent_downcasting', True)`\n",
      "  grupo = xlsx_resumen[xlsx_resumen['COD_COS']==i].fillna(0)\n",
      "C:\\Users\\Usuario\\AppData\\Local\\Temp\\ipykernel_9800\\2327553473.py:2: FutureWarning: Downcasting object dtype arrays on .fillna, .ffill, .bfill is deprecated and will change in a future version. Call result.infer_objects(copy=False) instead. To opt-in to the future behavior, set `pd.set_option('future.no_silent_downcasting', True)`\n",
      "  grupo = xlsx_resumen[xlsx_resumen['COD_COS']==i].fillna(0)\n",
      "C:\\Users\\Usuario\\AppData\\Local\\Temp\\ipykernel_9800\\2327553473.py:2: FutureWarning: Downcasting object dtype arrays on .fillna, .ffill, .bfill is deprecated and will change in a future version. Call result.infer_objects(copy=False) instead. To opt-in to the future behavior, set `pd.set_option('future.no_silent_downcasting', True)`\n",
      "  grupo = xlsx_resumen[xlsx_resumen['COD_COS']==i].fillna(0)\n",
      "C:\\Users\\Usuario\\AppData\\Local\\Temp\\ipykernel_9800\\2327553473.py:2: FutureWarning: Downcasting object dtype arrays on .fillna, .ffill, .bfill is deprecated and will change in a future version. Call result.infer_objects(copy=False) instead. To opt-in to the future behavior, set `pd.set_option('future.no_silent_downcasting', True)`\n",
      "  grupo = xlsx_resumen[xlsx_resumen['COD_COS']==i].fillna(0)\n",
      "C:\\Users\\Usuario\\AppData\\Local\\Temp\\ipykernel_9800\\2327553473.py:2: FutureWarning: Downcasting object dtype arrays on .fillna, .ffill, .bfill is deprecated and will change in a future version. Call result.infer_objects(copy=False) instead. To opt-in to the future behavior, set `pd.set_option('future.no_silent_downcasting', True)`\n",
      "  grupo = xlsx_resumen[xlsx_resumen['COD_COS']==i].fillna(0)\n",
      "C:\\Users\\Usuario\\AppData\\Local\\Temp\\ipykernel_9800\\2327553473.py:2: FutureWarning: Downcasting object dtype arrays on .fillna, .ffill, .bfill is deprecated and will change in a future version. Call result.infer_objects(copy=False) instead. To opt-in to the future behavior, set `pd.set_option('future.no_silent_downcasting', True)`\n",
      "  grupo = xlsx_resumen[xlsx_resumen['COD_COS']==i].fillna(0)\n",
      "C:\\Users\\Usuario\\AppData\\Local\\Temp\\ipykernel_9800\\2327553473.py:2: FutureWarning: Downcasting object dtype arrays on .fillna, .ffill, .bfill is deprecated and will change in a future version. Call result.infer_objects(copy=False) instead. To opt-in to the future behavior, set `pd.set_option('future.no_silent_downcasting', True)`\n",
      "  grupo = xlsx_resumen[xlsx_resumen['COD_COS']==i].fillna(0)\n",
      "C:\\Users\\Usuario\\AppData\\Local\\Temp\\ipykernel_9800\\2327553473.py:2: FutureWarning: Downcasting object dtype arrays on .fillna, .ffill, .bfill is deprecated and will change in a future version. Call result.infer_objects(copy=False) instead. To opt-in to the future behavior, set `pd.set_option('future.no_silent_downcasting', True)`\n",
      "  grupo = xlsx_resumen[xlsx_resumen['COD_COS']==i].fillna(0)\n",
      "C:\\Users\\Usuario\\AppData\\Local\\Temp\\ipykernel_9800\\2327553473.py:2: FutureWarning: Downcasting object dtype arrays on .fillna, .ffill, .bfill is deprecated and will change in a future version. Call result.infer_objects(copy=False) instead. To opt-in to the future behavior, set `pd.set_option('future.no_silent_downcasting', True)`\n",
      "  grupo = xlsx_resumen[xlsx_resumen['COD_COS']==i].fillna(0)\n",
      "C:\\Users\\Usuario\\AppData\\Local\\Temp\\ipykernel_9800\\2327553473.py:2: FutureWarning: Downcasting object dtype arrays on .fillna, .ffill, .bfill is deprecated and will change in a future version. Call result.infer_objects(copy=False) instead. To opt-in to the future behavior, set `pd.set_option('future.no_silent_downcasting', True)`\n",
      "  grupo = xlsx_resumen[xlsx_resumen['COD_COS']==i].fillna(0)\n",
      "C:\\Users\\Usuario\\AppData\\Local\\Temp\\ipykernel_9800\\2327553473.py:2: FutureWarning: Downcasting object dtype arrays on .fillna, .ffill, .bfill is deprecated and will change in a future version. Call result.infer_objects(copy=False) instead. To opt-in to the future behavior, set `pd.set_option('future.no_silent_downcasting', True)`\n",
      "  grupo = xlsx_resumen[xlsx_resumen['COD_COS']==i].fillna(0)\n",
      "C:\\Users\\Usuario\\AppData\\Local\\Temp\\ipykernel_9800\\2327553473.py:2: FutureWarning: Downcasting object dtype arrays on .fillna, .ffill, .bfill is deprecated and will change in a future version. Call result.infer_objects(copy=False) instead. To opt-in to the future behavior, set `pd.set_option('future.no_silent_downcasting', True)`\n",
      "  grupo = xlsx_resumen[xlsx_resumen['COD_COS']==i].fillna(0)\n",
      "C:\\Users\\Usuario\\AppData\\Local\\Temp\\ipykernel_9800\\2327553473.py:2: FutureWarning: Downcasting object dtype arrays on .fillna, .ffill, .bfill is deprecated and will change in a future version. Call result.infer_objects(copy=False) instead. To opt-in to the future behavior, set `pd.set_option('future.no_silent_downcasting', True)`\n",
      "  grupo = xlsx_resumen[xlsx_resumen['COD_COS']==i].fillna(0)\n",
      "C:\\Users\\Usuario\\AppData\\Local\\Temp\\ipykernel_9800\\2327553473.py:2: FutureWarning: Downcasting object dtype arrays on .fillna, .ffill, .bfill is deprecated and will change in a future version. Call result.infer_objects(copy=False) instead. To opt-in to the future behavior, set `pd.set_option('future.no_silent_downcasting', True)`\n",
      "  grupo = xlsx_resumen[xlsx_resumen['COD_COS']==i].fillna(0)\n",
      "C:\\Users\\Usuario\\AppData\\Local\\Temp\\ipykernel_9800\\2327553473.py:2: FutureWarning: Downcasting object dtype arrays on .fillna, .ffill, .bfill is deprecated and will change in a future version. Call result.infer_objects(copy=False) instead. To opt-in to the future behavior, set `pd.set_option('future.no_silent_downcasting', True)`\n",
      "  grupo = xlsx_resumen[xlsx_resumen['COD_COS']==i].fillna(0)\n",
      "C:\\Users\\Usuario\\AppData\\Local\\Temp\\ipykernel_9800\\2327553473.py:2: FutureWarning: Downcasting object dtype arrays on .fillna, .ffill, .bfill is deprecated and will change in a future version. Call result.infer_objects(copy=False) instead. To opt-in to the future behavior, set `pd.set_option('future.no_silent_downcasting', True)`\n",
      "  grupo = xlsx_resumen[xlsx_resumen['COD_COS']==i].fillna(0)\n",
      "C:\\Users\\Usuario\\AppData\\Local\\Temp\\ipykernel_9800\\2327553473.py:2: FutureWarning: Downcasting object dtype arrays on .fillna, .ffill, .bfill is deprecated and will change in a future version. Call result.infer_objects(copy=False) instead. To opt-in to the future behavior, set `pd.set_option('future.no_silent_downcasting', True)`\n",
      "  grupo = xlsx_resumen[xlsx_resumen['COD_COS']==i].fillna(0)\n",
      "C:\\Users\\Usuario\\AppData\\Local\\Temp\\ipykernel_9800\\2327553473.py:2: FutureWarning: Downcasting object dtype arrays on .fillna, .ffill, .bfill is deprecated and will change in a future version. Call result.infer_objects(copy=False) instead. To opt-in to the future behavior, set `pd.set_option('future.no_silent_downcasting', True)`\n",
      "  grupo = xlsx_resumen[xlsx_resumen['COD_COS']==i].fillna(0)\n",
      "C:\\Users\\Usuario\\AppData\\Local\\Temp\\ipykernel_9800\\2327553473.py:2: FutureWarning: Downcasting object dtype arrays on .fillna, .ffill, .bfill is deprecated and will change in a future version. Call result.infer_objects(copy=False) instead. To opt-in to the future behavior, set `pd.set_option('future.no_silent_downcasting', True)`\n",
      "  grupo = xlsx_resumen[xlsx_resumen['COD_COS']==i].fillna(0)\n",
      "C:\\Users\\Usuario\\AppData\\Local\\Temp\\ipykernel_9800\\2327553473.py:2: FutureWarning: Downcasting object dtype arrays on .fillna, .ffill, .bfill is deprecated and will change in a future version. Call result.infer_objects(copy=False) instead. To opt-in to the future behavior, set `pd.set_option('future.no_silent_downcasting', True)`\n",
      "  grupo = xlsx_resumen[xlsx_resumen['COD_COS']==i].fillna(0)\n",
      "C:\\Users\\Usuario\\AppData\\Local\\Temp\\ipykernel_9800\\2327553473.py:2: FutureWarning: Downcasting object dtype arrays on .fillna, .ffill, .bfill is deprecated and will change in a future version. Call result.infer_objects(copy=False) instead. To opt-in to the future behavior, set `pd.set_option('future.no_silent_downcasting', True)`\n",
      "  grupo = xlsx_resumen[xlsx_resumen['COD_COS']==i].fillna(0)\n",
      "C:\\Users\\Usuario\\AppData\\Local\\Temp\\ipykernel_9800\\2327553473.py:2: FutureWarning: Downcasting object dtype arrays on .fillna, .ffill, .bfill is deprecated and will change in a future version. Call result.infer_objects(copy=False) instead. To opt-in to the future behavior, set `pd.set_option('future.no_silent_downcasting', True)`\n",
      "  grupo = xlsx_resumen[xlsx_resumen['COD_COS']==i].fillna(0)\n",
      "C:\\Users\\Usuario\\AppData\\Local\\Temp\\ipykernel_9800\\2327553473.py:2: FutureWarning: Downcasting object dtype arrays on .fillna, .ffill, .bfill is deprecated and will change in a future version. Call result.infer_objects(copy=False) instead. To opt-in to the future behavior, set `pd.set_option('future.no_silent_downcasting', True)`\n",
      "  grupo = xlsx_resumen[xlsx_resumen['COD_COS']==i].fillna(0)\n",
      "C:\\Users\\Usuario\\AppData\\Local\\Temp\\ipykernel_9800\\2327553473.py:2: FutureWarning: Downcasting object dtype arrays on .fillna, .ffill, .bfill is deprecated and will change in a future version. Call result.infer_objects(copy=False) instead. To opt-in to the future behavior, set `pd.set_option('future.no_silent_downcasting', True)`\n",
      "  grupo = xlsx_resumen[xlsx_resumen['COD_COS']==i].fillna(0)\n",
      "C:\\Users\\Usuario\\AppData\\Local\\Temp\\ipykernel_9800\\2327553473.py:2: FutureWarning: Downcasting object dtype arrays on .fillna, .ffill, .bfill is deprecated and will change in a future version. Call result.infer_objects(copy=False) instead. To opt-in to the future behavior, set `pd.set_option('future.no_silent_downcasting', True)`\n",
      "  grupo = xlsx_resumen[xlsx_resumen['COD_COS']==i].fillna(0)\n",
      "C:\\Users\\Usuario\\AppData\\Local\\Temp\\ipykernel_9800\\2327553473.py:2: FutureWarning: Downcasting object dtype arrays on .fillna, .ffill, .bfill is deprecated and will change in a future version. Call result.infer_objects(copy=False) instead. To opt-in to the future behavior, set `pd.set_option('future.no_silent_downcasting', True)`\n",
      "  grupo = xlsx_resumen[xlsx_resumen['COD_COS']==i].fillna(0)\n",
      "C:\\Users\\Usuario\\AppData\\Local\\Temp\\ipykernel_9800\\2327553473.py:2: FutureWarning: Downcasting object dtype arrays on .fillna, .ffill, .bfill is deprecated and will change in a future version. Call result.infer_objects(copy=False) instead. To opt-in to the future behavior, set `pd.set_option('future.no_silent_downcasting', True)`\n",
      "  grupo = xlsx_resumen[xlsx_resumen['COD_COS']==i].fillna(0)\n",
      "C:\\Users\\Usuario\\AppData\\Local\\Temp\\ipykernel_9800\\2327553473.py:2: FutureWarning: Downcasting object dtype arrays on .fillna, .ffill, .bfill is deprecated and will change in a future version. Call result.infer_objects(copy=False) instead. To opt-in to the future behavior, set `pd.set_option('future.no_silent_downcasting', True)`\n",
      "  grupo = xlsx_resumen[xlsx_resumen['COD_COS']==i].fillna(0)\n",
      "C:\\Users\\Usuario\\AppData\\Local\\Temp\\ipykernel_9800\\2327553473.py:2: FutureWarning: Downcasting object dtype arrays on .fillna, .ffill, .bfill is deprecated and will change in a future version. Call result.infer_objects(copy=False) instead. To opt-in to the future behavior, set `pd.set_option('future.no_silent_downcasting', True)`\n",
      "  grupo = xlsx_resumen[xlsx_resumen['COD_COS']==i].fillna(0)\n",
      "C:\\Users\\Usuario\\AppData\\Local\\Temp\\ipykernel_9800\\2327553473.py:2: FutureWarning: Downcasting object dtype arrays on .fillna, .ffill, .bfill is deprecated and will change in a future version. Call result.infer_objects(copy=False) instead. To opt-in to the future behavior, set `pd.set_option('future.no_silent_downcasting', True)`\n",
      "  grupo = xlsx_resumen[xlsx_resumen['COD_COS']==i].fillna(0)\n",
      "C:\\Users\\Usuario\\AppData\\Local\\Temp\\ipykernel_9800\\2327553473.py:2: FutureWarning: Downcasting object dtype arrays on .fillna, .ffill, .bfill is deprecated and will change in a future version. Call result.infer_objects(copy=False) instead. To opt-in to the future behavior, set `pd.set_option('future.no_silent_downcasting', True)`\n",
      "  grupo = xlsx_resumen[xlsx_resumen['COD_COS']==i].fillna(0)\n",
      "C:\\Users\\Usuario\\AppData\\Local\\Temp\\ipykernel_9800\\2327553473.py:2: FutureWarning: Downcasting object dtype arrays on .fillna, .ffill, .bfill is deprecated and will change in a future version. Call result.infer_objects(copy=False) instead. To opt-in to the future behavior, set `pd.set_option('future.no_silent_downcasting', True)`\n",
      "  grupo = xlsx_resumen[xlsx_resumen['COD_COS']==i].fillna(0)\n",
      "C:\\Users\\Usuario\\AppData\\Local\\Temp\\ipykernel_9800\\2327553473.py:2: FutureWarning: Downcasting object dtype arrays on .fillna, .ffill, .bfill is deprecated and will change in a future version. Call result.infer_objects(copy=False) instead. To opt-in to the future behavior, set `pd.set_option('future.no_silent_downcasting', True)`\n",
      "  grupo = xlsx_resumen[xlsx_resumen['COD_COS']==i].fillna(0)\n",
      "C:\\Users\\Usuario\\AppData\\Local\\Temp\\ipykernel_9800\\2327553473.py:2: FutureWarning: Downcasting object dtype arrays on .fillna, .ffill, .bfill is deprecated and will change in a future version. Call result.infer_objects(copy=False) instead. To opt-in to the future behavior, set `pd.set_option('future.no_silent_downcasting', True)`\n",
      "  grupo = xlsx_resumen[xlsx_resumen['COD_COS']==i].fillna(0)\n",
      "C:\\Users\\Usuario\\AppData\\Local\\Temp\\ipykernel_9800\\2327553473.py:2: FutureWarning: Downcasting object dtype arrays on .fillna, .ffill, .bfill is deprecated and will change in a future version. Call result.infer_objects(copy=False) instead. To opt-in to the future behavior, set `pd.set_option('future.no_silent_downcasting', True)`\n",
      "  grupo = xlsx_resumen[xlsx_resumen['COD_COS']==i].fillna(0)\n",
      "C:\\Users\\Usuario\\AppData\\Local\\Temp\\ipykernel_9800\\2327553473.py:2: FutureWarning: Downcasting object dtype arrays on .fillna, .ffill, .bfill is deprecated and will change in a future version. Call result.infer_objects(copy=False) instead. To opt-in to the future behavior, set `pd.set_option('future.no_silent_downcasting', True)`\n",
      "  grupo = xlsx_resumen[xlsx_resumen['COD_COS']==i].fillna(0)\n",
      "C:\\Users\\Usuario\\AppData\\Local\\Temp\\ipykernel_9800\\2327553473.py:2: FutureWarning: Downcasting object dtype arrays on .fillna, .ffill, .bfill is deprecated and will change in a future version. Call result.infer_objects(copy=False) instead. To opt-in to the future behavior, set `pd.set_option('future.no_silent_downcasting', True)`\n",
      "  grupo = xlsx_resumen[xlsx_resumen['COD_COS']==i].fillna(0)\n",
      "C:\\Users\\Usuario\\AppData\\Local\\Temp\\ipykernel_9800\\2327553473.py:2: FutureWarning: Downcasting object dtype arrays on .fillna, .ffill, .bfill is deprecated and will change in a future version. Call result.infer_objects(copy=False) instead. To opt-in to the future behavior, set `pd.set_option('future.no_silent_downcasting', True)`\n",
      "  grupo = xlsx_resumen[xlsx_resumen['COD_COS']==i].fillna(0)\n",
      "C:\\Users\\Usuario\\AppData\\Local\\Temp\\ipykernel_9800\\2327553473.py:2: FutureWarning: Downcasting object dtype arrays on .fillna, .ffill, .bfill is deprecated and will change in a future version. Call result.infer_objects(copy=False) instead. To opt-in to the future behavior, set `pd.set_option('future.no_silent_downcasting', True)`\n",
      "  grupo = xlsx_resumen[xlsx_resumen['COD_COS']==i].fillna(0)\n",
      "C:\\Users\\Usuario\\AppData\\Local\\Temp\\ipykernel_9800\\2327553473.py:2: FutureWarning: Downcasting object dtype arrays on .fillna, .ffill, .bfill is deprecated and will change in a future version. Call result.infer_objects(copy=False) instead. To opt-in to the future behavior, set `pd.set_option('future.no_silent_downcasting', True)`\n",
      "  grupo = xlsx_resumen[xlsx_resumen['COD_COS']==i].fillna(0)\n",
      "C:\\Users\\Usuario\\AppData\\Local\\Temp\\ipykernel_9800\\2327553473.py:2: FutureWarning: Downcasting object dtype arrays on .fillna, .ffill, .bfill is deprecated and will change in a future version. Call result.infer_objects(copy=False) instead. To opt-in to the future behavior, set `pd.set_option('future.no_silent_downcasting', True)`\n",
      "  grupo = xlsx_resumen[xlsx_resumen['COD_COS']==i].fillna(0)\n",
      "C:\\Users\\Usuario\\AppData\\Local\\Temp\\ipykernel_9800\\2327553473.py:2: FutureWarning: Downcasting object dtype arrays on .fillna, .ffill, .bfill is deprecated and will change in a future version. Call result.infer_objects(copy=False) instead. To opt-in to the future behavior, set `pd.set_option('future.no_silent_downcasting', True)`\n",
      "  grupo = xlsx_resumen[xlsx_resumen['COD_COS']==i].fillna(0)\n",
      "C:\\Users\\Usuario\\AppData\\Local\\Temp\\ipykernel_9800\\2327553473.py:2: FutureWarning: Downcasting object dtype arrays on .fillna, .ffill, .bfill is deprecated and will change in a future version. Call result.infer_objects(copy=False) instead. To opt-in to the future behavior, set `pd.set_option('future.no_silent_downcasting', True)`\n",
      "  grupo = xlsx_resumen[xlsx_resumen['COD_COS']==i].fillna(0)\n",
      "C:\\Users\\Usuario\\AppData\\Local\\Temp\\ipykernel_9800\\2327553473.py:2: FutureWarning: Downcasting object dtype arrays on .fillna, .ffill, .bfill is deprecated and will change in a future version. Call result.infer_objects(copy=False) instead. To opt-in to the future behavior, set `pd.set_option('future.no_silent_downcasting', True)`\n",
      "  grupo = xlsx_resumen[xlsx_resumen['COD_COS']==i].fillna(0)\n",
      "C:\\Users\\Usuario\\AppData\\Local\\Temp\\ipykernel_9800\\2327553473.py:2: FutureWarning: Downcasting object dtype arrays on .fillna, .ffill, .bfill is deprecated and will change in a future version. Call result.infer_objects(copy=False) instead. To opt-in to the future behavior, set `pd.set_option('future.no_silent_downcasting', True)`\n",
      "  grupo = xlsx_resumen[xlsx_resumen['COD_COS']==i].fillna(0)\n",
      "C:\\Users\\Usuario\\AppData\\Local\\Temp\\ipykernel_9800\\2327553473.py:2: FutureWarning: Downcasting object dtype arrays on .fillna, .ffill, .bfill is deprecated and will change in a future version. Call result.infer_objects(copy=False) instead. To opt-in to the future behavior, set `pd.set_option('future.no_silent_downcasting', True)`\n",
      "  grupo = xlsx_resumen[xlsx_resumen['COD_COS']==i].fillna(0)\n",
      "C:\\Users\\Usuario\\AppData\\Local\\Temp\\ipykernel_9800\\2327553473.py:2: FutureWarning: Downcasting object dtype arrays on .fillna, .ffill, .bfill is deprecated and will change in a future version. Call result.infer_objects(copy=False) instead. To opt-in to the future behavior, set `pd.set_option('future.no_silent_downcasting', True)`\n",
      "  grupo = xlsx_resumen[xlsx_resumen['COD_COS']==i].fillna(0)\n",
      "C:\\Users\\Usuario\\AppData\\Local\\Temp\\ipykernel_9800\\2327553473.py:2: FutureWarning: Downcasting object dtype arrays on .fillna, .ffill, .bfill is deprecated and will change in a future version. Call result.infer_objects(copy=False) instead. To opt-in to the future behavior, set `pd.set_option('future.no_silent_downcasting', True)`\n",
      "  grupo = xlsx_resumen[xlsx_resumen['COD_COS']==i].fillna(0)\n",
      "C:\\Users\\Usuario\\AppData\\Local\\Temp\\ipykernel_9800\\2327553473.py:2: FutureWarning: Downcasting object dtype arrays on .fillna, .ffill, .bfill is deprecated and will change in a future version. Call result.infer_objects(copy=False) instead. To opt-in to the future behavior, set `pd.set_option('future.no_silent_downcasting', True)`\n",
      "  grupo = xlsx_resumen[xlsx_resumen['COD_COS']==i].fillna(0)\n",
      "C:\\Users\\Usuario\\AppData\\Local\\Temp\\ipykernel_9800\\2327553473.py:2: FutureWarning: Downcasting object dtype arrays on .fillna, .ffill, .bfill is deprecated and will change in a future version. Call result.infer_objects(copy=False) instead. To opt-in to the future behavior, set `pd.set_option('future.no_silent_downcasting', True)`\n",
      "  grupo = xlsx_resumen[xlsx_resumen['COD_COS']==i].fillna(0)\n",
      "C:\\Users\\Usuario\\AppData\\Local\\Temp\\ipykernel_9800\\2327553473.py:2: FutureWarning: Downcasting object dtype arrays on .fillna, .ffill, .bfill is deprecated and will change in a future version. Call result.infer_objects(copy=False) instead. To opt-in to the future behavior, set `pd.set_option('future.no_silent_downcasting', True)`\n",
      "  grupo = xlsx_resumen[xlsx_resumen['COD_COS']==i].fillna(0)\n",
      "C:\\Users\\Usuario\\AppData\\Local\\Temp\\ipykernel_9800\\2327553473.py:2: FutureWarning: Downcasting object dtype arrays on .fillna, .ffill, .bfill is deprecated and will change in a future version. Call result.infer_objects(copy=False) instead. To opt-in to the future behavior, set `pd.set_option('future.no_silent_downcasting', True)`\n",
      "  grupo = xlsx_resumen[xlsx_resumen['COD_COS']==i].fillna(0)\n",
      "C:\\Users\\Usuario\\AppData\\Local\\Temp\\ipykernel_9800\\2327553473.py:2: FutureWarning: Downcasting object dtype arrays on .fillna, .ffill, .bfill is deprecated and will change in a future version. Call result.infer_objects(copy=False) instead. To opt-in to the future behavior, set `pd.set_option('future.no_silent_downcasting', True)`\n",
      "  grupo = xlsx_resumen[xlsx_resumen['COD_COS']==i].fillna(0)\n",
      "C:\\Users\\Usuario\\AppData\\Local\\Temp\\ipykernel_9800\\2327553473.py:2: FutureWarning: Downcasting object dtype arrays on .fillna, .ffill, .bfill is deprecated and will change in a future version. Call result.infer_objects(copy=False) instead. To opt-in to the future behavior, set `pd.set_option('future.no_silent_downcasting', True)`\n",
      "  grupo = xlsx_resumen[xlsx_resumen['COD_COS']==i].fillna(0)\n",
      "C:\\Users\\Usuario\\AppData\\Local\\Temp\\ipykernel_9800\\2327553473.py:2: FutureWarning: Downcasting object dtype arrays on .fillna, .ffill, .bfill is deprecated and will change in a future version. Call result.infer_objects(copy=False) instead. To opt-in to the future behavior, set `pd.set_option('future.no_silent_downcasting', True)`\n",
      "  grupo = xlsx_resumen[xlsx_resumen['COD_COS']==i].fillna(0)\n",
      "C:\\Users\\Usuario\\AppData\\Local\\Temp\\ipykernel_9800\\2327553473.py:2: FutureWarning: Downcasting object dtype arrays on .fillna, .ffill, .bfill is deprecated and will change in a future version. Call result.infer_objects(copy=False) instead. To opt-in to the future behavior, set `pd.set_option('future.no_silent_downcasting', True)`\n",
      "  grupo = xlsx_resumen[xlsx_resumen['COD_COS']==i].fillna(0)\n",
      "C:\\Users\\Usuario\\AppData\\Local\\Temp\\ipykernel_9800\\2327553473.py:2: FutureWarning: Downcasting object dtype arrays on .fillna, .ffill, .bfill is deprecated and will change in a future version. Call result.infer_objects(copy=False) instead. To opt-in to the future behavior, set `pd.set_option('future.no_silent_downcasting', True)`\n",
      "  grupo = xlsx_resumen[xlsx_resumen['COD_COS']==i].fillna(0)\n",
      "C:\\Users\\Usuario\\AppData\\Local\\Temp\\ipykernel_9800\\2327553473.py:2: FutureWarning: Downcasting object dtype arrays on .fillna, .ffill, .bfill is deprecated and will change in a future version. Call result.infer_objects(copy=False) instead. To opt-in to the future behavior, set `pd.set_option('future.no_silent_downcasting', True)`\n",
      "  grupo = xlsx_resumen[xlsx_resumen['COD_COS']==i].fillna(0)\n",
      "C:\\Users\\Usuario\\AppData\\Local\\Temp\\ipykernel_9800\\2327553473.py:2: FutureWarning: Downcasting object dtype arrays on .fillna, .ffill, .bfill is deprecated and will change in a future version. Call result.infer_objects(copy=False) instead. To opt-in to the future behavior, set `pd.set_option('future.no_silent_downcasting', True)`\n",
      "  grupo = xlsx_resumen[xlsx_resumen['COD_COS']==i].fillna(0)\n",
      "C:\\Users\\Usuario\\AppData\\Local\\Temp\\ipykernel_9800\\2327553473.py:2: FutureWarning: Downcasting object dtype arrays on .fillna, .ffill, .bfill is deprecated and will change in a future version. Call result.infer_objects(copy=False) instead. To opt-in to the future behavior, set `pd.set_option('future.no_silent_downcasting', True)`\n",
      "  grupo = xlsx_resumen[xlsx_resumen['COD_COS']==i].fillna(0)\n",
      "C:\\Users\\Usuario\\AppData\\Local\\Temp\\ipykernel_9800\\2327553473.py:2: FutureWarning: Downcasting object dtype arrays on .fillna, .ffill, .bfill is deprecated and will change in a future version. Call result.infer_objects(copy=False) instead. To opt-in to the future behavior, set `pd.set_option('future.no_silent_downcasting', True)`\n",
      "  grupo = xlsx_resumen[xlsx_resumen['COD_COS']==i].fillna(0)\n",
      "C:\\Users\\Usuario\\AppData\\Local\\Temp\\ipykernel_9800\\2327553473.py:2: FutureWarning: Downcasting object dtype arrays on .fillna, .ffill, .bfill is deprecated and will change in a future version. Call result.infer_objects(copy=False) instead. To opt-in to the future behavior, set `pd.set_option('future.no_silent_downcasting', True)`\n",
      "  grupo = xlsx_resumen[xlsx_resumen['COD_COS']==i].fillna(0)\n",
      "C:\\Users\\Usuario\\AppData\\Local\\Temp\\ipykernel_9800\\2327553473.py:2: FutureWarning: Downcasting object dtype arrays on .fillna, .ffill, .bfill is deprecated and will change in a future version. Call result.infer_objects(copy=False) instead. To opt-in to the future behavior, set `pd.set_option('future.no_silent_downcasting', True)`\n",
      "  grupo = xlsx_resumen[xlsx_resumen['COD_COS']==i].fillna(0)\n",
      "C:\\Users\\Usuario\\AppData\\Local\\Temp\\ipykernel_9800\\2327553473.py:2: FutureWarning: Downcasting object dtype arrays on .fillna, .ffill, .bfill is deprecated and will change in a future version. Call result.infer_objects(copy=False) instead. To opt-in to the future behavior, set `pd.set_option('future.no_silent_downcasting', True)`\n",
      "  grupo = xlsx_resumen[xlsx_resumen['COD_COS']==i].fillna(0)\n",
      "C:\\Users\\Usuario\\AppData\\Local\\Temp\\ipykernel_9800\\2327553473.py:2: FutureWarning: Downcasting object dtype arrays on .fillna, .ffill, .bfill is deprecated and will change in a future version. Call result.infer_objects(copy=False) instead. To opt-in to the future behavior, set `pd.set_option('future.no_silent_downcasting', True)`\n",
      "  grupo = xlsx_resumen[xlsx_resumen['COD_COS']==i].fillna(0)\n",
      "C:\\Users\\Usuario\\AppData\\Local\\Temp\\ipykernel_9800\\2327553473.py:2: FutureWarning: Downcasting object dtype arrays on .fillna, .ffill, .bfill is deprecated and will change in a future version. Call result.infer_objects(copy=False) instead. To opt-in to the future behavior, set `pd.set_option('future.no_silent_downcasting', True)`\n",
      "  grupo = xlsx_resumen[xlsx_resumen['COD_COS']==i].fillna(0)\n",
      "C:\\Users\\Usuario\\AppData\\Local\\Temp\\ipykernel_9800\\2327553473.py:2: FutureWarning: Downcasting object dtype arrays on .fillna, .ffill, .bfill is deprecated and will change in a future version. Call result.infer_objects(copy=False) instead. To opt-in to the future behavior, set `pd.set_option('future.no_silent_downcasting', True)`\n",
      "  grupo = xlsx_resumen[xlsx_resumen['COD_COS']==i].fillna(0)\n",
      "C:\\Users\\Usuario\\AppData\\Local\\Temp\\ipykernel_9800\\2327553473.py:2: FutureWarning: Downcasting object dtype arrays on .fillna, .ffill, .bfill is deprecated and will change in a future version. Call result.infer_objects(copy=False) instead. To opt-in to the future behavior, set `pd.set_option('future.no_silent_downcasting', True)`\n",
      "  grupo = xlsx_resumen[xlsx_resumen['COD_COS']==i].fillna(0)\n",
      "C:\\Users\\Usuario\\AppData\\Local\\Temp\\ipykernel_9800\\2327553473.py:2: FutureWarning: Downcasting object dtype arrays on .fillna, .ffill, .bfill is deprecated and will change in a future version. Call result.infer_objects(copy=False) instead. To opt-in to the future behavior, set `pd.set_option('future.no_silent_downcasting', True)`\n",
      "  grupo = xlsx_resumen[xlsx_resumen['COD_COS']==i].fillna(0)\n",
      "C:\\Users\\Usuario\\AppData\\Local\\Temp\\ipykernel_9800\\2327553473.py:2: FutureWarning: Downcasting object dtype arrays on .fillna, .ffill, .bfill is deprecated and will change in a future version. Call result.infer_objects(copy=False) instead. To opt-in to the future behavior, set `pd.set_option('future.no_silent_downcasting', True)`\n",
      "  grupo = xlsx_resumen[xlsx_resumen['COD_COS']==i].fillna(0)\n",
      "C:\\Users\\Usuario\\AppData\\Local\\Temp\\ipykernel_9800\\2327553473.py:2: FutureWarning: Downcasting object dtype arrays on .fillna, .ffill, .bfill is deprecated and will change in a future version. Call result.infer_objects(copy=False) instead. To opt-in to the future behavior, set `pd.set_option('future.no_silent_downcasting', True)`\n",
      "  grupo = xlsx_resumen[xlsx_resumen['COD_COS']==i].fillna(0)\n",
      "C:\\Users\\Usuario\\AppData\\Local\\Temp\\ipykernel_9800\\2327553473.py:2: FutureWarning: Downcasting object dtype arrays on .fillna, .ffill, .bfill is deprecated and will change in a future version. Call result.infer_objects(copy=False) instead. To opt-in to the future behavior, set `pd.set_option('future.no_silent_downcasting', True)`\n",
      "  grupo = xlsx_resumen[xlsx_resumen['COD_COS']==i].fillna(0)\n",
      "C:\\Users\\Usuario\\AppData\\Local\\Temp\\ipykernel_9800\\2327553473.py:2: FutureWarning: Downcasting object dtype arrays on .fillna, .ffill, .bfill is deprecated and will change in a future version. Call result.infer_objects(copy=False) instead. To opt-in to the future behavior, set `pd.set_option('future.no_silent_downcasting', True)`\n",
      "  grupo = xlsx_resumen[xlsx_resumen['COD_COS']==i].fillna(0)\n",
      "C:\\Users\\Usuario\\AppData\\Local\\Temp\\ipykernel_9800\\2327553473.py:2: FutureWarning: Downcasting object dtype arrays on .fillna, .ffill, .bfill is deprecated and will change in a future version. Call result.infer_objects(copy=False) instead. To opt-in to the future behavior, set `pd.set_option('future.no_silent_downcasting', True)`\n",
      "  grupo = xlsx_resumen[xlsx_resumen['COD_COS']==i].fillna(0)\n",
      "C:\\Users\\Usuario\\AppData\\Local\\Temp\\ipykernel_9800\\2327553473.py:2: FutureWarning: Downcasting object dtype arrays on .fillna, .ffill, .bfill is deprecated and will change in a future version. Call result.infer_objects(copy=False) instead. To opt-in to the future behavior, set `pd.set_option('future.no_silent_downcasting', True)`\n",
      "  grupo = xlsx_resumen[xlsx_resumen['COD_COS']==i].fillna(0)\n",
      "C:\\Users\\Usuario\\AppData\\Local\\Temp\\ipykernel_9800\\2327553473.py:2: FutureWarning: Downcasting object dtype arrays on .fillna, .ffill, .bfill is deprecated and will change in a future version. Call result.infer_objects(copy=False) instead. To opt-in to the future behavior, set `pd.set_option('future.no_silent_downcasting', True)`\n",
      "  grupo = xlsx_resumen[xlsx_resumen['COD_COS']==i].fillna(0)\n",
      "C:\\Users\\Usuario\\AppData\\Local\\Temp\\ipykernel_9800\\2327553473.py:2: FutureWarning: Downcasting object dtype arrays on .fillna, .ffill, .bfill is deprecated and will change in a future version. Call result.infer_objects(copy=False) instead. To opt-in to the future behavior, set `pd.set_option('future.no_silent_downcasting', True)`\n",
      "  grupo = xlsx_resumen[xlsx_resumen['COD_COS']==i].fillna(0)\n",
      "C:\\Users\\Usuario\\AppData\\Local\\Temp\\ipykernel_9800\\2327553473.py:2: FutureWarning: Downcasting object dtype arrays on .fillna, .ffill, .bfill is deprecated and will change in a future version. Call result.infer_objects(copy=False) instead. To opt-in to the future behavior, set `pd.set_option('future.no_silent_downcasting', True)`\n",
      "  grupo = xlsx_resumen[xlsx_resumen['COD_COS']==i].fillna(0)\n",
      "C:\\Users\\Usuario\\AppData\\Local\\Temp\\ipykernel_9800\\2327553473.py:2: FutureWarning: Downcasting object dtype arrays on .fillna, .ffill, .bfill is deprecated and will change in a future version. Call result.infer_objects(copy=False) instead. To opt-in to the future behavior, set `pd.set_option('future.no_silent_downcasting', True)`\n",
      "  grupo = xlsx_resumen[xlsx_resumen['COD_COS']==i].fillna(0)\n",
      "C:\\Users\\Usuario\\AppData\\Local\\Temp\\ipykernel_9800\\2327553473.py:2: FutureWarning: Downcasting object dtype arrays on .fillna, .ffill, .bfill is deprecated and will change in a future version. Call result.infer_objects(copy=False) instead. To opt-in to the future behavior, set `pd.set_option('future.no_silent_downcasting', True)`\n",
      "  grupo = xlsx_resumen[xlsx_resumen['COD_COS']==i].fillna(0)\n",
      "C:\\Users\\Usuario\\AppData\\Local\\Temp\\ipykernel_9800\\2327553473.py:2: FutureWarning: Downcasting object dtype arrays on .fillna, .ffill, .bfill is deprecated and will change in a future version. Call result.infer_objects(copy=False) instead. To opt-in to the future behavior, set `pd.set_option('future.no_silent_downcasting', True)`\n",
      "  grupo = xlsx_resumen[xlsx_resumen['COD_COS']==i].fillna(0)\n",
      "C:\\Users\\Usuario\\AppData\\Local\\Temp\\ipykernel_9800\\2327553473.py:2: FutureWarning: Downcasting object dtype arrays on .fillna, .ffill, .bfill is deprecated and will change in a future version. Call result.infer_objects(copy=False) instead. To opt-in to the future behavior, set `pd.set_option('future.no_silent_downcasting', True)`\n",
      "  grupo = xlsx_resumen[xlsx_resumen['COD_COS']==i].fillna(0)\n",
      "C:\\Users\\Usuario\\AppData\\Local\\Temp\\ipykernel_9800\\2327553473.py:2: FutureWarning: Downcasting object dtype arrays on .fillna, .ffill, .bfill is deprecated and will change in a future version. Call result.infer_objects(copy=False) instead. To opt-in to the future behavior, set `pd.set_option('future.no_silent_downcasting', True)`\n",
      "  grupo = xlsx_resumen[xlsx_resumen['COD_COS']==i].fillna(0)\n",
      "C:\\Users\\Usuario\\AppData\\Local\\Temp\\ipykernel_9800\\2327553473.py:2: FutureWarning: Downcasting object dtype arrays on .fillna, .ffill, .bfill is deprecated and will change in a future version. Call result.infer_objects(copy=False) instead. To opt-in to the future behavior, set `pd.set_option('future.no_silent_downcasting', True)`\n",
      "  grupo = xlsx_resumen[xlsx_resumen['COD_COS']==i].fillna(0)\n",
      "C:\\Users\\Usuario\\AppData\\Local\\Temp\\ipykernel_9800\\2327553473.py:2: FutureWarning: Downcasting object dtype arrays on .fillna, .ffill, .bfill is deprecated and will change in a future version. Call result.infer_objects(copy=False) instead. To opt-in to the future behavior, set `pd.set_option('future.no_silent_downcasting', True)`\n",
      "  grupo = xlsx_resumen[xlsx_resumen['COD_COS']==i].fillna(0)\n",
      "C:\\Users\\Usuario\\AppData\\Local\\Temp\\ipykernel_9800\\2327553473.py:2: FutureWarning: Downcasting object dtype arrays on .fillna, .ffill, .bfill is deprecated and will change in a future version. Call result.infer_objects(copy=False) instead. To opt-in to the future behavior, set `pd.set_option('future.no_silent_downcasting', True)`\n",
      "  grupo = xlsx_resumen[xlsx_resumen['COD_COS']==i].fillna(0)\n",
      "C:\\Users\\Usuario\\AppData\\Local\\Temp\\ipykernel_9800\\2327553473.py:2: FutureWarning: Downcasting object dtype arrays on .fillna, .ffill, .bfill is deprecated and will change in a future version. Call result.infer_objects(copy=False) instead. To opt-in to the future behavior, set `pd.set_option('future.no_silent_downcasting', True)`\n",
      "  grupo = xlsx_resumen[xlsx_resumen['COD_COS']==i].fillna(0)\n",
      "C:\\Users\\Usuario\\AppData\\Local\\Temp\\ipykernel_9800\\2327553473.py:2: FutureWarning: Downcasting object dtype arrays on .fillna, .ffill, .bfill is deprecated and will change in a future version. Call result.infer_objects(copy=False) instead. To opt-in to the future behavior, set `pd.set_option('future.no_silent_downcasting', True)`\n",
      "  grupo = xlsx_resumen[xlsx_resumen['COD_COS']==i].fillna(0)\n",
      "C:\\Users\\Usuario\\AppData\\Local\\Temp\\ipykernel_9800\\2327553473.py:2: FutureWarning: Downcasting object dtype arrays on .fillna, .ffill, .bfill is deprecated and will change in a future version. Call result.infer_objects(copy=False) instead. To opt-in to the future behavior, set `pd.set_option('future.no_silent_downcasting', True)`\n",
      "  grupo = xlsx_resumen[xlsx_resumen['COD_COS']==i].fillna(0)\n",
      "C:\\Users\\Usuario\\AppData\\Local\\Temp\\ipykernel_9800\\2327553473.py:2: FutureWarning: Downcasting object dtype arrays on .fillna, .ffill, .bfill is deprecated and will change in a future version. Call result.infer_objects(copy=False) instead. To opt-in to the future behavior, set `pd.set_option('future.no_silent_downcasting', True)`\n",
      "  grupo = xlsx_resumen[xlsx_resumen['COD_COS']==i].fillna(0)\n",
      "C:\\Users\\Usuario\\AppData\\Local\\Temp\\ipykernel_9800\\2327553473.py:2: FutureWarning: Downcasting object dtype arrays on .fillna, .ffill, .bfill is deprecated and will change in a future version. Call result.infer_objects(copy=False) instead. To opt-in to the future behavior, set `pd.set_option('future.no_silent_downcasting', True)`\n",
      "  grupo = xlsx_resumen[xlsx_resumen['COD_COS']==i].fillna(0)\n",
      "C:\\Users\\Usuario\\AppData\\Local\\Temp\\ipykernel_9800\\2327553473.py:2: FutureWarning: Downcasting object dtype arrays on .fillna, .ffill, .bfill is deprecated and will change in a future version. Call result.infer_objects(copy=False) instead. To opt-in to the future behavior, set `pd.set_option('future.no_silent_downcasting', True)`\n",
      "  grupo = xlsx_resumen[xlsx_resumen['COD_COS']==i].fillna(0)\n",
      "C:\\Users\\Usuario\\AppData\\Local\\Temp\\ipykernel_9800\\2327553473.py:2: FutureWarning: Downcasting object dtype arrays on .fillna, .ffill, .bfill is deprecated and will change in a future version. Call result.infer_objects(copy=False) instead. To opt-in to the future behavior, set `pd.set_option('future.no_silent_downcasting', True)`\n",
      "  grupo = xlsx_resumen[xlsx_resumen['COD_COS']==i].fillna(0)\n",
      "C:\\Users\\Usuario\\AppData\\Local\\Temp\\ipykernel_9800\\2327553473.py:2: FutureWarning: Downcasting object dtype arrays on .fillna, .ffill, .bfill is deprecated and will change in a future version. Call result.infer_objects(copy=False) instead. To opt-in to the future behavior, set `pd.set_option('future.no_silent_downcasting', True)`\n",
      "  grupo = xlsx_resumen[xlsx_resumen['COD_COS']==i].fillna(0)\n",
      "C:\\Users\\Usuario\\AppData\\Local\\Temp\\ipykernel_9800\\2327553473.py:2: FutureWarning: Downcasting object dtype arrays on .fillna, .ffill, .bfill is deprecated and will change in a future version. Call result.infer_objects(copy=False) instead. To opt-in to the future behavior, set `pd.set_option('future.no_silent_downcasting', True)`\n",
      "  grupo = xlsx_resumen[xlsx_resumen['COD_COS']==i].fillna(0)\n",
      "C:\\Users\\Usuario\\AppData\\Local\\Temp\\ipykernel_9800\\2327553473.py:2: FutureWarning: Downcasting object dtype arrays on .fillna, .ffill, .bfill is deprecated and will change in a future version. Call result.infer_objects(copy=False) instead. To opt-in to the future behavior, set `pd.set_option('future.no_silent_downcasting', True)`\n",
      "  grupo = xlsx_resumen[xlsx_resumen['COD_COS']==i].fillna(0)\n",
      "C:\\Users\\Usuario\\AppData\\Local\\Temp\\ipykernel_9800\\2327553473.py:2: FutureWarning: Downcasting object dtype arrays on .fillna, .ffill, .bfill is deprecated and will change in a future version. Call result.infer_objects(copy=False) instead. To opt-in to the future behavior, set `pd.set_option('future.no_silent_downcasting', True)`\n",
      "  grupo = xlsx_resumen[xlsx_resumen['COD_COS']==i].fillna(0)\n",
      "C:\\Users\\Usuario\\AppData\\Local\\Temp\\ipykernel_9800\\2327553473.py:2: FutureWarning: Downcasting object dtype arrays on .fillna, .ffill, .bfill is deprecated and will change in a future version. Call result.infer_objects(copy=False) instead. To opt-in to the future behavior, set `pd.set_option('future.no_silent_downcasting', True)`\n",
      "  grupo = xlsx_resumen[xlsx_resumen['COD_COS']==i].fillna(0)\n",
      "C:\\Users\\Usuario\\AppData\\Local\\Temp\\ipykernel_9800\\2327553473.py:2: FutureWarning: Downcasting object dtype arrays on .fillna, .ffill, .bfill is deprecated and will change in a future version. Call result.infer_objects(copy=False) instead. To opt-in to the future behavior, set `pd.set_option('future.no_silent_downcasting', True)`\n",
      "  grupo = xlsx_resumen[xlsx_resumen['COD_COS']==i].fillna(0)\n",
      "C:\\Users\\Usuario\\AppData\\Local\\Temp\\ipykernel_9800\\2327553473.py:2: FutureWarning: Downcasting object dtype arrays on .fillna, .ffill, .bfill is deprecated and will change in a future version. Call result.infer_objects(copy=False) instead. To opt-in to the future behavior, set `pd.set_option('future.no_silent_downcasting', True)`\n",
      "  grupo = xlsx_resumen[xlsx_resumen['COD_COS']==i].fillna(0)\n",
      "C:\\Users\\Usuario\\AppData\\Local\\Temp\\ipykernel_9800\\2327553473.py:2: FutureWarning: Downcasting object dtype arrays on .fillna, .ffill, .bfill is deprecated and will change in a future version. Call result.infer_objects(copy=False) instead. To opt-in to the future behavior, set `pd.set_option('future.no_silent_downcasting', True)`\n",
      "  grupo = xlsx_resumen[xlsx_resumen['COD_COS']==i].fillna(0)\n",
      "C:\\Users\\Usuario\\AppData\\Local\\Temp\\ipykernel_9800\\2327553473.py:2: FutureWarning: Downcasting object dtype arrays on .fillna, .ffill, .bfill is deprecated and will change in a future version. Call result.infer_objects(copy=False) instead. To opt-in to the future behavior, set `pd.set_option('future.no_silent_downcasting', True)`\n",
      "  grupo = xlsx_resumen[xlsx_resumen['COD_COS']==i].fillna(0)\n",
      "C:\\Users\\Usuario\\AppData\\Local\\Temp\\ipykernel_9800\\2327553473.py:2: FutureWarning: Downcasting object dtype arrays on .fillna, .ffill, .bfill is deprecated and will change in a future version. Call result.infer_objects(copy=False) instead. To opt-in to the future behavior, set `pd.set_option('future.no_silent_downcasting', True)`\n",
      "  grupo = xlsx_resumen[xlsx_resumen['COD_COS']==i].fillna(0)\n",
      "C:\\Users\\Usuario\\AppData\\Local\\Temp\\ipykernel_9800\\2327553473.py:2: FutureWarning: Downcasting object dtype arrays on .fillna, .ffill, .bfill is deprecated and will change in a future version. Call result.infer_objects(copy=False) instead. To opt-in to the future behavior, set `pd.set_option('future.no_silent_downcasting', True)`\n",
      "  grupo = xlsx_resumen[xlsx_resumen['COD_COS']==i].fillna(0)\n",
      "C:\\Users\\Usuario\\AppData\\Local\\Temp\\ipykernel_9800\\2327553473.py:2: FutureWarning: Downcasting object dtype arrays on .fillna, .ffill, .bfill is deprecated and will change in a future version. Call result.infer_objects(copy=False) instead. To opt-in to the future behavior, set `pd.set_option('future.no_silent_downcasting', True)`\n",
      "  grupo = xlsx_resumen[xlsx_resumen['COD_COS']==i].fillna(0)\n",
      "C:\\Users\\Usuario\\AppData\\Local\\Temp\\ipykernel_9800\\2327553473.py:2: FutureWarning: Downcasting object dtype arrays on .fillna, .ffill, .bfill is deprecated and will change in a future version. Call result.infer_objects(copy=False) instead. To opt-in to the future behavior, set `pd.set_option('future.no_silent_downcasting', True)`\n",
      "  grupo = xlsx_resumen[xlsx_resumen['COD_COS']==i].fillna(0)\n",
      "C:\\Users\\Usuario\\AppData\\Local\\Temp\\ipykernel_9800\\2327553473.py:2: FutureWarning: Downcasting object dtype arrays on .fillna, .ffill, .bfill is deprecated and will change in a future version. Call result.infer_objects(copy=False) instead. To opt-in to the future behavior, set `pd.set_option('future.no_silent_downcasting', True)`\n",
      "  grupo = xlsx_resumen[xlsx_resumen['COD_COS']==i].fillna(0)\n",
      "C:\\Users\\Usuario\\AppData\\Local\\Temp\\ipykernel_9800\\2327553473.py:2: FutureWarning: Downcasting object dtype arrays on .fillna, .ffill, .bfill is deprecated and will change in a future version. Call result.infer_objects(copy=False) instead. To opt-in to the future behavior, set `pd.set_option('future.no_silent_downcasting', True)`\n",
      "  grupo = xlsx_resumen[xlsx_resumen['COD_COS']==i].fillna(0)\n",
      "C:\\Users\\Usuario\\AppData\\Local\\Temp\\ipykernel_9800\\2327553473.py:2: FutureWarning: Downcasting object dtype arrays on .fillna, .ffill, .bfill is deprecated and will change in a future version. Call result.infer_objects(copy=False) instead. To opt-in to the future behavior, set `pd.set_option('future.no_silent_downcasting', True)`\n",
      "  grupo = xlsx_resumen[xlsx_resumen['COD_COS']==i].fillna(0)\n",
      "C:\\Users\\Usuario\\AppData\\Local\\Temp\\ipykernel_9800\\2327553473.py:2: FutureWarning: Downcasting object dtype arrays on .fillna, .ffill, .bfill is deprecated and will change in a future version. Call result.infer_objects(copy=False) instead. To opt-in to the future behavior, set `pd.set_option('future.no_silent_downcasting', True)`\n",
      "  grupo = xlsx_resumen[xlsx_resumen['COD_COS']==i].fillna(0)\n",
      "C:\\Users\\Usuario\\AppData\\Local\\Temp\\ipykernel_9800\\2327553473.py:2: FutureWarning: Downcasting object dtype arrays on .fillna, .ffill, .bfill is deprecated and will change in a future version. Call result.infer_objects(copy=False) instead. To opt-in to the future behavior, set `pd.set_option('future.no_silent_downcasting', True)`\n",
      "  grupo = xlsx_resumen[xlsx_resumen['COD_COS']==i].fillna(0)\n",
      "C:\\Users\\Usuario\\AppData\\Local\\Temp\\ipykernel_9800\\2327553473.py:2: FutureWarning: Downcasting object dtype arrays on .fillna, .ffill, .bfill is deprecated and will change in a future version. Call result.infer_objects(copy=False) instead. To opt-in to the future behavior, set `pd.set_option('future.no_silent_downcasting', True)`\n",
      "  grupo = xlsx_resumen[xlsx_resumen['COD_COS']==i].fillna(0)\n",
      "C:\\Users\\Usuario\\AppData\\Local\\Temp\\ipykernel_9800\\2327553473.py:2: FutureWarning: Downcasting object dtype arrays on .fillna, .ffill, .bfill is deprecated and will change in a future version. Call result.infer_objects(copy=False) instead. To opt-in to the future behavior, set `pd.set_option('future.no_silent_downcasting', True)`\n",
      "  grupo = xlsx_resumen[xlsx_resumen['COD_COS']==i].fillna(0)\n",
      "C:\\Users\\Usuario\\AppData\\Local\\Temp\\ipykernel_9800\\2327553473.py:2: FutureWarning: Downcasting object dtype arrays on .fillna, .ffill, .bfill is deprecated and will change in a future version. Call result.infer_objects(copy=False) instead. To opt-in to the future behavior, set `pd.set_option('future.no_silent_downcasting', True)`\n",
      "  grupo = xlsx_resumen[xlsx_resumen['COD_COS']==i].fillna(0)\n",
      "C:\\Users\\Usuario\\AppData\\Local\\Temp\\ipykernel_9800\\2327553473.py:2: FutureWarning: Downcasting object dtype arrays on .fillna, .ffill, .bfill is deprecated and will change in a future version. Call result.infer_objects(copy=False) instead. To opt-in to the future behavior, set `pd.set_option('future.no_silent_downcasting', True)`\n",
      "  grupo = xlsx_resumen[xlsx_resumen['COD_COS']==i].fillna(0)\n",
      "C:\\Users\\Usuario\\AppData\\Local\\Temp\\ipykernel_9800\\2327553473.py:2: FutureWarning: Downcasting object dtype arrays on .fillna, .ffill, .bfill is deprecated and will change in a future version. Call result.infer_objects(copy=False) instead. To opt-in to the future behavior, set `pd.set_option('future.no_silent_downcasting', True)`\n",
      "  grupo = xlsx_resumen[xlsx_resumen['COD_COS']==i].fillna(0)\n",
      "C:\\Users\\Usuario\\AppData\\Local\\Temp\\ipykernel_9800\\2327553473.py:2: FutureWarning: Downcasting object dtype arrays on .fillna, .ffill, .bfill is deprecated and will change in a future version. Call result.infer_objects(copy=False) instead. To opt-in to the future behavior, set `pd.set_option('future.no_silent_downcasting', True)`\n",
      "  grupo = xlsx_resumen[xlsx_resumen['COD_COS']==i].fillna(0)\n",
      "C:\\Users\\Usuario\\AppData\\Local\\Temp\\ipykernel_9800\\2327553473.py:2: FutureWarning: Downcasting object dtype arrays on .fillna, .ffill, .bfill is deprecated and will change in a future version. Call result.infer_objects(copy=False) instead. To opt-in to the future behavior, set `pd.set_option('future.no_silent_downcasting', True)`\n",
      "  grupo = xlsx_resumen[xlsx_resumen['COD_COS']==i].fillna(0)\n",
      "C:\\Users\\Usuario\\AppData\\Local\\Temp\\ipykernel_9800\\2327553473.py:2: FutureWarning: Downcasting object dtype arrays on .fillna, .ffill, .bfill is deprecated and will change in a future version. Call result.infer_objects(copy=False) instead. To opt-in to the future behavior, set `pd.set_option('future.no_silent_downcasting', True)`\n",
      "  grupo = xlsx_resumen[xlsx_resumen['COD_COS']==i].fillna(0)\n",
      "C:\\Users\\Usuario\\AppData\\Local\\Temp\\ipykernel_9800\\2327553473.py:2: FutureWarning: Downcasting object dtype arrays on .fillna, .ffill, .bfill is deprecated and will change in a future version. Call result.infer_objects(copy=False) instead. To opt-in to the future behavior, set `pd.set_option('future.no_silent_downcasting', True)`\n",
      "  grupo = xlsx_resumen[xlsx_resumen['COD_COS']==i].fillna(0)\n",
      "C:\\Users\\Usuario\\AppData\\Local\\Temp\\ipykernel_9800\\2327553473.py:2: FutureWarning: Downcasting object dtype arrays on .fillna, .ffill, .bfill is deprecated and will change in a future version. Call result.infer_objects(copy=False) instead. To opt-in to the future behavior, set `pd.set_option('future.no_silent_downcasting', True)`\n",
      "  grupo = xlsx_resumen[xlsx_resumen['COD_COS']==i].fillna(0)\n",
      "C:\\Users\\Usuario\\AppData\\Local\\Temp\\ipykernel_9800\\2327553473.py:2: FutureWarning: Downcasting object dtype arrays on .fillna, .ffill, .bfill is deprecated and will change in a future version. Call result.infer_objects(copy=False) instead. To opt-in to the future behavior, set `pd.set_option('future.no_silent_downcasting', True)`\n",
      "  grupo = xlsx_resumen[xlsx_resumen['COD_COS']==i].fillna(0)\n",
      "C:\\Users\\Usuario\\AppData\\Local\\Temp\\ipykernel_9800\\2327553473.py:2: FutureWarning: Downcasting object dtype arrays on .fillna, .ffill, .bfill is deprecated and will change in a future version. Call result.infer_objects(copy=False) instead. To opt-in to the future behavior, set `pd.set_option('future.no_silent_downcasting', True)`\n",
      "  grupo = xlsx_resumen[xlsx_resumen['COD_COS']==i].fillna(0)\n",
      "C:\\Users\\Usuario\\AppData\\Local\\Temp\\ipykernel_9800\\2327553473.py:2: FutureWarning: Downcasting object dtype arrays on .fillna, .ffill, .bfill is deprecated and will change in a future version. Call result.infer_objects(copy=False) instead. To opt-in to the future behavior, set `pd.set_option('future.no_silent_downcasting', True)`\n",
      "  grupo = xlsx_resumen[xlsx_resumen['COD_COS']==i].fillna(0)\n"
     ]
    }
   ],
   "source": [
    "for i in list_cod_cos:\n",
    "    grupo = xlsx_resumen[xlsx_resumen['COD_COS']==i].fillna(0)\n",
    "    result = colapsar_tabla(grupo)\n",
    "    list_df.append(result)"
   ]
  },
  {
   "cell_type": "code",
   "execution_count": null,
   "id": "df76fe36-ed35-4f13-a43a-7cb08ab78ea3",
   "metadata": {},
   "outputs": [],
   "source": []
  },
  {
   "cell_type": "code",
   "execution_count": 42,
   "id": "56215bce-92cb-4abf-b1d1-390d97d05758",
   "metadata": {},
   "outputs": [
    {
     "name": "stderr",
     "output_type": "stream",
     "text": [
      "C:\\Users\\Usuario\\AppData\\Local\\Temp\\ipykernel_9800\\69313519.py:1: FutureWarning: The behavior of DataFrame concatenation with empty or all-NA entries is deprecated. In a future version, this will no longer exclude empty or all-NA columns when determining the result dtypes. To retain the old behavior, exclude the relevant entries before the concat operation.\n",
      "  df_combinado = pd.concat(list_df, ignore_index=True)\n"
     ]
    }
   ],
   "source": [
    "df_combinado = pd.concat(list_df, ignore_index=True)"
   ]
  },
  {
   "cell_type": "code",
   "execution_count": 43,
   "id": "28f57e23-4a3f-4575-84e5-61f4d0c75812",
   "metadata": {},
   "outputs": [
    {
     "data": {
      "text/html": [
       "<div>\n",
       "<style scoped>\n",
       "    .dataframe tbody tr th:only-of-type {\n",
       "        vertical-align: middle;\n",
       "    }\n",
       "\n",
       "    .dataframe tbody tr th {\n",
       "        vertical-align: top;\n",
       "    }\n",
       "\n",
       "    .dataframe thead th {\n",
       "        text-align: right;\n",
       "    }\n",
       "</style>\n",
       "<table border=\"1\" class=\"dataframe\">\n",
       "  <thead>\n",
       "    <tr style=\"text-align: right;\">\n",
       "      <th></th>\n",
       "      <th>COD_COS</th>\n",
       "      <th>FECHA</th>\n",
       "      <th>AREA</th>\n",
       "      <th>ESTIMATIVA</th>\n",
       "      <th>ENTREGADO</th>\n",
       "    </tr>\n",
       "  </thead>\n",
       "  <tbody>\n",
       "    <tr>\n",
       "      <th>0</th>\n",
       "      <td>1</td>\n",
       "      <td>2024-05-16 00:00:00</td>\n",
       "      <td>4.13</td>\n",
       "      <td>221.900459</td>\n",
       "      <td>0.00</td>\n",
       "    </tr>\n",
       "    <tr>\n",
       "      <th>1</th>\n",
       "      <td>2</td>\n",
       "      <td>2024-05-16 00:00:00</td>\n",
       "      <td>1.92</td>\n",
       "      <td>117.200508</td>\n",
       "      <td>0.00</td>\n",
       "    </tr>\n",
       "    <tr>\n",
       "      <th>2</th>\n",
       "      <td>514</td>\n",
       "      <td>2024-05-16 00:00:00</td>\n",
       "      <td>2.17</td>\n",
       "      <td>63.078462</td>\n",
       "      <td>0.00</td>\n",
       "    </tr>\n",
       "    <tr>\n",
       "      <th>3</th>\n",
       "      <td>5</td>\n",
       "      <td>2024-05-16 00:00:00</td>\n",
       "      <td>57.32</td>\n",
       "      <td>3135.412726</td>\n",
       "      <td>3502.61</td>\n",
       "    </tr>\n",
       "    <tr>\n",
       "      <th>4</th>\n",
       "      <td>520</td>\n",
       "      <td>2024-05-16 00:00:00</td>\n",
       "      <td>1.51</td>\n",
       "      <td>74.487141</td>\n",
       "      <td>98.03</td>\n",
       "    </tr>\n",
       "    <tr>\n",
       "      <th>...</th>\n",
       "      <td>...</td>\n",
       "      <td>...</td>\n",
       "      <td>...</td>\n",
       "      <td>...</td>\n",
       "      <td>...</td>\n",
       "    </tr>\n",
       "    <tr>\n",
       "      <th>100</th>\n",
       "      <td>440</td>\n",
       "      <td>2024-05-16 00:00:00</td>\n",
       "      <td>0.51</td>\n",
       "      <td>31.141534</td>\n",
       "      <td>0.00</td>\n",
       "    </tr>\n",
       "    <tr>\n",
       "      <th>101</th>\n",
       "      <td>451</td>\n",
       "      <td>2024-05-16 00:00:00</td>\n",
       "      <td>5.64</td>\n",
       "      <td>216.442762</td>\n",
       "      <td>0.00</td>\n",
       "    </tr>\n",
       "    <tr>\n",
       "      <th>102</th>\n",
       "      <td>464</td>\n",
       "      <td>2024-05-16 00:00:00</td>\n",
       "      <td>0.18</td>\n",
       "      <td>11.426420</td>\n",
       "      <td>0.00</td>\n",
       "    </tr>\n",
       "    <tr>\n",
       "      <th>103</th>\n",
       "      <td>501</td>\n",
       "      <td>2024-05-16 00:00:00</td>\n",
       "      <td>0.34</td>\n",
       "      <td>0.000000</td>\n",
       "      <td>0.00</td>\n",
       "    </tr>\n",
       "    <tr>\n",
       "      <th>104</th>\n",
       "      <td>502</td>\n",
       "      <td>2024-05-16 00:00:00</td>\n",
       "      <td>1.70</td>\n",
       "      <td>65.377995</td>\n",
       "      <td>92.62</td>\n",
       "    </tr>\n",
       "  </tbody>\n",
       "</table>\n",
       "<p>105 rows × 5 columns</p>\n",
       "</div>"
      ],
      "text/plain": [
       "    COD_COS                FECHA   AREA   ESTIMATIVA  ENTREGADO\n",
       "0         1  2024-05-16 00:00:00   4.13   221.900459       0.00\n",
       "1         2  2024-05-16 00:00:00   1.92   117.200508       0.00\n",
       "2       514  2024-05-16 00:00:00   2.17    63.078462       0.00\n",
       "3         5  2024-05-16 00:00:00  57.32  3135.412726    3502.61\n",
       "4       520  2024-05-16 00:00:00   1.51    74.487141      98.03\n",
       "..      ...                  ...    ...          ...        ...\n",
       "100     440  2024-05-16 00:00:00   0.51    31.141534       0.00\n",
       "101     451  2024-05-16 00:00:00   5.64   216.442762       0.00\n",
       "102     464  2024-05-16 00:00:00   0.18    11.426420       0.00\n",
       "103     501  2024-05-16 00:00:00   0.34     0.000000       0.00\n",
       "104     502  2024-05-16 00:00:00   1.70    65.377995      92.62\n",
       "\n",
       "[105 rows x 5 columns]"
      ]
     },
     "execution_count": 43,
     "metadata": {},
     "output_type": "execute_result"
    }
   ],
   "source": [
    "df_combinado"
   ]
  },
  {
   "cell_type": "code",
   "execution_count": 44,
   "id": "3aa3b20f-890c-4aa5-98ed-a90e0eb59501",
   "metadata": {},
   "outputs": [],
   "source": [
    "df_combinado.to_excel('data_result.xlsx', index=False, engine='openpyxl')"
   ]
  },
  {
   "cell_type": "code",
   "execution_count": null,
   "id": "d15d0c1c-bdf7-4b2a-9840-8b460863f1d6",
   "metadata": {},
   "outputs": [],
   "source": []
  },
  {
   "cell_type": "code",
   "execution_count": 28,
   "id": "95de55be-84e0-4e3f-8f61-e8a270ef890b",
   "metadata": {
    "tags": []
   },
   "outputs": [],
   "source": [
    "suma_acumulador = [None] * len(grupo)\n",
    "acumulador = 0\n",
    "contador = 0\n",
    "for i, r in grupo.iterrows():\n",
    "    if(r['AREA'] == 0):\n",
    "        acumulador += r['ENTREGAS']\n",
    "        contador += 1\n",
    "    else:\n",
    "        acumulador += r['ENTREGAS']\n",
    "        suma_acumulador[contador] = acumulador\n",
    "        acumulador = 0\n",
    "        contador += 1\n",
    "        continue"
   ]
  },
  {
   "cell_type": "code",
   "execution_count": 29,
   "id": "c0f53fb3-ee0f-4846-b3cc-1f1f1248a15d",
   "metadata": {
    "tags": []
   },
   "outputs": [
    {
     "data": {
      "text/plain": [
       "1"
      ]
     },
     "execution_count": 29,
     "metadata": {},
     "output_type": "execute_result"
    }
   ],
   "source": [
    "len(suma_acumulador)"
   ]
  },
  {
   "cell_type": "code",
   "execution_count": 30,
   "id": "d608e4ac-9075-49d3-8507-7cd77b96b976",
   "metadata": {
    "tags": []
   },
   "outputs": [
    {
     "data": {
      "text/plain": [
       "1"
      ]
     },
     "execution_count": 30,
     "metadata": {},
     "output_type": "execute_result"
    }
   ],
   "source": [
    "len(grupo)"
   ]
  },
  {
   "cell_type": "code",
   "execution_count": 31,
   "id": "adf62879-6c30-4ca0-8970-4f3445a5653f",
   "metadata": {
    "tags": []
   },
   "outputs": [],
   "source": [
    "grupo['SUM_ACUM'] = suma_acumulador"
   ]
  },
  {
   "cell_type": "code",
   "execution_count": 32,
   "id": "a5bbef10-c6f4-424a-a62b-a7206a799aa2",
   "metadata": {
    "tags": []
   },
   "outputs": [],
   "source": [
    "df = grupo[grupo['AREA']!=0]"
   ]
  },
  {
   "cell_type": "code",
   "execution_count": 33,
   "id": "5c059ca6-da00-4d49-b35f-bbe1840e0fa6",
   "metadata": {
    "tags": []
   },
   "outputs": [
    {
     "data": {
      "text/html": [
       "<div>\n",
       "<style scoped>\n",
       "    .dataframe tbody tr th:only-of-type {\n",
       "        vertical-align: middle;\n",
       "    }\n",
       "\n",
       "    .dataframe tbody tr th {\n",
       "        vertical-align: top;\n",
       "    }\n",
       "\n",
       "    .dataframe thead th {\n",
       "        text-align: right;\n",
       "    }\n",
       "</style>\n",
       "<table border=\"1\" class=\"dataframe\">\n",
       "  <thead>\n",
       "    <tr style=\"text-align: right;\">\n",
       "      <th></th>\n",
       "      <th>COD_COS</th>\n",
       "      <th>FECHA</th>\n",
       "      <th>AREA</th>\n",
       "      <th>ESTIMATIVA</th>\n",
       "      <th>ENTREGAS</th>\n",
       "      <th>ENTREGADO</th>\n",
       "      <th>SUM_ACUM</th>\n",
       "    </tr>\n",
       "  </thead>\n",
       "  <tbody>\n",
       "    <tr>\n",
       "      <th>114</th>\n",
       "      <td>502</td>\n",
       "      <td>2024-05-16</td>\n",
       "      <td>1.7</td>\n",
       "      <td>65.377995</td>\n",
       "      <td>92.62</td>\n",
       "      <td>92.62</td>\n",
       "      <td>92.62</td>\n",
       "    </tr>\n",
       "  </tbody>\n",
       "</table>\n",
       "</div>"
      ],
      "text/plain": [
       "     COD_COS      FECHA  AREA  ESTIMATIVA  ENTREGAS  ENTREGADO  SUM_ACUM\n",
       "114      502 2024-05-16   1.7   65.377995     92.62      92.62     92.62"
      ]
     },
     "execution_count": 33,
     "metadata": {},
     "output_type": "execute_result"
    }
   ],
   "source": [
    "df"
   ]
  },
  {
   "cell_type": "code",
   "execution_count": null,
   "id": "84e104e2-a2f6-460f-9b8a-a800ba8dde41",
   "metadata": {},
   "outputs": [],
   "source": []
  },
  {
   "cell_type": "code",
   "execution_count": null,
   "id": "5876388b-8a06-404d-b03b-4ac95f9066ba",
   "metadata": {},
   "outputs": [],
   "source": []
  }
 ],
 "metadata": {
  "kernelspec": {
   "display_name": "Python 3 (ipykernel)",
   "language": "python",
   "name": "python3"
  },
  "language_info": {
   "codemirror_mode": {
    "name": "ipython",
    "version": 3
   },
   "file_extension": ".py",
   "mimetype": "text/x-python",
   "name": "python",
   "nbconvert_exporter": "python",
   "pygments_lexer": "ipython3",
   "version": "3.10.13"
  }
 },
 "nbformat": 4,
 "nbformat_minor": 5
}
