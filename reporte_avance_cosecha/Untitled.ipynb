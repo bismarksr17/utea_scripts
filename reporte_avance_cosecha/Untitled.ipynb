{
 "cells": [
  {
   "cell_type": "code",
   "execution_count": 3,
   "id": "d0d6c9ad-1a51-4049-90b8-643b85ed7671",
   "metadata": {
    "tags": []
   },
   "outputs": [],
   "source": [
    "import pandas as pd"
   ]
  },
  {
   "cell_type": "code",
   "execution_count": 11,
   "id": "ed255b9e-acaf-4f59-9ed8-040566b98782",
   "metadata": {
    "tags": []
   },
   "outputs": [],
   "source": [
    "path_xlsx_avance = r'C:/Documents/Ingenio Azucarero Guabira S.A/UTEA - SEMANAL - AVANCE COSECHA/2024/AVANCE_SEMANAL/COMPARAIVA_AVANCE DE COSECHA_20-06-2024.xlsx'"
   ]
  },
  {
   "cell_type": "code",
   "execution_count": 12,
   "id": "73e582c0-62b4-4225-ba24-25530fae77e1",
   "metadata": {
    "tags": []
   },
   "outputs": [],
   "source": [
    "xlsx_resumen = pd.read_excel(path_xlsx_avance, sheet_name='RESUMEN')"
   ]
  },
  {
   "cell_type": "code",
   "execution_count": 13,
   "id": "7c3e1329-b898-4207-991d-cca0cd985325",
   "metadata": {
    "tags": []
   },
   "outputs": [],
   "source": [
    "grupo = xlsx_resumen[xlsx_resumen['COD_COS']==425].fillna(0)"
   ]
  },
  {
   "cell_type": "code",
   "execution_count": 14,
   "id": "62f82407-f7aa-455c-85be-9bc6edc23f86",
   "metadata": {
    "tags": []
   },
   "outputs": [],
   "source": [
    "def colapsar_tabla(df_param):\n",
    "    suma_acumulador = [None] * len(df_param)\n",
    "    acumulador = 0\n",
    "    contador = 0\n",
    "    for i, r in df_param.iterrows():\n",
    "        if(r['AREA'] == 0):\n",
    "            acumulador += r['ENTREGAS']\n",
    "            contador += 1\n",
    "        else:\n",
    "            acumulador += r['ENTREGAS']\n",
    "            suma_acumulador[contador] = acumulador\n",
    "            acumulador = 0\n",
    "            contador += 1\n",
    "            continue\n",
    "    df_param['ENTREGADO'] = suma_acumulador\n",
    "    df_param = df_param.drop(columns=['ENTREGAS'])\n",
    "    df_param = df_param[grupo['AREA']!=0]\n",
    "    return df_param"
   ]
  },
  {
   "cell_type": "code",
   "execution_count": 15,
   "id": "8fce237f-7f9f-4b0f-84ca-f5c1706f9335",
   "metadata": {},
   "outputs": [],
   "source": [
    "list_cod_cos = list(set(xlsx_resumen['COD_COS']))"
   ]
  },
  {
   "cell_type": "code",
   "execution_count": 16,
   "id": "271a4d97-3b83-4764-842d-e451c4a7651a",
   "metadata": {},
   "outputs": [],
   "source": [
    "list_df = []"
   ]
  },
  {
   "cell_type": "code",
   "execution_count": 17,
   "id": "af4170c6-ff6a-4dd5-8f5c-e50a94df747c",
   "metadata": {},
   "outputs": [],
   "source": [
    "for i in list_cod_cos:\n",
    "    grupo = xlsx_resumen[xlsx_resumen['COD_COS']==i].fillna(0)\n",
    "    result = colapsar_tabla(grupo)\n",
    "    list_df.append(result)"
   ]
  },
  {
   "cell_type": "code",
   "execution_count": null,
   "id": "df76fe36-ed35-4f13-a43a-7cb08ab78ea3",
   "metadata": {},
   "outputs": [],
   "source": []
  },
  {
   "cell_type": "code",
   "execution_count": 18,
   "id": "56215bce-92cb-4abf-b1d1-390d97d05758",
   "metadata": {},
   "outputs": [
    {
     "name": "stderr",
     "output_type": "stream",
     "text": [
      "C:\\Users\\bismarksr\\AppData\\Local\\Temp\\ipykernel_9004\\69313519.py:1: FutureWarning: The behavior of DataFrame concatenation with empty or all-NA entries is deprecated. In a future version, this will no longer exclude empty or all-NA columns when determining the result dtypes. To retain the old behavior, exclude the relevant entries before the concat operation.\n",
      "  df_combinado = pd.concat(list_df, ignore_index=True)\n"
     ]
    }
   ],
   "source": [
    "df_combinado = pd.concat(list_df, ignore_index=True)"
   ]
  },
  {
   "cell_type": "code",
   "execution_count": 19,
   "id": "28f57e23-4a3f-4575-84e5-61f4d0c75812",
   "metadata": {},
   "outputs": [
    {
     "data": {
      "text/html": [
       "<div>\n",
       "<style scoped>\n",
       "    .dataframe tbody tr th:only-of-type {\n",
       "        vertical-align: middle;\n",
       "    }\n",
       "\n",
       "    .dataframe tbody tr th {\n",
       "        vertical-align: top;\n",
       "    }\n",
       "\n",
       "    .dataframe thead th {\n",
       "        text-align: right;\n",
       "    }\n",
       "</style>\n",
       "<table border=\"1\" class=\"dataframe\">\n",
       "  <thead>\n",
       "    <tr style=\"text-align: right;\">\n",
       "      <th></th>\n",
       "      <th>COD_COS</th>\n",
       "      <th>FECHA</th>\n",
       "      <th>AREA</th>\n",
       "      <th>ESTIMATIVA</th>\n",
       "      <th>ENTREGADO</th>\n",
       "    </tr>\n",
       "  </thead>\n",
       "  <tbody>\n",
       "    <tr>\n",
       "      <th>0</th>\n",
       "      <td>1</td>\n",
       "      <td>2024-05-16 00:00:00</td>\n",
       "      <td>4.127295</td>\n",
       "      <td>221.918352</td>\n",
       "      <td>0.00</td>\n",
       "    </tr>\n",
       "    <tr>\n",
       "      <th>1</th>\n",
       "      <td>1</td>\n",
       "      <td>2024-05-29 00:00:00</td>\n",
       "      <td>28.557391</td>\n",
       "      <td>1599.784951</td>\n",
       "      <td>1906.18</td>\n",
       "    </tr>\n",
       "    <tr>\n",
       "      <th>2</th>\n",
       "      <td>1</td>\n",
       "      <td>2024-05-31 00:00:00</td>\n",
       "      <td>17.414870</td>\n",
       "      <td>738.704458</td>\n",
       "      <td>970.59</td>\n",
       "    </tr>\n",
       "    <tr>\n",
       "      <th>3</th>\n",
       "      <td>1</td>\n",
       "      <td>2024-06-05 00:00:00</td>\n",
       "      <td>63.240335</td>\n",
       "      <td>2836.576690</td>\n",
       "      <td>2483.70</td>\n",
       "    </tr>\n",
       "    <tr>\n",
       "      <th>4</th>\n",
       "      <td>1</td>\n",
       "      <td>2024-06-08 00:00:00</td>\n",
       "      <td>26.220354</td>\n",
       "      <td>1527.501554</td>\n",
       "      <td>1674.82</td>\n",
       "    </tr>\n",
       "    <tr>\n",
       "      <th>...</th>\n",
       "      <td>...</td>\n",
       "      <td>...</td>\n",
       "      <td>...</td>\n",
       "      <td>...</td>\n",
       "      <td>...</td>\n",
       "    </tr>\n",
       "    <tr>\n",
       "      <th>1100</th>\n",
       "      <td>569</td>\n",
       "      <td>2024-06-18 00:00:00</td>\n",
       "      <td>7.020859</td>\n",
       "      <td>69.808432</td>\n",
       "      <td>168.93</td>\n",
       "    </tr>\n",
       "    <tr>\n",
       "      <th>1101</th>\n",
       "      <td>573</td>\n",
       "      <td>2024-06-10 00:00:00</td>\n",
       "      <td>7.213297</td>\n",
       "      <td>0.000000</td>\n",
       "      <td>789.99</td>\n",
       "    </tr>\n",
       "    <tr>\n",
       "      <th>1102</th>\n",
       "      <td>573</td>\n",
       "      <td>2024-06-18 00:00:00</td>\n",
       "      <td>18.023652</td>\n",
       "      <td>0.000000</td>\n",
       "      <td>163.12</td>\n",
       "    </tr>\n",
       "    <tr>\n",
       "      <th>1103</th>\n",
       "      <td>574</td>\n",
       "      <td>2024-06-20 00:00:00</td>\n",
       "      <td>11.478037</td>\n",
       "      <td>0.000000</td>\n",
       "      <td>0.00</td>\n",
       "    </tr>\n",
       "    <tr>\n",
       "      <th>1104</th>\n",
       "      <td>Grand Total</td>\n",
       "      <td>0</td>\n",
       "      <td>11977.809730</td>\n",
       "      <td>696329.543056</td>\n",
       "      <td>708105.39</td>\n",
       "    </tr>\n",
       "  </tbody>\n",
       "</table>\n",
       "<p>1105 rows × 5 columns</p>\n",
       "</div>"
      ],
      "text/plain": [
       "          COD_COS                FECHA          AREA     ESTIMATIVA  ENTREGADO\n",
       "0               1  2024-05-16 00:00:00      4.127295     221.918352       0.00\n",
       "1               1  2024-05-29 00:00:00     28.557391    1599.784951    1906.18\n",
       "2               1  2024-05-31 00:00:00     17.414870     738.704458     970.59\n",
       "3               1  2024-06-05 00:00:00     63.240335    2836.576690    2483.70\n",
       "4               1  2024-06-08 00:00:00     26.220354    1527.501554    1674.82\n",
       "...           ...                  ...           ...            ...        ...\n",
       "1100          569  2024-06-18 00:00:00      7.020859      69.808432     168.93\n",
       "1101          573  2024-06-10 00:00:00      7.213297       0.000000     789.99\n",
       "1102          573  2024-06-18 00:00:00     18.023652       0.000000     163.12\n",
       "1103          574  2024-06-20 00:00:00     11.478037       0.000000       0.00\n",
       "1104  Grand Total                    0  11977.809730  696329.543056  708105.39\n",
       "\n",
       "[1105 rows x 5 columns]"
      ]
     },
     "execution_count": 19,
     "metadata": {},
     "output_type": "execute_result"
    }
   ],
   "source": [
    "df_combinado"
   ]
  },
  {
   "cell_type": "code",
   "execution_count": 20,
   "id": "3aa3b20f-890c-4aa5-98ed-a90e0eb59501",
   "metadata": {},
   "outputs": [],
   "source": [
    "df_combinado.to_excel('data_result.xlsx', index=False, engine='openpyxl')"
   ]
  },
  {
   "cell_type": "code",
   "execution_count": null,
   "id": "d15d0c1c-bdf7-4b2a-9840-8b460863f1d6",
   "metadata": {},
   "outputs": [],
   "source": []
  },
  {
   "cell_type": "code",
   "execution_count": 28,
   "id": "95de55be-84e0-4e3f-8f61-e8a270ef890b",
   "metadata": {
    "tags": []
   },
   "outputs": [],
   "source": [
    "suma_acumulador = [None] * len(grupo)\n",
    "acumulador = 0\n",
    "contador = 0\n",
    "for i, r in grupo.iterrows():\n",
    "    if(r['AREA'] == 0):\n",
    "        acumulador += r['ENTREGAS']\n",
    "        contador += 1\n",
    "    else:\n",
    "        acumulador += r['ENTREGAS']\n",
    "        suma_acumulador[contador] = acumulador\n",
    "        acumulador = 0\n",
    "        contador += 1\n",
    "        continue"
   ]
  },
  {
   "cell_type": "code",
   "execution_count": 29,
   "id": "c0f53fb3-ee0f-4846-b3cc-1f1f1248a15d",
   "metadata": {
    "tags": []
   },
   "outputs": [
    {
     "data": {
      "text/plain": [
       "1"
      ]
     },
     "execution_count": 29,
     "metadata": {},
     "output_type": "execute_result"
    }
   ],
   "source": [
    "len(suma_acumulador)"
   ]
  },
  {
   "cell_type": "code",
   "execution_count": 30,
   "id": "d608e4ac-9075-49d3-8507-7cd77b96b976",
   "metadata": {
    "tags": []
   },
   "outputs": [
    {
     "data": {
      "text/plain": [
       "1"
      ]
     },
     "execution_count": 30,
     "metadata": {},
     "output_type": "execute_result"
    }
   ],
   "source": [
    "len(grupo)"
   ]
  },
  {
   "cell_type": "code",
   "execution_count": 31,
   "id": "adf62879-6c30-4ca0-8970-4f3445a5653f",
   "metadata": {
    "tags": []
   },
   "outputs": [],
   "source": [
    "grupo['SUM_ACUM'] = suma_acumulador"
   ]
  },
  {
   "cell_type": "code",
   "execution_count": 32,
   "id": "a5bbef10-c6f4-424a-a62b-a7206a799aa2",
   "metadata": {
    "tags": []
   },
   "outputs": [],
   "source": [
    "df = grupo[grupo['AREA']!=0]"
   ]
  },
  {
   "cell_type": "code",
   "execution_count": 33,
   "id": "5c059ca6-da00-4d49-b35f-bbe1840e0fa6",
   "metadata": {
    "tags": []
   },
   "outputs": [
    {
     "data": {
      "text/html": [
       "<div>\n",
       "<style scoped>\n",
       "    .dataframe tbody tr th:only-of-type {\n",
       "        vertical-align: middle;\n",
       "    }\n",
       "\n",
       "    .dataframe tbody tr th {\n",
       "        vertical-align: top;\n",
       "    }\n",
       "\n",
       "    .dataframe thead th {\n",
       "        text-align: right;\n",
       "    }\n",
       "</style>\n",
       "<table border=\"1\" class=\"dataframe\">\n",
       "  <thead>\n",
       "    <tr style=\"text-align: right;\">\n",
       "      <th></th>\n",
       "      <th>COD_COS</th>\n",
       "      <th>FECHA</th>\n",
       "      <th>AREA</th>\n",
       "      <th>ESTIMATIVA</th>\n",
       "      <th>ENTREGAS</th>\n",
       "      <th>ENTREGADO</th>\n",
       "      <th>SUM_ACUM</th>\n",
       "    </tr>\n",
       "  </thead>\n",
       "  <tbody>\n",
       "    <tr>\n",
       "      <th>114</th>\n",
       "      <td>502</td>\n",
       "      <td>2024-05-16</td>\n",
       "      <td>1.7</td>\n",
       "      <td>65.377995</td>\n",
       "      <td>92.62</td>\n",
       "      <td>92.62</td>\n",
       "      <td>92.62</td>\n",
       "    </tr>\n",
       "  </tbody>\n",
       "</table>\n",
       "</div>"
      ],
      "text/plain": [
       "     COD_COS      FECHA  AREA  ESTIMATIVA  ENTREGAS  ENTREGADO  SUM_ACUM\n",
       "114      502 2024-05-16   1.7   65.377995     92.62      92.62     92.62"
      ]
     },
     "execution_count": 33,
     "metadata": {},
     "output_type": "execute_result"
    }
   ],
   "source": [
    "df"
   ]
  },
  {
   "cell_type": "code",
   "execution_count": null,
   "id": "84e104e2-a2f6-460f-9b8a-a800ba8dde41",
   "metadata": {},
   "outputs": [],
   "source": []
  },
  {
   "cell_type": "code",
   "execution_count": null,
   "id": "5876388b-8a06-404d-b03b-4ac95f9066ba",
   "metadata": {},
   "outputs": [],
   "source": []
  }
 ],
 "metadata": {
  "kernelspec": {
   "display_name": "Python 3 (ipykernel)",
   "language": "python",
   "name": "python3"
  },
  "language_info": {
   "codemirror_mode": {
    "name": "ipython",
    "version": 3
   },
   "file_extension": ".py",
   "mimetype": "text/x-python",
   "name": "python",
   "nbconvert_exporter": "python",
   "pygments_lexer": "ipython3",
   "version": "3.10.13"
  }
 },
 "nbformat": 4,
 "nbformat_minor": 5
}
