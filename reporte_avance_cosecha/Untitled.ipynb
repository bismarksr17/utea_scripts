{
 "cells": [
  {
   "cell_type": "code",
   "execution_count": 15,
   "id": "d0d6c9ad-1a51-4049-90b8-643b85ed7671",
   "metadata": {
    "tags": []
   },
   "outputs": [],
   "source": [
    "import pandas as pd"
   ]
  },
  {
   "cell_type": "code",
   "execution_count": 16,
   "id": "ed255b9e-acaf-4f59-9ed8-040566b98782",
   "metadata": {
    "tags": []
   },
   "outputs": [],
   "source": [
    "path_xlsx_avance = r'C:/Documents/Ingenio Azucarero Guabira S.A/UTEA - SEMANAL - AVANCE COSECHA/2024/AVANCE_SEMANAL/AVANCE DE COSECHA - PRUEBA.xlsx'"
   ]
  },
  {
   "cell_type": "code",
   "execution_count": 17,
   "id": "73e582c0-62b4-4225-ba24-25530fae77e1",
   "metadata": {
    "tags": []
   },
   "outputs": [],
   "source": [
    "xlsx_resumen = pd.read_excel(path_xlsx_avance, sheet_name='AVANCE_FECHAS')"
   ]
  },
  {
   "cell_type": "code",
   "execution_count": 18,
   "id": "035f46a8-2bfa-4214-a1e5-e669c04021d3",
   "metadata": {},
   "outputs": [],
   "source": [
    "# elimina el ultimo registro, para descartar los totales\n",
    "xlsx_resumen = xlsx_resumen.drop(xlsx_resumen.index[-1])"
   ]
  },
  {
   "cell_type": "code",
   "execution_count": 19,
   "id": "362841b3-0a66-470c-a791-c45f48a6c6ec",
   "metadata": {},
   "outputs": [
    {
     "data": {
      "text/html": [
       "<div>\n",
       "<style scoped>\n",
       "    .dataframe tbody tr th:only-of-type {\n",
       "        vertical-align: middle;\n",
       "    }\n",
       "\n",
       "    .dataframe tbody tr th {\n",
       "        vertical-align: top;\n",
       "    }\n",
       "\n",
       "    .dataframe thead th {\n",
       "        text-align: right;\n",
       "    }\n",
       "</style>\n",
       "<table border=\"1\" class=\"dataframe\">\n",
       "  <thead>\n",
       "    <tr style=\"text-align: right;\">\n",
       "      <th></th>\n",
       "      <th>COD_COS</th>\n",
       "      <th>FECHA</th>\n",
       "      <th>AREA</th>\n",
       "      <th>ESTIMADO</th>\n",
       "      <th>ENTREGADO</th>\n",
       "    </tr>\n",
       "  </thead>\n",
       "  <tbody>\n",
       "    <tr>\n",
       "      <th>0</th>\n",
       "      <td>1</td>\n",
       "      <td>2024-05-16 00:00:00</td>\n",
       "      <td>4.127295</td>\n",
       "      <td>221.918352</td>\n",
       "      <td>NaN</td>\n",
       "    </tr>\n",
       "    <tr>\n",
       "      <th>1</th>\n",
       "      <td>1</td>\n",
       "      <td>2024-05-29 00:00:00</td>\n",
       "      <td>NaN</td>\n",
       "      <td>NaN</td>\n",
       "      <td>1906.18</td>\n",
       "    </tr>\n",
       "    <tr>\n",
       "      <th>2</th>\n",
       "      <td>1</td>\n",
       "      <td>2024-05-31 00:00:00</td>\n",
       "      <td>45.972261</td>\n",
       "      <td>2338.489409</td>\n",
       "      <td>970.59</td>\n",
       "    </tr>\n",
       "    <tr>\n",
       "      <th>3</th>\n",
       "      <td>1</td>\n",
       "      <td>2024-06-05 00:00:00</td>\n",
       "      <td>63.240335</td>\n",
       "      <td>2836.576690</td>\n",
       "      <td>2483.70</td>\n",
       "    </tr>\n",
       "    <tr>\n",
       "      <th>4</th>\n",
       "      <td>1</td>\n",
       "      <td>2024-06-10 00:00:00</td>\n",
       "      <td>48.153913</td>\n",
       "      <td>2486.759690</td>\n",
       "      <td>2421.99</td>\n",
       "    </tr>\n",
       "    <tr>\n",
       "      <th>...</th>\n",
       "      <td>...</td>\n",
       "      <td>...</td>\n",
       "      <td>...</td>\n",
       "      <td>...</td>\n",
       "      <td>...</td>\n",
       "    </tr>\n",
       "    <tr>\n",
       "      <th>2480</th>\n",
       "      <td>576</td>\n",
       "      <td>2024-07-17 00:00:00</td>\n",
       "      <td>7.923825</td>\n",
       "      <td>428.124620</td>\n",
       "      <td>433.41</td>\n",
       "    </tr>\n",
       "    <tr>\n",
       "      <th>2481</th>\n",
       "      <td>577</td>\n",
       "      <td>2024-06-28 00:00:00</td>\n",
       "      <td>NaN</td>\n",
       "      <td>NaN</td>\n",
       "      <td>89.57</td>\n",
       "    </tr>\n",
       "    <tr>\n",
       "      <th>2482</th>\n",
       "      <td>578</td>\n",
       "      <td>2024-06-28 00:00:00</td>\n",
       "      <td>NaN</td>\n",
       "      <td>NaN</td>\n",
       "      <td>203.34</td>\n",
       "    </tr>\n",
       "    <tr>\n",
       "      <th>2483</th>\n",
       "      <td>578</td>\n",
       "      <td>2024-07-17 00:00:00</td>\n",
       "      <td>NaN</td>\n",
       "      <td>NaN</td>\n",
       "      <td>81.86</td>\n",
       "    </tr>\n",
       "    <tr>\n",
       "      <th>2484</th>\n",
       "      <td>578</td>\n",
       "      <td>(blank)</td>\n",
       "      <td>7.535220</td>\n",
       "      <td>NaN</td>\n",
       "      <td>NaN</td>\n",
       "    </tr>\n",
       "  </tbody>\n",
       "</table>\n",
       "<p>2485 rows × 5 columns</p>\n",
       "</div>"
      ],
      "text/plain": [
       "     COD_COS                FECHA       AREA     ESTIMADO  ENTREGADO\n",
       "0          1  2024-05-16 00:00:00   4.127295   221.918352        NaN\n",
       "1          1  2024-05-29 00:00:00        NaN          NaN    1906.18\n",
       "2          1  2024-05-31 00:00:00  45.972261  2338.489409     970.59\n",
       "3          1  2024-06-05 00:00:00  63.240335  2836.576690    2483.70\n",
       "4          1  2024-06-10 00:00:00  48.153913  2486.759690    2421.99\n",
       "...      ...                  ...        ...          ...        ...\n",
       "2480     576  2024-07-17 00:00:00   7.923825   428.124620     433.41\n",
       "2481     577  2024-06-28 00:00:00        NaN          NaN      89.57\n",
       "2482     578  2024-06-28 00:00:00        NaN          NaN     203.34\n",
       "2483     578  2024-07-17 00:00:00        NaN          NaN      81.86\n",
       "2484     578              (blank)   7.535220          NaN        NaN\n",
       "\n",
       "[2485 rows x 5 columns]"
      ]
     },
     "execution_count": 19,
     "metadata": {},
     "output_type": "execute_result"
    }
   ],
   "source": [
    "xlsx_resumen"
   ]
  },
  {
   "cell_type": "code",
   "execution_count": 20,
   "id": "62f82407-f7aa-455c-85be-9bc6edc23f86",
   "metadata": {
    "tags": []
   },
   "outputs": [],
   "source": [
    "def colapsar_tabla(df_param):\n",
    "    suma_acumulador = [None] * len(df_param)\n",
    "    acumulador = 0\n",
    "    contador = 0\n",
    "    for i, r in df_param.iterrows():\n",
    "        if(r['AREA'] == 0):\n",
    "            acumulador += r['ENTREGADO']\n",
    "            contador += 1\n",
    "        else:\n",
    "            acumulador += r['ENTREGADO']\n",
    "            suma_acumulador[contador] = acumulador\n",
    "            acumulador = 0\n",
    "            contador += 1\n",
    "            continue\n",
    "    df_param['ENTREGAS'] = suma_acumulador\n",
    "    df_param = df_param.drop(columns=['ENTREGADO'])\n",
    "    df_param = df_param[df_param['AREA']!=0]\n",
    "    return df_param"
   ]
  },
  {
   "cell_type": "code",
   "execution_count": 21,
   "id": "8fce237f-7f9f-4b0f-84ca-f5c1706f9335",
   "metadata": {},
   "outputs": [],
   "source": [
    "list_cod_cos = list(set(xlsx_resumen['COD_COS']))"
   ]
  },
  {
   "cell_type": "code",
   "execution_count": 22,
   "id": "271a4d97-3b83-4764-842d-e451c4a7651a",
   "metadata": {},
   "outputs": [],
   "source": [
    "list_df = []"
   ]
  },
  {
   "cell_type": "code",
   "execution_count": 23,
   "id": "af4170c6-ff6a-4dd5-8f5c-e50a94df747c",
   "metadata": {},
   "outputs": [],
   "source": [
    "for i in list_cod_cos:\n",
    "    grupo = xlsx_resumen[xlsx_resumen['COD_COS']==i].fillna(0)\n",
    "    result = colapsar_tabla(grupo)\n",
    "    list_df.append(result)"
   ]
  },
  {
   "cell_type": "code",
   "execution_count": 24,
   "id": "56215bce-92cb-4abf-b1d1-390d97d05758",
   "metadata": {},
   "outputs": [
    {
     "name": "stderr",
     "output_type": "stream",
     "text": [
      "C:\\Users\\bismarksr\\AppData\\Local\\Temp\\ipykernel_27348\\69313519.py:1: FutureWarning: The behavior of DataFrame concatenation with empty or all-NA entries is deprecated. In a future version, this will no longer exclude empty or all-NA columns when determining the result dtypes. To retain the old behavior, exclude the relevant entries before the concat operation.\n",
      "  df_combinado = pd.concat(list_df, ignore_index=True)\n"
     ]
    }
   ],
   "source": [
    "df_combinado = pd.concat(list_df, ignore_index=True)"
   ]
  },
  {
   "cell_type": "code",
   "execution_count": 25,
   "id": "28f57e23-4a3f-4575-84e5-61f4d0c75812",
   "metadata": {},
   "outputs": [
    {
     "data": {
      "text/html": [
       "<div>\n",
       "<style scoped>\n",
       "    .dataframe tbody tr th:only-of-type {\n",
       "        vertical-align: middle;\n",
       "    }\n",
       "\n",
       "    .dataframe tbody tr th {\n",
       "        vertical-align: top;\n",
       "    }\n",
       "\n",
       "    .dataframe thead th {\n",
       "        text-align: right;\n",
       "    }\n",
       "</style>\n",
       "<table border=\"1\" class=\"dataframe\">\n",
       "  <thead>\n",
       "    <tr style=\"text-align: right;\">\n",
       "      <th></th>\n",
       "      <th>COD_COS</th>\n",
       "      <th>FECHA</th>\n",
       "      <th>AREA</th>\n",
       "      <th>ESTIMADO</th>\n",
       "      <th>ENTREGAS</th>\n",
       "    </tr>\n",
       "  </thead>\n",
       "  <tbody>\n",
       "    <tr>\n",
       "      <th>0</th>\n",
       "      <td>1</td>\n",
       "      <td>2024-05-16 00:00:00</td>\n",
       "      <td>4.127295</td>\n",
       "      <td>221.918352</td>\n",
       "      <td>0.00</td>\n",
       "    </tr>\n",
       "    <tr>\n",
       "      <th>1</th>\n",
       "      <td>1</td>\n",
       "      <td>2024-05-31 00:00:00</td>\n",
       "      <td>45.972261</td>\n",
       "      <td>2338.489409</td>\n",
       "      <td>2876.77</td>\n",
       "    </tr>\n",
       "    <tr>\n",
       "      <th>2</th>\n",
       "      <td>1</td>\n",
       "      <td>2024-06-05 00:00:00</td>\n",
       "      <td>63.240335</td>\n",
       "      <td>2836.576690</td>\n",
       "      <td>2483.70</td>\n",
       "    </tr>\n",
       "    <tr>\n",
       "      <th>3</th>\n",
       "      <td>1</td>\n",
       "      <td>2024-06-10 00:00:00</td>\n",
       "      <td>48.153913</td>\n",
       "      <td>2486.759690</td>\n",
       "      <td>2421.99</td>\n",
       "    </tr>\n",
       "    <tr>\n",
       "      <th>4</th>\n",
       "      <td>1</td>\n",
       "      <td>2024-06-18 00:00:00</td>\n",
       "      <td>20.112090</td>\n",
       "      <td>815.611812</td>\n",
       "      <td>2230.23</td>\n",
       "    </tr>\n",
       "    <tr>\n",
       "      <th>...</th>\n",
       "      <td>...</td>\n",
       "      <td>...</td>\n",
       "      <td>...</td>\n",
       "      <td>...</td>\n",
       "      <td>...</td>\n",
       "    </tr>\n",
       "    <tr>\n",
       "      <th>1480</th>\n",
       "      <td>574</td>\n",
       "      <td>2024-06-20 00:00:00</td>\n",
       "      <td>11.478037</td>\n",
       "      <td>0.000000</td>\n",
       "      <td>0.00</td>\n",
       "    </tr>\n",
       "    <tr>\n",
       "      <th>1481</th>\n",
       "      <td>574</td>\n",
       "      <td>2024-07-17 00:00:00</td>\n",
       "      <td>1.419261</td>\n",
       "      <td>0.000000</td>\n",
       "      <td>455.13</td>\n",
       "    </tr>\n",
       "    <tr>\n",
       "      <th>1482</th>\n",
       "      <td>576</td>\n",
       "      <td>2024-06-18 00:00:00</td>\n",
       "      <td>2.330276</td>\n",
       "      <td>133.227310</td>\n",
       "      <td>0.00</td>\n",
       "    </tr>\n",
       "    <tr>\n",
       "      <th>1483</th>\n",
       "      <td>576</td>\n",
       "      <td>2024-07-17 00:00:00</td>\n",
       "      <td>7.923825</td>\n",
       "      <td>428.124620</td>\n",
       "      <td>463.90</td>\n",
       "    </tr>\n",
       "    <tr>\n",
       "      <th>1484</th>\n",
       "      <td>578</td>\n",
       "      <td>(blank)</td>\n",
       "      <td>7.535220</td>\n",
       "      <td>0.000000</td>\n",
       "      <td>285.20</td>\n",
       "    </tr>\n",
       "  </tbody>\n",
       "</table>\n",
       "<p>1485 rows × 5 columns</p>\n",
       "</div>"
      ],
      "text/plain": [
       "      COD_COS                FECHA       AREA     ESTIMADO  ENTREGAS\n",
       "0           1  2024-05-16 00:00:00   4.127295   221.918352      0.00\n",
       "1           1  2024-05-31 00:00:00  45.972261  2338.489409   2876.77\n",
       "2           1  2024-06-05 00:00:00  63.240335  2836.576690   2483.70\n",
       "3           1  2024-06-10 00:00:00  48.153913  2486.759690   2421.99\n",
       "4           1  2024-06-18 00:00:00  20.112090   815.611812   2230.23\n",
       "...       ...                  ...        ...          ...       ...\n",
       "1480      574  2024-06-20 00:00:00  11.478037     0.000000      0.00\n",
       "1481      574  2024-07-17 00:00:00   1.419261     0.000000    455.13\n",
       "1482      576  2024-06-18 00:00:00   2.330276   133.227310      0.00\n",
       "1483      576  2024-07-17 00:00:00   7.923825   428.124620    463.90\n",
       "1484      578              (blank)   7.535220     0.000000    285.20\n",
       "\n",
       "[1485 rows x 5 columns]"
      ]
     },
     "execution_count": 25,
     "metadata": {},
     "output_type": "execute_result"
    }
   ],
   "source": [
    "df_combinado"
   ]
  },
  {
   "cell_type": "code",
   "execution_count": 26,
   "id": "3aa3b20f-890c-4aa5-98ed-a90e0eb59501",
   "metadata": {},
   "outputs": [],
   "source": [
    "df_combinado.to_excel('C:/Documents/Ingenio Azucarero Guabira S.A/UTEA - SEMANAL - AVANCE COSECHA/2024/AVANCE_SEMANAL/_TEMP_AVANCE_FECHAS.xlsx', index=False, engine='openpyxl', sheet_name='data')"
   ]
  }
 ],
 "metadata": {
  "kernelspec": {
   "display_name": "Python 3 (ipykernel)",
   "language": "python",
   "name": "python3"
  },
  "language_info": {
   "codemirror_mode": {
    "name": "ipython",
    "version": 3
   },
   "file_extension": ".py",
   "mimetype": "text/x-python",
   "name": "python",
   "nbconvert_exporter": "python",
   "pygments_lexer": "ipython3",
   "version": "3.10.13"
  }
 },
 "nbformat": 4,
 "nbformat_minor": 5
}
