{
 "cells": [
  {
   "cell_type": "code",
   "execution_count": 93,
   "id": "d0d6c9ad-1a51-4049-90b8-643b85ed7671",
   "metadata": {
    "tags": []
   },
   "outputs": [],
   "source": [
    "import pandas as pd"
   ]
  },
  {
   "cell_type": "code",
   "execution_count": 94,
   "id": "ed255b9e-acaf-4f59-9ed8-040566b98782",
   "metadata": {
    "tags": []
   },
   "outputs": [],
   "source": [
    "path_xlsx_avance = r'C:/Documents/Ingenio Azucarero Guabira S.A/UTEA - SEMANAL - AVANCE COSECHA/2023/ANALISIS DE CAÑA EN CAMPO 2023/TEST_AVANCE DE COSECHA V5.xlsx'"
   ]
  },
  {
   "cell_type": "code",
   "execution_count": 95,
   "id": "73e582c0-62b4-4225-ba24-25530fae77e1",
   "metadata": {
    "tags": []
   },
   "outputs": [],
   "source": [
    "xlsx_resumen = pd.read_excel(path_xlsx_avance, sheet_name='RESUMEN')"
   ]
  },
  {
   "cell_type": "code",
   "execution_count": 106,
   "id": "7c3e1329-b898-4207-991d-cca0cd985325",
   "metadata": {
    "tags": []
   },
   "outputs": [],
   "source": [
    "grupo = xlsx_resumen[xlsx_resumen['COD_COS']==220].fillna(0)"
   ]
  },
  {
   "cell_type": "code",
   "execution_count": 108,
   "id": "62f82407-f7aa-455c-85be-9bc6edc23f86",
   "metadata": {
    "tags": []
   },
   "outputs": [],
   "source": [
    "suma_acumulador = [None] * len(grupo)"
   ]
  },
  {
   "cell_type": "code",
   "execution_count": 109,
   "id": "95de55be-84e0-4e3f-8f61-e8a270ef890b",
   "metadata": {
    "tags": []
   },
   "outputs": [],
   "source": [
    "acumulador = 0\n",
    "contador = 0\n",
    "for i, r in grupo.iterrows():\n",
    "    if(r['AREA'] == 0):\n",
    "        acumulador += r['ENTREGAS']\n",
    "        contador += 1\n",
    "    else:\n",
    "        acumulador += r['ENTREGAS']\n",
    "        suma_acumulador[contador] = acumulador\n",
    "        acumulador = 0\n",
    "        contador += 1\n",
    "        continue"
   ]
  },
  {
   "cell_type": "code",
   "execution_count": 110,
   "id": "c0f53fb3-ee0f-4846-b3cc-1f1f1248a15d",
   "metadata": {
    "tags": []
   },
   "outputs": [
    {
     "data": {
      "text/plain": [
       "46"
      ]
     },
     "execution_count": 110,
     "metadata": {},
     "output_type": "execute_result"
    }
   ],
   "source": [
    "len(suma_acumulador)"
   ]
  },
  {
   "cell_type": "code",
   "execution_count": 111,
   "id": "d608e4ac-9075-49d3-8507-7cd77b96b976",
   "metadata": {
    "tags": []
   },
   "outputs": [
    {
     "data": {
      "text/plain": [
       "46"
      ]
     },
     "execution_count": 111,
     "metadata": {},
     "output_type": "execute_result"
    }
   ],
   "source": [
    "len(grupo)"
   ]
  },
  {
   "cell_type": "code",
   "execution_count": 112,
   "id": "adf62879-6c30-4ca0-8970-4f3445a5653f",
   "metadata": {
    "tags": []
   },
   "outputs": [],
   "source": [
    "grupo['SUM_ACUM'] = suma_acumulador"
   ]
  },
  {
   "cell_type": "code",
   "execution_count": 113,
   "id": "a5bbef10-c6f4-424a-a62b-a7206a799aa2",
   "metadata": {
    "tags": []
   },
   "outputs": [],
   "source": [
    "df = grupo[grupo['AREA']!=0]"
   ]
  },
  {
   "cell_type": "code",
   "execution_count": 114,
   "id": "5c059ca6-da00-4d49-b35f-bbe1840e0fa6",
   "metadata": {
    "tags": []
   },
   "outputs": [
    {
     "data": {
      "text/html": [
       "<div>\n",
       "<style scoped>\n",
       "    .dataframe tbody tr th:only-of-type {\n",
       "        vertical-align: middle;\n",
       "    }\n",
       "\n",
       "    .dataframe tbody tr th {\n",
       "        vertical-align: top;\n",
       "    }\n",
       "\n",
       "    .dataframe thead th {\n",
       "        text-align: right;\n",
       "    }\n",
       "</style>\n",
       "<table border=\"1\" class=\"dataframe\">\n",
       "  <thead>\n",
       "    <tr style=\"text-align: right;\">\n",
       "      <th></th>\n",
       "      <th>COD_COS</th>\n",
       "      <th>FECHA</th>\n",
       "      <th>AREA</th>\n",
       "      <th>ESTIMATIVA COSECHADO</th>\n",
       "      <th>ENTREGAS</th>\n",
       "      <th>SUM_ACUM</th>\n",
       "    </tr>\n",
       "  </thead>\n",
       "  <tbody>\n",
       "    <tr>\n",
       "      <th>6343</th>\n",
       "      <td>220</td>\n",
       "      <td>2023-05-22</td>\n",
       "      <td>8.91</td>\n",
       "      <td>561.876477</td>\n",
       "      <td>0.00</td>\n",
       "      <td>734.00</td>\n",
       "    </tr>\n",
       "    <tr>\n",
       "      <th>6344</th>\n",
       "      <td>220</td>\n",
       "      <td>2023-05-25</td>\n",
       "      <td>2.04</td>\n",
       "      <td>109.612076</td>\n",
       "      <td>68.26</td>\n",
       "      <td>68.26</td>\n",
       "    </tr>\n",
       "    <tr>\n",
       "      <th>6346</th>\n",
       "      <td>220</td>\n",
       "      <td>2023-06-19</td>\n",
       "      <td>13.83</td>\n",
       "      <td>748.190068</td>\n",
       "      <td>278.14</td>\n",
       "      <td>797.32</td>\n",
       "    </tr>\n",
       "    <tr>\n",
       "      <th>6347</th>\n",
       "      <td>220</td>\n",
       "      <td>2023-06-21</td>\n",
       "      <td>2.13</td>\n",
       "      <td>126.400913</td>\n",
       "      <td>0.00</td>\n",
       "      <td>0.00</td>\n",
       "    </tr>\n",
       "    <tr>\n",
       "      <th>6352</th>\n",
       "      <td>220</td>\n",
       "      <td>2023-07-11</td>\n",
       "      <td>24.72</td>\n",
       "      <td>1475.906456</td>\n",
       "      <td>25.58</td>\n",
       "      <td>1337.37</td>\n",
       "    </tr>\n",
       "    <tr>\n",
       "      <th>6355</th>\n",
       "      <td>220</td>\n",
       "      <td>2023-07-21</td>\n",
       "      <td>47.90</td>\n",
       "      <td>2681.106987</td>\n",
       "      <td>1128.05</td>\n",
       "      <td>2400.16</td>\n",
       "    </tr>\n",
       "    <tr>\n",
       "      <th>6357</th>\n",
       "      <td>220</td>\n",
       "      <td>2023-07-24</td>\n",
       "      <td>6.33</td>\n",
       "      <td>401.420237</td>\n",
       "      <td>224.24</td>\n",
       "      <td>531.50</td>\n",
       "    </tr>\n",
       "    <tr>\n",
       "      <th>6360</th>\n",
       "      <td>220</td>\n",
       "      <td>2023-07-31</td>\n",
       "      <td>26.87</td>\n",
       "      <td>1555.550967</td>\n",
       "      <td>320.20</td>\n",
       "      <td>1280.30</td>\n",
       "    </tr>\n",
       "    <tr>\n",
       "      <th>6362</th>\n",
       "      <td>220</td>\n",
       "      <td>2023-08-05</td>\n",
       "      <td>8.68</td>\n",
       "      <td>595.184724</td>\n",
       "      <td>653.54</td>\n",
       "      <td>1499.21</td>\n",
       "    </tr>\n",
       "    <tr>\n",
       "      <th>6363</th>\n",
       "      <td>220</td>\n",
       "      <td>2023-08-09</td>\n",
       "      <td>3.87</td>\n",
       "      <td>228.891744</td>\n",
       "      <td>1140.93</td>\n",
       "      <td>1140.93</td>\n",
       "    </tr>\n",
       "    <tr>\n",
       "      <th>6364</th>\n",
       "      <td>220</td>\n",
       "      <td>2023-08-15</td>\n",
       "      <td>18.67</td>\n",
       "      <td>1073.707950</td>\n",
       "      <td>853.65</td>\n",
       "      <td>853.65</td>\n",
       "    </tr>\n",
       "    <tr>\n",
       "      <th>6365</th>\n",
       "      <td>220</td>\n",
       "      <td>2023-08-18</td>\n",
       "      <td>11.04</td>\n",
       "      <td>480.983770</td>\n",
       "      <td>758.84</td>\n",
       "      <td>758.84</td>\n",
       "    </tr>\n",
       "    <tr>\n",
       "      <th>6366</th>\n",
       "      <td>220</td>\n",
       "      <td>2023-08-20</td>\n",
       "      <td>2.10</td>\n",
       "      <td>114.543994</td>\n",
       "      <td>440.31</td>\n",
       "      <td>440.31</td>\n",
       "    </tr>\n",
       "    <tr>\n",
       "      <th>6367</th>\n",
       "      <td>220</td>\n",
       "      <td>2023-08-23</td>\n",
       "      <td>15.35</td>\n",
       "      <td>983.725517</td>\n",
       "      <td>368.80</td>\n",
       "      <td>368.80</td>\n",
       "    </tr>\n",
       "    <tr>\n",
       "      <th>6370</th>\n",
       "      <td>220</td>\n",
       "      <td>2023-08-30</td>\n",
       "      <td>15.94</td>\n",
       "      <td>847.311381</td>\n",
       "      <td>343.25</td>\n",
       "      <td>1459.92</td>\n",
       "    </tr>\n",
       "    <tr>\n",
       "      <th>6372</th>\n",
       "      <td>220</td>\n",
       "      <td>2023-09-04</td>\n",
       "      <td>10.95</td>\n",
       "      <td>637.140689</td>\n",
       "      <td>523.73</td>\n",
       "      <td>1304.51</td>\n",
       "    </tr>\n",
       "    <tr>\n",
       "      <th>6377</th>\n",
       "      <td>220</td>\n",
       "      <td>2023-09-17</td>\n",
       "      <td>56.40</td>\n",
       "      <td>3110.718364</td>\n",
       "      <td>900.62</td>\n",
       "      <td>2830.06</td>\n",
       "    </tr>\n",
       "    <tr>\n",
       "      <th>6379</th>\n",
       "      <td>220</td>\n",
       "      <td>2023-09-24</td>\n",
       "      <td>37.46</td>\n",
       "      <td>1651.618022</td>\n",
       "      <td>293.17</td>\n",
       "      <td>2032.40</td>\n",
       "    </tr>\n",
       "    <tr>\n",
       "      <th>6380</th>\n",
       "      <td>220</td>\n",
       "      <td>2023-09-29</td>\n",
       "      <td>41.58</td>\n",
       "      <td>2383.109679</td>\n",
       "      <td>621.69</td>\n",
       "      <td>621.69</td>\n",
       "    </tr>\n",
       "    <tr>\n",
       "      <th>6382</th>\n",
       "      <td>220</td>\n",
       "      <td>2023-10-03</td>\n",
       "      <td>9.94</td>\n",
       "      <td>617.650118</td>\n",
       "      <td>48.90</td>\n",
       "      <td>613.54</td>\n",
       "    </tr>\n",
       "    <tr>\n",
       "      <th>6383</th>\n",
       "      <td>220</td>\n",
       "      <td>2023-10-09</td>\n",
       "      <td>26.97</td>\n",
       "      <td>1434.053595</td>\n",
       "      <td>1089.80</td>\n",
       "      <td>1089.80</td>\n",
       "    </tr>\n",
       "    <tr>\n",
       "      <th>6385</th>\n",
       "      <td>220</td>\n",
       "      <td>2023-10-14</td>\n",
       "      <td>25.87</td>\n",
       "      <td>1079.388878</td>\n",
       "      <td>147.82</td>\n",
       "      <td>562.09</td>\n",
       "    </tr>\n",
       "  </tbody>\n",
       "</table>\n",
       "</div>"
      ],
      "text/plain": [
       "      COD_COS      FECHA   AREA  ESTIMATIVA COSECHADO  ENTREGAS  SUM_ACUM\n",
       "6343      220 2023-05-22   8.91            561.876477      0.00    734.00\n",
       "6344      220 2023-05-25   2.04            109.612076     68.26     68.26\n",
       "6346      220 2023-06-19  13.83            748.190068    278.14    797.32\n",
       "6347      220 2023-06-21   2.13            126.400913      0.00      0.00\n",
       "6352      220 2023-07-11  24.72           1475.906456     25.58   1337.37\n",
       "6355      220 2023-07-21  47.90           2681.106987   1128.05   2400.16\n",
       "6357      220 2023-07-24   6.33            401.420237    224.24    531.50\n",
       "6360      220 2023-07-31  26.87           1555.550967    320.20   1280.30\n",
       "6362      220 2023-08-05   8.68            595.184724    653.54   1499.21\n",
       "6363      220 2023-08-09   3.87            228.891744   1140.93   1140.93\n",
       "6364      220 2023-08-15  18.67           1073.707950    853.65    853.65\n",
       "6365      220 2023-08-18  11.04            480.983770    758.84    758.84\n",
       "6366      220 2023-08-20   2.10            114.543994    440.31    440.31\n",
       "6367      220 2023-08-23  15.35            983.725517    368.80    368.80\n",
       "6370      220 2023-08-30  15.94            847.311381    343.25   1459.92\n",
       "6372      220 2023-09-04  10.95            637.140689    523.73   1304.51\n",
       "6377      220 2023-09-17  56.40           3110.718364    900.62   2830.06\n",
       "6379      220 2023-09-24  37.46           1651.618022    293.17   2032.40\n",
       "6380      220 2023-09-29  41.58           2383.109679    621.69    621.69\n",
       "6382      220 2023-10-03   9.94            617.650118     48.90    613.54\n",
       "6383      220 2023-10-09  26.97           1434.053595   1089.80   1089.80\n",
       "6385      220 2023-10-14  25.87           1079.388878    147.82    562.09"
      ]
     },
     "execution_count": 114,
     "metadata": {},
     "output_type": "execute_result"
    }
   ],
   "source": [
    "df"
   ]
  },
  {
   "cell_type": "code",
   "execution_count": null,
   "id": "84e104e2-a2f6-460f-9b8a-a800ba8dde41",
   "metadata": {},
   "outputs": [],
   "source": []
  },
  {
   "cell_type": "code",
   "execution_count": null,
   "id": "5876388b-8a06-404d-b03b-4ac95f9066ba",
   "metadata": {},
   "outputs": [],
   "source": []
  }
 ],
 "metadata": {
  "kernelspec": {
   "display_name": "Python 3 (ipykernel)",
   "language": "python",
   "name": "python3"
  },
  "language_info": {
   "codemirror_mode": {
    "name": "ipython",
    "version": 3
   },
   "file_extension": ".py",
   "mimetype": "text/x-python",
   "name": "python",
   "nbconvert_exporter": "python",
   "pygments_lexer": "ipython3",
   "version": "3.10.13"
  }
 },
 "nbformat": 4,
 "nbformat_minor": 5
}
