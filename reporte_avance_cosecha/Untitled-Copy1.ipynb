{
 "cells": [
  {
   "cell_type": "code",
   "execution_count": 2,
   "id": "d0d6c9ad-1a51-4049-90b8-643b85ed7671",
   "metadata": {
    "tags": []
   },
   "outputs": [],
   "source": [
    "import pandas as pd"
   ]
  },
  {
   "cell_type": "code",
   "execution_count": 5,
   "id": "ed255b9e-acaf-4f59-9ed8-040566b98782",
   "metadata": {
    "tags": []
   },
   "outputs": [],
   "source": [
    "path_xlsx_avance = r'C:/Documents/Ingenio Azucarero Guabira S.A/UTEA - SEMANAL - AVANCE COSECHA/2024/AVANCE_SEMANAL/AVANCE DE COSECHA - PRUEBA - Copy.xlsx'"
   ]
  },
  {
   "cell_type": "code",
   "execution_count": 6,
   "id": "73e582c0-62b4-4225-ba24-25530fae77e1",
   "metadata": {
    "tags": []
   },
   "outputs": [],
   "source": [
    "xlsx_resumen = pd.read_excel(path_xlsx_avance, sheet_name='AVANCE_FECHAS')"
   ]
  },
  {
   "cell_type": "code",
   "execution_count": 7,
   "id": "035f46a8-2bfa-4214-a1e5-e669c04021d3",
   "metadata": {},
   "outputs": [],
   "source": [
    "# elimina el ultimo registro, para descartar los totales\n",
    "xlsx_resumen = xlsx_resumen.drop(xlsx_resumen.index[-1])"
   ]
  },
  {
   "cell_type": "code",
   "execution_count": 8,
   "id": "362841b3-0a66-470c-a791-c45f48a6c6ec",
   "metadata": {},
   "outputs": [
    {
     "data": {
      "text/html": [
       "<div>\n",
       "<style scoped>\n",
       "    .dataframe tbody tr th:only-of-type {\n",
       "        vertical-align: middle;\n",
       "    }\n",
       "\n",
       "    .dataframe tbody tr th {\n",
       "        vertical-align: top;\n",
       "    }\n",
       "\n",
       "    .dataframe thead th {\n",
       "        text-align: right;\n",
       "    }\n",
       "</style>\n",
       "<table border=\"1\" class=\"dataframe\">\n",
       "  <thead>\n",
       "    <tr style=\"text-align: right;\">\n",
       "      <th></th>\n",
       "      <th>COD_COS</th>\n",
       "      <th>FECHA</th>\n",
       "      <th>AREA</th>\n",
       "      <th>ESTIMADO</th>\n",
       "      <th>ENTREGADO</th>\n",
       "    </tr>\n",
       "  </thead>\n",
       "  <tbody>\n",
       "    <tr>\n",
       "      <th>0</th>\n",
       "      <td>1</td>\n",
       "      <td>2024-05-16</td>\n",
       "      <td>4.127295</td>\n",
       "      <td>221.918352</td>\n",
       "      <td>NaN</td>\n",
       "    </tr>\n",
       "    <tr>\n",
       "      <th>1</th>\n",
       "      <td>1</td>\n",
       "      <td>2024-05-29</td>\n",
       "      <td>NaN</td>\n",
       "      <td>NaN</td>\n",
       "      <td>1906.18</td>\n",
       "    </tr>\n",
       "    <tr>\n",
       "      <th>2</th>\n",
       "      <td>1</td>\n",
       "      <td>2024-05-31</td>\n",
       "      <td>45.972261</td>\n",
       "      <td>2338.489409</td>\n",
       "      <td>970.59</td>\n",
       "    </tr>\n",
       "    <tr>\n",
       "      <th>3</th>\n",
       "      <td>1</td>\n",
       "      <td>2024-06-05</td>\n",
       "      <td>63.240335</td>\n",
       "      <td>2836.57669</td>\n",
       "      <td>2483.7</td>\n",
       "    </tr>\n",
       "    <tr>\n",
       "      <th>4</th>\n",
       "      <td>1</td>\n",
       "      <td>2024-06-10</td>\n",
       "      <td>48.153913</td>\n",
       "      <td>2486.75969</td>\n",
       "      <td>2421.99</td>\n",
       "    </tr>\n",
       "    <tr>\n",
       "      <th>...</th>\n",
       "      <td>...</td>\n",
       "      <td>...</td>\n",
       "      <td>...</td>\n",
       "      <td>...</td>\n",
       "      <td>...</td>\n",
       "    </tr>\n",
       "    <tr>\n",
       "      <th>3252</th>\n",
       "      <td>NaN</td>\n",
       "      <td>NaT</td>\n",
       "      <td>NaN</td>\n",
       "      <td>NaN</td>\n",
       "      <td>NaN</td>\n",
       "    </tr>\n",
       "    <tr>\n",
       "      <th>3253</th>\n",
       "      <td>NaN</td>\n",
       "      <td>NaT</td>\n",
       "      <td>NaN</td>\n",
       "      <td>NaN</td>\n",
       "      <td>NaN</td>\n",
       "    </tr>\n",
       "    <tr>\n",
       "      <th>3254</th>\n",
       "      <td>NaN</td>\n",
       "      <td>NaT</td>\n",
       "      <td>NaN</td>\n",
       "      <td>NaN</td>\n",
       "      <td>NaN</td>\n",
       "    </tr>\n",
       "    <tr>\n",
       "      <th>3255</th>\n",
       "      <td>NaN</td>\n",
       "      <td>NaT</td>\n",
       "      <td>NaN</td>\n",
       "      <td>NaN</td>\n",
       "      <td>NaN</td>\n",
       "    </tr>\n",
       "    <tr>\n",
       "      <th>3256</th>\n",
       "      <td>NaN</td>\n",
       "      <td>NaT</td>\n",
       "      <td>NaN</td>\n",
       "      <td>NaN</td>\n",
       "      <td>NaN</td>\n",
       "    </tr>\n",
       "  </tbody>\n",
       "</table>\n",
       "<p>3257 rows × 5 columns</p>\n",
       "</div>"
      ],
      "text/plain": [
       "     COD_COS      FECHA       AREA     ESTIMADO ENTREGADO\n",
       "0          1 2024-05-16   4.127295   221.918352       NaN\n",
       "1          1 2024-05-29        NaN          NaN   1906.18\n",
       "2          1 2024-05-31  45.972261  2338.489409    970.59\n",
       "3          1 2024-06-05  63.240335   2836.57669    2483.7\n",
       "4          1 2024-06-10  48.153913   2486.75969   2421.99\n",
       "...      ...        ...        ...          ...       ...\n",
       "3252     NaN        NaT        NaN          NaN       NaN\n",
       "3253     NaN        NaT        NaN          NaN       NaN\n",
       "3254     NaN        NaT        NaN          NaN       NaN\n",
       "3255     NaN        NaT        NaN          NaN       NaN\n",
       "3256     NaN        NaT        NaN          NaN       NaN\n",
       "\n",
       "[3257 rows x 5 columns]"
      ]
     },
     "execution_count": 8,
     "metadata": {},
     "output_type": "execute_result"
    }
   ],
   "source": [
    "xlsx_resumen"
   ]
  },
  {
   "cell_type": "code",
   "execution_count": 47,
   "id": "62f82407-f7aa-455c-85be-9bc6edc23f86",
   "metadata": {
    "tags": []
   },
   "outputs": [],
   "source": [
    "def colapsar_tabla(df_param):\n",
    "    suma_acumulador = [None] * len(df_param)\n",
    "    acumulador = 0\n",
    "    contador = 0\n",
    "    for i, r in df_param.iterrows():\n",
    "        if(r['AREA'] == 0):\n",
    "            acumulador += r['ENTREGADO']\n",
    "            contador += 1\n",
    "        else:\n",
    "            acumulador += r['ENTREGADO']\n",
    "            suma_acumulador[contador] = acumulador\n",
    "            acumulador = 0\n",
    "            contador += 1\n",
    "            continue\n",
    "    if suma_acumulador[-1] == None:\n",
    "        suma_acumulador[-1] = acumulador\n",
    "        \n",
    "    print(df_param)\n",
    "    print(suma_acumulador)\n",
    "    df_param['ENTREGAS'] = suma_acumulador\n",
    "    df_param = df_param.drop(columns=['ENTREGADO'])\n",
    "    \n",
    "    df_param = df_param[df_param['AREA']!=0]\n",
    "    return df_param"
   ]
  },
  {
   "cell_type": "code",
   "execution_count": 48,
   "id": "0679b160-811a-498a-a030-281afdecf5ac",
   "metadata": {},
   "outputs": [],
   "source": [
    "suma_acumulador = [None] * len(grupo)"
   ]
  },
  {
   "cell_type": "code",
   "execution_count": 34,
   "id": "52bcffcf-0d14-4d9b-ac41-68233ca9f5e0",
   "metadata": {},
   "outputs": [
    {
     "data": {
      "text/plain": [
       "NoneType"
      ]
     },
     "execution_count": 34,
     "metadata": {},
     "output_type": "execute_result"
    }
   ],
   "source": [
    "type(suma_acumulador[0])"
   ]
  },
  {
   "cell_type": "code",
   "execution_count": 49,
   "id": "8fce237f-7f9f-4b0f-84ca-f5c1706f9335",
   "metadata": {},
   "outputs": [],
   "source": [
    "list_cod_cos = list(set(xlsx_resumen['COD_COS']))"
   ]
  },
  {
   "cell_type": "code",
   "execution_count": 50,
   "id": "271a4d97-3b83-4764-842d-e451c4a7651a",
   "metadata": {},
   "outputs": [],
   "source": [
    "list_df = []"
   ]
  },
  {
   "cell_type": "code",
   "execution_count": 51,
   "id": "051072de-c1bf-48df-b231-8d4e43479b95",
   "metadata": {},
   "outputs": [],
   "source": [
    "grupo = xlsx_resumen[xlsx_resumen['COD_COS']==17].fillna(0)"
   ]
  },
  {
   "cell_type": "code",
   "execution_count": 52,
   "id": "506e8b4c-0e91-42b6-a3d5-9a4e88737cf2",
   "metadata": {},
   "outputs": [
    {
     "data": {
      "text/html": [
       "<div>\n",
       "<style scoped>\n",
       "    .dataframe tbody tr th:only-of-type {\n",
       "        vertical-align: middle;\n",
       "    }\n",
       "\n",
       "    .dataframe tbody tr th {\n",
       "        vertical-align: top;\n",
       "    }\n",
       "\n",
       "    .dataframe thead th {\n",
       "        text-align: right;\n",
       "    }\n",
       "</style>\n",
       "<table border=\"1\" class=\"dataframe\">\n",
       "  <thead>\n",
       "    <tr style=\"text-align: right;\">\n",
       "      <th></th>\n",
       "      <th>COD_COS</th>\n",
       "      <th>FECHA</th>\n",
       "      <th>AREA</th>\n",
       "      <th>ESTIMADO</th>\n",
       "      <th>ENTREGADO</th>\n",
       "    </tr>\n",
       "  </thead>\n",
       "  <tbody>\n",
       "    <tr>\n",
       "      <th>112</th>\n",
       "      <td>17</td>\n",
       "      <td>2024-06-18</td>\n",
       "      <td>22.298621</td>\n",
       "      <td>1288.302440</td>\n",
       "      <td>2358.23</td>\n",
       "    </tr>\n",
       "    <tr>\n",
       "      <th>113</th>\n",
       "      <td>17</td>\n",
       "      <td>2024-06-20</td>\n",
       "      <td>12.108021</td>\n",
       "      <td>908.951624</td>\n",
       "      <td>762.37</td>\n",
       "    </tr>\n",
       "    <tr>\n",
       "      <th>114</th>\n",
       "      <td>17</td>\n",
       "      <td>2024-07-17</td>\n",
       "      <td>21.077437</td>\n",
       "      <td>1619.120484</td>\n",
       "      <td>2054.73</td>\n",
       "    </tr>\n",
       "    <tr>\n",
       "      <th>115</th>\n",
       "      <td>17</td>\n",
       "      <td>2024-07-25</td>\n",
       "      <td>0.000000</td>\n",
       "      <td>0.000000</td>\n",
       "      <td>81.57</td>\n",
       "    </tr>\n",
       "    <tr>\n",
       "      <th>116</th>\n",
       "      <td>17</td>\n",
       "      <td>2024-08-10</td>\n",
       "      <td>0.000000</td>\n",
       "      <td>0.000000</td>\n",
       "      <td>1252.70</td>\n",
       "    </tr>\n",
       "  </tbody>\n",
       "</table>\n",
       "</div>"
      ],
      "text/plain": [
       "     COD_COS      FECHA       AREA     ESTIMADO  ENTREGADO\n",
       "112       17 2024-06-18  22.298621  1288.302440    2358.23\n",
       "113       17 2024-06-20  12.108021   908.951624     762.37\n",
       "114       17 2024-07-17  21.077437  1619.120484    2054.73\n",
       "115       17 2024-07-25   0.000000     0.000000      81.57\n",
       "116       17 2024-08-10   0.000000     0.000000    1252.70"
      ]
     },
     "execution_count": 52,
     "metadata": {},
     "output_type": "execute_result"
    }
   ],
   "source": [
    "grupo"
   ]
  },
  {
   "cell_type": "code",
   "execution_count": 53,
   "id": "b57e7cc4-1d87-4167-bb0b-d5d8d24c9e58",
   "metadata": {},
   "outputs": [
    {
     "name": "stdout",
     "output_type": "stream",
     "text": [
      "     COD_COS      FECHA       AREA     ESTIMADO  ENTREGADO\n",
      "112       17 2024-06-18  22.298621  1288.302440    2358.23\n",
      "113       17 2024-06-20  12.108021   908.951624     762.37\n",
      "114       17 2024-07-17  21.077437  1619.120484    2054.73\n",
      "115       17 2024-07-25   0.000000     0.000000      81.57\n",
      "116       17 2024-08-10   0.000000     0.000000    1252.70\n",
      "[2358.23, 762.37, 2054.73, None, 1334.27]\n"
     ]
    }
   ],
   "source": [
    "result = colapsar_tabla(grupo)"
   ]
  },
  {
   "cell_type": "code",
   "execution_count": 54,
   "id": "875aa72d-e815-4ff3-8d63-69d032664638",
   "metadata": {},
   "outputs": [
    {
     "data": {
      "text/html": [
       "<div>\n",
       "<style scoped>\n",
       "    .dataframe tbody tr th:only-of-type {\n",
       "        vertical-align: middle;\n",
       "    }\n",
       "\n",
       "    .dataframe tbody tr th {\n",
       "        vertical-align: top;\n",
       "    }\n",
       "\n",
       "    .dataframe thead th {\n",
       "        text-align: right;\n",
       "    }\n",
       "</style>\n",
       "<table border=\"1\" class=\"dataframe\">\n",
       "  <thead>\n",
       "    <tr style=\"text-align: right;\">\n",
       "      <th></th>\n",
       "      <th>COD_COS</th>\n",
       "      <th>FECHA</th>\n",
       "      <th>AREA</th>\n",
       "      <th>ESTIMADO</th>\n",
       "      <th>ENTREGAS</th>\n",
       "    </tr>\n",
       "  </thead>\n",
       "  <tbody>\n",
       "    <tr>\n",
       "      <th>112</th>\n",
       "      <td>17</td>\n",
       "      <td>2024-06-18</td>\n",
       "      <td>22.298621</td>\n",
       "      <td>1288.302440</td>\n",
       "      <td>2358.23</td>\n",
       "    </tr>\n",
       "    <tr>\n",
       "      <th>113</th>\n",
       "      <td>17</td>\n",
       "      <td>2024-06-20</td>\n",
       "      <td>12.108021</td>\n",
       "      <td>908.951624</td>\n",
       "      <td>762.37</td>\n",
       "    </tr>\n",
       "    <tr>\n",
       "      <th>114</th>\n",
       "      <td>17</td>\n",
       "      <td>2024-07-17</td>\n",
       "      <td>21.077437</td>\n",
       "      <td>1619.120484</td>\n",
       "      <td>2054.73</td>\n",
       "    </tr>\n",
       "  </tbody>\n",
       "</table>\n",
       "</div>"
      ],
      "text/plain": [
       "     COD_COS      FECHA       AREA     ESTIMADO  ENTREGAS\n",
       "112       17 2024-06-18  22.298621  1288.302440   2358.23\n",
       "113       17 2024-06-20  12.108021   908.951624    762.37\n",
       "114       17 2024-07-17  21.077437  1619.120484   2054.73"
      ]
     },
     "execution_count": 54,
     "metadata": {},
     "output_type": "execute_result"
    }
   ],
   "source": [
    "result"
   ]
  },
  {
   "cell_type": "code",
   "execution_count": 9,
   "id": "af4170c6-ff6a-4dd5-8f5c-e50a94df747c",
   "metadata": {},
   "outputs": [],
   "source": [
    "for i in list_cod_cos:\n",
    "    grupo = xlsx_resumen[xlsx_resumen['COD_COS']==i].fillna(0)\n",
    "    result = colapsar_tabla(grupo)\n",
    "    list_df.append(result)"
   ]
  },
  {
   "cell_type": "code",
   "execution_count": 10,
   "id": "56215bce-92cb-4abf-b1d1-390d97d05758",
   "metadata": {},
   "outputs": [
    {
     "name": "stderr",
     "output_type": "stream",
     "text": [
      "C:\\Users\\bismarksr\\AppData\\Local\\Temp\\ipykernel_11204\\69313519.py:1: FutureWarning: The behavior of DataFrame concatenation with empty or all-NA entries is deprecated. In a future version, this will no longer exclude empty or all-NA columns when determining the result dtypes. To retain the old behavior, exclude the relevant entries before the concat operation.\n",
      "  df_combinado = pd.concat(list_df, ignore_index=True)\n"
     ]
    }
   ],
   "source": [
    "df_combinado = pd.concat(list_df, ignore_index=True)"
   ]
  },
  {
   "cell_type": "code",
   "execution_count": 11,
   "id": "28f57e23-4a3f-4575-84e5-61f4d0c75812",
   "metadata": {},
   "outputs": [
    {
     "data": {
      "text/html": [
       "<div>\n",
       "<style scoped>\n",
       "    .dataframe tbody tr th:only-of-type {\n",
       "        vertical-align: middle;\n",
       "    }\n",
       "\n",
       "    .dataframe tbody tr th {\n",
       "        vertical-align: top;\n",
       "    }\n",
       "\n",
       "    .dataframe thead th {\n",
       "        text-align: right;\n",
       "    }\n",
       "</style>\n",
       "<table border=\"1\" class=\"dataframe\">\n",
       "  <thead>\n",
       "    <tr style=\"text-align: right;\">\n",
       "      <th></th>\n",
       "      <th>COD_COS</th>\n",
       "      <th>FECHA</th>\n",
       "      <th>AREA</th>\n",
       "      <th>ESTIMADO</th>\n",
       "      <th>ENTREGAS</th>\n",
       "    </tr>\n",
       "  </thead>\n",
       "  <tbody>\n",
       "    <tr>\n",
       "      <th>0</th>\n",
       "      <td>1</td>\n",
       "      <td>2024-05-16 00:00:00</td>\n",
       "      <td>4.127295</td>\n",
       "      <td>221.918352</td>\n",
       "      <td>0.00</td>\n",
       "    </tr>\n",
       "    <tr>\n",
       "      <th>1</th>\n",
       "      <td>1</td>\n",
       "      <td>2024-05-31 00:00:00</td>\n",
       "      <td>45.972261</td>\n",
       "      <td>2338.489409</td>\n",
       "      <td>2876.77</td>\n",
       "    </tr>\n",
       "    <tr>\n",
       "      <th>2</th>\n",
       "      <td>1</td>\n",
       "      <td>2024-06-05 00:00:00</td>\n",
       "      <td>63.240335</td>\n",
       "      <td>2836.576690</td>\n",
       "      <td>2483.70</td>\n",
       "    </tr>\n",
       "    <tr>\n",
       "      <th>3</th>\n",
       "      <td>1</td>\n",
       "      <td>2024-06-10 00:00:00</td>\n",
       "      <td>48.153913</td>\n",
       "      <td>2486.759690</td>\n",
       "      <td>2421.99</td>\n",
       "    </tr>\n",
       "    <tr>\n",
       "      <th>4</th>\n",
       "      <td>1</td>\n",
       "      <td>2024-06-18 00:00:00</td>\n",
       "      <td>20.112090</td>\n",
       "      <td>815.611812</td>\n",
       "      <td>2230.23</td>\n",
       "    </tr>\n",
       "    <tr>\n",
       "      <th>...</th>\n",
       "      <td>...</td>\n",
       "      <td>...</td>\n",
       "      <td>...</td>\n",
       "      <td>...</td>\n",
       "      <td>...</td>\n",
       "    </tr>\n",
       "    <tr>\n",
       "      <th>2204</th>\n",
       "      <td>576</td>\n",
       "      <td>2024-07-17 00:00:00</td>\n",
       "      <td>7.923825</td>\n",
       "      <td>428.124620</td>\n",
       "      <td>463.90</td>\n",
       "    </tr>\n",
       "    <tr>\n",
       "      <th>2205</th>\n",
       "      <td>576</td>\n",
       "      <td>2024-07-25 00:00:00</td>\n",
       "      <td>5.398911</td>\n",
       "      <td>250.407765</td>\n",
       "      <td>0.00</td>\n",
       "    </tr>\n",
       "    <tr>\n",
       "      <th>2206</th>\n",
       "      <td>577</td>\n",
       "      <td>2024-07-20 00:00:00</td>\n",
       "      <td>1.435498</td>\n",
       "      <td>0.000000</td>\n",
       "      <td>89.57</td>\n",
       "    </tr>\n",
       "    <tr>\n",
       "      <th>2207</th>\n",
       "      <td>578</td>\n",
       "      <td>2024-07-17 00:00:00</td>\n",
       "      <td>7.535220</td>\n",
       "      <td>0.000000</td>\n",
       "      <td>285.20</td>\n",
       "    </tr>\n",
       "    <tr>\n",
       "      <th>2208</th>\n",
       "      <td>581</td>\n",
       "      <td>2024-08-10 00:00:00</td>\n",
       "      <td>1.176980</td>\n",
       "      <td>0.000000</td>\n",
       "      <td>166.62</td>\n",
       "    </tr>\n",
       "  </tbody>\n",
       "</table>\n",
       "<p>2209 rows × 5 columns</p>\n",
       "</div>"
      ],
      "text/plain": [
       "     COD_COS                FECHA       AREA     ESTIMADO  ENTREGAS\n",
       "0          1  2024-05-16 00:00:00   4.127295   221.918352      0.00\n",
       "1          1  2024-05-31 00:00:00  45.972261  2338.489409   2876.77\n",
       "2          1  2024-06-05 00:00:00  63.240335  2836.576690   2483.70\n",
       "3          1  2024-06-10 00:00:00  48.153913  2486.759690   2421.99\n",
       "4          1  2024-06-18 00:00:00  20.112090   815.611812   2230.23\n",
       "...      ...                  ...        ...          ...       ...\n",
       "2204     576  2024-07-17 00:00:00   7.923825   428.124620    463.90\n",
       "2205     576  2024-07-25 00:00:00   5.398911   250.407765      0.00\n",
       "2206     577  2024-07-20 00:00:00   1.435498     0.000000     89.57\n",
       "2207     578  2024-07-17 00:00:00   7.535220     0.000000    285.20\n",
       "2208     581  2024-08-10 00:00:00   1.176980     0.000000    166.62\n",
       "\n",
       "[2209 rows x 5 columns]"
      ]
     },
     "execution_count": 11,
     "metadata": {},
     "output_type": "execute_result"
    }
   ],
   "source": [
    "df_combinado"
   ]
  },
  {
   "cell_type": "code",
   "execution_count": 12,
   "id": "3aa3b20f-890c-4aa5-98ed-a90e0eb59501",
   "metadata": {},
   "outputs": [],
   "source": [
    "df_combinado.to_excel('C:/Documents/Ingenio Azucarero Guabira S.A/UTEA - SEMANAL - AVANCE COSECHA/2024/AVANCE_SEMANAL/_TEMP_AVANCE_FECHAS.xlsx', index=False, engine='openpyxl', sheet_name='data')"
   ]
  }
 ],
 "metadata": {
  "kernelspec": {
   "display_name": "Python 3 (ipykernel)",
   "language": "python",
   "name": "python3"
  },
  "language_info": {
   "codemirror_mode": {
    "name": "ipython",
    "version": 3
   },
   "file_extension": ".py",
   "mimetype": "text/x-python",
   "name": "python",
   "nbconvert_exporter": "python",
   "pygments_lexer": "ipython3",
   "version": "3.10.13"
  }
 },
 "nbformat": 4,
 "nbformat_minor": 5
}
