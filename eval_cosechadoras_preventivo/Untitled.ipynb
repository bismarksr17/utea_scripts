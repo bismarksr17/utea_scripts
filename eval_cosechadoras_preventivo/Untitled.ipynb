{
 "cells": [
  {
   "cell_type": "code",
   "execution_count": 1,
   "id": "aeb27657-a707-42c7-9d93-16904d1238c9",
   "metadata": {},
   "outputs": [],
   "source": [
    "import sys\n",
    "sys.path.append('..')\n",
    "from config import API_AMIGOCLOUD_TOKEN_ADM\n",
    "from config import RUTA_UNIDAD_ONE_DRIVE\n",
    "from config import RUTA_LOCAL_ONE_DRIVE\n",
    "\n",
    "from utilities import generar_qr\n",
    "    \n",
    "import collections\n",
    "from datetime import datetime\n",
    "from docxtpl import DocxTemplate\n",
    "import docxtpl\n",
    "from docx.shared import Mm\n",
    "import requests\n",
    "\n",
    "import os"
   ]
  },
  {
   "cell_type": "code",
   "execution_count": 2,
   "id": "b3c766e1-a658-4e54-b137-7816ecac3634",
   "metadata": {},
   "outputs": [
    {
     "ename": "SyntaxError",
     "evalue": "invalid syntax (3594062475.py, line 1)",
     "output_type": "error",
     "traceback": [
      "\u001b[1;36m  Cell \u001b[1;32mIn[2], line 1\u001b[1;36m\u001b[0m\n\u001b[1;33m    d+\u001b[0m\n\u001b[1;37m      ^\u001b[0m\n\u001b[1;31mSyntaxError\u001b[0m\u001b[1;31m:\u001b[0m invalid syntax\n"
     ]
    }
   ],
   "source": [
    "d+"
   ]
  },
  {
   "cell_type": "code",
   "execution_count": 3,
   "id": "c0024a76-359e-4318-bec8-518c91ff5270",
   "metadata": {},
   "outputs": [],
   "source": [
    "# variables globales\n",
    "ID_PROYECTO = 34080\n",
    "RUTA_COMPLETA = os.path.join(RUTA_UNIDAD_ONE_DRIVE, RUTA_LOCAL_ONE_DRIVE)"
   ]
  },
  {
   "cell_type": "code",
   "execution_count": 4,
   "id": "7e1b0057-ed79-47e8-bba6-28858ce56271",
   "metadata": {},
   "outputs": [
    {
     "data": {
      "text/plain": [
       "'A:cf5xrxU3HgHj9FkLMiY5wW9LBFmvYDQG2TQ5FY'"
      ]
     },
     "execution_count": 4,
     "metadata": {},
     "output_type": "execute_result"
    }
   ],
   "source": [
    "API_AMIGOCLOUD_TOKEN_ADM"
   ]
  },
  {
   "cell_type": "code",
   "execution_count": 5,
   "id": "333da16b-6286-4aed-b616-1aeb57a4ace1",
   "metadata": {},
   "outputs": [],
   "source": [
    "from amigocloud_utils import AmigocloudFunctions"
   ]
  },
  {
   "cell_type": "code",
   "execution_count": 6,
   "id": "4510bf41-e89b-4b72-a532-caa7442682a6",
   "metadata": {},
   "outputs": [],
   "source": [
    "a = AmigocloudFunctions(API_AMIGOCLOUD_TOKEN_ADM)"
   ]
  },
  {
   "cell_type": "code",
   "execution_count": 7,
   "id": "18639188-e38e-40fb-9700-7b6056954266",
   "metadata": {},
   "outputs": [
    {
     "data": {
      "text/plain": [
       "<amigocloud.AmigoCloud at 0x166c37c7070>"
      ]
     },
     "execution_count": 7,
     "metadata": {},
     "output_type": "execute_result"
    }
   ],
   "source": [
    "a.amigocloud"
   ]
  },
  {
   "cell_type": "code",
   "execution_count": 8,
   "id": "2382992d-219d-41e8-ae7e-4e1f9940daab",
   "metadata": {},
   "outputs": [],
   "source": [
    "query = f'select ca.canhero, ca.maquina, ca.modelo, ca.codigo_maquina, ca.frente, insp.* from dataset_341171 insp\\\n",
    "        inner join dataset_341170 ca on ca.amigo_id=insp.maquina_ref_preven\\\n",
    "        where insp.id=126'"
   ]
  },
  {
   "cell_type": "code",
   "execution_count": 9,
   "id": "f1a27f81-b107-4f17-adc7-91b2102b509d",
   "metadata": {},
   "outputs": [],
   "source": [
    "res = a.ejecutar_query_sql(ID_PROYECTO, query, 'get')"
   ]
  },
  {
   "cell_type": "code",
   "execution_count": null,
   "id": "6b894fd6-ab86-46c9-b05b-4beedfedb539",
   "metadata": {},
   "outputs": [],
   "source": []
  },
  {
   "cell_type": "code",
   "execution_count": null,
   "id": "115855d6-a8f4-4611-be94-65fdf1d1e697",
   "metadata": {},
   "outputs": [],
   "source": []
  },
  {
   "cell_type": "code",
   "execution_count": null,
   "id": "60f21d7c-ea9d-46f3-a1e0-e9bba4d39c07",
   "metadata": {},
   "outputs": [],
   "source": []
  },
  {
   "cell_type": "code",
   "execution_count": null,
   "id": "e1b619ca-2b5e-48cb-8ad8-f73a5b668151",
   "metadata": {},
   "outputs": [],
   "source": []
  },
  {
   "cell_type": "code",
   "execution_count": null,
   "id": "56090706-8503-4ded-8f23-9ca249b13e47",
   "metadata": {},
   "outputs": [],
   "source": []
  },
  {
   "cell_type": "code",
   "execution_count": null,
   "id": "d33e3ba2-5aa1-4fe3-8615-6b5a47c084cf",
   "metadata": {},
   "outputs": [],
   "source": []
  }
 ],
 "metadata": {
  "kernelspec": {
   "display_name": "Python 3 (ipykernel)",
   "language": "python",
   "name": "python3"
  },
  "language_info": {
   "codemirror_mode": {
    "name": "ipython",
    "version": 3
   },
   "file_extension": ".py",
   "mimetype": "text/x-python",
   "name": "python",
   "nbconvert_exporter": "python",
   "pygments_lexer": "ipython3",
   "version": "3.10.13"
  }
 },
 "nbformat": 4,
 "nbformat_minor": 5
}
