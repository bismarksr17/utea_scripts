{
 "cells": [
  {
   "cell_type": "code",
   "execution_count": 57,
   "id": "b5c40a2c-f196-4e3a-98f1-0b08941c2adb",
   "metadata": {},
   "outputs": [],
   "source": [
    "import sys\n",
    "sys.path.append('../_amigocloud')"
   ]
  },
  {
   "cell_type": "code",
   "execution_count": 58,
   "id": "7619adbf-18e4-4c72-8cf6-58815b4dc049",
   "metadata": {},
   "outputs": [],
   "source": [
    "import os\n",
    "import pandas as pd\n",
    "\n",
    "import win32com.client as win32\n",
    "\n",
    "from pydrive.auth import GoogleAuth\n",
    "from pydrive.drive import GoogleDrive\n",
    "\n",
    "from amigocloud import AmigoCloud"
   ]
  },
  {
   "cell_type": "code",
   "execution_count": 59,
   "id": "5c90f09e-2ea0-421e-8ffe-354b267e5bb4",
   "metadata": {},
   "outputs": [],
   "source": [
    "# ruta de carpera donde estan las llaves\n",
    "ruta = open('../ruta.txt')\n",
    "ruta = ruta.readlines()[0]"
   ]
  },
  {
   "cell_type": "code",
   "execution_count": 72,
   "id": "dca050bc-fac6-4a83-9cfc-383ec77a8d78",
   "metadata": {},
   "outputs": [],
   "source": [
    "data_projects = ruta + '/_keys/amigo_cloud_projects.json'\n",
    "data_projects_pd = pd.read_json(data_projects)"
   ]
  },
  {
   "cell_type": "code",
   "execution_count": null,
   "id": "0997c894-7781-434c-a332-1ae7869aa1da",
   "metadata": {},
   "outputs": [],
   "source": [
    "# leer token\n",
    "acceso = open(ruta + '/_keys/api_amigocloud.key','r')\n",
    "api_token = acceso.readlines()[0]\n",
    "acceso.close()\n",
    "amigocloud = AmigoCloud(token=api_token)\n",
    "amigocloud"
   ]
  },
  {
   "cell_type": "code",
   "execution_count": 61,
   "id": "988230d4-bb9d-43c4-a11f-7982f37e06ab",
   "metadata": {},
   "outputs": [
    {
     "name": "stdout",
     "output_type": "stream",
     "text": [
      "Your browser has been opened to visit:\n",
      "\n",
      "    https://accounts.google.com/o/oauth2/auth?client_id=1096764895697-57btfmtn7rdejufct5qq4j9mi61j0unl.apps.googleusercontent.com&redirect_uri=http%3A%2F%2Flocalhost%3A8080%2F&scope=https%3A%2F%2Fwww.googleapis.com%2Fauth%2Fdrive&access_type=offline&response_type=code\n",
      "\n",
      "Authentication successful.\n"
     ]
    }
   ],
   "source": [
    "# Ruta completa al archivo client_secrets.json\n",
    "ruta_client_secrets = ruta + '\\\\_keys\\\\client_secrets.json'\n",
    "gauth = GoogleAuth()\n",
    "# Cargar configuración personalizada\n",
    "gauth.LoadClientConfigFile(ruta_client_secrets)\n",
    "gauth.LocalWebserverAuth()\n",
    "\n",
    "drive = GoogleDrive(gauth)"
   ]
  },
  {
   "cell_type": "code",
   "execution_count": 68,
   "id": "83167a7c-bc98-4069-83bb-d171bbe07a2c",
   "metadata": {},
   "outputs": [],
   "source": [
    "# ejecuta cualquier query sql en el proyecto que se le indique\n",
    "# requiere el id de proyecto, query a ejecutar y tipo solicitud (get o post)\n",
    "def ejecutar_query_sql(id_project, query, tipo_sql):\n",
    "    # define la url del proyecto para ejecutar el querry\n",
    "    url_proyecto_sql = f'https://app.amigocloud.com/api/v1/projects/{id_project}/sql'\n",
    "    # crea la estructura de query para amigocloud\n",
    "    query_sql = {'query': query}\n",
    "    \n",
    "    resultado_get = ''\n",
    "    # eleige que tipo de solicitud se realizara (get o post)\n",
    "    if tipo_sql == 'get': \n",
    "        resultado_get = amigocloud.get(url_proyecto_sql, query_sql)\n",
    "    elif tipo_sql == 'post':\n",
    "        resultado_get = amigocloud.post(url_proyecto_sql, query_sql)\n",
    "    else:\n",
    "        resultado_get = 'Se a seleccionado un tipo de solicitud erroneo.'\n",
    "    return resultado_get"
   ]
  },
  {
   "cell_type": "code",
   "execution_count": 69,
   "id": "86827a33-7d70-4d09-9aff-c048a58d0fd5",
   "metadata": {},
   "outputs": [],
   "source": [
    "def cargar_archivo_a_drive(file_name, file_path, directoryID):\n",
    "    # Buscar archivos con el mismo nombre en el directorio\n",
    "    file_list = drive.ListFile({'q': \"'{}' in parents and trashed=false\".format(directoryID)}).GetList()\n",
    "    for file in file_list:\n",
    "        if file['title'] == file_name:\n",
    "            # Si existe un archivo con el mismo nombre, borrarlo\n",
    "            file.Trash()\n",
    "    # crea el nuevo archivo\n",
    "    file_drive = drive.CreateFile({\"mimeType\": \"application/pdf\", \"parents\": [{\"kind\": \"drive#fileLink\", \"id\": directoryID}]})\n",
    "    file_drive['title'] = file_name\n",
    "    file_drive.SetContentFile(file_path)\n",
    "    file_drive.Upload() # Upload the file.\n",
    "    #print('Created file %s with mimeType %s' % (file_drive['title'], file_drive['mimeType']))\n",
    "    permission = file_drive.InsertPermission({\n",
    "                        'type': 'anyone',\n",
    "                        'value': 'anyone',\n",
    "                        'role': 'reader'})\n",
    "    return file_drive['alternateLink']"
   ]
  },
  {
   "cell_type": "code",
   "execution_count": 66,
   "id": "e4b73f0b-7f54-4e34-8fc5-3f7ff12c12ff",
   "metadata": {},
   "outputs": [],
   "source": [
    "def convert_to_pdf(file_path, output_path):\n",
    "    # Inicializar la aplicación Word\n",
    "    word = win32.gencache.EnsureDispatch('Word.Application')\n",
    "    word.Visible = False  # Corre Word en background\n",
    "    # Abrir el documento\n",
    "    doc = word.Documents.Open(file_path)\n",
    "    doc.Activate()\n",
    "    # Convertir a PDF\n",
    "    word.ActiveDocument.ExportAsFixedFormat(output_path, win32.constants.wdExportFormatPDF)\n",
    "    # Cerrar el documento y la aplicación\n",
    "    doc.Close(False)\n",
    "    word.Quit()"
   ]
  },
  {
   "cell_type": "code",
   "execution_count": null,
   "id": "d971017d-fe72-4521-8276-181f3baa0477",
   "metadata": {},
   "outputs": [],
   "source": []
  },
  {
   "cell_type": "code",
   "execution_count": null,
   "id": "52c6ed0a-85f8-4411-849e-cc81c1cda40e",
   "metadata": {},
   "outputs": [],
   "source": []
  },
  {
   "cell_type": "code",
   "execution_count": null,
   "id": "93e16369-40fd-4944-806b-cadc857cf89c",
   "metadata": {},
   "outputs": [],
   "source": []
  },
  {
   "cell_type": "code",
   "execution_count": null,
   "id": "5c5d5de8-02ca-4456-b650-4eb4422e947a",
   "metadata": {},
   "outputs": [],
   "source": []
  },
  {
   "cell_type": "code",
   "execution_count": null,
   "id": "89d7c046-0e20-4330-97d6-732964a0d592",
   "metadata": {},
   "outputs": [],
   "source": []
  },
  {
   "cell_type": "code",
   "execution_count": 70,
   "id": "128f78a3-0e13-4492-b931-3f2a657f8559",
   "metadata": {},
   "outputs": [],
   "source": [
    "# Listar todos los archivos en la carpeta\n",
    "archivos = os.listdir(ruta + '/informes/')"
   ]
  },
  {
   "cell_type": "code",
   "execution_count": 71,
   "id": "905cda17-fc45-4f34-89c5-18e5ead93851",
   "metadata": {},
   "outputs": [
    {
     "name": "stdout",
     "output_type": "stream",
     "text": [
      "['75_EMPC_01-04-2024_AGUILERA TARADELLES NELSON MARIANO_6.docx', '75_EMPC_15-04-2024_AGUILERA TARADELLES NELSON MARIANO_47.docx']\n"
     ]
    }
   ],
   "source": [
    "# Filtrar aquellos que no comienzan con un guion bajo\n",
    "revisados = [archivo for archivo in archivos if not archivo.startswith('_')]\n",
    "# Imprimir la lista filtrada\n",
    "print(revisados)"
   ]
  },
  {
   "cell_type": "code",
   "execution_count": 67,
   "id": "ef50aec0-42c8-4155-8e5b-3ce2179fc722",
   "metadata": {},
   "outputs": [
    {
     "name": "stdout",
     "output_type": "stream",
     "text": [
      "id 6\n",
      "id 47\n"
     ]
    }
   ],
   "source": [
    "\n",
    "for file in revisados:\n",
    "    id_reg = int(file.split('_')[-1].split('.')[0])\n",
    "    sigla = file.split('_')[1]\n",
    "    \n",
    "    work_path = ruta + '/informes/'+ file  # Asegúrate de proporcionar la ruta completa\n",
    "    pdf_path = ruta + '/pdf/'+ file.replace('.docx', '.pdf')  # Asegúrate de proporcionar la ruta completa\n",
    "    convert_to_pdf(work_path, pdf_path)\n",
    "    link_reporte = cargar_archivo_a_drive(file, pdf_path, '1Uy9TWXPzADH37WBwkjqqlhZgOaRwvQ6i')\n",
    "\n",
    "    project = data_projects_pd[sigla]['proyecto']\n",
    "    dataset = data_projects_pd[sigla]['dataset']\n",
    "    column = data_projects_pd[sigla]['columna_link']\n",
    "\n",
    "    query_sql = f\"update dataset_{dataset} set {column} = '{link_reporte}' where id = {id_reg}\"\n",
    "\n",
    "    ejecutar_query_sql(project, query_sql, 'post')\n",
    "    print('id', id_reg)\n",
    "    "
   ]
  },
  {
   "cell_type": "code",
   "execution_count": null,
   "id": "5599f2c8-9dd9-4702-93c4-22a0b1f6a62d",
   "metadata": {},
   "outputs": [],
   "source": []
  },
  {
   "cell_type": "code",
   "execution_count": null,
   "id": "93d1bc6e-f432-4bba-a5fc-2c2423701795",
   "metadata": {},
   "outputs": [],
   "source": []
  },
  {
   "cell_type": "code",
   "execution_count": null,
   "id": "74ead0fc-b7c9-4289-932a-a09408e22011",
   "metadata": {},
   "outputs": [],
   "source": []
  },
  {
   "cell_type": "code",
   "execution_count": 74,
   "id": "725c00ad-5771-48b1-83f4-7876b47eb7ba",
   "metadata": {},
   "outputs": [
    {
     "data": {
      "text/plain": [
       "'13_oMpP3Km28op_zkcmvMl0Z2dUF60sPc'"
      ]
     },
     "execution_count": 74,
     "metadata": {},
     "output_type": "execute_result"
    }
   ],
   "source": [
    "\n",
    "fileList = drive.ListFile({'q': \"'root' in parents and trashed=false\"}).GetList()\n",
    "for file in fileList:\n",
    "  if(file['title'] == \"EVAL MANTENIMIENTO PREVENTIVO COSECHADORAS\"):\n",
    "      fileID = file['id']\n",
    "fileID\n"
   ]
  }
 ],
 "metadata": {
  "kernelspec": {
   "display_name": "Python 3 (ipykernel)",
   "language": "python",
   "name": "python3"
  },
  "language_info": {
   "codemirror_mode": {
    "name": "ipython",
    "version": 3
   },
   "file_extension": ".py",
   "mimetype": "text/x-python",
   "name": "python",
   "nbconvert_exporter": "python",
   "pygments_lexer": "ipython3",
   "version": "3.10.13"
  }
 },
 "nbformat": 4,
 "nbformat_minor": 5
}
