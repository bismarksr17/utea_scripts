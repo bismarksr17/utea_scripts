{
 "cells": [
  {
   "cell_type": "code",
   "execution_count": 3,
   "id": "6429d69b-0c56-4969-a221-bd645e970f9f",
   "metadata": {},
   "outputs": [],
   "source": [
    "# IMPORTACIONES\n",
    "import sys\n",
    "sys.path.append('..')\n",
    "from config import API_AMIGOCLOUD_TOKEN_ADM\n",
    "from config import RUTA_UNIDAD_ONE_DRIVE\n",
    "from config import RUTA_LOCAL_ONE_DRIVE\n",
    "\n",
    "from docxtpl import DocxTemplate\n",
    "import docxtpl\n",
    "from docx.shared import Mm\n",
    "import os\n",
    "\n",
    "from utilities_amigocloud import AmigocloudFunctions\n",
    "from utilities import generar_qr\n",
    "from utilities import convertir_formato_fecha\n",
    "from utilities import convertir_dict_obj"
   ]
  },
  {
   "cell_type": "code",
   "execution_count": 4,
   "id": "7056af50-9b0d-4b9e-9d03-04ef1c3550b9",
   "metadata": {
    "tags": []
   },
   "outputs": [],
   "source": [
    "amigocloud = AmigocloudFunctions(API_AMIGOCLOUD_TOKEN_ADM)"
   ]
  },
  {
   "cell_type": "code",
   "execution_count": 5,
   "id": "b8b857b2-19e8-4323-9bf8-3d2066bc67f1",
   "metadata": {},
   "outputs": [],
   "source": [
    "# CONSTANTES\n",
    "ID_PROYECTO = 34080\n",
    "RUTA_COMPLETA = os.path.join(RUTA_UNIDAD_ONE_DRIVE, RUTA_LOCAL_ONE_DRIVE)"
   ]
  },
  {
   "cell_type": "markdown",
   "id": "8c216077-61a7-4366-a11b-38934a39af78",
   "metadata": {},
   "source": [
    "## generar reporte"
   ]
  },
  {
   "cell_type": "code",
   "execution_count": null,
   "id": "cdb0559e-541b-48d7-a263-b7b48c833445",
   "metadata": {},
   "outputs": [],
   "source": [
    "id_insp=126"
   ]
  },
  {
   "cell_type": "code",
   "execution_count": null,
   "id": "ddbcf6e9-7ec9-41e1-b3a0-876a96d1cd85",
   "metadata": {},
   "outputs": [],
   "source": [
    "query = f'select ca.canhero, ca.maquina, ca.modelo, ca.codigo_maquina, ca.frente, insp.* from dataset_341171 insp\\\n",
    "        inner join dataset_341170 ca on ca.amigo_id=insp.maquina_ref_preven\\\n",
    "        where insp.id={id_insp}'\n",
    "# ejecucion del query\n",
    "select = amigocloud.ejecutar_query_sql(ID_PROYECTO, query, 'get')"
   ]
  },
  {
   "cell_type": "code",
   "execution_count": null,
   "id": "cf9390e8-5a9e-43bc-a718-d774629649cd",
   "metadata": {},
   "outputs": [],
   "source": []
  },
  {
   "cell_type": "code",
   "execution_count": 6,
   "id": "5adbbf37-f6e2-43a2-804e-0593ea3510c0",
   "metadata": {},
   "outputs": [],
   "source": [
    "def generar_reporte(id_insp):\n",
    "    # consulta para extraer los datos de inspeccion por id concreto\n",
    "    query = f'select ca.canhero, ca.maquina, ca.modelo, ca.codigo_maquina, ca.frente, insp.* from dataset_341171 insp\\\n",
    "        inner join dataset_341170 ca on ca.amigo_id=insp.maquina_ref_preven\\\n",
    "        where insp.id={id_insp}'\n",
    "    # ejecucion del query\n",
    "    select = amigocloud.ejecutar_query_sql(ID_PROYECTO, query, 'get')\n",
    "    # verificar si se tiene valores para procesar\n",
    "    if (len(select['data']) > 0):\n",
    "        data = select['data'][0]\n",
    "    else:\n",
    "        print('Error, el registro de la evaluacion no tiene asigno maquina ni cañero asignado')\n",
    "        return\n",
    "    \n",
    "    # modificacion de la fecha a formato dd/mm/aaaa\n",
    "    data['fecha_registro'] = convertir_formato_fecha(data['fecha_registro'])\n",
    "\n",
    "    # modificacion del nombre de las claves, con una k_ por delante, por que los campos booblenos (1_1, 2_2, etc) no se pueden trabajar bien\n",
    "    data = {'k_'+key : value for (key, value) in data.items()}\n",
    "    # convertir data(dict) en data\n",
    "    insp = convertir_dict_obj(data, 'insp')\n",
    "\n",
    "    if insp.k_codigo_maquina is None:\n",
    "        print('Error, el registro de CAÑERO-MAQUINA no esta correcto, no tiene codigo maquina')\n",
    "        return\n",
    "    \n",
    "    # buscar todas las fotos de un id especifico\n",
    "    fotos_res = amigocloud.buscar_fotos(ID_PROYECTO,'gallery_57490', insp.k_amigo_id)\n",
    "    # se selecciona solo la data de datos de todo lo retornado\n",
    "    fotos = fotos_res['data']\n",
    "\n",
    "    # ferifica si existe alguna foto sin s3_filename definido\n",
    "    s3_fotos = [foto['s3_filename'] for foto in fotos]\n",
    "    if None in s3_fotos:\n",
    "        print('Error, existen fotos con s3_filename nulos')\n",
    "        #return\n",
    "    \n",
    "    # crea el template para el reporte\n",
    "    doc = DocxTemplate(os.path.join(RUTA_COMPLETA, 'templates/tpl_insp_cosechadoras-preventivo.docx'))\n",
    "\n",
    "    # descargar lista de fotos, y convertir a inline del template doc\n",
    "    lista_img_inline = amigocloud.descargar_convertir_fotos_inline(fotos, os.path.join(RUTA_COMPLETA, 'fotos'), doc)\n",
    "    \n",
    "    # generar texto contenido del qr\n",
    "    texto_qr = f'''\n",
    "    --UTEA--\n",
    "    --PROGRAMA CAÑA LIMPIA--\n",
    "    \n",
    "    Id de Evaluacion: {insp.k_id}\n",
    "    Fecha de Evaluacion: {insp.k_fecha_registro}\n",
    "    Nombre de Canero: {insp.k_canhero.split(' / ')[1]}\n",
    "    Codigo Canero: {insp.k_canhero.split(' / ')[0]}\n",
    "    Maquina Cosechadora: {insp.k_maquina + '-' + insp.k_modelo}\n",
    "    Codigo de Maquina: {insp.k_codigo_maquina}\n",
    "    Calificacion de Evaluacion: {round(insp.k_nota_porcen*100, 2)}%'''\n",
    "\n",
    "    # se genera el qr\n",
    "    ruta_qr = generar_qr(texto_qr, os.path.join(RUTA_COMPLETA, '_imagenes'))\n",
    "    # convertir el qr en inline\n",
    "    qr_inline = amigocloud.convertir_img_to_inline(doc, ruta_qr, 30)\n",
    "\n",
    "    # se crea el contexto de datos para pasar el template doc\n",
    "    context = {'insp':insp, 'fotos':lista_img_inline, 'qr':qr_inline}\n",
    "    # renderizar el doc\n",
    "    doc.render(context)\n",
    "    # crea lista con el codigo y nombre del canhero\n",
    "    codigo_nombre = insp.k_canhero.split(' / ')\n",
    "    # crea la ruta y nombre del informe a crear\n",
    "    file_name = codigo_nombre[0] + '_EMPC_' + insp.k_fecha_registro.replace('/','-') + '_' + codigo_nombre[1] + '_' + str(insp.k_id)\n",
    "    # se crea el documento\n",
    "    doc.save(RUTA_COMPLETA + r'/informes/_' + file_name + '.docx')\n",
    "    amigocloud.modificar_reporte_generado(ID_PROYECTO, id_insp)"
   ]
  },
  {
   "cell_type": "code",
   "execution_count": 7,
   "id": "c039c4ce-cff0-4c09-9792-fa7956c383a9",
   "metadata": {},
   "outputs": [],
   "source": [
    "def verificar_registros_nuevos():\n",
    "    # ejecucion del query\n",
    "    query = 'select id from dataset_341171 where informe_generado = false'\n",
    "    select = amigocloud.ejecutar_query_sql(ID_PROYECTO, query, 'get')\n",
    "    if select == None:\n",
    "        print('EMPC: Error al listar todos los registros sin informe')\n",
    "        return None\n",
    "    # extrae la seccion de data\n",
    "    data = select['data']\n",
    "    if len(data) == 0:\n",
    "        print('EMPC: No existen nuevos registros')\n",
    "        return None\n",
    "    #actualizar la nota de resgistros sin informe\n",
    "    result = amigocloud.ejecutar_query_por_id(ID_PROYECTO, 6340)\n",
    "    print(f'EMPC: Se ha actualizar la nota de {result} registros')\n",
    "    # convierte data a lista de ids\n",
    "    lista_ids = [dato['id'] for dato in data]\n",
    "    for i in lista_ids:\n",
    "        generar_reporte(i)"
   ]
  },
  {
   "cell_type": "code",
   "execution_count": 9,
   "id": "69ea21cd-7ed5-4b66-9e78-bd2d893f5e98",
   "metadata": {},
   "outputs": [
    {
     "name": "stdout",
     "output_type": "stream",
     "text": [
      "EMPC: Se ha actualizar la nota de 21 registros\n",
      "Lista de imagenes descargadas en blaco\n",
      "Error, existen fotos con s3_filename nulos\n",
      "Foto sin 's3_filename'. Se omite.\n",
      "Foto sin 's3_filename'. Se omite.\n",
      "Foto sin 's3_filename'. Se omite.\n",
      "Lista de imagenes descargadas en blaco\n",
      "Lista de imagenes descargadas en blaco\n",
      "Error, existen fotos con s3_filename nulos\n",
      "Foto sin 's3_filename'. Se omite.\n",
      "Foto sin 's3_filename'. Se omite.\n",
      "Foto sin 's3_filename'. Se omite.\n",
      "Foto sin 's3_filename'. Se omite.\n",
      "Lista de imagenes descargadas en blaco\n",
      "Lista de imagenes descargadas en blaco\n",
      "Lista de imagenes descargadas en blaco\n",
      "Error, existen fotos con s3_filename nulos\n",
      "Foto sin 's3_filename'. Se omite.\n",
      "Foto sin 's3_filename'. Se omite.\n",
      "Lista de imagenes descargadas en blaco\n",
      "Error, existen fotos con s3_filename nulos\n",
      "Foto sin 's3_filename'. Se omite.\n",
      "Lista de imagenes descargadas en blaco\n",
      "Error, existen fotos con s3_filename nulos\n",
      "Foto sin 's3_filename'. Se omite.\n",
      "Foto sin 's3_filename'. Se omite.\n",
      "Foto sin 's3_filename'. Se omite.\n",
      "Foto sin 's3_filename'. Se omite.\n",
      "Foto sin 's3_filename'. Se omite.\n",
      "Foto sin 's3_filename'. Se omite.\n",
      "Lista de imagenes descargadas en blaco\n",
      "Error, el registro de la evaluacion no tiene asigno maquina ni cañero asignado\n",
      "Error, existen fotos con s3_filename nulos\n",
      "Foto sin 's3_filename'. Se omite.\n",
      "Foto sin 's3_filename'. Se omite.\n",
      "Foto sin 's3_filename'. Se omite.\n",
      "Foto sin 's3_filename'. Se omite.\n",
      "Lista de imagenes descargadas en blaco\n",
      "Error, existen fotos con s3_filename nulos\n",
      "Foto sin 's3_filename'. Se omite.\n",
      "Foto sin 's3_filename'. Se omite.\n",
      "Foto sin 's3_filename'. Se omite.\n",
      "Lista de imagenes descargadas en blaco\n",
      "Error, existen fotos con s3_filename nulos\n",
      "Foto sin 's3_filename'. Se omite.\n",
      "Foto sin 's3_filename'. Se omite.\n",
      "Lista de imagenes descargadas en blaco\n"
     ]
    }
   ],
   "source": [
    "verificar_registros_nuevos()"
   ]
  },
  {
   "cell_type": "code",
   "execution_count": null,
   "id": "0ca033a5-82bb-4acc-94cf-e5c4e5cd425b",
   "metadata": {},
   "outputs": [],
   "source": []
  },
  {
   "cell_type": "code",
   "execution_count": null,
   "id": "1a61289d-3122-41f8-8761-b59ebd309128",
   "metadata": {},
   "outputs": [],
   "source": []
  },
  {
   "cell_type": "code",
   "execution_count": null,
   "id": "1b77ba18-56b3-4daa-82e5-3ab0a47f6fd1",
   "metadata": {},
   "outputs": [],
   "source": []
  },
  {
   "cell_type": "code",
   "execution_count": null,
   "id": "7b5f55c0-d0b1-4c49-80f3-7e4c2e25433b",
   "metadata": {},
   "outputs": [],
   "source": []
  },
  {
   "cell_type": "code",
   "execution_count": null,
   "id": "be90d2f1-e851-4527-82f1-d01c2cf21f70",
   "metadata": {},
   "outputs": [],
   "source": []
  },
  {
   "cell_type": "code",
   "execution_count": null,
   "id": "27f07925-10ef-4669-ae03-e35b9dfa1aaf",
   "metadata": {},
   "outputs": [],
   "source": []
  },
  {
   "cell_type": "code",
   "execution_count": null,
   "id": "f6d133e1-397e-44b9-a84e-1bbfb08b5db2",
   "metadata": {},
   "outputs": [],
   "source": []
  },
  {
   "cell_type": "code",
   "execution_count": null,
   "id": "125436fb-f3d5-4e4e-89d4-88e67cbef9fc",
   "metadata": {},
   "outputs": [],
   "source": []
  }
 ],
 "metadata": {
  "kernelspec": {
   "display_name": "Python 3 (ipykernel)",
   "language": "python",
   "name": "python3"
  },
  "language_info": {
   "codemirror_mode": {
    "name": "ipython",
    "version": 3
   },
   "file_extension": ".py",
   "mimetype": "text/x-python",
   "name": "python",
   "nbconvert_exporter": "python",
   "pygments_lexer": "ipython3",
   "version": "3.10.13"
  }
 },
 "nbformat": 4,
 "nbformat_minor": 5
}
