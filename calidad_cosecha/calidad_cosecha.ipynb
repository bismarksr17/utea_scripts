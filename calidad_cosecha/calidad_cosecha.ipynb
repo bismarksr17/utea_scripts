{
 "cells": [
  {
   "cell_type": "code",
   "execution_count": 2,
   "id": "7fd9a253-0c2e-4351-8012-b2da988dbd3c",
   "metadata": {
    "tags": []
   },
   "outputs": [],
   "source": [
    "import sys\n",
    "sys.path.append('../_amigocloud')\n",
    "\n",
    "from werkzeug.wrappers import Request, Response\n",
    "#from flask import Flask, render_template\n",
    "from jinja2 import Template\n",
    "\n",
    "#from datetime import date\n",
    "from datetime import datetime, timedelta\n",
    "\n",
    "import collections\n",
    "from amigocloud import AmigoCloud\n",
    "\n",
    "from docxtpl import DocxTemplate\n",
    "import docxtpl\n",
    "from docx.shared import Mm\n",
    "import requests\n",
    "\n",
    "#from docx2pdf import convert\n",
    "import os\n",
    "\n",
    "import pandas as pd\n",
    "import json"
   ]
  },
  {
   "cell_type": "code",
   "execution_count": 3,
   "id": "5051e422-9fe4-4349-8fcc-4ba4e5f98f0a",
   "metadata": {
    "tags": []
   },
   "outputs": [],
   "source": [
    "# ruta de carpera donde estan las llaves\n",
    "ruta = open('../unidad_local.txt')\n",
    "ruta = ruta.readlines()[0]"
   ]
  },
  {
   "cell_type": "code",
   "execution_count": 4,
   "id": "440dd6a9-561a-4652-aeaa-ed925b6911ea",
   "metadata": {
    "tags": []
   },
   "outputs": [
    {
     "data": {
      "text/plain": [
       "<amigocloud.AmigoCloud at 0x236b830e0b0>"
      ]
     },
     "execution_count": 4,
     "metadata": {},
     "output_type": "execute_result"
    }
   ],
   "source": [
    "# leer token\n",
    "acceso = open(ruta + '/_keys/api_amigocloud.key','r')\n",
    "api_token = acceso.readlines()[0]\n",
    "acceso.close()\n",
    "amigocloud = AmigoCloud(token=api_token)\n",
    "amigocloud"
   ]
  },
  {
   "cell_type": "code",
   "execution_count": 5,
   "id": "345cd657-523e-43e5-9200-3f18d973ab1d",
   "metadata": {
    "tags": []
   },
   "outputs": [],
   "source": [
    "fecha = '2025-09-03'"
   ]
  },
  {
   "cell_type": "code",
   "execution_count": 6,
   "id": "b59fe52d-1399-4ed2-bce4-81a9cb9b305f",
   "metadata": {
    "tags": []
   },
   "outputs": [
    {
     "data": {
      "text/plain": [
       "[{'id': 191, 'canhero': '18027 / AGUILERA TARRADELLES GUILLERMO'}]"
      ]
     },
     "execution_count": 6,
     "metadata": {},
     "output_type": "execute_result"
    }
   ],
   "source": [
    "query_insp = {'query': 'select id, canhero from dataset_291595 where date(fecha_registro)=\\'{fech}\\''.format(fech=fecha)}\n",
    "project = 'https://app.amigocloud.com/api/v1/projects/31805/sql'\n",
    "select_insp = amigocloud.get(project, query_insp)\n",
    "data_insp = select_insp['data']\n",
    "data_insp"
   ]
  },
  {
   "cell_type": "code",
   "execution_count": 7,
   "id": "047cc927-0fe5-4a44-b352-d77e8b780a42",
   "metadata": {
    "tags": []
   },
   "outputs": [
    {
     "name": "stdout",
     "output_type": "stream",
     "text": [
      "Generando reporte de: 18027 / AGUILERA TARRADELLES GUILLERMO ................................................\n",
      "{'nombre_muestra': 'M1', 'obs': 'Cosecha realizada por la máquina Case 7000. No sé observa presencia de astillas, ni puntas. Se realizará evaluación a la máquina.', 's3_filename': None}\n",
      "Trarea terminada.\n",
      "END==============================================\n"
     ]
    }
   ],
   "source": [
    "for j in data_insp:\n",
    "    id_insp = j['id']\n",
    "    print('Generando reporte de:', j['canhero'], '................................................')\n",
    "    # SELECT DATOS DE LAS INPECCION\n",
    "    query = {'query': 'select * from dataset_291595 where id={id}'.format(id=id_insp)}\n",
    "    project = 'https://app.amigocloud.com/api/v1/projects/31805/sql'\n",
    "    select = amigocloud.get(project, query)\n",
    "    data = select['data'][0]\n",
    "    # convertir fecha a formato dd/mm/aaaa\n",
    "    data['fecha_registro'] = datetime.strptime(data['fecha_registro'][0:10], '%Y-%m-%d').strftime('%d/%m/%Y')\n",
    "    # convertir la insp en fecha\n",
    "    insp = collections.namedtuple(\"insp\", data.keys())(*data.values())\n",
    "    \n",
    "    # DATOS DE MUESTRAS\n",
    "    query = {'query': 'select * from dataset_291604 where calidad_ref_muestra=\\'{amigo_id}\\''.format(amigo_id=insp.amigo_id)}\n",
    "    project = 'https://app.amigocloud.com/api/v1/projects/31805/sql'\n",
    "    select = amigocloud.get(project, query)\n",
    "    data = select['data']\n",
    "    # se recorre las muestras para crear un obj y agregarlo a una lista\n",
    "    muestras =[]\n",
    "    for i in data:\n",
    "        # se conviente a entrero\n",
    "        i['arranquio_de_cepa'] = int(i['arranquio_de_cepa'])\n",
    "        muestra = collections.namedtuple(\"muestra\", i.keys())(*i.values())\n",
    "        muestras.append(muestra)\n",
    "    \n",
    "    # CALCUALR PROMEDIO DE PESOS\n",
    "    keys_to_average = ['astillas', 'tocon', 'punta', 'canha_corta', 'canha_larga', 'arranquio_de_cepa', 'estimacion_promedio']\n",
    "    promedio = {}\n",
    "    for key in keys_to_average:\n",
    "        total = sum([item[key] for item in data])\n",
    "        average = total / len(data)\n",
    "        promedio[key] = average\n",
    "    promedio['perdida_total'] = promedio['astillas'] + promedio['tocon'] + promedio['punta'] + promedio['canha_corta'] + promedio['canha_larga']\n",
    "    promedio['perdida_porcen'] = (promedio['perdida_total'] / promedio['estimacion_promedio'])*100\n",
    "    promedio['arranquio_de_cepa'] = int(promedio['arranquio_de_cepa'])\n",
    "    promedio_muestras = collections.namedtuple(\"promedio\", promedio.keys())(*promedio.values())\n",
    "    \n",
    "    # SE EXTRAE LOS DATOS DE LAS FOTOS EXISTENTES EN LAS MUESTAS\n",
    "    fotos = []\n",
    "    for i in muestras:\n",
    "        query = {'query': 'select muestra.nombre_muestra, muestra.obs, gal.s3_filename from dataset_291604 muestra inner join gallery_41829 gal on muestra.amigo_id = gal.source_amigo_id where muestra.amigo_id=\\'{amigo_id}\\''.format(amigo_id=i.amigo_id)}\n",
    "        project = 'https://app.amigocloud.com/api/v1/projects/31805/sql'\n",
    "        select = amigocloud.get(project, query)\n",
    "        if len(select['data'])>0:\n",
    "            data = select['data'][0]\n",
    "        else:\n",
    "            continue\n",
    "        #data = select['data'][0]\n",
    "        fotos.append(data)\n",
    "        print(data)\n",
    "    \n",
    "    # SE INSTANCIA AL TEMPLATE\n",
    "    doc = DocxTemplate(ruta + \"/templates/tpl_rpt_calidad-cosecha.docx\")\n",
    "    \n",
    "    # SE DESCARGAN LAS FOTOS\n",
    "    lista_fotos_inline = []\n",
    "    '''\n",
    "    for foto in fotos:\n",
    "        response = requests.get(\"https://www-amigocloud.s3.amazonaws.com/gallery/\" + foto['s3_filename'])\n",
    "        file = open(ruta + '/fotos/' + foto['s3_filename'], \"wb\")\n",
    "        file.write(response.content)\n",
    "        file.close()\n",
    "        lista_fotos_inline.append({\n",
    "            'foto': docxtpl.InlineImage(doc, image_descriptor=ruta+'/fotos/' + foto['s3_filename'], width=Mm(60)), \n",
    "            'muestra': foto['nombre_muestra'],\n",
    "            'obs':foto['obs']\n",
    "        })\n",
    "    '''\n",
    "    # SE ESTABLESE LA FIRMA DEL TECNICO\n",
    "    firma_respon = None\n",
    "    if insp.responsable == 'Juan Pablo Jaldin':\n",
    "        firma_respon = docxtpl.InlineImage(doc, image_descriptor=ruta+'/templates/firma_jaldin.png', width=Mm(60))\n",
    "    else:\n",
    "        firma_respon = docxtpl.InlineImage(doc, image_descriptor=ruta+'/templates/firma_rogelio.png', width=Mm(60))\n",
    "    \n",
    "    # NORMBRE DEL ARCHIVO\n",
    "    filename = '/_' + insp.canhero.split(' / ')[0] + '_CDC_' + insp.fecha_registro.replace('/','-') + '_' + insp.canhero.split(' / ')[1] + '_' + str(insp.id) + '.docx'\n",
    "    # CREAR EL CONTEXTO DEL DOC Y CREAR EL DOC\n",
    "    context = {'insp':insp, 'muestras':muestras, 'promedio':promedio_muestras, 'fotos':lista_fotos_inline, 'firma':firma_respon}\n",
    "    doc.render(context)\n",
    "    doc.save(ruta + '/informes' + filename)\n",
    "    print('Trarea terminada.')\n",
    "print('END==============================================')"
   ]
  },
  {
   "cell_type": "markdown",
   "id": "afaea9c3-f492-453b-a980-5e30b4986c3a",
   "metadata": {},
   "source": [
    "## Convertir a PDF"
   ]
  },
  {
   "cell_type": "code",
   "execution_count": 8,
   "id": "98df0b5d-a087-4f3d-bd88-9209377cf33b",
   "metadata": {},
   "outputs": [
    {
     "name": "stdout",
     "output_type": "stream",
     "text": [
      "SE ENCONTRARON 187 INFORMES\n",
      "187 INFORMES\n"
     ]
    },
    {
     "data": {
      "text/plain": [
       "['G:\\\\OneDrive - Ingenio Azucarero Guabira S.A\\\\_DATOS_PYTHON/informes/0_INSP_08-08-2025_UTEA_PROPIEDAD_BOLIVIA.docx',\n",
       " 'G:\\\\OneDrive - Ingenio Azucarero Guabira S.A\\\\_DATOS_PYTHON/informes/0_INSP_08-08-2025_UTEA_PROPIEDAD_BOLIVIA.pdf',\n",
       " 'G:\\\\OneDrive - Ingenio Azucarero Guabira S.A\\\\_DATOS_PYTHON/informes/11191_IDCQ_15-07-2025_QUIROZ OLGUIN DEISY_228.docx',\n",
       " 'G:\\\\OneDrive - Ingenio Azucarero Guabira S.A\\\\_DATOS_PYTHON/informes/1182_IDCQ_15-07-2025_BOHORQUEZ FERNANDEZ NICANOR_224.docx',\n",
       " 'G:\\\\OneDrive - Ingenio Azucarero Guabira S.A\\\\_DATOS_PYTHON/informes/12105_CRS_19-06-2025_ROCA REYES MIGUEL ANGEL_542.docx',\n",
       " 'G:\\\\OneDrive - Ingenio Azucarero Guabira S.A\\\\_DATOS_PYTHON/informes/15195_IDCQ_15-07-2025_VEIZAGA ENRIQUEZ GUSTAVO_223.docx',\n",
       " 'G:\\\\OneDrive - Ingenio Azucarero Guabira S.A\\\\_DATOS_PYTHON/informes/15501_INSP_23-08-2025_WENDE RIOJA MAURICIO.docx',\n",
       " 'G:\\\\OneDrive - Ingenio Azucarero Guabira S.A\\\\_DATOS_PYTHON/informes/15501_INSP_23-08-2025_WENDE RIOJA MAURICIO.pdf',\n",
       " 'G:\\\\OneDrive - Ingenio Azucarero Guabira S.A\\\\_DATOS_PYTHON/informes/1843_INSP_05-08-2025_CATALA ABREGO SEGISMUNDO.docx',\n",
       " 'G:\\\\OneDrive - Ingenio Azucarero Guabira S.A\\\\_DATOS_PYTHON/informes/1843_INSP_05-08-2025_CATALA ABREGO SEGISMUNDO.pdf',\n",
       " 'G:\\\\OneDrive - Ingenio Azucarero Guabira S.A\\\\_DATOS_PYTHON/informes/2517_IDCQ_15-07-2025_CHAMBI RODRIGUEZ MARIO_232.docx',\n",
       " 'G:\\\\OneDrive - Ingenio Azucarero Guabira S.A\\\\_DATOS_PYTHON/informes/40250_CRS_19-06-2025_AMURRIO MELGAROJO BISMARK ELISEO_482.docx',\n",
       " 'G:\\\\OneDrive - Ingenio Azucarero Guabira S.A\\\\_DATOS_PYTHON/informes/41487_IDCQ_15-08-2025_MARTINEZ ELENA_286.docx',\n",
       " 'G:\\\\OneDrive - Ingenio Azucarero Guabira S.A\\\\_DATOS_PYTHON/informes/41487_IDCQ_15-08-2025_MARTINEZ ELENA_286.pdf',\n",
       " 'G:\\\\OneDrive - Ingenio Azucarero Guabira S.A\\\\_DATOS_PYTHON/informes/41591_CRS_04-06-2025_BENAVIDES GARCIA GABINO_484.docx',\n",
       " 'G:\\\\OneDrive - Ingenio Azucarero Guabira S.A\\\\_DATOS_PYTHON/informes/41978_IDCQ_15-07-2025_JANKO ALANES RELINDA_231.docx',\n",
       " 'G:\\\\OneDrive - Ingenio Azucarero Guabira S.A\\\\_DATOS_PYTHON/informes/42239_CRS_13-06-2025_CORDOVA OLGUIN LEONARDO_563.docx',\n",
       " 'G:\\\\OneDrive - Ingenio Azucarero Guabira S.A\\\\_DATOS_PYTHON/informes/556_IDCQ_15-07-2025_AYALA ESPINOSA WALDO SELUB_225.docx',\n",
       " 'G:\\\\OneDrive - Ingenio Azucarero Guabira S.A\\\\_DATOS_PYTHON/informes/624_IDCQ_15-07-2025_ALVAREZ BLANCO HERNAN_227.docx',\n",
       " 'G:\\\\OneDrive - Ingenio Azucarero Guabira S.A\\\\_DATOS_PYTHON/informes/644_INSP_05-08-2025_ANTELO ANTELO ARIEL.docx',\n",
       " 'G:\\\\OneDrive - Ingenio Azucarero Guabira S.A\\\\_DATOS_PYTHON/informes/644_INSP_05-08-2025_ANTELO ANTELO ARIEL.pdf',\n",
       " 'G:\\\\OneDrive - Ingenio Azucarero Guabira S.A\\\\_DATOS_PYTHON/informes/6592_IDCQ_15-07-2025_JANKO ALANES JUANITO_226.docx',\n",
       " 'G:\\\\OneDrive - Ingenio Azucarero Guabira S.A\\\\_DATOS_PYTHON/informes/8838_CRS_18-06-2025_MENDEZ PAZ MIRYAM_492.docx',\n",
       " 'G:\\\\OneDrive - Ingenio Azucarero Guabira S.A\\\\_DATOS_PYTHON/informes/9722_IDCQ_15-07-2025_OLGUIN FLORES MIGUELINA_229.docx',\n",
       " 'G:\\\\OneDrive - Ingenio Azucarero Guabira S.A\\\\_DATOS_PYTHON/informes/quemas',\n",
       " 'G:\\\\OneDrive - Ingenio Azucarero Guabira S.A\\\\_DATOS_PYTHON/informes/_10260_IDCQ_11-08-2025_PARADA MENDEZ MIGUEL_282.docx',\n",
       " 'G:\\\\OneDrive - Ingenio Azucarero Guabira S.A\\\\_DATOS_PYTHON/informes/_10260_IDCQ_11-08-2025_PARADA MENDEZ MIGUEL_282.pdf',\n",
       " 'G:\\\\OneDrive - Ingenio Azucarero Guabira S.A\\\\_DATOS_PYTHON/informes/_11191_IDCQ_05-07-2025_QUIROZ OLGUIN DEISY_217.docx',\n",
       " 'G:\\\\OneDrive - Ingenio Azucarero Guabira S.A\\\\_DATOS_PYTHON/informes/_11617_IDCQ_17-07-2025_REYES ANTELO DAVID EZEQUIEL_242.docx',\n",
       " 'G:\\\\OneDrive - Ingenio Azucarero Guabira S.A\\\\_DATOS_PYTHON/informes/_11659_IDCQ_05-08-2025_ROCHA PRIMITIVA VASQUEZ DE_277.docx',\n",
       " 'G:\\\\OneDrive - Ingenio Azucarero Guabira S.A\\\\_DATOS_PYTHON/informes/_11659_IDCQ_05-08-2025_ROCHA PRIMITIVA VASQUEZ DE_277.pdf',\n",
       " 'G:\\\\OneDrive - Ingenio Azucarero Guabira S.A\\\\_DATOS_PYTHON/informes/_11725_IDCQ_15-08-2025_RAMOS VEGA FELICIANO_287.docx',\n",
       " 'G:\\\\OneDrive - Ingenio Azucarero Guabira S.A\\\\_DATOS_PYTHON/informes/_11725_IDCQ_15-08-2025_RAMOS VEGA FELICIANO_287.pdf',\n",
       " 'G:\\\\OneDrive - Ingenio Azucarero Guabira S.A\\\\_DATOS_PYTHON/informes/_1196_IDCQ_23-07-2025_BALDELOMAR MONTERO LITZER_262.docx',\n",
       " 'G:\\\\OneDrive - Ingenio Azucarero Guabira S.A\\\\_DATOS_PYTHON/informes/_1196_IDCQ_23-07-2025_BALDELOMAR MONTERO LITZER_262.pdf',\n",
       " 'G:\\\\OneDrive - Ingenio Azucarero Guabira S.A\\\\_DATOS_PYTHON/informes/_12118_IDCQ_11-08-2025_ROSAS CASTRO PATRICIA_285.docx',\n",
       " 'G:\\\\OneDrive - Ingenio Azucarero Guabira S.A\\\\_DATOS_PYTHON/informes/_12118_IDCQ_11-08-2025_ROSAS CASTRO PATRICIA_285.pdf',\n",
       " 'G:\\\\OneDrive - Ingenio Azucarero Guabira S.A\\\\_DATOS_PYTHON/informes/_1218_IDCQ_03-09-2025_BALCAZAR ALCANTARA JOSE LOLY_315.docx',\n",
       " 'G:\\\\OneDrive - Ingenio Azucarero Guabira S.A\\\\_DATOS_PYTHON/informes/_1218_IDCQ_03-09-2025_BALCAZAR ALCANTARA JOSE LOLY_315.pdf',\n",
       " 'G:\\\\OneDrive - Ingenio Azucarero Guabira S.A\\\\_DATOS_PYTHON/informes/_12478_ECO_28-07-2025_SERRATE COLAMARINO HUGO_672.docx',\n",
       " 'G:\\\\OneDrive - Ingenio Azucarero Guabira S.A\\\\_DATOS_PYTHON/informes/_12478_ECO_28-07-2025_SERRATE COLAMARINO HUGO_672.pdf',\n",
       " 'G:\\\\OneDrive - Ingenio Azucarero Guabira S.A\\\\_DATOS_PYTHON/informes/_13132_IDCQ_20-08-2025_ZUMARAN MENACHO JORGE_293.docx',\n",
       " 'G:\\\\OneDrive - Ingenio Azucarero Guabira S.A\\\\_DATOS_PYTHON/informes/_13132_IDCQ_20-08-2025_ZUMARAN MENACHO JORGE_293.pdf',\n",
       " 'G:\\\\OneDrive - Ingenio Azucarero Guabira S.A\\\\_DATOS_PYTHON/informes/_13203_IDCQ_01-09-2025_SGARABOTTO MENDEZ MARCOS EDUARDO_308.docx',\n",
       " 'G:\\\\OneDrive - Ingenio Azucarero Guabira S.A\\\\_DATOS_PYTHON/informes/_13203_IDCQ_01-09-2025_SGARABOTTO MENDEZ MARCOS EDUARDO_308.pdf',\n",
       " 'G:\\\\OneDrive - Ingenio Azucarero Guabira S.A\\\\_DATOS_PYTHON/informes/_13480_IDCQ_24-07-2025_TAPIA MARTINEZ FRANCISCO_270.docx',\n",
       " 'G:\\\\OneDrive - Ingenio Azucarero Guabira S.A\\\\_DATOS_PYTHON/informes/_13480_IDCQ_24-07-2025_TAPIA MARTINEZ FRANCISCO_270.pdf',\n",
       " 'G:\\\\OneDrive - Ingenio Azucarero Guabira S.A\\\\_DATOS_PYTHON/informes/_14826_IDCQ_04-08-2025_VELASQUEZ CLAROS JACINTO_276.docx',\n",
       " 'G:\\\\OneDrive - Ingenio Azucarero Guabira S.A\\\\_DATOS_PYTHON/informes/_14826_IDCQ_04-08-2025_VELASQUEZ CLAROS JACINTO_276.pdf',\n",
       " 'G:\\\\OneDrive - Ingenio Azucarero Guabira S.A\\\\_DATOS_PYTHON/informes/_14826_IDCQ_16-07-2025_VELASQUEZ CLAROS JACINTO_241.docx',\n",
       " 'G:\\\\OneDrive - Ingenio Azucarero Guabira S.A\\\\_DATOS_PYTHON/informes/_15007_IDCQ_28-08-2025_VARGAS PLACIDA ABAN VDA. DE_303.docx',\n",
       " 'G:\\\\OneDrive - Ingenio Azucarero Guabira S.A\\\\_DATOS_PYTHON/informes/_15007_IDCQ_28-08-2025_VARGAS PLACIDA ABAN VDA. DE_303.pdf',\n",
       " 'G:\\\\OneDrive - Ingenio Azucarero Guabira S.A\\\\_DATOS_PYTHON/informes/_15162_IDCQ_14-07-2025_VELASCO ANEZ MARCO ANTONIO_221.docx',\n",
       " 'G:\\\\OneDrive - Ingenio Azucarero Guabira S.A\\\\_DATOS_PYTHON/informes/_15162_IDCQ_14-07-2025_VELASCO ANEZ MARCO ANTONIO_221.pdf',\n",
       " 'G:\\\\OneDrive - Ingenio Azucarero Guabira S.A\\\\_DATOS_PYTHON/informes/_15501_CDC_01-08-2025_WENDE RIOJA MAURICIO_184.docx',\n",
       " 'G:\\\\OneDrive - Ingenio Azucarero Guabira S.A\\\\_DATOS_PYTHON/informes/_15501_CDC_01-08-2025_WENDE RIOJA MAURICIO_184.pdf',\n",
       " 'G:\\\\OneDrive - Ingenio Azucarero Guabira S.A\\\\_DATOS_PYTHON/informes/_15501_CDC_08-08-2025_WENDE RIOJA MAURICIO_185.docx',\n",
       " 'G:\\\\OneDrive - Ingenio Azucarero Guabira S.A\\\\_DATOS_PYTHON/informes/_15501_CDC_08-08-2025_WENDE RIOJA MAURICIO_185.pdf',\n",
       " 'G:\\\\OneDrive - Ingenio Azucarero Guabira S.A\\\\_DATOS_PYTHON/informes/_15501_CDC_08-08-2025_WENDE RIOJA MAURICIO_186.docx',\n",
       " 'G:\\\\OneDrive - Ingenio Azucarero Guabira S.A\\\\_DATOS_PYTHON/informes/_15501_CDC_08-08-2025_WENDE RIOJA MAURICIO_186.pdf',\n",
       " 'G:\\\\OneDrive - Ingenio Azucarero Guabira S.A\\\\_DATOS_PYTHON/informes/_15501_CDC_15-08-2025_WENDE RIOJA MAURICIO_187.docx',\n",
       " 'G:\\\\OneDrive - Ingenio Azucarero Guabira S.A\\\\_DATOS_PYTHON/informes/_15501_CDC_15-08-2025_WENDE RIOJA MAURICIO_187.pdf',\n",
       " 'G:\\\\OneDrive - Ingenio Azucarero Guabira S.A\\\\_DATOS_PYTHON/informes/_15501_CDC_15-08-2025_WENDE RIOJA MAURICIO_188.docx',\n",
       " 'G:\\\\OneDrive - Ingenio Azucarero Guabira S.A\\\\_DATOS_PYTHON/informes/_15501_CDC_15-08-2025_WENDE RIOJA MAURICIO_188.pdf',\n",
       " 'G:\\\\OneDrive - Ingenio Azucarero Guabira S.A\\\\_DATOS_PYTHON/informes/_15501_CDC_19-07-2025_WENDE RIOJA MAURICIO_182.docx',\n",
       " 'G:\\\\OneDrive - Ingenio Azucarero Guabira S.A\\\\_DATOS_PYTHON/informes/_15501_CDC_22-08-2025_WENDE RIOJA MAURICIO_189.docx',\n",
       " 'G:\\\\OneDrive - Ingenio Azucarero Guabira S.A\\\\_DATOS_PYTHON/informes/_15501_CDC_22-08-2025_WENDE RIOJA MAURICIO_189.pdf',\n",
       " 'G:\\\\OneDrive - Ingenio Azucarero Guabira S.A\\\\_DATOS_PYTHON/informes/_15501_CDC_26-07-2025_WENDE RIOJA MAURICIO_183.docx',\n",
       " 'G:\\\\OneDrive - Ingenio Azucarero Guabira S.A\\\\_DATOS_PYTHON/informes/_15501_CDC_26-07-2025_WENDE RIOJA MAURICIO_183.pdf',\n",
       " 'G:\\\\OneDrive - Ingenio Azucarero Guabira S.A\\\\_DATOS_PYTHON/informes/_15501_CDC_29-08-2025_WENDE RIOJA MAURICIO_190.docx',\n",
       " 'G:\\\\OneDrive - Ingenio Azucarero Guabira S.A\\\\_DATOS_PYTHON/informes/_15501_CDC_29-08-2025_WENDE RIOJA MAURICIO_190.pdf',\n",
       " 'G:\\\\OneDrive - Ingenio Azucarero Guabira S.A\\\\_DATOS_PYTHON/informes/_15928_IDCQ_21-07-2025_YUPANQUI CONDORI EDSON_260.docx',\n",
       " 'G:\\\\OneDrive - Ingenio Azucarero Guabira S.A\\\\_DATOS_PYTHON/informes/_15928_IDCQ_21-07-2025_YUPANQUI CONDORI EDSON_260.pdf',\n",
       " 'G:\\\\OneDrive - Ingenio Azucarero Guabira S.A\\\\_DATOS_PYTHON/informes/_15928_IDCQ_27-06-2025_YUPANQUI CONDORI EDSON_212.docx',\n",
       " 'G:\\\\OneDrive - Ingenio Azucarero Guabira S.A\\\\_DATOS_PYTHON/informes/_1652_IDCQ_18-08-2025_CALLE DELGADO RENE_288.docx',\n",
       " 'G:\\\\OneDrive - Ingenio Azucarero Guabira S.A\\\\_DATOS_PYTHON/informes/_1652_IDCQ_18-08-2025_CALLE DELGADO RENE_288.pdf',\n",
       " 'G:\\\\OneDrive - Ingenio Azucarero Guabira S.A\\\\_DATOS_PYTHON/informes/_1661_IDCQ_22-08-2025_CALLE DELGADO EDMUNDO_296.docx',\n",
       " 'G:\\\\OneDrive - Ingenio Azucarero Guabira S.A\\\\_DATOS_PYTHON/informes/_1661_IDCQ_22-08-2025_CALLE DELGADO EDMUNDO_296.pdf',\n",
       " 'G:\\\\OneDrive - Ingenio Azucarero Guabira S.A\\\\_DATOS_PYTHON/informes/_17680_IDCQ_05-08-2025_BALDELOMAR HIDALGO JULIETA_279.docx',\n",
       " 'G:\\\\OneDrive - Ingenio Azucarero Guabira S.A\\\\_DATOS_PYTHON/informes/_17680_IDCQ_05-08-2025_BALDELOMAR HIDALGO JULIETA_279.pdf',\n",
       " 'G:\\\\OneDrive - Ingenio Azucarero Guabira S.A\\\\_DATOS_PYTHON/informes/_18027_CDC_03-09-2025_AGUILERA TARRADELLES GUILLERMO_191.docx',\n",
       " 'G:\\\\OneDrive - Ingenio Azucarero Guabira S.A\\\\_DATOS_PYTHON/informes/_18027_INB_15-08-2025_AGUILERA TARRADELLES GUILLERMO.docx',\n",
       " 'G:\\\\OneDrive - Ingenio Azucarero Guabira S.A\\\\_DATOS_PYTHON/informes/_18027_INB_15-08-2025_AGUILERA TARRADELLES GUILLERMO.pdf',\n",
       " 'G:\\\\OneDrive - Ingenio Azucarero Guabira S.A\\\\_DATOS_PYTHON/informes/_18358_IDCQ_05-09-2025_ROJAS AMELUNGE CARLOS_316.docx',\n",
       " 'G:\\\\OneDrive - Ingenio Azucarero Guabira S.A\\\\_DATOS_PYTHON/informes/_18358_IDCQ_05-09-2025_ROJAS AMELUNGE CARLOS_316.pdf',\n",
       " 'G:\\\\OneDrive - Ingenio Azucarero Guabira S.A\\\\_DATOS_PYTHON/informes/_18358_INB_26-08-2025_ROJAS AMELUNGE CARLOS EDUARDO.docx',\n",
       " 'G:\\\\OneDrive - Ingenio Azucarero Guabira S.A\\\\_DATOS_PYTHON/informes/_18358_INB_26-08-2025_ROJAS AMELUNGE CARLOS EDUARDO.pdf',\n",
       " 'G:\\\\OneDrive - Ingenio Azucarero Guabira S.A\\\\_DATOS_PYTHON/informes/_2029_IDCQ_27-08-2025_COLAMARINO DI SILVIO ANGELO_298.docx',\n",
       " 'G:\\\\OneDrive - Ingenio Azucarero Guabira S.A\\\\_DATOS_PYTHON/informes/_2029_IDCQ_27-08-2025_COLAMARINO DI SILVIO ANGELO_298.pdf',\n",
       " 'G:\\\\OneDrive - Ingenio Azucarero Guabira S.A\\\\_DATOS_PYTHON/informes/_2315_IDCQ_20-08-2025_CORDOVA OLGUIN JUAN CARLOS_294.docx',\n",
       " 'G:\\\\OneDrive - Ingenio Azucarero Guabira S.A\\\\_DATOS_PYTHON/informes/_2315_IDCQ_20-08-2025_CORDOVA OLGUIN JUAN CARLOS_294.pdf',\n",
       " 'G:\\\\OneDrive - Ingenio Azucarero Guabira S.A\\\\_DATOS_PYTHON/informes/_2446_IDCQ_11-08-2025_CORDOVA SEJAS ALCIDES_281.docx',\n",
       " 'G:\\\\OneDrive - Ingenio Azucarero Guabira S.A\\\\_DATOS_PYTHON/informes/_2446_IDCQ_11-08-2025_CORDOVA SEJAS ALCIDES_281.pdf',\n",
       " 'G:\\\\OneDrive - Ingenio Azucarero Guabira S.A\\\\_DATOS_PYTHON/informes/_2569_ECO_01-08-2025_AGROPECUARIA CUPESI VARGAS SRL._675.docx',\n",
       " 'G:\\\\OneDrive - Ingenio Azucarero Guabira S.A\\\\_DATOS_PYTHON/informes/_2579_IDCQ_17-07-2025_CLAURE OVANDO ELENA_245.docx',\n",
       " 'G:\\\\OneDrive - Ingenio Azucarero Guabira S.A\\\\_DATOS_PYTHON/informes/_2588_IDCQ_25-07-2025_CUELLAR SALAZAR RUDEMBERT_273.docx',\n",
       " 'G:\\\\OneDrive - Ingenio Azucarero Guabira S.A\\\\_DATOS_PYTHON/informes/_2588_IDCQ_25-07-2025_CUELLAR SALAZAR RUDEMBERT_273.pdf',\n",
       " 'G:\\\\OneDrive - Ingenio Azucarero Guabira S.A\\\\_DATOS_PYTHON/informes/_2662_IDCQ_16-07-2025_DON SERAFIN SRL._233.docx',\n",
       " 'G:\\\\OneDrive - Ingenio Azucarero Guabira S.A\\\\_DATOS_PYTHON/informes/_2662_IDCQ_28-08-2025_DON SERAFIN SRL._299.docx',\n",
       " 'G:\\\\OneDrive - Ingenio Azucarero Guabira S.A\\\\_DATOS_PYTHON/informes/_2662_IDCQ_28-08-2025_DON SERAFIN SRL._299.pdf',\n",
       " 'G:\\\\OneDrive - Ingenio Azucarero Guabira S.A\\\\_DATOS_PYTHON/informes/_2824_IDCQ_29-08-2025_DURAN VILLACORTA ALFREDO_300.docx',\n",
       " 'G:\\\\OneDrive - Ingenio Azucarero Guabira S.A\\\\_DATOS_PYTHON/informes/_2824_IDCQ_29-08-2025_DURAN VILLACORTA ALFREDO_300.pdf',\n",
       " 'G:\\\\OneDrive - Ingenio Azucarero Guabira S.A\\\\_DATOS_PYTHON/informes/_30754_IDCQ_05-08-2025_MONTERO FRANCISCA MERCADO VDA DE_278.docx',\n",
       " 'G:\\\\OneDrive - Ingenio Azucarero Guabira S.A\\\\_DATOS_PYTHON/informes/_30754_IDCQ_05-08-2025_MONTERO FRANCISCA MERCADO VDA DE_278.pdf',\n",
       " 'G:\\\\OneDrive - Ingenio Azucarero Guabira S.A\\\\_DATOS_PYTHON/informes/_3378_ECO_30-07-2025_ESCOBAR MORATO VICTOR HUGO_673.docx',\n",
       " 'G:\\\\OneDrive - Ingenio Azucarero Guabira S.A\\\\_DATOS_PYTHON/informes/_3378_ECO_30-07-2025_ESCOBAR MORATO VICTOR HUGO_673.pdf',\n",
       " 'G:\\\\OneDrive - Ingenio Azucarero Guabira S.A\\\\_DATOS_PYTHON/informes/_3430_IDCQ_30-07-2025_ESPINOZA HURTADO RUBEN_274.docx',\n",
       " 'G:\\\\OneDrive - Ingenio Azucarero Guabira S.A\\\\_DATOS_PYTHON/informes/_3430_IDCQ_30-07-2025_ESPINOZA HURTADO RUBEN_274.pdf',\n",
       " 'G:\\\\OneDrive - Ingenio Azucarero Guabira S.A\\\\_DATOS_PYTHON/informes/_3472_IDCQ_11-08-2025_ESPINOZA AGUILAR JOSE MIGUEL_280.docx',\n",
       " 'G:\\\\OneDrive - Ingenio Azucarero Guabira S.A\\\\_DATOS_PYTHON/informes/_3472_IDCQ_11-08-2025_ESPINOZA AGUILAR JOSE MIGUEL_280.pdf',\n",
       " 'G:\\\\OneDrive - Ingenio Azucarero Guabira S.A\\\\_DATOS_PYTHON/informes/_386_IDCQ_16-07-2025_AYALA CESPEDES GREGORIO_234.docx',\n",
       " 'G:\\\\OneDrive - Ingenio Azucarero Guabira S.A\\\\_DATOS_PYTHON/informes/_41534_IDCQ_24-07-2025_CAMPBELL MEDINA FERNANDO WALTER_269.docx',\n",
       " 'G:\\\\OneDrive - Ingenio Azucarero Guabira S.A\\\\_DATOS_PYTHON/informes/_41534_IDCQ_24-07-2025_CAMPBELL MEDINA FERNANDO WALTER_269.pdf',\n",
       " 'G:\\\\OneDrive - Ingenio Azucarero Guabira S.A\\\\_DATOS_PYTHON/informes/_41543_IDCQ_27-08-2025_PORTILLO MAMANI LIDIA_297.docx',\n",
       " 'G:\\\\OneDrive - Ingenio Azucarero Guabira S.A\\\\_DATOS_PYTHON/informes/_41543_IDCQ_27-08-2025_PORTILLO MAMANI LIDIA_297.pdf',\n",
       " 'G:\\\\OneDrive - Ingenio Azucarero Guabira S.A\\\\_DATOS_PYTHON/informes/_41871_IDCQ_19-08-2025_CLAROS RODRIGUEZ EMERSON_290.docx',\n",
       " 'G:\\\\OneDrive - Ingenio Azucarero Guabira S.A\\\\_DATOS_PYTHON/informes/_41871_IDCQ_19-08-2025_CLAROS RODRIGUEZ EMERSON_290.pdf',\n",
       " 'G:\\\\OneDrive - Ingenio Azucarero Guabira S.A\\\\_DATOS_PYTHON/informes/_41954_IDCQ_11-08-2025_EL TARTARO SRL_284.docx',\n",
       " 'G:\\\\OneDrive - Ingenio Azucarero Guabira S.A\\\\_DATOS_PYTHON/informes/_41954_IDCQ_11-08-2025_EL TARTARO SRL_284.pdf',\n",
       " 'G:\\\\OneDrive - Ingenio Azucarero Guabira S.A\\\\_DATOS_PYTHON/informes/_42165_IDCQ_18-07-2025_TORRICO SUAREZ SEBASTIAN_248.docx',\n",
       " 'G:\\\\OneDrive - Ingenio Azucarero Guabira S.A\\\\_DATOS_PYTHON/informes/_42165_IDCQ_18-07-2025_TORRICO SUAREZ SEBASTIAN_248.pdf',\n",
       " 'G:\\\\OneDrive - Ingenio Azucarero Guabira S.A\\\\_DATOS_PYTHON/informes/_42381_IDCQ_19-08-2025_PERALES VARGAS DIANDRA ISABEL_289.docx',\n",
       " 'G:\\\\OneDrive - Ingenio Azucarero Guabira S.A\\\\_DATOS_PYTHON/informes/_42381_IDCQ_19-08-2025_PERALES VARGAS DIANDRA ISABEL_289.pdf',\n",
       " 'G:\\\\OneDrive - Ingenio Azucarero Guabira S.A\\\\_DATOS_PYTHON/informes/_42455_SLCB_21-07-2025_CIA IND. COMERCIAL HNOS. VICENTE S.R.L._CB-2025-20.docx',\n",
       " 'G:\\\\OneDrive - Ingenio Azucarero Guabira S.A\\\\_DATOS_PYTHON/informes/_42465_IDCQ_10-07-2025_RODRIGUEZ CASTRO LIZETH_218.docx',\n",
       " 'G:\\\\OneDrive - Ingenio Azucarero Guabira S.A\\\\_DATOS_PYTHON/informes/_430_IDCQ_14-07-2025_AMURRIO QUINTANILLA FREDDY_220.docx',\n",
       " 'G:\\\\OneDrive - Ingenio Azucarero Guabira S.A\\\\_DATOS_PYTHON/informes/_430_IDCQ_29-08-2025_AMURRIO QUINTANILLA FREDDY_301.docx',\n",
       " 'G:\\\\OneDrive - Ingenio Azucarero Guabira S.A\\\\_DATOS_PYTHON/informes/_430_IDCQ_29-08-2025_AMURRIO QUINTANILLA FREDDY_301.pdf',\n",
       " 'G:\\\\OneDrive - Ingenio Azucarero Guabira S.A\\\\_DATOS_PYTHON/informes/_4615_IDCQ_05-07-2025_GARCIA SOTO PATRICIO_216.docx',\n",
       " 'G:\\\\OneDrive - Ingenio Azucarero Guabira S.A\\\\_DATOS_PYTHON/informes/_4773_IDCQ_17-07-2025_GUZMAN HERBAS JULIAN_243.docx',\n",
       " 'G:\\\\OneDrive - Ingenio Azucarero Guabira S.A\\\\_DATOS_PYTHON/informes/_4882_IDCQ_22-08-2025_GUZMAN MONTANO WILSON_295.docx',\n",
       " 'G:\\\\OneDrive - Ingenio Azucarero Guabira S.A\\\\_DATOS_PYTHON/informes/_4882_IDCQ_22-08-2025_GUZMAN MONTANO WILSON_295.pdf',\n",
       " 'G:\\\\OneDrive - Ingenio Azucarero Guabira S.A\\\\_DATOS_PYTHON/informes/_4914_IDCQ_20-08-2025_GONZALEZ LIMPIAS LUIS ALBERTO_291.docx',\n",
       " 'G:\\\\OneDrive - Ingenio Azucarero Guabira S.A\\\\_DATOS_PYTHON/informes/_4914_IDCQ_20-08-2025_GONZALEZ LIMPIAS LUIS ALBERTO_291.pdf',\n",
       " 'G:\\\\OneDrive - Ingenio Azucarero Guabira S.A\\\\_DATOS_PYTHON/informes/_4915_IDCQ_02-07-2025_GUZMAN YOLANDA COCA DE_215.docx',\n",
       " 'G:\\\\OneDrive - Ingenio Azucarero Guabira S.A\\\\_DATOS_PYTHON/informes/_4967_IDCQ_02-07-2025_GUZMAN ALMANZA WILLAN_214.docx',\n",
       " 'G:\\\\OneDrive - Ingenio Azucarero Guabira S.A\\\\_DATOS_PYTHON/informes/_4967_IDCQ_29-08-2025_GUZMAN ALMANZA WILLAN_302.docx',\n",
       " 'G:\\\\OneDrive - Ingenio Azucarero Guabira S.A\\\\_DATOS_PYTHON/informes/_4967_IDCQ_29-08-2025_GUZMAN ALMANZA WILLAN_302.pdf',\n",
       " 'G:\\\\OneDrive - Ingenio Azucarero Guabira S.A\\\\_DATOS_PYTHON/informes/_5011_IDCQ_30-06-2025_FRANCO ARIAS GREGORIO_213.docx',\n",
       " 'G:\\\\OneDrive - Ingenio Azucarero Guabira S.A\\\\_DATOS_PYTHON/informes/_515_ECO_12-07-2025_AGUILERA OLGA RIVERO DE_662.docx',\n",
       " 'G:\\\\OneDrive - Ingenio Azucarero Guabira S.A\\\\_DATOS_PYTHON/informes/_515_IDCQ_01-09-2025_AGUILERA OLGA RIVERO DE_307.docx',\n",
       " 'G:\\\\OneDrive - Ingenio Azucarero Guabira S.A\\\\_DATOS_PYTHON/informes/_515_IDCQ_01-09-2025_AGUILERA OLGA RIVERO DE_307.pdf',\n",
       " 'G:\\\\OneDrive - Ingenio Azucarero Guabira S.A\\\\_DATOS_PYTHON/informes/_515_IDCQ_21-07-2025_AGUILERA OLGA RIVERO DE_258.docx',\n",
       " 'G:\\\\OneDrive - Ingenio Azucarero Guabira S.A\\\\_DATOS_PYTHON/informes/_515_IDCQ_21-07-2025_AGUILERA OLGA RIVERO DE_258.pdf',\n",
       " 'G:\\\\OneDrive - Ingenio Azucarero Guabira S.A\\\\_DATOS_PYTHON/informes/_5333_IDCQ_02-09-2025_HUALLPA AUCACHI PEDRO_310.docx',\n",
       " 'G:\\\\OneDrive - Ingenio Azucarero Guabira S.A\\\\_DATOS_PYTHON/informes/_5333_IDCQ_02-09-2025_HUALLPA AUCACHI PEDRO_310.pdf',\n",
       " 'G:\\\\OneDrive - Ingenio Azucarero Guabira S.A\\\\_DATOS_PYTHON/informes/_5385_IDCQ_01-09-2025_HUANCA CANO MARIA_309.docx',\n",
       " 'G:\\\\OneDrive - Ingenio Azucarero Guabira S.A\\\\_DATOS_PYTHON/informes/_5385_IDCQ_01-09-2025_HUANCA CANO MARIA_309.pdf',\n",
       " 'G:\\\\OneDrive - Ingenio Azucarero Guabira S.A\\\\_DATOS_PYTHON/informes/_5421_IDCQ_23-07-2025_HUBBAUER HOYOS ENRIQUE_261.docx',\n",
       " 'G:\\\\OneDrive - Ingenio Azucarero Guabira S.A\\\\_DATOS_PYTHON/informes/_5421_IDCQ_23-07-2025_HUBBAUER HOYOS ENRIQUE_261.pdf',\n",
       " 'G:\\\\OneDrive - Ingenio Azucarero Guabira S.A\\\\_DATOS_PYTHON/informes/_632_IDCQ_16-07-2025_ACUNA CANO EUGENIO_239.docx',\n",
       " 'G:\\\\OneDrive - Ingenio Azucarero Guabira S.A\\\\_DATOS_PYTHON/informes/_6401_IDCQ_16-07-2025_JALDIN SOTO BRIGIDA_240.docx',\n",
       " 'G:\\\\OneDrive - Ingenio Azucarero Guabira S.A\\\\_DATOS_PYTHON/informes/_6457_IDCQ_21-07-2025_JORDAN TONDELLY RODOLFO_259.docx',\n",
       " 'G:\\\\OneDrive - Ingenio Azucarero Guabira S.A\\\\_DATOS_PYTHON/informes/_6457_IDCQ_21-07-2025_JORDAN TONDELLY RODOLFO_259.pdf',\n",
       " 'G:\\\\OneDrive - Ingenio Azucarero Guabira S.A\\\\_DATOS_PYTHON/informes/_6488_IDCQ_03-09-2025_SUAREZ ACUNA LIMBERT_314.docx',\n",
       " 'G:\\\\OneDrive - Ingenio Azucarero Guabira S.A\\\\_DATOS_PYTHON/informes/_6488_IDCQ_03-09-2025_SUAREZ ACUNA LIMBERT_314.pdf',\n",
       " 'G:\\\\OneDrive - Ingenio Azucarero Guabira S.A\\\\_DATOS_PYTHON/informes/_692_IDCQ_17-07-2025_AMURRIO TAPIA JAIME_244.docx',\n",
       " 'G:\\\\OneDrive - Ingenio Azucarero Guabira S.A\\\\_DATOS_PYTHON/informes/_699_IDCQ_02-09-2025_ACUNA CANO MARIO_313.docx',\n",
       " 'G:\\\\OneDrive - Ingenio Azucarero Guabira S.A\\\\_DATOS_PYTHON/informes/_699_IDCQ_02-09-2025_ACUNA CANO MARIO_313.pdf',\n",
       " 'G:\\\\OneDrive - Ingenio Azucarero Guabira S.A\\\\_DATOS_PYTHON/informes/_765_ECO_19-07-2025_AGROP. CATALA S.R.L._669.docx',\n",
       " 'G:\\\\OneDrive - Ingenio Azucarero Guabira S.A\\\\_DATOS_PYTHON/informes/_765_ECO_19-07-2025_AGROP. CATALA S.R.L._670.docx',\n",
       " 'G:\\\\OneDrive - Ingenio Azucarero Guabira S.A\\\\_DATOS_PYTHON/informes/_765_ECO_26-07-2025_AGROP. CATALA S.R.L._671.docx',\n",
       " 'G:\\\\OneDrive - Ingenio Azucarero Guabira S.A\\\\_DATOS_PYTHON/informes/_765_INB_26-08-2025_AGROP. CATALA S.R.L..docx',\n",
       " 'G:\\\\OneDrive - Ingenio Azucarero Guabira S.A\\\\_DATOS_PYTHON/informes/_765_INB_26-08-2025_AGROP. CATALA S.R.L.pdf',\n",
       " 'G:\\\\OneDrive - Ingenio Azucarero Guabira S.A\\\\_DATOS_PYTHON/informes/_767_IDCQ_20-08-2025_PROSER S.R.L_292.docx',\n",
       " 'G:\\\\OneDrive - Ingenio Azucarero Guabira S.A\\\\_DATOS_PYTHON/informes/_767_IDCQ_20-08-2025_PROSER S.R.L_292.pdf',\n",
       " 'G:\\\\OneDrive - Ingenio Azucarero Guabira S.A\\\\_DATOS_PYTHON/informes/_7820_IDCQ_02-09-2025_LUISAGA ORTIZ ERWIN_312.docx',\n",
       " 'G:\\\\OneDrive - Ingenio Azucarero Guabira S.A\\\\_DATOS_PYTHON/informes/_7820_IDCQ_02-09-2025_LUISAGA ORTIZ ERWIN_312.pdf',\n",
       " 'G:\\\\OneDrive - Ingenio Azucarero Guabira S.A\\\\_DATOS_PYTHON/informes/_7820_IDCQ_14-07-2025_LUISAGA ORTIZ ERWIN_219.docx',\n",
       " 'G:\\\\OneDrive - Ingenio Azucarero Guabira S.A\\\\_DATOS_PYTHON/informes/_7829_IDCQ_16-07-2025_SENA VILLARROEL DANIEL_237.docx',\n",
       " 'G:\\\\OneDrive - Ingenio Azucarero Guabira S.A\\\\_DATOS_PYTHON/informes/_7859_IDCQ_30-08-2025_LINARES ELSA AMURRIO DE_305.docx',\n",
       " 'G:\\\\OneDrive - Ingenio Azucarero Guabira S.A\\\\_DATOS_PYTHON/informes/_7859_IDCQ_30-08-2025_LINARES ELSA AMURRIO DE_305.pdf',\n",
       " 'G:\\\\OneDrive - Ingenio Azucarero Guabira S.A\\\\_DATOS_PYTHON/informes/_7910_IDCQ_16-07-2025_SENA VILLARROEL CRISTOBAL_235.docx',\n",
       " 'G:\\\\OneDrive - Ingenio Azucarero Guabira S.A\\\\_DATOS_PYTHON/informes/_794_CDC_08-07-2025_AGUILERA WENDE MARIANO_177.docx',\n",
       " 'G:\\\\OneDrive - Ingenio Azucarero Guabira S.A\\\\_DATOS_PYTHON/informes/_8009_ECO_11-07-2025_ESPINOZA AGUILAR DAVID_661.docx',\n",
       " 'G:\\\\OneDrive - Ingenio Azucarero Guabira S.A\\\\_DATOS_PYTHON/informes/_8409_IDCQ_16-07-2025_MELENDRES ALDANA JULIO_236.docx',\n",
       " 'G:\\\\OneDrive - Ingenio Azucarero Guabira S.A\\\\_DATOS_PYTHON/informes/_8801_IDCQ_02-09-2025_MERCADO VARGAS REYES_311.docx',\n",
       " 'G:\\\\OneDrive - Ingenio Azucarero Guabira S.A\\\\_DATOS_PYTHON/informes/_8801_IDCQ_02-09-2025_MERCADO VARGAS REYES_311.pdf',\n",
       " 'G:\\\\OneDrive - Ingenio Azucarero Guabira S.A\\\\_DATOS_PYTHON/informes/_8814_IDCQ_01-08-2025_MURIALDO MENDEZ WALTER DANIEL_275.docx',\n",
       " 'G:\\\\OneDrive - Ingenio Azucarero Guabira S.A\\\\_DATOS_PYTHON/informes/_8814_IDCQ_01-08-2025_MURIALDO MENDEZ WALTER DANIEL_275.pdf',\n",
       " 'G:\\\\OneDrive - Ingenio Azucarero Guabira S.A\\\\_DATOS_PYTHON/informes/_8842_ECO_01-08-2025_MUÑOZ SUAREZ HUMBERTO_674.docx',\n",
       " 'G:\\\\OneDrive - Ingenio Azucarero Guabira S.A\\\\_DATOS_PYTHON/informes/_8894_IDCQ_01-09-2025_MORA MIRANDA MARCELO_306.docx',\n",
       " 'G:\\\\OneDrive - Ingenio Azucarero Guabira S.A\\\\_DATOS_PYTHON/informes/_8894_IDCQ_01-09-2025_MORA MIRANDA MARCELO_306.pdf',\n",
       " 'G:\\\\OneDrive - Ingenio Azucarero Guabira S.A\\\\_DATOS_PYTHON/informes/_8910_IDCQ_11-08-2025_MORA MIRANDA WILLAN_283.docx',\n",
       " 'G:\\\\OneDrive - Ingenio Azucarero Guabira S.A\\\\_DATOS_PYTHON/informes/_8910_IDCQ_11-08-2025_MORA MIRANDA WILLAN_283.pdf',\n",
       " 'G:\\\\OneDrive - Ingenio Azucarero Guabira S.A\\\\_DATOS_PYTHON/informes/_9278_IDCQ_30-08-2025_NUNEZ MARTINEZ BRAULIO_304.docx',\n",
       " 'G:\\\\OneDrive - Ingenio Azucarero Guabira S.A\\\\_DATOS_PYTHON/informes/_9278_IDCQ_30-08-2025_NUNEZ MARTINEZ BRAULIO_304.pdf']"
      ]
     },
     "execution_count": 8,
     "metadata": {},
     "output_type": "execute_result"
    }
   ],
   "source": [
    "path = r'' + ruta + '/informes'\n",
    "contenido = os.listdir(path)\n",
    "rutas =[]\n",
    "i = 0\n",
    "for name in contenido:\n",
    "    rutas.append(path + '/' + name)\n",
    "    i+=1\n",
    "\n",
    "print('SE ENCONTRARON ' + str(i) + ' INFORMES')\n",
    "print(len(rutas), 'INFORMES')\n",
    "rutas"
   ]
  },
  {
   "cell_type": "code",
   "execution_count": 9,
   "id": "d488abb2-db78-4d44-9afb-a8400a9d78f7",
   "metadata": {},
   "outputs": [
    {
     "name": "stdout",
     "output_type": "stream",
     "text": [
      "CONVIRTIENDO... INFORME 1 D:\\OneDrive - Ingenio Azucarero Guabira S.A\\_DATOS_PYTHON/informes/5406_CDC_20-06-2023_HURTADO MENDEZ RONALD_44.docx\n",
      "D:\\OneDrive - Ingenio Azucarero Guabira S.A\\_DATOS_PYTHON/informes/5406_CDC_20-06-2023_HURTADO MENDEZ RONALD_44.docx\n",
      "D:\\OneDrive - Ingenio Azucarero Guabira S.A\\_DATOS_PYTHON/pdfs/5406_CDC_20-06-2023_HURTADO MENDEZ RONALD_44.pdf\n"
     ]
    },
    {
     "data": {
      "application/vnd.jupyter.widget-view+json": {
       "model_id": "1c7b26228eab4110963f998b9cbf142b",
       "version_major": 2,
       "version_minor": 0
      },
      "text/plain": [
       "  0%|          | 0/1 [00:00<?, ?it/s]"
      ]
     },
     "metadata": {},
     "output_type": "display_data"
    },
    {
     "name": "stdout",
     "output_type": "stream",
     "text": [
      "END\n"
     ]
    }
   ],
   "source": [
    "i = 1\n",
    "for filename in rutas:\n",
    "    print('CONVIRTIENDO... INFORME ' + str(i) + ' ' + filename)\n",
    "    # se realiza la convrsion pasando parametro de salida y entrada, \n",
    "    # para la salida se reemplaza la extencion y la ruta\n",
    "    print(filename)\n",
    "    print(filename.replace('.docx','.pdf').replace('informes','pdfs'))\n",
    "    pdf = filename.replace('.docx','.pdf').replace('informes','pdfs').split('/')[-1]\n",
    "    convert(filename, r'D:\\OneDrive - Ingenio Azucarero Guabira S.A\\_DATOS_PYTHON\\pdf\\\\' + pdf)\n",
    "    i+=1\n",
    "print('END')"
   ]
  },
  {
   "cell_type": "markdown",
   "id": "8dfa5061-fff6-47f0-a2dc-b0566dc9e075",
   "metadata": {},
   "source": [
    "## Cargar a DRIVE"
   ]
  },
  {
   "cell_type": "code",
   "execution_count": null,
   "id": "b0db9407-902f-49e8-936d-95106fff239b",
   "metadata": {},
   "outputs": [],
   "source": []
  },
  {
   "cell_type": "code",
   "execution_count": null,
   "id": "930e7e11-00c7-4cfe-bb4b-995515972bee",
   "metadata": {},
   "outputs": [],
   "source": []
  },
  {
   "cell_type": "code",
   "execution_count": null,
   "id": "cee05948-d483-4e7f-a21f-6382848ff077",
   "metadata": {},
   "outputs": [],
   "source": []
  }
 ],
 "metadata": {
  "kernelspec": {
   "display_name": "Python 3 (ipykernel)",
   "language": "python",
   "name": "python3"
  },
  "language_info": {
   "codemirror_mode": {
    "name": "ipython",
    "version": 3
   },
   "file_extension": ".py",
   "mimetype": "text/x-python",
   "name": "python",
   "nbconvert_exporter": "python",
   "pygments_lexer": "ipython3",
   "version": "3.10.13"
  }
 },
 "nbformat": 4,
 "nbformat_minor": 5
}
