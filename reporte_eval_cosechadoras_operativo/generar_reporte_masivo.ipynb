{
 "cells": [
  {
   "cell_type": "code",
   "execution_count": 2,
   "id": "a534b6d8-ec90-4de3-ba03-48cfc7036ee6",
   "metadata": {},
   "outputs": [],
   "source": [
    "import sys\n",
    "sys.path.append('../_amigocloud')\n",
    "\n",
    "from werkzeug.wrappers import Request, Response\n",
    "#from flask import Flask, render_template\n",
    "from jinja2 import Template\n",
    "\n",
    "#from datetime import date\n",
    "from datetime import datetime, timedelta\n",
    "\n",
    "import collections\n",
    "from amigocloud import AmigoCloud\n",
    "\n",
    "## REPORTE\n",
    "from docxtpl import DocxTemplate\n",
    "import docxtpl\n",
    "from docx.shared import Mm\n",
    "import requests\n",
    "\n",
    "#from docx2pdf import convert\n",
    "import os"
   ]
  },
  {
   "cell_type": "code",
   "execution_count": 3,
   "id": "b31339f2-d78f-48e3-b653-1e202be82ec1",
   "metadata": {},
   "outputs": [
    {
     "data": {
      "text/plain": [
       "<amigocloud.AmigoCloud at 0x2a40f96f9a0>"
      ]
     },
     "execution_count": 3,
     "metadata": {},
     "output_type": "execute_result"
    }
   ],
   "source": [
    "# ruta de carpera donde estan las llaves\n",
    "ruta = open('../ruta.txt')\n",
    "ruta = ruta.readlines()[0]\n",
    "# leer token\n",
    "acceso = open(ruta + '/_keys/api_amigocloud.key','r')\n",
    "api_token = acceso.readlines()[0]\n",
    "acceso.close()\n",
    "amigocloud = AmigoCloud(token=api_token)\n",
    "amigocloud"
   ]
  },
  {
   "cell_type": "code",
   "execution_count": 4,
   "id": "cb8ea40a-17e9-41b5-8431-6b82c6fbd29a",
   "metadata": {},
   "outputs": [
    {
     "data": {
      "text/plain": [
       "'G:\\\\OneDrive - Ingenio Azucarero Guabira S.A\\\\_DATOS_PYTHON'"
      ]
     },
     "execution_count": 4,
     "metadata": {},
     "output_type": "execute_result"
    }
   ],
   "source": [
    "ruta"
   ]
  },
  {
   "cell_type": "code",
   "execution_count": 5,
   "id": "4facffe4-1720-416a-a1c6-3b9c6a574fa3",
   "metadata": {},
   "outputs": [],
   "source": [
    "def generar_reporte(i):\n",
    "    id_reg = i\n",
    "    \n",
    "    # SELECCIONAR REGISTRO\n",
    "    query = {'query': 'select * from dataset_318090 where id = {id_ca}'.format(id_ca=id_reg)}\n",
    "    project = 'https://app.amigocloud.com/api/v1/projects/33032/sql'\n",
    "    select = amigocloud.get(project, query)\n",
    "    data = select['data'][0]\n",
    "    data['fecha_de_registro'] = datetime.strptime(data['fecha_de_registro'][0:10], '%Y-%m-%d').strftime('%d/%m/%Y')\n",
    "    if data['observaciones'] == None:\n",
    "        data['observaciones']='Sin observaciones'\n",
    "    insp = collections.namedtuple(\"insp\", data.keys())(*data.values())\n",
    "    print('CAÑERO: ' + insp.canhero)\n",
    "    #FOTOS\n",
    "    query_fotos = {'query': 'select source_amigo_id, s3_filename from gallery_49781 where source_amigo_id=\\'{source_amigo_id}\\''.format(source_amigo_id=insp.amigo_id)}\n",
    "    project = 'https://app.amigocloud.com/api/v1/projects/33032/sql'\n",
    "    fotos = amigocloud.get(project, query_fotos)['data']\n",
    "    #fotos = [{'source_amigo_id': 'f8d0380f6a4346479dcc15ceeaaae53a', 's3_filename': 'IMG-20231101-WA0049.jpg'}]\n",
    "    #GENERAR DOCX\n",
    "    doc = DocxTemplate(ruta + \"/templates/tpl_rpt_operador-cosechadora.docx\")\n",
    "    #descargar fotos y generar lista InlineImage\n",
    "    lista_fotos_inline = []\n",
    "    for foto in fotos:\n",
    "        response = requests.get(\"https://www-amigocloud.s3.amazonaws.com/gallery/\" + foto['s3_filename'])\n",
    "        file = open(ruta + '/fotos/' + foto['s3_filename'], \"wb\")\n",
    "        file.write(response.content)\n",
    "        file.close()\n",
    "        lista_fotos_inline.append({'foto': docxtpl.InlineImage(doc, image_descriptor=ruta + '/fotos/' + foto['s3_filename'], width=Mm(60))})\n",
    "\n",
    "    context = {'insp':insp, 'fotos':lista_fotos_inline}\n",
    "\n",
    "    doc.render(context)\n",
    "\n",
    "    # formato de nombre de archivo: \"123_EVC_01-01-2022_NOMBRE\"\n",
    "    cod_nom = insp.canhero.split(' / ')\n",
    "    file_name = ruta + '/informes/_' + str(cod_nom[0]) + '_ECO_' + insp.fecha_de_registro.replace('/','-') + '_' + cod_nom[1] + '_' + str(insp.id)\n",
    "\n",
    "    #doc.save(r'C:\\Users\\UTEA\\OneDrive - Ingenio Azucarero Guabira S.A (2)\\INFORMES\\IMFORMES PARA REVISAR\\\\' + file_name + '.docx')\n",
    "    doc.save(file_name + '.docx')"
   ]
  },
  {
   "cell_type": "code",
   "execution_count": 7,
   "id": "edd00566-61cf-4a75-93bf-d71dad788c68",
   "metadata": {},
   "outputs": [
    {
     "data": {
      "text/plain": [
       "[491, 492]"
      ]
     },
     "execution_count": 7,
     "metadata": {},
     "output_type": "execute_result"
    }
   ],
   "source": [
    "lista_id = list(range(491,493))\n",
    "lista_id"
   ]
  },
  {
   "cell_type": "code",
   "execution_count": 12,
   "id": "5908d9a8-21c0-49f7-a512-6f25b9c8b8a9",
   "metadata": {},
   "outputs": [
    {
     "name": "stdout",
     "output_type": "stream",
     "text": [
      "GENERANDO id = 491\n",
      "CAÑERO: 633 / AGROP. VICENTE ROCA GIL SRL\n",
      "GENERANDO id = 492\n",
      "CAÑERO: 8014 / NAZER PARADA ROBERTO DOMINGO\n",
      "END=====================================\n"
     ]
    }
   ],
   "source": [
    "for i in lista_id:\n",
    "    print('GENERANDO id = ' + str(i))\n",
    "    generar_reporte(i)\n",
    "print('END=====================================')"
   ]
  },
  {
   "cell_type": "code",
   "execution_count": null,
   "id": "df5a12bd-cede-4b2e-b268-ba0e6665146c",
   "metadata": {},
   "outputs": [],
   "source": []
  },
  {
   "cell_type": "code",
   "execution_count": null,
   "id": "9c901db3-477e-480c-bd31-b2f5ee2f9876",
   "metadata": {},
   "outputs": [],
   "source": []
  },
  {
   "cell_type": "code",
   "execution_count": null,
   "id": "20021727-0d05-4d5f-8911-3306544169c5",
   "metadata": {},
   "outputs": [],
   "source": []
  },
  {
   "cell_type": "code",
   "execution_count": null,
   "id": "54db9552-db12-46c5-9fbe-47cf3063d738",
   "metadata": {},
   "outputs": [],
   "source": []
  },
  {
   "cell_type": "code",
   "execution_count": null,
   "id": "8b675413-6bc4-488e-88a7-d10cb24fd0c0",
   "metadata": {},
   "outputs": [],
   "source": []
  },
  {
   "cell_type": "code",
   "execution_count": null,
   "id": "1cf20a66-0eef-4efb-b33e-6d74f57dc054",
   "metadata": {},
   "outputs": [],
   "source": []
  },
  {
   "cell_type": "code",
   "execution_count": null,
   "id": "0972ce03-9121-4282-bc67-f90cc3c5785f",
   "metadata": {},
   "outputs": [],
   "source": []
  },
  {
   "cell_type": "code",
   "execution_count": null,
   "id": "ef0d7663-5af3-47a6-bfb8-c22cde00ab10",
   "metadata": {},
   "outputs": [],
   "source": []
  },
  {
   "cell_type": "code",
   "execution_count": null,
   "id": "78e6c2e8-51d5-4899-b17c-05d8c19933f6",
   "metadata": {},
   "outputs": [],
   "source": []
  },
  {
   "cell_type": "markdown",
   "id": "a33ebb4f-21d9-45fc-bea9-b4487f0525b8",
   "metadata": {},
   "source": [
    "## CONVERTIR A PDF"
   ]
  },
  {
   "cell_type": "code",
   "execution_count": 8,
   "id": "fc153259-8356-49a0-9a0d-a09ff2c83d8b",
   "metadata": {},
   "outputs": [
    {
     "name": "stdout",
     "output_type": "stream",
     "text": [
      "SE ENCONTRARON 4 INFORMES\n",
      "4 INFORMES\n"
     ]
    },
    {
     "data": {
      "text/plain": [
       "['D:\\\\OneDrive - Ingenio Azucarero Guabira S.A\\\\_DATOS_PYTHON/informes/75_ECO_19-06-2023_AGUILERA TARADELLES MARIANO_193.docx',\n",
       " 'D:\\\\OneDrive - Ingenio Azucarero Guabira S.A\\\\_DATOS_PYTHON/informes/8014_ECO_20-06-2023_NAZER PARADA ROBERTO DOMINGO_194.docx',\n",
       " 'D:\\\\OneDrive - Ingenio Azucarero Guabira S.A\\\\_DATOS_PYTHON/informes/805_ECO_19-06-2023_AGROP. TRES HNOS DEL ORIENTE_192.docx',\n",
       " 'D:\\\\OneDrive - Ingenio Azucarero Guabira S.A\\\\_DATOS_PYTHON/informes/86_ECO_19-06-2023_AGUILERA TARADELLES JOSE LUIS_191.docx']"
      ]
     },
     "execution_count": 8,
     "metadata": {},
     "output_type": "execute_result"
    }
   ],
   "source": [
    "path = r'' + ruta + '/informes'\n",
    "contenido = os.listdir(path)\n",
    "rutas =[]\n",
    "i = 0\n",
    "for name in contenido:\n",
    "    rutas.append(path + '/' + name)\n",
    "    i+=1\n",
    "\n",
    "print('SE ENCONTRARON ' + str(i) + ' INFORMES')\n",
    "print(len(rutas), 'INFORMES')\n",
    "rutas"
   ]
  },
  {
   "cell_type": "code",
   "execution_count": 9,
   "id": "537a51b0-a4c2-4ece-a951-dfbc634027d7",
   "metadata": {},
   "outputs": [
    {
     "name": "stdout",
     "output_type": "stream",
     "text": [
      "CONVIRTIENDO... INFORME 1 D:\\OneDrive - Ingenio Azucarero Guabira S.A\\_DATOS_PYTHON/informes/75_ECO_19-06-2023_AGUILERA TARADELLES MARIANO_193.docx\n",
      "D:\\OneDrive - Ingenio Azucarero Guabira S.A\\_DATOS_PYTHON/informes/75_ECO_19-06-2023_AGUILERA TARADELLES MARIANO_193.docx\n",
      "D:\\OneDrive - Ingenio Azucarero Guabira S.A\\_DATOS_PYTHON/pdfs/75_ECO_19-06-2023_AGUILERA TARADELLES MARIANO_193.pdf\n"
     ]
    },
    {
     "data": {
      "application/vnd.jupyter.widget-view+json": {
       "model_id": "7ddb2086e58a4fbb86d51b3c47d3b314",
       "version_major": 2,
       "version_minor": 0
      },
      "text/plain": [
       "  0%|          | 0/1 [00:00<?, ?it/s]"
      ]
     },
     "metadata": {},
     "output_type": "display_data"
    },
    {
     "name": "stdout",
     "output_type": "stream",
     "text": [
      "CONVIRTIENDO... INFORME 2 D:\\OneDrive - Ingenio Azucarero Guabira S.A\\_DATOS_PYTHON/informes/8014_ECO_20-06-2023_NAZER PARADA ROBERTO DOMINGO_194.docx\n",
      "D:\\OneDrive - Ingenio Azucarero Guabira S.A\\_DATOS_PYTHON/informes/8014_ECO_20-06-2023_NAZER PARADA ROBERTO DOMINGO_194.docx\n",
      "D:\\OneDrive - Ingenio Azucarero Guabira S.A\\_DATOS_PYTHON/pdfs/8014_ECO_20-06-2023_NAZER PARADA ROBERTO DOMINGO_194.pdf\n"
     ]
    },
    {
     "data": {
      "application/vnd.jupyter.widget-view+json": {
       "model_id": "e6029b66cdd2416a87c2aadfd4e05a29",
       "version_major": 2,
       "version_minor": 0
      },
      "text/plain": [
       "  0%|          | 0/1 [00:00<?, ?it/s]"
      ]
     },
     "metadata": {},
     "output_type": "display_data"
    },
    {
     "name": "stdout",
     "output_type": "stream",
     "text": [
      "CONVIRTIENDO... INFORME 3 D:\\OneDrive - Ingenio Azucarero Guabira S.A\\_DATOS_PYTHON/informes/805_ECO_19-06-2023_AGROP. TRES HNOS DEL ORIENTE_192.docx\n",
      "D:\\OneDrive - Ingenio Azucarero Guabira S.A\\_DATOS_PYTHON/informes/805_ECO_19-06-2023_AGROP. TRES HNOS DEL ORIENTE_192.docx\n",
      "D:\\OneDrive - Ingenio Azucarero Guabira S.A\\_DATOS_PYTHON/pdfs/805_ECO_19-06-2023_AGROP. TRES HNOS DEL ORIENTE_192.pdf\n"
     ]
    },
    {
     "data": {
      "application/vnd.jupyter.widget-view+json": {
       "model_id": "147cff57ca844c67b613b5980518578a",
       "version_major": 2,
       "version_minor": 0
      },
      "text/plain": [
       "  0%|          | 0/1 [00:00<?, ?it/s]"
      ]
     },
     "metadata": {},
     "output_type": "display_data"
    },
    {
     "name": "stdout",
     "output_type": "stream",
     "text": [
      "CONVIRTIENDO... INFORME 4 D:\\OneDrive - Ingenio Azucarero Guabira S.A\\_DATOS_PYTHON/informes/86_ECO_19-06-2023_AGUILERA TARADELLES JOSE LUIS_191.docx\n",
      "D:\\OneDrive - Ingenio Azucarero Guabira S.A\\_DATOS_PYTHON/informes/86_ECO_19-06-2023_AGUILERA TARADELLES JOSE LUIS_191.docx\n",
      "D:\\OneDrive - Ingenio Azucarero Guabira S.A\\_DATOS_PYTHON/pdfs/86_ECO_19-06-2023_AGUILERA TARADELLES JOSE LUIS_191.pdf\n"
     ]
    },
    {
     "data": {
      "application/vnd.jupyter.widget-view+json": {
       "model_id": "d28f8549315c4b8da6b09cdc9aeaad58",
       "version_major": 2,
       "version_minor": 0
      },
      "text/plain": [
       "  0%|          | 0/1 [00:00<?, ?it/s]"
      ]
     },
     "metadata": {},
     "output_type": "display_data"
    },
    {
     "name": "stdout",
     "output_type": "stream",
     "text": [
      "END\n"
     ]
    }
   ],
   "source": [
    "i = 1\n",
    "for filename in rutas:\n",
    "    print('CONVIRTIENDO... INFORME ' + str(i) + ' ' + filename)\n",
    "    # se realiza la convrsion pasando parametro de salida y entrada, \n",
    "    # para la salida se reemplaza la extencion y la ruta\n",
    "    print(filename)\n",
    "    print(filename.replace('.docx','.pdf').replace('informes','pdfs'))\n",
    "    pdf = filename.replace('.docx','.pdf').replace('informes','pdfs').split('/')[-1]\n",
    "    convert(filename, r'C:\\Users\\UTEA\\Downloads\\\\' + pdf)\n",
    "    i+=1\n",
    "print('END')"
   ]
  },
  {
   "cell_type": "code",
   "execution_count": null,
   "id": "622bb4ac-d02e-4b0c-9b86-1624acefa287",
   "metadata": {},
   "outputs": [],
   "source": []
  },
  {
   "cell_type": "code",
   "execution_count": null,
   "id": "6b2ed4b4-3fb7-43ea-90be-312ba2c7c083",
   "metadata": {},
   "outputs": [],
   "source": []
  },
  {
   "cell_type": "markdown",
   "id": "e3813a4a-a47d-4e39-b7c0-40633cfe0c8d",
   "metadata": {},
   "source": [
    "## CARGAR REPORTES A DRIVE"
   ]
  },
  {
   "cell_type": "code",
   "execution_count": 12,
   "id": "0f138747-90f3-4d89-a317-24af9c666dd8",
   "metadata": {},
   "outputs": [],
   "source": [
    "from docx2pdf import convert\n",
    "import os"
   ]
  },
  {
   "cell_type": "code",
   "execution_count": 13,
   "id": "a8a1ba52-1b9a-450c-b4d0-1f1af9b8ed5a",
   "metadata": {},
   "outputs": [
    {
     "data": {
      "text/plain": [
       "'D:\\\\OneDrive - Ingenio Azucarero Guabira S.A\\\\_DATOS_PYTHON'"
      ]
     },
     "execution_count": 13,
     "metadata": {},
     "output_type": "execute_result"
    }
   ],
   "source": [
    "# ruta de carpera donde estan las llaves\n",
    "ruta = open('../ruta.txt')\n",
    "ruta = ruta.readlines()[0]\n",
    "ruta"
   ]
  },
  {
   "cell_type": "code",
   "execution_count": 14,
   "id": "31425f25-4c73-4607-b359-af99ea35dd01",
   "metadata": {},
   "outputs": [
    {
     "name": "stdout",
     "output_type": "stream",
     "text": [
      "SE ENCONTRARON 46 INFORMES\n",
      "46 INFORMES\n"
     ]
    },
    {
     "data": {
      "text/plain": [
       "['D:\\\\OneDrive - Ingenio Azucarero Guabira S.A\\\\_DATOS_PYTHON/informes_eval_cosechadoras_operativo/10697_ECO_06-07-2023_PAZ REA JAIME EDUARDO_214.pdf',\n",
       " 'D:\\\\OneDrive - Ingenio Azucarero Guabira S.A\\\\_DATOS_PYTHON/informes_eval_cosechadoras_operativo/11171_ECO_09-06-2023_QUIROZ SARAVIA TEODOCIA_188.pdf',\n",
       " 'D:\\\\OneDrive - Ingenio Azucarero Guabira S.A\\\\_DATOS_PYTHON/informes_eval_cosechadoras_operativo/12075_ECO_05-06-2023_ROJAS GONZALES TOMAS_182.pdf',\n",
       " 'D:\\\\OneDrive - Ingenio Azucarero Guabira S.A\\\\_DATOS_PYTHON/informes_eval_cosechadoras_operativo/12075_ECO_06-07-2023_ROJAS GONZALES TOMAS_215.pdf',\n",
       " 'D:\\\\OneDrive - Ingenio Azucarero Guabira S.A\\\\_DATOS_PYTHON/informes_eval_cosechadoras_operativo/12075_ECO_22-05-2023_ROJAS GONZALES TOMAS_168.pdf',\n",
       " 'D:\\\\OneDrive - Ingenio Azucarero Guabira S.A\\\\_DATOS_PYTHON/informes_eval_cosechadoras_operativo/12075_ECO_27-05-2023_ROJAS GONZALES TOMAS_176.pdf',\n",
       " 'D:\\\\OneDrive - Ingenio Azucarero Guabira S.A\\\\_DATOS_PYTHON/informes_eval_cosechadoras_operativo/12478_ECO_19-05-2023_SERRATE COLAMARINO HUGO_166.pdf',\n",
       " 'D:\\\\OneDrive - Ingenio Azucarero Guabira S.A\\\\_DATOS_PYTHON/informes_eval_cosechadoras_operativo/15001_ECO_09-05-2023_VARGAS PINTO RENNY EDWIN_158.pdf',\n",
       " 'D:\\\\OneDrive - Ingenio Azucarero Guabira S.A\\\\_DATOS_PYTHON/informes_eval_cosechadoras_operativo/1979_ECO_08-06-2023_CLAROS CADIMA EDMUNDO_184.pdf',\n",
       " 'D:\\\\OneDrive - Ingenio Azucarero Guabira S.A\\\\_DATOS_PYTHON/informes_eval_cosechadoras_operativo/1979_ECO_08-06-2023_CLAROS CADIMA EDMUNDO_185.pdf',\n",
       " 'D:\\\\OneDrive - Ingenio Azucarero Guabira S.A\\\\_DATOS_PYTHON/informes_eval_cosechadoras_operativo/2816_ECO_04-07-2023_DONOSO BLANCO ALBERTO_211.pdf',\n",
       " 'D:\\\\OneDrive - Ingenio Azucarero Guabira S.A\\\\_DATOS_PYTHON/informes_eval_cosechadoras_operativo/2816_ECO_27-05-2023_DONOSO BLANCO ALBERTO_175.pdf',\n",
       " 'D:\\\\OneDrive - Ingenio Azucarero Guabira S.A\\\\_DATOS_PYTHON/informes_eval_cosechadoras_operativo/2899_ECO_06-05-2023_EGUEZ ELHAGE JOSE EDUARDO_154.pdf',\n",
       " 'D:\\\\OneDrive - Ingenio Azucarero Guabira S.A\\\\_DATOS_PYTHON/informes_eval_cosechadoras_operativo/2899_ECO_06-05-2023_EGUEZ ELHAGE JOSE EDUARDO_155.pdf',\n",
       " 'D:\\\\OneDrive - Ingenio Azucarero Guabira S.A\\\\_DATOS_PYTHON/informes_eval_cosechadoras_operativo/2899_ECO_08-06-2023_EGUEZ ELHAGE JOSE EDUARDO_186.pdf',\n",
       " 'D:\\\\OneDrive - Ingenio Azucarero Guabira S.A\\\\_DATOS_PYTHON/informes_eval_cosechadoras_operativo/2899_ECO_08-06-2023_EGUEZ ELHAGE JOSE EDUARDO_187.pdf',\n",
       " 'D:\\\\OneDrive - Ingenio Azucarero Guabira S.A\\\\_DATOS_PYTHON/informes_eval_cosechadoras_operativo/30035_ECO_16-05-2023_GUTIERREZ AGUILERA WIDEN GUILLER_161.pdf',\n",
       " 'D:\\\\OneDrive - Ingenio Azucarero Guabira S.A\\\\_DATOS_PYTHON/informes_eval_cosechadoras_operativo/3378_ECO_09-05-2023_ESCOBAR MORATO VICTOR HUGO_156.pdf',\n",
       " 'D:\\\\OneDrive - Ingenio Azucarero Guabira S.A\\\\_DATOS_PYTHON/informes_eval_cosechadoras_operativo/3378_ECO_09-05-2023_ESCOBAR MORATO VICTOR HUGO_157.pdf',\n",
       " 'D:\\\\OneDrive - Ingenio Azucarero Guabira S.A\\\\_DATOS_PYTHON/informes_eval_cosechadoras_operativo/3408_ECO_24-05-2023_ESPINOZA TERRAZAS MIGUEL_172.pdf',\n",
       " 'D:\\\\OneDrive - Ingenio Azucarero Guabira S.A\\\\_DATOS_PYTHON/informes_eval_cosechadoras_operativo/3415_ECO_23-05-2023_ESPINOZA VILLEGAS GERARDO_170.pdf',\n",
       " 'D:\\\\OneDrive - Ingenio Azucarero Guabira S.A\\\\_DATOS_PYTHON/informes_eval_cosechadoras_operativo/3421_ECO_19-05-2023_ESPINOZA HURTADO ARMANDO_164.pdf',\n",
       " 'D:\\\\OneDrive - Ingenio Azucarero Guabira S.A\\\\_DATOS_PYTHON/informes_eval_cosechadoras_operativo/388_ECO_17-05-2023_AGROPECUARIA MARIANA S.R.L._163.pdf',\n",
       " 'D:\\\\OneDrive - Ingenio Azucarero Guabira S.A\\\\_DATOS_PYTHON/informes_eval_cosechadoras_operativo/40149_ECO_23-05-2023_PAZ REA JOSE ERNESTO_171.pdf',\n",
       " 'D:\\\\OneDrive - Ingenio Azucarero Guabira S.A\\\\_DATOS_PYTHON/informes_eval_cosechadoras_operativo/4171_ECO_19-05-2023_FRITZER CUELLAR SAMIR EDUARDO_165.pdf',\n",
       " 'D:\\\\OneDrive - Ingenio Azucarero Guabira S.A\\\\_DATOS_PYTHON/informes_eval_cosechadoras_operativo/446_ECO_05-05-2023_AGUILERA ANEZ JHONNY_152.pdf',\n",
       " 'D:\\\\OneDrive - Ingenio Azucarero Guabira S.A\\\\_DATOS_PYTHON/informes_eval_cosechadoras_operativo/5387_ECO_20-06-2023_HURTADO ORTIZ RONALD_195.pdf',\n",
       " 'D:\\\\OneDrive - Ingenio Azucarero Guabira S.A\\\\_DATOS_PYTHON/informes_eval_cosechadoras_operativo/633_ECO_17-05-2023_AGROP. VICENTE ROCA GIL SRL_162.pdf',\n",
       " 'D:\\\\OneDrive - Ingenio Azucarero Guabira S.A\\\\_DATOS_PYTHON/informes_eval_cosechadoras_operativo/75_ECO_05-05-2023_AGUILERA TARADELLES MARIANO_153.pdf',\n",
       " 'D:\\\\OneDrive - Ingenio Azucarero Guabira S.A\\\\_DATOS_PYTHON/informes_eval_cosechadoras_operativo/75_ECO_19-06-2023_AGUILERA TARADELLES MARIANO_193.pdf',\n",
       " 'D:\\\\OneDrive - Ingenio Azucarero Guabira S.A\\\\_DATOS_PYTHON/informes_eval_cosechadoras_operativo/75_ECO_26-05-2023_AGUILERA TARADELLES MARIANO_173.pdf',\n",
       " 'D:\\\\OneDrive - Ingenio Azucarero Guabira S.A\\\\_DATOS_PYTHON/informes_eval_cosechadoras_operativo/75_ECO_26-05-2023_AGUILERA TARADELLES MARIANO_174.pdf',\n",
       " 'D:\\\\OneDrive - Ingenio Azucarero Guabira S.A\\\\_DATOS_PYTHON/informes_eval_cosechadoras_operativo/765_ECO_02-06-2023_AGROP. CATALA S.R.L._178.pdf',\n",
       " 'D:\\\\OneDrive - Ingenio Azucarero Guabira S.A\\\\_DATOS_PYTHON/informes_eval_cosechadoras_operativo/765_ECO_02-06-2023_AGROP. CATALA S.R.L._179.pdf',\n",
       " 'D:\\\\OneDrive - Ingenio Azucarero Guabira S.A\\\\_DATOS_PYTHON/informes_eval_cosechadoras_operativo/765_ECO_02-06-2023_AGROP. CATALA S.R.L._180.pdf',\n",
       " 'D:\\\\OneDrive - Ingenio Azucarero Guabira S.A\\\\_DATOS_PYTHON/informes_eval_cosechadoras_operativo/765_ECO_06-07-2023_AGROP. CATALA S.R.L._213.pdf',\n",
       " 'D:\\\\OneDrive - Ingenio Azucarero Guabira S.A\\\\_DATOS_PYTHON/informes_eval_cosechadoras_operativo/765_ECO_09-05-2023_AGROP. CATALA S.R.L._159.pdf',\n",
       " 'D:\\\\OneDrive - Ingenio Azucarero Guabira S.A\\\\_DATOS_PYTHON/informes_eval_cosechadoras_operativo/765_ECO_09-05-2023_AGROP. CATALA S.R.L._160.pdf',\n",
       " 'D:\\\\OneDrive - Ingenio Azucarero Guabira S.A\\\\_DATOS_PYTHON/informes_eval_cosechadoras_operativo/765_ECO_20-05-2023_AGROP. CATALA S.R.L._167.pdf',\n",
       " 'D:\\\\OneDrive - Ingenio Azucarero Guabira S.A\\\\_DATOS_PYTHON/informes_eval_cosechadoras_operativo/8009_ECO_06-07-2023_ESPINOZA AGUILAR DAVID_216.pdf',\n",
       " 'D:\\\\OneDrive - Ingenio Azucarero Guabira S.A\\\\_DATOS_PYTHON/informes_eval_cosechadoras_operativo/8014_ECO_20-06-2023_NAZER PARADA ROBERTO DOMINGO_194.pdf',\n",
       " 'D:\\\\OneDrive - Ingenio Azucarero Guabira S.A\\\\_DATOS_PYTHON/informes_eval_cosechadoras_operativo/805_ECO_03-07-2023_AGROP. TRES HNOS DEL ORIENTE_210.pdf',\n",
       " 'D:\\\\OneDrive - Ingenio Azucarero Guabira S.A\\\\_DATOS_PYTHON/informes_eval_cosechadoras_operativo/805_ECO_19-06-2023_AGROP. TRES HNOS DEL ORIENTE_192.pdf',\n",
       " 'D:\\\\OneDrive - Ingenio Azucarero Guabira S.A\\\\_DATOS_PYTHON/informes_eval_cosechadoras_operativo/805_ECO_22-05-2023_AGROP. TRES HNOS DEL ORIENTE_169.pdf',\n",
       " 'D:\\\\OneDrive - Ingenio Azucarero Guabira S.A\\\\_DATOS_PYTHON/informes_eval_cosechadoras_operativo/86_ECO_06-06-2023_AGUILERA TARADELLES JOSE LUIS_183.pdf',\n",
       " 'D:\\\\OneDrive - Ingenio Azucarero Guabira S.A\\\\_DATOS_PYTHON/informes_eval_cosechadoras_operativo/86_ECO_19-06-2023_AGUILERA TARADELLES JOSE LUIS_191.pdf']"
      ]
     },
     "execution_count": 14,
     "metadata": {},
     "output_type": "execute_result"
    }
   ],
   "source": [
    "# colocar aqui la ruta de los archivos\n",
    "path = ruta + r'/informes_eval_cosechadoras_operativo'\n",
    "contenido = os.listdir(path)\n",
    "rutas =[]\n",
    "i = 0\n",
    "for name in contenido:\n",
    "    rutas.append(path + '/' + name)\n",
    "    i+=1\n",
    "\n",
    "print('SE ENCONTRARON ' + str(i) + ' INFORMES')\n",
    "print(len(rutas), 'INFORMES')\n",
    "rutas"
   ]
  },
  {
   "cell_type": "code",
   "execution_count": 1,
   "id": "64d870da-789c-43ee-90cb-9b8df43fd2d4",
   "metadata": {},
   "outputs": [
    {
     "name": "stdout",
     "output_type": "stream",
     "text": [
      "Your browser has been opened to visit:\n",
      "\n",
      "    https://accounts.google.com/o/oauth2/auth?client_id=1096764895697-57btfmtn7rdejufct5qq4j9mi61j0unl.apps.googleusercontent.com&redirect_uri=http%3A%2F%2Flocalhost%3A8080%2F&scope=https%3A%2F%2Fwww.googleapis.com%2Fauth%2Fdrive&access_type=offline&response_type=code\n",
      "\n",
      "Authentication successful.\n"
     ]
    }
   ],
   "source": [
    "# CONEXION A GOOGLE DRIVE\n",
    "from pydrive.auth import GoogleAuth\n",
    "from pydrive.drive import GoogleDrive\n",
    "gauth = GoogleAuth()\n",
    "gauth.LocalWebserverAuth() # client_secrets.json need to be in the same directory as the script\n",
    "drive = GoogleDrive(gauth)"
   ]
  },
  {
   "cell_type": "code",
   "execution_count": 3,
   "id": "0184f490-87cf-4faa-b802-72963598331d",
   "metadata": {},
   "outputs": [],
   "source": [
    "import os"
   ]
  },
  {
   "cell_type": "code",
   "execution_count": 4,
   "id": "79c48c8e-6d17-4c4d-81d2-c57c1c157447",
   "metadata": {},
   "outputs": [
    {
     "ename": "NameError",
     "evalue": "name 'ruta' is not defined",
     "output_type": "error",
     "traceback": [
      "\u001b[1;31m---------------------------------------------------------------------------\u001b[0m",
      "\u001b[1;31mNameError\u001b[0m                                 Traceback (most recent call last)",
      "\u001b[1;32m~\\AppData\\Local\\Temp/ipykernel_17988/629278812.py\u001b[0m in \u001b[0;36m<module>\u001b[1;34m\u001b[0m\n\u001b[1;32m----> 1\u001b[1;33m \u001b[0mcontenido\u001b[0m \u001b[1;33m=\u001b[0m \u001b[0mos\u001b[0m\u001b[1;33m.\u001b[0m\u001b[0mlistdir\u001b[0m\u001b[1;33m(\u001b[0m\u001b[0mruta\u001b[0m \u001b[1;33m+\u001b[0m \u001b[1;34mr'/informes_eval_cosechadoras_operativo'\u001b[0m\u001b[1;33m)\u001b[0m\u001b[1;33m\u001b[0m\u001b[1;33m\u001b[0m\u001b[0m\n\u001b[0m\u001b[0;32m      2\u001b[0m \u001b[0mdic_files\u001b[0m \u001b[1;33m=\u001b[0m \u001b[1;33m{\u001b[0m\u001b[1;33m}\u001b[0m\u001b[1;33m\u001b[0m\u001b[1;33m\u001b[0m\u001b[0m\n\u001b[0;32m      3\u001b[0m \u001b[1;32mfor\u001b[0m \u001b[0mfile\u001b[0m \u001b[1;32min\u001b[0m \u001b[0mcontenido\u001b[0m\u001b[1;33m:\u001b[0m\u001b[1;33m\u001b[0m\u001b[1;33m\u001b[0m\u001b[0m\n\u001b[0;32m      4\u001b[0m     \u001b[0msplit\u001b[0m \u001b[1;33m=\u001b[0m \u001b[0mfile\u001b[0m\u001b[1;33m.\u001b[0m\u001b[0msplit\u001b[0m\u001b[1;33m(\u001b[0m\u001b[1;34m'_'\u001b[0m\u001b[1;33m)\u001b[0m\u001b[1;33m\u001b[0m\u001b[1;33m\u001b[0m\u001b[0m\n\u001b[0;32m      5\u001b[0m     \u001b[0mdic_files\u001b[0m\u001b[1;33m[\u001b[0m\u001b[0mint\u001b[0m\u001b[1;33m(\u001b[0m\u001b[0msplit\u001b[0m\u001b[1;33m[\u001b[0m\u001b[1;36m0\u001b[0m\u001b[1;33m]\u001b[0m\u001b[1;33m)\u001b[0m\u001b[1;33m]\u001b[0m \u001b[1;33m=\u001b[0m \u001b[0mfile\u001b[0m\u001b[1;33m\u001b[0m\u001b[1;33m\u001b[0m\u001b[0m\n",
      "\u001b[1;31mNameError\u001b[0m: name 'ruta' is not defined"
     ]
    }
   ],
   "source": [
    "contenido = os.listdir(ruta + r'/informes_eval_cosechadoras_operativo')\n",
    "dic_files = {}\n",
    "for file in contenido:\n",
    "    split = file.split('_')\n",
    "    dic_files[int(split[0])] = file\n",
    "print(len(dic_files), 'informes')\n",
    "dic_files"
   ]
  },
  {
   "cell_type": "code",
   "execution_count": null,
   "id": "2f126b77-cf1d-4dc7-a734-a803dfba2ce6",
   "metadata": {},
   "outputs": [],
   "source": []
  },
  {
   "cell_type": "code",
   "execution_count": null,
   "id": "8b40789c-40fa-4852-8e2f-ff6336b99a8d",
   "metadata": {},
   "outputs": [],
   "source": []
  },
  {
   "cell_type": "code",
   "execution_count": null,
   "id": "502f00a3-deb1-452a-a067-552bb4a517c4",
   "metadata": {},
   "outputs": [],
   "source": []
  },
  {
   "cell_type": "code",
   "execution_count": null,
   "id": "7b5b08ea-eaf6-4304-861f-28e0aea12b2f",
   "metadata": {},
   "outputs": [],
   "source": []
  },
  {
   "cell_type": "code",
   "execution_count": null,
   "id": "0c4f46a8-bb5e-4c05-bbb5-09dd4e4bf831",
   "metadata": {},
   "outputs": [],
   "source": []
  },
  {
   "cell_type": "code",
   "execution_count": null,
   "id": "cec0d1d8-cd50-4e67-a7b0-e1a94503e6e0",
   "metadata": {},
   "outputs": [],
   "source": []
  },
  {
   "cell_type": "code",
   "execution_count": null,
   "id": "c90c5006-9b9a-4f8f-9f7d-77423d5e33a5",
   "metadata": {},
   "outputs": [],
   "source": []
  },
  {
   "cell_type": "code",
   "execution_count": null,
   "id": "115a002b-b1d1-4dc5-9f7c-91396d58f8dc",
   "metadata": {},
   "outputs": [],
   "source": []
  },
  {
   "cell_type": "code",
   "execution_count": null,
   "id": "9a3090b2-ca24-4be2-b8de-2111909066ce",
   "metadata": {},
   "outputs": [],
   "source": []
  },
  {
   "cell_type": "code",
   "execution_count": null,
   "id": "6dfe249b-d6c1-4b69-a010-8a4c01208121",
   "metadata": {},
   "outputs": [],
   "source": []
  }
 ],
 "metadata": {
  "kernelspec": {
   "display_name": "Python 3 (ipykernel)",
   "language": "python",
   "name": "python3"
  },
  "language_info": {
   "codemirror_mode": {
    "name": "ipython",
    "version": 3
   },
   "file_extension": ".py",
   "mimetype": "text/x-python",
   "name": "python",
   "nbconvert_exporter": "python",
   "pygments_lexer": "ipython3",
   "version": "3.10.13"
  }
 },
 "nbformat": 4,
 "nbformat_minor": 5
}
