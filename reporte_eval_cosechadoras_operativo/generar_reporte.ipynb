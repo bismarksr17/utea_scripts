{
 "cells": [
  {
   "cell_type": "code",
   "execution_count": 3,
   "id": "be7246eb-af6a-4a4f-b1bf-5936359182f0",
   "metadata": {},
   "outputs": [],
   "source": [
    "import sys\n",
    "sys.path.append('../_amigocloud')"
   ]
  },
  {
   "cell_type": "code",
   "execution_count": 4,
   "id": "4fab9180-478d-4c86-b8a6-2318cf1af5a6",
   "metadata": {},
   "outputs": [],
   "source": [
    "id_insp = 487"
   ]
  },
  {
   "cell_type": "code",
   "execution_count": 5,
   "id": "16edd055-3434-40bb-846f-f4eb6a4763fa",
   "metadata": {},
   "outputs": [],
   "source": [
    "from werkzeug.wrappers import Request, Response\n",
    "#from flask import Flask, render_template\n",
    "from jinja2 import Template\n",
    "\n",
    "#from datetime import date\n",
    "from datetime import datetime, timedelta\n",
    "\n",
    "import collections\n",
    "from amigocloud import AmigoCloud\n",
    "\n",
    "from datetime import datetime"
   ]
  },
  {
   "cell_type": "code",
   "execution_count": 7,
   "id": "eed768e2-ae70-4669-b72f-62d3f8acfdf3",
   "metadata": {},
   "outputs": [],
   "source": [
    "# ruta de carpera donde estan las llaves\n",
    "ruta = open('../ruta.txt')\n",
    "ruta = ruta.readlines()[0]"
   ]
  },
  {
   "cell_type": "code",
   "execution_count": 10,
   "id": "672b527e-bf7b-4467-9db2-68d9f5363b89",
   "metadata": {},
   "outputs": [
    {
     "data": {
      "text/plain": [
       "<amigocloud.AmigoCloud at 0x255f7e0a080>"
      ]
     },
     "execution_count": 10,
     "metadata": {},
     "output_type": "execute_result"
    }
   ],
   "source": [
    "# leer token\n",
    "acceso = open(ruta + '/_keys/api_amigocloud.key','r')\n",
    "api_token = acceso.readlines()[0]\n",
    "acceso.close()\n",
    "amigocloud = AmigoCloud(token=api_token)\n",
    "amigocloud"
   ]
  },
  {
   "cell_type": "code",
   "execution_count": 11,
   "id": "9d709ca5-5dbb-403a-b223-2ddb17f83d9f",
   "metadata": {},
   "outputs": [
    {
     "ename": "AmigoCloudError",
     "evalue": "400 Client Error: Bad Request for url: https://app.amigocloud.com/api/v1/projects/32082/sql?query=select+%2A+from+dataset_315614+where+id%3D487&token=A%3Acf5xrxU3HgHj9FkLMiY5wW9LBFmvYDQG2TQ5FY\n{\"query\":\"select * from dataset_315614 where id=487\",\"error\":\"relation \\\"dataset_315614\\\" does not exist\"}",
     "output_type": "error",
     "traceback": [
      "\u001b[1;31m---------------------------------------------------------------------------\u001b[0m",
      "\u001b[1;31mHTTPError\u001b[0m                                 Traceback (most recent call last)",
      "File \u001b[1;32m~\\Desktop\\PYTHON\\utea_scripts\\reporte_eval_cosechadoras_operativo\\../_amigocloud\\amigocloud.py:185\u001b[0m, in \u001b[0;36mAmigoCloud.check_for_errors\u001b[1;34m(self, response)\u001b[0m\n\u001b[0;32m    184\u001b[0m \u001b[38;5;28;01mtry\u001b[39;00m:\n\u001b[1;32m--> 185\u001b[0m     \u001b[43mresponse\u001b[49m\u001b[38;5;241;43m.\u001b[39;49m\u001b[43mraise_for_status\u001b[49m\u001b[43m(\u001b[49m\u001b[43m)\u001b[49m\n\u001b[0;32m    186\u001b[0m \u001b[38;5;28;01mexcept\u001b[39;00m requests\u001b[38;5;241m.\u001b[39mexceptions\u001b[38;5;241m.\u001b[39mHTTPError \u001b[38;5;28;01mas\u001b[39;00m exc:\n",
      "File \u001b[1;32m~\\anaconda3\\envs\\utea\\lib\\site-packages\\requests\\models.py:1021\u001b[0m, in \u001b[0;36mResponse.raise_for_status\u001b[1;34m(self)\u001b[0m\n\u001b[0;32m   1020\u001b[0m \u001b[38;5;28;01mif\u001b[39;00m http_error_msg:\n\u001b[1;32m-> 1021\u001b[0m     \u001b[38;5;28;01mraise\u001b[39;00m HTTPError(http_error_msg, response\u001b[38;5;241m=\u001b[39m\u001b[38;5;28mself\u001b[39m)\n",
      "\u001b[1;31mHTTPError\u001b[0m: 400 Client Error: Bad Request for url: https://app.amigocloud.com/api/v1/projects/32082/sql?query=select+%2A+from+dataset_315614+where+id%3D487&token=A%3Acf5xrxU3HgHj9FkLMiY5wW9LBFmvYDQG2TQ5FY",
      "\nDuring handling of the above exception, another exception occurred:\n",
      "\u001b[1;31mAmigoCloudError\u001b[0m                           Traceback (most recent call last)",
      "Cell \u001b[1;32mIn[11], line 4\u001b[0m\n\u001b[0;32m      2\u001b[0m query \u001b[38;5;241m=\u001b[39m {\u001b[38;5;124m'\u001b[39m\u001b[38;5;124mquery\u001b[39m\u001b[38;5;124m'\u001b[39m: \u001b[38;5;124m'\u001b[39m\u001b[38;5;124mselect * from dataset_315614 where id=\u001b[39m\u001b[38;5;132;01m{id_insp}\u001b[39;00m\u001b[38;5;124m'\u001b[39m\u001b[38;5;241m.\u001b[39mformat(id_insp\u001b[38;5;241m=\u001b[39mid_insp)}\n\u001b[0;32m      3\u001b[0m project \u001b[38;5;241m=\u001b[39m \u001b[38;5;124m'\u001b[39m\u001b[38;5;124mhttps://app.amigocloud.com/api/v1/projects/32082/sql\u001b[39m\u001b[38;5;124m'\u001b[39m\n\u001b[1;32m----> 4\u001b[0m select \u001b[38;5;241m=\u001b[39m \u001b[43mamigocloud\u001b[49m\u001b[38;5;241;43m.\u001b[39;49m\u001b[43mget\u001b[49m\u001b[43m(\u001b[49m\u001b[43mproject\u001b[49m\u001b[43m,\u001b[49m\u001b[43m \u001b[49m\u001b[43mquery\u001b[49m\u001b[43m)\u001b[49m\n\u001b[0;32m      5\u001b[0m data \u001b[38;5;241m=\u001b[39m select[\u001b[38;5;124m'\u001b[39m\u001b[38;5;124mdata\u001b[39m\u001b[38;5;124m'\u001b[39m][\u001b[38;5;241m0\u001b[39m]\n\u001b[0;32m      7\u001b[0m data[\u001b[38;5;124m'\u001b[39m\u001b[38;5;124mfecha_de_registro\u001b[39m\u001b[38;5;124m'\u001b[39m] \u001b[38;5;241m=\u001b[39m datetime\u001b[38;5;241m.\u001b[39mstrptime(data[\u001b[38;5;124m'\u001b[39m\u001b[38;5;124mfecha_de_registro\u001b[39m\u001b[38;5;124m'\u001b[39m][\u001b[38;5;241m0\u001b[39m:\u001b[38;5;241m10\u001b[39m], \u001b[38;5;124m'\u001b[39m\u001b[38;5;124m%\u001b[39m\u001b[38;5;124mY-\u001b[39m\u001b[38;5;124m%\u001b[39m\u001b[38;5;124mm-\u001b[39m\u001b[38;5;132;01m%d\u001b[39;00m\u001b[38;5;124m'\u001b[39m)\u001b[38;5;241m.\u001b[39mstrftime(\u001b[38;5;124m'\u001b[39m\u001b[38;5;132;01m%d\u001b[39;00m\u001b[38;5;124m/\u001b[39m\u001b[38;5;124m%\u001b[39m\u001b[38;5;124mm/\u001b[39m\u001b[38;5;124m%\u001b[39m\u001b[38;5;124mY\u001b[39m\u001b[38;5;124m'\u001b[39m)\n",
      "File \u001b[1;32m~\\Desktop\\PYTHON\\utea_scripts\\reporte_eval_cosechadoras_operativo\\../_amigocloud\\amigocloud.py:233\u001b[0m, in \u001b[0;36mAmigoCloud.get\u001b[1;34m(self, url, params, raw, stream, **request_kwargs)\u001b[0m\n\u001b[0;32m    229\u001b[0m     params\u001b[38;5;241m.\u001b[39msetdefault(\u001b[38;5;124m'\u001b[39m\u001b[38;5;124mtoken\u001b[39m\u001b[38;5;124m'\u001b[39m, \u001b[38;5;28mself\u001b[39m\u001b[38;5;241m.\u001b[39m_token)\n\u001b[0;32m    231\u001b[0m response \u001b[38;5;241m=\u001b[39m requests\u001b[38;5;241m.\u001b[39mget(full_url, params\u001b[38;5;241m=\u001b[39mparams, stream\u001b[38;5;241m=\u001b[39mstream,\n\u001b[0;32m    232\u001b[0m                         \u001b[38;5;241m*\u001b[39m\u001b[38;5;241m*\u001b[39mrequest_kwargs)\n\u001b[1;32m--> 233\u001b[0m \u001b[38;5;28;43mself\u001b[39;49m\u001b[38;5;241;43m.\u001b[39;49m\u001b[43mcheck_for_errors\u001b[49m\u001b[43m(\u001b[49m\u001b[43mresponse\u001b[49m\u001b[43m)\u001b[49m  \u001b[38;5;66;03m# Raise exception if something failed\u001b[39;00m\n\u001b[0;32m    235\u001b[0m \u001b[38;5;28;01mif\u001b[39;00m stream:\n\u001b[0;32m    236\u001b[0m     \u001b[38;5;28;01mreturn\u001b[39;00m response\n",
      "File \u001b[1;32m~\\Desktop\\PYTHON\\utea_scripts\\reporte_eval_cosechadoras_operativo\\../_amigocloud\\amigocloud.py:187\u001b[0m, in \u001b[0;36mAmigoCloud.check_for_errors\u001b[1;34m(self, response)\u001b[0m\n\u001b[0;32m    185\u001b[0m     response\u001b[38;5;241m.\u001b[39mraise_for_status()\n\u001b[0;32m    186\u001b[0m \u001b[38;5;28;01mexcept\u001b[39;00m requests\u001b[38;5;241m.\u001b[39mexceptions\u001b[38;5;241m.\u001b[39mHTTPError \u001b[38;5;28;01mas\u001b[39;00m exc:\n\u001b[1;32m--> 187\u001b[0m     \u001b[38;5;28;01mraise\u001b[39;00m AmigoCloudError(\u001b[38;5;28mstr\u001b[39m(exc), exc\u001b[38;5;241m.\u001b[39mresponse)\n",
      "\u001b[1;31mAmigoCloudError\u001b[0m: 400 Client Error: Bad Request for url: https://app.amigocloud.com/api/v1/projects/32082/sql?query=select+%2A+from+dataset_315614+where+id%3D487&token=A%3Acf5xrxU3HgHj9FkLMiY5wW9LBFmvYDQG2TQ5FY\n{\"query\":\"select * from dataset_315614 where id=487\",\"error\":\"relation \\\"dataset_315614\\\" does not exist\"}"
     ]
    }
   ],
   "source": [
    "# DATOS DE LAS INPECCION\n",
    "query = {'query': 'select * from dataset_315614 where id={id_insp}'.format(id_insp=id_insp)}\n",
    "project = 'https://app.amigocloud.com/api/v1/projects/32082/sql'\n",
    "select = amigocloud.get(project, query)\n",
    "data = select['data'][0]\n",
    "\n",
    "data['fecha_de_registro'] = datetime.strptime(data['fecha_de_registro'][0:10], '%Y-%m-%d').strftime('%d/%m/%Y')\n",
    "#data['fecha_quema'] = datetime.strptime(data['fecha_quema'][0:10], '%Y-%m-%d').strftime('%d/%m/%Y')\n",
    "#data['fecha_inspeccion'] = datetime.strptime(data['fecha_inspeccion'][0:10], '%Y-%m-%d').strftime('%d/%m/%Y')\n",
    "\n",
    "insp = collections.namedtuple(\"insp\", data.keys())(*data.values())\n",
    "print('end')"
   ]
  },
  {
   "cell_type": "code",
   "execution_count": 6,
   "id": "53a8e9e3-0391-4d7b-80cd-c6ed34525a45",
   "metadata": {},
   "outputs": [
    {
     "data": {
      "text/plain": [
       "insp(fecha_de_registro='15/09/2022', amigo_id='8F78C031E2F9448D92F640BE9ED416E5', ubicacion='0101000020E61000007C9ED8FFED924FC02E417AE1274331C0', cod_prop=19, nom_prop='SANTA_BARBARA', cosechadora=None, codigo_maquina='CJ-3', nombre_operador='PATIN AGUILERA', tiempo_experiencia=5, op_01=True, op_02=True, op_03=True, op_04=True, op_05=True, op_06=True, op_07=True, op_08=True, op_09=True, op_10=True, op_11=True, op_12=True, op_13=True, op_14=False, op_15=True, op_16=True, op_17=True, op_18=True, op_19=True, op_20=True, op_21=True, op_22=False, op_23=True, maq_01=True, maq_02=True, maq_03=True, maq_04=True, maq_05=True, maq_06=True, maq_07=True, maq_08=True, maq_09=True, maq_10=True, maq_11=True, maq_12=True, maq_13=False, canhero='18358 / ROJAS AMELUNGE CARLOS', nota_operador=9.1304347826087, nota_maquina=9.23076923076923, op_01_orientacion='', op_02_orientacion='', op_03_orientacion='', op_04_orientacion='', op_05_orientacion='', op_06_orientacion='', op_07_orientacion='', op_08_orientacion='', op_09_orientacion='', op_10_orientacion='', op_11_orientacion='', op_12_orientacion='', op_13_orientacion='', op_14_orientacion='Operador não está apagando os sistema industrial. Na manobra da colhedora. Foi orientado para que apague os Emplemento ', op_15_orientacion='', op_16_orientacion='', op_17_orientacion='', op_18_orientacion='', op_19_orientacion='', op_20_orientacion='', op_21_orientacion='', op_22_orientacion='Operador não utiliza o copiador de solo porque não está funcionando ', op_23_orientacion='', maq_01_orientacion='', maq_02_orientacion='', maq_03_orientacion='', maq_04_orientacion='', maq_05_orientacion='', maq_06_orientacion='', maq_07_orientacion='', maq_08_orientacion='', maq_09_orientacion='', maq_10_orientacion='', maq_11_orientacion='', maq_12_orientacion='', maq_13_orientacion='Não tem copiador de solo. ', observaciones='', id=107, inspeccion='3RA', link_informe=None, link_editable=None, frente=5, operador_valido=True, maquina_valida=True, maquina_cosechadora='JOHN DEERE', modelo_maquina='CH3520')"
      ]
     },
     "execution_count": 6,
     "metadata": {},
     "output_type": "execute_result"
    }
   ],
   "source": [
    "insp"
   ]
  },
  {
   "cell_type": "code",
   "execution_count": 7,
   "id": "ba441713-42f9-4e64-863e-ac8773d563d8",
   "metadata": {},
   "outputs": [],
   "source": [
    "query_fotos = {'query': 'select source_amigo_id, s3_filename from gallery_43414 where source_amigo_id=\\'{source_amigo_id}\\''.format(source_amigo_id=insp.amigo_id)}\n",
    "project = 'https://app.amigocloud.com/api/v1/projects/32082/sql'\n",
    "fotos = amigocloud.get(project, query_fotos)['data']\n",
    "\n",
    "#if fotos_filename['data'] != []:\n",
    "#    dic = {'lote': lote.lote, 'file_name': fotos_filename['data'][0]['s3_filename']}\n",
    "#    fotos.append(dic)\n",
    "\n",
    "#fotos"
   ]
  },
  {
   "cell_type": "code",
   "execution_count": 8,
   "id": "54835857-db79-43de-ae7f-6ca1f453275a",
   "metadata": {
    "tags": []
   },
   "outputs": [
    {
     "data": {
      "text/plain": [
       "[{'source_amigo_id': '8F78C031E2F9448D92F640BE9ED416E5',\n",
       "  's3_filename': 'IMG_0568.jpeg'},\n",
       " {'source_amigo_id': '8F78C031E2F9448D92F640BE9ED416E5',\n",
       "  's3_filename': 'IMG_0566_3xTtgpy.jpeg'},\n",
       " {'source_amigo_id': '8F78C031E2F9448D92F640BE9ED416E5',\n",
       "  's3_filename': 'IMG_0569_8XnkT5p.jpeg'}]"
      ]
     },
     "execution_count": 8,
     "metadata": {},
     "output_type": "execute_result"
    }
   ],
   "source": [
    "fotos"
   ]
  },
  {
   "cell_type": "code",
   "execution_count": 9,
   "id": "c25dc919-ce71-43f2-9463-3bb335d23e2d",
   "metadata": {},
   "outputs": [],
   "source": [
    "from docxtpl import DocxTemplate\n",
    "import docxtpl\n",
    "from docx.shared import Mm\n",
    "import requests\n",
    "\n",
    "\n",
    "doc = DocxTemplate(\"templates/01_template_operador.docx\")\n",
    "\n",
    "#descargar fotos y generar lista InlineImage\n",
    "\n",
    "lista_fotos_inline = []\n",
    "for foto in fotos:\n",
    "    #response = requests.get(\"https://www-amigocloud.s3.amazonaws.com/gallery/\" + foto['file_name'])\n",
    "    response = requests.get(\"https://www-amigocloud.s3.amazonaws.com/gallery/\" + foto['s3_filename'])\n",
    "    file = open('fotos/' + foto['s3_filename'], \"wb\")\n",
    "    file.write(response.content)\n",
    "    file.close()\n",
    "    lista_fotos_inline.append({'foto': docxtpl.InlineImage(doc, image_descriptor='fotos/' + foto['s3_filename'], width=Mm(50))})\n",
    "\n",
    "context = {'insp':insp, 'fotos':lista_fotos_inline}\n",
    "\n",
    "doc.render(context)\n",
    "\n",
    "# formato de nombre de archivo: \"123_CQ_01-01-2022_NOMBRE\"\n",
    "cod_nom = insp.canhero.split(' / ')\n",
    "file_name = cod_nom[0] + '_EVC_' + insp.fecha_de_registro.replace('/','-') + '_' + cod_nom[1] + '_' + str(insp.id)\n",
    "\n",
    "#doc.save(r'C:\\Users\\UTEA\\OneDrive - Ingenio Azucarero Guabira S.A (2)\\INFORMES\\IMFORMES PARA REVISAR\\\\' + file_name + '.docx')\n",
    "doc.save(r'_' + file_name + '.docx')"
   ]
  },
  {
   "cell_type": "code",
   "execution_count": null,
   "id": "786fdad5-de7a-4dc5-887c-1a704a66865e",
   "metadata": {},
   "outputs": [],
   "source": []
  }
 ],
 "metadata": {
  "kernelspec": {
   "display_name": "Python 3 (ipykernel)",
   "language": "python",
   "name": "python3"
  },
  "language_info": {
   "codemirror_mode": {
    "name": "ipython",
    "version": 3
   },
   "file_extension": ".py",
   "mimetype": "text/x-python",
   "name": "python",
   "nbconvert_exporter": "python",
   "pygments_lexer": "ipython3",
   "version": "3.10.13"
  }
 },
 "nbformat": 4,
 "nbformat_minor": 5
}
