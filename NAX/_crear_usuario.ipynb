{
 "cells": [
  {
   "cell_type": "markdown",
   "id": "5c8408e8-c286-462d-bfd4-01986c6e4fdb",
   "metadata": {},
   "source": [
    "'corporate_id': 57\n",
    "\n",
    "'company': 137\n",
    "\n",
    "'area': 164"
   ]
  },
  {
   "cell_type": "code",
   "execution_count": 5,
   "id": "fdc013f7-94fe-421d-99f4-f6b01d137913",
   "metadata": {},
   "outputs": [],
   "source": [
    "import json\n",
    "import requests\n",
    "import pandas as pd"
   ]
  },
  {
   "cell_type": "code",
   "execution_count": 12,
   "id": "98bd6bd5-ae50-4e6c-b5f7-3d65a874a43e",
   "metadata": {},
   "outputs": [
    {
     "data": {
      "text/plain": [
       "'eyJhbGciOiJIUzI1NiIsInR5cCI6IkpXVCJ9.eyJ0b2tlbl90eXBlIjoiYWNjZXNzIiwiZXhwIjoxNzU3MzU4ODI3LCJpYXQiOjE3NTcyNzI0MjcsImp0aSI6IjcwYjE4MjI3ZTFhMTQxYmFiYTBhODFlYTU3MTg5ODZjIiwidXNlcl9pZCI6MTU2MSwicm9sZSI6ImFkbWluIiwicGVybWlzc2lvbnMiOlsibm90ZS5jcmVhdGUiLCJub3RlLnJlYWQiLCJub3RlLnVwZGF0ZSIsInZhcmlhYmxlX21hcC5jcmVhdGUiLCJ2YXJpYWJsZV9tYXAucmVhZCIsInZhcmlhYmxlX21hcC51cGRhdGUiLCJkYXNoYm9hcmQuY3JlYXRlIiwiZGFzaGJvYXJkLnJlYWQiLCJkYXNoYm9hcmQudXBkYXRlIiwidGFza19sYWJlbC5jcmVhdGUiLCJ0YXNrX2xhYmVsLnJlYWQiLCJ0YXNrX2xhYmVsLnVwZGF0ZSIsImFyZWEuY3JlYXRlIiwiYXJlYS5yZWFkIiwiYXJlYS51cGRhdGUiLCJ0aWxlLmNyZWF0ZSIsInRpbGUucmVhZCIsInRpbGUudXBkYXRlIiwiY29ycG9yYXRlLmNyZWF0ZSIsImNvcnBvcmF0ZS5yZWFkIiwiY29ycG9yYXRlLnVwZGF0ZSIsImxhYm9yYXRvcnkuY3JlYXRlIiwibGFib3JhdG9yeS5yZWFkIiwibGFib3JhdG9yeS51cGRhdGUiLCJjbGltYXRlX3N0YXRpb24uY3JlYXRlIiwiY2xpbWF0ZV9zdGF0aW9uLnJlYWQiLCJjbGltYXRlX3N0YXRpb24udXBkYXRlIiwiY2xpbWF0ZV9zdGF0aW9uX3JlY29yZC5jcmVhdGUiLCJjbGltYXRlX3N0YXRpb25fcmVjb3JkLnJlYWQiLCJjbGltYXRlX3N0YXRpb25fcmVjb3JkLnVwZGF0ZSIsImxlZ2VuZC5jcmVhdGUiLCJsZWdlbmQucmVhZCIsImxlZ2VuZC51cGRhdGUiLCJjYW1wYWlnbi5jcmVhdGUiLCJjYW1wYWlnbi5yZWFkIiwiY2FtcGFpZ24udXBkYXRlIiwic21hcnRfc2FtcGxpbmdzX21hcmtlci5jcmVhdGUiLCJzbWFydF9zYW1wbGluZ3NfbWFya2VyLnJlYWQiLCJzbWFydF9zYW1wbGluZ3NfbWFya2VyLnVwZGF0ZSIsIm1hcmtlci5jcmVhdGUiLCJtYXJrZXIucmVhZCIsIm1hcmtlci51cGRhdGUiLCJjdXJ2ZS5jcmVhdGUiLCJjdXJ2ZS5yZWFkIiwiY3VydmUudXBkYXRlIiwic21hcnRfc2FtcGxpbmdzX3NhbXBsaW5nLmNyZWF0ZSIsInNtYXJ0X3NhbXBsaW5nc19zYW1wbGluZy5yZWFkIiwic21hcnRfc2FtcGxpbmdzX3NhbXBsaW5nLnVwZGF0ZSIsInBsb3QuY3JlYXRlIiwicGxvdC5yZWFkIiwicGxvdC51cGRhdGUiLCJib2FyZC5jcmVhdGUiLCJib2FyZC5yZWFkIiwiYm9hcmQudXBkYXRlIiwidGFzay5jcmVhdGUiLCJ0YXNrLnJlYWQiLCJ0YXNrLnVwZGF0ZSIsInNtYXJ0X3NhbXBsaW5nc19ib2FyZC5jcmVhdGUiLCJzbWFydF9zYW1wbGluZ3NfYm9hcmQucmVhZCIsInNtYXJ0X3NhbXBsaW5nc19ib2FyZC51cGRhdGUiLCJsb3QuY3JlYXRlIiwibG90LnJlYWQiLCJsb3QudXBkYXRlIiwiY29udHJhY3QuY3JlYXRlIiwiY29udHJhY3QucmVhZCIsImNvbnRyYWN0LnVwZGF0ZSIsIm9wZXJhdGlvbi5jcmVhdGUiLCJvcGVyYXRpb24ucmVhZCIsIm9wZXJhdGlvbi51cGRhdGUiLCJiYWNrZ3JvdW5kX3Rhc2suY3JlYXRlIiwiYmFja2dyb3VuZF90YXNrLnJlYWQiLCJiYWNrZ3JvdW5kX3Rhc2sudXBkYXRlIiwiY29tcGFueS5jcmVhdGUiLCJjb21wYW55LnJlYWQiLCJjb21wYW55LnVwZGF0ZSIsInRhc2tfc3VibWlzc2lvbi5jcmVhdGUiLCJ0YXNrX3N1Ym1pc3Npb24ucmVhZCIsInRhc2tfc3VibWlzc2lvbi51cGRhdGUiLCJ1c2VyLmNyZWF0ZSIsInVzZXIucmVhZCIsInVzZXIudXBkYXRlIiwibWFwX2xheWVyLnJlYWQiLCJtYXBfbGF5ZXIuY3JlYXRlIiwibWFwX2xheWVyLnVwZGF0ZSIsInN0YXQucmVhZCIsInN0YXQudXBkYXRlIiwiZG93bmxvYWQuY3JlYXRlIiwiZG93bmxvYWQucmVhZCIsImRvd25sb2FkLnVwZGF0ZSIsInRpY2tldC5jcmVhdGUiXSwiY29ycG9yYXRlX2lkIjo1N30.hHN9xtGQ1Oc3nkXdYwE6JDDf0Z5ESmBcO_UrYHOvObQ'"
      ]
     },
     "execution_count": 12,
     "metadata": {},
     "output_type": "execute_result"
    }
   ],
   "source": [
    "payload = json.dumps(\n",
    "    {\n",
    "        \"password\": \"A123456*\",\n",
    "        \"email\": \"bsocompi@cittca.com.bo\",\n",
    "    }\n",
    ")\n",
    "headers = {\n",
    "    'Content-Type': 'application/json'\n",
    "}\n",
    "response = requests.request(\n",
    "    method=\"POST\", \n",
    "    url=\"https://beta-api.naxsolutions.com/api/v1/token/pair\", \n",
    "    headers=headers, \n",
    "    data=payload\n",
    ")\n",
    "token = response.json()['access']\n",
    "token"
   ]
  },
  {
   "cell_type": "code",
   "execution_count": 19,
   "id": "882ea421-eadc-43ec-8d2c-01dbed1d4f1c",
   "metadata": {},
   "outputs": [],
   "source": [
    "def get_samplings(token: str, campaign_id: int, board_id: int = None,\n",
    "                  sort: str = \"created_at\", direction: str = \"ASC\",\n",
    "                  limit: int = 100, offset: int = 0, extra_filters: dict = None):\n",
    "    \n",
    "    url = \"https://beta-api.naxsolutions.com/api/v1/smart_samplings/samplings\"\n",
    "    headers = {\n",
    "        \"Authorization\": f\"Bearer {token}\"\n",
    "    }\n",
    "\n",
    "    params = {\n",
    "        \"campaign_id\": campaign_id,\n",
    "        \"sort\": sort,\n",
    "        \"direction\": direction,\n",
    "        \"limit\": limit,\n",
    "        \"offset\": offset\n",
    "    }\n",
    "\n",
    "    if board_id:\n",
    "        params[\"board_id\"] = board_id\n",
    "    if extra_filters:\n",
    "        params.update(extra_filters)\n",
    "\n",
    "    response = requests.get(url, headers=headers, params=params)\n",
    "\n",
    "    if response.status_code == 200:\n",
    "        return response.json().get(\"items\", [])\n",
    "    else:\n",
    "        print(f\"Error {response.status_code}: {response.text}\")\n",
    "        return []"
   ]
  },
  {
   "cell_type": "code",
   "execution_count": 20,
   "id": "21a886bc-1d5b-4cad-9a10-d418c6fd3623",
   "metadata": {},
   "outputs": [],
   "source": [
    "campaign_id = 1111\n",
    "board_id = 46\n",
    "samplings = get_samplings(token, campaign_id, board_id)"
   ]
  },
  {
   "cell_type": "code",
   "execution_count": 21,
   "id": "948d52cd-b490-4736-91ca-013a329fb26e",
   "metadata": {},
   "outputs": [
    {
     "data": {
      "text/plain": [
       "145"
      ]
     },
     "execution_count": 21,
     "metadata": {},
     "output_type": "execute_result"
    }
   ],
   "source": [
    "df_samplings = pd.DataFrame(samplings)\n",
    "df_samplings = df_samplings[df_samplings['status'] != 'finished']\n",
    "df_samplings['marker_count'].sum()"
   ]
  },
  {
   "cell_type": "code",
   "execution_count": 22,
   "id": "3ebe14b9-bfcd-49ce-821c-816538825f86",
   "metadata": {},
   "outputs": [
    {
     "data": {
      "text/plain": [
       "51"
      ]
     },
     "execution_count": 22,
     "metadata": {},
     "output_type": "execute_result"
    }
   ],
   "source": [
    "len(df_samplings)"
   ]
  },
  {
   "cell_type": "code",
   "execution_count": 23,
   "id": "1a3959ee-33d2-4c7b-adbe-9adcfb57d574",
   "metadata": {},
   "outputs": [],
   "source": [
    "def get_sampling_by_id(token: str, sampling_id: int):\n",
    "    url = f\"https://beta-api.naxsolutions.com/api/v1/smart_samplings/samplings/{sampling_id}\"\n",
    "    headers = {\n",
    "        \"Authorization\": f\"Bearer {token}\"\n",
    "    }\n",
    "\n",
    "    response = requests.get(url, headers=headers)\n",
    "\n",
    "    if response.status_code == 200:\n",
    "        return response.json()\n",
    "    else:\n",
    "        print(f\"Error {response.status_code}: {response.text}\")\n",
    "        return None"
   ]
  },
  {
   "cell_type": "code",
   "execution_count": 24,
   "id": "b643580e-7e03-4976-9f63-9bc049b9ef81",
   "metadata": {},
   "outputs": [],
   "source": [
    "def parse_sampling_markers(sampling_response):\n",
    "    sampling_id = sampling_response[\"id\"]\n",
    "    markers = sampling_response.get(\"markers\", [])\n",
    "\n",
    "    # Crear una lista de diccionarios con los campos que querés\n",
    "    rows = []\n",
    "    for m in markers:\n",
    "        row = {\n",
    "            \"sampling_id\": sampling_id,\n",
    "            \"marker_id\": m.get(\"id\"),\n",
    "            \"marker_name\": m.get(\"name\"),\n",
    "            \"value\": m.get(\"value\"),\n",
    "            \"lot_id\": m.get(\"lot_id\"),\n",
    "            \"latitude\": m.get(\"latitude\"),\n",
    "            \"longitude\": m.get(\"longitude\"),\n",
    "            \"created_at\": m.get(\"created_at\"),\n",
    "            \"updated_at\": m.get(\"updated_at\"),\n",
    "        }\n",
    "        rows.append(row)\n",
    "\n",
    "    # Convertir en DataFrame\n",
    "    return pd.DataFrame(rows)"
   ]
  },
  {
   "cell_type": "code",
   "execution_count": 25,
   "id": "1625b700-a2b1-4580-8203-e52fbeb5b4f4",
   "metadata": {},
   "outputs": [
    {
     "name": "stdout",
     "output_type": "stream",
     "text": [
      "988\n",
      "989\n",
      "990\n",
      "991\n",
      "992\n",
      "993\n",
      "994\n",
      "995\n",
      "996\n",
      "997\n",
      "998\n",
      "999\n",
      "1000\n",
      "1001\n",
      "1002\n",
      "1003\n",
      "1004\n",
      "1005\n",
      "1006\n",
      "1007\n",
      "1008\n",
      "1009\n",
      "1010\n",
      "1011\n",
      "1012\n",
      "1013\n",
      "1014\n",
      "1015\n",
      "1016\n",
      "1017\n",
      "1018\n",
      "1019\n",
      "1020\n",
      "1021\n",
      "1022\n",
      "1023\n",
      "1024\n",
      "1025\n",
      "1026\n",
      "1027\n",
      "1028\n",
      "1029\n",
      "1030\n",
      "1031\n",
      "1032\n",
      "1072\n",
      "1073\n",
      "1093\n",
      "1094\n",
      "1095\n",
      "1096\n"
     ]
    }
   ],
   "source": [
    "df_res = None\n",
    "for i, row in df_samplings.iterrows():\n",
    "    print(row['id'])\n",
    "    sampling_details = get_sampling_by_id(token, row['id'])\n",
    "    df_markers = parse_sampling_markers(sampling_details)\n",
    "    df_res = pd.concat([df_res, df_markers], axis=0, ignore_index=True)"
   ]
  },
  {
   "cell_type": "code",
   "execution_count": 26,
   "id": "85f3540d-796f-4762-80ba-5ed766514ceb",
   "metadata": {},
   "outputs": [
    {
     "data": {
      "text/html": [
       "<div>\n",
       "<style scoped>\n",
       "    .dataframe tbody tr th:only-of-type {\n",
       "        vertical-align: middle;\n",
       "    }\n",
       "\n",
       "    .dataframe tbody tr th {\n",
       "        vertical-align: top;\n",
       "    }\n",
       "\n",
       "    .dataframe thead th {\n",
       "        text-align: right;\n",
       "    }\n",
       "</style>\n",
       "<table border=\"1\" class=\"dataframe\">\n",
       "  <thead>\n",
       "    <tr style=\"text-align: right;\">\n",
       "      <th></th>\n",
       "      <th>sampling_id</th>\n",
       "      <th>marker_id</th>\n",
       "      <th>marker_name</th>\n",
       "      <th>value</th>\n",
       "      <th>lot_id</th>\n",
       "      <th>latitude</th>\n",
       "      <th>longitude</th>\n",
       "      <th>created_at</th>\n",
       "      <th>updated_at</th>\n",
       "    </tr>\n",
       "  </thead>\n",
       "  <tbody>\n",
       "    <tr>\n",
       "      <th>0</th>\n",
       "      <td>988</td>\n",
       "      <td>210178</td>\n",
       "      <td>1_SAUSALITO-CITTCA8522_00001140000L5.14</td>\n",
       "      <td>0.678398</td>\n",
       "      <td>1849950</td>\n",
       "      <td>-17.223590</td>\n",
       "      <td>-63.367489</td>\n",
       "      <td>2025-04-12T20:55:11.875Z</td>\n",
       "      <td>2025-04-12T20:55:11.875Z</td>\n",
       "    </tr>\n",
       "    <tr>\n",
       "      <th>1</th>\n",
       "      <td>988</td>\n",
       "      <td>210179</td>\n",
       "      <td>2_SAUSALITO-CITTCA8522_00001140000L5.12</td>\n",
       "      <td>0.836963</td>\n",
       "      <td>1850236</td>\n",
       "      <td>-17.221736</td>\n",
       "      <td>-63.374198</td>\n",
       "      <td>2025-04-12T20:55:11.875Z</td>\n",
       "      <td>2025-04-12T20:55:11.875Z</td>\n",
       "    </tr>\n",
       "    <tr>\n",
       "      <th>2</th>\n",
       "      <td>988</td>\n",
       "      <td>210180</td>\n",
       "      <td>3_SAUSALITO-CITTCA8522_00001140000L5.12</td>\n",
       "      <td>0.922213</td>\n",
       "      <td>1850236</td>\n",
       "      <td>-17.220251</td>\n",
       "      <td>-63.373123</td>\n",
       "      <td>2025-04-12T20:55:11.875Z</td>\n",
       "      <td>2025-04-12T20:55:11.875Z</td>\n",
       "    </tr>\n",
       "    <tr>\n",
       "      <th>3</th>\n",
       "      <td>988</td>\n",
       "      <td>210181</td>\n",
       "      <td>4_SAUSALITO-CITTCA8522_00001140000L5.9</td>\n",
       "      <td>0.968073</td>\n",
       "      <td>1850110</td>\n",
       "      <td>-17.218495</td>\n",
       "      <td>-63.367343</td>\n",
       "      <td>2025-04-12T20:55:11.875Z</td>\n",
       "      <td>2025-04-12T20:55:11.875Z</td>\n",
       "    </tr>\n",
       "    <tr>\n",
       "      <th>4</th>\n",
       "      <td>989</td>\n",
       "      <td>210182</td>\n",
       "      <td>1_SAUSALITO-UCG9020_00001140000L3</td>\n",
       "      <td>0.723312</td>\n",
       "      <td>1845627</td>\n",
       "      <td>-17.228845</td>\n",
       "      <td>-63.369960</td>\n",
       "      <td>2025-04-12T21:01:50.313Z</td>\n",
       "      <td>2025-04-12T21:01:50.313Z</td>\n",
       "    </tr>\n",
       "    <tr>\n",
       "      <th>...</th>\n",
       "      <td>...</td>\n",
       "      <td>...</td>\n",
       "      <td>...</td>\n",
       "      <td>...</td>\n",
       "      <td>...</td>\n",
       "      <td>...</td>\n",
       "      <td>...</td>\n",
       "      <td>...</td>\n",
       "      <td>...</td>\n",
       "    </tr>\n",
       "    <tr>\n",
       "      <th>140</th>\n",
       "      <td>1096</td>\n",
       "      <td>210859</td>\n",
       "      <td>2_EL CARMEN CIDRAL-UCG9020_00001840000L24</td>\n",
       "      <td>0.984708</td>\n",
       "      <td>1847468</td>\n",
       "      <td>-17.368518</td>\n",
       "      <td>-63.304422</td>\n",
       "      <td>2025-04-20T22:34:38.547Z</td>\n",
       "      <td>2025-04-20T22:34:38.547Z</td>\n",
       "    </tr>\n",
       "    <tr>\n",
       "      <th>141</th>\n",
       "      <td>1096</td>\n",
       "      <td>210860</td>\n",
       "      <td>3_EL CARMEN CIDRAL-UCG9020_00001840000L24</td>\n",
       "      <td>0.984708</td>\n",
       "      <td>1847468</td>\n",
       "      <td>-17.368743</td>\n",
       "      <td>-63.305722</td>\n",
       "      <td>2025-04-20T22:34:38.547Z</td>\n",
       "      <td>2025-04-20T22:34:38.547Z</td>\n",
       "    </tr>\n",
       "    <tr>\n",
       "      <th>142</th>\n",
       "      <td>1096</td>\n",
       "      <td>210861</td>\n",
       "      <td>4_EL CARMEN CIDRAL-UCG9020_00001840000L30</td>\n",
       "      <td>0.985960</td>\n",
       "      <td>1850472</td>\n",
       "      <td>-17.367095</td>\n",
       "      <td>-63.309939</td>\n",
       "      <td>2025-04-20T22:34:38.547Z</td>\n",
       "      <td>2025-04-20T22:34:38.547Z</td>\n",
       "    </tr>\n",
       "    <tr>\n",
       "      <th>143</th>\n",
       "      <td>1096</td>\n",
       "      <td>210862</td>\n",
       "      <td>5_EL CARMEN CIDRAL-UCG9020_00001840000L35</td>\n",
       "      <td>0.985960</td>\n",
       "      <td>1843438</td>\n",
       "      <td>-17.368405</td>\n",
       "      <td>-63.309821</td>\n",
       "      <td>2025-04-20T22:34:38.547Z</td>\n",
       "      <td>2025-04-20T22:34:38.547Z</td>\n",
       "    </tr>\n",
       "    <tr>\n",
       "      <th>144</th>\n",
       "      <td>1096</td>\n",
       "      <td>210863</td>\n",
       "      <td>6_EL CARMEN CIDRAL-UCG9020_00001840000L35</td>\n",
       "      <td>0.985960</td>\n",
       "      <td>1843438</td>\n",
       "      <td>-17.369705</td>\n",
       "      <td>-63.309542</td>\n",
       "      <td>2025-04-20T22:34:38.547Z</td>\n",
       "      <td>2025-04-20T22:34:38.547Z</td>\n",
       "    </tr>\n",
       "  </tbody>\n",
       "</table>\n",
       "<p>145 rows × 9 columns</p>\n",
       "</div>"
      ],
      "text/plain": [
       "     sampling_id  marker_id                                marker_name  \\\n",
       "0            988     210178    1_SAUSALITO-CITTCA8522_00001140000L5.14   \n",
       "1            988     210179    2_SAUSALITO-CITTCA8522_00001140000L5.12   \n",
       "2            988     210180    3_SAUSALITO-CITTCA8522_00001140000L5.12   \n",
       "3            988     210181     4_SAUSALITO-CITTCA8522_00001140000L5.9   \n",
       "4            989     210182          1_SAUSALITO-UCG9020_00001140000L3   \n",
       "..           ...        ...                                        ...   \n",
       "140         1096     210859  2_EL CARMEN CIDRAL-UCG9020_00001840000L24   \n",
       "141         1096     210860  3_EL CARMEN CIDRAL-UCG9020_00001840000L24   \n",
       "142         1096     210861  4_EL CARMEN CIDRAL-UCG9020_00001840000L30   \n",
       "143         1096     210862  5_EL CARMEN CIDRAL-UCG9020_00001840000L35   \n",
       "144         1096     210863  6_EL CARMEN CIDRAL-UCG9020_00001840000L35   \n",
       "\n",
       "        value   lot_id   latitude  longitude                created_at  \\\n",
       "0    0.678398  1849950 -17.223590 -63.367489  2025-04-12T20:55:11.875Z   \n",
       "1    0.836963  1850236 -17.221736 -63.374198  2025-04-12T20:55:11.875Z   \n",
       "2    0.922213  1850236 -17.220251 -63.373123  2025-04-12T20:55:11.875Z   \n",
       "3    0.968073  1850110 -17.218495 -63.367343  2025-04-12T20:55:11.875Z   \n",
       "4    0.723312  1845627 -17.228845 -63.369960  2025-04-12T21:01:50.313Z   \n",
       "..        ...      ...        ...        ...                       ...   \n",
       "140  0.984708  1847468 -17.368518 -63.304422  2025-04-20T22:34:38.547Z   \n",
       "141  0.984708  1847468 -17.368743 -63.305722  2025-04-20T22:34:38.547Z   \n",
       "142  0.985960  1850472 -17.367095 -63.309939  2025-04-20T22:34:38.547Z   \n",
       "143  0.985960  1843438 -17.368405 -63.309821  2025-04-20T22:34:38.547Z   \n",
       "144  0.985960  1843438 -17.369705 -63.309542  2025-04-20T22:34:38.547Z   \n",
       "\n",
       "                   updated_at  \n",
       "0    2025-04-12T20:55:11.875Z  \n",
       "1    2025-04-12T20:55:11.875Z  \n",
       "2    2025-04-12T20:55:11.875Z  \n",
       "3    2025-04-12T20:55:11.875Z  \n",
       "4    2025-04-12T21:01:50.313Z  \n",
       "..                        ...  \n",
       "140  2025-04-20T22:34:38.547Z  \n",
       "141  2025-04-20T22:34:38.547Z  \n",
       "142  2025-04-20T22:34:38.547Z  \n",
       "143  2025-04-20T22:34:38.547Z  \n",
       "144  2025-04-20T22:34:38.547Z  \n",
       "\n",
       "[145 rows x 9 columns]"
      ]
     },
     "execution_count": 26,
     "metadata": {},
     "output_type": "execute_result"
    }
   ],
   "source": [
    "df_res"
   ]
  },
  {
   "cell_type": "code",
   "execution_count": null,
   "id": "c8fe2422-08eb-4a2a-b445-4cd182b715c3",
   "metadata": {},
   "outputs": [],
   "source": []
  },
  {
   "cell_type": "code",
   "execution_count": null,
   "id": "8dfd5b1c-2c28-46cc-a8ec-55d5aec5e32c",
   "metadata": {},
   "outputs": [],
   "source": []
  },
  {
   "cell_type": "code",
   "execution_count": 27,
   "id": "4ddde3b2-846b-4337-b643-36e348fa4aab",
   "metadata": {},
   "outputs": [],
   "source": [
    "import geopandas as gpd\n",
    "from shapely.geometry import Point"
   ]
  },
  {
   "cell_type": "code",
   "execution_count": 28,
   "id": "3dc04123-95c1-43a5-be49-61373e59c8ce",
   "metadata": {},
   "outputs": [],
   "source": [
    "# Crear geometría de puntos desde lat/lon\n",
    "geometry = [Point(xy) for xy in zip(df_res[\"longitude\"], df_res[\"latitude\"])]\n",
    "\n",
    "# Crear GeoDataFrame con sistema de coordenadas WGS84\n",
    "gdf = gpd.GeoDataFrame(df_res, geometry=geometry, crs=\"EPSG:4326\")"
   ]
  },
  {
   "cell_type": "code",
   "execution_count": 29,
   "id": "1eee4baa-4830-4bc8-8322-beaf6be05fbd",
   "metadata": {},
   "outputs": [],
   "source": [
    "gdf_utm = gdf.to_crs(epsg=32720)"
   ]
  },
  {
   "cell_type": "code",
   "execution_count": 30,
   "id": "c2721fd8-c19c-4aa0-a43e-292765f1100c",
   "metadata": {},
   "outputs": [
    {
     "name": "stderr",
     "output_type": "stream",
     "text": [
      "C:\\Users\\bismarksr\\AppData\\Local\\Temp\\ipykernel_31288\\992117271.py:2: UserWarning: Column names longer than 10 characters will be truncated when saved to ESRI Shapefile.\n",
      "  gdf_utm.to_file(output_path, driver='ESRI Shapefile')\n"
     ]
    }
   ],
   "source": [
    "output_path = \"muestreos.shp\"\n",
    "gdf_utm.to_file(output_path, driver='ESRI Shapefile')"
   ]
  },
  {
   "cell_type": "code",
   "execution_count": null,
   "id": "29152d58-d704-48a6-b601-8a3a007c53f4",
   "metadata": {},
   "outputs": [],
   "source": []
  },
  {
   "cell_type": "code",
   "execution_count": null,
   "id": "00f00999-14f8-4110-ba3e-14426e308a51",
   "metadata": {},
   "outputs": [],
   "source": []
  },
  {
   "cell_type": "code",
   "execution_count": null,
   "id": "6cc3f9c7-33f0-4e77-af4e-beee0f0ac737",
   "metadata": {},
   "outputs": [],
   "source": []
  }
 ],
 "metadata": {
  "kernelspec": {
   "display_name": "Python 3 (ipykernel)",
   "language": "python",
   "name": "python3"
  },
  "language_info": {
   "codemirror_mode": {
    "name": "ipython",
    "version": 3
   },
   "file_extension": ".py",
   "mimetype": "text/x-python",
   "name": "python",
   "nbconvert_exporter": "python",
   "pygments_lexer": "ipython3",
   "version": "3.10.13"
  }
 },
 "nbformat": 4,
 "nbformat_minor": 5
}
