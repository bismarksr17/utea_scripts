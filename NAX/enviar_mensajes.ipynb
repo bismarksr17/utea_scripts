{
 "cells": [
  {
   "cell_type": "code",
   "execution_count": 1,
   "id": "85a0dd89-000a-426d-b24f-c6bab71f0438",
   "metadata": {},
   "outputs": [],
   "source": [
    "import pandas as pd\n"
   ]
  },
  {
   "cell_type": "code",
   "execution_count": null,
   "id": "79fb6ee5-602c-43f1-a43f-d55b1df8bdb4",
   "metadata": {},
   "outputs": [],
   "source": []
  },
  {
   "cell_type": "code",
   "execution_count": 84,
   "id": "7e256fff-ded3-4ed1-a3f6-253a122d9700",
   "metadata": {},
   "outputs": [],
   "source": [
    "def sendMessage(para, mensaje):\n",
    "    url = 'http://localhost:3001/lead'\n",
    "    \n",
    "    data = {\n",
    "        \"message\": mensaje,\n",
    "        \"phone\": para\n",
    "    }\n",
    "    headers = {\n",
    "        'Content-Type':'application/json'\n",
    "    }\n",
    "    #print(data)\n",
    "    try:\n",
    "        response = requests.post(url, json=data, headers=headers, timeout=10)\n",
    "        time.sleep(10)  # Pausa de 10 segundos entre cada solicitud\n",
    "        return response\n",
    "    except requests.exceptions.Timeout:\n",
    "        print(f\"Timeout: No se pudo enviar el mensaje a {para} en 20 segundos.\")\n",
    "        return None"
   ]
  },
  {
   "cell_type": "code",
   "execution_count": null,
   "id": "4cf2c92b-fe40-485e-8496-ddd48951e95f",
   "metadata": {},
   "outputs": [],
   "source": []
  },
  {
   "cell_type": "code",
   "execution_count": null,
   "id": "961d6bf2-ff07-4472-b21b-591b793d6b55",
   "metadata": {},
   "outputs": [],
   "source": []
  },
  {
   "cell_type": "code",
   "execution_count": 81,
   "id": "b8f0fcc3-3001-4085-a2c6-3f237cf4d415",
   "metadata": {},
   "outputs": [],
   "source": [
    "# Leer el archivo Excel\n",
    "df = pd.read_excel(r'C:\\Documents\\OneDrive - Ingenio Azucarero Guabira S.A\\UTEA_2024\\TRABAJOS\\2024-10-29_ANOMALIAS/lista.xlsx', sheet_name='data2')"
   ]
  },
  {
   "cell_type": "code",
   "execution_count": 82,
   "id": "05bfffe4-6404-4163-b196-cdd4a9bb2fad",
   "metadata": {},
   "outputs": [],
   "source": [
    "codigos = list(set(df['COD_CA']))"
   ]
  },
  {
   "cell_type": "code",
   "execution_count": null,
   "id": "90041b09-8f29-4f0c-afc7-85a96ac517bb",
   "metadata": {},
   "outputs": [],
   "source": []
  },
  {
   "cell_type": "code",
   "execution_count": 83,
   "id": "7a8e7507-1187-4550-8dab-6f2c13fba1e1",
   "metadata": {},
   "outputs": [
    {
     "name": "stdout",
     "output_type": "stream",
     "text": [
      "78194371\n",
      "78194371\n"
     ]
    }
   ],
   "source": [
    "for cod in codigos:\n",
    "    props = df[df['COD_CA']==cod]\n",
    "    nombre = list(props['NOM_CA'])[0]\n",
    "    cell = list(props['CEL'])[0]\n",
    "    mensaje = f\"🌞 ¡Buenos días, señor(a) {nombre}! \\n\\nEste es un mensaje automático para informarle de las anomalías 📡 detectadas satelitalmente en su propiedad al 28/10/2024. Se han identificado áreas con baja población o fallas 🌱 y zonas con posible maleza 🌾. \\n\\n🔍 Le recomendamos verificar en campo para confirmar estas anomalías y tomar las acciones necesarias. \\n\\nPara asistencia técnica, comuníquese al 📞 78194371 y agende una inspección con uno de nuestros expertos. ¡Estamos aquí para ayudarle! 🚜\"\n",
    "    mensaje2 = '''📲 También puede acceder a las anomalías y otras imágenes satelitales de su propiedad a través de nuestra app AGRO-CITTCA. \n",
    "\\n🔗 APP: https://play.google.com/store/apps/details?id=com.dima.guabira\n",
    "🌐 Sitio Web: https://agro.cittca.com.bo/\n",
    "\\nPara solicitar su usuario y contraseña, contáctenos al 📞 78194371 y acceda a la tecnología que impulsa su campo 🚀.'''\n",
    "    planos = list(props['link'])\n",
    "    print(cell)\n",
    "    sendMessage(cell, mensaje)\n",
    "    for i in planos:\n",
    "        sendMessage(cell, i)\n",
    "    sendMessage(cell, mensaje2)"
   ]
  },
  {
   "cell_type": "code",
   "execution_count": null,
   "id": "a2db4510-6e4d-4c83-b817-e950269429e3",
   "metadata": {},
   "outputs": [],
   "source": []
  },
  {
   "cell_type": "code",
   "execution_count": null,
   "id": "393ac1f9-6bc6-4cb5-a874-baa3236ef89e",
   "metadata": {},
   "outputs": [],
   "source": []
  },
  {
   "cell_type": "code",
   "execution_count": null,
   "id": "fb7075f9-48a8-4a38-8c6e-065636b8ee5f",
   "metadata": {},
   "outputs": [],
   "source": []
  },
  {
   "cell_type": "code",
   "execution_count": null,
   "id": "8cad9706-e206-4654-9b4c-89b273c0013c",
   "metadata": {},
   "outputs": [],
   "source": []
  },
  {
   "cell_type": "code",
   "execution_count": 18,
   "id": "86e9f5f1-e845-4b3c-8db6-d93bb83c69f2",
   "metadata": {},
   "outputs": [],
   "source": [
    "props = df[df['COD_CA']==75]"
   ]
  },
  {
   "cell_type": "code",
   "execution_count": 19,
   "id": "250551c7-57cc-4f99-a9af-2311802ab946",
   "metadata": {},
   "outputs": [
    {
     "data": {
      "text/html": [
       "<div>\n",
       "<style scoped>\n",
       "    .dataframe tbody tr th:only-of-type {\n",
       "        vertical-align: middle;\n",
       "    }\n",
       "\n",
       "    .dataframe tbody tr th {\n",
       "        vertical-align: top;\n",
       "    }\n",
       "\n",
       "    .dataframe thead th {\n",
       "        text-align: right;\n",
       "    }\n",
       "</style>\n",
       "<table border=\"1\" class=\"dataframe\">\n",
       "  <thead>\n",
       "    <tr style=\"text-align: right;\">\n",
       "      <th></th>\n",
       "      <th>COD_PROP</th>\n",
       "      <th>COD_CA</th>\n",
       "      <th>NOM_CA</th>\n",
       "      <th>CEL</th>\n",
       "      <th>COD_COS</th>\n",
       "      <th>DELEGADO</th>\n",
       "      <th>link</th>\n",
       "    </tr>\n",
       "  </thead>\n",
       "  <tbody>\n",
       "    <tr>\n",
       "      <th>2</th>\n",
       "      <td>216</td>\n",
       "      <td>75</td>\n",
       "      <td>AGUILERA TARADELLES NELSON MARIANO</td>\n",
       "      <td>72623545</td>\n",
       "      <td>30</td>\n",
       "      <td>AGUILERA TARADELLES NELSON MARIANO</td>\n",
       "      <td>https://drive.google.com/file/d/1G__TP19oel2o4...</td>\n",
       "    </tr>\n",
       "    <tr>\n",
       "      <th>3</th>\n",
       "      <td>217</td>\n",
       "      <td>75</td>\n",
       "      <td>AGUILERA TARADELLES NELSON MARIANO</td>\n",
       "      <td>72623545</td>\n",
       "      <td>30</td>\n",
       "      <td>AGUILERA TARADELLES NELSON MARIANO</td>\n",
       "      <td>https://drive.google.com/file/d/1G__TP19oel2o4...</td>\n",
       "    </tr>\n",
       "  </tbody>\n",
       "</table>\n",
       "</div>"
      ],
      "text/plain": [
       "   COD_PROP  COD_CA                              NOM_CA       CEL  COD_COS  \\\n",
       "2       216      75  AGUILERA TARADELLES NELSON MARIANO  72623545       30   \n",
       "3       217      75  AGUILERA TARADELLES NELSON MARIANO  72623545       30   \n",
       "\n",
       "                             DELEGADO  \\\n",
       "2  AGUILERA TARADELLES NELSON MARIANO   \n",
       "3  AGUILERA TARADELLES NELSON MARIANO   \n",
       "\n",
       "                                                link  \n",
       "2  https://drive.google.com/file/d/1G__TP19oel2o4...  \n",
       "3  https://drive.google.com/file/d/1G__TP19oel2o4...  "
      ]
     },
     "execution_count": 19,
     "metadata": {},
     "output_type": "execute_result"
    }
   ],
   "source": [
    "props"
   ]
  },
  {
   "cell_type": "code",
   "execution_count": 68,
   "id": "2d480ec4-9cf1-43eb-bdcf-a2552c065391",
   "metadata": {},
   "outputs": [],
   "source": [
    "nombre = list(props['NOM_CA'])[0]\n",
    "cell =list(props['NOM_CA'])[0]"
   ]
  },
  {
   "cell_type": "code",
   "execution_count": null,
   "id": "16559263-911a-4633-8a3e-745f0bbf1727",
   "metadata": {},
   "outputs": [],
   "source": []
  },
  {
   "cell_type": "code",
   "execution_count": 56,
   "id": "05b6b5bf-dd8b-4bff-9688-c9925af1e549",
   "metadata": {},
   "outputs": [],
   "source": [
    "mensaje = f\"🌞 ¡Buenos días, señor(a) {nombre}! \\n\\nEste es un mensaje automático para informarle de las anomalías 📡 detectadas satelitalmente en su propiedad al 28/10/2024. Se han identificado áreas con baja población o fallas 🌱 y zonas con posible maleza 🌾. \\n\\n🔍 Le recomendamos verificar en campo para confirmar estas anomalías y tomar las acciones necesarias. \\n\\nPara asistencia técnica, comuníquese al 📞 78194371 y agende una inspección con uno de nuestros expertos. ¡Estamos aquí para ayudarle! 🚜\"\n",
    "\n",
    "mensaje2 = '''📲 También puede acceder a las anomalías y otras imágenes satelitales de su propiedad a través de nuestra app AGRO-CITTCA. \n",
    "\\n🔗 APP: https://play.google.com/store/apps/details?id=com.dima.guabira\n",
    "🌐 Sitio Web: https://agro.cittca.com.bo/\n",
    "\\nPara solicitar su usuario y contraseña, contáctenos al 📞 78194371 y acceda a la tecnología que impulsa su campo 🚀.'''\n"
   ]
  },
  {
   "cell_type": "code",
   "execution_count": 63,
   "id": "bad309a5-e517-4f70-b274-b5080e5a665a",
   "metadata": {},
   "outputs": [],
   "source": [
    "planos = list(props['link'])"
   ]
  },
  {
   "cell_type": "code",
   "execution_count": 64,
   "id": "dc82ceb4-5178-49d3-b92c-3f1f5e5d9dde",
   "metadata": {},
   "outputs": [
    {
     "data": {
      "text/plain": [
       "['https://drive.google.com/file/d/1G__TP19oel2o4MNLlgRSnsxgFlGSzhMJ/view?usp=drivesdk',\n",
       " 'https://drive.google.com/file/d/1G__TP19oel2o4MNLlgRSnsxgFlGSzhMJ/view?usp=drivesdk']"
      ]
     },
     "execution_count": 64,
     "metadata": {},
     "output_type": "execute_result"
    }
   ],
   "source": [
    "planos"
   ]
  }
 ],
 "metadata": {
  "kernelspec": {
   "display_name": "Python 3 (ipykernel)",
   "language": "python",
   "name": "python3"
  },
  "language_info": {
   "codemirror_mode": {
    "name": "ipython",
    "version": 3
   },
   "file_extension": ".py",
   "mimetype": "text/x-python",
   "name": "python",
   "nbconvert_exporter": "python",
   "pygments_lexer": "ipython3",
   "version": "3.10.13"
  }
 },
 "nbformat": 4,
 "nbformat_minor": 5
}
