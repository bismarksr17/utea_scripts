{
 "cells": [
  {
   "cell_type": "code",
   "execution_count": 21,
   "id": "fdde19a1-befd-4fe1-963c-07f39771fbe7",
   "metadata": {},
   "outputs": [],
   "source": [
    "from docx2pdf import convert\n",
    "import os\n",
    "import pandas as pd\n"
   ]
  },
  {
   "cell_type": "code",
   "execution_count": 3,
   "id": "dcd98375-f3a4-4ae8-88ad-a5092ecfbc87",
   "metadata": {},
   "outputs": [
    {
     "name": "stdout",
     "output_type": "stream",
     "text": [
      "SE ENCONTRARON 2 INFORMES\n",
      "2 INFORMES\n"
     ]
    },
    {
     "data": {
      "text/plain": [
       "['C:\\\\Users\\\\bismarksr\\\\Desktop\\\\PLANOS/PROPIEDAD_17.pdf',\n",
       " 'C:\\\\Users\\\\bismarksr\\\\Desktop\\\\PLANOS/PROPIEDAD_30.pdf']"
      ]
     },
     "execution_count": 3,
     "metadata": {},
     "output_type": "execute_result"
    }
   ],
   "source": [
    "# colocar aqui la ruta de los archivos\n",
    "path = r'C:\\Users\\bismarksr\\Desktop\\PLANOS'\n",
    "contenido = os.listdir(path)\n",
    "rutas =[]\n",
    "i = 0\n",
    "for name in contenido:\n",
    "    rutas.append(path + '/' + name)\n",
    "    i+=1\n",
    "\n",
    "print('SE ENCONTRARON ' + str(i) + ' INFORMES')\n",
    "print(len(rutas), 'INFORMES')\n",
    "rutas"
   ]
  },
  {
   "cell_type": "code",
   "execution_count": 5,
   "id": "d0f883a4-cb01-44c7-8084-570eb7e1a263",
   "metadata": {},
   "outputs": [
    {
     "name": "stdout",
     "output_type": "stream",
     "text": [
      "Your browser has been opened to visit:\n",
      "\n",
      "    https://accounts.google.com/o/oauth2/auth?client_id=1096764895697-57btfmtn7rdejufct5qq4j9mi61j0unl.apps.googleusercontent.com&redirect_uri=http%3A%2F%2Flocalhost%3A8080%2F&scope=https%3A%2F%2Fwww.googleapis.com%2Fauth%2Fdrive&access_type=offline&response_type=code\n",
      "\n",
      "Authentication successful.\n"
     ]
    }
   ],
   "source": [
    "# CONEXION A GOOGLE DRIVE\n",
    "from pydrive.auth import GoogleAuth\n",
    "from pydrive.drive import GoogleDrive\n",
    "gauth = GoogleAuth()\n",
    "gauth.LocalWebserverAuth() # client_secrets.json need to be in the same directory as the script\n",
    "drive = GoogleDrive(gauth)"
   ]
  },
  {
   "cell_type": "code",
   "execution_count": 29,
   "id": "d2a249f7-e5db-4548-9a2a-a8d167e9f844",
   "metadata": {},
   "outputs": [
    {
     "name": "stdout",
     "output_type": "stream",
     "text": [
      "2 informes\n"
     ]
    },
    {
     "data": {
      "text/plain": [
       "{'17': 'PROPIEDAD_17.pdf', '30': 'PROPIEDAD_30.pdf'}"
      ]
     },
     "execution_count": 29,
     "metadata": {},
     "output_type": "execute_result"
    }
   ],
   "source": [
    "contenido = os.listdir(path)\n",
    "dic_files = {}\n",
    "for file in contenido:\n",
    "    split1 = file.split('.')    \n",
    "    split2 = split1[0].split('_')\n",
    "    dic_files[str(split2[1])] = file\n",
    "print(len(dic_files), 'informes')\n",
    "dic_files"
   ]
  },
  {
   "cell_type": "code",
   "execution_count": 30,
   "id": "de12df99-0d17-45d4-be38-1bbc399a6786",
   "metadata": {},
   "outputs": [
    {
     "name": "stdout",
     "output_type": "stream",
     "text": [
      "Created file PROPIEDAD_17.pdf with mimeType application/pdf\n",
      "Created file PROPIEDAD_30.pdf with mimeType application/pdf\n",
      "end\n"
     ]
    }
   ],
   "source": [
    "# CARGAR LOS PDFS A GOOGLE DRIVE\n",
    "dic_urls = {}\n",
    "# View all folders and file in your Google Drive\n",
    "fileList = drive.ListFile({'q': \"'root' in parents and trashed=false\"}).GetList()\n",
    "for file in fileList:\n",
    "  #print('Title: %s, ID: %s' % (file['title'], file['id']))\n",
    "  # Get the folder ID that you want\n",
    "  if(file['title'] == \"PLANOS ANOMALIAS\"):\n",
    "      fileID = file['id']\n",
    "\n",
    "for file in dic_files:\n",
    "    file1 = drive.CreateFile({\"mimeType\": \"application/pdf\", \"parents\": [{\"kind\": \"drive#fileLink\", \"id\": fileID}]})\n",
    "    file1['title'] = dic_files[file]\n",
    "    file1.SetContentFile(path + r'/' + dic_files[file])\n",
    "    file1.Upload() # Upload the file.\n",
    "    print('Created file %s with mimeType %s' % (file1['title'], file1['mimeType']))\n",
    "    permission = file1.InsertPermission({\n",
    "                        'type': 'anyone',\n",
    "                        'value': 'anyone',\n",
    "                        'role': 'reader'})\n",
    "    dic_urls[file] = file1['alternateLink']\n",
    "dic_urls\n",
    "print('end')"
   ]
  },
  {
   "cell_type": "code",
   "execution_count": 31,
   "id": "0dfd9da8-25a4-4837-bbb7-bad127a8427e",
   "metadata": {},
   "outputs": [
    {
     "data": {
      "text/plain": [
       "{'17': 'https://drive.google.com/file/d/1G__TP19oel2o4MNLlgRSnsxgFlGSzhMJ/view?usp=drivesdk',\n",
       " '30': 'https://drive.google.com/file/d/193OE-0wsSQ6UZctoZXGzVH3Q673W1n7d/view?usp=drivesdk'}"
      ]
     },
     "execution_count": 31,
     "metadata": {},
     "output_type": "execute_result"
    }
   ],
   "source": [
    "dic_urls"
   ]
  },
  {
   "cell_type": "code",
   "execution_count": 35,
   "id": "751a3b78-5be9-4c31-9c9f-990d302dd3a5",
   "metadata": {},
   "outputs": [],
   "source": [
    "df = pd.DataFrame(list(dic_urls.items()), columns=['ID', 'URL'])\n",
    "\n",
    "# Exportamos el DataFrame a un archivo Excel\n",
    "df.to_excel('ruta_planos.xlsx', index=False)"
   ]
  },
  {
   "cell_type": "code",
   "execution_count": null,
   "id": "962a90be-939c-4f28-868d-b48081363642",
   "metadata": {},
   "outputs": [],
   "source": []
  },
  {
   "cell_type": "code",
   "execution_count": null,
   "id": "5e7bec3e-2c0f-49f9-843a-f02215a5842c",
   "metadata": {},
   "outputs": [],
   "source": []
  },
  {
   "cell_type": "code",
   "execution_count": null,
   "id": "c81ac9fe-8324-465d-87a1-1a0259b01d01",
   "metadata": {},
   "outputs": [],
   "source": []
  }
 ],
 "metadata": {
  "kernelspec": {
   "display_name": "Python 3 (ipykernel)",
   "language": "python",
   "name": "python3"
  },
  "language_info": {
   "codemirror_mode": {
    "name": "ipython",
    "version": 3
   },
   "file_extension": ".py",
   "mimetype": "text/x-python",
   "name": "python",
   "nbconvert_exporter": "python",
   "pygments_lexer": "ipython3",
   "version": "3.10.13"
  }
 },
 "nbformat": 4,
 "nbformat_minor": 5
}
