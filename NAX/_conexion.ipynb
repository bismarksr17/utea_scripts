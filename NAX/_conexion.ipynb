{
 "cells": [
  {
   "cell_type": "code",
   "execution_count": null,
   "id": "823fc02b-537b-42a8-b3bb-62096e7e0f28",
   "metadata": {},
   "outputs": [],
   "source": [
    "'corporate_id': 57\n",
    "'company': 137\n",
    "'area': 164"
   ]
  },
  {
   "cell_type": "code",
   "execution_count": 29,
   "id": "fdc013f7-94fe-421d-99f4-f6b01d137913",
   "metadata": {},
   "outputs": [],
   "source": [
    "import json\n",
    "import requests"
   ]
  },
  {
   "cell_type": "code",
   "execution_count": 66,
   "id": "98bd6bd5-ae50-4e6c-b5f7-3d65a874a43e",
   "metadata": {},
   "outputs": [
    {
     "data": {
      "text/plain": [
       "'eyJhbGciOiJIUzI1NiIsInR5cCI6IkpXVCJ9.eyJ0b2tlbl90eXBlIjoiYWNjZXNzIiwiZXhwIjoxNzQ0NzQ3OTkyLCJpYXQiOjE3NDQ2NjE1OTIsImp0aSI6ImYxMzNlNWU4NGRlMDQwNzFiODA5NjQyN2Y1MDYxOWIxIiwidXNlcl9pZCI6MTU2MSwicm9sZSI6ImFkbWluIiwicGVybWlzc2lvbnMiOlsibm90ZS5jcmVhdGUiLCJub3RlLnJlYWQiLCJub3RlLnVwZGF0ZSIsInZhcmlhYmxlX21hcC5jcmVhdGUiLCJ2YXJpYWJsZV9tYXAucmVhZCIsInZhcmlhYmxlX21hcC51cGRhdGUiLCJkYXNoYm9hcmQuY3JlYXRlIiwiZGFzaGJvYXJkLnJlYWQiLCJkYXNoYm9hcmQudXBkYXRlIiwidGFza19sYWJlbC5jcmVhdGUiLCJ0YXNrX2xhYmVsLnJlYWQiLCJ0YXNrX2xhYmVsLnVwZGF0ZSIsImFyZWEuY3JlYXRlIiwiYXJlYS5yZWFkIiwiYXJlYS51cGRhdGUiLCJ0aWxlLmNyZWF0ZSIsInRpbGUucmVhZCIsInRpbGUudXBkYXRlIiwiY29ycG9yYXRlLmNyZWF0ZSIsImNvcnBvcmF0ZS5yZWFkIiwiY29ycG9yYXRlLnVwZGF0ZSIsImxhYm9yYXRvcnkuY3JlYXRlIiwibGFib3JhdG9yeS5yZWFkIiwibGFib3JhdG9yeS51cGRhdGUiLCJjbGltYXRlX3N0YXRpb24uY3JlYXRlIiwiY2xpbWF0ZV9zdGF0aW9uLnJlYWQiLCJjbGltYXRlX3N0YXRpb24udXBkYXRlIiwiY2xpbWF0ZV9zdGF0aW9uX3JlY29yZC5jcmVhdGUiLCJjbGltYXRlX3N0YXRpb25fcmVjb3JkLnJlYWQiLCJjbGltYXRlX3N0YXRpb25fcmVjb3JkLnVwZGF0ZSIsImxlZ2VuZC5jcmVhdGUiLCJsZWdlbmQucmVhZCIsImxlZ2VuZC51cGRhdGUiLCJjYW1wYWlnbi5jcmVhdGUiLCJjYW1wYWlnbi5yZWFkIiwiY2FtcGFpZ24udXBkYXRlIiwic21hcnRfc2FtcGxpbmdzX21hcmtlci5jcmVhdGUiLCJzbWFydF9zYW1wbGluZ3NfbWFya2VyLnJlYWQiLCJzbWFydF9zYW1wbGluZ3NfbWFya2VyLnVwZGF0ZSIsIm1hcmtlci5jcmVhdGUiLCJtYXJrZXIucmVhZCIsIm1hcmtlci51cGRhdGUiLCJjdXJ2ZS5jcmVhdGUiLCJjdXJ2ZS5yZWFkIiwiY3VydmUudXBkYXRlIiwic21hcnRfc2FtcGxpbmdzX3NhbXBsaW5nLmNyZWF0ZSIsInNtYXJ0X3NhbXBsaW5nc19zYW1wbGluZy5yZWFkIiwic21hcnRfc2FtcGxpbmdzX3NhbXBsaW5nLnVwZGF0ZSIsInBsb3QuY3JlYXRlIiwicGxvdC5yZWFkIiwicGxvdC51cGRhdGUiLCJib2FyZC5jcmVhdGUiLCJib2FyZC5yZWFkIiwiYm9hcmQudXBkYXRlIiwidGFzay5jcmVhdGUiLCJ0YXNrLnJlYWQiLCJ0YXNrLnVwZGF0ZSIsInNtYXJ0X3NhbXBsaW5nc19ib2FyZC5jcmVhdGUiLCJzbWFydF9zYW1wbGluZ3NfYm9hcmQucmVhZCIsInNtYXJ0X3NhbXBsaW5nc19ib2FyZC51cGRhdGUiLCJsb3QuY3JlYXRlIiwibG90LnJlYWQiLCJsb3QudXBkYXRlIiwiY29udHJhY3QuY3JlYXRlIiwiY29udHJhY3QucmVhZCIsImNvbnRyYWN0LnVwZGF0ZSIsIm9wZXJhdGlvbi5jcmVhdGUiLCJvcGVyYXRpb24ucmVhZCIsIm9wZXJhdGlvbi51cGRhdGUiLCJiYWNrZ3JvdW5kX3Rhc2suY3JlYXRlIiwiYmFja2dyb3VuZF90YXNrLnJlYWQiLCJiYWNrZ3JvdW5kX3Rhc2sudXBkYXRlIiwiY29tcGFueS5jcmVhdGUiLCJjb21wYW55LnJlYWQiLCJjb21wYW55LnVwZGF0ZSIsInRhc2tfc3VibWlzc2lvbi5jcmVhdGUiLCJ0YXNrX3N1Ym1pc3Npb24ucmVhZCIsInRhc2tfc3VibWlzc2lvbi51cGRhdGUiLCJ1c2VyLmNyZWF0ZSIsInVzZXIucmVhZCIsInVzZXIudXBkYXRlIiwibWFwX2xheWVyLnJlYWQiLCJtYXBfbGF5ZXIuY3JlYXRlIiwibWFwX2xheWVyLnVwZGF0ZSIsInN0YXQucmVhZCIsInN0YXQudXBkYXRlIiwiZG93bmxvYWQuY3JlYXRlIiwiZG93bmxvYWQucmVhZCIsImRvd25sb2FkLnVwZGF0ZSIsInRpY2tldC5jcmVhdGUiXSwiY29ycG9yYXRlX2lkIjo1N30.MaDN515kHDYEaTOnjqbdTlur4xQLZrsSH0DdScyP7Hs'"
      ]
     },
     "execution_count": 66,
     "metadata": {},
     "output_type": "execute_result"
    }
   ],
   "source": [
    "payload = json.dumps(\n",
    "    {\n",
    "        \"password\": \"A123456*\",\n",
    "        \"email\": \"bsocompi@cittca.com.bo\",\n",
    "    }\n",
    ")\n",
    "headers = {\n",
    "    'Content-Type': 'application/json'\n",
    "}\n",
    "response = requests.request(\n",
    "    method=\"POST\", \n",
    "    url=\"https://beta-api.naxsolutions.com/api/v1/token/pair\", \n",
    "    headers=headers, \n",
    "    data=payload\n",
    ")\n",
    "token = response.json()['access']\n",
    "token"
   ]
  },
  {
   "cell_type": "code",
   "execution_count": 67,
   "id": "69e6d343-3659-4479-8233-317c604ec34a",
   "metadata": {},
   "outputs": [],
   "source": [
    "headers = {\n",
    "    'Authorization': f'Bearer {token}',\n",
    "}\n",
    "response = requests.request(\n",
    "    method=\"GET\",\n",
    "    url=\"https://beta-api.naxsolutions.com/api/v1/users/me\",\n",
    "    headers=headers,\n",
    ")\n",
    "data = response.json()"
   ]
  },
  {
   "cell_type": "code",
   "execution_count": 68,
   "id": "0f276d8c-0fd3-4197-b403-e6b1bb5cb1c1",
   "metadata": {},
   "outputs": [],
   "source": [
    "def get_companies_from_corporate(corporate_id: int, token: str):\n",
    "    url = f'https://beta-api.naxsolutions.com/api/v1/corporates/{corporate_id}/companies'\n",
    "    headers = {\n",
    "        \"Authorization\": f\"Bearer {token}\"\n",
    "    }\n",
    "\n",
    "    response = requests.get(url, headers=headers)\n",
    "\n",
    "    if response.status_code == 200:\n",
    "        return response.json()  # Devuelve la lista de companies\n",
    "    else:\n",
    "        print(f\"Error {response.status_code}: {response.text}\")\n",
    "        return None"
   ]
  },
  {
   "cell_type": "code",
   "execution_count": 69,
   "id": "d416ada9-53ad-4e4e-a3b8-11e508b31471",
   "metadata": {},
   "outputs": [],
   "source": [
    "corporate_id = 57  # reemplazalo con tu corporate_id real\n",
    "companies = get_companies_from_corporate(corporate_id, token)"
   ]
  },
  {
   "cell_type": "code",
   "execution_count": 70,
   "id": "3b7f44e9-c576-4475-ba66-ab1aec4dff0f",
   "metadata": {},
   "outputs": [
    {
     "data": {
      "text/plain": [
       "[{'id': 137,\n",
       "  'name': 'Guabira',\n",
       "  'country': {'name': 'Bolivia', 'code': 'BO'},\n",
       "  'logo_id': '19914d81-d819-48f9-954c-1a1ad5f7b922',\n",
       "  'created_at': '2024-08-07T13:48:36.368Z',\n",
       "  'updated_at': '2025-03-25T16:07:29.106Z',\n",
       "  'hectares_data': {'high_frequency': {'limit': None,\n",
       "    'consumed': 0.0,\n",
       "    'active': 0.0},\n",
       "   'low_frequency': {'limit': None, 'consumed': 0.0, 'active': 53982.55}},\n",
       "  'campaign_count': 7,\n",
       "  'area_count': 1}]"
      ]
     },
     "execution_count": 70,
     "metadata": {},
     "output_type": "execute_result"
    }
   ],
   "source": [
    "companies"
   ]
  },
  {
   "cell_type": "code",
   "execution_count": null,
   "id": "37dca12d-9e03-459c-9a2b-3652a9492c45",
   "metadata": {},
   "outputs": [],
   "source": []
  },
  {
   "cell_type": "code",
   "execution_count": 57,
   "id": "faa3a824-fc1e-47ab-b989-9dc845ffeffd",
   "metadata": {},
   "outputs": [],
   "source": [
    "def get_areas_from_company(company_id: int, token: str):\n",
    "    url = f\"https://beta-api.naxsolutions.com/api/v1/companies/{company_id}/areas\"\n",
    "    headers = {\n",
    "        \"Authorization\": f\"Bearer {token}\"\n",
    "    }\n",
    "\n",
    "    response = requests.get(url, headers=headers)\n",
    "\n",
    "    if response.status_code == 200:\n",
    "        return response.json()  # Devuelve la lista de áreas\n",
    "    else:\n",
    "        print(f\"Error {response.status_code}: {response.text}\")\n",
    "        return None"
   ]
  },
  {
   "cell_type": "code",
   "execution_count": 60,
   "id": "4ffc767c-64ad-4c37-ba58-3544ec23d02e",
   "metadata": {},
   "outputs": [],
   "source": [
    "company_id = 137  # reemplaza con tu company_id real\n",
    "areas = get_areas_from_company(company_id, token)"
   ]
  },
  {
   "cell_type": "code",
   "execution_count": 61,
   "id": "7f7f8ffa-f06a-4eb4-a9af-2cd1dd5a5964",
   "metadata": {},
   "outputs": [
    {
     "data": {
      "text/plain": [
       "{'items': [{'id': 164,\n",
       "   'company_id': 137,\n",
       "   'id_name': 'name',\n",
       "   'name': 'Guabira',\n",
       "   'country': {'name': 'Bolivia', 'code': 'BO'},\n",
       "   'crs': 'EPSG:32720',\n",
       "   'active': True,\n",
       "   'hectares_data': {'high_frequency': {'limit': None,\n",
       "     'consumed': 0.0,\n",
       "     'active': 0.0},\n",
       "    'low_frequency': {'limit': None, 'consumed': 0.0, 'active': 53982.55}},\n",
       "   'campaign_count': 7}],\n",
       " 'count': 1}"
      ]
     },
     "execution_count": 61,
     "metadata": {},
     "output_type": "execute_result"
    }
   ],
   "source": [
    "areas"
   ]
  },
  {
   "cell_type": "code",
   "execution_count": 75,
   "id": "882ea421-eadc-43ec-8d2c-01dbed1d4f1c",
   "metadata": {},
   "outputs": [],
   "source": [
    "def get_smart_samplings(token: str, filters: dict = None):\n",
    "    url = \"https://beta-api.naxsolutions.com/api/v1/smart_samplings/samplings\"\n",
    "    headers = {\n",
    "        \"Authorization\": f\"Bearer {token}\"\n",
    "    }\n",
    "\n",
    "    response = requests.get(url, headers=headers, params=filters)\n",
    "\n",
    "    if response.status_code == 200:\n",
    "        return response.json()[\"items\"]  # Lista de samplings\n",
    "    else:\n",
    "        print(f\"Error {response.status_code}: {response.text}\")\n",
    "        return None"
   ]
  },
  {
   "cell_type": "code",
   "execution_count": 76,
   "id": "0d1bd729-b681-421b-9e45-eff01fcd4f97",
   "metadata": {},
   "outputs": [
    {
     "name": "stdout",
     "output_type": "stream",
     "text": [
      "Error 404: {\"detail\": \"Not Found\"}\n"
     ]
    }
   ],
   "source": [
    "# Opcional: filtros (podés pasar `None` si querés todo sin filtrar)\n",
    "filtros = {\n",
    "    \"campaign_id\": 137,  # por ejemplo\n",
    "    # \"lot_id\": 456,\n",
    "    # \"status\": \"completed\",\n",
    "}\n",
    "\n",
    "samplings = get_smart_samplings(token, filtros)"
   ]
  },
  {
   "cell_type": "code",
   "execution_count": null,
   "id": "21a886bc-1d5b-4cad-9a10-d418c6fd3623",
   "metadata": {},
   "outputs": [],
   "source": []
  },
  {
   "cell_type": "code",
   "execution_count": null,
   "id": "948d52cd-b490-4736-91ca-013a329fb26e",
   "metadata": {},
   "outputs": [],
   "source": []
  }
 ],
 "metadata": {
  "kernelspec": {
   "display_name": "Python 3 (ipykernel)",
   "language": "python",
   "name": "python3"
  },
  "language_info": {
   "codemirror_mode": {
    "name": "ipython",
    "version": 3
   },
   "file_extension": ".py",
   "mimetype": "text/x-python",
   "name": "python",
   "nbconvert_exporter": "python",
   "pygments_lexer": "ipython3",
   "version": "3.10.13"
  }
 },
 "nbformat": 4,
 "nbformat_minor": 5
}
