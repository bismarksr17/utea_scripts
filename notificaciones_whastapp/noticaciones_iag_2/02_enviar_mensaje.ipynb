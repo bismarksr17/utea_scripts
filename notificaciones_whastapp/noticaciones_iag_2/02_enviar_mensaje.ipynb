{
 "cells": [
  {
   "cell_type": "code",
   "execution_count": 44,
   "id": "2037feb1-14bf-47b1-b606-703f57c742ee",
   "metadata": {},
   "outputs": [],
   "source": [
    "import sys\n",
    "sys.path.append('../..')\n",
    "from sqlalchemy import create_engine, MetaData, select, Table\n",
    "import schedule\n",
    "import pandas as pd\n",
    "from datetime import datetime\n",
    "import time\n",
    "from config import POSTGRES_UTEA\n",
    "\n",
    "USER_DB = POSTGRES_UTEA['USER']\n",
    "PASS_DB = POSTGRES_UTEA['PASSWORD']\n",
    "HOST_DB = POSTGRES_UTEA['HOST']\n",
    "PORT_DB = POSTGRES_UTEA['PORT']\n",
    "NAME_DB = POSTGRES_UTEA['DATABASE']\n",
    "\n",
    "ENGINE = create_engine(f'postgresql+psycopg://{USER_DB}:{PASS_DB}@{HOST_DB}:{PORT_DB}/{NAME_DB}')\n",
    "\n",
    "metadata = MetaData()\n",
    "reporte_tbl = Table(\"reporte\", metadata, autoload_with=ENGINE, schema=\"datos_iag\")\n",
    "msj_whatsapp_tbl = Table(\"msj_whatsapp\", metadata, autoload_with=ENGINE, schema=\"notificaciones_wsp\")"
   ]
  },
  {
   "cell_type": "code",
   "execution_count": 41,
   "id": "b282740c-b4aa-46bd-978f-31ad85421843",
   "metadata": {},
   "outputs": [],
   "source": [
    "def get_datos():\n",
    "    try:\n",
    "        with ENGINE.begin() as conn:\n",
    "            stmt = select(reporte_tbl).where(reporte_tbl.c.id == 1)\n",
    "            result = conn.execute(stmt).fetchone()\n",
    "            if result:\n",
    "                return dict(result._mapping)  # convierte Row en dict\n",
    "            else:\n",
    "                print(\"⚠️ No se encontró el registro con id = 1\")\n",
    "                return None\n",
    "    except Exception as e:\n",
    "        print(\"❌ Error al hacer SELECT del reporte:\", e)\n",
    "        return None\n",
    "        \n",
    "def crear_mensaje(datos):\n",
    "    mensaje = f'''*REPORTE*\n",
    "*🕰️ Hora act.:* {datos['hora']}\n",
    "*⚙️ Trapiches:* {datos['trapiches_estado']}\n",
    "*🚛 Viajes disponibles:* {round(datos['viajes_disponibles'],2)}\n",
    "*🔢 Toneladas aprox.:* {round(datos['toneladas_aprox'],2)}\n",
    "*⏱️ Promedio llegada vj.:* {round(datos['promedio_llegada_viajes'],2)}\n",
    "*📈 Viajes estimados:* {round(datos['viajes_estimados'],2)}\n",
    "*🕰️ Total horas abas.:* {round(datos['total_horas_abastecimiento'],2)}\n",
    "*⏳ Tiempo espera:* {round(datos['tiempo_espera'],2)}\n",
    "*🎋 Molienda actual:* {round(datos['molienda_actual'],2)}\n",
    "*📅 Planificacion actual:* {round(datos['planificacion_actual'],2)}\n",
    "*🔻 Diferencia actual:* {round(datos['diferencia_actual'],2)}\n",
    "*🕒 Promedio horario:* {round(datos['promedio_horario'],2)}\n",
    "*🏭 Molienda segun promedio:* {round(datos['molienda_segun_promedio'],2)}\n",
    "*📊 Molienda segun estimacion:* {round(datos['molienda_segun_estimacion'],2)}'''\n",
    "\n",
    "    mario_sanchez = '75380725'\n",
    "    harold_pincker = '70249286'\n",
    "    me = '78194371'\n",
    "\n",
    "    data_mensajes = {\n",
    "        \"fecha_registro\": [datetime.now(), datetime.now(), datetime.now()],\n",
    "        \"cod_canero\": [0, 0, 0],\n",
    "        \"nombre_canero\": [\"Mario Sanchez Romero\", \"Harold Pinker\", \"Bismark Socompi\"],\n",
    "        \"numero_cel\": [mario_sanchez, harold_pincker, me],\n",
    "        \"mensaje\": [mensaje, mensaje, mensaje],\n",
    "        \"enviado\": [False, False, False],\n",
    "        \"fecha_enviado\": [None, None, None]\n",
    "    }\n",
    "    \n",
    "    df = pd.DataFrame(data_mensajes)\n",
    "    \n",
    "    try:\n",
    "        with ENGINE.begin() as conn:\n",
    "            conn.execute(msj_whatsapp_tbl.insert(), df.to_dict(orient='records'))\n",
    "        print(\"✅ Se ha actualizado \")\n",
    "    except Exception as e:\n",
    "        print(\"❌ Error al insertar en tabla MSJ WHASTAPP\", e)\n",
    "    #return df\n",
    "\n",
    "def enviar_reporte_genencia():\n",
    "    datos = get_datos()\n",
    "    crear_mensaje(datos)"
   ]
  },
  {
   "cell_type": "code",
   "execution_count": 42,
   "id": "cb4a15a3-5bcd-4b36-81fc-83018049d72f",
   "metadata": {},
   "outputs": [
    {
     "data": {
      "text/plain": [
       "Every 1 day at 21:00:00 do enviar_reporte_genencia() (last run: [never], next run: 2025-06-22 21:00:00)"
      ]
     },
     "execution_count": 42,
     "metadata": {},
     "output_type": "execute_result"
    }
   ],
   "source": [
    "schedule.every().day.at(\"00:00\").do(enviar_reporte_genencia)\n",
    "schedule.every().day.at(\"03:00\").do(enviar_reporte_genencia)\n",
    "schedule.every().day.at(\"06:00\").do(enviar_reporte_genencia)\n",
    "schedule.every().day.at(\"09:00\").do(enviar_reporte_genencia)\n",
    "schedule.every().day.at(\"12:00\").do(enviar_reporte_genencia)\n",
    "schedule.every().day.at(\"15:00\").do(enviar_reporte_genencia)\n",
    "schedule.every().day.at(\"18:00\").do(enviar_reporte_genencia)\n",
    "schedule.every().day.at(\"21:00\").do(enviar_reporte_genencia)"
   ]
  },
  {
   "cell_type": "code",
   "execution_count": 47,
   "id": "93267582-90eb-4b0c-b392-9b1f66d78064",
   "metadata": {},
   "outputs": [
    {
     "name": "stdout",
     "output_type": "stream",
     "text": [
      "✅ Se ha actualizado \n",
      "✅ Se ha actualizado \n",
      "✅ Se ha actualizado \n",
      "✅ Se ha actualizado \n",
      "✅ Se ha actualizado \n",
      "✅ Se ha actualizado \n",
      "✅ Se ha actualizado \n",
      "✅ Se ha actualizado \n",
      "✅ Se ha actualizado \n"
     ]
    },
    {
     "ename": "KeyboardInterrupt",
     "evalue": "",
     "output_type": "error",
     "traceback": [
      "\u001b[1;31m---------------------------------------------------------------------------\u001b[0m",
      "\u001b[1;31mKeyboardInterrupt\u001b[0m                         Traceback (most recent call last)",
      "Cell \u001b[1;32mIn[47], line 4\u001b[0m\n\u001b[0;32m      2\u001b[0m \u001b[38;5;28;01mwhile\u001b[39;00m \u001b[38;5;28;01mTrue\u001b[39;00m:\n\u001b[0;32m      3\u001b[0m     schedule\u001b[38;5;241m.\u001b[39mrun_pending()\n\u001b[1;32m----> 4\u001b[0m     \u001b[43mtime\u001b[49m\u001b[38;5;241;43m.\u001b[39;49m\u001b[43msleep\u001b[49m\u001b[43m(\u001b[49m\u001b[38;5;241;43m1\u001b[39;49m\u001b[43m)\u001b[49m\n",
      "\u001b[1;31mKeyboardInterrupt\u001b[0m: "
     ]
    }
   ],
   "source": [
    "enviar_reporte_genencia()\n",
    "while True:\n",
    "    schedule.run_pending()\n",
    "    time.sleep(1)"
   ]
  }
 ],
 "metadata": {
  "kernelspec": {
   "display_name": "Python 3 (ipykernel)",
   "language": "python",
   "name": "python3"
  },
  "language_info": {
   "codemirror_mode": {
    "name": "ipython",
    "version": 3
   },
   "file_extension": ".py",
   "mimetype": "text/x-python",
   "name": "python",
   "nbconvert_exporter": "python",
   "pygments_lexer": "ipython3",
   "version": "3.10.13"
  }
 },
 "nbformat": 4,
 "nbformat_minor": 5
}
