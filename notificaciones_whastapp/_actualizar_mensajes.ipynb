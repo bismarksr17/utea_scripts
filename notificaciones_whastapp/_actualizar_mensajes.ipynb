{
 "cells": [
  {
   "cell_type": "code",
   "execution_count": 83,
   "id": "a67f83b1-6cb5-42db-ad01-25253ac5b216",
   "metadata": {},
   "outputs": [],
   "source": [
    "# IMPORTACIONES\n",
    "import sys\n",
    "sys.path.append('../_amigocloud')\n",
    "from amigocloud import AmigoCloud\n",
    "import geopandas as gpd\n",
    "import pandas as pd\n",
    "from datetime import datetime\n",
    "from datetime import timedelta\n",
    "from shapely import wkb"
   ]
  },
  {
   "cell_type": "code",
   "execution_count": 84,
   "id": "ef89a312-4957-4484-ba8c-b447021d7cf3",
   "metadata": {},
   "outputs": [
    {
     "data": {
      "text/plain": [
       "<amigocloud.AmigoCloud at 0x2a4df135840>"
      ]
     },
     "execution_count": 84,
     "metadata": {},
     "output_type": "execute_result"
    }
   ],
   "source": [
    "# CONECCION CON AMIGOCLOUD\n",
    "# ruta de carpera donde estan las llaves\n",
    "ruta = open('../ruta.txt')\n",
    "ruta = ruta.readlines()[0]\n",
    "# leer token\n",
    "acceso = open(ruta + '/_keys/api_amigocloud.key','r')\n",
    "api_token = acceso.readlines()[0]\n",
    "acceso.close()\n",
    "amigocloud = AmigoCloud(token=api_token)\n",
    "amigocloud"
   ]
  },
  {
   "cell_type": "code",
   "execution_count": 85,
   "id": "4f0b1ca7-27ce-49ab-b9eb-f0240c6bcd7c",
   "metadata": {},
   "outputs": [],
   "source": [
    "# PATHS\n",
    "# RUTAS PARA NOTIFICACION DE LABORES DE LIBERACION DE TRICHOGRAMMA\n",
    "path_xlsx_plan = r'G:\\Ingenio Azucarero Guabira S.A\\UTEA - SEMANAL - EQUIPO AVIACION UTEA\\Trichogramma\\pd_trichogramma_2024 - copia.xlsx'\n",
    "\n",
    "# PILA DE MENSAJES\n",
    "path_txt_msj = r'C:\\Users\\Usuario\\Desktop\\PYTHON\\utea_scripts\\notificaciones_whastapp\\_msj_stack.txt'"
   ]
  },
  {
   "cell_type": "code",
   "execution_count": 86,
   "id": "2bc3ad52-a111-43ce-aac8-467b90f588b0",
   "metadata": {},
   "outputs": [],
   "source": [
    "# DATOS DE PILOTOS\n",
    "tecnico_telf = {\n",
    "    'ALEJANDRO SANCHEZ' : 78448317,\n",
    "    'AURELIO GARCIA' : 79051559,\n",
    "    'CHRISTIAN CALIZAYA' : 63619660,\n",
    "    'EDUARDO REYES' : 75016609}"
   ]
  },
  {
   "cell_type": "code",
   "execution_count": 87,
   "id": "8df96956-60ee-4aa2-b05b-d5eaaa873a3b",
   "metadata": {},
   "outputs": [],
   "source": [
    "# EJECUTAR QUERY\n",
    "# ejecuta cualquier query sql en el proyecto que se le indique\n",
    "# requiere el id de proyecto, query a ejecutar y tipo solicitud (get o post)\n",
    "def ejecutar_query_sql(id_project, query, tipo_sql):\n",
    "    # define la url del proyecto para ejecutar el querry\n",
    "    url_proyecto_sql = f'https://app.amigocloud.com/api/v1/projects/{id_project}/sql'\n",
    "    # crea la estructura de query para amigocloud\n",
    "    query_sql = {'query': query}\n",
    "    # variable para almacenar resultado\n",
    "    resultado_get = ''\n",
    "    # eleige que tipo de solicitud se realizara (get o post)\n",
    "    if tipo_sql == 'get': \n",
    "        resultado_get = amigocloud.get(url_proyecto_sql, query_sql)\n",
    "    elif tipo_sql == 'post':\n",
    "        resultado_get = amigocloud.post(url_proyecto_sql, query_sql)\n",
    "    else:\n",
    "        resultado_get = 'Se a seleccionado un tipo de solicitud erroneo.'\n",
    "    return resultado_get"
   ]
  },
  {
   "cell_type": "code",
   "execution_count": 88,
   "id": "3e48ccc3-056b-4358-92c2-b4d1ae24e144",
   "metadata": {},
   "outputs": [],
   "source": [
    "# CORVERSION DE WKB A COORS\n",
    "def convertir_wkb(wkb_data):\n",
    "    return wkb.loads(wkb_data, hex=True)"
   ]
  },
  {
   "cell_type": "code",
   "execution_count": null,
   "id": "5695ce32-3cf5-4fec-aa01-eed9a83580e4",
   "metadata": {},
   "outputs": [],
   "source": []
  },
  {
   "cell_type": "markdown",
   "id": "82a668b5-34ca-4e20-9456-dfd168347ed5",
   "metadata": {},
   "source": [
    "# NOTIFICACIONES DE LIBERACION"
   ]
  },
  {
   "cell_type": "code",
   "execution_count": 146,
   "id": "7f4c2117-beee-449b-9253-d04360c14e13",
   "metadata": {},
   "outputs": [],
   "source": [
    "def get_registro_notificacion():\n",
    "    # get data de nuevas notificacion de liberacion\n",
    "    query = 'select * from dataset_354655 where procesado=false'\n",
    "    notif = ejecutar_query_sql(33457, query, 'get')\n",
    "    notif = notif['data']\n",
    "    # extrae el primer elemento\n",
    "    return notif"
   ]
  },
  {
   "cell_type": "code",
   "execution_count": 147,
   "id": "dca05e82-172f-47f1-bc13-5b700978a02b",
   "metadata": {},
   "outputs": [],
   "source": [
    "def get_planificacion():\n",
    "    df_plan = pd.read_excel(path_xlsx_plan, sheet_name='PLANIFICACION')\n",
    "    df_plan = df_plan[['unidad_03', 'unidad_04', 'telefono_1', 'telefono_2', 'telefono_3']]\n",
    "    return df_plan"
   ]
  },
  {
   "cell_type": "code",
   "execution_count": null,
   "id": "39d1687b-e30d-479a-be69-f5ce29f3b19c",
   "metadata": {},
   "outputs": [],
   "source": [
    "while True:\n",
    "    reg_amigo = get_registro_notificacion()\n",
    "    if len(reg_amigo) = 0:\n",
    "        print('No existen notificaciones nuevas')\n",
    "        \n",
    "    reg_amigo = notif[0]\n",
    "    \n",
    "    # extrae cod_ca y nom_ca del registro\n",
    "    cod_ca = int(reg_amigo['canhero'].split(' / ')[0])\n",
    "    nom_ca = reg_amigo['canhero'].split(' / ')[1]\n",
    "    "
   ]
  },
  {
   "cell_type": "code",
   "execution_count": null,
   "id": "0269915a-9273-44ed-83ef-e729ff12b566",
   "metadata": {},
   "outputs": [],
   "source": []
  },
  {
   "cell_type": "code",
   "execution_count": null,
   "id": "75f56ae2-9b70-4d20-9af2-0e1f3d01c717",
   "metadata": {},
   "outputs": [],
   "source": []
  },
  {
   "cell_type": "code",
   "execution_count": null,
   "id": "3a882bce-5f80-424e-b1a2-3beb38c08f2c",
   "metadata": {},
   "outputs": [],
   "source": []
  },
  {
   "cell_type": "code",
   "execution_count": null,
   "id": "0d1910e0-ba4a-4ed5-ae3f-3eef814b5b9c",
   "metadata": {},
   "outputs": [],
   "source": []
  },
  {
   "cell_type": "code",
   "execution_count": 140,
   "id": "84052181-921f-4e84-86e7-8e8579c06abd",
   "metadata": {},
   "outputs": [],
   "source": [
    "df_plan = pd.read_excel(path_xlsx_plan, sheet_name='PLANIFICACION')"
   ]
  },
  {
   "cell_type": "code",
   "execution_count": 141,
   "id": "e5f6afd2-bf3f-4628-8717-dc23c594a4a1",
   "metadata": {},
   "outputs": [],
   "source": [
    "df_plan = df_plan[['unidad_03', 'unidad_04', 'telefono_1', 'telefono_2', 'telefono_3']]"
   ]
  },
  {
   "cell_type": "code",
   "execution_count": 142,
   "id": "8d5a20f3-7e29-4d4c-ba15-7070283e01b1",
   "metadata": {},
   "outputs": [
    {
     "data": {
      "text/html": [
       "<div>\n",
       "<style scoped>\n",
       "    .dataframe tbody tr th:only-of-type {\n",
       "        vertical-align: middle;\n",
       "    }\n",
       "\n",
       "    .dataframe tbody tr th {\n",
       "        vertical-align: top;\n",
       "    }\n",
       "\n",
       "    .dataframe thead th {\n",
       "        text-align: right;\n",
       "    }\n",
       "</style>\n",
       "<table border=\"1\" class=\"dataframe\">\n",
       "  <thead>\n",
       "    <tr style=\"text-align: right;\">\n",
       "      <th></th>\n",
       "      <th>unidad_03</th>\n",
       "      <th>unidad_04</th>\n",
       "      <th>telefono_1</th>\n",
       "      <th>telefono_2</th>\n",
       "      <th>telefono_3</th>\n",
       "    </tr>\n",
       "  </thead>\n",
       "  <tbody>\n",
       "    <tr>\n",
       "      <th>0</th>\n",
       "      <td>18358</td>\n",
       "      <td>ROJAS AMELUNGE CARLOS</td>\n",
       "      <td>77395410</td>\n",
       "      <td>0</td>\n",
       "      <td>NaN</td>\n",
       "    </tr>\n",
       "    <tr>\n",
       "      <th>1</th>\n",
       "      <td>18358</td>\n",
       "      <td>ROJAS AMELUNGE CARLOS</td>\n",
       "      <td>77395410</td>\n",
       "      <td>0</td>\n",
       "      <td>NaN</td>\n",
       "    </tr>\n",
       "    <tr>\n",
       "      <th>2</th>\n",
       "      <td>18358</td>\n",
       "      <td>ROJAS AMELUNGE CARLOS</td>\n",
       "      <td>77395410</td>\n",
       "      <td>0</td>\n",
       "      <td>NaN</td>\n",
       "    </tr>\n",
       "  </tbody>\n",
       "</table>\n",
       "</div>"
      ],
      "text/plain": [
       "   unidad_03              unidad_04 telefono_1 telefono_2  telefono_3\n",
       "0      18358  ROJAS AMELUNGE CARLOS   77395410          0         NaN\n",
       "1      18358  ROJAS AMELUNGE CARLOS   77395410          0         NaN\n",
       "2      18358  ROJAS AMELUNGE CARLOS   77395410          0         NaN"
      ]
     },
     "execution_count": 142,
     "metadata": {},
     "output_type": "execute_result"
    }
   ],
   "source": [
    "df_plan.head(3)"
   ]
  },
  {
   "cell_type": "code",
   "execution_count": 93,
   "id": "f974aef7-5af3-4a3f-8321-1b1f1f9ef7a1",
   "metadata": {},
   "outputs": [],
   "source": [
    "# get data de nuevas notificacion de liberacion\n",
    "query = 'select * from dataset_354655 where procesado=false'\n",
    "notif = ejecutar_query_sql(33457, query, 'get')\n",
    "notif = notif['data']"
   ]
  },
  {
   "cell_type": "code",
   "execution_count": 94,
   "id": "2f2fd7f1-9284-448a-94a7-18bff4849336",
   "metadata": {},
   "outputs": [
    {
     "data": {
      "text/plain": [
       "[{'fecha_registro': '2024-09-11 20:01:10+00:00',\n",
       "  'amigo_id': '9ff59ac965874f46bca0725c07435fb2',\n",
       "  'id': 2,\n",
       "  'piloto': 'ALEJANDRO SANCHEZ',\n",
       "  'canhero': '0 / BISMARK SOCOMPI',\n",
       "  'ubicacion': '0101000020E61000009AD99DA4AF954FC0B2CDD776244831C0',\n",
       "  'tipo_labor': 'LIBERACION DE TRICHOGRAMMA',\n",
       "  'tipo_mensaje': 'INICIO DE LABOR',\n",
       "  'procesado': False}]"
      ]
     },
     "execution_count": 94,
     "metadata": {},
     "output_type": "execute_result"
    }
   ],
   "source": [
    "notif"
   ]
  },
  {
   "cell_type": "code",
   "execution_count": 95,
   "id": "a2fbcada-b2e1-4699-b0c0-c41eb6547c77",
   "metadata": {},
   "outputs": [],
   "source": [
    "# extrae el primer elemento\n",
    "reg_amigo = notif[0]"
   ]
  },
  {
   "cell_type": "code",
   "execution_count": null,
   "id": "ecad418e-e791-4d93-8790-c2a72e6b3fa0",
   "metadata": {},
   "outputs": [],
   "source": []
  },
  {
   "cell_type": "code",
   "execution_count": 96,
   "id": "1a6e9e80-10ce-44f6-a7e1-8bbe83fa5d6a",
   "metadata": {},
   "outputs": [],
   "source": [
    "# extrae cod_ca y nom_ca del registro\n",
    "cod_ca = int(reg_amigo['canhero'].split(' / ')[0])\n",
    "nom_ca = reg_amigo['canhero'].split(' / ')[1]"
   ]
  },
  {
   "cell_type": "code",
   "execution_count": 97,
   "id": "a84342db-c428-46c8-a4cd-02d84a8758ab",
   "metadata": {},
   "outputs": [
    {
     "data": {
      "text/plain": [
       "unidad_03                     0\n",
       "unidad_04     BISMARK SOCOMPI R\n",
       "telefono_1             78194371\n",
       "telefono_2             62022996\n",
       "telefono_3                  NaN\n",
       "Name: 746, dtype: object"
      ]
     },
     "execution_count": 97,
     "metadata": {},
     "output_type": "execute_result"
    }
   ],
   "source": [
    "# filtra en la lista de planificacion el cod_ca para obtener los numeros cel.\n",
    "reg = df_plan[df_plan['unidad_03']==cod_ca].iloc[0]"
   ]
  },
  {
   "cell_type": "code",
   "execution_count": 98,
   "id": "fbba2110-8be4-4339-b55d-b789bf671d3a",
   "metadata": {},
   "outputs": [
    {
     "data": {
      "text/plain": [
       "2"
      ]
     },
     "execution_count": 98,
     "metadata": {},
     "output_type": "execute_result"
    }
   ],
   "source": [
    "# id del registro en amigocloud\n",
    "idd = reg_amigo['id']"
   ]
  },
  {
   "cell_type": "code",
   "execution_count": 99,
   "id": "47abab1e-d3de-4ed6-9f2e-0aa18b854b4d",
   "metadata": {},
   "outputs": [],
   "source": [
    "# extrae fecha y hora de registro menos 4 horas por desfase temprotal\n",
    "fecha_hora_obj = datetime.fromisoformat(reg_amigo['fecha_registro'])\n",
    "fecha_hora_menos_4h = fecha_hora_obj - timedelta(hours=4)"
   ]
  },
  {
   "cell_type": "code",
   "execution_count": 100,
   "id": "64340ce0-2189-44b2-82dd-8f91d7d2aa3d",
   "metadata": {},
   "outputs": [
    {
     "data": {
      "text/plain": [
       "'11-09-2024'"
      ]
     },
     "execution_count": 100,
     "metadata": {},
     "output_type": "execute_result"
    }
   ],
   "source": [
    "# formatea la fecha de registro\n",
    "fecha_str = fecha_hora_menos_4h.strftime('%d-%m-%Y')"
   ]
  },
  {
   "cell_type": "code",
   "execution_count": 101,
   "id": "83884e82-561a-49b1-ba3e-745290ba0892",
   "metadata": {},
   "outputs": [
    {
     "data": {
      "text/plain": [
       "'16:01:10'"
      ]
     },
     "execution_count": 101,
     "metadata": {},
     "output_type": "execute_result"
    }
   ],
   "source": [
    "# formatea la hora de registro\n",
    "hora_str = fecha_hora_menos_4h.strftime('%H:%M:%S')"
   ]
  },
  {
   "cell_type": "code",
   "execution_count": 104,
   "id": "0c3be11a-7993-4e98-9288-9d4b20de63e6",
   "metadata": {},
   "outputs": [],
   "source": [
    "# extrae los numeros telefonicos\n",
    "telefonos = [reg['telefono_1'], reg['telefono_2'], reg['telefono_3']]\n",
    "# valida los numeros telefonicos\n",
    "telefonos_validos = [telefono for telefono in telefonos if isinstance(telefono, int) and len(str(telefono)) == 8]"
   ]
  },
  {
   "cell_type": "code",
   "execution_count": 106,
   "id": "fc234448-e5ad-4a07-b101-849bfac637a2",
   "metadata": {},
   "outputs": [
    {
     "data": {
      "text/plain": [
       "'LIBERACION DE TRICHOGRAMMA'"
      ]
     },
     "execution_count": 106,
     "metadata": {},
     "output_type": "execute_result"
    }
   ],
   "source": [
    "# extra el tipo de labor (liberacion o pulverizacion)\n",
    "labor = reg_amigo['tipo_labor']"
   ]
  },
  {
   "cell_type": "code",
   "execution_count": 107,
   "id": "1ceeb311-d7ee-4337-b33e-b01832a0f4fb",
   "metadata": {},
   "outputs": [
    {
     "data": {
      "text/plain": [
       "'INICIO DE LABOR'"
      ]
     },
     "execution_count": 107,
     "metadata": {},
     "output_type": "execute_result"
    }
   ],
   "source": [
    "# extrae el estado de la labor (inicio o fin de labor)\n",
    "estado = reg_amigo['tipo_mensaje']"
   ]
  },
  {
   "cell_type": "code",
   "execution_count": 108,
   "id": "1742a905-bf1a-4b27-b5f2-b0c3b19748b4",
   "metadata": {},
   "outputs": [
    {
     "data": {
      "text/plain": [
       "'ALEJANDRO SANCHEZ'"
      ]
     },
     "execution_count": 108,
     "metadata": {},
     "output_type": "execute_result"
    }
   ],
   "source": [
    "# extrae nombre del piloto\n",
    "tecnico = reg_amigo['piloto']"
   ]
  },
  {
   "cell_type": "code",
   "execution_count": 109,
   "id": "81b46a91-e2da-44cc-830e-e114d07688e9",
   "metadata": {},
   "outputs": [],
   "source": [
    "# extrae y convierte la ubicacion\n",
    "ubi = convertir_wkb(reg_amigo['ubicacion'])\n",
    "longitud = ubi.x  # Longitud (coordenada X)\n",
    "latitud = ubi.y   # Latitud (coordenada Y)"
   ]
  },
  {
   "cell_type": "code",
   "execution_count": 110,
   "id": "b2dd9d39-4cf9-4b65-b48a-b5387f1f7b30",
   "metadata": {},
   "outputs": [],
   "source": [
    "def insertar_msj_stack(idd, fecha, hora, cod, nombre, telf, msj):\n",
    "    linea = f'{idd};{fecha};{hora};{cod};{nombre};{telf};{msj}'\n",
    "    with open(path_txt_msj, 'r') as file:\n",
    "        contenido = file.readlines()\n",
    "    contenido.insert(0, '\\n')\n",
    "    contenido.insert(0, linea)\n",
    "    with open(path_txt_msj, 'w') as file:\n",
    "        file.writelines(contenido)\n",
    "    print(linea)"
   ]
  },
  {
   "cell_type": "code",
   "execution_count": 135,
   "id": "847b3286-c3aa-4546-9988-2f91d3ab09e1",
   "metadata": {},
   "outputs": [],
   "source": [
    "def anular_registro_notificacion(idd):\n",
    "    query = f'update dataset_354655 set procesado = true where id = {idd}'\n",
    "    exe = ejecutar_query_sql(33457, query, 'post')"
   ]
  },
  {
   "cell_type": "code",
   "execution_count": 134,
   "id": "c01cf8f3-859d-4a2d-96ad-94867a9ccab5",
   "metadata": {},
   "outputs": [],
   "source": []
  },
  {
   "cell_type": "code",
   "execution_count": 137,
   "id": "c61401ad-3677-4190-9b87-b48c99de5f10",
   "metadata": {},
   "outputs": [],
   "source": [
    "# crea el mensaje \n",
    "def crear_msj(idd, fecha, hora, cod, nombre, telfs, labor, estado, tecnico, lon, lat):\n",
    "    tec_telf = tecnico_telf[tecnico]\n",
    "    for i in telfs:\n",
    "        msj = ''\n",
    "        if estado == 'INICIO DE LABOR':\n",
    "            msj = f'''Señor(a) *{nombre}* se le informa que se esta iniciando el trabajo de *{labor}* en la siguiente ubicacion: \\\n",
    "https://www.google.com/maps?q={lat},{lon}. \\\n",
    "Para cualquier consulta puede comunicarse con ING. {tecnico} al {tec_telf}'''\n",
    "        elif estado == 'FIN DE LABOR':\n",
    "            msj = f'''Señor(a) *{nombre}* se le informa que se ha finalizado el trabajo de *{labor}* en la siguiente ubicacion: \\\n",
    "https://www.google.com/maps?q={lat},{lon}. \\\n",
    "Para cualquier consulta puede comunicarse con ING. {tecnico} al {tec_telf}'''\n",
    "        insertar_msj_stack(idd, fecha, hora, cod, nombre, i, msj)\n",
    "        anular_registro_notificacion(idd)"
   ]
  },
  {
   "cell_type": "code",
   "execution_count": null,
   "id": "aa0a3544-c82e-4032-83c7-8f098387c404",
   "metadata": {},
   "outputs": [],
   "source": []
  },
  {
   "cell_type": "code",
   "execution_count": 139,
   "id": "d12c34ad-b46d-4200-a427-8196ce9f8093",
   "metadata": {},
   "outputs": [
    {
     "name": "stdout",
     "output_type": "stream",
     "text": [
      "2;11-09-2024;16:01:10;0;BISMARK SOCOMPI;78194371;Señor(a) *BISMARK SOCOMPI* se le informa que se esta iniciando el trabajo de *LIBERACION DE TRICHOGRAMMA* en la siguiente ubicacion: https://www.google.com/maps?q=-17.2818064,-63.1694227. Para cualquier consulta puede comunicarse con ING. ALEJANDRO SANCHEZ al 78448317\n",
      "2;11-09-2024;16:01:10;0;BISMARK SOCOMPI;62022996;Señor(a) *BISMARK SOCOMPI* se le informa que se esta iniciando el trabajo de *LIBERACION DE TRICHOGRAMMA* en la siguiente ubicacion: https://www.google.com/maps?q=-17.2818064,-63.1694227. Para cualquier consulta puede comunicarse con ING. ALEJANDRO SANCHEZ al 78448317\n"
     ]
    }
   ],
   "source": [
    "crear_msj(idd, fecha_str, hora_str, cod_ca, nom_ca, telefonos_validos, labor, estado, tecnico, longitud, latitud)"
   ]
  },
  {
   "cell_type": "code",
   "execution_count": null,
   "id": "78e1cde1-ac7d-4672-a1df-019a20b65e02",
   "metadata": {},
   "outputs": [],
   "source": []
  },
  {
   "cell_type": "code",
   "execution_count": null,
   "id": "bc1de41f-b463-4dfa-9363-ea0e323c4996",
   "metadata": {},
   "outputs": [],
   "source": []
  },
  {
   "cell_type": "code",
   "execution_count": null,
   "id": "447656d3-2170-4473-9b93-e83d70ccccd6",
   "metadata": {},
   "outputs": [],
   "source": []
  },
  {
   "cell_type": "code",
   "execution_count": null,
   "id": "8a198f0e-ea22-46f3-8e7d-0d4fa6d119aa",
   "metadata": {},
   "outputs": [],
   "source": []
  },
  {
   "cell_type": "code",
   "execution_count": null,
   "id": "8652a35d-6aa4-47c1-88a6-c73fc8fe7fe5",
   "metadata": {},
   "outputs": [],
   "source": []
  }
 ],
 "metadata": {
  "kernelspec": {
   "display_name": "Python 3 (ipykernel)",
   "language": "python",
   "name": "python3"
  },
  "language_info": {
   "codemirror_mode": {
    "name": "ipython",
    "version": 3
   },
   "file_extension": ".py",
   "mimetype": "text/x-python",
   "name": "python",
   "nbconvert_exporter": "python",
   "pygments_lexer": "ipython3",
   "version": "3.10.13"
  }
 },
 "nbformat": 4,
 "nbformat_minor": 5
}
