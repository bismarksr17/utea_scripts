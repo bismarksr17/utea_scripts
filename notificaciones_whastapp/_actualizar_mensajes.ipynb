{
 "cells": [
  {
   "cell_type": "code",
   "execution_count": null,
   "id": "d7ce1a57-ddc0-4e91-b902-f99be117c6f5",
   "metadata": {},
   "outputs": [],
   "source": []
  },
  {
   "cell_type": "code",
   "execution_count": 124,
   "id": "a67f83b1-6cb5-42db-ad01-25253ac5b216",
   "metadata": {},
   "outputs": [],
   "source": [
    "# IMPORTACIONES\n",
    "import time\n",
    "import sys\n",
    "sys.path.append('../_amigocloud')\n",
    "from amigocloud import AmigoCloud\n",
    "import geopandas as gpd\n",
    "import pandas as pd\n",
    "from datetime import datetime\n",
    "from datetime import timedelta\n",
    "from shapely import wkb"
   ]
  },
  {
   "cell_type": "code",
   "execution_count": 97,
   "id": "ef89a312-4957-4484-ba8c-b447021d7cf3",
   "metadata": {},
   "outputs": [
    {
     "data": {
      "text/plain": [
       "<amigocloud.AmigoCloud at 0x18ca95d3310>"
      ]
     },
     "execution_count": 97,
     "metadata": {},
     "output_type": "execute_result"
    }
   ],
   "source": [
    "# CONECCION CON AMIGOCLOUD\n",
    "# ruta de carpera donde estan las llaves\n",
    "ruta = open('../ruta.txt')\n",
    "ruta = ruta.readlines()[0]\n",
    "# leer token\n",
    "acceso = open(ruta + '/_keys/api_amigocloud.key','r')\n",
    "api_token = acceso.readlines()[0]\n",
    "acceso.close()\n",
    "amigocloud = AmigoCloud(token=api_token)\n",
    "amigocloud"
   ]
  },
  {
   "cell_type": "markdown",
   "id": "fc4aa164-95a1-487f-bfcf-4be3041233a7",
   "metadata": {},
   "source": [
    "## PARA TRICHO"
   ]
  },
  {
   "cell_type": "code",
   "execution_count": 98,
   "id": "4f0b1ca7-27ce-49ab-b9eb-f0240c6bcd7c",
   "metadata": {},
   "outputs": [],
   "source": [
    "# PATHS\n",
    "# RUTAS PARA NOTIFICACION DE LABORES DE LIBERACION DE TRICHOGRAMMA\n",
    "path_xlsx_plan = r'G:\\Ingenio Azucarero Guabira S.A\\UTEA - SEMANAL - EQUIPO AVIACION UTEA\\Trichogramma\\pd_trichogramma_2024 - copia.xlsx'\n",
    "\n",
    "# PILA DE MENSAJES\n",
    "path_txt_msj = r'C:\\Users\\Usuario\\Desktop\\PYTHON\\utea_scripts\\notificaciones_whastapp\\_msj_stack.txt'"
   ]
  },
  {
   "cell_type": "markdown",
   "id": "06af14d0-776e-4490-84fc-7a9b065a26c2",
   "metadata": {},
   "source": [
    "## PARA PULVERIZACION"
   ]
  },
  {
   "cell_type": "code",
   "execution_count": 99,
   "id": "2f9c4fc6-7922-4f55-9974-e3a593820496",
   "metadata": {},
   "outputs": [],
   "source": [
    "# PATHS\n",
    "# RUTAS PARA NOTIFICACION DE LABORES DE LIBERACION DE TRICHOGRAMMA\n",
    "path_xlsx_plan = r'G:\\Ingenio Azucarero Guabira S.A\\UTEA - SEMANAL - EQUIPO AVIACION UTEA\\Pulverizacion\\CONTACTOS.xlsx'\n",
    "\n",
    "# PILA DE MENSAJES\n",
    "path_txt_msj = r'C:\\Users\\Usuario\\Desktop\\PYTHON\\utea_scripts\\notificaciones_whastapp\\_msj_stack.txt'"
   ]
  },
  {
   "cell_type": "code",
   "execution_count": 100,
   "id": "2bc3ad52-a111-43ce-aac8-467b90f588b0",
   "metadata": {},
   "outputs": [],
   "source": [
    "# DATOS DE PILOTOS\n",
    "tecnico_telf = {\n",
    "    'ALEJANDRO SANCHEZ' : 78448317,\n",
    "    'AURELIO GARCIA' : 79051559,\n",
    "    'CHRISTIAN CALIZAYA' : 63619660,\n",
    "    'EDUARDO REYES' : 75016609}"
   ]
  },
  {
   "cell_type": "code",
   "execution_count": 101,
   "id": "8df96956-60ee-4aa2-b05b-d5eaaa873a3b",
   "metadata": {},
   "outputs": [],
   "source": [
    "# EJECUTAR QUERY\n",
    "# ejecuta cualquier query sql en el proyecto que se le indique\n",
    "# requiere el id de proyecto, query a ejecutar y tipo solicitud (get o post)\n",
    "def ejecutar_query_sql(id_project, query, tipo_sql):\n",
    "    # define la url del proyecto para ejecutar el querry\n",
    "    url_proyecto_sql = f'https://app.amigocloud.com/api/v1/projects/{id_project}/sql'\n",
    "    # crea la estructura de query para amigocloud\n",
    "    query_sql = {'query': query}\n",
    "    # variable para almacenar resultado\n",
    "    resultado_get = ''\n",
    "    # eleige que tipo de solicitud se realizara (get o post)\n",
    "    if tipo_sql == 'get': \n",
    "        resultado_get = amigocloud.get(url_proyecto_sql, query_sql)\n",
    "    elif tipo_sql == 'post':\n",
    "        resultado_get = amigocloud.post(url_proyecto_sql, query_sql)\n",
    "    else:\n",
    "        resultado_get = 'Se a seleccionado un tipo de solicitud erroneo.'\n",
    "    return resultado_get"
   ]
  },
  {
   "cell_type": "code",
   "execution_count": 102,
   "id": "3e48ccc3-056b-4358-92c2-b4d1ae24e144",
   "metadata": {},
   "outputs": [],
   "source": [
    "# CORVERSION DE WKB A COORS\n",
    "def convertir_wkb(wkb_data):\n",
    "    return wkb.loads(wkb_data, hex=True)"
   ]
  },
  {
   "cell_type": "code",
   "execution_count": null,
   "id": "5695ce32-3cf5-4fec-aa01-eed9a83580e4",
   "metadata": {},
   "outputs": [],
   "source": []
  },
  {
   "cell_type": "markdown",
   "id": "82a668b5-34ca-4e20-9456-dfd168347ed5",
   "metadata": {},
   "source": [
    "# NOTIFICACIONES DE LIBERACION"
   ]
  },
  {
   "cell_type": "code",
   "execution_count": 103,
   "id": "7f4c2117-beee-449b-9253-d04360c14e13",
   "metadata": {},
   "outputs": [],
   "source": [
    "def get_registro_notificacion():\n",
    "    # get data de nuevas notificacion de liberacion\n",
    "    query = 'select * from dataset_354655 where procesado=false'\n",
    "    notif = ejecutar_query_sql(33457, query, 'get')\n",
    "    notif = notif['data']\n",
    "    # extrae el primer elemento\n",
    "    return notif"
   ]
  },
  {
   "cell_type": "code",
   "execution_count": 104,
   "id": "dca05e82-172f-47f1-bc13-5b700978a02b",
   "metadata": {},
   "outputs": [],
   "source": [
    "def get_planificacion():\n",
    "    df_plan = pd.read_excel(path_xlsx_plan)\n",
    "    df_plan = df_plan[['cod_ca', 'nom_ca', 'telf01', 'telf02', 'telf03']]\n",
    "    return df_plan"
   ]
  },
  {
   "cell_type": "code",
   "execution_count": 105,
   "id": "fed421ab-fbca-4964-a64a-ba9344a1ccad",
   "metadata": {},
   "outputs": [],
   "source": [
    "def insertar_msj_stack(idd, fecha, hora, cod, nombre, telf, msj):\n",
    "    linea = f'{idd};{fecha};{hora};{cod};{nombre};{telf};{msj}'\n",
    "    with open(path_txt_msj, 'r') as file:\n",
    "        contenido = file.readlines()\n",
    "    contenido.insert(0, '\\n')\n",
    "    contenido.insert(0, linea)\n",
    "    with open(path_txt_msj, 'w') as file:\n",
    "        file.writelines(contenido)\n",
    "    print(linea)"
   ]
  },
  {
   "cell_type": "code",
   "execution_count": 106,
   "id": "691227e0-7951-43d9-b889-de26d77ee0bb",
   "metadata": {},
   "outputs": [],
   "source": [
    "def anular_registro_notificacion(idd):\n",
    "    query = f'update dataset_354655 set procesado = true where id = {idd}'\n",
    "    exe = ejecutar_query_sql(33457, query, 'post')\n",
    "    print('anulado:', idd)"
   ]
  },
  {
   "cell_type": "code",
   "execution_count": 107,
   "id": "d7d4a72b-a0b7-432a-b873-60d51cc0d110",
   "metadata": {},
   "outputs": [],
   "source": [
    "# crea el mensaje \n",
    "def crear_msj(idd, fecha, hora, cod, nombre, telfs, labor, estado, tecnico, lon, lat):\n",
    "    tec_telf = tecnico_telf[tecnico]\n",
    "    for i in telfs:\n",
    "        msj = ''\n",
    "        if estado == 'INICIO DE LABOR':\n",
    "            msj = f'''Señor(a) *{nombre}* se le informa que se esta iniciando el trabajo de *{labor}* en la siguiente ubicacion: \\\n",
    "https://www.google.com/maps?q={lat},{lon}. \\\n",
    "Para cualquier consulta puede comunicarse con ING. {tecnico} al {tec_telf}'''\n",
    "        elif estado == 'FIN DE LABOR':\n",
    "            msj = f'''Señor(a) *{nombre}* se le informa que se ha finalizado el trabajo de *{labor}* en la siguiente ubicacion: \\\n",
    "https://www.google.com/maps?q={lat},{lon}. \\\n",
    "Para cualquier consulta puede comunicarse con ING. {tecnico} al {tec_telf}'''\n",
    "        insertar_msj_stack(idd, fecha, hora, cod, nombre, i, msj)"
   ]
  },
  {
   "cell_type": "code",
   "execution_count": 126,
   "id": "9fc1639c-da61-45ed-be9d-b19efaff8a20",
   "metadata": {},
   "outputs": [],
   "source": [
    "reg_amigo = get_registro_notificacion()"
   ]
  },
  {
   "cell_type": "code",
   "execution_count": 139,
   "id": "39d1687b-e30d-479a-be69-f5ce29f3b19c",
   "metadata": {},
   "outputs": [
    {
     "name": "stdout",
     "output_type": "stream",
     "text": [
      "10;27-09-2024;15:29:46;0;BISMARK SOCOMPI;78194371;Señor(a) *BISMARK SOCOMPI* se le informa que se esta iniciando el trabajo de *PULVERIZACION* en la siguiente ubicacion: https://www.google.com/maps?q=-17.1849563,-63.3144697. Para cualquier consulta puede comunicarse con ING. EDUARDO REYES al 75016609\n",
      "10;27-09-2024;15:29:46;0;BISMARK SOCOMPI;62022996;Señor(a) *BISMARK SOCOMPI* se le informa que se esta iniciando el trabajo de *PULVERIZACION* en la siguiente ubicacion: https://www.google.com/maps?q=-17.1849563,-63.3144697. Para cualquier consulta puede comunicarse con ING. EDUARDO REYES al 75016609\n",
      "10;27-09-2024;15:29:46;0;BISMARK SOCOMPI;75016609;Señor(a) *BISMARK SOCOMPI* se le informa que se esta iniciando el trabajo de *PULVERIZACION* en la siguiente ubicacion: https://www.google.com/maps?q=-17.1849563,-63.3144697. Para cualquier consulta puede comunicarse con ING. EDUARDO REYES al 75016609\n",
      "10;27-09-2024;15:29:46;0;BISMARK SOCOMPI;68908131;Señor(a) *BISMARK SOCOMPI* se le informa que se esta iniciando el trabajo de *PULVERIZACION* en la siguiente ubicacion: https://www.google.com/maps?q=-17.1849563,-63.3144697. Para cualquier consulta puede comunicarse con ING. EDUARDO REYES al 75016609\n",
      "anulado: 10\n",
      "No existen notificaciones nuevas\n",
      "No existen notificaciones nuevas\n",
      "No existen notificaciones nuevas\n",
      "No existen notificaciones nuevas\n",
      "No existen notificaciones nuevas\n",
      "No existen notificaciones nuevas\n",
      "No existen notificaciones nuevas\n",
      "No existen notificaciones nuevas\n",
      "No existen notificaciones nuevas\n",
      "No existen notificaciones nuevas\n",
      "No existen notificaciones nuevas\n",
      "No existen notificaciones nuevas\n"
     ]
    },
    {
     "ename": "KeyboardInterrupt",
     "evalue": "",
     "output_type": "error",
     "traceback": [
      "\u001b[1;31m---------------------------------------------------------------------------\u001b[0m",
      "\u001b[1;31mKeyboardInterrupt\u001b[0m                         Traceback (most recent call last)",
      "Cell \u001b[1;32mIn[139], line 2\u001b[0m\n\u001b[0;32m      1\u001b[0m \u001b[38;5;28;01mwhile\u001b[39;00m \u001b[38;5;28;01mTrue\u001b[39;00m:\n\u001b[1;32m----> 2\u001b[0m     reg_amigo \u001b[38;5;241m=\u001b[39m \u001b[43mget_registro_notificacion\u001b[49m\u001b[43m(\u001b[49m\u001b[43m)\u001b[49m\n\u001b[0;32m      3\u001b[0m     \u001b[38;5;28;01mif\u001b[39;00m \u001b[38;5;28mlen\u001b[39m(reg_amigo) \u001b[38;5;241m==\u001b[39m \u001b[38;5;241m0\u001b[39m:\n\u001b[0;32m      4\u001b[0m         \u001b[38;5;28mprint\u001b[39m(\u001b[38;5;124m'\u001b[39m\u001b[38;5;124mNo existen notificaciones nuevas\u001b[39m\u001b[38;5;124m'\u001b[39m)\n",
      "Cell \u001b[1;32mIn[103], line 4\u001b[0m, in \u001b[0;36mget_registro_notificacion\u001b[1;34m()\u001b[0m\n\u001b[0;32m      1\u001b[0m \u001b[38;5;28;01mdef\u001b[39;00m \u001b[38;5;21mget_registro_notificacion\u001b[39m():\n\u001b[0;32m      2\u001b[0m     \u001b[38;5;66;03m# get data de nuevas notificacion de liberacion\u001b[39;00m\n\u001b[0;32m      3\u001b[0m     query \u001b[38;5;241m=\u001b[39m \u001b[38;5;124m'\u001b[39m\u001b[38;5;124mselect * from dataset_354655 where procesado=false\u001b[39m\u001b[38;5;124m'\u001b[39m\n\u001b[1;32m----> 4\u001b[0m     notif \u001b[38;5;241m=\u001b[39m \u001b[43mejecutar_query_sql\u001b[49m\u001b[43m(\u001b[49m\u001b[38;5;241;43m33457\u001b[39;49m\u001b[43m,\u001b[49m\u001b[43m \u001b[49m\u001b[43mquery\u001b[49m\u001b[43m,\u001b[49m\u001b[43m \u001b[49m\u001b[38;5;124;43m'\u001b[39;49m\u001b[38;5;124;43mget\u001b[39;49m\u001b[38;5;124;43m'\u001b[39;49m\u001b[43m)\u001b[49m\n\u001b[0;32m      5\u001b[0m     notif \u001b[38;5;241m=\u001b[39m notif[\u001b[38;5;124m'\u001b[39m\u001b[38;5;124mdata\u001b[39m\u001b[38;5;124m'\u001b[39m]\n\u001b[0;32m      6\u001b[0m     \u001b[38;5;66;03m# extrae el primer elemento\u001b[39;00m\n",
      "Cell \u001b[1;32mIn[101], line 13\u001b[0m, in \u001b[0;36mejecutar_query_sql\u001b[1;34m(id_project, query, tipo_sql)\u001b[0m\n\u001b[0;32m     11\u001b[0m \u001b[38;5;66;03m# eleige que tipo de solicitud se realizara (get o post)\u001b[39;00m\n\u001b[0;32m     12\u001b[0m \u001b[38;5;28;01mif\u001b[39;00m tipo_sql \u001b[38;5;241m==\u001b[39m \u001b[38;5;124m'\u001b[39m\u001b[38;5;124mget\u001b[39m\u001b[38;5;124m'\u001b[39m: \n\u001b[1;32m---> 13\u001b[0m     resultado_get \u001b[38;5;241m=\u001b[39m \u001b[43mamigocloud\u001b[49m\u001b[38;5;241;43m.\u001b[39;49m\u001b[43mget\u001b[49m\u001b[43m(\u001b[49m\u001b[43murl_proyecto_sql\u001b[49m\u001b[43m,\u001b[49m\u001b[43m \u001b[49m\u001b[43mquery_sql\u001b[49m\u001b[43m)\u001b[49m\n\u001b[0;32m     14\u001b[0m \u001b[38;5;28;01melif\u001b[39;00m tipo_sql \u001b[38;5;241m==\u001b[39m \u001b[38;5;124m'\u001b[39m\u001b[38;5;124mpost\u001b[39m\u001b[38;5;124m'\u001b[39m:\n\u001b[0;32m     15\u001b[0m     resultado_get \u001b[38;5;241m=\u001b[39m amigocloud\u001b[38;5;241m.\u001b[39mpost(url_proyecto_sql, query_sql)\n",
      "File \u001b[1;32m~\\Desktop\\PYTHON\\utea_scripts\\notificaciones_whastapp\\../_amigocloud\\amigocloud.py:231\u001b[0m, in \u001b[0;36mAmigoCloud.get\u001b[1;34m(self, url, params, raw, stream, **request_kwargs)\u001b[0m\n\u001b[0;32m    228\u001b[0m \u001b[38;5;28;01mif\u001b[39;00m \u001b[38;5;28mself\u001b[39m\u001b[38;5;241m.\u001b[39m_token:\n\u001b[0;32m    229\u001b[0m     params\u001b[38;5;241m.\u001b[39msetdefault(\u001b[38;5;124m'\u001b[39m\u001b[38;5;124mtoken\u001b[39m\u001b[38;5;124m'\u001b[39m, \u001b[38;5;28mself\u001b[39m\u001b[38;5;241m.\u001b[39m_token)\n\u001b[1;32m--> 231\u001b[0m response \u001b[38;5;241m=\u001b[39m requests\u001b[38;5;241m.\u001b[39mget(full_url, params\u001b[38;5;241m=\u001b[39mparams, stream\u001b[38;5;241m=\u001b[39mstream,\n\u001b[0;32m    232\u001b[0m                         \u001b[38;5;241m*\u001b[39m\u001b[38;5;241m*\u001b[39mrequest_kwargs)\n\u001b[0;32m    233\u001b[0m \u001b[38;5;28mself\u001b[39m\u001b[38;5;241m.\u001b[39mcheck_for_errors(response)  \u001b[38;5;66;03m# Raise exception if something failed\u001b[39;00m\n\u001b[0;32m    235\u001b[0m \u001b[38;5;28;01mif\u001b[39;00m stream:\n",
      "File \u001b[1;32m~\\anaconda3\\envs\\utea\\lib\\site-packages\\requests\\api.py:73\u001b[0m, in \u001b[0;36mget\u001b[1;34m(url, params, **kwargs)\u001b[0m\n\u001b[0;32m     62\u001b[0m \u001b[38;5;28;01mdef\u001b[39;00m \u001b[38;5;21mget\u001b[39m(url, params\u001b[38;5;241m=\u001b[39m\u001b[38;5;28;01mNone\u001b[39;00m, \u001b[38;5;241m*\u001b[39m\u001b[38;5;241m*\u001b[39mkwargs):\n\u001b[0;32m     63\u001b[0m \u001b[38;5;250m    \u001b[39m\u001b[38;5;124mr\u001b[39m\u001b[38;5;124;03m\"\"\"Sends a GET request.\u001b[39;00m\n\u001b[0;32m     64\u001b[0m \n\u001b[0;32m     65\u001b[0m \u001b[38;5;124;03m    :param url: URL for the new :class:`Request` object.\u001b[39;00m\n\u001b[1;32m   (...)\u001b[0m\n\u001b[0;32m     70\u001b[0m \u001b[38;5;124;03m    :rtype: requests.Response\u001b[39;00m\n\u001b[0;32m     71\u001b[0m \u001b[38;5;124;03m    \"\"\"\u001b[39;00m\n\u001b[1;32m---> 73\u001b[0m     \u001b[38;5;28;01mreturn\u001b[39;00m request(\u001b[38;5;124m\"\u001b[39m\u001b[38;5;124mget\u001b[39m\u001b[38;5;124m\"\u001b[39m, url, params\u001b[38;5;241m=\u001b[39mparams, \u001b[38;5;241m*\u001b[39m\u001b[38;5;241m*\u001b[39mkwargs)\n",
      "File \u001b[1;32m~\\anaconda3\\envs\\utea\\lib\\site-packages\\requests\\api.py:59\u001b[0m, in \u001b[0;36mrequest\u001b[1;34m(method, url, **kwargs)\u001b[0m\n\u001b[0;32m     55\u001b[0m \u001b[38;5;66;03m# By using the 'with' statement we are sure the session is closed, thus we\u001b[39;00m\n\u001b[0;32m     56\u001b[0m \u001b[38;5;66;03m# avoid leaving sockets open which can trigger a ResourceWarning in some\u001b[39;00m\n\u001b[0;32m     57\u001b[0m \u001b[38;5;66;03m# cases, and look like a memory leak in others.\u001b[39;00m\n\u001b[0;32m     58\u001b[0m \u001b[38;5;28;01mwith\u001b[39;00m sessions\u001b[38;5;241m.\u001b[39mSession() \u001b[38;5;28;01mas\u001b[39;00m session:\n\u001b[1;32m---> 59\u001b[0m     \u001b[38;5;28;01mreturn\u001b[39;00m session\u001b[38;5;241m.\u001b[39mrequest(method\u001b[38;5;241m=\u001b[39mmethod, url\u001b[38;5;241m=\u001b[39murl, \u001b[38;5;241m*\u001b[39m\u001b[38;5;241m*\u001b[39mkwargs)\n",
      "File \u001b[1;32m~\\anaconda3\\envs\\utea\\lib\\site-packages\\requests\\sessions.py:589\u001b[0m, in \u001b[0;36mSession.request\u001b[1;34m(self, method, url, params, data, headers, cookies, files, auth, timeout, allow_redirects, proxies, hooks, stream, verify, cert, json)\u001b[0m\n\u001b[0;32m    584\u001b[0m send_kwargs \u001b[38;5;241m=\u001b[39m {\n\u001b[0;32m    585\u001b[0m     \u001b[38;5;124m\"\u001b[39m\u001b[38;5;124mtimeout\u001b[39m\u001b[38;5;124m\"\u001b[39m: timeout,\n\u001b[0;32m    586\u001b[0m     \u001b[38;5;124m\"\u001b[39m\u001b[38;5;124mallow_redirects\u001b[39m\u001b[38;5;124m\"\u001b[39m: allow_redirects,\n\u001b[0;32m    587\u001b[0m }\n\u001b[0;32m    588\u001b[0m send_kwargs\u001b[38;5;241m.\u001b[39mupdate(settings)\n\u001b[1;32m--> 589\u001b[0m resp \u001b[38;5;241m=\u001b[39m \u001b[38;5;28mself\u001b[39m\u001b[38;5;241m.\u001b[39msend(prep, \u001b[38;5;241m*\u001b[39m\u001b[38;5;241m*\u001b[39msend_kwargs)\n\u001b[0;32m    591\u001b[0m \u001b[38;5;28;01mreturn\u001b[39;00m resp\n",
      "File \u001b[1;32m~\\anaconda3\\envs\\utea\\lib\\site-packages\\requests\\sessions.py:703\u001b[0m, in \u001b[0;36mSession.send\u001b[1;34m(self, request, **kwargs)\u001b[0m\n\u001b[0;32m    700\u001b[0m start \u001b[38;5;241m=\u001b[39m preferred_clock()\n\u001b[0;32m    702\u001b[0m \u001b[38;5;66;03m# Send the request\u001b[39;00m\n\u001b[1;32m--> 703\u001b[0m r \u001b[38;5;241m=\u001b[39m adapter\u001b[38;5;241m.\u001b[39msend(request, \u001b[38;5;241m*\u001b[39m\u001b[38;5;241m*\u001b[39mkwargs)\n\u001b[0;32m    705\u001b[0m \u001b[38;5;66;03m# Total elapsed time of the request (approximately)\u001b[39;00m\n\u001b[0;32m    706\u001b[0m elapsed \u001b[38;5;241m=\u001b[39m preferred_clock() \u001b[38;5;241m-\u001b[39m start\n",
      "File \u001b[1;32m~\\anaconda3\\envs\\utea\\lib\\site-packages\\requests\\adapters.py:486\u001b[0m, in \u001b[0;36mHTTPAdapter.send\u001b[1;34m(self, request, stream, timeout, verify, cert, proxies)\u001b[0m\n\u001b[0;32m    483\u001b[0m     timeout \u001b[38;5;241m=\u001b[39m TimeoutSauce(connect\u001b[38;5;241m=\u001b[39mtimeout, read\u001b[38;5;241m=\u001b[39mtimeout)\n\u001b[0;32m    485\u001b[0m \u001b[38;5;28;01mtry\u001b[39;00m:\n\u001b[1;32m--> 486\u001b[0m     resp \u001b[38;5;241m=\u001b[39m \u001b[43mconn\u001b[49m\u001b[38;5;241;43m.\u001b[39;49m\u001b[43murlopen\u001b[49m\u001b[43m(\u001b[49m\n\u001b[0;32m    487\u001b[0m \u001b[43m        \u001b[49m\u001b[43mmethod\u001b[49m\u001b[38;5;241;43m=\u001b[39;49m\u001b[43mrequest\u001b[49m\u001b[38;5;241;43m.\u001b[39;49m\u001b[43mmethod\u001b[49m\u001b[43m,\u001b[49m\n\u001b[0;32m    488\u001b[0m \u001b[43m        \u001b[49m\u001b[43murl\u001b[49m\u001b[38;5;241;43m=\u001b[39;49m\u001b[43murl\u001b[49m\u001b[43m,\u001b[49m\n\u001b[0;32m    489\u001b[0m \u001b[43m        \u001b[49m\u001b[43mbody\u001b[49m\u001b[38;5;241;43m=\u001b[39;49m\u001b[43mrequest\u001b[49m\u001b[38;5;241;43m.\u001b[39;49m\u001b[43mbody\u001b[49m\u001b[43m,\u001b[49m\n\u001b[0;32m    490\u001b[0m \u001b[43m        \u001b[49m\u001b[43mheaders\u001b[49m\u001b[38;5;241;43m=\u001b[39;49m\u001b[43mrequest\u001b[49m\u001b[38;5;241;43m.\u001b[39;49m\u001b[43mheaders\u001b[49m\u001b[43m,\u001b[49m\n\u001b[0;32m    491\u001b[0m \u001b[43m        \u001b[49m\u001b[43mredirect\u001b[49m\u001b[38;5;241;43m=\u001b[39;49m\u001b[38;5;28;43;01mFalse\u001b[39;49;00m\u001b[43m,\u001b[49m\n\u001b[0;32m    492\u001b[0m \u001b[43m        \u001b[49m\u001b[43massert_same_host\u001b[49m\u001b[38;5;241;43m=\u001b[39;49m\u001b[38;5;28;43;01mFalse\u001b[39;49;00m\u001b[43m,\u001b[49m\n\u001b[0;32m    493\u001b[0m \u001b[43m        \u001b[49m\u001b[43mpreload_content\u001b[49m\u001b[38;5;241;43m=\u001b[39;49m\u001b[38;5;28;43;01mFalse\u001b[39;49;00m\u001b[43m,\u001b[49m\n\u001b[0;32m    494\u001b[0m \u001b[43m        \u001b[49m\u001b[43mdecode_content\u001b[49m\u001b[38;5;241;43m=\u001b[39;49m\u001b[38;5;28;43;01mFalse\u001b[39;49;00m\u001b[43m,\u001b[49m\n\u001b[0;32m    495\u001b[0m \u001b[43m        \u001b[49m\u001b[43mretries\u001b[49m\u001b[38;5;241;43m=\u001b[39;49m\u001b[38;5;28;43mself\u001b[39;49m\u001b[38;5;241;43m.\u001b[39;49m\u001b[43mmax_retries\u001b[49m\u001b[43m,\u001b[49m\n\u001b[0;32m    496\u001b[0m \u001b[43m        \u001b[49m\u001b[43mtimeout\u001b[49m\u001b[38;5;241;43m=\u001b[39;49m\u001b[43mtimeout\u001b[49m\u001b[43m,\u001b[49m\n\u001b[0;32m    497\u001b[0m \u001b[43m        \u001b[49m\u001b[43mchunked\u001b[49m\u001b[38;5;241;43m=\u001b[39;49m\u001b[43mchunked\u001b[49m\u001b[43m,\u001b[49m\n\u001b[0;32m    498\u001b[0m \u001b[43m    \u001b[49m\u001b[43m)\u001b[49m\n\u001b[0;32m    500\u001b[0m \u001b[38;5;28;01mexcept\u001b[39;00m (ProtocolError, \u001b[38;5;167;01mOSError\u001b[39;00m) \u001b[38;5;28;01mas\u001b[39;00m err:\n\u001b[0;32m    501\u001b[0m     \u001b[38;5;28;01mraise\u001b[39;00m \u001b[38;5;167;01mConnectionError\u001b[39;00m(err, request\u001b[38;5;241m=\u001b[39mrequest)\n",
      "File \u001b[1;32m~\\anaconda3\\envs\\utea\\lib\\site-packages\\urllib3\\connectionpool.py:793\u001b[0m, in \u001b[0;36mHTTPConnectionPool.urlopen\u001b[1;34m(self, method, url, body, headers, retries, redirect, assert_same_host, timeout, pool_timeout, release_conn, chunked, body_pos, preload_content, decode_content, **response_kw)\u001b[0m\n\u001b[0;32m    790\u001b[0m response_conn \u001b[38;5;241m=\u001b[39m conn \u001b[38;5;28;01mif\u001b[39;00m \u001b[38;5;129;01mnot\u001b[39;00m release_conn \u001b[38;5;28;01melse\u001b[39;00m \u001b[38;5;28;01mNone\u001b[39;00m\n\u001b[0;32m    792\u001b[0m \u001b[38;5;66;03m# Make the request on the HTTPConnection object\u001b[39;00m\n\u001b[1;32m--> 793\u001b[0m response \u001b[38;5;241m=\u001b[39m \u001b[38;5;28mself\u001b[39m\u001b[38;5;241m.\u001b[39m_make_request(\n\u001b[0;32m    794\u001b[0m     conn,\n\u001b[0;32m    795\u001b[0m     method,\n\u001b[0;32m    796\u001b[0m     url,\n\u001b[0;32m    797\u001b[0m     timeout\u001b[38;5;241m=\u001b[39mtimeout_obj,\n\u001b[0;32m    798\u001b[0m     body\u001b[38;5;241m=\u001b[39mbody,\n\u001b[0;32m    799\u001b[0m     headers\u001b[38;5;241m=\u001b[39mheaders,\n\u001b[0;32m    800\u001b[0m     chunked\u001b[38;5;241m=\u001b[39mchunked,\n\u001b[0;32m    801\u001b[0m     retries\u001b[38;5;241m=\u001b[39mretries,\n\u001b[0;32m    802\u001b[0m     response_conn\u001b[38;5;241m=\u001b[39mresponse_conn,\n\u001b[0;32m    803\u001b[0m     preload_content\u001b[38;5;241m=\u001b[39mpreload_content,\n\u001b[0;32m    804\u001b[0m     decode_content\u001b[38;5;241m=\u001b[39mdecode_content,\n\u001b[0;32m    805\u001b[0m     \u001b[38;5;241m*\u001b[39m\u001b[38;5;241m*\u001b[39mresponse_kw,\n\u001b[0;32m    806\u001b[0m )\n\u001b[0;32m    808\u001b[0m \u001b[38;5;66;03m# Everything went great!\u001b[39;00m\n\u001b[0;32m    809\u001b[0m clean_exit \u001b[38;5;241m=\u001b[39m \u001b[38;5;28;01mTrue\u001b[39;00m\n",
      "File \u001b[1;32m~\\anaconda3\\envs\\utea\\lib\\site-packages\\urllib3\\connectionpool.py:467\u001b[0m, in \u001b[0;36mHTTPConnectionPool._make_request\u001b[1;34m(self, conn, method, url, body, headers, retries, timeout, chunked, response_conn, preload_content, decode_content, enforce_content_length)\u001b[0m\n\u001b[0;32m    464\u001b[0m \u001b[38;5;28;01mtry\u001b[39;00m:\n\u001b[0;32m    465\u001b[0m     \u001b[38;5;66;03m# Trigger any extra validation we need to do.\u001b[39;00m\n\u001b[0;32m    466\u001b[0m     \u001b[38;5;28;01mtry\u001b[39;00m:\n\u001b[1;32m--> 467\u001b[0m         \u001b[38;5;28;43mself\u001b[39;49m\u001b[38;5;241;43m.\u001b[39;49m\u001b[43m_validate_conn\u001b[49m\u001b[43m(\u001b[49m\u001b[43mconn\u001b[49m\u001b[43m)\u001b[49m\n\u001b[0;32m    468\u001b[0m     \u001b[38;5;28;01mexcept\u001b[39;00m (SocketTimeout, BaseSSLError) \u001b[38;5;28;01mas\u001b[39;00m e:\n\u001b[0;32m    469\u001b[0m         \u001b[38;5;28mself\u001b[39m\u001b[38;5;241m.\u001b[39m_raise_timeout(err\u001b[38;5;241m=\u001b[39me, url\u001b[38;5;241m=\u001b[39murl, timeout_value\u001b[38;5;241m=\u001b[39mconn\u001b[38;5;241m.\u001b[39mtimeout)\n",
      "File \u001b[1;32m~\\anaconda3\\envs\\utea\\lib\\site-packages\\urllib3\\connectionpool.py:1099\u001b[0m, in \u001b[0;36mHTTPSConnectionPool._validate_conn\u001b[1;34m(self, conn)\u001b[0m\n\u001b[0;32m   1097\u001b[0m \u001b[38;5;66;03m# Force connect early to allow us to validate the connection.\u001b[39;00m\n\u001b[0;32m   1098\u001b[0m \u001b[38;5;28;01mif\u001b[39;00m conn\u001b[38;5;241m.\u001b[39mis_closed:\n\u001b[1;32m-> 1099\u001b[0m     \u001b[43mconn\u001b[49m\u001b[38;5;241;43m.\u001b[39;49m\u001b[43mconnect\u001b[49m\u001b[43m(\u001b[49m\u001b[43m)\u001b[49m\n\u001b[0;32m   1101\u001b[0m \u001b[38;5;66;03m# TODO revise this, see https://github.com/urllib3/urllib3/issues/2791\u001b[39;00m\n\u001b[0;32m   1102\u001b[0m \u001b[38;5;28;01mif\u001b[39;00m \u001b[38;5;129;01mnot\u001b[39;00m conn\u001b[38;5;241m.\u001b[39mis_verified \u001b[38;5;129;01mand\u001b[39;00m \u001b[38;5;129;01mnot\u001b[39;00m conn\u001b[38;5;241m.\u001b[39mproxy_is_verified:\n",
      "File \u001b[1;32m~\\anaconda3\\envs\\utea\\lib\\site-packages\\urllib3\\connection.py:653\u001b[0m, in \u001b[0;36mHTTPSConnection.connect\u001b[1;34m(self)\u001b[0m\n\u001b[0;32m    650\u001b[0m \u001b[38;5;66;03m# Remove trailing '.' from fqdn hostnames to allow certificate validation\u001b[39;00m\n\u001b[0;32m    651\u001b[0m server_hostname_rm_dot \u001b[38;5;241m=\u001b[39m server_hostname\u001b[38;5;241m.\u001b[39mrstrip(\u001b[38;5;124m\"\u001b[39m\u001b[38;5;124m.\u001b[39m\u001b[38;5;124m\"\u001b[39m)\n\u001b[1;32m--> 653\u001b[0m sock_and_verified \u001b[38;5;241m=\u001b[39m \u001b[43m_ssl_wrap_socket_and_match_hostname\u001b[49m\u001b[43m(\u001b[49m\n\u001b[0;32m    654\u001b[0m \u001b[43m    \u001b[49m\u001b[43msock\u001b[49m\u001b[38;5;241;43m=\u001b[39;49m\u001b[43msock\u001b[49m\u001b[43m,\u001b[49m\n\u001b[0;32m    655\u001b[0m \u001b[43m    \u001b[49m\u001b[43mcert_reqs\u001b[49m\u001b[38;5;241;43m=\u001b[39;49m\u001b[38;5;28;43mself\u001b[39;49m\u001b[38;5;241;43m.\u001b[39;49m\u001b[43mcert_reqs\u001b[49m\u001b[43m,\u001b[49m\n\u001b[0;32m    656\u001b[0m \u001b[43m    \u001b[49m\u001b[43mssl_version\u001b[49m\u001b[38;5;241;43m=\u001b[39;49m\u001b[38;5;28;43mself\u001b[39;49m\u001b[38;5;241;43m.\u001b[39;49m\u001b[43mssl_version\u001b[49m\u001b[43m,\u001b[49m\n\u001b[0;32m    657\u001b[0m \u001b[43m    \u001b[49m\u001b[43mssl_minimum_version\u001b[49m\u001b[38;5;241;43m=\u001b[39;49m\u001b[38;5;28;43mself\u001b[39;49m\u001b[38;5;241;43m.\u001b[39;49m\u001b[43mssl_minimum_version\u001b[49m\u001b[43m,\u001b[49m\n\u001b[0;32m    658\u001b[0m \u001b[43m    \u001b[49m\u001b[43mssl_maximum_version\u001b[49m\u001b[38;5;241;43m=\u001b[39;49m\u001b[38;5;28;43mself\u001b[39;49m\u001b[38;5;241;43m.\u001b[39;49m\u001b[43mssl_maximum_version\u001b[49m\u001b[43m,\u001b[49m\n\u001b[0;32m    659\u001b[0m \u001b[43m    \u001b[49m\u001b[43mca_certs\u001b[49m\u001b[38;5;241;43m=\u001b[39;49m\u001b[38;5;28;43mself\u001b[39;49m\u001b[38;5;241;43m.\u001b[39;49m\u001b[43mca_certs\u001b[49m\u001b[43m,\u001b[49m\n\u001b[0;32m    660\u001b[0m \u001b[43m    \u001b[49m\u001b[43mca_cert_dir\u001b[49m\u001b[38;5;241;43m=\u001b[39;49m\u001b[38;5;28;43mself\u001b[39;49m\u001b[38;5;241;43m.\u001b[39;49m\u001b[43mca_cert_dir\u001b[49m\u001b[43m,\u001b[49m\n\u001b[0;32m    661\u001b[0m \u001b[43m    \u001b[49m\u001b[43mca_cert_data\u001b[49m\u001b[38;5;241;43m=\u001b[39;49m\u001b[38;5;28;43mself\u001b[39;49m\u001b[38;5;241;43m.\u001b[39;49m\u001b[43mca_cert_data\u001b[49m\u001b[43m,\u001b[49m\n\u001b[0;32m    662\u001b[0m \u001b[43m    \u001b[49m\u001b[43mcert_file\u001b[49m\u001b[38;5;241;43m=\u001b[39;49m\u001b[38;5;28;43mself\u001b[39;49m\u001b[38;5;241;43m.\u001b[39;49m\u001b[43mcert_file\u001b[49m\u001b[43m,\u001b[49m\n\u001b[0;32m    663\u001b[0m \u001b[43m    \u001b[49m\u001b[43mkey_file\u001b[49m\u001b[38;5;241;43m=\u001b[39;49m\u001b[38;5;28;43mself\u001b[39;49m\u001b[38;5;241;43m.\u001b[39;49m\u001b[43mkey_file\u001b[49m\u001b[43m,\u001b[49m\n\u001b[0;32m    664\u001b[0m \u001b[43m    \u001b[49m\u001b[43mkey_password\u001b[49m\u001b[38;5;241;43m=\u001b[39;49m\u001b[38;5;28;43mself\u001b[39;49m\u001b[38;5;241;43m.\u001b[39;49m\u001b[43mkey_password\u001b[49m\u001b[43m,\u001b[49m\n\u001b[0;32m    665\u001b[0m \u001b[43m    \u001b[49m\u001b[43mserver_hostname\u001b[49m\u001b[38;5;241;43m=\u001b[39;49m\u001b[43mserver_hostname_rm_dot\u001b[49m\u001b[43m,\u001b[49m\n\u001b[0;32m    666\u001b[0m \u001b[43m    \u001b[49m\u001b[43mssl_context\u001b[49m\u001b[38;5;241;43m=\u001b[39;49m\u001b[38;5;28;43mself\u001b[39;49m\u001b[38;5;241;43m.\u001b[39;49m\u001b[43mssl_context\u001b[49m\u001b[43m,\u001b[49m\n\u001b[0;32m    667\u001b[0m \u001b[43m    \u001b[49m\u001b[43mtls_in_tls\u001b[49m\u001b[38;5;241;43m=\u001b[39;49m\u001b[43mtls_in_tls\u001b[49m\u001b[43m,\u001b[49m\n\u001b[0;32m    668\u001b[0m \u001b[43m    \u001b[49m\u001b[43massert_hostname\u001b[49m\u001b[38;5;241;43m=\u001b[39;49m\u001b[38;5;28;43mself\u001b[39;49m\u001b[38;5;241;43m.\u001b[39;49m\u001b[43massert_hostname\u001b[49m\u001b[43m,\u001b[49m\n\u001b[0;32m    669\u001b[0m \u001b[43m    \u001b[49m\u001b[43massert_fingerprint\u001b[49m\u001b[38;5;241;43m=\u001b[39;49m\u001b[38;5;28;43mself\u001b[39;49m\u001b[38;5;241;43m.\u001b[39;49m\u001b[43massert_fingerprint\u001b[49m\u001b[43m,\u001b[49m\n\u001b[0;32m    670\u001b[0m \u001b[43m\u001b[49m\u001b[43m)\u001b[49m\n\u001b[0;32m    671\u001b[0m \u001b[38;5;28mself\u001b[39m\u001b[38;5;241m.\u001b[39msock \u001b[38;5;241m=\u001b[39m sock_and_verified\u001b[38;5;241m.\u001b[39msocket\n\u001b[0;32m    673\u001b[0m \u001b[38;5;66;03m# Forwarding proxies can never have a verified target since\u001b[39;00m\n\u001b[0;32m    674\u001b[0m \u001b[38;5;66;03m# the proxy is the one doing the verification. Should instead\u001b[39;00m\n\u001b[0;32m    675\u001b[0m \u001b[38;5;66;03m# use a CONNECT tunnel in order to verify the target.\u001b[39;00m\n\u001b[0;32m    676\u001b[0m \u001b[38;5;66;03m# See: https://github.com/urllib3/urllib3/issues/3267.\u001b[39;00m\n",
      "File \u001b[1;32m~\\anaconda3\\envs\\utea\\lib\\site-packages\\urllib3\\connection.py:806\u001b[0m, in \u001b[0;36m_ssl_wrap_socket_and_match_hostname\u001b[1;34m(sock, cert_reqs, ssl_version, ssl_minimum_version, ssl_maximum_version, cert_file, key_file, key_password, ca_certs, ca_cert_dir, ca_cert_data, assert_hostname, assert_fingerprint, server_hostname, ssl_context, tls_in_tls)\u001b[0m\n\u001b[0;32m    803\u001b[0m     \u001b[38;5;28;01mif\u001b[39;00m is_ipaddress(normalized):\n\u001b[0;32m    804\u001b[0m         server_hostname \u001b[38;5;241m=\u001b[39m normalized\n\u001b[1;32m--> 806\u001b[0m ssl_sock \u001b[38;5;241m=\u001b[39m \u001b[43mssl_wrap_socket\u001b[49m\u001b[43m(\u001b[49m\n\u001b[0;32m    807\u001b[0m \u001b[43m    \u001b[49m\u001b[43msock\u001b[49m\u001b[38;5;241;43m=\u001b[39;49m\u001b[43msock\u001b[49m\u001b[43m,\u001b[49m\n\u001b[0;32m    808\u001b[0m \u001b[43m    \u001b[49m\u001b[43mkeyfile\u001b[49m\u001b[38;5;241;43m=\u001b[39;49m\u001b[43mkey_file\u001b[49m\u001b[43m,\u001b[49m\n\u001b[0;32m    809\u001b[0m \u001b[43m    \u001b[49m\u001b[43mcertfile\u001b[49m\u001b[38;5;241;43m=\u001b[39;49m\u001b[43mcert_file\u001b[49m\u001b[43m,\u001b[49m\n\u001b[0;32m    810\u001b[0m \u001b[43m    \u001b[49m\u001b[43mkey_password\u001b[49m\u001b[38;5;241;43m=\u001b[39;49m\u001b[43mkey_password\u001b[49m\u001b[43m,\u001b[49m\n\u001b[0;32m    811\u001b[0m \u001b[43m    \u001b[49m\u001b[43mca_certs\u001b[49m\u001b[38;5;241;43m=\u001b[39;49m\u001b[43mca_certs\u001b[49m\u001b[43m,\u001b[49m\n\u001b[0;32m    812\u001b[0m \u001b[43m    \u001b[49m\u001b[43mca_cert_dir\u001b[49m\u001b[38;5;241;43m=\u001b[39;49m\u001b[43mca_cert_dir\u001b[49m\u001b[43m,\u001b[49m\n\u001b[0;32m    813\u001b[0m \u001b[43m    \u001b[49m\u001b[43mca_cert_data\u001b[49m\u001b[38;5;241;43m=\u001b[39;49m\u001b[43mca_cert_data\u001b[49m\u001b[43m,\u001b[49m\n\u001b[0;32m    814\u001b[0m \u001b[43m    \u001b[49m\u001b[43mserver_hostname\u001b[49m\u001b[38;5;241;43m=\u001b[39;49m\u001b[43mserver_hostname\u001b[49m\u001b[43m,\u001b[49m\n\u001b[0;32m    815\u001b[0m \u001b[43m    \u001b[49m\u001b[43mssl_context\u001b[49m\u001b[38;5;241;43m=\u001b[39;49m\u001b[43mcontext\u001b[49m\u001b[43m,\u001b[49m\n\u001b[0;32m    816\u001b[0m \u001b[43m    \u001b[49m\u001b[43mtls_in_tls\u001b[49m\u001b[38;5;241;43m=\u001b[39;49m\u001b[43mtls_in_tls\u001b[49m\u001b[43m,\u001b[49m\n\u001b[0;32m    817\u001b[0m \u001b[43m\u001b[49m\u001b[43m)\u001b[49m\n\u001b[0;32m    819\u001b[0m \u001b[38;5;28;01mtry\u001b[39;00m:\n\u001b[0;32m    820\u001b[0m     \u001b[38;5;28;01mif\u001b[39;00m assert_fingerprint:\n",
      "File \u001b[1;32m~\\anaconda3\\envs\\utea\\lib\\site-packages\\urllib3\\util\\ssl_.py:465\u001b[0m, in \u001b[0;36mssl_wrap_socket\u001b[1;34m(sock, keyfile, certfile, cert_reqs, ca_certs, server_hostname, ssl_version, ciphers, ssl_context, ca_cert_dir, key_password, ca_cert_data, tls_in_tls)\u001b[0m\n\u001b[0;32m    462\u001b[0m \u001b[38;5;28;01mexcept\u001b[39;00m \u001b[38;5;167;01mNotImplementedError\u001b[39;00m:  \u001b[38;5;66;03m# Defensive: in CI, we always have set_alpn_protocols\u001b[39;00m\n\u001b[0;32m    463\u001b[0m     \u001b[38;5;28;01mpass\u001b[39;00m\n\u001b[1;32m--> 465\u001b[0m ssl_sock \u001b[38;5;241m=\u001b[39m \u001b[43m_ssl_wrap_socket_impl\u001b[49m\u001b[43m(\u001b[49m\u001b[43msock\u001b[49m\u001b[43m,\u001b[49m\u001b[43m \u001b[49m\u001b[43mcontext\u001b[49m\u001b[43m,\u001b[49m\u001b[43m \u001b[49m\u001b[43mtls_in_tls\u001b[49m\u001b[43m,\u001b[49m\u001b[43m \u001b[49m\u001b[43mserver_hostname\u001b[49m\u001b[43m)\u001b[49m\n\u001b[0;32m    466\u001b[0m \u001b[38;5;28;01mreturn\u001b[39;00m ssl_sock\n",
      "File \u001b[1;32m~\\anaconda3\\envs\\utea\\lib\\site-packages\\urllib3\\util\\ssl_.py:509\u001b[0m, in \u001b[0;36m_ssl_wrap_socket_impl\u001b[1;34m(sock, ssl_context, tls_in_tls, server_hostname)\u001b[0m\n\u001b[0;32m    506\u001b[0m     SSLTransport\u001b[38;5;241m.\u001b[39m_validate_ssl_context_for_tls_in_tls(ssl_context)\n\u001b[0;32m    507\u001b[0m     \u001b[38;5;28;01mreturn\u001b[39;00m SSLTransport(sock, ssl_context, server_hostname)\n\u001b[1;32m--> 509\u001b[0m \u001b[38;5;28;01mreturn\u001b[39;00m \u001b[43mssl_context\u001b[49m\u001b[38;5;241;43m.\u001b[39;49m\u001b[43mwrap_socket\u001b[49m\u001b[43m(\u001b[49m\u001b[43msock\u001b[49m\u001b[43m,\u001b[49m\u001b[43m \u001b[49m\u001b[43mserver_hostname\u001b[49m\u001b[38;5;241;43m=\u001b[39;49m\u001b[43mserver_hostname\u001b[49m\u001b[43m)\u001b[49m\n",
      "File \u001b[1;32m~\\anaconda3\\envs\\utea\\lib\\ssl.py:513\u001b[0m, in \u001b[0;36mSSLContext.wrap_socket\u001b[1;34m(self, sock, server_side, do_handshake_on_connect, suppress_ragged_eofs, server_hostname, session)\u001b[0m\n\u001b[0;32m    507\u001b[0m \u001b[38;5;28;01mdef\u001b[39;00m \u001b[38;5;21mwrap_socket\u001b[39m(\u001b[38;5;28mself\u001b[39m, sock, server_side\u001b[38;5;241m=\u001b[39m\u001b[38;5;28;01mFalse\u001b[39;00m,\n\u001b[0;32m    508\u001b[0m                 do_handshake_on_connect\u001b[38;5;241m=\u001b[39m\u001b[38;5;28;01mTrue\u001b[39;00m,\n\u001b[0;32m    509\u001b[0m                 suppress_ragged_eofs\u001b[38;5;241m=\u001b[39m\u001b[38;5;28;01mTrue\u001b[39;00m,\n\u001b[0;32m    510\u001b[0m                 server_hostname\u001b[38;5;241m=\u001b[39m\u001b[38;5;28;01mNone\u001b[39;00m, session\u001b[38;5;241m=\u001b[39m\u001b[38;5;28;01mNone\u001b[39;00m):\n\u001b[0;32m    511\u001b[0m     \u001b[38;5;66;03m# SSLSocket class handles server_hostname encoding before it calls\u001b[39;00m\n\u001b[0;32m    512\u001b[0m     \u001b[38;5;66;03m# ctx._wrap_socket()\u001b[39;00m\n\u001b[1;32m--> 513\u001b[0m     \u001b[38;5;28;01mreturn\u001b[39;00m \u001b[38;5;28;43mself\u001b[39;49m\u001b[38;5;241;43m.\u001b[39;49m\u001b[43msslsocket_class\u001b[49m\u001b[38;5;241;43m.\u001b[39;49m\u001b[43m_create\u001b[49m\u001b[43m(\u001b[49m\n\u001b[0;32m    514\u001b[0m \u001b[43m        \u001b[49m\u001b[43msock\u001b[49m\u001b[38;5;241;43m=\u001b[39;49m\u001b[43msock\u001b[49m\u001b[43m,\u001b[49m\n\u001b[0;32m    515\u001b[0m \u001b[43m        \u001b[49m\u001b[43mserver_side\u001b[49m\u001b[38;5;241;43m=\u001b[39;49m\u001b[43mserver_side\u001b[49m\u001b[43m,\u001b[49m\n\u001b[0;32m    516\u001b[0m \u001b[43m        \u001b[49m\u001b[43mdo_handshake_on_connect\u001b[49m\u001b[38;5;241;43m=\u001b[39;49m\u001b[43mdo_handshake_on_connect\u001b[49m\u001b[43m,\u001b[49m\n\u001b[0;32m    517\u001b[0m \u001b[43m        \u001b[49m\u001b[43msuppress_ragged_eofs\u001b[49m\u001b[38;5;241;43m=\u001b[39;49m\u001b[43msuppress_ragged_eofs\u001b[49m\u001b[43m,\u001b[49m\n\u001b[0;32m    518\u001b[0m \u001b[43m        \u001b[49m\u001b[43mserver_hostname\u001b[49m\u001b[38;5;241;43m=\u001b[39;49m\u001b[43mserver_hostname\u001b[49m\u001b[43m,\u001b[49m\n\u001b[0;32m    519\u001b[0m \u001b[43m        \u001b[49m\u001b[43mcontext\u001b[49m\u001b[38;5;241;43m=\u001b[39;49m\u001b[38;5;28;43mself\u001b[39;49m\u001b[43m,\u001b[49m\n\u001b[0;32m    520\u001b[0m \u001b[43m        \u001b[49m\u001b[43msession\u001b[49m\u001b[38;5;241;43m=\u001b[39;49m\u001b[43msession\u001b[49m\n\u001b[0;32m    521\u001b[0m \u001b[43m    \u001b[49m\u001b[43m)\u001b[49m\n",
      "File \u001b[1;32m~\\anaconda3\\envs\\utea\\lib\\ssl.py:1104\u001b[0m, in \u001b[0;36mSSLSocket._create\u001b[1;34m(cls, sock, server_side, do_handshake_on_connect, suppress_ragged_eofs, server_hostname, context, session)\u001b[0m\n\u001b[0;32m   1101\u001b[0m         \u001b[38;5;28;01mif\u001b[39;00m timeout \u001b[38;5;241m==\u001b[39m \u001b[38;5;241m0.0\u001b[39m:\n\u001b[0;32m   1102\u001b[0m             \u001b[38;5;66;03m# non-blocking\u001b[39;00m\n\u001b[0;32m   1103\u001b[0m             \u001b[38;5;28;01mraise\u001b[39;00m \u001b[38;5;167;01mValueError\u001b[39;00m(\u001b[38;5;124m\"\u001b[39m\u001b[38;5;124mdo_handshake_on_connect should not be specified for non-blocking sockets\u001b[39m\u001b[38;5;124m\"\u001b[39m)\n\u001b[1;32m-> 1104\u001b[0m         \u001b[38;5;28;43mself\u001b[39;49m\u001b[38;5;241;43m.\u001b[39;49m\u001b[43mdo_handshake\u001b[49m\u001b[43m(\u001b[49m\u001b[43m)\u001b[49m\n\u001b[0;32m   1105\u001b[0m \u001b[38;5;28;01mexcept\u001b[39;00m (\u001b[38;5;167;01mOSError\u001b[39;00m, \u001b[38;5;167;01mValueError\u001b[39;00m):\n\u001b[0;32m   1106\u001b[0m     \u001b[38;5;28mself\u001b[39m\u001b[38;5;241m.\u001b[39mclose()\n",
      "File \u001b[1;32m~\\anaconda3\\envs\\utea\\lib\\ssl.py:1375\u001b[0m, in \u001b[0;36mSSLSocket.do_handshake\u001b[1;34m(self, block)\u001b[0m\n\u001b[0;32m   1373\u001b[0m     \u001b[38;5;28;01mif\u001b[39;00m timeout \u001b[38;5;241m==\u001b[39m \u001b[38;5;241m0.0\u001b[39m \u001b[38;5;129;01mand\u001b[39;00m block:\n\u001b[0;32m   1374\u001b[0m         \u001b[38;5;28mself\u001b[39m\u001b[38;5;241m.\u001b[39msettimeout(\u001b[38;5;28;01mNone\u001b[39;00m)\n\u001b[1;32m-> 1375\u001b[0m     \u001b[38;5;28;43mself\u001b[39;49m\u001b[38;5;241;43m.\u001b[39;49m\u001b[43m_sslobj\u001b[49m\u001b[38;5;241;43m.\u001b[39;49m\u001b[43mdo_handshake\u001b[49m\u001b[43m(\u001b[49m\u001b[43m)\u001b[49m\n\u001b[0;32m   1376\u001b[0m \u001b[38;5;28;01mfinally\u001b[39;00m:\n\u001b[0;32m   1377\u001b[0m     \u001b[38;5;28mself\u001b[39m\u001b[38;5;241m.\u001b[39msettimeout(timeout)\n",
      "\u001b[1;31mKeyboardInterrupt\u001b[0m: "
     ]
    }
   ],
   "source": [
    "while True:\n",
    "    reg_amigo = get_registro_notificacion()\n",
    "    if len(reg_amigo) == 0:\n",
    "        print('No existen notificaciones nuevas')\n",
    "        continue\n",
    "    reg_amigo = reg_amigo[0]\n",
    "    # extrae cod_ca y nom_ca del registro\n",
    "    cod_ca = int(reg_amigo['canhero'].split(' / ')[0])\n",
    "    nom_ca = reg_amigo['canhero'].split(' / ')[1]\n",
    "    # filtra en la lista de planificacion el cod_ca para obtener los numeros cel.\n",
    "    reg = df_plan[df_plan['cod_ca']==cod_ca].iloc[0]\n",
    "    # id del registro en amigocloud\n",
    "    idd = reg_amigo['id']\n",
    "    # extrae fecha y hora de registro menos 4 horas por desfase temprotal\n",
    "    fecha_hora_obj = datetime.fromisoformat(reg_amigo['fecha_registro'])\n",
    "    fecha_hora_menos_4h = fecha_hora_obj - timedelta(hours=4)\n",
    "    # formatea la fecha de registro\n",
    "    fecha_str = fecha_hora_menos_4h.strftime('%d-%m-%Y')\n",
    "    # formatea la hora de registro\n",
    "    hora_str = fecha_hora_menos_4h.strftime('%H:%M:%S')\n",
    "    # extrae los numeros telefonicos\n",
    "    telefonos = [reg['telf01'], reg['telf02'], reg['telf03']]\n",
    "    # valida los numeros telefonicos\n",
    "    telefonos_validos = [telefono for telefono in telefonos if len(str(telefono)) == 8]\n",
    "    # extrae nombre del piloto\n",
    "    tecnico = reg_amigo['piloto']\n",
    "    tec_telf = tecnico_telf[tecnico]\n",
    "    telefonos_validos.append(tec_telf)\n",
    "    telefonos_validos.append(68908131)\n",
    "    # extra el tipo de labor (liberacion o pulverizacion)\n",
    "    labor = reg_amigo['tipo_labor']\n",
    "    # extrae el estado de la labor (inicio o fin de labor)\n",
    "    estado = reg_amigo['tipo_mensaje']\n",
    "    # extrae y convierte la ubicacion\n",
    "    ubi = convertir_wkb(reg_amigo['ubicacion'])\n",
    "    longitud = ubi.x  # Longitud (coordenada X)\n",
    "    latitud = ubi.y   # Latitud (coordenada Y)\n",
    "    crear_msj(idd, fecha_str, hora_str, cod_ca, nom_ca, telefonos_validos, labor, estado, tecnico, longitud, latitud)\n",
    "    anular_registro_notificacion(idd)\n",
    "    ##time.sleep(30)"
   ]
  },
  {
   "cell_type": "code",
   "execution_count": null,
   "id": "0269915a-9273-44ed-83ef-e729ff12b566",
   "metadata": {},
   "outputs": [],
   "source": [
    "    \n",
    "    "
   ]
  },
  {
   "cell_type": "code",
   "execution_count": null,
   "id": "75f56ae2-9b70-4d20-9af2-0e1f3d01c717",
   "metadata": {},
   "outputs": [],
   "source": []
  },
  {
   "cell_type": "code",
   "execution_count": null,
   "id": "3a882bce-5f80-424e-b1a2-3beb38c08f2c",
   "metadata": {},
   "outputs": [],
   "source": []
  },
  {
   "cell_type": "code",
   "execution_count": null,
   "id": "0d1910e0-ba4a-4ed5-ae3f-3eef814b5b9c",
   "metadata": {},
   "outputs": [],
   "source": []
  },
  {
   "cell_type": "code",
   "execution_count": 109,
   "id": "84052181-921f-4e84-86e7-8e8579c06abd",
   "metadata": {},
   "outputs": [],
   "source": [
    "df_plan = pd.read_excel(path_xlsx_plan)"
   ]
  },
  {
   "cell_type": "code",
   "execution_count": 110,
   "id": "e5f6afd2-bf3f-4628-8717-dc23c594a4a1",
   "metadata": {},
   "outputs": [],
   "source": [
    "df_plan = df_plan[['cod_ca', 'nom_ca', 'telf01', 'telf02', 'telf03']]"
   ]
  },
  {
   "cell_type": "code",
   "execution_count": 111,
   "id": "8d5a20f3-7e29-4d4c-ba15-7070283e01b1",
   "metadata": {},
   "outputs": [
    {
     "data": {
      "text/html": [
       "<div>\n",
       "<style scoped>\n",
       "    .dataframe tbody tr th:only-of-type {\n",
       "        vertical-align: middle;\n",
       "    }\n",
       "\n",
       "    .dataframe tbody tr th {\n",
       "        vertical-align: top;\n",
       "    }\n",
       "\n",
       "    .dataframe thead th {\n",
       "        text-align: right;\n",
       "    }\n",
       "</style>\n",
       "<table border=\"1\" class=\"dataframe\">\n",
       "  <thead>\n",
       "    <tr style=\"text-align: right;\">\n",
       "      <th></th>\n",
       "      <th>cod_ca</th>\n",
       "      <th>nom_ca</th>\n",
       "      <th>telf01</th>\n",
       "      <th>telf02</th>\n",
       "      <th>telf03</th>\n",
       "    </tr>\n",
       "  </thead>\n",
       "  <tbody>\n",
       "    <tr>\n",
       "      <th>0</th>\n",
       "      <td>0</td>\n",
       "      <td>BISAMRK</td>\n",
       "      <td>78194371</td>\n",
       "      <td>62022996</td>\n",
       "      <td>NaN</td>\n",
       "    </tr>\n",
       "  </tbody>\n",
       "</table>\n",
       "</div>"
      ],
      "text/plain": [
       "   cod_ca   nom_ca    telf01    telf02  telf03\n",
       "0       0  BISAMRK  78194371  62022996     NaN"
      ]
     },
     "execution_count": 111,
     "metadata": {},
     "output_type": "execute_result"
    }
   ],
   "source": [
    "df_plan.head(3)"
   ]
  },
  {
   "cell_type": "code",
   "execution_count": 112,
   "id": "f974aef7-5af3-4a3f-8321-1b1f1f9ef7a1",
   "metadata": {},
   "outputs": [],
   "source": [
    "# get data de nuevas notificacion de liberacion\n",
    "query = 'select * from dataset_354655 where procesado=false'\n",
    "notif = ejecutar_query_sql(33457, query, 'get')\n",
    "notif = notif['data']"
   ]
  },
  {
   "cell_type": "code",
   "execution_count": 113,
   "id": "2f2fd7f1-9284-448a-94a7-18bff4849336",
   "metadata": {},
   "outputs": [
    {
     "data": {
      "text/plain": [
       "[{'fecha_registro': '2024-09-27 18:55:02+00:00',\n",
       "  'amigo_id': 'affa5abcf0444f2ab5e5b4fe706af68d',\n",
       "  'id': 7,\n",
       "  'piloto': 'ALEJANDRO SANCHEZ',\n",
       "  'canhero': '0 / BISMARK SOCOMPI',\n",
       "  'ubicacion': '0101000020E6100000B7E63345259B4FC020915B38B53A31C0',\n",
       "  'tipo_labor': 'PULVERIZACION',\n",
       "  'tipo_mensaje': 'INICIO DE LABOR',\n",
       "  'procesado': False}]"
      ]
     },
     "execution_count": 113,
     "metadata": {},
     "output_type": "execute_result"
    }
   ],
   "source": [
    "notif"
   ]
  },
  {
   "cell_type": "code",
   "execution_count": 114,
   "id": "a2fbcada-b2e1-4699-b0c0-c41eb6547c77",
   "metadata": {},
   "outputs": [],
   "source": [
    "# extrae el primer elemento\n",
    "reg_amigo = notif[0]"
   ]
  },
  {
   "cell_type": "code",
   "execution_count": 117,
   "id": "ecad418e-e791-4d93-8790-c2a72e6b3fa0",
   "metadata": {},
   "outputs": [
    {
     "data": {
      "text/plain": [
       "{'fecha_registro': '2024-09-27 18:55:02+00:00',\n",
       " 'amigo_id': 'affa5abcf0444f2ab5e5b4fe706af68d',\n",
       " 'id': 7,\n",
       " 'piloto': 'ALEJANDRO SANCHEZ',\n",
       " 'canhero': '0 / BISMARK SOCOMPI',\n",
       " 'ubicacion': '0101000020E6100000B7E63345259B4FC020915B38B53A31C0',\n",
       " 'tipo_labor': 'PULVERIZACION',\n",
       " 'tipo_mensaje': 'INICIO DE LABOR',\n",
       " 'procesado': False}"
      ]
     },
     "execution_count": 117,
     "metadata": {},
     "output_type": "execute_result"
    }
   ],
   "source": [
    "reg_amigo"
   ]
  },
  {
   "cell_type": "code",
   "execution_count": 118,
   "id": "1a6e9e80-10ce-44f6-a7e1-8bbe83fa5d6a",
   "metadata": {},
   "outputs": [],
   "source": [
    "# extrae cod_ca y nom_ca del registro\n",
    "cod_ca = int(reg_amigo['canhero'].split(' / ')[0])\n",
    "nom_ca = reg_amigo['canhero'].split(' / ')[1]"
   ]
  },
  {
   "cell_type": "code",
   "execution_count": 119,
   "id": "a84342db-c428-46c8-a4cd-02d84a8758ab",
   "metadata": {},
   "outputs": [],
   "source": [
    "# filtra en la lista de planificacion el cod_ca para obtener los numeros cel.\n",
    "reg = df_plan[df_plan['cod_ca']==cod_ca].iloc[0]"
   ]
  },
  {
   "cell_type": "code",
   "execution_count": 120,
   "id": "fbba2110-8be4-4339-b55d-b789bf671d3a",
   "metadata": {},
   "outputs": [],
   "source": [
    "# id del registro en amigocloud\n",
    "idd = reg_amigo['id']"
   ]
  },
  {
   "cell_type": "code",
   "execution_count": 121,
   "id": "c1791680-5e41-4918-8f18-c54d66a9e229",
   "metadata": {},
   "outputs": [
    {
     "data": {
      "text/plain": [
       "7"
      ]
     },
     "execution_count": 121,
     "metadata": {},
     "output_type": "execute_result"
    }
   ],
   "source": [
    "idd"
   ]
  },
  {
   "cell_type": "code",
   "execution_count": 30,
   "id": "47abab1e-d3de-4ed6-9f2e-0aa18b854b4d",
   "metadata": {},
   "outputs": [],
   "source": [
    "# extrae fecha y hora de registro menos 4 horas por desfase temprotal\n",
    "fecha_hora_obj = datetime.fromisoformat(reg_amigo['fecha_registro'])\n",
    "fecha_hora_menos_4h = fecha_hora_obj - timedelta(hours=4)"
   ]
  },
  {
   "cell_type": "code",
   "execution_count": 31,
   "id": "64340ce0-2189-44b2-82dd-8f91d7d2aa3d",
   "metadata": {},
   "outputs": [],
   "source": [
    "# formatea la fecha de registro\n",
    "fecha_str = fecha_hora_menos_4h.strftime('%d-%m-%Y')"
   ]
  },
  {
   "cell_type": "code",
   "execution_count": 32,
   "id": "83884e82-561a-49b1-ba3e-745290ba0892",
   "metadata": {},
   "outputs": [],
   "source": [
    "# formatea la hora de registro\n",
    "hora_str = fecha_hora_menos_4h.strftime('%H:%M:%S')"
   ]
  },
  {
   "cell_type": "code",
   "execution_count": 66,
   "id": "0c3be11a-7993-4e98-9288-9d4b20de63e6",
   "metadata": {},
   "outputs": [],
   "source": [
    "# extrae los numeros telefonicos\n",
    "telefonos = [reg['telf01'], reg['telf02'], reg['telf03']]\n",
    "# valida los numeros telefonicos\n",
    "telefonos_validos = [telefono for telefono in telefonos if len(str(telefono)) == 8]"
   ]
  },
  {
   "cell_type": "code",
   "execution_count": 67,
   "id": "fc234448-e5ad-4a07-b101-849bfac637a2",
   "metadata": {},
   "outputs": [],
   "source": [
    "# extra el tipo de labor (liberacion o pulverizacion)\n",
    "labor = reg_amigo['tipo_labor']"
   ]
  },
  {
   "cell_type": "code",
   "execution_count": 68,
   "id": "1ceeb311-d7ee-4337-b33e-b01832a0f4fb",
   "metadata": {},
   "outputs": [],
   "source": [
    "# extrae el estado de la labor (inicio o fin de labor)\n",
    "estado = reg_amigo['tipo_mensaje']"
   ]
  },
  {
   "cell_type": "code",
   "execution_count": 69,
   "id": "1742a905-bf1a-4b27-b5f2-b0c3b19748b4",
   "metadata": {},
   "outputs": [],
   "source": [
    "# extrae nombre del piloto\n",
    "tecnico = reg_amigo['piloto']"
   ]
  },
  {
   "cell_type": "code",
   "execution_count": 70,
   "id": "81b46a91-e2da-44cc-830e-e114d07688e9",
   "metadata": {},
   "outputs": [],
   "source": [
    "# extrae y convierte la ubicacion\n",
    "ubi = convertir_wkb(reg_amigo['ubicacion'])\n",
    "longitud = ubi.x  # Longitud (coordenada X)\n",
    "latitud = ubi.y   # Latitud (coordenada Y)"
   ]
  },
  {
   "cell_type": "code",
   "execution_count": 71,
   "id": "b2dd9d39-4cf9-4b65-b48a-b5387f1f7b30",
   "metadata": {},
   "outputs": [],
   "source": []
  },
  {
   "cell_type": "code",
   "execution_count": 72,
   "id": "847b3286-c3aa-4546-9988-2f91d3ab09e1",
   "metadata": {},
   "outputs": [],
   "source": []
  },
  {
   "cell_type": "code",
   "execution_count": null,
   "id": "c01cf8f3-859d-4a2d-96ad-94867a9ccab5",
   "metadata": {},
   "outputs": [],
   "source": []
  },
  {
   "cell_type": "code",
   "execution_count": null,
   "id": "aa0a3544-c82e-4032-83c7-8f098387c404",
   "metadata": {},
   "outputs": [],
   "source": []
  },
  {
   "cell_type": "code",
   "execution_count": 74,
   "id": "d12c34ad-b46d-4200-a427-8196ce9f8093",
   "metadata": {},
   "outputs": [
    {
     "name": "stdout",
     "output_type": "stream",
     "text": [
      "5;27-09-2024;14:16:07;0;BISMARK SOCOMPI;78194371;Señor(a) *BISMARK SOCOMPI* se le informa que se esta iniciando el trabajo de *PULVERIZACION* en la siguiente ubicacion: https://www.google.com/maps?q=-17.2435023,-63.1980813. Para cualquier consulta puede comunicarse con ING. ALEJANDRO SANCHEZ al 78448317\n",
      "5;27-09-2024;14:16:07;0;BISMARK SOCOMPI;62022996;Señor(a) *BISMARK SOCOMPI* se le informa que se esta iniciando el trabajo de *PULVERIZACION* en la siguiente ubicacion: https://www.google.com/maps?q=-17.2435023,-63.1980813. Para cualquier consulta puede comunicarse con ING. ALEJANDRO SANCHEZ al 78448317\n"
     ]
    }
   ],
   "source": [
    "crear_msj(idd, fecha_str, hora_str, cod_ca, nom_ca, telefonos_validos, labor, estado, tecnico, longitud, latitud)"
   ]
  },
  {
   "cell_type": "code",
   "execution_count": 44,
   "id": "78e1cde1-ac7d-4672-a1df-019a20b65e02",
   "metadata": {},
   "outputs": [
    {
     "data": {
      "text/plain": [
       "[]"
      ]
     },
     "execution_count": 44,
     "metadata": {},
     "output_type": "execute_result"
    }
   ],
   "source": [
    "telefonos_validos"
   ]
  },
  {
   "cell_type": "code",
   "execution_count": null,
   "id": "bc1de41f-b463-4dfa-9363-ea0e323c4996",
   "metadata": {},
   "outputs": [],
   "source": []
  },
  {
   "cell_type": "code",
   "execution_count": null,
   "id": "447656d3-2170-4473-9b93-e83d70ccccd6",
   "metadata": {},
   "outputs": [],
   "source": []
  },
  {
   "cell_type": "code",
   "execution_count": null,
   "id": "8a198f0e-ea22-46f3-8e7d-0d4fa6d119aa",
   "metadata": {},
   "outputs": [],
   "source": []
  },
  {
   "cell_type": "code",
   "execution_count": null,
   "id": "8652a35d-6aa4-47c1-88a6-c73fc8fe7fe5",
   "metadata": {},
   "outputs": [],
   "source": []
  }
 ],
 "metadata": {
  "kernelspec": {
   "display_name": "Python 3 (ipykernel)",
   "language": "python",
   "name": "python3"
  },
  "language_info": {
   "codemirror_mode": {
    "name": "ipython",
    "version": 3
   },
   "file_extension": ".py",
   "mimetype": "text/x-python",
   "name": "python",
   "nbconvert_exporter": "python",
   "pygments_lexer": "ipython3",
   "version": "3.10.13"
  }
 },
 "nbformat": 4,
 "nbformat_minor": 5
}
