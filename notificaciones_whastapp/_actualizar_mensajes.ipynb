{
 "cells": [
  {
   "cell_type": "code",
   "execution_count": 28,
   "id": "a67f83b1-6cb5-42db-ad01-25253ac5b216",
   "metadata": {},
   "outputs": [],
   "source": [
    "# IMPORTACIONES\n",
    "import csv\n",
    "import time\n",
    "import sys\n",
    "sys.path.append('../_amigocloud')\n",
    "from amigocloud import AmigoCloud\n",
    "import geopandas as gpd\n",
    "import pandas as pd\n",
    "from datetime import datetime\n",
    "from datetime import timedelta\n",
    "from shapely import wkb\n",
    "\n",
    "import requests"
   ]
  },
  {
   "cell_type": "code",
   "execution_count": 29,
   "id": "ef89a312-4957-4484-ba8c-b447021d7cf3",
   "metadata": {},
   "outputs": [
    {
     "data": {
      "text/plain": [
       "<amigocloud.AmigoCloud at 0x2039e343910>"
      ]
     },
     "execution_count": 29,
     "metadata": {},
     "output_type": "execute_result"
    }
   ],
   "source": [
    "# CONECCION CON AMIGOCLOUD\n",
    "# ruta de carpera donde estan las llaves\n",
    "ruta = open('../ruta.txt')\n",
    "ruta = ruta.readlines()[0]\n",
    "# leer token\n",
    "acceso = open(ruta + '/_keys/api_amigocloud.key','r')\n",
    "api_token = acceso.readlines()[0]\n",
    "acceso.close()\n",
    "amigocloud = AmigoCloud(token=api_token)\n",
    "amigocloud"
   ]
  },
  {
   "cell_type": "markdown",
   "id": "fc4aa164-95a1-487f-bfcf-4be3041233a7",
   "metadata": {},
   "source": [
    "## PARA TRICHO"
   ]
  },
  {
   "cell_type": "code",
   "execution_count": 30,
   "id": "4f0b1ca7-27ce-49ab-b9eb-f0240c6bcd7c",
   "metadata": {},
   "outputs": [],
   "source": [
    "# PATHS\n",
    "# RUTAS PARA NOTIFICACION DE LABORES DE LIBERACION DE TRICHOGRAMMA\n",
    "#path_xlsx_plan = r'G:\\Ingenio Azucarero Guabira S.A\\UTEA - SEMANAL - EQUIPO AVIACION UTEA\\Trichogramma\\pd_trichogramma_2024 - copia.xlsx'\n",
    "\n",
    "# PILA DE MENSAJES\n",
    "#path_txt_msj = r'C:\\Users\\Usuario\\Desktop\\PYTHON\\utea_scripts\\notificaciones_whastapp\\_msj_stack.txt'"
   ]
  },
  {
   "cell_type": "markdown",
   "id": "06af14d0-776e-4490-84fc-7a9b065a26c2",
   "metadata": {},
   "source": [
    "## PARA PULVERIZACION"
   ]
  },
  {
   "cell_type": "code",
   "execution_count": 31,
   "id": "2f9c4fc6-7922-4f55-9974-e3a593820496",
   "metadata": {},
   "outputs": [],
   "source": [
    "# PATHS\n",
    "# RUTAS PARA NOTIFICACION DE LABORES DE LIBERACION DE TRICHOGRAMMA\n",
    "path_xlsx_plan = r'G:\\Ingenio Azucarero Guabira S.A\\UTEA - SEMANAL - EQUIPO AVIACION UTEA\\Pulverizacion\\CONTACTOS.xlsx'\n",
    "\n",
    "# PILA DE MENSAJES\n",
    "path_txt_msj = r'C:\\Users\\Usuario\\Desktop\\PYTHON\\utea_scripts\\notificaciones_whastapp\\_msj_stack.txt'"
   ]
  },
  {
   "cell_type": "code",
   "execution_count": 32,
   "id": "2bc3ad52-a111-43ce-aac8-467b90f588b0",
   "metadata": {},
   "outputs": [],
   "source": [
    "# DATOS DE PILOTOS\n",
    "tecnico_telf = {\n",
    "    'ALEJANDRO SANCHEZ' : 78448317,\n",
    "    'AURELIO GARCIA' : 73975475,\n",
    "    'CHRISTIAN CALIZAYA' : 63619660,\n",
    "    'EDUARDO REYES' : 75016609}"
   ]
  },
  {
   "cell_type": "code",
   "execution_count": 33,
   "id": "8df96956-60ee-4aa2-b05b-d5eaaa873a3b",
   "metadata": {},
   "outputs": [],
   "source": [
    "# EJECUTAR QUERY\n",
    "# ejecuta cualquier query sql en el proyecto que se le indique\n",
    "# requiere el id de proyecto, query a ejecutar y tipo solicitud (get o post)\n",
    "def ejecutar_query_sql(id_project, query, tipo_sql):\n",
    "    # define la url del proyecto para ejecutar el querry\n",
    "    url_proyecto_sql = f'https://app.amigocloud.com/api/v1/projects/{id_project}/sql'\n",
    "    # crea la estructura de query para amigocloud\n",
    "    query_sql = {'query': query}\n",
    "    # variable para almacenar resultado\n",
    "    resultado_get = ''\n",
    "    # eleige que tipo de solicitud se realizara (get o post)\n",
    "    if tipo_sql == 'get': \n",
    "        resultado_get = amigocloud.get(url_proyecto_sql, query_sql)\n",
    "    elif tipo_sql == 'post':\n",
    "        resultado_get = amigocloud.post(url_proyecto_sql, query_sql)\n",
    "    else:\n",
    "        resultado_get = 'Se a seleccionado un tipo de solicitud erroneo.'\n",
    "    return resultado_get"
   ]
  },
  {
   "cell_type": "code",
   "execution_count": 34,
   "id": "3e48ccc3-056b-4358-92c2-b4d1ae24e144",
   "metadata": {},
   "outputs": [],
   "source": [
    "# CORVERSION DE WKB A COORS\n",
    "def convertir_wkb(wkb_data):\n",
    "    return wkb.loads(wkb_data, hex=True)"
   ]
  },
  {
   "cell_type": "code",
   "execution_count": null,
   "id": "5695ce32-3cf5-4fec-aa01-eed9a83580e4",
   "metadata": {},
   "outputs": [],
   "source": []
  },
  {
   "cell_type": "markdown",
   "id": "82a668b5-34ca-4e20-9456-dfd168347ed5",
   "metadata": {},
   "source": [
    "# NOTIFICACIONES DE LIBERACION"
   ]
  },
  {
   "cell_type": "code",
   "execution_count": 36,
   "id": "7f4c2117-beee-449b-9253-d04360c14e13",
   "metadata": {},
   "outputs": [],
   "source": [
    "def get_registro_notificacion():\n",
    "    try:\n",
    "        # get data de nuevas notificacion de liberacion\n",
    "        query = 'select * from dataset_354655 where procesado=false'\n",
    "        notif = ejecutar_query_sql(33457, query, 'get')\n",
    "        notif = notif['data']\n",
    "        # extrae el primer elemento\n",
    "        return notif\n",
    "    except Exception as general_err:\n",
    "        print(f\"Error inesperado: {general_err}\")\n",
    "        return ''"
   ]
  },
  {
   "cell_type": "code",
   "execution_count": 37,
   "id": "dca05e82-172f-47f1-bc13-5b700978a02b",
   "metadata": {},
   "outputs": [],
   "source": [
    "def get_planificacion():\n",
    "    df_plan = pd.read_excel(path_xlsx_plan)\n",
    "    df_plan = df_plan[['cod_ca', 'nom_ca', 'telf01', 'telf02', 'telf03']]\n",
    "    return df_plan"
   ]
  },
  {
   "cell_type": "code",
   "execution_count": 38,
   "id": "fed421ab-fbca-4964-a64a-ba9344a1ccad",
   "metadata": {},
   "outputs": [],
   "source": [
    "def insertar_msj_stack(idd, fecha, hora, cod, nombre, telf, msj):\n",
    "    linea = f'{idd};{fecha};{hora};{cod};{nombre};{telf};{msj}'\n",
    "    with open(path_txt_msj, 'r') as file:\n",
    "        contenido = file.readlines()\n",
    "    contenido.insert(0, '\\n')\n",
    "    contenido.insert(0, linea)\n",
    "    with open(path_txt_msj, 'w') as file:\n",
    "        file.writelines(contenido)\n",
    "    print(linea)"
   ]
  },
  {
   "cell_type": "code",
   "execution_count": 39,
   "id": "691227e0-7951-43d9-b889-de26d77ee0bb",
   "metadata": {},
   "outputs": [],
   "source": [
    "def anular_registro_notificacion(idd):\n",
    "    try:\n",
    "        query = f'update dataset_354655 set procesado = true where id = {idd}'\n",
    "        exe = ejecutar_query_sql(33457, query, 'post')\n",
    "        return True\n",
    "    except Exception as general_err:\n",
    "        print(f\"Error inesperado: {general_err}\")\n",
    "    return False"
   ]
  },
  {
   "cell_type": "code",
   "execution_count": 40,
   "id": "d7d4a72b-a0b7-432a-b873-60d51cc0d110",
   "metadata": {},
   "outputs": [],
   "source": [
    "# crea el mensaje \n",
    "def crear_msj(idd, fecha, hora, cod, nombre, telfs, labor, estado, tecnico, lon, lat):\n",
    "    tec_telf = tecnico_telf[tecnico]\n",
    "    for i in telfs:\n",
    "        msj = ''\n",
    "        if estado == 'INICIO DE LABOR':\n",
    "            msj = f'''Señor(a) *{nombre}*, espero que se encuentre bien, se le informa que se esta iniciando el trabajo de *{labor}* en la siguiente ubicacion: \\\n",
    "https://www.google.com/maps?q={lat},{lon}. \\\n",
    "Este mensaje a sido generado de manera automatica por el equipo de campo. Para cualquier consulta puede comunicarse con ING. {tecnico} al {tec_telf}'''\n",
    "        elif estado == 'FIN DE LABOR':\n",
    "            msj = f'''Señor(a) *{nombre}*, espero que se encuentre bien, se le informa que se ha finalizado el trabajo de *{labor}* en la siguiente ubicacion: \\\n",
    "https://www.google.com/maps?q={lat},{lon}. \\\n",
    "Este mensaje a sido generado de manera automatica por el equipo de campo. Para cualquier consulta puede comunicarse con ING. {tecnico} al {tec_telf}'''\n",
    "        insertar_msj_stack(idd, fecha, hora, cod, nombre, i, msj)"
   ]
  },
  {
   "cell_type": "code",
   "execution_count": null,
   "id": "02d9e1d4-4804-4235-a493-d2c4e93311d3",
   "metadata": {},
   "outputs": [],
   "source": []
  },
  {
   "cell_type": "code",
   "execution_count": 41,
   "id": "f6006ba7-ed4d-40c5-a00d-2f8f5ee1bfd5",
   "metadata": {},
   "outputs": [],
   "source": [
    "reg_amigo = get_registro_notificacion()"
   ]
  },
  {
   "cell_type": "code",
   "execution_count": 42,
   "id": "3dc1dc4a-e211-499b-9fef-fcf525ae994d",
   "metadata": {},
   "outputs": [],
   "source": [
    "df_plan=get_planificacion()"
   ]
  },
  {
   "cell_type": "code",
   "execution_count": null,
   "id": "a69ef647-5bbf-43f2-837d-52917085db84",
   "metadata": {},
   "outputs": [],
   "source": []
  },
  {
   "cell_type": "code",
   "execution_count": null,
   "id": "00680737-4df3-4187-a869-7ea747987e25",
   "metadata": {},
   "outputs": [],
   "source": []
  },
  {
   "cell_type": "code",
   "execution_count": null,
   "id": "5bdacaf8-7522-4bb7-a306-f61d43b36dbf",
   "metadata": {},
   "outputs": [],
   "source": []
  },
  {
   "cell_type": "code",
   "execution_count": 43,
   "id": "39d1687b-e30d-479a-be69-f5ce29f3b19c",
   "metadata": {},
   "outputs": [],
   "source": [
    "def revisar_nuevos_mensajes():\n",
    "    reg_amigo = get_registro_notificacion()\n",
    "    if len(reg_amigo) == 0:\n",
    "        # print('No existen notificaciones nuevas')\n",
    "        return False\n",
    "    reg_amigo = reg_amigo[0]\n",
    "    # extrae cod_ca y nom_ca del registro\n",
    "    cod_ca = int(reg_amigo['canhero'].split(' / ')[0])\n",
    "    nom_ca = reg_amigo['canhero'].split(' / ')[1]\n",
    "    # filtra en la lista de planificacion el cod_ca para obtener los numeros cel.\n",
    "    df_plan=get_planificacion()\n",
    "    reg = df_plan[df_plan['cod_ca']==cod_ca].iloc[0]\n",
    "    # id del registro en amigocloud\n",
    "    idd = reg_amigo['id']\n",
    "    # extrae fecha y hora de registro menos 4 horas por desfase temprotal\n",
    "    fecha_hora_obj = datetime.fromisoformat(reg_amigo['fecha_registro'])\n",
    "    fecha_hora_menos_4h = fecha_hora_obj - timedelta(hours=4)\n",
    "    # formatea la fecha de registro\n",
    "    fecha_str = fecha_hora_menos_4h.strftime('%d-%m-%Y')\n",
    "    # formatea la hora de registro\n",
    "    hora_str = fecha_hora_menos_4h.strftime('%H:%M:%S')\n",
    "    # extrae los numeros telefonicos\n",
    "    telefonos = [reg['telf01'], reg['telf02'], reg['telf03']]\n",
    "    # valida los numeros telefonicos\n",
    "    \n",
    "    telefonos_validos = [telefono for telefono in telefonos if len(str(telefono)) == 8]\n",
    "    #telefonos_validos = []\n",
    "    \n",
    "    # extrae nombre del piloto\n",
    "    tecnico = reg_amigo['piloto']\n",
    "    tec_telf = tecnico_telf[tecnico]\n",
    "    telefonos_validos.append(tec_telf)\n",
    "    telefonos_validos.append(68908131) #jose\n",
    "    telefonos_validos.append(75380725) #mario\n",
    "    telefonos_validos.append(77437601) #karina\n",
    "    telefonos_validos.append(78194371) #bismark\n",
    "    \n",
    "    # extra el tipo de labor (liberacion o pulverizacion)\n",
    "    labor = reg_amigo['tipo_labor']\n",
    "    # extrae el estado de la labor (inicio o fin de labor)\n",
    "    estado = reg_amigo['tipo_mensaje']\n",
    "    # extrae y convierte la ubicacion\n",
    "    ubi = convertir_wkb(reg_amigo['ubicacion'])\n",
    "    longitud = ubi.x  # Longitud (coordenada X)\n",
    "    latitud = ubi.y   # Latitud (coordenada Y)\n",
    "    crear_msj(idd, fecha_str, hora_str, cod_ca, nom_ca, telefonos_validos, labor, estado, tecnico, longitud, latitud)\n",
    "    anular_registro_notificacion(idd)\n",
    "    return True\n",
    "    ##time.sleep(30)"
   ]
  },
  {
   "cell_type": "code",
   "execution_count": null,
   "id": "0269915a-9273-44ed-83ef-e729ff12b566",
   "metadata": {},
   "outputs": [],
   "source": []
  },
  {
   "cell_type": "code",
   "execution_count": null,
   "id": "75f56ae2-9b70-4d20-9af2-0e1f3d01c717",
   "metadata": {},
   "outputs": [],
   "source": []
  },
  {
   "cell_type": "code",
   "execution_count": null,
   "id": "767e484a-b227-4098-8da4-43752afaa4c8",
   "metadata": {},
   "outputs": [],
   "source": []
  },
  {
   "cell_type": "code",
   "execution_count": null,
   "id": "261d5f4c-a704-49c6-af44-7fd40e8241f1",
   "metadata": {},
   "outputs": [],
   "source": []
  },
  {
   "cell_type": "code",
   "execution_count": 44,
   "id": "f705b9b1-1e15-4f8a-8da1-a4e6378cb00a",
   "metadata": {},
   "outputs": [],
   "source": [
    "def sendMessage(para, mensaje):\n",
    "    url = \"http://localhost:8080/message/sendText/UTEA-CHAT\"\n",
    "    payload = {\n",
    "        \"number\": '591' + para,\n",
    "        \"text\": mensaje,\n",
    "    }\n",
    "    headers = {\n",
    "        \"apikey\": \"D6CD36F3CE20-4962-A175-8D5583A345D9\",\n",
    "        \"Content-Type\": \"application/json\"\n",
    "    }\n",
    "    response = requests.request(\"POST\", url, json=payload, headers=headers)\n",
    "    print(response.text)"
   ]
  },
  {
   "cell_type": "code",
   "execution_count": 45,
   "id": "1cea9454-e230-4153-91e9-77b2d5335ff3",
   "metadata": {},
   "outputs": [],
   "source": [
    "path_txt_msj = r'C:\\Users\\Usuario\\Desktop\\PYTHON\\utea_scripts\\notificaciones_whastapp\\_msj_stack.txt'\n",
    "path_txt_log = r'C:\\Users\\Usuario\\Desktop\\PYTHON\\utea_scripts\\notificaciones_whastapp\\_msj_log.txt'"
   ]
  },
  {
   "cell_type": "code",
   "execution_count": 46,
   "id": "5d452b90-c0e8-4e2a-ba43-210d5241ffaf",
   "metadata": {},
   "outputs": [],
   "source": [
    "def get_msj_from_stack():\n",
    "    # Abrir el archivo en modo lectura y escritura\n",
    "    with open(path_txt_msj, 'r+', newline='') as archivo:\n",
    "        lector = csv.reader(archivo, delimiter=';')\n",
    "    \n",
    "        # Convertir el contenido a una lista\n",
    "        lineas = list(lector)\n",
    "        \n",
    "        # Verificar si hay líneas en el archivo\n",
    "        if lineas:\n",
    "            # Extraer la primera línea\n",
    "            primera_linea = lineas[0]\n",
    "        \n",
    "            # Formatear la primera línea en un diccionario\n",
    "            encabezados = ['id', 'fecha', 'hora', 'codigo', 'nombre', 'numero_celular', 'mensaje']\n",
    "            diccionario_primera_linea = dict(zip(encabezados, primera_linea))\n",
    "        \n",
    "            # Eliminar la primera línea de la lista\n",
    "            lineas = lineas[1:]\n",
    "        \n",
    "            # Reposicionar el puntero al inicio del archivo y truncar su contenido\n",
    "            archivo.seek(0)\n",
    "            archivo.truncate()\n",
    "        \n",
    "            # Reescribir las líneas restantes en el archivo\n",
    "            escritor = csv.writer(archivo, delimiter=';')\n",
    "            escritor.writerows(lineas)\n",
    "        \n",
    "            # Guardar la línea eliminada en el archivo de log en el mismo formato\n",
    "            with open(path_txt_log, 'a') as log:\n",
    "                log.write(';'.join(primera_linea) + '\\n')\n",
    "        \n",
    "            return diccionario_primera_linea\n",
    "        else:\n",
    "            return {}"
   ]
  },
  {
   "cell_type": "code",
   "execution_count": 47,
   "id": "d5c719a9-16cd-4d67-93db-a634daa7e966",
   "metadata": {},
   "outputs": [],
   "source": [
    "def enviar_mensaje():\n",
    "    msj = get_msj_from_stack()\n",
    "    #print(len(msj))\n",
    "    if len(msj) > 0:\n",
    "        sendMessage(msj['numero_celular'], msj['mensaje'])\n",
    "        return True\n",
    "    else:\n",
    "        return False\n",
    "        #print('No se tiene mensajes nuevos para enviar')"
   ]
  },
  {
   "cell_type": "code",
   "execution_count": null,
   "id": "38d7a403-7b6b-44a9-90d1-20f9e3d511c7",
   "metadata": {},
   "outputs": [],
   "source": []
  },
  {
   "cell_type": "code",
   "execution_count": null,
   "id": "6c351d20-4f73-4434-adfa-894a9cb60a23",
   "metadata": {},
   "outputs": [
    {
     "name": "stdout",
     "output_type": "stream",
     "text": [
      "397;07-03-2025;01:01:32;41594;AGROP. CAMPODULCE SRL;73643129;Señor(a) *AGROP. CAMPODULCE SRL*, espero que se encuentre bien, se le informa que se esta iniciando el trabajo de *PULVERIZACION* en la siguiente ubicacion: https://www.google.com/maps?q=-17.235721861668225,-62.97494216571519. Este mensaje a sido generado de manera automatica por el equipo de campo. Para cualquier consulta puede comunicarse con ING. ALEJANDRO SANCHEZ al 78448317\n",
      "397;07-03-2025;01:01:32;41594;AGROP. CAMPODULCE SRL;78448317;Señor(a) *AGROP. CAMPODULCE SRL*, espero que se encuentre bien, se le informa que se esta iniciando el trabajo de *PULVERIZACION* en la siguiente ubicacion: https://www.google.com/maps?q=-17.235721861668225,-62.97494216571519. Este mensaje a sido generado de manera automatica por el equipo de campo. Para cualquier consulta puede comunicarse con ING. ALEJANDRO SANCHEZ al 78448317\n",
      "397;07-03-2025;01:01:32;41594;AGROP. CAMPODULCE SRL;68908131;Señor(a) *AGROP. CAMPODULCE SRL*, espero que se encuentre bien, se le informa que se esta iniciando el trabajo de *PULVERIZACION* en la siguiente ubicacion: https://www.google.com/maps?q=-17.235721861668225,-62.97494216571519. Este mensaje a sido generado de manera automatica por el equipo de campo. Para cualquier consulta puede comunicarse con ING. ALEJANDRO SANCHEZ al 78448317\n",
      "397;07-03-2025;01:01:32;41594;AGROP. CAMPODULCE SRL;75380725;Señor(a) *AGROP. CAMPODULCE SRL*, espero que se encuentre bien, se le informa que se esta iniciando el trabajo de *PULVERIZACION* en la siguiente ubicacion: https://www.google.com/maps?q=-17.235721861668225,-62.97494216571519. Este mensaje a sido generado de manera automatica por el equipo de campo. Para cualquier consulta puede comunicarse con ING. ALEJANDRO SANCHEZ al 78448317\n",
      "397;07-03-2025;01:01:32;41594;AGROP. CAMPODULCE SRL;77437601;Señor(a) *AGROP. CAMPODULCE SRL*, espero que se encuentre bien, se le informa que se esta iniciando el trabajo de *PULVERIZACION* en la siguiente ubicacion: https://www.google.com/maps?q=-17.235721861668225,-62.97494216571519. Este mensaje a sido generado de manera automatica por el equipo de campo. Para cualquier consulta puede comunicarse con ING. ALEJANDRO SANCHEZ al 78448317\n",
      "397;07-03-2025;01:01:32;41594;AGROP. CAMPODULCE SRL;78194371;Señor(a) *AGROP. CAMPODULCE SRL*, espero que se encuentre bien, se le informa que se esta iniciando el trabajo de *PULVERIZACION* en la siguiente ubicacion: https://www.google.com/maps?q=-17.235721861668225,-62.97494216571519. Este mensaje a sido generado de manera automatica por el equipo de campo. Para cualquier consulta puede comunicarse con ING. ALEJANDRO SANCHEZ al 78448317\n",
      "{\"key\":{\"remoteJid\":\"59178194371@s.whatsapp.net\",\"fromMe\":true,\"id\":\"3EB0D270F3F5173B46E0F0419EAE0AA01F385D03\"},\"pushName\":\"\",\"status\":\"PENDING\",\"message\":{\"conversation\":\"Señor(a) *AGROP. CAMPODULCE SRL*, espero que se encuentre bien, se le informa que se esta iniciando el trabajo de *PULVERIZACION* en la siguiente ubicacion: https://www.google.com/maps?q=-17.235721861668225,-62.97494216571519. Este mensaje a sido generado de manera automatica por el equipo de campo. Para cualquier consulta puede comunicarse con ING. ALEJANDRO SANCHEZ al 78448317\"},\"contextInfo\":null,\"messageType\":\"conversation\",\"messageTimestamp\":1741323871,\"instanceId\":\"7949d216-3181-46f2-aeed-3ab30363e0ff\",\"source\":\"unknown\"}\n",
      "{\"key\":{\"remoteJid\":\"59177437601@s.whatsapp.net\",\"fromMe\":true,\"id\":\"3EB030595B319DE94CB301F0B2B30EDC82E3BF9F\"},\"pushName\":\"\",\"status\":\"PENDING\",\"message\":{\"conversation\":\"Señor(a) *AGROP. CAMPODULCE SRL*, espero que se encuentre bien, se le informa que se esta iniciando el trabajo de *PULVERIZACION* en la siguiente ubicacion: https://www.google.com/maps?q=-17.235721861668225,-62.97494216571519. Este mensaje a sido generado de manera automatica por el equipo de campo. Para cualquier consulta puede comunicarse con ING. ALEJANDRO SANCHEZ al 78448317\"},\"contextInfo\":null,\"messageType\":\"conversation\",\"messageTimestamp\":1741323873,\"instanceId\":\"7949d216-3181-46f2-aeed-3ab30363e0ff\",\"source\":\"unknown\"}\n",
      "{\"key\":{\"remoteJid\":\"59175380725@s.whatsapp.net\",\"fromMe\":true,\"id\":\"3EB0D4467696B28396C437B0EE27F2D7579B8C7C\"},\"pushName\":\"\",\"status\":\"PENDING\",\"message\":{\"conversation\":\"Señor(a) *AGROP. CAMPODULCE SRL*, espero que se encuentre bien, se le informa que se esta iniciando el trabajo de *PULVERIZACION* en la siguiente ubicacion: https://www.google.com/maps?q=-17.235721861668225,-62.97494216571519. Este mensaje a sido generado de manera automatica por el equipo de campo. Para cualquier consulta puede comunicarse con ING. ALEJANDRO SANCHEZ al 78448317\"},\"contextInfo\":null,\"messageType\":\"conversation\",\"messageTimestamp\":1741323877,\"instanceId\":\"7949d216-3181-46f2-aeed-3ab30363e0ff\",\"source\":\"unknown\"}\n",
      "{\"key\":{\"remoteJid\":\"59168908131@s.whatsapp.net\",\"fromMe\":true,\"id\":\"3EB00453659137D2418BBD05355D6924ABEA5315\"},\"pushName\":\"\",\"status\":\"PENDING\",\"message\":{\"conversation\":\"Señor(a) *AGROP. CAMPODULCE SRL*, espero que se encuentre bien, se le informa que se esta iniciando el trabajo de *PULVERIZACION* en la siguiente ubicacion: https://www.google.com/maps?q=-17.235721861668225,-62.97494216571519. Este mensaje a sido generado de manera automatica por el equipo de campo. Para cualquier consulta puede comunicarse con ING. ALEJANDRO SANCHEZ al 78448317\"},\"contextInfo\":null,\"messageType\":\"conversation\",\"messageTimestamp\":1741323880,\"instanceId\":\"7949d216-3181-46f2-aeed-3ab30363e0ff\",\"source\":\"unknown\"}\n",
      "{\"key\":{\"remoteJid\":\"59178448317@s.whatsapp.net\",\"fromMe\":true,\"id\":\"3EB09A385332821A8F301A42BE64F11256E4C651\"},\"pushName\":\"\",\"status\":\"PENDING\",\"message\":{\"conversation\":\"Señor(a) *AGROP. CAMPODULCE SRL*, espero que se encuentre bien, se le informa que se esta iniciando el trabajo de *PULVERIZACION* en la siguiente ubicacion: https://www.google.com/maps?q=-17.235721861668225,-62.97494216571519. Este mensaje a sido generado de manera automatica por el equipo de campo. Para cualquier consulta puede comunicarse con ING. ALEJANDRO SANCHEZ al 78448317\"},\"contextInfo\":null,\"messageType\":\"conversation\",\"messageTimestamp\":1741323884,\"instanceId\":\"7949d216-3181-46f2-aeed-3ab30363e0ff\",\"source\":\"unknown\"}\n",
      "{\"key\":{\"remoteJid\":\"59173643129@s.whatsapp.net\",\"fromMe\":true,\"id\":\"3EB0791CDB9850A4AC0A1D5AAFBD2BA22B35977E\"},\"pushName\":\"\",\"status\":\"PENDING\",\"message\":{\"conversation\":\"Señor(a) *AGROP. CAMPODULCE SRL*, espero que se encuentre bien, se le informa que se esta iniciando el trabajo de *PULVERIZACION* en la siguiente ubicacion: https://www.google.com/maps?q=-17.235721861668225,-62.97494216571519. Este mensaje a sido generado de manera automatica por el equipo de campo. Para cualquier consulta puede comunicarse con ING. ALEJANDRO SANCHEZ al 78448317\"},\"contextInfo\":null,\"messageType\":\"conversation\",\"messageTimestamp\":1741323886,\"instanceId\":\"7949d216-3181-46f2-aeed-3ab30363e0ff\",\"source\":\"unknown\"}\n"
     ]
    }
   ],
   "source": [
    "while True:\n",
    "    x = revisar_nuevos_mensajes()\n",
    "    if x == True:\n",
    "        while True:\n",
    "            envio = enviar_mensaje()\n",
    "            if envio == False:\n",
    "                break\n",
    "    time.sleep(600)"
   ]
  },
  {
   "cell_type": "code",
   "execution_count": null,
   "id": "dd564aa0-0604-499f-9559-f5250e0291c0",
   "metadata": {},
   "outputs": [],
   "source": []
  },
  {
   "cell_type": "code",
   "execution_count": null,
   "id": "0b2e25f9-ffe2-4be9-8a06-a02554307cc1",
   "metadata": {},
   "outputs": [],
   "source": []
  },
  {
   "cell_type": "code",
   "execution_count": null,
   "id": "b49850f4-fbd6-4892-9bc4-01e0f8b27bdc",
   "metadata": {},
   "outputs": [],
   "source": []
  },
  {
   "cell_type": "code",
   "execution_count": null,
   "id": "6472a5a4-4009-49ad-84ba-a5a281957632",
   "metadata": {},
   "outputs": [],
   "source": []
  },
  {
   "cell_type": "code",
   "execution_count": null,
   "id": "44533c9e-0897-44c6-8fdb-007a9aa2b7d9",
   "metadata": {},
   "outputs": [],
   "source": []
  },
  {
   "cell_type": "code",
   "execution_count": null,
   "id": "4a1105e8-33eb-48ef-9cc8-9b8fbc07ae88",
   "metadata": {},
   "outputs": [],
   "source": []
  },
  {
   "cell_type": "code",
   "execution_count": null,
   "id": "36f96c98-3e4a-42f0-92e6-fa3dd9251d8f",
   "metadata": {},
   "outputs": [],
   "source": []
  },
  {
   "cell_type": "code",
   "execution_count": null,
   "id": "c127ca9b-31c2-4056-b944-dbfac9f4f2aa",
   "metadata": {},
   "outputs": [],
   "source": []
  },
  {
   "cell_type": "code",
   "execution_count": null,
   "id": "e3b2262c-1507-4746-ac4a-6a452c385107",
   "metadata": {},
   "outputs": [],
   "source": []
  },
  {
   "cell_type": "code",
   "execution_count": null,
   "id": "3347c7e2-0d46-4b24-aa4b-2a28d549f13d",
   "metadata": {},
   "outputs": [],
   "source": []
  },
  {
   "cell_type": "code",
   "execution_count": null,
   "id": "c9351667-3785-4f28-8f76-3d89c5613653",
   "metadata": {},
   "outputs": [],
   "source": []
  },
  {
   "cell_type": "code",
   "execution_count": null,
   "id": "f9fab8c5-da35-4f56-864d-bcbeffb12d64",
   "metadata": {},
   "outputs": [],
   "source": []
  },
  {
   "cell_type": "code",
   "execution_count": null,
   "id": "1563bbc5-8c7c-4953-8b95-640ca94afe1c",
   "metadata": {},
   "outputs": [],
   "source": []
  },
  {
   "cell_type": "code",
   "execution_count": null,
   "id": "33a7fd39-dcfe-48bf-b5ec-3bbbfa26d136",
   "metadata": {},
   "outputs": [],
   "source": []
  },
  {
   "cell_type": "code",
   "execution_count": null,
   "id": "607d53b1-6ed8-4722-8461-6fa6e51323d0",
   "metadata": {},
   "outputs": [],
   "source": []
  },
  {
   "cell_type": "code",
   "execution_count": null,
   "id": "0717823f-e087-458f-8ab1-684a377aaa33",
   "metadata": {},
   "outputs": [],
   "source": []
  },
  {
   "cell_type": "code",
   "execution_count": null,
   "id": "04dfd6ec-bd70-4b89-b55b-d651417a036c",
   "metadata": {},
   "outputs": [],
   "source": []
  },
  {
   "cell_type": "code",
   "execution_count": null,
   "id": "3a882bce-5f80-424e-b1a2-3beb38c08f2c",
   "metadata": {},
   "outputs": [],
   "source": []
  },
  {
   "cell_type": "code",
   "execution_count": null,
   "id": "0d1910e0-ba4a-4ed5-ae3f-3eef814b5b9c",
   "metadata": {},
   "outputs": [],
   "source": []
  },
  {
   "cell_type": "code",
   "execution_count": null,
   "id": "84052181-921f-4e84-86e7-8e8579c06abd",
   "metadata": {},
   "outputs": [],
   "source": [
    "df_plan = pd.read_excel(path_xlsx_plan)"
   ]
  },
  {
   "cell_type": "code",
   "execution_count": null,
   "id": "e5f6afd2-bf3f-4628-8717-dc23c594a4a1",
   "metadata": {},
   "outputs": [],
   "source": [
    "df_plan = df_plan[['cod_ca', 'nom_ca', 'telf01', 'telf02', 'telf03']]"
   ]
  },
  {
   "cell_type": "code",
   "execution_count": null,
   "id": "8d5a20f3-7e29-4d4c-ba15-7070283e01b1",
   "metadata": {},
   "outputs": [],
   "source": [
    "df_plan.head(3)"
   ]
  },
  {
   "cell_type": "code",
   "execution_count": null,
   "id": "f974aef7-5af3-4a3f-8321-1b1f1f9ef7a1",
   "metadata": {},
   "outputs": [],
   "source": [
    "# get data de nuevas notificacion de liberacion\n",
    "query = 'select * from dataset_354655 where procesado=false'\n",
    "notif = ejecutar_query_sql(33457, query, 'get')\n",
    "notif = notif['data']"
   ]
  },
  {
   "cell_type": "code",
   "execution_count": null,
   "id": "2f2fd7f1-9284-448a-94a7-18bff4849336",
   "metadata": {},
   "outputs": [],
   "source": [
    "notif"
   ]
  },
  {
   "cell_type": "code",
   "execution_count": null,
   "id": "a2fbcada-b2e1-4699-b0c0-c41eb6547c77",
   "metadata": {},
   "outputs": [],
   "source": [
    "# extrae el primer elemento\n",
    "reg_amigo = notif[0]"
   ]
  },
  {
   "cell_type": "code",
   "execution_count": null,
   "id": "ecad418e-e791-4d93-8790-c2a72e6b3fa0",
   "metadata": {},
   "outputs": [],
   "source": [
    "reg_amigo"
   ]
  },
  {
   "cell_type": "code",
   "execution_count": null,
   "id": "1a6e9e80-10ce-44f6-a7e1-8bbe83fa5d6a",
   "metadata": {},
   "outputs": [],
   "source": [
    "# extrae cod_ca y nom_ca del registro\n",
    "cod_ca = int(reg_amigo['canhero'].split(' / ')[0])\n",
    "nom_ca = reg_amigo['canhero'].split(' / ')[1]"
   ]
  },
  {
   "cell_type": "code",
   "execution_count": null,
   "id": "a84342db-c428-46c8-a4cd-02d84a8758ab",
   "metadata": {},
   "outputs": [],
   "source": [
    "# filtra en la lista de planificacion el cod_ca para obtener los numeros cel.\n",
    "reg = df_plan[df_plan['cod_ca']==cod_ca].iloc[0]"
   ]
  },
  {
   "cell_type": "code",
   "execution_count": null,
   "id": "fbba2110-8be4-4339-b55d-b789bf671d3a",
   "metadata": {},
   "outputs": [],
   "source": [
    "# id del registro en amigocloud\n",
    "idd = reg_amigo['id']"
   ]
  },
  {
   "cell_type": "code",
   "execution_count": null,
   "id": "c1791680-5e41-4918-8f18-c54d66a9e229",
   "metadata": {},
   "outputs": [],
   "source": [
    "idd"
   ]
  },
  {
   "cell_type": "code",
   "execution_count": null,
   "id": "47abab1e-d3de-4ed6-9f2e-0aa18b854b4d",
   "metadata": {},
   "outputs": [],
   "source": [
    "# extrae fecha y hora de registro menos 4 horas por desfase temprotal\n",
    "fecha_hora_obj = datetime.fromisoformat(reg_amigo['fecha_registro'])\n",
    "fecha_hora_menos_4h = fecha_hora_obj - timedelta(hours=4)"
   ]
  },
  {
   "cell_type": "code",
   "execution_count": null,
   "id": "64340ce0-2189-44b2-82dd-8f91d7d2aa3d",
   "metadata": {},
   "outputs": [],
   "source": [
    "# formatea la fecha de registro\n",
    "fecha_str = fecha_hora_menos_4h.strftime('%d-%m-%Y')"
   ]
  },
  {
   "cell_type": "code",
   "execution_count": null,
   "id": "83884e82-561a-49b1-ba3e-745290ba0892",
   "metadata": {},
   "outputs": [],
   "source": [
    "# formatea la hora de registro\n",
    "hora_str = fecha_hora_menos_4h.strftime('%H:%M:%S')"
   ]
  },
  {
   "cell_type": "code",
   "execution_count": null,
   "id": "0c3be11a-7993-4e98-9288-9d4b20de63e6",
   "metadata": {},
   "outputs": [],
   "source": [
    "# extrae los numeros telefonicos\n",
    "telefonos = [reg['telf01'], reg['telf02'], reg['telf03']]\n",
    "# valida los numeros telefonicos\n",
    "telefonos_validos = [telefono for telefono in telefonos if len(str(telefono)) == 8]"
   ]
  },
  {
   "cell_type": "code",
   "execution_count": null,
   "id": "fc234448-e5ad-4a07-b101-849bfac637a2",
   "metadata": {},
   "outputs": [],
   "source": [
    "# extra el tipo de labor (liberacion o pulverizacion)\n",
    "labor = reg_amigo['tipo_labor']"
   ]
  },
  {
   "cell_type": "code",
   "execution_count": null,
   "id": "1ceeb311-d7ee-4337-b33e-b01832a0f4fb",
   "metadata": {},
   "outputs": [],
   "source": [
    "# extrae el estado de la labor (inicio o fin de labor)\n",
    "estado = reg_amigo['tipo_mensaje']"
   ]
  },
  {
   "cell_type": "code",
   "execution_count": null,
   "id": "1742a905-bf1a-4b27-b5f2-b0c3b19748b4",
   "metadata": {},
   "outputs": [],
   "source": [
    "# extrae nombre del piloto\n",
    "tecnico = reg_amigo['piloto']"
   ]
  },
  {
   "cell_type": "code",
   "execution_count": null,
   "id": "81b46a91-e2da-44cc-830e-e114d07688e9",
   "metadata": {},
   "outputs": [],
   "source": [
    "# extrae y convierte la ubicacion\n",
    "ubi = convertir_wkb(reg_amigo['ubicacion'])\n",
    "longitud = ubi.x  # Longitud (coordenada X)\n",
    "latitud = ubi.y   # Latitud (coordenada Y)"
   ]
  },
  {
   "cell_type": "code",
   "execution_count": null,
   "id": "b2dd9d39-4cf9-4b65-b48a-b5387f1f7b30",
   "metadata": {},
   "outputs": [],
   "source": []
  },
  {
   "cell_type": "code",
   "execution_count": null,
   "id": "847b3286-c3aa-4546-9988-2f91d3ab09e1",
   "metadata": {},
   "outputs": [],
   "source": []
  },
  {
   "cell_type": "code",
   "execution_count": null,
   "id": "c01cf8f3-859d-4a2d-96ad-94867a9ccab5",
   "metadata": {},
   "outputs": [],
   "source": []
  },
  {
   "cell_type": "code",
   "execution_count": null,
   "id": "aa0a3544-c82e-4032-83c7-8f098387c404",
   "metadata": {},
   "outputs": [],
   "source": []
  },
  {
   "cell_type": "code",
   "execution_count": null,
   "id": "d12c34ad-b46d-4200-a427-8196ce9f8093",
   "metadata": {},
   "outputs": [],
   "source": [
    "crear_msj(idd, fecha_str, hora_str, cod_ca, nom_ca, telefonos_validos, labor, estado, tecnico, longitud, latitud)"
   ]
  },
  {
   "cell_type": "code",
   "execution_count": null,
   "id": "78e1cde1-ac7d-4672-a1df-019a20b65e02",
   "metadata": {},
   "outputs": [],
   "source": [
    "telefonos_validos"
   ]
  },
  {
   "cell_type": "code",
   "execution_count": null,
   "id": "bc1de41f-b463-4dfa-9363-ea0e323c4996",
   "metadata": {},
   "outputs": [],
   "source": []
  },
  {
   "cell_type": "code",
   "execution_count": null,
   "id": "447656d3-2170-4473-9b93-e83d70ccccd6",
   "metadata": {},
   "outputs": [],
   "source": []
  },
  {
   "cell_type": "code",
   "execution_count": null,
   "id": "8a198f0e-ea22-46f3-8e7d-0d4fa6d119aa",
   "metadata": {},
   "outputs": [],
   "source": []
  },
  {
   "cell_type": "code",
   "execution_count": null,
   "id": "8652a35d-6aa4-47c1-88a6-c73fc8fe7fe5",
   "metadata": {},
   "outputs": [],
   "source": []
  }
 ],
 "metadata": {
  "kernelspec": {
   "display_name": "Python 3 (ipykernel)",
   "language": "python",
   "name": "python3"
  },
  "language_info": {
   "codemirror_mode": {
    "name": "ipython",
    "version": 3
   },
   "file_extension": ".py",
   "mimetype": "text/x-python",
   "name": "python",
   "nbconvert_exporter": "python",
   "pygments_lexer": "ipython3",
   "version": "3.10.13"
  }
 },
 "nbformat": 4,
 "nbformat_minor": 5
}
