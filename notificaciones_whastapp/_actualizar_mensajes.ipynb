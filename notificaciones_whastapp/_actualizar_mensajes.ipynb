{
 "cells": [
  {
   "cell_type": "code",
   "execution_count": 145,
   "id": "a67f83b1-6cb5-42db-ad01-25253ac5b216",
   "metadata": {},
   "outputs": [],
   "source": [
    "import sys\n",
    "sys.path.append('../_amigocloud')\n",
    "\n",
    "from amigocloud import AmigoCloud\n",
    "\n",
    "import geopandas as gpd\n",
    "import pandas as pd\n",
    "from datetime import datetime\n",
    "from datetime import timedelta\n",
    "\n",
    "from shapely import wkb"
   ]
  },
  {
   "cell_type": "code",
   "execution_count": 3,
   "id": "ef89a312-4957-4484-ba8c-b447021d7cf3",
   "metadata": {},
   "outputs": [
    {
     "name": "stderr",
     "output_type": "stream",
     "text": [
      "WARNING:socketIO-client:app.amigocloud.com:443/v2_socket.io/socket.io [connection error] recv disconnected (Connection is already closed.)\n"
     ]
    },
    {
     "data": {
      "text/plain": [
       "<amigocloud.AmigoCloud at 0x2767e6b6ce0>"
      ]
     },
     "execution_count": 3,
     "metadata": {},
     "output_type": "execute_result"
    }
   ],
   "source": [
    "# ruta de carpera donde estan las llaves\n",
    "ruta = open('../ruta.txt')\n",
    "ruta = ruta.readlines()[0]\n",
    "\n",
    "# leer token\n",
    "acceso = open(ruta + '/_keys/api_amigocloud.key','r')\n",
    "api_token = acceso.readlines()[0]\n",
    "acceso.close()\n",
    "amigocloud = AmigoCloud(token=api_token)\n",
    "amigocloud"
   ]
  },
  {
   "cell_type": "code",
   "execution_count": 109,
   "id": "2bc3ad52-a111-43ce-aac8-467b90f588b0",
   "metadata": {},
   "outputs": [],
   "source": [
    "path_xlsx_plan = r'C:\\Documents\\Ingenio Azucarero Guabira S.A\\UTEA - SEMANAL - EQUIPO AVIACION UTEA\\Trichogramma\\pd_trichogramma_2024 - copia.xlsx'\n",
    "path_txt_msj = r'C:\\Users\\bismarksr\\Desktop\\PYTHON\\utea_scripts\\notificaciones_whastapp\\_msj_stack.txt'\n",
    "\n",
    "tecnico_telf = {\n",
    "    'ALEJANDRO SANCHEZ' : 78448317,\n",
    "    'AURELIO GARCIA' : 79051559,\n",
    "    'CHRISTIAN CALIZAYA' : 63619660,\n",
    "    'EDUARDO REYES' : 75016609}"
   ]
  },
  {
   "cell_type": "markdown",
   "id": "275373d6-aefc-4709-a642-9a9c08872b66",
   "metadata": {},
   "source": [
    "## ejecutar query"
   ]
  },
  {
   "cell_type": "code",
   "execution_count": null,
   "id": "e97c51b9-5d5c-4c5b-85da-51a57f787d0a",
   "metadata": {},
   "outputs": [],
   "source": []
  },
  {
   "cell_type": "code",
   "execution_count": 5,
   "id": "8df96956-60ee-4aa2-b05b-d5eaaa873a3b",
   "metadata": {},
   "outputs": [],
   "source": [
    "# ejecuta cualquier query sql en el proyecto que se le indique\n",
    "# requiere el id de proyecto, query a ejecutar y tipo solicitud (get o post)\n",
    "def ejecutar_query_sql(id_project, query, tipo_sql):\n",
    "    # define la url del proyecto para ejecutar el querry\n",
    "    url_proyecto_sql = f'https://app.amigocloud.com/api/v1/projects/{id_project}/sql'\n",
    "    # crea la estructura de query para amigocloud\n",
    "    query_sql = {'query': query}\n",
    "    # variable para almacenar resultado\n",
    "    resultado_get = ''\n",
    "    # eleige que tipo de solicitud se realizara (get o post)\n",
    "    if tipo_sql == 'get': \n",
    "        resultado_get = amigocloud.get(url_proyecto_sql, query_sql)\n",
    "    elif tipo_sql == 'post':\n",
    "        resultado_get = amigocloud.post(url_proyecto_sql, query_sql)\n",
    "    else:\n",
    "        resultado_get = 'Se a seleccionado un tipo de solicitud erroneo.'\n",
    "    return resultado_get"
   ]
  },
  {
   "cell_type": "code",
   "execution_count": 143,
   "id": "3e48ccc3-056b-4358-92c2-b4d1ae24e144",
   "metadata": {},
   "outputs": [],
   "source": [
    "def convertir_wkb(wkb_data):\n",
    "    return wkb.loads(wkb_data, hex=True)"
   ]
  },
  {
   "cell_type": "code",
   "execution_count": 10,
   "id": "6dc35c34-62e7-443e-b52c-0bd8a1e52a38",
   "metadata": {},
   "outputs": [],
   "source": [
    "proyecto_id = 33457"
   ]
  },
  {
   "cell_type": "code",
   "execution_count": null,
   "id": "1e0afc95-a034-4764-87ce-3b4b20698b14",
   "metadata": {},
   "outputs": [],
   "source": []
  },
  {
   "cell_type": "code",
   "execution_count": 11,
   "id": "7cdf2cb3-14b7-4819-b7e0-3501ced6cbe0",
   "metadata": {},
   "outputs": [],
   "source": [
    "df_plan = pd.read_excel(path_xlsx_plan, sheet_name='PLANIFICACION')"
   ]
  },
  {
   "cell_type": "code",
   "execution_count": 12,
   "id": "e5f6afd2-bf3f-4628-8717-dc23c594a4a1",
   "metadata": {},
   "outputs": [],
   "source": [
    "df_plan = df_plan[['unidad_03', 'unidad_04', 'telefono_1', 'telefono_2', 'telefono_3']]"
   ]
  },
  {
   "cell_type": "code",
   "execution_count": 13,
   "id": "8d5a20f3-7e29-4d4c-ba15-7070283e01b1",
   "metadata": {},
   "outputs": [
    {
     "data": {
      "text/html": [
       "<div>\n",
       "<style scoped>\n",
       "    .dataframe tbody tr th:only-of-type {\n",
       "        vertical-align: middle;\n",
       "    }\n",
       "\n",
       "    .dataframe tbody tr th {\n",
       "        vertical-align: top;\n",
       "    }\n",
       "\n",
       "    .dataframe thead th {\n",
       "        text-align: right;\n",
       "    }\n",
       "</style>\n",
       "<table border=\"1\" class=\"dataframe\">\n",
       "  <thead>\n",
       "    <tr style=\"text-align: right;\">\n",
       "      <th></th>\n",
       "      <th>unidad_03</th>\n",
       "      <th>unidad_04</th>\n",
       "      <th>telefono_1</th>\n",
       "      <th>telefono_2</th>\n",
       "      <th>telefono_3</th>\n",
       "    </tr>\n",
       "  </thead>\n",
       "  <tbody>\n",
       "    <tr>\n",
       "      <th>0</th>\n",
       "      <td>18358</td>\n",
       "      <td>ROJAS AMELUNGE CARLOS</td>\n",
       "      <td>77395410</td>\n",
       "      <td>0</td>\n",
       "      <td>NaN</td>\n",
       "    </tr>\n",
       "    <tr>\n",
       "      <th>1</th>\n",
       "      <td>18358</td>\n",
       "      <td>ROJAS AMELUNGE CARLOS</td>\n",
       "      <td>77395410</td>\n",
       "      <td>0</td>\n",
       "      <td>NaN</td>\n",
       "    </tr>\n",
       "    <tr>\n",
       "      <th>2</th>\n",
       "      <td>18358</td>\n",
       "      <td>ROJAS AMELUNGE CARLOS</td>\n",
       "      <td>77395410</td>\n",
       "      <td>0</td>\n",
       "      <td>NaN</td>\n",
       "    </tr>\n",
       "  </tbody>\n",
       "</table>\n",
       "</div>"
      ],
      "text/plain": [
       "   unidad_03              unidad_04 telefono_1 telefono_2  telefono_3\n",
       "0      18358  ROJAS AMELUNGE CARLOS   77395410          0         NaN\n",
       "1      18358  ROJAS AMELUNGE CARLOS   77395410          0         NaN\n",
       "2      18358  ROJAS AMELUNGE CARLOS   77395410          0         NaN"
      ]
     },
     "execution_count": 13,
     "metadata": {},
     "output_type": "execute_result"
    }
   ],
   "source": [
    "df_plan.head(3)"
   ]
  },
  {
   "cell_type": "code",
   "execution_count": null,
   "id": "341619a8-2670-4066-8062-137e34ecd85a",
   "metadata": {},
   "outputs": [],
   "source": []
  },
  {
   "cell_type": "code",
   "execution_count": null,
   "id": "8be7e295-fe2d-43ff-8892-3ff7ebc1cd46",
   "metadata": {},
   "outputs": [],
   "source": []
  },
  {
   "cell_type": "code",
   "execution_count": null,
   "id": "91f0937c-8690-4bb6-b71a-3781a37b91b2",
   "metadata": {},
   "outputs": [],
   "source": []
  },
  {
   "cell_type": "code",
   "execution_count": null,
   "id": "bead10fa-25e7-4d41-a94c-d1fd3acb2bfc",
   "metadata": {},
   "outputs": [],
   "source": []
  },
  {
   "cell_type": "code",
   "execution_count": 16,
   "id": "f974aef7-5af3-4a3f-8321-1b1f1f9ef7a1",
   "metadata": {},
   "outputs": [],
   "source": [
    "query = 'select * from dataset_354655 where procesado=false'\n",
    "notif = ejecutar_query_sql(proyecto_id, query, 'get')"
   ]
  },
  {
   "cell_type": "code",
   "execution_count": 17,
   "id": "b8e3e8c4-e70a-494a-8f81-7cfa421f88f8",
   "metadata": {},
   "outputs": [],
   "source": [
    "notif = notif['data']"
   ]
  },
  {
   "cell_type": "code",
   "execution_count": 18,
   "id": "7f03a255-f9d0-4700-9bb3-e2bb72327bc8",
   "metadata": {},
   "outputs": [
    {
     "data": {
      "text/plain": [
       "[{'fecha_registro': '2024-09-11 20:01:10+00:00',\n",
       "  'amigo_id': '9ff59ac965874f46bca0725c07435fb2',\n",
       "  'id': 2,\n",
       "  'piloto': 'ALEJANDRO SANCHEZ',\n",
       "  'canhero': '0 / BISMARK SOCOMPI',\n",
       "  'ubicacion': '0101000020E61000009AD99DA4AF954FC0B2CDD776244831C0',\n",
       "  'tipo_labor': 'LIBERACION DE TRICHOGRAMMA',\n",
       "  'tipo_mensaje': 'INICIO DE LABOR',\n",
       "  'procesado': False}]"
      ]
     },
     "execution_count": 18,
     "metadata": {},
     "output_type": "execute_result"
    }
   ],
   "source": [
    "notif"
   ]
  },
  {
   "cell_type": "code",
   "execution_count": 35,
   "id": "a2fbcada-b2e1-4699-b0c0-c41eb6547c77",
   "metadata": {},
   "outputs": [],
   "source": [
    "reg_amigo = notif[0]"
   ]
  },
  {
   "cell_type": "code",
   "execution_count": 76,
   "id": "1a6e9e80-10ce-44f6-a7e1-8bbe83fa5d6a",
   "metadata": {},
   "outputs": [],
   "source": [
    "cod_ca = int(reg_amigo['canhero'].split(' / ')[0])\n",
    "nom_ca = reg_amigo['canhero'].split(' / ')[1]"
   ]
  },
  {
   "cell_type": "code",
   "execution_count": 77,
   "id": "a84342db-c428-46c8-a4cd-02d84a8758ab",
   "metadata": {},
   "outputs": [
    {
     "data": {
      "text/plain": [
       "unidad_03                     0\n",
       "unidad_04     BISMARK SOCOMPI R\n",
       "telefono_1             78194371\n",
       "telefono_2             62022996\n",
       "telefono_3                  NaN\n",
       "Name: 746, dtype: object"
      ]
     },
     "execution_count": 77,
     "metadata": {},
     "output_type": "execute_result"
    }
   ],
   "source": [
    "reg = df_plan[df_plan['unidad_03']==cod_ca].iloc[0]\n",
    "reg"
   ]
  },
  {
   "cell_type": "code",
   "execution_count": 78,
   "id": "fbba2110-8be4-4339-b55d-b789bf671d3a",
   "metadata": {},
   "outputs": [
    {
     "data": {
      "text/plain": [
       "2"
      ]
     },
     "execution_count": 78,
     "metadata": {},
     "output_type": "execute_result"
    }
   ],
   "source": [
    "idd = reg_amigo['id']\n",
    "idd"
   ]
  },
  {
   "cell_type": "code",
   "execution_count": 79,
   "id": "47abab1e-d3de-4ed6-9f2e-0aa18b854b4d",
   "metadata": {},
   "outputs": [],
   "source": [
    "fecha_hora_obj = datetime.fromisoformat(reg_amigo['fecha_registro'])\n",
    "fecha_hora_menos_4h = fecha_hora_obj - timedelta(hours=4)"
   ]
  },
  {
   "cell_type": "code",
   "execution_count": 80,
   "id": "64340ce0-2189-44b2-82dd-8f91d7d2aa3d",
   "metadata": {},
   "outputs": [
    {
     "data": {
      "text/plain": [
       "'11-09-2024'"
      ]
     },
     "execution_count": 80,
     "metadata": {},
     "output_type": "execute_result"
    }
   ],
   "source": [
    "fecha_str = fecha_hora_menos_4h.strftime('%d-%m-%Y')\n",
    "fecha_str"
   ]
  },
  {
   "cell_type": "code",
   "execution_count": 81,
   "id": "83884e82-561a-49b1-ba3e-745290ba0892",
   "metadata": {},
   "outputs": [
    {
     "data": {
      "text/plain": [
       "'16:01:10'"
      ]
     },
     "execution_count": 81,
     "metadata": {},
     "output_type": "execute_result"
    }
   ],
   "source": [
    "hora_str = fecha_hora_menos_4h.strftime('%H:%M:%S')\n",
    "hora_str"
   ]
  },
  {
   "cell_type": "code",
   "execution_count": 82,
   "id": "02eeadc2-2022-4039-a1a6-5359ecdf9ce9",
   "metadata": {},
   "outputs": [
    {
     "data": {
      "text/plain": [
       "0"
      ]
     },
     "execution_count": 82,
     "metadata": {},
     "output_type": "execute_result"
    }
   ],
   "source": [
    "cod_ca"
   ]
  },
  {
   "cell_type": "code",
   "execution_count": 83,
   "id": "e51253d3-2a97-4fa8-9c5a-6d8eb15a7ce5",
   "metadata": {},
   "outputs": [
    {
     "data": {
      "text/plain": [
       "'BISMARK SOCOMPI'"
      ]
     },
     "execution_count": 83,
     "metadata": {},
     "output_type": "execute_result"
    }
   ],
   "source": [
    "nom_ca"
   ]
  },
  {
   "cell_type": "code",
   "execution_count": 93,
   "id": "0c3be11a-7993-4e98-9288-9d4b20de63e6",
   "metadata": {},
   "outputs": [],
   "source": [
    "telefonos = [reg['telefono_1'], reg['telefono_2'], reg['telefono_3']]\n",
    "telefonos_validos = [telefono for telefono in telefonos if isinstance(telefono, int) and len(str(telefono)) == 8]"
   ]
  },
  {
   "cell_type": "code",
   "execution_count": 94,
   "id": "958da65a-8486-4a72-84ab-5c86dda05979",
   "metadata": {},
   "outputs": [
    {
     "data": {
      "text/plain": [
       "[78194371, 62022996]"
      ]
     },
     "execution_count": 94,
     "metadata": {},
     "output_type": "execute_result"
    }
   ],
   "source": [
    "telefonos_validos"
   ]
  },
  {
   "cell_type": "code",
   "execution_count": 101,
   "id": "fc234448-e5ad-4a07-b101-849bfac637a2",
   "metadata": {},
   "outputs": [
    {
     "data": {
      "text/plain": [
       "'LIBERACION DE TRICHOGRAMMA'"
      ]
     },
     "execution_count": 101,
     "metadata": {},
     "output_type": "execute_result"
    }
   ],
   "source": [
    "labor = reg_amigo['tipo_labor']\n",
    "labor"
   ]
  },
  {
   "cell_type": "code",
   "execution_count": 103,
   "id": "1ceeb311-d7ee-4337-b33e-b01832a0f4fb",
   "metadata": {},
   "outputs": [
    {
     "data": {
      "text/plain": [
       "'INICIO DE LABOR'"
      ]
     },
     "execution_count": 103,
     "metadata": {},
     "output_type": "execute_result"
    }
   ],
   "source": [
    "estado = reg_amigo['tipo_mensaje']\n",
    "estado"
   ]
  },
  {
   "cell_type": "code",
   "execution_count": 104,
   "id": "1742a905-bf1a-4b27-b5f2-b0c3b19748b4",
   "metadata": {},
   "outputs": [
    {
     "data": {
      "text/plain": [
       "'ALEJANDRO SANCHEZ'"
      ]
     },
     "execution_count": 104,
     "metadata": {},
     "output_type": "execute_result"
    }
   ],
   "source": [
    "tecnico = reg_amigo['piloto']\n",
    "tecnico"
   ]
  },
  {
   "cell_type": "code",
   "execution_count": 153,
   "id": "81b46a91-e2da-44cc-830e-e114d07688e9",
   "metadata": {},
   "outputs": [],
   "source": [
    "ubi = convertir_wkb(reg_amigo['ubicacion'])\n",
    "longitud = ubi.x  # Longitud (coordenada X)\n",
    "latitud = ubi.y   # Latitud (coordenada Y)"
   ]
  },
  {
   "cell_type": "code",
   "execution_count": 150,
   "id": "4c2897c5-8f00-45da-8f8f-7d026c6f1891",
   "metadata": {},
   "outputs": [
    {
     "data": {
      "text/plain": [
       "shapely.geometry.point.Point"
      ]
     },
     "execution_count": 150,
     "metadata": {},
     "output_type": "execute_result"
    }
   ],
   "source": []
  },
  {
   "cell_type": "code",
   "execution_count": 206,
   "id": "c61401ad-3677-4190-9b87-b48c99de5f10",
   "metadata": {},
   "outputs": [],
   "source": [
    "def crear_msj(idd, fecha, hora, cod, nombre, telfs, labor, estado, tecnico, lon, lat):\n",
    "    tec_telf = tecnico_telf[tecnico]\n",
    "    for i in telfs:\n",
    "        msj = ''\n",
    "        if estado == 'INICIO DE LABOR':\n",
    "            msj = f'''Señor(a) *{nombre}* se le informa que se esta iniciando el trabajo de *{labor}* en la siguiente ubicacion: \\\n",
    "https://www.google.com/maps?q={lat},{lon}. \\\n",
    "Para cualquier consulta puede comunicarse con ING. {tecnico} al {tec_telf}'''\n",
    "        elif estado == 'FIN DE LABOR':\n",
    "            msj = f'''Señor(a) *{nombre}* se le informa que se ha finalizado el trabajo de *{labor}* en la siguiente ubicacion: \\\n",
    "https://www.google.com/maps?q={lat},{lon}. \\\n",
    "Para cualquier consulta puede comunicarse con ING. {tecnico} al {tec_telf}'''\n",
    "        linea = f'{idd};{fecha};{hora};{cod};{nombre};{i};{msj}'\n",
    "        #linea2 = f'{idd};{fecha};{hora};{cod};{nombre};{i};https://www.google.com/maps?q={lat},{lon}'\n",
    "        with open(path_txt_msj, 'r') as file:\n",
    "            contenido = file.readlines()\n",
    "        contenido.insert(0, '\\n')\n",
    "        contenido.insert(0, linea)\n",
    "        #contenido.insert(0, '\\n')\n",
    "        #contenido.insert(0, linea2)\n",
    "        with open(path_txt_msj, 'w') as file:\n",
    "            file.writelines(contenido)\n",
    "        print(linea)"
   ]
  },
  {
   "cell_type": "code",
   "execution_count": null,
   "id": "aa0a3544-c82e-4032-83c7-8f098387c404",
   "metadata": {},
   "outputs": [],
   "source": []
  },
  {
   "cell_type": "code",
   "execution_count": 207,
   "id": "d12c34ad-b46d-4200-a427-8196ce9f8093",
   "metadata": {},
   "outputs": [
    {
     "name": "stdout",
     "output_type": "stream",
     "text": [
      "2;11-09-2024;16:01:10;0;BISMARK SOCOMPI;78194371;Señor(a) *BISMARK SOCOMPI* se le informa que se esta iniciando el trabajo de *LIBERACION DE TRICHOGRAMMA* en la siguiente ubicacion: https://www.google.com/maps?q=-17.2818064,-63.1694227. Para cualquier consulta puede comunicarse con ING. ALEJANDRO SANCHEZ al 78448317\n",
      "2;11-09-2024;16:01:10;0;BISMARK SOCOMPI;62022996;Señor(a) *BISMARK SOCOMPI* se le informa que se esta iniciando el trabajo de *LIBERACION DE TRICHOGRAMMA* en la siguiente ubicacion: https://www.google.com/maps?q=-17.2818064,-63.1694227. Para cualquier consulta puede comunicarse con ING. ALEJANDRO SANCHEZ al 78448317\n"
     ]
    }
   ],
   "source": [
    "crear_msj(idd, fecha_str, hora_str, cod_ca, nom_ca, telefonos_validos, labor, estado, tecnico, longitud, latitud)"
   ]
  },
  {
   "cell_type": "code",
   "execution_count": null,
   "id": "78e1cde1-ac7d-4672-a1df-019a20b65e02",
   "metadata": {},
   "outputs": [],
   "source": []
  },
  {
   "cell_type": "code",
   "execution_count": null,
   "id": "bc1de41f-b463-4dfa-9363-ea0e323c4996",
   "metadata": {},
   "outputs": [],
   "source": []
  },
  {
   "cell_type": "code",
   "execution_count": null,
   "id": "447656d3-2170-4473-9b93-e83d70ccccd6",
   "metadata": {},
   "outputs": [],
   "source": []
  },
  {
   "cell_type": "code",
   "execution_count": null,
   "id": "8a198f0e-ea22-46f3-8e7d-0d4fa6d119aa",
   "metadata": {},
   "outputs": [],
   "source": []
  },
  {
   "cell_type": "code",
   "execution_count": null,
   "id": "8652a35d-6aa4-47c1-88a6-c73fc8fe7fe5",
   "metadata": {},
   "outputs": [],
   "source": []
  }
 ],
 "metadata": {
  "kernelspec": {
   "display_name": "Python 3 (ipykernel)",
   "language": "python",
   "name": "python3"
  },
  "language_info": {
   "codemirror_mode": {
    "name": "ipython",
    "version": 3
   },
   "file_extension": ".py",
   "mimetype": "text/x-python",
   "name": "python",
   "nbconvert_exporter": "python",
   "pygments_lexer": "ipython3",
   "version": "3.10.13"
  }
 },
 "nbformat": 4,
 "nbformat_minor": 5
}
