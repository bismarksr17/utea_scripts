{
 "cells": [
  {
   "cell_type": "code",
   "execution_count": 22,
   "id": "a67f83b1-6cb5-42db-ad01-25253ac5b216",
   "metadata": {},
   "outputs": [],
   "source": [
    "import sys\n",
    "sys.path.append('../_amigocloud')\n",
    "\n",
    "from amigocloud import AmigoCloud\n",
    "\n",
    "import geopandas as gpd\n",
    "import pandas as pd"
   ]
  },
  {
   "cell_type": "code",
   "execution_count": 3,
   "id": "ef89a312-4957-4484-ba8c-b447021d7cf3",
   "metadata": {},
   "outputs": [
    {
     "data": {
      "text/plain": [
       "<amigocloud.AmigoCloud at 0x2559c3d5ff0>"
      ]
     },
     "execution_count": 3,
     "metadata": {},
     "output_type": "execute_result"
    }
   ],
   "source": [
    "# ruta de carpera donde estan las llaves\n",
    "ruta = open('../ruta.txt')\n",
    "ruta = ruta.readlines()[0]\n",
    "\n",
    "# leer token\n",
    "acceso = open(ruta + '/_keys/api_amigocloud.key','r')\n",
    "api_token = acceso.readlines()[0]\n",
    "acceso.close()\n",
    "amigocloud = AmigoCloud(token=api_token)\n",
    "amigocloud"
   ]
  },
  {
   "cell_type": "code",
   "execution_count": 36,
   "id": "2bc3ad52-a111-43ce-aac8-467b90f588b0",
   "metadata": {},
   "outputs": [],
   "source": [
    "path_xlsx_plan = r'G:\\Ingenio Azucarero Guabira S.A\\UTEA - SEMANAL - EQUIPO AVIACION UTEA\\Trichogramma\\pd_trichogramma_2024 - copia.xlsx'"
   ]
  },
  {
   "cell_type": "markdown",
   "id": "275373d6-aefc-4709-a642-9a9c08872b66",
   "metadata": {},
   "source": [
    "## ejecutar query"
   ]
  },
  {
   "cell_type": "code",
   "execution_count": null,
   "id": "b15dc21a-3ffd-458b-9820-5c0f99c83a65",
   "metadata": {},
   "outputs": [],
   "source": []
  },
  {
   "cell_type": "code",
   "execution_count": 37,
   "id": "8df96956-60ee-4aa2-b05b-d5eaaa873a3b",
   "metadata": {},
   "outputs": [],
   "source": [
    "# ejecuta cualquier query sql en el proyecto que se le indique\n",
    "# requiere el id de proyecto, query a ejecutar y tipo solicitud (get o post)\n",
    "def ejecutar_query_sql(id_project, query, tipo_sql):\n",
    "    # define la url del proyecto para ejecutar el querry\n",
    "    url_proyecto_sql = f'https://app.amigocloud.com/api/v1/projects/{id_project}/sql'\n",
    "    # crea la estructura de query para amigocloud\n",
    "    query_sql = {'query': query}\n",
    "    # variable para almacenar resultado\n",
    "    resultado_get = ''\n",
    "    # eleige que tipo de solicitud se realizara (get o post)\n",
    "    if tipo_sql == 'get': \n",
    "        resultado_get = amigocloud.get(url_proyecto_sql, query_sql)\n",
    "    elif tipo_sql == 'post':\n",
    "        resultado_get = amigocloud.post(url_proyecto_sql, query_sql)\n",
    "    else:\n",
    "        resultado_get = 'Se a seleccionado un tipo de solicitud erroneo.'\n",
    "    return resultado_get"
   ]
  },
  {
   "cell_type": "code",
   "execution_count": 38,
   "id": "6dc35c34-62e7-443e-b52c-0bd8a1e52a38",
   "metadata": {},
   "outputs": [],
   "source": [
    "proyecto_id = 33457"
   ]
  },
  {
   "cell_type": "code",
   "execution_count": null,
   "id": "1e0afc95-a034-4764-87ce-3b4b20698b14",
   "metadata": {},
   "outputs": [],
   "source": []
  },
  {
   "cell_type": "code",
   "execution_count": 39,
   "id": "7cdf2cb3-14b7-4819-b7e0-3501ced6cbe0",
   "metadata": {},
   "outputs": [],
   "source": [
    "df_plan = pd.read_excel(path_xlsx_plan, sheet_name='PLANIFICACION')"
   ]
  },
  {
   "cell_type": "code",
   "execution_count": 40,
   "id": "e5f6afd2-bf3f-4628-8717-dc23c594a4a1",
   "metadata": {},
   "outputs": [],
   "source": [
    "df_plan = df_plan[['unidad_03', 'unidad_04', 'telefono_1', 'telefono_2', 'telefono_3']]"
   ]
  },
  {
   "cell_type": "code",
   "execution_count": 49,
   "id": "8d5a20f3-7e29-4d4c-ba15-7070283e01b1",
   "metadata": {},
   "outputs": [
    {
     "data": {
      "text/plain": [
       "78194371"
      ]
     },
     "execution_count": 49,
     "metadata": {},
     "output_type": "execute_result"
    }
   ],
   "source": [
    "df_plan[df_plan['unidad_03']==0].iloc[0]['telefono_1']"
   ]
  },
  {
   "cell_type": "code",
   "execution_count": null,
   "id": "341619a8-2670-4066-8062-137e34ecd85a",
   "metadata": {},
   "outputs": [],
   "source": []
  },
  {
   "cell_type": "code",
   "execution_count": null,
   "id": "8be7e295-fe2d-43ff-8892-3ff7ebc1cd46",
   "metadata": {},
   "outputs": [],
   "source": []
  },
  {
   "cell_type": "code",
   "execution_count": null,
   "id": "91f0937c-8690-4bb6-b71a-3781a37b91b2",
   "metadata": {},
   "outputs": [],
   "source": []
  },
  {
   "cell_type": "code",
   "execution_count": null,
   "id": "bead10fa-25e7-4d41-a94c-d1fd3acb2bfc",
   "metadata": {},
   "outputs": [],
   "source": []
  },
  {
   "cell_type": "code",
   "execution_count": 11,
   "id": "f974aef7-5af3-4a3f-8321-1b1f1f9ef7a1",
   "metadata": {},
   "outputs": [],
   "source": [
    "query = 'select * from dataset_354655 where procesado=false'\n",
    "notif = ejecutar_query_sql(proyecto_id, query, 'get')"
   ]
  },
  {
   "cell_type": "code",
   "execution_count": 14,
   "id": "b8e3e8c4-e70a-494a-8f81-7cfa421f88f8",
   "metadata": {},
   "outputs": [],
   "source": [
    "notif = notif['data']"
   ]
  },
  {
   "cell_type": "code",
   "execution_count": 19,
   "id": "7f03a255-f9d0-4700-9bb3-e2bb72327bc8",
   "metadata": {},
   "outputs": [
    {
     "data": {
      "text/plain": [
       "[{'fecha_registro': '2024-09-11 20:01:10+00:00',\n",
       "  'amigo_id': '9ff59ac965874f46bca0725c07435fb2',\n",
       "  'id': 2,\n",
       "  'piloto': 'ALEJANDRO SANCHEZ',\n",
       "  'canhero': '0 / BISMARK SOCOMPI',\n",
       "  'ubicacion': '0101000020E61000009AD99DA4AF954FC0B2CDD776244831C0',\n",
       "  'tipo_labor': 'LIBERACION DE TRICHOGRAMMA',\n",
       "  'tipo_mensaje': 'INICIO DE LABOR',\n",
       "  'procesado': False}]"
      ]
     },
     "execution_count": 19,
     "metadata": {},
     "output_type": "execute_result"
    }
   ],
   "source": [
    "notif"
   ]
  },
  {
   "cell_type": "code",
   "execution_count": null,
   "id": "a2fbcada-b2e1-4699-b0c0-c41eb6547c77",
   "metadata": {},
   "outputs": [],
   "source": []
  },
  {
   "cell_type": "code",
   "execution_count": null,
   "id": "a84342db-c428-46c8-a4cd-02d84a8758ab",
   "metadata": {},
   "outputs": [],
   "source": []
  },
  {
   "cell_type": "code",
   "execution_count": null,
   "id": "915f80ac-57eb-4126-bc78-d1507efb0254",
   "metadata": {},
   "outputs": [],
   "source": []
  },
  {
   "cell_type": "code",
   "execution_count": null,
   "id": "fbba2110-8be4-4339-b55d-b789bf671d3a",
   "metadata": {},
   "outputs": [],
   "source": []
  },
  {
   "cell_type": "code",
   "execution_count": null,
   "id": "33e91e83-2a16-421b-9e21-162b0bc3aba6",
   "metadata": {},
   "outputs": [],
   "source": []
  }
 ],
 "metadata": {
  "kernelspec": {
   "display_name": "Python 3 (ipykernel)",
   "language": "python",
   "name": "python3"
  },
  "language_info": {
   "codemirror_mode": {
    "name": "ipython",
    "version": 3
   },
   "file_extension": ".py",
   "mimetype": "text/x-python",
   "name": "python",
   "nbconvert_exporter": "python",
   "pygments_lexer": "ipython3",
   "version": "3.10.13"
  }
 },
 "nbformat": 4,
 "nbformat_minor": 5
}
