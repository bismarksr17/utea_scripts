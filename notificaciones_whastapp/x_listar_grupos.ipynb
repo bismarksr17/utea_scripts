{
 "cells": [
  {
   "cell_type": "code",
   "execution_count": 3,
   "id": "f563415f-8382-419f-8e75-bab16a662c32",
   "metadata": {},
   "outputs": [],
   "source": [
    "import requests"
   ]
  },
  {
   "cell_type": "code",
   "execution_count": null,
   "id": "64a5dc4e-fe8c-4e51-abf7-ed4133b3f6f3",
   "metadata": {},
   "outputs": [],
   "source": []
  },
  {
   "cell_type": "code",
   "execution_count": null,
   "id": "d1b94cd7-31ca-4d75-9c75-0bf53c1d2dfa",
   "metadata": {},
   "outputs": [],
   "source": []
  },
  {
   "cell_type": "code",
   "execution_count": 4,
   "id": "716e9329-fe84-4504-a36e-e7ffee7f987a",
   "metadata": {},
   "outputs": [],
   "source": [
    "# new version\n",
    "def sendMessage(para, mensaje):\n",
    "    url = \"http://localhost:8080/message/sendText/utea_guabira\"\n",
    "    payload = {\n",
    "        \"number\": '591' + para,\n",
    "        \"text\": mensaje,\n",
    "    }\n",
    "    headers = {\n",
    "        \"apikey\": \"FE7C67FB268F-4FD5-BF73-25AF037E4747\",\n",
    "        \"Content-Type\": \"application/json\"\n",
    "    }\n",
    "    response = requests.request(\"POST\", url, json=payload, headers=headers)"
   ]
  },
  {
   "cell_type": "code",
   "execution_count": 5,
   "id": "26fb9679-41a4-45fe-b783-58126e4a5ade",
   "metadata": {},
   "outputs": [],
   "source": [
    "sendMessage('78194371', 'hola')"
   ]
  },
  {
   "cell_type": "code",
   "execution_count": null,
   "id": "524f3794-05b7-4525-b907-804995aae3ef",
   "metadata": {},
   "outputs": [],
   "source": []
  },
  {
   "cell_type": "code",
   "execution_count": 70,
   "id": "90842c24-811e-4dac-9650-360366abc7df",
   "metadata": {},
   "outputs": [],
   "source": [
    "def listar_grupos(instance_id, api_key, base_url=\"http://localhost:8080\"):\n",
    "    url = f\"{base_url}/group/fetchAllGroups/{instance_id}?getParticipants=false\"\n",
    "    headers = {\n",
    "        \"apikey\": api_key\n",
    "    }\n",
    "\n",
    "    try:\n",
    "        response = requests.get(url, headers=headers)\n",
    "        response.raise_for_status()\n",
    "        grupos = response.json()\n",
    "\n",
    "        if isinstance(grupos, list) and grupos:\n",
    "            print(\"📋 Lista de grupos:\")\n",
    "            for grupo in grupos:\n",
    "                nombre = grupo.get(\"subject\", \"Sin nombre\")\n",
    "                jid = grupo.get(\"id\", \"Sin ID\")\n",
    "                print(f\"- {nombre} ({jid})\")\n",
    "        else:\n",
    "            print(\"⚠️ No se encontraron grupos o la respuesta no contiene la información esperada.\")\n",
    "\n",
    "    except requests.exceptions.HTTPError as errh:\n",
    "        print(f\"❌ Error HTTP: {errh}\")\n",
    "    except requests.exceptions.ConnectionError as errc:\n",
    "        print(f\"❌ Error de conexión: {errc}\")\n",
    "    except requests.exceptions.Timeout as errt:\n",
    "        print(f\"❌ Tiempo de espera agotado: {errt}\")\n",
    "    except requests.exceptions.RequestException as err:\n",
    "        print(f\"❌ Error en la solicitud: {err}\")"
   ]
  },
  {
   "cell_type": "code",
   "execution_count": 71,
   "id": "3d320232-6fa1-4bcb-a619-a7d1c49b9f76",
   "metadata": {},
   "outputs": [
    {
     "name": "stdout",
     "output_type": "stream",
     "text": [
      "📋 Lista de grupos:\n",
      "- Frente de Cosecha F1 (120363304200372914@g.us)\n"
     ]
    }
   ],
   "source": [
    "listar_grupos('utea_guabira', 'FE7C67FB268F-4FD5-BF73-25AF037E4747')"
   ]
  },
  {
   "cell_type": "code",
   "execution_count": 67,
   "id": "70c1e9db-4ea4-4b65-aea3-44f620adee5c",
   "metadata": {},
   "outputs": [],
   "source": [
    "def sendMessage(destinatario, mensaje, es_grupo=False):\n",
    "    url = \"http://localhost:8080/message/sendText/utea_guabira\"\n",
    "    numero = destinatario if es_grupo else '591' + destinatario\n",
    "    payload = {\n",
    "        \"number\": numero,\n",
    "        \"text\": mensaje,\n",
    "    }\n",
    "    headers = {\n",
    "        \"apikey\": \"FE7C67FB268F-4FD5-BF73-25AF037E4747\",\n",
    "        \"Content-Type\": \"application/json\"\n",
    "    }\n",
    "    response = requests.post(url, json=payload, headers=headers)\n",
    "    if response.status_code == 201:\n",
    "        print(\"✅ Mensaje enviado correctamente.\")\n",
    "    else:\n",
    "        print(f\"❌ Error al enviar el mensaje: {response.status_code} - {response.text}\")"
   ]
  },
  {
   "cell_type": "code",
   "execution_count": 69,
   "id": "4bc45c4e-9f76-4d7c-b03f-bf5f76cd0335",
   "metadata": {},
   "outputs": [
    {
     "name": "stdout",
     "output_type": "stream",
     "text": [
      "❌ Error al enviar el mensaje: 400 - {\"status\":400,\"error\":\"Bad Request\",\"response\":{\"message\":[\"SessionError: No sessions\"]}}\n"
     ]
    }
   ],
   "source": [
    "sendMessage(\"120363304200372914@g.us\", \"Hola grupo, este es un mensaje de prueba.\", es_grupo=True)"
   ]
  },
  {
   "cell_type": "code",
   "execution_count": 68,
   "id": "b1689569-72d4-4cc3-9faa-e281bdece026",
   "metadata": {},
   "outputs": [
    {
     "name": "stdout",
     "output_type": "stream",
     "text": [
      "✅ Mensaje enviado correctamente.\n"
     ]
    }
   ],
   "source": [
    "sendMessage(\"78194371\", \"Hola, este es un mensaje de prueba.\")"
   ]
  },
  {
   "cell_type": "code",
   "execution_count": null,
   "id": "00efd320-15f3-4ce3-a31c-75df0cac696d",
   "metadata": {},
   "outputs": [],
   "source": []
  },
  {
   "cell_type": "code",
   "execution_count": null,
   "id": "fe2cddea-d7c8-40a9-8f71-6e386f0a1fcc",
   "metadata": {},
   "outputs": [],
   "source": []
  },
  {
   "cell_type": "code",
   "execution_count": null,
   "id": "98d3832e-44c1-423e-8826-e2a48a767ec4",
   "metadata": {},
   "outputs": [],
   "source": []
  },
  {
   "cell_type": "code",
   "execution_count": null,
   "id": "b5055b3c-de08-4de5-a61f-58a22e69f7b7",
   "metadata": {},
   "outputs": [],
   "source": []
  },
  {
   "cell_type": "code",
   "execution_count": null,
   "id": "df4199ee-3a64-4ae2-8552-d5dafbe5cdb8",
   "metadata": {},
   "outputs": [],
   "source": []
  },
  {
   "cell_type": "code",
   "execution_count": null,
   "id": "b92588b4-b90c-478f-b272-94da04c4a60b",
   "metadata": {},
   "outputs": [],
   "source": []
  },
  {
   "cell_type": "code",
   "execution_count": null,
   "id": "08b1b5b3-18e5-4fdd-b41c-8cf1ba3badc2",
   "metadata": {},
   "outputs": [],
   "source": []
  }
 ],
 "metadata": {
  "kernelspec": {
   "display_name": "Python 3 (ipykernel)",
   "language": "python",
   "name": "python3"
  },
  "language_info": {
   "codemirror_mode": {
    "name": "ipython",
    "version": 3
   },
   "file_extension": ".py",
   "mimetype": "text/x-python",
   "name": "python",
   "nbconvert_exporter": "python",
   "pygments_lexer": "ipython3",
   "version": "3.10.13"
  }
 },
 "nbformat": 4,
 "nbformat_minor": 5
}
