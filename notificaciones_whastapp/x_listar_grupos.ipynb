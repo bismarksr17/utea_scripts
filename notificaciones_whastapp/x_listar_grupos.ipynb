{
 "cells": [
  {
   "cell_type": "code",
   "execution_count": 55,
   "id": "f563415f-8382-419f-8e75-bab16a662c32",
   "metadata": {},
   "outputs": [],
   "source": [
    "import requests"
   ]
  },
  {
   "cell_type": "code",
   "execution_count": null,
   "id": "64a5dc4e-fe8c-4e51-abf7-ed4133b3f6f3",
   "metadata": {},
   "outputs": [],
   "source": []
  },
  {
   "cell_type": "code",
   "execution_count": null,
   "id": "d1b94cd7-31ca-4d75-9c75-0bf53c1d2dfa",
   "metadata": {},
   "outputs": [],
   "source": []
  },
  {
   "cell_type": "code",
   "execution_count": 85,
   "id": "716e9329-fe84-4504-a36e-e7ffee7f987a",
   "metadata": {},
   "outputs": [],
   "source": [
    "# new version\n",
    "def sendMessage(para, mensaje):\n",
    "    url = \"http://localhost:8080/message/sendText/bis\"\n",
    "    payload = {\n",
    "        \"number\": para,\n",
    "        \"text\": mensaje\n",
    "    }\n",
    "    headers = {\n",
    "        \"apikey\": \"909FFAD9212F-4430-89ED-E5DE93391DE7\",\n",
    "        \"Content-Type\": \"application/json\"\n",
    "    }\n",
    "    response = requests.request(\"POST\", url, json=payload, headers=headers)\n",
    "    print(response)"
   ]
  },
  {
   "cell_type": "code",
   "execution_count": 99,
   "id": "26fb9679-41a4-45fe-b783-58126e4a5ade",
   "metadata": {},
   "outputs": [
    {
     "name": "stdout",
     "output_type": "stream",
     "text": [
      "❌ Error al enviar el mensaje: 500 - {\"status\":500,\"error\":\"Internal Server Error\",\"response\":{\"message\":\"Cannot read properties of undefined (reading 'id')\"}}\n"
     ]
    }
   ],
   "source": [
    "sendMessage('120363304200372914@g.us', 'mensaje de prueba')"
   ]
  },
  {
   "cell_type": "code",
   "execution_count": null,
   "id": "524f3794-05b7-4525-b907-804995aae3ef",
   "metadata": {},
   "outputs": [],
   "source": [
    "120363304200372914@g.us"
   ]
  },
  {
   "cell_type": "code",
   "execution_count": null,
   "id": "16bd09fe-af57-44e1-8784-6ebdfa63efa7",
   "metadata": {},
   "outputs": [],
   "source": []
  },
  {
   "cell_type": "code",
   "execution_count": 98,
   "id": "431b86b8-e2f5-4446-ab00-499829faa92f",
   "metadata": {},
   "outputs": [
    {
     "name": "stdout",
     "output_type": "stream",
     "text": [
      "400\n",
      "{'status': 400, 'error': 'Bad Request', 'response': {'message': ['SessionError: No sessions']}}\n"
     ]
    }
   ],
   "source": [
    "import requests\n",
    "\n",
    "# Configura los parámetros necesarios\n",
    "server_url = \"localhost:8080\"  # Reemplaza con la URL de tu servidor Evolution API\n",
    "instance = \"bis\"      # Reemplaza con el nombre de tu instancia\n",
    "api_key = \"909FFAD9212F-4430-89ED-E5DE93391DE7\"  # Reemplaza con tu clave de API\n",
    "numero_destino = \"120363304200372914\"  # Número de teléfono o ID del grupo\n",
    "mensaje = \"Hola, este es un mensaje de prueba desde Evolution API.\"\n",
    "\n",
    "# Construye la URL del endpoint\n",
    "url = f\"http://{server_url}/message/sendText/{instance}\"\n",
    "\n",
    "# Define el payload de la solicitud\n",
    "payload = {\n",
    "    \"number\": numero_destino,\n",
    "    \"text\": mensaje,\n",
    "    \"options\": {\n",
    "        \"delay\": 1000,  # Milisegundos antes de enviar el mensaje\n",
    "        \"presence\": \"composing\",  # Estado de presencia (escribiendo)\n",
    "        \"linkPreview\": False  # Desactiva la vista previa de enlaces\n",
    "    }\n",
    "}\n",
    "\n",
    "# Define los encabezados de la solicitud\n",
    "headers = {\n",
    "    \"apikey\": api_key,\n",
    "    \"Content-Type\": \"application/json\"\n",
    "}\n",
    "\n",
    "# Realiza la solicitud POST\n",
    "response = requests.post(url, json=payload, headers=headers)\n",
    "\n",
    "# Imprime la respuesta\n",
    "print(response.status_code)\n",
    "print(response.json())\n",
    "\n"
   ]
  },
  {
   "cell_type": "code",
   "execution_count": null,
   "id": "790837e2-86cf-4394-a2f5-ed9a2d490e94",
   "metadata": {},
   "outputs": [],
   "source": []
  },
  {
   "cell_type": "code",
   "execution_count": null,
   "id": "384be6c5-20a9-491f-9a64-344f59cac4ea",
   "metadata": {},
   "outputs": [],
   "source": []
  },
  {
   "cell_type": "code",
   "execution_count": 100,
   "id": "a8b1ee20-5a61-4700-a6af-5023e1956f5f",
   "metadata": {},
   "outputs": [
    {
     "name": "stdout",
     "output_type": "stream",
     "text": [
      "404\n",
      "{\"status\":404,\"error\":\"Not Found\",\"response\":{\"message\":[\"Cannot GET /client/getHostDevice/bis\"]}}\n"
     ]
    }
   ],
   "source": [
    "def verificar_sesion(instance=\"bis\"):\n",
    "    url = f\"http://localhost:8080/client/getHostDevice/{instance}\"\n",
    "    headers = {\"apikey\": \"909FFAD9212F-4430-89ED-E5DE93391DE7\"}\n",
    "    r = requests.get(url, headers=headers)\n",
    "    print(r.status_code)\n",
    "    print(r.text)\n",
    "\n",
    "verificar_sesion()"
   ]
  },
  {
   "cell_type": "code",
   "execution_count": null,
   "id": "cf527086-2620-4226-b737-48425727b052",
   "metadata": {},
   "outputs": [],
   "source": []
  },
  {
   "cell_type": "code",
   "execution_count": null,
   "id": "03337799-4560-4c62-bc0a-324103a8fa77",
   "metadata": {},
   "outputs": [],
   "source": []
  },
  {
   "cell_type": "code",
   "execution_count": 93,
   "id": "90842c24-811e-4dac-9650-360366abc7df",
   "metadata": {},
   "outputs": [],
   "source": [
    "def listar_grupos(instance_id, api_key, base_url=\"http://localhost:8080\"):\n",
    "    url = f\"{base_url}/group/fetchAllGroups/{instance_id}?getParticipants=false\"\n",
    "    headers = {\n",
    "        \"apikey\": api_key\n",
    "    }\n",
    "\n",
    "    try:\n",
    "        response = requests.get(url, headers=headers)\n",
    "        response.raise_for_status()\n",
    "        grupos = response.json()\n",
    "\n",
    "        if isinstance(grupos, list) and grupos:\n",
    "            print(\"📋 Lista de grupos:\")\n",
    "            for grupo in grupos:\n",
    "                nombre = grupo.get(\"subject\", \"Sin nombre\")\n",
    "                jid = grupo.get(\"id\", \"Sin ID\")\n",
    "                print(f\"- {nombre} ({jid})\")\n",
    "        else:\n",
    "            print(\"⚠️ No se encontraron grupos o la respuesta no contiene la información esperada.\")\n",
    "\n",
    "    except requests.exceptions.HTTPError as errh:\n",
    "        print(f\"❌ Error HTTP: {errh}\")\n",
    "    except requests.exceptions.ConnectionError as errc:\n",
    "        print(f\"❌ Error de conexión: {errc}\")\n",
    "    except requests.exceptions.Timeout as errt:\n",
    "        print(f\"❌ Tiempo de espera agotado: {errt}\")\n",
    "    except requests.exceptions.RequestException as err:\n",
    "        print(f\"❌ Error en la solicitud: {err}\")"
   ]
  },
  {
   "cell_type": "code",
   "execution_count": 94,
   "id": "3d320232-6fa1-4bcb-a619-a7d1c49b9f76",
   "metadata": {},
   "outputs": [
    {
     "name": "stdout",
     "output_type": "stream",
     "text": [
      "📋 Lista de grupos:\n",
      "- BI Interes Comunidad (120363234056903890@g.us)\n",
      "- DEV - 5 (120363132366482180@g.us)\n",
      "- TRIBU Tech Latam (120363026393961841@g.us)\n",
      "- TEST (120363042729000619@g.us)\n",
      "- 📟💣 (120363143730167709@g.us)\n",
      "- PRODUCCION CITTCA (120363168395156191@g.us)\n",
      "- A la grande le puse Cuca! (59178194371-1530284654@g.us)\n",
      "- Equipo Amarillo (59178853748-1629143868@g.us)\n",
      "- Coordinadores Gerencia de Tecnología Agrícola 🎋 (120363312019908530@g.us)\n",
      "- Comité caña segura (120363165863965726@g.us)\n",
      "- Viajeros 2.0 (120363366956875067@g.us)\n",
      "- Comité Técnico (120363292892774284@g.us)\n",
      "- Transicion UTEA-BPL (59179876286-1621947328@g.us)\n",
      "- OKr Guabirá 🚀 (120363416350393674@g.us)\n",
      "- PROYECTO 123 (120363029341793128@g.us)\n",
      "- Frente de Cosecha F1 (120363304200372914@g.us)\n",
      "- Excelencia Operacional (120363166741816346@g.us)\n",
      "- CUMPLE DE KELLY 🥳 (120363342431668513@g.us)\n",
      "- Guabirá - NAX  (120363255365824800@g.us)\n",
      "- Grupo 1 (120363026440377738@g.us)\n",
      "- Contratos 2025 (120363357248692965@g.us)\n",
      "- Facturas/combustible utea (120363024934480268@g.us)\n",
      "- COORDINADORES CITTCA (120363281223694972@g.us)\n",
      "- Equipo Drones UTEA 🚁 (120363231867649370@g.us)\n",
      "- RPA con Power Automate Desktop (120363322845704956@g.us)\n",
      "- Cittca OKRs (120363048104342643@g.us)\n",
      "- Coordinación de CITTCA (120363214472117683@g.us)\n",
      "- Sis_Cat_ArcGIS_Pro_07_23 (120363144535350521@g.us)\n",
      "- Pago mi Camisa 😎 (120363331172429742@g.us)\n",
      "- Bokados 🐷 (120363319289069441@g.us)\n",
      "- UTEA.! (120363280926657286@g.us)\n",
      "- Alta x CITTCA - biologicos (120363223344321241@g.us)\n",
      "- UTEA - OKRs 🎋📈 (59175359819-1591208723@g.us)\n",
      "- Capacitación oficce 365 (120363043258206807@g.us)\n",
      "- GEE Python 🛰️ (51995664488-1628199960@g.us)\n",
      "- Equipo UTEA🚜 (59175359819-1579524081@g.us)\n",
      "- IAG - Sistema Ida y Vuelta (120363401542721110@g.us)\n",
      "- 2503BIPU02 (120363418956301923@g.us)\n",
      "- CAÑERO LIDER (UTEA)🎋 (59177671397-1525099852@g.us)\n",
      "- Codo de los Andes 05 mayo (120363294834879998@g.us)\n",
      "- En Caso Santa Cruz (5215566248654-1490724326@g.us)\n",
      "- estudiantes DEEP (59179125676-1632932433@g.us)\n",
      "- 2404-BIKM01-VS-8:30a12:30 (120363281933155638@g.us)\n",
      "- Porfia WIFI (120363395658277149@g.us)\n",
      "- PENSION GELEN (120363137771799910@g.us)\n",
      "- 🚨Comunicados Daniel Acero (59168484191-1625112530@g.us)\n",
      "- Curso Desarrollo de Servicios Web Api Rest con Node - Nest (120363400404569239@g.us)\n",
      "- AGRÍCOLA MONTERO 👩🏻‍🌾 (59178177535-1398297350@g.us)\n",
      "- Tertulia CITTCA (120363228990563260@g.us)\n",
      "- Ciclo N°1 - Programa OKRs 2024 (120363143475089984@g.us)\n",
      "- CIUDAD CITTCA 2024🎋🚜 (120363042202921846@g.us)\n",
      "- Ing AGRÍCOLA FCA (59174696902-1459822734@g.us)\n",
      "- Creación de Geoportales con Leaflet 2024 - 2 (120363333334722856@g.us)\n",
      "- Equipo de Futbol GUABIRA (120363040792254532@g.us)\n",
      "- Mauricio Benoist p4 (120363041776144057@g.us)\n",
      "- FULL PROMO 2007 (59170072337-1409456487@g.us)\n",
      "- IN2407172 | PAEKPISPROYSOFT (120363334468313095@g.us)\n",
      "- Webinar BTC: Gemelos Digitales 25Sept (120363313935202479@g.us)\n",
      "- Curso: Machine Learning con Power BI & Python (120363345737454816@g.us)\n",
      "- Lanzamiento NUM* #41 (120363045770057992@g.us)\n",
      "- Hotmaster Alumnos 🔥 (59168484191-1610648552@g.us)\n",
      "- Curso: Power Apps & Power Automate (120363342707428577@g.us)\n",
      "- Curso Taller Creación de Chatbots para WhatsApp Conectando con Base de Datos e IA V10  (120363402354863587@g.us)\n",
      "- SECRETARIAS INSTITUCIONES (59175013933-1569523333@g.us)\n",
      "- RPAS - Agricultura (51995664488-1592751102@g.us)\n",
      "- Curso: Gestión y administración cañera (120363275041910131@g.us)\n",
      "- 🪙 CRIPTOWEEK 2.0 🪙 (120363387451975706@g.us)\n",
      "- ING. AGRÍCOLAS☘🌵🌳🌴🌿🍂🌾🎋 (59169376055-1466042406@g.us)\n",
      "- TBB EMPRENDE GRUPO 8🚀 (120363042358137732@g.us)\n",
      "- GEE planet (120363047974093593@g.us)\n",
      "- Paneles Solares SCZ (59177700901-1630982168@g.us)\n",
      "- TRIBU - SANTA CRUZ (120363049660082674@g.us)\n",
      "- FRENESY  Fans BAND (120363362092597417@g.us)\n",
      "- PILOTOS DE DRONES BOLIVIA (59177308522-1610581547@g.us)\n",
      "- 🔥HotPlay Oficial Grupo2🔥 (120363370395672377@g.us)\n",
      "- BI Interes Comunidad (120363233084517347@g.us)\n",
      "- SHOPPING VISTE Y BRILLA ❤️ (120363293856436466@g.us)\n",
      "- MEGATLON MONTERO (120363126671617504@g.us)\n",
      "- PUNTO C (120363392466326056@g.us)\n",
      "- CATEP - Curso MB (120363214765499265@g.us)\n",
      "- 😈🔥PORNOSOTROS🔥😈 (120363145869464495@g.us)\n",
      "- DEV - 5 (120363132574747470@g.us)\n",
      "- 💎 Diamond Club Privado💎 (120363181033729658@g.us)\n",
      "- 🌎 Automatización de Geoprocesos en QGIS con Python y PyQGIS (120363292783601799@g.us)\n",
      "- Turquesa Spa (120363300646455945@g.us)\n",
      "- 🇳🇬 Sólo Verificación Santa Cruz ✅🇳🇬 (120363389219139284@g.us)\n",
      "- 2 - Desafío Industria 4.0 - IngeLearn (120363297226176614@g.us)\n",
      "- Curso Big Data AGPRES (120363226330017315@g.us)\n",
      "- MAGIS TV 🇧🇴 Oficial Adm (iptv-flujo-playnet) (120363046292110921@g.us)\n",
      "- 🌴🇳🇬🔥𝕃ꋬ 𝗥𝖠M҇҇𝖠ᗪ𝖠💋🔞 – 𝘚Ｃℤ🔥🇳🇬🌴𝔻ᑕ ᗪAM𝕚TAՏ Dĭ̈SP🔥🔞 (120363419398154908@g.us)\n",
      "- 🌍Geomatica 2024🌍 1 (51995664488-1590934473@g.us)\n",
      "- 🔥Grupo vip sin censura 🔥Team Sexo 🍻🔥🔥 (120363420107650548@g.us)\n",
      "- AVISO GASOLINA MONTERO (120363345077782830@g.us)\n",
      "- ⛽AVISO GASOLINA MONTERO📍🚨1️⃣ (120363223266582291@g.us)\n",
      "- TRIBU Tech Latam (120363027787124454@g.us)\n"
     ]
    }
   ],
   "source": [
    "listar_grupos('bis', '909FFAD9212F-4430-89ED-E5DE93391DE7')"
   ]
  },
  {
   "cell_type": "code",
   "execution_count": 96,
   "id": "70c1e9db-4ea4-4b65-aea3-44f620adee5c",
   "metadata": {},
   "outputs": [],
   "source": [
    "def sendMessage(destinatario, mensaje, es_grupo=False):\n",
    "    url = \"http://localhost:8080/message/sendText/bis\"\n",
    "    numero = destinatario if es_grupo else '591' + destinatario\n",
    "    payload = {\n",
    "        \"number\": numero,\n",
    "        \"text\": mensaje,\n",
    "    }\n",
    "    headers = {\n",
    "        \"apikey\": \"909FFAD9212F-4430-89ED-E5DE93391DE7\",\n",
    "        \"Content-Type\": \"application/json\"\n",
    "    }\n",
    "    response = requests.post(url, json=payload, headers=headers)\n",
    "    if response.status_code == 201:\n",
    "        print(\"✅ Mensaje enviado correctamente.\")\n",
    "    else:\n",
    "        print(f\"❌ Error al enviar el mensaje: {response.status_code} - {response.text}\")"
   ]
  },
  {
   "cell_type": "code",
   "execution_count": 97,
   "id": "4bc45c4e-9f76-4d7c-b03f-bf5f76cd0335",
   "metadata": {},
   "outputs": [
    {
     "name": "stdout",
     "output_type": "stream",
     "text": [
      "❌ Error al enviar el mensaje: 400 - {\"status\":400,\"error\":\"Bad Request\",\"response\":{\"message\":[\"SessionError: No sessions\"]}}\n"
     ]
    }
   ],
   "source": [
    "sendMessage(\"120363304200372914\", \"Hola grupo, este es un mensaje de prueba.\", es_grupo=True)"
   ]
  },
  {
   "cell_type": "code",
   "execution_count": 68,
   "id": "b1689569-72d4-4cc3-9faa-e281bdece026",
   "metadata": {},
   "outputs": [
    {
     "name": "stdout",
     "output_type": "stream",
     "text": [
      "✅ Mensaje enviado correctamente.\n"
     ]
    }
   ],
   "source": [
    "sendMessage(\"78194371\", \"Hola, este es un mensaje de prueba.\")"
   ]
  },
  {
   "cell_type": "code",
   "execution_count": null,
   "id": "00efd320-15f3-4ce3-a31c-75df0cac696d",
   "metadata": {},
   "outputs": [],
   "source": []
  },
  {
   "cell_type": "code",
   "execution_count": null,
   "id": "fe2cddea-d7c8-40a9-8f71-6e386f0a1fcc",
   "metadata": {},
   "outputs": [],
   "source": []
  },
  {
   "cell_type": "code",
   "execution_count": null,
   "id": "98d3832e-44c1-423e-8826-e2a48a767ec4",
   "metadata": {},
   "outputs": [],
   "source": []
  },
  {
   "cell_type": "code",
   "execution_count": null,
   "id": "b5055b3c-de08-4de5-a61f-58a22e69f7b7",
   "metadata": {},
   "outputs": [],
   "source": []
  },
  {
   "cell_type": "code",
   "execution_count": null,
   "id": "df4199ee-3a64-4ae2-8552-d5dafbe5cdb8",
   "metadata": {},
   "outputs": [],
   "source": []
  },
  {
   "cell_type": "code",
   "execution_count": 101,
   "id": "b92588b4-b90c-478f-b272-94da04c4a60b",
   "metadata": {},
   "outputs": [
    {
     "name": "stdout",
     "output_type": "stream",
     "text": [
      "400 {\"status\":400,\"error\":\"Bad Request\",\"response\":{\"message\":[\"SessionError: No sessions\"]}}\n"
     ]
    }
   ],
   "source": [
    "def send_to_group(jid, mensaje):\n",
    "    url = \"http://localhost:8080/message/sendText/bis\"\n",
    "    payload = {\n",
    "        \"number\": jid,\n",
    "        \"text\": mensaje,\n",
    "        \"options\": {\n",
    "            \"delay\": 1000,\n",
    "            \"presence\": \"composing\"\n",
    "        }\n",
    "    }\n",
    "    headers = {\n",
    "        \"apikey\": \"909FFAD9212F-4430-89ED-E5DE93391DE7\",\n",
    "        \"Content-Type\": \"application/json\"\n",
    "    }\n",
    "    r = requests.post(url, json=payload, headers=headers)\n",
    "    print(r.status_code, r.text)\n",
    "\n",
    "# Ejemplo:\n",
    "send_to_group(\"120363304200372914@g.us\", \"🚜 ¡Hola grupo desde Evolution API!\")\n"
   ]
  },
  {
   "cell_type": "code",
   "execution_count": null,
   "id": "08b1b5b3-18e5-4fdd-b41c-8cf1ba3badc2",
   "metadata": {},
   "outputs": [],
   "source": []
  }
 ],
 "metadata": {
  "kernelspec": {
   "display_name": "Python 3 (ipykernel)",
   "language": "python",
   "name": "python3"
  },
  "language_info": {
   "codemirror_mode": {
    "name": "ipython",
    "version": 3
   },
   "file_extension": ".py",
   "mimetype": "text/x-python",
   "name": "python",
   "nbconvert_exporter": "python",
   "pygments_lexer": "ipython3",
   "version": "3.10.13"
  }
 },
 "nbformat": 4,
 "nbformat_minor": 5
}
