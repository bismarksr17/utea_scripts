{
 "cells": [
  {
   "cell_type": "code",
   "execution_count": 20,
   "id": "ac0874a8-697c-4f4f-9acf-d1b9796059c7",
   "metadata": {},
   "outputs": [],
   "source": [
    "import sys\n",
    "sys.path.append('..')\n",
    "from config import POSTGRES_UTEA\n",
    "\n",
    "# conexion postgress\n",
    "import psycopg2\n",
    "import os"
   ]
  },
  {
   "cell_type": "code",
   "execution_count": 21,
   "id": "d3765eaf-6db0-4ba1-926d-c9556c60ce7d",
   "metadata": {},
   "outputs": [],
   "source": [
    "def obtener_conexion():\n",
    "    return psycopg2.connect(\n",
    "        host=POSTGRES_UTEA[\"HOST\"],\n",
    "        port=POSTGRES_UTEA[\"PORT\"],\n",
    "        database=POSTGRES_UTEA[\"DATABASE\"],\n",
    "        user=POSTGRES_UTEA[\"USER\"],\n",
    "        password=POSTGRES_UTEA[\"PASSWORD\"]\n",
    "    )"
   ]
  },
  {
   "cell_type": "code",
   "execution_count": 22,
   "id": "8b7fd00f-8c9b-42f2-8e88-0c6bc2657a9e",
   "metadata": {},
   "outputs": [],
   "source": [
    "def insertar_mensaje_whatsapp(cod_canero, nombre_canero, numero_cel, mensaje, enviado=False, fecha_enviado=None):\n",
    "    try:\n",
    "        conexion = obtener_conexion()\n",
    "        cursor = conexion.cursor()\n",
    "        cursor.execute(\"\"\"\n",
    "            INSERT INTO msj_whatsapp (\n",
    "                cod_canero, nombre_canero, numero_cel, mensaje, enviado, fecha_enviado\n",
    "            ) VALUES (%s, %s, %s, %s, %s, %s)\n",
    "        \"\"\", (cod_canero, nombre_canero, numero_cel, mensaje, enviado, fecha_enviado))\n",
    "        \n",
    "        conexion.commit()\n",
    "        cursor.close()\n",
    "        print(\"Mensaje insertado correctamente.\")\n",
    "    except Exception as e:\n",
    "        conexion.rollback()\n",
    "        print(\"Error al insertar:\", e)"
   ]
  },
  {
   "cell_type": "code",
   "execution_count": 23,
   "id": "c7bbca0e-25df-4d96-beeb-f1698a6c6831",
   "metadata": {},
   "outputs": [
    {
     "name": "stdout",
     "output_type": "stream",
     "text": [
      "Mensaje insertado correctamente.\n"
     ]
    }
   ],
   "source": [
    "insertar_mensaje_whatsapp(\n",
    "    cod_canero=123,\n",
    "    nombre_canero=\"Juan Pérez\",\n",
    "    numero_cel=789456123,\n",
    "    mensaje=\"Este es un mensaje de prueba\"\n",
    ")"
   ]
  },
  {
   "cell_type": "code",
   "execution_count": null,
   "id": "83b48f3b-af35-423d-aa26-f658ce5a9cd7",
   "metadata": {},
   "outputs": [],
   "source": []
  },
  {
   "cell_type": "code",
   "execution_count": null,
   "id": "01a9da3d-e549-4775-bda5-26cb0fa5eedf",
   "metadata": {},
   "outputs": [],
   "source": []
  },
  {
   "cell_type": "code",
   "execution_count": null,
   "id": "06893ee5-106d-4787-a2bc-d953cfd97558",
   "metadata": {},
   "outputs": [],
   "source": []
  },
  {
   "cell_type": "code",
   "execution_count": null,
   "id": "03adf76b-0e1d-4072-9754-f876c590849f",
   "metadata": {},
   "outputs": [],
   "source": []
  },
  {
   "cell_type": "code",
   "execution_count": null,
   "id": "7a94131d-bbce-4222-afbf-4c576c598b00",
   "metadata": {},
   "outputs": [],
   "source": []
  },
  {
   "cell_type": "code",
   "execution_count": null,
   "id": "2e285c64-b5f5-4288-a042-a17d2f1e4720",
   "metadata": {},
   "outputs": [],
   "source": []
  },
  {
   "cell_type": "code",
   "execution_count": null,
   "id": "732fb78d-68ab-40fe-b6b9-befcb11aef1a",
   "metadata": {},
   "outputs": [],
   "source": []
  },
  {
   "cell_type": "code",
   "execution_count": null,
   "id": "f7c99342-9f76-4eff-8b13-f69d36e4a737",
   "metadata": {},
   "outputs": [],
   "source": []
  },
  {
   "cell_type": "code",
   "execution_count": null,
   "id": "6bc262c7-5dce-4920-b8a7-f2db8e9ca090",
   "metadata": {},
   "outputs": [],
   "source": []
  },
  {
   "cell_type": "code",
   "execution_count": null,
   "id": "bc84b0e3-48d7-4ed2-94a2-783298604959",
   "metadata": {},
   "outputs": [],
   "source": []
  },
  {
   "cell_type": "code",
   "execution_count": null,
   "id": "f1efa54b-337b-43de-88fd-256ab5a6b6ec",
   "metadata": {},
   "outputs": [],
   "source": []
  },
  {
   "cell_type": "code",
   "execution_count": 24,
   "id": "afd87a21-d61c-447c-b05c-3c1e315406dd",
   "metadata": {},
   "outputs": [],
   "source": [
    "import pandas as pd\n",
    "\n",
    "# Ruta al archivo\n",
    "ruta_excel = r\"G:\\Ingenio Azucarero Guabira S.A\\UTEA - SEMANAL - EQUIPO AVIACION UTEA\\Pulverizacion\\CONTACTOS.xlsx\"\n",
    "\n",
    "# Cargar la hoja \"Hoja2\" en un DataFrame\n",
    "df = pd.read_excel(ruta_excel, sheet_name=\"Hoja2\")"
   ]
  },
  {
   "cell_type": "code",
   "execution_count": 25,
   "id": "e1648f81-fddf-49b1-bc99-af7f92b40c71",
   "metadata": {},
   "outputs": [
    {
     "name": "stdout",
     "output_type": "stream",
     "text": [
      "Mensaje insertado correctamente.\n",
      "Mensaje insertado correctamente.\n",
      "Mensaje insertado correctamente.\n",
      "Mensaje insertado correctamente.\n",
      "Mensaje insertado correctamente.\n",
      "Mensaje insertado correctamente.\n",
      "Mensaje insertado correctamente.\n",
      "Mensaje insertado correctamente.\n",
      "Mensaje insertado correctamente.\n",
      "Mensaje insertado correctamente.\n",
      "Mensaje insertado correctamente.\n",
      "Mensaje insertado correctamente.\n",
      "Mensaje insertado correctamente.\n",
      "Mensaje insertado correctamente.\n",
      "Mensaje insertado correctamente.\n",
      "Mensaje insertado correctamente.\n",
      "Mensaje insertado correctamente.\n",
      "Mensaje insertado correctamente.\n",
      "Mensaje insertado correctamente.\n",
      "Mensaje insertado correctamente.\n",
      "Mensaje insertado correctamente.\n",
      "Mensaje insertado correctamente.\n",
      "Mensaje insertado correctamente.\n",
      "Mensaje insertado correctamente.\n",
      "Mensaje insertado correctamente.\n",
      "Mensaje insertado correctamente.\n",
      "Mensaje insertado correctamente.\n",
      "Mensaje insertado correctamente.\n",
      "Mensaje insertado correctamente.\n",
      "Mensaje insertado correctamente.\n",
      "Mensaje insertado correctamente.\n",
      "Mensaje insertado correctamente.\n",
      "Mensaje insertado correctamente.\n",
      "Mensaje insertado correctamente.\n",
      "Mensaje insertado correctamente.\n",
      "Mensaje insertado correctamente.\n",
      "Mensaje insertado correctamente.\n",
      "Mensaje insertado correctamente.\n",
      "Mensaje insertado correctamente.\n",
      "Mensaje insertado correctamente.\n",
      "Mensaje insertado correctamente.\n",
      "Mensaje insertado correctamente.\n",
      "Mensaje insertado correctamente.\n",
      "Mensaje insertado correctamente.\n",
      "Mensaje insertado correctamente.\n",
      "Mensaje insertado correctamente.\n",
      "Mensaje insertado correctamente.\n"
     ]
    }
   ],
   "source": [
    "# Definir el mensaje que se enviará\n",
    "mensaje_template = '''Buenos días, Sr(a). {nombre_canero} 👋🏼\n",
    "\n",
    "Le saludamos desde el Equipo de Drones del CITTCA para informarle que estamos recibiendo solicitudes para el servicio de pulverización.\n",
    "\n",
    "Si desea reservar, puede responder a este mensaje con un formato como el siguiente:\n",
    "👉 Deseo reservar 70 has para la 2da quincena de junio.\n",
    "\n",
    "Esto nos permitirá incluirlo en la programación y darle prioridad en las fechas solicitadas.\n",
    "\n",
    "Agradecemos mucho su confianza y quedamos atentos a su confirmación.\n",
    "¡Saludos cordiales! 🌱✈️'''\n",
    "\n",
    "# Recorrer cada fila del DataFrame y llamar a la función\n",
    "for index, row in df.iterrows():\n",
    "    cod_canero = row['cod_ca']\n",
    "    nombre_canero = row['ca']\n",
    "    numero_cel = row['cell']\n",
    "    \n",
    "    # Formatear el mensaje con el nombre del cañero\n",
    "    mensaje = mensaje_template.format(nombre_canero=nombre_canero)\n",
    "    \n",
    "    # Llamar a la función para insertar el mensaje (usando parámetros nombrados)\n",
    "    insertar_mensaje_whatsapp(\n",
    "        cod_canero=cod_canero,\n",
    "        nombre_canero=nombre_canero,\n",
    "        numero_cel=numero_cel,\n",
    "        mensaje=mensaje,\n",
    "        enviado=False,\n",
    "        fecha_enviado=None\n",
    "    )"
   ]
  }
 ],
 "metadata": {
  "kernelspec": {
   "display_name": "Python 3 (ipykernel)",
   "language": "python",
   "name": "python3"
  },
  "language_info": {
   "codemirror_mode": {
    "name": "ipython",
    "version": 3
   },
   "file_extension": ".py",
   "mimetype": "text/x-python",
   "name": "python",
   "nbconvert_exporter": "python",
   "pygments_lexer": "ipython3",
   "version": "3.10.13"
  }
 },
 "nbformat": 4,
 "nbformat_minor": 5
}
