{
 "cells": [
  {
   "cell_type": "code",
   "execution_count": null,
   "id": "cce112f9-8bb6-42a9-8391-4cdd5df7c8aa",
   "metadata": {},
   "outputs": [],
   "source": [
    "import requests\n",
    "import time\n",
    "import datetime\n",
    "from datetime import datetime, timedelta\n",
    "import pandas as pd"
   ]
  },
  {
   "cell_type": "code",
   "execution_count": null,
   "id": "b449c6a8-3989-4b6f-a93d-df922cafda17",
   "metadata": {},
   "outputs": [],
   "source": []
  },
  {
   "cell_type": "code",
   "execution_count": null,
   "id": "22587c0a-09c6-4798-be44-180ff3cd5fbb",
   "metadata": {},
   "outputs": [],
   "source": [
    "giovanni_galarza = '59177671963'\n",
    "harold_pincker = '59170249286'"
   ]
  },
  {
   "cell_type": "code",
   "execution_count": 1,
   "id": "196e432f-bdb3-40b8-8beb-1e61d10a8254",
   "metadata": {},
   "outputs": [],
   "source": [
    "def sendMessage(para, mensaje):\n",
    "    url = 'http://localhost:3001/lead'\n",
    "    \n",
    "    data = {\n",
    "        \"message\": mensaje,\n",
    "        \"phone\": para\n",
    "    }\n",
    "    headers = {\n",
    "        'Content-Type':'application/json'\n",
    "    }\n",
    "    print(data)\n",
    "    response = requests.post(url, json=data, headers=headers)\n",
    "    return response"
   ]
  },
  {
   "cell_type": "code",
   "execution_count": null,
   "id": "242efe5f-c8c9-4103-8880-66aa2db7c20e",
   "metadata": {},
   "outputs": [],
   "source": []
  },
  {
   "cell_type": "code",
   "execution_count": null,
   "id": "c1ef60e0-990e-47e4-840e-91e2e16ae3b6",
   "metadata": {},
   "outputs": [],
   "source": [
    "path_tta"
   ]
  },
  {
   "cell_type": "code",
   "execution_count": null,
   "id": "1881893b-3bcd-4207-a32c-b5cf1355155d",
   "metadata": {},
   "outputs": [],
   "source": []
  },
  {
   "cell_type": "code",
   "execution_count": null,
   "id": "1c7fc2cd-799f-4739-a387-9de17f8aa1e5",
   "metadata": {},
   "outputs": [],
   "source": []
  }
 ],
 "metadata": {
  "kernelspec": {
   "display_name": "Python 3 (ipykernel)",
   "language": "python",
   "name": "python3"
  },
  "language_info": {
   "codemirror_mode": {
    "name": "ipython",
    "version": 3
   },
   "file_extension": ".py",
   "mimetype": "text/x-python",
   "name": "python",
   "nbconvert_exporter": "python",
   "pygments_lexer": "ipython3",
   "version": "3.10.13"
  }
 },
 "nbformat": 4,
 "nbformat_minor": 5
}
