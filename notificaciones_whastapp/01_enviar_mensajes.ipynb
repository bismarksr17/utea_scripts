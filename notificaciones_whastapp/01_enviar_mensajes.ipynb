{
 "cells": [
  {
   "cell_type": "code",
   "execution_count": 1,
   "id": "f9d9712e-445d-4b15-b896-9b14f0de0ec7",
   "metadata": {},
   "outputs": [],
   "source": [
    "import sqlite3\n",
    "import time\n",
    "from datetime import datetime\n",
    "import requests"
   ]
  },
  {
   "cell_type": "code",
   "execution_count": 2,
   "id": "def597c4-1075-4e3f-a93b-dd2735a0dd3c",
   "metadata": {},
   "outputs": [],
   "source": [
    "def sendMessage(para, mensaje):\n",
    "    \"\"\"\n",
    "    Envía un mensaje a través de la API de UTEA-CHAT con manejo de errores.\n",
    "    \n",
    "    - `para`: Número de teléfono (sin el código de país).\n",
    "    - `mensaje`: Contenido del mensaje a enviar.\n",
    "    \"\"\"\n",
    "    \n",
    "    url = \"http://localhost:8080/message/sendText/Jose-Dron\"\n",
    "    payload = {\n",
    "        \"number\": '591' + para,  # Agrega el código de país (Bolivia: 591)\n",
    "        \"text\": mensaje,\n",
    "    }\n",
    "    headers = {\n",
    "        \"apikey\": \"FCAC2E8AA2D8-4BC1-8A5F-34271779A659\",\n",
    "        \"Content-Type\": \"application/json\"\n",
    "    }\n",
    "\n",
    "    try:\n",
    "        response = requests.request(\"POST\", url, json=payload, headers=headers, timeout=10)\n",
    "\n",
    "        # Verifica si la respuesta fue exitosa (código 200-299)\n",
    "        response.raise_for_status()\n",
    "        print(f\"✅ Mensaje enviado correctamente a {para}: {mensaje}\")\n",
    "        return response.json()  # Retorna la respuesta en formato JSON\n",
    "\n",
    "    except requests.ConnectionError:\n",
    "        print(f\"❌ Error de conexión al intentar enviar mensaje a {para}.\")\n",
    "\n",
    "    except requests.Timeout:\n",
    "        print(f\"⏳ Tiempo de espera agotado al intentar enviar mensaje a {para}.\")\n",
    "\n",
    "    except requests.HTTPError as e:\n",
    "        print(f\"⚠️ Error HTTP {response.status_code} al enviar mensaje a {para}: {response.text}\")\n",
    "\n",
    "    except requests.RequestException as e:\n",
    "        print(f\"❌ Error inesperado al enviar mensaje a {para}: {e}\")\n",
    "\n",
    "    return None  # Retorna None si ocurrió un error\n"
   ]
  },
  {
   "cell_type": "code",
   "execution_count": 3,
   "id": "14c9d6a8-e245-4ebc-8f1c-5618d9deb1a6",
   "metadata": {},
   "outputs": [],
   "source": [
    "def get_mensajes_sin_enviar():\n",
    "    conn = sqlite3.connect('mensajes_whatsapp.db')\n",
    "    cursor = conn.cursor()\n",
    "    cursor.execute('''\n",
    "        SELECT * FROM mensajes_whatsapp WHERE enviado = 0;\n",
    "    ''')\n",
    "    pendientes = cursor.fetchall()\n",
    "    conn.close()\n",
    "    return pendientes"
   ]
  },
  {
   "cell_type": "code",
   "execution_count": 4,
   "id": "b63a697d-9ea3-497e-b09c-d814b8a1ae41",
   "metadata": {},
   "outputs": [],
   "source": [
    "def marcar_como_enviado(mensaje_id):\n",
    "    intentos = 5  # cantidad máxima de intentos si la DB está bloqueada\n",
    "    espera = 10  # segundos de espera entre intentos\n",
    "\n",
    "    for intento in range(intentos):\n",
    "        try:\n",
    "            with sqlite3.connect('mensajes_whatsapp.db', timeout=10) as conn:\n",
    "                cursor = conn.cursor()\n",
    "                fecha_actual = datetime.now().strftime('%Y-%m-%d %H:%M:%S')\n",
    "\n",
    "                cursor.execute('''\n",
    "                    UPDATE mensajes_whatsapp\n",
    "                    SET enviado = 1, fecha_enviado = ?\n",
    "                    WHERE id = ?\n",
    "                ''', (fecha_actual, mensaje_id))\n",
    "                conn.commit()\n",
    "\n",
    "                print(f\"✅ Mensaje con ID {mensaje_id} marcado como enviado.\")\n",
    "                break  # Sale del loop si se actualiza correctamente\n",
    "\n",
    "        except sqlite3.OperationalError as e:\n",
    "            print(f\"⚠️ Intento {intento+1}/{intentos} - ID: {mensaje_id} - Base bloqueada: {e}\")\n",
    "            if intento < intentos - 1:  # Si no es el último intento, espera y reintenta\n",
    "                time.sleep(espera)\n",
    "            else:\n",
    "                print(f\"❌ Error: No se pudo actualizar después de {intentos} intentos. ID: {mensaje_id}\")\n",
    "    return None"
   ]
  },
  {
   "cell_type": "code",
   "execution_count": 5,
   "id": "c1ffc524-ded7-46a4-bf59-54a3fc569250",
   "metadata": {},
   "outputs": [],
   "source": [
    "def enviar_mensajes():\n",
    "    mjs_pendientes = get_mensajes_sin_enviar()\n",
    "    if len(mjs_pendientes) == 0:\n",
    "        print(f\"No existen mensajes nuevos para enviar...!!\")\n",
    "    for i in mjs_pendientes:\n",
    "        idd = i[0]\n",
    "        num = str(i[4])\n",
    "        mjs = i[6]\n",
    "        if (sendMessage(num, mjs)):\n",
    "            marcar_como_enviado(idd)\n",
    "            time.sleep(5)"
   ]
  },
  {
   "cell_type": "code",
   "execution_count": null,
   "id": "fc8b18ff-fc08-45f3-bcd6-5b9d09c9b2cd",
   "metadata": {},
   "outputs": [
    {
     "name": "stdout",
     "output_type": "stream",
     "text": [
      "No existen mensajes nuevos para enviar...!!\n",
      "No existen mensajes nuevos para enviar...!!\n",
      "No existen mensajes nuevos para enviar...!!\n",
      "No existen mensajes nuevos para enviar...!!\n",
      "No existen mensajes nuevos para enviar...!!\n",
      "No existen mensajes nuevos para enviar...!!\n",
      "No existen mensajes nuevos para enviar...!!\n",
      "No existen mensajes nuevos para enviar...!!\n",
      "No existen mensajes nuevos para enviar...!!\n",
      "No existen mensajes nuevos para enviar...!!\n",
      "No existen mensajes nuevos para enviar...!!\n",
      "No existen mensajes nuevos para enviar...!!\n",
      "No existen mensajes nuevos para enviar...!!\n",
      "No existen mensajes nuevos para enviar...!!\n",
      "No existen mensajes nuevos para enviar...!!\n",
      "No existen mensajes nuevos para enviar...!!\n",
      "No existen mensajes nuevos para enviar...!!\n",
      "No existen mensajes nuevos para enviar...!!\n",
      "No existen mensajes nuevos para enviar...!!\n",
      "No existen mensajes nuevos para enviar...!!\n",
      "No existen mensajes nuevos para enviar...!!\n",
      "No existen mensajes nuevos para enviar...!!\n",
      "No existen mensajes nuevos para enviar...!!\n"
     ]
    }
   ],
   "source": [
    "while True:\n",
    "    enviar_mensajes()\n",
    "    time.sleep(300)  # 600 segundos = 10 minutos"
   ]
  },
  {
   "cell_type": "code",
   "execution_count": null,
   "id": "33f008ab-8979-4ab7-bf9c-eb4079926f5c",
   "metadata": {},
   "outputs": [],
   "source": []
  },
  {
   "cell_type": "code",
   "execution_count": null,
   "id": "ea51ba37-901e-4647-b496-2836ad005698",
   "metadata": {},
   "outputs": [],
   "source": []
  },
  {
   "cell_type": "code",
   "execution_count": null,
   "id": "733bf975-441b-4cc3-a029-a728821dbfd4",
   "metadata": {},
   "outputs": [],
   "source": [
    "msj_pendientes = get_mensajes_sin_enviar()\n",
    "msj_pendientes"
   ]
  },
  {
   "cell_type": "code",
   "execution_count": null,
   "id": "91b4b9bf-376a-4438-8503-de634e1c4c9b",
   "metadata": {},
   "outputs": [],
   "source": [
    "msj_pendientes[1]"
   ]
  },
  {
   "cell_type": "code",
   "execution_count": null,
   "id": "aaee9521-f0cf-4567-9b43-f17f320e52cf",
   "metadata": {},
   "outputs": [],
   "source": [
    "msj_pendientes[1][6]"
   ]
  },
  {
   "cell_type": "code",
   "execution_count": null,
   "id": "b41512d1-96a2-4a7d-ba26-90a45a54466d",
   "metadata": {},
   "outputs": [],
   "source": []
  },
  {
   "cell_type": "code",
   "execution_count": null,
   "id": "4af1bcc0-d477-48fe-b016-9e9cbd9fb41d",
   "metadata": {},
   "outputs": [],
   "source": []
  },
  {
   "cell_type": "code",
   "execution_count": null,
   "id": "ade57c47-0d33-423e-a333-497b26d5f521",
   "metadata": {},
   "outputs": [],
   "source": []
  },
  {
   "cell_type": "code",
   "execution_count": null,
   "id": "5e044f54-a85b-44e9-bdfc-bd9b5cc910fc",
   "metadata": {},
   "outputs": [],
   "source": []
  },
  {
   "cell_type": "code",
   "execution_count": null,
   "id": "b24f825c-338e-4f5d-9426-4362c56a86a3",
   "metadata": {},
   "outputs": [],
   "source": []
  },
  {
   "cell_type": "code",
   "execution_count": null,
   "id": "0b8d8e5d-5905-4249-b57e-c81f766f6d2e",
   "metadata": {},
   "outputs": [],
   "source": []
  },
  {
   "cell_type": "code",
   "execution_count": null,
   "id": "2868b8d7-6aa4-4e0c-8bc6-7a4a0e1e2c01",
   "metadata": {},
   "outputs": [],
   "source": []
  },
  {
   "cell_type": "code",
   "execution_count": 1,
   "id": "69cb6e7e-7101-4923-95a8-e6c240d554a4",
   "metadata": {},
   "outputs": [
    {
     "ename": "NameError",
     "evalue": "name 'sqlite3' is not defined",
     "output_type": "error",
     "traceback": [
      "\u001b[1;31m---------------------------------------------------------------------------\u001b[0m",
      "\u001b[1;31mNameError\u001b[0m                                 Traceback (most recent call last)",
      "Cell \u001b[1;32mIn[1], line 1\u001b[0m\n\u001b[1;32m----> 1\u001b[0m conn \u001b[38;5;241m=\u001b[39m \u001b[43msqlite3\u001b[49m\u001b[38;5;241m.\u001b[39mconnect(\u001b[38;5;124m'\u001b[39m\u001b[38;5;124mmensajes_whatsapp.db\u001b[39m\u001b[38;5;124m'\u001b[39m)\n\u001b[0;32m      2\u001b[0m cursor \u001b[38;5;241m=\u001b[39m conn\u001b[38;5;241m.\u001b[39mcursor()\n\u001b[0;32m      3\u001b[0m \u001b[38;5;66;03m# Borrar todos los mensajes de la tabla (pero no elimina la tabla)\u001b[39;00m\n",
      "\u001b[1;31mNameError\u001b[0m: name 'sqlite3' is not defined"
     ]
    }
   ],
   "source": [
    "conn = sqlite3.connect('mensajes_whatsapp.db')\n",
    "cursor = conn.cursor()\n",
    "# Borrar todos los mensajes de la tabla (pero no elimina la tabla)\n",
    "cursor.execute('DELETE FROM mensajes_whatsapp;')\n",
    "# Reiniciar el contador del ID autoincremental (opcional)\n",
    "cursor.execute('DELETE FROM sqlite_sequence WHERE name=\"mensajes_whatsapp\";')\n",
    "conn.commit()\n",
    "conn.close()"
   ]
  },
  {
   "cell_type": "code",
   "execution_count": null,
   "id": "66d9cf27-a0fe-4ead-8070-5365a1e17951",
   "metadata": {},
   "outputs": [],
   "source": [
    "conn = sqlite3.connect('mensajes_whatsapp.db')\n",
    "cursor = conn.cursor()\n",
    "cursor.execute('''\n",
    "SELECT * FROM mensajes_whatsapp WHERE enviado = 0;\n",
    "''')\n",
    "pendientes = cursor.fetchall()\n",
    "for msg in pendientes:\n",
    "    print(msg)\n",
    "conn.close()"
   ]
  },
  {
   "cell_type": "code",
   "execution_count": null,
   "id": "7e0b57c1-5ca4-4b23-a6f6-8180ce2421f8",
   "metadata": {},
   "outputs": [],
   "source": []
  }
 ],
 "metadata": {
  "kernelspec": {
   "display_name": "Python 3 (ipykernel)",
   "language": "python",
   "name": "python3"
  },
  "language_info": {
   "codemirror_mode": {
    "name": "ipython",
    "version": 3
   },
   "file_extension": ".py",
   "mimetype": "text/x-python",
   "name": "python",
   "nbconvert_exporter": "python",
   "pygments_lexer": "ipython3",
   "version": "3.10.13"
  }
 },
 "nbformat": 4,
 "nbformat_minor": 5
}
