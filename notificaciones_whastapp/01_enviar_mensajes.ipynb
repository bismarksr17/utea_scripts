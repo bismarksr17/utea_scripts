{
 "cells": [
  {
   "cell_type": "code",
   "execution_count": 3,
   "id": "f9d9712e-445d-4b15-b896-9b14f0de0ec7",
   "metadata": {},
   "outputs": [],
   "source": [
    "import sqlite3"
   ]
  },
  {
   "cell_type": "code",
   "execution_count": null,
   "id": "102959b3-c5f0-4891-a517-57d50b8d4050",
   "metadata": {},
   "outputs": [],
   "source": []
  },
  {
   "cell_type": "code",
   "execution_count": 4,
   "id": "84028e50-fbdc-42cb-a75f-0a57ff5fbed0",
   "metadata": {},
   "outputs": [],
   "source": [
    "def sendMessage(para, mensaje):\n",
    "    url = \"http://localhost:8080/message/sendText/UITEA-TEST\"\n",
    "    payload = {\n",
    "        \"number\": '591' + para,\n",
    "        \"text\": mensaje,\n",
    "    }\n",
    "    headers = {\n",
    "        \"apikey\": \"8C3FDE18DF54-4C0E-BB3C-082537B13012\",\n",
    "        \"Content-Type\": \"application/json\"\n",
    "    }\n",
    "    response = requests.request(\"POST\", url, json=payload, headers=headers)\n",
    "    print(response.text)"
   ]
  },
  {
   "cell_type": "code",
   "execution_count": 12,
   "id": "14c9d6a8-e245-4ebc-8f1c-5618d9deb1a6",
   "metadata": {},
   "outputs": [],
   "source": [
    "def get_mensajes_sin_enviar():\n",
    "    conn = sqlite3.connect('mensajes_whatsapp.db')\n",
    "    cursor = conn.cursor()\n",
    "    cursor.execute('''\n",
    "        SELECT * FROM mensajes_whatsapp WHERE enviado = 0;\n",
    "    ''')\n",
    "    pendientes = cursor.fetchall()\n",
    "    conn.close()\n",
    "    return pendientes"
   ]
  },
  {
   "cell_type": "code",
   "execution_count": null,
   "id": "c1ffc524-ded7-46a4-bf59-54a3fc569250",
   "metadata": {},
   "outputs": [],
   "source": [
    "def enviar_mensaje(idd, num, msj):\n",
    "    "
   ]
  },
  {
   "cell_type": "code",
   "execution_count": 13,
   "id": "733bf975-441b-4cc3-a029-a728821dbfd4",
   "metadata": {},
   "outputs": [],
   "source": [
    "msj_pendientes = get_mensajes_sin_enviar()"
   ]
  },
  {
   "cell_type": "code",
   "execution_count": 15,
   "id": "fe4964a6-f337-4353-ac09-b44c75c268fc",
   "metadata": {},
   "outputs": [
    {
     "data": {
      "text/plain": [
       "[(1, '2025-05-03', 0, 'BISMARK SOCOMPI', '78194371', 0, 'hOLA0', 0, None),\n",
       " (2, '2025-05-03', 0, 'BISMARK SOCOMPI', '78194371', 0, 'hOLA1', 0, None),\n",
       " (3, '2025-05-03', 0, 'BISMARK SOCOMPI', '78194371', 0, 'hOLA2', 0, None),\n",
       " (4, '2025-05-03', 0, 'BISMARK SOCOMPI', '78194371', 0, 'hOLA3', 0, None),\n",
       " (5, '2025-05-03', 0, 'BISMARK SOCOMPI', '78194371', 0, 'hOLA4', 0, None),\n",
       " (6, '2025-05-03', 0, 'BISMARK SOCOMPI', '78194371', 0, 'hOLA5', 0, None),\n",
       " (7, '2025-05-03', 0, 'BISMARK SOCOMPI', '78194371', 0, 'hOLA6', 0, None)]"
      ]
     },
     "execution_count": 15,
     "metadata": {},
     "output_type": "execute_result"
    }
   ],
   "source": [
    "msj_pendientes"
   ]
  },
  {
   "cell_type": "code",
   "execution_count": null,
   "id": "91b4b9bf-376a-4438-8503-de634e1c4c9b",
   "metadata": {},
   "outputs": [],
   "source": []
  },
  {
   "cell_type": "code",
   "execution_count": null,
   "id": "aaee9521-f0cf-4567-9b43-f17f320e52cf",
   "metadata": {},
   "outputs": [],
   "source": []
  },
  {
   "cell_type": "code",
   "execution_count": null,
   "id": "b41512d1-96a2-4a7d-ba26-90a45a54466d",
   "metadata": {},
   "outputs": [],
   "source": []
  }
 ],
 "metadata": {
  "kernelspec": {
   "display_name": "Python 3 (ipykernel)",
   "language": "python",
   "name": "python3"
  },
  "language_info": {
   "codemirror_mode": {
    "name": "ipython",
    "version": 3
   },
   "file_extension": ".py",
   "mimetype": "text/x-python",
   "name": "python",
   "nbconvert_exporter": "python",
   "pygments_lexer": "ipython3",
   "version": "3.10.13"
  }
 },
 "nbformat": 4,
 "nbformat_minor": 5
}
