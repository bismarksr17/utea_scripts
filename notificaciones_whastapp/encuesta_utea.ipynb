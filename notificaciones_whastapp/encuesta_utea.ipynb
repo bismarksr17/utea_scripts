{
 "cells": [
  {
   "cell_type": "code",
   "execution_count": 9,
   "id": "11ef3ff2-0c08-49d9-a465-7e67331fb239",
   "metadata": {},
   "outputs": [],
   "source": [
    "import pandas as pd\n",
    "import requests\n",
    "import base64"
   ]
  },
  {
   "cell_type": "code",
   "execution_count": 10,
   "id": "e96596f9-eec8-4c7f-be81-c657e14fe6e7",
   "metadata": {},
   "outputs": [],
   "source": [
    "def sendMessage(para, mensaje):\n",
    "    url = \"http://localhost:8080/message/sendText/UTEA-CHAT\"\n",
    "    payload = {\n",
    "        \"number\": '591' + para,\n",
    "        \"text\": mensaje,\n",
    "    }\n",
    "    headers = {\n",
    "        \"apikey\": \"D6CD36F3CE20-4962-A175-8D5583A345D9\",\n",
    "        \"Content-Type\": \"application/json\"\n",
    "    }\n",
    "    response = requests.request(\"POST\", url, json=payload, headers=headers)\n",
    "    print(response.text)"
   ]
  },
  {
   "cell_type": "code",
   "execution_count": 11,
   "id": "3f6dba5b-347f-4437-88a7-dceb55d800d1",
   "metadata": {},
   "outputs": [],
   "source": [
    "with open(r\"C:\\Users\\Usuario\\Downloads\\INVITACION.JPEG\", \"rb\") as file:\n",
    "    encoded_file = base64.b64encode(file.read()).decode(\"utf-8\")"
   ]
  },
  {
   "cell_type": "code",
   "execution_count": 12,
   "id": "ef2fe2a2-c6dd-4eb7-b8d4-40f31384d137",
   "metadata": {},
   "outputs": [],
   "source": [
    "def sendImage(para, mensaje):\n",
    "    # URL con el dominio y la instancia correctos\n",
    "    url = \"http://localhost:8080/message/sendMedia/UTEA-CHAT\"\n",
    "\n",
    "    # Payload con los datos del archivo y detalles del mensaje\n",
    "    payload = {\n",
    "        \"number\": '591' + para,  # Número de destino en formato internacional\n",
    "        \"mediatype\": \"image\",  # Tipo del archivo\n",
    "        \"mimetype\": \"image/JPEG\",  # MIME del archivo\n",
    "        \"caption\": mensaje,\n",
    "        \"media\": encoded_file,  # Archivo codificado en base64\n",
    "        \"fileName\": \"INVITACION.JPEG\"  # Nombre del archivo\n",
    "    }\n",
    "\n",
    "    # Encabezados con la clave de API\n",
    "    headers = {\n",
    "        \"apikey\": \"D6CD36F3CE20-4962-A175-8D5583A345D9\",\n",
    "        \"Content-Type\": \"application/json\"\n",
    "    }\n",
    "\n",
    "    # Realiza la solicitud POST\n",
    "    response = requests.post(url, json=payload, headers=headers)\n",
    "    print(response.status_code, response.text)"
   ]
  },
  {
   "cell_type": "code",
   "execution_count": null,
   "id": "8d4bc130-854f-49e6-8702-8a773ea32b87",
   "metadata": {},
   "outputs": [],
   "source": []
  },
  {
   "cell_type": "code",
   "execution_count": 17,
   "id": "01786962-5823-44ea-97a9-07e211b414d2",
   "metadata": {},
   "outputs": [],
   "source": [
    "def procesar():\n",
    "    archivo_excel = r'G:\\OneDrive - Ingenio Azucarero Guabira S.A\\UTEA_2024\\TRABAJOS\\28-11-2024_INVITACION PARA AGROCITTCA - FINANCIERO - Copy.xlsx'\n",
    "    # Carga el archivo Excel\n",
    "    df = pd.read_excel(archivo_excel)\n",
    "    # Recorre cada fila y muestra los datos en pantalla\n",
    "    for index, row in df.iterrows():\n",
    "        nombre = row['NOM_CA']\n",
    "        cel = str(row['CEL'])\n",
    "        user = row['USUARIO']\n",
    "        passw = row['PASS']\n",
    "        \n",
    "        msj1 = f'''¡Hola {nombre}!\n",
    "\n",
    "En la *Unidad Técnica Agrícola* estamos comprometidos con ofrecer servicios de calidad y adaptados a las necesidades de nuestros productores. \n",
    "Por tal motivo, hemos preparado un breve *Cuestionario de mejora continua* para conocer tu opinión sobre nuestros servicios.\n",
    "Tu participación es muy importante para ayudarnos a identificar nuestras fortalezas y mejorar aún más.\n",
    "\n",
    "👉 Link al cuestionario: https://forms.gle/RKciDX9JvCXVH3jt6\n",
    "\n",
    "Te tomará solo unos minutos responderlo.\n",
    "¡Gracias por tu tiempo y por ayudarnos a crecer juntos! 🙌\n",
    "\n",
    "*¡Contamos contigo!*'''\n",
    "        \n",
    "        sendMessage(cel, msj1)"
   ]
  },
  {
   "cell_type": "code",
   "execution_count": 18,
   "id": "8b035c01-e3c7-4ccb-a55a-380b5093a360",
   "metadata": {},
   "outputs": [
    {
     "name": "stdout",
     "output_type": "stream",
     "text": [
      "{\"key\":{\"remoteJid\":\"59178194371@s.whatsapp.net\",\"fromMe\":true,\"id\":\"3EB0B7C8E4C832B54AED50D77B37E0FCEDE73C88\"},\"pushName\":\"\",\"status\":\"PENDING\",\"message\":{\"conversation\":\"¡Hola BISMARK!\\n\\nEn la *Unidad Técnica Agrícola* estamos comprometidos con ofrecer servicios de calidad y adaptados a las necesidades de nuestros productores. \\nPor tal motivo, hemos preparado un breve *Cuestionario de mejora continua* para conocer tu opinión sobre nuestros servicios.\\nTu participación es muy importante para ayudarnos a identificar nuestras fortalezas y mejorar aún más.\\n\\n👉 Link al cuestionario: https://forms.gle/RKciDX9JvCXVH3jt6\\n\\nTe tomará solo unos minutos responderlo.\\n¡Gracias por tu tiempo y por ayudarnos a crecer juntos! 🙌\\n\\n*¡Contamos contigo!*\"},\"contextInfo\":null,\"messageType\":\"conversation\",\"messageTimestamp\":1733582843,\"instanceId\":\"7949d216-3181-46f2-aeed-3ab30363e0ff\",\"source\":\"unknown\"}\n",
      "{\"key\":{\"remoteJid\":\"59178194371@s.whatsapp.net\",\"fromMe\":true,\"id\":\"3EB0C2F092B18C9D74E1E344F75479752D04A164\"},\"pushName\":\"\",\"status\":\"PENDING\",\"message\":{\"conversation\":\"¡Hola SOCOMPI!\\n\\nEn la *Unidad Técnica Agrícola* estamos comprometidos con ofrecer servicios de calidad y adaptados a las necesidades de nuestros productores. \\nPor tal motivo, hemos preparado un breve *Cuestionario de mejora continua* para conocer tu opinión sobre nuestros servicios.\\nTu participación es muy importante para ayudarnos a identificar nuestras fortalezas y mejorar aún más.\\n\\n👉 Link al cuestionario: https://forms.gle/RKciDX9JvCXVH3jt6\\n\\nTe tomará solo unos minutos responderlo.\\n¡Gracias por tu tiempo y por ayudarnos a crecer juntos! 🙌\\n\\n*¡Contamos contigo!*\"},\"contextInfo\":null,\"messageType\":\"conversation\",\"messageTimestamp\":1733582846,\"instanceId\":\"7949d216-3181-46f2-aeed-3ab30363e0ff\",\"source\":\"unknown\"}\n"
     ]
    }
   ],
   "source": [
    "procesar()"
   ]
  },
  {
   "cell_type": "code",
   "execution_count": null,
   "id": "f55b52f5-8d3a-466c-b866-8c4277e4753b",
   "metadata": {},
   "outputs": [],
   "source": []
  },
  {
   "cell_type": "code",
   "execution_count": null,
   "id": "7a4066bb-9e71-475c-b4fc-40a8cb51db3c",
   "metadata": {},
   "outputs": [],
   "source": []
  },
  {
   "cell_type": "code",
   "execution_count": null,
   "id": "33fd439c-badd-4707-af03-b248c590bb86",
   "metadata": {},
   "outputs": [],
   "source": []
  },
  {
   "cell_type": "code",
   "execution_count": 1,
   "id": "ad5ffb6f-58ef-459d-9e95-d6c76869fc1b",
   "metadata": {},
   "outputs": [],
   "source": [
    "nom = 'Bismark'"
   ]
  },
  {
   "cell_type": "code",
   "execution_count": 4,
   "id": "632239af-142a-494e-962a-01a118443877",
   "metadata": {},
   "outputs": [],
   "source": [
    "msj1 = f'''¡Hola {nom}! 👋🏼\n",
    "\n",
    "Te invitamos personalmente a participar en la presentación del nuevo Portal Financiero AgroCITTCA. 🌱💻\n",
    "Con este portal podrás:\n",
    "✅ Consultar tu estado de cuenta ante IAG y UCG.\n",
    "✅ Realizar solicitudes de crédito cañero.\n",
    "✅ Revisar tus ingresos económicos.\n",
    "✅ Acceder a tus boletas de zafra.\n",
    "\n",
    "🗓 Cuándo: Jueves 28 de noviembre de 2024\n",
    "⏰ Hora: 9:30 am\n",
    "📍 Dónde: Salón Auditorio Unión de Cañeros Guabirá\n",
    "\n",
    "Confirma tu asistencia escaneando el código QR en la invitación. 📲 ¡Será un gusto contar contigo!\n",
    "Cualquier duda, estoy a su disposición.'''"
   ]
  },
  {
   "cell_type": "code",
   "execution_count": 5,
   "id": "613ab6db-7373-4ced-a5f2-9c9353025ac3",
   "metadata": {},
   "outputs": [],
   "source": [
    "msj2 = f'''📲 Descarga la app desde los siguientes enlaces:\n",
    "\n",
    "🔗 Androind: https://play.google.com/store/apps/details?id=com.dima.guabira\n",
    "🔗 IOs: https://apps.apple.com/us/app/agro-cittca-guabir%C3%A1/id1669149924\n",
    "🌐 Sitio Web: https://agro.cittca.com.bo/\n",
    "\n",
    "Acceda con su usuario y contraseña:\n",
    "\n",
    "Usuario: {515}\n",
    "Contraseña: {123*515}\n",
    "'''"
   ]
  },
  {
   "cell_type": "code",
   "execution_count": 6,
   "id": "740bc813-d2b2-432b-9540-1078f46ba631",
   "metadata": {},
   "outputs": [
    {
     "data": {
      "text/plain": [
       "'📲 Descarga la app desde los siguientes enlaces:\\n\\n🔗 Androind: https://play.google.com/store/apps/details?id=com.dima.guabira\\n🔗 IOs: https://apps.apple.com/us/app/agro-cittca-guabir%C3%A1/id1669149924\\n🌐 Sitio Web: https://agro.cittca.com.bo/\\n\\nAcceda con su usuario y contraseña:\\n\\nUsuario: 515\\nContraseña: 63345\\n'"
      ]
     },
     "execution_count": 6,
     "metadata": {},
     "output_type": "execute_result"
    }
   ],
   "source": [
    "m"
   ]
  },
  {
   "cell_type": "code",
   "execution_count": null,
   "id": "9670ec04-37bc-407c-ae07-2330b61f0a75",
   "metadata": {},
   "outputs": [],
   "source": []
  },
  {
   "cell_type": "code",
   "execution_count": null,
   "id": "259fb91e-4a03-40ab-ab38-897ed32ee0a2",
   "metadata": {},
   "outputs": [],
   "source": []
  },
  {
   "cell_type": "code",
   "execution_count": null,
   "id": "e37f6fcc-bcf2-4dd4-92eb-0dc79f51fb53",
   "metadata": {},
   "outputs": [],
   "source": []
  }
 ],
 "metadata": {
  "kernelspec": {
   "display_name": "Python 3 (ipykernel)",
   "language": "python",
   "name": "python3"
  },
  "language_info": {
   "codemirror_mode": {
    "name": "ipython",
    "version": 3
   },
   "file_extension": ".py",
   "mimetype": "text/x-python",
   "name": "python",
   "nbconvert_exporter": "python",
   "pygments_lexer": "ipython3",
   "version": "3.10.13"
  }
 },
 "nbformat": 4,
 "nbformat_minor": 5
}
