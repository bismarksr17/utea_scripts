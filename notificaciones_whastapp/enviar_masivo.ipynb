{
 "cells": [
  {
   "cell_type": "code",
   "execution_count": 1,
   "id": "a6ff882e-f4f0-49cc-b5c8-39ae10d91091",
   "metadata": {},
   "outputs": [],
   "source": [
    "import pandas as pd"
   ]
  },
  {
   "cell_type": "code",
   "execution_count": 2,
   "id": "9c4d6b9b-293b-4ab5-9f38-864675634dd4",
   "metadata": {},
   "outputs": [],
   "source": [
    "import requests\n",
    "import time "
   ]
  },
  {
   "cell_type": "code",
   "execution_count": 3,
   "id": "246edd05-4c55-4e1b-9fcb-664047dddb22",
   "metadata": {},
   "outputs": [],
   "source": [
    "def sendMessage(para, mensaje):\n",
    "    url = 'http://localhost:3001/lead'\n",
    "    \n",
    "    data = {\n",
    "        \"message\": mensaje,\n",
    "        \"phone\": para\n",
    "    }\n",
    "    headers = {\n",
    "        'Content-Type':'application/json'\n",
    "    }\n",
    "    #print(data)\n",
    "    response = requests.post(url, json=data, headers=headers)\n",
    "    time.sleep(10)\n",
    "    return response"
   ]
  },
  {
   "cell_type": "code",
   "execution_count": 4,
   "id": "644c386a-31e8-4ceb-bc51-5b10c7684870",
   "metadata": {},
   "outputs": [],
   "source": [
    "file_path = r'C:\\Documents\\OneDrive - Ingenio Azucarero Guabira S.A\\UTEA_2024\\MADURACION\\XLSX_MENSAJES.xlsx'  # Reemplaza con la ruta a tu archivo\n",
    "df = pd.read_excel(file_path)"
   ]
  },
  {
   "cell_type": "code",
   "execution_count": null,
   "id": "90337f59-1051-479e-811a-8d74181be3e0",
   "metadata": {},
   "outputs": [
    {
     "name": "stdout",
     "output_type": "stream",
     "text": [
      "Mensaje enviado a: RIOS FERNANDEZ JUAN CARLOS\n",
      "Mensaje enviado a: RIOS FERNANDEZ JUAN CARLOS\n",
      "Mensaje enviado a: RIOS FERNANDEZ JUAN CARLOS\n",
      "Mensaje enviado a: RIOS FERNANDEZ JUAN CARLOS\n",
      "Mensaje enviado a: RIOS FERNANDEZ JUAN CARLOS\n",
      "Mensaje enviado a: RIOS FERNANDEZ JUAN CARLOS\n",
      "Mensaje enviado a: BOHORQUEZ FERNANDEZ NICANOR\n",
      "Mensaje enviado a: BOHORQUEZ FERNANDEZ NICANOR\n",
      "Mensaje enviado a: BOHORQUEZ FERNANDEZ NICANOR\n"
     ]
    }
   ],
   "source": [
    "# Enviar los mensajes\n",
    "for index, row in df.iterrows():\n",
    "    numero = row['numero']\n",
    "    mensaje = row['mensaje']\n",
    "    sendMessage(numero, mensaje)\n",
    "    print('Mensaje enviado a:', row['unidad_04'])"
   ]
  },
  {
   "cell_type": "code",
   "execution_count": null,
   "id": "5bbd83e5-c85f-416d-9164-63890046484d",
   "metadata": {},
   "outputs": [],
   "source": []
  },
  {
   "cell_type": "code",
   "execution_count": null,
   "id": "174823da-7701-4191-8de2-3d8293ecdecb",
   "metadata": {},
   "outputs": [],
   "source": []
  },
  {
   "cell_type": "code",
   "execution_count": 9,
   "id": "7b12dfde-a7e2-49bd-8500-b5fbb4bec69c",
   "metadata": {},
   "outputs": [
    {
     "name": "stdout",
     "output_type": "stream",
     "text": [
      "{'message': 'UTEA: Buenos dias, le hago llegar planos de maduracion de las respectivas propiedades de su grupo. Cualquier consulta escribir al numero: 78194371', 'phone': '78194371'}\n"
     ]
    },
    {
     "data": {
      "text/plain": [
       "<Response [200]>"
      ]
     },
     "execution_count": 9,
     "metadata": {},
     "output_type": "execute_result"
    }
   ],
   "source": [
    "sendMessage('78194371', 'UTEA: Buenos dias, le hago llegar planos de maduracion de las respectivas propiedades de su grupo. Cualquier consulta escribir al numero: 78194371')"
   ]
  },
  {
   "cell_type": "code",
   "execution_count": null,
   "id": "056ea816-b030-48e7-9db7-7b319db5aae0",
   "metadata": {},
   "outputs": [],
   "source": []
  },
  {
   "cell_type": "code",
   "execution_count": null,
   "id": "37819c0f-10f3-4759-ac82-1d3a77eabc98",
   "metadata": {},
   "outputs": [],
   "source": []
  },
  {
   "cell_type": "code",
   "execution_count": null,
   "id": "2c7a56a8-46bc-419e-8eba-c8808b46415d",
   "metadata": {},
   "outputs": [],
   "source": []
  },
  {
   "cell_type": "code",
   "execution_count": null,
   "id": "1cf6ae8a-0d95-443d-86c7-0bc424aa711e",
   "metadata": {},
   "outputs": [],
   "source": []
  },
  {
   "cell_type": "code",
   "execution_count": null,
   "id": "6a65b88c-5e1f-45d9-9922-1961a4d80c8e",
   "metadata": {},
   "outputs": [],
   "source": []
  },
  {
   "cell_type": "code",
   "execution_count": null,
   "id": "b1351a45-c31c-42ba-aef5-750b106c7f35",
   "metadata": {},
   "outputs": [],
   "source": []
  }
 ],
 "metadata": {
  "kernelspec": {
   "display_name": "Python 3 (ipykernel)",
   "language": "python",
   "name": "python3"
  },
  "language_info": {
   "codemirror_mode": {
    "name": "ipython",
    "version": 3
   },
   "file_extension": ".py",
   "mimetype": "text/x-python",
   "name": "python",
   "nbconvert_exporter": "python",
   "pygments_lexer": "ipython3",
   "version": "3.10.13"
  }
 },
 "nbformat": 4,
 "nbformat_minor": 5
}
