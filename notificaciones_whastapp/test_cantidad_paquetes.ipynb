{
 "cells": [
  {
   "cell_type": "code",
   "execution_count": 8,
   "id": "9a2b0841-1cbe-4c1d-bb3f-8d6ba245f6a1",
   "metadata": {},
   "outputs": [],
   "source": [
    "import requests\n",
    "import time\n",
    "import datetime"
   ]
  },
  {
   "cell_type": "code",
   "execution_count": 9,
   "id": "ccd7ac10-ff67-4e22-87f1-4b43f3e928ad",
   "metadata": {},
   "outputs": [],
   "source": [
    "import pandas as pd\n"
   ]
  },
  {
   "cell_type": "code",
   "execution_count": 10,
   "id": "88d18b94-b2a5-438b-becd-753ff9bc5cf1",
   "metadata": {},
   "outputs": [],
   "source": [
    "def sendMessage(para, mensaje):\n",
    "    url = 'http://localhost:3001/lead'\n",
    "    \n",
    "    data = {\n",
    "        \"message\": mensaje,\n",
    "        \"phone\": para\n",
    "    }\n",
    "    headers = {\n",
    "        'Content-Type':'application/json'\n",
    "    }\n",
    "    print(data)\n",
    "    response = requests.post(url, json=data, headers=headers)\n",
    "    time.sleep(60)\n",
    "    return response"
   ]
  },
  {
   "cell_type": "code",
   "execution_count": 11,
   "id": "1279e216-778a-429b-a704-bd3bfc1713df",
   "metadata": {},
   "outputs": [],
   "source": [
    "now = datetime.datetime.now()"
   ]
  },
  {
   "cell_type": "code",
   "execution_count": 12,
   "id": "8f6568c5-d099-47e9-ac6e-aeaf6e5757da",
   "metadata": {},
   "outputs": [],
   "source": [
    "mario = '59175380725'\n",
    "me = '59178194371'"
   ]
  },
  {
   "cell_type": "code",
   "execution_count": 13,
   "id": "17c861b1-c4e9-405e-a2ce-958512b74867",
   "metadata": {},
   "outputs": [],
   "source": [
    "def calcular_datos():\n",
    "    df = pd.read_excel(r'C:/Documents/Ingenio Azucarero Guabira S.A/COOR_GERENCIA_CANA - Parte_Horarios/ReportePlaya.xlsx')\n",
    "    filtro = df[(df['status'] == 'PL') | (df['status'] == 'IN')]\n",
    "    cantidad_paquetes = filtro['cantPqt'].sum()\n",
    "    cana_disponible = cantidad_paquetes * 14\n",
    "    return (cantidad_paquetes, cana_disponible)"
   ]
  },
  {
   "cell_type": "code",
   "execution_count": 2,
   "id": "dbc509b4-caa7-4bee-99da-412a3976b771",
   "metadata": {},
   "outputs": [],
   "source": []
  },
  {
   "cell_type": "code",
   "execution_count": 26,
   "id": "d94c087e-15ec-4b4d-8554-5628e5e65a36",
   "metadata": {},
   "outputs": [],
   "source": []
  },
  {
   "cell_type": "code",
   "execution_count": null,
   "id": "99609f24-99c5-4559-b02d-9aeb8c7957ee",
   "metadata": {},
   "outputs": [
    {
     "name": "stdout",
     "output_type": "stream",
     "text": [
      "{'message': '\\n*Cantidad de paquetes en playa:* 102 paquetes.\\n*Cantidad de caña disponible:* 1428 toneladas.\\n', 'phone': '59178194371'}\n",
      "{'message': '\\n*Cantidad de paquetes en playa:* 102 paquetes.\\n*Cantidad de caña disponible:* 1428 toneladas.\\n', 'phone': '59178194371'}\n",
      "{'message': '\\n*Cantidad de paquetes en playa:* 102 paquetes.\\n*Cantidad de caña disponible:* 1428 toneladas.\\n', 'phone': '59178194371'}\n"
     ]
    }
   ],
   "source": [
    "while True:\n",
    "    #now = datetime.datetime.now()\n",
    "    cantidad_paquetes, cana_disponible = calcular_datos()\n",
    "    mensaje = f'''\n",
    "*Cantidad de paquetes en playa:* {cantidad_paquetes} paquetes.\n",
    "*Cantidad de caña disponible:* {cana_disponible} toneladas.\n",
    "'''\n",
    "    sendMessage(me, mensaje)"
   ]
  },
  {
   "cell_type": "code",
   "execution_count": null,
   "id": "d03be002-faf8-4a57-9536-a0062d4eec47",
   "metadata": {},
   "outputs": [],
   "source": []
  },
  {
   "cell_type": "code",
   "execution_count": null,
   "id": "cf241607-e6c9-4639-a8a3-64869712d016",
   "metadata": {},
   "outputs": [],
   "source": []
  },
  {
   "cell_type": "code",
   "execution_count": null,
   "id": "b9f73448-9911-4b68-b520-f1c0c3b8467f",
   "metadata": {},
   "outputs": [],
   "source": []
  },
  {
   "cell_type": "code",
   "execution_count": null,
   "id": "b449c6a8-3989-4b6f-a93d-df922cafda17",
   "metadata": {},
   "outputs": [],
   "source": []
  },
  {
   "cell_type": "code",
   "execution_count": null,
   "id": "22587c0a-09c6-4798-be44-180ff3cd5fbb",
   "metadata": {},
   "outputs": [],
   "source": []
  },
  {
   "cell_type": "code",
   "execution_count": null,
   "id": "196e432f-bdb3-40b8-8beb-1e61d10a8254",
   "metadata": {},
   "outputs": [],
   "source": []
  },
  {
   "cell_type": "code",
   "execution_count": null,
   "id": "80f70610-a9ed-40bb-931f-bd922437cc15",
   "metadata": {},
   "outputs": [],
   "source": []
  },
  {
   "cell_type": "code",
   "execution_count": null,
   "id": "242efe5f-c8c9-4103-8880-66aa2db7c20e",
   "metadata": {},
   "outputs": [],
   "source": []
  },
  {
   "cell_type": "code",
   "execution_count": null,
   "id": "c1ef60e0-990e-47e4-840e-91e2e16ae3b6",
   "metadata": {},
   "outputs": [],
   "source": []
  },
  {
   "cell_type": "code",
   "execution_count": null,
   "id": "1881893b-3bcd-4207-a32c-b5cf1355155d",
   "metadata": {},
   "outputs": [],
   "source": []
  },
  {
   "cell_type": "code",
   "execution_count": null,
   "id": "1c7fc2cd-799f-4739-a387-9de17f8aa1e5",
   "metadata": {},
   "outputs": [],
   "source": []
  }
 ],
 "metadata": {
  "kernelspec": {
   "display_name": "Python 3 (ipykernel)",
   "language": "python",
   "name": "python3"
  },
  "language_info": {
   "codemirror_mode": {
    "name": "ipython",
    "version": 3
   },
   "file_extension": ".py",
   "mimetype": "text/x-python",
   "name": "python",
   "nbconvert_exporter": "python",
   "pygments_lexer": "ipython3",
   "version": "3.10.13"
  }
 },
 "nbformat": 4,
 "nbformat_minor": 5
}
