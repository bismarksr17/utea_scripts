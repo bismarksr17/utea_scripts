{
 "cells": [
  {
   "cell_type": "code",
   "execution_count": 1,
   "id": "9a2b0841-1cbe-4c1d-bb3f-8d6ba245f6a1",
   "metadata": {},
   "outputs": [
    {
     "name": "stderr",
     "output_type": "stream",
     "text": [
      "C:\\Users\\Usuario\\AppData\\Local\\Temp\\ipykernel_24124\\1967123873.py:5: DeprecationWarning: \n",
      "Pyarrow will become a required dependency of pandas in the next major release of pandas (pandas 3.0),\n",
      "(to allow more performant data types, such as the Arrow string type, and better interoperability with other libraries)\n",
      "but was not found to be installed on your system.\n",
      "If this would cause problems for you,\n",
      "please provide us feedback at https://github.com/pandas-dev/pandas/issues/54466\n",
      "        \n",
      "  import pandas as pd\n"
     ]
    }
   ],
   "source": [
    "import requests\n",
    "import time\n",
    "import datetime\n",
    "from datetime import datetime, timedelta\n",
    "import pandas as pd"
   ]
  },
  {
   "cell_type": "code",
   "execution_count": 2,
   "id": "ccd7ac10-ff67-4e22-87f1-4b43f3e928ad",
   "metadata": {},
   "outputs": [],
   "source": [
    "mario_sanchez = '59175380725'\n",
    "giovanni_galarza = '59177671963'\n",
    "harold_pincker = '59170249286'"
   ]
  },
  {
   "cell_type": "code",
   "execution_count": 3,
   "id": "88d18b94-b2a5-438b-becd-753ff9bc5cf1",
   "metadata": {},
   "outputs": [],
   "source": [
    "def sendMessage(para, mensaje):\n",
    "    url = 'http://localhost:3001/lead'\n",
    "    \n",
    "    data = {\n",
    "        \"message\": mensaje,\n",
    "        \"phone\": para\n",
    "    }\n",
    "    headers = {\n",
    "        'Content-Type':'application/json'\n",
    "    }\n",
    "    print(data)\n",
    "    response = requests.post(url, json=data, headers=headers)\n",
    "    return response"
   ]
  },
  {
   "cell_type": "code",
   "execution_count": 4,
   "id": "dd1b5eb8-0bb0-4cf5-81cd-a2e3154e6d0d",
   "metadata": {},
   "outputs": [],
   "source": [
    "def definir_trapiche(df):\n",
    "    # extrae la hora\n",
    "    df['solo_hora'] = df['hora'].str.split('T').str[1]\n",
    "    # concatena fecha y hora\n",
    "    df['fecha_hora'] = df['fecha'] + ' ' + df['solo_hora']\n",
    "    # convierte la columna a tipo datetime\n",
    "    df['fecha_hora'] = pd.to_datetime(df['fecha_hora'])\n",
    "    # obtiene la fecha y hora actual\n",
    "    hora_actual = datetime.now()\n",
    "    # calcula una hora antes\n",
    "    una_hora_antes = hora_actual - timedelta(hours=1)\n",
    "    # filtra los resgistros de la ultima hora\n",
    "    df_ultima_hora = df[(df['fecha_hora'] >= una_hora_antes) & (df['fecha_hora'] <= hora_actual)]\n",
    "    trapiches = list(set(df_ultima_hora['trapiche']))\n",
    "    if len(trapiches) == 0:\n",
    "        return 0\n",
    "    elif 1 in trapiches and 2 in trapiches:\n",
    "        return 3\n",
    "    elif 1 in trapiches:\n",
    "        return 1\n",
    "    elif 2 in trapiches:\n",
    "        return 2\n",
    "    print('=================== ERROR =====================')"
   ]
  },
  {
   "cell_type": "code",
   "execution_count": 5,
   "id": "e0ea5fec-d5db-4043-92ff-9bfa4b4de62c",
   "metadata": {},
   "outputs": [],
   "source": [
    "def calcular_horas_espera(df_tcb):\n",
    "    df = df_tcb.copy()\n",
    "    # elimina todos los registro sin datos de fechaDocum y HoraDocum\n",
    "    #df = df.dropna(subset=['canero'])\n",
    "    df = df[df['dateDocum'] != '0000-00-00']\n",
    "    \n",
    "    #extrae la hora para FECHA DE INICIO\n",
    "    df['horaDocum'] = df['horaDocum'].str.split('T').str[1]\n",
    "    # concatena fecha y hora\n",
    "    df['fecha_inicio'] = df['dateDocum'] + ' ' + df['horaDocum']\n",
    "    # convierte la columna a tipo datetime\n",
    "    df['fecha_inicio'] = pd.to_datetime(df['fecha_inicio'])\n",
    "\n",
    "    #extraer la hora para FECHA DE FIN\n",
    "    df['startTime'] = df['startTime'].str.split('T').str[1]\n",
    "    # concatena fecha y hora\n",
    "    df['fecha_fin'] = df['startDate'] + ' ' + df['startTime']\n",
    "    # convierte la columna a tipo datetime\n",
    "    df['fecha_fin'] = pd.to_datetime(df['fecha_fin'])\n",
    "\n",
    "    #calcula la diferencia\n",
    "    df['espera'] = (df['fecha_fin'] - df['fecha_inicio']).dt.total_seconds() / 3600\n",
    "\n",
    "    #retorn la media\n",
    "    return df['espera'].mean()"
   ]
  },
  {
   "cell_type": "code",
   "execution_count": 6,
   "id": "17c861b1-c4e9-405e-a2ce-958512b74867",
   "metadata": {},
   "outputs": [],
   "source": [
    "def calcular_datos():\n",
    "    df_playa = pd.read_excel(r'G:/Ingenio Azucarero Guabira S.A/COOR_GERENCIA_CANA - Parte_Horarios/ReportePlaya.xlsx')\n",
    "    df_molienda = pd.read_excel(r'G:/Ingenio Azucarero Guabira S.A/COOR_GERENCIA_CANA - Parte_Horarios/Molienda.xlsx')\n",
    "    df_trafCamBalanza = pd.read_excel(r'G:/Ingenio Azucarero Guabira S.A/COOR_GERENCIA_CANA - Parte_Horarios/TrafCamBalanza.xlsx')\n",
    "    \n",
    "    df_horarios = pd.read_excel(r'G:/Ingenio Azucarero Guabira S.A/COOR_GERENCIA_CANA - Parte_Horarios/Horarios.xlsx')\n",
    "    \n",
    "    df_res_molienda = pd.merge(df_molienda, df_horarios[['Hora', 'Orden_Hora']], left_on='hora2', right_on='Hora', how='left')\n",
    "    \n",
    "    #cantidad de paquetes\n",
    "    #cantidad de caña disponible\n",
    "    filtro = df_playa[(df_playa['status'] == 'PL') | (df_playa['status'] == 'IN')]\n",
    "    cantidad_paquetes = filtro['cantPqt'].sum()\n",
    "    cana_disponible = cantidad_paquetes * 14\n",
    "    \n",
    "    #promedio lleganda pq\n",
    "    df_playa['dateCupo'] = pd.to_datetime(df_playa['dateCupo'])\n",
    "    fecha_actual = pd.Timestamp('today').normalize()\n",
    "    df_actual = df_playa[(df_playa['dateCupo'] == fecha_actual) & (df_playa['status'] != 'SL')]\n",
    "    df_actual['Hora_Entera'] = df_actual['horaDocum'].str[11:13].astype(int)\n",
    "    max_hora_ent = df_actual['Hora_Entera'].max() - 3\n",
    "    filtered_df = df_actual[df_actual['Hora_Entera'] >= max_hora_ent]\n",
    "    sum_cant_pqt = filtered_df['cantPqt'].sum()\n",
    "    promedio_llegada_pq = sum_cant_pqt / 3\n",
    "    \n",
    "    #trapiches\n",
    "    # trapiche1    210 tn/ha    15 paquetes\n",
    "    # trapiche2    690 tn/ha    49 paquetes\n",
    "    \n",
    "    #horas molienda\n",
    "    horas_molienda_t1 = cantidad_paquetes / 15\n",
    "    horas_molienda_t2 = cantidad_paquetes / 49\n",
    "    horas_molienda_total = cantidad_paquetes / (15 + 49)\n",
    "    \n",
    "    #total paquetes resto dia\n",
    "    total_paquetes_resto_dia_t1 = promedio_llegada_pq * horas_molienda_t1\n",
    "    total_paquetes_resto_dia_t2 = promedio_llegada_pq * horas_molienda_t2\n",
    "    total_paquetes_resto_dia_total = promedio_llegada_pq * horas_molienda_total\n",
    "    \n",
    "    #toneladas\n",
    "    toneladas = df_molienda['netWeight'].sum() / 1000\n",
    "    \n",
    "    #planificacion actual\n",
    "    planificacion_actual_t1 = df_res_molienda['Orden_Hora'].max() * 210\n",
    "    planificacion_actual_t2 = df_res_molienda['Orden_Hora'].max() * 690\n",
    "    planificacion_actual_total = df_res_molienda['Orden_Hora'].max() * (210 + 690)\n",
    "    \n",
    "    #diferencia actual\n",
    "    diferencia_actual_t1 = toneladas - planificacion_actual_t1\n",
    "    diferencia_actual_t2 = toneladas - planificacion_actual_t2\n",
    "    diferencia_actual_total = toneladas - planificacion_actual_total\n",
    "    \n",
    "    #orden hora\n",
    "    orden_hora = 24 - df_res_molienda['Orden_Hora'].max()\n",
    "    \n",
    "    #toneladas promedio\n",
    "    toneladas_prom = (df_molienda['netWeight'].sum() / 1000) / (24 - orden_hora)\n",
    "\n",
    "    #total horas\n",
    "    total_horas_t1 = total_paquetes_resto_dia_t1 / (15) + horas_molienda_total\n",
    "    total_horas_t2 = total_paquetes_resto_dia_t2 / (49) + horas_molienda_total\n",
    "    total_horas_total = total_paquetes_resto_dia_total / (15 + 49) + horas_molienda_total\n",
    "\n",
    "    #molienda segun promedio\n",
    "    molienda_s_promedio = (toneladas_prom * orden_hora) + toneladas\n",
    "\n",
    "    #molienda segun estimado\n",
    "    molienda_s_estimado_t1 = toneladas + orden_hora * 210\n",
    "    molienda_s_estimado_t2 = toneladas + orden_hora * 690\n",
    "    molienda_s_estimado_total = toneladas + orden_hora * (210 + 690)\n",
    "\n",
    "    #tiempo espera\n",
    "    espera =  calcular_horas_espera(df_trafCamBalanza)\n",
    "    \n",
    "    trapiches = definir_trapiche(df_molienda)\n",
    "    \n",
    "    if trapiches == 0:\n",
    "        mensaje = f'''*REPORTE*\n",
    "*⚙️ Trapiches:* Detenidos\n",
    "*🚛 Paquetes disponibles:* {round(cantidad_paquetes,2)}\n",
    "*🔢 Toneladas aprox.:* {round(cana_disponible,2)}\n",
    "*⏱️ Promedio llegada pq.:* {round(promedio_llegada_pq,2)}\n",
    "*📈 Paquetes estimados:* ---\n",
    "*🕰️Total horas abas.:* ---\n",
    "*⏳Tiempo espera:* {round(espera,2)}\n",
    "*🎋 Molienda actual:* {round(toneladas,2)}\n",
    "*📅 Planificacion actual:* ---\n",
    "*🔻 Diferencia actual:* ---\n",
    "*🕒 Promedio horario:* {round(toneladas_prom,2)}\n",
    "*🏭Molienda segun promedio:* {round(molienda_s_promedio,2)}\n",
    "*📊Molienda segun estimacion:* ---'''\n",
    "    \n",
    "    elif trapiches == 1:\n",
    "        mensaje = f'''*REPORTE*\n",
    "*⚙️ Trapiches:* solo 01\n",
    "*🚛 Paquetes disponibles:* {round(cantidad_paquetes,2)}\n",
    "*🔢 Toneladas aprox.:* {round(cana_disponible,2)}\n",
    "*⏱️ Promedio llegada pq.:* {round(promedio_llegada_pq,2)}\n",
    "*📈 Paquetes estimados:* {round(total_paquetes_resto_dia_t1,2)}\n",
    "*🕰️Total horas abas.:* {round(total_horas_t1,2)}\n",
    "*⏳Tiempo espera:* {round(espera,2)}\n",
    "*🎋 Molienda actual:* {round(toneladas,2)}\n",
    "*📅 Planificacion actual:* {round(planificacion_actual_t1,2)}\n",
    "*🔻 Diferencia actual:* {round(diferencia_actual_t1,2)}\n",
    "*🕒 Promedio horario:* {round(toneladas_prom,2)}\n",
    "*🏭Molienda segun promedio:* {round(molienda_s_promedio,2)}\n",
    "*📊Molienda segun estimacion:* {round(molienda_s_estimado_t1,2)}'''\n",
    "    \n",
    "    elif trapiches == 2:\n",
    "        mensaje = f'''*REPORTE*\n",
    "*⚙️ Trapiches:* solo 02\n",
    "*🚛 Paquetes disponibles:* {round(cantidad_paquetes,2)}\n",
    "*🔢 Toneladas aprox.:* {round(cana_disponible,2)}\n",
    "*⏱️ Promedio llegada pq.:* {round(promedio_llegada_pq,2)}\n",
    "*📈 Paquetes estimados:* {round(total_paquetes_resto_dia_t2,2)}\n",
    "*🕰️Total horas abas.:* {round(total_horas_t2,2)}\n",
    "*⏳Tiempo espera:* {round(espera,2)}\n",
    "*🎋 Molienda actual:* {round(toneladas,2)}\n",
    "*📅 Planificacion actual:* {round(planificacion_actual_t2,2)}\n",
    "*🔻 Diferencia actual:* {round(diferencia_actual_t2,2)}\n",
    "*🕒 Promedio horario:* {round(toneladas_prom,2)}\n",
    "*🏭Molienda segun promedio:* {round(molienda_s_promedio,2)}\n",
    "*📊Molienda segun estimacion:* {round(molienda_s_estimado_t2,2)}'''\n",
    "    \n",
    "    elif trapiches == 3:\n",
    "        mensaje = f'''*REPORTE*\n",
    "*⚙️ Trapiches:* 01 y 02\n",
    "*🚛 Paquetes disponibles:* {round(cantidad_paquetes,2)}\n",
    "*🔢 Toneladas aprox.:* {round(cana_disponible,2)}\n",
    "*⏱️ Promedio llegada pq.:* {round(promedio_llegada_pq,2)}\n",
    "*📈 Paquetes estimados:* {round(total_paquetes_resto_dia_total,2)}\n",
    "*🕰️Total horas abas.:* {round(total_horas_total,2)}\n",
    "*⏳Tiempo espera:* {round(espera,2)}\n",
    "*🎋 Molienda actual:* {round(toneladas,2)}\n",
    "*📅 Planificacion actual:* {round(planificacion_actual_total,2)}\n",
    "*🔻 Diferencia actual:* {round(diferencia_actual_total,2)}\n",
    "*🕒 Promedio horario:* {round(toneladas_prom,2)}\n",
    "*🏭Molienda segun promedio:* {round(molienda_s_promedio,2)}\n",
    "*📊Molienda segun estimacion:* {round(molienda_s_estimado_total,2)}'''\n",
    "    \n",
    "    return mensaje"
   ]
  },
  {
   "cell_type": "code",
   "execution_count": 7,
   "id": "9717e832-124e-4859-974e-b0f76e76b855",
   "metadata": {},
   "outputs": [
    {
     "name": "stderr",
     "output_type": "stream",
     "text": [
      "C:\\Users\\Usuario\\AppData\\Local\\Temp\\ipykernel_24124\\891701084.py:20: SettingWithCopyWarning: \n",
      "A value is trying to be set on a copy of a slice from a DataFrame.\n",
      "Try using .loc[row_indexer,col_indexer] = value instead\n",
      "\n",
      "See the caveats in the documentation: https://pandas.pydata.org/pandas-docs/stable/user_guide/indexing.html#returning-a-view-versus-a-copy\n",
      "  df_actual['Hora_Entera'] = df_actual['horaDocum'].str[11:13].astype(int)\n"
     ]
    }
   ],
   "source": [
    "m = calcular_datos()"
   ]
  },
  {
   "cell_type": "code",
   "execution_count": 8,
   "id": "585065b5-99f9-4086-9396-6ec2001414b4",
   "metadata": {},
   "outputs": [
    {
     "name": "stdout",
     "output_type": "stream",
     "text": [
      "*REPORTE*\n",
      "*⚙️ Trapiches:* 01 y 02\n",
      "*🚛 Paquetes disponibles:* 114\n",
      "*🔢 Toneladas aprox.:* 1596\n",
      "*⏱️ Promedio llegada pq.:* 20.67\n",
      "*📈 Paquetes estimados:* 36.81\n",
      "*🕰️Total horas abas.:* 2.36\n",
      "*⏳Tiempo espera:* 2.13\n",
      "*🎋 Molienda actual:* 1728.84\n",
      "*📅 Planificacion actual:* 1800\n",
      "*🔻 Diferencia actual:* -71.16\n",
      "*🕒 Promedio horario:* 864.42\n",
      "*🏭Molienda segun promedio:* 20746.08\n",
      "*📊Molienda segun estimacion:* 21528.84\n"
     ]
    }
   ],
   "source": [
    "print(m)"
   ]
  },
  {
   "cell_type": "code",
   "execution_count": 9,
   "id": "e4fb6480-73e8-4e2d-9532-27d6ad262846",
   "metadata": {},
   "outputs": [],
   "source": [
    "mario_sanchez = '59175380725'\n",
    "harold_pincker = '59170249286'\n",
    "giovanni_galarza = '59177671963'"
   ]
  },
  {
   "cell_type": "code",
   "execution_count": null,
   "id": "99609f24-99c5-4559-b02d-9aeb8c7957ee",
   "metadata": {},
   "outputs": [
    {
     "name": "stderr",
     "output_type": "stream",
     "text": [
      "C:\\Users\\Usuario\\AppData\\Local\\Temp\\ipykernel_24124\\891701084.py:20: SettingWithCopyWarning: \n",
      "A value is trying to be set on a copy of a slice from a DataFrame.\n",
      "Try using .loc[row_indexer,col_indexer] = value instead\n",
      "\n",
      "See the caveats in the documentation: https://pandas.pydata.org/pandas-docs/stable/user_guide/indexing.html#returning-a-view-versus-a-copy\n",
      "  df_actual['Hora_Entera'] = df_actual['horaDocum'].str[11:13].astype(int)\n"
     ]
    },
    {
     "name": "stdout",
     "output_type": "stream",
     "text": [
      "{'message': '*REPORTE*\\n*⚙️ Trapiches:* 01 y 02\\n*🚛 Paquetes disponibles:* 114\\n*🔢 Toneladas aprox.:* 1596\\n*⏱️ Promedio llegada pq.:* 20.67\\n*📈 Paquetes estimados:* 36.81\\n*🕰️Total horas abas.:* 2.36\\n*⏳Tiempo espera:* 2.13\\n*🎋 Molienda actual:* 1728.84\\n*📅 Planificacion actual:* 1800\\n*🔻 Diferencia actual:* -71.16\\n*🕒 Promedio horario:* 864.42\\n*🏭Molienda segun promedio:* 20746.08\\n*📊Molienda segun estimacion:* 21528.84', 'phone': '59175380725'}\n",
      "Mensaje enviado a mario_sanchez: 2024-05-25 08:32:15.728454\n",
      "{'message': '*REPORTE*\\n*⚙️ Trapiches:* 01 y 02\\n*🚛 Paquetes disponibles:* 114\\n*🔢 Toneladas aprox.:* 1596\\n*⏱️ Promedio llegada pq.:* 20.67\\n*📈 Paquetes estimados:* 36.81\\n*🕰️Total horas abas.:* 2.36\\n*⏳Tiempo espera:* 2.13\\n*🎋 Molienda actual:* 1728.84\\n*📅 Planificacion actual:* 1800\\n*🔻 Diferencia actual:* -71.16\\n*🕒 Promedio horario:* 864.42\\n*🏭Molienda segun promedio:* 20746.08\\n*📊Molienda segun estimacion:* 21528.84', 'phone': '59170249286'}\n",
      "Mensaje enviado a harold_pincker: 2024-05-25 08:32:47.239446\n",
      "{'message': '*REPORTE*\\n*⚙️ Trapiches:* 01 y 02\\n*🚛 Paquetes disponibles:* 114\\n*🔢 Toneladas aprox.:* 1596\\n*⏱️ Promedio llegada pq.:* 20.67\\n*📈 Paquetes estimados:* 36.81\\n*🕰️Total horas abas.:* 2.36\\n*⏳Tiempo espera:* 2.13\\n*🎋 Molienda actual:* 1728.84\\n*📅 Planificacion actual:* 1800\\n*🔻 Diferencia actual:* -71.16\\n*🕒 Promedio horario:* 864.42\\n*🏭Molienda segun promedio:* 20746.08\\n*📊Molienda segun estimacion:* 21528.84', 'phone': '59177671963'}\n",
      "Mensaje enviado a giovanni_galarza: 2024-05-25 08:33:18.863083\n"
     ]
    }
   ],
   "source": [
    "while True:\n",
    "    msj = calcular_datos()\n",
    "    \n",
    "    sendMessage(mario_sanchez, msj)\n",
    "    now = datetime.now()\n",
    "    print(f'Mensaje enviado a mario_sanchez: {str(now)}' )\n",
    "    time.sleep(30)\n",
    "    \n",
    "    sendMessage(harold_pincker, msj)\n",
    "    now = datetime.now()\n",
    "    print(f'Mensaje enviado a harold_pincker: {str(now)}' )\n",
    "    time.sleep(30)\n",
    "    \n",
    "    sendMessage(giovanni_galarza, msj)\n",
    "    now = datetime.now()\n",
    "    print(f'Mensaje enviado a giovanni_galarza: {str(now)}' )\n",
    "    time.sleep(10800)"
   ]
  },
  {
   "cell_type": "code",
   "execution_count": null,
   "id": "d03be002-faf8-4a57-9536-a0062d4eec47",
   "metadata": {},
   "outputs": [],
   "source": []
  },
  {
   "cell_type": "code",
   "execution_count": null,
   "id": "cf241607-e6c9-4639-a8a3-64869712d016",
   "metadata": {},
   "outputs": [],
   "source": []
  },
  {
   "cell_type": "code",
   "execution_count": null,
   "id": "b9f73448-9911-4b68-b520-f1c0c3b8467f",
   "metadata": {},
   "outputs": [],
   "source": []
  },
  {
   "cell_type": "code",
   "execution_count": null,
   "id": "b449c6a8-3989-4b6f-a93d-df922cafda17",
   "metadata": {},
   "outputs": [],
   "source": []
  },
  {
   "cell_type": "code",
   "execution_count": null,
   "id": "22587c0a-09c6-4798-be44-180ff3cd5fbb",
   "metadata": {},
   "outputs": [],
   "source": []
  },
  {
   "cell_type": "code",
   "execution_count": null,
   "id": "196e432f-bdb3-40b8-8beb-1e61d10a8254",
   "metadata": {},
   "outputs": [],
   "source": []
  },
  {
   "cell_type": "code",
   "execution_count": null,
   "id": "80f70610-a9ed-40bb-931f-bd922437cc15",
   "metadata": {},
   "outputs": [],
   "source": []
  },
  {
   "cell_type": "code",
   "execution_count": null,
   "id": "242efe5f-c8c9-4103-8880-66aa2db7c20e",
   "metadata": {},
   "outputs": [],
   "source": []
  },
  {
   "cell_type": "code",
   "execution_count": null,
   "id": "c1ef60e0-990e-47e4-840e-91e2e16ae3b6",
   "metadata": {},
   "outputs": [],
   "source": []
  },
  {
   "cell_type": "code",
   "execution_count": null,
   "id": "1881893b-3bcd-4207-a32c-b5cf1355155d",
   "metadata": {},
   "outputs": [],
   "source": []
  },
  {
   "cell_type": "code",
   "execution_count": null,
   "id": "1c7fc2cd-799f-4739-a387-9de17f8aa1e5",
   "metadata": {},
   "outputs": [],
   "source": []
  }
 ],
 "metadata": {
  "kernelspec": {
   "display_name": "Python 3 (ipykernel)",
   "language": "python",
   "name": "python3"
  },
  "language_info": {
   "codemirror_mode": {
    "name": "ipython",
    "version": 3
   },
   "file_extension": ".py",
   "mimetype": "text/x-python",
   "name": "python",
   "nbconvert_exporter": "python",
   "pygments_lexer": "ipython3",
   "version": "3.10.13"
  }
 },
 "nbformat": 4,
 "nbformat_minor": 5
}
