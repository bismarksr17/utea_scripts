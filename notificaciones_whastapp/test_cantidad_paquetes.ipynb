{
 "cells": [
  {
   "cell_type": "code",
   "execution_count": 29,
   "id": "9a2b0841-1cbe-4c1d-bb3f-8d6ba245f6a1",
   "metadata": {},
   "outputs": [],
   "source": [
    "import requests\n",
    "import time\n",
    "import datetime\n",
    "from datetime import datetime, timedelta"
   ]
  },
  {
   "cell_type": "code",
   "execution_count": 3,
   "id": "ccd7ac10-ff67-4e22-87f1-4b43f3e928ad",
   "metadata": {},
   "outputs": [],
   "source": [
    "import pandas as pd"
   ]
  },
  {
   "cell_type": "code",
   "execution_count": 4,
   "id": "88d18b94-b2a5-438b-becd-753ff9bc5cf1",
   "metadata": {},
   "outputs": [],
   "source": [
    "def sendMessage(para, mensaje):\n",
    "    url = 'http://localhost:3001/lead'\n",
    "    \n",
    "    data = {\n",
    "        \"message\": mensaje,\n",
    "        \"phone\": para\n",
    "    }\n",
    "    headers = {\n",
    "        'Content-Type':'application/json'\n",
    "    }\n",
    "    print(data)\n",
    "    response = requests.post(url, json=data, headers=headers)\n",
    "    time.sleep(60)\n",
    "    return response"
   ]
  },
  {
   "cell_type": "code",
   "execution_count": 5,
   "id": "1279e216-778a-429b-a704-bd3bfc1713df",
   "metadata": {},
   "outputs": [],
   "source": [
    "now = datetime.datetime.now()"
   ]
  },
  {
   "cell_type": "code",
   "execution_count": 6,
   "id": "8f6568c5-d099-47e9-ac6e-aeaf6e5757da",
   "metadata": {},
   "outputs": [],
   "source": [
    "mario = '59175380725'"
   ]
  },
  {
   "cell_type": "code",
   "execution_count": null,
   "id": "2c4b484f-3200-487d-8522-8060625fd9d2",
   "metadata": {},
   "outputs": [],
   "source": []
  },
  {
   "cell_type": "code",
   "execution_count": 69,
   "id": "2034fecc-bf46-493e-a9d5-874cc87a2375",
   "metadata": {},
   "outputs": [],
   "source": [
    "df_molienda = pd.read_excel(r'C:/Documents/Ingenio Azucarero Guabira S.A/COOR_GERENCIA_CANA - Parte_Horarios/Molienda.xlsx')"
   ]
  },
  {
   "cell_type": "code",
   "execution_count": 114,
   "id": "dd1b5eb8-0bb0-4cf5-81cd-a2e3154e6d0d",
   "metadata": {},
   "outputs": [],
   "source": [
    "def definir_trapiche(df):\n",
    "    # extrae la hora\n",
    "    df['solo_hora'] = df['hora'].str.split('T').str[1]\n",
    "    # concatena fecha y hora\n",
    "    df['fecha_hora'] = df['fecha'] + ' ' + df['solo_hora']\n",
    "    # convierte la columna a tipo datetime\n",
    "    df['fecha_hora'] = pd.to_datetime(df['fecha_hora'])\n",
    "    # obtiene la fecha y hora actual\n",
    "    hora_actual = datetime.now()\n",
    "    # calcula una hora antes\n",
    "    una_hora_antes = hora_actual - timedelta(hours=3)\n",
    "    # filtra los resgistros de la ultima hora\n",
    "    df_ultima_hora = df[(df['fecha_hora'] >= una_hora_antes) & (df['fecha_hora'] <= hora_actual)]\n",
    "    trapiches = list(set(df_ultima_hora['trapiche']))\n",
    "    if len(trapiches) == 0:\n",
    "        return 0\n",
    "    elif 1 in trapiches and 2 in trapiches:\n",
    "        return 3\n",
    "    elif 1 in trapiches:\n",
    "        return 1\n",
    "    elif 2 in trapiches:\n",
    "        return 2\n",
    "    print('=================== ERROR =====================')"
   ]
  },
  {
   "cell_type": "code",
   "execution_count": null,
   "id": "453657f9-af1b-4945-8ea3-7b70b0013e00",
   "metadata": {},
   "outputs": [],
   "source": []
  },
  {
   "cell_type": "code",
   "execution_count": null,
   "id": "e9ede4b5-7f79-459a-8a58-0056a16d7ce9",
   "metadata": {},
   "outputs": [],
   "source": []
  },
  {
   "cell_type": "code",
   "execution_count": 70,
   "id": "ea55dfba-b189-478c-8bc3-d69bc4234fe0",
   "metadata": {},
   "outputs": [],
   "source": []
  },
  {
   "cell_type": "code",
   "execution_count": null,
   "id": "2e97689a-c1a1-45fc-a76b-0368adacef9e",
   "metadata": {},
   "outputs": [],
   "source": []
  },
  {
   "cell_type": "code",
   "execution_count": null,
   "id": "3bd34fe8-976a-4dcd-ae6b-a0b5d7e9246e",
   "metadata": {},
   "outputs": [],
   "source": []
  },
  {
   "cell_type": "code",
   "execution_count": null,
   "id": "4313bfea-b9fb-4bf7-810a-e7f208faf667",
   "metadata": {},
   "outputs": [],
   "source": []
  },
  {
   "cell_type": "code",
   "execution_count": 122,
   "id": "17c861b1-c4e9-405e-a2ce-958512b74867",
   "metadata": {},
   "outputs": [],
   "source": [
    "def calcular_datos():\n",
    "    df_playa = pd.read_excel(r'C:/Documents/Ingenio Azucarero Guabira S.A/COOR_GERENCIA_CANA - Parte_Horarios/ReportePlaya.xlsx')\n",
    "    df_molienda = pd.read_excel(r'C:/Documents/Ingenio Azucarero Guabira S.A/COOR_GERENCIA_CANA - Parte_Horarios/Molienda.xlsx')\n",
    "    df_horarios = pd.read_excel(r'C:/Documents/Ingenio Azucarero Guabira S.A/COOR_GERENCIA_CANA - Parte_Horarios/Horarios.xlsx')\n",
    "    \n",
    "    df_res_molienda = pd.merge(df_molienda, df_horarios[['Hora', 'Orden_Hora']], left_on='hora2', right_on='Hora', how='left')\n",
    "    \n",
    "    #cantidad de paquetes\n",
    "    #cantidad de caña disponible\n",
    "    filtro = df_playa[(df_playa['status'] == 'PL') | (df_playa['status'] == 'IN')]\n",
    "    cantidad_paquetes = filtro['cantPqt'].sum()\n",
    "    cana_disponible = cantidad_paquetes * 14\n",
    "    \n",
    "    #promedio lleganda pq\n",
    "    df_playa['Hora_Entera'] = df_playa['horaDocum'].str[11:13].astype(int)\n",
    "    max_hora_ent = df_playa['Hora_Entera'].max() - 3\n",
    "    filtered_df = df_playa[df_playa['Hora_Entera'] >= max_hora_ent]\n",
    "    sum_cant_pqt = filtered_df['cantPqt'].sum()\n",
    "    promedio_llegada_pq = sum_cant_pqt / 3\n",
    "    \n",
    "    #trapiches\n",
    "    # trapiche1    210 tn/ha    15 paquetes\n",
    "    # trapiche2    690 tn/ha    49 paquetes\n",
    "    \n",
    "    #horas molienda\n",
    "    horas_molienda_t1 = cantidad_paquetes / 15\n",
    "    horas_molienda_t2 = cantidad_paquetes / 49\n",
    "    horas_molienda_total = cantidad_paquetes / (15 + 49)\n",
    "    \n",
    "    #total paquetes resto dia\n",
    "    total_paquetes_resto_dia_t1 = promedio_llegada_pq * horas_molienda_t1\n",
    "    total_paquetes_resto_dia_t2 = promedio_llegada_pq * horas_molienda_t2\n",
    "    total_paquetes_resto_dia_total = promedio_llegada_pq * horas_molienda_total\n",
    "    \n",
    "    #toneladas\n",
    "    toneladas = df_molienda['netWeight'].sum() / 1000\n",
    "    \n",
    "    #planificacion actual\n",
    "    planificacion_actual_t1 = df_res_molienda['Orden_Hora'].max() * 210\n",
    "    planificacion_actual_t2 = df_res_molienda['Orden_Hora'].max() * 690\n",
    "    planificacion_actual_total = df_res_molienda['Orden_Hora'].max() * (210 + 690)\n",
    "    \n",
    "    #diferencia actual\n",
    "    diferencia_actual_t1 = toneladas - planificacion_actual_t1\n",
    "    diferencia_actual_t2 = toneladas - planificacion_actual_t2\n",
    "    diferencia_actual_total = toneladas - planificacion_actual_total\n",
    "    \n",
    "    #orden hora\n",
    "    orden_hora = 24 - df_res_molienda['Orden_Hora'].max()\n",
    "    \n",
    "    #toneladas promedio\n",
    "    toneladas_prom = (df_molienda['netWeight'].sum() / 1000) / (24 - orden_hora)\n",
    "    \n",
    "    trapiches = definir_trapiche(df_molienda)\n",
    "    \n",
    "    if trapiches == 0:\n",
    "        mensaje = f'''*REPORTE*\n",
    "*⚙️ Trapiches:* Detenidos\n",
    "*🚛 Paquetes disponibles:* {round(cantidad_paquetes,2)}\n",
    "*🔢 Toneladas aprox.:* {round(cana_disponible,2)}\n",
    "*⏱️ Promedio llegada pq.:* {round(promedio_llegada_pq,2)}\n",
    "*📈 Paquetes estimados:* ---\n",
    "*🕰️Total horas abas.:* _\n",
    "*⏳Tiempo espera:* _\n",
    "*🎋 Molienda actual:* {round(toneladas,2)}\n",
    "*📅 Planificacion actual:* ---\n",
    "*🔻 Diferencia actual:* ---\n",
    "*🕒 Promedio horario:* {round(toneladas_prom,2)}\n",
    "*🏭Molienda segun promedio:* _\n",
    "*📊Molienda segun estimacion:* _'''\n",
    "    \n",
    "    elif trapiches == 1:\n",
    "        mensaje = f'''*REPORTE*\n",
    "*⚙️ Trapiches:* solo 01\n",
    "*🚛 Paquetes disponibles:* {round(cantidad_paquetes,2)}\n",
    "*🔢 Toneladas aprox.:* {round(cana_disponible,2)}\n",
    "*⏱️ Promedio llegada pq.:* {round(promedio_llegada_pq,2)}\n",
    "*📈 Paquetes estimados:* {round(total_paquetes_resto_dia_t1,2)}\n",
    "*🕰️Total horas abas.:* _\n",
    "*⏳Tiempo espera:* _\n",
    "*🎋 Molienda actual:* {round(toneladas,2)}\n",
    "*📅 Planificacion actual:* {round(planificacion_actual_t1,2)}\n",
    "*🔻 Diferencia actual:* {round(diferencia_actual_t1,2)}\n",
    "*🕒 Promedio horario:* {round(toneladas_prom,2)}\n",
    "*🏭Molienda segun promedio:* _\n",
    "*📊Molienda segun estimacion:* _'''\n",
    "    \n",
    "    elif trapiches == 2:\n",
    "        mensaje = f'''*REPORTE*\n",
    "*⚙️ Trapiches:* solo 02\n",
    "*🚛 Paquetes disponibles:* {round(cantidad_paquetes,2)}\n",
    "*🔢 Toneladas aprox.:* {round(cana_disponible,2)}\n",
    "*⏱️ Promedio llegada pq.:* {round(promedio_llegada_pq,2)}\n",
    "*📈 Paquetes estimados:* {round(total_paquetes_resto_dia_t2,2)}\n",
    "*🕰️Total horas abas.:* _\n",
    "*⏳Tiempo espera:* _\n",
    "*🎋 Molienda actual:* {round(toneladas,2)}\n",
    "*📅 Planificacion actual:* {round(planificacion_actual_t2,2)}\n",
    "*🔻 Diferencia actual:* {round(diferencia_actual_t2,2)}\n",
    "*🕒 Promedio horario:* {round(toneladas_prom,2)}\n",
    "*🏭Molienda segun promedio:* _\n",
    "*📊Molienda segun estimacion:* _'''\n",
    "    \n",
    "    elif trapiches == 3:\n",
    "        mensaje = f'''*REPORTE*\n",
    "*⚙️ Trapiches:* 01 y 02\n",
    "*🚛 Paquetes disponibles:* {round(cantidad_paquetes,2)}\n",
    "*🔢 Toneladas aprox.:* {round(cana_disponible,2)}\n",
    "*⏱️ Promedio llegada pq.:* {round(promedio_llegada_pq,2)}\n",
    "*📈 Paquetes estimados:* {round(total_paquetes_resto_dia_total,2)}\n",
    "*🕰️Total horas abas.:* _\n",
    "*⏳Tiempo espera:* _\n",
    "*🎋 Molienda actual:* {round(toneladas,2)}\n",
    "*📅 Planificacion actual:* {round(planificacion_actual_total,2)}\n",
    "*🔻 Diferencia actual:* {round(diferencia_actual_total,2)}\n",
    "*🕒 Promedio horario:* {round(toneladas_prom,2)}\n",
    "*🏭Molienda segun promedio:* _\n",
    "*📊Molienda segun estimacion:* _'''\n",
    "        \n",
    "    return mensaje"
   ]
  },
  {
   "cell_type": "code",
   "execution_count": 123,
   "id": "9717e832-124e-4859-974e-b0f76e76b855",
   "metadata": {},
   "outputs": [],
   "source": [
    "m = calcular_datos()"
   ]
  },
  {
   "cell_type": "code",
   "execution_count": 124,
   "id": "585065b5-99f9-4086-9396-6ec2001414b4",
   "metadata": {},
   "outputs": [
    {
     "name": "stdout",
     "output_type": "stream",
     "text": [
      "*REPORTE*\n",
      "*⚙️ Trapiches:* solo 01\n",
      "*🚛 Paquetes disponibles:* 36\n",
      "*🔢 Toneladas aprox.:* 504\n",
      "*⏱️ Promedio llegada pq.:* 25.33\n",
      "*📈 Paquetes estimados:* 60.8\n",
      "*🕰️Total horas abas.:* _\n",
      "*⏳Tiempo espera:* _\n",
      "*🎋 Molienda actual:* 6608.19\n",
      "*📅 Planificacion actual:* 4200\n",
      "*🔻 Diferencia actual:* 2408.19\n",
      "*🕒 Promedio horario:* 330.41\n",
      "*🏭Molienda segun promedio:* _\n",
      "*📊Molienda segun estimacion:* _\n"
     ]
    }
   ],
   "source": [
    "print(m)"
   ]
  },
  {
   "cell_type": "code",
   "execution_count": 113,
   "id": "14719923-9df4-40ac-97b0-0883dcccaa53",
   "metadata": {},
   "outputs": [
    {
     "ename": "NameError",
     "evalue": "name 'cantidad_paquetes' is not defined",
     "output_type": "error",
     "traceback": [
      "\u001b[1;31m---------------------------------------------------------------------------\u001b[0m",
      "\u001b[1;31mNameError\u001b[0m                                 Traceback (most recent call last)",
      "Cell \u001b[1;32mIn[113], line 3\u001b[0m\n\u001b[0;32m      1\u001b[0m mensaje \u001b[38;5;241m=\u001b[39m \u001b[38;5;124mf\u001b[39m\u001b[38;5;124m'''\u001b[39m\n\u001b[0;32m      2\u001b[0m \u001b[38;5;124m*REPORTE*\u001b[39m\n\u001b[1;32m----> 3\u001b[0m \u001b[38;5;124m*🚛 Paquetes disponibles:* \u001b[39m\u001b[38;5;132;01m{\u001b[39;00m\u001b[38;5;28mround\u001b[39m(cantidad_paquetes,\u001b[38;5;241m2\u001b[39m)\u001b[38;5;132;01m}\u001b[39;00m\n\u001b[0;32m      4\u001b[0m \u001b[38;5;124m*🔢 Toneladas aprox.:* \u001b[39m\u001b[38;5;132;01m{\u001b[39;00m\u001b[38;5;28mround\u001b[39m(cana_disponible,\u001b[38;5;241m2\u001b[39m)\u001b[38;5;132;01m}\u001b[39;00m\n\u001b[0;32m      5\u001b[0m \u001b[38;5;124m*⏱️ Promedio llegada pq.:* \u001b[39m\u001b[38;5;132;01m{\u001b[39;00m\u001b[38;5;28mround\u001b[39m(promedio_llegada_pq,\u001b[38;5;241m2\u001b[39m)\u001b[38;5;132;01m}\u001b[39;00m\n\u001b[0;32m      6\u001b[0m \u001b[38;5;124m*📈 Paquetes estimados:* \u001b[39m\u001b[38;5;132;01m{\u001b[39;00m\u001b[38;5;28mround\u001b[39m(total_paquetes_resto_dia_total,\u001b[38;5;241m2\u001b[39m)\u001b[38;5;132;01m}\u001b[39;00m\n\u001b[0;32m      7\u001b[0m \u001b[38;5;124m*🕰️Total horas abas.:* no calculado \u001b[39m\n\u001b[0;32m      8\u001b[0m \u001b[38;5;124m*⏳Tiempo espera:* no calculado \u001b[39m\n\u001b[0;32m      9\u001b[0m \u001b[38;5;124m*🎋 Molienda actual:* \u001b[39m\u001b[38;5;132;01m{\u001b[39;00m\u001b[38;5;28mround\u001b[39m(toneladas,\u001b[38;5;241m2\u001b[39m)\u001b[38;5;132;01m}\u001b[39;00m\n\u001b[0;32m     10\u001b[0m \u001b[38;5;124m*📅 Planificacion actual:* \u001b[39m\u001b[38;5;132;01m{\u001b[39;00m\u001b[38;5;28mround\u001b[39m(planificacion_actual_total,\u001b[38;5;241m2\u001b[39m)\u001b[38;5;132;01m}\u001b[39;00m\n\u001b[0;32m     11\u001b[0m \u001b[38;5;124m*🔻 Diferencia actual:* \u001b[39m\u001b[38;5;132;01m{\u001b[39;00m\u001b[38;5;28mround\u001b[39m(diferencia_actual_total,\u001b[38;5;241m2\u001b[39m)\u001b[38;5;132;01m}\u001b[39;00m\n\u001b[0;32m     12\u001b[0m \u001b[38;5;124m*🕒 Promedio horario:* \u001b[39m\u001b[38;5;132;01m{\u001b[39;00m\u001b[38;5;28mround\u001b[39m(toneladas_prom,\u001b[38;5;241m2\u001b[39m)\u001b[38;5;132;01m}\u001b[39;00m\n\u001b[0;32m     13\u001b[0m \u001b[38;5;124m*🏭Molienda segun promedio:* no calculado \u001b[39m\n\u001b[0;32m     14\u001b[0m \u001b[38;5;124m*📊Molienda segun estimacion:* no calculado \u001b[39m\n\u001b[0;32m     15\u001b[0m \u001b[38;5;124m'''\u001b[39m\n",
      "\u001b[1;31mNameError\u001b[0m: name 'cantidad_paquetes' is not defined"
     ]
    }
   ],
   "source": [
    "mensaje = f'''\n",
    "*REPORTE*\n",
    "*🚛 Paquetes disponibles:* {round(cantidad_paquetes,2)}\n",
    "*🔢 Toneladas aprox.:* {round(cana_disponible,2)}\n",
    "*⏱️ Promedio llegada pq.:* {round(promedio_llegada_pq,2)}\n",
    "*📈 Paquetes estimados:* {round(total_paquetes_resto_dia_total,2)}\n",
    "*🕰️Total horas abas.:* no calculado \n",
    "*⏳Tiempo espera:* no calculado \n",
    "*🎋 Molienda actual:* {round(toneladas,2)}\n",
    "*📅 Planificacion actual:* {round(planificacion_actual_total,2)}\n",
    "*🔻 Diferencia actual:* {round(diferencia_actual_total,2)}\n",
    "*🕒 Promedio horario:* {round(toneladas_prom,2)}\n",
    "*🏭Molienda segun promedio:* no calculado \n",
    "*📊Molienda segun estimacion:* no calculado \n",
    "'''"
   ]
  },
  {
   "cell_type": "code",
   "execution_count": null,
   "id": "f13e27bd-4b12-4345-9057-9eb9f172f8e3",
   "metadata": {},
   "outputs": [],
   "source": []
  },
  {
   "cell_type": "code",
   "execution_count": null,
   "id": "99609f24-99c5-4559-b02d-9aeb8c7957ee",
   "metadata": {},
   "outputs": [
    {
     "name": "stdout",
     "output_type": "stream",
     "text": [
      "{'message': '\\n*Cantidad de paquetes en playa:* 102 paquetes.\\n*Cantidad de caña disponible:* 1428 toneladas.\\n', 'phone': '59178194371'}\n",
      "{'message': '\\n*Cantidad de paquetes en playa:* 102 paquetes.\\n*Cantidad de caña disponible:* 1428 toneladas.\\n', 'phone': '59178194371'}\n",
      "{'message': '\\n*Cantidad de paquetes en playa:* 102 paquetes.\\n*Cantidad de caña disponible:* 1428 toneladas.\\n', 'phone': '59178194371'}\n"
     ]
    }
   ],
   "source": [
    "while True:\n",
    "    #now = datetime.datetime.now()\n",
    "    cantidad_paquetes, cana_disponible = calcular_datos()\n",
    "    mensaje = f'''\n",
    "*Cantidad de paquetes en playa:* {cantidad_paquetes} paquetes.\n",
    "*Cantidad de caña disponible:* {cana_disponible} toneladas.\n",
    "'''\n",
    "    sendMessage(me, mensaje)"
   ]
  },
  {
   "cell_type": "code",
   "execution_count": null,
   "id": "d03be002-faf8-4a57-9536-a0062d4eec47",
   "metadata": {},
   "outputs": [],
   "source": []
  },
  {
   "cell_type": "code",
   "execution_count": null,
   "id": "cf241607-e6c9-4639-a8a3-64869712d016",
   "metadata": {},
   "outputs": [],
   "source": []
  },
  {
   "cell_type": "code",
   "execution_count": null,
   "id": "b9f73448-9911-4b68-b520-f1c0c3b8467f",
   "metadata": {},
   "outputs": [],
   "source": []
  },
  {
   "cell_type": "code",
   "execution_count": null,
   "id": "b449c6a8-3989-4b6f-a93d-df922cafda17",
   "metadata": {},
   "outputs": [],
   "source": []
  },
  {
   "cell_type": "code",
   "execution_count": null,
   "id": "22587c0a-09c6-4798-be44-180ff3cd5fbb",
   "metadata": {},
   "outputs": [],
   "source": []
  },
  {
   "cell_type": "code",
   "execution_count": null,
   "id": "196e432f-bdb3-40b8-8beb-1e61d10a8254",
   "metadata": {},
   "outputs": [],
   "source": []
  },
  {
   "cell_type": "code",
   "execution_count": null,
   "id": "80f70610-a9ed-40bb-931f-bd922437cc15",
   "metadata": {},
   "outputs": [],
   "source": []
  },
  {
   "cell_type": "code",
   "execution_count": null,
   "id": "242efe5f-c8c9-4103-8880-66aa2db7c20e",
   "metadata": {},
   "outputs": [],
   "source": []
  },
  {
   "cell_type": "code",
   "execution_count": null,
   "id": "c1ef60e0-990e-47e4-840e-91e2e16ae3b6",
   "metadata": {},
   "outputs": [],
   "source": []
  },
  {
   "cell_type": "code",
   "execution_count": null,
   "id": "1881893b-3bcd-4207-a32c-b5cf1355155d",
   "metadata": {},
   "outputs": [],
   "source": []
  },
  {
   "cell_type": "code",
   "execution_count": null,
   "id": "1c7fc2cd-799f-4739-a387-9de17f8aa1e5",
   "metadata": {},
   "outputs": [],
   "source": []
  }
 ],
 "metadata": {
  "kernelspec": {
   "display_name": "Python 3 (ipykernel)",
   "language": "python",
   "name": "python3"
  },
  "language_info": {
   "codemirror_mode": {
    "name": "ipython",
    "version": 3
   },
   "file_extension": ".py",
   "mimetype": "text/x-python",
   "name": "python",
   "nbconvert_exporter": "python",
   "pygments_lexer": "ipython3",
   "version": "3.10.13"
  }
 },
 "nbformat": 4,
 "nbformat_minor": 5
}
