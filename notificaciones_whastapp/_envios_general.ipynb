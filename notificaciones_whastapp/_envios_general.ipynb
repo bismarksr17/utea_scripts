{
 "cells": [
  {
   "cell_type": "code",
   "execution_count": 1,
   "id": "bc6299fa-b7c2-4d23-a81a-d1661db2ad33",
   "metadata": {},
   "outputs": [],
   "source": [
    "import csv\n",
    "import schedule\n",
    "import time\n",
    "\n",
    "import requests\n",
    "import time\n",
    "import datetime\n",
    "from datetime import datetime, timedelta\n",
    "import pandas as pd"
   ]
  },
  {
   "cell_type": "code",
   "execution_count": 11,
   "id": "16be13b5-7f4f-4fa8-83ae-016172c5f07f",
   "metadata": {},
   "outputs": [],
   "source": [
    "def sendMessage(para, mensaje):\n",
    "    url = \"http://localhost:8080/message/sendText/UTEA-TEST\"\n",
    "    payload = {\n",
    "        \"number\": '591' + para,\n",
    "        \"text\": mensaje,\n",
    "    }\n",
    "    headers = {\n",
    "        \"apikey\": \"5F3D3DCDD012-41A4-ACC6-EBAB6AAA8C82\",\n",
    "        \"Content-Type\": \"application/json\"\n",
    "    }\n",
    "    response = requests.request(\"POST\", url, json=payload, headers=headers)\n",
    "    print(response.text)"
   ]
  },
  {
   "cell_type": "code",
   "execution_count": 12,
   "id": "9dd03eb3-f36c-4124-8d17-e2e9f12f62f5",
   "metadata": {},
   "outputs": [],
   "source": [
    "path_txt_msj = r'C:\\Users\\bismarksr\\Desktop\\PYTHON\\utea_scripts\\notificaciones_whastapp\\_msj_stack.txt'\n",
    "path_txt_log = r'C:\\Users\\bismarksr\\Desktop\\PYTHON\\utea_scripts\\notificaciones_whastapp\\_msj_log.txt'"
   ]
  },
  {
   "cell_type": "code",
   "execution_count": 13,
   "id": "edd2d7f6-180c-4384-8695-d5a98e5b62b0",
   "metadata": {},
   "outputs": [],
   "source": [
    "def get_msj_from_stack():\n",
    "    # Abrir el archivo en modo lectura y escritura\n",
    "    with open(path_txt_msj, 'r+', newline='') as archivo:\n",
    "        lector = csv.reader(archivo, delimiter=';')\n",
    "    \n",
    "        # Convertir el contenido a una lista\n",
    "        lineas = list(lector)\n",
    "        \n",
    "        # Verificar si hay líneas en el archivo\n",
    "        if lineas:\n",
    "            # Extraer la primera línea\n",
    "            primera_linea = lineas[0]\n",
    "        \n",
    "            # Formatear la primera línea en un diccionario\n",
    "            encabezados = ['id', 'fecha', 'hora', 'codigo', 'nombre', 'numero_celular', 'mensaje']\n",
    "            diccionario_primera_linea = dict(zip(encabezados, primera_linea))\n",
    "        \n",
    "            # Eliminar la primera línea de la lista\n",
    "            lineas = lineas[1:]\n",
    "        \n",
    "            # Reposicionar el puntero al inicio del archivo y truncar su contenido\n",
    "            archivo.seek(0)\n",
    "            archivo.truncate()\n",
    "        \n",
    "            # Reescribir las líneas restantes en el archivo\n",
    "            escritor = csv.writer(archivo, delimiter=';')\n",
    "            escritor.writerows(lineas)\n",
    "        \n",
    "            # Guardar la línea eliminada en el archivo de log en el mismo formato\n",
    "            with open(path_txt_log, 'a') as log:\n",
    "                log.write(';'.join(primera_linea) + '\\n')\n",
    "        \n",
    "            return diccionario_primera_linea\n",
    "        else:\n",
    "            return {}"
   ]
  },
  {
   "cell_type": "code",
   "execution_count": 14,
   "id": "7d3f072d-bd25-491e-b1e8-d54427ba121b",
   "metadata": {},
   "outputs": [],
   "source": [
    "def enviar_mensaje():\n",
    "    msj = get_msj_from_stack()\n",
    "    #print(len(msj))\n",
    "    if len(msj) > 0:\n",
    "        sendMessage(msj['numero_celular'], msj['mensaje'])\n",
    "    else:\n",
    "        None\n",
    "        #print('No se tiene mensajes nuevos para enviar')"
   ]
  },
  {
   "cell_type": "code",
   "execution_count": null,
   "id": "b583d9fe-1c0b-430b-908d-aca54ac30f11",
   "metadata": {},
   "outputs": [
    {
     "name": "stdout",
     "output_type": "stream",
     "text": [
      "{\"key\":{\"remoteJid\":\"59168908131@s.whatsapp.net\",\"fromMe\":true,\"id\":\"3EB04748F3F44278E5EF31AB7F0FEBAEE9F7565E\"},\"pushName\":\"\",\"status\":\"PENDING\",\"message\":{\"conversation\":\"Señor(a) *OVANDO JIMENEZ JAIRO ESTEVAN*, espero que se encuentre bien, se le informa que se esta iniciando el trabajo de *LIBERACION DE TRICHOGRAMMA* en la siguiente ubicacion: https://www.google.com/maps?q=-16.926483654921356,-63.173510282429646. Este mensaje a sido generado de manera automatica por el equipo de campo. Para cualquier consulta puede comunicarse con ING. ALEJANDRO SANCHEZ al 78448317\"},\"contextInfo\":null,\"messageType\":\"conversation\",\"messageTimestamp\":1732687184,\"instanceId\":\"4db1a1b2-2d25-4e1a-9942-16e822ff2951\",\"source\":\"unknown\"}\n",
      "{\"key\":{\"remoteJid\":\"59178448317@s.whatsapp.net\",\"fromMe\":true,\"id\":\"3EB08ACDF308280CFF2E31BD2F8C7A80AD7F738F\"},\"pushName\":\"\",\"status\":\"PENDING\",\"message\":{\"conversation\":\"Señor(a) *OVANDO JIMENEZ JAIRO ESTEVAN*, espero que se encuentre bien, se le informa que se esta iniciando el trabajo de *LIBERACION DE TRICHOGRAMMA* en la siguiente ubicacion: https://www.google.com/maps?q=-16.926483654921356,-63.173510282429646. Este mensaje a sido generado de manera automatica por el equipo de campo. Para cualquier consulta puede comunicarse con ING. ALEJANDRO SANCHEZ al 78448317\"},\"contextInfo\":null,\"messageType\":\"conversation\",\"messageTimestamp\":1732687187,\"instanceId\":\"4db1a1b2-2d25-4e1a-9942-16e822ff2951\",\"source\":\"unknown\"}\n",
      "{\"key\":{\"remoteJid\":\"59178459205@s.whatsapp.net\",\"fromMe\":true,\"id\":\"3EB0773A4287A78948D7EF22A9A6E6B84F935E45\"},\"pushName\":\"\",\"status\":\"PENDING\",\"message\":{\"conversation\":\"Señor(a) *OVANDO JIMENEZ JAIRO ESTEVAN*, espero que se encuentre bien, se le informa que se esta iniciando el trabajo de *LIBERACION DE TRICHOGRAMMA* en la siguiente ubicacion: https://www.google.com/maps?q=-16.926483654921356,-63.173510282429646. Este mensaje a sido generado de manera automatica por el equipo de campo. Para cualquier consulta puede comunicarse con ING. ALEJANDRO SANCHEZ al 78448317\"},\"contextInfo\":null,\"messageType\":\"conversation\",\"messageTimestamp\":1732687191,\"instanceId\":\"4db1a1b2-2d25-4e1a-9942-16e822ff2951\",\"source\":\"unknown\"}\n",
      "{\"key\":{\"remoteJid\":\"59168908131@s.whatsapp.net\",\"fromMe\":true,\"id\":\"3EB05E0BF45DBF0E082FC4CF88133F2ED6CEB82F\"},\"pushName\":\"\",\"status\":\"PENDING\",\"message\":{\"conversation\":\"Señor(a) *OVANDO JIMENEZ JAIRO ESTEVAN*, espero que se encuentre bien, se le informa que se ha finalizado el trabajo de *LIBERACION DE TRICHOGRAMMA* en la siguiente ubicacion: https://www.google.com/maps?q=-16.941713804780676,-63.17569336247568. Este mensaje a sido generado de manera automatica por el equipo de campo. Para cualquier consulta puede comunicarse con ING. ALEJANDRO SANCHEZ al 78448317\"},\"contextInfo\":null,\"messageType\":\"conversation\",\"messageTimestamp\":1732695630,\"instanceId\":\"4db1a1b2-2d25-4e1a-9942-16e822ff2951\",\"source\":\"unknown\"}\n",
      "{\"key\":{\"remoteJid\":\"59178448317@s.whatsapp.net\",\"fromMe\":true,\"id\":\"3EB06391058B8757FBA83DCE3B1960A7CC7E1BF9\"},\"pushName\":\"\",\"status\":\"PENDING\",\"message\":{\"conversation\":\"Señor(a) *OVANDO JIMENEZ JAIRO ESTEVAN*, espero que se encuentre bien, se le informa que se ha finalizado el trabajo de *LIBERACION DE TRICHOGRAMMA* en la siguiente ubicacion: https://www.google.com/maps?q=-16.941713804780676,-63.17569336247568. Este mensaje a sido generado de manera automatica por el equipo de campo. Para cualquier consulta puede comunicarse con ING. ALEJANDRO SANCHEZ al 78448317\"},\"contextInfo\":null,\"messageType\":\"conversation\",\"messageTimestamp\":1732695635,\"instanceId\":\"4db1a1b2-2d25-4e1a-9942-16e822ff2951\",\"source\":\"unknown\"}\n",
      "{\"key\":{\"remoteJid\":\"59178459205@s.whatsapp.net\",\"fromMe\":true,\"id\":\"3EB034BDF666A73721698BA99A42F6A75AE49698\"},\"pushName\":\"\",\"status\":\"PENDING\",\"message\":{\"conversation\":\"Señor(a) *OVANDO JIMENEZ JAIRO ESTEVAN*, espero que se encuentre bien, se le informa que se ha finalizado el trabajo de *LIBERACION DE TRICHOGRAMMA* en la siguiente ubicacion: https://www.google.com/maps?q=-16.941713804780676,-63.17569336247568. Este mensaje a sido generado de manera automatica por el equipo de campo. Para cualquier consulta puede comunicarse con ING. ALEJANDRO SANCHEZ al 78448317\"},\"contextInfo\":null,\"messageType\":\"conversation\",\"messageTimestamp\":1732695641,\"instanceId\":\"4db1a1b2-2d25-4e1a-9942-16e822ff2951\",\"source\":\"unknown\"}\n"
     ]
    }
   ],
   "source": [
    "# Programar la ejecución de la función cada 1 minuto\n",
    "#schedule.every(1).minutes.do(enviar_mensaje)\n",
    "while True:\n",
    "    enviar_mensaje()\n",
    "    # Ejecuta las tareas programadas\n",
    "    #schedule.run_pending()\n",
    "    # Espera un segundo antes de verificar nuevamente\n",
    "    time.sleep(1)"
   ]
  },
  {
   "cell_type": "code",
   "execution_count": null,
   "id": "8a1eb007-f398-4d84-918f-85940cf88dcc",
   "metadata": {},
   "outputs": [],
   "source": []
  },
  {
   "cell_type": "code",
   "execution_count": null,
   "id": "58c8700d-5b73-4d6b-aff5-33c632380940",
   "metadata": {},
   "outputs": [],
   "source": []
  }
 ],
 "metadata": {
  "kernelspec": {
   "display_name": "Python 3 (ipykernel)",
   "language": "python",
   "name": "python3"
  },
  "language_info": {
   "codemirror_mode": {
    "name": "ipython",
    "version": 3
   },
   "file_extension": ".py",
   "mimetype": "text/x-python",
   "name": "python",
   "nbconvert_exporter": "python",
   "pygments_lexer": "ipython3",
   "version": "3.10.13"
  }
 },
 "nbformat": 4,
 "nbformat_minor": 5
}
