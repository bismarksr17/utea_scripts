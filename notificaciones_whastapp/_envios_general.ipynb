{
 "cells": [
  {
   "cell_type": "code",
   "execution_count": 1,
   "id": "bc6299fa-b7c2-4d23-a81a-d1661db2ad33",
   "metadata": {},
   "outputs": [],
   "source": [
    "import csv\n",
    "import schedule\n",
    "import time"
   ]
  },
  {
   "cell_type": "code",
   "execution_count": 2,
   "id": "015b6a52-439b-4ecd-b33a-bc77496736fe",
   "metadata": {},
   "outputs": [
    {
     "name": "stderr",
     "output_type": "stream",
     "text": [
      "C:\\Users\\Usuario\\AppData\\Local\\Temp\\ipykernel_18536\\1967123873.py:5: DeprecationWarning: \n",
      "Pyarrow will become a required dependency of pandas in the next major release of pandas (pandas 3.0),\n",
      "(to allow more performant data types, such as the Arrow string type, and better interoperability with other libraries)\n",
      "but was not found to be installed on your system.\n",
      "If this would cause problems for you,\n",
      "please provide us feedback at https://github.com/pandas-dev/pandas/issues/54466\n",
      "        \n",
      "  import pandas as pd\n"
     ]
    }
   ],
   "source": [
    "import requests\n",
    "import time\n",
    "import datetime\n",
    "from datetime import datetime, timedelta\n",
    "import pandas as pd"
   ]
  },
  {
   "cell_type": "code",
   "execution_count": 3,
   "id": "16be13b5-7f4f-4fa8-83ae-016172c5f07f",
   "metadata": {},
   "outputs": [],
   "source": [
    "def sendMessage(para, mensaje):\n",
    "    url = 'http://localhost:3001/lead'\n",
    "    \n",
    "    data = {\n",
    "        \"message\": mensaje,\n",
    "        \"phone\": para\n",
    "    }\n",
    "    headers = {\n",
    "        'Content-Type':'application/json'\n",
    "    }\n",
    "    print(data)\n",
    "    response = requests.post(url, json=data, headers=headers)\n",
    "    return response"
   ]
  },
  {
   "cell_type": "code",
   "execution_count": 4,
   "id": "9dd03eb3-f36c-4124-8d17-e2e9f12f62f5",
   "metadata": {},
   "outputs": [],
   "source": [
    "path_txt_msj = r'C:\\Users\\Usuario\\Desktop\\PYTHON\\utea_scripts\\notificaciones_whastapp\\_msj_stack.txt'\n",
    "path_txt_log = r'C:\\Users\\Usuario\\Desktop\\PYTHON\\utea_scripts\\notificaciones_whastapp\\_msj_log.txt'"
   ]
  },
  {
   "cell_type": "code",
   "execution_count": 5,
   "id": "edd2d7f6-180c-4384-8695-d5a98e5b62b0",
   "metadata": {},
   "outputs": [],
   "source": [
    "def get_msj_from_stack():\n",
    "    # Abrir el archivo en modo lectura y escritura\n",
    "    with open(path_txt_msj, 'r+', newline='') as archivo:\n",
    "        lector = csv.reader(archivo, delimiter=';')\n",
    "    \n",
    "        # Convertir el contenido a una lista\n",
    "        lineas = list(lector)\n",
    "        \n",
    "        # Verificar si hay líneas en el archivo\n",
    "        if lineas:\n",
    "            # Extraer la primera línea\n",
    "            primera_linea = lineas[0]\n",
    "        \n",
    "            # Formatear la primera línea en un diccionario\n",
    "            encabezados = ['id', 'fecha', 'hora', 'codigo', 'nombre', 'numero_celular', 'mensaje']\n",
    "            diccionario_primera_linea = dict(zip(encabezados, primera_linea))\n",
    "        \n",
    "            # Eliminar la primera línea de la lista\n",
    "            lineas = lineas[1:]\n",
    "        \n",
    "            # Reposicionar el puntero al inicio del archivo y truncar su contenido\n",
    "            archivo.seek(0)\n",
    "            archivo.truncate()\n",
    "        \n",
    "            # Reescribir las líneas restantes en el archivo\n",
    "            escritor = csv.writer(archivo, delimiter=';')\n",
    "            escritor.writerows(lineas)\n",
    "        \n",
    "            # Guardar la línea eliminada en el archivo de log en el mismo formato\n",
    "            with open(path_txt_log, 'a') as log:\n",
    "                log.write(';'.join(primera_linea) + '\\n')\n",
    "        \n",
    "            return diccionario_primera_linea\n",
    "        else:\n",
    "            return {}"
   ]
  },
  {
   "cell_type": "code",
   "execution_count": 7,
   "id": "7d3f072d-bd25-491e-b1e8-d54427ba121b",
   "metadata": {},
   "outputs": [],
   "source": [
    "def enviar_mensaje():\n",
    "    msj = get_msj_from_stack()\n",
    "    print(len(msj))\n",
    "    if len(msj) > 0:\n",
    "        sendMessage(msj['numero_celular'], msj['mensaje'])\n",
    "    else:\n",
    "        print('No se tiene mensajes nuevos para enviar')"
   ]
  },
  {
   "cell_type": "code",
   "execution_count": 12,
   "id": "b583d9fe-1c0b-430b-908d-aca54ac30f11",
   "metadata": {},
   "outputs": [
    {
     "name": "stdout",
     "output_type": "stream",
     "text": [
      "7\n",
      "{'message': 'Señor(a) *BISMARK SOCOMPI* se le informa que se esta iniciando el trabajo de *LIBERACION DE TRICHOGRAMMA* en la siguiente ubicacion: https://www.google.com/maps?q=-17.2818064,-63.1694227. Para cualquier consulta puede comunicarse con ING. ALEJANDRO SANCHEZ al 78448317', 'phone': '62022996'}\n",
      "7\n",
      "{'message': 'Señor(a) *BISMARK SOCOMPI* se le informa que se esta iniciando el trabajo de *LIBERACION DE TRICHOGRAMMA* en la siguiente ubicacion: https://www.google.com/maps?q=-17.2818064,-63.1694227. Para cualquier consulta puede comunicarse con ING. ALEJANDRO SANCHEZ al 78448317', 'phone': '78194371'}\n",
      "0\n",
      "No se tiene mensajes nuevos para enviar\n",
      "0\n",
      "No se tiene mensajes nuevos para enviar\n",
      "0\n",
      "No se tiene mensajes nuevos para enviar\n",
      "0\n",
      "No se tiene mensajes nuevos para enviar\n",
      "0\n",
      "No se tiene mensajes nuevos para enviar\n",
      "0\n",
      "No se tiene mensajes nuevos para enviar\n"
     ]
    },
    {
     "ename": "KeyboardInterrupt",
     "evalue": "",
     "output_type": "error",
     "traceback": [
      "\u001b[1;31m---------------------------------------------------------------------------\u001b[0m",
      "\u001b[1;31mKeyboardInterrupt\u001b[0m                         Traceback (most recent call last)",
      "Cell \u001b[1;32mIn[12], line 8\u001b[0m\n\u001b[0;32m      4\u001b[0m enviar_mensaje()\n\u001b[0;32m      5\u001b[0m \u001b[38;5;66;03m# Ejecuta las tareas programadas\u001b[39;00m\n\u001b[0;32m      6\u001b[0m \u001b[38;5;66;03m#schedule.run_pending()\u001b[39;00m\n\u001b[0;32m      7\u001b[0m \u001b[38;5;66;03m# Espera un segundo antes de verificar nuevamente\u001b[39;00m\n\u001b[1;32m----> 8\u001b[0m \u001b[43mtime\u001b[49m\u001b[38;5;241;43m.\u001b[39;49m\u001b[43msleep\u001b[49m\u001b[43m(\u001b[49m\u001b[38;5;241;43m1\u001b[39;49m\u001b[43m)\u001b[49m\n",
      "\u001b[1;31mKeyboardInterrupt\u001b[0m: "
     ]
    }
   ],
   "source": [
    "# Programar la ejecución de la función cada 1 minuto\n",
    "#schedule.every(1).minutes.do(enviar_mensaje)\n",
    "while True:\n",
    "    enviar_mensaje()\n",
    "    # Ejecuta las tareas programadas\n",
    "    #schedule.run_pending()\n",
    "    # Espera un segundo antes de verificar nuevamente\n",
    "    time.sleep(1)"
   ]
  },
  {
   "cell_type": "code",
   "execution_count": null,
   "id": "8a1eb007-f398-4d84-918f-85940cf88dcc",
   "metadata": {},
   "outputs": [],
   "source": []
  },
  {
   "cell_type": "code",
   "execution_count": null,
   "id": "58c8700d-5b73-4d6b-aff5-33c632380940",
   "metadata": {},
   "outputs": [],
   "source": []
  }
 ],
 "metadata": {
  "kernelspec": {
   "display_name": "Python 3 (ipykernel)",
   "language": "python",
   "name": "python3"
  },
  "language_info": {
   "codemirror_mode": {
    "name": "ipython",
    "version": 3
   },
   "file_extension": ".py",
   "mimetype": "text/x-python",
   "name": "python",
   "nbconvert_exporter": "python",
   "pygments_lexer": "ipython3",
   "version": "3.10.13"
  }
 },
 "nbformat": 4,
 "nbformat_minor": 5
}
