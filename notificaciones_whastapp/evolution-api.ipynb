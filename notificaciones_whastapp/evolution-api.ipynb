{
 "cells": [
  {
   "cell_type": "code",
   "execution_count": 1,
   "id": "d6e4dbb9-ca4e-40d1-a22d-2b8f5fd03a9b",
   "metadata": {},
   "outputs": [],
   "source": [
    "num = '59178194371'"
   ]
  },
  {
   "cell_type": "code",
   "execution_count": 2,
   "id": "3c92c1a9-e1a7-418d-855d-3983441a8721",
   "metadata": {},
   "outputs": [
    {
     "name": "stdout",
     "output_type": "stream",
     "text": [
      "{\"key\":{\"remoteJid\":\"59178194371@s.whatsapp.net\",\"fromMe\":true,\"id\":\"3EB0F4D4DDC7249CDF6E4DA21D2ED7337B3D73B4\"},\"pushName\":\"\",\"status\":\"PENDING\",\"message\":{\"conversation\":\"Este es un mensaje de prueba..!!! 🚀🚀🚀🚀\"},\"contextInfo\":null,\"messageType\":\"conversation\",\"messageTimestamp\":1732823875,\"instanceId\":\"7949d216-3181-46f2-aeed-3ab30363e0ff\",\"source\":\"unknown\"}\n"
     ]
    }
   ],
   "source": [
    "import requests\n",
    "\n",
    "url = \"http://localhost:8080/message/sendText/UTEA-CHAT\"\n",
    "\n",
    "payload = {\n",
    "    \"number\": num,\n",
    "    \"text\": \"Este es un mensaje de prueba..!!! 🚀🚀🚀🚀\",\n",
    "}\n",
    "headers = {\n",
    "    \"apikey\": \"D6CD36F3CE20-4962-A175-8D5583A345D9\",\n",
    "    \"Content-Type\": \"application/json\"\n",
    "}\n",
    "\n",
    "response = requests.request(\"POST\", url, json=payload, headers=headers)\n",
    "\n",
    "print(response.text)"
   ]
  },
  {
   "cell_type": "code",
   "execution_count": 69,
   "id": "85506212-09c4-4350-8516-05c57186c629",
   "metadata": {},
   "outputs": [
    {
     "name": "stdout",
     "output_type": "stream",
     "text": [
      "201 {\"key\":{\"remoteJid\":\"59175380725@s.whatsapp.net\",\"fromMe\":true,\"id\":\"3EB062D5C536AC0F01EDF75EF1DA65C9EB0A7E7B\"},\"pushName\":\"\",\"status\":\"PENDING\",\"message\":{\"imageMessage\":{\"url\":\"https://mmg.whatsapp.net/o1/v/t62.7118-24/f1/m232/up-oil-image-71304e5c-578a-4890-aadc-7dd39b8ae006?ccb=9-4&oh=01_Q5AaIPIkIEc6K50DOP5BtzwijN2e68BU_VWLbq8H3ya-7LWI&oe=6769DD60&_nc_sid=e6ed6c&mms3=true\",\"mimetype\":\"image/png\",\"caption\":\"Este es un archivo JPG de prueba\",\"fileSha256\":\"d0nEpwN9gfTFvrCJ4OQQ8yEOIkFb21sTEl0ym7LFX4c=\",\"fileLength\":\"12276\",\"mediaKey\":\"9eKD2Y3mqjMrrnj01nizIZ7tCe9DVqPk3WEm1563KpY=\",\"fileEncSha256\":\"N5cPsR3O+tUOg0ulKymSQWEA4i57vl93TBzARWVtM88=\",\"directPath\":\"/o1/v/t62.7118-24/f1/m232/up-oil-image-71304e5c-578a-4890-aadc-7dd39b8ae006?ccb=9-4&oh=01_Q5AaIPIkIEc6K50DOP5BtzwijN2e68BU_VWLbq8H3ya-7LWI&oe=6769DD60&_nc_sid=e6ed6c\",\"mediaKeyTimestamp\":\"1732400290\",\"contextInfo\":{}}},\"contextInfo\":{},\"messageType\":\"imageMessage\",\"messageTimestamp\":1732400290,\"instanceId\":\"4db1a1b2-2d25-4e1a-9942-16e822ff2951\",\"source\":\"unknown\"}\n"
     ]
    }
   ],
   "source": [
    "import requests\n",
    "import base64\n",
    "\n",
    "# Codifica el archivo en base64\n",
    "with open(r\"C:\\Users\\bismarksr\\Downloads\\test.jpg\", \"rb\") as file:\n",
    "    encoded_file = base64.b64encode(file.read()).decode(\"utf-8\")\n",
    "\n",
    "# URL con el dominio y la instancia correctos\n",
    "url = \"http://localhost:8080/message/sendMedia/UTEA-TEST\"\n",
    "\n",
    "# Payload con los datos del archivo y detalles del mensaje\n",
    "payload = {\n",
    "    \"number\": num,  # Número de destino en formato internacional\n",
    "    \"mediatype\": \"image\",  # Tipo del archivo\n",
    "    \"mimetype\": \"image/png\",  # MIME del archivo\n",
    "    \"caption\": \"Este es un archivo JPG de prueba\",  # Mensaje acompañante\n",
    "    \"media\": encoded_file,  # Archivo codificado en base64\n",
    "    \"fileName\": \"test.jpg\"  # Nombre del archivo\n",
    "}\n",
    "\n",
    "# Encabezados con la clave de API\n",
    "headers = {\n",
    "    \"apikey\": \"5F3D3DCDD012-41A4-ACC6-EBAB6AAA8C82\",  # Tu clave de API\n",
    "    \"Content-Type\": \"application/json\"\n",
    "}\n",
    "\n",
    "# Realiza la solicitud POST\n",
    "response = requests.post(url, json=payload, headers=headers)\n",
    "\n",
    "# Imprime el resultado\n",
    "print(response.status_code, response.text)"
   ]
  },
  {
   "cell_type": "code",
   "execution_count": 71,
   "id": "3be90ad3-30c2-4ebe-9ebc-fc1b4fd8eb10",
   "metadata": {},
   "outputs": [
    {
     "name": "stdout",
     "output_type": "stream",
     "text": [
      "201 {\"key\":{\"remoteJid\":\"59175380725@s.whatsapp.net\",\"fromMe\":true,\"id\":\"3EB04E2BF8914CCCD3CB9226B75A947BA9299519\"},\"pushName\":\"\",\"status\":\"PENDING\",\"message\":{\"documentMessage\":{\"url\":\"https://mmg.whatsapp.net/v/t62.7119-24/30621804_1256176322382811_5099361166150636788_n.enc?ccb=11-4&oh=01_Q5AaIGG4SUMvMEHVsMzHOgaDK_5_vHKyINveeh-PXY4QQkUX&oe=6769CDD6&_nc_sid=5e03e0&mms3=true\",\"mimetype\":\"application/pdf\",\"fileSha256\":\"Kdc1eabltbR+d8ZVIOHa2N2QLX/Q4dF8VoUQBvRX8G8=\",\"fileLength\":\"3525831\",\"mediaKey\":\"vswlpXrx+CW7K4js7y/e4ia7SeMn2IgN5Lbr2EIYRWg=\",\"fileName\":\"142_SAN MARTIN--VELASCO ANTONIO.pdf\",\"fileEncSha256\":\"kMOlAT9q1d8a6XTjy69gFXBdDCUHz6OtwRm7TNvO/iM=\",\"directPath\":\"/v/t62.7119-24/30621804_1256176322382811_5099361166150636788_n.enc?ccb=11-4&oh=01_Q5AaIGG4SUMvMEHVsMzHOgaDK_5_vHKyINveeh-PXY4QQkUX&oe=6769CDD6&_nc_sid=5e03e0\",\"mediaKeyTimestamp\":\"1732400298\",\"contextInfo\":{},\"caption\":\"Este es un archivo PDF de prueba\"}},\"contextInfo\":{},\"messageType\":\"documentMessage\",\"messageTimestamp\":1732400298,\"instanceId\":\"4db1a1b2-2d25-4e1a-9942-16e822ff2951\",\"source\":\"unknown\"}\n"
     ]
    }
   ],
   "source": [
    "import requests\n",
    "import base64\n",
    "\n",
    "# Codifica el archivo en base64\n",
    "with open(r\"C:\\Users\\bismarksr\\Downloads\\142_SAN MARTIN--VELASCO ANTONIO.pdf\", \"rb\") as file:\n",
    "    encoded_file = base64.b64encode(file.read()).decode(\"utf-8\")\n",
    "\n",
    "# URL con el dominio y la instancia correctos\n",
    "url = \"http://localhost:8080/message/sendMedia/UTEA-TEST\"\n",
    "\n",
    "# Payload con los datos del archivo y detalles del mensaje\n",
    "payload = {\n",
    "    \"number\": num,  # Número de destino en formato internacional\n",
    "    \"mediatype\": \"document\",  # Tipo del archivo\n",
    "    \"mimetype\": \"application/pdf\",  # MIME del archivo\n",
    "    \"caption\": \"Este es un archivo PDF de prueba\",  # Mensaje acompañante\n",
    "    \"media\": encoded_file,  # Archivo codificado en base64\n",
    "    \"fileName\": \"142_SAN MARTIN--VELASCO ANTONIO.pdf\"  # Nombre del archivo\n",
    "}\n",
    "\n",
    "# Encabezados con la clave de API\n",
    "headers = {\n",
    "    \"apikey\": \"5F3D3DCDD012-41A4-ACC6-EBAB6AAA8C82\",  # Tu clave de API\n",
    "    \"Content-Type\": \"application/json\"\n",
    "}\n",
    "\n",
    "# Realiza la solicitud POST\n",
    "response = requests.post(url, json=payload, headers=headers)\n",
    "\n",
    "# Imprime el resultado\n",
    "print(response.status_code, response.text)"
   ]
  },
  {
   "cell_type": "code",
   "execution_count": null,
   "id": "4c779386-2434-4b61-8b80-f1b6b4a9ac5d",
   "metadata": {},
   "outputs": [],
   "source": []
  },
  {
   "cell_type": "code",
   "execution_count": null,
   "id": "22193061-4eb7-4662-aedd-be51bb2607cf",
   "metadata": {},
   "outputs": [],
   "source": []
  },
  {
   "cell_type": "code",
   "execution_count": null,
   "id": "4b1ce203-5822-4265-aa35-de3f550a95be",
   "metadata": {},
   "outputs": [],
   "source": []
  },
  {
   "cell_type": "code",
   "execution_count": null,
   "id": "d951e018-699b-4611-bbd4-c854c9b06677",
   "metadata": {},
   "outputs": [],
   "source": []
  },
  {
   "cell_type": "code",
   "execution_count": null,
   "id": "b25f94e4-d82b-4193-813d-f93960ba2adc",
   "metadata": {},
   "outputs": [],
   "source": []
  }
 ],
 "metadata": {
  "kernelspec": {
   "display_name": "Python 3 (ipykernel)",
   "language": "python",
   "name": "python3"
  },
  "language_info": {
   "codemirror_mode": {
    "name": "ipython",
    "version": 3
   },
   "file_extension": ".py",
   "mimetype": "text/x-python",
   "name": "python",
   "nbconvert_exporter": "python",
   "pygments_lexer": "ipython3",
   "version": "3.10.13"
  }
 },
 "nbformat": 4,
 "nbformat_minor": 5
}
