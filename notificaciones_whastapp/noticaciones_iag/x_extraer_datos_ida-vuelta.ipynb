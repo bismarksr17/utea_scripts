{
 "cells": [
  {
   "cell_type": "code",
   "execution_count": 1,
   "id": "2322a30c-4ee7-4c97-91e0-a0e87a14a2d6",
   "metadata": {},
   "outputs": [],
   "source": [
    "import sys\n",
    "sys.path.append('..')\n",
    "import time\n",
    "import pandas as pd\n",
    "import requests\n",
    "from datetime import datetime, timedelta\n",
    "\n",
    "PATH_OUTPUT = r'G:\\Ingenio Azucarero Guabira S.A\\COOR_GERENCIA_CANA - Parte_Horarios'"
   ]
  },
  {
   "cell_type": "code",
   "execution_count": 2,
   "id": "e2791fbd-2663-43e4-bd42-45880259c984",
   "metadata": {},
   "outputs": [],
   "source": [
    "# funcion para extraer datos por rango de fechas\n",
    "def extraer_datos(end_point, fecha_ini, fecha_fin):\n",
    "    url = \"http://10.1.0.103:9080/Utea/\" + end_point\n",
    "    params = {\n",
    "        \"pStrFecIni\": fecha_ini,\n",
    "        \"pStrFecFin\": fecha_fin,\n",
    "    }\n",
    "    response = requests.get(url, params=params)\n",
    "    data = None\n",
    "    if response.status_code == 200:\n",
    "        data = response.json()\n",
    "        now = datetime.now()\n",
    "        formatted_now = now.strftime('%d/%m/%Y %H:%M:%S')\n",
    "        print(formatted_now + \" - Actualizado: \" + end_point)\n",
    "    else:\n",
    "        print(f\"Error al obtener datos: {response.status_code}\")\n",
    "    return data"
   ]
  },
  {
   "cell_type": "code",
   "execution_count": 3,
   "id": "588cc2ee-470e-4991-aeb2-6d55e7af9be6",
   "metadata": {},
   "outputs": [
    {
     "name": "stdout",
     "output_type": "stream",
     "text": [
      "26/08/2025 08:25:13 - Actualizado: ReportePlaya\n",
      "26/08/2025 08:25:14 - Actualizado: TrafCamBalanza\n",
      "26/08/2025 08:25:18 - Actualizado: Molienda\n"
     ]
    }
   ],
   "source": [
    "#get fechas\n",
    "ayer = (datetime.now() - timedelta(days=1)).strftime('%Y-%m-%d')\n",
    "\n",
    "#extraer datos de API\n",
    "ReportePlaya = extraer_datos(\"ReportePlaya\", ayer, ayer)\n",
    "TrafCamBalanza = extraer_datos(\"TrafCamBalanza\", ayer, ayer)\n",
    "Molienda = extraer_datos(\"Molienda\", ayer, ayer)\n",
    "\n",
    "df_ReportePlaya = pd.DataFrame(ReportePlaya)\n",
    "df_TrafCamBalanza = pd.DataFrame(TrafCamBalanza)\n",
    "df_Molienda = pd.DataFrame(Molienda)"
   ]
  },
  {
   "cell_type": "code",
   "execution_count": 4,
   "id": "6924879b-bc2a-4f2a-bc56-d92ffeb99986",
   "metadata": {},
   "outputs": [],
   "source": [
    "df_ReportePlaya.to_excel(PATH_OUTPUT + '\\ReportePlaya.xlsx', index=False)\n",
    "df_TrafCamBalanza.to_excel(PATH_OUTPUT + '\\TrafCamBalanza.xlsx', index=False)\n",
    "df_Molienda.to_excel(PATH_OUTPUT + '\\Molienda.xlsx', index=False)"
   ]
  },
  {
   "cell_type": "code",
   "execution_count": null,
   "id": "45a8fcee-71a1-4f21-a9c2-97854db12e58",
   "metadata": {},
   "outputs": [],
   "source": []
  },
  {
   "cell_type": "code",
   "execution_count": null,
   "id": "b69fd685-e148-462a-ab40-255b1019891e",
   "metadata": {},
   "outputs": [],
   "source": []
  },
  {
   "cell_type": "code",
   "execution_count": null,
   "id": "9932afc8-a073-4977-8751-314b447d3cea",
   "metadata": {},
   "outputs": [],
   "source": []
  }
 ],
 "metadata": {
  "kernelspec": {
   "display_name": "Python 3 (ipykernel)",
   "language": "python",
   "name": "python3"
  },
  "language_info": {
   "codemirror_mode": {
    "name": "ipython",
    "version": 3
   },
   "file_extension": ".py",
   "mimetype": "text/x-python",
   "name": "python",
   "nbconvert_exporter": "python",
   "pygments_lexer": "ipython3",
   "version": "3.10.13"
  }
 },
 "nbformat": 4,
 "nbformat_minor": 5
}
