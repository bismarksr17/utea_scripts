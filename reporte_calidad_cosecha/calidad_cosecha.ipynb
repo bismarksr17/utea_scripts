{
 "cells": [
  {
   "cell_type": "code",
   "execution_count": 1,
   "id": "7fd9a253-0c2e-4351-8012-b2da988dbd3c",
   "metadata": {},
   "outputs": [],
   "source": [
    "from werkzeug.wrappers import Request, Response\n",
    "#from flask import Flask, render_template\n",
    "from jinja2 import Template\n",
    "\n",
    "#from datetime import date\n",
    "from datetime import datetime, timedelta\n",
    "\n",
    "import collections\n",
    "from amigocloud import AmigoCloud\n",
    "\n",
    "from datetime import datetime\n",
    "\n",
    "from docxtpl import DocxTemplate\n",
    "import docxtpl\n",
    "from docx.shared import Mm\n",
    "import requests\n",
    "\n",
    "from docx2pdf import convert\n",
    "import os"
   ]
  },
  {
   "cell_type": "code",
   "execution_count": 2,
   "id": "5051e422-9fe4-4349-8fcc-4ba4e5f98f0a",
   "metadata": {},
   "outputs": [],
   "source": [
    "# ruta de carpera donde estan las llaves\n",
    "ruta = open('../ruta.txt')\n",
    "ruta = ruta.readlines()[0]"
   ]
  },
  {
   "cell_type": "code",
   "execution_count": 3,
   "id": "440dd6a9-561a-4652-aeaa-ed925b6911ea",
   "metadata": {},
   "outputs": [
    {
     "name": "stderr",
     "output_type": "stream",
     "text": [
      "WARNING:socketIO-client:app.amigocloud.com:443/v2_socket.io/socket.io [connection error] recv disconnected by SSL ([SSL: SSLV3_ALERT_BAD_RECORD_MAC] sslv3 alert bad record mac (_ssl.c:2570))\n",
      "WARNING:socketIO-client:app.amigocloud.com:443/v2_socket.io/socket.io [connection error] recv disconnected ([WinError 10035] A non-blocking socket operation could not be completed immediately)\n"
     ]
    },
    {
     "data": {
      "text/plain": [
       "<amigocloud.amigocloud.AmigoCloud at 0x1beabd20848>"
      ]
     },
     "execution_count": 3,
     "metadata": {},
     "output_type": "execute_result"
    }
   ],
   "source": [
    "# leer token\n",
    "acceso = open(ruta + '/_keys/api_amigocloud.key','r')\n",
    "api_token = acceso.readlines()[0]\n",
    "acceso.close()\n",
    "amigocloud = AmigoCloud(token=api_token)\n",
    "amigocloud"
   ]
  },
  {
   "cell_type": "code",
   "execution_count": 7,
   "id": "cdddd69e-136b-4936-9d68-e1b7dca7e096",
   "metadata": {},
   "outputs": [],
   "source": [
    "fecha = '2023-05-08'"
   ]
  },
  {
   "cell_type": "code",
   "execution_count": 12,
   "id": "fd33cf7e-803d-43d7-8607-4b9cdb13b412",
   "metadata": {},
   "outputs": [],
   "source": [
    "query_dia = {'query': 'select * from dataset_291595 where date(fecha_registro) = \\'{fech}\\''.format(fech=fecha)}\n",
    "project = 'https://app.amigocloud.com/api/v1/projects/31805/sql'\n",
    "select_dia = amigocloud.get(project, query_dia)\n",
    "data_dia = select_dia['data'][]\n",
    "#data_dia['fecha_registro'] = datetime.strptime(data_dia['fecha_registro'][0:10], '%Y-%m-%d').strftime('%d/%m/%Y')\n",
    "#data_dia"
   ]
  },
  {
   "cell_type": "code",
   "execution_count": null,
   "id": "b7c79a1e-b6bd-4a5a-8c42-36fee8ffdf0d",
   "metadata": {},
   "outputs": [],
   "source": []
  },
  {
   "cell_type": "code",
   "execution_count": null,
   "id": "497d2f10-8545-463e-9217-aa79aa27703e",
   "metadata": {},
   "outputs": [],
   "source": []
  },
  {
   "cell_type": "code",
   "execution_count": null,
   "id": "0c53049c-377e-4f12-ada6-6d69f934b420",
   "metadata": {},
   "outputs": [],
   "source": []
  },
  {
   "cell_type": "code",
   "execution_count": null,
   "id": "b59fe52d-1399-4ed2-bce4-81a9cb9b305f",
   "metadata": {},
   "outputs": [],
   "source": []
  },
  {
   "cell_type": "code",
   "execution_count": 43,
   "id": "32f3bbe0-7a69-4014-9bfd-701abdf8de42",
   "metadata": {},
   "outputs": [],
   "source": [
    "id_insp = 2\n",
    "# DATOS DE LAS INPECCION\n",
    "query = {'query': 'select * from dataset_291595 where id={id}'.format(id=id_insp)}\n",
    "project = 'https://app.amigocloud.com/api/v1/projects/31805/sql'\n",
    "select = amigocloud.get(project, query)\n",
    "data = select['data'][0]\n",
    "\n",
    "# convertir fecha a formato dd/mm/aaaa\n",
    "data['fecha_registro'] = datetime.strptime(data['fecha_registro'][0:10], '%Y-%m-%d').strftime('%d/%m/%Y')\n",
    "insp = collections.namedtuple(\"insp\", data.keys())(*data.values())"
   ]
  },
  {
   "cell_type": "code",
   "execution_count": 44,
   "id": "23101230-39d1-4cc4-8480-bfd6d2284001",
   "metadata": {},
   "outputs": [
    {
     "data": {
      "text/plain": [
       "insp(fecha_registro='09/05/2023', amigo_id='9aa11d40fb3d41e1be7b60054ef10c77', ubicacion='0101000020E61000008F37F92D3A954FC066D2F077394631C0', canhero='388 / AGROPECUARIA MARIANA S.R.L.', propiedad='19 / SANTA BARBARA', lote='L28.1', area=12.7331063169, textura='FY', variedad='SP 83-5073', repeticiones=None, responsable='Juan Pablo Jaldin', observaciones='El operador está dando un mal uso del desputador y corte de base debido a la velocidad alta está dejando los tocones astillados se va a orientar al operador ', id=2, tipo_cosecha='MECANISADA')"
      ]
     },
     "execution_count": 44,
     "metadata": {},
     "output_type": "execute_result"
    }
   ],
   "source": [
    "insp"
   ]
  },
  {
   "cell_type": "code",
   "execution_count": 45,
   "id": "a2b35ca5-9347-4164-9a73-8c75aa20f6b8",
   "metadata": {},
   "outputs": [],
   "source": [
    "# DATOS DE MUESTRAS\n",
    "query = {'query': 'select * from dataset_291604 where calidad_ref_muestra=\\'{amigo_id}\\''.format(amigo_id=insp.amigo_id)}\n",
    "project = 'https://app.amigocloud.com/api/v1/projects/31805/sql'\n",
    "select = amigocloud.get(project, query)\n",
    "data = select['data']"
   ]
  },
  {
   "cell_type": "code",
   "execution_count": 46,
   "id": "a9a11d5d-d42c-4abd-9ae6-94aeb26e0392",
   "metadata": {},
   "outputs": [],
   "source": [
    "muestras =[]\n",
    "for i in data:\n",
    "    muestra = collections.namedtuple(\"muestra\", i.keys())(*i.values())\n",
    "    muestras.append(muestra)"
   ]
  },
  {
   "cell_type": "code",
   "execution_count": 47,
   "id": "04a0e627-beb3-4626-8260-6d6eba634e5c",
   "metadata": {},
   "outputs": [
    {
     "data": {
      "text/plain": [
       "[muestra(fecha_registro='2023-05-09 19:57:41+00:00', amigo_id='49a7b4ac30ad45c3b982cc4dfa245f17', punto='0101000020E6100000D698C6E52E954FC038899C19584631C0', nombre_muestra='M1', astillas=0.0, tocon=0.0, punta=4.9, canha_corta=0.0, canha_larga=0.0, arranquio_de_cepa=0.0, estimacion_promedio=90.0, total_perdida=4.9, obs='Solo perdida de punta ', calidad_ref_muestra='9aa11d40fb3d41e1be7b60054ef10c77'),\n",
       " muestra(fecha_registro='2023-05-09 20:03:58+00:00', amigo_id='4fd08a7c1cb242b2bed4b5fbdff2cac0', punto='0101000020E61000008BC7FB276E954FC0DDB42AD3794631C0', nombre_muestra='M2', astillas=0.0, tocon=0.0, punta=5.0, canha_corta=0.0, canha_larga=0.0, arranquio_de_cepa=0.0, estimacion_promedio=90.0, total_perdida=5.0, obs='Alta perdida de punta ', calidad_ref_muestra='9aa11d40fb3d41e1be7b60054ef10c77')]"
      ]
     },
     "execution_count": 47,
     "metadata": {},
     "output_type": "execute_result"
    }
   ],
   "source": [
    "muestras"
   ]
  },
  {
   "cell_type": "code",
   "execution_count": 38,
   "id": "a6c3a46d-c40d-4434-8e02-ae8d70ea621f",
   "metadata": {},
   "outputs": [
    {
     "name": "stdout",
     "output_type": "stream",
     "text": [
      "{'nombre_muestra': 'M1', 's3_filename': 'IMG_20230509_155825.jpg'}\n",
      "{'nombre_muestra': 'M2', 's3_filename': '41829_20230509160528645.jpg'}\n"
     ]
    }
   ],
   "source": [
    "# fotos patos para muestras\n",
    "fotos = []\n",
    "for i in muestras:\n",
    "    query = {'query': 'select muestra.nombre_muestra, gal.s3_filename from dataset_291604 muestra inner join gallery_41829 gal on muestra.amigo_id = gal.source_amigo_id where muestra.amigo_id=\\'{amigo_id}\\''.format(amigo_id=i.amigo_id)}\n",
    "    project = 'https://app.amigocloud.com/api/v1/projects/31805/sql'\n",
    "    select = amigocloud.get(project, query)\n",
    "    data = select['data'][0]\n",
    "    fotos.append(data)\n",
    "    print(data)"
   ]
  },
  {
   "cell_type": "code",
   "execution_count": 41,
   "id": "35dab8c7-8391-4f52-b0e8-acc0a7f1c220",
   "metadata": {},
   "outputs": [
    {
     "data": {
      "text/plain": [
       "[{'nombre_muestra': 'M1', 's3_filename': 'IMG_20230509_155825.jpg'},\n",
       " {'nombre_muestra': 'M2', 's3_filename': '41829_20230509160528645.jpg'}]"
      ]
     },
     "execution_count": 41,
     "metadata": {},
     "output_type": "execute_result"
    }
   ],
   "source": [
    "fotos"
   ]
  },
  {
   "cell_type": "code",
   "execution_count": null,
   "id": "4fbc2485-6c59-4b53-b768-5c8a805fb788",
   "metadata": {},
   "outputs": [],
   "source": []
  },
  {
   "cell_type": "code",
   "execution_count": null,
   "id": "026b0ae6-392e-449f-b9d2-b50189d5e602",
   "metadata": {},
   "outputs": [],
   "source": [
    "doc = DocxTemplate(ruta + \"/templates/tpl_word_1ra.docx\")"
   ]
  },
  {
   "cell_type": "code",
   "execution_count": 42,
   "id": "138b6c70-20b1-4090-8cf3-51355d9c6791",
   "metadata": {},
   "outputs": [
    {
     "ename": "NameError",
     "evalue": "name 'doc' is not defined",
     "output_type": "error",
     "traceback": [
      "\u001b[1;31m---------------------------------------------------------------------------\u001b[0m",
      "\u001b[1;31mNameError\u001b[0m                                 Traceback (most recent call last)",
      "\u001b[1;32m~\\AppData\\Local\\Temp\\ipykernel_5764\\4205478349.py\u001b[0m in \u001b[0;36m<module>\u001b[1;34m\u001b[0m\n\u001b[0;32m      5\u001b[0m     \u001b[0mfile\u001b[0m\u001b[1;33m.\u001b[0m\u001b[0mwrite\u001b[0m\u001b[1;33m(\u001b[0m\u001b[0mresponse\u001b[0m\u001b[1;33m.\u001b[0m\u001b[0mcontent\u001b[0m\u001b[1;33m)\u001b[0m\u001b[1;33m\u001b[0m\u001b[1;33m\u001b[0m\u001b[0m\n\u001b[0;32m      6\u001b[0m     \u001b[0mfile\u001b[0m\u001b[1;33m.\u001b[0m\u001b[0mclose\u001b[0m\u001b[1;33m(\u001b[0m\u001b[1;33m)\u001b[0m\u001b[1;33m\u001b[0m\u001b[1;33m\u001b[0m\u001b[0m\n\u001b[1;32m----> 7\u001b[1;33m     \u001b[0mlista_fotos_inline\u001b[0m\u001b[1;33m.\u001b[0m\u001b[0mappend\u001b[0m\u001b[1;33m(\u001b[0m\u001b[1;33m{\u001b[0m\u001b[1;34m'foto'\u001b[0m\u001b[1;33m:\u001b[0m \u001b[0mdocxtpl\u001b[0m\u001b[1;33m.\u001b[0m\u001b[0mInlineImage\u001b[0m\u001b[1;33m(\u001b[0m\u001b[0mdoc\u001b[0m\u001b[1;33m,\u001b[0m \u001b[0mimage_descriptor\u001b[0m\u001b[1;33m=\u001b[0m\u001b[0mruta\u001b[0m\u001b[1;33m+\u001b[0m\u001b[1;34m'/fotos/'\u001b[0m \u001b[1;33m+\u001b[0m \u001b[0mfoto\u001b[0m\u001b[1;33m[\u001b[0m\u001b[1;34m'file_name'\u001b[0m\u001b[1;33m]\u001b[0m\u001b[1;33m,\u001b[0m \u001b[0mwidth\u001b[0m\u001b[1;33m=\u001b[0m\u001b[0mMm\u001b[0m\u001b[1;33m(\u001b[0m\u001b[1;36m120\u001b[0m\u001b[1;33m)\u001b[0m\u001b[1;33m)\u001b[0m\u001b[1;33m,\u001b[0m \u001b[1;34m'lote'\u001b[0m\u001b[1;33m:\u001b[0m \u001b[0mfoto\u001b[0m\u001b[1;33m[\u001b[0m\u001b[1;34m'lote'\u001b[0m\u001b[1;33m]\u001b[0m\u001b[1;33m}\u001b[0m\u001b[1;33m)\u001b[0m\u001b[1;33m\u001b[0m\u001b[1;33m\u001b[0m\u001b[0m\n\u001b[0m",
      "\u001b[1;31mNameError\u001b[0m: name 'doc' is not defined"
     ]
    }
   ],
   "source": [
    "lista_fotos_inline = []\n",
    "for foto in fotos:\n",
    "    response = requests.get(\"https://www-amigocloud.s3.amazonaws.com/gallery/\" + foto['s3_filename'])\n",
    "    file = open(ruta + '/fotos/' + foto['s3_filename'], \"wb\")\n",
    "    file.write(response.content)\n",
    "    file.close()\n",
    "    lista_fotos_inline.append({'foto': docxtpl.InlineImage(doc, image_descriptor=ruta+'/fotos/' + foto['file_name'], width=Mm(120)), 'lote': foto['lote']})"
   ]
  },
  {
   "cell_type": "code",
   "execution_count": null,
   "id": "cfaac411-5a37-4975-91a1-aa6d89d45786",
   "metadata": {},
   "outputs": [],
   "source": []
  },
  {
   "cell_type": "code",
   "execution_count": null,
   "id": "920b42fd-1033-4d57-9b85-f4fbaba1bc13",
   "metadata": {},
   "outputs": [],
   "source": []
  },
  {
   "cell_type": "code",
   "execution_count": null,
   "id": "fbe7f603-8c1d-45b6-ae4d-ee27ea39c4da",
   "metadata": {},
   "outputs": [],
   "source": []
  },
  {
   "cell_type": "code",
   "execution_count": null,
   "id": "271fe3c1-c148-40c9-8f9b-313b28d0d051",
   "metadata": {},
   "outputs": [],
   "source": []
  },
  {
   "cell_type": "code",
   "execution_count": null,
   "id": "9aafad56-4536-4fa0-b7d5-fcecc0f53460",
   "metadata": {},
   "outputs": [],
   "source": []
  },
  {
   "cell_type": "code",
   "execution_count": null,
   "id": "43525380-13ea-4432-b484-1bd95c1f2678",
   "metadata": {},
   "outputs": [],
   "source": []
  },
  {
   "cell_type": "code",
   "execution_count": null,
   "id": "9b8390a1-6faf-4b30-a565-d2bea5c39637",
   "metadata": {},
   "outputs": [],
   "source": []
  },
  {
   "cell_type": "code",
   "execution_count": null,
   "id": "0ae19011-b881-4b77-b52b-b6fdecb8b0ac",
   "metadata": {},
   "outputs": [],
   "source": []
  }
 ],
 "metadata": {
  "kernelspec": {
   "display_name": "Python 3 (ipykernel)",
   "language": "python",
   "name": "python3"
  },
  "language_info": {
   "codemirror_mode": {
    "name": "ipython",
    "version": 3
   },
   "file_extension": ".py",
   "mimetype": "text/x-python",
   "name": "python",
   "nbconvert_exporter": "python",
   "pygments_lexer": "ipython3",
   "version": "3.7.16"
  }
 },
 "nbformat": 4,
 "nbformat_minor": 5
}
