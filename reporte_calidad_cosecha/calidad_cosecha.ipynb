{
 "cells": [
  {
   "cell_type": "code",
   "execution_count": 1,
   "id": "7fd9a253-0c2e-4351-8012-b2da988dbd3c",
   "metadata": {},
   "outputs": [],
   "source": [
    "from werkzeug.wrappers import Request, Response\n",
    "#from flask import Flask, render_template\n",
    "from jinja2 import Template\n",
    "\n",
    "#from datetime import date\n",
    "from datetime import datetime, timedelta\n",
    "\n",
    "import collections\n",
    "from amigocloud import AmigoCloud\n",
    "\n",
    "from docxtpl import DocxTemplate\n",
    "import docxtpl\n",
    "from docx.shared import Mm\n",
    "import requests\n",
    "\n",
    "from docx2pdf import convert\n",
    "import os\n",
    "\n",
    "import pandas as pd\n",
    "import json"
   ]
  },
  {
   "cell_type": "code",
   "execution_count": 2,
   "id": "5051e422-9fe4-4349-8fcc-4ba4e5f98f0a",
   "metadata": {},
   "outputs": [],
   "source": [
    "# ruta de carpera donde estan las llaves\n",
    "ruta = open('../ruta.txt')\n",
    "ruta = ruta.readlines()[0]"
   ]
  },
  {
   "cell_type": "code",
   "execution_count": 3,
   "id": "440dd6a9-561a-4652-aeaa-ed925b6911ea",
   "metadata": {},
   "outputs": [
    {
     "name": "stderr",
     "output_type": "stream",
     "text": [
      "WARNING:socketIO-client:app.amigocloud.com:443/v2_socket.io/socket.io [connection error] recv disconnected ([Errno 2] No such file or directory)\n"
     ]
    },
    {
     "data": {
      "text/plain": [
       "<amigocloud.amigocloud.AmigoCloud at 0x239e5828bc8>"
      ]
     },
     "execution_count": 3,
     "metadata": {},
     "output_type": "execute_result"
    }
   ],
   "source": [
    "# leer token\n",
    "acceso = open(ruta + '/_keys/api_amigocloud.key','r')\n",
    "api_token = acceso.readlines()[0]\n",
    "acceso.close()\n",
    "amigocloud = AmigoCloud(token=api_token)\n",
    "amigocloud"
   ]
  },
  {
   "cell_type": "code",
   "execution_count": 4,
   "id": "345cd657-523e-43e5-9200-3f18d973ab1d",
   "metadata": {},
   "outputs": [],
   "source": [
    "fecha = '2023-06-02'"
   ]
  },
  {
   "cell_type": "code",
   "execution_count": 5,
   "id": "b59fe52d-1399-4ed2-bce4-81a9cb9b305f",
   "metadata": {},
   "outputs": [
    {
     "data": {
      "text/plain": [
       "[{'id': 32, 'canhero': '10380 / PAICHUCAMA CACERES JOSE FELIX'},\n",
       " {'id': 33, 'canhero': '9850 / OVANDO HUALLPA TIBURCIO'},\n",
       " {'id': 34, 'canhero': '41823 / VARGAS MAMANI JOSUE'}]"
      ]
     },
     "execution_count": 5,
     "metadata": {},
     "output_type": "execute_result"
    }
   ],
   "source": [
    "query_insp = {'query': 'select id, canhero from dataset_291595 where date(fecha_registro)=\\'{fech}\\''.format(fech=fecha)}\n",
    "project = 'https://app.amigocloud.com/api/v1/projects/31805/sql'\n",
    "select_insp = amigocloud.get(project, query_insp)\n",
    "data_insp = select_insp['data']\n",
    "data_insp"
   ]
  },
  {
   "cell_type": "code",
   "execution_count": 6,
   "id": "047cc927-0fe5-4a44-b352-d77e8b780a42",
   "metadata": {},
   "outputs": [
    {
     "name": "stdout",
     "output_type": "stream",
     "text": [
      "Generando reporte de: 10380 / PAICHUCAMA CACERES JOSE FELIX ................................................\n",
      "{'nombre_muestra': 'M1', 'obs': '.', 's3_filename': '20230602_082348.jpg'}\n",
      "{'nombre_muestra': 'M2', 'obs': '.', 's3_filename': '20230602_082000.jpg'}\n",
      "Trarea terminada.\n",
      "Generando reporte de: 9850 / OVANDO HUALLPA TIBURCIO ................................................\n",
      "{'nombre_muestra': 'M1', 'obs': '.', 's3_filename': '41829_20230602114103786.jpg'}\n",
      "Trarea terminada.\n",
      "Generando reporte de: 41823 / VARGAS MAMANI JOSUE ................................................\n",
      "{'nombre_muestra': 'M1', 'obs': 'El despunte en el aire, se observa poca materia extraña ', 's3_filename': '20230602_121008.jpg'}\n",
      "Trarea terminada.\n",
      "END==============================================\n"
     ]
    }
   ],
   "source": [
    "for j in data_insp:\n",
    "    id_insp = j['id']\n",
    "    print('Generando reporte de:', j['canhero'], '................................................')\n",
    "    # SELECT DATOS DE LAS INPECCION\n",
    "    query = {'query': 'select * from dataset_291595 where id={id}'.format(id=id_insp)}\n",
    "    project = 'https://app.amigocloud.com/api/v1/projects/31805/sql'\n",
    "    select = amigocloud.get(project, query)\n",
    "    data = select['data'][0]\n",
    "    # convertir fecha a formato dd/mm/aaaa\n",
    "    data['fecha_registro'] = datetime.strptime(data['fecha_registro'][0:10], '%Y-%m-%d').strftime('%d/%m/%Y')\n",
    "    # convertir la insp en fecha\n",
    "    insp = collections.namedtuple(\"insp\", data.keys())(*data.values())\n",
    "    \n",
    "    # DATOS DE MUESTRAS\n",
    "    query = {'query': 'select * from dataset_291604 where calidad_ref_muestra=\\'{amigo_id}\\''.format(amigo_id=insp.amigo_id)}\n",
    "    project = 'https://app.amigocloud.com/api/v1/projects/31805/sql'\n",
    "    select = amigocloud.get(project, query)\n",
    "    data = select['data']\n",
    "    # se recorre las muestras para crear un obj y agregarlo a una lista\n",
    "    muestras =[]\n",
    "    for i in data:\n",
    "        # se conviente a entrero\n",
    "        i['arranquio_de_cepa'] = int(i['arranquio_de_cepa'])\n",
    "        muestra = collections.namedtuple(\"muestra\", i.keys())(*i.values())\n",
    "        muestras.append(muestra)\n",
    "    \n",
    "    # CALCUALR PROMEDIO DE PESOS\n",
    "    keys_to_average = ['astillas', 'tocon', 'punta', 'canha_corta', 'canha_larga', 'arranquio_de_cepa', 'estimacion_promedio']\n",
    "    promedio = {}\n",
    "    for key in keys_to_average:\n",
    "        total = sum([item[key] for item in data])\n",
    "        average = total / len(data)\n",
    "        promedio[key] = average\n",
    "    promedio['perdida_total'] = promedio['astillas'] + promedio['tocon'] + promedio['punta'] + promedio['canha_corta'] + promedio['canha_larga']\n",
    "    promedio['perdida_porcen'] = (promedio['perdida_total'] / promedio['estimacion_promedio'])*100\n",
    "    promedio['arranquio_de_cepa'] = int(promedio['arranquio_de_cepa'])\n",
    "    promedio_muestras = collections.namedtuple(\"promedio\", promedio.keys())(*promedio.values())\n",
    "    \n",
    "    # SE EXTRAE LOS DATOS DE LAS FOTOS EXISTENTES EN LAS MUESTAS\n",
    "    fotos = []\n",
    "    for i in muestras:\n",
    "        query = {'query': 'select muestra.nombre_muestra, muestra.obs, gal.s3_filename from dataset_291604 muestra inner join gallery_41829 gal on muestra.amigo_id = gal.source_amigo_id where muestra.amigo_id=\\'{amigo_id}\\''.format(amigo_id=i.amigo_id)}\n",
    "        project = 'https://app.amigocloud.com/api/v1/projects/31805/sql'\n",
    "        select = amigocloud.get(project, query)\n",
    "        if len(select['data'])>0:\n",
    "            data = select['data'][0]\n",
    "        else:\n",
    "            continue\n",
    "        #data = select['data'][0]\n",
    "        fotos.append(data)\n",
    "        print(data)\n",
    "    \n",
    "    # SE INSTANCIA AL TEMPLATE\n",
    "    doc = DocxTemplate(ruta + \"/templates/tpl_rpt_calidad-cosecha.docx\")\n",
    "    \n",
    "    # SE DESCARGAN LAS FOTOS\n",
    "    lista_fotos_inline = []\n",
    "    for foto in fotos:\n",
    "        response = requests.get(\"https://www-amigocloud.s3.amazonaws.com/gallery/\" + foto['s3_filename'])\n",
    "        file = open(ruta + '/fotos/' + foto['s3_filename'], \"wb\")\n",
    "        file.write(response.content)\n",
    "        file.close()\n",
    "        lista_fotos_inline.append({\n",
    "            'foto': docxtpl.InlineImage(doc, image_descriptor=ruta+'/fotos/' + foto['s3_filename'], width=Mm(60)), \n",
    "            'muestra': foto['nombre_muestra'],\n",
    "            'obs':foto['obs']\n",
    "        })\n",
    "    \n",
    "    # SE ESTABLESE LA FIRMA DEL TECNICO\n",
    "    firma_respon = None\n",
    "    if insp.responsable == 'Juan Pablo Jaldin':\n",
    "        firma_respon = docxtpl.InlineImage(doc, image_descriptor=ruta+'/templates/firma_jaldin.png', width=Mm(60))\n",
    "    else:\n",
    "        firma_respon = docxtpl.InlineImage(doc, image_descriptor=ruta+'/templates/firma_rogelio.png', width=Mm(60))\n",
    "    \n",
    "    # NORMBRE DEL ARCHIVO\n",
    "    filename = '/_' + insp.canhero.split(' / ')[0] + '_CDC_' + insp.fecha_registro.replace('/','-') + '_' + insp.canhero.split(' / ')[1] + '_' + str(insp.id) + '.docx'\n",
    "    # CREAR EL CONTEXTO DEL DOC Y CREAR EL DOC\n",
    "    context = {'insp':insp, 'muestras':muestras, 'promedio':promedio_muestras, 'fotos':lista_fotos_inline, 'firma':firma_respon}\n",
    "    doc.render(context)\n",
    "    doc.save(ruta + '/informes' + filename)\n",
    "    print('Trarea terminada.')\n",
    "print('END==============================================')"
   ]
  },
  {
   "cell_type": "markdown",
   "id": "afaea9c3-f492-453b-a980-5e30b4986c3a",
   "metadata": {},
   "source": [
    "## Convertir a PDF"
   ]
  },
  {
   "cell_type": "code",
   "execution_count": 7,
   "id": "98df0b5d-a087-4f3d-bd88-9209377cf33b",
   "metadata": {},
   "outputs": [
    {
     "name": "stdout",
     "output_type": "stream",
     "text": [
      "SE ENCONTRARON 3 INFORMES\n",
      "3 INFORMES\n"
     ]
    },
    {
     "data": {
      "text/plain": [
       "['D:\\\\OneDrive - Ingenio Azucarero Guabira S.A\\\\_DATOS_PYTHON/informes/10380_CDC_02-06-2023_PAICHUCAMA CACERES JOSE FELIX_32.docx',\n",
       " 'D:\\\\OneDrive - Ingenio Azucarero Guabira S.A\\\\_DATOS_PYTHON/informes/41823_CDC_02-06-2023_VARGAS MAMANI JOSUE_34.docx',\n",
       " 'D:\\\\OneDrive - Ingenio Azucarero Guabira S.A\\\\_DATOS_PYTHON/informes/9850_CDC_02-06-2023_OVANDO HUALLPA TIBURCIO_33.docx']"
      ]
     },
     "execution_count": 7,
     "metadata": {},
     "output_type": "execute_result"
    }
   ],
   "source": [
    "path = r'' + ruta + '/informes'\n",
    "contenido = os.listdir(path)\n",
    "rutas =[]\n",
    "i = 0\n",
    "for name in contenido:\n",
    "    rutas.append(path + '/' + name)\n",
    "    i+=1\n",
    "\n",
    "print('SE ENCONTRARON ' + str(i) + ' INFORMES')\n",
    "print(len(rutas), 'INFORMES')\n",
    "rutas"
   ]
  },
  {
   "cell_type": "code",
   "execution_count": 8,
   "id": "d488abb2-db78-4d44-9afb-a8400a9d78f7",
   "metadata": {},
   "outputs": [
    {
     "name": "stdout",
     "output_type": "stream",
     "text": [
      "CONVIRTIENDO... INFORME 1 D:\\OneDrive - Ingenio Azucarero Guabira S.A\\_DATOS_PYTHON/informes/10380_CDC_02-06-2023_PAICHUCAMA CACERES JOSE FELIX_32.docx\n",
      "D:\\OneDrive - Ingenio Azucarero Guabira S.A\\_DATOS_PYTHON/informes/10380_CDC_02-06-2023_PAICHUCAMA CACERES JOSE FELIX_32.docx\n",
      "D:\\OneDrive - Ingenio Azucarero Guabira S.A\\_DATOS_PYTHON/pdfs/10380_CDC_02-06-2023_PAICHUCAMA CACERES JOSE FELIX_32.pdf\n"
     ]
    },
    {
     "data": {
      "application/vnd.jupyter.widget-view+json": {
       "model_id": "c514094b2d524afdae2134e4a6a37806",
       "version_major": 2,
       "version_minor": 0
      },
      "text/plain": [
       "  0%|          | 0/1 [00:00<?, ?it/s]"
      ]
     },
     "metadata": {},
     "output_type": "display_data"
    },
    {
     "name": "stdout",
     "output_type": "stream",
     "text": [
      "CONVIRTIENDO... INFORME 2 D:\\OneDrive - Ingenio Azucarero Guabira S.A\\_DATOS_PYTHON/informes/41823_CDC_02-06-2023_VARGAS MAMANI JOSUE_34.docx\n",
      "D:\\OneDrive - Ingenio Azucarero Guabira S.A\\_DATOS_PYTHON/informes/41823_CDC_02-06-2023_VARGAS MAMANI JOSUE_34.docx\n",
      "D:\\OneDrive - Ingenio Azucarero Guabira S.A\\_DATOS_PYTHON/pdfs/41823_CDC_02-06-2023_VARGAS MAMANI JOSUE_34.pdf\n"
     ]
    },
    {
     "data": {
      "application/vnd.jupyter.widget-view+json": {
       "model_id": "acbff36f01b64b1a99a8f6575f51fb5f",
       "version_major": 2,
       "version_minor": 0
      },
      "text/plain": [
       "  0%|          | 0/1 [00:00<?, ?it/s]"
      ]
     },
     "metadata": {},
     "output_type": "display_data"
    },
    {
     "name": "stdout",
     "output_type": "stream",
     "text": [
      "CONVIRTIENDO... INFORME 3 D:\\OneDrive - Ingenio Azucarero Guabira S.A\\_DATOS_PYTHON/informes/9850_CDC_02-06-2023_OVANDO HUALLPA TIBURCIO_33.docx\n",
      "D:\\OneDrive - Ingenio Azucarero Guabira S.A\\_DATOS_PYTHON/informes/9850_CDC_02-06-2023_OVANDO HUALLPA TIBURCIO_33.docx\n",
      "D:\\OneDrive - Ingenio Azucarero Guabira S.A\\_DATOS_PYTHON/pdfs/9850_CDC_02-06-2023_OVANDO HUALLPA TIBURCIO_33.pdf\n"
     ]
    },
    {
     "data": {
      "application/vnd.jupyter.widget-view+json": {
       "model_id": "d7bde99b26d14086a8afa000664d199c",
       "version_major": 2,
       "version_minor": 0
      },
      "text/plain": [
       "  0%|          | 0/1 [00:00<?, ?it/s]"
      ]
     },
     "metadata": {},
     "output_type": "display_data"
    },
    {
     "name": "stdout",
     "output_type": "stream",
     "text": [
      "END\n"
     ]
    }
   ],
   "source": [
    "i = 1\n",
    "for filename in rutas:\n",
    "    print('CONVIRTIENDO... INFORME ' + str(i) + ' ' + filename)\n",
    "    # se realiza la convrsion pasando parametro de salida y entrada, \n",
    "    # para la salida se reemplaza la extencion y la ruta\n",
    "    print(filename)\n",
    "    print(filename.replace('.docx','.pdf').replace('informes','pdfs'))\n",
    "    pdf = filename.replace('.docx','.pdf').replace('informes','pdfs').split('/')[-1]\n",
    "    convert(filename, r'D:\\OneDrive - Ingenio Azucarero Guabira S.A\\_DATOS_PYTHON\\pdf\\\\' + pdf)\n",
    "    i+=1\n",
    "print('END')"
   ]
  },
  {
   "cell_type": "markdown",
   "id": "8dfa5061-fff6-47f0-a2dc-b0566dc9e075",
   "metadata": {},
   "source": [
    "## Cargar a DRIVE"
   ]
  },
  {
   "cell_type": "code",
   "execution_count": null,
   "id": "b0db9407-902f-49e8-936d-95106fff239b",
   "metadata": {},
   "outputs": [],
   "source": []
  },
  {
   "cell_type": "code",
   "execution_count": null,
   "id": "930e7e11-00c7-4cfe-bb4b-995515972bee",
   "metadata": {},
   "outputs": [],
   "source": []
  },
  {
   "cell_type": "code",
   "execution_count": null,
   "id": "cee05948-d483-4e7f-a21f-6382848ff077",
   "metadata": {},
   "outputs": [],
   "source": []
  }
 ],
 "metadata": {
  "kernelspec": {
   "display_name": "Python 3 (ipykernel)",
   "language": "python",
   "name": "python3"
  },
  "language_info": {
   "codemirror_mode": {
    "name": "ipython",
    "version": 3
   },
   "file_extension": ".py",
   "mimetype": "text/x-python",
   "name": "python",
   "nbconvert_exporter": "python",
   "pygments_lexer": "ipython3",
   "version": "3.7.16"
  }
 },
 "nbformat": 4,
 "nbformat_minor": 5
}
