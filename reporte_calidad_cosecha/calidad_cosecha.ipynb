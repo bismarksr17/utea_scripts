{
 "cells": [
  {
   "cell_type": "code",
   "execution_count": 1,
   "id": "7fd9a253-0c2e-4351-8012-b2da988dbd3c",
   "metadata": {
    "tags": []
   },
   "outputs": [],
   "source": [
    "import sys\n",
    "sys.path.append('../_amigocloud')\n",
    "\n",
    "from werkzeug.wrappers import Request, Response\n",
    "#from flask import Flask, render_template\n",
    "from jinja2 import Template\n",
    "\n",
    "#from datetime import date\n",
    "from datetime import datetime, timedelta\n",
    "\n",
    "import collections\n",
    "from amigocloud import AmigoCloud\n",
    "\n",
    "from docxtpl import DocxTemplate\n",
    "import docxtpl\n",
    "from docx.shared import Mm\n",
    "import requests\n",
    "\n",
    "#from docx2pdf import convert\n",
    "import os\n",
    "\n",
    "import pandas as pd\n",
    "import json"
   ]
  },
  {
   "cell_type": "code",
   "execution_count": 2,
   "id": "5051e422-9fe4-4349-8fcc-4ba4e5f98f0a",
   "metadata": {
    "tags": []
   },
   "outputs": [],
   "source": [
    "# ruta de carpera donde estan las llaves\n",
    "ruta = open('../ruta.txt')\n",
    "ruta = ruta.readlines()[0]"
   ]
  },
  {
   "cell_type": "code",
   "execution_count": 3,
   "id": "440dd6a9-561a-4652-aeaa-ed925b6911ea",
   "metadata": {
    "tags": []
   },
   "outputs": [
    {
     "data": {
      "text/plain": [
       "<amigocloud.AmigoCloud at 0x260a9c69d80>"
      ]
     },
     "execution_count": 3,
     "metadata": {},
     "output_type": "execute_result"
    }
   ],
   "source": [
    "# leer token\n",
    "acceso = open(ruta + '/_keys/api_amigocloud.key','r')\n",
    "api_token = acceso.readlines()[0]\n",
    "acceso.close()\n",
    "amigocloud = AmigoCloud(token=api_token)\n",
    "amigocloud"
   ]
  },
  {
   "cell_type": "code",
   "execution_count": 4,
   "id": "345cd657-523e-43e5-9200-3f18d973ab1d",
   "metadata": {
    "tags": []
   },
   "outputs": [],
   "source": [
    "fecha = '2024-05-30'"
   ]
  },
  {
   "cell_type": "code",
   "execution_count": 5,
   "id": "b59fe52d-1399-4ed2-bce4-81a9cb9b305f",
   "metadata": {
    "tags": []
   },
   "outputs": [
    {
     "data": {
      "text/plain": [
       "[{'id': 166, 'canhero': '794 / AGUILERA WENDE MARIANO'},\n",
       " {'id': 167, 'canhero': '794 / AGUILERA WENDE MARIANO'},\n",
       " {'id': 165, 'canhero': '794 / AGUILERA WENDE MARIANO'},\n",
       " {'id': 164, 'canhero': '794 / AGUILERA WENDE MARIANO'}]"
      ]
     },
     "execution_count": 5,
     "metadata": {},
     "output_type": "execute_result"
    }
   ],
   "source": [
    "query_insp = {'query': 'select id, canhero from dataset_291595 where date(fecha_registro)=\\'{fech}\\''.format(fech=fecha)}\n",
    "project = 'https://app.amigocloud.com/api/v1/projects/31805/sql'\n",
    "select_insp = amigocloud.get(project, query_insp)\n",
    "data_insp = select_insp['data']\n",
    "data_insp"
   ]
  },
  {
   "cell_type": "code",
   "execution_count": 6,
   "id": "cd9616a6-5b49-4ca2-9b01-83fa26c63bca",
   "metadata": {},
   "outputs": [],
   "source": [
    "data_insp = [{'id': 154, 'canhero': '2794 / DELGADILLO RODRIGUEZ JUAN CARLOS'}]"
   ]
  },
  {
   "cell_type": "code",
   "execution_count": 7,
   "id": "047cc927-0fe5-4a44-b352-d77e8b780a42",
   "metadata": {
    "tags": []
   },
   "outputs": [
    {
     "name": "stdout",
     "output_type": "stream",
     "text": [
      "Generando reporte de: 794 / AGUILERA WENDE MARIANO ................................................\n",
      "{'nombre_muestra': 'M1', 'obs': 'Perdida', 's3_filename': 'IMG-20240530-WA0024.jpg'}\n",
      "{'nombre_muestra': 'M2', 'obs': 'Perdida', 's3_filename': 'IMG-20240530-WA0025.jpg'}\n",
      "Trarea terminada.\n",
      "Generando reporte de: 794 / AGUILERA WENDE MARIANO ................................................\n",
      "{'nombre_muestra': 'M1', 'obs': 'Perdida', 's3_filename': 'IMG-20240530-WA0026.jpg'}\n",
      "{'nombre_muestra': 'M2', 'obs': 'Pardida', 's3_filename': 'IMG-20240530-WA0032.jpg'}\n",
      "Trarea terminada.\n",
      "Generando reporte de: 794 / AGUILERA WENDE MARIANO ................................................\n",
      "{'nombre_muestra': 'M2', 'obs': 'Perdida', 's3_filename': 'IMG-20240530-WA0034.jpg'}\n",
      "{'nombre_muestra': 'M1', 'obs': 'Perdida', 's3_filename': 'IMG-20240530-WA0033.jpg'}\n",
      "Trarea terminada.\n",
      "Generando reporte de: 794 / AGUILERA WENDE MARIANO ................................................\n",
      "{'nombre_muestra': 'M1', 'obs': 'Poca perdida ', 's3_filename': 'IMG-20240530-WA0031.jpg'}\n",
      "{'nombre_muestra': 'M2', 'obs': 'Perdida', 's3_filename': 'IMG-20240530-WA0030.jpg'}\n",
      "Trarea terminada.\n",
      "END==============================================\n"
     ]
    }
   ],
   "source": [
    "for j in data_insp:\n",
    "    id_insp = j['id']\n",
    "    print('Generando reporte de:', j['canhero'], '................................................')\n",
    "    # SELECT DATOS DE LAS INPECCION\n",
    "    query = {'query': 'select * from dataset_291595 where id={id}'.format(id=id_insp)}\n",
    "    project = 'https://app.amigocloud.com/api/v1/projects/31805/sql'\n",
    "    select = amigocloud.get(project, query)\n",
    "    data = select['data'][0]\n",
    "    # convertir fecha a formato dd/mm/aaaa\n",
    "    data['fecha_registro'] = datetime.strptime(data['fecha_registro'][0:10], '%Y-%m-%d').strftime('%d/%m/%Y')\n",
    "    # convertir la insp en fecha\n",
    "    insp = collections.namedtuple(\"insp\", data.keys())(*data.values())\n",
    "    \n",
    "    # DATOS DE MUESTRAS\n",
    "    query = {'query': 'select * from dataset_291604 where calidad_ref_muestra=\\'{amigo_id}\\''.format(amigo_id=insp.amigo_id)}\n",
    "    project = 'https://app.amigocloud.com/api/v1/projects/31805/sql'\n",
    "    select = amigocloud.get(project, query)\n",
    "    data = select['data']\n",
    "    # se recorre las muestras para crear un obj y agregarlo a una lista\n",
    "    muestras =[]\n",
    "    for i in data:\n",
    "        # se conviente a entrero\n",
    "        i['arranquio_de_cepa'] = int(i['arranquio_de_cepa'])\n",
    "        muestra = collections.namedtuple(\"muestra\", i.keys())(*i.values())\n",
    "        muestras.append(muestra)\n",
    "    \n",
    "    # CALCUALR PROMEDIO DE PESOS\n",
    "    keys_to_average = ['astillas', 'tocon', 'punta', 'canha_corta', 'canha_larga', 'arranquio_de_cepa', 'estimacion_promedio']\n",
    "    promedio = {}\n",
    "    for key in keys_to_average:\n",
    "        total = sum([item[key] for item in data])\n",
    "        average = total / len(data)\n",
    "        promedio[key] = average\n",
    "    promedio['perdida_total'] = promedio['astillas'] + promedio['tocon'] + promedio['punta'] + promedio['canha_corta'] + promedio['canha_larga']\n",
    "    promedio['perdida_porcen'] = (promedio['perdida_total'] / promedio['estimacion_promedio'])*100\n",
    "    promedio['arranquio_de_cepa'] = int(promedio['arranquio_de_cepa'])\n",
    "    promedio_muestras = collections.namedtuple(\"promedio\", promedio.keys())(*promedio.values())\n",
    "    \n",
    "    # SE EXTRAE LOS DATOS DE LAS FOTOS EXISTENTES EN LAS MUESTAS\n",
    "    fotos = []\n",
    "    for i in muestras:\n",
    "        query = {'query': 'select muestra.nombre_muestra, muestra.obs, gal.s3_filename from dataset_291604 muestra inner join gallery_41829 gal on muestra.amigo_id = gal.source_amigo_id where muestra.amigo_id=\\'{amigo_id}\\''.format(amigo_id=i.amigo_id)}\n",
    "        project = 'https://app.amigocloud.com/api/v1/projects/31805/sql'\n",
    "        select = amigocloud.get(project, query)\n",
    "        if len(select['data'])>0:\n",
    "            data = select['data'][0]\n",
    "        else:\n",
    "            continue\n",
    "        #data = select['data'][0]\n",
    "        fotos.append(data)\n",
    "        print(data)\n",
    "    \n",
    "    # SE INSTANCIA AL TEMPLATE\n",
    "    doc = DocxTemplate(ruta + \"/templates/tpl_rpt_calidad-cosecha.docx\")\n",
    "    \n",
    "    # SE DESCARGAN LAS FOTOS\n",
    "    lista_fotos_inline = []\n",
    "    for foto in fotos:\n",
    "        response = requests.get(\"https://www-amigocloud.s3.amazonaws.com/gallery/\" + foto['s3_filename'])\n",
    "        file = open(ruta + '/fotos/' + foto['s3_filename'], \"wb\")\n",
    "        file.write(response.content)\n",
    "        file.close()\n",
    "        lista_fotos_inline.append({\n",
    "            'foto': docxtpl.InlineImage(doc, image_descriptor=ruta+'/fotos/' + foto['s3_filename'], width=Mm(60)), \n",
    "            'muestra': foto['nombre_muestra'],\n",
    "            'obs':foto['obs']\n",
    "        })\n",
    "    \n",
    "    # SE ESTABLESE LA FIRMA DEL TECNICO\n",
    "    firma_respon = None\n",
    "    if insp.responsable == 'Juan Pablo Jaldin':\n",
    "        firma_respon = docxtpl.InlineImage(doc, image_descriptor=ruta+'/templates/firma_jaldin.png', width=Mm(60))\n",
    "    else:\n",
    "        firma_respon = docxtpl.InlineImage(doc, image_descriptor=ruta+'/templates/firma_rogelio.png', width=Mm(60))\n",
    "    \n",
    "    # NORMBRE DEL ARCHIVO\n",
    "    filename = '/_' + insp.canhero.split(' / ')[0] + '_CDC_' + insp.fecha_registro.replace('/','-') + '_' + insp.canhero.split(' / ')[1] + '_' + str(insp.id) + '.docx'\n",
    "    # CREAR EL CONTEXTO DEL DOC Y CREAR EL DOC\n",
    "    context = {'insp':insp, 'muestras':muestras, 'promedio':promedio_muestras, 'fotos':lista_fotos_inline, 'firma':firma_respon}\n",
    "    doc.render(context)\n",
    "    doc.save(ruta + '/informes' + filename)\n",
    "    print('Trarea terminada.')\n",
    "print('END==============================================')"
   ]
  },
  {
   "cell_type": "markdown",
   "id": "afaea9c3-f492-453b-a980-5e30b4986c3a",
   "metadata": {},
   "source": [
    "## Convertir a PDF"
   ]
  },
  {
   "cell_type": "code",
   "execution_count": 8,
   "id": "98df0b5d-a087-4f3d-bd88-9209377cf33b",
   "metadata": {},
   "outputs": [
    {
     "name": "stdout",
     "output_type": "stream",
     "text": [
      "SE ENCONTRARON 1 INFORMES\n",
      "1 INFORMES\n"
     ]
    },
    {
     "data": {
      "text/plain": [
       "['D:\\\\OneDrive - Ingenio Azucarero Guabira S.A\\\\_DATOS_PYTHON/informes/5406_CDC_20-06-2023_HURTADO MENDEZ RONALD_44.docx']"
      ]
     },
     "execution_count": 8,
     "metadata": {},
     "output_type": "execute_result"
    }
   ],
   "source": [
    "path = r'' + ruta + '/informes'\n",
    "contenido = os.listdir(path)\n",
    "rutas =[]\n",
    "i = 0\n",
    "for name in contenido:\n",
    "    rutas.append(path + '/' + name)\n",
    "    i+=1\n",
    "\n",
    "print('SE ENCONTRARON ' + str(i) + ' INFORMES')\n",
    "print(len(rutas), 'INFORMES')\n",
    "rutas"
   ]
  },
  {
   "cell_type": "code",
   "execution_count": 9,
   "id": "d488abb2-db78-4d44-9afb-a8400a9d78f7",
   "metadata": {},
   "outputs": [
    {
     "name": "stdout",
     "output_type": "stream",
     "text": [
      "CONVIRTIENDO... INFORME 1 D:\\OneDrive - Ingenio Azucarero Guabira S.A\\_DATOS_PYTHON/informes/5406_CDC_20-06-2023_HURTADO MENDEZ RONALD_44.docx\n",
      "D:\\OneDrive - Ingenio Azucarero Guabira S.A\\_DATOS_PYTHON/informes/5406_CDC_20-06-2023_HURTADO MENDEZ RONALD_44.docx\n",
      "D:\\OneDrive - Ingenio Azucarero Guabira S.A\\_DATOS_PYTHON/pdfs/5406_CDC_20-06-2023_HURTADO MENDEZ RONALD_44.pdf\n"
     ]
    },
    {
     "data": {
      "application/vnd.jupyter.widget-view+json": {
       "model_id": "1c7b26228eab4110963f998b9cbf142b",
       "version_major": 2,
       "version_minor": 0
      },
      "text/plain": [
       "  0%|          | 0/1 [00:00<?, ?it/s]"
      ]
     },
     "metadata": {},
     "output_type": "display_data"
    },
    {
     "name": "stdout",
     "output_type": "stream",
     "text": [
      "END\n"
     ]
    }
   ],
   "source": [
    "i = 1\n",
    "for filename in rutas:\n",
    "    print('CONVIRTIENDO... INFORME ' + str(i) + ' ' + filename)\n",
    "    # se realiza la convrsion pasando parametro de salida y entrada, \n",
    "    # para la salida se reemplaza la extencion y la ruta\n",
    "    print(filename)\n",
    "    print(filename.replace('.docx','.pdf').replace('informes','pdfs'))\n",
    "    pdf = filename.replace('.docx','.pdf').replace('informes','pdfs').split('/')[-1]\n",
    "    convert(filename, r'D:\\OneDrive - Ingenio Azucarero Guabira S.A\\_DATOS_PYTHON\\pdf\\\\' + pdf)\n",
    "    i+=1\n",
    "print('END')"
   ]
  },
  {
   "cell_type": "markdown",
   "id": "8dfa5061-fff6-47f0-a2dc-b0566dc9e075",
   "metadata": {},
   "source": [
    "## Cargar a DRIVE"
   ]
  },
  {
   "cell_type": "code",
   "execution_count": null,
   "id": "b0db9407-902f-49e8-936d-95106fff239b",
   "metadata": {},
   "outputs": [],
   "source": []
  },
  {
   "cell_type": "code",
   "execution_count": null,
   "id": "930e7e11-00c7-4cfe-bb4b-995515972bee",
   "metadata": {},
   "outputs": [],
   "source": []
  },
  {
   "cell_type": "code",
   "execution_count": null,
   "id": "cee05948-d483-4e7f-a21f-6382848ff077",
   "metadata": {},
   "outputs": [],
   "source": []
  }
 ],
 "metadata": {
  "kernelspec": {
   "display_name": "Python 3 (ipykernel)",
   "language": "python",
   "name": "python3"
  },
  "language_info": {
   "codemirror_mode": {
    "name": "ipython",
    "version": 3
   },
   "file_extension": ".py",
   "mimetype": "text/x-python",
   "name": "python",
   "nbconvert_exporter": "python",
   "pygments_lexer": "ipython3",
   "version": "3.10.13"
  }
 },
 "nbformat": 4,
 "nbformat_minor": 5
}
