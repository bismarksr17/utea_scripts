{
 "cells": [
  {
   "cell_type": "code",
   "execution_count": 1,
   "id": "bde1f922-902c-4bac-9214-c2fd9f32a727",
   "metadata": {},
   "outputs": [
    {
     "ename": "NameError",
     "evalue": "name 'fe' is not defined",
     "output_type": "error",
     "traceback": [
      "\u001b[1;31m---------------------------------------------------------------------------\u001b[0m",
      "\u001b[1;31mNameError\u001b[0m                                 Traceback (most recent call last)",
      "Cell \u001b[1;32mIn[1], line 1\u001b[0m\n\u001b[1;32m----> 1\u001b[0m \u001b[43mfe\u001b[49m\n",
      "\u001b[1;31mNameError\u001b[0m: name 'fe' is not defined"
     ]
    }
   ],
   "source": [
    "fe"
   ]
  },
  {
   "cell_type": "code",
   "execution_count": 1,
   "id": "b8c951d1-11d5-4273-8820-1aa83140eaaf",
   "metadata": {
    "tags": []
   },
   "outputs": [],
   "source": [
    "import sys\n",
    "sys.path.append('../_amigocloud')\n",
    "\n",
    "from datetime import datetime, timedelta\n",
    "from shapely import wkb\n",
    "import geopandas as gpd\n",
    "import pandas as pd\n",
    "import contextily as ctx\n",
    "import matplotlib.pyplot as plt\n",
    "import requests\n",
    "\n",
    "from docxtpl import DocxTemplate\n",
    "import docxtpl\n",
    "from docx.shared import Mm\n",
    "\n",
    "from amigocloud import AmigoCloud\n",
    "\n",
    "import gspread\n",
    "from oauth2client.service_account import ServiceAccountCredentials\n",
    "\n",
    "import collections"
   ]
  },
  {
   "cell_type": "code",
   "execution_count": 2,
   "id": "282d6c78-9570-410e-ba0e-6569fb3639ff",
   "metadata": {
    "tags": []
   },
   "outputs": [
    {
     "name": "stdout",
     "output_type": "stream",
     "text": [
      "G:\\OneDrive - Ingenio Azucarero Guabira S.A\\_DATOS_PYTHON\n"
     ]
    },
    {
     "data": {
      "text/plain": [
       "<amigocloud.AmigoCloud at 0x1ee7581b3a0>"
      ]
     },
     "execution_count": 2,
     "metadata": {},
     "output_type": "execute_result"
    }
   ],
   "source": [
    "ruta = open('../unidad_local.txt')\n",
    "ruta = ruta.readlines()[0]\n",
    "print(ruta)\n",
    "# leer token\n",
    "acceso = open(ruta + '/_keys/api_amigocloud.key','r')\n",
    "api_token = acceso.readlines()[0]\n",
    "acceso.close()\n",
    "amigocloud = AmigoCloud(token=api_token)\n",
    "amigocloud"
   ]
  },
  {
   "cell_type": "markdown",
   "id": "2ea1e17d-0eed-4eac-8bb1-39e17ff22f57",
   "metadata": {},
   "source": [
    "## conversion de poligono"
   ]
  },
  {
   "cell_type": "code",
   "execution_count": 3,
   "id": "196a3356-5e8b-4f47-b065-7fdac9f55ac1",
   "metadata": {},
   "outputs": [],
   "source": [
    "def convertir_wkb(wkb_data):\n",
    "    return wkb.loads(wkb_data, hex=True)"
   ]
  },
  {
   "cell_type": "markdown",
   "id": "60534249-a992-487c-9aa3-946d568af8f1",
   "metadata": {},
   "source": [
    "## conrvertir formato fecha"
   ]
  },
  {
   "cell_type": "code",
   "execution_count": 4,
   "id": "ae74fb28-81fb-4c42-be0a-07095d2b066e",
   "metadata": {},
   "outputs": [],
   "source": [
    "# convierte de formato YYYY-mm-dd H:M:S+z a d/m/YYYY\n",
    "def convertir_formato_fecha(fecha):\n",
    "    new_formato = datetime.strptime(fecha, \"%Y-%m-%d %H:%M:%S%z\").strftime(\"%d/%m/%Y\")\n",
    "    return new_formato"
   ]
  },
  {
   "cell_type": "markdown",
   "id": "340cbd2e-3e5d-4346-bf3e-ae89605e5d16",
   "metadata": {},
   "source": [
    "## ejecutar query"
   ]
  },
  {
   "cell_type": "code",
   "execution_count": 5,
   "id": "b66ea487-c87f-4ad7-b536-56ab1e1904c4",
   "metadata": {},
   "outputs": [],
   "source": [
    "# ejecuta cualquier query sql en el proyecto que se le indique\n",
    "# requiere el id de proyecto, query a ejecutar y tipo solicitud (get o post)\n",
    "def ejecutar_query_sql(id_project, query, tipo_sql):\n",
    "    # define la url del proyecto para ejecutar el querry\n",
    "    url_proyecto_sql = f'https://app.amigocloud.com/api/v1/projects/{id_project}/sql'\n",
    "    # crea la estructura de query para amigocloud\n",
    "    query_sql = {'query': query}\n",
    "    # variable para almacenar resultado\n",
    "    resultado_get = ''\n",
    "    # eleige que tipo de solicitud se realizara (get o post)\n",
    "    if tipo_sql == 'get': \n",
    "        resultado_get = amigocloud.get(url_proyecto_sql, query_sql)\n",
    "    elif tipo_sql == 'post':\n",
    "        resultado_get = amigocloud.post(url_proyecto_sql, query_sql)\n",
    "    else:\n",
    "        resultado_get = 'Se a seleccionado un tipo de solicitud erroneo.'\n",
    "    return resultado_get"
   ]
  },
  {
   "cell_type": "markdown",
   "id": "337d6c4b-86d0-447f-904d-589bcd61c868",
   "metadata": {},
   "source": [
    "## ejecuta query segun id_query (ejecucion de queryes de un proyecto)"
   ]
  },
  {
   "cell_type": "code",
   "execution_count": 6,
   "id": "7591596a-ca97-4ad6-8696-e00e1e3eb8ad",
   "metadata": {},
   "outputs": [],
   "source": [
    "# ejecuta un query que esta almacenado en un proyecto de amigocloud (generalmente un update),\n",
    "# requiere id de proyecto e id de query\n",
    "# retorna cuantas filas fueron afectadas\n",
    "def ejecutar_query_por_id(id_project, id_query, tipo_sql):\n",
    "    # obtiene el query basado en el id_project y el id_query\n",
    "    get_query = amigocloud.get(f'https://app.amigocloud.com/api/v1/projects/{id_project}/queries/{id_query}')\n",
    "    # se extrae solo el texto del query\n",
    "    query = get_query['query']\n",
    "    # ejecuta el query_sql con metodo post y guarda la respuesta\n",
    "    respuesta_post = ejecutar_query_sql(id_project, query, tipo_sql)\n",
    "    # retorna el numero de filas afectadas por el query\n",
    "    return respuesta_post"
   ]
  },
  {
   "cell_type": "markdown",
   "id": "7984ceb0-e400-4dd2-9251-094e3f99777c",
   "metadata": {},
   "source": [
    "## convertir dic en obj"
   ]
  },
  {
   "cell_type": "code",
   "execution_count": 7,
   "id": "e041faab-e0ee-4cb7-8942-a2c36f50e72a",
   "metadata": {},
   "outputs": [],
   "source": [
    "# convierte un dict a un obj\n",
    "# recibe el dict y el nombre con el que se creara el obj\n",
    "def convertir_dict_obj(diccionario, name):\n",
    "    return collections.namedtuple(name, diccionario.keys())(*diccionario.values())"
   ]
  },
  {
   "cell_type": "markdown",
   "id": "bb9b1f2d-3955-49e1-92aa-738f9110ca27",
   "metadata": {},
   "source": [
    "## crear CITE"
   ]
  },
  {
   "cell_type": "code",
   "execution_count": 8,
   "id": "df6f1180-df99-42a0-89a2-95895b9ba34d",
   "metadata": {},
   "outputs": [],
   "source": [
    "def crear_cite(cod_canhero, nom_canhero, tipo_reporte):\n",
    "    ruta_api_google = ruta + '\\_keys\\client_secret_google_sheets.json'\n",
    "    # Configura las credenciales\n",
    "    scope = [\"https://spreadsheets.google.com/feeds\",\n",
    "             'https://www.googleapis.com/auth/spreadsheets', \n",
    "             \"https://www.googleapis.com/auth/drive.file\", \n",
    "             \"https://www.googleapis.com/auth/drive\"]\n",
    "    creds = ServiceAccountCredentials.from_json_keyfile_name(ruta_api_google, scope)\n",
    "    client = gspread.authorize(creds)\n",
    "    # Abre la hoja de cálculo con ID y la hoja específica\n",
    "    spreadsheet = client.open_by_key(\"1Wbmmjy9s8JdXKP8qM_eA_OrCV--F1UZLnzQJ--ASOFI\")\n",
    "    sheet = spreadsheet.sheet1\n",
    "    # Lee los datos\n",
    "    data_sheet = sheet.get_all_records()\n",
    "    df = pd.DataFrame(data_sheet)\n",
    "    # Encuentra el número más grande y lo incrementamos y agrega un nuevo registro\n",
    "    max_value = df['No'].max()\n",
    "    no = int(max_value + 1)\n",
    "    # llenamos los demas campos\n",
    "    fecha = datetime.now().strftime(\"%m/%d/%Y\")\n",
    "    cod_ca = int(cod_canhero)\n",
    "    nom_ca = nom_canhero\n",
    "    tipo = tipo_reporte\n",
    "    #agregar el registro\n",
    "    sheet.append_row([no, fecha, cod_ca, nom_ca, tipo])\n",
    "    return no"
   ]
  },
  {
   "cell_type": "code",
   "execution_count": null,
   "id": "750f2ce0-0595-4c36-8d5f-b3f01d0622e3",
   "metadata": {},
   "outputs": [],
   "source": []
  },
  {
   "cell_type": "code",
   "execution_count": null,
   "id": "892d72fa-5d1a-4dcf-88ce-3d93183f137c",
   "metadata": {},
   "outputs": [],
   "source": []
  },
  {
   "cell_type": "code",
   "execution_count": null,
   "id": "32d4c02b-8f1d-45e7-9eb8-61e5bef198ad",
   "metadata": {},
   "outputs": [],
   "source": []
  },
  {
   "cell_type": "code",
   "execution_count": null,
   "id": "12de88c1-a903-4211-8ce4-d4ac22104897",
   "metadata": {},
   "outputs": [],
   "source": []
  },
  {
   "cell_type": "code",
   "execution_count": 9,
   "id": "fc630aad-8ca3-4c91-b673-3829403fb79e",
   "metadata": {},
   "outputs": [],
   "source": [
    "# variables globales\n",
    "proyecto_id = 31874\n",
    "\n",
    "buscar_reg_nuevos = 6476\n",
    "cargar_lotes_quema = 6474\n",
    "calc_area_lotes = 5078\n",
    "calc_total_insp = 6475"
   ]
  },
  {
   "cell_type": "code",
   "execution_count": null,
   "id": "f27f57ca-7a15-44eb-bff4-196f4d048868",
   "metadata": {},
   "outputs": [],
   "source": []
  },
  {
   "cell_type": "code",
   "execution_count": 10,
   "id": "eafe0529-f8dc-4c8f-932b-56b82cb94df9",
   "metadata": {},
   "outputs": [],
   "source": [
    "# revisa y extiste registros nuevos (campo reporte_generado en false)\n",
    "rec_nuevos = ejecutar_query_por_id(proyecto_id, buscar_reg_nuevos, 'get')\n",
    "    # se queda con la parte de darta\n",
    "rec_nuevos = rec_nuevos['data']\n",
    "    # extrae el id de los nuevos regitros\n",
    "id_nuevos = [i['id'] for i in rec_nuevos]"
   ]
  },
  {
   "cell_type": "code",
   "execution_count": null,
   "id": "c7e4ef1d-0e3b-4929-a289-d2d1b5872903",
   "metadata": {},
   "outputs": [],
   "source": []
  },
  {
   "cell_type": "code",
   "execution_count": null,
   "id": "8a4acb66-37cf-4a62-b12e-4a8ab4bff95d",
   "metadata": {},
   "outputs": [],
   "source": []
  },
  {
   "cell_type": "code",
   "execution_count": null,
   "id": "99d8273b-591a-4ea2-ac5f-fb732ea379e0",
   "metadata": {},
   "outputs": [],
   "source": []
  },
  {
   "cell_type": "code",
   "execution_count": 11,
   "id": "23850658-2d7d-4fad-a555-cfd32f59bd64",
   "metadata": {},
   "outputs": [],
   "source": [
    "def buscar_nuevos():\n",
    "    # revisa y extiste registros nuevos (campo reporte_generado en false)\n",
    "    rec_nuevos = ejecutar_query_por_id(proyecto_id, buscar_reg_nuevos, 'get')\n",
    "    # se queda con la parte de darta\n",
    "    rec_nuevos = rec_nuevos['data']\n",
    "    # extrae el id de los nuevos regitros\n",
    "    id_nuevos = [i['id'] for i in rec_nuevos]\n",
    "    return id_nuevos"
   ]
  },
  {
   "cell_type": "code",
   "execution_count": 12,
   "id": "f667d712-1271-4a49-93ce-e97c198e499e",
   "metadata": {},
   "outputs": [],
   "source": [
    "def ejecutar_scripts_sql():\n",
    "    # ejecuatar scripts generales para completar campos y recalculos\n",
    "    exe_cargar_lotes_quema = ejecutar_query_por_id(proyecto_id, cargar_lotes_quema, 'post')\n",
    "    exe_calc_area_lotes = ejecutar_query_por_id(proyecto_id, calc_area_lotes, 'post')\n",
    "    exe_calc_total_insp = ejecutar_query_por_id(proyecto_id, calc_total_insp, 'post')"
   ]
  },
  {
   "cell_type": "code",
   "execution_count": 13,
   "id": "465eef67-2ef5-402c-86fc-61b88a85152d",
   "metadata": {},
   "outputs": [],
   "source": [
    "def obtener_inspeccion(id_insp):\n",
    "    # seleccionar un registro\n",
    "    # crear consulta\n",
    "    query = f'select * from dataset_351059 where id = {id_insp}'\n",
    "    # ejecutar consulta\n",
    "    inspeccion = ejecutar_query_sql(proyecto_id, query, 'get')\n",
    "    # extrae la seccion de data\n",
    "    inspeccion = inspeccion['data']\n",
    "    # extrae el primer elemento, solo hay un elemento\n",
    "    inspeccion = inspeccion[0]\n",
    "    # convertion de formato de fechas\n",
    "    inspeccion['date'] = convertir_formato_fecha(inspeccion['fecha_registro'])\n",
    "    inspeccion['fecha_inspeccion'] = convertir_formato_fecha(inspeccion['fecha_inspeccion'])\n",
    "    inspeccion['fecha_quema'] = convertir_formato_fecha(inspeccion['fecha_quema'])\n",
    "    # extraccion de codigo y nombre del cañero\n",
    "    cod_ca = inspeccion['canhero'].split(' / ')[0]\n",
    "    nom_ca = inspeccion['canhero'].split(' / ')[1]\n",
    "    # crear y asignar cite\n",
    "    cite = crear_cite(cod_ca, nom_ca, 'QUEMA')\n",
    "    inspeccion['cite'] = cite\n",
    "    # convertir el dict en objeto\n",
    "    insp = convertir_dict_obj(inspeccion, 'insp')\n",
    "    return insp"
   ]
  },
  {
   "cell_type": "code",
   "execution_count": 14,
   "id": "f059956f-8f02-47c8-bd35-5a2a1a218110",
   "metadata": {},
   "outputs": [],
   "source": [
    "def obtener_lotes(id_insp):\n",
    "    # seleccionar todos los lotes marcados con la inspeccion\n",
    "    # crear consulta\n",
    "    query = f'select * from dataset_351061 where id_inspeccion = {id_insp}'\n",
    "    # ejecutar consulta\n",
    "    lotes = ejecutar_query_sql(proyecto_id, query, 'get')\n",
    "    # extraer solo la seccion de data\n",
    "    lotes = lotes['data']\n",
    "    return lotes"
   ]
  },
  {
   "cell_type": "code",
   "execution_count": 15,
   "id": "b25f384f-2cd3-44c6-a8fd-35da0f9c0bdf",
   "metadata": {},
   "outputs": [],
   "source": [
    "# elimina todos los dic duplicados basandose en \"unidad_01\", y concerva solo en cop_prop y nom_prop\n",
    "# con esto se obtiene un dict de propiedades de la inspeccion\n",
    "def eliminar_duplicados_y_conservar_campos(lista, campo_clave, campos_a_conservar):\n",
    "    vistos = set()\n",
    "    nueva_lista = []\n",
    "    for diccionario in lista:\n",
    "        valor = diccionario[campo_clave]\n",
    "        if valor not in vistos:\n",
    "            vistos.add(valor)\n",
    "            nuevo_diccionario = {campo: diccionario[campo] for campo in campos_a_conservar}\n",
    "            nueva_lista.append(nuevo_diccionario)\n",
    "    return nueva_lista"
   ]
  },
  {
   "cell_type": "code",
   "execution_count": 16,
   "id": "916e0c0d-6e7f-4ba3-9df3-8dc55c82bd7d",
   "metadata": {},
   "outputs": [],
   "source": [
    "def propiedades_lotes(props):\n",
    "    # recorrer las propiedades, y agregar los lotes correspondientes\n",
    "    # se crea una lista de objetos propiedad con los respectivos lotes agregados a cada propiedad\n",
    "    propiedades = []\n",
    "    for prop in props:\n",
    "        prop['lote'] = []\n",
    "        lotes_select = [lote for lote in lotes if lote['unidad_01'] == prop['unidad_01']]\n",
    "        for lote_select in lotes_select:\n",
    "            lote = convertir_dict_obj(lote_select, 'lote')\n",
    "            prop['lote'].append(lote)\n",
    "        propiedades.append(convertir_dict_obj(prop, 'propiedad'))\n",
    "    return propiedades"
   ]
  },
  {
   "cell_type": "code",
   "execution_count": 17,
   "id": "d668acb5-9552-4589-85c4-39984e653364",
   "metadata": {},
   "outputs": [],
   "source": [
    "def obtener_fotos(insp_amigo_id):\n",
    "    # buscar todas las fotos que son parte de la inspeccion\n",
    "    # crear consulta\n",
    "    query = f'select s3_filename from gallery_61142 where source_amigo_id = \\'{insp_amigo_id}\\''\n",
    "    # ejecutar consulta\n",
    "    fotos = ejecutar_query_sql(proyecto_id, query, 'get')\n",
    "    # extrae la seccion de data\n",
    "    fotos = fotos['data']\n",
    "    return fotos"
   ]
  },
  {
   "cell_type": "code",
   "execution_count": 18,
   "id": "5087ca74-f0bc-4a6d-8604-c0ef0ad0ab1c",
   "metadata": {},
   "outputs": [],
   "source": [
    "def generar_planos(insp, propiedades):\n",
    "    # generar planos\n",
    "    lista_planos = []\n",
    "    path = ''\n",
    "    for propiedad in propiedades:\n",
    "        lotes_lista = []\n",
    "        for lote in propiedad.lote:\n",
    "            lotes_lista.append(lote._asdict())\n",
    "        df = pd.DataFrame(lotes_lista)\n",
    "        df['geometria'] = df['geometria'].apply(convertir_wkb)\n",
    "\n",
    "        #Convertir a GeoDataFrame\n",
    "        data = gpd.GeoDataFrame(df, geometry='geometria')\n",
    "\n",
    "        data['coords'] = data['geometria'].apply(lambda x: x.representative_point().coords[:])\n",
    "        data['coords'] = [coords[0] for coords in data['coords']]\n",
    "\n",
    "        data.crs = \"EPSG:4326\"\n",
    "        data = data.to_crs(epsg=3857)\n",
    "        \n",
    "        fig = plt.figure(i, figsize=(20,20))\n",
    "        ax = None\n",
    "        ax = fig.add_subplot()\n",
    "\n",
    "        data.apply(lambda x: ax.annotate(text=x.unidad_05 + ' \\n' + str(x.area) + ' ha', xy=x.geometria.centroid.coords[0], ha='center', va='center', color='black', fontsize=12, weight=1000, bbox=dict(facecolor=(1,1,1,0.3), edgecolor='none', pad=0)), axis=1);\n",
    "    \n",
    "        minx, miny, maxx, maxy = data.total_bounds\n",
    "        ax.set_xlim(minx - 500, maxx + 500)\n",
    "        ax.set_ylim(miny - 400, maxy + 400)\n",
    "\n",
    "        data.plot(ax=ax, edgecolor='r', facecolor=(0,0,0,0), linewidth=2, figsize=(20,20))\n",
    "    \n",
    "        ctx.add_basemap(ax, source=ctx.providers.Esri.WorldImagery)\n",
    "        ax.set_axis_off()\n",
    "        ax.set_title(str(propiedad.unidad_01) + ' / ' + str(propiedad.unidad_02), fontsize=20)\n",
    "        path = ruta + '/planos/' + str(insp.amigo_id) + '_' + str(propiedad.unidad_01) + '.jpeg'\n",
    "        lista_planos.append(path)\n",
    "        fig.savefig(path, dpi = 300, bbox_inches='tight')\n",
    "        plt.clf()\n",
    "    return lista_planos"
   ]
  },
  {
   "cell_type": "code",
   "execution_count": 19,
   "id": "24a606a0-3b73-4e22-a347-c3e72bf6c607",
   "metadata": {},
   "outputs": [],
   "source": [
    "def generar_reporte(insp, propiedades, fotos, lista_planos):\n",
    "    # generar reporte\n",
    "    # asignacion de template\n",
    "    doc = DocxTemplate(ruta + \"/templates/tpl_infome_quema.docx\")\n",
    "\n",
    "    #generar lista de InlineImage de planos \n",
    "    lista_InlineImage = []\n",
    "    for plano in lista_planos:\n",
    "        lista_InlineImage.append(docxtpl.InlineImage(doc, image_descriptor=plano, width=Mm(150)))\n",
    "\n",
    "    #descargar fotos y generar lista InlineImage\n",
    "    lista_fotos_inline = []\n",
    "    for foto in fotos:\n",
    "        response = requests.get(\"https://www-amigocloud.s3.amazonaws.com/gallery/\" + foto['s3_filename'])\n",
    "        file = open(ruta + '/fotos/' + foto['s3_filename'], \"wb\")\n",
    "        file.write(response.content)\n",
    "        file.close()\n",
    "        lista_fotos_inline.append({'foto': docxtpl.InlineImage(doc, image_descriptor= ruta + '/fotos/' + foto['s3_filename'], width=Mm(120))})\n",
    "\n",
    "    firma_respon = None\n",
    "    if insp.responsable_tec == 'Rogelio Acuña Rodríguez':\n",
    "        firma_respon = docxtpl.InlineImage(doc, image_descriptor=ruta + '/templates/firma_rogelio.png', width=Mm(60))\n",
    "    else:\n",
    "        firma_respon = docxtpl.InlineImage(doc, image_descriptor=ruta + '/templates/firma_jaldin.png', width=Mm(60))\n",
    "\n",
    "    context = {'insp':insp, 'propiedades':propiedades, 'planos':lista_InlineImage, 'fotos':lista_fotos_inline, 'firma':firma_respon}\n",
    "\n",
    "    doc.render(context)\n",
    "\n",
    "    # formato de nombre de archivo: \"123_CQ_01-01-2022_NOMBRE\"\n",
    "    cod_nom = insp.canhero.split(' / ')\n",
    "    file_name = cod_nom[0] + '_IDCQ_' + insp.fecha_inspeccion.replace('/','-') + '_' + cod_nom[1] + '_' + str(insp.id)\n",
    "\n",
    "    doc.save(ruta + '/informes/_' + file_name + '.docx')"
   ]
  },
  {
   "cell_type": "code",
   "execution_count": 20,
   "id": "1f185d1f-87de-4beb-8464-366d0da2ac4e",
   "metadata": {},
   "outputs": [],
   "source": [
    "def cambiar_estado_informe(id_insp):\n",
    "    # actualizar estado de informe_generado a true\n",
    "    # crear consulta\n",
    "    query = f'update dataset_351059 set informe_generado = true where id = {id_insp}'\n",
    "    # ejecutar consulta\n",
    "    res = ejecutar_query_sql(proyecto_id, query, 'post')\n",
    "    return res"
   ]
  },
  {
   "cell_type": "code",
   "execution_count": null,
   "id": "1d0b3aff-fb1d-4f86-884a-869b9c2741a8",
   "metadata": {},
   "outputs": [],
   "source": []
  },
  {
   "cell_type": "code",
   "execution_count": null,
   "id": "27612da0-e9da-476d-b7f8-8d2542cb618c",
   "metadata": {},
   "outputs": [],
   "source": []
  },
  {
   "cell_type": "code",
   "execution_count": null,
   "id": "f19abbe4-9fb6-40c3-98ed-5e34da66f3d2",
   "metadata": {},
   "outputs": [],
   "source": []
  },
  {
   "cell_type": "code",
   "execution_count": null,
   "id": "573a560d-c837-452c-b159-e5d21eeb376e",
   "metadata": {},
   "outputs": [],
   "source": []
  },
  {
   "cell_type": "code",
   "execution_count": null,
   "id": "4d6b8dc5-2090-482d-80e0-b47895ab7977",
   "metadata": {},
   "outputs": [],
   "source": []
  },
  {
   "cell_type": "code",
   "execution_count": 24,
   "id": "1985058b-615d-4aab-bcbd-4880331e3882",
   "metadata": {},
   "outputs": [],
   "source": [
    "from amigocloud import AmigoCloud\n",
    "import os\n",
    "\n",
    "def descargar_imagen_gallery(token, gallery_id, source_amigo_id, amigo_id, filename, carpeta_destino=\"imagenes\"):\n",
    "    \"\"\"\n",
    "    Descarga una imagen específica desde una galería en AmigoCloud.\n",
    "    \"\"\"\n",
    "    ac = AmigoCloud(token=token)\n",
    "    os.makedirs(carpeta_destino, exist_ok=True)\n",
    "\n",
    "    url_archivo = f\"https://app.amigocloud.com/api/v1/related_tables/{gallery_id}/files/{source_amigo_id}/{amigo_id}/{filename}\"\n",
    "    print(f\"⬇️ Descargando: {filename}\")\n",
    "\n",
    "    try:\n",
    "        contenido = ac.get(url_archivo, raw=True)\n",
    "        ruta_salida = os.path.join(carpeta_destino, filename)\n",
    "        with open(ruta_salida, \"wb\") as f:\n",
    "            f.write(contenido)\n",
    "        print(f\"✅ Imagen guardada en: {ruta_salida}\")\n",
    "        return ruta_salida\n",
    "    except Exception as e:\n",
    "        print(f\"❌ Error al descargar {filename}: {e}\")\n",
    "        return None\n"
   ]
  },
  {
   "cell_type": "code",
   "execution_count": 25,
   "id": "846c9401-2257-46d9-8ac7-9e2996cad818",
   "metadata": {},
   "outputs": [
    {
     "name": "stdout",
     "output_type": "stream",
     "text": [
      "⬇️ Descargando: 61142_20250716052324120.jpg\n",
      "✅ Imagen guardada en: imagenes\\61142_20250716052324120.jpg\n"
     ]
    },
    {
     "data": {
      "text/plain": [
       "'imagenes\\\\61142_20250716052324120.jpg'"
      ]
     },
     "execution_count": 25,
     "metadata": {},
     "output_type": "execute_result"
    }
   ],
   "source": [
    "descargar_imagen_gallery(\n",
    "    token=api_token,\n",
    "    gallery_id=61142,\n",
    "    source_amigo_id=\"362128f5021f44219ea6e4c57bcc7088\",\n",
    "    amigo_id=\"90b988528559481a85a6813084fa621a\",\n",
    "    filename=\"61142_20250716052324120.jpg\"\n",
    ")"
   ]
  },
  {
   "cell_type": "code",
   "execution_count": null,
   "id": "aba6c7a1-9fd4-44e3-885e-0ef80d69edec",
   "metadata": {},
   "outputs": [],
   "source": []
  },
  {
   "cell_type": "code",
   "execution_count": null,
   "id": "22e4f98a-c068-4cdd-ad27-e29b728b68f6",
   "metadata": {},
   "outputs": [],
   "source": []
  },
  {
   "cell_type": "code",
   "execution_count": null,
   "id": "52202a7b-a124-44ab-ad68-6f618f5cf960",
   "metadata": {},
   "outputs": [],
   "source": []
  },
  {
   "cell_type": "code",
   "execution_count": null,
   "id": "78eb6902-8187-4699-9da5-52aa1747c43c",
   "metadata": {},
   "outputs": [],
   "source": []
  },
  {
   "cell_type": "code",
   "execution_count": null,
   "id": "49ff072b-dbb2-44c3-b63f-ea9cb49db041",
   "metadata": {},
   "outputs": [],
   "source": []
  },
  {
   "cell_type": "code",
   "execution_count": null,
   "id": "46dc9697-814e-4ec5-9e0b-d0aa20293389",
   "metadata": {},
   "outputs": [],
   "source": []
  },
  {
   "cell_type": "code",
   "execution_count": null,
   "id": "5ba1fa02-a0b0-4864-b629-5f0746c7d686",
   "metadata": {},
   "outputs": [],
   "source": []
  },
  {
   "cell_type": "code",
   "execution_count": null,
   "id": "89a76adc-2ffa-4eb1-8895-00d7c87dee35",
   "metadata": {},
   "outputs": [],
   "source": []
  },
  {
   "cell_type": "code",
   "execution_count": null,
   "id": "9815abca-1abe-4217-9544-e1cd1bec4831",
   "metadata": {},
   "outputs": [],
   "source": []
  },
  {
   "cell_type": "code",
   "execution_count": null,
   "id": "1472a9b7-c32d-48be-80b4-9f6d3e49958c",
   "metadata": {},
   "outputs": [],
   "source": []
  },
  {
   "cell_type": "code",
   "execution_count": 21,
   "id": "473ae879-bbb9-4be2-bcb5-432ea525076c",
   "metadata": {},
   "outputs": [
    {
     "data": {
      "text/plain": [
       "[234, 233, 237, 236, 239, 235, 241, 240]"
      ]
     },
     "execution_count": 21,
     "metadata": {},
     "output_type": "execute_result"
    }
   ],
   "source": [
    "buscar_nuevos()"
   ]
  },
  {
   "cell_type": "code",
   "execution_count": 22,
   "id": "22a069da-80c1-453d-8e40-1e6f2257c27d",
   "metadata": {},
   "outputs": [
    {
     "data": {
      "text/plain": [
       "insp(id=234, informe_generado=False, fecha_registro='2025-07-16 17:32:40+00:00', fecha_quema='15/07/2025', fecha_inspeccion='16/07/2025', canhero='386 / AYALA CESPEDES GREGORIO', superficie_total=21.58, rendimiento=65.0, produccion=1402.7, cite=140, inicio_incendio='Fuera de la propiedad', causa='Quema de malojo', responsable_de_quema='Quema de malojo en propiedad vecina', observaciones=None, link_informe=None, tipo_cosecha='MECANIZADO', amigo_id='bf7dda01e37c4eeeab5491647a5d8902', responsable_tec='Bismark Socompi Rodríguez', ubicacion='0104000020E6100000020000000101000000565348E81D964FC02CAE3B27072B31C001010000001804FB54BA954FC057B7D507ED2A31C0', date='16/07/2025')"
      ]
     },
     "execution_count": 22,
     "metadata": {},
     "output_type": "execute_result"
    }
   ],
   "source": [
    "obtener_inspeccion(234)"
   ]
  },
  {
   "cell_type": "code",
   "execution_count": 23,
   "id": "07860086-e06f-427d-b6d1-d2ac4c2ab3db",
   "metadata": {},
   "outputs": [
    {
     "name": "stdout",
     "output_type": "stream",
     "text": [
      "insp(id=234, informe_generado=False, fecha_registro='2025-07-16 17:32:40+00:00', fecha_quema='15/07/2025', fecha_inspeccion='16/07/2025', canhero='386 / AYALA CESPEDES GREGORIO', superficie_total=21.58, rendimiento=65.0, produccion=1402.7, cite=141, inicio_incendio='Fuera de la propiedad', causa='Quema de malojo', responsable_de_quema='Quema de malojo en propiedad vecina', observaciones=None, link_informe=None, tipo_cosecha='MECANIZADO', amigo_id='bf7dda01e37c4eeeab5491647a5d8902', responsable_tec='Bismark Socompi Rodríguez', ubicacion='0104000020E6100000020000000101000000565348E81D964FC02CAE3B27072B31C001010000001804FB54BA954FC057B7D507ED2A31C0', date='16/07/2025')\n",
      "[propiedad(unidad_01='606', unidad_02='LAS PETAS--AYALA', lote=[lote(fecha_registro='2025-07-16 20:38:52.558201+00:00', amigo_id='a7710585f0454b9a923db5b0d4111fda', id=177, geometria='0106000020E61000000100000001030000000100000006000000B8D7822C98954FC08E71AEE6792B31C0311A1470BC954FC0CF83089C5D2B31C07976E795D9954FC07C540506CE2A31C000CEA465E3954FC04864716A682A31C0E02F7510B3954FC0D2F6ACB64F2A31C0B8D7822C98954FC08E71AEE6792B31C0', unidad_05='L8.4', unidad_01='606', unidad_02='LAS PETAS--AYALA', area=6.69, id_inspeccion=234), lote(fecha_registro='2025-07-16 20:38:52.558201+00:00', amigo_id='4f28f86d12de4b9abef068d6d20971c1', id=178, geometria='0106000020E6100000010000000103000000010000000C0000001C451899EE954FC08C2DF6BC6E2A31C0EEDD5837DD954FC0986BA5C6792B31C0CC7CEF75DD954FC0B3BAB76C792B31C0E97AC865EC954FC068B4D32E752B31C02597ACD8F4954FC084CE34BB6C2B31C08B979A8EFF954FC046E6B42F682B31C0F34A52CB0F964FC0F11855CC692B31C01DB697DE24964FC0F765E2BD712B31C0F19321BE52964FC03D12CCDA902B31C02CA3EAA854964FC00A4EC3D3562B31C0CB5C703960964FC09DD516DFAE2A31C01C451899EE954FC08C2DF6BC6E2A31C0', unidad_05='L8.2', unidad_01='606', unidad_02='LAS PETAS--AYALA', area=14.89, id_inspeccion=234)])]\n",
      "[{'s3_filename': 'IMG-20250716-WA0058.jpg'}]\n",
      "Informe generado de 386 / AYALA CESPEDES GREGORIO\n",
      "insp(id=233, informe_generado=False, fecha_registro='2025-07-16 17:26:45+00:00', fecha_quema='15/07/2025', fecha_inspeccion='16/07/2025', canhero='2662 / DON SERAFIN SRL.', superficie_total=53.72, rendimiento=55.0, produccion=2954.6, cite=142, inicio_incendio='Fuera de la propiedad', causa='Quema de malojo', responsable_de_quema='Quema de manojo en propiedad vecina', observaciones=None, link_informe=None, tipo_cosecha='MECANIZADO', amigo_id='052741595e6940a98ea51dd8f5bb4f09', responsable_tec='Bismark Socompi Rodríguez', ubicacion='0104000020E610000011000000010100000058703FE081954FC047D2C9ADA42A31C001010000002DDED9684A954FC07A17940E7B2A31C0010100000091B932A836954FC040EAC083B02A31C00101000000CC47AD8B36954FC00671D4C0452B31C00101000000D2FA00497D954FC0A85725EC362B31C00101000000319A95ED43954FC015A529A7E22B31C001010000009512DD0E68954FC0CCECF318E52B31C0010100000022991FC9F6944FC0B4386398132C31C001010000001D99A2B7D3944FC0661536035C2C31C001010000001682C1DABD944FC0BC2B71D3552C31C001010000006D3425FECD944FC0DE03745FCE2C31C0010100000043EB3C85B7944FC0C8FB276ECB2C31C0010100000066B8A6E5AC944FC05359B9BCDE2C31C001010000007CF6B75F99944FC07AB5920CEF2C31C0010100000024FFDD4C96944FC0850E153EB62C31C0010100000049FA0F4471944FC024D813B8D02C31C0010100000077D3D28151944FC0FDFDBD6FD72C31C0', date='16/07/2025')\n",
      "[propiedad(unidad_01='483', unidad_02='DON SERAFIN SRL--BOLIVAR', lote=[lote(fecha_registro='2025-07-16 20:38:52.558201+00:00', amigo_id='daebe21b4e894b18912abc5c665d29a9', id=191, geometria='0106000020E610000001000000010300000001000000060000000E567D8488944FC0330B876BEB2C31C0D72836528D944FC0A5EF88DAE42C31C0E39DF9F39C944FC05D5109FECE2C31C07F7A840AB0944FC024CC83A29E2C31C06624F2568F944FC0487788F79C2C31C00E567D8488944FC0330B876BEB2C31C0', unidad_05='L19.4', unidad_01='483', unidad_02='DON SERAFIN SRL--BOLIVAR', area=0.83, id_inspeccion=233), lote(fecha_registro='2025-07-16 20:38:52.558201+00:00', amigo_id='938690b92bee4bb294c2d6c6606b3997', id=179, geometria='0106000020E610000001000000010300000001000000100000008D6901AF5F954FC0D061C7E1922A31C06779556663954FC041F71CA4782A31C04B707C5B64954FC011609834642A31C0689F19A762954FC0D77E74D4632A31C0679E35565C954FC085C69576632A31C04D23639430954FC0B97FA8D85B2A31C0288B6DE32F954FC089D853547E2A31C0E67387752F954FC008948CBE932A31C07FDF887D36954FC01DE2E5BF942A31C06C38A6FD4B954FC0613494CD942A31C03792530F51954FC042FFCAD0942A31C0AF77E69B54954FC0E95C78FA942A31C0BA94E35256954FC05C720DFE942A31C021852A9858954FC0857DCB02952A31C0FC4F101D5A954FC0D8863633952A31C08D6901AF5F954FC0D061C7E1922A31C0', unidad_05='L2.2', unidad_01='483', unidad_02='DON SERAFIN SRL--BOLIVAR', area=1.45, id_inspeccion=233), lote(fecha_registro='2025-07-16 20:38:52.558201+00:00', amigo_id='5f802cc413764fb1a1e3a6a9b2679b26', id=189, geometria='0106000020E61000000100000001030000000100000007000000C5E165E8C9944FC00E23A6B99D2C31C0F9DEA7B2C9944FC03C46B4B89D2C31C01C79684AC5944FC0DFEFD8A49D2C31C02B5E4869BA944FC027644C8A122D31C019901C92D1944FC0FCE9E298132D31C0AB1E4843DC944FC008D95A0C9E2C31C0C5E165E8C9944FC00E23A6B99D2C31C0', unidad_05='L12.2', unidad_01='483', unidad_02='DON SERAFIN SRL--BOLIVAR', area=1.49, id_inspeccion=233), lote(fecha_registro='2025-07-16 20:38:52.558201+00:00', amigo_id='c4824458552a4f159b4ef2a1665f8baa', id=192, geometria='0106000020E6100000010000000103000000010000000E00000026C5DBC385944FC0C8A68F120B2D31C0E54F04D185944FC0CFEF842B102D31C058D2EDF085944FC0F31E5323102D31C073C571E78A944FC0C53B05390E2D31C0B995D4238B944FC0C6F2E2610E2D31C045F6114C8E944FC072B4D584102D31C0F5643E758E944FC0F4C58590102D31C066FE563D8F944FC065F8A699102D31C04ECF8709A2944FC097BD526F102D31C0C85FABDAAA944FC0E60BA5ECBB2C31C083DB3BED9E944FC04D654B1ED12C31C018E643CF8C944FC0E812F80EEB2C31C0543F82FE87944FC0714A4570F12C31C026C5DBC385944FC0C8A68F120B2D31C0', unidad_05='L19.3', unidad_01='483', unidad_02='DON SERAFIN SRL--BOLIVAR', area=0.89, id_inspeccion=233), lote(fecha_registro='2025-07-16 20:38:52.558201+00:00', amigo_id='4a0111a0e08f44d4a28fe44f2c960293', id=193, geometria='0106000020E6100000010000000103000000010000001300000005071BE167944FC0A6FA5DD99A2C31C0FE6A88AD5F944FC002D0342B122D31C09B9E659F65944FC09B735FE5122D31C0D81A14986B944FC0E327A7AD0F2D31C07BD434E16F944FC02F9540DE0F2D31C057CB7BD774944FC0B7D18516102D31C006C8C48877944FC0F0C9867BEB2C31C01400590D7D944FC0EB7BE818EE2C31C0D8C6EF8F80944FC03CD0A8D7F62C31C02FAC30067F944FC0FF0847BA0A2D31C02BE01C4780944FC00D65B1CA0A2D31C026C5DBC385944FC0C8A68F120B2D31C0543F82FE87944FC0714A4570F12C31C00E567D8488944FC0330B876BEB2C31C06624F2568F944FC0487788F79C2C31C0C196A5BF7F944FC0E674F02B9C2C31C0C1AD8FB17C944FC0992B09049C2C31C09A957D906F944FC08A1D93589B2C31C005071BE167944FC0A6FA5DD99A2C31C0', unidad_05='L20.1', unidad_01='483', unidad_02='DON SERAFIN SRL--BOLIVAR', area=2.27, id_inspeccion=233), lote(fecha_registro='2025-07-16 20:38:52.558201+00:00', amigo_id='aa2fd22eb52b4da58002ff65c215179b', id=194, geometria='0106000020E61000000100000001030000000100000006000000FE6A88AD5F944FC002D0342B122D31C005071BE167944FC0A6FA5DD99A2C31C0953DD2394C944FC0880A960F992C31C03B7CFDF843944FC01FC094C70E2D31C0C884309E5F944FC0ECB55529122D31C0FE6A88AD5F944FC002D0342B122D31C0', unidad_05='L20.2', unidad_01='483', unidad_02='DON SERAFIN SRL--BOLIVAR', area=1.81, id_inspeccion=233), lote(fecha_registro='2025-07-16 20:38:52.558201+00:00', amigo_id='8bde499171b04448a7f82e1b8e3dd37f', id=195, geometria='0106000020E6100000010000000103000000010000000800000026DE40FDB6944FC00DA2E66A9D2C31C041347AC4B4944FC07FDCF2519D2C31C0C85FABDAAA944FC0E60BA5ECBB2C31C04ECF8709A2944FC097BD526F102D31C05182EA09AC944FC0C2E74F9D112D31C02EDF9A32AC944FC0DF761CA2112D31C0D3F6BA0FB7944FC01424B66B9D2C31C026DE40FDB6944FC00DA2E66A9D2C31C0', unidad_05='L19.2', unidad_01='483', unidad_02='DON SERAFIN SRL--BOLIVAR', area=0.56, id_inspeccion=233), lote(fecha_registro='2025-07-16 20:38:52.558201+00:00', amigo_id='7d5db2842aef44fa887b629a69457637', id=180, geometria='0106000020E610000001000000010300000001000000210000004B707C5B64954FC011609834642A31C0102E98E563954FC082312995702A31C06779556663954FC041F71CA4782A31C08BA3B0E160954FC05B114DC08A2A31C0CA2C6ED160954FC0957335358B2A31C0E3BE3C6E60954FC069C29BFE8D2A31C029F1DEBF5F954FC01F3F96E4922A31C08D6901AF5F954FC0D061C7E1922A31C0FC4F101D5A954FC0D8863633952A31C0C948E4A958954FC06D1F132A952A31C0AF77E69B54954FC0E95C78FA942A31C03792530F51954FC042FFCAD0942A31C06C38A6FD4B954FC0613494CD942A31C0083034EF45954FC0B4AEE919952A31C0896540B942954FC011CDA50E952A31C07FDF887D36954FC01DE2E5BF942A31C0E67387752F954FC008948CBE932A31C043E5D3742F954FC0A230315C922A31C0457C4E9C2F954FC06E4D39EA882A31C01ABC7BAE2F954FC0A9A61691842A31C0288B6DE32F954FC089D853547E2A31C04D23639430954FC0B97FA8D85B2A31C008FB2DA224954FC072694AC4592A31C0C543C0021F954FC0A595B6C9582A31C0EFD927F51A954FC085A61215582A31C0394D2DC100954FC02BD51345532A31C048925F6BFF944FC060450E497A2A31C037DE8FA2FC944FC0E73FC5C4DB2A31C0A7E727356D954FC01DBF8B99E02A31C04025221C6F954FC081E96947A62A31C097F485C471954FC0AB80F928672A31C02EA41B8B6C954FC0F2DA4F02662A31C04B707C5B64954FC011609834642A31C0', unidad_05='L2.1', unidad_01='483', unidad_02='DON SERAFIN SRL--BOLIVAR', area=6.54, id_inspeccion=233), lote(fecha_registro='2025-07-16 20:38:52.558201+00:00', amigo_id='7cec75ecfd6d4600b33ff19b74bc3e74', id=181, geometria='0106000020E6100000010000000103000000010000000C0000001C5050BC93954FC0FD55D52BAB2B31C0A465E08664954FC0125FD7FBA92B31C01D8BDAFC58954FC0B57399BA382C31C0F27893035F954FC0DF1F6F923E2C31C069CF19BC6F954FC02DDB16D4562C31C0E0F5F05775954FC010DA9F705F2C31C010347EB17D954FC02BE418F56B2C31C013FD854881954FC0B7D09838722C31C00382029284954FC07DE179B97B2C31C0FC51F93285954FC0C08B51167D2C31C0D8D9F2C988954FC0F8578B9E422C31C01C5050BC93954FC0FD55D52BAB2B31C0', unidad_05='L5', unidad_01='483', unidad_02='DON SERAFIN SRL--BOLIVAR', area=4.54, id_inspeccion=233), lote(fecha_registro='2025-07-16 20:38:52.558201+00:00', amigo_id='4eeb0f9ce4254888b702b2a03cafdc2c', id=182, geometria='0106000020E61000000100000001030000000100000006000000D1006C29A4954FC0C2C69F2DE42A31C0C758F130AC954FC0FC327687762A31C0C37408C9A2954FC0BE33A445712A31C0432FCD4273954FC022196A47672A31C0E2859E3C6E954FC068F4E6A4E12A31C0D1006C29A4954FC0C2C69F2DE42A31C0', unidad_05='L1', unidad_01='483', unidad_02='DON SERAFIN SRL--BOLIVAR', area=3.6, id_inspeccion=233), lote(fecha_registro='2025-07-16 20:38:52.558201+00:00', amigo_id='5fe9de5d810d4bc7a215921fb960a0ea', id=183, geometria='0106000020E6100000010000000103000000010000000700000060F2B9E85C954FC0F5AA7BBCA72B31C08FD66E4D62954FC0B46C0E79A52B31C0B4C2A5D463954FC00BEDF961A32B31C0159EEE7C6C954FC01B32598EE42A31C0B4C99D5AFD944FC0243A99FDDE2A31C097E2915EF1944FC0732D26D6A22B31C060F2B9E85C954FC0F5AA7BBCA72B31C0', unidad_05='L4', unidad_01='483', unidad_02='DON SERAFIN SRL--BOLIVAR', area=12.1, id_inspeccion=233), lote(fecha_registro='2025-07-16 20:38:52.558201+00:00', amigo_id='4a061b7c77d44fa1a46a4c83122b2105', id=184, geometria='0106000020E610000001000000010300000001000000050000005403F1F5A3954FC03C98845BE82A31C0B76B261E6E954FC08E64E98AE42A31C02D308AAD64954FC0D683324DA82B31C079CA89DB93954FC02CAEAB4BA92B31C05403F1F5A3954FC03C98845BE82A31C0', unidad_05='L3', unidad_01='483', unidad_02='DON SERAFIN SRL--BOLIVAR', area=5.39, id_inspeccion=233), lote(fecha_registro='2025-07-16 20:38:52.558201+00:00', amigo_id='48c2d5e7d1c54738b3a828f448e7408f', id=185, geometria='0106000020E6100000010000000103000000010000000F000000DFE6CC0B54954FC0C9AAA38F462C31C0EF4D5AA155954FC09E7EB30E472C31C079E66D1057954FC05D3FFB23362C31C032EBA8E262954FC0E72E33E8A92B31C09FADED1234954FC04113C3B7A72B31C0D7B0A86F2F954FC0A69AAA08212C31C01458E3432F954FC0B62AF042242C31C07FE2214F39954FC015DAB73E242C31C0EFB33BF745954FC04DB36B002D2C31C085CCCE8248954FC0D5B442A2302C31C077C4F0CE48954FC0F8E21630342C31C0961916AD49954FC049DBDA8E3E2C31C0050CAB154A954FC060F5A970432C31C0050CAB154A954FC060F5A970432C31C0DFE6CC0B54954FC0C9AAA38F462C31C0', unidad_05='L6.1', unidad_01='483', unidad_02='DON SERAFIN SRL--BOLIVAR', area=3.28, id_inspeccion=233), lote(fecha_registro='2025-07-16 20:38:52.558201+00:00', amigo_id='a957c867d3ad482595fb861ee5d52d5c', id=186, geometria='0106000020E6100000010000000103000000010000000C000000441D5878D0944FC0B61852B82C2C31C0D72D0229CB944FC0193D391F622C31C097AAF6BCC5944FC025A1B1A6982C31C0A1730A02D0944FC0553E96E7982C31C01532C002D0944FC044D599E7982C31C0F4133874DB944FC0BC0CE32F992C31C0AA58D38AE1944FC0BAF2770A502C31C060AAE85DE3944FC0EF84C81E3A2C31C062209317E5944FC0976A7764252C31C00E451B3AD8944FC080A00D84252C31C0ACA4012ED1944FC099C55695252C31C0441D5878D0944FC0B61852B82C2C31C0', unidad_05='L16.1', unidad_01='483', unidad_02='DON SERAFIN SRL--BOLIVAR', area=1.32, id_inspeccion=233), lote(fecha_registro='2025-07-16 20:38:52.558201+00:00', amigo_id='b93e8ce715a74255b658d4fa79c9d5d7', id=187, geometria='0106000020E6100000010000000103000000010000000A0000001D334278D0944FC0D116AC4E252C31C0C5D1EBA9BD944FC0DF801ADD272C31C002BC4F03AF944FC01FE451C7862C31C06462F2E0AE944FC07F166FA1902C31C01D508122B8944FC0584B2860952C31C0410EDFE8BA944FC084DFDDFA912C31C02E4E98A4BC944FC0EDB2C2B1882C31C0868CADB2C4944FC010B9AFD9702C31C0AD011388C9944FC074DCB8A85C2C31C01D334278D0944FC0D116AC4E252C31C0', unidad_05='L17.1', unidad_01='483', unidad_02='DON SERAFIN SRL--BOLIVAR', area=1.07, id_inspeccion=233), lote(fecha_registro='2025-07-16 20:38:52.558201+00:00', amigo_id='39da521b034c49bbb42aee70f80dcc56', id=188, geometria='0106000020E6100000010000000103000000010000000B00000026E41EE9EF944FC02CB1FE20A72B31C01E52F270E9944FC031DDF99CF82B31C0812CD0F2E6944FC007096102182C31C01C54C89ADC944FC0BE71664A9A2C31C00B373B06EB944FC0C4A25B999A2C31C0B3E95394F9944FC08A628B56982C31C0DFE92BF5FC944FC012DF7071952C31C0D9D6FE5F01954FC0CC6EE272942C31C06869077C09954FC0CDBC8545952C31C01A4969771A954FC012AB8FF5A62B31C026E41EE9EF944FC02CB1FE20A72B31C0', unidad_05='L7', unidad_01='483', unidad_02='DON SERAFIN SRL--BOLIVAR', area=5.75, id_inspeccion=233), lote(fecha_registro='2025-07-16 20:38:52.558201+00:00', amigo_id='39f56d09b0db4150addf6466077dfe17', id=190, geometria='0106000020E6100000010000000103000000010000000C0000005182EA09AC944FC0C2E74F9D112D31C062497003AC944FC0C3400BE2112D31C0C75F3D11B9944FC00DCC977A122D31C0472F79F1C3944FC0A14BC69E9D2C31C0132ED2DBBC944FC0F167D67E9D2C31C038A4D607BB944FC0857098769D2C31C0AAD5DEFDB6944FC0C01F63649D2C31C0CA6F90FDB6944FC04C509A679D2C31C026DE40FDB6944FC00DA2E66A9D2C31C0D3F6BA0FB7944FC01424B66B9D2C31C02EDF9A32AC944FC0DF761CA2112D31C05182EA09AC944FC0C2E74F9D112D31C0', unidad_05='L19.1', unidad_01='483', unidad_02='DON SERAFIN SRL--BOLIVAR', area=0.83, id_inspeccion=233)])]\n",
      "[{'s3_filename': 'IMG-20250716-WA0056.jpg'}]\n",
      "Informe generado de 2662 / DON SERAFIN SRL.\n",
      "insp(id=237, informe_generado=False, fecha_registro='2025-07-16 17:47:46+00:00', fecha_quema='15/07/2025', fecha_inspeccion='16/07/2025', canhero='7829 / SENA VILLARROEL DANIEL', superficie_total=13.55, rendimiento=55.0, produccion=745.25, cite=143, inicio_incendio='Fuera de la propiedad', causa='Quema de malojo', responsable_de_quema='Quema de malojo en lote vecino', observaciones=None, link_informe=None, tipo_cosecha='MECANIZADO', amigo_id='9cb934a0fc1b49e69a815b2629fa695e', responsable_tec='Bismark Socompi Rodríguez', ubicacion='0104000020E61000000300000001010000006B1CFBA3B9944FC0128F1F85462931C00101000000B185C54DB2944FC0F2295B7FA62931C001010000005F44DB3175944FC0F86D88F19A2931C0', date='16/07/2025')\n",
      "[propiedad(unidad_01='535', unidad_02='GALVARRO--SENA', lote=[lote(fecha_registro='2025-07-16 20:38:52.558201+00:00', amigo_id='217deb409f3f4d509a9d954e473b52fb', id=205, geometria='0106000020E61000000100000001030000000100000005000000725F6D008F944FC0ABEDE5C4922931C0D2973C2B5B944FC0A68DC9C6902931C0A8BF63065B944FC061E0F5FFA52931C08523B75790944FC024E3672AA52931C0725F6D008F944FC0ABEDE5C4922931C0', unidad_05='L1.2', unidad_01='535', unidad_02='GALVARRO--SENA', area=0.57, id_inspeccion=237), lote(fecha_registro='2025-07-16 20:38:52.558201+00:00', amigo_id='b7159985e95649a5a5074bf858039361', id=207, geometria='0106000020E61000000100000001030000000100000013000000BDC8E8C604954FC0EE56E630952931C0C1514A5BBC944FC01516E53E952931C0E3A14C2F8F944FC07A2ADDC4922931C0FB1C459390944FC0B895D38CA52931C09FC19DA260944FC041EA9A53A62931C04745BBE45A944FC0A897666BA62931C08BB63CA159944FC051D4BD73BE2931C05FE06F469B944FC0E1AC0A5FBF2931C06965EF3DA5944FC06832B914BF2931C001FDC15EB1944FC089FD87D8BD2931C05E1E8F16BC944FC097A120DDBD2931C0EC935D4CBD944FC04F5EF62CBE2931C008A7FFD3C0944FC0FE3F2908BE2931C02FD49DC1DD944FC08097B69ABF2931C0EB8B10D0EF944FC00A7E83A1C12931C026E8A44604954FC06C4E004DC42931C020F01BED04954FC0B9857F1CAF2931C02ED4B09E05954FC05907BC30952931C0BDC8E8C604954FC0EE56E630952931C0', unidad_05='L1.1', unidad_01='535', unidad_02='GALVARRO--SENA', area=3.49, id_inspeccion=237), lote(fecha_registro='2025-07-16 20:38:52.558201+00:00', amigo_id='28496b10ecfe4ccd9fe5c5266d2c2706', id=206, geometria='0106000020E610000001000000010300000001000000080000004725D97461944FC0E66062F2262931C045900FF75F944FC0D16117615D2931C01AF790DA5E944FC0BE541BB18F2931C00ACB432A63944FC0ABAEB6D58F2931C0BDC8E8C604954FC0EE56E630952931C0E9FF5E0106954FC05FB243C32C2931C076E30536C5944FC06A5302412A2931C04725D97461944FC0E66062F2262931C0', unidad_05='L1.3', unidad_01='535', unidad_02='GALVARRO--SENA', area=9.49, id_inspeccion=237)])]\n",
      "[{'s3_filename': 'IMG-20250716-WA0063.jpg'}]\n",
      "Informe generado de 7829 / SENA VILLARROEL DANIEL\n",
      "insp(id=236, informe_generado=False, fecha_registro='2025-07-16 17:42:31+00:00', fecha_quema='15/07/2025', fecha_inspeccion='16/07/2025', canhero='8409 / MELENDRES ALDANA JULIO', superficie_total=11.17, rendimiento=65.0, produccion=726.05, cite=144, inicio_incendio='Fuera de la propiedad', causa='Quema paso desde propiedad vecina', responsable_de_quema='Quema inicio desde propiedad', observaciones=None, link_informe=None, tipo_cosecha='SEMI-MECANIZADO', amigo_id='6d8bc40211614aa0a35b2236d50dae6f', responsable_tec='Bismark Socompi Rodríguez', ubicacion='0104000020E610000006000000010100000051A1BAB9F8944FC0406A1327F72931C00101000000144F875FFB944FC01715CCF33B2A31C00101000000CB5E002BD1944FC046A5C7A5E02931C00101000000D1E39C7D8A944FC06C2D82B5202A31C0010100000095EB127AA2944FC0AE8218E8DA2931C00101000000DA006C4084944FC0624D6551D82931C0', date='16/07/2025')\n",
      "[propiedad(unidad_01='289', unidad_02='DON JULIO II--MELENDRES', lote=[lote(fecha_registro='2025-07-16 20:38:52.558201+00:00', amigo_id='b1a032b3101b4c2caa4c681ba671a28f', id=203, geometria='0106000020E6100000010000000103000000010000001D000000F548981A59944FC063112F5E1F2A31C070B3DCDE58944FC07126C9A1302A31C02CFB71A658944FC014FB49C3482A31C0CD91A66EB8944FC0AD34CCA04A2A31C01F1B6CCFF0944FC06AE7B7984F2A31C0FBC7335DF0944FC06DD56E95202A31C05A42D42FF0944FC033FBA2261F2A31C0FAAE3995EF944FC02F1630C21E2A31C081576168EF944FC0E64848241B2A31C07A8D1E3EEF944FC0F8EE73E1152A31C09D0C6F29EF944FC01B3CEC810B2A31C047503CAEEE944FC0736A4D37072A31C053D15A22ED944FC009BA78C7042A31C0D407C028DA944FC066F4D88C022A31C050B74FEBCC944FC0B7C5DF55022A31C05BD11496C1944FC0EC18A01F012A31C0EF9CE144BB944FC0FF3A1C47FD2931C02AF15EECB3944FC03004C5D3F72931C05714D117AE944FC03F9C8D5CF32931C03391AA59AB944FC01E2104C1F22931C09287646EA0944FC0B529C870F22931C0760F5F969D944FC00FA18E9FF02931C0B2BED2449C944FC0A666C4D0EF2931C0B5A98A4492944FC06CEE16F1EE2931C0C24D6D2081944FC05140CD2AED2931C0E164E0CA78944FC04C512B5AEC2931C0AA29AAA672944FC0F34FC7C8EB2931C0C8B018D173944FC038C46DE31F2A31C0F548981A59944FC063112F5E1F2A31C0', unidad_05='L6', unidad_01='289', unidad_02='DON JULIO II--MELENDRES', area=6.28, id_inspeccion=236), lote(fecha_registro='2025-07-16 20:38:52.558201+00:00', amigo_id='6bb51e04f8d84ae38b284446ff51c741', id=204, geometria='0106000020E61000000100000001030000000100000014000000A1E0C21001954FC081109FEE322A31C08D53091301954FC0EF47FD70212A31C0298A26BAFD944FC038396425202A31C093EB29D4FB944FC053DDE9151F2A31C02A493DE6F8944FC0B871DA2C1E2A31C07B4DCFF6F5944FC0694ADF611F2A31C0DC107E89F4944FC036E6EDAE1F2A31C03B10FC1CF3944FC0E36F8E9F1E2A31C00B84AE5EF1944FC00989209F1E2A31C04D2D77D0F0944FC05E0B867F212A31C0B779F9BBF0944FC0E4914496252A31C0965012F8F0944FC0A0C9FD762D2A31C093635533F1944FC08540374D412A31C03466CF4EF1944FC041F86E644F2A31C00B17E07FF4944FC09A88CBC94F2A31C0B9B5BCB3F8944FC025DE2F0A502A31C000D6B059FD944FC0C2B0741C502A31C0077437A8FF944FC075B6A1D84F2A31C0777945FC00954FC044F16AC74E2A31C0A1E0C21001954FC081109FEE322A31C0', unidad_05='L5', unidad_01='289', unidad_02='DON JULIO II--MELENDRES', area=0.42, id_inspeccion=236), lote(fecha_registro='2025-07-16 20:38:52.558201+00:00', amigo_id='b7146a2ada644283b7086c17f6e4a15d', id=199, geometria='0106000020E610000001000000010300000001000000190000007B934F24BC944FC0AF7F8052BE2931C06CAEF1C6B2944FC0F6B9E53DBE2931C068DE8CB2A9944FC07B89CF44BF2931C0323DB55AA0944FC037932E13C02931C0880845299B944FC009A022F4BF2931C020391E649D944FC0FBECE39DEB2931C053904B019E944FC0BADF60F7ED2931C0AC789049A0944FC057C25B26F02931C09A82C545A3944FC0F78B00A8F02931C01E404939A7944FC056AF0F7EF02931C05A0C63E9AA944FC0C3B625FEEF2931C0289B6A70AB944FC0418DEFA4ED2931C0EA9706E1AB944FC04089E39FEA2931C07928AE24AC944FC095F5D76FE72931C099C400F8AB944FC0191CE193E32931C0FDD00ED9AC944FC0029F378DDF2931C03ACEC29AAE944FC051FD485FDD2931C081EC3C93B4944FC060A1C28BDD2931C0859B5070B8944FC0C45D02B6DC2931C02A706BB9BA944FC0D7FF1C33DA2931C081DD4384BB944FC095D30D7CD72931C0DA3CA142BB944FC0336624C9D12931C0CDD15343BB944FC0D4D3EDDFC72931C00F7DAE96BB944FC011D053A9C32931C07B934F24BC944FC0AF7F8052BE2931C0', unidad_05='L3', unidad_01='289', unidad_02='DON JULIO II--MELENDRES', area=0.67, id_inspeccion=236), lote(fecha_registro='2025-07-16 20:38:52.558201+00:00', amigo_id='0a00e25fcf744ec0980f2fdd963b9583', id=200, geometria='0106000020E610000001000000010300000001000000150000003906553704954FC0122CB3D7C42931C0D66BD6A6F4944FC0D76C369FC22931C0AC9FFE4AF2944FC06806231D032A31C0F0879EFFEE944FC0433B66E5032A31C0C46495E9EE944FC00C6859BB062A31C0E7C0F966EF944FC03DE35D3E0B2A31C04F3A8C84EF944FC05115271B102A31C0A5FBA68EEF944FC036C52BC2182A31C026233BDDEF944FC01EA043F91D2A31C05FDFA4B0F0944FC0C4D60B3E1E2A31C05393DCE4F1944FC0F8C6B1491E2A31C0FEC09B3CF3944FC0BD37084A1E2A31C0A09EF988F4944FC0768B61381F2A31C0FCBAE9C2F5944FC0E54D08001F2A31C054A371B4F7944FC05D4A76341E2A31C08658DBD0F8944FC0F5D659C31D2A31C0632133ACF9944FC0107946FC1D2A31C0E17DF4F6FB944FC06CCAEBA61E2A31C0EF66F5C4FD944FC0D00901AC1F2A31C0EA13180901954FC0B1A49FEA202A31C03906553704954FC0122CB3D7C42931C0', unidad_05='L1', unidad_01='289', unidad_02='DON JULIO II--MELENDRES', area=0.82, id_inspeccion=236), lote(fecha_registro='2025-07-16 20:38:52.558201+00:00', amigo_id='4549b6fd3c494d82a8be92773bc92c75', id=201, geometria='0106000020E6100000010000000103000000010000000C000000DB8AF51C9A944FC0BC14B221C02931C02043ED5E72944FC0C4E4A125BF2931C0D4482D7373944FC00891A721EA2931C0924545D974944FC0FD4C20EEEA2931C0DA1D5D3180944FC06A177CB3EB2931C0C08F90198E944FC0A29E3547ED2931C054B1125199944FC0EBFF139BEE2931C0EDC8C0449C944FC09470D49BEE2931C0FA55A4A99C944FC0B75A96BAEC2931C0D59AB37E9C944FC08FAD9F5FE82931C044F41AB99B944FC050531D7FDB2931C0DB8AF51C9A944FC0BC14B221C02931C0', unidad_05='L4', unidad_01='289', unidad_02='DON JULIO II--MELENDRES', area=1.0, id_inspeccion=236), lote(fecha_registro='2025-07-16 20:38:52.558201+00:00', amigo_id='f57dbf076d024962a013780f40c6a16d', id=202, geometria='0106000020E61000000100000001030000000100000019000000E6FE8997F1944FC03D7E5E09022A31C0E5A755EEF3944FC075B4D162C22931C0738D9D88DA944FC0F475EF2BC02931C0C28632BBBC944FC0F89D1E7FBE2931C06CF702D8BB944FC0680956D3C62931C0FDD9C7BEBB944FC09C0493B7CF2931C0DE2096F2BB944FC0EC89AA87D62931C03045075DBB944FC08AE070F0D92931C0A7EEBDC6BA944FC02DC834D5DB2931C05272A995BA944FC0D139DA4ADE2931C00A06CCC8BA944FC02E36E1B1E12931C089376347BB944FC0F75B14BEE72931C0264F9BF8BB944FC027CCAAFAED2931C049CA99F8BB944FC03AFA2331F12931C08D4E2596BA944FC0370C9F67F42931C086B2D27CBA944FC006AC97DCF62931C05D3D0E2EBB944FC0D15C4227FC2931C04DBCBD9BC1944FC0186980BEFF2931C0AD376B8ACC944FC0D07C196A012A31C075F0DF5DD8944FC0B1DD91D6012A31C01841EF05DD944FC0A98E92D6012A31C0885753A3E2944FC00D0A59AF022A31C0E248FDFAEC944FC08D8532AC032A31C03EB100C6EE944FC0BCF5534E022A31C0E6FE8997F1944FC03D7E5E09022A31C0', unidad_05='L2', unidad_01='289', unidad_02='DON JULIO II--MELENDRES', area=1.98, id_inspeccion=236)])]\n",
      "[{'s3_filename': 'IMG-20250716-WA0061.jpg'}]\n",
      "Informe generado de 8409 / MELENDRES ALDANA JULIO\n",
      "insp(id=239, informe_generado=False, fecha_registro='2025-07-16 17:56:22+00:00', fecha_quema='15/07/2025', fecha_inspeccion='16/07/2025', canhero='632 / ACUNA CANO EUGENIO', superficie_total=2.75, rendimiento=60.0, produccion=165.0, cite=145, inicio_incendio='Fuera de la propiedad', causa='Quema de malojo', responsable_de_quema='Que de malojo en propiedad vecina', observaciones=None, link_informe=None, tipo_cosecha='SEMI-MECANIZADO', amigo_id='4248a7d74b3f444c9beb31266f82a196', responsable_tec='Bismark Socompi Rodríguez', ubicacion='0104000020E6100000020000000101000000F874D080D5944FC0C6973F95892B31C0010100000022664007A7944FC0DF13909B862B31C0', date='16/07/2025')\n",
      "[propiedad(unidad_01='758', unidad_02='FERREL I', lote=[lote(fecha_registro='2025-07-16 20:38:52.558201+00:00', amigo_id='84c48f3bf31f45db80cd391dc96315ee', id=208, geometria='0106000020E61000000100000001030000000100000014000000FDCFBA5DBC944FC0E48D886B702B31C04991C61FAB944FC0A644D9D46E2B31C071757F06A9944FC0A1559F9B712B31C09DA17CA2A2944FC0C1C3D70C742B31C09FE7DD4E9D944FC07AC1B741742B31C0B47845DA95944FC0EEB058316F2B31C06BD7E70992944FC01AFE1E856C2B31C04A3B3BB586944FC00D55D4796B2B31C00068BF7386944FC0F412E19B6C2B31C05B77F52F85944FC05B0761BD742B31C02EC5198385944FC0ECE6C5A77C2B31C04A3E4E0187944FC0CEBAB486A02B31C066BB2D8692944FC035BCF20D992B31C0214B36579D944FC09B569898932B31C0DE821A2EA6944FC01511180A962B31C0810EDD61B3944FC0C532B2239C2B31C01FE742B8BA944FC0BA28E9629F2B31C09AECC9FABB944FC03BF7EB6AA02B31C09CECC9FABB944FC03BF7EB6AA02B31C0FDCFBA5DBC944FC0E48D886B702B31C0', unidad_05='L5.1', unidad_01='758', unidad_02='FERREL I', area=1.24, id_inspeccion=239), lote(fecha_registro='2025-07-16 20:38:52.558201+00:00', amigo_id='04e6e402c76e480098ad6e60642307de', id=209, geometria='0106000020E6100000010000000103000000010000000C000000F955F745BC944FC0F080EB27A52B31C0BBBDADD2EE944FC027A13DF5A62B31C02F513601F4944FC00727B47D6A2B31C048C42E1DF1944FC04730E6126A2B31C0C298FC9AE8944FC0A9712D1F6A2B31C017253B91E8944FC036D5E53B6A2B31C0C9525CE9DE944FC0631E4B7E772B31C08B54C2DFD6944FC00E574480782B31C0BD0126D2D3944FC03B0F3D46772B31C07F432911C3944FC0371799FD6F2B31C0C8D561D1BC944FC0008B13286F2B31C0F955F745BC944FC0F080EB27A52B31C0', unidad_05='L5.3', unidad_01='758', unidad_02='FERREL I', area=1.51, id_inspeccion=239)])]\n",
      "[{'s3_filename': 'IMG-20250716-WA0072.jpg'}]\n",
      "Informe generado de 632 / ACUNA CANO EUGENIO\n",
      "insp(id=235, informe_generado=False, fecha_registro='2025-07-16 17:39:00+00:00', fecha_quema='16/07/2025', fecha_inspeccion='16/07/2025', canhero='7910 / SENA VILLARROEL CRISTOBAL', superficie_total=4.21, rendimiento=60.0, produccion=252.6, cite=146, inicio_incendio='Fuera de la propiedad', causa='Quema paso desde propiedad vecina', responsable_de_quema='El fuego para de la quema desde otra propiedad.', observaciones=None, link_informe=None, tipo_cosecha='SEMI-MECANIZADO', amigo_id='76ee6add8b8942758ad672f3ea30beb8', responsable_tec='Bismark Socompi Rodríguez', ubicacion='0104000020E610000003000000010100000083F178FFC4944FC01846D50A2E2D31C00101000000EF50B92EA1944FC07BCB8B02332D31C00101000000B8DF466F5D944FC00F71BDB7332D31C0', date='16/07/2025')\n",
      "[propiedad(unidad_01='1072', unidad_02='SANTA LUCIA--SENA CRISTOBAL', lote=[lote(fecha_registro='2025-07-16 20:38:52.558201+00:00', amigo_id='0d5ee55e3b7d40809a334cb859deb749', id=197, geometria='0106000020E6100000010000000103000000010000000900000077FD809CD5944FC08B7C2030152D31C0EC5255D9BC944FC025B32B07132D31C066311DEDBA944FC0B918276B142D31C0A9F19FECB9944FC038282F28212D31C036F93C76B6944FC0EB8906F54A2D31C08A5B04EDB5944FC01A68D3894D2D31C0514CE4E6B6944FC08DA297964F2D31C089E716EFD2944FC0F46F03DF512D31C077FD809CD5944FC08B7C2030152D31C0', unidad_05='L1', unidad_01='1072', unidad_02='SANTA LUCIA--SENA CRISTOBAL', area=0.92, id_inspeccion=235), lote(fecha_registro='2025-07-16 20:38:52.558201+00:00', amigo_id='cfd7c1ad0cc64d96bc4c2dad7cd1933c', id=198, geometria='0106000020E6100000010000000103000000010000000F00000066FE563D8F944FC065F8A699102D31C0F5643E758E944FC0F4C58590102D31C045F6114C8E944FC072B4D584102D31C0B995D4238B944FC0C6F2E2610E2D31C00002E69786944FC069340F23102D31C0947FFC7786944FC0AF05412B102D31C0DD23AF4A83944FC091D6F3FB102D31C078B021867C944FC0707FFB48492D31C06928D37B7E944FC0B037766A4A2D31C07BE605F1B4944FC0EBC9CBC74E2D31C0FFD275C7B5944FC0063D1A8C4A2D31C0D92E9D19BA944FC02BE43931142D31C0B50528899D944FC04558E14A142D31C08D3993A095944FC02A6DC469122D31C066FE563D8F944FC065F8A699102D31C0', unidad_05='L2', unidad_01='1072', unidad_02='SANTA LUCIA--SENA CRISTOBAL', area=1.78, id_inspeccion=235), lote(fecha_registro='2025-07-16 20:38:52.558201+00:00', amigo_id='6cb03e20df65422f9b20762b034697d8', id=196, geometria='0106000020E6100000010000000103000000010000000D0000001DC8F0FB6C944FC0B9331B6D4E2D31C04676FEB174944FC08A9B765F162D31C0E07082D16F944FC0404C52FC142D31C087C31D854D944FC0E540ADE0112D31C0912545C944944FC0CC6AE9FE0E2D31C06B4464433F944FC08D813EA84D2D31C051F827A847944FC02E8D6DF04D2D31C00459295B4C944FC0DFB269A84D2D31C0E00671BF4E944FC03739A1CF4C2D31C0A07EC30760944FC00D1F3AFE4C2D31C0EB2FDEE966944FC05ED75A1C4D2D31C0C7F334146A944FC0726073704E2D31C01DC8F0FB6C944FC0B9331B6D4E2D31C0', unidad_05='L3', unidad_01='1072', unidad_02='SANTA LUCIA--SENA CRISTOBAL', area=1.51, id_inspeccion=235)])]\n",
      "[{'s3_filename': 'IMG-20250716-WA0055.jpg'}]\n",
      "Informe generado de 7910 / SENA VILLARROEL CRISTOBAL\n",
      "insp(id=241, informe_generado=False, fecha_registro='2025-07-17 12:14:35+00:00', fecha_quema='15/07/2025', fecha_inspeccion='16/07/2025', canhero='14826 / VELASQUEZ CLAROS JACINTO', superficie_total=15.42, rendimiento=60.0, produccion=925.2, cite=147, inicio_incendio='Fuera de la propiedad', causa='Quema de malojo', responsable_de_quema='Quema de malojo en lote vecino', observaciones=None, link_informe=None, tipo_cosecha='MECANIZADO', amigo_id='3beb1a5f049c47bf93d661ec377e396d', responsable_tec='Bismark Socompi Rodríguez', ubicacion='0104000020E6100000020000000101000000234C512E8D964FC0E3A9471ADC2631C00101000000598B4F0130964FC0C0EB33677D2631C0', date='17/07/2025')\n",
      "[propiedad(unidad_01='752', unidad_02='GUARACACHICITO--VELASQUEZ', lote=[lote(fecha_registro='2025-07-17 12:39:35.864538+00:00', amigo_id='ae1eae54bfb5404ea2bf3902f0d1e812', id=211, geometria='0106000020E6100000010000000103000000010000000F0000000216AF1144964FC0D9D9427EBE2631C069BBF4534E964FC05CA7D8486B2631C03D56169D06964FC01E4821C0402631C04990BE1604964FC0ECB2DD1A512631C0BE4A1FA808964FC0151D47CE5E2631C0ACEA57FE0B964FC07EC6FF82692631C02A7EDA520F964FC096FBD8DE712631C0E3D7A20810964FC0A6D62FE3782631C027FA248713964FC0673B5F3A832631C0DE7DA35F1B964FC0F8F3C6E48D2631C08701610226964FC0DCED1F3A972631C0E94B4E3F2F964FC0B6B68F8E9D2631C0F75898F837964FC04FEB4E3BA82631C0501581BA3D964FC0E1F89891B12631C00216AF1144964FC0D9D9427EBE2631C0', unidad_05='L1.2', unidad_01='752', unidad_02='GUARACACHICITO--VELASQUEZ', area=2.43, id_inspeccion=241), lote(fecha_registro='2025-07-17 12:39:35.864538+00:00', amigo_id='6e4f79bc526541a0905b53e568309312', id=212, geometria='0106000020E610000001000000010300000001000000150000000216AF1144964FC0D9D9427EBE2631C02B4FE19045964FC057525C8BC12631C02CED88FE4B964FC0EFEED7F3CE2631C021C60D1352964FC0CEEE3D26F92631C02D001AE655964FC0DF3A99C7042731C0907C45085D964FC04D57736E102731C0C4273D976A964FC0E1ECF10E1F2731C03E35FFEE72964FC096D204052B2731C0F863A0657A964FC08CD12D9F3C2731C04491BCBA82964FC00B12C1114F2731C008ABE01187964FC0497558B35B2731C0036080D889964FC0C419FAF46B2731C0C3E3D7198C964FC0DB1F42E3792731C08AB8CDF78C964FC0E79D4CD5842731C04A04492CB6964FC0CECB6A70972731C06213AF17CA964FC06E5FDD9EBB2631C063E11A3ECA964FC09FADA538BA2631C014A7CFBCC9964FC0A85A9CB3B72631C0CC410D6FC8964FC07AD3A4B3B32631C069BBF4534E964FC05CA7D8486B2631C00216AF1144964FC0D9D9427EBE2631C0', unidad_05='L1.1', unidad_01='752', unidad_02='GUARACACHICITO--VELASQUEZ', area=12.99, id_inspeccion=241)])]\n",
      "[{'s3_filename': 'IMG-20250716-WA0091.jpg'}]\n",
      "Informe generado de 14826 / VELASQUEZ CLAROS JACINTO\n",
      "insp(id=240, informe_generado=False, fecha_registro='2025-07-16 20:27:43+00:00', fecha_quema='15/07/2025', fecha_inspeccion='16/07/2025', canhero='6401 / JALDIN SOTO BRIGIDA', superficie_total=9.24, rendimiento=65.0, produccion=600.6, cite=148, inicio_incendio='Fuera de la propiedad', causa='Quema paso desde propiedad vecina', responsable_de_quema='Quema de malojo en propiedad vecina', observaciones=None, link_informe=None, tipo_cosecha='SEMI-MECANIZADO', amigo_id='7c9bc92feae8489fb28a69afafe057c8', responsable_tec='Bismark Socompi Rodríguez', ubicacion='0104000020E61000000300000001010000001B78FF69B4944FC0A0A4C002982A31C0010100000074ECA012D7944FC0F874D080D52A31C0010100000046802E75EB944FC021C43AFA042B31C0', date='16/07/2025')\n",
      "[propiedad(unidad_01='2259', unidad_02='FERREL I--JALDIN', lote=[lote(fecha_registro='2025-07-17 13:53:37.382655+00:00', amigo_id='81e41a863bb54c65955aaaa89781191e', id=213, geometria='0106000020E6100000010000000103000000010000001500000028AC2A2BAE944FC0598A428AB02A31C0225898FEC1944FC0FAD1B195B12A31C043AA43E9C6944FC05101F709BB2A31C0A4569138CE944FC01DB094AAC12A31C0B0E42DE3FC944FC096407346C42A31C041503BDDFE944FC05042B5828A2A31C0F8399FFEFE944FC04504FBB2862A31C081FCD59D84944FC025540503802A31C00618DC9D84944FC05F63800E802A31C0AFF36BBE83944FC08DE5CEF67F2A31C0B274C1FF55944FC02A0D94767D2A31C01F716A6E56944FC040581E9FAB2A31C0239DAF385D944FC08CC92F01AC2A31C0702A917964944FC060FA8374AA2A31C0386FE67964944FC04143B778AA2A31C0ED64E59A68944FC0D860CDE0A92A31C07287CC236E944FC05E990DF4A92A31C0F5074FB383944FC09C7C860BAC2A31C079E14DB584944FC0897F6820AC2A31C0BFFB67B491944FC0B09A400AAF2A31C028AC2A2BAE944FC0598A428AB02A31C0', unidad_05='L1.2', unidad_01='2259', unidad_02='FERREL I--JALDIN', area=4.66, id_inspeccion=240), lote(fecha_registro='2025-07-17 13:53:37.382655+00:00', amigo_id='9cf6b904c02c46eeba1b4b518e1ef29b', id=214, geometria='0106000020E61000000100000001030000000100000023000000C6C8F6E8C5944FC0F768355BEF2A31C0A6748280FA944FC0637806F1F22A31C0D7C7C6A8FC944FC0D38474D2C82A31C0C74F4236FC944FC050FF89C0C72A31C0A695D375DC944FC014777296C52A31C00C1D2CD8D5944FC0731B9FD7C42A31C037A57AFBCD944FC0AE8DF1DEC42A31C0716FB952CC944FC0A1E8C3EBC32A31C0345B1228CB944FC0C97133F7C22A31C095A4D317CA944FC0CD2B3037C22A31C07AE6B51DC7944FC0E5F0FFA3BF2A31C08F0DA01DC7944FC0F59146A7BF2A31C0A36E7BEAC5944FC09FD599E5BC2A31C04BBBB7DCC2944FC07762B767B82A31C08C5884E6BF944FC01DC6B1FDB52A31C0FC9FFD8CBD944FC0464CE40DB52A31C051E021FCB7944FC089D7B0AFB42A31C05A2ABE03B7944FC08FD5449FB42A31C088CCEB2EB1944FC0DF56923CB42A31C05F98099499944FC07AB5BBF6B22A31C03428DECD85944FC0FAA5AA95AE2A31C0C1FA4EEE7D944FC022CBC51EAD2A31C095335A1875944FC0DD5EEB3FAC2A31C0ACB944B174944FC0FFE63D39CD2A31C0C26EBF9274944FC0BF6754FCD62A31C0265CA40778944FC00BB8081BD72A31C0F77A03F77D944FC0346AED78D72A31C0257898F585944FC09062CA61DB2A31C057EA989689944FC04B081595E22A31C00DCA10978A944FC0890FD5C3E62A31C0868BBAB089944FC009B40189EE2A31C06418AD7B96944FC0AF0F1958EE2A31C034AA7E82B6944FC07E7699DDED2A31C006E267E2C5944FC0F3F1C25AEF2A31C0C6C8F6E8C5944FC0F768355BEF2A31C0', unidad_05='L1.1', unidad_01='2259', unidad_02='FERREL I--JALDIN', area=3.71, id_inspeccion=240), lote(fecha_registro='2025-07-17 13:53:37.382655+00:00', amigo_id='750b4e1bb9c244a7a18ea68d533563ec', id=215, geometria='0106000020E61000000100000001030000000100000009000000FBF6BDBFF7944FC081BEF1B0282B31C0A6748280FA944FC0637806F1F22A31C0C6C8F6E8C5944FC0F768355BEF2A31C0EB96AEB4C5944FC0F054A76FF72A31C06376E224D2944FC078A47058022B31C0F4E85EB9DD944FC055A270CA0A2B31C00655301DEA944FC0D3D30419112B31C0A611C3E4E8944FC0CCCC9C64272B31C0FBF6BDBFF7944FC081BEF1B0282B31C0', unidad_05='L2.1', unidad_01='2259', unidad_02='FERREL I--JALDIN', area=0.87, id_inspeccion=240)])]\n",
      "[{'s3_filename': 'IMG-20250716-WA0072(1).jpg'}]\n",
      "Informe generado de 6401 / JALDIN SOTO BRIGIDA\n",
      "No se encontraron registros nuevos\n",
      "No se encontraron registros nuevos\n",
      "No se encontraron registros nuevos\n",
      "No se encontraron registros nuevos\n",
      "No se encontraron registros nuevos\n",
      "No se encontraron registros nuevos\n",
      "No se encontraron registros nuevos\n",
      "No se encontraron registros nuevos\n",
      "No se encontraron registros nuevos\n",
      "No se encontraron registros nuevos\n",
      "No se encontraron registros nuevos\n",
      "No se encontraron registros nuevos\n",
      "No se encontraron registros nuevos\n",
      "No se encontraron registros nuevos\n",
      "No se encontraron registros nuevos\n",
      "No se encontraron registros nuevos\n",
      "No se encontraron registros nuevos\n",
      "No se encontraron registros nuevos\n",
      "No se encontraron registros nuevos\n",
      "No se encontraron registros nuevos\n",
      "No se encontraron registros nuevos\n",
      "No se encontraron registros nuevos\n",
      "No se encontraron registros nuevos\n",
      "No se encontraron registros nuevos\n",
      "No se encontraron registros nuevos\n",
      "No se encontraron registros nuevos\n",
      "No se encontraron registros nuevos\n",
      "No se encontraron registros nuevos\n",
      "No se encontraron registros nuevos\n",
      "No se encontraron registros nuevos\n",
      "No se encontraron registros nuevos\n",
      "No se encontraron registros nuevos\n",
      "No se encontraron registros nuevos\n",
      "No se encontraron registros nuevos\n",
      "No se encontraron registros nuevos\n",
      "No se encontraron registros nuevos\n",
      "No se encontraron registros nuevos\n",
      "No se encontraron registros nuevos\n",
      "No se encontraron registros nuevos\n",
      "No se encontraron registros nuevos\n",
      "No se encontraron registros nuevos\n",
      "No se encontraron registros nuevos\n",
      "No se encontraron registros nuevos\n",
      "No se encontraron registros nuevos\n",
      "No se encontraron registros nuevos\n",
      "No se encontraron registros nuevos\n",
      "No se encontraron registros nuevos\n",
      "No se encontraron registros nuevos\n",
      "No se encontraron registros nuevos\n",
      "No se encontraron registros nuevos\n",
      "No se encontraron registros nuevos\n",
      "No se encontraron registros nuevos\n",
      "No se encontraron registros nuevos\n",
      "No se encontraron registros nuevos\n",
      "No se encontraron registros nuevos\n",
      "No se encontraron registros nuevos\n",
      "No se encontraron registros nuevos\n",
      "No se encontraron registros nuevos\n",
      "No se encontraron registros nuevos\n",
      "No se encontraron registros nuevos\n",
      "No se encontraron registros nuevos\n",
      "No se encontraron registros nuevos\n",
      "No se encontraron registros nuevos\n",
      "No se encontraron registros nuevos\n",
      "No se encontraron registros nuevos\n",
      "No se encontraron registros nuevos\n",
      "No se encontraron registros nuevos\n",
      "No se encontraron registros nuevos\n",
      "No se encontraron registros nuevos\n",
      "No se encontraron registros nuevos\n",
      "No se encontraron registros nuevos\n"
     ]
    },
    {
     "name": "stderr",
     "output_type": "stream",
     "text": [
      "\n",
      "KeyboardInterrupt\n",
      "\n"
     ]
    },
    {
     "data": {
      "text/plain": [
       "<Figure size 2000x2000 with 0 Axes>"
      ]
     },
     "metadata": {},
     "output_type": "display_data"
    },
    {
     "data": {
      "text/plain": [
       "<Figure size 2000x2000 with 0 Axes>"
      ]
     },
     "metadata": {},
     "output_type": "display_data"
    },
    {
     "data": {
      "text/plain": [
       "<Figure size 2000x2000 with 0 Axes>"
      ]
     },
     "metadata": {},
     "output_type": "display_data"
    },
    {
     "data": {
      "text/plain": [
       "<Figure size 2000x2000 with 0 Axes>"
      ]
     },
     "metadata": {},
     "output_type": "display_data"
    },
    {
     "data": {
      "text/plain": [
       "<Figure size 2000x2000 with 0 Axes>"
      ]
     },
     "metadata": {},
     "output_type": "display_data"
    },
    {
     "data": {
      "text/plain": [
       "<Figure size 2000x2000 with 0 Axes>"
      ]
     },
     "metadata": {},
     "output_type": "display_data"
    },
    {
     "data": {
      "text/plain": [
       "<Figure size 2000x2000 with 0 Axes>"
      ]
     },
     "metadata": {},
     "output_type": "display_data"
    },
    {
     "data": {
      "text/plain": [
       "<Figure size 2000x2000 with 0 Axes>"
      ]
     },
     "metadata": {},
     "output_type": "display_data"
    }
   ],
   "source": [
    "while True:\n",
    "    reg_nuevos = buscar_nuevos()\n",
    "    if len(reg_nuevos) == 0:\n",
    "        print('No se encontraron registros nuevos')\n",
    "        continue\n",
    "    for i in reg_nuevos:\n",
    "        insp = obtener_inspeccion(i)\n",
    "        ejecutar_scripts_sql()\n",
    "        lotes = obtener_lotes(i)\n",
    "        if len(lotes) == 0:\n",
    "            print(f'Inspeccion {i} no tiene lotes asignados')\n",
    "            continue\n",
    "        # de lotes eliminar todos los duplicados, y solo se queda con el codigo y nombre de propiedad, esto sera el objeto de propiedades que son parte de la inspeccion\n",
    "        props = eliminar_duplicados_y_conservar_campos(lotes, 'unidad_01', ['unidad_01', 'unidad_02'])\n",
    "        propiedades = propiedades_lotes(props)\n",
    "        fotos = obtener_fotos(insp.amigo_id)\n",
    "        \n",
    "        if len(fotos) == 0:\n",
    "            print(f'Inspeccion {i} no tiene fotos')\n",
    "        lista_planos = generar_planos(insp, propiedades)\n",
    "        print(insp)\n",
    "        print(propiedades)\n",
    "        print(fotos)\n",
    "        generar_reporte(insp, propiedades, fotos, lista_planos)\n",
    "        cambiar_estado_informe(i)\n",
    "        print(f'Informe generado de {insp.canhero}')"
   ]
  },
  {
   "cell_type": "code",
   "execution_count": null,
   "id": "5afbeb63-ca86-44cb-b422-2ed1a65351d7",
   "metadata": {},
   "outputs": [],
   "source": []
  },
  {
   "cell_type": "code",
   "execution_count": null,
   "id": "1686cb93-0a2d-4a23-8b0d-1cac5d049582",
   "metadata": {},
   "outputs": [],
   "source": []
  },
  {
   "cell_type": "code",
   "execution_count": null,
   "id": "8a114a9a-a890-465a-8186-fc7c55a65a91",
   "metadata": {},
   "outputs": [],
   "source": []
  },
  {
   "cell_type": "code",
   "execution_count": null,
   "id": "fee5edd8-3588-48be-818c-55020d3eafa5",
   "metadata": {},
   "outputs": [],
   "source": []
  },
  {
   "cell_type": "code",
   "execution_count": null,
   "id": "ed78fec9-90a7-4a20-a1ff-167b6f81a05c",
   "metadata": {},
   "outputs": [],
   "source": []
  },
  {
   "cell_type": "code",
   "execution_count": null,
   "id": "72f59c09-33d4-4da9-a83d-15c54b52264a",
   "metadata": {},
   "outputs": [],
   "source": []
  },
  {
   "cell_type": "code",
   "execution_count": null,
   "id": "2ce4c3d1-2897-47f2-bf42-766ba1c3386a",
   "metadata": {},
   "outputs": [],
   "source": []
  },
  {
   "cell_type": "code",
   "execution_count": null,
   "id": "fe13e4b5-b7d9-4137-a4c0-146dd21d7d74",
   "metadata": {},
   "outputs": [],
   "source": []
  },
  {
   "cell_type": "code",
   "execution_count": null,
   "id": "a04fceb2-bdb8-4ac3-a762-7d9ef6a2b420",
   "metadata": {},
   "outputs": [],
   "source": []
  },
  {
   "cell_type": "code",
   "execution_count": null,
   "id": "6e93d4c2-c782-46f1-ab7e-dfaeca98c3ff",
   "metadata": {},
   "outputs": [],
   "source": []
  },
  {
   "cell_type": "code",
   "execution_count": null,
   "id": "184c29df-b53c-47c5-81d8-3605ba2a39d1",
   "metadata": {},
   "outputs": [],
   "source": []
  },
  {
   "cell_type": "code",
   "execution_count": null,
   "id": "de7fad36-3f58-4331-9b73-942e668a2ba9",
   "metadata": {},
   "outputs": [],
   "source": []
  },
  {
   "cell_type": "code",
   "execution_count": null,
   "id": "145c84d0-c458-483a-ab72-f942cf8e2e82",
   "metadata": {},
   "outputs": [],
   "source": []
  },
  {
   "cell_type": "code",
   "execution_count": null,
   "id": "95bce4ef-6cd9-4fce-8da2-a186661ca538",
   "metadata": {},
   "outputs": [],
   "source": []
  },
  {
   "cell_type": "code",
   "execution_count": null,
   "id": "a80f97b8-7797-4c97-b75d-4b438d6e38c4",
   "metadata": {},
   "outputs": [],
   "source": []
  },
  {
   "cell_type": "code",
   "execution_count": null,
   "id": "1997bc6e-7a79-4662-9366-e53c4356cc4d",
   "metadata": {},
   "outputs": [],
   "source": []
  },
  {
   "cell_type": "code",
   "execution_count": null,
   "id": "685ed40c-e9b0-4963-b5bd-491808c0cfe7",
   "metadata": {},
   "outputs": [],
   "source": []
  }
 ],
 "metadata": {
  "kernelspec": {
   "display_name": "Python 3 (ipykernel)",
   "language": "python",
   "name": "python3"
  },
  "language_info": {
   "codemirror_mode": {
    "name": "ipython",
    "version": 3
   },
   "file_extension": ".py",
   "mimetype": "text/x-python",
   "name": "python",
   "nbconvert_exporter": "python",
   "pygments_lexer": "ipython3",
   "version": "3.10.13"
  }
 },
 "nbformat": 4,
 "nbformat_minor": 5
}
