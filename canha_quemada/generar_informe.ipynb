{
 "cells": [
  {
   "cell_type": "code",
   "execution_count": null,
   "id": "0e75468e-89ca-4102-86c8-ec9e5b3b7cb0",
   "metadata": {},
   "outputs": [],
   "source": [
    "codigo_canhero = 6401"
   ]
  },
  {
   "cell_type": "code",
   "execution_count": null,
   "id": "b8c951d1-11d5-4273-8820-1aa83140eaaf",
   "metadata": {},
   "outputs": [],
   "source": [
    "from werkzeug.wrappers import Request, Response\n",
    "from jinja2 import Template\n",
    "from datetime import datetime, timedelta\n",
    "import collections\n",
    "from datetime import datetime\n",
    "\n",
    "from amigocloud import AmigoCloud"
   ]
  },
  {
   "cell_type": "code",
   "execution_count": null,
   "id": "282d6c78-9570-410e-ba0e-6569fb3639ff",
   "metadata": {},
   "outputs": [],
   "source": [
    "acceso = open('../api_key/api.key','r')\n",
    "api_token = acceso.readlines()[0]\n",
    "acceso.close()\n",
    "\n",
    "amigocloud = AmigoCloud(token=api_token)\n",
    "amigocloud"
   ]
  },
  {
   "cell_type": "code",
   "execution_count": null,
   "id": "4caf3ef2-1b62-4216-a242-2c118e061dc5",
   "metadata": {},
   "outputs": [],
   "source": [
    "# DATOS DE LAS INPECCION\n",
    "query = {'query': 'select CURRENT_DATE, * from dataset_292618 where cast(split_part(canhero, \\' / \\', 1) as integer) = {cod_ca}'.format(cod_ca=codigo_canhero)}\n",
    "project = 'https://app.amigocloud.com/api/v1/projects/31874/sql'\n",
    "select = amigocloud.get(project, query)\n",
    "data = select['data'][0]\n",
    "data['date'] = datetime.strptime(data['date'][0:10], '%Y-%m-%d').strftime('%d/%m/%Y')\n",
    "data['fecha_quema'] = datetime.strptime(data['fecha_quema'][0:10], '%Y-%m-%d').strftime('%d/%m/%Y')\n",
    "data['fecha_inspeccion'] = datetime.strptime(data['fecha_inspeccion'][0:10], '%Y-%m-%d').strftime('%d/%m/%Y')\n",
    "\n",
    "insp = collections.namedtuple(\"insp\", data.keys())(*data.values())\n",
    "print('end')"
   ]
  },
  {
   "cell_type": "code",
   "execution_count": null,
   "id": "82104fc9-c9fc-4266-a7bf-f06af9150634",
   "metadata": {},
   "outputs": [],
   "source": [
    "insp"
   ]
  },
  {
   "cell_type": "code",
   "execution_count": null,
   "id": "85dda8bf-731a-4463-b717-d3dc619aec40",
   "metadata": {},
   "outputs": [],
   "source": [
    "# DATOS DE LA PROPIEDAD\n",
    "query = {'query': 'select * from dataset_293179 where insp_ref_prop = \\'{insp_ref_prop}\\''.format(insp_ref_prop=insp.amigo_id)}\n",
    "project = 'https://app.amigocloud.com/api/v1/projects/31874/sql'\n",
    "select = amigocloud.get(project, query)\n",
    "propiedades_data = select['data']\n",
    "print('end')"
   ]
  },
  {
   "cell_type": "code",
   "execution_count": null,
   "id": "5aa2ab35-98ef-4814-a21f-3afe15d40933",
   "metadata": {},
   "outputs": [],
   "source": [
    "propiedades_data"
   ]
  },
  {
   "cell_type": "code",
   "execution_count": null,
   "id": "b70a2f61-f503-43ab-ae0b-55aeb86717c8",
   "metadata": {},
   "outputs": [],
   "source": [
    "propiedades = []\n",
    "for prop in propiedades_data:\n",
    "    prop['lote'] = []\n",
    "    query_lotes = {'query': 'select * from dataset_293180 where prop_ref_lote = \\'{prop_ref_lote}\\''.format(prop_ref_lote=prop['amigo_id'])}\n",
    "    project = 'https://app.amigocloud.com/api/v1/projects/31874/sql'\n",
    "    lotes_select = amigocloud.get(project, query_lotes)\n",
    "    for lote_select in lotes_select['data']:\n",
    "        lote = collections.namedtuple(\"lote\", lote_select.keys())(*lote_select.values())\n",
    "        prop['lote'].append(lote)\n",
    "    propiedades.append(collections.namedtuple(\"propiedad\", prop.keys())(*prop.values()))\n",
    "print('end')"
   ]
  },
  {
   "cell_type": "code",
   "execution_count": null,
   "id": "96e9c3b4-d0c7-4ffe-9a6e-6805d8d9b765",
   "metadata": {},
   "outputs": [],
   "source": [
    "propiedades"
   ]
  },
  {
   "cell_type": "code",
   "execution_count": null,
   "id": "9d32b2b9-9c36-44c5-b57d-b13eaec3532c",
   "metadata": {},
   "outputs": [],
   "source": [
    "# fotos lotes\n",
    "fotos = []\n",
    "for propiedad in propiedades:\n",
    "    for lote in propiedad.lote:\n",
    "        print(lote.lote, lote.amigo_id)\n",
    "        query_fotos = {'query': 'select source_amigo_id, s3_filename from gallery_42303 where source_amigo_id=\\'{source_amigo_id}\\''.format(source_amigo_id=lote.amigo_id)}\n",
    "        project = 'https://app.amigocloud.com/api/v1/projects/31874/sql'\n",
    "        fotos_filename = amigocloud.get(project, query_fotos)\n",
    "        if fotos_filename['data'] != []:\n",
    "            dic = {'lote': lote.lote, 'file_name': fotos_filename['data'][0]['s3_filename']}\n",
    "            fotos.append(dic)\n",
    "\n",
    "fotos"
   ]
  },
  {
   "cell_type": "code",
   "execution_count": null,
   "id": "f91d8d3c-9f99-4b71-b764-e721cadb4f04",
   "metadata": {},
   "outputs": [],
   "source": [
    "from shapely import wkb\n",
    "import geopandas\n",
    "import pandas as pd\n",
    "import contextily as ctx\n",
    "import matplotlib.pyplot as plt\n",
    "\n",
    "def convertir_wkb(wkb_data):\n",
    "    return wkb.loads(wkb_data, hex=True)[0]"
   ]
  },
  {
   "cell_type": "code",
   "execution_count": null,
   "id": "99143e23-2f3f-4448-8432-9aeba3a489c3",
   "metadata": {},
   "outputs": [],
   "source": [
    "i = 0\n",
    "lista_planos = []\n",
    "ruta = ''\n",
    "for propiedad in propiedades:\n",
    "    i = i + 1\n",
    "    lotes_lista = []\n",
    "    for lote in propiedad.lote:\n",
    "        lotes_lista.append(lote._asdict())\n",
    "    df = pd.DataFrame(lotes_lista)\n",
    "    df['geometria'] = df['geometria'].apply(convertir_wkb)\n",
    "\n",
    "    #Convertir a GeoDataFrame\n",
    "    data = geopandas.GeoDataFrame(df, geometry='geometria')\n",
    "    #data\n",
    "    #ctx.add_basemap(ax, source=ctx.providers.Esri.WorldImagery)\n",
    "\n",
    "    data['coords'] = data['geometria'].apply(lambda x: x.representative_point().coords[:])\n",
    "    data['coords'] = [coords[0] for coords in data['coords']]\n",
    "\n",
    "    data.crs = \"EPSG:4326\"\n",
    "    data = data.to_crs(epsg=3857)\n",
    "\n",
    "    \n",
    "    fig = plt.figure(i, figsize=(20,20))\n",
    "    #fig = plt.figure(1)\n",
    "    ax = None\n",
    "    ax = fig.add_subplot()\n",
    "\n",
    "    #data.set_crs(epsg=4326, inplace=True)\n",
    "\n",
    "    data.apply(lambda x: ax.annotate(text=x.lote + ' \\n' + str(x.superficie) + ' ha', xy=x.geometria.centroid.coords[0], ha='center', va='center', color='black', fontsize=12, weight=1000, bbox=dict(facecolor=(1,1,1,0.3), edgecolor='none', pad=0)), axis=1);\n",
    "\n",
    "    #data.boundary.plot(ax=ax, color=(0,0,0,0), linewidth=0)\n",
    "\n",
    "    #data = data.to_crs(epsg=3857)\n",
    "\n",
    "    minx, miny, maxx, maxy = data.total_bounds\n",
    "    ax.set_xlim(minx - 500, maxx + 500)\n",
    "    ax.set_ylim(miny - 400, maxy + 400)\n",
    "\n",
    "    data.plot(ax=ax, edgecolor='r', facecolor=(0,0,0,0), linewidth=2, figsize=(20,20))\n",
    "    #data.plot(ax=ax, edgecolor='r', facecolor=(0,0,0,0), linewidth=2)\n",
    "    \n",
    "    ctx.add_basemap(ax, source=ctx.providers.Esri.WorldImagery)\n",
    "    ax.set_axis_off()\n",
    "    ax.set_title(str(propiedad.propiedad), fontsize=20)\n",
    "    ruta = 'planos/' + str(insp.amigo_id) + '_' + str(propiedad.amigo_id) + '.jpeg'\n",
    "    lista_planos.append(ruta)\n",
    "    fig.savefig(ruta, dpi = 300, bbox_inches='tight')\n",
    "    del fig\n",
    "print('end')"
   ]
  },
  {
   "cell_type": "code",
   "execution_count": null,
   "id": "c3a91f61-180e-4ed6-ae78-f0aaa925ad31",
   "metadata": {},
   "outputs": [],
   "source": [
    "from docxtpl import DocxTemplate\n",
    "import docxtpl\n",
    "from docx.shared import Mm\n",
    "\n",
    "import requests\n",
    "\n",
    "doc = DocxTemplate(\"templates/template_01.docx\")\n",
    "\n",
    "#generar lista de InlineImage de planos \n",
    "lista_InlineImage = []\n",
    "for plano in lista_planos:\n",
    "    lista_InlineImage.append(docxtpl.InlineImage(doc, image_descriptor=plano, width=Mm(150)))\n",
    "\n",
    "#descargar fotos y generar lista InlineImage\n",
    "lista_fotos_inline = []\n",
    "for foto in fotos:\n",
    "    #response = requests.get(\"https://www-amigocloud.s3.amazonaws.com/gallery/\" + foto['file_name'])\n",
    "    response = requests.get(\"https://www-amigocloud.s3.amazonaws.com/gallery/\" + foto['file_name'])\n",
    "    file = open('fotos/' + foto['file_name'], \"wb\")\n",
    "    file.write(response.content)\n",
    "    file.close()\n",
    "    lista_fotos_inline.append({'foto': docxtpl.InlineImage(doc, image_descriptor='fotos/' + foto['file_name'], width=Mm(120)), 'lote': foto['lote']})\n",
    "\n",
    "firma_respon = None\n",
    "if insp.responsable == 'Rogelio Acuña Rodríguez':\n",
    "    firma_respon = docxtpl.InlineImage(doc, image_descriptor='templates/firma_rogelio.png', width=Mm(60))\n",
    "else:\n",
    "    firma_respon = docxtpl.InlineImage(doc, image_descriptor='templates/firma_jaldin.png', width=Mm(60))\n",
    "\n",
    "context = {'insp':insp, 'propiedades':propiedades, 'planos':lista_InlineImage, 'fotos':lista_fotos_inline, 'firma':firma_respon}\n",
    "\n",
    "doc.render(context)\n",
    "\n",
    "# formato de nombre de archivo: \"123_CQ_01-01-2022_NOMBRE\"\n",
    "cod_nom = insp.canhero.split(' / ')\n",
    "file_name = cod_nom[0] + '_CQ_' + insp.fecha_inspeccion.replace('/','-') + '_' + cod_nom[1]\n",
    "\n",
    "doc.save('_' + file_name + '.docx')"
   ]
  },
  {
   "cell_type": "code",
   "execution_count": null,
   "id": "95bce4ef-6cd9-4fce-8da2-a186661ca538",
   "metadata": {},
   "outputs": [],
   "source": []
  },
  {
   "cell_type": "code",
   "execution_count": null,
   "id": "a80f97b8-7797-4c97-b75d-4b438d6e38c4",
   "metadata": {},
   "outputs": [],
   "source": []
  }
 ],
 "metadata": {
  "kernelspec": {
   "display_name": "Python 3 (ipykernel)",
   "language": "python",
   "name": "python3"
  },
  "language_info": {
   "codemirror_mode": {
    "name": "ipython",
    "version": 3
   },
   "file_extension": ".py",
   "mimetype": "text/x-python",
   "name": "python",
   "nbconvert_exporter": "python",
   "pygments_lexer": "ipython3",
   "version": "3.7.13"
  }
 },
 "nbformat": 4,
 "nbformat_minor": 5
}
