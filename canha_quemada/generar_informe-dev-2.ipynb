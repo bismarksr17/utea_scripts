{
 "cells": [
  {
   "cell_type": "code",
   "execution_count": 1,
   "id": "e1f1dbac-99b6-4dd0-b657-ee1631324220",
   "metadata": {},
   "outputs": [
    {
     "ename": "NameError",
     "evalue": "name 'gege' is not defined",
     "output_type": "error",
     "traceback": [
      "\u001b[1;31m---------------------------------------------------------------------------\u001b[0m",
      "\u001b[1;31mNameError\u001b[0m                                 Traceback (most recent call last)",
      "Cell \u001b[1;32mIn[1], line 1\u001b[0m\n\u001b[1;32m----> 1\u001b[0m \u001b[43mgege\u001b[49m\n",
      "\u001b[1;31mNameError\u001b[0m: name 'gege' is not defined"
     ]
    }
   ],
   "source": [
    "gege"
   ]
  },
  {
   "cell_type": "code",
   "execution_count": 2,
   "id": "b8c951d1-11d5-4273-8820-1aa83140eaaf",
   "metadata": {
    "tags": []
   },
   "outputs": [],
   "source": [
    "from datetime import datetime, timedelta\n",
    "from shapely import wkb\n",
    "import geopandas as gpd\n",
    "import pandas as pd\n",
    "import contextily as ctx\n",
    "import matplotlib.pyplot as plt\n",
    "import requests\n",
    "\n",
    "from docxtpl import DocxTemplate\n",
    "import docxtpl\n",
    "from docx.shared import Mm\n",
    "\n",
    "import gspread\n",
    "from oauth2client.service_account import ServiceAccountCredentials\n",
    "\n",
    "import collections\n",
    "import os"
   ]
  },
  {
   "cell_type": "code",
   "execution_count": 3,
   "id": "8b91c0d0-02c6-4ba9-aaeb-e94399c4a934",
   "metadata": {},
   "outputs": [],
   "source": [
    "import sys\n",
    "sys.path.append('../_amigocloud')\n",
    "sys.path.append('..')\n",
    "\n",
    "from amigocloud import AmigoCloud\n",
    "\n",
    "from config import API_AMIGOCLOUD_TOKEN_CANHA_QUEMADA\n",
    "from config import RUTA_UNIDAD_ONE_DRIVE\n",
    "from config import RUTA_LOCAL_ONE_DRIVE"
   ]
  },
  {
   "cell_type": "code",
   "execution_count": 4,
   "id": "86af8909-e8ba-4b99-806c-d42f82d19386",
   "metadata": {},
   "outputs": [],
   "source": [
    "RUTA_COMPLETA = os.path.join(RUTA_UNIDAD_ONE_DRIVE, RUTA_LOCAL_ONE_DRIVE)\n",
    "RUTA_COMPLETA\n",
    "\n",
    "# variables globales\n",
    "proyecto_id = 31874\n",
    "\n",
    "buscar_reg_nuevos = 6476\n",
    "cargar_lotes_quema = 6474\n",
    "calc_area_lotes = 5078\n",
    "calc_total_insp = 6475"
   ]
  },
  {
   "cell_type": "code",
   "execution_count": 6,
   "id": "282d6c78-9570-410e-ba0e-6569fb3639ff",
   "metadata": {
    "tags": []
   },
   "outputs": [
    {
     "data": {
      "text/plain": [
       "<amigocloud.AmigoCloud at 0x1c1d9e916c0>"
      ]
     },
     "execution_count": 6,
     "metadata": {},
     "output_type": "execute_result"
    }
   ],
   "source": [
    "amigocloud = AmigoCloud(\n",
    "    token=API_AMIGOCLOUD_TOKEN_CANHA_QUEMADA, \n",
    "    project_url=f'https://app.amigocloud.com/api/v1/projects/{proyecto_id}')\n",
    "amigocloud"
   ]
  },
  {
   "cell_type": "code",
   "execution_count": 47,
   "id": "196a3356-5e8b-4f47-b065-7fdac9f55ac1",
   "metadata": {},
   "outputs": [],
   "source": [
    "# convercion de wkb a geometria shp\n",
    "def convertir_wkb(wkb_data):\n",
    "    return wkb.loads(wkb_data, hex=True)\n",
    "\n",
    "# convierte de formato YYYY-mm-dd H:M:S+z a d/m/YYYY\n",
    "def convertir_formato_fecha(fecha):\n",
    "    new_formato = datetime.strptime(fecha, \"%Y-%m-%d %H:%M:%S%z\").strftime(\"%d/%m/%Y\")\n",
    "    return new_formato\n",
    "\n",
    "# ejecuta cualquier query sql en el proyecto que se le indique\n",
    "# requiere el id de proyecto, query a ejecutar y tipo solicitud (get o post)\n",
    "def ejecutar_query_sql(id_project, query, tipo_sql):\n",
    "    # define la url del proyecto para ejecutar el querry\n",
    "    url_proyecto_sql = f'https://app.amigocloud.com/api/v1/projects/{id_project}/sql'\n",
    "    # crea la estructura de query para amigocloud\n",
    "    query_sql = {'query': query}\n",
    "    # variable para almacenar resultado\n",
    "    resultado_get = ''\n",
    "    # eleige que tipo de solicitud se realizara (get o post)\n",
    "    if tipo_sql == 'get': \n",
    "        resultado_get = amigocloud.get(url_proyecto_sql, query_sql)\n",
    "    elif tipo_sql == 'post':\n",
    "        resultado_get = amigocloud.post(url_proyecto_sql, query_sql)\n",
    "    else:\n",
    "        resultado_get = 'Se a seleccionado un tipo de solicitud erroneo.'\n",
    "    return resultado_get\n",
    "\n",
    "# ejecuta un query que esta almacenado en un proyecto de amigocloud (generalmente un update),\n",
    "# requiere id de proyecto e id de query\n",
    "# retorna cuantas filas fueron afectadas\n",
    "def ejecutar_query_por_id(id_project, id_query, tipo_sql):\n",
    "    # obtiene el query basado en el id_project y el id_query\n",
    "    get_query = amigocloud.get(f'https://app.amigocloud.com/api/v1/projects/{id_project}/queries/{id_query}')\n",
    "    # se extrae solo el texto del query\n",
    "    query = get_query['query']\n",
    "    # ejecuta el query_sql con metodo post y guarda la respuesta\n",
    "    respuesta_post = ejecutar_query_sql(id_project, query, tipo_sql)\n",
    "    # retorna el numero de filas afectadas por el query\n",
    "    return respuesta_post\n",
    "\n",
    "# convierte un dict a un obj\n",
    "# recibe el dict y el nombre con el que se creara el obj\n",
    "def convertir_dict_obj(diccionario, name):\n",
    "    return collections.namedtuple(name, diccionario.keys())(*diccionario.values())\n",
    "\n",
    "# crea registro en xlsx de cites, retorna la numeracion correspondiente\n",
    "def crear_cite(cod_canhero, nom_canhero, tipo_reporte):\n",
    "    ruta_api_google = RUTA_COMPLETA + '\\_keys\\client_secret_google_sheets.json'\n",
    "    # Configura las credenciales\n",
    "    scope = [\"https://spreadsheets.google.com/feeds\",\n",
    "             'https://www.googleapis.com/auth/spreadsheets', \n",
    "             \"https://www.googleapis.com/auth/drive.file\", \n",
    "             \"https://www.googleapis.com/auth/drive\"]\n",
    "    creds = ServiceAccountCredentials.from_json_keyfile_name(ruta_api_google, scope)\n",
    "    client = gspread.authorize(creds)\n",
    "    # Abre la hoja de cálculo con ID y la hoja específica\n",
    "    spreadsheet = client.open_by_key(\"1Wbmmjy9s8JdXKP8qM_eA_OrCV--F1UZLnzQJ--ASOFI\")\n",
    "    sheet = spreadsheet.sheet1\n",
    "    # Lee los datos\n",
    "    data_sheet = sheet.get_all_records()\n",
    "    df = pd.DataFrame(data_sheet)\n",
    "    # Encuentra el número más grande y lo incrementamos y agrega un nuevo registro\n",
    "    max_value = df['No'].max()\n",
    "    no = int(max_value + 1)\n",
    "    # llenamos los demas campos\n",
    "    fecha = datetime.now().strftime(\"%m/%d/%Y\")\n",
    "    cod_ca = int(cod_canhero)\n",
    "    nom_ca = nom_canhero\n",
    "    tipo = tipo_reporte\n",
    "    #agregar el registro\n",
    "    sheet.append_row([no, fecha, cod_ca, nom_ca, tipo])\n",
    "    return no"
   ]
  },
  {
   "cell_type": "code",
   "execution_count": null,
   "id": "99d8273b-591a-4ea2-ac5f-fb732ea379e0",
   "metadata": {},
   "outputs": [],
   "source": []
  },
  {
   "cell_type": "code",
   "execution_count": 46,
   "id": "23850658-2d7d-4fad-a555-cfd32f59bd64",
   "metadata": {},
   "outputs": [],
   "source": [
    "def buscar_nuevos():\n",
    "    # revisa y extiste registros nuevos (campo reporte_generado en false)\n",
    "    rec_nuevos = ejecutar_query_por_id(proyecto_id, buscar_reg_nuevos, 'get')\n",
    "    # se queda con la parte de darta\n",
    "    rec_nuevos = rec_nuevos['data']\n",
    "    # extrae el id de los nuevos regitros\n",
    "    id_nuevos = [i['id'] for i in rec_nuevos]\n",
    "    return id_nuevos\n",
    "\n",
    "def ejecutar_scripts_sql():\n",
    "    # ejecuatar scripts generales para completar campos y recalculos\n",
    "    exe_cargar_lotes_quema = ejecutar_query_por_id(proyecto_id, cargar_lotes_quema, 'post')\n",
    "    exe_calc_area_lotes = ejecutar_query_por_id(proyecto_id, calc_area_lotes, 'post')\n",
    "    exe_calc_total_insp = ejecutar_query_por_id(proyecto_id, calc_total_insp, 'post')\n",
    "\n",
    "def obtener_inspeccion(id_insp):\n",
    "    # seleccionar un registro\n",
    "    # crear consulta\n",
    "    query = f'select * from dataset_351059 where id = {id_insp}'\n",
    "    # ejecutar consulta\n",
    "    inspeccion = ejecutar_query_sql(proyecto_id, query, 'get')\n",
    "    # extrae la seccion de data\n",
    "    inspeccion = inspeccion['data']\n",
    "    # extrae el primer elemento, solo hay un elemento\n",
    "    inspeccion = inspeccion[0]\n",
    "    # convertion de formato de fechas\n",
    "    inspeccion['date'] = convertir_formato_fecha(inspeccion['fecha_registro'])\n",
    "    inspeccion['fecha_inspeccion'] = convertir_formato_fecha(inspeccion['fecha_inspeccion'])\n",
    "    inspeccion['fecha_quema'] = convertir_formato_fecha(inspeccion['fecha_quema'])\n",
    "    # extraccion de codigo y nombre del cañero\n",
    "    cod_ca = inspeccion['canhero'].split(' / ')[0]\n",
    "    nom_ca = inspeccion['canhero'].split(' / ')[1]\n",
    "    # crear y asignar cite\n",
    "    cite = crear_cite(cod_ca, nom_ca, 'QUEMA')\n",
    "    inspeccion['cite'] = cite\n",
    "    # convertir el dict en objeto\n",
    "    insp = convertir_dict_obj(inspeccion, 'insp')\n",
    "    return insp\n",
    "\n",
    "def obtener_lotes(id_insp):\n",
    "    # seleccionar todos los lotes marcados con la inspeccion\n",
    "    # crear consulta\n",
    "    query = f'select * from dataset_351061 where id_inspeccion = {id_insp}'\n",
    "    # ejecutar consulta\n",
    "    lotes = ejecutar_query_sql(proyecto_id, query, 'get')\n",
    "    # extraer solo la seccion de data\n",
    "    lotes = lotes['data']\n",
    "    return lotes\n",
    "\n",
    "# elimina todos los dic duplicados basandose en \"unidad_01\", y concerva solo en cod_prop y nom_prop\n",
    "# con esto se obtiene un dict de propiedades de la inspeccion\n",
    "def eliminar_duplicados_y_conservar_campos(lista, campo_clave, campos_a_conservar):\n",
    "    vistos = set()\n",
    "    nueva_lista = []\n",
    "    for diccionario in lista:\n",
    "        valor = diccionario[campo_clave]\n",
    "        if valor not in vistos:\n",
    "            vistos.add(valor)\n",
    "            nuevo_diccionario = {campo: diccionario[campo] for campo in campos_a_conservar}\n",
    "            nueva_lista.append(nuevo_diccionario)\n",
    "    return nueva_lista\n",
    "\n",
    "def propiedades_lotes(props):\n",
    "    # recorrer las propiedades, y agregar los lotes correspondientes\n",
    "    # se crea una lista de objetos propiedad con los respectivos lotes agregados a cada propiedad\n",
    "    propiedades = []\n",
    "    for prop in props:\n",
    "        prop['lote'] = []\n",
    "        lotes_select = [lote for lote in lotes if lote['unidad_01'] == prop['unidad_01']]\n",
    "        for lote_select in lotes_select:\n",
    "            lote = convertir_dict_obj(lote_select, 'lote')\n",
    "            prop['lote'].append(lote)\n",
    "        propiedades.append(convertir_dict_obj(prop, 'propiedad'))\n",
    "    return propiedades\n",
    "\n",
    "def obtener_fotos(insp_amigo_id):\n",
    "    # buscar todas las fotos que son parte de la inspeccion\n",
    "    # crear consulta\n",
    "    query = f'select s3_filename from gallery_61142 where source_amigo_id = \\'{insp_amigo_id}\\''\n",
    "    # ejecutar consulta\n",
    "    fotos = ejecutar_query_sql(proyecto_id, query, 'get')\n",
    "    # extrae la seccion de data\n",
    "    fotos = fotos['data']\n",
    "    return fotos\n",
    "\n",
    "def cambiar_estado_informe(id_insp):\n",
    "    # actualizar estado de informe_generado a true\n",
    "    # crear consulta\n",
    "    query = f'update dataset_351059 set informe_generado = true where id = {id_insp}'\n",
    "    # ejecutar consulta\n",
    "    res = ejecutar_query_sql(proyecto_id, query, 'post')\n",
    "    return res"
   ]
  },
  {
   "cell_type": "code",
   "execution_count": null,
   "id": "d668acb5-9552-4589-85c4-39984e653364",
   "metadata": {},
   "outputs": [],
   "source": []
  },
  {
   "cell_type": "code",
   "execution_count": null,
   "id": "73c1be9f-ba68-4c7b-a040-a78aa39a1e51",
   "metadata": {},
   "outputs": [],
   "source": []
  },
  {
   "cell_type": "code",
   "execution_count": 49,
   "id": "5087ca74-f0bc-4a6d-8604-c0ef0ad0ab1c",
   "metadata": {},
   "outputs": [],
   "source": [
    "def generar_planos(insp, propiedades):\n",
    "    # generar planos\n",
    "    lista_planos = []\n",
    "    path = ''\n",
    "    for propiedad in propiedades:\n",
    "        lotes_lista = []\n",
    "        for lote in propiedad.lote:\n",
    "            lotes_lista.append(lote._asdict())\n",
    "        df = pd.DataFrame(lotes_lista)\n",
    "        df['geometria'] = df['geometria'].apply(convertir_wkb)\n",
    "\n",
    "        #Convertir a GeoDataFrame\n",
    "        data = gpd.GeoDataFrame(df, geometry='geometria')\n",
    "\n",
    "        data['coords'] = data['geometria'].apply(lambda x: x.representative_point().coords[:])\n",
    "        data['coords'] = [coords[0] for coords in data['coords']]\n",
    "\n",
    "        data.crs = \"EPSG:4326\"\n",
    "        data = data.to_crs(epsg=3857)\n",
    "        \n",
    "        fig = plt.figure(i, figsize=(20,20))\n",
    "        ax = None\n",
    "        ax = fig.add_subplot()\n",
    "\n",
    "        data.apply(lambda x: ax.annotate(text=x.unidad_05 + ' \\n' + str(x.area) + ' ha', xy=x.geometria.centroid.coords[0], ha='center', va='center', color='black', fontsize=12, weight=1000, bbox=dict(facecolor=(1,1,1,0.3), edgecolor='none', pad=0)), axis=1);\n",
    "    \n",
    "        minx, miny, maxx, maxy = data.total_bounds\n",
    "        ax.set_xlim(minx - 500, maxx + 500)\n",
    "        ax.set_ylim(miny - 400, maxy + 400)\n",
    "\n",
    "        data.plot(ax=ax, edgecolor='r', facecolor=(0,0,0,0), linewidth=2, figsize=(20,20))\n",
    "    \n",
    "        ctx.add_basemap(ax, source=ctx.providers.Esri.WorldImagery)\n",
    "        ax.set_axis_off()\n",
    "        ax.set_title(str(propiedad.unidad_01) + ' / ' + str(propiedad.unidad_02), fontsize=20)\n",
    "        path = RUTA_COMPLETA + '/planos/' + str(insp.amigo_id) + '_' + str(propiedad.unidad_01) + '.jpeg'\n",
    "        lista_planos.append(path)\n",
    "        fig.savefig(path, dpi = 300, bbox_inches='tight')\n",
    "        plt.clf()\n",
    "    return lista_planos"
   ]
  },
  {
   "cell_type": "code",
   "execution_count": 50,
   "id": "24a606a0-3b73-4e22-a347-c3e72bf6c607",
   "metadata": {},
   "outputs": [],
   "source": [
    "def generar_reporte(insp, propiedades, fotos, lista_planos):\n",
    "    # generar reporte\n",
    "    # asignacion de template\n",
    "    doc = DocxTemplate(RUTA_COMPLETA + \"/templates/tpl_infome_quema.docx\")\n",
    "\n",
    "    #generar lista de InlineImage de planos \n",
    "    lista_InlineImage = []\n",
    "    for plano in lista_planos:\n",
    "        lista_InlineImage.append(docxtpl.InlineImage(doc, image_descriptor=plano, width=Mm(150)))\n",
    "\n",
    "    #descargar fotos y generar lista InlineImage\n",
    "    lista_fotos_inline = []\n",
    "    for foto in fotos:\n",
    "        response = requests.get(\"https://www-amigocloud.s3.amazonaws.com/gallery/\" + foto['s3_filename'])\n",
    "        file = open(RUTA_COMPLETA + '/fotos/' + foto['s3_filename'], \"wb\")\n",
    "        file.write(response.content)\n",
    "        file.close()\n",
    "        lista_fotos_inline.append({'foto': docxtpl.InlineImage(doc, image_descriptor= RUTA_COMPLETA + '/fotos/' + foto['s3_filename'], width=Mm(120))})\n",
    "\n",
    "    firma_respon = None\n",
    "    if insp.responsable_tec == 'Rogelio Acuña Rodríguez':\n",
    "        firma_respon = docxtpl.InlineImage(doc, image_descriptor=RUTA_COMPLETA + '/templates/firma_rogelio.png', width=Mm(60))\n",
    "    else:\n",
    "        firma_respon = docxtpl.InlineImage(doc, image_descriptor=RUTA_COMPLETA + '/templates/firma_jaldin.png', width=Mm(60))\n",
    "\n",
    "    context = {'insp':insp, 'propiedades':propiedades, 'planos':lista_InlineImage, 'fotos':lista_fotos_inline, 'firma':firma_respon}\n",
    "\n",
    "    doc.render(context)\n",
    "\n",
    "    # formato de nombre de archivo: \"123_CQ_01-01-2022_NOMBRE\"\n",
    "    cod_nom = insp.canhero.split(' / ')\n",
    "    file_name = cod_nom[0] + '_IDCQ_' + insp.fecha_inspeccion.replace('/','-') + '_' + cod_nom[1] + '_' + str(insp.id)\n",
    "\n",
    "    doc.save(RUTA_COMPLETA + '/informes/_' + file_name + '.docx')"
   ]
  },
  {
   "cell_type": "code",
   "execution_count": null,
   "id": "1f185d1f-87de-4beb-8464-366d0da2ac4e",
   "metadata": {},
   "outputs": [],
   "source": []
  },
  {
   "cell_type": "code",
   "execution_count": null,
   "id": "1d0b3aff-fb1d-4f86-884a-869b9c2741a8",
   "metadata": {},
   "outputs": [],
   "source": []
  },
  {
   "cell_type": "code",
   "execution_count": null,
   "id": "27612da0-e9da-476d-b7f8-8d2542cb618c",
   "metadata": {},
   "outputs": [],
   "source": []
  },
  {
   "cell_type": "code",
   "execution_count": null,
   "id": "f19abbe4-9fb6-40c3-98ed-5e34da66f3d2",
   "metadata": {},
   "outputs": [],
   "source": []
  },
  {
   "cell_type": "code",
   "execution_count": null,
   "id": "573a560d-c837-452c-b159-e5d21eeb376e",
   "metadata": {},
   "outputs": [],
   "source": [
    "gallery_61142"
   ]
  },
  {
   "cell_type": "code",
   "execution_count": 8,
   "id": "1985058b-615d-4aab-bcbd-4880331e3882",
   "metadata": {},
   "outputs": [],
   "source": [
    "def descargar_imagen_gallery(gallery_id, source_amigo_id, amigo_id, filename, carpeta_destino=\"imagenes\"):\n",
    "    os.makedirs(carpeta_destino, exist_ok=True)\n",
    "    \n",
    "    url_archivo = f\"https://app.amigocloud.com/api/v1/related_tables/{gallery_id}/files/{source_amigo_id}/{amigo_id}/{filename}\"\n",
    "    print(f\"⬇️ Descargando: {filename}\")\n",
    "\n",
    "    try:\n",
    "        contenido = amigocloud.get(url_archivo, raw=True)\n",
    "        ruta_salida = os.path.join(carpeta_destino, filename)\n",
    "        with open(ruta_salida, \"wb\") as f:\n",
    "            f.write(contenido)\n",
    "        print(f\"✅ Imagen guardada en: {ruta_salida}\")\n",
    "        return ruta_salida\n",
    "    except Exception as e:\n",
    "        print(f\"❌ Error al descargar {filename}: {e}\")\n",
    "        return None"
   ]
  },
  {
   "cell_type": "code",
   "execution_count": 11,
   "id": "846c9401-2257-46d9-8ac7-9e2996cad818",
   "metadata": {},
   "outputs": [
    {
     "name": "stdout",
     "output_type": "stream",
     "text": [
      "⬇️ Descargando: 20250717_143130.jpg\n",
      "✅ Imagen guardada en: imagenes\\20250717_143130.jpg\n"
     ]
    },
    {
     "data": {
      "text/plain": [
       "'imagenes\\\\20250717_143130.jpg'"
      ]
     },
     "execution_count": 11,
     "metadata": {},
     "output_type": "execute_result"
    }
   ],
   "source": [
    "descargar_imagen_gallery(\n",
    "    gallery_id=61142,\n",
    "    source_amigo_id=\"d348555c405e4fd7ba4a76b5c47f0442\",\n",
    "    amigo_id=\"13623e93f28643609e016c222e5793dc\",\n",
    "    filename=\"20250717_143130.jpg\"\n",
    ")"
   ]
  },
  {
   "cell_type": "code",
   "execution_count": null,
   "id": "aba6c7a1-9fd4-44e3-885e-0ef80d69edec",
   "metadata": {},
   "outputs": [],
   "source": []
  },
  {
   "cell_type": "code",
   "execution_count": null,
   "id": "22e4f98a-c068-4cdd-ad27-e29b728b68f6",
   "metadata": {},
   "outputs": [],
   "source": []
  },
  {
   "cell_type": "code",
   "execution_count": null,
   "id": "52202a7b-a124-44ab-ad68-6f618f5cf960",
   "metadata": {},
   "outputs": [],
   "source": []
  },
  {
   "cell_type": "code",
   "execution_count": null,
   "id": "78eb6902-8187-4699-9da5-52aa1747c43c",
   "metadata": {},
   "outputs": [],
   "source": []
  },
  {
   "cell_type": "code",
   "execution_count": null,
   "id": "49ff072b-dbb2-44c3-b63f-ea9cb49db041",
   "metadata": {},
   "outputs": [],
   "source": []
  },
  {
   "cell_type": "code",
   "execution_count": null,
   "id": "46dc9697-814e-4ec5-9e0b-d0aa20293389",
   "metadata": {},
   "outputs": [],
   "source": []
  },
  {
   "cell_type": "code",
   "execution_count": null,
   "id": "5ba1fa02-a0b0-4864-b629-5f0746c7d686",
   "metadata": {},
   "outputs": [],
   "source": []
  },
  {
   "cell_type": "code",
   "execution_count": null,
   "id": "89a76adc-2ffa-4eb1-8895-00d7c87dee35",
   "metadata": {},
   "outputs": [],
   "source": []
  },
  {
   "cell_type": "code",
   "execution_count": null,
   "id": "9815abca-1abe-4217-9544-e1cd1bec4831",
   "metadata": {},
   "outputs": [],
   "source": []
  },
  {
   "cell_type": "code",
   "execution_count": null,
   "id": "1472a9b7-c32d-48be-80b4-9f6d3e49958c",
   "metadata": {},
   "outputs": [],
   "source": []
  },
  {
   "cell_type": "code",
   "execution_count": null,
   "id": "473ae879-bbb9-4be2-bcb5-432ea525076c",
   "metadata": {},
   "outputs": [],
   "source": []
  },
  {
   "cell_type": "code",
   "execution_count": null,
   "id": "22a069da-80c1-453d-8e40-1e6f2257c27d",
   "metadata": {},
   "outputs": [],
   "source": []
  },
  {
   "cell_type": "code",
   "execution_count": 51,
   "id": "07860086-e06f-427d-b6d1-d2ac4c2ab3db",
   "metadata": {},
   "outputs": [
    {
     "name": "stdout",
     "output_type": "stream",
     "text": [
      "insp(id=242, informe_generado=False, fecha_registro='2025-07-17 18:11:20+00:00', fecha_quema='16/07/2025', fecha_inspeccion='17/07/2025', canhero='11617 / REYES ANTELO DAVID EZEQUIEL', superficie_total=34.96, rendimiento=60.0, produccion=2097.6, cite=151, inicio_incendio='Fuera de la propiedad', causa='Quema de caña', responsable_de_quema='Elena claure', observaciones='Se inició la cosecha en lotes el fuego se Inicio de la propiedad Los Tamarindos L2 perteneciente a la sra Elena Claure', link_informe=None, tipo_cosecha='MECANIZADO', amigo_id='6fe11b2a9484487e8029a29901ed56cd', responsable_tec='Rogelio Acuña Rodríguez', ubicacion='0104000020E6100000090000000101000000CA59E9FF66814FC0C36A871AE02731C001010000008180C6962F814FC07DF67EFED62731C0010100000056EEAAAC12814FC06DE5362BEC2731C001010000006FDA4246F6804FC0B2683A3B192831C001010000005265187783804FC0A487461C572831C00101000000BD0C6BCFD1804FC0E293BA09632831C00101000000CA9E4EC301814FC02ABC81B8612831C00101000000971AFC581C814FC07FC64CA25E2831C00101000000CE20996956814FC0040C8112552831C0', date='17/07/2025')\n",
      "[propiedad(unidad_01='43', unidad_02='CHOCA I Y II--REYES VALDIVIA JOSE', lote=[lote(fecha_registro='2025-07-18 08:56:06.484738+00:00', amigo_id='4d1101b6d0ba48f29cbacd3fb332e542', id=216, geometria='0106000020E61000000100000001030000000100000009000000D3373F253F814FC04179FDBB252831C02E9F2C6C38814FC00E841B3B812731C013D8D7D426814FC0C2075D2A852731C00D73F0EB28814FC0183656F6D12731C0B47B0EA12C814FC0DB2911AA2B2831C02E76E6642B814FC0F224A4CD2C2831C0CA4418682B814FC0378F02432D2831C094BA2F9E37814FC038C00C96272831C0D3373F253F814FC04179FDBB252831C0', unidad_05='L4.1', unidad_01='43', unidad_02='CHOCA I Y II--REYES VALDIVIA JOSE', area=1.68, id_inspeccion=242), lote(fecha_registro='2025-07-18 08:56:06.484738+00:00', amigo_id='c179b04442a646628ae104391bc7393c', id=217, geometria='0106000020E610000001000000010300000001000000080000002026CBA7C5804FC0C9440AEF9A2731C0E43F1239D0804FC09B0B939D232831C0335A5F18F0804FC067EDB418322831C0AED0D423F7804FC001CFAFA9332831C0702FCD8D08814FC06C25A74F342831C07A91C33908814FC0A27EB040342831C02BF3832100814FC0B3FD6AF18D2731C02026CBA7C5804FC0C9440AEF9A2731C0', unidad_05='L4.3', unidad_01='43', unidad_02='CHOCA I Y II--REYES VALDIVIA JOSE', area=4.82, id_inspeccion=242), lote(fecha_registro='2025-07-18 08:56:06.484738+00:00', amigo_id='6896c5a049b4486f8ef153d9266c5583', id=218, geometria='0106000020E610000001000000010300000001000000190000004CAAE3B5CE814FC0D7057F9C5D2731C0940A3D2B8E814FC098826F5D6C2731C07587D03A6E814FC001E4BBC7732731C0237E2DB753814FC03F67E5F9782731C01741253551814FC0072323AFEC2731C06379BE5F4D814FC0983D70672A2831C0F07991D659814FC0191224B32D2831C0791BDCBF6D814FC077F8CA8B302831C01EF7A4D586814FC02D364B0B322831C0483477C094814FC0187467B52F2831C0379A3BA0A5814FC0DE4C6CF62C2831C060E35749A5814FC00B64B6ED202831C07B569FD2A5814FC0F878D067162831C027B9F208A2814FC09FD7D2080B2831C041914DB69E814FC02B5DACCD082831C0B115C0019F814FC0921FA7BE012831C0BF3F3C43A2814FC020392276052831C00657F070A6814FC072CEEDFB0A2831C05DEF2277AA814FC057379F4D172831C0E483682EAB814FC0FFBDC14A212831C01270AF47AA814FC049835FA02D2831C0AE7CB124B1814FC0FBF29CD72B2831C0BD66E825B1814FC0AE1C29CF2B2831C0ED7012C7CE814FC0957491985D2731C04CAAE3B5CE814FC0D7057F9C5D2731C0', unidad_05='L3', unidad_01='43', unidad_02='CHOCA I Y II--REYES VALDIVIA JOSE', area=11.59, id_inspeccion=242), lote(fecha_registro='2025-07-18 08:56:06.484738+00:00', amigo_id='37dd5d10949e43969450af29189d2bf3', id=219, geometria='0106000020E61000000100000001030000000100000011000000D13B50FE66814FC0F93293CA312831C0CC58482662814FC0BB15C522312831C088E1BED55D814FC019C0A359302831C06781676D59814FC0846C4A882F2831C0B49C3EC554814FC0153F20832E2831C0E18BD2CD51814FC074BC99C22D2831C08A4CAAB150814FC0D146B80E2D2831C0AE03612E49814FC0BB73CDBD2C2831C02270602043814FC079AAC46B402831C010FA8AEB39814FC095883554572831C06020F5FA28814FC0FB2A2ACB752831C0B73EFACB28814FC0C8DF2E807C2831C0D53DF77D52814FC0651412A4742831C02437292559814FC076A8CA2C742831C0EB902A0167814FC0A02E19C3702831C09EB48F0067814FC0A2E1E868632831C0D13B50FE66814FC0F93293CA312831C0', unidad_05='L8', unidad_01='43', unidad_02='CHOCA I Y II--REYES VALDIVIA JOSE', area=1.75, id_inspeccion=242), lote(fecha_registro='2025-07-18 08:56:06.484738+00:00', amigo_id='45d69766f26f4b7fad881bbc9ae03cf6', id=220, geometria='0106000020E6100000010000000103000000010000000E000000D5669458AF804FC0E2FA06B2192831C0230769E39E804FC0804AAE8F132831C0C26A29E58B804FC03F98AD5E092831C0DAA185E08B804FC03C29B062092831C0ADAC96CE52804FC0F2F34231AC2831C015C92DBE82804FC035F9C1D0A12831C0AB43DE0084804FC0AC48800F9E2831C0C7E981018A804FC0D5BDC5BA8B2831C01D09BF018A804FC07A140BBA8B2831C0CA613D028A804FC0313B89B88B2831C00EA104038A804FC049C028B68B2831C03AC227038A804FC01378BDB58B2831C06F5AE0038A804FC081BC89B38B2831C0D5669458AF804FC0E2FA06B2192831C0', unidad_05='L12.2', unidad_01='43', unidad_02='CHOCA I Y II--REYES VALDIVIA JOSE', area=3.48, id_inspeccion=242), lote(fecha_registro='2025-07-18 08:56:06.484738+00:00', amigo_id='e7a43033f11b444a8850de6a7b468561', id=221, geometria='0106000020E6100000010000000103000000010000000C0000000D73F0EB28814FC0183656F6D12731C042D0E5C925814FC0B421D028862731C02BF3832100814FC0B3FD6AF18D2731C07A91C33908814FC0A27EB040342831C0702FCD8D08814FC06C25A74F342831C07EE92B8F0D814FC0E010CF33352831C0AB7FB58215814FC0C3C73FBA342831C0AE94673021814FC0346FC5ED302831C0CC3794022A814FC0BFA069142E2831C02E76E6642B814FC0F224A4CD2C2831C0B47B0EA12C814FC0DB2911AA2B2831C00D73F0EB28814FC0183656F6D12731C0', unidad_05='L4.2', unidad_01='43', unidad_02='CHOCA I Y II--REYES VALDIVIA JOSE', area=3.45, id_inspeccion=242), lote(fecha_registro='2025-07-18 08:56:06.484738+00:00', amigo_id='e71da5dec48341e2806cba81e7d091d8', id=222, geometria='0106000020E61000000100000001030000000100000018000000FF26EC54EF804FC03A22A91E8C2831C0264C59CBEF804FC0C34A99098C2831C0DFDEF022F9804FC098E172EB892831C0BD46E94305814FC05291220F872831C00BE40C0906814FC09ABD90F5862831C03683FC340A814FC04D34530D862831C0767ECC8F0C814FC0342B3B5A852831C02C7D46350F814FC03C9F1434742831C02894DC2712814FC0183981FA602831C05AD7A22E12814FC03D1613D4602831C0D6B44FE114814FC0B2CB7C2C4E2831C01B8AA2B816814FC0AC06BC42422831C011A70A5118814FC03BBD95B2362831C02AFAB75B17814FC0702137A6362831C00866904213814FC0D445C88F362831C0182A492C0C814FC0221D7336372831C08D74772FFA804FC010B7B4DB372831C05EF26E58F7804FC0A72DBF8B372831C053835AD6F4804FC0D8555DD2362831C089149646F2804FC0EBCA3D87352831C0E16AC302EF804FC0B8B167EC332831C09DEE83E2ED804FC0B767596D332831C009F55E56EE804FC05A3E212B4F2831C0FF26EC54EF804FC03A22A91E8C2831C0', unidad_05='L11.1', unidad_01='43', unidad_02='CHOCA I Y II--REYES VALDIVIA JOSE', area=1.6, id_inspeccion=242), lote(fecha_registro='2025-07-18 08:56:06.484738+00:00', amigo_id='8e6d6eef51134c7f90c5595c7426284c', id=223, geometria='0106000020E6100000010000000103000000010000000D0000007B2D46EA41814FC06B110FB8282831C03EB4C6533E814FC0267B4658282831C09B56013837814FC0D656D1882A2831C0A5BAE6252F814FC04929C9EC2D2831C05AE4217B27814FC043A3F2CE312831C01F18B1121A814FC0599CDCFB352831C0C68724B418814FC06A05A048372831C0C38A35F60C814FC0A6E46B3B852831C0DB7EE0131E814FC0B39A1A07802831C0E3AA4C5730814FC06C0DCB69512831C02F6084D13E814FC0B057BB11342831C06CA7F60B42814FC03B652D362C2831C07B2D46EA41814FC06B110FB8282831C0', unidad_05='L10', unidad_01='43', unidad_02='CHOCA I Y II--REYES VALDIVIA JOSE', area=1.22, id_inspeccion=242), lote(fecha_registro='2025-07-18 08:56:06.484738+00:00', amigo_id='d06fefdc9f824a41b05500c6bd5b349b', id=224, geometria='0106000020E6100000010000000103000000010000001A000000AB43DE0084804FC0AC48800F9E2831C01A46E8BF82804FC061B5ADE3A12831C092CE169385804FC045CE2F48A22831C0DC776DAE98804FC0DF70BDD89E2831C0D11D67B599804FC012D01A5B9E2831C0F701A6B2C0804FC01CC30538962831C0C2293FD1D2804FC0E86C2169922831C07CC7FA54EF804FC0FEBA29228C2831C0FF26EC54EF804FC03A22A91E8C2831C009F55E56EE804FC05A3E212B4F2831C09DEE83E2ED804FC0B767596D332831C020DAEFE1ED804FC0444AE449332831C05C1E98A5DF804FC0089E85752C2831C008BF1DAAC4804FC02360D94D212831C07629E5A6C3804FC0B7A7B530212831C07A471438BD804FC0E775CD001E2831C0B30F61BCB2804FC0AFDD0E221A2831C0CD5D035EAF804FC0B2056FA1192831C0D5669458AF804FC0E2FA06B2192831C06F5AE0038A804FC081BC89B38B2831C03AC227038A804FC01378BDB58B2831C00EA104038A804FC049C028B68B2831C0CA613D028A804FC0313B89B88B2831C01D09BF018A804FC07A140BBA8B2831C0C7E981018A804FC0D5BDC5BA8B2831C0AB43DE0084804FC0AC48800F9E2831C0', unidad_05='L11.2', unidad_01='43', unidad_02='CHOCA I Y II--REYES VALDIVIA JOSE', area=5.37, id_inspeccion=242)])]\n",
      "[{'s3_filename': '20250717_140237.jpg'}]\n",
      "Informe generado de 11617 / REYES ANTELO DAVID EZEQUIEL\n",
      "insp(id=243, informe_generado=False, fecha_registro='2025-07-17 18:49:27+00:00', fecha_quema='16/07/2025', fecha_inspeccion='17/07/2025', canhero='4773 / GUZMAN HERBAS JULIAN', superficie_total=15.51, rendimiento=65.0, produccion=1008.15, cite=152, inicio_incendio='Fuera de la propiedad', causa='Quema de caña', responsable_de_quema='Elena claure', observaciones='La mitad del total del caña parada en campo está quemada ', link_informe=None, tipo_cosecha='SEMI-MECANIZADO', amigo_id='10af67097a3641eba507b2bd76a5820b', responsable_tec='Rogelio Acuña Rodríguez', ubicacion='0104000020E6100000040000000101000000B449EAA97A804FC0216019C0002931C001010000008DEACFD95D804FC0EF963F3AD02831C0010100000092BD4AE3BC804FC001F4B171B32831C001010000007D8E345DF4804FC038BD8BF7E32831C0', date='17/07/2025')\n",
      "[propiedad(unidad_01='541', unidad_02='SAN JAVIER I--JULIAN GUZMAN', lote=[lote(fecha_registro='2025-07-18 08:56:06.484738+00:00', amigo_id='5f7ae8b084644c4db039becac14fca27', id=225, geometria='0106000020E610000001000000010300000001000000150000009E9AA77F75814FC0AB0AB1E6E82831C0B8476B4676814FC0A0DC5B70E52831C0585974D976814FC01100B1E1DE2831C0D163BC9E75814FC0D3DF1A15D92831C09214643172814FC072821D25D52831C056488A346C814FC0EC348760CD2831C0D68DF64B67814FC099D95F1FC72831C03DA2085661814FC003B5008FC12831C04ED58E515B814FC09CD419A3BC2831C0919166CA5A814FC0095743FCBB2831C0D339ABD558814FC0568815ADB92831C01FD02C7557814FC01CDBCC74B82831C09DF7086254814FC03AF140BFB82831C0B993DBC94B814FC056ADEF8CBA2831C0E2EC5AF42A814FC0F69200B3C02831C0F89D08EC1C814FC00083E275C32831C03CD03AA609814FC0C6CD2620C72831C0FBC924DBFB804FC0331401FFC92831C02017421BF2804FC0EABE2818CC2831C019109672F0804FC0D66F4499042931C09E9AA77F75814FC0AB0AB1E6E82831C0', unidad_05='L10', unidad_01='541', unidad_02='SAN JAVIER I--JULIAN GUZMAN', area=3.73, id_inspeccion=243), lote(fecha_registro='2025-07-18 08:56:06.484738+00:00', amigo_id='9ab8da82647641389921019356da486a', id=226, geometria='0106000020E61000000100000001030000000100000016000000E1E51DFAC1804FC0B48BAEB5D52831C03BBE05995E804FC0DA1A3614EA2831C0D001DEF859804FC0C76194FAEA2831C03351E18E53804FC0D157495EEC2831C0BCEBE2F349804FC0B9E55BB8EE2831C0B0C85A0C46804FC0D1378CEEEF2831C0A0B8400641804FC010C28990F12831C03783125D3D804FC04DA4584BF32831C006F170283C804FC0DFA870EBF32831C05ED5FF463B804FC0182FC904F42831C09D3810C83A804FC0FE6397AEF22831C073F4A0E336804FC0810EF9EEFF2831C0DB23D6AA31804FC09C6BCF100E2931C040D7524032804FC05A2BEEEA0F2931C07EE1DDC331804FC03B7072EF102931C01E8B96FC30804FC05A4201AD112931C0E67AC50F30804FC02B2FD265112931C063179EBA27804FC0E6EE5A832D2931C08CF6613366804FC0BB3620AD202931C08B50900EA3804FC09D9980A3142931C0184D7DC7C0804FC0CD5346850E2931C0E1E51DFAC1804FC0B48BAEB5D52831C0', unidad_05='L11.2', unidad_01='541', unidad_02='SAN JAVIER I--JULIAN GUZMAN', area=4.43, id_inspeccion=243), lote(fecha_registro='2025-07-18 08:56:06.484738+00:00', amigo_id='b3a575c115e14749a3ac02626e87c38e', id=227, geometria='0106000020E61000000100000001030000000100000019000000B1B9FFA988804FC051354C0CE02831C09413DE408B804FC02C5B5707E02831C08527530B8F804FC06644C481DF2831C0B41AE9889A804FC03B75230ADD2831C05CADA219A7804FC0CF08706EDA2831C004B4E86BB7804FC0568E0CFDD62831C0E22379B5C2804FC0281574BBD42831C0DC747283CD804FC03620A393D22831C0F7F3C858D6804FC0E4F5B7A7D02831C0BC21E87CE0804FC06D00F96ECE2831C0B25B473CF6804FC01D4B5A1DCA2831C0D9063D0F02814FC0A453FC02C82831C0B0DA812C0F814FC0276F2753C52831C0DDD116781A814FC016C2FFE2C22831C0DE4D60D91D814FC09FCF4602C22831C01E106CE11E814FC047426B1EB42831C0D2BA270D20814FC07C939AC5A12831C010FB113822814FC0C1E2B647822831C0CAD0A67F1A814FC04C6BC4E2832831C011487712F2804FC074F9A3B58C2831C043252976CE804FC04BD5BA2B942831C051D484F1AB804FC032F130919B2831C00D76439C9E804FC00A82448C9E2831C0AC3A4CBE89804FC03500AE49A32831C0B1B9FFA988804FC051354C0CE02831C0', unidad_05='L15', unidad_01='541', unidad_02='SAN JAVIER I--JULIAN GUZMAN', area=5.14, id_inspeccion=243), lote(fecha_registro='2025-07-18 08:56:06.484738+00:00', amigo_id='4760efdba77b48539256f325f92d90f2', id=228, geometria='0106000020E61000000100000001030000000100000023000000AA88046B88804FC0C0A70F51E02831C05E6C638E89804FC0DEF83D08A32831C0B0EE67FE81804FC0252C877AA42831C096763ED36F804FC01D79266BA82831C07BB59D5D65804FC08A08E5DDAA2831C093875A2357804FC096807E96AD2831C0C07C86B751804FC0F926D7A3AE2831C0383AD3E149804FC094FBC4A9C62831C0C52D639B40804FC0EE482146E22831C0DFCE0F703F804FC0E89A601CE72831C0050470F13E804FC011A8C8EFE82831C0EBD6935B3E804FC0D7E1876DEB2831C0FA5869073E804FC0E2837DF8EC2831C0AC0662E73D804FC05C2E8D12EF2831C0E73972E73D804FC012486336EF2831C090F4BFF13D804FC05943DC22F12831C078499F4C3E804FC009AE8F18F12831C0C8AFF2813F804FC0778A5EF3F02831C0D645D42C41804FC03F1E5C5FF02831C0DF2BBAD943804FC0BE7B7A66EF2831C005717C9A46804FC0653BC37DEE2831C000EEBF6A4A804FC099A3CA6DED2831C09444FC674F804FC0CE1678F1EB2831C0608C618553804FC083331DF1EA2831C0B7A8263E59804FC048ECEEC4E92831C02D04F7E35F804FC029DB618BE82831C0B8E8C3F963804FC089B3CF0EE82831C0D6CD730C67804FC01D62C0C7E72831C0B86B02766B804FC000E4ECE0E62831C0C86994D777804FC0C973C133E42831C0E01E9F647C804FC0C506D10BE32831C03EFFBD4D81804FC0774CE8D8E12831C0E29F0E0484804FC0E7AF4A59E12831C0BB4E59F085804FC050E164F8E02831C0AA88046B88804FC0C0A70F51E02831C0', unidad_05='L16', unidad_01='541', unidad_02='SAN JAVIER I--JULIAN GUZMAN', area=2.21, id_inspeccion=243)])]\n",
      "[{'s3_filename': '20250717_142149.jpg'}]\n",
      "Informe generado de 4773 / GUZMAN HERBAS JULIAN\n",
      "insp(id=245, informe_generado=False, fecha_registro='2025-07-17 20:03:59+00:00', fecha_quema='16/07/2025', fecha_inspeccion='17/07/2025', canhero='2579 / CLAURE OVANDO ELENA', superficie_total=4.89, rendimiento=70.0, produccion=342.3, cite=153, inicio_incendio='Dentro de la propiedad', causa='Quema de caña', responsable_de_quema='Elena Claure', observaciones='Se realizó las respectivas consulta a trabajadores para saber el origen del fuego, en lo cual se llega a la conclusión que el origen del fuego se originó dentro de la propiedad, la quema sucedió en fecha 17 de julio las 17:00pm', link_informe=None, tipo_cosecha='SEMI-MECANIZADO', amigo_id='d348555c405e4fd7ba4a76b5c47f0442', responsable_tec='Rogelio Acuña Rodríguez', ubicacion='0104000020E61000000100000001010000007AD0A22D9D804FC072304047502931C0', date='17/07/2025')\n",
      "[propiedad(unidad_01='1118', unidad_02='LOS TAMARINDOS--CLAURE ELENA', lote=[lote(fecha_registro='2025-07-18 08:56:06.484738+00:00', amigo_id='ffd5295d453f42499a324abd57413f73', id=229, geometria='0106000020E610000001000000010300000001000000070000000667C15A8A804FC0011CDFC7362931C0381197CD89804FC031EE0197542931C06DD7CF7084804FC09034993B8C2931C01F030DEDD8804FC0B7656D057B2931C07C62FC74DA804FC0DA2DEEA50A2931C04F24E5FC8C804FC0106EC1151D2931C00667C15A8A804FC0011CDFC7362931C0', unidad_05='L2', unidad_01='1118', unidad_02='LOS TAMARINDOS--CLAURE ELENA', area=4.89, id_inspeccion=245)])]\n",
      "[{'s3_filename': '20250717_143130.jpg'}]\n",
      "Informe generado de 2579 / CLAURE OVANDO ELENA\n",
      "insp(id=244, informe_generado=False, fecha_registro='2025-07-17 19:20:47+00:00', fecha_quema='16/07/2025', fecha_inspeccion='17/07/2025', canhero='692 / AMURRIO TAPIA JAIME', superficie_total=21.07, rendimiento=70.0, produccion=1474.9, cite=154, inicio_incendio='Fuera de la propiedad', causa='Quema de caña', responsable_de_quema='Elena Claure', observaciones='En la inspección de caña quemada  se pudo evidenciar caña quemada y lote que se dejó malojo para incorporar ', link_informe=None, tipo_cosecha='MECANIZADO', amigo_id='3344a9735cf641f0a21ab7c2cda9a6a3', responsable_tec='Rogelio Acuña Rodríguez', ubicacion='0104000020E610000002000000010100000039B69E211C814FC0ADB94846732731C00101000000CCF67C282C814FC09F008A91252731C0', date='17/07/2025')\n",
      "[propiedad(unidad_01='242', unidad_02='SAN NICOLAS--AMURRIO JAIME', lote=[lote(fecha_registro='2025-07-18 08:56:06.484738+00:00', amigo_id='b9c5afc3375440cc8cec4cc51e39955e', id=231, geometria='0106000020E61000000100000001030000000100000007000000DD941339BE804FC0BFB1B6E0782731C03E773C0BB9804FC0C7B3CD70942731C09E27A525AF824FC0065C3B7A222731C051641883AD824FC03BD9E415112731C08BA337ECA6824FC00F32414A112731C0C5729DEF5A824FC082BC878C232731C0DD941339BE804FC0BFB1B6E0782731C0', unidad_05='L2.1', unidad_01='242', unidad_02='SAN NICOLAS--AMURRIO JAIME', area=5.91, id_inspeccion=244), lote(fecha_registro='2025-07-18 08:56:06.484738+00:00', amigo_id='cabf358f04124455b541a022b6ede216', id=230, geometria='0106000020E6100000010000000103000000010000000A0000005153A4856C814FC01F062DBD0C2731C0C10849F5D6804FC00485329E2D2731C0582E7E44BE804FC03A76CD0A772731C0DD941339BE804FC0BFB1B6E0782731C03050A7F972814FC0068629B3522731C0C5729DEF5A824FC082BC878C232731C07B87B39B56824FC03CF39C19E72631C0131EFF7E16824FC0ECD35440F22631C08194FD8E15824FC0E65108A9EA2631C05153A4856C814FC01F062DBD0C2731C0', unidad_05='L2', unidad_01='242', unidad_02='SAN NICOLAS--AMURRIO JAIME', area=15.16, id_inspeccion=244)])]\n",
      "[{'s3_filename': '20250717_152107.jpg'}]\n",
      "Informe generado de 692 / AMURRIO TAPIA JAIME\n",
      "No se encontraron registros nuevos\n",
      "No se encontraron registros nuevos\n",
      "No se encontraron registros nuevos\n",
      "No se encontraron registros nuevos\n",
      "No se encontraron registros nuevos\n",
      "No se encontraron registros nuevos\n",
      "No se encontraron registros nuevos\n",
      "No se encontraron registros nuevos\n",
      "No se encontraron registros nuevos\n",
      "No se encontraron registros nuevos\n",
      "No se encontraron registros nuevos\n",
      "No se encontraron registros nuevos\n",
      "No se encontraron registros nuevos\n",
      "No se encontraron registros nuevos\n",
      "No se encontraron registros nuevos\n",
      "No se encontraron registros nuevos\n",
      "No se encontraron registros nuevos\n",
      "No se encontraron registros nuevos\n",
      "No se encontraron registros nuevos\n",
      "No se encontraron registros nuevos\n"
     ]
    },
    {
     "name": "stderr",
     "output_type": "stream",
     "text": [
      "\n",
      "KeyboardInterrupt\n",
      "\n"
     ]
    },
    {
     "data": {
      "text/plain": [
       "<Figure size 2000x2000 with 0 Axes>"
      ]
     },
     "metadata": {},
     "output_type": "display_data"
    },
    {
     "data": {
      "text/plain": [
       "<Figure size 2000x2000 with 0 Axes>"
      ]
     },
     "metadata": {},
     "output_type": "display_data"
    },
    {
     "data": {
      "text/plain": [
       "<Figure size 2000x2000 with 0 Axes>"
      ]
     },
     "metadata": {},
     "output_type": "display_data"
    },
    {
     "data": {
      "text/plain": [
       "<Figure size 2000x2000 with 0 Axes>"
      ]
     },
     "metadata": {},
     "output_type": "display_data"
    }
   ],
   "source": [
    "while True:\n",
    "    reg_nuevos = buscar_nuevos()\n",
    "    if len(reg_nuevos) == 0:\n",
    "        print('No se encontraron registros nuevos')\n",
    "        continue\n",
    "    for i in reg_nuevos:\n",
    "        insp = obtener_inspeccion(i)\n",
    "        ejecutar_scripts_sql()\n",
    "        lotes = obtener_lotes(i)\n",
    "        if len(lotes) == 0:\n",
    "            print(f'Inspeccion {i} no tiene lotes asignados')\n",
    "            continue\n",
    "        # de lotes eliminar todos los duplicados, y solo se queda con el codigo y nombre de propiedad, esto sera el objeto de propiedades que son parte de la inspeccion\n",
    "        props = eliminar_duplicados_y_conservar_campos(lotes, 'unidad_01', ['unidad_01', 'unidad_02'])\n",
    "        propiedades = propiedades_lotes(props)\n",
    "        fotos = obtener_fotos(insp.amigo_id)\n",
    "        \n",
    "        if len(fotos) == 0:\n",
    "            print(f'Inspeccion {i} no tiene fotos')\n",
    "        lista_planos = generar_planos(insp, propiedades)\n",
    "        print(insp)\n",
    "        print(propiedades)\n",
    "        print(fotos)\n",
    "        generar_reporte(insp, propiedades, fotos, lista_planos)\n",
    "        cambiar_estado_informe(i)\n",
    "        print(f'Informe generado de {insp.canhero}')"
   ]
  },
  {
   "cell_type": "code",
   "execution_count": null,
   "id": "5afbeb63-ca86-44cb-b422-2ed1a65351d7",
   "metadata": {},
   "outputs": [],
   "source": []
  },
  {
   "cell_type": "code",
   "execution_count": null,
   "id": "1686cb93-0a2d-4a23-8b0d-1cac5d049582",
   "metadata": {},
   "outputs": [],
   "source": []
  },
  {
   "cell_type": "code",
   "execution_count": null,
   "id": "8a114a9a-a890-465a-8186-fc7c55a65a91",
   "metadata": {},
   "outputs": [],
   "source": []
  },
  {
   "cell_type": "code",
   "execution_count": null,
   "id": "fee5edd8-3588-48be-818c-55020d3eafa5",
   "metadata": {},
   "outputs": [],
   "source": []
  },
  {
   "cell_type": "code",
   "execution_count": null,
   "id": "ed78fec9-90a7-4a20-a1ff-167b6f81a05c",
   "metadata": {},
   "outputs": [],
   "source": []
  },
  {
   "cell_type": "code",
   "execution_count": null,
   "id": "72f59c09-33d4-4da9-a83d-15c54b52264a",
   "metadata": {},
   "outputs": [],
   "source": []
  },
  {
   "cell_type": "code",
   "execution_count": null,
   "id": "2ce4c3d1-2897-47f2-bf42-766ba1c3386a",
   "metadata": {},
   "outputs": [],
   "source": []
  },
  {
   "cell_type": "code",
   "execution_count": null,
   "id": "fe13e4b5-b7d9-4137-a4c0-146dd21d7d74",
   "metadata": {},
   "outputs": [],
   "source": []
  },
  {
   "cell_type": "code",
   "execution_count": null,
   "id": "a04fceb2-bdb8-4ac3-a762-7d9ef6a2b420",
   "metadata": {},
   "outputs": [],
   "source": []
  },
  {
   "cell_type": "code",
   "execution_count": null,
   "id": "6e93d4c2-c782-46f1-ab7e-dfaeca98c3ff",
   "metadata": {},
   "outputs": [],
   "source": []
  },
  {
   "cell_type": "code",
   "execution_count": null,
   "id": "184c29df-b53c-47c5-81d8-3605ba2a39d1",
   "metadata": {},
   "outputs": [],
   "source": []
  },
  {
   "cell_type": "code",
   "execution_count": null,
   "id": "de7fad36-3f58-4331-9b73-942e668a2ba9",
   "metadata": {},
   "outputs": [],
   "source": []
  },
  {
   "cell_type": "code",
   "execution_count": null,
   "id": "145c84d0-c458-483a-ab72-f942cf8e2e82",
   "metadata": {},
   "outputs": [],
   "source": []
  },
  {
   "cell_type": "code",
   "execution_count": null,
   "id": "95bce4ef-6cd9-4fce-8da2-a186661ca538",
   "metadata": {},
   "outputs": [],
   "source": []
  },
  {
   "cell_type": "code",
   "execution_count": null,
   "id": "a80f97b8-7797-4c97-b75d-4b438d6e38c4",
   "metadata": {},
   "outputs": [],
   "source": []
  },
  {
   "cell_type": "code",
   "execution_count": null,
   "id": "1997bc6e-7a79-4662-9366-e53c4356cc4d",
   "metadata": {},
   "outputs": [],
   "source": []
  },
  {
   "cell_type": "code",
   "execution_count": null,
   "id": "685ed40c-e9b0-4963-b5bd-491808c0cfe7",
   "metadata": {},
   "outputs": [],
   "source": []
  }
 ],
 "metadata": {
  "kernelspec": {
   "display_name": "Python 3 (ipykernel)",
   "language": "python",
   "name": "python3"
  },
  "language_info": {
   "codemirror_mode": {
    "name": "ipython",
    "version": 3
   },
   "file_extension": ".py",
   "mimetype": "text/x-python",
   "name": "python",
   "nbconvert_exporter": "python",
   "pygments_lexer": "ipython3",
   "version": "3.10.13"
  }
 },
 "nbformat": 4,
 "nbformat_minor": 5
}
