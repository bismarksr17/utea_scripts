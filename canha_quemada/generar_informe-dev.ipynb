{
 "cells": [
  {
   "cell_type": "code",
   "execution_count": 1,
   "id": "e1f1dbac-99b6-4dd0-b657-ee1631324220",
   "metadata": {},
   "outputs": [
    {
     "ename": "NameError",
     "evalue": "name 'gege' is not defined",
     "output_type": "error",
     "traceback": [
      "\u001b[1;31m---------------------------------------------------------------------------\u001b[0m",
      "\u001b[1;31mNameError\u001b[0m                                 Traceback (most recent call last)",
      "Cell \u001b[1;32mIn[1], line 1\u001b[0m\n\u001b[1;32m----> 1\u001b[0m \u001b[43mgege\u001b[49m\n",
      "\u001b[1;31mNameError\u001b[0m: name 'gege' is not defined"
     ]
    }
   ],
   "source": [
    "gege"
   ]
  },
  {
   "cell_type": "code",
   "execution_count": 1,
   "id": "b8c951d1-11d5-4273-8820-1aa83140eaaf",
   "metadata": {
    "tags": []
   },
   "outputs": [],
   "source": [
    "from datetime import datetime, timedelta\n",
    "from shapely import wkb\n",
    "import geopandas as gpd\n",
    "import pandas as pd\n",
    "import contextily as ctx\n",
    "import matplotlib.pyplot as plt\n",
    "import requests\n",
    "\n",
    "from docxtpl import DocxTemplate\n",
    "import docxtpl\n",
    "from docx.shared import Mm\n",
    "\n",
    "import gspread\n",
    "from oauth2client.service_account import ServiceAccountCredentials\n",
    "\n",
    "import collections\n",
    "import os"
   ]
  },
  {
   "cell_type": "code",
   "execution_count": 2,
   "id": "8b91c0d0-02c6-4ba9-aaeb-e94399c4a934",
   "metadata": {},
   "outputs": [],
   "source": [
    "import sys\n",
    "sys.path.append('../_amigocloud')\n",
    "sys.path.append('..')\n",
    "\n",
    "from amigocloud import AmigoCloud\n",
    "\n",
    "from config import API_AMIGOCLOUD_TOKEN_CANHA_QUEMADA\n",
    "from config import RUTA_UNIDAD_ONE_DRIVE\n",
    "from config import RUTA_LOCAL_ONE_DRIVE"
   ]
  },
  {
   "cell_type": "code",
   "execution_count": 3,
   "id": "86af8909-e8ba-4b99-806c-d42f82d19386",
   "metadata": {},
   "outputs": [],
   "source": [
    "RUTA_COMPLETA = os.path.join(RUTA_UNIDAD_ONE_DRIVE, RUTA_LOCAL_ONE_DRIVE)\n",
    "RUTA_COMPLETA\n",
    "\n",
    "# variables globales\n",
    "proyecto_id = 31874\n",
    "\n",
    "buscar_reg_nuevos = 6476\n",
    "cargar_lotes_quema = 6474\n",
    "calc_area_lotes = 5078\n",
    "calc_total_insp = 6475"
   ]
  },
  {
   "cell_type": "code",
   "execution_count": 4,
   "id": "dadf8433-b3f5-4bab-96fe-3a639ee92084",
   "metadata": {},
   "outputs": [
    {
     "data": {
      "text/plain": [
       "'A:cdWdrp7RbEdc9ckGz2OL7rAOGAbUBummf9uwo8'"
      ]
     },
     "execution_count": 4,
     "metadata": {},
     "output_type": "execute_result"
    }
   ],
   "source": [
    "API_AMIGOCLOUD_TOKEN_CANHA_QUEMADA"
   ]
  },
  {
   "cell_type": "code",
   "execution_count": 5,
   "id": "282d6c78-9570-410e-ba0e-6569fb3639ff",
   "metadata": {
    "tags": []
   },
   "outputs": [
    {
     "data": {
      "text/plain": [
       "<amigocloud.AmigoCloud at 0x19b7885f7c0>"
      ]
     },
     "execution_count": 5,
     "metadata": {},
     "output_type": "execute_result"
    }
   ],
   "source": [
    "amigocloud = AmigoCloud(token=API_AMIGOCLOUD_TOKEN_CANHA_QUEMADA, project_url=\"https://app.amigocloud.com/api/v1/projects/31874\")\n",
    "amigocloud"
   ]
  },
  {
   "cell_type": "code",
   "execution_count": 6,
   "id": "196a3356-5e8b-4f47-b065-7fdac9f55ac1",
   "metadata": {},
   "outputs": [],
   "source": [
    "# convercion de wkb a geometria shp\n",
    "def convertir_wkb(wkb_data):\n",
    "    return wkb.loads(wkb_data, hex=True)\n",
    "\n",
    "# convierte de formato YYYY-mm-dd H:M:S+z a d/m/YYYY\n",
    "def convertir_formato_fecha(fecha):\n",
    "    new_formato = datetime.strptime(fecha, \"%Y-%m-%d %H:%M:%S%z\").strftime(\"%d/%m/%Y\")\n",
    "    return new_formato\n",
    "\n",
    "# ejecuta cualquier query sql en el proyecto que se le indique\n",
    "# requiere el id de proyecto, query a ejecutar y tipo solicitud (get o post)\n",
    "def ejecutar_query_sql(id_project, query, tipo_sql):\n",
    "    # define la url del proyecto para ejecutar el querry\n",
    "    url_proyecto_sql = f'https://app.amigocloud.com/api/v1/projects/{id_project}/sql'\n",
    "    # crea la estructura de query para amigocloud\n",
    "    query_sql = {'query': query}\n",
    "    # variable para almacenar resultado\n",
    "    resultado_get = ''\n",
    "    # eleige que tipo de solicitud se realizara (get o post)\n",
    "    if tipo_sql == 'get': \n",
    "        resultado_get = amigocloud.get(url_proyecto_sql, query_sql)\n",
    "    elif tipo_sql == 'post':\n",
    "        resultado_get = amigocloud.post(url_proyecto_sql, query_sql)\n",
    "    else:\n",
    "        resultado_get = 'Se a seleccionado un tipo de solicitud erroneo.'\n",
    "    return resultado_get\n",
    "\n",
    "# ejecuta un query que esta almacenado en un proyecto de amigocloud (generalmente un update),\n",
    "# requiere id de proyecto e id de query\n",
    "# retorna cuantas filas fueron afectadas\n",
    "def ejecutar_query_por_id(id_project, id_query, tipo_sql):\n",
    "    # obtiene el query basado en el id_project y el id_query\n",
    "    get_query = amigocloud.get(f'https://app.amigocloud.com/api/v1/projects/{id_project}/queries/{id_query}')\n",
    "    # se extrae solo el texto del query\n",
    "    query = get_query['query']\n",
    "    # ejecuta el query_sql con metodo post y guarda la respuesta\n",
    "    respuesta_post = ejecutar_query_sql(id_project, query, tipo_sql)\n",
    "    # retorna el numero de filas afectadas por el query\n",
    "    return respuesta_post\n",
    "\n",
    "# convierte un dict a un obj\n",
    "# recibe el dict y el nombre con el que se creara el obj\n",
    "def convertir_dict_obj(diccionario, name):\n",
    "    return collections.namedtuple(name, diccionario.keys())(*diccionario.values())\n",
    "\n",
    "# crea registro en xlsx de cites, retorna la numeracion correspondiente\n",
    "def crear_cite(cod_canhero, nom_canhero, tipo_reporte):\n",
    "    ruta_api_google = RUTA_COMPLETA + '\\_keys\\client_secret_google_sheets.json'\n",
    "    # Configura las credenciales\n",
    "    scope = [\"https://spreadsheets.google.com/feeds\",\n",
    "             'https://www.googleapis.com/auth/spreadsheets', \n",
    "             \"https://www.googleapis.com/auth/drive.file\", \n",
    "             \"https://www.googleapis.com/auth/drive\"]\n",
    "    creds = ServiceAccountCredentials.from_json_keyfile_name(ruta_api_google, scope)\n",
    "    client = gspread.authorize(creds)\n",
    "    # Abre la hoja de cálculo con ID y la hoja específica\n",
    "    spreadsheet = client.open_by_key(\"1Wbmmjy9s8JdXKP8qM_eA_OrCV--F1UZLnzQJ--ASOFI\")\n",
    "    sheet = spreadsheet.sheet1\n",
    "    # Lee los datos\n",
    "    data_sheet = sheet.get_all_records()\n",
    "    df = pd.DataFrame(data_sheet)\n",
    "    # Encuentra el número más grande y lo incrementamos y agrega un nuevo registro\n",
    "    max_value = df['No'].max()\n",
    "    no = int(max_value + 1)\n",
    "    # llenamos los demas campos\n",
    "    fecha = datetime.now().strftime(\"%m/%d/%Y\")\n",
    "    cod_ca = int(cod_canhero)\n",
    "    nom_ca = nom_canhero\n",
    "    tipo = tipo_reporte\n",
    "    #agregar el registro\n",
    "    sheet.append_row([no, fecha, cod_ca, nom_ca, tipo])\n",
    "    return no"
   ]
  },
  {
   "cell_type": "code",
   "execution_count": null,
   "id": "99d8273b-591a-4ea2-ac5f-fb732ea379e0",
   "metadata": {},
   "outputs": [],
   "source": []
  },
  {
   "cell_type": "code",
   "execution_count": 8,
   "id": "23850658-2d7d-4fad-a555-cfd32f59bd64",
   "metadata": {},
   "outputs": [],
   "source": [
    "def buscar_nuevos():\n",
    "    # revisa y extiste registros nuevos (campo reporte_generado en false)\n",
    "    rec_nuevos = ejecutar_query_por_id(proyecto_id, buscar_reg_nuevos, 'get')\n",
    "    # se queda con la parte de darta\n",
    "    rec_nuevos = rec_nuevos['data']\n",
    "    # extrae el id de los nuevos regitros\n",
    "    id_nuevos = [i['id'] for i in rec_nuevos]\n",
    "    return id_nuevos\n",
    "\n",
    "def ejecutar_scripts_sql():\n",
    "    # ejecuatar scripts generales para completar campos y recalculos\n",
    "    exe_cargar_lotes_quema = ejecutar_query_por_id(proyecto_id, cargar_lotes_quema, 'post')\n",
    "    exe_calc_area_lotes = ejecutar_query_por_id(proyecto_id, calc_area_lotes, 'post')\n",
    "    exe_calc_total_insp = ejecutar_query_por_id(proyecto_id, calc_total_insp, 'post')\n",
    "\n",
    "def obtener_inspeccion(id_insp):\n",
    "    # seleccionar un registro\n",
    "    # crear consulta\n",
    "    query = f'select * from dataset_351059 where id = {id_insp}'\n",
    "    # ejecutar consulta\n",
    "    inspeccion = ejecutar_query_sql(proyecto_id, query, 'get')\n",
    "    # extrae la seccion de data\n",
    "    inspeccion = inspeccion['data']\n",
    "    # extrae el primer elemento, solo hay un elemento\n",
    "    inspeccion = inspeccion[0]\n",
    "    # convertion de formato de fechas\n",
    "    inspeccion['date'] = convertir_formato_fecha(inspeccion['fecha_registro'])\n",
    "    inspeccion['fecha_inspeccion'] = convertir_formato_fecha(inspeccion['fecha_inspeccion'])\n",
    "    inspeccion['fecha_quema'] = convertir_formato_fecha(inspeccion['fecha_quema'])\n",
    "    # extraccion de codigo y nombre del cañero\n",
    "    cod_ca = inspeccion['canhero'].split(' / ')[0]\n",
    "    nom_ca = inspeccion['canhero'].split(' / ')[1]\n",
    "    # crear y asignar cite\n",
    "    cite = crear_cite(cod_ca, nom_ca, 'QUEMA')\n",
    "    inspeccion['cite'] = cite\n",
    "    # convertir el dict en objeto\n",
    "    insp = convertir_dict_obj(inspeccion, 'insp')\n",
    "    return insp\n",
    "\n",
    "def obtener_lotes(id_insp):\n",
    "    # seleccionar todos los lotes marcados con la inspeccion\n",
    "    # crear consulta\n",
    "    query = f'select * from dataset_351061 where id_inspeccion = {id_insp}'\n",
    "    # ejecutar consulta\n",
    "    lotes = ejecutar_query_sql(proyecto_id, query, 'get')\n",
    "    # extraer solo la seccion de data\n",
    "    lotes = lotes['data']\n",
    "    return lotes\n",
    "\n",
    "# elimina todos los dic duplicados basandose en \"unidad_01\", y concerva solo en cop_prop y nom_prop\n",
    "# con esto se obtiene un dict de propiedades de la inspeccion\n",
    "def eliminar_duplicados_y_conservar_campos(lista, campo_clave, campos_a_conservar):\n",
    "    vistos = set()\n",
    "    nueva_lista = []\n",
    "    for diccionario in lista:\n",
    "        valor = diccionario[campo_clave]\n",
    "        if valor not in vistos:\n",
    "            vistos.add(valor)\n",
    "            nuevo_diccionario = {campo: diccionario[campo] for campo in campos_a_conservar}\n",
    "            nueva_lista.append(nuevo_diccionario)\n",
    "    return nueva_lista\n",
    "\n",
    "def propiedades_lotes(props):\n",
    "    # recorrer las propiedades, y agregar los lotes correspondientes\n",
    "    # se crea una lista de objetos propiedad con los respectivos lotes agregados a cada propiedad\n",
    "    propiedades = []\n",
    "    for prop in props:\n",
    "        prop['lote'] = []\n",
    "        lotes_select = [lote for lote in lotes if lote['unidad_01'] == prop['unidad_01']]\n",
    "        for lote_select in lotes_select:\n",
    "            lote = convertir_dict_obj(lote_select, 'lote')\n",
    "            prop['lote'].append(lote)\n",
    "        propiedades.append(convertir_dict_obj(prop, 'propiedad'))\n",
    "    return propiedades\n",
    "\n",
    "def obtener_fotos(insp_amigo_id):\n",
    "    # buscar todas las fotos que son parte de la inspeccion\n",
    "    # crear consulta\n",
    "    query = f'select s3_filename from gallery_61142 where source_amigo_id = \\'{insp_amigo_id}\\''\n",
    "    # ejecutar consulta\n",
    "    fotos = ejecutar_query_sql(proyecto_id, query, 'get')\n",
    "    # extrae la seccion de data\n",
    "    fotos = fotos['data']\n",
    "    return fotos\n",
    "\n",
    "def cambiar_estado_informe(id_insp):\n",
    "    # actualizar estado de informe_generado a true\n",
    "    # crear consulta\n",
    "    query = f'update dataset_351059 set informe_generado = true where id = {id_insp}'\n",
    "    # ejecutar consulta\n",
    "    res = ejecutar_query_sql(proyecto_id, query, 'post')\n",
    "    return res"
   ]
  },
  {
   "cell_type": "code",
   "execution_count": null,
   "id": "916e0c0d-6e7f-4ba3-9df3-8dc55c82bd7d",
   "metadata": {},
   "outputs": [],
   "source": []
  },
  {
   "cell_type": "code",
   "execution_count": null,
   "id": "d668acb5-9552-4589-85c4-39984e653364",
   "metadata": {},
   "outputs": [],
   "source": []
  },
  {
   "cell_type": "code",
   "execution_count": 9,
   "id": "5087ca74-f0bc-4a6d-8604-c0ef0ad0ab1c",
   "metadata": {},
   "outputs": [],
   "source": [
    "def generar_planos(insp, propiedades):\n",
    "    # generar planos\n",
    "    lista_planos = []\n",
    "    path = ''\n",
    "    for propiedad in propiedades:\n",
    "        lotes_lista = []\n",
    "        for lote in propiedad.lote:\n",
    "            lotes_lista.append(lote._asdict())\n",
    "        df = pd.DataFrame(lotes_lista)\n",
    "        df['geometria'] = df['geometria'].apply(convertir_wkb)\n",
    "\n",
    "        #Convertir a GeoDataFrame\n",
    "        data = gpd.GeoDataFrame(df, geometry='geometria')\n",
    "\n",
    "        data['coords'] = data['geometria'].apply(lambda x: x.representative_point().coords[:])\n",
    "        data['coords'] = [coords[0] for coords in data['coords']]\n",
    "\n",
    "        data.crs = \"EPSG:4326\"\n",
    "        data = data.to_crs(epsg=3857)\n",
    "        \n",
    "        fig = plt.figure(i, figsize=(20,20))\n",
    "        ax = None\n",
    "        ax = fig.add_subplot()\n",
    "\n",
    "        data.apply(lambda x: ax.annotate(text=x.unidad_05 + ' \\n' + str(x.area) + ' ha', xy=x.geometria.centroid.coords[0], ha='center', va='center', color='black', fontsize=12, weight=1000, bbox=dict(facecolor=(1,1,1,0.3), edgecolor='none', pad=0)), axis=1);\n",
    "    \n",
    "        minx, miny, maxx, maxy = data.total_bounds\n",
    "        ax.set_xlim(minx - 500, maxx + 500)\n",
    "        ax.set_ylim(miny - 400, maxy + 400)\n",
    "\n",
    "        data.plot(ax=ax, edgecolor='r', facecolor=(0,0,0,0), linewidth=2, figsize=(20,20))\n",
    "    \n",
    "        ctx.add_basemap(ax, source=ctx.providers.Esri.WorldImagery)\n",
    "        ax.set_axis_off()\n",
    "        ax.set_title(str(propiedad.unidad_01) + ' / ' + str(propiedad.unidad_02), fontsize=20)\n",
    "        path = RUTA_COMPLETA + '/planos/' + str(insp.amigo_id) + '_' + str(propiedad.unidad_01) + '.jpeg'\n",
    "        lista_planos.append(path)\n",
    "        fig.savefig(path, dpi = 300, bbox_inches='tight')\n",
    "        plt.clf()\n",
    "    return lista_planos"
   ]
  },
  {
   "cell_type": "code",
   "execution_count": 10,
   "id": "24a606a0-3b73-4e22-a347-c3e72bf6c607",
   "metadata": {},
   "outputs": [],
   "source": [
    "def generar_reporte(insp, propiedades, fotos, lista_planos):\n",
    "    # generar reporte\n",
    "    # asignacion de template\n",
    "    doc = DocxTemplate(RUTA_COMPLETA + \"/templates/tpl_infome_quema.docx\")\n",
    "\n",
    "    #generar lista de InlineImage de planos \n",
    "    lista_InlineImage = []\n",
    "    for plano in lista_planos:\n",
    "        lista_InlineImage.append(docxtpl.InlineImage(doc, image_descriptor=plano, width=Mm(150)))\n",
    "\n",
    "    #descargar fotos y generar lista InlineImage\n",
    "    lista_fotos_inline = []\n",
    "    for foto in fotos:\n",
    "        response = requests.get(\"https://www-amigocloud.s3.amazonaws.com/gallery/\" + foto['s3_filename'])\n",
    "        file = open(RUTA_COMPLETA + '/fotos/' + foto['s3_filename'], \"wb\")\n",
    "        file.write(response.content)\n",
    "        file.close()\n",
    "        lista_fotos_inline.append({'foto': docxtpl.InlineImage(doc, image_descriptor= RUTA_COMPLETA + '/fotos/' + foto['s3_filename'], width=Mm(120))})\n",
    "\n",
    "    firma_respon = None\n",
    "    if insp.responsable_tec == 'Rogelio Acuña Rodríguez':\n",
    "        firma_respon = docxtpl.InlineImage(doc, image_descriptor=RUTA_COMPLETA + '/templates/firma_rogelio.png', width=Mm(60))\n",
    "    else:\n",
    "        firma_respon = docxtpl.InlineImage(doc, image_descriptor=RUTA_COMPLETA + '/templates/firma_jaldin.png', width=Mm(60))\n",
    "\n",
    "    context = {'insp':insp, 'propiedades':propiedades, 'planos':lista_InlineImage, 'fotos':lista_fotos_inline, 'firma':firma_respon}\n",
    "\n",
    "    doc.render(context)\n",
    "\n",
    "    # formato de nombre de archivo: \"123_CQ_01-01-2022_NOMBRE\"\n",
    "    cod_nom = insp.canhero.split(' / ')\n",
    "    file_name = cod_nom[0] + '_IDCQ_' + insp.fecha_inspeccion.replace('/','-') + '_' + cod_nom[1] + '_' + str(insp.id)\n",
    "\n",
    "    doc.save(RUTA_COMPLETA + '/informes/_' + file_name + '.docx')"
   ]
  },
  {
   "cell_type": "code",
   "execution_count": null,
   "id": "1f185d1f-87de-4beb-8464-366d0da2ac4e",
   "metadata": {},
   "outputs": [],
   "source": []
  },
  {
   "cell_type": "code",
   "execution_count": null,
   "id": "1d0b3aff-fb1d-4f86-884a-869b9c2741a8",
   "metadata": {},
   "outputs": [],
   "source": []
  },
  {
   "cell_type": "code",
   "execution_count": null,
   "id": "27612da0-e9da-476d-b7f8-8d2542cb618c",
   "metadata": {},
   "outputs": [],
   "source": []
  },
  {
   "cell_type": "code",
   "execution_count": null,
   "id": "f19abbe4-9fb6-40c3-98ed-5e34da66f3d2",
   "metadata": {},
   "outputs": [],
   "source": []
  },
  {
   "cell_type": "code",
   "execution_count": null,
   "id": "573a560d-c837-452c-b159-e5d21eeb376e",
   "metadata": {},
   "outputs": [],
   "source": []
  },
  {
   "cell_type": "code",
   "execution_count": 11,
   "id": "1985058b-615d-4aab-bcbd-4880331e3882",
   "metadata": {},
   "outputs": [],
   "source": [
    "from amigocloud import AmigoCloud\n",
    "import os\n",
    "\n",
    "def descargar_imagen_gallery(token, gallery_id, source_amigo_id, amigo_id, filename, carpeta_destino=\"imagenes\"):\n",
    "    \"\"\"\n",
    "    Descarga una imagen específica desde una galería en AmigoCloud.\n",
    "    \"\"\"\n",
    "    ac = amigocloud\n",
    "    os.makedirs(carpeta_destino, exist_ok=True)\n",
    "\n",
    "    url_archivo = f\"https://app.amigocloud.com/api/v1/related_tables/{gallery_id}/files/{source_amigo_id}/{amigo_id}/{filename}\"\n",
    "    print(f\"⬇️ Descargando: {filename}\")\n",
    "\n",
    "    try:\n",
    "        contenido = ac.get(url_archivo, raw=True)\n",
    "        ruta_salida = os.path.join(carpeta_destino, filename)\n",
    "        with open(ruta_salida, \"wb\") as f:\n",
    "            f.write(contenido)\n",
    "        print(f\"✅ Imagen guardada en: {ruta_salida}\")\n",
    "        return ruta_salida\n",
    "    except Exception as e:\n",
    "        print(f\"❌ Error al descargar {filename}: {e}\")\n",
    "        return None\n"
   ]
  },
  {
   "cell_type": "code",
   "execution_count": null,
   "id": "846c9401-2257-46d9-8ac7-9e2996cad818",
   "metadata": {},
   "outputs": [],
   "source": [
    "descargar_imagen_gallery(\n",
    "    token=API_AMIGOCLOUD_TOKEN_CANHA_QUEMADA,\n",
    "    gallery_id=61142,\n",
    "    source_amigo_id=\"362128f5021f44219ea6e4c57bcc7088\",\n",
    "    amigo_id=\"90b988528559481a85a6813084fa621a\",\n",
    "    filename=\"61142_20250716052324120.jpg\"\n",
    ")"
   ]
  },
  {
   "cell_type": "code",
   "execution_count": null,
   "id": "aba6c7a1-9fd4-44e3-885e-0ef80d69edec",
   "metadata": {},
   "outputs": [],
   "source": []
  },
  {
   "cell_type": "code",
   "execution_count": null,
   "id": "22e4f98a-c068-4cdd-ad27-e29b728b68f6",
   "metadata": {},
   "outputs": [],
   "source": []
  },
  {
   "cell_type": "code",
   "execution_count": null,
   "id": "52202a7b-a124-44ab-ad68-6f618f5cf960",
   "metadata": {},
   "outputs": [],
   "source": []
  },
  {
   "cell_type": "code",
   "execution_count": null,
   "id": "78eb6902-8187-4699-9da5-52aa1747c43c",
   "metadata": {},
   "outputs": [],
   "source": []
  },
  {
   "cell_type": "code",
   "execution_count": null,
   "id": "49ff072b-dbb2-44c3-b63f-ea9cb49db041",
   "metadata": {},
   "outputs": [],
   "source": []
  },
  {
   "cell_type": "code",
   "execution_count": null,
   "id": "46dc9697-814e-4ec5-9e0b-d0aa20293389",
   "metadata": {},
   "outputs": [],
   "source": []
  },
  {
   "cell_type": "code",
   "execution_count": null,
   "id": "5ba1fa02-a0b0-4864-b629-5f0746c7d686",
   "metadata": {},
   "outputs": [],
   "source": []
  },
  {
   "cell_type": "code",
   "execution_count": null,
   "id": "89a76adc-2ffa-4eb1-8895-00d7c87dee35",
   "metadata": {},
   "outputs": [],
   "source": []
  },
  {
   "cell_type": "code",
   "execution_count": null,
   "id": "9815abca-1abe-4217-9544-e1cd1bec4831",
   "metadata": {},
   "outputs": [],
   "source": []
  },
  {
   "cell_type": "code",
   "execution_count": null,
   "id": "1472a9b7-c32d-48be-80b4-9f6d3e49958c",
   "metadata": {},
   "outputs": [],
   "source": []
  },
  {
   "cell_type": "code",
   "execution_count": null,
   "id": "473ae879-bbb9-4be2-bcb5-432ea525076c",
   "metadata": {},
   "outputs": [],
   "source": []
  },
  {
   "cell_type": "code",
   "execution_count": null,
   "id": "22a069da-80c1-453d-8e40-1e6f2257c27d",
   "metadata": {},
   "outputs": [],
   "source": []
  },
  {
   "cell_type": "code",
   "execution_count": 11,
   "id": "07860086-e06f-427d-b6d1-d2ac4c2ab3db",
   "metadata": {},
   "outputs": [
    {
     "name": "stdout",
     "output_type": "stream",
     "text": [
      "insp(id=223, informe_generado=False, fecha_registro='2025-07-16 11:54:09+00:00', fecha_quema='15/07/2025', fecha_inspeccion='15/07/2025', canhero='15195 / VEIZAGA ENRIQUEZ GUSTAVO', superficie_total=26.59, rendimiento=85.0, produccion=2260.15, cite=174, inicio_incendio='Fuera de la propiedad', causa='Quema paso desde propiedad vecina', responsable_de_quema='El fuego paso de propiedad vecina', observaciones=None, link_informe=None, tipo_cosecha='MECANIZADO', amigo_id='db44f73996704dfbb3b57feab78ca921', responsable_tec='Bismark Socompi Rodríguez', ubicacion='0104000020E61000000500000001010000009C6F44F7ACA94FC09706D90D364231C001010000004342EFE8DAA94FC01AA54BFF924231C00101000000FA360E06E8A94FC098F5076FB44231C00101000000469561DC0DAA4FC0760D4460F64231C00101000000696A7EA1ECA94FC0EDFDFCAD534331C0', date='16/07/2025')\n",
      "[{'s3_filename': 'IMG-20250716-WA0002.jpg'}]\n",
      "Informe generado de 15195 / VEIZAGA ENRIQUEZ GUSTAVO\n",
      "insp(id=224, informe_generado=False, fecha_registro='2025-07-16 11:56:45+00:00', fecha_quema='15/07/2025', fecha_inspeccion='15/07/2025', canhero='1182 / BOHORQUEZ FERNANDEZ NICANOR', superficie_total=9.47, rendimiento=75.0, produccion=710.25, cite=175, inicio_incendio='Fuera de la propiedad', causa='Quema paso desde propiedad vecina', responsable_de_quema='El fuego paso de propiedad vecina', observaciones=None, link_informe=None, tipo_cosecha='MECANIZADO', amigo_id='6ea9886db0854ed2935cb6aa76327881', responsable_tec='Bismark Socompi Rodríguez', ubicacion='0104000020E6100000020000000101000000038B0D277AA94FC08C378D486F4331C001010000008AE2FA1CC4A94FC0B2D7BB3FDE4331C0', date='16/07/2025')\n",
      "[{'s3_filename': 'IMG-20250716-WA0003.jpg'}]\n",
      "Informe generado de 1182 / BOHORQUEZ FERNANDEZ NICANOR\n",
      "insp(id=225, informe_generado=False, fecha_registro='2025-07-16 11:58:25+00:00', fecha_quema='15/07/2025', fecha_inspeccion='15/07/2025', canhero='556 / AYALA ESPINOSA WALDO SELUB', superficie_total=16.09, rendimiento=60.0, produccion=965.4, cite=176, inicio_incendio='Fuera de la propiedad', causa='Quema paso desde propiedad vecina', responsable_de_quema='El fuego paso de propiedad vecina', observaciones=None, link_informe=None, tipo_cosecha='MECANIZADO', amigo_id='5c196c72440f4765bb4238c422ddde33', responsable_tec='Bismark Socompi Rodríguez', ubicacion='0104000020E6100000040000000101000000622AA2CB40AA4FC04A4563EDEF4231C0010100000085AF54BC36AA4FC01E1B81785D4331C0010100000017D9CEF753AA4FC03677F4BF5C4331C001010000004A09C1AA7AAA4FC0BB568C04644331C0', date='16/07/2025')\n",
      "[{'s3_filename': 'IMG-20250716-WA0004.jpg'}]\n",
      "Informe generado de 556 / AYALA ESPINOSA WALDO SELUB\n",
      "insp(id=226, informe_generado=False, fecha_registro='2025-07-16 11:59:51+00:00', fecha_quema='15/07/2025', fecha_inspeccion='15/07/2025', canhero='6592 / JANKO ALANES JUANITO', superficie_total=19.33, rendimiento=60.0, produccion=1159.8, cite=177, inicio_incendio='Fuera de la propiedad', causa='Quema paso desde propiedad vecina', responsable_de_quema='El fuego paso de propiedad vecina', observaciones=None, link_informe=None, tipo_cosecha='SEMI-MECANIZADO', amigo_id='3fa363b7f9a1476086fa30f8e243354c', responsable_tec='Bismark Socompi Rodríguez', ubicacion='0104000020E61000000300000001010000001F5503835AA94FC056009D93284331C001010000002BCC310F4FA94FC0D62945E1694431C00101000000BDF671D98DA94FC0CC41D0D1AA4431C0', date='16/07/2025')\n",
      "[{'s3_filename': 'IMG-20250716-WA0005.jpg'}]\n",
      "Informe generado de 6592 / JANKO ALANES JUANITO\n",
      "insp(id=227, informe_generado=False, fecha_registro='2025-07-16 12:01:27+00:00', fecha_quema='15/07/2025', fecha_inspeccion='15/07/2025', canhero='624 / ALVAREZ BLANCO HERNAN', superficie_total=9.94, rendimiento=65.0, produccion=646.1, cite=178, inicio_incendio='Fuera de la propiedad', causa='Quema paso desde propiedad vecina', responsable_de_quema='El fuego paso de propiedad vecina', observaciones=None, link_informe=None, tipo_cosecha='SEMI-MECANIZADO', amigo_id='b31cabf5da684ea9939a61c16a06fa02', responsable_tec='Bismark Socompi Rodríguez', ubicacion='0104000020E610000001000000010100000004D1EEEB1BAA4FC0A1D634EF384531C0', date='16/07/2025')\n",
      "[{'s3_filename': 'IMG-20250716-WA0006.jpg'}]\n",
      "Informe generado de 624 / ALVAREZ BLANCO HERNAN\n",
      "insp(id=232, informe_generado=False, fecha_registro='2025-07-16 12:14:38+00:00', fecha_quema='15/07/2025', fecha_inspeccion='15/07/2025', canhero='2517 / CHAMBI RODRIGUEZ MARIO', superficie_total=4.77, rendimiento=60.0, produccion=286.2, cite=179, inicio_incendio='Fuera de la propiedad', causa='Quema paso desde propiedad vecina', responsable_de_quema='El fuego paso de propiedad vecina', observaciones=None, link_informe=None, tipo_cosecha='SEMI-MECANIZADO', amigo_id='36a0e290d3634da2b1ab037d7185d0c8', responsable_tec='Bismark Socompi Rodríguez', ubicacion='0104000020E6100000010000000101000000303B7AB251A94FC0154E7743BF4531C0', date='16/07/2025')\n",
      "[{'s3_filename': 'IMG-20250716-WA0012.jpg'}]\n",
      "Informe generado de 2517 / CHAMBI RODRIGUEZ MARIO\n",
      "insp(id=229, informe_generado=False, fecha_registro='2025-07-16 12:09:05+00:00', fecha_quema='15/07/2025', fecha_inspeccion='15/07/2025', canhero='9722 / OLGUIN FLORES MIGUELINA', superficie_total=13.4, rendimiento=60.0, produccion=804.0, cite=180, inicio_incendio='Fuera de la propiedad', causa='Quema paso desde propiedad vecina', responsable_de_quema='El fuego paso de propiedad vecina', observaciones=None, link_informe=None, tipo_cosecha='SEMI-MECANIZADO', amigo_id='9b7e1d1ef66a4a10a2aab0ebfd8bc01a', responsable_tec='Bismark Socompi Rodríguez', ubicacion='0104000020E61000000200000001010000006A824D428EA94FC0E41D96BCF04531C00101000000AE77C94972A94FC03C889D29744631C0', date='16/07/2025')\n",
      "[{'s3_filename': 'IMG-20250716-WA0009.jpg'}]\n",
      "Informe generado de 9722 / OLGUIN FLORES MIGUELINA\n",
      "insp(id=230, informe_generado=False, fecha_registro='2025-07-16 12:10:22+00:00', fecha_quema='15/07/2025', fecha_inspeccion='15/07/2025', canhero='405 / ALVAREZ BLANCO WILSON', superficie_total=4.55, rendimiento=55.0, produccion=250.25, cite=181, inicio_incendio='Fuera de la propiedad', causa='Quema paso desde propiedad vecina', responsable_de_quema='El fuego paso de propiedad vecina', observaciones=None, link_informe=None, tipo_cosecha='SEMI-MECANIZADO', amigo_id='fd34998c59e948b893c37e1ee4347fe3', responsable_tec='Bismark Socompi Rodríguez', ubicacion='0104000020E6100000020000000101000000340EF5BBB0A94FC007280D350A4731C00101000000952D9276A3A94FC084C60215444731C0', date='16/07/2025')\n",
      "[{'s3_filename': 'IMG-20250716-WA0010.jpg'}]\n",
      "Informe generado de 405 / ALVAREZ BLANCO WILSON\n",
      "insp(id=228, informe_generado=False, fecha_registro='2025-07-16 12:03:37+00:00', fecha_quema='15/07/2025', fecha_inspeccion='15/07/2025', canhero='11191 / QUIROZ OLGUIN DEISY', superficie_total=28.29, rendimiento=65.0, produccion=1838.85, cite=182, inicio_incendio='Fuera de la propiedad', causa='Quema paso desde propiedad vecina', responsable_de_quema='El fuego paso de propiedad vecina', observaciones=None, link_informe=None, tipo_cosecha='MECANIZADO', amigo_id='46912b031201477ca0a43812922430d9', responsable_tec='Bismark Socompi Rodríguez', ubicacion='0104000020E6100000030000000101000000EF13515D0AAA4FC098874CF9104431C00101000000594A3BDADDA94FC04FD4884FF04331C0010100000089EDEE01BAA94FC04427953A124531C0', date='16/07/2025')\n",
      "[{'s3_filename': 'IMG-20250716-WA0007.jpg'}]\n",
      "Informe generado de 11191 / QUIROZ OLGUIN DEISY\n",
      "insp(id=231, informe_generado=False, fecha_registro='2025-07-16 12:13:02+00:00', fecha_quema='15/07/2025', fecha_inspeccion='15/07/2025', canhero='41978 / JANKO ALANES RELINDA', superficie_total=15.8, rendimiento=75.0, produccion=1185.0, cite=183, inicio_incendio='Fuera de la propiedad', causa='Quema paso desde propiedad vecina', responsable_de_quema='El fuego paso de propiedad vecina', observaciones=None, link_informe=None, tipo_cosecha='SEMI-MECANIZADO', amigo_id='b017e9e0013746ac83caa46d6c28da99', responsable_tec='Bismark Socompi Rodríguez', ubicacion='0104000020E6100000030000000101000000D0B9DBF5D2A94FC01D273BEC744631C001010000007D467DEDF4A94FC0C978EF03EB4531C001010000002EC55565DFA94FC02CEFAA07CC4531C0', date='16/07/2025')\n",
      "[{'s3_filename': 'IMG-20250716-WA0011.jpg'}]\n",
      "Informe generado de 41978 / JANKO ALANES RELINDA\n",
      "No se encontraron registros nuevos\n",
      "No se encontraron registros nuevos\n",
      "No se encontraron registros nuevos\n",
      "No se encontraron registros nuevos\n",
      "No se encontraron registros nuevos\n",
      "No se encontraron registros nuevos\n"
     ]
    },
    {
     "name": "stderr",
     "output_type": "stream",
     "text": [
      "\n",
      "KeyboardInterrupt\n",
      "\n"
     ]
    },
    {
     "name": "stdout",
     "output_type": "stream",
     "text": [
      "Error in callback <function flush_figures at 0x0000019B7FC4A5F0> (for post_execute):\n"
     ]
    },
    {
     "ename": "KeyboardInterrupt",
     "evalue": "",
     "output_type": "error",
     "traceback": [
      "\u001b[1;31m---------------------------------------------------------------------------\u001b[0m",
      "\u001b[1;31mKeyboardInterrupt\u001b[0m                         Traceback (most recent call last)",
      "File \u001b[1;32m~\\anaconda3\\envs\\utea_reportes\\lib\\site-packages\\matplotlib_inline\\backend_inline.py:126\u001b[0m, in \u001b[0;36mflush_figures\u001b[1;34m()\u001b[0m\n\u001b[0;32m    123\u001b[0m \u001b[38;5;28;01mif\u001b[39;00m InlineBackend\u001b[38;5;241m.\u001b[39minstance()\u001b[38;5;241m.\u001b[39mclose_figures:\n\u001b[0;32m    124\u001b[0m     \u001b[38;5;66;03m# ignore the tracking, just draw and close all figures\u001b[39;00m\n\u001b[0;32m    125\u001b[0m     \u001b[38;5;28;01mtry\u001b[39;00m:\n\u001b[1;32m--> 126\u001b[0m         \u001b[38;5;28;01mreturn\u001b[39;00m \u001b[43mshow\u001b[49m\u001b[43m(\u001b[49m\u001b[38;5;28;43;01mTrue\u001b[39;49;00m\u001b[43m)\u001b[49m\n\u001b[0;32m    127\u001b[0m     \u001b[38;5;28;01mexcept\u001b[39;00m \u001b[38;5;167;01mException\u001b[39;00m \u001b[38;5;28;01mas\u001b[39;00m e:\n\u001b[0;32m    128\u001b[0m         \u001b[38;5;66;03m# safely show traceback if in IPython, else raise\u001b[39;00m\n\u001b[0;32m    129\u001b[0m         ip \u001b[38;5;241m=\u001b[39m get_ipython()\n",
      "File \u001b[1;32m~\\anaconda3\\envs\\utea_reportes\\lib\\site-packages\\matplotlib_inline\\backend_inline.py:90\u001b[0m, in \u001b[0;36mshow\u001b[1;34m(close, block)\u001b[0m\n\u001b[0;32m     88\u001b[0m \u001b[38;5;28;01mtry\u001b[39;00m:\n\u001b[0;32m     89\u001b[0m     \u001b[38;5;28;01mfor\u001b[39;00m figure_manager \u001b[38;5;129;01min\u001b[39;00m Gcf\u001b[38;5;241m.\u001b[39mget_all_fig_managers():\n\u001b[1;32m---> 90\u001b[0m         \u001b[43mdisplay\u001b[49m\u001b[43m(\u001b[49m\n\u001b[0;32m     91\u001b[0m \u001b[43m            \u001b[49m\u001b[43mfigure_manager\u001b[49m\u001b[38;5;241;43m.\u001b[39;49m\u001b[43mcanvas\u001b[49m\u001b[38;5;241;43m.\u001b[39;49m\u001b[43mfigure\u001b[49m\u001b[43m,\u001b[49m\n\u001b[0;32m     92\u001b[0m \u001b[43m            \u001b[49m\u001b[43mmetadata\u001b[49m\u001b[38;5;241;43m=\u001b[39;49m\u001b[43m_fetch_figure_metadata\u001b[49m\u001b[43m(\u001b[49m\u001b[43mfigure_manager\u001b[49m\u001b[38;5;241;43m.\u001b[39;49m\u001b[43mcanvas\u001b[49m\u001b[38;5;241;43m.\u001b[39;49m\u001b[43mfigure\u001b[49m\u001b[43m)\u001b[49m\n\u001b[0;32m     93\u001b[0m \u001b[43m        \u001b[49m\u001b[43m)\u001b[49m\n\u001b[0;32m     94\u001b[0m \u001b[38;5;28;01mfinally\u001b[39;00m:\n\u001b[0;32m     95\u001b[0m     show\u001b[38;5;241m.\u001b[39m_to_draw \u001b[38;5;241m=\u001b[39m []\n",
      "File \u001b[1;32m~\\anaconda3\\envs\\utea_reportes\\lib\\site-packages\\IPython\\core\\display_functions.py:305\u001b[0m, in \u001b[0;36mdisplay\u001b[1;34m(include, exclude, metadata, transient, display_id, raw, clear, *objs, **kwargs)\u001b[0m\n\u001b[0;32m    302\u001b[0m         \u001b[38;5;28;01mif\u001b[39;00m metadata:\n\u001b[0;32m    303\u001b[0m             \u001b[38;5;66;03m# kwarg-specified metadata gets precedence\u001b[39;00m\n\u001b[0;32m    304\u001b[0m             _merge(md_dict, metadata)\n\u001b[1;32m--> 305\u001b[0m         publish_display_data(data\u001b[38;5;241m=\u001b[39mformat_dict, metadata\u001b[38;5;241m=\u001b[39mmd_dict, \u001b[38;5;241m*\u001b[39m\u001b[38;5;241m*\u001b[39mkwargs)\n\u001b[0;32m    306\u001b[0m \u001b[38;5;28;01mif\u001b[39;00m display_id:\n\u001b[0;32m    307\u001b[0m     \u001b[38;5;28;01mreturn\u001b[39;00m DisplayHandle(display_id)\n",
      "File \u001b[1;32m~\\anaconda3\\envs\\utea_reportes\\lib\\site-packages\\IPython\\core\\display_functions.py:93\u001b[0m, in \u001b[0;36mpublish_display_data\u001b[1;34m(data, metadata, source, transient, **kwargs)\u001b[0m\n\u001b[0;32m     90\u001b[0m \u001b[38;5;28;01mif\u001b[39;00m transient:\n\u001b[0;32m     91\u001b[0m     kwargs[\u001b[38;5;124m'\u001b[39m\u001b[38;5;124mtransient\u001b[39m\u001b[38;5;124m'\u001b[39m] \u001b[38;5;241m=\u001b[39m transient\n\u001b[1;32m---> 93\u001b[0m display_pub\u001b[38;5;241m.\u001b[39mpublish(\n\u001b[0;32m     94\u001b[0m     data\u001b[38;5;241m=\u001b[39mdata,\n\u001b[0;32m     95\u001b[0m     metadata\u001b[38;5;241m=\u001b[39mmetadata,\n\u001b[0;32m     96\u001b[0m     \u001b[38;5;241m*\u001b[39m\u001b[38;5;241m*\u001b[39mkwargs\n\u001b[0;32m     97\u001b[0m )\n",
      "File \u001b[1;32m~\\anaconda3\\envs\\utea_reportes\\lib\\site-packages\\ipykernel\\zmqshell.py:102\u001b[0m, in \u001b[0;36mZMQDisplayPublisher.publish\u001b[1;34m(self, data, metadata, transient, update)\u001b[0m\n\u001b[0;32m     80\u001b[0m \u001b[38;5;28;01mdef\u001b[39;00m \u001b[38;5;21mpublish\u001b[39m(\n\u001b[0;32m     81\u001b[0m     \u001b[38;5;28mself\u001b[39m,\n\u001b[0;32m     82\u001b[0m     data,\n\u001b[1;32m   (...)\u001b[0m\n\u001b[0;32m     85\u001b[0m     update\u001b[38;5;241m=\u001b[39m\u001b[38;5;28;01mFalse\u001b[39;00m,\n\u001b[0;32m     86\u001b[0m ):\n\u001b[0;32m     87\u001b[0m \u001b[38;5;250m    \u001b[39m\u001b[38;5;124;03m\"\"\"Publish a display-data message\u001b[39;00m\n\u001b[0;32m     88\u001b[0m \n\u001b[0;32m     89\u001b[0m \u001b[38;5;124;03m    Parameters\u001b[39;00m\n\u001b[1;32m   (...)\u001b[0m\n\u001b[0;32m    100\u001b[0m \u001b[38;5;124;03m        If True, send an update_display_data message instead of display_data.\u001b[39;00m\n\u001b[0;32m    101\u001b[0m \u001b[38;5;124;03m    \"\"\"\u001b[39;00m\n\u001b[1;32m--> 102\u001b[0m     \u001b[38;5;28;43mself\u001b[39;49m\u001b[38;5;241;43m.\u001b[39;49m\u001b[43m_flush_streams\u001b[49m\u001b[43m(\u001b[49m\u001b[43m)\u001b[49m\n\u001b[0;32m    103\u001b[0m     \u001b[38;5;28;01mif\u001b[39;00m metadata \u001b[38;5;129;01mis\u001b[39;00m \u001b[38;5;28;01mNone\u001b[39;00m:\n\u001b[0;32m    104\u001b[0m         metadata \u001b[38;5;241m=\u001b[39m {}\n",
      "File \u001b[1;32m~\\anaconda3\\envs\\utea_reportes\\lib\\site-packages\\ipykernel\\zmqshell.py:65\u001b[0m, in \u001b[0;36mZMQDisplayPublisher._flush_streams\u001b[1;34m(self)\u001b[0m\n\u001b[0;32m     63\u001b[0m \u001b[38;5;28;01mdef\u001b[39;00m \u001b[38;5;21m_flush_streams\u001b[39m(\u001b[38;5;28mself\u001b[39m):\n\u001b[0;32m     64\u001b[0m \u001b[38;5;250m    \u001b[39m\u001b[38;5;124;03m\"\"\"flush IO Streams prior to display\"\"\"\u001b[39;00m\n\u001b[1;32m---> 65\u001b[0m     \u001b[43msys\u001b[49m\u001b[38;5;241;43m.\u001b[39;49m\u001b[43mstdout\u001b[49m\u001b[38;5;241;43m.\u001b[39;49m\u001b[43mflush\u001b[49m\u001b[43m(\u001b[49m\u001b[43m)\u001b[49m\n\u001b[0;32m     66\u001b[0m     sys\u001b[38;5;241m.\u001b[39mstderr\u001b[38;5;241m.\u001b[39mflush()\n",
      "File \u001b[1;32m~\\anaconda3\\envs\\utea_reportes\\lib\\site-packages\\ipykernel\\iostream.py:564\u001b[0m, in \u001b[0;36mOutStream.flush\u001b[1;34m(self)\u001b[0m\n\u001b[0;32m    562\u001b[0m     \u001b[38;5;28mself\u001b[39m\u001b[38;5;241m.\u001b[39mpub_thread\u001b[38;5;241m.\u001b[39mschedule(evt\u001b[38;5;241m.\u001b[39mset)\n\u001b[0;32m    563\u001b[0m     \u001b[38;5;66;03m# and give a timeout to avoid\u001b[39;00m\n\u001b[1;32m--> 564\u001b[0m     \u001b[38;5;28;01mif\u001b[39;00m \u001b[38;5;129;01mnot\u001b[39;00m \u001b[43mevt\u001b[49m\u001b[38;5;241;43m.\u001b[39;49m\u001b[43mwait\u001b[49m\u001b[43m(\u001b[49m\u001b[38;5;28;43mself\u001b[39;49m\u001b[38;5;241;43m.\u001b[39;49m\u001b[43mflush_timeout\u001b[49m\u001b[43m)\u001b[49m:\n\u001b[0;32m    565\u001b[0m         \u001b[38;5;66;03m# write directly to __stderr__ instead of warning because\u001b[39;00m\n\u001b[0;32m    566\u001b[0m         \u001b[38;5;66;03m# if this is happening sys.stderr may be the problem.\u001b[39;00m\n\u001b[0;32m    567\u001b[0m         \u001b[38;5;28mprint\u001b[39m(\u001b[38;5;124m\"\u001b[39m\u001b[38;5;124mIOStream.flush timed out\u001b[39m\u001b[38;5;124m\"\u001b[39m, file\u001b[38;5;241m=\u001b[39msys\u001b[38;5;241m.\u001b[39m__stderr__)\n\u001b[0;32m    568\u001b[0m \u001b[38;5;28;01melse\u001b[39;00m:\n",
      "File \u001b[1;32m~\\anaconda3\\envs\\utea_reportes\\lib\\threading.py:607\u001b[0m, in \u001b[0;36mEvent.wait\u001b[1;34m(self, timeout)\u001b[0m\n\u001b[0;32m    605\u001b[0m signaled \u001b[38;5;241m=\u001b[39m \u001b[38;5;28mself\u001b[39m\u001b[38;5;241m.\u001b[39m_flag\n\u001b[0;32m    606\u001b[0m \u001b[38;5;28;01mif\u001b[39;00m \u001b[38;5;129;01mnot\u001b[39;00m signaled:\n\u001b[1;32m--> 607\u001b[0m     signaled \u001b[38;5;241m=\u001b[39m \u001b[38;5;28;43mself\u001b[39;49m\u001b[38;5;241;43m.\u001b[39;49m\u001b[43m_cond\u001b[49m\u001b[38;5;241;43m.\u001b[39;49m\u001b[43mwait\u001b[49m\u001b[43m(\u001b[49m\u001b[43mtimeout\u001b[49m\u001b[43m)\u001b[49m\n\u001b[0;32m    608\u001b[0m \u001b[38;5;28;01mreturn\u001b[39;00m signaled\n",
      "File \u001b[1;32m~\\anaconda3\\envs\\utea_reportes\\lib\\threading.py:324\u001b[0m, in \u001b[0;36mCondition.wait\u001b[1;34m(self, timeout)\u001b[0m\n\u001b[0;32m    322\u001b[0m \u001b[38;5;28;01melse\u001b[39;00m:\n\u001b[0;32m    323\u001b[0m     \u001b[38;5;28;01mif\u001b[39;00m timeout \u001b[38;5;241m>\u001b[39m \u001b[38;5;241m0\u001b[39m:\n\u001b[1;32m--> 324\u001b[0m         gotit \u001b[38;5;241m=\u001b[39m \u001b[43mwaiter\u001b[49m\u001b[38;5;241;43m.\u001b[39;49m\u001b[43macquire\u001b[49m\u001b[43m(\u001b[49m\u001b[38;5;28;43;01mTrue\u001b[39;49;00m\u001b[43m,\u001b[49m\u001b[43m \u001b[49m\u001b[43mtimeout\u001b[49m\u001b[43m)\u001b[49m\n\u001b[0;32m    325\u001b[0m     \u001b[38;5;28;01melse\u001b[39;00m:\n\u001b[0;32m    326\u001b[0m         gotit \u001b[38;5;241m=\u001b[39m waiter\u001b[38;5;241m.\u001b[39macquire(\u001b[38;5;28;01mFalse\u001b[39;00m)\n",
      "\u001b[1;31mKeyboardInterrupt\u001b[0m: "
     ]
    }
   ],
   "source": [
    "while True:\n",
    "    reg_nuevos = buscar_nuevos()\n",
    "    if len(reg_nuevos) == 0:\n",
    "        print('No se encontraron registros nuevos')\n",
    "        continue\n",
    "    for i in reg_nuevos:\n",
    "        insp = obtener_inspeccion(i)\n",
    "        ejecutar_scripts_sql()\n",
    "        lotes = obtener_lotes(i)\n",
    "        if len(lotes) == 0:\n",
    "            print(f'Inspeccion {i} no tiene lotes asignados')\n",
    "            continue\n",
    "        # de lotes eliminar todos los duplicados, y solo se queda con el codigo y nombre de propiedad, esto sera el objeto de propiedades que son parte de la inspeccion\n",
    "        props = eliminar_duplicados_y_conservar_campos(lotes, 'unidad_01', ['unidad_01', 'unidad_02'])\n",
    "        propiedades = propiedades_lotes(props)\n",
    "        fotos = obtener_fotos(insp.amigo_id)\n",
    "        \n",
    "        if len(fotos) == 0:\n",
    "            print(f'Inspeccion {i} no tiene fotos')\n",
    "        lista_planos = generar_planos(insp, propiedades)\n",
    "        print(insp)\n",
    "        # print(propiedades)\n",
    "        print(fotos)\n",
    "        generar_reporte(insp, propiedades, fotos, lista_planos)\n",
    "        cambiar_estado_informe(i)\n",
    "        print(f'Informe generado de {insp.canhero}')"
   ]
  },
  {
   "cell_type": "code",
   "execution_count": null,
   "id": "5afbeb63-ca86-44cb-b422-2ed1a65351d7",
   "metadata": {},
   "outputs": [],
   "source": []
  },
  {
   "cell_type": "code",
   "execution_count": null,
   "id": "1686cb93-0a2d-4a23-8b0d-1cac5d049582",
   "metadata": {},
   "outputs": [],
   "source": []
  },
  {
   "cell_type": "code",
   "execution_count": null,
   "id": "8a114a9a-a890-465a-8186-fc7c55a65a91",
   "metadata": {},
   "outputs": [],
   "source": []
  },
  {
   "cell_type": "code",
   "execution_count": null,
   "id": "fee5edd8-3588-48be-818c-55020d3eafa5",
   "metadata": {},
   "outputs": [],
   "source": []
  },
  {
   "cell_type": "code",
   "execution_count": null,
   "id": "ed78fec9-90a7-4a20-a1ff-167b6f81a05c",
   "metadata": {},
   "outputs": [],
   "source": []
  },
  {
   "cell_type": "code",
   "execution_count": null,
   "id": "72f59c09-33d4-4da9-a83d-15c54b52264a",
   "metadata": {},
   "outputs": [],
   "source": []
  },
  {
   "cell_type": "code",
   "execution_count": null,
   "id": "2ce4c3d1-2897-47f2-bf42-766ba1c3386a",
   "metadata": {},
   "outputs": [],
   "source": []
  },
  {
   "cell_type": "code",
   "execution_count": null,
   "id": "fe13e4b5-b7d9-4137-a4c0-146dd21d7d74",
   "metadata": {},
   "outputs": [],
   "source": []
  },
  {
   "cell_type": "code",
   "execution_count": null,
   "id": "a04fceb2-bdb8-4ac3-a762-7d9ef6a2b420",
   "metadata": {},
   "outputs": [],
   "source": []
  },
  {
   "cell_type": "code",
   "execution_count": null,
   "id": "6e93d4c2-c782-46f1-ab7e-dfaeca98c3ff",
   "metadata": {},
   "outputs": [],
   "source": []
  },
  {
   "cell_type": "code",
   "execution_count": null,
   "id": "184c29df-b53c-47c5-81d8-3605ba2a39d1",
   "metadata": {},
   "outputs": [],
   "source": []
  },
  {
   "cell_type": "code",
   "execution_count": null,
   "id": "de7fad36-3f58-4331-9b73-942e668a2ba9",
   "metadata": {},
   "outputs": [],
   "source": []
  },
  {
   "cell_type": "code",
   "execution_count": null,
   "id": "145c84d0-c458-483a-ab72-f942cf8e2e82",
   "metadata": {},
   "outputs": [],
   "source": []
  },
  {
   "cell_type": "code",
   "execution_count": null,
   "id": "95bce4ef-6cd9-4fce-8da2-a186661ca538",
   "metadata": {},
   "outputs": [],
   "source": []
  },
  {
   "cell_type": "code",
   "execution_count": null,
   "id": "a80f97b8-7797-4c97-b75d-4b438d6e38c4",
   "metadata": {},
   "outputs": [],
   "source": []
  },
  {
   "cell_type": "code",
   "execution_count": null,
   "id": "1997bc6e-7a79-4662-9366-e53c4356cc4d",
   "metadata": {},
   "outputs": [],
   "source": []
  },
  {
   "cell_type": "code",
   "execution_count": null,
   "id": "685ed40c-e9b0-4963-b5bd-491808c0cfe7",
   "metadata": {},
   "outputs": [],
   "source": []
  }
 ],
 "metadata": {
  "kernelspec": {
   "display_name": "Python 3 (ipykernel)",
   "language": "python",
   "name": "python3"
  },
  "language_info": {
   "codemirror_mode": {
    "name": "ipython",
    "version": 3
   },
   "file_extension": ".py",
   "mimetype": "text/x-python",
   "name": "python",
   "nbconvert_exporter": "python",
   "pygments_lexer": "ipython3",
   "version": "3.10.13"
  }
 },
 "nbformat": 4,
 "nbformat_minor": 5
}
