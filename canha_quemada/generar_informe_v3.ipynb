{
 "cells": [
  {
   "cell_type": "code",
   "execution_count": 1,
   "id": "bde1f922-902c-4bac-9214-c2fd9f32a727",
   "metadata": {},
   "outputs": [
    {
     "ename": "NameError",
     "evalue": "name 'fe' is not defined",
     "output_type": "error",
     "traceback": [
      "\u001b[1;31m---------------------------------------------------------------------------\u001b[0m",
      "\u001b[1;31mNameError\u001b[0m                                 Traceback (most recent call last)",
      "Cell \u001b[1;32mIn[1], line 1\u001b[0m\n\u001b[1;32m----> 1\u001b[0m \u001b[43mfe\u001b[49m\n",
      "\u001b[1;31mNameError\u001b[0m: name 'fe' is not defined"
     ]
    }
   ],
   "source": [
    "fe"
   ]
  },
  {
   "cell_type": "code",
   "execution_count": 26,
   "id": "b8c951d1-11d5-4273-8820-1aa83140eaaf",
   "metadata": {
    "tags": []
   },
   "outputs": [],
   "source": [
    "import sys\n",
    "sys.path.append('../_amigocloud')\n",
    "\n",
    "from werkzeug.wrappers import Request, Response\n",
    "from jinja2 import Template\n",
    "from datetime import datetime, timedelta\n",
    "import collections\n",
    "from datetime import datetime\n",
    "\n",
    "from shapely import wkb\n",
    "import geopandas as gpd\n",
    "import pandas as pd\n",
    "import contextily as ctx\n",
    "import matplotlib.pyplot as plt\n",
    "\n",
    "from docxtpl import DocxTemplate\n",
    "import docxtpl\n",
    "from docx.shared import Mm\n",
    "import requests\n",
    "\n",
    "from amigocloud import AmigoCloud\n",
    "\n",
    "import gspread\n",
    "from oauth2client.service_account import ServiceAccountCredentials"
   ]
  },
  {
   "cell_type": "code",
   "execution_count": 27,
   "id": "282d6c78-9570-410e-ba0e-6569fb3639ff",
   "metadata": {
    "tags": []
   },
   "outputs": [
    {
     "name": "stdout",
     "output_type": "stream",
     "text": [
      "G:\\OneDrive - Ingenio Azucarero Guabira S.A\\_DATOS_PYTHON\n"
     ]
    },
    {
     "data": {
      "text/plain": [
       "<amigocloud.AmigoCloud at 0x16287fb4880>"
      ]
     },
     "execution_count": 27,
     "metadata": {},
     "output_type": "execute_result"
    }
   ],
   "source": [
    "ruta = open('../unidad_local.txt')\n",
    "ruta = ruta.readlines()[0]\n",
    "print(ruta)\n",
    "# leer token\n",
    "acceso = open(ruta + '/_keys/api_amigocloud.key','r')\n",
    "api_token = acceso.readlines()[0]\n",
    "acceso.close()\n",
    "amigocloud = AmigoCloud(token=api_token)\n",
    "amigocloud"
   ]
  },
  {
   "cell_type": "markdown",
   "id": "2ea1e17d-0eed-4eac-8bb1-39e17ff22f57",
   "metadata": {},
   "source": [
    "## conversion de poligono"
   ]
  },
  {
   "cell_type": "code",
   "execution_count": 28,
   "id": "196a3356-5e8b-4f47-b065-7fdac9f55ac1",
   "metadata": {},
   "outputs": [],
   "source": [
    "def convertir_wkb(wkb_data):\n",
    "    return wkb.loads(wkb_data, hex=True)"
   ]
  },
  {
   "cell_type": "markdown",
   "id": "60534249-a992-487c-9aa3-946d568af8f1",
   "metadata": {},
   "source": [
    "## conrvertir formato fecha"
   ]
  },
  {
   "cell_type": "code",
   "execution_count": 29,
   "id": "ae74fb28-81fb-4c42-be0a-07095d2b066e",
   "metadata": {},
   "outputs": [],
   "source": [
    "# convierte de formato YYYY-mm-dd H:M:S+z a d/m/YYYY\n",
    "def convertir_formato_fecha(fecha):\n",
    "    new_formato = datetime.strptime(fecha, \"%Y-%m-%d %H:%M:%S%z\").strftime(\"%d/%m/%Y\")\n",
    "    return new_formato"
   ]
  },
  {
   "cell_type": "markdown",
   "id": "340cbd2e-3e5d-4346-bf3e-ae89605e5d16",
   "metadata": {},
   "source": [
    "## ejecutar query"
   ]
  },
  {
   "cell_type": "code",
   "execution_count": 30,
   "id": "b66ea487-c87f-4ad7-b536-56ab1e1904c4",
   "metadata": {},
   "outputs": [],
   "source": [
    "# ejecuta cualquier query sql en el proyecto que se le indique\n",
    "# requiere el id de proyecto, query a ejecutar y tipo solicitud (get o post)\n",
    "def ejecutar_query_sql(id_project, query, tipo_sql):\n",
    "    # define la url del proyecto para ejecutar el querry\n",
    "    url_proyecto_sql = f'https://app.amigocloud.com/api/v1/projects/{id_project}/sql'\n",
    "    # crea la estructura de query para amigocloud\n",
    "    query_sql = {'query': query}\n",
    "    # variable para almacenar resultado\n",
    "    resultado_get = ''\n",
    "    # eleige que tipo de solicitud se realizara (get o post)\n",
    "    if tipo_sql == 'get': \n",
    "        resultado_get = amigocloud.get(url_proyecto_sql, query_sql)\n",
    "    elif tipo_sql == 'post':\n",
    "        resultado_get = amigocloud.post(url_proyecto_sql, query_sql)\n",
    "    else:\n",
    "        resultado_get = 'Se a seleccionado un tipo de solicitud erroneo.'\n",
    "    return resultado_get"
   ]
  },
  {
   "cell_type": "markdown",
   "id": "337d6c4b-86d0-447f-904d-589bcd61c868",
   "metadata": {},
   "source": [
    "## ejecuta query segun id_query (ejecucion de queryes de un proyecto)"
   ]
  },
  {
   "cell_type": "code",
   "execution_count": 31,
   "id": "7591596a-ca97-4ad6-8696-e00e1e3eb8ad",
   "metadata": {},
   "outputs": [],
   "source": [
    "# ejecuta un query que esta almacenado en un proyecto de amigocloud (generalmente un update),\n",
    "# requiere id de proyecto e id de query\n",
    "# retorna cuantas filas fueron afectadas\n",
    "def ejecutar_query_por_id(id_project, id_query, tipo_sql):\n",
    "    # obtiene el query basado en el id_project y el id_query\n",
    "    get_query = amigocloud.get(f'https://app.amigocloud.com/api/v1/projects/{id_project}/queries/{id_query}')\n",
    "    # se extrae solo el texto del query\n",
    "    query = get_query['query']\n",
    "    # ejecuta el query_sql con metodo post y guarda la respuesta\n",
    "    respuesta_post = ejecutar_query_sql(id_project, query, tipo_sql)\n",
    "    # retorna el numero de filas afectadas por el query\n",
    "    return respuesta_post"
   ]
  },
  {
   "cell_type": "markdown",
   "id": "7984ceb0-e400-4dd2-9251-094e3f99777c",
   "metadata": {},
   "source": [
    "## convertir dic en obj"
   ]
  },
  {
   "cell_type": "code",
   "execution_count": 32,
   "id": "e041faab-e0ee-4cb7-8942-a2c36f50e72a",
   "metadata": {},
   "outputs": [],
   "source": [
    "# convierte un dict a un obj\n",
    "# recibe el dict y el nombre con el que se creara el obj\n",
    "def convertir_dict_obj(diccionario, name):\n",
    "    return collections.namedtuple(name, diccionario.keys())(*diccionario.values())"
   ]
  },
  {
   "cell_type": "markdown",
   "id": "bb9b1f2d-3955-49e1-92aa-738f9110ca27",
   "metadata": {},
   "source": [
    "## crear CITE"
   ]
  },
  {
   "cell_type": "code",
   "execution_count": 33,
   "id": "df6f1180-df99-42a0-89a2-95895b9ba34d",
   "metadata": {},
   "outputs": [],
   "source": [
    "def crear_cite(cod_canhero, nom_canhero, tipo_reporte):\n",
    "    ruta_api_google = ruta + '\\_keys\\client_secret_google_sheets.json'\n",
    "    # Configura las credenciales\n",
    "    scope = [\"https://spreadsheets.google.com/feeds\",\n",
    "             'https://www.googleapis.com/auth/spreadsheets', \n",
    "             \"https://www.googleapis.com/auth/drive.file\", \n",
    "             \"https://www.googleapis.com/auth/drive\"]\n",
    "    creds = ServiceAccountCredentials.from_json_keyfile_name(ruta_api_google, scope)\n",
    "    client = gspread.authorize(creds)\n",
    "    # Abre la hoja de cálculo con ID y la hoja específica\n",
    "    spreadsheet = client.open_by_key(\"1JROdo_Mjx6267cDfFvTFvhk1aE2_XTc28PfTgRxfwNQ\")\n",
    "    sheet = spreadsheet.sheet1\n",
    "    # Lee los datos\n",
    "    data_sheet = sheet.get_all_records()\n",
    "    df = pd.DataFrame(data_sheet)\n",
    "    # Encuentra el número más grande y lo incrementamos y agrega un nuevo registro\n",
    "    max_value = df['No'].max()\n",
    "    no = int(max_value + 1)\n",
    "    # llenamos los demas campos\n",
    "    fecha = datetime.now().strftime(\"%m/%d/%Y\")\n",
    "    cod_ca = int(cod_canhero)\n",
    "    nom_ca = nom_canhero\n",
    "    tipo = tipo_reporte\n",
    "    #agregar el registro\n",
    "    sheet.append_row([no, fecha, cod_ca, nom_ca, tipo])\n",
    "    return no"
   ]
  },
  {
   "cell_type": "code",
   "execution_count": null,
   "id": "750f2ce0-0595-4c36-8d5f-b3f01d0622e3",
   "metadata": {},
   "outputs": [],
   "source": []
  },
  {
   "cell_type": "code",
   "execution_count": null,
   "id": "892d72fa-5d1a-4dcf-88ce-3d93183f137c",
   "metadata": {},
   "outputs": [],
   "source": []
  },
  {
   "cell_type": "code",
   "execution_count": null,
   "id": "32d4c02b-8f1d-45e7-9eb8-61e5bef198ad",
   "metadata": {},
   "outputs": [],
   "source": []
  },
  {
   "cell_type": "code",
   "execution_count": null,
   "id": "12de88c1-a903-4211-8ce4-d4ac22104897",
   "metadata": {},
   "outputs": [],
   "source": []
  },
  {
   "cell_type": "code",
   "execution_count": 34,
   "id": "fc630aad-8ca3-4c91-b673-3829403fb79e",
   "metadata": {},
   "outputs": [],
   "source": [
    "# variables globales\n",
    "proyecto_id = 31874\n",
    "\n",
    "buscar_reg_nuevos = 6476\n",
    "cargar_lotes_quema = 6474\n",
    "calc_area_lotes = 5078\n",
    "calc_total_insp = 6475"
   ]
  },
  {
   "cell_type": "code",
   "execution_count": null,
   "id": "f27f57ca-7a15-44eb-bff4-196f4d048868",
   "metadata": {},
   "outputs": [],
   "source": []
  },
  {
   "cell_type": "code",
   "execution_count": 35,
   "id": "eafe0529-f8dc-4c8f-932b-56b82cb94df9",
   "metadata": {},
   "outputs": [],
   "source": [
    "# revisa y extiste registros nuevos (campo reporte_generado en false)\n",
    "rec_nuevos = ejecutar_query_por_id(proyecto_id, buscar_reg_nuevos, 'get')\n",
    "    # se queda con la parte de darta\n",
    "rec_nuevos = rec_nuevos['data']\n",
    "    # extrae el id de los nuevos regitros\n",
    "id_nuevos = [i['id'] for i in rec_nuevos]"
   ]
  },
  {
   "cell_type": "code",
   "execution_count": null,
   "id": "c7e4ef1d-0e3b-4929-a289-d2d1b5872903",
   "metadata": {},
   "outputs": [],
   "source": []
  },
  {
   "cell_type": "code",
   "execution_count": null,
   "id": "8a4acb66-37cf-4a62-b12e-4a8ab4bff95d",
   "metadata": {},
   "outputs": [],
   "source": []
  },
  {
   "cell_type": "code",
   "execution_count": null,
   "id": "99d8273b-591a-4ea2-ac5f-fb732ea379e0",
   "metadata": {},
   "outputs": [],
   "source": []
  },
  {
   "cell_type": "code",
   "execution_count": 36,
   "id": "23850658-2d7d-4fad-a555-cfd32f59bd64",
   "metadata": {},
   "outputs": [],
   "source": [
    "def buscar_nuevos():\n",
    "    # revisa y extiste registros nuevos (campo reporte_generado en false)\n",
    "    rec_nuevos = ejecutar_query_por_id(proyecto_id, buscar_reg_nuevos, 'get')\n",
    "    # se queda con la parte de darta\n",
    "    rec_nuevos = rec_nuevos['data']\n",
    "    # extrae el id de los nuevos regitros\n",
    "    id_nuevos = [i['id'] for i in rec_nuevos]\n",
    "    return id_nuevos"
   ]
  },
  {
   "cell_type": "code",
   "execution_count": 37,
   "id": "f667d712-1271-4a49-93ce-e97c198e499e",
   "metadata": {},
   "outputs": [],
   "source": [
    "def ejecutar_scripts_sql():\n",
    "    # ejecuatar scripts generales para completar campos y recalculos\n",
    "    exe_cargar_lotes_quema = ejecutar_query_por_id(proyecto_id, cargar_lotes_quema, 'post')\n",
    "    exe_calc_area_lotes = ejecutar_query_por_id(proyecto_id, calc_area_lotes, 'post')\n",
    "    exe_calc_total_insp = ejecutar_query_por_id(proyecto_id, calc_total_insp, 'post')"
   ]
  },
  {
   "cell_type": "code",
   "execution_count": 38,
   "id": "465eef67-2ef5-402c-86fc-61b88a85152d",
   "metadata": {},
   "outputs": [],
   "source": [
    "def obtener_inspeccion(id_insp):\n",
    "    # seleccionar un registro\n",
    "    # crear consulta\n",
    "    query = f'select * from dataset_351059 where id = {id_insp}'\n",
    "    # ejecutar consulta\n",
    "    inspeccion = ejecutar_query_sql(proyecto_id, query, 'get')\n",
    "    # extrae la seccion de data\n",
    "    inspeccion = inspeccion['data']\n",
    "    # extrae el primer elemento, solo hay un elemento\n",
    "    inspeccion = inspeccion[0]\n",
    "    # convertion de formato de fechas\n",
    "    inspeccion['date'] = convertir_formato_fecha(inspeccion['fecha_registro'])\n",
    "    inspeccion['fecha_inspeccion'] = convertir_formato_fecha(inspeccion['fecha_inspeccion'])\n",
    "    inspeccion['fecha_quema'] = convertir_formato_fecha(inspeccion['fecha_quema'])\n",
    "    # extraccion de codigo y nombre del cañero\n",
    "    cod_ca = inspeccion['canhero'].split(' / ')[0]\n",
    "    nom_ca = inspeccion['canhero'].split(' / ')[1]\n",
    "    # crear y asignar cite\n",
    "    cite = crear_cite(cod_ca, nom_ca, 'QUEMA')\n",
    "    inspeccion['cite'] = cite\n",
    "    # convertir el dict en objeto\n",
    "    insp = convertir_dict_obj(inspeccion, 'insp')\n",
    "    return insp"
   ]
  },
  {
   "cell_type": "code",
   "execution_count": 39,
   "id": "f059956f-8f02-47c8-bd35-5a2a1a218110",
   "metadata": {},
   "outputs": [],
   "source": [
    "def obtener_lotes(id_insp):\n",
    "    # seleccionar todos los lotes marcados con la inspeccion\n",
    "    # crear consulta\n",
    "    query = f'select * from dataset_351061 where id_inspeccion = {id_insp}'\n",
    "    # ejecutar consulta\n",
    "    lotes = ejecutar_query_sql(proyecto_id, query, 'get')\n",
    "    # extraer solo la seccion de data\n",
    "    lotes = lotes['data']\n",
    "    return lotes"
   ]
  },
  {
   "cell_type": "code",
   "execution_count": 40,
   "id": "b25f384f-2cd3-44c6-a8fd-35da0f9c0bdf",
   "metadata": {},
   "outputs": [],
   "source": [
    "# elimina todos los dic duplicados basandose en \"unidad_01\", y concerva solo en cop_prop y nom_prop\n",
    "# con esto se obtiene un dict de propiedades de la inspeccion\n",
    "def eliminar_duplicados_y_conservar_campos(lista, campo_clave, campos_a_conservar):\n",
    "    vistos = set()\n",
    "    nueva_lista = []\n",
    "    for diccionario in lista:\n",
    "        valor = diccionario[campo_clave]\n",
    "        if valor not in vistos:\n",
    "            vistos.add(valor)\n",
    "            nuevo_diccionario = {campo: diccionario[campo] for campo in campos_a_conservar}\n",
    "            nueva_lista.append(nuevo_diccionario)\n",
    "    return nueva_lista"
   ]
  },
  {
   "cell_type": "code",
   "execution_count": 41,
   "id": "916e0c0d-6e7f-4ba3-9df3-8dc55c82bd7d",
   "metadata": {},
   "outputs": [],
   "source": [
    "def propiedades_lotes(props):\n",
    "    # recorrer las propiedades, y agregar los lotes correspondientes\n",
    "    # se crea una lista de objetos propiedad con los respectivos lotes agregados a cada propiedad\n",
    "    propiedades = []\n",
    "    for prop in props:\n",
    "        prop['lote'] = []\n",
    "        lotes_select = [lote for lote in lotes if lote['unidad_01'] == prop['unidad_01']]\n",
    "        for lote_select in lotes_select:\n",
    "            lote = convertir_dict_obj(lote_select, 'lote')\n",
    "            prop['lote'].append(lote)\n",
    "        propiedades.append(convertir_dict_obj(prop, 'propiedad'))\n",
    "    return propiedades"
   ]
  },
  {
   "cell_type": "code",
   "execution_count": 42,
   "id": "d668acb5-9552-4589-85c4-39984e653364",
   "metadata": {},
   "outputs": [],
   "source": [
    "def obtener_fotos(insp_amigo_id):\n",
    "    # buscar todas las fotos que son parte de la inspeccion\n",
    "    # crear consulta\n",
    "    query = f'select s3_filename from gallery_61142 where source_amigo_id = \\'{insp_amigo_id}\\''\n",
    "    # ejecutar consulta\n",
    "    fotos = ejecutar_query_sql(proyecto_id, query, 'get')\n",
    "    # extrae la seccion de data\n",
    "    fotos = fotos['data']\n",
    "    return fotos"
   ]
  },
  {
   "cell_type": "code",
   "execution_count": 43,
   "id": "5087ca74-f0bc-4a6d-8604-c0ef0ad0ab1c",
   "metadata": {},
   "outputs": [],
   "source": [
    "def generar_planos(insp, propiedades):\n",
    "    # generar planos\n",
    "    lista_planos = []\n",
    "    path = ''\n",
    "    for propiedad in propiedades:\n",
    "        lotes_lista = []\n",
    "        for lote in propiedad.lote:\n",
    "            lotes_lista.append(lote._asdict())\n",
    "        df = pd.DataFrame(lotes_lista)\n",
    "        df['geometria'] = df['geometria'].apply(convertir_wkb)\n",
    "\n",
    "        #Convertir a GeoDataFrame\n",
    "        data = gpd.GeoDataFrame(df, geometry='geometria')\n",
    "\n",
    "        data['coords'] = data['geometria'].apply(lambda x: x.representative_point().coords[:])\n",
    "        data['coords'] = [coords[0] for coords in data['coords']]\n",
    "\n",
    "        data.crs = \"EPSG:4326\"\n",
    "        data = data.to_crs(epsg=3857)\n",
    "        \n",
    "        fig = plt.figure(i, figsize=(20,20))\n",
    "        ax = None\n",
    "        ax = fig.add_subplot()\n",
    "\n",
    "        data.apply(lambda x: ax.annotate(text=x.unidad_05 + ' \\n' + str(x.area) + ' ha', xy=x.geometria.centroid.coords[0], ha='center', va='center', color='black', fontsize=12, weight=1000, bbox=dict(facecolor=(1,1,1,0.3), edgecolor='none', pad=0)), axis=1);\n",
    "    \n",
    "        minx, miny, maxx, maxy = data.total_bounds\n",
    "        ax.set_xlim(minx - 500, maxx + 500)\n",
    "        ax.set_ylim(miny - 400, maxy + 400)\n",
    "\n",
    "        data.plot(ax=ax, edgecolor='r', facecolor=(0,0,0,0), linewidth=2, figsize=(20,20))\n",
    "    \n",
    "        ctx.add_basemap(ax, source=ctx.providers.Esri.WorldImagery)\n",
    "        ax.set_axis_off()\n",
    "        ax.set_title(str(propiedad.unidad_01) + ' / ' + str(propiedad.unidad_02), fontsize=20)\n",
    "        path = ruta + '/planos/' + str(insp.amigo_id) + '_' + str(propiedad.unidad_01) + '.jpeg'\n",
    "        lista_planos.append(path)\n",
    "        fig.savefig(path, dpi = 300, bbox_inches='tight')\n",
    "        plt.clf()\n",
    "    return lista_planos"
   ]
  },
  {
   "cell_type": "code",
   "execution_count": 44,
   "id": "24a606a0-3b73-4e22-a347-c3e72bf6c607",
   "metadata": {},
   "outputs": [],
   "source": [
    "def generar_reporte(insp, propiedades, fotos, lista_planos):\n",
    "    # generar reporte\n",
    "    # asignacion de template\n",
    "    doc = DocxTemplate(ruta + \"/templates/tpl_infome_quema.docx\")\n",
    "\n",
    "    #generar lista de InlineImage de planos \n",
    "    lista_InlineImage = []\n",
    "    for plano in lista_planos:\n",
    "        lista_InlineImage.append(docxtpl.InlineImage(doc, image_descriptor=plano, width=Mm(150)))\n",
    "\n",
    "    #descargar fotos y generar lista InlineImage\n",
    "    lista_fotos_inline = []\n",
    "    for foto in fotos:\n",
    "        response = requests.get(\"https://www-amigocloud.s3.amazonaws.com/gallery/\" + foto['s3_filename'])\n",
    "        file = open(ruta + '/fotos/' + foto['s3_filename'], \"wb\")\n",
    "        file.write(response.content)\n",
    "        file.close()\n",
    "        lista_fotos_inline.append({'foto': docxtpl.InlineImage(doc, image_descriptor= ruta + '/fotos/' + foto['s3_filename'], width=Mm(120))})\n",
    "\n",
    "    firma_respon = None\n",
    "    if insp.responsable_tec == 'Rogelio Acuña Rodríguez':\n",
    "        firma_respon = docxtpl.InlineImage(doc, image_descriptor=ruta + '/templates/firma_rogelio.png', width=Mm(60))\n",
    "    else:\n",
    "        firma_respon = docxtpl.InlineImage(doc, image_descriptor=ruta + '/templates/firma_jaldin.png', width=Mm(60))\n",
    "\n",
    "    context = {'insp':insp, 'propiedades':propiedades, 'planos':lista_InlineImage, 'fotos':lista_fotos_inline, 'firma':firma_respon}\n",
    "\n",
    "    doc.render(context)\n",
    "\n",
    "    # formato de nombre de archivo: \"123_CQ_01-01-2022_NOMBRE\"\n",
    "    cod_nom = insp.canhero.split(' / ')\n",
    "    file_name = cod_nom[0] + '_IDCQ_' + insp.fecha_inspeccion.replace('/','-') + '_' + cod_nom[1] + '_' + str(insp.id)\n",
    "\n",
    "    doc.save(ruta + '/informes/_' + file_name + '.docx')"
   ]
  },
  {
   "cell_type": "code",
   "execution_count": 45,
   "id": "1f185d1f-87de-4beb-8464-366d0da2ac4e",
   "metadata": {},
   "outputs": [],
   "source": [
    "def cambiar_estado_informe(id_insp):\n",
    "    # actualizar estado de informe_generado a true\n",
    "    # crear consulta\n",
    "    query = f'update dataset_351059 set informe_generado = true where id = {id_insp}'\n",
    "    # ejecutar consulta\n",
    "    res = ejecutar_query_sql(proyecto_id, query, 'post')\n",
    "    return res"
   ]
  },
  {
   "cell_type": "code",
   "execution_count": null,
   "id": "1d0b3aff-fb1d-4f86-884a-869b9c2741a8",
   "metadata": {},
   "outputs": [],
   "source": []
  },
  {
   "cell_type": "code",
   "execution_count": 34,
   "id": "3a8c7812-0218-4648-9c2e-2b55a1d34b59",
   "metadata": {},
   "outputs": [],
   "source": [
    "reg_nuevos = buscar_nuevos()"
   ]
  },
  {
   "cell_type": "code",
   "execution_count": 35,
   "id": "b3891015-e381-453b-bae9-3d009e5f8da8",
   "metadata": {},
   "outputs": [
    {
     "data": {
      "text/plain": [
       "[218]"
      ]
     },
     "execution_count": 35,
     "metadata": {},
     "output_type": "execute_result"
    }
   ],
   "source": [
    "reg_nuevos"
   ]
  },
  {
   "cell_type": "code",
   "execution_count": 36,
   "id": "6aaa072d-e7d4-4889-b8e4-06f774680e7b",
   "metadata": {},
   "outputs": [],
   "source": [
    "ins = obtener_inspeccion(212)"
   ]
  },
  {
   "cell_type": "code",
   "execution_count": 37,
   "id": "a7016bcf-6e23-4c0b-8d68-c0263540dcc2",
   "metadata": {},
   "outputs": [
    {
     "data": {
      "text/plain": [
       "insp(id=212, informe_generado=True, fecha_registro='2025-06-27 19:32:12+00:00', fecha_quema='25/06/2025', fecha_inspeccion='27/06/2025', canhero='15928 / YUPANQUI CONDORI EDSON', superficie_total=4.24, rendimiento=70.0, produccion=296.8, cite=501, inicio_incendio='Fuera de la propiedad', causa='Quema de barbecho', responsable_de_quema='Quema de barbecho en propiedad vecina', observaciones=None, link_informe=None, tipo_cosecha='MECANIZADO', amigo_id='341c0eb30de045e4bf898e9f96686e9c', responsable_tec='Bismark Socompi Rodríguez', ubicacion='0104000020E610000001000000010100000029CDE671189A4FC0E474482014FC30C0', date='27/06/2025')"
      ]
     },
     "execution_count": 37,
     "metadata": {},
     "output_type": "execute_result"
    }
   ],
   "source": [
    "ins"
   ]
  },
  {
   "cell_type": "code",
   "execution_count": 25,
   "id": "4c903340-7288-4faa-a7c8-51d9d6c6f88f",
   "metadata": {},
   "outputs": [],
   "source": [
    "exe_cargar_lotes_quema = ejecutar_query_por_id(proyecto_id, cargar_lotes_quema, 'post')"
   ]
  },
  {
   "cell_type": "code",
   "execution_count": null,
   "id": "5f14a2d9-c7dc-4641-b239-4c4f1935f24d",
   "metadata": {},
   "outputs": [],
   "source": [
    "exe_cargar_lotes_quema"
   ]
  },
  {
   "cell_type": "code",
   "execution_count": null,
   "id": "d51ba294-be05-41a6-9633-f58906852b7d",
   "metadata": {},
   "outputs": [],
   "source": [
    "lotes = obtener_lotes(i)"
   ]
  },
  {
   "cell_type": "code",
   "execution_count": null,
   "id": "4eb70a1c-cdde-4144-96d8-bb7e963ec1ca",
   "metadata": {},
   "outputs": [],
   "source": [
    "props = eliminar_duplicados_y_conservar_campos(lotes, 'unidad_01', ['unidad_01', 'unidad_02'])\n",
    "props"
   ]
  },
  {
   "cell_type": "code",
   "execution_count": null,
   "id": "85ad3cde-32ee-4be2-8ada-461e57892027",
   "metadata": {},
   "outputs": [],
   "source": [
    "propiedades = propiedades_lotes(props)\n",
    "propiedades"
   ]
  },
  {
   "cell_type": "code",
   "execution_count": null,
   "id": "06f7685e-ebbc-407e-8eac-2b6c61ffdadc",
   "metadata": {},
   "outputs": [],
   "source": [
    "fotos = obtener_fotos(insp.amigo_id)\n",
    "fotos"
   ]
  },
  {
   "cell_type": "code",
   "execution_count": null,
   "id": "9d31b07e-4003-450c-812c-1a8d3f2c033e",
   "metadata": {},
   "outputs": [],
   "source": [
    "lista_planos = generar_planos(insp, propiedades)"
   ]
  },
  {
   "cell_type": "code",
   "execution_count": null,
   "id": "988fd7d2-3e4d-4f41-ba7e-b3e563695d30",
   "metadata": {},
   "outputs": [],
   "source": []
  },
  {
   "cell_type": "code",
   "execution_count": null,
   "id": "87b248af-bb9a-4573-86ea-90131117e201",
   "metadata": {},
   "outputs": [],
   "source": []
  },
  {
   "cell_type": "code",
   "execution_count": null,
   "id": "22a069da-80c1-453d-8e40-1e6f2257c27d",
   "metadata": {},
   "outputs": [],
   "source": []
  },
  {
   "cell_type": "code",
   "execution_count": null,
   "id": "07860086-e06f-427d-b6d1-d2ac4c2ab3db",
   "metadata": {},
   "outputs": [
    {
     "name": "stdout",
     "output_type": "stream",
     "text": [
      "insp(id=221, informe_generado=False, fecha_registro='2025-07-15 12:12:55+00:00', fecha_quema='14/07/2025', fecha_inspeccion='14/07/2025', canhero='15162 / VELASCO ANEZ MARCO ANTONIO', superficie_total=69.45, rendimiento=50.0, produccion=3472.5, cite=517, inicio_incendio='Fuera de la propiedad', causa='Quema de cordones', responsable_de_quema='Quema de cordones en propiedad vecina, la propiedad vecina no es cañera', observaciones='El fuego inicio en un cordon colindante, a 5 metros de la propiedad, al rededor del cordon se encontraba pasto desbrozado y seco que expandió el fuego.', link_informe=None, tipo_cosecha='SEMI-MECANIZADO', amigo_id='95a8b2cae9bb45cca66ceedf7e56f235', responsable_tec='Bismark Socompi Rodríguez', ubicacion='0104000020E610000017000000010100000016B7D100DE804FC009D0A56E1D5031C00101000000C4F7B479D2804FC0120F39C7CA4F31C00101000000FB00FFEFE3804FC037CB2C42B14F31C0010100000072FBE59315814FC0CB8FBFB4A84F31C00101000000DB1F39E345814FC08D39854B7D4F31C001010000001D3E9FB767814FC0AEB44247614F31C001010000000A29E4EF83814FC0D1EF671DFA4F31C00101000000260B04A678814FC04F3283424E4F31C00101000000BF164F988B814FC0DA0418963F4F31C00101000000B71D1A16A3814FC004BD81131B4F31C001010000005C09EE51C9814FC0115C40C3F64E31C0010100000013DB38BDE6814FC0885649BFD84E31C001010000004E26C9CE36824FC0D953BCDB064F31C001010000007D09CB8E43824FC00FF0A485CB4E31C00101000000571CCEFC6A824FC0D9DF23ACD74E31C00101000000A5E5F6819A814FC01870E01F005031C001010000005A0AED41AD814FC03B21E0B5F04F31C00101000000FDF103FCBF814FC009DB0539DE4F31C0010100000063258BA0D6814FC01810B5C8D14F31C0010100000067C526E8E5814FC0BC0276DABF4F31C001010000002CF9E989F8814FC0D1CDFE40B94F31C001010000005132EF2719824FC011330C699E4F31C001010000003D51C8844E824FC05E6D31E47D4F31C0', date='15/07/2025')\n",
      "[propiedad(unidad_01='141', unidad_02='7 CAMINOS--VELASCO', lote=[lote(fecha_registro='2025-07-15 12:32:32.498035+00:00', amigo_id='0fdae31dbcaa4b7aac9c070fae7fb8bd', id=106, geometria='0106000020E6100000010000000103000000010000001400000042E68044F0804FC0868E995FC34F31C028D4A557EE804FC0F25A3DE6C54F31C021D4A557EE804FC0F25A3DE6C54F31C0C61AE45CED804FC05D2E3F2CCC4F31C0C86C9D73EE804FC0912D68E4D14F31C05AE8F674F1804FC0F46BDBADE14F31C0998712F6F0804FC02DE55737EA4F31C03029BFFFF0804FC0E042406BEA4F31C0B46C8C94F2804FC0B6B436E7F24F31C05189DEDBF2804FC0F273E265F44F31C065BBB790FB804FC0C37FB31C235031C09390A53140814FC0D3B4D0A0F74F31C0A0D11C2819814FC0467AE6662C4F31C0AB7D0B53EB804FC0ADBA00BC604F31C07ED90D53EB804FC07A410DBC604F31C05FFF0E53EB804FC03B5A13BC604F31C0DFB98C32FB804FC0566C7A08B54F31C0E2B98C32FB804FC0566C7A08B54F31C044E68044F0804FC08A8E995FC34F31C042E68044F0804FC0868E995FC34F31C0', unidad_05='L12.7', unidad_01='141', unidad_02='7 CAMINOS--VELASCO', area=6.94, id_inspeccion=221), lote(fecha_registro='2025-07-15 12:32:32.498035+00:00', amigo_id='3c36956c7e0e45c4833ff4568a82479b', id=107, geometria='0106000020E6100000010000000103000000010000001E000000C61AE45CED804FC05D2E3F2CCC4F31C0EB87C13FED804FC0DAA43293CB4F31C03425989DED804FC08EBA58DAC64F31C021D4A557EE804FC0F25A3DE6C54F31C028D4A557EE804FC0F25A3DE6C54F31C0313E05C8EE804FC01C388816C34F31C042E68044F0804FC0868E995FC34F31C0FA8D27E2F4804FC09C723D51BD4F31C0DFB98C32FB804FC0566C7A08B54F31C05FFF0E53EB804FC03B5A13BC604F31C07ED90D53EB804FC07A410DBC604F31C0AB7D0B53EB804FC0ADBA00BC604F31C0425EC459DE804FC01307C7B16F4F31C092D223C2D1804FC0F9D9ED367E4F31C00A820AFAD2804FC0B40AC3EC9D4F31C0F09A3A43D9804FC0016D4EC9B74F31C0E64E5A5BE1804FC07286E88CE44F31C0585471BDE2804FC0526626A9F24F31C0F1264F3FE8804FC0AD25C715FB4F31C028F47089EB804FC01BE6C7BE195031C0B6BFE183EE804FC001D4B5422B5031C00BE5F550FB804FC085D98244235031C00DE80E01F4804FC07DB1FD27015031C05189DEDBF2804FC0F273E265F44F31C0B46C8C94F2804FC0B6B436E7F24F31C03029BFFFF0804FC0E042406BEA4F31C023862EC8EE804FC06FCD0F10E34F31C0BBA2DFD2EC804FC0C651178ADB4F31C0EF61D0D2EC804FC0477F94A0CF4F31C0C61AE45CED804FC05D2E3F2CCC4F31C0', unidad_05='L13', unidad_01='141', unidad_02='7 CAMINOS--VELASCO', area=2.26, id_inspeccion=221), lote(fecha_registro='2025-07-15 12:32:32.498035+00:00', amigo_id='e413885088ef456abe240095a05ec19c', id=108, geometria='0106000020E610000001000000010300000001000000050000008090AD17A7814FC04A692873A44E31C072AE2F2CD5814FC04D738753944F31C0FA58ABBDF2814FC0FFAE4D037F4F31C019D38271BE814FC0A1B6A31F974E31C08090AD17A7814FC04A692873A44E31C0', unidad_05='L12.1', unidad_01='141', unidad_02='7 CAMINOS--VELASCO', area=3.88, id_inspeccion=221), lote(fecha_registro='2025-07-15 12:32:32.498035+00:00', amigo_id='babe0b3c5483445c98d1fec6e812ef4c', id=109, geometria='0106000020E61000000100000001030000000100000006000000C8BA064D0A824FC0A4EAA9B1E74F31C05E3DABB6F6814FC03301E8BB814F31C01288EADCEA814FC05618CC99894F31C0373ACC14E6814FC05A5273078D4F31C0831F97CEF9814FC0A659D9B5F34F31C0C8BA064D0A824FC0A4EAA9B1E74F31C0', unidad_05='L8.2', unidad_01='141', unidad_02='7 CAMINOS--VELASCO', area=1.05, id_inspeccion=221), lote(fecha_registro='2025-07-15 12:32:32.498035+00:00', amigo_id='c24d3e8f3c47457ebb57e749efcf9e29', id=111, geometria='0106000020E610000001000000010300000001000000050000006865AB89D1814FC0B95B200C115031C0AF62D3BBBD814FC018E4E5F4A94F31C022307928AE814FC0CC369F1FB54F31C0C0B70EFEC1814FC0C580515F1C5031C06865AB89D1814FC0B95B200C115031C0', unidad_05='L8.5', unidad_01='141', unidad_02='7 CAMINOS--VELASCO', area=1.0, id_inspeccion=221), lote(fecha_registro='2025-07-15 12:32:32.498035+00:00', amigo_id='3accc541d41f4cd7baa831e112c4e97c', id=110, geometria='0106000020E61000000100000001030000000100000006000000AA4A74F8A9814FC0125253DF2D5031C0E9B07F0496814FC0E0404101C64F31C0B3CCE4A685814FC0608CAAB6D04F31C0486DF09D95814FC0B93B75D2235031C0C8E62CCF99814FC0679050A5395031C0AA4A74F8A9814FC0125253DF2D5031C0', unidad_05='L8.7', unidad_01='141', unidad_02='7 CAMINOS--VELASCO', area=1.05, id_inspeccion=221), lote(fecha_registro='2025-07-15 12:32:32.498035+00:00', amigo_id='988755a9f2da40eca74b35705da16f27', id=112, geometria='0106000020E61000000100000001030000000100000006000000FC5818BFBE814FC06743AEBC1E5031C03612E5E7AA814FC0EFCA8874B74F31C035CA72D29C814FC0981A6D8DC14F31C0FA4620509A814FC0B872B931C34F31C0E4FC5836AE814FC0E6AD40C82A5031C0FC5818BFBE814FC06743AEBC1E5031C0', unidad_05='L8.6', unidad_01='141', unidad_02='7 CAMINOS--VELASCO', area=1.07, id_inspeccion=221), lote(fecha_registro='2025-07-15 12:32:32.498035+00:00', amigo_id='44b434c1a0d2497cb41483c43f11160b', id=113, geometria='0106000020E610000001000000010300000001000000050000002F4299CEE5814FC0C997E547025031C0ECF1D80AD2814FC019136F659B4F31C077090217C1814FC05DEBE78CA74F31C0BF122FE3D4814FC07A156A9B0E5031C02F4299CEE5814FC0C997E547025031C0', unidad_05='L8.4', unidad_01='141', unidad_02='7 CAMINOS--VELASCO', area=1.09, id_inspeccion=221), lote(fecha_registro='2025-07-15 12:32:32.498035+00:00', amigo_id='30688bd4fe7a4ee2858c1cc89341c7cd', id=114, geometria='0106000020E61000000100000001030000000100000005000000AA9D3C92F7814FC0FD56D356F54F31C04BB954D7E3814FC0A0589BA28E4F31C0CBF8C6FCD5814FC09BE05A91984F31C0D46291BEE9814FC0FA6C9169FF4F31C0AA9D3C92F7814FC0FD56D356F54F31C0', unidad_05='L8.3', unidad_01='141', unidad_02='7 CAMINOS--VELASCO', area=0.89, id_inspeccion=221), lote(fecha_registro='2025-07-15 12:32:32.498035+00:00', amigo_id='1d723c5a65cf4833bcfda139758e891e', id=115, geometria='0106000020E61000000100000001030000000100000007000000960C7A1EAA814FC05F2B075CB34F31C026ADBAEB7A814FC0E8A368A8BD4E31C08CBE4C5D79814FC0BD42C88BBE4E31C03CC0DF526B814FC0C7FC3194CE4E31C01FD37D6799814FC0AC3BB576BE4F31C034C318E9A6814FC0693813ACB54F31C0960C7A1EAA814FC05F2B075CB34F31C0', unidad_05='L12.3', unidad_01='141', unidad_02='7 CAMINOS--VELASCO', area=2.51, id_inspeccion=221), lote(fecha_registro='2025-07-15 12:32:32.498035+00:00', amigo_id='6525ce0af40e4440b07ef0a446dcb269', id=100, geometria='0106000020E6100000010000000103000000010000000A00000054AA9B0CCB824FC06A3C81525B4F31C0B50FD7B0BB824FC0240E263E124F31C0031307309E824FC08356F896204F31C0F6C25E0799824FC072B02D19234F31C07641FEA56C824FC00EB1FD85384F31C0462108E13F824FC0C4EA3061504F31C0C78C80CA30824FC01FFF26265B4F31C003A4BCFB43824FC034310FB9BE4F31C03A46738BAE824FC00381F04C704F31C054AA9B0CCB824FC06A3C81525B4F31C0', unidad_05='L6', unidad_01='141', unidad_02='7 CAMINOS--VELASCO', area=7.44, id_inspeccion=221), lote(fecha_registro='2025-07-15 12:32:32.498035+00:00', amigo_id='2389176626174f6b8e3d7f753188718d', id=101, geometria='0106000020E61000000100000001030000000100000005000000466F8B19F9814FC0F6536326804F31C0CBCB3EA90C824FC0FAC277F9E54F31C04B6954A042824FC085B883A8BE4F31C079CA2A372F824FC0E6ACC6395C4F31C0466F8B19F9814FC0F6536326804F31C0', unidad_05='L8.1', unidad_01='141', unidad_02='7 CAMINOS--VELASCO', area=3.36, id_inspeccion=221), lote(fecha_registro='2025-07-15 12:32:32.498035+00:00', amigo_id='a1d8739c5b05424fa123638d6a3f6d44', id=102, geometria='0106000020E61000000100000001030000000100000010000000BBD847C32E824FC068F891C0D04E31C0CF5D9D5E32824FC0AAF8791AE04E31C0D2701CC134824FC0094BE640EA4E31C08258F50536824FC0C424D983EF4E31C0CCD436BD3A824FC0CB09AC10ED4E31C078BD3F673D824FC0CFB73A27F24E31C0CC47CBF23E824FC086AD0701F84E31C03736F0C53F824FC02062D84EF74E31C06805EDCF3F824FC01D22F874F74E31C01321DC6D52824FC0DDDB1351414F31C0597F2C956B824FC0500F4537334F31C0EEE853FA4A824FC0819B12D8AA4E31C0FFBE94EE41824FC059DF465DAE4E31C076D6C5CB2D824FC02A921A17614E31C03B8DDCF814824FC00EC590276E4E31C0BBD847C32E824FC068F891C0D04E31C0', unidad_05='L9', unidad_01='141', unidad_02='7 CAMINOS--VELASCO', area=3.63, id_inspeccion=221), lote(fecha_registro='2025-07-15 12:32:32.498035+00:00', amigo_id='de7eaca4085a4c57988995776a1c9e32', id=103, geometria='0106000020E61000000100000001030000000100000009000000F6469CA8C0814FC0AED2EF9D954E31C02E331325F5814FC0E2486AB07D4F31C0FA03B05638824FC0386EFB82504F31C0EEBFB8CC1E824FC0B0E2547ED94E31C0FD73AB6509824FC06C497751784E31C05212876509824FC0FD3BD450784E31C01B03ED9708824FC08DAD4BAB744E31C005896D6B08824FC0AC1441E1734E31C0F6469CA8C0814FC0AED2EF9D954E31C0', unidad_05='L11', unidad_01='141', unidad_02='7 CAMINOS--VELASCO', area=9.71, id_inspeccion=221), lote(fecha_registro='2025-07-15 12:32:32.498035+00:00', amigo_id='01ced4371a2a4b96a592dc2e24a5fc2b', id=116, geometria='0106000020E610000001000000010300000001000000050000002CE4381B95814FC0C6ECE442C14F31C02DB2B85B67814FC0B231601BD34E31C0F8E6F63F58814FC0A116DD5BE44E31C0D4D62BBB84814FC0556890EBCB4F31C02CE4381B95814FC0C6ECE442C14F31C0', unidad_05='L12.4', unidad_01='141', unidad_02='7 CAMINOS--VELASCO', area=2.37, id_inspeccion=221), lote(fecha_registro='2025-07-15 12:32:32.498035+00:00', amigo_id='39ac835d99354aed8fa31cad7a38f2e6', id=117, geometria='0106000020E6100000010000000103000000010000000500000071A119F91A814FC0EEDDF5532A4F31C041CD1B2B42814FC0E5B88A60F64F31C08428116071814FC090EA1877D84F31C08293596646814FC0DC98BEBDF84E31C071A119F91A814FC0EEDDF5532A4F31C0', unidad_05='L12.6', unidad_01='141', unidad_02='7 CAMINOS--VELASCO', area=6.2, id_inspeccion=221), lote(fecha_registro='2025-07-15 12:32:32.498035+00:00', amigo_id='5d61ca338faf43998d2ed5edb76cba2a', id=118, geometria='0106000020E610000001000000010300000001000000050000009178A82797814FC0026856943B5031C09946C8F682814FC0958DEB78D24F31C07519258375814FC0D7E13146DB4F31C0F832CB628C814FC0A8F7AE6C435031C09178A82797814FC0026856943B5031C0', unidad_05='L8.8', unidad_01='141', unidad_02='7 CAMINOS--VELASCO', area=0.79, id_inspeccion=221), lote(fecha_registro='2025-07-15 12:32:32.498035+00:00', amigo_id='c998e94ec5bd405eaa12f8e79beee0bf', id=104, geometria='0106000020E6100000010000000103000000010000000700000074A89AEE6A824FC0FC077CFA9D4E31C0F0FB07BB4B824FC04282678FA94E31C00DCF78F16B824FC0621D7ED1324F31C0CAD3889E8D824FC0B2FB88EE234F31C0646A6D7B70824FC07C5D4762AB4E31C09FB50F266F824FC08BF65B1AA34E31C074A89AEE6A824FC0FC077CFA9D4E31C0', unidad_05='L7.3', unidad_01='141', unidad_02='7 CAMINOS--VELASCO', area=2.73, id_inspeccion=221), lote(fecha_registro='2025-07-15 12:32:32.498035+00:00', amigo_id='d14d94a776504f658a764fb2ce5b43be', id=105, geometria='0106000020E6100000010000000103000000010000000C000000B3C5D8DF14824FC0CAADBB346E4E31C0365631B408824FC0A23E4AE3734E31C073CBC66139824FC02941D7114F4F31C0BCEA2B6C52824FC00118C764414F31C040D408B93F824FC0B1F7E185F74E31C04F497BB53F824FC0F214D777F74E31C05D570CF03E824FC08399721AF84E31C07583B6633D824FC0E5A1C42FF24E31C05000DEBC3A824FC07184D417ED4E31C09BD1E20136824FC016302B96EF4E31C0191C658A2E824FC005481730D14E31C0B3C5D8DF14824FC0CAADBB346E4E31C0', unidad_05='L10', unidad_01='141', unidad_02='7 CAMINOS--VELASCO', area=2.4, id_inspeccion=221), lote(fecha_registro='2025-07-15 12:32:32.498035+00:00', amigo_id='f5955d6284b24597aaecc2d326639ae9', id=119, geometria='0106000020E6100000010000000103000000010000000500000098729D5949814FC05444565FF54E31C04BA2029574814FC0FAF8866ED64F31C05C79A80A82814FC007AFB9ABCD4F31C0C8BAB6C455814FC0C0843C31E74E31C098729D5949814FC05444565FF54E31C0', unidad_05='L12.5', unidad_01='141', unidad_02='7 CAMINOS--VELASCO', area=1.89, id_inspeccion=221), lote(fecha_registro='2025-07-15 12:32:32.498035+00:00', amigo_id='19a796c891f94314a4f2b7e91c6ad7f4', id=120, geometria='0106000020E6100000010000000103000000010000000E000000212B124DCB804FC03FB1ACDE894F31C00D8FE369CB804FC01C72CA28E64F31C0010AB20CCF804FC02232B49AEB4F31C0264DFEDFD4804FC02EC2752DEF4F31C0AE7586CAD8804FC0130BF663ED4F31C064D25878DD804FC0674B7CA2EB4F31C00839C5BBE0804FC0A3BF1CF9E44F31C08345FE19DF804FC09CF5B164DA4F31C082426C67D8804FC03BFE12A8B74F31C0D79F80F9D5804FC0B7C8A476AD4F31C07F124087D4804FC05CB82665A74F31C07135EB44D2804FC076A8C73E9A4F31C04BEDCA20CE804FC0709460C4844F31C0212B124DCB804FC03FB1ACDE894F31C0', unidad_05='L15', unidad_01='141', unidad_02='7 CAMINOS--VELASCO', area=0.72, id_inspeccion=221), lote(fecha_registro='2025-07-15 12:32:32.498035+00:00', amigo_id='a150c5fe8eeb4e8ab2bb2f432369f6d2', id=121, geometria='0106000020E6100000010000000103000000010000000B00000027783435CB804FC0F9883E08F54F31C06E433F2DCA804FC0458CBD893F5031C0A247CFD5CD804FC0A4341916405031C0486D5411EE804FC0383005AA2B5031C0E6DAE8C1EA804FC0ECAA32E7195031C03D9552E9E7804FC02571F33CFD4F31C0771FFF4FE2804FC029F0E0FDF44F31C0DE8CD9C8DD804FC0486993CAFF4F31C069BCAE4CD5804FC0287038AC015031C0D4ABACD8CB804FC0590C8812F54F31C027783435CB804FC0F9883E08F54F31C0', unidad_05='L14', unidad_01='141', unidad_02='7 CAMINOS--VELASCO', area=1.04, id_inspeccion=221), lote(fecha_registro='2025-07-15 12:32:32.498035+00:00', amigo_id='01f6ace9e9094d76a45d661d57ead5d3', id=122, geometria='0106000020E6100000010000000103000000010000000500000094CEE93AD1814FC0A680062B974F31C05D79310CA3814FC0F03919C2A64E31C0AAD45F417E814FC0922541C1BB4E31C00D8C835EAD814FC0F45D4C04B14F31C094CEE93AD1814FC0A680062B974F31C0', unidad_05='L12.2', unidad_01='141', unidad_02='7 CAMINOS--VELASCO', area=5.43, id_inspeccion=221)])]\n",
      "[]\n",
      "Informe generado de 15162 / VELASCO ANEZ MARCO ANTONIO\n",
      "No se encontraron registros nuevos\n",
      "No se encontraron registros nuevos\n",
      "No se encontraron registros nuevos\n",
      "No se encontraron registros nuevos\n",
      "No se encontraron registros nuevos\n",
      "No se encontraron registros nuevos\n",
      "No se encontraron registros nuevos\n",
      "No se encontraron registros nuevos\n",
      "No se encontraron registros nuevos\n",
      "No se encontraron registros nuevos\n",
      "No se encontraron registros nuevos\n",
      "No se encontraron registros nuevos\n",
      "No se encontraron registros nuevos\n",
      "No se encontraron registros nuevos\n",
      "No se encontraron registros nuevos\n",
      "No se encontraron registros nuevos\n",
      "No se encontraron registros nuevos\n",
      "No se encontraron registros nuevos\n",
      "No se encontraron registros nuevos\n",
      "No se encontraron registros nuevos\n",
      "No se encontraron registros nuevos\n",
      "No se encontraron registros nuevos\n",
      "No se encontraron registros nuevos\n",
      "No se encontraron registros nuevos\n",
      "No se encontraron registros nuevos\n",
      "No se encontraron registros nuevos\n",
      "No se encontraron registros nuevos\n",
      "No se encontraron registros nuevos\n",
      "No se encontraron registros nuevos\n",
      "No se encontraron registros nuevos\n",
      "No se encontraron registros nuevos\n",
      "No se encontraron registros nuevos\n",
      "No se encontraron registros nuevos\n",
      "No se encontraron registros nuevos\n",
      "No se encontraron registros nuevos\n",
      "No se encontraron registros nuevos\n"
     ]
    }
   ],
   "source": [
    "while True:\n",
    "    reg_nuevos = buscar_nuevos()\n",
    "    if len(reg_nuevos) == 0:\n",
    "        print('No se encontraron registros nuevos')\n",
    "        continue\n",
    "    for i in reg_nuevos:\n",
    "        insp = obtener_inspeccion(i)\n",
    "        ejecutar_scripts_sql()\n",
    "        lotes = obtener_lotes(i)\n",
    "        if len(lotes) == 0:\n",
    "            print(f'Inspeccion {i} no tiene lotes asignados')\n",
    "            continue\n",
    "        # de lotes eliminar todos los duplicados, y solo se queda con el codigo y nombre de propiedad, esto sera el objeto de propiedades que son parte de la inspeccion\n",
    "        props = eliminar_duplicados_y_conservar_campos(lotes, 'unidad_01', ['unidad_01', 'unidad_02'])\n",
    "        propiedades = propiedades_lotes(props)\n",
    "        fotos = obtener_fotos(insp.amigo_id)\n",
    "        \n",
    "        if len(fotos) == 0:\n",
    "            print(f'Inspeccion {i} no tiene fotos')\n",
    "        lista_planos = generar_planos(insp, propiedades)\n",
    "        print(insp)\n",
    "        print(propiedades)\n",
    "        print(fotos)\n",
    "        generar_reporte(insp, propiedades, fotos, lista_planos)\n",
    "        cambiar_estado_informe(i)\n",
    "        print(f'Informe generado de {insp.canhero}')"
   ]
  },
  {
   "cell_type": "code",
   "execution_count": null,
   "id": "5afbeb63-ca86-44cb-b422-2ed1a65351d7",
   "metadata": {},
   "outputs": [],
   "source": []
  },
  {
   "cell_type": "code",
   "execution_count": null,
   "id": "1686cb93-0a2d-4a23-8b0d-1cac5d049582",
   "metadata": {},
   "outputs": [],
   "source": []
  },
  {
   "cell_type": "code",
   "execution_count": null,
   "id": "8a114a9a-a890-465a-8186-fc7c55a65a91",
   "metadata": {},
   "outputs": [],
   "source": []
  },
  {
   "cell_type": "code",
   "execution_count": null,
   "id": "fee5edd8-3588-48be-818c-55020d3eafa5",
   "metadata": {},
   "outputs": [],
   "source": []
  },
  {
   "cell_type": "code",
   "execution_count": null,
   "id": "ed78fec9-90a7-4a20-a1ff-167b6f81a05c",
   "metadata": {},
   "outputs": [],
   "source": []
  },
  {
   "cell_type": "code",
   "execution_count": null,
   "id": "72f59c09-33d4-4da9-a83d-15c54b52264a",
   "metadata": {},
   "outputs": [],
   "source": []
  },
  {
   "cell_type": "code",
   "execution_count": null,
   "id": "2ce4c3d1-2897-47f2-bf42-766ba1c3386a",
   "metadata": {},
   "outputs": [],
   "source": []
  },
  {
   "cell_type": "code",
   "execution_count": null,
   "id": "fe13e4b5-b7d9-4137-a4c0-146dd21d7d74",
   "metadata": {},
   "outputs": [],
   "source": []
  },
  {
   "cell_type": "code",
   "execution_count": null,
   "id": "a04fceb2-bdb8-4ac3-a762-7d9ef6a2b420",
   "metadata": {},
   "outputs": [],
   "source": []
  },
  {
   "cell_type": "code",
   "execution_count": null,
   "id": "6e93d4c2-c782-46f1-ab7e-dfaeca98c3ff",
   "metadata": {},
   "outputs": [],
   "source": []
  },
  {
   "cell_type": "code",
   "execution_count": null,
   "id": "184c29df-b53c-47c5-81d8-3605ba2a39d1",
   "metadata": {},
   "outputs": [],
   "source": []
  },
  {
   "cell_type": "code",
   "execution_count": null,
   "id": "de7fad36-3f58-4331-9b73-942e668a2ba9",
   "metadata": {},
   "outputs": [],
   "source": []
  },
  {
   "cell_type": "code",
   "execution_count": null,
   "id": "145c84d0-c458-483a-ab72-f942cf8e2e82",
   "metadata": {},
   "outputs": [],
   "source": []
  },
  {
   "cell_type": "code",
   "execution_count": null,
   "id": "95bce4ef-6cd9-4fce-8da2-a186661ca538",
   "metadata": {},
   "outputs": [],
   "source": []
  },
  {
   "cell_type": "code",
   "execution_count": null,
   "id": "a80f97b8-7797-4c97-b75d-4b438d6e38c4",
   "metadata": {},
   "outputs": [],
   "source": []
  },
  {
   "cell_type": "code",
   "execution_count": null,
   "id": "1997bc6e-7a79-4662-9366-e53c4356cc4d",
   "metadata": {},
   "outputs": [],
   "source": []
  },
  {
   "cell_type": "code",
   "execution_count": null,
   "id": "685ed40c-e9b0-4963-b5bd-491808c0cfe7",
   "metadata": {},
   "outputs": [],
   "source": []
  }
 ],
 "metadata": {
  "kernelspec": {
   "display_name": "Python 3 (ipykernel)",
   "language": "python",
   "name": "python3"
  },
  "language_info": {
   "codemirror_mode": {
    "name": "ipython",
    "version": 3
   },
   "file_extension": ".py",
   "mimetype": "text/x-python",
   "name": "python",
   "nbconvert_exporter": "python",
   "pygments_lexer": "ipython3",
   "version": "3.10.13"
  }
 },
 "nbformat": 4,
 "nbformat_minor": 5
}
