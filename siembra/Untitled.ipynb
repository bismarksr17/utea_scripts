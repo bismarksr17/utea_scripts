{
 "cells": [
  {
   "cell_type": "code",
   "execution_count": 3,
   "id": "834add9f-55d3-40b2-bbfa-43243ffd7b7e",
   "metadata": {},
   "outputs": [],
   "source": [
    "import sys\n",
    "sys.path.append(\"..\")  # sube un nivel\n",
    "\n",
    "import geopandas as gpd\n",
    "from utilities import seleccionar_archivo\n",
    "from utilities import guardar_como"
   ]
  },
  {
   "cell_type": "code",
   "execution_count": 5,
   "id": "e1d3fcb9-f8b6-4cca-9800-126f93e08ce0",
   "metadata": {},
   "outputs": [
    {
     "data": {
      "text/plain": [
       "'C:/Documents/Ingenio Azucarero Guabira S.A/UTEA - SEMANAL - SIEMBRA/Siembra con precision/PARAISO/L29/EJECUTADO.shp'"
      ]
     },
     "execution_count": 5,
     "metadata": {},
     "output_type": "execute_result"
    }
   ],
   "source": [
    "path_ejecutado = seleccionar_archivo('Seleccione el archivo de puntos', 'shp')\n",
    "path_ejecutado"
   ]
  },
  {
   "cell_type": "code",
   "execution_count": 6,
   "id": "34bbbc44-c5c2-47d2-a262-608b861e96a5",
   "metadata": {},
   "outputs": [
    {
     "data": {
      "text/plain": [
       "'C:/Documents/Ingenio Azucarero Guabira S.A/UTEA - SEMANAL - SIEMBRA/Siembra con precision/PARAISO/L29/PLAN.shp'"
      ]
     },
     "execution_count": 6,
     "metadata": {},
     "output_type": "execute_result"
    }
   ],
   "source": [
    "path_planificado = seleccionar_archivo('Seleccione el archivo de lineas planificadas', 'shp')\n",
    "path_planificado"
   ]
  },
  {
   "cell_type": "code",
   "execution_count": 7,
   "id": "c7074332-cc6b-4b22-80fd-87dfd0c958c9",
   "metadata": {},
   "outputs": [],
   "source": [
    "# 1. Cargar shapefiles\n",
    "gdf_puntos = gpd.read_file(path_ejecutado)"
   ]
  },
  {
   "cell_type": "code",
   "execution_count": 8,
   "id": "0860ca16-512c-4f26-b01d-8c0d7d4ecd3e",
   "metadata": {},
   "outputs": [],
   "source": [
    "gdf_lineas = gpd.read_file(path_planificado)"
   ]
  },
  {
   "cell_type": "code",
   "execution_count": 9,
   "id": "b03476d8-dd54-4320-89cd-499b1c2dbaae",
   "metadata": {},
   "outputs": [],
   "source": [
    "# 2. Reproyectar ambos a UTM Zona 20S (EPSG:32720) para obtener distancias en metros\n",
    "gdf_puntos = gdf_puntos.to_crs(\"EPSG:32720\")\n",
    "gdf_lineas = gdf_lineas.to_crs(\"EPSG:32720\")"
   ]
  },
  {
   "cell_type": "code",
   "execution_count": 10,
   "id": "4f4d65ea-2e47-44c9-baba-8b84158c14b0",
   "metadata": {},
   "outputs": [
    {
     "data": {
      "text/plain": [
       "46622"
      ]
     },
     "execution_count": 10,
     "metadata": {},
     "output_type": "execute_result"
    }
   ],
   "source": [
    "len(gdf_puntos)"
   ]
  },
  {
   "cell_type": "code",
   "execution_count": 11,
   "id": "28a25ead-9522-4427-928a-49802d69b5e2",
   "metadata": {},
   "outputs": [],
   "source": [
    "# 3. Unir todas las líneas en una sola geometría (más eficiente)\n",
    "lineas_unidas = gdf_lineas.unary_union"
   ]
  },
  {
   "cell_type": "code",
   "execution_count": 12,
   "id": "96a4ead7-bab2-4f66-a18d-0f7d139789d8",
   "metadata": {},
   "outputs": [],
   "source": [
    "# 4. Calcular la distancia desde cada punto a la línea más cercana\n",
    "gdf_puntos[\"distancia_m\"] = gdf_puntos.geometry.distance(lineas_unidas)"
   ]
  },
  {
   "cell_type": "code",
   "execution_count": 13,
   "id": "b0f1939a-83a8-4708-bf79-9148e354f922",
   "metadata": {},
   "outputs": [
    {
     "data": {
      "text/html": [
       "<div>\n",
       "<style scoped>\n",
       "    .dataframe tbody tr th:only-of-type {\n",
       "        vertical-align: middle;\n",
       "    }\n",
       "\n",
       "    .dataframe tbody tr th {\n",
       "        vertical-align: top;\n",
       "    }\n",
       "\n",
       "    .dataframe thead th {\n",
       "        text-align: right;\n",
       "    }\n",
       "</style>\n",
       "<table border=\"1\" class=\"dataframe\">\n",
       "  <thead>\n",
       "    <tr style=\"text-align: right;\">\n",
       "      <th></th>\n",
       "      <th>geometry</th>\n",
       "    </tr>\n",
       "  </thead>\n",
       "  <tbody>\n",
       "    <tr>\n",
       "      <th>0</th>\n",
       "      <td>POINT (518047.928 8071691.079)</td>\n",
       "    </tr>\n",
       "    <tr>\n",
       "      <th>1</th>\n",
       "      <td>POINT (518047.926 8071691.081)</td>\n",
       "    </tr>\n",
       "    <tr>\n",
       "      <th>2</th>\n",
       "      <td>POINT (518047.911 8071691.332)</td>\n",
       "    </tr>\n",
       "    <tr>\n",
       "      <th>3</th>\n",
       "      <td>POINT (518047.928 8071692.370)</td>\n",
       "    </tr>\n",
       "    <tr>\n",
       "      <th>4</th>\n",
       "      <td>POINT (518047.958 8071693.567)</td>\n",
       "    </tr>\n",
       "    <tr>\n",
       "      <th>...</th>\n",
       "      <td>...</td>\n",
       "    </tr>\n",
       "    <tr>\n",
       "      <th>46617</th>\n",
       "      <td>POINT (518299.666 8071683.073)</td>\n",
       "    </tr>\n",
       "    <tr>\n",
       "      <th>46618</th>\n",
       "      <td>POINT (518299.674 8071682.711)</td>\n",
       "    </tr>\n",
       "    <tr>\n",
       "      <th>46619</th>\n",
       "      <td>POINT (518299.671 8071682.757)</td>\n",
       "    </tr>\n",
       "    <tr>\n",
       "      <th>46620</th>\n",
       "      <td>POINT (518299.669 8071682.807)</td>\n",
       "    </tr>\n",
       "    <tr>\n",
       "      <th>46621</th>\n",
       "      <td>POINT (518299.669 8071682.809)</td>\n",
       "    </tr>\n",
       "  </tbody>\n",
       "</table>\n",
       "<p>46622 rows × 1 columns</p>\n",
       "</div>"
      ],
      "text/plain": [
       "                             geometry\n",
       "0      POINT (518047.928 8071691.079)\n",
       "1      POINT (518047.926 8071691.081)\n",
       "2      POINT (518047.911 8071691.332)\n",
       "3      POINT (518047.928 8071692.370)\n",
       "4      POINT (518047.958 8071693.567)\n",
       "...                               ...\n",
       "46617  POINT (518299.666 8071683.073)\n",
       "46618  POINT (518299.674 8071682.711)\n",
       "46619  POINT (518299.671 8071682.757)\n",
       "46620  POINT (518299.669 8071682.807)\n",
       "46621  POINT (518299.669 8071682.809)\n",
       "\n",
       "[46622 rows x 1 columns]"
      ]
     },
     "execution_count": 13,
     "metadata": {},
     "output_type": "execute_result"
    }
   ],
   "source": [
    "gdf_puntos[['geometry']]"
   ]
  },
  {
   "cell_type": "code",
   "execution_count": null,
   "id": "2ea6602e-d004-4d06-b9ef-31caccd59f26",
   "metadata": {},
   "outputs": [],
   "source": [
    "gdf_puntos.plot()"
   ]
  },
  {
   "cell_type": "code",
   "execution_count": 14,
   "id": "868a53c5-ca8c-4a0f-9f00-00dc31ee3e4d",
   "metadata": {},
   "outputs": [
    {
     "data": {
      "text/plain": [
       "'C:/Documents/Ingenio Azucarero Guabira S.A/UTEA - SEMANAL - SIEMBRA/Siembra con precision/PARAISO/L29/RES.shp'"
      ]
     },
     "execution_count": 14,
     "metadata": {},
     "output_type": "execute_result"
    }
   ],
   "source": [
    "path_output = guardar_como('Guardar como...', 'shp')\n",
    "path_output"
   ]
  },
  {
   "cell_type": "code",
   "execution_count": 15,
   "id": "0d4ae2c5-de4d-4c41-9331-bc9c62430260",
   "metadata": {},
   "outputs": [
    {
     "name": "stderr",
     "output_type": "stream",
     "text": [
      "C:\\Users\\bismarksr\\AppData\\Local\\Temp\\ipykernel_55916\\3345708712.py:1: UserWarning: Column names longer than 10 characters will be truncated when saved to ESRI Shapefile.\n",
      "  gdf_puntos.to_file(path_output)\n"
     ]
    }
   ],
   "source": [
    "gdf_puntos.to_file(path_output)"
   ]
  },
  {
   "cell_type": "code",
   "execution_count": null,
   "id": "7d00cd57-fd96-4e40-9cfd-05c54f95fac3",
   "metadata": {},
   "outputs": [],
   "source": []
  },
  {
   "cell_type": "code",
   "execution_count": null,
   "id": "070f302c-3be8-491c-aa8f-78588b7288dd",
   "metadata": {},
   "outputs": [],
   "source": []
  },
  {
   "cell_type": "code",
   "execution_count": null,
   "id": "6ecf1e69-bad8-49d5-bc1f-0b215f145635",
   "metadata": {},
   "outputs": [],
   "source": []
  },
  {
   "cell_type": "code",
   "execution_count": null,
   "id": "1a00e84c-1c5c-4743-a597-1972131afa64",
   "metadata": {},
   "outputs": [],
   "source": []
  },
  {
   "cell_type": "code",
   "execution_count": null,
   "id": "c0d76370-cb6d-4395-80f7-229f4d925705",
   "metadata": {},
   "outputs": [],
   "source": []
  },
  {
   "cell_type": "code",
   "execution_count": null,
   "id": "c3f46eb7-5852-4100-8ee3-6983a15fda08",
   "metadata": {},
   "outputs": [],
   "source": []
  },
  {
   "cell_type": "code",
   "execution_count": null,
   "id": "0a27a071-66bf-44ba-930f-57b3be90e894",
   "metadata": {},
   "outputs": [],
   "source": []
  }
 ],
 "metadata": {
  "kernelspec": {
   "display_name": "Python 3 (ipykernel)",
   "language": "python",
   "name": "python3"
  },
  "language_info": {
   "codemirror_mode": {
    "name": "ipython",
    "version": 3
   },
   "file_extension": ".py",
   "mimetype": "text/x-python",
   "name": "python",
   "nbconvert_exporter": "python",
   "pygments_lexer": "ipython3",
   "version": "3.10.13"
  }
 },
 "nbformat": 4,
 "nbformat_minor": 5
}
