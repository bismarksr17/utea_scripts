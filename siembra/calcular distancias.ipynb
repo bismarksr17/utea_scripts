{
 "cells": [
  {
   "cell_type": "code",
   "execution_count": 1,
   "id": "834add9f-55d3-40b2-bbfa-43243ffd7b7e",
   "metadata": {},
   "outputs": [],
   "source": [
    "import sys\n",
    "sys.path.append(\"..\")  # sube un nivel\n",
    "\n",
    "import os\n",
    "import pandas as pd\n",
    "\n",
    "import geopandas as gpd\n",
    "from utilities import seleccionar_archivo\n",
    "from utilities import guardar_como"
   ]
  },
  {
   "cell_type": "code",
   "execution_count": 2,
   "id": "e1d3fcb9-f8b6-4cca-9800-126f93e08ce0",
   "metadata": {},
   "outputs": [
    {
     "data": {
      "text/plain": [
       "'C:/Documents/Ingenio Azucarero Guabira S.A/UTEA - SEMANAL - SIEMBRA/SIEMBRA CON PRESICION/CAMBERRA/CAMPODULCE-L3/EJECUTADO_2.shp'"
      ]
     },
     "execution_count": 2,
     "metadata": {},
     "output_type": "execute_result"
    }
   ],
   "source": [
    "path_ejecutado = seleccionar_archivo('Seleccione el archivo de puntos', 'shp')\n",
    "path_ejecutado"
   ]
  },
  {
   "cell_type": "code",
   "execution_count": 3,
   "id": "34bbbc44-c5c2-47d2-a262-608b861e96a5",
   "metadata": {},
   "outputs": [
    {
     "data": {
      "text/plain": [
       "'C:/Documents/Ingenio Azucarero Guabira S.A/UTEA - SEMANAL - SIEMBRA/SIEMBRA CON PRESICION/CAMBERRA/CAMPODULCE-L3/PLAN.shp'"
      ]
     },
     "execution_count": 3,
     "metadata": {},
     "output_type": "execute_result"
    }
   ],
   "source": [
    "path_planificado = seleccionar_archivo('Seleccione el archivo de lineas planificadas', 'shp')\n",
    "path_planificado"
   ]
  },
  {
   "cell_type": "code",
   "execution_count": 4,
   "id": "c7074332-cc6b-4b22-80fd-87dfd0c958c9",
   "metadata": {},
   "outputs": [],
   "source": [
    "# 1. Cargar shapefiles\n",
    "gdf_puntos = gpd.read_file(path_ejecutado)\n",
    "gdf_lineas = gpd.read_file(path_planificado)"
   ]
  },
  {
   "cell_type": "code",
   "execution_count": 5,
   "id": "b03476d8-dd54-4320-89cd-499b1c2dbaae",
   "metadata": {},
   "outputs": [],
   "source": [
    "# 2. Reproyectar ambos a UTM Zona 20S (EPSG:32720) para obtener distancias en metros\n",
    "gdf_puntos = gdf_puntos.to_crs(\"EPSG:32720\")\n",
    "gdf_lineas = gdf_lineas.to_crs(\"EPSG:32720\")"
   ]
  },
  {
   "cell_type": "code",
   "execution_count": 6,
   "id": "4f4d65ea-2e47-44c9-baba-8b84158c14b0",
   "metadata": {},
   "outputs": [
    {
     "data": {
      "text/plain": [
       "85430"
      ]
     },
     "execution_count": 6,
     "metadata": {},
     "output_type": "execute_result"
    }
   ],
   "source": [
    "len(gdf_puntos)"
   ]
  },
  {
   "cell_type": "code",
   "execution_count": 7,
   "id": "28a25ead-9522-4427-928a-49802d69b5e2",
   "metadata": {},
   "outputs": [],
   "source": [
    "# 3. Unir todas las líneas en una sola geometría (más eficiente)\n",
    "lineas_unidas = gdf_lineas.unary_union"
   ]
  },
  {
   "cell_type": "code",
   "execution_count": 8,
   "id": "96a4ead7-bab2-4f66-a18d-0f7d139789d8",
   "metadata": {},
   "outputs": [
    {
     "ename": "KeyboardInterrupt",
     "evalue": "",
     "output_type": "error",
     "traceback": [
      "\u001b[1;31m---------------------------------------------------------------------------\u001b[0m",
      "\u001b[1;31mKeyboardInterrupt\u001b[0m                         Traceback (most recent call last)",
      "Cell \u001b[1;32mIn[8], line 2\u001b[0m\n\u001b[0;32m      1\u001b[0m \u001b[38;5;66;03m# 4. Calcular la distancia desde cada punto a la línea más cercana\u001b[39;00m\n\u001b[1;32m----> 2\u001b[0m gdf_puntos[\u001b[38;5;124m\"\u001b[39m\u001b[38;5;124mvariacion\u001b[39m\u001b[38;5;124m\"\u001b[39m] \u001b[38;5;241m=\u001b[39m \u001b[43mgdf_puntos\u001b[49m\u001b[38;5;241;43m.\u001b[39;49m\u001b[43mgeometry\u001b[49m\u001b[38;5;241;43m.\u001b[39;49m\u001b[43mdistance\u001b[49m\u001b[43m(\u001b[49m\u001b[43mlineas_unidas\u001b[49m\u001b[43m)\u001b[49m\n",
      "File \u001b[1;32m~\\anaconda3\\envs\\utea_reportes\\lib\\site-packages\\geopandas\\base.py:2577\u001b[0m, in \u001b[0;36mGeoPandasBase.distance\u001b[1;34m(self, other, align)\u001b[0m\n\u001b[0;32m   2483\u001b[0m \u001b[38;5;28;01mdef\u001b[39;00m \u001b[38;5;21mdistance\u001b[39m(\u001b[38;5;28mself\u001b[39m, other, align\u001b[38;5;241m=\u001b[39m\u001b[38;5;28;01mTrue\u001b[39;00m):\n\u001b[0;32m   2484\u001b[0m \u001b[38;5;250m    \u001b[39m\u001b[38;5;124;03m\"\"\"Returns a ``Series`` containing the distance to aligned `other`.\u001b[39;00m\n\u001b[0;32m   2485\u001b[0m \n\u001b[0;32m   2486\u001b[0m \u001b[38;5;124;03m    The operation works on a 1-to-1 row-wise manner:\u001b[39;00m\n\u001b[1;32m   (...)\u001b[0m\n\u001b[0;32m   2575\u001b[0m \u001b[38;5;124;03m    dtype: float64\u001b[39;00m\n\u001b[0;32m   2576\u001b[0m \u001b[38;5;124;03m    \"\"\"\u001b[39;00m\n\u001b[1;32m-> 2577\u001b[0m     \u001b[38;5;28;01mreturn\u001b[39;00m \u001b[43m_binary_op\u001b[49m\u001b[43m(\u001b[49m\u001b[38;5;124;43m\"\u001b[39;49m\u001b[38;5;124;43mdistance\u001b[39;49m\u001b[38;5;124;43m\"\u001b[39;49m\u001b[43m,\u001b[49m\u001b[43m \u001b[49m\u001b[38;5;28;43mself\u001b[39;49m\u001b[43m,\u001b[49m\u001b[43m \u001b[49m\u001b[43mother\u001b[49m\u001b[43m,\u001b[49m\u001b[43m \u001b[49m\u001b[43malign\u001b[49m\u001b[43m)\u001b[49m\n",
      "File \u001b[1;32m~\\anaconda3\\envs\\utea_reportes\\lib\\site-packages\\geopandas\\base.py:63\u001b[0m, in \u001b[0;36m_binary_op\u001b[1;34m(op, this, other, align, *args, **kwargs)\u001b[0m\n\u001b[0;32m     60\u001b[0m \u001b[38;5;28;01mdef\u001b[39;00m \u001b[38;5;21m_binary_op\u001b[39m(op, this, other, align, \u001b[38;5;241m*\u001b[39margs, \u001b[38;5;241m*\u001b[39m\u001b[38;5;241m*\u001b[39mkwargs):\n\u001b[0;32m     61\u001b[0m     \u001b[38;5;66;03m# type: (str, GeoSeries, GeoSeries, args/kwargs) -> Series[bool/float]\u001b[39;00m\n\u001b[0;32m     62\u001b[0m \u001b[38;5;250m    \u001b[39m\u001b[38;5;124;03m\"\"\"Binary operation on GeoSeries objects that returns a Series\"\"\"\u001b[39;00m\n\u001b[1;32m---> 63\u001b[0m     data, index \u001b[38;5;241m=\u001b[39m _delegate_binary_method(op, this, other, align, \u001b[38;5;241m*\u001b[39margs, \u001b[38;5;241m*\u001b[39m\u001b[38;5;241m*\u001b[39mkwargs)\n\u001b[0;32m     64\u001b[0m     \u001b[38;5;28;01mreturn\u001b[39;00m Series(data, index\u001b[38;5;241m=\u001b[39mindex)\n",
      "File \u001b[1;32m~\\anaconda3\\envs\\utea_reportes\\lib\\site-packages\\geopandas\\base.py:47\u001b[0m, in \u001b[0;36m_delegate_binary_method\u001b[1;34m(op, this, other, align, *args, **kwargs)\u001b[0m\n\u001b[0;32m     44\u001b[0m \u001b[38;5;28;01melse\u001b[39;00m:\n\u001b[0;32m     45\u001b[0m     \u001b[38;5;28;01mraise\u001b[39;00m \u001b[38;5;167;01mTypeError\u001b[39;00m(\u001b[38;5;28mtype\u001b[39m(this), \u001b[38;5;28mtype\u001b[39m(other))\n\u001b[1;32m---> 47\u001b[0m data \u001b[38;5;241m=\u001b[39m \u001b[38;5;28mgetattr\u001b[39m(a_this, op)(other, \u001b[38;5;241m*\u001b[39margs, \u001b[38;5;241m*\u001b[39m\u001b[38;5;241m*\u001b[39mkwargs)\n\u001b[0;32m     48\u001b[0m \u001b[38;5;28;01mreturn\u001b[39;00m data, this\u001b[38;5;241m.\u001b[39mindex\n",
      "File \u001b[1;32m~\\anaconda3\\envs\\utea_reportes\\lib\\site-packages\\geopandas\\array.py:693\u001b[0m, in \u001b[0;36mGeometryArray.distance\u001b[1;34m(self, other)\u001b[0m\n\u001b[0;32m    691\u001b[0m \u001b[38;5;28;01mdef\u001b[39;00m \u001b[38;5;21mdistance\u001b[39m(\u001b[38;5;28mself\u001b[39m, other):\n\u001b[0;32m    692\u001b[0m     \u001b[38;5;28mself\u001b[39m\u001b[38;5;241m.\u001b[39mcheck_geographic_crs(stacklevel\u001b[38;5;241m=\u001b[39m\u001b[38;5;241m6\u001b[39m)\n\u001b[1;32m--> 693\u001b[0m     \u001b[38;5;28;01mreturn\u001b[39;00m \u001b[38;5;28;43mself\u001b[39;49m\u001b[38;5;241;43m.\u001b[39;49m\u001b[43m_binary_method\u001b[49m\u001b[43m(\u001b[49m\u001b[38;5;124;43m\"\u001b[39;49m\u001b[38;5;124;43mdistance\u001b[39;49m\u001b[38;5;124;43m\"\u001b[39;49m\u001b[43m,\u001b[49m\u001b[43m \u001b[49m\u001b[38;5;28;43mself\u001b[39;49m\u001b[43m,\u001b[49m\u001b[43m \u001b[49m\u001b[43mother\u001b[49m\u001b[43m)\u001b[49m\n",
      "File \u001b[1;32m~\\anaconda3\\envs\\utea_reportes\\lib\\site-packages\\geopandas\\array.py:611\u001b[0m, in \u001b[0;36mGeometryArray._binary_method\u001b[1;34m(op, left, right, **kwargs)\u001b[0m\n\u001b[0;32m    608\u001b[0m         _crs_mismatch_warn(left, right, stacklevel\u001b[38;5;241m=\u001b[39m\u001b[38;5;241m7\u001b[39m)\n\u001b[0;32m    609\u001b[0m     right \u001b[38;5;241m=\u001b[39m right\u001b[38;5;241m.\u001b[39m_data\n\u001b[1;32m--> 611\u001b[0m \u001b[38;5;28;01mreturn\u001b[39;00m \u001b[38;5;28mgetattr\u001b[39m(vectorized, op)(left\u001b[38;5;241m.\u001b[39m_data, right, \u001b[38;5;241m*\u001b[39m\u001b[38;5;241m*\u001b[39mkwargs)\n",
      "File \u001b[1;32m~\\anaconda3\\envs\\utea_reportes\\lib\\site-packages\\geopandas\\_vectorized.py:982\u001b[0m, in \u001b[0;36mdistance\u001b[1;34m(data, other)\u001b[0m\n\u001b[0;32m    980\u001b[0m \u001b[38;5;28;01mdef\u001b[39;00m \u001b[38;5;21mdistance\u001b[39m(data, other):\n\u001b[0;32m    981\u001b[0m     \u001b[38;5;28;01mif\u001b[39;00m compat\u001b[38;5;241m.\u001b[39mUSE_SHAPELY_20:\n\u001b[1;32m--> 982\u001b[0m         \u001b[38;5;28;01mreturn\u001b[39;00m \u001b[43mshapely\u001b[49m\u001b[38;5;241;43m.\u001b[39;49m\u001b[43mdistance\u001b[49m\u001b[43m(\u001b[49m\u001b[43mdata\u001b[49m\u001b[43m,\u001b[49m\u001b[43m \u001b[49m\u001b[43mother\u001b[49m\u001b[43m)\u001b[49m\n\u001b[0;32m    983\u001b[0m     \u001b[38;5;28;01melif\u001b[39;00m compat\u001b[38;5;241m.\u001b[39mUSE_PYGEOS:\n\u001b[0;32m    984\u001b[0m         \u001b[38;5;28;01mreturn\u001b[39;00m _binary_method(\u001b[38;5;124m\"\u001b[39m\u001b[38;5;124mdistance\u001b[39m\u001b[38;5;124m\"\u001b[39m, data, other)\n",
      "File \u001b[1;32m~\\anaconda3\\envs\\utea_reportes\\lib\\site-packages\\shapely\\decorators.py:77\u001b[0m, in \u001b[0;36mmultithreading_enabled.<locals>.wrapped\u001b[1;34m(*args, **kwargs)\u001b[0m\n\u001b[0;32m     75\u001b[0m     \u001b[38;5;28;01mfor\u001b[39;00m arr \u001b[38;5;129;01min\u001b[39;00m array_args:\n\u001b[0;32m     76\u001b[0m         arr\u001b[38;5;241m.\u001b[39mflags\u001b[38;5;241m.\u001b[39mwriteable \u001b[38;5;241m=\u001b[39m \u001b[38;5;28;01mFalse\u001b[39;00m\n\u001b[1;32m---> 77\u001b[0m     \u001b[38;5;28;01mreturn\u001b[39;00m func(\u001b[38;5;241m*\u001b[39margs, \u001b[38;5;241m*\u001b[39m\u001b[38;5;241m*\u001b[39mkwargs)\n\u001b[0;32m     78\u001b[0m \u001b[38;5;28;01mfinally\u001b[39;00m:\n\u001b[0;32m     79\u001b[0m     \u001b[38;5;28;01mfor\u001b[39;00m arr, old_flag \u001b[38;5;129;01min\u001b[39;00m \u001b[38;5;28mzip\u001b[39m(array_args, old_flags):\n",
      "File \u001b[1;32m~\\anaconda3\\envs\\utea_reportes\\lib\\site-packages\\shapely\\measurement.py:72\u001b[0m, in \u001b[0;36mdistance\u001b[1;34m(a, b, **kwargs)\u001b[0m\n\u001b[0;32m     47\u001b[0m \u001b[38;5;129m@multithreading_enabled\u001b[39m\n\u001b[0;32m     48\u001b[0m \u001b[38;5;28;01mdef\u001b[39;00m \u001b[38;5;21mdistance\u001b[39m(a, b, \u001b[38;5;241m*\u001b[39m\u001b[38;5;241m*\u001b[39mkwargs):\n\u001b[0;32m     49\u001b[0m \u001b[38;5;250m    \u001b[39m\u001b[38;5;124;03m\"\"\"Computes the Cartesian distance between two geometries.\u001b[39;00m\n\u001b[0;32m     50\u001b[0m \n\u001b[0;32m     51\u001b[0m \u001b[38;5;124;03m    Parameters\u001b[39;00m\n\u001b[1;32m   (...)\u001b[0m\n\u001b[0;32m     70\u001b[0m \u001b[38;5;124;03m    nan\u001b[39;00m\n\u001b[0;32m     71\u001b[0m \u001b[38;5;124;03m    \"\"\"\u001b[39;00m\n\u001b[1;32m---> 72\u001b[0m     \u001b[38;5;28;01mreturn\u001b[39;00m lib\u001b[38;5;241m.\u001b[39mdistance(a, b, \u001b[38;5;241m*\u001b[39m\u001b[38;5;241m*\u001b[39mkwargs)\n",
      "\u001b[1;31mKeyboardInterrupt\u001b[0m: "
     ]
    }
   ],
   "source": [
    "# 4. Calcular la distancia desde cada punto a la línea más cercana\n",
    "gdf_puntos[\"variacion\"] = gdf_puntos.geometry.distance(lineas_unidas)"
   ]
  },
  {
   "cell_type": "code",
   "execution_count": 48,
   "id": "deef923b-4da0-49e6-9c4f-44502f850bbc",
   "metadata": {},
   "outputs": [],
   "source": [
    "def clasificar_variacion(valor):\n",
    "    if valor <= 0.05:\n",
    "        return 1, \"<5 Optimo\"\n",
    "    elif valor <= 0.10:\n",
    "        return 2, \"5-10 Aceptable\"\n",
    "    elif valor <= 0.15:\n",
    "        return 3, \"10-15 Riesgo Moderado\"\n",
    "    else:\n",
    "        return 4, \">15 Riesgo Alto\""
   ]
  },
  {
   "cell_type": "code",
   "execution_count": 49,
   "id": "2080488e-f53e-49c6-b27d-465db0ead014",
   "metadata": {},
   "outputs": [],
   "source": [
    "# Aplicar la clasificación a cada fila\n",
    "gdf_puntos[[\"cat_num\", \"categoria\"]] = gdf_puntos[\"variacion\"].apply(\n",
    "    lambda x: pd.Series(clasificar_variacion(x))\n",
    ")"
   ]
  },
  {
   "cell_type": "code",
   "execution_count": 50,
   "id": "e86ba589-1794-438b-9592-024c7379bfac",
   "metadata": {},
   "outputs": [],
   "source": [
    "gdf_puntos = gdf_puntos.rename(columns={\n",
    "    'Implement1': 'Implmnt1'\n",
    "})"
   ]
  },
  {
   "cell_type": "code",
   "execution_count": 51,
   "id": "868a53c5-ca8c-4a0f-9f00-00dc31ee3e4d",
   "metadata": {},
   "outputs": [
    {
     "data": {
      "text/plain": [
       "'C:/Documents/Ingenio Azucarero Guabira S.A/UTEA - SEMANAL - SIEMBRA/SIEMBRA CON PRESICION/PARAISO/L30/DESVIACION.shp'"
      ]
     },
     "execution_count": 51,
     "metadata": {},
     "output_type": "execute_result"
    }
   ],
   "source": [
    "path_output = guardar_como('Guardar como...', 'shp')\n",
    "path_output"
   ]
  },
  {
   "cell_type": "code",
   "execution_count": 52,
   "id": "0d4ae2c5-de4d-4c41-9331-bc9c62430260",
   "metadata": {},
   "outputs": [],
   "source": [
    "gdf_puntos.to_file(path_output)"
   ]
  },
  {
   "cell_type": "code",
   "execution_count": 53,
   "id": "7d00cd57-fd96-4e40-9cfd-05c54f95fac3",
   "metadata": {},
   "outputs": [],
   "source": [
    "# Reemplazar la extensión .shp por .xlsx\n",
    "ruta_excel = os.path.splitext(path_output)[0] + \".xlsx\"\n",
    "# Exportar la tabla sin geometría\n",
    "gdf_puntos.drop(columns='geometry').to_excel(ruta_excel, index=False)"
   ]
  },
  {
   "cell_type": "code",
   "execution_count": null,
   "id": "070f302c-3be8-491c-aa8f-78588b7288dd",
   "metadata": {},
   "outputs": [],
   "source": []
  },
  {
   "cell_type": "code",
   "execution_count": null,
   "id": "6ecf1e69-bad8-49d5-bc1f-0b215f145635",
   "metadata": {},
   "outputs": [],
   "source": []
  },
  {
   "cell_type": "code",
   "execution_count": null,
   "id": "1a00e84c-1c5c-4743-a597-1972131afa64",
   "metadata": {},
   "outputs": [],
   "source": []
  },
  {
   "cell_type": "code",
   "execution_count": null,
   "id": "c0d76370-cb6d-4395-80f7-229f4d925705",
   "metadata": {},
   "outputs": [],
   "source": []
  },
  {
   "cell_type": "code",
   "execution_count": null,
   "id": "4a4f5cb7-c689-43ca-a044-1512a16da8c2",
   "metadata": {},
   "outputs": [],
   "source": []
  },
  {
   "cell_type": "code",
   "execution_count": null,
   "id": "e7986b12-f5ad-4186-8914-6d169a008f52",
   "metadata": {},
   "outputs": [],
   "source": []
  },
  {
   "cell_type": "code",
   "execution_count": null,
   "id": "005cba0f-0145-467e-ad03-eec43c49802d",
   "metadata": {},
   "outputs": [],
   "source": []
  },
  {
   "cell_type": "code",
   "execution_count": null,
   "id": "602ba48c-b343-4175-b2ec-84d6fbf4d78d",
   "metadata": {},
   "outputs": [],
   "source": []
  },
  {
   "cell_type": "code",
   "execution_count": null,
   "id": "2f84aa7b-b8de-4e33-89e3-0be9b72a1f9c",
   "metadata": {},
   "outputs": [],
   "source": []
  },
  {
   "cell_type": "code",
   "execution_count": null,
   "id": "315f301c-ede2-4ee2-aeb6-5b1842601df2",
   "metadata": {},
   "outputs": [],
   "source": []
  },
  {
   "cell_type": "code",
   "execution_count": null,
   "id": "11aa72d1-47d6-4a28-997c-54df0f7c59a1",
   "metadata": {},
   "outputs": [],
   "source": []
  },
  {
   "cell_type": "code",
   "execution_count": null,
   "id": "d5fca14a-18db-4ba9-b4cb-d075fc13f812",
   "metadata": {},
   "outputs": [],
   "source": []
  },
  {
   "cell_type": "code",
   "execution_count": null,
   "id": "a22f6bdc-8e3f-4c71-ba3f-0f48cbaafcd2",
   "metadata": {},
   "outputs": [],
   "source": []
  },
  {
   "cell_type": "code",
   "execution_count": null,
   "id": "aed65e89-3ecf-4fc7-8400-a8813664b501",
   "metadata": {},
   "outputs": [],
   "source": []
  },
  {
   "cell_type": "code",
   "execution_count": null,
   "id": "a9736368-c4ba-414f-85a5-b1032298accd",
   "metadata": {},
   "outputs": [],
   "source": []
  },
  {
   "cell_type": "code",
   "execution_count": null,
   "id": "a69354c5-d219-4c05-acd2-d4629f7fae4a",
   "metadata": {},
   "outputs": [],
   "source": []
  },
  {
   "cell_type": "code",
   "execution_count": null,
   "id": "a1b7ea41-8e38-43e1-8887-65243a104ca3",
   "metadata": {},
   "outputs": [],
   "source": []
  },
  {
   "cell_type": "code",
   "execution_count": null,
   "id": "29133386-6a44-43b8-95e1-ffe40e795ae8",
   "metadata": {},
   "outputs": [],
   "source": []
  },
  {
   "cell_type": "code",
   "execution_count": null,
   "id": "c3f46eb7-5852-4100-8ee3-6983a15fda08",
   "metadata": {},
   "outputs": [],
   "source": []
  },
  {
   "cell_type": "code",
   "execution_count": null,
   "id": "0a27a071-66bf-44ba-930f-57b3be90e894",
   "metadata": {},
   "outputs": [],
   "source": []
  }
 ],
 "metadata": {
  "kernelspec": {
   "display_name": "Python 3 (ipykernel)",
   "language": "python",
   "name": "python3"
  },
  "language_info": {
   "codemirror_mode": {
    "name": "ipython",
    "version": 3
   },
   "file_extension": ".py",
   "mimetype": "text/x-python",
   "name": "python",
   "nbconvert_exporter": "python",
   "pygments_lexer": "ipython3",
   "version": "3.10.13"
  }
 },
 "nbformat": 4,
 "nbformat_minor": 5
}
