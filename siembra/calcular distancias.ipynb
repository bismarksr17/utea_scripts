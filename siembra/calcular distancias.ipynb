{
 "cells": [
  {
   "cell_type": "code",
   "execution_count": 15,
   "id": "834add9f-55d3-40b2-bbfa-43243ffd7b7e",
   "metadata": {},
   "outputs": [],
   "source": [
    "import sys\n",
    "sys.path.append(\"..\")  # sube un nivel\n",
    "\n",
    "import os\n",
    "import pandas as pd\n",
    "\n",
    "import geopandas as gpd\n",
    "from utilities import seleccionar_archivo\n",
    "from utilities import guardar_como"
   ]
  },
  {
   "cell_type": "code",
   "execution_count": 16,
   "id": "e1d3fcb9-f8b6-4cca-9800-126f93e08ce0",
   "metadata": {},
   "outputs": [
    {
     "data": {
      "text/plain": [
       "'G:/Ingenio Azucarero Guabira S.A/UTEA - SEMANAL - SIEMBRA/SIEMBRA CON PRESICION/PARAISO/L9 - TEST3/EJECUTADO-SF3.shp'"
      ]
     },
     "execution_count": 16,
     "metadata": {},
     "output_type": "execute_result"
    }
   ],
   "source": [
    "path_ejecutado = seleccionar_archivo('Seleccione el archivo de puntos', 'shp')\n",
    "path_ejecutado"
   ]
  },
  {
   "cell_type": "code",
   "execution_count": 17,
   "id": "34bbbc44-c5c2-47d2-a262-608b861e96a5",
   "metadata": {},
   "outputs": [
    {
     "data": {
      "text/plain": [
       "'G:/Ingenio Azucarero Guabira S.A/UTEA - SEMANAL - SIEMBRA/SIEMBRA CON PRESICION/PARAISO/L9 - TEST3/PLAN.shp'"
      ]
     },
     "execution_count": 17,
     "metadata": {},
     "output_type": "execute_result"
    }
   ],
   "source": [
    "path_planificado = seleccionar_archivo('Seleccione el archivo de lineas planificadas', 'shp')\n",
    "path_planificado"
   ]
  },
  {
   "cell_type": "code",
   "execution_count": 18,
   "id": "c7074332-cc6b-4b22-80fd-87dfd0c958c9",
   "metadata": {},
   "outputs": [],
   "source": [
    "# 1. Cargar shapefiles\n",
    "gdf_puntos = gpd.read_file(path_ejecutado)\n",
    "gdf_lineas = gpd.read_file(path_planificado)"
   ]
  },
  {
   "cell_type": "code",
   "execution_count": 19,
   "id": "b03476d8-dd54-4320-89cd-499b1c2dbaae",
   "metadata": {},
   "outputs": [],
   "source": [
    "# 2. Reproyectar ambos a UTM Zona 20S (EPSG:32720) para obtener distancias en metros\n",
    "gdf_puntos = gdf_puntos.to_crs(\"EPSG:32720\")\n",
    "gdf_lineas = gdf_lineas.to_crs(\"EPSG:32720\")"
   ]
  },
  {
   "cell_type": "code",
   "execution_count": 20,
   "id": "4f4d65ea-2e47-44c9-baba-8b84158c14b0",
   "metadata": {},
   "outputs": [
    {
     "data": {
      "text/plain": [
       "5787"
      ]
     },
     "execution_count": 20,
     "metadata": {},
     "output_type": "execute_result"
    }
   ],
   "source": [
    "len(gdf_puntos)"
   ]
  },
  {
   "cell_type": "code",
   "execution_count": 21,
   "id": "28a25ead-9522-4427-928a-49802d69b5e2",
   "metadata": {},
   "outputs": [],
   "source": [
    "# 3. Unir todas las líneas en una sola geometría (más eficiente)\n",
    "lineas_unidas = gdf_lineas.unary_union"
   ]
  },
  {
   "cell_type": "code",
   "execution_count": 22,
   "id": "96a4ead7-bab2-4f66-a18d-0f7d139789d8",
   "metadata": {},
   "outputs": [],
   "source": [
    "# 4. Calcular la distancia desde cada punto a la línea más cercana\n",
    "gdf_puntos[\"variacion\"] = gdf_puntos.geometry.distance(lineas_unidas)"
   ]
  },
  {
   "cell_type": "code",
   "execution_count": 23,
   "id": "deef923b-4da0-49e6-9c4f-44502f850bbc",
   "metadata": {},
   "outputs": [],
   "source": [
    "def clasificar_variacion(valor):\n",
    "    if valor <= 0.05:\n",
    "        return 1, \"<5 Optimo\"\n",
    "    elif valor <= 0.10:\n",
    "        return 2, \"5-10 Aceptable\"\n",
    "    elif valor <= 0.15:\n",
    "        return 3, \"10-15 Riesgo Moderado\"\n",
    "    else:\n",
    "        return 4, \">15 Riesgo Alto\""
   ]
  },
  {
   "cell_type": "code",
   "execution_count": 24,
   "id": "2080488e-f53e-49c6-b27d-465db0ead014",
   "metadata": {},
   "outputs": [],
   "source": [
    "# Aplicar la clasificación a cada fila\n",
    "gdf_puntos[[\"cat_num\", \"categoria\"]] = gdf_puntos[\"variacion\"].apply(\n",
    "    lambda x: pd.Series(clasificar_variacion(x))\n",
    ")"
   ]
  },
  {
   "cell_type": "code",
   "execution_count": 25,
   "id": "e86ba589-1794-438b-9592-024c7379bfac",
   "metadata": {},
   "outputs": [],
   "source": [
    "gdf_puntos = gdf_puntos.rename(columns={\n",
    "    'Implement1': 'Implmnt1'\n",
    "})"
   ]
  },
  {
   "cell_type": "code",
   "execution_count": 26,
   "id": "868a53c5-ca8c-4a0f-9f00-00dc31ee3e4d",
   "metadata": {},
   "outputs": [
    {
     "data": {
      "text/plain": [
       "'G:/Ingenio Azucarero Guabira S.A/UTEA - SEMANAL - SIEMBRA/SIEMBRA CON PRESICION/PARAISO/L9 - TEST3/DESVIACION-SF3.shp'"
      ]
     },
     "execution_count": 26,
     "metadata": {},
     "output_type": "execute_result"
    }
   ],
   "source": [
    "path_output = guardar_como('Guardar como...', 'shp')\n",
    "path_output"
   ]
  },
  {
   "cell_type": "code",
   "execution_count": 27,
   "id": "0d4ae2c5-de4d-4c41-9331-bc9c62430260",
   "metadata": {},
   "outputs": [],
   "source": [
    "gdf_puntos.to_file(path_output)"
   ]
  },
  {
   "cell_type": "code",
   "execution_count": 28,
   "id": "7d00cd57-fd96-4e40-9cfd-05c54f95fac3",
   "metadata": {},
   "outputs": [],
   "source": [
    "# Reemplazar la extensión .shp por .xlsx\n",
    "ruta_excel = os.path.splitext(path_output)[0] + \".xlsx\"\n",
    "# Exportar la tabla sin geometría\n",
    "gdf_puntos.drop(columns='geometry').to_excel(ruta_excel, index=False)"
   ]
  },
  {
   "cell_type": "code",
   "execution_count": null,
   "id": "070f302c-3be8-491c-aa8f-78588b7288dd",
   "metadata": {},
   "outputs": [],
   "source": []
  },
  {
   "cell_type": "code",
   "execution_count": null,
   "id": "6ecf1e69-bad8-49d5-bc1f-0b215f145635",
   "metadata": {},
   "outputs": [],
   "source": []
  },
  {
   "cell_type": "code",
   "execution_count": null,
   "id": "1a00e84c-1c5c-4743-a597-1972131afa64",
   "metadata": {},
   "outputs": [],
   "source": []
  },
  {
   "cell_type": "code",
   "execution_count": null,
   "id": "c0d76370-cb6d-4395-80f7-229f4d925705",
   "metadata": {},
   "outputs": [],
   "source": []
  },
  {
   "cell_type": "code",
   "execution_count": null,
   "id": "c3f46eb7-5852-4100-8ee3-6983a15fda08",
   "metadata": {},
   "outputs": [],
   "source": []
  },
  {
   "cell_type": "code",
   "execution_count": null,
   "id": "0a27a071-66bf-44ba-930f-57b3be90e894",
   "metadata": {},
   "outputs": [],
   "source": []
  }
 ],
 "metadata": {
  "kernelspec": {
   "display_name": "Python 3 (ipykernel)",
   "language": "python",
   "name": "python3"
  },
  "language_info": {
   "codemirror_mode": {
    "name": "ipython",
    "version": 3
   },
   "file_extension": ".py",
   "mimetype": "text/x-python",
   "name": "python",
   "nbconvert_exporter": "python",
   "pygments_lexer": "ipython3",
   "version": "3.10.13"
  }
 },
 "nbformat": 4,
 "nbformat_minor": 5
}
