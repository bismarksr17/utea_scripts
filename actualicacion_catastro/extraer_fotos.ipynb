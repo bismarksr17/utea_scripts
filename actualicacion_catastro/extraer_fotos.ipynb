{
 "cells": [
  {
   "cell_type": "code",
   "execution_count": 3,
   "id": "02ff7866-3d13-4b19-b1b2-4b29a6d963e0",
   "metadata": {},
   "outputs": [],
   "source": [
    "from amigocloud import AmigoCloud"
   ]
  },
  {
   "cell_type": "code",
   "execution_count": 6,
   "id": "88683561-be92-4590-a832-442dd7f70d11",
   "metadata": {},
   "outputs": [],
   "source": [
    "cod_prop = 495"
   ]
  },
  {
   "cell_type": "code",
   "execution_count": 7,
   "id": "023a53bd-4d43-4078-9b63-26c3d6afacf8",
   "metadata": {},
   "outputs": [
    {
     "data": {
      "text/plain": [
       "<amigocloud.amigocloud.AmigoCloud at 0x2c146ffe688>"
      ]
     },
     "execution_count": 7,
     "metadata": {},
     "output_type": "execute_result"
    }
   ],
   "source": [
    "# CONECTAR A AMIGOCLOUD\n",
    "acceso = open('../api_key/api.key','r')\n",
    "api_token = acceso.readlines()[0]\n",
    "acceso.close()\n",
    "amigocloud = AmigoCloud(token=api_token)\n",
    "amigocloud"
   ]
  },
  {
   "cell_type": "code",
   "execution_count": null,
   "id": "88c5ccd9-db7c-4051-9978-88624b1fd156",
   "metadata": {},
   "outputs": [],
   "source": [
    "query_credito = {'query': 'select * from dataset_282969 where cast(split_part(canhero, \\' / \\', 1) as integer) = {cod_ca}'.format(cod_ca=codigo_canhero)}\n",
    "credito_select = amigocloud.get('https://app.amigocloud.com/api/v1/projects/31360/sql', query_credito)\n",
    "credito_data = credito_select['data'][0]\n",
    "\n",
    "credito_data['fecha_informe'] = (datetime.strptime(credito_data['fecha_2da_insp'].split(' ')[0], '%Y-%m-%d') + timedelta(days=1)).strftime('%d/%m/%Y')\n",
    "credito_data['fecha_2da_insp'] = datetime.strptime(credito_data['fecha_2da_insp'].split(' ')[0], '%Y-%m-%d').strftime('%d/%m/%Y')\n",
    "credito = collections.namedtuple(\"credito\", credito_data.keys())(*credito_data.values())\n",
    "print('end')"
   ]
  },
  {
   "cell_type": "code",
   "execution_count": null,
   "id": "34f8305e-b513-4b87-a4e8-062317a0026f",
   "metadata": {},
   "outputs": [],
   "source": []
  },
  {
   "cell_type": "code",
   "execution_count": null,
   "id": "24208166-7ed9-4c0c-b179-76de0a06e7e9",
   "metadata": {},
   "outputs": [],
   "source": []
  },
  {
   "cell_type": "code",
   "execution_count": null,
   "id": "722fb010-3d2b-426f-ba90-ccae49dd9dc7",
   "metadata": {},
   "outputs": [],
   "source": []
  },
  {
   "cell_type": "code",
   "execution_count": null,
   "id": "b722268b-f0ac-4f23-8244-70d0401388fe",
   "metadata": {},
   "outputs": [],
   "source": []
  },
  {
   "cell_type": "code",
   "execution_count": null,
   "id": "7dab4e69-7e5c-4748-84ca-a058f7915357",
   "metadata": {},
   "outputs": [],
   "source": []
  },
  {
   "cell_type": "code",
   "execution_count": null,
   "id": "d9da88f0-6c14-41a9-8cea-e8c67e757927",
   "metadata": {},
   "outputs": [],
   "source": []
  },
  {
   "cell_type": "code",
   "execution_count": null,
   "id": "69f74f93-67aa-4f67-b8ff-ce65e0e9269c",
   "metadata": {},
   "outputs": [],
   "source": []
  }
 ],
 "metadata": {
  "kernelspec": {
   "display_name": "Python 3 (ipykernel)",
   "language": "python",
   "name": "python3"
  },
  "language_info": {
   "codemirror_mode": {
    "name": "ipython",
    "version": 3
   },
   "file_extension": ".py",
   "mimetype": "text/x-python",
   "name": "python",
   "nbconvert_exporter": "python",
   "pygments_lexer": "ipython3",
   "version": "3.7.11"
  }
 },
 "nbformat": 4,
 "nbformat_minor": 5
}
