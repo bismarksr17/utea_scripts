{
 "cells": [
  {
   "cell_type": "code",
   "execution_count": 45,
   "id": "38ca972c-5ba8-40c9-ae7a-e48d0c89559c",
   "metadata": {},
   "outputs": [],
   "source": [
    "import sys\n",
    "sys.path.append('..')\n",
    "\n",
    "from sqlalchemy import create_engine\n",
    "import geopandas as gpd\n",
    "import numpy as np\n",
    "import pandas as pd\n",
    "\n",
    "from config import RUTA_UNIDAD_ONE_DRIVE\n",
    "from config import RUTA_LOCAL_ONE_DRIVE\n",
    "from config import API_AMIGOCLOUD_TOKEN_ADM\n",
    "from config import POSTGRES_UTEA"
   ]
  },
  {
   "cell_type": "code",
   "execution_count": 22,
   "id": "1896b2d8-6592-49d7-9516-76baf525fd7c",
   "metadata": {},
   "outputs": [],
   "source": [
    "datasets = {\n",
    "    'canha_quemada' : 377418,\n",
    "    'credito_siembra' : 360179\n",
    "}\n",
    "datasets"
   ]
  },
  {
   "cell_type": "code",
   "execution_count": 4,
   "id": "86e99904-1d5d-48e6-864b-d63b4b81f751",
   "metadata": {},
   "outputs": [],
   "source": [
    "def obtener_engine():\n",
    "    return create_engine(\n",
    "        f\"postgresql+psycopg2://{POSTGRES_UTEA['USER']}:{POSTGRES_UTEA['PASSWORD']}@{POSTGRES_UTEA['HOST']}:{POSTGRES_UTEA['PORT']}/{POSTGRES_UTEA['DATABASE']}\"\n",
    "    )\n",
    "    \n",
    "def get_catastro():\n",
    "    engine = obtener_engine()\n",
    "    try:\n",
    "        query = \"\"\"\n",
    "            SELECT idd, geom, unidad_01, unidad_02, \n",
    "                unidad_03, unidad_04, unidad_05, \n",
    "                variedad, soca, textura, cultivo, area \n",
    "            FROM catastro_iag.catastro order by idd\n",
    "        \"\"\"\n",
    "        gdf = gpd.read_postgis(query, engine, geom_col='geom')\n",
    "        return gdf\n",
    "    except Exception as e:\n",
    "        print(f\"❌ Error get catastro: {e}\")\n",
    "        return gpd.GeoDataFrame()\n",
    "    return None\n",
    "\n",
    "def get_catastro_sync():\n",
    "    engine = obtener_engine()\n",
    "    try:\n",
    "        query = \"\"\"\n",
    "            SELECT idd, geom, unidad_01, unidad_02, \n",
    "                unidad_03, unidad_04, unidad_05, \n",
    "                variedad, soca, textura, cultivo, area \n",
    "            FROM amigcloud_sync.catastro_amigocloud_sync order by idd\n",
    "        \"\"\"\n",
    "        gdf = gpd.read_postgis(query, engine, geom_col='geom')\n",
    "        return gdf\n",
    "    except Exception as e:\n",
    "        print(f\"❌ Error get catastro: {e}\")\n",
    "        return gpd.GeoDataFrame()\n",
    "    return None"
   ]
  },
  {
   "cell_type": "code",
   "execution_count": 10,
   "id": "2e5eea15-9b43-4d2f-af82-21f5bdb6e79d",
   "metadata": {},
   "outputs": [],
   "source": [
    "gdf_catastro = get_catastro()\n",
    "gdf_catastro_sync = get_catastro_sync()"
   ]
  },
  {
   "cell_type": "code",
   "execution_count": 11,
   "id": "7279c3e2-1df8-4806-96a5-e362b60fcafa",
   "metadata": {},
   "outputs": [],
   "source": []
  },
  {
   "cell_type": "code",
   "execution_count": null,
   "id": "eaba11c7-bd81-4f20-b7cf-a7536a9a62dd",
   "metadata": {},
   "outputs": [],
   "source": []
  },
  {
   "cell_type": "code",
   "execution_count": null,
   "id": "6023f34a-8e5f-43cd-966b-4146d03661c7",
   "metadata": {},
   "outputs": [],
   "source": []
  },
  {
   "cell_type": "code",
   "execution_count": null,
   "id": "80a251cb-74b0-43af-b9d9-da88f0dec738",
   "metadata": {},
   "outputs": [],
   "source": []
  },
  {
   "cell_type": "code",
   "execution_count": null,
   "id": "8baf0245-e5c4-41ab-8c4d-6d2b4aa13367",
   "metadata": {},
   "outputs": [],
   "source": []
  },
  {
   "cell_type": "code",
   "execution_count": null,
   "id": "7eae7431-f356-4f7b-b473-c76747b5d9ea",
   "metadata": {},
   "outputs": [],
   "source": []
  },
  {
   "cell_type": "code",
   "execution_count": 20,
   "id": "cc82a927-b2f5-49c5-8922-377f74c75172",
   "metadata": {},
   "outputs": [],
   "source": [
    "# identificar registros nuevos\n",
    "reg_nuevos = gdf_catastro[~gdf_catastro['idd'].isin(gdf_catastro_sync['idd'])]\n",
    "\n",
    "# completa campos para registro\n",
    "data_reg_nuevos = reg_nuevos[['idd']].copy()\n",
    "data_reg_nuevos['operacion'] = 'C'\n",
    "data_reg_nuevos['procesado'] = 'false'\n",
    "\n",
    "# iterar en los datasets\n",
    "all_reg_nuevos = None\n",
    "for key in datasets:\n",
    "    data_reg_nuevos['dataset'] = datasets[key]\n",
    "    all_reg_nuevos = pd.concat([all_reg_nuevos, data_reg_nuevos], ignore_index=True)\n",
    "\n",
    "# registro en base de datos\n",
    "all_reg_nuevos.to_sql(\"catastro_sync\", obtener_engine(), schema=\"amigcloud_sync\", if_exists=\"append\", index=False)"
   ]
  },
  {
   "cell_type": "code",
   "execution_count": null,
   "id": "3c96c537-a6e3-419a-85ba-215b764e267f",
   "metadata": {},
   "outputs": [],
   "source": []
  },
  {
   "cell_type": "code",
   "execution_count": null,
   "id": "973cade4-8427-4c81-996f-eb63791efd57",
   "metadata": {},
   "outputs": [],
   "source": []
  },
  {
   "cell_type": "code",
   "execution_count": null,
   "id": "f97be085-6f26-4a6c-8d66-0e26a14d0b01",
   "metadata": {},
   "outputs": [],
   "source": []
  },
  {
   "cell_type": "code",
   "execution_count": null,
   "id": "8a8dbbac-4ff7-4ab4-83b7-c388819193f6",
   "metadata": {},
   "outputs": [],
   "source": []
  },
  {
   "cell_type": "code",
   "execution_count": null,
   "id": "3de6012f-a750-4735-a3f9-11f61ee0942d",
   "metadata": {},
   "outputs": [],
   "source": []
  },
  {
   "cell_type": "code",
   "execution_count": 53,
   "id": "1230efca-c4a5-49d2-8559-0780e5bb13ad",
   "metadata": {},
   "outputs": [],
   "source": [
    "# identificar registros eliminados\n",
    "reg_eliminados = gdf_catastro_sync[~gdf_catastro_sync['idd'].isin(gdf_catastro['idd'])]\n",
    "\n",
    "# completa campos para registro\n",
    "data_reg_eliminados = reg_eliminados[['idd']].copy()\n",
    "data_reg_eliminados['operacion'] = 'D'\n",
    "data_reg_eliminados['procesado'] = 'false'\n",
    "\n",
    "# iterar en los datasets\n",
    "all_reg_eliminados = None\n",
    "for key in datasets:\n",
    "    data_reg_eliminados['dataset'] = datasets[key]\n",
    "    all_reg_eliminados = pd.concat([all_reg_eliminados, data_reg_eliminados], ignore_index=True)\n",
    "\n",
    "# registro en base de datos\n",
    "all_reg_eliminados.to_sql(\"catastro_sync\", obtener_engine(), schema=\"amigcloud_sync\", if_exists=\"append\", index=False)"
   ]
  },
  {
   "cell_type": "code",
   "execution_count": 56,
   "id": "126682e7-e3a1-4da8-84cc-d0d0c703c638",
   "metadata": {},
   "outputs": [],
   "source": []
  },
  {
   "cell_type": "code",
   "execution_count": null,
   "id": "1ec51fd7-d795-49b3-97e7-f204917b0957",
   "metadata": {},
   "outputs": [],
   "source": []
  },
  {
   "cell_type": "code",
   "execution_count": null,
   "id": "57a000c4-1ee3-463e-a7c2-f3d5045b2efa",
   "metadata": {},
   "outputs": [],
   "source": []
  },
  {
   "cell_type": "code",
   "execution_count": null,
   "id": "5d78e6fc-bfef-49b0-bef9-285eeff10104",
   "metadata": {},
   "outputs": [],
   "source": []
  },
  {
   "cell_type": "code",
   "execution_count": null,
   "id": "a4292651-7c24-4d7e-992c-b122387fc9fb",
   "metadata": {},
   "outputs": [],
   "source": []
  },
  {
   "cell_type": "code",
   "execution_count": 63,
   "id": "7db10df1-6eea-4b93-934e-a36576061e42",
   "metadata": {},
   "outputs": [
    {
     "data": {
      "text/plain": [
       "2971"
      ]
     },
     "execution_count": 63,
     "metadata": {},
     "output_type": "execute_result"
    }
   ],
   "source": [
    "reg_comparacion = gdf_catastro_sync.merge(gdf_catastro, on='idd', how='inner', suffixes=('_cat', '_cat_sync'))\n",
    "reg_modificados = reg_comparacion[\n",
    "    (reg_comparacion['unidad_01_cat'] != reg_comparacion['unidad_01_cat_sync']) |\n",
    "    (reg_comparacion['unidad_02_cat'] != reg_comparacion['unidad_02_cat_sync']) |\n",
    "    (reg_comparacion['unidad_03_cat'] != reg_comparacion['unidad_03_cat_sync']) |\n",
    "    (reg_comparacion['unidad_04_cat'] != reg_comparacion['unidad_04_cat_sync']) |\n",
    "    (reg_comparacion['unidad_05_cat'] != reg_comparacion['unidad_05_cat_sync']) |\n",
    "    (reg_comparacion['variedad_cat']  != reg_comparacion['variedad_cat_sync'])  |\n",
    "    (reg_comparacion['soca_cat']      != reg_comparacion['soca_cat_sync'])      |\n",
    "    (reg_comparacion['textura_cat']   != reg_comparacion['textura_cat_sync'])   |\n",
    "    (reg_comparacion['cultivo_cat']   != reg_comparacion['cultivo_cat_sync'])   |\n",
    "    (np.round(reg_comparacion['area_cat'], 1) != np.round(reg_comparacion['area_cat_sync'], 1))\n",
    "]\n",
    "\n",
    "len(reg_modificados)"
   ]
  },
  {
   "cell_type": "code",
   "execution_count": 65,
   "id": "0ed5ecff-aa3a-4502-848d-c036d1d64566",
   "metadata": {},
   "outputs": [],
   "source": [
    "# completa campos para registro\n",
    "data_reg_modificados = reg_modificados[['idd']].copy()\n",
    "data_reg_modificados['operacion'] = 'U'\n",
    "data_reg_modificados['procesado'] = 'false'\n",
    "\n",
    "# iterar en los datasets\n",
    "all_reg_modificados = None\n",
    "for key in datasets:\n",
    "    data_reg_modificados['dataset'] = datasets[key]\n",
    "    all_reg_modificados = pd.concat([all_reg_modificados, data_reg_modificados], ignore_index=True)\n",
    "\n",
    "# registro en base de datos\n",
    "all_reg_modificados.to_sql(\"catastro_sync\", obtener_engine(), schema=\"amigcloud_sync\", if_exists=\"append\", index=False)"
   ]
  },
  {
   "cell_type": "code",
   "execution_count": null,
   "id": "dc1b28a0-7a6a-4935-8611-39cd383bf745",
   "metadata": {},
   "outputs": [],
   "source": []
  },
  {
   "cell_type": "code",
   "execution_count": null,
   "id": "6a925bfa-011c-40a3-a986-6a504b112545",
   "metadata": {},
   "outputs": [],
   "source": []
  },
  {
   "cell_type": "code",
   "execution_count": null,
   "id": "5bf37eaf-f5c4-41e0-96c9-a2f1b961f2e1",
   "metadata": {},
   "outputs": [],
   "source": []
  },
  {
   "cell_type": "code",
   "execution_count": null,
   "id": "f73a16f1-5f60-4567-9249-9752f953aeb0",
   "metadata": {},
   "outputs": [],
   "source": []
  },
  {
   "cell_type": "code",
   "execution_count": null,
   "id": "0f59876b-52d6-4a3e-bae4-eb53564b372b",
   "metadata": {},
   "outputs": [],
   "source": []
  },
  {
   "cell_type": "code",
   "execution_count": null,
   "id": "a19ebec9-01d2-44c7-b7f3-c658f0bd9b44",
   "metadata": {},
   "outputs": [],
   "source": []
  }
 ],
 "metadata": {
  "kernelspec": {
   "display_name": "Python 3 (ipykernel)",
   "language": "python",
   "name": "python3"
  },
  "language_info": {
   "codemirror_mode": {
    "name": "ipython",
    "version": 3
   },
   "file_extension": ".py",
   "mimetype": "text/x-python",
   "name": "python",
   "nbconvert_exporter": "python",
   "pygments_lexer": "ipython3",
   "version": "3.10.13"
  }
 },
 "nbformat": 4,
 "nbformat_minor": 5
}
