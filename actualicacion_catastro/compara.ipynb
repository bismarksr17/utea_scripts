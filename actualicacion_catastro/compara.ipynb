{
 "cells": [
  {
   "cell_type": "code",
   "execution_count": 193,
   "id": "38ca972c-5ba8-40c9-ae7a-e48d0c89559c",
   "metadata": {},
   "outputs": [],
   "source": [
    "import sys\n",
    "sys.path.append('..')\n",
    "\n",
    "from sqlalchemy import create_engine\n",
    "import geopandas as gpd\n",
    "import numpy as np\n",
    "import pandas as pd\n",
    "\n",
    "from shapely.geometry import Polygon\n",
    "from shapely import wkb\n",
    "\n",
    "from config import RUTA_UNIDAD_ONE_DRIVE\n",
    "from config import RUTA_LOCAL_ONE_DRIVE\n",
    "from config import API_AMIGOCLOUD_TOKEN_ADM\n",
    "from config import POSTGRES_UTEA"
   ]
  },
  {
   "cell_type": "code",
   "execution_count": 194,
   "id": "1896b2d8-6592-49d7-9516-76baf525fd7c",
   "metadata": {},
   "outputs": [
    {
     "data": {
      "text/plain": [
       "{'canha_quemada': {'project': 65454, 'dataset': 51666},\n",
       " 'plan_renovacion': {'project': 36292, 'dataset': 382781}}"
      ]
     },
     "execution_count": 194,
     "metadata": {},
     "output_type": "execute_result"
    }
   ],
   "source": [
    "datasets = {\n",
    "    'canha_quemada' : {\n",
    "        'project' : 65454,\n",
    "        'dataset' : 51666\n",
    "    },\n",
    "    'plan_renovacion' : {\n",
    "        'project' : 36292,\n",
    "        'dataset' : 382781\n",
    "    },\n",
    "}\n",
    "datasets"
   ]
  },
  {
   "cell_type": "code",
   "execution_count": 195,
   "id": "86e99904-1d5d-48e6-864b-d63b4b81f751",
   "metadata": {},
   "outputs": [],
   "source": [
    "def obtener_engine():\n",
    "    return create_engine(\n",
    "        f\"postgresql+psycopg2://{POSTGRES_UTEA['USER']}:{POSTGRES_UTEA['PASSWORD']}@{POSTGRES_UTEA['HOST']}:{POSTGRES_UTEA['PORT']}/{POSTGRES_UTEA['DATABASE']}\"\n",
    "    )\n",
    "    \n",
    "def get_catastro():\n",
    "    engine = obtener_engine()\n",
    "    try:\n",
    "        query = \"\"\"\n",
    "            SELECT idd, geom, unidad_01, unidad_02, \n",
    "                unidad_03, unidad_04, unidad_05, \n",
    "                variedad, soca, textura, cultivo, area \n",
    "            FROM catastro_iag.catastro order by idd\n",
    "        \"\"\"\n",
    "        gdf = gpd.read_postgis(query, engine, geom_col='geom')\n",
    "        return gdf\n",
    "    except Exception as e:\n",
    "        print(f\"❌ Error get catastro: {e}\")\n",
    "        return gpd.GeoDataFrame()\n",
    "    return None\n",
    "\n",
    "def get_lote_by_idd(idd):\n",
    "    engine = obtener_engine()\n",
    "    try:\n",
    "        query = f\"\"\"\n",
    "            SELECT idd, geom, unidad_01, unidad_02, \n",
    "                unidad_03, unidad_04, unidad_05, \n",
    "                variedad, soca, textura, cultivo, area \n",
    "            FROM catastro_iag.catastro where idd = {idd}\n",
    "        \"\"\"\n",
    "        gdf = gpd.read_postgis(query, engine, geom_col='geom')\n",
    "        return gdf\n",
    "    except Exception as e:\n",
    "        print(f\"❌ Error al obtener lote by id: {e}\")\n",
    "        return gpd.GeoDataFrame()\n",
    "    return None\n",
    "\n",
    "def get_catastro_sync():\n",
    "    engine = obtener_engine()\n",
    "    try:\n",
    "        query = \"\"\"\n",
    "            SELECT idd, geom, unidad_01, unidad_02, \n",
    "                unidad_03, unidad_04, unidad_05, \n",
    "                variedad, soca, textura, cultivo, area \n",
    "            FROM amigcloud_sync.catastro_amigocloud_sync order by idd\n",
    "        \"\"\"\n",
    "        gdf = gpd.read_postgis(query, engine, geom_col='geom')\n",
    "        return gdf\n",
    "    except Exception as e:\n",
    "        print(f\"❌ Error get catastro: {e}\")\n",
    "        return gpd.GeoDataFrame()\n",
    "    return None\n",
    "\n",
    "def get_registro_sync():\n",
    "    engine = obtener_engine()\n",
    "    try:\n",
    "        query = \"\"\"\n",
    "            SELECT * FROM amigcloud_sync.registro_sync WHERE procesado = false limit 1\n",
    "        \"\"\"\n",
    "        df = pd.read_sql(query, engine)\n",
    "        return df\n",
    "    except Exception as e:\n",
    "        print(f\"❌ Error al obtener resgistros para sincronizar: {e}\")\n",
    "        return gpd.GeoDataFrame()\n",
    "    return None\n",
    "\n",
    "def convertir_a_multipolygon(geometry):\n",
    "    if isinstance(geometry, Polygon):\n",
    "        return MultiPolygon([geometry])\n",
    "    return geometry\n",
    "\n",
    "def convertir_a_wkb(polygon):\n",
    "    wkb_data = wkb.dumps(polygon, hex=True)\n",
    "    return wkb_data"
   ]
  },
  {
   "cell_type": "code",
   "execution_count": 196,
   "id": "2e5eea15-9b43-4d2f-af82-21f5bdb6e79d",
   "metadata": {},
   "outputs": [],
   "source": [
    "gdf_catastro = get_catastro()\n",
    "gdf_catastro_sync = get_catastro_sync()"
   ]
  },
  {
   "cell_type": "code",
   "execution_count": 197,
   "id": "6023f34a-8e5f-43cd-966b-4146d03661c7",
   "metadata": {},
   "outputs": [],
   "source": [
    "gdf_catastro[\"idd\"] = gdf_catastro[\"idd\"].astype(str)\n",
    "gdf_catastro[\"unidad_01\"] = gdf_catastro[\"unidad_01\"].astype(str)\n",
    "gdf_catastro[\"unidad_02\"] = gdf_catastro[\"unidad_02\"].astype(str)\n",
    "gdf_catastro[\"unidad_03\"] = gdf_catastro[\"unidad_03\"].astype(str)\n",
    "gdf_catastro[\"unidad_04\"] = gdf_catastro[\"unidad_04\"].astype(str)\n",
    "gdf_catastro[\"unidad_05\"] = gdf_catastro[\"unidad_05\"].astype(str)\n",
    "gdf_catastro[\"variedad\"] = gdf_catastro[\"variedad\"].astype(str)\n",
    "gdf_catastro[\"soca\"] = gdf_catastro[\"soca\"].astype(str)\n",
    "gdf_catastro[\"textura\"] = gdf_catastro[\"textura\"].astype(str)\n",
    "gdf_catastro[\"cultivo\"] = gdf_catastro[\"cultivo\"].astype(str)\n",
    "gdf_catastro[\"area\"] = gdf_catastro[\"area\"].astype(float)\n",
    "\n",
    "gdf_catastro_sync[\"idd\"] = gdf_catastro_sync[\"idd\"].astype(str)\n",
    "gdf_catastro_sync[\"unidad_01\"] = gdf_catastro_sync[\"unidad_01\"].astype(str)\n",
    "gdf_catastro_sync[\"unidad_02\"] = gdf_catastro_sync[\"unidad_02\"].astype(str)\n",
    "gdf_catastro_sync[\"unidad_03\"] = gdf_catastro_sync[\"unidad_03\"].astype(str)\n",
    "gdf_catastro_sync[\"unidad_04\"] = gdf_catastro_sync[\"unidad_04\"].astype(str)\n",
    "gdf_catastro_sync[\"unidad_05\"] = gdf_catastro_sync[\"unidad_05\"].astype(str)\n",
    "gdf_catastro_sync[\"variedad\"] = gdf_catastro_sync[\"variedad\"].astype(str)\n",
    "gdf_catastro_sync[\"soca\"] = gdf_catastro_sync[\"soca\"].astype(str)\n",
    "gdf_catastro_sync[\"textura\"] = gdf_catastro_sync[\"textura\"].astype(str)\n",
    "gdf_catastro_sync[\"cultivo\"] = gdf_catastro_sync[\"cultivo\"].astype(str)\n",
    "gdf_catastro_sync[\"area\"] = gdf_catastro_sync[\"area\"].astype(float)"
   ]
  },
  {
   "cell_type": "code",
   "execution_count": null,
   "id": "80a251cb-74b0-43af-b9d9-da88f0dec738",
   "metadata": {},
   "outputs": [],
   "source": []
  },
  {
   "cell_type": "code",
   "execution_count": 198,
   "id": "8baf0245-e5c4-41ab-8c4d-6d2b4aa13367",
   "metadata": {},
   "outputs": [
    {
     "data": {
      "text/plain": [
       "{'canha_quemada': {'project': 65454, 'dataset': 51666},\n",
       " 'plan_renovacion': {'project': 36292, 'dataset': 382781}}"
      ]
     },
     "execution_count": 198,
     "metadata": {},
     "output_type": "execute_result"
    }
   ],
   "source": [
    "datasets"
   ]
  },
  {
   "cell_type": "code",
   "execution_count": null,
   "id": "7eae7431-f356-4f7b-b473-c76747b5d9ea",
   "metadata": {},
   "outputs": [],
   "source": []
  },
  {
   "cell_type": "code",
   "execution_count": 199,
   "id": "cc82a927-b2f5-49c5-8922-377f74c75172",
   "metadata": {},
   "outputs": [
    {
     "data": {
      "text/plain": [
       "0"
      ]
     },
     "execution_count": 199,
     "metadata": {},
     "output_type": "execute_result"
    }
   ],
   "source": [
    "# identificar registros nuevos\n",
    "reg_nuevos = gdf_catastro[~gdf_catastro['idd'].isin(gdf_catastro_sync['idd'])]\n",
    "\n",
    "# completa campos para registro\n",
    "data_reg_nuevos = reg_nuevos[['idd']].copy()\n",
    "data_reg_nuevos['operacion'] = 'C'\n",
    "data_reg_nuevos['procesado'] = 'false'\n",
    "\n",
    "# iterar en los datasets\n",
    "all_reg_nuevos = None\n",
    "for key in datasets:\n",
    "    data_reg_nuevos['dataset'] = datasets[key]['dataset']\n",
    "    data_reg_nuevos['project'] = datasets[key]['project']\n",
    "    all_reg_nuevos = pd.concat([all_reg_nuevos, data_reg_nuevos], ignore_index=True)\n",
    "\n",
    "# registro en base de datos\n",
    "all_reg_nuevos.to_sql(\"registro_sync\", obtener_engine(), schema=\"amigcloud_sync\", if_exists=\"append\", index=False)"
   ]
  },
  {
   "cell_type": "code",
   "execution_count": null,
   "id": "f97be085-6f26-4a6c-8d66-0e26a14d0b01",
   "metadata": {},
   "outputs": [],
   "source": []
  },
  {
   "cell_type": "code",
   "execution_count": null,
   "id": "547f00f9-dc0c-4667-afd9-75705e3a378e",
   "metadata": {},
   "outputs": [],
   "source": []
  },
  {
   "cell_type": "code",
   "execution_count": null,
   "id": "6faf7a2b-34de-4f34-8bd7-dd9fd0b748ec",
   "metadata": {},
   "outputs": [],
   "source": []
  },
  {
   "cell_type": "code",
   "execution_count": null,
   "id": "8a8dbbac-4ff7-4ab4-83b7-c388819193f6",
   "metadata": {},
   "outputs": [],
   "source": []
  },
  {
   "cell_type": "code",
   "execution_count": null,
   "id": "3de6012f-a750-4735-a3f9-11f61ee0942d",
   "metadata": {},
   "outputs": [],
   "source": []
  },
  {
   "cell_type": "code",
   "execution_count": 200,
   "id": "1230efca-c4a5-49d2-8559-0780e5bb13ad",
   "metadata": {},
   "outputs": [
    {
     "data": {
      "text/plain": [
       "0"
      ]
     },
     "execution_count": 200,
     "metadata": {},
     "output_type": "execute_result"
    }
   ],
   "source": [
    "# identificar registros eliminados\n",
    "reg_eliminados = gdf_catastro_sync[~gdf_catastro_sync['idd'].isin(gdf_catastro['idd'])]\n",
    "\n",
    "# completa campos para registro\n",
    "data_reg_eliminados = reg_eliminados[['idd']].copy()\n",
    "data_reg_eliminados['operacion'] = 'D'\n",
    "data_reg_eliminados['procesado'] = 'false'\n",
    "\n",
    "# iterar en los datasets\n",
    "all_reg_eliminados = None\n",
    "for key in datasets:\n",
    "    data_reg_eliminados['dataset'] = datasets[key]['dataset']\n",
    "    data_reg_eliminados['project'] = datasets[key]['project']\n",
    "    all_reg_eliminados = pd.concat([all_reg_eliminados, data_reg_eliminados], ignore_index=True)\n",
    "\n",
    "# registro en base de datos\n",
    "all_reg_eliminados.to_sql(\"registro_sync\", obtener_engine(), schema=\"amigcloud_sync\", if_exists=\"append\", index=False)"
   ]
  },
  {
   "cell_type": "code",
   "execution_count": null,
   "id": "ee53bc2d-5550-41a5-8aed-867737f15c6a",
   "metadata": {},
   "outputs": [],
   "source": []
  },
  {
   "cell_type": "code",
   "execution_count": null,
   "id": "459878bf-3023-46de-a287-ccd64daa19b0",
   "metadata": {},
   "outputs": [],
   "source": []
  },
  {
   "cell_type": "code",
   "execution_count": null,
   "id": "ca6df289-6872-4110-92b4-489810a93ac5",
   "metadata": {},
   "outputs": [],
   "source": []
  },
  {
   "cell_type": "code",
   "execution_count": null,
   "id": "5d78e6fc-bfef-49b0-bef9-285eeff10104",
   "metadata": {},
   "outputs": [],
   "source": []
  },
  {
   "cell_type": "code",
   "execution_count": 175,
   "id": "a4292651-7c24-4d7e-992c-b122387fc9fb",
   "metadata": {},
   "outputs": [],
   "source": []
  },
  {
   "cell_type": "code",
   "execution_count": 207,
   "id": "7db10df1-6eea-4b93-934e-a36576061e42",
   "metadata": {},
   "outputs": [
    {
     "data": {
      "text/plain": [
       "0"
      ]
     },
     "execution_count": 207,
     "metadata": {},
     "output_type": "execute_result"
    }
   ],
   "source": [
    "reg_comparacion = gdf_catastro_sync.merge(gdf_catastro, on='idd', how='inner', suffixes=('_cat', '_cat_sync'))\n",
    "reg_modificados = reg_comparacion[\n",
    "    (reg_comparacion['unidad_01_cat'] != reg_comparacion['unidad_01_cat_sync']) |\n",
    "    (reg_comparacion['unidad_02_cat'] != reg_comparacion['unidad_02_cat_sync']) |\n",
    "    (reg_comparacion['unidad_03_cat'] != reg_comparacion['unidad_03_cat_sync']) |\n",
    "    (reg_comparacion['unidad_04_cat'] != reg_comparacion['unidad_04_cat_sync']) |\n",
    "    (reg_comparacion['unidad_05_cat'] != reg_comparacion['unidad_05_cat_sync']) |\n",
    "    (reg_comparacion['variedad_cat']  != reg_comparacion['variedad_cat_sync'])  |\n",
    "    (reg_comparacion['soca_cat']      != reg_comparacion['soca_cat_sync'])      |\n",
    "    (reg_comparacion['textura_cat']   != reg_comparacion['textura_cat_sync'])   |\n",
    "    (reg_comparacion['cultivo_cat']   != reg_comparacion['cultivo_cat_sync'])   |\n",
    "    (np.round(reg_comparacion['area_cat'], 0) != np.round(reg_comparacion['area_cat_sync'], 0))\n",
    "]\n",
    "\n",
    "len(reg_modificados)"
   ]
  },
  {
   "cell_type": "code",
   "execution_count": 208,
   "id": "bb32e86a-43fe-42b3-a7ac-5ad4760292e2",
   "metadata": {},
   "outputs": [
    {
     "data": {
      "text/html": [
       "<div>\n",
       "<style scoped>\n",
       "    .dataframe tbody tr th:only-of-type {\n",
       "        vertical-align: middle;\n",
       "    }\n",
       "\n",
       "    .dataframe tbody tr th {\n",
       "        vertical-align: top;\n",
       "    }\n",
       "\n",
       "    .dataframe thead th {\n",
       "        text-align: right;\n",
       "    }\n",
       "</style>\n",
       "<table border=\"1\" class=\"dataframe\">\n",
       "  <thead>\n",
       "    <tr style=\"text-align: right;\">\n",
       "      <th></th>\n",
       "      <th>idd</th>\n",
       "      <th>geom_cat</th>\n",
       "      <th>unidad_01_cat</th>\n",
       "      <th>unidad_02_cat</th>\n",
       "      <th>unidad_03_cat</th>\n",
       "      <th>unidad_04_cat</th>\n",
       "      <th>unidad_05_cat</th>\n",
       "      <th>variedad_cat</th>\n",
       "      <th>soca_cat</th>\n",
       "      <th>textura_cat</th>\n",
       "      <th>...</th>\n",
       "      <th>unidad_01_cat_sync</th>\n",
       "      <th>unidad_02_cat_sync</th>\n",
       "      <th>unidad_03_cat_sync</th>\n",
       "      <th>unidad_04_cat_sync</th>\n",
       "      <th>unidad_05_cat_sync</th>\n",
       "      <th>variedad_cat_sync</th>\n",
       "      <th>soca_cat_sync</th>\n",
       "      <th>textura_cat_sync</th>\n",
       "      <th>cultivo_cat_sync</th>\n",
       "      <th>area_cat_sync</th>\n",
       "    </tr>\n",
       "  </thead>\n",
       "  <tbody>\n",
       "  </tbody>\n",
       "</table>\n",
       "<p>0 rows × 23 columns</p>\n",
       "</div>"
      ],
      "text/plain": [
       "Empty DataFrame\n",
       "Columns: [idd, geom_cat, unidad_01_cat, unidad_02_cat, unidad_03_cat, unidad_04_cat, unidad_05_cat, variedad_cat, soca_cat, textura_cat, cultivo_cat, area_cat, geom_cat_sync, unidad_01_cat_sync, unidad_02_cat_sync, unidad_03_cat_sync, unidad_04_cat_sync, unidad_05_cat_sync, variedad_cat_sync, soca_cat_sync, textura_cat_sync, cultivo_cat_sync, area_cat_sync]\n",
       "Index: []\n",
       "\n",
       "[0 rows x 23 columns]"
      ]
     },
     "execution_count": 208,
     "metadata": {},
     "output_type": "execute_result"
    }
   ],
   "source": [
    "reg_modificados"
   ]
  },
  {
   "cell_type": "code",
   "execution_count": null,
   "id": "2127da45-5edb-4a09-bd36-f7a34cacf1a8",
   "metadata": {},
   "outputs": [],
   "source": []
  },
  {
   "cell_type": "code",
   "execution_count": 209,
   "id": "0ed5ecff-aa3a-4502-848d-c036d1d64566",
   "metadata": {},
   "outputs": [
    {
     "data": {
      "text/plain": [
       "0"
      ]
     },
     "execution_count": 209,
     "metadata": {},
     "output_type": "execute_result"
    }
   ],
   "source": [
    "\n",
    "# completa campos para registro\n",
    "data_reg_modificados = reg_modificados[['idd']].copy()\n",
    "data_reg_modificados['operacion'] = 'U'\n",
    "data_reg_modificados['procesado'] = 'false'\n",
    "\n",
    "# iterar en los datasets\n",
    "all_reg_modificados = None\n",
    "for key in datasets:\n",
    "    data_reg_modificados['dataset'] = datasets[key]['dataset']\n",
    "    data_reg_modificados['project'] = datasets[key]['project']\n",
    "    all_reg_modificados = pd.concat([all_reg_modificados, data_reg_modificados], ignore_index=True)\n",
    "\n",
    "# registro en base de datos\n",
    "all_reg_modificados.to_sql(\"registro_sync\", obtener_engine(), schema=\"amigcloud_sync\", if_exists=\"append\", index=False)"
   ]
  },
  {
   "cell_type": "code",
   "execution_count": null,
   "id": "dc1b28a0-7a6a-4935-8611-39cd383bf745",
   "metadata": {},
   "outputs": [],
   "source": []
  },
  {
   "cell_type": "code",
   "execution_count": null,
   "id": "6a925bfa-011c-40a3-a986-6a504b112545",
   "metadata": {},
   "outputs": [],
   "source": []
  },
  {
   "cell_type": "code",
   "execution_count": null,
   "id": "5bf37eaf-f5c4-41e0-96c9-a2f1b961f2e1",
   "metadata": {},
   "outputs": [],
   "source": []
  },
  {
   "cell_type": "code",
   "execution_count": null,
   "id": "f73a16f1-5f60-4567-9249-9752f953aeb0",
   "metadata": {},
   "outputs": [],
   "source": []
  },
  {
   "cell_type": "code",
   "execution_count": null,
   "id": "3478fd4c-68a0-41f4-a374-bbc18d4e3455",
   "metadata": {},
   "outputs": [],
   "source": []
  },
  {
   "cell_type": "code",
   "execution_count": null,
   "id": "aba35069-ddf3-4b75-892c-7c45b4307e6d",
   "metadata": {},
   "outputs": [],
   "source": []
  },
  {
   "cell_type": "code",
   "execution_count": null,
   "id": "4ca6c129-3c18-4d14-8ab9-73b66f1eb615",
   "metadata": {},
   "outputs": [],
   "source": []
  },
  {
   "cell_type": "code",
   "execution_count": null,
   "id": "a0c092ef-e1f6-49cb-a432-0be5d2b724dd",
   "metadata": {},
   "outputs": [],
   "source": []
  },
  {
   "cell_type": "code",
   "execution_count": null,
   "id": "502a5ee5-6a6d-436a-ba88-bd972160a8b9",
   "metadata": {},
   "outputs": [],
   "source": []
  },
  {
   "cell_type": "code",
   "execution_count": null,
   "id": "d96ec906-ccd0-48df-9b44-a9ea721be9d7",
   "metadata": {},
   "outputs": [],
   "source": []
  },
  {
   "cell_type": "code",
   "execution_count": null,
   "id": "6a04b413-932f-459b-b494-daf99b239398",
   "metadata": {},
   "outputs": [],
   "source": []
  },
  {
   "cell_type": "code",
   "execution_count": null,
   "id": "dd2a10ea-0265-4d8e-8d5e-a5c3159ff364",
   "metadata": {},
   "outputs": [],
   "source": []
  },
  {
   "cell_type": "code",
   "execution_count": 127,
   "id": "64f13a38-adc7-42ea-815f-317912873c6c",
   "metadata": {},
   "outputs": [
    {
     "data": {
      "text/html": [
       "<div>\n",
       "<style scoped>\n",
       "    .dataframe tbody tr th:only-of-type {\n",
       "        vertical-align: middle;\n",
       "    }\n",
       "\n",
       "    .dataframe tbody tr th {\n",
       "        vertical-align: top;\n",
       "    }\n",
       "\n",
       "    .dataframe thead th {\n",
       "        text-align: right;\n",
       "    }\n",
       "</style>\n",
       "<table border=\"1\" class=\"dataframe\">\n",
       "  <thead>\n",
       "    <tr style=\"text-align: right;\">\n",
       "      <th></th>\n",
       "      <th>id</th>\n",
       "      <th>idd</th>\n",
       "      <th>operacion</th>\n",
       "      <th>dataset</th>\n",
       "      <th>procesado</th>\n",
       "      <th>project</th>\n",
       "    </tr>\n",
       "  </thead>\n",
       "  <tbody>\n",
       "    <tr>\n",
       "      <th>0</th>\n",
       "      <td>12001</td>\n",
       "      <td>14966</td>\n",
       "      <td>C</td>\n",
       "      <td>51666</td>\n",
       "      <td>False</td>\n",
       "      <td>65454</td>\n",
       "    </tr>\n",
       "  </tbody>\n",
       "</table>\n",
       "</div>"
      ],
      "text/plain": [
       "      id    idd operacion  dataset  procesado  project\n",
       "0  12001  14966         C    51666      False    65454"
      ]
     },
     "execution_count": 127,
     "metadata": {},
     "output_type": "execute_result"
    }
   ],
   "source": [
    "lote = get_registro_sync()\n",
    "lote"
   ]
  },
  {
   "cell_type": "code",
   "execution_count": 128,
   "id": "1170cae2-e7eb-47bf-8992-09b6551eb682",
   "metadata": {},
   "outputs": [],
   "source": [
    "if lote['operacion'][0] == 'C':\n",
    "    None\n",
    "elif lote['operacion'][0] == 'D':\n",
    "    None\n",
    "elif lote['operacion'][0] == 'U':\n",
    "    None\n",
    "else:\n",
    "    print('Operación no definida')"
   ]
  },
  {
   "cell_type": "code",
   "execution_count": null,
   "id": "33481e10-89c4-4395-afe5-e4e306fd202f",
   "metadata": {},
   "outputs": [],
   "source": []
  },
  {
   "cell_type": "code",
   "execution_count": 101,
   "id": "5ecf5c43-8217-4f28-bc45-fd6c9a03e075",
   "metadata": {},
   "outputs": [],
   "source": [
    "#create"
   ]
  },
  {
   "cell_type": "code",
   "execution_count": 129,
   "id": "0ec603c3-43d9-442d-9f98-7cc27b05cd49",
   "metadata": {},
   "outputs": [
    {
     "data": {
      "text/html": [
       "<div>\n",
       "<style scoped>\n",
       "    .dataframe tbody tr th:only-of-type {\n",
       "        vertical-align: middle;\n",
       "    }\n",
       "\n",
       "    .dataframe tbody tr th {\n",
       "        vertical-align: top;\n",
       "    }\n",
       "\n",
       "    .dataframe thead th {\n",
       "        text-align: right;\n",
       "    }\n",
       "</style>\n",
       "<table border=\"1\" class=\"dataframe\">\n",
       "  <thead>\n",
       "    <tr style=\"text-align: right;\">\n",
       "      <th></th>\n",
       "      <th>idd</th>\n",
       "      <th>geom</th>\n",
       "      <th>unidad_01</th>\n",
       "      <th>unidad_02</th>\n",
       "      <th>unidad_03</th>\n",
       "      <th>unidad_04</th>\n",
       "      <th>unidad_05</th>\n",
       "      <th>variedad</th>\n",
       "      <th>soca</th>\n",
       "      <th>textura</th>\n",
       "      <th>cultivo</th>\n",
       "      <th>area</th>\n",
       "    </tr>\n",
       "  </thead>\n",
       "  <tbody>\n",
       "    <tr>\n",
       "      <th>0</th>\n",
       "      <td>14966</td>\n",
       "      <td>MULTIPOLYGON (((481092.293 8089434.165, 481685...</td>\n",
       "      <td>256.0</td>\n",
       "      <td>LOS ANDES--AGUILERA</td>\n",
       "      <td>794.0</td>\n",
       "      <td>AGUILERA WENDE MARIANO</td>\n",
       "      <td>LA18.2</td>\n",
       "      <td>UCG9020</td>\n",
       "      <td>2.0</td>\n",
       "      <td>FA</td>\n",
       "      <td>canha</td>\n",
       "      <td>14.676853</td>\n",
       "    </tr>\n",
       "  </tbody>\n",
       "</table>\n",
       "</div>"
      ],
      "text/plain": [
       "     idd                                               geom  unidad_01  \\\n",
       "0  14966  MULTIPOLYGON (((481092.293 8089434.165, 481685...      256.0   \n",
       "\n",
       "             unidad_02  unidad_03               unidad_04 unidad_05 variedad  \\\n",
       "0  LOS ANDES--AGUILERA      794.0  AGUILERA WENDE MARIANO    LA18.2  UCG9020   \n",
       "\n",
       "   soca textura cultivo       area  \n",
       "0   2.0      FA   canha  14.676853  "
      ]
     },
     "execution_count": 129,
     "metadata": {},
     "output_type": "execute_result"
    }
   ],
   "source": [
    "lote_new = get_lote_by_idd(lote['idd'][0])\n",
    "lote_new"
   ]
  },
  {
   "cell_type": "code",
   "execution_count": 130,
   "id": "1af72d7a-308f-453e-9b86-81994091a6b2",
   "metadata": {},
   "outputs": [],
   "source": [
    "# repreyectar a WGS84\n",
    "lote_new = lote_new.to_crs(epsg=4326)"
   ]
  },
  {
   "cell_type": "code",
   "execution_count": 131,
   "id": "68750e97-26b6-41a4-b2a0-e29a1158989e",
   "metadata": {},
   "outputs": [
    {
     "data": {
      "text/html": [
       "<div>\n",
       "<style scoped>\n",
       "    .dataframe tbody tr th:only-of-type {\n",
       "        vertical-align: middle;\n",
       "    }\n",
       "\n",
       "    .dataframe tbody tr th {\n",
       "        vertical-align: top;\n",
       "    }\n",
       "\n",
       "    .dataframe thead th {\n",
       "        text-align: right;\n",
       "    }\n",
       "</style>\n",
       "<table border=\"1\" class=\"dataframe\">\n",
       "  <thead>\n",
       "    <tr style=\"text-align: right;\">\n",
       "      <th></th>\n",
       "      <th>idd</th>\n",
       "      <th>geom</th>\n",
       "      <th>unidad_01</th>\n",
       "      <th>unidad_02</th>\n",
       "      <th>unidad_03</th>\n",
       "      <th>unidad_04</th>\n",
       "      <th>unidad_05</th>\n",
       "      <th>variedad</th>\n",
       "      <th>soca</th>\n",
       "      <th>textura</th>\n",
       "      <th>cultivo</th>\n",
       "      <th>area</th>\n",
       "    </tr>\n",
       "  </thead>\n",
       "  <tbody>\n",
       "    <tr>\n",
       "      <th>0</th>\n",
       "      <td>14966</td>\n",
       "      <td>MULTIPOLYGON (((-63.17790 -17.28024, -63.17232...</td>\n",
       "      <td>256.0</td>\n",
       "      <td>LOS ANDES--AGUILERA</td>\n",
       "      <td>794.0</td>\n",
       "      <td>AGUILERA WENDE MARIANO</td>\n",
       "      <td>LA18.2</td>\n",
       "      <td>UCG9020</td>\n",
       "      <td>2.0</td>\n",
       "      <td>FA</td>\n",
       "      <td>canha</td>\n",
       "      <td>14.676853</td>\n",
       "    </tr>\n",
       "  </tbody>\n",
       "</table>\n",
       "</div>"
      ],
      "text/plain": [
       "     idd                                               geom  unidad_01  \\\n",
       "0  14966  MULTIPOLYGON (((-63.17790 -17.28024, -63.17232...      256.0   \n",
       "\n",
       "             unidad_02  unidad_03               unidad_04 unidad_05 variedad  \\\n",
       "0  LOS ANDES--AGUILERA      794.0  AGUILERA WENDE MARIANO    LA18.2  UCG9020   \n",
       "\n",
       "   soca textura cultivo       area  \n",
       "0   2.0      FA   canha  14.676853  "
      ]
     },
     "execution_count": 131,
     "metadata": {},
     "output_type": "execute_result"
    }
   ],
   "source": [
    "lote_new"
   ]
  },
  {
   "cell_type": "code",
   "execution_count": 136,
   "id": "d0b06069-431e-4fc5-8942-1c5e3b82ac19",
   "metadata": {},
   "outputs": [],
   "source": [
    "# convertir poligonos a multipoligonos\n",
    "lote_new['geom'] = lote_new['geom'].apply(convertir_a_multipolygon)"
   ]
  },
  {
   "cell_type": "code",
   "execution_count": 137,
   "id": "f168ab75-a047-4ed1-9c36-2f979f92c4ca",
   "metadata": {},
   "outputs": [
    {
     "data": {
      "text/html": [
       "<div>\n",
       "<style scoped>\n",
       "    .dataframe tbody tr th:only-of-type {\n",
       "        vertical-align: middle;\n",
       "    }\n",
       "\n",
       "    .dataframe tbody tr th {\n",
       "        vertical-align: top;\n",
       "    }\n",
       "\n",
       "    .dataframe thead th {\n",
       "        text-align: right;\n",
       "    }\n",
       "</style>\n",
       "<table border=\"1\" class=\"dataframe\">\n",
       "  <thead>\n",
       "    <tr style=\"text-align: right;\">\n",
       "      <th></th>\n",
       "      <th>idd</th>\n",
       "      <th>geom</th>\n",
       "      <th>unidad_01</th>\n",
       "      <th>unidad_02</th>\n",
       "      <th>unidad_03</th>\n",
       "      <th>unidad_04</th>\n",
       "      <th>unidad_05</th>\n",
       "      <th>variedad</th>\n",
       "      <th>soca</th>\n",
       "      <th>textura</th>\n",
       "      <th>cultivo</th>\n",
       "      <th>area</th>\n",
       "    </tr>\n",
       "  </thead>\n",
       "  <tbody>\n",
       "    <tr>\n",
       "      <th>0</th>\n",
       "      <td>14966</td>\n",
       "      <td>MULTIPOLYGON (((-63.17790 -17.28024, -63.17232...</td>\n",
       "      <td>256.0</td>\n",
       "      <td>LOS ANDES--AGUILERA</td>\n",
       "      <td>794.0</td>\n",
       "      <td>AGUILERA WENDE MARIANO</td>\n",
       "      <td>LA18.2</td>\n",
       "      <td>UCG9020</td>\n",
       "      <td>2.0</td>\n",
       "      <td>FA</td>\n",
       "      <td>canha</td>\n",
       "      <td>14.676853</td>\n",
       "    </tr>\n",
       "  </tbody>\n",
       "</table>\n",
       "</div>"
      ],
      "text/plain": [
       "     idd                                               geom  unidad_01  \\\n",
       "0  14966  MULTIPOLYGON (((-63.17790 -17.28024, -63.17232...      256.0   \n",
       "\n",
       "             unidad_02  unidad_03               unidad_04 unidad_05 variedad  \\\n",
       "0  LOS ANDES--AGUILERA      794.0  AGUILERA WENDE MARIANO    LA18.2  UCG9020   \n",
       "\n",
       "   soca textura cultivo       area  \n",
       "0   2.0      FA   canha  14.676853  "
      ]
     },
     "execution_count": 137,
     "metadata": {},
     "output_type": "execute_result"
    }
   ],
   "source": [
    "lote_new"
   ]
  },
  {
   "cell_type": "code",
   "execution_count": 142,
   "id": "a466960d-4568-4778-9bf1-f676055a7e4c",
   "metadata": {},
   "outputs": [],
   "source": [
    "wkb_hex = convertir_a_wkb(lote_new['geom'][0])"
   ]
  },
  {
   "cell_type": "code",
   "execution_count": 143,
   "id": "16ee3fcf-25fd-489e-a94b-a7556336ff38",
   "metadata": {},
   "outputs": [
    {
     "data": {
      "text/plain": [
       "'0106000000010000000103000000010000000D000000C3C57D5DC5964FC01485E3DEBD4731C02492DD730E964FC08D253BFDAF4731C0089603DA15964FC095D9DF33CC4731C0A61BB62019964FC01C1C38D0E24731C0B842E7661A964FC06DCC749BEB4731C093FE8C8A28964FC0C5DDA6C5314831C047D63E132B964FC02D93F4823A4831C00D48F608B6964FC044D1283C424831C029B53100BA964FC0A995B266424831C061E4B643DD964FC04AFB181D444831C048061BA7EA964FC0E0F209B1C04731C00D47BE5CC6964FC006B737F3BD4731C0C3C57D5DC5964FC01485E3DEBD4731C0'"
      ]
     },
     "execution_count": 143,
     "metadata": {},
     "output_type": "execute_result"
    }
   ],
   "source": [
    "insert_sql = f\"\"\"\n",
    "    INSERT INTO dataset_345601 (id, unidad_01, unidad_02, unidad_03, unidad_04, unidad_05, area, origen, dias, os, etiqueta, producto, dosis, cantidad, geometry)\n",
    "    VALUES ({row['id']}, {row['unidad_01']}, '{row['unidad_02']}', {row['unidad_03']}, '{row['unidad_04']}', '{row['unidad_05']}', {row['area']}, '{row['origen']}', '{row['dias']}', '{row['os']}', '{str(round(row['area'],2)) + 'ha - ' + str(round(row['producto_cantidad'],2)) + 'ml'}', '{row['producto_plan']}', {row['producto_dosis']}, {row['producto_cantidad']}, ST_SetSRID(ST_GeomFromWKB('\\\\x{wkb_hex}'), 4326));\n",
    "    \"\"\""
   ]
  },
  {
   "cell_type": "code",
   "execution_count": null,
   "id": "9dc1dd3e-f740-417d-a6bc-11c1be5cae20",
   "metadata": {},
   "outputs": [],
   "source": []
  },
  {
   "cell_type": "code",
   "execution_count": null,
   "id": "96f04dc6-1e74-4b5f-93a6-e3b4b86a5dcc",
   "metadata": {},
   "outputs": [],
   "source": []
  },
  {
   "cell_type": "code",
   "execution_count": null,
   "id": "0591df0a-75c3-427a-8ad1-17f9f073a4c5",
   "metadata": {},
   "outputs": [],
   "source": []
  },
  {
   "cell_type": "code",
   "execution_count": null,
   "id": "6c5d47be-4843-49b5-839c-a91fb01af064",
   "metadata": {},
   "outputs": [],
   "source": []
  },
  {
   "cell_type": "code",
   "execution_count": null,
   "id": "19fdb136-a783-4732-bf97-93fcf18f4b6c",
   "metadata": {},
   "outputs": [],
   "source": []
  },
  {
   "cell_type": "code",
   "execution_count": null,
   "id": "35714fe7-b08d-4aa2-b441-829f639bb4bf",
   "metadata": {},
   "outputs": [],
   "source": [
    "def ejecutar_query_sql(id_project, query):\n",
    "    url_proyecto_sql = f'https://app.amigocloud.com/api/v1/projects/{id_project}/sql'\n",
    "    query_sql = {'query': query}\n",
    "    try:\n",
    "        return amigocloud.post(url_proyecto_sql, query_sql)\n",
    "    except Exception as e:\n",
    "        print(f\"Error al ejecutar la consulta SQL: {e}\")\n",
    "    return None"
   ]
  },
  {
   "cell_type": "code",
   "execution_count": null,
   "id": "f55e0137-a07e-442d-b803-9b3d0415a8d0",
   "metadata": {},
   "outputs": [],
   "source": []
  },
  {
   "cell_type": "code",
   "execution_count": null,
   "id": "37a3116a-378e-4b84-ae8a-030fb8feb391",
   "metadata": {},
   "outputs": [],
   "source": []
  },
  {
   "cell_type": "code",
   "execution_count": null,
   "id": "c531f933-7c02-4046-85db-d781201a2304",
   "metadata": {},
   "outputs": [],
   "source": []
  },
  {
   "cell_type": "code",
   "execution_count": null,
   "id": "c521114f-4a0d-4f63-8ce9-f5e014ac8544",
   "metadata": {},
   "outputs": [],
   "source": []
  },
  {
   "cell_type": "code",
   "execution_count": null,
   "id": "af462b7b-3a6e-4323-811d-c33ae07e2978",
   "metadata": {},
   "outputs": [],
   "source": []
  },
  {
   "cell_type": "code",
   "execution_count": null,
   "id": "16b155d5-6a7d-4187-a3dd-bc4a0594668b",
   "metadata": {},
   "outputs": [],
   "source": []
  },
  {
   "cell_type": "code",
   "execution_count": null,
   "id": "5a87cd03-3f14-4f7d-922c-e11dd4b043d7",
   "metadata": {},
   "outputs": [],
   "source": []
  },
  {
   "cell_type": "code",
   "execution_count": null,
   "id": "2aabdcac-8b96-4cfa-ba13-c129599e64b8",
   "metadata": {},
   "outputs": [],
   "source": [
    "B"
   ]
  },
  {
   "cell_type": "code",
   "execution_count": null,
   "id": "0bf8d788-55eb-4b7c-bda7-9e6b7d7b6a3d",
   "metadata": {},
   "outputs": [],
   "source": []
  },
  {
   "cell_type": "code",
   "execution_count": null,
   "id": "81b7bac6-204e-4b8c-94f7-b94604775de2",
   "metadata": {},
   "outputs": [],
   "source": []
  },
  {
   "cell_type": "code",
   "execution_count": null,
   "id": "f426cb68-95a6-4b03-ad46-d5eaa1d5cfb0",
   "metadata": {},
   "outputs": [],
   "source": []
  },
  {
   "cell_type": "code",
   "execution_count": null,
   "id": "e96e103d-250c-4d90-8e6f-fce28ffbb81b",
   "metadata": {},
   "outputs": [],
   "source": []
  },
  {
   "cell_type": "code",
   "execution_count": null,
   "id": "59b092d3-b5ba-43c9-8840-2663c7d2aa0e",
   "metadata": {},
   "outputs": [],
   "source": []
  },
  {
   "cell_type": "code",
   "execution_count": null,
   "id": "a51c9d43-d897-499f-b224-05a1be202e07",
   "metadata": {},
   "outputs": [],
   "source": []
  },
  {
   "cell_type": "code",
   "execution_count": null,
   "id": "27d04551-b4cc-4fa4-a7d7-5453c3d4ad15",
   "metadata": {},
   "outputs": [],
   "source": []
  },
  {
   "cell_type": "code",
   "execution_count": null,
   "id": "cc933d49-7f4b-42de-bb6d-a6492138bb79",
   "metadata": {},
   "outputs": [],
   "source": []
  },
  {
   "cell_type": "code",
   "execution_count": null,
   "id": "0f59876b-52d6-4a3e-bae4-eb53564b372b",
   "metadata": {},
   "outputs": [],
   "source": []
  },
  {
   "cell_type": "code",
   "execution_count": null,
   "id": "a19ebec9-01d2-44c7-b7f3-c658f0bd9b44",
   "metadata": {},
   "outputs": [],
   "source": []
  }
 ],
 "metadata": {
  "kernelspec": {
   "display_name": "Python 3 (ipykernel)",
   "language": "python",
   "name": "python3"
  },
  "language_info": {
   "codemirror_mode": {
    "name": "ipython",
    "version": 3
   },
   "file_extension": ".py",
   "mimetype": "text/x-python",
   "name": "python",
   "nbconvert_exporter": "python",
   "pygments_lexer": "ipython3",
   "version": "3.10.13"
  }
 },
 "nbformat": 4,
 "nbformat_minor": 5
}
