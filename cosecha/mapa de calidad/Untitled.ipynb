{
 "cells": [
  {
   "cell_type": "code",
   "execution_count": 1,
   "id": "5f8e70f0-a437-4d47-869a-d12437bdb645",
   "metadata": {},
   "outputs": [],
   "source": [
    "import os\n",
    "import pandas as pd"
   ]
  },
  {
   "cell_type": "code",
   "execution_count": 2,
   "id": "eb8eb8cf-7da5-4c52-b35b-edb7eaa24881",
   "metadata": {},
   "outputs": [],
   "source": [
    "# Ruta de origen donde están los CSVs\n",
    "directorio_origen = r'G:\\Ingenio Azucarero Guabira S.A\\UTEA - SEMANAL - AVANCE COSECHA\\2025\\MAPA DE CALIDAD\\Indeces_Maduracion'  \n",
    "# Ruta de destino para el archivo combinado\n",
    "archivo_destino = r'G:\\Ingenio Azucarero Guabira S.A\\UTEA - SEMANAL - AVANCE COSECHA\\2025\\MAPA DE CALIDAD\\indice_maduracion.csv'"
   ]
  },
  {
   "cell_type": "code",
   "execution_count": 3,
   "id": "cbde2e34-14af-468f-a612-910f4c4f501a",
   "metadata": {},
   "outputs": [],
   "source": [
    "# Obtener lista de archivos CSV del directorio\n",
    "archivos_csv = [f for f in os.listdir(directorio_origen) if f.endswith('.csv')]"
   ]
  },
  {
   "cell_type": "code",
   "execution_count": 4,
   "id": "9bd3438f-d087-4725-aceb-ff76ecac8de3",
   "metadata": {},
   "outputs": [],
   "source": [
    "# Leer y acumular los datos\n",
    "dataframes = []\n",
    "for archivo in archivos_csv:\n",
    "    ruta_archivo = os.path.join(directorio_origen, archivo)\n",
    "    df = pd.read_csv(ruta_archivo)\n",
    "    dataframes.append(df)"
   ]
  },
  {
   "cell_type": "code",
   "execution_count": 5,
   "id": "f9ba566e-f2e0-4260-9d91-db5e1c3532a0",
   "metadata": {},
   "outputs": [],
   "source": [
    "# Concatenar todos los DataFrames\n",
    "df_combinado = pd.concat(dataframes, ignore_index=True)"
   ]
  },
  {
   "cell_type": "code",
   "execution_count": 6,
   "id": "9549141d-4277-4737-ac2c-dd3379bbeaf9",
   "metadata": {},
   "outputs": [
    {
     "name": "stdout",
     "output_type": "stream",
     "text": [
      "✅ Archivo combinado guardado en: G:\\Ingenio Azucarero Guabira S.A\\UTEA - SEMANAL - AVANCE COSECHA\\2025\\MAPA DE CALIDAD\\indice_maduracion.csv\n"
     ]
    }
   ],
   "source": [
    "# Exportar a nuevo archivo CSV\n",
    "df_combinado.to_csv(archivo_destino, index=False)\n",
    "\n",
    "print(f\"✅ Archivo combinado guardado en: {archivo_destino}\")"
   ]
  },
  {
   "cell_type": "code",
   "execution_count": null,
   "id": "56e25d6a-8a72-447d-bb1c-eb33d97c174a",
   "metadata": {},
   "outputs": [],
   "source": []
  },
  {
   "cell_type": "code",
   "execution_count": null,
   "id": "ba77dc7b-af24-4017-974f-37d86148ad4d",
   "metadata": {},
   "outputs": [],
   "source": []
  },
  {
   "cell_type": "code",
   "execution_count": null,
   "id": "82fbfc38-3772-43a5-9f7d-6b79a508ff01",
   "metadata": {},
   "outputs": [],
   "source": []
  },
  {
   "cell_type": "code",
   "execution_count": null,
   "id": "53af2047-2310-4f24-9e7a-5cf200714f9e",
   "metadata": {},
   "outputs": [],
   "source": []
  },
  {
   "cell_type": "code",
   "execution_count": null,
   "id": "baedffdc-d470-4622-8585-3d829847f291",
   "metadata": {},
   "outputs": [],
   "source": []
  },
  {
   "cell_type": "code",
   "execution_count": null,
   "id": "65f50ee9-c0b7-4c55-9f1e-c960effc60e7",
   "metadata": {},
   "outputs": [],
   "source": []
  },
  {
   "cell_type": "code",
   "execution_count": null,
   "id": "50fd46d0-bb00-4cac-b196-00fd8d47c87f",
   "metadata": {},
   "outputs": [],
   "source": []
  }
 ],
 "metadata": {
  "kernelspec": {
   "display_name": "Python 3 (ipykernel)",
   "language": "python",
   "name": "python3"
  },
  "language_info": {
   "codemirror_mode": {
    "name": "ipython",
    "version": 3
   },
   "file_extension": ".py",
   "mimetype": "text/x-python",
   "name": "python",
   "nbconvert_exporter": "python",
   "pygments_lexer": "ipython3",
   "version": "3.10.13"
  }
 },
 "nbformat": 4,
 "nbformat_minor": 5
}
