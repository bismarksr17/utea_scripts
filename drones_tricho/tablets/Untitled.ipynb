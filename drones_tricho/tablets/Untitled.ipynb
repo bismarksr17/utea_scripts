{
 "cells": [
  {
   "cell_type": "code",
   "execution_count": 1,
   "id": "399d9fe2-799b-435a-815b-cb35b2ed1ebc",
   "metadata": {},
   "outputs": [],
   "source": [
    "import subprocess\n",
    "import os"
   ]
  },
  {
   "cell_type": "code",
   "execution_count": 2,
   "id": "04aa06b5-69de-4a94-b719-987f7f422afd",
   "metadata": {},
   "outputs": [],
   "source": [
    "def get_device_serial():\n",
    "    command = \"adb get-serialno\"\n",
    "    result = subprocess.run(command, shell=True, capture_output=True, text=True)\n",
    "    if result.returncode != 0:\n",
    "        print(\"Error al obtener el número de serie del dispositivo:\")\n",
    "        print(result.stderr)\n",
    "        return None\n",
    "    return result.stdout.strip()"
   ]
  },
  {
   "cell_type": "code",
   "execution_count": 7,
   "id": "2dc7a1f2-6b22-4f9a-9086-2bda130580a5",
   "metadata": {},
   "outputs": [],
   "source": [
    "def list_remote_files(remote_path):\n",
    "    # Agregar comillas para manejar espacios en la ruta\n",
    "    command = f'adb shell \"ls -p \\\\\"{remote_path}\\\\\"\"'\n",
    "    print(f\"Listando archivos en: {remote_path}\")\n",
    "    result = subprocess.run(command, shell=True, capture_output=True, text=True)\n",
    "\n",
    "    if result.returncode != 0:\n",
    "        print(\"Error al listar los archivos:\")\n",
    "        print(result.stderr)\n",
    "        return []\n",
    "    \n",
    "    # Separar los nombres de archivos y carpetas por líneas y filtrar solo .tlog\n",
    "    files = result.stdout.splitlines()\n",
    "    return [file for file in files if file.endswith('.tlog') and not file.endswith('/')]\n",
    "\n",
    "def copy_files_with_adb(remote_path, local_path):\n",
    "    if not os.path.exists(local_path):\n",
    "        os.makedirs(local_path)\n",
    "    \n",
    "    # Verificar si adb está disponible\n",
    "    adb_check_command = \"adb version\"\n",
    "    print(\"Verificando ADB...\")\n",
    "    check_result = subprocess.run(adb_check_command, shell=True, capture_output=True, text=True)\n",
    "    if check_result.returncode != 0:\n",
    "        print(\"ADB no está disponible o no está configurado correctamente.\")\n",
    "        print(check_result.stderr)\n",
    "        return\n",
    "    \n",
    "    # Listar archivos .tlog en la carpeta remota\n",
    "    files = list_remote_files(remote_path)\n",
    "    if not files:\n",
    "        print(\"No se encontraron archivos .tlog para copiar.\")\n",
    "        return\n",
    "    \n",
    "    # Copiar cada archivo .tlog individualmente si no existe en la carpeta local\n",
    "    for file in files:\n",
    "        local_file_path = os.path.join(local_path, file)\n",
    "        if os.path.exists(local_file_path):\n",
    "            #print(f\"{file} ya existe en la carpeta de destino, saltando...\")\n",
    "            continue\n",
    "        \n",
    "        file_remote_path = f\"{remote_path}/{file}\"\n",
    "        command = f\"adb pull \\\"{file_remote_path}\\\" \\\"{local_path}\\\"\"\n",
    "        print(f\"Copiando archivo: {file}\")\n",
    "        result = subprocess.run(command, shell=True, capture_output=True, text=True)\n",
    "\n",
    "        if result.returncode != 0:\n",
    "            print(f\"Error al copiar {file}:\")\n",
    "            print(result.stderr)\n",
    "        else:\n",
    "            print(f\"{file} copiado exitosamente.\")"
   ]
  },
  {
   "cell_type": "code",
   "execution_count": 8,
   "id": "07a2e3f6-b422-4fa6-a3a9-2452987aa562",
   "metadata": {},
   "outputs": [],
   "source": [
    "# Ruta en la tablet desde donde deseas copiar los archivos\n",
    "REMOTE_PATH = \"/sdcard/Alta Planner/Telemetry\"  # Ajusta esta ruta a la carpeta de la tablet\n",
    "\n",
    "# Serial de tablets\n",
    "TAB01 = 'R9XX102K2XN'\n",
    "TAB02 = 'R9XX1053G1D'\n",
    "TAB03 = 'AVFGCP4119400913'\n",
    "TAB03 = ''\n",
    "\n",
    "# Ruta en la PC donde deseas copiar los archivos\n",
    "LOCAL_BACKUP_PATH_01 = r\"G:\\Ingenio Azucarero Guabira S.A\\UTEA - SEMANAL - EQUIPO AVIACION UTEA\\Trichogramma\\2025\\TLOGS\\ALTA_01\"  # Ajusta esto a la carpeta de destino en tu PC\n",
    "LOCAL_BACKUP_PATH_02 = r\"G:\\Ingenio Azucarero Guabira S.A\\UTEA - SEMANAL - EQUIPO AVIACION UTEA\\Trichogramma\\2025\\TLOGS\\ALTA_02\"\n",
    "LOCAL_BACKUP_PATH_03 = r\"G:\\Ingenio Azucarero Guabira S.A\\UTEA - SEMANAL - EQUIPO AVIACION UTEA\\Trichogramma\\2025\\TLOGS\\ALTA_03\""
   ]
  },
  {
   "cell_type": "code",
   "execution_count": 9,
   "id": "0f43d553-2880-4356-a907-b0198d5b0a85",
   "metadata": {},
   "outputs": [
    {
     "name": "stdout",
     "output_type": "stream",
     "text": [
      "Copiando archivos .tlog desde la tablet...\n",
      "Copiando .tlogs de TAB02\n",
      "Verificando ADB...\n",
      "Listando archivos en: /sdcard/Alta Planner/Telemetry\n",
      "Copiando archivo: 2025-05-02 08-32-28.tlog\n",
      "2025-05-02 08-32-28.tlog copiado exitosamente.\n",
      "Copiando archivo: 2025-05-05 16-16-47.tlog\n",
      "2025-05-05 16-16-47.tlog copiado exitosamente.\n",
      "Copiando archivo: 2025-05-05 16-32-05.tlog\n",
      "2025-05-05 16-32-05.tlog copiado exitosamente.\n",
      "Copiando archivo: 2025-05-05 21-05-04.tlog\n",
      "2025-05-05 21-05-04.tlog copiado exitosamente.\n",
      "Copiando archivo: 2025-05-05 22-55-05.tlog\n",
      "2025-05-05 22-55-05.tlog copiado exitosamente.\n",
      "Copia completada.\n"
     ]
    }
   ],
   "source": [
    "if __name__ == \"__main__\":\n",
    "    print(\"Copiando archivos .tlog desde la tablet...\")\n",
    "    serial_number = get_device_serial()\n",
    "    if serial_number is None:\n",
    "        print(\"No se pudo obtener el número de serie del dispositivo.\")\n",
    "    else:\n",
    "        if serial_number == TAB01:\n",
    "            print(f'Copiando .tlogs de TAB01')\n",
    "            copy_files_with_adb(REMOTE_PATH, LOCAL_BACKUP_PATH_01)\n",
    "        elif serial_number == TAB02:\n",
    "            print(f'Copiando .tlogs de TAB02')\n",
    "            copy_files_with_adb(REMOTE_PATH, LOCAL_BACKUP_PATH_02)\n",
    "        elif serial_number == TAB03:\n",
    "            print(f'Copiando .tlogs de TAB03')\n",
    "            copy_files_with_adb(REMOTE_PATH, LOCAL_BACKUP_PATH_03)\n",
    "    print(\"Copia completada.\")"
   ]
  },
  {
   "cell_type": "code",
   "execution_count": null,
   "id": "faed2e73-e486-4561-869f-7d6e9d61c757",
   "metadata": {},
   "outputs": [],
   "source": []
  },
  {
   "cell_type": "code",
   "execution_count": null,
   "id": "525ee67b-7026-4959-addc-75ade4068816",
   "metadata": {},
   "outputs": [],
   "source": []
  },
  {
   "cell_type": "code",
   "execution_count": null,
   "id": "d7ca6731-17a6-4b81-9142-0dc4fd7d3aa4",
   "metadata": {},
   "outputs": [],
   "source": []
  },
  {
   "cell_type": "code",
   "execution_count": 4,
   "id": "c819d2aa-af99-4304-bdd2-b42a4eefc2a7",
   "metadata": {},
   "outputs": [
    {
     "data": {
      "text/plain": [
       "'R9TY200AMWV'"
      ]
     },
     "execution_count": 4,
     "metadata": {},
     "output_type": "execute_result"
    }
   ],
   "source": [
    "serial_number = get_device_serial()\n",
    "serial_number"
   ]
  },
  {
   "cell_type": "code",
   "execution_count": null,
   "id": "fc93c5c3-2b67-485c-b9b7-25bc918af4e2",
   "metadata": {},
   "outputs": [],
   "source": []
  },
  {
   "cell_type": "code",
   "execution_count": null,
   "id": "89509ff7-6523-4129-b3e6-10c654c7e407",
   "metadata": {},
   "outputs": [],
   "source": []
  },
  {
   "cell_type": "code",
   "execution_count": null,
   "id": "4ce33b6b-6450-44c4-81e5-14e4ea99cee0",
   "metadata": {},
   "outputs": [],
   "source": []
  },
  {
   "cell_type": "code",
   "execution_count": null,
   "id": "aa85a115-150d-4cb9-8ec6-69fe717baa9b",
   "metadata": {},
   "outputs": [],
   "source": []
  },
  {
   "cell_type": "code",
   "execution_count": null,
   "id": "afd7df5e-59bc-4f1f-aaf7-138c166b1d1b",
   "metadata": {},
   "outputs": [],
   "source": []
  },
  {
   "cell_type": "code",
   "execution_count": null,
   "id": "f5b4a9f3-1f08-4d58-b96a-6b0e9795fb9d",
   "metadata": {},
   "outputs": [],
   "source": []
  }
 ],
 "metadata": {
  "kernelspec": {
   "display_name": "Python 3 (ipykernel)",
   "language": "python",
   "name": "python3"
  },
  "language_info": {
   "codemirror_mode": {
    "name": "ipython",
    "version": 3
   },
   "file_extension": ".py",
   "mimetype": "text/x-python",
   "name": "python",
   "nbconvert_exporter": "python",
   "pygments_lexer": "ipython3",
   "version": "3.10.13"
  }
 },
 "nbformat": 4,
 "nbformat_minor": 5
}
