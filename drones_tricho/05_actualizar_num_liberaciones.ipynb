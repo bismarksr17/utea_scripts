{
 "cells": [
  {
   "cell_type": "code",
   "execution_count": 1,
   "id": "055965b5-3aa3-4a99-9476-ba36bc7e072c",
   "metadata": {},
   "outputs": [],
   "source": [
    "from sqlalchemy import create_engine, text\n",
    "import geopandas as gpd"
   ]
  },
  {
   "cell_type": "code",
   "execution_count": 2,
   "id": "5e29d28e-1c23-43e9-a518-00640020bc3d",
   "metadata": {},
   "outputs": [],
   "source": [
    "USER='postgres'\n",
    "PASSWORD='A123456*'\n",
    "HOST='localhost'\n",
    "PORT='5433'\n",
    "DATABASE='utea'"
   ]
  },
  {
   "cell_type": "code",
   "execution_count": 3,
   "id": "f0526d17-32c2-4391-a75d-69329920078c",
   "metadata": {},
   "outputs": [],
   "source": [
    "def obtener_engine():\n",
    "    return create_engine(\n",
    "        f\"postgresql+psycopg2://{USER}:{PASSWORD}@{HOST}:{PORT}/{DATABASE}\"\n",
    "    )"
   ]
  },
  {
   "cell_type": "code",
   "execution_count": 19,
   "id": "17c44f53-6408-4787-9918-b8313c8be0a4",
   "metadata": {},
   "outputs": [],
   "source": [
    "def actualizar_num_liberaciones():\n",
    "    sentencia_sql = '''\n",
    "    UPDATE drones_control_bio.numero_liberaciones p\n",
    "    SET \n",
    "    \tnum_liberaciones = sub.cantidad,\n",
    "    \tnum_distintos = sub.distintos,\n",
    "\t\tarea = sub.total_area\n",
    "    FROM (\n",
    "        SELECT p.id, COUNT(pol.id) AS cantidad, COUNT(DISTINCT(pol.unidad_05)) AS distintos, sum(pol.area) as total_area\n",
    "        FROM drones_control_bio.numero_liberaciones p\n",
    "        JOIN drones_control_bio.parte_diario_ctrl_bio pol\n",
    "          ON ST_Intersects(p.geom, pol.geom)\n",
    "    \tWHERE pol.estado='EJECUTADO'\n",
    "        GROUP BY p.id\n",
    "    ) sub\n",
    "    WHERE p.id = sub.id\n",
    "    '''\n",
    "    with obtener_engine().connect() as conn:\n",
    "        conn.execute(\n",
    "            text(sentencia_sql)\n",
    "        )\n",
    "        conn.commit()\n",
    "    print('Se actualizo el numero de apliacion de control biologio.!')\n",
    "\n",
    "def actualizar_datos():\n",
    "    sentencia_sql = '''\n",
    "    UPDATE drones_control_bio.numero_liberaciones p\n",
    "    SET \n",
    "\t\tunidad_01 = (SELECT unidad_01 FROM drones_control_bio.parte_diario_ctrl_bio pol WHERE ST_Intersects(p.geom, pol.geom) LIMIT 1),\n",
    "\t\tunidad_03 = (SELECT unidad_03 FROM drones_control_bio.parte_diario_ctrl_bio pol WHERE ST_Intersects(p.geom, pol.geom) LIMIT 1),\n",
    "\t\tunidad_05 = (SELECT unidad_05 FROM drones_control_bio.parte_diario_ctrl_bio pol WHERE ST_Intersects(p.geom, pol.geom) LIMIT 1)\n",
    "    '''\n",
    "    with obtener_engine().connect() as conn:\n",
    "        conn.execute(\n",
    "            text(sentencia_sql)\n",
    "        )\n",
    "        conn.commit()\n",
    "    print('Se actualizo los datos de numero de liberaciones.!')"
   ]
  },
  {
   "cell_type": "code",
   "execution_count": null,
   "id": "aea81621-b47e-4bc5-a714-ff219c88ac2d",
   "metadata": {},
   "outputs": [],
   "source": []
  },
  {
   "cell_type": "code",
   "execution_count": null,
   "id": "488f924e-eeb4-45b0-afdd-073acb2cc240",
   "metadata": {},
   "outputs": [],
   "source": []
  },
  {
   "cell_type": "code",
   "execution_count": null,
   "id": "8e0c45ca-45d1-4f04-902e-af9e96a89414",
   "metadata": {},
   "outputs": [],
   "source": []
  },
  {
   "cell_type": "code",
   "execution_count": 17,
   "id": "73eb3bf6-2be0-4b2f-b758-581b0c160cd4",
   "metadata": {},
   "outputs": [
    {
     "name": "stdout",
     "output_type": "stream",
     "text": [
      "Se actualizo el numero de apliacion de control biologio.!\n"
     ]
    }
   ],
   "source": [
    "actualizar_num_liberaciones()"
   ]
  },
  {
   "cell_type": "code",
   "execution_count": 20,
   "id": "30f7b882-208b-4423-a49d-914fc7431e11",
   "metadata": {},
   "outputs": [
    {
     "name": "stdout",
     "output_type": "stream",
     "text": [
      "Se actualizo los datos de numero de liberaciones.!\n"
     ]
    }
   ],
   "source": [
    "actualizar_datos()"
   ]
  },
  {
   "cell_type": "code",
   "execution_count": null,
   "id": "b70312de-25ca-4e7b-8e9a-48060f99c302",
   "metadata": {},
   "outputs": [],
   "source": []
  },
  {
   "cell_type": "code",
   "execution_count": null,
   "id": "3ed1d194-dbbf-4920-93dc-6f715cddfb37",
   "metadata": {},
   "outputs": [],
   "source": []
  },
  {
   "cell_type": "code",
   "execution_count": null,
   "id": "8cc950a3-6ac5-4c8a-a0b1-873cbbf28b4d",
   "metadata": {},
   "outputs": [],
   "source": []
  },
  {
   "cell_type": "code",
   "execution_count": null,
   "id": "56a5c9f8-07e8-4428-a067-53e37a74af97",
   "metadata": {},
   "outputs": [],
   "source": []
  },
  {
   "cell_type": "code",
   "execution_count": null,
   "id": "2d4dca08-b6bb-4ea7-ba15-126760b85fe4",
   "metadata": {},
   "outputs": [],
   "source": []
  }
 ],
 "metadata": {
  "kernelspec": {
   "display_name": "Python 3 (ipykernel)",
   "language": "python",
   "name": "python3"
  },
  "language_info": {
   "codemirror_mode": {
    "name": "ipython",
    "version": 3
   },
   "file_extension": ".py",
   "mimetype": "text/x-python",
   "name": "python",
   "nbconvert_exporter": "python",
   "pygments_lexer": "ipython3",
   "version": "3.10.13"
  }
 },
 "nbformat": 4,
 "nbformat_minor": 5
}
