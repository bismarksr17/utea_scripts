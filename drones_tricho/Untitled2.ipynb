{
 "cells": [
  {
   "cell_type": "code",
   "execution_count": 42,
   "id": "927675ff-10dd-45e2-aaf9-525ce7eee242",
   "metadata": {},
   "outputs": [],
   "source": [
    "import simplekml\n",
    "from shapely.geometry import Point, Polygon, MultiPolygon, MultiPoint\n",
    "\n",
    "import geopandas as gpd\n",
    "import os"
   ]
  },
  {
   "cell_type": "code",
   "execution_count": 38,
   "id": "2daa0410-7ca1-4d0d-ba63-e88823ceed1e",
   "metadata": {},
   "outputs": [],
   "source": [
    "unidad = r'C:\\Documents'"
   ]
  },
  {
   "cell_type": "code",
   "execution_count": 39,
   "id": "9e626d6f-9fb0-4d30-a65d-eca18e09da92",
   "metadata": {},
   "outputs": [],
   "source": [
    "path_kml = unidad + r'\\Ingenio Azucarero Guabira S.A\\UTEA - SEMANAL - EQUIPO AVIACION UTEA\\Trichogramma\\2024\\KML_PLAN'\n",
    "path_plan = unidad + r'\\Ingenio Azucarero Guabira S.A\\UTEA - SEMANAL - PROGRAMA DE COSECHA\\2025\\MADURADORES\\SHP\\LOTES_MADURAR_CORREGIDO.shp'"
   ]
  },
  {
   "cell_type": "code",
   "execution_count": 40,
   "id": "138a8da5-b789-4268-90fd-c9185502a992",
   "metadata": {},
   "outputs": [
    {
     "name": "stdout",
     "output_type": "stream",
     "text": [
      "[256.0, 1289.0, 265.0, 13.0, 17.0, 19.0, 275.0, 279.0, 1816.0, 29.0, 30.0, 31.0, 33.0, 550.0, 1702.0, 298.0, 555.0, 299.0, 173.0, 1454.0, 47.0, 306.0, 54.0, 55.0, 184.0, 314.0, 63.0, 1215.0, 577.0, 328.0, 74.0, 2124.0, 2125.0, 590.0, 333.0, 1618.0, 218.0, 2013.0, 1892.0, 2158.0, 495.0, 114.0, 375.0]\n"
     ]
    }
   ],
   "source": [
    "gdf_plan_sem = gpd.read_file(path_plan)\n",
    "lista_cods = list(set(gdf_plan_sem['unidad_01']))\n",
    "print(lista_cods)"
   ]
  },
  {
   "cell_type": "code",
   "execution_count": 44,
   "id": "6da44a19-f8f5-4742-a991-93a3475cd817",
   "metadata": {},
   "outputs": [
    {
     "name": "stdout",
     "output_type": "stream",
     "text": [
      "C:\\Documents\\Ingenio Azucarero Guabira S.A\\UTEA - SEMANAL - EQUIPO AVIACION UTEA\\Trichogramma\\2024\\KML_PLAN\\256.0\n",
      "C:\\Documents\\Ingenio Azucarero Guabira S.A\\UTEA - SEMANAL - EQUIPO AVIACION UTEA\\Trichogramma\\2024\\KML_PLAN\\1289.0\n",
      "C:\\Documents\\Ingenio Azucarero Guabira S.A\\UTEA - SEMANAL - EQUIPO AVIACION UTEA\\Trichogramma\\2024\\KML_PLAN\\265.0\n",
      "C:\\Documents\\Ingenio Azucarero Guabira S.A\\UTEA - SEMANAL - EQUIPO AVIACION UTEA\\Trichogramma\\2024\\KML_PLAN\\13.0\n",
      "C:\\Documents\\Ingenio Azucarero Guabira S.A\\UTEA - SEMANAL - EQUIPO AVIACION UTEA\\Trichogramma\\2024\\KML_PLAN\\17.0\n",
      "C:\\Documents\\Ingenio Azucarero Guabira S.A\\UTEA - SEMANAL - EQUIPO AVIACION UTEA\\Trichogramma\\2024\\KML_PLAN\\19.0\n",
      "C:\\Documents\\Ingenio Azucarero Guabira S.A\\UTEA - SEMANAL - EQUIPO AVIACION UTEA\\Trichogramma\\2024\\KML_PLAN\\275.0\n",
      "C:\\Documents\\Ingenio Azucarero Guabira S.A\\UTEA - SEMANAL - EQUIPO AVIACION UTEA\\Trichogramma\\2024\\KML_PLAN\\279.0\n",
      "C:\\Documents\\Ingenio Azucarero Guabira S.A\\UTEA - SEMANAL - EQUIPO AVIACION UTEA\\Trichogramma\\2024\\KML_PLAN\\1816.0\n",
      "C:\\Documents\\Ingenio Azucarero Guabira S.A\\UTEA - SEMANAL - EQUIPO AVIACION UTEA\\Trichogramma\\2024\\KML_PLAN\\29.0\n",
      "C:\\Documents\\Ingenio Azucarero Guabira S.A\\UTEA - SEMANAL - EQUIPO AVIACION UTEA\\Trichogramma\\2024\\KML_PLAN\\30.0\n",
      "C:\\Documents\\Ingenio Azucarero Guabira S.A\\UTEA - SEMANAL - EQUIPO AVIACION UTEA\\Trichogramma\\2024\\KML_PLAN\\31.0\n",
      "C:\\Documents\\Ingenio Azucarero Guabira S.A\\UTEA - SEMANAL - EQUIPO AVIACION UTEA\\Trichogramma\\2024\\KML_PLAN\\33.0\n",
      "C:\\Documents\\Ingenio Azucarero Guabira S.A\\UTEA - SEMANAL - EQUIPO AVIACION UTEA\\Trichogramma\\2024\\KML_PLAN\\550.0\n",
      "C:\\Documents\\Ingenio Azucarero Guabira S.A\\UTEA - SEMANAL - EQUIPO AVIACION UTEA\\Trichogramma\\2024\\KML_PLAN\\1702.0\n",
      "C:\\Documents\\Ingenio Azucarero Guabira S.A\\UTEA - SEMANAL - EQUIPO AVIACION UTEA\\Trichogramma\\2024\\KML_PLAN\\298.0\n",
      "C:\\Documents\\Ingenio Azucarero Guabira S.A\\UTEA - SEMANAL - EQUIPO AVIACION UTEA\\Trichogramma\\2024\\KML_PLAN\\555.0\n",
      "C:\\Documents\\Ingenio Azucarero Guabira S.A\\UTEA - SEMANAL - EQUIPO AVIACION UTEA\\Trichogramma\\2024\\KML_PLAN\\299.0\n",
      "C:\\Documents\\Ingenio Azucarero Guabira S.A\\UTEA - SEMANAL - EQUIPO AVIACION UTEA\\Trichogramma\\2024\\KML_PLAN\\173.0\n",
      "C:\\Documents\\Ingenio Azucarero Guabira S.A\\UTEA - SEMANAL - EQUIPO AVIACION UTEA\\Trichogramma\\2024\\KML_PLAN\\1454.0\n",
      "C:\\Documents\\Ingenio Azucarero Guabira S.A\\UTEA - SEMANAL - EQUIPO AVIACION UTEA\\Trichogramma\\2024\\KML_PLAN\\47.0\n",
      "C:\\Documents\\Ingenio Azucarero Guabira S.A\\UTEA - SEMANAL - EQUIPO AVIACION UTEA\\Trichogramma\\2024\\KML_PLAN\\306.0\n",
      "C:\\Documents\\Ingenio Azucarero Guabira S.A\\UTEA - SEMANAL - EQUIPO AVIACION UTEA\\Trichogramma\\2024\\KML_PLAN\\54.0\n",
      "C:\\Documents\\Ingenio Azucarero Guabira S.A\\UTEA - SEMANAL - EQUIPO AVIACION UTEA\\Trichogramma\\2024\\KML_PLAN\\55.0\n",
      "C:\\Documents\\Ingenio Azucarero Guabira S.A\\UTEA - SEMANAL - EQUIPO AVIACION UTEA\\Trichogramma\\2024\\KML_PLAN\\184.0\n",
      "C:\\Documents\\Ingenio Azucarero Guabira S.A\\UTEA - SEMANAL - EQUIPO AVIACION UTEA\\Trichogramma\\2024\\KML_PLAN\\314.0\n",
      "C:\\Documents\\Ingenio Azucarero Guabira S.A\\UTEA - SEMANAL - EQUIPO AVIACION UTEA\\Trichogramma\\2024\\KML_PLAN\\63.0\n",
      "C:\\Documents\\Ingenio Azucarero Guabira S.A\\UTEA - SEMANAL - EQUIPO AVIACION UTEA\\Trichogramma\\2024\\KML_PLAN\\1215.0\n",
      "Geometría no soportada en nan, índice 261\n",
      "C:\\Documents\\Ingenio Azucarero Guabira S.A\\UTEA - SEMANAL - EQUIPO AVIACION UTEA\\Trichogramma\\2024\\KML_PLAN\\577.0\n",
      "C:\\Documents\\Ingenio Azucarero Guabira S.A\\UTEA - SEMANAL - EQUIPO AVIACION UTEA\\Trichogramma\\2024\\KML_PLAN\\328.0\n",
      "C:\\Documents\\Ingenio Azucarero Guabira S.A\\UTEA - SEMANAL - EQUIPO AVIACION UTEA\\Trichogramma\\2024\\KML_PLAN\\74.0\n",
      "C:\\Documents\\Ingenio Azucarero Guabira S.A\\UTEA - SEMANAL - EQUIPO AVIACION UTEA\\Trichogramma\\2024\\KML_PLAN\\2124.0\n",
      "C:\\Documents\\Ingenio Azucarero Guabira S.A\\UTEA - SEMANAL - EQUIPO AVIACION UTEA\\Trichogramma\\2024\\KML_PLAN\\2125.0\n",
      "C:\\Documents\\Ingenio Azucarero Guabira S.A\\UTEA - SEMANAL - EQUIPO AVIACION UTEA\\Trichogramma\\2024\\KML_PLAN\\590.0\n",
      "C:\\Documents\\Ingenio Azucarero Guabira S.A\\UTEA - SEMANAL - EQUIPO AVIACION UTEA\\Trichogramma\\2024\\KML_PLAN\\333.0\n",
      "C:\\Documents\\Ingenio Azucarero Guabira S.A\\UTEA - SEMANAL - EQUIPO AVIACION UTEA\\Trichogramma\\2024\\KML_PLAN\\1618.0\n",
      "C:\\Documents\\Ingenio Azucarero Guabira S.A\\UTEA - SEMANAL - EQUIPO AVIACION UTEA\\Trichogramma\\2024\\KML_PLAN\\218.0\n",
      "C:\\Documents\\Ingenio Azucarero Guabira S.A\\UTEA - SEMANAL - EQUIPO AVIACION UTEA\\Trichogramma\\2024\\KML_PLAN\\2013.0\n",
      "C:\\Documents\\Ingenio Azucarero Guabira S.A\\UTEA - SEMANAL - EQUIPO AVIACION UTEA\\Trichogramma\\2024\\KML_PLAN\\1892.0\n",
      "C:\\Documents\\Ingenio Azucarero Guabira S.A\\UTEA - SEMANAL - EQUIPO AVIACION UTEA\\Trichogramma\\2024\\KML_PLAN\\2158.0\n",
      "C:\\Documents\\Ingenio Azucarero Guabira S.A\\UTEA - SEMANAL - EQUIPO AVIACION UTEA\\Trichogramma\\2024\\KML_PLAN\\495.0\n",
      "C:\\Documents\\Ingenio Azucarero Guabira S.A\\UTEA - SEMANAL - EQUIPO AVIACION UTEA\\Trichogramma\\2024\\KML_PLAN\\114.0\n",
      "C:\\Documents\\Ingenio Azucarero Guabira S.A\\UTEA - SEMANAL - EQUIPO AVIACION UTEA\\Trichogramma\\2024\\KML_PLAN\\375.0\n"
     ]
    }
   ],
   "source": [
    "for i in lista_cods:\n",
    "    prop = gdf_plan_sem[gdf_plan_sem['unidad_01'] == i]\n",
    "    prop_wgs = prop.to_crs(epsg=4326)\n",
    "    output_folder = os.path.join(path_kml, str(i))\n",
    "    print(output_folder)\n",
    "\n",
    "    if not os.path.exists(output_folder):\n",
    "        os.makedirs(output_folder)\n",
    "\n",
    "    for idx, row in prop_wgs.iterrows():\n",
    "        kml_doc = simplekml.Kml()\n",
    "        polygon = row['geometry']\n",
    "        name = row['unidad_05']\n",
    "\n",
    "        # Verificar tipo de geometría\n",
    "        if isinstance(polygon, Polygon):\n",
    "            coords = [(x, y) for x, y in zip(*polygon.exterior.xy)]\n",
    "            pol = kml_doc.newpolygon(name=name, outerboundaryis=coords)\n",
    "\n",
    "        elif isinstance(polygon, MultiPolygon):\n",
    "            # Añadir cada polígono dentro del MultiPolygon\n",
    "            for idx_poly, poly in enumerate(polygon.geoms):\n",
    "                coords = [(x, y) for x, y in zip(*poly.exterior.xy)]\n",
    "                pol = kml_doc.newpolygon(name=f\"{name}_{idx_poly+1}\", outerboundaryis=coords)\n",
    "\n",
    "        else:\n",
    "            print(f\"Geometría no soportada en {name}, índice {idx}\")\n",
    "            continue\n",
    "\n",
    "        file_name = f\"{name}.kml\"\n",
    "        output_path = os.path.join(output_folder, file_name)\n",
    "        kml_doc.save(output_path)"
   ]
  },
  {
   "cell_type": "code",
   "execution_count": null,
   "id": "68fae69a-6047-4a92-a4a3-77e8a37de3be",
   "metadata": {},
   "outputs": [],
   "source": []
  },
  {
   "cell_type": "code",
   "execution_count": null,
   "id": "64d90148-00d7-41fd-a205-45c477574f81",
   "metadata": {},
   "outputs": [],
   "source": []
  },
  {
   "cell_type": "code",
   "execution_count": null,
   "id": "9c8db019-1247-4308-950d-39d1238fbf6a",
   "metadata": {},
   "outputs": [],
   "source": []
  },
  {
   "cell_type": "code",
   "execution_count": null,
   "id": "5c6e6349-92b2-4d60-aea9-e3b20b582867",
   "metadata": {},
   "outputs": [],
   "source": []
  }
 ],
 "metadata": {
  "kernelspec": {
   "display_name": "Python 3 (ipykernel)",
   "language": "python",
   "name": "python3"
  },
  "language_info": {
   "codemirror_mode": {
    "name": "ipython",
    "version": 3
   },
   "file_extension": ".py",
   "mimetype": "text/x-python",
   "name": "python",
   "nbconvert_exporter": "python",
   "pygments_lexer": "ipython3",
   "version": "3.10.13"
  }
 },
 "nbformat": 4,
 "nbformat_minor": 5
}
