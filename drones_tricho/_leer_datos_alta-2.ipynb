{
 "cells": [
  {
   "cell_type": "code",
   "execution_count": 1,
   "id": "471a58e2-7e57-4c39-9f66-2901e67bad16",
   "metadata": {},
   "outputs": [
    {
     "name": "stderr",
     "output_type": "stream",
     "text": [
      "C:\\Users\\Usuario\\AppData\\Local\\Temp\\ipykernel_15776\\2406777076.py:4: DeprecationWarning: \n",
      "Pyarrow will become a required dependency of pandas in the next major release of pandas (pandas 3.0),\n",
      "(to allow more performant data types, such as the Arrow string type, and better interoperability with other libraries)\n",
      "but was not found to be installed on your system.\n",
      "If this would cause problems for you,\n",
      "please provide us feedback at https://github.com/pandas-dev/pandas/issues/54466\n",
      "        \n",
      "  import pandas as pd\n"
     ]
    }
   ],
   "source": [
    "from pymavlink import mavutil\n",
    "\n",
    "import matplotlib.pyplot as plt\n",
    "import pandas as pd\n",
    "import os\n",
    "import geopandas as gpd\n",
    "from shapely.geometry import Point, LineString"
   ]
  },
  {
   "cell_type": "code",
   "execution_count": 20,
   "id": "2daa78ba-f5c9-44f1-b6b2-4640c8891024",
   "metadata": {},
   "outputs": [],
   "source": [
    "vehiculo = 'DA02'"
   ]
  },
  {
   "cell_type": "code",
   "execution_count": 21,
   "id": "267f5023-bc5a-45eb-8207-5364f8d9166d",
   "metadata": {},
   "outputs": [],
   "source": [
    "path_rec = r'G:\\Ingenio Azucarero Guabira S.A\\UTEA - SEMANAL - EQUIPO AVIACION UTEA\\Trichogramma\\2024\\SHP\\RECORRIDOS.shp'\n",
    "gdf_rec = gpd.read_file(path_rec)"
   ]
  },
  {
   "cell_type": "code",
   "execution_count": 22,
   "id": "504d15e2-1b8c-45c8-8f0a-b574cd569e93",
   "metadata": {},
   "outputs": [
    {
     "data": {
      "text/plain": [
       "698"
      ]
     },
     "execution_count": 22,
     "metadata": {},
     "output_type": "execute_result"
    }
   ],
   "source": [
    "if vehiculo == 'DA01':\n",
    "    path_log = r'G:\\Ingenio Azucarero Guabira S.A\\UTEA - SEMANAL - EQUIPO AVIACION UTEA\\Trichogramma\\2024\\TLOGS\\ALTA_01'\n",
    "elif vehiculo == 'DA02':\n",
    "    path_log = r'G:\\Ingenio Azucarero Guabira S.A\\UTEA - SEMANAL - EQUIPO AVIACION UTEA\\Trichogramma\\2024\\TLOGS\\ALTA_02'\n",
    "elif vehiculo == 'DA03':\n",
    "    path_log = r'G:\\Ingenio Azucarero Guabira S.A\\UTEA - SEMANAL - EQUIPO AVIACION UTEA\\Trichogramma\\2024\\TLOGS\\ALTA_03'\n",
    "contenido = os.listdir(path_log)\n",
    "len(contenido)"
   ]
  },
  {
   "cell_type": "code",
   "execution_count": 23,
   "id": "3f11a10e-4884-402e-a913-268ed87089c8",
   "metadata": {},
   "outputs": [
    {
     "data": {
      "text/plain": [
       "16"
      ]
     },
     "execution_count": 23,
     "metadata": {},
     "output_type": "execute_result"
    }
   ],
   "source": [
    "# Filtrar la lista 'contenido' para excluir elementos que están en la columna 'nombre' del GeoDataFrame\n",
    "contenido_filtrado = [item for item in contenido if item not in gdf_rec['nombre'].values]\n",
    "len(contenido_filtrado)"
   ]
  },
  {
   "cell_type": "code",
   "execution_count": 24,
   "id": "ca3c281f-b619-4640-92a2-6c815204fc7c",
   "metadata": {},
   "outputs": [],
   "source": [
    "def leer_logs(lista_logs):\n",
    "    list_geo = []\n",
    "    list_name = []\n",
    "    for i in lista_logs:\n",
    "        log = path_log + '/' + i\n",
    "        \n",
    "        name = i\n",
    "        \n",
    "        mlog = mavutil.mavlink_connection(log)\n",
    "        lats = []\n",
    "        lons = []\n",
    "        while True:\n",
    "            msg = mlog.recv_match()\n",
    "            if not msg:\n",
    "                break\n",
    "            # Ejemplo de procesamiento de mensaje\n",
    "            if msg.get_type() == 'GLOBAL_POSITION_INT':\n",
    "                lat = msg.lat / 1e7  # Latitud en grados\n",
    "                lon = msg.lon / 1e7  # Longitud en grados\n",
    "                lats.append(lat)\n",
    "                lons.append(lon)\n",
    "\n",
    "        coors = {'lat':lats, 'lon':lons}\n",
    "        df = pd.DataFrame(coors)\n",
    "        \n",
    "        geometry = [Point(xy) for xy in zip(df['lon'], df['lat'])]\n",
    "        line = LineString(geometry)\n",
    "        list_geo.append(line)\n",
    "        list_name.append(name)\n",
    "    return (list_geo, list_name)"
   ]
  },
  {
   "cell_type": "code",
   "execution_count": 25,
   "id": "d28df3e9-37ed-403b-b3c8-c9873fa59851",
   "metadata": {},
   "outputs": [],
   "source": [
    "lineas, names = leer_logs(contenido_filtrado)"
   ]
  },
  {
   "cell_type": "code",
   "execution_count": 26,
   "id": "3654c9fa-70ac-4101-acc1-501bcbbef161",
   "metadata": {},
   "outputs": [
    {
     "data": {
      "text/plain": [
       "[<LINESTRING (0 0, 0 0, 0 0, 0 0, 0 0, 0 0, 0 0, 0 0, 0 0, 0 0, 0 0, 0 0, 0 0...>,\n",
       " <LINESTRING (0 0, 0 0, 0 0, 0 0, 0 0, 0 0, 0 0, 0 0, 0 0, 0 0, 0 0, 0 0, 0 0...>,\n",
       " <LINESTRING (0 0, 0 0, 0 0, 0 0, 0 0, 0 0, 0 0, 0 0, 0 0, 0 0, 0 0, 0 0, 0 0...>,\n",
       " <LINESTRING (0 0, 0 0, 0 0, 0 0, 0 0, 0 0, 0 0, 0 0, 0 0, 0 0, 0 0, 0 0, 0 0...>,\n",
       " <LINESTRING (-63.313 -17.318, -63.313 -17.318, -63.313 -17.318, -63.313 -17....>,\n",
       " <LINESTRING (-63.198 -17.243, -63.198 -17.243, -63.198 -17.243, -63.198 -17....>,\n",
       " <LINESTRING (-63.02 -17.213, -63.02 -17.213, -63.02 -17.213, -63.02 -17.213,...>,\n",
       " <LINESTRING (-63.019 -17.213, -63.019 -17.213, -63.019 -17.213, -63.019 -17....>,\n",
       " <LINESTRING (-63.198 -17.243, -63.198 -17.243, -63.198 -17.243, -63.198 -17....>,\n",
       " <LINESTRING (-63.205 -17.237, -63.205 -17.237, -63.205 -17.237, -63.205 -17....>,\n",
       " <LINESTRING (-63.198 -17.243, -63.198 -17.243, -63.198 -17.243, -63.198 -17....>,\n",
       " <LINESTRING (-63.198 -17.243, -63.198 -17.243, -63.198 -17.243, -63.198 -17....>,\n",
       " <LINESTRING (-63.198 -17.243, -63.198 -17.243, -63.198 -17.243, -63.198 -17....>,\n",
       " <LINESTRING (-63.066 -17.289, -63.066 -17.289, -63.066 -17.289, -63.066 -17....>,\n",
       " <LINESTRING (-63.062 -17.3, -63.062 -17.3, -63.062 -17.3, -63.062 -17.3, -63...>,\n",
       " <LINESTRING (-63.088 -17.352, -63.088 -17.352, -63.088 -17.352, -63.088 -17....>]"
      ]
     },
     "execution_count": 26,
     "metadata": {},
     "output_type": "execute_result"
    }
   ],
   "source": [
    "lineas"
   ]
  },
  {
   "cell_type": "code",
   "execution_count": 27,
   "id": "65a842f9-e32d-455e-9f12-0d5461b62b56",
   "metadata": {},
   "outputs": [],
   "source": [
    "# Crear un GeoDataFrame con los LineStrings y sus nombres\n",
    "gdf_lines = gpd.GeoDataFrame({'nombre': names, 'geometry': lineas}, crs=\"EPSG:4326\")"
   ]
  },
  {
   "cell_type": "code",
   "execution_count": 28,
   "id": "76afc766-6f98-430f-bd2f-b94ad23f47d8",
   "metadata": {},
   "outputs": [
    {
     "data": {
      "text/html": [
       "<div>\n",
       "<style scoped>\n",
       "    .dataframe tbody tr th:only-of-type {\n",
       "        vertical-align: middle;\n",
       "    }\n",
       "\n",
       "    .dataframe tbody tr th {\n",
       "        vertical-align: top;\n",
       "    }\n",
       "\n",
       "    .dataframe thead th {\n",
       "        text-align: right;\n",
       "    }\n",
       "</style>\n",
       "<table border=\"1\" class=\"dataframe\">\n",
       "  <thead>\n",
       "    <tr style=\"text-align: right;\">\n",
       "      <th></th>\n",
       "      <th>nombre</th>\n",
       "      <th>geometry</th>\n",
       "    </tr>\n",
       "  </thead>\n",
       "  <tbody>\n",
       "    <tr>\n",
       "      <th>0</th>\n",
       "      <td>2024-07-15 18-37-09.tlog</td>\n",
       "      <td>LINESTRING (0.00000 0.00000, 0.00000 0.00000, ...</td>\n",
       "    </tr>\n",
       "    <tr>\n",
       "      <th>1</th>\n",
       "      <td>2024-07-24 19-53-05.tlog</td>\n",
       "      <td>LINESTRING (0.00000 0.00000, 0.00000 0.00000, ...</td>\n",
       "    </tr>\n",
       "    <tr>\n",
       "      <th>2</th>\n",
       "      <td>2024-08-05 11-06-00.tlog</td>\n",
       "      <td>LINESTRING (0.00000 0.00000, 0.00000 0.00000, ...</td>\n",
       "    </tr>\n",
       "    <tr>\n",
       "      <th>3</th>\n",
       "      <td>2024-09-02 19-36-16.tlog</td>\n",
       "      <td>LINESTRING (0.00000 0.00000, 0.00000 0.00000, ...</td>\n",
       "    </tr>\n",
       "    <tr>\n",
       "      <th>4</th>\n",
       "      <td>2025-02-11 08-24-26.tlog</td>\n",
       "      <td>LINESTRING (-63.31327 -17.31760, -63.31327 -17...</td>\n",
       "    </tr>\n",
       "    <tr>\n",
       "      <th>5</th>\n",
       "      <td>2025-02-11 18-49-51.tlog</td>\n",
       "      <td>LINESTRING (-63.19842 -17.24302, -63.19842 -17...</td>\n",
       "    </tr>\n",
       "    <tr>\n",
       "      <th>6</th>\n",
       "      <td>2025-02-11 19-24-17.tlog</td>\n",
       "      <td>LINESTRING (-63.01951 -17.21301, -63.01951 -17...</td>\n",
       "    </tr>\n",
       "    <tr>\n",
       "      <th>7</th>\n",
       "      <td>2025-02-11 21-45-22.tlog</td>\n",
       "      <td>LINESTRING (-63.01938 -17.21304, -63.01938 -17...</td>\n",
       "    </tr>\n",
       "    <tr>\n",
       "      <th>8</th>\n",
       "      <td>2025-02-11 22-29-00.tlog</td>\n",
       "      <td>LINESTRING (-63.19832 -17.24328, -63.19832 -17...</td>\n",
       "    </tr>\n",
       "    <tr>\n",
       "      <th>9</th>\n",
       "      <td>2025-02-12 08-10-33.tlog</td>\n",
       "      <td>LINESTRING (-63.20468 -17.23692, -63.20468 -17...</td>\n",
       "    </tr>\n",
       "    <tr>\n",
       "      <th>10</th>\n",
       "      <td>2025-02-12 09-43-25.tlog</td>\n",
       "      <td>LINESTRING (-63.19839 -17.24318, -63.19839 -17...</td>\n",
       "    </tr>\n",
       "    <tr>\n",
       "      <th>11</th>\n",
       "      <td>2025-02-12 09-49-37.tlog</td>\n",
       "      <td>LINESTRING (-63.19831 -17.24331, -63.19831 -17...</td>\n",
       "    </tr>\n",
       "    <tr>\n",
       "      <th>12</th>\n",
       "      <td>2025-02-12 21-12-12.tlog</td>\n",
       "      <td>LINESTRING (-63.19833 -17.24332, -63.19833 -17...</td>\n",
       "    </tr>\n",
       "    <tr>\n",
       "      <th>13</th>\n",
       "      <td>2025-02-13 01-33-08.tlog</td>\n",
       "      <td>LINESTRING (-63.06613 -17.28851, -63.06613 -17...</td>\n",
       "    </tr>\n",
       "    <tr>\n",
       "      <th>14</th>\n",
       "      <td>2025-02-13 05-09-58.tlog</td>\n",
       "      <td>LINESTRING (-63.06204 -17.30009, -63.06204 -17...</td>\n",
       "    </tr>\n",
       "    <tr>\n",
       "      <th>15</th>\n",
       "      <td>2025-02-13 06-29-34.tlog</td>\n",
       "      <td>LINESTRING (-63.08842 -17.35170, -63.08842 -17...</td>\n",
       "    </tr>\n",
       "  </tbody>\n",
       "</table>\n",
       "</div>"
      ],
      "text/plain": [
       "                      nombre  \\\n",
       "0   2024-07-15 18-37-09.tlog   \n",
       "1   2024-07-24 19-53-05.tlog   \n",
       "2   2024-08-05 11-06-00.tlog   \n",
       "3   2024-09-02 19-36-16.tlog   \n",
       "4   2025-02-11 08-24-26.tlog   \n",
       "5   2025-02-11 18-49-51.tlog   \n",
       "6   2025-02-11 19-24-17.tlog   \n",
       "7   2025-02-11 21-45-22.tlog   \n",
       "8   2025-02-11 22-29-00.tlog   \n",
       "9   2025-02-12 08-10-33.tlog   \n",
       "10  2025-02-12 09-43-25.tlog   \n",
       "11  2025-02-12 09-49-37.tlog   \n",
       "12  2025-02-12 21-12-12.tlog   \n",
       "13  2025-02-13 01-33-08.tlog   \n",
       "14  2025-02-13 05-09-58.tlog   \n",
       "15  2025-02-13 06-29-34.tlog   \n",
       "\n",
       "                                             geometry  \n",
       "0   LINESTRING (0.00000 0.00000, 0.00000 0.00000, ...  \n",
       "1   LINESTRING (0.00000 0.00000, 0.00000 0.00000, ...  \n",
       "2   LINESTRING (0.00000 0.00000, 0.00000 0.00000, ...  \n",
       "3   LINESTRING (0.00000 0.00000, 0.00000 0.00000, ...  \n",
       "4   LINESTRING (-63.31327 -17.31760, -63.31327 -17...  \n",
       "5   LINESTRING (-63.19842 -17.24302, -63.19842 -17...  \n",
       "6   LINESTRING (-63.01951 -17.21301, -63.01951 -17...  \n",
       "7   LINESTRING (-63.01938 -17.21304, -63.01938 -17...  \n",
       "8   LINESTRING (-63.19832 -17.24328, -63.19832 -17...  \n",
       "9   LINESTRING (-63.20468 -17.23692, -63.20468 -17...  \n",
       "10  LINESTRING (-63.19839 -17.24318, -63.19839 -17...  \n",
       "11  LINESTRING (-63.19831 -17.24331, -63.19831 -17...  \n",
       "12  LINESTRING (-63.19833 -17.24332, -63.19833 -17...  \n",
       "13  LINESTRING (-63.06613 -17.28851, -63.06613 -17...  \n",
       "14  LINESTRING (-63.06204 -17.30009, -63.06204 -17...  \n",
       "15  LINESTRING (-63.08842 -17.35170, -63.08842 -17...  "
      ]
     },
     "execution_count": 28,
     "metadata": {},
     "output_type": "execute_result"
    }
   ],
   "source": [
    "gdf_lines"
   ]
  },
  {
   "cell_type": "code",
   "execution_count": 29,
   "id": "6a26d1ff-331f-4474-b665-2482b58a2e4d",
   "metadata": {},
   "outputs": [
    {
     "data": {
      "text/plain": [
       "<Axes: >"
      ]
     },
     "execution_count": 29,
     "metadata": {},
     "output_type": "execute_result"
    },
    {
     "data": {
      "image/png": "[encoded data removed]",
      "text/plain": [
       "<Figure size 640x480 with 1 Axes>"
      ]
     },
     "metadata": {},
     "output_type": "display_data"
    }
   ],
   "source": [
    "gdf_lines.plot()"
   ]
  },
  {
   "cell_type": "code",
   "execution_count": 30,
   "id": "e19354fd-3846-4f71-88b4-e546b8deb621",
   "metadata": {},
   "outputs": [],
   "source": [
    "# Función para dividir y limpiar las líneas\n",
    "def dividir_y_limpiar_linea(linea):\n",
    "    puntos = list(linea.coords)\n",
    "    nuevas_lineas = []\n",
    "    nueva_linea = []\n",
    "    \n",
    "    for punto in puntos:\n",
    "        if punto != (0, 0):\n",
    "            nueva_linea.append(punto)\n",
    "        else:\n",
    "            if nueva_linea:\n",
    "                nuevas_lineas.append(LineString(nueva_linea))\n",
    "                nueva_linea = []\n",
    "    \n",
    "    if nueva_linea:\n",
    "        nuevas_lineas.append(LineString(nueva_linea))\n",
    "    \n",
    "    return nuevas_lineas"
   ]
  },
  {
   "cell_type": "code",
   "execution_count": 31,
   "id": "7d405569-5da0-4ab6-8e82-b02a3dbdd4c2",
   "metadata": {},
   "outputs": [],
   "source": [
    "# Crear una lista para las nuevas líneas y nombres\n",
    "nuevas_lineas = []\n",
    "nuevos_nombres = []\n",
    "for idx, row in gdf_lines.iterrows():\n",
    "    lineas_divididas = dividir_y_limpiar_linea(row.geometry)\n",
    "    for linea in lineas_divididas:\n",
    "        nuevas_lineas.append(linea)\n",
    "        nuevos_nombres.append(row['nombre'])"
   ]
  },
  {
   "cell_type": "code",
   "execution_count": 32,
   "id": "e094a348-a4b5-4743-8c3a-c7dc6fb7a21a",
   "metadata": {},
   "outputs": [],
   "source": [
    "# Crear un nuevo GeoDataFrame con las nuevas líneas\n",
    "gdf_lines = gpd.GeoDataFrame({'nombre': nuevos_nombres, 'geometry': nuevas_lineas}, crs=\"EPSG:4326\")"
   ]
  },
  {
   "cell_type": "code",
   "execution_count": 33,
   "id": "0c91619d-f9dd-46af-9149-acca387f08e1",
   "metadata": {},
   "outputs": [],
   "source": [
    "# Función para contar la cantidad de coordenadas en una geometría de tipo LINESTRING\n",
    "def contar_coordenadas(linea):\n",
    "    return len(linea.coords)"
   ]
  },
  {
   "cell_type": "code",
   "execution_count": 34,
   "id": "02e41758-ab6e-46f4-90f6-686f83fc16bb",
   "metadata": {},
   "outputs": [],
   "source": [
    "gdf_lines['num_vert'] = gdf_lines['geometry'].apply(contar_coordenadas)"
   ]
  },
  {
   "cell_type": "code",
   "execution_count": 35,
   "id": "bae564ef-227a-4a2c-ab89-cb2cc7d43c53",
   "metadata": {},
   "outputs": [],
   "source": [
    "gdf_lines['vehiculo'] = vehiculo"
   ]
  },
  {
   "cell_type": "code",
   "execution_count": 36,
   "id": "7c21bb5c-d89a-4d80-88da-c6a7ed188f99",
   "metadata": {},
   "outputs": [
    {
     "data": {
      "text/html": [
       "<div>\n",
       "<style scoped>\n",
       "    .dataframe tbody tr th:only-of-type {\n",
       "        vertical-align: middle;\n",
       "    }\n",
       "\n",
       "    .dataframe tbody tr th {\n",
       "        vertical-align: top;\n",
       "    }\n",
       "\n",
       "    .dataframe thead th {\n",
       "        text-align: right;\n",
       "    }\n",
       "</style>\n",
       "<table border=\"1\" class=\"dataframe\">\n",
       "  <thead>\n",
       "    <tr style=\"text-align: right;\">\n",
       "      <th></th>\n",
       "      <th>nombre</th>\n",
       "      <th>geometry</th>\n",
       "      <th>num_vert</th>\n",
       "      <th>vehiculo</th>\n",
       "    </tr>\n",
       "  </thead>\n",
       "  <tbody>\n",
       "    <tr>\n",
       "      <th>0</th>\n",
       "      <td>2025-02-11 08-24-26.tlog</td>\n",
       "      <td>LINESTRING (-63.31327 -17.31760, -63.31327 -17...</td>\n",
       "      <td>1086</td>\n",
       "      <td>DA02</td>\n",
       "    </tr>\n",
       "    <tr>\n",
       "      <th>1</th>\n",
       "      <td>2025-02-11 08-24-26.tlog</td>\n",
       "      <td>LINESTRING (-63.31327 -17.31760, -63.31327 -17...</td>\n",
       "      <td>687</td>\n",
       "      <td>DA02</td>\n",
       "    </tr>\n",
       "    <tr>\n",
       "      <th>2</th>\n",
       "      <td>2025-02-11 18-49-51.tlog</td>\n",
       "      <td>LINESTRING (-63.19842 -17.24302, -63.19842 -17...</td>\n",
       "      <td>10803</td>\n",
       "      <td>DA02</td>\n",
       "    </tr>\n",
       "    <tr>\n",
       "      <th>3</th>\n",
       "      <td>2025-02-11 19-24-17.tlog</td>\n",
       "      <td>LINESTRING (-63.01951 -17.21301, -63.01951 -17...</td>\n",
       "      <td>2371</td>\n",
       "      <td>DA02</td>\n",
       "    </tr>\n",
       "    <tr>\n",
       "      <th>4</th>\n",
       "      <td>2025-02-11 21-45-22.tlog</td>\n",
       "      <td>LINESTRING (-63.01938 -17.21304, -63.01938 -17...</td>\n",
       "      <td>603</td>\n",
       "      <td>DA02</td>\n",
       "    </tr>\n",
       "    <tr>\n",
       "      <th>5</th>\n",
       "      <td>2025-02-11 22-29-00.tlog</td>\n",
       "      <td>LINESTRING (-63.19832 -17.24328, -63.19832 -17...</td>\n",
       "      <td>620</td>\n",
       "      <td>DA02</td>\n",
       "    </tr>\n",
       "    <tr>\n",
       "      <th>6</th>\n",
       "      <td>2025-02-11 22-29-00.tlog</td>\n",
       "      <td>LINESTRING (-63.19838 -17.24328, -63.19838 -17...</td>\n",
       "      <td>2086</td>\n",
       "      <td>DA02</td>\n",
       "    </tr>\n",
       "    <tr>\n",
       "      <th>7</th>\n",
       "      <td>2025-02-12 08-10-33.tlog</td>\n",
       "      <td>LINESTRING (-63.20468 -17.23692, -63.20468 -17...</td>\n",
       "      <td>1017</td>\n",
       "      <td>DA02</td>\n",
       "    </tr>\n",
       "    <tr>\n",
       "      <th>8</th>\n",
       "      <td>2025-02-12 09-43-25.tlog</td>\n",
       "      <td>LINESTRING (-63.19839 -17.24318, -63.19839 -17...</td>\n",
       "      <td>642</td>\n",
       "      <td>DA02</td>\n",
       "    </tr>\n",
       "    <tr>\n",
       "      <th>9</th>\n",
       "      <td>2025-02-12 09-49-37.tlog</td>\n",
       "      <td>LINESTRING (-63.19831 -17.24331, -63.19831 -17...</td>\n",
       "      <td>433</td>\n",
       "      <td>DA02</td>\n",
       "    </tr>\n",
       "    <tr>\n",
       "      <th>10</th>\n",
       "      <td>2025-02-12 09-49-37.tlog</td>\n",
       "      <td>LINESTRING (-63.19844 -17.24304, -63.19842 -17...</td>\n",
       "      <td>463</td>\n",
       "      <td>DA02</td>\n",
       "    </tr>\n",
       "    <tr>\n",
       "      <th>11</th>\n",
       "      <td>2025-02-12 21-12-12.tlog</td>\n",
       "      <td>LINESTRING (-63.19833 -17.24332, -63.19833 -17...</td>\n",
       "      <td>451</td>\n",
       "      <td>DA02</td>\n",
       "    </tr>\n",
       "    <tr>\n",
       "      <th>12</th>\n",
       "      <td>2025-02-13 01-33-08.tlog</td>\n",
       "      <td>LINESTRING (-63.06613 -17.28851, -63.06613 -17...</td>\n",
       "      <td>3520</td>\n",
       "      <td>DA02</td>\n",
       "    </tr>\n",
       "    <tr>\n",
       "      <th>13</th>\n",
       "      <td>2025-02-13 01-33-08.tlog</td>\n",
       "      <td>LINESTRING (-63.06614 -17.28854, -63.06614 -17...</td>\n",
       "      <td>1309</td>\n",
       "      <td>DA02</td>\n",
       "    </tr>\n",
       "    <tr>\n",
       "      <th>14</th>\n",
       "      <td>2025-02-13 01-33-08.tlog</td>\n",
       "      <td>LINESTRING (-63.06863 -17.29412, -63.06863 -17...</td>\n",
       "      <td>4152</td>\n",
       "      <td>DA02</td>\n",
       "    </tr>\n",
       "    <tr>\n",
       "      <th>15</th>\n",
       "      <td>2025-02-13 01-33-08.tlog</td>\n",
       "      <td>LINESTRING (-63.06863 -17.29417, -63.06863 -17...</td>\n",
       "      <td>3410</td>\n",
       "      <td>DA02</td>\n",
       "    </tr>\n",
       "    <tr>\n",
       "      <th>16</th>\n",
       "      <td>2025-02-13 01-33-08.tlog</td>\n",
       "      <td>LINESTRING (-63.06806 -17.29936, -63.06809 -17...</td>\n",
       "      <td>2340</td>\n",
       "      <td>DA02</td>\n",
       "    </tr>\n",
       "    <tr>\n",
       "      <th>17</th>\n",
       "      <td>2025-02-13 01-33-08.tlog</td>\n",
       "      <td>LINESTRING (-63.06806 -17.29935, -63.06806 -17...</td>\n",
       "      <td>2614</td>\n",
       "      <td>DA02</td>\n",
       "    </tr>\n",
       "    <tr>\n",
       "      <th>18</th>\n",
       "      <td>2025-02-13 05-09-58.tlog</td>\n",
       "      <td>LINESTRING (-63.06204 -17.30009, -63.06204 -17...</td>\n",
       "      <td>2904</td>\n",
       "      <td>DA02</td>\n",
       "    </tr>\n",
       "    <tr>\n",
       "      <th>19</th>\n",
       "      <td>2025-02-13 05-09-58.tlog</td>\n",
       "      <td>LINESTRING (-63.05413 -17.30721, -63.05413 -17...</td>\n",
       "      <td>2921</td>\n",
       "      <td>DA02</td>\n",
       "    </tr>\n",
       "    <tr>\n",
       "      <th>20</th>\n",
       "      <td>2025-02-13 05-09-58.tlog</td>\n",
       "      <td>LINESTRING (-63.05139 -17.30640, -63.05139 -17...</td>\n",
       "      <td>4042</td>\n",
       "      <td>DA02</td>\n",
       "    </tr>\n",
       "    <tr>\n",
       "      <th>21</th>\n",
       "      <td>2025-02-13 05-09-58.tlog</td>\n",
       "      <td>LINESTRING (-63.05061 -17.30900, -63.05061 -17...</td>\n",
       "      <td>3009</td>\n",
       "      <td>DA02</td>\n",
       "    </tr>\n",
       "    <tr>\n",
       "      <th>22</th>\n",
       "      <td>2025-02-13 05-09-58.tlog</td>\n",
       "      <td>LINESTRING (-63.05064 -17.30899, -63.05064 -17...</td>\n",
       "      <td>891</td>\n",
       "      <td>DA02</td>\n",
       "    </tr>\n",
       "    <tr>\n",
       "      <th>23</th>\n",
       "      <td>2025-02-13 05-09-58.tlog</td>\n",
       "      <td>LINESTRING (-63.06123 -17.31044, -63.06123 -17...</td>\n",
       "      <td>1781</td>\n",
       "      <td>DA02</td>\n",
       "    </tr>\n",
       "    <tr>\n",
       "      <th>24</th>\n",
       "      <td>2025-02-13 05-09-58.tlog</td>\n",
       "      <td>LINESTRING (-63.05919 -17.30865, -63.05919 -17...</td>\n",
       "      <td>1626</td>\n",
       "      <td>DA02</td>\n",
       "    </tr>\n",
       "    <tr>\n",
       "      <th>25</th>\n",
       "      <td>2025-02-13 05-09-58.tlog</td>\n",
       "      <td>LINESTRING (-63.08834 -17.35169, -63.08835 -17...</td>\n",
       "      <td>3295</td>\n",
       "      <td>DA02</td>\n",
       "    </tr>\n",
       "    <tr>\n",
       "      <th>26</th>\n",
       "      <td>2025-02-13 06-29-34.tlog</td>\n",
       "      <td>LINESTRING (-63.08842 -17.35170, -63.08842 -17...</td>\n",
       "      <td>2964</td>\n",
       "      <td>DA02</td>\n",
       "    </tr>\n",
       "    <tr>\n",
       "      <th>27</th>\n",
       "      <td>2025-02-13 06-29-34.tlog</td>\n",
       "      <td>LINESTRING (-63.08840 -17.35172, -63.08840 -17...</td>\n",
       "      <td>2074</td>\n",
       "      <td>DA02</td>\n",
       "    </tr>\n",
       "  </tbody>\n",
       "</table>\n",
       "</div>"
      ],
      "text/plain": [
       "                      nombre  \\\n",
       "0   2025-02-11 08-24-26.tlog   \n",
       "1   2025-02-11 08-24-26.tlog   \n",
       "2   2025-02-11 18-49-51.tlog   \n",
       "3   2025-02-11 19-24-17.tlog   \n",
       "4   2025-02-11 21-45-22.tlog   \n",
       "5   2025-02-11 22-29-00.tlog   \n",
       "6   2025-02-11 22-29-00.tlog   \n",
       "7   2025-02-12 08-10-33.tlog   \n",
       "8   2025-02-12 09-43-25.tlog   \n",
       "9   2025-02-12 09-49-37.tlog   \n",
       "10  2025-02-12 09-49-37.tlog   \n",
       "11  2025-02-12 21-12-12.tlog   \n",
       "12  2025-02-13 01-33-08.tlog   \n",
       "13  2025-02-13 01-33-08.tlog   \n",
       "14  2025-02-13 01-33-08.tlog   \n",
       "15  2025-02-13 01-33-08.tlog   \n",
       "16  2025-02-13 01-33-08.tlog   \n",
       "17  2025-02-13 01-33-08.tlog   \n",
       "18  2025-02-13 05-09-58.tlog   \n",
       "19  2025-02-13 05-09-58.tlog   \n",
       "20  2025-02-13 05-09-58.tlog   \n",
       "21  2025-02-13 05-09-58.tlog   \n",
       "22  2025-02-13 05-09-58.tlog   \n",
       "23  2025-02-13 05-09-58.tlog   \n",
       "24  2025-02-13 05-09-58.tlog   \n",
       "25  2025-02-13 05-09-58.tlog   \n",
       "26  2025-02-13 06-29-34.tlog   \n",
       "27  2025-02-13 06-29-34.tlog   \n",
       "\n",
       "                                             geometry  num_vert vehiculo  \n",
       "0   LINESTRING (-63.31327 -17.31760, -63.31327 -17...      1086     DA02  \n",
       "1   LINESTRING (-63.31327 -17.31760, -63.31327 -17...       687     DA02  \n",
       "2   LINESTRING (-63.19842 -17.24302, -63.19842 -17...     10803     DA02  \n",
       "3   LINESTRING (-63.01951 -17.21301, -63.01951 -17...      2371     DA02  \n",
       "4   LINESTRING (-63.01938 -17.21304, -63.01938 -17...       603     DA02  \n",
       "5   LINESTRING (-63.19832 -17.24328, -63.19832 -17...       620     DA02  \n",
       "6   LINESTRING (-63.19838 -17.24328, -63.19838 -17...      2086     DA02  \n",
       "7   LINESTRING (-63.20468 -17.23692, -63.20468 -17...      1017     DA02  \n",
       "8   LINESTRING (-63.19839 -17.24318, -63.19839 -17...       642     DA02  \n",
       "9   LINESTRING (-63.19831 -17.24331, -63.19831 -17...       433     DA02  \n",
       "10  LINESTRING (-63.19844 -17.24304, -63.19842 -17...       463     DA02  \n",
       "11  LINESTRING (-63.19833 -17.24332, -63.19833 -17...       451     DA02  \n",
       "12  LINESTRING (-63.06613 -17.28851, -63.06613 -17...      3520     DA02  \n",
       "13  LINESTRING (-63.06614 -17.28854, -63.06614 -17...      1309     DA02  \n",
       "14  LINESTRING (-63.06863 -17.29412, -63.06863 -17...      4152     DA02  \n",
       "15  LINESTRING (-63.06863 -17.29417, -63.06863 -17...      3410     DA02  \n",
       "16  LINESTRING (-63.06806 -17.29936, -63.06809 -17...      2340     DA02  \n",
       "17  LINESTRING (-63.06806 -17.29935, -63.06806 -17...      2614     DA02  \n",
       "18  LINESTRING (-63.06204 -17.30009, -63.06204 -17...      2904     DA02  \n",
       "19  LINESTRING (-63.05413 -17.30721, -63.05413 -17...      2921     DA02  \n",
       "20  LINESTRING (-63.05139 -17.30640, -63.05139 -17...      4042     DA02  \n",
       "21  LINESTRING (-63.05061 -17.30900, -63.05061 -17...      3009     DA02  \n",
       "22  LINESTRING (-63.05064 -17.30899, -63.05064 -17...       891     DA02  \n",
       "23  LINESTRING (-63.06123 -17.31044, -63.06123 -17...      1781     DA02  \n",
       "24  LINESTRING (-63.05919 -17.30865, -63.05919 -17...      1626     DA02  \n",
       "25  LINESTRING (-63.08834 -17.35169, -63.08835 -17...      3295     DA02  \n",
       "26  LINESTRING (-63.08842 -17.35170, -63.08842 -17...      2964     DA02  \n",
       "27  LINESTRING (-63.08840 -17.35172, -63.08840 -17...      2074     DA02  "
      ]
     },
     "execution_count": 36,
     "metadata": {},
     "output_type": "execute_result"
    }
   ],
   "source": [
    "gdf_lines"
   ]
  },
  {
   "cell_type": "code",
   "execution_count": 37,
   "id": "53ff8c8a-2a43-4afe-bed5-38f1530fdae0",
   "metadata": {},
   "outputs": [
    {
     "data": {
      "text/plain": [
       "<Axes: >"
      ]
     },
     "execution_count": 37,
     "metadata": {},
     "output_type": "execute_result"
    },
    {
     "data": {
      "image/png": "[encoded data removed]",
      "text/plain": [
       "<Figure size 640x480 with 1 Axes>"
      ]
     },
     "metadata": {},
     "output_type": "display_data"
    }
   ],
   "source": [
    "gdf_lines.plot()"
   ]
  },
  {
   "cell_type": "code",
   "execution_count": 38,
   "id": "d663ceb7-df00-447c-858a-6493a884b0ed",
   "metadata": {},
   "outputs": [],
   "source": [
    "gdf_lines.crs = \"EPSG:4326\"\n",
    "gdf_lines_utm = gdf_lines.to_crs(epsg=32720)"
   ]
  },
  {
   "cell_type": "code",
   "execution_count": 39,
   "id": "a04b10fb-340a-4b87-8ccd-d3a03057ceba",
   "metadata": {},
   "outputs": [
    {
     "data": {
      "text/plain": [
       "<Axes: >"
      ]
     },
     "execution_count": 39,
     "metadata": {},
     "output_type": "execute_result"
    },
    {
     "data": {
      "image/png": "[encoded data removed]",
      "text/plain": [
       "<Figure size 640x480 with 1 Axes>"
      ]
     },
     "metadata": {},
     "output_type": "display_data"
    }
   ],
   "source": [
    "gdf_lines_utm.plot()"
   ]
  },
  {
   "cell_type": "code",
   "execution_count": 40,
   "id": "6f4d4c1a-3d7a-467c-bc89-c93475ae3aca",
   "metadata": {},
   "outputs": [],
   "source": [
    "# Combinar los GeoDataFrames\n",
    "gdf_combined = gpd.GeoDataFrame(pd.concat([gdf_rec, gdf_lines_utm], ignore_index=True))\n",
    "# rellenar valores NaN\n",
    "gdf_combined['idd'] = gdf_combined['idd'].fillna(0).astype(int)"
   ]
  },
  {
   "cell_type": "code",
   "execution_count": 41,
   "id": "0eb2ed02-320b-4b64-921b-316c75f27ef9",
   "metadata": {},
   "outputs": [
    {
     "data": {
      "text/html": [
       "<div>\n",
       "<style scoped>\n",
       "    .dataframe tbody tr th:only-of-type {\n",
       "        vertical-align: middle;\n",
       "    }\n",
       "\n",
       "    .dataframe tbody tr th {\n",
       "        vertical-align: top;\n",
       "    }\n",
       "\n",
       "    .dataframe thead th {\n",
       "        text-align: right;\n",
       "    }\n",
       "</style>\n",
       "<table border=\"1\" class=\"dataframe\">\n",
       "  <thead>\n",
       "    <tr style=\"text-align: right;\">\n",
       "      <th></th>\n",
       "      <th>idd</th>\n",
       "      <th>nombre</th>\n",
       "      <th>vehiculo</th>\n",
       "      <th>num_vert</th>\n",
       "      <th>id</th>\n",
       "      <th>asignado</th>\n",
       "      <th>geometry</th>\n",
       "    </tr>\n",
       "  </thead>\n",
       "  <tbody>\n",
       "    <tr>\n",
       "      <th>0</th>\n",
       "      <td>1</td>\n",
       "      <td>Jul-20th-2024-08-43PM-Flight-Airdata.kml</td>\n",
       "      <td>DA03</td>\n",
       "      <td>807</td>\n",
       "      <td>1.0</td>\n",
       "      <td>si</td>\n",
       "      <td>LINESTRING (460257.759 8096126.683, 460257.759...</td>\n",
       "    </tr>\n",
       "    <tr>\n",
       "      <th>1</th>\n",
       "      <td>63</td>\n",
       "      <td>Jul-25th-2024-05-47PM-Flight-Airdata.kml</td>\n",
       "      <td>DA03</td>\n",
       "      <td>931</td>\n",
       "      <td>2.0</td>\n",
       "      <td>si</td>\n",
       "      <td>LINESTRING (456011.255 8084542.548, 456011.265...</td>\n",
       "    </tr>\n",
       "    <tr>\n",
       "      <th>2</th>\n",
       "      <td>63</td>\n",
       "      <td>Jul-25th-2024-06-51PM-Flight-Airdata.kml</td>\n",
       "      <td>DA03</td>\n",
       "      <td>1168</td>\n",
       "      <td>3.0</td>\n",
       "      <td>None</td>\n",
       "      <td>LINESTRING (455648.848 8084842.307, 455648.848...</td>\n",
       "    </tr>\n",
       "    <tr>\n",
       "      <th>3</th>\n",
       "      <td>63</td>\n",
       "      <td>Jul-25th-2024-07-06PM-Flight-Airdata.kml</td>\n",
       "      <td>DA03</td>\n",
       "      <td>1581</td>\n",
       "      <td>4.0</td>\n",
       "      <td>None</td>\n",
       "      <td>LINESTRING (455647.763 8084843.024, 455647.752...</td>\n",
       "    </tr>\n",
       "    <tr>\n",
       "      <th>4</th>\n",
       "      <td>1</td>\n",
       "      <td>Jul-25th-2024-10-42PM-Flight-Airdata.kml</td>\n",
       "      <td>DA03</td>\n",
       "      <td>1225</td>\n",
       "      <td>5.0</td>\n",
       "      <td>None</td>\n",
       "      <td>LINESTRING (460855.506 8095707.381, 460855.527...</td>\n",
       "    </tr>\n",
       "    <tr>\n",
       "      <th>...</th>\n",
       "      <td>...</td>\n",
       "      <td>...</td>\n",
       "      <td>...</td>\n",
       "      <td>...</td>\n",
       "      <td>...</td>\n",
       "      <td>...</td>\n",
       "      <td>...</td>\n",
       "    </tr>\n",
       "    <tr>\n",
       "      <th>2928</th>\n",
       "      <td>0</td>\n",
       "      <td>2025-02-13 05-09-58.tlog</td>\n",
       "      <td>DA02</td>\n",
       "      <td>1781</td>\n",
       "      <td>NaN</td>\n",
       "      <td>NaN</td>\n",
       "      <td>LINESTRING (493493.273 8086101.038, 493493.273...</td>\n",
       "    </tr>\n",
       "    <tr>\n",
       "      <th>2929</th>\n",
       "      <td>0</td>\n",
       "      <td>2025-02-13 05-09-58.tlog</td>\n",
       "      <td>DA02</td>\n",
       "      <td>1626</td>\n",
       "      <td>NaN</td>\n",
       "      <td>NaN</td>\n",
       "      <td>LINESTRING (493710.495 8086299.208, 493710.463...</td>\n",
       "    </tr>\n",
       "    <tr>\n",
       "      <th>2930</th>\n",
       "      <td>0</td>\n",
       "      <td>2025-02-13 05-09-58.tlog</td>\n",
       "      <td>DA02</td>\n",
       "      <td>3295</td>\n",
       "      <td>NaN</td>\n",
       "      <td>NaN</td>\n",
       "      <td>LINESTRING (490614.293 8081536.064, 490613.432...</td>\n",
       "    </tr>\n",
       "    <tr>\n",
       "      <th>2931</th>\n",
       "      <td>0</td>\n",
       "      <td>2025-02-13 06-29-34.tlog</td>\n",
       "      <td>DA02</td>\n",
       "      <td>2964</td>\n",
       "      <td>NaN</td>\n",
       "      <td>NaN</td>\n",
       "      <td>LINESTRING (490606.485 8081534.821, 490606.495...</td>\n",
       "    </tr>\n",
       "    <tr>\n",
       "      <th>2932</th>\n",
       "      <td>0</td>\n",
       "      <td>2025-02-13 06-29-34.tlog</td>\n",
       "      <td>DA02</td>\n",
       "      <td>2074</td>\n",
       "      <td>NaN</td>\n",
       "      <td>NaN</td>\n",
       "      <td>LINESTRING (490608.100 8081533.472, 490608.100...</td>\n",
       "    </tr>\n",
       "  </tbody>\n",
       "</table>\n",
       "<p>2933 rows × 7 columns</p>\n",
       "</div>"
      ],
      "text/plain": [
       "      idd                                    nombre vehiculo  num_vert   id  \\\n",
       "0       1  Jul-20th-2024-08-43PM-Flight-Airdata.kml     DA03       807  1.0   \n",
       "1      63  Jul-25th-2024-05-47PM-Flight-Airdata.kml     DA03       931  2.0   \n",
       "2      63  Jul-25th-2024-06-51PM-Flight-Airdata.kml     DA03      1168  3.0   \n",
       "3      63  Jul-25th-2024-07-06PM-Flight-Airdata.kml     DA03      1581  4.0   \n",
       "4       1  Jul-25th-2024-10-42PM-Flight-Airdata.kml     DA03      1225  5.0   \n",
       "...   ...                                       ...      ...       ...  ...   \n",
       "2928    0                  2025-02-13 05-09-58.tlog     DA02      1781  NaN   \n",
       "2929    0                  2025-02-13 05-09-58.tlog     DA02      1626  NaN   \n",
       "2930    0                  2025-02-13 05-09-58.tlog     DA02      3295  NaN   \n",
       "2931    0                  2025-02-13 06-29-34.tlog     DA02      2964  NaN   \n",
       "2932    0                  2025-02-13 06-29-34.tlog     DA02      2074  NaN   \n",
       "\n",
       "     asignado                                           geometry  \n",
       "0          si  LINESTRING (460257.759 8096126.683, 460257.759...  \n",
       "1          si  LINESTRING (456011.255 8084542.548, 456011.265...  \n",
       "2        None  LINESTRING (455648.848 8084842.307, 455648.848...  \n",
       "3        None  LINESTRING (455647.763 8084843.024, 455647.752...  \n",
       "4        None  LINESTRING (460855.506 8095707.381, 460855.527...  \n",
       "...       ...                                                ...  \n",
       "2928      NaN  LINESTRING (493493.273 8086101.038, 493493.273...  \n",
       "2929      NaN  LINESTRING (493710.495 8086299.208, 493710.463...  \n",
       "2930      NaN  LINESTRING (490614.293 8081536.064, 490613.432...  \n",
       "2931      NaN  LINESTRING (490606.485 8081534.821, 490606.495...  \n",
       "2932      NaN  LINESTRING (490608.100 8081533.472, 490608.100...  \n",
       "\n",
       "[2933 rows x 7 columns]"
      ]
     },
     "execution_count": 41,
     "metadata": {},
     "output_type": "execute_result"
    }
   ],
   "source": [
    "gdf_combined"
   ]
  },
  {
   "cell_type": "code",
   "execution_count": 42,
   "id": "a533a1fd-3f67-457f-9b09-9607ef4fb5fd",
   "metadata": {},
   "outputs": [
    {
     "data": {
      "text/plain": [
       "idd            int32\n",
       "nombre        object\n",
       "vehiculo      object\n",
       "num_vert       int64\n",
       "id           float64\n",
       "asignado      object\n",
       "geometry    geometry\n",
       "dtype: object"
      ]
     },
     "execution_count": 42,
     "metadata": {},
     "output_type": "execute_result"
    }
   ],
   "source": [
    "gdf_combined.dtypes"
   ]
  },
  {
   "cell_type": "code",
   "execution_count": 43,
   "id": "a6aa1191-afe4-485b-a918-93aa19dc8453",
   "metadata": {},
   "outputs": [],
   "source": [
    "gdf_combined.to_file(path_rec, driver=\"ESRI Shapefile\")"
   ]
  },
  {
   "cell_type": "code",
   "execution_count": null,
   "id": "e1090b73-7bb8-41ac-bd65-d57718b11a2a",
   "metadata": {},
   "outputs": [],
   "source": []
  },
  {
   "cell_type": "code",
   "execution_count": null,
   "id": "2429b83e-6cf9-476d-a3ac-3b92cd38ad08",
   "metadata": {},
   "outputs": [],
   "source": []
  },
  {
   "cell_type": "code",
   "execution_count": null,
   "id": "0fd2aae3-cd66-47f2-b738-5d892c951c1c",
   "metadata": {},
   "outputs": [],
   "source": []
  },
  {
   "cell_type": "code",
   "execution_count": null,
   "id": "5a55b0c2-1843-45be-a876-53b396f21796",
   "metadata": {},
   "outputs": [],
   "source": []
  }
 ],
 "metadata": {
  "kernelspec": {
   "display_name": "Python 3 (ipykernel)",
   "language": "python",
   "name": "python3"
  },
  "language_info": {
   "codemirror_mode": {
    "name": "ipython",
    "version": 3
   },
   "file_extension": ".py",
   "mimetype": "text/x-python",
   "name": "python",
   "nbconvert_exporter": "python",
   "pygments_lexer": "ipython3",
   "version": "3.10.13"
  }
 },
 "nbformat": 4,
 "nbformat_minor": 5
}
