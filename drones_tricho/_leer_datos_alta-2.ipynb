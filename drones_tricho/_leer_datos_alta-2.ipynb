{
 "cells": [
  {
   "cell_type": "code",
   "execution_count": 30,
   "id": "cab3dbee-d839-4014-9443-a2dcaffeab45",
   "metadata": {},
   "outputs": [],
   "source": [
    "import sys\n",
    "sys.path.append('..')"
   ]
  },
  {
   "cell_type": "code",
   "execution_count": 31,
   "id": "471a58e2-7e57-4c39-9f66-2901e67bad16",
   "metadata": {},
   "outputs": [],
   "source": [
    "from pymavlink import mavutil\n",
    "\n",
    "import matplotlib.pyplot as plt\n",
    "import pandas as pd\n",
    "import os\n",
    "import geopandas as gpd\n",
    "from shapely.geometry import Point, LineString"
   ]
  },
  {
   "cell_type": "code",
   "execution_count": 32,
   "id": "ac98b513-3756-4a5a-b75e-cba8532f1d8d",
   "metadata": {},
   "outputs": [],
   "source": [
    "from config import RUTA_UNIDAD_ONE_DRIVE\n",
    "from config import RUTA_LOCAL_ONE_DRIVE\n",
    "\n",
    "RUTA_COMPLETA = os.path.join(RUTA_UNIDAD_ONE_DRIVE, RUTA_LOCAL_ONE_DRIVE)"
   ]
  },
  {
   "cell_type": "code",
   "execution_count": 33,
   "id": "225b4ea5-a870-4d2d-a35c-41f4b31067f0",
   "metadata": {},
   "outputs": [
    {
     "data": {
      "text/plain": [
       "'G:\\\\OneDrive - Ingenio Azucarero Guabira S.A\\\\_DATOS_PYTHON'"
      ]
     },
     "execution_count": 33,
     "metadata": {},
     "output_type": "execute_result"
    }
   ],
   "source": [
    "RUTA_COMPLETA"
   ]
  },
  {
   "cell_type": "code",
   "execution_count": 34,
   "id": "2daa78ba-f5c9-44f1-b6b2-4640c8891024",
   "metadata": {},
   "outputs": [],
   "source": [
    "vehiculo = 'DA02'"
   ]
  },
  {
   "cell_type": "code",
   "execution_count": 35,
   "id": "267f5023-bc5a-45eb-8207-5364f8d9166d",
   "metadata": {},
   "outputs": [],
   "source": [
    "path_rec = RUTA_UNIDAD_ONE_DRIVE + r'\\Ingenio Azucarero Guabira S.A\\UTEA - SEMANAL - EQUIPO AVIACION UTEA\\Trichogramma\\2025\\SHP\\RECORRIDOS.shp'\n",
    "gdf_rec = gpd.read_file(path_rec)"
   ]
  },
  {
   "cell_type": "code",
   "execution_count": 36,
   "id": "504d15e2-1b8c-45c8-8f0a-b574cd569e93",
   "metadata": {},
   "outputs": [
    {
     "data": {
      "text/plain": [
       "46"
      ]
     },
     "execution_count": 36,
     "metadata": {},
     "output_type": "execute_result"
    }
   ],
   "source": [
    "if vehiculo == 'DA01':\n",
    "    path_log = RUTA_UNIDAD_ONE_DRIVE + r'\\Ingenio Azucarero Guabira S.A\\UTEA - SEMANAL - EQUIPO AVIACION UTEA\\Trichogramma\\2025\\TLOGS\\ALTA_01'\n",
    "elif vehiculo == 'DA02':\n",
    "    path_log = RUTA_UNIDAD_ONE_DRIVE + r'\\Ingenio Azucarero Guabira S.A\\UTEA - SEMANAL - EQUIPO AVIACION UTEA\\Trichogramma\\2025\\TLOGS\\ALTA_02'\n",
    "elif vehiculo == 'DA03':\n",
    "    path_log = RUTA_UNIDAD_ONE_DRIVE + r'\\Ingenio Azucarero Guabira S.A\\UTEA - SEMANAL - EQUIPO AVIACION UTEA\\Trichogramma\\2025\\TLOGS\\ALTA_03'\n",
    "contenido = os.listdir(path_log)\n",
    "len(contenido)"
   ]
  },
  {
   "cell_type": "code",
   "execution_count": 37,
   "id": "3f11a10e-4884-402e-a913-268ed87089c8",
   "metadata": {},
   "outputs": [
    {
     "data": {
      "text/plain": [
       "41"
      ]
     },
     "execution_count": 37,
     "metadata": {},
     "output_type": "execute_result"
    }
   ],
   "source": [
    "# Filtrar la lista 'contenido' para excluir elementos que están en la columna 'nombre' del GeoDataFrame\n",
    "contenido_filtrado = [item for item in contenido if item not in gdf_rec['nombre'].values]\n",
    "len(contenido_filtrado)"
   ]
  },
  {
   "cell_type": "code",
   "execution_count": 38,
   "id": "ca3c281f-b619-4640-92a2-6c815204fc7c",
   "metadata": {},
   "outputs": [],
   "source": [
    "def leer_logs(lista_logs):\n",
    "    list_geo = []\n",
    "    list_name = []\n",
    "    for i in lista_logs:\n",
    "        log = path_log + '/' + i\n",
    "        \n",
    "        name = i\n",
    "        \n",
    "        mlog = mavutil.mavlink_connection(log)\n",
    "        lats = []\n",
    "        lons = []\n",
    "        while True:\n",
    "            msg = mlog.recv_match()\n",
    "            if not msg:\n",
    "                break\n",
    "            # Ejemplo de procesamiento de mensaje\n",
    "            if msg.get_type() == 'GLOBAL_POSITION_INT':\n",
    "                lat = msg.lat / 1e7  # Latitud en grados\n",
    "                lon = msg.lon / 1e7  # Longitud en grados\n",
    "                lats.append(lat)\n",
    "                lons.append(lon)\n",
    "\n",
    "        coors = {'lat':lats, 'lon':lons}\n",
    "        df = pd.DataFrame(coors)\n",
    "        \n",
    "        geometry = [Point(xy) for xy in zip(df['lon'], df['lat'])]\n",
    "        line = LineString(geometry)\n",
    "        list_geo.append(line)\n",
    "        list_name.append(name)\n",
    "    return (list_geo, list_name)"
   ]
  },
  {
   "cell_type": "code",
   "execution_count": 39,
   "id": "d28df3e9-37ed-403b-b3c8-c9873fa59851",
   "metadata": {},
   "outputs": [],
   "source": [
    "lineas, names = leer_logs(contenido_filtrado)"
   ]
  },
  {
   "cell_type": "code",
   "execution_count": 40,
   "id": "3654c9fa-70ac-4101-acc1-501bcbbef161",
   "metadata": {},
   "outputs": [
    {
     "data": {
      "text/plain": [
       "[<LINESTRING (-63.198 -17.243, -63.198 -17.243, -63.198 -17.243, -63.198 -17....>,\n",
       " <LINESTRING (-63.129 -17.293, -63.129 -17.293, -63.129 -17.293, -63.129 -17....>,\n",
       " <LINESTRING (-63.138 -17.294, -63.138 -17.294, -63.138 -17.294, -63.138 -17....>,\n",
       " <LINESTRING (-63.139 -17.251, -63.139 -17.251, -63.139 -17.251, -63.139 -17....>,\n",
       " <LINESTRING (-63.148 -17.255, -63.148 -17.255, -63.148 -17.255, -63.148 -17....>,\n",
       " <LINESTRING (-63.151 -17.265, -63.151 -17.265, -63.151 -17.265, -63.151 -17....>,\n",
       " <LINESTRING (0 0, 0 0, 0 0, 0 0, 0 0, 0 0, 0 0, 0 0, 0 0, 0 0, 0 0, 0 0, 0 0...>,\n",
       " <LINESTRING (-63.648 -17.273, -63.648 -17.273, -63.648 -17.273, -63.648 -17....>,\n",
       " <LINESTRING (-63.149 -17.227, -63.149 -17.227, -63.149 -17.227, -63.149 -17....>,\n",
       " <LINESTRING (-63.165 -17.277, -63.165 -17.277, -63.165 -17.277, -63.165 -17....>,\n",
       " <LINESTRING (-63.107 -17.151, -63.107 -17.151, -63.107 -17.151, -63.107 -17....>,\n",
       " <LINESTRING (-63.001 -17.224, -63.001 -17.224, -63.001 -17.224, -63.001 -17....>,\n",
       " <LINESTRING (-62.825 -17.16, -62.825 -17.16, -62.825 -17.16, -62.825 -17.16,...>,\n",
       " <LINESTRING (-62.825 -17.16, -62.825 -17.16, -62.825 -17.16, -62.825 -17.16,...>,\n",
       " <LINESTRING (-62.827 -17.163, -62.827 -17.163, -62.827 -17.163, -62.827 -17....>,\n",
       " <LINESTRING (-62.828 -17.165, -62.828 -17.165, -62.828 -17.165, -62.828 -17....>,\n",
       " <LINESTRING (-62.828 -17.165, -62.828 -17.165, -62.828 -17.165, -62.828 -17....>,\n",
       " <LINESTRING (-62.829 -17.171, -62.829 -17.171, -62.829 -17.171, -62.829 -17....>,\n",
       " <LINESTRING (-62.829 -17.171, -62.829 -17.171, -62.829 -17.171, -62.829 -17....>,\n",
       " <LINESTRING (-62.829 -17.171, -62.829 -17.171, -62.829 -17.171, -62.829 -17....>,\n",
       " <LINESTRING (-62.971 -17.23, -62.971 -17.23, -62.971 -17.23, -62.971 -17.23,...>,\n",
       " <LINESTRING (-62.974 -17.229, -62.974 -17.229, -62.974 -17.229, -62.974 -17....>,\n",
       " <LINESTRING (-62.981 -17.225, -62.981 -17.225, -62.981 -17.225, -62.981 -17....>,\n",
       " <LINESTRING (-62.985 -17.234, -62.985 -17.234, -62.985 -17.234, -62.985 -17....>,\n",
       " <LINESTRING (-62.988 -17.228, -62.988 -17.228, -62.988 -17.228, -62.988 -17....>,\n",
       " <LINESTRING (-62.99 -17.22, -62.99 -17.22, -62.99 -17.22, -62.99 -17.22, -62...>,\n",
       " <LINESTRING (-62.99 -17.22, -62.99 -17.22, -62.99 -17.22, -62.99 -17.22, -62...>,\n",
       " <LINESTRING (-63.002 -17.224, -63.002 -17.224, -63.002 -17.224, -63.002 -17....>,\n",
       " <LINESTRING (-63.002 -17.224, -63.002 -17.224, -63.002 -17.224, -63.002 -17....>,\n",
       " <LINESTRING (-63.002 -17.224, -63.002 -17.224, -63.002 -17.224, -63.002 -17....>,\n",
       " <LINESTRING (-63.002 -17.224, -63.002 -17.224, -63.002 -17.224, -63.002 -17....>,\n",
       " <LINESTRING (-63.002 -17.224, -63.002 -17.224, -63.002 -17.224, -63.002 -17....>,\n",
       " <LINESTRING (0 0, 0 0, 0 0, 0 0, 0 0, 0 0, 0 0, 0 0, 0 0, 0 0, 0 0, 0 0, 0 0...>,\n",
       " <LINESTRING (-63.2 -17.245, -63.2 -17.245, -63.2 -17.245, -63.2 -17.245, -63...>,\n",
       " <LINESTRING (-63.181 -17.249, -63.181 -17.249, -63.181 -17.249, -63.181 -17....>,\n",
       " <LINESTRING (-63.18 -17.251, -63.18 -17.251, -63.18 -17.251, -63.18 -17.251,...>,\n",
       " <LINESTRING (0 0, 0 0, 0 0, 0 0, 0 0, -63.286 -17.27, -63.286 -17.27, -63.28...>,\n",
       " <LINESTRING (-62.815 -17.444, -62.815 -17.444, -62.815 -17.444, -62.815 -17....>,\n",
       " <LINESTRING (-62.815 -17.444, -62.815 -17.444, -62.815 -17.444, -62.815 -17....>,\n",
       " <LINESTRING (-62.814 -17.451, -62.814 -17.451, -62.814 -17.451, -62.814 -17....>,\n",
       " <LINESTRING (0 0, 0 0, 0 0, -62.826 -17.445, -62.826 -17.445, -62.826 -17.44...>]"
      ]
     },
     "execution_count": 40,
     "metadata": {},
     "output_type": "execute_result"
    }
   ],
   "source": [
    "lineas"
   ]
  },
  {
   "cell_type": "code",
   "execution_count": 41,
   "id": "65a842f9-e32d-455e-9f12-0d5461b62b56",
   "metadata": {},
   "outputs": [],
   "source": [
    "# Crear un GeoDataFrame con los LineStrings y sus nombres\n",
    "gdf_lines = gpd.GeoDataFrame({'nombre': names, 'geometry': lineas}, crs=\"EPSG:4326\")"
   ]
  },
  {
   "cell_type": "code",
   "execution_count": 42,
   "id": "76afc766-6f98-430f-bd2f-b94ad23f47d8",
   "metadata": {},
   "outputs": [
    {
     "data": {
      "text/html": [
       "<div>\n",
       "<style scoped>\n",
       "    .dataframe tbody tr th:only-of-type {\n",
       "        vertical-align: middle;\n",
       "    }\n",
       "\n",
       "    .dataframe tbody tr th {\n",
       "        vertical-align: top;\n",
       "    }\n",
       "\n",
       "    .dataframe thead th {\n",
       "        text-align: right;\n",
       "    }\n",
       "</style>\n",
       "<table border=\"1\" class=\"dataframe\">\n",
       "  <thead>\n",
       "    <tr style=\"text-align: right;\">\n",
       "      <th></th>\n",
       "      <th>nombre</th>\n",
       "      <th>geometry</th>\n",
       "    </tr>\n",
       "  </thead>\n",
       "  <tbody>\n",
       "    <tr>\n",
       "      <th>0</th>\n",
       "      <td>2024-05-18 16-12-01.tlog</td>\n",
       "      <td>LINESTRING (-63.19842 -17.24297, -63.19842 -17...</td>\n",
       "    </tr>\n",
       "    <tr>\n",
       "      <th>1</th>\n",
       "      <td>2024-09-08 08-09-24.tlog</td>\n",
       "      <td>LINESTRING (-63.12879 -17.29262, -63.12879 -17...</td>\n",
       "    </tr>\n",
       "    <tr>\n",
       "      <th>2</th>\n",
       "      <td>2024-09-08 08-38-09.tlog</td>\n",
       "      <td>LINESTRING (-63.13781 -17.29423, -63.13781 -17...</td>\n",
       "    </tr>\n",
       "    <tr>\n",
       "      <th>3</th>\n",
       "      <td>2024-09-10 20-34-08.tlog</td>\n",
       "      <td>LINESTRING (-63.13882 -17.25077, -63.13882 -17...</td>\n",
       "    </tr>\n",
       "    <tr>\n",
       "      <th>4</th>\n",
       "      <td>2024-09-10 21-32-34.tlog</td>\n",
       "      <td>LINESTRING (-63.14833 -17.25458, -63.14833 -17...</td>\n",
       "    </tr>\n",
       "    <tr>\n",
       "      <th>5</th>\n",
       "      <td>2024-09-10 22-12-39.tlog</td>\n",
       "      <td>LINESTRING (-63.15099 -17.26455, -63.15099 -17...</td>\n",
       "    </tr>\n",
       "    <tr>\n",
       "      <th>6</th>\n",
       "      <td>2024-09-11 19-54-29.tlog</td>\n",
       "      <td>LINESTRING (0.00000 0.00000, 0.00000 0.00000, ...</td>\n",
       "    </tr>\n",
       "    <tr>\n",
       "      <th>7</th>\n",
       "      <td>2024-09-13 18-51-15.tlog</td>\n",
       "      <td>LINESTRING (-63.64849 -17.27301, -63.64849 -17...</td>\n",
       "    </tr>\n",
       "    <tr>\n",
       "      <th>8</th>\n",
       "      <td>2024-09-13 20-07-20.tlog</td>\n",
       "      <td>LINESTRING (-63.14937 -17.22700, -63.14937 -17...</td>\n",
       "    </tr>\n",
       "    <tr>\n",
       "      <th>9</th>\n",
       "      <td>2024-09-16 20-48-38.tlog</td>\n",
       "      <td>LINESTRING (-63.16515 -17.27737, -63.16512 -17...</td>\n",
       "    </tr>\n",
       "    <tr>\n",
       "      <th>10</th>\n",
       "      <td>2024-09-16 22-04-55.tlog</td>\n",
       "      <td>LINESTRING (-63.10718 -17.15074, -63.10718 -17...</td>\n",
       "    </tr>\n",
       "    <tr>\n",
       "      <th>11</th>\n",
       "      <td>2025-05-09 13-10-22.tlog</td>\n",
       "      <td>LINESTRING (-63.00148 -17.22425, -63.00148 -17...</td>\n",
       "    </tr>\n",
       "    <tr>\n",
       "      <th>12</th>\n",
       "      <td>2025-06-26 14-26-39.tlog</td>\n",
       "      <td>LINESTRING (-62.82460 -17.15972, -62.82460 -17...</td>\n",
       "    </tr>\n",
       "    <tr>\n",
       "      <th>13</th>\n",
       "      <td>2025-06-26 15-03-35.tlog</td>\n",
       "      <td>LINESTRING (-62.82482 -17.16021, -62.82482 -17...</td>\n",
       "    </tr>\n",
       "    <tr>\n",
       "      <th>14</th>\n",
       "      <td>2025-06-26 16-41-05.tlog</td>\n",
       "      <td>LINESTRING (-62.82658 -17.16336, -62.82658 -17...</td>\n",
       "    </tr>\n",
       "    <tr>\n",
       "      <th>15</th>\n",
       "      <td>2025-06-26 17-19-29.tlog</td>\n",
       "      <td>LINESTRING (-62.82816 -17.16544, -62.82816 -17...</td>\n",
       "    </tr>\n",
       "    <tr>\n",
       "      <th>16</th>\n",
       "      <td>2025-06-26 18-26-57.tlog</td>\n",
       "      <td>LINESTRING (-62.82815 -17.16547, -62.82815 -17...</td>\n",
       "    </tr>\n",
       "    <tr>\n",
       "      <th>17</th>\n",
       "      <td>2025-06-26 19-01-24.tlog</td>\n",
       "      <td>LINESTRING (-62.82852 -17.17087, -62.82852 -17...</td>\n",
       "    </tr>\n",
       "    <tr>\n",
       "      <th>18</th>\n",
       "      <td>2025-06-26 20-05-00.tlog</td>\n",
       "      <td>LINESTRING (-62.82855 -17.17086, -62.82855 -17...</td>\n",
       "    </tr>\n",
       "    <tr>\n",
       "      <th>19</th>\n",
       "      <td>2025-06-26 20-13-10.tlog</td>\n",
       "      <td>LINESTRING (-62.82853 -17.17087, -62.82853 -17...</td>\n",
       "    </tr>\n",
       "    <tr>\n",
       "      <th>20</th>\n",
       "      <td>2025-06-26 21-42-16.tlog</td>\n",
       "      <td>LINESTRING (-62.97085 -17.22978, -62.97085 -17...</td>\n",
       "    </tr>\n",
       "    <tr>\n",
       "      <th>21</th>\n",
       "      <td>2025-06-26 23-04-46.tlog</td>\n",
       "      <td>LINESTRING (-62.97353 -17.22864, -62.97353 -17...</td>\n",
       "    </tr>\n",
       "    <tr>\n",
       "      <th>22</th>\n",
       "      <td>2025-06-27 10-37-03.tlog</td>\n",
       "      <td>LINESTRING (-62.98050 -17.22478, -62.98050 -17...</td>\n",
       "    </tr>\n",
       "    <tr>\n",
       "      <th>23</th>\n",
       "      <td>2025-06-27 14-11-38.tlog</td>\n",
       "      <td>LINESTRING (-62.98501 -17.23385, -62.98501 -17...</td>\n",
       "    </tr>\n",
       "    <tr>\n",
       "      <th>24</th>\n",
       "      <td>2025-06-27 14-16-28.tlog</td>\n",
       "      <td>LINESTRING (-62.98763 -17.22773, -62.98763 -17...</td>\n",
       "    </tr>\n",
       "    <tr>\n",
       "      <th>25</th>\n",
       "      <td>2025-06-27 15-04-50.tlog</td>\n",
       "      <td>LINESTRING (-62.98988 -17.22036, -62.98988 -17...</td>\n",
       "    </tr>\n",
       "    <tr>\n",
       "      <th>26</th>\n",
       "      <td>2025-06-27 15-31-30.tlog</td>\n",
       "      <td>LINESTRING (-62.98988 -17.22035, -62.98988 -17...</td>\n",
       "    </tr>\n",
       "    <tr>\n",
       "      <th>27</th>\n",
       "      <td>2025-06-27 16-59-27.tlog</td>\n",
       "      <td>LINESTRING (-63.00158 -17.22420, -63.00158 -17...</td>\n",
       "    </tr>\n",
       "    <tr>\n",
       "      <th>28</th>\n",
       "      <td>2025-06-27 17-14-14.tlog</td>\n",
       "      <td>LINESTRING (-63.00158 -17.22423, -63.00158 -17...</td>\n",
       "    </tr>\n",
       "    <tr>\n",
       "      <th>29</th>\n",
       "      <td>2025-06-27 17-33-12.tlog</td>\n",
       "      <td>LINESTRING (-63.00159 -17.22421, -63.00159 -17...</td>\n",
       "    </tr>\n",
       "    <tr>\n",
       "      <th>30</th>\n",
       "      <td>2025-06-27 17-55-09.tlog</td>\n",
       "      <td>LINESTRING (-63.00159 -17.22420, -63.00159 -17...</td>\n",
       "    </tr>\n",
       "    <tr>\n",
       "      <th>31</th>\n",
       "      <td>2025-06-27 18-04-10.tlog</td>\n",
       "      <td>LINESTRING (-63.00158 -17.22422, -63.00158 -17...</td>\n",
       "    </tr>\n",
       "    <tr>\n",
       "      <th>32</th>\n",
       "      <td>2025-06-28 19-01-13.tlog</td>\n",
       "      <td>LINESTRING (0.00000 0.00000, 0.00000 0.00000, ...</td>\n",
       "    </tr>\n",
       "    <tr>\n",
       "      <th>33</th>\n",
       "      <td>2025-06-28 19-41-57.tlog</td>\n",
       "      <td>LINESTRING (-63.20033 -17.24498, -63.20033 -17...</td>\n",
       "    </tr>\n",
       "    <tr>\n",
       "      <th>34</th>\n",
       "      <td>2025-06-28 20-45-23.tlog</td>\n",
       "      <td>LINESTRING (-63.18117 -17.24887, -63.18117 -17...</td>\n",
       "    </tr>\n",
       "    <tr>\n",
       "      <th>35</th>\n",
       "      <td>2025-06-28 20-58-01.tlog</td>\n",
       "      <td>LINESTRING (-63.18049 -17.25057, -63.18049 -17...</td>\n",
       "    </tr>\n",
       "    <tr>\n",
       "      <th>36</th>\n",
       "      <td>2025-06-28 22-06-57.tlog</td>\n",
       "      <td>LINESTRING (0.00000 0.00000, 0.00000 0.00000, ...</td>\n",
       "    </tr>\n",
       "    <tr>\n",
       "      <th>37</th>\n",
       "      <td>2025-07-04 07-43-04.tlog</td>\n",
       "      <td>LINESTRING (-62.81533 -17.44351, -62.81533 -17...</td>\n",
       "    </tr>\n",
       "    <tr>\n",
       "      <th>38</th>\n",
       "      <td>2025-07-04 08-49-26.tlog</td>\n",
       "      <td>LINESTRING (-62.81533 -17.44354, -62.81533 -17...</td>\n",
       "    </tr>\n",
       "    <tr>\n",
       "      <th>39</th>\n",
       "      <td>2025-07-04 11-04-53.tlog</td>\n",
       "      <td>LINESTRING (-62.81446 -17.45074, -62.81446 -17...</td>\n",
       "    </tr>\n",
       "    <tr>\n",
       "      <th>40</th>\n",
       "      <td>2025-07-04 12-50-57.tlog</td>\n",
       "      <td>LINESTRING (0.00000 0.00000, 0.00000 0.00000, ...</td>\n",
       "    </tr>\n",
       "  </tbody>\n",
       "</table>\n",
       "</div>"
      ],
      "text/plain": [
       "                      nombre  \\\n",
       "0   2024-05-18 16-12-01.tlog   \n",
       "1   2024-09-08 08-09-24.tlog   \n",
       "2   2024-09-08 08-38-09.tlog   \n",
       "3   2024-09-10 20-34-08.tlog   \n",
       "4   2024-09-10 21-32-34.tlog   \n",
       "5   2024-09-10 22-12-39.tlog   \n",
       "6   2024-09-11 19-54-29.tlog   \n",
       "7   2024-09-13 18-51-15.tlog   \n",
       "8   2024-09-13 20-07-20.tlog   \n",
       "9   2024-09-16 20-48-38.tlog   \n",
       "10  2024-09-16 22-04-55.tlog   \n",
       "11  2025-05-09 13-10-22.tlog   \n",
       "12  2025-06-26 14-26-39.tlog   \n",
       "13  2025-06-26 15-03-35.tlog   \n",
       "14  2025-06-26 16-41-05.tlog   \n",
       "15  2025-06-26 17-19-29.tlog   \n",
       "16  2025-06-26 18-26-57.tlog   \n",
       "17  2025-06-26 19-01-24.tlog   \n",
       "18  2025-06-26 20-05-00.tlog   \n",
       "19  2025-06-26 20-13-10.tlog   \n",
       "20  2025-06-26 21-42-16.tlog   \n",
       "21  2025-06-26 23-04-46.tlog   \n",
       "22  2025-06-27 10-37-03.tlog   \n",
       "23  2025-06-27 14-11-38.tlog   \n",
       "24  2025-06-27 14-16-28.tlog   \n",
       "25  2025-06-27 15-04-50.tlog   \n",
       "26  2025-06-27 15-31-30.tlog   \n",
       "27  2025-06-27 16-59-27.tlog   \n",
       "28  2025-06-27 17-14-14.tlog   \n",
       "29  2025-06-27 17-33-12.tlog   \n",
       "30  2025-06-27 17-55-09.tlog   \n",
       "31  2025-06-27 18-04-10.tlog   \n",
       "32  2025-06-28 19-01-13.tlog   \n",
       "33  2025-06-28 19-41-57.tlog   \n",
       "34  2025-06-28 20-45-23.tlog   \n",
       "35  2025-06-28 20-58-01.tlog   \n",
       "36  2025-06-28 22-06-57.tlog   \n",
       "37  2025-07-04 07-43-04.tlog   \n",
       "38  2025-07-04 08-49-26.tlog   \n",
       "39  2025-07-04 11-04-53.tlog   \n",
       "40  2025-07-04 12-50-57.tlog   \n",
       "\n",
       "                                             geometry  \n",
       "0   LINESTRING (-63.19842 -17.24297, -63.19842 -17...  \n",
       "1   LINESTRING (-63.12879 -17.29262, -63.12879 -17...  \n",
       "2   LINESTRING (-63.13781 -17.29423, -63.13781 -17...  \n",
       "3   LINESTRING (-63.13882 -17.25077, -63.13882 -17...  \n",
       "4   LINESTRING (-63.14833 -17.25458, -63.14833 -17...  \n",
       "5   LINESTRING (-63.15099 -17.26455, -63.15099 -17...  \n",
       "6   LINESTRING (0.00000 0.00000, 0.00000 0.00000, ...  \n",
       "7   LINESTRING (-63.64849 -17.27301, -63.64849 -17...  \n",
       "8   LINESTRING (-63.14937 -17.22700, -63.14937 -17...  \n",
       "9   LINESTRING (-63.16515 -17.27737, -63.16512 -17...  \n",
       "10  LINESTRING (-63.10718 -17.15074, -63.10718 -17...  \n",
       "11  LINESTRING (-63.00148 -17.22425, -63.00148 -17...  \n",
       "12  LINESTRING (-62.82460 -17.15972, -62.82460 -17...  \n",
       "13  LINESTRING (-62.82482 -17.16021, -62.82482 -17...  \n",
       "14  LINESTRING (-62.82658 -17.16336, -62.82658 -17...  \n",
       "15  LINESTRING (-62.82816 -17.16544, -62.82816 -17...  \n",
       "16  LINESTRING (-62.82815 -17.16547, -62.82815 -17...  \n",
       "17  LINESTRING (-62.82852 -17.17087, -62.82852 -17...  \n",
       "18  LINESTRING (-62.82855 -17.17086, -62.82855 -17...  \n",
       "19  LINESTRING (-62.82853 -17.17087, -62.82853 -17...  \n",
       "20  LINESTRING (-62.97085 -17.22978, -62.97085 -17...  \n",
       "21  LINESTRING (-62.97353 -17.22864, -62.97353 -17...  \n",
       "22  LINESTRING (-62.98050 -17.22478, -62.98050 -17...  \n",
       "23  LINESTRING (-62.98501 -17.23385, -62.98501 -17...  \n",
       "24  LINESTRING (-62.98763 -17.22773, -62.98763 -17...  \n",
       "25  LINESTRING (-62.98988 -17.22036, -62.98988 -17...  \n",
       "26  LINESTRING (-62.98988 -17.22035, -62.98988 -17...  \n",
       "27  LINESTRING (-63.00158 -17.22420, -63.00158 -17...  \n",
       "28  LINESTRING (-63.00158 -17.22423, -63.00158 -17...  \n",
       "29  LINESTRING (-63.00159 -17.22421, -63.00159 -17...  \n",
       "30  LINESTRING (-63.00159 -17.22420, -63.00159 -17...  \n",
       "31  LINESTRING (-63.00158 -17.22422, -63.00158 -17...  \n",
       "32  LINESTRING (0.00000 0.00000, 0.00000 0.00000, ...  \n",
       "33  LINESTRING (-63.20033 -17.24498, -63.20033 -17...  \n",
       "34  LINESTRING (-63.18117 -17.24887, -63.18117 -17...  \n",
       "35  LINESTRING (-63.18049 -17.25057, -63.18049 -17...  \n",
       "36  LINESTRING (0.00000 0.00000, 0.00000 0.00000, ...  \n",
       "37  LINESTRING (-62.81533 -17.44351, -62.81533 -17...  \n",
       "38  LINESTRING (-62.81533 -17.44354, -62.81533 -17...  \n",
       "39  LINESTRING (-62.81446 -17.45074, -62.81446 -17...  \n",
       "40  LINESTRING (0.00000 0.00000, 0.00000 0.00000, ...  "
      ]
     },
     "execution_count": 42,
     "metadata": {},
     "output_type": "execute_result"
    }
   ],
   "source": [
    "gdf_lines"
   ]
  },
  {
   "cell_type": "code",
   "execution_count": 43,
   "id": "6a26d1ff-331f-4474-b665-2482b58a2e4d",
   "metadata": {},
   "outputs": [
    {
     "data": {
      "text/plain": [
       "<Axes: >"
      ]
     },
     "execution_count": 43,
     "metadata": {},
     "output_type": "execute_result"
    },
    {
     "data": {
      "image/png": "[encoded data removed]",
      "text/plain": [
       "<Figure size 640x480 with 1 Axes>"
      ]
     },
     "metadata": {},
     "output_type": "display_data"
    }
   ],
   "source": [
    "gdf_lines.plot()"
   ]
  },
  {
   "cell_type": "code",
   "execution_count": 44,
   "id": "b1aaa449-80c6-4d00-8d07-b9a2fb117bbb",
   "metadata": {},
   "outputs": [],
   "source": [
    "gdf_lines.to_file('LINEAS.shp', driver=\"ESRI Shapefile\")"
   ]
  },
  {
   "cell_type": "code",
   "execution_count": 45,
   "id": "e19354fd-3846-4f71-88b4-e546b8deb621",
   "metadata": {},
   "outputs": [],
   "source": [
    "# Función para dividir y limpiar las líneas\n",
    "def dividir_y_limpiar_linea(linea):\n",
    "    puntos = list(linea.coords)\n",
    "    nuevas_lineas = []\n",
    "    nueva_linea = []\n",
    "    \n",
    "    for punto in puntos:\n",
    "        if punto != (0, 0):\n",
    "            nueva_linea.append(punto)\n",
    "        else:\n",
    "            if nueva_linea:\n",
    "                nuevas_lineas.append(LineString(nueva_linea))\n",
    "                nueva_linea = []\n",
    "    \n",
    "    if nueva_linea:\n",
    "        nuevas_lineas.append(LineString(nueva_linea))\n",
    "    \n",
    "    return nuevas_lineas"
   ]
  },
  {
   "cell_type": "code",
   "execution_count": 46,
   "id": "7d405569-5da0-4ab6-8e82-b02a3dbdd4c2",
   "metadata": {},
   "outputs": [],
   "source": [
    "# Crear una lista para las nuevas líneas y nombres\n",
    "nuevas_lineas = []\n",
    "nuevos_nombres = []\n",
    "for idx, row in gdf_lines.iterrows():\n",
    "    lineas_divididas = dividir_y_limpiar_linea(row.geometry)\n",
    "    for linea in lineas_divididas:\n",
    "        nuevas_lineas.append(linea)\n",
    "        nuevos_nombres.append(row['nombre'])"
   ]
  },
  {
   "cell_type": "code",
   "execution_count": 47,
   "id": "e094a348-a4b5-4743-8c3a-c7dc6fb7a21a",
   "metadata": {},
   "outputs": [],
   "source": [
    "# Crear un nuevo GeoDataFrame con las nuevas líneas\n",
    "gdf_lines = gpd.GeoDataFrame({'nombre': nuevos_nombres, 'geometry': nuevas_lineas}, crs=\"EPSG:4326\")"
   ]
  },
  {
   "cell_type": "code",
   "execution_count": 48,
   "id": "0c91619d-f9dd-46af-9149-acca387f08e1",
   "metadata": {},
   "outputs": [],
   "source": [
    "# Función para contar la cantidad de coordenadas en una geometría de tipo LINESTRING\n",
    "def contar_coordenadas(linea):\n",
    "    return len(linea.coords)"
   ]
  },
  {
   "cell_type": "code",
   "execution_count": 49,
   "id": "02e41758-ab6e-46f4-90f6-686f83fc16bb",
   "metadata": {},
   "outputs": [],
   "source": [
    "gdf_lines['num_vert'] = gdf_lines['geometry'].apply(contar_coordenadas)"
   ]
  },
  {
   "cell_type": "code",
   "execution_count": 50,
   "id": "bae564ef-227a-4a2c-ab89-cb2cc7d43c53",
   "metadata": {},
   "outputs": [],
   "source": [
    "gdf_lines['vehiculo'] = vehiculo"
   ]
  },
  {
   "cell_type": "code",
   "execution_count": 51,
   "id": "7c21bb5c-d89a-4d80-88da-c6a7ed188f99",
   "metadata": {},
   "outputs": [
    {
     "data": {
      "text/html": [
       "<div>\n",
       "<style scoped>\n",
       "    .dataframe tbody tr th:only-of-type {\n",
       "        vertical-align: middle;\n",
       "    }\n",
       "\n",
       "    .dataframe tbody tr th {\n",
       "        vertical-align: top;\n",
       "    }\n",
       "\n",
       "    .dataframe thead th {\n",
       "        text-align: right;\n",
       "    }\n",
       "</style>\n",
       "<table border=\"1\" class=\"dataframe\">\n",
       "  <thead>\n",
       "    <tr style=\"text-align: right;\">\n",
       "      <th></th>\n",
       "      <th>nombre</th>\n",
       "      <th>geometry</th>\n",
       "      <th>num_vert</th>\n",
       "      <th>vehiculo</th>\n",
       "    </tr>\n",
       "  </thead>\n",
       "  <tbody>\n",
       "    <tr>\n",
       "      <th>0</th>\n",
       "      <td>2024-05-18 16-12-01.tlog</td>\n",
       "      <td>LINESTRING (-63.19842 -17.24297, -63.19842 -17...</td>\n",
       "      <td>7834</td>\n",
       "      <td>DA02</td>\n",
       "    </tr>\n",
       "    <tr>\n",
       "      <th>1</th>\n",
       "      <td>2024-09-08 08-09-24.tlog</td>\n",
       "      <td>LINESTRING (-63.12879 -17.29262, -63.12879 -17...</td>\n",
       "      <td>1272</td>\n",
       "      <td>DA02</td>\n",
       "    </tr>\n",
       "    <tr>\n",
       "      <th>2</th>\n",
       "      <td>2024-09-08 08-38-09.tlog</td>\n",
       "      <td>LINESTRING (-63.13781 -17.29423, -63.13781 -17...</td>\n",
       "      <td>1155</td>\n",
       "      <td>DA02</td>\n",
       "    </tr>\n",
       "    <tr>\n",
       "      <th>3</th>\n",
       "      <td>2024-09-10 20-34-08.tlog</td>\n",
       "      <td>LINESTRING (-63.13882 -17.25077, -63.13882 -17...</td>\n",
       "      <td>3753</td>\n",
       "      <td>DA02</td>\n",
       "    </tr>\n",
       "    <tr>\n",
       "      <th>4</th>\n",
       "      <td>2024-09-10 21-32-34.tlog</td>\n",
       "      <td>LINESTRING (-63.14833 -17.25458, -63.14833 -17...</td>\n",
       "      <td>2867</td>\n",
       "      <td>DA02</td>\n",
       "    </tr>\n",
       "    <tr>\n",
       "      <th>...</th>\n",
       "      <td>...</td>\n",
       "      <td>...</td>\n",
       "      <td>...</td>\n",
       "      <td>...</td>\n",
       "    </tr>\n",
       "    <tr>\n",
       "      <th>59</th>\n",
       "      <td>2025-07-04 08-49-26.tlog</td>\n",
       "      <td>LINESTRING (-62.81536 -17.44340, -62.81536 -17...</td>\n",
       "      <td>2333</td>\n",
       "      <td>DA02</td>\n",
       "    </tr>\n",
       "    <tr>\n",
       "      <th>60</th>\n",
       "      <td>2025-07-04 11-04-53.tlog</td>\n",
       "      <td>LINESTRING (-62.81446 -17.45074, -62.81446 -17...</td>\n",
       "      <td>2740</td>\n",
       "      <td>DA02</td>\n",
       "    </tr>\n",
       "    <tr>\n",
       "      <th>61</th>\n",
       "      <td>2025-07-04 11-04-53.tlog</td>\n",
       "      <td>LINESTRING (-62.81444 -17.45073, -62.81444 -17...</td>\n",
       "      <td>2197</td>\n",
       "      <td>DA02</td>\n",
       "    </tr>\n",
       "    <tr>\n",
       "      <th>62</th>\n",
       "      <td>2025-07-04 12-50-57.tlog</td>\n",
       "      <td>LINESTRING (-62.82572 -17.44539, -62.82572 -17...</td>\n",
       "      <td>4851</td>\n",
       "      <td>DA02</td>\n",
       "    </tr>\n",
       "    <tr>\n",
       "      <th>63</th>\n",
       "      <td>2025-07-04 12-50-57.tlog</td>\n",
       "      <td>LINESTRING (-62.82570 -17.44536, -62.82570 -17...</td>\n",
       "      <td>4953</td>\n",
       "      <td>DA02</td>\n",
       "    </tr>\n",
       "  </tbody>\n",
       "</table>\n",
       "<p>64 rows × 4 columns</p>\n",
       "</div>"
      ],
      "text/plain": [
       "                      nombre  \\\n",
       "0   2024-05-18 16-12-01.tlog   \n",
       "1   2024-09-08 08-09-24.tlog   \n",
       "2   2024-09-08 08-38-09.tlog   \n",
       "3   2024-09-10 20-34-08.tlog   \n",
       "4   2024-09-10 21-32-34.tlog   \n",
       "..                       ...   \n",
       "59  2025-07-04 08-49-26.tlog   \n",
       "60  2025-07-04 11-04-53.tlog   \n",
       "61  2025-07-04 11-04-53.tlog   \n",
       "62  2025-07-04 12-50-57.tlog   \n",
       "63  2025-07-04 12-50-57.tlog   \n",
       "\n",
       "                                             geometry  num_vert vehiculo  \n",
       "0   LINESTRING (-63.19842 -17.24297, -63.19842 -17...      7834     DA02  \n",
       "1   LINESTRING (-63.12879 -17.29262, -63.12879 -17...      1272     DA02  \n",
       "2   LINESTRING (-63.13781 -17.29423, -63.13781 -17...      1155     DA02  \n",
       "3   LINESTRING (-63.13882 -17.25077, -63.13882 -17...      3753     DA02  \n",
       "4   LINESTRING (-63.14833 -17.25458, -63.14833 -17...      2867     DA02  \n",
       "..                                                ...       ...      ...  \n",
       "59  LINESTRING (-62.81536 -17.44340, -62.81536 -17...      2333     DA02  \n",
       "60  LINESTRING (-62.81446 -17.45074, -62.81446 -17...      2740     DA02  \n",
       "61  LINESTRING (-62.81444 -17.45073, -62.81444 -17...      2197     DA02  \n",
       "62  LINESTRING (-62.82572 -17.44539, -62.82572 -17...      4851     DA02  \n",
       "63  LINESTRING (-62.82570 -17.44536, -62.82570 -17...      4953     DA02  \n",
       "\n",
       "[64 rows x 4 columns]"
      ]
     },
     "execution_count": 51,
     "metadata": {},
     "output_type": "execute_result"
    }
   ],
   "source": [
    "gdf_lines"
   ]
  },
  {
   "cell_type": "code",
   "execution_count": 52,
   "id": "53ff8c8a-2a43-4afe-bed5-38f1530fdae0",
   "metadata": {},
   "outputs": [
    {
     "data": {
      "text/plain": [
       "<Axes: >"
      ]
     },
     "execution_count": 52,
     "metadata": {},
     "output_type": "execute_result"
    },
    {
     "data": {
      "image/png": "[encoded data removed]",
      "text/plain": [
       "<Figure size 640x480 with 1 Axes>"
      ]
     },
     "metadata": {},
     "output_type": "display_data"
    }
   ],
   "source": [
    "gdf_lines.plot()"
   ]
  },
  {
   "cell_type": "code",
   "execution_count": 53,
   "id": "d663ceb7-df00-447c-858a-6493a884b0ed",
   "metadata": {},
   "outputs": [],
   "source": [
    "gdf_lines.crs = \"EPSG:4326\"\n",
    "gdf_lines_utm = gdf_lines.to_crs(epsg=32720)"
   ]
  },
  {
   "cell_type": "code",
   "execution_count": 54,
   "id": "a04b10fb-340a-4b87-8ccd-d3a03057ceba",
   "metadata": {},
   "outputs": [
    {
     "data": {
      "text/plain": [
       "<Axes: >"
      ]
     },
     "execution_count": 54,
     "metadata": {},
     "output_type": "execute_result"
    },
    {
     "data": {
      "image/png": "[encoded data removed]",
      "text/plain": [
       "<Figure size 640x480 with 1 Axes>"
      ]
     },
     "metadata": {},
     "output_type": "display_data"
    }
   ],
   "source": [
    "gdf_lines_utm.plot()"
   ]
  },
  {
   "cell_type": "code",
   "execution_count": 55,
   "id": "6f4d4c1a-3d7a-467c-bc89-c93475ae3aca",
   "metadata": {},
   "outputs": [],
   "source": [
    "# Combinar los GeoDataFrames\n",
    "gdf_combined = gpd.GeoDataFrame(pd.concat([gdf_rec, gdf_lines_utm], ignore_index=True))\n",
    "# rellenar valores NaN\n",
    "gdf_combined['idd'] = gdf_combined['idd'].fillna(0).astype(int)"
   ]
  },
  {
   "cell_type": "code",
   "execution_count": 56,
   "id": "0eb2ed02-320b-4b64-921b-316c75f27ef9",
   "metadata": {},
   "outputs": [
    {
     "data": {
      "text/html": [
       "<div>\n",
       "<style scoped>\n",
       "    .dataframe tbody tr th:only-of-type {\n",
       "        vertical-align: middle;\n",
       "    }\n",
       "\n",
       "    .dataframe tbody tr th {\n",
       "        vertical-align: top;\n",
       "    }\n",
       "\n",
       "    .dataframe thead th {\n",
       "        text-align: right;\n",
       "    }\n",
       "</style>\n",
       "<table border=\"1\" class=\"dataframe\">\n",
       "  <thead>\n",
       "    <tr style=\"text-align: right;\">\n",
       "      <th></th>\n",
       "      <th>idd</th>\n",
       "      <th>nombre</th>\n",
       "      <th>vehiculo</th>\n",
       "      <th>num_vert</th>\n",
       "      <th>id</th>\n",
       "      <th>asignado</th>\n",
       "      <th>geometry</th>\n",
       "    </tr>\n",
       "  </thead>\n",
       "  <tbody>\n",
       "    <tr>\n",
       "      <th>0</th>\n",
       "      <td>-1</td>\n",
       "      <td>2025-05-02 08-32-28.tlog</td>\n",
       "      <td>DA02</td>\n",
       "      <td>2517</td>\n",
       "      <td>None</td>\n",
       "      <td>ORIGINAL</td>\n",
       "      <td>LINESTRING (471873.745 8084797.248, 471873.415...</td>\n",
       "    </tr>\n",
       "    <tr>\n",
       "      <th>1</th>\n",
       "      <td>-1</td>\n",
       "      <td>2025-05-05 16-16-47.tlog</td>\n",
       "      <td>DA02</td>\n",
       "      <td>1056</td>\n",
       "      <td>None</td>\n",
       "      <td>ORIGINAL</td>\n",
       "      <td>LINESTRING (478886.299 8093597.535, 478886.288...</td>\n",
       "    </tr>\n",
       "    <tr>\n",
       "      <th>2</th>\n",
       "      <td>-1</td>\n",
       "      <td>2025-05-05 16-32-05.tlog</td>\n",
       "      <td>DA02</td>\n",
       "      <td>345</td>\n",
       "      <td>None</td>\n",
       "      <td>ORIGINAL</td>\n",
       "      <td>LINESTRING (478939.004 8093577.919, 478939.004...</td>\n",
       "    </tr>\n",
       "    <tr>\n",
       "      <th>3</th>\n",
       "      <td>-1</td>\n",
       "      <td>2025-05-05 21-05-04.tlog</td>\n",
       "      <td>DA02</td>\n",
       "      <td>3426</td>\n",
       "      <td>None</td>\n",
       "      <td>ORIGINAL</td>\n",
       "      <td>LINESTRING (478661.660 8093836.724, 478660.405...</td>\n",
       "    </tr>\n",
       "    <tr>\n",
       "      <th>4</th>\n",
       "      <td>-1</td>\n",
       "      <td>2025-05-05 21-05-04.tlog</td>\n",
       "      <td>DA02</td>\n",
       "      <td>3207</td>\n",
       "      <td>None</td>\n",
       "      <td>ORIGINAL</td>\n",
       "      <td>LINESTRING (478649.523 8093832.840, 478649.555...</td>\n",
       "    </tr>\n",
       "    <tr>\n",
       "      <th>...</th>\n",
       "      <td>...</td>\n",
       "      <td>...</td>\n",
       "      <td>...</td>\n",
       "      <td>...</td>\n",
       "      <td>...</td>\n",
       "      <td>...</td>\n",
       "      <td>...</td>\n",
       "    </tr>\n",
       "    <tr>\n",
       "      <th>94</th>\n",
       "      <td>0</td>\n",
       "      <td>2025-07-04 08-49-26.tlog</td>\n",
       "      <td>DA02</td>\n",
       "      <td>2333</td>\n",
       "      <td>NaN</td>\n",
       "      <td>NaN</td>\n",
       "      <td>LINESTRING (519606.800 8071383.554, 519606.917...</td>\n",
       "    </tr>\n",
       "    <tr>\n",
       "      <th>95</th>\n",
       "      <td>0</td>\n",
       "      <td>2025-07-04 11-04-53.tlog</td>\n",
       "      <td>DA02</td>\n",
       "      <td>2740</td>\n",
       "      <td>NaN</td>\n",
       "      <td>NaN</td>\n",
       "      <td>LINESTRING (519701.965 8070571.091, 519701.976...</td>\n",
       "    </tr>\n",
       "    <tr>\n",
       "      <th>96</th>\n",
       "      <td>0</td>\n",
       "      <td>2025-07-04 11-04-53.tlog</td>\n",
       "      <td>DA02</td>\n",
       "      <td>2197</td>\n",
       "      <td>NaN</td>\n",
       "      <td>NaN</td>\n",
       "      <td>LINESTRING (519703.793 8070572.760, 519703.782...</td>\n",
       "    </tr>\n",
       "    <tr>\n",
       "      <th>97</th>\n",
       "      <td>0</td>\n",
       "      <td>2025-07-04 12-50-57.tlog</td>\n",
       "      <td>DA02</td>\n",
       "      <td>4851</td>\n",
       "      <td>NaN</td>\n",
       "      <td>NaN</td>\n",
       "      <td>LINESTRING (518506.171 8071163.747, 518506.469...</td>\n",
       "    </tr>\n",
       "    <tr>\n",
       "      <th>98</th>\n",
       "      <td>0</td>\n",
       "      <td>2025-07-04 12-50-57.tlog</td>\n",
       "      <td>DA02</td>\n",
       "      <td>4953</td>\n",
       "      <td>NaN</td>\n",
       "      <td>NaN</td>\n",
       "      <td>LINESTRING (518508.500 8071167.761, 518508.522...</td>\n",
       "    </tr>\n",
       "  </tbody>\n",
       "</table>\n",
       "<p>99 rows × 7 columns</p>\n",
       "</div>"
      ],
      "text/plain": [
       "    idd                    nombre vehiculo  num_vert    id  asignado  \\\n",
       "0    -1  2025-05-02 08-32-28.tlog     DA02      2517  None  ORIGINAL   \n",
       "1    -1  2025-05-05 16-16-47.tlog     DA02      1056  None  ORIGINAL   \n",
       "2    -1  2025-05-05 16-32-05.tlog     DA02       345  None  ORIGINAL   \n",
       "3    -1  2025-05-05 21-05-04.tlog     DA02      3426  None  ORIGINAL   \n",
       "4    -1  2025-05-05 21-05-04.tlog     DA02      3207  None  ORIGINAL   \n",
       "..  ...                       ...      ...       ...   ...       ...   \n",
       "94    0  2025-07-04 08-49-26.tlog     DA02      2333   NaN       NaN   \n",
       "95    0  2025-07-04 11-04-53.tlog     DA02      2740   NaN       NaN   \n",
       "96    0  2025-07-04 11-04-53.tlog     DA02      2197   NaN       NaN   \n",
       "97    0  2025-07-04 12-50-57.tlog     DA02      4851   NaN       NaN   \n",
       "98    0  2025-07-04 12-50-57.tlog     DA02      4953   NaN       NaN   \n",
       "\n",
       "                                             geometry  \n",
       "0   LINESTRING (471873.745 8084797.248, 471873.415...  \n",
       "1   LINESTRING (478886.299 8093597.535, 478886.288...  \n",
       "2   LINESTRING (478939.004 8093577.919, 478939.004...  \n",
       "3   LINESTRING (478661.660 8093836.724, 478660.405...  \n",
       "4   LINESTRING (478649.523 8093832.840, 478649.555...  \n",
       "..                                                ...  \n",
       "94  LINESTRING (519606.800 8071383.554, 519606.917...  \n",
       "95  LINESTRING (519701.965 8070571.091, 519701.976...  \n",
       "96  LINESTRING (519703.793 8070572.760, 519703.782...  \n",
       "97  LINESTRING (518506.171 8071163.747, 518506.469...  \n",
       "98  LINESTRING (518508.500 8071167.761, 518508.522...  \n",
       "\n",
       "[99 rows x 7 columns]"
      ]
     },
     "execution_count": 56,
     "metadata": {},
     "output_type": "execute_result"
    }
   ],
   "source": [
    "gdf_combined"
   ]
  },
  {
   "cell_type": "code",
   "execution_count": 57,
   "id": "a533a1fd-3f67-457f-9b09-9607ef4fb5fd",
   "metadata": {},
   "outputs": [
    {
     "data": {
      "text/plain": [
       "idd            int32\n",
       "nombre        object\n",
       "vehiculo      object\n",
       "num_vert       int64\n",
       "id            object\n",
       "asignado      object\n",
       "geometry    geometry\n",
       "dtype: object"
      ]
     },
     "execution_count": 57,
     "metadata": {},
     "output_type": "execute_result"
    }
   ],
   "source": [
    "gdf_combined.dtypes"
   ]
  },
  {
   "cell_type": "code",
   "execution_count": 58,
   "id": "a6aa1191-afe4-485b-a918-93aa19dc8453",
   "metadata": {},
   "outputs": [],
   "source": [
    "gdf_combined.to_file(path_rec, driver=\"ESRI Shapefile\")"
   ]
  },
  {
   "cell_type": "code",
   "execution_count": null,
   "id": "2429b83e-6cf9-476d-a3ac-3b92cd38ad08",
   "metadata": {},
   "outputs": [],
   "source": []
  },
  {
   "cell_type": "code",
   "execution_count": null,
   "id": "0fd2aae3-cd66-47f2-b738-5d892c951c1c",
   "metadata": {},
   "outputs": [],
   "source": []
  },
  {
   "cell_type": "code",
   "execution_count": null,
   "id": "5a55b0c2-1843-45be-a876-53b396f21796",
   "metadata": {},
   "outputs": [],
   "source": []
  }
 ],
 "metadata": {
  "kernelspec": {
   "display_name": "Python 3 (ipykernel)",
   "language": "python",
   "name": "python3"
  },
  "language_info": {
   "codemirror_mode": {
    "name": "ipython",
    "version": 3
   },
   "file_extension": ".py",
   "mimetype": "text/x-python",
   "name": "python",
   "nbconvert_exporter": "python",
   "pygments_lexer": "ipython3",
   "version": "3.10.13"
  }
 },
 "nbformat": 4,
 "nbformat_minor": 5
}
