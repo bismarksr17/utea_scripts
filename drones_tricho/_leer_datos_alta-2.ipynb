{
 "cells": [
  {
   "cell_type": "code",
   "execution_count": 88,
   "id": "cab3dbee-d839-4014-9443-a2dcaffeab45",
   "metadata": {},
   "outputs": [],
   "source": [
    "import sys\n",
    "sys.path.append('..')"
   ]
  },
  {
   "cell_type": "code",
   "execution_count": 89,
   "id": "471a58e2-7e57-4c39-9f66-2901e67bad16",
   "metadata": {},
   "outputs": [],
   "source": [
    "from pymavlink import mavutil\n",
    "\n",
    "import matplotlib.pyplot as plt\n",
    "import pandas as pd\n",
    "import os\n",
    "import geopandas as gpd\n",
    "from shapely.geometry import Point, LineString"
   ]
  },
  {
   "cell_type": "code",
   "execution_count": 90,
   "id": "ac98b513-3756-4a5a-b75e-cba8532f1d8d",
   "metadata": {},
   "outputs": [],
   "source": [
    "from config import RUTA_UNIDAD_ONE_DRIVE\n",
    "from config import RUTA_LOCAL_ONE_DRIVE\n",
    "\n",
    "RUTA_COMPLETA = os.path.join(RUTA_UNIDAD_ONE_DRIVE, RUTA_LOCAL_ONE_DRIVE)"
   ]
  },
  {
   "cell_type": "code",
   "execution_count": 91,
   "id": "225b4ea5-a870-4d2d-a35c-41f4b31067f0",
   "metadata": {},
   "outputs": [
    {
     "data": {
      "text/plain": [
       "'G:\\\\OneDrive - Ingenio Azucarero Guabira S.A\\\\_DATOS_PYTHON'"
      ]
     },
     "execution_count": 91,
     "metadata": {},
     "output_type": "execute_result"
    }
   ],
   "source": [
    "RUTA_COMPLETA"
   ]
  },
  {
   "cell_type": "code",
   "execution_count": 94,
   "id": "2daa78ba-f5c9-44f1-b6b2-4640c8891024",
   "metadata": {},
   "outputs": [],
   "source": [
    "vehiculo = 'DA02'"
   ]
  },
  {
   "cell_type": "code",
   "execution_count": 95,
   "id": "267f5023-bc5a-45eb-8207-5364f8d9166d",
   "metadata": {},
   "outputs": [],
   "source": [
    "path_rec = RUTA_UNIDAD_ONE_DRIVE + r'\\Ingenio Azucarero Guabira S.A\\UTEA - SEMANAL - EQUIPO AVIACION UTEA\\Trichogramma\\2025\\SHP\\RECORRIDOS_.shp'\n",
    "gdf_rec = gpd.read_file(path_rec)"
   ]
  },
  {
   "cell_type": "code",
   "execution_count": 96,
   "id": "504d15e2-1b8c-45c8-8f0a-b574cd569e93",
   "metadata": {},
   "outputs": [
    {
     "data": {
      "text/plain": [
       "67"
      ]
     },
     "execution_count": 96,
     "metadata": {},
     "output_type": "execute_result"
    }
   ],
   "source": [
    "if vehiculo == 'DA01':\n",
    "    path_log = RUTA_UNIDAD_ONE_DRIVE + r'\\Ingenio Azucarero Guabira S.A\\UTEA - SEMANAL - EQUIPO AVIACION UTEA\\Trichogramma\\2025\\TLOGS\\ALTA_01'\n",
    "elif vehiculo == 'DA02':\n",
    "    path_log = RUTA_UNIDAD_ONE_DRIVE + r'\\Ingenio Azucarero Guabira S.A\\UTEA - SEMANAL - EQUIPO AVIACION UTEA\\Trichogramma\\2025\\TLOGS\\ALTA_02'\n",
    "elif vehiculo == 'DA03':\n",
    "    path_log = RUTA_UNIDAD_ONE_DRIVE + r'\\Ingenio Azucarero Guabira S.A\\UTEA - SEMANAL - EQUIPO AVIACION UTEA\\Trichogramma\\2025\\TLOGS\\ALTA_03'\n",
    "contenido = os.listdir(path_log)\n",
    "len(contenido)"
   ]
  },
  {
   "cell_type": "code",
   "execution_count": 97,
   "id": "3f11a10e-4884-402e-a913-268ed87089c8",
   "metadata": {},
   "outputs": [
    {
     "data": {
      "text/plain": [
       "1"
      ]
     },
     "execution_count": 97,
     "metadata": {},
     "output_type": "execute_result"
    }
   ],
   "source": [
    "# Filtrar la lista 'contenido' para excluir elementos que están en la columna 'nombre' del GeoDataFrame\n",
    "contenido_filtrado = [item for item in contenido if item not in gdf_rec['nombre'].values]\n",
    "len(contenido_filtrado)"
   ]
  },
  {
   "cell_type": "code",
   "execution_count": 98,
   "id": "ca3c281f-b619-4640-92a2-6c815204fc7c",
   "metadata": {},
   "outputs": [],
   "source": [
    "def leer_logs(lista_logs):\n",
    "    list_geo = []\n",
    "    list_name = []\n",
    "    for i in lista_logs:\n",
    "        log = path_log + '/' + i\n",
    "        \n",
    "        name = i\n",
    "        \n",
    "        mlog = mavutil.mavlink_connection(log)\n",
    "        lats = []\n",
    "        lons = []\n",
    "        while True:\n",
    "            msg = mlog.recv_match()\n",
    "            if not msg:\n",
    "                break\n",
    "            # Ejemplo de procesamiento de mensaje\n",
    "            if msg.get_type() == 'GLOBAL_POSITION_INT':\n",
    "                lat = msg.lat / 1e7  # Latitud en grados\n",
    "                lon = msg.lon / 1e7  # Longitud en grados\n",
    "                lats.append(lat)\n",
    "                lons.append(lon)\n",
    "\n",
    "        coors = {'lat':lats, 'lon':lons}\n",
    "        df = pd.DataFrame(coors)\n",
    "        \n",
    "        geometry = [Point(xy) for xy in zip(df['lon'], df['lat'])]\n",
    "        line = LineString(geometry)\n",
    "        list_geo.append(line)\n",
    "        list_name.append(name)\n",
    "    return (list_geo, list_name)"
   ]
  },
  {
   "cell_type": "code",
   "execution_count": 99,
   "id": "d28df3e9-37ed-403b-b3c8-c9873fa59851",
   "metadata": {},
   "outputs": [],
   "source": [
    "lineas, names = leer_logs(contenido_filtrado)"
   ]
  },
  {
   "cell_type": "code",
   "execution_count": 100,
   "id": "3654c9fa-70ac-4101-acc1-501bcbbef161",
   "metadata": {},
   "outputs": [
    {
     "data": {
      "text/plain": [
       "[<LINESTRING (-63.053 -17.302, -63.053 -17.302, -63.053 -17.302, -63.053 -17....>]"
      ]
     },
     "execution_count": 100,
     "metadata": {},
     "output_type": "execute_result"
    }
   ],
   "source": [
    "lineas"
   ]
  },
  {
   "cell_type": "code",
   "execution_count": 101,
   "id": "65a842f9-e32d-455e-9f12-0d5461b62b56",
   "metadata": {},
   "outputs": [],
   "source": [
    "# Crear un GeoDataFrame con los LineStrings y sus nombres\n",
    "gdf_lines = gpd.GeoDataFrame({'nombre': names, 'geometry': lineas}, crs=\"EPSG:4326\")"
   ]
  },
  {
   "cell_type": "code",
   "execution_count": 102,
   "id": "76afc766-6f98-430f-bd2f-b94ad23f47d8",
   "metadata": {},
   "outputs": [
    {
     "data": {
      "text/html": [
       "<div>\n",
       "<style scoped>\n",
       "    .dataframe tbody tr th:only-of-type {\n",
       "        vertical-align: middle;\n",
       "    }\n",
       "\n",
       "    .dataframe tbody tr th {\n",
       "        vertical-align: top;\n",
       "    }\n",
       "\n",
       "    .dataframe thead th {\n",
       "        text-align: right;\n",
       "    }\n",
       "</style>\n",
       "<table border=\"1\" class=\"dataframe\">\n",
       "  <thead>\n",
       "    <tr style=\"text-align: right;\">\n",
       "      <th></th>\n",
       "      <th>nombre</th>\n",
       "      <th>geometry</th>\n",
       "    </tr>\n",
       "  </thead>\n",
       "  <tbody>\n",
       "    <tr>\n",
       "      <th>0</th>\n",
       "      <td>2025-07-22 13-58-53.tlog</td>\n",
       "      <td>LINESTRING (-63.05310 -17.30166, -63.05310 -17...</td>\n",
       "    </tr>\n",
       "  </tbody>\n",
       "</table>\n",
       "</div>"
      ],
      "text/plain": [
       "                     nombre                                           geometry\n",
       "0  2025-07-22 13-58-53.tlog  LINESTRING (-63.05310 -17.30166, -63.05310 -17..."
      ]
     },
     "execution_count": 102,
     "metadata": {},
     "output_type": "execute_result"
    }
   ],
   "source": [
    "gdf_lines"
   ]
  },
  {
   "cell_type": "code",
   "execution_count": 103,
   "id": "6a26d1ff-331f-4474-b665-2482b58a2e4d",
   "metadata": {},
   "outputs": [
    {
     "data": {
      "text/plain": [
       "<Axes: >"
      ]
     },
     "execution_count": 103,
     "metadata": {},
     "output_type": "execute_result"
    },
    {
     "data": {
      "image/png": "[encoded data removed]",
      "text/plain": [
       "<Figure size 640x480 with 1 Axes>"
      ]
     },
     "metadata": {},
     "output_type": "display_data"
    }
   ],
   "source": [
    "gdf_lines.plot()"
   ]
  },
  {
   "cell_type": "code",
   "execution_count": 104,
   "id": "b1aaa449-80c6-4d00-8d07-b9a2fb117bbb",
   "metadata": {},
   "outputs": [],
   "source": [
    "gdf_lines.to_file('LINEAS.shp', driver=\"ESRI Shapefile\")"
   ]
  },
  {
   "cell_type": "code",
   "execution_count": 105,
   "id": "e19354fd-3846-4f71-88b4-e546b8deb621",
   "metadata": {},
   "outputs": [],
   "source": [
    "# Función para dividir y limpiar las líneas\n",
    "def dividir_y_limpiar_linea(linea):\n",
    "    puntos = list(linea.coords)\n",
    "    nuevas_lineas = []\n",
    "    nueva_linea = []\n",
    "    \n",
    "    for punto in puntos:\n",
    "        if punto != (0, 0):\n",
    "            nueva_linea.append(punto)\n",
    "        else:\n",
    "            if nueva_linea:\n",
    "                nuevas_lineas.append(LineString(nueva_linea))\n",
    "                nueva_linea = []\n",
    "    \n",
    "    if nueva_linea:\n",
    "        nuevas_lineas.append(LineString(nueva_linea))\n",
    "    \n",
    "    return nuevas_lineas"
   ]
  },
  {
   "cell_type": "code",
   "execution_count": 106,
   "id": "7d405569-5da0-4ab6-8e82-b02a3dbdd4c2",
   "metadata": {},
   "outputs": [],
   "source": [
    "# Crear una lista para las nuevas líneas y nombres\n",
    "nuevas_lineas = []\n",
    "nuevos_nombres = []\n",
    "for idx, row in gdf_lines.iterrows():\n",
    "    lineas_divididas = dividir_y_limpiar_linea(row.geometry)\n",
    "    for linea in lineas_divididas:\n",
    "        nuevas_lineas.append(linea)\n",
    "        nuevos_nombres.append(row['nombre'])"
   ]
  },
  {
   "cell_type": "code",
   "execution_count": 107,
   "id": "e094a348-a4b5-4743-8c3a-c7dc6fb7a21a",
   "metadata": {},
   "outputs": [],
   "source": [
    "# Crear un nuevo GeoDataFrame con las nuevas líneas\n",
    "gdf_lines = gpd.GeoDataFrame({'nombre': nuevos_nombres, 'geometry': nuevas_lineas}, crs=\"EPSG:4326\")"
   ]
  },
  {
   "cell_type": "code",
   "execution_count": 108,
   "id": "0c91619d-f9dd-46af-9149-acca387f08e1",
   "metadata": {},
   "outputs": [],
   "source": [
    "# Función para contar la cantidad de coordenadas en una geometría de tipo LINESTRING\n",
    "def contar_coordenadas(linea):\n",
    "    return len(linea.coords)"
   ]
  },
  {
   "cell_type": "code",
   "execution_count": 109,
   "id": "02e41758-ab6e-46f4-90f6-686f83fc16bb",
   "metadata": {},
   "outputs": [],
   "source": [
    "gdf_lines['num_vert'] = gdf_lines['geometry'].apply(contar_coordenadas)"
   ]
  },
  {
   "cell_type": "code",
   "execution_count": 110,
   "id": "bae564ef-227a-4a2c-ab89-cb2cc7d43c53",
   "metadata": {},
   "outputs": [],
   "source": [
    "gdf_lines['vehiculo'] = vehiculo"
   ]
  },
  {
   "cell_type": "code",
   "execution_count": 111,
   "id": "7c21bb5c-d89a-4d80-88da-c6a7ed188f99",
   "metadata": {},
   "outputs": [
    {
     "data": {
      "text/html": [
       "<div>\n",
       "<style scoped>\n",
       "    .dataframe tbody tr th:only-of-type {\n",
       "        vertical-align: middle;\n",
       "    }\n",
       "\n",
       "    .dataframe tbody tr th {\n",
       "        vertical-align: top;\n",
       "    }\n",
       "\n",
       "    .dataframe thead th {\n",
       "        text-align: right;\n",
       "    }\n",
       "</style>\n",
       "<table border=\"1\" class=\"dataframe\">\n",
       "  <thead>\n",
       "    <tr style=\"text-align: right;\">\n",
       "      <th></th>\n",
       "      <th>nombre</th>\n",
       "      <th>geometry</th>\n",
       "      <th>num_vert</th>\n",
       "      <th>vehiculo</th>\n",
       "    </tr>\n",
       "  </thead>\n",
       "  <tbody>\n",
       "    <tr>\n",
       "      <th>0</th>\n",
       "      <td>2025-07-22 13-58-53.tlog</td>\n",
       "      <td>LINESTRING (-63.05310 -17.30166, -63.05310 -17...</td>\n",
       "      <td>4153</td>\n",
       "      <td>DA02</td>\n",
       "    </tr>\n",
       "    <tr>\n",
       "      <th>1</th>\n",
       "      <td>2025-07-22 13-58-53.tlog</td>\n",
       "      <td>LINESTRING (-63.05309 -17.30167, -63.05309 -17...</td>\n",
       "      <td>3861</td>\n",
       "      <td>DA02</td>\n",
       "    </tr>\n",
       "  </tbody>\n",
       "</table>\n",
       "</div>"
      ],
      "text/plain": [
       "                     nombre  \\\n",
       "0  2025-07-22 13-58-53.tlog   \n",
       "1  2025-07-22 13-58-53.tlog   \n",
       "\n",
       "                                            geometry  num_vert vehiculo  \n",
       "0  LINESTRING (-63.05310 -17.30166, -63.05310 -17...      4153     DA02  \n",
       "1  LINESTRING (-63.05309 -17.30167, -63.05309 -17...      3861     DA02  "
      ]
     },
     "execution_count": 111,
     "metadata": {},
     "output_type": "execute_result"
    }
   ],
   "source": [
    "gdf_lines"
   ]
  },
  {
   "cell_type": "code",
   "execution_count": 112,
   "id": "53ff8c8a-2a43-4afe-bed5-38f1530fdae0",
   "metadata": {},
   "outputs": [
    {
     "data": {
      "text/plain": [
       "<Axes: >"
      ]
     },
     "execution_count": 112,
     "metadata": {},
     "output_type": "execute_result"
    },
    {
     "data": {
      "image/png": "[encoded data removed]",
      "text/plain": [
       "<Figure size 640x480 with 1 Axes>"
      ]
     },
     "metadata": {},
     "output_type": "display_data"
    }
   ],
   "source": [
    "gdf_lines.plot()"
   ]
  },
  {
   "cell_type": "code",
   "execution_count": 113,
   "id": "d663ceb7-df00-447c-858a-6493a884b0ed",
   "metadata": {},
   "outputs": [],
   "source": [
    "gdf_lines.crs = \"EPSG:4326\"\n",
    "gdf_lines_utm = gdf_lines.to_crs(epsg=32720)"
   ]
  },
  {
   "cell_type": "code",
   "execution_count": 114,
   "id": "a04b10fb-340a-4b87-8ccd-d3a03057ceba",
   "metadata": {},
   "outputs": [
    {
     "data": {
      "text/plain": [
       "<Axes: >"
      ]
     },
     "execution_count": 114,
     "metadata": {},
     "output_type": "execute_result"
    },
    {
     "data": {
      "image/png": "[encoded data removed]",
      "text/plain": [
       "<Figure size 640x480 with 1 Axes>"
      ]
     },
     "metadata": {},
     "output_type": "display_data"
    }
   ],
   "source": [
    "gdf_lines_utm.plot()"
   ]
  },
  {
   "cell_type": "code",
   "execution_count": 115,
   "id": "6f4d4c1a-3d7a-467c-bc89-c93475ae3aca",
   "metadata": {},
   "outputs": [],
   "source": [
    "# Combinar los GeoDataFrames\n",
    "gdf_combined = gpd.GeoDataFrame(pd.concat([gdf_rec, gdf_lines_utm], ignore_index=True))\n",
    "# rellenar valores NaN\n",
    "gdf_combined['idd'] = gdf_combined['idd'].fillna(0).astype(int)"
   ]
  },
  {
   "cell_type": "code",
   "execution_count": 116,
   "id": "0eb2ed02-320b-4b64-921b-316c75f27ef9",
   "metadata": {},
   "outputs": [
    {
     "data": {
      "text/html": [
       "<div>\n",
       "<style scoped>\n",
       "    .dataframe tbody tr th:only-of-type {\n",
       "        vertical-align: middle;\n",
       "    }\n",
       "\n",
       "    .dataframe tbody tr th {\n",
       "        vertical-align: top;\n",
       "    }\n",
       "\n",
       "    .dataframe thead th {\n",
       "        text-align: right;\n",
       "    }\n",
       "</style>\n",
       "<table border=\"1\" class=\"dataframe\">\n",
       "  <thead>\n",
       "    <tr style=\"text-align: right;\">\n",
       "      <th></th>\n",
       "      <th>idd</th>\n",
       "      <th>nombre</th>\n",
       "      <th>vehiculo</th>\n",
       "      <th>num_vert</th>\n",
       "      <th>id</th>\n",
       "      <th>asignado</th>\n",
       "      <th>geometry</th>\n",
       "    </tr>\n",
       "  </thead>\n",
       "  <tbody>\n",
       "    <tr>\n",
       "      <th>0</th>\n",
       "      <td>-1</td>\n",
       "      <td>2025-05-02 08-32-28.tlog</td>\n",
       "      <td>DA02</td>\n",
       "      <td>2517.0</td>\n",
       "      <td>None</td>\n",
       "      <td>ORIGINAL</td>\n",
       "      <td>LINESTRING (471873.745 8084797.248, 471873.415...</td>\n",
       "    </tr>\n",
       "    <tr>\n",
       "      <th>1</th>\n",
       "      <td>-1</td>\n",
       "      <td>2025-05-05 16-16-47.tlog</td>\n",
       "      <td>DA02</td>\n",
       "      <td>1056.0</td>\n",
       "      <td>None</td>\n",
       "      <td>ORIGINAL</td>\n",
       "      <td>LINESTRING (478886.299 8093597.535, 478886.288...</td>\n",
       "    </tr>\n",
       "    <tr>\n",
       "      <th>2</th>\n",
       "      <td>-1</td>\n",
       "      <td>2025-05-05 16-32-05.tlog</td>\n",
       "      <td>DA02</td>\n",
       "      <td>345.0</td>\n",
       "      <td>None</td>\n",
       "      <td>ORIGINAL</td>\n",
       "      <td>LINESTRING (478939.004 8093577.919, 478939.004...</td>\n",
       "    </tr>\n",
       "    <tr>\n",
       "      <th>3</th>\n",
       "      <td>-1</td>\n",
       "      <td>2025-05-05 21-05-04.tlog</td>\n",
       "      <td>DA02</td>\n",
       "      <td>3426.0</td>\n",
       "      <td>None</td>\n",
       "      <td>ORIGINAL</td>\n",
       "      <td>LINESTRING (478661.660 8093836.724, 478660.405...</td>\n",
       "    </tr>\n",
       "    <tr>\n",
       "      <th>4</th>\n",
       "      <td>-1</td>\n",
       "      <td>2025-05-05 21-05-04.tlog</td>\n",
       "      <td>DA02</td>\n",
       "      <td>3207.0</td>\n",
       "      <td>None</td>\n",
       "      <td>ORIGINAL</td>\n",
       "      <td>LINESTRING (478649.523 8093832.840, 478649.555...</td>\n",
       "    </tr>\n",
       "    <tr>\n",
       "      <th>...</th>\n",
       "      <td>...</td>\n",
       "      <td>...</td>\n",
       "      <td>...</td>\n",
       "      <td>...</td>\n",
       "      <td>...</td>\n",
       "      <td>...</td>\n",
       "      <td>...</td>\n",
       "    </tr>\n",
       "    <tr>\n",
       "      <th>142</th>\n",
       "      <td>0</td>\n",
       "      <td>2025-07-22 00-15-05.tlog</td>\n",
       "      <td>DA02</td>\n",
       "      <td>3061.0</td>\n",
       "      <td>None</td>\n",
       "      <td>None</td>\n",
       "      <td>LINESTRING (523449.851 8076167.441, 523449.851...</td>\n",
       "    </tr>\n",
       "    <tr>\n",
       "      <th>143</th>\n",
       "      <td>0</td>\n",
       "      <td>2025-07-22 00-15-05.tlog</td>\n",
       "      <td>DA02</td>\n",
       "      <td>2747.0</td>\n",
       "      <td>None</td>\n",
       "      <td>None</td>\n",
       "      <td>LINESTRING (523448.320 8076166.182, 523448.341...</td>\n",
       "    </tr>\n",
       "    <tr>\n",
       "      <th>144</th>\n",
       "      <td>0</td>\n",
       "      <td>2025-07-22 13-54-04.tlog</td>\n",
       "      <td>DA01</td>\n",
       "      <td>1471.0</td>\n",
       "      <td>None</td>\n",
       "      <td>None</td>\n",
       "      <td>LINESTRING (489322.086 8082259.794, 489321.638...</td>\n",
       "    </tr>\n",
       "    <tr>\n",
       "      <th>145</th>\n",
       "      <td>0</td>\n",
       "      <td>2025-07-22 13-58-53.tlog</td>\n",
       "      <td>DA02</td>\n",
       "      <td>4153.0</td>\n",
       "      <td>NaN</td>\n",
       "      <td>NaN</td>\n",
       "      <td>LINESTRING (494356.867 8087072.689, 494356.867...</td>\n",
       "    </tr>\n",
       "    <tr>\n",
       "      <th>146</th>\n",
       "      <td>0</td>\n",
       "      <td>2025-07-22 13-58-53.tlog</td>\n",
       "      <td>DA02</td>\n",
       "      <td>3861.0</td>\n",
       "      <td>NaN</td>\n",
       "      <td>NaN</td>\n",
       "      <td>LINESTRING (494358.493 8087071.992, 494358.504...</td>\n",
       "    </tr>\n",
       "  </tbody>\n",
       "</table>\n",
       "<p>147 rows × 7 columns</p>\n",
       "</div>"
      ],
      "text/plain": [
       "     idd                    nombre vehiculo  num_vert    id  asignado  \\\n",
       "0     -1  2025-05-02 08-32-28.tlog     DA02    2517.0  None  ORIGINAL   \n",
       "1     -1  2025-05-05 16-16-47.tlog     DA02    1056.0  None  ORIGINAL   \n",
       "2     -1  2025-05-05 16-32-05.tlog     DA02     345.0  None  ORIGINAL   \n",
       "3     -1  2025-05-05 21-05-04.tlog     DA02    3426.0  None  ORIGINAL   \n",
       "4     -1  2025-05-05 21-05-04.tlog     DA02    3207.0  None  ORIGINAL   \n",
       "..   ...                       ...      ...       ...   ...       ...   \n",
       "142    0  2025-07-22 00-15-05.tlog     DA02    3061.0  None      None   \n",
       "143    0  2025-07-22 00-15-05.tlog     DA02    2747.0  None      None   \n",
       "144    0  2025-07-22 13-54-04.tlog     DA01    1471.0  None      None   \n",
       "145    0  2025-07-22 13-58-53.tlog     DA02    4153.0   NaN       NaN   \n",
       "146    0  2025-07-22 13-58-53.tlog     DA02    3861.0   NaN       NaN   \n",
       "\n",
       "                                              geometry  \n",
       "0    LINESTRING (471873.745 8084797.248, 471873.415...  \n",
       "1    LINESTRING (478886.299 8093597.535, 478886.288...  \n",
       "2    LINESTRING (478939.004 8093577.919, 478939.004...  \n",
       "3    LINESTRING (478661.660 8093836.724, 478660.405...  \n",
       "4    LINESTRING (478649.523 8093832.840, 478649.555...  \n",
       "..                                                 ...  \n",
       "142  LINESTRING (523449.851 8076167.441, 523449.851...  \n",
       "143  LINESTRING (523448.320 8076166.182, 523448.341...  \n",
       "144  LINESTRING (489322.086 8082259.794, 489321.638...  \n",
       "145  LINESTRING (494356.867 8087072.689, 494356.867...  \n",
       "146  LINESTRING (494358.493 8087071.992, 494358.504...  \n",
       "\n",
       "[147 rows x 7 columns]"
      ]
     },
     "execution_count": 116,
     "metadata": {},
     "output_type": "execute_result"
    }
   ],
   "source": [
    "gdf_combined"
   ]
  },
  {
   "cell_type": "code",
   "execution_count": 117,
   "id": "a533a1fd-3f67-457f-9b09-9607ef4fb5fd",
   "metadata": {},
   "outputs": [
    {
     "data": {
      "text/plain": [
       "idd            int32\n",
       "nombre        object\n",
       "vehiculo      object\n",
       "num_vert     float64\n",
       "id            object\n",
       "asignado      object\n",
       "geometry    geometry\n",
       "dtype: object"
      ]
     },
     "execution_count": 117,
     "metadata": {},
     "output_type": "execute_result"
    }
   ],
   "source": [
    "gdf_combined.dtypes"
   ]
  },
  {
   "cell_type": "code",
   "execution_count": 118,
   "id": "a6aa1191-afe4-485b-a918-93aa19dc8453",
   "metadata": {},
   "outputs": [],
   "source": [
    "gdf_combined.to_file(path_rec, driver=\"ESRI Shapefile\")"
   ]
  },
  {
   "cell_type": "code",
   "execution_count": null,
   "id": "2429b83e-6cf9-476d-a3ac-3b92cd38ad08",
   "metadata": {},
   "outputs": [],
   "source": []
  },
  {
   "cell_type": "code",
   "execution_count": null,
   "id": "0fd2aae3-cd66-47f2-b738-5d892c951c1c",
   "metadata": {},
   "outputs": [],
   "source": []
  },
  {
   "cell_type": "code",
   "execution_count": null,
   "id": "296ecacc-8599-4af5-bc96-974d378fc93b",
   "metadata": {},
   "outputs": [],
   "source": []
  },
  {
   "cell_type": "code",
   "execution_count": null,
   "id": "daf0f45b-f060-4e58-a4bf-8fac08bf7c86",
   "metadata": {},
   "outputs": [],
   "source": []
  },
  {
   "cell_type": "code",
   "execution_count": null,
   "id": "34ea4139-5436-4102-940c-4bfbed4ad82d",
   "metadata": {},
   "outputs": [],
   "source": []
  },
  {
   "cell_type": "code",
   "execution_count": null,
   "id": "a37f4cd2-aca0-4730-862a-bd9aaf782dbe",
   "metadata": {},
   "outputs": [],
   "source": []
  },
  {
   "cell_type": "code",
   "execution_count": null,
   "id": "0aeb666f-bcef-48e0-8b41-13ae3d3f42f8",
   "metadata": {},
   "outputs": [],
   "source": []
  },
  {
   "cell_type": "code",
   "execution_count": null,
   "id": "b5ad8bd0-f55b-4a92-9a8f-9cb5f26f04d8",
   "metadata": {},
   "outputs": [],
   "source": []
  },
  {
   "cell_type": "code",
   "execution_count": null,
   "id": "1464293a-4f7c-4b6d-b127-6908f11644a4",
   "metadata": {},
   "outputs": [],
   "source": []
  },
  {
   "cell_type": "code",
   "execution_count": 131,
   "id": "e4f897bd-afcf-43aa-9eff-21b5683b1b77",
   "metadata": {},
   "outputs": [
    {
     "name": "stdout",
     "output_type": "stream",
     "text": [
      "   time        lat        lon      alt  hdop  satellites\n",
      "0  None -17.210869 -62.992451  0.25557  0.55          26\n",
      "1  None -17.210869 -62.992451  0.25557  0.55          26\n",
      "2  None -17.210869 -62.992451  0.25558  0.55          26\n",
      "3  None -17.210869 -62.992452  0.25559  0.55          26\n",
      "4  None -17.210869 -62.992452  0.25559  0.55          26\n"
     ]
    }
   ],
   "source": [
    "# lee un .bin y extrae un csv con las coordenadas\n",
    "\n",
    "from pymavlink import mavutil\n",
    "import pandas as pd\n",
    "\n",
    "# Abrir el archivo .BIN\n",
    "log = mavutil.mavlink_connection(\"log_93_2025-7-22-00-03-38.bin\", dialect=\"ardupilotmega\", notimestamps=False)\n",
    "\n",
    "gps_data = []\n",
    "\n",
    "# Leer mensajes tipo GPS\n",
    "while True:\n",
    "    msg = log.recv_match(type=\"GPS\", blocking=False)\n",
    "    if msg is None:\n",
    "        break\n",
    "    try:\n",
    "        gps_data.append({\n",
    "            \"time\": getattr(msg, \"TimeMS\", None),\n",
    "            \"lat\": getattr(msg, \"Lat\", 0),\n",
    "            \"lon\": getattr(msg, \"Lng\", 0),\n",
    "            \"alt\": getattr(msg, \"Alt\", 0) / 1000,  # en metros\n",
    "            \"hdop\": getattr(msg, \"HDop\", None),\n",
    "            \"satellites\": getattr(msg, \"NSats\", None)\n",
    "        })\n",
    "    except Exception as e:\n",
    "        print(\"Error en mensaje:\", e)\n",
    "\n",
    "# Convertir a DataFrame\n",
    "df = pd.DataFrame(gps_data)\n",
    "\n",
    "# Ver los primeros registros\n",
    "print(df.head())\n",
    "\n",
    "# Guardar a CSV\n",
    "df.to_csv(\"gps_extraido.csv\", index=False)\n"
   ]
  },
  {
   "cell_type": "code",
   "execution_count": 132,
   "id": "da4b9129-2cab-4c08-85fb-9c1efcc58af3",
   "metadata": {},
   "outputs": [
    {
     "name": "stdout",
     "output_type": "stream",
     "text": [
      "✅ Archivo proyectado guardado como trayectoria_utm20s.gpkg (EPSG:32720)\n"
     ]
    }
   ],
   "source": [
    "# lee las coordenas y las crea un geopackage\n",
    "\n",
    "import pandas as pd\n",
    "import geopandas as gpd\n",
    "from shapely.geometry import Point\n",
    "\n",
    "# Cargar CSV generado desde el .BIN\n",
    "df = pd.read_csv(\"gps_extraido.csv\")\n",
    "\n",
    "# Crear columna de geometría (en EPSG:4326)\n",
    "geometry = [Point(lon, lat) for lon, lat in zip(df[\"lon\"], df[\"lat\"])]\n",
    "gdf = gpd.GeoDataFrame(df, geometry=geometry, crs=\"EPSG:4326\")\n",
    "\n",
    "# ✅ Reproyectar a UTM Zona 20 Sur (EPSG:32720)\n",
    "gdf_utm = gdf.to_crs(epsg=32720)\n",
    "\n",
    "# Guardar en archivo GeoPackage (o .shp si prefieres)\n",
    "gdf_utm.to_file(\"trayectoria_utm20s.gpkg\", driver=\"GPKG\")\n",
    "\n",
    "print(\"✅ Archivo proyectado guardado como trayectoria_utm20s.gpkg (EPSG:32720)\")\n"
   ]
  },
  {
   "cell_type": "code",
   "execution_count": null,
   "id": "c2aa2ef5-dbcf-4081-be23-34c8e36c39d2",
   "metadata": {},
   "outputs": [],
   "source": []
  },
  {
   "cell_type": "code",
   "execution_count": null,
   "id": "8781fb79-f39b-4728-910c-0963a96ecc45",
   "metadata": {},
   "outputs": [],
   "source": []
  },
  {
   "cell_type": "code",
   "execution_count": null,
   "id": "9db136d7-9798-429d-aba1-0eaec27922c1",
   "metadata": {},
   "outputs": [],
   "source": []
  },
  {
   "cell_type": "code",
   "execution_count": null,
   "id": "be225190-98dd-4112-8ffd-a5fc19c01570",
   "metadata": {},
   "outputs": [],
   "source": []
  },
  {
   "cell_type": "code",
   "execution_count": null,
   "id": "612af06e-e136-45f8-8275-2f4ec887644c",
   "metadata": {},
   "outputs": [],
   "source": []
  },
  {
   "cell_type": "code",
   "execution_count": null,
   "id": "471178d6-6ef0-4b89-b997-94a3d9fa340b",
   "metadata": {},
   "outputs": [],
   "source": []
  },
  {
   "cell_type": "code",
   "execution_count": null,
   "id": "30db936b-4d38-4c31-bf53-934d28ae3c6f",
   "metadata": {},
   "outputs": [],
   "source": []
  },
  {
   "cell_type": "code",
   "execution_count": null,
   "id": "de51b2cb-cfb3-4855-a21a-e77b3172e9ab",
   "metadata": {},
   "outputs": [],
   "source": []
  },
  {
   "cell_type": "code",
   "execution_count": null,
   "id": "ac8384ec-dfca-4a9e-ad9f-25dde95d7efc",
   "metadata": {},
   "outputs": [],
   "source": []
  },
  {
   "cell_type": "code",
   "execution_count": 150,
   "id": "9402c73a-869f-4bb1-81a1-e639152c2c4f",
   "metadata": {},
   "outputs": [
    {
     "name": "stdout",
     "output_type": "stream",
     "text": [
      "   timestamp_us     gps_ms  gps_week        lat        lon   alt_m  spd_mps  \\\n",
      "0     152643827  186501200      2376 -17.210869 -62.992451  255.57    0.053   \n",
      "1     152823724  186501400      2376 -17.210869 -62.992451  255.57    0.041   \n",
      "2     153023792  186501600      2376 -17.210869 -62.992451  255.58    0.050   \n",
      "3     153223733  186501800      2376 -17.210869 -62.992452  255.59    0.029   \n",
      "4     153443881  186502000      2376 -17.210869 -62.992452  255.59    0.040   \n",
      "\n",
      "   vz_mps  hdop  nsats            gps_datetime  \n",
      "0  -0.010  0.55     26 2025-07-22 03:48:21.200  \n",
      "1   0.023  0.55     26 2025-07-22 03:48:21.400  \n",
      "2   0.018  0.55     26 2025-07-22 03:48:21.600  \n",
      "3  -0.022  0.55     26 2025-07-22 03:48:21.800  \n",
      "4  -0.101  0.55     26 2025-07-22 03:48:22.000  \n"
     ]
    }
   ],
   "source": [
    "from pymavlink import mavutil\n",
    "import pandas as pd\n",
    "import datetime\n",
    "\n",
    "# Cargar el archivo .BIN\n",
    "log = mavutil.mavlink_connection(\"log_93_2025-7-22-00-03-38.bin\")\n",
    "\n",
    "gps_data = []\n",
    "\n",
    "while True:\n",
    "    msg = log.recv_match(type=\"GPS\", blocking=False)\n",
    "    if msg is None:\n",
    "        break\n",
    "\n",
    "    try:\n",
    "        # Extraer valores clave\n",
    "        gps_data.append({\n",
    "            \"timestamp_us\": getattr(msg, \"TimeUS\", None),\n",
    "            \"gps_ms\": getattr(msg, \"GMS\", None),\n",
    "            \"gps_week\": getattr(msg, \"GWk\", None),\n",
    "            \"lat\": getattr(msg, \"Lat\", 0),\n",
    "            \"lon\": getattr(msg, \"Lng\", 0),\n",
    "            \"alt_m\": getattr(msg, \"Alt\", 0),\n",
    "            \"spd_mps\": getattr(msg, \"Spd\", 0),\n",
    "            \"vz_mps\": getattr(msg, \"VZ\", 0),\n",
    "            \"hdop\": getattr(msg, \"HDop\", None),\n",
    "            \"nsats\": getattr(msg, \"NSats\", None),\n",
    "        })\n",
    "    except Exception as e:\n",
    "        print(\"Error leyendo mensaje GPS:\", e)\n",
    "\n",
    "# Crear DataFrame\n",
    "df = pd.DataFrame(gps_data)\n",
    "\n",
    "# Escalar coordenadas si están en formato entero (como es típico)\n",
    "df[\"lat\"] = df[\"lat\"]\n",
    "df[\"lon\"] = df[\"lon\"]\n",
    "\n",
    "# Convertir tiempo GPS (ms desde el inicio de la semana) a fecha real\n",
    "# Semana GPS 0 comenzó el 6 de enero de 1980\n",
    "gps_epoch = datetime.datetime(1980, 1, 6)\n",
    "df[\"gps_datetime\"] = df.apply(\n",
    "    lambda row: gps_epoch + datetime.timedelta(weeks=row[\"gps_week\"], milliseconds=row[\"gps_ms\"]),\n",
    "    axis=1\n",
    ")\n",
    "\n",
    "# Ver primeros registros\n",
    "print(df.head())\n",
    "\n",
    "# Guardar\n",
    "df.to_csv(\"gps_dataframe.csv\", index=False)\n"
   ]
  },
  {
   "cell_type": "code",
   "execution_count": null,
   "id": "29cf25ce-fd43-4b67-95e2-9a80462e8a2b",
   "metadata": {},
   "outputs": [],
   "source": []
  },
  {
   "cell_type": "code",
   "execution_count": null,
   "id": "f89d9bd3-aea0-4b0a-8f12-32ee35f8443e",
   "metadata": {},
   "outputs": [],
   "source": []
  },
  {
   "cell_type": "code",
   "execution_count": null,
   "id": "743a4863-b7a7-4300-af7f-b4b5985a446b",
   "metadata": {},
   "outputs": [],
   "source": []
  },
  {
   "cell_type": "code",
   "execution_count": null,
   "id": "b15d3b0a-3b9f-4e84-ad95-debfc85733d9",
   "metadata": {},
   "outputs": [],
   "source": []
  },
  {
   "cell_type": "code",
   "execution_count": null,
   "id": "2d446ea6-2c37-49a7-b551-99354b4f8143",
   "metadata": {},
   "outputs": [],
   "source": []
  },
  {
   "cell_type": "code",
   "execution_count": null,
   "id": "7faf01b8-ec1a-4616-af27-cba634902ee1",
   "metadata": {},
   "outputs": [],
   "source": []
  }
 ],
 "metadata": {
  "kernelspec": {
   "display_name": "Python 3 (ipykernel)",
   "language": "python",
   "name": "python3"
  },
  "language_info": {
   "codemirror_mode": {
    "name": "ipython",
    "version": 3
   },
   "file_extension": ".py",
   "mimetype": "text/x-python",
   "name": "python",
   "nbconvert_exporter": "python",
   "pygments_lexer": "ipython3",
   "version": "3.10.13"
  }
 },
 "nbformat": 4,
 "nbformat_minor": 5
}
