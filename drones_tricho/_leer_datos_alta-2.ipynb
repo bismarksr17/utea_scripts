{
 "cells": [
  {
   "cell_type": "code",
   "execution_count": 2,
   "id": "471a58e2-7e57-4c39-9f66-2901e67bad16",
   "metadata": {},
   "outputs": [],
   "source": [
    "from pymavlink import mavutil\n",
    "\n",
    "import matplotlib.pyplot as plt\n",
    "import pandas as pd\n",
    "import os\n",
    "import geopandas as gpd\n",
    "from shapely.geometry import Point, LineString"
   ]
  },
  {
   "cell_type": "code",
   "execution_count": 37,
   "id": "2daa78ba-f5c9-44f1-b6b2-4640c8891024",
   "metadata": {},
   "outputs": [],
   "source": [
    "vehiculo = 'DA03'"
   ]
  },
  {
   "cell_type": "code",
   "execution_count": 38,
   "id": "267f5023-bc5a-45eb-8207-5364f8d9166d",
   "metadata": {},
   "outputs": [],
   "source": [
    "path_rec = r'G:\\Ingenio Azucarero Guabira S.A\\UTEA - SEMANAL - EQUIPO AVIACION UTEA\\Trichogramma\\2024\\SHP\\RECORRIDOS.shp'\n",
    "gdf_rec = gpd.read_file(path_rec)"
   ]
  },
  {
   "cell_type": "code",
   "execution_count": 39,
   "id": "504d15e2-1b8c-45c8-8f0a-b574cd569e93",
   "metadata": {},
   "outputs": [
    {
     "data": {
      "text/plain": [
       "86"
      ]
     },
     "execution_count": 39,
     "metadata": {},
     "output_type": "execute_result"
    }
   ],
   "source": [
    "if vehiculo == 'DA01':\n",
    "    path_log = r'G:\\Ingenio Azucarero Guabira S.A\\UTEA - SEMANAL - EQUIPO AVIACION UTEA\\Trichogramma\\2024\\TLOGS\\ALTA_01'\n",
    "elif vehiculo == 'DA02':\n",
    "    path_log = r'G:\\Ingenio Azucarero Guabira S.A\\UTEA - SEMANAL - EQUIPO AVIACION UTEA\\Trichogramma\\2024\\TLOGS\\ALTA_02'\n",
    "elif vehiculo == 'DA03':\n",
    "    path_log = r'G:\\Ingenio Azucarero Guabira S.A\\UTEA - SEMANAL - EQUIPO AVIACION UTEA\\Trichogramma\\2024\\TLOGS\\ALTA_03'\n",
    "contenido = os.listdir(path_log)\n",
    "len(contenido)"
   ]
  },
  {
   "cell_type": "code",
   "execution_count": 40,
   "id": "3f11a10e-4884-402e-a913-268ed87089c8",
   "metadata": {},
   "outputs": [
    {
     "data": {
      "text/plain": [
       "3"
      ]
     },
     "execution_count": 40,
     "metadata": {},
     "output_type": "execute_result"
    }
   ],
   "source": [
    "# Filtrar la lista 'contenido' para excluir elementos que están en la columna 'nombre' del GeoDataFrame\n",
    "contenido_filtrado = [item for item in contenido if item not in gdf_rec['nombre'].values]\n",
    "len(contenido_filtrado)"
   ]
  },
  {
   "cell_type": "code",
   "execution_count": 41,
   "id": "ca3c281f-b619-4640-92a2-6c815204fc7c",
   "metadata": {},
   "outputs": [],
   "source": [
    "def leer_logs(lista_logs):\n",
    "    list_geo = []\n",
    "    list_name = []\n",
    "    for i in lista_logs:\n",
    "        log = path_log + '/' + i\n",
    "        \n",
    "        name = i\n",
    "        \n",
    "        mlog = mavutil.mavlink_connection(log)\n",
    "        lats = []\n",
    "        lons = []\n",
    "        while True:\n",
    "            msg = mlog.recv_match()\n",
    "            if not msg:\n",
    "                break\n",
    "            # Ejemplo de procesamiento de mensaje\n",
    "            if msg.get_type() == 'GLOBAL_POSITION_INT':\n",
    "                lat = msg.lat / 1e7  # Latitud en grados\n",
    "                lon = msg.lon / 1e7  # Longitud en grados\n",
    "                lats.append(lat)\n",
    "                lons.append(lon)\n",
    "\n",
    "        coors = {'lat':lats, 'lon':lons}\n",
    "        df = pd.DataFrame(coors)\n",
    "        \n",
    "        geometry = [Point(xy) for xy in zip(df['lon'], df['lat'])]\n",
    "        line = LineString(geometry)\n",
    "        list_geo.append(line)\n",
    "        list_name.append(name)\n",
    "    return (list_geo, list_name)"
   ]
  },
  {
   "cell_type": "code",
   "execution_count": 42,
   "id": "d28df3e9-37ed-403b-b3c8-c9873fa59851",
   "metadata": {},
   "outputs": [],
   "source": [
    "lineas, names = leer_logs(contenido_filtrado)"
   ]
  },
  {
   "cell_type": "code",
   "execution_count": 43,
   "id": "3654c9fa-70ac-4101-acc1-501bcbbef161",
   "metadata": {},
   "outputs": [
    {
     "data": {
      "text/plain": [
       "[<LINESTRING (-62.834 -17.174, -62.834 -17.174, -62.834 -17.174, -62.834 -17....>,\n",
       " <LINESTRING (-62.837 -17.183, -62.837 -17.183, -62.837 -17.183, -62.837 -17....>,\n",
       " <LINESTRING (-62.835 -17.19, -62.835 -17.19, -62.835 -17.19, -62.835 -17.19,...>]"
      ]
     },
     "execution_count": 43,
     "metadata": {},
     "output_type": "execute_result"
    }
   ],
   "source": [
    "lineas"
   ]
  },
  {
   "cell_type": "code",
   "execution_count": 44,
   "id": "65a842f9-e32d-455e-9f12-0d5461b62b56",
   "metadata": {},
   "outputs": [],
   "source": [
    "# Crear un GeoDataFrame con los LineStrings y sus nombres\n",
    "gdf_lines = gpd.GeoDataFrame({'nombre': names, 'geometry': lineas}, crs=\"EPSG:4326\")"
   ]
  },
  {
   "cell_type": "code",
   "execution_count": 45,
   "id": "76afc766-6f98-430f-bd2f-b94ad23f47d8",
   "metadata": {},
   "outputs": [
    {
     "data": {
      "text/html": [
       "<div>\n",
       "<style scoped>\n",
       "    .dataframe tbody tr th:only-of-type {\n",
       "        vertical-align: middle;\n",
       "    }\n",
       "\n",
       "    .dataframe tbody tr th {\n",
       "        vertical-align: top;\n",
       "    }\n",
       "\n",
       "    .dataframe thead th {\n",
       "        text-align: right;\n",
       "    }\n",
       "</style>\n",
       "<table border=\"1\" class=\"dataframe\">\n",
       "  <thead>\n",
       "    <tr style=\"text-align: right;\">\n",
       "      <th></th>\n",
       "      <th>nombre</th>\n",
       "      <th>geometry</th>\n",
       "    </tr>\n",
       "  </thead>\n",
       "  <tbody>\n",
       "    <tr>\n",
       "      <th>0</th>\n",
       "      <td>2025-03-15 02-59-21.tlog</td>\n",
       "      <td>LINESTRING (-62.83378 -17.17370, -62.83378 -17...</td>\n",
       "    </tr>\n",
       "    <tr>\n",
       "      <th>1</th>\n",
       "      <td>2025-03-15 04-13-21.tlog</td>\n",
       "      <td>LINESTRING (-62.83696 -17.18275, -62.83696 -17...</td>\n",
       "    </tr>\n",
       "    <tr>\n",
       "      <th>2</th>\n",
       "      <td>2025-03-15 06-07-10.tlog</td>\n",
       "      <td>LINESTRING (-62.83493 -17.19043, -62.83493 -17...</td>\n",
       "    </tr>\n",
       "  </tbody>\n",
       "</table>\n",
       "</div>"
      ],
      "text/plain": [
       "                     nombre                                           geometry\n",
       "0  2025-03-15 02-59-21.tlog  LINESTRING (-62.83378 -17.17370, -62.83378 -17...\n",
       "1  2025-03-15 04-13-21.tlog  LINESTRING (-62.83696 -17.18275, -62.83696 -17...\n",
       "2  2025-03-15 06-07-10.tlog  LINESTRING (-62.83493 -17.19043, -62.83493 -17..."
      ]
     },
     "execution_count": 45,
     "metadata": {},
     "output_type": "execute_result"
    }
   ],
   "source": [
    "gdf_lines"
   ]
  },
  {
   "cell_type": "code",
   "execution_count": 46,
   "id": "6a26d1ff-331f-4474-b665-2482b58a2e4d",
   "metadata": {},
   "outputs": [
    {
     "data": {
      "text/plain": [
       "<Axes: >"
      ]
     },
     "execution_count": 46,
     "metadata": {},
     "output_type": "execute_result"
    },
    {
     "data": {
      "image/png": "[encoded data removed]",
      "text/plain": [
       "<Figure size 640x480 with 1 Axes>"
      ]
     },
     "metadata": {},
     "output_type": "display_data"
    }
   ],
   "source": [
    "gdf_lines.plot()"
   ]
  },
  {
   "cell_type": "code",
   "execution_count": 47,
   "id": "e19354fd-3846-4f71-88b4-e546b8deb621",
   "metadata": {},
   "outputs": [],
   "source": [
    "# Función para dividir y limpiar las líneas\n",
    "def dividir_y_limpiar_linea(linea):\n",
    "    puntos = list(linea.coords)\n",
    "    nuevas_lineas = []\n",
    "    nueva_linea = []\n",
    "    \n",
    "    for punto in puntos:\n",
    "        if punto != (0, 0):\n",
    "            nueva_linea.append(punto)\n",
    "        else:\n",
    "            if nueva_linea:\n",
    "                nuevas_lineas.append(LineString(nueva_linea))\n",
    "                nueva_linea = []\n",
    "    \n",
    "    if nueva_linea:\n",
    "        nuevas_lineas.append(LineString(nueva_linea))\n",
    "    \n",
    "    return nuevas_lineas"
   ]
  },
  {
   "cell_type": "code",
   "execution_count": 48,
   "id": "7d405569-5da0-4ab6-8e82-b02a3dbdd4c2",
   "metadata": {},
   "outputs": [],
   "source": [
    "# Crear una lista para las nuevas líneas y nombres\n",
    "nuevas_lineas = []\n",
    "nuevos_nombres = []\n",
    "for idx, row in gdf_lines.iterrows():\n",
    "    lineas_divididas = dividir_y_limpiar_linea(row.geometry)\n",
    "    for linea in lineas_divididas:\n",
    "        nuevas_lineas.append(linea)\n",
    "        nuevos_nombres.append(row['nombre'])"
   ]
  },
  {
   "cell_type": "code",
   "execution_count": 49,
   "id": "e094a348-a4b5-4743-8c3a-c7dc6fb7a21a",
   "metadata": {},
   "outputs": [],
   "source": [
    "# Crear un nuevo GeoDataFrame con las nuevas líneas\n",
    "gdf_lines = gpd.GeoDataFrame({'nombre': nuevos_nombres, 'geometry': nuevas_lineas}, crs=\"EPSG:4326\")"
   ]
  },
  {
   "cell_type": "code",
   "execution_count": 50,
   "id": "0c91619d-f9dd-46af-9149-acca387f08e1",
   "metadata": {},
   "outputs": [],
   "source": [
    "# Función para contar la cantidad de coordenadas en una geometría de tipo LINESTRING\n",
    "def contar_coordenadas(linea):\n",
    "    return len(linea.coords)"
   ]
  },
  {
   "cell_type": "code",
   "execution_count": 51,
   "id": "02e41758-ab6e-46f4-90f6-686f83fc16bb",
   "metadata": {},
   "outputs": [],
   "source": [
    "gdf_lines['num_vert'] = gdf_lines['geometry'].apply(contar_coordenadas)"
   ]
  },
  {
   "cell_type": "code",
   "execution_count": 52,
   "id": "bae564ef-227a-4a2c-ab89-cb2cc7d43c53",
   "metadata": {},
   "outputs": [],
   "source": [
    "gdf_lines['vehiculo'] = vehiculo"
   ]
  },
  {
   "cell_type": "code",
   "execution_count": 53,
   "id": "7c21bb5c-d89a-4d80-88da-c6a7ed188f99",
   "metadata": {},
   "outputs": [
    {
     "data": {
      "text/html": [
       "<div>\n",
       "<style scoped>\n",
       "    .dataframe tbody tr th:only-of-type {\n",
       "        vertical-align: middle;\n",
       "    }\n",
       "\n",
       "    .dataframe tbody tr th {\n",
       "        vertical-align: top;\n",
       "    }\n",
       "\n",
       "    .dataframe thead th {\n",
       "        text-align: right;\n",
       "    }\n",
       "</style>\n",
       "<table border=\"1\" class=\"dataframe\">\n",
       "  <thead>\n",
       "    <tr style=\"text-align: right;\">\n",
       "      <th></th>\n",
       "      <th>nombre</th>\n",
       "      <th>geometry</th>\n",
       "      <th>num_vert</th>\n",
       "      <th>vehiculo</th>\n",
       "    </tr>\n",
       "  </thead>\n",
       "  <tbody>\n",
       "    <tr>\n",
       "      <th>0</th>\n",
       "      <td>2025-03-15 02-59-21.tlog</td>\n",
       "      <td>LINESTRING (-62.83378 -17.17370, -62.83378 -17...</td>\n",
       "      <td>4570</td>\n",
       "      <td>DA03</td>\n",
       "    </tr>\n",
       "    <tr>\n",
       "      <th>1</th>\n",
       "      <td>2025-03-15 02-59-21.tlog</td>\n",
       "      <td>LINESTRING (-62.83379 -17.17371, -62.83379 -17...</td>\n",
       "      <td>2365</td>\n",
       "      <td>DA03</td>\n",
       "    </tr>\n",
       "    <tr>\n",
       "      <th>2</th>\n",
       "      <td>2025-03-15 02-59-21.tlog</td>\n",
       "      <td>LINESTRING (-62.83376 -17.17371, -62.83376 -17...</td>\n",
       "      <td>5629</td>\n",
       "      <td>DA03</td>\n",
       "    </tr>\n",
       "    <tr>\n",
       "      <th>3</th>\n",
       "      <td>2025-03-15 02-59-21.tlog</td>\n",
       "      <td>LINESTRING (-62.83379 -17.17369, -62.83379 -17...</td>\n",
       "      <td>4907</td>\n",
       "      <td>DA03</td>\n",
       "    </tr>\n",
       "    <tr>\n",
       "      <th>4</th>\n",
       "      <td>2025-03-15 02-59-21.tlog</td>\n",
       "      <td>LINESTRING (-62.83376 -17.17370, -62.83376 -17...</td>\n",
       "      <td>2795</td>\n",
       "      <td>DA03</td>\n",
       "    </tr>\n",
       "    <tr>\n",
       "      <th>5</th>\n",
       "      <td>2025-03-15 02-59-21.tlog</td>\n",
       "      <td>LINESTRING (-62.83376 -17.17368, -62.83376 -17...</td>\n",
       "      <td>2720</td>\n",
       "      <td>DA03</td>\n",
       "    </tr>\n",
       "    <tr>\n",
       "      <th>6</th>\n",
       "      <td>2025-03-15 02-59-21.tlog</td>\n",
       "      <td>LINESTRING (-62.83376 -17.17367, -62.83377 -17...</td>\n",
       "      <td>3359</td>\n",
       "      <td>DA03</td>\n",
       "    </tr>\n",
       "    <tr>\n",
       "      <th>7</th>\n",
       "      <td>2025-03-15 02-59-21.tlog</td>\n",
       "      <td>LINESTRING (-62.83405 -17.17343, -62.83405 -17...</td>\n",
       "      <td>3996</td>\n",
       "      <td>DA03</td>\n",
       "    </tr>\n",
       "    <tr>\n",
       "      <th>8</th>\n",
       "      <td>2025-03-15 02-59-21.tlog</td>\n",
       "      <td>LINESTRING (-62.82996 -17.16812, -62.82996 -17...</td>\n",
       "      <td>4431</td>\n",
       "      <td>DA03</td>\n",
       "    </tr>\n",
       "    <tr>\n",
       "      <th>9</th>\n",
       "      <td>2025-03-15 04-13-21.tlog</td>\n",
       "      <td>LINESTRING (-62.83696 -17.18275, -62.83696 -17...</td>\n",
       "      <td>4635</td>\n",
       "      <td>DA03</td>\n",
       "    </tr>\n",
       "    <tr>\n",
       "      <th>10</th>\n",
       "      <td>2025-03-15 04-13-21.tlog</td>\n",
       "      <td>LINESTRING (-62.83697 -17.18275, -62.83697 -17...</td>\n",
       "      <td>1676</td>\n",
       "      <td>DA03</td>\n",
       "    </tr>\n",
       "    <tr>\n",
       "      <th>11</th>\n",
       "      <td>2025-03-15 06-07-10.tlog</td>\n",
       "      <td>LINESTRING (-62.83493 -17.19043, -62.83493 -17...</td>\n",
       "      <td>3891</td>\n",
       "      <td>DA03</td>\n",
       "    </tr>\n",
       "    <tr>\n",
       "      <th>12</th>\n",
       "      <td>2025-03-15 06-07-10.tlog</td>\n",
       "      <td>LINESTRING (-62.83490 -17.19040, -62.83490 -17...</td>\n",
       "      <td>4176</td>\n",
       "      <td>DA03</td>\n",
       "    </tr>\n",
       "    <tr>\n",
       "      <th>13</th>\n",
       "      <td>2025-03-15 06-07-10.tlog</td>\n",
       "      <td>LINESTRING (-62.83489 -17.19042, -62.83489 -17...</td>\n",
       "      <td>2574</td>\n",
       "      <td>DA03</td>\n",
       "    </tr>\n",
       "    <tr>\n",
       "      <th>14</th>\n",
       "      <td>2025-03-15 06-07-10.tlog</td>\n",
       "      <td>LINESTRING (-62.83492 -17.19042, -62.83492 -17...</td>\n",
       "      <td>4217</td>\n",
       "      <td>DA03</td>\n",
       "    </tr>\n",
       "  </tbody>\n",
       "</table>\n",
       "</div>"
      ],
      "text/plain": [
       "                      nombre  \\\n",
       "0   2025-03-15 02-59-21.tlog   \n",
       "1   2025-03-15 02-59-21.tlog   \n",
       "2   2025-03-15 02-59-21.tlog   \n",
       "3   2025-03-15 02-59-21.tlog   \n",
       "4   2025-03-15 02-59-21.tlog   \n",
       "5   2025-03-15 02-59-21.tlog   \n",
       "6   2025-03-15 02-59-21.tlog   \n",
       "7   2025-03-15 02-59-21.tlog   \n",
       "8   2025-03-15 02-59-21.tlog   \n",
       "9   2025-03-15 04-13-21.tlog   \n",
       "10  2025-03-15 04-13-21.tlog   \n",
       "11  2025-03-15 06-07-10.tlog   \n",
       "12  2025-03-15 06-07-10.tlog   \n",
       "13  2025-03-15 06-07-10.tlog   \n",
       "14  2025-03-15 06-07-10.tlog   \n",
       "\n",
       "                                             geometry  num_vert vehiculo  \n",
       "0   LINESTRING (-62.83378 -17.17370, -62.83378 -17...      4570     DA03  \n",
       "1   LINESTRING (-62.83379 -17.17371, -62.83379 -17...      2365     DA03  \n",
       "2   LINESTRING (-62.83376 -17.17371, -62.83376 -17...      5629     DA03  \n",
       "3   LINESTRING (-62.83379 -17.17369, -62.83379 -17...      4907     DA03  \n",
       "4   LINESTRING (-62.83376 -17.17370, -62.83376 -17...      2795     DA03  \n",
       "5   LINESTRING (-62.83376 -17.17368, -62.83376 -17...      2720     DA03  \n",
       "6   LINESTRING (-62.83376 -17.17367, -62.83377 -17...      3359     DA03  \n",
       "7   LINESTRING (-62.83405 -17.17343, -62.83405 -17...      3996     DA03  \n",
       "8   LINESTRING (-62.82996 -17.16812, -62.82996 -17...      4431     DA03  \n",
       "9   LINESTRING (-62.83696 -17.18275, -62.83696 -17...      4635     DA03  \n",
       "10  LINESTRING (-62.83697 -17.18275, -62.83697 -17...      1676     DA03  \n",
       "11  LINESTRING (-62.83493 -17.19043, -62.83493 -17...      3891     DA03  \n",
       "12  LINESTRING (-62.83490 -17.19040, -62.83490 -17...      4176     DA03  \n",
       "13  LINESTRING (-62.83489 -17.19042, -62.83489 -17...      2574     DA03  \n",
       "14  LINESTRING (-62.83492 -17.19042, -62.83492 -17...      4217     DA03  "
      ]
     },
     "execution_count": 53,
     "metadata": {},
     "output_type": "execute_result"
    }
   ],
   "source": [
    "gdf_lines"
   ]
  },
  {
   "cell_type": "code",
   "execution_count": 54,
   "id": "53ff8c8a-2a43-4afe-bed5-38f1530fdae0",
   "metadata": {},
   "outputs": [
    {
     "data": {
      "text/plain": [
       "<Axes: >"
      ]
     },
     "execution_count": 54,
     "metadata": {},
     "output_type": "execute_result"
    },
    {
     "data": {
      "image/png": "[encoded data removed]",
      "text/plain": [
       "<Figure size 640x480 with 1 Axes>"
      ]
     },
     "metadata": {},
     "output_type": "display_data"
    }
   ],
   "source": [
    "gdf_lines.plot()"
   ]
  },
  {
   "cell_type": "code",
   "execution_count": 55,
   "id": "d663ceb7-df00-447c-858a-6493a884b0ed",
   "metadata": {},
   "outputs": [],
   "source": [
    "gdf_lines.crs = \"EPSG:4326\"\n",
    "gdf_lines_utm = gdf_lines.to_crs(epsg=32720)"
   ]
  },
  {
   "cell_type": "code",
   "execution_count": 56,
   "id": "a04b10fb-340a-4b87-8ccd-d3a03057ceba",
   "metadata": {},
   "outputs": [
    {
     "data": {
      "text/plain": [
       "<Axes: >"
      ]
     },
     "execution_count": 56,
     "metadata": {},
     "output_type": "execute_result"
    },
    {
     "data": {
      "image/png": "[encoded data removed]",
      "text/plain": [
       "<Figure size 640x480 with 1 Axes>"
      ]
     },
     "metadata": {},
     "output_type": "display_data"
    }
   ],
   "source": [
    "gdf_lines_utm.plot()"
   ]
  },
  {
   "cell_type": "code",
   "execution_count": 57,
   "id": "6f4d4c1a-3d7a-467c-bc89-c93475ae3aca",
   "metadata": {},
   "outputs": [],
   "source": [
    "# Combinar los GeoDataFrames\n",
    "gdf_combined = gpd.GeoDataFrame(pd.concat([gdf_rec, gdf_lines_utm], ignore_index=True))\n",
    "# rellenar valores NaN\n",
    "gdf_combined['idd'] = gdf_combined['idd'].fillna(0).astype(int)"
   ]
  },
  {
   "cell_type": "code",
   "execution_count": 58,
   "id": "0eb2ed02-320b-4b64-921b-316c75f27ef9",
   "metadata": {},
   "outputs": [
    {
     "data": {
      "text/html": [
       "<div>\n",
       "<style scoped>\n",
       "    .dataframe tbody tr th:only-of-type {\n",
       "        vertical-align: middle;\n",
       "    }\n",
       "\n",
       "    .dataframe tbody tr th {\n",
       "        vertical-align: top;\n",
       "    }\n",
       "\n",
       "    .dataframe thead th {\n",
       "        text-align: right;\n",
       "    }\n",
       "</style>\n",
       "<table border=\"1\" class=\"dataframe\">\n",
       "  <thead>\n",
       "    <tr style=\"text-align: right;\">\n",
       "      <th></th>\n",
       "      <th>idd</th>\n",
       "      <th>nombre</th>\n",
       "      <th>vehiculo</th>\n",
       "      <th>num_vert</th>\n",
       "      <th>id</th>\n",
       "      <th>asignado</th>\n",
       "      <th>geometry</th>\n",
       "    </tr>\n",
       "  </thead>\n",
       "  <tbody>\n",
       "    <tr>\n",
       "      <th>0</th>\n",
       "      <td>1</td>\n",
       "      <td>Jul-20th-2024-08-43PM-Flight-Airdata.kml</td>\n",
       "      <td>DA03</td>\n",
       "      <td>15</td>\n",
       "      <td>1.0</td>\n",
       "      <td>si</td>\n",
       "      <td>LINESTRING (460257.759 8096126.683, 460257.759...</td>\n",
       "    </tr>\n",
       "    <tr>\n",
       "      <th>1</th>\n",
       "      <td>63</td>\n",
       "      <td>Jul-25th-2024-05-47PM-Flight-Airdata.kml</td>\n",
       "      <td>DA03</td>\n",
       "      <td>15</td>\n",
       "      <td>2.0</td>\n",
       "      <td>si</td>\n",
       "      <td>LINESTRING (456011.255 8084542.548, 456011.265...</td>\n",
       "    </tr>\n",
       "    <tr>\n",
       "      <th>2</th>\n",
       "      <td>63</td>\n",
       "      <td>Jul-25th-2024-06-51PM-Flight-Airdata.kml</td>\n",
       "      <td>DA03</td>\n",
       "      <td>15</td>\n",
       "      <td>3.0</td>\n",
       "      <td>None</td>\n",
       "      <td>LINESTRING (455648.848 8084842.307, 455648.848...</td>\n",
       "    </tr>\n",
       "    <tr>\n",
       "      <th>3</th>\n",
       "      <td>63</td>\n",
       "      <td>Jul-25th-2024-07-06PM-Flight-Airdata.kml</td>\n",
       "      <td>DA03</td>\n",
       "      <td>15</td>\n",
       "      <td>4.0</td>\n",
       "      <td>None</td>\n",
       "      <td>LINESTRING (455647.763 8084843.024, 455647.752...</td>\n",
       "    </tr>\n",
       "    <tr>\n",
       "      <th>4</th>\n",
       "      <td>1</td>\n",
       "      <td>Jul-25th-2024-10-42PM-Flight-Airdata.kml</td>\n",
       "      <td>DA03</td>\n",
       "      <td>15</td>\n",
       "      <td>5.0</td>\n",
       "      <td>None</td>\n",
       "      <td>LINESTRING (460855.506 8095707.381, 460855.527...</td>\n",
       "    </tr>\n",
       "    <tr>\n",
       "      <th>...</th>\n",
       "      <td>...</td>\n",
       "      <td>...</td>\n",
       "      <td>...</td>\n",
       "      <td>...</td>\n",
       "      <td>...</td>\n",
       "      <td>...</td>\n",
       "      <td>...</td>\n",
       "    </tr>\n",
       "    <tr>\n",
       "      <th>3194</th>\n",
       "      <td>0</td>\n",
       "      <td>2025-03-15 04-13-21.tlog</td>\n",
       "      <td>DA03</td>\n",
       "      <td>1676</td>\n",
       "      <td>NaN</td>\n",
       "      <td>NaN</td>\n",
       "      <td>LINESTRING (517337.065 8100221.221, 517337.054...</td>\n",
       "    </tr>\n",
       "    <tr>\n",
       "      <th>3195</th>\n",
       "      <td>0</td>\n",
       "      <td>2025-03-15 06-07-10.tlog</td>\n",
       "      <td>DA03</td>\n",
       "      <td>3891</td>\n",
       "      <td>NaN</td>\n",
       "      <td>NaN</td>\n",
       "      <td>LINESTRING (517553.019 8099370.690, 517553.029...</td>\n",
       "    </tr>\n",
       "    <tr>\n",
       "      <th>3196</th>\n",
       "      <td>0</td>\n",
       "      <td>2025-03-15 06-07-10.tlog</td>\n",
       "      <td>DA03</td>\n",
       "      <td>4176</td>\n",
       "      <td>NaN</td>\n",
       "      <td>NaN</td>\n",
       "      <td>LINESTRING (517556.276 8099373.961, 517556.265...</td>\n",
       "    </tr>\n",
       "    <tr>\n",
       "      <th>3197</th>\n",
       "      <td>0</td>\n",
       "      <td>2025-03-15 06-07-10.tlog</td>\n",
       "      <td>DA03</td>\n",
       "      <td>2574</td>\n",
       "      <td>NaN</td>\n",
       "      <td>NaN</td>\n",
       "      <td>LINESTRING (517556.540 8099372.611, 517556.551...</td>\n",
       "    </tr>\n",
       "    <tr>\n",
       "      <th>3198</th>\n",
       "      <td>0</td>\n",
       "      <td>2025-03-15 06-07-10.tlog</td>\n",
       "      <td>DA03</td>\n",
       "      <td>4217</td>\n",
       "      <td>NaN</td>\n",
       "      <td>NaN</td>\n",
       "      <td>LINESTRING (517553.807 8099371.673, 517553.838...</td>\n",
       "    </tr>\n",
       "  </tbody>\n",
       "</table>\n",
       "<p>3199 rows × 7 columns</p>\n",
       "</div>"
      ],
      "text/plain": [
       "      idd                                    nombre vehiculo  num_vert   id  \\\n",
       "0       1  Jul-20th-2024-08-43PM-Flight-Airdata.kml     DA03        15  1.0   \n",
       "1      63  Jul-25th-2024-05-47PM-Flight-Airdata.kml     DA03        15  2.0   \n",
       "2      63  Jul-25th-2024-06-51PM-Flight-Airdata.kml     DA03        15  3.0   \n",
       "3      63  Jul-25th-2024-07-06PM-Flight-Airdata.kml     DA03        15  4.0   \n",
       "4       1  Jul-25th-2024-10-42PM-Flight-Airdata.kml     DA03        15  5.0   \n",
       "...   ...                                       ...      ...       ...  ...   \n",
       "3194    0                  2025-03-15 04-13-21.tlog     DA03      1676  NaN   \n",
       "3195    0                  2025-03-15 06-07-10.tlog     DA03      3891  NaN   \n",
       "3196    0                  2025-03-15 06-07-10.tlog     DA03      4176  NaN   \n",
       "3197    0                  2025-03-15 06-07-10.tlog     DA03      2574  NaN   \n",
       "3198    0                  2025-03-15 06-07-10.tlog     DA03      4217  NaN   \n",
       "\n",
       "     asignado                                           geometry  \n",
       "0          si  LINESTRING (460257.759 8096126.683, 460257.759...  \n",
       "1          si  LINESTRING (456011.255 8084542.548, 456011.265...  \n",
       "2        None  LINESTRING (455648.848 8084842.307, 455648.848...  \n",
       "3        None  LINESTRING (455647.763 8084843.024, 455647.752...  \n",
       "4        None  LINESTRING (460855.506 8095707.381, 460855.527...  \n",
       "...       ...                                                ...  \n",
       "3194      NaN  LINESTRING (517337.065 8100221.221, 517337.054...  \n",
       "3195      NaN  LINESTRING (517553.019 8099370.690, 517553.029...  \n",
       "3196      NaN  LINESTRING (517556.276 8099373.961, 517556.265...  \n",
       "3197      NaN  LINESTRING (517556.540 8099372.611, 517556.551...  \n",
       "3198      NaN  LINESTRING (517553.807 8099371.673, 517553.838...  \n",
       "\n",
       "[3199 rows x 7 columns]"
      ]
     },
     "execution_count": 58,
     "metadata": {},
     "output_type": "execute_result"
    }
   ],
   "source": [
    "gdf_combined"
   ]
  },
  {
   "cell_type": "code",
   "execution_count": 59,
   "id": "a533a1fd-3f67-457f-9b09-9607ef4fb5fd",
   "metadata": {},
   "outputs": [
    {
     "data": {
      "text/plain": [
       "idd            int32\n",
       "nombre        object\n",
       "vehiculo      object\n",
       "num_vert       int64\n",
       "id           float64\n",
       "asignado      object\n",
       "geometry    geometry\n",
       "dtype: object"
      ]
     },
     "execution_count": 59,
     "metadata": {},
     "output_type": "execute_result"
    }
   ],
   "source": [
    "gdf_combined.dtypes"
   ]
  },
  {
   "cell_type": "code",
   "execution_count": 60,
   "id": "a6aa1191-afe4-485b-a918-93aa19dc8453",
   "metadata": {},
   "outputs": [],
   "source": [
    "gdf_combined.to_file(path_rec, driver=\"ESRI Shapefile\")"
   ]
  },
  {
   "cell_type": "code",
   "execution_count": 36,
   "id": "e1090b73-7bb8-41ac-bd65-d57718b11a2a",
   "metadata": {},
   "outputs": [],
   "source": [
    "d = 1"
   ]
  },
  {
   "cell_type": "code",
   "execution_count": null,
   "id": "2429b83e-6cf9-476d-a3ac-3b92cd38ad08",
   "metadata": {},
   "outputs": [],
   "source": []
  },
  {
   "cell_type": "code",
   "execution_count": null,
   "id": "0fd2aae3-cd66-47f2-b738-5d892c951c1c",
   "metadata": {},
   "outputs": [],
   "source": []
  },
  {
   "cell_type": "code",
   "execution_count": null,
   "id": "5a55b0c2-1843-45be-a876-53b396f21796",
   "metadata": {},
   "outputs": [],
   "source": []
  }
 ],
 "metadata": {
  "kernelspec": {
   "display_name": "Python 3 (ipykernel)",
   "language": "python",
   "name": "python3"
  },
  "language_info": {
   "codemirror_mode": {
    "name": "ipython",
    "version": 3
   },
   "file_extension": ".py",
   "mimetype": "text/x-python",
   "name": "python",
   "nbconvert_exporter": "python",
   "pygments_lexer": "ipython3",
   "version": "3.10.13"
  }
 },
 "nbformat": 4,
 "nbformat_minor": 5
}
