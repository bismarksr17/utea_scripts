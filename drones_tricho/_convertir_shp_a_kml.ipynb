{
 "cells": [
  {
   "cell_type": "code",
   "execution_count": 15,
   "id": "21f736de-2a5d-45ef-9e57-65af1e6565ef",
   "metadata": {},
   "outputs": [],
   "source": [
    "import sys\n",
    "sys.path.append('..')\n",
    "\n",
    "import pandas as pd\n",
    "import geopandas as gpd\n",
    "import simplekml\n",
    "import os\n",
    "\n",
    "from config import RUTA_UNIDAD_ONE_DRIVE\n",
    "from config import RUTA_LOCAL_ONE_DRIVE\n",
    "RUTA_COMPLETA = os.path.join(RUTA_UNIDAD_ONE_DRIVE, RUTA_LOCAL_ONE_DRIVE)"
   ]
  },
  {
   "cell_type": "code",
   "execution_count": 16,
   "id": "d003de57-c105-4cbd-8b0f-666930638588",
   "metadata": {},
   "outputs": [],
   "source": [
    "path_ruta = r'G:\\BISMARK\\_TEMP\\LA_SOLEDAD.shp'\n",
    "PATH_KML = RUTA_UNIDAD_ONE_DRIVE + r'\\Ingenio Azucarero Guabira S.A\\UTEA - SEMANAL - EQUIPO AVIACION UTEA\\Trichogramma\\2025\\KML_PLAN'"
   ]
  },
  {
   "cell_type": "code",
   "execution_count": 17,
   "id": "a1a47577-8b1a-4509-b7b8-98695e0de1a4",
   "metadata": {},
   "outputs": [
    {
     "data": {
      "text/plain": [
       "[1225.0]"
      ]
     },
     "execution_count": 17,
     "metadata": {},
     "output_type": "execute_result"
    }
   ],
   "source": [
    "gdf_plan = gpd.read_file(path_ruta)\n",
    "lista_cods = list(set(gdf_plan['unidad_01']))\n",
    "lista_cods"
   ]
  },
  {
   "cell_type": "code",
   "execution_count": 23,
   "id": "9cdb11a1-c5e0-40a2-bb61-480d9f98b481",
   "metadata": {},
   "outputs": [],
   "source": [
    "prop = gdf_plan[gdf_plan['unidad_01'] == 1225.0]"
   ]
  },
  {
   "cell_type": "code",
   "execution_count": 18,
   "id": "d3c5d433-1bad-471b-a334-2b935717e729",
   "metadata": {},
   "outputs": [
    {
     "name": "stdout",
     "output_type": "stream",
     "text": [
      "G:\\\\Ingenio Azucarero Guabira S.A\\UTEA - SEMANAL - EQUIPO AVIACION UTEA\\Trichogramma\\2025\\KML_PLAN\\1225.0\n"
     ]
    }
   ],
   "source": [
    "for i in lista_cods:\n",
    "    prop = gdf_plan[gdf_plan['unidad_01'] == i]\n",
    "    prop_wgs = prop.to_crs(epsg=4326)\n",
    "    output_folder = PATH_KML + '\\\\' + str(i)\n",
    "    print(output_folder)\n",
    "    if not os.path.exists(output_folder):\n",
    "        os.makedirs(output_folder)\n",
    "    # Recorrer el GeoDataFrame\n",
    "    for idx, row in prop_wgs.iterrows():\n",
    "        # Crear un nuevo documento KML\n",
    "        kml_doc = simplekml.Kml()\n",
    "        # Obtener el polígono y el nombre\n",
    "        polygon = row['geometry']\n",
    "        name = row['unidad_05']\n",
    "        # Convertir el polígono en una lista de coordenadas\n",
    "        coords = [(x, y) for x, y in zip(*polygon.exterior.xy)]    \n",
    "        # Añadir el polígono al documento KML\n",
    "        pol = kml_doc.newpolygon(name=name, outerboundaryis=coords)\n",
    "        # Guardar el archivo KML\n",
    "        file_name = f\"_{name}.kml\"\n",
    "        output_path = os.path.join(PATH_KML, file_name)\n",
    "        kml_doc.save(output_path)"
   ]
  },
  {
   "cell_type": "code",
   "execution_count": null,
   "id": "b1c94bcf-52fa-44b4-8a35-49fed301a12b",
   "metadata": {},
   "outputs": [],
   "source": []
  },
  {
   "cell_type": "code",
   "execution_count": null,
   "id": "cf7b2835-4be3-4440-86b6-fa1019a9a2fe",
   "metadata": {},
   "outputs": [],
   "source": []
  },
  {
   "cell_type": "code",
   "execution_count": null,
   "id": "d6087fcc-1271-4faa-b521-eecf03f75dd7",
   "metadata": {},
   "outputs": [],
   "source": []
  }
 ],
 "metadata": {
  "kernelspec": {
   "display_name": "Python 3 (ipykernel)",
   "language": "python",
   "name": "python3"
  },
  "language_info": {
   "codemirror_mode": {
    "name": "ipython",
    "version": 3
   },
   "file_extension": ".py",
   "mimetype": "text/x-python",
   "name": "python",
   "nbconvert_exporter": "python",
   "pygments_lexer": "ipython3",
   "version": "3.10.13"
  }
 },
 "nbformat": 4,
 "nbformat_minor": 5
}
