{
 "cells": [
  {
   "cell_type": "code",
   "execution_count": 274,
   "id": "3d26f64e-c1fb-424d-bb27-d4ab069c2eed",
   "metadata": {},
   "outputs": [],
   "source": [
    "import sys\n",
    "sys.path.append('..')\n",
    "\n",
    "import os\n",
    "import shutil\n",
    "from sqlalchemy import create_engine, text\n",
    "import geopandas as gpd\n",
    "import pandas as pd\n",
    "from geopandas.tools import sjoin\n",
    "from shapely.geometry import Point, Polygon, MultiPolygon, MultiPoint\n",
    "from shapely import wkb\n",
    "import simplekml\n",
    "\n",
    "from utilities_amigocloud import AmigocloudFunctions"
   ]
  },
  {
   "cell_type": "code",
   "execution_count": 2,
   "id": "fbc905f8-33ed-4173-b267-2332df0f91e8",
   "metadata": {},
   "outputs": [],
   "source": [
    "from config import RUTA_UNIDAD_ONE_DRIVE\n",
    "from config import RUTA_LOCAL_ONE_DRIVE\n",
    "from config import API_AMIGOCLOUD_TOKEN_ADM\n",
    "from config import POSTGRES_UTEA\n",
    "\n",
    "RUTA_COMPLETA = os.path.join(RUTA_UNIDAD_ONE_DRIVE, RUTA_LOCAL_ONE_DRIVE)"
   ]
  },
  {
   "cell_type": "code",
   "execution_count": 3,
   "id": "32f5600c-9c84-43ea-af43-1490498be54a",
   "metadata": {},
   "outputs": [
    {
     "data": {
      "text/plain": [
       "'A:cf5xrxU3HgHj9FkLMiY5wW9LBFmvYDQG2TQ5FY'"
      ]
     },
     "execution_count": 3,
     "metadata": {},
     "output_type": "execute_result"
    }
   ],
   "source": [
    "API_AMIGOCLOUD_TOKEN_ADM"
   ]
  },
  {
   "cell_type": "code",
   "execution_count": 251,
   "id": "36b65d7c-a5d9-46a6-9e42-bb6762afde1d",
   "metadata": {},
   "outputs": [],
   "source": [
    "# leer los dos shps de siembra y puntos de planificacion\n",
    "PATH_SIEMBRA = RUTA_UNIDAD_ONE_DRIVE + r'Ingenio Azucarero Guabira S.A\\UTEA - SEMANAL - EQUIPO AVIACION UTEA\\Trichogramma\\2025\\SHP\\SIEMBRAS.shp'\n",
    "PATH_CAT = RUTA_UNIDAD_ONE_DRIVE + r'Ingenio Azucarero Guabira S.A\\UTEA - SEMANAL - EQUIPO AVIACION UTEA\\Trichogramma\\2025\\SHP\\CATASTRO_S09_MIERCOLES.shp'\n",
    "PATH_KML = RUTA_UNIDAD_ONE_DRIVE + r'Ingenio Azucarero Guabira S.A\\UTEA - SEMANAL - EQUIPO AVIACION UTEA\\Trichogramma\\2025\\KML_PLAN'\n",
    "\n",
    "gdf_siembras = gpd.read_file(PATH_SIEMBRA)\n",
    "gdf_cat = gpd.read_file(PATH_CAT)"
   ]
  },
  {
   "cell_type": "code",
   "execution_count": 252,
   "id": "3148abdb-5a93-4127-a6ef-dee691bd484c",
   "metadata": {},
   "outputs": [
    {
     "data": {
      "text/plain": [
       "'G:\\\\Ingenio Azucarero Guabira S.A\\\\UTEA - SEMANAL - EQUIPO AVIACION UTEA\\\\Trichogramma\\\\2025\\\\SHP\\\\SIEMBRAS.shp'"
      ]
     },
     "execution_count": 252,
     "metadata": {},
     "output_type": "execute_result"
    }
   ],
   "source": [
    "PATH_SIEMBRA"
   ]
  },
  {
   "cell_type": "code",
   "execution_count": 277,
   "id": "c7ca72f7-550e-4557-8a31-52ed67dfaea8",
   "metadata": {
    "tags": []
   },
   "outputs": [],
   "source": [
    "def obtener_engine():\n",
    "    return create_engine(\n",
    "        f\"postgresql+psycopg2://{POSTGRES_UTEA['USER']}:{POSTGRES_UTEA['PASSWORD']}@{POSTGRES_UTEA['HOST']}:{POSTGRES_UTEA['PORT']}/{POSTGRES_UTEA['DATABASE']}\"\n",
    "    )\n",
    "\n",
    "def obtener_planificacion_no_procesado():\n",
    "    engine = obtener_engine()\n",
    "    try:\n",
    "        query = \"\"\"\n",
    "            SELECT id_os, geom, cod_ca, nom_ca, obs, procesado, producto, dosis\n",
    "            FROM drones_control_bio.planificacion_ctrl_bio\n",
    "            WHERE procesado=false;\n",
    "        \"\"\"\n",
    "        gdf = gpd.read_postgis(query, engine, geom_col='geom')\n",
    "        return gdf\n",
    "    except Exception as e:\n",
    "        print(f\"❌ Error en la consulta: {e}\")\n",
    "        return gpd.GeoDataFrame()\n",
    "    return None\n",
    "\n",
    "def obtener_parte_diario_por_id_os(id_os):\n",
    "    engine = obtener_engine()\n",
    "    try:\n",
    "        query = f\"\"\"\n",
    "            SELECT * FROM drones_control_bio.parte_diario_ctrl_bio where os = {id_os}\n",
    "        \"\"\"\n",
    "        gdf = gpd.read_postgis(query, engine, geom_col='geom')\n",
    "        return gdf\n",
    "    except Exception as e:\n",
    "        print(f\"❌ Error en la consulta: {e}\")\n",
    "        return gpd.GeoDataFrame()\n",
    "    return None\n",
    "\n",
    "def filtrar_os_y_quitar_caracteres(gdf, ors):\n",
    "    # filtrar la semana de interes\n",
    "    gdf_puntos_select = gdf[gdf['id_os'] == ors]\n",
    "    gdf_puntos_sem = gdf_puntos_select.copy()\n",
    "    #quita caracteres especiales\n",
    "    gdf_puntos_sem['nom_ca'] = gdf_puntos_sem['nom_ca'].str.replace(r'[\\r\\n\\t]', '', regex=True)\n",
    "    return gdf_puntos_sem\n",
    "\n",
    "def marcar_como_procesado(id_os):\n",
    "    engine = obtener_engine()  # tu función que crea el engine\n",
    "    try:\n",
    "        with engine.begin() as conn:\n",
    "            query = text(\"\"\"\n",
    "                UPDATE drones_control_bio.planificacion_ctrl_bio\n",
    "                SET procesado = true\n",
    "                WHERE id_os = :id_os\n",
    "            \"\"\")\n",
    "            conn.execute(query, {\"id_os\": id_os})\n",
    "            print(f\"✔️ id_os {id_os} marcado como procesado.\")\n",
    "    except Exception as e:\n",
    "        print(f\"❌ Error al actualizar: {e}\")\n",
    "    return None\n",
    "\n",
    "def crear_puntos_individuales(gdf_fila):\n",
    "    # Obtener la geometría del único registro\n",
    "    geom = gdf_fila.iloc[0][gdf_fila.geometry.name]\n",
    "    # Verificar si es MultiPoint\n",
    "    if isinstance(geom, MultiPoint):\n",
    "        # Crear un nuevo registro por cada punto\n",
    "        registros = []\n",
    "        for punto in geom.geoms:\n",
    "            nuevo = gdf_fila.iloc[0].copy()\n",
    "            nuevo[gdf_fila.geometry.name] = punto\n",
    "            registros.append(nuevo)\n",
    "        return gpd.GeoDataFrame(registros, geometry=gdf_fila.geometry.name, crs=gdf_fila.crs)\n",
    "    else:\n",
    "        # Si ya es un punto, retornar tal cual\n",
    "        return gdf_fila.copy()\n",
    "\n",
    "def definir_lotes_solicitud(gdf_puntos_indi):\n",
    "    id_os = gdf_puntos_indi.iloc[0]['id_os']\n",
    "    codigo_ca = gdf_puntos_indi.iloc[0]['cod_ca']\n",
    "    nombre_ca = gdf_puntos_indi.iloc[0]['nom_ca']\n",
    "    \n",
    "    # Crear un GeoDataFrame vacío para almacenar los puntos que no intersectan con ningún polígono de siembra\n",
    "    puntos_indi_solicitado = gdf_puntos_indi[~gdf_puntos_indi.geometry.apply(lambda point: any(gdf_siembras.contains(point)))]\n",
    "    \n",
    "    # identifoca los lotes que se intersectan\n",
    "    gdf_lotes_cat = gpd.sjoin(gdf_cat, puntos_indi_solicitado, how='inner', predicate='intersects')    \n",
    "    \n",
    "    # filtra los lotes intersectados en la capa original\n",
    "    poligonos_intersect_cat = gdf_cat.loc[gdf_cat.index.isin(gdf_lotes_cat.index)]\n",
    "    \n",
    "    # copy\n",
    "    poligonos_intersect_cat = poligonos_intersect_cat.copy()\n",
    "    poligonos_intersect_cat = poligonos_intersect_cat[['unidad_01', 'unidad_02', 'unidad_03', 'unidad_04', 'unidad_05', 'area', 'soca', 'zona', 'geometry']]\n",
    "    # Cambiar el nombre de la columna 'old_name' a 'new_name'\n",
    "    poligonos_intersect_cat.rename(columns={'zona': 'inst'}, inplace=True)\n",
    "    # CAMBIAR NOMBRE DATOS DE UNIDAD_03 Y UNDIAD_04 DE LOTES SOLICITADOS A LO INDICADO EN LOS PUNTOS\n",
    "    poligonos_intersect_cat['unidad_03'] = codigo_ca\n",
    "    poligonos_intersect_cat['unidad_04'] = nombre_ca\n",
    "    \n",
    "    # agrega los campos faltantes\n",
    "    poligonos_intersect_cat['fecha_ini'] = ''\n",
    "    poligonos_intersect_cat['origen'] = 'SOLICITUD'\n",
    "    poligonos_intersect_cat['dias'] = 0\n",
    "    poligonos_intersect_cat['fecha'] = ''\n",
    "    poligonos_intersect_cat['os'] = id_os\n",
    "    return poligonos_intersect_cat\n",
    "\n",
    "def definir_lotes_siembra(gdf_puntos_indi):\n",
    "    id_os = gdf_puntos_indi.iloc[0]['id_os']\n",
    "    codigo_ca = gdf_puntos_indi.iloc[0]['cod_ca']\n",
    "    nombre_ca = gdf_puntos_indi.iloc[0]['nom_ca']\n",
    "    \n",
    "    # SELECCIONAR LOS LOTES DE SIEMBRAS\n",
    "    # identifoca los lotes que se intersectan\n",
    "    gdf_lotes_siem = gpd.sjoin(gdf_siembras, gdf_puntos_indi, how='inner', predicate='intersects')\n",
    "    # filtra los lotes intersectados en la capa original\n",
    "    poligonos_intersect_siem = gdf_siembras.loc[gdf_siembras.index.isin(gdf_lotes_siem.index)]\n",
    "    # copy\n",
    "    poligonos_intersect_siem = poligonos_intersect_siem.copy()\n",
    "    # agregar campo de semana_planificacion\n",
    "    poligonos_intersect_siem['os'] = id_os\n",
    "    # crea el campo soca, y coloca 0 o 1 dependiendo del origen\n",
    "    poligonos_intersect_siem['soca'] = poligonos_intersect_siem['origen'].apply(lambda x: 1 if 'SIEMBRA 2024' in x else 0)\n",
    "    # ordena los campos\n",
    "    poligonos_intersect_siem = poligonos_intersect_siem[['unidad_01', 'unidad_02', 'unidad_03', 'unidad_04', 'unidad_05', 'area', 'soca', 'inst',\n",
    "           'geometry', 'fecha_ini', 'origen', 'dias', 'fecha', 'os']]\n",
    "    return poligonos_intersect_siem\n",
    "\n",
    "def agregar_campos_faltantes(gdf_plan):\n",
    "    gdf_plan['producto'] = ''\n",
    "    gdf_plan['dosis'] = 0.0\n",
    "    gdf_plan['id_labor'] = ''\n",
    "    gdf_plan['fecha'] = ''\n",
    "    gdf_plan['semana'] = 0\n",
    "    gdf_plan['num_lib'] = 0\n",
    "    gdf_plan['hora_ini'] = ''\n",
    "    gdf_plan['hora_fin'] = ''\n",
    "    gdf_plan['temp'] = 0\n",
    "    gdf_plan['viento'] = 0\n",
    "    gdf_plan['humedad'] = 0\n",
    "    gdf_plan['cod_dron'] = ''\n",
    "    gdf_plan['piloto_1'] = ''\n",
    "    gdf_plan['piloto_2'] = ''\n",
    "    gdf_plan['obs'] = ''\n",
    "    gdf_plan['id_log'] = 0\n",
    "    return gdf_plan\n",
    "\n",
    "def convertir_a_multipolygon(geometry):\n",
    "    if isinstance(geometry, Polygon):\n",
    "        return MultiPolygon([geometry])\n",
    "    return geometry\n",
    "\n",
    "def convertir_a_wkb(polygon):\n",
    "    wkb_data = wkb.dumps(polygon, hex=True)\n",
    "    return wkb_data\n",
    "\n",
    "def cargar_a_amigocloud(gdf):\n",
    "    # repreyectar a WGS84\n",
    "    gdf_pla_gral = gdf.to_crs(epsg=4326)\n",
    "    # convertir poligonos a multipoligonos\n",
    "    gdf_pla_gral['geom'] = gdf_pla_gral['geom'].apply(convertir_a_multipolygon)\n",
    "    \n",
    "    gdf_pla_gral['unidad_01'] = gdf_pla_gral['unidad_01'].astype(int)\n",
    "    gdf_pla_gral['unidad_03'] = gdf_pla_gral['unidad_03'].astype(int)\n",
    "    gdf_pla_gral['dias'] = gdf_pla_gral['dias'].astype(int)\n",
    "    gdf_pla_gral['os'] = gdf_pla_gral['os'].astype(int)\n",
    "    gdf_pla_gral['soca'] = gdf_pla_gral['soca'].astype(int)\n",
    "    gdf_pla_gral['id'] = gdf_pla_gral['id'].astype(int)\n",
    "    gdf_pla_gral['inst'] = gdf_pla_gral['inst'].astype(int)\n",
    "    \n",
    "    # recorrer el gdf de lotes y cargarlo a amigocloud\n",
    "    id_proyecto = 33457\n",
    "    for index, row in gdf_pla_gral.iterrows():\n",
    "        wkb_hex = convertir_a_wkb(row['geom'])\n",
    "        insert_sql = f\"\"\"\n",
    "            INSERT INTO dataset_345601 (id, unidad_01, unidad_02, unidad_03, unidad_04, unidad_05, area, origen, dias, os, geometry)\n",
    "            VALUES ({row['id']}, {row['unidad_01']}, '{row['unidad_02']}', {row['unidad_03']}, '{row['unidad_04']}', '{row['unidad_05']}', {row['area']}, '{row['origen']}', '{row['dias']}', '{row['os']}', ST_SetSRID(ST_GeomFromWKB('\\\\x{wkb_hex}'), 4326));\n",
    "            \"\"\"\n",
    "        query_sql = {'query': insert_sql}\n",
    "        resultado_post = amigocloud.ejecutar_query_sql(id_proyecto, insert_sql, 'post')\n",
    "    return None\n",
    "\n",
    "# verifica si en la dataframe existen nombres de lotes repetidos\n",
    "def validar_lotes_repetidos(gdf_plan):\n",
    "    cods_props = list(set(gdf_plan['unidad_01']))\n",
    "    for i in cods_props:\n",
    "        prop = gdf_plan[gdf_plan['unidad_01'] == i]\n",
    "        if prop['unidad_05'].duplicated().any():\n",
    "            return True\n",
    "        else:\n",
    "            return False\n",
    "    return None\n",
    "\n",
    "def crear_kmls(gdf_lotes):\n",
    "    lista_cods = list(set(gdf_lotes['unidad_01']))\n",
    "    for i in lista_cods:\n",
    "        prop = gdf_lotes[gdf_lotes['unidad_01'] == i]\n",
    "        prop_wgs = prop.to_crs(epsg=4326)\n",
    "        output_folder = PATH_KML + '\\\\' + str(i)\n",
    "        print(output_folder)\n",
    "        \n",
    "        if os.path.exists(output_folder):\n",
    "            shutil.rmtree(output_folder)  # Elimina toda la carpeta y su contenido\n",
    "        os.makedirs(output_folder)  # La vuelve a crear vacía\n",
    "        \n",
    "        # Recorrer el GeoDataFrame\n",
    "        for idx, row in prop_wgs.iterrows():\n",
    "            # Crear un nuevo documento KML\n",
    "            kml_doc = simplekml.Kml()\n",
    "            # Obtener el polígono y el nombre\n",
    "            polygon = row['geom']\n",
    "            name = row['unidad_05']\n",
    "            # Convertir el polígono en una lista de coordenadas\n",
    "            if polygon.geom_type == \"Polygon\":\n",
    "                coords = [(x, y) for x, y in zip(*polygon.exterior.xy)]\n",
    "            elif polygon.geom_type == \"MultiPolygon\":\n",
    "            # puedes iterar si quieres más de uno, aquí tomamos el primero\n",
    "                first_poly = list(polygon.geoms)[0]\n",
    "                coords = [(x, y) for x, y in zip(*first_poly.exterior.xy)]\n",
    "            else:\n",
    "                print(f\"❌ Geometría no compatible: {polygon.geom_type}\")\n",
    "                continue  # salta este registro\n",
    "            # Añadir el polígono al documento KML\n",
    "            pol = kml_doc.newpolygon(name=name, outerboundaryis=coords)\n",
    "            # Guardar el archivo KML\n",
    "            file_name = f\"{name}.kml\"\n",
    "            output_path = os.path.join(output_folder, file_name)\n",
    "            kml_doc.save(output_path)\n",
    "    return None"
   ]
  },
  {
   "cell_type": "code",
   "execution_count": 8,
   "id": "d102d776-8a85-4ab2-bd4f-e915ae3d48b3",
   "metadata": {},
   "outputs": [
    {
     "data": {
      "text/plain": [
       "<utilities_amigocloud.AmigocloudFunctions at 0x21da90cfeb0>"
      ]
     },
     "execution_count": 8,
     "metadata": {},
     "output_type": "execute_result"
    }
   ],
   "source": [
    "amigocloud = AmigocloudFunctions(token=API_AMIGOCLOUD_TOKEN_ADM)\n",
    "amigocloud"
   ]
  },
  {
   "cell_type": "markdown",
   "id": "f90b0afe-f0a8-465a-bfbc-08fb3ecc23a4",
   "metadata": {},
   "source": [
    "# ACTUALIZAR SHP PLANIFICACION"
   ]
  },
  {
   "cell_type": "code",
   "execution_count": 253,
   "id": "cc1fd95f-d690-4c6c-8f6c-ade5b12a4079",
   "metadata": {},
   "outputs": [],
   "source": [
    "gdf_puntos = obtener_planificacion_no_procesado()"
   ]
  },
  {
   "cell_type": "code",
   "execution_count": 254,
   "id": "61a4bfac-c39b-4e85-b843-2a7cb306dbfd",
   "metadata": {},
   "outputs": [
    {
     "data": {
      "text/html": [
       "<div>\n",
       "<style scoped>\n",
       "    .dataframe tbody tr th:only-of-type {\n",
       "        vertical-align: middle;\n",
       "    }\n",
       "\n",
       "    .dataframe tbody tr th {\n",
       "        vertical-align: top;\n",
       "    }\n",
       "\n",
       "    .dataframe thead th {\n",
       "        text-align: right;\n",
       "    }\n",
       "</style>\n",
       "<table border=\"1\" class=\"dataframe\">\n",
       "  <thead>\n",
       "    <tr style=\"text-align: right;\">\n",
       "      <th></th>\n",
       "      <th>id_os</th>\n",
       "      <th>geom</th>\n",
       "      <th>cod_ca</th>\n",
       "      <th>nom_ca</th>\n",
       "      <th>obs</th>\n",
       "      <th>procesado</th>\n",
       "      <th>producto</th>\n",
       "      <th>dosis</th>\n",
       "    </tr>\n",
       "  </thead>\n",
       "  <tbody>\n",
       "    <tr>\n",
       "      <th>0</th>\n",
       "      <td>29</td>\n",
       "      <td>MULTIPOINT (437635.091 8096115.083, 437363.252...</td>\n",
       "      <td>566</td>\n",
       "      <td>ARNEZ DURAN PEDRO</td>\n",
       "      <td>None</td>\n",
       "      <td>False</td>\n",
       "      <td>trichogramma</td>\n",
       "      <td>6.0</td>\n",
       "    </tr>\n",
       "  </tbody>\n",
       "</table>\n",
       "</div>"
      ],
      "text/plain": [
       "   id_os                                               geom  cod_ca  \\\n",
       "0     29  MULTIPOINT (437635.091 8096115.083, 437363.252...     566   \n",
       "\n",
       "              nom_ca   obs  procesado      producto  dosis  \n",
       "0  ARNEZ DURAN PEDRO  None      False  trichogramma    6.0  "
      ]
     },
     "execution_count": 254,
     "metadata": {},
     "output_type": "execute_result"
    }
   ],
   "source": [
    "gdf_puntos"
   ]
  },
  {
   "cell_type": "code",
   "execution_count": null,
   "id": "734b1411-a5ca-4381-bad3-c60b42299b30",
   "metadata": {},
   "outputs": [],
   "source": []
  },
  {
   "cell_type": "code",
   "execution_count": null,
   "id": "4c545f19-bde1-4db1-8a4f-73b02c446969",
   "metadata": {},
   "outputs": [],
   "source": []
  },
  {
   "cell_type": "code",
   "execution_count": 207,
   "id": "4da680ce-0413-4357-927c-30621a294126",
   "metadata": {},
   "outputs": [],
   "source": []
  },
  {
   "cell_type": "code",
   "execution_count": 255,
   "id": "6fd6d4b2-d140-42e8-999b-ce07d79be066",
   "metadata": {},
   "outputs": [
    {
     "data": {
      "text/html": [
       "<div>\n",
       "<style scoped>\n",
       "    .dataframe tbody tr th:only-of-type {\n",
       "        vertical-align: middle;\n",
       "    }\n",
       "\n",
       "    .dataframe tbody tr th {\n",
       "        vertical-align: top;\n",
       "    }\n",
       "\n",
       "    .dataframe thead th {\n",
       "        text-align: right;\n",
       "    }\n",
       "</style>\n",
       "<table border=\"1\" class=\"dataframe\">\n",
       "  <thead>\n",
       "    <tr style=\"text-align: right;\">\n",
       "      <th></th>\n",
       "      <th>id_os</th>\n",
       "      <th>geom</th>\n",
       "      <th>cod_ca</th>\n",
       "      <th>nom_ca</th>\n",
       "      <th>obs</th>\n",
       "      <th>procesado</th>\n",
       "      <th>producto</th>\n",
       "      <th>dosis</th>\n",
       "    </tr>\n",
       "  </thead>\n",
       "  <tbody>\n",
       "    <tr>\n",
       "      <th>0</th>\n",
       "      <td>29</td>\n",
       "      <td>POINT (437635.091 8096115.083)</td>\n",
       "      <td>566</td>\n",
       "      <td>ARNEZ DURAN PEDRO</td>\n",
       "      <td>None</td>\n",
       "      <td>False</td>\n",
       "      <td>trichogramma</td>\n",
       "      <td>6.0</td>\n",
       "    </tr>\n",
       "    <tr>\n",
       "      <th>0</th>\n",
       "      <td>29</td>\n",
       "      <td>POINT (437363.252 8096352.512)</td>\n",
       "      <td>566</td>\n",
       "      <td>ARNEZ DURAN PEDRO</td>\n",
       "      <td>None</td>\n",
       "      <td>False</td>\n",
       "      <td>trichogramma</td>\n",
       "      <td>6.0</td>\n",
       "    </tr>\n",
       "    <tr>\n",
       "      <th>0</th>\n",
       "      <td>29</td>\n",
       "      <td>POINT (437714.234 8096359.394)</td>\n",
       "      <td>566</td>\n",
       "      <td>ARNEZ DURAN PEDRO</td>\n",
       "      <td>None</td>\n",
       "      <td>False</td>\n",
       "      <td>trichogramma</td>\n",
       "      <td>6.0</td>\n",
       "    </tr>\n",
       "    <tr>\n",
       "      <th>0</th>\n",
       "      <td>29</td>\n",
       "      <td>POINT (437961.987 8096252.723)</td>\n",
       "      <td>566</td>\n",
       "      <td>ARNEZ DURAN PEDRO</td>\n",
       "      <td>None</td>\n",
       "      <td>False</td>\n",
       "      <td>trichogramma</td>\n",
       "      <td>6.0</td>\n",
       "    </tr>\n",
       "    <tr>\n",
       "      <th>0</th>\n",
       "      <td>29</td>\n",
       "      <td>POINT (438109.950 8096538.326)</td>\n",
       "      <td>566</td>\n",
       "      <td>ARNEZ DURAN PEDRO</td>\n",
       "      <td>None</td>\n",
       "      <td>False</td>\n",
       "      <td>trichogramma</td>\n",
       "      <td>6.0</td>\n",
       "    </tr>\n",
       "  </tbody>\n",
       "</table>\n",
       "</div>"
      ],
      "text/plain": [
       "   id_os                            geom  cod_ca             nom_ca   obs  \\\n",
       "0     29  POINT (437635.091 8096115.083)     566  ARNEZ DURAN PEDRO  None   \n",
       "0     29  POINT (437363.252 8096352.512)     566  ARNEZ DURAN PEDRO  None   \n",
       "0     29  POINT (437714.234 8096359.394)     566  ARNEZ DURAN PEDRO  None   \n",
       "0     29  POINT (437961.987 8096252.723)     566  ARNEZ DURAN PEDRO  None   \n",
       "0     29  POINT (438109.950 8096538.326)     566  ARNEZ DURAN PEDRO  None   \n",
       "\n",
       "   procesado      producto  dosis  \n",
       "0      False  trichogramma    6.0  \n",
       "0      False  trichogramma    6.0  \n",
       "0      False  trichogramma    6.0  \n",
       "0      False  trichogramma    6.0  \n",
       "0      False  trichogramma    6.0  "
      ]
     },
     "execution_count": 255,
     "metadata": {},
     "output_type": "execute_result"
    }
   ],
   "source": [
    "puntos_individuales = crear_puntos_individuales(gdf_puntos.iloc[[0]])\n",
    "puntos_individuales"
   ]
  },
  {
   "cell_type": "code",
   "execution_count": 256,
   "id": "0308eeb2-d57b-496e-a807-2b54654631df",
   "metadata": {},
   "outputs": [],
   "source": [
    "lotes_solicidud = definir_lotes_solicitud(puntos_individuales)"
   ]
  },
  {
   "cell_type": "code",
   "execution_count": 257,
   "id": "f4f25f77-433f-4574-b0de-d458bc932fce",
   "metadata": {},
   "outputs": [],
   "source": [
    "lotes_siembra = definir_lotes_siembra(puntos_individuales)"
   ]
  },
  {
   "cell_type": "code",
   "execution_count": 258,
   "id": "d4607179-688e-48dc-b70f-9d8e810abb1c",
   "metadata": {},
   "outputs": [],
   "source": [
    "dfs = [df for df in [lotes_solicidud, lotes_siembra] if not df.empty]"
   ]
  },
  {
   "cell_type": "code",
   "execution_count": 259,
   "id": "707c3865-b749-4f2a-9427-8cdacbfcae0d",
   "metadata": {},
   "outputs": [],
   "source": [
    "concat_plan = pd.concat(dfs, axis=0, ignore_index=True)"
   ]
  },
  {
   "cell_type": "code",
   "execution_count": 260,
   "id": "5ed766ad-2e9f-4735-b226-efb6ab2f8bc2",
   "metadata": {},
   "outputs": [
    {
     "data": {
      "text/html": [
       "<div>\n",
       "<style scoped>\n",
       "    .dataframe tbody tr th:only-of-type {\n",
       "        vertical-align: middle;\n",
       "    }\n",
       "\n",
       "    .dataframe tbody tr th {\n",
       "        vertical-align: top;\n",
       "    }\n",
       "\n",
       "    .dataframe thead th {\n",
       "        text-align: right;\n",
       "    }\n",
       "</style>\n",
       "<table border=\"1\" class=\"dataframe\">\n",
       "  <thead>\n",
       "    <tr style=\"text-align: right;\">\n",
       "      <th></th>\n",
       "      <th>unidad_01</th>\n",
       "      <th>unidad_02</th>\n",
       "      <th>unidad_03</th>\n",
       "      <th>unidad_04</th>\n",
       "      <th>unidad_05</th>\n",
       "      <th>area</th>\n",
       "      <th>soca</th>\n",
       "      <th>inst</th>\n",
       "      <th>geometry</th>\n",
       "      <th>fecha_ini</th>\n",
       "      <th>origen</th>\n",
       "      <th>dias</th>\n",
       "      <th>fecha</th>\n",
       "      <th>os</th>\n",
       "    </tr>\n",
       "  </thead>\n",
       "  <tbody>\n",
       "    <tr>\n",
       "      <th>0</th>\n",
       "      <td>172.0</td>\n",
       "      <td>EL TESORO--ARNEZ Y COLQUE</td>\n",
       "      <td>566</td>\n",
       "      <td>ARNEZ DURAN PEDRO</td>\n",
       "      <td>L2</td>\n",
       "      <td>6.048380</td>\n",
       "      <td>11.0</td>\n",
       "      <td>304</td>\n",
       "      <td>POLYGON ((437344.214 8096437.390, 437375.122 8...</td>\n",
       "      <td></td>\n",
       "      <td>SOLICITUD</td>\n",
       "      <td>0.0</td>\n",
       "      <td></td>\n",
       "      <td>29</td>\n",
       "    </tr>\n",
       "    <tr>\n",
       "      <th>1</th>\n",
       "      <td>172.0</td>\n",
       "      <td>EL TESORO--ARNEZ Y COLQUE</td>\n",
       "      <td>566</td>\n",
       "      <td>ARNEZ DURAN PEDRO</td>\n",
       "      <td>L1.2</td>\n",
       "      <td>4.828282</td>\n",
       "      <td>3.0</td>\n",
       "      <td>304</td>\n",
       "      <td>POLYGON ((437910.413 8096340.896, 437745.240 8...</td>\n",
       "      <td></td>\n",
       "      <td>SOLICITUD</td>\n",
       "      <td>0.0</td>\n",
       "      <td></td>\n",
       "      <td>29</td>\n",
       "    </tr>\n",
       "    <tr>\n",
       "      <th>2</th>\n",
       "      <td>172.0</td>\n",
       "      <td>EL TESORO--ARNEZ Y COLQUE</td>\n",
       "      <td>566</td>\n",
       "      <td>ARNEZ DURAN PEDRO</td>\n",
       "      <td>L6.1</td>\n",
       "      <td>7.194420</td>\n",
       "      <td>1.0</td>\n",
       "      <td>304</td>\n",
       "      <td>POLYGON ((437605.631 8095962.511, 437557.206 8...</td>\n",
       "      <td></td>\n",
       "      <td>SOLICITUD</td>\n",
       "      <td>0.0</td>\n",
       "      <td></td>\n",
       "      <td>29</td>\n",
       "    </tr>\n",
       "    <tr>\n",
       "      <th>3</th>\n",
       "      <td>172</td>\n",
       "      <td>EL TESORO--ARNEZ Y COLQUE</td>\n",
       "      <td>41533</td>\n",
       "      <td>ARNEZ COLQUE ROSARIO ESTELA</td>\n",
       "      <td>L1</td>\n",
       "      <td>8.000077</td>\n",
       "      <td>0.0</td>\n",
       "      <td>304.0</td>\n",
       "      <td>POLYGON ((437968.377 8096372.844, 437967.841 8...</td>\n",
       "      <td>None</td>\n",
       "      <td>SIEMBRA 2025</td>\n",
       "      <td>0.0</td>\n",
       "      <td>None</td>\n",
       "      <td>29</td>\n",
       "    </tr>\n",
       "    <tr>\n",
       "      <th>4</th>\n",
       "      <td>172</td>\n",
       "      <td>EL TESORO--ARNEZ Y COLQUE</td>\n",
       "      <td>41533</td>\n",
       "      <td>ARNEZ COLQUE ROSARIO ESTELA</td>\n",
       "      <td>L7</td>\n",
       "      <td>12.378660</td>\n",
       "      <td>0.0</td>\n",
       "      <td>304.0</td>\n",
       "      <td>POLYGON ((437828.110 8096301.969, 437917.637 8...</td>\n",
       "      <td>None</td>\n",
       "      <td>SIEMBRA 2025</td>\n",
       "      <td>0.0</td>\n",
       "      <td>None</td>\n",
       "      <td>29</td>\n",
       "    </tr>\n",
       "  </tbody>\n",
       "</table>\n",
       "</div>"
      ],
      "text/plain": [
       "  unidad_01                  unidad_02 unidad_03                    unidad_04  \\\n",
       "0     172.0  EL TESORO--ARNEZ Y COLQUE       566            ARNEZ DURAN PEDRO   \n",
       "1     172.0  EL TESORO--ARNEZ Y COLQUE       566            ARNEZ DURAN PEDRO   \n",
       "2     172.0  EL TESORO--ARNEZ Y COLQUE       566            ARNEZ DURAN PEDRO   \n",
       "3       172  EL TESORO--ARNEZ Y COLQUE     41533  ARNEZ COLQUE ROSARIO ESTELA   \n",
       "4       172  EL TESORO--ARNEZ Y COLQUE     41533  ARNEZ COLQUE ROSARIO ESTELA   \n",
       "\n",
       "  unidad_05       area  soca   inst  \\\n",
       "0        L2   6.048380  11.0    304   \n",
       "1      L1.2   4.828282   3.0    304   \n",
       "2      L6.1   7.194420   1.0    304   \n",
       "3        L1   8.000077   0.0  304.0   \n",
       "4        L7  12.378660   0.0  304.0   \n",
       "\n",
       "                                            geometry fecha_ini        origen  \\\n",
       "0  POLYGON ((437344.214 8096437.390, 437375.122 8...               SOLICITUD   \n",
       "1  POLYGON ((437910.413 8096340.896, 437745.240 8...               SOLICITUD   \n",
       "2  POLYGON ((437605.631 8095962.511, 437557.206 8...               SOLICITUD   \n",
       "3  POLYGON ((437968.377 8096372.844, 437967.841 8...      None  SIEMBRA 2025   \n",
       "4  POLYGON ((437828.110 8096301.969, 437917.637 8...      None  SIEMBRA 2025   \n",
       "\n",
       "   dias fecha  os  \n",
       "0   0.0        29  \n",
       "1   0.0        29  \n",
       "2   0.0        29  \n",
       "3   0.0  None  29  \n",
       "4   0.0  None  29  "
      ]
     },
     "execution_count": 260,
     "metadata": {},
     "output_type": "execute_result"
    }
   ],
   "source": [
    "concat_plan"
   ]
  },
  {
   "cell_type": "code",
   "execution_count": 261,
   "id": "bde11f57-d099-4a7b-b70f-9437ae2ab41f",
   "metadata": {},
   "outputs": [],
   "source": [
    "plan = agregar_campos_faltantes(concat_plan)"
   ]
  },
  {
   "cell_type": "code",
   "execution_count": 262,
   "id": "50111509-137e-471b-8e32-a215cc537234",
   "metadata": {},
   "outputs": [
    {
     "data": {
      "text/plain": [
       "Index(['unidad_01', 'unidad_02', 'unidad_03', 'unidad_04', 'unidad_05', 'area',\n",
       "       'soca', 'inst', 'geometry', 'fecha_ini', 'origen', 'dias', 'fecha',\n",
       "       'os', 'producto', 'dosis', 'id_labor', 'semana', 'num_lib', 'hora_ini',\n",
       "       'hora_fin', 'temp', 'viento', 'humedad', 'cod_dron', 'piloto_1',\n",
       "       'piloto_2', 'obs', 'id_log'],\n",
       "      dtype='object')"
      ]
     },
     "execution_count": 262,
     "metadata": {},
     "output_type": "execute_result"
    }
   ],
   "source": [
    "plan.columns"
   ]
  },
  {
   "cell_type": "code",
   "execution_count": null,
   "id": "fd141cf5-909a-4e6b-9fd1-cd5cfb6366c7",
   "metadata": {},
   "outputs": [],
   "source": []
  },
  {
   "cell_type": "code",
   "execution_count": null,
   "id": "d8d129bb-ca31-471b-a71e-50ed1cc0c0d1",
   "metadata": {},
   "outputs": [],
   "source": []
  },
  {
   "cell_type": "code",
   "execution_count": null,
   "id": "c11bdfee-762d-4d9c-97b9-16c8ca46290a",
   "metadata": {},
   "outputs": [],
   "source": []
  },
  {
   "cell_type": "code",
   "execution_count": null,
   "id": "6e8c1f3e-0f50-444e-833d-098f80c27b97",
   "metadata": {},
   "outputs": [],
   "source": []
  },
  {
   "cell_type": "code",
   "execution_count": 264,
   "id": "812f4822-6c38-413c-9489-7c5bbb3de65c",
   "metadata": {},
   "outputs": [
    {
     "data": {
      "text/plain": [
       "False"
      ]
     },
     "execution_count": 264,
     "metadata": {},
     "output_type": "execute_result"
    }
   ],
   "source": [
    "validar_lotes_repetidos(plan)"
   ]
  },
  {
   "cell_type": "code",
   "execution_count": null,
   "id": "bdecfa6d-26e8-418d-9b14-008edb38465b",
   "metadata": {},
   "outputs": [],
   "source": []
  },
  {
   "cell_type": "code",
   "execution_count": 263,
   "id": "464a8b20-6747-48c7-918e-6b074631d599",
   "metadata": {},
   "outputs": [],
   "source": []
  },
  {
   "cell_type": "code",
   "execution_count": null,
   "id": "a57379ee-5c6b-443d-9f3a-4a03003c126d",
   "metadata": {},
   "outputs": [],
   "source": []
  },
  {
   "cell_type": "code",
   "execution_count": null,
   "id": "9d2f101f-1652-4884-bd4b-dfcc77de355b",
   "metadata": {},
   "outputs": [],
   "source": []
  },
  {
   "cell_type": "code",
   "execution_count": null,
   "id": "f7d1a2cc-f8a6-47ce-a9b3-4a3280ebf6a9",
   "metadata": {},
   "outputs": [],
   "source": []
  },
  {
   "cell_type": "code",
   "execution_count": 279,
   "id": "21e53c3c-7a4a-499d-8284-f3ec67fd40a8",
   "metadata": {},
   "outputs": [
    {
     "name": "stdout",
     "output_type": "stream",
     "text": [
      "G:\\Ingenio Azucarero Guabira S.A\\UTEA - SEMANAL - EQUIPO AVIACION UTEA\\Trichogramma\\2025\\KML_PLAN\\172\n",
      "✔️ id_os 29 marcado como procesado.\n"
     ]
    }
   ],
   "source": [
    "for i, row in gdf_puntos.iterrows():\n",
    "    ors = row['id_os']\n",
    "    produc_plan = row['producto']\n",
    "    produc_dosis = row['dosis']\n",
    "    \n",
    "    puntos = filtrar_os_y_quitar_caracteres(gdf_puntos, ors)\n",
    "    multipoint_gdf = puntos.copy()\n",
    "    puntos_individuales = crear_puntos_individuales(multipoint_gdf)\n",
    "    \n",
    "    lotes_solicidud = definir_lotes_solicitud(puntos_individuales)\n",
    "    lotes_siembra = definir_lotes_siembra(puntos_individuales)\n",
    "\n",
    "    # verificar si algun dataframe esta vacio\n",
    "    dfs = [df for df in [lotes_solicidud, lotes_siembra] if not df.empty]\n",
    "    # concatena los dfs no vacios\n",
    "    concat_plan = pd.concat(dfs, axis=0, ignore_index=True)\n",
    "    \n",
    "    plan = agregar_campos_faltantes(concat_plan)\n",
    "    #RECALCULAR EL AREA\n",
    "    plan['area'] = plan.geometry.area / 10000\n",
    "\n",
    "    plan['producto_plan'] = produc_plan\n",
    "    plan['producto_dosis'] = produc_dosis\n",
    "    plan['producto_cantidad'] = plan['area'] * plan['producto_dosis']\n",
    "    \n",
    "    plan.rename(columns={'geometry': 'geom'}, inplace=True)\n",
    "    plan = plan.set_geometry(\"geom\")\n",
    "    plan['unidad_01'] = plan['unidad_01'].astype(int)\n",
    "    plan['unidad_03'] = plan['unidad_03'].astype(int)\n",
    "    plan['dias'] = plan['dias'].astype(int)\n",
    "    plan['os'] = plan['os'].astype(int)\n",
    "    plan['soca'] = plan['soca'].astype(int)\n",
    "    plan['inst'] = plan['inst'].astype(int)\n",
    "\n",
    "    # validas que la planificacion no tenga lotes con el mismo nombre\n",
    "    if validar_lotes_repetidos(plan):\n",
    "        print(f\"ERROR: Existen lotes con nombre repetido en la propiedad: {plan.iloc[0]['unidad_01']}\")\n",
    "        continue\n",
    "    crear_kmls(plan)    \n",
    "    plan.to_postgis(\"parte_diario_ctrl_bio\", obtener_engine(), schema=\"drones_control_bio\", if_exists=\"append\")\n",
    "    \n",
    "    # CARGAR LOTES A AMIGOCLOUD\n",
    "    #cargar_a_amigocloud(plan_os)\n",
    "    \n",
    "    marcar_como_procesado(ors)"
   ]
  },
  {
   "cell_type": "code",
   "execution_count": null,
   "id": "d1775aa1-b095-434f-ad16-00a5fcf9e79a",
   "metadata": {},
   "outputs": [],
   "source": []
  },
  {
   "cell_type": "code",
   "execution_count": null,
   "id": "a0f89d58-3f1d-44a0-84ff-7adf526896e0",
   "metadata": {},
   "outputs": [],
   "source": []
  },
  {
   "cell_type": "code",
   "execution_count": null,
   "id": "8dec249d-bb1a-4bb9-9345-97321da3b647",
   "metadata": {},
   "outputs": [],
   "source": []
  },
  {
   "cell_type": "code",
   "execution_count": null,
   "id": "7f3c56de-907b-4766-a754-5519d7ac9706",
   "metadata": {},
   "outputs": [],
   "source": []
  },
  {
   "cell_type": "code",
   "execution_count": null,
   "id": "c0af5123-17d1-4c7d-b226-e296fd89d7e7",
   "metadata": {},
   "outputs": [],
   "source": []
  },
  {
   "cell_type": "code",
   "execution_count": null,
   "id": "26e21c65-fd78-4b17-96ef-5d62db3c1876",
   "metadata": {},
   "outputs": [],
   "source": []
  },
  {
   "cell_type": "code",
   "execution_count": 30,
   "id": "a76c911b-0e63-44fa-89df-2c17ab5463f1",
   "metadata": {},
   "outputs": [
    {
     "data": {
      "text/plain": [
       "<Axes: >"
      ]
     },
     "execution_count": 30,
     "metadata": {},
     "output_type": "execute_result"
    },
    {
     "data": {
      "image/png": "[encoded data removed]",
      "text/plain": [
       "<Figure size 640x480 with 1 Axes>"
      ]
     },
     "metadata": {},
     "output_type": "display_data"
    }
   ],
   "source": [
    "plan_os.plot()"
   ]
  },
  {
   "cell_type": "code",
   "execution_count": null,
   "id": "83b3ceab-2847-4019-85b7-e88028b0f496",
   "metadata": {},
   "outputs": [],
   "source": []
  }
 ],
 "metadata": {
  "kernelspec": {
   "display_name": "Python 3 (ipykernel)",
   "language": "python",
   "name": "python3"
  },
  "language_info": {
   "codemirror_mode": {
    "name": "ipython",
    "version": 3
   },
   "file_extension": ".py",
   "mimetype": "text/x-python",
   "name": "python",
   "nbconvert_exporter": "python",
   "pygments_lexer": "ipython3",
   "version": "3.10.13"
  }
 },
 "nbformat": 4,
 "nbformat_minor": 5
}
