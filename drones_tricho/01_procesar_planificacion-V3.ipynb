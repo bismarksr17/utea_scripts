{
 "cells": [
  {
   "cell_type": "code",
   "execution_count": 100,
   "id": "3d26f64e-c1fb-424d-bb27-d4ab069c2eed",
   "metadata": {},
   "outputs": [],
   "source": [
    "import sys\n",
    "sys.path.append('..')\n",
    "\n",
    "import os\n",
    "from sqlalchemy import create_engine, text\n",
    "import geopandas as gpd\n",
    "import pandas as pd\n",
    "from geopandas.tools import sjoin\n",
    "from shapely.geometry import Point, Polygon, MultiPolygon, MultiPoint\n",
    "from shapely import wkb\n",
    "import simplekml\n",
    "\n",
    "from utilities_amigocloud import AmigocloudFunctions"
   ]
  },
  {
   "cell_type": "code",
   "execution_count": 91,
   "id": "fbc905f8-33ed-4173-b267-2332df0f91e8",
   "metadata": {},
   "outputs": [],
   "source": [
    "from config import RUTA_UNIDAD_ONE_DRIVE\n",
    "from config import RUTA_LOCAL_ONE_DRIVE\n",
    "from config import API_AMIGOCLOUD_TOKEN_ADM\n",
    "from config import POSTGRES_UTEA\n",
    "\n",
    "RUTA_COMPLETA = os.path.join(RUTA_UNIDAD_ONE_DRIVE, RUTA_LOCAL_ONE_DRIVE)"
   ]
  },
  {
   "cell_type": "code",
   "execution_count": 92,
   "id": "32f5600c-9c84-43ea-af43-1490498be54a",
   "metadata": {},
   "outputs": [
    {
     "data": {
      "text/plain": [
       "'A:cf5xrxU3HgHj9FkLMiY5wW9LBFmvYDQG2TQ5FY'"
      ]
     },
     "execution_count": 92,
     "metadata": {},
     "output_type": "execute_result"
    }
   ],
   "source": [
    "API_AMIGOCLOUD_TOKEN_ADM"
   ]
  },
  {
   "cell_type": "code",
   "execution_count": 141,
   "id": "36b65d7c-a5d9-46a6-9e42-bb6762afde1d",
   "metadata": {},
   "outputs": [],
   "source": [
    "# leer los dos shps de siembra y puntos de planificacion\n",
    "PATH_SIEMBRA = RUTA_UNIDAD_ONE_DRIVE + r'Ingenio Azucarero Guabira S.A\\UTEA - SEMANAL - EQUIPO AVIACION UTEA\\Trichogramma\\2025\\SHP\\SIEMBRAS_.shp'\n",
    "PATH_CAT = RUTA_UNIDAD_ONE_DRIVE + r'Ingenio Azucarero Guabira S.A\\UTEA - SEMANAL - EQUIPO AVIACION UTEA\\Trichogramma\\2025\\SHP\\CATASTRO_S09_MIERCOLES.shp'\n",
    "PATH_KML = RUTA_UNIDAD_ONE_DRIVE + r'Ingenio Azucarero Guabira S.A\\UTEA - SEMANAL - EQUIPO AVIACION UTEA\\Trichogramma\\2025\\KML_PLAN'\n",
    "\n",
    "gdf_siembras = gpd.read_file(PATH_SIEMBRA)\n",
    "gdf_cat = gpd.read_file(PATH_CAT)"
   ]
  },
  {
   "cell_type": "code",
   "execution_count": 142,
   "id": "3148abdb-5a93-4127-a6ef-dee691bd484c",
   "metadata": {},
   "outputs": [
    {
     "data": {
      "text/plain": [
       "'G:\\\\Ingenio Azucarero Guabira S.A\\\\UTEA - SEMANAL - EQUIPO AVIACION UTEA\\\\Trichogramma\\\\2025\\\\SHP\\\\SIEMBRAS_.shp'"
      ]
     },
     "execution_count": 142,
     "metadata": {},
     "output_type": "execute_result"
    }
   ],
   "source": [
    "PATH_SIEMBRA"
   ]
  },
  {
   "cell_type": "code",
   "execution_count": null,
   "id": "464e6d78-ca65-4d15-9910-df7417d5b85e",
   "metadata": {},
   "outputs": [],
   "source": []
  },
  {
   "cell_type": "code",
   "execution_count": 143,
   "id": "c7ca72f7-550e-4557-8a31-52ed67dfaea8",
   "metadata": {
    "tags": []
   },
   "outputs": [],
   "source": [
    "def obtener_engine():\n",
    "    return create_engine(\n",
    "        f\"postgresql+psycopg2://{POSTGRES_UTEA['USER']}:{POSTGRES_UTEA['PASSWORD']}@{POSTGRES_UTEA['HOST']}:{POSTGRES_UTEA['PORT']}/{POSTGRES_UTEA['DATABASE']}\"\n",
    "    )\n",
    "\n",
    "def obtener_planificacion_no_procesado():\n",
    "    engine = obtener_engine()\n",
    "    try:\n",
    "        query = \"\"\"\n",
    "            SELECT id_os, geom, cod_ca, nom_ca, obs, procesado\n",
    "            FROM drones_control_bio.planificacion_ctrl_bio\n",
    "            WHERE procesado=false;\n",
    "        \"\"\"\n",
    "        gdf = gpd.read_postgis(query, engine, geom_col='geom')\n",
    "        return gdf\n",
    "    except Exception as e:\n",
    "        print(f\"❌ Error en la consulta: {e}\")\n",
    "        return gpd.GeoDataFrame()\n",
    "    return None\n",
    "\n",
    "def obtener_parte_diario_por_id_os(id_os):\n",
    "    engine = obtener_engine()\n",
    "    try:\n",
    "        query = f\"\"\"\n",
    "            SELECT * FROM drones_control_bio.parte_diario_ctrl_bio where os = {id_os}\n",
    "        \"\"\"\n",
    "        gdf = gpd.read_postgis(query, engine, geom_col='geom')\n",
    "        return gdf\n",
    "    except Exception as e:\n",
    "        print(f\"❌ Error en la consulta: {e}\")\n",
    "        return gpd.GeoDataFrame()\n",
    "    return None\n",
    "\n",
    "def filtrar_os_y_quitar_caracteres(gdf, ors):\n",
    "    # filtrar la semana de interes\n",
    "    gdf_puntos_select = gdf[gdf['id_os'] == ors]\n",
    "    gdf_puntos_sem = gdf_puntos_select.copy()\n",
    "    #quita caracteres especiales\n",
    "    gdf_puntos_sem['nom_ca'] = gdf_puntos_sem['nom_ca'].str.replace(r'[\\r\\n\\t]', '', regex=True)\n",
    "    return gdf_puntos_sem\n",
    "\n",
    "def marcar_como_procesado(id_os):\n",
    "    engine = obtener_engine()  # tu función que crea el engine\n",
    "    try:\n",
    "        with engine.begin() as conn:\n",
    "            query = text(\"\"\"\n",
    "                UPDATE drones_control_bio.planificacion_ctrl_bio\n",
    "                SET procesado = true\n",
    "                WHERE id_os = :id_os\n",
    "            \"\"\")\n",
    "            conn.execute(query, {\"id_os\": id_os})\n",
    "            print(f\"✔️ id_os {id_os} marcado como procesado.\")\n",
    "    except Exception as e:\n",
    "        print(f\"❌ Error al actualizar: {e}\")\n",
    "    return None\n",
    "\n",
    "def crear_puntos_individuales(gdf):\n",
    "    # Crear una lista para almacenar los nuevos registros de puntos individuales\n",
    "    point_records = []\n",
    "    # Iterar sobre cada registro en el GeoDataFrame original\n",
    "    for idx, row in gdf.iterrows():\n",
    "        multipoint_geom = row.geom\n",
    "        # Verificar si la geometría es de tipo multipunto\n",
    "        if isinstance(multipoint_geom, MultiPoint):\n",
    "            for point in multipoint_geom.geoms:\n",
    "                # Crear un nuevo registro para cada punto individual\n",
    "                new_record = row.copy()\n",
    "                new_record.geometry = point\n",
    "                point_records.append(new_record)\n",
    "        else:\n",
    "            # Si la geometría ya es un punto, simplemente añadir el registro original\n",
    "            point_records.append(row)\n",
    "    \n",
    "    # Crear un nuevo GeoDataFrame con los registros de puntos individuales\n",
    "    puntos_indi = gpd.GeoDataFrame(point_records, geometry='geom', crs=gdf.crs)\n",
    "    return puntos_indi\n",
    "\n",
    "def definir_lotes_solicitud(gdf_puntos_indi):\n",
    "    # Crear un GeoDataFrame vacío para almacenar los puntos que no intersectan con ningún polígono de siembra\n",
    "    puntos_indi_solicitado = gdf_puntos_indi[~gdf_puntos_indi.geometry.apply(lambda point: any(gdf_siembras.contains(point)))]\n",
    "    \n",
    "    # identifoca los lotes que se intersectan\n",
    "    gdf_lotes_cat = gpd.sjoin(gdf_cat, puntos_indi_solicitado, how='inner', predicate='intersects')    \n",
    "    \n",
    "    # filtra los lotes intersectados en la capa original\n",
    "    poligonos_intersect_cat = gdf_cat.loc[gdf_cat.index.isin(gdf_lotes_cat.index)]\n",
    "    \n",
    "    # copy\n",
    "    poligonos_intersect_cat = poligonos_intersect_cat.copy()\n",
    "    poligonos_intersect_cat = poligonos_intersect_cat[['unidad_01', 'unidad_02', 'unidad_03', 'unidad_04', 'unidad_05', 'area', 'soca', 'zona', 'geometry']]\n",
    "    # Cambiar el nombre de la columna 'old_name' a 'new_name'\n",
    "    poligonos_intersect_cat.rename(columns={'zona': 'inst'}, inplace=True)\n",
    "    # CAMBIAR NOMBRE DATOS DE UNIDAD_03 Y UNDIAD_04 DE LOTES SOLICITADOS A LO INDICADO EN LOS PUNTOS\n",
    "    # Iterar sobre cada punto y encontrar el polígono que intersecta\n",
    "    for idx, point in puntos_indi_solicitado.iterrows():\n",
    "        point_geom = point.geom\n",
    "        matching_polygons = poligonos_intersect_cat[poligonos_intersect_cat.intersects(point_geom)]\n",
    "    \n",
    "        # Actualizar los campos de los polígonos que intersectan con los valores del punto\n",
    "        for poly_idx in matching_polygons.index:\n",
    "            poligonos_intersect_cat.at[poly_idx, 'unidad_03'] = point['cod_ca']\n",
    "            poligonos_intersect_cat.at[poly_idx, 'unidad_04'] = point['nom_ca']\n",
    "    # agrega los campos faltantes\n",
    "    poligonos_intersect_cat['fecha_ini'] = ''\n",
    "    poligonos_intersect_cat['origen'] = 'SOLICITUD'\n",
    "    poligonos_intersect_cat['dias'] = 0\n",
    "    poligonos_intersect_cat['fecha'] = ''\n",
    "    poligonos_intersect_cat['os'] = ors\n",
    "    return poligonos_intersect_cat\n",
    "\n",
    "def definir_lotes_siembra(gdf_puntos_indi):\n",
    "    # SELECCIONAR LOS LOTES DE SIEMBRAS\n",
    "    # identifoca los lotes que se intersectan\n",
    "    gdf_lotes_siem = gpd.sjoin(gdf_siembras, gdf_puntos_indi, how='inner', predicate='intersects')\n",
    "    # filtra los lotes intersectados en la capa original\n",
    "    poligonos_intersect_siem = gdf_siembras.loc[gdf_siembras.index.isin(gdf_lotes_siem.index)]\n",
    "    # copy\n",
    "    poligonos_intersect_siem = poligonos_intersect_siem.copy()\n",
    "    # agregar campo de semana_planificacion\n",
    "    poligonos_intersect_siem['os'] = ors\n",
    "    # crea el campo soca, y coloca 0 o 1 dependiendo del origen\n",
    "    poligonos_intersect_siem['soca'] = poligonos_intersect_siem['origen'].apply(lambda x: 1 if 'SIEMBRA 2023' in x else 0)\n",
    "    # ordena los campos\n",
    "    poligonos_intersect_siem = poligonos_intersect_siem[['unidad_01', 'unidad_02', 'unidad_03', 'unidad_04', 'unidad_05', 'area',\n",
    "           'fecha_ini', 'origen', 'dias', 'fecha', 'prioridad', 'inst', 'geometry', 'os', 'soca']]\n",
    "    return poligonos_intersect_siem\n",
    "\n",
    "def agregar_campos_faltantes(gdf_plan):\n",
    "    gdf_plan['producto'] = ''\n",
    "    gdf_plan['dosis'] = 0.0\n",
    "    gdf_plan['id_labor'] = ''\n",
    "    gdf_plan['fecha'] = ''\n",
    "    gdf_plan['semana'] = 0\n",
    "    gdf_plan['num_lib'] = 0\n",
    "    gdf_plan['hora_ini'] = ''\n",
    "    gdf_plan['hora_fin'] = ''\n",
    "    gdf_plan['temp'] = 0\n",
    "    gdf_plan['viento'] = 0\n",
    "    gdf_plan['humedad'] = 0\n",
    "    gdf_plan['cod_dron'] = ''\n",
    "    gdf_plan['piloto_1'] = ''\n",
    "    gdf_plan['piloto_2'] = ''\n",
    "    gdf_plan['obs'] = ''\n",
    "    gdf_plan['id_log'] = 0\n",
    "    return gdf_plan\n",
    "\n",
    "def convertir_a_multipolygon(geometry):\n",
    "    if isinstance(geometry, Polygon):\n",
    "        return MultiPolygon([geometry])\n",
    "    return geometry\n",
    "\n",
    "def convertir_a_wkb(polygon):\n",
    "    wkb_data = wkb.dumps(polygon, hex=True)\n",
    "    return wkb_data\n",
    "\n",
    "def cargar_a_amigocloud(gdf):\n",
    "    # repreyectar a WGS84\n",
    "    gdf_pla_gral = gdf.to_crs(epsg=4326)\n",
    "    # convertir poligonos a multipoligonos\n",
    "    gdf_pla_gral['geom'] = gdf_pla_gral['geom'].apply(convertir_a_multipolygon)\n",
    "    \n",
    "    gdf_pla_gral['unidad_01'] = gdf_pla_gral['unidad_01'].astype(int)\n",
    "    gdf_pla_gral['unidad_03'] = gdf_pla_gral['unidad_03'].astype(int)\n",
    "    gdf_pla_gral['dias'] = gdf_pla_gral['dias'].astype(int)\n",
    "    gdf_pla_gral['os'] = gdf_pla_gral['os'].astype(int)\n",
    "    gdf_pla_gral['soca'] = gdf_pla_gral['soca'].astype(int)\n",
    "    gdf_pla_gral['id'] = gdf_pla_gral['id'].astype(int)\n",
    "    gdf_pla_gral['inst'] = gdf_pla_gral['inst'].astype(int)\n",
    "    \n",
    "    # recorrer el gdf de lotes y cargarlo a amigocloud\n",
    "    id_proyecto = 33457\n",
    "    for index, row in gdf_pla_gral.iterrows():\n",
    "        wkb_hex = convertir_a_wkb(row['geom'])\n",
    "        insert_sql = f\"\"\"\n",
    "            INSERT INTO dataset_345601 (id, unidad_01, unidad_02, unidad_03, unidad_04, unidad_05, area, origen, dias, os, geometry)\n",
    "            VALUES ({row['id']}, {row['unidad_01']}, '{row['unidad_02']}', {row['unidad_03']}, '{row['unidad_04']}', '{row['unidad_05']}', {row['area']}, '{row['origen']}', '{row['dias']}', '{row['os']}', ST_SetSRID(ST_GeomFromWKB('\\\\x{wkb_hex}'), 4326));\n",
    "            \"\"\"\n",
    "        query_sql = {'query': insert_sql}\n",
    "        resultado_post = amigocloud.ejecutar_query_sql(id_proyecto, insert_sql, 'post')\n",
    "    return None\n",
    "        \n",
    "def crear_kmls(gdf_lotes):\n",
    "    lista_cods = list(set(gdf_lotes['unidad_01']))\n",
    "    for i in lista_cods:\n",
    "        prop = plan_os[plan_os['unidad_01'] == i]\n",
    "        prop_wgs = prop.to_crs(epsg=4326)\n",
    "        output_folder = PATH_KML + '\\\\' + str(i)\n",
    "        print(output_folder)\n",
    "        if not os.path.exists(output_folder):\n",
    "            os.makedirs(output_folder)\n",
    "        # Recorrer el GeoDataFrame\n",
    "        for idx, row in prop_wgs.iterrows():\n",
    "            # Crear un nuevo documento KML\n",
    "            kml_doc = simplekml.Kml()\n",
    "            # Obtener el polígono y el nombre\n",
    "            polygon = row['geom']\n",
    "            name = row['unidad_05']\n",
    "            # Convertir el polígono en una lista de coordenadas\n",
    "            if polygon.geom_type == \"Polygon\":\n",
    "                coords = [(x, y) for x, y in zip(*polygon.exterior.xy)]\n",
    "            elif polygon.geom_type == \"MultiPolygon\":\n",
    "            # puedes iterar si quieres más de uno, aquí tomamos el primero\n",
    "                first_poly = list(polygon.geoms)[0]\n",
    "                coords = [(x, y) for x, y in zip(*first_poly.exterior.xy)]\n",
    "            else:\n",
    "                print(f\"❌ Geometría no compatible: {polygon.geom_type}\")\n",
    "                continue  # salta este registro\n",
    "            # Añadir el polígono al documento KML\n",
    "            pol = kml_doc.newpolygon(name=name, outerboundaryis=coords)\n",
    "            # Guardar el archivo KML\n",
    "            file_name = f\"{name}.kml\"\n",
    "            output_path = os.path.join(output_folder, file_name)\n",
    "            kml_doc.save(output_path)\n",
    "    return None"
   ]
  },
  {
   "cell_type": "code",
   "execution_count": 144,
   "id": "d102d776-8a85-4ab2-bd4f-e915ae3d48b3",
   "metadata": {},
   "outputs": [
    {
     "data": {
      "text/plain": [
       "<utilities_amigocloud.AmigocloudFunctions at 0x21c2ce089d0>"
      ]
     },
     "execution_count": 144,
     "metadata": {},
     "output_type": "execute_result"
    }
   ],
   "source": [
    "amigocloud = AmigocloudFunctions(token=API_AMIGOCLOUD_TOKEN_ADM)\n",
    "amigocloud"
   ]
  },
  {
   "cell_type": "markdown",
   "id": "f90b0afe-f0a8-465a-bfbc-08fb3ecc23a4",
   "metadata": {},
   "source": [
    "# ACTUALIZAR SHP PLANIFICACION"
   ]
  },
  {
   "cell_type": "code",
   "execution_count": 145,
   "id": "cc1fd95f-d690-4c6c-8f6c-ade5b12a4079",
   "metadata": {},
   "outputs": [],
   "source": [
    "gdf_puntos = obtener_planificacion_no_procesado()"
   ]
  },
  {
   "cell_type": "code",
   "execution_count": 146,
   "id": "61a4bfac-c39b-4e85-b843-2a7cb306dbfd",
   "metadata": {},
   "outputs": [
    {
     "data": {
      "text/html": [
       "<div>\n",
       "<style scoped>\n",
       "    .dataframe tbody tr th:only-of-type {\n",
       "        vertical-align: middle;\n",
       "    }\n",
       "\n",
       "    .dataframe tbody tr th {\n",
       "        vertical-align: top;\n",
       "    }\n",
       "\n",
       "    .dataframe thead th {\n",
       "        text-align: right;\n",
       "    }\n",
       "</style>\n",
       "<table border=\"1\" class=\"dataframe\">\n",
       "  <thead>\n",
       "    <tr style=\"text-align: right;\">\n",
       "      <th></th>\n",
       "      <th>id_os</th>\n",
       "      <th>geom</th>\n",
       "      <th>cod_ca</th>\n",
       "      <th>nom_ca</th>\n",
       "      <th>obs</th>\n",
       "      <th>procesado</th>\n",
       "    </tr>\n",
       "  </thead>\n",
       "  <tbody>\n",
       "    <tr>\n",
       "      <th>0</th>\n",
       "      <td>16</td>\n",
       "      <td>MULTIPOINT (478338.220 8093892.982, 478436.858...</td>\n",
       "      <td>1530</td>\n",
       "      <td>C.I.T.T.C.A.</td>\n",
       "      <td>None</td>\n",
       "      <td>False</td>\n",
       "    </tr>\n",
       "    <tr>\n",
       "      <th>1</th>\n",
       "      <td>14</td>\n",
       "      <td>MULTIPOINT (517992.930 8102595.479, 519189.215...</td>\n",
       "      <td>41594</td>\n",
       "      <td>AGROPECUARIA CAMPO DULCE S.R.L.</td>\n",
       "      <td>None</td>\n",
       "      <td>False</td>\n",
       "    </tr>\n",
       "    <tr>\n",
       "      <th>2</th>\n",
       "      <td>17</td>\n",
       "      <td>MULTIPOINT (469506.118 8090639.080)</td>\n",
       "      <td>1530</td>\n",
       "      <td>C.I.T.T.C.A.</td>\n",
       "      <td>None</td>\n",
       "      <td>False</td>\n",
       "    </tr>\n",
       "    <tr>\n",
       "      <th>3</th>\n",
       "      <td>13</td>\n",
       "      <td>MULTIPOINT (499976.182 8095905.739, 499563.279...</td>\n",
       "      <td>41594</td>\n",
       "      <td>AGROPECUARIA CAMPO DULCE S.R.L.</td>\n",
       "      <td>None</td>\n",
       "      <td>False</td>\n",
       "    </tr>\n",
       "    <tr>\n",
       "      <th>4</th>\n",
       "      <td>15</td>\n",
       "      <td>MULTIPOINT (517184.670 8070489.656, 517775.640...</td>\n",
       "      <td>41594</td>\n",
       "      <td>AGROPECUARIA CAMPO DULCE S.R.L.</td>\n",
       "      <td></td>\n",
       "      <td>False</td>\n",
       "    </tr>\n",
       "  </tbody>\n",
       "</table>\n",
       "</div>"
      ],
      "text/plain": [
       "   id_os                                               geom  cod_ca  \\\n",
       "0     16  MULTIPOINT (478338.220 8093892.982, 478436.858...    1530   \n",
       "1     14  MULTIPOINT (517992.930 8102595.479, 519189.215...   41594   \n",
       "2     17                MULTIPOINT (469506.118 8090639.080)    1530   \n",
       "3     13  MULTIPOINT (499976.182 8095905.739, 499563.279...   41594   \n",
       "4     15  MULTIPOINT (517184.670 8070489.656, 517775.640...   41594   \n",
       "\n",
       "                            nom_ca   obs  procesado  \n",
       "0                     C.I.T.T.C.A.  None      False  \n",
       "1  AGROPECUARIA CAMPO DULCE S.R.L.  None      False  \n",
       "2                     C.I.T.T.C.A.  None      False  \n",
       "3  AGROPECUARIA CAMPO DULCE S.R.L.  None      False  \n",
       "4  AGROPECUARIA CAMPO DULCE S.R.L.            False  "
      ]
     },
     "execution_count": 146,
     "metadata": {},
     "output_type": "execute_result"
    }
   ],
   "source": [
    "gdf_puntos"
   ]
  },
  {
   "cell_type": "code",
   "execution_count": 147,
   "id": "21e53c3c-7a4a-499d-8284-f3ec67fd40a8",
   "metadata": {},
   "outputs": [
    {
     "name": "stdout",
     "output_type": "stream",
     "text": [
      "¿El primer punto cae dentro de algún polígono?: False\n"
     ]
    },
    {
     "ename": "TypeError",
     "evalue": "int() argument must be a string, a bytes-like object or a real number, not 'NoneType'",
     "output_type": "error",
     "traceback": [
      "\u001b[1;31m---------------------------------------------------------------------------\u001b[0m",
      "\u001b[1;31mTypeError\u001b[0m                                 Traceback (most recent call last)",
      "Cell \u001b[1;32mIn[147], line 31\u001b[0m\n\u001b[0;32m     26\u001b[0m plan[\u001b[38;5;124m'\u001b[39m\u001b[38;5;124mos\u001b[39m\u001b[38;5;124m'\u001b[39m] \u001b[38;5;241m=\u001b[39m plan[\u001b[38;5;124m'\u001b[39m\u001b[38;5;124mos\u001b[39m\u001b[38;5;124m'\u001b[39m]\u001b[38;5;241m.\u001b[39mastype(\u001b[38;5;28mint\u001b[39m)\n\u001b[0;32m     27\u001b[0m plan[\u001b[38;5;124m'\u001b[39m\u001b[38;5;124msoca\u001b[39m\u001b[38;5;124m'\u001b[39m] \u001b[38;5;241m=\u001b[39m plan[\u001b[38;5;124m'\u001b[39m\u001b[38;5;124msoca\u001b[39m\u001b[38;5;124m'\u001b[39m]\u001b[38;5;241m.\u001b[39mastype(\u001b[38;5;28mint\u001b[39m)\n\u001b[1;32m---> 31\u001b[0m plan[\u001b[38;5;124m'\u001b[39m\u001b[38;5;124minst\u001b[39m\u001b[38;5;124m'\u001b[39m] \u001b[38;5;241m=\u001b[39m \u001b[43mplan\u001b[49m\u001b[43m[\u001b[49m\u001b[38;5;124;43m'\u001b[39;49m\u001b[38;5;124;43minst\u001b[39;49m\u001b[38;5;124;43m'\u001b[39;49m\u001b[43m]\u001b[49m\u001b[38;5;241;43m.\u001b[39;49m\u001b[43mastype\u001b[49m\u001b[43m(\u001b[49m\u001b[38;5;28;43mint\u001b[39;49m\u001b[43m)\u001b[49m\n\u001b[0;32m     32\u001b[0m plan\u001b[38;5;241m.\u001b[39mto_postgis(\u001b[38;5;124m\"\u001b[39m\u001b[38;5;124mparte_diario_ctrl_bio\u001b[39m\u001b[38;5;124m\"\u001b[39m, obtener_engine(), schema\u001b[38;5;241m=\u001b[39m\u001b[38;5;124m\"\u001b[39m\u001b[38;5;124mdrones_control_bio\u001b[39m\u001b[38;5;124m\"\u001b[39m, if_exists\u001b[38;5;241m=\u001b[39m\u001b[38;5;124m\"\u001b[39m\u001b[38;5;124mappend\u001b[39m\u001b[38;5;124m\"\u001b[39m)\n\u001b[0;32m     34\u001b[0m \u001b[38;5;66;03m# CARGAR LOTES A AMIGOCLOUD\u001b[39;00m\n",
      "File \u001b[1;32m~\\anaconda3\\envs\\utea\\lib\\site-packages\\pandas\\core\\generic.py:6637\u001b[0m, in \u001b[0;36mNDFrame.astype\u001b[1;34m(self, dtype, copy, errors)\u001b[0m\n\u001b[0;32m   6631\u001b[0m     results \u001b[38;5;241m=\u001b[39m [\n\u001b[0;32m   6632\u001b[0m         ser\u001b[38;5;241m.\u001b[39mastype(dtype, copy\u001b[38;5;241m=\u001b[39mcopy, errors\u001b[38;5;241m=\u001b[39merrors) \u001b[38;5;28;01mfor\u001b[39;00m _, ser \u001b[38;5;129;01min\u001b[39;00m \u001b[38;5;28mself\u001b[39m\u001b[38;5;241m.\u001b[39mitems()\n\u001b[0;32m   6633\u001b[0m     ]\n\u001b[0;32m   6635\u001b[0m \u001b[38;5;28;01melse\u001b[39;00m:\n\u001b[0;32m   6636\u001b[0m     \u001b[38;5;66;03m# else, only a single dtype is given\u001b[39;00m\n\u001b[1;32m-> 6637\u001b[0m     new_data \u001b[38;5;241m=\u001b[39m \u001b[38;5;28;43mself\u001b[39;49m\u001b[38;5;241;43m.\u001b[39;49m\u001b[43m_mgr\u001b[49m\u001b[38;5;241;43m.\u001b[39;49m\u001b[43mastype\u001b[49m\u001b[43m(\u001b[49m\u001b[43mdtype\u001b[49m\u001b[38;5;241;43m=\u001b[39;49m\u001b[43mdtype\u001b[49m\u001b[43m,\u001b[49m\u001b[43m \u001b[49m\u001b[43mcopy\u001b[49m\u001b[38;5;241;43m=\u001b[39;49m\u001b[43mcopy\u001b[49m\u001b[43m,\u001b[49m\u001b[43m \u001b[49m\u001b[43merrors\u001b[49m\u001b[38;5;241;43m=\u001b[39;49m\u001b[43merrors\u001b[49m\u001b[43m)\u001b[49m\n\u001b[0;32m   6638\u001b[0m     res \u001b[38;5;241m=\u001b[39m \u001b[38;5;28mself\u001b[39m\u001b[38;5;241m.\u001b[39m_constructor_from_mgr(new_data, axes\u001b[38;5;241m=\u001b[39mnew_data\u001b[38;5;241m.\u001b[39maxes)\n\u001b[0;32m   6639\u001b[0m     \u001b[38;5;28;01mreturn\u001b[39;00m res\u001b[38;5;241m.\u001b[39m__finalize__(\u001b[38;5;28mself\u001b[39m, method\u001b[38;5;241m=\u001b[39m\u001b[38;5;124m\"\u001b[39m\u001b[38;5;124mastype\u001b[39m\u001b[38;5;124m\"\u001b[39m)\n",
      "File \u001b[1;32m~\\anaconda3\\envs\\utea\\lib\\site-packages\\pandas\\core\\internals\\managers.py:431\u001b[0m, in \u001b[0;36mBaseBlockManager.astype\u001b[1;34m(self, dtype, copy, errors)\u001b[0m\n\u001b[0;32m    428\u001b[0m \u001b[38;5;28;01melif\u001b[39;00m using_copy_on_write():\n\u001b[0;32m    429\u001b[0m     copy \u001b[38;5;241m=\u001b[39m \u001b[38;5;28;01mFalse\u001b[39;00m\n\u001b[1;32m--> 431\u001b[0m \u001b[38;5;28;01mreturn\u001b[39;00m \u001b[38;5;28;43mself\u001b[39;49m\u001b[38;5;241;43m.\u001b[39;49m\u001b[43mapply\u001b[49m\u001b[43m(\u001b[49m\n\u001b[0;32m    432\u001b[0m \u001b[43m    \u001b[49m\u001b[38;5;124;43m\"\u001b[39;49m\u001b[38;5;124;43mastype\u001b[39;49m\u001b[38;5;124;43m\"\u001b[39;49m\u001b[43m,\u001b[49m\n\u001b[0;32m    433\u001b[0m \u001b[43m    \u001b[49m\u001b[43mdtype\u001b[49m\u001b[38;5;241;43m=\u001b[39;49m\u001b[43mdtype\u001b[49m\u001b[43m,\u001b[49m\n\u001b[0;32m    434\u001b[0m \u001b[43m    \u001b[49m\u001b[43mcopy\u001b[49m\u001b[38;5;241;43m=\u001b[39;49m\u001b[43mcopy\u001b[49m\u001b[43m,\u001b[49m\n\u001b[0;32m    435\u001b[0m \u001b[43m    \u001b[49m\u001b[43merrors\u001b[49m\u001b[38;5;241;43m=\u001b[39;49m\u001b[43merrors\u001b[49m\u001b[43m,\u001b[49m\n\u001b[0;32m    436\u001b[0m \u001b[43m    \u001b[49m\u001b[43musing_cow\u001b[49m\u001b[38;5;241;43m=\u001b[39;49m\u001b[43musing_copy_on_write\u001b[49m\u001b[43m(\u001b[49m\u001b[43m)\u001b[49m\u001b[43m,\u001b[49m\n\u001b[0;32m    437\u001b[0m \u001b[43m\u001b[49m\u001b[43m)\u001b[49m\n",
      "File \u001b[1;32m~\\anaconda3\\envs\\utea\\lib\\site-packages\\pandas\\core\\internals\\managers.py:364\u001b[0m, in \u001b[0;36mBaseBlockManager.apply\u001b[1;34m(self, f, align_keys, **kwargs)\u001b[0m\n\u001b[0;32m    362\u001b[0m         applied \u001b[38;5;241m=\u001b[39m b\u001b[38;5;241m.\u001b[39mapply(f, \u001b[38;5;241m*\u001b[39m\u001b[38;5;241m*\u001b[39mkwargs)\n\u001b[0;32m    363\u001b[0m     \u001b[38;5;28;01melse\u001b[39;00m:\n\u001b[1;32m--> 364\u001b[0m         applied \u001b[38;5;241m=\u001b[39m \u001b[38;5;28mgetattr\u001b[39m(b, f)(\u001b[38;5;241m*\u001b[39m\u001b[38;5;241m*\u001b[39mkwargs)\n\u001b[0;32m    365\u001b[0m     result_blocks \u001b[38;5;241m=\u001b[39m extend_blocks(applied, result_blocks)\n\u001b[0;32m    367\u001b[0m out \u001b[38;5;241m=\u001b[39m \u001b[38;5;28mtype\u001b[39m(\u001b[38;5;28mself\u001b[39m)\u001b[38;5;241m.\u001b[39mfrom_blocks(result_blocks, \u001b[38;5;28mself\u001b[39m\u001b[38;5;241m.\u001b[39maxes)\n",
      "File \u001b[1;32m~\\anaconda3\\envs\\utea\\lib\\site-packages\\pandas\\core\\internals\\blocks.py:758\u001b[0m, in \u001b[0;36mBlock.astype\u001b[1;34m(self, dtype, copy, errors, using_cow, squeeze)\u001b[0m\n\u001b[0;32m    755\u001b[0m         \u001b[38;5;28;01mraise\u001b[39;00m \u001b[38;5;167;01mValueError\u001b[39;00m(\u001b[38;5;124m\"\u001b[39m\u001b[38;5;124mCan not squeeze with more than one column.\u001b[39m\u001b[38;5;124m\"\u001b[39m)\n\u001b[0;32m    756\u001b[0m     values \u001b[38;5;241m=\u001b[39m values[\u001b[38;5;241m0\u001b[39m, :]  \u001b[38;5;66;03m# type: ignore[call-overload]\u001b[39;00m\n\u001b[1;32m--> 758\u001b[0m new_values \u001b[38;5;241m=\u001b[39m \u001b[43mastype_array_safe\u001b[49m\u001b[43m(\u001b[49m\u001b[43mvalues\u001b[49m\u001b[43m,\u001b[49m\u001b[43m \u001b[49m\u001b[43mdtype\u001b[49m\u001b[43m,\u001b[49m\u001b[43m \u001b[49m\u001b[43mcopy\u001b[49m\u001b[38;5;241;43m=\u001b[39;49m\u001b[43mcopy\u001b[49m\u001b[43m,\u001b[49m\u001b[43m \u001b[49m\u001b[43merrors\u001b[49m\u001b[38;5;241;43m=\u001b[39;49m\u001b[43merrors\u001b[49m\u001b[43m)\u001b[49m\n\u001b[0;32m    760\u001b[0m new_values \u001b[38;5;241m=\u001b[39m maybe_coerce_values(new_values)\n\u001b[0;32m    762\u001b[0m refs \u001b[38;5;241m=\u001b[39m \u001b[38;5;28;01mNone\u001b[39;00m\n",
      "File \u001b[1;32m~\\anaconda3\\envs\\utea\\lib\\site-packages\\pandas\\core\\dtypes\\astype.py:237\u001b[0m, in \u001b[0;36mastype_array_safe\u001b[1;34m(values, dtype, copy, errors)\u001b[0m\n\u001b[0;32m    234\u001b[0m     dtype \u001b[38;5;241m=\u001b[39m dtype\u001b[38;5;241m.\u001b[39mnumpy_dtype\n\u001b[0;32m    236\u001b[0m \u001b[38;5;28;01mtry\u001b[39;00m:\n\u001b[1;32m--> 237\u001b[0m     new_values \u001b[38;5;241m=\u001b[39m \u001b[43mastype_array\u001b[49m\u001b[43m(\u001b[49m\u001b[43mvalues\u001b[49m\u001b[43m,\u001b[49m\u001b[43m \u001b[49m\u001b[43mdtype\u001b[49m\u001b[43m,\u001b[49m\u001b[43m \u001b[49m\u001b[43mcopy\u001b[49m\u001b[38;5;241;43m=\u001b[39;49m\u001b[43mcopy\u001b[49m\u001b[43m)\u001b[49m\n\u001b[0;32m    238\u001b[0m \u001b[38;5;28;01mexcept\u001b[39;00m (\u001b[38;5;167;01mValueError\u001b[39;00m, \u001b[38;5;167;01mTypeError\u001b[39;00m):\n\u001b[0;32m    239\u001b[0m     \u001b[38;5;66;03m# e.g. _astype_nansafe can fail on object-dtype of strings\u001b[39;00m\n\u001b[0;32m    240\u001b[0m     \u001b[38;5;66;03m#  trying to convert to float\u001b[39;00m\n\u001b[0;32m    241\u001b[0m     \u001b[38;5;28;01mif\u001b[39;00m errors \u001b[38;5;241m==\u001b[39m \u001b[38;5;124m\"\u001b[39m\u001b[38;5;124mignore\u001b[39m\u001b[38;5;124m\"\u001b[39m:\n",
      "File \u001b[1;32m~\\anaconda3\\envs\\utea\\lib\\site-packages\\pandas\\core\\dtypes\\astype.py:182\u001b[0m, in \u001b[0;36mastype_array\u001b[1;34m(values, dtype, copy)\u001b[0m\n\u001b[0;32m    179\u001b[0m     values \u001b[38;5;241m=\u001b[39m values\u001b[38;5;241m.\u001b[39mastype(dtype, copy\u001b[38;5;241m=\u001b[39mcopy)\n\u001b[0;32m    181\u001b[0m \u001b[38;5;28;01melse\u001b[39;00m:\n\u001b[1;32m--> 182\u001b[0m     values \u001b[38;5;241m=\u001b[39m \u001b[43m_astype_nansafe\u001b[49m\u001b[43m(\u001b[49m\u001b[43mvalues\u001b[49m\u001b[43m,\u001b[49m\u001b[43m \u001b[49m\u001b[43mdtype\u001b[49m\u001b[43m,\u001b[49m\u001b[43m \u001b[49m\u001b[43mcopy\u001b[49m\u001b[38;5;241;43m=\u001b[39;49m\u001b[43mcopy\u001b[49m\u001b[43m)\u001b[49m\n\u001b[0;32m    184\u001b[0m \u001b[38;5;66;03m# in pandas we don't store numpy str dtypes, so convert to object\u001b[39;00m\n\u001b[0;32m    185\u001b[0m \u001b[38;5;28;01mif\u001b[39;00m \u001b[38;5;28misinstance\u001b[39m(dtype, np\u001b[38;5;241m.\u001b[39mdtype) \u001b[38;5;129;01mand\u001b[39;00m \u001b[38;5;28missubclass\u001b[39m(values\u001b[38;5;241m.\u001b[39mdtype\u001b[38;5;241m.\u001b[39mtype, \u001b[38;5;28mstr\u001b[39m):\n",
      "File \u001b[1;32m~\\anaconda3\\envs\\utea\\lib\\site-packages\\pandas\\core\\dtypes\\astype.py:133\u001b[0m, in \u001b[0;36m_astype_nansafe\u001b[1;34m(arr, dtype, copy, skipna)\u001b[0m\n\u001b[0;32m    129\u001b[0m     \u001b[38;5;28;01mraise\u001b[39;00m \u001b[38;5;167;01mValueError\u001b[39;00m(msg)\n\u001b[0;32m    131\u001b[0m \u001b[38;5;28;01mif\u001b[39;00m copy \u001b[38;5;129;01mor\u001b[39;00m arr\u001b[38;5;241m.\u001b[39mdtype \u001b[38;5;241m==\u001b[39m \u001b[38;5;28mobject\u001b[39m \u001b[38;5;129;01mor\u001b[39;00m dtype \u001b[38;5;241m==\u001b[39m \u001b[38;5;28mobject\u001b[39m:\n\u001b[0;32m    132\u001b[0m     \u001b[38;5;66;03m# Explicit copy, or required since NumPy can't view from / to object.\u001b[39;00m\n\u001b[1;32m--> 133\u001b[0m     \u001b[38;5;28;01mreturn\u001b[39;00m \u001b[43marr\u001b[49m\u001b[38;5;241;43m.\u001b[39;49m\u001b[43mastype\u001b[49m\u001b[43m(\u001b[49m\u001b[43mdtype\u001b[49m\u001b[43m,\u001b[49m\u001b[43m \u001b[49m\u001b[43mcopy\u001b[49m\u001b[38;5;241;43m=\u001b[39;49m\u001b[38;5;28;43;01mTrue\u001b[39;49;00m\u001b[43m)\u001b[49m\n\u001b[0;32m    135\u001b[0m \u001b[38;5;28;01mreturn\u001b[39;00m arr\u001b[38;5;241m.\u001b[39mastype(dtype, copy\u001b[38;5;241m=\u001b[39mcopy)\n",
      "\u001b[1;31mTypeError\u001b[0m: int() argument must be a string, a bytes-like object or a real number, not 'NoneType'"
     ]
    },
    {
     "data": {
      "image/png": "[encoded data removed]",
      "text/plain": [
       "<Figure size 640x480 with 1 Axes>"
      ]
     },
     "metadata": {},
     "output_type": "display_data"
    }
   ],
   "source": [
    "for i, row in gdf_puntos.iterrows():\n",
    "    ors = row['id_os']\n",
    "    puntos = filtrar_os_y_quitar_caracteres(gdf_puntos, ors)\n",
    "    multipoint_gdf = puntos.copy()\n",
    "    puntos_individuales = crear_puntos_individuales(multipoint_gdf)\n",
    "    \n",
    "    lotes_solicidud = definir_lotes_solicitud(puntos_individuales)\n",
    "    lotes_siembra = definir_lotes_siembra(puntos_individuales)\n",
    "\n",
    "    \n",
    "    \n",
    "    # verificar si algun dataframe esta vacio\n",
    "    dfs = [df for df in [lotes_solicidud, lotes_siembra] if not df.empty]\n",
    "    # concatena los dfs no vacios\n",
    "    concat_plan = pd.concat(dfs, axis=0, ignore_index=True)\n",
    "    \n",
    "    plan = agregar_campos_faltantes(concat_plan)\n",
    "    #RECALCULAR EL AREA\n",
    "    plan['area'] = plan.geometry.area / 10000\n",
    "    \n",
    "    plan.rename(columns={'geometry': 'geom'}, inplace=True)\n",
    "    plan = plan.set_geometry(\"geom\")\n",
    "    plan['unidad_01'] = plan['unidad_01'].astype(int)\n",
    "    plan['unidad_03'] = plan['unidad_03'].astype(int)\n",
    "    plan['dias'] = plan['dias'].astype(int)\n",
    "    plan['os'] = plan['os'].astype(int)\n",
    "    plan['soca'] = plan['soca'].astype(int)\n",
    "    \n",
    "    \n",
    "    \n",
    "    plan['inst'] = plan['inst'].astype(int)\n",
    "    plan.to_postgis(\"parte_diario_ctrl_bio\", obtener_engine(), schema=\"drones_control_bio\", if_exists=\"append\")\n",
    "    \n",
    "    # CARGAR LOTES A AMIGOCLOUD\n",
    "    plan_os = obtener_parte_diario_por_id_os(ors)\n",
    "    crear_kmls(plan_os)\n",
    "    cargar_a_amigocloud(plan_os)\n",
    "    \n",
    "    marcar_como_procesado(ors)"
   ]
  },
  {
   "cell_type": "code",
   "execution_count": 12,
   "id": "a76c911b-0e63-44fa-89df-2c17ab5463f1",
   "metadata": {},
   "outputs": [
    {
     "ename": "NameError",
     "evalue": "name 'plan_os' is not defined",
     "output_type": "error",
     "traceback": [
      "\u001b[1;31m---------------------------------------------------------------------------\u001b[0m",
      "\u001b[1;31mNameError\u001b[0m                                 Traceback (most recent call last)",
      "Cell \u001b[1;32mIn[12], line 1\u001b[0m\n\u001b[1;32m----> 1\u001b[0m \u001b[43mplan_os\u001b[49m\n",
      "\u001b[1;31mNameError\u001b[0m: name 'plan_os' is not defined"
     ]
    }
   ],
   "source": [
    "plan_os"
   ]
  },
  {
   "cell_type": "code",
   "execution_count": null,
   "id": "83b3ceab-2847-4019-85b7-e88028b0f496",
   "metadata": {},
   "outputs": [],
   "source": []
  }
 ],
 "metadata": {
  "kernelspec": {
   "display_name": "Python 3 (ipykernel)",
   "language": "python",
   "name": "python3"
  },
  "language_info": {
   "codemirror_mode": {
    "name": "ipython",
    "version": 3
   },
   "file_extension": ".py",
   "mimetype": "text/x-python",
   "name": "python",
   "nbconvert_exporter": "python",
   "pygments_lexer": "ipython3",
   "version": "3.10.13"
  }
 },
 "nbformat": 4,
 "nbformat_minor": 5
}
