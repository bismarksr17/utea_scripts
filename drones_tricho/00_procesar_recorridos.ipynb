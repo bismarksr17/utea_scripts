{
 "cells": [
  {
   "cell_type": "code",
   "execution_count": 1,
   "id": "471a58e2-7e57-4c39-9f66-2901e67bad16",
   "metadata": {},
   "outputs": [],
   "source": [
    "import sys\n",
    "sys.path.append('..')\n",
    "from pymavlink import mavutil\n",
    "import matplotlib.pyplot as plt\n",
    "import pandas as pd\n",
    "import os\n",
    "import geopandas as gpd\n",
    "from shapely.geometry import Point, LineString\n",
    "\n",
    "from sqlalchemy import create_engine\n",
    "\n",
    "from config import RUTA_UNIDAD_ONE_DRIVE\n",
    "from config import RUTA_LOCAL_ONE_DRIVE\n",
    "from config import POSTGRES_UTEA\n",
    "\n",
    "RUTA_COMPLETA = os.path.join(RUTA_UNIDAD_ONE_DRIVE, RUTA_LOCAL_ONE_DRIVE)\n",
    "\n",
    "def obtener_engine():\n",
    "    return create_engine(\n",
    "        f\"postgresql+psycopg2://{POSTGRES_UTEA['USER']}:{POSTGRES_UTEA['PASSWORD']}@{POSTGRES_UTEA['HOST']}:{POSTGRES_UTEA['PORT']}/{POSTGRES_UTEA['DATABASE']}\"\n",
    "    )"
   ]
  },
  {
   "cell_type": "code",
   "execution_count": 21,
   "id": "2daa78ba-f5c9-44f1-b6b2-4640c8891024",
   "metadata": {},
   "outputs": [],
   "source": [
    "vehiculo = 'DA01'"
   ]
  },
  {
   "cell_type": "code",
   "execution_count": 22,
   "id": "504d15e2-1b8c-45c8-8f0a-b574cd569e93",
   "metadata": {},
   "outputs": [
    {
     "data": {
      "text/plain": [
       "188"
      ]
     },
     "execution_count": 22,
     "metadata": {},
     "output_type": "execute_result"
    }
   ],
   "source": [
    "if vehiculo == 'DA01':\n",
    "    path_log = RUTA_UNIDAD_ONE_DRIVE + r'\\Ingenio Azucarero Guabira S.A\\UTEA - SEMANAL - EQUIPO AVIACION UTEA\\Trichogramma\\2025\\TLOGS\\ALTA_01'\n",
    "elif vehiculo == 'DA02':\n",
    "    path_log = RUTA_UNIDAD_ONE_DRIVE + r'\\Ingenio Azucarero Guabira S.A\\UTEA - SEMANAL - EQUIPO AVIACION UTEA\\Trichogramma\\2025\\TLOGS\\ALTA_02'\n",
    "elif vehiculo == 'DA03':\n",
    "    path_log = RUTA_UNIDAD_ONE_DRIVE + r'\\Ingenio Azucarero Guabira S.A\\UTEA - SEMANAL - EQUIPO AVIACION UTEA\\Trichogramma\\2025\\TLOGS\\ALTA_03'\n",
    "contenido = os.listdir(path_log)\n",
    "len(contenido)"
   ]
  },
  {
   "cell_type": "code",
   "execution_count": 23,
   "id": "8a2ff318-7c9b-4452-8783-26cdae863e40",
   "metadata": {},
   "outputs": [],
   "source": [
    "gdf_rec = gpd.read_postgis(\n",
    "    \"SELECT * FROM drones_control_bio.recorridos_lib\", \n",
    "    obtener_engine(), \n",
    "    geom_col='geom'  # columna con la geometría\n",
    ")"
   ]
  },
  {
   "cell_type": "code",
   "execution_count": 24,
   "id": "a69bad76-10e4-4a5e-b8d8-cefc1997c535",
   "metadata": {},
   "outputs": [
    {
     "data": {
      "text/html": [
       "<div>\n",
       "<style scoped>\n",
       "    .dataframe tbody tr th:only-of-type {\n",
       "        vertical-align: middle;\n",
       "    }\n",
       "\n",
       "    .dataframe tbody tr th {\n",
       "        vertical-align: top;\n",
       "    }\n",
       "\n",
       "    .dataframe thead th {\n",
       "        text-align: right;\n",
       "    }\n",
       "</style>\n",
       "<table border=\"1\" class=\"dataframe\">\n",
       "  <thead>\n",
       "    <tr style=\"text-align: right;\">\n",
       "      <th></th>\n",
       "      <th>id</th>\n",
       "      <th>geom</th>\n",
       "      <th>idd</th>\n",
       "      <th>nombre</th>\n",
       "      <th>vehiculo</th>\n",
       "      <th>num_vert</th>\n",
       "      <th>asignado</th>\n",
       "    </tr>\n",
       "  </thead>\n",
       "  <tbody>\n",
       "    <tr>\n",
       "      <th>0</th>\n",
       "      <td>1</td>\n",
       "      <td>MULTILINESTRING ((471873.745 8084797.248, 4718...</td>\n",
       "      <td>-1</td>\n",
       "      <td>2025-05-02 08-32-28.tlog</td>\n",
       "      <td>DA02</td>\n",
       "      <td>2517.0</td>\n",
       "      <td>ORIGINAL</td>\n",
       "    </tr>\n",
       "    <tr>\n",
       "      <th>1</th>\n",
       "      <td>2</td>\n",
       "      <td>MULTILINESTRING ((478886.299 8093597.535, 4788...</td>\n",
       "      <td>-1</td>\n",
       "      <td>2025-05-05 16-16-47.tlog</td>\n",
       "      <td>DA02</td>\n",
       "      <td>1056.0</td>\n",
       "      <td>ORIGINAL</td>\n",
       "    </tr>\n",
       "    <tr>\n",
       "      <th>2</th>\n",
       "      <td>247</td>\n",
       "      <td>MULTILINESTRING ((474276.861 8075803.608, 4742...</td>\n",
       "      <td>616</td>\n",
       "      <td>2025-08-12 03-00-11.tlog</td>\n",
       "      <td>DA02</td>\n",
       "      <td>1710.0</td>\n",
       "      <td>None</td>\n",
       "    </tr>\n",
       "    <tr>\n",
       "      <th>3</th>\n",
       "      <td>248</td>\n",
       "      <td>MULTILINESTRING ((473445.600 8076788.235, 4734...</td>\n",
       "      <td>616</td>\n",
       "      <td>2025-08-12 03-45-43.tlog</td>\n",
       "      <td>DA02</td>\n",
       "      <td>1605.0</td>\n",
       "      <td>None</td>\n",
       "    </tr>\n",
       "    <tr>\n",
       "      <th>4</th>\n",
       "      <td>249</td>\n",
       "      <td>MULTILINESTRING ((469649.803 8090516.827, 4696...</td>\n",
       "      <td>617</td>\n",
       "      <td>2025-08-12 04-25-58.tlog</td>\n",
       "      <td>DA02</td>\n",
       "      <td>1988.0</td>\n",
       "      <td>None</td>\n",
       "    </tr>\n",
       "  </tbody>\n",
       "</table>\n",
       "</div>"
      ],
      "text/plain": [
       "    id                                               geom  idd  \\\n",
       "0    1  MULTILINESTRING ((471873.745 8084797.248, 4718...   -1   \n",
       "1    2  MULTILINESTRING ((478886.299 8093597.535, 4788...   -1   \n",
       "2  247  MULTILINESTRING ((474276.861 8075803.608, 4742...  616   \n",
       "3  248  MULTILINESTRING ((473445.600 8076788.235, 4734...  616   \n",
       "4  249  MULTILINESTRING ((469649.803 8090516.827, 4696...  617   \n",
       "\n",
       "                     nombre vehiculo  num_vert  asignado  \n",
       "0  2025-05-02 08-32-28.tlog     DA02    2517.0  ORIGINAL  \n",
       "1  2025-05-05 16-16-47.tlog     DA02    1056.0  ORIGINAL  \n",
       "2  2025-08-12 03-00-11.tlog     DA02    1710.0      None  \n",
       "3  2025-08-12 03-45-43.tlog     DA02    1605.0      None  \n",
       "4  2025-08-12 04-25-58.tlog     DA02    1988.0      None  "
      ]
     },
     "execution_count": 24,
     "metadata": {},
     "output_type": "execute_result"
    }
   ],
   "source": [
    "gdf_rec.head()"
   ]
  },
  {
   "cell_type": "code",
   "execution_count": 25,
   "id": "1c7b1a22-25b1-424e-b4f7-04fe47fb3c4b",
   "metadata": {},
   "outputs": [
    {
     "data": {
      "text/plain": [
       "4"
      ]
     },
     "execution_count": 25,
     "metadata": {},
     "output_type": "execute_result"
    }
   ],
   "source": [
    "# Filtrar la lista 'contenido' para excluir elementos que están en la columna 'nombre' del GeoDataFrame\n",
    "contenido_filtrado = [item for item in contenido if item not in gdf_rec['nombre'].values]\n",
    "len(contenido_filtrado)"
   ]
  },
  {
   "cell_type": "code",
   "execution_count": 26,
   "id": "d3d97033-af2e-48d1-9452-1127f5064bbd",
   "metadata": {},
   "outputs": [
    {
     "data": {
      "text/plain": [
       "['2025-09-26 22-09-20.tlog',\n",
       " '2025-09-27 01-07-19.tlog',\n",
       " '2025-09-27 01-17-47.tlog',\n",
       " '2025-09-27 02-21-08.tlog']"
      ]
     },
     "execution_count": 26,
     "metadata": {},
     "output_type": "execute_result"
    }
   ],
   "source": [
    "contenido_filtrado"
   ]
  },
  {
   "cell_type": "code",
   "execution_count": 27,
   "id": "25c4c0f2-dffa-435d-a8d4-d13754a772bf",
   "metadata": {},
   "outputs": [],
   "source": [
    "def leer_logs(lista_logs):\n",
    "    list_geo = []\n",
    "    list_name = []\n",
    "    for i in lista_logs:\n",
    "        log = path_log + '/' + i\n",
    "        \n",
    "        name = i\n",
    "        \n",
    "        mlog = mavutil.mavlink_connection(log)\n",
    "        lats = []\n",
    "        lons = []\n",
    "        while True:\n",
    "            msg = mlog.recv_match()\n",
    "            if not msg:\n",
    "                break\n",
    "            # Ejemplo de procesamiento de mensaje\n",
    "            if msg.get_type() == 'GLOBAL_POSITION_INT':\n",
    "                lat = msg.lat / 1e7  # Latitud en grados\n",
    "                lon = msg.lon / 1e7  # Longitud en grados\n",
    "                lats.append(lat)\n",
    "                lons.append(lon)\n",
    "\n",
    "        coors = {'lat':lats, 'lon':lons}\n",
    "        df = pd.DataFrame(coors)\n",
    "        \n",
    "        geometry = [Point(xy) for xy in zip(df['lon'], df['lat'])]\n",
    "        line = LineString(geometry)\n",
    "        list_geo.append(line)\n",
    "        list_name.append(name)\n",
    "    return (list_geo, list_name)"
   ]
  },
  {
   "cell_type": "code",
   "execution_count": 28,
   "id": "642399de-4321-4e94-bcf9-8c39531b15a0",
   "metadata": {},
   "outputs": [
    {
     "data": {
      "text/plain": [
       "[<LINESTRING (0 0, 0 0, 0 0, -63.167 -17.214, -63.167 -17.214, -63.167 -17.21...>,\n",
       " <LINESTRING (-63.17 -17.276, -63.17 -17.276, -63.17 -17.276, -63.17 -17.276,...>,\n",
       " <LINESTRING (-63.165 -17.281, -63.165 -17.281, -63.165 -17.281, -63.165 -17....>,\n",
       " <LINESTRING (-63.167 -17.284, -63.167 -17.284, -63.167 -17.284, -63.167 -17....>]"
      ]
     },
     "execution_count": 28,
     "metadata": {},
     "output_type": "execute_result"
    }
   ],
   "source": [
    "lineas, names = leer_logs(contenido_filtrado)\n",
    "lineas"
   ]
  },
  {
   "cell_type": "code",
   "execution_count": 29,
   "id": "bda63ffa-beea-494c-a66f-d27660159e20",
   "metadata": {},
   "outputs": [
    {
     "data": {
      "text/html": [
       "<div>\n",
       "<style scoped>\n",
       "    .dataframe tbody tr th:only-of-type {\n",
       "        vertical-align: middle;\n",
       "    }\n",
       "\n",
       "    .dataframe tbody tr th {\n",
       "        vertical-align: top;\n",
       "    }\n",
       "\n",
       "    .dataframe thead th {\n",
       "        text-align: right;\n",
       "    }\n",
       "</style>\n",
       "<table border=\"1\" class=\"dataframe\">\n",
       "  <thead>\n",
       "    <tr style=\"text-align: right;\">\n",
       "      <th></th>\n",
       "      <th>nombre</th>\n",
       "      <th>geometry</th>\n",
       "    </tr>\n",
       "  </thead>\n",
       "  <tbody>\n",
       "    <tr>\n",
       "      <th>0</th>\n",
       "      <td>2025-09-26 22-09-20.tlog</td>\n",
       "      <td>LINESTRING (0.00000 0.00000, 0.00000 0.00000, ...</td>\n",
       "    </tr>\n",
       "    <tr>\n",
       "      <th>1</th>\n",
       "      <td>2025-09-27 01-07-19.tlog</td>\n",
       "      <td>LINESTRING (-63.16980 -17.27563, -63.16980 -17...</td>\n",
       "    </tr>\n",
       "    <tr>\n",
       "      <th>2</th>\n",
       "      <td>2025-09-27 01-17-47.tlog</td>\n",
       "      <td>LINESTRING (-63.16482 -17.28099, -63.16482 -17...</td>\n",
       "    </tr>\n",
       "  </tbody>\n",
       "</table>\n",
       "</div>"
      ],
      "text/plain": [
       "                     nombre                                           geometry\n",
       "0  2025-09-26 22-09-20.tlog  LINESTRING (0.00000 0.00000, 0.00000 0.00000, ...\n",
       "1  2025-09-27 01-07-19.tlog  LINESTRING (-63.16980 -17.27563, -63.16980 -17...\n",
       "2  2025-09-27 01-17-47.tlog  LINESTRING (-63.16482 -17.28099, -63.16482 -17..."
      ]
     },
     "execution_count": 29,
     "metadata": {},
     "output_type": "execute_result"
    }
   ],
   "source": [
    "# Crear un GeoDataFrame con los LineStrings y sus nombres\n",
    "gdf_lines = gpd.GeoDataFrame({'nombre': names, 'geometry': lineas}, crs=\"EPSG:4326\")\n",
    "gdf_lines.head(3)"
   ]
  },
  {
   "cell_type": "code",
   "execution_count": 30,
   "id": "7037a99d-9c1b-4596-9be7-615936ec90b1",
   "metadata": {},
   "outputs": [],
   "source": [
    "# Función para contar la cantidad de coordenadas en una geometría de tipo LINESTRING\n",
    "def contar_coordenadas(linea):\n",
    "    return len(linea.coords)\n",
    "\n",
    "# Función para dividir y limpiar las líneas\n",
    "def dividir_y_limpiar_linea(linea):\n",
    "    puntos = list(linea.coords)\n",
    "    nuevas_lineas = []\n",
    "    nueva_linea = []\n",
    "    \n",
    "    for punto in puntos:\n",
    "        if punto != (0, 0):\n",
    "            nueva_linea.append(punto)\n",
    "        else:\n",
    "            if nueva_linea:\n",
    "                nuevas_lineas.append(LineString(nueva_linea))\n",
    "                nueva_linea = []\n",
    "    \n",
    "    if nueva_linea:\n",
    "        nuevas_lineas.append(LineString(nueva_linea))\n",
    "    \n",
    "    return nuevas_lineas"
   ]
  },
  {
   "cell_type": "code",
   "execution_count": 31,
   "id": "72a0e2e9-b97f-41ae-8358-e8fde8272cdf",
   "metadata": {},
   "outputs": [],
   "source": [
    "# Crear una lista para las nuevas líneas y nombres\n",
    "nuevas_lineas = []\n",
    "nuevos_nombres = []\n",
    "for idx, row in gdf_lines.iterrows():\n",
    "    lineas_divididas = dividir_y_limpiar_linea(row.geometry)\n",
    "    for linea in lineas_divididas:\n",
    "        nuevas_lineas.append(linea)\n",
    "        nuevos_nombres.append(row['nombre'])"
   ]
  },
  {
   "cell_type": "code",
   "execution_count": 32,
   "id": "837a723a-f3b0-491c-bbc4-685a6157407a",
   "metadata": {},
   "outputs": [],
   "source": [
    "# Crear un nuevo GeoDataFrame con las nuevas líneas\n",
    "gdf_lines = gpd.GeoDataFrame({'nombre': nuevos_nombres, 'geometry': nuevas_lineas}, crs=\"EPSG:4326\")"
   ]
  },
  {
   "cell_type": "code",
   "execution_count": 33,
   "id": "ba7e2a2e-e1fd-4233-a540-998f9d135469",
   "metadata": {},
   "outputs": [
    {
     "data": {
      "text/html": [
       "<div>\n",
       "<style scoped>\n",
       "    .dataframe tbody tr th:only-of-type {\n",
       "        vertical-align: middle;\n",
       "    }\n",
       "\n",
       "    .dataframe tbody tr th {\n",
       "        vertical-align: top;\n",
       "    }\n",
       "\n",
       "    .dataframe thead th {\n",
       "        text-align: right;\n",
       "    }\n",
       "</style>\n",
       "<table border=\"1\" class=\"dataframe\">\n",
       "  <thead>\n",
       "    <tr style=\"text-align: right;\">\n",
       "      <th></th>\n",
       "      <th>nombre</th>\n",
       "      <th>geometry</th>\n",
       "      <th>num_vert</th>\n",
       "      <th>vehiculo</th>\n",
       "    </tr>\n",
       "  </thead>\n",
       "  <tbody>\n",
       "    <tr>\n",
       "      <th>0</th>\n",
       "      <td>2025-09-26 22-09-20.tlog</td>\n",
       "      <td>LINESTRING (-63.16698 -17.21428, -63.16697 -17...</td>\n",
       "      <td>1392</td>\n",
       "      <td>DA01</td>\n",
       "    </tr>\n",
       "    <tr>\n",
       "      <th>1</th>\n",
       "      <td>2025-09-26 22-09-20.tlog</td>\n",
       "      <td>LINESTRING (-63.14205 -17.16782, -63.14205 -17...</td>\n",
       "      <td>1727</td>\n",
       "      <td>DA01</td>\n",
       "    </tr>\n",
       "    <tr>\n",
       "      <th>2</th>\n",
       "      <td>2025-09-26 22-09-20.tlog</td>\n",
       "      <td>LINESTRING (-63.08554 -17.15796, -63.08556 -17...</td>\n",
       "      <td>2924</td>\n",
       "      <td>DA01</td>\n",
       "    </tr>\n",
       "  </tbody>\n",
       "</table>\n",
       "</div>"
      ],
      "text/plain": [
       "                     nombre  \\\n",
       "0  2025-09-26 22-09-20.tlog   \n",
       "1  2025-09-26 22-09-20.tlog   \n",
       "2  2025-09-26 22-09-20.tlog   \n",
       "\n",
       "                                            geometry  num_vert vehiculo  \n",
       "0  LINESTRING (-63.16698 -17.21428, -63.16697 -17...      1392     DA01  \n",
       "1  LINESTRING (-63.14205 -17.16782, -63.14205 -17...      1727     DA01  \n",
       "2  LINESTRING (-63.08554 -17.15796, -63.08556 -17...      2924     DA01  "
      ]
     },
     "execution_count": 33,
     "metadata": {},
     "output_type": "execute_result"
    }
   ],
   "source": [
    "gdf_lines['num_vert'] = gdf_lines['geometry'].apply(contar_coordenadas)\n",
    "gdf_lines['vehiculo'] = vehiculo\n",
    "gdf_lines.head(3)"
   ]
  },
  {
   "cell_type": "code",
   "execution_count": 34,
   "id": "5eb9225d-10fe-40d0-9dd1-0b6ecc7cfe0a",
   "metadata": {},
   "outputs": [
    {
     "data": {
      "text/plain": [
       "<Axes: >"
      ]
     },
     "execution_count": 34,
     "metadata": {},
     "output_type": "execute_result"
    },
    {
     "data": {
      "image/png": "[encoded data removed]",
      "text/plain": [
       "<Figure size 640x480 with 1 Axes>"
      ]
     },
     "metadata": {},
     "output_type": "display_data"
    }
   ],
   "source": [
    "gdf_lines.plot()"
   ]
  },
  {
   "cell_type": "code",
   "execution_count": 35,
   "id": "40c12d33-5333-42bc-b844-9a4c33aa6560",
   "metadata": {},
   "outputs": [],
   "source": [
    "gdf_lines.crs = \"EPSG:4326\"\n",
    "gdf_lines_utm = gdf_lines.to_crs(epsg=32720)"
   ]
  },
  {
   "cell_type": "code",
   "execution_count": 36,
   "id": "ce56fcc4-a23c-4fe8-a162-08f9dc13c892",
   "metadata": {},
   "outputs": [
    {
     "data": {
      "text/plain": [
       "<Axes: >"
      ]
     },
     "execution_count": 36,
     "metadata": {},
     "output_type": "execute_result"
    },
    {
     "data": {
      "image/png": "[encoded data removed]",
      "text/plain": [
       "<Figure size 640x480 with 1 Axes>"
      ]
     },
     "metadata": {},
     "output_type": "display_data"
    }
   ],
   "source": [
    "gdf_lines_utm.plot()"
   ]
  },
  {
   "cell_type": "code",
   "execution_count": 37,
   "id": "3abd2055-04d0-493d-a9ee-d4a79233b8d6",
   "metadata": {},
   "outputs": [],
   "source": [
    "gdf_lines_utm['idd'] = 0\n",
    "gdf_lines_utm = gdf_lines_utm.rename_geometry(\"geom\")"
   ]
  },
  {
   "cell_type": "code",
   "execution_count": 38,
   "id": "dbe78ea5-dfcc-49d0-8d97-bf191c7a9d97",
   "metadata": {},
   "outputs": [
    {
     "data": {
      "text/html": [
       "<div>\n",
       "<style scoped>\n",
       "    .dataframe tbody tr th:only-of-type {\n",
       "        vertical-align: middle;\n",
       "    }\n",
       "\n",
       "    .dataframe tbody tr th {\n",
       "        vertical-align: top;\n",
       "    }\n",
       "\n",
       "    .dataframe thead th {\n",
       "        text-align: right;\n",
       "    }\n",
       "</style>\n",
       "<table border=\"1\" class=\"dataframe\">\n",
       "  <thead>\n",
       "    <tr style=\"text-align: right;\">\n",
       "      <th></th>\n",
       "      <th>nombre</th>\n",
       "      <th>geom</th>\n",
       "      <th>num_vert</th>\n",
       "      <th>vehiculo</th>\n",
       "      <th>idd</th>\n",
       "    </tr>\n",
       "  </thead>\n",
       "  <tbody>\n",
       "    <tr>\n",
       "      <th>0</th>\n",
       "      <td>2025-09-26 22-09-20.tlog</td>\n",
       "      <td>LINESTRING (482246.483 8096732.822, 482247.058...</td>\n",
       "      <td>1392</td>\n",
       "      <td>DA01</td>\n",
       "      <td>0</td>\n",
       "    </tr>\n",
       "    <tr>\n",
       "      <th>1</th>\n",
       "      <td>2025-09-26 22-09-20.tlog</td>\n",
       "      <td>LINESTRING (484893.343 8101874.463, 484893.353...</td>\n",
       "      <td>1727</td>\n",
       "      <td>DA01</td>\n",
       "      <td>0</td>\n",
       "    </tr>\n",
       "    <tr>\n",
       "      <th>2</th>\n",
       "      <td>2025-09-26 22-09-20.tlog</td>\n",
       "      <td>LINESTRING (490902.005 8102968.358, 490900.282...</td>\n",
       "      <td>2924</td>\n",
       "      <td>DA01</td>\n",
       "      <td>0</td>\n",
       "    </tr>\n",
       "    <tr>\n",
       "      <th>3</th>\n",
       "      <td>2025-09-26 22-09-20.tlog</td>\n",
       "      <td>LINESTRING (489222.836 8101932.016, 489222.815...</td>\n",
       "      <td>801</td>\n",
       "      <td>DA01</td>\n",
       "      <td>0</td>\n",
       "    </tr>\n",
       "    <tr>\n",
       "      <th>4</th>\n",
       "      <td>2025-09-26 22-09-20.tlog</td>\n",
       "      <td>LINESTRING (490955.316 8098926.435, 490955.284...</td>\n",
       "      <td>1388</td>\n",
       "      <td>DA01</td>\n",
       "      <td>0</td>\n",
       "    </tr>\n",
       "    <tr>\n",
       "      <th>5</th>\n",
       "      <td>2025-09-26 22-09-20.tlog</td>\n",
       "      <td>LINESTRING (487700.220 8098656.876, 487700.145...</td>\n",
       "      <td>2884</td>\n",
       "      <td>DA01</td>\n",
       "      <td>0</td>\n",
       "    </tr>\n",
       "    <tr>\n",
       "      <th>6</th>\n",
       "      <td>2025-09-26 22-09-20.tlog</td>\n",
       "      <td>LINESTRING (487493.892 8097765.670, 487493.892...</td>\n",
       "      <td>1604</td>\n",
       "      <td>DA01</td>\n",
       "      <td>0</td>\n",
       "    </tr>\n",
       "    <tr>\n",
       "      <th>7</th>\n",
       "      <td>2025-09-26 22-09-20.tlog</td>\n",
       "      <td>LINESTRING (488444.460 8097759.234, 488445.917...</td>\n",
       "      <td>1174</td>\n",
       "      <td>DA01</td>\n",
       "      <td>0</td>\n",
       "    </tr>\n",
       "    <tr>\n",
       "      <th>8</th>\n",
       "      <td>2025-09-26 22-09-20.tlog</td>\n",
       "      <td>LINESTRING (488062.840 8097762.534, 488062.840...</td>\n",
       "      <td>2094</td>\n",
       "      <td>DA01</td>\n",
       "      <td>0</td>\n",
       "    </tr>\n",
       "    <tr>\n",
       "      <th>9</th>\n",
       "      <td>2025-09-27 01-07-19.tlog</td>\n",
       "      <td>LINESTRING (481952.226 8089945.076, 481952.204...</td>\n",
       "      <td>888</td>\n",
       "      <td>DA01</td>\n",
       "      <td>0</td>\n",
       "    </tr>\n",
       "    <tr>\n",
       "      <th>10</th>\n",
       "      <td>2025-09-27 01-07-19.tlog</td>\n",
       "      <td>LINESTRING (481966.644 8089938.617, 481966.644...</td>\n",
       "      <td>827</td>\n",
       "      <td>DA01</td>\n",
       "      <td>0</td>\n",
       "    </tr>\n",
       "    <tr>\n",
       "      <th>11</th>\n",
       "      <td>2025-09-27 01-07-19.tlog</td>\n",
       "      <td>LINESTRING (488625.416 8093071.654, 488625.533...</td>\n",
       "      <td>1063</td>\n",
       "      <td>DA01</td>\n",
       "      <td>0</td>\n",
       "    </tr>\n",
       "    <tr>\n",
       "      <th>12</th>\n",
       "      <td>2025-09-27 01-07-19.tlog</td>\n",
       "      <td>LINESTRING (487155.021 8090089.072, 487155.223...</td>\n",
       "      <td>3020</td>\n",
       "      <td>DA01</td>\n",
       "      <td>0</td>\n",
       "    </tr>\n",
       "    <tr>\n",
       "      <th>13</th>\n",
       "      <td>2025-09-27 01-07-19.tlog</td>\n",
       "      <td>LINESTRING (487157.424 8090086.607, 487157.424...</td>\n",
       "      <td>1079</td>\n",
       "      <td>DA01</td>\n",
       "      <td>0</td>\n",
       "    </tr>\n",
       "    <tr>\n",
       "      <th>14</th>\n",
       "      <td>2025-09-27 01-07-19.tlog</td>\n",
       "      <td>LINESTRING (493130.177 8096785.973, 493130.219...</td>\n",
       "      <td>854</td>\n",
       "      <td>DA01</td>\n",
       "      <td>0</td>\n",
       "    </tr>\n",
       "    <tr>\n",
       "      <th>15</th>\n",
       "      <td>2025-09-27 01-07-19.tlog</td>\n",
       "      <td>LINESTRING (492197.593 8096569.662, 492197.625...</td>\n",
       "      <td>2580</td>\n",
       "      <td>DA01</td>\n",
       "      <td>0</td>\n",
       "    </tr>\n",
       "    <tr>\n",
       "      <th>16</th>\n",
       "      <td>2025-09-27 01-17-47.tlog</td>\n",
       "      <td>LINESTRING (482482.625 8089353.076, 482482.625...</td>\n",
       "      <td>453</td>\n",
       "      <td>DA01</td>\n",
       "      <td>0</td>\n",
       "    </tr>\n",
       "    <tr>\n",
       "      <th>17</th>\n",
       "      <td>2025-09-27 02-21-08.tlog</td>\n",
       "      <td>LINESTRING (482212.624 8089055.419, 482216.545...</td>\n",
       "      <td>3661</td>\n",
       "      <td>DA01</td>\n",
       "      <td>0</td>\n",
       "    </tr>\n",
       "  </tbody>\n",
       "</table>\n",
       "</div>"
      ],
      "text/plain": [
       "                      nombre  \\\n",
       "0   2025-09-26 22-09-20.tlog   \n",
       "1   2025-09-26 22-09-20.tlog   \n",
       "2   2025-09-26 22-09-20.tlog   \n",
       "3   2025-09-26 22-09-20.tlog   \n",
       "4   2025-09-26 22-09-20.tlog   \n",
       "5   2025-09-26 22-09-20.tlog   \n",
       "6   2025-09-26 22-09-20.tlog   \n",
       "7   2025-09-26 22-09-20.tlog   \n",
       "8   2025-09-26 22-09-20.tlog   \n",
       "9   2025-09-27 01-07-19.tlog   \n",
       "10  2025-09-27 01-07-19.tlog   \n",
       "11  2025-09-27 01-07-19.tlog   \n",
       "12  2025-09-27 01-07-19.tlog   \n",
       "13  2025-09-27 01-07-19.tlog   \n",
       "14  2025-09-27 01-07-19.tlog   \n",
       "15  2025-09-27 01-07-19.tlog   \n",
       "16  2025-09-27 01-17-47.tlog   \n",
       "17  2025-09-27 02-21-08.tlog   \n",
       "\n",
       "                                                 geom  num_vert vehiculo  idd  \n",
       "0   LINESTRING (482246.483 8096732.822, 482247.058...      1392     DA01    0  \n",
       "1   LINESTRING (484893.343 8101874.463, 484893.353...      1727     DA01    0  \n",
       "2   LINESTRING (490902.005 8102968.358, 490900.282...      2924     DA01    0  \n",
       "3   LINESTRING (489222.836 8101932.016, 489222.815...       801     DA01    0  \n",
       "4   LINESTRING (490955.316 8098926.435, 490955.284...      1388     DA01    0  \n",
       "5   LINESTRING (487700.220 8098656.876, 487700.145...      2884     DA01    0  \n",
       "6   LINESTRING (487493.892 8097765.670, 487493.892...      1604     DA01    0  \n",
       "7   LINESTRING (488444.460 8097759.234, 488445.917...      1174     DA01    0  \n",
       "8   LINESTRING (488062.840 8097762.534, 488062.840...      2094     DA01    0  \n",
       "9   LINESTRING (481952.226 8089945.076, 481952.204...       888     DA01    0  \n",
       "10  LINESTRING (481966.644 8089938.617, 481966.644...       827     DA01    0  \n",
       "11  LINESTRING (488625.416 8093071.654, 488625.533...      1063     DA01    0  \n",
       "12  LINESTRING (487155.021 8090089.072, 487155.223...      3020     DA01    0  \n",
       "13  LINESTRING (487157.424 8090086.607, 487157.424...      1079     DA01    0  \n",
       "14  LINESTRING (493130.177 8096785.973, 493130.219...       854     DA01    0  \n",
       "15  LINESTRING (492197.593 8096569.662, 492197.625...      2580     DA01    0  \n",
       "16  LINESTRING (482482.625 8089353.076, 482482.625...       453     DA01    0  \n",
       "17  LINESTRING (482212.624 8089055.419, 482216.545...      3661     DA01    0  "
      ]
     },
     "execution_count": 38,
     "metadata": {},
     "output_type": "execute_result"
    }
   ],
   "source": [
    "gdf_lines_utm"
   ]
  },
  {
   "cell_type": "code",
   "execution_count": 39,
   "id": "90e11d1b-bbab-414c-8f2f-d1b4080530af",
   "metadata": {},
   "outputs": [],
   "source": [
    "gdf_lines_utm.to_postgis(\n",
    "    name=\"recorridos_lib\",\n",
    "    schema=\"drones_control_bio\",\n",
    "    con=obtener_engine(),\n",
    "    if_exists=\"append\",   # usa \"replace\" si quieres sobrescribir todo\n",
    "    index=False\n",
    ")"
   ]
  },
  {
   "cell_type": "code",
   "execution_count": null,
   "id": "cef4cbba-742a-43c0-9550-15ef70d47704",
   "metadata": {},
   "outputs": [],
   "source": []
  },
  {
   "cell_type": "code",
   "execution_count": null,
   "id": "00672c74-7712-4f89-9df1-491cff2aeae4",
   "metadata": {},
   "outputs": [],
   "source": []
  },
  {
   "cell_type": "code",
   "execution_count": null,
   "id": "898f8316-e785-4e3e-83c6-fde292c68b1f",
   "metadata": {},
   "outputs": [],
   "source": []
  }
 ],
 "metadata": {
  "kernelspec": {
   "display_name": "Python 3 (ipykernel)",
   "language": "python",
   "name": "python3"
  },
  "language_info": {
   "codemirror_mode": {
    "name": "ipython",
    "version": 3
   },
   "file_extension": ".py",
   "mimetype": "text/x-python",
   "name": "python",
   "nbconvert_exporter": "python",
   "pygments_lexer": "ipython3",
   "version": "3.10.13"
  }
 },
 "nbformat": 4,
 "nbformat_minor": 5
}
