{
 "cells": [
  {
   "cell_type": "code",
   "execution_count": 60,
   "id": "471a58e2-7e57-4c39-9f66-2901e67bad16",
   "metadata": {},
   "outputs": [],
   "source": [
    "import sys\n",
    "sys.path.append('..')\n",
    "from pymavlink import mavutil\n",
    "import matplotlib.pyplot as plt\n",
    "import pandas as pd\n",
    "import os\n",
    "import geopandas as gpd\n",
    "from shapely.geometry import Point, LineString\n",
    "\n",
    "from sqlalchemy import create_engine\n",
    "\n",
    "from config import RUTA_UNIDAD_ONE_DRIVE\n",
    "from config import RUTA_LOCAL_ONE_DRIVE\n",
    "from config import POSTGRES_UTEA\n",
    "\n",
    "RUTA_COMPLETA = os.path.join(RUTA_UNIDAD_ONE_DRIVE, RUTA_LOCAL_ONE_DRIVE)\n",
    "\n",
    "def obtener_engine():\n",
    "    return create_engine(\n",
    "        f\"postgresql+psycopg2://{POSTGRES_UTEA['USER']}:{POSTGRES_UTEA['PASSWORD']}@{POSTGRES_UTEA['HOST']}:{POSTGRES_UTEA['PORT']}/{POSTGRES_UTEA['DATABASE']}\"\n",
    "    )"
   ]
  },
  {
   "cell_type": "code",
   "execution_count": 61,
   "id": "2daa78ba-f5c9-44f1-b6b2-4640c8891024",
   "metadata": {},
   "outputs": [],
   "source": [
    "vehiculo = 'DA02'"
   ]
  },
  {
   "cell_type": "code",
   "execution_count": 62,
   "id": "504d15e2-1b8c-45c8-8f0a-b574cd569e93",
   "metadata": {},
   "outputs": [
    {
     "data": {
      "text/plain": [
       "160"
      ]
     },
     "execution_count": 62,
     "metadata": {},
     "output_type": "execute_result"
    }
   ],
   "source": [
    "if vehiculo == 'DA01':\n",
    "    path_log = RUTA_UNIDAD_ONE_DRIVE + r'\\Ingenio Azucarero Guabira S.A\\UTEA - SEMANAL - EQUIPO AVIACION UTEA\\Trichogramma\\2025\\TLOGS\\ALTA_01'\n",
    "elif vehiculo == 'DA02':\n",
    "    path_log = RUTA_UNIDAD_ONE_DRIVE + r'\\Ingenio Azucarero Guabira S.A\\UTEA - SEMANAL - EQUIPO AVIACION UTEA\\Trichogramma\\2025\\TLOGS\\ALTA_02'\n",
    "elif vehiculo == 'DA03':\n",
    "    path_log = RUTA_UNIDAD_ONE_DRIVE + r'\\Ingenio Azucarero Guabira S.A\\UTEA - SEMANAL - EQUIPO AVIACION UTEA\\Trichogramma\\2025\\TLOGS\\ALTA_03'\n",
    "contenido = os.listdir(path_log)\n",
    "len(contenido)"
   ]
  },
  {
   "cell_type": "code",
   "execution_count": 63,
   "id": "8a2ff318-7c9b-4452-8783-26cdae863e40",
   "metadata": {},
   "outputs": [],
   "source": [
    "gdf_rec = gpd.read_postgis(\n",
    "    \"SELECT * FROM drones_control_bio.recorridos_lib\", \n",
    "    obtener_engine(), \n",
    "    geom_col='geom'  # columna con la geometría\n",
    ")"
   ]
  },
  {
   "cell_type": "code",
   "execution_count": 64,
   "id": "a69bad76-10e4-4a5e-b8d8-cefc1997c535",
   "metadata": {},
   "outputs": [
    {
     "data": {
      "text/html": [
       "<div>\n",
       "<style scoped>\n",
       "    .dataframe tbody tr th:only-of-type {\n",
       "        vertical-align: middle;\n",
       "    }\n",
       "\n",
       "    .dataframe tbody tr th {\n",
       "        vertical-align: top;\n",
       "    }\n",
       "\n",
       "    .dataframe thead th {\n",
       "        text-align: right;\n",
       "    }\n",
       "</style>\n",
       "<table border=\"1\" class=\"dataframe\">\n",
       "  <thead>\n",
       "    <tr style=\"text-align: right;\">\n",
       "      <th></th>\n",
       "      <th>id</th>\n",
       "      <th>geom</th>\n",
       "      <th>idd</th>\n",
       "      <th>nombre</th>\n",
       "      <th>vehiculo</th>\n",
       "      <th>num_vert</th>\n",
       "      <th>asignado</th>\n",
       "    </tr>\n",
       "  </thead>\n",
       "  <tbody>\n",
       "    <tr>\n",
       "      <th>0</th>\n",
       "      <td>1</td>\n",
       "      <td>MULTILINESTRING ((471873.745 8084797.248, 4718...</td>\n",
       "      <td>-1</td>\n",
       "      <td>2025-05-02 08-32-28.tlog</td>\n",
       "      <td>DA02</td>\n",
       "      <td>2517.0</td>\n",
       "      <td>ORIGINAL</td>\n",
       "    </tr>\n",
       "    <tr>\n",
       "      <th>1</th>\n",
       "      <td>2</td>\n",
       "      <td>MULTILINESTRING ((478886.299 8093597.535, 4788...</td>\n",
       "      <td>-1</td>\n",
       "      <td>2025-05-05 16-16-47.tlog</td>\n",
       "      <td>DA02</td>\n",
       "      <td>1056.0</td>\n",
       "      <td>ORIGINAL</td>\n",
       "    </tr>\n",
       "    <tr>\n",
       "      <th>2</th>\n",
       "      <td>247</td>\n",
       "      <td>MULTILINESTRING ((474276.861 8075803.608, 4742...</td>\n",
       "      <td>616</td>\n",
       "      <td>2025-08-12 03-00-11.tlog</td>\n",
       "      <td>DA02</td>\n",
       "      <td>1710.0</td>\n",
       "      <td>None</td>\n",
       "    </tr>\n",
       "    <tr>\n",
       "      <th>3</th>\n",
       "      <td>248</td>\n",
       "      <td>MULTILINESTRING ((473445.600 8076788.235, 4734...</td>\n",
       "      <td>616</td>\n",
       "      <td>2025-08-12 03-45-43.tlog</td>\n",
       "      <td>DA02</td>\n",
       "      <td>1605.0</td>\n",
       "      <td>None</td>\n",
       "    </tr>\n",
       "    <tr>\n",
       "      <th>4</th>\n",
       "      <td>249</td>\n",
       "      <td>MULTILINESTRING ((469649.803 8090516.827, 4696...</td>\n",
       "      <td>617</td>\n",
       "      <td>2025-08-12 04-25-58.tlog</td>\n",
       "      <td>DA02</td>\n",
       "      <td>1988.0</td>\n",
       "      <td>None</td>\n",
       "    </tr>\n",
       "  </tbody>\n",
       "</table>\n",
       "</div>"
      ],
      "text/plain": [
       "    id                                               geom  idd  \\\n",
       "0    1  MULTILINESTRING ((471873.745 8084797.248, 4718...   -1   \n",
       "1    2  MULTILINESTRING ((478886.299 8093597.535, 4788...   -1   \n",
       "2  247  MULTILINESTRING ((474276.861 8075803.608, 4742...  616   \n",
       "3  248  MULTILINESTRING ((473445.600 8076788.235, 4734...  616   \n",
       "4  249  MULTILINESTRING ((469649.803 8090516.827, 4696...  617   \n",
       "\n",
       "                     nombre vehiculo  num_vert  asignado  \n",
       "0  2025-05-02 08-32-28.tlog     DA02    2517.0  ORIGINAL  \n",
       "1  2025-05-05 16-16-47.tlog     DA02    1056.0  ORIGINAL  \n",
       "2  2025-08-12 03-00-11.tlog     DA02    1710.0      None  \n",
       "3  2025-08-12 03-45-43.tlog     DA02    1605.0      None  \n",
       "4  2025-08-12 04-25-58.tlog     DA02    1988.0      None  "
      ]
     },
     "execution_count": 64,
     "metadata": {},
     "output_type": "execute_result"
    }
   ],
   "source": [
    "gdf_rec.head()"
   ]
  },
  {
   "cell_type": "code",
   "execution_count": 65,
   "id": "1c7b1a22-25b1-424e-b4f7-04fe47fb3c4b",
   "metadata": {},
   "outputs": [
    {
     "data": {
      "text/plain": [
       "12"
      ]
     },
     "execution_count": 65,
     "metadata": {},
     "output_type": "execute_result"
    }
   ],
   "source": [
    "# Filtrar la lista 'contenido' para excluir elementos que están en la columna 'nombre' del GeoDataFrame\n",
    "contenido_filtrado = [item for item in contenido if item not in gdf_rec['nombre'].values]\n",
    "len(contenido_filtrado)"
   ]
  },
  {
   "cell_type": "code",
   "execution_count": 66,
   "id": "d3d97033-af2e-48d1-9452-1127f5064bbd",
   "metadata": {},
   "outputs": [
    {
     "data": {
      "text/plain": [
       "['2025-09-11 08-44-22.tlog',\n",
       " '2025-09-12 14-07-43.tlog',\n",
       " '2025-09-18 16-50-36.tlog',\n",
       " '2025-10-10 19-58-31.tlog',\n",
       " '2025-10-10 22-47-17.tlog',\n",
       " '2025-10-11 01-40-39.tlog',\n",
       " '2025-10-11 02-29-58.tlog',\n",
       " '2025-10-11 02-38-09.tlog',\n",
       " '2025-10-11 02-40-47.tlog',\n",
       " '2025-10-11 02-50-00.tlog',\n",
       " '2025-10-11 03-18-59.tlog',\n",
       " '2025-10-11 08-35-56.tlog']"
      ]
     },
     "execution_count": 66,
     "metadata": {},
     "output_type": "execute_result"
    }
   ],
   "source": [
    "contenido_filtrado"
   ]
  },
  {
   "cell_type": "code",
   "execution_count": 67,
   "id": "25c4c0f2-dffa-435d-a8d4-d13754a772bf",
   "metadata": {},
   "outputs": [],
   "source": [
    "def leer_logs(lista_logs):\n",
    "    list_geo = []\n",
    "    list_name = []\n",
    "    for i in lista_logs:\n",
    "        log = path_log + '/' + i\n",
    "        \n",
    "        name = i\n",
    "        \n",
    "        mlog = mavutil.mavlink_connection(log)\n",
    "        lats = []\n",
    "        lons = []\n",
    "        while True:\n",
    "            msg = mlog.recv_match()\n",
    "            if not msg:\n",
    "                break\n",
    "            # Ejemplo de procesamiento de mensaje\n",
    "            if msg.get_type() == 'GLOBAL_POSITION_INT':\n",
    "                lat = msg.lat / 1e7  # Latitud en grados\n",
    "                lon = msg.lon / 1e7  # Longitud en grados\n",
    "                lats.append(lat)\n",
    "                lons.append(lon)\n",
    "\n",
    "        coors = {'lat':lats, 'lon':lons}\n",
    "        df = pd.DataFrame(coors)\n",
    "        \n",
    "        geometry = [Point(xy) for xy in zip(df['lon'], df['lat'])]\n",
    "        line = LineString(geometry)\n",
    "        list_geo.append(line)\n",
    "        list_name.append(name)\n",
    "    return (list_geo, list_name)"
   ]
  },
  {
   "cell_type": "code",
   "execution_count": 68,
   "id": "642399de-4321-4e94-bcf9-8c39531b15a0",
   "metadata": {},
   "outputs": [
    {
     "data": {
      "text/plain": [
       "[<LINESTRING (0 0, 0 0, 0 0, 0 0, 0 0, 0 0, 0 0, 0 0, 0 0, 0 0, 0 0, 0 0, 0 0...>,\n",
       " <LINESTRING (0 0, 0 0, 0 0, 0 0, 0 0, 0 0, 0 0, 0 0, 0 0, 0 0, 0 0, 0 0, 0 0...>,\n",
       " <LINESTRING (0 0, 0 0, 0 0, 0 0, 0 0, 0 0, 0 0, 0 0, 0 0, 0 0, 0 0, 0 0, 0 0...>,\n",
       " <LINESTRING (-63.188 -17.245, -63.188 -17.245, -63.188 -17.245, -63.188 -17....>,\n",
       " <LINESTRING (-63.188 -17.245, -63.188 -17.245, -63.188 -17.245, -63.188 -17....>,\n",
       " <LINESTRING (-63.201 -17.24, -63.201 -17.24, -63.201 -17.24, -63.201 -17.24,...>,\n",
       " <LINESTRING (0 0, 0 0, 0 0, 0 0, -63.273 -17.41, -63.273 -17.41, -63.273 -17...>,\n",
       " <LINESTRING (-63.251 -17.4, -63.251 -17.4, -63.251 -17.4, -63.251 -17.4, -63...>,\n",
       " <LINESTRING (-63.25 -17.398, -63.25 -17.398, -63.25 -17.398, -63.25 -17.398,...>,\n",
       " <LINESTRING (-63.251 -17.397, -63.251 -17.397, -63.251 -17.397, -63.251 -17....>,\n",
       " <LINESTRING (-63.242 -17.403, -63.242 -17.403, -63.242 -17.403, -63.242 -17....>,\n",
       " <LINESTRING (-63.24 -17.404, -63.24 -17.404, -63.24 -17.404, -63.241 -17.403...>]"
      ]
     },
     "execution_count": 68,
     "metadata": {},
     "output_type": "execute_result"
    }
   ],
   "source": [
    "lineas, names = leer_logs(contenido_filtrado)\n",
    "lineas"
   ]
  },
  {
   "cell_type": "code",
   "execution_count": 69,
   "id": "bda63ffa-beea-494c-a66f-d27660159e20",
   "metadata": {},
   "outputs": [
    {
     "data": {
      "text/html": [
       "<div>\n",
       "<style scoped>\n",
       "    .dataframe tbody tr th:only-of-type {\n",
       "        vertical-align: middle;\n",
       "    }\n",
       "\n",
       "    .dataframe tbody tr th {\n",
       "        vertical-align: top;\n",
       "    }\n",
       "\n",
       "    .dataframe thead th {\n",
       "        text-align: right;\n",
       "    }\n",
       "</style>\n",
       "<table border=\"1\" class=\"dataframe\">\n",
       "  <thead>\n",
       "    <tr style=\"text-align: right;\">\n",
       "      <th></th>\n",
       "      <th>nombre</th>\n",
       "      <th>geometry</th>\n",
       "    </tr>\n",
       "  </thead>\n",
       "  <tbody>\n",
       "    <tr>\n",
       "      <th>0</th>\n",
       "      <td>2025-09-11 08-44-22.tlog</td>\n",
       "      <td>LINESTRING (0.00000 0.00000, 0.00000 0.00000, ...</td>\n",
       "    </tr>\n",
       "    <tr>\n",
       "      <th>1</th>\n",
       "      <td>2025-09-12 14-07-43.tlog</td>\n",
       "      <td>LINESTRING (0.00000 0.00000, 0.00000 0.00000, ...</td>\n",
       "    </tr>\n",
       "    <tr>\n",
       "      <th>2</th>\n",
       "      <td>2025-09-18 16-50-36.tlog</td>\n",
       "      <td>LINESTRING (0.00000 0.00000, 0.00000 0.00000, ...</td>\n",
       "    </tr>\n",
       "  </tbody>\n",
       "</table>\n",
       "</div>"
      ],
      "text/plain": [
       "                     nombre                                           geometry\n",
       "0  2025-09-11 08-44-22.tlog  LINESTRING (0.00000 0.00000, 0.00000 0.00000, ...\n",
       "1  2025-09-12 14-07-43.tlog  LINESTRING (0.00000 0.00000, 0.00000 0.00000, ...\n",
       "2  2025-09-18 16-50-36.tlog  LINESTRING (0.00000 0.00000, 0.00000 0.00000, ..."
      ]
     },
     "execution_count": 69,
     "metadata": {},
     "output_type": "execute_result"
    }
   ],
   "source": [
    "# Crear un GeoDataFrame con los LineStrings y sus nombres\n",
    "gdf_lines = gpd.GeoDataFrame({'nombre': names, 'geometry': lineas}, crs=\"EPSG:4326\")\n",
    "gdf_lines.head(3)"
   ]
  },
  {
   "cell_type": "code",
   "execution_count": 70,
   "id": "7037a99d-9c1b-4596-9be7-615936ec90b1",
   "metadata": {},
   "outputs": [],
   "source": [
    "# Función para contar la cantidad de coordenadas en una geometría de tipo LINESTRING\n",
    "def contar_coordenadas(linea):\n",
    "    return len(linea.coords)\n",
    "\n",
    "# Función para dividir y limpiar las líneas\n",
    "def dividir_y_limpiar_linea(linea):\n",
    "    puntos = list(linea.coords)\n",
    "    nuevas_lineas = []\n",
    "    nueva_linea = []\n",
    "    \n",
    "    for punto in puntos:\n",
    "        if punto != (0, 0):\n",
    "            nueva_linea.append(punto)\n",
    "        else:\n",
    "            if nueva_linea:\n",
    "                nuevas_lineas.append(LineString(nueva_linea))\n",
    "                nueva_linea = []\n",
    "    \n",
    "    if nueva_linea:\n",
    "        nuevas_lineas.append(LineString(nueva_linea))\n",
    "    \n",
    "    return nuevas_lineas"
   ]
  },
  {
   "cell_type": "code",
   "execution_count": 71,
   "id": "72a0e2e9-b97f-41ae-8358-e8fde8272cdf",
   "metadata": {},
   "outputs": [],
   "source": [
    "# Crear una lista para las nuevas líneas y nombres\n",
    "nuevas_lineas = []\n",
    "nuevos_nombres = []\n",
    "for idx, row in gdf_lines.iterrows():\n",
    "    lineas_divididas = dividir_y_limpiar_linea(row.geometry)\n",
    "    for linea in lineas_divididas:\n",
    "        nuevas_lineas.append(linea)\n",
    "        nuevos_nombres.append(row['nombre'])"
   ]
  },
  {
   "cell_type": "code",
   "execution_count": 72,
   "id": "837a723a-f3b0-491c-bbc4-685a6157407a",
   "metadata": {},
   "outputs": [],
   "source": [
    "# Crear un nuevo GeoDataFrame con las nuevas líneas\n",
    "gdf_lines = gpd.GeoDataFrame({'nombre': nuevos_nombres, 'geometry': nuevas_lineas}, crs=\"EPSG:4326\")"
   ]
  },
  {
   "cell_type": "code",
   "execution_count": 73,
   "id": "ba7e2a2e-e1fd-4233-a540-998f9d135469",
   "metadata": {},
   "outputs": [
    {
     "data": {
      "text/html": [
       "<div>\n",
       "<style scoped>\n",
       "    .dataframe tbody tr th:only-of-type {\n",
       "        vertical-align: middle;\n",
       "    }\n",
       "\n",
       "    .dataframe tbody tr th {\n",
       "        vertical-align: top;\n",
       "    }\n",
       "\n",
       "    .dataframe thead th {\n",
       "        text-align: right;\n",
       "    }\n",
       "</style>\n",
       "<table border=\"1\" class=\"dataframe\">\n",
       "  <thead>\n",
       "    <tr style=\"text-align: right;\">\n",
       "      <th></th>\n",
       "      <th>nombre</th>\n",
       "      <th>geometry</th>\n",
       "      <th>num_vert</th>\n",
       "      <th>vehiculo</th>\n",
       "    </tr>\n",
       "  </thead>\n",
       "  <tbody>\n",
       "    <tr>\n",
       "      <th>0</th>\n",
       "      <td>2025-10-10 19-58-31.tlog</td>\n",
       "      <td>LINESTRING (-63.18824 -17.24515, -63.18824 -17...</td>\n",
       "      <td>4708</td>\n",
       "      <td>DA02</td>\n",
       "    </tr>\n",
       "    <tr>\n",
       "      <th>1</th>\n",
       "      <td>2025-10-10 22-47-17.tlog</td>\n",
       "      <td>LINESTRING (-63.18822 -17.24516, -63.18822 -17...</td>\n",
       "      <td>1964</td>\n",
       "      <td>DA02</td>\n",
       "    </tr>\n",
       "    <tr>\n",
       "      <th>2</th>\n",
       "      <td>2025-10-10 22-47-17.tlog</td>\n",
       "      <td>LINESTRING (-63.19648 -17.24046, -63.19648 -17...</td>\n",
       "      <td>2075</td>\n",
       "      <td>DA02</td>\n",
       "    </tr>\n",
       "  </tbody>\n",
       "</table>\n",
       "</div>"
      ],
      "text/plain": [
       "                     nombre  \\\n",
       "0  2025-10-10 19-58-31.tlog   \n",
       "1  2025-10-10 22-47-17.tlog   \n",
       "2  2025-10-10 22-47-17.tlog   \n",
       "\n",
       "                                            geometry  num_vert vehiculo  \n",
       "0  LINESTRING (-63.18824 -17.24515, -63.18824 -17...      4708     DA02  \n",
       "1  LINESTRING (-63.18822 -17.24516, -63.18822 -17...      1964     DA02  \n",
       "2  LINESTRING (-63.19648 -17.24046, -63.19648 -17...      2075     DA02  "
      ]
     },
     "execution_count": 73,
     "metadata": {},
     "output_type": "execute_result"
    }
   ],
   "source": [
    "gdf_lines['num_vert'] = gdf_lines['geometry'].apply(contar_coordenadas)\n",
    "gdf_lines['vehiculo'] = vehiculo\n",
    "gdf_lines.head(3)"
   ]
  },
  {
   "cell_type": "code",
   "execution_count": 74,
   "id": "5eb9225d-10fe-40d0-9dd1-0b6ecc7cfe0a",
   "metadata": {},
   "outputs": [
    {
     "data": {
      "text/plain": [
       "<Axes: >"
      ]
     },
     "execution_count": 74,
     "metadata": {},
     "output_type": "execute_result"
    },
    {
     "data": {
      "image/png": "[encoded data removed]",
      "text/plain": [
       "<Figure size 640x480 with 1 Axes>"
      ]
     },
     "metadata": {},
     "output_type": "display_data"
    }
   ],
   "source": [
    "gdf_lines.plot()"
   ]
  },
  {
   "cell_type": "code",
   "execution_count": 75,
   "id": "40c12d33-5333-42bc-b844-9a4c33aa6560",
   "metadata": {},
   "outputs": [],
   "source": [
    "gdf_lines.crs = \"EPSG:4326\"\n",
    "gdf_lines_utm = gdf_lines.to_crs(epsg=32720)"
   ]
  },
  {
   "cell_type": "code",
   "execution_count": 76,
   "id": "ce56fcc4-a23c-4fe8-a162-08f9dc13c892",
   "metadata": {},
   "outputs": [
    {
     "data": {
      "text/plain": [
       "<Axes: >"
      ]
     },
     "execution_count": 76,
     "metadata": {},
     "output_type": "execute_result"
    },
    {
     "data": {
      "image/png": "[encoded data removed]",
      "text/plain": [
       "<Figure size 640x480 with 1 Axes>"
      ]
     },
     "metadata": {},
     "output_type": "display_data"
    }
   ],
   "source": [
    "gdf_lines_utm.plot()"
   ]
  },
  {
   "cell_type": "code",
   "execution_count": 77,
   "id": "3abd2055-04d0-493d-a9ee-d4a79233b8d6",
   "metadata": {},
   "outputs": [],
   "source": [
    "gdf_lines_utm['idd'] = 0\n",
    "gdf_lines_utm = gdf_lines_utm.rename_geometry(\"geom\")"
   ]
  },
  {
   "cell_type": "code",
   "execution_count": 78,
   "id": "dbe78ea5-dfcc-49d0-8d97-bf191c7a9d97",
   "metadata": {},
   "outputs": [
    {
     "data": {
      "text/html": [
       "<div>\n",
       "<style scoped>\n",
       "    .dataframe tbody tr th:only-of-type {\n",
       "        vertical-align: middle;\n",
       "    }\n",
       "\n",
       "    .dataframe tbody tr th {\n",
       "        vertical-align: top;\n",
       "    }\n",
       "\n",
       "    .dataframe thead th {\n",
       "        text-align: right;\n",
       "    }\n",
       "</style>\n",
       "<table border=\"1\" class=\"dataframe\">\n",
       "  <thead>\n",
       "    <tr style=\"text-align: right;\">\n",
       "      <th></th>\n",
       "      <th>nombre</th>\n",
       "      <th>geom</th>\n",
       "      <th>num_vert</th>\n",
       "      <th>vehiculo</th>\n",
       "      <th>idd</th>\n",
       "    </tr>\n",
       "  </thead>\n",
       "  <tbody>\n",
       "    <tr>\n",
       "      <th>0</th>\n",
       "      <td>2025-10-10 19-58-31.tlog</td>\n",
       "      <td>LINESTRING (479989.371 8093314.777, 479989.371...</td>\n",
       "      <td>4708</td>\n",
       "      <td>DA02</td>\n",
       "      <td>0</td>\n",
       "    </tr>\n",
       "    <tr>\n",
       "      <th>1</th>\n",
       "      <td>2025-10-10 22-47-17.tlog</td>\n",
       "      <td>LINESTRING (479991.370 8093314.016, 479991.391...</td>\n",
       "      <td>1964</td>\n",
       "      <td>DA02</td>\n",
       "      <td>0</td>\n",
       "    </tr>\n",
       "    <tr>\n",
       "      <th>2</th>\n",
       "      <td>2025-10-10 22-47-17.tlog</td>\n",
       "      <td>LINESTRING (479112.597 8093833.349, 479112.693...</td>\n",
       "      <td>2075</td>\n",
       "      <td>DA02</td>\n",
       "      <td>0</td>\n",
       "    </tr>\n",
       "    <tr>\n",
       "      <th>3</th>\n",
       "      <td>2025-10-10 22-47-17.tlog</td>\n",
       "      <td>LINESTRING (479112.002 8093832.795, 479111.992...</td>\n",
       "      <td>2897</td>\n",
       "      <td>DA02</td>\n",
       "      <td>0</td>\n",
       "    </tr>\n",
       "    <tr>\n",
       "      <th>4</th>\n",
       "      <td>2025-10-10 22-47-17.tlog</td>\n",
       "      <td>LINESTRING (479111.404 8093835.682, 479111.266...</td>\n",
       "      <td>2261</td>\n",
       "      <td>DA02</td>\n",
       "      <td>0</td>\n",
       "    </tr>\n",
       "    <tr>\n",
       "      <th>5</th>\n",
       "      <td>2025-10-11 01-40-39.tlog</td>\n",
       "      <td>LINESTRING (478644.266 8093838.465, 478644.266...</td>\n",
       "      <td>3519</td>\n",
       "      <td>DA02</td>\n",
       "      <td>0</td>\n",
       "    </tr>\n",
       "    <tr>\n",
       "      <th>6</th>\n",
       "      <td>2025-10-11 01-40-39.tlog</td>\n",
       "      <td>LINESTRING (478642.650 8093838.331, 478642.640...</td>\n",
       "      <td>2799</td>\n",
       "      <td>DA02</td>\n",
       "      <td>0</td>\n",
       "    </tr>\n",
       "    <tr>\n",
       "      <th>7</th>\n",
       "      <td>2025-10-11 01-40-39.tlog</td>\n",
       "      <td>LINESTRING (478642.833 8093836.174, 478642.833...</td>\n",
       "      <td>3037</td>\n",
       "      <td>DA02</td>\n",
       "      <td>0</td>\n",
       "    </tr>\n",
       "    <tr>\n",
       "      <th>8</th>\n",
       "      <td>2025-10-11 01-40-39.tlog</td>\n",
       "      <td>LINESTRING (479995.147 8093311.332, 479995.157...</td>\n",
       "      <td>2429</td>\n",
       "      <td>DA02</td>\n",
       "      <td>0</td>\n",
       "    </tr>\n",
       "    <tr>\n",
       "      <th>9</th>\n",
       "      <td>2025-10-11 01-40-39.tlog</td>\n",
       "      <td>LINESTRING (479996.388 8093313.324, 479996.388...</td>\n",
       "      <td>42</td>\n",
       "      <td>DA02</td>\n",
       "      <td>0</td>\n",
       "    </tr>\n",
       "    <tr>\n",
       "      <th>10</th>\n",
       "      <td>2025-10-11 01-40-39.tlog</td>\n",
       "      <td>LINESTRING (479996.114 8093311.576, 479996.124...</td>\n",
       "      <td>2438</td>\n",
       "      <td>DA02</td>\n",
       "      <td>0</td>\n",
       "    </tr>\n",
       "    <tr>\n",
       "      <th>11</th>\n",
       "      <td>2025-10-11 02-29-58.tlog</td>\n",
       "      <td>LINESTRING (471030.473 8075050.397, 471030.419...</td>\n",
       "      <td>2624</td>\n",
       "      <td>DA02</td>\n",
       "      <td>0</td>\n",
       "    </tr>\n",
       "    <tr>\n",
       "      <th>12</th>\n",
       "      <td>2025-10-11 02-38-09.tlog</td>\n",
       "      <td>LINESTRING (473390.808 8076181.754, 473390.808...</td>\n",
       "      <td>1396</td>\n",
       "      <td>DA02</td>\n",
       "      <td>0</td>\n",
       "    </tr>\n",
       "    <tr>\n",
       "      <th>13</th>\n",
       "      <td>2025-10-11 02-40-47.tlog</td>\n",
       "      <td>LINESTRING (473399.071 8076401.566, 473399.087...</td>\n",
       "      <td>399</td>\n",
       "      <td>DA02</td>\n",
       "      <td>0</td>\n",
       "    </tr>\n",
       "    <tr>\n",
       "      <th>14</th>\n",
       "      <td>2025-10-11 02-50-00.tlog</td>\n",
       "      <td>LINESTRING (473338.780 8076516.808, 473338.764...</td>\n",
       "      <td>1293</td>\n",
       "      <td>DA02</td>\n",
       "      <td>0</td>\n",
       "    </tr>\n",
       "    <tr>\n",
       "      <th>15</th>\n",
       "      <td>2025-10-11 03-18-59.tlog</td>\n",
       "      <td>LINESTRING (474268.064 8075805.069, 474268.064...</td>\n",
       "      <td>1065</td>\n",
       "      <td>DA02</td>\n",
       "      <td>0</td>\n",
       "    </tr>\n",
       "    <tr>\n",
       "      <th>16</th>\n",
       "      <td>2025-10-11 08-35-56.tlog</td>\n",
       "      <td>LINESTRING (474475.047 8075776.853, 474472.197...</td>\n",
       "      <td>1615</td>\n",
       "      <td>DA02</td>\n",
       "      <td>0</td>\n",
       "    </tr>\n",
       "    <tr>\n",
       "      <th>17</th>\n",
       "      <td>2025-10-11 08-35-56.tlog</td>\n",
       "      <td>LINESTRING (474270.549 8075805.603, 474270.539...</td>\n",
       "      <td>2408</td>\n",
       "      <td>DA02</td>\n",
       "      <td>0</td>\n",
       "    </tr>\n",
       "  </tbody>\n",
       "</table>\n",
       "</div>"
      ],
      "text/plain": [
       "                      nombre  \\\n",
       "0   2025-10-10 19-58-31.tlog   \n",
       "1   2025-10-10 22-47-17.tlog   \n",
       "2   2025-10-10 22-47-17.tlog   \n",
       "3   2025-10-10 22-47-17.tlog   \n",
       "4   2025-10-10 22-47-17.tlog   \n",
       "5   2025-10-11 01-40-39.tlog   \n",
       "6   2025-10-11 01-40-39.tlog   \n",
       "7   2025-10-11 01-40-39.tlog   \n",
       "8   2025-10-11 01-40-39.tlog   \n",
       "9   2025-10-11 01-40-39.tlog   \n",
       "10  2025-10-11 01-40-39.tlog   \n",
       "11  2025-10-11 02-29-58.tlog   \n",
       "12  2025-10-11 02-38-09.tlog   \n",
       "13  2025-10-11 02-40-47.tlog   \n",
       "14  2025-10-11 02-50-00.tlog   \n",
       "15  2025-10-11 03-18-59.tlog   \n",
       "16  2025-10-11 08-35-56.tlog   \n",
       "17  2025-10-11 08-35-56.tlog   \n",
       "\n",
       "                                                 geom  num_vert vehiculo  idd  \n",
       "0   LINESTRING (479989.371 8093314.777, 479989.371...      4708     DA02    0  \n",
       "1   LINESTRING (479991.370 8093314.016, 479991.391...      1964     DA02    0  \n",
       "2   LINESTRING (479112.597 8093833.349, 479112.693...      2075     DA02    0  \n",
       "3   LINESTRING (479112.002 8093832.795, 479111.992...      2897     DA02    0  \n",
       "4   LINESTRING (479111.404 8093835.682, 479111.266...      2261     DA02    0  \n",
       "5   LINESTRING (478644.266 8093838.465, 478644.266...      3519     DA02    0  \n",
       "6   LINESTRING (478642.650 8093838.331, 478642.640...      2799     DA02    0  \n",
       "7   LINESTRING (478642.833 8093836.174, 478642.833...      3037     DA02    0  \n",
       "8   LINESTRING (479995.147 8093311.332, 479995.157...      2429     DA02    0  \n",
       "9   LINESTRING (479996.388 8093313.324, 479996.388...        42     DA02    0  \n",
       "10  LINESTRING (479996.114 8093311.576, 479996.124...      2438     DA02    0  \n",
       "11  LINESTRING (471030.473 8075050.397, 471030.419...      2624     DA02    0  \n",
       "12  LINESTRING (473390.808 8076181.754, 473390.808...      1396     DA02    0  \n",
       "13  LINESTRING (473399.071 8076401.566, 473399.087...       399     DA02    0  \n",
       "14  LINESTRING (473338.780 8076516.808, 473338.764...      1293     DA02    0  \n",
       "15  LINESTRING (474268.064 8075805.069, 474268.064...      1065     DA02    0  \n",
       "16  LINESTRING (474475.047 8075776.853, 474472.197...      1615     DA02    0  \n",
       "17  LINESTRING (474270.549 8075805.603, 474270.539...      2408     DA02    0  "
      ]
     },
     "execution_count": 78,
     "metadata": {},
     "output_type": "execute_result"
    }
   ],
   "source": [
    "gdf_lines_utm"
   ]
  },
  {
   "cell_type": "code",
   "execution_count": 79,
   "id": "90e11d1b-bbab-414c-8f2f-d1b4080530af",
   "metadata": {},
   "outputs": [],
   "source": [
    "gdf_lines_utm.to_postgis(\n",
    "    name=\"recorridos_lib\",\n",
    "    schema=\"drones_control_bio\",\n",
    "    con=obtener_engine(),\n",
    "    if_exists=\"append\",   # usa \"replace\" si quieres sobrescribir todo\n",
    "    index=False\n",
    ")"
   ]
  },
  {
   "cell_type": "code",
   "execution_count": null,
   "id": "cef4cbba-742a-43c0-9550-15ef70d47704",
   "metadata": {},
   "outputs": [],
   "source": []
  },
  {
   "cell_type": "code",
   "execution_count": null,
   "id": "00672c74-7712-4f89-9df1-491cff2aeae4",
   "metadata": {},
   "outputs": [],
   "source": []
  },
  {
   "cell_type": "code",
   "execution_count": null,
   "id": "898f8316-e785-4e3e-83c6-fde292c68b1f",
   "metadata": {},
   "outputs": [],
   "source": []
  }
 ],
 "metadata": {
  "kernelspec": {
   "display_name": "Python 3 (ipykernel)",
   "language": "python",
   "name": "python3"
  },
  "language_info": {
   "codemirror_mode": {
    "name": "ipython",
    "version": 3
   },
   "file_extension": ".py",
   "mimetype": "text/x-python",
   "name": "python",
   "nbconvert_exporter": "python",
   "pygments_lexer": "ipython3",
   "version": "3.10.13"
  }
 },
 "nbformat": 4,
 "nbformat_minor": 5
}
