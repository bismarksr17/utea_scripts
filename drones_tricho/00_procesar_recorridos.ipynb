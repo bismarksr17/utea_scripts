{
 "cells": [
  {
   "cell_type": "code",
   "execution_count": 1,
   "id": "471a58e2-7e57-4c39-9f66-2901e67bad16",
   "metadata": {},
   "outputs": [],
   "source": [
    "import sys\n",
    "sys.path.append('..')\n",
    "from pymavlink import mavutil\n",
    "import matplotlib.pyplot as plt\n",
    "import pandas as pd\n",
    "import os\n",
    "import geopandas as gpd\n",
    "from shapely.geometry import Point, LineString\n",
    "\n",
    "from sqlalchemy import create_engine\n",
    "\n",
    "from config import RUTA_UNIDAD_ONE_DRIVE\n",
    "from config import RUTA_LOCAL_ONE_DRIVE\n",
    "from config import POSTGRES_UTEA\n",
    "\n",
    "RUTA_COMPLETA = os.path.join(RUTA_UNIDAD_ONE_DRIVE, RUTA_LOCAL_ONE_DRIVE)\n",
    "\n",
    "def obtener_engine():\n",
    "    return create_engine(\n",
    "        f\"postgresql+psycopg2://{POSTGRES_UTEA['USER']}:{POSTGRES_UTEA['PASSWORD']}@{POSTGRES_UTEA['HOST']}:{POSTGRES_UTEA['PORT']}/{POSTGRES_UTEA['DATABASE']}\"\n",
    "    )"
   ]
  },
  {
   "cell_type": "code",
   "execution_count": 2,
   "id": "2daa78ba-f5c9-44f1-b6b2-4640c8891024",
   "metadata": {},
   "outputs": [],
   "source": [
    "vehiculo = 'DA01'"
   ]
  },
  {
   "cell_type": "code",
   "execution_count": 3,
   "id": "504d15e2-1b8c-45c8-8f0a-b574cd569e93",
   "metadata": {},
   "outputs": [
    {
     "data": {
      "text/plain": [
       "314"
      ]
     },
     "execution_count": 3,
     "metadata": {},
     "output_type": "execute_result"
    }
   ],
   "source": [
    "if vehiculo == 'DA01':\n",
    "    path_log = RUTA_UNIDAD_ONE_DRIVE + r'\\Ingenio Azucarero Guabira S.A\\UTEA - SEMANAL - EQUIPO AVIACION UTEA\\Trichogramma\\2025\\TLOGS\\ALTA_01'\n",
    "elif vehiculo == 'DA02':\n",
    "    path_log = RUTA_UNIDAD_ONE_DRIVE + r'\\Ingenio Azucarero Guabira S.A\\UTEA - SEMANAL - EQUIPO AVIACION UTEA\\Trichogramma\\2025\\TLOGS\\ALTA_02'\n",
    "elif vehiculo == 'DA03':\n",
    "    path_log = RUTA_UNIDAD_ONE_DRIVE + r'\\Ingenio Azucarero Guabira S.A\\UTEA - SEMANAL - EQUIPO AVIACION UTEA\\Trichogramma\\2025\\TLOGS\\ALTA_03'\n",
    "contenido = os.listdir(path_log)\n",
    "len(contenido)"
   ]
  },
  {
   "cell_type": "code",
   "execution_count": 4,
   "id": "8a2ff318-7c9b-4452-8783-26cdae863e40",
   "metadata": {},
   "outputs": [],
   "source": [
    "gdf_rec = gpd.read_postgis(\n",
    "    \"SELECT * FROM drones_control_bio.recorridos_lib\", \n",
    "    obtener_engine(), \n",
    "    geom_col='geom'  # columna con la geometría\n",
    ")"
   ]
  },
  {
   "cell_type": "code",
   "execution_count": 5,
   "id": "a69bad76-10e4-4a5e-b8d8-cefc1997c535",
   "metadata": {},
   "outputs": [
    {
     "data": {
      "text/html": [
       "<div>\n",
       "<style scoped>\n",
       "    .dataframe tbody tr th:only-of-type {\n",
       "        vertical-align: middle;\n",
       "    }\n",
       "\n",
       "    .dataframe tbody tr th {\n",
       "        vertical-align: top;\n",
       "    }\n",
       "\n",
       "    .dataframe thead th {\n",
       "        text-align: right;\n",
       "    }\n",
       "</style>\n",
       "<table border=\"1\" class=\"dataframe\">\n",
       "  <thead>\n",
       "    <tr style=\"text-align: right;\">\n",
       "      <th></th>\n",
       "      <th>id</th>\n",
       "      <th>geom</th>\n",
       "      <th>idd</th>\n",
       "      <th>nombre</th>\n",
       "      <th>vehiculo</th>\n",
       "      <th>num_vert</th>\n",
       "      <th>asignado</th>\n",
       "    </tr>\n",
       "  </thead>\n",
       "  <tbody>\n",
       "    <tr>\n",
       "      <th>0</th>\n",
       "      <td>1</td>\n",
       "      <td>MULTILINESTRING ((471873.745 8084797.248, 4718...</td>\n",
       "      <td>-1</td>\n",
       "      <td>2025-05-02 08-32-28.tlog</td>\n",
       "      <td>DA02</td>\n",
       "      <td>2517.0</td>\n",
       "      <td>ORIGINAL</td>\n",
       "    </tr>\n",
       "    <tr>\n",
       "      <th>1</th>\n",
       "      <td>2</td>\n",
       "      <td>MULTILINESTRING ((478886.299 8093597.535, 4788...</td>\n",
       "      <td>-1</td>\n",
       "      <td>2025-05-05 16-16-47.tlog</td>\n",
       "      <td>DA02</td>\n",
       "      <td>1056.0</td>\n",
       "      <td>ORIGINAL</td>\n",
       "    </tr>\n",
       "    <tr>\n",
       "      <th>2</th>\n",
       "      <td>247</td>\n",
       "      <td>MULTILINESTRING ((474276.861 8075803.608, 4742...</td>\n",
       "      <td>616</td>\n",
       "      <td>2025-08-12 03-00-11.tlog</td>\n",
       "      <td>DA02</td>\n",
       "      <td>1710.0</td>\n",
       "      <td>None</td>\n",
       "    </tr>\n",
       "    <tr>\n",
       "      <th>3</th>\n",
       "      <td>248</td>\n",
       "      <td>MULTILINESTRING ((473445.600 8076788.235, 4734...</td>\n",
       "      <td>616</td>\n",
       "      <td>2025-08-12 03-45-43.tlog</td>\n",
       "      <td>DA02</td>\n",
       "      <td>1605.0</td>\n",
       "      <td>None</td>\n",
       "    </tr>\n",
       "    <tr>\n",
       "      <th>4</th>\n",
       "      <td>249</td>\n",
       "      <td>MULTILINESTRING ((469649.803 8090516.827, 4696...</td>\n",
       "      <td>617</td>\n",
       "      <td>2025-08-12 04-25-58.tlog</td>\n",
       "      <td>DA02</td>\n",
       "      <td>1988.0</td>\n",
       "      <td>None</td>\n",
       "    </tr>\n",
       "  </tbody>\n",
       "</table>\n",
       "</div>"
      ],
      "text/plain": [
       "    id                                               geom  idd  \\\n",
       "0    1  MULTILINESTRING ((471873.745 8084797.248, 4718...   -1   \n",
       "1    2  MULTILINESTRING ((478886.299 8093597.535, 4788...   -1   \n",
       "2  247  MULTILINESTRING ((474276.861 8075803.608, 4742...  616   \n",
       "3  248  MULTILINESTRING ((473445.600 8076788.235, 4734...  616   \n",
       "4  249  MULTILINESTRING ((469649.803 8090516.827, 4696...  617   \n",
       "\n",
       "                     nombre vehiculo  num_vert  asignado  \n",
       "0  2025-05-02 08-32-28.tlog     DA02    2517.0  ORIGINAL  \n",
       "1  2025-05-05 16-16-47.tlog     DA02    1056.0  ORIGINAL  \n",
       "2  2025-08-12 03-00-11.tlog     DA02    1710.0      None  \n",
       "3  2025-08-12 03-45-43.tlog     DA02    1605.0      None  \n",
       "4  2025-08-12 04-25-58.tlog     DA02    1988.0      None  "
      ]
     },
     "execution_count": 5,
     "metadata": {},
     "output_type": "execute_result"
    }
   ],
   "source": [
    "gdf_rec.head()"
   ]
  },
  {
   "cell_type": "code",
   "execution_count": 6,
   "id": "1c7b1a22-25b1-424e-b4f7-04fe47fb3c4b",
   "metadata": {},
   "outputs": [
    {
     "data": {
      "text/plain": [
       "9"
      ]
     },
     "execution_count": 6,
     "metadata": {},
     "output_type": "execute_result"
    }
   ],
   "source": [
    "# Filtrar la lista 'contenido' para excluir elementos que están en la columna 'nombre' del GeoDataFrame\n",
    "contenido_filtrado = [item for item in contenido if item not in gdf_rec['nombre'].values]\n",
    "len(contenido_filtrado)"
   ]
  },
  {
   "cell_type": "code",
   "execution_count": 7,
   "id": "d3d97033-af2e-48d1-9452-1127f5064bbd",
   "metadata": {},
   "outputs": [
    {
     "data": {
      "text/plain": [
       "['2025-10-23 20-40-14.tlog',\n",
       " '2025-10-23 22-23-06.tlog',\n",
       " '2025-10-23 23-58-21.tlog',\n",
       " '2025-10-23 23-58-59.tlog',\n",
       " '2025-10-23 23-59-55.tlog',\n",
       " '2025-10-24 01-28-49.tlog',\n",
       " '2025-10-24 01-53-59.tlog',\n",
       " '2025-10-24 02-20-00.tlog',\n",
       " '2025-10-24 02-54-55.tlog']"
      ]
     },
     "execution_count": 7,
     "metadata": {},
     "output_type": "execute_result"
    }
   ],
   "source": [
    "contenido_filtrado"
   ]
  },
  {
   "cell_type": "code",
   "execution_count": 8,
   "id": "25c4c0f2-dffa-435d-a8d4-d13754a772bf",
   "metadata": {},
   "outputs": [],
   "source": [
    "def leer_logs(lista_logs):\n",
    "    list_geo = []\n",
    "    list_name = []\n",
    "    for i in lista_logs:\n",
    "        log = path_log + '/' + i\n",
    "        \n",
    "        name = i\n",
    "        \n",
    "        mlog = mavutil.mavlink_connection(log)\n",
    "        lats = []\n",
    "        lons = []\n",
    "        while True:\n",
    "            msg = mlog.recv_match()\n",
    "            if not msg:\n",
    "                break\n",
    "            # Ejemplo de procesamiento de mensaje\n",
    "            if msg.get_type() == 'GLOBAL_POSITION_INT':\n",
    "                lat = msg.lat / 1e7  # Latitud en grados\n",
    "                lon = msg.lon / 1e7  # Longitud en grados\n",
    "                lats.append(lat)\n",
    "                lons.append(lon)\n",
    "\n",
    "        coors = {'lat':lats, 'lon':lons}\n",
    "        df = pd.DataFrame(coors)\n",
    "        \n",
    "        geometry = [Point(xy) for xy in zip(df['lon'], df['lat'])]\n",
    "        line = LineString(geometry)\n",
    "        list_geo.append(line)\n",
    "        list_name.append(name)\n",
    "    return (list_geo, list_name)"
   ]
  },
  {
   "cell_type": "code",
   "execution_count": 9,
   "id": "642399de-4321-4e94-bcf9-8c39531b15a0",
   "metadata": {},
   "outputs": [
    {
     "data": {
      "text/plain": [
       "[<LINESTRING (-62.787 -17.254, -62.787 -17.254, -62.787 -17.254, -62.787 -17....>,\n",
       " <LINESTRING (-62.787 -17.254, -62.787 -17.254, -62.787 -17.254, -62.787 -17....>,\n",
       " <LINESTRING (-62.81 -17.218, -62.81 -17.218, -62.81 -17.218, -62.81 -17.218,...>,\n",
       " <LINESTRING (-63.036 -17.22, -63.036 -17.22, -63.036 -17.22, -63.036 -17.22,...>,\n",
       " <LINESTRING (-63.036 -17.22, -63.036 -17.22, -63.036 -17.22, -63.036 -17.22,...>,\n",
       " <LINESTRING (-63.036 -17.22, -63.036 -17.22, -63.036 -17.22, -63.036 -17.22,...>,\n",
       " <LINESTRING (-63.174 -17.353, -63.174 -17.353, -63.174 -17.353, -63.174 -17....>,\n",
       " <LINESTRING (-63.163 -17.346, -63.163 -17.346, -63.163 -17.346, -63.163 -17....>,\n",
       " <LINESTRING (-63.174 -17.345, -63.174 -17.345, -63.174 -17.345, -63.174 -17....>]"
      ]
     },
     "execution_count": 9,
     "metadata": {},
     "output_type": "execute_result"
    }
   ],
   "source": [
    "lineas, names = leer_logs(contenido_filtrado)\n",
    "lineas"
   ]
  },
  {
   "cell_type": "code",
   "execution_count": 10,
   "id": "bda63ffa-beea-494c-a66f-d27660159e20",
   "metadata": {},
   "outputs": [
    {
     "data": {
      "text/html": [
       "<div>\n",
       "<style scoped>\n",
       "    .dataframe tbody tr th:only-of-type {\n",
       "        vertical-align: middle;\n",
       "    }\n",
       "\n",
       "    .dataframe tbody tr th {\n",
       "        vertical-align: top;\n",
       "    }\n",
       "\n",
       "    .dataframe thead th {\n",
       "        text-align: right;\n",
       "    }\n",
       "</style>\n",
       "<table border=\"1\" class=\"dataframe\">\n",
       "  <thead>\n",
       "    <tr style=\"text-align: right;\">\n",
       "      <th></th>\n",
       "      <th>nombre</th>\n",
       "      <th>geometry</th>\n",
       "    </tr>\n",
       "  </thead>\n",
       "  <tbody>\n",
       "    <tr>\n",
       "      <th>0</th>\n",
       "      <td>2025-10-23 20-40-14.tlog</td>\n",
       "      <td>LINESTRING (-62.78736 -17.25403, -62.78736 -17...</td>\n",
       "    </tr>\n",
       "    <tr>\n",
       "      <th>1</th>\n",
       "      <td>2025-10-23 22-23-06.tlog</td>\n",
       "      <td>LINESTRING (-62.78736 -17.25402, -62.78736 -17...</td>\n",
       "    </tr>\n",
       "    <tr>\n",
       "      <th>2</th>\n",
       "      <td>2025-10-23 23-58-21.tlog</td>\n",
       "      <td>LINESTRING (-62.80958 -17.21757, -62.80958 -17...</td>\n",
       "    </tr>\n",
       "  </tbody>\n",
       "</table>\n",
       "</div>"
      ],
      "text/plain": [
       "                     nombre                                           geometry\n",
       "0  2025-10-23 20-40-14.tlog  LINESTRING (-62.78736 -17.25403, -62.78736 -17...\n",
       "1  2025-10-23 22-23-06.tlog  LINESTRING (-62.78736 -17.25402, -62.78736 -17...\n",
       "2  2025-10-23 23-58-21.tlog  LINESTRING (-62.80958 -17.21757, -62.80958 -17..."
      ]
     },
     "execution_count": 10,
     "metadata": {},
     "output_type": "execute_result"
    }
   ],
   "source": [
    "# Crear un GeoDataFrame con los LineStrings y sus nombres\n",
    "gdf_lines = gpd.GeoDataFrame({'nombre': names, 'geometry': lineas}, crs=\"EPSG:4326\")\n",
    "gdf_lines.head(3)"
   ]
  },
  {
   "cell_type": "code",
   "execution_count": 11,
   "id": "7037a99d-9c1b-4596-9be7-615936ec90b1",
   "metadata": {},
   "outputs": [],
   "source": [
    "# Función para contar la cantidad de coordenadas en una geometría de tipo LINESTRING\n",
    "def contar_coordenadas(linea):\n",
    "    return len(linea.coords)\n",
    "\n",
    "# Función para dividir y limpiar las líneas\n",
    "def dividir_y_limpiar_linea(linea):\n",
    "    puntos = list(linea.coords)\n",
    "    nuevas_lineas = []\n",
    "    nueva_linea = []\n",
    "    \n",
    "    for punto in puntos:\n",
    "        if punto != (0, 0):\n",
    "            nueva_linea.append(punto)\n",
    "        else:\n",
    "            if nueva_linea:\n",
    "                nuevas_lineas.append(LineString(nueva_linea))\n",
    "                nueva_linea = []\n",
    "    \n",
    "    if nueva_linea:\n",
    "        nuevas_lineas.append(LineString(nueva_linea))\n",
    "    \n",
    "    return nuevas_lineas"
   ]
  },
  {
   "cell_type": "code",
   "execution_count": 12,
   "id": "72a0e2e9-b97f-41ae-8358-e8fde8272cdf",
   "metadata": {},
   "outputs": [],
   "source": [
    "# Crear una lista para las nuevas líneas y nombres\n",
    "nuevas_lineas = []\n",
    "nuevos_nombres = []\n",
    "for idx, row in gdf_lines.iterrows():\n",
    "    lineas_divididas = dividir_y_limpiar_linea(row.geometry)\n",
    "    for linea in lineas_divididas:\n",
    "        nuevas_lineas.append(linea)\n",
    "        nuevos_nombres.append(row['nombre'])"
   ]
  },
  {
   "cell_type": "code",
   "execution_count": 13,
   "id": "837a723a-f3b0-491c-bbc4-685a6157407a",
   "metadata": {},
   "outputs": [],
   "source": [
    "# Crear un nuevo GeoDataFrame con las nuevas líneas\n",
    "gdf_lines = gpd.GeoDataFrame({'nombre': nuevos_nombres, 'geometry': nuevas_lineas}, crs=\"EPSG:4326\")"
   ]
  },
  {
   "cell_type": "code",
   "execution_count": 14,
   "id": "ba7e2a2e-e1fd-4233-a540-998f9d135469",
   "metadata": {},
   "outputs": [
    {
     "data": {
      "text/html": [
       "<div>\n",
       "<style scoped>\n",
       "    .dataframe tbody tr th:only-of-type {\n",
       "        vertical-align: middle;\n",
       "    }\n",
       "\n",
       "    .dataframe tbody tr th {\n",
       "        vertical-align: top;\n",
       "    }\n",
       "\n",
       "    .dataframe thead th {\n",
       "        text-align: right;\n",
       "    }\n",
       "</style>\n",
       "<table border=\"1\" class=\"dataframe\">\n",
       "  <thead>\n",
       "    <tr style=\"text-align: right;\">\n",
       "      <th></th>\n",
       "      <th>nombre</th>\n",
       "      <th>geometry</th>\n",
       "      <th>num_vert</th>\n",
       "      <th>vehiculo</th>\n",
       "    </tr>\n",
       "  </thead>\n",
       "  <tbody>\n",
       "    <tr>\n",
       "      <th>0</th>\n",
       "      <td>2025-10-23 20-40-14.tlog</td>\n",
       "      <td>LINESTRING (-62.78736 -17.25403, -62.78736 -17...</td>\n",
       "      <td>5</td>\n",
       "      <td>DA01</td>\n",
       "    </tr>\n",
       "    <tr>\n",
       "      <th>1</th>\n",
       "      <td>2025-10-23 22-23-06.tlog</td>\n",
       "      <td>LINESTRING (-62.78736 -17.25402, -62.78736 -17...</td>\n",
       "      <td>3115</td>\n",
       "      <td>DA01</td>\n",
       "    </tr>\n",
       "    <tr>\n",
       "      <th>2</th>\n",
       "      <td>2025-10-23 22-23-06.tlog</td>\n",
       "      <td>LINESTRING (-62.78741 -17.25401, -62.78741 -17...</td>\n",
       "      <td>1862</td>\n",
       "      <td>DA01</td>\n",
       "    </tr>\n",
       "  </tbody>\n",
       "</table>\n",
       "</div>"
      ],
      "text/plain": [
       "                     nombre  \\\n",
       "0  2025-10-23 20-40-14.tlog   \n",
       "1  2025-10-23 22-23-06.tlog   \n",
       "2  2025-10-23 22-23-06.tlog   \n",
       "\n",
       "                                            geometry  num_vert vehiculo  \n",
       "0  LINESTRING (-62.78736 -17.25403, -62.78736 -17...         5     DA01  \n",
       "1  LINESTRING (-62.78736 -17.25402, -62.78736 -17...      3115     DA01  \n",
       "2  LINESTRING (-62.78741 -17.25401, -62.78741 -17...      1862     DA01  "
      ]
     },
     "execution_count": 14,
     "metadata": {},
     "output_type": "execute_result"
    }
   ],
   "source": [
    "gdf_lines['num_vert'] = gdf_lines['geometry'].apply(contar_coordenadas)\n",
    "gdf_lines['vehiculo'] = vehiculo\n",
    "gdf_lines.head(3)"
   ]
  },
  {
   "cell_type": "code",
   "execution_count": 15,
   "id": "5eb9225d-10fe-40d0-9dd1-0b6ecc7cfe0a",
   "metadata": {},
   "outputs": [
    {
     "data": {
      "text/plain": [
       "<Axes: >"
      ]
     },
     "execution_count": 15,
     "metadata": {},
     "output_type": "execute_result"
    },
    {
     "data": {
      "image/png": "[encoded data removed]",
      "text/plain": [
       "<Figure size 640x480 with 1 Axes>"
      ]
     },
     "metadata": {},
     "output_type": "display_data"
    }
   ],
   "source": [
    "gdf_lines.plot()"
   ]
  },
  {
   "cell_type": "code",
   "execution_count": 16,
   "id": "40c12d33-5333-42bc-b844-9a4c33aa6560",
   "metadata": {},
   "outputs": [],
   "source": [
    "gdf_lines.crs = \"EPSG:4326\"\n",
    "gdf_lines_utm = gdf_lines.to_crs(epsg=32720)"
   ]
  },
  {
   "cell_type": "code",
   "execution_count": 17,
   "id": "ce56fcc4-a23c-4fe8-a162-08f9dc13c892",
   "metadata": {},
   "outputs": [
    {
     "data": {
      "text/plain": [
       "<Axes: >"
      ]
     },
     "execution_count": 17,
     "metadata": {},
     "output_type": "execute_result"
    },
    {
     "data": {
      "image/png": "[encoded data removed]",
      "text/plain": [
       "<Figure size 640x480 with 1 Axes>"
      ]
     },
     "metadata": {},
     "output_type": "display_data"
    }
   ],
   "source": [
    "gdf_lines_utm.plot()"
   ]
  },
  {
   "cell_type": "code",
   "execution_count": 18,
   "id": "3abd2055-04d0-493d-a9ee-d4a79233b8d6",
   "metadata": {},
   "outputs": [],
   "source": [
    "gdf_lines_utm['idd'] = 0\n",
    "gdf_lines_utm = gdf_lines_utm.rename_geometry(\"geom\")"
   ]
  },
  {
   "cell_type": "code",
   "execution_count": 19,
   "id": "dbe78ea5-dfcc-49d0-8d97-bf191c7a9d97",
   "metadata": {},
   "outputs": [
    {
     "data": {
      "text/html": [
       "<div>\n",
       "<style scoped>\n",
       "    .dataframe tbody tr th:only-of-type {\n",
       "        vertical-align: middle;\n",
       "    }\n",
       "\n",
       "    .dataframe tbody tr th {\n",
       "        vertical-align: top;\n",
       "    }\n",
       "\n",
       "    .dataframe thead th {\n",
       "        text-align: right;\n",
       "    }\n",
       "</style>\n",
       "<table border=\"1\" class=\"dataframe\">\n",
       "  <thead>\n",
       "    <tr style=\"text-align: right;\">\n",
       "      <th></th>\n",
       "      <th>nombre</th>\n",
       "      <th>geom</th>\n",
       "      <th>num_vert</th>\n",
       "      <th>vehiculo</th>\n",
       "      <th>idd</th>\n",
       "    </tr>\n",
       "  </thead>\n",
       "  <tbody>\n",
       "    <tr>\n",
       "      <th>0</th>\n",
       "      <td>2025-10-23 20-40-14.tlog</td>\n",
       "      <td>LINESTRING (522603.111 8092330.582, 522603.111...</td>\n",
       "      <td>5</td>\n",
       "      <td>DA01</td>\n",
       "      <td>0</td>\n",
       "    </tr>\n",
       "    <tr>\n",
       "      <th>1</th>\n",
       "      <td>2025-10-23 22-23-06.tlog</td>\n",
       "      <td>LINESTRING (522603.505 8092331.068, 522603.505...</td>\n",
       "      <td>3115</td>\n",
       "      <td>DA01</td>\n",
       "      <td>0</td>\n",
       "    </tr>\n",
       "    <tr>\n",
       "      <th>2</th>\n",
       "      <td>2025-10-23 22-23-06.tlog</td>\n",
       "      <td>LINESTRING (522598.138 8092332.457, 522598.138...</td>\n",
       "      <td>1862</td>\n",
       "      <td>DA01</td>\n",
       "      <td>0</td>\n",
       "    </tr>\n",
       "    <tr>\n",
       "      <th>3</th>\n",
       "      <td>2025-10-23 22-23-06.tlog</td>\n",
       "      <td>LINESTRING (522198.221 8093348.319, 522198.211...</td>\n",
       "      <td>1550</td>\n",
       "      <td>DA01</td>\n",
       "      <td>0</td>\n",
       "    </tr>\n",
       "    <tr>\n",
       "      <th>4</th>\n",
       "      <td>2025-10-23 23-58-21.tlog</td>\n",
       "      <td>LINESTRING (520245.366 8096365.826, 520245.387...</td>\n",
       "      <td>2123</td>\n",
       "      <td>DA01</td>\n",
       "      <td>0</td>\n",
       "    </tr>\n",
       "    <tr>\n",
       "      <th>5</th>\n",
       "      <td>2025-10-23 23-58-59.tlog</td>\n",
       "      <td>LINESTRING (496135.314 8096081.739, 496135.314...</td>\n",
       "      <td>63</td>\n",
       "      <td>DA01</td>\n",
       "      <td>0</td>\n",
       "    </tr>\n",
       "    <tr>\n",
       "      <th>6</th>\n",
       "      <td>2025-10-23 23-59-55.tlog</td>\n",
       "      <td>LINESTRING (496136.271 8096082.458, 496136.271...</td>\n",
       "      <td>89</td>\n",
       "      <td>DA01</td>\n",
       "      <td>0</td>\n",
       "    </tr>\n",
       "    <tr>\n",
       "      <th>7</th>\n",
       "      <td>2025-10-24 01-28-49.tlog</td>\n",
       "      <td>LINESTRING (496136.388 8096083.111, 496136.388...</td>\n",
       "      <td>1876</td>\n",
       "      <td>DA01</td>\n",
       "      <td>0</td>\n",
       "    </tr>\n",
       "    <tr>\n",
       "      <th>8</th>\n",
       "      <td>2025-10-24 01-28-49.tlog</td>\n",
       "      <td>LINESTRING (497178.023 8096210.015, 497178.033...</td>\n",
       "      <td>1752</td>\n",
       "      <td>DA01</td>\n",
       "      <td>0</td>\n",
       "    </tr>\n",
       "    <tr>\n",
       "      <th>9</th>\n",
       "      <td>2025-10-24 01-53-59.tlog</td>\n",
       "      <td>LINESTRING (481477.466 8081339.325, 481477.477...</td>\n",
       "      <td>2832</td>\n",
       "      <td>DA01</td>\n",
       "      <td>0</td>\n",
       "    </tr>\n",
       "    <tr>\n",
       "      <th>10</th>\n",
       "      <td>2025-10-24 01-53-59.tlog</td>\n",
       "      <td>LINESTRING (482655.012 8082177.004, 482655.012...</td>\n",
       "      <td>134</td>\n",
       "      <td>DA01</td>\n",
       "      <td>0</td>\n",
       "    </tr>\n",
       "    <tr>\n",
       "      <th>11</th>\n",
       "      <td>2025-10-24 02-20-00.tlog</td>\n",
       "      <td>LINESTRING (482654.905 8082177.757, 482654.905...</td>\n",
       "      <td>2903</td>\n",
       "      <td>DA01</td>\n",
       "      <td>0</td>\n",
       "    </tr>\n",
       "    <tr>\n",
       "      <th>12</th>\n",
       "      <td>2025-10-24 02-20-00.tlog</td>\n",
       "      <td>LINESTRING (481558.586 8082299.583, 481557.736...</td>\n",
       "      <td>8</td>\n",
       "      <td>DA01</td>\n",
       "      <td>0</td>\n",
       "    </tr>\n",
       "    <tr>\n",
       "      <th>13</th>\n",
       "      <td>2025-10-24 02-54-55.tlog</td>\n",
       "      <td>LINESTRING (481556.174 8082299.835, 481556.195...</td>\n",
       "      <td>1419</td>\n",
       "      <td>DA01</td>\n",
       "      <td>0</td>\n",
       "    </tr>\n",
       "  </tbody>\n",
       "</table>\n",
       "</div>"
      ],
      "text/plain": [
       "                      nombre  \\\n",
       "0   2025-10-23 20-40-14.tlog   \n",
       "1   2025-10-23 22-23-06.tlog   \n",
       "2   2025-10-23 22-23-06.tlog   \n",
       "3   2025-10-23 22-23-06.tlog   \n",
       "4   2025-10-23 23-58-21.tlog   \n",
       "5   2025-10-23 23-58-59.tlog   \n",
       "6   2025-10-23 23-59-55.tlog   \n",
       "7   2025-10-24 01-28-49.tlog   \n",
       "8   2025-10-24 01-28-49.tlog   \n",
       "9   2025-10-24 01-53-59.tlog   \n",
       "10  2025-10-24 01-53-59.tlog   \n",
       "11  2025-10-24 02-20-00.tlog   \n",
       "12  2025-10-24 02-20-00.tlog   \n",
       "13  2025-10-24 02-54-55.tlog   \n",
       "\n",
       "                                                 geom  num_vert vehiculo  idd  \n",
       "0   LINESTRING (522603.111 8092330.582, 522603.111...         5     DA01    0  \n",
       "1   LINESTRING (522603.505 8092331.068, 522603.505...      3115     DA01    0  \n",
       "2   LINESTRING (522598.138 8092332.457, 522598.138...      1862     DA01    0  \n",
       "3   LINESTRING (522198.221 8093348.319, 522198.211...      1550     DA01    0  \n",
       "4   LINESTRING (520245.366 8096365.826, 520245.387...      2123     DA01    0  \n",
       "5   LINESTRING (496135.314 8096081.739, 496135.314...        63     DA01    0  \n",
       "6   LINESTRING (496136.271 8096082.458, 496136.271...        89     DA01    0  \n",
       "7   LINESTRING (496136.388 8096083.111, 496136.388...      1876     DA01    0  \n",
       "8   LINESTRING (497178.023 8096210.015, 497178.033...      1752     DA01    0  \n",
       "9   LINESTRING (481477.466 8081339.325, 481477.477...      2832     DA01    0  \n",
       "10  LINESTRING (482655.012 8082177.004, 482655.012...       134     DA01    0  \n",
       "11  LINESTRING (482654.905 8082177.757, 482654.905...      2903     DA01    0  \n",
       "12  LINESTRING (481558.586 8082299.583, 481557.736...         8     DA01    0  \n",
       "13  LINESTRING (481556.174 8082299.835, 481556.195...      1419     DA01    0  "
      ]
     },
     "execution_count": 19,
     "metadata": {},
     "output_type": "execute_result"
    }
   ],
   "source": [
    "gdf_lines_utm"
   ]
  },
  {
   "cell_type": "code",
   "execution_count": 20,
   "id": "90e11d1b-bbab-414c-8f2f-d1b4080530af",
   "metadata": {},
   "outputs": [],
   "source": [
    "gdf_lines_utm.to_postgis(\n",
    "    name=\"recorridos_lib\",\n",
    "    schema=\"drones_control_bio\",\n",
    "    con=obtener_engine(),\n",
    "    if_exists=\"append\",   # usa \"replace\" si quieres sobrescribir todo\n",
    "    index=False\n",
    ")"
   ]
  },
  {
   "cell_type": "code",
   "execution_count": null,
   "id": "cef4cbba-742a-43c0-9550-15ef70d47704",
   "metadata": {},
   "outputs": [],
   "source": []
  },
  {
   "cell_type": "code",
   "execution_count": null,
   "id": "00672c74-7712-4f89-9df1-491cff2aeae4",
   "metadata": {},
   "outputs": [],
   "source": []
  },
  {
   "cell_type": "code",
   "execution_count": null,
   "id": "898f8316-e785-4e3e-83c6-fde292c68b1f",
   "metadata": {},
   "outputs": [],
   "source": []
  }
 ],
 "metadata": {
  "kernelspec": {
   "display_name": "Python 3 (ipykernel)",
   "language": "python",
   "name": "python3"
  },
  "language_info": {
   "codemirror_mode": {
    "name": "ipython",
    "version": 3
   },
   "file_extension": ".py",
   "mimetype": "text/x-python",
   "name": "python",
   "nbconvert_exporter": "python",
   "pygments_lexer": "ipython3",
   "version": "3.10.13"
  }
 },
 "nbformat": 4,
 "nbformat_minor": 5
}
