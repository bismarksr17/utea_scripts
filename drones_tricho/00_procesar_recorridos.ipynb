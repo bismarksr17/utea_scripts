{
 "cells": [
  {
   "cell_type": "code",
   "execution_count": 2,
   "id": "471a58e2-7e57-4c39-9f66-2901e67bad16",
   "metadata": {},
   "outputs": [],
   "source": [
    "import sys\n",
    "sys.path.append('..')\n",
    "from pymavlink import mavutil\n",
    "import matplotlib.pyplot as plt\n",
    "import pandas as pd\n",
    "import os\n",
    "import geopandas as gpd\n",
    "from shapely.geometry import Point, LineString\n",
    "\n",
    "from config import RUTA_UNIDAD_ONE_DRIVE\n",
    "from config import RUTA_LOCAL_ONE_DRIVE\n",
    "\n",
    "RUTA_COMPLETA = os.path.join(RUTA_UNIDAD_ONE_DRIVE, RUTA_LOCAL_ONE_DRIVE)"
   ]
  },
  {
   "cell_type": "code",
   "execution_count": 28,
   "id": "2daa78ba-f5c9-44f1-b6b2-4640c8891024",
   "metadata": {},
   "outputs": [],
   "source": [
    "vehiculo = 'DA02'"
   ]
  },
  {
   "cell_type": "code",
   "execution_count": 29,
   "id": "267f5023-bc5a-45eb-8207-5364f8d9166d",
   "metadata": {},
   "outputs": [],
   "source": [
    "path_rec = RUTA_UNIDAD_ONE_DRIVE + r'\\Ingenio Azucarero Guabira S.A\\UTEA - SEMANAL - EQUIPO AVIACION UTEA\\Trichogramma\\2025\\SHP\\RECORRIDOS_.shp'\n",
    "gdf_rec = gpd.read_file(path_rec)"
   ]
  },
  {
   "cell_type": "code",
   "execution_count": 30,
   "id": "504d15e2-1b8c-45c8-8f0a-b574cd569e93",
   "metadata": {},
   "outputs": [
    {
     "data": {
      "text/plain": [
       "97"
      ]
     },
     "execution_count": 30,
     "metadata": {},
     "output_type": "execute_result"
    }
   ],
   "source": [
    "if vehiculo == 'DA01':\n",
    "    path_log = RUTA_UNIDAD_ONE_DRIVE + r'\\Ingenio Azucarero Guabira S.A\\UTEA - SEMANAL - EQUIPO AVIACION UTEA\\Trichogramma\\2025\\TLOGS\\ALTA_01'\n",
    "elif vehiculo == 'DA02':\n",
    "    path_log = RUTA_UNIDAD_ONE_DRIVE + r'\\Ingenio Azucarero Guabira S.A\\UTEA - SEMANAL - EQUIPO AVIACION UTEA\\Trichogramma\\2025\\TLOGS\\ALTA_02'\n",
    "elif vehiculo == 'DA03':\n",
    "    path_log = RUTA_UNIDAD_ONE_DRIVE + r'\\Ingenio Azucarero Guabira S.A\\UTEA - SEMANAL - EQUIPO AVIACION UTEA\\Trichogramma\\2025\\TLOGS\\ALTA_03'\n",
    "contenido = os.listdir(path_log)\n",
    "len(contenido)"
   ]
  },
  {
   "cell_type": "code",
   "execution_count": 31,
   "id": "3f11a10e-4884-402e-a913-268ed87089c8",
   "metadata": {},
   "outputs": [
    {
     "data": {
      "text/plain": [
       "10"
      ]
     },
     "execution_count": 31,
     "metadata": {},
     "output_type": "execute_result"
    }
   ],
   "source": [
    "# Filtrar la lista 'contenido' para excluir elementos que están en la columna 'nombre' del GeoDataFrame\n",
    "contenido_filtrado = [item for item in contenido if item not in gdf_rec['nombre'].values]\n",
    "len(contenido_filtrado)"
   ]
  },
  {
   "cell_type": "code",
   "execution_count": 32,
   "id": "ca3c281f-b619-4640-92a2-6c815204fc7c",
   "metadata": {},
   "outputs": [],
   "source": [
    "def leer_logs(lista_logs):\n",
    "    list_geo = []\n",
    "    list_name = []\n",
    "    for i in lista_logs:\n",
    "        log = path_log + '/' + i\n",
    "        \n",
    "        name = i\n",
    "        \n",
    "        mlog = mavutil.mavlink_connection(log)\n",
    "        lats = []\n",
    "        lons = []\n",
    "        while True:\n",
    "            msg = mlog.recv_match()\n",
    "            if not msg:\n",
    "                break\n",
    "            # Ejemplo de procesamiento de mensaje\n",
    "            if msg.get_type() == 'GLOBAL_POSITION_INT':\n",
    "                lat = msg.lat / 1e7  # Latitud en grados\n",
    "                lon = msg.lon / 1e7  # Longitud en grados\n",
    "                lats.append(lat)\n",
    "                lons.append(lon)\n",
    "\n",
    "        coors = {'lat':lats, 'lon':lons}\n",
    "        df = pd.DataFrame(coors)\n",
    "        \n",
    "        geometry = [Point(xy) for xy in zip(df['lon'], df['lat'])]\n",
    "        line = LineString(geometry)\n",
    "        list_geo.append(line)\n",
    "        list_name.append(name)\n",
    "    return (list_geo, list_name)"
   ]
  },
  {
   "cell_type": "code",
   "execution_count": 33,
   "id": "d28df3e9-37ed-403b-b3c8-c9873fa59851",
   "metadata": {},
   "outputs": [],
   "source": [
    "lineas, names = leer_logs(contenido_filtrado)"
   ]
  },
  {
   "cell_type": "code",
   "execution_count": 34,
   "id": "3654c9fa-70ac-4101-acc1-501bcbbef161",
   "metadata": {},
   "outputs": [
    {
     "data": {
      "text/plain": [
       "[<LINESTRING (-63.199 -17.243, -63.199 -17.243, -63.199 -17.243, -63.199 -17....>,\n",
       " <LINESTRING (-63.199 -17.243, -63.199 -17.243, -63.199 -17.243, -63.199 -17....>,\n",
       " <LINESTRING (0 0, 0 0, 0 0, 0 0, 0 0, 0 0, 0 0, 0 0, 0 0, 0 0, 0 0, 0 0, 0 0...>,\n",
       " <LINESTRING (-63.18 -17.251, -63.18 -17.251, -63.18 -17.251, -63.18 -17.251,...>,\n",
       " <LINESTRING (-63.183 -17.245, -63.183 -17.245, -63.183 -17.245, -63.183 -17....>,\n",
       " <LINESTRING (-63.198 -17.241, -63.198 -17.241, -63.198 -17.241, -63.198 -17....>,\n",
       " <LINESTRING (-63.203 -17.241, -63.203 -17.241, -63.203 -17.241, -63.203 -17....>,\n",
       " <LINESTRING (-63.202 -17.244, -63.202 -17.244, -63.202 -17.244, -63.202 -17....>,\n",
       " <LINESTRING (-63.178 -17.275, -63.178 -17.275, -63.178 -17.275, -63.178 -17....>,\n",
       " <LINESTRING (-63.178 -17.275, -63.178 -17.275, -63.178 -17.275, -63.178 -17....>]"
      ]
     },
     "execution_count": 34,
     "metadata": {},
     "output_type": "execute_result"
    }
   ],
   "source": [
    "lineas"
   ]
  },
  {
   "cell_type": "code",
   "execution_count": 35,
   "id": "65a842f9-e32d-455e-9f12-0d5461b62b56",
   "metadata": {},
   "outputs": [],
   "source": [
    "# Crear un GeoDataFrame con los LineStrings y sus nombres\n",
    "gdf_lines = gpd.GeoDataFrame({'nombre': names, 'geometry': lineas}, crs=\"EPSG:4326\")"
   ]
  },
  {
   "cell_type": "code",
   "execution_count": 36,
   "id": "76afc766-6f98-430f-bd2f-b94ad23f47d8",
   "metadata": {},
   "outputs": [
    {
     "data": {
      "text/html": [
       "<div>\n",
       "<style scoped>\n",
       "    .dataframe tbody tr th:only-of-type {\n",
       "        vertical-align: middle;\n",
       "    }\n",
       "\n",
       "    .dataframe tbody tr th {\n",
       "        vertical-align: top;\n",
       "    }\n",
       "\n",
       "    .dataframe thead th {\n",
       "        text-align: right;\n",
       "    }\n",
       "</style>\n",
       "<table border=\"1\" class=\"dataframe\">\n",
       "  <thead>\n",
       "    <tr style=\"text-align: right;\">\n",
       "      <th></th>\n",
       "      <th>nombre</th>\n",
       "      <th>geometry</th>\n",
       "    </tr>\n",
       "  </thead>\n",
       "  <tbody>\n",
       "    <tr>\n",
       "      <th>0</th>\n",
       "      <td>2025-09-08 09-14-44.tlog</td>\n",
       "      <td>LINESTRING (-63.19862 -17.24271, -63.19862 -17...</td>\n",
       "    </tr>\n",
       "    <tr>\n",
       "      <th>1</th>\n",
       "      <td>2025-09-08 10-30-13.tlog</td>\n",
       "      <td>LINESTRING (-63.19862 -17.24271, -63.19862 -17...</td>\n",
       "    </tr>\n",
       "    <tr>\n",
       "      <th>2</th>\n",
       "      <td>2025-09-08 19-44-56.tlog</td>\n",
       "      <td>LINESTRING (0.00000 0.00000, 0.00000 0.00000, ...</td>\n",
       "    </tr>\n",
       "  </tbody>\n",
       "</table>\n",
       "</div>"
      ],
      "text/plain": [
       "                     nombre                                           geometry\n",
       "0  2025-09-08 09-14-44.tlog  LINESTRING (-63.19862 -17.24271, -63.19862 -17...\n",
       "1  2025-09-08 10-30-13.tlog  LINESTRING (-63.19862 -17.24271, -63.19862 -17...\n",
       "2  2025-09-08 19-44-56.tlog  LINESTRING (0.00000 0.00000, 0.00000 0.00000, ..."
      ]
     },
     "execution_count": 36,
     "metadata": {},
     "output_type": "execute_result"
    }
   ],
   "source": [
    "gdf_lines.head(3)"
   ]
  },
  {
   "cell_type": "code",
   "execution_count": 37,
   "id": "6a26d1ff-331f-4474-b665-2482b58a2e4d",
   "metadata": {},
   "outputs": [
    {
     "data": {
      "text/plain": [
       "<Axes: >"
      ]
     },
     "execution_count": 37,
     "metadata": {},
     "output_type": "execute_result"
    },
    {
     "data": {
      "image/png": "[encoded data removed]",
      "text/plain": [
       "<Figure size 640x480 with 1 Axes>"
      ]
     },
     "metadata": {},
     "output_type": "display_data"
    }
   ],
   "source": [
    "gdf_lines.plot()"
   ]
  },
  {
   "cell_type": "code",
   "execution_count": 38,
   "id": "b1aaa449-80c6-4d00-8d07-b9a2fb117bbb",
   "metadata": {},
   "outputs": [],
   "source": [
    "gdf_lines.to_file('LINEAS.shp', driver=\"ESRI Shapefile\")"
   ]
  },
  {
   "cell_type": "code",
   "execution_count": 39,
   "id": "e19354fd-3846-4f71-88b4-e546b8deb621",
   "metadata": {},
   "outputs": [],
   "source": [
    "# Función para dividir y limpiar las líneas\n",
    "def dividir_y_limpiar_linea(linea):\n",
    "    puntos = list(linea.coords)\n",
    "    nuevas_lineas = []\n",
    "    nueva_linea = []\n",
    "    \n",
    "    for punto in puntos:\n",
    "        if punto != (0, 0):\n",
    "            nueva_linea.append(punto)\n",
    "        else:\n",
    "            if nueva_linea:\n",
    "                nuevas_lineas.append(LineString(nueva_linea))\n",
    "                nueva_linea = []\n",
    "    \n",
    "    if nueva_linea:\n",
    "        nuevas_lineas.append(LineString(nueva_linea))\n",
    "    \n",
    "    return nuevas_lineas"
   ]
  },
  {
   "cell_type": "code",
   "execution_count": 40,
   "id": "7d405569-5da0-4ab6-8e82-b02a3dbdd4c2",
   "metadata": {},
   "outputs": [],
   "source": [
    "# Crear una lista para las nuevas líneas y nombres\n",
    "nuevas_lineas = []\n",
    "nuevos_nombres = []\n",
    "for idx, row in gdf_lines.iterrows():\n",
    "    lineas_divididas = dividir_y_limpiar_linea(row.geometry)\n",
    "    for linea in lineas_divididas:\n",
    "        nuevas_lineas.append(linea)\n",
    "        nuevos_nombres.append(row['nombre'])"
   ]
  },
  {
   "cell_type": "code",
   "execution_count": 41,
   "id": "e094a348-a4b5-4743-8c3a-c7dc6fb7a21a",
   "metadata": {},
   "outputs": [],
   "source": [
    "# Crear un nuevo GeoDataFrame con las nuevas líneas\n",
    "gdf_lines = gpd.GeoDataFrame({'nombre': nuevos_nombres, 'geometry': nuevas_lineas}, crs=\"EPSG:4326\")"
   ]
  },
  {
   "cell_type": "code",
   "execution_count": 42,
   "id": "0c91619d-f9dd-46af-9149-acca387f08e1",
   "metadata": {},
   "outputs": [],
   "source": [
    "# Función para contar la cantidad de coordenadas en una geometría de tipo LINESTRING\n",
    "def contar_coordenadas(linea):\n",
    "    return len(linea.coords)"
   ]
  },
  {
   "cell_type": "code",
   "execution_count": 43,
   "id": "02e41758-ab6e-46f4-90f6-686f83fc16bb",
   "metadata": {},
   "outputs": [],
   "source": [
    "gdf_lines['num_vert'] = gdf_lines['geometry'].apply(contar_coordenadas)"
   ]
  },
  {
   "cell_type": "code",
   "execution_count": 44,
   "id": "bae564ef-227a-4a2c-ab89-cb2cc7d43c53",
   "metadata": {},
   "outputs": [],
   "source": [
    "gdf_lines['vehiculo'] = vehiculo"
   ]
  },
  {
   "cell_type": "code",
   "execution_count": 45,
   "id": "7c21bb5c-d89a-4d80-88da-c6a7ed188f99",
   "metadata": {},
   "outputs": [
    {
     "data": {
      "text/html": [
       "<div>\n",
       "<style scoped>\n",
       "    .dataframe tbody tr th:only-of-type {\n",
       "        vertical-align: middle;\n",
       "    }\n",
       "\n",
       "    .dataframe tbody tr th {\n",
       "        vertical-align: top;\n",
       "    }\n",
       "\n",
       "    .dataframe thead th {\n",
       "        text-align: right;\n",
       "    }\n",
       "</style>\n",
       "<table border=\"1\" class=\"dataframe\">\n",
       "  <thead>\n",
       "    <tr style=\"text-align: right;\">\n",
       "      <th></th>\n",
       "      <th>nombre</th>\n",
       "      <th>geometry</th>\n",
       "      <th>num_vert</th>\n",
       "      <th>vehiculo</th>\n",
       "    </tr>\n",
       "  </thead>\n",
       "  <tbody>\n",
       "    <tr>\n",
       "      <th>0</th>\n",
       "      <td>2025-09-08 09-14-44.tlog</td>\n",
       "      <td>LINESTRING (-63.19862 -17.24271, -63.19862 -17...</td>\n",
       "      <td>338</td>\n",
       "      <td>DA02</td>\n",
       "    </tr>\n",
       "    <tr>\n",
       "      <th>1</th>\n",
       "      <td>2025-09-08 09-14-44.tlog</td>\n",
       "      <td>LINESTRING (-63.19863 -17.24273, -63.19863 -17...</td>\n",
       "      <td>595</td>\n",
       "      <td>DA02</td>\n",
       "    </tr>\n",
       "    <tr>\n",
       "      <th>2</th>\n",
       "      <td>2025-09-08 10-30-13.tlog</td>\n",
       "      <td>LINESTRING (-63.19862 -17.24271, -63.19862 -17...</td>\n",
       "      <td>961</td>\n",
       "      <td>DA02</td>\n",
       "    </tr>\n",
       "  </tbody>\n",
       "</table>\n",
       "</div>"
      ],
      "text/plain": [
       "                     nombre  \\\n",
       "0  2025-09-08 09-14-44.tlog   \n",
       "1  2025-09-08 09-14-44.tlog   \n",
       "2  2025-09-08 10-30-13.tlog   \n",
       "\n",
       "                                            geometry  num_vert vehiculo  \n",
       "0  LINESTRING (-63.19862 -17.24271, -63.19862 -17...       338     DA02  \n",
       "1  LINESTRING (-63.19863 -17.24273, -63.19863 -17...       595     DA02  \n",
       "2  LINESTRING (-63.19862 -17.24271, -63.19862 -17...       961     DA02  "
      ]
     },
     "execution_count": 45,
     "metadata": {},
     "output_type": "execute_result"
    }
   ],
   "source": [
    "gdf_lines.head(3)"
   ]
  },
  {
   "cell_type": "code",
   "execution_count": 46,
   "id": "53ff8c8a-2a43-4afe-bed5-38f1530fdae0",
   "metadata": {},
   "outputs": [
    {
     "data": {
      "text/plain": [
       "<Axes: >"
      ]
     },
     "execution_count": 46,
     "metadata": {},
     "output_type": "execute_result"
    },
    {
     "data": {
      "image/png": "[encoded data removed]",
      "text/plain": [
       "<Figure size 640x480 with 1 Axes>"
      ]
     },
     "metadata": {},
     "output_type": "display_data"
    }
   ],
   "source": [
    "gdf_lines.plot()"
   ]
  },
  {
   "cell_type": "code",
   "execution_count": 47,
   "id": "d663ceb7-df00-447c-858a-6493a884b0ed",
   "metadata": {},
   "outputs": [],
   "source": [
    "gdf_lines.crs = \"EPSG:4326\"\n",
    "gdf_lines_utm = gdf_lines.to_crs(epsg=32720)"
   ]
  },
  {
   "cell_type": "code",
   "execution_count": 48,
   "id": "a04b10fb-340a-4b87-8ccd-d3a03057ceba",
   "metadata": {},
   "outputs": [
    {
     "data": {
      "text/plain": [
       "<Axes: >"
      ]
     },
     "execution_count": 48,
     "metadata": {},
     "output_type": "execute_result"
    },
    {
     "data": {
      "image/png": "[encoded data removed]",
      "text/plain": [
       "<Figure size 640x480 with 1 Axes>"
      ]
     },
     "metadata": {},
     "output_type": "display_data"
    }
   ],
   "source": [
    "gdf_lines_utm.plot()"
   ]
  },
  {
   "cell_type": "code",
   "execution_count": 49,
   "id": "6f4d4c1a-3d7a-467c-bc89-c93475ae3aca",
   "metadata": {},
   "outputs": [],
   "source": [
    "# Combinar los GeoDataFrames\n",
    "gdf_combined = gpd.GeoDataFrame(pd.concat([gdf_rec, gdf_lines_utm], ignore_index=True))\n",
    "# rellenar valores NaN\n",
    "gdf_combined['idd'] = gdf_combined['idd'].fillna(0).astype(int)"
   ]
  },
  {
   "cell_type": "code",
   "execution_count": 50,
   "id": "0eb2ed02-320b-4b64-921b-316c75f27ef9",
   "metadata": {},
   "outputs": [
    {
     "data": {
      "text/html": [
       "<div>\n",
       "<style scoped>\n",
       "    .dataframe tbody tr th:only-of-type {\n",
       "        vertical-align: middle;\n",
       "    }\n",
       "\n",
       "    .dataframe tbody tr th {\n",
       "        vertical-align: top;\n",
       "    }\n",
       "\n",
       "    .dataframe thead th {\n",
       "        text-align: right;\n",
       "    }\n",
       "</style>\n",
       "<table border=\"1\" class=\"dataframe\">\n",
       "  <thead>\n",
       "    <tr style=\"text-align: right;\">\n",
       "      <th></th>\n",
       "      <th>idd</th>\n",
       "      <th>nombre</th>\n",
       "      <th>vehiculo</th>\n",
       "      <th>num_vert</th>\n",
       "      <th>id</th>\n",
       "      <th>asignado</th>\n",
       "      <th>geometry</th>\n",
       "    </tr>\n",
       "  </thead>\n",
       "  <tbody>\n",
       "    <tr>\n",
       "      <th>0</th>\n",
       "      <td>-1</td>\n",
       "      <td>2025-05-02 08-32-28.tlog</td>\n",
       "      <td>DA02</td>\n",
       "      <td>2517.0</td>\n",
       "      <td>None</td>\n",
       "      <td>ORIGINAL</td>\n",
       "      <td>LINESTRING (471873.745 8084797.248, 471873.415...</td>\n",
       "    </tr>\n",
       "    <tr>\n",
       "      <th>1</th>\n",
       "      <td>-1</td>\n",
       "      <td>2025-05-05 16-16-47.tlog</td>\n",
       "      <td>DA02</td>\n",
       "      <td>1056.0</td>\n",
       "      <td>None</td>\n",
       "      <td>ORIGINAL</td>\n",
       "      <td>LINESTRING (478886.299 8093597.535, 478886.288...</td>\n",
       "    </tr>\n",
       "    <tr>\n",
       "      <th>2</th>\n",
       "      <td>-1</td>\n",
       "      <td>2025-05-05 16-32-05.tlog</td>\n",
       "      <td>DA02</td>\n",
       "      <td>345.0</td>\n",
       "      <td>None</td>\n",
       "      <td>ORIGINAL</td>\n",
       "      <td>LINESTRING (478939.004 8093577.919, 478939.004...</td>\n",
       "    </tr>\n",
       "    <tr>\n",
       "      <th>3</th>\n",
       "      <td>-1</td>\n",
       "      <td>2025-05-05 21-05-04.tlog</td>\n",
       "      <td>DA02</td>\n",
       "      <td>3426.0</td>\n",
       "      <td>None</td>\n",
       "      <td>ORIGINAL</td>\n",
       "      <td>LINESTRING (478661.660 8093836.724, 478660.405...</td>\n",
       "    </tr>\n",
       "    <tr>\n",
       "      <th>4</th>\n",
       "      <td>-1</td>\n",
       "      <td>2025-05-05 21-05-04.tlog</td>\n",
       "      <td>DA02</td>\n",
       "      <td>3207.0</td>\n",
       "      <td>None</td>\n",
       "      <td>ORIGINAL</td>\n",
       "      <td>LINESTRING (478649.523 8093832.840, 478649.555...</td>\n",
       "    </tr>\n",
       "    <tr>\n",
       "      <th>...</th>\n",
       "      <td>...</td>\n",
       "      <td>...</td>\n",
       "      <td>...</td>\n",
       "      <td>...</td>\n",
       "      <td>...</td>\n",
       "      <td>...</td>\n",
       "      <td>...</td>\n",
       "    </tr>\n",
       "    <tr>\n",
       "      <th>437</th>\n",
       "      <td>0</td>\n",
       "      <td>2025-09-09 01-16-07.tlog</td>\n",
       "      <td>DA02</td>\n",
       "      <td>1181.0</td>\n",
       "      <td>NaN</td>\n",
       "      <td>NaN</td>\n",
       "      <td>LINESTRING (478508.860 8093454.289, 478507.157...</td>\n",
       "    </tr>\n",
       "    <tr>\n",
       "      <th>438</th>\n",
       "      <td>0</td>\n",
       "      <td>2025-09-09 01-16-07.tlog</td>\n",
       "      <td>DA02</td>\n",
       "      <td>3483.0</td>\n",
       "      <td>NaN</td>\n",
       "      <td>NaN</td>\n",
       "      <td>LINESTRING (478973.500 8093817.055, 478973.426...</td>\n",
       "    </tr>\n",
       "    <tr>\n",
       "      <th>439</th>\n",
       "      <td>0</td>\n",
       "      <td>2025-09-09 01-48-35.tlog</td>\n",
       "      <td>DA02</td>\n",
       "      <td>3494.0</td>\n",
       "      <td>NaN</td>\n",
       "      <td>NaN</td>\n",
       "      <td>LINESTRING (481073.920 8090041.703, 481073.909...</td>\n",
       "    </tr>\n",
       "    <tr>\n",
       "      <th>440</th>\n",
       "      <td>0</td>\n",
       "      <td>2025-09-09 01-48-35.tlog</td>\n",
       "      <td>DA02</td>\n",
       "      <td>661.0</td>\n",
       "      <td>NaN</td>\n",
       "      <td>NaN</td>\n",
       "      <td>LINESTRING (481070.530 8090040.738, 481070.477...</td>\n",
       "    </tr>\n",
       "    <tr>\n",
       "      <th>441</th>\n",
       "      <td>0</td>\n",
       "      <td>2025-09-09 07-26-27.tlog</td>\n",
       "      <td>DA02</td>\n",
       "      <td>342.0</td>\n",
       "      <td>NaN</td>\n",
       "      <td>NaN</td>\n",
       "      <td>LINESTRING (481070.210 8090041.711, 481070.221...</td>\n",
       "    </tr>\n",
       "  </tbody>\n",
       "</table>\n",
       "<p>442 rows × 7 columns</p>\n",
       "</div>"
      ],
      "text/plain": [
       "     idd                    nombre vehiculo  num_vert    id  asignado  \\\n",
       "0     -1  2025-05-02 08-32-28.tlog     DA02    2517.0  None  ORIGINAL   \n",
       "1     -1  2025-05-05 16-16-47.tlog     DA02    1056.0  None  ORIGINAL   \n",
       "2     -1  2025-05-05 16-32-05.tlog     DA02     345.0  None  ORIGINAL   \n",
       "3     -1  2025-05-05 21-05-04.tlog     DA02    3426.0  None  ORIGINAL   \n",
       "4     -1  2025-05-05 21-05-04.tlog     DA02    3207.0  None  ORIGINAL   \n",
       "..   ...                       ...      ...       ...   ...       ...   \n",
       "437    0  2025-09-09 01-16-07.tlog     DA02    1181.0   NaN       NaN   \n",
       "438    0  2025-09-09 01-16-07.tlog     DA02    3483.0   NaN       NaN   \n",
       "439    0  2025-09-09 01-48-35.tlog     DA02    3494.0   NaN       NaN   \n",
       "440    0  2025-09-09 01-48-35.tlog     DA02     661.0   NaN       NaN   \n",
       "441    0  2025-09-09 07-26-27.tlog     DA02     342.0   NaN       NaN   \n",
       "\n",
       "                                              geometry  \n",
       "0    LINESTRING (471873.745 8084797.248, 471873.415...  \n",
       "1    LINESTRING (478886.299 8093597.535, 478886.288...  \n",
       "2    LINESTRING (478939.004 8093577.919, 478939.004...  \n",
       "3    LINESTRING (478661.660 8093836.724, 478660.405...  \n",
       "4    LINESTRING (478649.523 8093832.840, 478649.555...  \n",
       "..                                                 ...  \n",
       "437  LINESTRING (478508.860 8093454.289, 478507.157...  \n",
       "438  LINESTRING (478973.500 8093817.055, 478973.426...  \n",
       "439  LINESTRING (481073.920 8090041.703, 481073.909...  \n",
       "440  LINESTRING (481070.530 8090040.738, 481070.477...  \n",
       "441  LINESTRING (481070.210 8090041.711, 481070.221...  \n",
       "\n",
       "[442 rows x 7 columns]"
      ]
     },
     "execution_count": 50,
     "metadata": {},
     "output_type": "execute_result"
    }
   ],
   "source": [
    "gdf_combined"
   ]
  },
  {
   "cell_type": "code",
   "execution_count": 51,
   "id": "a533a1fd-3f67-457f-9b09-9607ef4fb5fd",
   "metadata": {},
   "outputs": [
    {
     "data": {
      "text/plain": [
       "idd            int32\n",
       "nombre        object\n",
       "vehiculo      object\n",
       "num_vert     float64\n",
       "id            object\n",
       "asignado      object\n",
       "geometry    geometry\n",
       "dtype: object"
      ]
     },
     "execution_count": 51,
     "metadata": {},
     "output_type": "execute_result"
    }
   ],
   "source": [
    "gdf_combined.dtypes"
   ]
  },
  {
   "cell_type": "code",
   "execution_count": 52,
   "id": "a6aa1191-afe4-485b-a918-93aa19dc8453",
   "metadata": {},
   "outputs": [],
   "source": [
    "gdf_combined.to_file(path_rec, driver=\"ESRI Shapefile\")"
   ]
  },
  {
   "cell_type": "code",
   "execution_count": null,
   "id": "2429b83e-6cf9-476d-a3ac-3b92cd38ad08",
   "metadata": {},
   "outputs": [],
   "source": []
  },
  {
   "cell_type": "code",
   "execution_count": null,
   "id": "0fd2aae3-cd66-47f2-b738-5d892c951c1c",
   "metadata": {},
   "outputs": [],
   "source": []
  },
  {
   "cell_type": "code",
   "execution_count": null,
   "id": "296ecacc-8599-4af5-bc96-974d378fc93b",
   "metadata": {},
   "outputs": [],
   "source": []
  },
  {
   "cell_type": "code",
   "execution_count": null,
   "id": "daf0f45b-f060-4e58-a4bf-8fac08bf7c86",
   "metadata": {},
   "outputs": [],
   "source": []
  },
  {
   "cell_type": "code",
   "execution_count": null,
   "id": "34ea4139-5436-4102-940c-4bfbed4ad82d",
   "metadata": {},
   "outputs": [],
   "source": []
  },
  {
   "cell_type": "code",
   "execution_count": null,
   "id": "a37f4cd2-aca0-4730-862a-bd9aaf782dbe",
   "metadata": {},
   "outputs": [],
   "source": []
  },
  {
   "cell_type": "code",
   "execution_count": null,
   "id": "0aeb666f-bcef-48e0-8b41-13ae3d3f42f8",
   "metadata": {},
   "outputs": [],
   "source": []
  },
  {
   "cell_type": "code",
   "execution_count": null,
   "id": "b5ad8bd0-f55b-4a92-9a8f-9cb5f26f04d8",
   "metadata": {},
   "outputs": [],
   "source": []
  },
  {
   "cell_type": "code",
   "execution_count": null,
   "id": "1464293a-4f7c-4b6d-b127-6908f11644a4",
   "metadata": {},
   "outputs": [],
   "source": []
  },
  {
   "cell_type": "code",
   "execution_count": null,
   "id": "7faf01b8-ec1a-4616-af27-cba634902ee1",
   "metadata": {},
   "outputs": [],
   "source": []
  }
 ],
 "metadata": {
  "kernelspec": {
   "display_name": "Python 3 (ipykernel)",
   "language": "python",
   "name": "python3"
  },
  "language_info": {
   "codemirror_mode": {
    "name": "ipython",
    "version": 3
   },
   "file_extension": ".py",
   "mimetype": "text/x-python",
   "name": "python",
   "nbconvert_exporter": "python",
   "pygments_lexer": "ipython3",
   "version": "3.10.13"
  }
 },
 "nbformat": 4,
 "nbformat_minor": 5
}
