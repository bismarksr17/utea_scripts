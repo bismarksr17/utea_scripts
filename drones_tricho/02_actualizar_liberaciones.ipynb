{
 "cells": [
  {
   "cell_type": "code",
   "execution_count": 52,
   "id": "55ba6a11-d62e-4973-af23-9dd1d9b4759c",
   "metadata": {},
   "outputs": [],
   "source": [
    "import sys\n",
    "sys.path.append('../_amigocloud')"
   ]
  },
  {
   "cell_type": "code",
   "execution_count": 53,
   "id": "650c1ee1-61d3-4fcc-9c5e-e1601c364878",
   "metadata": {},
   "outputs": [],
   "source": [
    "from amigocloud import AmigoCloud\n",
    "import pandas as pd\n",
    "from shapely import wkb\n",
    "\n",
    "import geopandas as gpd\n",
    "from shapely.geometry import Point, Polygon, MultiPolygon, MultiPoint\n",
    "#from shapely.geometry import Point, MultiPoint\n",
    "import os\n",
    "#from fastkml import kml"
   ]
  },
  {
   "cell_type": "code",
   "execution_count": 54,
   "id": "85711a6b-da93-4b77-a7e7-be5f33d776eb",
   "metadata": {},
   "outputs": [],
   "source": [
    "def get_unidad_local():\n",
    "    try:\n",
    "        # ruta del archivo que contiene la información necesaria\n",
    "        with open('../../unidad_local.txt', 'r') as file:\n",
    "            unidad = file.readline().strip()\n",
    "            return unidad\n",
    "    except FileNotFoundError:\n",
    "        print(\"El archivo 'unidad_local.txt' no se encuentra en la ruta especificada.\")\n",
    "    return None\n",
    "\n",
    "def get_ruta_local():\n",
    "    try:\n",
    "        with open('../ruta_local.txt', 'r') as file:\n",
    "            ruta = file.readline().strip()\n",
    "            return ruta\n",
    "    except FileNotFoundError:\n",
    "        print(\"El archivo 'ruta_local.txt' no se encuentra en la ruta especificada.\")\n",
    "    return None"
   ]
  },
  {
   "cell_type": "code",
   "execution_count": 55,
   "id": "5c2f1376-95b3-4f17-8e92-bf5645b03cfe",
   "metadata": {},
   "outputs": [
    {
     "data": {
      "text/plain": [
       "'C:\\\\Documents\\\\OneDrive - Ingenio Azucarero Guabira S.A\\\\_DATOS_PYTHON'"
      ]
     },
     "execution_count": 55,
     "metadata": {},
     "output_type": "execute_result"
    }
   ],
   "source": [
    "# RUTA ONEDRIVE\n",
    "unidad = get_unidad_local()\n",
    "ruta = get_ruta_local()\n",
    "ruta_completa = os.path.join(unidad, ruta)\n",
    "ruta_completa"
   ]
  },
  {
   "cell_type": "code",
   "execution_count": 56,
   "id": "3161a16d-e726-4826-83bf-a8494a26327b",
   "metadata": {},
   "outputs": [],
   "source": [
    "path_xlsx_parte = unidad + r'\\Ingenio Azucarero Guabira S.A\\UTEA - SEMANAL - EQUIPO AVIACION UTEA\\Trichogramma\\PARTE DIARIO TRICHOGRAMMA 2024_RES.xlsx'"
   ]
  },
  {
   "cell_type": "code",
   "execution_count": 57,
   "id": "9bf0d80e-93cc-4482-a8da-b5c9ec53fb5a",
   "metadata": {},
   "outputs": [
    {
     "data": {
      "text/plain": [
       "<amigocloud.AmigoCloud at 0x246734df9d0>"
      ]
     },
     "execution_count": 57,
     "metadata": {},
     "output_type": "execute_result"
    }
   ],
   "source": [
    "# leer token\n",
    "acceso = open(ruta_completa + '/_keys/api_amigocloud.key','r')\n",
    "api_token = acceso.readlines()[0]\n",
    "acceso.close()\n",
    "amigocloud = AmigoCloud(token=api_token)\n",
    "amigocloud"
   ]
  },
  {
   "cell_type": "code",
   "execution_count": 58,
   "id": "15cd6310-79d9-491f-bec7-619f11a008f4",
   "metadata": {},
   "outputs": [],
   "source": [
    "consulta = {'query': 'select * from dataset_342996 order by idd'}\n",
    "seleccion = amigocloud.get('https://app.amigocloud.com/api/v1/projects/33457/sql', consulta)\n",
    "datos = seleccion['data']"
   ]
  },
  {
   "cell_type": "code",
   "execution_count": 59,
   "id": "20722b22-f89b-463b-874a-b5140f49baf9",
   "metadata": {},
   "outputs": [],
   "source": [
    "df_datos = gpd.GeoDataFrame(datos)"
   ]
  },
  {
   "cell_type": "code",
   "execution_count": 60,
   "id": "4e7eab8c-f809-4d1c-a9f3-54bba964efea",
   "metadata": {},
   "outputs": [
    {
     "data": {
      "text/plain": [
       "[568]"
      ]
     },
     "execution_count": 60,
     "metadata": {},
     "output_type": "execute_result"
    }
   ],
   "source": [
    "list(set(df_datos['idd']))"
   ]
  },
  {
   "cell_type": "code",
   "execution_count": 61,
   "id": "506f04b6-6c2d-4183-993c-181ad02d90ac",
   "metadata": {},
   "outputs": [
    {
     "data": {
      "text/plain": [
       "(524, 533, 535, 536, 539, 540, 541)"
      ]
     },
     "execution_count": 61,
     "metadata": {},
     "output_type": "execute_result"
    }
   ],
   "source": [
    "524, 533, 535, 536, 539, 540, 541"
   ]
  },
  {
   "cell_type": "code",
   "execution_count": null,
   "id": "36629765-2c06-4f01-84fa-434035218276",
   "metadata": {},
   "outputs": [],
   "source": []
  },
  {
   "cell_type": "code",
   "execution_count": 67,
   "id": "a4238993-9c1c-425b-bd11-92553e0a4163",
   "metadata": {},
   "outputs": [],
   "source": [
    "query = {'query': 'SELECT\\\n",
    "    g.id, p.idd, p.fecha_registro, p.piloto_1, p.piloto_2, p.hora_inicio, p.hora_fin, p.labor, p.temperatura, p.viento, p.humedad, p.estado_de_operacion, p.dron, p.obs FROM dataset_342996 p JOIN dataset_345601 g ON ST_Intersects(p.ubicaciones, g.geometry) WHERE idd in (568)'}\n",
    "select = amigocloud.get('https://app.amigocloud.com/api/v1/projects/33457/sql', query)\n",
    "data = select['data']"
   ]
  },
  {
   "cell_type": "code",
   "execution_count": 68,
   "id": "528c6db6-6a98-415d-ae99-37611db4b554",
   "metadata": {},
   "outputs": [],
   "source": [
    "df_lib = pd.DataFrame(data)"
   ]
  },
  {
   "cell_type": "code",
   "execution_count": 69,
   "id": "e3c2b174-52fd-43f1-937e-d3536f1c7071",
   "metadata": {},
   "outputs": [
    {
     "data": {
      "text/plain": [
       "1"
      ]
     },
     "execution_count": 69,
     "metadata": {},
     "output_type": "execute_result"
    }
   ],
   "source": [
    "len(df_lib)"
   ]
  },
  {
   "cell_type": "code",
   "execution_count": 70,
   "id": "144de13e-4ba0-4ff8-89fa-9f32f1285774",
   "metadata": {},
   "outputs": [
    {
     "data": {
      "text/plain": [
       "[568]"
      ]
     },
     "execution_count": 70,
     "metadata": {},
     "output_type": "execute_result"
    }
   ],
   "source": [
    "lista_idd = list(set(df_lib['idd']))\n",
    "lista_idd"
   ]
  },
  {
   "cell_type": "code",
   "execution_count": 71,
   "id": "50f35e5f-ee60-43b4-bbcd-d02366cc7e78",
   "metadata": {},
   "outputs": [
    {
     "data": {
      "text/plain": [
       "[5050]"
      ]
     },
     "execution_count": 71,
     "metadata": {},
     "output_type": "execute_result"
    }
   ],
   "source": [
    "lista_id = list(set(df_lib['id']))\n",
    "lista_id"
   ]
  },
  {
   "cell_type": "code",
   "execution_count": 72,
   "id": "2ced5c6e-d477-4033-a2bf-151b5bd9c324",
   "metadata": {},
   "outputs": [
    {
     "data": {
      "text/plain": [
       "id                     0\n",
       "idd                    0\n",
       "fecha_registro         0\n",
       "piloto_1               0\n",
       "piloto_2               0\n",
       "hora_inicio            0\n",
       "hora_fin               0\n",
       "labor                  0\n",
       "temperatura            0\n",
       "viento                 0\n",
       "humedad                0\n",
       "estado_de_operacion    0\n",
       "dron                   0\n",
       "obs                    1\n",
       "dtype: int64"
      ]
     },
     "execution_count": 72,
     "metadata": {},
     "output_type": "execute_result"
    }
   ],
   "source": [
    "nulos = df_lib.isnull().sum()\n",
    "nulos"
   ]
  },
  {
   "cell_type": "code",
   "execution_count": 73,
   "id": "716cf4c7-c920-4d8b-9853-5365651be295",
   "metadata": {},
   "outputs": [],
   "source": [
    "df_except_obs = df_lib.drop(columns=['obs'])\n",
    "null_check = df_except_obs.isnull().any().any()"
   ]
  },
  {
   "cell_type": "code",
   "execution_count": 74,
   "id": "20d37a12-63ad-4a6f-88bf-92a9b054b6ac",
   "metadata": {},
   "outputs": [],
   "source": [
    "if null_check:\n",
    "    df_lib = None\n",
    "else:\n",
    "    None"
   ]
  },
  {
   "cell_type": "code",
   "execution_count": 75,
   "id": "e8d0d677-05d0-4034-96d1-093520bb755b",
   "metadata": {},
   "outputs": [
    {
     "data": {
      "text/html": [
       "<div>\n",
       "<style scoped>\n",
       "    .dataframe tbody tr th:only-of-type {\n",
       "        vertical-align: middle;\n",
       "    }\n",
       "\n",
       "    .dataframe tbody tr th {\n",
       "        vertical-align: top;\n",
       "    }\n",
       "\n",
       "    .dataframe thead th {\n",
       "        text-align: right;\n",
       "    }\n",
       "</style>\n",
       "<table border=\"1\" class=\"dataframe\">\n",
       "  <thead>\n",
       "    <tr style=\"text-align: right;\">\n",
       "      <th></th>\n",
       "      <th>id</th>\n",
       "      <th>idd</th>\n",
       "      <th>fecha_registro</th>\n",
       "      <th>piloto_1</th>\n",
       "      <th>piloto_2</th>\n",
       "      <th>hora_inicio</th>\n",
       "      <th>hora_fin</th>\n",
       "      <th>labor</th>\n",
       "      <th>temperatura</th>\n",
       "      <th>viento</th>\n",
       "      <th>humedad</th>\n",
       "      <th>estado_de_operacion</th>\n",
       "      <th>dron</th>\n",
       "      <th>obs</th>\n",
       "    </tr>\n",
       "  </thead>\n",
       "  <tbody>\n",
       "    <tr>\n",
       "      <th>0</th>\n",
       "      <td>5050</td>\n",
       "      <td>568</td>\n",
       "      <td>2025-03-13 13:13:43+00:00</td>\n",
       "      <td>GABRIEL PEÑA</td>\n",
       "      <td>GABRIEL PEÑA</td>\n",
       "      <td>2025-03-13 13:13:43+00:00</td>\n",
       "      <td>2025-03-13 13:16:43+00:00</td>\n",
       "      <td>LIBERACION</td>\n",
       "      <td>24</td>\n",
       "      <td>1</td>\n",
       "      <td>70</td>\n",
       "      <td>CONCLUIDO</td>\n",
       "      <td>DA 02</td>\n",
       "      <td>None</td>\n",
       "    </tr>\n",
       "  </tbody>\n",
       "</table>\n",
       "</div>"
      ],
      "text/plain": [
       "     id  idd             fecha_registro      piloto_1      piloto_2  \\\n",
       "0  5050  568  2025-03-13 13:13:43+00:00  GABRIEL PEÑA  GABRIEL PEÑA   \n",
       "\n",
       "                 hora_inicio                   hora_fin       labor  \\\n",
       "0  2025-03-13 13:13:43+00:00  2025-03-13 13:16:43+00:00  LIBERACION   \n",
       "\n",
       "   temperatura  viento  humedad estado_de_operacion   dron   obs  \n",
       "0           24       1       70           CONCLUIDO  DA 02  None  "
      ]
     },
     "execution_count": 75,
     "metadata": {},
     "output_type": "execute_result"
    }
   ],
   "source": [
    "df_lib"
   ]
  },
  {
   "cell_type": "code",
   "execution_count": 76,
   "id": "7f96a6a6-c76d-41d3-8c2e-5badb38a1e85",
   "metadata": {},
   "outputs": [],
   "source": [
    "df_parte = pd.read_excel(path_xlsx_parte)"
   ]
  },
  {
   "cell_type": "code",
   "execution_count": 77,
   "id": "56a06e58-0383-4c09-8632-a4b7ad367ad7",
   "metadata": {},
   "outputs": [
    {
     "data": {
      "text/html": [
       "<div>\n",
       "<style scoped>\n",
       "    .dataframe tbody tr th:only-of-type {\n",
       "        vertical-align: middle;\n",
       "    }\n",
       "\n",
       "    .dataframe tbody tr th {\n",
       "        vertical-align: top;\n",
       "    }\n",
       "\n",
       "    .dataframe thead th {\n",
       "        text-align: right;\n",
       "    }\n",
       "</style>\n",
       "<table border=\"1\" class=\"dataframe\">\n",
       "  <thead>\n",
       "    <tr style=\"text-align: right;\">\n",
       "      <th></th>\n",
       "      <th>N° LABOR</th>\n",
       "      <th>FECHA</th>\n",
       "      <th>SEMANA</th>\n",
       "      <th>INSTITUCION</th>\n",
       "      <th>COD CANERO</th>\n",
       "      <th>NOMBRE CANERO</th>\n",
       "      <th>COD PROPIEDAD</th>\n",
       "      <th>NOMBRE PROPIEDAD</th>\n",
       "      <th>LOTE</th>\n",
       "      <th>HECTAREA</th>\n",
       "      <th>...</th>\n",
       "      <th>PILOTO 1</th>\n",
       "      <th>PILOTO 2</th>\n",
       "      <th>OBSERVACIONES</th>\n",
       "      <th>CONFORMIDAD CANERO</th>\n",
       "      <th>FINANCIADO</th>\n",
       "      <th>ID</th>\n",
       "      <th>OS</th>\n",
       "      <th>IDD</th>\n",
       "      <th>REPORTE</th>\n",
       "      <th>NUM VISITA</th>\n",
       "    </tr>\n",
       "  </thead>\n",
       "  <tbody>\n",
       "    <tr>\n",
       "      <th>0</th>\n",
       "      <td>641</td>\n",
       "      <td>2024-05-23 00:00:00</td>\n",
       "      <td>21.0</td>\n",
       "      <td>62</td>\n",
       "      <td>13171</td>\n",
       "      <td>SUAREZ JUSTINIANO DAVID</td>\n",
       "      <td>1958</td>\n",
       "      <td>NUEVA ESPERANZA--SUAREZ DAVID</td>\n",
       "      <td>L1</td>\n",
       "      <td>17.000000</td>\n",
       "      <td>...</td>\n",
       "      <td>ALEJANDRO SANCHEZ</td>\n",
       "      <td>AURELIO GARCIA</td>\n",
       "      <td>NaN</td>\n",
       "      <td>NaN</td>\n",
       "      <td>SOLICITUD</td>\n",
       "      <td>NaN</td>\n",
       "      <td>NaN</td>\n",
       "      <td>NaN</td>\n",
       "      <td>SI</td>\n",
       "      <td>1.0</td>\n",
       "    </tr>\n",
       "    <tr>\n",
       "      <th>1</th>\n",
       "      <td>558</td>\n",
       "      <td>2024-06-27 00:00:00</td>\n",
       "      <td>26.0</td>\n",
       "      <td>124</td>\n",
       "      <td>1530</td>\n",
       "      <td>C.I.T.T.C.A</td>\n",
       "      <td>299</td>\n",
       "      <td>C.I.T.T.C.A</td>\n",
       "      <td>C10.3</td>\n",
       "      <td>2.490000</td>\n",
       "      <td>...</td>\n",
       "      <td>EDUARDO REYES</td>\n",
       "      <td>AURELIO GARCIA</td>\n",
       "      <td>NaN</td>\n",
       "      <td>NaN</td>\n",
       "      <td>PROPIO</td>\n",
       "      <td>NaN</td>\n",
       "      <td>NaN</td>\n",
       "      <td>NaN</td>\n",
       "      <td>SI</td>\n",
       "      <td>1.0</td>\n",
       "    </tr>\n",
       "    <tr>\n",
       "      <th>2</th>\n",
       "      <td>558</td>\n",
       "      <td>2024-06-27 00:00:00</td>\n",
       "      <td>26.0</td>\n",
       "      <td>124</td>\n",
       "      <td>1530</td>\n",
       "      <td>C.I.T.T.C.A</td>\n",
       "      <td>299</td>\n",
       "      <td>C.I.T.T.C.A</td>\n",
       "      <td>C12.2</td>\n",
       "      <td>0.830000</td>\n",
       "      <td>...</td>\n",
       "      <td>EDUARDO REYES</td>\n",
       "      <td>AURELIO GARCIA</td>\n",
       "      <td>NaN</td>\n",
       "      <td>NaN</td>\n",
       "      <td>PROPIO</td>\n",
       "      <td>NaN</td>\n",
       "      <td>NaN</td>\n",
       "      <td>NaN</td>\n",
       "      <td>SI</td>\n",
       "      <td>1.0</td>\n",
       "    </tr>\n",
       "    <tr>\n",
       "      <th>3</th>\n",
       "      <td>558</td>\n",
       "      <td>2024-06-27 00:00:00</td>\n",
       "      <td>26.0</td>\n",
       "      <td>124</td>\n",
       "      <td>1530</td>\n",
       "      <td>C.I.T.T.C.A</td>\n",
       "      <td>299</td>\n",
       "      <td>C.I.T.T.C.A</td>\n",
       "      <td>C13.1</td>\n",
       "      <td>0.370000</td>\n",
       "      <td>...</td>\n",
       "      <td>EDUARDO REYES</td>\n",
       "      <td>AURELIO GARCIA</td>\n",
       "      <td>NaN</td>\n",
       "      <td>NaN</td>\n",
       "      <td>PROPIO</td>\n",
       "      <td>NaN</td>\n",
       "      <td>NaN</td>\n",
       "      <td>NaN</td>\n",
       "      <td>SI</td>\n",
       "      <td>1.0</td>\n",
       "    </tr>\n",
       "    <tr>\n",
       "      <th>4</th>\n",
       "      <td>558</td>\n",
       "      <td>2024-06-27 00:00:00</td>\n",
       "      <td>26.0</td>\n",
       "      <td>124</td>\n",
       "      <td>1530</td>\n",
       "      <td>C.I.T.T.C.A</td>\n",
       "      <td>299</td>\n",
       "      <td>C.I.T.T.C.A</td>\n",
       "      <td>C13.2</td>\n",
       "      <td>0.760000</td>\n",
       "      <td>...</td>\n",
       "      <td>EDUARDO REYES</td>\n",
       "      <td>AURELIO GARCIA</td>\n",
       "      <td>NaN</td>\n",
       "      <td>NaN</td>\n",
       "      <td>PROPIO</td>\n",
       "      <td>NaN</td>\n",
       "      <td>NaN</td>\n",
       "      <td>NaN</td>\n",
       "      <td>SI</td>\n",
       "      <td>1.0</td>\n",
       "    </tr>\n",
       "    <tr>\n",
       "      <th>...</th>\n",
       "      <td>...</td>\n",
       "      <td>...</td>\n",
       "      <td>...</td>\n",
       "      <td>...</td>\n",
       "      <td>...</td>\n",
       "      <td>...</td>\n",
       "      <td>...</td>\n",
       "      <td>...</td>\n",
       "      <td>...</td>\n",
       "      <td>...</td>\n",
       "      <td>...</td>\n",
       "      <td>...</td>\n",
       "      <td>...</td>\n",
       "      <td>...</td>\n",
       "      <td>...</td>\n",
       "      <td>...</td>\n",
       "      <td>...</td>\n",
       "      <td>...</td>\n",
       "      <td>...</td>\n",
       "      <td>...</td>\n",
       "      <td>...</td>\n",
       "    </tr>\n",
       "    <tr>\n",
       "      <th>4567</th>\n",
       "      <td>NaN</td>\n",
       "      <td>2025-03-14 04:00:00</td>\n",
       "      <td>11.0</td>\n",
       "      <td>81</td>\n",
       "      <td>42239</td>\n",
       "      <td>CORDOVA OLGUIN LEONARDO</td>\n",
       "      <td>636</td>\n",
       "      <td>SAN JUAN--CORDOVA</td>\n",
       "      <td>L3</td>\n",
       "      <td>5.844763</td>\n",
       "      <td>...</td>\n",
       "      <td>EDUARDO REYES</td>\n",
       "      <td>EDUARDO REYES</td>\n",
       "      <td>NaN</td>\n",
       "      <td>NaN</td>\n",
       "      <td>SIEMBRA 2024</td>\n",
       "      <td>5046.0</td>\n",
       "      <td>139.0</td>\n",
       "      <td>553.0</td>\n",
       "      <td>NaN</td>\n",
       "      <td>NaN</td>\n",
       "    </tr>\n",
       "    <tr>\n",
       "      <th>4568</th>\n",
       "      <td>NaN</td>\n",
       "      <td>2025-03-14 04:00:00</td>\n",
       "      <td>11.0</td>\n",
       "      <td>81</td>\n",
       "      <td>42239</td>\n",
       "      <td>CORDOVA OLGUIN LEONARDO</td>\n",
       "      <td>367</td>\n",
       "      <td>LA AURORA Y SAN JUAN--CORDOVA</td>\n",
       "      <td>L1</td>\n",
       "      <td>7.929320</td>\n",
       "      <td>...</td>\n",
       "      <td>EDUARDO REYES</td>\n",
       "      <td>EDUARDO REYES</td>\n",
       "      <td>NaN</td>\n",
       "      <td>NaN</td>\n",
       "      <td>SIEMBRA 2024</td>\n",
       "      <td>5047.0</td>\n",
       "      <td>139.0</td>\n",
       "      <td>563.0</td>\n",
       "      <td>NaN</td>\n",
       "      <td>NaN</td>\n",
       "    </tr>\n",
       "    <tr>\n",
       "      <th>4569</th>\n",
       "      <td>NaN</td>\n",
       "      <td>2025-03-12 04:00:00</td>\n",
       "      <td>11.0</td>\n",
       "      <td>40</td>\n",
       "      <td>8814</td>\n",
       "      <td>MURIALDO MENDEZ WALTER DANIEL</td>\n",
       "      <td>222</td>\n",
       "      <td>POTRERITO</td>\n",
       "      <td>L52</td>\n",
       "      <td>3.737720</td>\n",
       "      <td>...</td>\n",
       "      <td>GABRIEL PEÑA</td>\n",
       "      <td>GABRIEL PEÑA</td>\n",
       "      <td>NaN</td>\n",
       "      <td>NaN</td>\n",
       "      <td>SIEMBRA 2024</td>\n",
       "      <td>5048.0</td>\n",
       "      <td>139.0</td>\n",
       "      <td>562.0</td>\n",
       "      <td>NaN</td>\n",
       "      <td>NaN</td>\n",
       "    </tr>\n",
       "    <tr>\n",
       "      <th>4570</th>\n",
       "      <td>NaN</td>\n",
       "      <td>2025-03-12 04:00:00</td>\n",
       "      <td>11.0</td>\n",
       "      <td>40</td>\n",
       "      <td>8814</td>\n",
       "      <td>MURIALDO MENDEZ WALTER DANIEL</td>\n",
       "      <td>222</td>\n",
       "      <td>POTRERITO</td>\n",
       "      <td>L42</td>\n",
       "      <td>8.633852</td>\n",
       "      <td>...</td>\n",
       "      <td>GABRIEL PEÑA</td>\n",
       "      <td>GABRIEL PEÑA</td>\n",
       "      <td>NaN</td>\n",
       "      <td>NaN</td>\n",
       "      <td>SIEMBRA 2024</td>\n",
       "      <td>5049.0</td>\n",
       "      <td>139.0</td>\n",
       "      <td>562.0</td>\n",
       "      <td>NaN</td>\n",
       "      <td>NaN</td>\n",
       "    </tr>\n",
       "    <tr>\n",
       "      <th>4571</th>\n",
       "      <td>NaN</td>\n",
       "      <td>NaT</td>\n",
       "      <td>NaN</td>\n",
       "      <td>50</td>\n",
       "      <td>86</td>\n",
       "      <td>AGUILERA TARADELLES JOSE LUIS</td>\n",
       "      <td>55</td>\n",
       "      <td>LA CONQUISTA--AGUILERA</td>\n",
       "      <td>L22.1</td>\n",
       "      <td>2.484011</td>\n",
       "      <td>...</td>\n",
       "      <td>NaN</td>\n",
       "      <td>NaN</td>\n",
       "      <td>NaN</td>\n",
       "      <td>NaN</td>\n",
       "      <td>SOLICITUD</td>\n",
       "      <td>5050.0</td>\n",
       "      <td>140.0</td>\n",
       "      <td>NaN</td>\n",
       "      <td>NaN</td>\n",
       "      <td>NaN</td>\n",
       "    </tr>\n",
       "  </tbody>\n",
       "</table>\n",
       "<p>4572 rows × 31 columns</p>\n",
       "</div>"
      ],
      "text/plain": [
       "     N° LABOR               FECHA  SEMANA  INSTITUCION  COD CANERO  \\\n",
       "0         641 2024-05-23 00:00:00    21.0           62       13171   \n",
       "1         558 2024-06-27 00:00:00    26.0          124        1530   \n",
       "2         558 2024-06-27 00:00:00    26.0          124        1530   \n",
       "3         558 2024-06-27 00:00:00    26.0          124        1530   \n",
       "4         558 2024-06-27 00:00:00    26.0          124        1530   \n",
       "...       ...                 ...     ...          ...         ...   \n",
       "4567      NaN 2025-03-14 04:00:00    11.0           81       42239   \n",
       "4568      NaN 2025-03-14 04:00:00    11.0           81       42239   \n",
       "4569      NaN 2025-03-12 04:00:00    11.0           40        8814   \n",
       "4570      NaN 2025-03-12 04:00:00    11.0           40        8814   \n",
       "4571      NaN                 NaT     NaN           50          86   \n",
       "\n",
       "                      NOMBRE CANERO  COD PROPIEDAD  \\\n",
       "0           SUAREZ JUSTINIANO DAVID           1958   \n",
       "1                       C.I.T.T.C.A            299   \n",
       "2                       C.I.T.T.C.A            299   \n",
       "3                       C.I.T.T.C.A            299   \n",
       "4                       C.I.T.T.C.A            299   \n",
       "...                             ...            ...   \n",
       "4567        CORDOVA OLGUIN LEONARDO            636   \n",
       "4568        CORDOVA OLGUIN LEONARDO            367   \n",
       "4569  MURIALDO MENDEZ WALTER DANIEL            222   \n",
       "4570  MURIALDO MENDEZ WALTER DANIEL            222   \n",
       "4571  AGUILERA TARADELLES JOSE LUIS             55   \n",
       "\n",
       "                   NOMBRE PROPIEDAD   LOTE   HECTAREA  ...           PILOTO 1  \\\n",
       "0     NUEVA ESPERANZA--SUAREZ DAVID     L1  17.000000  ...  ALEJANDRO SANCHEZ   \n",
       "1                       C.I.T.T.C.A  C10.3   2.490000  ...      EDUARDO REYES   \n",
       "2                       C.I.T.T.C.A  C12.2   0.830000  ...      EDUARDO REYES   \n",
       "3                       C.I.T.T.C.A  C13.1   0.370000  ...      EDUARDO REYES   \n",
       "4                       C.I.T.T.C.A  C13.2   0.760000  ...      EDUARDO REYES   \n",
       "...                             ...    ...        ...  ...                ...   \n",
       "4567              SAN JUAN--CORDOVA     L3   5.844763  ...      EDUARDO REYES   \n",
       "4568  LA AURORA Y SAN JUAN--CORDOVA     L1   7.929320  ...      EDUARDO REYES   \n",
       "4569                      POTRERITO    L52   3.737720  ...       GABRIEL PEÑA   \n",
       "4570                      POTRERITO    L42   8.633852  ...       GABRIEL PEÑA   \n",
       "4571         LA CONQUISTA--AGUILERA  L22.1   2.484011  ...                NaN   \n",
       "\n",
       "            PILOTO 2 OBSERVACIONES CONFORMIDAD CANERO    FINANCIADO      ID  \\\n",
       "0     AURELIO GARCIA           NaN                NaN     SOLICITUD     NaN   \n",
       "1     AURELIO GARCIA           NaN                NaN        PROPIO     NaN   \n",
       "2     AURELIO GARCIA           NaN                NaN        PROPIO     NaN   \n",
       "3     AURELIO GARCIA           NaN                NaN        PROPIO     NaN   \n",
       "4     AURELIO GARCIA           NaN                NaN        PROPIO     NaN   \n",
       "...              ...           ...                ...           ...     ...   \n",
       "4567   EDUARDO REYES           NaN                NaN  SIEMBRA 2024  5046.0   \n",
       "4568   EDUARDO REYES           NaN                NaN  SIEMBRA 2024  5047.0   \n",
       "4569    GABRIEL PEÑA           NaN                NaN  SIEMBRA 2024  5048.0   \n",
       "4570    GABRIEL PEÑA           NaN                NaN  SIEMBRA 2024  5049.0   \n",
       "4571             NaN           NaN                NaN     SOLICITUD  5050.0   \n",
       "\n",
       "         OS    IDD REPORTE NUM VISITA  \n",
       "0       NaN    NaN      SI        1.0  \n",
       "1       NaN    NaN      SI        1.0  \n",
       "2       NaN    NaN      SI        1.0  \n",
       "3       NaN    NaN      SI        1.0  \n",
       "4       NaN    NaN      SI        1.0  \n",
       "...     ...    ...     ...        ...  \n",
       "4567  139.0  553.0     NaN        NaN  \n",
       "4568  139.0  563.0     NaN        NaN  \n",
       "4569  139.0  562.0     NaN        NaN  \n",
       "4570  139.0  562.0     NaN        NaN  \n",
       "4571  140.0    NaN     NaN        NaN  \n",
       "\n",
       "[4572 rows x 31 columns]"
      ]
     },
     "execution_count": 77,
     "metadata": {},
     "output_type": "execute_result"
    }
   ],
   "source": [
    "df_parte"
   ]
  },
  {
   "cell_type": "code",
   "execution_count": 78,
   "id": "ff6185e4-378e-4c6c-b4cd-98e785856322",
   "metadata": {},
   "outputs": [],
   "source": [
    "df_parte['FECHA'] = pd.to_datetime(df_parte['FECHA'], errors='coerce')\n",
    "df_parte['HORA INICIO'] = pd.to_datetime(df_parte['HORA INICIO'], errors='coerce')\n",
    "df_parte['HORA FINAL'] = pd.to_datetime(df_parte['HORA FINAL'], errors='coerce')"
   ]
  },
  {
   "cell_type": "code",
   "execution_count": 79,
   "id": "474b0b89-20ca-4c2b-a5b0-0d5f7e11423b",
   "metadata": {},
   "outputs": [],
   "source": [
    "# Recorrer cada registro del DataFrame y actualizar los registros correspondientes en el archivo Excel\n",
    "for idx, row in df_lib.iterrows():\n",
    "    id_value = row['id']\n",
    "    # Encontrar el índice correspondiente en el archivo Excel\n",
    "    idx_parte = df_parte[df_parte['ID'] == id_value].index\n",
    "    if not idx_parte.empty:\n",
    "        idx_parte = idx_parte[0]\n",
    "        # Convertir las fechas y eliminar la zona horaria\n",
    "        fecha_registro = pd.to_datetime(row['fecha_registro'], errors='coerce').tz_localize(None)\n",
    "        hora_inicio = pd.to_datetime(row['hora_inicio'], errors='coerce').tz_localize(None)\n",
    "        hora_fin = pd.to_datetime(row['hora_fin'], errors='coerce').tz_localize(None)\n",
    "        \n",
    "        # Actualizar los valores en el archivo Excel\n",
    "        df_parte.at[idx_parte, 'FECHA'] = fecha_registro\n",
    "        df_parte.at[idx_parte, 'HORA INICIO'] = hora_inicio\n",
    "        df_parte.at[idx_parte, 'HORA FINAL'] = hora_fin\n",
    "        df_parte.at[idx_parte, 'TEMPERATURA'] = float(row['temperatura'])\n",
    "        df_parte.at[idx_parte, 'VIENTO'] = float(row['viento'])\n",
    "        df_parte.at[idx_parte, 'HUMEDAD'] = float(row['humedad'])\n",
    "        df_parte.at[idx_parte, 'OPERACIÓN DETENIDA POR'] = str(row['estado_de_operacion'])\n",
    "        df_parte.at[idx_parte, 'COD DRONE'] = str(row['dron'])\n",
    "        df_parte.at[idx_parte, 'PILOTO 1'] = str(row['piloto_1'])\n",
    "        df_parte.at[idx_parte, 'PILOTO 2'] = str(row['piloto_2'])\n",
    "        df_parte.at[idx_parte, 'OBSERVACIONES'] = str(row['obs'])\n",
    "        df_parte.at[idx_parte, 'IDD'] = float(row['idd'])\n",
    "        df_parte.at[idx_parte, 'SEMANA'] = fecha_registro.isocalendar().week"
   ]
  },
  {
   "cell_type": "code",
   "execution_count": 80,
   "id": "6ebeaaa9-f654-42e6-9aeb-41c3f62c8242",
   "metadata": {},
   "outputs": [],
   "source": [
    "output_path = path_xlsx_parte\n",
    "df_parte.to_excel(output_path, index=False)"
   ]
  },
  {
   "cell_type": "markdown",
   "id": "67feaf9c-5a76-4976-a35f-a78651bed45a",
   "metadata": {},
   "source": [
    "# HACER COPIA Y ELIMINAR PARTE DIARIO Y PLANIFICACION DE AMIGOCLOUD"
   ]
  },
  {
   "cell_type": "code",
   "execution_count": 81,
   "id": "a6a18d1c-328c-43df-aeab-48b0d4bcc085",
   "metadata": {},
   "outputs": [
    {
     "data": {
      "text/plain": [
       "[568]"
      ]
     },
     "execution_count": 81,
     "metadata": {},
     "output_type": "execute_result"
    }
   ],
   "source": [
    "lista_idd"
   ]
  },
  {
   "cell_type": "code",
   "execution_count": 82,
   "id": "d2a99bb6-e746-4feb-aa2b-4e073c269b71",
   "metadata": {},
   "outputs": [
    {
     "name": "stdout",
     "output_type": "stream",
     "text": [
      "se proceso IDD: 568\n"
     ]
    }
   ],
   "source": [
    "#copia y elimina los idd indicados del parte diario de amigocloud\n",
    "for idd in lista_idd:\n",
    "    id_proyecto = f'https://app.amigocloud.com/api/v1/projects/33457/sql'\n",
    "    query = f'INSERT INTO dataset_348546 (fecha_registro, amigo_id, propiedad, piloto_1, piloto_2, lote, area, hora_inicio, hora_fin, institucion, labor, temperatura, viento, humedad, estado_de_operacion, dron, obs, canhero, idd, ubicaciones) SELECT fecha_registro, amigo_id, propiedad, piloto_1, piloto_2, lote, area, hora_inicio, hora_fin, institucion, labor, temperatura, viento, humedad, estado_de_operacion, dron, obs, canhero, idd, ubicaciones FROM dataset_342996 WHERE idd = {idd}'\n",
    "    query_sql = {'query': query}\n",
    "    post = amigocloud.post(id_proyecto, query_sql)\n",
    "    query = {'query': f'DELETE FROM dataset_342996 WHERE idd = {idd}'}\n",
    "    ejecutar = amigocloud.post(id_proyecto, query)\n",
    "    print('se proceso IDD:', idd)"
   ]
  },
  {
   "cell_type": "code",
   "execution_count": 83,
   "id": "041e75a0-c886-49ba-bb3a-b6b9882ee954",
   "metadata": {},
   "outputs": [
    {
     "name": "stdout",
     "output_type": "stream",
     "text": [
      "se proceso ID: 5050\n"
     ]
    }
   ],
   "source": [
    "#copia y elimina los id indicados de la planificacion semanal de amigocloud\n",
    "for id in lista_id:\n",
    "    id_proyecto = f'https://app.amigocloud.com/api/v1/projects/33457/sql'\n",
    "    query = f'INSERT INTO dataset_348547 (fecha_registro, amigo_id, id, unidad_01, unidad_02, unidad_03, unidad_04, unidad_05, area, origen, dias, os, geometry) SELECT fecha_registro, amigo_id, id, unidad_01, unidad_02, unidad_03, unidad_04, unidad_05, area, origen, dias, os, geometry FROM dataset_345601 WHERE id = {id}'\n",
    "    query_sql = {'query': query}\n",
    "    post = amigocloud.post(id_proyecto, query_sql)\n",
    "    query = {'query': f'DELETE FROM dataset_345601 WHERE id = {id}'}\n",
    "    ejecutar = amigocloud.post(id_proyecto, query)\n",
    "    print('se proceso ID:', id)"
   ]
  },
  {
   "cell_type": "code",
   "execution_count": null,
   "id": "7a2ab448-77ee-46a0-8f41-8f6f2a1f9431",
   "metadata": {},
   "outputs": [],
   "source": []
  },
  {
   "cell_type": "code",
   "execution_count": null,
   "id": "8ee71eb6-c03b-4405-ad95-12cfba005eaa",
   "metadata": {},
   "outputs": [],
   "source": []
  },
  {
   "cell_type": "code",
   "execution_count": null,
   "id": "d7ad29ed-a5c7-4eec-9d2e-50f4bb85be5b",
   "metadata": {},
   "outputs": [],
   "source": []
  },
  {
   "cell_type": "markdown",
   "id": "0baf0172-e355-4e1d-8e93-931bdfce8dc8",
   "metadata": {},
   "source": [
    "## Copiar ids de PARTE DIARIO a PLANIFICACION"
   ]
  },
  {
   "cell_type": "code",
   "execution_count": 84,
   "id": "94fe297f-01cf-4675-bca0-578970ea8169",
   "metadata": {},
   "outputs": [],
   "source": [
    "path_planificacion = unidad + r'\\Ingenio Azucarero Guabira S.A\\UTEA - SEMANAL - EQUIPO AVIACION UTEA\\Trichogramma\\2024\\SHP\\PLANIFICACION.shp'\n",
    "path_xlsx = unidad + r'\\Ingenio Azucarero Guabira S.A\\UTEA - SEMANAL - EQUIPO AVIACION UTEA\\Trichogramma\\PARTE DIARIO TRICHOGRAMMA 2024_RES.xlsx'"
   ]
  },
  {
   "cell_type": "code",
   "execution_count": 85,
   "id": "d89daeb1-80cc-42a9-846e-0da386074162",
   "metadata": {},
   "outputs": [],
   "source": [
    "gdf_plan = gpd.read_file(path_planificacion)\n",
    "df_xlsx = pd.read_excel(path_xlsx)"
   ]
  },
  {
   "cell_type": "code",
   "execution_count": 86,
   "id": "8902ea15-fd63-46b4-91a9-5adfd4c66850",
   "metadata": {},
   "outputs": [],
   "source": [
    "# Recorrer cada registro de df_xlsx\n",
    "for index, row in df_xlsx.iterrows():\n",
    "    id_value = row['ID']\n",
    "    idd_value = row['IDD']\n",
    "    \n",
    "    # Actualizar el campo 'idd' en gdf_plan donde coincida el campo 'id'\n",
    "    gdf_plan.loc[gdf_plan['id'] == id_value, 'idd'] = idd_value"
   ]
  },
  {
   "cell_type": "code",
   "execution_count": 87,
   "id": "242a894f-9b09-4b99-ad56-d6437292e783",
   "metadata": {},
   "outputs": [],
   "source": [
    "gdf_plan.to_file(path_planificacion, driver='ESRI Shapefile')"
   ]
  },
  {
   "cell_type": "code",
   "execution_count": null,
   "id": "fadb59d9-fab0-4ef9-a931-425e7d2e7ba0",
   "metadata": {},
   "outputs": [],
   "source": []
  },
  {
   "cell_type": "code",
   "execution_count": null,
   "id": "1894f038-94c6-4842-9742-09ed5536600c",
   "metadata": {},
   "outputs": [],
   "source": []
  },
  {
   "cell_type": "code",
   "execution_count": null,
   "id": "a45fdd96-45ff-4097-a93d-03e21f0c3c3c",
   "metadata": {},
   "outputs": [],
   "source": []
  },
  {
   "cell_type": "code",
   "execution_count": null,
   "id": "ef9a0ee1-4bec-4599-8e2d-faa44430d943",
   "metadata": {},
   "outputs": [],
   "source": []
  },
  {
   "cell_type": "code",
   "execution_count": null,
   "id": "f866a816-bc95-4db4-ae73-6540e77b57a5",
   "metadata": {},
   "outputs": [],
   "source": []
  }
 ],
 "metadata": {
  "kernelspec": {
   "display_name": "Python 3 (ipykernel)",
   "language": "python",
   "name": "python3"
  },
  "language_info": {
   "codemirror_mode": {
    "name": "ipython",
    "version": 3
   },
   "file_extension": ".py",
   "mimetype": "text/x-python",
   "name": "python",
   "nbconvert_exporter": "python",
   "pygments_lexer": "ipython3",
   "version": "3.10.13"
  }
 },
 "nbformat": 4,
 "nbformat_minor": 5
}
