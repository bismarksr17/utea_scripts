{
 "cells": [
  {
   "cell_type": "markdown",
   "id": "f5800c67",
   "metadata": {},
   "source": [
    "ACTUALIZA LAS PROPIEDADES QUE TIENEN MIDIFICACIONES"
   ]
  },
  {
   "cell_type": "code",
   "execution_count": 1,
   "id": "3abe3492",
   "metadata": {},
   "outputs": [
    {
     "data": {
      "text/html": [
       "<p>To authorize access needed by Earth Engine, open the following\n",
       "        URL in a web browser and follow the instructions:</p>\n",
       "        <p><a href=https://code.earthengine.google.com/client-auth?scopes=https%3A//www.googleapis.com/auth/earthengine%20https%3A//www.googleapis.com/auth/devstorage.full_control&request_id=sNWFFxsjebCrZFOfA8c4cP-DSAkj77K7D6zYtwVOyOQ&tc=E8lBma_QZGj1M36uhSVLUgKVyUhbDQzXqOMzQoxN9i8&cc=gBs2BbsOhZP6BHpj9NCQyGeg9ZZP-2-tnegknAdS_Cc>https://code.earthengine.google.com/client-auth?scopes=https%3A//www.googleapis.com/auth/earthengine%20https%3A//www.googleapis.com/auth/devstorage.full_control&request_id=sNWFFxsjebCrZFOfA8c4cP-DSAkj77K7D6zYtwVOyOQ&tc=E8lBma_QZGj1M36uhSVLUgKVyUhbDQzXqOMzQoxN9i8&cc=gBs2BbsOhZP6BHpj9NCQyGeg9ZZP-2-tnegknAdS_Cc</a></p>\n",
       "        <p>The authorization workflow will generate a code, which you should paste in the box below.</p>\n",
       "        "
      ],
      "text/plain": [
       "<IPython.core.display.HTML object>"
      ]
     },
     "metadata": {},
     "output_type": "display_data"
    },
    {
     "name": "stdin",
     "output_type": "stream",
     "text": [
      "Enter verification code:  4/1AcvDMrBgV0Dr5z5z45SY---hYshWLuqaZRnOBGhk5HCm9UQ_vOpkLrlm5pE\n"
     ]
    },
    {
     "name": "stdout",
     "output_type": "stream",
     "text": [
      "\n",
      "Successfully saved authorization token.\n"
     ]
    }
   ],
   "source": [
    "import ee\n",
    "ee.Authenticate()"
   ]
  },
  {
   "cell_type": "code",
   "execution_count": 2,
   "id": "48a414e6",
   "metadata": {},
   "outputs": [],
   "source": [
    "import ee\n",
    "import geemap\n",
    "# metodo de clasificacion\n",
    "import jenkspy\n",
    "\n",
    "import geopandas as gpd\n",
    "from geopandas.tools import overlay\n",
    "from shapely.geometry import Polygon\n",
    "\n",
    "import pandas as pd\n",
    "import numpy as np\n",
    "\n",
    "import openpyxl"
   ]
  },
  {
   "cell_type": "code",
   "execution_count": 11,
   "id": "0aa7d43a",
   "metadata": {},
   "outputs": [],
   "source": [
    "ee.Initialize()"
   ]
  },
  {
   "cell_type": "code",
   "execution_count": 34,
   "id": "b7b3d2fe",
   "metadata": {},
   "outputs": [],
   "source": [
    "ruta_catastro='projects/ee-bismarksr17/assets/LOTES_CANA_ERROR'\n",
    "ruta_ndvi = 'projects/ee-bismarksr17/assets/NDVI_2024_01'\n",
    "\n",
    "CODIGO_PROPIEDAD='unidad_01'\n",
    "NOM_PROPIEDAD='unidad_02'\n",
    "CODIGO_CANHERO='unidad_03'\n",
    "NOM_CANHERO='unidad_04'\n",
    "\n",
    "VARIEDAD='variedad'\n",
    "ESTADO='RENOVACION'\n",
    "SUPERFICIE='area'"
   ]
  },
  {
   "cell_type": "code",
   "execution_count": 4,
   "id": "29294061",
   "metadata": {},
   "outputs": [],
   "source": [
    "def asig_cat(label):\n",
    "    if label == 1:\n",
    "        return 0\n",
    "    else:\n",
    "        return label * 10\n",
    "\n",
    "vis_params_caña = {\n",
    "    'color': 'red', \n",
    "    'width': 2,\n",
    "    'lineType': 'solid',\n",
    "    'fillColor': '00000000',\n",
    "}\n",
    "\n",
    "# parametro de visualizacion LOTES RENOVACION\n",
    "vis_params_renov = {\n",
    "    'color': 'blue', \n",
    "    'width': 2,\n",
    "    'lineType': 'solid',\n",
    "    'fillColor': '00000000',\n",
    "}"
   ]
  },
  {
   "cell_type": "markdown",
   "id": "df61c714",
   "metadata": {},
   "source": [
    "## Eliminar propiedades sobra"
   ]
  },
  {
   "cell_type": "code",
   "execution_count": 26,
   "id": "48342362",
   "metadata": {},
   "outputs": [],
   "source": [
    "# props que presentan irregularidades\n",
    "lista_eliminar = [106, 622, 1080, 1172, 1302, 1413, 1480, 1540, 1626, 1986,\n",
    "    1988, 1989, 1990, 1991, 1992, 1993, 1994, 1995, 1996, 1997,\n",
    "    1998, 1999, 2001, 2002, 1421, 1962, 1289, 988, 986, 1446,\n",
    "    1454, 637, 15, 636, 92, 1735, 880, 328, 19, 201, 114, 437,\n",
    "    216, 1447, 365, 47, 123, 249, 132, 17, 1491, 1015, 85, 325,\n",
    "    367, 491, 478, 1081, 744, 752, 313, 616, 1265, 1482, 1743]"
   ]
  },
  {
   "cell_type": "code",
   "execution_count": null,
   "id": "a5fa22c5",
   "metadata": {},
   "outputs": [],
   "source": []
  },
  {
   "cell_type": "code",
   "execution_count": 7,
   "id": "6818ba80",
   "metadata": {},
   "outputs": [],
   "source": [
    "df_intersects = gpd.read_file('INTERSECT_2.shp')"
   ]
  },
  {
   "cell_type": "code",
   "execution_count": 28,
   "id": "75ed3252",
   "metadata": {},
   "outputs": [],
   "source": [
    "df_data = pd.read_excel('DATA_EST.xlsx')"
   ]
  },
  {
   "cell_type": "markdown",
   "id": "295d209f",
   "metadata": {},
   "source": [
    "### Eliminar props de DATA_EST.xlsx"
   ]
  },
  {
   "cell_type": "code",
   "execution_count": 29,
   "id": "077c9b98",
   "metadata": {},
   "outputs": [],
   "source": [
    "df_data = df_data[~df_data['cod_prop'].isin(lista_eliminar)]"
   ]
  },
  {
   "cell_type": "code",
   "execution_count": 30,
   "id": "daefbca9",
   "metadata": {},
   "outputs": [],
   "source": [
    "df_data.to_excel('data_new.xlsx')"
   ]
  },
  {
   "cell_type": "markdown",
   "id": "9287c566",
   "metadata": {},
   "source": [
    "### Eliminar props de INTERSECTS.shp"
   ]
  },
  {
   "cell_type": "code",
   "execution_count": 14,
   "id": "670fe357",
   "metadata": {},
   "outputs": [],
   "source": [
    "lista_eliminar = [str(i) for i in lista_eliminar]"
   ]
  },
  {
   "cell_type": "code",
   "execution_count": 15,
   "id": "e24489c4",
   "metadata": {},
   "outputs": [],
   "source": [
    "df_intersects = df_intersects[~df_intersects['unidad_01'].isin(lista_eliminar)]"
   ]
  },
  {
   "cell_type": "code",
   "execution_count": null,
   "id": "f48aaae0",
   "metadata": {},
   "outputs": [],
   "source": []
  },
  {
   "cell_type": "code",
   "execution_count": null,
   "id": "ec708305",
   "metadata": {},
   "outputs": [],
   "source": []
  },
  {
   "cell_type": "code",
   "execution_count": null,
   "id": "da91e46a",
   "metadata": {},
   "outputs": [],
   "source": []
  },
  {
   "cell_type": "code",
   "execution_count": null,
   "id": "5b941b17",
   "metadata": {},
   "outputs": [],
   "source": []
  },
  {
   "cell_type": "code",
   "execution_count": 35,
   "id": "40300e3e",
   "metadata": {},
   "outputs": [],
   "source": [
    "path_cat = r'C:\\Documents\\Ingenio Azucarero Guabira S.A\\UTEA - SEMANAL - AVANCE COSECHA\\2024\\ESTIMATIVAS\\MAP_08\\SHP\\LOTES_CANA_08.shp'\n",
    "gdf_cat = gpd.read_file(path_cat)"
   ]
  },
  {
   "cell_type": "code",
   "execution_count": 36,
   "id": "2666e7d2",
   "metadata": {},
   "outputs": [
    {
     "name": "stdout",
     "output_type": "stream",
     "text": [
      "[1, 2, 3, 4, 5, 6, 8, 9, 10, 11, 12, 13, 14, 15, 16, 17, 18, 19, 20, 21, 22, 23, 25, 26, 27, 28, 29, 30, 31, 32, 33, 36, 38, 39, 40, 42, 43, 44, 45, 46, 47, 48, 49, 50, 54, 55, 57, 61, 62, 63, 66, 67, 68, 71, 72, 74, 76, 78, 79, 80, 83, 84, 85, 89, 92, 93, 94, 96, 98, 100, 103, 104, 106, 109, 110, 111, 112, 113, 114, 116, 117, 118, 119, 122, 123, 125, 126, 127, 128, 129, 132, 133, 135, 136, 137, 139, 140, 141, 142, 145, 146, 147, 149, 150, 155, 156, 159, 161, 162, 164, 168, 171, 172, 173, 174, 176, 178, 179, 182, 183, 184, 185, 186, 187, 188, 189, 197, 198, 201, 206, 209, 211, 212, 213, 216, 217, 218, 219, 220, 221, 222, 225, 226, 227, 228, 229, 230, 231, 233, 234, 235, 236, 237, 238, 239, 240, 241, 242, 244, 246, 247, 249, 250, 251, 253, 256, 257, 258, 259, 260, 261, 263, 264, 265, 267, 268, 270, 271, 272, 273, 274, 275, 276, 277, 278, 279, 280, 281, 282, 283, 284, 285, 286, 287, 288, 289, 290, 291, 292, 293, 294, 295, 297, 298, 299, 300, 301, 302, 303, 304, 305, 306, 307, 308, 309, 310, 311, 313, 318, 320, 324, 325, 326, 327, 328, 329, 330, 331, 332, 333, 341, 342, 343, 344, 345, 348, 349, 350, 355, 357, 358, 359, 360, 361, 365, 367, 368, 369, 370, 371, 374, 375, 376, 377, 378, 384, 386, 389, 391, 392, 395, 396, 398, 399, 400, 404, 405, 406, 407, 408, 411, 414, 415, 416, 417, 418, 419, 421, 424, 426, 429, 433, 434, 435, 437, 439, 440, 441, 442, 444, 445, 447, 450, 454, 458, 459, 466, 468, 469, 471, 472, 473, 476, 478, 483, 484, 485, 486, 487, 488, 489, 490, 491, 493, 494, 495, 496, 499, 500, 501, 503, 504, 505, 507, 509, 510, 511, 512, 513, 514, 515, 516, 517, 519, 520, 521, 522, 523, 525, 526, 527, 529, 531, 533, 534, 535, 536, 537, 538, 539, 540, 541, 542, 544, 545, 546, 547, 549, 550, 551, 552, 554, 555, 556, 557, 558, 559, 560, 565, 566, 568, 570, 571, 572, 573, 574, 575, 576, 578, 579, 580, 582, 583, 585, 586, 588, 589, 590, 591, 592, 593, 594, 597, 598, 600, 601, 602, 603, 604, 605, 606, 608, 611, 613, 614, 615, 616, 617, 618, 619, 620, 621, 622, 623, 625, 627, 628, 629, 630, 631, 632, 633, 634, 636, 637, 638, 639, 640, 641, 642, 643, 645, 646, 647, 648, 649, 650, 651, 652, 653, 654, 655, 656, 657, 658, 659, 660, 661, 664, 665, 666, 667, 668, 669, 670, 671, 672, 673, 674, 675, 676, 677, 678, 679, 681, 682, 683, 691, 693, 694, 695, 697, 699, 700, 702, 703, 704, 705, 706, 707, 708, 709, 710, 711, 714, 715, 716, 717, 718, 719, 720, 721, 722, 723, 724, 725, 726, 727, 728, 729, 730, 732, 733, 734, 737, 739, 741, 742, 744, 745, 746, 747, 749, 750, 752, 753, 755, 756, 757, 758, 759, 761, 762, 763, 764, 765, 766, 767, 768, 769, 770, 771, 772, 773, 774, 775, 776, 777, 778, 779, 780, 781, 782, 783, 785, 787, 788, 789, 790, 791, 793, 794, 795, 796, 797, 798, 799, 800, 801, 802, 803, 804, 805, 806, 807, 808, 809, 810, 811, 812, 813, 814, 815, 816, 817, 818, 819, 820, 823, 824, 825, 827, 828, 829, 830, 831, 832, 833, 834, 835, 838, 839, 840, 841, 842, 843, 844, 845, 846, 848, 849, 851, 852, 853, 854, 855, 856, 858, 859, 860, 861, 862, 863, 864, 865, 866, 867, 868, 869, 870, 871, 872, 873, 874, 875, 877, 878, 879, 880, 881, 882, 883, 886, 887, 888, 889, 890, 891, 893, 894, 895, 896, 897, 898, 899, 900, 901, 902, 903, 904, 905, 906, 907, 909, 910, 912, 913, 915, 916, 918, 919, 921, 922, 923, 924, 925, 926, 927, 928, 929, 930, 931, 932, 934, 935, 936, 937, 938, 939, 940, 941, 942, 943, 944, 945, 947, 948, 949, 950, 951, 952, 953, 955, 956, 957, 958, 961, 962, 963, 964, 966, 968, 969, 970, 971, 972, 973, 974, 975, 976, 978, 979, 980, 981, 982, 984, 988, 989, 990, 991, 992, 993, 994, 995, 996, 999, 1000, 1001, 1002, 1005, 1006, 1009, 1011, 1013, 1014, 1015, 1018, 1020, 1021, 1022, 1023, 1024, 1025, 1026, 1028, 1033, 1035, 1036, 1038, 1039, 1040, 1041, 1042, 1043, 1044, 1047, 1049, 1050, 1051, 1052, 1053, 1054, 1057, 1064, 1065, 1066, 1067, 1069, 1070, 1072, 1073, 1074, 1075, 1076, 1077, 1080, 1081, 1082, 1083, 1084, 1085, 1086, 1087, 1088, 1090, 1091, 1092, 1093, 1094, 1095, 1096, 1097, 1099, 1100, 1104, 1106, 1107, 1108, 1109, 1111, 1113, 1114, 1115, 1116, 1117, 1118, 1119, 1120, 1121, 1122, 1123, 1124, 1125, 1126, 1128, 1131, 1136, 1137, 1139, 1140, 1141, 1142, 1144, 1145, 1146, 1147, 1148, 1149, 1150, 1151, 1153, 1154, 1156, 1157, 1158, 1159, 1160, 1161, 1163, 1165, 1166, 1168, 1170, 1171, 1172, 1173, 1174, 1175, 1176, 1177, 1178, 1179, 1180, 1181, 1182, 1183, 1184, 1185, 1186, 1187, 1188, 1189, 1190, 1193, 1195, 1197, 1198, 1199, 1200, 1201, 1203, 1204, 1205, 1206, 1207, 1208, 1209, 1210, 1211, 1212, 1213, 1214, 1215, 1216, 1219, 1220, 1221, 1222, 1225, 1227, 1228, 1229, 1231, 1232, 1233, 1234, 1235, 1237, 1238, 1239, 1240, 1242, 1243, 1244, 1245, 1247, 1248, 1249, 1250, 1251, 1252, 1254, 1255, 1256, 1257, 1258, 1259, 1260, 1262, 1264, 1266, 1267, 1268, 1273, 1274, 1275, 1276, 1277, 1278, 1279, 1280, 1281, 1283, 1284, 1285, 1286, 1287, 1289, 1290, 1291, 1292, 1294, 1295, 1297, 1299, 1301, 1302, 1303, 1304, 1305, 1306, 1307, 1308, 1309, 1311, 1313, 1314, 1320, 1321, 1322, 1324, 1325, 1326, 1327, 1330, 1331, 1333, 1335, 1336, 1337, 1338, 1339, 1342, 1343, 1344, 1345, 1346, 1347, 1349, 1350, 1351, 1352, 1353, 1354, 1355, 1356, 1357, 1358, 1359, 1364, 1365, 1366, 1367, 1368, 1369, 1370, 1371, 1372, 1374, 1375, 1376, 1377, 1379, 1380, 1381, 1382, 1384, 1385, 1386, 1388, 1389, 1392, 1393, 1394, 1395, 1397, 1399, 1401, 1402, 1403, 1404, 1405, 1406, 1407, 1409, 1410, 1411, 1412, 1413, 1414, 1416, 1417, 1418, 1419, 1420, 1421, 1422, 1423, 1424, 1425, 1426, 1428, 1431, 1432, 1433, 1434, 1435, 1436, 1440, 1441, 1442, 1443, 1445, 1447, 1450, 1451, 1452, 1453, 1454, 1456, 1457, 1458, 1459, 1460, 1461, 1464, 1465, 1466, 1467, 1469, 1470, 1472, 1473, 1474, 1475, 1476, 1478, 1479, 1480, 1481, 1482, 1483, 1484, 1488, 1489, 1491, 1494, 1495, 1497, 1498, 1500, 1502, 1503, 1505, 1507, 1508, 1509, 1510, 1511, 1512, 1516, 1518, 1520, 1522, 1523, 1524, 1525, 1526, 1528, 1531, 1535, 1536, 1538, 1539, 1540, 1541, 1542, 1544, 1545, 1546, 1547, 1548, 1549, 1553, 1554, 1556, 1557, 1558, 1559, 1561, 1562, 1563, 1564, 1566, 1567, 1568, 1569, 1570, 1572, 1573, 1574, 1577, 1578, 1579, 1580, 1582, 1583, 1584, 1585, 1586, 1587, 1588, 1591, 1592, 1593, 1594, 1597, 1598, 1600, 1601, 1602, 1604, 1605, 1606, 1607, 1608, 1609, 1610, 1611, 1612, 1613, 1615, 1616, 1617, 1618, 1619, 1620, 1621, 1622, 1623, 1624, 1627, 1628, 1629, 1631, 1633, 1637, 1638, 1639, 1640, 1641, 1642, 1643, 1644, 1645, 1646, 1648, 1649, 1650, 1652, 1653, 1654, 1655, 1656, 1658, 1659, 1661, 1662, 1663, 1665, 1667, 1668, 1669, 1671, 1672, 1673, 1674, 1675, 1676, 1677, 1682, 1683, 1684, 1685, 1686, 1687, 1688, 1689, 1690, 1693, 1694, 1695, 1696, 1699, 1700, 1701, 1702, 1703, 1704, 1705, 1706, 1707, 1708, 1709, 1710, 1711, 1712, 1714, 1716, 1718, 1719, 1720, 1721, 1722, 1723, 1724, 1726, 1730, 1731, 1732, 1733, 1735, 1736, 1737, 1738, 1739, 1740, 1741, 1742, 1744, 1745, 1746, 1748, 1750, 1755, 1756, 1757, 1758, 1759, 1760, 1761, 1762, 1763, 1764, 1765, 1766, 1767, 1768, 1769, 1770, 1771, 1772, 1773, 1774, 1775, 1776, 1777, 1778, 1783, 1786, 1787, 1788, 1789, 1790, 1791, 1792, 1793, 1794, 1795, 1796, 1797, 1798, 1799, 1802, 1805, 1806, 1808, 1811, 1812, 1815, 1816, 1817, 1818, 1819, 1820, 1823, 1824, 1826, 1828, 1829, 1830, 1831, 1832, 1833, 1844, 1845, 1846, 1847, 1848, 1849, 1850, 1851, 1852, 1853, 1854, 1855, 1856, 1857, 1859, 1860, 1861, 1862, 1863, 1864, 1865, 1866, 1867, 1868, 1869, 1870, 1871, 1872, 1873, 1874, 1875, 1876, 1878, 1879, 1880, 1881, 1882, 1883, 1884, 1885, 1886, 1887, 1888, 1889, 1891, 1892, 1893, 1894, 1895, 1896, 1898, 1900, 1901, 1902, 1903, 1904, 1905, 1906, 1907, 1908, 1909, 1910, 1911, 1912, 1915, 1916, 1917, 1918, 1919, 1922, 1924, 1925, 1926, 1927, 1928, 1929, 1930, 1931, 1932, 1933, 1934, 1935, 1936, 1937, 1938, 1940, 1941, 1944, 1946, 1947, 1948, 1949, 1950, 1951, 1953, 1955, 1957, 1959, 1960, 1962, 1963, 1964, 1965, 1966, 1967, 1968, 1969, 1970, 1971, 1972, 1973, 1974, 1975, 1976, 1977, 1978, 1979, 1980, 1981, 1982, 1983, 1984, 1985, 1986, 1987, 1988, 1989, 1990, 1991, 1992, 1993, 1994, 1995, 1996, 1997, 1998, 1999, 2000, 2001, 2004, 2005, 2006, 2007, 2008, 2009, 2010, 2011, 2012, 2013, 2014, 2015, 2016, 2017, 2018, 2019, 2020, 2021, 2022, 2023, 2024, 2025, 2026, 2027, 2028, 2029, 2030, 2031, 2032, 2033, 2034, 2035, 2036, 2037, 2038, 2039, 2040, 2041, 2042, 2043, 2044, 2045, 2046, 2047, 2048, 2049, 2050, 2051, 2052, 2053, 2054, 2055, 2056, 2057, 2058, 2059, 2060, 2061, 2062, 2063, 2065, 2066, 2067, 2068, 2069, 2070, 2071, 2072, 2073, 2074, 2075, 2076, 2077, 2079, 2080, 2081, 2082, 2083, 2084, 2085, 2086, 2087, 2088, 2089, 2090, 2091, 2092, 2093, 2094, 2095, 2096, 2097, 2098, 2099, 2100, 2101, 2102, 2103, 2104, 2105, 2106, 2107, 2108, 2109, 2110, 2111, 2112, 2113, 2114, 2115, 2116, 2117, 2118, 2119, 2120, 2121, 2122, 2124, 2126, 2127, 2128, 2129, 2130, 2131, 2133, 2134, 2135, 2139, 2143, 2146, 2147, 2148, 2150, 2151, 2152, 2153, 2154, 2155, 2159, 2160, 2161, 2164]\n"
     ]
    }
   ],
   "source": [
    "lista_props = list(set(gdf_cat['unidad_01']))\n",
    "print(lista_props)"
   ]
  },
  {
   "cell_type": "code",
   "execution_count": null,
   "id": "5a64427e-9270-4dc1-9c38-32983e4c23b6",
   "metadata": {},
   "outputs": [],
   "source": []
  },
  {
   "cell_type": "code",
   "execution_count": 37,
   "id": "51b1f50f-2427-4562-9512-bf5019af02b4",
   "metadata": {},
   "outputs": [],
   "source": [
    "lista_props = [1483, 1587, 1732]"
   ]
  },
  {
   "cell_type": "code",
   "execution_count": 38,
   "id": "861fd376-e379-4e23-8170-f4528e707ba8",
   "metadata": {},
   "outputs": [
    {
     "data": {
      "text/plain": [
       "[]"
      ]
     },
     "execution_count": 38,
     "metadata": {},
     "output_type": "execute_result"
    }
   ],
   "source": [
    "cods_error"
   ]
  },
  {
   "cell_type": "code",
   "execution_count": 39,
   "id": "58067788",
   "metadata": {},
   "outputs": [
    {
     "data": {
      "text/plain": [
       "3"
      ]
     },
     "execution_count": 39,
     "metadata": {},
     "output_type": "execute_result"
    }
   ],
   "source": [
    "len(lista_props)"
   ]
  },
  {
   "cell_type": "code",
   "execution_count": 8,
   "id": "bb6ece30",
   "metadata": {},
   "outputs": [],
   "source": [
    "df_intersects = gpd.read_file('INTERSECT_0.shp')"
   ]
  },
  {
   "cell_type": "code",
   "execution_count": 40,
   "id": "b8caf1cf",
   "metadata": {},
   "outputs": [
    {
     "data": {
      "text/plain": [
       "(900585, 31)"
      ]
     },
     "execution_count": 40,
     "metadata": {},
     "output_type": "execute_result"
    }
   ],
   "source": [
    "df_intersects.shape"
   ]
  },
  {
   "cell_type": "code",
   "execution_count": null,
   "id": "b9137761",
   "metadata": {},
   "outputs": [],
   "source": []
  },
  {
   "cell_type": "code",
   "execution_count": 41,
   "id": "00985e9b",
   "metadata": {},
   "outputs": [
    {
     "name": "stdout",
     "output_type": "stream",
     "text": [
      "inicio: 1483\n"
     ]
    },
    {
     "name": "stderr",
     "output_type": "stream",
     "text": [
      "C:\\Users\\bismarksr\\AppData\\Local\\Temp\\ipykernel_24788\\585642040.py:63: FutureWarning: The provided callable <function sum at 0x000001AB7F37F400> is currently using DataFrameGroupBy.sum. In a future version of pandas, the provided callable will be used directly. To keep current behavior pass the string \"sum\" instead.\n",
      "  dina = pd.pivot_table(DF, values='area_2', index=[CODIGO_PROPIEDAD, NOM_PROPIEDAD, CODIGO_CANHERO, NOM_CANHERO, 'label'], aggfunc=np.sum)\n"
     ]
    },
    {
     "name": "stdout",
     "output_type": "stream",
     "text": [
      "fin:  1483\n",
      "___________________CONTADOR:  1\n",
      "inicio: 1587\n"
     ]
    },
    {
     "name": "stderr",
     "output_type": "stream",
     "text": [
      "C:\\Users\\bismarksr\\AppData\\Local\\Temp\\ipykernel_24788\\585642040.py:63: FutureWarning: The provided callable <function sum at 0x000001AB7F37F400> is currently using DataFrameGroupBy.sum. In a future version of pandas, the provided callable will be used directly. To keep current behavior pass the string \"sum\" instead.\n",
      "  dina = pd.pivot_table(DF, values='area_2', index=[CODIGO_PROPIEDAD, NOM_PROPIEDAD, CODIGO_CANHERO, NOM_CANHERO, 'label'], aggfunc=np.sum)\n"
     ]
    },
    {
     "name": "stdout",
     "output_type": "stream",
     "text": [
      "fin:  1587\n",
      "___________________CONTADOR:  2\n",
      "inicio: 1732\n"
     ]
    },
    {
     "name": "stderr",
     "output_type": "stream",
     "text": [
      "C:\\Users\\bismarksr\\AppData\\Local\\Temp\\ipykernel_24788\\585642040.py:63: FutureWarning: The provided callable <function sum at 0x000001AB7F37F400> is currently using DataFrameGroupBy.sum. In a future version of pandas, the provided callable will be used directly. To keep current behavior pass the string \"sum\" instead.\n",
      "  dina = pd.pivot_table(DF, values='area_2', index=[CODIGO_PROPIEDAD, NOM_PROPIEDAD, CODIGO_CANHERO, NOM_CANHERO, 'label'], aggfunc=np.sum)\n"
     ]
    },
    {
     "name": "stdout",
     "output_type": "stream",
     "text": [
      "fin:  1732\n",
      "___________________CONTADOR:  3\n",
      "FIN......!\n"
     ]
    }
   ],
   "source": [
    "contador = 0\n",
    "cods_error = []\n",
    "for cod_prop in lista_props:\n",
    "    print('inicio:', cod_prop)\n",
    "    propiedad = ee.FeatureCollection(ruta_catastro)\\\n",
    "                .filter(ee.Filter.eq(CODIGO_PROPIEDAD, cod_prop))\n",
    "    lotes_canha = propiedad.filter(ee.Filter.neq(VARIEDAD, ESTADO))\n",
    "    lotes_renov = propiedad.filter(ee.Filter.eq(VARIEDAD, ESTADO))\n",
    "    NDVI = ee.Image(ruta_ndvi)\n",
    "    NDVI_clip = NDVI.clip(lotes_canha.geometry())\n",
    "    # crea un sample de los valore de pixel del NDVI\n",
    "    NDVI_values = NDVI_clip.sampleRegions(lotes_canha.geometry())\n",
    "    # reduce el resultado a valores de NDVI\n",
    "    pixel_values = NDVI_values.reduceColumns(ee.Reducer.toList(),['b1']).get('list').getInfo()\n",
    "    # aplica metodo Jenks\n",
    "    breaks = jenkspy.jenks_breaks(pixel_values, n_classes=8)\n",
    "    NDVI_class = ee.Image(-1).where(NDVI.lt(breaks[1]),1)\\\n",
    "                        .where(NDVI.gte(breaks[1]),2)\\\n",
    "                        .where(NDVI.gte(breaks[2]),3)\\\n",
    "                        .where(NDVI.gte(breaks[3]),4)\\\n",
    "                        .where(NDVI.gte(breaks[4]),5)\\\n",
    "                        .where(NDVI.gte(breaks[5]),6)\\\n",
    "                        .where(NDVI.gte(breaks[6]),7)\\\n",
    "                        .where(NDVI.gte(breaks[7]),8)\n",
    "    NDVI_class_clip = NDVI_class.clip(lotes_canha.geometry())\n",
    "    clasify = NDVI_class_clip.reproject(crs=\"EPSG:32720\", scale=10)\n",
    "    vector = clasify.reduceToVectors(**{\n",
    "        'geometry': lotes_canha.geometry(),\n",
    "        'crs': clasify.projection(),\n",
    "        'scale': 10,\n",
    "        'geometryType': 'polygon',\n",
    "        'eightConnected': False\n",
    "    })\n",
    "    \n",
    "    DF_VECTOR = vector\n",
    "    \n",
    "    lotes_local = geemap.ee_to_gdf(lotes_canha)\n",
    "    \n",
    "    lista = vector.toList(vector.size()).getInfo()\n",
    "    lista_vector=[]\n",
    "    for item in lista:\n",
    "        dic = {'geometry':Polygon(item['geometry']['coordinates'][0]), 'count':item['properties']['count'], 'label':item['properties']['label']}\n",
    "        lista_vector.append(dic)\n",
    "    \n",
    "    vector_local = gpd.GeoDataFrame(lista_vector)\n",
    "    \n",
    "    try:\n",
    "        intersect = overlay(lotes_local, vector_local, how=\"intersection\")\n",
    "    except TypeError as e:\n",
    "        cods_error.append(cod_prop)\n",
    "        continue\n",
    "\n",
    "    intersect.crs = \"EPSG:4326\"\n",
    "    intersect = intersect.to_crs(epsg=32720)\n",
    "    intersect['area_2'] = intersect['geometry'].area/10000\n",
    "    \n",
    "    area_01 = intersect['area_2'].sum()\n",
    "    area_02 = lotes_local[SUPERFICIE].sum()\n",
    "    area_diff = (area_02 - area_01)/len(intersect)\n",
    "    intersect['area_2'] = intersect['area_2'] + area_diff\n",
    "    \n",
    "    DF = intersect.copy()\n",
    "    dina = pd.pivot_table(DF, values='area_2', index=[CODIGO_PROPIEDAD, NOM_PROPIEDAD, CODIGO_CANHERO, NOM_CANHERO, 'label'], aggfunc=np.sum)\n",
    "    dina2 = dina.reset_index()\n",
    "    \n",
    "    dina2['tch'] = dina2['label'].apply(asig_cat)\n",
    "    \n",
    "    # Cargar el archivo de Excel existente\n",
    "    wb = openpyxl.load_workbook('DATA_EST.xlsx')\n",
    "    # Seleccionar la hoja de trabajo\n",
    "    ws = wb['data']\n",
    "    \n",
    "    for i in range(0, len(dina2)):\n",
    "        new_row = [dina2.iloc[i,0], dina2.iloc[i,1], dina2.iloc[i,2], dina2.iloc[i,3], dina2.iloc[i,4], dina2.iloc[i,5], dina2.iloc[i,6]]\n",
    "        ws.append(new_row)\n",
    "    wb.save('DATA_EST.xlsx')\n",
    "    \n",
    "    df_intersects = pd.concat([df_intersects, DF], ignore_index=True)\n",
    "    \n",
    "    contador = contador + 1 \n",
    "    print('fin: ', cod_prop)\n",
    "    print('___________________CONTADOR: ', contador)\n",
    "    \n",
    "print('FIN......!')"
   ]
  },
  {
   "cell_type": "code",
   "execution_count": null,
   "id": "90de2bda-3903-4572-b505-70f27f298621",
   "metadata": {},
   "outputs": [],
   "source": []
  },
  {
   "cell_type": "code",
   "execution_count": null,
   "id": "f6fe38da-9aec-4082-b0dd-06bdc4c69a46",
   "metadata": {},
   "outputs": [],
   "source": []
  },
  {
   "cell_type": "code",
   "execution_count": 42,
   "id": "7abe1885",
   "metadata": {},
   "outputs": [
    {
     "data": {
      "text/plain": [
       "[]"
      ]
     },
     "execution_count": 42,
     "metadata": {},
     "output_type": "execute_result"
    }
   ],
   "source": [
    "cods_error"
   ]
  },
  {
   "cell_type": "code",
   "execution_count": null,
   "id": "03fafd9e-e7dc-4057-9f21-037afb6dabe1",
   "metadata": {},
   "outputs": [],
   "source": []
  },
  {
   "cell_type": "code",
   "execution_count": null,
   "id": "a0e4b4a2-bdd7-4707-b728-3e8967578a36",
   "metadata": {},
   "outputs": [],
   "source": []
  },
  {
   "cell_type": "code",
   "execution_count": 43,
   "id": "0bf17e25",
   "metadata": {},
   "outputs": [
    {
     "data": {
      "text/html": [
       "<div>\n",
       "<style scoped>\n",
       "    .dataframe tbody tr th:only-of-type {\n",
       "        vertical-align: middle;\n",
       "    }\n",
       "\n",
       "    .dataframe tbody tr th {\n",
       "        vertical-align: top;\n",
       "    }\n",
       "\n",
       "    .dataframe thead th {\n",
       "        text-align: right;\n",
       "    }\n",
       "</style>\n",
       "<table border=\"1\" class=\"dataframe\">\n",
       "  <thead>\n",
       "    <tr style=\"text-align: right;\">\n",
       "      <th></th>\n",
       "      <th>area</th>\n",
       "      <th>cultivo</th>\n",
       "      <th>fecha</th>\n",
       "      <th>financia</th>\n",
       "      <th>id</th>\n",
       "      <th>soca</th>\n",
       "      <th>textura</th>\n",
       "      <th>unidad_01</th>\n",
       "      <th>unidad_02</th>\n",
       "      <th>unidad_03</th>\n",
       "      <th>...</th>\n",
       "      <th>unidad_012</th>\n",
       "      <th>fsc23</th>\n",
       "      <th>variedad23</th>\n",
       "      <th>fc</th>\n",
       "      <th>id_1</th>\n",
       "      <th>geometry</th>\n",
       "      <th>codcos</th>\n",
       "      <th>siembra</th>\n",
       "      <th>tecnico</th>\n",
       "      <th>zafra</th>\n",
       "    </tr>\n",
       "  </thead>\n",
       "  <tbody>\n",
       "    <tr>\n",
       "      <th>902307</th>\n",
       "      <td>4.394956</td>\n",
       "      <td>canha</td>\n",
       "      <td>NaN</td>\n",
       "      <td></td>\n",
       "      <td>000017320000L1</td>\n",
       "      <td>1</td>\n",
       "      <td>FY</td>\n",
       "      <td>1732</td>\n",
       "      <td>LA PAMPA--MORA WILLAN</td>\n",
       "      <td>8910</td>\n",
       "      <td>...</td>\n",
       "      <td>NaN</td>\n",
       "      <td>NaN</td>\n",
       "      <td>NaN</td>\n",
       "      <td></td>\n",
       "      <td>NaN</td>\n",
       "      <td>POLYGON ((486128.413 8085070.000, 486120.000 8...</td>\n",
       "      <td>250.0</td>\n",
       "      <td></td>\n",
       "      <td>250</td>\n",
       "      <td>2024.0</td>\n",
       "    </tr>\n",
       "    <tr>\n",
       "      <th>902308</th>\n",
       "      <td>4.394956</td>\n",
       "      <td>canha</td>\n",
       "      <td>NaN</td>\n",
       "      <td></td>\n",
       "      <td>000017320000L1</td>\n",
       "      <td>1</td>\n",
       "      <td>FY</td>\n",
       "      <td>1732</td>\n",
       "      <td>LA PAMPA--MORA WILLAN</td>\n",
       "      <td>8910</td>\n",
       "      <td>...</td>\n",
       "      <td>NaN</td>\n",
       "      <td>NaN</td>\n",
       "      <td>NaN</td>\n",
       "      <td></td>\n",
       "      <td>NaN</td>\n",
       "      <td>POLYGON ((486128.578 8085100.000, 486120.000 8...</td>\n",
       "      <td>250.0</td>\n",
       "      <td></td>\n",
       "      <td>250</td>\n",
       "      <td>2024.0</td>\n",
       "    </tr>\n",
       "    <tr>\n",
       "      <th>902309</th>\n",
       "      <td>4.394956</td>\n",
       "      <td>canha</td>\n",
       "      <td>NaN</td>\n",
       "      <td></td>\n",
       "      <td>000017320000L1</td>\n",
       "      <td>1</td>\n",
       "      <td>FY</td>\n",
       "      <td>1732</td>\n",
       "      <td>LA PAMPA--MORA WILLAN</td>\n",
       "      <td>8910</td>\n",
       "      <td>...</td>\n",
       "      <td>NaN</td>\n",
       "      <td>NaN</td>\n",
       "      <td>NaN</td>\n",
       "      <td></td>\n",
       "      <td>NaN</td>\n",
       "      <td>POLYGON ((486128.633 8085110.000, 486120.000 8...</td>\n",
       "      <td>250.0</td>\n",
       "      <td></td>\n",
       "      <td>250</td>\n",
       "      <td>2024.0</td>\n",
       "    </tr>\n",
       "    <tr>\n",
       "      <th>902310</th>\n",
       "      <td>4.394956</td>\n",
       "      <td>canha</td>\n",
       "      <td>NaN</td>\n",
       "      <td></td>\n",
       "      <td>000017320000L1</td>\n",
       "      <td>1</td>\n",
       "      <td>FY</td>\n",
       "      <td>1732</td>\n",
       "      <td>LA PAMPA--MORA WILLAN</td>\n",
       "      <td>8910</td>\n",
       "      <td>...</td>\n",
       "      <td>NaN</td>\n",
       "      <td>NaN</td>\n",
       "      <td>NaN</td>\n",
       "      <td></td>\n",
       "      <td>NaN</td>\n",
       "      <td>POLYGON ((486129.073 8085190.000, 486120.000 8...</td>\n",
       "      <td>250.0</td>\n",
       "      <td></td>\n",
       "      <td>250</td>\n",
       "      <td>2024.0</td>\n",
       "    </tr>\n",
       "    <tr>\n",
       "      <th>902311</th>\n",
       "      <td>4.394956</td>\n",
       "      <td>canha</td>\n",
       "      <td>NaN</td>\n",
       "      <td></td>\n",
       "      <td>000017320000L1</td>\n",
       "      <td>1</td>\n",
       "      <td>FY</td>\n",
       "      <td>1732</td>\n",
       "      <td>LA PAMPA--MORA WILLAN</td>\n",
       "      <td>8910</td>\n",
       "      <td>...</td>\n",
       "      <td>NaN</td>\n",
       "      <td>NaN</td>\n",
       "      <td>NaN</td>\n",
       "      <td></td>\n",
       "      <td>NaN</td>\n",
       "      <td>POLYGON ((486129.545 8085275.917, 486129.458 8...</td>\n",
       "      <td>250.0</td>\n",
       "      <td></td>\n",
       "      <td>250</td>\n",
       "      <td>2024.0</td>\n",
       "    </tr>\n",
       "  </tbody>\n",
       "</table>\n",
       "<p>5 rows × 31 columns</p>\n",
       "</div>"
      ],
      "text/plain": [
       "            area cultivo fecha financia              id soca textura  \\\n",
       "902307  4.394956   canha   NaN           000017320000L1    1      FY   \n",
       "902308  4.394956   canha   NaN           000017320000L1    1      FY   \n",
       "902309  4.394956   canha   NaN           000017320000L1    1      FY   \n",
       "902310  4.394956   canha   NaN           000017320000L1    1      FY   \n",
       "902311  4.394956   canha   NaN           000017320000L1    1      FY   \n",
       "\n",
       "       unidad_01              unidad_02 unidad_03  ... unidad_012 fsc23  \\\n",
       "902307      1732  LA PAMPA--MORA WILLAN      8910  ...        NaN   NaN   \n",
       "902308      1732  LA PAMPA--MORA WILLAN      8910  ...        NaN   NaN   \n",
       "902309      1732  LA PAMPA--MORA WILLAN      8910  ...        NaN   NaN   \n",
       "902310      1732  LA PAMPA--MORA WILLAN      8910  ...        NaN   NaN   \n",
       "902311      1732  LA PAMPA--MORA WILLAN      8910  ...        NaN   NaN   \n",
       "\n",
       "       variedad23 fc id_1                                           geometry  \\\n",
       "902307        NaN     NaN  POLYGON ((486128.413 8085070.000, 486120.000 8...   \n",
       "902308        NaN     NaN  POLYGON ((486128.578 8085100.000, 486120.000 8...   \n",
       "902309        NaN     NaN  POLYGON ((486128.633 8085110.000, 486120.000 8...   \n",
       "902310        NaN     NaN  POLYGON ((486129.073 8085190.000, 486120.000 8...   \n",
       "902311        NaN     NaN  POLYGON ((486129.545 8085275.917, 486129.458 8...   \n",
       "\n",
       "        codcos siembra tecnico   zafra  \n",
       "902307   250.0             250  2024.0  \n",
       "902308   250.0             250  2024.0  \n",
       "902309   250.0             250  2024.0  \n",
       "902310   250.0             250  2024.0  \n",
       "902311   250.0             250  2024.0  \n",
       "\n",
       "[5 rows x 31 columns]"
      ]
     },
     "execution_count": 43,
     "metadata": {},
     "output_type": "execute_result"
    }
   ],
   "source": [
    "df_intersects.tail(5)"
   ]
  },
  {
   "cell_type": "code",
   "execution_count": null,
   "id": "9b5d0198",
   "metadata": {},
   "outputs": [],
   "source": []
  },
  {
   "cell_type": "code",
   "execution_count": 44,
   "id": "83ec7c8c",
   "metadata": {},
   "outputs": [
    {
     "data": {
      "text/plain": [
       "902312"
      ]
     },
     "execution_count": 44,
     "metadata": {},
     "output_type": "execute_result"
    }
   ],
   "source": [
    "len(df_intersects)"
   ]
  },
  {
   "cell_type": "code",
   "execution_count": 46,
   "id": "b226fefc",
   "metadata": {},
   "outputs": [],
   "source": [
    "df_intersects.to_file(\"INTERSECT.shp\", driver=\"ESRI Shapefile\")"
   ]
  },
  {
   "cell_type": "code",
   "execution_count": 45,
   "id": "92c1733f",
   "metadata": {},
   "outputs": [
    {
     "data": {
      "text/plain": [
       "54702.356153453395"
      ]
     },
     "execution_count": 45,
     "metadata": {},
     "output_type": "execute_result"
    }
   ],
   "source": [
    "df_intersects['area_2'].sum()"
   ]
  },
  {
   "cell_type": "code",
   "execution_count": 337,
   "id": "79a4b64a",
   "metadata": {},
   "outputs": [],
   "source": []
  },
  {
   "cell_type": "code",
   "execution_count": 338,
   "id": "6e8d79e1",
   "metadata": {},
   "outputs": [],
   "source": []
  },
  {
   "cell_type": "code",
   "execution_count": 339,
   "id": "49a3c377",
   "metadata": {},
   "outputs": [],
   "source": []
  },
  {
   "cell_type": "code",
   "execution_count": null,
   "id": "9210a4ff",
   "metadata": {},
   "outputs": [],
   "source": []
  },
  {
   "cell_type": "code",
   "execution_count": null,
   "id": "40c8d7b6",
   "metadata": {},
   "outputs": [],
   "source": []
  },
  {
   "cell_type": "code",
   "execution_count": null,
   "id": "e0224c01",
   "metadata": {},
   "outputs": [],
   "source": []
  },
  {
   "cell_type": "code",
   "execution_count": null,
   "id": "4fc409bd",
   "metadata": {},
   "outputs": [],
   "source": []
  },
  {
   "cell_type": "code",
   "execution_count": null,
   "id": "ec2baced",
   "metadata": {},
   "outputs": [],
   "source": []
  },
  {
   "cell_type": "code",
   "execution_count": null,
   "id": "e94b7158",
   "metadata": {},
   "outputs": [],
   "source": []
  },
  {
   "cell_type": "code",
   "execution_count": null,
   "id": "908ce216",
   "metadata": {},
   "outputs": [],
   "source": []
  },
  {
   "cell_type": "code",
   "execution_count": null,
   "id": "b0563e80",
   "metadata": {},
   "outputs": [],
   "source": []
  }
 ],
 "metadata": {
  "kernelspec": {
   "display_name": "Python 3 (ipykernel)",
   "language": "python",
   "name": "python3"
  },
  "language_info": {
   "codemirror_mode": {
    "name": "ipython",
    "version": 3
   },
   "file_extension": ".py",
   "mimetype": "text/x-python",
   "name": "python",
   "nbconvert_exporter": "python",
   "pygments_lexer": "ipython3",
   "version": "3.10.13"
  }
 },
 "nbformat": 4,
 "nbformat_minor": 5
}
