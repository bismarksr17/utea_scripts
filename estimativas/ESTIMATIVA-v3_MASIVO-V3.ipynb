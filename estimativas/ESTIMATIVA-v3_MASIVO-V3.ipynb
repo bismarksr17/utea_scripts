{
 "cells": [
  {
   "cell_type": "markdown",
   "id": "f5800c67",
   "metadata": {},
   "source": [
    "ACTUALIZA LAS PROPIEDADES QUE TIENEN MIDIFICACIONES"
   ]
  },
  {
   "cell_type": "code",
   "execution_count": 1,
   "id": "3abe3492",
   "metadata": {},
   "outputs": [
    {
     "data": {
      "text/html": [
       "<p>To authorize access needed by Earth Engine, open the following\n",
       "        URL in a web browser and follow the instructions:</p>\n",
       "        <p><a href=https://code.earthengine.google.com/client-auth?scopes=https%3A//www.googleapis.com/auth/earthengine%20https%3A//www.googleapis.com/auth/cloud-platform%20https%3A//www.googleapis.com/auth/devstorage.full_control&request_id=AShg9D14ja1Rp1UUP6Ew5DhFCKoCCstsQ6aFg3_0nYY&tc=pVlInLnMUf_gvaBt1NgFdK_p3yuRN4r8kaHcF3V42pU&cc=TXKnCvR9bVQCfjW_V3zDD0I0qenu4c06lDmEPbsC41g>https://code.earthengine.google.com/client-auth?scopes=https%3A//www.googleapis.com/auth/earthengine%20https%3A//www.googleapis.com/auth/cloud-platform%20https%3A//www.googleapis.com/auth/devstorage.full_control&request_id=AShg9D14ja1Rp1UUP6Ew5DhFCKoCCstsQ6aFg3_0nYY&tc=pVlInLnMUf_gvaBt1NgFdK_p3yuRN4r8kaHcF3V42pU&cc=TXKnCvR9bVQCfjW_V3zDD0I0qenu4c06lDmEPbsC41g</a></p>\n",
       "        <p>The authorization workflow will generate a code, which you should paste in the box below.</p>\n",
       "        "
      ],
      "text/plain": [
       "<IPython.core.display.HTML object>"
      ]
     },
     "metadata": {},
     "output_type": "display_data"
    },
    {
     "name": "stdin",
     "output_type": "stream",
     "text": [
      "Enter verification code:  4/1AVMBsJiq3TddRNcMjPGqy9pPdSt7JX-PzEztPEX-PrfLBIW_BPBsiAqkAV4\n"
     ]
    },
    {
     "name": "stdout",
     "output_type": "stream",
     "text": [
      "\n",
      "Successfully saved authorization token.\n"
     ]
    }
   ],
   "source": [
    "import ee\n",
    "ee.Authenticate()"
   ]
  },
  {
   "cell_type": "code",
   "execution_count": 2,
   "id": "48a414e6",
   "metadata": {},
   "outputs": [],
   "source": [
    "import ee\n",
    "import geemap\n",
    "# metodo de clasificacion\n",
    "import jenkspy\n",
    "\n",
    "import geopandas as gpd\n",
    "from geopandas.tools import overlay\n",
    "from shapely.geometry import Polygon\n",
    "\n",
    "import pandas as pd\n",
    "import numpy as np\n",
    "\n",
    "import openpyxl"
   ]
  },
  {
   "cell_type": "code",
   "execution_count": 3,
   "id": "0aa7d43a",
   "metadata": {},
   "outputs": [
    {
     "data": {
      "text/html": [
       "\n",
       "            <style>\n",
       "                .geemap-dark {\n",
       "                    --jp-widgets-color: white;\n",
       "                    --jp-widgets-label-color: white;\n",
       "                    --jp-ui-font-color1: white;\n",
       "                    --jp-layout-color2: #454545;\n",
       "                    background-color: #383838;\n",
       "                }\n",
       "                    \n",
       "                .geemap-dark .jupyter-button {\n",
       "                    --jp-layout-color3: #383838;\n",
       "                }\n",
       "                \n",
       "                .geemap-colab {\n",
       "                    background-color: var(--colab-primary-surface-color, white);\n",
       "                }\n",
       "                    \n",
       "                .geemap-colab .jupyter-button {\n",
       "                    --jp-layout-color3: var(--colab-primary-surface-color, white);\n",
       "                }\n",
       "            </style>\n",
       "            "
      ],
      "text/plain": [
       "<IPython.core.display.HTML object>"
      ]
     },
     "metadata": {},
     "output_type": "display_data"
    }
   ],
   "source": [
    "ee.Initialize()"
   ]
  },
  {
   "cell_type": "code",
   "execution_count": 4,
   "id": "b7b3d2fe",
   "metadata": {},
   "outputs": [
    {
     "data": {
      "text/html": [
       "\n",
       "            <style>\n",
       "                .geemap-dark {\n",
       "                    --jp-widgets-color: white;\n",
       "                    --jp-widgets-label-color: white;\n",
       "                    --jp-ui-font-color1: white;\n",
       "                    --jp-layout-color2: #454545;\n",
       "                    background-color: #383838;\n",
       "                }\n",
       "                    \n",
       "                .geemap-dark .jupyter-button {\n",
       "                    --jp-layout-color3: #383838;\n",
       "                }\n",
       "                \n",
       "                .geemap-colab {\n",
       "                    background-color: var(--colab-primary-surface-color, white);\n",
       "                }\n",
       "                    \n",
       "                .geemap-colab .jupyter-button {\n",
       "                    --jp-layout-color3: var(--colab-primary-surface-color, white);\n",
       "                }\n",
       "            </style>\n",
       "            "
      ],
      "text/plain": [
       "<IPython.core.display.HTML object>"
      ]
     },
     "metadata": {},
     "output_type": "display_data"
    }
   ],
   "source": [
    "ruta_catastro='projects/ee-bismarksr17/assets/CAMPODULCE'\n",
    "ruta_ndvi = 'projects/ee-bismarksr17/assets/NDVI_02_2025'\n",
    "\n",
    "CODIGO_PROPIEDAD='unidad_01'\n",
    "NOM_PROPIEDAD='unidad_02'\n",
    "CODIGO_CANHERO='unidad_03'\n",
    "NOM_CANHERO='unidad_04'\n",
    "\n",
    "VARIEDAD='variedad'\n",
    "ESTADO='RENOVACION'\n",
    "SUPERFICIE='area'"
   ]
  },
  {
   "cell_type": "code",
   "execution_count": 5,
   "id": "29294061",
   "metadata": {},
   "outputs": [
    {
     "data": {
      "text/html": [
       "\n",
       "            <style>\n",
       "                .geemap-dark {\n",
       "                    --jp-widgets-color: white;\n",
       "                    --jp-widgets-label-color: white;\n",
       "                    --jp-ui-font-color1: white;\n",
       "                    --jp-layout-color2: #454545;\n",
       "                    background-color: #383838;\n",
       "                }\n",
       "                    \n",
       "                .geemap-dark .jupyter-button {\n",
       "                    --jp-layout-color3: #383838;\n",
       "                }\n",
       "                \n",
       "                .geemap-colab {\n",
       "                    background-color: var(--colab-primary-surface-color, white);\n",
       "                }\n",
       "                    \n",
       "                .geemap-colab .jupyter-button {\n",
       "                    --jp-layout-color3: var(--colab-primary-surface-color, white);\n",
       "                }\n",
       "            </style>\n",
       "            "
      ],
      "text/plain": [
       "<IPython.core.display.HTML object>"
      ]
     },
     "metadata": {},
     "output_type": "display_data"
    }
   ],
   "source": [
    "def asig_cat(label):\n",
    "    if label == 1:\n",
    "        return 0\n",
    "    else:\n",
    "        return label * 10\n",
    "\n",
    "vis_params_caña = {\n",
    "    'color': 'red', \n",
    "    'width': 2,\n",
    "    'lineType': 'solid',\n",
    "    'fillColor': '00000000',\n",
    "}\n",
    "\n",
    "# parametro de visualizacion LOTES RENOVACION\n",
    "vis_params_renov = {\n",
    "    'color': 'blue', \n",
    "    'width': 2,\n",
    "    'lineType': 'solid',\n",
    "    'fillColor': '00000000',\n",
    "}"
   ]
  },
  {
   "cell_type": "markdown",
   "id": "df61c714",
   "metadata": {},
   "source": [
    "## Eliminar propiedades sobra"
   ]
  },
  {
   "cell_type": "code",
   "execution_count": 7,
   "id": "48342362",
   "metadata": {},
   "outputs": [
    {
     "data": {
      "text/html": [
       "\n",
       "            <style>\n",
       "                .geemap-dark {\n",
       "                    --jp-widgets-color: white;\n",
       "                    --jp-widgets-label-color: white;\n",
       "                    --jp-ui-font-color1: white;\n",
       "                    --jp-layout-color2: #454545;\n",
       "                    background-color: #383838;\n",
       "                }\n",
       "                    \n",
       "                .geemap-dark .jupyter-button {\n",
       "                    --jp-layout-color3: #383838;\n",
       "                }\n",
       "                \n",
       "                .geemap-colab {\n",
       "                    background-color: var(--colab-primary-surface-color, white);\n",
       "                }\n",
       "                    \n",
       "                .geemap-colab .jupyter-button {\n",
       "                    --jp-layout-color3: var(--colab-primary-surface-color, white);\n",
       "                }\n",
       "            </style>\n",
       "            "
      ],
      "text/plain": [
       "<IPython.core.display.HTML object>"
      ]
     },
     "metadata": {},
     "output_type": "display_data"
    }
   ],
   "source": [
    "# props que presentan irregularidades\n",
    "lista_eliminar = [106, 622, 1080, 1172, 1302, 1413, 1480, 1540, 1626, 1986,\n",
    "    1988, 1989, 1990, 1991, 1992, 1993, 1994, 1995, 1996, 1997,\n",
    "    1998, 1999, 2001, 2002, 1421, 1962, 1289, 988, 986, 1446,\n",
    "    1454, 637, 15, 636, 92, 1735, 880, 328, 19, 201, 114, 437,\n",
    "    216, 1447, 365, 47, 123, 249, 132, 17, 1491, 1015, 85, 325,\n",
    "    367, 491, 478, 1081, 744, 752, 313, 616, 1265, 1482, 1743]"
   ]
  },
  {
   "cell_type": "code",
   "execution_count": null,
   "id": "a5fa22c5",
   "metadata": {},
   "outputs": [],
   "source": []
  },
  {
   "cell_type": "code",
   "execution_count": 7,
   "id": "6818ba80",
   "metadata": {},
   "outputs": [],
   "source": [
    "df_intersects = gpd.read_file('INTERSECT_2.shp')"
   ]
  },
  {
   "cell_type": "code",
   "execution_count": 28,
   "id": "75ed3252",
   "metadata": {},
   "outputs": [],
   "source": [
    "df_data = pd.read_excel('DATA_EST.xlsx')"
   ]
  },
  {
   "cell_type": "markdown",
   "id": "295d209f",
   "metadata": {},
   "source": [
    "### Eliminar props de DATA_EST.xlsx"
   ]
  },
  {
   "cell_type": "code",
   "execution_count": 29,
   "id": "077c9b98",
   "metadata": {},
   "outputs": [],
   "source": [
    "df_data = df_data[~df_data['cod_prop'].isin(lista_eliminar)]"
   ]
  },
  {
   "cell_type": "code",
   "execution_count": 30,
   "id": "daefbca9",
   "metadata": {},
   "outputs": [],
   "source": [
    "df_data.to_excel('data_new.xlsx')"
   ]
  },
  {
   "cell_type": "markdown",
   "id": "9287c566",
   "metadata": {},
   "source": [
    "### Eliminar props de INTERSECTS.shp"
   ]
  },
  {
   "cell_type": "code",
   "execution_count": 14,
   "id": "670fe357",
   "metadata": {},
   "outputs": [],
   "source": [
    "lista_eliminar = [str(i) for i in lista_eliminar]"
   ]
  },
  {
   "cell_type": "code",
   "execution_count": 15,
   "id": "e24489c4",
   "metadata": {},
   "outputs": [],
   "source": [
    "df_intersects = df_intersects[~df_intersects['unidad_01'].isin(lista_eliminar)]"
   ]
  },
  {
   "cell_type": "code",
   "execution_count": null,
   "id": "f48aaae0",
   "metadata": {},
   "outputs": [],
   "source": []
  },
  {
   "cell_type": "code",
   "execution_count": null,
   "id": "ec708305",
   "metadata": {},
   "outputs": [],
   "source": []
  },
  {
   "cell_type": "code",
   "execution_count": null,
   "id": "da91e46a",
   "metadata": {},
   "outputs": [],
   "source": []
  },
  {
   "cell_type": "code",
   "execution_count": null,
   "id": "5b941b17",
   "metadata": {},
   "outputs": [],
   "source": []
  },
  {
   "cell_type": "code",
   "execution_count": 8,
   "id": "40300e3e",
   "metadata": {},
   "outputs": [
    {
     "data": {
      "text/html": [
       "\n",
       "            <style>\n",
       "                .geemap-dark {\n",
       "                    --jp-widgets-color: white;\n",
       "                    --jp-widgets-label-color: white;\n",
       "                    --jp-ui-font-color1: white;\n",
       "                    --jp-layout-color2: #454545;\n",
       "                    background-color: #383838;\n",
       "                }\n",
       "                    \n",
       "                .geemap-dark .jupyter-button {\n",
       "                    --jp-layout-color3: #383838;\n",
       "                }\n",
       "                \n",
       "                .geemap-colab {\n",
       "                    background-color: var(--colab-primary-surface-color, white);\n",
       "                }\n",
       "                    \n",
       "                .geemap-colab .jupyter-button {\n",
       "                    --jp-layout-color3: var(--colab-primary-surface-color, white);\n",
       "                }\n",
       "            </style>\n",
       "            "
      ],
      "text/plain": [
       "<IPython.core.display.HTML object>"
      ]
     },
     "metadata": {},
     "output_type": "display_data"
    }
   ],
   "source": [
    "path_cat = r'G:\\BISMARK\\_TEMP\\CAMPODULCE.shp'\n",
    "gdf_cat = gpd.read_file(path_cat)"
   ]
  },
  {
   "cell_type": "code",
   "execution_count": 11,
   "id": "2666e7d2",
   "metadata": {},
   "outputs": [
    {
     "data": {
      "text/html": [
       "\n",
       "            <style>\n",
       "                .geemap-dark {\n",
       "                    --jp-widgets-color: white;\n",
       "                    --jp-widgets-label-color: white;\n",
       "                    --jp-ui-font-color1: white;\n",
       "                    --jp-layout-color2: #454545;\n",
       "                    background-color: #383838;\n",
       "                }\n",
       "                    \n",
       "                .geemap-dark .jupyter-button {\n",
       "                    --jp-layout-color3: #383838;\n",
       "                }\n",
       "                \n",
       "                .geemap-colab {\n",
       "                    background-color: var(--colab-primary-surface-color, white);\n",
       "                }\n",
       "                    \n",
       "                .geemap-colab .jupyter-button {\n",
       "                    --jp-layout-color3: var(--colab-primary-surface-color, white);\n",
       "                }\n",
       "            </style>\n",
       "            "
      ],
      "text/plain": [
       "<IPython.core.display.HTML object>"
      ]
     },
     "metadata": {},
     "output_type": "display_data"
    },
    {
     "name": "stdout",
     "output_type": "stream",
     "text": [
      "[480.0, 577.0, 482.0, 259.0, 299.0, 30.0]\n"
     ]
    }
   ],
   "source": [
    "lista_props = list(set(gdf_cat['unidad_01']))\n",
    "print(lista_props)"
   ]
  },
  {
   "cell_type": "code",
   "execution_count": null,
   "id": "5a64427e-9270-4dc1-9c38-32983e4c23b6",
   "metadata": {},
   "outputs": [],
   "source": []
  },
  {
   "cell_type": "code",
   "execution_count": 10,
   "id": "51b1f50f-2427-4562-9512-bf5019af02b4",
   "metadata": {},
   "outputs": [
    {
     "data": {
      "text/html": [
       "\n",
       "            <style>\n",
       "                .geemap-dark {\n",
       "                    --jp-widgets-color: white;\n",
       "                    --jp-widgets-label-color: white;\n",
       "                    --jp-ui-font-color1: white;\n",
       "                    --jp-layout-color2: #454545;\n",
       "                    background-color: #383838;\n",
       "                }\n",
       "                    \n",
       "                .geemap-dark .jupyter-button {\n",
       "                    --jp-layout-color3: #383838;\n",
       "                }\n",
       "                \n",
       "                .geemap-colab {\n",
       "                    background-color: var(--colab-primary-surface-color, white);\n",
       "                }\n",
       "                    \n",
       "                .geemap-colab .jupyter-button {\n",
       "                    --jp-layout-color3: var(--colab-primary-surface-color, white);\n",
       "                }\n",
       "            </style>\n",
       "            "
      ],
      "text/plain": [
       "<IPython.core.display.HTML object>"
      ]
     },
     "metadata": {},
     "output_type": "display_data"
    }
   ],
   "source": [
    "lista_props = [2190.0, 2192.0, 2194.0, 2195.0, 2197.0, 2198.0, 2199.0, 2200.0, 2201.0, 2202.0, 2203.0, 2204.0, 2205.0, 2206.0, 2207.0, 2208.0, 2209.0, 2210.0, 2211.0, 2213.0, 2214.0, 2215.0, 2217.0, 2218.0, 2219.0, 2220.0, 2221.0, 2222.0, 2224.0, 2226.0, 2227.0, 2228.0, 2229.0, 2230.0, 2232.0, 2233.0, 2235.0, 2236.0, 2239.0, 2241.0, 2242.0, 2243.0, 2244.0, 2245.0, 2247.0, 2248.0, 2249.0, 2251.0, 2258.0, 2259.0, 2261.0, 2262.0, 2263.0, 2264.0, 2265.0, 2266.0, 2267.0, 2268.0, 2269.0, 2272.0, 2273.0, 2275.0, 2276.0, 2277.0, 2278.0, 2279.0, 2280.0, 2281.0, 2285.0, 2286.0, 2289.0, 2290.0, 2291.0, 2292.0, 2293.0, 2294.0]"
   ]
  },
  {
   "cell_type": "code",
   "execution_count": 12,
   "id": "861fd376-e379-4e23-8170-f4528e707ba8",
   "metadata": {},
   "outputs": [
    {
     "data": {
      "text/html": [
       "\n",
       "            <style>\n",
       "                .geemap-dark {\n",
       "                    --jp-widgets-color: white;\n",
       "                    --jp-widgets-label-color: white;\n",
       "                    --jp-ui-font-color1: white;\n",
       "                    --jp-layout-color2: #454545;\n",
       "                    background-color: #383838;\n",
       "                }\n",
       "                    \n",
       "                .geemap-dark .jupyter-button {\n",
       "                    --jp-layout-color3: #383838;\n",
       "                }\n",
       "                \n",
       "                .geemap-colab {\n",
       "                    background-color: var(--colab-primary-surface-color, white);\n",
       "                }\n",
       "                    \n",
       "                .geemap-colab .jupyter-button {\n",
       "                    --jp-layout-color3: var(--colab-primary-surface-color, white);\n",
       "                }\n",
       "            </style>\n",
       "            "
      ],
      "text/plain": [
       "<IPython.core.display.HTML object>"
      ]
     },
     "metadata": {},
     "output_type": "display_data"
    },
    {
     "ename": "NameError",
     "evalue": "name 'cods_error' is not defined",
     "output_type": "error",
     "traceback": [
      "\u001b[1;31m---------------------------------------------------------------------------\u001b[0m",
      "\u001b[1;31mNameError\u001b[0m                                 Traceback (most recent call last)",
      "Cell \u001b[1;32mIn[12], line 1\u001b[0m\n\u001b[1;32m----> 1\u001b[0m \u001b[43mcods_error\u001b[49m\n",
      "\u001b[1;31mNameError\u001b[0m: name 'cods_error' is not defined"
     ]
    }
   ],
   "source": [
    "cods_error"
   ]
  },
  {
   "cell_type": "code",
   "execution_count": 13,
   "id": "58067788",
   "metadata": {},
   "outputs": [
    {
     "data": {
      "text/html": [
       "\n",
       "            <style>\n",
       "                .geemap-dark {\n",
       "                    --jp-widgets-color: white;\n",
       "                    --jp-widgets-label-color: white;\n",
       "                    --jp-ui-font-color1: white;\n",
       "                    --jp-layout-color2: #454545;\n",
       "                    background-color: #383838;\n",
       "                }\n",
       "                    \n",
       "                .geemap-dark .jupyter-button {\n",
       "                    --jp-layout-color3: #383838;\n",
       "                }\n",
       "                \n",
       "                .geemap-colab {\n",
       "                    background-color: var(--colab-primary-surface-color, white);\n",
       "                }\n",
       "                    \n",
       "                .geemap-colab .jupyter-button {\n",
       "                    --jp-layout-color3: var(--colab-primary-surface-color, white);\n",
       "                }\n",
       "            </style>\n",
       "            "
      ],
      "text/plain": [
       "<IPython.core.display.HTML object>"
      ]
     },
     "metadata": {},
     "output_type": "display_data"
    },
    {
     "data": {
      "text/plain": [
       "6"
      ]
     },
     "execution_count": 13,
     "metadata": {},
     "output_type": "execute_result"
    }
   ],
   "source": [
    "len(lista_props)"
   ]
  },
  {
   "cell_type": "code",
   "execution_count": 14,
   "id": "bb6ece30",
   "metadata": {},
   "outputs": [
    {
     "data": {
      "text/html": [
       "\n",
       "            <style>\n",
       "                .geemap-dark {\n",
       "                    --jp-widgets-color: white;\n",
       "                    --jp-widgets-label-color: white;\n",
       "                    --jp-ui-font-color1: white;\n",
       "                    --jp-layout-color2: #454545;\n",
       "                    background-color: #383838;\n",
       "                }\n",
       "                    \n",
       "                .geemap-dark .jupyter-button {\n",
       "                    --jp-layout-color3: #383838;\n",
       "                }\n",
       "                \n",
       "                .geemap-colab {\n",
       "                    background-color: var(--colab-primary-surface-color, white);\n",
       "                }\n",
       "                    \n",
       "                .geemap-colab .jupyter-button {\n",
       "                    --jp-layout-color3: var(--colab-primary-surface-color, white);\n",
       "                }\n",
       "            </style>\n",
       "            "
      ],
      "text/plain": [
       "<IPython.core.display.HTML object>"
      ]
     },
     "metadata": {},
     "output_type": "display_data"
    }
   ],
   "source": [
    "df_intersects = gpd.read_file('INTERSECT_0.shp')"
   ]
  },
  {
   "cell_type": "code",
   "execution_count": 15,
   "id": "b8caf1cf",
   "metadata": {},
   "outputs": [
    {
     "data": {
      "text/html": [
       "\n",
       "            <style>\n",
       "                .geemap-dark {\n",
       "                    --jp-widgets-color: white;\n",
       "                    --jp-widgets-label-color: white;\n",
       "                    --jp-ui-font-color1: white;\n",
       "                    --jp-layout-color2: #454545;\n",
       "                    background-color: #383838;\n",
       "                }\n",
       "                    \n",
       "                .geemap-dark .jupyter-button {\n",
       "                    --jp-layout-color3: #383838;\n",
       "                }\n",
       "                \n",
       "                .geemap-colab {\n",
       "                    background-color: var(--colab-primary-surface-color, white);\n",
       "                }\n",
       "                    \n",
       "                .geemap-colab .jupyter-button {\n",
       "                    --jp-layout-color3: var(--colab-primary-surface-color, white);\n",
       "                }\n",
       "            </style>\n",
       "            "
      ],
      "text/plain": [
       "<IPython.core.display.HTML object>"
      ]
     },
     "metadata": {},
     "output_type": "display_data"
    },
    {
     "data": {
      "text/plain": [
       "(0, 27)"
      ]
     },
     "execution_count": 15,
     "metadata": {},
     "output_type": "execute_result"
    }
   ],
   "source": [
    "df_intersects.shape"
   ]
  },
  {
   "cell_type": "code",
   "execution_count": 15,
   "id": "b9137761",
   "metadata": {},
   "outputs": [
    {
     "data": {
      "text/html": [
       "\n",
       "            <style>\n",
       "                .geemap-dark {\n",
       "                    --jp-widgets-color: white;\n",
       "                    --jp-widgets-label-color: white;\n",
       "                    --jp-ui-font-color1: white;\n",
       "                    --jp-layout-color2: #454545;\n",
       "                    background-color: #383838;\n",
       "                }\n",
       "                    \n",
       "                .geemap-dark .jupyter-button {\n",
       "                    --jp-layout-color3: #383838;\n",
       "                }\n",
       "                \n",
       "                .geemap-colab {\n",
       "                    background-color: var(--colab-primary-surface-color, white);\n",
       "                }\n",
       "                    \n",
       "                .geemap-colab .jupyter-button {\n",
       "                    --jp-layout-color3: var(--colab-primary-surface-color, white);\n",
       "                }\n",
       "            </style>\n",
       "            "
      ],
      "text/plain": [
       "<IPython.core.display.HTML object>"
      ]
     },
     "metadata": {},
     "output_type": "display_data"
    }
   ],
   "source": [
    "cods_error = []"
   ]
  },
  {
   "cell_type": "code",
   "execution_count": 16,
   "id": "00985e9b",
   "metadata": {},
   "outputs": [
    {
     "data": {
      "text/html": [
       "\n",
       "            <style>\n",
       "                .geemap-dark {\n",
       "                    --jp-widgets-color: white;\n",
       "                    --jp-widgets-label-color: white;\n",
       "                    --jp-ui-font-color1: white;\n",
       "                    --jp-layout-color2: #454545;\n",
       "                    background-color: #383838;\n",
       "                }\n",
       "                    \n",
       "                .geemap-dark .jupyter-button {\n",
       "                    --jp-layout-color3: #383838;\n",
       "                }\n",
       "                \n",
       "                .geemap-colab {\n",
       "                    background-color: var(--colab-primary-surface-color, white);\n",
       "                }\n",
       "                    \n",
       "                .geemap-colab .jupyter-button {\n",
       "                    --jp-layout-color3: var(--colab-primary-surface-color, white);\n",
       "                }\n",
       "            </style>\n",
       "            "
      ],
      "text/plain": [
       "<IPython.core.display.HTML object>"
      ]
     },
     "metadata": {},
     "output_type": "display_data"
    },
    {
     "name": "stdout",
     "output_type": "stream",
     "text": [
      "inicio: 480.0\n"
     ]
    },
    {
     "name": "stderr",
     "output_type": "stream",
     "text": [
      "C:\\Users\\Usuario\\AppData\\Local\\Temp\\ipykernel_35292\\1897760324.py:48: UserWarning: CRS mismatch between the CRS of left geometries and the CRS of right geometries.\n",
      "Use `to_crs()` to reproject one of the input geometries to match the CRS of the other.\n",
      "\n",
      "Left CRS: EPSG:4326\n",
      "Right CRS: None\n",
      "\n",
      "  intersect = overlay(lotes_local, vector_local, how=\"intersection\")\n",
      "C:\\Users\\Usuario\\AppData\\Local\\Temp\\ipykernel_35292\\1897760324.py:63: FutureWarning: The provided callable <function sum at 0x000001D3E6D7E560> is currently using DataFrameGroupBy.sum. In a future version of pandas, the provided callable will be used directly. To keep current behavior pass the string \"sum\" instead.\n",
      "  dina = pd.pivot_table(DF, values='area_2', index=[CODIGO_PROPIEDAD, NOM_PROPIEDAD, CODIGO_CANHERO, NOM_CANHERO, 'label'], aggfunc=np.sum)\n",
      "C:\\Users\\Usuario\\AppData\\Local\\Temp\\ipykernel_35292\\1897760324.py:78: FutureWarning: The behavior of DataFrame concatenation with empty or all-NA entries is deprecated. In a future version, this will no longer exclude empty or all-NA columns when determining the result dtypes. To retain the old behavior, exclude the relevant entries before the concat operation.\n",
      "  df_intersects = pd.concat([df_intersects, DF], ignore_index=True)\n"
     ]
    },
    {
     "name": "stdout",
     "output_type": "stream",
     "text": [
      "fin:  480.0\n",
      "___________________CONTADOR:  1\n",
      "inicio: 577.0\n"
     ]
    },
    {
     "name": "stderr",
     "output_type": "stream",
     "text": [
      "C:\\Users\\Usuario\\AppData\\Local\\Temp\\ipykernel_35292\\1897760324.py:48: UserWarning: CRS mismatch between the CRS of left geometries and the CRS of right geometries.\n",
      "Use `to_crs()` to reproject one of the input geometries to match the CRS of the other.\n",
      "\n",
      "Left CRS: EPSG:4326\n",
      "Right CRS: None\n",
      "\n",
      "  intersect = overlay(lotes_local, vector_local, how=\"intersection\")\n",
      "C:\\Users\\Usuario\\AppData\\Local\\Temp\\ipykernel_35292\\1897760324.py:63: FutureWarning: The provided callable <function sum at 0x000001D3E6D7E560> is currently using DataFrameGroupBy.sum. In a future version of pandas, the provided callable will be used directly. To keep current behavior pass the string \"sum\" instead.\n",
      "  dina = pd.pivot_table(DF, values='area_2', index=[CODIGO_PROPIEDAD, NOM_PROPIEDAD, CODIGO_CANHERO, NOM_CANHERO, 'label'], aggfunc=np.sum)\n",
      "C:\\Users\\Usuario\\AppData\\Local\\Temp\\ipykernel_35292\\1897760324.py:78: FutureWarning: The behavior of DataFrame concatenation with empty or all-NA entries is deprecated. In a future version, this will no longer exclude empty or all-NA columns when determining the result dtypes. To retain the old behavior, exclude the relevant entries before the concat operation.\n",
      "  df_intersects = pd.concat([df_intersects, DF], ignore_index=True)\n"
     ]
    },
    {
     "name": "stdout",
     "output_type": "stream",
     "text": [
      "fin:  577.0\n",
      "___________________CONTADOR:  2\n",
      "inicio: 482.0\n"
     ]
    },
    {
     "name": "stderr",
     "output_type": "stream",
     "text": [
      "C:\\Users\\Usuario\\AppData\\Local\\Temp\\ipykernel_35292\\1897760324.py:48: UserWarning: CRS mismatch between the CRS of left geometries and the CRS of right geometries.\n",
      "Use `to_crs()` to reproject one of the input geometries to match the CRS of the other.\n",
      "\n",
      "Left CRS: EPSG:4326\n",
      "Right CRS: None\n",
      "\n",
      "  intersect = overlay(lotes_local, vector_local, how=\"intersection\")\n",
      "C:\\Users\\Usuario\\AppData\\Local\\Temp\\ipykernel_35292\\1897760324.py:48: UserWarning: `keep_geom_type=True` in overlay resulted in 1 dropped geometries of different geometry types than df1 has. Set `keep_geom_type=False` to retain all geometries\n",
      "  intersect = overlay(lotes_local, vector_local, how=\"intersection\")\n",
      "C:\\Users\\Usuario\\AppData\\Local\\Temp\\ipykernel_35292\\1897760324.py:63: FutureWarning: The provided callable <function sum at 0x000001D3E6D7E560> is currently using DataFrameGroupBy.sum. In a future version of pandas, the provided callable will be used directly. To keep current behavior pass the string \"sum\" instead.\n",
      "  dina = pd.pivot_table(DF, values='area_2', index=[CODIGO_PROPIEDAD, NOM_PROPIEDAD, CODIGO_CANHERO, NOM_CANHERO, 'label'], aggfunc=np.sum)\n",
      "C:\\Users\\Usuario\\AppData\\Local\\Temp\\ipykernel_35292\\1897760324.py:78: FutureWarning: The behavior of DataFrame concatenation with empty or all-NA entries is deprecated. In a future version, this will no longer exclude empty or all-NA columns when determining the result dtypes. To retain the old behavior, exclude the relevant entries before the concat operation.\n",
      "  df_intersects = pd.concat([df_intersects, DF], ignore_index=True)\n"
     ]
    },
    {
     "name": "stdout",
     "output_type": "stream",
     "text": [
      "fin:  482.0\n",
      "___________________CONTADOR:  3\n",
      "inicio: 259.0\n"
     ]
    },
    {
     "name": "stderr",
     "output_type": "stream",
     "text": [
      "C:\\Users\\Usuario\\AppData\\Local\\Temp\\ipykernel_35292\\1897760324.py:48: UserWarning: CRS mismatch between the CRS of left geometries and the CRS of right geometries.\n",
      "Use `to_crs()` to reproject one of the input geometries to match the CRS of the other.\n",
      "\n",
      "Left CRS: EPSG:4326\n",
      "Right CRS: None\n",
      "\n",
      "  intersect = overlay(lotes_local, vector_local, how=\"intersection\")\n",
      "C:\\Users\\Usuario\\AppData\\Local\\Temp\\ipykernel_35292\\1897760324.py:63: FutureWarning: The provided callable <function sum at 0x000001D3E6D7E560> is currently using DataFrameGroupBy.sum. In a future version of pandas, the provided callable will be used directly. To keep current behavior pass the string \"sum\" instead.\n",
      "  dina = pd.pivot_table(DF, values='area_2', index=[CODIGO_PROPIEDAD, NOM_PROPIEDAD, CODIGO_CANHERO, NOM_CANHERO, 'label'], aggfunc=np.sum)\n"
     ]
    },
    {
     "name": "stdout",
     "output_type": "stream",
     "text": [
      "fin:  259.0\n",
      "___________________CONTADOR:  4\n",
      "inicio: 299.0\n"
     ]
    },
    {
     "name": "stderr",
     "output_type": "stream",
     "text": [
      "C:\\Users\\Usuario\\AppData\\Local\\Temp\\ipykernel_35292\\1897760324.py:48: UserWarning: CRS mismatch between the CRS of left geometries and the CRS of right geometries.\n",
      "Use `to_crs()` to reproject one of the input geometries to match the CRS of the other.\n",
      "\n",
      "Left CRS: EPSG:4326\n",
      "Right CRS: None\n",
      "\n",
      "  intersect = overlay(lotes_local, vector_local, how=\"intersection\")\n",
      "C:\\Users\\Usuario\\AppData\\Local\\Temp\\ipykernel_35292\\1897760324.py:63: FutureWarning: The provided callable <function sum at 0x000001D3E6D7E560> is currently using DataFrameGroupBy.sum. In a future version of pandas, the provided callable will be used directly. To keep current behavior pass the string \"sum\" instead.\n",
      "  dina = pd.pivot_table(DF, values='area_2', index=[CODIGO_PROPIEDAD, NOM_PROPIEDAD, CODIGO_CANHERO, NOM_CANHERO, 'label'], aggfunc=np.sum)\n"
     ]
    },
    {
     "name": "stdout",
     "output_type": "stream",
     "text": [
      "fin:  299.0\n",
      "___________________CONTADOR:  5\n",
      "inicio: 30.0\n"
     ]
    },
    {
     "name": "stderr",
     "output_type": "stream",
     "text": [
      "C:\\Users\\Usuario\\AppData\\Local\\Temp\\ipykernel_35292\\1897760324.py:48: UserWarning: CRS mismatch between the CRS of left geometries and the CRS of right geometries.\n",
      "Use `to_crs()` to reproject one of the input geometries to match the CRS of the other.\n",
      "\n",
      "Left CRS: EPSG:4326\n",
      "Right CRS: None\n",
      "\n",
      "  intersect = overlay(lotes_local, vector_local, how=\"intersection\")\n"
     ]
    },
    {
     "name": "stdout",
     "output_type": "stream",
     "text": [
      "fin:  30.0\n",
      "___________________CONTADOR:  6\n",
      "FIN......!\n"
     ]
    },
    {
     "name": "stderr",
     "output_type": "stream",
     "text": [
      "C:\\Users\\Usuario\\AppData\\Local\\Temp\\ipykernel_35292\\1897760324.py:63: FutureWarning: The provided callable <function sum at 0x000001D3E6D7E560> is currently using DataFrameGroupBy.sum. In a future version of pandas, the provided callable will be used directly. To keep current behavior pass the string \"sum\" instead.\n",
      "  dina = pd.pivot_table(DF, values='area_2', index=[CODIGO_PROPIEDAD, NOM_PROPIEDAD, CODIGO_CANHERO, NOM_CANHERO, 'label'], aggfunc=np.sum)\n"
     ]
    }
   ],
   "source": [
    "contador = 0\n",
    "\n",
    "for cod_prop in lista_props:\n",
    "    print('inicio:', cod_prop)\n",
    "    propiedad = ee.FeatureCollection(ruta_catastro)\\\n",
    "                .filter(ee.Filter.eq(CODIGO_PROPIEDAD, cod_prop))\n",
    "    lotes_canha = propiedad.filter(ee.Filter.neq(VARIEDAD, ESTADO))\n",
    "    lotes_renov = propiedad.filter(ee.Filter.eq(VARIEDAD, ESTADO))\n",
    "    NDVI = ee.Image(ruta_ndvi)\n",
    "    NDVI_clip = NDVI.clip(lotes_canha.geometry())\n",
    "    # crea un sample de los valore de pixel del NDVI\n",
    "    NDVI_values = NDVI_clip.sampleRegions(lotes_canha.geometry())\n",
    "    # reduce el resultado a valores de NDVI\n",
    "    pixel_values = NDVI_values.reduceColumns(ee.Reducer.toList(),['b1']).get('list').getInfo()\n",
    "    # aplica metodo Jenks\n",
    "    breaks = jenkspy.jenks_breaks(pixel_values, n_classes=8)\n",
    "    NDVI_class = ee.Image(-1).where(NDVI.lt(breaks[1]),1)\\\n",
    "                        .where(NDVI.gte(breaks[1]),2)\\\n",
    "                        .where(NDVI.gte(breaks[2]),3)\\\n",
    "                        .where(NDVI.gte(breaks[3]),4)\\\n",
    "                        .where(NDVI.gte(breaks[4]),5)\\\n",
    "                        .where(NDVI.gte(breaks[5]),6)\\\n",
    "                        .where(NDVI.gte(breaks[6]),7)\\\n",
    "                        .where(NDVI.gte(breaks[7]),8)\n",
    "    NDVI_class_clip = NDVI_class.clip(lotes_canha.geometry())\n",
    "    clasify = NDVI_class_clip.reproject(crs=\"EPSG:32720\", scale=10)\n",
    "    vector = clasify.reduceToVectors(**{\n",
    "        'geometry': lotes_canha.geometry(),\n",
    "        'crs': clasify.projection(),\n",
    "        'scale': 10,\n",
    "        'geometryType': 'polygon',\n",
    "        'eightConnected': False\n",
    "    })\n",
    "    \n",
    "    DF_VECTOR = vector\n",
    "    \n",
    "    lotes_local = geemap.ee_to_gdf(lotes_canha)\n",
    "    \n",
    "    lista = vector.toList(vector.size()).getInfo()\n",
    "    lista_vector=[]\n",
    "    for item in lista:\n",
    "        dic = {'geometry':Polygon(item['geometry']['coordinates'][0]), 'count':item['properties']['count'], 'label':item['properties']['label']}\n",
    "        lista_vector.append(dic)\n",
    "    \n",
    "    vector_local = gpd.GeoDataFrame(lista_vector)\n",
    "    \n",
    "    try:\n",
    "        intersect = overlay(lotes_local, vector_local, how=\"intersection\")\n",
    "    except TypeError as e:\n",
    "        cods_error.append(cod_prop)\n",
    "        continue\n",
    "\n",
    "    intersect.crs = \"EPSG:4326\"\n",
    "    intersect = intersect.to_crs(epsg=32720)\n",
    "    intersect['area_2'] = intersect['geometry'].area/10000\n",
    "    \n",
    "    area_01 = intersect['area_2'].sum()\n",
    "    area_02 = lotes_local[SUPERFICIE].sum()\n",
    "    \n",
    "    area_diff = (area_02 - area_01)/len(intersect)\n",
    "    intersect['area_2'] = intersect['area_2'] + area_diff\n",
    "    \n",
    "    DF = intersect.copy()\n",
    "    dina = pd.pivot_table(DF, values='area_2', index=[CODIGO_PROPIEDAD, NOM_PROPIEDAD, CODIGO_CANHERO, NOM_CANHERO, 'label'], aggfunc=np.sum)\n",
    "    dina2 = dina.reset_index()\n",
    "    \n",
    "    dina2['tch'] = dina2['label'].apply(asig_cat)\n",
    "    \n",
    "    # Cargar el archivo de Excel existente\n",
    "    wb = openpyxl.load_workbook('DATA_EST.xlsx')\n",
    "    # Seleccionar la hoja de trabajo\n",
    "    ws = wb['data']\n",
    "    \n",
    "    for i in range(0, len(dina2)):\n",
    "        new_row = [dina2.iloc[i,0], dina2.iloc[i,1], dina2.iloc[i,2], dina2.iloc[i,3], dina2.iloc[i,4], dina2.iloc[i,5], dina2.iloc[i,6]]\n",
    "        ws.append(new_row)\n",
    "    wb.save('DATA_EST.xlsx')\n",
    "    \n",
    "    df_intersects = pd.concat([df_intersects, DF], ignore_index=True)\n",
    "    \n",
    "    contador = contador + 1 \n",
    "    print('fin: ', cod_prop)\n",
    "    print('___________________CONTADOR: ', contador)\n",
    "    \n",
    "print('FIN......!')"
   ]
  },
  {
   "cell_type": "code",
   "execution_count": null,
   "id": "90de2bda-3903-4572-b505-70f27f298621",
   "metadata": {},
   "outputs": [],
   "source": []
  },
  {
   "cell_type": "code",
   "execution_count": null,
   "id": "f6fe38da-9aec-4082-b0dd-06bdc4c69a46",
   "metadata": {},
   "outputs": [],
   "source": []
  },
  {
   "cell_type": "code",
   "execution_count": null,
   "id": "03712a19-fc6a-4604-b660-4bc0d1564516",
   "metadata": {},
   "outputs": [],
   "source": []
  },
  {
   "cell_type": "code",
   "execution_count": null,
   "id": "4d240e29-8c3f-4f18-8928-5d8f9abfa8f6",
   "metadata": {},
   "outputs": [],
   "source": []
  },
  {
   "cell_type": "code",
   "execution_count": null,
   "id": "f8451e77-5a84-4487-bed1-b667c310753f",
   "metadata": {},
   "outputs": [],
   "source": []
  },
  {
   "cell_type": "code",
   "execution_count": null,
   "id": "5b91f0f7-6da9-43da-8b24-4e45e1a737ab",
   "metadata": {},
   "outputs": [],
   "source": []
  },
  {
   "cell_type": "code",
   "execution_count": 21,
   "id": "7abe1885",
   "metadata": {},
   "outputs": [
    {
     "data": {
      "text/html": [
       "\n",
       "            <style>\n",
       "                .geemap-dark {\n",
       "                    --jp-widgets-color: white;\n",
       "                    --jp-widgets-label-color: white;\n",
       "                    --jp-ui-font-color1: white;\n",
       "                    --jp-layout-color2: #454545;\n",
       "                    background-color: #383838;\n",
       "                }\n",
       "                    \n",
       "                .geemap-dark .jupyter-button {\n",
       "                    --jp-layout-color3: #383838;\n",
       "                }\n",
       "                \n",
       "                .geemap-colab {\n",
       "                    background-color: var(--colab-primary-surface-color, white);\n",
       "                }\n",
       "                    \n",
       "                .geemap-colab .jupyter-button {\n",
       "                    --jp-layout-color3: var(--colab-primary-surface-color, white);\n",
       "                }\n",
       "            </style>\n",
       "            "
      ],
      "text/plain": [
       "<IPython.core.display.HTML object>"
      ]
     },
     "metadata": {},
     "output_type": "display_data"
    },
    {
     "ename": "NameError",
     "evalue": "name 'cods_error' is not defined",
     "output_type": "error",
     "traceback": [
      "\u001b[1;31m---------------------------------------------------------------------------\u001b[0m",
      "\u001b[1;31mNameError\u001b[0m                                 Traceback (most recent call last)",
      "Cell \u001b[1;32mIn[21], line 1\u001b[0m\n\u001b[1;32m----> 1\u001b[0m \u001b[43mcods_error\u001b[49m\n",
      "\u001b[1;31mNameError\u001b[0m: name 'cods_error' is not defined"
     ]
    }
   ],
   "source": [
    "cods_error"
   ]
  },
  {
   "cell_type": "code",
   "execution_count": null,
   "id": "03fafd9e-e7dc-4057-9f21-037afb6dabe1",
   "metadata": {},
   "outputs": [],
   "source": []
  },
  {
   "cell_type": "code",
   "execution_count": null,
   "id": "a0e4b4a2-bdd7-4707-b728-3e8967578a36",
   "metadata": {},
   "outputs": [],
   "source": []
  },
  {
   "cell_type": "code",
   "execution_count": 22,
   "id": "0bf17e25",
   "metadata": {},
   "outputs": [
    {
     "data": {
      "text/html": [
       "\n",
       "            <style>\n",
       "                .geemap-dark {\n",
       "                    --jp-widgets-color: white;\n",
       "                    --jp-widgets-label-color: white;\n",
       "                    --jp-ui-font-color1: white;\n",
       "                    --jp-layout-color2: #454545;\n",
       "                    background-color: #383838;\n",
       "                }\n",
       "                    \n",
       "                .geemap-dark .jupyter-button {\n",
       "                    --jp-layout-color3: #383838;\n",
       "                }\n",
       "                \n",
       "                .geemap-colab {\n",
       "                    background-color: var(--colab-primary-surface-color, white);\n",
       "                }\n",
       "                    \n",
       "                .geemap-colab .jupyter-button {\n",
       "                    --jp-layout-color3: var(--colab-primary-surface-color, white);\n",
       "                }\n",
       "            </style>\n",
       "            "
      ],
      "text/plain": [
       "<IPython.core.display.HTML object>"
      ]
     },
     "metadata": {},
     "output_type": "display_data"
    },
    {
     "data": {
      "text/html": [
       "<div>\n",
       "<style scoped>\n",
       "    .dataframe tbody tr th:only-of-type {\n",
       "        vertical-align: middle;\n",
       "    }\n",
       "\n",
       "    .dataframe tbody tr th {\n",
       "        vertical-align: top;\n",
       "    }\n",
       "\n",
       "    .dataframe thead th {\n",
       "        text-align: right;\n",
       "    }\n",
       "</style>\n",
       "<table border=\"1\" class=\"dataframe\">\n",
       "  <thead>\n",
       "    <tr style=\"text-align: right;\">\n",
       "      <th></th>\n",
       "      <th>area</th>\n",
       "      <th>cultivo</th>\n",
       "      <th>fecha</th>\n",
       "      <th>financia</th>\n",
       "      <th>id</th>\n",
       "      <th>soca</th>\n",
       "      <th>textura</th>\n",
       "      <th>unidad_01</th>\n",
       "      <th>unidad_02</th>\n",
       "      <th>unidad_03</th>\n",
       "      <th>...</th>\n",
       "      <th>geometry</th>\n",
       "      <th>codco</th>\n",
       "      <th>delegado</th>\n",
       "      <th>estado</th>\n",
       "      <th>fci</th>\n",
       "      <th>fid_1</th>\n",
       "      <th>incentivo</th>\n",
       "      <th>semana</th>\n",
       "      <th>tipoc</th>\n",
       "      <th>zafra</th>\n",
       "    </tr>\n",
       "  </thead>\n",
       "  <tbody>\n",
       "    <tr>\n",
       "      <th>28239</th>\n",
       "      <td>26.881135</td>\n",
       "      <td>canha</td>\n",
       "      <td>NaN</td>\n",
       "      <td>PROPIO</td>\n",
       "      <td>30|41594|EP-L5</td>\n",
       "      <td>0</td>\n",
       "      <td>F</td>\n",
       "      <td>30</td>\n",
       "      <td>CAMPO DULCE</td>\n",
       "      <td>41594</td>\n",
       "      <td>...</td>\n",
       "      <td>POLYGON ((501810.000 8096207.041, 501810.000 8...</td>\n",
       "      <td>41.0</td>\n",
       "      <td>AG CAMPO DULCE SRL</td>\n",
       "      <td>cosechado</td>\n",
       "      <td>4.0</td>\n",
       "      <td>20310.0</td>\n",
       "      <td></td>\n",
       "      <td>2.0</td>\n",
       "      <td>sinmadurador</td>\n",
       "      <td>2025.0</td>\n",
       "    </tr>\n",
       "    <tr>\n",
       "      <th>28240</th>\n",
       "      <td>26.881135</td>\n",
       "      <td>canha</td>\n",
       "      <td>NaN</td>\n",
       "      <td>PROPIO</td>\n",
       "      <td>30|41594|EP-L5</td>\n",
       "      <td>0</td>\n",
       "      <td>F</td>\n",
       "      <td>30</td>\n",
       "      <td>CAMPO DULCE</td>\n",
       "      <td>41594</td>\n",
       "      <td>...</td>\n",
       "      <td>POLYGON ((501817.789 8096167.093, 501813.811 8...</td>\n",
       "      <td>41.0</td>\n",
       "      <td>AG CAMPO DULCE SRL</td>\n",
       "      <td>cosechado</td>\n",
       "      <td>4.0</td>\n",
       "      <td>20310.0</td>\n",
       "      <td></td>\n",
       "      <td>2.0</td>\n",
       "      <td>sinmadurador</td>\n",
       "      <td>2025.0</td>\n",
       "    </tr>\n",
       "    <tr>\n",
       "      <th>28241</th>\n",
       "      <td>26.881135</td>\n",
       "      <td>canha</td>\n",
       "      <td>NaN</td>\n",
       "      <td>PROPIO</td>\n",
       "      <td>30|41594|EP-L5</td>\n",
       "      <td>0</td>\n",
       "      <td>F</td>\n",
       "      <td>30</td>\n",
       "      <td>CAMPO DULCE</td>\n",
       "      <td>41594</td>\n",
       "      <td>...</td>\n",
       "      <td>POLYGON ((501818.661 8096170.000, 501810.000 8...</td>\n",
       "      <td>41.0</td>\n",
       "      <td>AG CAMPO DULCE SRL</td>\n",
       "      <td>cosechado</td>\n",
       "      <td>4.0</td>\n",
       "      <td>20310.0</td>\n",
       "      <td></td>\n",
       "      <td>2.0</td>\n",
       "      <td>sinmadurador</td>\n",
       "      <td>2025.0</td>\n",
       "    </tr>\n",
       "    <tr>\n",
       "      <th>28242</th>\n",
       "      <td>26.881135</td>\n",
       "      <td>canha</td>\n",
       "      <td>NaN</td>\n",
       "      <td>PROPIO</td>\n",
       "      <td>30|41594|EP-L5</td>\n",
       "      <td>0</td>\n",
       "      <td>F</td>\n",
       "      <td>30</td>\n",
       "      <td>CAMPO DULCE</td>\n",
       "      <td>41594</td>\n",
       "      <td>...</td>\n",
       "      <td>POLYGON ((501820.000 8096190.000, 501820.000 8...</td>\n",
       "      <td>41.0</td>\n",
       "      <td>AG CAMPO DULCE SRL</td>\n",
       "      <td>cosechado</td>\n",
       "      <td>4.0</td>\n",
       "      <td>20310.0</td>\n",
       "      <td></td>\n",
       "      <td>2.0</td>\n",
       "      <td>sinmadurador</td>\n",
       "      <td>2025.0</td>\n",
       "    </tr>\n",
       "    <tr>\n",
       "      <th>28243</th>\n",
       "      <td>26.881135</td>\n",
       "      <td>canha</td>\n",
       "      <td>NaN</td>\n",
       "      <td>PROPIO</td>\n",
       "      <td>30|41594|EP-L5</td>\n",
       "      <td>0</td>\n",
       "      <td>F</td>\n",
       "      <td>30</td>\n",
       "      <td>CAMPO DULCE</td>\n",
       "      <td>41594</td>\n",
       "      <td>...</td>\n",
       "      <td>POLYGON ((501820.000 8096198.419, 501820.000 8...</td>\n",
       "      <td>41.0</td>\n",
       "      <td>AG CAMPO DULCE SRL</td>\n",
       "      <td>cosechado</td>\n",
       "      <td>4.0</td>\n",
       "      <td>20310.0</td>\n",
       "      <td></td>\n",
       "      <td>2.0</td>\n",
       "      <td>sinmadurador</td>\n",
       "      <td>2025.0</td>\n",
       "    </tr>\n",
       "  </tbody>\n",
       "</table>\n",
       "<p>5 rows × 36 columns</p>\n",
       "</div>"
      ],
      "text/plain": [
       "            area cultivo fecha financia              id soca textura  \\\n",
       "28239  26.881135   canha   NaN   PROPIO  30|41594|EP-L5    0       F   \n",
       "28240  26.881135   canha   NaN   PROPIO  30|41594|EP-L5    0       F   \n",
       "28241  26.881135   canha   NaN   PROPIO  30|41594|EP-L5    0       F   \n",
       "28242  26.881135   canha   NaN   PROPIO  30|41594|EP-L5    0       F   \n",
       "28243  26.881135   canha   NaN   PROPIO  30|41594|EP-L5    0       F   \n",
       "\n",
       "      unidad_01    unidad_02 unidad_03  ...  \\\n",
       "28239        30  CAMPO DULCE     41594  ...   \n",
       "28240        30  CAMPO DULCE     41594  ...   \n",
       "28241        30  CAMPO DULCE     41594  ...   \n",
       "28242        30  CAMPO DULCE     41594  ...   \n",
       "28243        30  CAMPO DULCE     41594  ...   \n",
       "\n",
       "                                                geometry codco  \\\n",
       "28239  POLYGON ((501810.000 8096207.041, 501810.000 8...  41.0   \n",
       "28240  POLYGON ((501817.789 8096167.093, 501813.811 8...  41.0   \n",
       "28241  POLYGON ((501818.661 8096170.000, 501810.000 8...  41.0   \n",
       "28242  POLYGON ((501820.000 8096190.000, 501820.000 8...  41.0   \n",
       "28243  POLYGON ((501820.000 8096198.419, 501820.000 8...  41.0   \n",
       "\n",
       "                 delegado     estado  fci    fid_1  incentivo semana  \\\n",
       "28239  AG CAMPO DULCE SRL  cosechado  4.0  20310.0               2.0   \n",
       "28240  AG CAMPO DULCE SRL  cosechado  4.0  20310.0               2.0   \n",
       "28241  AG CAMPO DULCE SRL  cosechado  4.0  20310.0               2.0   \n",
       "28242  AG CAMPO DULCE SRL  cosechado  4.0  20310.0               2.0   \n",
       "28243  AG CAMPO DULCE SRL  cosechado  4.0  20310.0               2.0   \n",
       "\n",
       "              tipoc   zafra  \n",
       "28239  sinmadurador  2025.0  \n",
       "28240  sinmadurador  2025.0  \n",
       "28241  sinmadurador  2025.0  \n",
       "28242  sinmadurador  2025.0  \n",
       "28243  sinmadurador  2025.0  \n",
       "\n",
       "[5 rows x 36 columns]"
      ]
     },
     "execution_count": 22,
     "metadata": {},
     "output_type": "execute_result"
    }
   ],
   "source": [
    "df_intersects.tail(5)"
   ]
  },
  {
   "cell_type": "code",
   "execution_count": null,
   "id": "9b5d0198",
   "metadata": {},
   "outputs": [],
   "source": []
  },
  {
   "cell_type": "code",
   "execution_count": 24,
   "id": "83ec7c8c",
   "metadata": {},
   "outputs": [
    {
     "data": {
      "text/html": [
       "\n",
       "            <style>\n",
       "                .geemap-dark {\n",
       "                    --jp-widgets-color: white;\n",
       "                    --jp-widgets-label-color: white;\n",
       "                    --jp-ui-font-color1: white;\n",
       "                    --jp-layout-color2: #454545;\n",
       "                    background-color: #383838;\n",
       "                }\n",
       "                    \n",
       "                .geemap-dark .jupyter-button {\n",
       "                    --jp-layout-color3: #383838;\n",
       "                }\n",
       "                \n",
       "                .geemap-colab {\n",
       "                    background-color: var(--colab-primary-surface-color, white);\n",
       "                }\n",
       "                    \n",
       "                .geemap-colab .jupyter-button {\n",
       "                    --jp-layout-color3: var(--colab-primary-surface-color, white);\n",
       "                }\n",
       "            </style>\n",
       "            "
      ],
      "text/plain": [
       "<IPython.core.display.HTML object>"
      ]
     },
     "metadata": {},
     "output_type": "display_data"
    },
    {
     "data": {
      "text/plain": [
       "28244"
      ]
     },
     "execution_count": 24,
     "metadata": {},
     "output_type": "execute_result"
    }
   ],
   "source": [
    "len(df_intersects)"
   ]
  },
  {
   "cell_type": "code",
   "execution_count": 25,
   "id": "b226fefc",
   "metadata": {},
   "outputs": [
    {
     "data": {
      "text/html": [
       "\n",
       "            <style>\n",
       "                .geemap-dark {\n",
       "                    --jp-widgets-color: white;\n",
       "                    --jp-widgets-label-color: white;\n",
       "                    --jp-ui-font-color1: white;\n",
       "                    --jp-layout-color2: #454545;\n",
       "                    background-color: #383838;\n",
       "                }\n",
       "                    \n",
       "                .geemap-dark .jupyter-button {\n",
       "                    --jp-layout-color3: #383838;\n",
       "                }\n",
       "                \n",
       "                .geemap-colab {\n",
       "                    background-color: var(--colab-primary-surface-color, white);\n",
       "                }\n",
       "                    \n",
       "                .geemap-colab .jupyter-button {\n",
       "                    --jp-layout-color3: var(--colab-primary-surface-color, white);\n",
       "                }\n",
       "            </style>\n",
       "            "
      ],
      "text/plain": [
       "<IPython.core.display.HTML object>"
      ]
     },
     "metadata": {},
     "output_type": "display_data"
    }
   ],
   "source": [
    "df_intersects.to_file(\"INTERSECT_01.shp\", driver=\"ESRI Shapefile\")"
   ]
  },
  {
   "cell_type": "code",
   "execution_count": 23,
   "id": "92c1733f",
   "metadata": {},
   "outputs": [
    {
     "data": {
      "text/html": [
       "\n",
       "            <style>\n",
       "                .geemap-dark {\n",
       "                    --jp-widgets-color: white;\n",
       "                    --jp-widgets-label-color: white;\n",
       "                    --jp-ui-font-color1: white;\n",
       "                    --jp-layout-color2: #454545;\n",
       "                    background-color: #383838;\n",
       "                }\n",
       "                    \n",
       "                .geemap-dark .jupyter-button {\n",
       "                    --jp-layout-color3: #383838;\n",
       "                }\n",
       "                \n",
       "                .geemap-colab {\n",
       "                    background-color: var(--colab-primary-surface-color, white);\n",
       "                }\n",
       "                    \n",
       "                .geemap-colab .jupyter-button {\n",
       "                    --jp-layout-color3: var(--colab-primary-surface-color, white);\n",
       "                }\n",
       "            </style>\n",
       "            "
      ],
      "text/plain": [
       "<IPython.core.display.HTML object>"
      ]
     },
     "metadata": {},
     "output_type": "display_data"
    },
    {
     "data": {
      "text/plain": [
       "1781.5946083205763"
      ]
     },
     "execution_count": 23,
     "metadata": {},
     "output_type": "execute_result"
    }
   ],
   "source": [
    "df_intersects['area_2'].sum()"
   ]
  },
  {
   "cell_type": "code",
   "execution_count": 27,
   "id": "79a4b64a",
   "metadata": {},
   "outputs": [
    {
     "data": {
      "text/html": [
       "\n",
       "            <style>\n",
       "                .geemap-dark {\n",
       "                    --jp-widgets-color: white;\n",
       "                    --jp-widgets-label-color: white;\n",
       "                    --jp-ui-font-color1: white;\n",
       "                    --jp-layout-color2: #454545;\n",
       "                    background-color: #383838;\n",
       "                }\n",
       "                    \n",
       "                .geemap-dark .jupyter-button {\n",
       "                    --jp-layout-color3: #383838;\n",
       "                }\n",
       "                \n",
       "                .geemap-colab {\n",
       "                    background-color: var(--colab-primary-surface-color, white);\n",
       "                }\n",
       "                    \n",
       "                .geemap-colab .jupyter-button {\n",
       "                    --jp-layout-color3: var(--colab-primary-surface-color, white);\n",
       "                }\n",
       "            </style>\n",
       "            "
      ],
      "text/plain": [
       "<IPython.core.display.HTML object>"
      ]
     },
     "metadata": {},
     "output_type": "display_data"
    },
    {
     "data": {
      "text/html": [
       "<div>\n",
       "<style scoped>\n",
       "    .dataframe tbody tr th:only-of-type {\n",
       "        vertical-align: middle;\n",
       "    }\n",
       "\n",
       "    .dataframe tbody tr th {\n",
       "        vertical-align: top;\n",
       "    }\n",
       "\n",
       "    .dataframe thead th {\n",
       "        text-align: right;\n",
       "    }\n",
       "</style>\n",
       "<table border=\"1\" class=\"dataframe\">\n",
       "  <thead>\n",
       "    <tr style=\"text-align: right;\">\n",
       "      <th></th>\n",
       "      <th>area</th>\n",
       "      <th>cultivo</th>\n",
       "      <th>fecha</th>\n",
       "      <th>financia</th>\n",
       "      <th>id</th>\n",
       "      <th>soca</th>\n",
       "      <th>textura</th>\n",
       "      <th>unidad_01</th>\n",
       "      <th>unidad_02</th>\n",
       "      <th>unidad_03</th>\n",
       "      <th>...</th>\n",
       "      <th>geometry</th>\n",
       "      <th>codco</th>\n",
       "      <th>delegado</th>\n",
       "      <th>estado</th>\n",
       "      <th>fci</th>\n",
       "      <th>fid_1</th>\n",
       "      <th>incentivo</th>\n",
       "      <th>semana</th>\n",
       "      <th>tipoc</th>\n",
       "      <th>zafra</th>\n",
       "    </tr>\n",
       "  </thead>\n",
       "  <tbody>\n",
       "    <tr>\n",
       "      <th>0</th>\n",
       "      <td>45.320456</td>\n",
       "      <td>canha</td>\n",
       "      <td>NaN</td>\n",
       "      <td>IAG</td>\n",
       "      <td>480|41594|Ca-1</td>\n",
       "      <td>4</td>\n",
       "      <td>FY</td>\n",
       "      <td>480</td>\n",
       "      <td>EL CANAL</td>\n",
       "      <td>41594</td>\n",
       "      <td>...</td>\n",
       "      <td>POLYGON ((517825.213 8098291.622, 517830.000 8...</td>\n",
       "      <td>41.0</td>\n",
       "      <td>AG CAMPO DULCE SRL</td>\n",
       "      <td>sincosecha</td>\n",
       "      <td>0.0</td>\n",
       "      <td>19812.0</td>\n",
       "      <td></td>\n",
       "      <td>0.0</td>\n",
       "      <td>sinmadurador</td>\n",
       "      <td>2025.0</td>\n",
       "    </tr>\n",
       "    <tr>\n",
       "      <th>1</th>\n",
       "      <td>45.320456</td>\n",
       "      <td>canha</td>\n",
       "      <td>NaN</td>\n",
       "      <td>IAG</td>\n",
       "      <td>480|41594|Ca-1</td>\n",
       "      <td>4</td>\n",
       "      <td>FY</td>\n",
       "      <td>480</td>\n",
       "      <td>EL CANAL</td>\n",
       "      <td>41594</td>\n",
       "      <td>...</td>\n",
       "      <td>POLYGON ((517830.000 8098273.756, 517830.000 8...</td>\n",
       "      <td>41.0</td>\n",
       "      <td>AG CAMPO DULCE SRL</td>\n",
       "      <td>sincosecha</td>\n",
       "      <td>0.0</td>\n",
       "      <td>19812.0</td>\n",
       "      <td></td>\n",
       "      <td>0.0</td>\n",
       "      <td>sinmadurador</td>\n",
       "      <td>2025.0</td>\n",
       "    </tr>\n",
       "    <tr>\n",
       "      <th>2</th>\n",
       "      <td>45.320456</td>\n",
       "      <td>canha</td>\n",
       "      <td>NaN</td>\n",
       "      <td>IAG</td>\n",
       "      <td>480|41594|Ca-1</td>\n",
       "      <td>4</td>\n",
       "      <td>FY</td>\n",
       "      <td>480</td>\n",
       "      <td>EL CANAL</td>\n",
       "      <td>41594</td>\n",
       "      <td>...</td>\n",
       "      <td>POLYGON ((517840.000 8098290.000, 517840.000 8...</td>\n",
       "      <td>41.0</td>\n",
       "      <td>AG CAMPO DULCE SRL</td>\n",
       "      <td>sincosecha</td>\n",
       "      <td>0.0</td>\n",
       "      <td>19812.0</td>\n",
       "      <td></td>\n",
       "      <td>0.0</td>\n",
       "      <td>sinmadurador</td>\n",
       "      <td>2025.0</td>\n",
       "    </tr>\n",
       "  </tbody>\n",
       "</table>\n",
       "<p>3 rows × 36 columns</p>\n",
       "</div>"
      ],
      "text/plain": [
       "        area cultivo fecha financia              id soca textura unidad_01  \\\n",
       "0  45.320456   canha   NaN      IAG  480|41594|Ca-1    4      FY       480   \n",
       "1  45.320456   canha   NaN      IAG  480|41594|Ca-1    4      FY       480   \n",
       "2  45.320456   canha   NaN      IAG  480|41594|Ca-1    4      FY       480   \n",
       "\n",
       "  unidad_02 unidad_03  ...                                           geometry  \\\n",
       "0  EL CANAL     41594  ...  POLYGON ((517825.213 8098291.622, 517830.000 8...   \n",
       "1  EL CANAL     41594  ...  POLYGON ((517830.000 8098273.756, 517830.000 8...   \n",
       "2  EL CANAL     41594  ...  POLYGON ((517840.000 8098290.000, 517840.000 8...   \n",
       "\n",
       "  codco            delegado      estado  fci    fid_1  incentivo semana  \\\n",
       "0  41.0  AG CAMPO DULCE SRL  sincosecha  0.0  19812.0               0.0   \n",
       "1  41.0  AG CAMPO DULCE SRL  sincosecha  0.0  19812.0               0.0   \n",
       "2  41.0  AG CAMPO DULCE SRL  sincosecha  0.0  19812.0               0.0   \n",
       "\n",
       "          tipoc   zafra  \n",
       "0  sinmadurador  2025.0  \n",
       "1  sinmadurador  2025.0  \n",
       "2  sinmadurador  2025.0  \n",
       "\n",
       "[3 rows x 36 columns]"
      ]
     },
     "execution_count": 27,
     "metadata": {},
     "output_type": "execute_result"
    }
   ],
   "source": [
    "df_intersects.head(3)"
   ]
  },
  {
   "cell_type": "code",
   "execution_count": 338,
   "id": "6e8d79e1",
   "metadata": {},
   "outputs": [],
   "source": []
  },
  {
   "cell_type": "code",
   "execution_count": 339,
   "id": "49a3c377",
   "metadata": {},
   "outputs": [],
   "source": []
  },
  {
   "cell_type": "code",
   "execution_count": null,
   "id": "9210a4ff",
   "metadata": {},
   "outputs": [],
   "source": []
  },
  {
   "cell_type": "code",
   "execution_count": null,
   "id": "40c8d7b6",
   "metadata": {},
   "outputs": [],
   "source": []
  },
  {
   "cell_type": "code",
   "execution_count": null,
   "id": "e0224c01",
   "metadata": {},
   "outputs": [],
   "source": []
  },
  {
   "cell_type": "code",
   "execution_count": null,
   "id": "4fc409bd",
   "metadata": {},
   "outputs": [],
   "source": []
  },
  {
   "cell_type": "code",
   "execution_count": null,
   "id": "ec2baced",
   "metadata": {},
   "outputs": [],
   "source": []
  },
  {
   "cell_type": "code",
   "execution_count": null,
   "id": "e94b7158",
   "metadata": {},
   "outputs": [],
   "source": []
  },
  {
   "cell_type": "code",
   "execution_count": null,
   "id": "908ce216",
   "metadata": {},
   "outputs": [],
   "source": []
  },
  {
   "cell_type": "code",
   "execution_count": null,
   "id": "b0563e80",
   "metadata": {},
   "outputs": [],
   "source": []
  }
 ],
 "metadata": {
  "kernelspec": {
   "display_name": "Python 3 (ipykernel)",
   "language": "python",
   "name": "python3"
  },
  "language_info": {
   "codemirror_mode": {
    "name": "ipython",
    "version": 3
   },
   "file_extension": ".py",
   "mimetype": "text/x-python",
   "name": "python",
   "nbconvert_exporter": "python",
   "pygments_lexer": "ipython3",
   "version": "3.10.13"
  }
 },
 "nbformat": 4,
 "nbformat_minor": 5
}
