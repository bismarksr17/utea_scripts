{
 "cells": [
  {
   "cell_type": "markdown",
   "id": "f6d9fe2f-6fd2-453b-90c5-55fb349f6ca3",
   "metadata": {},
   "source": [
    "ACTUALIZA LAS PROPIEDADES QUE TIENEN MIDIFICACIONES"
   ]
  },
  {
   "cell_type": "code",
   "execution_count": 1,
   "id": "80d2f025-ade7-41e3-bd89-0f2492ba7bee",
   "metadata": {},
   "outputs": [
    {
     "data": {
      "text/html": [
       "<p>To authorize access needed by Earth Engine, open the following\n",
       "        URL in a web browser and follow the instructions:</p>\n",
       "        <p><a href=https://code.earthengine.google.com/client-auth?scopes=https%3A//www.googleapis.com/auth/earthengine%20https%3A//www.googleapis.com/auth/devstorage.full_control&request_id=zuTxJRM1tLPMWbmeRgRI8N4JMfVmH3rOQ3eBL4gRfVA&tc=pSavreKWy89Mh7JsK2Ql4Vn4OvUHxnXfHi5fZzP_mBQ&cc=GqAa-7mKhuB6PORzAE4C02EX0fMaR5l-F3oDRHWbEA4>https://code.earthengine.google.com/client-auth?scopes=https%3A//www.googleapis.com/auth/earthengine%20https%3A//www.googleapis.com/auth/devstorage.full_control&request_id=zuTxJRM1tLPMWbmeRgRI8N4JMfVmH3rOQ3eBL4gRfVA&tc=pSavreKWy89Mh7JsK2Ql4Vn4OvUHxnXfHi5fZzP_mBQ&cc=GqAa-7mKhuB6PORzAE4C02EX0fMaR5l-F3oDRHWbEA4</a></p>\n",
       "        <p>The authorization workflow will generate a code, which you should paste in the box below.</p>\n",
       "        "
      ],
      "text/plain": [
       "<IPython.core.display.HTML object>"
      ]
     },
     "metadata": {},
     "output_type": "display_data"
    },
    {
     "name": "stdin",
     "output_type": "stream",
     "text": [
      "Enter verification code:  4/1Adeu5BU5NVDy2Ia2um0qC_GPI6kP6nBWrPnctkmKlkhQNPbIUaQlajHPiaQ\n"
     ]
    },
    {
     "name": "stdout",
     "output_type": "stream",
     "text": [
      "\n",
      "Successfully saved authorization token.\n"
     ]
    }
   ],
   "source": [
    "import ee\n",
    "ee.Authenticate()"
   ]
  },
  {
   "cell_type": "code",
   "execution_count": 2,
   "id": "d9f90283-49c6-45ec-b0f2-64cac88c0ab9",
   "metadata": {},
   "outputs": [],
   "source": [
    "import ee\n",
    "import geemap\n",
    "# metodo de clasificacion\n",
    "import jenkspy\n",
    "\n",
    "import geopandas as gpd\n",
    "from geopandas.tools import overlay\n",
    "from shapely.geometry import Polygon\n",
    "\n",
    "import pandas as pd\n",
    "import numpy as np\n",
    "\n",
    "import openpyxl"
   ]
  },
  {
   "cell_type": "code",
   "execution_count": 3,
   "id": "dd6be00f-f59e-4994-aa6a-be62cba7e1a4",
   "metadata": {},
   "outputs": [],
   "source": [
    "ee.Initialize()"
   ]
  },
  {
   "cell_type": "code",
   "execution_count": 20,
   "id": "9417028b-6fda-4dcb-9c51-0f3d91a03426",
   "metadata": {},
   "outputs": [],
   "source": [
    "ruta_catastro='projects/ee-bismarksr17/assets/LOTES_CANHA_FEB_PARCIAL'\n",
    "ruta_ndvi = 'projects/ee-bismarksr17/assets/NDVI_02_2023_PARCIAL'\n",
    "\n",
    "CODIGO_PROPIEDAD='unidad_01'\n",
    "NOM_PROPIEDAD='unidad_02'\n",
    "CODIGO_CANHERO='unidad_03'\n",
    "NOM_CANHERO='unidad_04'\n",
    "\n",
    "VARIEDAD='variedad'\n",
    "ESTADO='RENOVACION'\n",
    "SUPERFICIE='area'"
   ]
  },
  {
   "cell_type": "code",
   "execution_count": 5,
   "id": "12b47d1d-5d68-46c2-89b0-148c8fa1d038",
   "metadata": {},
   "outputs": [],
   "source": [
    "def asig_cat(label):\n",
    "    if label == 1:\n",
    "        return 0\n",
    "    else:\n",
    "        return label * 10\n",
    "\n",
    "vis_params_caña = {\n",
    "    'color': 'red', \n",
    "    'width': 2,\n",
    "    'lineType': 'solid',\n",
    "    'fillColor': '00000000',\n",
    "}\n",
    "\n",
    "# parametro de visualizacion LOTES RENOVACION\n",
    "vis_params_renov = {\n",
    "    'color': 'blue', \n",
    "    'width': 2,\n",
    "    'lineType': 'solid',\n",
    "    'fillColor': '00000000',\n",
    "}"
   ]
  },
  {
   "cell_type": "markdown",
   "id": "9785a64b-1d2a-46d7-995a-d9e08fb70b66",
   "metadata": {},
   "source": [
    "## Eliminar propiedades sobra"
   ]
  },
  {
   "cell_type": "code",
   "execution_count": 6,
   "id": "807fb3f5-8a67-495a-8099-6c01d38ff4eb",
   "metadata": {},
   "outputs": [],
   "source": [
    "# props que presentan irregularidades\n",
    "lista_eliminar = [\n",
    "    1483, 1484, 1564, 1978, 1979, 1984, 1985, 1454, 92, 328, 19, 201,\n",
    "    114, 437, 216, 1447, 365, 47, 123, 249, 132, 687, 669, 275, 326,\n",
    "    55, 17, 1015, 478, 996, 222, 444, 256, 415, 113, 183, 1216, 1735,\n",
    "    1731, 1702, 1013, 116, 547, 1549, 49, 1227, 1530\n",
    "]"
   ]
  },
  {
   "cell_type": "code",
   "execution_count": null,
   "id": "1f89e28f-d5cd-45bd-955a-ef1061500519",
   "metadata": {},
   "outputs": [],
   "source": []
  },
  {
   "cell_type": "code",
   "execution_count": null,
   "id": "37b3295c-cf60-4851-96d9-df0faf3bdb74",
   "metadata": {},
   "outputs": [],
   "source": []
  },
  {
   "cell_type": "code",
   "execution_count": 7,
   "id": "74097e35-8547-4348-84a7-3661652ccba6",
   "metadata": {},
   "outputs": [],
   "source": [
    "df_intersects = gpd.read_file('INTERSECT.shp')"
   ]
  },
  {
   "cell_type": "code",
   "execution_count": 8,
   "id": "c1811f73-b19b-493a-a981-643f9fb9a8a2",
   "metadata": {},
   "outputs": [],
   "source": [
    "df_data = pd.read_excel('DATA_EST.xlsx')"
   ]
  },
  {
   "cell_type": "markdown",
   "id": "f32abe89-af7c-40b3-b271-4dfc6128bb85",
   "metadata": {},
   "source": [
    "### Eliminar props de DATA_EST.xlsx"
   ]
  },
  {
   "cell_type": "code",
   "execution_count": 9,
   "id": "3ad97039-37c5-4a13-a900-2ab80a8c955d",
   "metadata": {},
   "outputs": [],
   "source": [
    "df_data = df_data[~df_data['cod_prop'].isin(lista_eliminar)]"
   ]
  },
  {
   "cell_type": "code",
   "execution_count": 10,
   "id": "919b0bb0-173e-4350-b596-85d38cacb0fd",
   "metadata": {},
   "outputs": [],
   "source": [
    "df_data.to_excel('data_new.xlsx')"
   ]
  },
  {
   "cell_type": "markdown",
   "id": "4fb659c0-c1ba-42b4-b6cb-76a92be8aea1",
   "metadata": {},
   "source": [
    "### Eliminar props de INTERSECTS.shp"
   ]
  },
  {
   "cell_type": "code",
   "execution_count": 11,
   "id": "19ea05f1-b1b8-4ce9-b013-d06497d91673",
   "metadata": {},
   "outputs": [],
   "source": [
    "lista_eliminar = [str(i) for i in lista_eliminar]"
   ]
  },
  {
   "cell_type": "code",
   "execution_count": 13,
   "id": "5abe7687-7463-4f52-aa63-8d9757620c3c",
   "metadata": {},
   "outputs": [],
   "source": [
    "df_intersects = df_intersects[~df_intersects['unidad_01'].isin(lista_eliminar)]"
   ]
  },
  {
   "cell_type": "code",
   "execution_count": null,
   "id": "c26e1b43-6d4c-4530-9a14-76fb07b3aa6c",
   "metadata": {},
   "outputs": [],
   "source": []
  },
  {
   "cell_type": "code",
   "execution_count": null,
   "id": "99d36f0d-0107-44ff-b2f4-008a0105b834",
   "metadata": {},
   "outputs": [],
   "source": []
  },
  {
   "cell_type": "code",
   "execution_count": null,
   "id": "26b23752-f5a3-4cd1-90e2-0446ea9e3ee1",
   "metadata": {},
   "outputs": [],
   "source": []
  },
  {
   "cell_type": "code",
   "execution_count": null,
   "id": "802f5cdd-9246-4fc6-8782-dcce61f7cfa8",
   "metadata": {},
   "outputs": [],
   "source": []
  },
  {
   "cell_type": "code",
   "execution_count": null,
   "id": "a0bdca6d-f0dc-44bd-b4a7-f0e571d0b29f",
   "metadata": {},
   "outputs": [],
   "source": []
  },
  {
   "cell_type": "code",
   "execution_count": null,
   "id": "c4352f7d-206a-4c45-97af-353e8edd6494",
   "metadata": {},
   "outputs": [],
   "source": []
  },
  {
   "cell_type": "code",
   "execution_count": null,
   "id": "6cb452a6-2080-4cb6-b602-bf3e906d260e",
   "metadata": {},
   "outputs": [],
   "source": []
  },
  {
   "cell_type": "code",
   "execution_count": 14,
   "id": "2f5022da-e462-4163-b388-1b816bed14bf",
   "metadata": {},
   "outputs": [],
   "source": [
    "ruta_fases = 'codigos_feb.xlsx'"
   ]
  },
  {
   "cell_type": "code",
   "execution_count": 15,
   "id": "cc0c12ac-5d11-44f7-a772-c95421cca18f",
   "metadata": {},
   "outputs": [],
   "source": [
    "df = pd.read_excel(ruta_fases)"
   ]
  },
  {
   "cell_type": "code",
   "execution_count": 16,
   "id": "84989af5-267f-4b2e-863b-fd88bcc33c51",
   "metadata": {},
   "outputs": [
    {
     "data": {
      "text/html": [
       "<div>\n",
       "<style scoped>\n",
       "    .dataframe tbody tr th:only-of-type {\n",
       "        vertical-align: middle;\n",
       "    }\n",
       "\n",
       "    .dataframe tbody tr th {\n",
       "        vertical-align: top;\n",
       "    }\n",
       "\n",
       "    .dataframe thead th {\n",
       "        text-align: right;\n",
       "    }\n",
       "</style>\n",
       "<table border=\"1\" class=\"dataframe\">\n",
       "  <thead>\n",
       "    <tr style=\"text-align: right;\">\n",
       "      <th></th>\n",
       "      <th>unidad_01</th>\n",
       "    </tr>\n",
       "  </thead>\n",
       "  <tbody>\n",
       "    <tr>\n",
       "      <th>0</th>\n",
       "      <td>1</td>\n",
       "    </tr>\n",
       "    <tr>\n",
       "      <th>1</th>\n",
       "      <td>2</td>\n",
       "    </tr>\n",
       "    <tr>\n",
       "      <th>2</th>\n",
       "      <td>3</td>\n",
       "    </tr>\n",
       "    <tr>\n",
       "      <th>3</th>\n",
       "      <td>4</td>\n",
       "    </tr>\n",
       "    <tr>\n",
       "      <th>4</th>\n",
       "      <td>5</td>\n",
       "    </tr>\n",
       "  </tbody>\n",
       "</table>\n",
       "</div>"
      ],
      "text/plain": [
       "   unidad_01\n",
       "0          1\n",
       "1          2\n",
       "2          3\n",
       "3          4\n",
       "4          5"
      ]
     },
     "execution_count": 16,
     "metadata": {},
     "output_type": "execute_result"
    }
   ],
   "source": [
    "df.head()"
   ]
  },
  {
   "cell_type": "code",
   "execution_count": 17,
   "id": "c167ef6b-4258-4538-baec-6bf866208299",
   "metadata": {},
   "outputs": [],
   "source": [
    "lista_props = list(df['unidad_01'])"
   ]
  },
  {
   "cell_type": "code",
   "execution_count": 18,
   "id": "cb6e1c8b-47bc-4ebc-aa10-f028c57ac882",
   "metadata": {},
   "outputs": [
    {
     "data": {
      "text/plain": [
       "1431"
      ]
     },
     "execution_count": 18,
     "metadata": {},
     "output_type": "execute_result"
    }
   ],
   "source": [
    "len(lista_props)"
   ]
  },
  {
   "cell_type": "code",
   "execution_count": 19,
   "id": "04742ed4-356d-47aa-a573-6a15520be80c",
   "metadata": {},
   "outputs": [
    {
     "name": "stdout",
     "output_type": "stream",
     "text": [
      "[1, 2, 3, 4, 5, 6, 8, 9, 10, 11, 12, 13, 15, 16, 17, 18, 19, 20, 21, 22, 23, 25, 26, 27, 28, 29, 30, 31, 32, 33, 36, 38, 39, 40, 42, 43, 44, 45, 46, 47, 48, 49, 50, 54, 55, 57, 61, 62, 63, 66, 67, 68, 71, 72, 74, 76, 78, 79, 83, 84, 85, 89, 92, 93, 94, 98, 100, 103, 104, 105, 106, 109, 111, 112, 113, 114, 115, 116, 117, 118, 119, 122, 123, 125, 126, 127, 128, 129, 132, 133, 135, 137, 139, 140, 141, 142, 145, 146, 147, 149, 150, 155, 156, 159, 161, 162, 164, 168, 171, 173, 174, 176, 178, 179, 182, 183, 184, 185, 186, 187, 188, 189, 195, 197, 198, 201, 205, 206, 209, 211, 212, 213, 216, 217, 218, 219, 221, 222, 225, 226, 227, 228, 229, 230, 231, 233, 234, 235, 236, 237, 238, 239, 240, 241, 242, 244, 246, 247, 249, 250, 251, 253, 256, 257, 258, 259, 260, 261, 263, 264, 265, 267, 270, 271, 273, 274, 275, 276, 277, 278, 279, 280, 281, 282, 283, 284, 285, 286, 287, 288, 289, 290, 291, 292, 293, 294, 295, 296, 297, 298, 299, 300, 306, 307, 309, 310, 311, 313, 314, 318, 320, 324, 325, 326, 327, 328, 329, 330, 331, 332, 333, 341, 343, 344, 345, 348, 349, 350, 355, 358, 360, 361, 365, 367, 369, 371, 375, 376, 377, 378, 384, 386, 389, 391, 392, 395, 396, 398, 399, 400, 403, 404, 405, 406, 407, 408, 411, 414, 415, 416, 417, 418, 419, 421, 423, 424, 426, 434, 435, 437, 439, 440, 441, 442, 444, 445, 447, 449, 450, 454, 458, 466, 468, 469, 471, 472, 473, 476, 478, 483, 484, 485, 486, 487, 488, 489, 490, 491, 493, 494, 495, 496, 499, 500, 501, 502, 503, 504, 505, 507, 509, 510, 511, 512, 513, 514, 515, 516, 517, 519, 520, 521, 522, 523, 524, 525, 526, 527, 529, 532, 533, 534, 535, 536, 537, 538, 539, 540, 541, 542, 543, 544, 545, 546, 547, 548, 549, 550, 551, 552, 554, 555, 556, 558, 559, 560, 565, 566, 567, 568, 570, 571, 572, 573, 574, 575, 576, 577, 578, 579, 580, 582, 583, 585, 586, 590, 591, 592, 593, 594, 596, 597, 598, 600, 601, 602, 603, 605, 606, 607, 608, 611, 612, 613, 614, 615, 616, 617, 618, 619, 620, 621, 622, 623, 624, 625, 627, 628, 629, 630, 631, 632, 633, 634, 636, 637, 638, 639, 640, 641, 642, 643, 645, 646, 647, 648, 649, 650, 651, 652, 653, 654, 655, 656, 657, 659, 660, 661, 662, 663, 664, 665, 666, 667, 668, 669, 670, 671, 672, 674, 675, 676, 677, 678, 679, 681, 682, 683, 685, 687, 690, 691, 692, 693, 694, 695, 696, 697, 698, 699, 700, 702, 703, 704, 705, 706, 707, 708, 709, 710, 714, 715, 716, 717, 718, 719, 720, 721, 722, 723, 724, 725, 726, 727, 728, 729, 730, 732, 733, 734, 737, 739, 741, 742, 744, 745, 746, 747, 749, 750, 752, 753, 755, 756, 757, 758, 759, 761, 762, 763, 764, 765, 766, 767, 768, 769, 770, 771, 772, 773, 774, 775, 776, 777, 778, 779, 780, 781, 782, 783, 784, 785, 787, 788, 789, 790, 791, 792, 793, 794, 796, 797, 798, 799, 800, 801, 802, 803, 804, 805, 806, 807, 809, 810, 811, 812, 813, 814, 815, 816, 817, 825, 827, 830, 831, 832, 833, 834, 835, 836, 838, 839, 840, 842, 843, 844, 845, 846, 848, 849, 851, 852, 853, 854, 855, 856, 859, 860, 861, 862, 863, 864, 865, 866, 867, 868, 869, 870, 871, 872, 873, 874, 875, 877, 878, 879, 880, 882, 883, 886, 887, 888, 889, 890, 891, 892, 893, 894, 895, 896, 897, 898, 899, 900, 901, 902, 903, 904, 905, 906, 907, 908, 909, 910, 912, 913, 914, 915, 916, 918, 919, 921, 922, 923, 924, 925, 926, 927, 928, 929, 930, 932, 934, 935, 936, 937, 938, 939, 941, 942, 943, 944, 945, 947, 949, 950, 951, 952, 953, 954, 956, 957, 958, 961, 962, 963, 964, 966, 968, 969, 970, 971, 972, 973, 974, 975, 976, 978, 979, 980, 981, 982, 984, 986, 988, 989, 990, 991, 992, 993, 994, 995, 996, 999, 1000, 1001, 1002, 1005, 1006, 1009, 1010, 1011, 1013, 1014, 1015, 1016, 1018, 1020, 1021, 1022, 1023, 1024, 1025, 1026, 1028, 1033, 1034, 1035, 1036, 1038, 1039, 1040, 1041, 1042, 1043, 1045, 1046, 1047, 1049, 1050, 1051, 1052, 1053, 1054, 1057, 1066, 1072, 1073, 1074, 1075, 1076, 1077, 1078, 1079, 1080, 1081, 1082, 1083, 1084, 1085, 1086, 1087, 1088, 1089, 1090, 1091, 1092, 1093, 1094, 1095, 1096, 1097, 1099, 1100, 1104, 1107, 1108, 1109, 1111, 1113, 1114, 1115, 1116, 1117, 1118, 1119, 1120, 1121, 1122, 1123, 1124, 1125, 1126, 1128, 1130, 1131, 1132, 1136, 1137, 1139, 1140, 1142, 1144, 1145, 1146, 1147, 1149, 1151, 1153, 1154, 1156, 1157, 1158, 1159, 1160, 1161, 1162, 1163, 1165, 1166, 1168, 1170, 1171, 1172, 1176, 1177, 1178, 1179, 1180, 1181, 1182, 1183, 1184, 1185, 1186, 1189, 1190, 1193, 1195, 1197, 1198, 1199, 1200, 1201, 1203, 1204, 1205, 1206, 1207, 1208, 1210, 1211, 1212, 1213, 1214, 1215, 1216, 1219, 1220, 1221, 1222, 1225, 1227, 1228, 1229, 1231, 1232, 1233, 1234, 1235, 1237, 1238, 1240, 1241, 1242, 1243, 1244, 1247, 1248, 1249, 1250, 1251, 1252, 1254, 1255, 1256, 1257, 1258, 1259, 1260, 1262, 1263, 1264, 1265, 1266, 1267, 1268, 1269, 1272, 1273, 1274, 1275, 1276, 1277, 1278, 1279, 1280, 1281, 1282, 1283, 1284, 1285, 1286, 1287, 1289, 1290, 1291, 1292, 1294, 1295, 1297, 1299, 1300, 1301, 1302, 1303, 1304, 1305, 1306, 1307, 1308, 1309, 1310, 1311, 1313, 1314, 1315, 1321, 1322, 1323, 1324, 1325, 1326, 1327, 1330, 1331, 1332, 1333, 1335, 1336, 1337, 1338, 1339, 1340, 1342, 1343, 1344, 1345, 1346, 1347, 1349, 1350, 1351, 1352, 1353, 1354, 1355, 1356, 1357, 1358, 1359, 1362, 1364, 1365, 1366, 1367, 1368, 1369, 1370, 1371, 1372, 1373, 1374, 1375, 1376, 1377, 1378, 1379, 1380, 1381, 1382, 1384, 1385, 1386, 1388, 1389, 1392, 1393, 1394, 1397, 1399, 1401, 1402, 1403, 1404, 1405, 1406, 1407, 1408, 1409, 1411, 1412, 1413, 1414, 1416, 1417, 1418, 1419, 1420, 1421, 1422, 1424, 1425, 1426, 1431, 1432, 1433, 1436, 1438, 1440, 1441, 1443, 1446, 1447, 1450, 1451, 1452, 1453, 1454, 1456, 1457, 1458, 1459, 1460, 1461, 1464, 1465, 1467, 1469, 1470, 1472, 1473, 1474, 1475, 1476, 1478, 1480, 1481, 1482, 1483, 1484, 1488, 1489, 1491, 1492, 1494, 1495, 1497, 1498, 1499, 1502, 1503, 1505, 1509, 1510, 1511, 1512, 1513, 1516, 1518, 1520, 1522, 1523, 1524, 1525, 1526, 1528, 1530, 1535, 1536, 1537, 1538, 1539, 1540, 1541, 1542, 1544, 1545, 1546, 1547, 1548, 1549, 1550, 1551, 1553, 1554, 1556, 1557, 1558, 1559, 1561, 1562, 1563, 1564, 1566, 1567, 1568, 1569, 1570, 1572, 1573, 1574, 1576, 1577, 1578, 1579, 1580, 1582, 1585, 1586, 1587, 1588, 1592, 1593, 1594, 1596, 1597, 1598, 1600, 1602, 1605, 1606, 1607, 1608, 1609, 1610, 1611, 1612, 1613, 1614, 1616, 1617, 1619, 1620, 1621, 1622, 1623, 1627, 1628, 1629, 1630, 1631, 1633, 1635, 1637, 1638, 1639, 1640, 1641, 1642, 1643, 1644, 1645, 1646, 1648, 1649, 1651, 1652, 1653, 1655, 1656, 1658, 1659, 1660, 1661, 1662, 1663, 1665, 1667, 1668, 1669, 1670, 1671, 1672, 1673, 1674, 1675, 1676, 1677, 1682, 1683, 1684, 1685, 1686, 1687, 1688, 1690, 1693, 1694, 1695, 1696, 1699, 1700, 1701, 1702, 1703, 1704, 1706, 1708, 1709, 1711, 1712, 1714, 1716, 1718, 1719, 1720, 1721, 1722, 1724, 1726, 1730, 1731, 1732, 1733, 1735, 1736, 1737, 1738, 1739, 1740, 1741, 1742, 1743, 1744, 1745, 1746, 1748, 1750, 1751, 1755, 1757, 1758, 1759, 1760, 1761, 1762, 1763, 1764, 1765, 1766, 1767, 1768, 1770, 1771, 1772, 1773, 1774, 1775, 1776, 1777, 1778, 1780, 1781, 1782, 1783, 1784, 1786, 1788, 1789, 1790, 1791, 1792, 1793, 1794, 1795, 1796, 1797, 1798, 1799, 1800, 1801, 1802, 1805, 1806, 1807, 1808, 1812, 1815, 1816, 1817, 1818, 1819, 1820, 1823, 1824, 1826, 1827, 1828, 1829, 1832, 1833, 1844, 1845, 1846, 1847, 1848, 1849, 1850, 1851, 1852, 1853, 1854, 1855, 1856, 1857, 1858, 1859, 1860, 1861, 1862, 1863, 1864, 1865, 1866, 1867, 1868, 1869, 1870, 1872, 1873, 1874, 1875, 1876, 1877, 1878, 1879, 1880, 1881, 1882, 1883, 1884, 1885, 1886, 1887, 1888, 1889, 1890, 1891, 1894, 1896, 1897, 1898, 1899, 1900, 1901, 1902, 1903, 1904, 1905, 1906, 1907, 1908, 1909, 1910, 1913, 1914, 1915, 1916, 1917, 1918, 1919, 1920, 1921, 1922, 1924, 1925, 1926, 1927, 1928, 1929, 1930, 1931, 1932, 1933, 1934, 1935, 1936, 1937, 1938, 1939, 1940, 1941, 1946, 1947, 1948, 1949, 1950, 1951, 1952, 1957, 1960, 1961, 1962, 1963, 1964, 1968, 1969, 1970, 1971, 1972]\n"
     ]
    }
   ],
   "source": [
    "print(lista_props)"
   ]
  },
  {
   "cell_type": "code",
   "execution_count": 24,
   "id": "088d3ce0-c07e-4081-a491-bd51d3bf4a79",
   "metadata": {},
   "outputs": [],
   "source": [
    "#lista_props = [682, 706, 707, 729, 708, 709, 710, 693, 692, 679, 678, 704, 702, 703, 127, 683, 694, 698, 696, 677, 697, 695, 699, 449, 700, 687, 725, 726, 891, 834, 833, 771, 839, 838, 802, 863, 953, 925, 690, 685, 681, 5, 916, 889, 890, 892, 753, 724, 723, 1005, 1006, 747, 746, 745, 1016, 728, 887, 764, 765, 763, 762, 1049, 715, 714, 772, 1050, 1051, 1052, 1053, 744, 936, 835, 855, 228, 886, 742, 1054, 734, 755, 754, 776, 46, 757, 775, 774, 720, 722, 721, 719, 718, 717, 139, 147, 733, 732, 1819, 750, 877, 617, 741, 1482, 1485, 1481, 1480, 1483, 1486, 1484, 591, 216, 55, 217, 256, 219, 218, 205, 752, 187, 26, 910, 909, 1089, 830, 779, 780, 350, 766, 859, 894, 852, 1097, 848, 849, 971, 853, 840, 843, 842, 846, 845, 844, 782, 904, 275, 854, 630, 631, 778, 613, 141, 142, 767, 1099, 773, 1461, 1551, 803, 954, 386, 384, 861, 932, 952, 951, 950, 770, 769, 768, 864, 930, 862, 810, 811, 445, 812, 804, 805, 807, 806, 814, 827, 860, 816, 815, 813, 809, 817, 866, 11, 263, 865, 348, 898, 896, 969, 913, 132, 1139, 716, 897, 900, 901, 899, 478, 414, 868, 871, 869, 878, 873, 874, 799, 800, 273, 758, 759, 289, 133, 783, 784, 365, 785, 629, 201, 777, 258, 522, 902, 888, 893, 924, 923, 912, 788, 796, 789, 790, 794, 792, 793, 879, 787, 832, 921, 989, 920, 988, 915, 883, 994, 882, 880, 944, 1022, 1094, 93, 135, 355, 1220, 1252, 928, 922, 24, 935, 927, 918, 473, 472, 942, 937, 938, 939, 9, 947, 1411, 970, 1242, 400, 22, 419, 415, 964, 963, 966, 956, 957, 958, 968, 399, 962, 1015, 985, 986, 984, 980, 973, 176, 976, 975, 974, 979, 982, 981, 993, 991, 416, 418, 417, 961, 1033, 1024, 1025, 1034, 1036, 1035, 1028, 1026, 1009, 1013, 1086, 1085, 1007, 1011, 1008, 1010, 233, 1018, 1020, 1023, 1095, 1057, 1047, 1046, 1066, 168, 1072, 1073, 1074, 1075, 377, 378, 1076, 1077, 1079, 1078, 1080, 1083, 1084, 1087, 1042, 1045, 1092, 1039, 1093, 1041, 1043, 1040, 264, 238, 705, 1122, 1123, 1124, 1126, 1121, 1118, 1125, 1120, 1116, 1117, 1115, 1113, 1114, 1119, 1146, 1130, 1132, 1128, 1142, 1145, 1140, 1149, 1151, 1156, 1157, 1154, 1158, 43, 1160, 1163, 1161, 1162, 541, 396, 395, 1173, 1182, 1180, 1183, 1184, 1177, 1181, 1178, 1176, 1179, 1185, 1171, 1165, 1168, 1186, 990, 1216, 1193, 1197, 1208, 1207, 1204, 1206, 1200, 1203, 1205, 1195, 1211, 1199, 1194, 1212, 1201, 156, 36, 1214, 1198, 1227, 1234, 1226, 1247, 1249, 1248, 1233, 1241, 1240, 1228, 1229, 1231, 1232, 1237, 1243, 1244, 1219, 1221, 1222, 903, 1292, 1294, 1274, 1291, 1287, 1290, 1283, 1286, 1285, 1264, 1267, 1266, 1265, 1268, 1282, 1262, 1254, 1258, 1263, 1259, 1257, 1256, 943, 54, 286, 287, 198, 279, 1313, 1314, 1306, 1307, 1308, 1311, 1305, 1302, 1309, 1303, 1304, 450, 444, 1299, 1301, 63, 1350, 1349, 62, 556, 1335, 8, 340, 1688, 250, 1170, 189, 466, 568, 567, 1321, 23, 47, 50, 324, 376, 559, 558, 510, 278, 1210, 1374, 1373, 1372, 1380, 1384, 1376, 1377, 1378, 1381, 1368, 1379, 1385, 1371, 1370, 1386, 1375, 1382, 1389, 1394, 1352, 1356, 1351, 1346, 1344, 1347, 1342, 1354, 1364, 1365, 1366, 1362, 1343, 361, 1359, 1358, 1324, 1326, 1327, 1330, 1333, 1338, 1339, 1340, 1341, 1332, 1322, 1337, 1336, 1331, 1100, 1397, 442, 1408, 435, 434, 1404, 1399, 1409, 1406, 1403, 1407, 1405, 1402, 1401, 1413, 1412, 1420, 1419, 1418, 1416, 1417, 616, 539, 1238, 781, 1422, 575, 1425, 1421, 674, 1430, 1433, 1438, 328, 1451, 1426, 1424, 668, 360, 1452, 249, 547, 669, 1443, 1450, 1459, 185, 1456, 1473, 1472, 1475, 1474, 1489, 1476, 326, 1478, 1494, 1495, 424, 1498, 1499, 246, 1492, 1491, 405, 596, 597, 598, 1021, 1111, 1502, 1511, 115, 197, 1269, 1367, 1388, 1393, 1431, 1432, 1440, 1446, 1457, 1464, 1465, 1469, 1470, 1497, 1505, 30, 1513, 1518, 1520, 211, 1392, 1537, 1536, 1526, 1573, 1545, 155, 1579, 76, 244, 1516, 1544, 1546, 1530, 945, 1548, 1562, 1567, 1566, 1512, 1568, 1554, 1447, 1556, 1557, 1558, 1561, 1550, 1539, 1563, 1564, 570, 1088, 1569, 633, 1190, 1570, 1538, 908, 1522, 1523, 691, 1559, 1524, 1549, 1525, 1540, 1541, 1553, 1578, 1547, 1552, 492, 1487, 1414, 525, 1225, 1815, 620, 1542, 1323, 1467, 1818, 749, 1820, 136, 934, 411, 1585, 42, 476, 1587, 1275, 1588, 230, 39, 72, 519, 1235, 867, 1598, 1597, 1596, 1600, 1601, 1593, 1602, 801, 1580, 1609, 1610, 184, 1490, 150, 1614, 1611, 1613, 140, 1353, 343, 836, 1617, 1616, 1620, 1621, 1622, 1623, 495, 391, 1627, 1626, 1625, 1624, 1630, 1629, 1628, 536, 1619, 406, 1633, 1639, 534, 1640, 1644, 1643, 15, 1651, 1652, 1656, 1658, 1655, 179, 1660, 1661, 1663, 730, 1671, 1673, 1677, 1676, 1675, 1674, 375, 1682, 1683, 229, 1684, 260, 1685, 105, 128, 188, 103, 261, 870, 1460, 1091, 1325, 1607, 1355, 1672, 1535, 1649, 1345, 1638, 1605, 3, 1668, 756, 1635, 1648, 603, 621, 1645, 10, 1631, 57, 1665, 1250, 1659, 1662, 1606, 1669, 83, 1667, 1014, 1213, 1670, 1646, 1642, 159, 1687, 1686, 1641, 1612, 825, 1690, 331, 1153, 49, 1608, 1510, 206, 234, 186, 66, 38, 2, 1694, 113, 369, 941, 791, 31, 67, 68, 1509, 146, 109, 162, 164, 926, 111, 61, 1710, 1697, 114, 1699, 21, 1817, 1816, 265, 174, 222, 949, 624, 1708, 1709, 1716, 1215, 332, 1574, 1315, 295, 1736, 1738, 1737, 851, 907, 1739, 737, 1741, 1740, 1742, 1743, 1166, 1458, 149, 1745, 1746, 1750, 1749, 1751, 1752, 931, 1357, 1757, 345, 1453, 1759, 1760, 1761, 408, 1586, 1764, 1766, 1768, 1189, 1771, 1781, 1780, 1131, 307, 872, 1793, 1755, 1528, 1693, 1790, 1765, 1762, 1726, 1719, 875, 1721, 1696, 1744, 1735, 84, 1767, 1260, 1732, 1653, 1695, 1730, 1733, 1788, 1775, 1714, 1778, 1720, 1782, 1724, 1701, 1783, 1791, 235, 1712, 527, 1731, 1722, 1702, 1703, 1772, 1786, 12, 1594, 992, 1792, 1774, 1773, 1776, 1794, 831, 1038, 1277, 1279, 1280, 1281, 1278, 318, 1784, 33, 1789, 1797, 1159, 1592, 1718, 1711, 1770, 1796, 1799, 1795, 929, 1706, 1805, 1806, 1800, 1802, 44, 1798, 1255, 1251, 1801, 1748, 1637, 500, 490, 178, 1284, 1503, 623, 299, 1808, 1807, 1441, 1812, 1310, 761, 1436, 227, 1758, 1824, 1850, 1846, 1827, 1777, 1828, 1829, 1832, 1844, 1845, 1847, 1848, 1849, 1851, 1853, 578, 1833, 32, 1854, 1826, 247, 1855, 1856, 1857, 1858, 1859, 1860, 1861, 1862, 1863, 1864, 1866, 1865, 592, 1867, 1868, 426, 1488, 1763, 739, 1869, 1870, 601, 1823, 1700, 1872, 1874, 1873, 1876, 1875, 1877]\n",
    "lista_props = [\n",
    "    1483, 1484, 1564, 1978, 1979, 1984, 1985, 1454, 92, 328, 19, 201,\n",
    "    114, 437, 216, 1447, 365, 47, 123, 249, 132, 687, 669, 275, 326,\n",
    "    55, 17, 1015, 478, 996, 222, 444, 256, 415, 113, 183, 1216, 1735,\n",
    "    1731, 1702, 1013, 116, 547, 1549, 1227\n",
    "]"
   ]
  },
  {
   "cell_type": "code",
   "execution_count": 25,
   "id": "2888f91a-f066-43ff-a20d-3cc1815a5fd9",
   "metadata": {},
   "outputs": [
    {
     "data": {
      "text/plain": [
       "45"
      ]
     },
     "execution_count": 25,
     "metadata": {},
     "output_type": "execute_result"
    }
   ],
   "source": [
    "len(lista_props)"
   ]
  },
  {
   "cell_type": "code",
   "execution_count": 36,
   "id": "26603a74-e6a3-4b5d-a0a5-6b105f48239e",
   "metadata": {},
   "outputs": [],
   "source": [
    "df_intersects = gpd.read_file('INTERSECT.shp')"
   ]
  },
  {
   "cell_type": "code",
   "execution_count": 27,
   "id": "9e88cad8-67cc-4471-8af2-4680ab2daa65",
   "metadata": {},
   "outputs": [
    {
     "name": "stdout",
     "output_type": "stream",
     "text": [
      "inicio: 1483\n",
      "fin:  1483\n",
      "___________________CONTADOR:  1\n",
      "inicio: 1484\n",
      "fin:  1484\n",
      "___________________CONTADOR:  2\n",
      "inicio: 1564\n",
      "fin:  1564\n",
      "___________________CONTADOR:  3\n",
      "inicio: 1978\n",
      "fin:  1978\n",
      "___________________CONTADOR:  4\n",
      "inicio: 1979\n",
      "fin:  1979\n",
      "___________________CONTADOR:  5\n",
      "inicio: 1984\n",
      "fin:  1984\n",
      "___________________CONTADOR:  6\n",
      "inicio: 1985\n",
      "fin:  1985\n",
      "___________________CONTADOR:  7\n",
      "inicio: 1454\n",
      "fin:  1454\n",
      "___________________CONTADOR:  8\n",
      "inicio: 92\n",
      "fin:  92\n",
      "___________________CONTADOR:  9\n",
      "inicio: 328\n",
      "fin:  328\n",
      "___________________CONTADOR:  10\n",
      "inicio: 19\n",
      "fin:  19\n",
      "___________________CONTADOR:  11\n",
      "inicio: 201\n",
      "fin:  201\n",
      "___________________CONTADOR:  12\n",
      "inicio: 114\n",
      "fin:  114\n",
      "___________________CONTADOR:  13\n",
      "inicio: 437\n",
      "fin:  437\n",
      "___________________CONTADOR:  14\n",
      "inicio: 216\n",
      "fin:  216\n",
      "___________________CONTADOR:  15\n",
      "inicio: 1447\n",
      "fin:  1447\n",
      "___________________CONTADOR:  16\n",
      "inicio: 365\n",
      "fin:  365\n",
      "___________________CONTADOR:  17\n",
      "inicio: 47\n",
      "fin:  47\n",
      "___________________CONTADOR:  18\n",
      "inicio: 123\n",
      "fin:  123\n",
      "___________________CONTADOR:  19\n",
      "inicio: 249\n",
      "fin:  249\n",
      "___________________CONTADOR:  20\n",
      "inicio: 132\n",
      "fin:  132\n",
      "___________________CONTADOR:  21\n",
      "inicio: 687\n",
      "fin:  687\n",
      "___________________CONTADOR:  22\n",
      "inicio: 669\n",
      "fin:  669\n",
      "___________________CONTADOR:  23\n",
      "inicio: 275\n",
      "fin:  275\n",
      "___________________CONTADOR:  24\n",
      "inicio: 326\n",
      "fin:  326\n",
      "___________________CONTADOR:  25\n",
      "inicio: 55\n",
      "fin:  55\n",
      "___________________CONTADOR:  26\n",
      "inicio: 17\n",
      "fin:  17\n",
      "___________________CONTADOR:  27\n",
      "inicio: 1015\n",
      "fin:  1015\n",
      "___________________CONTADOR:  28\n",
      "inicio: 478\n",
      "fin:  478\n",
      "___________________CONTADOR:  29\n",
      "inicio: 996\n",
      "fin:  996\n",
      "___________________CONTADOR:  30\n",
      "inicio: 222\n",
      "fin:  222\n",
      "___________________CONTADOR:  31\n",
      "inicio: 444\n",
      "fin:  444\n",
      "___________________CONTADOR:  32\n",
      "inicio: 256\n",
      "fin:  256\n",
      "___________________CONTADOR:  33\n",
      "inicio: 415\n",
      "fin:  415\n",
      "___________________CONTADOR:  34\n",
      "inicio: 113\n",
      "fin:  113\n",
      "___________________CONTADOR:  35\n",
      "inicio: 183\n",
      "fin:  183\n",
      "___________________CONTADOR:  36\n",
      "inicio: 1216\n",
      "fin:  1216\n",
      "___________________CONTADOR:  37\n",
      "inicio: 1735\n",
      "fin:  1735\n",
      "___________________CONTADOR:  38\n",
      "inicio: 1731\n",
      "fin:  1731\n",
      "___________________CONTADOR:  39\n",
      "inicio: 1702\n",
      "fin:  1702\n",
      "___________________CONTADOR:  40\n",
      "inicio: 1013\n",
      "fin:  1013\n",
      "___________________CONTADOR:  41\n",
      "inicio: 116\n",
      "fin:  116\n",
      "___________________CONTADOR:  42\n",
      "inicio: 547\n",
      "fin:  547\n",
      "___________________CONTADOR:  43\n",
      "inicio: 1549\n",
      "fin:  1549\n",
      "___________________CONTADOR:  44\n",
      "inicio: 1227\n",
      "fin:  1227\n",
      "___________________CONTADOR:  45\n",
      "FIN......!\n"
     ]
    }
   ],
   "source": [
    "contador = 0\n",
    "for cod_prop in lista_props:\n",
    "    print('inicio:', cod_prop)\n",
    "    propiedad = ee.FeatureCollection(ruta_catastro)\\\n",
    "                .filter(ee.Filter.eq(CODIGO_PROPIEDAD, cod_prop))\n",
    "    lotes_canha = propiedad.filter(ee.Filter.neq(VARIEDAD, ESTADO))\n",
    "    lotes_renov = propiedad.filter(ee.Filter.eq(VARIEDAD, ESTADO))\n",
    "    NDVI = ee.Image(ruta_ndvi)\n",
    "    NDVI_clip = NDVI.clip(lotes_canha.geometry())\n",
    "    # crea un sample de los valore de pixel del NDVI\n",
    "    NDVI_values = NDVI_clip.sampleRegions(lotes_canha.geometry())\n",
    "    # reduce el resultado a valores de NDVI\n",
    "    pixel_values = NDVI_values.reduceColumns(ee.Reducer.toList(),['b1']).get('list').getInfo()\n",
    "    # aplica metodo Jenks\n",
    "    breaks = jenkspy.jenks_breaks(pixel_values, n_classes=8)\n",
    "    NDVI_class = ee.Image(-1).where(NDVI.lt(breaks[1]),1)\\\n",
    "                        .where(NDVI.gte(breaks[1]),2)\\\n",
    "                        .where(NDVI.gte(breaks[2]),3)\\\n",
    "                        .where(NDVI.gte(breaks[3]),4)\\\n",
    "                        .where(NDVI.gte(breaks[4]),5)\\\n",
    "                        .where(NDVI.gte(breaks[5]),6)\\\n",
    "                        .where(NDVI.gte(breaks[6]),7)\\\n",
    "                        .where(NDVI.gte(breaks[7]),8)\n",
    "    NDVI_class_clip = NDVI_class.clip(lotes_canha.geometry())\n",
    "    clasify = NDVI_class_clip.reproject(crs=\"EPSG:32720\", scale=10)\n",
    "    vector = clasify.reduceToVectors(**{\n",
    "        'geometry': lotes_canha.geometry(),\n",
    "        'crs': clasify.projection(),\n",
    "        'scale': 10,\n",
    "        'geometryType': 'polygon',\n",
    "        'eightConnected': False\n",
    "    })\n",
    "    \n",
    "    DF_VECTOR = vector\n",
    "    \n",
    "    lotes_local = geemap.ee_to_geopandas(lotes_canha)\n",
    "    \n",
    "    lista = vector.toList(vector.size()).getInfo()\n",
    "    lista_vector=[]\n",
    "    for item in lista:\n",
    "        dic = {'geometry':Polygon(item['geometry']['coordinates'][0]), 'count':item['properties']['count'], 'label':item['properties']['label']}\n",
    "        lista_vector.append(dic)\n",
    "    \n",
    "    vector_local = gpd.GeoDataFrame(lista_vector)\n",
    "    \n",
    "    intersect = overlay(lotes_local, vector_local, how=\"intersection\")\n",
    "    intersect.crs = \"EPSG:4326\"\n",
    "    intersect = intersect.to_crs(epsg=32720)\n",
    "    intersect['area_2'] = intersect['geometry'].area/10000\n",
    "    \n",
    "    area_01 = intersect['area_2'].sum()\n",
    "    area_02 = lotes_local[SUPERFICIE].sum()\n",
    "    area_diff = (area_02 - area_01)/len(intersect)\n",
    "    intersect['area_2'] = intersect['area_2'] + area_diff\n",
    "    \n",
    "    DF = intersect.copy()\n",
    "    dina = pd.pivot_table(DF, values='area_2', index=[CODIGO_PROPIEDAD, NOM_PROPIEDAD, CODIGO_CANHERO, NOM_CANHERO, 'label'], aggfunc=np.sum)\n",
    "    dina2 = dina.reset_index()\n",
    "    \n",
    "    dina2['tch'] = dina2['label'].apply(asig_cat)\n",
    "    \n",
    "    # Cargar el archivo de Excel existente\n",
    "    wb = openpyxl.load_workbook('DATA_EST.xlsx')\n",
    "    # Seleccionar la hoja de trabajo\n",
    "    ws = wb['data']\n",
    "    \n",
    "    for i in range(0, len(dina2)):\n",
    "        new_row = [dina2.iloc[i,0], dina2.iloc[i,1], dina2.iloc[i,2], dina2.iloc[i,3], dina2.iloc[i,4], dina2.iloc[i,5], dina2.iloc[i,6]]\n",
    "        ws.append(new_row)\n",
    "    wb.save('DATA_EST.xlsx')\n",
    "    \n",
    "    df_intersects = pd.concat([df_intersects, DF], ignore_index=True)\n",
    "    \n",
    "    contador = contador + 1 \n",
    "    print('fin: ', cod_prop)\n",
    "    print('___________________CONTADOR: ', contador)\n",
    "    \n",
    "print('FIN......!')"
   ]
  },
  {
   "cell_type": "code",
   "execution_count": null,
   "id": "bb99502a-58b7-4109-a413-f4ed99939c86",
   "metadata": {},
   "outputs": [],
   "source": []
  },
  {
   "cell_type": "code",
   "execution_count": null,
   "id": "57abe850-d965-4772-a8c0-7e61d2e1b36f",
   "metadata": {},
   "outputs": [],
   "source": []
  },
  {
   "cell_type": "code",
   "execution_count": null,
   "id": "f4cbfa63-5aef-471f-8be3-295a3631b10e",
   "metadata": {},
   "outputs": [],
   "source": []
  },
  {
   "cell_type": "code",
   "execution_count": 28,
   "id": "c9040edd-6d0e-408e-ad64-146e3ee65856",
   "metadata": {},
   "outputs": [
    {
     "data": {
      "text/plain": [
       "994870"
      ]
     },
     "execution_count": 28,
     "metadata": {},
     "output_type": "execute_result"
    }
   ],
   "source": [
    "len(df_intersects)"
   ]
  },
  {
   "cell_type": "code",
   "execution_count": 29,
   "id": "b3c7b8ea-a343-4079-b902-9facb872dfc4",
   "metadata": {},
   "outputs": [],
   "source": [
    "df_intersects.to_file(\"INTERSECT_2.shp\", driver=\"ESRI Shapefile\")"
   ]
  },
  {
   "cell_type": "code",
   "execution_count": 30,
   "id": "e2ac85fd-ef61-4cbc-97a2-3539526758fc",
   "metadata": {},
   "outputs": [
    {
     "data": {
      "text/plain": [
       "53831.04929635873"
      ]
     },
     "execution_count": 30,
     "metadata": {},
     "output_type": "execute_result"
    }
   ],
   "source": [
    "df_intersects['area_2'].sum()"
   ]
  },
  {
   "cell_type": "code",
   "execution_count": 337,
   "id": "9eaa130b-8050-47a1-b8ab-e6477de20321",
   "metadata": {},
   "outputs": [],
   "source": []
  },
  {
   "cell_type": "code",
   "execution_count": 338,
   "id": "2887bb9e-180d-4e30-acbb-d9f0281ed14b",
   "metadata": {},
   "outputs": [],
   "source": []
  },
  {
   "cell_type": "code",
   "execution_count": 339,
   "id": "e01c2bb2-3aa2-47ed-a1ad-1ed8e94555a2",
   "metadata": {},
   "outputs": [],
   "source": []
  },
  {
   "cell_type": "code",
   "execution_count": null,
   "id": "a628b226-1ff6-4423-821f-48a4473fca21",
   "metadata": {},
   "outputs": [],
   "source": []
  },
  {
   "cell_type": "code",
   "execution_count": null,
   "id": "a2aa7bd9-93e4-49c9-95aa-f789ea99a3d0",
   "metadata": {},
   "outputs": [],
   "source": []
  },
  {
   "cell_type": "code",
   "execution_count": null,
   "id": "9747a856-d0a1-41fa-9ef7-8edf8a612092",
   "metadata": {},
   "outputs": [],
   "source": []
  },
  {
   "cell_type": "code",
   "execution_count": null,
   "id": "23a4c69d-37a1-4d7d-a1a8-1aa8e2aac30d",
   "metadata": {},
   "outputs": [],
   "source": []
  },
  {
   "cell_type": "code",
   "execution_count": null,
   "id": "be51634b-863c-4f46-b90b-ae4e5e2235cd",
   "metadata": {},
   "outputs": [],
   "source": []
  },
  {
   "cell_type": "code",
   "execution_count": null,
   "id": "dbd2a2c0-a2ab-490e-9610-550c39c45b48",
   "metadata": {},
   "outputs": [],
   "source": []
  },
  {
   "cell_type": "code",
   "execution_count": null,
   "id": "3d2d31ed-b6f4-46bc-bb75-7319d2c3ffaa",
   "metadata": {},
   "outputs": [],
   "source": []
  },
  {
   "cell_type": "code",
   "execution_count": null,
   "id": "d7ee171b-e6d0-4ecb-941d-95d0d11163ab",
   "metadata": {},
   "outputs": [],
   "source": []
  }
 ],
 "metadata": {
  "kernelspec": {
   "display_name": "Python 3 (ipykernel)",
   "language": "python",
   "name": "python3"
  },
  "language_info": {
   "codemirror_mode": {
    "name": "ipython",
    "version": 3
   },
   "file_extension": ".py",
   "mimetype": "text/x-python",
   "name": "python",
   "nbconvert_exporter": "python",
   "pygments_lexer": "ipython3",
   "version": "3.7.16"
  }
 },
 "nbformat": 4,
 "nbformat_minor": 5
}
