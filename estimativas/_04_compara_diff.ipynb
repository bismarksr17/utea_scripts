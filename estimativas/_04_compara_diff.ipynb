{
 "cells": [
  {
   "cell_type": "code",
   "execution_count": 118,
   "id": "a00f5eb2-9286-4ba8-8ead-f52a095a513f",
   "metadata": {},
   "outputs": [],
   "source": [
    "import sys\n",
    "sys.path.append('../')"
   ]
  },
  {
   "cell_type": "code",
   "execution_count": 119,
   "id": "66debe25-c173-471d-8c19-fffd20eb7ccd",
   "metadata": {},
   "outputs": [],
   "source": [
    "import pandas as pd\n",
    "import geopandas as gpd\n",
    "from sqlalchemy import create_engine, MetaData, Table, text\n",
    "\n",
    "from config import RUTA_UNIDAD_ONE_DRIVE\n",
    "from config import RUTA_LOCAL_ONE_DRIVE\n",
    "from config import POSTGRES_UTEA"
   ]
  },
  {
   "cell_type": "code",
   "execution_count": 120,
   "id": "1c4adf2f-d9c8-4aa4-9fed-0c99148c1c98",
   "metadata": {},
   "outputs": [],
   "source": [
    "USER_DB = POSTGRES_UTEA['USER']\n",
    "PASS_DB = POSTGRES_UTEA['PASSWORD']\n",
    "HOST_DB = POSTGRES_UTEA['HOST']\n",
    "PORT_DB = POSTGRES_UTEA['PORT']\n",
    "NAME_DB = POSTGRES_UTEA['DATABASE']\n",
    "\n",
    "ENGINE = create_engine(f'postgresql+psycopg://{USER_DB}:{PASS_DB}@{HOST_DB}:{PORT_DB}/{NAME_DB}')\n",
    "\n",
    "PATH_OUTPUT = r'G:\\Ingenio Azucarero Guabira S.A\\UTEA - SEMANAL - AVANCE COSECHA\\2025\\ESTIMATIVAS\\V06'\n",
    "\n",
    "metadata = MetaData()"
   ]
  },
  {
   "cell_type": "code",
   "execution_count": 121,
   "id": "449a49ab-cbdd-4632-b5b4-7887cfa8db94",
   "metadata": {},
   "outputs": [],
   "source": [
    "# obtiene un resumen de la capa de estimativa (idd - area)\n",
    "def get_resumen_estimativa():\n",
    "    try:\n",
    "        query = \"select cast(unidad_01 as text) || '|' || cast(unidad_03 as text) || '|' || unidad_05 as idd, sum(area) as area from catastro_iag.estimativa group by idd\"\n",
    "        df = pd.read_sql(query, ENGINE)\n",
    "        return df\n",
    "    except Exception as e:\n",
    "        print(\"❌ Error al leer datos de COSECHA 2025:\", e)\n",
    "        return pd.DataFrame()\n",
    "    return None\n",
    "\n",
    "# obtiene un resumen de la capa de estimativa (idd - area)\n",
    "def get_resumen_cosecha():\n",
    "    try:\n",
    "        query = \"select cast(unidad_01 as text) || '|' || cast(unidad_03 as text) || '|' || unidad_05 as idd, sum(area) as area from catastro_iag.cosecha_2025 group by idd\"\n",
    "        df = pd.read_sql(query, ENGINE)\n",
    "        return df\n",
    "    except Exception as e:\n",
    "        print(\"❌ Error al leer datos de COSECHA 2025:\", e)\n",
    "        return pd.DataFrame()\n",
    "    return None\n",
    "\n",
    "def eliminar_propiedad_db(cod_prop):\n",
    "    \"\"\"\n",
    "    Elimina registros con el cod_prop enviado de la tabla estimativa\n",
    "    \"\"\"\n",
    "\n",
    "    sql_query = text(f\"\"\"\n",
    "        DELETE FROM catastro_iag.estimativa\n",
    "        WHERE unidad_01 = :cod_prop\n",
    "    \"\"\")\n",
    "\n",
    "    try:\n",
    "        with ENGINE.connect() as conn:\n",
    "            result = conn.execute(sql_query, {\"cod_prop\": cod_prop})\n",
    "            conn.commit()  # Asegura que se guarden los cambios\n",
    "        print(f\"Se eliminaron {result.rowcount} registros de la propiedad: {cod_prop}\")\n",
    "        return result.rowcount\n",
    "    except Exception as e:\n",
    "        print(f\"Error al ejecutar la eliminación: {e}\")\n",
    "        return None\n",
    "    \n"
   ]
  },
  {
   "cell_type": "code",
   "execution_count": 123,
   "id": "b743f793-b87d-4b38-88a4-5a46de926044",
   "metadata": {},
   "outputs": [
    {
     "name": "stdout",
     "output_type": "stream",
     "text": [
      "Total Resumen Estimativa: 55357.27726918646\n",
      "Total Resumen SHPCosecha: 55355.09888906363\n"
     ]
    }
   ],
   "source": [
    "resumen_estimativa = get_resumen_estimativa()\n",
    "resumen_cosecha = get_resumen_cosecha()\n",
    "\n",
    "print('Total Resumen Estimativa:', resumen_estimativa['area'].sum())\n",
    "print('Total Resumen SHPCosecha:', resumen_cosecha['area'].sum())"
   ]
  },
  {
   "cell_type": "code",
   "execution_count": 124,
   "id": "0bdf09d0-b08e-4685-b28a-c104b7630294",
   "metadata": {},
   "outputs": [
    {
     "name": "stdout",
     "output_type": "stream",
     "text": [
      "No existen lotes que esten en ESTIMATIVAS y no en SHP COSECHA\n"
     ]
    }
   ],
   "source": [
    "# identifiar lotes que estan en ESTIMATIVAS y no en SHP_Cosecha\n",
    "faltantes = resumen_estimativa[~resumen_estimativa['idd'].isin(resumen_cosecha['idd'])].copy()\n",
    "if len(faltantes) > 0:\n",
    "    # Dividir la columna idd en 3 columnas nuevas ('unidad_01', 'unidad_03', 'unidad_05')\n",
    "    faltantes[['unidad_01', 'unidad_03', 'unidad_05']] = faltantes['idd'].str.split('|', expand=True)\n",
    "    # extraer lista de unicos de codigos de propiedad\n",
    "    codigos_prop = list(set(faltantes['unidad_01']))\n",
    "    # convertir lista de str a int\n",
    "    codigos_prop = [int(i) for i in codigos_prop]\n",
    "    codigos_prop.sort()\n",
    "    codigos_prop\n",
    "else:\n",
    "    codigos_prop = []\n",
    "    print('No existen lotes que esten en ESTIMATIVAS y no en SHP COSECHA')"
   ]
  },
  {
   "cell_type": "code",
   "execution_count": 125,
   "id": "04f4ca76-a6a2-457f-9365-253799b4d686",
   "metadata": {},
   "outputs": [],
   "source": [
    "for i in codigos_prop:\n",
    "    eliminar_propiedad_db(i)"
   ]
  },
  {
   "cell_type": "code",
   "execution_count": null,
   "id": "f546ac5b-5beb-4c21-8db9-66770e98802a",
   "metadata": {},
   "outputs": [],
   "source": []
  },
  {
   "cell_type": "code",
   "execution_count": null,
   "id": "1984adaf-02c0-43e5-90ae-2b219d05aac2",
   "metadata": {},
   "outputs": [],
   "source": []
  },
  {
   "cell_type": "code",
   "execution_count": null,
   "id": "1933e664-8e7d-4477-8e5c-6f3177bccdcc",
   "metadata": {},
   "outputs": [],
   "source": []
  },
  {
   "cell_type": "code",
   "execution_count": null,
   "id": "ff2f15e5-0a6f-46fe-92e4-86dc6ec76f13",
   "metadata": {},
   "outputs": [],
   "source": []
  },
  {
   "cell_type": "code",
   "execution_count": null,
   "id": "06bbaa81-a551-4682-8820-03ec0d66b321",
   "metadata": {},
   "outputs": [],
   "source": []
  },
  {
   "cell_type": "code",
   "execution_count": null,
   "id": "1a9ae58a-2a00-43fc-a7a5-45cb1aaf8fea",
   "metadata": {},
   "outputs": [],
   "source": []
  },
  {
   "cell_type": "code",
   "execution_count": 126,
   "id": "023c56e4-79a5-436c-9577-3a0b350e34da",
   "metadata": {},
   "outputs": [
    {
     "name": "stdout",
     "output_type": "stream",
     "text": [
      "Total Resumen Estimativa: 55357.27726918646\n",
      "Total Resumen SHPCosecha: 55355.09888906363\n"
     ]
    }
   ],
   "source": [
    "resumen_estimativa = get_resumen_estimativa()\n",
    "resumen_cosecha = get_resumen_cosecha()\n",
    "\n",
    "print('Total Resumen Estimativa:', resumen_estimativa['area'].sum())\n",
    "print('Total Resumen SHPCosecha:', resumen_cosecha['area'].sum())"
   ]
  },
  {
   "cell_type": "code",
   "execution_count": 127,
   "id": "cff099b5-c410-4dd0-b339-6a01a5544a14",
   "metadata": {},
   "outputs": [
    {
     "name": "stdout",
     "output_type": "stream",
     "text": [
      "No existen lotes que esten en SHP COSEHCA y no en ESTIMATIVA\n"
     ]
    }
   ],
   "source": [
    "# identifiar lotes que estan en ESTIMATIVAS y no en SHP_Cosecha\n",
    "faltantes = resumen_cosecha[~resumen_cosecha['idd'].isin(resumen_estimativa['idd'])].copy()\n",
    "if len(faltantes) > 0:\n",
    "    # Dividir la columna idd en 3 columnas nuevas ('unidad_01', 'unidad_03', 'unidad_05')\n",
    "    faltantes[['unidad_01', 'unidad_03', 'unidad_05']] = faltantes['idd'].str.split('|', expand=True)\n",
    "    # extraer lista de unicos de codigos de propiedad\n",
    "    codigos_prop = list(set(faltantes['unidad_01']))\n",
    "    # convertir lista de str a int\n",
    "    codigos_prop = [int(i) for i in codigos_prop]\n",
    "    codigos_prop.sort()\n",
    "    codigos_prop\n",
    "else:\n",
    "    codigos_prop = []\n",
    "    print('No existen lotes que esten en SHP COSEHCA y no en ESTIMATIVA')"
   ]
  },
  {
   "cell_type": "code",
   "execution_count": 128,
   "id": "63247b5c-db2c-4ce8-baae-ad2518ec8e07",
   "metadata": {},
   "outputs": [
    {
     "data": {
      "text/plain": [
       "[]"
      ]
     },
     "execution_count": 128,
     "metadata": {},
     "output_type": "execute_result"
    }
   ],
   "source": [
    "codigos_prop"
   ]
  },
  {
   "cell_type": "code",
   "execution_count": 129,
   "id": "d902f337-34bf-405a-8052-2bae89de427c",
   "metadata": {},
   "outputs": [],
   "source": [
    "for i in codigos_prop:\n",
    "    eliminar_propiedad_db(i)"
   ]
  },
  {
   "cell_type": "code",
   "execution_count": null,
   "id": "4411e311-f498-4a14-b63e-97103bbf5d70",
   "metadata": {},
   "outputs": [],
   "source": []
  },
  {
   "cell_type": "code",
   "execution_count": null,
   "id": "112fe80c-d2a1-4a9d-a4d7-f3b39d4f9d59",
   "metadata": {},
   "outputs": [],
   "source": []
  },
  {
   "cell_type": "code",
   "execution_count": null,
   "id": "6cccfaff-8340-4b76-90af-87d7dfca5e33",
   "metadata": {},
   "outputs": [],
   "source": []
  },
  {
   "cell_type": "code",
   "execution_count": null,
   "id": "6af54612-e29f-46c5-b3cd-3e00b811deee",
   "metadata": {},
   "outputs": [],
   "source": []
  },
  {
   "cell_type": "code",
   "execution_count": null,
   "id": "ea86b5fe-e771-496f-8b24-3f065b534881",
   "metadata": {},
   "outputs": [],
   "source": []
  },
  {
   "cell_type": "code",
   "execution_count": null,
   "id": "f7483c95-14e6-4c29-84b1-1daabb226a2d",
   "metadata": {},
   "outputs": [],
   "source": []
  }
 ],
 "metadata": {
  "kernelspec": {
   "display_name": "Python 3 (ipykernel)",
   "language": "python",
   "name": "python3"
  },
  "language_info": {
   "codemirror_mode": {
    "name": "ipython",
    "version": 3
   },
   "file_extension": ".py",
   "mimetype": "text/x-python",
   "name": "python",
   "nbconvert_exporter": "python",
   "pygments_lexer": "ipython3",
   "version": "3.10.13"
  }
 },
 "nbformat": 4,
 "nbformat_minor": 5
}
