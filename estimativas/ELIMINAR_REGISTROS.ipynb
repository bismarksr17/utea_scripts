{
 "cells": [
  {
   "cell_type": "code",
   "execution_count": 16,
   "id": "ee1e4417-d875-49f0-b246-95800a816dee",
   "metadata": {},
   "outputs": [],
   "source": [
    "import geopandas as gpd\n",
    "import matplotlib.pyplot as plt\n",
    "\n",
    "import pandas as pd\n",
    "import numpy as np\n",
    "from datetime import datetime\n",
    "\n",
    "import os\n",
    "import ipywidgets as widgets\n",
    "\n",
    "import tkinter as tk\n",
    "from tkinter import filedialog as fd"
   ]
  },
  {
   "cell_type": "code",
   "execution_count": 17,
   "id": "581cee5e-8bd9-4f6e-b2c3-a4ff0fc7ad78",
   "metadata": {},
   "outputs": [
    {
     "data": {
      "text/plain": [
       "19"
      ]
     },
     "execution_count": 17,
     "metadata": {},
     "output_type": "execute_result"
    }
   ],
   "source": [
    "# lista de cod_prop a eliminar, ya que fueron eliminados desde el anterior catastro\n",
    "lista_eliminar = [592, 1483, 1482, 1480, 1634, 225, 429, 1454, 249, 1067, 92, 114, 915, 910, 20, 136, 1624, 1625, 1626]\n",
    "\n",
    "len(lista_eliminar)"
   ]
  },
  {
   "cell_type": "markdown",
   "id": "67a4b9a7-8b10-4513-88c2-d7b7d0e9ffc5",
   "metadata": {},
   "source": [
    "## Eliminar propiedades modificadas o eliminidas del DATA_EST.xlsx"
   ]
  },
  {
   "cell_type": "code",
   "execution_count": 18,
   "id": "69eafdbd-7a27-43ea-a7ad-3e84db203dd7",
   "metadata": {},
   "outputs": [],
   "source": [
    "data_est = pd.read_excel('DATA_EST.xlsx')"
   ]
  },
  {
   "cell_type": "code",
   "execution_count": 19,
   "id": "81c641fe-7082-4593-be9b-00e9a91b605a",
   "metadata": {},
   "outputs": [
    {
     "data": {
      "text/plain": [
       "53823.688764604995"
      ]
     },
     "execution_count": 19,
     "metadata": {},
     "output_type": "execute_result"
    }
   ],
   "source": [
    "data_est['area'].sum()"
   ]
  },
  {
   "cell_type": "code",
   "execution_count": 20,
   "id": "31cfcfdf-5369-44f6-8eb8-989f3d7eb649",
   "metadata": {},
   "outputs": [
    {
     "data": {
      "text/html": [
       "<div>\n",
       "<style scoped>\n",
       "    .dataframe tbody tr th:only-of-type {\n",
       "        vertical-align: middle;\n",
       "    }\n",
       "\n",
       "    .dataframe tbody tr th {\n",
       "        vertical-align: top;\n",
       "    }\n",
       "\n",
       "    .dataframe thead th {\n",
       "        text-align: right;\n",
       "    }\n",
       "</style>\n",
       "<table border=\"1\" class=\"dataframe\">\n",
       "  <thead>\n",
       "    <tr style=\"text-align: right;\">\n",
       "      <th></th>\n",
       "      <th>cod_prop</th>\n",
       "      <th>nom_prop</th>\n",
       "      <th>cod_ca</th>\n",
       "      <th>nom_ca</th>\n",
       "      <th>categoria</th>\n",
       "      <th>area</th>\n",
       "    </tr>\n",
       "  </thead>\n",
       "  <tbody>\n",
       "    <tr>\n",
       "      <th>0</th>\n",
       "      <td>304</td>\n",
       "      <td>MONTES_CLAROS--BRAULIO_NUÑEZ</td>\n",
       "      <td>9278</td>\n",
       "      <td>NUNEZ_MARTINEZ_BRAULIO</td>\n",
       "      <td>1</td>\n",
       "      <td>2.651928</td>\n",
       "    </tr>\n",
       "    <tr>\n",
       "      <th>1</th>\n",
       "      <td>304</td>\n",
       "      <td>MONTES_CLAROS--BRAULIO_NUÑEZ</td>\n",
       "      <td>9278</td>\n",
       "      <td>NUNEZ_MARTINEZ_BRAULIO</td>\n",
       "      <td>2</td>\n",
       "      <td>8.742085</td>\n",
       "    </tr>\n",
       "    <tr>\n",
       "      <th>2</th>\n",
       "      <td>304</td>\n",
       "      <td>MONTES_CLAROS--BRAULIO_NUÑEZ</td>\n",
       "      <td>9278</td>\n",
       "      <td>NUNEZ_MARTINEZ_BRAULIO</td>\n",
       "      <td>3</td>\n",
       "      <td>11.546216</td>\n",
       "    </tr>\n",
       "    <tr>\n",
       "      <th>3</th>\n",
       "      <td>304</td>\n",
       "      <td>MONTES_CLAROS--BRAULIO_NUÑEZ</td>\n",
       "      <td>9278</td>\n",
       "      <td>NUNEZ_MARTINEZ_BRAULIO</td>\n",
       "      <td>4</td>\n",
       "      <td>12.945301</td>\n",
       "    </tr>\n",
       "    <tr>\n",
       "      <th>4</th>\n",
       "      <td>304</td>\n",
       "      <td>MONTES_CLAROS--BRAULIO_NUÑEZ</td>\n",
       "      <td>9278</td>\n",
       "      <td>NUNEZ_MARTINEZ_BRAULIO</td>\n",
       "      <td>5</td>\n",
       "      <td>18.101089</td>\n",
       "    </tr>\n",
       "  </tbody>\n",
       "</table>\n",
       "</div>"
      ],
      "text/plain": [
       "   cod_prop                      nom_prop  cod_ca                  nom_ca  \\\n",
       "0       304  MONTES_CLAROS--BRAULIO_NUÑEZ    9278  NUNEZ_MARTINEZ_BRAULIO   \n",
       "1       304  MONTES_CLAROS--BRAULIO_NUÑEZ    9278  NUNEZ_MARTINEZ_BRAULIO   \n",
       "2       304  MONTES_CLAROS--BRAULIO_NUÑEZ    9278  NUNEZ_MARTINEZ_BRAULIO   \n",
       "3       304  MONTES_CLAROS--BRAULIO_NUÑEZ    9278  NUNEZ_MARTINEZ_BRAULIO   \n",
       "4       304  MONTES_CLAROS--BRAULIO_NUÑEZ    9278  NUNEZ_MARTINEZ_BRAULIO   \n",
       "\n",
       "   categoria       area  \n",
       "0          1   2.651928  \n",
       "1          2   8.742085  \n",
       "2          3  11.546216  \n",
       "3          4  12.945301  \n",
       "4          5  18.101089  "
      ]
     },
     "execution_count": 20,
     "metadata": {},
     "output_type": "execute_result"
    }
   ],
   "source": [
    "data_est.head()"
   ]
  },
  {
   "cell_type": "code",
   "execution_count": 21,
   "id": "4edd5341-065c-40b9-b7d3-1e3450027d20",
   "metadata": {},
   "outputs": [],
   "source": [
    "for i in lista_eliminar:\n",
    "    data_est = data_est.drop(data_est[data_est['cod_prop'] == i].index)"
   ]
  },
  {
   "cell_type": "code",
   "execution_count": 22,
   "id": "ca1ba8d8-7f4d-4fed-99c1-7c41470f4a1c",
   "metadata": {},
   "outputs": [
    {
     "data": {
      "text/plain": [
       "50814.078764605"
      ]
     },
     "execution_count": 22,
     "metadata": {},
     "output_type": "execute_result"
    }
   ],
   "source": [
    "data_est['area'].sum()"
   ]
  },
  {
   "cell_type": "code",
   "execution_count": 23,
   "id": "499b5ed5-001b-49e0-8e1b-b9993c08b55b",
   "metadata": {},
   "outputs": [],
   "source": [
    "data_est.to_excel('DATA_EST_2.xlsx')"
   ]
  },
  {
   "cell_type": "markdown",
   "id": "c78453bd-297a-448c-877c-1107f0b90906",
   "metadata": {},
   "source": [
    "## Eliminar propiedades modificadas o eliminadas del INTERSECT.SHP"
   ]
  },
  {
   "cell_type": "code",
   "execution_count": 24,
   "id": "d6ee2eac-59a3-4e94-bfe7-a28cb8d07a66",
   "metadata": {},
   "outputs": [],
   "source": [
    "intersect = gpd.read_file('INTERSECT.shp')"
   ]
  },
  {
   "cell_type": "code",
   "execution_count": 25,
   "id": "7075c7bd-7d54-4391-a538-8125c74d070d",
   "metadata": {},
   "outputs": [
    {
     "data": {
      "text/html": [
       "<div>\n",
       "<style scoped>\n",
       "    .dataframe tbody tr th:only-of-type {\n",
       "        vertical-align: middle;\n",
       "    }\n",
       "\n",
       "    .dataframe tbody tr th {\n",
       "        vertical-align: top;\n",
       "    }\n",
       "\n",
       "    .dataframe thead th {\n",
       "        text-align: right;\n",
       "    }\n",
       "</style>\n",
       "<table border=\"1\" class=\"dataframe\">\n",
       "  <thead>\n",
       "    <tr style=\"text-align: right;\">\n",
       "      <th></th>\n",
       "      <th>area</th>\n",
       "      <th>cultivo</th>\n",
       "      <th>fecha</th>\n",
       "      <th>financia</th>\n",
       "      <th>id</th>\n",
       "      <th>soca</th>\n",
       "      <th>textura</th>\n",
       "      <th>unidad_01</th>\n",
       "      <th>unidad_02</th>\n",
       "      <th>unidad_03</th>\n",
       "      <th>...</th>\n",
       "      <th>unidad_05</th>\n",
       "      <th>variedad</th>\n",
       "      <th>zona</th>\n",
       "      <th>count</th>\n",
       "      <th>label</th>\n",
       "      <th>area_2</th>\n",
       "      <th>COD</th>\n",
       "      <th>cod_prop</th>\n",
       "      <th>fs</th>\n",
       "      <th>geometry</th>\n",
       "    </tr>\n",
       "  </thead>\n",
       "  <tbody>\n",
       "    <tr>\n",
       "      <th>0</th>\n",
       "      <td>25.94</td>\n",
       "      <td>canha</td>\n",
       "      <td>10/06/14</td>\n",
       "      <td>None</td>\n",
       "      <td>00003040000L1</td>\n",
       "      <td>8</td>\n",
       "      <td>FA</td>\n",
       "      <td>304</td>\n",
       "      <td>MONTES_CLAROS--BRAULIO_NUÑEZ</td>\n",
       "      <td>9278</td>\n",
       "      <td>...</td>\n",
       "      <td>L1</td>\n",
       "      <td>RBB_77-26</td>\n",
       "      <td>1</td>\n",
       "      <td>1</td>\n",
       "      <td>7</td>\n",
       "      <td>0.001906</td>\n",
       "      <td>304.0</td>\n",
       "      <td>NaN</td>\n",
       "      <td>NaN</td>\n",
       "      <td>POLYGON ((450074.799 8103440.000, 450073.230 8...</td>\n",
       "    </tr>\n",
       "    <tr>\n",
       "      <th>1</th>\n",
       "      <td>25.94</td>\n",
       "      <td>canha</td>\n",
       "      <td>10/06/14</td>\n",
       "      <td>None</td>\n",
       "      <td>00003040000L1</td>\n",
       "      <td>8</td>\n",
       "      <td>FA</td>\n",
       "      <td>304</td>\n",
       "      <td>MONTES_CLAROS--BRAULIO_NUÑEZ</td>\n",
       "      <td>9278</td>\n",
       "      <td>...</td>\n",
       "      <td>L1</td>\n",
       "      <td>RBB_77-26</td>\n",
       "      <td>1</td>\n",
       "      <td>5</td>\n",
       "      <td>7</td>\n",
       "      <td>0.045921</td>\n",
       "      <td>304.0</td>\n",
       "      <td>NaN</td>\n",
       "      <td>NaN</td>\n",
       "      <td>POLYGON ((450090.000 8103410.000, 450090.000 8...</td>\n",
       "    </tr>\n",
       "    <tr>\n",
       "      <th>2</th>\n",
       "      <td>25.94</td>\n",
       "      <td>canha</td>\n",
       "      <td>10/06/14</td>\n",
       "      <td>None</td>\n",
       "      <td>00003040000L1</td>\n",
       "      <td>8</td>\n",
       "      <td>FA</td>\n",
       "      <td>304</td>\n",
       "      <td>MONTES_CLAROS--BRAULIO_NUÑEZ</td>\n",
       "      <td>9278</td>\n",
       "      <td>...</td>\n",
       "      <td>L1</td>\n",
       "      <td>RBB_77-26</td>\n",
       "      <td>1</td>\n",
       "      <td>8</td>\n",
       "      <td>8</td>\n",
       "      <td>0.070422</td>\n",
       "      <td>304.0</td>\n",
       "      <td>NaN</td>\n",
       "      <td>NaN</td>\n",
       "      <td>POLYGON ((450081.075 8103400.000, 450080.000 8...</td>\n",
       "    </tr>\n",
       "  </tbody>\n",
       "</table>\n",
       "<p>3 rows × 21 columns</p>\n",
       "</div>"
      ],
      "text/plain": [
       "    area cultivo     fecha financia             id  soca textura  unidad_01  \\\n",
       "0  25.94   canha  10/06/14     None  00003040000L1     8      FA        304   \n",
       "1  25.94   canha  10/06/14     None  00003040000L1     8      FA        304   \n",
       "2  25.94   canha  10/06/14     None  00003040000L1     8      FA        304   \n",
       "\n",
       "                      unidad_02  unidad_03  ... unidad_05   variedad zona  \\\n",
       "0  MONTES_CLAROS--BRAULIO_NUÑEZ       9278  ...        L1  RBB_77-26    1   \n",
       "1  MONTES_CLAROS--BRAULIO_NUÑEZ       9278  ...        L1  RBB_77-26    1   \n",
       "2  MONTES_CLAROS--BRAULIO_NUÑEZ       9278  ...        L1  RBB_77-26    1   \n",
       "\n",
       "   count  label    area_2    COD  cod_prop  fs  \\\n",
       "0      1      7  0.001906  304.0       NaN NaN   \n",
       "1      5      7  0.045921  304.0       NaN NaN   \n",
       "2      8      8  0.070422  304.0       NaN NaN   \n",
       "\n",
       "                                            geometry  \n",
       "0  POLYGON ((450074.799 8103440.000, 450073.230 8...  \n",
       "1  POLYGON ((450090.000 8103410.000, 450090.000 8...  \n",
       "2  POLYGON ((450081.075 8103400.000, 450080.000 8...  \n",
       "\n",
       "[3 rows x 21 columns]"
      ]
     },
     "execution_count": 25,
     "metadata": {},
     "output_type": "execute_result"
    }
   ],
   "source": [
    "intersect.head(3)"
   ]
  },
  {
   "cell_type": "code",
   "execution_count": 26,
   "id": "b458c888-37f7-401a-957b-6206b3ced546",
   "metadata": {},
   "outputs": [
    {
     "data": {
      "text/plain": [
       "53698.528849798335"
      ]
     },
     "execution_count": 26,
     "metadata": {},
     "output_type": "execute_result"
    }
   ],
   "source": [
    "intersect['area_2'].sum()"
   ]
  },
  {
   "cell_type": "code",
   "execution_count": 27,
   "id": "2e102bd6-ad92-4e0a-9930-c475656ad523",
   "metadata": {},
   "outputs": [],
   "source": [
    "for i in lista_eliminar:\n",
    "    intersect = intersect.drop(intersect[intersect['unidad_01'] == i].index)"
   ]
  },
  {
   "cell_type": "code",
   "execution_count": 29,
   "id": "b7973107-3f64-41a7-83c4-fbc399a8659e",
   "metadata": {},
   "outputs": [
    {
     "data": {
      "text/html": [
       "<div>\n",
       "<style scoped>\n",
       "    .dataframe tbody tr th:only-of-type {\n",
       "        vertical-align: middle;\n",
       "    }\n",
       "\n",
       "    .dataframe tbody tr th {\n",
       "        vertical-align: top;\n",
       "    }\n",
       "\n",
       "    .dataframe thead th {\n",
       "        text-align: right;\n",
       "    }\n",
       "</style>\n",
       "<table border=\"1\" class=\"dataframe\">\n",
       "  <thead>\n",
       "    <tr style=\"text-align: right;\">\n",
       "      <th></th>\n",
       "      <th>area</th>\n",
       "      <th>cultivo</th>\n",
       "      <th>fecha</th>\n",
       "      <th>financia</th>\n",
       "      <th>id</th>\n",
       "      <th>soca</th>\n",
       "      <th>textura</th>\n",
       "      <th>unidad_01</th>\n",
       "      <th>unidad_02</th>\n",
       "      <th>unidad_03</th>\n",
       "      <th>...</th>\n",
       "      <th>unidad_05</th>\n",
       "      <th>variedad</th>\n",
       "      <th>zona</th>\n",
       "      <th>count</th>\n",
       "      <th>label</th>\n",
       "      <th>area_2</th>\n",
       "      <th>COD</th>\n",
       "      <th>cod_prop</th>\n",
       "      <th>fs</th>\n",
       "      <th>geometry</th>\n",
       "    </tr>\n",
       "  </thead>\n",
       "  <tbody>\n",
       "  </tbody>\n",
       "</table>\n",
       "<p>0 rows × 21 columns</p>\n",
       "</div>"
      ],
      "text/plain": [
       "Empty GeoDataFrame\n",
       "Columns: [area, cultivo, fecha, financia, id, soca, textura, unidad_01, unidad_02, unidad_03, unidad_04, unidad_05, variedad, zona, count, label, area_2, COD, cod_prop, fs, geometry]\n",
       "Index: []\n",
       "\n",
       "[0 rows x 21 columns]"
      ]
     },
     "execution_count": 29,
     "metadata": {},
     "output_type": "execute_result"
    }
   ],
   "source": [
    "intersect[intersect['unidad_01']==1483]"
   ]
  },
  {
   "cell_type": "code",
   "execution_count": 30,
   "id": "6fb106ee-5bf5-4534-b0dd-f322882eb589",
   "metadata": {},
   "outputs": [
    {
     "data": {
      "text/plain": [
       "50688.918849798305"
      ]
     },
     "execution_count": 30,
     "metadata": {},
     "output_type": "execute_result"
    }
   ],
   "source": [
    "intersect['area_2'].sum()"
   ]
  },
  {
   "cell_type": "code",
   "execution_count": 31,
   "id": "2f7af83f-db49-408b-b4f6-e2d05ff1f7dd",
   "metadata": {},
   "outputs": [],
   "source": [
    "intersect.to_file(\"INTERSECT_2.shp\", driver=\"ESRI Shapefile\")"
   ]
  },
  {
   "cell_type": "markdown",
   "id": "06dfb808-62ca-4eb1-9061-e1424fd34b11",
   "metadata": {},
   "source": [
    "## Seleccionar porpiedades a procesar"
   ]
  },
  {
   "cell_type": "code",
   "execution_count": 1,
   "id": "4cff9e99-6b1e-4751-8272-223dab7e8617",
   "metadata": {},
   "outputs": [],
   "source": [
    "# se lo realizo con arcmap, se importo los codigo en arcmap, y se hizo join con catastro para select las propiedades a actualizar"
   ]
  },
  {
   "cell_type": "code",
   "execution_count": null,
   "id": "976e8c1f-5571-4ce6-9538-8a75185e4223",
   "metadata": {},
   "outputs": [],
   "source": []
  },
  {
   "cell_type": "code",
   "execution_count": null,
   "id": "6e61c8f4-683e-4a43-9e89-64456b17e67f",
   "metadata": {},
   "outputs": [],
   "source": []
  },
  {
   "cell_type": "code",
   "execution_count": null,
   "id": "1f53733c-7be1-463a-bbd3-ffb849e4f8a4",
   "metadata": {},
   "outputs": [],
   "source": []
  }
 ],
 "metadata": {
  "kernelspec": {
   "display_name": "Python 3 (ipykernel)",
   "language": "python",
   "name": "python3"
  },
  "language_info": {
   "codemirror_mode": {
    "name": "ipython",
    "version": 3
   },
   "file_extension": ".py",
   "mimetype": "text/x-python",
   "name": "python",
   "nbconvert_exporter": "python",
   "pygments_lexer": "ipython3",
   "version": "3.7.13"
  }
 },
 "nbformat": 4,
 "nbformat_minor": 5
}
