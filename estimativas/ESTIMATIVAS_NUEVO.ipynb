{
 "cells": [
  {
   "cell_type": "code",
   "execution_count": 1,
   "id": "711062e5-fe4c-452e-95ff-3eefa7f8ec70",
   "metadata": {},
   "outputs": [],
   "source": [
    "import geopandas as gpd\n",
    "import rasterio\n",
    "from rasterio.mask import mask"
   ]
  },
  {
   "cell_type": "code",
   "execution_count": 2,
   "id": "d246cbe7-a4e0-4b69-9a37-0f519b361782",
   "metadata": {},
   "outputs": [],
   "source": [
    "# Cargar el shapefile que contiene el polígono para el recorte\n",
    "shapefile_path = r'C:\\Test\\LOTE_CAMPODULCE.shp'\n",
    "poligono = gpd.read_file(shapefile_path)"
   ]
  },
  {
   "cell_type": "code",
   "execution_count": 4,
   "id": "f4031816-01dd-47fc-a7a4-4d367e50f1b1",
   "metadata": {},
   "outputs": [],
   "source": [
    "# Cargar el raster (NDVI)\n",
    "raster_path = r'C:\\Users\\bismarksr\\Downloads\\30_CAMPO_DULCE_NDVI_2024-01-27.tif'\n",
    "with rasterio.open(raster_path) as src:\n",
    "    # El polígono debe estar en formato GeoJSON para la función mask\n",
    "    geometrias = [poligono.geometry.values[0].__geo_interface__]\n",
    "    \n",
    "    # Crear la máscara\n",
    "    out_image, out_transform = mask(src, geometrias, crop=True)\n",
    "    \n",
    "    # Copiar los metadatos del raster original para el nuevo archivo\n",
    "    out_meta = src.meta.copy()"
   ]
  },
  {
   "cell_type": "code",
   "execution_count": 6,
   "id": "c91aa6e2-95bc-4931-b006-c526e7141de8",
   "metadata": {},
   "outputs": [],
   "source": [
    "# Actualizar los metadatos para reflejar las nuevas dimensiones y transformación\n",
    "out_meta.update({\"driver\": \"GTiff\",\n",
    "                 \"height\": out_image.shape[1],\n",
    "                 \"width\": out_image.shape[2],\n",
    "                 \"transform\": out_transform})"
   ]
  },
  {
   "cell_type": "code",
   "execution_count": 8,
   "id": "7f7c95c6-d940-4554-a06f-8f5371fdda89",
   "metadata": {},
   "outputs": [],
   "source": [
    "# Guardar el raster recortado en un nuevo archivo\n",
    "output_path = r'C:\\Test\\res.tif'\n",
    "with rasterio.open(output_path, \"w\", **out_meta) as dest:\n",
    "    dest.write(out_image)"
   ]
  },
  {
   "cell_type": "code",
   "execution_count": null,
   "id": "8d408063-8728-4c67-94ab-a1fbde702410",
   "metadata": {},
   "outputs": [],
   "source": []
  },
  {
   "cell_type": "code",
   "execution_count": null,
   "id": "491c6a24-86f6-4b14-b9e2-e3a8e9fd3d2f",
   "metadata": {},
   "outputs": [],
   "source": []
  },
  {
   "cell_type": "code",
   "execution_count": null,
   "id": "fdc1a4ad-30cb-4e98-a4cb-6597856cf475",
   "metadata": {},
   "outputs": [],
   "source": []
  },
  {
   "cell_type": "code",
   "execution_count": null,
   "id": "c08ef220-431e-4109-b035-16086389556a",
   "metadata": {},
   "outputs": [],
   "source": []
  },
  {
   "cell_type": "code",
   "execution_count": null,
   "id": "0240bcca-aeb1-49e1-89ca-f0c729176bc6",
   "metadata": {},
   "outputs": [],
   "source": []
  },
  {
   "cell_type": "code",
   "execution_count": null,
   "id": "29753b30-84d7-47f1-b434-aa6a8ed29865",
   "metadata": {},
   "outputs": [],
   "source": []
  }
 ],
 "metadata": {
  "kernelspec": {
   "display_name": "Python 3 (ipykernel)",
   "language": "python",
   "name": "python3"
  },
  "language_info": {
   "codemirror_mode": {
    "name": "ipython",
    "version": 3
   },
   "file_extension": ".py",
   "mimetype": "text/x-python",
   "name": "python",
   "nbconvert_exporter": "python",
   "pygments_lexer": "ipython3",
   "version": "3.10.13"
  }
 },
 "nbformat": 4,
 "nbformat_minor": 5
}
