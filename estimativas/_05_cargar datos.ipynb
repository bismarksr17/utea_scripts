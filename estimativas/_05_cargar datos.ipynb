{
 "cells": [
  {
   "cell_type": "code",
   "execution_count": 50,
   "id": "0450dd2c-0bf1-412c-b9aa-acc90d026d3c",
   "metadata": {},
   "outputs": [],
   "source": [
    "import sys\n",
    "sys.path.append('../')"
   ]
  },
  {
   "cell_type": "code",
   "execution_count": 51,
   "id": "54ff4a83-11c1-422a-8ae9-3a34b549eee6",
   "metadata": {},
   "outputs": [],
   "source": [
    "import pandas as pd\n",
    "import geopandas as gpd\n",
    "from sqlalchemy import create_engine, MetaData, Table, text\n",
    "\n",
    "from config import RUTA_UNIDAD_ONE_DRIVE\n",
    "from config import RUTA_LOCAL_ONE_DRIVE\n",
    "from config import POSTGRES_UTEA"
   ]
  },
  {
   "cell_type": "code",
   "execution_count": 90,
   "id": "6e3438e0-44c8-4c33-8791-ebf5dc77b97e",
   "metadata": {},
   "outputs": [],
   "source": [
    "USER_DB = POSTGRES_UTEA['USER']\n",
    "PASS_DB = POSTGRES_UTEA['PASSWORD']\n",
    "HOST_DB = POSTGRES_UTEA['HOST']\n",
    "PORT_DB = POSTGRES_UTEA['PORT']\n",
    "NAME_DB = POSTGRES_UTEA['DATABASE']\n",
    "\n",
    "ENGINE = create_engine(f'postgresql+psycopg://{USER_DB}:{PASS_DB}@{HOST_DB}:{PORT_DB}/{NAME_DB}')\n",
    "\n",
    "PATH_GRUPOS_COSECHA = RUTA_UNIDAD_ONE_DRIVE + r'\\Ingenio Azucarero Guabira S.A\\UTEA - SEMANAL - AVANCE COSECHA\\2025\\DATA\\GRUPO_COSECHA.xlsx'\n",
    "PATH_PLAN_ZAFRA = RUTA_UNIDAD_ONE_DRIVE + r'\\Ingenio Azucarero Guabira S.A\\COMPROMISOS ZAFRA 2025 - Documents\\PLAN ZAFRA 2025\\PLAN DE ZAFRA OFICIAL.xlsx'\n",
    "PATH_LAICA = RUTA_UNIDAD_ONE_DRIVE + r'\\Ingenio Azucarero Guabira S.A\\COOR_GERENCIA_CANA - PARTES_LAICA\\LAICA 6_2025.xlsx'\n",
    "\n",
    "metadata = MetaData()"
   ]
  },
  {
   "cell_type": "code",
   "execution_count": 109,
   "id": "7a49a41f-29ae-4007-ab6c-77c711d4a5d0",
   "metadata": {},
   "outputs": [],
   "source": [
    "def cargar_codigos_cosecha():\n",
    "    try:\n",
    "        df = pd.read_excel(PATH_GRUPOS_COSECHA, sheet_name='2025')\n",
    "        df = df[['INS', 'CODIGO CAÑERO', 'NOMBRE CAÑERO', 'GRUPO DE COSECHA', 'DELEGADO']]\n",
    "        df = df.rename(columns={\n",
    "            'INS': 'inst',\n",
    "            'CODIGO CAÑERO': 'cod_ca',\n",
    "            'NOMBRE CAÑERO': 'nom_ca',\n",
    "            'GRUPO DE COSECHA': 'cod_cos',\n",
    "            'DELEGADO': 'delegado'\n",
    "        })\n",
    "        df = df.sort_values(by=['cod_cos', 'inst', 'cod_ca'])\n",
    "        return df\n",
    "    except Exception as e:\n",
    "        print(f\"❌ Error al cargar el archivo: {e}\")\n",
    "        return pd.DataFrame()\n",
    "\n",
    "def cargar_cod_cos_a_db(df):\n",
    "    # Convertir tipos para Postgres\n",
    "    df['inst']     = df['inst'].astype('Int64')\n",
    "    df['cod_ca']   = df['cod_ca'].astype('Int64')\n",
    "    df['cod_cos']  = df['cod_cos'].astype('Int64')\n",
    "    df['nom_ca']   = df['nom_ca'].astype(str)\n",
    "\n",
    "    with ENGINE.begin() as conn:  # Inicia transacción\n",
    "        # Vaciar la tabla y reiniciar secuencia\n",
    "        conn.execute(text(f'TRUNCATE TABLE catastro_iag.codigos_cosecha RESTART IDENTITY'))\n",
    "        \n",
    "        # Insertar nuevos datos\n",
    "        df.to_sql(\n",
    "            name='codigos_cosecha',\n",
    "            con=conn,  # conexión cruda dentro de la transacción\n",
    "            schema='catastro_iag',\n",
    "            if_exists='append',\n",
    "            index=False,\n",
    "            method='multi',\n",
    "            chunksize=1000\n",
    "        )\n",
    "    print(f\"✅ Se ha actualziado la tabla de codigos cosecha\")\n",
    "    \n",
    "def cargar_plan_zafra():\n",
    "    try:\n",
    "        df = pd.read_excel(PATH_PLAN_ZAFRA, sheet_name='BASE CAÑEROS')\n",
    "        df = df[['INST.', 'COD. CAÑERO.1', 'NOMBRE DEL CAÑERO', 'TONELADAS COMPROMISO']]        \n",
    "        df = df.rename(columns={\n",
    "            'INST.': 'inst',\n",
    "            'COD. CAÑERO.1': 'cod_ca',\n",
    "            'NOMBRE DEL CAÑERO': 'nom_ca',\n",
    "            'TONELADAS COMPROMISO': 'compromiso'\n",
    "        })\n",
    "        df = df.sort_values(by=['inst', 'cod_ca'])\n",
    "        return df\n",
    "    except Exception as e:\n",
    "        print(f\"❌ Error al cargar el archivo: {e}\")\n",
    "        return pd.DataFrame()\n",
    "\n",
    "def cargar_plan_zafra_a_db(df):\n",
    "    # Convertir tipos para Postgres\n",
    "    df['inst']     = df['inst'].astype('Int64')\n",
    "    df['cod_ca']   = df['cod_ca'].astype('Int64')\n",
    "    df['nom_ca']   = df['nom_ca'].astype(str)\n",
    "    with ENGINE.begin() as conn:  # Inicia transacción\n",
    "        # Vaciar la tabla y reiniciar secuencia\n",
    "        conn.execute(text(f'TRUNCATE TABLE catastro_iag.plan_zafra RESTART IDENTITY'))\n",
    "        \n",
    "        # Insertar nuevos datos\n",
    "        df.to_sql(\n",
    "            name='plan_zafra',\n",
    "            con=conn,  # conexión cruda dentro de la transacción\n",
    "            schema='catastro_iag',\n",
    "            if_exists='append',\n",
    "            index=False,\n",
    "            method='multi',\n",
    "            chunksize=1000\n",
    "        )\n",
    "    print(f\"✅ Se ha actualziado la tabla de plan de zafra\")\n",
    "    \n",
    "def get_resumen_estimativa():\n",
    "    try:\n",
    "        query = \"select unidad_01, unidad_03, categoria, sum(area) as area from catastro_iag.estimativa group by unidad_01, unidad_03, categoria\"\n",
    "        df = pd.read_sql(query, ENGINE)\n",
    "        return df\n",
    "    except Exception as e:\n",
    "        print(\"❌ Error al leer datos de ESTIMATIVA:\", e)\n",
    "        return pd.DataFrame()\n",
    "    return None\n",
    "\n",
    "def cargar_resumen_estimativa_a_db(df):\n",
    "    with ENGINE.begin() as conn:  # Inicia transacción\n",
    "        # Vaciar la tabla y reiniciar secuencia\n",
    "        conn.execute(text(f'TRUNCATE TABLE catastro_iag.data_resumen_estimativa RESTART IDENTITY'))\n",
    "        \n",
    "        # Insertar nuevos datos\n",
    "        df.to_sql(\n",
    "            name='data_resumen_estimativa',\n",
    "            con=conn,  # conexión cruda dentro de la transacción\n",
    "            schema='catastro_iag',\n",
    "            if_exists='append',\n",
    "            index=False,\n",
    "            method='multi',\n",
    "            chunksize=1000\n",
    "        )\n",
    "    print(f\"✅ Se ha actualziado la tabla de resumen estimativa\")\n",
    "    \n",
    "def cargar_laica():\n",
    "    try:\n",
    "        df = pd.read_excel(PATH_LAICA, sheet_name='Datos')\n",
    "        df = df[['Fecha', 'Cod. Cañero', 'Nombre Cañero', 'kg Caña Neta']]        \n",
    "        df = df.rename(columns={\n",
    "            'Fecha': 'fecha',\n",
    "            'Cod. Cañero': 'cod_ca',\n",
    "            'Nombre Cañero': 'nom_ca',\n",
    "            'kg Caña Neta': 'kg_entregado'\n",
    "        })\n",
    "        return df\n",
    "    except Exception as e:\n",
    "        print(f\"❌ Error al cargar el archivo: {e}\")\n",
    "        return pd.DataFrame()\n",
    "\n",
    "def cargar_datos_laica_a_db(df):\n",
    "    \n",
    "    with ENGINE.begin() as conn:  # Inicia transacción\n",
    "        # Vaciar la tabla y reiniciar secuencia\n",
    "        conn.execute(text(f'TRUNCATE TABLE catastro_iag.data_laica RESTART IDENTITY'))\n",
    "        \n",
    "        # Insertar nuevos datos\n",
    "        df.to_sql(\n",
    "            name='data_laica',\n",
    "            con=conn,  # conexión cruda dentro de la transacción\n",
    "            schema='catastro_iag',\n",
    "            if_exists='append',\n",
    "            index=False,\n",
    "            method='multi',\n",
    "            chunksize=1000\n",
    "        )\n",
    "    print(f\"✅ Se ha actualziado la tabla de datos laica\")\n"
   ]
  },
  {
   "cell_type": "code",
   "execution_count": null,
   "id": "edee2535-a65b-4faf-b741-b5c71ac57198",
   "metadata": {},
   "outputs": [],
   "source": []
  },
  {
   "cell_type": "code",
   "execution_count": 55,
   "id": "f2a15a02-2123-4728-a072-1009f3955da7",
   "metadata": {},
   "outputs": [],
   "source": [
    "codigos_cosecha = cargar_codigos_cosecha()\n",
    "cargar_cod_cos_a_db(codigos_cosecha)"
   ]
  },
  {
   "cell_type": "code",
   "execution_count": 78,
   "id": "1d84bfc7-4a64-4ff3-93d0-0c2a3e5b90ea",
   "metadata": {},
   "outputs": [],
   "source": [
    "plan_zafra = cargar_plan_zafra()\n",
    "cargar_plan_zafra_a_db(plan_zafra)"
   ]
  },
  {
   "cell_type": "code",
   "execution_count": 89,
   "id": "902c6ac6-4c77-43fd-b5d0-f74c2421afba",
   "metadata": {},
   "outputs": [
    {
     "name": "stdout",
     "output_type": "stream",
     "text": [
      "✅ Se ha actualziado la tabla de resumen estimativa\n"
     ]
    }
   ],
   "source": [
    "resumen_estimativa = get_resumen_estimativa()\n",
    "cargar_resumen_estimativa_a_db(resumen_estimativa)"
   ]
  },
  {
   "cell_type": "code",
   "execution_count": 110,
   "id": "b4713d54-1537-46ea-b261-5f73a17f789e",
   "metadata": {},
   "outputs": [
    {
     "name": "stdout",
     "output_type": "stream",
     "text": [
      "✅ Se ha actualziado la tabla de datos laica\n"
     ]
    }
   ],
   "source": [
    "datos_laica = cargar_laica()\n",
    "datos_laica['tn_entregado'] = datos_laica['kg_entregado'] / 1000\n",
    "cargar_datos_laica_a_db(datos_laica)"
   ]
  },
  {
   "cell_type": "code",
   "execution_count": 103,
   "id": "6bd5c5b7-202a-445e-a941-145bd8dc2328",
   "metadata": {},
   "outputs": [],
   "source": []
  },
  {
   "cell_type": "code",
   "execution_count": null,
   "id": "f70e3608-f376-4d6b-8f86-6301995decf9",
   "metadata": {},
   "outputs": [],
   "source": []
  },
  {
   "cell_type": "code",
   "execution_count": null,
   "id": "4ec8e8e0-ec8a-4966-b3e5-a0fc610c70cf",
   "metadata": {},
   "outputs": [],
   "source": []
  },
  {
   "cell_type": "code",
   "execution_count": null,
   "id": "00f45f7a-94f6-4a59-b449-71df0eeb3cbf",
   "metadata": {},
   "outputs": [],
   "source": []
  }
 ],
 "metadata": {
  "kernelspec": {
   "display_name": "Python 3 (ipykernel)",
   "language": "python",
   "name": "python3"
  },
  "language_info": {
   "codemirror_mode": {
    "name": "ipython",
    "version": 3
   },
   "file_extension": ".py",
   "mimetype": "text/x-python",
   "name": "python",
   "nbconvert_exporter": "python",
   "pygments_lexer": "ipython3",
   "version": "3.10.13"
  }
 },
 "nbformat": 4,
 "nbformat_minor": 5
}
