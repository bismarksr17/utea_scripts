{
 "cells": [
  {
   "cell_type": "code",
   "execution_count": 15,
   "id": "0450dd2c-0bf1-412c-b9aa-acc90d026d3c",
   "metadata": {},
   "outputs": [],
   "source": [
    "import sys\n",
    "sys.path.append('../')"
   ]
  },
  {
   "cell_type": "code",
   "execution_count": 16,
   "id": "54ff4a83-11c1-422a-8ae9-3a34b549eee6",
   "metadata": {},
   "outputs": [],
   "source": [
    "import pandas as pd\n",
    "import geopandas as gpd\n",
    "from sqlalchemy import create_engine, Table, text\n",
    "\n",
    "from config import RUTA_UNIDAD_ONE_DRIVE\n",
    "from config import RUTA_LOCAL_ONE_DRIVE\n",
    "from config import POSTGRES_UTEA"
   ]
  },
  {
   "cell_type": "code",
   "execution_count": 17,
   "id": "6e3438e0-44c8-4c33-8791-ebf5dc77b97e",
   "metadata": {},
   "outputs": [],
   "source": [
    "USER_DB = POSTGRES_UTEA['USER']\n",
    "PASS_DB = POSTGRES_UTEA['PASSWORD']\n",
    "HOST_DB = POSTGRES_UTEA['HOST']\n",
    "PORT_DB = POSTGRES_UTEA['PORT']\n",
    "NAME_DB = POSTGRES_UTEA['DATABASE']\n",
    "\n",
    "ENGINE = create_engine(f'postgresql+psycopg://{USER_DB}:{PASS_DB}@{HOST_DB}:{PORT_DB}/{NAME_DB}')\n",
    "\n",
    "PATH_GRUPOS_COSECHA = RUTA_UNIDAD_ONE_DRIVE + r'\\Ingenio Azucarero Guabira S.A\\UTEA - SEMANAL - AVANCE COSECHA\\2025\\DATA\\GRUPO_COSECHA.xlsx'\n",
    "PATH_INSTITUCIONES = RUTA_UNIDAD_ONE_DRIVE + r'\\Ingenio Azucarero Guabira S.A\\UTEA - SEMANAL - AVANCE COSECHA\\2025\\DATA\\INSTITUCIONES.xlsx'\n",
    "\n",
    "PATH_PLAN_ZAFRA = RUTA_UNIDAD_ONE_DRIVE + r'\\Ingenio Azucarero Guabira S.A\\COMPROMISOS ZAFRA 2025 - Documents\\PLAN ZAFRA 2025\\PLAN DE ZAFRA OFICIAL.xlsx'\n",
    "PATH_LAICA = RUTA_UNIDAD_ONE_DRIVE + r'\\Ingenio Azucarero Guabira S.A\\COOR_GERENCIA_CANA - PARTES_LAICA\\LAICA 6_2025.xlsx'\n",
    "PATH_GRUPOS_ECO = RUTA_UNIDAD_ONE_DRIVE + r'\\Ingenio Azucarero Guabira S.A\\UTEA - SEMANAL - AVANCE COSECHA\\2025\\DATA\\GRUPOS ECONOMICOS.xlsx'\n",
    "PATH_COMPROMISO_FIRMADO = RUTA_UNIDAD_ONE_DRIVE + r'\\Ingenio Azucarero Guabira S.A\\UTEA - SEMANAL - AVANCE COSECHA\\2025\\DATA\\COMPROMISOS FIRMADOS ZAFRA.xlsx'\n",
    "PATH_TCH = RUTA_UNIDAD_ONE_DRIVE + r'\\Ingenio Azucarero Guabira S.A\\UTEA - SEMANAL - AVANCE COSECHA\\2025\\DATA\\TCHS.xlsx'\n",
    "\n",
    "PATH_XLSX_ACCESOS_AGROCITTCA = RUTA_UNIDAD_ONE_DRIVE + r'\\Ingenio Azucarero Guabira S.A\\UTEA - SEMANAL - AGRO-CITTCA\\LISTA.xlsx'\n"
   ]
  },
  {
   "cell_type": "code",
   "execution_count": 18,
   "id": "7a49a41f-29ae-4007-ab6c-77c711d4a5d0",
   "metadata": {},
   "outputs": [],
   "source": [
    "def cargar_codigos_cosecha():\n",
    "    try:\n",
    "        df = pd.read_excel(PATH_GRUPOS_COSECHA, sheet_name='2025')\n",
    "        df = df[['INS', 'CODIGO CAÑERO', 'NOMBRE CAÑERO', 'GRUPO DE COSECHA', 'DELEGADO']]\n",
    "        df = df.rename(columns={\n",
    "            'INS': 'inst',\n",
    "            'CODIGO CAÑERO': 'cod_ca',\n",
    "            'NOMBRE CAÑERO': 'nom_ca',\n",
    "            'GRUPO DE COSECHA': 'cod_cos',\n",
    "            'DELEGADO': 'delegado'\n",
    "        })\n",
    "        df = df.sort_values(by=['cod_cos', 'inst', 'cod_ca'])\n",
    "        return df\n",
    "    except Exception as e:\n",
    "        print(f\"❌ Error al cargar el archivo: {e}\")\n",
    "        return pd.DataFrame()\n",
    "\n",
    "def cargar_cod_cos_a_db(df):\n",
    "    # Convertir tipos para Postgres\n",
    "    df['inst']     = df['inst'].astype('Int64')\n",
    "    df['cod_ca']   = df['cod_ca'].astype('Int64')\n",
    "    df['cod_cos']  = df['cod_cos'].astype('Int64')\n",
    "    df['nom_ca']   = df['nom_ca'].astype(str)\n",
    "\n",
    "    with ENGINE.begin() as conn:  # Inicia transacción\n",
    "        # Vaciar la tabla y reiniciar secuencia\n",
    "        conn.execute(text(f'TRUNCATE TABLE catastro_iag.data_codigos_cosecha RESTART IDENTITY'))\n",
    "        \n",
    "        # Insertar nuevos datos\n",
    "        df.to_sql(\n",
    "            name='data_codigos_cosecha',\n",
    "            con=conn,  # conexión cruda dentro de la transacción\n",
    "            schema='catastro_iag',\n",
    "            if_exists='append',\n",
    "            index=False,\n",
    "            method='multi',\n",
    "            chunksize=1000\n",
    "        )\n",
    "    print(f\"✅ Se ha actualziado la tabla de codigos cosecha\")\n",
    "\n",
    "def get_accesos_agrocittca():\n",
    "    try:\n",
    "        df = pd.read_excel(PATH_XLSX_ACCESOS_AGROCITTCA)\n",
    "        df = df.sort_values(by=['cod_cos'])\n",
    "        return df\n",
    "    except Exception as e:\n",
    "        print(f\"❌ Error accesos agrocittca: {e}\")\n",
    "        return pd.DataFrame()\n",
    "\n",
    "def cargar_accesos_agrocittca_a_db(df):\n",
    "    # Convertir tipos para Postgres\n",
    "    df['id']     = df['id'].astype('Int64')\n",
    "    df['cod_cos']  = df['cod_cos'].astype('Int64')\n",
    "    df['cod_ca']   = df['cod_ca'].astype('Int64')\n",
    "    df['nom_ca']   = df['nom_ca'].astype(str)\n",
    "\n",
    "    with ENGINE.begin() as conn:  # Inicia transacción\n",
    "        # Vaciar la tabla y reiniciar secuencia\n",
    "        conn.execute(text(f'TRUNCATE TABLE data.data_accesos_agrocittca RESTART IDENTITY'))\n",
    "        \n",
    "        # Insertar nuevos datos\n",
    "        df.to_sql(\n",
    "            name='data_accesos_agrocittca',\n",
    "            con=conn,  # conexión cruda dentro de la transacción\n",
    "            schema='data',\n",
    "            if_exists='append',\n",
    "            index=False,\n",
    "            method='multi',\n",
    "            chunksize=1000\n",
    "        )\n",
    "    print(f\"✅ Se ha actualziado la tabla de acceos de agrocittca\")\n",
    "\n",
    "\n",
    "def cargar_instituciones():\n",
    "    try:\n",
    "        df = pd.read_excel(PATH_INSTITUCIONES)\n",
    "        return df\n",
    "    except Exception as e:\n",
    "        print(f\"❌ Error al cargar el archivo: {e}\")\n",
    "        return pd.DataFrame()\n",
    "\n",
    "def cargar_instituciones_a_db(df):\n",
    "    # Convertir tipos para Postgres\n",
    "    df['cod']     = df['cod'].astype('Int64')\n",
    "    df['nom_inst']   = df['nom_inst'].astype(str)\n",
    "    with ENGINE.begin() as conn:  # Inicia transacción\n",
    "        # Vaciar la tabla y reiniciar secuencia\n",
    "        conn.execute(text(f'TRUNCATE TABLE catastro_iag.data_instituciones RESTART IDENTITY'))\n",
    "        # Insertar nuevos datos\n",
    "        df.to_sql(\n",
    "            name='data_instituciones',\n",
    "            con=conn,  # conexión cruda dentro de la transacción\n",
    "            schema='catastro_iag',\n",
    "            if_exists='append',\n",
    "            index=False,\n",
    "            method='multi',\n",
    "            chunksize=1000\n",
    "        )\n",
    "    print(f\"✅ Se ha actualziado la tabla de instituciones\")\n",
    "\n",
    "def cargar_plan_zafra():\n",
    "    try:\n",
    "        df = pd.read_excel(PATH_PLAN_ZAFRA, sheet_name='BASE CAÑEROS')\n",
    "        df = df[['INST.', 'COD. CAÑERO.1', 'NOMBRE DEL CAÑERO', 'TONELADAS COMPROMISO']]        \n",
    "        df = df.rename(columns={\n",
    "            'INST.': 'inst',\n",
    "            'COD. CAÑERO.1': 'cod_ca',\n",
    "            'NOMBRE DEL CAÑERO': 'nom_ca',\n",
    "            'TONELADAS COMPROMISO': 'compromiso'\n",
    "        })\n",
    "        df = df.sort_values(by=['inst', 'cod_ca'])\n",
    "        return df\n",
    "    except Exception as e:\n",
    "        print(f\"❌ Error al cargar el archivo: {e}\")\n",
    "        return pd.DataFrame()\n",
    "\n",
    "def cargar_plan_zafra_a_db(df):\n",
    "    # Convertir tipos para Postgres\n",
    "    df['inst']     = df['inst'].astype('Int64')\n",
    "    df['cod_ca']   = df['cod_ca'].astype('Int64')\n",
    "    df['nom_ca']   = df['nom_ca'].astype(str)\n",
    "    with ENGINE.begin() as conn:  # Inicia transacción\n",
    "        # Vaciar la tabla y reiniciar secuencia\n",
    "        conn.execute(text(f'TRUNCATE TABLE catastro_iag.data_plan_zafra RESTART IDENTITY'))\n",
    "        \n",
    "        # Insertar nuevos datos\n",
    "        df.to_sql(\n",
    "            name='data_plan_zafra',\n",
    "            con=conn,  # conexión cruda dentro de la transacción\n",
    "            schema='catastro_iag',\n",
    "            if_exists='append',\n",
    "            index=False,\n",
    "            method='multi',\n",
    "            chunksize=1000\n",
    "        )\n",
    "    print(f\"✅ Se ha actualziado la tabla de plan de zafra\")\n",
    "    \n",
    "def get_resumen_estimativa():\n",
    "    try:\n",
    "        query = \"select unidad_01, unidad_03, categoria, sum(area) as area from catastro_iag.estimativa group by unidad_01, unidad_03, categoria\"\n",
    "        df = pd.read_sql(query, ENGINE)\n",
    "        return df\n",
    "    except Exception as e:\n",
    "        print(\"❌ Error al leer datos de ESTIMATIVA:\", e)\n",
    "        return pd.DataFrame()\n",
    "    return None\n",
    "\n",
    "def cargar_resumen_estimativa_a_db(df):\n",
    "    with ENGINE.begin() as conn:  # Inicia transacción\n",
    "        # Vaciar la tabla y reiniciar secuencia\n",
    "        conn.execute(text(f'TRUNCATE TABLE catastro_iag.data_resumen_estimativa RESTART IDENTITY'))\n",
    "        \n",
    "        # Insertar nuevos datos\n",
    "        df.to_sql(\n",
    "            name='data_resumen_estimativa',\n",
    "            con=conn,  # conexión cruda dentro de la transacción\n",
    "            schema='catastro_iag',\n",
    "            if_exists='append',\n",
    "            index=False,\n",
    "            method='multi',\n",
    "            chunksize=1000\n",
    "        )\n",
    "    print(f\"✅ Se ha actualziado la tabla de resumen estimativa\")\n",
    "    \n",
    "def cargar_laica():\n",
    "    try:\n",
    "        df = pd.read_excel(PATH_LAICA, sheet_name='Datos')\n",
    "        df = df[['Fecha', 'Cod. Cañero', 'Nombre Cañero', 'kg Caña Neta', '% Material Extraño (Inspección)', '% Pureza', 'PCF', 'Tipo Cosecha', 'Tipo Caña']]        \n",
    "        df = df.rename(columns={\n",
    "            'Fecha': 'fecha',\n",
    "            'Cod. Cañero': 'cod_ca',\n",
    "            'Nombre Cañero': 'nom_ca',\n",
    "            'kg Caña Neta': 'kg_entregado',\n",
    "            '% Material Extraño (Inspección)': 'me', \n",
    "            '% Pureza': 'pureza', \n",
    "            'PCF': 'pcf', \n",
    "            'Tipo Cosecha': 'tipo_cosecha', \n",
    "            'Tipo Caña': 'tipo_cana'\n",
    "        })\n",
    "        return df\n",
    "    except Exception as e:\n",
    "        print(f\"❌ Error al cargar el archivo: {e}\")\n",
    "        return pd.DataFrame()\n",
    "\n",
    "def cargar_datos_laica_a_db(df):\n",
    "    with ENGINE.begin() as conn:  # Inicia transacción\n",
    "        # Vaciar la tabla y reiniciar secuencia\n",
    "        conn.execute(text(f'TRUNCATE TABLE catastro_iag.data_laica RESTART IDENTITY'))\n",
    "        \n",
    "        # Insertar nuevos datos\n",
    "        df.to_sql(\n",
    "            name='data_laica',\n",
    "            con=conn,  # conexión cruda dentro de la transacción\n",
    "            schema='catastro_iag',\n",
    "            if_exists='append',\n",
    "            index=False,\n",
    "            method='multi',\n",
    "            chunksize=1000\n",
    "        )\n",
    "    print(f\"✅ Se ha actualziado la tabla de datos laica\")\n",
    "\n",
    "def cargar_grupos_eco():\n",
    "    try:\n",
    "        df = pd.read_excel(PATH_GRUPOS_ECO, sheet_name='RESUMEN_GRUPO_ECO')\n",
    "        df = df.rename(columns={\n",
    "            'DEUDOR': 'deudor',\n",
    "            'CODIGO': 'codigo',\n",
    "            'NOMBRE': 'nombre',\n",
    "            'GRUPO ECONOMICO': 'grupo_economico',\n",
    "            'COD. INSTITUCION': 'cod_institucion',\n",
    "            'ORDEN': 'orden',\n",
    "            'Cabeza del Grupo': 'cabeza_del_grupo'\n",
    "        })\n",
    "        return df\n",
    "    except Exception as e:\n",
    "        print(f\"❌ Error al cargar el archivo: {e}\")\n",
    "        return pd.DataFrame()\n",
    "\n",
    "def cargar_datos_grupo_eco_a_db(df):\n",
    "    with ENGINE.begin() as conn:  # Inicia transacción\n",
    "        # Vaciar la tabla y reiniciar secuencia\n",
    "        conn.execute(text(f'TRUNCATE TABLE catastro_iag.data_grupo_eco RESTART IDENTITY'))\n",
    "        \n",
    "        # Insertar nuevos datos\n",
    "        df.to_sql(\n",
    "            name='data_grupo_eco',\n",
    "            con=conn,  # conexión cruda dentro de la transacción\n",
    "            schema='catastro_iag',\n",
    "            if_exists='append',\n",
    "            index=False,\n",
    "            method='multi',\n",
    "            chunksize=1000\n",
    "        )\n",
    "    print(f\"✅ Se ha actualziado la tabla de datos grupos economicos\")\n",
    "\n",
    "def cargar_compromiso_firmado():\n",
    "    try:\n",
    "        df = pd.read_excel(PATH_COMPROMISO_FIRMADO, sheet_name='RESUMEN_COMPROMISO')\n",
    "        df = df.rename(columns={\n",
    "            'COD.': 'cod',\n",
    "            'TONELADAS': 'toneladas',\n",
    "            'GRUPO_ECO': 'grupo_eco'\n",
    "        })\n",
    "        return df\n",
    "    except Exception as e:\n",
    "        print(f\"❌ Error al cargar el archivo: {e}\")\n",
    "        return pd.DataFrame()\n",
    "\n",
    "def cargar_compromiso_firmado_a_db(df):\n",
    "    with ENGINE.begin() as conn:  # Inicia transacción\n",
    "        # Vaciar la tabla y reiniciar secuencia\n",
    "        conn.execute(text(f'TRUNCATE TABLE catastro_iag.data_compromiso_firmado RESTART IDENTITY'))\n",
    "        \n",
    "        # Insertar nuevos datos\n",
    "        df.to_sql(\n",
    "            name='data_compromiso_firmado',\n",
    "            con=conn,  # conexión cruda dentro de la transacción\n",
    "            schema='catastro_iag',\n",
    "            if_exists='append',\n",
    "            index=False,\n",
    "            method='multi',\n",
    "            chunksize=1000\n",
    "        )\n",
    "    print(f\"✅ Se ha actualziado la tabla de datos grupos economicos\")\n",
    "\n",
    "def cargar_estimativa_lote_a_db(df):\n",
    "    with ENGINE.begin() as conn:  # Inicia transacción\n",
    "        # Vaciar la tabla y reiniciar secuencia\n",
    "        conn.execute(text(f'TRUNCATE TABLE catastro_iag.data_estimativa_lote RESTART IDENTITY'))\n",
    "        \n",
    "        # Insertar nuevos datos\n",
    "        df.to_sql(\n",
    "            name='data_estimativa_lote',\n",
    "            con=conn,  # conexión cruda dentro de la transacción\n",
    "            schema='catastro_iag',\n",
    "            if_exists='append',\n",
    "            index=False,\n",
    "            method='multi',\n",
    "            chunksize=1000\n",
    "        )\n",
    "    print(f\"✅ Se ha actualziado la tabla de datos estimativa lote\")\n",
    "\n",
    "def cargar_xlsx_tchs():\n",
    "    try:\n",
    "        df = pd.read_excel(PATH_TCH)\n",
    "        return df\n",
    "    except Exception as e:\n",
    "        print(f\"❌ Error al cargar el archivo: {e}\")\n",
    "        return pd.DataFrame()\n",
    "\n",
    "def cargar_estimativa_lote_a_db(df):\n",
    "    with ENGINE.begin() as conn:  # Inicia transacción\n",
    "        # Vaciar la tabla y reiniciar secuencia\n",
    "        conn.execute(text(f'TRUNCATE TABLE catastro_iag.data_estimativa_lote RESTART IDENTITY'))\n",
    "        \n",
    "        # Insertar nuevos datos\n",
    "        df.to_sql(\n",
    "            name='data_estimativa_lote',\n",
    "            con=conn,  # conexión cruda dentro de la transacción\n",
    "            schema='catastro_iag',\n",
    "            if_exists='append',\n",
    "            index=False,\n",
    "            method='multi',\n",
    "            chunksize=1000\n",
    "        )\n",
    "    print(f\"✅ Se ha actualziado la tabla de datos estimativa lote\")\n",
    "\n",
    "def get_propiedades_estimativa():\n",
    "    try:\n",
    "        query = \"select distinct(unidad_01), unidad_02 from catastro_iag.estimativa order by unidad_01\"\n",
    "        df = pd.read_sql(query, ENGINE)\n",
    "        return df\n",
    "    except Exception as e:\n",
    "        print(\"❌ Error al leer datos de ESTIMATIVA:\", e)\n",
    "        return pd.DataFrame()\n",
    "    return None\n",
    "\n",
    "def get_estimativa_idd():\n",
    "    try:\n",
    "        query = \"SELECT unidad_01, unidad_03, unidad_05, categoria, area, unidad_01 || '|' || categoria idd FROM catastro_iag.estimativa\"\n",
    "        df = pd.read_sql(query, ENGINE)\n",
    "        return df\n",
    "    except Exception as e:\n",
    "        print(\"❌ Error al leer datos de ESTIMATIVA:\", e)\n",
    "        return pd.DataFrame()\n",
    "    return None\n"
   ]
  },
  {
   "cell_type": "code",
   "execution_count": null,
   "id": "9658b332-d4e2-4745-9d3a-ecc9a0ba95b5",
   "metadata": {},
   "outputs": [],
   "source": []
  },
  {
   "cell_type": "code",
   "execution_count": null,
   "id": "273fec97-eb7c-41c8-814b-47ee048a7b37",
   "metadata": {},
   "outputs": [],
   "source": []
  },
  {
   "cell_type": "code",
   "execution_count": null,
   "id": "7fb87660-ab23-49c1-82e8-fcc329f7b754",
   "metadata": {},
   "outputs": [],
   "source": []
  },
  {
   "cell_type": "code",
   "execution_count": null,
   "id": "f112661e-ccf9-4dcd-a279-5403d32dab72",
   "metadata": {},
   "outputs": [],
   "source": []
  },
  {
   "cell_type": "code",
   "execution_count": null,
   "id": "43f17269-47c1-4bbc-bf71-a3322d42b91d",
   "metadata": {},
   "outputs": [],
   "source": []
  },
  {
   "cell_type": "code",
   "execution_count": 5,
   "id": "edee2535-a65b-4faf-b741-b5c71ac57198",
   "metadata": {},
   "outputs": [
    {
     "name": "stdout",
     "output_type": "stream",
     "text": [
      "❌ Error accesos agrocittca: [Errno 13] Permission denied: 'G:\\\\\\\\Ingenio Azucarero Guabira S.A\\\\UTEA - SEMANAL - AGRO-CITTCA\\\\LISTA.xlsx'\n"
     ]
    },
    {
     "ename": "KeyError",
     "evalue": "'id'",
     "output_type": "error",
     "traceback": [
      "\u001b[1;31m---------------------------------------------------------------------------\u001b[0m",
      "\u001b[1;31mKeyError\u001b[0m                                  Traceback (most recent call last)",
      "Cell \u001b[1;32mIn[5], line 2\u001b[0m\n\u001b[0;32m      1\u001b[0m accesos \u001b[38;5;241m=\u001b[39m get_accesos_agrocittca()\n\u001b[1;32m----> 2\u001b[0m \u001b[43mcargar_accesos_agrocittca_a_db\u001b[49m\u001b[43m(\u001b[49m\u001b[43maccesos\u001b[49m\u001b[43m)\u001b[49m\n",
      "Cell \u001b[1;32mIn[4], line 52\u001b[0m, in \u001b[0;36mcargar_accesos_agrocittca_a_db\u001b[1;34m(df)\u001b[0m\n\u001b[0;32m     50\u001b[0m \u001b[38;5;28;01mdef\u001b[39;00m \u001b[38;5;21mcargar_accesos_agrocittca_a_db\u001b[39m(df):\n\u001b[0;32m     51\u001b[0m     \u001b[38;5;66;03m# Convertir tipos para Postgres\u001b[39;00m\n\u001b[1;32m---> 52\u001b[0m     df[\u001b[38;5;124m'\u001b[39m\u001b[38;5;124mid\u001b[39m\u001b[38;5;124m'\u001b[39m]     \u001b[38;5;241m=\u001b[39m \u001b[43mdf\u001b[49m\u001b[43m[\u001b[49m\u001b[38;5;124;43m'\u001b[39;49m\u001b[38;5;124;43mid\u001b[39;49m\u001b[38;5;124;43m'\u001b[39;49m\u001b[43m]\u001b[49m\u001b[38;5;241m.\u001b[39mastype(\u001b[38;5;124m'\u001b[39m\u001b[38;5;124mInt64\u001b[39m\u001b[38;5;124m'\u001b[39m)\n\u001b[0;32m     53\u001b[0m     df[\u001b[38;5;124m'\u001b[39m\u001b[38;5;124mcod_cos\u001b[39m\u001b[38;5;124m'\u001b[39m]  \u001b[38;5;241m=\u001b[39m df[\u001b[38;5;124m'\u001b[39m\u001b[38;5;124mcod_cos\u001b[39m\u001b[38;5;124m'\u001b[39m]\u001b[38;5;241m.\u001b[39mastype(\u001b[38;5;124m'\u001b[39m\u001b[38;5;124mInt64\u001b[39m\u001b[38;5;124m'\u001b[39m)\n\u001b[0;32m     54\u001b[0m     df[\u001b[38;5;124m'\u001b[39m\u001b[38;5;124mcod_ca\u001b[39m\u001b[38;5;124m'\u001b[39m]   \u001b[38;5;241m=\u001b[39m df[\u001b[38;5;124m'\u001b[39m\u001b[38;5;124mcod_ca\u001b[39m\u001b[38;5;124m'\u001b[39m]\u001b[38;5;241m.\u001b[39mastype(\u001b[38;5;124m'\u001b[39m\u001b[38;5;124mInt64\u001b[39m\u001b[38;5;124m'\u001b[39m)\n",
      "File \u001b[1;32m~\\anaconda3\\envs\\utea\\lib\\site-packages\\pandas\\core\\frame.py:4090\u001b[0m, in \u001b[0;36mDataFrame.__getitem__\u001b[1;34m(self, key)\u001b[0m\n\u001b[0;32m   4088\u001b[0m \u001b[38;5;28;01mif\u001b[39;00m \u001b[38;5;28mself\u001b[39m\u001b[38;5;241m.\u001b[39mcolumns\u001b[38;5;241m.\u001b[39mnlevels \u001b[38;5;241m>\u001b[39m \u001b[38;5;241m1\u001b[39m:\n\u001b[0;32m   4089\u001b[0m     \u001b[38;5;28;01mreturn\u001b[39;00m \u001b[38;5;28mself\u001b[39m\u001b[38;5;241m.\u001b[39m_getitem_multilevel(key)\n\u001b[1;32m-> 4090\u001b[0m indexer \u001b[38;5;241m=\u001b[39m \u001b[38;5;28;43mself\u001b[39;49m\u001b[38;5;241;43m.\u001b[39;49m\u001b[43mcolumns\u001b[49m\u001b[38;5;241;43m.\u001b[39;49m\u001b[43mget_loc\u001b[49m\u001b[43m(\u001b[49m\u001b[43mkey\u001b[49m\u001b[43m)\u001b[49m\n\u001b[0;32m   4091\u001b[0m \u001b[38;5;28;01mif\u001b[39;00m is_integer(indexer):\n\u001b[0;32m   4092\u001b[0m     indexer \u001b[38;5;241m=\u001b[39m [indexer]\n",
      "File \u001b[1;32m~\\anaconda3\\envs\\utea\\lib\\site-packages\\pandas\\core\\indexes\\range.py:417\u001b[0m, in \u001b[0;36mRangeIndex.get_loc\u001b[1;34m(self, key)\u001b[0m\n\u001b[0;32m    415\u001b[0m         \u001b[38;5;28;01mraise\u001b[39;00m \u001b[38;5;167;01mKeyError\u001b[39;00m(key) \u001b[38;5;28;01mfrom\u001b[39;00m \u001b[38;5;21;01merr\u001b[39;00m\n\u001b[0;32m    416\u001b[0m \u001b[38;5;28;01mif\u001b[39;00m \u001b[38;5;28misinstance\u001b[39m(key, Hashable):\n\u001b[1;32m--> 417\u001b[0m     \u001b[38;5;28;01mraise\u001b[39;00m \u001b[38;5;167;01mKeyError\u001b[39;00m(key)\n\u001b[0;32m    418\u001b[0m \u001b[38;5;28mself\u001b[39m\u001b[38;5;241m.\u001b[39m_check_indexing_error(key)\n\u001b[0;32m    419\u001b[0m \u001b[38;5;28;01mraise\u001b[39;00m \u001b[38;5;167;01mKeyError\u001b[39;00m(key)\n",
      "\u001b[1;31mKeyError\u001b[0m: 'id'"
     ]
    }
   ],
   "source": [
    "accesos = get_accesos_agrocittca()\n",
    "cargar_accesos_agrocittca_a_db(accesos)"
   ]
  },
  {
   "cell_type": "code",
   "execution_count": 19,
   "id": "f2a15a02-2123-4728-a072-1009f3955da7",
   "metadata": {},
   "outputs": [
    {
     "name": "stdout",
     "output_type": "stream",
     "text": [
      "✅ Se ha actualziado la tabla de codigos cosecha\n"
     ]
    }
   ],
   "source": [
    "codigos_cosecha = cargar_codigos_cosecha()\n",
    "cargar_cod_cos_a_db(codigos_cosecha)"
   ]
  },
  {
   "cell_type": "code",
   "execution_count": 20,
   "id": "c7b8418e-9a59-4885-85c9-a6eb3a9d5013",
   "metadata": {},
   "outputs": [
    {
     "name": "stdout",
     "output_type": "stream",
     "text": [
      "✅ Se ha actualziado la tabla de instituciones\n"
     ]
    }
   ],
   "source": [
    "instituciones = cargar_instituciones()\n",
    "cargar_instituciones_a_db(instituciones)"
   ]
  },
  {
   "cell_type": "code",
   "execution_count": 21,
   "id": "1d84bfc7-4a64-4ff3-93d0-0c2a3e5b90ea",
   "metadata": {},
   "outputs": [
    {
     "name": "stdout",
     "output_type": "stream",
     "text": [
      "✅ Se ha actualziado la tabla de plan de zafra\n"
     ]
    }
   ],
   "source": [
    "plan_zafra = cargar_plan_zafra()\n",
    "cargar_plan_zafra_a_db(plan_zafra)"
   ]
  },
  {
   "cell_type": "code",
   "execution_count": 22,
   "id": "902c6ac6-4c77-43fd-b5d0-f74c2421afba",
   "metadata": {},
   "outputs": [
    {
     "name": "stdout",
     "output_type": "stream",
     "text": [
      "✅ Se ha actualziado la tabla de resumen estimativa\n"
     ]
    }
   ],
   "source": [
    "resumen_estimativa = get_resumen_estimativa()\n",
    "cargar_resumen_estimativa_a_db(resumen_estimativa)"
   ]
  },
  {
   "cell_type": "code",
   "execution_count": 23,
   "id": "b4713d54-1537-46ea-b261-5f73a17f789e",
   "metadata": {},
   "outputs": [
    {
     "name": "stdout",
     "output_type": "stream",
     "text": [
      "✅ Se ha actualziado la tabla de datos laica\n"
     ]
    }
   ],
   "source": [
    "datos_laica = cargar_laica()\n",
    "datos_laica['tn_entregado'] = datos_laica['kg_entregado'] / 1000\n",
    "cargar_datos_laica_a_db(datos_laica)"
   ]
  },
  {
   "cell_type": "code",
   "execution_count": 24,
   "id": "6bd5c5b7-202a-445e-a941-145bd8dc2328",
   "metadata": {},
   "outputs": [
    {
     "name": "stdout",
     "output_type": "stream",
     "text": [
      "✅ Se ha actualziado la tabla de datos grupos economicos\n"
     ]
    }
   ],
   "source": [
    "datos_grupo_eco = cargar_grupos_eco()\n",
    "cargar_datos_grupo_eco_a_db(datos_grupo_eco)"
   ]
  },
  {
   "cell_type": "code",
   "execution_count": 25,
   "id": "f70e3608-f376-4d6b-8f86-6301995decf9",
   "metadata": {},
   "outputs": [
    {
     "name": "stdout",
     "output_type": "stream",
     "text": [
      "✅ Se ha actualziado la tabla de datos grupos economicos\n"
     ]
    }
   ],
   "source": [
    "datos_compromiso_firmado = cargar_compromiso_firmado()\n",
    "cargar_compromiso_firmado_a_db(datos_compromiso_firmado)"
   ]
  },
  {
   "cell_type": "code",
   "execution_count": null,
   "id": "8cd8b725-e033-442c-a7ca-03402b099ca2",
   "metadata": {},
   "outputs": [],
   "source": []
  },
  {
   "cell_type": "code",
   "execution_count": null,
   "id": "0d181a7c-d4e1-4aff-8e8f-8c425361bb02",
   "metadata": {},
   "outputs": [],
   "source": []
  },
  {
   "cell_type": "code",
   "execution_count": 33,
   "id": "46551599-0678-4499-affe-4a6b50390396",
   "metadata": {},
   "outputs": [],
   "source": []
  },
  {
   "cell_type": "code",
   "execution_count": 26,
   "id": "38cfc0b1-4354-4b36-91d9-66acfc056dd5",
   "metadata": {},
   "outputs": [
    {
     "data": {
      "text/html": [
       "<div>\n",
       "<style scoped>\n",
       "    .dataframe tbody tr th:only-of-type {\n",
       "        vertical-align: middle;\n",
       "    }\n",
       "\n",
       "    .dataframe tbody tr th {\n",
       "        vertical-align: top;\n",
       "    }\n",
       "\n",
       "    .dataframe thead th {\n",
       "        text-align: right;\n",
       "    }\n",
       "</style>\n",
       "<table border=\"1\" class=\"dataframe\">\n",
       "  <thead>\n",
       "    <tr style=\"text-align: right;\">\n",
       "      <th></th>\n",
       "      <th>cod_prop</th>\n",
       "      <th>nom_prop</th>\n",
       "      <th>categoria</th>\n",
       "      <th>categoria 2</th>\n",
       "      <th>tch eval</th>\n",
       "      <th>tch_ajustado</th>\n",
       "      <th>idd</th>\n",
       "    </tr>\n",
       "  </thead>\n",
       "  <tbody>\n",
       "    <tr>\n",
       "      <th>0</th>\n",
       "      <td>1</td>\n",
       "      <td>SONIMA</td>\n",
       "      <td>1</td>\n",
       "      <td>Nulo</td>\n",
       "      <td>0</td>\n",
       "      <td>0</td>\n",
       "      <td>1|1</td>\n",
       "    </tr>\n",
       "    <tr>\n",
       "      <th>1</th>\n",
       "      <td>1</td>\n",
       "      <td>SONIMA</td>\n",
       "      <td>2</td>\n",
       "      <td>Muy Bajo</td>\n",
       "      <td>20</td>\n",
       "      <td>20</td>\n",
       "      <td>1|2</td>\n",
       "    </tr>\n",
       "    <tr>\n",
       "      <th>2</th>\n",
       "      <td>1</td>\n",
       "      <td>SONIMA</td>\n",
       "      <td>3</td>\n",
       "      <td>Medio Bajo</td>\n",
       "      <td>30</td>\n",
       "      <td>30</td>\n",
       "      <td>1|3</td>\n",
       "    </tr>\n",
       "  </tbody>\n",
       "</table>\n",
       "</div>"
      ],
      "text/plain": [
       "   cod_prop nom_prop  categoria categoria 2  tch eval  tch_ajustado  idd\n",
       "0         1   SONIMA          1        Nulo         0             0  1|1\n",
       "1         1   SONIMA          2    Muy Bajo        20            20  1|2\n",
       "2         1   SONIMA          3  Medio Bajo        30            30  1|3"
      ]
     },
     "execution_count": 26,
     "metadata": {},
     "output_type": "execute_result"
    }
   ],
   "source": [
    "tchs = cargar_xlsx_tchs()\n",
    "tchs[\"idd\"] = tchs.apply(lambda row: f\"{row['cod_prop']}|{row['categoria']}\", axis=1)\n",
    "tchs.head(3)"
   ]
  },
  {
   "cell_type": "code",
   "execution_count": 27,
   "id": "90d65a9c-0377-48d4-9a2b-7a0ac4136d49",
   "metadata": {},
   "outputs": [
    {
     "data": {
      "text/html": [
       "<div>\n",
       "<style scoped>\n",
       "    .dataframe tbody tr th:only-of-type {\n",
       "        vertical-align: middle;\n",
       "    }\n",
       "\n",
       "    .dataframe tbody tr th {\n",
       "        vertical-align: top;\n",
       "    }\n",
       "\n",
       "    .dataframe thead th {\n",
       "        text-align: right;\n",
       "    }\n",
       "</style>\n",
       "<table border=\"1\" class=\"dataframe\">\n",
       "  <thead>\n",
       "    <tr style=\"text-align: right;\">\n",
       "      <th></th>\n",
       "      <th>unidad_01</th>\n",
       "      <th>unidad_03</th>\n",
       "      <th>unidad_05</th>\n",
       "      <th>categoria</th>\n",
       "      <th>area</th>\n",
       "      <th>idd</th>\n",
       "    </tr>\n",
       "  </thead>\n",
       "  <tbody>\n",
       "    <tr>\n",
       "      <th>0</th>\n",
       "      <td>55</td>\n",
       "      <td>14558</td>\n",
       "      <td>L14.1</td>\n",
       "      <td>3</td>\n",
       "      <td>0.010641</td>\n",
       "      <td>55|3</td>\n",
       "    </tr>\n",
       "    <tr>\n",
       "      <th>1</th>\n",
       "      <td>55</td>\n",
       "      <td>14558</td>\n",
       "      <td>L14.1</td>\n",
       "      <td>4</td>\n",
       "      <td>0.042564</td>\n",
       "      <td>55|4</td>\n",
       "    </tr>\n",
       "    <tr>\n",
       "      <th>2</th>\n",
       "      <td>55</td>\n",
       "      <td>14558</td>\n",
       "      <td>L14.1</td>\n",
       "      <td>3</td>\n",
       "      <td>0.021282</td>\n",
       "      <td>55|3</td>\n",
       "    </tr>\n",
       "  </tbody>\n",
       "</table>\n",
       "</div>"
      ],
      "text/plain": [
       "   unidad_01  unidad_03 unidad_05  categoria      area   idd\n",
       "0         55      14558     L14.1          3  0.010641  55|3\n",
       "1         55      14558     L14.1          4  0.042564  55|4\n",
       "2         55      14558     L14.1          3  0.021282  55|3"
      ]
     },
     "execution_count": 27,
     "metadata": {},
     "output_type": "execute_result"
    }
   ],
   "source": [
    "estimativa = get_estimativa_idd()\n",
    "estimativa.head(3)"
   ]
  },
  {
   "cell_type": "code",
   "execution_count": 28,
   "id": "3e35d9a8-7386-410b-8412-0f29886ac827",
   "metadata": {},
   "outputs": [],
   "source": [
    "df_join = pd.merge(estimativa, tchs, on=\"idd\", how=\"inner\")\n",
    "df_join['produccion'] = df_join['area'] * df_join['tch eval']"
   ]
  },
  {
   "cell_type": "code",
   "execution_count": 29,
   "id": "ec24e867-90d3-4f10-8439-21a8b7cc1d46",
   "metadata": {},
   "outputs": [
    {
     "data": {
      "text/html": [
       "<div>\n",
       "<style scoped>\n",
       "    .dataframe tbody tr th:only-of-type {\n",
       "        vertical-align: middle;\n",
       "    }\n",
       "\n",
       "    .dataframe tbody tr th {\n",
       "        vertical-align: top;\n",
       "    }\n",
       "\n",
       "    .dataframe thead th {\n",
       "        text-align: right;\n",
       "    }\n",
       "</style>\n",
       "<table border=\"1\" class=\"dataframe\">\n",
       "  <thead>\n",
       "    <tr style=\"text-align: right;\">\n",
       "      <th></th>\n",
       "      <th>unidad_01</th>\n",
       "      <th>unidad_03</th>\n",
       "      <th>unidad_05</th>\n",
       "      <th>area</th>\n",
       "      <th>produccion</th>\n",
       "    </tr>\n",
       "  </thead>\n",
       "  <tbody>\n",
       "    <tr>\n",
       "      <th>0</th>\n",
       "      <td>55</td>\n",
       "      <td>14558</td>\n",
       "      <td>L14.1</td>\n",
       "      <td>0.010641</td>\n",
       "      <td>0.425641</td>\n",
       "    </tr>\n",
       "    <tr>\n",
       "      <th>1</th>\n",
       "      <td>55</td>\n",
       "      <td>14558</td>\n",
       "      <td>L14.1</td>\n",
       "      <td>0.042564</td>\n",
       "      <td>1.915385</td>\n",
       "    </tr>\n",
       "    <tr>\n",
       "      <th>2</th>\n",
       "      <td>55</td>\n",
       "      <td>14558</td>\n",
       "      <td>L14.1</td>\n",
       "      <td>0.021282</td>\n",
       "      <td>0.851282</td>\n",
       "    </tr>\n",
       "    <tr>\n",
       "      <th>3</th>\n",
       "      <td>55</td>\n",
       "      <td>14558</td>\n",
       "      <td>L14.1</td>\n",
       "      <td>0.010641</td>\n",
       "      <td>0.532051</td>\n",
       "    </tr>\n",
       "    <tr>\n",
       "      <th>4</th>\n",
       "      <td>55</td>\n",
       "      <td>14558</td>\n",
       "      <td>L14.1</td>\n",
       "      <td>0.000000</td>\n",
       "      <td>0.000000</td>\n",
       "    </tr>\n",
       "    <tr>\n",
       "      <th>...</th>\n",
       "      <td>...</td>\n",
       "      <td>...</td>\n",
       "      <td>...</td>\n",
       "      <td>...</td>\n",
       "      <td>...</td>\n",
       "    </tr>\n",
       "    <tr>\n",
       "      <th>1006903</th>\n",
       "      <td>55</td>\n",
       "      <td>14558</td>\n",
       "      <td>L14.1</td>\n",
       "      <td>0.021282</td>\n",
       "      <td>0.957692</td>\n",
       "    </tr>\n",
       "    <tr>\n",
       "      <th>1006904</th>\n",
       "      <td>55</td>\n",
       "      <td>14558</td>\n",
       "      <td>L14.1</td>\n",
       "      <td>0.085128</td>\n",
       "      <td>4.256410</td>\n",
       "    </tr>\n",
       "    <tr>\n",
       "      <th>1006905</th>\n",
       "      <td>55</td>\n",
       "      <td>14558</td>\n",
       "      <td>L14.1</td>\n",
       "      <td>0.021282</td>\n",
       "      <td>1.170513</td>\n",
       "    </tr>\n",
       "    <tr>\n",
       "      <th>1006906</th>\n",
       "      <td>55</td>\n",
       "      <td>14558</td>\n",
       "      <td>L14.1</td>\n",
       "      <td>0.010641</td>\n",
       "      <td>0.532051</td>\n",
       "    </tr>\n",
       "    <tr>\n",
       "      <th>1006907</th>\n",
       "      <td>55</td>\n",
       "      <td>14558</td>\n",
       "      <td>L14.1</td>\n",
       "      <td>0.042564</td>\n",
       "      <td>1.489744</td>\n",
       "    </tr>\n",
       "  </tbody>\n",
       "</table>\n",
       "<p>1006908 rows × 5 columns</p>\n",
       "</div>"
      ],
      "text/plain": [
       "         unidad_01  unidad_03 unidad_05      area  produccion\n",
       "0               55      14558     L14.1  0.010641    0.425641\n",
       "1               55      14558     L14.1  0.042564    1.915385\n",
       "2               55      14558     L14.1  0.021282    0.851282\n",
       "3               55      14558     L14.1  0.010641    0.532051\n",
       "4               55      14558     L14.1  0.000000    0.000000\n",
       "...            ...        ...       ...       ...         ...\n",
       "1006903         55      14558     L14.1  0.021282    0.957692\n",
       "1006904         55      14558     L14.1  0.085128    4.256410\n",
       "1006905         55      14558     L14.1  0.021282    1.170513\n",
       "1006906         55      14558     L14.1  0.010641    0.532051\n",
       "1006907         55      14558     L14.1  0.042564    1.489744\n",
       "\n",
       "[1006908 rows x 5 columns]"
      ]
     },
     "execution_count": 29,
     "metadata": {},
     "output_type": "execute_result"
    }
   ],
   "source": [
    "df_join = df_join[['unidad_01', 'unidad_03', 'unidad_05', 'area', 'produccion']]\n",
    "df_join"
   ]
  },
  {
   "cell_type": "code",
   "execution_count": 30,
   "id": "cf965879-84c6-42be-8970-a0555a962a52",
   "metadata": {},
   "outputs": [],
   "source": [
    "df_res = df_join.groupby([\"unidad_01\", \"unidad_03\", \"unidad_05\"])[[\"area\", \"produccion\"]].sum().reset_index()"
   ]
  },
  {
   "cell_type": "code",
   "execution_count": 31,
   "id": "eba5d91d-6d5a-4b91-9ce1-03d228bdcfb2",
   "metadata": {},
   "outputs": [],
   "source": [
    "df_res[[\"area\", \"produccion\"]] = df_res[[\"area\", \"produccion\"]].round(2)"
   ]
  },
  {
   "cell_type": "code",
   "execution_count": 32,
   "id": "4dc1a62e-4bfd-4747-97a6-fb0a8a36c034",
   "metadata": {},
   "outputs": [
    {
     "data": {
      "text/html": [
       "<div>\n",
       "<style scoped>\n",
       "    .dataframe tbody tr th:only-of-type {\n",
       "        vertical-align: middle;\n",
       "    }\n",
       "\n",
       "    .dataframe tbody tr th {\n",
       "        vertical-align: top;\n",
       "    }\n",
       "\n",
       "    .dataframe thead th {\n",
       "        text-align: right;\n",
       "    }\n",
       "</style>\n",
       "<table border=\"1\" class=\"dataframe\">\n",
       "  <thead>\n",
       "    <tr style=\"text-align: right;\">\n",
       "      <th></th>\n",
       "      <th>unidad_01</th>\n",
       "      <th>unidad_03</th>\n",
       "      <th>unidad_05</th>\n",
       "      <th>area</th>\n",
       "      <th>produccion</th>\n",
       "    </tr>\n",
       "  </thead>\n",
       "  <tbody>\n",
       "    <tr>\n",
       "      <th>0</th>\n",
       "      <td>1</td>\n",
       "      <td>388</td>\n",
       "      <td>L1</td>\n",
       "      <td>3.69</td>\n",
       "      <td>242.54</td>\n",
       "    </tr>\n",
       "    <tr>\n",
       "      <th>1</th>\n",
       "      <td>1</td>\n",
       "      <td>388</td>\n",
       "      <td>L10.2</td>\n",
       "      <td>7.96</td>\n",
       "      <td>487.38</td>\n",
       "    </tr>\n",
       "    <tr>\n",
       "      <th>2</th>\n",
       "      <td>1</td>\n",
       "      <td>388</td>\n",
       "      <td>L11</td>\n",
       "      <td>8.63</td>\n",
       "      <td>651.69</td>\n",
       "    </tr>\n",
       "    <tr>\n",
       "      <th>3</th>\n",
       "      <td>1</td>\n",
       "      <td>388</td>\n",
       "      <td>L13.2</td>\n",
       "      <td>7.26</td>\n",
       "      <td>314.97</td>\n",
       "    </tr>\n",
       "    <tr>\n",
       "      <th>4</th>\n",
       "      <td>1</td>\n",
       "      <td>388</td>\n",
       "      <td>L13.3</td>\n",
       "      <td>1.78</td>\n",
       "      <td>82.81</td>\n",
       "    </tr>\n",
       "    <tr>\n",
       "      <th>...</th>\n",
       "      <td>...</td>\n",
       "      <td>...</td>\n",
       "      <td>...</td>\n",
       "      <td>...</td>\n",
       "      <td>...</td>\n",
       "    </tr>\n",
       "    <tr>\n",
       "      <th>10580</th>\n",
       "      <td>2302</td>\n",
       "      <td>1447</td>\n",
       "      <td>L5</td>\n",
       "      <td>16.03</td>\n",
       "      <td>610.22</td>\n",
       "    </tr>\n",
       "    <tr>\n",
       "      <th>10581</th>\n",
       "      <td>2302</td>\n",
       "      <td>1447</td>\n",
       "      <td>L6</td>\n",
       "      <td>11.72</td>\n",
       "      <td>670.92</td>\n",
       "    </tr>\n",
       "    <tr>\n",
       "      <th>10582</th>\n",
       "      <td>2302</td>\n",
       "      <td>1447</td>\n",
       "      <td>L7</td>\n",
       "      <td>16.80</td>\n",
       "      <td>1062.92</td>\n",
       "    </tr>\n",
       "    <tr>\n",
       "      <th>10583</th>\n",
       "      <td>2304</td>\n",
       "      <td>4915</td>\n",
       "      <td>L1</td>\n",
       "      <td>6.95</td>\n",
       "      <td>439.76</td>\n",
       "    </tr>\n",
       "    <tr>\n",
       "      <th>10584</th>\n",
       "      <td>2304</td>\n",
       "      <td>4915</td>\n",
       "      <td>L2</td>\n",
       "      <td>5.98</td>\n",
       "      <td>337.83</td>\n",
       "    </tr>\n",
       "  </tbody>\n",
       "</table>\n",
       "<p>10585 rows × 5 columns</p>\n",
       "</div>"
      ],
      "text/plain": [
       "       unidad_01  unidad_03 unidad_05   area  produccion\n",
       "0              1        388        L1   3.69      242.54\n",
       "1              1        388     L10.2   7.96      487.38\n",
       "2              1        388       L11   8.63      651.69\n",
       "3              1        388     L13.2   7.26      314.97\n",
       "4              1        388     L13.3   1.78       82.81\n",
       "...          ...        ...       ...    ...         ...\n",
       "10580       2302       1447        L5  16.03      610.22\n",
       "10581       2302       1447        L6  11.72      670.92\n",
       "10582       2302       1447        L7  16.80     1062.92\n",
       "10583       2304       4915        L1   6.95      439.76\n",
       "10584       2304       4915        L2   5.98      337.83\n",
       "\n",
       "[10585 rows x 5 columns]"
      ]
     },
     "execution_count": 32,
     "metadata": {},
     "output_type": "execute_result"
    }
   ],
   "source": [
    "df_res"
   ]
  },
  {
   "cell_type": "code",
   "execution_count": 33,
   "id": "fb5ce1f5-fb90-4c44-b95b-4a4a28824bd4",
   "metadata": {},
   "outputs": [
    {
     "name": "stdout",
     "output_type": "stream",
     "text": [
      "✅ Se ha actualziado la tabla de datos estimativa lote\n"
     ]
    }
   ],
   "source": [
    "cargar_estimativa_lote_a_db(df_res)"
   ]
  },
  {
   "cell_type": "code",
   "execution_count": null,
   "id": "4ed625b3-1de5-477f-95b8-10160debf6b6",
   "metadata": {},
   "outputs": [],
   "source": []
  },
  {
   "cell_type": "code",
   "execution_count": null,
   "id": "29f623b3-9494-4d23-8ff5-23de4ba76aba",
   "metadata": {},
   "outputs": [],
   "source": []
  },
  {
   "cell_type": "code",
   "execution_count": null,
   "id": "70b78740-fa51-4200-ac6c-f550a41f0315",
   "metadata": {},
   "outputs": [],
   "source": []
  },
  {
   "cell_type": "code",
   "execution_count": null,
   "id": "5daee667-4818-4be2-a40d-1ae4fddb8af6",
   "metadata": {},
   "outputs": [],
   "source": []
  },
  {
   "cell_type": "code",
   "execution_count": null,
   "id": "00f45f7a-94f6-4a59-b449-71df0eeb3cbf",
   "metadata": {},
   "outputs": [],
   "source": []
  },
  {
   "cell_type": "code",
   "execution_count": 34,
   "id": "b66687ee-582f-42e8-83ed-e0d1ebdf4377",
   "metadata": {},
   "outputs": [],
   "source": [
    "# obtiene el xlsx de TCHs\n",
    "tch_xlsx = cargar_xlsx_tchs()\n",
    "# \n",
    "props_estimativa = get_propiedades_estimativa()\n",
    "lista_cods_props_tch_xlsx = list(set(tch_xlsx['cod_prop']))\n",
    "lista_cods_props_estiamtiva = list(set(props_estimativa['unidad_01']))"
   ]
  },
  {
   "cell_type": "code",
   "execution_count": 35,
   "id": "6ede412a-8b4a-4322-b66a-233b0de3f6d9",
   "metadata": {},
   "outputs": [
    {
     "name": "stdout",
     "output_type": "stream",
     "text": [
      "CODIGOS A ELIMINAR DE XLSX:\n"
     ]
    },
    {
     "data": {
      "text/plain": [
       "[1453, 1954]"
      ]
     },
     "execution_count": 35,
     "metadata": {},
     "output_type": "execute_result"
    }
   ],
   "source": [
    "cods_eliminar_de_xlsx = [x for x in lista_cods_props_tch_xlsx if x not in lista_cods_props_estiamtiva]\n",
    "print('CODIGOS A ELIMINAR DE XLSX:')\n",
    "cods_eliminar_de_xlsx"
   ]
  },
  {
   "cell_type": "code",
   "execution_count": 36,
   "id": "aecdb954-900f-43a8-8ead-48db38186683",
   "metadata": {},
   "outputs": [
    {
     "name": "stdout",
     "output_type": "stream",
     "text": [
      "CODIGOS A AGREGAR A XLSX:\n"
     ]
    },
    {
     "data": {
      "text/plain": [
       "[]"
      ]
     },
     "execution_count": 36,
     "metadata": {},
     "output_type": "execute_result"
    }
   ],
   "source": [
    "cods_agregar_a_xlsx = [x for x in lista_cods_props_estiamtiva if x not in lista_cods_props_tch_xlsx]\n",
    "print('CODIGOS A AGREGAR A XLSX:')\n",
    "cods_agregar_a_xlsx"
   ]
  },
  {
   "cell_type": "code",
   "execution_count": 37,
   "id": "323da8f7-564c-40aa-9836-d23a2507da75",
   "metadata": {},
   "outputs": [
    {
     "data": {
      "text/html": [
       "<div>\n",
       "<style scoped>\n",
       "    .dataframe tbody tr th:only-of-type {\n",
       "        vertical-align: middle;\n",
       "    }\n",
       "\n",
       "    .dataframe tbody tr th {\n",
       "        vertical-align: top;\n",
       "    }\n",
       "\n",
       "    .dataframe thead th {\n",
       "        text-align: right;\n",
       "    }\n",
       "</style>\n",
       "<table border=\"1\" class=\"dataframe\">\n",
       "  <thead>\n",
       "    <tr style=\"text-align: right;\">\n",
       "      <th></th>\n",
       "      <th>unidad_01</th>\n",
       "      <th>unidad_02</th>\n",
       "    </tr>\n",
       "  </thead>\n",
       "  <tbody>\n",
       "  </tbody>\n",
       "</table>\n",
       "</div>"
      ],
      "text/plain": [
       "Empty DataFrame\n",
       "Columns: [unidad_01, unidad_02]\n",
       "Index: []"
      ]
     },
     "execution_count": 37,
     "metadata": {},
     "output_type": "execute_result"
    }
   ],
   "source": [
    "df_filtrado = props_estimativa[props_estimativa['unidad_01'].isin(cods_agregar_a_xlsx)]\n",
    "df_filtrado"
   ]
  },
  {
   "cell_type": "code",
   "execution_count": null,
   "id": "f3956744-3d41-400a-b2a9-9e0db0bb12be",
   "metadata": {},
   "outputs": [],
   "source": []
  },
  {
   "cell_type": "code",
   "execution_count": null,
   "id": "dbd31a65-bbf5-4110-bf48-fe25c886c0de",
   "metadata": {},
   "outputs": [],
   "source": []
  },
  {
   "cell_type": "code",
   "execution_count": null,
   "id": "0649927b-e294-40b3-a0a2-2752d28b59a1",
   "metadata": {},
   "outputs": [],
   "source": []
  },
  {
   "cell_type": "code",
   "execution_count": null,
   "id": "24afe55a-1850-4a88-8c8c-8f67a66e7f11",
   "metadata": {},
   "outputs": [],
   "source": []
  },
  {
   "cell_type": "code",
   "execution_count": null,
   "id": "051251a2-ed79-4bd4-893b-5200d44b198d",
   "metadata": {},
   "outputs": [],
   "source": []
  },
  {
   "cell_type": "code",
   "execution_count": null,
   "id": "279c8eca-6760-47e7-88a2-44c14f40dd95",
   "metadata": {},
   "outputs": [],
   "source": []
  },
  {
   "cell_type": "code",
   "execution_count": null,
   "id": "378e0d95-a3fb-4b33-8734-779f548afbdf",
   "metadata": {},
   "outputs": [],
   "source": []
  },
  {
   "cell_type": "code",
   "execution_count": null,
   "id": "8fab9157-e86b-45d7-805e-9d299c59d68f",
   "metadata": {},
   "outputs": [],
   "source": []
  },
  {
   "cell_type": "code",
   "execution_count": null,
   "id": "225bc9b6-2fc7-4451-9435-351990e59979",
   "metadata": {},
   "outputs": [],
   "source": []
  },
  {
   "cell_type": "code",
   "execution_count": null,
   "id": "546ad03d-207b-4111-b525-3191532db293",
   "metadata": {},
   "outputs": [],
   "source": []
  }
 ],
 "metadata": {
  "kernelspec": {
   "display_name": "Python 3 (ipykernel)",
   "language": "python",
   "name": "python3"
  },
  "language_info": {
   "codemirror_mode": {
    "name": "ipython",
    "version": 3
   },
   "file_extension": ".py",
   "mimetype": "text/x-python",
   "name": "python",
   "nbconvert_exporter": "python",
   "pygments_lexer": "ipython3",
   "version": "3.10.13"
  }
 },
 "nbformat": 4,
 "nbformat_minor": 5
}
