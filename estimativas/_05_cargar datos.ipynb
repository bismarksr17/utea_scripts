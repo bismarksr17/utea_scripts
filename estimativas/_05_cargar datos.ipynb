{
 "cells": [
  {
   "cell_type": "code",
   "execution_count": 16,
   "id": "0450dd2c-0bf1-412c-b9aa-acc90d026d3c",
   "metadata": {},
   "outputs": [],
   "source": [
    "import sys\n",
    "sys.path.append('../')"
   ]
  },
  {
   "cell_type": "code",
   "execution_count": 17,
   "id": "54ff4a83-11c1-422a-8ae9-3a34b549eee6",
   "metadata": {},
   "outputs": [],
   "source": [
    "import pandas as pd\n",
    "import geopandas as gpd\n",
    "from sqlalchemy import create_engine, Table, text\n",
    "\n",
    "from config import RUTA_UNIDAD_ONE_DRIVE\n",
    "from config import RUTA_LOCAL_ONE_DRIVE\n",
    "from config import POSTGRES_UTEA"
   ]
  },
  {
   "cell_type": "code",
   "execution_count": 18,
   "id": "6e3438e0-44c8-4c33-8791-ebf5dc77b97e",
   "metadata": {},
   "outputs": [],
   "source": [
    "USER_DB = POSTGRES_UTEA['USER']\n",
    "PASS_DB = POSTGRES_UTEA['PASSWORD']\n",
    "HOST_DB = POSTGRES_UTEA['HOST']\n",
    "PORT_DB = POSTGRES_UTEA['PORT']\n",
    "NAME_DB = POSTGRES_UTEA['DATABASE']\n",
    "\n",
    "ENGINE = create_engine(f'postgresql+psycopg://{USER_DB}:{PASS_DB}@{HOST_DB}:{PORT_DB}/{NAME_DB}')\n",
    "\n",
    "PATH_GRUPOS_COSECHA = RUTA_UNIDAD_ONE_DRIVE + r'\\Ingenio Azucarero Guabira S.A\\UTEA - SEMANAL - AVANCE COSECHA\\2025\\DATA\\GRUPO_COSECHA.xlsx'\n",
    "PATH_INSTITUCIONES = RUTA_UNIDAD_ONE_DRIVE + r'\\Ingenio Azucarero Guabira S.A\\UTEA - SEMANAL - AVANCE COSECHA\\2025\\DATA\\INSTITUCIONES.xlsx'\n",
    "\n",
    "PATH_PLAN_ZAFRA = RUTA_UNIDAD_ONE_DRIVE + r'\\Ingenio Azucarero Guabira S.A\\COMPROMISOS ZAFRA 2025 - Documents\\PLAN ZAFRA 2025\\PLAN DE ZAFRA OFICIAL.xlsx'\n",
    "PATH_LAICA = RUTA_UNIDAD_ONE_DRIVE + r'\\Ingenio Azucarero Guabira S.A\\COOR_GERENCIA_CANA - PARTES_LAICA\\LAICA 6_2025.xlsx'\n",
    "PATH_GRUPOS_ECO = RUTA_UNIDAD_ONE_DRIVE + r'\\Ingenio Azucarero Guabira S.A\\UTEA - SEMANAL - AVANCE COSECHA\\2025\\DATA\\GRUPOS ECONOMICOS.xlsx'\n",
    "PATH_COMPROMISO_FIRMADO = RUTA_UNIDAD_ONE_DRIVE + r'\\Ingenio Azucarero Guabira S.A\\UTEA - SEMANAL - AVANCE COSECHA\\2025\\DATA\\COMPROMISOS FIRMADOS ZAFRA.xlsx'\n",
    "PATH_TCH = RUTA_UNIDAD_ONE_DRIVE + r'\\Ingenio Azucarero Guabira S.A\\UTEA - SEMANAL - AVANCE COSECHA\\2025\\DATA\\TCHS.xlsx'\n",
    "\n",
    "PATH_XLSX_ACCESOS_AGROCITTCA = RUTA_UNIDAD_ONE_DRIVE + r'\\Ingenio Azucarero Guabira S.A\\UTEA - SEMANAL - AGRO-CITTCA\\LISTA.xlsx'\n"
   ]
  },
  {
   "cell_type": "code",
   "execution_count": 19,
   "id": "7a49a41f-29ae-4007-ab6c-77c711d4a5d0",
   "metadata": {},
   "outputs": [],
   "source": [
    "def cargar_codigos_cosecha():\n",
    "    try:\n",
    "        df = pd.read_excel(PATH_GRUPOS_COSECHA, sheet_name='2025')\n",
    "        df = df[['INS', 'CODIGO CAÑERO', 'NOMBRE CAÑERO', 'GRUPO DE COSECHA', 'DELEGADO']]\n",
    "        df = df.rename(columns={\n",
    "            'INS': 'inst',\n",
    "            'CODIGO CAÑERO': 'cod_ca',\n",
    "            'NOMBRE CAÑERO': 'nom_ca',\n",
    "            'GRUPO DE COSECHA': 'cod_cos',\n",
    "            'DELEGADO': 'delegado'\n",
    "        })\n",
    "        df = df.sort_values(by=['cod_cos', 'inst', 'cod_ca'])\n",
    "        return df\n",
    "    except Exception as e:\n",
    "        print(f\"❌ Error al cargar el archivo: {e}\")\n",
    "        return pd.DataFrame()\n",
    "\n",
    "def cargar_cod_cos_a_db(df):\n",
    "    # Convertir tipos para Postgres\n",
    "    df['inst']     = df['inst'].astype('Int64')\n",
    "    df['cod_ca']   = df['cod_ca'].astype('Int64')\n",
    "    df['cod_cos']  = df['cod_cos'].astype('Int64')\n",
    "    df['nom_ca']   = df['nom_ca'].astype(str)\n",
    "\n",
    "    with ENGINE.begin() as conn:  # Inicia transacción\n",
    "        # Vaciar la tabla y reiniciar secuencia\n",
    "        conn.execute(text(f'TRUNCATE TABLE catastro_iag.data_codigos_cosecha RESTART IDENTITY'))\n",
    "        \n",
    "        # Insertar nuevos datos\n",
    "        df.to_sql(\n",
    "            name='data_codigos_cosecha',\n",
    "            con=conn,  # conexión cruda dentro de la transacción\n",
    "            schema='catastro_iag',\n",
    "            if_exists='append',\n",
    "            index=False,\n",
    "            method='multi',\n",
    "            chunksize=1000\n",
    "        )\n",
    "    print(f\"✅ Se ha actualziado la tabla de codigos cosecha\")\n",
    "\n",
    "def get_accesos_agrocittca():\n",
    "    try:\n",
    "        df = pd.read_excel(PATH_XLSX_ACCESOS_AGROCITTCA)\n",
    "        df = df.sort_values(by=['cod_cos'])\n",
    "        return df\n",
    "    except Exception as e:\n",
    "        print(f\"❌ Error accesos agrocittca: {e}\")\n",
    "        return pd.DataFrame()\n",
    "\n",
    "def cargar_accesos_agrocittca_a_db(df):\n",
    "    # Convertir tipos para Postgres\n",
    "    df['id']     = df['id'].astype('Int64')\n",
    "    df['cod_cos']  = df['cod_cos'].astype('Int64')\n",
    "    df['cod_ca']   = df['cod_ca'].astype('Int64')\n",
    "    df['nom_ca']   = df['nom_ca'].astype(str)\n",
    "\n",
    "    with ENGINE.begin() as conn:  # Inicia transacción\n",
    "        # Vaciar la tabla y reiniciar secuencia\n",
    "        #conn.execute(text(f'TRUNCATE TABLE data.data_accesos_agrocittca RESTART IDENTITY'))\n",
    "        \n",
    "        # Insertar nuevos datos\n",
    "        df.to_sql(\n",
    "            name='data_accesos_agrocittca',\n",
    "            con=conn,  # conexión cruda dentro de la transacción\n",
    "            schema='data',\n",
    "            if_exists='append',\n",
    "            index=False,\n",
    "            method='multi',\n",
    "            chunksize=1000\n",
    "        )\n",
    "    print(f\"✅ Se ha actualziado la tabla de acceos de agrocittca\")\n",
    "\n",
    "\n",
    "def cargar_instituciones():\n",
    "    try:\n",
    "        df = pd.read_excel(PATH_INSTITUCIONES)\n",
    "        return df\n",
    "    except Exception as e:\n",
    "        print(f\"❌ Error al cargar el archivo: {e}\")\n",
    "        return pd.DataFrame()\n",
    "\n",
    "def cargar_instituciones_a_db(df):\n",
    "    # Convertir tipos para Postgres\n",
    "    df['cod']     = df['cod'].astype('Int64')\n",
    "    df['nom_inst']   = df['nom_inst'].astype(str)\n",
    "    with ENGINE.begin() as conn:  # Inicia transacción\n",
    "        # Vaciar la tabla y reiniciar secuencia\n",
    "        conn.execute(text(f'TRUNCATE TABLE catastro_iag.data_instituciones RESTART IDENTITY'))\n",
    "        # Insertar nuevos datos\n",
    "        df.to_sql(\n",
    "            name='data_instituciones',\n",
    "            con=conn,  # conexión cruda dentro de la transacción\n",
    "            schema='catastro_iag',\n",
    "            if_exists='append',\n",
    "            index=False,\n",
    "            method='multi',\n",
    "            chunksize=1000\n",
    "        )\n",
    "    print(f\"✅ Se ha actualziado la tabla de instituciones\")\n",
    "\n",
    "def cargar_plan_zafra():\n",
    "    try:\n",
    "        df = pd.read_excel(PATH_PLAN_ZAFRA, sheet_name='BASE CAÑEROS')\n",
    "        df = df[['INST.', 'COD. CAÑERO.1', 'NOMBRE DEL CAÑERO', 'TONELADAS COMPROMISO']]        \n",
    "        df = df.rename(columns={\n",
    "            'INST.': 'inst',\n",
    "            'COD. CAÑERO.1': 'cod_ca',\n",
    "            'NOMBRE DEL CAÑERO': 'nom_ca',\n",
    "            'TONELADAS COMPROMISO': 'compromiso'\n",
    "        })\n",
    "        df = df.sort_values(by=['inst', 'cod_ca'])\n",
    "        return df\n",
    "    except Exception as e:\n",
    "        print(f\"❌ Error al cargar el archivo: {e}\")\n",
    "        return pd.DataFrame()\n",
    "\n",
    "def cargar_plan_zafra_a_db(df):\n",
    "    # Convertir tipos para Postgres\n",
    "    df['inst']     = df['inst'].astype('Int64')\n",
    "    df['cod_ca']   = df['cod_ca'].astype('Int64')\n",
    "    df['nom_ca']   = df['nom_ca'].astype(str)\n",
    "    with ENGINE.begin() as conn:  # Inicia transacción\n",
    "        # Vaciar la tabla y reiniciar secuencia\n",
    "        conn.execute(text(f'TRUNCATE TABLE catastro_iag.data_plan_zafra RESTART IDENTITY'))\n",
    "        \n",
    "        # Insertar nuevos datos\n",
    "        df.to_sql(\n",
    "            name='data_plan_zafra',\n",
    "            con=conn,  # conexión cruda dentro de la transacción\n",
    "            schema='catastro_iag',\n",
    "            if_exists='append',\n",
    "            index=False,\n",
    "            method='multi',\n",
    "            chunksize=1000\n",
    "        )\n",
    "    print(f\"✅ Se ha actualziado la tabla de plan de zafra\")\n",
    "    \n",
    "def get_resumen_estimativa():\n",
    "    try:\n",
    "        query = \"select unidad_01, unidad_03, categoria, sum(area) as area from catastro_iag.estimativa group by unidad_01, unidad_03, categoria\"\n",
    "        df = pd.read_sql(query, ENGINE)\n",
    "        return df\n",
    "    except Exception as e:\n",
    "        print(\"❌ Error al leer datos de ESTIMATIVA:\", e)\n",
    "        return pd.DataFrame()\n",
    "    return None\n",
    "\n",
    "def cargar_resumen_estimativa_a_db(df):\n",
    "    with ENGINE.begin() as conn:  # Inicia transacción\n",
    "        # Vaciar la tabla y reiniciar secuencia\n",
    "        conn.execute(text(f'TRUNCATE TABLE catastro_iag.data_resumen_estimativa RESTART IDENTITY'))\n",
    "        \n",
    "        # Insertar nuevos datos\n",
    "        df.to_sql(\n",
    "            name='data_resumen_estimativa',\n",
    "            con=conn,  # conexión cruda dentro de la transacción\n",
    "            schema='catastro_iag',\n",
    "            if_exists='append',\n",
    "            index=False,\n",
    "            method='multi',\n",
    "            chunksize=1000\n",
    "        )\n",
    "    print(f\"✅ Se ha actualziado la tabla de resumen estimativa\")\n",
    "    \n",
    "def cargar_laica():\n",
    "    try:\n",
    "        df = pd.read_excel(PATH_LAICA, sheet_name='Datos')\n",
    "        df = df[['Fecha', 'Cod. Cañero', 'Nombre Cañero', 'kg Caña Neta', '% Material Extraño (Inspección)', '% Pureza', 'PCF', 'Tipo Cosecha', 'Tipo Caña']]        \n",
    "        df = df.rename(columns={\n",
    "            'Fecha': 'fecha',\n",
    "            'Cod. Cañero': 'cod_ca',\n",
    "            'Nombre Cañero': 'nom_ca',\n",
    "            'kg Caña Neta': 'kg_entregado',\n",
    "            '% Material Extraño (Inspección)': 'me', \n",
    "            '% Pureza': 'pureza', \n",
    "            'PCF': 'pcf', \n",
    "            'Tipo Cosecha': 'tipo_cosecha', \n",
    "            'Tipo Caña': 'tipo_cana'\n",
    "        })\n",
    "        return df\n",
    "    except Exception as e:\n",
    "        print(f\"❌ Error al cargar el archivo: {e}\")\n",
    "        return pd.DataFrame()\n",
    "\n",
    "def cargar_datos_laica_a_db(df):\n",
    "    with ENGINE.begin() as conn:  # Inicia transacción\n",
    "        # Vaciar la tabla y reiniciar secuencia\n",
    "        conn.execute(text(f'TRUNCATE TABLE catastro_iag.data_laica RESTART IDENTITY'))\n",
    "        \n",
    "        # Insertar nuevos datos\n",
    "        df.to_sql(\n",
    "            name='data_laica',\n",
    "            con=conn,  # conexión cruda dentro de la transacción\n",
    "            schema='catastro_iag',\n",
    "            if_exists='append',\n",
    "            index=False,\n",
    "            method='multi',\n",
    "            chunksize=1000\n",
    "        )\n",
    "    print(f\"✅ Se ha actualziado la tabla de datos laica\")\n",
    "\n",
    "def cargar_grupos_eco():\n",
    "    try:\n",
    "        df = pd.read_excel(PATH_GRUPOS_ECO, sheet_name='RESUMEN_GRUPO_ECO')\n",
    "        df = df.rename(columns={\n",
    "            'DEUDOR': 'deudor',\n",
    "            'CODIGO': 'codigo',\n",
    "            'NOMBRE': 'nombre',\n",
    "            'GRUPO ECONOMICO': 'grupo_economico',\n",
    "            'COD. INSTITUCION': 'cod_institucion',\n",
    "            'ORDEN': 'orden',\n",
    "            'Cabeza del Grupo': 'cabeza_del_grupo'\n",
    "        })\n",
    "        return df\n",
    "    except Exception as e:\n",
    "        print(f\"❌ Error al cargar el archivo: {e}\")\n",
    "        return pd.DataFrame()\n",
    "\n",
    "def cargar_datos_grupo_eco_a_db(df):\n",
    "    with ENGINE.begin() as conn:  # Inicia transacción\n",
    "        # Vaciar la tabla y reiniciar secuencia\n",
    "        conn.execute(text(f'TRUNCATE TABLE catastro_iag.data_grupo_eco RESTART IDENTITY'))\n",
    "        \n",
    "        # Insertar nuevos datos\n",
    "        df.to_sql(\n",
    "            name='data_grupo_eco',\n",
    "            con=conn,  # conexión cruda dentro de la transacción\n",
    "            schema='catastro_iag',\n",
    "            if_exists='append',\n",
    "            index=False,\n",
    "            method='multi',\n",
    "            chunksize=1000\n",
    "        )\n",
    "    print(f\"✅ Se ha actualziado la tabla de datos grupos economicos\")\n",
    "\n",
    "def cargar_compromiso_firmado():\n",
    "    try:\n",
    "        df = pd.read_excel(PATH_COMPROMISO_FIRMADO, sheet_name='RESUMEN_COMPROMISO')\n",
    "        df = df.rename(columns={\n",
    "            'COD.': 'cod',\n",
    "            'TONELADAS': 'toneladas',\n",
    "            'GRUPO_ECO': 'grupo_eco'\n",
    "        })\n",
    "        return df\n",
    "    except Exception as e:\n",
    "        print(f\"❌ Error al cargar el archivo: {e}\")\n",
    "        return pd.DataFrame()\n",
    "\n",
    "def cargar_compromiso_firmado_a_db(df):\n",
    "    with ENGINE.begin() as conn:  # Inicia transacción\n",
    "        # Vaciar la tabla y reiniciar secuencia\n",
    "        conn.execute(text(f'TRUNCATE TABLE catastro_iag.data_compromiso_firmado RESTART IDENTITY'))\n",
    "        \n",
    "        # Insertar nuevos datos\n",
    "        df.to_sql(\n",
    "            name='data_compromiso_firmado',\n",
    "            con=conn,  # conexión cruda dentro de la transacción\n",
    "            schema='catastro_iag',\n",
    "            if_exists='append',\n",
    "            index=False,\n",
    "            method='multi',\n",
    "            chunksize=1000\n",
    "        )\n",
    "    print(f\"✅ Se ha actualziado la tabla de datos grupos economicos\")\n",
    "\n",
    "def cargar_estimativa_lote_a_db(df):\n",
    "    with ENGINE.begin() as conn:  # Inicia transacción\n",
    "        # Vaciar la tabla y reiniciar secuencia\n",
    "        conn.execute(text(f'TRUNCATE TABLE catastro_iag.data_estimativa_lote RESTART IDENTITY'))\n",
    "        \n",
    "        # Insertar nuevos datos\n",
    "        df.to_sql(\n",
    "            name='data_estimativa_lote',\n",
    "            con=conn,  # conexión cruda dentro de la transacción\n",
    "            schema='catastro_iag',\n",
    "            if_exists='append',\n",
    "            index=False,\n",
    "            method='multi',\n",
    "            chunksize=1000\n",
    "        )\n",
    "    print(f\"✅ Se ha actualziado la tabla de datos estimativa lote\")\n",
    "\n",
    "def cargar_xlsx_tchs():\n",
    "    try:\n",
    "        df = pd.read_excel(PATH_TCH)\n",
    "        return df\n",
    "    except Exception as e:\n",
    "        print(f\"❌ Error al cargar el archivo: {e}\")\n",
    "        return pd.DataFrame()\n",
    "\n",
    "def cargar_estimativa_lote_a_db(df):\n",
    "    with ENGINE.begin() as conn:  # Inicia transacción\n",
    "        # Vaciar la tabla y reiniciar secuencia\n",
    "        conn.execute(text(f'TRUNCATE TABLE catastro_iag.data_estimativa_lote RESTART IDENTITY'))\n",
    "        \n",
    "        # Insertar nuevos datos\n",
    "        df.to_sql(\n",
    "            name='data_estimativa_lote',\n",
    "            con=conn,  # conexión cruda dentro de la transacción\n",
    "            schema='catastro_iag',\n",
    "            if_exists='append',\n",
    "            index=False,\n",
    "            method='multi',\n",
    "            chunksize=1000\n",
    "        )\n",
    "    print(f\"✅ Se ha actualziado la tabla de datos estimativa lote\")\n",
    "\n",
    "def get_propiedades_estimativa():\n",
    "    try:\n",
    "        query = \"select distinct(unidad_01), unidad_02 from catastro_iag.estimativa order by unidad_01\"\n",
    "        df = pd.read_sql(query, ENGINE)\n",
    "        return df\n",
    "    except Exception as e:\n",
    "        print(\"❌ Error al leer datos de ESTIMATIVA:\", e)\n",
    "        return pd.DataFrame()\n",
    "    return None\n",
    "\n",
    "def get_estimativa_idd():\n",
    "    try:\n",
    "        query = \"SELECT unidad_01, unidad_03, unidad_05, categoria, area, unidad_01 || '|' || categoria idd FROM catastro_iag.estimativa\"\n",
    "        df = pd.read_sql(query, ENGINE)\n",
    "        return df\n",
    "    except Exception as e:\n",
    "        print(\"❌ Error al leer datos de ESTIMATIVA:\", e)\n",
    "        return pd.DataFrame()\n",
    "    return None\n"
   ]
  },
  {
   "cell_type": "code",
   "execution_count": null,
   "id": "9658b332-d4e2-4745-9d3a-ecc9a0ba95b5",
   "metadata": {},
   "outputs": [],
   "source": []
  },
  {
   "cell_type": "code",
   "execution_count": null,
   "id": "273fec97-eb7c-41c8-814b-47ee048a7b37",
   "metadata": {},
   "outputs": [],
   "source": []
  },
  {
   "cell_type": "code",
   "execution_count": null,
   "id": "7fb87660-ab23-49c1-82e8-fcc329f7b754",
   "metadata": {},
   "outputs": [],
   "source": []
  },
  {
   "cell_type": "code",
   "execution_count": null,
   "id": "f112661e-ccf9-4dcd-a279-5403d32dab72",
   "metadata": {},
   "outputs": [],
   "source": []
  },
  {
   "cell_type": "code",
   "execution_count": null,
   "id": "43f17269-47c1-4bbc-bf71-a3322d42b91d",
   "metadata": {},
   "outputs": [],
   "source": []
  },
  {
   "cell_type": "code",
   "execution_count": 5,
   "id": "edee2535-a65b-4faf-b741-b5c71ac57198",
   "metadata": {},
   "outputs": [
    {
     "ename": "ProgrammingError",
     "evalue": "(psycopg.errors.InvalidSchemaName) no existe el esquema «data»\nLINE 2: CREATE TABLE data.data_accesos_agrocittca (\n                     ^\n[SQL: \nCREATE TABLE data.data_accesos_agrocittca (\n\tid BIGINT, \n\tcod_cos BIGINT, \n\tcod_ca BIGINT, \n\tnom_ca TEXT, \n\tusuario TEXT, \n\tpassword TEXT, \n\tpropiedad TEXT, \n\tcorreo_nax TEXT, \n\tpassword_nax TEXT\n)\n\n]\n(Background on this error at: https://sqlalche.me/e/20/f405)",
     "output_type": "error",
     "traceback": [
      "\u001b[1;31m---------------------------------------------------------------------------\u001b[0m",
      "\u001b[1;31mInvalidSchemaName\u001b[0m                         Traceback (most recent call last)",
      "File \u001b[1;32m~\\anaconda3\\envs\\utea\\lib\\site-packages\\sqlalchemy\\engine\\base.py:1964\u001b[0m, in \u001b[0;36mConnection._exec_single_context\u001b[1;34m(self, dialect, context, statement, parameters)\u001b[0m\n\u001b[0;32m   1963\u001b[0m     \u001b[38;5;28;01mif\u001b[39;00m \u001b[38;5;129;01mnot\u001b[39;00m evt_handled:\n\u001b[1;32m-> 1964\u001b[0m         \u001b[38;5;28;43mself\u001b[39;49m\u001b[38;5;241;43m.\u001b[39;49m\u001b[43mdialect\u001b[49m\u001b[38;5;241;43m.\u001b[39;49m\u001b[43mdo_execute\u001b[49m\u001b[43m(\u001b[49m\n\u001b[0;32m   1965\u001b[0m \u001b[43m            \u001b[49m\u001b[43mcursor\u001b[49m\u001b[43m,\u001b[49m\u001b[43m \u001b[49m\u001b[43mstr_statement\u001b[49m\u001b[43m,\u001b[49m\u001b[43m \u001b[49m\u001b[43meffective_parameters\u001b[49m\u001b[43m,\u001b[49m\u001b[43m \u001b[49m\u001b[43mcontext\u001b[49m\n\u001b[0;32m   1966\u001b[0m \u001b[43m        \u001b[49m\u001b[43m)\u001b[49m\n\u001b[0;32m   1968\u001b[0m \u001b[38;5;28;01mif\u001b[39;00m \u001b[38;5;28mself\u001b[39m\u001b[38;5;241m.\u001b[39m_has_events \u001b[38;5;129;01mor\u001b[39;00m \u001b[38;5;28mself\u001b[39m\u001b[38;5;241m.\u001b[39mengine\u001b[38;5;241m.\u001b[39m_has_events:\n",
      "File \u001b[1;32m~\\anaconda3\\envs\\utea\\lib\\site-packages\\sqlalchemy\\engine\\default.py:945\u001b[0m, in \u001b[0;36mDefaultDialect.do_execute\u001b[1;34m(self, cursor, statement, parameters, context)\u001b[0m\n\u001b[0;32m    944\u001b[0m \u001b[38;5;28;01mdef\u001b[39;00m \u001b[38;5;21mdo_execute\u001b[39m(\u001b[38;5;28mself\u001b[39m, cursor, statement, parameters, context\u001b[38;5;241m=\u001b[39m\u001b[38;5;28;01mNone\u001b[39;00m):\n\u001b[1;32m--> 945\u001b[0m     \u001b[43mcursor\u001b[49m\u001b[38;5;241;43m.\u001b[39;49m\u001b[43mexecute\u001b[49m\u001b[43m(\u001b[49m\u001b[43mstatement\u001b[49m\u001b[43m,\u001b[49m\u001b[43m \u001b[49m\u001b[43mparameters\u001b[49m\u001b[43m)\u001b[49m\n",
      "File \u001b[1;32m~\\anaconda3\\envs\\utea\\lib\\site-packages\\psycopg\\cursor.py:97\u001b[0m, in \u001b[0;36mCursor.execute\u001b[1;34m(self, query, params, prepare, binary)\u001b[0m\n\u001b[0;32m     96\u001b[0m \u001b[38;5;28;01mexcept\u001b[39;00m e\u001b[38;5;241m.\u001b[39m_NO_TRACEBACK \u001b[38;5;28;01mas\u001b[39;00m ex:\n\u001b[1;32m---> 97\u001b[0m     \u001b[38;5;28;01mraise\u001b[39;00m ex\u001b[38;5;241m.\u001b[39mwith_traceback(\u001b[38;5;28;01mNone\u001b[39;00m)\n\u001b[0;32m     98\u001b[0m \u001b[38;5;28;01mreturn\u001b[39;00m \u001b[38;5;28mself\u001b[39m\n",
      "\u001b[1;31mInvalidSchemaName\u001b[0m: no existe el esquema «data»\nLINE 2: CREATE TABLE data.data_accesos_agrocittca (\n                     ^",
      "\nThe above exception was the direct cause of the following exception:\n",
      "\u001b[1;31mProgrammingError\u001b[0m                          Traceback (most recent call last)",
      "Cell \u001b[1;32mIn[5], line 2\u001b[0m\n\u001b[0;32m      1\u001b[0m accesos \u001b[38;5;241m=\u001b[39m get_accesos_agrocittca()\n\u001b[1;32m----> 2\u001b[0m \u001b[43mcargar_accesos_agrocittca_a_db\u001b[49m\u001b[43m(\u001b[49m\u001b[43maccesos\u001b[49m\u001b[43m)\u001b[49m\n",
      "Cell \u001b[1;32mIn[4], line 62\u001b[0m, in \u001b[0;36mcargar_accesos_agrocittca_a_db\u001b[1;34m(df)\u001b[0m\n\u001b[0;32m     55\u001b[0m df[\u001b[38;5;124m'\u001b[39m\u001b[38;5;124mnom_ca\u001b[39m\u001b[38;5;124m'\u001b[39m]   \u001b[38;5;241m=\u001b[39m df[\u001b[38;5;124m'\u001b[39m\u001b[38;5;124mnom_ca\u001b[39m\u001b[38;5;124m'\u001b[39m]\u001b[38;5;241m.\u001b[39mastype(\u001b[38;5;28mstr\u001b[39m)\n\u001b[0;32m     57\u001b[0m \u001b[38;5;28;01mwith\u001b[39;00m ENGINE\u001b[38;5;241m.\u001b[39mbegin() \u001b[38;5;28;01mas\u001b[39;00m conn:  \u001b[38;5;66;03m# Inicia transacción\u001b[39;00m\n\u001b[0;32m     58\u001b[0m     \u001b[38;5;66;03m# Vaciar la tabla y reiniciar secuencia\u001b[39;00m\n\u001b[0;32m     59\u001b[0m     \u001b[38;5;66;03m#conn.execute(text(f'TRUNCATE TABLE data.data_accesos_agrocittca RESTART IDENTITY'))\u001b[39;00m\n\u001b[0;32m     60\u001b[0m     \n\u001b[0;32m     61\u001b[0m     \u001b[38;5;66;03m# Insertar nuevos datos\u001b[39;00m\n\u001b[1;32m---> 62\u001b[0m     \u001b[43mdf\u001b[49m\u001b[38;5;241;43m.\u001b[39;49m\u001b[43mto_sql\u001b[49m\u001b[43m(\u001b[49m\n\u001b[0;32m     63\u001b[0m \u001b[43m        \u001b[49m\u001b[43mname\u001b[49m\u001b[38;5;241;43m=\u001b[39;49m\u001b[38;5;124;43m'\u001b[39;49m\u001b[38;5;124;43mdata_accesos_agrocittca\u001b[39;49m\u001b[38;5;124;43m'\u001b[39;49m\u001b[43m,\u001b[49m\n\u001b[0;32m     64\u001b[0m \u001b[43m        \u001b[49m\u001b[43mcon\u001b[49m\u001b[38;5;241;43m=\u001b[39;49m\u001b[43mconn\u001b[49m\u001b[43m,\u001b[49m\u001b[43m  \u001b[49m\u001b[38;5;66;43;03m# conexión cruda dentro de la transacción\u001b[39;49;00m\n\u001b[0;32m     65\u001b[0m \u001b[43m        \u001b[49m\u001b[43mschema\u001b[49m\u001b[38;5;241;43m=\u001b[39;49m\u001b[38;5;124;43m'\u001b[39;49m\u001b[38;5;124;43mdata\u001b[39;49m\u001b[38;5;124;43m'\u001b[39;49m\u001b[43m,\u001b[49m\n\u001b[0;32m     66\u001b[0m \u001b[43m        \u001b[49m\u001b[43mif_exists\u001b[49m\u001b[38;5;241;43m=\u001b[39;49m\u001b[38;5;124;43m'\u001b[39;49m\u001b[38;5;124;43mappend\u001b[39;49m\u001b[38;5;124;43m'\u001b[39;49m\u001b[43m,\u001b[49m\n\u001b[0;32m     67\u001b[0m \u001b[43m        \u001b[49m\u001b[43mindex\u001b[49m\u001b[38;5;241;43m=\u001b[39;49m\u001b[38;5;28;43;01mFalse\u001b[39;49;00m\u001b[43m,\u001b[49m\n\u001b[0;32m     68\u001b[0m \u001b[43m        \u001b[49m\u001b[43mmethod\u001b[49m\u001b[38;5;241;43m=\u001b[39;49m\u001b[38;5;124;43m'\u001b[39;49m\u001b[38;5;124;43mmulti\u001b[39;49m\u001b[38;5;124;43m'\u001b[39;49m\u001b[43m,\u001b[49m\n\u001b[0;32m     69\u001b[0m \u001b[43m        \u001b[49m\u001b[43mchunksize\u001b[49m\u001b[38;5;241;43m=\u001b[39;49m\u001b[38;5;241;43m1000\u001b[39;49m\n\u001b[0;32m     70\u001b[0m \u001b[43m    \u001b[49m\u001b[43m)\u001b[49m\n\u001b[0;32m     71\u001b[0m \u001b[38;5;28mprint\u001b[39m(\u001b[38;5;124mf\u001b[39m\u001b[38;5;124m\"\u001b[39m\u001b[38;5;124m✅ Se ha actualziado la tabla de acceos de agrocittca\u001b[39m\u001b[38;5;124m\"\u001b[39m)\n",
      "File \u001b[1;32m~\\anaconda3\\envs\\utea\\lib\\site-packages\\pandas\\util\\_decorators.py:333\u001b[0m, in \u001b[0;36mdeprecate_nonkeyword_arguments.<locals>.decorate.<locals>.wrapper\u001b[1;34m(*args, **kwargs)\u001b[0m\n\u001b[0;32m    327\u001b[0m \u001b[38;5;28;01mif\u001b[39;00m \u001b[38;5;28mlen\u001b[39m(args) \u001b[38;5;241m>\u001b[39m num_allow_args:\n\u001b[0;32m    328\u001b[0m     warnings\u001b[38;5;241m.\u001b[39mwarn(\n\u001b[0;32m    329\u001b[0m         msg\u001b[38;5;241m.\u001b[39mformat(arguments\u001b[38;5;241m=\u001b[39m_format_argument_list(allow_args)),\n\u001b[0;32m    330\u001b[0m         \u001b[38;5;167;01mFutureWarning\u001b[39;00m,\n\u001b[0;32m    331\u001b[0m         stacklevel\u001b[38;5;241m=\u001b[39mfind_stack_level(),\n\u001b[0;32m    332\u001b[0m     )\n\u001b[1;32m--> 333\u001b[0m \u001b[38;5;28;01mreturn\u001b[39;00m func(\u001b[38;5;241m*\u001b[39margs, \u001b[38;5;241m*\u001b[39m\u001b[38;5;241m*\u001b[39mkwargs)\n",
      "File \u001b[1;32m~\\anaconda3\\envs\\utea\\lib\\site-packages\\pandas\\core\\generic.py:3081\u001b[0m, in \u001b[0;36mNDFrame.to_sql\u001b[1;34m(self, name, con, schema, if_exists, index, index_label, chunksize, dtype, method)\u001b[0m\n\u001b[0;32m   2886\u001b[0m \u001b[38;5;250m\u001b[39m\u001b[38;5;124;03m\"\"\"\u001b[39;00m\n\u001b[0;32m   2887\u001b[0m \u001b[38;5;124;03mWrite records stored in a DataFrame to a SQL database.\u001b[39;00m\n\u001b[0;32m   2888\u001b[0m \n\u001b[1;32m   (...)\u001b[0m\n\u001b[0;32m   3077\u001b[0m \u001b[38;5;124;03m[(1,), (None,), (2,)]\u001b[39;00m\n\u001b[0;32m   3078\u001b[0m \u001b[38;5;124;03m\"\"\"\u001b[39;00m  \u001b[38;5;66;03m# noqa: E501\u001b[39;00m\n\u001b[0;32m   3079\u001b[0m \u001b[38;5;28;01mfrom\u001b[39;00m \u001b[38;5;21;01mpandas\u001b[39;00m\u001b[38;5;21;01m.\u001b[39;00m\u001b[38;5;21;01mio\u001b[39;00m \u001b[38;5;28;01mimport\u001b[39;00m sql\n\u001b[1;32m-> 3081\u001b[0m \u001b[38;5;28;01mreturn\u001b[39;00m \u001b[43msql\u001b[49m\u001b[38;5;241;43m.\u001b[39;49m\u001b[43mto_sql\u001b[49m\u001b[43m(\u001b[49m\n\u001b[0;32m   3082\u001b[0m \u001b[43m    \u001b[49m\u001b[38;5;28;43mself\u001b[39;49m\u001b[43m,\u001b[49m\n\u001b[0;32m   3083\u001b[0m \u001b[43m    \u001b[49m\u001b[43mname\u001b[49m\u001b[43m,\u001b[49m\n\u001b[0;32m   3084\u001b[0m \u001b[43m    \u001b[49m\u001b[43mcon\u001b[49m\u001b[43m,\u001b[49m\n\u001b[0;32m   3085\u001b[0m \u001b[43m    \u001b[49m\u001b[43mschema\u001b[49m\u001b[38;5;241;43m=\u001b[39;49m\u001b[43mschema\u001b[49m\u001b[43m,\u001b[49m\n\u001b[0;32m   3086\u001b[0m \u001b[43m    \u001b[49m\u001b[43mif_exists\u001b[49m\u001b[38;5;241;43m=\u001b[39;49m\u001b[43mif_exists\u001b[49m\u001b[43m,\u001b[49m\n\u001b[0;32m   3087\u001b[0m \u001b[43m    \u001b[49m\u001b[43mindex\u001b[49m\u001b[38;5;241;43m=\u001b[39;49m\u001b[43mindex\u001b[49m\u001b[43m,\u001b[49m\n\u001b[0;32m   3088\u001b[0m \u001b[43m    \u001b[49m\u001b[43mindex_label\u001b[49m\u001b[38;5;241;43m=\u001b[39;49m\u001b[43mindex_label\u001b[49m\u001b[43m,\u001b[49m\n\u001b[0;32m   3089\u001b[0m \u001b[43m    \u001b[49m\u001b[43mchunksize\u001b[49m\u001b[38;5;241;43m=\u001b[39;49m\u001b[43mchunksize\u001b[49m\u001b[43m,\u001b[49m\n\u001b[0;32m   3090\u001b[0m \u001b[43m    \u001b[49m\u001b[43mdtype\u001b[49m\u001b[38;5;241;43m=\u001b[39;49m\u001b[43mdtype\u001b[49m\u001b[43m,\u001b[49m\n\u001b[0;32m   3091\u001b[0m \u001b[43m    \u001b[49m\u001b[43mmethod\u001b[49m\u001b[38;5;241;43m=\u001b[39;49m\u001b[43mmethod\u001b[49m\u001b[43m,\u001b[49m\n\u001b[0;32m   3092\u001b[0m \u001b[43m\u001b[49m\u001b[43m)\u001b[49m\n",
      "File \u001b[1;32m~\\anaconda3\\envs\\utea\\lib\\site-packages\\pandas\\io\\sql.py:842\u001b[0m, in \u001b[0;36mto_sql\u001b[1;34m(frame, name, con, schema, if_exists, index, index_label, chunksize, dtype, method, engine, **engine_kwargs)\u001b[0m\n\u001b[0;32m    837\u001b[0m     \u001b[38;5;28;01mraise\u001b[39;00m \u001b[38;5;167;01mNotImplementedError\u001b[39;00m(\n\u001b[0;32m    838\u001b[0m         \u001b[38;5;124m\"\u001b[39m\u001b[38;5;124m'\u001b[39m\u001b[38;5;124mframe\u001b[39m\u001b[38;5;124m'\u001b[39m\u001b[38;5;124m argument should be either a Series or a DataFrame\u001b[39m\u001b[38;5;124m\"\u001b[39m\n\u001b[0;32m    839\u001b[0m     )\n\u001b[0;32m    841\u001b[0m \u001b[38;5;28;01mwith\u001b[39;00m pandasSQL_builder(con, schema\u001b[38;5;241m=\u001b[39mschema, need_transaction\u001b[38;5;241m=\u001b[39m\u001b[38;5;28;01mTrue\u001b[39;00m) \u001b[38;5;28;01mas\u001b[39;00m pandas_sql:\n\u001b[1;32m--> 842\u001b[0m     \u001b[38;5;28;01mreturn\u001b[39;00m pandas_sql\u001b[38;5;241m.\u001b[39mto_sql(\n\u001b[0;32m    843\u001b[0m         frame,\n\u001b[0;32m    844\u001b[0m         name,\n\u001b[0;32m    845\u001b[0m         if_exists\u001b[38;5;241m=\u001b[39mif_exists,\n\u001b[0;32m    846\u001b[0m         index\u001b[38;5;241m=\u001b[39mindex,\n\u001b[0;32m    847\u001b[0m         index_label\u001b[38;5;241m=\u001b[39mindex_label,\n\u001b[0;32m    848\u001b[0m         schema\u001b[38;5;241m=\u001b[39mschema,\n\u001b[0;32m    849\u001b[0m         chunksize\u001b[38;5;241m=\u001b[39mchunksize,\n\u001b[0;32m    850\u001b[0m         dtype\u001b[38;5;241m=\u001b[39mdtype,\n\u001b[0;32m    851\u001b[0m         method\u001b[38;5;241m=\u001b[39mmethod,\n\u001b[0;32m    852\u001b[0m         engine\u001b[38;5;241m=\u001b[39mengine,\n\u001b[0;32m    853\u001b[0m         \u001b[38;5;241m*\u001b[39m\u001b[38;5;241m*\u001b[39mengine_kwargs,\n\u001b[0;32m    854\u001b[0m     )\n",
      "File \u001b[1;32m~\\anaconda3\\envs\\utea\\lib\\site-packages\\pandas\\io\\sql.py:2011\u001b[0m, in \u001b[0;36mSQLDatabase.to_sql\u001b[1;34m(self, frame, name, if_exists, index, index_label, schema, chunksize, dtype, method, engine, **engine_kwargs)\u001b[0m\n\u001b[0;32m   1961\u001b[0m \u001b[38;5;250m\u001b[39m\u001b[38;5;124;03m\"\"\"\u001b[39;00m\n\u001b[0;32m   1962\u001b[0m \u001b[38;5;124;03mWrite records stored in a DataFrame to a SQL database.\u001b[39;00m\n\u001b[0;32m   1963\u001b[0m \n\u001b[1;32m   (...)\u001b[0m\n\u001b[0;32m   2007\u001b[0m \u001b[38;5;124;03m    Any additional kwargs are passed to the engine.\u001b[39;00m\n\u001b[0;32m   2008\u001b[0m \u001b[38;5;124;03m\"\"\"\u001b[39;00m\n\u001b[0;32m   2009\u001b[0m sql_engine \u001b[38;5;241m=\u001b[39m get_engine(engine)\n\u001b[1;32m-> 2011\u001b[0m table \u001b[38;5;241m=\u001b[39m \u001b[38;5;28;43mself\u001b[39;49m\u001b[38;5;241;43m.\u001b[39;49m\u001b[43mprep_table\u001b[49m\u001b[43m(\u001b[49m\n\u001b[0;32m   2012\u001b[0m \u001b[43m    \u001b[49m\u001b[43mframe\u001b[49m\u001b[38;5;241;43m=\u001b[39;49m\u001b[43mframe\u001b[49m\u001b[43m,\u001b[49m\n\u001b[0;32m   2013\u001b[0m \u001b[43m    \u001b[49m\u001b[43mname\u001b[49m\u001b[38;5;241;43m=\u001b[39;49m\u001b[43mname\u001b[49m\u001b[43m,\u001b[49m\n\u001b[0;32m   2014\u001b[0m \u001b[43m    \u001b[49m\u001b[43mif_exists\u001b[49m\u001b[38;5;241;43m=\u001b[39;49m\u001b[43mif_exists\u001b[49m\u001b[43m,\u001b[49m\n\u001b[0;32m   2015\u001b[0m \u001b[43m    \u001b[49m\u001b[43mindex\u001b[49m\u001b[38;5;241;43m=\u001b[39;49m\u001b[43mindex\u001b[49m\u001b[43m,\u001b[49m\n\u001b[0;32m   2016\u001b[0m \u001b[43m    \u001b[49m\u001b[43mindex_label\u001b[49m\u001b[38;5;241;43m=\u001b[39;49m\u001b[43mindex_label\u001b[49m\u001b[43m,\u001b[49m\n\u001b[0;32m   2017\u001b[0m \u001b[43m    \u001b[49m\u001b[43mschema\u001b[49m\u001b[38;5;241;43m=\u001b[39;49m\u001b[43mschema\u001b[49m\u001b[43m,\u001b[49m\n\u001b[0;32m   2018\u001b[0m \u001b[43m    \u001b[49m\u001b[43mdtype\u001b[49m\u001b[38;5;241;43m=\u001b[39;49m\u001b[43mdtype\u001b[49m\u001b[43m,\u001b[49m\n\u001b[0;32m   2019\u001b[0m \u001b[43m\u001b[49m\u001b[43m)\u001b[49m\n\u001b[0;32m   2021\u001b[0m total_inserted \u001b[38;5;241m=\u001b[39m sql_engine\u001b[38;5;241m.\u001b[39minsert_records(\n\u001b[0;32m   2022\u001b[0m     table\u001b[38;5;241m=\u001b[39mtable,\n\u001b[0;32m   2023\u001b[0m     con\u001b[38;5;241m=\u001b[39m\u001b[38;5;28mself\u001b[39m\u001b[38;5;241m.\u001b[39mcon,\n\u001b[1;32m   (...)\u001b[0m\n\u001b[0;32m   2030\u001b[0m     \u001b[38;5;241m*\u001b[39m\u001b[38;5;241m*\u001b[39mengine_kwargs,\n\u001b[0;32m   2031\u001b[0m )\n\u001b[0;32m   2033\u001b[0m \u001b[38;5;28mself\u001b[39m\u001b[38;5;241m.\u001b[39mcheck_case_sensitive(name\u001b[38;5;241m=\u001b[39mname, schema\u001b[38;5;241m=\u001b[39mschema)\n",
      "File \u001b[1;32m~\\anaconda3\\envs\\utea\\lib\\site-packages\\pandas\\io\\sql.py:1915\u001b[0m, in \u001b[0;36mSQLDatabase.prep_table\u001b[1;34m(self, frame, name, if_exists, index, index_label, schema, dtype)\u001b[0m\n\u001b[0;32m   1903\u001b[0m             \u001b[38;5;28;01mraise\u001b[39;00m \u001b[38;5;167;01mValueError\u001b[39;00m(\u001b[38;5;124mf\u001b[39m\u001b[38;5;124m\"\u001b[39m\u001b[38;5;124mThe type of \u001b[39m\u001b[38;5;132;01m{\u001b[39;00mcol\u001b[38;5;132;01m}\u001b[39;00m\u001b[38;5;124m is not a SQLAlchemy type\u001b[39m\u001b[38;5;124m\"\u001b[39m)\n\u001b[0;32m   1905\u001b[0m table \u001b[38;5;241m=\u001b[39m SQLTable(\n\u001b[0;32m   1906\u001b[0m     name,\n\u001b[0;32m   1907\u001b[0m     \u001b[38;5;28mself\u001b[39m,\n\u001b[1;32m   (...)\u001b[0m\n\u001b[0;32m   1913\u001b[0m     dtype\u001b[38;5;241m=\u001b[39mdtype,\n\u001b[0;32m   1914\u001b[0m )\n\u001b[1;32m-> 1915\u001b[0m \u001b[43mtable\u001b[49m\u001b[38;5;241;43m.\u001b[39;49m\u001b[43mcreate\u001b[49m\u001b[43m(\u001b[49m\u001b[43m)\u001b[49m\n\u001b[0;32m   1916\u001b[0m \u001b[38;5;28;01mreturn\u001b[39;00m table\n",
      "File \u001b[1;32m~\\anaconda3\\envs\\utea\\lib\\site-packages\\pandas\\io\\sql.py:995\u001b[0m, in \u001b[0;36mSQLTable.create\u001b[1;34m(self)\u001b[0m\n\u001b[0;32m    993\u001b[0m         \u001b[38;5;28;01mraise\u001b[39;00m \u001b[38;5;167;01mValueError\u001b[39;00m(\u001b[38;5;124mf\u001b[39m\u001b[38;5;124m\"\u001b[39m\u001b[38;5;124m'\u001b[39m\u001b[38;5;132;01m{\u001b[39;00m\u001b[38;5;28mself\u001b[39m\u001b[38;5;241m.\u001b[39mif_exists\u001b[38;5;132;01m}\u001b[39;00m\u001b[38;5;124m'\u001b[39m\u001b[38;5;124m is not valid for if_exists\u001b[39m\u001b[38;5;124m\"\u001b[39m)\n\u001b[0;32m    994\u001b[0m \u001b[38;5;28;01melse\u001b[39;00m:\n\u001b[1;32m--> 995\u001b[0m     \u001b[38;5;28;43mself\u001b[39;49m\u001b[38;5;241;43m.\u001b[39;49m\u001b[43m_execute_create\u001b[49m\u001b[43m(\u001b[49m\u001b[43m)\u001b[49m\n",
      "File \u001b[1;32m~\\anaconda3\\envs\\utea\\lib\\site-packages\\pandas\\io\\sql.py:981\u001b[0m, in \u001b[0;36mSQLTable._execute_create\u001b[1;34m(self)\u001b[0m\n\u001b[0;32m    979\u001b[0m \u001b[38;5;28mself\u001b[39m\u001b[38;5;241m.\u001b[39mtable \u001b[38;5;241m=\u001b[39m \u001b[38;5;28mself\u001b[39m\u001b[38;5;241m.\u001b[39mtable\u001b[38;5;241m.\u001b[39mto_metadata(\u001b[38;5;28mself\u001b[39m\u001b[38;5;241m.\u001b[39mpd_sql\u001b[38;5;241m.\u001b[39mmeta)\n\u001b[0;32m    980\u001b[0m \u001b[38;5;28;01mwith\u001b[39;00m \u001b[38;5;28mself\u001b[39m\u001b[38;5;241m.\u001b[39mpd_sql\u001b[38;5;241m.\u001b[39mrun_transaction():\n\u001b[1;32m--> 981\u001b[0m     \u001b[38;5;28;43mself\u001b[39;49m\u001b[38;5;241;43m.\u001b[39;49m\u001b[43mtable\u001b[49m\u001b[38;5;241;43m.\u001b[39;49m\u001b[43mcreate\u001b[49m\u001b[43m(\u001b[49m\u001b[43mbind\u001b[49m\u001b[38;5;241;43m=\u001b[39;49m\u001b[38;5;28;43mself\u001b[39;49m\u001b[38;5;241;43m.\u001b[39;49m\u001b[43mpd_sql\u001b[49m\u001b[38;5;241;43m.\u001b[39;49m\u001b[43mcon\u001b[49m\u001b[43m)\u001b[49m\n",
      "File \u001b[1;32m~\\anaconda3\\envs\\utea\\lib\\site-packages\\sqlalchemy\\sql\\schema.py:1289\u001b[0m, in \u001b[0;36mTable.create\u001b[1;34m(self, bind, checkfirst)\u001b[0m\n\u001b[0;32m   1277\u001b[0m \u001b[38;5;28;01mdef\u001b[39;00m \u001b[38;5;21mcreate\u001b[39m(\u001b[38;5;28mself\u001b[39m, bind: _CreateDropBind, checkfirst: \u001b[38;5;28mbool\u001b[39m \u001b[38;5;241m=\u001b[39m \u001b[38;5;28;01mFalse\u001b[39;00m) \u001b[38;5;241m-\u001b[39m\u001b[38;5;241m>\u001b[39m \u001b[38;5;28;01mNone\u001b[39;00m:\n\u001b[0;32m   1278\u001b[0m \u001b[38;5;250m    \u001b[39m\u001b[38;5;124;03m\"\"\"Issue a ``CREATE`` statement for this\u001b[39;00m\n\u001b[0;32m   1279\u001b[0m \u001b[38;5;124;03m    :class:`_schema.Table`, using the given\u001b[39;00m\n\u001b[0;32m   1280\u001b[0m \u001b[38;5;124;03m    :class:`.Connection` or :class:`.Engine`\u001b[39;00m\n\u001b[1;32m   (...)\u001b[0m\n\u001b[0;32m   1286\u001b[0m \n\u001b[0;32m   1287\u001b[0m \u001b[38;5;124;03m    \"\"\"\u001b[39;00m\n\u001b[1;32m-> 1289\u001b[0m     \u001b[43mbind\u001b[49m\u001b[38;5;241;43m.\u001b[39;49m\u001b[43m_run_ddl_visitor\u001b[49m\u001b[43m(\u001b[49m\u001b[43mddl\u001b[49m\u001b[38;5;241;43m.\u001b[39;49m\u001b[43mSchemaGenerator\u001b[49m\u001b[43m,\u001b[49m\u001b[43m \u001b[49m\u001b[38;5;28;43mself\u001b[39;49m\u001b[43m,\u001b[49m\u001b[43m \u001b[49m\u001b[43mcheckfirst\u001b[49m\u001b[38;5;241;43m=\u001b[39;49m\u001b[43mcheckfirst\u001b[49m\u001b[43m)\u001b[49m\n",
      "File \u001b[1;32m~\\anaconda3\\envs\\utea\\lib\\site-packages\\sqlalchemy\\engine\\base.py:2456\u001b[0m, in \u001b[0;36mConnection._run_ddl_visitor\u001b[1;34m(self, visitorcallable, element, **kwargs)\u001b[0m\n\u001b[0;32m   2444\u001b[0m \u001b[38;5;28;01mdef\u001b[39;00m \u001b[38;5;21m_run_ddl_visitor\u001b[39m(\n\u001b[0;32m   2445\u001b[0m     \u001b[38;5;28mself\u001b[39m,\n\u001b[0;32m   2446\u001b[0m     visitorcallable: Type[Union[SchemaGenerator, SchemaDropper]],\n\u001b[0;32m   2447\u001b[0m     element: SchemaItem,\n\u001b[0;32m   2448\u001b[0m     \u001b[38;5;241m*\u001b[39m\u001b[38;5;241m*\u001b[39mkwargs: Any,\n\u001b[0;32m   2449\u001b[0m ) \u001b[38;5;241m-\u001b[39m\u001b[38;5;241m>\u001b[39m \u001b[38;5;28;01mNone\u001b[39;00m:\n\u001b[0;32m   2450\u001b[0m \u001b[38;5;250m    \u001b[39m\u001b[38;5;124;03m\"\"\"run a DDL visitor.\u001b[39;00m\n\u001b[0;32m   2451\u001b[0m \n\u001b[0;32m   2452\u001b[0m \u001b[38;5;124;03m    This method is only here so that the MockConnection can change the\u001b[39;00m\n\u001b[0;32m   2453\u001b[0m \u001b[38;5;124;03m    options given to the visitor so that \"checkfirst\" is skipped.\u001b[39;00m\n\u001b[0;32m   2454\u001b[0m \n\u001b[0;32m   2455\u001b[0m \u001b[38;5;124;03m    \"\"\"\u001b[39;00m\n\u001b[1;32m-> 2456\u001b[0m     \u001b[43mvisitorcallable\u001b[49m\u001b[43m(\u001b[49m\u001b[38;5;28;43mself\u001b[39;49m\u001b[38;5;241;43m.\u001b[39;49m\u001b[43mdialect\u001b[49m\u001b[43m,\u001b[49m\u001b[43m \u001b[49m\u001b[38;5;28;43mself\u001b[39;49m\u001b[43m,\u001b[49m\u001b[43m \u001b[49m\u001b[38;5;241;43m*\u001b[39;49m\u001b[38;5;241;43m*\u001b[39;49m\u001b[43mkwargs\u001b[49m\u001b[43m)\u001b[49m\u001b[38;5;241;43m.\u001b[39;49m\u001b[43mtraverse_single\u001b[49m\u001b[43m(\u001b[49m\u001b[43melement\u001b[49m\u001b[43m)\u001b[49m\n",
      "File \u001b[1;32m~\\anaconda3\\envs\\utea\\lib\\site-packages\\sqlalchemy\\sql\\visitors.py:664\u001b[0m, in \u001b[0;36mExternalTraversal.traverse_single\u001b[1;34m(self, obj, **kw)\u001b[0m\n\u001b[0;32m    662\u001b[0m meth \u001b[38;5;241m=\u001b[39m \u001b[38;5;28mgetattr\u001b[39m(v, \u001b[38;5;124m\"\u001b[39m\u001b[38;5;124mvisit_\u001b[39m\u001b[38;5;132;01m%s\u001b[39;00m\u001b[38;5;124m\"\u001b[39m \u001b[38;5;241m%\u001b[39m obj\u001b[38;5;241m.\u001b[39m__visit_name__, \u001b[38;5;28;01mNone\u001b[39;00m)\n\u001b[0;32m    663\u001b[0m \u001b[38;5;28;01mif\u001b[39;00m meth:\n\u001b[1;32m--> 664\u001b[0m     \u001b[38;5;28;01mreturn\u001b[39;00m meth(obj, \u001b[38;5;241m*\u001b[39m\u001b[38;5;241m*\u001b[39mkw)\n",
      "File \u001b[1;32m~\\anaconda3\\envs\\utea\\lib\\site-packages\\sqlalchemy\\sql\\ddl.py:1019\u001b[0m, in \u001b[0;36mSchemaGenerator.visit_table\u001b[1;34m(self, table, create_ok, include_foreign_key_constraints, _is_metadata_operation)\u001b[0m\n\u001b[0;32m   1010\u001b[0m \u001b[38;5;28;01mif\u001b[39;00m \u001b[38;5;129;01mnot\u001b[39;00m \u001b[38;5;28mself\u001b[39m\u001b[38;5;241m.\u001b[39mdialect\u001b[38;5;241m.\u001b[39msupports_alter:\n\u001b[0;32m   1011\u001b[0m     \u001b[38;5;66;03m# e.g., don't omit any foreign key constraints\u001b[39;00m\n\u001b[0;32m   1012\u001b[0m     include_foreign_key_constraints \u001b[38;5;241m=\u001b[39m \u001b[38;5;28;01mNone\u001b[39;00m\n\u001b[0;32m   1014\u001b[0m \u001b[43mCreateTable\u001b[49m\u001b[43m(\u001b[49m\n\u001b[0;32m   1015\u001b[0m \u001b[43m    \u001b[49m\u001b[43mtable\u001b[49m\u001b[43m,\u001b[49m\n\u001b[0;32m   1016\u001b[0m \u001b[43m    \u001b[49m\u001b[43minclude_foreign_key_constraints\u001b[49m\u001b[38;5;241;43m=\u001b[39;49m\u001b[43m(\u001b[49m\n\u001b[0;32m   1017\u001b[0m \u001b[43m        \u001b[49m\u001b[43minclude_foreign_key_constraints\u001b[49m\n\u001b[0;32m   1018\u001b[0m \u001b[43m    \u001b[49m\u001b[43m)\u001b[49m\u001b[43m,\u001b[49m\n\u001b[1;32m-> 1019\u001b[0m \u001b[43m\u001b[49m\u001b[43m)\u001b[49m\u001b[38;5;241;43m.\u001b[39;49m\u001b[43m_invoke_with\u001b[49m\u001b[43m(\u001b[49m\u001b[38;5;28;43mself\u001b[39;49m\u001b[38;5;241;43m.\u001b[39;49m\u001b[43mconnection\u001b[49m\u001b[43m)\u001b[49m\n\u001b[0;32m   1021\u001b[0m \u001b[38;5;28;01mif\u001b[39;00m \u001b[38;5;28mhasattr\u001b[39m(table, \u001b[38;5;124m\"\u001b[39m\u001b[38;5;124mindexes\u001b[39m\u001b[38;5;124m\"\u001b[39m):\n\u001b[0;32m   1022\u001b[0m     \u001b[38;5;28;01mfor\u001b[39;00m index \u001b[38;5;129;01min\u001b[39;00m table\u001b[38;5;241m.\u001b[39mindexes:\n",
      "File \u001b[1;32m~\\anaconda3\\envs\\utea\\lib\\site-packages\\sqlalchemy\\sql\\ddl.py:321\u001b[0m, in \u001b[0;36mExecutableDDLElement._invoke_with\u001b[1;34m(self, bind)\u001b[0m\n\u001b[0;32m    319\u001b[0m \u001b[38;5;28;01mdef\u001b[39;00m \u001b[38;5;21m_invoke_with\u001b[39m(\u001b[38;5;28mself\u001b[39m, bind):\n\u001b[0;32m    320\u001b[0m     \u001b[38;5;28;01mif\u001b[39;00m \u001b[38;5;28mself\u001b[39m\u001b[38;5;241m.\u001b[39m_should_execute(\u001b[38;5;28mself\u001b[39m\u001b[38;5;241m.\u001b[39mtarget, bind):\n\u001b[1;32m--> 321\u001b[0m         \u001b[38;5;28;01mreturn\u001b[39;00m \u001b[43mbind\u001b[49m\u001b[38;5;241;43m.\u001b[39;49m\u001b[43mexecute\u001b[49m\u001b[43m(\u001b[49m\u001b[38;5;28;43mself\u001b[39;49m\u001b[43m)\u001b[49m\n",
      "File \u001b[1;32m~\\anaconda3\\envs\\utea\\lib\\site-packages\\sqlalchemy\\engine\\base.py:1416\u001b[0m, in \u001b[0;36mConnection.execute\u001b[1;34m(self, statement, parameters, execution_options)\u001b[0m\n\u001b[0;32m   1414\u001b[0m     \u001b[38;5;28;01mraise\u001b[39;00m exc\u001b[38;5;241m.\u001b[39mObjectNotExecutableError(statement) \u001b[38;5;28;01mfrom\u001b[39;00m \u001b[38;5;21;01merr\u001b[39;00m\n\u001b[0;32m   1415\u001b[0m \u001b[38;5;28;01melse\u001b[39;00m:\n\u001b[1;32m-> 1416\u001b[0m     \u001b[38;5;28;01mreturn\u001b[39;00m \u001b[43mmeth\u001b[49m\u001b[43m(\u001b[49m\n\u001b[0;32m   1417\u001b[0m \u001b[43m        \u001b[49m\u001b[38;5;28;43mself\u001b[39;49m\u001b[43m,\u001b[49m\n\u001b[0;32m   1418\u001b[0m \u001b[43m        \u001b[49m\u001b[43mdistilled_parameters\u001b[49m\u001b[43m,\u001b[49m\n\u001b[0;32m   1419\u001b[0m \u001b[43m        \u001b[49m\u001b[43mexecution_options\u001b[49m\u001b[43m \u001b[49m\u001b[38;5;129;43;01mor\u001b[39;49;00m\u001b[43m \u001b[49m\u001b[43mNO_OPTIONS\u001b[49m\u001b[43m,\u001b[49m\n\u001b[0;32m   1420\u001b[0m \u001b[43m    \u001b[49m\u001b[43m)\u001b[49m\n",
      "File \u001b[1;32m~\\anaconda3\\envs\\utea\\lib\\site-packages\\sqlalchemy\\sql\\ddl.py:187\u001b[0m, in \u001b[0;36mExecutableDDLElement._execute_on_connection\u001b[1;34m(self, connection, distilled_params, execution_options)\u001b[0m\n\u001b[0;32m    184\u001b[0m \u001b[38;5;28;01mdef\u001b[39;00m \u001b[38;5;21m_execute_on_connection\u001b[39m(\n\u001b[0;32m    185\u001b[0m     \u001b[38;5;28mself\u001b[39m, connection, distilled_params, execution_options\n\u001b[0;32m    186\u001b[0m ):\n\u001b[1;32m--> 187\u001b[0m     \u001b[38;5;28;01mreturn\u001b[39;00m \u001b[43mconnection\u001b[49m\u001b[38;5;241;43m.\u001b[39;49m\u001b[43m_execute_ddl\u001b[49m\u001b[43m(\u001b[49m\n\u001b[0;32m    188\u001b[0m \u001b[43m        \u001b[49m\u001b[38;5;28;43mself\u001b[39;49m\u001b[43m,\u001b[49m\u001b[43m \u001b[49m\u001b[43mdistilled_params\u001b[49m\u001b[43m,\u001b[49m\u001b[43m \u001b[49m\u001b[43mexecution_options\u001b[49m\n\u001b[0;32m    189\u001b[0m \u001b[43m    \u001b[49m\u001b[43m)\u001b[49m\n",
      "File \u001b[1;32m~\\anaconda3\\envs\\utea\\lib\\site-packages\\sqlalchemy\\engine\\base.py:1527\u001b[0m, in \u001b[0;36mConnection._execute_ddl\u001b[1;34m(self, ddl, distilled_parameters, execution_options)\u001b[0m\n\u001b[0;32m   1522\u001b[0m dialect \u001b[38;5;241m=\u001b[39m \u001b[38;5;28mself\u001b[39m\u001b[38;5;241m.\u001b[39mdialect\n\u001b[0;32m   1524\u001b[0m compiled \u001b[38;5;241m=\u001b[39m ddl\u001b[38;5;241m.\u001b[39mcompile(\n\u001b[0;32m   1525\u001b[0m     dialect\u001b[38;5;241m=\u001b[39mdialect, schema_translate_map\u001b[38;5;241m=\u001b[39mschema_translate_map\n\u001b[0;32m   1526\u001b[0m )\n\u001b[1;32m-> 1527\u001b[0m ret \u001b[38;5;241m=\u001b[39m \u001b[38;5;28;43mself\u001b[39;49m\u001b[38;5;241;43m.\u001b[39;49m\u001b[43m_execute_context\u001b[49m\u001b[43m(\u001b[49m\n\u001b[0;32m   1528\u001b[0m \u001b[43m    \u001b[49m\u001b[43mdialect\u001b[49m\u001b[43m,\u001b[49m\n\u001b[0;32m   1529\u001b[0m \u001b[43m    \u001b[49m\u001b[43mdialect\u001b[49m\u001b[38;5;241;43m.\u001b[39;49m\u001b[43mexecution_ctx_cls\u001b[49m\u001b[38;5;241;43m.\u001b[39;49m\u001b[43m_init_ddl\u001b[49m\u001b[43m,\u001b[49m\n\u001b[0;32m   1530\u001b[0m \u001b[43m    \u001b[49m\u001b[43mcompiled\u001b[49m\u001b[43m,\u001b[49m\n\u001b[0;32m   1531\u001b[0m \u001b[43m    \u001b[49m\u001b[38;5;28;43;01mNone\u001b[39;49;00m\u001b[43m,\u001b[49m\n\u001b[0;32m   1532\u001b[0m \u001b[43m    \u001b[49m\u001b[43mexec_opts\u001b[49m\u001b[43m,\u001b[49m\n\u001b[0;32m   1533\u001b[0m \u001b[43m    \u001b[49m\u001b[43mcompiled\u001b[49m\u001b[43m,\u001b[49m\n\u001b[0;32m   1534\u001b[0m \u001b[43m\u001b[49m\u001b[43m)\u001b[49m\n\u001b[0;32m   1535\u001b[0m \u001b[38;5;28;01mif\u001b[39;00m \u001b[38;5;28mself\u001b[39m\u001b[38;5;241m.\u001b[39m_has_events \u001b[38;5;129;01mor\u001b[39;00m \u001b[38;5;28mself\u001b[39m\u001b[38;5;241m.\u001b[39mengine\u001b[38;5;241m.\u001b[39m_has_events:\n\u001b[0;32m   1536\u001b[0m     \u001b[38;5;28mself\u001b[39m\u001b[38;5;241m.\u001b[39mdispatch\u001b[38;5;241m.\u001b[39mafter_execute(\n\u001b[0;32m   1537\u001b[0m         \u001b[38;5;28mself\u001b[39m,\n\u001b[0;32m   1538\u001b[0m         ddl,\n\u001b[1;32m   (...)\u001b[0m\n\u001b[0;32m   1542\u001b[0m         ret,\n\u001b[0;32m   1543\u001b[0m     )\n",
      "File \u001b[1;32m~\\anaconda3\\envs\\utea\\lib\\site-packages\\sqlalchemy\\engine\\base.py:1843\u001b[0m, in \u001b[0;36mConnection._execute_context\u001b[1;34m(self, dialect, constructor, statement, parameters, execution_options, *args, **kw)\u001b[0m\n\u001b[0;32m   1841\u001b[0m     \u001b[38;5;28;01mreturn\u001b[39;00m \u001b[38;5;28mself\u001b[39m\u001b[38;5;241m.\u001b[39m_exec_insertmany_context(dialect, context)\n\u001b[0;32m   1842\u001b[0m \u001b[38;5;28;01melse\u001b[39;00m:\n\u001b[1;32m-> 1843\u001b[0m     \u001b[38;5;28;01mreturn\u001b[39;00m \u001b[38;5;28;43mself\u001b[39;49m\u001b[38;5;241;43m.\u001b[39;49m\u001b[43m_exec_single_context\u001b[49m\u001b[43m(\u001b[49m\n\u001b[0;32m   1844\u001b[0m \u001b[43m        \u001b[49m\u001b[43mdialect\u001b[49m\u001b[43m,\u001b[49m\u001b[43m \u001b[49m\u001b[43mcontext\u001b[49m\u001b[43m,\u001b[49m\u001b[43m \u001b[49m\u001b[43mstatement\u001b[49m\u001b[43m,\u001b[49m\u001b[43m \u001b[49m\u001b[43mparameters\u001b[49m\n\u001b[0;32m   1845\u001b[0m \u001b[43m    \u001b[49m\u001b[43m)\u001b[49m\n",
      "File \u001b[1;32m~\\anaconda3\\envs\\utea\\lib\\site-packages\\sqlalchemy\\engine\\base.py:1983\u001b[0m, in \u001b[0;36mConnection._exec_single_context\u001b[1;34m(self, dialect, context, statement, parameters)\u001b[0m\n\u001b[0;32m   1980\u001b[0m     result \u001b[38;5;241m=\u001b[39m context\u001b[38;5;241m.\u001b[39m_setup_result_proxy()\n\u001b[0;32m   1982\u001b[0m \u001b[38;5;28;01mexcept\u001b[39;00m \u001b[38;5;167;01mBaseException\u001b[39;00m \u001b[38;5;28;01mas\u001b[39;00m e:\n\u001b[1;32m-> 1983\u001b[0m     \u001b[38;5;28;43mself\u001b[39;49m\u001b[38;5;241;43m.\u001b[39;49m\u001b[43m_handle_dbapi_exception\u001b[49m\u001b[43m(\u001b[49m\n\u001b[0;32m   1984\u001b[0m \u001b[43m        \u001b[49m\u001b[43me\u001b[49m\u001b[43m,\u001b[49m\u001b[43m \u001b[49m\u001b[43mstr_statement\u001b[49m\u001b[43m,\u001b[49m\u001b[43m \u001b[49m\u001b[43meffective_parameters\u001b[49m\u001b[43m,\u001b[49m\u001b[43m \u001b[49m\u001b[43mcursor\u001b[49m\u001b[43m,\u001b[49m\u001b[43m \u001b[49m\u001b[43mcontext\u001b[49m\n\u001b[0;32m   1985\u001b[0m \u001b[43m    \u001b[49m\u001b[43m)\u001b[49m\n\u001b[0;32m   1987\u001b[0m \u001b[38;5;28;01mreturn\u001b[39;00m result\n",
      "File \u001b[1;32m~\\anaconda3\\envs\\utea\\lib\\site-packages\\sqlalchemy\\engine\\base.py:2352\u001b[0m, in \u001b[0;36mConnection._handle_dbapi_exception\u001b[1;34m(self, e, statement, parameters, cursor, context, is_sub_exec)\u001b[0m\n\u001b[0;32m   2350\u001b[0m \u001b[38;5;28;01melif\u001b[39;00m should_wrap:\n\u001b[0;32m   2351\u001b[0m     \u001b[38;5;28;01massert\u001b[39;00m sqlalchemy_exception \u001b[38;5;129;01mis\u001b[39;00m \u001b[38;5;129;01mnot\u001b[39;00m \u001b[38;5;28;01mNone\u001b[39;00m\n\u001b[1;32m-> 2352\u001b[0m     \u001b[38;5;28;01mraise\u001b[39;00m sqlalchemy_exception\u001b[38;5;241m.\u001b[39mwith_traceback(exc_info[\u001b[38;5;241m2\u001b[39m]) \u001b[38;5;28;01mfrom\u001b[39;00m \u001b[38;5;21;01me\u001b[39;00m\n\u001b[0;32m   2353\u001b[0m \u001b[38;5;28;01melse\u001b[39;00m:\n\u001b[0;32m   2354\u001b[0m     \u001b[38;5;28;01massert\u001b[39;00m exc_info[\u001b[38;5;241m1\u001b[39m] \u001b[38;5;129;01mis\u001b[39;00m \u001b[38;5;129;01mnot\u001b[39;00m \u001b[38;5;28;01mNone\u001b[39;00m\n",
      "File \u001b[1;32m~\\anaconda3\\envs\\utea\\lib\\site-packages\\sqlalchemy\\engine\\base.py:1964\u001b[0m, in \u001b[0;36mConnection._exec_single_context\u001b[1;34m(self, dialect, context, statement, parameters)\u001b[0m\n\u001b[0;32m   1962\u001b[0m                 \u001b[38;5;28;01mbreak\u001b[39;00m\n\u001b[0;32m   1963\u001b[0m     \u001b[38;5;28;01mif\u001b[39;00m \u001b[38;5;129;01mnot\u001b[39;00m evt_handled:\n\u001b[1;32m-> 1964\u001b[0m         \u001b[38;5;28;43mself\u001b[39;49m\u001b[38;5;241;43m.\u001b[39;49m\u001b[43mdialect\u001b[49m\u001b[38;5;241;43m.\u001b[39;49m\u001b[43mdo_execute\u001b[49m\u001b[43m(\u001b[49m\n\u001b[0;32m   1965\u001b[0m \u001b[43m            \u001b[49m\u001b[43mcursor\u001b[49m\u001b[43m,\u001b[49m\u001b[43m \u001b[49m\u001b[43mstr_statement\u001b[49m\u001b[43m,\u001b[49m\u001b[43m \u001b[49m\u001b[43meffective_parameters\u001b[49m\u001b[43m,\u001b[49m\u001b[43m \u001b[49m\u001b[43mcontext\u001b[49m\n\u001b[0;32m   1966\u001b[0m \u001b[43m        \u001b[49m\u001b[43m)\u001b[49m\n\u001b[0;32m   1968\u001b[0m \u001b[38;5;28;01mif\u001b[39;00m \u001b[38;5;28mself\u001b[39m\u001b[38;5;241m.\u001b[39m_has_events \u001b[38;5;129;01mor\u001b[39;00m \u001b[38;5;28mself\u001b[39m\u001b[38;5;241m.\u001b[39mengine\u001b[38;5;241m.\u001b[39m_has_events:\n\u001b[0;32m   1969\u001b[0m     \u001b[38;5;28mself\u001b[39m\u001b[38;5;241m.\u001b[39mdispatch\u001b[38;5;241m.\u001b[39mafter_cursor_execute(\n\u001b[0;32m   1970\u001b[0m         \u001b[38;5;28mself\u001b[39m,\n\u001b[0;32m   1971\u001b[0m         cursor,\n\u001b[1;32m   (...)\u001b[0m\n\u001b[0;32m   1975\u001b[0m         context\u001b[38;5;241m.\u001b[39mexecutemany,\n\u001b[0;32m   1976\u001b[0m     )\n",
      "File \u001b[1;32m~\\anaconda3\\envs\\utea\\lib\\site-packages\\sqlalchemy\\engine\\default.py:945\u001b[0m, in \u001b[0;36mDefaultDialect.do_execute\u001b[1;34m(self, cursor, statement, parameters, context)\u001b[0m\n\u001b[0;32m    944\u001b[0m \u001b[38;5;28;01mdef\u001b[39;00m \u001b[38;5;21mdo_execute\u001b[39m(\u001b[38;5;28mself\u001b[39m, cursor, statement, parameters, context\u001b[38;5;241m=\u001b[39m\u001b[38;5;28;01mNone\u001b[39;00m):\n\u001b[1;32m--> 945\u001b[0m     \u001b[43mcursor\u001b[49m\u001b[38;5;241;43m.\u001b[39;49m\u001b[43mexecute\u001b[49m\u001b[43m(\u001b[49m\u001b[43mstatement\u001b[49m\u001b[43m,\u001b[49m\u001b[43m \u001b[49m\u001b[43mparameters\u001b[49m\u001b[43m)\u001b[49m\n",
      "File \u001b[1;32m~\\anaconda3\\envs\\utea\\lib\\site-packages\\psycopg\\cursor.py:97\u001b[0m, in \u001b[0;36mCursor.execute\u001b[1;34m(self, query, params, prepare, binary)\u001b[0m\n\u001b[0;32m     93\u001b[0m         \u001b[38;5;28mself\u001b[39m\u001b[38;5;241m.\u001b[39m_conn\u001b[38;5;241m.\u001b[39mwait(\n\u001b[0;32m     94\u001b[0m             \u001b[38;5;28mself\u001b[39m\u001b[38;5;241m.\u001b[39m_execute_gen(query, params, prepare\u001b[38;5;241m=\u001b[39mprepare, binary\u001b[38;5;241m=\u001b[39mbinary)\n\u001b[0;32m     95\u001b[0m         )\n\u001b[0;32m     96\u001b[0m \u001b[38;5;28;01mexcept\u001b[39;00m e\u001b[38;5;241m.\u001b[39m_NO_TRACEBACK \u001b[38;5;28;01mas\u001b[39;00m ex:\n\u001b[1;32m---> 97\u001b[0m     \u001b[38;5;28;01mraise\u001b[39;00m ex\u001b[38;5;241m.\u001b[39mwith_traceback(\u001b[38;5;28;01mNone\u001b[39;00m)\n\u001b[0;32m     98\u001b[0m \u001b[38;5;28;01mreturn\u001b[39;00m \u001b[38;5;28mself\u001b[39m\n",
      "\u001b[1;31mProgrammingError\u001b[0m: (psycopg.errors.InvalidSchemaName) no existe el esquema «data»\nLINE 2: CREATE TABLE data.data_accesos_agrocittca (\n                     ^\n[SQL: \nCREATE TABLE data.data_accesos_agrocittca (\n\tid BIGINT, \n\tcod_cos BIGINT, \n\tcod_ca BIGINT, \n\tnom_ca TEXT, \n\tusuario TEXT, \n\tpassword TEXT, \n\tpropiedad TEXT, \n\tcorreo_nax TEXT, \n\tpassword_nax TEXT\n)\n\n]\n(Background on this error at: https://sqlalche.me/e/20/f405)"
     ]
    }
   ],
   "source": [
    "accesos = get_accesos_agrocittca()\n",
    "cargar_accesos_agrocittca_a_db(accesos)"
   ]
  },
  {
   "cell_type": "code",
   "execution_count": 20,
   "id": "f2a15a02-2123-4728-a072-1009f3955da7",
   "metadata": {},
   "outputs": [
    {
     "name": "stdout",
     "output_type": "stream",
     "text": [
      "✅ Se ha actualziado la tabla de codigos cosecha\n"
     ]
    }
   ],
   "source": [
    "codigos_cosecha = cargar_codigos_cosecha()\n",
    "cargar_cod_cos_a_db(codigos_cosecha)"
   ]
  },
  {
   "cell_type": "code",
   "execution_count": 7,
   "id": "c7b8418e-9a59-4885-85c9-a6eb3a9d5013",
   "metadata": {},
   "outputs": [
    {
     "name": "stdout",
     "output_type": "stream",
     "text": [
      "✅ Se ha actualziado la tabla de instituciones\n"
     ]
    }
   ],
   "source": [
    "instituciones = cargar_instituciones()\n",
    "cargar_instituciones_a_db(instituciones)"
   ]
  },
  {
   "cell_type": "code",
   "execution_count": 8,
   "id": "1d84bfc7-4a64-4ff3-93d0-0c2a3e5b90ea",
   "metadata": {},
   "outputs": [
    {
     "name": "stdout",
     "output_type": "stream",
     "text": [
      "✅ Se ha actualziado la tabla de plan de zafra\n"
     ]
    }
   ],
   "source": [
    "plan_zafra = cargar_plan_zafra()\n",
    "cargar_plan_zafra_a_db(plan_zafra)"
   ]
  },
  {
   "cell_type": "code",
   "execution_count": 9,
   "id": "902c6ac6-4c77-43fd-b5d0-f74c2421afba",
   "metadata": {},
   "outputs": [
    {
     "name": "stdout",
     "output_type": "stream",
     "text": [
      "✅ Se ha actualziado la tabla de resumen estimativa\n"
     ]
    }
   ],
   "source": [
    "resumen_estimativa = get_resumen_estimativa()\n",
    "cargar_resumen_estimativa_a_db(resumen_estimativa)"
   ]
  },
  {
   "cell_type": "code",
   "execution_count": 13,
   "id": "b4713d54-1537-46ea-b261-5f73a17f789e",
   "metadata": {},
   "outputs": [
    {
     "name": "stdout",
     "output_type": "stream",
     "text": [
      "✅ Se ha actualziado la tabla de datos laica\n"
     ]
    }
   ],
   "source": [
    "datos_laica = cargar_laica()\n",
    "datos_laica['tn_entregado'] = datos_laica['kg_entregado'] / 1000\n",
    "cargar_datos_laica_a_db(datos_laica)"
   ]
  },
  {
   "cell_type": "code",
   "execution_count": 10,
   "id": "6bd5c5b7-202a-445e-a941-145bd8dc2328",
   "metadata": {},
   "outputs": [
    {
     "name": "stdout",
     "output_type": "stream",
     "text": [
      "✅ Se ha actualziado la tabla de datos grupos economicos\n"
     ]
    }
   ],
   "source": [
    "datos_grupo_eco = cargar_grupos_eco()\n",
    "cargar_datos_grupo_eco_a_db(datos_grupo_eco)"
   ]
  },
  {
   "cell_type": "code",
   "execution_count": 11,
   "id": "f70e3608-f376-4d6b-8f86-6301995decf9",
   "metadata": {},
   "outputs": [
    {
     "name": "stdout",
     "output_type": "stream",
     "text": [
      "✅ Se ha actualziado la tabla de datos grupos economicos\n"
     ]
    }
   ],
   "source": [
    "datos_compromiso_firmado = cargar_compromiso_firmado()\n",
    "cargar_compromiso_firmado_a_db(datos_compromiso_firmado)"
   ]
  },
  {
   "cell_type": "code",
   "execution_count": null,
   "id": "8cd8b725-e033-442c-a7ca-03402b099ca2",
   "metadata": {},
   "outputs": [],
   "source": []
  },
  {
   "cell_type": "code",
   "execution_count": null,
   "id": "0d181a7c-d4e1-4aff-8e8f-8c425361bb02",
   "metadata": {},
   "outputs": [],
   "source": []
  },
  {
   "cell_type": "code",
   "execution_count": null,
   "id": "46551599-0678-4499-affe-4a6b50390396",
   "metadata": {},
   "outputs": [],
   "source": []
  },
  {
   "cell_type": "code",
   "execution_count": null,
   "id": "5b08678a-9623-4ae4-a56e-38d523d7ef86",
   "metadata": {},
   "outputs": [],
   "source": []
  },
  {
   "cell_type": "code",
   "execution_count": null,
   "id": "fb5ce1f5-fb90-4c44-b95b-4a4a28824bd4",
   "metadata": {},
   "outputs": [],
   "source": []
  },
  {
   "cell_type": "code",
   "execution_count": null,
   "id": "5daee667-4818-4be2-a40d-1ae4fddb8af6",
   "metadata": {},
   "outputs": [],
   "source": []
  },
  {
   "cell_type": "code",
   "execution_count": null,
   "id": "00f45f7a-94f6-4a59-b449-71df0eeb3cbf",
   "metadata": {},
   "outputs": [],
   "source": []
  },
  {
   "cell_type": "code",
   "execution_count": 12,
   "id": "b66687ee-582f-42e8-83ed-e0d1ebdf4377",
   "metadata": {},
   "outputs": [],
   "source": [
    "tch_xlsx = cargar_xlsx_tchs()\n",
    "props_estimativa = get_propiedades_estimativa()\n",
    "lista_cods_props_tch_xlsx = list(set(tch_xlsx['cod_prop']))\n",
    "lista_cods_props_estiamtiva = list(set(props_estimativa['unidad_01']))"
   ]
  },
  {
   "cell_type": "code",
   "execution_count": 13,
   "id": "6ede412a-8b4a-4322-b66a-233b0de3f6d9",
   "metadata": {},
   "outputs": [
    {
     "name": "stdout",
     "output_type": "stream",
     "text": [
      "CODIGOS A ELIMINAR DE XLSX:\n"
     ]
    },
    {
     "data": {
      "text/plain": [
       "[]"
      ]
     },
     "execution_count": 13,
     "metadata": {},
     "output_type": "execute_result"
    }
   ],
   "source": [
    "cods_eliminar_de_xlsx = [x for x in lista_cods_props_tch_xlsx if x not in lista_cods_props_estiamtiva]\n",
    "print('CODIGOS A ELIMINAR DE XLSX:')\n",
    "cods_eliminar_de_xlsx"
   ]
  },
  {
   "cell_type": "code",
   "execution_count": 14,
   "id": "aecdb954-900f-43a8-8ead-48db38186683",
   "metadata": {},
   "outputs": [
    {
     "name": "stdout",
     "output_type": "stream",
     "text": [
      "CODIGOS A AGREGAR A XLSX:\n"
     ]
    },
    {
     "data": {
      "text/plain": [
       "[]"
      ]
     },
     "execution_count": 14,
     "metadata": {},
     "output_type": "execute_result"
    }
   ],
   "source": [
    "cods_agregar_a_xlsx = [x for x in lista_cods_props_estiamtiva if x not in lista_cods_props_tch_xlsx]\n",
    "print('CODIGOS A AGREGAR A XLSX:')\n",
    "cods_agregar_a_xlsx"
   ]
  },
  {
   "cell_type": "code",
   "execution_count": 15,
   "id": "323da8f7-564c-40aa-9836-d23a2507da75",
   "metadata": {},
   "outputs": [
    {
     "data": {
      "text/html": [
       "<div>\n",
       "<style scoped>\n",
       "    .dataframe tbody tr th:only-of-type {\n",
       "        vertical-align: middle;\n",
       "    }\n",
       "\n",
       "    .dataframe tbody tr th {\n",
       "        vertical-align: top;\n",
       "    }\n",
       "\n",
       "    .dataframe thead th {\n",
       "        text-align: right;\n",
       "    }\n",
       "</style>\n",
       "<table border=\"1\" class=\"dataframe\">\n",
       "  <thead>\n",
       "    <tr style=\"text-align: right;\">\n",
       "      <th></th>\n",
       "      <th>unidad_01</th>\n",
       "      <th>unidad_02</th>\n",
       "    </tr>\n",
       "  </thead>\n",
       "  <tbody>\n",
       "  </tbody>\n",
       "</table>\n",
       "</div>"
      ],
      "text/plain": [
       "Empty DataFrame\n",
       "Columns: [unidad_01, unidad_02]\n",
       "Index: []"
      ]
     },
     "execution_count": 15,
     "metadata": {},
     "output_type": "execute_result"
    }
   ],
   "source": [
    "df_filtrado = props_estimativa[props_estimativa['unidad_01'].isin(cods_agregar_a_xlsx)]\n",
    "df_filtrado"
   ]
  },
  {
   "cell_type": "code",
   "execution_count": null,
   "id": "f3956744-3d41-400a-b2a9-9e0db0bb12be",
   "metadata": {},
   "outputs": [],
   "source": []
  },
  {
   "cell_type": "code",
   "execution_count": null,
   "id": "dbd31a65-bbf5-4110-bf48-fe25c886c0de",
   "metadata": {},
   "outputs": [],
   "source": []
  },
  {
   "cell_type": "code",
   "execution_count": null,
   "id": "0649927b-e294-40b3-a0a2-2752d28b59a1",
   "metadata": {},
   "outputs": [],
   "source": []
  },
  {
   "cell_type": "code",
   "execution_count": null,
   "id": "24afe55a-1850-4a88-8c8c-8f67a66e7f11",
   "metadata": {},
   "outputs": [],
   "source": []
  },
  {
   "cell_type": "code",
   "execution_count": null,
   "id": "051251a2-ed79-4bd4-893b-5200d44b198d",
   "metadata": {},
   "outputs": [],
   "source": []
  },
  {
   "cell_type": "code",
   "execution_count": null,
   "id": "279c8eca-6760-47e7-88a2-44c14f40dd95",
   "metadata": {},
   "outputs": [],
   "source": []
  },
  {
   "cell_type": "code",
   "execution_count": null,
   "id": "378e0d95-a3fb-4b33-8734-779f548afbdf",
   "metadata": {},
   "outputs": [],
   "source": []
  },
  {
   "cell_type": "code",
   "execution_count": null,
   "id": "8fab9157-e86b-45d7-805e-9d299c59d68f",
   "metadata": {},
   "outputs": [],
   "source": []
  },
  {
   "cell_type": "code",
   "execution_count": null,
   "id": "225bc9b6-2fc7-4451-9435-351990e59979",
   "metadata": {},
   "outputs": [],
   "source": []
  },
  {
   "cell_type": "code",
   "execution_count": null,
   "id": "546ad03d-207b-4111-b525-3191532db293",
   "metadata": {},
   "outputs": [],
   "source": []
  }
 ],
 "metadata": {
  "kernelspec": {
   "display_name": "Python 3 (ipykernel)",
   "language": "python",
   "name": "python3"
  },
  "language_info": {
   "codemirror_mode": {
    "name": "ipython",
    "version": 3
   },
   "file_extension": ".py",
   "mimetype": "text/x-python",
   "name": "python",
   "nbconvert_exporter": "python",
   "pygments_lexer": "ipython3",
   "version": "3.10.13"
  }
 },
 "nbformat": 4,
 "nbformat_minor": 5
}
