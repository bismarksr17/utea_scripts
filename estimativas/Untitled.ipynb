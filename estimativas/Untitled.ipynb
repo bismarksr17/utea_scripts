{
 "cells": [
  {
   "cell_type": "code",
   "execution_count": 2,
   "id": "d3d479f6-88dc-4378-84f2-0d97e34659fb",
   "metadata": {},
   "outputs": [],
   "source": [
    "import ee\n",
    "import geemap"
   ]
  },
  {
   "cell_type": "code",
   "execution_count": 3,
   "id": "cd250e1c-1643-431b-b3db-985a5372e90d",
   "metadata": {},
   "outputs": [],
   "source": [
    "ee.Initialize()"
   ]
  },
  {
   "cell_type": "code",
   "execution_count": 12,
   "id": "272d3fdb-530d-4379-9e93-44a0f90cb8db",
   "metadata": {},
   "outputs": [
    {
     "data": {
      "application/vnd.jupyter.widget-view+json": {
       "model_id": "06fe119948a94f6f80a47ec456670935",
       "version_major": 2,
       "version_minor": 0
      },
      "text/plain": [
       "Map(bottom=1150892.0, center=[-17.228494724095913, -62.98520033189894], controls=(WidgetControl(options=['posi…"
      ]
     },
     "metadata": {},
     "output_type": "display_data"
    }
   ],
   "source": [
    "# Seleccionar una imagen Sentinel-2 a partir de su ID\n",
    "img = ee.Image(\"COPERNICUS/S2/20230122T141711_20230122T142633_T20KMF\")\n",
    "\n",
    "# Cargar un asset Feature Collection\n",
    "fc = ee.FeatureCollection(\"projects/ee-bismarksr17/assets/LOTES_TEST_NUBES\")\n",
    "\n",
    "Map.centerObject(fc.geometry(), 14)\n",
    "\n",
    "Map.addLayer(img, {'bands': ['B4', 'B3', 'B2'], 'min': 0, 'max': 3000}, 'Image Example')\n",
    "Map.addLayer(fc, {}, 'Asset Example FC')\n",
    "Map"
   ]
  },
  {
   "cell_type": "code",
   "execution_count": 10,
   "id": "3f38d897-6e7e-4233-bca0-36bb043ae357",
   "metadata": {},
   "outputs": [],
   "source": [
    "def cloud_percentage(img, fc):\n",
    "    # Seleccionar banda de nubes\n",
    "    cloud = img.select('QA60')\n",
    "    \n",
    "    # Calcular la cantidad de pixels con nubes\n",
    "    cloud_pixels = cloud.reduceRegion(\n",
    "        reducer=ee.Reducer.sum(),\n",
    "        geometry=fc.geometry(),\n",
    "        scale=10,\n",
    "        maxPixels=1e9\n",
    "    ).getInfo()\n",
    "    \n",
    "    # Calcular la cantidad total de pixels\n",
    "    total_pixels = cloud.reduceRegion(\n",
    "        reducer=ee.Reducer.count(),\n",
    "        geometry=fc.geometry(),\n",
    "        scale=10,\n",
    "        maxPixels=1e9\n",
    "    ).getInfo()\n",
    "    \n",
    "    # Calcular porcentaje de nubes\n",
    "    cloud_sum = cloud_pixels['QA60']\n",
    "    total_count = total_pixels['QA60']\n",
    "    cloud_percentage = cloud_sum / total_count * 100\n",
    "    \n",
    "    return cloud_percentage"
   ]
  },
  {
   "cell_type": "code",
   "execution_count": 13,
   "id": "118a950d-c36c-4a89-8d89-2a280bcd5f4a",
   "metadata": {},
   "outputs": [
    {
     "data": {
      "text/plain": [
       "0.0"
      ]
     },
     "execution_count": 13,
     "metadata": {},
     "output_type": "execute_result"
    }
   ],
   "source": [
    "cloud_percentage(img, fc)"
   ]
  },
  {
   "cell_type": "code",
   "execution_count": null,
   "id": "b4f21eb3-12c3-4f06-ba10-2327b62fc39d",
   "metadata": {},
   "outputs": [],
   "source": []
  },
  {
   "cell_type": "code",
   "execution_count": null,
   "id": "70409126-e79f-4e15-b046-c486fa957287",
   "metadata": {},
   "outputs": [],
   "source": []
  },
  {
   "cell_type": "code",
   "execution_count": null,
   "id": "e74161d7-30ae-4fb5-a86d-ec6bac980658",
   "metadata": {},
   "outputs": [],
   "source": []
  },
  {
   "cell_type": "code",
   "execution_count": null,
   "id": "ef742265-a75f-455c-acf3-d04cb0e36e6d",
   "metadata": {},
   "outputs": [],
   "source": []
  },
  {
   "cell_type": "code",
   "execution_count": null,
   "id": "06b44977-f743-417c-8571-d5a1f1a7fb5b",
   "metadata": {},
   "outputs": [],
   "source": []
  }
 ],
 "metadata": {
  "kernelspec": {
   "display_name": "Python 3 (ipykernel)",
   "language": "python",
   "name": "python3"
  },
  "language_info": {
   "codemirror_mode": {
    "name": "ipython",
    "version": 3
   },
   "file_extension": ".py",
   "mimetype": "text/x-python",
   "name": "python",
   "nbconvert_exporter": "python",
   "pygments_lexer": "ipython3",
   "version": "3.7.13"
  }
 },
 "nbformat": 4,
 "nbformat_minor": 5
}
