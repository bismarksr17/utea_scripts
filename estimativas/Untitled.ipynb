{
 "cells": [
  {
   "cell_type": "code",
   "execution_count": 1,
   "id": "7298d551-a303-45d0-b420-21a79f5ce977",
   "metadata": {},
   "outputs": [],
   "source": [
    "import ee\n",
    "import geemap"
   ]
  },
  {
   "cell_type": "code",
   "execution_count": null,
   "id": "209e6460-9c06-4c68-9cbf-a9e9fdc55271",
   "metadata": {},
   "outputs": [
    {
     "name": "stdout",
     "output_type": "stream",
     "text": [
      "Downloading https://github.com/giswqs/geemap/archive/master.zip ...\n"
     ]
    }
   ],
   "source": [
    "geemap.update_package()"
   ]
  },
  {
   "cell_type": "code",
   "execution_count": 2,
   "id": "63ca07a3-79e5-476d-bda3-44bc1c67ece1",
   "metadata": {},
   "outputs": [],
   "source": [
    "Map = geemap.Map(center=[40, -100], zoom=4, add_google_map=False)"
   ]
  },
  {
   "cell_type": "code",
   "execution_count": 3,
   "id": "03306d85-92aa-40c0-92d4-273a7bb04589",
   "metadata": {},
   "outputs": [],
   "source": [
    "states = ee.FeatureCollection(\"TIGER/2018/States\")"
   ]
  },
  {
   "cell_type": "code",
   "execution_count": 4,
   "id": "4b2d3f94-f8d8-49cd-8163-7e0f9937bab1",
   "metadata": {},
   "outputs": [],
   "source": [
    "style = {'color': 'black', 'fillColor': \"00000000\"}"
   ]
  },
  {
   "cell_type": "code",
   "execution_count": 5,
   "id": "2df97b3d-a102-4537-890a-3c3e34b97da5",
   "metadata": {},
   "outputs": [],
   "source": [
    "Map.addLayer(states.style(**style), {}, \"US States\")"
   ]
  },
  {
   "cell_type": "code",
   "execution_count": 6,
   "id": "c6f0ee1e-01dc-450f-a0b4-da0e06211730",
   "metadata": {},
   "outputs": [
    {
     "data": {
      "application/vnd.jupyter.widget-view+json": {
       "model_id": "3c8077a7e20f48429bbd5ecc4cdfb9a9",
       "version_major": 2,
       "version_minor": 0
      },
      "text/plain": [
       "Map(center=[40, -100], controls=(WidgetControl(options=['position', 'transparent_bg'], widget=HBox(children=(T…"
      ]
     },
     "metadata": {},
     "output_type": "display_data"
    }
   ],
   "source": [
    "Map.add_labels(\n",
    "    states,\n",
    "    \"STUSPS\",\n",
    "    font_size=\"12pt\",\n",
    "    font_color=\"blue\",\n",
    "    font_family=\"arial\",\n",
    "    font_weight=\"bold\",\n",
    ")\n",
    "Map"
   ]
  },
  {
   "cell_type": "code",
   "execution_count": null,
   "id": "5247e041-c0e2-4597-a487-01254b802375",
   "metadata": {},
   "outputs": [],
   "source": []
  },
  {
   "cell_type": "code",
   "execution_count": null,
   "id": "cb516bd9-2a00-4753-ab3e-066d59fb9c99",
   "metadata": {},
   "outputs": [],
   "source": []
  },
  {
   "cell_type": "code",
   "execution_count": null,
   "id": "d3d479f6-88dc-4378-84f2-0d97e34659fb",
   "metadata": {},
   "outputs": [],
   "source": []
  },
  {
   "cell_type": "code",
   "execution_count": null,
   "id": "97351696-8aaa-4121-8584-60f38e4cd911",
   "metadata": {},
   "outputs": [],
   "source": []
  }
 ],
 "metadata": {
  "kernelspec": {
   "display_name": "Python 3 (ipykernel)",
   "language": "python",
   "name": "python3"
  },
  "language_info": {
   "codemirror_mode": {
    "name": "ipython",
    "version": 3
   },
   "file_extension": ".py",
   "mimetype": "text/x-python",
   "name": "python",
   "nbconvert_exporter": "python",
   "pygments_lexer": "ipython3",
   "version": "3.7.15"
  }
 },
 "nbformat": 4,
 "nbformat_minor": 5
}
