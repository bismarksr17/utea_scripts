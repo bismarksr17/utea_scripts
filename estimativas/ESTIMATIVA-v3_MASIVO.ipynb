{
 "cells": [
  {
   "cell_type": "code",
   "execution_count": 75,
   "id": "80d2f025-ade7-41e3-bd89-0f2492ba7bee",
   "metadata": {},
   "outputs": [],
   "source": [
    "#import ee\n",
    "#ee.Authenticate()"
   ]
  },
  {
   "cell_type": "code",
   "execution_count": 18,
   "id": "d9f90283-49c6-45ec-b0f2-64cac88c0ab9",
   "metadata": {},
   "outputs": [],
   "source": [
    "import ee\n",
    "import geemap\n",
    "# metodo de clasificacion\n",
    "import jenkspy\n",
    "\n",
    "import geopandas as gpd\n",
    "from geopandas.tools import overlay\n",
    "from shapely.geometry import Polygon\n",
    "\n",
    "import pandas as pd\n",
    "import numpy as np\n",
    "\n",
    "import openpyxl"
   ]
  },
  {
   "cell_type": "code",
   "execution_count": 25,
   "id": "dd6be00f-f59e-4994-aa6a-be62cba7e1a4",
   "metadata": {},
   "outputs": [],
   "source": [
    "ee.Initialize()"
   ]
  },
  {
   "cell_type": "code",
   "execution_count": 26,
   "id": "9417028b-6fda-4dcb-9c51-0f3d91a03426",
   "metadata": {},
   "outputs": [],
   "source": [
    "ruta_catastro='projects/ee-bismarksr17/assets/CATASTRO_2023-02-25'\n",
    "ruta_ndvi = 'projects/ee-bismarksr17/assets/NDVI_01_2023'\n",
    "\n",
    "CODIGO_PROPIEDAD='unidad_01'\n",
    "NOM_PROPIEDAD='unidad_02'\n",
    "CODIGO_CANHERO='unidad_03'\n",
    "NOM_CANHERO='unidad_04'\n",
    "\n",
    "VARIEDAD='variedad'\n",
    "ESTADO='RENOVACION'\n",
    "SUPERFICIE='area'"
   ]
  },
  {
   "cell_type": "code",
   "execution_count": 27,
   "id": "12b47d1d-5d68-46c2-89b0-148c8fa1d038",
   "metadata": {},
   "outputs": [],
   "source": [
    "def asig_cat(label):\n",
    "    if label == 1:\n",
    "        return 0\n",
    "    else:\n",
    "        return label * 10\n",
    "\n",
    "vis_params_caña = {\n",
    "    'color': 'red', \n",
    "    'width': 2,\n",
    "    'lineType': 'solid',\n",
    "    'fillColor': '00000000',\n",
    "}\n",
    "\n",
    "# parametro de visualizacion LOTES RENOVACION\n",
    "vis_params_renov = {\n",
    "    'color': 'blue', \n",
    "    'width': 2,\n",
    "    'lineType': 'solid',\n",
    "    'fillColor': '00000000',\n",
    "}"
   ]
  },
  {
   "cell_type": "code",
   "execution_count": 28,
   "id": "c167ef6b-4258-4538-baec-6bf866208299",
   "metadata": {},
   "outputs": [],
   "source": [
    "#lista_props = [300, 1729, 1454, 30, 325, 17, 629, 19, 275, 256, 1728, 114, 949, 257, 29, 551, 31, 221, 92, 47, 478, 1618, 10, 1727, 700, 123, 259, 297, 591, 1314, 365, 239, 1450, 201, 674, 122, 216, 205, 495, 217, 375, 5, 33, 895, 63, 658, 23, 50, 1528, 1831, 185, 606, 343, 326, 510, 74, 132, 1011, 333, 327, 242, 299, 98, 1704, 294, 113, 560, 1215, 55, 306, 277, 752, 197, 209]\n",
    "lista_props = [1831]"
   ]
  },
  {
   "cell_type": "code",
   "execution_count": 29,
   "id": "26603a74-e6a3-4b5d-a0a5-6b105f48239e",
   "metadata": {},
   "outputs": [],
   "source": [
    "df_intersects = None"
   ]
  },
  {
   "cell_type": "code",
   "execution_count": 30,
   "id": "9e88cad8-67cc-4471-8af2-4680ab2daa65",
   "metadata": {},
   "outputs": [
    {
     "name": "stdout",
     "output_type": "stream",
     "text": [
      "inicio: 1831\n"
     ]
    },
    {
     "ename": "ValueError",
     "evalue": "Number of class have to be an integer greater than or equal to 1 and smaller than or equal to the number of unique values to use",
     "output_type": "error",
     "traceback": [
      "\u001b[1;31m---------------------------------------------------------------------------\u001b[0m",
      "\u001b[1;31mValueError\u001b[0m                                Traceback (most recent call last)",
      "\u001b[1;32m~\\AppData\\Local\\Temp\\ipykernel_17200\\3773114175.py\u001b[0m in \u001b[0;36m<module>\u001b[1;34m\u001b[0m\n\u001b[0;32m     18\u001b[0m     \u001b[0mpixel_values\u001b[0m \u001b[1;33m=\u001b[0m \u001b[0mNDVI_values\u001b[0m\u001b[1;33m.\u001b[0m\u001b[0mreduceColumns\u001b[0m\u001b[1;33m(\u001b[0m\u001b[0mee\u001b[0m\u001b[1;33m.\u001b[0m\u001b[0mReducer\u001b[0m\u001b[1;33m.\u001b[0m\u001b[0mtoList\u001b[0m\u001b[1;33m(\u001b[0m\u001b[1;33m)\u001b[0m\u001b[1;33m,\u001b[0m\u001b[1;33m[\u001b[0m\u001b[1;34m'b1'\u001b[0m\u001b[1;33m]\u001b[0m\u001b[1;33m)\u001b[0m\u001b[1;33m.\u001b[0m\u001b[0mget\u001b[0m\u001b[1;33m(\u001b[0m\u001b[1;34m'list'\u001b[0m\u001b[1;33m)\u001b[0m\u001b[1;33m.\u001b[0m\u001b[0mgetInfo\u001b[0m\u001b[1;33m(\u001b[0m\u001b[1;33m)\u001b[0m\u001b[1;33m\u001b[0m\u001b[1;33m\u001b[0m\u001b[0m\n\u001b[0;32m     19\u001b[0m     \u001b[1;31m# aplica metodo Jenks\u001b[0m\u001b[1;33m\u001b[0m\u001b[1;33m\u001b[0m\u001b[1;33m\u001b[0m\u001b[0m\n\u001b[1;32m---> 20\u001b[1;33m     \u001b[0mbreaks\u001b[0m \u001b[1;33m=\u001b[0m \u001b[0mjenkspy\u001b[0m\u001b[1;33m.\u001b[0m\u001b[0mjenks_breaks\u001b[0m\u001b[1;33m(\u001b[0m\u001b[0mpixel_values\u001b[0m\u001b[1;33m,\u001b[0m \u001b[0mn_classes\u001b[0m\u001b[1;33m=\u001b[0m\u001b[1;36m8\u001b[0m\u001b[1;33m)\u001b[0m\u001b[1;33m\u001b[0m\u001b[1;33m\u001b[0m\u001b[0m\n\u001b[0m\u001b[0;32m     21\u001b[0m     \u001b[0mNDVI_class\u001b[0m \u001b[1;33m=\u001b[0m \u001b[0mee\u001b[0m\u001b[1;33m.\u001b[0m\u001b[0mImage\u001b[0m\u001b[1;33m(\u001b[0m\u001b[1;33m-\u001b[0m\u001b[1;36m1\u001b[0m\u001b[1;33m)\u001b[0m\u001b[1;33m.\u001b[0m\u001b[0mwhere\u001b[0m\u001b[1;33m(\u001b[0m\u001b[0mNDVI\u001b[0m\u001b[1;33m.\u001b[0m\u001b[0mlt\u001b[0m\u001b[1;33m(\u001b[0m\u001b[0mbreaks\u001b[0m\u001b[1;33m[\u001b[0m\u001b[1;36m1\u001b[0m\u001b[1;33m]\u001b[0m\u001b[1;33m)\u001b[0m\u001b[1;33m,\u001b[0m\u001b[1;36m1\u001b[0m\u001b[1;33m)\u001b[0m\u001b[0;31m\\\u001b[0m\u001b[1;33m\u001b[0m\u001b[1;33m\u001b[0m\u001b[0m\n\u001b[0;32m     22\u001b[0m                         \u001b[1;33m.\u001b[0m\u001b[0mwhere\u001b[0m\u001b[1;33m(\u001b[0m\u001b[0mNDVI\u001b[0m\u001b[1;33m.\u001b[0m\u001b[0mgte\u001b[0m\u001b[1;33m(\u001b[0m\u001b[0mbreaks\u001b[0m\u001b[1;33m[\u001b[0m\u001b[1;36m1\u001b[0m\u001b[1;33m]\u001b[0m\u001b[1;33m)\u001b[0m\u001b[1;33m,\u001b[0m\u001b[1;36m2\u001b[0m\u001b[1;33m)\u001b[0m\u001b[0;31m\\\u001b[0m\u001b[1;33m\u001b[0m\u001b[1;33m\u001b[0m\u001b[0m\n",
      "\u001b[1;32m~\\.conda\\envs\\estimativa_01\\lib\\site-packages\\jenkspy\\core.py\u001b[0m in \u001b[0;36mjenks_breaks\u001b[1;34m(values, n_classes)\u001b[0m\n\u001b[0;32m    193\u001b[0m \u001b[1;33m\u001b[0m\u001b[0m\n\u001b[0;32m    194\u001b[0m     \"\"\"\n\u001b[1;32m--> 195\u001b[1;33m     \u001b[0mn_classes\u001b[0m \u001b[1;33m=\u001b[0m \u001b[0mvalidate_input\u001b[0m\u001b[1;33m(\u001b[0m\u001b[0mvalues\u001b[0m\u001b[1;33m,\u001b[0m \u001b[0mn_classes\u001b[0m\u001b[1;33m)\u001b[0m\u001b[1;33m\u001b[0m\u001b[1;33m\u001b[0m\u001b[0m\n\u001b[0m\u001b[0;32m    196\u001b[0m     \u001b[1;32mreturn\u001b[0m \u001b[0mjenks\u001b[0m\u001b[1;33m.\u001b[0m\u001b[0m_jenks_breaks\u001b[0m\u001b[1;33m(\u001b[0m\u001b[0mvalues\u001b[0m\u001b[1;33m,\u001b[0m \u001b[0mn_classes\u001b[0m\u001b[1;33m)\u001b[0m\u001b[1;33m\u001b[0m\u001b[1;33m\u001b[0m\u001b[0m\n\u001b[0;32m    197\u001b[0m \u001b[1;33m\u001b[0m\u001b[0m\n",
      "\u001b[1;32m~\\.conda\\envs\\estimativa_01\\lib\\site-packages\\jenkspy\\core.py\u001b[0m in \u001b[0;36mvalidate_input\u001b[1;34m(values, n_classes)\u001b[0m\n\u001b[0;32m    158\u001b[0m     \u001b[1;31m# and greater than or equal to 1\u001b[0m\u001b[1;33m\u001b[0m\u001b[1;33m\u001b[0m\u001b[1;33m\u001b[0m\u001b[0m\n\u001b[0;32m    159\u001b[0m     \u001b[1;32mif\u001b[0m \u001b[0mn_classes\u001b[0m \u001b[1;33m>\u001b[0m \u001b[0mlen\u001b[0m\u001b[1;33m(\u001b[0m\u001b[0mnp\u001b[0m\u001b[1;33m.\u001b[0m\u001b[0munique\u001b[0m\u001b[1;33m(\u001b[0m\u001b[0mvalues\u001b[0m\u001b[1;33m)\u001b[0m\u001b[1;33m)\u001b[0m \u001b[1;32mor\u001b[0m \u001b[0mn_classes\u001b[0m \u001b[1;33m<\u001b[0m \u001b[1;36m1\u001b[0m\u001b[1;33m:\u001b[0m\u001b[1;33m\u001b[0m\u001b[1;33m\u001b[0m\u001b[0m\n\u001b[1;32m--> 160\u001b[1;33m         raise ValueError(\"Number of class have to be an integer greater than or equal to 1 and \"\n\u001b[0m\u001b[0;32m    161\u001b[0m                          \"smaller than or equal to the number of unique values to use\")\n\u001b[0;32m    162\u001b[0m \u001b[1;33m\u001b[0m\u001b[0m\n",
      "\u001b[1;31mValueError\u001b[0m: Number of class have to be an integer greater than or equal to 1 and smaller than or equal to the number of unique values to use"
     ]
    }
   ],
   "source": [
    "# Cargar el archivo de Excel existente\n",
    "wb = openpyxl.load_workbook('DATA_EST.xlsx')\n",
    "# Seleccionar la hoja de trabajo\n",
    "ws = wb['data']\n",
    "\n",
    "contador = 0\n",
    "for cod_prop in lista_props:\n",
    "    print('inicio:', cod_prop)\n",
    "    propiedad = ee.FeatureCollection(ruta_catastro)\\\n",
    "                .filter(ee.Filter.eq(CODIGO_PROPIEDAD, cod_prop))\n",
    "    lotes_canha = propiedad.filter(ee.Filter.neq(VARIEDAD, ESTADO))\n",
    "    lotes_renov = propiedad.filter(ee.Filter.eq(VARIEDAD, ESTADO))\n",
    "    NDVI = ee.Image(ruta_ndvi)\n",
    "    NDVI_clip = NDVI.clip(lotes_canha.geometry())\n",
    "    # crea un sample de los valore de pixel del NDVI\n",
    "    NDVI_values = NDVI_clip.sampleRegions(lotes_canha.geometry())\n",
    "    # reduce el resultado a valores de NDVI\n",
    "    pixel_values = NDVI_values.reduceColumns(ee.Reducer.toList(),['b1']).get('list').getInfo()\n",
    "    # aplica metodo Jenks\n",
    "    breaks = jenkspy.jenks_breaks(pixel_values, n_classes=8)\n",
    "    NDVI_class = ee.Image(-1).where(NDVI.lt(breaks[1]),1)\\\n",
    "                        .where(NDVI.gte(breaks[1]),2)\\\n",
    "                        .where(NDVI.gte(breaks[2]),3)\\\n",
    "                        .where(NDVI.gte(breaks[3]),4)\\\n",
    "                        .where(NDVI.gte(breaks[4]),5)\\\n",
    "                        .where(NDVI.gte(breaks[5]),6)\\\n",
    "                        .where(NDVI.gte(breaks[6]),7)\\\n",
    "                        .where(NDVI.gte(breaks[7]),8)\n",
    "    NDVI_class_clip = NDVI_class.clip(lotes_canha.geometry())\n",
    "    clasify = NDVI_class_clip.reproject(crs=\"EPSG:32720\", scale=10)\n",
    "    vector = clasify.reduceToVectors(**{\n",
    "        'geometry': lotes_canha.geometry(),\n",
    "        'crs': clasify.projection(),\n",
    "        'scale': 10,\n",
    "        'geometryType': 'polygon',\n",
    "        'eightConnected': False\n",
    "    })\n",
    "    \n",
    "    DF_VECTOR = vector\n",
    "    \n",
    "    lotes_local = geemap.ee_to_geopandas(lotes_canha)\n",
    "    \n",
    "    lista = vector.toList(vector.size()).getInfo()\n",
    "    lista_vector=[]\n",
    "    for item in lista:\n",
    "        dic = {'geometry':Polygon(item['geometry']['coordinates'][0]), 'count':item['properties']['count'], 'label':item['properties']['label']}\n",
    "        lista_vector.append(dic)\n",
    "    \n",
    "    vector_local = gpd.GeoDataFrame(lista_vector)\n",
    "    \n",
    "    intersect = overlay(lotes_local, vector_local, how=\"intersection\")\n",
    "    intersect.crs = \"EPSG:4326\"\n",
    "    intersect = intersect.to_crs(epsg=32720)\n",
    "    intersect['area_2'] = intersect['geometry'].area/10000\n",
    "    \n",
    "    area_01 = intersect['area_2'].sum()\n",
    "    area_02 = lotes_local[SUPERFICIE].sum()\n",
    "    area_diff = (area_02 - area_01)/len(intersect)\n",
    "    intersect['area_2'] = intersect['area_2'] + area_diff\n",
    "    \n",
    "    DF = intersect.copy()\n",
    "    dina = pd.pivot_table(DF, values='area_2', index=[CODIGO_PROPIEDAD, NOM_PROPIEDAD, CODIGO_CANHERO, NOM_CANHERO, 'label'], aggfunc=np.sum)\n",
    "    dina2 = dina.reset_index()\n",
    "    \n",
    "    dina2['tch'] = dina2['label'].apply(asig_cat)\n",
    "    for i in range(0, len(dina2)):\n",
    "        new_row = [dina2.iloc[i,0], dina2.iloc[i,1], dina2.iloc[i,2], dina2.iloc[i,3], dina2.iloc[i,4], dina2.iloc[i,5], dina2.iloc[i,6]]\n",
    "        ws.append(new_row)\n",
    "    \n",
    "    df_intersects = pd.concat([df_intersects, DF], ignore_index=True)\n",
    "    \n",
    "    contador = contador + 1 \n",
    "    print('fin: ', cod_prop)\n",
    "    print('___________________CONTADOR: ', contador)\n",
    "wb.save('DATA_EST.xlsx')\n",
    "print('FIN......!')"
   ]
  },
  {
   "cell_type": "code",
   "execution_count": null,
   "id": "bb99502a-58b7-4109-a413-f4ed99939c86",
   "metadata": {},
   "outputs": [],
   "source": []
  },
  {
   "cell_type": "code",
   "execution_count": null,
   "id": "57abe850-d965-4772-a8c0-7e61d2e1b36f",
   "metadata": {},
   "outputs": [],
   "source": []
  },
  {
   "cell_type": "code",
   "execution_count": null,
   "id": "f4cbfa63-5aef-471f-8be3-295a3631b10e",
   "metadata": {},
   "outputs": [],
   "source": []
  },
  {
   "cell_type": "code",
   "execution_count": 17,
   "id": "c9040edd-6d0e-408e-ad64-146e3ee65856",
   "metadata": {},
   "outputs": [
    {
     "data": {
      "text/html": [
       "<div>\n",
       "<style scoped>\n",
       "    .dataframe tbody tr th:only-of-type {\n",
       "        vertical-align: middle;\n",
       "    }\n",
       "\n",
       "    .dataframe tbody tr th {\n",
       "        vertical-align: top;\n",
       "    }\n",
       "\n",
       "    .dataframe thead th {\n",
       "        text-align: right;\n",
       "    }\n",
       "</style>\n",
       "<table border=\"1\" class=\"dataframe\">\n",
       "  <thead>\n",
       "    <tr style=\"text-align: right;\">\n",
       "      <th></th>\n",
       "      <th>area</th>\n",
       "      <th>cultivo</th>\n",
       "      <th>financia</th>\n",
       "      <th>fs</th>\n",
       "      <th>id</th>\n",
       "      <th>soca</th>\n",
       "      <th>textura</th>\n",
       "      <th>unidad_01</th>\n",
       "      <th>unidad_02</th>\n",
       "      <th>unidad_03</th>\n",
       "      <th>unidad_04</th>\n",
       "      <th>unidad_05</th>\n",
       "      <th>variedad</th>\n",
       "      <th>zona</th>\n",
       "      <th>count</th>\n",
       "      <th>label</th>\n",
       "      <th>geometry</th>\n",
       "      <th>area_2</th>\n",
       "    </tr>\n",
       "  </thead>\n",
       "  <tbody>\n",
       "    <tr>\n",
       "      <th>0</th>\n",
       "      <td>8.11</td>\n",
       "      <td>canha</td>\n",
       "      <td>PROPIO</td>\n",
       "      <td>16/4/2021</td>\n",
       "      <td>00007520000L3.2</td>\n",
       "      <td>1</td>\n",
       "      <td>FA</td>\n",
       "      <td>752</td>\n",
       "      <td>GUARACACHICITO--VELASQUEZ</td>\n",
       "      <td>14826</td>\n",
       "      <td>VELASQUEZ_CLAROS_JACINTO</td>\n",
       "      <td>L3.2</td>\n",
       "      <td>UCG_90-20</td>\n",
       "      <td>152</td>\n",
       "      <td>5</td>\n",
       "      <td>7</td>\n",
       "      <td>POLYGON ((482296.408 8104190.000, 482295.764 8...</td>\n",
       "      <td>0.008011</td>\n",
       "    </tr>\n",
       "    <tr>\n",
       "      <th>1</th>\n",
       "      <td>14.28</td>\n",
       "      <td>canha</td>\n",
       "      <td>PROPIO</td>\n",
       "      <td>15/4/2020</td>\n",
       "      <td>00007520000L3.1</td>\n",
       "      <td>2</td>\n",
       "      <td>FA</td>\n",
       "      <td>752</td>\n",
       "      <td>GUARACACHICITO--VELASQUEZ</td>\n",
       "      <td>14826</td>\n",
       "      <td>VELASQUEZ_CLAROS_JACINTO</td>\n",
       "      <td>L3.1</td>\n",
       "      <td>UCG_90-20</td>\n",
       "      <td>152</td>\n",
       "      <td>5</td>\n",
       "      <td>7</td>\n",
       "      <td>POLYGON ((482295.764 8104220.000, 482296.408 8...</td>\n",
       "      <td>0.034528</td>\n",
       "    </tr>\n",
       "    <tr>\n",
       "      <th>2</th>\n",
       "      <td>8.11</td>\n",
       "      <td>canha</td>\n",
       "      <td>PROPIO</td>\n",
       "      <td>16/4/2021</td>\n",
       "      <td>00007520000L3.2</td>\n",
       "      <td>1</td>\n",
       "      <td>FA</td>\n",
       "      <td>752</td>\n",
       "      <td>GUARACACHICITO--VELASQUEZ</td>\n",
       "      <td>14826</td>\n",
       "      <td>VELASQUEZ_CLAROS_JACINTO</td>\n",
       "      <td>L3.2</td>\n",
       "      <td>UCG_90-20</td>\n",
       "      <td>152</td>\n",
       "      <td>24</td>\n",
       "      <td>5</td>\n",
       "      <td>POLYGON ((482300.000 8104022.518, 482299.840 8...</td>\n",
       "      <td>-0.003671</td>\n",
       "    </tr>\n",
       "    <tr>\n",
       "      <th>3</th>\n",
       "      <td>14.28</td>\n",
       "      <td>canha</td>\n",
       "      <td>PROPIO</td>\n",
       "      <td>15/4/2020</td>\n",
       "      <td>00007520000L3.1</td>\n",
       "      <td>2</td>\n",
       "      <td>FA</td>\n",
       "      <td>752</td>\n",
       "      <td>GUARACACHICITO--VELASQUEZ</td>\n",
       "      <td>14826</td>\n",
       "      <td>VELASQUEZ_CLAROS_JACINTO</td>\n",
       "      <td>L3.1</td>\n",
       "      <td>UCG_90-20</td>\n",
       "      <td>152</td>\n",
       "      <td>24</td>\n",
       "      <td>5</td>\n",
       "      <td>POLYGON ((482255.560 8103940.000, 482220.000 8...</td>\n",
       "      <td>0.222638</td>\n",
       "    </tr>\n",
       "    <tr>\n",
       "      <th>4</th>\n",
       "      <td>8.11</td>\n",
       "      <td>canha</td>\n",
       "      <td>PROPIO</td>\n",
       "      <td>16/4/2021</td>\n",
       "      <td>00007520000L3.2</td>\n",
       "      <td>1</td>\n",
       "      <td>FA</td>\n",
       "      <td>752</td>\n",
       "      <td>GUARACACHICITO--VELASQUEZ</td>\n",
       "      <td>14826</td>\n",
       "      <td>VELASQUEZ_CLAROS_JACINTO</td>\n",
       "      <td>L3.2</td>\n",
       "      <td>UCG_90-20</td>\n",
       "      <td>152</td>\n",
       "      <td>2</td>\n",
       "      <td>6</td>\n",
       "      <td>POLYGON ((482299.840 8104030.000, 482299.411 8...</td>\n",
       "      <td>-0.002981</td>\n",
       "    </tr>\n",
       "  </tbody>\n",
       "</table>\n",
       "</div>"
      ],
      "text/plain": [
       "    area cultivo financia         fs               id  soca textura  \\\n",
       "0   8.11   canha   PROPIO  16/4/2021  00007520000L3.2     1      FA   \n",
       "1  14.28   canha   PROPIO  15/4/2020  00007520000L3.1     2      FA   \n",
       "2   8.11   canha   PROPIO  16/4/2021  00007520000L3.2     1      FA   \n",
       "3  14.28   canha   PROPIO  15/4/2020  00007520000L3.1     2      FA   \n",
       "4   8.11   canha   PROPIO  16/4/2021  00007520000L3.2     1      FA   \n",
       "\n",
       "   unidad_01                  unidad_02  unidad_03                 unidad_04  \\\n",
       "0        752  GUARACACHICITO--VELASQUEZ      14826  VELASQUEZ_CLAROS_JACINTO   \n",
       "1        752  GUARACACHICITO--VELASQUEZ      14826  VELASQUEZ_CLAROS_JACINTO   \n",
       "2        752  GUARACACHICITO--VELASQUEZ      14826  VELASQUEZ_CLAROS_JACINTO   \n",
       "3        752  GUARACACHICITO--VELASQUEZ      14826  VELASQUEZ_CLAROS_JACINTO   \n",
       "4        752  GUARACACHICITO--VELASQUEZ      14826  VELASQUEZ_CLAROS_JACINTO   \n",
       "\n",
       "  unidad_05   variedad  zona  count  label  \\\n",
       "0      L3.2  UCG_90-20   152      5      7   \n",
       "1      L3.1  UCG_90-20   152      5      7   \n",
       "2      L3.2  UCG_90-20   152     24      5   \n",
       "3      L3.1  UCG_90-20   152     24      5   \n",
       "4      L3.2  UCG_90-20   152      2      6   \n",
       "\n",
       "                                            geometry    area_2  \n",
       "0  POLYGON ((482296.408 8104190.000, 482295.764 8...  0.008011  \n",
       "1  POLYGON ((482295.764 8104220.000, 482296.408 8...  0.034528  \n",
       "2  POLYGON ((482300.000 8104022.518, 482299.840 8... -0.003671  \n",
       "3  POLYGON ((482255.560 8103940.000, 482220.000 8...  0.222638  \n",
       "4  POLYGON ((482299.840 8104030.000, 482299.411 8... -0.002981  "
      ]
     },
     "execution_count": 17,
     "metadata": {},
     "output_type": "execute_result"
    }
   ],
   "source": [
    "df_intersects.head()"
   ]
  },
  {
   "cell_type": "code",
   "execution_count": 16,
   "id": "b3c7b8ea-a343-4079-b902-9facb872dfc4",
   "metadata": {},
   "outputs": [],
   "source": [
    "df_intersects.to_file(\"INTERSECT.shp\", driver=\"ESRI Shapefile\")"
   ]
  },
  {
   "cell_type": "code",
   "execution_count": 325,
   "id": "e2ac85fd-ef61-4cbc-97a2-3539526758fc",
   "metadata": {},
   "outputs": [],
   "source": []
  },
  {
   "cell_type": "code",
   "execution_count": 337,
   "id": "9eaa130b-8050-47a1-b8ab-e6477de20321",
   "metadata": {},
   "outputs": [],
   "source": []
  },
  {
   "cell_type": "code",
   "execution_count": 338,
   "id": "2887bb9e-180d-4e30-acbb-d9f0281ed14b",
   "metadata": {},
   "outputs": [],
   "source": []
  },
  {
   "cell_type": "code",
   "execution_count": 339,
   "id": "e01c2bb2-3aa2-47ed-a1ad-1ed8e94555a2",
   "metadata": {},
   "outputs": [],
   "source": []
  },
  {
   "cell_type": "code",
   "execution_count": null,
   "id": "a628b226-1ff6-4423-821f-48a4473fca21",
   "metadata": {},
   "outputs": [],
   "source": []
  },
  {
   "cell_type": "code",
   "execution_count": null,
   "id": "a2aa7bd9-93e4-49c9-95aa-f789ea99a3d0",
   "metadata": {},
   "outputs": [],
   "source": []
  },
  {
   "cell_type": "code",
   "execution_count": null,
   "id": "9747a856-d0a1-41fa-9ef7-8edf8a612092",
   "metadata": {},
   "outputs": [],
   "source": []
  },
  {
   "cell_type": "code",
   "execution_count": null,
   "id": "23a4c69d-37a1-4d7d-a1a8-1aa8e2aac30d",
   "metadata": {},
   "outputs": [],
   "source": []
  },
  {
   "cell_type": "code",
   "execution_count": null,
   "id": "be51634b-863c-4f46-b90b-ae4e5e2235cd",
   "metadata": {},
   "outputs": [],
   "source": []
  },
  {
   "cell_type": "code",
   "execution_count": null,
   "id": "dbd2a2c0-a2ab-490e-9610-550c39c45b48",
   "metadata": {},
   "outputs": [],
   "source": []
  },
  {
   "cell_type": "code",
   "execution_count": 91,
   "id": "26314234-036a-4921-9ff5-3d115bac523a",
   "metadata": {},
   "outputs": [],
   "source": [
    "Map = geemap.Map(basemap=\"SATELLITE\")"
   ]
  },
  {
   "cell_type": "code",
   "execution_count": 92,
   "id": "843eb122-cc01-412d-a770-3328c6a5c349",
   "metadata": {},
   "outputs": [],
   "source": [
    "Map.centerObject(propiedad.geometry(), 14)\n",
    "Map.addLayer(lotes_canha.style(**vis_params_caña), {}, 'Lotes Caña')\n",
    "Map.addLayer(lotes_renov.style(**vis_params_renov), {}, 'Lotes Renovación')"
   ]
  },
  {
   "cell_type": "code",
   "execution_count": 93,
   "id": "62abeaf7-9f08-4de4-bd37-b1d5692ab7be",
   "metadata": {},
   "outputs": [
    {
     "data": {
      "application/vnd.jupyter.widget-view+json": {
       "model_id": "e27cb8f0b1bc4060b1072142a264ca28",
       "version_major": 2,
       "version_minor": 0
      },
      "text/plain": [
       "Map(center=[-17.227364680451014, -62.98377937612558], controls=(WidgetControl(options=['position', 'transparen…"
      ]
     },
     "execution_count": 93,
     "metadata": {},
     "output_type": "execute_result"
    }
   ],
   "source": [
    "Map"
   ]
  },
  {
   "cell_type": "code",
   "execution_count": null,
   "id": "153f12bf-09bc-4df6-b7e3-8758ae48a81e",
   "metadata": {},
   "outputs": [],
   "source": []
  },
  {
   "cell_type": "code",
   "execution_count": null,
   "id": "c1a1d334-36a9-4b86-9885-438f0ba1f875",
   "metadata": {},
   "outputs": [],
   "source": []
  },
  {
   "cell_type": "code",
   "execution_count": 28,
   "id": "dfa43f1d-1a49-42ad-b399-3d616361778d",
   "metadata": {},
   "outputs": [],
   "source": []
  },
  {
   "cell_type": "code",
   "execution_count": 124,
   "id": "2bdbc5d4-c7d1-4da8-9575-474841e30adf",
   "metadata": {},
   "outputs": [],
   "source": [
    "categoria = ['Nulo','Muy Bajo','Bajo Medio','Bajo','Medio','Medio Alto','Alto','Muy Alto']\n",
    "colores = ['','','','','','','','']"
   ]
  },
  {
   "cell_type": "code",
   "execution_count": null,
   "id": "3d2d31ed-b6f4-46bc-bb75-7319d2c3ffaa",
   "metadata": {},
   "outputs": [],
   "source": []
  },
  {
   "cell_type": "code",
   "execution_count": null,
   "id": "d7ee171b-e6d0-4ecb-941d-95d0d11163ab",
   "metadata": {},
   "outputs": [],
   "source": []
  }
 ],
 "metadata": {
  "kernelspec": {
   "display_name": "Python 3 (ipykernel)",
   "language": "python",
   "name": "python3"
  },
  "language_info": {
   "codemirror_mode": {
    "name": "ipython",
    "version": 3
   },
   "file_extension": ".py",
   "mimetype": "text/x-python",
   "name": "python",
   "nbconvert_exporter": "python",
   "pygments_lexer": "ipython3",
   "version": "3.7.13"
  }
 },
 "nbformat": 4,
 "nbformat_minor": 5
}
