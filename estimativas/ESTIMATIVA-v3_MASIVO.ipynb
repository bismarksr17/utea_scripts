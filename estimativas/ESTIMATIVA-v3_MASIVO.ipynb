{
 "cells": [
  {
   "cell_type": "code",
   "execution_count": 75,
   "id": "80d2f025-ade7-41e3-bd89-0f2492ba7bee",
   "metadata": {},
   "outputs": [],
   "source": [
    "#import ee\n",
    "#ee.Authenticate()"
   ]
  },
  {
   "cell_type": "code",
   "execution_count": 1,
   "id": "d9f90283-49c6-45ec-b0f2-64cac88c0ab9",
   "metadata": {},
   "outputs": [],
   "source": [
    "import ee\n",
    "import geemap\n",
    "# metodo de clasificacion\n",
    "import jenkspy\n",
    "\n",
    "import geopandas as gpd\n",
    "from geopandas.tools import overlay\n",
    "from shapely.geometry import Polygon\n",
    "\n",
    "import pandas as pd\n",
    "import numpy as np\n",
    "\n",
    "import openpyxl"
   ]
  },
  {
   "cell_type": "code",
   "execution_count": 2,
   "id": "dd6be00f-f59e-4994-aa6a-be62cba7e1a4",
   "metadata": {},
   "outputs": [],
   "source": [
    "ee.Initialize()"
   ]
  },
  {
   "cell_type": "code",
   "execution_count": 3,
   "id": "9417028b-6fda-4dcb-9c51-0f3d91a03426",
   "metadata": {},
   "outputs": [],
   "source": [
    "ruta_catastro='projects/ee-bismarksr17/assets/CATASTRO_2023-03-04'\n",
    "ruta_ndvi = 'projects/ee-bismarksr17/assets/NDVI_01_2023'\n",
    "\n",
    "CODIGO_PROPIEDAD='unidad_01'\n",
    "NOM_PROPIEDAD='unidad_02'\n",
    "CODIGO_CANHERO='unidad_03'\n",
    "NOM_CANHERO='unidad_04'\n",
    "\n",
    "VARIEDAD='variedad'\n",
    "ESTADO='RENOVACION'\n",
    "SUPERFICIE='area'"
   ]
  },
  {
   "cell_type": "code",
   "execution_count": 4,
   "id": "12b47d1d-5d68-46c2-89b0-148c8fa1d038",
   "metadata": {},
   "outputs": [],
   "source": [
    "def asig_cat(label):\n",
    "    if label == 1:\n",
    "        return 0\n",
    "    else:\n",
    "        return label * 10\n",
    "\n",
    "vis_params_caña = {\n",
    "    'color': 'red', \n",
    "    'width': 2,\n",
    "    'lineType': 'solid',\n",
    "    'fillColor': '00000000',\n",
    "}\n",
    "\n",
    "# parametro de visualizacion LOTES RENOVACION\n",
    "vis_params_renov = {\n",
    "    'color': 'blue', \n",
    "    'width': 2,\n",
    "    'lineType': 'solid',\n",
    "    'fillColor': '00000000',\n",
    "}"
   ]
  },
  {
   "cell_type": "code",
   "execution_count": 85,
   "id": "2f5022da-e462-4163-b388-1b816bed14bf",
   "metadata": {},
   "outputs": [],
   "source": [
    "ruta_fases = 'fases.xlsx'"
   ]
  },
  {
   "cell_type": "code",
   "execution_count": 86,
   "id": "cc0c12ac-5d11-44f7-a772-c95421cca18f",
   "metadata": {},
   "outputs": [],
   "source": [
    "df = pd.read_excel(ruta_fases)"
   ]
  },
  {
   "cell_type": "code",
   "execution_count": 93,
   "id": "84989af5-267f-4b2e-863b-fd88bcc33c51",
   "metadata": {},
   "outputs": [
    {
     "data": {
      "text/html": [
       "<div>\n",
       "<style scoped>\n",
       "    .dataframe tbody tr th:only-of-type {\n",
       "        vertical-align: middle;\n",
       "    }\n",
       "\n",
       "    .dataframe tbody tr th {\n",
       "        vertical-align: top;\n",
       "    }\n",
       "\n",
       "    .dataframe thead th {\n",
       "        text-align: right;\n",
       "    }\n",
       "</style>\n",
       "<table border=\"1\" class=\"dataframe\">\n",
       "  <thead>\n",
       "    <tr style=\"text-align: right;\">\n",
       "      <th></th>\n",
       "      <th>cod_ca</th>\n",
       "      <th>area</th>\n",
       "      <th>fase</th>\n",
       "    </tr>\n",
       "  </thead>\n",
       "  <tbody>\n",
       "    <tr>\n",
       "      <th>1327</th>\n",
       "      <td>807</td>\n",
       "      <td>2.990119</td>\n",
       "      <td>0</td>\n",
       "    </tr>\n",
       "    <tr>\n",
       "      <th>1328</th>\n",
       "      <td>1265</td>\n",
       "      <td>2.988668</td>\n",
       "      <td>0</td>\n",
       "    </tr>\n",
       "    <tr>\n",
       "      <th>1329</th>\n",
       "      <td>260</td>\n",
       "      <td>2.946992</td>\n",
       "      <td>0</td>\n",
       "    </tr>\n",
       "  </tbody>\n",
       "</table>\n",
       "</div>"
      ],
      "text/plain": [
       "      cod_ca      area  fase\n",
       "1327     807  2.990119     0\n",
       "1328    1265  2.988668     0\n",
       "1329     260  2.946992     0"
      ]
     },
     "execution_count": 93,
     "metadata": {},
     "output_type": "execute_result"
    }
   ],
   "source": [
    "df_select = df[df['fase']==0]\n",
    "df_select.head(3)"
   ]
  },
  {
   "cell_type": "code",
   "execution_count": 94,
   "id": "24f6968b-3c8c-4c9b-8373-9f820c1260fe",
   "metadata": {},
   "outputs": [
    {
     "data": {
      "text/plain": [
       "97"
      ]
     },
     "execution_count": 94,
     "metadata": {},
     "output_type": "execute_result"
    }
   ],
   "source": [
    "len(list(df_select['cod_ca']))"
   ]
  },
  {
   "cell_type": "code",
   "execution_count": null,
   "id": "0403e44c-dd3a-4b96-92f2-39f5c82c0995",
   "metadata": {},
   "outputs": [],
   "source": []
  },
  {
   "cell_type": "code",
   "execution_count": 95,
   "id": "c167ef6b-4258-4538-baec-6bf866208299",
   "metadata": {},
   "outputs": [],
   "source": [
    "#lista_props = [852, 1322, 348, 48, 1100, 418, 1148, 1425, 305, 1323, 62, 522, 1216, 1447, 1294, 244, 1065, 1461, 1446, 1615, 484, 1442, 558, 992, 1413, 182, 1199, 1539, 1423, 374, 400, 988, 176, 1049, 408, 1367, 559, 231, 14, 1807, 1009, 369, 1412, 1735, 419, 1092, 271, 534, 507, 290, 572, 1484, 32, 661, 986, 392, 183, 1485, 1151, 391, 1013, 1695, 705, 1483, 1830, 1428, 21, 556, 971, 1097, 628, 439, 288, 110, 1758, 1520, 376, 1241, 1240, 1198, 1282, 903, 195, 1605, 142, 1088, 586, 858, 989, 224, 265, 853, 1522, 115, 1005, 395, 43, 1052, 1474, 1269, 646, 526, 276, 1619, 898, 503, 414, 761, 766, 505, 1025, 523, 859, 1306, 627, 1593, 1430, 1104, 613, 1720, 485, 4, 36, 794, 298, 1731, 1432, 1816, 1656, 189, 173, 990, 947, 1264, 360, 302, 211, 155, 730, 1091, 715, 187, 902, 313, 631, 287, 76, 734, 1697, 1277, 292, 171, 883, 500, 910, 1136, 15, 537, 520, 1260, 1042, 1174]\n",
    "lista_props = list(df_select['cod_ca'])\n",
    "\n",
    "#lista_props = [1024]"
   ]
  },
  {
   "cell_type": "code",
   "execution_count": 5,
   "id": "cb6e1c8b-47bc-4ebc-aa10-f028c57ac882",
   "metadata": {},
   "outputs": [],
   "source": [
    "#ista_props = [1065, 1854, 1826, 1856, 1857, 1858, 1859, 1860, 1861, 1864, 1866, 1865, 592, 1867, 1868]\n",
    "lista_props = [112, 551, 257, 408, 771, 738, 739, 26, 796, 1010, 1211, 1283, 943, 1443, 1441, 1225, 1467, 1605, 1646, 1642, 1503, 1736, 1739, 737, 1741, 1740, 1260, 1284, 612, 761, 1851, 360, 1833]"
   ]
  },
  {
   "cell_type": "code",
   "execution_count": 6,
   "id": "42e43ae2-74ed-4ad4-b019-1479e404b237",
   "metadata": {},
   "outputs": [
    {
     "data": {
      "text/plain": [
       "33"
      ]
     },
     "execution_count": 6,
     "metadata": {},
     "output_type": "execute_result"
    }
   ],
   "source": [
    "len(lista_props)"
   ]
  },
  {
   "cell_type": "code",
   "execution_count": 7,
   "id": "26603a74-e6a3-4b5d-a0a5-6b105f48239e",
   "metadata": {},
   "outputs": [],
   "source": [
    "df_intersects = None"
   ]
  },
  {
   "cell_type": "code",
   "execution_count": 8,
   "id": "9e88cad8-67cc-4471-8af2-4680ab2daa65",
   "metadata": {},
   "outputs": [
    {
     "name": "stdout",
     "output_type": "stream",
     "text": [
      "inicio: 112\n",
      "fin:  112\n",
      "___________________CONTADOR:  1\n",
      "inicio: 551\n",
      "fin:  551\n",
      "___________________CONTADOR:  2\n",
      "inicio: 257\n",
      "fin:  257\n",
      "___________________CONTADOR:  3\n",
      "inicio: 408\n",
      "fin:  408\n",
      "___________________CONTADOR:  4\n",
      "inicio: 771\n",
      "fin:  771\n",
      "___________________CONTADOR:  5\n",
      "inicio: 738\n",
      "fin:  738\n",
      "___________________CONTADOR:  6\n",
      "inicio: 739\n",
      "fin:  739\n",
      "___________________CONTADOR:  7\n",
      "inicio: 26\n",
      "fin:  26\n",
      "___________________CONTADOR:  8\n",
      "inicio: 796\n",
      "fin:  796\n",
      "___________________CONTADOR:  9\n",
      "inicio: 1010\n",
      "fin:  1010\n",
      "___________________CONTADOR:  10\n",
      "inicio: 1211\n",
      "fin:  1211\n",
      "___________________CONTADOR:  11\n",
      "inicio: 1283\n",
      "fin:  1283\n",
      "___________________CONTADOR:  12\n",
      "inicio: 943\n",
      "fin:  943\n",
      "___________________CONTADOR:  13\n",
      "inicio: 1443\n",
      "fin:  1443\n",
      "___________________CONTADOR:  14\n",
      "inicio: 1441\n",
      "fin:  1441\n",
      "___________________CONTADOR:  15\n",
      "inicio: 1225\n",
      "fin:  1225\n",
      "___________________CONTADOR:  16\n",
      "inicio: 1467\n",
      "fin:  1467\n",
      "___________________CONTADOR:  17\n",
      "inicio: 1605\n",
      "fin:  1605\n",
      "___________________CONTADOR:  18\n",
      "inicio: 1646\n",
      "fin:  1646\n",
      "___________________CONTADOR:  19\n",
      "inicio: 1642\n",
      "fin:  1642\n",
      "___________________CONTADOR:  20\n",
      "inicio: 1503\n",
      "fin:  1503\n",
      "___________________CONTADOR:  21\n",
      "inicio: 1736\n",
      "fin:  1736\n",
      "___________________CONTADOR:  22\n",
      "inicio: 1739\n",
      "fin:  1739\n",
      "___________________CONTADOR:  23\n",
      "inicio: 737\n",
      "fin:  737\n",
      "___________________CONTADOR:  24\n",
      "inicio: 1741\n",
      "fin:  1741\n",
      "___________________CONTADOR:  25\n",
      "inicio: 1740\n",
      "fin:  1740\n",
      "___________________CONTADOR:  26\n",
      "inicio: 1260\n",
      "fin:  1260\n",
      "___________________CONTADOR:  27\n",
      "inicio: 1284\n",
      "fin:  1284\n",
      "___________________CONTADOR:  28\n",
      "inicio: 612\n",
      "fin:  612\n",
      "___________________CONTADOR:  29\n",
      "inicio: 761\n",
      "fin:  761\n",
      "___________________CONTADOR:  30\n",
      "inicio: 1851\n",
      "fin:  1851\n",
      "___________________CONTADOR:  31\n",
      "inicio: 360\n",
      "fin:  360\n",
      "___________________CONTADOR:  32\n",
      "inicio: 1833\n",
      "fin:  1833\n",
      "___________________CONTADOR:  33\n",
      "FIN......!\n"
     ]
    }
   ],
   "source": [
    "contador = 0\n",
    "for cod_prop in lista_props:\n",
    "    print('inicio:', cod_prop)\n",
    "    propiedad = ee.FeatureCollection(ruta_catastro)\\\n",
    "                .filter(ee.Filter.eq(CODIGO_PROPIEDAD, cod_prop))\n",
    "    lotes_canha = propiedad.filter(ee.Filter.neq(VARIEDAD, ESTADO))\n",
    "    lotes_renov = propiedad.filter(ee.Filter.eq(VARIEDAD, ESTADO))\n",
    "    NDVI = ee.Image(ruta_ndvi)\n",
    "    NDVI_clip = NDVI.clip(lotes_canha.geometry())\n",
    "    # crea un sample de los valore de pixel del NDVI\n",
    "    NDVI_values = NDVI_clip.sampleRegions(lotes_canha.geometry())\n",
    "    # reduce el resultado a valores de NDVI\n",
    "    pixel_values = NDVI_values.reduceColumns(ee.Reducer.toList(),['b1']).get('list').getInfo()\n",
    "    # aplica metodo Jenks\n",
    "    breaks = jenkspy.jenks_breaks(pixel_values, n_classes=8)\n",
    "    NDVI_class = ee.Image(-1).where(NDVI.lt(breaks[1]),1)\\\n",
    "                        .where(NDVI.gte(breaks[1]),2)\\\n",
    "                        .where(NDVI.gte(breaks[2]),3)\\\n",
    "                        .where(NDVI.gte(breaks[3]),4)\\\n",
    "                        .where(NDVI.gte(breaks[4]),5)\\\n",
    "                        .where(NDVI.gte(breaks[5]),6)\\\n",
    "                        .where(NDVI.gte(breaks[6]),7)\\\n",
    "                        .where(NDVI.gte(breaks[7]),8)\n",
    "    NDVI_class_clip = NDVI_class.clip(lotes_canha.geometry())\n",
    "    clasify = NDVI_class_clip.reproject(crs=\"EPSG:32720\", scale=10)\n",
    "    vector = clasify.reduceToVectors(**{\n",
    "        'geometry': lotes_canha.geometry(),\n",
    "        'crs': clasify.projection(),\n",
    "        'scale': 10,\n",
    "        'geometryType': 'polygon',\n",
    "        'eightConnected': False\n",
    "    })\n",
    "    \n",
    "    DF_VECTOR = vector\n",
    "    \n",
    "    lotes_local = geemap.ee_to_geopandas(lotes_canha)\n",
    "    \n",
    "    lista = vector.toList(vector.size()).getInfo()\n",
    "    lista_vector=[]\n",
    "    for item in lista:\n",
    "        dic = {'geometry':Polygon(item['geometry']['coordinates'][0]), 'count':item['properties']['count'], 'label':item['properties']['label']}\n",
    "        lista_vector.append(dic)\n",
    "    \n",
    "    vector_local = gpd.GeoDataFrame(lista_vector)\n",
    "    \n",
    "    intersect = overlay(lotes_local, vector_local, how=\"intersection\")\n",
    "    intersect.crs = \"EPSG:4326\"\n",
    "    intersect = intersect.to_crs(epsg=32720)\n",
    "    intersect['area_2'] = intersect['geometry'].area/10000\n",
    "    \n",
    "    area_01 = intersect['area_2'].sum()\n",
    "    area_02 = lotes_local[SUPERFICIE].sum()\n",
    "    area_diff = (area_02 - area_01)/len(intersect)\n",
    "    intersect['area_2'] = intersect['area_2'] + area_diff\n",
    "    \n",
    "    DF = intersect.copy()\n",
    "    dina = pd.pivot_table(DF, values='area_2', index=[CODIGO_PROPIEDAD, NOM_PROPIEDAD, CODIGO_CANHERO, NOM_CANHERO, 'label'], aggfunc=np.sum)\n",
    "    dina2 = dina.reset_index()\n",
    "    \n",
    "    dina2['tch'] = dina2['label'].apply(asig_cat)\n",
    "    \n",
    "    # Cargar el archivo de Excel existente\n",
    "    wb = openpyxl.load_workbook('DATA_EST.xlsx')\n",
    "    # Seleccionar la hoja de trabajo\n",
    "    ws = wb['data']\n",
    "    \n",
    "    for i in range(0, len(dina2)):\n",
    "        new_row = [dina2.iloc[i,0], dina2.iloc[i,1], dina2.iloc[i,2], dina2.iloc[i,3], dina2.iloc[i,4], dina2.iloc[i,5], dina2.iloc[i,6]]\n",
    "        ws.append(new_row)\n",
    "    wb.save('DATA_EST.xlsx')\n",
    "    \n",
    "    df_intersects = pd.concat([df_intersects, DF], ignore_index=True)\n",
    "    \n",
    "    contador = contador + 1 \n",
    "    print('fin: ', cod_prop)\n",
    "    print('___________________CONTADOR: ', contador)\n",
    "    \n",
    "print('FIN......!')"
   ]
  },
  {
   "cell_type": "code",
   "execution_count": null,
   "id": "bb99502a-58b7-4109-a413-f4ed99939c86",
   "metadata": {},
   "outputs": [],
   "source": []
  },
  {
   "cell_type": "code",
   "execution_count": null,
   "id": "57abe850-d965-4772-a8c0-7e61d2e1b36f",
   "metadata": {},
   "outputs": [],
   "source": []
  },
  {
   "cell_type": "code",
   "execution_count": null,
   "id": "f4cbfa63-5aef-471f-8be3-295a3631b10e",
   "metadata": {},
   "outputs": [],
   "source": []
  },
  {
   "cell_type": "code",
   "execution_count": 9,
   "id": "c9040edd-6d0e-408e-ad64-146e3ee65856",
   "metadata": {},
   "outputs": [
    {
     "data": {
      "text/plain": [
       "25127"
      ]
     },
     "execution_count": 9,
     "metadata": {},
     "output_type": "execute_result"
    }
   ],
   "source": [
    "len(df_intersects)"
   ]
  },
  {
   "cell_type": "code",
   "execution_count": 10,
   "id": "b3c7b8ea-a343-4079-b902-9facb872dfc4",
   "metadata": {},
   "outputs": [],
   "source": [
    "df_intersects.to_file(\"INTERSECT_S1.shp\", driver=\"ESRI Shapefile\")"
   ]
  },
  {
   "cell_type": "code",
   "execution_count": 325,
   "id": "e2ac85fd-ef61-4cbc-97a2-3539526758fc",
   "metadata": {},
   "outputs": [],
   "source": []
  },
  {
   "cell_type": "code",
   "execution_count": 337,
   "id": "9eaa130b-8050-47a1-b8ab-e6477de20321",
   "metadata": {},
   "outputs": [],
   "source": []
  },
  {
   "cell_type": "code",
   "execution_count": 338,
   "id": "2887bb9e-180d-4e30-acbb-d9f0281ed14b",
   "metadata": {},
   "outputs": [],
   "source": []
  },
  {
   "cell_type": "code",
   "execution_count": 339,
   "id": "e01c2bb2-3aa2-47ed-a1ad-1ed8e94555a2",
   "metadata": {},
   "outputs": [],
   "source": []
  },
  {
   "cell_type": "code",
   "execution_count": null,
   "id": "a628b226-1ff6-4423-821f-48a4473fca21",
   "metadata": {},
   "outputs": [],
   "source": []
  },
  {
   "cell_type": "code",
   "execution_count": null,
   "id": "a2aa7bd9-93e4-49c9-95aa-f789ea99a3d0",
   "metadata": {},
   "outputs": [],
   "source": []
  },
  {
   "cell_type": "code",
   "execution_count": null,
   "id": "9747a856-d0a1-41fa-9ef7-8edf8a612092",
   "metadata": {},
   "outputs": [],
   "source": []
  },
  {
   "cell_type": "code",
   "execution_count": null,
   "id": "23a4c69d-37a1-4d7d-a1a8-1aa8e2aac30d",
   "metadata": {},
   "outputs": [],
   "source": []
  },
  {
   "cell_type": "code",
   "execution_count": null,
   "id": "be51634b-863c-4f46-b90b-ae4e5e2235cd",
   "metadata": {},
   "outputs": [],
   "source": []
  },
  {
   "cell_type": "code",
   "execution_count": null,
   "id": "dbd2a2c0-a2ab-490e-9610-550c39c45b48",
   "metadata": {},
   "outputs": [],
   "source": []
  },
  {
   "cell_type": "code",
   "execution_count": 32,
   "id": "26314234-036a-4921-9ff5-3d115bac523a",
   "metadata": {},
   "outputs": [],
   "source": [
    "Map = geemap.Map(basemap=\"SATELLITE\")"
   ]
  },
  {
   "cell_type": "code",
   "execution_count": 92,
   "id": "843eb122-cc01-412d-a770-3328c6a5c349",
   "metadata": {},
   "outputs": [],
   "source": [
    "Map.centerObject(propiedad.geometry(), 14)\n",
    "Map.addLayer(lotes_canha.style(**vis_params_caña), {}, 'Lotes Caña')\n",
    "Map.addLayer(lotes_renov.style(**vis_params_renov), {}, 'Lotes Renovación')"
   ]
  },
  {
   "cell_type": "code",
   "execution_count": 33,
   "id": "d58324ff-640d-41fb-99da-1ecd86703a81",
   "metadata": {},
   "outputs": [],
   "source": [
    "Map.centerObject(propiedad.geometry(), 14)\n",
    "Map.addLayer(lotes_canha.style(**vis_params_caña), {}, 'Lotes Caña')\n",
    "Map.addLayer(lotes_renov.style(**vis_params_renov), {}, 'Lotes Renovación')"
   ]
  },
  {
   "cell_type": "code",
   "execution_count": 34,
   "id": "62abeaf7-9f08-4de4-bd37-b1d5692ab7be",
   "metadata": {},
   "outputs": [
    {
     "data": {
      "application/vnd.jupyter.widget-view+json": {
       "model_id": "692be591d6504803bada84909cbc8fb9",
       "version_major": 2,
       "version_minor": 0
      },
      "text/plain": [
       "Map(center=[-17.240370201942387, -63.1623575923626], controls=(WidgetControl(options=['position', 'transparent…"
      ]
     },
     "execution_count": 34,
     "metadata": {},
     "output_type": "execute_result"
    }
   ],
   "source": [
    "Map"
   ]
  },
  {
   "cell_type": "code",
   "execution_count": null,
   "id": "153f12bf-09bc-4df6-b7e3-8758ae48a81e",
   "metadata": {},
   "outputs": [],
   "source": []
  },
  {
   "cell_type": "code",
   "execution_count": null,
   "id": "c1a1d334-36a9-4b86-9885-438f0ba1f875",
   "metadata": {},
   "outputs": [],
   "source": []
  },
  {
   "cell_type": "code",
   "execution_count": 28,
   "id": "dfa43f1d-1a49-42ad-b399-3d616361778d",
   "metadata": {},
   "outputs": [],
   "source": []
  },
  {
   "cell_type": "code",
   "execution_count": 124,
   "id": "2bdbc5d4-c7d1-4da8-9575-474841e30adf",
   "metadata": {},
   "outputs": [],
   "source": [
    "categoria = ['Nulo','Muy Bajo','Bajo Medio','Bajo','Medio','Medio Alto','Alto','Muy Alto']\n",
    "colores = ['','','','','','','','']"
   ]
  },
  {
   "cell_type": "code",
   "execution_count": null,
   "id": "3d2d31ed-b6f4-46bc-bb75-7319d2c3ffaa",
   "metadata": {},
   "outputs": [],
   "source": []
  },
  {
   "cell_type": "code",
   "execution_count": null,
   "id": "d7ee171b-e6d0-4ecb-941d-95d0d11163ab",
   "metadata": {},
   "outputs": [],
   "source": []
  }
 ],
 "metadata": {
  "kernelspec": {
   "display_name": "Python 3 (ipykernel)",
   "language": "python",
   "name": "python3"
  },
  "language_info": {
   "codemirror_mode": {
    "name": "ipython",
    "version": 3
   },
   "file_extension": ".py",
   "mimetype": "text/x-python",
   "name": "python",
   "nbconvert_exporter": "python",
   "pygments_lexer": "ipython3",
   "version": "3.7.15"
  }
 },
 "nbformat": 4,
 "nbformat_minor": 5
}
