{
 "cells": [
  {
   "cell_type": "code",
   "execution_count": 4,
   "id": "80d2f025-ade7-41e3-bd89-0f2492ba7bee",
   "metadata": {},
   "outputs": [
    {
     "data": {
      "text/html": [
       "<p>To authorize access needed by Earth Engine, open the following\n",
       "        URL in a web browser and follow the instructions:</p>\n",
       "        <p><a href=https://code.earthengine.google.com/client-auth?scopes=https%3A//www.googleapis.com/auth/earthengine%20https%3A//www.googleapis.com/auth/devstorage.full_control&request_id=zZExs1nPhtMdMI2ojEO20AgZ5diNnyLnmO73LuN9b9c&tc=ZJkGM9BVwKGtr85eL2eYIgq8MLE4YoKfo0KIBq7aEhU&cc=t65m3JSlFgvN6NqHAp7wXztoatNnGCiTUHXwSz2PoTc>https://code.earthengine.google.com/client-auth?scopes=https%3A//www.googleapis.com/auth/earthengine%20https%3A//www.googleapis.com/auth/devstorage.full_control&request_id=zZExs1nPhtMdMI2ojEO20AgZ5diNnyLnmO73LuN9b9c&tc=ZJkGM9BVwKGtr85eL2eYIgq8MLE4YoKfo0KIBq7aEhU&cc=t65m3JSlFgvN6NqHAp7wXztoatNnGCiTUHXwSz2PoTc</a></p>\n",
       "        <p>The authorization workflow will generate a code, which you should paste in the box below.</p>\n",
       "        "
      ],
      "text/plain": [
       "<IPython.core.display.HTML object>"
      ]
     },
     "metadata": {},
     "output_type": "display_data"
    },
    {
     "name": "stdin",
     "output_type": "stream",
     "text": [
      "Enter verification code:  4/1AVHEtk4mqZZvQYP95jOz3qBtKYD5LTdD77XwMcMn20JyGPARaHQ9Ah9hU8A\n"
     ]
    },
    {
     "name": "stdout",
     "output_type": "stream",
     "text": [
      "\n",
      "Successfully saved authorization token.\n"
     ]
    }
   ],
   "source": [
    "#import ee\n",
    "#ee.Authenticate()"
   ]
  },
  {
   "cell_type": "code",
   "execution_count": 12,
   "id": "d9f90283-49c6-45ec-b0f2-64cac88c0ab9",
   "metadata": {},
   "outputs": [],
   "source": [
    "import ee\n",
    "import geemap\n",
    "# metodo de clasificacion\n",
    "import jenkspy\n",
    "\n",
    "import geopandas as gpd\n",
    "from geopandas.tools import overlay\n",
    "from shapely.geometry import Polygon\n",
    "\n",
    "import pandas as pd\n",
    "import numpy as np\n",
    "\n",
    "import openpyxl"
   ]
  },
  {
   "cell_type": "code",
   "execution_count": 13,
   "id": "dd6be00f-f59e-4994-aa6a-be62cba7e1a4",
   "metadata": {},
   "outputs": [],
   "source": [
    "ee.Initialize()"
   ]
  },
  {
   "cell_type": "code",
   "execution_count": 21,
   "id": "9417028b-6fda-4dcb-9c51-0f3d91a03426",
   "metadata": {},
   "outputs": [],
   "source": [
    "ruta_catastro='projects/ee-bismarksr17/assets/lotes_a_subir_31'\n",
    "ruta_ndvi = 'projects/ee-bismarksr17/assets/NDVI_02_2023_PARCIAL'\n",
    "\n",
    "CODIGO_PROPIEDAD='unidad_01'\n",
    "NOM_PROPIEDAD='unidad_02'\n",
    "CODIGO_CANHERO='unidad_03'\n",
    "NOM_CANHERO='unidad_04'\n",
    "\n",
    "VARIEDAD='variedad'\n",
    "ESTADO='RENOVACION'\n",
    "SUPERFICIE='area'"
   ]
  },
  {
   "cell_type": "code",
   "execution_count": 15,
   "id": "12b47d1d-5d68-46c2-89b0-148c8fa1d038",
   "metadata": {},
   "outputs": [],
   "source": [
    "def asig_cat(label):\n",
    "    if label == 1:\n",
    "        return 0\n",
    "    else:\n",
    "        return label * 10\n",
    "\n",
    "vis_params_caña = {\n",
    "    'color': 'red', \n",
    "    'width': 2,\n",
    "    'lineType': 'solid',\n",
    "    'fillColor': '00000000',\n",
    "}\n",
    "\n",
    "# parametro de visualizacion LOTES RENOVACION\n",
    "vis_params_renov = {\n",
    "    'color': 'blue', \n",
    "    'width': 2,\n",
    "    'lineType': 'solid',\n",
    "    'fillColor': '00000000',\n",
    "}"
   ]
  },
  {
   "cell_type": "code",
   "execution_count": 46,
   "id": "2f5022da-e462-4163-b388-1b816bed14bf",
   "metadata": {},
   "outputs": [],
   "source": [
    "ruta_fases = 'codigos_feb.xlsx'"
   ]
  },
  {
   "cell_type": "code",
   "execution_count": 47,
   "id": "cc0c12ac-5d11-44f7-a772-c95421cca18f",
   "metadata": {},
   "outputs": [],
   "source": [
    "df = pd.read_excel(ruta_fases)"
   ]
  },
  {
   "cell_type": "code",
   "execution_count": 48,
   "id": "84989af5-267f-4b2e-863b-fd88bcc33c51",
   "metadata": {},
   "outputs": [
    {
     "data": {
      "text/html": [
       "<div>\n",
       "<style scoped>\n",
       "    .dataframe tbody tr th:only-of-type {\n",
       "        vertical-align: middle;\n",
       "    }\n",
       "\n",
       "    .dataframe tbody tr th {\n",
       "        vertical-align: top;\n",
       "    }\n",
       "\n",
       "    .dataframe thead th {\n",
       "        text-align: right;\n",
       "    }\n",
       "</style>\n",
       "<table border=\"1\" class=\"dataframe\">\n",
       "  <thead>\n",
       "    <tr style=\"text-align: right;\">\n",
       "      <th></th>\n",
       "      <th>unidad_01</th>\n",
       "    </tr>\n",
       "  </thead>\n",
       "  <tbody>\n",
       "    <tr>\n",
       "      <th>0</th>\n",
       "      <td>560</td>\n",
       "    </tr>\n",
       "    <tr>\n",
       "      <th>1</th>\n",
       "      <td>501</td>\n",
       "    </tr>\n",
       "    <tr>\n",
       "      <th>2</th>\n",
       "      <td>978</td>\n",
       "    </tr>\n",
       "    <tr>\n",
       "      <th>3</th>\n",
       "      <td>1297</td>\n",
       "    </tr>\n",
       "    <tr>\n",
       "      <th>4</th>\n",
       "      <td>995</td>\n",
       "    </tr>\n",
       "  </tbody>\n",
       "</table>\n",
       "</div>"
      ],
      "text/plain": [
       "   unidad_01\n",
       "0        560\n",
       "1        501\n",
       "2        978\n",
       "3       1297\n",
       "4        995"
      ]
     },
     "execution_count": 48,
     "metadata": {},
     "output_type": "execute_result"
    }
   ],
   "source": [
    "df.head()"
   ]
  },
  {
   "cell_type": "code",
   "execution_count": 49,
   "id": "c167ef6b-4258-4538-baec-6bf866208299",
   "metadata": {},
   "outputs": [],
   "source": [
    "lista_props = list(df['unidad_01'])"
   ]
  },
  {
   "cell_type": "code",
   "execution_count": 4,
   "id": "cb6e1c8b-47bc-4ebc-aa10-f028c57ac882",
   "metadata": {},
   "outputs": [
    {
     "ename": "NameError",
     "evalue": "name 'lista_props' is not defined",
     "output_type": "error",
     "traceback": [
      "\u001b[1;31m---------------------------------------------------------------------------\u001b[0m",
      "\u001b[1;31mNameError\u001b[0m                                 Traceback (most recent call last)",
      "\u001b[1;32m~\\AppData\\Local\\Temp\\ipykernel_14956\\2140220728.py\u001b[0m in \u001b[0;36m<module>\u001b[1;34m\u001b[0m\n\u001b[1;32m----> 1\u001b[1;33m \u001b[0mlen\u001b[0m\u001b[1;33m(\u001b[0m\u001b[0mlista_props\u001b[0m\u001b[1;33m)\u001b[0m\u001b[1;33m\u001b[0m\u001b[1;33m\u001b[0m\u001b[0m\n\u001b[0m",
      "\u001b[1;31mNameError\u001b[0m: name 'lista_props' is not defined"
     ]
    }
   ],
   "source": [
    "len(lista_props)"
   ]
  },
  {
   "cell_type": "code",
   "execution_count": 51,
   "id": "04742ed4-356d-47aa-a573-6a15520be80c",
   "metadata": {},
   "outputs": [
    {
     "name": "stdout",
     "output_type": "stream",
     "text": [
      "[560, 501, 978, 1297, 995, 996, 999, 1000, 1001, 239, 16, 85, 280, 281, 282, 540, 504, 505, 503, 532, 573, 574, 647, 646, 632, 634, 171, 285, 290, 292, 291, 294, 293, 310, 309, 29, 259, 118, 270, 267, 271, 306, 300, 284, 296, 311, 253, 27, 276, 314, 48, 488, 123, 484, 485, 79, 78, 98, 483, 313, 251, 221, 327, 423, 499, 486, 297, 458, 487, 494, 493, 491, 489, 496, 447, 514, 515, 516, 517, 40, 537, 538, 520, 126, 529, 161, 371, 533, 437, 439, 440, 441, 209, 550, 392, 590, 607, 606, 608, 611, 610, 225, 358, 905, 914, 856, 906, 1090, 329, 330, 20, 1096, 727, 895, 919, 797, 798, 1107, 1108, 1109, 1104, 1147, 1136, 1144, 1572, 1137, 1295, 1276, 1273, 1289, 1582, 1577, 1576, 18, 19, 1, 13, 17, 89, 92, 106, 112, 116, 119, 549, 526, 240, 524, 523, 241, 555, 511, 74, 117, 298, 421, 535, 129, 325, 543, 544, 182, 512, 513, 145, 546, 548, 509, 507, 100, 469, 468, 551, 213, 212, 6, 407, 404, 552, 542, 257, 137, 283, 122, 1852, 554, 398, 231, 242, 1704, 125, 183, 70, 274, 277, 173, 403, 565, 566, 471, 572, 586, 583, 582, 580, 223, 224, 576, 579, 344, 1454, 25, 571, 320, 104, 288, 545, 502, 625, 577, 341, 195, 602, 605, 226, 4, 593, 594, 333, 600, 612, 236, 237, 71, 619, 614, 615, 618, 655, 654, 670, 671, 667, 650, 651, 652, 653, 648, 649, 45, 657, 656, 389, 672, 641, 639, 642, 640, 638, 643, 645, 628, 94, 664, 665, 661, 349, 660, 663, 662, 659, 637, 636, 622, 367, 666, 627, 454, 682, 706, 707, 729, 708, 709, 710, 693, 692, 679, 678, 704, 702, 703, 127, 683, 694, 698, 696, 677, 697, 695, 699, 449, 700, 687, 725, 726, 891, 834, 833, 771, 839, 838, 802, 863, 953, 925, 690, 685, 681, 5, 916, 889, 890, 892, 753, 724, 723, 1005, 1006, 747, 746, 745, 1016, 728, 887, 764, 765, 763, 762, 1049, 715, 714, 772, 1050, 1051, 1052, 1053, 744, 936, 835, 855, 228, 886, 742, 1054, 734, 755, 754, 776, 46, 757, 775, 774, 720, 722, 721, 719, 718, 717, 139, 147, 733, 732, 1819, 750, 877, 617, 741, 1482, 1485, 1481, 1480, 1483, 1486, 1484, 591, 216, 55, 217, 256, 219, 218, 205, 752, 187, 26, 910, 909, 1089, 830, 779, 780, 350, 766, 859, 894, 852, 1097, 848, 849, 971, 853, 840, 843, 842, 846, 845, 844, 782, 904, 275, 854, 630, 631, 778, 613, 141, 142, 767, 1099, 773, 1461, 1551, 803, 954, 386, 384, 861, 932, 952, 951, 950, 770, 769, 768, 864, 930, 862, 810, 811, 445, 812, 804, 805, 807, 806, 814, 827, 860, 816, 815, 813, 809, 817, 866, 11, 263, 865, 348, 898, 896, 969, 913, 132, 1139, 716, 897, 900, 901, 899, 478, 414, 868, 871, 869, 878, 873, 874, 799, 800, 273, 758, 759, 289, 133, 783, 784, 365, 785, 629, 201, 777, 258, 522, 902, 888, 893, 924, 923, 912, 788, 796, 789, 790, 794, 792, 793, 879, 787, 832, 921, 989, 920, 988, 915, 883, 994, 882, 880, 944, 1022, 1094, 93, 135, 355, 1220, 1252, 928, 922, 24, 935, 927, 918, 473, 472, 942, 937, 938, 939, 9, 947, 1411, 970, 1242, 400, 22, 419, 415, 964, 963, 966, 956, 957, 958, 968, 399, 962, 1015, 985, 986, 984, 980, 973, 176, 976, 975, 974, 979, 982, 981, 993, 991, 416, 418, 417, 961, 1033, 1024, 1025, 1034, 1036, 1035, 1028, 1026, 1009, 1013, 1086, 1085, 1007, 1011, 1008, 1010, 233, 1018, 1020, 1023, 1095, 1057, 1047, 1046, 1066, 168, 1072, 1073, 1074, 1075, 377, 378, 1076, 1077, 1079, 1078, 1080, 1083, 1084, 1087, 1042, 1045, 1092, 1039, 1093, 1041, 1043, 1040, 264, 238, 705, 1122, 1123, 1124, 1126, 1121, 1118, 1125, 1120, 1116, 1117, 1115, 1113, 1114, 1119, 1146, 1130, 1132, 1128, 1142, 1145, 1140, 1149, 1151, 1156, 1157, 1154, 1158, 43, 1160, 1163, 1161, 1162, 541, 396, 395, 1173, 1182, 1180, 1183, 1184, 1177, 1181, 1178, 1176, 1179, 1185, 1171, 1165, 1168, 1186, 990, 1216, 1193, 1197, 1208, 1207, 1204, 1206, 1200, 1203, 1205, 1195, 1211, 1199, 1194, 1212, 1201, 156, 36, 1214, 1198, 1227, 1234, 1226, 1247, 1249, 1248, 1233, 1241, 1240, 1228, 1229, 1231, 1232, 1237, 1243, 1244, 1219, 1221, 1222, 903, 1292, 1294, 1274, 1291, 1287, 1290, 1283, 1286, 1285, 1264, 1267, 1266, 1265, 1268, 1282, 1262, 1254, 1258, 1263, 1259, 1257, 1256, 943, 54, 286, 287, 198, 279, 1313, 1314, 1306, 1307, 1308, 1311, 1305, 1302, 1309, 1303, 1304, 450, 444, 1299, 1301, 63, 1350, 1349, 62, 556, 1335, 8, 340, 1688, 250, 1170, 189, 466, 568, 567, 1321, 23, 47, 50, 324, 376, 559, 558, 510, 278, 1210, 1374, 1373, 1372, 1380, 1384, 1376, 1377, 1378, 1381, 1368, 1379, 1385, 1371, 1370, 1386, 1375, 1382, 1389, 1394, 1352, 1356, 1351, 1346, 1344, 1347, 1342, 1354, 1364, 1365, 1366, 1362, 1343, 361, 1359, 1358, 1324, 1326, 1327, 1330, 1333, 1338, 1339, 1340, 1341, 1332, 1322, 1337, 1336, 1331, 1100, 1397, 442, 1408, 435, 434, 1404, 1399, 1409, 1406, 1403, 1407, 1405, 1402, 1401, 1413, 1412, 1420, 1419, 1418, 1416, 1417, 616, 539, 1238, 781, 1422, 575, 1425, 1421, 674, 1430, 1433, 1438, 328, 1451, 1426, 1424, 668, 360, 1452, 249, 547, 669, 1443, 1450, 1459, 185, 1456, 1473, 1472, 1475, 1474, 1489, 1476, 326, 1478, 1494, 1495, 424, 1498, 1499, 246, 1492, 1491, 405, 596, 597, 598, 1021, 1111, 1502, 1511, 115, 197, 1269, 1367, 1388, 1393, 1431, 1432, 1440, 1446, 1457, 1464, 1465, 1469, 1470, 1497, 1505, 30, 1513, 1518, 1520, 211, 1392, 1537, 1536, 1526, 1573, 1545, 155, 1579, 76, 244, 1516, 1544, 1546, 1530, 945, 1548, 1562, 1567, 1566, 1512, 1568, 1554, 1447, 1556, 1557, 1558, 1561, 1550, 1539, 1563, 1564, 570, 1088, 1569, 633, 1190, 1570, 1538, 908, 1522, 1523, 691, 1559, 1524, 1549, 1525, 1540, 1541, 1553, 1578, 1547, 1552, 492, 1487, 1414, 525, 1225, 1815, 620, 1542, 1323, 1467, 1818, 749, 1820, 136, 934, 411, 1585, 42, 476, 1587, 1275, 1588, 230, 39, 72, 519, 1235, 867, 1598, 1597, 1596, 1600, 1601, 1593, 1602, 801, 1580, 1609, 1610, 184, 1490, 150, 1614, 1611, 1613, 140, 1353, 343, 836, 1617, 1616, 1620, 1621, 1622, 1623, 495, 391, 1627, 1626, 1625, 1624, 1630, 1629, 1628, 536, 1619, 406, 1633, 1639, 534, 1640, 1644, 1643, 15, 1651, 1652, 1656, 1658, 1655, 179, 1660, 1661, 1663, 730, 1671, 1673, 1677, 1676, 1675, 1674, 375, 1682, 1683, 229, 1684, 260, 1685, 105, 128, 188, 103, 261, 870, 1460, 1091, 1325, 1607, 1355, 1672, 1535, 1649, 1345, 1638, 1605, 3, 1668, 756, 1635, 1648, 603, 621, 1645, 10, 1631, 57, 1665, 1250, 1659, 1662, 1606, 1669, 83, 1667, 1014, 1213, 1670, 1646, 1642, 159, 1687, 1686, 1641, 1612, 825, 1690, 331, 1153, 49, 1608, 1510, 206, 234, 186, 66, 38, 2, 1694, 113, 369, 941, 791, 31, 67, 68, 1509, 146, 109, 162, 164, 926, 111, 61, 1710, 1697, 114, 1699, 21, 1817, 1816, 265, 174, 222, 949, 624, 1708, 1709, 1716, 1215, 332, 1574, 1315, 295, 1736, 1738, 1737, 851, 907, 1739, 737, 1741, 1740, 1742, 1743, 1166, 1458, 149, 1745, 1746, 1750, 1749, 1751, 1752, 931, 1357, 1757, 345, 1453, 1759, 1760, 1761, 408, 1586, 1764, 1766, 1768, 1189, 1771, 1781, 1780, 1131, 307, 872, 1793, 1755, 1528, 1693, 1790, 1765, 1762, 1726, 1719, 875, 1721, 1696, 1744, 1735, 84, 1767, 1260, 1732, 1653, 1695, 1730, 1733, 1788, 1775, 1714, 1778, 1720, 1782, 1724, 1701, 1783, 1791, 235, 1712, 527, 1731, 1722, 1702, 1703, 1772, 1786, 12, 1594, 992, 1792, 1774, 1773, 1776, 1794, 831, 1038, 1277, 1279, 1280, 1281, 1278, 318, 1784, 33, 1789, 1797, 1159, 1592, 1718, 1711, 1770, 1796, 1799, 1795, 929, 1706, 1805, 1806, 1800, 1802, 44, 1798, 1255, 1251, 1801, 1748, 1637, 500, 490, 178, 1284, 1503, 623, 299, 1808, 1807, 1441, 1812, 1310, 761, 1436, 227, 1758, 1824, 1850, 1846, 1827, 1777, 1828, 1829, 1832, 1844, 1845, 1847, 1848, 1849, 1851, 1853, 578, 1833, 32, 1854, 1826, 247, 1855, 1856, 1857, 1858, 1859, 1860, 1861, 1862, 1863, 1864, 1866, 1865, 592, 1867, 1868, 426, 1488, 1763, 739, 1869, 1870, 601, 1823, 1700, 1872, 1874, 1873, 1876, 1875, 1877]\n"
     ]
    }
   ],
   "source": [
    "print(lista_props)"
   ]
  },
  {
   "cell_type": "code",
   "execution_count": 22,
   "id": "088d3ce0-c07e-4081-a491-bd51d3bf4a79",
   "metadata": {},
   "outputs": [],
   "source": [
    "#lista_props = [682, 706, 707, 729, 708, 709, 710, 693, 692, 679, 678, 704, 702, 703, 127, 683, 694, 698, 696, 677, 697, 695, 699, 449, 700, 687, 725, 726, 891, 834, 833, 771, 839, 838, 802, 863, 953, 925, 690, 685, 681, 5, 916, 889, 890, 892, 753, 724, 723, 1005, 1006, 747, 746, 745, 1016, 728, 887, 764, 765, 763, 762, 1049, 715, 714, 772, 1050, 1051, 1052, 1053, 744, 936, 835, 855, 228, 886, 742, 1054, 734, 755, 754, 776, 46, 757, 775, 774, 720, 722, 721, 719, 718, 717, 139, 147, 733, 732, 1819, 750, 877, 617, 741, 1482, 1485, 1481, 1480, 1483, 1486, 1484, 591, 216, 55, 217, 256, 219, 218, 205, 752, 187, 26, 910, 909, 1089, 830, 779, 780, 350, 766, 859, 894, 852, 1097, 848, 849, 971, 853, 840, 843, 842, 846, 845, 844, 782, 904, 275, 854, 630, 631, 778, 613, 141, 142, 767, 1099, 773, 1461, 1551, 803, 954, 386, 384, 861, 932, 952, 951, 950, 770, 769, 768, 864, 930, 862, 810, 811, 445, 812, 804, 805, 807, 806, 814, 827, 860, 816, 815, 813, 809, 817, 866, 11, 263, 865, 348, 898, 896, 969, 913, 132, 1139, 716, 897, 900, 901, 899, 478, 414, 868, 871, 869, 878, 873, 874, 799, 800, 273, 758, 759, 289, 133, 783, 784, 365, 785, 629, 201, 777, 258, 522, 902, 888, 893, 924, 923, 912, 788, 796, 789, 790, 794, 792, 793, 879, 787, 832, 921, 989, 920, 988, 915, 883, 994, 882, 880, 944, 1022, 1094, 93, 135, 355, 1220, 1252, 928, 922, 24, 935, 927, 918, 473, 472, 942, 937, 938, 939, 9, 947, 1411, 970, 1242, 400, 22, 419, 415, 964, 963, 966, 956, 957, 958, 968, 399, 962, 1015, 985, 986, 984, 980, 973, 176, 976, 975, 974, 979, 982, 981, 993, 991, 416, 418, 417, 961, 1033, 1024, 1025, 1034, 1036, 1035, 1028, 1026, 1009, 1013, 1086, 1085, 1007, 1011, 1008, 1010, 233, 1018, 1020, 1023, 1095, 1057, 1047, 1046, 1066, 168, 1072, 1073, 1074, 1075, 377, 378, 1076, 1077, 1079, 1078, 1080, 1083, 1084, 1087, 1042, 1045, 1092, 1039, 1093, 1041, 1043, 1040, 264, 238, 705, 1122, 1123, 1124, 1126, 1121, 1118, 1125, 1120, 1116, 1117, 1115, 1113, 1114, 1119, 1146, 1130, 1132, 1128, 1142, 1145, 1140, 1149, 1151, 1156, 1157, 1154, 1158, 43, 1160, 1163, 1161, 1162, 541, 396, 395, 1173, 1182, 1180, 1183, 1184, 1177, 1181, 1178, 1176, 1179, 1185, 1171, 1165, 1168, 1186, 990, 1216, 1193, 1197, 1208, 1207, 1204, 1206, 1200, 1203, 1205, 1195, 1211, 1199, 1194, 1212, 1201, 156, 36, 1214, 1198, 1227, 1234, 1226, 1247, 1249, 1248, 1233, 1241, 1240, 1228, 1229, 1231, 1232, 1237, 1243, 1244, 1219, 1221, 1222, 903, 1292, 1294, 1274, 1291, 1287, 1290, 1283, 1286, 1285, 1264, 1267, 1266, 1265, 1268, 1282, 1262, 1254, 1258, 1263, 1259, 1257, 1256, 943, 54, 286, 287, 198, 279, 1313, 1314, 1306, 1307, 1308, 1311, 1305, 1302, 1309, 1303, 1304, 450, 444, 1299, 1301, 63, 1350, 1349, 62, 556, 1335, 8, 340, 1688, 250, 1170, 189, 466, 568, 567, 1321, 23, 47, 50, 324, 376, 559, 558, 510, 278, 1210, 1374, 1373, 1372, 1380, 1384, 1376, 1377, 1378, 1381, 1368, 1379, 1385, 1371, 1370, 1386, 1375, 1382, 1389, 1394, 1352, 1356, 1351, 1346, 1344, 1347, 1342, 1354, 1364, 1365, 1366, 1362, 1343, 361, 1359, 1358, 1324, 1326, 1327, 1330, 1333, 1338, 1339, 1340, 1341, 1332, 1322, 1337, 1336, 1331, 1100, 1397, 442, 1408, 435, 434, 1404, 1399, 1409, 1406, 1403, 1407, 1405, 1402, 1401, 1413, 1412, 1420, 1419, 1418, 1416, 1417, 616, 539, 1238, 781, 1422, 575, 1425, 1421, 674, 1430, 1433, 1438, 328, 1451, 1426, 1424, 668, 360, 1452, 249, 547, 669, 1443, 1450, 1459, 185, 1456, 1473, 1472, 1475, 1474, 1489, 1476, 326, 1478, 1494, 1495, 424, 1498, 1499, 246, 1492, 1491, 405, 596, 597, 598, 1021, 1111, 1502, 1511, 115, 197, 1269, 1367, 1388, 1393, 1431, 1432, 1440, 1446, 1457, 1464, 1465, 1469, 1470, 1497, 1505, 30, 1513, 1518, 1520, 211, 1392, 1537, 1536, 1526, 1573, 1545, 155, 1579, 76, 244, 1516, 1544, 1546, 1530, 945, 1548, 1562, 1567, 1566, 1512, 1568, 1554, 1447, 1556, 1557, 1558, 1561, 1550, 1539, 1563, 1564, 570, 1088, 1569, 633, 1190, 1570, 1538, 908, 1522, 1523, 691, 1559, 1524, 1549, 1525, 1540, 1541, 1553, 1578, 1547, 1552, 492, 1487, 1414, 525, 1225, 1815, 620, 1542, 1323, 1467, 1818, 749, 1820, 136, 934, 411, 1585, 42, 476, 1587, 1275, 1588, 230, 39, 72, 519, 1235, 867, 1598, 1597, 1596, 1600, 1601, 1593, 1602, 801, 1580, 1609, 1610, 184, 1490, 150, 1614, 1611, 1613, 140, 1353, 343, 836, 1617, 1616, 1620, 1621, 1622, 1623, 495, 391, 1627, 1626, 1625, 1624, 1630, 1629, 1628, 536, 1619, 406, 1633, 1639, 534, 1640, 1644, 1643, 15, 1651, 1652, 1656, 1658, 1655, 179, 1660, 1661, 1663, 730, 1671, 1673, 1677, 1676, 1675, 1674, 375, 1682, 1683, 229, 1684, 260, 1685, 105, 128, 188, 103, 261, 870, 1460, 1091, 1325, 1607, 1355, 1672, 1535, 1649, 1345, 1638, 1605, 3, 1668, 756, 1635, 1648, 603, 621, 1645, 10, 1631, 57, 1665, 1250, 1659, 1662, 1606, 1669, 83, 1667, 1014, 1213, 1670, 1646, 1642, 159, 1687, 1686, 1641, 1612, 825, 1690, 331, 1153, 49, 1608, 1510, 206, 234, 186, 66, 38, 2, 1694, 113, 369, 941, 791, 31, 67, 68, 1509, 146, 109, 162, 164, 926, 111, 61, 1710, 1697, 114, 1699, 21, 1817, 1816, 265, 174, 222, 949, 624, 1708, 1709, 1716, 1215, 332, 1574, 1315, 295, 1736, 1738, 1737, 851, 907, 1739, 737, 1741, 1740, 1742, 1743, 1166, 1458, 149, 1745, 1746, 1750, 1749, 1751, 1752, 931, 1357, 1757, 345, 1453, 1759, 1760, 1761, 408, 1586, 1764, 1766, 1768, 1189, 1771, 1781, 1780, 1131, 307, 872, 1793, 1755, 1528, 1693, 1790, 1765, 1762, 1726, 1719, 875, 1721, 1696, 1744, 1735, 84, 1767, 1260, 1732, 1653, 1695, 1730, 1733, 1788, 1775, 1714, 1778, 1720, 1782, 1724, 1701, 1783, 1791, 235, 1712, 527, 1731, 1722, 1702, 1703, 1772, 1786, 12, 1594, 992, 1792, 1774, 1773, 1776, 1794, 831, 1038, 1277, 1279, 1280, 1281, 1278, 318, 1784, 33, 1789, 1797, 1159, 1592, 1718, 1711, 1770, 1796, 1799, 1795, 929, 1706, 1805, 1806, 1800, 1802, 44, 1798, 1255, 1251, 1801, 1748, 1637, 500, 490, 178, 1284, 1503, 623, 299, 1808, 1807, 1441, 1812, 1310, 761, 1436, 227, 1758, 1824, 1850, 1846, 1827, 1777, 1828, 1829, 1832, 1844, 1845, 1847, 1848, 1849, 1851, 1853, 578, 1833, 32, 1854, 1826, 247, 1855, 1856, 1857, 1858, 1859, 1860, 1861, 1862, 1863, 1864, 1866, 1865, 592, 1867, 1868, 426, 1488, 1763, 739, 1869, 1870, 601, 1823, 1700, 1872, 1874, 1873, 1876, 1875, 1877]\n",
    "\n",
    "\n",
    "\n",
    "\n",
    "lista_props = [225, 20, 92, 249, 1454, 1482, 1480, 1483, 910, 915, 114, 592, 1924, 1922, 1926, 1928, 1929, 1927, 1925]"
   ]
  },
  {
   "cell_type": "code",
   "execution_count": 23,
   "id": "2888f91a-f066-43ff-a20d-3cc1815a5fd9",
   "metadata": {},
   "outputs": [
    {
     "data": {
      "text/plain": [
       "19"
      ]
     },
     "execution_count": 23,
     "metadata": {},
     "output_type": "execute_result"
    }
   ],
   "source": [
    "len(lista_props)"
   ]
  },
  {
   "cell_type": "code",
   "execution_count": 7,
   "id": "26603a74-e6a3-4b5d-a0a5-6b105f48239e",
   "metadata": {},
   "outputs": [],
   "source": [
    "df_intersects = gpd.read_file('INTERSECT_2.shp')"
   ]
  },
  {
   "cell_type": "code",
   "execution_count": 24,
   "id": "9e88cad8-67cc-4471-8af2-4680ab2daa65",
   "metadata": {},
   "outputs": [
    {
     "name": "stdout",
     "output_type": "stream",
     "text": [
      "inicio: 225\n",
      "fin:  225\n",
      "___________________CONTADOR:  1\n",
      "inicio: 20\n",
      "fin:  20\n",
      "___________________CONTADOR:  2\n",
      "inicio: 92\n",
      "fin:  92\n",
      "___________________CONTADOR:  3\n",
      "inicio: 249\n",
      "fin:  249\n",
      "___________________CONTADOR:  4\n",
      "inicio: 1454\n",
      "fin:  1454\n",
      "___________________CONTADOR:  5\n",
      "inicio: 1482\n",
      "fin:  1482\n",
      "___________________CONTADOR:  6\n",
      "inicio: 1480\n",
      "fin:  1480\n",
      "___________________CONTADOR:  7\n",
      "inicio: 1483\n",
      "fin:  1483\n",
      "___________________CONTADOR:  8\n",
      "inicio: 910\n",
      "fin:  910\n",
      "___________________CONTADOR:  9\n",
      "inicio: 915\n",
      "fin:  915\n",
      "___________________CONTADOR:  10\n",
      "inicio: 114\n",
      "fin:  114\n",
      "___________________CONTADOR:  11\n",
      "inicio: 592\n",
      "fin:  592\n",
      "___________________CONTADOR:  12\n",
      "inicio: 1924\n",
      "fin:  1924\n",
      "___________________CONTADOR:  13\n",
      "inicio: 1922\n",
      "fin:  1922\n",
      "___________________CONTADOR:  14\n",
      "inicio: 1926\n",
      "fin:  1926\n",
      "___________________CONTADOR:  15\n",
      "inicio: 1928\n",
      "fin:  1928\n",
      "___________________CONTADOR:  16\n",
      "inicio: 1929\n",
      "fin:  1929\n",
      "___________________CONTADOR:  17\n",
      "inicio: 1927\n",
      "fin:  1927\n",
      "___________________CONTADOR:  18\n",
      "inicio: 1925\n",
      "fin:  1925\n",
      "___________________CONTADOR:  19\n",
      "FIN......!\n"
     ]
    }
   ],
   "source": [
    "contador = 0\n",
    "for cod_prop in lista_props:\n",
    "    print('inicio:', cod_prop)\n",
    "    propiedad = ee.FeatureCollection(ruta_catastro)\\\n",
    "                .filter(ee.Filter.eq(CODIGO_PROPIEDAD, cod_prop))\n",
    "    lotes_canha = propiedad.filter(ee.Filter.neq(VARIEDAD, ESTADO))\n",
    "    lotes_renov = propiedad.filter(ee.Filter.eq(VARIEDAD, ESTADO))\n",
    "    NDVI = ee.Image(ruta_ndvi)\n",
    "    NDVI_clip = NDVI.clip(lotes_canha.geometry())\n",
    "    # crea un sample de los valore de pixel del NDVI\n",
    "    NDVI_values = NDVI_clip.sampleRegions(lotes_canha.geometry())\n",
    "    # reduce el resultado a valores de NDVI\n",
    "    pixel_values = NDVI_values.reduceColumns(ee.Reducer.toList(),['b1']).get('list').getInfo()\n",
    "    # aplica metodo Jenks\n",
    "    breaks = jenkspy.jenks_breaks(pixel_values, n_classes=8)\n",
    "    NDVI_class = ee.Image(-1).where(NDVI.lt(breaks[1]),1)\\\n",
    "                        .where(NDVI.gte(breaks[1]),2)\\\n",
    "                        .where(NDVI.gte(breaks[2]),3)\\\n",
    "                        .where(NDVI.gte(breaks[3]),4)\\\n",
    "                        .where(NDVI.gte(breaks[4]),5)\\\n",
    "                        .where(NDVI.gte(breaks[5]),6)\\\n",
    "                        .where(NDVI.gte(breaks[6]),7)\\\n",
    "                        .where(NDVI.gte(breaks[7]),8)\n",
    "    NDVI_class_clip = NDVI_class.clip(lotes_canha.geometry())\n",
    "    clasify = NDVI_class_clip.reproject(crs=\"EPSG:32720\", scale=10)\n",
    "    vector = clasify.reduceToVectors(**{\n",
    "        'geometry': lotes_canha.geometry(),\n",
    "        'crs': clasify.projection(),\n",
    "        'scale': 10,\n",
    "        'geometryType': 'polygon',\n",
    "        'eightConnected': False\n",
    "    })\n",
    "    \n",
    "    DF_VECTOR = vector\n",
    "    \n",
    "    lotes_local = geemap.ee_to_geopandas(lotes_canha)\n",
    "    \n",
    "    lista = vector.toList(vector.size()).getInfo()\n",
    "    lista_vector=[]\n",
    "    for item in lista:\n",
    "        dic = {'geometry':Polygon(item['geometry']['coordinates'][0]), 'count':item['properties']['count'], 'label':item['properties']['label']}\n",
    "        lista_vector.append(dic)\n",
    "    \n",
    "    vector_local = gpd.GeoDataFrame(lista_vector)\n",
    "    \n",
    "    intersect = overlay(lotes_local, vector_local, how=\"intersection\")\n",
    "    intersect.crs = \"EPSG:4326\"\n",
    "    intersect = intersect.to_crs(epsg=32720)\n",
    "    intersect['area_2'] = intersect['geometry'].area/10000\n",
    "    \n",
    "    area_01 = intersect['area_2'].sum()\n",
    "    area_02 = lotes_local[SUPERFICIE].sum()\n",
    "    area_diff = (area_02 - area_01)/len(intersect)\n",
    "    intersect['area_2'] = intersect['area_2'] + area_diff\n",
    "    \n",
    "    DF = intersect.copy()\n",
    "    dina = pd.pivot_table(DF, values='area_2', index=[CODIGO_PROPIEDAD, NOM_PROPIEDAD, CODIGO_CANHERO, NOM_CANHERO, 'label'], aggfunc=np.sum)\n",
    "    dina2 = dina.reset_index()\n",
    "    \n",
    "    dina2['tch'] = dina2['label'].apply(asig_cat)\n",
    "    \n",
    "    # Cargar el archivo de Excel existente\n",
    "    wb = openpyxl.load_workbook('DATA_EST.xlsx')\n",
    "    # Seleccionar la hoja de trabajo\n",
    "    ws = wb['data']\n",
    "    \n",
    "    for i in range(0, len(dina2)):\n",
    "        new_row = [dina2.iloc[i,0], dina2.iloc[i,1], dina2.iloc[i,2], dina2.iloc[i,3], dina2.iloc[i,4], dina2.iloc[i,5], dina2.iloc[i,6]]\n",
    "        ws.append(new_row)\n",
    "    wb.save('DATA_EST.xlsx')\n",
    "    \n",
    "    df_intersects = pd.concat([df_intersects, DF], ignore_index=True)\n",
    "    \n",
    "    contador = contador + 1 \n",
    "    print('fin: ', cod_prop)\n",
    "    print('___________________CONTADOR: ', contador)\n",
    "    \n",
    "print('FIN......!')"
   ]
  },
  {
   "cell_type": "code",
   "execution_count": null,
   "id": "bb99502a-58b7-4109-a413-f4ed99939c86",
   "metadata": {},
   "outputs": [],
   "source": []
  },
  {
   "cell_type": "code",
   "execution_count": null,
   "id": "57abe850-d965-4772-a8c0-7e61d2e1b36f",
   "metadata": {},
   "outputs": [],
   "source": []
  },
  {
   "cell_type": "code",
   "execution_count": null,
   "id": "f4cbfa63-5aef-471f-8be3-295a3631b10e",
   "metadata": {},
   "outputs": [],
   "source": []
  },
  {
   "cell_type": "code",
   "execution_count": 25,
   "id": "c9040edd-6d0e-408e-ad64-146e3ee65856",
   "metadata": {},
   "outputs": [
    {
     "data": {
      "text/plain": [
       "982207"
      ]
     },
     "execution_count": 25,
     "metadata": {},
     "output_type": "execute_result"
    }
   ],
   "source": [
    "len(df_intersects)"
   ]
  },
  {
   "cell_type": "code",
   "execution_count": 26,
   "id": "b3c7b8ea-a343-4079-b902-9facb872dfc4",
   "metadata": {},
   "outputs": [],
   "source": [
    "df_intersects.to_file(\"INTERSECT.shp\", driver=\"ESRI Shapefile\")"
   ]
  },
  {
   "cell_type": "code",
   "execution_count": 27,
   "id": "e2ac85fd-ef61-4cbc-97a2-3539526758fc",
   "metadata": {},
   "outputs": [
    {
     "data": {
      "text/plain": [
       "53617.18337278369"
      ]
     },
     "execution_count": 27,
     "metadata": {},
     "output_type": "execute_result"
    }
   ],
   "source": [
    "df_intersects['area_2'].sum()"
   ]
  },
  {
   "cell_type": "code",
   "execution_count": 337,
   "id": "9eaa130b-8050-47a1-b8ab-e6477de20321",
   "metadata": {},
   "outputs": [],
   "source": []
  },
  {
   "cell_type": "code",
   "execution_count": 338,
   "id": "2887bb9e-180d-4e30-acbb-d9f0281ed14b",
   "metadata": {},
   "outputs": [],
   "source": []
  },
  {
   "cell_type": "code",
   "execution_count": 339,
   "id": "e01c2bb2-3aa2-47ed-a1ad-1ed8e94555a2",
   "metadata": {},
   "outputs": [],
   "source": []
  },
  {
   "cell_type": "code",
   "execution_count": null,
   "id": "a628b226-1ff6-4423-821f-48a4473fca21",
   "metadata": {},
   "outputs": [],
   "source": []
  },
  {
   "cell_type": "code",
   "execution_count": null,
   "id": "a2aa7bd9-93e4-49c9-95aa-f789ea99a3d0",
   "metadata": {},
   "outputs": [],
   "source": []
  },
  {
   "cell_type": "code",
   "execution_count": null,
   "id": "9747a856-d0a1-41fa-9ef7-8edf8a612092",
   "metadata": {},
   "outputs": [],
   "source": []
  },
  {
   "cell_type": "code",
   "execution_count": null,
   "id": "23a4c69d-37a1-4d7d-a1a8-1aa8e2aac30d",
   "metadata": {},
   "outputs": [],
   "source": []
  },
  {
   "cell_type": "code",
   "execution_count": null,
   "id": "be51634b-863c-4f46-b90b-ae4e5e2235cd",
   "metadata": {},
   "outputs": [],
   "source": []
  },
  {
   "cell_type": "code",
   "execution_count": null,
   "id": "dbd2a2c0-a2ab-490e-9610-550c39c45b48",
   "metadata": {},
   "outputs": [],
   "source": []
  },
  {
   "cell_type": "code",
   "execution_count": 32,
   "id": "26314234-036a-4921-9ff5-3d115bac523a",
   "metadata": {},
   "outputs": [],
   "source": [
    "Map = geemap.Map(basemap=\"SATELLITE\")"
   ]
  },
  {
   "cell_type": "code",
   "execution_count": 92,
   "id": "843eb122-cc01-412d-a770-3328c6a5c349",
   "metadata": {},
   "outputs": [],
   "source": [
    "Map.centerObject(propiedad.geometry(), 14)\n",
    "Map.addLayer(lotes_canha.style(**vis_params_caña), {}, 'Lotes Caña')\n",
    "Map.addLayer(lotes_renov.style(**vis_params_renov), {}, 'Lotes Renovación')"
   ]
  },
  {
   "cell_type": "code",
   "execution_count": 33,
   "id": "d58324ff-640d-41fb-99da-1ecd86703a81",
   "metadata": {},
   "outputs": [],
   "source": [
    "Map.centerObject(propiedad.geometry(), 14)\n",
    "Map.addLayer(lotes_canha.style(**vis_params_caña), {}, 'Lotes Caña')\n",
    "Map.addLayer(lotes_renov.style(**vis_params_renov), {}, 'Lotes Renovación')"
   ]
  },
  {
   "cell_type": "code",
   "execution_count": 34,
   "id": "62abeaf7-9f08-4de4-bd37-b1d5692ab7be",
   "metadata": {},
   "outputs": [
    {
     "data": {
      "application/vnd.jupyter.widget-view+json": {
       "model_id": "692be591d6504803bada84909cbc8fb9",
       "version_major": 2,
       "version_minor": 0
      },
      "text/plain": [
       "Map(center=[-17.240370201942387, -63.1623575923626], controls=(WidgetControl(options=['position', 'transparent…"
      ]
     },
     "execution_count": 34,
     "metadata": {},
     "output_type": "execute_result"
    }
   ],
   "source": [
    "Map"
   ]
  },
  {
   "cell_type": "code",
   "execution_count": null,
   "id": "153f12bf-09bc-4df6-b7e3-8758ae48a81e",
   "metadata": {},
   "outputs": [],
   "source": []
  },
  {
   "cell_type": "code",
   "execution_count": null,
   "id": "c1a1d334-36a9-4b86-9885-438f0ba1f875",
   "metadata": {},
   "outputs": [],
   "source": []
  },
  {
   "cell_type": "code",
   "execution_count": 28,
   "id": "dfa43f1d-1a49-42ad-b399-3d616361778d",
   "metadata": {},
   "outputs": [],
   "source": []
  },
  {
   "cell_type": "code",
   "execution_count": 124,
   "id": "2bdbc5d4-c7d1-4da8-9575-474841e30adf",
   "metadata": {},
   "outputs": [],
   "source": [
    "categoria = ['Nulo','Muy Bajo','Bajo Medio','Bajo','Medio','Medio Alto','Alto','Muy Alto']\n",
    "colores = ['','','','','','','','']"
   ]
  },
  {
   "cell_type": "code",
   "execution_count": null,
   "id": "3d2d31ed-b6f4-46bc-bb75-7319d2c3ffaa",
   "metadata": {},
   "outputs": [],
   "source": []
  },
  {
   "cell_type": "code",
   "execution_count": null,
   "id": "d7ee171b-e6d0-4ecb-941d-95d0d11163ab",
   "metadata": {},
   "outputs": [],
   "source": []
  }
 ],
 "metadata": {
  "kernelspec": {
   "display_name": "Python 3 (ipykernel)",
   "language": "python",
   "name": "python3"
  },
  "language_info": {
   "codemirror_mode": {
    "name": "ipython",
    "version": 3
   },
   "file_extension": ".py",
   "mimetype": "text/x-python",
   "name": "python",
   "nbconvert_exporter": "python",
   "pygments_lexer": "ipython3",
   "version": "3.7.13"
  }
 },
 "nbformat": 4,
 "nbformat_minor": 5
}
