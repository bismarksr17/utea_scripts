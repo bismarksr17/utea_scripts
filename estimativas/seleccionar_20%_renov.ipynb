{
 "cells": [
  {
   "cell_type": "code",
   "execution_count": 33,
   "id": "7ad30587-b4d5-4e8f-883d-0e7c3b3fe9ea",
   "metadata": {},
   "outputs": [],
   "source": [
    "import pandas as pd"
   ]
  },
  {
   "cell_type": "code",
   "execution_count": 34,
   "id": "1a868373-4bac-4d30-9308-838df83d472f",
   "metadata": {},
   "outputs": [],
   "source": [
    "# Cargar el archivo Excel\n",
    "file_path = r'C:\\Documents\\Ingenio Azucarero Guabira S.A\\UTEA - SEMANAL - AVANCE COSECHA\\2024\\ESTIMATIVAS\\MAP_09/TCH_LOTES.xlsx'\n",
    "excel_data = pd.read_excel(file_path)"
   ]
  },
  {
   "cell_type": "code",
   "execution_count": 35,
   "id": "dec3bda4-bf85-478d-b8ef-610329285174",
   "metadata": {},
   "outputs": [
    {
     "data": {
      "text/html": [
       "<div>\n",
       "<style scoped>\n",
       "    .dataframe tbody tr th:only-of-type {\n",
       "        vertical-align: middle;\n",
       "    }\n",
       "\n",
       "    .dataframe tbody tr th {\n",
       "        vertical-align: top;\n",
       "    }\n",
       "\n",
       "    .dataframe thead th {\n",
       "        text-align: right;\n",
       "    }\n",
       "</style>\n",
       "<table border=\"1\" class=\"dataframe\">\n",
       "  <thead>\n",
       "    <tr style=\"text-align: right;\">\n",
       "      <th></th>\n",
       "      <th>COD_PROP</th>\n",
       "      <th>LOTE</th>\n",
       "      <th>AREA</th>\n",
       "      <th>PRODUCCION</th>\n",
       "      <th>TCH</th>\n",
       "    </tr>\n",
       "  </thead>\n",
       "  <tbody>\n",
       "    <tr>\n",
       "      <th>0</th>\n",
       "      <td>1.0</td>\n",
       "      <td>L6.1</td>\n",
       "      <td>2.050890</td>\n",
       "      <td>43.792398</td>\n",
       "      <td>21.352874</td>\n",
       "    </tr>\n",
       "    <tr>\n",
       "      <th>1</th>\n",
       "      <td>1.0</td>\n",
       "      <td>L6.2.2</td>\n",
       "      <td>1.667305</td>\n",
       "      <td>44.448415</td>\n",
       "      <td>26.658843</td>\n",
       "    </tr>\n",
       "    <tr>\n",
       "      <th>2</th>\n",
       "      <td>1.0</td>\n",
       "      <td>L10.2</td>\n",
       "      <td>7.785216</td>\n",
       "      <td>260.995130</td>\n",
       "      <td>33.524456</td>\n",
       "    </tr>\n",
       "    <tr>\n",
       "      <th>3</th>\n",
       "      <td>1.0</td>\n",
       "      <td>L8.3</td>\n",
       "      <td>2.026930</td>\n",
       "      <td>76.401598</td>\n",
       "      <td>37.693267</td>\n",
       "    </tr>\n",
       "    <tr>\n",
       "      <th>4</th>\n",
       "      <td>1.0</td>\n",
       "      <td>L6.2.1</td>\n",
       "      <td>6.366561</td>\n",
       "      <td>307.135827</td>\n",
       "      <td>48.242029</td>\n",
       "    </tr>\n",
       "  </tbody>\n",
       "</table>\n",
       "</div>"
      ],
      "text/plain": [
       "   COD_PROP    LOTE      AREA  PRODUCCION        TCH\n",
       "0       1.0    L6.1  2.050890   43.792398  21.352874\n",
       "1       1.0  L6.2.2  1.667305   44.448415  26.658843\n",
       "2       1.0   L10.2  7.785216  260.995130  33.524456\n",
       "3       1.0    L8.3  2.026930   76.401598  37.693267\n",
       "4       1.0  L6.2.1  6.366561  307.135827  48.242029"
      ]
     },
     "execution_count": 35,
     "metadata": {},
     "output_type": "execute_result"
    }
   ],
   "source": [
    "# Mostrar las primeras filas del archivo para revisión\n",
    "excel_data.head()"
   ]
  },
  {
   "cell_type": "code",
   "execution_count": 36,
   "id": "414f717a-6056-45f1-a7fc-771c91d9be89",
   "metadata": {},
   "outputs": [],
   "source": [
    "list_cods = list(set(excel_data['COD_PROP']))"
   ]
  },
  {
   "cell_type": "code",
   "execution_count": 30,
   "id": "743871b0-f38f-49c3-abc2-06d514b992da",
   "metadata": {},
   "outputs": [],
   "source": [
    "list_cods = [1, 30]"
   ]
  },
  {
   "cell_type": "code",
   "execution_count": 37,
   "id": "3eb225a8-c279-4fe4-a88a-5461cf478479",
   "metadata": {},
   "outputs": [],
   "source": [
    "df_destino = None\n",
    "for i in list_cods:\n",
    "    cod_prop = i\n",
    "    prop = excel_data[excel_data['COD_PROP']==cod_prop]\n",
    "    prop_sort_tch = prop.sort_values(by='TCH', ascending=True)\n",
    "    total_area = prop_sort_tch['AREA'].sum()\n",
    "    threshold = total_area * 0.2\n",
    "    # Inicializar variables para acumular el área y almacenar las filas seleccionadas\n",
    "    acum_area = 0\n",
    "    selected_rows = []\n",
    "\n",
    "    # Recorrer el dataframe y acumular el área hasta superar el umbral\n",
    "    for index, row in prop_sort_tch.iterrows():\n",
    "        acum_area += row['AREA']\n",
    "        selected_rows.append(row)\n",
    "        if acum_area > threshold:\n",
    "            break\n",
    "    # Crear un nuevo dataframe con las filas seleccionadas\n",
    "    result_df = pd.DataFrame(selected_rows)\n",
    "    df_destino = pd.concat([df_destino, result_df], ignore_index=True)"
   ]
  },
  {
   "cell_type": "code",
   "execution_count": 38,
   "id": "de1330b0-2929-484c-a59a-ac341daaf57f",
   "metadata": {},
   "outputs": [
    {
     "data": {
      "text/html": [
       "<div>\n",
       "<style scoped>\n",
       "    .dataframe tbody tr th:only-of-type {\n",
       "        vertical-align: middle;\n",
       "    }\n",
       "\n",
       "    .dataframe tbody tr th {\n",
       "        vertical-align: top;\n",
       "    }\n",
       "\n",
       "    .dataframe thead th {\n",
       "        text-align: right;\n",
       "    }\n",
       "</style>\n",
       "<table border=\"1\" class=\"dataframe\">\n",
       "  <thead>\n",
       "    <tr style=\"text-align: right;\">\n",
       "      <th></th>\n",
       "      <th>COD_PROP</th>\n",
       "      <th>LOTE</th>\n",
       "      <th>AREA</th>\n",
       "      <th>PRODUCCION</th>\n",
       "      <th>TCH</th>\n",
       "    </tr>\n",
       "  </thead>\n",
       "  <tbody>\n",
       "    <tr>\n",
       "      <th>0</th>\n",
       "      <td>1.0</td>\n",
       "      <td>L6.1</td>\n",
       "      <td>2.050890</td>\n",
       "      <td>43.792398</td>\n",
       "      <td>21.352874</td>\n",
       "    </tr>\n",
       "    <tr>\n",
       "      <th>1</th>\n",
       "      <td>1.0</td>\n",
       "      <td>L6.2.2</td>\n",
       "      <td>1.667305</td>\n",
       "      <td>44.448415</td>\n",
       "      <td>26.658843</td>\n",
       "    </tr>\n",
       "    <tr>\n",
       "      <th>2</th>\n",
       "      <td>1.0</td>\n",
       "      <td>L10.2</td>\n",
       "      <td>7.785216</td>\n",
       "      <td>260.995130</td>\n",
       "      <td>33.524456</td>\n",
       "    </tr>\n",
       "    <tr>\n",
       "      <th>3</th>\n",
       "      <td>1.0</td>\n",
       "      <td>L8.3</td>\n",
       "      <td>2.026930</td>\n",
       "      <td>76.401598</td>\n",
       "      <td>37.693267</td>\n",
       "    </tr>\n",
       "    <tr>\n",
       "      <th>4</th>\n",
       "      <td>1.0</td>\n",
       "      <td>L6.2.1</td>\n",
       "      <td>6.366561</td>\n",
       "      <td>307.135827</td>\n",
       "      <td>48.242029</td>\n",
       "    </tr>\n",
       "    <tr>\n",
       "      <th>...</th>\n",
       "      <td>...</td>\n",
       "      <td>...</td>\n",
       "      <td>...</td>\n",
       "      <td>...</td>\n",
       "      <td>...</td>\n",
       "    </tr>\n",
       "    <tr>\n",
       "      <th>3396</th>\n",
       "      <td>2174.0</td>\n",
       "      <td>L17.2</td>\n",
       "      <td>1.091489</td>\n",
       "      <td>49.337441</td>\n",
       "      <td>45.201975</td>\n",
       "    </tr>\n",
       "    <tr>\n",
       "      <th>3397</th>\n",
       "      <td>2174.0</td>\n",
       "      <td>L17.3</td>\n",
       "      <td>10.817984</td>\n",
       "      <td>490.716324</td>\n",
       "      <td>45.361162</td>\n",
       "    </tr>\n",
       "    <tr>\n",
       "      <th>3398</th>\n",
       "      <td>2175.0</td>\n",
       "      <td>L31</td>\n",
       "      <td>1.510210</td>\n",
       "      <td>30.764363</td>\n",
       "      <td>20.370913</td>\n",
       "    </tr>\n",
       "    <tr>\n",
       "      <th>3399</th>\n",
       "      <td>2175.0</td>\n",
       "      <td>L30.1</td>\n",
       "      <td>1.583273</td>\n",
       "      <td>57.232113</td>\n",
       "      <td>36.147966</td>\n",
       "    </tr>\n",
       "    <tr>\n",
       "      <th>3400</th>\n",
       "      <td>2175.0</td>\n",
       "      <td>L29.1</td>\n",
       "      <td>10.827786</td>\n",
       "      <td>442.500740</td>\n",
       "      <td>40.867148</td>\n",
       "    </tr>\n",
       "  </tbody>\n",
       "</table>\n",
       "<p>3401 rows × 5 columns</p>\n",
       "</div>"
      ],
      "text/plain": [
       "      COD_PROP    LOTE       AREA  PRODUCCION        TCH\n",
       "0          1.0    L6.1   2.050890   43.792398  21.352874\n",
       "1          1.0  L6.2.2   1.667305   44.448415  26.658843\n",
       "2          1.0   L10.2   7.785216  260.995130  33.524456\n",
       "3          1.0    L8.3   2.026930   76.401598  37.693267\n",
       "4          1.0  L6.2.1   6.366561  307.135827  48.242029\n",
       "...        ...     ...        ...         ...        ...\n",
       "3396    2174.0   L17.2   1.091489   49.337441  45.201975\n",
       "3397    2174.0   L17.3  10.817984  490.716324  45.361162\n",
       "3398    2175.0     L31   1.510210   30.764363  20.370913\n",
       "3399    2175.0   L30.1   1.583273   57.232113  36.147966\n",
       "3400    2175.0   L29.1  10.827786  442.500740  40.867148\n",
       "\n",
       "[3401 rows x 5 columns]"
      ]
     },
     "execution_count": 38,
     "metadata": {},
     "output_type": "execute_result"
    }
   ],
   "source": [
    "df_destino"
   ]
  },
  {
   "cell_type": "code",
   "execution_count": 40,
   "id": "8f8b7064-bea2-4e53-bd78-15811c3ac29c",
   "metadata": {},
   "outputs": [],
   "source": [
    "output_path = r'C:\\Documents\\Ingenio Azucarero Guabira S.A\\UTEA - SEMANAL - AVANCE COSECHA\\2024\\ESTIMATIVAS\\MAP_09/TCH_LOTES_20.xlsx'\n",
    "df_destino.to_excel(output_path, index=False)"
   ]
  },
  {
   "cell_type": "code",
   "execution_count": null,
   "id": "03082a14-1312-49b3-9f4f-1daba2ddf186",
   "metadata": {},
   "outputs": [],
   "source": []
  },
  {
   "cell_type": "code",
   "execution_count": null,
   "id": "f6df722d-e4d7-4acb-862a-54efefeeb248",
   "metadata": {},
   "outputs": [],
   "source": []
  },
  {
   "cell_type": "code",
   "execution_count": null,
   "id": "5eb757d8-fd49-4fcc-929e-9def415cd0df",
   "metadata": {},
   "outputs": [],
   "source": []
  },
  {
   "cell_type": "code",
   "execution_count": null,
   "id": "f4a6d2c2-8c32-45b6-8cc2-d7b6fea7b4d9",
   "metadata": {},
   "outputs": [],
   "source": []
  },
  {
   "cell_type": "code",
   "execution_count": null,
   "id": "62113490-cf0d-478d-9a20-2d1406feb1a7",
   "metadata": {},
   "outputs": [],
   "source": []
  },
  {
   "cell_type": "code",
   "execution_count": null,
   "id": "4b26aade-e3cc-4d15-8449-923cbd31da70",
   "metadata": {},
   "outputs": [],
   "source": []
  },
  {
   "cell_type": "code",
   "execution_count": null,
   "id": "e34d3a54-c820-4622-8fbd-bd66d80969b9",
   "metadata": {},
   "outputs": [],
   "source": []
  },
  {
   "cell_type": "code",
   "execution_count": 14,
   "id": "aa6be227-fa64-4fa7-a15f-de220fc02776",
   "metadata": {},
   "outputs": [
    {
     "data": {
      "text/plain": [
       "1"
      ]
     },
     "execution_count": 14,
     "metadata": {},
     "output_type": "execute_result"
    }
   ],
   "source": [
    "cod_prop = list_cods[0]\n",
    "cod_prop"
   ]
  },
  {
   "cell_type": "code",
   "execution_count": 16,
   "id": "9b395eb2-ec16-41eb-ab72-bea6cc8d96a2",
   "metadata": {},
   "outputs": [],
   "source": [
    "prop = excel_data[excel_data['COD_PROP']==cod_prop]"
   ]
  },
  {
   "cell_type": "code",
   "execution_count": 18,
   "id": "d73c3a1c-aa8c-4fe6-a9aa-58dd955f4e2e",
   "metadata": {},
   "outputs": [],
   "source": [
    "prop_sort_tch = prop.sort_values(by='TCH', ascending=True)"
   ]
  },
  {
   "cell_type": "code",
   "execution_count": 25,
   "id": "58229662-da85-420c-b5db-9507261ac3d1",
   "metadata": {},
   "outputs": [
    {
     "data": {
      "text/plain": [
       "123.93999999999993"
      ]
     },
     "execution_count": 25,
     "metadata": {},
     "output_type": "execute_result"
    }
   ],
   "source": [
    "total_area = prop_sort_tch['AREA'].sum()\n",
    "total_area"
   ]
  },
  {
   "cell_type": "code",
   "execution_count": 27,
   "id": "ad702f3a-1a8b-4f8a-9dd3-3b85ba387899",
   "metadata": {},
   "outputs": [
    {
     "data": {
      "text/plain": [
       "24.787999999999986"
      ]
     },
     "execution_count": 27,
     "metadata": {},
     "output_type": "execute_result"
    }
   ],
   "source": [
    "porcion = total_area * 0.2\n",
    "porcion"
   ]
  },
  {
   "cell_type": "code",
   "execution_count": 28,
   "id": "ee4d6c5b-8a0b-490d-abe2-6fda613573e5",
   "metadata": {},
   "outputs": [],
   "source": [
    "# Inicializar variables para acumular el área y almacenar las filas seleccionadas\n",
    "acum_area = 0\n",
    "threshold = 24.78\n",
    "selected_rows = []\n",
    "\n",
    "# Recorrer el dataframe y acumular el área hasta superar el umbral\n",
    "for index, row in prop_sort_tch.iterrows():\n",
    "    acum_area += row['AREA']\n",
    "    selected_rows.append(row)\n",
    "    if acum_area > threshold:\n",
    "        break\n",
    "\n",
    "# Crear un nuevo dataframe con las filas seleccionadas\n",
    "result_df = pd.DataFrame(selected_rows)"
   ]
  },
  {
   "cell_type": "code",
   "execution_count": 29,
   "id": "574ac302-d6b8-4a6f-aafa-962ef656f0bc",
   "metadata": {},
   "outputs": [
    {
     "data": {
      "text/html": [
       "<div>\n",
       "<style scoped>\n",
       "    .dataframe tbody tr th:only-of-type {\n",
       "        vertical-align: middle;\n",
       "    }\n",
       "\n",
       "    .dataframe tbody tr th {\n",
       "        vertical-align: top;\n",
       "    }\n",
       "\n",
       "    .dataframe thead th {\n",
       "        text-align: right;\n",
       "    }\n",
       "</style>\n",
       "<table border=\"1\" class=\"dataframe\">\n",
       "  <thead>\n",
       "    <tr style=\"text-align: right;\">\n",
       "      <th></th>\n",
       "      <th>COD_PROP</th>\n",
       "      <th>LOTE</th>\n",
       "      <th>AREA</th>\n",
       "      <th>PRODUCCION</th>\n",
       "      <th>TCH</th>\n",
       "    </tr>\n",
       "  </thead>\n",
       "  <tbody>\n",
       "    <tr>\n",
       "      <th>13</th>\n",
       "      <td>1</td>\n",
       "      <td>L6.1</td>\n",
       "      <td>2.050890</td>\n",
       "      <td>43.792398</td>\n",
       "      <td>21.352874</td>\n",
       "    </tr>\n",
       "    <tr>\n",
       "      <th>15</th>\n",
       "      <td>1</td>\n",
       "      <td>L6.2.2</td>\n",
       "      <td>1.667305</td>\n",
       "      <td>44.448415</td>\n",
       "      <td>26.658843</td>\n",
       "    </tr>\n",
       "    <tr>\n",
       "      <th>2</th>\n",
       "      <td>1</td>\n",
       "      <td>L10.2</td>\n",
       "      <td>7.785216</td>\n",
       "      <td>260.995130</td>\n",
       "      <td>33.524456</td>\n",
       "    </tr>\n",
       "    <tr>\n",
       "      <th>18</th>\n",
       "      <td>1</td>\n",
       "      <td>L8.3</td>\n",
       "      <td>2.026930</td>\n",
       "      <td>76.401598</td>\n",
       "      <td>37.693267</td>\n",
       "    </tr>\n",
       "    <tr>\n",
       "      <th>14</th>\n",
       "      <td>1</td>\n",
       "      <td>L6.2.1</td>\n",
       "      <td>6.366561</td>\n",
       "      <td>307.135827</td>\n",
       "      <td>48.242029</td>\n",
       "    </tr>\n",
       "    <tr>\n",
       "      <th>20</th>\n",
       "      <td>1</td>\n",
       "      <td>L9.2</td>\n",
       "      <td>11.044439</td>\n",
       "      <td>541.250454</td>\n",
       "      <td>49.006605</td>\n",
       "    </tr>\n",
       "  </tbody>\n",
       "</table>\n",
       "</div>"
      ],
      "text/plain": [
       "    COD_PROP    LOTE       AREA  PRODUCCION        TCH\n",
       "13         1    L6.1   2.050890   43.792398  21.352874\n",
       "15         1  L6.2.2   1.667305   44.448415  26.658843\n",
       "2          1   L10.2   7.785216  260.995130  33.524456\n",
       "18         1    L8.3   2.026930   76.401598  37.693267\n",
       "14         1  L6.2.1   6.366561  307.135827  48.242029\n",
       "20         1    L9.2  11.044439  541.250454  49.006605"
      ]
     },
     "execution_count": 29,
     "metadata": {},
     "output_type": "execute_result"
    }
   ],
   "source": [
    "result_df"
   ]
  },
  {
   "cell_type": "code",
   "execution_count": null,
   "id": "578fae85-5e1e-4ec2-bf55-4fa17bfb03a3",
   "metadata": {},
   "outputs": [],
   "source": [
    "# Supongamos que 'df_destino' es tu dataframe existente\n",
    "# Combinar ambos dataframes\n",
    "df_combined = pd.concat([df_destino, result_df], ignore_index=True)"
   ]
  },
  {
   "cell_type": "code",
   "execution_count": null,
   "id": "5dab4f69-bcfe-41d4-9e7d-bec1970f09e4",
   "metadata": {},
   "outputs": [],
   "source": []
  },
  {
   "cell_type": "code",
   "execution_count": null,
   "id": "0e4bfae2-dfd7-4a46-8266-d0e36164cc74",
   "metadata": {},
   "outputs": [],
   "source": []
  },
  {
   "cell_type": "code",
   "execution_count": null,
   "id": "5c878a0b-ae0d-4d23-9923-56bb663ff470",
   "metadata": {},
   "outputs": [],
   "source": []
  },
  {
   "cell_type": "code",
   "execution_count": null,
   "id": "76228a14-3dc1-4af1-b1c3-fa7be5f724af",
   "metadata": {},
   "outputs": [],
   "source": []
  },
  {
   "cell_type": "code",
   "execution_count": null,
   "id": "c051ffa5-b2c1-44dc-b409-11c2d6dcf408",
   "metadata": {},
   "outputs": [],
   "source": []
  },
  {
   "cell_type": "code",
   "execution_count": null,
   "id": "e5f599bb-339d-46fa-8eb7-45e280a63312",
   "metadata": {},
   "outputs": [],
   "source": []
  },
  {
   "cell_type": "code",
   "execution_count": null,
   "id": "ff44425e-6df1-4575-a1f3-fc90b9ff47da",
   "metadata": {},
   "outputs": [],
   "source": []
  }
 ],
 "metadata": {
  "kernelspec": {
   "display_name": "Python 3 (ipykernel)",
   "language": "python",
   "name": "python3"
  },
  "language_info": {
   "codemirror_mode": {
    "name": "ipython",
    "version": 3
   },
   "file_extension": ".py",
   "mimetype": "text/x-python",
   "name": "python",
   "nbconvert_exporter": "python",
   "pygments_lexer": "ipython3",
   "version": "3.10.13"
  }
 },
 "nbformat": 4,
 "nbformat_minor": 5
}
