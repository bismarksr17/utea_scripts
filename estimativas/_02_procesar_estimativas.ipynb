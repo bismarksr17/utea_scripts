{
 "cells": [
  {
   "cell_type": "markdown",
   "id": "f5800c67",
   "metadata": {},
   "source": [
    "ACTUALIZA LAS PROPIEDADES QUE TIENEN MIDIFICACIONES"
   ]
  },
  {
   "cell_type": "code",
   "execution_count": 1,
   "id": "950929f6-9a29-4dce-8c56-1a534f29d799",
   "metadata": {},
   "outputs": [
    {
     "ename": "NameError",
     "evalue": "name 'fef' is not defined",
     "output_type": "error",
     "traceback": [
      "\u001b[1;31m---------------------------------------------------------------------------\u001b[0m",
      "\u001b[1;31mNameError\u001b[0m                                 Traceback (most recent call last)",
      "Cell \u001b[1;32mIn[1], line 1\u001b[0m\n\u001b[1;32m----> 1\u001b[0m \u001b[43mfef\u001b[49m\n",
      "\u001b[1;31mNameError\u001b[0m: name 'fef' is not defined"
     ]
    }
   ],
   "source": [
    "fef"
   ]
  },
  {
   "cell_type": "code",
   "execution_count": 2,
   "id": "3abe3492",
   "metadata": {},
   "outputs": [
    {
     "data": {
      "text/plain": [
       "True"
      ]
     },
     "execution_count": 2,
     "metadata": {},
     "output_type": "execute_result"
    }
   ],
   "source": [
    "import ee\n",
    "ee.Authenticate()"
   ]
  },
  {
   "cell_type": "code",
   "execution_count": 3,
   "id": "48a414e6",
   "metadata": {},
   "outputs": [],
   "source": [
    "import ee\n",
    "import geemap\n",
    "# metodo de clasificacion\n",
    "import jenkspy\n",
    "\n",
    "import geopandas as gpd\n",
    "from geopandas.tools import overlay\n",
    "from shapely.geometry import Polygon\n",
    "\n",
    "import pandas as pd\n",
    "import numpy as np\n",
    "import ipywidgets as widgets\n",
    "\n",
    "import openpyxl"
   ]
  },
  {
   "cell_type": "code",
   "execution_count": 4,
   "id": "0aa7d43a",
   "metadata": {},
   "outputs": [
    {
     "data": {
      "text/html": [
       "\n",
       "            <style>\n",
       "                .geemap-dark {\n",
       "                    --jp-widgets-color: white;\n",
       "                    --jp-widgets-label-color: white;\n",
       "                    --jp-ui-font-color1: white;\n",
       "                    --jp-layout-color2: #454545;\n",
       "                    background-color: #383838;\n",
       "                }\n",
       "                    \n",
       "                .geemap-dark .jupyter-button {\n",
       "                    --jp-layout-color3: #383838;\n",
       "                }\n",
       "                \n",
       "                .geemap-colab {\n",
       "                    background-color: var(--colab-primary-surface-color, white);\n",
       "                }\n",
       "                    \n",
       "                .geemap-colab .jupyter-button {\n",
       "                    --jp-layout-color3: var(--colab-primary-surface-color, white);\n",
       "                }\n",
       "            </style>\n",
       "            "
      ],
      "text/plain": [
       "<IPython.core.display.HTML object>"
      ]
     },
     "metadata": {},
     "output_type": "display_data"
    }
   ],
   "source": [
    "ee.Initialize()"
   ]
  },
  {
   "cell_type": "code",
   "execution_count": 5,
   "id": "b7b3d2fe",
   "metadata": {},
   "outputs": [
    {
     "data": {
      "text/html": [
       "\n",
       "            <style>\n",
       "                .geemap-dark {\n",
       "                    --jp-widgets-color: white;\n",
       "                    --jp-widgets-label-color: white;\n",
       "                    --jp-ui-font-color1: white;\n",
       "                    --jp-layout-color2: #454545;\n",
       "                    background-color: #383838;\n",
       "                }\n",
       "                    \n",
       "                .geemap-dark .jupyter-button {\n",
       "                    --jp-layout-color3: #383838;\n",
       "                }\n",
       "                \n",
       "                .geemap-colab {\n",
       "                    background-color: var(--colab-primary-surface-color, white);\n",
       "                }\n",
       "                    \n",
       "                .geemap-colab .jupyter-button {\n",
       "                    --jp-layout-color3: var(--colab-primary-surface-color, white);\n",
       "                }\n",
       "            </style>\n",
       "            "
      ],
      "text/plain": [
       "<IPython.core.display.HTML object>"
      ]
     },
     "metadata": {},
     "output_type": "display_data"
    }
   ],
   "source": [
    "ruta_catastro='projects/ee-bismarksr17/assets/LOTES_CANHA_2025'\n",
    "ruta_ndvi = 'projects/ee-bismarksr17/assets/NDVI_02_2025'\n",
    "\n",
    "CODIGO_PROPIEDAD='unidad_01'\n",
    "NOM_PROPIEDAD='unidad_02'\n",
    "CODIGO_CANHERO='unidad_03'\n",
    "NOM_CANHERO='unidad_04'\n",
    "\n",
    "VARIEDAD='variedad'\n",
    "ESTADO='RENOVACION'\n",
    "SUPERFICIE='area'\n",
    "\n",
    "cods_error = []"
   ]
  },
  {
   "cell_type": "code",
   "execution_count": 6,
   "id": "29294061",
   "metadata": {},
   "outputs": [
    {
     "data": {
      "text/html": [
       "\n",
       "            <style>\n",
       "                .geemap-dark {\n",
       "                    --jp-widgets-color: white;\n",
       "                    --jp-widgets-label-color: white;\n",
       "                    --jp-ui-font-color1: white;\n",
       "                    --jp-layout-color2: #454545;\n",
       "                    background-color: #383838;\n",
       "                }\n",
       "                    \n",
       "                .geemap-dark .jupyter-button {\n",
       "                    --jp-layout-color3: #383838;\n",
       "                }\n",
       "                \n",
       "                .geemap-colab {\n",
       "                    background-color: var(--colab-primary-surface-color, white);\n",
       "                }\n",
       "                    \n",
       "                .geemap-colab .jupyter-button {\n",
       "                    --jp-layout-color3: var(--colab-primary-surface-color, white);\n",
       "                }\n",
       "            </style>\n",
       "            "
      ],
      "text/plain": [
       "<IPython.core.display.HTML object>"
      ]
     },
     "metadata": {},
     "output_type": "display_data"
    }
   ],
   "source": [
    "def asig_cat(label):\n",
    "    if label == 1:\n",
    "        return 0\n",
    "    else:\n",
    "        return label * 10\n",
    "\n",
    "vis_params_caña = {\n",
    "    'color': 'red', \n",
    "    'width': 2,\n",
    "    'lineType': 'solid',\n",
    "    'fillColor': '00000000',\n",
    "}\n",
    "\n",
    "# parametro de visualizacion LOTES RENOVACION\n",
    "vis_params_renov = {\n",
    "    'color': 'blue', \n",
    "    'width': 2,\n",
    "    'lineType': 'solid',\n",
    "    'fillColor': '00000000',\n",
    "}"
   ]
  },
  {
   "cell_type": "code",
   "execution_count": 7,
   "id": "f5134c08-4f41-4ae3-ad28-ba62dce082eb",
   "metadata": {},
   "outputs": [
    {
     "data": {
      "text/html": [
       "\n",
       "            <style>\n",
       "                .geemap-dark {\n",
       "                    --jp-widgets-color: white;\n",
       "                    --jp-widgets-label-color: white;\n",
       "                    --jp-ui-font-color1: white;\n",
       "                    --jp-layout-color2: #454545;\n",
       "                    background-color: #383838;\n",
       "                }\n",
       "                    \n",
       "                .geemap-dark .jupyter-button {\n",
       "                    --jp-layout-color3: #383838;\n",
       "                }\n",
       "                \n",
       "                .geemap-colab {\n",
       "                    background-color: var(--colab-primary-surface-color, white);\n",
       "                }\n",
       "                    \n",
       "                .geemap-colab .jupyter-button {\n",
       "                    --jp-layout-color3: var(--colab-primary-surface-color, white);\n",
       "                }\n",
       "            </style>\n",
       "            "
      ],
      "text/plain": [
       "<IPython.core.display.HTML object>"
      ]
     },
     "metadata": {},
     "output_type": "display_data"
    },
    {
     "name": "stdout",
     "output_type": "stream",
     "text": [
      "74\n",
      "[2177, 1410, 2185, 14, 1423, 658, 1173, 1174, 1175, 1944, 2073, 1953, 1442, 673, 2212, 1830, 1063, 1064, 1065, 1831, 1067, 1707, 172, 2086, 301, 302, 303, 304, 305, 308, 2101, 429, 1591, 2231, 1977, 818, 1723, 823, 824, 1604, 711, 459, 587, 589, 1615, 1871, 2000, 1106, 1618, 2129, 80, 342, 2008, 858, 1500, 1756, 2270, 1507, 1895, 1769, 2282, 2283, 108, 2156, 110, 2284, 368, 1521, 1650, 2163, 1654, 374, 1148, 1150]\n"
     ]
    }
   ],
   "source": [
    "# importa codigos de propiedades para descartar\n",
    "path_cat_descartar = r'G:\\Ingenio Azucarero Guabira S.A\\UTEA - SEMANAL - AVANCE COSECHA\\2025\\ESTIMATIVAS\\V06\\SHP\\LOTES_CANHA_2025_DESCARTAR.shp'\n",
    "gdf_cat_descartar = gpd.read_file(path_cat_descartar)\n",
    "lista_props_descartar = list(set(gdf_cat_descartar['unidad_01']))\n",
    "lista_props_descartar = [int(i) for i in lista_props_descartar]\n",
    "print(len(lista_props_descartar))\n",
    "print(lista_props_descartar)"
   ]
  },
  {
   "cell_type": "code",
   "execution_count": 8,
   "id": "40300e3e",
   "metadata": {},
   "outputs": [
    {
     "data": {
      "text/html": [
       "\n",
       "            <style>\n",
       "                .geemap-dark {\n",
       "                    --jp-widgets-color: white;\n",
       "                    --jp-widgets-label-color: white;\n",
       "                    --jp-ui-font-color1: white;\n",
       "                    --jp-layout-color2: #454545;\n",
       "                    background-color: #383838;\n",
       "                }\n",
       "                    \n",
       "                .geemap-dark .jupyter-button {\n",
       "                    --jp-layout-color3: #383838;\n",
       "                }\n",
       "                \n",
       "                .geemap-colab {\n",
       "                    background-color: var(--colab-primary-surface-color, white);\n",
       "                }\n",
       "                    \n",
       "                .geemap-colab .jupyter-button {\n",
       "                    --jp-layout-color3: var(--colab-primary-surface-color, white);\n",
       "                }\n",
       "            </style>\n",
       "            "
      ],
      "text/plain": [
       "<IPython.core.display.HTML object>"
      ]
     },
     "metadata": {},
     "output_type": "display_data"
    },
    {
     "data": {
      "text/plain": [
       "1641"
      ]
     },
     "execution_count": 8,
     "metadata": {},
     "output_type": "execute_result"
    }
   ],
   "source": [
    "# importa todos los codigos de propiedad\n",
    "path_cat = r'G:\\Ingenio Azucarero Guabira S.A\\UTEA - SEMANAL - AVANCE COSECHA\\2025\\ESTIMATIVAS\\V06\\SHP\\LOTES_CANHA_2025.shp'\n",
    "gdf_cat = gpd.read_file(path_cat)\n",
    "lista_props = list(set(gdf_cat['unidad_01']))\n",
    "len(lista_props)"
   ]
  },
  {
   "cell_type": "code",
   "execution_count": 9,
   "id": "5a64427e-9270-4dc1-9c38-32983e4c23b6",
   "metadata": {},
   "outputs": [
    {
     "data": {
      "text/html": [
       "\n",
       "            <style>\n",
       "                .geemap-dark {\n",
       "                    --jp-widgets-color: white;\n",
       "                    --jp-widgets-label-color: white;\n",
       "                    --jp-ui-font-color1: white;\n",
       "                    --jp-layout-color2: #454545;\n",
       "                    background-color: #383838;\n",
       "                }\n",
       "                    \n",
       "                .geemap-dark .jupyter-button {\n",
       "                    --jp-layout-color3: #383838;\n",
       "                }\n",
       "                \n",
       "                .geemap-colab {\n",
       "                    background-color: var(--colab-primary-surface-color, white);\n",
       "                }\n",
       "                    \n",
       "                .geemap-colab .jupyter-button {\n",
       "                    --jp-layout-color3: var(--colab-primary-surface-color, white);\n",
       "                }\n",
       "            </style>\n",
       "            "
      ],
      "text/plain": [
       "<IPython.core.display.HTML object>"
      ]
     },
     "metadata": {},
     "output_type": "display_data"
    },
    {
     "name": "stdout",
     "output_type": "stream",
     "text": [
      "[1, 2, 3, 4, 5, 6, 8, 9, 10, 11, 12, 13, 15, 16, 17, 18, 19, 20, 21, 23, 25, 26, 27, 28, 29, 30, 31, 32, 33, 36, 38, 39, 40, 42, 43, 44, 45, 46, 47, 48, 49, 50, 54, 55, 57, 61, 62, 63, 66, 67, 68, 71, 72, 74, 76, 78, 79, 83, 84, 85, 89, 92, 93, 94, 98, 100, 104, 105, 106, 111, 112, 113, 114, 116, 117, 118, 119, 122, 123, 124, 125, 126, 127, 129, 132, 133, 135, 136, 137, 139, 140, 141, 142, 145, 147, 149, 150, 155, 159, 161, 162, 164, 168, 171, 173, 174, 176, 178, 179, 182, 183, 184, 185, 186, 187, 188, 189, 195, 197, 198, 201, 205, 206, 209, 211, 212, 213, 216, 217, 218, 219, 220, 221, 222, 225, 226, 227, 228, 229, 230, 231, 233, 234, 235, 236, 237, 238, 239, 240, 241, 242, 244, 246, 247, 249, 250, 251, 253, 256, 257, 258, 259, 260, 261, 263, 264, 265, 267, 268, 270, 271, 272, 273, 274, 275, 276, 277, 278, 279, 280, 281, 282, 283, 284, 285, 286, 287, 288, 289, 290, 291, 292, 293, 294, 295, 298, 299, 300, 306, 307, 309, 310, 311, 313, 314, 320, 324, 325, 326, 327, 328, 329, 330, 331, 332, 333, 341, 343, 345, 348, 349, 350, 355, 357, 358, 359, 360, 361, 365, 367, 369, 370, 371, 375, 377, 378, 382, 384, 389, 391, 392, 395, 396, 398, 399, 400, 404, 405, 406, 407, 408, 411, 414, 415, 416, 417, 418, 419, 421, 424, 426, 434, 437, 439, 440, 441, 442, 445, 447, 449, 454, 458, 466, 468, 469, 471, 472, 476, 478, 480, 482, 483, 484, 485, 486, 487, 488, 489, 490, 491, 493, 494, 495, 496, 499, 500, 501, 503, 504, 505, 507, 509, 510, 511, 512, 513, 514, 515, 516, 517, 519, 522, 523, 525, 526, 527, 528, 529, 533, 534, 535, 536, 537, 538, 539, 540, 541, 542, 544, 545, 546, 547, 548, 550, 551, 552, 554, 555, 556, 557, 558, 559, 560, 565, 566, 567, 568, 570, 571, 572, 573, 574, 575, 576, 577, 578, 579, 580, 582, 583, 585, 586, 590, 591, 592, 593, 594, 597, 598, 600, 601, 602, 603, 604, 605, 606, 611, 612, 614, 615, 616, 617, 618, 619, 620, 621, 622, 623, 625, 627, 628, 629, 630, 631, 632, 633, 634, 636, 637, 638, 639, 640, 641, 642, 643, 645, 646, 647, 648, 649, 650, 651, 652, 653, 654, 655, 656, 657, 659, 660, 661, 662, 663, 664, 665, 666, 667, 668, 669, 670, 671, 672, 674, 676, 677, 678, 679, 681, 682, 683, 691, 693, 694, 695, 696, 699, 700, 702, 703, 704, 705, 706, 708, 709, 714, 715, 716, 717, 718, 719, 720, 721, 723, 724, 725, 726, 727, 729, 730, 731, 732, 733, 737, 739, 741, 742, 743, 744, 745, 746, 747, 749, 750, 752, 753, 755, 756, 757, 758, 759, 761, 762, 763, 764, 765, 766, 767, 768, 769, 770, 771, 772, 773, 774, 775, 776, 777, 778, 779, 780, 781, 782, 783, 784, 785, 787, 788, 789, 790, 791, 794, 795, 796, 797, 798, 799, 800, 801, 802, 803, 804, 805, 806, 807, 808, 809, 810, 811, 812, 813, 814, 815, 816, 817, 827, 830, 831, 832, 833, 834, 835, 840, 841, 842, 843, 846, 848, 849, 851, 852, 855, 856, 859, 860, 861, 862, 863, 864, 866, 867, 868, 869, 870, 871, 872, 873, 874, 875, 876, 877, 878, 879, 880, 881, 882, 883, 886, 887, 888, 889, 890, 891, 892, 893, 894, 895, 896, 897, 898, 899, 900, 901, 902, 903, 904, 906, 907, 909, 910, 911, 913, 915, 916, 918, 919, 920, 921, 923, 924, 925, 927, 928, 929, 930, 935, 936, 937, 938, 939, 940, 941, 942, 943, 944, 945, 947, 948, 949, 950, 951, 952, 953, 955, 956, 957, 958, 961, 962, 963, 964, 968, 969, 970, 971, 974, 975, 976, 978, 979, 980, 981, 982, 984, 986, 988, 990, 991, 992, 993, 994, 995, 996, 999, 1000, 1001, 1002, 1005, 1006, 1009, 1013, 1014, 1015, 1018, 1020, 1021, 1022, 1023, 1024, 1025, 1026, 1028, 1033, 1034, 1035, 1036, 1038, 1039, 1040, 1041, 1042, 1043, 1044, 1047, 1048, 1049, 1050, 1051, 1052, 1053, 1054, 1057, 1066, 1072, 1073, 1074, 1075, 1076, 1077, 1081, 1082, 1083, 1084, 1085, 1086, 1087, 1088, 1090, 1091, 1092, 1093, 1094, 1095, 1096, 1097, 1099, 1100, 1104, 1107, 1108, 1109, 1111, 1113, 1114, 1115, 1116, 1117, 1118, 1119, 1120, 1121, 1122, 1123, 1124, 1125, 1126, 1128, 1131, 1132, 1136, 1137, 1138, 1139, 1141, 1142, 1144, 1146, 1147, 1149, 1151, 1154, 1156, 1157, 1158, 1160, 1161, 1162, 1165, 1166, 1167, 1168, 1171, 1172, 1177, 1178, 1179, 1180, 1182, 1183, 1184, 1185, 1186, 1187, 1188, 1189, 1190, 1193, 1195, 1197, 1198, 1199, 1200, 1201, 1203, 1204, 1205, 1206, 1207, 1208, 1209, 1210, 1211, 1212, 1213, 1214, 1215, 1216, 1219, 1220, 1221, 1222, 1225, 1227, 1228, 1229, 1231, 1233, 1234, 1235, 1236, 1237, 1238, 1239, 1240, 1241, 1242, 1243, 1244, 1245, 1247, 1248, 1249, 1250, 1251, 1252, 1254, 1255, 1256, 1257, 1258, 1259, 1260, 1262, 1263, 1264, 1266, 1267, 1268, 1270, 1271, 1273, 1274, 1275, 1276, 1277, 1278, 1279, 1280, 1281, 1283, 1284, 1285, 1286, 1287, 1289, 1290, 1291, 1292, 1294, 1295, 1297, 1299, 1302, 1304, 1305, 1306, 1307, 1308, 1311, 1314, 1321, 1322, 1325, 1326, 1327, 1331, 1333, 1335, 1336, 1337, 1338, 1339, 1342, 1343, 1344, 1345, 1346, 1347, 1350, 1351, 1353, 1354, 1355, 1358, 1359, 1364, 1365, 1366, 1368, 1369, 1370, 1371, 1372, 1374, 1375, 1376, 1377, 1378, 1379, 1380, 1381, 1382, 1384, 1385, 1388, 1389, 1391, 1392, 1393, 1395, 1397, 1399, 1401, 1403, 1404, 1405, 1406, 1407, 1408, 1409, 1412, 1413, 1414, 1416, 1417, 1418, 1419, 1420, 1421, 1422, 1424, 1426, 1431, 1432, 1433, 1434, 1435, 1436, 1440, 1441, 1443, 1445, 1447, 1450, 1451, 1452, 1453, 1454, 1456, 1457, 1458, 1459, 1460, 1461, 1464, 1467, 1469, 1470, 1472, 1473, 1475, 1476, 1478, 1479, 1489, 1491, 1492, 1494, 1495, 1497, 1498, 1499, 1503, 1509, 1510, 1511, 1512, 1513, 1516, 1518, 1520, 1522, 1523, 1524, 1526, 1528, 1535, 1536, 1538, 1539, 1540, 1541, 1542, 1544, 1545, 1546, 1547, 1549, 1553, 1554, 1556, 1557, 1559, 1561, 1562, 1563, 1564, 1566, 1567, 1568, 1569, 1570, 1573, 1574, 1577, 1578, 1579, 1580, 1582, 1585, 1586, 1587, 1588, 1592, 1593, 1594, 1597, 1598, 1600, 1601, 1602, 1603, 1605, 1606, 1607, 1608, 1609, 1610, 1611, 1612, 1613, 1616, 1617, 1619, 1620, 1621, 1622, 1624, 1627, 1628, 1629, 1631, 1633, 1637, 1639, 1640, 1641, 1642, 1643, 1644, 1645, 1646, 1648, 1649, 1652, 1653, 1655, 1656, 1658, 1659, 1660, 1661, 1662, 1665, 1667, 1668, 1669, 1670, 1671, 1672, 1673, 1674, 1675, 1676, 1677, 1682, 1684, 1685, 1686, 1687, 1688, 1690, 1693, 1694, 1695, 1696, 1699, 1700, 1701, 1702, 1703, 1704, 1706, 1709, 1710, 1711, 1712, 1714, 1716, 1718, 1719, 1720, 1721, 1722, 1724, 1726, 1730, 1731, 1732, 1733, 1735, 1736, 1737, 1738, 1739, 1740, 1741, 1742, 1744, 1745, 1748, 1750, 1757, 1758, 1759, 1760, 1761, 1762, 1763, 1764, 1765, 1766, 1767, 1768, 1770, 1771, 1773, 1774, 1775, 1776, 1777, 1778, 1783, 1788, 1790, 1791, 1793, 1794, 1795, 1798, 1799, 1802, 1805, 1806, 1808, 1812, 1815, 1816, 1817, 1818, 1819, 1820, 1824, 1826, 1828, 1829, 1832, 1833, 1844, 1845, 1846, 1847, 1848, 1849, 1850, 1851, 1852, 1853, 1854, 1855, 1856, 1857, 1861, 1862, 1863, 1865, 1866, 1867, 1868, 1869, 1870, 1873, 1874, 1875, 1876, 1878, 1879, 1880, 1883, 1884, 1885, 1886, 1887, 1888, 1889, 1892, 1893, 1894, 1898, 1899, 1900, 1901, 1902, 1904, 1905, 1906, 1907, 1908, 1909, 1910, 1911, 1912, 1915, 1916, 1917, 1918, 1919, 1922, 1925, 1926, 1930, 1931, 1932, 1933, 1934, 1935, 1936, 1937, 1938, 1939, 1941, 1947, 1949, 1950, 1951, 1954, 1955, 1957, 1958, 1959, 1960, 1962, 1963, 1964, 1965, 1966, 1967, 1968, 1970, 1971, 1972, 1973, 1974, 1976, 1978, 1980, 1981, 1982, 1983, 1984, 1985, 1986, 1987, 1988, 1989, 1990, 1991, 1992, 1993, 1994, 1995, 1996, 1997, 1998, 1999, 2001, 2005, 2006, 2007, 2009, 2010, 2011, 2012, 2013, 2014, 2015, 2016, 2017, 2018, 2019, 2020, 2021, 2022, 2023, 2024, 2025, 2026, 2027, 2028, 2029, 2030, 2031, 2032, 2033, 2034, 2035, 2036, 2037, 2038, 2039, 2040, 2041, 2042, 2043, 2044, 2045, 2046, 2047, 2048, 2049, 2050, 2051, 2052, 2053, 2054, 2055, 2056, 2057, 2058, 2059, 2060, 2061, 2062, 2063, 2066, 2067, 2068, 2070, 2071, 2072, 2074, 2075, 2076, 2077, 2078, 2079, 2080, 2081, 2082, 2083, 2084, 2085, 2087, 2088, 2089, 2090, 2091, 2092, 2093, 2094, 2095, 2096, 2097, 2098, 2099, 2100, 2102, 2103, 2104, 2105, 2106, 2107, 2108, 2109, 2110, 2111, 2112, 2113, 2114, 2115, 2116, 2117, 2119, 2120, 2121, 2122, 2123, 2124, 2125, 2126, 2127, 2128, 2131, 2132, 2133, 2134, 2136, 2137, 2138, 2139, 2141, 2142, 2143, 2144, 2145, 2146, 2147, 2148, 2149, 2150, 2151, 2152, 2153, 2154, 2158, 2159, 2161, 2162, 2165, 2166, 2167, 2168, 2169, 2170, 2171, 2173, 2174, 2175, 2176, 2178, 2180, 2181, 2182, 2183, 2184, 2186, 2187, 2188, 2189, 2190, 2192, 2194, 2195, 2197, 2198, 2199, 2200, 2201, 2202, 2203, 2204, 2205, 2206, 2207, 2208, 2209, 2210, 2211, 2213, 2214, 2215, 2217, 2218, 2219, 2220, 2221, 2222, 2224, 2226, 2227, 2228, 2229, 2230, 2232, 2233, 2235, 2236, 2239, 2241, 2242, 2243, 2244, 2245, 2247, 2248, 2249, 2251, 2258, 2259, 2261, 2262, 2263, 2264, 2265, 2266, 2267, 2268, 2269, 2272, 2273, 2275, 2276, 2277, 2278, 2279, 2280, 2281, 2285, 2286, 2289, 2290, 2291, 2292, 2293, 2294, 2296, 2299, 2300]\n"
     ]
    }
   ],
   "source": [
    "lista_props_final = [x for x in lista_props if x not in lista_props_descartar]\n",
    "len(lista_props_final)\n",
    "print(lista_props_final)"
   ]
  },
  {
   "cell_type": "code",
   "execution_count": null,
   "id": "baaba9fa-72d4-49ab-acac-221ced9a0805",
   "metadata": {},
   "outputs": [],
   "source": []
  },
  {
   "cell_type": "code",
   "execution_count": 25,
   "id": "51b1f50f-2427-4562-9512-bf5019af02b4",
   "metadata": {},
   "outputs": [
    {
     "data": {
      "text/html": [
       "\n",
       "            <style>\n",
       "                .geemap-dark {\n",
       "                    --jp-widgets-color: white;\n",
       "                    --jp-widgets-label-color: white;\n",
       "                    --jp-ui-font-color1: white;\n",
       "                    --jp-layout-color2: #454545;\n",
       "                    background-color: #383838;\n",
       "                }\n",
       "                    \n",
       "                .geemap-dark .jupyter-button {\n",
       "                    --jp-layout-color3: #383838;\n",
       "                }\n",
       "                \n",
       "                .geemap-colab {\n",
       "                    background-color: var(--colab-primary-surface-color, white);\n",
       "                }\n",
       "                    \n",
       "                .geemap-colab .jupyter-button {\n",
       "                    --jp-layout-color3: var(--colab-primary-surface-color, white);\n",
       "                }\n",
       "            </style>\n",
       "            "
      ],
      "text/plain": [
       "<IPython.core.display.HTML object>"
      ]
     },
     "metadata": {},
     "output_type": "display_data"
    },
    {
     "data": {
      "text/plain": [
       "4"
      ]
     },
     "execution_count": 25,
     "metadata": {},
     "output_type": "execute_result"
    }
   ],
   "source": [
    "lista_props_final = [30, 1, 19, 47]\n",
    "len(lista_props_final)"
   ]
  },
  {
   "cell_type": "code",
   "execution_count": 26,
   "id": "861fd376-e379-4e23-8170-f4528e707ba8",
   "metadata": {},
   "outputs": [
    {
     "data": {
      "text/html": [
       "\n",
       "            <style>\n",
       "                .geemap-dark {\n",
       "                    --jp-widgets-color: white;\n",
       "                    --jp-widgets-label-color: white;\n",
       "                    --jp-ui-font-color1: white;\n",
       "                    --jp-layout-color2: #454545;\n",
       "                    background-color: #383838;\n",
       "                }\n",
       "                    \n",
       "                .geemap-dark .jupyter-button {\n",
       "                    --jp-layout-color3: #383838;\n",
       "                }\n",
       "                \n",
       "                .geemap-colab {\n",
       "                    background-color: var(--colab-primary-surface-color, white);\n",
       "                }\n",
       "                    \n",
       "                .geemap-colab .jupyter-button {\n",
       "                    --jp-layout-color3: var(--colab-primary-surface-color, white);\n",
       "                }\n",
       "            </style>\n",
       "            "
      ],
      "text/plain": [
       "<IPython.core.display.HTML object>"
      ]
     },
     "metadata": {},
     "output_type": "display_data"
    },
    {
     "data": {
      "text/plain": [
       "[]"
      ]
     },
     "execution_count": 26,
     "metadata": {},
     "output_type": "execute_result"
    }
   ],
   "source": [
    "cods_error"
   ]
  },
  {
   "cell_type": "code",
   "execution_count": 27,
   "id": "4be29a10-fe35-4474-8bd0-3b0df9678b4a",
   "metadata": {},
   "outputs": [
    {
     "data": {
      "text/html": [
       "\n",
       "            <style>\n",
       "                .geemap-dark {\n",
       "                    --jp-widgets-color: white;\n",
       "                    --jp-widgets-label-color: white;\n",
       "                    --jp-ui-font-color1: white;\n",
       "                    --jp-layout-color2: #454545;\n",
       "                    background-color: #383838;\n",
       "                }\n",
       "                    \n",
       "                .geemap-dark .jupyter-button {\n",
       "                    --jp-layout-color3: #383838;\n",
       "                }\n",
       "                \n",
       "                .geemap-colab {\n",
       "                    background-color: var(--colab-primary-surface-color, white);\n",
       "                }\n",
       "                    \n",
       "                .geemap-colab .jupyter-button {\n",
       "                    --jp-layout-color3: var(--colab-primary-surface-color, white);\n",
       "                }\n",
       "            </style>\n",
       "            "
      ],
      "text/plain": [
       "<IPython.core.display.HTML object>"
      ]
     },
     "metadata": {},
     "output_type": "display_data"
    },
    {
     "data": {
      "text/plain": [
       "(0, 27)"
      ]
     },
     "execution_count": 27,
     "metadata": {},
     "output_type": "execute_result"
    }
   ],
   "source": [
    "PATH_INTERSECT_BASE = r'G:\\Ingenio Azucarero Guabira S.A\\UTEA - SEMANAL - AVANCE COSECHA\\2025\\ESTIMATIVAS\\V06\\SHP\\INTERSECT_0.shp'\n",
    "df_intersects = gpd.read_file(PATH_INTERSECT_BASE)\n",
    "df_intersects.shape"
   ]
  },
  {
   "cell_type": "code",
   "execution_count": 31,
   "id": "66857ad5-c7ef-4a35-97da-4665e7897717",
   "metadata": {},
   "outputs": [
    {
     "data": {
      "text/html": [
       "\n",
       "            <style>\n",
       "                .geemap-dark {\n",
       "                    --jp-widgets-color: white;\n",
       "                    --jp-widgets-label-color: white;\n",
       "                    --jp-ui-font-color1: white;\n",
       "                    --jp-layout-color2: #454545;\n",
       "                    background-color: #383838;\n",
       "                }\n",
       "                    \n",
       "                .geemap-dark .jupyter-button {\n",
       "                    --jp-layout-color3: #383838;\n",
       "                }\n",
       "                \n",
       "                .geemap-colab {\n",
       "                    background-color: var(--colab-primary-surface-color, white);\n",
       "                }\n",
       "                    \n",
       "                .geemap-colab .jupyter-button {\n",
       "                    --jp-layout-color3: var(--colab-primary-surface-color, white);\n",
       "                }\n",
       "            </style>\n",
       "            "
      ],
      "text/plain": [
       "<IPython.core.display.HTML object>"
      ]
     },
     "metadata": {},
     "output_type": "display_data"
    },
    {
     "data": {
      "application/vnd.jupyter.widget-view+json": {
       "model_id": "52acd179ab0d4f18a2c65761fb4da91a",
       "version_major": 2,
       "version_minor": 0
      },
      "text/plain": [
       "Output(layout=Layout(border_bottom='1px solid black', border_left='1px solid black', border_right='1px solid b…"
      ]
     },
     "execution_count": 31,
     "metadata": {},
     "output_type": "execute_result"
    }
   ],
   "source": [
    "estado_proceso = widgets.Output(layout={'border': '1px solid black'})\n",
    "estado_proceso"
   ]
  },
  {
   "cell_type": "code",
   "execution_count": 32,
   "id": "00985e9b",
   "metadata": {},
   "outputs": [
    {
     "data": {
      "text/html": [
       "\n",
       "            <style>\n",
       "                .geemap-dark {\n",
       "                    --jp-widgets-color: white;\n",
       "                    --jp-widgets-label-color: white;\n",
       "                    --jp-ui-font-color1: white;\n",
       "                    --jp-layout-color2: #454545;\n",
       "                    background-color: #383838;\n",
       "                }\n",
       "                    \n",
       "                .geemap-dark .jupyter-button {\n",
       "                    --jp-layout-color3: #383838;\n",
       "                }\n",
       "                \n",
       "                .geemap-colab {\n",
       "                    background-color: var(--colab-primary-surface-color, white);\n",
       "                }\n",
       "                    \n",
       "                .geemap-colab .jupyter-button {\n",
       "                    --jp-layout-color3: var(--colab-primary-surface-color, white);\n",
       "                }\n",
       "            </style>\n",
       "            "
      ],
      "text/plain": [
       "<IPython.core.display.HTML object>"
      ]
     },
     "metadata": {},
     "output_type": "display_data"
    },
    {
     "name": "stderr",
     "output_type": "stream",
     "text": [
      "C:\\Users\\Usuario\\AppData\\Local\\Temp\\ipykernel_13628\\4225511096.py:48: UserWarning: CRS mismatch between the CRS of left geometries and the CRS of right geometries.\n",
      "Use `to_crs()` to reproject one of the input geometries to match the CRS of the other.\n",
      "\n",
      "Left CRS: EPSG:4326\n",
      "Right CRS: EPSG:32720\n",
      "\n",
      "  intersect = overlay(lotes_local, vector_local, how=\"intersection\")\n",
      "C:\\Users\\Usuario\\AppData\\Local\\Temp\\ipykernel_13628\\4225511096.py:48: UserWarning: CRS mismatch between the CRS of left geometries and the CRS of right geometries.\n",
      "Use `to_crs()` to reproject one of the input geometries to match the CRS of the other.\n",
      "\n",
      "Left CRS: EPSG:4326\n",
      "Right CRS: EPSG:32720\n",
      "\n",
      "  intersect = overlay(lotes_local, vector_local, how=\"intersection\")\n",
      "C:\\Users\\Usuario\\AppData\\Local\\Temp\\ipykernel_13628\\4225511096.py:48: UserWarning: CRS mismatch between the CRS of left geometries and the CRS of right geometries.\n",
      "Use `to_crs()` to reproject one of the input geometries to match the CRS of the other.\n",
      "\n",
      "Left CRS: EPSG:4326\n",
      "Right CRS: EPSG:32720\n",
      "\n",
      "  intersect = overlay(lotes_local, vector_local, how=\"intersection\")\n",
      "C:\\Users\\Usuario\\AppData\\Local\\Temp\\ipykernel_13628\\4225511096.py:48: UserWarning: `keep_geom_type=True` in overlay resulted in 5 dropped geometries of different geometry types than df1 has. Set `keep_geom_type=False` to retain all geometries\n",
      "  intersect = overlay(lotes_local, vector_local, how=\"intersection\")\n",
      "C:\\Users\\Usuario\\AppData\\Local\\Temp\\ipykernel_13628\\4225511096.py:48: UserWarning: CRS mismatch between the CRS of left geometries and the CRS of right geometries.\n",
      "Use `to_crs()` to reproject one of the input geometries to match the CRS of the other.\n",
      "\n",
      "Left CRS: EPSG:4326\n",
      "Right CRS: EPSG:32720\n",
      "\n",
      "  intersect = overlay(lotes_local, vector_local, how=\"intersection\")\n"
     ]
    },
    {
     "name": "stdout",
     "output_type": "stream",
     "text": [
      "FIN......!\n"
     ]
    }
   ],
   "source": [
    "contador = 0\n",
    "for cod_prop in lista_props_final:\n",
    "    propiedad = ee.FeatureCollection(ruta_catastro)\\\n",
    "                .filter(ee.Filter.eq(CODIGO_PROPIEDAD, cod_prop))\n",
    "    lotes_canha = propiedad.filter(ee.Filter.neq(VARIEDAD, ESTADO))\n",
    "    lotes_renov = propiedad.filter(ee.Filter.eq(VARIEDAD, ESTADO))\n",
    "    NDVI = ee.Image(ruta_ndvi)\n",
    "    NDVI_clip = NDVI.clip(lotes_canha.geometry())\n",
    "    # crea un sample de los valore de pixel del NDVI\n",
    "    NDVI_values = NDVI_clip.sampleRegions(lotes_canha.geometry())\n",
    "    # reduce el resultado a valores de NDVI\n",
    "    pixel_values = NDVI_values.reduceColumns(ee.Reducer.toList(),['b1']).get('list').getInfo()\n",
    "    # aplica metodo Jenks\n",
    "    breaks = jenkspy.jenks_breaks(pixel_values, n_classes=8)\n",
    "    NDVI_class = ee.Image(-1).where(NDVI.lt(breaks[1]),1)\\\n",
    "                        .where(NDVI.gte(breaks[1]),2)\\\n",
    "                        .where(NDVI.gte(breaks[2]),3)\\\n",
    "                        .where(NDVI.gte(breaks[3]),4)\\\n",
    "                        .where(NDVI.gte(breaks[4]),5)\\\n",
    "                        .where(NDVI.gte(breaks[5]),6)\\\n",
    "                        .where(NDVI.gte(breaks[6]),7)\\\n",
    "                        .where(NDVI.gte(breaks[7]),8)\n",
    "    NDVI_class_clip = NDVI_class.clip(lotes_canha.geometry())\n",
    "    clasify = NDVI_class_clip.reproject(crs=\"EPSG:32720\", scale=10)\n",
    "    vector = clasify.reduceToVectors(**{\n",
    "        'geometry': lotes_canha.geometry(),\n",
    "        'crs': clasify.projection(),\n",
    "        'scale': 10,\n",
    "        'geometryType': 'polygon',\n",
    "        'eightConnected': False\n",
    "    })\n",
    "    \n",
    "    DF_VECTOR = vector\n",
    "    \n",
    "    lotes_local = geemap.ee_to_gdf(lotes_canha)\n",
    "    \n",
    "    lista = vector.toList(vector.size()).getInfo()\n",
    "    lista_vector=[]\n",
    "    for item in lista:\n",
    "        dic = {'geometry':Polygon(item['geometry']['coordinates'][0]), 'count':item['properties']['count'], 'label':item['properties']['label']}\n",
    "        lista_vector.append(dic)\n",
    "    \n",
    "    vector_local = gpd.GeoDataFrame(lista_vector)\n",
    "    vector_local.set_crs(\"EPSG:32720\", inplace=True)  # ajusta si usas otra zona UTM\n",
    "    \n",
    "    try:\n",
    "        #lotes_local = lotes_local.to_crs(\"EPSG:32720\")\n",
    "        intersect = overlay(lotes_local, vector_local, how=\"intersection\")\n",
    "    except TypeError as e:\n",
    "        cods_error.append(cod_prop)\n",
    "        continue\n",
    "\n",
    "    intersect.crs = \"EPSG:4326\"\n",
    "    intersect = intersect.to_crs(epsg=32720)\n",
    "    intersect['area_2'] = intersect['geometry'].area/10000\n",
    "    \n",
    "    area_01 = intersect['area_2'].sum()\n",
    "    area_02 = lotes_local[SUPERFICIE].sum()\n",
    "    \n",
    "    if len(intersect) > 0:\n",
    "        area_diff = (area_02 - area_01) / len(intersect)\n",
    "    else:\n",
    "        area_diff = 0  # o np.nan, dependiendo de cómo lo quieras manejar\n",
    "    \n",
    "    intersect['area_2'] = intersect['area_2'] + area_diff\n",
    "    \n",
    "    DF = intersect.copy()\n",
    "    dina = pd.pivot_table(DF, values='area_2', index=[CODIGO_PROPIEDAD, NOM_PROPIEDAD, CODIGO_CANHERO, NOM_CANHERO, 'label'], aggfunc='sum')\n",
    "    dina2 = dina.reset_index()\n",
    "    \n",
    "    dina2['tch'] = dina2['label'].apply(asig_cat)\n",
    "    \n",
    "    # Cargar el archivo de Excel existente\n",
    "    wb = openpyxl.load_workbook('DATA_EST.xlsx')\n",
    "    # Seleccionar la hoja de trabajo\n",
    "    ws = wb['data']\n",
    "    \n",
    "    for i in range(0, len(dina2)):\n",
    "        new_row = [dina2.iloc[i,0], dina2.iloc[i,1], dina2.iloc[i,2], dina2.iloc[i,3], dina2.iloc[i,4], dina2.iloc[i,5], dina2.iloc[i,6]]\n",
    "        ws.append(new_row)\n",
    "    wb.save('DATA_EST.xlsx')\n",
    "    \n",
    "    df_intersects = pd.concat([df_intersects, DF], ignore_index=True)\n",
    "    \n",
    "    contador = contador + 1 \n",
    "    with estado_proceso:\n",
    "        estado_proceso.clear_output()\n",
    "        display(f'ESTADO...')\n",
    "        display(f'Se proceso propiedad: {cod_prop}')\n",
    "        display(f'Contador: {contador} de {len(lista_props_final)}')\n",
    "print('FIN......!')"
   ]
  },
  {
   "cell_type": "code",
   "execution_count": null,
   "id": "90de2bda-3903-4572-b505-70f27f298621",
   "metadata": {},
   "outputs": [],
   "source": []
  },
  {
   "cell_type": "code",
   "execution_count": null,
   "id": "f6fe38da-9aec-4082-b0dd-06bdc4c69a46",
   "metadata": {},
   "outputs": [],
   "source": []
  },
  {
   "cell_type": "code",
   "execution_count": null,
   "id": "03712a19-fc6a-4604-b660-4bc0d1564516",
   "metadata": {},
   "outputs": [],
   "source": []
  },
  {
   "cell_type": "code",
   "execution_count": null,
   "id": "4d240e29-8c3f-4f18-8928-5d8f9abfa8f6",
   "metadata": {},
   "outputs": [],
   "source": []
  },
  {
   "cell_type": "code",
   "execution_count": null,
   "id": "f8451e77-5a84-4487-bed1-b667c310753f",
   "metadata": {},
   "outputs": [],
   "source": []
  },
  {
   "cell_type": "code",
   "execution_count": null,
   "id": "5b91f0f7-6da9-43da-8b24-4e45e1a737ab",
   "metadata": {},
   "outputs": [],
   "source": []
  },
  {
   "cell_type": "code",
   "execution_count": null,
   "id": "7abe1885",
   "metadata": {},
   "outputs": [],
   "source": [
    "cods_error"
   ]
  },
  {
   "cell_type": "code",
   "execution_count": null,
   "id": "03fafd9e-e7dc-4057-9f21-037afb6dabe1",
   "metadata": {},
   "outputs": [],
   "source": []
  },
  {
   "cell_type": "code",
   "execution_count": null,
   "id": "a0e4b4a2-bdd7-4707-b728-3e8967578a36",
   "metadata": {},
   "outputs": [],
   "source": []
  },
  {
   "cell_type": "code",
   "execution_count": null,
   "id": "0bf17e25",
   "metadata": {},
   "outputs": [],
   "source": [
    "df_intersects.tail(5)"
   ]
  },
  {
   "cell_type": "code",
   "execution_count": null,
   "id": "9b5d0198",
   "metadata": {},
   "outputs": [],
   "source": []
  },
  {
   "cell_type": "code",
   "execution_count": null,
   "id": "83ec7c8c",
   "metadata": {},
   "outputs": [],
   "source": [
    "len(df_intersects)"
   ]
  },
  {
   "cell_type": "code",
   "execution_count": null,
   "id": "b226fefc",
   "metadata": {},
   "outputs": [],
   "source": [
    "df_intersects.to_file(\"INTERSECT_01.shp\", driver=\"ESRI Shapefile\")"
   ]
  },
  {
   "cell_type": "code",
   "execution_count": 33,
   "id": "92c1733f",
   "metadata": {},
   "outputs": [
    {
     "data": {
      "text/html": [
       "\n",
       "            <style>\n",
       "                .geemap-dark {\n",
       "                    --jp-widgets-color: white;\n",
       "                    --jp-widgets-label-color: white;\n",
       "                    --jp-ui-font-color1: white;\n",
       "                    --jp-layout-color2: #454545;\n",
       "                    background-color: #383838;\n",
       "                }\n",
       "                    \n",
       "                .geemap-dark .jupyter-button {\n",
       "                    --jp-layout-color3: #383838;\n",
       "                }\n",
       "                \n",
       "                .geemap-colab {\n",
       "                    background-color: var(--colab-primary-surface-color, white);\n",
       "                }\n",
       "                    \n",
       "                .geemap-colab .jupyter-button {\n",
       "                    --jp-layout-color3: var(--colab-primary-surface-color, white);\n",
       "                }\n",
       "            </style>\n",
       "            "
      ],
      "text/plain": [
       "<IPython.core.display.HTML object>"
      ]
     },
     "metadata": {},
     "output_type": "display_data"
    },
    {
     "data": {
      "text/plain": [
       "2826.285151940068"
      ]
     },
     "execution_count": 33,
     "metadata": {},
     "output_type": "execute_result"
    }
   ],
   "source": [
    "df_intersects['area_2'].sum()"
   ]
  },
  {
   "cell_type": "code",
   "execution_count": null,
   "id": "79a4b64a",
   "metadata": {},
   "outputs": [],
   "source": [
    "df_intersects.head(3)"
   ]
  },
  {
   "cell_type": "code",
   "execution_count": null,
   "id": "6e8d79e1",
   "metadata": {},
   "outputs": [],
   "source": []
  },
  {
   "cell_type": "code",
   "execution_count": null,
   "id": "49a3c377",
   "metadata": {},
   "outputs": [],
   "source": []
  },
  {
   "cell_type": "code",
   "execution_count": null,
   "id": "9210a4ff",
   "metadata": {},
   "outputs": [],
   "source": []
  },
  {
   "cell_type": "code",
   "execution_count": null,
   "id": "40c8d7b6",
   "metadata": {},
   "outputs": [],
   "source": []
  },
  {
   "cell_type": "code",
   "execution_count": null,
   "id": "e0224c01",
   "metadata": {},
   "outputs": [],
   "source": []
  },
  {
   "cell_type": "code",
   "execution_count": null,
   "id": "4fc409bd",
   "metadata": {},
   "outputs": [],
   "source": []
  },
  {
   "cell_type": "code",
   "execution_count": null,
   "id": "ec2baced",
   "metadata": {},
   "outputs": [],
   "source": []
  },
  {
   "cell_type": "code",
   "execution_count": null,
   "id": "e94b7158",
   "metadata": {},
   "outputs": [],
   "source": []
  },
  {
   "cell_type": "code",
   "execution_count": null,
   "id": "908ce216",
   "metadata": {},
   "outputs": [],
   "source": []
  },
  {
   "cell_type": "code",
   "execution_count": null,
   "id": "b0563e80",
   "metadata": {},
   "outputs": [],
   "source": []
  }
 ],
 "metadata": {
  "kernelspec": {
   "display_name": "Python 3 (ipykernel)",
   "language": "python",
   "name": "python3"
  },
  "language_info": {
   "codemirror_mode": {
    "name": "ipython",
    "version": 3
   },
   "file_extension": ".py",
   "mimetype": "text/x-python",
   "name": "python",
   "nbconvert_exporter": "python",
   "pygments_lexer": "ipython3",
   "version": "3.10.13"
  }
 },
 "nbformat": 4,
 "nbformat_minor": 5
}
