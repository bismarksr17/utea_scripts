{
 "cells": [
  {
   "cell_type": "code",
   "execution_count": 8,
   "id": "557e0a1c-7a1f-4515-808e-40d2cff6181a",
   "metadata": {},
   "outputs": [
    {
     "data": {
      "text/plain": [
       "'D:\\\\OneDrive - Ingenio Azucarero Guabira S.A\\\\UTEA_2023\\\\PLANOS_GRAL\\\\01_ESTIMATIVAS_PRODUCCION_INST_50\\\\imgs_tch\\\\.png'"
      ]
     },
     "execution_count": 8,
     "metadata": {},
     "output_type": "execute_result"
    }
   ],
   "source": [
    "dir = r\"D:\\OneDrive - Ingenio Azucarero Guabira S.A\\UTEA_2023\\PLANOS_GRAL\\01_ESTIMATIVAS_PRODUCCION_INST_50\\imgs_tch\" + \"\\\\\" + + r\".png\"\n",
    "dir"
   ]
  },
  {
   "cell_type": "code",
   "execution_count": null,
   "id": "2059dfc7-f492-492a-9303-2f9c41059c1a",
   "metadata": {},
   "outputs": [],
   "source": []
  },
  {
   "cell_type": "code",
   "execution_count": null,
   "id": "99e694e0-2c9b-435e-84b5-fd2b337425f8",
   "metadata": {},
   "outputs": [],
   "source": []
  },
  {
   "cell_type": "code",
   "execution_count": null,
   "id": "5cc29b7c-e556-4920-b0e2-cdd7140f6f1e",
   "metadata": {},
   "outputs": [],
   "source": []
  },
  {
   "cell_type": "code",
   "execution_count": null,
   "id": "e7bfb197-10a4-4145-9f53-33ba6703a25e",
   "metadata": {},
   "outputs": [],
   "source": []
  },
  {
   "cell_type": "code",
   "execution_count": null,
   "id": "b775318c-ab37-4732-bce2-7070ca67a467",
   "metadata": {},
   "outputs": [],
   "source": []
  }
 ],
 "metadata": {
  "kernelspec": {
   "display_name": "Python 3 (ipykernel)",
   "language": "python",
   "name": "python3"
  },
  "language_info": {
   "codemirror_mode": {
    "name": "ipython",
    "version": 3
   },
   "file_extension": ".py",
   "mimetype": "text/x-python",
   "name": "python",
   "nbconvert_exporter": "python",
   "pygments_lexer": "ipython3",
   "version": "3.7.11"
  }
 },
 "nbformat": 4,
 "nbformat_minor": 5
}
