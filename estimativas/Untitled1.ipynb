{
 "cells": [
  {
   "cell_type": "code",
   "execution_count": null,
   "id": "26959861-65f3-4aa4-81ed-6e2d9a991363",
   "metadata": {},
   "outputs": [],
   "source": [
    "from osgeo import gdal\n",
    "\n",
    "def tif_to_jpg(src_file, dst_file):\n",
    "    src_ds = gdal.Open(src_file)\n",
    "    driver = gdal.GetDriverByName('JPEG')\n",
    "    dst_ds = driver.CreateCopy(dst_file, src_ds, strict=0)\n",
    "    dst_ds = None\n",
    "    src_ds = None\n",
    "\n",
    "src_file = 'raster.tif'\n",
    "dst_file = 'raster.jpg'\n",
    "tif_to_jpg(src_file, dst_file)"
   ]
  },
  {
   "cell_type": "code",
   "execution_count": null,
   "id": "ad7070b0-bba4-487d-90f5-b3dfd4f94646",
   "metadata": {},
   "outputs": [],
   "source": []
  },
  {
   "cell_type": "code",
   "execution_count": null,
   "id": "557e0a1c-7a1f-4515-808e-40d2cff6181a",
   "metadata": {},
   "outputs": [],
   "source": []
  },
  {
   "cell_type": "code",
   "execution_count": null,
   "id": "2059dfc7-f492-492a-9303-2f9c41059c1a",
   "metadata": {},
   "outputs": [],
   "source": []
  },
  {
   "cell_type": "code",
   "execution_count": null,
   "id": "99e694e0-2c9b-435e-84b5-fd2b337425f8",
   "metadata": {},
   "outputs": [],
   "source": []
  },
  {
   "cell_type": "code",
   "execution_count": null,
   "id": "5cc29b7c-e556-4920-b0e2-cdd7140f6f1e",
   "metadata": {},
   "outputs": [],
   "source": []
  },
  {
   "cell_type": "code",
   "execution_count": null,
   "id": "e7bfb197-10a4-4145-9f53-33ba6703a25e",
   "metadata": {},
   "outputs": [],
   "source": []
  },
  {
   "cell_type": "code",
   "execution_count": null,
   "id": "b775318c-ab37-4732-bce2-7070ca67a467",
   "metadata": {},
   "outputs": [],
   "source": []
  }
 ],
 "metadata": {
  "kernelspec": {
   "display_name": "Python 3 (ipykernel)",
   "language": "python",
   "name": "python3"
  },
  "language_info": {
   "codemirror_mode": {
    "name": "ipython",
    "version": 3
   },
   "file_extension": ".py",
   "mimetype": "text/x-python",
   "name": "python",
   "nbconvert_exporter": "python",
   "pygments_lexer": "ipython3",
   "version": "3.7.15"
  }
 },
 "nbformat": 4,
 "nbformat_minor": 5
}
