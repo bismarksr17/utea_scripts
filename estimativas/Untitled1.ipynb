{
 "cells": [
  {
   "cell_type": "code",
   "execution_count": 2,
   "id": "91f53f00-424d-4aea-854f-99188ff48090",
   "metadata": {},
   "outputs": [],
   "source": [
    "import ee"
   ]
  },
  {
   "cell_type": "code",
   "execution_count": 4,
   "id": "9c809b7e-85ed-46a6-9d75-cfb917773905",
   "metadata": {},
   "outputs": [
    {
     "name": "stdout",
     "output_type": "stream",
     "text": [
      "El porcentaje de nubes en la imagen dentro del polígono del Feature Collection es:  0.0 %\n"
     ]
    }
   ],
   "source": [
    "def cloud_percentage(img, fc):\n",
    "    # Seleccionar banda de nubes\n",
    "    cloud = img.select('QA60')\n",
    "    \n",
    "    # Calcular la cantidad de pixels con nubes\n",
    "    cloud_pixels = cloud.reduceRegion(\n",
    "        reducer=ee.Reducer.sum(),\n",
    "        geometry=fc.geometry(),\n",
    "        scale=10,\n",
    "        maxPixels=1e9\n",
    "    ).getInfo()\n",
    "    \n",
    "    # Calcular la cantidad total de pixels\n",
    "    total_pixels = cloud.reduceRegion(\n",
    "        reducer=ee.Reducer.count(),\n",
    "        geometry=fc.geometry(),\n",
    "        scale=10,\n",
    "        maxPixels=1e9\n",
    "    ).getInfo()\n",
    "    \n",
    "    # Calcular porcentaje de nubes\n",
    "    cloud_sum = cloud_pixels['QA60']\n",
    "    total_count = total_pixels['QA60']\n",
    "    cloud_percentage = cloud_sum / total_count * 100\n",
    "    \n",
    "    return cloud_percentage\n",
    "\n",
    "# Inicializar sesión en Earth Engine\n",
    "ee.Initialize()\n",
    "\n",
    "# Seleccionar una imagen Sentinel-2 a partir de su ID\n",
    "img = ee.Image(\"COPERNICUS/S2/20230122T141711_20230122T142633_T20KMF\")\n",
    "\n",
    "# Cargar un asset Feature Collection\n",
    "fc = ee.FeatureCollection(\"projects/ee-bismarksr17/assets/LOTES_TEST_NUBES\")\n",
    "\n",
    "# Obtener porcentaje de nubes\n",
    "cloud_percent = cloud_percentage(img, fc)\n",
    "\n",
    "print(\"El porcentaje de nubes en la imagen dentro del polígono del Feature Collection es: \", cloud_percent, \"%\")\n"
   ]
  },
  {
   "cell_type": "code",
   "execution_count": null,
   "id": "26959861-65f3-4aa4-81ed-6e2d9a991363",
   "metadata": {},
   "outputs": [],
   "source": []
  }
 ],
 "metadata": {
  "kernelspec": {
   "display_name": "Python 3 (ipykernel)",
   "language": "python",
   "name": "python3"
  },
  "language_info": {
   "codemirror_mode": {
    "name": "ipython",
    "version": 3
   },
   "file_extension": ".py",
   "mimetype": "text/x-python",
   "name": "python",
   "nbconvert_exporter": "python",
   "pygments_lexer": "ipython3",
   "version": "3.7.13"
  }
 },
 "nbformat": 4,
 "nbformat_minor": 5
}
