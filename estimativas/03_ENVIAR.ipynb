{
 "cells": [
  {
   "cell_type": "code",
   "execution_count": 3,
   "id": "ee0690e2-4484-461c-a18b-5a60dc05cfef",
   "metadata": {},
   "outputs": [],
   "source": [
    "import pandas as pd\n",
    "import os\n",
    "\n",
    "import requests\n",
    "import base64"
   ]
  },
  {
   "cell_type": "code",
   "execution_count": 4,
   "id": "b4d96561-3940-4d32-a895-2ea18fceb138",
   "metadata": {},
   "outputs": [],
   "source": [
    "def sendMessage(para, mensaje):\n",
    "    url = \"http://localhost:8080/message/sendText/UITEA-TEST\"\n",
    "    payload = {\n",
    "        \"number\": '591' + para,\n",
    "        \"text\": mensaje,\n",
    "    }\n",
    "    headers = {\n",
    "        \"apikey\": \"8C3FDE18DF54-4C0E-BB3C-082537B13012\",\n",
    "        \"Content-Type\": \"application/json\"\n",
    "    }\n",
    "    response = requests.request(\"POST\", url, json=payload, headers=headers)\n",
    "    #print(response.text)"
   ]
  },
  {
   "cell_type": "code",
   "execution_count": 6,
   "id": "e49077e7-a5bb-4a55-846f-603062842579",
   "metadata": {},
   "outputs": [],
   "source": [
    "def sendImage(para, text, img):\n",
    "    # Codifica el archivo en base64\n",
    "    with open(img, \"rb\") as file:\n",
    "        encoded_file = base64.b64encode(file.read()).decode(\"utf-8\")\n",
    "\n",
    "    # URL con el dominio y la instancia correctos\n",
    "    url = \"http://localhost:8080/message/sendMedia/UITEA-TEST\"\n",
    "\n",
    "    # Payload con los datos del archivo y detalles del mensaje\n",
    "    payload = {\n",
    "        \"number\": '591' + para,  # Número de destino en formato internacional\n",
    "        \"mediatype\": \"image\",  # Tipo del archivo\n",
    "        \"mimetype\": \"image/png\",  # MIME del archivo\n",
    "        \"caption\": text,  # Mensaje acompañante\n",
    "        \"media\": encoded_file,  # Archivo codificado en base64\n",
    "        \"fileName\": \"test.jpg\"  # Nombre del archivo\n",
    "    }\n",
    "\n",
    "    # Encabezados con la clave de API\n",
    "    headers = {\n",
    "        \"apikey\": \"8C3FDE18DF54-4C0E-BB3C-082537B13012\",  # Tu clave de API\n",
    "        \"Content-Type\": \"application/json\"\n",
    "    }\n",
    "    \n",
    "    # Realiza la solicitud POST\n",
    "    response = requests.post(url, json=payload, headers=headers)\n",
    "    \n",
    "    # Imprime el resultado\n",
    "    #print(response.status_code, response.text)"
   ]
  },
  {
   "cell_type": "code",
   "execution_count": null,
   "id": "98449f64-a6ac-4124-938b-ed5c0b96a1ff",
   "metadata": {},
   "outputs": [],
   "source": []
  },
  {
   "cell_type": "code",
   "execution_count": null,
   "id": "002d623e-f045-4ee7-953b-548649a72483",
   "metadata": {},
   "outputs": [],
   "source": []
  },
  {
   "cell_type": "code",
   "execution_count": null,
   "id": "e0424ee2-44a6-498d-bfcb-a146e3e4ed14",
   "metadata": {},
   "outputs": [],
   "source": []
  },
  {
   "cell_type": "code",
   "execution_count": 7,
   "id": "8f612d40-4f38-4052-84a4-6f65bea26dd9",
   "metadata": {},
   "outputs": [],
   "source": [
    "# Ruta original del archivo Excel\n",
    "path_xlsx_cod_cos = r'C:\\Documents\\Ingenio Azucarero Guabira S.A\\UTEA - SEMANAL - AVANCE COSECHA\\2025\\ESTIMATIVAS\\_DATA_ENVIAR\\COS_COS.xlsx'"
   ]
  },
  {
   "cell_type": "code",
   "execution_count": 8,
   "id": "4ef5d8f9-d0d8-44ec-ba05-c61b099fb397",
   "metadata": {},
   "outputs": [
    {
     "data": {
      "text/html": [
       "<div>\n",
       "<style scoped>\n",
       "    .dataframe tbody tr th:only-of-type {\n",
       "        vertical-align: middle;\n",
       "    }\n",
       "\n",
       "    .dataframe tbody tr th {\n",
       "        vertical-align: top;\n",
       "    }\n",
       "\n",
       "    .dataframe thead th {\n",
       "        text-align: right;\n",
       "    }\n",
       "</style>\n",
       "<table border=\"1\" class=\"dataframe\">\n",
       "  <thead>\n",
       "    <tr style=\"text-align: right;\">\n",
       "      <th></th>\n",
       "      <th>cod_ca</th>\n",
       "      <th>nom_ca</th>\n",
       "      <th>cod_cos</th>\n",
       "      <th>inst</th>\n",
       "      <th>cel</th>\n",
       "    </tr>\n",
       "  </thead>\n",
       "  <tbody>\n",
       "    <tr>\n",
       "      <th>0</th>\n",
       "      <td>515</td>\n",
       "      <td>AGUILERA OLGA RIVERO VDA DE</td>\n",
       "      <td>1</td>\n",
       "      <td>50</td>\n",
       "      <td>76300040</td>\n",
       "    </tr>\n",
       "    <tr>\n",
       "      <th>1</th>\n",
       "      <td>790</td>\n",
       "      <td>AGUILERA RIVERO JESSICA BEATRIZ</td>\n",
       "      <td>1</td>\n",
       "      <td>69</td>\n",
       "      <td>76300040</td>\n",
       "    </tr>\n",
       "    <tr>\n",
       "      <th>2</th>\n",
       "      <td>1215</td>\n",
       "      <td>AGUILERA RIVERO OLGA KARINA</td>\n",
       "      <td>1</td>\n",
       "      <td>50</td>\n",
       "      <td>77393760</td>\n",
       "    </tr>\n",
       "  </tbody>\n",
       "</table>\n",
       "</div>"
      ],
      "text/plain": [
       "   cod_ca                           nom_ca  cod_cos  inst       cel\n",
       "0     515      AGUILERA OLGA RIVERO VDA DE        1    50  76300040\n",
       "1     790  AGUILERA RIVERO JESSICA BEATRIZ        1    69  76300040\n",
       "2    1215      AGUILERA RIVERO OLGA KARINA        1    50  77393760"
      ]
     },
     "execution_count": 8,
     "metadata": {},
     "output_type": "execute_result"
    }
   ],
   "source": [
    "# Cargar DataFrame\n",
    "df_cod_cos = pd.read_excel(path_xlsx_cod_cos)\n",
    "df_cod_cos.head(3)"
   ]
  },
  {
   "cell_type": "code",
   "execution_count": 9,
   "id": "a00eb487-efc9-4071-95ed-ee8f12cbf7b2",
   "metadata": {},
   "outputs": [],
   "source": [
    "lista_cod_cos = list(set(df_cod_cos['cod_cos']))"
   ]
  },
  {
   "cell_type": "code",
   "execution_count": 10,
   "id": "7120b339-8ad2-4f34-b56d-005f91d9242f",
   "metadata": {},
   "outputs": [
    {
     "name": "stdout",
     "output_type": "stream",
     "text": [
      "[1, 2, 3, 4, 5, 6, 7, 8, 9, 10, 11, 12, 13, 14, 15, 16, 17, 18, 19, 20, 21, 22, 23, 24, 25, 26, 28, 29, 30, 31, 32, 33, 34, 35, 36, 37, 38, 39, 40, 41, 44, 45, 47, 48, 49, 50, 51, 52, 54, 55, 56, 57, 58, 59, 60, 61, 62, 63, 64, 65, 67, 68, 69, 70, 71, 72, 73, 74, 75, 76, 78, 79, 81, 82, 83, 84, 85, 86, 87, 88, 90, 92, 93, 94, 95, 96, 97, 98, 99, 100, 102, 103, 104, 105, 106, 107, 108, 109, 110, 112, 113, 114, 115, 116, 117, 118, 119, 120, 121, 122, 123, 124, 126, 127, 128, 129, 130, 131, 132, 134, 135, 137, 138, 139, 140, 141, 142, 143, 144, 145, 146, 147, 148, 149, 150, 151, 152, 153, 154, 158, 159, 161, 162, 163, 164, 165, 166, 167, 169, 170, 171, 172, 173, 174, 175, 176, 177, 179, 180, 181, 182, 183, 185, 186, 187, 188, 189, 191, 192, 193, 194, 195, 196, 198, 199, 200, 202, 203, 204, 206, 207, 208, 209, 210, 211, 212, 213, 214, 215, 216, 218, 219, 220, 221, 222, 223, 224, 225, 226, 227, 228, 229, 230, 231, 232, 234, 235, 236, 237, 238, 240, 241, 242, 243, 244, 245, 247, 248, 249, 250, 251, 252, 253, 254, 255, 256, 257, 258, 260, 264, 265, 266, 267, 268, 269, 270, 272, 273, 274, 275, 276, 277, 278, 279, 280, 281, 282, 283, 284, 285, 286, 287, 288, 289, 290, 291, 292, 293, 294, 295, 296, 297, 298, 299, 300, 301, 302, 303, 304, 305, 306, 307, 308, 310, 311, 312, 313, 314, 315, 316, 317, 318, 319, 320, 321, 322, 323, 324, 325, 326, 327, 328, 329, 330, 331, 332, 333, 334, 335, 336, 339, 340, 341, 342, 343, 344, 345, 346, 347, 350, 351, 352, 353, 354, 356, 357, 358, 359, 360, 361, 362, 363, 364, 365, 366, 368, 369, 370, 371, 372, 373, 374, 375, 376, 377, 380, 381, 382, 384, 385, 386, 387, 388, 389, 390, 391, 392, 393, 394, 395, 396, 398, 399, 400, 402, 403, 404, 405, 406, 408, 409, 410, 412, 414, 416, 417, 419, 420, 421, 422, 423, 424, 425, 426, 429, 430, 432, 433, 434, 435, 437, 438, 443, 444, 445, 446, 447, 448, 450, 451, 452, 456, 457, 458, 459, 460, 462, 463, 464, 465, 466, 468, 469, 473, 474, 475, 479, 480, 482, 500, 501, 502, 503, 504, 508, 509, 511, 513, 514, 516, 517, 518, 519, 520, 521, 523, 525, 526, 527, 529, 530, 531, 532, 533, 534, 535, 537, 538, 539, 541, 542, 543, 544, 545, 547, 548, 549, 550, 552, 555, 556, 557, 558, 560, 561, 562, 563, 564, 565, 566, 568, 570, 576, 578, 581, 583, 585, 586, 587, 588, 592, 593, 594, 595, 596, 597, 599, 600, 601, 602, 603, 604, 605, 606, 607, 608, 609, 610, 611, 612, 613, 614, 615, 616, 617, 618, 619, 620, 621]\n"
     ]
    }
   ],
   "source": [
    "print(lista_cod_cos)"
   ]
  },
  {
   "cell_type": "code",
   "execution_count": 36,
   "id": "2a967a45-2a0e-4208-9f9d-ca47f327a8d2",
   "metadata": {},
   "outputs": [],
   "source": [
    "\n",
    "lista_cod_cos = [20]\n"
   ]
  },
  {
   "cell_type": "code",
   "execution_count": 37,
   "id": "35c4f4e8-e2a1-43f4-b675-1d3a554e6e26",
   "metadata": {},
   "outputs": [],
   "source": [
    "path_grupos = r'C:\\Documents\\Ingenio Azucarero Guabira S.A\\UTEA - SEMANAL - AVANCE COSECHA\\2025\\ESTIMATIVAS\\_DATA_ENVIAR\\tablas_cod_cos'\n",
    "path_props = r'C:\\Documents\\Ingenio Azucarero Guabira S.A\\UTEA - SEMANAL - AVANCE COSECHA\\2025\\ESTIMATIVAS\\_DATA_ENVIAR\\tablas_est'\n",
    "\n",
    "path_props_est = r'C:\\Documents\\Ingenio Azucarero Guabira S.A\\UTEA - SEMANAL - AVANCE COSECHA\\2025\\ESTIMATIVAS\\_DATA_ENVIAR\\PROPS_ESTIMATIVA.xlsx'"
   ]
  },
  {
   "cell_type": "code",
   "execution_count": 38,
   "id": "389fa474-c0e6-4c15-a58c-49dd9f3a3142",
   "metadata": {},
   "outputs": [
    {
     "data": {
      "text/html": [
       "<div>\n",
       "<style scoped>\n",
       "    .dataframe tbody tr th:only-of-type {\n",
       "        vertical-align: middle;\n",
       "    }\n",
       "\n",
       "    .dataframe tbody tr th {\n",
       "        vertical-align: top;\n",
       "    }\n",
       "\n",
       "    .dataframe thead th {\n",
       "        text-align: right;\n",
       "    }\n",
       "</style>\n",
       "<table border=\"1\" class=\"dataframe\">\n",
       "  <thead>\n",
       "    <tr style=\"text-align: right;\">\n",
       "      <th></th>\n",
       "      <th>cod_cos</th>\n",
       "      <th>cod_prop</th>\n",
       "      <th>nom_prop</th>\n",
       "      <th>area</th>\n",
       "      <th>tch</th>\n",
       "      <th>produccion</th>\n",
       "      <th>link</th>\n",
       "    </tr>\n",
       "  </thead>\n",
       "  <tbody>\n",
       "    <tr>\n",
       "      <th>0</th>\n",
       "      <td>1</td>\n",
       "      <td>17</td>\n",
       "      <td>LA ESTACADA--OLGUITA</td>\n",
       "      <td>577.839554</td>\n",
       "      <td>56.943315</td>\n",
       "      <td>32904.099663</td>\n",
       "      <td>https://drive.google.com/file/d/1yrbRvpqvjRk4E...</td>\n",
       "    </tr>\n",
       "    <tr>\n",
       "      <th>1</th>\n",
       "      <td>1</td>\n",
       "      <td>1696</td>\n",
       "      <td>LOUISIANA--GARCIA FERNANDO</td>\n",
       "      <td>16.166114</td>\n",
       "      <td>52.179761</td>\n",
       "      <td>843.543961</td>\n",
       "      <td>https://drive.google.com/file/d/1-FDMBCohMRmj7...</td>\n",
       "    </tr>\n",
       "    <tr>\n",
       "      <th>2</th>\n",
       "      <td>1</td>\n",
       "      <td>1748</td>\n",
       "      <td>ETORE--AGUILERA OLGA</td>\n",
       "      <td>15.517668</td>\n",
       "      <td>54.705443</td>\n",
       "      <td>848.900879</td>\n",
       "      <td>https://drive.google.com/file/d/1z4wQsiHcj5x6E...</td>\n",
       "    </tr>\n",
       "  </tbody>\n",
       "</table>\n",
       "</div>"
      ],
      "text/plain": [
       "   cod_cos  cod_prop                    nom_prop        area        tch  \\\n",
       "0        1        17        LA ESTACADA--OLGUITA  577.839554  56.943315   \n",
       "1        1      1696  LOUISIANA--GARCIA FERNANDO   16.166114  52.179761   \n",
       "2        1      1748        ETORE--AGUILERA OLGA   15.517668  54.705443   \n",
       "\n",
       "     produccion                                               link  \n",
       "0  32904.099663  https://drive.google.com/file/d/1yrbRvpqvjRk4E...  \n",
       "1    843.543961  https://drive.google.com/file/d/1-FDMBCohMRmj7...  \n",
       "2    848.900879  https://drive.google.com/file/d/1z4wQsiHcj5x6E...  "
      ]
     },
     "execution_count": 38,
     "metadata": {},
     "output_type": "execute_result"
    }
   ],
   "source": [
    "df_props_est = pd.read_excel(path_props_est)\n",
    "df_props_est.head(3)"
   ]
  },
  {
   "cell_type": "code",
   "execution_count": 39,
   "id": "34a27e57-0611-4cfa-ba35-e36be9351625",
   "metadata": {},
   "outputs": [],
   "source": [
    "msj = f'''🌾 Hola, productor/a cañero/a 🌾\n",
    "\n",
    "Le enviamos la estimación satelital preliminar para planificar su zafra 2025:\n",
    "\n",
    "✅ Contenido enviado:\n",
    "1️⃣ Grupo de trabajo/familiar asignado (ver tabla adjunta).\n",
    "2️⃣ Listado de sus propiedades con estimación de producción.\n",
    "3️⃣ Enlaces a planos digitales de las propiedades.\n",
    "\n",
    "⚠️ Importante:\n",
    "Esta proyección puede variar por clima, plagas u otros factores. Es una guía para optimizar su cosecha iniciando por lotes con menos cortes y productivos a lotes de menor rendimiento.\n",
    "\n",
    "🗣️ ¿Ve diferencias en los datos?\n",
    "¡Su experiencia nos ayuda a mejorar! Reporte observaciones:\n",
    "\n",
    "Áreas no registradas.\n",
    "Rendimientos históricos distintos.\n",
    "\n",
    "📲 Contáctenos:\n",
    "WhatsApp: 78194371 (envíe fotos/ubicación).\n",
    "(Lunes a Viernes , 8:00am - 4:30pm).\n",
    "\n",
    "Gracias por colaborar. ¡Juntos por una zafra exitosa! 🚜\n",
    "'''"
   ]
  },
  {
   "cell_type": "code",
   "execution_count": null,
   "id": "371828bd-9ee5-4431-8376-3579c05bc855",
   "metadata": {},
   "outputs": [],
   "source": []
  },
  {
   "cell_type": "code",
   "execution_count": null,
   "id": "3b0f6fbb-9cf6-469e-843a-e51fb45e8860",
   "metadata": {},
   "outputs": [],
   "source": []
  },
  {
   "cell_type": "code",
   "execution_count": null,
   "id": "01daba5f-3638-4e05-a544-54c2160cb4ef",
   "metadata": {},
   "outputs": [],
   "source": []
  },
  {
   "cell_type": "code",
   "execution_count": 40,
   "id": "863ec0a9-0ed9-4e44-b985-d9a8c684219a",
   "metadata": {},
   "outputs": [
    {
     "name": "stdout",
     "output_type": "stream",
     "text": [
      "Mensaje enviado a grupo: 20\n"
     ]
    }
   ],
   "source": [
    "for i in lista_cod_cos:\n",
    "    grupo = i\n",
    "    grupo_cos = df_cod_cos[df_cod_cos['cod_cos']==grupo]\n",
    "    cels = list(set(grupo_cos['cel']))\n",
    "    cels = [cel for cel in cels if len(str(cel)) == 8]\n",
    "    if len(cels) == 0:\n",
    "        continue\n",
    "    for cel in cels:\n",
    "        file_name = f'{grupo}.png'\n",
    "        ruta_grupo = os.path.join(path_grupos, file_name)\n",
    "        ruta_props = os.path.join(path_props, file_name)\n",
    "        \n",
    "        sendMessage(str(cel), msj)\n",
    "        sendImage(str(cel), 'Grupo de trabajo o familiar', ruta_grupo)\n",
    "        sendImage(str(cel), 'Lista de propiedades del grupo', ruta_props)\n",
    "        \n",
    "        props = df_props_est[df_props_est['cod_cos'] == grupo]\n",
    "        for idx, row in props.iterrows():\n",
    "            msj2 = f'''PROPIEDAD: {row['nom_prop']}\\\n",
    "                    {row['link']}'''\n",
    "            sendMessage(str(cel), msj2)\n",
    "    print('Mensaje enviado a grupo: ' + str(i))"
   ]
  },
  {
   "cell_type": "code",
   "execution_count": null,
   "id": "cc79aa97-f374-44d7-ac23-0e81be717151",
   "metadata": {},
   "outputs": [],
   "source": []
  },
  {
   "cell_type": "code",
   "execution_count": null,
   "id": "aafb5023-27fe-48e7-8bc2-91cc77b7b90a",
   "metadata": {},
   "outputs": [],
   "source": []
  },
  {
   "cell_type": "code",
   "execution_count": null,
   "id": "c97838cb-ee48-48fd-8ec0-ef55d8d97e1c",
   "metadata": {},
   "outputs": [],
   "source": []
  },
  {
   "cell_type": "code",
   "execution_count": null,
   "id": "a24e41a0-020f-4a35-8e07-8cdee04eb789",
   "metadata": {},
   "outputs": [],
   "source": []
  },
  {
   "cell_type": "code",
   "execution_count": null,
   "id": "363f691c-e863-4159-b32b-8de5bc914ecf",
   "metadata": {},
   "outputs": [],
   "source": []
  },
  {
   "cell_type": "code",
   "execution_count": 112,
   "id": "45867fae-61c5-43b4-9514-5c382a320814",
   "metadata": {},
   "outputs": [
    {
     "data": {
      "text/plain": [
       "30"
      ]
     },
     "execution_count": 112,
     "metadata": {},
     "output_type": "execute_result"
    }
   ],
   "source": [
    "grupo = lista_cod_cos[28]\n",
    "grupo"
   ]
  },
  {
   "cell_type": "code",
   "execution_count": 113,
   "id": "af467f65-a8cd-4f85-a2c0-88873aae2289",
   "metadata": {},
   "outputs": [
    {
     "data": {
      "text/html": [
       "<div>\n",
       "<style scoped>\n",
       "    .dataframe tbody tr th:only-of-type {\n",
       "        vertical-align: middle;\n",
       "    }\n",
       "\n",
       "    .dataframe tbody tr th {\n",
       "        vertical-align: top;\n",
       "    }\n",
       "\n",
       "    .dataframe thead th {\n",
       "        text-align: right;\n",
       "    }\n",
       "</style>\n",
       "<table border=\"1\" class=\"dataframe\">\n",
       "  <thead>\n",
       "    <tr style=\"text-align: right;\">\n",
       "      <th></th>\n",
       "      <th>cod_ca</th>\n",
       "      <th>nom_ca</th>\n",
       "      <th>cod_cos</th>\n",
       "      <th>inst</th>\n",
       "      <th>cel</th>\n",
       "    </tr>\n",
       "  </thead>\n",
       "  <tbody>\n",
       "    <tr>\n",
       "      <th>80</th>\n",
       "      <td>75</td>\n",
       "      <td>AGUILERA TARADELLES NELSON MARIANO</td>\n",
       "      <td>30</td>\n",
       "      <td>50</td>\n",
       "      <td>76007500</td>\n",
       "    </tr>\n",
       "    <tr>\n",
       "      <th>81</th>\n",
       "      <td>577</td>\n",
       "      <td>AGUILERA MARIA INGRID WENDE DE</td>\n",
       "      <td>30</td>\n",
       "      <td>50</td>\n",
       "      <td>77168873</td>\n",
       "    </tr>\n",
       "    <tr>\n",
       "      <th>82</th>\n",
       "      <td>794</td>\n",
       "      <td>AGUILERA WENDE MARIANO</td>\n",
       "      <td>30</td>\n",
       "      <td>50</td>\n",
       "      <td>75645390</td>\n",
       "    </tr>\n",
       "    <tr>\n",
       "      <th>83</th>\n",
       "      <td>8005</td>\n",
       "      <td>AGUILERA WENDE MARIA INGRID</td>\n",
       "      <td>30</td>\n",
       "      <td>50</td>\n",
       "      <td>77168873</td>\n",
       "    </tr>\n",
       "    <tr>\n",
       "      <th>84</th>\n",
       "      <td>41715</td>\n",
       "      <td>VACA DIEZ UGARTE NICOLAS</td>\n",
       "      <td>30</td>\n",
       "      <td>50</td>\n",
       "      <td>0</td>\n",
       "    </tr>\n",
       "  </tbody>\n",
       "</table>\n",
       "</div>"
      ],
      "text/plain": [
       "    cod_ca                              nom_ca  cod_cos  inst       cel\n",
       "80      75  AGUILERA TARADELLES NELSON MARIANO       30    50  76007500\n",
       "81     577      AGUILERA MARIA INGRID WENDE DE       30    50  77168873\n",
       "82     794              AGUILERA WENDE MARIANO       30    50  75645390\n",
       "83    8005         AGUILERA WENDE MARIA INGRID       30    50  77168873\n",
       "84   41715            VACA DIEZ UGARTE NICOLAS       30    50         0"
      ]
     },
     "execution_count": 113,
     "metadata": {},
     "output_type": "execute_result"
    }
   ],
   "source": [
    "grupo_cos = df_cod_cos[df_cod_cos['cod_cos']==grupo]\n",
    "grupo_cos"
   ]
  },
  {
   "cell_type": "code",
   "execution_count": 114,
   "id": "b72a68eb-d46a-45e0-8e2f-de2ea3638b78",
   "metadata": {},
   "outputs": [
    {
     "data": {
      "text/plain": [
       "[77168873, 76007500, 75645390]"
      ]
     },
     "execution_count": 114,
     "metadata": {},
     "output_type": "execute_result"
    }
   ],
   "source": [
    "cels = list(set(grupo_cos['cel']))\n",
    "cels = [cel for cel in cels if len(str(cel)) == 8]\n",
    "cels"
   ]
  },
  {
   "cell_type": "code",
   "execution_count": 115,
   "id": "b92ec69f-ac56-4b67-b913-8f7a30c99c33",
   "metadata": {},
   "outputs": [
    {
     "data": {
      "text/plain": [
       "[75380725]"
      ]
     },
     "execution_count": 115,
     "metadata": {},
     "output_type": "execute_result"
    }
   ],
   "source": [
    "cels = [75380725]\n",
    "cels"
   ]
  },
  {
   "cell_type": "code",
   "execution_count": 116,
   "id": "7e37d308-6f5f-4466-91e4-247e9d73727a",
   "metadata": {},
   "outputs": [],
   "source": [
    "path_grupos = r'C:\\Documents\\Ingenio Azucarero Guabira S.A\\UTEA - SEMANAL - AVANCE COSECHA\\2025\\ESTIMATIVAS\\_DATA_ENVIAR\\tablas_cod_cos'\n",
    "path_props = r'C:\\Documents\\Ingenio Azucarero Guabira S.A\\UTEA - SEMANAL - AVANCE COSECHA\\2025\\ESTIMATIVAS\\_DATA_ENVIAR\\tablas_est'\n",
    "\n",
    "path_props_est = r'C:\\Documents\\Ingenio Azucarero Guabira S.A\\UTEA - SEMANAL - AVANCE COSECHA\\2025\\ESTIMATIVAS\\_DATA_ENVIAR\\PROPS_ESTIMATIVA.xlsx'"
   ]
  },
  {
   "cell_type": "code",
   "execution_count": 117,
   "id": "2090ab22-d4e8-4d10-ba70-685d2536e455",
   "metadata": {},
   "outputs": [],
   "source": [
    "msj = f'''🌾 Hola, productor/a cañero/a 🌾\n",
    "\n",
    "Le enviamos la estimación satelital preliminar para planificar su zafra 2025:\n",
    "\n",
    "✅ Contenido enviado:\n",
    "1️⃣ Grupo de trabajo/familiar asignado (ver tabla adjunta).\n",
    "2️⃣ Listado de sus propiedades con estimación de producción.\n",
    "3️⃣ Enlaces a planos digitales: Propiedad 1 | Propiedad 2 (personalizar).\n",
    "\n",
    "⚠️ Importante:\n",
    "Esta proyección puede variar por clima, plagas u otros factores. Es una guía para optimizar su cosecha iniciando por lotes con menos cortes y productivos a lotes de menor rendimiento.\n",
    "\n",
    "🗣️ ¿Ve diferencias en los datos?\n",
    "¡Su experiencia nos ayuda a mejorar! Reporte observaciones:\n",
    "\n",
    "Áreas no registradas.\n",
    "Rendimientos históricos distintos.\n",
    "\n",
    "📲 Contáctenos:\n",
    "WhatsApp: 78194371 (envíe fotos/ubicación).\n",
    "Llamadas: (Lunes a Viernes , 8:00am - 4:30pm).\n",
    "\n",
    "Gracias por colaborar. ¡Juntos por una zafra exitosa! 🚜\n",
    "'''"
   ]
  },
  {
   "cell_type": "code",
   "execution_count": 118,
   "id": "70d82b6c-cb4b-474d-bf5d-9a738d0d3e9b",
   "metadata": {},
   "outputs": [
    {
     "data": {
      "text/html": [
       "<div>\n",
       "<style scoped>\n",
       "    .dataframe tbody tr th:only-of-type {\n",
       "        vertical-align: middle;\n",
       "    }\n",
       "\n",
       "    .dataframe tbody tr th {\n",
       "        vertical-align: top;\n",
       "    }\n",
       "\n",
       "    .dataframe thead th {\n",
       "        text-align: right;\n",
       "    }\n",
       "</style>\n",
       "<table border=\"1\" class=\"dataframe\">\n",
       "  <thead>\n",
       "    <tr style=\"text-align: right;\">\n",
       "      <th></th>\n",
       "      <th>cod_cos</th>\n",
       "      <th>cod_prop</th>\n",
       "      <th>nom_prop</th>\n",
       "      <th>area</th>\n",
       "      <th>tch</th>\n",
       "      <th>produccion</th>\n",
       "      <th>link</th>\n",
       "    </tr>\n",
       "  </thead>\n",
       "  <tbody>\n",
       "    <tr>\n",
       "      <th>0</th>\n",
       "      <td>1</td>\n",
       "      <td>17</td>\n",
       "      <td>LA ESTACADA--OLGUITA</td>\n",
       "      <td>577.839554</td>\n",
       "      <td>56.943315</td>\n",
       "      <td>32904.099663</td>\n",
       "      <td>https://drive.google.com/file/d/1yrbRvpqvjRk4E...</td>\n",
       "    </tr>\n",
       "    <tr>\n",
       "      <th>1</th>\n",
       "      <td>1</td>\n",
       "      <td>1696</td>\n",
       "      <td>LOUISIANA--GARCIA FERNANDO</td>\n",
       "      <td>16.166114</td>\n",
       "      <td>52.179761</td>\n",
       "      <td>843.543961</td>\n",
       "      <td>https://drive.google.com/file/d/1-FDMBCohMRmj7...</td>\n",
       "    </tr>\n",
       "    <tr>\n",
       "      <th>2</th>\n",
       "      <td>1</td>\n",
       "      <td>1748</td>\n",
       "      <td>ETORE--AGUILERA OLGA</td>\n",
       "      <td>15.517668</td>\n",
       "      <td>54.705443</td>\n",
       "      <td>848.900879</td>\n",
       "      <td>https://drive.google.com/file/d/1z4wQsiHcj5x6E...</td>\n",
       "    </tr>\n",
       "  </tbody>\n",
       "</table>\n",
       "</div>"
      ],
      "text/plain": [
       "   cod_cos  cod_prop                    nom_prop        area        tch  \\\n",
       "0        1        17        LA ESTACADA--OLGUITA  577.839554  56.943315   \n",
       "1        1      1696  LOUISIANA--GARCIA FERNANDO   16.166114  52.179761   \n",
       "2        1      1748        ETORE--AGUILERA OLGA   15.517668  54.705443   \n",
       "\n",
       "     produccion                                               link  \n",
       "0  32904.099663  https://drive.google.com/file/d/1yrbRvpqvjRk4E...  \n",
       "1    843.543961  https://drive.google.com/file/d/1-FDMBCohMRmj7...  \n",
       "2    848.900879  https://drive.google.com/file/d/1z4wQsiHcj5x6E...  "
      ]
     },
     "execution_count": 118,
     "metadata": {},
     "output_type": "execute_result"
    }
   ],
   "source": [
    "df_props_est = pd.read_excel(path_props_est)\n",
    "df_props_est.head(3)"
   ]
  },
  {
   "cell_type": "code",
   "execution_count": 119,
   "id": "4198e92c-62ae-4e8b-93cc-2b9e08222a44",
   "metadata": {},
   "outputs": [
    {
     "data": {
      "text/html": [
       "<div>\n",
       "<style scoped>\n",
       "    .dataframe tbody tr th:only-of-type {\n",
       "        vertical-align: middle;\n",
       "    }\n",
       "\n",
       "    .dataframe tbody tr th {\n",
       "        vertical-align: top;\n",
       "    }\n",
       "\n",
       "    .dataframe thead th {\n",
       "        text-align: right;\n",
       "    }\n",
       "</style>\n",
       "<table border=\"1\" class=\"dataframe\">\n",
       "  <thead>\n",
       "    <tr style=\"text-align: right;\">\n",
       "      <th></th>\n",
       "      <th>cod_cos</th>\n",
       "      <th>cod_prop</th>\n",
       "      <th>nom_prop</th>\n",
       "      <th>area</th>\n",
       "      <th>tch</th>\n",
       "      <th>produccion</th>\n",
       "      <th>link</th>\n",
       "    </tr>\n",
       "  </thead>\n",
       "  <tbody>\n",
       "    <tr>\n",
       "      <th>67</th>\n",
       "      <td>30</td>\n",
       "      <td>216</td>\n",
       "      <td>LA ESTACADA--AGUILERA</td>\n",
       "      <td>220.117876</td>\n",
       "      <td>77.654121</td>\n",
       "      <td>17093.060143</td>\n",
       "      <td>https://drive.google.com/file/d/1LhdiIhb4mHWYH...</td>\n",
       "    </tr>\n",
       "    <tr>\n",
       "      <th>68</th>\n",
       "      <td>30</td>\n",
       "      <td>217</td>\n",
       "      <td>FLAMBOYAN--AGUILERA</td>\n",
       "      <td>181.555363</td>\n",
       "      <td>77.068734</td>\n",
       "      <td>13992.241996</td>\n",
       "      <td>https://drive.google.com/file/d/1jETELaAdyFUQQ...</td>\n",
       "    </tr>\n",
       "    <tr>\n",
       "      <th>69</th>\n",
       "      <td>30</td>\n",
       "      <td>256</td>\n",
       "      <td>LOS ANDES--AGUILERA</td>\n",
       "      <td>509.721979</td>\n",
       "      <td>81.759225</td>\n",
       "      <td>41674.473997</td>\n",
       "      <td>https://drive.google.com/file/d/1M7SSCotAysMA4...</td>\n",
       "    </tr>\n",
       "  </tbody>\n",
       "</table>\n",
       "</div>"
      ],
      "text/plain": [
       "    cod_cos  cod_prop               nom_prop        area        tch  \\\n",
       "67       30       216  LA ESTACADA--AGUILERA  220.117876  77.654121   \n",
       "68       30       217    FLAMBOYAN--AGUILERA  181.555363  77.068734   \n",
       "69       30       256    LOS ANDES--AGUILERA  509.721979  81.759225   \n",
       "\n",
       "      produccion                                               link  \n",
       "67  17093.060143  https://drive.google.com/file/d/1LhdiIhb4mHWYH...  \n",
       "68  13992.241996  https://drive.google.com/file/d/1jETELaAdyFUQQ...  \n",
       "69  41674.473997  https://drive.google.com/file/d/1M7SSCotAysMA4...  "
      ]
     },
     "execution_count": 119,
     "metadata": {},
     "output_type": "execute_result"
    }
   ],
   "source": [
    "props = df_props_est[df_props_est['cod_cos'] == grupo]\n",
    "props"
   ]
  },
  {
   "cell_type": "code",
   "execution_count": null,
   "id": "364a2288-1aff-4972-9505-a91cb946d95f",
   "metadata": {},
   "outputs": [],
   "source": []
  },
  {
   "cell_type": "code",
   "execution_count": 120,
   "id": "90e6269a-da9a-4d7f-b228-7207689b91a9",
   "metadata": {},
   "outputs": [
    {
     "name": "stdout",
     "output_type": "stream",
     "text": [
      "{\"key\":{\"remoteJid\":\"59175380725@s.whatsapp.net\",\"fromMe\":true,\"id\":\"3EB03A522174F7EC29098C9839D3504CC2124585\"},\"pushName\":\"\",\"status\":\"PENDING\",\"message\":{\"conversation\":\"🌾 Hola, productor/a cañero/a 🌾\\n\\nLe enviamos la estimación satelital preliminar para planificar su zafra 2025:\\n\\n✅ Contenido enviado:\\n1️⃣ Grupo de trabajo/familiar asignado (ver tabla adjunta).\\n2️⃣ Listado de sus propiedades con estimación de producción.\\n3️⃣ Enlaces a planos digitales: Propiedad 1 | Propiedad 2 (personalizar).\\n\\n⚠️ Importante:\\nEsta proyección puede variar por clima, plagas u otros factores. Es una guía para optimizar su cosecha iniciando por lotes con menos cortes y productivos a lotes de menor rendimiento.\\n\\n🗣️ ¿Ve diferencias en los datos?\\n¡Su experiencia nos ayuda a mejorar! Reporte observaciones:\\n\\nÁreas no registradas.\\nRendimientos históricos distintos.\\n\\n📲 Contáctenos:\\nWhatsApp: 78194371 (envíe fotos/ubicación).\\nLlamadas: (Lunes a Viernes , 8:00am - 4:30pm).\\n\\nGracias por colaborar. ¡Juntos por una zafra exitosa! 🚜\\n\"},\"contextInfo\":null,\"messageType\":\"conversation\",\"messageTimestamp\":1742827084,\"instanceId\":\"edc5f976-93a2-4c12-bcab-7f9c14e4d098\",\"source\":\"unknown\"}\n",
      "201 {\"key\":{\"remoteJid\":\"59175380725@s.whatsapp.net\",\"fromMe\":true,\"id\":\"3EB06E318991B39117B8176E0F81CBBD7C704A53\"},\"pushName\":\"\",\"status\":\"PENDING\",\"message\":{\"imageMessage\":{\"url\":\"https://mmg.whatsapp.net/o1/v/t62.7118-24/f2/m233/AQOInpYiIDSmA5I5OZTJKDryJDHWaDhqUrTQMLOuEPjz6fr8yCGeMLSRGzZeiHnBK8F-xmWmRne_4xtsm-fuPCWXb2cCNNGmvEK74HreJQ?ccb=9-4&oh=01_Q5AaIVh3MVPYXACHBzMCE1i2DsM6MTVPz2VDvmy0TcV6c85I&oe=6808F8A0&_nc_sid=e6ed6c&mms3=true\",\"mimetype\":\"image/png\",\"caption\":\"Grupo de trabajo o familiar\",\"fileSha256\":\"i0Hcdm/cXdRG/RrgpK3RzGRmNhziWO/oAnT2ugSFlS0=\",\"fileLength\":\"70888\",\"height\":420,\"width\":1613,\"mediaKey\":\"lZ/lRCYlHdtC+PALWpavsrj1aX6PWnuOR2/CkQo3ZK4=\",\"fileEncSha256\":\"cCPtf+JsLyixLgrSv4FRXdBoi5X9VcYgpE3KtvQ8uRs=\",\"directPath\":\"/o1/v/t62.7118-24/f2/m233/AQOInpYiIDSmA5I5OZTJKDryJDHWaDhqUrTQMLOuEPjz6fr8yCGeMLSRGzZeiHnBK8F-xmWmRne_4xtsm-fuPCWXb2cCNNGmvEK74HreJQ?ccb=9-4&oh=01_Q5AaIVh3MVPYXACHBzMCE1i2DsM6MTVPz2VDvmy0TcV6c85I&oe=6808F8A0&_nc_sid=e6ed6c\",\"mediaKeyTimestamp\":\"1742827085\",\"jpegThumbnail\":\"/9j/2wBDABALDA4MChAODQ4SERATGCgaGBYWGDEjJR0oOjM9PDkzODdASFxOQERXRTc4UG1RV19iZ2hnPk1xeXBkeFxlZ2P/2wBDARESEhgVGC8aGi9jQjhCY2NjY2NjY2NjY2NjY2NjY2NjY2NjY2NjY2NjY2NjY2NjY2NjY2NjY2NjY2NjY2NjY2P/wAARCAAIACADASIAAhEBAxEB/8QAGAABAAMBAAAAAAAAAAAAAAAAAAIDBAb/xAAhEAABBAEDBQAAAAAAAAAAAAABAAIDERITMVEEITJBof/EABQBAQAAAAAAAAAAAAAAAAAAAAD/xAAUEQEAAAAAAAAAAAAAAAAAAAAA/9oADAMBAAIRAxEAPwDrnMOTzcm1+R3tQLp2QM09QH3dk/URBQR1Jc43N3PJW2IS4gvkeTwURB//2Q==\",\"contextInfo\":{}}},\"contextInfo\":{},\"messageType\":\"imageMessage\",\"messageTimestamp\":1742827085,\"instanceId\":\"edc5f976-93a2-4c12-bcab-7f9c14e4d098\",\"source\":\"unknown\"}\n",
      "201 {\"key\":{\"remoteJid\":\"59175380725@s.whatsapp.net\",\"fromMe\":true,\"id\":\"3EB01C0060A56573B13B859D4AD26DA022E3CFE0\"},\"pushName\":\"\",\"status\":\"PENDING\",\"message\":{\"imageMessage\":{\"url\":\"https://mmg.whatsapp.net/o1/v/t62.7118-24/f2/m231/AQOEbmxKO7jvOQEAH0QsxlIJCE_p2i5tTkXHvk9WKOUzarKZJSYj8XLJI1FEUnVcGBHu1bHiRex0wGdPRdGmm_FLHHWYb5-Jc3rwgwa6_Q?ccb=9-4&oh=01_Q5AaIeVBJNSzRmtFZfKIxLt8zH3r65YoCMr2ViXyjgQ77Bhh&oe=6808E135&_nc_sid=e6ed6c&mms3=true\",\"mimetype\":\"image/png\",\"caption\":\"Lista de propiedades del grupo\",\"fileSha256\":\"AqUPCoO3GLGgVfHkfTNnB0APej82Js+7yxEsFjXrbjc=\",\"fileLength\":\"64495\",\"height\":324,\"width\":1620,\"mediaKey\":\"2ocWH0vScxLYp27eRRvlMHHztTFOAAK5uWtlGZk4Q+I=\",\"fileEncSha256\":\"UfiDa/5FvK8GRT9WPnw7tOgiwiXveFAp1lUdPWAMiNw=\",\"directPath\":\"/o1/v/t62.7118-24/f2/m231/AQOEbmxKO7jvOQEAH0QsxlIJCE_p2i5tTkXHvk9WKOUzarKZJSYj8XLJI1FEUnVcGBHu1bHiRex0wGdPRdGmm_FLHHWYb5-Jc3rwgwa6_Q?ccb=9-4&oh=01_Q5AaIeVBJNSzRmtFZfKIxLt8zH3r65YoCMr2ViXyjgQ77Bhh&oe=6808E135&_nc_sid=e6ed6c\",\"mediaKeyTimestamp\":\"1742827086\",\"jpegThumbnail\":\"/9j/2wBDABALDA4MChAODQ4SERATGCgaGBYWGDEjJR0oOjM9PDkzODdASFxOQERXRTc4UG1RV19iZ2hnPk1xeXBkeFxlZ2P/2wBDARESEhgVGC8aGi9jQjhCY2NjY2NjY2NjY2NjY2NjY2NjY2NjY2NjY2NjY2NjY2NjY2NjY2NjY2NjY2NjY2NjY2P/wAARCAAGACADASIAAhEBAxEB/8QAFwABAQEBAAAAAAAAAAAAAAAAAAIEBv/EAB4QAAIDAAIDAQAAAAAAAAAAAAECAAMREiEEE0GR/8QAFAEBAAAAAAAAAAAAAAAAAAAAAP/EABQRAQAAAAAAAAAAAAAAAAAAAAD/2gAMAwEAAhEDEQA/AOy9CglwijofszV1HyWscZ0eJ5ExECrUZHrRjrZgOk/ZF6rWyoVG4exEQP/Z\",\"contextInfo\":{}}},\"contextInfo\":{},\"messageType\":\"imageMessage\",\"messageTimestamp\":1742827086,\"instanceId\":\"edc5f976-93a2-4c12-bcab-7f9c14e4d098\",\"source\":\"unknown\"}\n",
      "{\"key\":{\"remoteJid\":\"59175380725@s.whatsapp.net\",\"fromMe\":true,\"id\":\"3EB0D5CCBEB8C74E3BC6A52B7E061F33BAEAC055\"},\"pushName\":\"\",\"status\":\"PENDING\",\"message\":{\"conversation\":\"PROPIRDAD: LA ESTACADA--AGUILERA                    https://drive.google.com/file/d/1LhdiIhb4mHWYHV9Yif7jO8IH3a9uIw7y/view?usp=drivesdk\"},\"contextInfo\":null,\"messageType\":\"conversation\",\"messageTimestamp\":1742827090,\"instanceId\":\"edc5f976-93a2-4c12-bcab-7f9c14e4d098\",\"source\":\"unknown\"}\n",
      "{\"key\":{\"remoteJid\":\"59175380725@s.whatsapp.net\",\"fromMe\":true,\"id\":\"3EB0F110A5E65F2F234916D4840875BE02AC98AA\"},\"pushName\":\"\",\"status\":\"PENDING\",\"message\":{\"conversation\":\"PROPIRDAD: FLAMBOYAN--AGUILERA                    https://drive.google.com/file/d/1jETELaAdyFUQQXZQMlWjJHAXWJn-hBww/view?usp=drivesdk\"},\"contextInfo\":null,\"messageType\":\"conversation\",\"messageTimestamp\":1742827095,\"instanceId\":\"edc5f976-93a2-4c12-bcab-7f9c14e4d098\",\"source\":\"unknown\"}\n",
      "{\"key\":{\"remoteJid\":\"59175380725@s.whatsapp.net\",\"fromMe\":true,\"id\":\"3EB0D8BCDC77F54FD389E3DF24263F93B0037D2E\"},\"pushName\":\"\",\"status\":\"PENDING\",\"message\":{\"conversation\":\"PROPIRDAD: LOS ANDES--AGUILERA                    https://drive.google.com/file/d/1M7SSCotAysMA45PZTryGh115u58FYS3y/view?usp=drivesdk\"},\"contextInfo\":null,\"messageType\":\"conversation\",\"messageTimestamp\":1742827099,\"instanceId\":\"edc5f976-93a2-4c12-bcab-7f9c14e4d098\",\"source\":\"unknown\"}\n"
     ]
    }
   ],
   "source": [
    "for cel in cels:\n",
    "        file_name = f'{grupo}.png'\n",
    "        ruta_grupo = os.path.join(path_grupos, file_name)\n",
    "        ruta_props = os.path.join(path_props, file_name)\n",
    "        \n",
    "        sendMessage(str(cel), msj)\n",
    "        sendImage(str(cel), 'Grupo de trabajo o familiar', ruta_grupo)\n",
    "        sendImage(str(cel), 'Lista de propiedades del grupo', ruta_props)\n",
    "        \n",
    "        props = df_props_est[df_props_est['cod_cos'] == grupo]\n",
    "        for idx, row in props.iterrows():\n",
    "            msj = f'''PROPIEDAD: {row['nom_prop']}\\\n",
    "                    {row['link']}'''\n",
    "            sendMessage(str(cel), msj)"
   ]
  },
  {
   "cell_type": "code",
   "execution_count": null,
   "id": "1cbc2f44-16ff-4949-9de2-7cfc4d6fcb48",
   "metadata": {},
   "outputs": [],
   "source": []
  },
  {
   "cell_type": "code",
   "execution_count": null,
   "id": "6bc8fea1-7b10-44d7-97b0-6ad53d8517b2",
   "metadata": {},
   "outputs": [],
   "source": []
  },
  {
   "cell_type": "code",
   "execution_count": null,
   "id": "61e703b7-fd45-470f-979d-e901ba485f1d",
   "metadata": {},
   "outputs": [],
   "source": []
  },
  {
   "cell_type": "code",
   "execution_count": null,
   "id": "d4ef7ead-5069-481e-b078-f7ce67086c9e",
   "metadata": {},
   "outputs": [],
   "source": []
  },
  {
   "cell_type": "code",
   "execution_count": null,
   "id": "0e38243e-1972-432e-8821-073c5a527fa2",
   "metadata": {},
   "outputs": [],
   "source": []
  },
  {
   "cell_type": "code",
   "execution_count": null,
   "id": "171523e0-a796-4132-ac55-7e059cddf514",
   "metadata": {},
   "outputs": [],
   "source": []
  },
  {
   "cell_type": "code",
   "execution_count": null,
   "id": "b16ce72a-bb3e-4b09-b186-582725b78e34",
   "metadata": {},
   "outputs": [],
   "source": []
  },
  {
   "cell_type": "code",
   "execution_count": null,
   "id": "cddffac0-09b4-405c-ae87-a6ec86dc2a62",
   "metadata": {},
   "outputs": [],
   "source": []
  },
  {
   "cell_type": "code",
   "execution_count": null,
   "id": "614c4880-e2f4-41c0-9465-c7c5c8b8e598",
   "metadata": {},
   "outputs": [],
   "source": []
  },
  {
   "cell_type": "code",
   "execution_count": null,
   "id": "3fc6a391-251d-4628-b9ae-5bd9a8ce94f8",
   "metadata": {},
   "outputs": [],
   "source": []
  },
  {
   "cell_type": "code",
   "execution_count": null,
   "id": "4e4a6a03-e477-4fa5-b437-dee523353c6d",
   "metadata": {},
   "outputs": [],
   "source": []
  },
  {
   "cell_type": "code",
   "execution_count": null,
   "id": "582b44aa-6a08-42ce-bfcb-55b72f1194b7",
   "metadata": {},
   "outputs": [],
   "source": []
  },
  {
   "cell_type": "code",
   "execution_count": null,
   "id": "0a2575de-eaf4-463c-b5f1-dcb766cbf201",
   "metadata": {},
   "outputs": [],
   "source": []
  }
 ],
 "metadata": {
  "kernelspec": {
   "display_name": "Python 3 (ipykernel)",
   "language": "python",
   "name": "python3"
  },
  "language_info": {
   "codemirror_mode": {
    "name": "ipython",
    "version": 3
   },
   "file_extension": ".py",
   "mimetype": "text/x-python",
   "name": "python",
   "nbconvert_exporter": "python",
   "pygments_lexer": "ipython3",
   "version": "3.10.13"
  }
 },
 "nbformat": 4,
 "nbformat_minor": 5
}
