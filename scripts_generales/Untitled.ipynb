{
 "cells": [
  {
   "cell_type": "code",
   "execution_count": 8,
   "id": "c86e01c1-5ece-4243-83e2-d1b340d17be2",
   "metadata": {},
   "outputs": [],
   "source": [
    "import geopandas as gpd\n",
    "import json\n",
    "from shapely.geometry import MultiPoint\n",
    "import pyproj\n",
    "\n",
    "# Leer el archivo JSON\n",
    "with open('marcadores (1).json', 'r', encoding='utf-8') as f:\n",
    "    data = json.load(f)\n",
    "\n",
    "features = data['features']"
   ]
  },
  {
   "cell_type": "code",
   "execution_count": 10,
   "id": "c728acaa-3842-4d3a-8482-40ffec16d6bb",
   "metadata": {},
   "outputs": [],
   "source": [
    "geometries = []\n",
    "properties = []\n",
    "\n",
    "# Iterar a través de cada feature en el JSON\n",
    "for feature in features:\n",
    "    coords = feature['geometry']['coordinates']\n",
    "    geometry = MultiPoint(coords)\n",
    "    geometries.append(geometry)\n",
    "    properties.append(feature['properties'])"
   ]
  },
  {
   "cell_type": "code",
   "execution_count": 13,
   "id": "f7731b91-238e-4918-84ae-0ef7d6e86e91",
   "metadata": {},
   "outputs": [],
   "source": [
    "# Crear un GeoDataFrame\n",
    "gdf = gpd.GeoDataFrame(properties, geometry=geometries)"
   ]
  },
  {
   "cell_type": "code",
   "execution_count": 20,
   "id": "abb3500b-af61-4e93-a41b-e4dd733d38a7",
   "metadata": {},
   "outputs": [
    {
     "data": {
      "text/plain": [
       "<Axes: >"
      ]
     },
     "execution_count": 20,
     "metadata": {},
     "output_type": "execute_result"
    },
    {
     "data": {
      "image/png": "[encoded data removed]",
      "text/plain": [
       "<Figure size 640x480 with 1 Axes>"
      ]
     },
     "metadata": {},
     "output_type": "display_data"
    }
   ],
   "source": [
    "gdf.plot()"
   ]
  },
  {
   "cell_type": "code",
   "execution_count": 17,
   "id": "bbce5651-a356-4bef-9f7b-90db5211a53d",
   "metadata": {},
   "outputs": [
    {
     "data": {
      "text/html": [
       "<div>\n",
       "<style scoped>\n",
       "    .dataframe tbody tr th:only-of-type {\n",
       "        vertical-align: middle;\n",
       "    }\n",
       "\n",
       "    .dataframe tbody tr th {\n",
       "        vertical-align: top;\n",
       "    }\n",
       "\n",
       "    .dataframe thead th {\n",
       "        text-align: right;\n",
       "    }\n",
       "</style>\n",
       "<table border=\"1\" class=\"dataframe\">\n",
       "  <thead>\n",
       "    <tr style=\"text-align: right;\">\n",
       "      <th></th>\n",
       "      <th>tarea</th>\n",
       "      <th>identificador</th>\n",
       "      <th>value</th>\n",
       "      <th>geometry</th>\n",
       "    </tr>\n",
       "  </thead>\n",
       "  <tbody>\n",
       "    <tr>\n",
       "      <th>0</th>\n",
       "      <td>{'id': 47403, 'titulo': 'FLAMBOYAN--AGUILERA-L...</td>\n",
       "      <td>[Marcador 0, Marcador 1, Marcador 2, Marcador ...</td>\n",
       "      <td>[0.498, 0.551, 0.539, 0.599, 0.668, 0.618, 0.6...</td>\n",
       "      <td>MULTIPOINT (-63.26567 -17.27507, -63.26639 -17...</td>\n",
       "    </tr>\n",
       "    <tr>\n",
       "      <th>1</th>\n",
       "      <td>{'id': 47409, 'titulo': 'SANTA BARBARA-L28,1',...</td>\n",
       "      <td>[Marcador 0, Marcador 1, Marcador 2, Marcador ...</td>\n",
       "      <td>[0.355, 0.446, 0.474, 0.583, 0.535, 0.5, 0.538...</td>\n",
       "      <td>MULTIPOINT (-63.16857 -17.27491, -63.16732 -17...</td>\n",
       "    </tr>\n",
       "    <tr>\n",
       "      <th>2</th>\n",
       "      <td>{'id': 47407, 'titulo': 'LA ESTACADA--AGUILERA...</td>\n",
       "      <td>[Marcador 0, Marcador 1, Marcador 2, Marcador ...</td>\n",
       "      <td>[0.491, 0.424, 0.553, 0.5, 0.533, 0.53, 0.608,...</td>\n",
       "      <td>MULTIPOINT (-63.23975 -17.24283, -63.23777 -17...</td>\n",
       "    </tr>\n",
       "    <tr>\n",
       "      <th>3</th>\n",
       "      <td>{'id': 47405, 'titulo': 'SAN JOSE--CATALA-L43'...</td>\n",
       "      <td>[Marcador 0, Marcador 1, Marcador 2, Marcador ...</td>\n",
       "      <td>[0.271, 0.359, 0.439, 0.504, 0.599, 0.688, 0.6...</td>\n",
       "      <td>MULTIPOINT (-63.15384 -17.16476, -63.15556 -17...</td>\n",
       "    </tr>\n",
       "    <tr>\n",
       "      <th>4</th>\n",
       "      <td>{'id': 47402, 'titulo': '6 DE AGOSTO--DAMIANA-...</td>\n",
       "      <td>[Marcador 0, Marcador 1, Marcador 2, Marcador ...</td>\n",
       "      <td>[0.355, 0.433, 0.4, 0.517, 0.69, 0.654, 0.654,...</td>\n",
       "      <td>MULTIPOINT (-63.15396 -17.06729, -63.15370 -17...</td>\n",
       "    </tr>\n",
       "    <tr>\n",
       "      <th>5</th>\n",
       "      <td>{'id': 47404, 'titulo': 'NAVIDAD--ROCA GIL VIC...</td>\n",
       "      <td>[Marcador 0, Marcador 1, Marcador 2, Marcador ...</td>\n",
       "      <td>[0.495, 0.41, 0.584, 0.681, 0.713, 0.727, 0.87...</td>\n",
       "      <td>MULTIPOINT (-63.03374 -17.27036, -63.03327 -17...</td>\n",
       "    </tr>\n",
       "    <tr>\n",
       "      <th>6</th>\n",
       "      <td>{'id': 47415, 'titulo': 'SANTA MARTHA-C7,1', '...</td>\n",
       "      <td>[Marcador 0, Marcador 1, Marcador 2, Marcador ...</td>\n",
       "      <td>[0.369, 0.432, 0.579, 0.53, 0.574, 0.531, 0.52...</td>\n",
       "      <td>MULTIPOINT (-63.12572 -17.16243, -63.12549 -17...</td>\n",
       "    </tr>\n",
       "    <tr>\n",
       "      <th>7</th>\n",
       "      <td>{'id': 47412, 'titulo': 'LAS LOMAS-3HNOS DEL O...</td>\n",
       "      <td>[Marcador 0, Marcador 1, Marcador 2, Marcador ...</td>\n",
       "      <td>[0.289, 0.398, 0.535, 0.535, 0.693, 0.656, 0.6...</td>\n",
       "      <td>MULTIPOINT (-63.17084 -17.29136, -63.17274 -17...</td>\n",
       "    </tr>\n",
       "    <tr>\n",
       "      <th>8</th>\n",
       "      <td>{'id': 47414, 'titulo': 'SANTA BARBARA--CRONEN...</td>\n",
       "      <td>[Marcador 0, Marcador 1, Marcador 2, Marcador ...</td>\n",
       "      <td>[0.354, 0.434, 0.493, 0.58, 0.515, 0.568, 0.62...</td>\n",
       "      <td>MULTIPOINT (-63.14093 -17.30899, -63.14123 -17...</td>\n",
       "    </tr>\n",
       "    <tr>\n",
       "      <th>9</th>\n",
       "      <td>{'id': 47406, 'titulo': 'LA CUTA--JUSTINIANO-A...</td>\n",
       "      <td>[Marcador 0, Marcador 1, Marcador 2, Marcador ...</td>\n",
       "      <td>[0.153, 0.597, 0.591, 0.649, 0.645, 0.657, 0.6...</td>\n",
       "      <td>MULTIPOINT (-63.10362 -17.34312, -63.10314 -17...</td>\n",
       "    </tr>\n",
       "    <tr>\n",
       "      <th>10</th>\n",
       "      <td>{'id': 47413, 'titulo': 'SANTA BARBARA--CRONEN...</td>\n",
       "      <td>[Marcador 0, Marcador 1, Marcador 2, Marcador ...</td>\n",
       "      <td>[0.303, 0.499, 0.562, 0.569, 0.55, 0.588, 0.54...</td>\n",
       "      <td>MULTIPOINT (-63.13660 -17.30856, -63.13733 -17...</td>\n",
       "    </tr>\n",
       "    <tr>\n",
       "      <th>11</th>\n",
       "      <td>{'id': 47411, 'titulo': 'SANTA BARBARA-L30,8',...</td>\n",
       "      <td>[Marcador 0, Marcador 1, Marcador 2, Marcador ...</td>\n",
       "      <td>[0.481, 0.478, 0.562, 0.567, 0.542, 0.572, 0.5...</td>\n",
       "      <td>MULTIPOINT (-63.16754 -17.28313, -63.16440 -17...</td>\n",
       "    </tr>\n",
       "    <tr>\n",
       "      <th>12</th>\n",
       "      <td>{'id': 47408, 'titulo': 'SANTA BARBARA-L30,4',...</td>\n",
       "      <td>[Marcador 0, Marcador 1, Marcador 2, Marcador ...</td>\n",
       "      <td>[0.396, 0.353, 0.45, 0.459, 0.598, 0.559, 0.51...</td>\n",
       "      <td>MULTIPOINT (-63.16810 -17.27879, -63.16752 -17...</td>\n",
       "    </tr>\n",
       "    <tr>\n",
       "      <th>13</th>\n",
       "      <td>{'id': 47410, 'titulo': 'SANTA BARBARA-L31,1',...</td>\n",
       "      <td>[Marcador 0, Marcador 1, Marcador 2, Marcador ...</td>\n",
       "      <td>[0.388, 0.464, 0.425, 0.41, 0.439, 0.402, 0.46...</td>\n",
       "      <td>MULTIPOINT (-63.16331 -17.28160, -63.16246 -17...</td>\n",
       "    </tr>\n",
       "  </tbody>\n",
       "</table>\n",
       "</div>"
      ],
      "text/plain": [
       "                                                tarea  \\\n",
       "0   {'id': 47403, 'titulo': 'FLAMBOYAN--AGUILERA-L...   \n",
       "1   {'id': 47409, 'titulo': 'SANTA BARBARA-L28,1',...   \n",
       "2   {'id': 47407, 'titulo': 'LA ESTACADA--AGUILERA...   \n",
       "3   {'id': 47405, 'titulo': 'SAN JOSE--CATALA-L43'...   \n",
       "4   {'id': 47402, 'titulo': '6 DE AGOSTO--DAMIANA-...   \n",
       "5   {'id': 47404, 'titulo': 'NAVIDAD--ROCA GIL VIC...   \n",
       "6   {'id': 47415, 'titulo': 'SANTA MARTHA-C7,1', '...   \n",
       "7   {'id': 47412, 'titulo': 'LAS LOMAS-3HNOS DEL O...   \n",
       "8   {'id': 47414, 'titulo': 'SANTA BARBARA--CRONEN...   \n",
       "9   {'id': 47406, 'titulo': 'LA CUTA--JUSTINIANO-A...   \n",
       "10  {'id': 47413, 'titulo': 'SANTA BARBARA--CRONEN...   \n",
       "11  {'id': 47411, 'titulo': 'SANTA BARBARA-L30,8',...   \n",
       "12  {'id': 47408, 'titulo': 'SANTA BARBARA-L30,4',...   \n",
       "13  {'id': 47410, 'titulo': 'SANTA BARBARA-L31,1',...   \n",
       "\n",
       "                                        identificador  \\\n",
       "0   [Marcador 0, Marcador 1, Marcador 2, Marcador ...   \n",
       "1   [Marcador 0, Marcador 1, Marcador 2, Marcador ...   \n",
       "2   [Marcador 0, Marcador 1, Marcador 2, Marcador ...   \n",
       "3   [Marcador 0, Marcador 1, Marcador 2, Marcador ...   \n",
       "4   [Marcador 0, Marcador 1, Marcador 2, Marcador ...   \n",
       "5   [Marcador 0, Marcador 1, Marcador 2, Marcador ...   \n",
       "6   [Marcador 0, Marcador 1, Marcador 2, Marcador ...   \n",
       "7   [Marcador 0, Marcador 1, Marcador 2, Marcador ...   \n",
       "8   [Marcador 0, Marcador 1, Marcador 2, Marcador ...   \n",
       "9   [Marcador 0, Marcador 1, Marcador 2, Marcador ...   \n",
       "10  [Marcador 0, Marcador 1, Marcador 2, Marcador ...   \n",
       "11  [Marcador 0, Marcador 1, Marcador 2, Marcador ...   \n",
       "12  [Marcador 0, Marcador 1, Marcador 2, Marcador ...   \n",
       "13  [Marcador 0, Marcador 1, Marcador 2, Marcador ...   \n",
       "\n",
       "                                                value  \\\n",
       "0   [0.498, 0.551, 0.539, 0.599, 0.668, 0.618, 0.6...   \n",
       "1   [0.355, 0.446, 0.474, 0.583, 0.535, 0.5, 0.538...   \n",
       "2   [0.491, 0.424, 0.553, 0.5, 0.533, 0.53, 0.608,...   \n",
       "3   [0.271, 0.359, 0.439, 0.504, 0.599, 0.688, 0.6...   \n",
       "4   [0.355, 0.433, 0.4, 0.517, 0.69, 0.654, 0.654,...   \n",
       "5   [0.495, 0.41, 0.584, 0.681, 0.713, 0.727, 0.87...   \n",
       "6   [0.369, 0.432, 0.579, 0.53, 0.574, 0.531, 0.52...   \n",
       "7   [0.289, 0.398, 0.535, 0.535, 0.693, 0.656, 0.6...   \n",
       "8   [0.354, 0.434, 0.493, 0.58, 0.515, 0.568, 0.62...   \n",
       "9   [0.153, 0.597, 0.591, 0.649, 0.645, 0.657, 0.6...   \n",
       "10  [0.303, 0.499, 0.562, 0.569, 0.55, 0.588, 0.54...   \n",
       "11  [0.481, 0.478, 0.562, 0.567, 0.542, 0.572, 0.5...   \n",
       "12  [0.396, 0.353, 0.45, 0.459, 0.598, 0.559, 0.51...   \n",
       "13  [0.388, 0.464, 0.425, 0.41, 0.439, 0.402, 0.46...   \n",
       "\n",
       "                                             geometry  \n",
       "0   MULTIPOINT (-63.26567 -17.27507, -63.26639 -17...  \n",
       "1   MULTIPOINT (-63.16857 -17.27491, -63.16732 -17...  \n",
       "2   MULTIPOINT (-63.23975 -17.24283, -63.23777 -17...  \n",
       "3   MULTIPOINT (-63.15384 -17.16476, -63.15556 -17...  \n",
       "4   MULTIPOINT (-63.15396 -17.06729, -63.15370 -17...  \n",
       "5   MULTIPOINT (-63.03374 -17.27036, -63.03327 -17...  \n",
       "6   MULTIPOINT (-63.12572 -17.16243, -63.12549 -17...  \n",
       "7   MULTIPOINT (-63.17084 -17.29136, -63.17274 -17...  \n",
       "8   MULTIPOINT (-63.14093 -17.30899, -63.14123 -17...  \n",
       "9   MULTIPOINT (-63.10362 -17.34312, -63.10314 -17...  \n",
       "10  MULTIPOINT (-63.13660 -17.30856, -63.13733 -17...  \n",
       "11  MULTIPOINT (-63.16754 -17.28313, -63.16440 -17...  \n",
       "12  MULTIPOINT (-63.16810 -17.27879, -63.16752 -17...  \n",
       "13  MULTIPOINT (-63.16331 -17.28160, -63.16246 -17...  "
      ]
     },
     "execution_count": 17,
     "metadata": {},
     "output_type": "execute_result"
    }
   ],
   "source": [
    "# Establecer la proyección geográfica original (WGS84)\n",
    "gdf.set_crs(epsg=4326, inplace=True)"
   ]
  },
  {
   "cell_type": "code",
   "execution_count": 19,
   "id": "f19b3495-533e-4d02-8cfb-befef6f72b87",
   "metadata": {},
   "outputs": [],
   "source": [
    "# Convertir a la proyección UTM (por ejemplo, zona 21S)\n",
    "gdf = gdf.to_crs(epsg=32720)"
   ]
  },
  {
   "cell_type": "code",
   "execution_count": 21,
   "id": "2ae9603d-d2d2-48d1-b547-4e0106347272",
   "metadata": {},
   "outputs": [
    {
     "name": "stderr",
     "output_type": "stream",
     "text": [
      "C:\\Users\\Usuario\\AppData\\Local\\Temp\\ipykernel_21040\\963992395.py:2: UserWarning: Column names longer than 10 characters will be truncated when saved to ESRI Shapefile.\n",
      "  gdf.to_file('output_shapefile.shp', driver='ESRI Shapefile')\n"
     ]
    },
    {
     "ename": "ValueError",
     "evalue": "Invalid field type <class 'list'>",
     "output_type": "error",
     "traceback": [
      "\u001b[1;31m---------------------------------------------------------------------------\u001b[0m",
      "\u001b[1;31mValueError\u001b[0m                                Traceback (most recent call last)",
      "Cell \u001b[1;32mIn[21], line 2\u001b[0m\n\u001b[0;32m      1\u001b[0m \u001b[38;5;66;03m# Guardar como shapefile\u001b[39;00m\n\u001b[1;32m----> 2\u001b[0m \u001b[43mgdf\u001b[49m\u001b[38;5;241;43m.\u001b[39;49m\u001b[43mto_file\u001b[49m\u001b[43m(\u001b[49m\u001b[38;5;124;43m'\u001b[39;49m\u001b[38;5;124;43moutput_shapefile.shp\u001b[39;49m\u001b[38;5;124;43m'\u001b[39;49m\u001b[43m,\u001b[49m\u001b[43m \u001b[49m\u001b[43mdriver\u001b[49m\u001b[38;5;241;43m=\u001b[39;49m\u001b[38;5;124;43m'\u001b[39;49m\u001b[38;5;124;43mESRI Shapefile\u001b[39;49m\u001b[38;5;124;43m'\u001b[39;49m\u001b[43m)\u001b[49m\n",
      "File \u001b[1;32m~\\anaconda3\\envs\\utea\\lib\\site-packages\\geopandas\\geodataframe.py:1246\u001b[0m, in \u001b[0;36mGeoDataFrame.to_file\u001b[1;34m(self, filename, driver, schema, index, **kwargs)\u001b[0m\n\u001b[0;32m   1155\u001b[0m \u001b[38;5;250m\u001b[39m\u001b[38;5;124;03m\"\"\"Write the ``GeoDataFrame`` to a file.\u001b[39;00m\n\u001b[0;32m   1156\u001b[0m \n\u001b[0;32m   1157\u001b[0m \u001b[38;5;124;03mBy default, an ESRI shapefile is written, but any OGR data source\u001b[39;00m\n\u001b[1;32m   (...)\u001b[0m\n\u001b[0;32m   1242\u001b[0m \n\u001b[0;32m   1243\u001b[0m \u001b[38;5;124;03m\"\"\"\u001b[39;00m\n\u001b[0;32m   1244\u001b[0m \u001b[38;5;28;01mfrom\u001b[39;00m \u001b[38;5;21;01mgeopandas\u001b[39;00m\u001b[38;5;21;01m.\u001b[39;00m\u001b[38;5;21;01mio\u001b[39;00m\u001b[38;5;21;01m.\u001b[39;00m\u001b[38;5;21;01mfile\u001b[39;00m \u001b[38;5;28;01mimport\u001b[39;00m _to_file\n\u001b[1;32m-> 1246\u001b[0m _to_file(\u001b[38;5;28mself\u001b[39m, filename, driver, schema, index, \u001b[38;5;241m*\u001b[39m\u001b[38;5;241m*\u001b[39mkwargs)\n",
      "File \u001b[1;32m~\\anaconda3\\envs\\utea\\lib\\site-packages\\geopandas\\io\\file.py:633\u001b[0m, in \u001b[0;36m_to_file\u001b[1;34m(df, filename, driver, schema, index, mode, crs, engine, **kwargs)\u001b[0m\n\u001b[0;32m    630\u001b[0m     \u001b[38;5;28;01mraise\u001b[39;00m \u001b[38;5;167;01mValueError\u001b[39;00m(\u001b[38;5;124mf\u001b[39m\u001b[38;5;124m\"\u001b[39m\u001b[38;5;124m'\u001b[39m\u001b[38;5;124mmode\u001b[39m\u001b[38;5;124m'\u001b[39m\u001b[38;5;124m should be one of \u001b[39m\u001b[38;5;124m'\u001b[39m\u001b[38;5;124mw\u001b[39m\u001b[38;5;124m'\u001b[39m\u001b[38;5;124m or \u001b[39m\u001b[38;5;124m'\u001b[39m\u001b[38;5;124ma\u001b[39m\u001b[38;5;124m'\u001b[39m\u001b[38;5;124m, got \u001b[39m\u001b[38;5;124m'\u001b[39m\u001b[38;5;132;01m{\u001b[39;00mmode\u001b[38;5;132;01m}\u001b[39;00m\u001b[38;5;124m'\u001b[39m\u001b[38;5;124m instead\u001b[39m\u001b[38;5;124m\"\u001b[39m)\n\u001b[0;32m    632\u001b[0m \u001b[38;5;28;01mif\u001b[39;00m engine \u001b[38;5;241m==\u001b[39m \u001b[38;5;124m\"\u001b[39m\u001b[38;5;124mfiona\u001b[39m\u001b[38;5;124m\"\u001b[39m:\n\u001b[1;32m--> 633\u001b[0m     _to_file_fiona(df, filename, driver, schema, crs, mode, \u001b[38;5;241m*\u001b[39m\u001b[38;5;241m*\u001b[39mkwargs)\n\u001b[0;32m    634\u001b[0m \u001b[38;5;28;01melif\u001b[39;00m engine \u001b[38;5;241m==\u001b[39m \u001b[38;5;124m\"\u001b[39m\u001b[38;5;124mpyogrio\u001b[39m\u001b[38;5;124m\"\u001b[39m:\n\u001b[0;32m    635\u001b[0m     _to_file_pyogrio(df, filename, driver, schema, crs, mode, \u001b[38;5;241m*\u001b[39m\u001b[38;5;241m*\u001b[39mkwargs)\n",
      "File \u001b[1;32m~\\anaconda3\\envs\\utea\\lib\\site-packages\\geopandas\\io\\file.py:664\u001b[0m, in \u001b[0;36m_to_file_fiona\u001b[1;34m(df, filename, driver, schema, crs, mode, **kwargs)\u001b[0m\n\u001b[0;32m    660\u001b[0m     crs_wkt \u001b[38;5;241m=\u001b[39m crs\u001b[38;5;241m.\u001b[39mto_wkt(\u001b[38;5;124m\"\u001b[39m\u001b[38;5;124mWKT1_GDAL\u001b[39m\u001b[38;5;124m\"\u001b[39m)\n\u001b[0;32m    661\u001b[0m \u001b[38;5;28;01mwith\u001b[39;00m fiona\u001b[38;5;241m.\u001b[39mopen(\n\u001b[0;32m    662\u001b[0m     filename, mode\u001b[38;5;241m=\u001b[39mmode, driver\u001b[38;5;241m=\u001b[39mdriver, crs_wkt\u001b[38;5;241m=\u001b[39mcrs_wkt, schema\u001b[38;5;241m=\u001b[39mschema, \u001b[38;5;241m*\u001b[39m\u001b[38;5;241m*\u001b[39mkwargs\n\u001b[0;32m    663\u001b[0m ) \u001b[38;5;28;01mas\u001b[39;00m colxn:\n\u001b[1;32m--> 664\u001b[0m     \u001b[43mcolxn\u001b[49m\u001b[38;5;241;43m.\u001b[39;49m\u001b[43mwriterecords\u001b[49m\u001b[43m(\u001b[49m\u001b[43mdf\u001b[49m\u001b[38;5;241;43m.\u001b[39;49m\u001b[43miterfeatures\u001b[49m\u001b[43m(\u001b[49m\u001b[43m)\u001b[49m\u001b[43m)\u001b[49m\n",
      "File \u001b[1;32m~\\anaconda3\\envs\\utea\\lib\\site-packages\\fiona\\collection.py:558\u001b[0m, in \u001b[0;36mCollection.writerecords\u001b[1;34m(self, records)\u001b[0m\n\u001b[0;32m    556\u001b[0m \u001b[38;5;28;01mif\u001b[39;00m \u001b[38;5;28mself\u001b[39m\u001b[38;5;241m.\u001b[39mmode \u001b[38;5;129;01mnot\u001b[39;00m \u001b[38;5;129;01min\u001b[39;00m (\u001b[38;5;124m\"\u001b[39m\u001b[38;5;124ma\u001b[39m\u001b[38;5;124m\"\u001b[39m, \u001b[38;5;124m\"\u001b[39m\u001b[38;5;124mw\u001b[39m\u001b[38;5;124m\"\u001b[39m):\n\u001b[0;32m    557\u001b[0m     \u001b[38;5;28;01mraise\u001b[39;00m \u001b[38;5;167;01mOSError\u001b[39;00m(\u001b[38;5;124m\"\u001b[39m\u001b[38;5;124mcollection not open for writing\u001b[39m\u001b[38;5;124m\"\u001b[39m)\n\u001b[1;32m--> 558\u001b[0m \u001b[38;5;28;43mself\u001b[39;49m\u001b[38;5;241;43m.\u001b[39;49m\u001b[43msession\u001b[49m\u001b[38;5;241;43m.\u001b[39;49m\u001b[43mwriterecs\u001b[49m\u001b[43m(\u001b[49m\u001b[43mrecords\u001b[49m\u001b[43m,\u001b[49m\u001b[43m \u001b[49m\u001b[38;5;28;43mself\u001b[39;49m\u001b[43m)\u001b[49m\n\u001b[0;32m    559\u001b[0m \u001b[38;5;28mself\u001b[39m\u001b[38;5;241m.\u001b[39m_len \u001b[38;5;241m=\u001b[39m \u001b[38;5;28mself\u001b[39m\u001b[38;5;241m.\u001b[39msession\u001b[38;5;241m.\u001b[39mget_length()\n\u001b[0;32m    560\u001b[0m \u001b[38;5;28mself\u001b[39m\u001b[38;5;241m.\u001b[39m_bounds \u001b[38;5;241m=\u001b[39m \u001b[38;5;28;01mNone\u001b[39;00m\n",
      "File \u001b[1;32mfiona\\\\ogrext.pyx:1409\u001b[0m, in \u001b[0;36mfiona.ogrext.WritingSession.writerecs\u001b[1;34m()\u001b[0m\n",
      "File \u001b[1;32mfiona\\\\ogrext.pyx:514\u001b[0m, in \u001b[0;36mfiona.ogrext.OGRFeatureBuilder.build\u001b[1;34m()\u001b[0m\n",
      "\u001b[1;31mValueError\u001b[0m: Invalid field type <class 'list'>"
     ]
    }
   ],
   "source": [
    "# Guardar como shapefile\n",
    "gdf.to_file('output_shapefile.shp', driver='ESRI Shapefile')"
   ]
  },
  {
   "cell_type": "code",
   "execution_count": null,
   "id": "bd2327e1-a243-4c22-94d6-07423069b59a",
   "metadata": {},
   "outputs": [],
   "source": [
    "\n",
    "\n",
    "\n",
    "\n",
    "\n",
    "\n",
    "print(\"Shapefile exportado exitosamente.\")"
   ]
  },
  {
   "cell_type": "code",
   "execution_count": null,
   "id": "6936d0f5-595a-4648-97f8-c6086af7380f",
   "metadata": {},
   "outputs": [],
   "source": []
  },
  {
   "cell_type": "code",
   "execution_count": null,
   "id": "5a922dde-b69b-4a42-af0f-22d0d4587436",
   "metadata": {},
   "outputs": [],
   "source": []
  },
  {
   "cell_type": "code",
   "execution_count": 23,
   "id": "bcb7df32-94f1-484d-8bb1-b8a52e0272de",
   "metadata": {},
   "outputs": [
    {
     "name": "stdout",
     "output_type": "stream",
     "text": [
      "Shapefile exportado exitosamente a output_shapefile.shp.\n"
     ]
    }
   ],
   "source": [
    "import geopandas as gpd\n",
    "import json\n",
    "from shapely.geometry import MultiPoint\n",
    "\n",
    "# Leer el archivo JSON\n",
    "with open('marcadores (1).json', 'r', encoding='utf-8') as f:\n",
    "    data = json.load(f)\n",
    "\n",
    "features = data['features']\n",
    "\n",
    "# Crear listas para almacenar las geometrías y propiedades\n",
    "geometries = []\n",
    "properties = []\n",
    "\n",
    "# Iterar a través de cada feature en el JSON\n",
    "for feature in features:\n",
    "    coords = feature['geometry']['coordinates']\n",
    "    geometry = MultiPoint(coords)\n",
    "    geometries.append(geometry)\n",
    "    \n",
    "    prop = feature['properties']\n",
    "    # Aplanar los valores de 'identificador' y 'value' para que sean compatibles con shapefile\n",
    "    prop_flattened = {k: (v[0] if isinstance(v, list) else v) for k, v in prop.items()}\n",
    "    properties.append(prop_flattened)\n",
    "\n",
    "# Crear un GeoDataFrame\n",
    "gdf = gpd.GeoDataFrame(properties, geometry=geometries)\n",
    "\n",
    "# Renombrar las columnas para que no excedan los 10 caracteres\n",
    "gdf = gdf.rename(columns={\n",
    "    'tarea': 'task',\n",
    "    'identificador': 'idtf',\n",
    "    'value': 'val'\n",
    "})\n",
    "\n",
    "# Establecer la proyección geográfica original (WGS84)\n",
    "gdf.set_crs(epsg=4326, inplace=True)\n",
    "\n",
    "# Convertir a la proyección UTM (zona 20S)\n",
    "gdf = gdf.to_crs(epsg=32720)\n",
    "\n",
    "# Guardar como shapefile\n",
    "output_path = 'output_shapefile.shp'\n",
    "gdf.to_file(output_path, driver='ESRI Shapefile')\n",
    "\n",
    "print(f\"Shapefile exportado exitosamente a {output_path}.\")\n"
   ]
  },
  {
   "cell_type": "code",
   "execution_count": null,
   "id": "d5bddc51-4567-4eab-9891-931d7ec1df4c",
   "metadata": {},
   "outputs": [],
   "source": []
  },
  {
   "cell_type": "code",
   "execution_count": null,
   "id": "ae85924a-6aa1-4795-958b-06871fce2ce8",
   "metadata": {},
   "outputs": [],
   "source": []
  },
  {
   "cell_type": "code",
   "execution_count": null,
   "id": "79cc70f5-bdfb-4c67-92a7-bb5f6b31769d",
   "metadata": {},
   "outputs": [],
   "source": []
  },
  {
   "cell_type": "code",
   "execution_count": 24,
   "id": "95f506aa-1eab-4d92-9ae6-8c82fb6e9e0c",
   "metadata": {},
   "outputs": [
    {
     "name": "stdout",
     "output_type": "stream",
     "text": [
      "Shapefile exportado exitosamente a output_shapefile.shp.\n"
     ]
    }
   ],
   "source": [
    "import geopandas as gpd\n",
    "import json\n",
    "from shapely.geometry import Point\n",
    "\n",
    "# Leer el archivo JSON\n",
    "with open('marcadores (1).json', 'r', encoding='utf-8') as f:\n",
    "    data = json.load(f)\n",
    "\n",
    "features = data['features']\n",
    "\n",
    "# Crear listas para almacenar las geometrías y propiedades\n",
    "geometries = []\n",
    "properties = []\n",
    "\n",
    "# Iterar a través de cada feature en el JSON\n",
    "for feature in features:\n",
    "    coords = feature['geometry']['coordinates']\n",
    "    props = feature['properties']\n",
    "    \n",
    "    for i, coord in enumerate(coords):\n",
    "        geometry = Point(coord)\n",
    "        prop = {k: (v[i] if isinstance(v, list) else v) for k, v in props.items()}\n",
    "        geometries.append(geometry)\n",
    "        properties.append(prop)\n",
    "\n",
    "# Crear un GeoDataFrame\n",
    "gdf = gpd.GeoDataFrame(properties, geometry=geometries)\n",
    "\n",
    "# Renombrar las columnas para que no excedan los 10 caracteres\n",
    "gdf = gdf.rename(columns={\n",
    "    'tarea': 'task',\n",
    "    'identificador': 'idtf',\n",
    "    'value': 'val'\n",
    "})\n",
    "\n",
    "# Establecer la proyección geográfica original (WGS84)\n",
    "gdf.set_crs(epsg=4326, inplace=True)\n",
    "\n",
    "# Convertir a la proyección UTM (zona 20S)\n",
    "gdf = gdf.to_crs(epsg=32720)\n",
    "\n",
    "# Guardar como shapefile\n",
    "output_path = 'output_shapefile.shp'\n",
    "gdf.to_file(output_path, driver='ESRI Shapefile')\n",
    "\n",
    "print(f\"Shapefile exportado exitosamente a {output_path}.\")\n"
   ]
  },
  {
   "cell_type": "code",
   "execution_count": null,
   "id": "58964e40-b7cc-42a0-8b28-168502c7fc83",
   "metadata": {},
   "outputs": [],
   "source": []
  }
 ],
 "metadata": {
  "kernelspec": {
   "display_name": "Python 3 (ipykernel)",
   "language": "python",
   "name": "python3"
  },
  "language_info": {
   "codemirror_mode": {
    "name": "ipython",
    "version": 3
   },
   "file_extension": ".py",
   "mimetype": "text/x-python",
   "name": "python",
   "nbconvert_exporter": "python",
   "pygments_lexer": "ipython3",
   "version": "3.10.13"
  }
 },
 "nbformat": 4,
 "nbformat_minor": 5
}
