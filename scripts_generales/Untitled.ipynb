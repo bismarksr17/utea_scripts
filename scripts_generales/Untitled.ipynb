{
 "cells": [
  {
   "cell_type": "code",
   "execution_count": null,
   "id": "a75730e9-cae2-4ff9-8b48-c0be5ac7e0b7",
   "metadata": {},
   "outputs": [
    {
     "name": "stdout",
     "output_type": "stream",
     "text": [
      "Ejecutando instrucción\n",
      "Ejecutando instrucción\n",
      "Ejecutando instrucción\n",
      "Ejecutando instrucción\n",
      "Ejecutando instrucción\n",
      "Ejecutando instrucción\n",
      "Ejecutando instrucción\n",
      "Ejecutando instrucción\n"
     ]
    }
   ],
   "source": [
    "import time\n",
    "\n",
    "while True:\n",
    "    print(\"Ejecutando instrucción\")\n",
    "    time.sleep(5)  # Pausa de 100 segundos"
   ]
  },
  {
   "cell_type": "code",
   "execution_count": 3,
   "id": "1ae98d8a-da1c-45e9-99ea-5e9250f8f597",
   "metadata": {},
   "outputs": [],
   "source": [
    "cod_ca = 50\n",
    "nom_ca = ''"
   ]
  },
  {
   "cell_type": "code",
   "execution_count": null,
   "id": "7594f18a-4b38-4296-a6c1-4d9a7a10bd92",
   "metadata": {},
   "outputs": [],
   "source": [
    "dict_ca = {\n",
    "    cod_ca : 50,\n",
    "    nom_ca : '',\n",
    "    comando : 50,\n",
    "    \n",
    "}"
   ]
  },
  {
   "cell_type": "code",
   "execution_count": null,
   "id": "2be5e596-ea95-464e-8403-63ad5396fd7b",
   "metadata": {},
   "outputs": [],
   "source": []
  },
  {
   "cell_type": "code",
   "execution_count": null,
   "id": "1c144466-77ff-4cee-8685-c3aade12422d",
   "metadata": {},
   "outputs": [],
   "source": []
  },
  {
   "cell_type": "code",
   "execution_count": null,
   "id": "b8f84e38-c77b-4b10-a85c-498f3ea17ac6",
   "metadata": {},
   "outputs": [],
   "source": []
  },
  {
   "cell_type": "code",
   "execution_count": null,
   "id": "a40ad452-b0e6-44e2-9678-1adbd2d2af00",
   "metadata": {},
   "outputs": [],
   "source": []
  },
  {
   "cell_type": "code",
   "execution_count": null,
   "id": "67c9a2f1-d17e-4270-b746-a11004268c8e",
   "metadata": {},
   "outputs": [],
   "source": [
    "from heyoo import WhatsApp"
   ]
  },
  {
   "cell_type": "code",
   "execution_count": 1,
   "id": "2b00fa90-34e4-46d6-b23f-1bc129f2d9f4",
   "metadata": {},
   "outputs": [],
   "source": [
    "def enviar():\n",
    "    #rto - \n",
    "    #TOKEN DE ACCESO DE FACEBOOK\n",
    "    token='EAAUZA7GQszZAABAG5q4EZCHue0kHyxatPoIM5VzrDx0TxGODBdKrP7eTXDqjJsSGx9pTdnU9p9dxI9eUwYxwqCFTcZAvwvvzsxC5BzYIYwKFfgOZBxfAicxifcYbX1KYBokYiOgIzCdv54rybBRuc5XhiMOWgOGgK6ZCPgzCs87MIYvpquNlW4gjGafbYHIPjr3mKZCb9PWkVpxfoa3CJZCd1iIZAIjy8K7YZD'\n",
    "    #IDENTIFICADOR DE NÚMERO DE TELÉFONO\n",
    "    idNumeroTeléfono='110769695347161'\n",
    "    #TELEFONO QUE RECIBE (EL DE NOSOTROS QUE DIMOS DE ALTA)\n",
    "    telefonoEnvia='59178194371'\n",
    "    #MENSAJE A ENVIAR\n",
    "    textoMensaje=\"Hola novato saludos\"\n",
    "    #URL DE LA IMAGEN A ENVIAR\n",
    "    #urlImagen='https://i.imgur.com/r5lhxgn.png'\n",
    "    #INICIALIZAMOS ENVIO DE MENSAJES\n",
    "    mensajeWa=WhatsApp(token,idNumeroTeléfono)\n",
    "    #ENVIAMOS UN MENSAJE DE TEXTO\n",
    "    mensajeWa.send_message(textoMensaje,telefonoEnvia)\n",
    "    #ENVIAMOS UNA IMAGEN\n",
    "    #mensajeWa.send_image(image=urlImagen,recipient_id=telefonoEnvia,)\n",
    "    return \"mensaje enviado exitosamente\""
   ]
  },
  {
   "cell_type": "code",
   "execution_count": null,
   "id": "c86e01c1-5ece-4243-83e2-d1b340d17be2",
   "metadata": {},
   "outputs": [],
   "source": []
  },
  {
   "cell_type": "code",
   "execution_count": null,
   "id": "1887b589-90c2-4825-a15f-9c987716bbc3",
   "metadata": {},
   "outputs": [],
   "source": []
  },
  {
   "cell_type": "code",
   "execution_count": null,
   "id": "bd2327e1-a243-4c22-94d6-07423069b59a",
   "metadata": {},
   "outputs": [],
   "source": []
  }
 ],
 "metadata": {
  "kernelspec": {
   "display_name": "Python 3 (ipykernel)",
   "language": "python",
   "name": "python3"
  },
  "language_info": {
   "codemirror_mode": {
    "name": "ipython",
    "version": 3
   },
   "file_extension": ".py",
   "mimetype": "text/x-python",
   "name": "python",
   "nbconvert_exporter": "python",
   "pygments_lexer": "ipython3",
   "version": "3.7.16"
  }
 },
 "nbformat": 4,
 "nbformat_minor": 5
}
