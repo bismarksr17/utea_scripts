{
 "cells": [
  {
   "cell_type": "code",
   "execution_count": null,
   "id": "a75730e9-cae2-4ff9-8b48-c0be5ac7e0b7",
   "metadata": {},
   "outputs": [
    {
     "name": "stdout",
     "output_type": "stream",
     "text": [
      "Ejecutando instrucción\n",
      "Ejecutando instrucción\n",
      "Ejecutando instrucción\n",
      "Ejecutando instrucción\n",
      "Ejecutando instrucción\n",
      "Ejecutando instrucción\n",
      "Ejecutando instrucción\n",
      "Ejecutando instrucción\n"
     ]
    }
   ],
   "source": [
    "import time\n",
    "\n",
    "while True:\n",
    "    print(\"Ejecutando instrucción\")\n",
    "    time.sleep(5)  # Pausa de 100 segundos"
   ]
  },
  {
   "cell_type": "code",
   "execution_count": null,
   "id": "1ae98d8a-da1c-45e9-99ea-5e9250f8f597",
   "metadata": {},
   "outputs": [],
   "source": []
  },
  {
   "cell_type": "code",
   "execution_count": null,
   "id": "67c9a2f1-d17e-4270-b746-a11004268c8e",
   "metadata": {},
   "outputs": [],
   "source": [
    "from heyoo import WhatsApp"
   ]
  },
  {
   "cell_type": "code",
   "execution_count": 1,
   "id": "2b00fa90-34e4-46d6-b23f-1bc129f2d9f4",
   "metadata": {},
   "outputs": [],
   "source": [
    "def enviar():\n",
    "    #TOKEN DE ACCESO DE FACEBOOK\n",
    "    token='EAAUZA7GQszZAABAG5q4EZCHue0kHyxatPoIM5VzrDx0TxGODBdKrP7eTXDqjJsSGx9pTdnU9p9dxI9eUwYxwqCFTcZAvwvvzsxC5BzYIYwKFfgOZBxfAicxifcYbX1KYBokYiOgIzCdv54rybBRuc5XhiMOWgOGgK6ZCPgzCs87MIYvpquNlW4gjGafbYHIPjr3mKZCb9PWkVpxfoa3CJZCd1iIZAIjy8K7YZD'\n",
    "    #IDENTIFICADOR DE NÚMERO DE TELÉFONO\n",
    "    idNumeroTeléfono='110769695347161'\n",
    "    #TELEFONO QUE RECIBE (EL DE NOSOTROS QUE DIMOS DE ALTA)\n",
    "    telefonoEnvia='59178194371'\n",
    "    #MENSAJE A ENVIAR\n",
    "    textoMensaje=\"Hola novato saludos\"\n",
    "    #URL DE LA IMAGEN A ENVIAR\n",
    "    #urlImagen='https://i.imgur.com/r5lhxgn.png'\n",
    "    #INICIALIZAMOS ENVIO DE MENSAJES\n",
    "    mensajeWa=WhatsApp(token,idNumeroTeléfono)\n",
    "    #ENVIAMOS UN MENSAJE DE TEXTO\n",
    "    mensajeWa.send_message(textoMensaje,telefonoEnvia)\n",
    "    #ENVIAMOS UNA IMAGEN\n",
    "    #mensajeWa.send_image(image=urlImagen,recipient_id=telefonoEnvia,)\n",
    "    return \"mensaje enviado exitosamente\""
   ]
  },
  {
   "cell_type": "code",
   "execution_count": null,
   "id": "c86e01c1-5ece-4243-83e2-d1b340d17be2",
   "metadata": {},
   "outputs": [],
   "source": []
  },
  {
   "cell_type": "code",
   "execution_count": null,
   "id": "1887b589-90c2-4825-a15f-9c987716bbc3",
   "metadata": {},
   "outputs": [],
   "source": []
  },
  {
   "cell_type": "code",
   "execution_count": null,
   "id": "bd2327e1-a243-4c22-94d6-07423069b59a",
   "metadata": {},
   "outputs": [],
   "source": []
  }
 ],
 "metadata": {
  "kernelspec": {
   "display_name": "Python 3 (ipykernel)",
   "language": "python",
   "name": "python3"
  },
  "language_info": {
   "codemirror_mode": {
    "name": "ipython",
    "version": 3
   },
   "file_extension": ".py",
   "mimetype": "text/x-python",
   "name": "python",
   "nbconvert_exporter": "python",
   "pygments_lexer": "ipython3",
   "version": "3.7.11"
  }
 },
 "nbformat": 4,
 "nbformat_minor": 5
}
