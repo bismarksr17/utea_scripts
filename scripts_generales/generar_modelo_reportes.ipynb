{
 "cells": [
  {
   "cell_type": "code",
   "execution_count": 1,
   "id": "e764b97a-af1d-468a-809e-26084b11b10d",
   "metadata": {},
   "outputs": [],
   "source": [
    "import sys\n",
    "sys.path.append('../_amigocloud')"
   ]
  },
  {
   "cell_type": "code",
   "execution_count": 67,
   "id": "2379795c-6567-41a1-aadd-7e8acce3427d",
   "metadata": {},
   "outputs": [],
   "source": [
    "import collections\n",
    "from amigocloud import AmigoCloud\n",
    "\n",
    "from docxtpl import DocxTemplate\n",
    "import docxtpl\n",
    "from docx.shared import Mm\n",
    "\n",
    "import qrcode"
   ]
  },
  {
   "cell_type": "code",
   "execution_count": 2,
   "id": "09541e66-1910-4e40-8103-46f31bb50229",
   "metadata": {},
   "outputs": [],
   "source": [
    "# ruta de carpera donde estan las llaves\n",
    "ruta = open('../ruta.txt')\n",
    "ruta = ruta.readlines()[0]"
   ]
  },
  {
   "cell_type": "code",
   "execution_count": 6,
   "id": "486ce184-9e2d-4cd2-bfd1-c6e91b96d47c",
   "metadata": {},
   "outputs": [
    {
     "data": {
      "text/plain": [
       "<amigocloud.amigocloud.AmigoCloud at 0x2030adcbac8>"
      ]
     },
     "execution_count": 6,
     "metadata": {},
     "output_type": "execute_result"
    }
   ],
   "source": [
    "# leer token\n",
    "acceso = open(ruta + '/_keys/api_amigocloud.key','r')\n",
    "api_token = acceso.readlines()[0]\n",
    "acceso.close()\n",
    "amigocloud = AmigoCloud(token=api_token)\n",
    "amigocloud"
   ]
  },
  {
   "cell_type": "code",
   "execution_count": 120,
   "id": "2d49d7fd-190c-400a-bf70-8e3eefaeb445",
   "metadata": {},
   "outputs": [],
   "source": [
    "tipo_inf = 'INSPECCION'\n",
    "fecha_actual = '08/01/2024'\n",
    "anho = '2024'\n",
    "cite = 1\n",
    "tecnico = 'Juan Pablo Jaldin Duran'\n",
    "fecha_insp = '08/01/2024'\n",
    "canhero = 'MARIANO AGULERA'\n",
    "cod_ca = 75"
   ]
  },
  {
   "cell_type": "code",
   "execution_count": 121,
   "id": "6fc2f518-0276-4483-a7ad-5eb3fd4ff143",
   "metadata": {},
   "outputs": [
    {
     "data": {
      "text/plain": [
       "{'tipo_inf': 'INSPECCION',\n",
       " 'fecha_actual': '08/01/2024',\n",
       " 'anho': '2024',\n",
       " 'cite': 1,\n",
       " 'tecnico': 'Juan Pablo Jaldin Duran',\n",
       " 'fecha_insp': '08/01/2024',\n",
       " 'nom_ca': 'MARIANO AGULERA',\n",
       " 'cod_ca': 75}"
      ]
     },
     "execution_count": 121,
     "metadata": {},
     "output_type": "execute_result"
    }
   ],
   "source": [
    "data = {\n",
    "    \"tipo_inf\": tipo_inf,\n",
    "    \"fecha_actual\": fecha_actual,\n",
    "    \"anho\": anho,\n",
    "    \"cite\": cite,\n",
    "    \"tecnico\": tecnico,\n",
    "    \"fecha_insp\": fecha_insp,\n",
    "    \"nom_ca\": canhero,\n",
    "    \"cod_ca\": cod_ca\n",
    "}\n",
    "data"
   ]
  },
  {
   "cell_type": "code",
   "execution_count": 122,
   "id": "73fab127-a992-4e0f-b154-b97d10a5de45",
   "metadata": {},
   "outputs": [],
   "source": [
    "data_inf = collections.namedtuple(\"data\", data.keys())(*data.values())"
   ]
  },
  {
   "cell_type": "code",
   "execution_count": 123,
   "id": "9c1c0f83-389d-48d5-8386-b0d72f46b4fb",
   "metadata": {},
   "outputs": [
    {
     "data": {
      "text/plain": [
       "data(tipo_inf='INSPECCION', fecha_actual='08/01/2024', anho='2024', cite=1, tecnico='Juan Pablo Jaldin Duran', fecha_insp='08/01/2024', nom_ca='MARIANO AGULERA', cod_ca=75)"
      ]
     },
     "execution_count": 123,
     "metadata": {},
     "output_type": "execute_result"
    }
   ],
   "source": [
    "data_inf"
   ]
  },
  {
   "cell_type": "code",
   "execution_count": 124,
   "id": "c563c69d-4d72-434a-9488-7fb49a696459",
   "metadata": {},
   "outputs": [],
   "source": [
    "# GENERAR QR\n",
    "texto_qr = '''\n",
    "--UTEA--\n",
    "--INFORME DE {tipo}--\n",
    "\n",
    "Codigo de informe: {cite} - {anho}\n",
    "Fecha de Inspeccion: {fecha_insp}\n",
    "Nombre de Canero: {canero}\n",
    "Codigo Canero: {cod_ca}\n",
    "Tecnico Responsable: {tecnico}'''\\\n",
    "    .format(\n",
    "        tipo=data_inf.tipo_inf,\n",
    "        cite=str(data_inf.cite),\n",
    "        anho = data_inf.anho,\n",
    "        fecha_insp=data_inf.fecha_insp, \n",
    "        canero=data_inf.nom_ca,\n",
    "        cod_ca=data_inf.cod_ca,\n",
    "        tecnico=data_inf.tecnico)"
   ]
  },
  {
   "cell_type": "code",
   "execution_count": 125,
   "id": "44652e02-de52-48fb-95d0-502bc7a41791",
   "metadata": {},
   "outputs": [],
   "source": [
    "qr = qrcode.QRCode(\n",
    "        version=1,\n",
    "        error_correction=qrcode.constants.ERROR_CORRECT_L,\n",
    "        box_size=10,\n",
    "        border=4)"
   ]
  },
  {
   "cell_type": "code",
   "execution_count": 126,
   "id": "8bb87545-fa3a-4212-9e3e-d67219e1c1fc",
   "metadata": {},
   "outputs": [],
   "source": [
    "qr.add_data(texto_qr)\n",
    "qr.make(fit=True)    \n",
    "qr_img = qr.make_image(fill_color=\"black\", back_color=\"white\")"
   ]
  },
  {
   "cell_type": "code",
   "execution_count": 127,
   "id": "0bdd6b2e-120c-469e-afa9-f3a8e61c2a85",
   "metadata": {},
   "outputs": [
    {
     "data": {
      "text/plain": [
       "'qr_75_MARIANO AGULERA_1_08-01-2024'"
      ]
     },
     "execution_count": 127,
     "metadata": {},
     "output_type": "execute_result"
    }
   ],
   "source": [
    "qr_file_name = 'qr_' + str(data_inf.cod_ca) + '_' + data_inf.nom_ca + '_' + str(data_inf.cite) + '_' + data_inf.fecha_insp.replace('/', '-')\n",
    "qr_file_name"
   ]
  },
  {
   "cell_type": "code",
   "execution_count": 128,
   "id": "7b970efc-f82c-4c0c-a288-a4a58ef40eb6",
   "metadata": {},
   "outputs": [],
   "source": [
    "ruta_qr = ruta + '/planos/' + qr_file_name + '.png'\n",
    "qr_img.save(ruta_qr)"
   ]
  },
  {
   "cell_type": "code",
   "execution_count": 137,
   "id": "93c11371-b2ea-4393-b5b8-0f5d483cfb9b",
   "metadata": {},
   "outputs": [],
   "source": [
    "# GENERAR REPORTE\n",
    "doc = DocxTemplate(ruta + \"/templates/tpl_modelo_informe.docx\")"
   ]
  },
  {
   "cell_type": "code",
   "execution_count": 138,
   "id": "7c8bb8c5-4a64-451b-9708-e5281a85edbc",
   "metadata": {},
   "outputs": [],
   "source": [
    "firma_respon = None\n",
    "if data_inf.tecnico == 'Rogelio Acuña Rodríguez':\n",
    "    firma_respon = docxtpl.InlineImage(doc, image_descriptor=ruta+'/templates/firma_rogelio.png', width=Mm(60))\n",
    "else:\n",
    "    firma_respon = docxtpl.InlineImage(doc, image_descriptor=ruta+'/templates/firma_jaldin.png', width=Mm(60))"
   ]
  },
  {
   "cell_type": "code",
   "execution_count": 139,
   "id": "d77aa32f-7645-47a4-b398-f2fd86a6b18b",
   "metadata": {},
   "outputs": [],
   "source": [
    "qr_file = docxtpl.InlineImage(doc, image_descriptor=ruta_qr, width=Mm(30))"
   ]
  },
  {
   "cell_type": "code",
   "execution_count": 140,
   "id": "46e6e0c1-ae08-4324-a494-096e7c640983",
   "metadata": {},
   "outputs": [],
   "source": [
    "context = {'data':data_inf, 'firma':firma_respon,'qr':qr_file}\n",
    "doc.render(context)"
   ]
  },
  {
   "cell_type": "code",
   "execution_count": 141,
   "id": "c098e0bb-1436-4472-ac8e-8ef0ecb63c16",
   "metadata": {},
   "outputs": [
    {
     "data": {
      "text/plain": [
       "data(tipo_inf='INSPECCION', fecha_actual='08/01/2024', anho='2024', cite=1, tecnico='Juan Pablo Jaldin Duran', fecha_insp='08/01/2024', nom_ca='MARIANO AGULERA', cod_ca=75)"
      ]
     },
     "execution_count": 141,
     "metadata": {},
     "output_type": "execute_result"
    }
   ],
   "source": [
    "data_inf"
   ]
  },
  {
   "cell_type": "code",
   "execution_count": 142,
   "id": "17abf64c-9e4f-4d6d-a4fa-be3a4280576e",
   "metadata": {},
   "outputs": [
    {
     "data": {
      "text/plain": [
       "'_75_INSP_08-01-2024_MARIANO AGULERA'"
      ]
     },
     "execution_count": 142,
     "metadata": {},
     "output_type": "execute_result"
    }
   ],
   "source": [
    "file_name = \"_\" + str(data_inf.cod_ca) + '_INSP_' + data_inf.fecha_insp.replace('/', '-') + '_' + data_inf.nom_ca\n",
    "file_name"
   ]
  },
  {
   "cell_type": "code",
   "execution_count": 143,
   "id": "585263fb-0dc6-49d6-a9a2-424e2e18251b",
   "metadata": {},
   "outputs": [],
   "source": [
    "doc.save(ruta + '/informes/' + file_name + '.docx')"
   ]
  },
  {
   "cell_type": "code",
   "execution_count": null,
   "id": "bf2e8611-274d-4ea7-ad54-cac8be46dd82",
   "metadata": {},
   "outputs": [],
   "source": []
  }
 ],
 "metadata": {
  "kernelspec": {
   "display_name": "Python 3 (ipykernel)",
   "language": "python",
   "name": "python3"
  },
  "language_info": {
   "codemirror_mode": {
    "name": "ipython",
    "version": 3
   },
   "file_extension": ".py",
   "mimetype": "text/x-python",
   "name": "python",
   "nbconvert_exporter": "python",
   "pygments_lexer": "ipython3",
   "version": "3.7.16"
  }
 },
 "nbformat": 4,
 "nbformat_minor": 5
}
