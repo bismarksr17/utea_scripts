{
 "cells": [
  {
   "cell_type": "code",
   "execution_count": 5,
   "id": "0e135d10-7ca6-40f8-bcc1-7a1f11165eee",
   "metadata": {},
   "outputs": [],
   "source": [
    "import time\n",
    "import pandas as pd\n",
    "import requests\n",
    "from datetime import datetime, timedelta"
   ]
  },
  {
   "cell_type": "code",
   "execution_count": 6,
   "id": "ffdf5aa9-75b3-4637-80cd-7cfb155bf623",
   "metadata": {
    "tags": []
   },
   "outputs": [],
   "source": [
    "# funcion para extraer datos por rango de fechas\n",
    "def extraer_datos(end_point, fecha_ini, fecha_fin):\n",
    "    url = \"http://10.1.0.103:9080/Utea/\" + end_point\n",
    "    params = {\n",
    "        \"pStrFecIni\": fecha_ini,\n",
    "        \"pStrFecFin\": fecha_fin,\n",
    "    }\n",
    "    response = requests.get(url, params=params)\n",
    "    data = None\n",
    "    if response.status_code == 200:\n",
    "        data = response.json()\n",
    "        now = datetime.now()\n",
    "        formatted_now = now.strftime('%d/%m/%Y %H:%M:%S')\n",
    "        print(formatted_now + \" - Actualizado: \" + end_point)\n",
    "    else:\n",
    "        print(f\"Error al obtener datos: {response.status_code}\")\n",
    "    return data"
   ]
  },
  {
   "cell_type": "code",
   "execution_count": 7,
   "id": "658c4bda-4d3c-454e-8986-0b4cab32c4a5",
   "metadata": {},
   "outputs": [],
   "source": [
    "# rutas para actualizar archivos\n",
    "ReportePlaya = r'D:\\Ingenio Azucarero Guabira S.A\\COOR_GERENCIA_CANA - Parte_Horarios\\ReportePlaya.xlsx'\n",
    "Molienda = r'D:\\Ingenio Azucarero Guabira S.A\\COOR_GERENCIA_CANA - Parte_Horarios\\Molienda.xlsx'\n",
    "TrafCamBalanza = r'D:\\Ingenio Azucarero Guabira S.A\\COOR_GERENCIA_CANA - Parte_Horarios\\TrafCamBalanza.xlsx'\n",
    "ReportePrestamos = r'D:\\Ingenio Azucarero Guabira S.A\\COOR_GERENCIA_CANA - Parte_Horarios\\ReportePrestamos.xlsx'\n",
    "PlanZafra = r'D:\\Ingenio Azucarero Guabira S.A\\COOR_GERENCIA_CANA - Parte_Horarios\\PlanZafra.xlsx'"
   ]
  },
  {
   "cell_type": "code",
   "execution_count": null,
   "id": "314cbece-fc4a-48b2-ae43-b9cff2314e5e",
   "metadata": {},
   "outputs": [
    {
     "name": "stdout",
     "output_type": "stream",
     "text": [
      "12/05/2023 07:54:08 - Actualizado: ReportePlaya\n",
      "12/05/2023 07:54:09 - Actualizado: Molienda\n",
      "12/05/2023 07:54:09 - Actualizado: TrafCamBalanza\n"
     ]
    }
   ],
   "source": [
    "while True:\n",
    "    \n",
    "    # obtiene la fecha actual en formato yyyy-mm-dd\n",
    "    now = datetime.now().strftime('%Y-%m-%d')\n",
    "\n",
    "    # obtener la fecha de ayer\n",
    "    today = datetime.now()\n",
    "    yesterday = today - timedelta(days=1)\n",
    "    yesterday = yesterday.strftime('%Y-%m-%d')\n",
    "    \n",
    "    # ejecutar consultas para extraer datos\n",
    "    data_ReportePlaya = extraer_datos('ReportePlaya', yesterday, now)\n",
    "    data_Molienda = extraer_datos('Molienda', now, now)\n",
    "    data_TrafCamBalanza = extraer_datos('TrafCamBalanza', now, now)\n",
    "    \n",
    "    # ReportePlaya (convierte en dataframe y exporta como excel)\n",
    "    tbl_ReportePlaya = pd.DataFrame(data_ReportePlaya)\n",
    "    tbl_ReportePlaya.to_excel(ReportePlaya)\n",
    "\n",
    "    # Molienda (convierte en dataframe y exporta como excel)\n",
    "    tbl_Molienda = pd.DataFrame(data_Molienda)\n",
    "    tbl_Molienda.to_excel(Molienda)\n",
    "\n",
    "    # TrafCamBalanza (convierte en dataframe y exporta como excel)\n",
    "    tbl_TrafCamBalanza = pd.DataFrame(data_TrafCamBalanza)\n",
    "    tbl_TrafCamBalanza.to_excel(TrafCamBalanza)\n",
    "    \n",
    "    # tiempo de espera en segundos\n",
    "    time.sleep(1800)"
   ]
  },
  {
   "cell_type": "code",
   "execution_count": 7,
   "id": "b4fb3936-f4b2-4c60-b4b3-7057333e7622",
   "metadata": {},
   "outputs": [
    {
     "name": "stdout",
     "output_type": "stream",
     "text": [
      "Datos recibidos con éxito:\n"
     ]
    }
   ],
   "source": [
    "data_ReportePlaya = extraer_datos('ReportePlaya', yesterday, now)"
   ]
  },
  {
   "cell_type": "code",
   "execution_count": 9,
   "id": "de2d8cbd-2bb3-47b5-ae3b-217c234d0785",
   "metadata": {},
   "outputs": [],
   "source": [
    "tbl_ReportePlaya = pd.DataFrame(data_ReportePlaya)\n",
    "tbl_ReportePlaya.to_excel(r'D:\\Ingenio Azucarero Guabira S.A\\COOR_GERENCIA_CANA - Parte_Horarios\\ReportePlaya2.xlsx')"
   ]
  },
  {
   "cell_type": "code",
   "execution_count": null,
   "id": "c942bd2c-bd5f-43a3-8b79-9bd997b094f4",
   "metadata": {},
   "outputs": [],
   "source": []
  },
  {
   "cell_type": "code",
   "execution_count": null,
   "id": "9c06256c-aae1-491e-81a6-59e5f92a5f4d",
   "metadata": {},
   "outputs": [],
   "source": []
  },
  {
   "cell_type": "code",
   "execution_count": null,
   "id": "1c179b7a-3ec8-4ef1-a792-cace416cdda2",
   "metadata": {},
   "outputs": [],
   "source": []
  }
 ],
 "metadata": {
  "kernelspec": {
   "display_name": "Python 3 (ipykernel)",
   "language": "python",
   "name": "python3"
  },
  "language_info": {
   "codemirror_mode": {
    "name": "ipython",
    "version": 3
   },
   "file_extension": ".py",
   "mimetype": "text/x-python",
   "name": "python",
   "nbconvert_exporter": "python",
   "pygments_lexer": "ipython3",
   "version": "3.7.16"
  }
 },
 "nbformat": 4,
 "nbformat_minor": 5
}
