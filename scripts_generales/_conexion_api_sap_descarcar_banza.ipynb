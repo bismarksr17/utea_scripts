{
 "cells": [
  {
   "cell_type": "code",
   "execution_count": 92,
   "id": "0e135d10-7ca6-40f8-bcc1-7a1f11165eee",
   "metadata": {},
   "outputs": [],
   "source": [
    "import time\n",
    "import pandas as pd\n",
    "import requests\n",
    "from datetime import datetime, timedelta\n",
    "\n",
    "# funcion para extraer datos por rango de fechas\n",
    "def extraer_datos(end_point, fecha_ini, fecha_fin):\n",
    "    url = \"http://10.1.0.103:9080/Utea/\" + end_point\n",
    "    params = {\n",
    "        \"pStrFecIni\": fecha_ini,\n",
    "        \"pStrFecFin\": fecha_fin,\n",
    "    }\n",
    "    response = requests.get(url, params=params)\n",
    "    data = None\n",
    "    if response.status_code == 200:\n",
    "        data = response.json()\n",
    "        now = datetime.now()\n",
    "        formatted_now = now.strftime('%d/%m/%Y %H:%M:%S')\n",
    "        print(formatted_now + \" - Actualizado: \" + end_point)\n",
    "    else:\n",
    "        print(f\"Error al obtener datos: {response.status_code}\")\n",
    "    return data\n",
    "\n",
    "# rutas para actualizar archivos\n",
    "TrafCamBalanza = r'G:/OneDrive - Ingenio Azucarero Guabira S.A/UTEA_2024/CALIDAD DE COSECHA/DATOS_BALANZA/TrafCamBalanza.xlsx'"
   ]
  },
  {
   "cell_type": "code",
   "execution_count": 93,
   "id": "bee2b294-45ed-4d53-bdbe-f458cdfb3a67",
   "metadata": {},
   "outputs": [],
   "source": [
    "fecha = '2024-05-07'"
   ]
  },
  {
   "cell_type": "code",
   "execution_count": 103,
   "id": "065fdbeb-faf5-4092-888a-fda6a9ae2c4f",
   "metadata": {},
   "outputs": [
    {
     "name": "stdout",
     "output_type": "stream",
     "text": [
      "Error al obtener datos: 500\n"
     ]
    }
   ],
   "source": [
    "data_TrafCamBalanza = extraer_datos('TrafCamBalanza', fecha, fecha)"
   ]
  },
  {
   "cell_type": "code",
   "execution_count": 65,
   "id": "94b74e2f-fe31-4419-a4a5-1df22aa32f5e",
   "metadata": {},
   "outputs": [],
   "source": [
    "tbl_TrafCamBalanza = pd.DataFrame(data_TrafCamBalanza)"
   ]
  },
  {
   "cell_type": "code",
   "execution_count": 67,
   "id": "c942bd2c-bd5f-43a3-8b79-9bd997b094f4",
   "metadata": {},
   "outputs": [],
   "source": [
    "tbl_TrafCamBalanza = tbl_TrafCamBalanza[tbl_TrafCamBalanza['name1'] != '']"
   ]
  },
  {
   "cell_type": "code",
   "execution_count": 68,
   "id": "1c179b7a-3ec8-4ef1-a792-cace416cdda2",
   "metadata": {},
   "outputs": [],
   "source": [
    "tbl_TrafCamBalanza.to_excel(TrafCamBalanza)"
   ]
  },
  {
   "cell_type": "code",
   "execution_count": null,
   "id": "733cc4a4-8f40-4d32-b2cf-45423dbc9291",
   "metadata": {},
   "outputs": [],
   "source": []
  },
  {
   "cell_type": "code",
   "execution_count": null,
   "id": "b10130db-08de-4249-b7b7-b00ea52cde2c",
   "metadata": {},
   "outputs": [],
   "source": []
  },
  {
   "cell_type": "code",
   "execution_count": null,
   "id": "95ad0bb3-e34a-48b9-abe3-9253e188f27d",
   "metadata": {},
   "outputs": [],
   "source": []
  },
  {
   "cell_type": "code",
   "execution_count": null,
   "id": "35d9f20c-40bf-4b31-9672-01d4f0457e73",
   "metadata": {},
   "outputs": [],
   "source": []
  },
  {
   "cell_type": "code",
   "execution_count": 89,
   "id": "5103d753-bec0-49f2-8cfc-9313e86cb0e2",
   "metadata": {},
   "outputs": [
    {
     "name": "stdout",
     "output_type": "stream",
     "text": [
      "25/05/2024 11:55:40 - Actualizado: TrafCamBalanza\n",
      "Datos acumulados guardados en G:/OneDrive - Ingenio Azucarero Guabira S.A/UTEA_2024/CALIDAD DE COSECHA/DATOS_BALANZA/TrafCamBalanza.xlsx\n"
     ]
    }
   ],
   "source": [
    "import time\n",
    "import pandas as pd\n",
    "import requests\n",
    "from datetime import datetime, timedelta\n",
    "import os\n",
    "\n",
    "# Función para extraer datos por rango de fechas\n",
    "def extraer_datos(end_point, fecha_ini, fecha_fin):\n",
    "    url = f\"http://10.1.0.103:9080/Utea/{end_point}\"\n",
    "    params = {\n",
    "        \"pStrFecIni\": fecha_ini,\n",
    "        \"pStrFecFin\": fecha_fin,\n",
    "    }\n",
    "    try:\n",
    "        response = requests.get(url, params=params)\n",
    "        response.raise_for_status()  # Levanta una excepción para códigos de estado 4xx/5xx\n",
    "        data = response.json()\n",
    "        now = datetime.now().strftime('%d/%m/%Y %H:%M:%S')\n",
    "        print(f\"{now} - Actualizado: {end_point}\")\n",
    "        return data\n",
    "    except requests.RequestException as e:\n",
    "        print(f\"Error al obtener datos del endpoint '{end_point}': {e}\")\n",
    "        return None\n",
    "\n",
    "# Función para guardar DataFrame en Excel acumulando datos\n",
    "def guardar_excel_acumulado(nuevos_datos, ruta_archivo):\n",
    "    try:\n",
    "        if os.path.exists(ruta_archivo):\n",
    "            # Leer datos existentes\n",
    "            datos_existentes = pd.read_excel(ruta_archivo)\n",
    "            # Combinar datos existentes con nuevos datos\n",
    "            datos_combinados = pd.concat([datos_existentes, nuevos_datos], ignore_index=True)\n",
    "        else:\n",
    "            # Si el archivo no existe, usar solo los nuevos datos\n",
    "            datos_combinados = nuevos_datos\n",
    "        \n",
    "        # Guardar los datos combinados en el archivo Excel\n",
    "        datos_combinados.to_excel(ruta_archivo, index=False)\n",
    "        print(f\"Datos acumulados guardados en {ruta_archivo}\")\n",
    "    except Exception as e:\n",
    "        print(f\"Error al guardar el archivo Excel: {e}\")\n",
    "\n",
    "# Rutas para actualizar archivos\n",
    "TrafCamBalanza = r'G:/OneDrive - Ingenio Azucarero Guabira S.A/UTEA_2024/CALIDAD DE COSECHA/DATOS_BALANZA/TrafCamBalanza.xlsx'\n",
    "\n",
    "# Fecha para la extracción de datos\n",
    "fecha = '2024-05-24'\n",
    "\n",
    "# Extraer y guardar datos\n",
    "data_TrafCamBalanza = extraer_datos('TrafCamBalanza', fecha, fecha)\n",
    "if data_TrafCamBalanza:\n",
    "    tbl_TrafCamBalanza = pd.DataFrame(data_TrafCamBalanza)\n",
    "    tbl_TrafCamBalanza = tbl_TrafCamBalanza[tbl_TrafCamBalanza['name1'] != '']\n",
    "    guardar_excel_acumulado(tbl_TrafCamBalanza, TrafCamBalanza)\n"
   ]
  },
  {
   "cell_type": "code",
   "execution_count": null,
   "id": "c88edc82-2416-4683-be71-87a5f1a43d83",
   "metadata": {},
   "outputs": [],
   "source": []
  },
  {
   "cell_type": "code",
   "execution_count": null,
   "id": "b82a100d-8a7d-480b-a4c8-033a1fd3e36d",
   "metadata": {},
   "outputs": [],
   "source": []
  },
  {
   "cell_type": "code",
   "execution_count": null,
   "id": "0c2a3d77-688f-456b-8de4-eafb76cf9295",
   "metadata": {},
   "outputs": [],
   "source": []
  },
  {
   "cell_type": "code",
   "execution_count": null,
   "id": "94b3b572-fefb-4c02-8ec8-46d76c5b5469",
   "metadata": {},
   "outputs": [],
   "source": []
  }
 ],
 "metadata": {
  "kernelspec": {
   "display_name": "Python 3 (ipykernel)",
   "language": "python",
   "name": "python3"
  },
  "language_info": {
   "codemirror_mode": {
    "name": "ipython",
    "version": 3
   },
   "file_extension": ".py",
   "mimetype": "text/x-python",
   "name": "python",
   "nbconvert_exporter": "python",
   "pygments_lexer": "ipython3",
   "version": "3.10.13"
  }
 },
 "nbformat": 4,
 "nbformat_minor": 5
}
