{
 "cells": [
  {
   "cell_type": "code",
   "execution_count": 1,
   "id": "98225cb2-4018-43f5-8020-d787ea84eba4",
   "metadata": {},
   "outputs": [],
   "source": [
    "import os"
   ]
  },
  {
   "cell_type": "code",
   "execution_count": null,
   "id": "a62f50ed-6c61-4a1d-a489-28e1da8d9ecf",
   "metadata": {},
   "outputs": [],
   "source": [
    "path = 'C:/Users/jpjaldin/Desktop/QUEMA/COMPROBANTES'\n",
    "documents = os.listdir(path)"
   ]
  },
  {
   "cell_type": "code",
   "execution_count": null,
   "id": "fcc82c44-0101-4f6d-9603-e65f480964d5",
   "metadata": {},
   "outputs": [],
   "source": [
    "documents"
   ]
  },
  {
   "cell_type": "code",
   "execution_count": null,
   "id": "40e03d9c-a38b-4bc6-ab2f-c83eec3a42b7",
   "metadata": {},
   "outputs": [],
   "source": [
    "from pydrive.auth import GoogleAuth\n",
    "from pydrive.drive import GoogleDrive\n",
    "\n",
    "gauth = GoogleAuth()\n",
    "gauth.LocalWebserverAuth() # client_secrets.json need to be in the same directory as the script\n",
    "drive = GoogleDrive(gauth)"
   ]
  },
  {
   "cell_type": "code",
   "execution_count": null,
   "id": "fe09d794-a101-4127-b199-b6985aaeba27",
   "metadata": {},
   "outputs": [],
   "source": [
    "# recibe un FILENAME y crea un diccionario {COD; FILENAME}\n",
    "def convert_to_dict(file):\n",
    "    dic = {}\n",
    "    dic['cod'] = file.split('_')[0] + '_' + file.split('_')[2]\n",
    "    dic['filename'] = file\n",
    "    return dic"
   ]
  },
  {
   "cell_type": "code",
   "execution_count": null,
   "id": "60b796ae-d205-4fbf-a70a-1b4fff9fafad",
   "metadata": {},
   "outputs": [],
   "source": [
    "# convertir la lista de FILENAMES a diccionarios de COD mas FILENAME\n",
    "list_of_dicts = list(map(convert_to_dict, documents))"
   ]
  },
  {
   "cell_type": "code",
   "execution_count": null,
   "id": "a92d140b-f235-4b65-9270-693469d579fc",
   "metadata": {},
   "outputs": [],
   "source": [
    "list_of_dicts"
   ]
  },
  {
   "cell_type": "code",
   "execution_count": null,
   "id": "9d22357d-6260-4239-8822-9e3d24f04987",
   "metadata": {},
   "outputs": [],
   "source": []
  },
  {
   "cell_type": "code",
   "execution_count": null,
   "id": "17bcca36-8b17-4b5e-9b04-0693cd63c5e3",
   "metadata": {},
   "outputs": [],
   "source": [
    "# subir los archivos a DRIVE y obtener los links\n",
    "dic_urls = {}\n",
    "# View all folders and file in your Google Drive\n",
    "fileList = drive.ListFile({'q': \"'root' in parents and trashed=false\"}).GetList()\n",
    "for file in fileList:\n",
    "  #print('Title: %s, ID: %s' % (file['title'], file['id']))\n",
    "  # Get the folder ID that you want\n",
    "  if(file['title'] == \"CANA_QUEMADA_2021\"):\n",
    "      fileID = file['id']\n",
    "\n",
    "for file in list_of_dicts:\n",
    "    # para .PDF\n",
    "    file1 = drive.CreateFile({\"mimeType\": \"application/pdf\", \"parents\": [{\"kind\": \"drive#fileLink\", \"id\": fileID}]})\n",
    "    # para .DOCX\n",
    "    #file1 = drive.CreateFile({\"mimeType\": \"application/vnd.openxmlformats-officedocument.wordprocessingml.document\", \"parents\": [{\"kind\": \"drive#fileLink\", \"id\": fileID}]})\n",
    "    file1['title'] = file['filename']\n",
    "    file1.SetContentFile(path + '/' + file['filename'])\n",
    "    file1.Upload() # Upload the file.\n",
    "    print('Created file %s with mimeType %s' % (file1['title'], file1['mimeType']))\n",
    "    permission = file1.InsertPermission({\n",
    "                        'type': 'anyone',\n",
    "                        'value': 'anyone',\n",
    "                        'role': 'reader'})\n",
    "    dic_urls[file['cod']] = file1['alternateLink']\n",
    "dic_urls\n",
    "print('end')"
   ]
  },
  {
   "cell_type": "code",
   "execution_count": null,
   "id": "7d193826-f330-4158-8477-0e10211eb81f",
   "metadata": {},
   "outputs": [],
   "source": [
    "dic_urls"
   ]
  },
  {
   "cell_type": "code",
   "execution_count": null,
   "id": "c7c2dca8-6bd4-47e9-bdf0-34455eba40a5",
   "metadata": {},
   "outputs": [],
   "source": [
    "for key in dic_urls:\n",
    "    query = {'query': 'update dataset_269481 set link_comprobante = \\'{link}\\' where split_part(canhero, \\' / \\', 1) || \\'_\\' || to_char(fecha_inspeccion, \\'dd-mm-yyyy\\')=\\'{cod}\\''.format(link=dic_urls[key], cod=key)}\n",
    "    project = 'https://app.amigocloud.com/api/v1/projects/30545/sql'\n",
    "    res = amigocloud.post(project, query)\n",
    "    print(key)\n",
    "print('end')"
   ]
  },
  {
   "cell_type": "code",
   "execution_count": null,
   "id": "f53776ed-9f64-42f4-b02d-d75bd1f5204c",
   "metadata": {},
   "outputs": [],
   "source": []
  },
  {
   "cell_type": "code",
   "execution_count": null,
   "id": "5b7ff13d-e237-4fa9-ba04-17a644de5fd3",
   "metadata": {},
   "outputs": [],
   "source": []
  },
  {
   "cell_type": "code",
   "execution_count": null,
   "id": "31aec8d8-a113-478a-9d57-8b9df3eea890",
   "metadata": {},
   "outputs": [],
   "source": []
  },
  {
   "cell_type": "code",
   "execution_count": null,
   "id": "034c9758-34fa-4f38-99b2-e098276c21a7",
   "metadata": {},
   "outputs": [],
   "source": []
  },
  {
   "cell_type": "code",
   "execution_count": null,
   "id": "1add1fec-4b48-4ef5-9e5c-b18eabfae89f",
   "metadata": {},
   "outputs": [],
   "source": []
  }
 ],
 "metadata": {
  "kernelspec": {
   "display_name": "Python 3 (ipykernel)",
   "language": "python",
   "name": "python3"
  },
  "language_info": {
   "codemirror_mode": {
    "name": "ipython",
    "version": 3
   },
   "file_extension": ".py",
   "mimetype": "text/x-python",
   "name": "python",
   "nbconvert_exporter": "python",
   "pygments_lexer": "ipython3",
   "version": "3.10.13"
  }
 },
 "nbformat": 4,
 "nbformat_minor": 5
}
