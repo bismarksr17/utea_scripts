{
 "cells": [
  {
   "cell_type": "code",
   "execution_count": 49,
   "id": "98225cb2-4018-43f5-8020-d787ea84eba4",
   "metadata": {},
   "outputs": [],
   "source": [
    "import os"
   ]
  },
  {
   "cell_type": "code",
   "execution_count": 50,
   "id": "a62f50ed-6c61-4a1d-a489-28e1da8d9ecf",
   "metadata": {},
   "outputs": [],
   "source": [
    "path = 'C:/Users/jpjaldin/Desktop/QUEMA/COMPROBANTES'\n",
    "documents = os.listdir(path)"
   ]
  },
  {
   "cell_type": "code",
   "execution_count": 52,
   "id": "fcc82c44-0101-4f6d-9603-e65f480964d5",
   "metadata": {},
   "outputs": [
    {
     "data": {
      "text/plain": [
       "['11171_CQ_22-07-2021.pdf',\n",
       " '11812_CQ_21-08-2021.pdf',\n",
       " '12061_CQ_30-06-2021.pdf',\n",
       " '12075_CQ_22-07-2021.pdf',\n",
       " '13012_CQ_31-08-2021.pdf',\n",
       " '13638_CQ_13-09-2021.pdf',\n",
       " '15928_CQ_20-08-2021.pdf',\n",
       " '17691_CQ_01-09-2021.pdf',\n",
       " '17691_CQ_13-09-2021.pdf',\n",
       " '20049_CQ_13-09-2021.pdf',\n",
       " '2604_CQ_07-08-2021.pdf',\n",
       " '2794_CQ_27-07-2021.pdf',\n",
       " '2794_CQ_31-07-2021.pdf',\n",
       " '2899_CQ_28-07-2021.pdf',\n",
       " '3334_CQ_26-07-2021.pdf',\n",
       " '3430_CQ_17-08-2021.pdf',\n",
       " '402_CQ_29-07-2021.pdf',\n",
       " '41788_CQ_17-08-2021.pdf',\n",
       " '436_CQ_17-09-2021.pdf',\n",
       " '4815_CQ_01-09-2021.pdf',\n",
       " '4839_CQ_06-10-2021.pdf',\n",
       " '4839_CQ_26-07-2021.pdf',\n",
       " '4844_CQ_28-07-2021.pdf',\n",
       " '4942_CQ_01-09-2021.pdf',\n",
       " '5332_CQ_03-08-2021.pdf',\n",
       " '5845_CQ_21-08-2021.pdf',\n",
       " '6436_CQ_05-07-2021.pdf',\n",
       " '6457_CQ_28-07-2021.pdf',\n",
       " '6550_CQ_02-07-2021.pdf',\n",
       " '8011_CQ_23-08-2021.pdf',\n",
       " '8678_CQ_16-08-2021.pdf',\n",
       " '8814_CQ_18-09-2021.pdf',\n",
       " '8814_CQ_28-07-2021.pdf',\n",
       " '934_CQ_17-09-2021.pdf']"
      ]
     },
     "execution_count": 52,
     "metadata": {},
     "output_type": "execute_result"
    }
   ],
   "source": [
    "documents"
   ]
  },
  {
   "cell_type": "code",
   "execution_count": 29,
   "id": "40e03d9c-a38b-4bc6-ab2f-c83eec3a42b7",
   "metadata": {},
   "outputs": [
    {
     "name": "stdout",
     "output_type": "stream",
     "text": [
      "Your browser has been opened to visit:\n",
      "\n",
      "    https://accounts.google.com/o/oauth2/auth?client_id=1096764895697-57btfmtn7rdejufct5qq4j9mi61j0unl.apps.googleusercontent.com&redirect_uri=http%3A%2F%2Flocalhost%3A8080%2F&scope=https%3A%2F%2Fwww.googleapis.com%2Fauth%2Fdrive&access_type=offline&response_type=code\n",
      "\n"
     ]
    },
    {
     "name": "stderr",
     "output_type": "stream",
     "text": [
      "WARNING:googleapiclient.discovery_cache:file_cache is unavailable when using oauth2client >= 4.0.0 or google-auth\n",
      "Traceback (most recent call last):\n",
      "  File \"C:\\Users\\jpjaldin\\Anaconda3\\envs\\reporte_credito_siembra\\lib\\site-packages\\googleapiclient\\discovery_cache\\file_cache.py\", line 33, in <module>\n",
      "    from oauth2client.contrib.locked_file import LockedFile\n",
      "ModuleNotFoundError: No module named 'oauth2client.contrib.locked_file'\n",
      "\n",
      "During handling of the above exception, another exception occurred:\n",
      "\n",
      "Traceback (most recent call last):\n",
      "  File \"C:\\Users\\jpjaldin\\Anaconda3\\envs\\reporte_credito_siembra\\lib\\site-packages\\googleapiclient\\discovery_cache\\file_cache.py\", line 37, in <module>\n",
      "    from oauth2client.locked_file import LockedFile\n",
      "ModuleNotFoundError: No module named 'oauth2client.locked_file'\n",
      "\n",
      "During handling of the above exception, another exception occurred:\n",
      "\n",
      "Traceback (most recent call last):\n",
      "  File \"C:\\Users\\jpjaldin\\Anaconda3\\envs\\reporte_credito_siembra\\lib\\site-packages\\googleapiclient\\discovery_cache\\__init__.py\", line 44, in autodetect\n",
      "    from . import file_cache\n",
      "  File \"C:\\Users\\jpjaldin\\Anaconda3\\envs\\reporte_credito_siembra\\lib\\site-packages\\googleapiclient\\discovery_cache\\file_cache.py\", line 40, in <module>\n",
      "    raise ImportError(\n",
      "ImportError: file_cache is unavailable when using oauth2client >= 4.0.0 or google-auth\n"
     ]
    },
    {
     "name": "stdout",
     "output_type": "stream",
     "text": [
      "Authentication successful.\n"
     ]
    }
   ],
   "source": [
    "from pydrive.auth import GoogleAuth\n",
    "from pydrive.drive import GoogleDrive\n",
    "\n",
    "gauth = GoogleAuth()\n",
    "gauth.LocalWebserverAuth() # client_secrets.json need to be in the same directory as the script\n",
    "drive = GoogleDrive(gauth)"
   ]
  },
  {
   "cell_type": "code",
   "execution_count": 53,
   "id": "fe09d794-a101-4127-b199-b6985aaeba27",
   "metadata": {},
   "outputs": [],
   "source": [
    "# recibe un FILENAME y crea un diccionario {COD; FILENAME}\n",
    "def convert_to_dict(file):\n",
    "    dic = {}\n",
    "    dic['cod'] = file.split('_')[0] + '_' + file.split('_')[2]\n",
    "    dic['filename'] = file\n",
    "    return dic"
   ]
  },
  {
   "cell_type": "code",
   "execution_count": 54,
   "id": "60b796ae-d205-4fbf-a70a-1b4fff9fafad",
   "metadata": {},
   "outputs": [],
   "source": [
    "# convertir la lista de FILENAMES a diccionarios de COD mas FILENAME\n",
    "list_of_dicts = list(map(convert_to_dict, documents))"
   ]
  },
  {
   "cell_type": "code",
   "execution_count": 55,
   "id": "a92d140b-f235-4b65-9270-693469d579fc",
   "metadata": {},
   "outputs": [
    {
     "data": {
      "text/plain": [
       "[{'cod': '11171_22-07-2021.pdf', 'filename': '11171_CQ_22-07-2021.pdf'},\n",
       " {'cod': '11812_21-08-2021.pdf', 'filename': '11812_CQ_21-08-2021.pdf'},\n",
       " {'cod': '12061_30-06-2021.pdf', 'filename': '12061_CQ_30-06-2021.pdf'},\n",
       " {'cod': '12075_22-07-2021.pdf', 'filename': '12075_CQ_22-07-2021.pdf'},\n",
       " {'cod': '13012_31-08-2021.pdf', 'filename': '13012_CQ_31-08-2021.pdf'},\n",
       " {'cod': '13638_13-09-2021.pdf', 'filename': '13638_CQ_13-09-2021.pdf'},\n",
       " {'cod': '15928_20-08-2021.pdf', 'filename': '15928_CQ_20-08-2021.pdf'},\n",
       " {'cod': '17691_01-09-2021.pdf', 'filename': '17691_CQ_01-09-2021.pdf'},\n",
       " {'cod': '17691_13-09-2021.pdf', 'filename': '17691_CQ_13-09-2021.pdf'},\n",
       " {'cod': '20049_13-09-2021.pdf', 'filename': '20049_CQ_13-09-2021.pdf'},\n",
       " {'cod': '2604_07-08-2021.pdf', 'filename': '2604_CQ_07-08-2021.pdf'},\n",
       " {'cod': '2794_27-07-2021.pdf', 'filename': '2794_CQ_27-07-2021.pdf'},\n",
       " {'cod': '2794_31-07-2021.pdf', 'filename': '2794_CQ_31-07-2021.pdf'},\n",
       " {'cod': '2899_28-07-2021.pdf', 'filename': '2899_CQ_28-07-2021.pdf'},\n",
       " {'cod': '3334_26-07-2021.pdf', 'filename': '3334_CQ_26-07-2021.pdf'},\n",
       " {'cod': '3430_17-08-2021.pdf', 'filename': '3430_CQ_17-08-2021.pdf'},\n",
       " {'cod': '402_29-07-2021.pdf', 'filename': '402_CQ_29-07-2021.pdf'},\n",
       " {'cod': '41788_17-08-2021.pdf', 'filename': '41788_CQ_17-08-2021.pdf'},\n",
       " {'cod': '436_17-09-2021.pdf', 'filename': '436_CQ_17-09-2021.pdf'},\n",
       " {'cod': '4815_01-09-2021.pdf', 'filename': '4815_CQ_01-09-2021.pdf'},\n",
       " {'cod': '4839_06-10-2021.pdf', 'filename': '4839_CQ_06-10-2021.pdf'},\n",
       " {'cod': '4839_26-07-2021.pdf', 'filename': '4839_CQ_26-07-2021.pdf'},\n",
       " {'cod': '4844_28-07-2021.pdf', 'filename': '4844_CQ_28-07-2021.pdf'},\n",
       " {'cod': '4942_01-09-2021.pdf', 'filename': '4942_CQ_01-09-2021.pdf'},\n",
       " {'cod': '5332_03-08-2021.pdf', 'filename': '5332_CQ_03-08-2021.pdf'},\n",
       " {'cod': '5845_21-08-2021.pdf', 'filename': '5845_CQ_21-08-2021.pdf'},\n",
       " {'cod': '6436_05-07-2021.pdf', 'filename': '6436_CQ_05-07-2021.pdf'},\n",
       " {'cod': '6457_28-07-2021.pdf', 'filename': '6457_CQ_28-07-2021.pdf'},\n",
       " {'cod': '6550_02-07-2021.pdf', 'filename': '6550_CQ_02-07-2021.pdf'},\n",
       " {'cod': '8011_23-08-2021.pdf', 'filename': '8011_CQ_23-08-2021.pdf'},\n",
       " {'cod': '8678_16-08-2021.pdf', 'filename': '8678_CQ_16-08-2021.pdf'},\n",
       " {'cod': '8814_18-09-2021.pdf', 'filename': '8814_CQ_18-09-2021.pdf'},\n",
       " {'cod': '8814_28-07-2021.pdf', 'filename': '8814_CQ_28-07-2021.pdf'},\n",
       " {'cod': '934_17-09-2021.pdf', 'filename': '934_CQ_17-09-2021.pdf'}]"
      ]
     },
     "execution_count": 55,
     "metadata": {},
     "output_type": "execute_result"
    }
   ],
   "source": [
    "list_of_dicts"
   ]
  },
  {
   "cell_type": "code",
   "execution_count": null,
   "id": "9d22357d-6260-4239-8822-9e3d24f04987",
   "metadata": {},
   "outputs": [],
   "source": []
  },
  {
   "cell_type": "code",
   "execution_count": 56,
   "id": "17bcca36-8b17-4b5e-9b04-0693cd63c5e3",
   "metadata": {},
   "outputs": [
    {
     "name": "stdout",
     "output_type": "stream",
     "text": [
      "Created file 11171_CQ_22-07-2021.pdf with mimeType application/pdf\n",
      "Created file 11812_CQ_21-08-2021.pdf with mimeType application/pdf\n",
      "Created file 12061_CQ_30-06-2021.pdf with mimeType application/pdf\n",
      "Created file 12075_CQ_22-07-2021.pdf with mimeType application/pdf\n",
      "Created file 13012_CQ_31-08-2021.pdf with mimeType application/pdf\n",
      "Created file 13638_CQ_13-09-2021.pdf with mimeType application/pdf\n",
      "Created file 15928_CQ_20-08-2021.pdf with mimeType application/pdf\n",
      "Created file 17691_CQ_01-09-2021.pdf with mimeType application/pdf\n",
      "Created file 17691_CQ_13-09-2021.pdf with mimeType application/pdf\n",
      "Created file 20049_CQ_13-09-2021.pdf with mimeType application/pdf\n",
      "Created file 2604_CQ_07-08-2021.pdf with mimeType application/pdf\n",
      "Created file 2794_CQ_27-07-2021.pdf with mimeType application/pdf\n",
      "Created file 2794_CQ_31-07-2021.pdf with mimeType application/pdf\n",
      "Created file 2899_CQ_28-07-2021.pdf with mimeType application/pdf\n",
      "Created file 3334_CQ_26-07-2021.pdf with mimeType application/pdf\n",
      "Created file 3430_CQ_17-08-2021.pdf with mimeType application/pdf\n",
      "Created file 402_CQ_29-07-2021.pdf with mimeType application/pdf\n",
      "Created file 41788_CQ_17-08-2021.pdf with mimeType application/pdf\n",
      "Created file 436_CQ_17-09-2021.pdf with mimeType application/pdf\n",
      "Created file 4815_CQ_01-09-2021.pdf with mimeType application/pdf\n",
      "Created file 4839_CQ_06-10-2021.pdf with mimeType application/pdf\n",
      "Created file 4839_CQ_26-07-2021.pdf with mimeType application/pdf\n",
      "Created file 4844_CQ_28-07-2021.pdf with mimeType application/pdf\n",
      "Created file 4942_CQ_01-09-2021.pdf with mimeType application/pdf\n",
      "Created file 5332_CQ_03-08-2021.pdf with mimeType application/pdf\n",
      "Created file 5845_CQ_21-08-2021.pdf with mimeType application/pdf\n",
      "Created file 6436_CQ_05-07-2021.pdf with mimeType application/pdf\n",
      "Created file 6457_CQ_28-07-2021.pdf with mimeType application/pdf\n",
      "Created file 6550_CQ_02-07-2021.pdf with mimeType application/pdf\n",
      "Created file 8011_CQ_23-08-2021.pdf with mimeType application/pdf\n",
      "Created file 8678_CQ_16-08-2021.pdf with mimeType application/pdf\n",
      "Created file 8814_CQ_18-09-2021.pdf with mimeType application/pdf\n",
      "Created file 8814_CQ_28-07-2021.pdf with mimeType application/pdf\n",
      "Created file 934_CQ_17-09-2021.pdf with mimeType application/pdf\n",
      "end\n"
     ]
    }
   ],
   "source": [
    "# subir los archivos a DRIVE y obtener los links\n",
    "dic_urls = {}\n",
    "# View all folders and file in your Google Drive\n",
    "fileList = drive.ListFile({'q': \"'root' in parents and trashed=false\"}).GetList()\n",
    "for file in fileList:\n",
    "  #print('Title: %s, ID: %s' % (file['title'], file['id']))\n",
    "  # Get the folder ID that you want\n",
    "  if(file['title'] == \"CANA_QUEMADA_2021\"):\n",
    "      fileID = file['id']\n",
    "\n",
    "for file in list_of_dicts:\n",
    "    # para .PDF\n",
    "    file1 = drive.CreateFile({\"mimeType\": \"application/pdf\", \"parents\": [{\"kind\": \"drive#fileLink\", \"id\": fileID}]})\n",
    "    # para .DOCX\n",
    "    #file1 = drive.CreateFile({\"mimeType\": \"application/vnd.openxmlformats-officedocument.wordprocessingml.document\", \"parents\": [{\"kind\": \"drive#fileLink\", \"id\": fileID}]})\n",
    "    file1['title'] = file['filename']\n",
    "    file1.SetContentFile(path + '/' + file['filename'])\n",
    "    file1.Upload() # Upload the file.\n",
    "    print('Created file %s with mimeType %s' % (file1['title'], file1['mimeType']))\n",
    "    permission = file1.InsertPermission({\n",
    "                        'type': 'anyone',\n",
    "                        'value': 'anyone',\n",
    "                        'role': 'reader'})\n",
    "    dic_urls[file['cod']] = file1['alternateLink']\n",
    "dic_urls\n",
    "print('end')"
   ]
  },
  {
   "cell_type": "code",
   "execution_count": 63,
   "id": "7d193826-f330-4158-8477-0e10211eb81f",
   "metadata": {},
   "outputs": [
    {
     "data": {
      "text/plain": [
       "{'11171_22-07-2021.pdf': 'https://drive.google.com/file/d/1tq9cQsrilYPIxaBfz-J63-1SFgK5dvNe/view?usp=drivesdk',\n",
       " '11812_21-08-2021.pdf': 'https://drive.google.com/file/d/14ptCIEueOOOLcqQ5wN1KuEP8_VVQBG1r/view?usp=drivesdk',\n",
       " '12061_30-06-2021.pdf': 'https://drive.google.com/file/d/1N_-N7ndXxJwTmQeB4NBwC2qomi05ca4Y/view?usp=drivesdk',\n",
       " '12075_22-07-2021.pdf': 'https://drive.google.com/file/d/1MT7jlTbi6EYLQTunn_UxNAhCdxmpKaaL/view?usp=drivesdk',\n",
       " '13012_31-08-2021.pdf': 'https://drive.google.com/file/d/1ysJv0yyleAt71fd3x7SSx29wVGGIfz4k/view?usp=drivesdk',\n",
       " '13638_13-09-2021.pdf': 'https://drive.google.com/file/d/1-eQiWLALLUZ8AOQHvrdFuLRHB3xvEDg1/view?usp=drivesdk',\n",
       " '15928_20-08-2021.pdf': 'https://drive.google.com/file/d/1AKCG4Ngh-8WI_7Zxu_0aDQ08GXVLaynH/view?usp=drivesdk',\n",
       " '17691_01-09-2021.pdf': 'https://drive.google.com/file/d/1jc13Wyi25l7lK6_9g5KZ0nt694e1udto/view?usp=drivesdk',\n",
       " '17691_13-09-2021.pdf': 'https://drive.google.com/file/d/1wea023xqQ3T-oHWfW7TtK4O66uYSkMrS/view?usp=drivesdk',\n",
       " '20049_13-09-2021.pdf': 'https://drive.google.com/file/d/1AuWHsUruHKs_bGJ5Vd9l12Rg1cxil75w/view?usp=drivesdk',\n",
       " '2604_07-08-2021.pdf': 'https://drive.google.com/file/d/11EPayn40LtbYND3_IEt9LqRlryVuPx3H/view?usp=drivesdk',\n",
       " '2794_27-07-2021.pdf': 'https://drive.google.com/file/d/1SwltkeB488ruKkrEaV8s9lkMrPpyjRW0/view?usp=drivesdk',\n",
       " '2794_31-07-2021.pdf': 'https://drive.google.com/file/d/1OmO4dwdqDTdoyz6fxVQZx0E6UTrCnqec/view?usp=drivesdk',\n",
       " '2899_28-07-2021.pdf': 'https://drive.google.com/file/d/1HrlFasVbBbh5b8Nd9TmZCssZ0Nq6GarF/view?usp=drivesdk',\n",
       " '3334_26-07-2021.pdf': 'https://drive.google.com/file/d/1I1ljksDaTRwYWrX0oEuRBm2gE2PrwCOw/view?usp=drivesdk',\n",
       " '3430_17-08-2021.pdf': 'https://drive.google.com/file/d/1i2agzQPLNAgWIxNOhYgax9HVYeN-mS6K/view?usp=drivesdk',\n",
       " '402_29-07-2021.pdf': 'https://drive.google.com/file/d/1jwFlDtIEYHFXyJdRMmcTWREM4o6bUzVz/view?usp=drivesdk',\n",
       " '41788_17-08-2021.pdf': 'https://drive.google.com/file/d/1LpliGY2RC0L1hSA38t_HB0P6PL_Uqfwc/view?usp=drivesdk',\n",
       " '436_17-09-2021.pdf': 'https://drive.google.com/file/d/1bWlcbYCq5tVZx4R6AXjNzWFpoYSrU1se/view?usp=drivesdk',\n",
       " '4815_01-09-2021.pdf': 'https://drive.google.com/file/d/1E_hXHtjRrh27z3v7xG0T1s5VQ0mBlTUi/view?usp=drivesdk',\n",
       " '4839_06-10-2021.pdf': 'https://drive.google.com/file/d/14dXaTfaZjtfLAref7hmDglcR5muuSsqc/view?usp=drivesdk',\n",
       " '4839_26-07-2021.pdf': 'https://drive.google.com/file/d/1o_nzEIbA0ij47CoquQELJCBUg2vD9Lpg/view?usp=drivesdk',\n",
       " '4844_28-07-2021.pdf': 'https://drive.google.com/file/d/1yJ1Gc4LGjlS4vA5jvVNKY1Zk9p0xeEDq/view?usp=drivesdk',\n",
       " '4942_01-09-2021.pdf': 'https://drive.google.com/file/d/1IYCX_JZTG_U_9v4oXgMX6I8rJwBtvnjj/view?usp=drivesdk',\n",
       " '5332_03-08-2021.pdf': 'https://drive.google.com/file/d/1pN3XXILYsQu_Y-KKJqpXUvdnD0do_wzc/view?usp=drivesdk',\n",
       " '5845_21-08-2021.pdf': 'https://drive.google.com/file/d/1c_boOZMoHysZjwBDWxQvesHOpJ5hQo5t/view?usp=drivesdk',\n",
       " '6436_05-07-2021.pdf': 'https://drive.google.com/file/d/1gYanaEva_7YKMjZuDVs_b3Fx54_389wa/view?usp=drivesdk',\n",
       " '6457_28-07-2021.pdf': 'https://drive.google.com/file/d/1T4OQS87Fb4PLshyuRh4WNAN3VHo9mn5Z/view?usp=drivesdk',\n",
       " '6550_02-07-2021.pdf': 'https://drive.google.com/file/d/1v9UAigMaG2boQTTqd00DijBXoK56_Em_/view?usp=drivesdk',\n",
       " '8011_23-08-2021.pdf': 'https://drive.google.com/file/d/1rLOJh8MxwVrjTTf2-WcDv6oCidlEN-5h/view?usp=drivesdk',\n",
       " '8678_16-08-2021.pdf': 'https://drive.google.com/file/d/1Uibm_2kr7wz2nsAZaY566igf_rbqlURg/view?usp=drivesdk',\n",
       " '8814_18-09-2021.pdf': 'https://drive.google.com/file/d/1WSq10lY9BPzEv_2Xje8UOt-lNG272njJ/view?usp=drivesdk',\n",
       " '8814_28-07-2021.pdf': 'https://drive.google.com/file/d/1NG2ithWaNeoO0ph5_QPnEBYi6R5ZtaYB/view?usp=drivesdk',\n",
       " '934_17-09-2021.pdf': 'https://drive.google.com/file/d/1CYsJVj9UgzPBYSsl3xG7jmfVthjAniS_/view?usp=drivesdk'}"
      ]
     },
     "execution_count": 63,
     "metadata": {},
     "output_type": "execute_result"
    }
   ],
   "source": [
    "dic_urls"
   ]
  },
  {
   "cell_type": "code",
   "execution_count": 76,
   "id": "c7c2dca8-6bd4-47e9-bdf0-34455eba40a5",
   "metadata": {},
   "outputs": [
    {
     "name": "stdout",
     "output_type": "stream",
     "text": [
      "11171_22-07-2021\n",
      "11812_21-08-2021\n",
      "12061_30-06-2021\n",
      "12075_22-07-2021\n",
      "13012_31-08-2021\n",
      "13638_13-09-2021\n",
      "15928_20-08-2021\n",
      "17691_01-09-2021\n",
      "17691_13-09-2021\n",
      "20049_13-09-2021\n",
      "2604_07-08-2021\n",
      "2794_27-07-2021\n",
      "2794_31-07-2021\n",
      "2899_28-07-2021\n",
      "3334_26-07-2021\n",
      "3430_17-08-2021\n",
      "402_29-07-2021\n",
      "41788_17-08-2021\n",
      "436_17-09-2021\n",
      "4815_01-09-2021\n",
      "4839_06-10-2021\n",
      "4839_26-07-2021\n",
      "4844_28-07-2021\n",
      "4942_01-09-2021\n",
      "5332_03-08-2021\n",
      "5845_21-08-2021\n",
      "6436_05-07-2021\n",
      "6457_28-07-2021\n",
      "6550_02-07-2021\n",
      "8011_23-08-2021\n",
      "8678_16-08-2021\n",
      "8814_18-09-2021\n",
      "8814_28-07-2021\n",
      "934_17-09-2021\n",
      "end\n"
     ]
    }
   ],
   "source": [
    "for key in dic_urls:\n",
    "    query = {'query': 'update dataset_269481 set link_comprobante = \\'{link}\\' where split_part(canhero, \\' / \\', 1) || \\'_\\' || to_char(fecha_inspeccion, \\'dd-mm-yyyy\\')=\\'{cod}\\''.format(link=dic_urls[key], cod=key)}\n",
    "    project = 'https://app.amigocloud.com/api/v1/projects/30545/sql'\n",
    "    res = amigocloud.post(project, query)\n",
    "    print(key)\n",
    "print('end')"
   ]
  },
  {
   "cell_type": "code",
   "execution_count": null,
   "id": "f53776ed-9f64-42f4-b02d-d75bd1f5204c",
   "metadata": {},
   "outputs": [],
   "source": []
  },
  {
   "cell_type": "code",
   "execution_count": null,
   "id": "5b7ff13d-e237-4fa9-ba04-17a644de5fd3",
   "metadata": {},
   "outputs": [],
   "source": []
  },
  {
   "cell_type": "code",
   "execution_count": null,
   "id": "31aec8d8-a113-478a-9d57-8b9df3eea890",
   "metadata": {},
   "outputs": [],
   "source": []
  },
  {
   "cell_type": "code",
   "execution_count": null,
   "id": "034c9758-34fa-4f38-99b2-e098276c21a7",
   "metadata": {},
   "outputs": [],
   "source": []
  },
  {
   "cell_type": "code",
   "execution_count": null,
   "id": "1add1fec-4b48-4ef5-9e5c-b18eabfae89f",
   "metadata": {},
   "outputs": [],
   "source": []
  }
 ],
 "metadata": {
  "kernelspec": {
   "display_name": "Python 3",
   "language": "python",
   "name": "python3"
  },
  "language_info": {
   "codemirror_mode": {
    "name": "ipython",
    "version": 3
   },
   "file_extension": ".py",
   "mimetype": "text/x-python",
   "name": "python",
   "nbconvert_exporter": "python",
   "pygments_lexer": "ipython3",
   "version": "3.8.10"
  }
 },
 "nbformat": 4,
 "nbformat_minor": 5
}
