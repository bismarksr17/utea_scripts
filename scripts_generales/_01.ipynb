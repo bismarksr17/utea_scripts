{
 "cells": [
  {
   "cell_type": "code",
   "execution_count": null,
   "id": "9dfac46b-9430-4b4b-8bc3-d261f36952f4",
   "metadata": {},
   "outputs": [],
   "source": [
    "# MANEJO DE ARCHIVOS GJON, DADOS POR ANDRES, MAPEO DE LOTES PARAISO\n",
    "# EL SCRIPT EXTRAE LAS COORDENADAS Y LAS CONVIENTE EN SHAPEFILE\n"
   ]
  },
  {
   "cell_type": "code",
   "execution_count": 47,
   "id": "6936d0f5-595a-4648-97f8-c6086af7380f",
   "metadata": {},
   "outputs": [],
   "source": [
    "import pandas as pd\n",
    "import geopandas as gpd\n",
    "from shapely.geometry import Polygon"
   ]
  },
  {
   "cell_type": "code",
   "execution_count": 8,
   "id": "4cfb1bb9-9998-4d78-9961-74ce8ce5d457",
   "metadata": {},
   "outputs": [],
   "source": [
    "import os"
   ]
  },
  {
   "cell_type": "code",
   "execution_count": 72,
   "id": "c732a89d-1915-47db-a13c-cd9c65d66746",
   "metadata": {},
   "outputs": [],
   "source": [
    "CARPETA_ENTRADA = r\"G:\\BISMARK\\_TEMP\\21\"      # carpeta con .json / .geojson / .txt\n",
    "SALIDA_SHP = r\"G:\\BISMARK\\_TEMP\\21_salida\\poligonos_utm20s_21.shp\""
   ]
  },
  {
   "cell_type": "code",
   "execution_count": null,
   "id": "de6220e0-a3f4-46d5-9fc9-d1697cfcf479",
   "metadata": {},
   "outputs": [],
   "source": []
  },
  {
   "cell_type": "code",
   "execution_count": 11,
   "id": "b5bd848e-3326-4428-b93c-03b6f8b09021",
   "metadata": {},
   "outputs": [
    {
     "data": {
      "text/plain": [
       "['Boundary{0d39f610-8649-4181-bbd7-a1bb8fd16b28}.gjson',\n",
       " 'Boundary{195e3913-5a09-4ec8-b25a-0a0908fe7fa8}.gjson',\n",
       " 'Boundary{1dc5b79a-fc3d-4f05-b9a4-4cc6335a5fcf}.gjson',\n",
       " 'Boundary{35c19493-a560-474d-954f-0dc561b3e236}.gjson',\n",
       " 'Boundary{4a352c78-e52b-404a-bf88-d9a148ea6377}.gjson',\n",
       " 'Boundary{5132bb34-c214-402d-9840-ba7769b6cc44}.gjson',\n",
       " 'Boundary{616b7eb3-bbdc-4386-8c3c-ccf36f31c5dd}.gjson',\n",
       " 'Boundary{71f434a2-8212-4a82-bdf2-23a3d6a5bdd3}.gjson',\n",
       " 'Boundary{7804ec5e-0e83-498c-b1af-87291705a5bb}.gjson',\n",
       " 'Boundary{79e0a497-97a4-4504-9472-69f672b46c81}.gjson',\n",
       " 'Boundary{7bde29ea-c28a-4537-ae94-f1e814f1b114}.gjson',\n",
       " 'Boundary{7d50c09a-3a12-4d9a-9130-fd9d784f14b1}.gjson',\n",
       " 'Boundary{8142da6d-c4ae-4c98-8cc0-99f0917a5d86}.gjson',\n",
       " 'Boundary{8625f053-64e7-470a-9266-f1d8df76beb0}.gjson',\n",
       " 'Boundary{9bd6dda1-a9c4-4ab1-ab95-f9e7e6110b05}.gjson',\n",
       " 'Boundary{a383a9d5-01c3-43fc-8ea5-6129ff3a73f3}.gjson',\n",
       " 'Boundary{a3a683e5-946f-447a-8e48-6689b6df6cae}.gjson',\n",
       " 'Boundary{a8e02bd6-199d-4f82-b33c-413f67ac0abb}.gjson',\n",
       " 'Boundary{b6827cd7-d208-4f0a-97cc-2dbfc1a2aef4}.gjson',\n",
       " 'Boundary{baa71d73-7b2b-4019-a24d-799dd61fd0c2}.gjson',\n",
       " 'Boundary{c64168e6-20c1-45b3-bd79-3d4a0c96752e}.gjson',\n",
       " 'Boundary{cbcb9fc0-f0d6-4dcf-b560-98fb0075184b}.gjson',\n",
       " 'Boundary{cdc00ce8-df17-44fa-bb42-2f2ce4463162}.gjson',\n",
       " 'Boundary{cf6a296d-da05-47d9-80b8-d62662cbca2a}.gjson',\n",
       " 'Boundary{cfda770f-f4b8-4fae-bd0f-995ab31d3edc}.gjson',\n",
       " 'Boundary{d081e9f1-52b7-49fc-b4ca-0a2300d08164}.gjson',\n",
       " 'Boundary{ddae381d-a09a-4c1c-8ac8-163e390c1c81}.gjson',\n",
       " 'Boundary{ee322551-3b54-4fa8-8844-f2f855e764fb}.gjson']"
      ]
     },
     "execution_count": 11,
     "metadata": {},
     "output_type": "execute_result"
    }
   ],
   "source": [
    "elementos = os.listdir(CARPETA_ENTRADA)\n",
    "elementos"
   ]
  },
  {
   "cell_type": "code",
   "execution_count": null,
   "id": "8d6b6e92-2f06-4102-a54f-0c37ee58604a",
   "metadata": {},
   "outputs": [],
   "source": []
  },
  {
   "cell_type": "code",
   "execution_count": 69,
   "id": "c8741fe5-6591-4d1b-b56d-06d2b568fa35",
   "metadata": {},
   "outputs": [
    {
     "name": "stdout",
     "output_type": "stream",
     "text": [
      "G:\\BISMARK\\_TEMP\\21\\Boundary{0d39f610-8649-4181-bbd7-a1bb8fd16b28}.gjson\n",
      "Contenido del archivo:\n",
      "G:\\BISMARK\\_TEMP\\21\\Boundary{195e3913-5a09-4ec8-b25a-0a0908fe7fa8}.gjson\n",
      "Contenido del archivo:\n",
      "G:\\BISMARK\\_TEMP\\21\\Boundary{1dc5b79a-fc3d-4f05-b9a4-4cc6335a5fcf}.gjson\n",
      "Contenido del archivo:\n",
      "G:\\BISMARK\\_TEMP\\21\\Boundary{35c19493-a560-474d-954f-0dc561b3e236}.gjson\n",
      "Contenido del archivo:\n",
      "G:\\BISMARK\\_TEMP\\21\\Boundary{4a352c78-e52b-404a-bf88-d9a148ea6377}.gjson\n",
      "Contenido del archivo:\n",
      "G:\\BISMARK\\_TEMP\\21\\Boundary{5132bb34-c214-402d-9840-ba7769b6cc44}.gjson\n",
      "Contenido del archivo:\n",
      "G:\\BISMARK\\_TEMP\\21\\Boundary{616b7eb3-bbdc-4386-8c3c-ccf36f31c5dd}.gjson\n",
      "Contenido del archivo:\n",
      "G:\\BISMARK\\_TEMP\\21\\Boundary{71f434a2-8212-4a82-bdf2-23a3d6a5bdd3}.gjson\n",
      "Contenido del archivo:\n",
      "G:\\BISMARK\\_TEMP\\21\\Boundary{7804ec5e-0e83-498c-b1af-87291705a5bb}.gjson\n",
      "Contenido del archivo:\n",
      "G:\\BISMARK\\_TEMP\\21\\Boundary{79e0a497-97a4-4504-9472-69f672b46c81}.gjson\n",
      "Contenido del archivo:\n",
      "G:\\BISMARK\\_TEMP\\21\\Boundary{7bde29ea-c28a-4537-ae94-f1e814f1b114}.gjson\n",
      "Contenido del archivo:\n",
      "G:\\BISMARK\\_TEMP\\21\\Boundary{7d50c09a-3a12-4d9a-9130-fd9d784f14b1}.gjson\n",
      "Contenido del archivo:\n",
      "G:\\BISMARK\\_TEMP\\21\\Boundary{8142da6d-c4ae-4c98-8cc0-99f0917a5d86}.gjson\n",
      "Contenido del archivo:\n",
      "G:\\BISMARK\\_TEMP\\21\\Boundary{8625f053-64e7-470a-9266-f1d8df76beb0}.gjson\n",
      "Contenido del archivo:\n",
      "G:\\BISMARK\\_TEMP\\21\\Boundary{9bd6dda1-a9c4-4ab1-ab95-f9e7e6110b05}.gjson\n",
      "Contenido del archivo:\n",
      "G:\\BISMARK\\_TEMP\\21\\Boundary{a383a9d5-01c3-43fc-8ea5-6129ff3a73f3}.gjson\n",
      "Contenido del archivo:\n",
      "G:\\BISMARK\\_TEMP\\21\\Boundary{a3a683e5-946f-447a-8e48-6689b6df6cae}.gjson\n",
      "Contenido del archivo:\n",
      "G:\\BISMARK\\_TEMP\\21\\Boundary{a8e02bd6-199d-4f82-b33c-413f67ac0abb}.gjson\n",
      "Contenido del archivo:\n",
      "G:\\BISMARK\\_TEMP\\21\\Boundary{b6827cd7-d208-4f0a-97cc-2dbfc1a2aef4}.gjson\n",
      "Contenido del archivo:\n",
      "G:\\BISMARK\\_TEMP\\21\\Boundary{baa71d73-7b2b-4019-a24d-799dd61fd0c2}.gjson\n",
      "Contenido del archivo:\n",
      "G:\\BISMARK\\_TEMP\\21\\Boundary{c64168e6-20c1-45b3-bd79-3d4a0c96752e}.gjson\n",
      "Contenido del archivo:\n",
      "G:\\BISMARK\\_TEMP\\21\\Boundary{cbcb9fc0-f0d6-4dcf-b560-98fb0075184b}.gjson\n",
      "Contenido del archivo:\n",
      "G:\\BISMARK\\_TEMP\\21\\Boundary{cdc00ce8-df17-44fa-bb42-2f2ce4463162}.gjson\n",
      "Contenido del archivo:\n",
      "G:\\BISMARK\\_TEMP\\21\\Boundary{cf6a296d-da05-47d9-80b8-d62662cbca2a}.gjson\n",
      "Contenido del archivo:\n",
      "G:\\BISMARK\\_TEMP\\21\\Boundary{cfda770f-f4b8-4fae-bd0f-995ab31d3edc}.gjson\n",
      "Contenido del archivo:\n",
      "G:\\BISMARK\\_TEMP\\21\\Boundary{d081e9f1-52b7-49fc-b4ca-0a2300d08164}.gjson\n",
      "Contenido del archivo:\n",
      "G:\\BISMARK\\_TEMP\\21\\Boundary{ddae381d-a09a-4c1c-8ac8-163e390c1c81}.gjson\n",
      "Contenido del archivo:\n",
      "G:\\BISMARK\\_TEMP\\21\\Boundary{ee322551-3b54-4fa8-8844-f2f855e764fb}.gjson\n",
      "Contenido del archivo:\n"
     ]
    }
   ],
   "source": [
    "for i in elementos:\n",
    "    CARPETA_ENTRADA = os.path.join(r'G:\\BISMARK\\_TEMP\\21' , i)\n",
    "    print(CARPETA_ENTRADA)\n",
    "    with open(CARPETA_ENTRADA, \"r\", encoding=\"utf-8\") as f:\n",
    "        contenido = f.read()\n",
    "    print(\"Contenido del archivo:\")\n",
    "    data = json.loads(contenido)\n",
    "    lista_coordenadas = data['features'][0]['geometry']['coordinates'][0]\n",
    "    coords = [tuple(par) for par in lista_coordenadas]\n",
    "\n",
    "    # Cerrar el anillo si hace falta\n",
    "    if coords[0] != coords[-1]:\n",
    "        coords = coords + [coords[0]]\n",
    "\n",
    "    poly = Polygon(coords)\n",
    "    \n",
    "    gdf_poly = gpd.GeoDataFrame({\"id\":[1]}, geometry=[poly], crs=\"EPSG:4326\")\n",
    "    gdf_poly_utm_aux = gdf_poly.to_crs(epsg=32720)\n",
    "    gdf_poly_utm = pd.concat([gdf_poly_utm_aux, gdf_poly_utm], ignore_index=True)"
   ]
  },
  {
   "cell_type": "code",
   "execution_count": null,
   "id": "ee30973d-e560-4ead-a81f-3fdee8ff5d94",
   "metadata": {},
   "outputs": [],
   "source": []
  },
  {
   "cell_type": "code",
   "execution_count": 70,
   "id": "b6e207b3-114a-45bd-ae79-5e292b125378",
   "metadata": {},
   "outputs": [
    {
     "data": {
      "text/plain": [
       "<Axes: >"
      ]
     },
     "execution_count": 70,
     "metadata": {},
     "output_type": "execute_result"
    },
    {
     "data": {
      "image/png": "[encoded data removed]",
      "text/plain": [
       "<Figure size 640x480 with 1 Axes>"
      ]
     },
     "metadata": {},
     "output_type": "display_data"
    }
   ],
   "source": [
    "gdf_poly_utm.plot()"
   ]
  },
  {
   "cell_type": "code",
   "execution_count": null,
   "id": "c112bdcb-3694-4060-bbd2-4e27727d9bf2",
   "metadata": {},
   "outputs": [],
   "source": []
  },
  {
   "cell_type": "code",
   "execution_count": 73,
   "id": "643e1c1b-6b20-4052-b3cf-bb399d667892",
   "metadata": {},
   "outputs": [],
   "source": [
    "gdf_poly_utm.to_file(SALIDA_SHP, driver=\"ESRI Shapefile\")"
   ]
  },
  {
   "cell_type": "code",
   "execution_count": null,
   "id": "77f2bf4e-c9c0-40dd-93ee-9183e9c771bc",
   "metadata": {},
   "outputs": [],
   "source": []
  },
  {
   "cell_type": "code",
   "execution_count": null,
   "id": "73a95731-4d97-4889-8709-f87b8aa7df86",
   "metadata": {},
   "outputs": [],
   "source": []
  },
  {
   "cell_type": "code",
   "execution_count": null,
   "id": "af4aa891-2a52-4898-b71a-d3a5168838f1",
   "metadata": {},
   "outputs": [],
   "source": []
  },
  {
   "cell_type": "code",
   "execution_count": null,
   "id": "b48a8cef-86c4-40f0-9fe2-5a5b639cb2f7",
   "metadata": {},
   "outputs": [],
   "source": []
  },
  {
   "cell_type": "code",
   "execution_count": 38,
   "id": "968b74e3-3df7-4fef-b1d0-dc44c637761c",
   "metadata": {},
   "outputs": [],
   "source": [
    "CARPETA_ENTRADA = r\"G:\\BISMARK\\_TEMP\\21\\Boundary{c64168e6-20c1-45b3-bd79-3d4a0c96752e}.gjson\""
   ]
  },
  {
   "cell_type": "code",
   "execution_count": 39,
   "id": "3b674b6e-740c-431a-bdbf-fa2d7782b22d",
   "metadata": {},
   "outputs": [
    {
     "name": "stdout",
     "output_type": "stream",
     "text": [
      "Contenido del archivo:\n"
     ]
    }
   ],
   "source": [
    "if os.path.exists(CARPETA_ENTRADA):\n",
    "    with open(CARPETA_ENTRADA, \"r\", encoding=\"utf-8\") as f:\n",
    "        contenido = f.read()\n",
    "    print(\"Contenido del archivo:\")\n",
    "else:\n",
    "    print(\"El archivo no existe\")"
   ]
  },
  {
   "cell_type": "code",
   "execution_count": 40,
   "id": "be44c406-1f26-4f96-9280-08f250f3b196",
   "metadata": {},
   "outputs": [],
   "source": [
    "data = json.loads(contenido)"
   ]
  },
  {
   "cell_type": "code",
   "execution_count": 42,
   "id": "a088c011-d504-4f1e-863d-8a53f23bca03",
   "metadata": {},
   "outputs": [],
   "source": [
    "lista_coordenadas = data['features'][0]['geometry']['coordinates'][0]"
   ]
  },
  {
   "cell_type": "code",
   "execution_count": 45,
   "id": "70b7f9ce-2e1c-45f9-acac-73ed7f6387d9",
   "metadata": {},
   "outputs": [],
   "source": [
    "df = pd.DataFrame(lista_coordenadas, columns=[\"longitud\", \"latitud\"])"
   ]
  },
  {
   "cell_type": "code",
   "execution_count": 46,
   "id": "9e6f43cc-b5f1-408f-8dfd-06c00e6ec14f",
   "metadata": {},
   "outputs": [
    {
     "data": {
      "text/html": [
       "<div>\n",
       "<style scoped>\n",
       "    .dataframe tbody tr th:only-of-type {\n",
       "        vertical-align: middle;\n",
       "    }\n",
       "\n",
       "    .dataframe tbody tr th {\n",
       "        vertical-align: top;\n",
       "    }\n",
       "\n",
       "    .dataframe thead th {\n",
       "        text-align: right;\n",
       "    }\n",
       "</style>\n",
       "<table border=\"1\" class=\"dataframe\">\n",
       "  <thead>\n",
       "    <tr style=\"text-align: right;\">\n",
       "      <th></th>\n",
       "      <th>longitud</th>\n",
       "      <th>latitud</th>\n",
       "    </tr>\n",
       "  </thead>\n",
       "  <tbody>\n",
       "    <tr>\n",
       "      <th>0</th>\n",
       "      <td>-62.806288</td>\n",
       "      <td>-17.459309</td>\n",
       "    </tr>\n",
       "    <tr>\n",
       "      <th>1</th>\n",
       "      <td>-62.806288</td>\n",
       "      <td>-17.459309</td>\n",
       "    </tr>\n",
       "    <tr>\n",
       "      <th>2</th>\n",
       "      <td>-62.806288</td>\n",
       "      <td>-17.459309</td>\n",
       "    </tr>\n",
       "    <tr>\n",
       "      <th>3</th>\n",
       "      <td>-62.806288</td>\n",
       "      <td>-17.459308</td>\n",
       "    </tr>\n",
       "    <tr>\n",
       "      <th>4</th>\n",
       "      <td>-62.806288</td>\n",
       "      <td>-17.459308</td>\n",
       "    </tr>\n",
       "    <tr>\n",
       "      <th>...</th>\n",
       "      <td>...</td>\n",
       "      <td>...</td>\n",
       "    </tr>\n",
       "    <tr>\n",
       "      <th>5951</th>\n",
       "      <td>-62.806301</td>\n",
       "      <td>-17.459547</td>\n",
       "    </tr>\n",
       "    <tr>\n",
       "      <th>5952</th>\n",
       "      <td>-62.806301</td>\n",
       "      <td>-17.459547</td>\n",
       "    </tr>\n",
       "    <tr>\n",
       "      <th>5953</th>\n",
       "      <td>-62.806301</td>\n",
       "      <td>-17.459546</td>\n",
       "    </tr>\n",
       "    <tr>\n",
       "      <th>5954</th>\n",
       "      <td>-62.806301</td>\n",
       "      <td>-17.459546</td>\n",
       "    </tr>\n",
       "    <tr>\n",
       "      <th>5955</th>\n",
       "      <td>-62.806288</td>\n",
       "      <td>-17.459309</td>\n",
       "    </tr>\n",
       "  </tbody>\n",
       "</table>\n",
       "<p>5956 rows × 2 columns</p>\n",
       "</div>"
      ],
      "text/plain": [
       "       longitud    latitud\n",
       "0    -62.806288 -17.459309\n",
       "1    -62.806288 -17.459309\n",
       "2    -62.806288 -17.459309\n",
       "3    -62.806288 -17.459308\n",
       "4    -62.806288 -17.459308\n",
       "...         ...        ...\n",
       "5951 -62.806301 -17.459547\n",
       "5952 -62.806301 -17.459547\n",
       "5953 -62.806301 -17.459546\n",
       "5954 -62.806301 -17.459546\n",
       "5955 -62.806288 -17.459309\n",
       "\n",
       "[5956 rows x 2 columns]"
      ]
     },
     "execution_count": 46,
     "metadata": {},
     "output_type": "execute_result"
    }
   ],
   "source": [
    "df"
   ]
  },
  {
   "cell_type": "code",
   "execution_count": 48,
   "id": "4da2d5ad-8d1b-4a08-8c1d-a07954191a1a",
   "metadata": {},
   "outputs": [
    {
     "name": "stdout",
     "output_type": "stream",
     "text": [
      "   id                                           geometry\n",
      "0   1  POLYGON ((-62.80629 -17.45931, -62.80629 -17.4...\n"
     ]
    }
   ],
   "source": [
    "coords = [tuple(par) for par in lista_coordenadas]\n",
    "\n",
    "# Cerrar el anillo si hace falta\n",
    "if coords[0] != coords[-1]:\n",
    "    coords = coords + [coords[0]]\n",
    "\n",
    "poly = Polygon(coords)\n",
    "\n",
    "gdf_poly = gpd.GeoDataFrame({\"id\":[1]}, geometry=[poly], crs=\"EPSG:4326\")\n",
    "print(gdf_poly)"
   ]
  },
  {
   "cell_type": "code",
   "execution_count": 58,
   "id": "4638c457-a726-4c4b-bb6c-be3e2a8a7e13",
   "metadata": {},
   "outputs": [
    {
     "data": {
      "text/plain": [
       "<Axes: >"
      ]
     },
     "execution_count": 58,
     "metadata": {},
     "output_type": "execute_result"
    },
    {
     "data": {
      "image/png": "[encoded data removed]",
      "text/plain": [
       "<Figure size 640x480 with 1 Axes>"
      ]
     },
     "metadata": {},
     "output_type": "display_data"
    }
   ],
   "source": [
    "gdf_poly.plot()"
   ]
  },
  {
   "cell_type": "code",
   "execution_count": 59,
   "id": "fe8da34b-16d6-4e46-939f-ff5d64a1cc3c",
   "metadata": {},
   "outputs": [],
   "source": [
    "gdf_poly_utm = gdf_poly.to_crs(epsg=32720)"
   ]
  },
  {
   "cell_type": "code",
   "execution_count": 60,
   "id": "db7509ae-3098-4507-aaaa-b9f0fddc64d9",
   "metadata": {},
   "outputs": [
    {
     "data": {
      "text/html": [
       "<div>\n",
       "<style scoped>\n",
       "    .dataframe tbody tr th:only-of-type {\n",
       "        vertical-align: middle;\n",
       "    }\n",
       "\n",
       "    .dataframe tbody tr th {\n",
       "        vertical-align: top;\n",
       "    }\n",
       "\n",
       "    .dataframe thead th {\n",
       "        text-align: right;\n",
       "    }\n",
       "</style>\n",
       "<table border=\"1\" class=\"dataframe\">\n",
       "  <thead>\n",
       "    <tr style=\"text-align: right;\">\n",
       "      <th></th>\n",
       "      <th>id</th>\n",
       "      <th>geometry</th>\n",
       "    </tr>\n",
       "  </thead>\n",
       "  <tbody>\n",
       "    <tr>\n",
       "      <th>0</th>\n",
       "      <td>1</td>\n",
       "      <td>POLYGON ((520568.507 8069622.290, 520568.510 8...</td>\n",
       "    </tr>\n",
       "  </tbody>\n",
       "</table>\n",
       "</div>"
      ],
      "text/plain": [
       "   id                                           geometry\n",
       "0   1  POLYGON ((520568.507 8069622.290, 520568.510 8..."
      ]
     },
     "execution_count": 60,
     "metadata": {},
     "output_type": "execute_result"
    }
   ],
   "source": [
    "gdf_poly_utm"
   ]
  },
  {
   "cell_type": "code",
   "execution_count": 61,
   "id": "b65b7982-2f00-451d-9359-e841777684df",
   "metadata": {},
   "outputs": [],
   "source": [
    "gdf_poly_utm.to_file(SALIDA_SHP, driver=\"ESRI Shapefile\")"
   ]
  },
  {
   "cell_type": "code",
   "execution_count": null,
   "id": "5a922dde-b69b-4a42-af0f-22d0d4587436",
   "metadata": {},
   "outputs": [],
   "source": []
  },
  {
   "cell_type": "code",
   "execution_count": null,
   "id": "58964e40-b7cc-42a0-8b28-168502c7fc83",
   "metadata": {},
   "outputs": [],
   "source": []
  }
 ],
 "metadata": {
  "kernelspec": {
   "display_name": "Python 3 (ipykernel)",
   "language": "python",
   "name": "python3"
  },
  "language_info": {
   "codemirror_mode": {
    "name": "ipython",
    "version": 3
   },
   "file_extension": ".py",
   "mimetype": "text/x-python",
   "name": "python",
   "nbconvert_exporter": "python",
   "pygments_lexer": "ipython3",
   "version": "3.10.13"
  }
 },
 "nbformat": 4,
 "nbformat_minor": 5
}
