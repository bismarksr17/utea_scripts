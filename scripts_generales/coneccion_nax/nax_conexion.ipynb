{
 "cells": [
  {
   "cell_type": "code",
   "execution_count": 41,
   "id": "d032d810-a617-4b3d-ad21-cc3af070d8dd",
   "metadata": {
    "tags": []
   },
   "outputs": [],
   "source": [
    "import pandas as pd\n",
    "import json"
   ]
  },
  {
   "cell_type": "code",
   "execution_count": 31,
   "id": "4d084df8-610d-49cc-8f5f-e134f3061941",
   "metadata": {
    "tags": []
   },
   "outputs": [],
   "source": [
    "import requests"
   ]
  },
  {
   "cell_type": "code",
   "execution_count": 35,
   "id": "f6b1de11-ec52-45f0-8033-c8423d03c5d7",
   "metadata": {
    "tags": []
   },
   "outputs": [],
   "source": [
    "url = \"https://ns563777.ip-54-39-156.net:8000/rest/areas/359/valores/2023-05-17/2023-05-17\"\n",
    "token = \"4dc3fe17-93d6-439c-b01e-d049fb16516d\"\n",
    "\n",
    "headers = {\n",
    "    'Authorization' : token\n",
    "}\n",
    "\n",
    "response = requests.get(url, headers=headers)"
   ]
  },
  {
   "cell_type": "code",
   "execution_count": 37,
   "id": "3996f6a7-fc5d-4c4f-8e60-25d28fb68acc",
   "metadata": {
    "tags": []
   },
   "outputs": [
    {
     "name": "stderr",
     "output_type": "stream",
     "text": [
      "IOPub data rate exceeded.\n",
      "The Jupyter server will temporarily stop sending output\n",
      "to the client in order to avoid crashing it.\n",
      "To change this limit, set the config variable\n",
      "`--ServerApp.iopub_data_rate_limit`.\n",
      "\n",
      "Current values:\n",
      "ServerApp.iopub_data_rate_limit=1000000.0 (bytes/sec)\n",
      "ServerApp.rate_limit_window=3.0 (secs)\n",
      "\n"
     ]
    }
   ],
   "source": [
    "# Para imprimir el estado de la respuesta\n",
    "print(response.status_code)\n",
    "\n",
    "# Para imprimir el contenido de la respuesta\n",
    "print(response.text)"
   ]
  },
  {
   "cell_type": "code",
   "execution_count": 4,
   "id": "912e28df-5dd7-47e1-bdb2-432f14ce5cf9",
   "metadata": {
    "tags": []
   },
   "outputs": [
    {
     "data": {
      "text/plain": [
       "<Response [403]>"
      ]
     },
     "execution_count": 4,
     "metadata": {},
     "output_type": "execute_result"
    }
   ],
   "source": [
    "response"
   ]
  },
  {
   "cell_type": "code",
   "execution_count": 40,
   "id": "0e196070-8d88-4d44-8485-fc19de53d115",
   "metadata": {
    "tags": []
   },
   "outputs": [],
   "source": [
    "with open('respuesta.txt', 'w', encoding='utf-8') as f:\n",
    "    f.write(response.text)"
   ]
  },
  {
   "cell_type": "code",
   "execution_count": 42,
   "id": "c40e63f1-ff9d-410f-9280-113ebb137df3",
   "metadata": {
    "tags": []
   },
   "outputs": [],
   "source": [
    "data = json.loads(response.text)\n",
    "df = pd.json_normalize(data)"
   ]
  },
  {
   "cell_type": "code",
   "execution_count": 59,
   "id": "77326ffb-538b-423b-8728-d1430b69777e",
   "metadata": {
    "tags": []
   },
   "outputs": [],
   "source": [
    "df.to_excel('data.xlsx')"
   ]
  },
  {
   "cell_type": "code",
   "execution_count": 47,
   "id": "adadb946-e0f9-4fcf-bf10-de3eac620904",
   "metadata": {
    "tags": []
   },
   "outputs": [],
   "source": [
    "cosecha = df[['idnax', 'fecha_imagen', 'ID', 'unidad_01', 'unidad_02', 'unidad_03',\n",
    "       'unidad_04', 'unidad_05', 'variedad', 'fs', 'tipo_riego', 'area',\n",
    "       'activo', 'soca', 'Cosecha',\n",
    "       '1_Cosechado']]"
   ]
  },
  {
   "cell_type": "code",
   "execution_count": 50,
   "id": "64e9b2d2-8e1b-4233-b20a-251e395c522e",
   "metadata": {
    "tags": []
   },
   "outputs": [
    {
     "data": {
      "text/plain": [
       "idnax               int64\n",
       "fecha_imagen       object\n",
       "ID                 object\n",
       "unidad_01          object\n",
       "unidad_02          object\n",
       "unidad_03          object\n",
       "unidad_04          object\n",
       "unidad_05          object\n",
       "variedad           object\n",
       "fs                 object\n",
       "tipo_riego         object\n",
       "area              float64\n",
       "activo               bool\n",
       "soca              float64\n",
       "Cosecha           float64\n",
       "1_Cosechado       float64\n",
       "avance_cosecha    float64\n",
       "dtype: object"
      ]
     },
     "execution_count": 50,
     "metadata": {},
     "output_type": "execute_result"
    }
   ],
   "source": [
    "cosecha.dtypes"
   ]
  },
  {
   "cell_type": "code",
   "execution_count": 57,
   "id": "5606b704-787e-409e-888b-f867679e2a1c",
   "metadata": {
    "tags": []
   },
   "outputs": [
    {
     "data": {
      "text/html": [
       "<div>\n",
       "<style scoped>\n",
       "    .dataframe tbody tr th:only-of-type {\n",
       "        vertical-align: middle;\n",
       "    }\n",
       "\n",
       "    .dataframe tbody tr th {\n",
       "        vertical-align: top;\n",
       "    }\n",
       "\n",
       "    .dataframe thead th {\n",
       "        text-align: right;\n",
       "    }\n",
       "</style>\n",
       "<table border=\"1\" class=\"dataframe\">\n",
       "  <thead>\n",
       "    <tr style=\"text-align: right;\">\n",
       "      <th></th>\n",
       "      <th>idnax</th>\n",
       "      <th>fecha_imagen</th>\n",
       "      <th>ID</th>\n",
       "      <th>unidad_01</th>\n",
       "      <th>unidad_02</th>\n",
       "      <th>unidad_03</th>\n",
       "      <th>unidad_04</th>\n",
       "      <th>unidad_05</th>\n",
       "      <th>variedad</th>\n",
       "      <th>fs</th>\n",
       "      <th>tipo_riego</th>\n",
       "      <th>area</th>\n",
       "      <th>activo</th>\n",
       "      <th>soca</th>\n",
       "      <th>Cosecha</th>\n",
       "      <th>1_Cosechado</th>\n",
       "      <th>avance_cosecha</th>\n",
       "      <th>avance_cosec</th>\n",
       "    </tr>\n",
       "  </thead>\n",
       "  <tbody>\n",
       "    <tr>\n",
       "      <th>0</th>\n",
       "      <td>475726</td>\n",
       "      <td>2023-05-17</td>\n",
       "      <td>00001000000A1</td>\n",
       "      <td>100</td>\n",
       "      <td>RINCONCITO--ESPINOZA</td>\n",
       "      <td>3421</td>\n",
       "      <td>ESPINOZA_HURTADO_ARMANDO</td>\n",
       "      <td>A1</td>\n",
       "      <td>UCG9020</td>\n",
       "      <td>2022-09-17</td>\n",
       "      <td>None</td>\n",
       "      <td>5.5623</td>\n",
       "      <td>True</td>\n",
       "      <td>10.0</td>\n",
       "      <td>3.0</td>\n",
       "      <td>0.0</td>\n",
       "      <td>0.0000</td>\n",
       "      <td>0.0000</td>\n",
       "    </tr>\n",
       "    <tr>\n",
       "      <th>1</th>\n",
       "      <td>474747</td>\n",
       "      <td>2023-05-17</td>\n",
       "      <td>00001000000A2</td>\n",
       "      <td>100</td>\n",
       "      <td>RINCONCITO--ESPINOZA</td>\n",
       "      <td>3421</td>\n",
       "      <td>ESPINOZA_HURTADO_ARMANDO</td>\n",
       "      <td>A2</td>\n",
       "      <td>CITTCA8522</td>\n",
       "      <td>2022-09-17</td>\n",
       "      <td>None</td>\n",
       "      <td>17.6002</td>\n",
       "      <td>True</td>\n",
       "      <td>10.0</td>\n",
       "      <td>3.0</td>\n",
       "      <td>0.0</td>\n",
       "      <td>0.0000</td>\n",
       "      <td>0.0000</td>\n",
       "    </tr>\n",
       "    <tr>\n",
       "      <th>2</th>\n",
       "      <td>475725</td>\n",
       "      <td>2023-05-17</td>\n",
       "      <td>00001000000A3</td>\n",
       "      <td>100</td>\n",
       "      <td>RINCONCITO--ESPINOZA</td>\n",
       "      <td>3421</td>\n",
       "      <td>ESPINOZA_HURTADO_ARMANDO</td>\n",
       "      <td>A3</td>\n",
       "      <td>UCG9020</td>\n",
       "      <td>2022-09-17</td>\n",
       "      <td>None</td>\n",
       "      <td>9.8167</td>\n",
       "      <td>True</td>\n",
       "      <td>10.0</td>\n",
       "      <td>2.0</td>\n",
       "      <td>0.0</td>\n",
       "      <td>0.0000</td>\n",
       "      <td>0.0000</td>\n",
       "    </tr>\n",
       "    <tr>\n",
       "      <th>3</th>\n",
       "      <td>396745</td>\n",
       "      <td>2023-05-17</td>\n",
       "      <td>00001000000L1</td>\n",
       "      <td>100</td>\n",
       "      <td>RINCONCITO--ESPINOZA</td>\n",
       "      <td>3510</td>\n",
       "      <td>ESPINOZA_HURTADO_EDGAR</td>\n",
       "      <td>L1</td>\n",
       "      <td>UCG9020</td>\n",
       "      <td>2022-08-30</td>\n",
       "      <td>None</td>\n",
       "      <td>8.7963</td>\n",
       "      <td>True</td>\n",
       "      <td>2.0</td>\n",
       "      <td>1.0</td>\n",
       "      <td>0.0</td>\n",
       "      <td>0.0000</td>\n",
       "      <td>0.0000</td>\n",
       "    </tr>\n",
       "    <tr>\n",
       "      <th>4</th>\n",
       "      <td>283126</td>\n",
       "      <td>2023-05-17</td>\n",
       "      <td>00001000000L2</td>\n",
       "      <td>100</td>\n",
       "      <td>RINCONCITO--ESPINOZA</td>\n",
       "      <td>3421</td>\n",
       "      <td>ESPINOZA_HURTADO_ARMANDO</td>\n",
       "      <td>L2</td>\n",
       "      <td>UCG9020</td>\n",
       "      <td>2021-10-02</td>\n",
       "      <td>None</td>\n",
       "      <td>11.4590</td>\n",
       "      <td>False</td>\n",
       "      <td>2.0</td>\n",
       "      <td>1.0</td>\n",
       "      <td>0.0</td>\n",
       "      <td>0.0000</td>\n",
       "      <td>0.0000</td>\n",
       "    </tr>\n",
       "    <tr>\n",
       "      <th>...</th>\n",
       "      <td>...</td>\n",
       "      <td>...</td>\n",
       "      <td>...</td>\n",
       "      <td>...</td>\n",
       "      <td>...</td>\n",
       "      <td>...</td>\n",
       "      <td>...</td>\n",
       "      <td>...</td>\n",
       "      <td>...</td>\n",
       "      <td>...</td>\n",
       "      <td>...</td>\n",
       "      <td>...</td>\n",
       "      <td>...</td>\n",
       "      <td>...</td>\n",
       "      <td>...</td>\n",
       "      <td>...</td>\n",
       "      <td>...</td>\n",
       "      <td>...</td>\n",
       "    </tr>\n",
       "    <tr>\n",
       "      <th>13517</th>\n",
       "      <td>679627</td>\n",
       "      <td>2023-05-17</td>\n",
       "      <td>00009960000L2.4</td>\n",
       "      <td>996</td>\n",
       "      <td>SININI--YOLANDA_COCA</td>\n",
       "      <td>842</td>\n",
       "      <td>AGRODAR_S.R.L.</td>\n",
       "      <td>L2.4</td>\n",
       "      <td>RB4</td>\n",
       "      <td>2022-07-26</td>\n",
       "      <td>None</td>\n",
       "      <td>10.2039</td>\n",
       "      <td>True</td>\n",
       "      <td>0.0</td>\n",
       "      <td>5.0</td>\n",
       "      <td>1.0</td>\n",
       "      <td>10.2039</td>\n",
       "      <td>10.2039</td>\n",
       "    </tr>\n",
       "    <tr>\n",
       "      <th>13518</th>\n",
       "      <td>679620</td>\n",
       "      <td>2023-05-17</td>\n",
       "      <td>00009960000L3</td>\n",
       "      <td>996</td>\n",
       "      <td>SININI--YOLANDA_COCA</td>\n",
       "      <td>4915</td>\n",
       "      <td>GUZMAN_YOLANDA_COCA_DE</td>\n",
       "      <td>L3</td>\n",
       "      <td>SP835073</td>\n",
       "      <td>2022-08-15</td>\n",
       "      <td>None</td>\n",
       "      <td>24.2221</td>\n",
       "      <td>True</td>\n",
       "      <td>9.0</td>\n",
       "      <td>5.0</td>\n",
       "      <td>1.0</td>\n",
       "      <td>24.2221</td>\n",
       "      <td>24.2221</td>\n",
       "    </tr>\n",
       "    <tr>\n",
       "      <th>13519</th>\n",
       "      <td>394585</td>\n",
       "      <td>2023-05-17</td>\n",
       "      <td>00009960000L3</td>\n",
       "      <td>996</td>\n",
       "      <td>SININI--YOLANDA_COCA</td>\n",
       "      <td>4915</td>\n",
       "      <td>GUZMAN_YOLANDA_COCA_DE</td>\n",
       "      <td>L3</td>\n",
       "      <td>SP835073</td>\n",
       "      <td>2021-10-09</td>\n",
       "      <td>None</td>\n",
       "      <td>23.8005</td>\n",
       "      <td>False</td>\n",
       "      <td>8.0</td>\n",
       "      <td>5.0</td>\n",
       "      <td>1.0</td>\n",
       "      <td>23.8005</td>\n",
       "      <td>23.8005</td>\n",
       "    </tr>\n",
       "    <tr>\n",
       "      <th>13520</th>\n",
       "      <td>396411</td>\n",
       "      <td>2023-05-17</td>\n",
       "      <td>00009960000L4.1</td>\n",
       "      <td>996</td>\n",
       "      <td>SININI--YOLANDA_COCA</td>\n",
       "      <td>4915</td>\n",
       "      <td>GUZMAN_YOLANDA_COCA_DE</td>\n",
       "      <td>L4.1</td>\n",
       "      <td>SP835073</td>\n",
       "      <td>2022-08-15</td>\n",
       "      <td>None</td>\n",
       "      <td>6.3559</td>\n",
       "      <td>True</td>\n",
       "      <td>9.0</td>\n",
       "      <td>5.0</td>\n",
       "      <td>NaN</td>\n",
       "      <td>NaN</td>\n",
       "      <td>NaN</td>\n",
       "    </tr>\n",
       "    <tr>\n",
       "      <th>13521</th>\n",
       "      <td>475314</td>\n",
       "      <td>2023-05-17</td>\n",
       "      <td>00009960000L4.2</td>\n",
       "      <td>996</td>\n",
       "      <td>SININI--YOLANDA_COCA</td>\n",
       "      <td>4915</td>\n",
       "      <td>GUZMAN_YOLANDA_COCA_DE</td>\n",
       "      <td>L4.2</td>\n",
       "      <td>UCG9020</td>\n",
       "      <td>2022-08-10</td>\n",
       "      <td>None</td>\n",
       "      <td>15.3776</td>\n",
       "      <td>True</td>\n",
       "      <td>1.0</td>\n",
       "      <td>5.0</td>\n",
       "      <td>NaN</td>\n",
       "      <td>NaN</td>\n",
       "      <td>NaN</td>\n",
       "    </tr>\n",
       "  </tbody>\n",
       "</table>\n",
       "<p>13522 rows × 18 columns</p>\n",
       "</div>"
      ],
      "text/plain": [
       "        idnax fecha_imagen               ID unidad_01             unidad_02   \n",
       "0      475726   2023-05-17    00001000000A1       100  RINCONCITO--ESPINOZA  \\\n",
       "1      474747   2023-05-17    00001000000A2       100  RINCONCITO--ESPINOZA   \n",
       "2      475725   2023-05-17    00001000000A3       100  RINCONCITO--ESPINOZA   \n",
       "3      396745   2023-05-17    00001000000L1       100  RINCONCITO--ESPINOZA   \n",
       "4      283126   2023-05-17    00001000000L2       100  RINCONCITO--ESPINOZA   \n",
       "...       ...          ...              ...       ...                   ...   \n",
       "13517  679627   2023-05-17  00009960000L2.4       996  SININI--YOLANDA_COCA   \n",
       "13518  679620   2023-05-17    00009960000L3       996  SININI--YOLANDA_COCA   \n",
       "13519  394585   2023-05-17    00009960000L3       996  SININI--YOLANDA_COCA   \n",
       "13520  396411   2023-05-17  00009960000L4.1       996  SININI--YOLANDA_COCA   \n",
       "13521  475314   2023-05-17  00009960000L4.2       996  SININI--YOLANDA_COCA   \n",
       "\n",
       "      unidad_03                 unidad_04 unidad_05    variedad          fs   \n",
       "0          3421  ESPINOZA_HURTADO_ARMANDO        A1     UCG9020  2022-09-17  \\\n",
       "1          3421  ESPINOZA_HURTADO_ARMANDO        A2  CITTCA8522  2022-09-17   \n",
       "2          3421  ESPINOZA_HURTADO_ARMANDO        A3     UCG9020  2022-09-17   \n",
       "3          3510    ESPINOZA_HURTADO_EDGAR        L1     UCG9020  2022-08-30   \n",
       "4          3421  ESPINOZA_HURTADO_ARMANDO        L2     UCG9020  2021-10-02   \n",
       "...         ...                       ...       ...         ...         ...   \n",
       "13517       842            AGRODAR_S.R.L.      L2.4         RB4  2022-07-26   \n",
       "13518      4915    GUZMAN_YOLANDA_COCA_DE        L3    SP835073  2022-08-15   \n",
       "13519      4915    GUZMAN_YOLANDA_COCA_DE        L3    SP835073  2021-10-09   \n",
       "13520      4915    GUZMAN_YOLANDA_COCA_DE      L4.1    SP835073  2022-08-15   \n",
       "13521      4915    GUZMAN_YOLANDA_COCA_DE      L4.2     UCG9020  2022-08-10   \n",
       "\n",
       "      tipo_riego     area  activo  soca  Cosecha  1_Cosechado  avance_cosecha   \n",
       "0           None   5.5623    True  10.0      3.0          0.0          0.0000  \\\n",
       "1           None  17.6002    True  10.0      3.0          0.0          0.0000   \n",
       "2           None   9.8167    True  10.0      2.0          0.0          0.0000   \n",
       "3           None   8.7963    True   2.0      1.0          0.0          0.0000   \n",
       "4           None  11.4590   False   2.0      1.0          0.0          0.0000   \n",
       "...          ...      ...     ...   ...      ...          ...             ...   \n",
       "13517       None  10.2039    True   0.0      5.0          1.0         10.2039   \n",
       "13518       None  24.2221    True   9.0      5.0          1.0         24.2221   \n",
       "13519       None  23.8005   False   8.0      5.0          1.0         23.8005   \n",
       "13520       None   6.3559    True   9.0      5.0          NaN             NaN   \n",
       "13521       None  15.3776    True   1.0      5.0          NaN             NaN   \n",
       "\n",
       "       avance_cosec  \n",
       "0            0.0000  \n",
       "1            0.0000  \n",
       "2            0.0000  \n",
       "3            0.0000  \n",
       "4            0.0000  \n",
       "...             ...  \n",
       "13517       10.2039  \n",
       "13518       24.2221  \n",
       "13519       23.8005  \n",
       "13520           NaN  \n",
       "13521           NaN  \n",
       "\n",
       "[13522 rows x 18 columns]"
      ]
     },
     "execution_count": 57,
     "metadata": {},
     "output_type": "execute_result"
    }
   ],
   "source": [
    "cosecha"
   ]
  },
  {
   "cell_type": "code",
   "execution_count": 52,
   "id": "ffddd7a2-5a33-49be-881e-e1136e8b98b8",
   "metadata": {
    "tags": []
   },
   "outputs": [],
   "source": [
    "cosecha.loc[:, 'avance_cosecha'] = cosecha['1_Cosechado'] * cosecha['area']"
   ]
  },
  {
   "cell_type": "code",
   "execution_count": 54,
   "id": "6eb0738e-dc8f-4a09-9fb8-0d317d6788f4",
   "metadata": {
    "tags": []
   },
   "outputs": [
    {
     "data": {
      "text/plain": [
       "8311.127698"
      ]
     },
     "execution_count": 54,
     "metadata": {},
     "output_type": "execute_result"
    }
   ],
   "source": [
    "cosecha['avance_cosecha'].sum()"
   ]
  }
 ],
 "metadata": {
  "kernelspec": {
   "display_name": "Python 3 (ipykernel)",
   "language": "python",
   "name": "python3"
  },
  "language_info": {
   "codemirror_mode": {
    "name": "ipython",
    "version": 3
   },
   "file_extension": ".py",
   "mimetype": "text/x-python",
   "name": "python",
   "nbconvert_exporter": "python",
   "pygments_lexer": "ipython3",
   "version": "3.7.16"
  }
 },
 "nbformat": 4,
 "nbformat_minor": 5
}
