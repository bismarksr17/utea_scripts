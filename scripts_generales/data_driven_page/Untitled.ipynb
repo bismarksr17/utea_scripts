{
 "cells": [
  {
   "cell_type": "code",
   "execution_count": 1,
   "id": "33f09ca9-85e5-4fcb-9414-ef010894d1b2",
   "metadata": {},
   "outputs": [],
   "source": [
    "import openpyxl\n",
    "from openpyxl_image_loader import SheetImageLoader"
   ]
  },
  {
   "cell_type": "code",
   "execution_count": 2,
   "id": "d03e11dd-71e0-4d91-9308-2a5a11b11982",
   "metadata": {},
   "outputs": [
    {
     "name": "stderr",
     "output_type": "stream",
     "text": [
      "C:\\Users\\Usuario\\AppData\\Local\\Temp\\ipykernel_17956\\4080736814.py:1: DeprecationWarning: \n",
      "Pyarrow will become a required dependency of pandas in the next major release of pandas (pandas 3.0),\n",
      "(to allow more performant data types, such as the Arrow string type, and better interoperability with other libraries)\n",
      "but was not found to be installed on your system.\n",
      "If this would cause problems for you,\n",
      "please provide us feedback at https://github.com/pandas-dev/pandas/issues/54466\n",
      "        \n",
      "  import pandas as pd\n"
     ]
    }
   ],
   "source": [
    "import pandas as pd"
   ]
  },
  {
   "cell_type": "code",
   "execution_count": 3,
   "id": "cdddcd97-e19f-48df-97c1-2c503b893606",
   "metadata": {},
   "outputs": [],
   "source": [
    "ruta_fases = 'DATOS_ESTIMATIVA.xlsx'\n",
    "df = pd.read_excel(ruta_fases, sheet_name='30 | CAMPO DULCE')"
   ]
  },
  {
   "cell_type": "code",
   "execution_count": 4,
   "id": "4281e322-6612-4dd7-b3f3-9ae6e25f709b",
   "metadata": {},
   "outputs": [
    {
     "data": {
      "text/html": [
       "<div>\n",
       "<style scoped>\n",
       "    .dataframe tbody tr th:only-of-type {\n",
       "        vertical-align: middle;\n",
       "    }\n",
       "\n",
       "    .dataframe tbody tr th {\n",
       "        vertical-align: top;\n",
       "    }\n",
       "\n",
       "    .dataframe thead th {\n",
       "        text-align: right;\n",
       "    }\n",
       "</style>\n",
       "<table border=\"1\" class=\"dataframe\">\n",
       "  <thead>\n",
       "    <tr style=\"text-align: right;\">\n",
       "      <th></th>\n",
       "      <th>CATEGORIA</th>\n",
       "      <th>COLOR</th>\n",
       "      <th>TCH</th>\n",
       "      <th>AREA</th>\n",
       "      <th>%</th>\n",
       "      <th>PRODUCCIÓN</th>\n",
       "    </tr>\n",
       "  </thead>\n",
       "  <tbody>\n",
       "    <tr>\n",
       "      <th>0</th>\n",
       "      <td>Nulo</td>\n",
       "      <td>NaN</td>\n",
       "      <td>0</td>\n",
       "      <td>22.025927</td>\n",
       "      <td>0.032965</td>\n",
       "      <td>0.000000</td>\n",
       "    </tr>\n",
       "    <tr>\n",
       "      <th>1</th>\n",
       "      <td>Muy Bajo</td>\n",
       "      <td>NaN</td>\n",
       "      <td>20</td>\n",
       "      <td>64.691967</td>\n",
       "      <td>0.096821</td>\n",
       "      <td>1293.839342</td>\n",
       "    </tr>\n",
       "    <tr>\n",
       "      <th>2</th>\n",
       "      <td>Bajo Medio</td>\n",
       "      <td>NaN</td>\n",
       "      <td>30</td>\n",
       "      <td>82.111122</td>\n",
       "      <td>0.122891</td>\n",
       "      <td>2463.333645</td>\n",
       "    </tr>\n",
       "    <tr>\n",
       "      <th>3</th>\n",
       "      <td>Bajo</td>\n",
       "      <td>NaN</td>\n",
       "      <td>40</td>\n",
       "      <td>107.243956</td>\n",
       "      <td>0.160506</td>\n",
       "      <td>4289.758222</td>\n",
       "    </tr>\n",
       "    <tr>\n",
       "      <th>4</th>\n",
       "      <td>Medio</td>\n",
       "      <td>NaN</td>\n",
       "      <td>50</td>\n",
       "      <td>129.902623</td>\n",
       "      <td>0.194418</td>\n",
       "      <td>6495.131164</td>\n",
       "    </tr>\n",
       "    <tr>\n",
       "      <th>5</th>\n",
       "      <td>Medio Alto</td>\n",
       "      <td>NaN</td>\n",
       "      <td>60</td>\n",
       "      <td>140.838441</td>\n",
       "      <td>0.210786</td>\n",
       "      <td>8450.306432</td>\n",
       "    </tr>\n",
       "    <tr>\n",
       "      <th>6</th>\n",
       "      <td>Alto</td>\n",
       "      <td>NaN</td>\n",
       "      <td>70</td>\n",
       "      <td>81.201117</td>\n",
       "      <td>0.121529</td>\n",
       "      <td>5684.078185</td>\n",
       "    </tr>\n",
       "    <tr>\n",
       "      <th>7</th>\n",
       "      <td>Muy Alto</td>\n",
       "      <td>NaN</td>\n",
       "      <td>80</td>\n",
       "      <td>40.144848</td>\n",
       "      <td>0.060083</td>\n",
       "      <td>3211.587848</td>\n",
       "    </tr>\n",
       "    <tr>\n",
       "      <th>8</th>\n",
       "      <td>TOTAL</td>\n",
       "      <td>NaN</td>\n",
       "      <td>Rend: 47,73 tn/ha</td>\n",
       "      <td>668.160000</td>\n",
       "      <td>1.000000</td>\n",
       "      <td>31888.034838</td>\n",
       "    </tr>\n",
       "  </tbody>\n",
       "</table>\n",
       "</div>"
      ],
      "text/plain": [
       "    CATEGORIA  COLOR                TCH        AREA         %    PRODUCCIÓN\n",
       "0        Nulo    NaN                  0   22.025927  0.032965      0.000000\n",
       "1    Muy Bajo    NaN                 20   64.691967  0.096821   1293.839342\n",
       "2  Bajo Medio    NaN                 30   82.111122  0.122891   2463.333645\n",
       "3        Bajo    NaN                 40  107.243956  0.160506   4289.758222\n",
       "4       Medio    NaN                 50  129.902623  0.194418   6495.131164\n",
       "5  Medio Alto    NaN                 60  140.838441  0.210786   8450.306432\n",
       "6        Alto    NaN                 70   81.201117  0.121529   5684.078185\n",
       "7    Muy Alto    NaN                 80   40.144848  0.060083   3211.587848\n",
       "8       TOTAL    NaN  Rend: 47,73 tn/ha  668.160000  1.000000  31888.034838"
      ]
     },
     "execution_count": 4,
     "metadata": {},
     "output_type": "execute_result"
    }
   ],
   "source": [
    "df"
   ]
  },
  {
   "cell_type": "code",
   "execution_count": 6,
   "id": "0305a96f-85aa-4059-b8ed-cee1dffaea90",
   "metadata": {},
   "outputs": [
    {
     "ename": "ValueError",
     "evalue": "Cell A1 doesn't contain an image",
     "output_type": "error",
     "traceback": [
      "\u001b[1;31m---------------------------------------------------------------------------\u001b[0m",
      "\u001b[1;31mValueError\u001b[0m                                Traceback (most recent call last)",
      "Cell \u001b[1;32mIn[6], line 9\u001b[0m\n\u001b[0;32m      6\u001b[0m image_loader \u001b[38;5;241m=\u001b[39m SheetImageLoader(sheet)\n\u001b[0;32m      8\u001b[0m \u001b[38;5;66;03m#get the image (put the cell you need instead of 'A1')\u001b[39;00m\n\u001b[1;32m----> 9\u001b[0m image \u001b[38;5;241m=\u001b[39m \u001b[43mimage_loader\u001b[49m\u001b[38;5;241;43m.\u001b[39;49m\u001b[43mget\u001b[49m\u001b[43m(\u001b[49m\u001b[38;5;124;43m'\u001b[39;49m\u001b[38;5;124;43mA1\u001b[39;49m\u001b[38;5;124;43m'\u001b[39;49m\u001b[43m)\u001b[49m\n\u001b[0;32m     11\u001b[0m \u001b[38;5;66;03m#showing the image\u001b[39;00m\n\u001b[0;32m     12\u001b[0m image\u001b[38;5;241m.\u001b[39mshow()\n",
      "File \u001b[1;32m~\\anaconda3\\envs\\utea\\lib\\site-packages\\openpyxl_image_loader\\sheet_image_loader.py:30\u001b[0m, in \u001b[0;36mSheetImageLoader.get\u001b[1;34m(self, cell)\u001b[0m\n\u001b[0;32m     28\u001b[0m \u001b[38;5;250m\u001b[39m\u001b[38;5;124;03m\"\"\"Retrieves image data from a cell\"\"\"\u001b[39;00m\n\u001b[0;32m     29\u001b[0m \u001b[38;5;28;01mif\u001b[39;00m cell \u001b[38;5;129;01mnot\u001b[39;00m \u001b[38;5;129;01min\u001b[39;00m \u001b[38;5;28mself\u001b[39m\u001b[38;5;241m.\u001b[39m_images:\n\u001b[1;32m---> 30\u001b[0m     \u001b[38;5;28;01mraise\u001b[39;00m \u001b[38;5;167;01mValueError\u001b[39;00m(\u001b[38;5;124m\"\u001b[39m\u001b[38;5;124mCell \u001b[39m\u001b[38;5;132;01m{}\u001b[39;00m\u001b[38;5;124m doesn\u001b[39m\u001b[38;5;124m'\u001b[39m\u001b[38;5;124mt contain an image\u001b[39m\u001b[38;5;124m\"\u001b[39m\u001b[38;5;241m.\u001b[39mformat(cell))\n\u001b[0;32m     31\u001b[0m \u001b[38;5;28;01melse\u001b[39;00m:\n\u001b[0;32m     32\u001b[0m     image \u001b[38;5;241m=\u001b[39m io\u001b[38;5;241m.\u001b[39mBytesIO(\u001b[38;5;28mself\u001b[39m\u001b[38;5;241m.\u001b[39m_images[cell]())\n",
      "\u001b[1;31mValueError\u001b[0m: Cell A1 doesn't contain an image"
     ]
    }
   ],
   "source": [
    "#loading the Excel File and the sheet\n",
    "pxl_doc = openpyxl.load_workbook('DATOS_ESTIMATIVA.xlsx')\n",
    "sheet = pxl_doc['30 | CAMPO DULCE']\n",
    "\n",
    "#calling the image_loader\n",
    "image_loader = SheetImageLoader(sheet)\n",
    "\n",
    "#get the image (put the cell you need instead of 'A1')\n",
    "image = image_loader.get('A1')\n",
    "\n",
    "#showing the image\n",
    "image.show()\n",
    "\n",
    "#saving the image\n",
    "image.save('image_name.jpg')"
   ]
  },
  {
   "cell_type": "code",
   "execution_count": null,
   "id": "d695b567-a5e8-47df-a346-d0815ab77d37",
   "metadata": {},
   "outputs": [],
   "source": []
  },
  {
   "cell_type": "code",
   "execution_count": null,
   "id": "2d336d99-c161-4fe0-8579-b0547ebbd12b",
   "metadata": {},
   "outputs": [],
   "source": []
  },
  {
   "cell_type": "code",
   "execution_count": null,
   "id": "14102077-10cb-4197-85ba-83b96142ced4",
   "metadata": {},
   "outputs": [],
   "source": []
  },
  {
   "cell_type": "code",
   "execution_count": null,
   "id": "fa55ad43-6671-44a3-8185-65370f14f2f8",
   "metadata": {},
   "outputs": [],
   "source": []
  },
  {
   "cell_type": "code",
   "execution_count": null,
   "id": "164d3794-3242-4c20-996f-4042fa604a05",
   "metadata": {},
   "outputs": [],
   "source": []
  },
  {
   "cell_type": "code",
   "execution_count": 7,
   "id": "7abbb469-ab5c-4871-b5cc-39e194781e2e",
   "metadata": {},
   "outputs": [],
   "source": [
    "import openpyxl\n",
    "import matplotlib.pyplot as plt\n",
    "import pandas as pd"
   ]
  },
  {
   "cell_type": "code",
   "execution_count": null,
   "id": "5d31bc9c-05f6-4767-88ab-3869939ba8f5",
   "metadata": {},
   "outputs": [],
   "source": []
  },
  {
   "cell_type": "code",
   "execution_count": 8,
   "id": "66f53d36-cbde-4ec3-86a3-396f0cee9620",
   "metadata": {},
   "outputs": [
    {
     "data": {
      "image/png": "[encoded data removed]",
      "text/plain": [
       "<Figure size 500x300 with 1 Axes>"
      ]
     },
     "metadata": {},
     "output_type": "display_data"
    }
   ],
   "source": [
    "# Cargar el libro de trabajo y seleccionar la hoja\n",
    "wb = openpyxl.load_workbook('DATOS_ESTIMATIVA.xlsx')\n",
    "sheet = wb['30 | CAMPO DULCE']\n",
    "\n",
    "# Definir el rango de celdas que deseas extraer\n",
    "rango_celdas = sheet['A1:F10']  # Por ejemplo, extraer de A1 a C3\n",
    "\n",
    "# Convertir las celdas a un DataFrame de pandas para facilitar la manipulación\n",
    "datos = []\n",
    "for row in rango_celdas:\n",
    "    fila_datos = [cell.value for cell in row]\n",
    "    datos.append(fila_datos)\n",
    "\n",
    "df = pd.DataFrame(datos)\n",
    "\n",
    "# Crear una figura para dibujar la tabla\n",
    "fig, ax = plt.subplots(figsize=(5, 3))  # Ajusta el tamaño según necesites\n",
    "ax.axis('tight')\n",
    "ax.axis('off')\n",
    "ax.table(cellText=df.values, colLabels=df.columns, loc='center')\n",
    "\n",
    "plt.savefig('imagen_celdas.png')"
   ]
  },
  {
   "cell_type": "code",
   "execution_count": null,
   "id": "5dca628e-6c72-428f-829e-a05debed987e",
   "metadata": {},
   "outputs": [],
   "source": []
  },
  {
   "cell_type": "code",
   "execution_count": null,
   "id": "053ae93e-e18c-44d4-83ce-8ca865ac7da5",
   "metadata": {},
   "outputs": [],
   "source": []
  },
  {
   "cell_type": "code",
   "execution_count": null,
   "id": "6dd3e1f1-6561-41de-9c87-40ca40faf3d6",
   "metadata": {},
   "outputs": [],
   "source": []
  },
  {
   "cell_type": "code",
   "execution_count": 1,
   "id": "9e30663d-c707-4f2c-85f7-3b651c4c9353",
   "metadata": {},
   "outputs": [],
   "source": [
    "import excel2img"
   ]
  },
  {
   "cell_type": "code",
   "execution_count": 4,
   "id": "fd354bd2-72df-4fed-a6a0-9ed2870c679d",
   "metadata": {},
   "outputs": [
    {
     "ename": "Exception",
     "evalue": "Failed locating used cell range on page TOTALES!A1:E2",
     "output_type": "error",
     "traceback": [
      "\u001b[1;31m---------------------------------------------------------------------------\u001b[0m",
      "\u001b[1;31mcom_error\u001b[0m                                 Traceback (most recent call last)",
      "File \u001b[1;32m~\\anaconda3\\envs\\utea\\lib\\site-packages\\excel2img\\excel2img.py:88\u001b[0m, in \u001b[0;36mexport_img\u001b[1;34m(fn_excel, fn_image, page, _range)\u001b[0m\n\u001b[0;32m     87\u001b[0m \u001b[38;5;28;01mtry\u001b[39;00m:\n\u001b[1;32m---> 88\u001b[0m     rng \u001b[38;5;241m=\u001b[39m \u001b[43mexcel\u001b[49m\u001b[38;5;241;43m.\u001b[39;49m\u001b[43mworkbook\u001b[49m\u001b[38;5;241;43m.\u001b[39;49m\u001b[43mSheets\u001b[49m\u001b[43m(\u001b[49m\u001b[43mpage\u001b[49m\u001b[43m)\u001b[49m\u001b[38;5;241m.\u001b[39mUsedRange\n\u001b[0;32m     89\u001b[0m \u001b[38;5;28;01mexcept\u001b[39;00m com_error:\n",
      "File \u001b[1;32m~\\anaconda3\\envs\\utea\\lib\\site-packages\\win32com\\client\\dynamic.py:224\u001b[0m, in \u001b[0;36mCDispatch.__call__\u001b[1;34m(self, *args)\u001b[0m\n\u001b[0;32m    222\u001b[0m     allArgs \u001b[38;5;241m=\u001b[39m (dispid, LCID, invkind, \u001b[38;5;241m1\u001b[39m) \u001b[38;5;241m+\u001b[39m args\n\u001b[0;32m    223\u001b[0m     \u001b[38;5;28;01mreturn\u001b[39;00m \u001b[38;5;28mself\u001b[39m\u001b[38;5;241m.\u001b[39m_get_good_object_(\n\u001b[1;32m--> 224\u001b[0m         \u001b[38;5;28;43mself\u001b[39;49m\u001b[38;5;241;43m.\u001b[39;49m\u001b[43m_oleobj_\u001b[49m\u001b[38;5;241;43m.\u001b[39;49m\u001b[43mInvoke\u001b[49m\u001b[43m(\u001b[49m\u001b[38;5;241;43m*\u001b[39;49m\u001b[43mallArgs\u001b[49m\u001b[43m)\u001b[49m, \u001b[38;5;28mself\u001b[39m\u001b[38;5;241m.\u001b[39m_olerepr_\u001b[38;5;241m.\u001b[39mdefaultDispatchName, \u001b[38;5;28;01mNone\u001b[39;00m\n\u001b[0;32m    225\u001b[0m     )\n\u001b[0;32m    226\u001b[0m \u001b[38;5;28;01mraise\u001b[39;00m \u001b[38;5;167;01mTypeError\u001b[39;00m(\u001b[38;5;124m\"\u001b[39m\u001b[38;5;124mThis dispatch object does not define a default method\u001b[39m\u001b[38;5;124m\"\u001b[39m)\n",
      "\u001b[1;31mcom_error\u001b[0m: (-2147352567, 'Ocurrió una excepción.', (0, None, None, None, 0, -2147352565), None)",
      "\nDuring handling of the above exception, another exception occurred:\n",
      "\u001b[1;31mException\u001b[0m                                 Traceback (most recent call last)",
      "Cell \u001b[1;32mIn[4], line 1\u001b[0m\n\u001b[1;32m----> 1\u001b[0m \u001b[43mexcel2img\u001b[49m\u001b[38;5;241;43m.\u001b[39;49m\u001b[43mexport_img\u001b[49m\u001b[43m(\u001b[49m\u001b[38;5;124;43m\"\u001b[39;49m\u001b[38;5;124;43mDATOS_ESTIMATIVA.xlsx\u001b[39;49m\u001b[38;5;124;43m\"\u001b[39;49m\u001b[43m,\u001b[49m\u001b[38;5;124;43m\"\u001b[39;49m\u001b[38;5;124;43mimage_01.png\u001b[39;49m\u001b[38;5;124;43m\"\u001b[39;49m\u001b[43m,\u001b[49m\u001b[38;5;124;43m\"\u001b[39;49m\u001b[38;5;124;43mTOTALES!A1:E2\u001b[39;49m\u001b[38;5;124;43m\"\u001b[39;49m\u001b[43m)\u001b[49m\n",
      "File \u001b[1;32m~\\anaconda3\\envs\\utea\\lib\\site-packages\\excel2img\\excel2img.py:90\u001b[0m, in \u001b[0;36mexport_img\u001b[1;34m(fn_excel, fn_image, page, _range)\u001b[0m\n\u001b[0;32m     88\u001b[0m     rng \u001b[38;5;241m=\u001b[39m excel\u001b[38;5;241m.\u001b[39mworkbook\u001b[38;5;241m.\u001b[39mSheets(page)\u001b[38;5;241m.\u001b[39mUsedRange\n\u001b[0;32m     89\u001b[0m \u001b[38;5;28;01mexcept\u001b[39;00m com_error:\n\u001b[1;32m---> 90\u001b[0m     \u001b[38;5;28;01mraise\u001b[39;00m \u001b[38;5;167;01mException\u001b[39;00m(\u001b[38;5;124m\"\u001b[39m\u001b[38;5;124mFailed locating used cell range on page \u001b[39m\u001b[38;5;132;01m%s\u001b[39;00m\u001b[38;5;124m\"\u001b[39m\u001b[38;5;241m%\u001b[39mpage)\n\u001b[0;32m     91\u001b[0m \u001b[38;5;28;01mexcept\u001b[39;00m \u001b[38;5;167;01mAttributeError\u001b[39;00m:\n\u001b[0;32m     92\u001b[0m     \u001b[38;5;66;03m# This might be a \"chart page\", try exporting it as a whole\u001b[39;00m\n\u001b[0;32m     93\u001b[0m     rng \u001b[38;5;241m=\u001b[39m excel\u001b[38;5;241m.\u001b[39mworkbook\u001b[38;5;241m.\u001b[39mSheets(page)\u001b[38;5;241m.\u001b[39mExport(os\u001b[38;5;241m.\u001b[39mpath\u001b[38;5;241m.\u001b[39mabspath(fn_image))\n",
      "\u001b[1;31mException\u001b[0m: Failed locating used cell range on page TOTALES!A1:E2"
     ]
    }
   ],
   "source": [
    "excel2img.export_img(\"DATOS_ESTIMATIVA.xlsx\",\"image_01.png\",\"TOTALES!A1:E2\")"
   ]
  },
  {
   "cell_type": "code",
   "execution_count": null,
   "id": "5af3d237-5746-4165-a888-4b7faef7e7b9",
   "metadata": {},
   "outputs": [],
   "source": []
  },
  {
   "cell_type": "code",
   "execution_count": null,
   "id": "b8dc9bde-8072-4017-9fab-4c1e2b9f609e",
   "metadata": {},
   "outputs": [],
   "source": []
  },
  {
   "cell_type": "code",
   "execution_count": null,
   "id": "4dcd9bf3-9dd4-4afe-8db6-cd338220afe3",
   "metadata": {},
   "outputs": [],
   "source": []
  },
  {
   "cell_type": "code",
   "execution_count": null,
   "id": "41b6f8d7-943c-41dc-a898-0ad09eead210",
   "metadata": {},
   "outputs": [],
   "source": []
  },
  {
   "cell_type": "code",
   "execution_count": null,
   "id": "cc0d93bb-41fb-4296-9c2e-2613250049cb",
   "metadata": {},
   "outputs": [],
   "source": []
  }
 ],
 "metadata": {
  "kernelspec": {
   "display_name": "Python 3 (ipykernel)",
   "language": "python",
   "name": "python3"
  },
  "language_info": {
   "codemirror_mode": {
    "name": "ipython",
    "version": 3
   },
   "file_extension": ".py",
   "mimetype": "text/x-python",
   "name": "python",
   "nbconvert_exporter": "python",
   "pygments_lexer": "ipython3",
   "version": "3.10.13"
  }
 },
 "nbformat": 4,
 "nbformat_minor": 5
}
