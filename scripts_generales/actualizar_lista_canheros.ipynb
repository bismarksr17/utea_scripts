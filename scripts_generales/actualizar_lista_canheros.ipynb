{
 "cells": [
  {
   "cell_type": "code",
   "execution_count": null,
   "id": "58a436a5-7322-47ac-a808-270bd0be4485",
   "metadata": {},
   "outputs": [],
   "source": [
    "from amigocloud import AmigoCloud\n",
    "import pandas as pd"
   ]
  },
  {
   "cell_type": "code",
   "execution_count": null,
   "id": "1cca8d42-56e8-4369-a029-5fccd76430bd",
   "metadata": {
    "tags": []
   },
   "outputs": [],
   "source": [
    "acceso = open('../api_key/api.key','r')\n",
    "api_token = acceso.readlines()[0]\n",
    "acceso.close()\n",
    "\n",
    "amigocloud = AmigoCloud(token=api_token)\n",
    "amigocloud\n",
    "\n"
   ]
  },
  {
   "cell_type": "code",
   "execution_count": null,
   "id": "c65b3ea5-5052-4886-b8ba-e52e3fecda78",
   "metadata": {},
   "outputs": [],
   "source": [
    "# SELECCIONAR GENERALES DE CAÑERO\n",
    "query = {'query': 'select institucion, canhero from dataset_291743'}\n",
    "project = 'https://app.amigocloud.com/api/v1/projects/30232/sql'\n",
    "select = amigocloud.get_cursor(project, query)\n",
    "#data = select['data']\n",
    "print('end')"
   ]
  },
  {
   "cell_type": "code",
   "execution_count": null,
   "id": "16d6f59b-b719-49db-888e-19ab777bf3b3",
   "metadata": {},
   "outputs": [],
   "source": [
    "lista = []"
   ]
  },
  {
   "cell_type": "code",
   "execution_count": null,
   "id": "755220f2-9c9a-49d4-b77a-780b83ffef1c",
   "metadata": {},
   "outputs": [],
   "source": [
    "for reg in select:\n",
    "    lista.append(reg)"
   ]
  },
  {
   "cell_type": "code",
   "execution_count": null,
   "id": "1a484e3a-820f-400b-be84-7ba0ac6ff757",
   "metadata": {},
   "outputs": [],
   "source": [
    "df = pd.DataFrame.from_dict(lista)"
   ]
  },
  {
   "cell_type": "code",
   "execution_count": null,
   "id": "843877e8-adb6-46ee-955f-c7204a3d3262",
   "metadata": {},
   "outputs": [],
   "source": [
    "df"
   ]
  },
  {
   "cell_type": "code",
   "execution_count": null,
   "id": "7fd7c494-0904-4c1d-bf6e-1b04963942e9",
   "metadata": {},
   "outputs": [],
   "source": [
    "# ELIMINAR DATOS DE CAÑERO EN PROYECTO \"CAÑA QUEMADA\"\n",
    "query = {'query': 'delete from dataset_292864'}\n",
    "project = 'https://app.amigocloud.com/api/v1/projects/31874/sql'\n",
    "select = amigocloud.post(project, query)\n",
    "#data = select['data']\n",
    "print('end')"
   ]
  },
  {
   "cell_type": "code",
   "execution_count": null,
   "id": "dc3827a5-ae17-41d0-9897-7531a2bec9c4",
   "metadata": {},
   "outputs": [],
   "source": [
    "for i in lista:\n",
    "    print('(' + str(i['institucion']) + ', \\'' + i['canhero'] + '\\'),')"
   ]
  },
  {
   "cell_type": "code",
   "execution_count": null,
   "id": "b21c203f-6483-4f26-b7f2-4e551f1defa7",
   "metadata": {},
   "outputs": [],
   "source": [
    "lista[0]['institucion']"
   ]
  },
  {
   "cell_type": "code",
   "execution_count": null,
   "id": "5af3bc1a-eac4-44bc-8bca-62c96c638ad2",
   "metadata": {},
   "outputs": [],
   "source": [
    "'(1, \\'1 / nombre\\'), '"
   ]
  },
  {
   "cell_type": "code",
   "execution_count": null,
   "id": "9159c0ec-95ab-462e-bb73-4fb60c49a88c",
   "metadata": {},
   "outputs": [],
   "source": [
    "select"
   ]
  },
  {
   "cell_type": "code",
   "execution_count": null,
   "id": "fe394187-2db0-40ba-8cee-5f81af4006f2",
   "metadata": {},
   "outputs": [],
   "source": [
    "df"
   ]
  },
  {
   "cell_type": "code",
   "execution_count": null,
   "id": "c0806c27-d424-4e21-ba11-7e6cea39c621",
   "metadata": {},
   "outputs": [],
   "source": [
    "df[1]"
   ]
  },
  {
   "cell_type": "code",
   "execution_count": null,
   "id": "b50b66a1-c103-4651-b97c-95c547aa8038",
   "metadata": {},
   "outputs": [],
   "source": []
  },
  {
   "cell_type": "code",
   "execution_count": null,
   "id": "5d2dbf52-78fc-41af-8f15-08f48f32dd04",
   "metadata": {},
   "outputs": [],
   "source": []
  }
 ],
 "metadata": {
  "kernelspec": {
   "display_name": "Python 3 (ipykernel)",
   "language": "python",
   "name": "python3"
  },
  "language_info": {
   "codemirror_mode": {
    "name": "ipython",
    "version": 3
   },
   "file_extension": ".py",
   "mimetype": "text/x-python",
   "name": "python",
   "nbconvert_exporter": "python",
   "pygments_lexer": "ipython3",
   "version": "3.7.11"
  }
 },
 "nbformat": 4,
 "nbformat_minor": 5
}
