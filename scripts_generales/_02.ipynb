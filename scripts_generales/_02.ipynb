{
 "cells": [
  {
   "cell_type": "code",
   "execution_count": 8,
   "id": "bcdefa0c-5b07-4c8c-8cd8-dac92894f4a7",
   "metadata": {},
   "outputs": [],
   "source": [
    "import os\n",
    "import pandas as pd"
   ]
  },
  {
   "cell_type": "code",
   "execution_count": null,
   "id": "73029c1f-f76a-44dd-a658-c897f86d8e09",
   "metadata": {},
   "outputs": [],
   "source": []
  },
  {
   "cell_type": "code",
   "execution_count": 44,
   "id": "c88edc82-2416-4683-be71-87a5f1a43d83",
   "metadata": {},
   "outputs": [],
   "source": [
    "CARPETA_ENTRADA = r\"G:\\OneDrive - Ingenio Azucarero Guabira S.A\\UTEA_2025\\TRABAJOS\\2025-08-22_KM RECORRIDOS DE CAMIONES\\2024\"\n",
    "CARPETA_SALIDA = r\"G:\\OneDrive - Ingenio Azucarero Guabira S.A\\UTEA_2025\\TRABAJOS\\2025-08-22_KM RECORRIDOS DE CAMIONES\\2024\\datos.xlsx\""
   ]
  },
  {
   "cell_type": "code",
   "execution_count": 45,
   "id": "e18b9e53-dd27-43be-a921-e12ade227b20",
   "metadata": {},
   "outputs": [
    {
     "data": {
      "text/plain": [
       "['milStatistics(20250822)-08.xls',\n",
       " 'milStatistics(20250822)-09.xls',\n",
       " 'milStatistics(20250822)-10.xls',\n",
       " 'milStatistics(20250822)-11.xls',\n",
       " 'milStatistics(20250822)-12.xls']"
      ]
     },
     "execution_count": 45,
     "metadata": {},
     "output_type": "execute_result"
    }
   ],
   "source": [
    "elementos = os.listdir(CARPETA_ENTRADA)\n",
    "elementos"
   ]
  },
  {
   "cell_type": "code",
   "execution_count": 46,
   "id": "5ecba055-1c87-43dc-95d9-e30e8717493a",
   "metadata": {},
   "outputs": [],
   "source": [
    "for e in elementos:\n",
    "    ruta_excel = os.path.join(CARPETA_ENTRADA, e)\n",
    "    hojas = pd.ExcelFile(ruta_excel, engine='xlrd').sheet_names\n",
    "    for hoja in hojas:\n",
    "        hoja = pd.read_excel(ruta_excel, sheet_name=hoja, engine='xlrd')\n",
    "        data = pd.concat([data, hoja], ignore_index=True)"
   ]
  },
  {
   "cell_type": "code",
   "execution_count": 47,
   "id": "f4500274-28bd-4fd0-a301-402760c90761",
   "metadata": {},
   "outputs": [
    {
     "data": {
      "text/html": [
       "<div>\n",
       "<style scoped>\n",
       "    .dataframe tbody tr th:only-of-type {\n",
       "        vertical-align: middle;\n",
       "    }\n",
       "\n",
       "    .dataframe tbody tr th {\n",
       "        vertical-align: top;\n",
       "    }\n",
       "\n",
       "    .dataframe thead th {\n",
       "        text-align: right;\n",
       "    }\n",
       "</style>\n",
       "<table border=\"1\" class=\"dataframe\">\n",
       "  <thead>\n",
       "    <tr style=\"text-align: right;\">\n",
       "      <th></th>\n",
       "      <th>id</th>\n",
       "      <th>macid</th>\n",
       "      <th>dates</th>\n",
       "      <th>mil</th>\n",
       "      <th>speeding</th>\n",
       "      <th>remain</th>\n",
       "    </tr>\n",
       "  </thead>\n",
       "  <tbody>\n",
       "    <tr>\n",
       "      <th>0</th>\n",
       "      <td>1</td>\n",
       "      <td>antonio nuevo</td>\n",
       "      <td>2024-08-01</td>\n",
       "      <td>0</td>\n",
       "      <td>0</td>\n",
       "      <td>0</td>\n",
       "    </tr>\n",
       "    <tr>\n",
       "      <th>1</th>\n",
       "      <td>2</td>\n",
       "      <td>antonio nuevo</td>\n",
       "      <td>2024-08-02</td>\n",
       "      <td>0</td>\n",
       "      <td>0</td>\n",
       "      <td>0</td>\n",
       "    </tr>\n",
       "    <tr>\n",
       "      <th>2</th>\n",
       "      <td>3</td>\n",
       "      <td>antonio nuevo</td>\n",
       "      <td>2024-08-03</td>\n",
       "      <td>0</td>\n",
       "      <td>0</td>\n",
       "      <td>0</td>\n",
       "    </tr>\n",
       "    <tr>\n",
       "      <th>3</th>\n",
       "      <td>4</td>\n",
       "      <td>antonio nuevo</td>\n",
       "      <td>2024-08-04</td>\n",
       "      <td>0</td>\n",
       "      <td>0</td>\n",
       "      <td>0</td>\n",
       "    </tr>\n",
       "    <tr>\n",
       "      <th>4</th>\n",
       "      <td>5</td>\n",
       "      <td>antonio nuevo</td>\n",
       "      <td>2024-08-05</td>\n",
       "      <td>0</td>\n",
       "      <td>0</td>\n",
       "      <td>0</td>\n",
       "    </tr>\n",
       "    <tr>\n",
       "      <th>...</th>\n",
       "      <td>...</td>\n",
       "      <td>...</td>\n",
       "      <td>...</td>\n",
       "      <td>...</td>\n",
       "      <td>...</td>\n",
       "      <td>...</td>\n",
       "    </tr>\n",
       "    <tr>\n",
       "      <th>2681</th>\n",
       "      <td>28</td>\n",
       "      <td>ZNA RICH</td>\n",
       "      <td>2024-12-28</td>\n",
       "      <td>0</td>\n",
       "      <td>0</td>\n",
       "      <td>0</td>\n",
       "    </tr>\n",
       "    <tr>\n",
       "      <th>2682</th>\n",
       "      <td>29</td>\n",
       "      <td>ZNA RICH</td>\n",
       "      <td>2024-12-29</td>\n",
       "      <td>0</td>\n",
       "      <td>0</td>\n",
       "      <td>0</td>\n",
       "    </tr>\n",
       "    <tr>\n",
       "      <th>2683</th>\n",
       "      <td>30</td>\n",
       "      <td>ZNA RICH</td>\n",
       "      <td>2024-12-30</td>\n",
       "      <td>0</td>\n",
       "      <td>0</td>\n",
       "      <td>0</td>\n",
       "    </tr>\n",
       "    <tr>\n",
       "      <th>2684</th>\n",
       "      <td>31</td>\n",
       "      <td>ZNA RICH</td>\n",
       "      <td>2024-12-31</td>\n",
       "      <td>0</td>\n",
       "      <td>0</td>\n",
       "      <td>0</td>\n",
       "    </tr>\n",
       "    <tr>\n",
       "      <th>2685</th>\n",
       "      <td>31</td>\n",
       "      <td>total</td>\n",
       "      <td>NaN</td>\n",
       "      <td>0</td>\n",
       "      <td>0</td>\n",
       "      <td>0</td>\n",
       "    </tr>\n",
       "  </tbody>\n",
       "</table>\n",
       "<p>2686 rows × 6 columns</p>\n",
       "</div>"
      ],
      "text/plain": [
       "      id          macid       dates  mil  speeding  remain\n",
       "0      1  antonio nuevo  2024-08-01    0         0       0\n",
       "1      2  antonio nuevo  2024-08-02    0         0       0\n",
       "2      3  antonio nuevo  2024-08-03    0         0       0\n",
       "3      4  antonio nuevo  2024-08-04    0         0       0\n",
       "4      5  antonio nuevo  2024-08-05    0         0       0\n",
       "...   ..            ...         ...  ...       ...     ...\n",
       "2681  28       ZNA RICH  2024-12-28    0         0       0\n",
       "2682  29       ZNA RICH  2024-12-29    0         0       0\n",
       "2683  30       ZNA RICH  2024-12-30    0         0       0\n",
       "2684  31       ZNA RICH  2024-12-31    0         0       0\n",
       "2685  31          total         NaN    0         0       0\n",
       "\n",
       "[2686 rows x 6 columns]"
      ]
     },
     "execution_count": 47,
     "metadata": {},
     "output_type": "execute_result"
    }
   ],
   "source": [
    "data"
   ]
  },
  {
   "cell_type": "code",
   "execution_count": 48,
   "id": "cf30c90d-40d2-4115-8cec-3c474966068e",
   "metadata": {},
   "outputs": [],
   "source": [
    "data['dates'] = pd.to_datetime(data['dates'], errors='coerce')"
   ]
  },
  {
   "cell_type": "code",
   "execution_count": 49,
   "id": "176b104c-3bac-42c8-a2b4-72d09636463f",
   "metadata": {},
   "outputs": [],
   "source": [
    "data.to_excel(CARPETA_SALIDA, index=False)"
   ]
  },
  {
   "cell_type": "code",
   "execution_count": null,
   "id": "1bcbdbdf-820c-4273-94e7-074a20041d23",
   "metadata": {},
   "outputs": [],
   "source": []
  },
  {
   "cell_type": "code",
   "execution_count": null,
   "id": "a09fec69-ea50-467a-96ff-bb582571de3e",
   "metadata": {},
   "outputs": [],
   "source": []
  },
  {
   "cell_type": "code",
   "execution_count": null,
   "id": "3d28d449-d5c8-4f51-ad98-7597563eb43c",
   "metadata": {},
   "outputs": [],
   "source": []
  },
  {
   "cell_type": "code",
   "execution_count": null,
   "id": "d0726936-ac5b-4c5a-a790-28cad7a7f142",
   "metadata": {},
   "outputs": [],
   "source": []
  },
  {
   "cell_type": "code",
   "execution_count": null,
   "id": "a42ee3de-182a-4794-ba7b-5a906c21c941",
   "metadata": {},
   "outputs": [],
   "source": []
  },
  {
   "cell_type": "code",
   "execution_count": null,
   "id": "71349f61-522a-4224-aeb6-9319ca7025a1",
   "metadata": {},
   "outputs": [],
   "source": []
  },
  {
   "cell_type": "code",
   "execution_count": null,
   "id": "ba17f7f2-ce66-466e-9f95-099adfceaae9",
   "metadata": {},
   "outputs": [],
   "source": []
  },
  {
   "cell_type": "code",
   "execution_count": null,
   "id": "21766cb7-0b18-45aa-a5a1-d65c7751fbea",
   "metadata": {},
   "outputs": [],
   "source": []
  },
  {
   "cell_type": "code",
   "execution_count": 39,
   "id": "de17aaff-ecb3-46e3-846c-42df0a2ee67f",
   "metadata": {},
   "outputs": [
    {
     "data": {
      "text/plain": [
       "'G:\\\\OneDrive - Ingenio Azucarero Guabira S.A\\\\UTEA_2025\\\\TRABAJOS\\\\2025-08-22_KM RECORRIDOS DE CAMIONES\\\\2024\\\\milStatistics(20250822)-08.xls'"
      ]
     },
     "execution_count": 39,
     "metadata": {},
     "output_type": "execute_result"
    }
   ],
   "source": [
    "ruta_excel = os.path.join(CARPETA_ENTRADA, 'milStatistics(20250822)-08.xls')\n",
    "ruta_excel"
   ]
  },
  {
   "cell_type": "code",
   "execution_count": 40,
   "id": "8c200874-14e9-46e8-95ab-3fa9f640890a",
   "metadata": {},
   "outputs": [
    {
     "data": {
      "text/plain": [
       "['antonio nuevo',\n",
       " 'Camioneta Ford F150',\n",
       " 'Camioneta Great Wall Blanca',\n",
       " 'Camioneta Triton Tecnico',\n",
       " 'kia',\n",
       " 'Marianito Nissan',\n",
       " 'RAM',\n",
       " 'Triton numero 40 Cord Maq',\n",
       " 'Volkswagen  num 25',\n",
       " 'Volqueta amarilla',\n",
       " 'Volvo azul #21',\n",
       " 'Volvo Coty numero20',\n",
       " 'Volvo pitanga #22',\n",
       " 'Volvo Power  num 48',\n",
       " 'Volvo Rojo  num 47',\n",
       " 'Volvo semental #23',\n",
       " 'ZNA RICH']"
      ]
     },
     "execution_count": 40,
     "metadata": {},
     "output_type": "execute_result"
    }
   ],
   "source": [
    "hojas = pd.ExcelFile(ruta_excel, engine='xlrd').sheet_names\n",
    "hojas"
   ]
  },
  {
   "cell_type": "code",
   "execution_count": 41,
   "id": "b0b31102-a357-4e73-a468-d00d391635c4",
   "metadata": {},
   "outputs": [],
   "source": [
    "hoja = pd.read_excel(ruta_excel, sheet_name='antonio nuevo', engine='xlrd')"
   ]
  },
  {
   "cell_type": "code",
   "execution_count": 42,
   "id": "14fcb3d3-21f9-4c75-85be-e4aed1bac37a",
   "metadata": {},
   "outputs": [],
   "source": [
    "data = hoja.copy()"
   ]
  },
  {
   "cell_type": "code",
   "execution_count": 43,
   "id": "f837ec26-9e4e-4a5d-8b9a-89c7b81175d9",
   "metadata": {},
   "outputs": [],
   "source": [
    "data = data.iloc[0:0]"
   ]
  },
  {
   "cell_type": "code",
   "execution_count": null,
   "id": "7f4dd449-a205-4fe1-a6bd-7c4965bfb1a2",
   "metadata": {},
   "outputs": [],
   "source": []
  },
  {
   "cell_type": "code",
   "execution_count": null,
   "id": "ed6c86e6-d27c-4950-9059-6e2086ded7ca",
   "metadata": {},
   "outputs": [],
   "source": []
  },
  {
   "cell_type": "code",
   "execution_count": null,
   "id": "45f2fd31-951f-4099-8ae6-26c3a0da9311",
   "metadata": {},
   "outputs": [],
   "source": []
  },
  {
   "cell_type": "code",
   "execution_count": 18,
   "id": "f0c6def7-f2eb-433c-85d8-f97c7f22058b",
   "metadata": {},
   "outputs": [
    {
     "data": {
      "text/html": [
       "<div>\n",
       "<style scoped>\n",
       "    .dataframe tbody tr th:only-of-type {\n",
       "        vertical-align: middle;\n",
       "    }\n",
       "\n",
       "    .dataframe tbody tr th {\n",
       "        vertical-align: top;\n",
       "    }\n",
       "\n",
       "    .dataframe thead th {\n",
       "        text-align: right;\n",
       "    }\n",
       "</style>\n",
       "<table border=\"1\" class=\"dataframe\">\n",
       "  <thead>\n",
       "    <tr style=\"text-align: right;\">\n",
       "      <th></th>\n",
       "      <th>id</th>\n",
       "      <th>macid</th>\n",
       "      <th>dates</th>\n",
       "      <th>mil</th>\n",
       "      <th>speeding</th>\n",
       "      <th>remain</th>\n",
       "    </tr>\n",
       "  </thead>\n",
       "  <tbody>\n",
       "  </tbody>\n",
       "</table>\n",
       "</div>"
      ],
      "text/plain": [
       "Empty DataFrame\n",
       "Columns: [id, macid, dates, mil, speeding, remain]\n",
       "Index: []"
      ]
     },
     "execution_count": 18,
     "metadata": {},
     "output_type": "execute_result"
    }
   ],
   "source": [
    "data"
   ]
  },
  {
   "cell_type": "code",
   "execution_count": null,
   "id": "8fa53148-ee4c-4a54-bab3-945322014070",
   "metadata": {},
   "outputs": [],
   "source": []
  },
  {
   "cell_type": "code",
   "execution_count": null,
   "id": "bb6ea18f-4d32-4ee8-9bdf-3e69abeedc90",
   "metadata": {},
   "outputs": [],
   "source": []
  },
  {
   "cell_type": "code",
   "execution_count": null,
   "id": "ff6ad7ab-bd53-40e6-9e09-8d0e2b5c918f",
   "metadata": {},
   "outputs": [],
   "source": []
  },
  {
   "cell_type": "code",
   "execution_count": null,
   "id": "0ceea86b-da18-47e8-89e3-9885a2a87321",
   "metadata": {},
   "outputs": [],
   "source": []
  },
  {
   "cell_type": "code",
   "execution_count": null,
   "id": "b82a100d-8a7d-480b-a4c8-033a1fd3e36d",
   "metadata": {},
   "outputs": [],
   "source": []
  },
  {
   "cell_type": "code",
   "execution_count": null,
   "id": "0c2a3d77-688f-456b-8de4-eafb76cf9295",
   "metadata": {},
   "outputs": [],
   "source": []
  },
  {
   "cell_type": "code",
   "execution_count": null,
   "id": "94b3b572-fefb-4c02-8ec8-46d76c5b5469",
   "metadata": {},
   "outputs": [],
   "source": []
  }
 ],
 "metadata": {
  "kernelspec": {
   "display_name": "Python 3 (ipykernel)",
   "language": "python",
   "name": "python3"
  },
  "language_info": {
   "codemirror_mode": {
    "name": "ipython",
    "version": 3
   },
   "file_extension": ".py",
   "mimetype": "text/x-python",
   "name": "python",
   "nbconvert_exporter": "python",
   "pygments_lexer": "ipython3",
   "version": "3.10.13"
  }
 },
 "nbformat": 4,
 "nbformat_minor": 5
}
