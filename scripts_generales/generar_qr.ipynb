{
 "cells": [
  {
   "cell_type": "code",
   "execution_count": 1,
   "id": "2379795c-6567-41a1-aadd-7e8acce3427d",
   "metadata": {},
   "outputs": [
    {
     "name": "stderr",
     "output_type": "stream",
     "text": [
      "C:\\Users\\Usuario\\anaconda3\\envs\\utea_reportes\\lib\\importlib\\_bootstrap.py:219: RuntimeWarning: greenlet.greenlet size changed, may indicate binary incompatibility. Expected 144 from C header, got 152 from PyObject\n",
      "  return f(*args, **kwds)\n",
      "C:\\Users\\Usuario\\anaconda3\\envs\\utea_reportes\\lib\\importlib\\_bootstrap.py:219: RuntimeWarning: greenlet.greenlet size changed, may indicate binary incompatibility. Expected 144 from C header, got 152 from PyObject\n",
      "  return f(*args, **kwds)\n",
      "C:\\Users\\Usuario\\anaconda3\\envs\\utea_reportes\\lib\\importlib\\_bootstrap.py:219: RuntimeWarning: greenlet.greenlet size changed, may indicate binary incompatibility. Expected 144 from C header, got 152 from PyObject\n",
      "  return f(*args, **kwds)\n",
      "C:\\Users\\Usuario\\anaconda3\\envs\\utea_reportes\\lib\\importlib\\_bootstrap.py:219: RuntimeWarning: greenlet.greenlet size changed, may indicate binary incompatibility. Expected 144 from C header, got 152 from PyObject\n",
      "  return f(*args, **kwds)\n"
     ]
    }
   ],
   "source": [
    "from datetime import datetime\n",
    "\n",
    "import collections\n",
    "from amigocloud import AmigoCloud\n",
    "\n",
    "from docxtpl import DocxTemplate\n",
    "import docxtpl\n",
    "from docx.shared import Mm\n",
    "\n",
    "import qrcode"
   ]
  },
  {
   "cell_type": "code",
   "execution_count": 3,
   "id": "09541e66-1910-4e40-8103-46f31bb50229",
   "metadata": {},
   "outputs": [],
   "source": [
    "# ruta de carpera donde estan las llaves\n",
    "ruta = open('../ruta.txt')\n",
    "ruta = ruta.readlines()[0]"
   ]
  },
  {
   "cell_type": "code",
   "execution_count": 4,
   "id": "3eb4cb45-f86e-4728-9d13-c8c2b672dace",
   "metadata": {},
   "outputs": [
    {
     "data": {
      "text/plain": [
       "'18/01/2024'"
      ]
     },
     "execution_count": 4,
     "metadata": {},
     "output_type": "execute_result"
    }
   ],
   "source": [
    "fecha_act = datetime.now()\n",
    "fecha_act.strftime('%d/%m/%Y')"
   ]
  },
  {
   "cell_type": "code",
   "execution_count": 5,
   "id": "9c610357-d37c-4574-aad0-91e6f919918c",
   "metadata": {},
   "outputs": [],
   "source": [
    "# 1 = Juan Pablo\n",
    "# 2 = Rogelio\n",
    "# 3 = Rudi"
   ]
  },
  {
   "cell_type": "code",
   "execution_count": 15,
   "id": "2d49d7fd-190c-400a-bf70-8e3eefaeb445",
   "metadata": {},
   "outputs": [],
   "source": [
    "tipo_inf = 'EXCELENCIA OPERACIONAL'\n",
    "id_r = 'PCL-1'\n",
    "fecha_insp = '08/01/2024'\n",
    "tecnico = 'Juan Pablo Jaldin'\n",
    "canhero = 'CAMPBELL BALCAZAR ALAN'\n",
    "cod_ca = 1672\n",
    "\n",
    "anho = fecha_act.strftime('%Y')"
   ]
  },
  {
   "cell_type": "code",
   "execution_count": 16,
   "id": "6fc2f518-0276-4483-a7ad-5eb3fd4ff143",
   "metadata": {},
   "outputs": [
    {
     "data": {
      "text/plain": [
       "{'id': 'PCL-1',\n",
       " 'tipo_inf': 'EXCELENCIA OPERACIONAL',\n",
       " 'anho': '2024',\n",
       " 'tecnico': 'Juan Pablo Jaldin',\n",
       " 'fecha_insp': '08/01/2024',\n",
       " 'nom_ca': 'CAMPBELL BALCAZAR ALAN',\n",
       " 'cod_ca': 1672}"
      ]
     },
     "execution_count": 16,
     "metadata": {},
     "output_type": "execute_result"
    }
   ],
   "source": [
    "data = {\n",
    "    \"id\": id_r,\n",
    "    \"tipo_inf\": tipo_inf,\n",
    "    \"anho\": anho,\n",
    "    \"tecnico\": tecnico,\n",
    "    \"fecha_insp\": fecha_insp,\n",
    "    \"nom_ca\": canhero,\n",
    "    \"cod_ca\": cod_ca\n",
    "}\n",
    "data"
   ]
  },
  {
   "cell_type": "code",
   "execution_count": 17,
   "id": "73fab127-a992-4e0f-b154-b97d10a5de45",
   "metadata": {},
   "outputs": [],
   "source": [
    "data_inf = collections.namedtuple(\"data\", data.keys())(*data.values())"
   ]
  },
  {
   "cell_type": "code",
   "execution_count": 18,
   "id": "9c1c0f83-389d-48d5-8386-b0d72f46b4fb",
   "metadata": {},
   "outputs": [
    {
     "data": {
      "text/plain": [
       "data(id='PCL-1', tipo_inf='EXCELENCIA OPERACIONAL', anho='2024', tecnico='Juan Pablo Jaldin', fecha_insp='08/01/2024', nom_ca='CAMPBELL BALCAZAR ALAN', cod_ca=1672)"
      ]
     },
     "execution_count": 18,
     "metadata": {},
     "output_type": "execute_result"
    }
   ],
   "source": [
    "data_inf"
   ]
  },
  {
   "cell_type": "code",
   "execution_count": 20,
   "id": "c563c69d-4d72-434a-9488-7fb49a696459",
   "metadata": {},
   "outputs": [],
   "source": [
    "# GENERAR QR\n",
    "texto_qr = '''\n",
    "--UTEA--\n",
    "--INFORME DE {tipo}--\n",
    "\n",
    "Codigo de informe: {id}\n",
    "Fecha: {fecha_insp}\n",
    "Nombre de Canero: {canero}\n",
    "Codigo Canero: {cod_ca}\n",
    "Tecnico Responsable: {tecnico}'''\\\n",
    "    .format(\n",
    "        id=data_inf.id,\n",
    "        tipo=data_inf.tipo_inf,\n",
    "        anho = data_inf.anho,\n",
    "        fecha_insp=data_inf.fecha_insp, \n",
    "        canero=data_inf.nom_ca,\n",
    "        cod_ca=data_inf.cod_ca,\n",
    "        tecnico=data_inf.tecnico)"
   ]
  },
  {
   "cell_type": "code",
   "execution_count": 21,
   "id": "44652e02-de52-48fb-95d0-502bc7a41791",
   "metadata": {},
   "outputs": [],
   "source": [
    "qr = qrcode.QRCode(\n",
    "        version=1,\n",
    "        error_correction=qrcode.constants.ERROR_CORRECT_L,\n",
    "        box_size=10,\n",
    "        border=4)"
   ]
  },
  {
   "cell_type": "code",
   "execution_count": 22,
   "id": "8bb87545-fa3a-4212-9e3e-d67219e1c1fc",
   "metadata": {},
   "outputs": [],
   "source": [
    "qr.add_data(texto_qr)\n",
    "qr.make(fit=True)    \n",
    "qr_img = qr.make_image(fill_color=\"black\", back_color=\"white\")"
   ]
  },
  {
   "cell_type": "code",
   "execution_count": 24,
   "id": "0bdd6b2e-120c-469e-afa9-f3a8e61c2a85",
   "metadata": {},
   "outputs": [
    {
     "data": {
      "text/plain": [
       "'qr_1672_CAMPBELL BALCAZAR ALAN_08-01-2024'"
      ]
     },
     "execution_count": 24,
     "metadata": {},
     "output_type": "execute_result"
    }
   ],
   "source": [
    "qr_file_name = 'qr_' + str(data_inf.cod_ca) + '_' + data_inf.nom_ca + '_' + data_inf.fecha_insp.replace('/', '-')\n",
    "qr_file_name"
   ]
  },
  {
   "cell_type": "code",
   "execution_count": 25,
   "id": "7b970efc-f82c-4c0c-a288-a4a58ef40eb6",
   "metadata": {},
   "outputs": [],
   "source": [
    "ruta_qr = ruta + '/planos/' + qr_file_name + '.png'\n",
    "qr_img.save(ruta_qr)"
   ]
  },
  {
   "cell_type": "code",
   "execution_count": 20,
   "id": "93c11371-b2ea-4393-b5b8-0f5d483cfb9b",
   "metadata": {},
   "outputs": [],
   "source": [
    "# GENERAR REPORTE\n",
    "doc = DocxTemplate(ruta + \"/templates/tpl_modelo_informe.docx\")"
   ]
  },
  {
   "cell_type": "code",
   "execution_count": 21,
   "id": "7c8bb8c5-4a64-451b-9708-e5281a85edbc",
   "metadata": {},
   "outputs": [],
   "source": [
    "firma_respon = None\n",
    "if data_inf.tecnico == 'Juan Pablo Jaldin Duran':\n",
    "    firma_respon = docxtpl.InlineImage(doc, image_descriptor=ruta+'/templates/firma_jaldin.png', width=Mm(60))\n",
    "elif data_inf.tecnico == 'Rogelio Acuña Rodriguez':\n",
    "    firma_respon = docxtpl.InlineImage(doc, image_descriptor=ruta+'/templates/firma_rogelio.png', width=Mm(60))\n",
    "elif data_inf.tecnico == 'Ruddy Barreto':\n",
    "    firma_respon = docxtpl.InlineImage(doc, image_descriptor=ruta+'/templates/firma_ruddy-2.png', width=Mm(60))"
   ]
  },
  {
   "cell_type": "code",
   "execution_count": 22,
   "id": "d77aa32f-7645-47a4-b398-f2fd86a6b18b",
   "metadata": {},
   "outputs": [],
   "source": [
    "qr_file = docxtpl.InlineImage(doc, image_descriptor=ruta_qr, width=Mm(30))"
   ]
  },
  {
   "cell_type": "code",
   "execution_count": 23,
   "id": "46e6e0c1-ae08-4324-a494-096e7c640983",
   "metadata": {},
   "outputs": [],
   "source": [
    "context = {'data':data_inf, 'firma':firma_respon,'qr':qr_file}\n",
    "doc.render(context)"
   ]
  },
  {
   "cell_type": "code",
   "execution_count": 24,
   "id": "c098e0bb-1436-4472-ac8e-8ef0ecb63c16",
   "metadata": {},
   "outputs": [
    {
     "data": {
      "text/plain": [
       "data(tipo_inf='VERIFICACION DE IMAGEN SAT.', fecha_actual='09/01/2024', anho='2024', cite=1, tecnico='Ruddy Barreto', fecha_insp='08/01/2024', nom_ca='CAMPBELL BALCAZAR ALAN', cod_ca=1672)"
      ]
     },
     "execution_count": 24,
     "metadata": {},
     "output_type": "execute_result"
    }
   ],
   "source": [
    "data_inf"
   ]
  },
  {
   "cell_type": "code",
   "execution_count": 25,
   "id": "17abf64c-9e4f-4d6d-a4fa-be3a4280576e",
   "metadata": {},
   "outputs": [
    {
     "data": {
      "text/plain": [
       "'_1672_INSP_08-01-2024_CAMPBELL BALCAZAR ALAN'"
      ]
     },
     "execution_count": 25,
     "metadata": {},
     "output_type": "execute_result"
    }
   ],
   "source": [
    "file_name = \"_\" + str(data_inf.cod_ca) + '_INSP_' + data_inf.fecha_insp.replace('/', '-') + '_' + data_inf.nom_ca\n",
    "file_name"
   ]
  },
  {
   "cell_type": "code",
   "execution_count": 26,
   "id": "585263fb-0dc6-49d6-a9a2-424e2e18251b",
   "metadata": {},
   "outputs": [],
   "source": [
    "doc.save(ruta + '/informes/' + file_name + '.docx')"
   ]
  },
  {
   "cell_type": "code",
   "execution_count": null,
   "id": "bf2e8611-274d-4ea7-ad54-cac8be46dd82",
   "metadata": {},
   "outputs": [],
   "source": []
  }
 ],
 "metadata": {
  "kernelspec": {
   "display_name": "Python 3 (ipykernel)",
   "language": "python",
   "name": "python3"
  },
  "language_info": {
   "codemirror_mode": {
    "name": "ipython",
    "version": 3
   },
   "file_extension": ".py",
   "mimetype": "text/x-python",
   "name": "python",
   "nbconvert_exporter": "python",
   "pygments_lexer": "ipython3",
   "version": "3.7.16"
  }
 },
 "nbformat": 4,
 "nbformat_minor": 5
}
