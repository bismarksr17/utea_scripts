{
 "cells": [
  {
   "cell_type": "code",
   "execution_count": 1,
   "id": "5a0c4f43-87ea-4b45-aa83-1148c3dd26b6",
   "metadata": {},
   "outputs": [],
   "source": [
    "from amigocloud import AmigoCloud"
   ]
  },
  {
   "cell_type": "code",
   "execution_count": 2,
   "id": "5f8b85a1-4def-40dd-bdba-b07415ef2b57",
   "metadata": {},
   "outputs": [],
   "source": [
    "amigocloud = AmigoCloud(token='A:cf5xrxU3HgHj9FkLMiY5wW9LBFmvYDQG2TQ5FY')"
   ]
  },
  {
   "cell_type": "code",
   "execution_count": 3,
   "id": "f50fa3ff-512d-4773-9116-40dc7b9a39cd",
   "metadata": {},
   "outputs": [
    {
     "data": {
      "text/plain": [
       "<amigocloud.amigocloud.AmigoCloud at 0x231d6a31188>"
      ]
     },
     "execution_count": 3,
     "metadata": {},
     "output_type": "execute_result"
    }
   ],
   "source": [
    "amigocloud"
   ]
  },
  {
   "cell_type": "code",
   "execution_count": null,
   "id": "dde9e752-49c5-488b-9d35-9b580a533886",
   "metadata": {},
   "outputs": [],
   "source": []
  }
 ],
 "metadata": {
  "kernelspec": {
   "display_name": "Python 3 (ipykernel)",
   "language": "python",
   "name": "python3"
  },
  "language_info": {
   "codemirror_mode": {
    "name": "ipython",
    "version": 3
   },
   "file_extension": ".py",
   "mimetype": "text/x-python",
   "name": "python",
   "nbconvert_exporter": "python",
   "pygments_lexer": "ipython3",
   "version": "3.7.16"
  }
 },
 "nbformat": 4,
 "nbformat_minor": 5
}
