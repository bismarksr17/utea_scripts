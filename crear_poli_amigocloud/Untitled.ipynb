{
 "cells": [
  {
   "cell_type": "code",
   "execution_count": 4,
   "id": "18b3726e-2019-49a7-8931-6b0b5723c28b",
   "metadata": {},
   "outputs": [
    {
     "ename": "ModuleNotFoundError",
     "evalue": "No module named 'leafmap'",
     "output_type": "error",
     "traceback": [
      "\u001b[1;31m---------------------------------------------------------------------------\u001b[0m",
      "\u001b[1;31mModuleNotFoundError\u001b[0m                       Traceback (most recent call last)",
      "\u001b[1;32m~\\AppData\\Local\\Temp/ipykernel_8172/855004069.py\u001b[0m in \u001b[0;36m<module>\u001b[1;34m\u001b[0m\n\u001b[1;32m----> 1\u001b[1;33m \u001b[1;32mimport\u001b[0m \u001b[0mleafmap\u001b[0m\u001b[1;33m\u001b[0m\u001b[1;33m\u001b[0m\u001b[0m\n\u001b[0m",
      "\u001b[1;31mModuleNotFoundError\u001b[0m: No module named 'leafmap'"
     ]
    }
   ],
   "source": [
    "import leafmap"
   ]
  },
  {
   "cell_type": "code",
   "execution_count": 5,
   "id": "64d33206-c3fe-453e-baf6-f2a6220d5270",
   "metadata": {},
   "outputs": [
    {
     "data": {
      "application/vnd.jupyter.widget-view+json": {
       "model_id": "4d14fa94f6e44a7fb67ebcd845e5795c",
       "version_major": 2,
       "version_minor": 0
      },
      "text/plain": [
       "Map(center=[20, 0], controls=(WidgetControl(options=['position', 'transparent_bg'], widget=HBox(children=(Togg…"
      ]
     },
     "metadata": {},
     "output_type": "display_data"
    }
   ],
   "source": [
    "import ee\n",
    "import geemap\n",
    "import ipyleaflet as ipyl\n",
    "\n",
    "# Inicializa Earth Engine\n",
    "ee.Initialize()\n",
    "\n",
    "# Crea un FeatureCollection de ejemplo\n",
    "features = [\n",
    "    ee.Feature(ee.Geometry.Polygon([[-73.99, 40.75], [-73.98, 40.75], [-73.98, 40.76], [-73.99, 40.76]]), {'id': '0'}),\n",
    "    ee.Feature(ee.Geometry.Polygon([[-73.97, 40.75], [-73.96, 40.75], [-73.96, 40.76], [-73.97, 40.76]]), {'id': '1'})\n",
    "]\n",
    "fc = ee.FeatureCollection(features)\n",
    "\n",
    "# Convierte el FeatureCollection en una lista de características\n",
    "fc_list = fc.getInfo()['features']\n",
    "\n",
    "# Crea un mapa de ipyleaflet\n",
    "# = ipyl.Map(center=(40.755, -73.975), zoom=14, basemap=ipyl.basemaps.Esri.WorldImagery)\n",
    "Map = geemap.Map(basemap=\"SATELLITE\")\n",
    "# Función para agregar una capa GeoJSON editable al mapa\n",
    "def add_editable_layer(feature):\n",
    "    layer = ipyl.GeoJSON(data=feature, style={'color': 'blue'})\n",
    "    layer.editable = True\n",
    "    Map.add_layer(layer)\n",
    "\n",
    "# Agrega cada característica del FeatureCollection como una capa editable\n",
    "for feature in fc_list:\n",
    "    add_editable_layer(feature)\n",
    "\n",
    "# Muestra el mapa\n",
    "\n",
    "Map"
   ]
  },
  {
   "cell_type": "code",
   "execution_count": 6,
   "id": "ace7aab1-c121-4968-84fe-a8f65cd48fc4",
   "metadata": {},
   "outputs": [
    {
     "ename": "AttributeError",
     "evalue": "'Map' object has no attribute 'edit_vector'",
     "output_type": "error",
     "traceback": [
      "\u001b[1;31m---------------------------------------------------------------------------\u001b[0m",
      "\u001b[1;31mAttributeError\u001b[0m                            Traceback (most recent call last)",
      "\u001b[1;32m~\\AppData\\Local\\Temp/ipykernel_8172/1670290052.py\u001b[0m in \u001b[0;36m<module>\u001b[1;34m\u001b[0m\n\u001b[1;32m----> 1\u001b[1;33m \u001b[0mMap\u001b[0m\u001b[1;33m.\u001b[0m\u001b[0medit_vector\u001b[0m\u001b[1;33m(\u001b[0m\u001b[1;33m)\u001b[0m\u001b[1;33m\u001b[0m\u001b[1;33m\u001b[0m\u001b[0m\n\u001b[0m",
      "\u001b[1;31mAttributeError\u001b[0m: 'Map' object has no attribute 'edit_vector'"
     ]
    }
   ],
   "source": [
    "Map.edit_vector()"
   ]
  },
  {
   "cell_type": "code",
   "execution_count": null,
   "id": "95d51aeb-dc54-4566-b425-97f162401cdc",
   "metadata": {},
   "outputs": [],
   "source": []
  },
  {
   "cell_type": "code",
   "execution_count": 2,
   "id": "244c2161-ff6c-48b5-846f-b9db0368a8e9",
   "metadata": {},
   "outputs": [],
   "source": [
    "Map = geemap.Map(basemap=\"SATELLITE\")"
   ]
  },
  {
   "cell_type": "code",
   "execution_count": 3,
   "id": "f7ee95c6-bc4e-4440-9ca6-a0467dfa6940",
   "metadata": {},
   "outputs": [
    {
     "data": {
      "application/vnd.jupyter.widget-view+json": {
       "model_id": "7983f169d803469c9b2ce0041bd0cd83",
       "version_major": 2,
       "version_minor": 0
      },
      "text/plain": [
       "Map(center=[20, 0], controls=(WidgetControl(options=['position', 'transparent_bg'], widget=HBox(children=(Togg…"
      ]
     },
     "metadata": {},
     "output_type": "display_data"
    }
   ],
   "source": [
    "Map"
   ]
  },
  {
   "cell_type": "code",
   "execution_count": null,
   "id": "66a07877-7efa-4028-a12c-e640cd8ce4e2",
   "metadata": {},
   "outputs": [],
   "source": []
  },
  {
   "cell_type": "code",
   "execution_count": null,
   "id": "b6b1ca39-29f4-4c62-9e70-1b8138bad2f3",
   "metadata": {},
   "outputs": [],
   "source": []
  }
 ],
 "metadata": {
  "kernelspec": {
   "display_name": "Python 3 (ipykernel)",
   "language": "python",
   "name": "python3"
  },
  "language_info": {
   "codemirror_mode": {
    "name": "ipython",
    "version": 3
   },
   "file_extension": ".py",
   "mimetype": "text/x-python",
   "name": "python",
   "nbconvert_exporter": "python",
   "pygments_lexer": "ipython3",
   "version": "3.7.11"
  }
 },
 "nbformat": 4,
 "nbformat_minor": 5
}
