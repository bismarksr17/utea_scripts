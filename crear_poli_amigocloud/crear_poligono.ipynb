{
 "cells": [
  {
   "cell_type": "code",
   "execution_count": null,
   "id": "e77a9633-871f-4277-a02d-3ad67afce671",
   "metadata": {},
   "outputs": [],
   "source": [
    "#import ee\n",
    "#ee.Authenticate()"
   ]
  },
  {
   "cell_type": "code",
   "execution_count": 376,
   "id": "0aa15b91-86c7-4650-b211-61953637f045",
   "metadata": {},
   "outputs": [],
   "source": [
    "import ee\n",
    "import geemap\n",
    "\n",
    "import pandas as pd\n",
    "import geopandas as gpd\n",
    "from geopandas.tools import overlay\n",
    "from shapely.geometry import MultiPolygon, Polygon\n",
    "from shapely import wkb\n",
    "\n",
    "from amigocloud import AmigoCloud"
   ]
  },
  {
   "cell_type": "code",
   "execution_count": 377,
   "id": "725a051c-d93f-4e2a-89fd-68f24c34f58d",
   "metadata": {},
   "outputs": [],
   "source": [
    "# ruta de carpera donde estan las llaves\n",
    "ruta = open('../ruta.txt')\n",
    "ruta = ruta.readlines()[0]"
   ]
  },
  {
   "cell_type": "code",
   "execution_count": 378,
   "id": "e8b853f7-8001-4ef6-bd2d-5b795ad4a340",
   "metadata": {},
   "outputs": [
    {
     "name": "stderr",
     "output_type": "stream",
     "text": [
      "WARNING:socketIO-client:app.amigocloud.com:443/v2_socket.io/socket.io [connection error] recv disconnected by SSL ([SSL: SSLV3_ALERT_BAD_RECORD_MAC] sslv3 alert bad record mac (_ssl.c:2570))\n"
     ]
    },
    {
     "data": {
      "text/plain": [
       "<amigocloud.amigocloud.AmigoCloud at 0x232d2839148>"
      ]
     },
     "execution_count": 378,
     "metadata": {},
     "output_type": "execute_result"
    }
   ],
   "source": [
    "# leer token\n",
    "acceso = open(ruta + '/_keys/api_amigocloud.key','r')\n",
    "api_token = acceso.readlines()[0]\n",
    "acceso.close()\n",
    "amigocloud = AmigoCloud(token=api_token)\n",
    "amigocloud"
   ]
  },
  {
   "cell_type": "code",
   "execution_count": 379,
   "id": "2ff8b9b6-1a9d-4584-8339-54203f7f526b",
   "metadata": {},
   "outputs": [],
   "source": [
    "# VARIEBLES GLOBALES\n",
    "\n",
    "GDF_LOTES_CLOUD = None\n",
    "FC_LOTES = None"
   ]
  },
  {
   "cell_type": "code",
   "execution_count": 380,
   "id": "2138dfbf-b4d1-4a10-92f1-99378e0480a6",
   "metadata": {},
   "outputs": [],
   "source": [
    "# FUNCIONES\n",
    "\n",
    "# funcion para convertir de formato wkb a geometria\n",
    "def convertir_wkb(wkb_data):\n",
    "    return wkb.loads(wkb_data, hex=True)[0]\n",
    "\n",
    "# Función para convertir un polígono en un multipolígono\n",
    "def poligono_a_multipoligono(poligono):\n",
    "    return MultiPolygon([poligono])"
   ]
  },
  {
   "cell_type": "code",
   "execution_count": 381,
   "id": "433b354d-7ae7-4513-9ed9-e5704b6cd8d1",
   "metadata": {},
   "outputs": [],
   "source": [
    "# PARAMETROS DE VISUZALIZACION\n",
    "\n",
    "# parametro para ver lostes de credito ya registrados\n",
    "vis_lotes = {\n",
    "    'color': 'red', \n",
    "    'width': 2,\n",
    "    'lineType': 'solid',\n",
    "    'fillColor': '00000000',\n",
    "}"
   ]
  },
  {
   "cell_type": "code",
   "execution_count": 382,
   "id": "c1e461a8-2615-44c1-875a-0a4d49c9903b",
   "metadata": {},
   "outputs": [],
   "source": [
    "def cargar_lotes_cloud():\n",
    "    global FC_LOTES, GDF_LOTES_CLOUD\n",
    "    # seleccionar todos los lotes de credito siembra con un cursos (son mas de 100 elementos)\n",
    "    query = {'query': 'select * from dataset_307563'}\n",
    "    # cursor\n",
    "    select = amigocloud.get_cursor('https://app.amigocloud.com/api/v1/projects/32672/sql', query)\n",
    "\n",
    "    # crear un dataframe vacio\n",
    "    df_lotes = pd.DataFrame()\n",
    "    # recorrer el cursor (.next), e ir agregando los lotes al dataframe\n",
    "    for i in select:\n",
    "        fila = pd.Series(i)\n",
    "        df_lotes = df_lotes.append(fila, ignore_index=True)\n",
    "    \n",
    "    # del dataframe, seleccionar solo los datos amigo_id, nombre del lote, y geometria\n",
    "    df_lotes = df_lotes[['amigo_id', 'lote', 'geometria']]\n",
    "\n",
    "    # convertir el campo geometria de wkb a geometrico\n",
    "    df_lotes['geometria'] = df_lotes['geometria'].apply(convertir_wkb)\n",
    "\n",
    "    # convertir DataFrame a GeoDataFrame\n",
    "    GDF_LOTES_CLOUD = gpd.GeoDataFrame(df_lotes, geometry='geometria')"
   ]
  },
  {
   "cell_type": "code",
   "execution_count": 383,
   "id": "000b817e-be4e-4e3c-96e0-e3b54813a461",
   "metadata": {},
   "outputs": [],
   "source": [
    "def cargar_gdf_lotes_map():\n",
    "    # Convierte el GeoDataFrame en una lista de características\n",
    "    features = GDF_LOTES_CLOUD.__geo_interface__[\"features\"]\n",
    "    # Convierte la lista de características en una FeatureCollection de Google Earth Engine y guargar en variable global\n",
    "    FC_LOTES = ee.FeatureCollection(features)\n",
    "    Map.addLayer(FC_LOTES.style(**vis_lotes), {}, 'Lotes')"
   ]
  },
  {
   "cell_type": "code",
   "execution_count": null,
   "id": "94e075f3-4241-4b2b-9cac-8ee571bf5d17",
   "metadata": {},
   "outputs": [],
   "source": []
  },
  {
   "cell_type": "code",
   "execution_count": null,
   "id": "bddbaab1-d497-4b77-a7e7-cd66d5531163",
   "metadata": {},
   "outputs": [],
   "source": []
  },
  {
   "cell_type": "code",
   "execution_count": 384,
   "id": "4711c1cd-858a-4dce-91c4-53fa963e3ff7",
   "metadata": {},
   "outputs": [],
   "source": [
    "cargar_lotes_cloud()"
   ]
  },
  {
   "cell_type": "code",
   "execution_count": 386,
   "id": "bf498aa9-3db8-45af-a6f4-6e903a5dc0d9",
   "metadata": {},
   "outputs": [],
   "source": [
    "cargar_gdf_lotes_map()"
   ]
  },
  {
   "cell_type": "code",
   "execution_count": 385,
   "id": "cf578c9b-ec9f-4422-a99a-62685888e885",
   "metadata": {},
   "outputs": [],
   "source": [
    "Map = geemap.Map(basemap=\"SATELLITE\")"
   ]
  },
  {
   "cell_type": "code",
   "execution_count": null,
   "id": "6d4bab38-b973-4837-b795-92e01e9791ef",
   "metadata": {},
   "outputs": [],
   "source": []
  },
  {
   "cell_type": "code",
   "execution_count": 387,
   "id": "732b76eb-725b-4fa0-ab50-5761f1cf5859",
   "metadata": {},
   "outputs": [
    {
     "data": {
      "application/vnd.jupyter.widget-view+json": {
       "model_id": "9075076a23a8455bbbfb98828752c9ec",
       "version_major": 2,
       "version_minor": 0
      },
      "text/plain": [
       "Map(center=[20, 0], controls=(WidgetControl(options=['position', 'transparent_bg'], widget=HBox(children=(Togg…"
      ]
     },
     "metadata": {},
     "output_type": "display_data"
    }
   ],
   "source": [
    "Map"
   ]
  },
  {
   "cell_type": "code",
   "execution_count": null,
   "id": "80f7f7ca-e35c-4c69-a99d-6a9eaf374cfa",
   "metadata": {},
   "outputs": [],
   "source": []
  },
  {
   "cell_type": "code",
   "execution_count": 388,
   "id": "9f1a1087-e6cc-4948-acce-78c757cde24c",
   "metadata": {},
   "outputs": [
    {
     "data": {
      "text/plain": [
       "\"\\nfor i in range(len(gdf_lotes)):\\n    poligono = gdf_lotes.iloc[i]['geometry']\\n    query = {'query': 'insert into dataset_307563 (geometria) values (ST_GeomFromText('' + str(poligono) + '',4326))'}\\n    res = amigocloud.post('https://app.amigocloud.com/api/v1/projects/32672/sql', query)\\n    #response = amigocloud.sql('32672', query)\\n    print(i)\\n\""
      ]
     },
     "execution_count": 388,
     "metadata": {},
     "output_type": "execute_result"
    }
   ],
   "source": [
    "# capturar los ROIs\n",
    "lotes_roi = Map.user_rois\n",
    "fc_roi = ee.FeatureCollection(lotes_roi)\n",
    "\n",
    "# Convierte la FeatureCollection en un diccionario\n",
    "fc_dict = fc_roi.getInfo()\n",
    "# Extrae las características del diccionario\n",
    "features_list = fc_dict['features']\n",
    "# Convierte las características en un GeoDataFrame\n",
    "gdf_lotes = gpd.GeoDataFrame.from_features(features_list)\n",
    "\n",
    "# convertir poligonos a multipoligonos\n",
    "gdf_lotes['geometry'] = gdf_lotes['geometry'].apply(poligono_a_multipoligono)\n",
    "\n",
    "# extrae el poligono de la ultima posicion\n",
    "poligono = gdf_lotes.iloc[len(gdf_lotes) - 1]['geometry']\n",
    "\n",
    "# insert en amigocloud\n",
    "query = {'query': 'insert into dataset_307563 (geometria) values (ST_GeomFromText(\\'' + str(poligono) + '\\',4326))'}\n",
    "res = amigocloud.post('https://app.amigocloud.com/api/v1/projects/32672/sql', query)\n",
    "\n",
    "# eliminar los ROIs\n",
    "while Map.draw_features:\n",
    "    Map.remove_last_drawn()\n",
    "\n",
    "# agrega la nueva geometria al GDF_LOTES_CLOUD\n",
    "fila = {'amigo_id':'', 'lote':'', 'geometria':poligono}\n",
    "GDF_LOTES_CLOUD = GDF_LOTES_CLOUD.append(fila, ignore_index=True)\n",
    "\n",
    "cargar_gdf_lotes_map()\n",
    "\n",
    "# recorrer los gdf_lotes y cargar los poligonos a amigocloud\n",
    "'''\n",
    "for i in range(len(gdf_lotes)):\n",
    "    poligono = gdf_lotes.iloc[i]['geometry']\n",
    "    query = {'query': 'insert into dataset_307563 (geometria) values (ST_GeomFromText(\\'' + str(poligono) + '\\',4326))'}\n",
    "    res = amigocloud.post('https://app.amigocloud.com/api/v1/projects/32672/sql', query)\n",
    "    #response = amigocloud.sql('32672', query)\n",
    "    print(i)\n",
    "'''"
   ]
  },
  {
   "cell_type": "code",
   "execution_count": 331,
   "id": "66a562a0-ad59-4304-91c6-cc2f68286972",
   "metadata": {},
   "outputs": [
    {
     "name": "stdout",
     "output_type": "stream",
     "text": [
      "MULTIPOLYGON (((-63.222198 -17.287947, -63.218701 -17.287025, -63.216791 -17.291901, -63.221898 -17.292045, -63.222198 -17.287947)))\n"
     ]
    }
   ],
   "source": [
    "print(poligono)"
   ]
  },
  {
   "cell_type": "code",
   "execution_count": 332,
   "id": "2f6fe3a7-92e9-4e82-9061-242eecbcf241",
   "metadata": {},
   "outputs": [
    {
     "data": {
      "text/html": [
       "<div>\n",
       "<style scoped>\n",
       "    .dataframe tbody tr th:only-of-type {\n",
       "        vertical-align: middle;\n",
       "    }\n",
       "\n",
       "    .dataframe tbody tr th {\n",
       "        vertical-align: top;\n",
       "    }\n",
       "\n",
       "    .dataframe thead th {\n",
       "        text-align: right;\n",
       "    }\n",
       "</style>\n",
       "<table border=\"1\" class=\"dataframe\">\n",
       "  <thead>\n",
       "    <tr style=\"text-align: right;\">\n",
       "      <th></th>\n",
       "      <th>geometry</th>\n",
       "    </tr>\n",
       "  </thead>\n",
       "  <tbody>\n",
       "    <tr>\n",
       "      <th>0</th>\n",
       "      <td>MULTIPOLYGON (((-63.22220 -17.28795, -63.21870...</td>\n",
       "    </tr>\n",
       "  </tbody>\n",
       "</table>\n",
       "</div>"
      ],
      "text/plain": [
       "                                            geometry\n",
       "0  MULTIPOLYGON (((-63.22220 -17.28795, -63.21870..."
      ]
     },
     "execution_count": 332,
     "metadata": {},
     "output_type": "execute_result"
    }
   ],
   "source": [
    "gdf_lotes"
   ]
  },
  {
   "cell_type": "code",
   "execution_count": 333,
   "id": "43a4f093-be91-4095-beb0-d0611de584e7",
   "metadata": {},
   "outputs": [
    {
     "data": {
      "text/html": [
       "<div>\n",
       "<style scoped>\n",
       "    .dataframe tbody tr th:only-of-type {\n",
       "        vertical-align: middle;\n",
       "    }\n",
       "\n",
       "    .dataframe tbody tr th {\n",
       "        vertical-align: top;\n",
       "    }\n",
       "\n",
       "    .dataframe thead th {\n",
       "        text-align: right;\n",
       "    }\n",
       "</style>\n",
       "<table border=\"1\" class=\"dataframe\">\n",
       "  <thead>\n",
       "    <tr style=\"text-align: right;\">\n",
       "      <th></th>\n",
       "      <th>amigo_id</th>\n",
       "      <th>lote</th>\n",
       "      <th>geometria</th>\n",
       "    </tr>\n",
       "  </thead>\n",
       "  <tbody>\n",
       "    <tr>\n",
       "      <th>0</th>\n",
       "      <td>c25021f58f7848bdbf6c5fdee28af591</td>\n",
       "      <td>L9</td>\n",
       "      <td>POLYGON ((-63.10632 -17.19889, -63.10765 -17.1...</td>\n",
       "    </tr>\n",
       "    <tr>\n",
       "      <th>1</th>\n",
       "      <td>8880a15eb53a40dbb5ade5cefa56722f</td>\n",
       "      <td>L1.3</td>\n",
       "      <td>POLYGON ((-63.11747 -17.20613, -63.11691 -17.2...</td>\n",
       "    </tr>\n",
       "    <tr>\n",
       "      <th>2</th>\n",
       "      <td>2ff903533d474d20a64ab54303eb0437</td>\n",
       "      <td>L1</td>\n",
       "      <td>POLYGON ((-62.75349 -17.24376, -62.75357 -17.2...</td>\n",
       "    </tr>\n",
       "    <tr>\n",
       "      <th>3</th>\n",
       "      <td>b33bd293439a4d638c7d95700b9b0bac</td>\n",
       "      <td>L14.3</td>\n",
       "      <td>POLYGON ((-63.01162 -17.33073, -63.01157 -17.3...</td>\n",
       "    </tr>\n",
       "    <tr>\n",
       "      <th>4</th>\n",
       "      <td>f538ccc8293e4ae699d8167d78283130</td>\n",
       "      <td>L7.5</td>\n",
       "      <td>POLYGON ((-63.03620 -17.02499, -63.03587 -17.0...</td>\n",
       "    </tr>\n",
       "    <tr>\n",
       "      <th>...</th>\n",
       "      <td>...</td>\n",
       "      <td>...</td>\n",
       "      <td>...</td>\n",
       "    </tr>\n",
       "    <tr>\n",
       "      <th>480</th>\n",
       "      <td>54b87f3ca9ab4fca8b650e4de1539447</td>\n",
       "      <td>L12.1</td>\n",
       "      <td>POLYGON ((-62.95645 -17.13284, -62.95583 -17.1...</td>\n",
       "    </tr>\n",
       "    <tr>\n",
       "      <th>481</th>\n",
       "      <td>a3c87de6be714afaa5e7113144dcc92a</td>\n",
       "      <td>L13.2</td>\n",
       "      <td>POLYGON ((-62.95229 -17.13327, -62.95395 -17.1...</td>\n",
       "    </tr>\n",
       "    <tr>\n",
       "      <th>482</th>\n",
       "      <td>caa64d2a4c22423f9dbd3286e23c06eb</td>\n",
       "      <td>L14.1</td>\n",
       "      <td>POLYGON ((-63.22369 -17.39424, -63.22833 -17.3...</td>\n",
       "    </tr>\n",
       "    <tr>\n",
       "      <th>483</th>\n",
       "      <td>1ae18a6ff5274250a00c70e96f2188a7</td>\n",
       "      <td>L7</td>\n",
       "      <td>POLYGON ((-63.16044 -17.31626, -63.15031 -17.3...</td>\n",
       "    </tr>\n",
       "    <tr>\n",
       "      <th>484</th>\n",
       "      <td>04b1f4397eaa44eb932ba9964df4a6f2</td>\n",
       "      <td>L5</td>\n",
       "      <td>POLYGON ((-62.80772 -17.20614, -62.80644 -17.2...</td>\n",
       "    </tr>\n",
       "  </tbody>\n",
       "</table>\n",
       "<p>485 rows × 3 columns</p>\n",
       "</div>"
      ],
      "text/plain": [
       "                             amigo_id   lote  \\\n",
       "0    c25021f58f7848bdbf6c5fdee28af591     L9   \n",
       "1    8880a15eb53a40dbb5ade5cefa56722f   L1.3   \n",
       "2    2ff903533d474d20a64ab54303eb0437     L1   \n",
       "3    b33bd293439a4d638c7d95700b9b0bac  L14.3   \n",
       "4    f538ccc8293e4ae699d8167d78283130   L7.5   \n",
       "..                                ...    ...   \n",
       "480  54b87f3ca9ab4fca8b650e4de1539447  L12.1   \n",
       "481  a3c87de6be714afaa5e7113144dcc92a  L13.2   \n",
       "482  caa64d2a4c22423f9dbd3286e23c06eb  L14.1   \n",
       "483  1ae18a6ff5274250a00c70e96f2188a7     L7   \n",
       "484  04b1f4397eaa44eb932ba9964df4a6f2     L5   \n",
       "\n",
       "                                             geometria  \n",
       "0    POLYGON ((-63.10632 -17.19889, -63.10765 -17.1...  \n",
       "1    POLYGON ((-63.11747 -17.20613, -63.11691 -17.2...  \n",
       "2    POLYGON ((-62.75349 -17.24376, -62.75357 -17.2...  \n",
       "3    POLYGON ((-63.01162 -17.33073, -63.01157 -17.3...  \n",
       "4    POLYGON ((-63.03620 -17.02499, -63.03587 -17.0...  \n",
       "..                                                 ...  \n",
       "480  POLYGON ((-62.95645 -17.13284, -62.95583 -17.1...  \n",
       "481  POLYGON ((-62.95229 -17.13327, -62.95395 -17.1...  \n",
       "482  POLYGON ((-63.22369 -17.39424, -63.22833 -17.3...  \n",
       "483  POLYGON ((-63.16044 -17.31626, -63.15031 -17.3...  \n",
       "484  POLYGON ((-62.80772 -17.20614, -62.80644 -17.2...  \n",
       "\n",
       "[485 rows x 3 columns]"
      ]
     },
     "execution_count": 333,
     "metadata": {},
     "output_type": "execute_result"
    }
   ],
   "source": [
    "GDF_LOTES_CLOUD"
   ]
  },
  {
   "cell_type": "code",
   "execution_count": 334,
   "id": "5ff33be7-727b-42a3-a322-74599f515990",
   "metadata": {},
   "outputs": [],
   "source": []
  },
  {
   "cell_type": "code",
   "execution_count": 337,
   "id": "562ff82d-a62d-4f7e-9af9-2af894f2e43d",
   "metadata": {},
   "outputs": [],
   "source": [
    "fila = {'amigo_id':'', 'lote':'', 'geometria':poligono}"
   ]
  },
  {
   "cell_type": "code",
   "execution_count": 340,
   "id": "a641b437-91c5-46ed-834e-193bcabbc0aa",
   "metadata": {},
   "outputs": [],
   "source": [
    "GDF_LOTES_CLOUD = GDF_LOTES_CLOUD.append(fila, ignore_index=True)"
   ]
  },
  {
   "cell_type": "code",
   "execution_count": 339,
   "id": "429f58a9-8500-4c5d-8572-8eedb994d820",
   "metadata": {},
   "outputs": [
    {
     "data": {
      "text/html": [
       "<div>\n",
       "<style scoped>\n",
       "    .dataframe tbody tr th:only-of-type {\n",
       "        vertical-align: middle;\n",
       "    }\n",
       "\n",
       "    .dataframe tbody tr th {\n",
       "        vertical-align: top;\n",
       "    }\n",
       "\n",
       "    .dataframe thead th {\n",
       "        text-align: right;\n",
       "    }\n",
       "</style>\n",
       "<table border=\"1\" class=\"dataframe\">\n",
       "  <thead>\n",
       "    <tr style=\"text-align: right;\">\n",
       "      <th></th>\n",
       "      <th>amigo_id</th>\n",
       "      <th>lote</th>\n",
       "      <th>geometria</th>\n",
       "    </tr>\n",
       "  </thead>\n",
       "  <tbody>\n",
       "    <tr>\n",
       "      <th>0</th>\n",
       "      <td>c25021f58f7848bdbf6c5fdee28af591</td>\n",
       "      <td>L9</td>\n",
       "      <td>MULTIPOLYGON (((-63.22220 -17.28795, -63.21870...</td>\n",
       "    </tr>\n",
       "    <tr>\n",
       "      <th>1</th>\n",
       "      <td>8880a15eb53a40dbb5ade5cefa56722f</td>\n",
       "      <td>L1.3</td>\n",
       "      <td>MULTIPOLYGON (((-63.22220 -17.28795, -63.21870...</td>\n",
       "    </tr>\n",
       "    <tr>\n",
       "      <th>2</th>\n",
       "      <td>2ff903533d474d20a64ab54303eb0437</td>\n",
       "      <td>L1</td>\n",
       "      <td>MULTIPOLYGON (((-63.22220 -17.28795, -63.21870...</td>\n",
       "    </tr>\n",
       "    <tr>\n",
       "      <th>3</th>\n",
       "      <td>b33bd293439a4d638c7d95700b9b0bac</td>\n",
       "      <td>L14.3</td>\n",
       "      <td>MULTIPOLYGON (((-63.22220 -17.28795, -63.21870...</td>\n",
       "    </tr>\n",
       "    <tr>\n",
       "      <th>4</th>\n",
       "      <td>f538ccc8293e4ae699d8167d78283130</td>\n",
       "      <td>L7.5</td>\n",
       "      <td>MULTIPOLYGON (((-63.22220 -17.28795, -63.21870...</td>\n",
       "    </tr>\n",
       "    <tr>\n",
       "      <th>...</th>\n",
       "      <td>...</td>\n",
       "      <td>...</td>\n",
       "      <td>...</td>\n",
       "    </tr>\n",
       "    <tr>\n",
       "      <th>480</th>\n",
       "      <td>54b87f3ca9ab4fca8b650e4de1539447</td>\n",
       "      <td>L12.1</td>\n",
       "      <td>MULTIPOLYGON (((-63.22220 -17.28795, -63.21870...</td>\n",
       "    </tr>\n",
       "    <tr>\n",
       "      <th>481</th>\n",
       "      <td>a3c87de6be714afaa5e7113144dcc92a</td>\n",
       "      <td>L13.2</td>\n",
       "      <td>MULTIPOLYGON (((-63.22220 -17.28795, -63.21870...</td>\n",
       "    </tr>\n",
       "    <tr>\n",
       "      <th>482</th>\n",
       "      <td>caa64d2a4c22423f9dbd3286e23c06eb</td>\n",
       "      <td>L14.1</td>\n",
       "      <td>MULTIPOLYGON (((-63.22220 -17.28795, -63.21870...</td>\n",
       "    </tr>\n",
       "    <tr>\n",
       "      <th>483</th>\n",
       "      <td>1ae18a6ff5274250a00c70e96f2188a7</td>\n",
       "      <td>L7</td>\n",
       "      <td>MULTIPOLYGON (((-63.22220 -17.28795, -63.21870...</td>\n",
       "    </tr>\n",
       "    <tr>\n",
       "      <th>484</th>\n",
       "      <td>04b1f4397eaa44eb932ba9964df4a6f2</td>\n",
       "      <td>L5</td>\n",
       "      <td>MULTIPOLYGON (((-63.22220 -17.28795, -63.21870...</td>\n",
       "    </tr>\n",
       "  </tbody>\n",
       "</table>\n",
       "<p>485 rows × 3 columns</p>\n",
       "</div>"
      ],
      "text/plain": [
       "                             amigo_id   lote  \\\n",
       "0    c25021f58f7848bdbf6c5fdee28af591     L9   \n",
       "1    8880a15eb53a40dbb5ade5cefa56722f   L1.3   \n",
       "2    2ff903533d474d20a64ab54303eb0437     L1   \n",
       "3    b33bd293439a4d638c7d95700b9b0bac  L14.3   \n",
       "4    f538ccc8293e4ae699d8167d78283130   L7.5   \n",
       "..                                ...    ...   \n",
       "480  54b87f3ca9ab4fca8b650e4de1539447  L12.1   \n",
       "481  a3c87de6be714afaa5e7113144dcc92a  L13.2   \n",
       "482  caa64d2a4c22423f9dbd3286e23c06eb  L14.1   \n",
       "483  1ae18a6ff5274250a00c70e96f2188a7     L7   \n",
       "484  04b1f4397eaa44eb932ba9964df4a6f2     L5   \n",
       "\n",
       "                                             geometria  \n",
       "0    MULTIPOLYGON (((-63.22220 -17.28795, -63.21870...  \n",
       "1    MULTIPOLYGON (((-63.22220 -17.28795, -63.21870...  \n",
       "2    MULTIPOLYGON (((-63.22220 -17.28795, -63.21870...  \n",
       "3    MULTIPOLYGON (((-63.22220 -17.28795, -63.21870...  \n",
       "4    MULTIPOLYGON (((-63.22220 -17.28795, -63.21870...  \n",
       "..                                                 ...  \n",
       "480  MULTIPOLYGON (((-63.22220 -17.28795, -63.21870...  \n",
       "481  MULTIPOLYGON (((-63.22220 -17.28795, -63.21870...  \n",
       "482  MULTIPOLYGON (((-63.22220 -17.28795, -63.21870...  \n",
       "483  MULTIPOLYGON (((-63.22220 -17.28795, -63.21870...  \n",
       "484  MULTIPOLYGON (((-63.22220 -17.28795, -63.21870...  \n",
       "\n",
       "[485 rows x 3 columns]"
      ]
     },
     "execution_count": 339,
     "metadata": {},
     "output_type": "execute_result"
    }
   ],
   "source": [
    "GDF_LOTES_CLOUD"
   ]
  },
  {
   "cell_type": "code",
   "execution_count": 341,
   "id": "2440b145-6704-4e2b-b40c-2ab1b8daac38",
   "metadata": {},
   "outputs": [
    {
     "data": {
      "text/html": [
       "<div>\n",
       "<style scoped>\n",
       "    .dataframe tbody tr th:only-of-type {\n",
       "        vertical-align: middle;\n",
       "    }\n",
       "\n",
       "    .dataframe tbody tr th {\n",
       "        vertical-align: top;\n",
       "    }\n",
       "\n",
       "    .dataframe thead th {\n",
       "        text-align: right;\n",
       "    }\n",
       "</style>\n",
       "<table border=\"1\" class=\"dataframe\">\n",
       "  <thead>\n",
       "    <tr style=\"text-align: right;\">\n",
       "      <th></th>\n",
       "      <th>amigo_id</th>\n",
       "      <th>lote</th>\n",
       "      <th>geometria</th>\n",
       "    </tr>\n",
       "  </thead>\n",
       "  <tbody>\n",
       "    <tr>\n",
       "      <th>0</th>\n",
       "      <td>c25021f58f7848bdbf6c5fdee28af591</td>\n",
       "      <td>L9</td>\n",
       "      <td>(POLYGON ((-63.222198 -17.287947, -63.218701 -...</td>\n",
       "    </tr>\n",
       "    <tr>\n",
       "      <th>1</th>\n",
       "      <td>8880a15eb53a40dbb5ade5cefa56722f</td>\n",
       "      <td>L1.3</td>\n",
       "      <td>(POLYGON ((-63.222198 -17.287947, -63.218701 -...</td>\n",
       "    </tr>\n",
       "    <tr>\n",
       "      <th>2</th>\n",
       "      <td>2ff903533d474d20a64ab54303eb0437</td>\n",
       "      <td>L1</td>\n",
       "      <td>(POLYGON ((-63.222198 -17.287947, -63.218701 -...</td>\n",
       "    </tr>\n",
       "    <tr>\n",
       "      <th>3</th>\n",
       "      <td>b33bd293439a4d638c7d95700b9b0bac</td>\n",
       "      <td>L14.3</td>\n",
       "      <td>(POLYGON ((-63.222198 -17.287947, -63.218701 -...</td>\n",
       "    </tr>\n",
       "    <tr>\n",
       "      <th>4</th>\n",
       "      <td>f538ccc8293e4ae699d8167d78283130</td>\n",
       "      <td>L7.5</td>\n",
       "      <td>(POLYGON ((-63.222198 -17.287947, -63.218701 -...</td>\n",
       "    </tr>\n",
       "    <tr>\n",
       "      <th>...</th>\n",
       "      <td>...</td>\n",
       "      <td>...</td>\n",
       "      <td>...</td>\n",
       "    </tr>\n",
       "    <tr>\n",
       "      <th>481</th>\n",
       "      <td>a3c87de6be714afaa5e7113144dcc92a</td>\n",
       "      <td>L13.2</td>\n",
       "      <td>(POLYGON ((-63.222198 -17.287947, -63.218701 -...</td>\n",
       "    </tr>\n",
       "    <tr>\n",
       "      <th>482</th>\n",
       "      <td>caa64d2a4c22423f9dbd3286e23c06eb</td>\n",
       "      <td>L14.1</td>\n",
       "      <td>(POLYGON ((-63.222198 -17.287947, -63.218701 -...</td>\n",
       "    </tr>\n",
       "    <tr>\n",
       "      <th>483</th>\n",
       "      <td>1ae18a6ff5274250a00c70e96f2188a7</td>\n",
       "      <td>L7</td>\n",
       "      <td>(POLYGON ((-63.222198 -17.287947, -63.218701 -...</td>\n",
       "    </tr>\n",
       "    <tr>\n",
       "      <th>484</th>\n",
       "      <td>04b1f4397eaa44eb932ba9964df4a6f2</td>\n",
       "      <td>L5</td>\n",
       "      <td>(POLYGON ((-63.222198 -17.287947, -63.218701 -...</td>\n",
       "    </tr>\n",
       "    <tr>\n",
       "      <th>485</th>\n",
       "      <td></td>\n",
       "      <td></td>\n",
       "      <td>(POLYGON ((-63.222198 -17.287947, -63.218701 -...</td>\n",
       "    </tr>\n",
       "  </tbody>\n",
       "</table>\n",
       "<p>486 rows × 3 columns</p>\n",
       "</div>"
      ],
      "text/plain": [
       "                             amigo_id   lote  \\\n",
       "0    c25021f58f7848bdbf6c5fdee28af591     L9   \n",
       "1    8880a15eb53a40dbb5ade5cefa56722f   L1.3   \n",
       "2    2ff903533d474d20a64ab54303eb0437     L1   \n",
       "3    b33bd293439a4d638c7d95700b9b0bac  L14.3   \n",
       "4    f538ccc8293e4ae699d8167d78283130   L7.5   \n",
       "..                                ...    ...   \n",
       "481  a3c87de6be714afaa5e7113144dcc92a  L13.2   \n",
       "482  caa64d2a4c22423f9dbd3286e23c06eb  L14.1   \n",
       "483  1ae18a6ff5274250a00c70e96f2188a7     L7   \n",
       "484  04b1f4397eaa44eb932ba9964df4a6f2     L5   \n",
       "485                                            \n",
       "\n",
       "                                             geometria  \n",
       "0    (POLYGON ((-63.222198 -17.287947, -63.218701 -...  \n",
       "1    (POLYGON ((-63.222198 -17.287947, -63.218701 -...  \n",
       "2    (POLYGON ((-63.222198 -17.287947, -63.218701 -...  \n",
       "3    (POLYGON ((-63.222198 -17.287947, -63.218701 -...  \n",
       "4    (POLYGON ((-63.222198 -17.287947, -63.218701 -...  \n",
       "..                                                 ...  \n",
       "481  (POLYGON ((-63.222198 -17.287947, -63.218701 -...  \n",
       "482  (POLYGON ((-63.222198 -17.287947, -63.218701 -...  \n",
       "483  (POLYGON ((-63.222198 -17.287947, -63.218701 -...  \n",
       "484  (POLYGON ((-63.222198 -17.287947, -63.218701 -...  \n",
       "485  (POLYGON ((-63.222198 -17.287947, -63.218701 -...  \n",
       "\n",
       "[486 rows x 3 columns]"
      ]
     },
     "execution_count": 341,
     "metadata": {},
     "output_type": "execute_result"
    }
   ],
   "source": [
    "GDF_LOTES_CLOUD"
   ]
  }
 ],
 "metadata": {
  "kernelspec": {
   "display_name": "Python 3 (ipykernel)",
   "language": "python",
   "name": "python3"
  },
  "language_info": {
   "codemirror_mode": {
    "name": "ipython",
    "version": 3
   },
   "file_extension": ".py",
   "mimetype": "text/x-python",
   "name": "python",
   "nbconvert_exporter": "python",
   "pygments_lexer": "ipython3",
   "version": "3.7.11"
  }
 },
 "nbformat": 4,
 "nbformat_minor": 5
}
