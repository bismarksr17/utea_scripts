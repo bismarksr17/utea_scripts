{
 "cells": [
  {
   "cell_type": "code",
   "execution_count": 1,
   "id": "79318d71-9da3-48ee-8d8f-ce653c522d4e",
   "metadata": {
    "tags": []
   },
   "outputs": [],
   "source": [
    "import geopandas as gpd\n",
    "import matplotlib.pyplot as plt\n",
    "\n",
    "import pandas as pd\n",
    "from datetime import datetime\n",
    "\n",
    "import os\n",
    "\n",
    "import tkinter as tk\n",
    "from tkinter import filedialog as fd\n",
    "\n",
    "from docxtpl import DocxTemplate\n",
    "import docxtpl\n",
    "from docx.shared import Mm\n",
    "import requests\n",
    "\n",
    "import collections"
   ]
  },
  {
   "cell_type": "code",
   "execution_count": 2,
   "id": "0f2ad1b5-9c5d-4004-aa91-738eb83ba233",
   "metadata": {},
   "outputs": [],
   "source": [
    "# ruta de carpera donde estan las llaves\n",
    "ruta = open('../ruta.txt')\n",
    "ruta = ruta.readlines()[0]"
   ]
  },
  {
   "cell_type": "markdown",
   "id": "7e2df467-97cd-4f92-beef-e3ae40e9ea17",
   "metadata": {},
   "source": [
    "## Leer catastro"
   ]
  },
  {
   "cell_type": "code",
   "execution_count": 3,
   "id": "61d2bf12-c1db-431e-a967-befa9ccfc5a5",
   "metadata": {
    "tags": []
   },
   "outputs": [],
   "source": [
    "# open file dialog\n",
    "root = tk.Tk()\n",
    "root.attributes('-topmost', True)\n",
    "root.iconify()\n",
    "file_name = fd.askopenfilename(parent=root, filetypes=[(\".shp\", \".shp\")])\n",
    "root.destroy()"
   ]
  },
  {
   "cell_type": "code",
   "execution_count": 4,
   "id": "794a022f-7d12-4796-8659-73e5019c3c32",
   "metadata": {
    "tags": []
   },
   "outputs": [
    {
     "data": {
      "text/plain": [
       "'D:/OneDrive - Ingenio Azucarero Guabira S.A/UTEA_2023/TRABAJOS/2023-06-02_INFORME PARA BANCO DE ABIGAIL CKOLO/SHP/LOTES.shp'"
      ]
     },
     "execution_count": 4,
     "metadata": {},
     "output_type": "execute_result"
    }
   ],
   "source": [
    "file_name"
   ]
  },
  {
   "cell_type": "code",
   "execution_count": 5,
   "id": "0e0f3eea-7620-45b4-a7ba-d1e5bec79c07",
   "metadata": {
    "tags": []
   },
   "outputs": [],
   "source": [
    "# leer el .shp seleccionado\n",
    "catastro = gpd.read_file(file_name)"
   ]
  },
  {
   "cell_type": "code",
   "execution_count": 6,
   "id": "4d939522-54d7-43ca-a6e2-69a6f7af8458",
   "metadata": {
    "tags": []
   },
   "outputs": [
    {
     "data": {
      "image/png": "[encoded data removed]",
      "text/plain": [
       "<Figure size 640x480 with 1 Axes>"
      ]
     },
     "metadata": {},
     "output_type": "display_data"
    }
   ],
   "source": [
    "catastro.plot()\n",
    "plt.show()"
   ]
  },
  {
   "cell_type": "markdown",
   "id": "3483bf46-deb7-47af-bfd5-7095bc12f92d",
   "metadata": {},
   "source": [
    "## Leer data excel"
   ]
  },
  {
   "cell_type": "code",
   "execution_count": 7,
   "id": "1679846f-621d-4626-bfcf-22bec36b8f46",
   "metadata": {
    "tags": []
   },
   "outputs": [],
   "source": [
    "# open file dialog\n",
    "root = tk.Tk()\n",
    "root.attributes('-topmost', True)\n",
    "root.iconify()\n",
    "file_name = fd.askopenfilename(parent=root, filetypes=[(\".xlsx\", \".xlsx\")])\n",
    "root.destroy()"
   ]
  },
  {
   "cell_type": "code",
   "execution_count": 8,
   "id": "4098668f-b9f9-4420-bc8e-c791a9a92340",
   "metadata": {
    "tags": []
   },
   "outputs": [
    {
     "data": {
      "text/plain": [
       "'D:/Ingenio Azucarero Guabira S.A/UTEA - SEMANAL - AVANCE COSECHA/2023/ANALISIS DE CAÑA EN CAMPO 2023/CENTRALIZADOR/DATA/ESTIMATIVAS_DB - PRINCIPAL v7 - OFICIAL.xlsx'"
      ]
     },
     "execution_count": 8,
     "metadata": {},
     "output_type": "execute_result"
    }
   ],
   "source": [
    "file_name"
   ]
  },
  {
   "cell_type": "code",
   "execution_count": 9,
   "id": "2d31e44d-73a7-4e22-9716-13ce494aa20f",
   "metadata": {},
   "outputs": [],
   "source": [
    "data_cod_cosecha = pd.read_excel(file_name, 'CODIGOS COSECHA')"
   ]
  },
  {
   "cell_type": "code",
   "execution_count": 10,
   "id": "2cffb4b4-ed59-45ba-b3a6-0a524420caca",
   "metadata": {},
   "outputs": [
    {
     "data": {
      "text/html": [
       "<div>\n",
       "<style scoped>\n",
       "    .dataframe tbody tr th:only-of-type {\n",
       "        vertical-align: middle;\n",
       "    }\n",
       "\n",
       "    .dataframe tbody tr th {\n",
       "        vertical-align: top;\n",
       "    }\n",
       "\n",
       "    .dataframe thead th {\n",
       "        text-align: right;\n",
       "    }\n",
       "</style>\n",
       "<table border=\"1\" class=\"dataframe\">\n",
       "  <thead>\n",
       "    <tr style=\"text-align: right;\">\n",
       "      <th></th>\n",
       "      <th>CODIGO \\nCAÑERO</th>\n",
       "      <th>INS</th>\n",
       "      <th>NOMBRE CAÑERO</th>\n",
       "      <th>CODIGO \\nCOSECHA</th>\n",
       "    </tr>\n",
       "  </thead>\n",
       "  <tbody>\n",
       "    <tr>\n",
       "      <th>0</th>\n",
       "      <td>515</td>\n",
       "      <td>50</td>\n",
       "      <td>AGUILERA OLGA RIVERO VDA DE</td>\n",
       "      <td>1</td>\n",
       "    </tr>\n",
       "    <tr>\n",
       "      <th>1</th>\n",
       "      <td>1215</td>\n",
       "      <td>50</td>\n",
       "      <td>AGUILERA RIVERO OLGA KARINA</td>\n",
       "      <td>1</td>\n",
       "    </tr>\n",
       "    <tr>\n",
       "      <th>2</th>\n",
       "      <td>8003</td>\n",
       "      <td>50</td>\n",
       "      <td>AGUILERA RIVERO SERGIO STEFAN</td>\n",
       "      <td>1</td>\n",
       "    </tr>\n",
       "  </tbody>\n",
       "</table>\n",
       "</div>"
      ],
      "text/plain": [
       "   CODIGO \\nCAÑERO   INS                  NOMBRE CAÑERO  CODIGO \\nCOSECHA\n",
       "0               515   50    AGUILERA OLGA RIVERO VDA DE                 1\n",
       "1              1215   50    AGUILERA RIVERO OLGA KARINA                 1\n",
       "2              8003   50  AGUILERA RIVERO SERGIO STEFAN                 1"
      ]
     },
     "execution_count": 10,
     "metadata": {},
     "output_type": "execute_result"
    }
   ],
   "source": [
    "data_cod_cosecha.head(3)"
   ]
  },
  {
   "cell_type": "markdown",
   "id": "2ec42c37-30f9-4a7f-80b1-4c9768e56229",
   "metadata": {},
   "source": [
    "## Leer codigos de grupo"
   ]
  },
  {
   "cell_type": "code",
   "execution_count": 11,
   "id": "21b567b4-9d11-4e88-b717-5e3975abb16d",
   "metadata": {
    "tags": []
   },
   "outputs": [],
   "source": [
    "# lista de grupo cañero\n",
    "canheros = [2042, 41549, 42081]"
   ]
  },
  {
   "cell_type": "code",
   "execution_count": 12,
   "id": "b4b63514-d88b-416e-b4db-62cbbfc0ff0b",
   "metadata": {
    "tags": []
   },
   "outputs": [],
   "source": [
    "# lista de propiedades de grupo cañerp\n",
    "propiedades = [119, 511, 785, 978, 1297, 1502, 1955]"
   ]
  },
  {
   "cell_type": "code",
   "execution_count": 13,
   "id": "f06216f0-f414-4010-99c0-f2804f417d82",
   "metadata": {},
   "outputs": [
    {
     "data": {
      "text/plain": [
       "[canhero(cod_ca=2042, nom_ca='CKOLO ESCALERA ABIGAIL'),\n",
       " canhero(cod_ca=41549, nom_ca='GARNICA CKOLO ALVARO'),\n",
       " canhero(cod_ca=42081, nom_ca='RODA CKOLO FABIOLA')]"
      ]
     },
     "execution_count": 13,
     "metadata": {},
     "output_type": "execute_result"
    }
   ],
   "source": [
    "# cargar datos de cañeros\n",
    "lista_ca = []\n",
    "for i in canheros:\n",
    "    cod_ca = data_cod_cosecha[data_cod_cosecha['CODIGO \\nCAÑERO '] == i].iloc[0]['CODIGO \\nCAÑERO ']\n",
    "    nom_ca = data_cod_cosecha[data_cod_cosecha['CODIGO \\nCAÑERO '] == i].iloc[0]['NOMBRE CAÑERO']\n",
    "    dict_ca = { 'cod_ca' : cod_ca, 'nom_ca' : nom_ca }\n",
    "    lista_ca.append(collections.namedtuple(\"canhero\", dict_ca.keys())(*dict_ca.values()))\n",
    "lista_ca"
   ]
  },
  {
   "cell_type": "code",
   "execution_count": 14,
   "id": "fade5dd7-35a5-4113-a0f5-e7fd31e22147",
   "metadata": {
    "tags": []
   },
   "outputs": [],
   "source": [
    "# crear diccionario con datos de cañeros y propiedades\n",
    "fecha = datetime.now()\n",
    "fecha = fecha.strftime(\"%d/%m/%Y\")\n",
    "datos_ca = { 'fecha' : fecha, 'cite': 1, 'ca' : lista_ca}"
   ]
  },
  {
   "cell_type": "code",
   "execution_count": 15,
   "id": "2147d539-4403-408f-9b65-a1a3d2a45858",
   "metadata": {
    "tags": []
   },
   "outputs": [
    {
     "data": {
      "text/plain": [
       "insp(fecha='02/06/2023', cite=1, ca=[canhero(cod_ca=2042, nom_ca='CKOLO ESCALERA ABIGAIL'), canhero(cod_ca=41549, nom_ca='GARNICA CKOLO ALVARO'), canhero(cod_ca=42081, nom_ca='RODA CKOLO FABIOLA')])"
      ]
     },
     "execution_count": 15,
     "metadata": {},
     "output_type": "execute_result"
    }
   ],
   "source": [
    "data = collections.namedtuple(\"insp\", datos_ca.keys())(*datos_ca.values())\n",
    "data"
   ]
  },
  {
   "cell_type": "code",
   "execution_count": null,
   "id": "39d54a90-fdea-4ade-9705-41bc8e472674",
   "metadata": {
    "tags": []
   },
   "outputs": [],
   "source": []
  },
  {
   "cell_type": "code",
   "execution_count": 16,
   "id": "8b951430-69bf-4d7d-a3b6-867ff09785e3",
   "metadata": {
    "tags": []
   },
   "outputs": [],
   "source": [
    "total_hoja = 0\n",
    "total_soca = 0\n",
    "total_renov = 0\n",
    "total_produc = 0\n",
    "total_cultivado = 0\n",
    "props_obj = []\n",
    "for i in propiedades:\n",
    "    propiedad = catastro[catastro['unidad_01']==i]\n",
    "    cod_prop = propiedad.iloc[0]['unidad_01']\n",
    "    nom_prop = propiedad.iloc[0]['unidad_02'].replace('_', ' ').split('--')[0]\n",
    "    hoja = propiedad[propiedad['soca']==0]['area'].sum()\n",
    "    soca = propiedad[(propiedad['soca']!=0) & (propiedad['variedad']!='RENOVACION')]['area'].sum()\n",
    "    renov = propiedad[propiedad['variedad']=='RENOVACION']['area'].sum()\n",
    "    produc = hoja + soca\n",
    "    cultivado = hoja + soca + renov\n",
    "    \n",
    "    total_hoja += hoja\n",
    "    total_soca += soca\n",
    "    total_renov += renov\n",
    "    total_produc += produc\n",
    "    total_cultivado += cultivado\n",
    "    \n",
    "    # seleccionar las columnas\n",
    "    prop_data = propiedad[['unidad_05', 'area', 'variedad', 'fs', 'soca', 'textura']]\n",
    "    # cambiar nombre de comlumnas\n",
    "    prop_table = prop_data.rename(columns={'unidad_05':'lote', 'area':'area', 'variedad':'variedad', 'fs':'fs', 'soca':'corte', 'textura':'textura'})\n",
    "    # truncar a dos decimales\n",
    "    prop_table['area'] = prop_table['area'].round(decimals=2)\n",
    "    # formato de fecha\n",
    "    prop_table['fs'] = pd.to_datetime(prop_table['fs']).dt.strftime('%d/%m/%Y')\n",
    "    \n",
    "    lista_lotes = []\n",
    "    for i in range(len(prop_table)):\n",
    "        lote = prop_table.iloc[i].to_dict()\n",
    "        if(lote['variedad'] == 'RENOVACION'):\n",
    "            lote['fs'] = ''\n",
    "            lote['corte'] = ''\n",
    "        lote = collections.namedtuple(\"lote\", lote.keys())(*lote.values())\n",
    "        lista_lotes.append(lote)\n",
    "    \n",
    "    propiedad_dict = { \n",
    "        'cod_prop' : cod_prop,\n",
    "        'nom_prop' : nom_prop,\n",
    "        'hoja' : hoja, \n",
    "        'soca' : soca, \n",
    "        'renov' : renov,\n",
    "        'produc' : produc,\n",
    "        'cultivado' : cultivado,\n",
    "        'lotes' : lista_lotes}\n",
    "    props_obj.append(collections.namedtuple(\"propiedad\", propiedad_dict.keys())(*propiedad_dict.values()))"
   ]
  },
  {
   "cell_type": "code",
   "execution_count": null,
   "id": "55cb0557-a047-4e47-87ee-f384f149f3fa",
   "metadata": {},
   "outputs": [],
   "source": []
  },
  {
   "cell_type": "code",
   "execution_count": 17,
   "id": "3358da9e-24b0-4df6-8d59-0f2abcb74fa7",
   "metadata": {
    "tags": []
   },
   "outputs": [],
   "source": [
    "totales = { \n",
    "    't_hoja': total_hoja,\n",
    "    't_soca' : total_soca,\n",
    "    't_renov' : total_renov,\n",
    "    't_produc': total_produc,\n",
    "    't_cultivado' : total_cultivado}"
   ]
  },
  {
   "cell_type": "code",
   "execution_count": 18,
   "id": "87006c27-c2a2-419e-962d-7c4c77c83921",
   "metadata": {
    "tags": []
   },
   "outputs": [],
   "source": [
    "total = collections.namedtuple(\"total\", totales.keys())(*totales.values())"
   ]
  },
  {
   "cell_type": "code",
   "execution_count": 19,
   "id": "f6f098e3-0645-4dd3-9f3f-ee805ee063b0",
   "metadata": {
    "tags": []
   },
   "outputs": [],
   "source": [
    "doc = DocxTemplate(ruta+\"/templates/tpl_informe_banco.docx\")\n",
    "context = {'insp' : data, 'propiedades' : props_obj, 'total' : total}\n",
    "doc.render(context)\n",
    "file_name = 'ff'\n",
    "doc.save('_' + file_name + '.docx')"
   ]
  },
  {
   "cell_type": "code",
   "execution_count": null,
   "id": "7cc01c9d-c756-443b-9239-0c802d07c836",
   "metadata": {},
   "outputs": [],
   "source": []
  }
 ],
 "metadata": {
  "kernelspec": {
   "display_name": "Python 3 (ipykernel)",
   "language": "python",
   "name": "python3"
  },
  "language_info": {
   "codemirror_mode": {
    "name": "ipython",
    "version": 3
   },
   "file_extension": ".py",
   "mimetype": "text/x-python",
   "name": "python",
   "nbconvert_exporter": "python",
   "pygments_lexer": "ipython3",
   "version": "3.7.16"
  }
 },
 "nbformat": 4,
 "nbformat_minor": 5
}
