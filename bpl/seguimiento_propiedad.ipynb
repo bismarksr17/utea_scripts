{
 "cells": [
  {
   "cell_type": "code",
   "execution_count": 1,
   "id": "1544fb4e-3fab-4e4f-9ebb-b4800a750082",
   "metadata": {},
   "outputs": [],
   "source": [
    "from werkzeug.wrappers import Request, Response\n",
    "#from flask import Flask, render_template\n",
    "from jinja2 import Template\n",
    "\n",
    "#from datetime import date\n",
    "from datetime import datetime, timedelta\n",
    "\n",
    "import collections\n",
    "from amigocloud import AmigoCloud\n",
    "\n",
    "from datetime import datetime\n",
    "\n",
    "from docxtpl import DocxTemplate\n",
    "import docxtpl\n",
    "from docx.shared import Mm\n",
    "import requests\n",
    "\n",
    "from docx2pdf import convert\n",
    "import os"
   ]
  },
  {
   "cell_type": "code",
   "execution_count": 2,
   "id": "f1078571-9fe4-4653-8c00-8bdf4c22e99f",
   "metadata": {},
   "outputs": [
    {
     "data": {
      "text/plain": [
       "<amigocloud.amigocloud.AmigoCloud at 0x2402238f948>"
      ]
     },
     "execution_count": 2,
     "metadata": {},
     "output_type": "execute_result"
    }
   ],
   "source": [
    "# ruta de carpera donde estan las llaves\n",
    "ruta = open('../ruta.txt')\n",
    "ruta = ruta.readlines()[0]\n",
    "\n",
    "# leer token\n",
    "acceso = open(ruta + '/_keys/api_amigocloud.key','r')\n",
    "api_token = acceso.readlines()[0]\n",
    "acceso.close()\n",
    "amigocloud = AmigoCloud(token=api_token)\n",
    "amigocloud"
   ]
  },
  {
   "cell_type": "code",
   "execution_count": null,
   "id": "311b4de4-6df9-4fe5-9b04-ea04aee34742",
   "metadata": {},
   "outputs": [],
   "source": []
  },
  {
   "cell_type": "code",
   "execution_count": null,
   "id": "c16fe904-dbdc-4309-88cb-143e1275bb01",
   "metadata": {},
   "outputs": [],
   "source": []
  },
  {
   "cell_type": "code",
   "execution_count": null,
   "id": "5b1b03e4-2239-4920-9b29-08093cb8dbc9",
   "metadata": {},
   "outputs": [],
   "source": []
  },
  {
   "cell_type": "code",
   "execution_count": 113,
   "id": "5dfa34f6-921e-4982-aaad-3f65f46a8427",
   "metadata": {},
   "outputs": [],
   "source": [
    "id_insp = 2\n",
    "# DATOS DE LAS INPECCION\n",
    "query = {'query': 'select * from dataset_319977 where num_registro={id}'.format(id=id_insp)}\n",
    "project = 'https://app.amigocloud.com/api/v1/projects/33130/sql'\n",
    "select = amigocloud.get(project, query)\n",
    "data = select['data'][0]\n",
    "data['fecha_registro'] = datetime.strptime(data['fecha_registro'][0:10], '%Y-%m-%d').strftime('%d/%m/%Y')\n",
    "data['grupo_familiar'] = data['grupo_familiar'].title()\n",
    "canhero = collections.namedtuple(\"canhero\", data.keys())(*data.values())"
   ]
  },
  {
   "cell_type": "code",
   "execution_count": 114,
   "id": "d61df2a7-da11-4f4c-b595-db6049e98df9",
   "metadata": {},
   "outputs": [],
   "source": [
    "query = {'query': 'select * from dataset_319976 where diagnostico_to_obs=\\'{id_ref}\\' order by categoria'.format(id_ref=canhero.amigo_id)}\n",
    "project = 'https://app.amigocloud.com/api/v1/projects/33130/sql'\n",
    "select = amigocloud.get(project, query)\n",
    "data = select['data']"
   ]
  },
  {
   "cell_type": "code",
   "execution_count": 115,
   "id": "16746ab1-83e2-4b42-9ffa-d131d4e75cb7",
   "metadata": {},
   "outputs": [],
   "source": [
    "obs = []\n",
    "for i in data:\n",
    "    if i['cumplimiento_seg_1'] == None:\n",
    "        i['cumplimiento_seg_1'] = ''\n",
    "    if i['cumplimiento_seg_2'] == None:\n",
    "        i['cumplimiento_seg_2'] = ''\n",
    "    if i['cumplimiento_seg_3'] == None:\n",
    "        i['cumplimiento_seg_3'] = ''\n",
    "    if i['fecha_seg_1'] == None:\n",
    "        i['fecha_seg_1'] = ''\n",
    "    if i['fecha_seg_2'] == None:\n",
    "        i['fecha_seg_2'] = ''\n",
    "    if i['fecha_seg_3'] == None:\n",
    "        i['fecha_seg_3'] = ''\n",
    "    if i['observaciones'] == None:\n",
    "        i['observaciones'] = ''\n",
    "    ob = collections.namedtuple(\"ob\", i.keys())(*i.values())\n",
    "    obs.append(ob)"
   ]
  },
  {
   "cell_type": "code",
   "execution_count": 116,
   "id": "4ee43838-ea07-44fc-a55f-f86615f3c619",
   "metadata": {},
   "outputs": [],
   "source": [
    "doc = DocxTemplate(ruta + '/templates/tpl_rpt_seguimiento_propiedades-bpl.docx')\n",
    "context = {'canhero':canhero, 'obs':obs}\n",
    "cod_ca = canhero.nom_ca.split(' / ')[0]\n",
    "nom_ca = canhero.nom_ca.split(' / ')[1]\n",
    "nom_file = cod_ca + '_SPR_' + canhero.fecha_registro.replace('/','-') + '_' + nom_ca + '_' + str(canhero.num_registro)\n",
    "doc.render(context)\n",
    "doc.save(nom_file + '.docx')"
   ]
  }
 ],
 "metadata": {
  "kernelspec": {
   "display_name": "Python 3 (ipykernel)",
   "language": "python",
   "name": "python3"
  },
  "language_info": {
   "codemirror_mode": {
    "name": "ipython",
    "version": 3
   },
   "file_extension": ".py",
   "mimetype": "text/x-python",
   "name": "python",
   "nbconvert_exporter": "python",
   "pygments_lexer": "ipython3",
   "version": "3.10.13"
  }
 },
 "nbformat": 4,
 "nbformat_minor": 5
}
