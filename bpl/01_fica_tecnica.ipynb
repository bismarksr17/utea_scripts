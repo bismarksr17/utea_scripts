{
 "cells": [
  {
   "cell_type": "code",
   "execution_count": 17,
   "id": "7b507a0c-280b-4bd6-b503-bff14d27ed18",
   "metadata": {},
   "outputs": [],
   "source": [
    "import sys\n",
    "sys.path.append('../_amigocloud')"
   ]
  },
  {
   "cell_type": "code",
   "execution_count": 19,
   "id": "1544fb4e-3fab-4e4f-9ebb-b4800a750082",
   "metadata": {},
   "outputs": [],
   "source": [
    "from werkzeug.wrappers import Request, Response\n",
    "#from flask import Flask, render_template\n",
    "from jinja2 import Template\n",
    "\n",
    "#from datetime import date\n",
    "from datetime import datetime, timedelta\n",
    "\n",
    "import collections\n",
    "from amigocloud import AmigoCloud\n",
    "\n",
    "from docxtpl import DocxTemplate\n",
    "import docxtpl\n",
    "from docx.shared import Mm\n",
    "import requests\n",
    "\n",
    "from docx2pdf import convert\n",
    "import os"
   ]
  },
  {
   "cell_type": "code",
   "execution_count": 20,
   "id": "f1078571-9fe4-4653-8c00-8bdf4c22e99f",
   "metadata": {},
   "outputs": [
    {
     "data": {
      "text/plain": [
       "<amigocloud.AmigoCloud at 0x1a207156560>"
      ]
     },
     "execution_count": 20,
     "metadata": {},
     "output_type": "execute_result"
    }
   ],
   "source": [
    "# ruta de carpera donde estan las llaves\n",
    "ruta = open('../ruta.txt')\n",
    "ruta = ruta.readlines()[0]\n",
    "\n",
    "# leer token\n",
    "acceso = open(ruta + '/_keys/api_amigocloud.key','r')\n",
    "api_token = acceso.readlines()[0]\n",
    "acceso.close()\n",
    "amigocloud = AmigoCloud(token=api_token)\n",
    "amigocloud"
   ]
  },
  {
   "cell_type": "code",
   "execution_count": 22,
   "id": "311b4de4-6df9-4fe5-9b04-ea04aee34742",
   "metadata": {},
   "outputs": [],
   "source": [
    "# convierte de formato YYYY-mm-dd H:M:S+z a d/m/YYYY\n",
    "def convertir_formato_fecha(fecha):\n",
    "    new_formato = datetime.strptime(fecha, \"%Y-%m-%d %H:%M:%S%z\").strftime(\"%d/%m/%Y\")\n",
    "    return new_formato"
   ]
  },
  {
   "cell_type": "markdown",
   "id": "c24210c6-4560-4b47-973a-61ea57a534b1",
   "metadata": {},
   "source": [
    "## ejecutar query"
   ]
  },
  {
   "cell_type": "code",
   "execution_count": 23,
   "id": "5b1b03e4-2239-4920-9b29-08093cb8dbc9",
   "metadata": {},
   "outputs": [],
   "source": [
    "# ejecuta cualquier query sql en el proyecto que se le indique\n",
    "# requiere el id de proyecto, query a ejecutar y tipo solicitud (get o post)\n",
    "def ejecutar_query_sql(id_project, query, tipo_sql):\n",
    "    # define la url del proyecto para ejecutar el querry\n",
    "    url_proyecto_sql = f'https://app.amigocloud.com/api/v1/projects/{id_project}/sql'\n",
    "    # crea la estructura de query para amigocloud\n",
    "    query_sql = {'query': query}\n",
    "    # variable para almacenar resultado\n",
    "    resultado_get = ''\n",
    "    # eleige que tipo de solicitud se realizara (get o post)\n",
    "    if tipo_sql == 'get': \n",
    "        resultado_get = amigocloud.get(url_proyecto_sql, query_sql)\n",
    "    elif tipo_sql == 'post':\n",
    "        resultado_get = amigocloud.post(url_proyecto_sql, query_sql)\n",
    "    else:\n",
    "        resultado_get = 'Se a seleccionado un tipo de solicitud erroneo.'\n",
    "    return resultado_get"
   ]
  },
  {
   "cell_type": "markdown",
   "id": "fca3087f-ab0a-48eb-89be-c8f558d63613",
   "metadata": {},
   "source": [
    "## ejecuta query segun id_query (ejecucion de queryes de un proyecto)"
   ]
  },
  {
   "cell_type": "code",
   "execution_count": 24,
   "id": "3d3d1e02-c908-4e43-b4b1-6ab477d9ed52",
   "metadata": {},
   "outputs": [],
   "source": [
    "# ejecuta un query que esta almacenado en un proyecto de amigocloud (generalmente un update),\n",
    "# requiere id de proyecto e id de query\n",
    "# retorna cuantas filas fueron afectadas\n",
    "def ejecutar_query_por_id(id_project, id_query, tipo_sql):\n",
    "    # obtiene el query basado en el id_project y el id_query\n",
    "    get_query = amigocloud.get(f'https://app.amigocloud.com/api/v1/projects/{id_project}/queries/{id_query}')\n",
    "    # se extrae solo el texto del query\n",
    "    query = get_query['query']\n",
    "    # ejecuta el query_sql con metodo post y guarda la respuesta\n",
    "    respuesta_post = ejecutar_query_sql(id_project, query, tipo_sql)\n",
    "    # retorna el numero de filas afectadas por el query\n",
    "    return respuesta_post"
   ]
  },
  {
   "cell_type": "markdown",
   "id": "7a82e646-c895-4a00-9360-77145d278250",
   "metadata": {},
   "source": [
    "## convertir dic en obj"
   ]
  },
  {
   "cell_type": "code",
   "execution_count": 25,
   "id": "d05a3fc1-e702-43db-af6d-18eba89d9adb",
   "metadata": {},
   "outputs": [],
   "source": [
    "# convierte un dict a un obj\n",
    "# recibe el dict y el nombre con el que se creara el obj\n",
    "def convertir_dict_obj(diccionario, name):\n",
    "    return collections.namedtuple(name, diccionario.keys())(*diccionario.values())"
   ]
  },
  {
   "cell_type": "code",
   "execution_count": null,
   "id": "ff90c9ba-0ad6-4ace-8d5a-251cc7022c1d",
   "metadata": {},
   "outputs": [],
   "source": []
  },
  {
   "cell_type": "code",
   "execution_count": null,
   "id": "0424d420-4339-41cc-9ea7-57d15e5441f0",
   "metadata": {},
   "outputs": [],
   "source": [
    "# revisa y extiste registros nuevos (campo reporte_generado en false)\n",
    "query = f''\n",
    "rec_nuevos = ejecutar_query_por_id(proyecto_id, buscar_reg_nuevos, 'get')\n",
    "# se queda con la parte de darta\n",
    "rec_nuevos = rec_nuevos['data']\n",
    "# extrae el id de los nuevos regitros\n",
    "id_nuevos = [i['id'] for i in rec_nuevos]\n",
    "return id_nuevos"
   ]
  },
  {
   "cell_type": "code",
   "execution_count": null,
   "id": "bcdad50e-7900-424d-9dfe-ee41b758208f",
   "metadata": {},
   "outputs": [],
   "source": []
  },
  {
   "cell_type": "code",
   "execution_count": null,
   "id": "7716d844-1529-4eb8-9edf-1aff1f8736b1",
   "metadata": {},
   "outputs": [],
   "source": []
  },
  {
   "cell_type": "code",
   "execution_count": null,
   "id": "2899a07f-e0fe-4af6-8822-bec36cac5c42",
   "metadata": {},
   "outputs": [],
   "source": []
  },
  {
   "cell_type": "code",
   "execution_count": null,
   "id": "acdc7ef9-b3fe-4c28-827d-3de3e03e9d1e",
   "metadata": {},
   "outputs": [],
   "source": []
  },
  {
   "cell_type": "code",
   "execution_count": null,
   "id": "9ad49f0f-b49a-49b9-89ad-82b82479252e",
   "metadata": {},
   "outputs": [],
   "source": []
  },
  {
   "cell_type": "code",
   "execution_count": null,
   "id": "0d8494e3-dd5a-49fa-b0dd-297e4e5ade31",
   "metadata": {},
   "outputs": [],
   "source": []
  },
  {
   "cell_type": "code",
   "execution_count": null,
   "id": "d82896d3-fc82-4c56-9edf-46a6004573f8",
   "metadata": {},
   "outputs": [],
   "source": []
  }
 ],
 "metadata": {
  "kernelspec": {
   "display_name": "Python 3 (ipykernel)",
   "language": "python",
   "name": "python3"
  },
  "language_info": {
   "codemirror_mode": {
    "name": "ipython",
    "version": 3
   },
   "file_extension": ".py",
   "mimetype": "text/x-python",
   "name": "python",
   "nbconvert_exporter": "python",
   "pygments_lexer": "ipython3",
   "version": "3.10.13"
  }
 },
 "nbformat": 4,
 "nbformat_minor": 5
}
