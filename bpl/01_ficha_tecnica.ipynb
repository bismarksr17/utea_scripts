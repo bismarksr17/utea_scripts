{
 "cells": [
  {
   "cell_type": "code",
   "execution_count": 1,
   "id": "7b507a0c-280b-4bd6-b503-bff14d27ed18",
   "metadata": {},
   "outputs": [],
   "source": [
    "import sys\n",
    "sys.path.append('../_amigocloud')"
   ]
  },
  {
   "cell_type": "code",
   "execution_count": 2,
   "id": "1544fb4e-3fab-4e4f-9ebb-b4800a750082",
   "metadata": {},
   "outputs": [],
   "source": [
    "from werkzeug.wrappers import Request, Response\n",
    "#from flask import Flask, render_template\n",
    "from jinja2 import Template\n",
    "\n",
    "#from datetime import date\n",
    "from datetime import datetime, timedelta\n",
    "\n",
    "import collections\n",
    "from amigocloud import AmigoCloud\n",
    "\n",
    "from docxtpl import DocxTemplate\n",
    "import docxtpl\n",
    "from docx.shared import Mm\n",
    "import requests\n",
    "\n",
    "from docx2pdf import convert\n",
    "import os"
   ]
  },
  {
   "cell_type": "code",
   "execution_count": 3,
   "id": "f1078571-9fe4-4653-8c00-8bdf4c22e99f",
   "metadata": {},
   "outputs": [
    {
     "data": {
      "text/plain": [
       "<amigocloud.AmigoCloud at 0x2c5c1074ca0>"
      ]
     },
     "execution_count": 3,
     "metadata": {},
     "output_type": "execute_result"
    }
   ],
   "source": [
    "# ruta de carpera donde estan las llaves\n",
    "ruta = open('../ruta.txt')\n",
    "ruta = ruta.readlines()[0]\n",
    "\n",
    "# leer token\n",
    "acceso = open(ruta + '/_keys/api_amigocloud.key','r')\n",
    "api_token = acceso.readlines()[0]\n",
    "acceso.close()\n",
    "amigocloud = AmigoCloud(token=api_token)\n",
    "amigocloud"
   ]
  },
  {
   "cell_type": "code",
   "execution_count": 4,
   "id": "311b4de4-6df9-4fe5-9b04-ea04aee34742",
   "metadata": {},
   "outputs": [],
   "source": [
    "# convierte de formato YYYY-mm-dd H:M:S+z a d/m/YYYY\n",
    "def convertir_formato_fecha(fecha):\n",
    "    new_formato = datetime.strptime(fecha, \"%Y-%m-%d %H:%M:%S%z\").strftime(\"%d/%m/%Y\")\n",
    "    return new_formato"
   ]
  },
  {
   "cell_type": "markdown",
   "id": "c24210c6-4560-4b47-973a-61ea57a534b1",
   "metadata": {},
   "source": [
    "## ejecutar query"
   ]
  },
  {
   "cell_type": "code",
   "execution_count": 5,
   "id": "5b1b03e4-2239-4920-9b29-08093cb8dbc9",
   "metadata": {},
   "outputs": [],
   "source": [
    "# ejecuta cualquier query sql en el proyecto que se le indique\n",
    "# requiere el id de proyecto, query a ejecutar y tipo solicitud (get o post)\n",
    "def ejecutar_query_sql(id_project, query, tipo_sql):\n",
    "    # define la url del proyecto para ejecutar el querry\n",
    "    url_proyecto_sql = f'https://app.amigocloud.com/api/v1/projects/{id_project}/sql'\n",
    "    # crea la estructura de query para amigocloud\n",
    "    query_sql = {'query': query}\n",
    "    # variable para almacenar resultado\n",
    "    resultado_get = ''\n",
    "    # eleige que tipo de solicitud se realizara (get o post)\n",
    "    if tipo_sql == 'get': \n",
    "        resultado_get = amigocloud.get(url_proyecto_sql, query_sql)\n",
    "    elif tipo_sql == 'post':\n",
    "        resultado_get = amigocloud.post(url_proyecto_sql, query_sql)\n",
    "    else:\n",
    "        resultado_get = 'Se a seleccionado un tipo de solicitud erroneo.'\n",
    "    return resultado_get"
   ]
  },
  {
   "cell_type": "markdown",
   "id": "fca3087f-ab0a-48eb-89be-c8f558d63613",
   "metadata": {},
   "source": [
    "## ejecuta query segun id_query (ejecucion de queryes de un proyecto)"
   ]
  },
  {
   "cell_type": "code",
   "execution_count": 6,
   "id": "3d3d1e02-c908-4e43-b4b1-6ab477d9ed52",
   "metadata": {},
   "outputs": [],
   "source": [
    "# ejecuta un query que esta almacenado en un proyecto de amigocloud (generalmente un update),\n",
    "# requiere id de proyecto e id de query\n",
    "# retorna cuantas filas fueron afectadas\n",
    "def ejecutar_query_por_id(id_project, id_query, tipo_sql):\n",
    "    # obtiene el query basado en el id_project y el id_query\n",
    "    get_query = amigocloud.get(f'https://app.amigocloud.com/api/v1/projects/{id_project}/queries/{id_query}')\n",
    "    # se extrae solo el texto del query\n",
    "    query = get_query['query']\n",
    "    # ejecuta el query_sql con metodo post y guarda la respuesta\n",
    "    respuesta_post = ejecutar_query_sql(id_project, query, tipo_sql)\n",
    "    # retorna el numero de filas afectadas por el query\n",
    "    return respuesta_post"
   ]
  },
  {
   "cell_type": "markdown",
   "id": "7a82e646-c895-4a00-9360-77145d278250",
   "metadata": {},
   "source": [
    "## convertir dic en obj"
   ]
  },
  {
   "cell_type": "code",
   "execution_count": 7,
   "id": "d05a3fc1-e702-43db-af6d-18eba89d9adb",
   "metadata": {},
   "outputs": [],
   "source": [
    "# convierte un dict a un obj\n",
    "# recibe el dict y el nombre con el que se creara el obj\n",
    "def convertir_dict_obj(diccionario, name):\n",
    "    return collections.namedtuple(name, diccionario.keys())(*diccionario.values())"
   ]
  },
  {
   "cell_type": "code",
   "execution_count": null,
   "id": "ff90c9ba-0ad6-4ace-8d5a-251cc7022c1d",
   "metadata": {},
   "outputs": [],
   "source": []
  },
  {
   "cell_type": "code",
   "execution_count": 8,
   "id": "3dd2bc53-80c7-4c92-a1f4-2c33b4ceffdc",
   "metadata": {},
   "outputs": [],
   "source": [
    "id_proyecto = 34147\n",
    "query_cargar_nom_prop = 6480"
   ]
  },
  {
   "cell_type": "code",
   "execution_count": 9,
   "id": "0424d420-4339-41cc-9ea7-57d15e5441f0",
   "metadata": {},
   "outputs": [
    {
     "data": {
      "text/plain": [
       "{'query': \"update dataset_342756\\r\\nset \\r\\n    propiedad = cat.unidad_01 || ' / ' || cat.unidad_02\\r\\nfrom dataset_342758 cat where ST_INTERSECTS(\\r\\n    ubicacion, \\r\\n    cat.wkb_geometry)\",\n",
       " 'count': 1}"
      ]
     },
     "execution_count": 9,
     "metadata": {},
     "output_type": "execute_result"
    }
   ],
   "source": [
    "ejecutar_query_por_id(id_proyecto, query_cargar_nom_prop, 'post')"
   ]
  },
  {
   "cell_type": "code",
   "execution_count": null,
   "id": "bcdad50e-7900-424d-9dfe-ee41b758208f",
   "metadata": {},
   "outputs": [],
   "source": []
  },
  {
   "cell_type": "code",
   "execution_count": 10,
   "id": "8b430464-d51c-400b-ae90-ea97f9c6325e",
   "metadata": {},
   "outputs": [],
   "source": [
    "query = f'select * from dataset_342756 where informe_generado = false'\n",
    "res = ejecutar_query_sql(id_proyecto, query, 'get')\n",
    "res = res['data']"
   ]
  },
  {
   "cell_type": "code",
   "execution_count": null,
   "id": "294c92bf-1a47-42e1-84ef-bf7cf5b180bf",
   "metadata": {},
   "outputs": [],
   "source": []
  },
  {
   "cell_type": "code",
   "execution_count": null,
   "id": "936015df-b5ff-4fe0-bfeb-c15d3335e4ac",
   "metadata": {},
   "outputs": [],
   "source": []
  },
  {
   "cell_type": "code",
   "execution_count": 11,
   "id": "b479ca18-7c0d-4708-adb6-80266e8a9ce3",
   "metadata": {},
   "outputs": [],
   "source": [
    "reg = res[0]"
   ]
  },
  {
   "cell_type": "code",
   "execution_count": 12,
   "id": "c9f72df8-7743-48d1-abd0-733b0277ca74",
   "metadata": {},
   "outputs": [],
   "source": [
    "reg['fecha_registro'] = convertir_formato_fecha(reg['fecha_registro'])"
   ]
  },
  {
   "cell_type": "code",
   "execution_count": 13,
   "id": "2ed182ad-e9b8-4b4c-93fc-c7d21d166136",
   "metadata": {},
   "outputs": [],
   "source": [
    "ficha = convertir_dict_obj(reg, 'ficha')"
   ]
  },
  {
   "cell_type": "code",
   "execution_count": 14,
   "id": "7716d844-1529-4eb8-9edf-1aff1f8736b1",
   "metadata": {},
   "outputs": [
    {
     "data": {
      "text/plain": [
       "ficha(fecha_registro='07/08/2024', amigo_id='64eb211e405d43afa192d8143e919e0b', id=5, responsable_tecnico='KOLIN USTAREZ', ubicacion='0101000020E6100000E4EE18C341994FC06C47CC47AD3D31C0', canhero='1530 / C.I.T.T.C.A.', propiedad='299 / C.I.T.T.C.A', zona='Saavedra', f1=False, f2=False, f3=True, f4=True, f5=False, f6=False, f7=False, f8=False, f9=False, f10=True, f11=True, f12=False, f13=False, f14=False, f15=True, f16=True, f17=False, f18=False, f19=False, f20=False, f21=True, f22=True, f23=False, f24=False, f25=False, f26=True, f27=True, f28=False, observaciones='Sin obs', informe_generado=False)"
      ]
     },
     "execution_count": 14,
     "metadata": {},
     "output_type": "execute_result"
    }
   ],
   "source": [
    "ficha"
   ]
  },
  {
   "cell_type": "code",
   "execution_count": 15,
   "id": "2899a07f-e0fe-4af6-8822-bec36cac5c42",
   "metadata": {},
   "outputs": [],
   "source": [
    "doc = DocxTemplate(ruta + \"/templates/tpl_rpt_ficha_tec_agricola_bpl.docx\")\n",
    "\n",
    "context = {'ficha':ficha }\n",
    "\n",
    "doc.render(context)\n",
    "\n",
    "# formato de nombre de archivo: \"123_CQ_01-01-2022_NOMBRE\"\n",
    "fech = ficha.fecha_registro.replace('/','-')\n",
    "nom = ficha.canhero.replace(' / ','_')\n",
    "file_name = fech + '_' + nom\n",
    "\n",
    "doc.save(ruta + '/informes/_' + file_name + '.docx')"
   ]
  },
  {
   "cell_type": "code",
   "execution_count": null,
   "id": "acdc7ef9-b3fe-4c28-827d-3de3e03e9d1e",
   "metadata": {},
   "outputs": [],
   "source": []
  },
  {
   "cell_type": "code",
   "execution_count": null,
   "id": "bb74cd59-8ab1-489a-94e6-3684342ea326",
   "metadata": {},
   "outputs": [],
   "source": []
  },
  {
   "cell_type": "code",
   "execution_count": null,
   "id": "c83636bd-c648-4f4c-8a5d-c8798a444b02",
   "metadata": {},
   "outputs": [],
   "source": []
  },
  {
   "cell_type": "code",
   "execution_count": null,
   "id": "cd02f7f4-9eec-4af2-b68c-567466a1cf4a",
   "metadata": {},
   "outputs": [],
   "source": []
  },
  {
   "cell_type": "code",
   "execution_count": null,
   "id": "9ad49f0f-b49a-49b9-89ad-82b82479252e",
   "metadata": {},
   "outputs": [],
   "source": []
  },
  {
   "cell_type": "code",
   "execution_count": null,
   "id": "0d8494e3-dd5a-49fa-b0dd-297e4e5ade31",
   "metadata": {},
   "outputs": [],
   "source": []
  },
  {
   "cell_type": "code",
   "execution_count": null,
   "id": "d82896d3-fc82-4c56-9edf-46a6004573f8",
   "metadata": {},
   "outputs": [],
   "source": []
  }
 ],
 "metadata": {
  "kernelspec": {
   "display_name": "Python 3 (ipykernel)",
   "language": "python",
   "name": "python3"
  },
  "language_info": {
   "codemirror_mode": {
    "name": "ipython",
    "version": 3
   },
   "file_extension": ".py",
   "mimetype": "text/x-python",
   "name": "python",
   "nbconvert_exporter": "python",
   "pygments_lexer": "ipython3",
   "version": "3.10.13"
  }
 },
 "nbformat": 4,
 "nbformat_minor": 5
}
