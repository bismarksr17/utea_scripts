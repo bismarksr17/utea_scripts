{
 "cells": [
  {
   "cell_type": "code",
   "execution_count": 2,
   "id": "1467b0e8-448b-41a0-80be-ccd079ed3a01",
   "metadata": {},
   "outputs": [],
   "source": [
    "from werkzeug.wrappers import Request, Response\n",
    "#from flask import Flask, render_template\n",
    "from jinja2 import Template\n",
    "\n",
    "#from datetime import date\n",
    "from datetime import datetime, timedelta\n",
    "\n",
    "import collections\n",
    "from amigocloud import AmigoCloud\n",
    "\n",
    "from datetime import datetime\n",
    "\n",
    "from docxtpl import DocxTemplate\n",
    "import docxtpl\n",
    "from docx.shared import Mm\n",
    "import requests\n",
    "\n",
    "from docx2pdf import convert\n",
    "import os"
   ]
  },
  {
   "cell_type": "code",
   "execution_count": 3,
   "id": "e81f23d9-7e60-41ac-a2f4-3ab0b88db57e",
   "metadata": {},
   "outputs": [],
   "source": [
    "# ruta de carpera donde estan las llaves\n",
    "ruta = open('../ruta.txt')\n",
    "ruta = ruta.readlines()[0]"
   ]
  },
  {
   "cell_type": "code",
   "execution_count": 4,
   "id": "962f402c-e590-4e4b-ba3e-aef5a0718afd",
   "metadata": {},
   "outputs": [
    {
     "data": {
      "text/plain": [
       "<amigocloud.amigocloud.AmigoCloud at 0x1c8335b5948>"
      ]
     },
     "execution_count": 4,
     "metadata": {},
     "output_type": "execute_result"
    }
   ],
   "source": [
    "# leer token\n",
    "acceso = open(ruta + '/_keys/api_amigocloud.key','r')\n",
    "api_token = acceso.readlines()[0]\n",
    "acceso.close()\n",
    "amigocloud = AmigoCloud(token=api_token)\n",
    "amigocloud"
   ]
  },
  {
   "cell_type": "code",
   "execution_count": 5,
   "id": "9927fd9d-3e3d-428a-b17e-ae22382fa758",
   "metadata": {},
   "outputs": [],
   "source": [
    "semana = 33"
   ]
  },
  {
   "cell_type": "code",
   "execution_count": 9,
   "id": "4396649a-34d2-4380-a60f-fb4c97395fc5",
   "metadata": {},
   "outputs": [],
   "source": [
    "query_semana = {'query': 'select * from dataset_318806 where DATE(fecha_registro) >= \\'2023-08-10\\''}\n",
    "project = 'https://app.amigocloud.com/api/v1/projects/33075/sql'\n",
    "select_semana = amigocloud.get(project, query_semana)\n",
    "data_semana = select_semana['data']"
   ]
  },
  {
   "cell_type": "code",
   "execution_count": 10,
   "id": "71a8ce8a-0626-4996-b85c-3a8b69dca03c",
   "metadata": {},
   "outputs": [
    {
     "data": {
      "text/plain": [
       "[{'ubicacion': '0101000020E61000000182DEC089894FC09A46EE44A41B31C0',\n",
       "  'numero_registro': 69,\n",
       "  'fecha_registro': '2023-08-17 18:59:46+00:00',\n",
       "  'servicio_medico': 'Clinica Montero',\n",
       "  'numero_brigada': 16,\n",
       "  'responsable_propiedad': 'Priscila Aguilera',\n",
       "  'amigo_id': 'c2cd5e5885974f659082861258e61f7d',\n",
       "  'nom_ca': '2893 / DAVALOS SILVA MARIO ',\n",
       "  'nom_prop': '1698 / VILLA COPACABANA',\n",
       "  'nom_zona': 'Villa copacabana',\n",
       "  'resp_brigada_1': 'Kolin Ustarez',\n",
       "  'resp_brigada_2': 'Kolin Ustarez',\n",
       "  'doctora_clinica': 'Dra. Maguy Saucedo',\n",
       "  'licenciada_clinica': 'Lic. Maria Rojas'},\n",
       " {'ubicacion': '0101000020E6100000981D3DD9288B4FC0ADC1FBAA5C1231C0',\n",
       "  'numero_registro': 62,\n",
       "  'fecha_registro': '2023-08-11 13:21:56+00:00',\n",
       "  'servicio_medico': 'Clinica Montero',\n",
       "  'numero_brigada': 15,\n",
       "  'responsable_propiedad': 'Marcia Sandoval',\n",
       "  'amigo_id': '3d671b29a6a64ea7ace9bef9262e712d',\n",
       "  'nom_ca': '8226 / MEDRANO NUNEZ JUAN',\n",
       "  'nom_prop': '1537 / PUENTE CAIMANES',\n",
       "  'nom_zona': 'poza-puente caimanes',\n",
       "  'resp_brigada_1': 'Kolin Ustarez',\n",
       "  'resp_brigada_2': 'Marcia Sandoval',\n",
       "  'doctora_clinica': 'Dra. Maguy Saucedo',\n",
       "  'licenciada_clinica': 'Lic. Maria Rojas'},\n",
       " {'ubicacion': '0101000020E61000008A677517CD834FC05A66118AAD0231C0',\n",
       "  'numero_registro': 67,\n",
       "  'fecha_registro': '2023-08-17 14:05:57+00:00',\n",
       "  'servicio_medico': 'Clinica Montero',\n",
       "  'numero_brigada': 16,\n",
       "  'responsable_propiedad': 'Marcia Sandoval',\n",
       "  'amigo_id': '7fbd87b7143943a4abf03c482cf2c1e7',\n",
       "  'nom_ca': '8226 / MEDRANO NUNEZ JUAN',\n",
       "  'nom_prop': '1537 / PUENTE CAIMANES',\n",
       "  'nom_zona': 'Villa copacabana',\n",
       "  'resp_brigada_1': 'Kolin Ustarez',\n",
       "  'resp_brigada_2': 'Kolin Ustarez',\n",
       "  'doctora_clinica': 'Dra. Maguy Saucedo',\n",
       "  'licenciada_clinica': 'Lic. Maria Rojas'},\n",
       " {'ubicacion': '0101000020E61000006EB598E9A8894FC0785FB763451C31C0',\n",
       "  'numero_registro': 70,\n",
       "  'fecha_registro': '2023-08-17 20:17:57+00:00',\n",
       "  'servicio_medico': 'Clinica Montero',\n",
       "  'numero_brigada': 16,\n",
       "  'responsable_propiedad': 'Priscila Aguilera',\n",
       "  'amigo_id': 'b937a3f4d5f147798f9a8f02971a15fb',\n",
       "  'nom_ca': '2042 / CKOLO ESCALERA ABIGAIL',\n",
       "  'nom_prop': '1944/ VILLA COPACABANA CKOLO',\n",
       "  'nom_zona': 'Villa copacabana',\n",
       "  'resp_brigada_1': 'Kolin Ustarez',\n",
       "  'resp_brigada_2': 'Kolin Ustarez',\n",
       "  'doctora_clinica': 'Dra. Maguy Saucedo',\n",
       "  'licenciada_clinica': 'Lic. Maria Rojas'},\n",
       " {'ubicacion': '0101000020E610000071AA5A7798894FC018AEC4F29D1231C0',\n",
       "  'numero_registro': 68,\n",
       "  'fecha_registro': '2023-08-17 17:07:05+00:00',\n",
       "  'servicio_medico': 'Clinica Montero',\n",
       "  'numero_brigada': 16,\n",
       "  'responsable_propiedad': 'Marcia Sandoval',\n",
       "  'amigo_id': '165b1adb89f147ab8159719f1c92e8c2',\n",
       "  'nom_ca': '153 / ALVAREZ DURAN FILIBERTO ',\n",
       "  'nom_prop': '1505 / SAN JOSE LOS BATOS',\n",
       "  'nom_zona': 'poza-puente caimanes',\n",
       "  'resp_brigada_1': 'Kolin Ustarez',\n",
       "  'resp_brigada_2': 'Kolin Ustarez',\n",
       "  'doctora_clinica': 'Dra. Maguy Saucedo',\n",
       "  'licenciada_clinica': 'Lic. Maria Rojas'},\n",
       " {'ubicacion': '0101000020E61000008A99D8D7158A4FC0A7A0A2EA571431C0',\n",
       "  'numero_registro': 63,\n",
       "  'fecha_registro': '2023-08-11 15:13:59+00:00',\n",
       "  'servicio_medico': 'Clinica Montero',\n",
       "  'numero_brigada': 15,\n",
       "  'responsable_propiedad': 'Marcia Sandoval',\n",
       "  'amigo_id': 'ea6516dd94ba4a86b7ff7702410898a4',\n",
       "  'nom_ca': '8227 / MEDRANO NUNEZ REMBERTO',\n",
       "  'nom_prop': '1537 / PUENTE CAIMANES',\n",
       "  'nom_zona': 'poza-puente caimanes',\n",
       "  'resp_brigada_1': 'Kolin Ustarez',\n",
       "  'resp_brigada_2': 'Marcia Sandoval',\n",
       "  'doctora_clinica': 'Dra. Maguy Saucedo',\n",
       "  'licenciada_clinica': 'Lic. Maria Rojas'},\n",
       " {'ubicacion': '0101000020E61000005E6E8B8DD4894FC026DD3B0F931331C0',\n",
       "  'numero_registro': 64,\n",
       "  'fecha_registro': '2023-08-11 17:10:01+00:00',\n",
       "  'servicio_medico': 'Clinica Montero',\n",
       "  'numero_brigada': 15,\n",
       "  'responsable_propiedad': 'Marcia Sandoval',\n",
       "  'amigo_id': '8183b6d22db3464889cd64dbb51fc389',\n",
       "  'nom_ca': '65 / AGUILAR CESPEDES VALERIO MODESTO',\n",
       "  'nom_prop': '1537 / PUENTE CAIMANES',\n",
       "  'nom_zona': 'poza-puente caimanes',\n",
       "  'resp_brigada_1': 'Kolin Ustarez',\n",
       "  'resp_brigada_2': 'Marcia Sandoval',\n",
       "  'doctora_clinica': 'Dra. Maguy Saucedo',\n",
       "  'licenciada_clinica': 'Lic. Maria Rojas'},\n",
       " {'ubicacion': '0101000020E6100000FCDDE0B0D9894FC0F0AFD469931331C0',\n",
       "  'numero_registro': 65,\n",
       "  'fecha_registro': '2023-08-11 18:19:20+00:00',\n",
       "  'servicio_medico': 'Clinica Montero',\n",
       "  'numero_brigada': 15,\n",
       "  'responsable_propiedad': 'Marcia Sandoval',\n",
       "  'amigo_id': 'bd9a48042e1b40dab4d3ec9ed54052f5',\n",
       "  'nom_ca': '65 / AGUILAR CESPEDES VALERIO MODESTO',\n",
       "  'nom_prop': '1537 / PUENTE CAIMANES',\n",
       "  'nom_zona': 'poza-puente caimanes',\n",
       "  'resp_brigada_1': 'Kolin Ustarez',\n",
       "  'resp_brigada_2': 'Marcia Sandoval',\n",
       "  'doctora_clinica': 'Dra. Maguy Saucedo',\n",
       "  'licenciada_clinica': 'Lic. Maria Rojas'},\n",
       " {'ubicacion': '0101000020E610000066F56970B6894FC03CF2BD75B41231C0',\n",
       "  'numero_registro': 66,\n",
       "  'fecha_registro': '2023-08-11 18:54:54+00:00',\n",
       "  'servicio_medico': 'Clinica Montero',\n",
       "  'numero_brigada': 15,\n",
       "  'responsable_propiedad': 'Marcia Sandoval',\n",
       "  'amigo_id': '91314d029c8045c6bd7c710eeece2c2d',\n",
       "  'nom_ca': '153 / ALVAREZ DURAN FILIBERTO ',\n",
       "  'nom_prop': '1505 / SAN JOSE LOS BATOS',\n",
       "  'nom_zona': 'poza-puente caimanes',\n",
       "  'resp_brigada_1': 'Kolin Ustarez',\n",
       "  'resp_brigada_2': 'Marcia Sandoval',\n",
       "  'doctora_clinica': 'Dra. Maguy Saucedo',\n",
       "  'licenciada_clinica': 'Lic. Maria Rojas'}]"
      ]
     },
     "execution_count": 10,
     "metadata": {},
     "output_type": "execute_result"
    }
   ],
   "source": [
    "data_semana"
   ]
  },
  {
   "cell_type": "code",
   "execution_count": 11,
   "id": "bec1b094-757e-49c0-9602-36794699c056",
   "metadata": {},
   "outputs": [],
   "source": [
    "for i in data_semana:\n",
    "    id_insp = i['numero_registro']\n",
    "    # DATOS DE LAS INPECCION\n",
    "    query = {'query': 'select * from dataset_318806 where numero_registro={id}'.format(id=id_insp)}\n",
    "    project = 'https://app.amigocloud.com/api/v1/projects/33075/sql'\n",
    "    select = amigocloud.get(project, query)\n",
    "    data = select['data'][0]\n",
    "    data['fecha_registro'] = datetime.strptime(data['fecha_registro'][0:10], '%Y-%m-%d').strftime('%d/%m/%Y')\n",
    "    data['nom_ca'] = data['nom_ca'].title()\n",
    "    data['nom_zona'] = data['nom_zona'].title()\n",
    "    canhero = collections.namedtuple(\"canhero\", data.keys())(*data.values())\n",
    "    \n",
    "    query = {'query': 'select * from dataset_318811 where sexo=\\'Masculino\\' and ciclo_de_vida=\\'ADULTO\\' and prop_to_visit = \\'{amigo_id}\\''.format(amigo_id=canhero.amigo_id)}\n",
    "    project = 'https://app.amigocloud.com/api/v1/projects/33075/sql'\n",
    "    select = amigocloud.get(project, query)\n",
    "    data = select['data']\n",
    "    \n",
    "    trabajadores = []\n",
    "    for i in data:\n",
    "        i['nom_trabajador'] = i['nom_trabajador'].title()\n",
    "        i['fecha_nacimiento'] = datetime.strptime(i['fecha_nacimiento'][0:10], '%Y-%m-%d').strftime('%d/%m/%Y')\n",
    "        if i['otro_antecedente'] is None:\n",
    "            i['otro_antecedente'] = ''\n",
    "        if i['enfermedad_actual'] is None:\n",
    "            i['enfermedad_actual'] = ''\n",
    "        if i['otra_exploracion'] is None:\n",
    "            i['otra_exploracion'] = ''\n",
    "        if i['observaciones_diagnostico'] is None:\n",
    "            i['observaciones_diagnostico'] = ''\n",
    "        if i['tratamiento'] is None:\n",
    "            i['tratamiento'] = ''\n",
    "        if i['observaciones_tratamiento'] is None:\n",
    "            i['observaciones_tratamiento'] = ''\n",
    "        trab = collections.namedtuple(\"trabajador\", i.keys())(*i.values())\n",
    "        trabajadores.append(trab)\n",
    "    \n",
    "    for trabajador in trabajadores:\n",
    "        doc = DocxTemplate(ruta + '/templates/tpl_rpt_examen_seguimiento-bpl.docx')\n",
    "        context = {'canhero':canhero, 'trabajador':trabajador}\n",
    "        nom_file = canhero.nom_ca.replace('/', '-').strip() + ' - ' + str(trabajador.number_registro) + ' - ' + trabajador.nom_trabajador\n",
    "        doc.render(context)\n",
    "        doc.save(nom_file + '.docx')"
   ]
  },
  {
   "cell_type": "code",
   "execution_count": null,
   "id": "743164b7-4274-48e2-8634-441044cf28c5",
   "metadata": {},
   "outputs": [],
   "source": []
  },
  {
   "cell_type": "code",
   "execution_count": null,
   "id": "6c7a58bb-a9ca-4c8d-a36d-65336ad9c6b2",
   "metadata": {},
   "outputs": [],
   "source": []
  },
  {
   "cell_type": "code",
   "execution_count": null,
   "id": "38c7cd1b-4864-45b6-84be-411a99ff7ce8",
   "metadata": {},
   "outputs": [],
   "source": []
  },
  {
   "cell_type": "code",
   "execution_count": null,
   "id": "acad2c33-f957-448b-94e4-51badd88186e",
   "metadata": {},
   "outputs": [],
   "source": []
  },
  {
   "cell_type": "code",
   "execution_count": null,
   "id": "09e277bb-cb14-4051-b35a-3751ddc5bfcf",
   "metadata": {},
   "outputs": [],
   "source": []
  },
  {
   "cell_type": "code",
   "execution_count": null,
   "id": "f03fc01e-3e8f-453a-a72d-88d72f286e3b",
   "metadata": {},
   "outputs": [],
   "source": []
  },
  {
   "cell_type": "code",
   "execution_count": null,
   "id": "7ac39953-f355-45e1-a3ea-1b750df61be6",
   "metadata": {},
   "outputs": [],
   "source": []
  },
  {
   "cell_type": "code",
   "execution_count": null,
   "id": "270629f2-3b16-4fcc-962e-2ccafc7a4c0b",
   "metadata": {},
   "outputs": [],
   "source": []
  },
  {
   "cell_type": "code",
   "execution_count": 84,
   "id": "52bdef62-0f4c-4f23-88a4-26a95baa58c9",
   "metadata": {},
   "outputs": [],
   "source": [
    "id_insp = 1\n",
    "# DATOS DE LAS INPECCION\n",
    "query = {'query': 'select * from dataset_318806 where numero_registro={id}'.format(id=id_insp)}\n",
    "project = 'https://app.amigocloud.com/api/v1/projects/33075/sql'\n",
    "select = amigocloud.get(project, query)\n",
    "data = select['data'][0]\n",
    "data['fecha_registro'] = datetime.strptime(data['fecha_registro'][0:10], '%Y-%m-%d').strftime('%d/%m/%Y')\n",
    "data['nom_ca'] = data['nom_ca'].title()\n",
    "canhero = collections.namedtuple(\"canhero\", data.keys())(*data.values())"
   ]
  },
  {
   "cell_type": "code",
   "execution_count": 86,
   "id": "77b0685f-f10c-4814-acaa-540441564125",
   "metadata": {},
   "outputs": [],
   "source": [
    "query = {'query': 'select * from dataset_318811 where prop_to_visit = \\'{amigo_id}\\''.format(amigo_id=canhero.amigo_id)}\n",
    "project = 'https://app.amigocloud.com/api/v1/projects/33075/sql'\n",
    "select = amigocloud.get(project, query)\n",
    "data = select['data']"
   ]
  },
  {
   "cell_type": "code",
   "execution_count": 87,
   "id": "e78f4943-1fd6-4f6d-bcb5-377759f0cfe6",
   "metadata": {},
   "outputs": [],
   "source": [
    "trabajadores = []\n",
    "for i in data:\n",
    "    i['fecha_nacimiento'] = datetime.strptime(i['fecha_nacimiento'][0:10], '%Y-%m-%d').strftime('%d/%m/%Y')\n",
    "    if i['otro_antecedente'] is None:\n",
    "        i['otro_antecedente'] = ''\n",
    "    if i['enfermedad_actual'] is None:\n",
    "        i['enfermedad_actual'] = ''\n",
    "    if i['otra_exploracion'] is None:\n",
    "        i['otra_exploracion'] = ''\n",
    "    if i['observaciones_diagnostico'] is None:\n",
    "        i['observaciones_diagnostico'] = ''\n",
    "    if i['tratamiento'] is None:\n",
    "        i['tratamiento'] = ''\n",
    "    if i['observaciones_tratamiento'] is None:\n",
    "        i['observaciones_tratamiento'] = ''\n",
    "    trab = collections.namedtuple(\"trabajador\", i.keys())(*i.values())\n",
    "    trabajadores.append(trab)"
   ]
  },
  {
   "cell_type": "code",
   "execution_count": 114,
   "id": "d8550eb2-9476-4001-8bd1-d59412f98a5a",
   "metadata": {},
   "outputs": [],
   "source": [
    "for trabajador in trabajadores:\n",
    "    doc = DocxTemplate(ruta + '/templates/tpl_rpt_examen_seguimiento.docx')\n",
    "    context = {'canhero':canhero, 'trabajador':trabajador}\n",
    "    nom_file = canhero.nom_ca.replace('/', '-').strip() + ' - ' + str(trabajador.number_registro) + ' - ' + trabajador.nom_trabajador\n",
    "    doc.render(context)\n",
    "    doc.save(nom_file + '.docx')"
   ]
  },
  {
   "cell_type": "code",
   "execution_count": null,
   "id": "e14d45b2-2490-40e3-b8fa-e3777eb5bd8c",
   "metadata": {},
   "outputs": [],
   "source": []
  }
 ],
 "metadata": {
  "kernelspec": {
   "display_name": "Python 3 (ipykernel)",
   "language": "python",
   "name": "python3"
  },
  "language_info": {
   "codemirror_mode": {
    "name": "ipython",
    "version": 3
   },
   "file_extension": ".py",
   "mimetype": "text/x-python",
   "name": "python",
   "nbconvert_exporter": "python",
   "pygments_lexer": "ipython3",
   "version": "3.7.16"
  }
 },
 "nbformat": 4,
 "nbformat_minor": 5
}
