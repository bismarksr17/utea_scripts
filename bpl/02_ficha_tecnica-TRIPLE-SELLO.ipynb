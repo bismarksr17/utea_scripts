{
 "cells": [
  {
   "cell_type": "code",
   "execution_count": 1,
   "id": "419ea9da-36e5-4ec6-9e4d-5371b6fb7110",
   "metadata": {},
   "outputs": [],
   "source": [
    "import sys\n",
    "sys.path.append('../_amigocloud')"
   ]
  },
  {
   "cell_type": "code",
   "execution_count": 2,
   "id": "cc0fb556-6854-4cec-9b4c-3ae75709f1e8",
   "metadata": {},
   "outputs": [],
   "source": [
    "from werkzeug.wrappers import Request, Response\n",
    "#from flask import Flask, render_template\n",
    "from jinja2 import Template\n",
    "\n",
    "#from datetime import date\n",
    "from datetime import datetime, timedelta\n",
    "\n",
    "import collections\n",
    "from amigocloud import AmigoCloud\n",
    "\n",
    "from docxtpl import DocxTemplate\n",
    "import docxtpl\n",
    "from docx.shared import Mm\n",
    "import requests\n",
    "\n",
    "from docx2pdf import convert\n",
    "import os"
   ]
  },
  {
   "cell_type": "code",
   "execution_count": 3,
   "id": "11301074-5f86-44ce-ac3d-c2036dd8a092",
   "metadata": {},
   "outputs": [
    {
     "data": {
      "text/plain": [
       "<amigocloud.AmigoCloud at 0x1acb52144c0>"
      ]
     },
     "execution_count": 3,
     "metadata": {},
     "output_type": "execute_result"
    }
   ],
   "source": [
    "# ruta de carpera donde estan las llaves\n",
    "ruta = open('../ruta.txt')\n",
    "ruta = ruta.readlines()[0]\n",
    "\n",
    "# leer token\n",
    "acceso = open(ruta + '/_keys/api_amigocloud.key','r')\n",
    "api_token = acceso.readlines()[0]\n",
    "acceso.close()\n",
    "amigocloud = AmigoCloud(token=api_token)\n",
    "amigocloud"
   ]
  },
  {
   "cell_type": "code",
   "execution_count": 4,
   "id": "44f145a0-b9ec-4923-b646-ccafba4eac5c",
   "metadata": {},
   "outputs": [],
   "source": [
    "# convierte de formato YYYY-mm-dd H:M:S+z a d/m/YYYY\n",
    "def convertir_formato_fecha(fecha):\n",
    "    new_formato = datetime.strptime(fecha, \"%Y-%m-%d %H:%M:%S%z\").strftime(\"%d/%m/%Y\")\n",
    "    return new_formato"
   ]
  },
  {
   "cell_type": "markdown",
   "id": "7b1a9e00-6118-476c-956e-2f0d082bef6f",
   "metadata": {},
   "source": [
    "## ejecutar query"
   ]
  },
  {
   "cell_type": "code",
   "execution_count": 5,
   "id": "2b1e151f-f902-4c8a-9161-b7b450e377f8",
   "metadata": {},
   "outputs": [],
   "source": [
    "# ejecuta cualquier query sql en el proyecto que se le indique\n",
    "# requiere el id de proyecto, query a ejecutar y tipo solicitud (get o post)\n",
    "def ejecutar_query_sql(id_project, query, tipo_sql):\n",
    "    # define la url del proyecto para ejecutar el querry\n",
    "    url_proyecto_sql = f'https://app.amigocloud.com/api/v1/projects/{id_project}/sql'\n",
    "    # crea la estructura de query para amigocloud\n",
    "    query_sql = {'query': query}\n",
    "    # variable para almacenar resultado\n",
    "    resultado_get = ''\n",
    "    # eleige que tipo de solicitud se realizara (get o post)\n",
    "    if tipo_sql == 'get': \n",
    "        resultado_get = amigocloud.get(url_proyecto_sql, query_sql)\n",
    "    elif tipo_sql == 'post':\n",
    "        resultado_get = amigocloud.post(url_proyecto_sql, query_sql)\n",
    "    else:\n",
    "        resultado_get = 'Se a seleccionado un tipo de solicitud erroneo.'\n",
    "    return resultado_get"
   ]
  },
  {
   "cell_type": "markdown",
   "id": "44a56cc9-c68a-42e2-a8ae-03a3232c782b",
   "metadata": {},
   "source": [
    "## ejecuta query segun id_query (ejecucion de queryes de un proyecto)"
   ]
  },
  {
   "cell_type": "code",
   "execution_count": 6,
   "id": "cb013a01-11f6-4115-b0b4-8105f499752c",
   "metadata": {},
   "outputs": [],
   "source": [
    "# ejecuta un query que esta almacenado en un proyecto de amigocloud (generalmente un update),\n",
    "# requiere id de proyecto e id de query\n",
    "# retorna cuantas filas fueron afectadas\n",
    "def ejecutar_query_por_id(id_project, id_query, tipo_sql):\n",
    "    # obtiene el query basado en el id_project y el id_query\n",
    "    get_query = amigocloud.get(f'https://app.amigocloud.com/api/v1/projects/{id_project}/queries/{id_query}')\n",
    "    # se extrae solo el texto del query\n",
    "    query = get_query['query']\n",
    "    # ejecuta el query_sql con metodo post y guarda la respuesta\n",
    "    respuesta_post = ejecutar_query_sql(id_project, query, tipo_sql)\n",
    "    # retorna el numero de filas afectadas por el query\n",
    "    return respuesta_post"
   ]
  },
  {
   "cell_type": "markdown",
   "id": "31850cad-be70-43a3-8de6-8ae8d2cf0edc",
   "metadata": {},
   "source": [
    "## convertir dic en obj"
   ]
  },
  {
   "cell_type": "code",
   "execution_count": 7,
   "id": "f91eea4b-af04-46e6-a78f-a533ff52d8e3",
   "metadata": {},
   "outputs": [],
   "source": [
    "# convierte un dict a un obj\n",
    "# recibe el dict y el nombre con el que se creara el obj\n",
    "def convertir_dict_obj(diccionario, name):\n",
    "    return collections.namedtuple(name, diccionario.keys())(*diccionario.values())"
   ]
  },
  {
   "cell_type": "code",
   "execution_count": null,
   "id": "3b1d354a-f683-4495-b1b0-7c75d9889ae5",
   "metadata": {},
   "outputs": [],
   "source": []
  },
  {
   "cell_type": "code",
   "execution_count": 10,
   "id": "2733375e-edb5-45cf-83ec-8995e14e1775",
   "metadata": {},
   "outputs": [],
   "source": [
    "id_proyecto = 34716\n",
    "query_cargar_nom_prop = 6490"
   ]
  },
  {
   "cell_type": "code",
   "execution_count": 11,
   "id": "8c990719-495d-45a2-9c6e-219aa671c177",
   "metadata": {},
   "outputs": [
    {
     "data": {
      "text/plain": [
       "{'query': \"update dataset_351987\\r\\nset \\r\\n    propiedad = cat.unidad_01 || ' / ' || cat.unidad_02\\r\\nfrom dataset_352275 cat where ST_INTERSECTS(\\r\\n    ubicacion, \\r\\n    cat.wkb_geometry)\",\n",
       " 'count': 1}"
      ]
     },
     "execution_count": 11,
     "metadata": {},
     "output_type": "execute_result"
    }
   ],
   "source": [
    "ejecutar_query_por_id(id_proyecto, query_cargar_nom_prop, 'post')"
   ]
  },
  {
   "cell_type": "code",
   "execution_count": 12,
   "id": "09c92b54-6437-463e-98b5-e625148046cf",
   "metadata": {},
   "outputs": [],
   "source": [
    "query = f'select * from dataset_351987 where estado_reportes = false'\n",
    "res = ejecutar_query_sql(id_proyecto, query, 'get')\n",
    "res = res['data']"
   ]
  },
  {
   "cell_type": "code",
   "execution_count": 13,
   "id": "cf5ca67d-02e7-463c-b419-1c6c25643a30",
   "metadata": {},
   "outputs": [
    {
     "data": {
      "text/plain": [
       "[{'amigo_id': 'eee079564997400dae989d5c97df8af0',\n",
       "  'fecha_de_registro': '2024-08-23 14:31:57+00:00',\n",
       "  'id': 1,\n",
       "  'ubicacion': '0101000020E6100000D9637D5E4C994FC07FCD284CCE3D31C0',\n",
       "  'canhero': '1530 / C.I.T.T.C.A.',\n",
       "  'propiedad': '299 / C.I.T.T.C.A',\n",
       "  'zona': 'Saavedra',\n",
       "  'f1': False,\n",
       "  'f2': False,\n",
       "  'f3': True,\n",
       "  'f4': True,\n",
       "  'f5': False,\n",
       "  'f6': False,\n",
       "  'f7': True,\n",
       "  'f8': True,\n",
       "  'f9': False,\n",
       "  'observaciones': 'Sin observaciones',\n",
       "  'responsable_tecnico': 'KOLIN USTAREZ',\n",
       "  'estado_reportes': False}]"
      ]
     },
     "execution_count": 13,
     "metadata": {},
     "output_type": "execute_result"
    }
   ],
   "source": [
    "res"
   ]
  },
  {
   "cell_type": "code",
   "execution_count": 14,
   "id": "d5d4231c-80e6-4bb4-af6c-ade99f7e5607",
   "metadata": {},
   "outputs": [],
   "source": [
    "reg = res[0]"
   ]
  },
  {
   "cell_type": "code",
   "execution_count": 16,
   "id": "f9570c14-a096-4f90-a03e-93edf2971622",
   "metadata": {},
   "outputs": [],
   "source": [
    "reg['fecha_de_registro'] = convertir_formato_fecha(reg['fecha_de_registro'])"
   ]
  },
  {
   "cell_type": "code",
   "execution_count": 21,
   "id": "54b8077c-6068-4252-880b-ff7a445443d8",
   "metadata": {},
   "outputs": [],
   "source": [
    "ficha = convertir_dict_obj(reg, 'ficha')"
   ]
  },
  {
   "cell_type": "code",
   "execution_count": 22,
   "id": "94097491-bd27-449c-b8b3-e2908fdcaab8",
   "metadata": {},
   "outputs": [
    {
     "data": {
      "text/plain": [
       "ficha(amigo_id='eee079564997400dae989d5c97df8af0', fecha_de_registro='23/08/2024', id=1, ubicacion='0101000020E6100000D9637D5E4C994FC07FCD284CCE3D31C0', canhero='1530 / C.I.T.T.C.A.', propiedad='299 / C.I.T.T.C.A', zona='Saavedra', f1=False, f2=False, f3=True, f4=True, f5=False, f6=False, f7=True, f8=True, f9=False, observaciones='Sin observaciones', responsable_tecnico='KOLIN USTAREZ', estado_reportes=False)"
      ]
     },
     "execution_count": 22,
     "metadata": {},
     "output_type": "execute_result"
    }
   ],
   "source": [
    "ficha"
   ]
  },
  {
   "cell_type": "code",
   "execution_count": null,
   "id": "08d0a609-a545-4b13-8ecd-ad7cf450711c",
   "metadata": {},
   "outputs": [],
   "source": []
  },
  {
   "cell_type": "code",
   "execution_count": 25,
   "id": "162be056-1d3e-4b2e-977e-5766fa938122",
   "metadata": {},
   "outputs": [],
   "source": [
    "doc = DocxTemplate(ruta + \"/templates/tpl_rpt_ficha_tec_agricola-triple-sello_bpl.docx\")\n",
    "context = { 'ficha' : ficha }\n",
    "\n",
    "doc.render(context)\n",
    "# formato de nombre de archivo: \"123_CQ_01-01-2022_NOMBRE\"\n",
    "fech = ficha.fecha_de_registro.replace('/','-')\n",
    "\n",
    "nom = ficha.canhero.replace(' / ','_')\n",
    "file_name = fech + '_FTTS_' + nom\n",
    "\n",
    "doc.save(ruta + '/informes/_' + file_name + '.docx')"
   ]
  },
  {
   "cell_type": "code",
   "execution_count": null,
   "id": "9bfb005f-2733-4ef3-845f-cdf3089a23a5",
   "metadata": {},
   "outputs": [],
   "source": []
  },
  {
   "cell_type": "code",
   "execution_count": null,
   "id": "beadaa13-5671-4a07-aad5-99be8adf2f5b",
   "metadata": {},
   "outputs": [],
   "source": []
  },
  {
   "cell_type": "code",
   "execution_count": null,
   "id": "f11e6e49-c2c1-4da6-9f90-388fcd008875",
   "metadata": {},
   "outputs": [],
   "source": []
  },
  {
   "cell_type": "code",
   "execution_count": null,
   "id": "6edd25e9-4910-4ff9-9f80-ab1488e0e118",
   "metadata": {},
   "outputs": [],
   "source": []
  }
 ],
 "metadata": {
  "kernelspec": {
   "display_name": "Python 3 (ipykernel)",
   "language": "python",
   "name": "python3"
  },
  "language_info": {
   "codemirror_mode": {
    "name": "ipython",
    "version": 3
   },
   "file_extension": ".py",
   "mimetype": "text/x-python",
   "name": "python",
   "nbconvert_exporter": "python",
   "pygments_lexer": "ipython3",
   "version": "3.10.13"
  }
 },
 "nbformat": 4,
 "nbformat_minor": 5
}
