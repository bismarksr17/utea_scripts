{
 "cells": [
  {
   "cell_type": "code",
   "execution_count": 2,
   "id": "de3043b1-131c-4fcd-979b-8fb9ec9843a2",
   "metadata": {},
   "outputs": [],
   "source": [
    "# IMPORTS\n",
    "import pandas as pd\n",
    "\n",
    "import tkinter as tk\n",
    "from tkinter import filedialog as fd\n",
    "\n",
    "import logging\n",
    "import logging.config\n",
    "import pymysql\n",
    "import paramiko\n",
    "from paramiko import SSHClient\n",
    "from sshtunnel import SSHTunnelForwarder\n",
    "\n",
    "import ast\n",
    "\n",
    "import re\n",
    "from unidecode import unidecode\n",
    "\n",
    "from datetime import datetime\n",
    "\n",
    "import bcrypt"
   ]
  },
  {
   "cell_type": "code",
   "execution_count": 3,
   "id": "12e6fe4a-c60c-4d5a-b9d3-a392353cbf75",
   "metadata": {},
   "outputs": [],
   "source": [
    "# ruta de carpera donde estan las llaves\n",
    "ruta = open('../ruta.txt')\n",
    "ruta = ruta.readlines()[0]\n",
    "\n",
    "# cargar datos para conectar a AGROCITTCA\n",
    "data = open(ruta + '/_keys/agrocittca.data','r')\n",
    "password = data.readlines()[0]\n",
    "data.close()\n",
    "\n",
    "# extraccion de los datos\n",
    "datos_cnx = ast.literal_eval(password)\n",
    "\n",
    "# lectura de llave ssh\n",
    "mypkey = paramiko.RSAKey.from_private_key_file(ruta + '/_keys/llave_db_agrocittca', password='micontrasena')\n",
    "\n",
    "# ssh variables\n",
    "ssh_host = datos_cnx['ssh_host']\n",
    "ssh_port = datos_cnx['ssh_port']\n",
    "localhost = datos_cnx['localhost']\n",
    "localport = datos_cnx['localport']\n",
    "ssh_user = datos_cnx['ssh_user']\n",
    "\n",
    "# database variables\n",
    "sql_username = datos_cnx['sql_username']\n",
    "sql_password = datos_cnx['sql_password']\n",
    "sql_main_database = datos_cnx['sql_main_database']"
   ]
  },
  {
   "cell_type": "code",
   "execution_count": 4,
   "id": "c0e02466-78a8-41eb-b7a7-7f4670ffa74c",
   "metadata": {},
   "outputs": [],
   "source": [
    "# funcion para ejecutar una script SQL\n",
    "# estado = 0 para select\n",
    "# estado = 1 para update\n",
    "def dbQuery(q, estado = 0):\n",
    "    \"\"\" access the database over the SSH tunnel and execute the query \"\"\"\n",
    "    logger = logging.getLogger()\n",
    "    logger.debug(\"Connecting to reporting server...\", end=\"\")\n",
    "    with SSHTunnelForwarder(\n",
    "        (ssh_host, ssh_port),\n",
    "        ssh_username=ssh_user,\n",
    "        ssh_pkey=mypkey,\n",
    "        remote_bind_address=(localhost, 3306)) as tunnel:\n",
    "        logger.debug(\"Connected\")\n",
    "        logger.debug(\"Connecting to database...\")\n",
    "        try:\n",
    "            conn = pymysql.connect(\n",
    "                host='127.0.0.1', \n",
    "                user=sql_username,\n",
    "                passwd=sql_password,\n",
    "                db=sql_main_database,\n",
    "                port=tunnel.local_bind_port,\n",
    "                cursorclass=pymysql.cursors.DictCursor)\n",
    "            logger.debug(\"Connected\")\n",
    "            logger.debug(\"Executing query...\")\n",
    "            cursor = conn.cursor()\n",
    "            cursor.execute(q)\n",
    "            if estado==1:\n",
    "                conn.commit()  # Commit the transaction\n",
    "            data = cursor.fetchall()\n",
    "            logger.debug(\"Done\")\n",
    "        finally:\n",
    "            conn.close()\n",
    "    return data"
   ]
  },
  {
   "cell_type": "code",
   "execution_count": 5,
   "id": "a16b7e93-c761-409a-a8ce-99f082cb12c7",
   "metadata": {},
   "outputs": [],
   "source": [
    "# GENERAR CODIGO SLUG, CODIGO UNICO\n",
    "def abbreviate_para_slug(name):\n",
    "    # Eliminar acentos y otros caracteres especiales\n",
    "    name = unidecode(name)\n",
    "    # Mantener solo caracteres alfanuméricos, espacios y guiones\n",
    "    name = re.sub(r\"[^\\w\\s-]\", \"\", name)\n",
    "    # Convertir a minúsculas\n",
    "    name = name.lower()\n",
    "    # Reemplazar espacios y guiones por un solo guión\n",
    "    abbreviated = re.sub(r\"[\\s-]+\", \"-\", name)\n",
    "    return abbreviated.strip('-')"
   ]
  },
  {
   "cell_type": "code",
   "execution_count": 6,
   "id": "76ecb2de-dd7f-4ca5-9907-20915aec22fc",
   "metadata": {},
   "outputs": [],
   "source": [
    "file_name = 'G:/OneDrive - Ingenio Azucarero Guabira S.A/AGRO-CITTCA/DATA PARA CARGAR/PROPIEDADES.XLSX'"
   ]
  },
  {
   "cell_type": "code",
   "execution_count": 7,
   "id": "e4798ea5-e83d-42f3-ac3a-ca69ff43e089",
   "metadata": {},
   "outputs": [],
   "source": [
    "data_lotes = pd.read_excel(file_name, sheet_name='DATA_LOTES')"
   ]
  },
  {
   "cell_type": "code",
   "execution_count": 8,
   "id": "f0e01126-18c9-40f4-a8fb-8f060dbf5cdd",
   "metadata": {},
   "outputs": [
    {
     "data": {
      "text/plain": [
       "Index(['codigo', 'nombre', 'area', 'fs', 'soca', 'estado_lote', 'rend',\n",
       "       'propiedad_id', 'usuario_id', 'variedad_id', 'textura_id', 'Columna2',\n",
       "       'Columna1', 'unidad_01', 'unidad_02', 'unidad_03', 'unidad_04',\n",
       "       'variedad', 'fs2', 'fsc23', 'textura', 'financia', 'cultivo', 'zona'],\n",
       "      dtype='object')"
      ]
     },
     "execution_count": 8,
     "metadata": {},
     "output_type": "execute_result"
    }
   ],
   "source": [
    "data_lotes.columns"
   ]
  },
  {
   "cell_type": "code",
   "execution_count": 9,
   "id": "8456e817-993f-4cad-bbc5-942bb9a3520a",
   "metadata": {},
   "outputs": [],
   "source": [
    "lotes = data_lotes[['codigo', 'nombre', 'area', 'fs', 'soca', 'estado_lote', 'rend',\n",
    "       'propiedad_id', 'usuario_id', 'variedad_id', 'textura_id']]"
   ]
  },
  {
   "cell_type": "code",
   "execution_count": 10,
   "id": "02002807-79ba-4d63-be5b-75896bd96d86",
   "metadata": {},
   "outputs": [
    {
     "data": {
      "text/html": [
       "<div>\n",
       "<style scoped>\n",
       "    .dataframe tbody tr th:only-of-type {\n",
       "        vertical-align: middle;\n",
       "    }\n",
       "\n",
       "    .dataframe tbody tr th {\n",
       "        vertical-align: top;\n",
       "    }\n",
       "\n",
       "    .dataframe thead th {\n",
       "        text-align: right;\n",
       "    }\n",
       "</style>\n",
       "<table border=\"1\" class=\"dataframe\">\n",
       "  <thead>\n",
       "    <tr style=\"text-align: right;\">\n",
       "      <th></th>\n",
       "      <th>codigo</th>\n",
       "      <th>nombre</th>\n",
       "      <th>area</th>\n",
       "      <th>fs</th>\n",
       "      <th>soca</th>\n",
       "      <th>estado_lote</th>\n",
       "      <th>rend</th>\n",
       "      <th>propiedad_id</th>\n",
       "      <th>usuario_id</th>\n",
       "      <th>variedad_id</th>\n",
       "      <th>textura_id</th>\n",
       "    </tr>\n",
       "  </thead>\n",
       "  <tbody>\n",
       "    <tr>\n",
       "      <th>0</th>\n",
       "      <td>000020000L1</td>\n",
       "      <td>L1</td>\n",
       "      <td>0.80</td>\n",
       "      <td>20170920</td>\n",
       "      <td>5</td>\n",
       "      <td>3</td>\n",
       "      <td>57</td>\n",
       "      <td>361</td>\n",
       "      <td>18354</td>\n",
       "      <td>14</td>\n",
       "      <td>5</td>\n",
       "    </tr>\n",
       "    <tr>\n",
       "      <th>1</th>\n",
       "      <td>000040000L8</td>\n",
       "      <td>L8</td>\n",
       "      <td>1.22</td>\n",
       "      <td>0</td>\n",
       "      <td>122</td>\n",
       "      <td>4</td>\n",
       "      <td>57</td>\n",
       "      <td>362</td>\n",
       "      <td>1843</td>\n",
       "      <td>16</td>\n",
       "      <td>5</td>\n",
       "    </tr>\n",
       "    <tr>\n",
       "      <th>2</th>\n",
       "      <td>000040000L6</td>\n",
       "      <td>L6</td>\n",
       "      <td>1.33</td>\n",
       "      <td>0</td>\n",
       "      <td>122</td>\n",
       "      <td>4</td>\n",
       "      <td>57</td>\n",
       "      <td>362</td>\n",
       "      <td>1843</td>\n",
       "      <td>16</td>\n",
       "      <td>5</td>\n",
       "    </tr>\n",
       "    <tr>\n",
       "      <th>3</th>\n",
       "      <td>000040000L3</td>\n",
       "      <td>L3</td>\n",
       "      <td>2.41</td>\n",
       "      <td>0</td>\n",
       "      <td>122</td>\n",
       "      <td>4</td>\n",
       "      <td>57</td>\n",
       "      <td>362</td>\n",
       "      <td>1843</td>\n",
       "      <td>16</td>\n",
       "      <td>2</td>\n",
       "    </tr>\n",
       "    <tr>\n",
       "      <th>4</th>\n",
       "      <td>000040000L5</td>\n",
       "      <td>L5</td>\n",
       "      <td>0.48</td>\n",
       "      <td>0</td>\n",
       "      <td>122</td>\n",
       "      <td>4</td>\n",
       "      <td>57</td>\n",
       "      <td>362</td>\n",
       "      <td>1843</td>\n",
       "      <td>16</td>\n",
       "      <td>2</td>\n",
       "    </tr>\n",
       "    <tr>\n",
       "      <th>...</th>\n",
       "      <td>...</td>\n",
       "      <td>...</td>\n",
       "      <td>...</td>\n",
       "      <td>...</td>\n",
       "      <td>...</td>\n",
       "      <td>...</td>\n",
       "      <td>...</td>\n",
       "      <td>...</td>\n",
       "      <td>...</td>\n",
       "      <td>...</td>\n",
       "      <td>...</td>\n",
       "    </tr>\n",
       "    <tr>\n",
       "      <th>10279</th>\n",
       "      <td>000019910000L2</td>\n",
       "      <td>L2</td>\n",
       "      <td>3.25</td>\n",
       "      <td>20190623</td>\n",
       "      <td>3</td>\n",
       "      <td>3</td>\n",
       "      <td>57</td>\n",
       "      <td>1819</td>\n",
       "      <td>3473</td>\n",
       "      <td>14</td>\n",
       "      <td>5</td>\n",
       "    </tr>\n",
       "    <tr>\n",
       "      <th>10280</th>\n",
       "      <td>000019910000L3.1</td>\n",
       "      <td>L3.1</td>\n",
       "      <td>3.48</td>\n",
       "      <td>20190605</td>\n",
       "      <td>3</td>\n",
       "      <td>3</td>\n",
       "      <td>57</td>\n",
       "      <td>1819</td>\n",
       "      <td>3473</td>\n",
       "      <td>12</td>\n",
       "      <td>5</td>\n",
       "    </tr>\n",
       "    <tr>\n",
       "      <th>10281</th>\n",
       "      <td>000019910000L3.3</td>\n",
       "      <td>L3.3</td>\n",
       "      <td>2.10</td>\n",
       "      <td>20190605</td>\n",
       "      <td>3</td>\n",
       "      <td>3</td>\n",
       "      <td>57</td>\n",
       "      <td>1819</td>\n",
       "      <td>3473</td>\n",
       "      <td>12</td>\n",
       "      <td>5</td>\n",
       "    </tr>\n",
       "    <tr>\n",
       "      <th>10282</th>\n",
       "      <td>000019910000L4.2</td>\n",
       "      <td>L4.2</td>\n",
       "      <td>2.22</td>\n",
       "      <td>20180526</td>\n",
       "      <td>4</td>\n",
       "      <td>3</td>\n",
       "      <td>57</td>\n",
       "      <td>1819</td>\n",
       "      <td>3473</td>\n",
       "      <td>14</td>\n",
       "      <td>5</td>\n",
       "    </tr>\n",
       "    <tr>\n",
       "      <th>10283</th>\n",
       "      <td>000019910000L1.2</td>\n",
       "      <td>L1.2</td>\n",
       "      <td>4.32</td>\n",
       "      <td>20180524</td>\n",
       "      <td>4</td>\n",
       "      <td>3</td>\n",
       "      <td>57</td>\n",
       "      <td>1819</td>\n",
       "      <td>3473</td>\n",
       "      <td>15</td>\n",
       "      <td>5</td>\n",
       "    </tr>\n",
       "  </tbody>\n",
       "</table>\n",
       "<p>10284 rows × 11 columns</p>\n",
       "</div>"
      ],
      "text/plain": [
       "                 codigo nombre  area        fs  soca  estado_lote  rend  \\\n",
       "0           000020000L1     L1  0.80  20170920     5            3    57   \n",
       "1           000040000L8     L8  1.22         0   122            4    57   \n",
       "2           000040000L6     L6  1.33         0   122            4    57   \n",
       "3           000040000L3     L3  2.41         0   122            4    57   \n",
       "4           000040000L5     L5  0.48         0   122            4    57   \n",
       "...                 ...    ...   ...       ...   ...          ...   ...   \n",
       "10279    000019910000L2     L2  3.25  20190623     3            3    57   \n",
       "10280  000019910000L3.1   L3.1  3.48  20190605     3            3    57   \n",
       "10281  000019910000L3.3   L3.3  2.10  20190605     3            3    57   \n",
       "10282  000019910000L4.2   L4.2  2.22  20180526     4            3    57   \n",
       "10283  000019910000L1.2   L1.2  4.32  20180524     4            3    57   \n",
       "\n",
       "       propiedad_id  usuario_id  variedad_id  textura_id  \n",
       "0               361       18354           14           5  \n",
       "1               362        1843           16           5  \n",
       "2               362        1843           16           5  \n",
       "3               362        1843           16           2  \n",
       "4               362        1843           16           2  \n",
       "...             ...         ...          ...         ...  \n",
       "10279          1819        3473           14           5  \n",
       "10280          1819        3473           12           5  \n",
       "10281          1819        3473           12           5  \n",
       "10282          1819        3473           14           5  \n",
       "10283          1819        3473           15           5  \n",
       "\n",
       "[10284 rows x 11 columns]"
      ]
     },
     "execution_count": 10,
     "metadata": {},
     "output_type": "execute_result"
    }
   ],
   "source": [
    "lotes"
   ]
  },
  {
   "cell_type": "code",
   "execution_count": null,
   "id": "55b77573-aa10-4349-ab2d-48a4b126f03e",
   "metadata": {},
   "outputs": [],
   "source": []
  },
  {
   "cell_type": "code",
   "execution_count": null,
   "id": "1db54512-87ed-4cde-a4aa-018d0686eac8",
   "metadata": {},
   "outputs": [],
   "source": []
  },
  {
   "cell_type": "code",
   "execution_count": null,
   "id": "d82a3300-79b9-47cc-a77e-581b7dd86208",
   "metadata": {},
   "outputs": [],
   "source": []
  },
  {
   "cell_type": "code",
   "execution_count": 11,
   "id": "12527c5d-9cde-4279-a938-2d16efec0d22",
   "metadata": {},
   "outputs": [
    {
     "data": {
      "text/html": [
       "<div>\n",
       "<style scoped>\n",
       "    .dataframe tbody tr th:only-of-type {\n",
       "        vertical-align: middle;\n",
       "    }\n",
       "\n",
       "    .dataframe tbody tr th {\n",
       "        vertical-align: top;\n",
       "    }\n",
       "\n",
       "    .dataframe thead th {\n",
       "        text-align: right;\n",
       "    }\n",
       "</style>\n",
       "<table border=\"1\" class=\"dataframe\">\n",
       "  <thead>\n",
       "    <tr style=\"text-align: right;\">\n",
       "      <th></th>\n",
       "      <th>id</th>\n",
       "      <th>codigo</th>\n",
       "      <th>nombre</th>\n",
       "      <th>slug</th>\n",
       "      <th>superficie_total</th>\n",
       "      <th>foto</th>\n",
       "      <th>estado</th>\n",
       "      <th>enlace</th>\n",
       "      <th>cuadrante</th>\n",
       "      <th>usuario_id</th>\n",
       "      <th>periodo_id</th>\n",
       "      <th>created_at</th>\n",
       "      <th>updated_at</th>\n",
       "    </tr>\n",
       "  </thead>\n",
       "  <tbody>\n",
       "    <tr>\n",
       "      <th>0</th>\n",
       "      <td>424</td>\n",
       "      <td>118</td>\n",
       "      <td>118 - EL ARROZAL--FRITZER</td>\n",
       "      <td>118-el-arrozal-fritzer-424</td>\n",
       "      <td>129.38000000000002</td>\n",
       "      <td>/imagen/foto_propiedad.jpg</td>\n",
       "      <td>activo</td>\n",
       "      <td>None</td>\n",
       "      <td>359</td>\n",
       "      <td>613</td>\n",
       "      <td>15</td>\n",
       "      <td>2023-08-30 18:57:31</td>\n",
       "      <td>2023-08-30 18:57:31</td>\n",
       "    </tr>\n",
       "  </tbody>\n",
       "</table>\n",
       "</div>"
      ],
      "text/plain": [
       "    id codigo                     nombre                        slug  \\\n",
       "0  424    118  118 - EL ARROZAL--FRITZER  118-el-arrozal-fritzer-424   \n",
       "\n",
       "     superficie_total                        foto  estado enlace cuadrante  \\\n",
       "0  129.38000000000002  /imagen/foto_propiedad.jpg  activo   None       359   \n",
       "\n",
       "   usuario_id  periodo_id          created_at          updated_at  \n",
       "0         613          15 2023-08-30 18:57:31 2023-08-30 18:57:31  "
      ]
     },
     "execution_count": 11,
     "metadata": {},
     "output_type": "execute_result"
    }
   ],
   "source": [
    "# seleccionar todas las prop sin lotes\n",
    "select = 'SELECT p.* FROM propiedad p LEFT JOIN lote l ON p.id = l.propiedad_id WHERE l.propiedad_id IS NULL and p.periodo_id=15 and p.estado=\\'activo\\''\n",
    "select_prop = dbQuery(select)\n",
    "df_props_agro_sinlote = pd.DataFrame(select_prop)\n",
    "df_props_agro_sinlote.head(3)"
   ]
  },
  {
   "cell_type": "code",
   "execution_count": 12,
   "id": "7b481c26-7110-4a71-a2d5-5052f48e8c49",
   "metadata": {},
   "outputs": [
    {
     "data": {
      "text/plain": [
       "[{'id': 424,\n",
       "  'codigo': '118',\n",
       "  'nombre': '118 - EL ARROZAL--FRITZER',\n",
       "  'slug': '118-el-arrozal-fritzer-424',\n",
       "  'superficie_total': '129.38000000000002',\n",
       "  'foto': '/imagen/foto_propiedad.jpg',\n",
       "  'estado': 'activo',\n",
       "  'enlace': None,\n",
       "  'cuadrante': '359',\n",
       "  'usuario_id': 613,\n",
       "  'periodo_id': 15,\n",
       "  'created_at': datetime.datetime(2023, 8, 30, 18, 57, 31),\n",
       "  'updated_at': datetime.datetime(2023, 8, 30, 18, 57, 31)}]"
      ]
     },
     "execution_count": 12,
     "metadata": {},
     "output_type": "execute_result"
    }
   ],
   "source": [
    "select_prop"
   ]
  },
  {
   "cell_type": "code",
   "execution_count": 13,
   "id": "30073c6d-e27e-4d65-8261-010751b5a01c",
   "metadata": {},
   "outputs": [
    {
     "data": {
      "text/plain": [
       "1"
      ]
     },
     "execution_count": 13,
     "metadata": {},
     "output_type": "execute_result"
    }
   ],
   "source": [
    "lotes_cargar = list(set(df_props_agro_sinlote['id']))\n",
    "len(lotes_cargar)"
   ]
  },
  {
   "cell_type": "code",
   "execution_count": 14,
   "id": "e23563df-d188-4aa6-9f2b-63b8ad3dd32e",
   "metadata": {},
   "outputs": [
    {
     "name": "stdout",
     "output_type": "stream",
     "text": [
      "Inicio resgistro propiedad: 424\n",
      "Registro Numero: 1  - Se registro lote ID: 00001180000L12\n",
      "Registro Numero: 2  - Se registro lote ID: 00001180000L3.1\n",
      "Registro Numero: 3  - Se registro lote ID: 00001180000L14.2\n",
      "Registro Numero: 4  - Se registro lote ID: 00001180000L8.3\n",
      "Registro Numero: 5  - Se registro lote ID: 00001180000L13\n",
      "Registro Numero: 6  - Se registro lote ID: 00001180000L11\n",
      "Registro Numero: 7  - Se registro lote ID: 00001180000L9.3\n",
      "Registro Numero: 8  - Se registro lote ID: 00001180000L8.1\n",
      "Registro Numero: 9  - Se registro lote ID: 00001180000L7\n",
      "Registro Numero: 10  - Se registro lote ID: 00001180000L9.2\n",
      "Registro Numero: 11  - Se registro lote ID: 00001180000L9.1\n",
      "Registro Numero: 12  - Se registro lote ID: 00001180000L10\n",
      "Registro Numero: 13  - Se registro lote ID: 00001180000L2\n",
      "Registro Numero: 14  - Se registro lote ID: 00001180000L8.2\n",
      "Registro Numero: 15  - Se registro lote ID: 00001180000L4_5\n",
      "Registro Numero: 16  - Se registro lote ID: 00001180000L3.2\n",
      "Registro Numero: 17  - Se registro lote ID: 00001180000L1\n",
      "Registro Numero: 18  - Se registro lote ID: 00001180000L14.1\n",
      "Registro Numero: 19  - Se registro lote ID: 00001180000L6\n",
      "Fin resgistro propiedad: 424 ============================================================= 1\n"
     ]
    }
   ],
   "source": [
    "a = 1\n",
    "for k in lotes_cargar:\n",
    "    print('Inicio resgistro propiedad:', k)\n",
    "    id_prop = k\n",
    "    lotes_prop = lotes[lotes['propiedad_id']==id_prop]\n",
    "    j = 1\n",
    "    for i, r in lotes_prop.iterrows():\n",
    "        insert_query = 'INSERT INTO lote\\\n",
    "        (codigo, nombre, slug, superficie, fecha_siembra, corte, estado_lote, rendimiento, estado, observacion, propiedad_id, usuario_id, variedad_id, textura_id, created_at, updated_at)\\\n",
    "        VALUES\\\n",
    "        (\\'{codigo}\\', \\'{nombre}\\', \\'{slug}\\', \\'{superficie}\\', \\'{fecha_siembra}\\', \\'{corte}\\', \\'{estado_lote}\\', \\'{rendimiento}\\', \\'{estado}\\', \\'{observacion}\\', {propiedad_id}, \\'{usuario_id}\\', {variedad_id}, {textura_id}, NOW(), NOW())'\\\n",
    "        .format(\n",
    "            codigo=r['codigo'],\n",
    "            nombre=r['nombre'],\n",
    "            slug='',\n",
    "            superficie=r['area'],\n",
    "            fecha_siembra=r['fs'],\n",
    "            corte=r['soca'],\n",
    "            estado_lote=r['estado_lote'],\n",
    "            rendimiento='57.0',\n",
    "            estado='activo',\n",
    "            observacion='',\n",
    "            propiedad_id=r['propiedad_id'],\n",
    "            usuario_id=r['usuario_id'],\n",
    "            variedad_id=r['variedad_id'],\n",
    "            textura_id=r['textura_id']\n",
    "        )\n",
    "        insert_row = dbQuery(insert_query, 1)\n",
    "        select_reg = 'select max(id) as maximo from lote'\n",
    "        select_reg = dbQuery(select_reg)\n",
    "        id_max = select_reg[0]['maximo']\n",
    "        slug = abbreviate_para_slug(r['nombre']) + '-' + str(id_max)\n",
    "        update = 'update lote set slug=\\'{sl}\\' where id = {id_lote}'.format(sl=slug, id_lote = id_max)\n",
    "        update_row = dbQuery(update, 1)\n",
    "        print('Registro Numero:', j, ' - Se registro lote ID:', r['codigo'])\n",
    "        j = j + 1\n",
    "    print('Fin resgistro propiedad:', k, '=============================================================', a)"
   ]
  },
  {
   "cell_type": "code",
   "execution_count": null,
   "id": "7d587d59-5a74-46f1-a206-725dffc19cdb",
   "metadata": {},
   "outputs": [],
   "source": []
  },
  {
   "cell_type": "code",
   "execution_count": null,
   "id": "ab650b75-bad1-4557-9187-d715cf9c2516",
   "metadata": {},
   "outputs": [],
   "source": []
  },
  {
   "cell_type": "code",
   "execution_count": null,
   "id": "7772c079-b5a7-4ccb-ac26-c42e8220060a",
   "metadata": {},
   "outputs": [],
   "source": []
  },
  {
   "cell_type": "code",
   "execution_count": null,
   "id": "44af488b-7699-4c0f-bb57-6d9234a0b75f",
   "metadata": {},
   "outputs": [],
   "source": []
  },
  {
   "cell_type": "code",
   "execution_count": null,
   "id": "227a67d8-52d5-43e4-90cc-a2985844295a",
   "metadata": {},
   "outputs": [],
   "source": []
  },
  {
   "cell_type": "code",
   "execution_count": null,
   "id": "1e71dbe9-614c-4368-98a5-0233a7c4c4d0",
   "metadata": {},
   "outputs": [],
   "source": []
  },
  {
   "cell_type": "code",
   "execution_count": 72,
   "id": "afc8d2d7-6e6e-45b6-8921-a5cb61279c80",
   "metadata": {},
   "outputs": [],
   "source": [
    "id_prop = 379"
   ]
  },
  {
   "cell_type": "code",
   "execution_count": 73,
   "id": "292963bc-030f-43fb-9f36-516a7a2b8722",
   "metadata": {},
   "outputs": [
    {
     "data": {
      "text/html": [
       "<div>\n",
       "<style scoped>\n",
       "    .dataframe tbody tr th:only-of-type {\n",
       "        vertical-align: middle;\n",
       "    }\n",
       "\n",
       "    .dataframe tbody tr th {\n",
       "        vertical-align: top;\n",
       "    }\n",
       "\n",
       "    .dataframe thead th {\n",
       "        text-align: right;\n",
       "    }\n",
       "</style>\n",
       "<table border=\"1\" class=\"dataframe\">\n",
       "  <thead>\n",
       "    <tr style=\"text-align: right;\">\n",
       "      <th></th>\n",
       "      <th>codigo</th>\n",
       "      <th>nombre</th>\n",
       "      <th>area</th>\n",
       "      <th>fs</th>\n",
       "      <th>soca</th>\n",
       "      <th>estado_lote</th>\n",
       "      <th>rend</th>\n",
       "      <th>propiedad_id</th>\n",
       "      <th>usuario_id</th>\n",
       "      <th>variedad_id</th>\n",
       "      <th>textura_id</th>\n",
       "    </tr>\n",
       "  </thead>\n",
       "  <tbody>\n",
       "    <tr>\n",
       "      <th>286</th>\n",
       "      <td>0000380000L1</td>\n",
       "      <td>L1</td>\n",
       "      <td>1.43</td>\n",
       "      <td>20170908</td>\n",
       "      <td>5</td>\n",
       "      <td>3</td>\n",
       "      <td>57</td>\n",
       "      <td>379</td>\n",
       "      <td>12087</td>\n",
       "      <td>12</td>\n",
       "      <td>3</td>\n",
       "    </tr>\n",
       "    <tr>\n",
       "      <th>287</th>\n",
       "      <td>0000380000L3</td>\n",
       "      <td>L3</td>\n",
       "      <td>0.55</td>\n",
       "      <td>20170907</td>\n",
       "      <td>5</td>\n",
       "      <td>3</td>\n",
       "      <td>57</td>\n",
       "      <td>379</td>\n",
       "      <td>12087</td>\n",
       "      <td>12</td>\n",
       "      <td>3</td>\n",
       "    </tr>\n",
       "    <tr>\n",
       "      <th>288</th>\n",
       "      <td>0000380000L2</td>\n",
       "      <td>L2</td>\n",
       "      <td>1.49</td>\n",
       "      <td>20160710</td>\n",
       "      <td>6</td>\n",
       "      <td>3</td>\n",
       "      <td>57</td>\n",
       "      <td>379</td>\n",
       "      <td>12087</td>\n",
       "      <td>12</td>\n",
       "      <td>3</td>\n",
       "    </tr>\n",
       "  </tbody>\n",
       "</table>\n",
       "</div>"
      ],
      "text/plain": [
       "           codigo nombre  area        fs  soca  estado_lote  rend  \\\n",
       "286  0000380000L1     L1  1.43  20170908     5            3    57   \n",
       "287  0000380000L3     L3  0.55  20170907     5            3    57   \n",
       "288  0000380000L2     L2  1.49  20160710     6            3    57   \n",
       "\n",
       "     propiedad_id  usuario_id  variedad_id  textura_id  \n",
       "286           379       12087           12           3  \n",
       "287           379       12087           12           3  \n",
       "288           379       12087           12           3  "
      ]
     },
     "execution_count": 73,
     "metadata": {},
     "output_type": "execute_result"
    }
   ],
   "source": [
    "lotes_prop = lotes[lotes['propiedad_id']==id_prop]\n",
    "lotes_prop"
   ]
  },
  {
   "cell_type": "code",
   "execution_count": 80,
   "id": "104cc0ee-9135-4f06-9d67-181f3a7f8a7e",
   "metadata": {},
   "outputs": [
    {
     "name": "stdout",
     "output_type": "stream",
     "text": [
      "Registro Numero: 1  - Se registro lote ID: 0000380000L1\n",
      "Registro Numero: 2  - Se registro lote ID: 0000380000L3\n",
      "Registro Numero: 3  - Se registro lote ID: 0000380000L2\n"
     ]
    }
   ],
   "source": [
    "j = 1\n",
    "for i, r in lotes_prop.iterrows():\n",
    "    insert_query = 'INSERT INTO lote\\\n",
    "    (codigo, nombre, slug, superficie, fecha_siembra, corte, estado_lote, rendimiento, estado, observacion, propiedad_id, usuario_id, variedad_id, textura_id, created_at, updated_at)\\\n",
    "    VALUES\\\n",
    "    (\\'{codigo}\\', \\'{nombre}\\', \\'{slug}\\', \\'{superficie}\\', \\'{fecha_siembra}\\', \\'{corte}\\', \\'{estado_lote}\\', \\'{rendimiento}\\', \\'{estado}\\', \\'{observacion}\\', {propiedad_id}, \\'{usuario_id}\\', {variedad_id}, {textura_id}, NOW(), NOW())'\\\n",
    "    .format(\n",
    "        codigo=r['codigo'],\n",
    "        nombre=r['nombre'],\n",
    "        slug='',\n",
    "        superficie=r['area'],\n",
    "        fecha_siembra=r['fs'],\n",
    "        corte=r['soca'],\n",
    "        estado_lote=r['estado_lote'],\n",
    "        rendimiento='57.0',\n",
    "        estado='activo',\n",
    "        observacion='',\n",
    "        propiedad_id=r['propiedad_id'],\n",
    "        usuario_id=r['usuario_id'],\n",
    "        variedad_id=r['variedad_id'],\n",
    "        textura_id=r['textura_id']\n",
    "    )\n",
    "    insert_row = dbQuery(insert_query, 1)\n",
    "    select_reg = 'select max(id) as maximo from lote'\n",
    "    select_reg = dbQuery(select_reg)\n",
    "    id_max = select_reg[0]['maximo']\n",
    "    slug = abbreviate_para_slug(r['nombre']) + '-' + str(id_max)\n",
    "    update = 'update lote set slug=\\'{sl}\\' where id = {id_lote}'.format(sl=slug, id_lote = id_max)\n",
    "    update_row = dbQuery(update, 1)\n",
    "    print('Registro Numero:', j, ' - Se registro lote ID:', r['codigo'])\n",
    "    j = j + 1"
   ]
  },
  {
   "cell_type": "code",
   "execution_count": 47,
   "id": "ee4508c1-9e0a-40b3-ac8b-ab43b337ce1a",
   "metadata": {},
   "outputs": [
    {
     "data": {
      "text/plain": [
       "\"INSERT INTO lote    (codigo, nombre, slug, superficie, fecha_siembra, corte, estado_lote, rendimiento, estado, observacion, propiedad_id, usuario_id, variedad_id, textura_id, created_at, updated_at)    VALUES    ('0000380000L2', 'L2', '', '1.49', '20160710', '6', '3', '57.0', 'activo', '', 379, '12087', 12, 3, NOW(), NOW())\""
      ]
     },
     "execution_count": 47,
     "metadata": {},
     "output_type": "execute_result"
    }
   ],
   "source": [
    "insert_query"
   ]
  },
  {
   "cell_type": "code",
   "execution_count": null,
   "id": "78df6e4b-ddf0-453c-99fa-a4e15c3b60fc",
   "metadata": {},
   "outputs": [],
   "source": []
  },
  {
   "cell_type": "code",
   "execution_count": 59,
   "id": "96deaccb-5c3e-43a8-968a-e2a3cf65fecd",
   "metadata": {},
   "outputs": [
    {
     "data": {
      "text/plain": [
       "'l2'"
      ]
     },
     "execution_count": 59,
     "metadata": {},
     "output_type": "execute_result"
    }
   ],
   "source": []
  },
  {
   "cell_type": "code",
   "execution_count": 56,
   "id": "a59224d2-1baa-451d-a9fb-ed57fd3d28f5",
   "metadata": {},
   "outputs": [],
   "source": [
    "select_reg = 'select max(id) as maximo from lote'\n",
    "select_reg = dbQuery(select_reg)"
   ]
  },
  {
   "cell_type": "code",
   "execution_count": 58,
   "id": "6abd800c-58a4-4c1e-8fe9-21cb6382377d",
   "metadata": {},
   "outputs": [
    {
     "data": {
      "text/plain": [
       "6865"
      ]
     },
     "execution_count": 58,
     "metadata": {},
     "output_type": "execute_result"
    }
   ],
   "source": []
  },
  {
   "cell_type": "code",
   "execution_count": null,
   "id": "073f88ab-ab6b-41b0-a183-4ceae6a1bc99",
   "metadata": {},
   "outputs": [],
   "source": []
  },
  {
   "cell_type": "code",
   "execution_count": null,
   "id": "2293f2d8-159b-4357-be1e-66a3f5d60f9e",
   "metadata": {},
   "outputs": [],
   "source": []
  },
  {
   "cell_type": "code",
   "execution_count": null,
   "id": "f2db16d4-5192-48f8-9ed4-9b7b24f18b68",
   "metadata": {},
   "outputs": [],
   "source": []
  },
  {
   "cell_type": "code",
   "execution_count": null,
   "id": "9ee702be-a723-4723-8a50-890f96df63c4",
   "metadata": {},
   "outputs": [],
   "source": []
  },
  {
   "cell_type": "code",
   "execution_count": null,
   "id": "db86fa72-8a46-4f6c-8ea5-72eb1b00f844",
   "metadata": {},
   "outputs": [],
   "source": []
  }
 ],
 "metadata": {
  "kernelspec": {
   "display_name": "Python 3 (ipykernel)",
   "language": "python",
   "name": "python3"
  },
  "language_info": {
   "codemirror_mode": {
    "name": "ipython",
    "version": 3
   },
   "file_extension": ".py",
   "mimetype": "text/x-python",
   "name": "python",
   "nbconvert_exporter": "python",
   "pygments_lexer": "ipython3",
   "version": "3.10.13"
  }
 },
 "nbformat": 4,
 "nbformat_minor": 5
}
