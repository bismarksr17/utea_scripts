{
 "cells": [
  {
   "cell_type": "code",
   "execution_count": 1,
   "id": "2948f9d1-4f33-4e1a-95a7-8c1d4d17aa89",
   "metadata": {
    "tags": []
   },
   "outputs": [
    {
     "name": "stderr",
     "output_type": "stream",
     "text": [
      "C:\\Users\\UTEA\\anaconda3\\envs\\utea_estimativas\\Lib\\site-packages\\paramiko\\transport.py:219: CryptographyDeprecationWarning: Blowfish has been deprecated\n",
      "  \"class\": algorithms.Blowfish,\n"
     ]
    }
   ],
   "source": [
    "# IMPORTS\n",
    "import pandas as pd\n",
    "\n",
    "import tkinter as tk\n",
    "from tkinter import filedialog as fd\n",
    "\n",
    "import logging\n",
    "import logging.config\n",
    "import pymysql\n",
    "import paramiko\n",
    "from paramiko import SSHClient\n",
    "from sshtunnel import SSHTunnelForwarder\n",
    "\n",
    "import ast\n",
    "\n",
    "import re\n",
    "from unidecode import unidecode\n",
    "\n",
    "from datetime import datetime\n",
    "\n",
    "import bcrypt"
   ]
  },
  {
   "cell_type": "code",
   "execution_count": 2,
   "id": "f3ec4eb4-fe41-4053-936d-7d6e058defd3",
   "metadata": {
    "tags": []
   },
   "outputs": [],
   "source": [
    "# ruta de carpera donde estan las llaves\n",
    "ruta = open('../ruta.txt')\n",
    "ruta = ruta.readlines()[0]\n",
    "\n",
    "# cargar datos para conectar a AGROCITTCA\n",
    "data = open(ruta + '/_keys/agrocittca.data','r')\n",
    "password = data.readlines()[0]\n",
    "data.close()\n",
    "\n",
    "# extraccion de los datos\n",
    "datos_cnx = ast.literal_eval(password)\n",
    "\n",
    "# lectura de llave ssh\n",
    "mypkey = paramiko.RSAKey.from_private_key_file(ruta + '/_keys/llave_db_agrocittca', password='micontrasena')\n",
    "\n",
    "# ssh variables\n",
    "ssh_host = datos_cnx['ssh_host']\n",
    "ssh_port = datos_cnx['ssh_port']\n",
    "localhost = datos_cnx['localhost']\n",
    "localport = datos_cnx['localport']\n",
    "ssh_user = datos_cnx['ssh_user']\n",
    "\n",
    "# database variables\n",
    "sql_username = datos_cnx['sql_username']\n",
    "sql_password = datos_cnx['sql_password']\n",
    "sql_main_database = datos_cnx['sql_main_database']"
   ]
  },
  {
   "cell_type": "code",
   "execution_count": 3,
   "id": "0e10a48f-748e-4778-a3e7-89d2bea46e83",
   "metadata": {
    "tags": []
   },
   "outputs": [],
   "source": [
    "# funcion para ejecutar una script SQL\n",
    "# estado = 0 para select\n",
    "# estado = 1 para update\n",
    "def dbQuery(q, estado = 0):\n",
    "    \"\"\" access the database over the SSH tunnel and execute the query \"\"\"\n",
    "    logger = logging.getLogger()\n",
    "    logger.debug(\"Connecting to reporting server...\", end=\"\")\n",
    "    with SSHTunnelForwarder(\n",
    "        (ssh_host, ssh_port),\n",
    "        ssh_username=ssh_user,\n",
    "        ssh_pkey=mypkey,\n",
    "        remote_bind_address=(localhost, 3306)) as tunnel:\n",
    "        logger.debug(\"Connected\")\n",
    "        logger.debug(\"Connecting to database...\")\n",
    "        try:\n",
    "            conn = pymysql.connect(\n",
    "                host='127.0.0.1', \n",
    "                user=sql_username,\n",
    "                passwd=sql_password,\n",
    "                db=sql_main_database,\n",
    "                port=tunnel.local_bind_port,\n",
    "                cursorclass=pymysql.cursors.DictCursor)\n",
    "            logger.debug(\"Connected\")\n",
    "            logger.debug(\"Executing query...\")\n",
    "            cursor = conn.cursor()\n",
    "            cursor.execute(q)\n",
    "            if estado==1:\n",
    "                conn.commit()  # Commit the transaction\n",
    "            data = cursor.fetchall()\n",
    "            logger.debug(\"Done\")\n",
    "        finally:\n",
    "            conn.close()\n",
    "    return data"
   ]
  },
  {
   "cell_type": "code",
   "execution_count": 4,
   "id": "6c6e9d4b-c8d1-4a10-9c7e-83b362bba2cd",
   "metadata": {
    "tags": []
   },
   "outputs": [],
   "source": [
    "# GENERAR CODIGO SLUG, CODIGO UNICO\n",
    "def abbreviate_para_slug(name):\n",
    "    # Eliminar acentos y otros caracteres especiales\n",
    "    name = unidecode(name)\n",
    "    # Mantener solo caracteres alfanuméricos, espacios y guiones\n",
    "    name = re.sub(r\"[^\\w\\s-]\", \"\", name)\n",
    "    # Convertir a minúsculas\n",
    "    name = name.lower()\n",
    "    # Reemplazar espacios y guiones por un solo guión\n",
    "    abbreviated = re.sub(r\"[\\s-]+\", \"-\", name)\n",
    "    return abbreviated.strip('-')"
   ]
  },
  {
   "cell_type": "code",
   "execution_count": 5,
   "id": "010a493f-43e4-4b47-a672-1e1973d119dc",
   "metadata": {
    "tags": []
   },
   "outputs": [
    {
     "name": "stdout",
     "output_type": "stream",
     "text": [
      "2023-05-26 15:41:52\n"
     ]
    }
   ],
   "source": [
    "# optiene la fecha actual\n",
    "now = datetime.now()\n",
    "formatted_now = now.strftime(\"%Y-%m-%d %H:%M:%S\")\n",
    "print(formatted_now)"
   ]
  },
  {
   "cell_type": "code",
   "execution_count": null,
   "id": "3134f992-a6bd-4813-96cd-3441334fd718",
   "metadata": {},
   "outputs": [],
   "source": []
  },
  {
   "cell_type": "code",
   "execution_count": null,
   "id": "573a2878-1aa0-409f-8880-9c05f54092ac",
   "metadata": {},
   "outputs": [],
   "source": []
  },
  {
   "cell_type": "code",
   "execution_count": null,
   "id": "67b77c6d-ab7f-49c7-a69f-ae607aa19fe5",
   "metadata": {},
   "outputs": [],
   "source": []
  },
  {
   "cell_type": "code",
   "execution_count": null,
   "id": "1a3a9cda-149d-467c-9bc1-d86e473abbc3",
   "metadata": {},
   "outputs": [],
   "source": []
  },
  {
   "cell_type": "code",
   "execution_count": null,
   "id": "d6c11e9f-456d-492d-9864-959329468199",
   "metadata": {},
   "outputs": [],
   "source": []
  },
  {
   "cell_type": "code",
   "execution_count": null,
   "id": "da78405e-297e-4c84-b33a-758c508d5fff",
   "metadata": {},
   "outputs": [],
   "source": []
  }
 ],
 "metadata": {
  "kernelspec": {
   "display_name": "Python 3 (ipykernel)",
   "language": "python",
   "name": "python3"
  },
  "language_info": {
   "codemirror_mode": {
    "name": "ipython",
    "version": 3
   },
   "file_extension": ".py",
   "mimetype": "text/x-python",
   "name": "python",
   "nbconvert_exporter": "python",
   "pygments_lexer": "ipython3",
   "version": "3.11.3"
  }
 },
 "nbformat": 4,
 "nbformat_minor": 5
}
