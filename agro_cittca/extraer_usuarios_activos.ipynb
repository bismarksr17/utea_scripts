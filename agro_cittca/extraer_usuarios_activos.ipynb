{
 "cells": [
  {
   "cell_type": "code",
   "execution_count": 136,
   "id": "719a71d8-0a48-418b-88f3-ddc3b245f1a9",
   "metadata": {},
   "outputs": [],
   "source": [
    "import pandas as pd\n",
    "\n",
    "import logging\n",
    "import logging.config\n",
    "import pymysql\n",
    "import paramiko\n",
    "from paramiko import SSHClient\n",
    "from sshtunnel import SSHTunnelForwarder\n",
    "\n",
    "import ast\n",
    "\n",
    "import openpyxl"
   ]
  },
  {
   "cell_type": "code",
   "execution_count": 137,
   "id": "2c5d22f6-58ea-4e9a-aa1d-f83c4267d95e",
   "metadata": {},
   "outputs": [],
   "source": [
    "# ruta de carpera donde estan las llaves\n",
    "ruta = open('../ruta.txt')\n",
    "ruta = ruta.readlines()[0]\n",
    "\n",
    "# cargar datos para conectar a AGROCITTCA\n",
    "data = open(ruta + '/_keys/agrocittca.data','r')\n",
    "password = data.readlines()[0]\n",
    "data.close()\n",
    "\n",
    "# extraccion de los datos\n",
    "datos_cnx = ast.literal_eval(password)\n",
    "\n",
    "# lectura de llave ssh\n",
    "mypkey = paramiko.RSAKey.from_private_key_file(ruta + '/_keys/llave_db_agrocittca', password='micontrasena')\n",
    "# ssh variables\n",
    "ssh_host = datos_cnx['ssh_host']\n",
    "ssh_port = datos_cnx['ssh_port']\n",
    "localhost = datos_cnx['localhost']\n",
    "localport = datos_cnx['localport']\n",
    "ssh_user = datos_cnx['ssh_user']\n",
    "# database variables\n",
    "sql_username = datos_cnx['sql_username']\n",
    "sql_password = datos_cnx['sql_password']\n",
    "sql_main_database = datos_cnx['sql_main_database']"
   ]
  },
  {
   "cell_type": "code",
   "execution_count": 139,
   "id": "220bf295-5592-4e49-986b-d6fdb128db82",
   "metadata": {},
   "outputs": [],
   "source": [
    "# funcon para ejecutar una script SQL\n",
    "def dbQuery(q):\n",
    "    \"\"\" access the database over the SSH tunnel and execute the query \"\"\"\n",
    "    logger = logging.getLogger()\n",
    "    logger.debug(\"Connecting to reporting server...\", end=\"\")\n",
    "    with SSHTunnelForwarder(\n",
    "        (ssh_host, ssh_port),\n",
    "        ssh_username=ssh_user,\n",
    "        ssh_pkey=mypkey,\n",
    "        remote_bind_address=(localhost, 3306)) as tunnel:\n",
    "        logger.debug(\"Connected\")\n",
    "        logger.debug(\"Connecting to database...\")\n",
    "        try:\n",
    "            conn = pymysql.connect(\n",
    "                host='127.0.0.1', \n",
    "                user=sql_username,\n",
    "                passwd=sql_password,\n",
    "                db=sql_main_database,\n",
    "                port=tunnel.local_bind_port,\n",
    "                cursorclass=pymysql.cursors.DictCursor)\n",
    "            logger.debug(\"Connected\")\n",
    "            logger.debug(\"Executing query...\")\n",
    "            cursor = conn.cursor()\n",
    "            cursor.execute(q)\n",
    "            data = cursor.fetchall()\n",
    "            logger.debug(\"Done\")\n",
    "        finally:\n",
    "            conn.close()\n",
    "    return data"
   ]
  },
  {
   "cell_type": "code",
   "execution_count": 162,
   "id": "ee2c809a-7570-4fc8-a934-115a2f1a87d9",
   "metadata": {},
   "outputs": [],
   "source": [
    "def buscar_usuarios_dia(fecha_actual, ruta_xlxs):\n",
    "    usuarios_act = dbQuery(f\"select\\\n",
    "                                tok.created_at,\\\n",
    "                                usu.codigo,\\\n",
    "                                usu.name,\\\n",
    "                                usu.apellido_paterno,\\\n",
    "                                usu.apellido_materno,\\\n",
    "                                username\\\n",
    "                            from oauth_access_tokens tok\\\n",
    "                            inner join users usu on tok.user_id=usu.id\\\n",
    "                            where date(tok.created_at) = '{fecha_actual}'\")\n",
    "    lista_users_act = pd.DataFrame(usuarios_act)\n",
    "    if len(lista_users_act) == 0:\n",
    "        return\n",
    "    lista_users_act = lista_users_act[~lista_users_act['name'].str.startswith('#')]\n",
    "    wb = openpyxl.load_workbook(ruta_xlxs)\n",
    "    ws = wb['Sheet1']\n",
    "    for i in range(0, len(lista_users_act)):\n",
    "        # Extrayendo la fila del DataFrame para agregar a Excel\n",
    "        new_row = [\n",
    "            lista_users_act.iloc[i, 0], \n",
    "            lista_users_act.iloc[i, 1], \n",
    "            lista_users_act.iloc[i, 2], \n",
    "            lista_users_act.iloc[i, 3], \n",
    "            lista_users_act.iloc[i, 4], \n",
    "            lista_users_act.iloc[i, 5]\n",
    "        ]\n",
    "        ws.append(new_row)\n",
    "        wb.save(ruta_xlxs)\n",
    "        wb.close()"
   ]
  },
  {
   "cell_type": "code",
   "execution_count": 163,
   "id": "99ec1a58-5f90-4391-b877-ac627b0ca579",
   "metadata": {},
   "outputs": [],
   "source": [
    "ruta_xlxs = 'C:/Users/bismarksr/Desktop/PYTHON/utea_scripts/agro_cittca/lista_usuarios_act.xlsx'"
   ]
  },
  {
   "cell_type": "code",
   "execution_count": 165,
   "id": "fc8a7660-3e9f-453a-80d4-1cfd94692a43",
   "metadata": {},
   "outputs": [],
   "source": [
    "fecha_actual = '2024-05-12'\n",
    "buscar_usuarios_dia(fecha_actual, ruta_xlxs)"
   ]
  },
  {
   "cell_type": "code",
   "execution_count": null,
   "id": "26ade5c8-69e1-4948-ab0f-0775c5837147",
   "metadata": {},
   "outputs": [],
   "source": []
  },
  {
   "cell_type": "code",
   "execution_count": null,
   "id": "76eb40d0-5d40-4314-a2b0-2930ea671cfb",
   "metadata": {},
   "outputs": [],
   "source": []
  },
  {
   "cell_type": "code",
   "execution_count": null,
   "id": "59875ed4-a5b3-40b5-8434-313228578bc0",
   "metadata": {},
   "outputs": [],
   "source": []
  }
 ],
 "metadata": {
  "kernelspec": {
   "display_name": "Python 3 (ipykernel)",
   "language": "python",
   "name": "python3"
  },
  "language_info": {
   "codemirror_mode": {
    "name": "ipython",
    "version": 3
   },
   "file_extension": ".py",
   "mimetype": "text/x-python",
   "name": "python",
   "nbconvert_exporter": "python",
   "pygments_lexer": "ipython3",
   "version": "3.10.13"
  }
 },
 "nbformat": 4,
 "nbformat_minor": 5
}
