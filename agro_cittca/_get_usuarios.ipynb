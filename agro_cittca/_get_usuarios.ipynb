{
 "cells": [
  {
   "cell_type": "code",
   "execution_count": 22,
   "id": "87e7bdc5-dcf0-46fb-a250-51ed6a3ad978",
   "metadata": {},
   "outputs": [],
   "source": [
    "import os"
   ]
  },
  {
   "cell_type": "code",
   "execution_count": 23,
   "id": "b08f6e8d-b5f0-4c36-84e4-de8135153f72",
   "metadata": {},
   "outputs": [],
   "source": [
    "import pandas as pd\n",
    "\n",
    "import logging\n",
    "import logging.config\n",
    "import pymysql\n",
    "import paramiko\n",
    "from paramiko import SSHClient\n",
    "from sshtunnel import SSHTunnelForwarder\n",
    "\n",
    "import ast"
   ]
  },
  {
   "cell_type": "code",
   "execution_count": 25,
   "id": "bd058ac3-8f0d-42cc-b3e7-42c219ed822a",
   "metadata": {},
   "outputs": [],
   "source": [
    "PATH_AGROCITTCA_KEY = r'C:\\Documents\\OneDrive - Ingenio Azucarero Guabira S.A\\_DATOS_PYTHON\\_keys\\agrocittca.data'\n",
    "PATH_DB_KEY = r'C:\\Documents\\OneDrive - Ingenio Azucarero Guabira S.A\\_DATOS_PYTHON\\_keys\\llave_db_agrocittca'\n",
    "PATH_OUTPUT = r'C:\\Documents\\Ingenio Azucarero Guabira S.A\\UTEA - SEMANAL - AGRO-CITTCA\\_DATA_ANALISIS_AGROCITTCA'"
   ]
  },
  {
   "cell_type": "code",
   "execution_count": 26,
   "id": "ab9aac7a-70a1-4598-8790-07bbbf9f66a5",
   "metadata": {},
   "outputs": [],
   "source": [
    "# cargar datos para conectar a AGROCITTCA\n",
    "data = open(PATH_AGROCITTCA_KEY,'r')\n",
    "password = data.readlines()[0]\n",
    "data.close()\n",
    "\n",
    "# extraccion de los datos\n",
    "datos_cnx = ast.literal_eval(password)\n",
    "\n",
    "# lectura de llave ssh\n",
    "mypkey = paramiko.RSAKey.from_private_key_file(PATH_DB_KEY, password='micontrasena')\n",
    "# ssh variables\n",
    "ssh_host = datos_cnx['ssh_host']\n",
    "ssh_port = datos_cnx['ssh_port']\n",
    "localhost = datos_cnx['localhost']\n",
    "localport = datos_cnx['localport']\n",
    "ssh_user = datos_cnx['ssh_user']\n",
    "# database variables\n",
    "sql_username = datos_cnx['sql_username']\n",
    "sql_password = datos_cnx['sql_password']\n",
    "sql_main_database = datos_cnx['sql_main_database']"
   ]
  },
  {
   "cell_type": "code",
   "execution_count": 27,
   "id": "653cd4a7-44b7-4ef2-90d3-cbd63329e679",
   "metadata": {},
   "outputs": [],
   "source": [
    "# funcon para ejecutar una script SQL\n",
    "def dbQuery(q):\n",
    "    \"\"\" access the database over the SSH tunnel and execute the query \"\"\"\n",
    "    logger = logging.getLogger()\n",
    "    logger.debug(\"Connecting to reporting server...\", end=\"\")\n",
    "    with SSHTunnelForwarder(\n",
    "        (ssh_host, ssh_port),\n",
    "        ssh_username=ssh_user,\n",
    "        ssh_pkey=mypkey,\n",
    "        remote_bind_address=(localhost, 3306)) as tunnel:\n",
    "        logger.debug(\"Connected\")\n",
    "        logger.debug(\"Connecting to database...\")\n",
    "        try:\n",
    "            conn = pymysql.connect(\n",
    "                host='127.0.0.1', \n",
    "                user=sql_username,\n",
    "                passwd=sql_password,\n",
    "                db=sql_main_database,\n",
    "                port=tunnel.local_bind_port,\n",
    "                cursorclass=pymysql.cursors.DictCursor)\n",
    "            logger.debug(\"Connected\")\n",
    "            logger.debug(\"Executing query...\")\n",
    "            cursor = conn.cursor()\n",
    "            cursor.execute(q)\n",
    "            data = cursor.fetchall()\n",
    "            logger.debug(\"Done\")\n",
    "        finally:\n",
    "            conn.close()\n",
    "    return data"
   ]
  },
  {
   "cell_type": "code",
   "execution_count": null,
   "id": "cfb1442b-3aed-4895-84e8-3be5828447e1",
   "metadata": {},
   "outputs": [],
   "source": []
  },
  {
   "cell_type": "code",
   "execution_count": 57,
   "id": "7419e32d-9a42-4422-b811-4971c42bc3f9",
   "metadata": {},
   "outputs": [],
   "source": [
    "def get_activos():\n",
    "    query_1 = '''select \n",
    "                    DATE(tok.created_at) as created_at, \n",
    "                    usu.codigo, \n",
    "                    usu.name, \n",
    "                    usu.apellido_paterno, \n",
    "                    usu.apellido_materno, \n",
    "                    usu.username, \n",
    "                    usu.tipo, \n",
    "                    \\'reg acces\\' as origen\n",
    "                from oauth_access_tokens tok\n",
    "                inner join users usu on tok.user_id=usu.id\n",
    "                WHERE \n",
    "                    tok.created_at >= DATE_SUB(NOW(), INTERVAL 6 MONTH) and \n",
    "                    usu.tipo=\\'propietario\\''''\n",
    "    usuarios_acces = dbQuery(query_1)\n",
    "    data_acces = pd.DataFrame(usuarios_acces)\n",
    "    \n",
    "    query_2 = '''select \n",
    "                    DATE(ac.created_at) as created_at, \n",
    "                    us.codigo, \n",
    "                    us.name, \n",
    "                    us.apellido_paterno, \n",
    "                    us.apellido_materno, \n",
    "                    us.username, us.tipo, \n",
    "                    \\'reg. labor\\'  as origen\\\n",
    "                from actividades ac\n",
    "                inner join users us on us.id = ac.usuario_registro\n",
    "                WHERE \n",
    "                    ac.created_at >= DATE_SUB(NOW(), INTERVAL 6 MONTH)'''\n",
    "    usuarios_reg = dbQuery(query_2)\n",
    "    data_reg = pd.DataFrame(usuarios_reg)\n",
    "    data = pd.concat([data_acces, data_reg], ignore_index=True)\n",
    "    # split de name [cod - nombre]\n",
    "    data[['cod', 'nombre']] = data['name'].str.split(' - ', n=1, expand=True)\n",
    "    # concatener con ap materno\n",
    "    data['canero'] = data['nombre'] + data['apellido_materno']\n",
    "    # ordenar las filas\n",
    "    data = data[['created_at', 'cod', 'canero', 'username', 'tipo', 'origen']]\n",
    "    data['cod'] = data['cod'].astype(int)\n",
    "    data.to_excel(PATH_OUTPUT + \"/usuarios_activos.xlsx\", index=False)\n",
    "    #return data"
   ]
  },
  {
   "cell_type": "code",
   "execution_count": 58,
   "id": "b68c5af7-a4bb-4d8d-a2aa-cd426738f6c3",
   "metadata": {},
   "outputs": [],
   "source": [
    "get_activos()"
   ]
  },
  {
   "cell_type": "code",
   "execution_count": null,
   "id": "b4cbbedf-4712-4da6-84b2-b926daa8ce86",
   "metadata": {},
   "outputs": [],
   "source": []
  },
  {
   "cell_type": "code",
   "execution_count": 35,
   "id": "3eddbe1d-c32d-44fd-ab28-50c3f62a92c6",
   "metadata": {},
   "outputs": [
    {
     "data": {
      "text/plain": [
       "'C:\\\\Documents\\\\Ingenio Azucarero Guabira S.A\\\\UTEA - SEMANAL - AGRO-CITTCA\\\\_DATA_ANALISIS_AGROCITTCA'"
      ]
     },
     "execution_count": 35,
     "metadata": {},
     "output_type": "execute_result"
    }
   ],
   "source": [
    "PATH_OUTPUT"
   ]
  },
  {
   "cell_type": "code",
   "execution_count": null,
   "id": "f089c3a0-4285-4186-90be-a97db2bbc19f",
   "metadata": {},
   "outputs": [],
   "source": []
  },
  {
   "cell_type": "code",
   "execution_count": null,
   "id": "ecd7f774-c3c6-4bd2-bda4-0e8e5019dfde",
   "metadata": {},
   "outputs": [],
   "source": []
  },
  {
   "cell_type": "code",
   "execution_count": null,
   "id": "4c440762-9896-4404-b4cb-291864cb5bb0",
   "metadata": {},
   "outputs": [],
   "source": []
  },
  {
   "cell_type": "code",
   "execution_count": null,
   "id": "fef51b39-1a73-4f3a-98d2-c49a5c79fe72",
   "metadata": {},
   "outputs": [],
   "source": []
  },
  {
   "cell_type": "code",
   "execution_count": null,
   "id": "fdb8c157-e8e5-43d7-acc2-4e4fc36bedc8",
   "metadata": {},
   "outputs": [],
   "source": []
  },
  {
   "cell_type": "code",
   "execution_count": null,
   "id": "ac12775d-f96d-4f54-8a96-87ec74cdfbba",
   "metadata": {},
   "outputs": [],
   "source": []
  },
  {
   "cell_type": "code",
   "execution_count": null,
   "id": "5ec52d35-71ec-4f46-a615-99dceb994989",
   "metadata": {},
   "outputs": [],
   "source": []
  }
 ],
 "metadata": {
  "kernelspec": {
   "display_name": "Python 3 (ipykernel)",
   "language": "python",
   "name": "python3"
  },
  "language_info": {
   "codemirror_mode": {
    "name": "ipython",
    "version": 3
   },
   "file_extension": ".py",
   "mimetype": "text/x-python",
   "name": "python",
   "nbconvert_exporter": "python",
   "pygments_lexer": "ipython3",
   "version": "3.10.13"
  }
 },
 "nbformat": 4,
 "nbformat_minor": 5
}
