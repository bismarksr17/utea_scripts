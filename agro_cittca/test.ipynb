{
 "cells": [
  {
   "cell_type": "code",
   "execution_count": 1,
   "id": "500d2887-2db2-4f5d-a2bd-3a01b07d6cb7",
   "metadata": {},
   "outputs": [],
   "source": [
    "import bcrypt"
   ]
  },
  {
   "cell_type": "code",
   "execution_count": null,
   "id": "9ff5831a-b431-4bd2-b9b9-c7a238028b4f",
   "metadata": {},
   "outputs": [],
   "source": []
  },
  {
   "cell_type": "code",
   "execution_count": 2,
   "id": "6adcfbf2-ec13-4a24-bd34-32f60f77d745",
   "metadata": {},
   "outputs": [
    {
     "name": "stdout",
     "output_type": "stream",
     "text": [
      "b'$2b$12$ygxkVluMJtBWU4zk3etGZOMlkhD40g71ok7lk.bORHp5weJI8Dks.'\n"
     ]
    }
   ],
   "source": [
    "password = b\"kxx151214\"  # Asegúrese de que la contraseña sea de tipo bytes\n",
    "salt = bcrypt.gensalt()\n",
    "hashed_password = bcrypt.hashpw(password, salt)\n",
    "print(hashed_password)"
   ]
  },
  {
   "cell_type": "code",
   "execution_count": 4,
   "id": "e1d24098-3509-4041-832e-ff67783fd65e",
   "metadata": {},
   "outputs": [
    {
     "name": "stdout",
     "output_type": "stream",
     "text": [
      "Password is correct.\n"
     ]
    }
   ],
   "source": [
    "password_to_check = b\"kxx151214\"  # La contraseña a verificar, también debe ser de tipo bytes\n",
    "\n",
    "# Comprueba si la contraseña proporcionada coincide con la contraseña cifrada\n",
    "if bcrypt.checkpw(password_to_check, hashed_password):\n",
    "    print(\"Password is correct.\")\n",
    "else:\n",
    "    print(\"Password is incorrect.\")"
   ]
  },
  {
   "cell_type": "code",
   "execution_count": null,
   "id": "d03f43ae-d0c3-46b3-94c2-1d447ea85b81",
   "metadata": {},
   "outputs": [],
   "source": [
    "$2y$10$Du6Wd/c1anqDuygRggSxruk/RE8e3TuADTlDx.Q.XvM2CvVLfN5Qu"
   ]
  },
  {
   "cell_type": "code",
   "execution_count": null,
   "id": "bd934f12-7c05-4ab9-997d-ca94644075fe",
   "metadata": {},
   "outputs": [],
   "source": []
  },
  {
   "cell_type": "code",
   "execution_count": 5,
   "id": "33da3dfe-6763-49b2-afcb-049c54eb4eda",
   "metadata": {},
   "outputs": [
    {
     "name": "stdout",
     "output_type": "stream",
     "text": [
      "La contraseña es correcta.\n"
     ]
    }
   ],
   "source": [
    "hashed_password = b\"$2y$10$GfGxzWTD.Lh80fSREhROze70FbRWnU8JbOPJoGK5hq1uz6dvPcn.G\"\n",
    "\n",
    "# La contraseña proporcionada por el usuario\n",
    "password = \"123456*41970\".encode(\"utf-8\")\n",
    "\n",
    "# Verificar si la contraseña coincide con el hash\n",
    "if bcrypt.checkpw(password, hashed_password):\n",
    "    print(\"La contraseña es correcta.\")\n",
    "else:\n",
    "    print(\"La contraseña es incorrecta.\")"
   ]
  },
  {
   "cell_type": "code",
   "execution_count": null,
   "id": "833d9e57-657e-437e-9b5f-feff5d32a6ad",
   "metadata": {},
   "outputs": [],
   "source": []
  },
  {
   "cell_type": "code",
   "execution_count": null,
   "id": "ee835d82-a460-48a6-8c4f-6dbf370df00b",
   "metadata": {},
   "outputs": [],
   "source": []
  }
 ],
 "metadata": {
  "kernelspec": {
   "display_name": "Python 3 (ipykernel)",
   "language": "python",
   "name": "python3"
  },
  "language_info": {
   "codemirror_mode": {
    "name": "ipython",
    "version": 3
   },
   "file_extension": ".py",
   "mimetype": "text/x-python",
   "name": "python",
   "nbconvert_exporter": "python",
   "pygments_lexer": "ipython3",
   "version": "3.11.2"
  }
 },
 "nbformat": 4,
 "nbformat_minor": 5
}
