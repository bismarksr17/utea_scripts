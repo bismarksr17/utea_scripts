{
 "cells": [
  {
   "cell_type": "code",
   "execution_count": 1,
   "id": "2c6e9d6a-9f07-4df3-ba08-4bd83d95948f",
   "metadata": {},
   "outputs": [],
   "source": [
    "import pandas as pd"
   ]
  },
  {
   "cell_type": "code",
   "execution_count": 3,
   "id": "23709eaa-65ad-4e86-acf9-71d740d4a045",
   "metadata": {},
   "outputs": [],
   "source": [
    "df = pd.read_csv('table_names.csv')"
   ]
  },
  {
   "cell_type": "code",
   "execution_count": 4,
   "id": "95722dad-fdf1-488a-9358-015e11c3b02c",
   "metadata": {},
   "outputs": [
    {
     "data": {
      "text/html": [
       "<div>\n",
       "<style scoped>\n",
       "    .dataframe tbody tr th:only-of-type {\n",
       "        vertical-align: middle;\n",
       "    }\n",
       "\n",
       "    .dataframe tbody tr th {\n",
       "        vertical-align: top;\n",
       "    }\n",
       "\n",
       "    .dataframe thead th {\n",
       "        text-align: right;\n",
       "    }\n",
       "</style>\n",
       "<table border=\"1\" class=\"dataframe\">\n",
       "  <thead>\n",
       "    <tr style=\"text-align: right;\">\n",
       "      <th></th>\n",
       "      <th>TABLE_NAME</th>\n",
       "    </tr>\n",
       "  </thead>\n",
       "  <tbody>\n",
       "    <tr>\n",
       "      <th>0</th>\n",
       "      <td>actividad</td>\n",
       "    </tr>\n",
       "    <tr>\n",
       "      <th>1</th>\n",
       "      <td>actividades</td>\n",
       "    </tr>\n",
       "    <tr>\n",
       "      <th>2</th>\n",
       "      <td>alerta</td>\n",
       "    </tr>\n",
       "    <tr>\n",
       "      <th>3</th>\n",
       "      <td>bitacora_usuario</td>\n",
       "    </tr>\n",
       "    <tr>\n",
       "      <th>4</th>\n",
       "      <td>categoria</td>\n",
       "    </tr>\n",
       "    <tr>\n",
       "      <th>...</th>\n",
       "      <td>...</td>\n",
       "    </tr>\n",
       "    <tr>\n",
       "      <th>57</th>\n",
       "      <td>unidades</td>\n",
       "    </tr>\n",
       "    <tr>\n",
       "      <th>58</th>\n",
       "      <td>users</td>\n",
       "    </tr>\n",
       "    <tr>\n",
       "      <th>59</th>\n",
       "      <td>users_import_alerta</td>\n",
       "    </tr>\n",
       "    <tr>\n",
       "      <th>60</th>\n",
       "      <td>variedad</td>\n",
       "    </tr>\n",
       "    <tr>\n",
       "      <th>61</th>\n",
       "      <td>video_documentacion</td>\n",
       "    </tr>\n",
       "  </tbody>\n",
       "</table>\n",
       "<p>62 rows × 1 columns</p>\n",
       "</div>"
      ],
      "text/plain": [
       "             TABLE_NAME\n",
       "0             actividad\n",
       "1           actividades\n",
       "2                alerta\n",
       "3      bitacora_usuario\n",
       "4             categoria\n",
       "..                  ...\n",
       "57             unidades\n",
       "58                users\n",
       "59  users_import_alerta\n",
       "60             variedad\n",
       "61  video_documentacion\n",
       "\n",
       "[62 rows x 1 columns]"
      ]
     },
     "execution_count": 4,
     "metadata": {},
     "output_type": "execute_result"
    }
   ],
   "source": [
    "df"
   ]
  },
  {
   "cell_type": "code",
   "execution_count": 6,
   "id": "3ede0b5f-6c81-44bc-b9ac-798ab28b5626",
   "metadata": {},
   "outputs": [
    {
     "data": {
      "text/plain": [
       "['actividad',\n",
       " 'actividades',\n",
       " 'alerta',\n",
       " 'bitacora_usuario',\n",
       " 'categoria',\n",
       " 'categoria_producto',\n",
       " 'costo',\n",
       " 'costo_precio',\n",
       " 'detalle_actividad',\n",
       " 'detalle_costo',\n",
       " 'detalle_operacion',\n",
       " 'detalle_template_tipo_actividad',\n",
       " 'detalle_tipo_actividad_lote',\n",
       " 'documentacion',\n",
       " 'empresa',\n",
       " 'estado_lote',\n",
       " 'failed_jobs',\n",
       " 'fertilizantes_cania_cal',\n",
       " 'fertilizantes_efectividad_cal',\n",
       " 'galeria_alerta',\n",
       " 'galeria_producto',\n",
       " 'galeria_propiedad',\n",
       " 'imagentiff',\n",
       " 'indice_documentacion',\n",
       " 'institucion',\n",
       " 'labor',\n",
       " 'lote',\n",
       " 'mapa_estado',\n",
       " 'maquinaria',\n",
       " 'marca',\n",
       " 'mensaje',\n",
       " 'mes',\n",
       " 'migrations',\n",
       " 'modelo',\n",
       " 'notificacion',\n",
       " 'oauth_access_tokens',\n",
       " 'oauth_auth_codes',\n",
       " 'oauth_clients',\n",
       " 'oauth_personal_access_clients',\n",
       " 'oauth_refresh_tokens',\n",
       " 'operacion',\n",
       " 'operario',\n",
       " 'password_resets',\n",
       " 'periodo',\n",
       " 'personal_access_tokens',\n",
       " 'poligono_lote',\n",
       " 'producto',\n",
       " 'producto_act_miprecio',\n",
       " 'producto_actividad',\n",
       " 'propiedad',\n",
       " 'sessions',\n",
       " 'template_tipo_actividad',\n",
       " 'textura',\n",
       " 'tipo_actividad',\n",
       " 'tipo_actividad_lote',\n",
       " 'tipo_actividad_mi_precio',\n",
       " 'unidad_medida',\n",
       " 'unidades',\n",
       " 'users',\n",
       " 'users_import_alerta',\n",
       " 'variedad',\n",
       " 'video_documentacion']"
      ]
     },
     "execution_count": 6,
     "metadata": {},
     "output_type": "execute_result"
    }
   ],
   "source": [
    "list(df['TABLE_NAME'])"
   ]
  },
  {
   "cell_type": "code",
   "execution_count": null,
   "id": "90270f12-9275-4538-b3d5-ebdcfba24f0f",
   "metadata": {},
   "outputs": [],
   "source": []
  },
  {
   "cell_type": "code",
   "execution_count": null,
   "id": "80e6c3a6-c6c5-483f-9bc4-8b38f15b9461",
   "metadata": {},
   "outputs": [],
   "source": []
  },
  {
   "cell_type": "code",
   "execution_count": null,
   "id": "fdb45fdf-8d6d-4224-a830-a66ffd5262b1",
   "metadata": {},
   "outputs": [],
   "source": []
  },
  {
   "cell_type": "code",
   "execution_count": null,
   "id": "cca481a0-0ecf-4378-b933-35343fec850e",
   "metadata": {},
   "outputs": [],
   "source": []
  }
 ],
 "metadata": {
  "kernelspec": {
   "display_name": "Python 3 (ipykernel)",
   "language": "python",
   "name": "python3"
  },
  "language_info": {
   "codemirror_mode": {
    "name": "ipython",
    "version": 3
   },
   "file_extension": ".py",
   "mimetype": "text/x-python",
   "name": "python",
   "nbconvert_exporter": "python",
   "pygments_lexer": "ipython3",
   "version": "3.7.11"
  }
 },
 "nbformat": 4,
 "nbformat_minor": 5
}
