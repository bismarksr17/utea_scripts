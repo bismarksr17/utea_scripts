{
 "cells": [
  {
   "cell_type": "code",
   "execution_count": null,
   "id": "23160e63-efbf-4469-95c2-ffdbcb72631a",
   "metadata": {},
   "outputs": [],
   "source": [
    "import os"
   ]
  },
  {
   "cell_type": "code",
   "execution_count": 3,
   "id": "a6e0e024-64a7-4f16-8401-dfae808537b9",
   "metadata": {},
   "outputs": [],
   "source": [
    "import pandas as pd\n",
    "import logging\n",
    "import logging.config\n",
    "import pymysql\n",
    "import paramiko\n",
    "from paramiko import SSHClient\n",
    "from sshtunnel import SSHTunnelForwarder\n",
    "import ast"
   ]
  },
  {
   "cell_type": "code",
   "execution_count": 40,
   "id": "24d3f33b-34de-48ed-9b40-4dfb36808ddf",
   "metadata": {},
   "outputs": [],
   "source": [
    "PATH_AGROCITTCA_DATA = r'G:\\OneDrive - Ingenio Azucarero Guabira S.A\\_DATOS_PYTHON\\_keys\\agrocittca.data'\n",
    "PATH_AGROCITTCA_KEY = r'G:\\OneDrive - Ingenio Azucarero Guabira S.A\\_DATOS_PYTHON\\_keys\\llave_db_agrocittca'\n",
    "PATH_OUTPUT = r'G:\\Ingenio Azucarero Guabira S.A\\UTEA - SEMANAL - AGRO-CITTCA\\_DATA_ANALISIS_AGROCITTCA'"
   ]
  },
  {
   "cell_type": "code",
   "execution_count": 6,
   "id": "950ea3dc-59d0-491d-b4ec-b0daa09c291a",
   "metadata": {},
   "outputs": [],
   "source": [
    "# cargar datos para conectar a AGROCITTCA\n",
    "data = open(PATH_AGROCITTCA_DATA,'r')\n",
    "password = data.readlines()[0]\n",
    "data.close()\n",
    "\n",
    "# extraccion de los datos\n",
    "datos_cnx = ast.literal_eval(password)\n",
    "\n",
    "# lectura de llave ssh\n",
    "mypkey = paramiko.RSAKey.from_private_key_file(PATH_AGROCITTCA_KEY, password='micontrasena')\n",
    "# ssh variables\n",
    "ssh_host = datos_cnx['ssh_host']\n",
    "ssh_port = datos_cnx['ssh_port']\n",
    "localhost = datos_cnx['localhost']\n",
    "localport = datos_cnx['localport']\n",
    "ssh_user = datos_cnx['ssh_user']\n",
    "# database variables\n",
    "sql_username = datos_cnx['sql_username']\n",
    "sql_password = datos_cnx['sql_password']\n",
    "sql_main_database = datos_cnx['sql_main_database']"
   ]
  },
  {
   "cell_type": "code",
   "execution_count": 7,
   "id": "816436b8-0686-46a0-8f71-cee8dce37219",
   "metadata": {},
   "outputs": [],
   "source": [
    "# funcon para ejecutar una script SQL\n",
    "def dbQuery(q):\n",
    "    \"\"\" access the database over the SSH tunnel and execute the query \"\"\"\n",
    "    logger = logging.getLogger()\n",
    "    logger.debug(\"Connecting to reporting server...\", end=\"\")\n",
    "    with SSHTunnelForwarder(\n",
    "        (ssh_host, ssh_port),\n",
    "        ssh_username=ssh_user,\n",
    "        ssh_pkey=mypkey,\n",
    "        remote_bind_address=(localhost, 3306)) as tunnel:\n",
    "        logger.debug(\"Connected\")\n",
    "        logger.debug(\"Connecting to database...\")\n",
    "        try:\n",
    "            conn = pymysql.connect(\n",
    "                host='127.0.0.1', \n",
    "                user=sql_username,\n",
    "                passwd=sql_password,\n",
    "                db=sql_main_database,\n",
    "                port=tunnel.local_bind_port,\n",
    "                cursorclass=pymysql.cursors.DictCursor)\n",
    "            logger.debug(\"Connected\")\n",
    "            logger.debug(\"Executing query...\")\n",
    "            cursor = conn.cursor()\n",
    "            cursor.execute(q)\n",
    "            data = cursor.fetchall()\n",
    "            logger.debug(\"Done\")\n",
    "        finally:\n",
    "            conn.close()\n",
    "    return data"
   ]
  },
  {
   "cell_type": "code",
   "execution_count": 45,
   "id": "42d2514d-95e0-474a-9474-82448ab3a5d2",
   "metadata": {},
   "outputs": [],
   "source": [
    "def get_usuarios_accesos_registros():\n",
    "    query_1 = '''select \n",
    "                    DATE(tok.created_at) as created_at, \n",
    "                    usu.codigo, \n",
    "                    usu.name, \n",
    "                    usu.apellido_paterno, \n",
    "                    usu.apellido_materno, \n",
    "                    usu.username, \n",
    "                    usu.tipo, \n",
    "                    \\'reg acces\\' as origen\n",
    "                from oauth_access_tokens tok\n",
    "                inner join users usu on tok.user_id=usu.id\n",
    "                WHERE \n",
    "                    tok.created_at >= DATE_SUB(NOW(), INTERVAL 6 MONTH) and \n",
    "                    usu.tipo=\\'propietario\\''''\n",
    "    usuarios_acces = dbQuery(query_1)\n",
    "    data_acces = pd.DataFrame(usuarios_acces)\n",
    "    \n",
    "    query_2 = '''select \n",
    "                    DATE(ac.created_at) as created_at, \n",
    "                    us.codigo, \n",
    "                    us.name, \n",
    "                    us.apellido_paterno, \n",
    "                    us.apellido_materno, \n",
    "                    us.username, us.tipo, \n",
    "                    \\'reg labor\\'  as origen\\\n",
    "                from actividades ac\n",
    "                inner join users us on us.id = ac.usuario_registro\n",
    "                WHERE \n",
    "                    ac.created_at >= DATE_SUB(NOW(), INTERVAL 6 MONTH)'''\n",
    "    usuarios_reg = dbQuery(query_2)\n",
    "    data_reg = pd.DataFrame(usuarios_reg)\n",
    "    data = pd.concat([data_acces, data_reg], ignore_index=True)\n",
    "    data[['cod_ca', 'canero']] = data['name'].str.split(' - ', n=1, expand=True)\n",
    "    data['nombre'] = data['canero'] + ' ' + data['apellido_materno']\n",
    "    data = data[['created_at', 'codigo', 'nombre', 'username', 'tipo', 'origen']]\n",
    "    data['codigo'] = data['codigo'].astype(int)\n",
    "    data.to_excel(PATH_OUTPUT + '/usuarios_activos.xlsx', index=False)"
   ]
  },
  {
   "cell_type": "code",
   "execution_count": null,
   "id": "088d9829-bc33-4862-b780-59bfdc8a958a",
   "metadata": {},
   "outputs": [],
   "source": []
  },
  {
   "cell_type": "code",
   "execution_count": 46,
   "id": "e8a317be-d0ae-4162-8e85-4ff542b9f85d",
   "metadata": {},
   "outputs": [],
   "source": [
    "get_usuarios_accesos_registros()"
   ]
  },
  {
   "cell_type": "code",
   "execution_count": null,
   "id": "5cd234a6-2221-4a46-ac65-a228f24fcc84",
   "metadata": {},
   "outputs": [],
   "source": []
  },
  {
   "cell_type": "code",
   "execution_count": null,
   "id": "f047fb07-7f74-4505-a43b-1777739d50d5",
   "metadata": {},
   "outputs": [],
   "source": []
  },
  {
   "cell_type": "code",
   "execution_count": null,
   "id": "406c6cd4-ba02-4252-8bb3-bb70ff718a76",
   "metadata": {},
   "outputs": [],
   "source": []
  },
  {
   "cell_type": "code",
   "execution_count": null,
   "id": "e9ca4350-58c9-4a50-8a74-bff1560779da",
   "metadata": {},
   "outputs": [],
   "source": []
  },
  {
   "cell_type": "code",
   "execution_count": null,
   "id": "7cf0f665-1da6-4e06-ba9a-a7ecad945cd2",
   "metadata": {},
   "outputs": [],
   "source": []
  },
  {
   "cell_type": "code",
   "execution_count": null,
   "id": "ddc1c814-06db-4854-a3c5-738c90787801",
   "metadata": {},
   "outputs": [],
   "source": []
  },
  {
   "cell_type": "code",
   "execution_count": null,
   "id": "c64519c8-b365-4cec-a813-aabf435a2f07",
   "metadata": {},
   "outputs": [],
   "source": []
  }
 ],
 "metadata": {
  "kernelspec": {
   "display_name": "Python 3 (ipykernel)",
   "language": "python",
   "name": "python3"
  },
  "language_info": {
   "codemirror_mode": {
    "name": "ipython",
    "version": 3
   },
   "file_extension": ".py",
   "mimetype": "text/x-python",
   "name": "python",
   "nbconvert_exporter": "python",
   "pygments_lexer": "ipython3",
   "version": "3.10.13"
  }
 },
 "nbformat": 4,
 "nbformat_minor": 5
}
