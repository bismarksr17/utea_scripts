{
 "cells": [
  {
   "cell_type": "code",
   "execution_count": 39,
   "id": "9eafbbc1-bbc2-47a9-80a1-28fd7afb07be",
   "metadata": {
    "tags": []
   },
   "outputs": [],
   "source": [
    "# IMPORTS\n",
    "import pandas as pd\n",
    "\n",
    "import tkinter as tk\n",
    "from tkinter import filedialog as fd\n",
    "\n",
    "import logging\n",
    "import logging.config\n",
    "import pymysql\n",
    "import paramiko\n",
    "from paramiko import SSHClient\n",
    "from sshtunnel import SSHTunnelForwarder\n",
    "\n",
    "import ast\n",
    "\n",
    "import re\n",
    "from unidecode import unidecode\n",
    "\n",
    "from datetime import datetime\n",
    "\n",
    "import bcrypt"
   ]
  },
  {
   "cell_type": "code",
   "execution_count": 40,
   "id": "47756d7f-cbda-4c78-9e22-9728fd705ae0",
   "metadata": {
    "tags": []
   },
   "outputs": [],
   "source": [
    "# ruta de carpera donde estan las llaves\n",
    "ruta = open('../ruta.txt')\n",
    "ruta = ruta.readlines()[0]\n",
    "\n",
    "# cargar datos para conectar a AGROCITTCA\n",
    "data = open(ruta + '/_keys/agrocittca.data','r')\n",
    "password = data.readlines()[0]\n",
    "data.close()\n",
    "\n",
    "# extraccion de los datos\n",
    "datos_cnx = ast.literal_eval(password)\n",
    "\n",
    "# lectura de llave ssh\n",
    "mypkey = paramiko.RSAKey.from_private_key_file(ruta + '/_keys/llave_db_agrocittca', password='micontrasena')\n",
    "\n",
    "# ssh variables\n",
    "ssh_host = datos_cnx['ssh_host']\n",
    "ssh_port = datos_cnx['ssh_port']\n",
    "localhost = datos_cnx['localhost']\n",
    "localport = datos_cnx['localport']\n",
    "ssh_user = datos_cnx['ssh_user']\n",
    "\n",
    "# database variables\n",
    "sql_username = datos_cnx['sql_username']\n",
    "sql_password = datos_cnx['sql_password']\n",
    "sql_main_database = datos_cnx['sql_main_database']"
   ]
  },
  {
   "cell_type": "code",
   "execution_count": 41,
   "id": "8194b939-074c-4b9c-ae08-8d67fc219eff",
   "metadata": {
    "tags": []
   },
   "outputs": [],
   "source": [
    "# funcion para ejecutar una script SQL\n",
    "# estado = 0 para select\n",
    "# estado = 1 para update\n",
    "def dbQuery(q, estado = 0):\n",
    "    \"\"\" access the database over the SSH tunnel and execute the query \"\"\"\n",
    "    logger = logging.getLogger()\n",
    "    logger.debug(\"Connecting to reporting server...\", end=\"\")\n",
    "    with SSHTunnelForwarder(\n",
    "        (ssh_host, ssh_port),\n",
    "        ssh_username=ssh_user,\n",
    "        ssh_pkey=mypkey,\n",
    "        remote_bind_address=(localhost, 3306)) as tunnel:\n",
    "        logger.debug(\"Connected\")\n",
    "        logger.debug(\"Connecting to database...\")\n",
    "        try:\n",
    "            conn = pymysql.connect(\n",
    "                host='127.0.0.1', \n",
    "                user=sql_username,\n",
    "                passwd=sql_password,\n",
    "                db=sql_main_database,\n",
    "                port=tunnel.local_bind_port,\n",
    "                cursorclass=pymysql.cursors.DictCursor)\n",
    "            logger.debug(\"Connected\")\n",
    "            logger.debug(\"Executing query...\")\n",
    "            cursor = conn.cursor()\n",
    "            cursor.execute(q)\n",
    "            if estado==1:\n",
    "                conn.commit()  # Commit the transaction\n",
    "            data = cursor.fetchall()\n",
    "            logger.debug(\"Done\")\n",
    "        finally:\n",
    "            conn.close()\n",
    "    return data"
   ]
  },
  {
   "cell_type": "code",
   "execution_count": 42,
   "id": "edd4f812-a5b8-451d-aacb-fa20ed744fe3",
   "metadata": {},
   "outputs": [],
   "source": [
    "# GENERAR CODIGO SLUG, CODIGO UNICO\n",
    "def abbreviate_institution_name(name):\n",
    "    # Eliminar acentos y otros caracteres especiales\n",
    "    name = unidecode(name)\n",
    "    # Mantener solo caracteres alfanuméricos, espacios y guiones\n",
    "    name = re.sub(r\"[^\\w\\s-]\", \"\", name)\n",
    "    # Convertir a minúsculas\n",
    "    name = name.lower()\n",
    "    # Reemplazar espacios y guiones por un solo guión\n",
    "    abbreviated = re.sub(r\"[\\s-]+\", \"-\", name)\n",
    "    return abbreviated.strip('-')"
   ]
  },
  {
   "cell_type": "code",
   "execution_count": 43,
   "id": "436d8549-ab6d-4cd2-8e3a-bb426b78110d",
   "metadata": {},
   "outputs": [
    {
     "name": "stdout",
     "output_type": "stream",
     "text": [
      "2023-05-17 14:55:28\n"
     ]
    }
   ],
   "source": [
    "# optiene la fecha actual\n",
    "now = datetime.now()\n",
    "formatted_now = now.strftime(\"%Y-%m-%d %H:%M:%S\")\n",
    "print(formatted_now)"
   ]
  },
  {
   "cell_type": "code",
   "execution_count": 55,
   "id": "32e84ccb-fa93-4721-83f4-3b8f0cf04b70",
   "metadata": {
    "tags": []
   },
   "outputs": [
    {
     "data": {
      "text/plain": [
       "'D:/OneDrive - Ingenio Azucarero Guabira S.A/APP CAÑERO/DATA PARA CARGAR/USUARIOS.xlsx'"
      ]
     },
     "execution_count": 55,
     "metadata": {},
     "output_type": "execute_result"
    }
   ],
   "source": [
    "# open file dialog\n",
    "root = tk.Tk()\n",
    "root.attributes('-topmost', True)\n",
    "root.iconify()\n",
    "file_name = fd.askopenfilename(parent=root, filetypes=[(\".xlsx\", \".xlsx\")])\n",
    "root.destroy()\n",
    "file_name"
   ]
  },
  {
   "cell_type": "code",
   "execution_count": 56,
   "id": "d2d1209e-7e40-4a79-915f-8d2f6209e0ec",
   "metadata": {
    "tags": []
   },
   "outputs": [
    {
     "data": {
      "text/html": [
       "<div>\n",
       "<style scoped>\n",
       "    .dataframe tbody tr th:only-of-type {\n",
       "        vertical-align: middle;\n",
       "    }\n",
       "\n",
       "    .dataframe tbody tr th {\n",
       "        vertical-align: top;\n",
       "    }\n",
       "\n",
       "    .dataframe thead th {\n",
       "        text-align: right;\n",
       "    }\n",
       "</style>\n",
       "<table border=\"1\" class=\"dataframe\">\n",
       "  <thead>\n",
       "    <tr style=\"text-align: right;\">\n",
       "      <th></th>\n",
       "      <th>INST</th>\n",
       "      <th>COD_CA</th>\n",
       "      <th>NOMBRE</th>\n",
       "      <th>AP_PATERNO</th>\n",
       "      <th>AP_MATERNO</th>\n",
       "      <th>CORREO</th>\n",
       "      <th>USUARIO</th>\n",
       "      <th>PASS</th>\n",
       "      <th>TELF</th>\n",
       "    </tr>\n",
       "  </thead>\n",
       "  <tbody>\n",
       "    <tr>\n",
       "      <th>0</th>\n",
       "      <td>82</td>\n",
       "      <td>13302</td>\n",
       "      <td>SABINA</td>\n",
       "      <td>SALO</td>\n",
       "      <td>MARTINEZ</td>\n",
       "      <td>ssalo_13302@gmail.com</td>\n",
       "      <td>13302</td>\n",
       "      <td>123*13302</td>\n",
       "      <td>74647480</td>\n",
       "    </tr>\n",
       "    <tr>\n",
       "      <th>1</th>\n",
       "      <td>82</td>\n",
       "      <td>12503</td>\n",
       "      <td>PASCUAL</td>\n",
       "      <td>SALO</td>\n",
       "      <td>SANTOS</td>\n",
       "      <td>psalo_12503@gmail.com</td>\n",
       "      <td>12503</td>\n",
       "      <td>123*12503</td>\n",
       "      <td>71011083</td>\n",
       "    </tr>\n",
       "    <tr>\n",
       "      <th>2</th>\n",
       "      <td>82</td>\n",
       "      <td>13025</td>\n",
       "      <td>JUAN BAUTISTA</td>\n",
       "      <td>SALO</td>\n",
       "      <td>SANTOS</td>\n",
       "      <td>jsalo_13025@gmail.com</td>\n",
       "      <td>13025</td>\n",
       "      <td>123*13025</td>\n",
       "      <td>72150289</td>\n",
       "    </tr>\n",
       "  </tbody>\n",
       "</table>\n",
       "</div>"
      ],
      "text/plain": [
       "   INST  COD_CA         NOMBRE AP_PATERNO AP_MATERNO                 CORREO  \\\n",
       "0    82   13302         SABINA       SALO   MARTINEZ  ssalo_13302@gmail.com   \n",
       "1    82   12503        PASCUAL       SALO     SANTOS  psalo_12503@gmail.com   \n",
       "2    82   13025  JUAN BAUTISTA       SALO     SANTOS  jsalo_13025@gmail.com   \n",
       "\n",
       "   USUARIO       PASS      TELF  \n",
       "0    13302  123*13302  74647480  \n",
       "1    12503  123*12503  71011083  \n",
       "2    13025  123*13025  72150289  "
      ]
     },
     "execution_count": 56,
     "metadata": {},
     "output_type": "execute_result"
    }
   ],
   "source": [
    "data = pd.read_excel(file_name)\n",
    "data.head(3)"
   ]
  },
  {
   "cell_type": "code",
   "execution_count": 57,
   "id": "12417dd5-de51-45ee-9c11-c7d9cd67080a",
   "metadata": {},
   "outputs": [
    {
     "data": {
      "text/plain": [
       "(304, 9)"
      ]
     },
     "execution_count": 57,
     "metadata": {},
     "output_type": "execute_result"
    }
   ],
   "source": [
    "data.shape"
   ]
  },
  {
   "cell_type": "code",
   "execution_count": 58,
   "id": "e3d818e1-176d-43ef-a851-d9748a51790a",
   "metadata": {},
   "outputs": [
    {
     "name": "stdout",
     "output_type": "stream",
     "text": [
      "(1)USUARIO REGISTRADO:  13302 / SABINA SALO\n",
      "(2)USUARIO REGISTRADO:  12503 / PASCUAL SALO\n",
      "(3)USUARIO REGISTRADO:  13025 / JUAN BAUTISTA SALO\n",
      "(4)USUARIO REGISTRADO:  16487 / BONIFACIO SALO\n",
      "(5)USUARIO REGISTRADO:  4808 / VICENTE GUTIERREZ\n",
      "(6)USUARIO REGISTRADO:  12870 / ANASTACIA SOLIZ\n",
      "(7)USUARIO REGISTRADO:  13210 / ALFREDO SALO\n",
      "(8)USUARIO REGISTRADO:  9923 / ARMANDO ONOFRE\n",
      "(9)=====USUARIO YA RESTRADO:  42075 / LUIS ALFREDO ONOFRE\n",
      "(10)USUARIO REGISTRADO:  42240 / DIEGO ARMANDO ONOFRE\n",
      "(11)USUARIO REGISTRADO:  40158 / MARIA LOURDES GUZMAN\n",
      "(12)USUARIO REGISTRADO:  42175 / JUAN CARLOS MAMANI\n",
      "(13)USUARIO REGISTRADO:  42176 / GLADYS JANNETTE CAMACHO\n",
      "(14)USUARIO REGISTRADO:  18077 / RENE RIOS\n",
      "(15)USUARIO REGISTRADO:  18080 / FELIX CRUZ\n",
      "(16)USUARIO REGISTRADO:  41919 / HECTOR DANIEL SALAZAR\n",
      "(17)USUARIO REGISTRADO:  12295 / MARGARITA ROJAS\n",
      "(18)USUARIO REGISTRADO:  42173 / ADELA ROCHA\n",
      "(19)USUARIO REGISTRADO:  42174 / ANDRES CLAROS\n",
      "(20)USUARIO REGISTRADO:  41897 / ARIEL EDSON DELGADILLO\n",
      "(21)USUARIO REGISTRADO:  41881 / AGROSERVIHADASSA SRL AP\n",
      "(22)USUARIO REGISTRADO:  2060 / CRISOLOGO CONDORI\n",
      "(23)USUARIO REGISTRADO:  2680 / RONALD CONDORI\n",
      "(24)USUARIO REGISTRADO:  42138 / BEIMAR CONDORI\n",
      "(25)USUARIO REGISTRADO:  787 / EFRAIN ALMENDRAS\n",
      "(26)USUARIO REGISTRADO:  5104 / JOSE LUIS GUZMAN\n",
      "(27)USUARIO REGISTRADO:  13660 / JULIO TOLA\n",
      "(28)USUARIO REGISTRADO:  2742 / OLIVER RICHARD DELGADILLO\n",
      "(29)USUARIO REGISTRADO:  2889 / FERMINA LOPEZ\n",
      "(30)USUARIO REGISTRADO:  5845 / FELIX ILLANES\n",
      "(31)USUARIO REGISTRADO:  11623 / SABINO ZAMBRANA\n",
      "(32)USUARIO REGISTRADO:  16211 / OLIVER OMAR ZAMBRANA\n",
      "(33)USUARIO REGISTRADO:  16605 / ALBINA MIGUEL\n",
      "(34)USUARIO REGISTRADO:  16610 / JUAN CARLOS ZAMBRANA\n",
      "(35)USUARIO REGISTRADO:  216 / LEOCADIO ANZE\n",
      "(36)USUARIO REGISTRADO:  677 / BISMARK ANZE\n",
      "(37)USUARIO REGISTRADO:  4695 / PAULINA CUAJIRA\n",
      "(38)USUARIO REGISTRADO:  40161 / JESUS ANZE\n",
      "(39)USUARIO REGISTRADO:  41967 / RUTTY ANZE\n",
      "(40)USUARIO REGISTRADO:  814 / RONY ANCE\n",
      "(41)USUARIO REGISTRADO:  1164 / JORGE ANCE\n",
      "(42)USUARIO REGISTRADO:  18334 / SANTIAGO ANZE\n",
      "(43)USUARIO REGISTRADO:  41963 / MARIA ANAHI SEROBEI\n",
      "(44)USUARIO REGISTRADO:  41965 / MIGUEL ANGEL ANCE\n",
      "(45)USUARIO REGISTRADO:  41968 / WILSON ANCE\n",
      "(46)USUARIO REGISTRADO:  42178 / RUDDY CONDORI\n",
      "(47)USUARIO REGISTRADO:  784 / BETTY ANZE\n",
      "(48)USUARIO REGISTRADO:  13212 / MARIA ELENA SOLIZ\n",
      "(49)USUARIO REGISTRADO:  13597 / PONCIANO TRUJILLO\n",
      "(50)USUARIO REGISTRADO:  42025 / JAIME TRUJILLO\n",
      "(51)USUARIO REGISTRADO:  770 / JUANITO ANCE\n",
      "(52)USUARIO REGISTRADO:  40278 / RICHARD ANZE\n",
      "(53)USUARIO REGISTRADO:  704 / CUAJIRA GLADYS\n",
      "(54)USUARIO REGISTRADO:  42177 / DAVID VIDAURRE\n",
      "(55)=====USUARIO YA RESTRADO:  1530 / CITTCA AP\n",
      "(56)USUARIO REGISTRADO:  18 / HONORATO ACUNA\n",
      "(57)USUARIO REGISTRADO:  550 / MARIO MILTON ACUNA\n",
      "(58)USUARIO REGISTRADO:  668 / YOVANA ACUNA\n",
      "(59)USUARIO REGISTRADO:  729 / BISMARK ACUNA\n",
      "(60)USUARIO REGISTRADO:  2471 / SONIA CHOQUE\n",
      "(61)USUARIO REGISTRADO:  8124 / TOMASA MARISCAL\n",
      "(62)USUARIO REGISTRADO:  4586 / JUAN GALVARRO\n",
      "(63)USUARIO REGISTRADO:  4931 / CECILIA GALVARRO\n",
      "(64)USUARIO REGISTRADO:  1346 / OLGA BORDA\n",
      "(65)USUARIO REGISTRADO:  2212 / LUCIO CRUZ\n",
      "(66)USUARIO REGISTRADO:  2274 / LUIS OMAR CRUZ\n",
      "(67)USUARIO REGISTRADO:  2514 / BERTHA VARGAS\n",
      "(68)USUARIO REGISTRADO:  15068 / NAIRA INES CRUZ\n",
      "(69)USUARIO REGISTRADO:  2862 / JOSE MIGUEL DORADO\n",
      "(70)USUARIO REGISTRADO:  2880 / DANIEL DORADO\n",
      "(71)USUARIO REGISTRADO:  2883 / LIDIA MENESES\n",
      "(72)USUARIO REGISTRADO:  18128 / FRANCISCO DORADO\n",
      "(73)USUARIO REGISTRADO:  17 / SABINO ACSAMA\n",
      "(74)USUARIO REGISTRADO:  465 / MARIO REYES ACSAMA\n",
      "(75)USUARIO REGISTRADO:  742 / ELVIRA AMURRIO\n",
      "(76)USUARIO REGISTRADO:  1479 / CCANA S.R.L. AP\n",
      "(77)=====USUARIO YA RESTRADO:  3378 / VICTOR HUGO ESCOBAR\n",
      "(78)USUARIO REGISTRADO:  3382 / ANDRES ESCOBAR\n",
      "(79)USUARIO REGISTRADO:  3446 / WILSON ESCOBAR\n",
      "(80)USUARIO REGISTRADO:  3456 / JUAN CARLOS ESCOBAR\n",
      "(81)USUARIO REGISTRADO:  3494 / MIGUEL ANDRES ESCOBAR\n",
      "(82)USUARIO REGISTRADO:  42265 / DARWIN MOLINA\n",
      "(83)USUARIO REGISTRADO:  2688 / LUCIA LEDESMA\n",
      "(84)USUARIO REGISTRADO:  7805 / SULLMAN LOPEZ\n",
      "(85)USUARIO REGISTRADO:  5314 / FREDDY HUANCA\n",
      "(86)USUARIO REGISTRADO:  5345 / EDGAR HUANCA\n",
      "(87)USUARIO REGISTRADO:  8140 / SIRLE YOBANA MASAI\n",
      "(88)USUARIO REGISTRADO:  854 / AGROPECUARIA LOPEZ QUIROZ S.R.L. AP\n",
      "(89)USUARIO REGISTRADO:  6806 / ROLANDO LOPEZ\n",
      "(90)USUARIO REGISTRADO:  7811 / OMAR EDWIN LOPEZ\n",
      "(91)USUARIO REGISTRADO:  11171 / TEODOCIA QUIROZ\n",
      "(92)USUARIO REGISTRADO:  11620 / ANGEL QUIROZ\n",
      "(93)USUARIO REGISTRADO:  41830 / RODRIGO LOPEZ\n",
      "(94)USUARIO REGISTRADO:  8816 / CINDA MONTANO\n",
      "(95)USUARIO REGISTRADO:  8867 / HERNAN MONTANO\n",
      "(96)USUARIO REGISTRADO:  8881 / BELSA MONTANO\n",
      "(97)USUARIO REGISTRADO:  13658 / EULOGIO TORREJON\n",
      "(98)USUARIO REGISTRADO:  42047 / ERICK FERNANDO TORREJON\n",
      "(99)USUARIO REGISTRADO:  2546 / RUTH TRUJILLO\n",
      "(100)=====USUARIO YA RESTRADO:  4539 / DAVID GARCIA\n",
      "(101)USUARIO REGISTRADO:  12009 / RIONY RONALD ROCHA\n",
      "(102)USUARIO REGISTRADO:  12233 / GUALBERTO ROCHA\n",
      "(103)USUARIO REGISTRADO:  12345 / LITO OLMAR ROCHA\n",
      "(104)USUARIO REGISTRADO:  627 / NIVIA EDITH ARNEZ\n",
      "(105)USUARIO REGISTRADO:  8817 / NORAH MONTANO\n",
      "(106)USUARIO REGISTRADO:  4112 / LUIS FERNANDO FERRUFINO\n",
      "(107)USUARIO REGISTRADO:  15111 / ROGELIA VASQUEZ\n",
      "(108)USUARIO REGISTRADO:  15113 / MACEDONIA VASQUEZ\n",
      "(109)USUARIO REGISTRADO:  1836 / JUAN CASTRO\n",
      "(110)USUARIO REGISTRADO:  40213 / CARLOS CASTRO\n",
      "(111)USUARIO REGISTRADO:  5290 / GLADYS HUANCA\n",
      "(112)USUARIO REGISTRADO:  10758 / JOSE ANTONIO PRADO\n",
      "(113)USUARIO REGISTRADO:  42045 / CARLOS ANDRES PRADO\n",
      "(114)USUARIO REGISTRADO:  42180 / JOSE EDGAR PRADO\n",
      "(115)=====USUARIO YA RESTRADO:  6578 / JOSE LUIS JALDIN\n",
      "(116)=====USUARIO YA RESTRADO:  41866 / JUAN PABLO JALDIN\n",
      "(117)USUARIO REGISTRADO:  42262 / ANDREA JALDIN\n",
      "(118)USUARIO REGISTRADO:  42263 / DIEGO JALDIN\n",
      "(119)USUARIO REGISTRADO:  42264 / MARCOS MERCADO\n",
      "(120)USUARIO REGISTRADO:  11617 / DAVID EZEQUIEL REYES\n",
      "(121)USUARIO REGISTRADO:  11750 / JOSE REYES\n",
      "(122)USUARIO REGISTRADO:  17692 / EVANGELINO RODRIGUEZ\n",
      "(123)USUARIO REGISTRADO:  614 / JONNY ARCE\n",
      "(124)USUARIO REGISTRADO:  2220 / TITO JHONNY CRUZ\n",
      "(125)USUARIO REGISTRADO:  2224 / WILLY WALDO CRUZ\n",
      "(126)USUARIO REGISTRADO:  2505 / CRISTIAN F. CRUZ\n",
      "(127)USUARIO REGISTRADO:  2510 / OSCAR ANDREZ CRUZ\n",
      "(128)USUARIO REGISTRADO:  6639 / EDILFRIDA JUSTINIANO\n",
      "(129)USUARIO REGISTRADO:  14546 / WILLIAMS LARA\n",
      "(130)USUARIO REGISTRADO:  15085 / RUTH JAQUELIN BARRIENTOS\n",
      "(131)USUARIO REGISTRADO:  16672 / LUIS ENRIQUE ZAMBRANA\n",
      "(132)USUARIO REGISTRADO:  772 / AGRO-SERVILOG S.R.L. AP\n",
      "(133)USUARIO REGISTRADO:  4638 / JUANA GODOY\n",
      "(134)USUARIO REGISTRADO:  7659 / VICENTE LOPEZ\n",
      "(135)USUARIO REGISTRADO:  7817 / ALEXANDER LOPEZ\n",
      "(136)USUARIO REGISTRADO:  7904 / OLIVIA LOPEZ\n",
      "(137)USUARIO REGISTRADO:  2824 / ALFREDO DURAN\n",
      "(138)USUARIO REGISTRADO:  40190 / CHARLES ROBERT DURAN\n",
      "(139)USUARIO REGISTRADO:  7771 / UBALDINO LOPEZ\n",
      "(140)USUARIO REGISTRADO:  7819 / HERMAN LOPEZ\n",
      "(141)USUARIO REGISTRADO:  7822 / PAULINA TURIHUANO\n",
      "(142)USUARIO REGISTRADO:  41599 / JUAN CARLOS LOPEZ\n",
      "(143)USUARIO REGISTRADO:  1650 / LUISA CALLE\n",
      "(144)USUARIO REGISTRADO:  3987 / GERMAN BENEDICTO FERRUFINO\n",
      "(145)USUARIO REGISTRADO:  7740 / SIMON LOPEZ\n",
      "(146)USUARIO REGISTRADO:  8272 / ALEJANDRO MAMANI\n",
      "(147)USUARIO REGISTRADO:  11716 / GREGORIO RAMOS\n",
      "(148)USUARIO REGISTRADO:  12492 / VICTOR SOCOMPI\n",
      "(149)USUARIO REGISTRADO:  875 / CHARLES BALDERRAMA\n",
      "(150)USUARIO REGISTRADO:  878 / NILDA BALDERRAMA\n",
      "(151)USUARIO REGISTRADO:  941 / PEDRO FELIX BALDERRAMA\n",
      "(152)USUARIO REGISTRADO:  14810 / ROSA INES VEIZAGA\n",
      "(153)USUARIO REGISTRADO:  10298 / ROY RONALD PARRA\n",
      "(154)USUARIO REGISTRADO:  10794 / FIDEL PARRA\n",
      "(155)USUARIO REGISTRADO:  15204 / SAUL ROGER VASQUEZ\n",
      "(156)USUARIO REGISTRADO:  5402 / EDGAR HINOJOSA\n",
      "(157)=====USUARIO YA RESTRADO:  7542 / VICTOR LAZARTE\n",
      "(158)USUARIO REGISTRADO:  2153 / ERNESTINA LUISA MORALES\n",
      "(159)USUARIO REGISTRADO:  2476 / JORGE ANTONIO CORDERO\n",
      "(160)USUARIO REGISTRADO:  2515 / SANDRA CORDERO\n",
      "(161)USUARIO REGISTRADO:  2720 / JORGE CORDERO\n",
      "(162)USUARIO REGISTRADO:  2918 / CRISTIAN CORDERO\n",
      "(163)USUARIO REGISTRADO:  11912 / ALFONZO RODRIGUEZ\n",
      "(164)USUARIO REGISTRADO:  42181 / MARSELINA CASTRO\n",
      "(165)USUARIO REGISTRADO:  12314 / SAUL RODRIGUEZ\n",
      "(166)USUARIO REGISTRADO:  42183 / MARCIANO BARON\n",
      "(167)USUARIO REGISTRADO:  8192 / LIMBERT MORA\n",
      "(168)USUARIO REGISTRADO:  8833 / RENE MORA\n",
      "(169)USUARIO REGISTRADO:  18118 / VICTORINA AREQUIPA\n",
      "(170)USUARIO REGISTRADO:  13480 / FRANCISCO TAPIA\n",
      "(171)USUARIO REGISTRADO:  42182 / RONALD TAPIA\n",
      "(172)USUARIO REGISTRADO:  42073 / ENRIQUE TAPIA\n",
      "(173)USUARIO REGISTRADO:  8892 / MARCELA MAMANI\n",
      "(174)USUARIO REGISTRADO:  18208 / BENIGNO JIMENEZ\n",
      "(175)USUARIO REGISTRADO:  2408 / FREDDY CHOQUE\n",
      "(176)USUARIO REGISTRADO:  2437 / JOSE CLAURE\n",
      "(177)USUARIO REGISTRADO:  2683 / ALI CARLOS CHOQUE\n",
      "(178)USUARIO REGISTRADO:  4128 / GABINO FERNANDEZ\n",
      "(179)USUARIO REGISTRADO:  4471 / IRMA FRANCO\n",
      "(180)USUARIO REGISTRADO:  8857 / ROSMERY MENCHACA\n",
      "(181)USUARIO REGISTRADO:  8858 / CELSO MONTAÑO\n",
      "(182)USUARIO REGISTRADO:  8915 / ELIZABETH MENCHACA\n",
      "(183)USUARIO REGISTRADO:  12401 / VANIA ROSAS\n",
      "(184)USUARIO REGISTRADO:  18119 / SATURNINA HERRERA\n",
      "(185)USUARIO REGISTRADO:  40159 / ANA MARIA JUSTINIANO\n",
      "(186)USUARIO REGISTRADO:  42241 / JORGE MIGUEL PEREZ\n",
      "(187)USUARIO REGISTRADO:  402 / ROLANDO ALVAREZ\n",
      "(188)USUARIO REGISTRADO:  2747 / MARTHA BURGOS\n",
      "(189)USUARIO REGISTRADO:  167 / MOISES ALVAREZ\n",
      "(190)USUARIO REGISTRADO:  405 / WILSON ALVAREZ\n",
      "(191)USUARIO REGISTRADO:  624 / HERNAN ALVAREZ\n",
      "(192)USUARIO REGISTRADO:  1243 / FRANCIS BORYS ALVAREZ\n",
      "(193)USUARIO REGISTRADO:  166 / JULIAN ALVAREZ\n",
      "(194)USUARIO REGISTRADO:  522 / JOSEFINA MONTANO\n",
      "(195)USUARIO REGISTRADO:  6390 / SERGIO JUCHASARA\n",
      "(196)USUARIO REGISTRADO:  2462 / MARIA RODRIGUEZ\n",
      "(197)USUARIO REGISTRADO:  9388 / MARIA SINFOROSA  RODRIGUEZ\n",
      "(198)USUARIO REGISTRADO:  8209 / NANCY MAFAILE\n",
      "(199)USUARIO REGISTRADO:  8508 / CATALINO MERLO\n",
      "(200)USUARIO REGISTRADO:  9687 / ELADIO ORTEGA\n",
      "(201)USUARIO REGISTRADO:  11681 / MAXIMO RICALDI\n",
      "(202)USUARIO REGISTRADO:  15007 / PLACIDA ABAN\n",
      "(203)USUARIO REGISTRADO:  40162 / MERCEDES FLORES\n",
      "(204)USUARIO REGISTRADO:  40164 / ROSAURO BURGOS\n",
      "(205)USUARIO REGISTRADO:  1153 / FREDDY BALDELOMAR\n",
      "(206)USUARIO REGISTRADO:  1196 / LITZER BALDELOMAR\n",
      "(207)USUARIO REGISTRADO:  8591 / ROSA MONTERO\n",
      "(208)USUARIO REGISTRADO:  293 / JAIME AYALA\n",
      "(209)USUARIO REGISTRADO:  386 / GREGORIO AYALA\n",
      "(210)USUARIO REGISTRADO:  683 / MERY AYALA\n",
      "(211)USUARIO REGISTRADO:  723 / LOURDES AYALA\n",
      "(212)USUARIO REGISTRADO:  2331 / ISABEL CASTEDO\n",
      "(213)USUARIO REGISTRADO:  9692 / JOSE ENRIQUE ORELLANA\n",
      "(214)USUARIO REGISTRADO:  40166 / NOE AYALA\n",
      "(215)USUARIO REGISTRADO:  130 / ZENON MARIO ALMENDRAS\n",
      "(216)USUARIO REGISTRADO:  395 / ESMEREGILDA AYALA\n",
      "(217)USUARIO REGISTRADO:  454 / LEOPOLDO AYALA\n",
      "(218)USUARIO REGISTRADO:  556 / WALDO SELUB AYALA\n",
      "(219)USUARIO REGISTRADO:  574 / ARTURO AYALA\n",
      "(220)USUARIO REGISTRADO:  753 / MARIO WILFREDO AYALA\n",
      "(221)USUARIO REGISTRADO:  1283 / DIONICIA ESPINOZA\n",
      "(222)USUARIO REGISTRADO:  8214 / ESTEBAN MARTINEZ\n",
      "(223)USUARIO REGISTRADO:  15053 / RUBEN VEIZAGA\n",
      "(224)USUARIO REGISTRADO:  40165 / ROXANA VEIZAGA\n",
      "(225)USUARIO REGISTRADO:  40167 / LUIS OSMAN GONZALES\n",
      "(226)USUARIO REGISTRADO:  40279 / JORGE DANIEL GONZALES\n",
      "(227)USUARIO REGISTRADO:  41559 / GUSTAVO ARTURO AYALA\n",
      "(228)USUARIO REGISTRADO:  41872 / GUIDO PARADA\n",
      "(229)USUARIO REGISTRADO:  41949 / GONZALO MENDOZA\n",
      "(230)USUARIO REGISTRADO:  41951 / LEONARDO ISMAEL AYALA\n",
      "(231)USUARIO REGISTRADO:  42242 / NOELIA AYALA\n",
      "(232)USUARIO REGISTRADO:  2100 / JUAN CONDORI\n",
      "(233)USUARIO REGISTRADO:  2557 / FELIPA GUZMAN\n",
      "(234)USUARIO REGISTRADO:  2636 / ROXANA CONDORI\n",
      "(235)USUARIO REGISTRADO:  2716 / NORMA CONDORI\n",
      "(236)USUARIO REGISTRADO:  41792 / JHONNY CONDORI\n",
      "(237)USUARIO REGISTRADO:  14542 / JUAN JOSE VELASQUEZ\n",
      "(238)USUARIO REGISTRADO:  14826 / JACINTO VELASQUEZ\n",
      "(239)USUARIO REGISTRADO:  15145 / KEVIN JACINTO VELASQUEZ\n",
      "(240)USUARIO REGISTRADO:  40168 / ROSMERY VELASQUEZ\n",
      "(241)USUARIO REGISTRADO:  3898 / ANGEL FERNANDEZ\n",
      "(242)USUARIO REGISTRADO:  4146 / GERMAN FERNANDEZ\n",
      "(243)USUARIO REGISTRADO:  8776 / MARGARITA MERINO\n",
      "(244)USUARIO REGISTRADO:  4528 / GUSTAVO GUZMAN\n",
      "(245)USUARIO REGISTRADO:  30932 / JHOANA GRISELDA GUZMAN\n",
      "(246)USUARIO REGISTRADO:  42131 / AGROPECUARIA CAMPOAZUL S.R.L. AP\n",
      "(247)USUARIO REGISTRADO:  661 / DOLORES ALMANZA\n",
      "(248)USUARIO REGISTRADO:  4967 / WILLAN GUZMAN\n",
      "(249)USUARIO REGISTRADO:  17691 / PEDRO WILMER GUZMAN\n",
      "(250)USUARIO REGISTRADO:  41531 / WILMER GUZMAN\n",
      "(251)=====USUARIO YA RESTRADO:  41820 / ASUBYS.R.L. AP\n",
      "(252)USUARIO REGISTRADO:  6436 / GUALBERTO JIMENEZ\n",
      "(253)USUARIO REGISTRADO:  40137 / SHARON DENISSE JIMENEZ\n",
      "(254)USUARIO REGISTRADO:  41564 / PUESTO-ARENA S.R.L. AP\n",
      "(255)USUARIO REGISTRADO:  6394 / LIDIA JIMENEZ\n",
      "(256)=====USUARIO YA RESTRADO:  9677 / JAIRO ESTEVAN OVANDO\n",
      "(257)USUARIO REGISTRADO:  9953 / ELSA JIMENEZ\n",
      "(258)USUARIO REGISTRADO:  566 / PEDRO ARNEZ\n",
      "(259)USUARIO REGISTRADO:  31088 / JENNY FELICIDAD COLQUE\n",
      "(260)USUARIO REGISTRADO:  41533 / ROSARIO ESTELA ARNEZ\n",
      "(261)USUARIO REGISTRADO:  2488 / RICHARD LUIS CASTILLO\n",
      "(262)USUARIO REGISTRADO:  40256 / INSERVA DAMIANA S.R.L. AP\n",
      "(263)USUARIO REGISTRADO:  842 / AGRODAR S.R.L. AP\n",
      "(264)USUARIO REGISTRADO:  4915 / YOLANDA COCA\n",
      "(265)USUARIO REGISTRADO:  4711 / REMIGIO GUTIERREZ\n",
      "(266)USUARIO REGISTRADO:  4815 / WILLY GUTIERREZ\n",
      "(267)USUARIO REGISTRADO:  4958 / MERY GUTIERREZ\n",
      "(268)USUARIO REGISTRADO:  2913 / ZAIRA EVELYN CALVIMONTES\n",
      "(269)USUARIO REGISTRADO:  14569 / ERWIN VARGAS\n",
      "(270)USUARIO REGISTRADO:  15146 / IGNACIA SOTO\n",
      "(271)USUARIO REGISTRADO:  15308 / ELVIRA VARGAS\n",
      "(272)USUARIO REGISTRADO:  1460 / SILVIA EUGENIA CALLE\n",
      "(273)USUARIO REGISTRADO:  1486 / GUSTAVO A. CALLE\n",
      "(274)USUARIO REGISTRADO:  1661 / EDMUNDO CALLE\n",
      "(275)USUARIO REGISTRADO:  41819 / AGROPECUARIA GUSTAVITO SRL AP\n",
      "(276)USUARIO REGISTRADO:  41849 / RUBITH MONICA CALLE\n",
      "(277)USUARIO REGISTRADO:  747 / AGROWILNOR SRL. AP\n",
      "(278)USUARIO REGISTRADO:  783 / ANGELINA AVILA\n",
      "(279)USUARIO REGISTRADO:  4758 / HONORATO GUZMAN\n",
      "(280)USUARIO REGISTRADO:  4882 / WILSON GUZMAN\n",
      "(281)USUARIO REGISTRADO:  9104 / WILMA NOVA\n",
      "(282)USUARIO REGISTRADO:  9215 / ANGEL NOVA\n",
      "(283)USUARIO REGISTRADO:  11876 / HILARION ROCHA\n",
      "(284)USUARIO REGISTRADO:  40255 / NORA CARO\n",
      "(285)USUARIO REGISTRADO:  41821 / AGROMETALDIBRI S.R.L. AP\n",
      "(286)USUARIO REGISTRADO:  42074 / JULIOMAR GUZMAN\n",
      "(287)USUARIO REGISTRADO:  6468 / ROSA PACO\n",
      "(288)USUARIO REGISTRADO:  10745 / RIONI JUCHANI\n",
      "(289)USUARIO REGISTRADO:  1478 / MARCO ANTONIO CALLE\n",
      "(290)USUARIO REGISTRADO:  1652 / RENE CALLE\n",
      "(291)USUARIO REGISTRADO:  430 / FREDDY AMURRIO\n",
      "(292)USUARIO REGISTRADO:  42243 / OSCAR MARIO AMURRIO\n",
      "(293)USUARIO REGISTRADO:  8490 / JUAN MERCADO\n",
      "(294)USUARIO REGISTRADO:  1738 / LUIS CASIMIRO VARGAS\n",
      "(295)USUARIO REGISTRADO:  2616 / GONZALO CONDORI\n",
      "(296)USUARIO REGISTRADO:  9711 / ENRIQUE OJEDA\n",
      "(297)USUARIO REGISTRADO:  9930 / MIGUEL OJEDA\n",
      "(298)USUARIO REGISTRADO:  9937 / YBETH OJEDA\n",
      "(299)USUARIO REGISTRADO:  9972 / EDY GONZALO OTALORA\n",
      "(300)USUARIO REGISTRADO:  12242 / NOEMI RODRIGUEZ\n",
      "(301)USUARIO REGISTRADO:  12489 / AGRITEAM SRL. AP\n",
      "(302)USUARIO REGISTRADO:  1523 / NILO WAYER\n",
      "(303)USUARIO REGISTRADO:  4942 / JHONN A. GUZMAN\n",
      "(304)USUARIO REGISTRADO:  30843 / MAGALI ORELLANA\n"
     ]
    }
   ],
   "source": [
    "for i in range(len(data)):\n",
    "    fila = data.iloc[i]\n",
    "    # COMPROBAR EXISTENCIA DE USUARIO\n",
    "    select = 'select * from users where codigo={cod}'.format(cod=fila['COD_CA'])\n",
    "    # ejecutar seleccion\n",
    "    select_user = dbQuery(select)\n",
    "    if len(select_user)>0:\n",
    "        print('(' + str(i+1) + ')=====USUARIO YA RESTRADO: ', select_user[0]['codigo'] + ' / ' + select_user[0]['name'] + ' ' + select_user[0]['apellido_paterno'])\n",
    "        continue\n",
    "    \n",
    "    # BUSCAR INST\n",
    "    select = 'select * from institucion where codigo=\\'{inst}\\''.format(inst=fila['INST'])\n",
    "    # ejecutar seleccion\n",
    "    select_inst = dbQuery(select)\n",
    "    \n",
    "    # CREAR CONTARSEÑA\n",
    "    password = fila['PASS'].encode('utf-8')  # Asegúrese de que la contraseña sea de tipo bytes\n",
    "    salt = bcrypt.gensalt()\n",
    "    hashed_password = bcrypt.hashpw(password, salt)\n",
    "    \n",
    "    # DATOS DEL USUARIO\n",
    "    usuario = {\n",
    "        'codigo' : fila['COD_CA'],\n",
    "        'nombre' : fila['NOMBRE'],\n",
    "        'ap_paterno' : fila['AP_PATERNO'],\n",
    "        'ap_materno' : fila['AP_MATERNO'],\n",
    "        'correo' : fila['CORREO'],\n",
    "        'telf' : fila['TELF'],\n",
    "        'usuario' : fila['USUARIO'],\n",
    "        'contrasena' : hashed_password.decode('utf-8'),\n",
    "        'tipo' : 'propietario',\n",
    "        'inst' : select_inst[0]['id'],\n",
    "        'abrev' : abbreviate_institution_name(fila['NOMBRE']),\n",
    "        'estado' : 'activo',\n",
    "        'usuario_id' : 1,\n",
    "        'fecha' : formatted_now\n",
    "    }\n",
    "    \n",
    "    # INSERT USER\n",
    "    query = 'insert into users (name, apellido_paterno, apellido_materno, username, email, codigo, telefono, tipo, estado, slug, password, institucion_id, usuario_id, created_at, updated_at) values (\\'{nombre}\\', \\'{ap_paterno}\\', \\'{ap_materno}\\',\\'{username}\\', \\'{email}\\', \\'{codigo}\\', \\'{telefono}\\', \\'{tipo}\\', \\'{estado}\\', \\'{slug}\\', \\'{password}\\', {institucion_id}, {usuario_id}, \\'{created_at}\\', \\'{updated_at}\\')'.format(nombre=usuario['nombre'], ap_paterno=usuario['ap_paterno'], ap_materno=usuario['ap_materno'], username=usuario['usuario'], email=usuario['correo'], codigo=usuario['codigo'], telefono=usuario['telf'], tipo=usuario['tipo'], estado=usuario['estado'], slug='', password=usuario['contrasena'], institucion_id=usuario['inst'], usuario_id=usuario['usuario_id'], created_at=usuario['fecha'], updated_at=usuario['fecha'])\n",
    "    insert_row = dbQuery(query, 1)\n",
    "    \n",
    "    # SELECCIONAR EL USUARIO RECIEN CREADO\n",
    "    select = 'select * from users where codigo={cod}'.format(cod=usuario['codigo'])\n",
    "    # ejecutar seleccion\n",
    "    select_user = dbQuery(select)\n",
    "    \n",
    "    # GENERAR CODIGO SLUG\n",
    "    slug_cod = abbreviate_institution_name(select_user[0]['name']) + '-' + str(select_user[0]['id'])\n",
    "    \n",
    "    # ACTUALIZAR EL SLUG\n",
    "    update_slug = 'update users set slug=\\'{slug_cod}\\' where id={id_user}'.format(slug_cod=slug_cod, id_user=select_user[0]['id'])\n",
    "    dbQuery(update_slug, 1)\n",
    "    \n",
    "    print('(' + str(i+1) + ')USUARIO REGISTRADO: ', str(usuario['codigo']) + \" / \" + usuario['nombre'] + \" \" + usuario['ap_paterno'])\n",
    "    i=i+1"
   ]
  },
  {
   "cell_type": "code",
   "execution_count": null,
   "id": "850d36ec-1431-4ed7-8141-fe4a4171db28",
   "metadata": {},
   "outputs": [],
   "source": []
  },
  {
   "cell_type": "code",
   "execution_count": null,
   "id": "cfa67b0c-55e9-46ed-a92f-f391848e79e9",
   "metadata": {},
   "outputs": [],
   "source": []
  },
  {
   "cell_type": "code",
   "execution_count": null,
   "id": "e74f8cb3-e69d-4243-9ba7-d65647130abb",
   "metadata": {},
   "outputs": [],
   "source": []
  },
  {
   "cell_type": "code",
   "execution_count": 10,
   "id": "d67ef0ce-41bf-4a71-8297-dad02761ba44",
   "metadata": {},
   "outputs": [
    {
     "data": {
      "text/plain": [
       "2710"
      ]
     },
     "execution_count": 10,
     "metadata": {},
     "output_type": "execute_result"
    }
   ],
   "source": [
    "fila = data.iloc[0]\n",
    "fila['COD_CA']"
   ]
  },
  {
   "cell_type": "code",
   "execution_count": 11,
   "id": "5e87f56c-cdda-4031-8c0c-6f858489f2c6",
   "metadata": {},
   "outputs": [
    {
     "data": {
      "text/plain": [
       "INST                                 1\n",
       "COD_CA                            2710\n",
       "NOMBRE                        JOSELITO\n",
       "AP_PATERNO                    DEMIQUEL\n",
       "AP_MATERNO                     JIMENEZ\n",
       "CORREO        jdemiquel_2710@gmail.com\n",
       "USUARIO                           2710\n",
       "PASS                          123*2710\n",
       "TELF                          70863144\n",
       "Name: 0, dtype: object"
      ]
     },
     "execution_count": 11,
     "metadata": {},
     "output_type": "execute_result"
    }
   ],
   "source": [
    "fila"
   ]
  },
  {
   "cell_type": "code",
   "execution_count": 12,
   "id": "24cb284c-57fa-454d-921e-b71b1c571325",
   "metadata": {},
   "outputs": [
    {
     "data": {
      "text/plain": [
       "2710"
      ]
     },
     "execution_count": 12,
     "metadata": {},
     "output_type": "execute_result"
    }
   ],
   "source": [
    "fila['COD_CA']"
   ]
  },
  {
   "cell_type": "code",
   "execution_count": 17,
   "id": "8ee92a8d-8768-4566-a852-01802e59f4ed",
   "metadata": {},
   "outputs": [],
   "source": [
    "# seleccionar instituacion\n",
    "select = 'select * from users where codigo={cod}'.format(cod=fila['COD_CA'])\n",
    "# ejecutar seleccion\n",
    "select_user = dbQuery(select)\n",
    "#select_inst[0]"
   ]
  },
  {
   "cell_type": "code",
   "execution_count": 18,
   "id": "30ac4a38-cd56-4516-886e-6bfea668bf0c",
   "metadata": {},
   "outputs": [
    {
     "name": "stdout",
     "output_type": "stream",
     "text": [
      "No registrado\n"
     ]
    }
   ],
   "source": [
    "if len(select_user)==0:\n",
    "    print('No registrado')\n",
    "else:\n",
    "    print('Ya esta registrado')"
   ]
  },
  {
   "cell_type": "code",
   "execution_count": 19,
   "id": "08f5c963-cc37-4905-bb23-609a2559ca07",
   "metadata": {},
   "outputs": [
    {
     "data": {
      "text/plain": [
       "INST                                 1\n",
       "COD_CA                            2710\n",
       "NOMBRE                        JOSELITO\n",
       "AP_PATERNO                    DEMIQUEL\n",
       "AP_MATERNO                     JIMENEZ\n",
       "CORREO        jdemiquel_2710@gmail.com\n",
       "USUARIO                           2710\n",
       "PASS                          123*2710\n",
       "TELF                          70863144\n",
       "Name: 0, dtype: object"
      ]
     },
     "execution_count": 19,
     "metadata": {},
     "output_type": "execute_result"
    }
   ],
   "source": [
    "fila"
   ]
  },
  {
   "cell_type": "code",
   "execution_count": 20,
   "id": "3295808a-c65a-4be2-a690-174813fa52cd",
   "metadata": {},
   "outputs": [
    {
     "data": {
      "text/plain": [
       "{'id': 26,\n",
       " 'codigo': '1',\n",
       " 'nombre': '1 -  ASOCIACIÓN DE PEQUEÑOS PRODUCTORES DE CAÑA CAMPESINO C.T.C.',\n",
       " 'slug': '1-asociacion-de-pequenos-productores-de-cana-campesino-ctc-26',\n",
       " 'direccion': 'C/ Rosendo Paz Nº 148',\n",
       " 'telefono': '9220257',\n",
       " 'estado': 'activo',\n",
       " 'created_at': datetime.datetime(2023, 5, 16, 14, 43, 40),\n",
       " 'updated_at': datetime.datetime(2023, 5, 16, 14, 43, 40)}"
      ]
     },
     "execution_count": 20,
     "metadata": {},
     "output_type": "execute_result"
    }
   ],
   "source": [
    "# BUSCAR INST\n",
    "select = 'select * from institucion where codigo=\\'{inst}\\''.format(inst=fila['INST'])\n",
    "# ejecutar seleccion\n",
    "select_inst = dbQuery(select)\n",
    "# si es mayor a cero, la inst ya esta registrada\n",
    "select_inst[0]"
   ]
  },
  {
   "cell_type": "code",
   "execution_count": 21,
   "id": "7f1a9a6a-2a69-4b03-87d8-f39301f2a81a",
   "metadata": {},
   "outputs": [
    {
     "name": "stdout",
     "output_type": "stream",
     "text": [
      "b'$2b$12$XvKNFG29MmuFSWDFYp2UGuX22R46t0Xs7Sec35tX9sV5K9jef9p9y'\n"
     ]
    }
   ],
   "source": [
    "# CREAR CONTARSEÑA\n",
    "password = fila['PASS'].encode('utf-8')  # Asegúrese de que la contraseña sea de tipo bytes\n",
    "salt = bcrypt.gensalt()\n",
    "hashed_password = bcrypt.hashpw(password, salt)\n",
    "print(hashed_password)"
   ]
  },
  {
   "cell_type": "code",
   "execution_count": 23,
   "id": "c473434a-3a59-4349-afbe-0670eeef78f5",
   "metadata": {},
   "outputs": [],
   "source": [
    "# DATOS DEL USUARIO\n",
    "usuario = {\n",
    "    'codigo' : fila['COD_CA'],\n",
    "    'nombre' : fila['NOMBRE'],\n",
    "    'ap_paterno' : fila['AP_PATERNO'],\n",
    "    'ap_materno' : fila['AP_MATERNO'],\n",
    "    'correo' : fila['CORREO'],\n",
    "    'telf' : fila['TELF'],\n",
    "    'usuario' : fila['USUARIO'],\n",
    "    'contrasena' : hashed_password.decode('utf-8'),\n",
    "    'tipo' : 'propietario',\n",
    "    'inst' : select_inst[0]['id'],\n",
    "    'abrev' : abbreviate_institution_name(fila['NOMBRE']),\n",
    "    'estado' : 'activo',\n",
    "    'usuario_id' : 1,\n",
    "    'fecha' : formatted_now\n",
    "}"
   ]
  },
  {
   "cell_type": "code",
   "execution_count": 24,
   "id": "8608b30e-cea2-41f8-978f-47c83ee10fd9",
   "metadata": {},
   "outputs": [],
   "source": [
    "query = 'insert into users (name, apellido_paterno, apellido_materno, username, email, codigo, telefono, tipo, estado, slug, password, institucion_id, usuario_id, created_at, updated_at) values (\\'{nombre}\\', \\'{ap_paterno}\\', \\'{ap_materno}\\',\\'{username}\\', \\'{email}\\', \\'{codigo}\\', \\'{telefono}\\', \\'{tipo}\\', \\'{estado}\\', \\'{slug}\\', \\'{password}\\', {institucion_id}, {usuario_id}, \\'{created_at}\\', \\'{updated_at}\\')'.format(nombre=usuario['nombre'], ap_paterno=usuario['ap_paterno'], ap_materno=usuario['ap_materno'], username=usuario['usuario'], email=usuario['correo'], codigo=usuario['codigo'], telefono=usuario['telf'], tipo=usuario['tipo'], estado=usuario['estado'], slug='', password=usuario['contrasena'], institucion_id=usuario['inst'], usuario_id=usuario['usuario_id'], created_at=usuario['fecha'], updated_at=usuario['fecha'])\n",
    "insert_row = dbQuery(query, 1)"
   ]
  },
  {
   "cell_type": "code",
   "execution_count": 25,
   "id": "38759ba8-f77c-4e51-bf08-143bee589992",
   "metadata": {},
   "outputs": [],
   "source": [
    "# SELECCIONAR EL USUARIO RECIEN CREADO\n",
    "select = 'select * from users where codigo={cod}'.format(cod=usuario['codigo'])\n",
    "# ejecutar seleccion\n",
    "select_user = dbQuery(select)"
   ]
  },
  {
   "cell_type": "code",
   "execution_count": 26,
   "id": "deed9ce8-ac69-4f62-89e8-f109a266831a",
   "metadata": {},
   "outputs": [
    {
     "data": {
      "text/plain": [
       "'joselito-70'"
      ]
     },
     "execution_count": 26,
     "metadata": {},
     "output_type": "execute_result"
    }
   ],
   "source": [
    "# GENERAR CODIGO SLUG\n",
    "slug_cod = abbreviate_institution_name(select_user[0]['name']) + '-' + str(select_user[0]['id'])\n",
    "slug_cod"
   ]
  },
  {
   "cell_type": "code",
   "execution_count": 27,
   "id": "92b6abbe-66d4-4aaf-9abb-8cdac2903d72",
   "metadata": {},
   "outputs": [
    {
     "data": {
      "text/plain": [
       "()"
      ]
     },
     "execution_count": 27,
     "metadata": {},
     "output_type": "execute_result"
    }
   ],
   "source": [
    "# ACTUALIZAR EL SLUG\n",
    "update_slug = 'update users set slug=\\'{slug_cod}\\' where id={id_user}'.format(slug_cod=slug_cod, id_user=select_user[0]['id'])\n",
    "dbQuery(update_slug, 1)"
   ]
  },
  {
   "cell_type": "code",
   "execution_count": null,
   "id": "7fe1a46c-a4a7-40c8-89ca-abb83b7b6161",
   "metadata": {},
   "outputs": [],
   "source": []
  },
  {
   "cell_type": "code",
   "execution_count": null,
   "id": "1ddc8d60-ed14-4885-9d19-483056888293",
   "metadata": {},
   "outputs": [],
   "source": []
  }
 ],
 "metadata": {
  "kernelspec": {
   "display_name": "Python 3 (ipykernel)",
   "language": "python",
   "name": "python3"
  },
  "language_info": {
   "codemirror_mode": {
    "name": "ipython",
    "version": 3
   },
   "file_extension": ".py",
   "mimetype": "text/x-python",
   "name": "python",
   "nbconvert_exporter": "python",
   "pygments_lexer": "ipython3",
   "version": "3.11.2"
  }
 },
 "nbformat": 4,
 "nbformat_minor": 5
}
