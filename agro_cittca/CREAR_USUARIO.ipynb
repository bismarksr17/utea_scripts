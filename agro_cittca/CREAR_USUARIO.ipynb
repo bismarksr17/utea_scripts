{
 "cells": [
  {
   "cell_type": "code",
   "execution_count": 3,
   "id": "9eafbbc1-bbc2-47a9-80a1-28fd7afb07be",
   "metadata": {
    "tags": []
   },
   "outputs": [],
   "source": [
    "# IMPORTS\n",
    "import pandas as pd\n",
    "\n",
    "import tkinter as tk\n",
    "from tkinter import filedialog as fd\n",
    "\n",
    "import logging\n",
    "import logging.config\n",
    "import pymysql\n",
    "import paramiko\n",
    "from paramiko import SSHClient\n",
    "from sshtunnel import SSHTunnelForwarder\n",
    "\n",
    "import ast\n",
    "\n",
    "import re\n",
    "from unidecode import unidecode\n",
    "\n",
    "from datetime import datetime"
   ]
  },
  {
   "cell_type": "code",
   "execution_count": 4,
   "id": "47756d7f-cbda-4c78-9e22-9728fd705ae0",
   "metadata": {
    "tags": []
   },
   "outputs": [],
   "source": [
    "# ruta de carpera donde estan las llaves\n",
    "ruta = open('../ruta.txt')\n",
    "ruta = ruta.readlines()[0]\n",
    "\n",
    "# cargar datos para conectar a AGROCITTCA\n",
    "data = open(ruta + '/_keys/agrocittca.data','r')\n",
    "password = data.readlines()[0]\n",
    "data.close()\n",
    "\n",
    "# extraccion de los datos\n",
    "datos_cnx = ast.literal_eval(password)\n",
    "\n",
    "# lectura de llave ssh\n",
    "mypkey = paramiko.RSAKey.from_private_key_file(ruta + '/_keys/llave_db_agrocittca', password='micontrasena')\n",
    "\n",
    "# ssh variables\n",
    "ssh_host = datos_cnx['ssh_host']\n",
    "ssh_port = datos_cnx['ssh_port']\n",
    "localhost = datos_cnx['localhost']\n",
    "localport = datos_cnx['localport']\n",
    "ssh_user = datos_cnx['ssh_user']\n",
    "\n",
    "# database variables\n",
    "sql_username = datos_cnx['sql_username']\n",
    "sql_password = datos_cnx['sql_password']\n",
    "sql_main_database = datos_cnx['sql_main_database']"
   ]
  },
  {
   "cell_type": "code",
   "execution_count": 5,
   "id": "8194b939-074c-4b9c-ae08-8d67fc219eff",
   "metadata": {
    "tags": []
   },
   "outputs": [],
   "source": [
    "# funcion para ejecutar una script SQL\n",
    "# estado = 0 para select\n",
    "# estado = 1 para update\n",
    "def dbQuery(q, estado = 0):\n",
    "    \"\"\" access the database over the SSH tunnel and execute the query \"\"\"\n",
    "    logger = logging.getLogger()\n",
    "    logger.debug(\"Connecting to reporting server...\", end=\"\")\n",
    "    with SSHTunnelForwarder(\n",
    "        (ssh_host, ssh_port),\n",
    "        ssh_username=ssh_user,\n",
    "        ssh_pkey=mypkey,\n",
    "        remote_bind_address=(localhost, 3306)) as tunnel:\n",
    "        logger.debug(\"Connected\")\n",
    "        logger.debug(\"Connecting to database...\")\n",
    "        try:\n",
    "            conn = pymysql.connect(\n",
    "                host='127.0.0.1', \n",
    "                user=sql_username,\n",
    "                passwd=sql_password,\n",
    "                db=sql_main_database,\n",
    "                port=tunnel.local_bind_port,\n",
    "                cursorclass=pymysql.cursors.DictCursor)\n",
    "            logger.debug(\"Connected\")\n",
    "            logger.debug(\"Executing query...\")\n",
    "            cursor = conn.cursor()\n",
    "            cursor.execute(q)\n",
    "            if estado==1:\n",
    "                conn.commit()  # Commit the transaction\n",
    "            data = cursor.fetchall()\n",
    "            logger.debug(\"Done\")\n",
    "        finally:\n",
    "            conn.close()\n",
    "    return data"
   ]
  },
  {
   "cell_type": "code",
   "execution_count": 9,
   "id": "edd4f812-a5b8-451d-aacb-fa20ed744fe3",
   "metadata": {},
   "outputs": [],
   "source": [
    "# GENERAR CODIGO SLUG, CODIGO UNICO\n",
    "def abbreviate_institution_name(name):\n",
    "    # Eliminar acentos y otros caracteres especiales\n",
    "    name = unidecode(name)\n",
    "    # Mantener solo caracteres alfanuméricos, espacios y guiones\n",
    "    name = re.sub(r\"[^\\w\\s-]\", \"\", name)\n",
    "    # Convertir a minúsculas\n",
    "    name = name.lower()\n",
    "    # Reemplazar espacios y guiones por un solo guión\n",
    "    abbreviated = re.sub(r\"[\\s-]+\", \"-\", name)\n",
    "    return abbreviated.strip('-')"
   ]
  },
  {
   "cell_type": "code",
   "execution_count": 7,
   "id": "32e84ccb-fa93-4721-83f4-3b8f0cf04b70",
   "metadata": {
    "tags": []
   },
   "outputs": [
    {
     "data": {
      "text/plain": [
       "'D:/OneDrive - Ingenio Azucarero Guabira S.A/APP CAÑERO/DATA PARA CARGAR/USUARIOS.xlsx'"
      ]
     },
     "execution_count": 7,
     "metadata": {},
     "output_type": "execute_result"
    }
   ],
   "source": [
    "# open file dialog\n",
    "root = tk.Tk()\n",
    "root.attributes('-topmost', True)\n",
    "root.iconify()\n",
    "file_name = fd.askopenfilename(parent=root, filetypes=[(\".xlsx\", \".xlsx\")])\n",
    "root.destroy()\n",
    "file_name"
   ]
  },
  {
   "cell_type": "code",
   "execution_count": 8,
   "id": "d2d1209e-7e40-4a79-915f-8d2f6209e0ec",
   "metadata": {
    "tags": []
   },
   "outputs": [
    {
     "data": {
      "text/html": [
       "<div>\n",
       "<style scoped>\n",
       "    .dataframe tbody tr th:only-of-type {\n",
       "        vertical-align: middle;\n",
       "    }\n",
       "\n",
       "    .dataframe tbody tr th {\n",
       "        vertical-align: top;\n",
       "    }\n",
       "\n",
       "    .dataframe thead th {\n",
       "        text-align: right;\n",
       "    }\n",
       "</style>\n",
       "<table border=\"1\" class=\"dataframe\">\n",
       "  <thead>\n",
       "    <tr style=\"text-align: right;\">\n",
       "      <th></th>\n",
       "      <th>CODIGO</th>\n",
       "      <th>NOMBRE</th>\n",
       "      <th>AP PATERNO</th>\n",
       "      <th>AP MATERNO</th>\n",
       "      <th>CORREO</th>\n",
       "      <th>TELF</th>\n",
       "      <th>NOM_USER</th>\n",
       "      <th>TIPO</th>\n",
       "      <th>INST</th>\n",
       "    </tr>\n",
       "  </thead>\n",
       "  <tbody>\n",
       "    <tr>\n",
       "      <th>0</th>\n",
       "      <td>2710</td>\n",
       "      <td>JOSELITO</td>\n",
       "      <td>DEMIQUEL</td>\n",
       "      <td>JIMENEZ</td>\n",
       "      <td>jdemiquel@gmail.com</td>\n",
       "      <td>555555</td>\n",
       "      <td>jdemiquel</td>\n",
       "      <td>propietario</td>\n",
       "      <td>50</td>\n",
       "    </tr>\n",
       "    <tr>\n",
       "      <th>1</th>\n",
       "      <td>2751</td>\n",
       "      <td>TERESA</td>\n",
       "      <td>JIMENEZ</td>\n",
       "      <td>DE DEMIQUEL</td>\n",
       "      <td>tjimenez@gmail.com</td>\n",
       "      <td>555555</td>\n",
       "      <td>tjimenez</td>\n",
       "      <td>propietario</td>\n",
       "      <td>69</td>\n",
       "    </tr>\n",
       "    <tr>\n",
       "      <th>2</th>\n",
       "      <td>7572</td>\n",
       "      <td>ZENON</td>\n",
       "      <td>LAVERAN</td>\n",
       "      <td>VACA</td>\n",
       "      <td>zlaveran@gmail.com</td>\n",
       "      <td>555555</td>\n",
       "      <td>zlaveran</td>\n",
       "      <td>propietario</td>\n",
       "      <td>1</td>\n",
       "    </tr>\n",
       "    <tr>\n",
       "      <th>3</th>\n",
       "      <td>13172</td>\n",
       "      <td>ROSA</td>\n",
       "      <td>RODA</td>\n",
       "      <td>DE SORIOCO</td>\n",
       "      <td>rroda@gmail.com</td>\n",
       "      <td>555555</td>\n",
       "      <td>rroda</td>\n",
       "      <td>propietario</td>\n",
       "      <td>1</td>\n",
       "    </tr>\n",
       "    <tr>\n",
       "      <th>4</th>\n",
       "      <td>13456</td>\n",
       "      <td>BLANCA</td>\n",
       "      <td>JIMENEZ</td>\n",
       "      <td>DE TEJERINA</td>\n",
       "      <td>bjimenez@gmail.com</td>\n",
       "      <td>555555</td>\n",
       "      <td>bjimenez</td>\n",
       "      <td>propietario</td>\n",
       "      <td>1</td>\n",
       "    </tr>\n",
       "    <tr>\n",
       "      <th>5</th>\n",
       "      <td>42014</td>\n",
       "      <td>GUIDO OSCAR</td>\n",
       "      <td>TORRICO</td>\n",
       "      <td>LUIZAGA</td>\n",
       "      <td>gtorrico@gmail.com</td>\n",
       "      <td>555555</td>\n",
       "      <td>gtorrico</td>\n",
       "      <td>propietario</td>\n",
       "      <td>1</td>\n",
       "    </tr>\n",
       "    <tr>\n",
       "      <th>6</th>\n",
       "      <td>42042</td>\n",
       "      <td>WILSON JORGE</td>\n",
       "      <td>TORRICO</td>\n",
       "      <td>LUIZAGA</td>\n",
       "      <td>wtorrico@gmail.com</td>\n",
       "      <td>555555</td>\n",
       "      <td>wtorrico</td>\n",
       "      <td>propietario</td>\n",
       "      <td>1</td>\n",
       "    </tr>\n",
       "  </tbody>\n",
       "</table>\n",
       "</div>"
      ],
      "text/plain": [
       "   CODIGO        NOMBRE AP PATERNO   AP MATERNO               CORREO    TELF  \\\n",
       "0    2710      JOSELITO   DEMIQUEL      JIMENEZ  jdemiquel@gmail.com  555555   \n",
       "1    2751        TERESA    JIMENEZ  DE DEMIQUEL   tjimenez@gmail.com  555555   \n",
       "2    7572         ZENON    LAVERAN         VACA   zlaveran@gmail.com  555555   \n",
       "3   13172          ROSA       RODA   DE SORIOCO      rroda@gmail.com  555555   \n",
       "4   13456        BLANCA    JIMENEZ  DE TEJERINA   bjimenez@gmail.com  555555   \n",
       "5   42014   GUIDO OSCAR    TORRICO      LUIZAGA   gtorrico@gmail.com  555555   \n",
       "6   42042  WILSON JORGE    TORRICO      LUIZAGA   wtorrico@gmail.com  555555   \n",
       "\n",
       "    NOM_USER         TIPO  INST  \n",
       "0  jdemiquel  propietario    50  \n",
       "1   tjimenez  propietario    69  \n",
       "2   zlaveran  propietario     1  \n",
       "3      rroda  propietario     1  \n",
       "4   bjimenez  propietario     1  \n",
       "5   gtorrico  propietario     1  \n",
       "6   wtorrico  propietario     1  "
      ]
     },
     "execution_count": 8,
     "metadata": {},
     "output_type": "execute_result"
    }
   ],
   "source": [
    "data = pd.read_excel(file_name)\n",
    "data"
   ]
  },
  {
   "cell_type": "code",
   "execution_count": 12,
   "id": "d67ef0ce-41bf-4a71-8297-dad02761ba44",
   "metadata": {},
   "outputs": [
    {
     "data": {
      "text/plain": [
       "2710"
      ]
     },
     "execution_count": 12,
     "metadata": {},
     "output_type": "execute_result"
    }
   ],
   "source": [
    "fila = data.iloc[0]\n",
    "fila['CODIGO']"
   ]
  },
  {
   "cell_type": "code",
   "execution_count": 13,
   "id": "436d8549-ab6d-4cd2-8e3a-bb426b78110d",
   "metadata": {},
   "outputs": [
    {
     "name": "stdout",
     "output_type": "stream",
     "text": [
      "2023-05-16 16:09:01\n"
     ]
    }
   ],
   "source": [
    "# optiene la fecha actual\n",
    "now = datetime.now()\n",
    "formatted_now = now.strftime(\"%Y-%m-%d %H:%M:%S\")\n",
    "print(formatted_now)"
   ]
  },
  {
   "cell_type": "code",
   "execution_count": null,
   "id": "8ee92a8d-8768-4566-a852-01802e59f4ed",
   "metadata": {},
   "outputs": [],
   "source": []
  },
  {
   "cell_type": "code",
   "execution_count": null,
   "id": "30ac4a38-cd56-4516-886e-6bfea668bf0c",
   "metadata": {},
   "outputs": [],
   "source": []
  },
  {
   "cell_type": "code",
   "execution_count": null,
   "id": "08f5c963-cc37-4905-bb23-609a2559ca07",
   "metadata": {},
   "outputs": [],
   "source": []
  },
  {
   "cell_type": "code",
   "execution_count": null,
   "id": "c473434a-3a59-4349-afbe-0670eeef78f5",
   "metadata": {},
   "outputs": [],
   "source": []
  }
 ],
 "metadata": {
  "kernelspec": {
   "display_name": "Python 3 (ipykernel)",
   "language": "python",
   "name": "python3"
  },
  "language_info": {
   "codemirror_mode": {
    "name": "ipython",
    "version": 3
   },
   "file_extension": ".py",
   "mimetype": "text/x-python",
   "name": "python",
   "nbconvert_exporter": "python",
   "pygments_lexer": "ipython3",
   "version": "3.11.2"
  }
 },
 "nbformat": 4,
 "nbformat_minor": 5
}
