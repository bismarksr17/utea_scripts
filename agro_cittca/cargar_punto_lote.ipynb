{
 "cells": [
  {
   "cell_type": "markdown",
   "id": "984b1daf-ec5a-4ef0-b9c5-2bf82d03a86a",
   "metadata": {
    "tags": []
   },
   "source": [
    "## LEER UN LOTE"
   ]
  },
  {
   "cell_type": "code",
   "execution_count": 26,
   "id": "d921b51b-8c05-45dc-869f-a94eac7e66cf",
   "metadata": {
    "tags": []
   },
   "outputs": [],
   "source": [
    "from pyproj import Proj, transform\n",
    "from ipywidgets import HTML"
   ]
  },
  {
   "cell_type": "code",
   "execution_count": 11,
   "id": "bc46cb11-b52c-4624-9741-53611e7b943c",
   "metadata": {
    "tags": []
   },
   "outputs": [],
   "source": [
    "import ee\n",
    "import geemap\n",
    "ee.Initialize()"
   ]
  },
  {
   "cell_type": "code",
   "execution_count": 2,
   "id": "4d2b8835-ad4e-421b-9ac0-de45c42025a9",
   "metadata": {
    "tags": []
   },
   "outputs": [
    {
     "name": "stderr",
     "output_type": "stream",
     "text": [
      "C:\\Users\\UTEA\\anaconda3\\envs\\utea_estimativas\\Lib\\site-packages\\paramiko\\transport.py:219: CryptographyDeprecationWarning: Blowfish has been deprecated\n",
      "  \"class\": algorithms.Blowfish,\n"
     ]
    }
   ],
   "source": [
    "import pandas as pd\n",
    "\n",
    "import logging\n",
    "import logging.config\n",
    "import pymysql\n",
    "import paramiko\n",
    "from paramiko import SSHClient\n",
    "from sshtunnel import SSHTunnelForwarder\n",
    "\n",
    "import ast"
   ]
  },
  {
   "cell_type": "code",
   "execution_count": 3,
   "id": "80f7a8ff-4462-4858-a811-950498e320b3",
   "metadata": {
    "tags": []
   },
   "outputs": [],
   "source": [
    "# ruta de carpera donde estan las llaves\n",
    "ruta = open('../ruta.txt')\n",
    "ruta = ruta.readlines()[0]\n",
    "\n",
    "# cargar datos para conectar a AGROCITTCA\n",
    "data = open(ruta + '/_keys/agrocittca.data','r')\n",
    "password = data.readlines()[0]\n",
    "data.close()\n",
    "\n",
    "# extraccion de los datos\n",
    "datos_cnx = ast.literal_eval(password)\n",
    "\n",
    "# lectura de llave ssh\n",
    "mypkey = paramiko.RSAKey.from_private_key_file(ruta + '/_keys/llave_db_agrocittca', password='micontrasena')\n",
    "# ssh variables\n",
    "ssh_host = datos_cnx['ssh_host']\n",
    "ssh_port = datos_cnx['ssh_port']\n",
    "localhost = datos_cnx['localhost']\n",
    "localport = datos_cnx['localport']\n",
    "ssh_user = datos_cnx['ssh_user']\n",
    "# database variables\n",
    "sql_username = datos_cnx['sql_username']\n",
    "sql_password = datos_cnx['sql_password']\n",
    "sql_main_database = datos_cnx['sql_main_database']"
   ]
  },
  {
   "cell_type": "code",
   "execution_count": 4,
   "id": "32d2ad33-bfb3-429c-a514-e1d032d22f66",
   "metadata": {
    "tags": []
   },
   "outputs": [],
   "source": [
    "# funcon para ejecutar una script SQL\n",
    "def dbQuery(q):\n",
    "    \"\"\" access the database over the SSH tunnel and execute the query \"\"\"\n",
    "    logger = logging.getLogger()\n",
    "    logger.debug(\"Connecting to reporting server...\", end=\"\")\n",
    "    with SSHTunnelForwarder(\n",
    "        (ssh_host, ssh_port),\n",
    "        ssh_username=ssh_user,\n",
    "        ssh_pkey=mypkey,\n",
    "        remote_bind_address=(localhost, 3306)) as tunnel:\n",
    "        logger.debug(\"Connected\")\n",
    "        logger.debug(\"Connecting to database...\")\n",
    "        try:\n",
    "            conn = pymysql.connect(\n",
    "                host='127.0.0.1', \n",
    "                user=sql_username,\n",
    "                passwd=sql_password,\n",
    "                db=sql_main_database,\n",
    "                port=tunnel.local_bind_port,\n",
    "                cursorclass=pymysql.cursors.DictCursor)\n",
    "            logger.debug(\"Connected\")\n",
    "            logger.debug(\"Executing query...\")\n",
    "            cursor = conn.cursor()\n",
    "            cursor.execute(q)\n",
    "            data = cursor.fetchall()\n",
    "            logger.debug(\"Done\")\n",
    "        finally:\n",
    "            conn.close()\n",
    "    return data"
   ]
  },
  {
   "cell_type": "code",
   "execution_count": null,
   "id": "3ba687fa-edb3-4fcc-94f3-f94b779a42e9",
   "metadata": {},
   "outputs": [],
   "source": []
  },
  {
   "cell_type": "code",
   "execution_count": 14,
   "id": "d11881ea-9824-4f4d-a2bb-ddaf9a52d6f0",
   "metadata": {
    "tags": []
   },
   "outputs": [],
   "source": [
    "coords = dbQuery('select * from poligono_lote where lote_id=3708')"
   ]
  },
  {
   "cell_type": "code",
   "execution_count": 15,
   "id": "ed106dc6-4e7f-4d4b-bf6f-cc5f61e270e9",
   "metadata": {
    "tags": []
   },
   "outputs": [],
   "source": [
    "puntos = pd.DataFrame(coords)"
   ]
  },
  {
   "cell_type": "code",
   "execution_count": 16,
   "id": "e5a97e26-4c17-43da-bbf6-b3d879378719",
   "metadata": {
    "tags": []
   },
   "outputs": [
    {
     "data": {
      "text/html": [
       "<div>\n",
       "<style scoped>\n",
       "    .dataframe tbody tr th:only-of-type {\n",
       "        vertical-align: middle;\n",
       "    }\n",
       "\n",
       "    .dataframe tbody tr th {\n",
       "        vertical-align: top;\n",
       "    }\n",
       "\n",
       "    .dataframe thead th {\n",
       "        text-align: right;\n",
       "    }\n",
       "</style>\n",
       "<table border=\"1\" class=\"dataframe\">\n",
       "  <thead>\n",
       "    <tr style=\"text-align: right;\">\n",
       "      <th></th>\n",
       "      <th>id</th>\n",
       "      <th>estado</th>\n",
       "      <th>latitud</th>\n",
       "      <th>longitud</th>\n",
       "      <th>lote_id</th>\n",
       "      <th>created_at</th>\n",
       "      <th>updated_at</th>\n",
       "    </tr>\n",
       "  </thead>\n",
       "  <tbody>\n",
       "    <tr>\n",
       "      <th>0</th>\n",
       "      <td>57693</td>\n",
       "      <td>activo</td>\n",
       "      <td>-17.222738851997</td>\n",
       "      <td>-62.996694461903</td>\n",
       "      <td>3708</td>\n",
       "      <td>2023-03-15 13:23:37</td>\n",
       "      <td>2023-03-15 13:23:37</td>\n",
       "    </tr>\n",
       "    <tr>\n",
       "      <th>1</th>\n",
       "      <td>57694</td>\n",
       "      <td>activo</td>\n",
       "      <td>-17.224468939883</td>\n",
       "      <td>-62.996849355572</td>\n",
       "      <td>3708</td>\n",
       "      <td>2023-03-15 13:23:37</td>\n",
       "      <td>2023-03-15 13:23:37</td>\n",
       "    </tr>\n",
       "    <tr>\n",
       "      <th>2</th>\n",
       "      <td>57695</td>\n",
       "      <td>activo</td>\n",
       "      <td>-17.224318319297</td>\n",
       "      <td>-62.997172388202</td>\n",
       "      <td>3708</td>\n",
       "      <td>2023-03-15 13:23:37</td>\n",
       "      <td>2023-03-15 13:23:37</td>\n",
       "    </tr>\n",
       "    <tr>\n",
       "      <th>3</th>\n",
       "      <td>57696</td>\n",
       "      <td>activo</td>\n",
       "      <td>-17.224141051718</td>\n",
       "      <td>-62.997621483658</td>\n",
       "      <td>3708</td>\n",
       "      <td>2023-03-15 13:23:37</td>\n",
       "      <td>2023-03-15 13:23:37</td>\n",
       "    </tr>\n",
       "    <tr>\n",
       "      <th>4</th>\n",
       "      <td>57697</td>\n",
       "      <td>activo</td>\n",
       "      <td>-17.224409991336</td>\n",
       "      <td>-62.997863721856</td>\n",
       "      <td>3708</td>\n",
       "      <td>2023-03-15 13:23:37</td>\n",
       "      <td>2023-03-15 13:23:37</td>\n",
       "    </tr>\n",
       "    <tr>\n",
       "      <th>5</th>\n",
       "      <td>57698</td>\n",
       "      <td>activo</td>\n",
       "      <td>-17.224519326831</td>\n",
       "      <td>-62.99795575406</td>\n",
       "      <td>3708</td>\n",
       "      <td>2023-03-15 13:23:37</td>\n",
       "      <td>2023-03-15 13:23:37</td>\n",
       "    </tr>\n",
       "    <tr>\n",
       "      <th>6</th>\n",
       "      <td>57699</td>\n",
       "      <td>activo</td>\n",
       "      <td>-17.224487277783</td>\n",
       "      <td>-62.998043035031</td>\n",
       "      <td>3708</td>\n",
       "      <td>2023-03-15 13:23:37</td>\n",
       "      <td>2023-03-15 13:23:37</td>\n",
       "    </tr>\n",
       "    <tr>\n",
       "      <th>7</th>\n",
       "      <td>57700</td>\n",
       "      <td>activo</td>\n",
       "      <td>-17.224303911595</td>\n",
       "      <td>-62.998542403919</td>\n",
       "      <td>3708</td>\n",
       "      <td>2023-03-15 13:23:37</td>\n",
       "      <td>2023-03-15 13:23:37</td>\n",
       "    </tr>\n",
       "    <tr>\n",
       "      <th>8</th>\n",
       "      <td>57701</td>\n",
       "      <td>activo</td>\n",
       "      <td>-17.224265774969</td>\n",
       "      <td>-62.99873317638</td>\n",
       "      <td>3708</td>\n",
       "      <td>2023-03-15 13:23:37</td>\n",
       "      <td>2023-03-15 13:23:37</td>\n",
       "    </tr>\n",
       "    <tr>\n",
       "      <th>9</th>\n",
       "      <td>57702</td>\n",
       "      <td>activo</td>\n",
       "      <td>-17.224452135581</td>\n",
       "      <td>-62.998881118425</td>\n",
       "      <td>3708</td>\n",
       "      <td>2023-03-15 13:23:37</td>\n",
       "      <td>2023-03-15 13:23:37</td>\n",
       "    </tr>\n",
       "    <tr>\n",
       "      <th>10</th>\n",
       "      <td>57703</td>\n",
       "      <td>activo</td>\n",
       "      <td>-17.224426707151</td>\n",
       "      <td>-62.999092927302</td>\n",
       "      <td>3708</td>\n",
       "      <td>2023-03-15 13:23:37</td>\n",
       "      <td>2023-03-15 13:23:37</td>\n",
       "    </tr>\n",
       "    <tr>\n",
       "      <th>11</th>\n",
       "      <td>57704</td>\n",
       "      <td>activo</td>\n",
       "      <td>-17.224866829472</td>\n",
       "      <td>-62.999338556359</td>\n",
       "      <td>3708</td>\n",
       "      <td>2023-03-15 13:23:37</td>\n",
       "      <td>2023-03-15 13:23:37</td>\n",
       "    </tr>\n",
       "    <tr>\n",
       "      <th>12</th>\n",
       "      <td>57705</td>\n",
       "      <td>activo</td>\n",
       "      <td>-17.224965244018</td>\n",
       "      <td>-62.999493126239</td>\n",
       "      <td>3708</td>\n",
       "      <td>2023-03-15 13:23:37</td>\n",
       "      <td>2023-03-15 13:23:37</td>\n",
       "    </tr>\n",
       "    <tr>\n",
       "      <th>13</th>\n",
       "      <td>57706</td>\n",
       "      <td>activo</td>\n",
       "      <td>-17.223363160191</td>\n",
       "      <td>-63.003954082602</td>\n",
       "      <td>3708</td>\n",
       "      <td>2023-03-15 13:23:37</td>\n",
       "      <td>2023-03-15 13:23:37</td>\n",
       "    </tr>\n",
       "    <tr>\n",
       "      <th>14</th>\n",
       "      <td>57707</td>\n",
       "      <td>activo</td>\n",
       "      <td>-17.223363149343</td>\n",
       "      <td>-63.00395411176</td>\n",
       "      <td>3708</td>\n",
       "      <td>2023-03-15 13:23:37</td>\n",
       "      <td>2023-03-15 13:23:37</td>\n",
       "    </tr>\n",
       "    <tr>\n",
       "      <th>15</th>\n",
       "      <td>57708</td>\n",
       "      <td>activo</td>\n",
       "      <td>-17.223363134879</td>\n",
       "      <td>-63.003954151265</td>\n",
       "      <td>3708</td>\n",
       "      <td>2023-03-15 13:23:37</td>\n",
       "      <td>2023-03-15 13:23:37</td>\n",
       "    </tr>\n",
       "    <tr>\n",
       "      <th>16</th>\n",
       "      <td>57709</td>\n",
       "      <td>activo</td>\n",
       "      <td>-17.223224641577</td>\n",
       "      <td>-63.00433091796</td>\n",
       "      <td>3708</td>\n",
       "      <td>2023-03-15 13:23:37</td>\n",
       "      <td>2023-03-15 13:23:37</td>\n",
       "    </tr>\n",
       "    <tr>\n",
       "      <th>17</th>\n",
       "      <td>57710</td>\n",
       "      <td>activo</td>\n",
       "      <td>-17.219266509139</td>\n",
       "      <td>-63.002229370141</td>\n",
       "      <td>3708</td>\n",
       "      <td>2023-03-15 13:23:37</td>\n",
       "      <td>2023-03-15 13:23:37</td>\n",
       "    </tr>\n",
       "    <tr>\n",
       "      <th>18</th>\n",
       "      <td>57711</td>\n",
       "      <td>activo</td>\n",
       "      <td>-17.215345934321</td>\n",
       "      <td>-63.00014786365</td>\n",
       "      <td>3708</td>\n",
       "      <td>2023-03-15 13:23:37</td>\n",
       "      <td>2023-03-15 13:23:37</td>\n",
       "    </tr>\n",
       "    <tr>\n",
       "      <th>19</th>\n",
       "      <td>57712</td>\n",
       "      <td>activo</td>\n",
       "      <td>-17.215582944851</td>\n",
       "      <td>-62.999526041894</td>\n",
       "      <td>3708</td>\n",
       "      <td>2023-03-15 13:23:37</td>\n",
       "      <td>2023-03-15 13:23:37</td>\n",
       "    </tr>\n",
       "    <tr>\n",
       "      <th>20</th>\n",
       "      <td>57713</td>\n",
       "      <td>activo</td>\n",
       "      <td>-17.2160652029</td>\n",
       "      <td>-62.99964391914</td>\n",
       "      <td>3708</td>\n",
       "      <td>2023-03-15 13:23:37</td>\n",
       "      <td>2023-03-15 13:23:37</td>\n",
       "    </tr>\n",
       "    <tr>\n",
       "      <th>21</th>\n",
       "      <td>57714</td>\n",
       "      <td>activo</td>\n",
       "      <td>-17.216203604439</td>\n",
       "      <td>-62.999619741961</td>\n",
       "      <td>3708</td>\n",
       "      <td>2023-03-15 13:23:37</td>\n",
       "      <td>2023-03-15 13:23:37</td>\n",
       "    </tr>\n",
       "    <tr>\n",
       "      <th>22</th>\n",
       "      <td>57715</td>\n",
       "      <td>activo</td>\n",
       "      <td>-17.217678693845</td>\n",
       "      <td>-62.999148187098</td>\n",
       "      <td>3708</td>\n",
       "      <td>2023-03-15 13:23:37</td>\n",
       "      <td>2023-03-15 13:23:37</td>\n",
       "    </tr>\n",
       "    <tr>\n",
       "      <th>23</th>\n",
       "      <td>57716</td>\n",
       "      <td>activo</td>\n",
       "      <td>-17.219821724855</td>\n",
       "      <td>-62.998400447589</td>\n",
       "      <td>3708</td>\n",
       "      <td>2023-03-15 13:23:37</td>\n",
       "      <td>2023-03-15 13:23:37</td>\n",
       "    </tr>\n",
       "    <tr>\n",
       "      <th>24</th>\n",
       "      <td>57717</td>\n",
       "      <td>activo</td>\n",
       "      <td>-17.222382609559</td>\n",
       "      <td>-62.996704914363</td>\n",
       "      <td>3708</td>\n",
       "      <td>2023-03-15 13:23:37</td>\n",
       "      <td>2023-03-15 13:23:37</td>\n",
       "    </tr>\n",
       "    <tr>\n",
       "      <th>25</th>\n",
       "      <td>57718</td>\n",
       "      <td>activo</td>\n",
       "      <td>-17.222738851997</td>\n",
       "      <td>-62.996694461903</td>\n",
       "      <td>3708</td>\n",
       "      <td>2023-03-15 13:23:37</td>\n",
       "      <td>2023-03-15 13:23:37</td>\n",
       "    </tr>\n",
       "  </tbody>\n",
       "</table>\n",
       "</div>"
      ],
      "text/plain": [
       "       id  estado           latitud          longitud  lote_id   \n",
       "0   57693  activo  -17.222738851997  -62.996694461903     3708  \\\n",
       "1   57694  activo  -17.224468939883  -62.996849355572     3708   \n",
       "2   57695  activo  -17.224318319297  -62.997172388202     3708   \n",
       "3   57696  activo  -17.224141051718  -62.997621483658     3708   \n",
       "4   57697  activo  -17.224409991336  -62.997863721856     3708   \n",
       "5   57698  activo  -17.224519326831   -62.99795575406     3708   \n",
       "6   57699  activo  -17.224487277783  -62.998043035031     3708   \n",
       "7   57700  activo  -17.224303911595  -62.998542403919     3708   \n",
       "8   57701  activo  -17.224265774969   -62.99873317638     3708   \n",
       "9   57702  activo  -17.224452135581  -62.998881118425     3708   \n",
       "10  57703  activo  -17.224426707151  -62.999092927302     3708   \n",
       "11  57704  activo  -17.224866829472  -62.999338556359     3708   \n",
       "12  57705  activo  -17.224965244018  -62.999493126239     3708   \n",
       "13  57706  activo  -17.223363160191  -63.003954082602     3708   \n",
       "14  57707  activo  -17.223363149343   -63.00395411176     3708   \n",
       "15  57708  activo  -17.223363134879  -63.003954151265     3708   \n",
       "16  57709  activo  -17.223224641577   -63.00433091796     3708   \n",
       "17  57710  activo  -17.219266509139  -63.002229370141     3708   \n",
       "18  57711  activo  -17.215345934321   -63.00014786365     3708   \n",
       "19  57712  activo  -17.215582944851  -62.999526041894     3708   \n",
       "20  57713  activo    -17.2160652029   -62.99964391914     3708   \n",
       "21  57714  activo  -17.216203604439  -62.999619741961     3708   \n",
       "22  57715  activo  -17.217678693845  -62.999148187098     3708   \n",
       "23  57716  activo  -17.219821724855  -62.998400447589     3708   \n",
       "24  57717  activo  -17.222382609559  -62.996704914363     3708   \n",
       "25  57718  activo  -17.222738851997  -62.996694461903     3708   \n",
       "\n",
       "            created_at          updated_at  \n",
       "0  2023-03-15 13:23:37 2023-03-15 13:23:37  \n",
       "1  2023-03-15 13:23:37 2023-03-15 13:23:37  \n",
       "2  2023-03-15 13:23:37 2023-03-15 13:23:37  \n",
       "3  2023-03-15 13:23:37 2023-03-15 13:23:37  \n",
       "4  2023-03-15 13:23:37 2023-03-15 13:23:37  \n",
       "5  2023-03-15 13:23:37 2023-03-15 13:23:37  \n",
       "6  2023-03-15 13:23:37 2023-03-15 13:23:37  \n",
       "7  2023-03-15 13:23:37 2023-03-15 13:23:37  \n",
       "8  2023-03-15 13:23:37 2023-03-15 13:23:37  \n",
       "9  2023-03-15 13:23:37 2023-03-15 13:23:37  \n",
       "10 2023-03-15 13:23:37 2023-03-15 13:23:37  \n",
       "11 2023-03-15 13:23:37 2023-03-15 13:23:37  \n",
       "12 2023-03-15 13:23:37 2023-03-15 13:23:37  \n",
       "13 2023-03-15 13:23:37 2023-03-15 13:23:37  \n",
       "14 2023-03-15 13:23:37 2023-03-15 13:23:37  \n",
       "15 2023-03-15 13:23:37 2023-03-15 13:23:37  \n",
       "16 2023-03-15 13:23:37 2023-03-15 13:23:37  \n",
       "17 2023-03-15 13:23:37 2023-03-15 13:23:37  \n",
       "18 2023-03-15 13:23:37 2023-03-15 13:23:37  \n",
       "19 2023-03-15 13:23:37 2023-03-15 13:23:37  \n",
       "20 2023-03-15 13:23:37 2023-03-15 13:23:37  \n",
       "21 2023-03-15 13:23:37 2023-03-15 13:23:37  \n",
       "22 2023-03-15 13:23:37 2023-03-15 13:23:37  \n",
       "23 2023-03-15 13:23:37 2023-03-15 13:23:37  \n",
       "24 2023-03-15 13:23:37 2023-03-15 13:23:37  \n",
       "25 2023-03-15 13:23:37 2023-03-15 13:23:37  "
      ]
     },
     "execution_count": 16,
     "metadata": {},
     "output_type": "execute_result"
    }
   ],
   "source": [
    "puntos"
   ]
  },
  {
   "cell_type": "code",
   "execution_count": 19,
   "id": "2b244eaa-ae74-4f66-8add-85459ba75bd7",
   "metadata": {
    "tags": []
   },
   "outputs": [],
   "source": [
    "Map = geemap.Map(basemap=\"SATELLITE\")"
   ]
  },
  {
   "cell_type": "code",
   "execution_count": 23,
   "id": "4fa8b4d0-9765-4ff4-8a1f-6e128ee1abe4",
   "metadata": {
    "tags": []
   },
   "outputs": [],
   "source": [
    "def convertir_lat_lon_a_utm(lat, lon):\n",
    "    in_proj = Proj('EPSG:4326')\n",
    "    out_proj = Proj('EPSG:32720')  # El código EPSG para UTM Zona 20S (puedes cambiarlo según tu zona)\n",
    "    return transform(in_proj, out_proj, lon, lat)"
   ]
  },
  {
   "cell_type": "code",
   "execution_count": 27,
   "id": "dd3d6df5-4de7-4545-a771-92f0ed13c514",
   "metadata": {
    "tags": []
   },
   "outputs": [],
   "source": [
    "for index, row in puntos.iterrows():\n",
    "    lat, lon = row['latitud'], row['longitud']\n",
    "    utm_x, utm_y = convertir_lat_lon_a_utm(lat, lon)\n",
    "    popup_content = f'UTM X: {utm_x}, UTM Y: {utm_y}'\n",
    "    popup_widget = HTML(value=popup_content)\n",
    "    Map.add_marker(location=(lat, lon), popup=popup_widget)"
   ]
  },
  {
   "cell_type": "code",
   "execution_count": 29,
   "id": "8735bc5d-08a1-440e-81e9-7d23c85c0d40",
   "metadata": {
    "tags": []
   },
   "outputs": [],
   "source": [
    "Map.setCenter(lon=puntos.iloc[0]['longitud'], lat=puntos.iloc[0]['latitud'], zoom=15)"
   ]
  },
  {
   "cell_type": "code",
   "execution_count": 30,
   "id": "80f8c606-300b-4377-ae4e-b18cfccfdfb4",
   "metadata": {
    "tags": []
   },
   "outputs": [
    {
     "data": {
      "application/vnd.jupyter.widget-view+json": {
       "model_id": "490cd14be18841acac21cb1e533f206e",
       "version_major": 2,
       "version_minor": 0
      },
      "text/plain": [
       "Map(center=['-17.222738851997', '-62.996694461903'], controls=(WidgetControl(options=['position', 'transparent…"
      ]
     },
     "metadata": {},
     "output_type": "display_data"
    }
   ],
   "source": [
    "Map"
   ]
  },
  {
   "cell_type": "code",
   "execution_count": null,
   "id": "9ec5a964-5370-4306-ad39-2f8812c288bb",
   "metadata": {},
   "outputs": [],
   "source": []
  },
  {
   "cell_type": "code",
   "execution_count": 34,
   "id": "fc624f22-5027-45a5-9f7e-e5ecf19ae131",
   "metadata": {
    "tags": []
   },
   "outputs": [],
   "source": [
    "def convertir_lat_lon_a_utm(lat, lon):\n",
    "    in_proj = Proj('EPSG:4326')\n",
    "    out_proj = Proj('EPSG:32720')  # El código EPSG para UTM Zona 20S (puedes cambiarlo según tu zona)\n",
    "    return transform(in_proj, out_proj, lon, lat)"
   ]
  },
  {
   "cell_type": "code",
   "execution_count": 36,
   "id": "883cb8a4-bf84-4a61-8bc3-085041492846",
   "metadata": {
    "tags": []
   },
   "outputs": [],
   "source": [
    "utm_coords = [convertir_lat_lon_a_utm(row['latitud'], row['longitud']) for _, row in puntos.iterrows()]"
   ]
  },
  {
   "cell_type": "code",
   "execution_count": 37,
   "id": "22d4743a-0cba-4a1e-bcf7-9a64e09cfb9b",
   "metadata": {
    "tags": []
   },
   "outputs": [],
   "source": [
    "in_proj = Proj('EPSG:32720')\n",
    "out_proj = Proj('EPSG:4326')\n",
    "latlon_coords = [transform(in_proj, out_proj, coord[0], coord[1]) for coord in utm_coords]\n",
    "polygon = ee.Geometry.Polygon([latlon_coords])"
   ]
  },
  {
   "cell_type": "code",
   "execution_count": 38,
   "id": "887e2318-0923-42ff-b835-e56b68f4040c",
   "metadata": {
    "tags": []
   },
   "outputs": [],
   "source": [
    "Map.addLayer(polygon, {'color': 'FF0000'}, 'Polígono UTM')"
   ]
  },
  {
   "cell_type": "code",
   "execution_count": 39,
   "id": "611bbc4f-00de-4c54-8256-bd51db023921",
   "metadata": {
    "tags": []
   },
   "outputs": [
    {
     "data": {
      "application/vnd.jupyter.widget-view+json": {
       "model_id": "490cd14be18841acac21cb1e533f206e",
       "version_major": 2,
       "version_minor": 0
      },
      "text/plain": [
       "Map(bottom=4602001.0, center=[-17.218404552524966, -62.993652820587165], controls=(WidgetControl(options=['pos…"
      ]
     },
     "metadata": {},
     "output_type": "display_data"
    }
   ],
   "source": [
    "Map"
   ]
  },
  {
   "cell_type": "code",
   "execution_count": null,
   "id": "b36cca28-197d-4f07-9022-8f2f7a8309ab",
   "metadata": {},
   "outputs": [],
   "source": []
  },
  {
   "cell_type": "code",
   "execution_count": null,
   "id": "d61fd342-17eb-4fd1-8ff4-020279d43d7e",
   "metadata": {},
   "outputs": [],
   "source": []
  }
 ],
 "metadata": {
  "kernelspec": {
   "display_name": "Python 3 (ipykernel)",
   "language": "python",
   "name": "python3"
  },
  "language_info": {
   "codemirror_mode": {
    "name": "ipython",
    "version": 3
   },
   "file_extension": ".py",
   "mimetype": "text/x-python",
   "name": "python",
   "nbconvert_exporter": "python",
   "pygments_lexer": "ipython3",
   "version": "3.11.2"
  }
 },
 "nbformat": 4,
 "nbformat_minor": 5
}
