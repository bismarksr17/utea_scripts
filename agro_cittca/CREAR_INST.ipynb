{
 "cells": [
  {
   "cell_type": "code",
   "execution_count": 72,
   "id": "9eafbbc1-bbc2-47a9-80a1-28fd7afb07be",
   "metadata": {
    "tags": []
   },
   "outputs": [],
   "source": [
    "# IMPORTS\n",
    "import pandas as pd\n",
    "\n",
    "import tkinter as tk\n",
    "from tkinter import filedialog as fd\n",
    "\n",
    "import logging\n",
    "import logging.config\n",
    "import pymysql\n",
    "import paramiko\n",
    "from paramiko import SSHClient\n",
    "from sshtunnel import SSHTunnelForwarder\n",
    "\n",
    "import ast\n",
    "\n",
    "import re\n",
    "from unidecode import unidecode\n",
    "\n",
    "from datetime import datetime"
   ]
  },
  {
   "cell_type": "code",
   "execution_count": 73,
   "id": "47756d7f-cbda-4c78-9e22-9728fd705ae0",
   "metadata": {
    "tags": []
   },
   "outputs": [],
   "source": [
    "# ruta de carpera donde estan las llaves\n",
    "ruta = open('../ruta.txt')\n",
    "ruta = ruta.readlines()[0]\n",
    "\n",
    "# cargar datos para conectar a AGROCITTCA\n",
    "data = open(ruta + '/_keys/agrocittca.data','r')\n",
    "password = data.readlines()[0]\n",
    "data.close()\n",
    "\n",
    "# extraccion de los datos\n",
    "datos_cnx = ast.literal_eval(password)\n",
    "\n",
    "# lectura de llave ssh\n",
    "mypkey = paramiko.RSAKey.from_private_key_file(ruta + '/_keys/llave_db_agrocittca', password='micontrasena')\n",
    "\n",
    "# ssh variables\n",
    "ssh_host = datos_cnx['ssh_host']\n",
    "ssh_port = datos_cnx['ssh_port']\n",
    "localhost = datos_cnx['localhost']\n",
    "localport = datos_cnx['localport']\n",
    "ssh_user = datos_cnx['ssh_user']\n",
    "\n",
    "# database variables\n",
    "sql_username = datos_cnx['sql_username']\n",
    "sql_password = datos_cnx['sql_password']\n",
    "sql_main_database = datos_cnx['sql_main_database']"
   ]
  },
  {
   "cell_type": "code",
   "execution_count": 74,
   "id": "8194b939-074c-4b9c-ae08-8d67fc219eff",
   "metadata": {
    "tags": []
   },
   "outputs": [],
   "source": [
    "# funcion para ejecutar una script SQL\n",
    "# estado = 0 para select\n",
    "# estado = 1 para update\n",
    "def dbQuery(q, estado = 0):\n",
    "    \"\"\" access the database over the SSH tunnel and execute the query \"\"\"\n",
    "    logger = logging.getLogger()\n",
    "    logger.debug(\"Connecting to reporting server...\", end=\"\")\n",
    "    with SSHTunnelForwarder(\n",
    "        (ssh_host, ssh_port),\n",
    "        ssh_username=ssh_user,\n",
    "        ssh_pkey=mypkey,\n",
    "        remote_bind_address=(localhost, 3306)) as tunnel:\n",
    "        logger.debug(\"Connected\")\n",
    "        logger.debug(\"Connecting to database...\")\n",
    "        try:\n",
    "            conn = pymysql.connect(\n",
    "                host='127.0.0.1', \n",
    "                user=sql_username,\n",
    "                passwd=sql_password,\n",
    "                db=sql_main_database,\n",
    "                port=tunnel.local_bind_port,\n",
    "                cursorclass=pymysql.cursors.DictCursor)\n",
    "            logger.debug(\"Connected\")\n",
    "            logger.debug(\"Executing query...\")\n",
    "            cursor = conn.cursor()\n",
    "            cursor.execute(q)\n",
    "            if estado==1:\n",
    "                conn.commit()  # Commit the transaction\n",
    "            data = cursor.fetchall()\n",
    "            logger.debug(\"Done\")\n",
    "        finally:\n",
    "            conn.close()\n",
    "    return data"
   ]
  },
  {
   "cell_type": "code",
   "execution_count": 75,
   "id": "b03f352a-7b3f-4942-8dce-fd4aed26fadd",
   "metadata": {
    "tags": []
   },
   "outputs": [],
   "source": [
    "# GENERAR CODIGO SLUG, CODIGO UNICO\n",
    "def abbreviate_institution_name(name):\n",
    "    # Eliminar acentos y otros caracteres especiales\n",
    "    name = unidecode(name)\n",
    "    # Mantener solo caracteres alfanuméricos, espacios y guiones\n",
    "    name = re.sub(r\"[^\\w\\s-]\", \"\", name)\n",
    "    # Convertir a minúsculas\n",
    "    name = name.lower()\n",
    "    # Reemplazar espacios y guiones por un solo guión\n",
    "    abbreviated = re.sub(r\"[\\s-]+\", \"-\", name)\n",
    "    return abbreviated.strip('-')"
   ]
  },
  {
   "cell_type": "code",
   "execution_count": 77,
   "id": "32e84ccb-fa93-4721-83f4-3b8f0cf04b70",
   "metadata": {
    "tags": []
   },
   "outputs": [
    {
     "data": {
      "text/plain": [
       "'D:/OneDrive - Ingenio Azucarero Guabira S.A/APP CAÑERO/DATA PARA CARGAR/INSTITUCIONES.xlsx'"
      ]
     },
     "execution_count": 77,
     "metadata": {},
     "output_type": "execute_result"
    }
   ],
   "source": [
    "# OPEN FILE DIALOG\n",
    "root = tk.Tk()\n",
    "root.attributes('-topmost', True)\n",
    "root.iconify()\n",
    "file_name = fd.askopenfilename(parent=root, filetypes=[(\".xlsx\", \".xlsx\")])\n",
    "root.destroy()\n",
    "file_name"
   ]
  },
  {
   "cell_type": "code",
   "execution_count": 78,
   "id": "d2d1209e-7e40-4a79-915f-8d2f6209e0ec",
   "metadata": {
    "tags": []
   },
   "outputs": [
    {
     "data": {
      "text/html": [
       "<div>\n",
       "<style scoped>\n",
       "    .dataframe tbody tr th:only-of-type {\n",
       "        vertical-align: middle;\n",
       "    }\n",
       "\n",
       "    .dataframe tbody tr th {\n",
       "        vertical-align: top;\n",
       "    }\n",
       "\n",
       "    .dataframe thead th {\n",
       "        text-align: right;\n",
       "    }\n",
       "</style>\n",
       "<table border=\"1\" class=\"dataframe\">\n",
       "  <thead>\n",
       "    <tr style=\"text-align: right;\">\n",
       "      <th></th>\n",
       "      <th>cod_inst</th>\n",
       "      <th>nom_inst</th>\n",
       "      <th>telf</th>\n",
       "      <th>direccion</th>\n",
       "      <th>cell</th>\n",
       "      <th>obs</th>\n",
       "    </tr>\n",
       "  </thead>\n",
       "  <tbody>\n",
       "    <tr>\n",
       "      <th>0</th>\n",
       "      <td>1</td>\n",
       "      <td>1 -  ASOCIACIÓN DE PEQUEÑOS PRODUCTORES DE CAÑ...</td>\n",
       "      <td>9220257</td>\n",
       "      <td>C/ Rosendo Paz Nº 148</td>\n",
       "      <td>NaN</td>\n",
       "      <td>NaN</td>\n",
       "    </tr>\n",
       "    <tr>\n",
       "      <th>1</th>\n",
       "      <td>3</td>\n",
       "      <td>3 -  ASOCIACIÓN AGROPECUARIA 21 DE ABRIL</td>\n",
       "      <td>9221774</td>\n",
       "      <td>C/ Rosendo Paz Nº 146</td>\n",
       "      <td>NaN</td>\n",
       "      <td>NaN</td>\n",
       "    </tr>\n",
       "    <tr>\n",
       "      <th>2</th>\n",
       "      <td>5</td>\n",
       "      <td>5 -  ASOC. DE CAÑEROS SANTISTEBAN</td>\n",
       "      <td>9220838</td>\n",
       "      <td>Av. Paichane Esq. Evaristo Mendez</td>\n",
       "      <td>NaN</td>\n",
       "      <td>NaN</td>\n",
       "    </tr>\n",
       "  </tbody>\n",
       "</table>\n",
       "</div>"
      ],
      "text/plain": [
       "   cod_inst                                           nom_inst     telf  \\\n",
       "0         1  1 -  ASOCIACIÓN DE PEQUEÑOS PRODUCTORES DE CAÑ...  9220257   \n",
       "1         3           3 -  ASOCIACIÓN AGROPECUARIA 21 DE ABRIL  9221774   \n",
       "2         5                  5 -  ASOC. DE CAÑEROS SANTISTEBAN  9220838   \n",
       "\n",
       "                           direccion cell  obs  \n",
       "0              C/ Rosendo Paz Nº 148  NaN  NaN  \n",
       "1              C/ Rosendo Paz Nº 146  NaN  NaN  \n",
       "2  Av. Paichane Esq. Evaristo Mendez  NaN  NaN  "
      ]
     },
     "execution_count": 78,
     "metadata": {},
     "output_type": "execute_result"
    }
   ],
   "source": [
    "data = pd.read_excel(file_name)\n",
    "data.head(3)"
   ]
  },
  {
   "cell_type": "code",
   "execution_count": 90,
   "id": "ed3a08b3-9397-42f1-be7f-e4e178a5385b",
   "metadata": {},
   "outputs": [
    {
     "data": {
      "text/plain": [
       "(40, 6)"
      ]
     },
     "execution_count": 90,
     "metadata": {},
     "output_type": "execute_result"
    }
   ],
   "source": [
    "data.shape"
   ]
  },
  {
   "cell_type": "code",
   "execution_count": 87,
   "id": "d06fb6ec-b35f-42bc-976d-fb7d3245c56f",
   "metadata": {},
   "outputs": [
    {
     "data": {
      "text/plain": [
       "40"
      ]
     },
     "execution_count": 87,
     "metadata": {},
     "output_type": "execute_result"
    }
   ],
   "source": [
    "len(data)"
   ]
  },
  {
   "cell_type": "code",
   "execution_count": 103,
   "id": "d1c7ec79-3a1f-4ecd-9b94-5d21328b6648",
   "metadata": {},
   "outputs": [
    {
     "name": "stdout",
     "output_type": "stream",
     "text": [
      "Ya registrado: 1 -  ASOCIACIÓN DE PEQUEÑOS PRODUCTORES DE CAÑA CAMPESINO C.T.C.\n",
      "Ya registrado: 3 -  ASOCIACIÓN AGROPECUARIA 21 DE ABRIL\n",
      "Registrado Inst: 5 -  ASOC. DE CAÑEROS SANTISTEBAN\n",
      "Ya registrado: 6 -  ASOCIACIÓN CIVIL DE PEQUEÑOS CAÑEROS COLONIA AROMA ACIPECCA\n",
      "Registrado Inst: 8 -  ASOCIACIÓN DE CAÑEROS GUABIRÁ\n",
      "Registrado Inst: 18 -  COOPERATIVA AGRICOLA 10 DE NOVIEMBRE LTDA.\n",
      "Registrado Inst: 19 -  COOPERATIVA 10 DE OCTUBRE LTDA.\n",
      "Registrado Inst: 30 -  COOPERATIVA AGROPECUARIA 30 DE MAYO LTDA.\n",
      "Registrado Inst: 32 -  COOPERATIVA AGROPECUARIA ABAROA LTDA.\n",
      "Registrado Inst: 35 -  COOPERATIVA  AGROPECUARIA EL INCA LTDA.\n",
      "Registrado Inst: 37 -  COOPERATIVA AGROPECUARIA INTEGRAL INDEPENDENCIA LTDA.\n",
      "Ya registrado: 40 -  ASOCIACIÓN  AGROPECUARIA GUABIRA\n",
      "Registrado Inst: 42 -  COOPERATIVA AGROPECUARIA AGUA DULCE LTDA.\n",
      "Registrado Inst: 43 -  ASOCIACION CIVIL DE PEQUEÑOS CAÑEROS BOLIVAR\n",
      "Registrado Inst: 48 -  COOPERATIVA  AGRICOLA GUADALQUIVIR LTDA. \n",
      "Ya registrado: 50 - ASOCIACIÓN AGROPECUARIA MONTERO 1965\n",
      "Registrado Inst: 59 -  ASOCIACIÓN AGROPECUARIA PUENTE CAIMANES\n",
      "Ya registrado: 62 -  ASOCIACIÓN AGROPECUARIA CAÑA SAAVEDRA\n",
      "Registrado Inst: 63 -  ASOCIACIÓN CIVIL AGROPECUARIA EL COPAIBO\n",
      "Registrado Inst: 64 -  ASOCIACIÓN AGROPECUARIA EL FORTIN\n",
      "Ya registrado: 66 -  COOPERATIVA AGROPECUARIA EL TAJIBO LTDA.\n",
      "Registrado Inst: 67 -  COOP AGROPECUARIA ALONZO FERNANDEZ LTDA.\n",
      "Registrado Inst: 68 -  COOPERATIVA AGRICOLA DE PRODUCCIÓN GUALBERTO VILLARROEL LTDA.\n",
      "Ya registrado: 69 -  COOPERATIVA  INTEGRAL DE CAÑEROS GUABIRÁ\n",
      "Registrado Inst: 79 -  COOPERATIVA AGROPECUARIA NUEVA AROMA LTDA.\n",
      "Ya registrado: 81 -  COOPERATIVA AGRICOLA SAN FELIX LTDA.\n",
      "Registrado Inst: 82 -  ASOCIACIÓN AGROPECUARIA CHANÉ RIVERO\n",
      "Ya registrado: 89 -  FEDERACIÓN DE PEQUEÑOS CAÑEROS CAMPESINOS  DE SANTA CRUZ\n",
      "Registrado Inst: 90 -  FED. DE PEQ. CAÑ. CAMP. Y PROD. AGRICOLAS(CHIMBOTE)\n",
      "Registrado Inst: 100 -  COOPERATIVA AZURDUY LTDA.\n",
      "Registrado Inst: 101 -  COOPERATIVA SAN SALVADOR LTDA.\n",
      "Registrado Inst: 102 -  ASOCIACIÓN CIVIL DE PEQUEÑOS CAÑEROS GUARACAHI\n",
      "Ya registrado: 124 -  UNIÓN DE CANEROS GUABIRA\n",
      "Registrado Inst: 126 -  COOPERATIVA SAN JUAN BAUTISTA LTDA.\n",
      "Ya registrado: 131 -  ASOCIACIÓN CIVIL DE CAÑEROS BOLIVIA PRODUCTIVA\n",
      "Ya registrado: 138 -  ASOCIACIÓN AGROPECUARIA DEL NORTE\n",
      "Registrado Inst: 140 -  ASOCIACIÓN CIVIL AGROPECUARIA DEL NORTE INTEGRADO\n",
      "Registrado Inst: 141 -  ASOCIACIÓN DE PRODUCTORES CAÑEROS 23 DE MARZO\n",
      "Registrado Inst: 152 -  ASOCIACION DE CAÑEROS CAMPESINOS MONTERO ACC\n",
      "Ya registrado: 304 -  COOPERATIVA AGROPECUARIA  EL NORTE CRUCEÑO LTDA.\n"
     ]
    }
   ],
   "source": [
    "for i in range(len(data)):\n",
    "    fila = data.iloc[i]\n",
    "    \n",
    "    # optiene la fecha y formatear\n",
    "    now = datetime.now()\n",
    "    formatted_now = now.strftime(\"%Y-%m-%d %H:%M:%S\")\n",
    "    \n",
    "    # VERIFICAR QUE LA INST AUN NO ESTE REGISTRADO\n",
    "    # seleccionar el codigo de inst\n",
    "    select = 'select * from institucion where codigo=\\'{inst}\\''.format(inst=fila['cod_inst'])\n",
    "    # ejecutar seleccion\n",
    "    select_inst = dbQuery(select)\n",
    "    # si es mayor a cero, la inst ya esta registrada\n",
    "    if len(select_inst) > 0:\n",
    "        print('Ya registrado:', select_inst[0]['nombre'])\n",
    "        continue\n",
    "    query = 'insert into institucion (codigo, nombre, slug, direccion, telefono, estado, created_at, updated_at) values ({codigo}, \\'{nombre}\\', \\'{slug}\\',\\'{direccion}\\', \\'{telefono}\\',\\'{estado}\\', \\'{created_at}\\', \\'{updated_at}\\')'.format(codigo=fila['cod_inst'], nombre=fila['nom_inst'], slug='', direccion=fila['direccion'], telefono=fila['telf'], estado='activo', created_at=formatted_now, updated_at=formatted_now)\n",
    "    insert_row = dbQuery(query, 1)\n",
    "    \n",
    "    # SELECCIONAR LA INST QUE SE ACABA DE INSERTAR PARA OBTENER EL ID DEL REGISTRO\n",
    "    select = 'select * from institucion where codigo=\\'{inst}\\''.format(inst=fila['cod_inst'])\n",
    "    # ejecutar seleccion\n",
    "    select_inst = dbQuery(select)\n",
    "    inst = select_inst[0]\n",
    "    \n",
    "    # generar el codigo slug\n",
    "    slug_cod = abbreviate_institution_name(inst['nombre']) + '-' + str(inst['id'])\n",
    "    # actualizar el codigo slug segun el id de la ultima seleccion\n",
    "    query = 'update institucion set slug=\\'{slug}\\' where id={id}'.format(slug=slug_cod, id=inst['id'])\n",
    "    # ejecutar update\n",
    "    update_slug = dbQuery(query, 1)\n",
    "    print('Registrado Inst:', inst['nombre'])"
   ]
  },
  {
   "cell_type": "code",
   "execution_count": null,
   "id": "41ca0445-72b7-48fa-a329-563223be1b38",
   "metadata": {},
   "outputs": [],
   "source": []
  },
  {
   "cell_type": "markdown",
   "id": "8361520d-7c24-4444-a1ae-55304e0e4759",
   "metadata": {},
   "source": [
    "## paso a paso"
   ]
  },
  {
   "cell_type": "code",
   "execution_count": 1,
   "id": "645f8725-4001-4094-995d-8522c42e39a4",
   "metadata": {
    "tags": []
   },
   "outputs": [
    {
     "ename": "NameError",
     "evalue": "name 'data' is not defined",
     "output_type": "error",
     "traceback": [
      "\u001b[1;31m---------------------------------------------------------------------------\u001b[0m",
      "\u001b[1;31mNameError\u001b[0m                                 Traceback (most recent call last)",
      "Cell \u001b[1;32mIn[1], line 1\u001b[0m\n\u001b[1;32m----> 1\u001b[0m fila \u001b[38;5;241m=\u001b[39m data\u001b[38;5;241m.\u001b[39miloc[\u001b[38;5;241m0\u001b[39m]\n\u001b[0;32m      2\u001b[0m fila[\u001b[38;5;124m'\u001b[39m\u001b[38;5;124mcod_inst\u001b[39m\u001b[38;5;124m'\u001b[39m]\n",
      "\u001b[1;31mNameError\u001b[0m: name 'data' is not defined"
     ]
    }
   ],
   "source": [
    "fila = data.iloc[0]\n",
    "fila['cod_inst']"
   ]
  },
  {
   "cell_type": "code",
   "execution_count": 46,
   "id": "af2f8869-3b9c-4472-a72f-fbf36b428b2e",
   "metadata": {
    "tags": []
   },
   "outputs": [
    {
     "name": "stdout",
     "output_type": "stream",
     "text": [
      "2023-05-16 14:43:40\n"
     ]
    }
   ],
   "source": [
    "# optiene la fecha actual\n",
    "now = datetime.now()\n",
    "formatted_now = now.strftime(\"%Y-%m-%d %H:%M:%S\")\n",
    "print(formatted_now)"
   ]
  },
  {
   "cell_type": "code",
   "execution_count": 70,
   "id": "a23026dd-31ee-4189-9149-dda8355600e1",
   "metadata": {
    "tags": []
   },
   "outputs": [
    {
     "data": {
      "text/plain": [
       "[{'id': 26,\n",
       "  'codigo': '1',\n",
       "  'nombre': '1 -  ASOCIACIÓN DE PEQUEÑOS PRODUCTORES DE CAÑA CAMPESINO C.T.C.',\n",
       "  'slug': '1-asociacion-de-pequenos-productores-de-cana-campesino-ctc-26',\n",
       "  'direccion': 'C/ Rosendo Paz Nº 148',\n",
       "  'telefono': '9220257',\n",
       "  'estado': 'activo',\n",
       "  'created_at': datetime.datetime(2023, 5, 16, 14, 43, 40),\n",
       "  'updated_at': datetime.datetime(2023, 5, 16, 14, 43, 40)}]"
      ]
     },
     "execution_count": 70,
     "metadata": {},
     "output_type": "execute_result"
    }
   ],
   "source": [
    "# seleccionar instituacion\n",
    "select = 'select * from institucion where codigo=\\'{inst}\\''.format(inst=1)\n",
    "# ejecutar seleccion\n",
    "select_inst = dbQuery(select)\n",
    "select_inst[0]['nombre']"
   ]
  },
  {
   "cell_type": "code",
   "execution_count": 71,
   "id": "a0b398ea-af9d-4e64-ba10-3ec606826b4e",
   "metadata": {
    "tags": []
   },
   "outputs": [
    {
     "data": {
      "text/plain": [
       "1"
      ]
     },
     "execution_count": 71,
     "metadata": {},
     "output_type": "execute_result"
    }
   ],
   "source": [
    "len(select_inst)"
   ]
  },
  {
   "cell_type": "code",
   "execution_count": 49,
   "id": "930a191e-9808-4d1c-96ca-03493e07056e",
   "metadata": {
    "tags": []
   },
   "outputs": [],
   "source": [
    "query = 'insert into institucion (codigo, nombre, slug, direccion, telefono, estado, created_at, updated_at) values ({codigo}, \\'{nombre}\\', \\'{slug}\\',\\'{direccion}\\', \\'{telefono}\\',\\'{estado}\\', \\'{created_at}\\', \\'{updated_at}\\')'.format(codigo=fila['cod_inst'], nombre=fila['nom_inst'], slug='', direccion=fila['direccion'], telefono=fila['telf'], estado='activo', created_at=formatted_now, updated_at=formatted_now)"
   ]
  },
  {
   "cell_type": "code",
   "execution_count": 50,
   "id": "ea523761-7c0a-41de-aaa9-9c4966c96826",
   "metadata": {
    "tags": []
   },
   "outputs": [
    {
     "data": {
      "text/plain": [
       "\"insert into institucion (codigo, nombre, slug, direccion, telefono, estado, created_at, updated_at) values (1, '1 -  ASOCIACIÓN DE PEQUEÑOS PRODUCTORES DE CAÑA CAMPESINO C.T.C.', '','C/ Rosendo Paz Nº 148', '9220257','activo', '2023-05-16 14:43:40', '2023-05-16 14:43:40')\""
      ]
     },
     "execution_count": 50,
     "metadata": {},
     "output_type": "execute_result"
    }
   ],
   "source": [
    "query"
   ]
  },
  {
   "cell_type": "code",
   "execution_count": 51,
   "id": "414acce5-50a1-485e-bba0-e44d9d375932",
   "metadata": {
    "tags": []
   },
   "outputs": [],
   "source": [
    "insert_row = dbQuery(query, 1)"
   ]
  },
  {
   "cell_type": "code",
   "execution_count": 52,
   "id": "641b98ed-e8b6-4de3-8899-ba81a4f28a39",
   "metadata": {
    "tags": []
   },
   "outputs": [],
   "source": [
    "# seleccionar instituacion\n",
    "select = 'select * from institucion where codigo=\\'{inst}\\''.format(inst=fila['cod_inst'])\n",
    "# ejecutar seleccion\n",
    "select_inst = dbQuery(select)"
   ]
  },
  {
   "cell_type": "code",
   "execution_count": 53,
   "id": "f25593eb-00ac-4a12-ac3f-b28c34bf134c",
   "metadata": {
    "tags": []
   },
   "outputs": [
    {
     "data": {
      "text/plain": [
       "{'id': 26,\n",
       " 'codigo': '1',\n",
       " 'nombre': '1 -  ASOCIACIÓN DE PEQUEÑOS PRODUCTORES DE CAÑA CAMPESINO C.T.C.',\n",
       " 'slug': '',\n",
       " 'direccion': 'C/ Rosendo Paz Nº 148',\n",
       " 'telefono': '9220257',\n",
       " 'estado': 'activo',\n",
       " 'created_at': datetime.datetime(2023, 5, 16, 14, 43, 40),\n",
       " 'updated_at': datetime.datetime(2023, 5, 16, 14, 43, 40)}"
      ]
     },
     "execution_count": 53,
     "metadata": {},
     "output_type": "execute_result"
    }
   ],
   "source": [
    "inst = select_inst[0]\n",
    "inst"
   ]
  },
  {
   "cell_type": "code",
   "execution_count": 54,
   "id": "5e85e7a7-3e28-4749-934e-f36049a6e0ef",
   "metadata": {
    "tags": []
   },
   "outputs": [
    {
     "data": {
      "text/plain": [
       "'1-asociacion-de-pequenos-productores-de-cana-campesino-ctc-26'"
      ]
     },
     "execution_count": 54,
     "metadata": {},
     "output_type": "execute_result"
    }
   ],
   "source": [
    "slug_cod = abbreviate_institution_name(inst['nombre']) + '-' + str(inst['id'])\n",
    "slug_cod"
   ]
  },
  {
   "cell_type": "code",
   "execution_count": 55,
   "id": "9556628f-4add-44f9-9ddf-dd58d1408b64",
   "metadata": {},
   "outputs": [],
   "source": [
    "query = 'update institucion set slug=\\'{slug}\\' where id={id}'.format(slug=slug_cod, id=inst['id'])"
   ]
  },
  {
   "cell_type": "code",
   "execution_count": 56,
   "id": "4a3567a4-7987-4fe2-b6e1-9b6777f0ec4a",
   "metadata": {},
   "outputs": [
    {
     "data": {
      "text/plain": [
       "\"update institucion set slug='1-asociacion-de-pequenos-productores-de-cana-campesino-ctc-26' where id=26\""
      ]
     },
     "execution_count": 56,
     "metadata": {},
     "output_type": "execute_result"
    }
   ],
   "source": [
    "query"
   ]
  },
  {
   "cell_type": "code",
   "execution_count": 57,
   "id": "0ea8d312-a578-4ad8-b482-28f0825c9d60",
   "metadata": {},
   "outputs": [],
   "source": [
    "update_slug = dbQuery(query, 1)"
   ]
  },
  {
   "cell_type": "code",
   "execution_count": 58,
   "id": "0319d0fb-91e9-40c2-9bac-767870774e2c",
   "metadata": {},
   "outputs": [
    {
     "data": {
      "text/plain": [
       "()"
      ]
     },
     "execution_count": 58,
     "metadata": {},
     "output_type": "execute_result"
    }
   ],
   "source": [
    "update_slug"
   ]
  },
  {
   "cell_type": "code",
   "execution_count": null,
   "id": "196c1933-cbf7-4797-bd96-582f41504453",
   "metadata": {},
   "outputs": [],
   "source": []
  },
  {
   "cell_type": "code",
   "execution_count": null,
   "id": "b2a3272f-ee29-4941-a2cd-3aad16adf135",
   "metadata": {},
   "outputs": [],
   "source": []
  },
  {
   "cell_type": "code",
   "execution_count": null,
   "id": "0048b023-d356-4bee-97db-b717c42303be",
   "metadata": {},
   "outputs": [],
   "source": []
  }
 ],
 "metadata": {
  "kernelspec": {
   "display_name": "Python 3 (ipykernel)",
   "language": "python",
   "name": "python3"
  },
  "language_info": {
   "codemirror_mode": {
    "name": "ipython",
    "version": 3
   },
   "file_extension": ".py",
   "mimetype": "text/x-python",
   "name": "python",
   "nbconvert_exporter": "python",
   "pygments_lexer": "ipython3",
   "version": "3.11.2"
  }
 },
 "nbformat": 4,
 "nbformat_minor": 5
}
