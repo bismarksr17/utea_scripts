{
 "cells": [
  {
   "cell_type": "code",
   "execution_count": 5,
   "id": "9eafbbc1-bbc2-47a9-80a1-28fd7afb07be",
   "metadata": {
    "tags": []
   },
   "outputs": [
    {
     "name": "stderr",
     "output_type": "stream",
     "text": [
      "C:\\Users\\UTEA\\anaconda3\\envs\\utea_estimativas\\Lib\\site-packages\\paramiko\\transport.py:219: CryptographyDeprecationWarning: Blowfish has been deprecated\n",
      "  \"class\": algorithms.Blowfish,\n"
     ]
    }
   ],
   "source": [
    "import pandas as pd\n",
    "\n",
    "import tkinter as tk\n",
    "from tkinter import filedialog as fd\n",
    "\n",
    "import logging\n",
    "import logging.config\n",
    "import pymysql\n",
    "import paramiko\n",
    "from paramiko import SSHClient\n",
    "from sshtunnel import SSHTunnelForwarder\n",
    "\n",
    "import ast"
   ]
  },
  {
   "cell_type": "code",
   "execution_count": 6,
   "id": "3d58bc8e-b37e-4b57-9e68-cbd2d9421cc6",
   "metadata": {
    "tags": []
   },
   "outputs": [],
   "source": [
    "import re\n",
    "from unidecode import unidecode"
   ]
  },
  {
   "cell_type": "code",
   "execution_count": 7,
   "id": "da533d84-bbb8-49dd-9666-0330578e4682",
   "metadata": {
    "tags": []
   },
   "outputs": [],
   "source": [
    "from datetime import datetime"
   ]
  },
  {
   "cell_type": "code",
   "execution_count": 8,
   "id": "47756d7f-cbda-4c78-9e22-9728fd705ae0",
   "metadata": {
    "tags": []
   },
   "outputs": [],
   "source": [
    "# ruta de carpera donde estan las llaves\n",
    "ruta = open('../ruta.txt')\n",
    "ruta = ruta.readlines()[0]\n",
    "\n",
    "# cargar datos para conectar a AGROCITTCA\n",
    "data = open(ruta + '/_keys/agrocittca.data','r')\n",
    "password = data.readlines()[0]\n",
    "data.close()\n",
    "\n",
    "# extraccion de los datos\n",
    "datos_cnx = ast.literal_eval(password)\n",
    "\n",
    "# lectura de llave ssh\n",
    "mypkey = paramiko.RSAKey.from_private_key_file(ruta + '/_keys/llave_db_agrocittca', password='micontrasena')\n",
    "# ssh variables\n",
    "ssh_host = datos_cnx['ssh_host']\n",
    "ssh_port = datos_cnx['ssh_port']\n",
    "localhost = datos_cnx['localhost']\n",
    "localport = datos_cnx['localport']\n",
    "ssh_user = datos_cnx['ssh_user']\n",
    "# database variables\n",
    "sql_username = datos_cnx['sql_username']\n",
    "sql_password = datos_cnx['sql_password']\n",
    "sql_main_database = datos_cnx['sql_main_database']"
   ]
  },
  {
   "cell_type": "code",
   "execution_count": 9,
   "id": "8194b939-074c-4b9c-ae08-8d67fc219eff",
   "metadata": {
    "tags": []
   },
   "outputs": [],
   "source": [
    "# funcion para ejecutar una script SQL\n",
    "def dbQuery(q, estado = 0):\n",
    "    \"\"\" access the database over the SSH tunnel and execute the query \"\"\"\n",
    "    logger = logging.getLogger()\n",
    "    logger.debug(\"Connecting to reporting server...\", end=\"\")\n",
    "    with SSHTunnelForwarder(\n",
    "        (ssh_host, ssh_port),\n",
    "        ssh_username=ssh_user,\n",
    "        ssh_pkey=mypkey,\n",
    "        remote_bind_address=(localhost, 3306)) as tunnel:\n",
    "        logger.debug(\"Connected\")\n",
    "        logger.debug(\"Connecting to database...\")\n",
    "        try:\n",
    "            conn = pymysql.connect(\n",
    "                host='127.0.0.1', \n",
    "                user=sql_username,\n",
    "                passwd=sql_password,\n",
    "                db=sql_main_database,\n",
    "                port=tunnel.local_bind_port,\n",
    "                cursorclass=pymysql.cursors.DictCursor)\n",
    "            logger.debug(\"Connected\")\n",
    "            logger.debug(\"Executing query...\")\n",
    "            cursor = conn.cursor()\n",
    "            cursor.execute(q)\n",
    "            if estado==1:\n",
    "                conn.commit()  # Commit the transaction\n",
    "            data = cursor.fetchall()\n",
    "            logger.debug(\"Done\")\n",
    "        finally:\n",
    "            conn.close()\n",
    "    return data"
   ]
  },
  {
   "cell_type": "code",
   "execution_count": 10,
   "id": "b03f352a-7b3f-4942-8dce-fd4aed26fadd",
   "metadata": {
    "tags": []
   },
   "outputs": [],
   "source": [
    "# abrebiar nombre de inst\n",
    "def abbreviate_institution_name(name):\n",
    "    # Eliminar acentos y otros caracteres especiales\n",
    "    name = unidecode(name)\n",
    "    # Mantener solo caracteres alfanuméricos, espacios y guiones\n",
    "    name = re.sub(r\"[^\\w\\s-]\", \"\", name)\n",
    "    # Convertir a minúsculas\n",
    "    name = name.lower()\n",
    "    # Reemplazar espacios y guiones por un solo guión\n",
    "    abbreviated = re.sub(r\"[\\s-]+\", \"-\", name)\n",
    "    return abbreviated.strip('-')"
   ]
  },
  {
   "cell_type": "code",
   "execution_count": 11,
   "id": "32e84ccb-fa93-4721-83f4-3b8f0cf04b70",
   "metadata": {
    "tags": []
   },
   "outputs": [],
   "source": [
    "# open file dialog\n",
    "root = tk.Tk()\n",
    "root.attributes('-topmost', True)\n",
    "root.iconify()\n",
    "file_name = fd.askopenfilename(parent=root, filetypes=[(\".xlsx\", \".xlsx\")])\n",
    "root.destroy()"
   ]
  },
  {
   "cell_type": "code",
   "execution_count": 12,
   "id": "140cee05-8fda-4e3b-b2c3-651afe97b0cd",
   "metadata": {
    "tags": []
   },
   "outputs": [
    {
     "data": {
      "text/plain": [
       "'D:/OneDrive - Ingenio Azucarero Guabira S.A/APP CAÑERO/DATA PARA CARGAR/INSTITUCIONES.xlsx'"
      ]
     },
     "execution_count": 12,
     "metadata": {},
     "output_type": "execute_result"
    }
   ],
   "source": [
    "file_name"
   ]
  },
  {
   "cell_type": "code",
   "execution_count": 13,
   "id": "d2d1209e-7e40-4a79-915f-8d2f6209e0ec",
   "metadata": {
    "tags": []
   },
   "outputs": [],
   "source": [
    "data = pd.read_excel(file_name)"
   ]
  },
  {
   "cell_type": "code",
   "execution_count": 14,
   "id": "88e44290-d8ef-4876-9db4-8135c6dd2c36",
   "metadata": {
    "tags": []
   },
   "outputs": [
    {
     "data": {
      "text/html": [
       "<div>\n",
       "<style scoped>\n",
       "    .dataframe tbody tr th:only-of-type {\n",
       "        vertical-align: middle;\n",
       "    }\n",
       "\n",
       "    .dataframe tbody tr th {\n",
       "        vertical-align: top;\n",
       "    }\n",
       "\n",
       "    .dataframe thead th {\n",
       "        text-align: right;\n",
       "    }\n",
       "</style>\n",
       "<table border=\"1\" class=\"dataframe\">\n",
       "  <thead>\n",
       "    <tr style=\"text-align: right;\">\n",
       "      <th></th>\n",
       "      <th>cod_inst</th>\n",
       "      <th>nom_inst</th>\n",
       "      <th>telf</th>\n",
       "      <th>direccion</th>\n",
       "      <th>cell</th>\n",
       "      <th>obs</th>\n",
       "    </tr>\n",
       "  </thead>\n",
       "  <tbody>\n",
       "    <tr>\n",
       "      <th>0</th>\n",
       "      <td>1</td>\n",
       "      <td>1 -  ASOCIACIÓN DE PEQUEÑOS PRODUCTORES DE CAÑ...</td>\n",
       "      <td>9220257</td>\n",
       "      <td>C/ Rosendo Paz Nº 148</td>\n",
       "      <td>NaN</td>\n",
       "      <td>NaN</td>\n",
       "    </tr>\n",
       "    <tr>\n",
       "      <th>1</th>\n",
       "      <td>3</td>\n",
       "      <td>3 -  ASOCIACIÓN AGROPECUARIA 21 DE ABRIL</td>\n",
       "      <td>9221774</td>\n",
       "      <td>C/ Rosendo Paz Nº 146</td>\n",
       "      <td>NaN</td>\n",
       "      <td>NaN</td>\n",
       "    </tr>\n",
       "    <tr>\n",
       "      <th>2</th>\n",
       "      <td>5</td>\n",
       "      <td>5 -  ASOC. DE CAÑEROS SANTISTEBAN</td>\n",
       "      <td>9220838</td>\n",
       "      <td>Av. Paichane Esq. Evaristo Mendez</td>\n",
       "      <td>NaN</td>\n",
       "      <td>NaN</td>\n",
       "    </tr>\n",
       "  </tbody>\n",
       "</table>\n",
       "</div>"
      ],
      "text/plain": [
       "   cod_inst                                           nom_inst     telf   \n",
       "0         1  1 -  ASOCIACIÓN DE PEQUEÑOS PRODUCTORES DE CAÑ...  9220257  \\\n",
       "1         3           3 -  ASOCIACIÓN AGROPECUARIA 21 DE ABRIL  9221774   \n",
       "2         5                  5 -  ASOC. DE CAÑEROS SANTISTEBAN  9220838   \n",
       "\n",
       "                           direccion cell  obs  \n",
       "0              C/ Rosendo Paz Nº 148  NaN  NaN  \n",
       "1              C/ Rosendo Paz Nº 146  NaN  NaN  \n",
       "2  Av. Paichane Esq. Evaristo Mendez  NaN  NaN  "
      ]
     },
     "execution_count": 14,
     "metadata": {},
     "output_type": "execute_result"
    }
   ],
   "source": [
    "data.head(3)"
   ]
  },
  {
   "cell_type": "code",
   "execution_count": 15,
   "id": "645f8725-4001-4094-995d-8522c42e39a4",
   "metadata": {
    "tags": []
   },
   "outputs": [
    {
     "data": {
      "text/plain": [
       "1"
      ]
     },
     "execution_count": 15,
     "metadata": {},
     "output_type": "execute_result"
    }
   ],
   "source": [
    "fila = data.iloc[0]\n",
    "fila['cod_inst']"
   ]
  },
  {
   "cell_type": "code",
   "execution_count": 16,
   "id": "af2f8869-3b9c-4472-a72f-fbf36b428b2e",
   "metadata": {
    "tags": []
   },
   "outputs": [
    {
     "name": "stdout",
     "output_type": "stream",
     "text": [
      "2023-05-10 16:20:24\n"
     ]
    }
   ],
   "source": [
    "# optiene la fecha actual\n",
    "now = datetime.now()\n",
    "formatted_now = now.strftime(\"%Y-%m-%d %H:%M:%S\")\n",
    "print(formatted_now)"
   ]
  },
  {
   "cell_type": "code",
   "execution_count": 17,
   "id": "a23026dd-31ee-4189-9149-dda8355600e1",
   "metadata": {
    "tags": []
   },
   "outputs": [],
   "source": [
    "# seleccionar instituacion\n",
    "select = 'select * from institucion where codigo=\\'{inst}\\''.format(inst=50)\n",
    "# ejecutar seleccion\n",
    "select_inst = dbQuery(select)"
   ]
  },
  {
   "cell_type": "code",
   "execution_count": 18,
   "id": "a0b398ea-af9d-4e64-ba10-3ec606826b4e",
   "metadata": {
    "tags": []
   },
   "outputs": [
    {
     "data": {
      "text/plain": [
       "[{'id': 2,\n",
       "  'codigo': '50',\n",
       "  'nombre': '50 - ASOCIACIÓN AGROPECUARIA MONTERO 1965',\n",
       "  'slug': '50-asociacion-agropecuaria-montero-1965-2',\n",
       "  'direccion': 'Carretera Montero Santa Cruz',\n",
       "  'telefono': '9220080',\n",
       "  'estado': 'activo',\n",
       "  'created_at': datetime.datetime(2022, 9, 1, 7, 35, 47),\n",
       "  'updated_at': datetime.datetime(2022, 9, 1, 7, 35, 47)}]"
      ]
     },
     "execution_count": 18,
     "metadata": {},
     "output_type": "execute_result"
    }
   ],
   "source": [
    "select_inst"
   ]
  },
  {
   "cell_type": "code",
   "execution_count": 22,
   "id": "930a191e-9808-4d1c-96ca-03493e07056e",
   "metadata": {
    "tags": []
   },
   "outputs": [],
   "source": [
    "query = 'insert into institucion (codigo, nombre, slug, direccion, telefono, estado, created_at, updated_at) values ({codigo}, \\'{nombre}\\', \\'{slug}\\',\\'{direccion}\\', \\'{telefono}\\',\\'{estado}\\', \\'{created_at}\\', \\'{updated_at}\\')'.format(codigo=fila['cod_inst'], nombre=fila['nom_inst'], slug='', direccion=fila['direccion'], telefono=fila['telf'], estado='activo', created_at=formatted_now, updated_at=formatted_now)"
   ]
  },
  {
   "cell_type": "code",
   "execution_count": 23,
   "id": "ea523761-7c0a-41de-aaa9-9c4966c96826",
   "metadata": {
    "tags": []
   },
   "outputs": [
    {
     "data": {
      "text/plain": [
       "\"insert into institucion (codigo, nombre, slug, direccion, telefono, estado, created_at, updated_at) values (1, '1 -  ASOCIACIÓN DE PEQUEÑOS PRODUCTORES DE CAÑA CAMPESINO C.T.C.', '','C/ Rosendo Paz Nº 148', '9220257','activo', '2023-05-10 16:20:24', '2023-05-10 16:20:24')\""
      ]
     },
     "execution_count": 23,
     "metadata": {},
     "output_type": "execute_result"
    }
   ],
   "source": [
    "query"
   ]
  },
  {
   "cell_type": "code",
   "execution_count": 24,
   "id": "414acce5-50a1-485e-bba0-e44d9d375932",
   "metadata": {
    "tags": []
   },
   "outputs": [],
   "source": [
    "insert_row = dbQuery(query, 1)"
   ]
  },
  {
   "cell_type": "code",
   "execution_count": 25,
   "id": "641b98ed-e8b6-4de3-8899-ba81a4f28a39",
   "metadata": {
    "tags": []
   },
   "outputs": [],
   "source": [
    "# seleccionar instituacion\n",
    "select = 'select * from institucion where codigo=\\'{inst}\\''.format(inst=fila['cod_inst'])\n",
    "# ejecutar seleccion\n",
    "select_inst = dbQuery(select)"
   ]
  },
  {
   "cell_type": "code",
   "execution_count": 26,
   "id": "f25593eb-00ac-4a12-ac3f-b28c34bf134c",
   "metadata": {
    "tags": []
   },
   "outputs": [
    {
     "data": {
      "text/plain": [
       "{'id': 24,\n",
       " 'codigo': '1',\n",
       " 'nombre': '1 -  ASOCIACIÓN DE PEQUEÑOS PRODUCTORES DE CAÑA CAMPESINO C.T.C.',\n",
       " 'slug': '',\n",
       " 'direccion': 'C/ Rosendo Paz Nº 148',\n",
       " 'telefono': '9220257',\n",
       " 'estado': 'activo',\n",
       " 'created_at': datetime.datetime(2023, 5, 10, 16, 20, 24),\n",
       " 'updated_at': datetime.datetime(2023, 5, 10, 16, 20, 24)}"
      ]
     },
     "execution_count": 26,
     "metadata": {},
     "output_type": "execute_result"
    }
   ],
   "source": [
    "inst = select_inst[0]\n",
    "inst"
   ]
  },
  {
   "cell_type": "code",
   "execution_count": 27,
   "id": "5e85e7a7-3e28-4749-934e-f36049a6e0ef",
   "metadata": {
    "tags": []
   },
   "outputs": [
    {
     "data": {
      "text/plain": [
       "{'id': 24,\n",
       " 'codigo': '1',\n",
       " 'nombre': '1-asociacion-de-pequenos-productores-de-cana-campesino-ctc',\n",
       " 'slug': '',\n",
       " 'direccion': 'C/ Rosendo Paz Nº 148',\n",
       " 'telefono': '9220257',\n",
       " 'estado': 'activo',\n",
       " 'created_at': datetime.datetime(2023, 5, 10, 16, 20, 24),\n",
       " 'updated_at': datetime.datetime(2023, 5, 10, 16, 20, 24)}"
      ]
     },
     "execution_count": 27,
     "metadata": {},
     "output_type": "execute_result"
    }
   ],
   "source": [
    "inst['nombre'] = abbreviate_institution_name(inst['nombre'])\n",
    "inst"
   ]
  },
  {
   "cell_type": "code",
   "execution_count": null,
   "id": "9556628f-4add-44f9-9ddf-dd58d1408b64",
   "metadata": {},
   "outputs": [],
   "source": []
  },
  {
   "cell_type": "code",
   "execution_count": null,
   "id": "0ea8d312-a578-4ad8-b482-28f0825c9d60",
   "metadata": {},
   "outputs": [],
   "source": []
  }
 ],
 "metadata": {
  "kernelspec": {
   "display_name": "Python 3 (ipykernel)",
   "language": "python",
   "name": "python3"
  },
  "language_info": {
   "codemirror_mode": {
    "name": "ipython",
    "version": 3
   },
   "file_extension": ".py",
   "mimetype": "text/x-python",
   "name": "python",
   "nbconvert_exporter": "python",
   "pygments_lexer": "ipython3",
   "version": "3.11.3"
  }
 },
 "nbformat": 4,
 "nbformat_minor": 5
}
