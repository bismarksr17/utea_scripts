{
 "cells": [
  {
   "cell_type": "code",
   "execution_count": 1,
   "id": "5842d2e3-e8d2-4026-97a1-a90c653894d0",
   "metadata": {},
   "outputs": [],
   "source": [
    "import sys\n",
    "sys.path.append('..')\n",
    "\n",
    "import os\n",
    "\n",
    "from config import RUTA_UNIDAD_ONE_DRIVE\n",
    "from config import RUTA_LOCAL_ONE_DRIVE\n",
    "\n",
    "RUTA_COMPLETA = os.path.join(RUTA_UNIDAD_ONE_DRIVE, RUTA_LOCAL_ONE_DRIVE)"
   ]
  },
  {
   "cell_type": "code",
   "execution_count": 3,
   "id": "9eafbbc1-bbc2-47a9-80a1-28fd7afb07be",
   "metadata": {
    "tags": []
   },
   "outputs": [],
   "source": [
    "import pandas as pd\n",
    "\n",
    "import logging\n",
    "import logging.config\n",
    "import pymysql\n",
    "import paramiko\n",
    "from paramiko import SSHClient\n",
    "from sshtunnel import SSHTunnelForwarder\n",
    "\n",
    "import ast"
   ]
  },
  {
   "cell_type": "code",
   "execution_count": 4,
   "id": "95041b86-79f0-4d60-bbf9-67bea34cb16d",
   "metadata": {},
   "outputs": [
    {
     "data": {
      "text/plain": [
       "'OneDrive - Ingenio Azucarero Guabira S.A\\\\_DATOS_PYTHON'"
      ]
     },
     "execution_count": 4,
     "metadata": {},
     "output_type": "execute_result"
    }
   ],
   "source": [
    "ruta = open('../ruta_local.txt')\n",
    "ruta = ruta.readlines()[0]\n",
    "ruta"
   ]
  },
  {
   "cell_type": "code",
   "execution_count": 5,
   "id": "47756d7f-cbda-4c78-9e22-9728fd705ae0",
   "metadata": {
    "tags": []
   },
   "outputs": [],
   "source": [
    "# ruta de carpera donde estan las llaves\n",
    "ruta = open('../ruta_local.txt')\n",
    "ruta = ruta.readlines()[0]\n",
    "\n",
    "# cargar datos para conectar a AGROCITTCA\n",
    "data = open(RUTA_COMPLETA + '/_keys/agrocittca.data','r')\n",
    "password = data.readlines()[0]\n",
    "data.close()\n",
    "\n",
    "# extraccion de los datos\n",
    "datos_cnx = ast.literal_eval(password)\n",
    "\n",
    "# lectura de llave ssh\n",
    "mypkey = paramiko.RSAKey.from_private_key_file(RUTA_COMPLETA + '/_keys/llave_db_agrocittca', password='micontrasena')\n",
    "# ssh variables\n",
    "ssh_host = datos_cnx['ssh_host']\n",
    "ssh_port = datos_cnx['ssh_port']\n",
    "localhost = datos_cnx['localhost']\n",
    "localport = datos_cnx['localport']\n",
    "ssh_user = datos_cnx['ssh_user']\n",
    "# database variables\n",
    "sql_username = datos_cnx['sql_username']\n",
    "sql_password = datos_cnx['sql_password']\n",
    "sql_main_database = datos_cnx['sql_main_database']"
   ]
  },
  {
   "cell_type": "code",
   "execution_count": 6,
   "id": "8194b939-074c-4b9c-ae08-8d67fc219eff",
   "metadata": {
    "tags": []
   },
   "outputs": [],
   "source": [
    "# funcon para ejecutar una script SQL\n",
    "def dbQuery(q):\n",
    "    \"\"\" access the database over the SSH tunnel and execute the query \"\"\"\n",
    "    logger = logging.getLogger()\n",
    "    logger.debug(\"Connecting to reporting server...\", end=\"\")\n",
    "    with SSHTunnelForwarder(\n",
    "        (ssh_host, ssh_port),\n",
    "        ssh_username=ssh_user,\n",
    "        ssh_pkey=mypkey,\n",
    "        remote_bind_address=(localhost, 3306)) as tunnel:\n",
    "        logger.debug(\"Connected\")\n",
    "        logger.debug(\"Connecting to database...\")\n",
    "        try:\n",
    "            conn = pymysql.connect(\n",
    "                host='127.0.0.1', \n",
    "                user=sql_username,\n",
    "                passwd=sql_password,\n",
    "                db=sql_main_database,\n",
    "                port=tunnel.local_bind_port,\n",
    "                cursorclass=pymysql.cursors.DictCursor)\n",
    "            logger.debug(\"Connected\")\n",
    "            logger.debug(\"Executing query...\")\n",
    "            cursor = conn.cursor()\n",
    "            cursor.execute(q)\n",
    "            data = cursor.fetchall()\n",
    "            logger.debug(\"Done\")\n",
    "        finally:\n",
    "            conn.close()\n",
    "    return data"
   ]
  },
  {
   "cell_type": "markdown",
   "id": "4f815f3b-0258-4cf7-8753-91a6ce0da503",
   "metadata": {},
   "source": [
    "## USUARIOS ACTIVOS"
   ]
  },
  {
   "cell_type": "code",
   "execution_count": 11,
   "id": "b1c1e824-c461-4849-bbea-c0be8aad1c8e",
   "metadata": {},
   "outputs": [],
   "source": [
    "def get_activos():\n",
    "    query_1 = '''select \n",
    "                    DATE(tok.created_at) as created_at, \n",
    "                    usu.codigo, \n",
    "                    usu.name, \n",
    "                    usu.apellido_paterno, \n",
    "                    usu.apellido_materno, \n",
    "                    usu.username, \n",
    "                    usu.tipo, \n",
    "                    \\'reg acces\\' as origen\n",
    "                from oauth_access_tokens tok\n",
    "                inner join users usu on tok.user_id=usu.id\n",
    "                WHERE \n",
    "                    tok.created_at >= DATE_SUB(NOW(), INTERVAL 6 MONTH) and \n",
    "                    usu.tipo=\\'propietario\\''''\n",
    "    usuarios_acces = dbQuery(query_1)\n",
    "    data_acces = pd.DataFrame(usuarios_acces)\n",
    "    \n",
    "    query_2 = '''select \n",
    "                    DATE(ac.created_at) as created_at, \n",
    "                    us.codigo, \n",
    "                    us.name, \n",
    "                    us.apellido_paterno, \n",
    "                    us.apellido_materno, \n",
    "                    us.username, us.tipo, \n",
    "                    \\'reg. labor\\'  as origen\\\n",
    "                from actividades ac\n",
    "                inner join users us on us.id = ac.usuario_registro\n",
    "                WHERE \n",
    "                    ac.created_at >= DATE_SUB(NOW(), INTERVAL 6 MONTH)'''\n",
    "    usuarios_reg = dbQuery(query_2)\n",
    "    data_reg = pd.DataFrame(usuarios_reg)\n",
    "    data = pd.concat([data_acces, data_reg], ignore_index=True)\n",
    "    data.to_excel(RUTA_COMPLETA + '/_agrocittca-data/' + \"usuarios_activos.xlsx\", index=False)\n",
    "\n",
    "    \n",
    "def get_variedades():\n",
    "    query = 'select * from variedad'\n",
    "    variedades = dbQuery(query)\n",
    "    data = pd.DataFrame(variedades)\n",
    "    data.to_excel(RUTA_COMPLETA + '/_agrocittca-data/' + \"variedades.xlsx\", index=False)\n",
    "get_variedades()"
   ]
  },
  {
   "cell_type": "code",
   "execution_count": null,
   "id": "873c5cbf-6615-417b-ba67-5a98bed4959a",
   "metadata": {},
   "outputs": [],
   "source": []
  },
  {
   "cell_type": "code",
   "execution_count": null,
   "id": "836520b3-9831-4309-8b31-7901bd1f0349",
   "metadata": {},
   "outputs": [],
   "source": []
  },
  {
   "cell_type": "code",
   "execution_count": null,
   "id": "eda8c12e-acae-439b-992d-881ba5cb8266",
   "metadata": {},
   "outputs": [],
   "source": []
  },
  {
   "cell_type": "code",
   "execution_count": null,
   "id": "45e40ca9-5022-4b49-b6f6-877bd4b0e1d0",
   "metadata": {},
   "outputs": [],
   "source": []
  },
  {
   "cell_type": "code",
   "execution_count": 7,
   "id": "c749f3b9-1206-44ec-86c3-5d9c14ec234b",
   "metadata": {},
   "outputs": [
    {
     "data": {
      "text/plain": [
       "'(16, 17)'"
      ]
     },
     "execution_count": 7,
     "metadata": {},
     "output_type": "execute_result"
    }
   ],
   "source": [
    "periodos = {16, 17}\n",
    "periodos = \"(\" + \", \".join(map(str, periodos)) + \")\"\n",
    "periodos"
   ]
  },
  {
   "cell_type": "code",
   "execution_count": 8,
   "id": "419c1494-000e-4296-a830-aed87ef87892",
   "metadata": {},
   "outputs": [
    {
     "data": {
      "text/plain": [
       "'(1184, 1314, 367, 80, 1618, 500, 628, 949, 2075, 636, 1723)'"
      ]
     },
     "execution_count": 8,
     "metadata": {},
     "output_type": "execute_result"
    }
   ],
   "source": [
    "#rops = {1618, 500}\n",
    "props = {367, 636, 1184, 1314, 500, 1723, 80, 1618, 2075, 628, 949}\n",
    "props = \"(\" + \", \".join(map(str, props)) + \")\"\n",
    "props"
   ]
  },
  {
   "cell_type": "code",
   "execution_count": 9,
   "id": "3c2e35b7-a9b4-40db-a39e-7dc957eb3a4f",
   "metadata": {},
   "outputs": [],
   "source": [
    "def get_propiedades():\n",
    "    query = f\"select * from propiedad\\\n",
    "                where estado = \\'activo\\'\\\n",
    "                and periodo_id in {periodos}\\\n",
    "                and codigo in {props}\"\n",
    "    propiedades = dbQuery(query)\n",
    "    data = pd.DataFrame(propiedades)\n",
    "    data.to_excel(ruta + '/_agrocittca-data/' + \"propiedades.xlsx\", index=False)\n",
    "    return data\n",
    "\n",
    "def get_periodos(peris):\n",
    "    query = f\"select * from periodo\\\n",
    "            where estado = 'activo'\\\n",
    "            and id in {peris}\"\n",
    "    periodos = dbQuery(query)\n",
    "    data = pd.DataFrame(periodos)\n",
    "    data.to_excel(ruta + '/_agrocittca-data/' + \"periodos.xlsx\", index=False)\n",
    "    return data\n",
    "\n",
    "def get_canheros(ca):\n",
    "    query = f\"select * from users\\\n",
    "            where estado = 'activo'\\\n",
    "            and id in {ca}\"\n",
    "    canheros = dbQuery(query)\n",
    "    data = pd.DataFrame(canheros)\n",
    "    data.to_excel(ruta + '/_agrocittca-data/' + \"canheros.xlsx\", index=False)\n",
    "    return data\n",
    "\n",
    "def get_lotes(props_ids):\n",
    "    query = f\"select distinct(l.id), l.* from propiedad prop\\\n",
    "                inner join lote l on l.propiedad_id = prop.id\\\n",
    "                inner join actividades ac on ac.lote_id = l.id\\\n",
    "                where l.estado = 'activo'\\\n",
    "                and ac.estado = 'activo'\\\n",
    "                and prop.id in {props_ids}\"\n",
    "    lotes = dbQuery(query)\n",
    "    data = pd.DataFrame(lotes)\n",
    "    #data['superficie'] = data['superficie'].str.replace('.', ',')\n",
    "    data['superficie'] = data['superficie'].astype(float)\n",
    "    data.to_excel(ruta + '/_agrocittca-data/' + \"lotes.xlsx\", index=False)\n",
    "    return data\n",
    "\n",
    "def get_actividades(props_ids):\n",
    "    query = f\"select ac.* from propiedad prop\\\n",
    "                inner join lote l on l.propiedad_id = prop.id\\\n",
    "                inner join actividades ac on ac.lote_id = l.id\\\n",
    "                where l.estado = 'activo'\\\n",
    "                and ac.estado = 'activo'\\\n",
    "                and prop.id in {props_ids}\"\n",
    "    actividades = dbQuery(query)\n",
    "    data = pd.DataFrame(actividades)\n",
    "    data['superficie'] = data['superficie'].astype(float)\n",
    "    data.to_excel(ruta + '/_agrocittca-data/' + \"actividades.xlsx\", index=False)\n",
    "    return data\n",
    "\n",
    "def get_tipo_actividad(periodos_ids):\n",
    "    query = f\"select * from tipo_actividad\\\n",
    "                where estado='activo'\\\n",
    "                and periodo_id in {periodos_ids}\"\n",
    "    tipo_ac = dbQuery(query)\n",
    "    data = pd.DataFrame(tipo_ac)\n",
    "    data['precio_unitario'] = data['precio_unitario'].astype(float)\n",
    "    data.to_excel(ruta + '/_agrocittca-data/' + \"tipo_actividad.xlsx\", index=False)\n",
    "    return data\n",
    "\n",
    "def get_labor():\n",
    "    query = f\"select * from labor where estado='activo'\"\n",
    "    labor = dbQuery(query)\n",
    "    data = pd.DataFrame(labor)\n",
    "    data.to_excel(ruta + '/_agrocittca-data/' + \"labor.xlsx\", index=False)\n",
    "    return data\n",
    "\n",
    "def get_detalle_actividad(periodos_ids):\n",
    "    query = f\"select det_ac.* from detalle_actividad det_ac\\\n",
    "            inner join actividades ac on ac.id = det_ac.actividad_id\\\n",
    "            where det_ac.estado='activo'\\\n",
    "            and ac.periodo_id in {periodos_ids}\"\n",
    "    det_ac = dbQuery(query)\n",
    "    data = pd.DataFrame(det_ac)\n",
    "    data['cantidad'] = data['cantidad'].astype(float)\n",
    "    data['precio_producto'] = data['precio_producto'].astype(float)\n",
    "    data.to_excel(ruta + '/_agrocittca-data/' + \"detalle_actividad.xlsx\", index=False)\n",
    "    return data\n",
    "\n",
    "def get_producto_act():\n",
    "    query = f\"select prod.*, cat_prod.nombre insumo from producto_actividad prod\\\n",
    "                inner join categoria_producto cat_prod on cat_prod.id = prod.categoria_producto_id\\\n",
    "                where prod.estado = 'activo'\"\n",
    "    producto_act = dbQuery(query)\n",
    "    data = pd.DataFrame(producto_act)\n",
    "    data['precio_unitario'] = data['precio_unitario'].astype(float)\n",
    "    data.to_excel(ruta + '/_agrocittca-data/' + \"producto_actividad.xlsx\", index=False)\n",
    "    return data"
   ]
  },
  {
   "cell_type": "code",
   "execution_count": null,
   "id": "f9d259df-7d4e-4faa-856e-466e07b2711f",
   "metadata": {},
   "outputs": [],
   "source": []
  },
  {
   "cell_type": "code",
   "execution_count": 10,
   "id": "df6ac1ec-68e5-4ced-aabe-f939ba38a6aa",
   "metadata": {},
   "outputs": [
    {
     "data": {
      "text/html": [
       "<div>\n",
       "<style scoped>\n",
       "    .dataframe tbody tr th:only-of-type {\n",
       "        vertical-align: middle;\n",
       "    }\n",
       "\n",
       "    .dataframe tbody tr th {\n",
       "        vertical-align: top;\n",
       "    }\n",
       "\n",
       "    .dataframe thead th {\n",
       "        text-align: right;\n",
       "    }\n",
       "</style>\n",
       "<table border=\"1\" class=\"dataframe\">\n",
       "  <thead>\n",
       "    <tr style=\"text-align: right;\">\n",
       "      <th></th>\n",
       "      <th>id</th>\n",
       "      <th>nombre</th>\n",
       "      <th>descripcion</th>\n",
       "      <th>precio_unitario</th>\n",
       "      <th>ingrediente_activo</th>\n",
       "      <th>dosis_recomendada</th>\n",
       "      <th>estado</th>\n",
       "      <th>slug</th>\n",
       "      <th>unidad_medida_id</th>\n",
       "      <th>categoria_producto_id</th>\n",
       "      <th>created_at</th>\n",
       "      <th>updated_at</th>\n",
       "      <th>insumo</th>\n",
       "    </tr>\n",
       "  </thead>\n",
       "  <tbody>\n",
       "    <tr>\n",
       "      <th>0</th>\n",
       "      <td>1</td>\n",
       "      <td>Sunami</td>\n",
       "      <td></td>\n",
       "      <td>166.76</td>\n",
       "      <td>FIPRONIL 80%</td>\n",
       "      <td>4</td>\n",
       "      <td>activo</td>\n",
       "      <td>sunami-1</td>\n",
       "      <td>1</td>\n",
       "      <td>1</td>\n",
       "      <td>2022-08-31 17:07:16</td>\n",
       "      <td>2022-08-31 17:07:16</td>\n",
       "      <td>Insecticida</td>\n",
       "    </tr>\n",
       "    <tr>\n",
       "      <th>1</th>\n",
       "      <td>3</td>\n",
       "      <td>Merlin Total</td>\n",
       "      <td>U.C.G.</td>\n",
       "      <td>147.50</td>\n",
       "      <td>Merlin Total SC600</td>\n",
       "      <td>0</td>\n",
       "      <td>activo</td>\n",
       "      <td>merlin-total-3</td>\n",
       "      <td>2</td>\n",
       "      <td>3</td>\n",
       "      <td>2022-08-31 17:07:16</td>\n",
       "      <td>2023-02-22 15:48:37</td>\n",
       "      <td>Pre-Emergente</td>\n",
       "    </tr>\n",
       "    <tr>\n",
       "      <th>2</th>\n",
       "      <td>4</td>\n",
       "      <td>Flutolex</td>\n",
       "      <td>None</td>\n",
       "      <td>134.00</td>\n",
       "      <td>ISOXAFLUTOLE</td>\n",
       "      <td>0</td>\n",
       "      <td>activo</td>\n",
       "      <td>flutolex-4</td>\n",
       "      <td>2</td>\n",
       "      <td>3</td>\n",
       "      <td>2022-08-31 17:07:16</td>\n",
       "      <td>2023-01-30 09:44:36</td>\n",
       "      <td>Pre-Emergente</td>\n",
       "    </tr>\n",
       "  </tbody>\n",
       "</table>\n",
       "</div>"
      ],
      "text/plain": [
       "   id        nombre descripcion  precio_unitario  ingrediente_activo  \\\n",
       "0   1        Sunami                       166.76        FIPRONIL 80%   \n",
       "1   3  Merlin Total      U.C.G.           147.50  Merlin Total SC600   \n",
       "2   4      Flutolex        None           134.00        ISOXAFLUTOLE   \n",
       "\n",
       "  dosis_recomendada  estado            slug  unidad_medida_id  \\\n",
       "0                 4  activo        sunami-1                 1   \n",
       "1                 0  activo  merlin-total-3                 2   \n",
       "2                 0  activo      flutolex-4                 2   \n",
       "\n",
       "   categoria_producto_id          created_at          updated_at  \\\n",
       "0                      1 2022-08-31 17:07:16 2022-08-31 17:07:16   \n",
       "1                      3 2022-08-31 17:07:16 2023-02-22 15:48:37   \n",
       "2                      3 2022-08-31 17:07:16 2023-01-30 09:44:36   \n",
       "\n",
       "          insumo  \n",
       "0    Insecticida  \n",
       "1  Pre-Emergente  \n",
       "2  Pre-Emergente  "
      ]
     },
     "execution_count": 10,
     "metadata": {},
     "output_type": "execute_result"
    }
   ],
   "source": [
    "propiedades = get_propiedades()\n",
    "\n",
    "periodos = set(propiedades['periodo_id'])\n",
    "periodos = \"(\" + \", \".join(map(str, periodos)) + \")\"\n",
    "get_periodos(periodos)\n",
    "periodos\n",
    "\n",
    "canheros = set(propiedades['usuario_id'])\n",
    "canheros = \"(\" + \", \".join(map(str, canheros)) + \")\"\n",
    "get_canheros(canheros)\n",
    "canheros\n",
    "\n",
    "props_ids = set(propiedades['id'])\n",
    "props_ids = \"(\" + \", \".join(map(str, props_ids)) + \")\"\n",
    "lotes = get_lotes(props_ids)\n",
    "lotes\n",
    "\n",
    "actividades = get_actividades(props_ids)\n",
    "actividades\n",
    "\n",
    "tipo_actividad = get_tipo_actividad(periodos)\n",
    "tipo_actividad.head(3)\n",
    "\n",
    "labor = get_labor()\n",
    "labor\n",
    "\n",
    "detalle_ac = get_detalle_actividad(periodos)\n",
    "detalle_ac.head(3)\n",
    "\n",
    "producto_act = get_producto_act()\n",
    "producto_act.head(3)"
   ]
  },
  {
   "cell_type": "code",
   "execution_count": null,
   "id": "a18d058e-bee0-4ba7-9a6a-7d80bd0cf81d",
   "metadata": {},
   "outputs": [],
   "source": []
  },
  {
   "cell_type": "code",
   "execution_count": null,
   "id": "02efd0f7-68ff-4943-aa60-e3030bc6b560",
   "metadata": {},
   "outputs": [],
   "source": []
  },
  {
   "cell_type": "code",
   "execution_count": null,
   "id": "cc651292-3042-428a-a24d-9b15e8ebf867",
   "metadata": {},
   "outputs": [],
   "source": []
  },
  {
   "cell_type": "code",
   "execution_count": null,
   "id": "6ea46332-1bb7-474d-b3e4-7f50f58df9b1",
   "metadata": {},
   "outputs": [],
   "source": []
  },
  {
   "cell_type": "code",
   "execution_count": 12,
   "id": "2e077762-58af-46d7-8c77-49d30de8dcab",
   "metadata": {},
   "outputs": [],
   "source": [
    "get_activos()\n"
   ]
  },
  {
   "cell_type": "code",
   "execution_count": null,
   "id": "7850d25a-8633-4625-a049-642ad206d0bd",
   "metadata": {},
   "outputs": [],
   "source": [
    "get_actividades()"
   ]
  },
  {
   "cell_type": "code",
   "execution_count": 36,
   "id": "5a7bd615-1ad5-42ce-916e-16c7e7427bc2",
   "metadata": {},
   "outputs": [],
   "source": [
    "get_tipo_actividad()"
   ]
  },
  {
   "cell_type": "code",
   "execution_count": 38,
   "id": "2a65d4f1-14d1-4502-86bf-ac85528447b6",
   "metadata": {},
   "outputs": [],
   "source": [
    "get_labor()"
   ]
  },
  {
   "cell_type": "code",
   "execution_count": 42,
   "id": "1a120514-fa90-4d44-a055-94506cb5de0b",
   "metadata": {},
   "outputs": [],
   "source": [
    "get_maquinaria()"
   ]
  },
  {
   "cell_type": "code",
   "execution_count": 44,
   "id": "1f250ef4-bacd-4cc2-9db0-9223f8eaf7dd",
   "metadata": {},
   "outputs": [],
   "source": [
    "get_operario()"
   ]
  },
  {
   "cell_type": "code",
   "execution_count": 46,
   "id": "6e6a2a30-a033-4425-92af-03666b148df9",
   "metadata": {},
   "outputs": [],
   "source": [
    "get_categoria_producto()"
   ]
  },
  {
   "cell_type": "code",
   "execution_count": null,
   "id": "ac24a89d-c73c-4ece-9fb3-982038e76eed",
   "metadata": {},
   "outputs": [],
   "source": []
  },
  {
   "cell_type": "code",
   "execution_count": null,
   "id": "6c2a55f0-dc40-431d-9d18-dd3717501b3e",
   "metadata": {},
   "outputs": [],
   "source": []
  },
  {
   "cell_type": "code",
   "execution_count": null,
   "id": "b287da74-86b5-4acf-bc70-58ebb5d415e8",
   "metadata": {},
   "outputs": [],
   "source": []
  },
  {
   "cell_type": "code",
   "execution_count": null,
   "id": "ce580160-1d85-43ec-9c8c-5a0695aa01db",
   "metadata": {},
   "outputs": [],
   "source": []
  }
 ],
 "metadata": {
  "kernelspec": {
   "display_name": "Python 3 (ipykernel)",
   "language": "python",
   "name": "python3"
  },
  "language_info": {
   "codemirror_mode": {
    "name": "ipython",
    "version": 3
   },
   "file_extension": ".py",
   "mimetype": "text/x-python",
   "name": "python",
   "nbconvert_exporter": "python",
   "pygments_lexer": "ipython3",
   "version": "3.10.13"
  }
 },
 "nbformat": 4,
 "nbformat_minor": 5
}
