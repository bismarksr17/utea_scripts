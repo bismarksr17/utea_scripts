{
 "cells": [
  {
   "cell_type": "code",
   "execution_count": 2,
   "id": "9eafbbc1-bbc2-47a9-80a1-28fd7afb07be",
   "metadata": {},
   "outputs": [],
   "source": [
    "import pandas as pd\n",
    "\n",
    "import logging\n",
    "import logging.config\n",
    "import pymysql\n",
    "import paramiko\n",
    "from paramiko import SSHClient\n",
    "from sshtunnel import SSHTunnelForwarder\n",
    "\n",
    "import ast"
   ]
  },
  {
   "cell_type": "code",
   "execution_count": 3,
   "id": "30b70cc0-4261-4b34-90e4-0a0c5eb8c454",
   "metadata": {},
   "outputs": [],
   "source": [
    "# CONECTAR A AMIGOCLOUD\n",
    "data = open('../api_key/agrocittca.data','r')\n",
    "password = data.readlines()[0]\n",
    "data.close()"
   ]
  },
  {
   "cell_type": "code",
   "execution_count": 4,
   "id": "4aef58a9-8da4-44c9-8bd7-7e5c5039c9aa",
   "metadata": {},
   "outputs": [
    {
     "data": {
      "text/plain": [
       "{'ssh_host': '167.99.184.211',\n",
       " 'ssh_port': 22,\n",
       " 'localhost': '127.0.0.1',\n",
       " 'localport': 3306,\n",
       " 'ssh_user': 'forge',\n",
       " 'sql_username': 'forge',\n",
       " 'sql_password': '21q5DVqO9tbCQjnQkNnO',\n",
       " 'sql_main_database': 'guabira'}"
      ]
     },
     "execution_count": 4,
     "metadata": {},
     "output_type": "execute_result"
    }
   ],
   "source": [
    "datos_cnx = ast.literal_eval(password)\n",
    "datos_cnx"
   ]
  },
  {
   "cell_type": "code",
   "execution_count": 6,
   "id": "296da4bc-e51e-4e67-983c-730353170d43",
   "metadata": {},
   "outputs": [],
   "source": [
    "mypkey = paramiko.RSAKey.from_private_key_file('../api_key/llave', password='micontrasena')\n",
    "# ssh variables\n",
    "ssh_host = datos_cnx['ssh_host']\n",
    "ssh_port = datos_cnx['ssh_port']\n",
    "localhost = datos_cnx['localhost']\n",
    "localport = datos_cnx['localport']\n",
    "ssh_user = datos_cnx['ssh_user']\n",
    "# database variables\n",
    "sql_username = datos_cnx['sql_username']\n",
    "sql_password = datos_cnx['sql_password']\n",
    "sql_main_database = datos_cnx['sql_main_database']"
   ]
  },
  {
   "cell_type": "code",
   "execution_count": 21,
   "id": "8194b939-074c-4b9c-ae08-8d67fc219eff",
   "metadata": {},
   "outputs": [],
   "source": [
    "def dbQuery(q):\n",
    "    \"\"\" access the database over the SSH tunnel and execute the query \"\"\"\n",
    "    logger = logging.getLogger()\n",
    "    logger.debug(\"Connecting to reporting server...\", end=\"\")\n",
    "    with SSHTunnelForwarder(\n",
    "        (ssh_host, ssh_port),\n",
    "        ssh_username=ssh_user,\n",
    "        ssh_pkey=mypkey,\n",
    "        remote_bind_address=(localhost, 3306)) as tunnel:\n",
    "        logger.debug(\"Connected\")\n",
    "        logger.debug(\"Connecting to database...\")\n",
    "        try:\n",
    "            conn = pymysql.connect(\n",
    "                host='127.0.0.1', \n",
    "                user=sql_username,\n",
    "                passwd=sql_password,\n",
    "                db=sql_main_database,\n",
    "                port=tunnel.local_bind_port,\n",
    "                cursorclass=pymysql.cursors.DictCursor)\n",
    "            logger.debug(\"Connected\")\n",
    "            logger.debug(\"Executing query...\")\n",
    "            cursor = conn.cursor()\n",
    "            cursor.execute(q)\n",
    "            data = cursor.fetchall()\n",
    "            logger.debug(\"Done\")\n",
    "        finally:\n",
    "            conn.close()\n",
    "    return data"
   ]
  },
  {
   "cell_type": "code",
   "execution_count": 28,
   "id": "190bd67b-dab0-44f6-b2f9-9d1691bed2eb",
   "metadata": {},
   "outputs": [],
   "source": [
    "# SELECCIONAR TODOS LOS USUARIOS CAÑEROS ACTIVOS\n",
    "#select codigo, name, apellido_paterno, apellido_materno, username from users where estado='activo' and tipo = 'propietario\n",
    "cantidad_usuarios = dbQuery('select count(*) cantidad_usuarios from users where estado=\\'activo\\' and tipo = \\'propietario\\'')[0]['cantidad_usuarios']\n",
    "cantidad_props = dbQuery('select count(*) cantidad_props from propiedad prop\\\n",
    "                            inner join periodo per on prop.periodo_id=per.id\\\n",
    "                            where per.nombre=\\'CAMPAÑA 2023\\' and prop.estado=\\'activo\\'')[0]['cantidad_props']\n",
    " "
   ]
  },
  {
   "cell_type": "code",
   "execution_count": 27,
   "id": "1b8f1e0f-fcaf-47f0-9359-9c4f413ec77f",
   "metadata": {},
   "outputs": [
    {
     "data": {
      "text/plain": [
       "35"
      ]
     },
     "execution_count": 27,
     "metadata": {},
     "output_type": "execute_result"
    }
   ],
   "source": [
    "cantidad_usuarios"
   ]
  },
  {
   "cell_type": "code",
   "execution_count": 29,
   "id": "6fe42ea3-89b1-4837-a397-62962b1c142b",
   "metadata": {},
   "outputs": [
    {
     "data": {
      "text/plain": [
       "79"
      ]
     },
     "execution_count": 29,
     "metadata": {},
     "output_type": "execute_result"
    }
   ],
   "source": [
    "cantidad_props"
   ]
  },
  {
   "cell_type": "code",
   "execution_count": null,
   "id": "41d8f274-6d99-4d16-b07f-14f7d9ee7807",
   "metadata": {},
   "outputs": [],
   "source": []
  },
  {
   "cell_type": "code",
   "execution_count": null,
   "id": "864be591-ebb2-474d-99ee-ab5fcc218671",
   "metadata": {},
   "outputs": [],
   "source": []
  },
  {
   "cell_type": "code",
   "execution_count": null,
   "id": "6d0d7f29-4a95-4d6c-b89a-0562bf74a4c9",
   "metadata": {},
   "outputs": [],
   "source": []
  }
 ],
 "metadata": {
  "kernelspec": {
   "display_name": "Python 3 (ipykernel)",
   "language": "python",
   "name": "python3"
  },
  "language_info": {
   "codemirror_mode": {
    "name": "ipython",
    "version": 3
   },
   "file_extension": ".py",
   "mimetype": "text/x-python",
   "name": "python",
   "nbconvert_exporter": "python",
   "pygments_lexer": "ipython3",
   "version": "3.7.16"
  }
 },
 "nbformat": 4,
 "nbformat_minor": 5
}
