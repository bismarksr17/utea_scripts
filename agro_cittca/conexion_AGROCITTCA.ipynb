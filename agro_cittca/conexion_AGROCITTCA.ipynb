{
 "cells": [
  {
   "cell_type": "code",
   "execution_count": 2,
   "id": "9eafbbc1-bbc2-47a9-80a1-28fd7afb07be",
   "metadata": {
    "tags": []
   },
   "outputs": [],
   "source": [
    "import pandas as pd\n",
    "\n",
    "import logging\n",
    "import logging.config\n",
    "import pymysql\n",
    "import paramiko\n",
    "from paramiko import SSHClient\n",
    "from sshtunnel import SSHTunnelForwarder\n",
    "\n",
    "import ast"
   ]
  },
  {
   "cell_type": "code",
   "execution_count": 3,
   "id": "95041b86-79f0-4d60-bbf9-67bea34cb16d",
   "metadata": {},
   "outputs": [
    {
     "data": {
      "text/plain": [
       "'G:\\\\OneDrive - Ingenio Azucarero Guabira S.A\\\\_DATOS_PYTHON'"
      ]
     },
     "execution_count": 3,
     "metadata": {},
     "output_type": "execute_result"
    }
   ],
   "source": [
    "ruta = open('../ruta.txt')\n",
    "ruta = ruta.readlines()[0]\n",
    "ruta"
   ]
  },
  {
   "cell_type": "code",
   "execution_count": 4,
   "id": "47756d7f-cbda-4c78-9e22-9728fd705ae0",
   "metadata": {
    "tags": []
   },
   "outputs": [],
   "source": [
    "# ruta de carpera donde estan las llaves\n",
    "ruta = open('../ruta.txt')\n",
    "ruta = ruta.readlines()[0]\n",
    "\n",
    "# cargar datos para conectar a AGROCITTCA\n",
    "data = open(ruta + '/_keys/agrocittca.data','r')\n",
    "password = data.readlines()[0]\n",
    "data.close()\n",
    "\n",
    "# extraccion de los datos\n",
    "datos_cnx = ast.literal_eval(password)\n",
    "\n",
    "# lectura de llave ssh\n",
    "mypkey = paramiko.RSAKey.from_private_key_file(ruta + '/_keys/llave_db_agrocittca', password='micontrasena')\n",
    "# ssh variables\n",
    "ssh_host = datos_cnx['ssh_host']\n",
    "ssh_port = datos_cnx['ssh_port']\n",
    "localhost = datos_cnx['localhost']\n",
    "localport = datos_cnx['localport']\n",
    "ssh_user = datos_cnx['ssh_user']\n",
    "# database variables\n",
    "sql_username = datos_cnx['sql_username']\n",
    "sql_password = datos_cnx['sql_password']\n",
    "sql_main_database = datos_cnx['sql_main_database']"
   ]
  },
  {
   "cell_type": "code",
   "execution_count": 5,
   "id": "8194b939-074c-4b9c-ae08-8d67fc219eff",
   "metadata": {
    "tags": []
   },
   "outputs": [],
   "source": [
    "# funcon para ejecutar una script SQL\n",
    "def dbQuery(q):\n",
    "    \"\"\" access the database over the SSH tunnel and execute the query \"\"\"\n",
    "    logger = logging.getLogger()\n",
    "    logger.debug(\"Connecting to reporting server...\", end=\"\")\n",
    "    with SSHTunnelForwarder(\n",
    "        (ssh_host, ssh_port),\n",
    "        ssh_username=ssh_user,\n",
    "        ssh_pkey=mypkey,\n",
    "        remote_bind_address=(localhost, 3306)) as tunnel:\n",
    "        logger.debug(\"Connected\")\n",
    "        logger.debug(\"Connecting to database...\")\n",
    "        try:\n",
    "            conn = pymysql.connect(\n",
    "                host='127.0.0.1', \n",
    "                user=sql_username,\n",
    "                passwd=sql_password,\n",
    "                db=sql_main_database,\n",
    "                port=tunnel.local_bind_port,\n",
    "                cursorclass=pymysql.cursors.DictCursor)\n",
    "            logger.debug(\"Connected\")\n",
    "            logger.debug(\"Executing query...\")\n",
    "            cursor = conn.cursor()\n",
    "            cursor.execute(q)\n",
    "            data = cursor.fetchall()\n",
    "            logger.debug(\"Done\")\n",
    "        finally:\n",
    "            conn.close()\n",
    "    return data"
   ]
  },
  {
   "cell_type": "markdown",
   "id": "4f815f3b-0258-4cf7-8753-91a6ce0da503",
   "metadata": {},
   "source": [
    "## USUARIOS ACTIVOS"
   ]
  },
  {
   "cell_type": "code",
   "execution_count": 7,
   "id": "b1c1e824-c461-4849-bbea-c0be8aad1c8e",
   "metadata": {},
   "outputs": [],
   "source": [
    "def get_activos():\n",
    "    query_1 = 'select DATE(tok.created_at) as created_at, usu.codigo, usu.name, usu.apellido_paterno, usu.apellido_materno, usu.username, usu.tipo, \\'reg acces\\' as origen\\\n",
    "                        from oauth_access_tokens tok\\\n",
    "                        inner join users usu on tok.user_id=usu.id\\\n",
    "                        WHERE tok.created_at >= DATE_SUB(NOW(), INTERVAL 6 MONTH) and usu.tipo=\\'propietario\\''\n",
    "    usuarios_acces = dbQuery(query_1)\n",
    "    data_acces = pd.DataFrame(usuarios_acces)\n",
    "    \n",
    "    query_2 = 'select DATE(ac.created_at) as created_at, us.codigo, us.name, us.apellido_paterno, us.apellido_materno, us.username, us.tipo, \\'reg. labor\\'  as origen\\\n",
    "                from actividades ac\\\n",
    "                inner join users us on us.id = ac.usuario_registro\\\n",
    "                WHERE ac.created_at >= DATE_SUB(NOW(), INTERVAL 6 MONTH)'\n",
    "    usuarios_reg = dbQuery(query_2)\n",
    "    data_reg = pd.DataFrame(usuarios_reg)\n",
    "    data = pd.concat([data_acces, data_reg], ignore_index=True)\n",
    "    data.to_excel(ruta + '/_agrocittca-data/' + \"usuarios_activos.xlsx\", index=False)\n",
    "\n",
    "def get_variedades():\n",
    "    query = 'select * from variedad'\n",
    "    variedades = dbQuery(query)\n",
    "    data = pd.DataFrame(variedades)\n",
    "    data.to_excel(ruta + '/_agrocittca-data/' + \"variedades.xlsx\", index=False)\n",
    "get_variedades()"
   ]
  },
  {
   "cell_type": "code",
   "execution_count": null,
   "id": "873c5cbf-6615-417b-ba67-5a98bed4959a",
   "metadata": {},
   "outputs": [],
   "source": []
  },
  {
   "cell_type": "code",
   "execution_count": null,
   "id": "836520b3-9831-4309-8b31-7901bd1f0349",
   "metadata": {},
   "outputs": [],
   "source": []
  },
  {
   "cell_type": "code",
   "execution_count": null,
   "id": "eda8c12e-acae-439b-992d-881ba5cb8266",
   "metadata": {},
   "outputs": [],
   "source": []
  },
  {
   "cell_type": "code",
   "execution_count": null,
   "id": "45e40ca9-5022-4b49-b6f6-877bd4b0e1d0",
   "metadata": {},
   "outputs": [],
   "source": []
  },
  {
   "cell_type": "code",
   "execution_count": 8,
   "id": "c749f3b9-1206-44ec-86c3-5d9c14ec234b",
   "metadata": {},
   "outputs": [
    {
     "data": {
      "text/plain": [
       "'(16, 17)'"
      ]
     },
     "execution_count": 8,
     "metadata": {},
     "output_type": "execute_result"
    }
   ],
   "source": [
    "periodos = {16, 17}\n",
    "periodos = \"(\" + \", \".join(map(str, periodos)) + \")\"\n",
    "periodos"
   ]
  },
  {
   "cell_type": "code",
   "execution_count": 9,
   "id": "419c1494-000e-4296-a830-aed87ef87892",
   "metadata": {},
   "outputs": [
    {
     "data": {
      "text/plain": [
       "'(500)'"
      ]
     },
     "execution_count": 9,
     "metadata": {},
     "output_type": "execute_result"
    }
   ],
   "source": [
    "props = {500}\n",
    "props = \"(\" + \", \".join(map(str, props)) + \")\"\n",
    "props"
   ]
  },
  {
   "cell_type": "code",
   "execution_count": 25,
   "id": "3c2e35b7-a9b4-40db-a39e-7dc957eb3a4f",
   "metadata": {},
   "outputs": [],
   "source": [
    "def get_propiedades():\n",
    "    query = f\"select * from propiedad\\\n",
    "                where estado = \\'activo\\'\\\n",
    "                and periodo_id in {periodos}\\\n",
    "                and codigo in {props}\"\n",
    "    propiedades = dbQuery(query)\n",
    "    data = pd.DataFrame(propiedades)\n",
    "    data.to_excel(ruta + '/_agrocittca-data/' + \"propiedades.xlsx\", index=False)\n",
    "    return data\n",
    "\n",
    "def get_periodos(peris):\n",
    "    query = f\"select * from periodo\\\n",
    "            where estado = 'activo'\\\n",
    "            and id in {peris}\"\n",
    "    periodos = dbQuery(query)\n",
    "    data = pd.DataFrame(periodos)\n",
    "    data.to_excel(ruta + '/_agrocittca-data/' + \"periodos.xlsx\", index=False)\n",
    "    return data\n",
    "\n",
    "def get_canheros(ca):\n",
    "    query = f\"select * from users\\\n",
    "            where estado = 'activo'\\\n",
    "            and id in {ca}\"\n",
    "    canheros = dbQuery(query)\n",
    "    data = pd.DataFrame(canheros)\n",
    "    data.to_excel(ruta + '/_agrocittca-data/' + \"canheros.xlsx\", index=False)\n",
    "    return data\n",
    "\n",
    "def get_lotes(props_ids):\n",
    "    query = f\"select distinct(l.id), l.* from propiedad prop\\\n",
    "                inner join lote l on l.propiedad_id = prop.id\\\n",
    "                inner join actividades ac on ac.lote_id = l.id\\\n",
    "                where l.estado = 'activo'\\\n",
    "                and ac.estado = 'activo'\\\n",
    "                and prop.id in {props_ids}\"\n",
    "    lotes = dbQuery(query)\n",
    "    data = pd.DataFrame(lotes)\n",
    "    #data['superficie'] = data['superficie'].str.replace('.', ',')\n",
    "    data['superficie'] = data['superficie'].astype(float)\n",
    "    data.to_excel(ruta + '/_agrocittca-data/' + \"lotes.xlsx\", index=False)\n",
    "    return data\n",
    "\n",
    "def get_actividades(props_ids):\n",
    "    query = f\"select ac.* from propiedad prop\\\n",
    "                inner join lote l on l.propiedad_id = prop.id\\\n",
    "                inner join actividades ac on ac.lote_id = l.id\\\n",
    "                where l.estado = 'activo'\\\n",
    "                and ac.estado = 'activo'\\\n",
    "                and prop.id in {props_ids}\"\n",
    "    actividades = dbQuery(query)\n",
    "    data = pd.DataFrame(actividades)\n",
    "    data.to_excel(ruta + '/_agrocittca-data/' + \"actividades.xlsx\", index=False)\n",
    "    return data\n",
    "\n",
    "def get_tipo_actividad(periodos_ids):\n",
    "    query = f\"select * from tipo_actividad\\\n",
    "                where estado='activo'\\\n",
    "                and periodo_id in {periodos_ids}\"\n",
    "    tipo_ac = dbQuery(query)\n",
    "    data = pd.DataFrame(tipo_ac)\n",
    "    data.to_excel(ruta + '/_agrocittca-data/' + \"tipo_actividad.xlsx\", index=False)\n",
    "    return data\n",
    "\n",
    "def get_labor():\n",
    "    query = f\"select * from labor where estado='activo'\"\n",
    "    labor = dbQuery(query)\n",
    "    data = pd.DataFrame(labor)\n",
    "    data.to_excel(ruta + '/_agrocittca-data/' + \"labor.xlsx\", index=False)\n",
    "    return data\n",
    "\n",
    "def get_detalle_actividad(periodos_ids):\n",
    "    query = f\"select det_ac.* from detalle_actividad det_ac\\\n",
    "            inner join actividades ac on ac.id = det_ac.actividad_id\\\n",
    "            where det_ac.estado='activo'\\\n",
    "            and ac.periodo_id in {periodos_ids}\"\n",
    "    det_ac = dbQuery(query)\n",
    "    data = pd.DataFrame(det_ac)\n",
    "    data['cantidad'] = data['cantidad'].astype(float)\n",
    "    data.to_excel(ruta + '/_agrocittca-data/' + \"detalle_actividad.xlsx\", index=False)\n",
    "    return data\n",
    "\n",
    "def get_producto_act():\n",
    "    query = f\"select * from producto_actividad where estado = 'activo'\"\n",
    "    producto_act = dbQuery(query)\n",
    "    data = pd.DataFrame(producto_act)\n",
    "    data['precio_unitario'] = data['precio_unitario'].astype(float)\n",
    "    data.to_excel(ruta + '/_agrocittca-data/' + \"producto_actividad.xlsx\", index=False)\n",
    "    return data"
   ]
  },
  {
   "cell_type": "code",
   "execution_count": null,
   "id": "f9d259df-7d4e-4faa-856e-466e07b2711f",
   "metadata": {},
   "outputs": [],
   "source": []
  },
  {
   "cell_type": "code",
   "execution_count": 11,
   "id": "df6ac1ec-68e5-4ced-aabe-f939ba38a6aa",
   "metadata": {},
   "outputs": [],
   "source": [
    "propiedades = get_propiedades()"
   ]
  },
  {
   "cell_type": "code",
   "execution_count": 12,
   "id": "041e334c-7560-4da5-aaf1-c8d3dee390b4",
   "metadata": {},
   "outputs": [
    {
     "data": {
      "text/plain": [
       "'(16, 17)'"
      ]
     },
     "execution_count": 12,
     "metadata": {},
     "output_type": "execute_result"
    }
   ],
   "source": [
    "periodos = set(propiedades['periodo_id'])\n",
    "periodos = \"(\" + \", \".join(map(str, periodos)) + \")\"\n",
    "get_periodos(periodos)\n",
    "periodos"
   ]
  },
  {
   "cell_type": "code",
   "execution_count": 13,
   "id": "16b26b0a-bcda-4e75-af1d-24d6b92f699c",
   "metadata": {},
   "outputs": [
    {
     "data": {
      "text/plain": [
       "'(51)'"
      ]
     },
     "execution_count": 13,
     "metadata": {},
     "output_type": "execute_result"
    }
   ],
   "source": [
    "canheros = set(propiedades['usuario_id'])\n",
    "canheros = \"(\" + \", \".join(map(str, canheros)) + \")\"\n",
    "get_canheros(canheros)\n",
    "canheros"
   ]
  },
  {
   "cell_type": "code",
   "execution_count": 16,
   "id": "2a1f9069-c985-4925-af7c-736dcc78719d",
   "metadata": {},
   "outputs": [
    {
     "data": {
      "text/plain": [
       "'(3342, 3551)'"
      ]
     },
     "execution_count": 16,
     "metadata": {},
     "output_type": "execute_result"
    }
   ],
   "source": [
    "props_ids"
   ]
  },
  {
   "cell_type": "code",
   "execution_count": 15,
   "id": "43d73547-e06d-4152-b0cb-9af293ce3f7c",
   "metadata": {},
   "outputs": [
    {
     "data": {
      "text/html": [
       "<div>\n",
       "<style scoped>\n",
       "    .dataframe tbody tr th:only-of-type {\n",
       "        vertical-align: middle;\n",
       "    }\n",
       "\n",
       "    .dataframe tbody tr th {\n",
       "        vertical-align: top;\n",
       "    }\n",
       "\n",
       "    .dataframe thead th {\n",
       "        text-align: right;\n",
       "    }\n",
       "</style>\n",
       "<table border=\"1\" class=\"dataframe\">\n",
       "  <thead>\n",
       "    <tr style=\"text-align: right;\">\n",
       "      <th></th>\n",
       "      <th>id</th>\n",
       "      <th>l.id</th>\n",
       "      <th>codigo</th>\n",
       "      <th>nombre</th>\n",
       "      <th>slug</th>\n",
       "      <th>superficie</th>\n",
       "      <th>fecha_siembra</th>\n",
       "      <th>corte</th>\n",
       "      <th>estado_lote</th>\n",
       "      <th>rendimiento</th>\n",
       "      <th>estado</th>\n",
       "      <th>observacion</th>\n",
       "      <th>propiedad_id</th>\n",
       "      <th>usuario_id</th>\n",
       "      <th>variedad_id</th>\n",
       "      <th>textura_id</th>\n",
       "      <th>created_at</th>\n",
       "      <th>updated_at</th>\n",
       "    </tr>\n",
       "  </thead>\n",
       "  <tbody>\n",
       "    <tr>\n",
       "      <th>0</th>\n",
       "      <td>28630</td>\n",
       "      <td>28630</td>\n",
       "      <td>00005000000L5</td>\n",
       "      <td>L5</td>\n",
       "      <td>l5-28630</td>\n",
       "      <td>45.22</td>\n",
       "      <td>0</td>\n",
       "      <td>122</td>\n",
       "      <td>4</td>\n",
       "      <td>53.44145750229</td>\n",
       "      <td>activo</td>\n",
       "      <td></td>\n",
       "      <td>3342</td>\n",
       "      <td>17691</td>\n",
       "      <td>16</td>\n",
       "      <td>2</td>\n",
       "      <td>2024-01-31 08:11:02</td>\n",
       "      <td>2024-01-31 08:11:02</td>\n",
       "    </tr>\n",
       "  </tbody>\n",
       "</table>\n",
       "</div>"
      ],
      "text/plain": [
       "      id   l.id         codigo nombre      slug  superficie fecha_siembra  \\\n",
       "0  28630  28630  00005000000L5     L5  l5-28630       45.22             0   \n",
       "\n",
       "  corte estado_lote     rendimiento  estado observacion  propiedad_id  \\\n",
       "0   122           4  53.44145750229  activo                      3342   \n",
       "\n",
       "  usuario_id  variedad_id  textura_id          created_at          updated_at  \n",
       "0      17691           16           2 2024-01-31 08:11:02 2024-01-31 08:11:02  "
      ]
     },
     "execution_count": 15,
     "metadata": {},
     "output_type": "execute_result"
    }
   ],
   "source": [
    "props_ids = set(propiedades['id'])\n",
    "props_ids = \"(\" + \", \".join(map(str, props_ids)) + \")\"\n",
    "lotes = get_lotes(props_ids)\n",
    "lotes"
   ]
  },
  {
   "cell_type": "code",
   "execution_count": 26,
   "id": "efe86120-ca79-402c-a433-ac5f88604262",
   "metadata": {},
   "outputs": [
    {
     "data": {
      "text/html": [
       "<div>\n",
       "<style scoped>\n",
       "    .dataframe tbody tr th:only-of-type {\n",
       "        vertical-align: middle;\n",
       "    }\n",
       "\n",
       "    .dataframe tbody tr th {\n",
       "        vertical-align: top;\n",
       "    }\n",
       "\n",
       "    .dataframe thead th {\n",
       "        text-align: right;\n",
       "    }\n",
       "</style>\n",
       "<table border=\"1\" class=\"dataframe\">\n",
       "  <thead>\n",
       "    <tr style=\"text-align: right;\">\n",
       "      <th></th>\n",
       "      <th>id</th>\n",
       "      <th>superficie</th>\n",
       "      <th>slug</th>\n",
       "      <th>hora_inicio</th>\n",
       "      <th>hora_final</th>\n",
       "      <th>combustible</th>\n",
       "      <th>cantidad_combustible</th>\n",
       "      <th>estado</th>\n",
       "      <th>comentario</th>\n",
       "      <th>fecha_ejecucion</th>\n",
       "      <th>...</th>\n",
       "      <th>periodo_id</th>\n",
       "      <th>created_at</th>\n",
       "      <th>updated_at</th>\n",
       "      <th>mi_precio</th>\n",
       "      <th>tipo_actividad_mi_precio_id</th>\n",
       "      <th>precio_tipo_actividad</th>\n",
       "      <th>detalle_combustible_id</th>\n",
       "      <th>mi_precio_hora_tipo_actividad</th>\n",
       "      <th>tipo_actividad_mi_precio_hora_id</th>\n",
       "      <th>mi_precio_hora_tipo_actividad_valor</th>\n",
       "    </tr>\n",
       "  </thead>\n",
       "  <tbody>\n",
       "    <tr>\n",
       "      <th>0</th>\n",
       "      <td>4530</td>\n",
       "      <td>45.22</td>\n",
       "      <td>actividad-4530</td>\n",
       "      <td>1</td>\n",
       "      <td>2</td>\n",
       "      <td>None</td>\n",
       "      <td>None</td>\n",
       "      <td>activo</td>\n",
       "      <td>None</td>\n",
       "      <td>2024-09-02</td>\n",
       "      <td>...</td>\n",
       "      <td>16</td>\n",
       "      <td>2024-10-06 22:25:36</td>\n",
       "      <td>2024-10-06 22:25:36</td>\n",
       "      <td>no</td>\n",
       "      <td>None</td>\n",
       "      <td>30</td>\n",
       "      <td>None</td>\n",
       "      <td>no</td>\n",
       "      <td>None</td>\n",
       "      <td>None</td>\n",
       "    </tr>\n",
       "  </tbody>\n",
       "</table>\n",
       "<p>1 rows × 28 columns</p>\n",
       "</div>"
      ],
      "text/plain": [
       "     id superficie            slug hora_inicio hora_final combustible  \\\n",
       "0  4530      45.22  actividad-4530           1          2        None   \n",
       "\n",
       "  cantidad_combustible  estado comentario fecha_ejecucion  ...  periodo_id  \\\n",
       "0                 None  activo       None      2024-09-02  ...          16   \n",
       "\n",
       "           created_at          updated_at  mi_precio  \\\n",
       "0 2024-10-06 22:25:36 2024-10-06 22:25:36         no   \n",
       "\n",
       "   tipo_actividad_mi_precio_id  precio_tipo_actividad  detalle_combustible_id  \\\n",
       "0                         None                     30                    None   \n",
       "\n",
       "   mi_precio_hora_tipo_actividad  tipo_actividad_mi_precio_hora_id  \\\n",
       "0                             no                              None   \n",
       "\n",
       "  mi_precio_hora_tipo_actividad_valor  \n",
       "0                                None  \n",
       "\n",
       "[1 rows x 28 columns]"
      ]
     },
     "execution_count": 26,
     "metadata": {},
     "output_type": "execute_result"
    }
   ],
   "source": [
    "actividades = get_actividades(props_ids)\n",
    "actividades"
   ]
  },
  {
   "cell_type": "code",
   "execution_count": 18,
   "id": "4e52c995-1f27-4f14-af58-b79b4d52d081",
   "metadata": {},
   "outputs": [
    {
     "data": {
      "text/html": [
       "<div>\n",
       "<style scoped>\n",
       "    .dataframe tbody tr th:only-of-type {\n",
       "        vertical-align: middle;\n",
       "    }\n",
       "\n",
       "    .dataframe tbody tr th {\n",
       "        vertical-align: top;\n",
       "    }\n",
       "\n",
       "    .dataframe thead th {\n",
       "        text-align: right;\n",
       "    }\n",
       "</style>\n",
       "<table border=\"1\" class=\"dataframe\">\n",
       "  <thead>\n",
       "    <tr style=\"text-align: right;\">\n",
       "      <th></th>\n",
       "      <th>id</th>\n",
       "      <th>nombre</th>\n",
       "      <th>fecha_inicio</th>\n",
       "      <th>fecha_fin</th>\n",
       "      <th>intervalo</th>\n",
       "      <th>slug</th>\n",
       "      <th>estado</th>\n",
       "      <th>precio_unitario</th>\n",
       "      <th>labor_id</th>\n",
       "      <th>periodo_id</th>\n",
       "      <th>created_at</th>\n",
       "      <th>updated_at</th>\n",
       "      <th>precio_hora</th>\n",
       "    </tr>\n",
       "  </thead>\n",
       "  <tbody>\n",
       "    <tr>\n",
       "      <th>0</th>\n",
       "      <td>135</td>\n",
       "      <td>Rastra pesada (siembra)</td>\n",
       "      <td>2024-03-01</td>\n",
       "      <td>2024-05-30</td>\n",
       "      <td>10</td>\n",
       "      <td>rastra-pesada-siembra-135</td>\n",
       "      <td>activo</td>\n",
       "      <td>35</td>\n",
       "      <td>1</td>\n",
       "      <td>16</td>\n",
       "      <td>2024-01-31 10:57:33</td>\n",
       "      <td>2024-01-31 10:57:33</td>\n",
       "      <td>0</td>\n",
       "    </tr>\n",
       "    <tr>\n",
       "      <th>1</th>\n",
       "      <td>136</td>\n",
       "      <td>Rastra liviana (siembra)</td>\n",
       "      <td>2024-03-01</td>\n",
       "      <td>2024-05-30</td>\n",
       "      <td>20</td>\n",
       "      <td>rastra-liviana-siembra-136</td>\n",
       "      <td>activo</td>\n",
       "      <td>20</td>\n",
       "      <td>1</td>\n",
       "      <td>16</td>\n",
       "      <td>2024-01-31 10:57:33</td>\n",
       "      <td>2024-01-31 10:57:33</td>\n",
       "      <td>0</td>\n",
       "    </tr>\n",
       "    <tr>\n",
       "      <th>2</th>\n",
       "      <td>137</td>\n",
       "      <td>Surcado (siembra)</td>\n",
       "      <td>2024-03-01</td>\n",
       "      <td>2024-05-30</td>\n",
       "      <td>5</td>\n",
       "      <td>surcado-siembra-137</td>\n",
       "      <td>activo</td>\n",
       "      <td>40</td>\n",
       "      <td>1</td>\n",
       "      <td>16</td>\n",
       "      <td>2024-01-31 10:57:33</td>\n",
       "      <td>2024-01-31 10:57:33</td>\n",
       "      <td>0</td>\n",
       "    </tr>\n",
       "  </tbody>\n",
       "</table>\n",
       "</div>"
      ],
      "text/plain": [
       "    id                    nombre fecha_inicio   fecha_fin intervalo  \\\n",
       "0  135   Rastra pesada (siembra)   2024-03-01  2024-05-30        10   \n",
       "1  136  Rastra liviana (siembra)   2024-03-01  2024-05-30        20   \n",
       "2  137         Surcado (siembra)   2024-03-01  2024-05-30         5   \n",
       "\n",
       "                         slug  estado precio_unitario  labor_id  periodo_id  \\\n",
       "0   rastra-pesada-siembra-135  activo              35         1          16   \n",
       "1  rastra-liviana-siembra-136  activo              20         1          16   \n",
       "2         surcado-siembra-137  activo              40         1          16   \n",
       "\n",
       "           created_at          updated_at precio_hora  \n",
       "0 2024-01-31 10:57:33 2024-01-31 10:57:33           0  \n",
       "1 2024-01-31 10:57:33 2024-01-31 10:57:33           0  \n",
       "2 2024-01-31 10:57:33 2024-01-31 10:57:33           0  "
      ]
     },
     "execution_count": 18,
     "metadata": {},
     "output_type": "execute_result"
    }
   ],
   "source": [
    "tipo_actividad = get_tipo_actividad(periodos)\n",
    "tipo_actividad.head(3)"
   ]
  },
  {
   "cell_type": "code",
   "execution_count": 19,
   "id": "cc22d6a6-8168-40f6-8dcc-0a15dab55512",
   "metadata": {},
   "outputs": [
    {
     "data": {
      "text/html": [
       "<div>\n",
       "<style scoped>\n",
       "    .dataframe tbody tr th:only-of-type {\n",
       "        vertical-align: middle;\n",
       "    }\n",
       "\n",
       "    .dataframe tbody tr th {\n",
       "        vertical-align: top;\n",
       "    }\n",
       "\n",
       "    .dataframe thead th {\n",
       "        text-align: right;\n",
       "    }\n",
       "</style>\n",
       "<table border=\"1\" class=\"dataframe\">\n",
       "  <thead>\n",
       "    <tr style=\"text-align: right;\">\n",
       "      <th></th>\n",
       "      <th>id</th>\n",
       "      <th>nombre</th>\n",
       "      <th>slug</th>\n",
       "      <th>estado</th>\n",
       "      <th>foto</th>\n",
       "      <th>created_at</th>\n",
       "      <th>updated_at</th>\n",
       "    </tr>\n",
       "  </thead>\n",
       "  <tbody>\n",
       "    <tr>\n",
       "      <th>0</th>\n",
       "      <td>1</td>\n",
       "      <td>Siembra</td>\n",
       "      <td>siembra-1</td>\n",
       "      <td>activo</td>\n",
       "      <td>/storage/images/labor/1vOIq0OHUkp5688Cv659WUt6...</td>\n",
       "      <td>2022-08-31 17:07:16</td>\n",
       "      <td>2023-02-06 10:08:38</td>\n",
       "    </tr>\n",
       "    <tr>\n",
       "      <th>1</th>\n",
       "      <td>2</td>\n",
       "      <td>Labores culturales caña hoja</td>\n",
       "      <td>labores-cultura-cana-hoja-2</td>\n",
       "      <td>activo</td>\n",
       "      <td>/storage/images/labor/zgSTvL1uPamNvnKP4Cud0L8W...</td>\n",
       "      <td>2022-08-31 17:07:16</td>\n",
       "      <td>2023-02-06 10:07:15</td>\n",
       "    </tr>\n",
       "    <tr>\n",
       "      <th>2</th>\n",
       "      <td>3</td>\n",
       "      <td>Cosecha</td>\n",
       "      <td>cosecha-3</td>\n",
       "      <td>activo</td>\n",
       "      <td>/storage/images/labor/8NxQPgUGsULjZjdoMwDGG18T...</td>\n",
       "      <td>2022-08-31 17:07:16</td>\n",
       "      <td>2023-02-06 10:08:12</td>\n",
       "    </tr>\n",
       "    <tr>\n",
       "      <th>3</th>\n",
       "      <td>4</td>\n",
       "      <td>Labores culturales caña soca</td>\n",
       "      <td>labores-cultura-cana-soca-4</td>\n",
       "      <td>activo</td>\n",
       "      <td>/storage/images/labor/10thlzt9POAScuPpNsZMPzK0...</td>\n",
       "      <td>2022-08-31 17:07:16</td>\n",
       "      <td>2024-04-01 13:54:15</td>\n",
       "    </tr>\n",
       "    <tr>\n",
       "      <th>4</th>\n",
       "      <td>5</td>\n",
       "      <td>Tutorial Uso de AGROCITTCA</td>\n",
       "      <td>tutorial-uso-de-agrocittca-5</td>\n",
       "      <td>activo</td>\n",
       "      <td>/storage/images/labor/oRBJnRvVhpvWRyXuBwqORaQN...</td>\n",
       "      <td>2022-08-31 17:07:16</td>\n",
       "      <td>2024-04-01 14:28:51</td>\n",
       "    </tr>\n",
       "    <tr>\n",
       "      <th>5</th>\n",
       "      <td>6</td>\n",
       "      <td>Gestión y Administración</td>\n",
       "      <td>gestion-y-administracion-6</td>\n",
       "      <td>activo</td>\n",
       "      <td>/imagen/foto_labor.png</td>\n",
       "      <td>2024-04-01 13:55:28</td>\n",
       "      <td>2024-04-01 13:55:28</td>\n",
       "    </tr>\n",
       "  </tbody>\n",
       "</table>\n",
       "</div>"
      ],
      "text/plain": [
       "   id                        nombre                          slug  estado  \\\n",
       "0   1                       Siembra                     siembra-1  activo   \n",
       "1   2  Labores culturales caña hoja   labores-cultura-cana-hoja-2  activo   \n",
       "2   3                       Cosecha                     cosecha-3  activo   \n",
       "3   4  Labores culturales caña soca   labores-cultura-cana-soca-4  activo   \n",
       "4   5    Tutorial Uso de AGROCITTCA  tutorial-uso-de-agrocittca-5  activo   \n",
       "5   6      Gestión y Administración    gestion-y-administracion-6  activo   \n",
       "\n",
       "                                                foto          created_at  \\\n",
       "0  /storage/images/labor/1vOIq0OHUkp5688Cv659WUt6... 2022-08-31 17:07:16   \n",
       "1  /storage/images/labor/zgSTvL1uPamNvnKP4Cud0L8W... 2022-08-31 17:07:16   \n",
       "2  /storage/images/labor/8NxQPgUGsULjZjdoMwDGG18T... 2022-08-31 17:07:16   \n",
       "3  /storage/images/labor/10thlzt9POAScuPpNsZMPzK0... 2022-08-31 17:07:16   \n",
       "4  /storage/images/labor/oRBJnRvVhpvWRyXuBwqORaQN... 2022-08-31 17:07:16   \n",
       "5                             /imagen/foto_labor.png 2024-04-01 13:55:28   \n",
       "\n",
       "           updated_at  \n",
       "0 2023-02-06 10:08:38  \n",
       "1 2023-02-06 10:07:15  \n",
       "2 2023-02-06 10:08:12  \n",
       "3 2024-04-01 13:54:15  \n",
       "4 2024-04-01 14:28:51  \n",
       "5 2024-04-01 13:55:28  "
      ]
     },
     "execution_count": 19,
     "metadata": {},
     "output_type": "execute_result"
    }
   ],
   "source": [
    "labor = get_labor()\n",
    "labor"
   ]
  },
  {
   "cell_type": "code",
   "execution_count": 28,
   "id": "bf5c9e48-c71a-4515-a448-0bc479589125",
   "metadata": {},
   "outputs": [
    {
     "data": {
      "text/html": [
       "<div>\n",
       "<style scoped>\n",
       "    .dataframe tbody tr th:only-of-type {\n",
       "        vertical-align: middle;\n",
       "    }\n",
       "\n",
       "    .dataframe tbody tr th {\n",
       "        vertical-align: top;\n",
       "    }\n",
       "\n",
       "    .dataframe thead th {\n",
       "        text-align: right;\n",
       "    }\n",
       "</style>\n",
       "<table border=\"1\" class=\"dataframe\">\n",
       "  <thead>\n",
       "    <tr style=\"text-align: right;\">\n",
       "      <th></th>\n",
       "      <th>id</th>\n",
       "      <th>nombre_producto</th>\n",
       "      <th>dosis_recomendada</th>\n",
       "      <th>unidad_medida</th>\n",
       "      <th>cantidad</th>\n",
       "      <th>estado</th>\n",
       "      <th>actividad_id</th>\n",
       "      <th>producto_id</th>\n",
       "      <th>created_at</th>\n",
       "      <th>updated_at</th>\n",
       "      <th>codigo_grupo_producto</th>\n",
       "      <th>mi_precio</th>\n",
       "      <th>producto_act_miprecio_id</th>\n",
       "      <th>precio_producto</th>\n",
       "    </tr>\n",
       "  </thead>\n",
       "  <tbody>\n",
       "    <tr>\n",
       "      <th>0</th>\n",
       "      <td>6475</td>\n",
       "      <td>UREA</td>\n",
       "      <td>0</td>\n",
       "      <td>KGS</td>\n",
       "      <td>196.0</td>\n",
       "      <td>activo</td>\n",
       "      <td>4513</td>\n",
       "      <td>24</td>\n",
       "      <td>2024-10-06 20:36:52</td>\n",
       "      <td>2024-10-06 20:36:52</td>\n",
       "      <td>c-04513</td>\n",
       "      <td>no</td>\n",
       "      <td>None</td>\n",
       "      <td>0.41</td>\n",
       "    </tr>\n",
       "    <tr>\n",
       "      <th>1</th>\n",
       "      <td>6476</td>\n",
       "      <td>UREA</td>\n",
       "      <td>0</td>\n",
       "      <td>KGS</td>\n",
       "      <td>1222.0</td>\n",
       "      <td>activo</td>\n",
       "      <td>4516</td>\n",
       "      <td>24</td>\n",
       "      <td>2024-10-06 21:12:06</td>\n",
       "      <td>2024-10-06 21:12:06</td>\n",
       "      <td>c-04516</td>\n",
       "      <td>no</td>\n",
       "      <td>None</td>\n",
       "      <td>0.41</td>\n",
       "    </tr>\n",
       "    <tr>\n",
       "      <th>2</th>\n",
       "      <td>6477</td>\n",
       "      <td>Cloruro de Potacio</td>\n",
       "      <td>0</td>\n",
       "      <td>KGS</td>\n",
       "      <td>611.0</td>\n",
       "      <td>activo</td>\n",
       "      <td>4516</td>\n",
       "      <td>189</td>\n",
       "      <td>2024-10-06 21:12:06</td>\n",
       "      <td>2024-10-06 21:12:06</td>\n",
       "      <td>c-04516</td>\n",
       "      <td>no</td>\n",
       "      <td>None</td>\n",
       "      <td>0.71</td>\n",
       "    </tr>\n",
       "  </tbody>\n",
       "</table>\n",
       "</div>"
      ],
      "text/plain": [
       "     id     nombre_producto dosis_recomendada unidad_medida  cantidad  estado  \\\n",
       "0  6475                UREA                 0           KGS     196.0  activo   \n",
       "1  6476                UREA                 0           KGS    1222.0  activo   \n",
       "2  6477  Cloruro de Potacio                 0           KGS     611.0  activo   \n",
       "\n",
       "   actividad_id  producto_id          created_at          updated_at  \\\n",
       "0          4513           24 2024-10-06 20:36:52 2024-10-06 20:36:52   \n",
       "1          4516           24 2024-10-06 21:12:06 2024-10-06 21:12:06   \n",
       "2          4516          189 2024-10-06 21:12:06 2024-10-06 21:12:06   \n",
       "\n",
       "  codigo_grupo_producto mi_precio producto_act_miprecio_id precio_producto  \n",
       "0               c-04513        no                     None            0.41  \n",
       "1               c-04516        no                     None            0.41  \n",
       "2               c-04516        no                     None            0.71  "
      ]
     },
     "execution_count": 28,
     "metadata": {},
     "output_type": "execute_result"
    }
   ],
   "source": [
    "detalle_ac = get_detalle_actividad(periodos)\n",
    "detalle_ac.head(3)"
   ]
  },
  {
   "cell_type": "code",
   "execution_count": 24,
   "id": "9c9e7929-32bc-4b63-bf65-d2e2e776c9d7",
   "metadata": {},
   "outputs": [
    {
     "data": {
      "text/html": [
       "<div>\n",
       "<style scoped>\n",
       "    .dataframe tbody tr th:only-of-type {\n",
       "        vertical-align: middle;\n",
       "    }\n",
       "\n",
       "    .dataframe tbody tr th {\n",
       "        vertical-align: top;\n",
       "    }\n",
       "\n",
       "    .dataframe thead th {\n",
       "        text-align: right;\n",
       "    }\n",
       "</style>\n",
       "<table border=\"1\" class=\"dataframe\">\n",
       "  <thead>\n",
       "    <tr style=\"text-align: right;\">\n",
       "      <th></th>\n",
       "      <th>id</th>\n",
       "      <th>nombre</th>\n",
       "      <th>descripcion</th>\n",
       "      <th>precio_unitario</th>\n",
       "      <th>ingrediente_activo</th>\n",
       "      <th>dosis_recomendada</th>\n",
       "      <th>estado</th>\n",
       "      <th>slug</th>\n",
       "      <th>unidad_medida_id</th>\n",
       "      <th>categoria_producto_id</th>\n",
       "      <th>created_at</th>\n",
       "      <th>updated_at</th>\n",
       "    </tr>\n",
       "  </thead>\n",
       "  <tbody>\n",
       "    <tr>\n",
       "      <th>0</th>\n",
       "      <td>1</td>\n",
       "      <td>Sunami</td>\n",
       "      <td></td>\n",
       "      <td>166.76</td>\n",
       "      <td>FIPRONIL 80%</td>\n",
       "      <td>4</td>\n",
       "      <td>activo</td>\n",
       "      <td>sunami-1</td>\n",
       "      <td>1</td>\n",
       "      <td>1</td>\n",
       "      <td>2022-08-31 17:07:16</td>\n",
       "      <td>2022-08-31 17:07:16</td>\n",
       "    </tr>\n",
       "    <tr>\n",
       "      <th>1</th>\n",
       "      <td>3</td>\n",
       "      <td>Merlin Total</td>\n",
       "      <td>U.C.G.</td>\n",
       "      <td>147.50</td>\n",
       "      <td>Merlin Total SC600</td>\n",
       "      <td>0</td>\n",
       "      <td>activo</td>\n",
       "      <td>merlin-total-3</td>\n",
       "      <td>2</td>\n",
       "      <td>3</td>\n",
       "      <td>2022-08-31 17:07:16</td>\n",
       "      <td>2023-02-22 15:48:37</td>\n",
       "    </tr>\n",
       "    <tr>\n",
       "      <th>2</th>\n",
       "      <td>4</td>\n",
       "      <td>Flutolex</td>\n",
       "      <td>None</td>\n",
       "      <td>134.00</td>\n",
       "      <td>ISOXAFLUTOLE</td>\n",
       "      <td>0</td>\n",
       "      <td>activo</td>\n",
       "      <td>flutolex-4</td>\n",
       "      <td>2</td>\n",
       "      <td>3</td>\n",
       "      <td>2022-08-31 17:07:16</td>\n",
       "      <td>2023-01-30 09:44:36</td>\n",
       "    </tr>\n",
       "  </tbody>\n",
       "</table>\n",
       "</div>"
      ],
      "text/plain": [
       "   id        nombre descripcion  precio_unitario  ingrediente_activo  \\\n",
       "0   1        Sunami                       166.76        FIPRONIL 80%   \n",
       "1   3  Merlin Total      U.C.G.           147.50  Merlin Total SC600   \n",
       "2   4      Flutolex        None           134.00        ISOXAFLUTOLE   \n",
       "\n",
       "  dosis_recomendada  estado            slug  unidad_medida_id  \\\n",
       "0                 4  activo        sunami-1                 1   \n",
       "1                 0  activo  merlin-total-3                 2   \n",
       "2                 0  activo      flutolex-4                 2   \n",
       "\n",
       "   categoria_producto_id          created_at          updated_at  \n",
       "0                      1 2022-08-31 17:07:16 2022-08-31 17:07:16  \n",
       "1                      3 2022-08-31 17:07:16 2023-02-22 15:48:37  \n",
       "2                      3 2022-08-31 17:07:16 2023-01-30 09:44:36  "
      ]
     },
     "execution_count": 24,
     "metadata": {},
     "output_type": "execute_result"
    }
   ],
   "source": [
    "producto_act = get_producto_act()\n",
    "producto_act.head(3)"
   ]
  },
  {
   "cell_type": "code",
   "execution_count": null,
   "id": "a18d058e-bee0-4ba7-9a6a-7d80bd0cf81d",
   "metadata": {},
   "outputs": [],
   "source": []
  },
  {
   "cell_type": "code",
   "execution_count": null,
   "id": "02efd0f7-68ff-4943-aa60-e3030bc6b560",
   "metadata": {},
   "outputs": [],
   "source": []
  },
  {
   "cell_type": "code",
   "execution_count": null,
   "id": "25d104ea-3ca0-4988-aa5e-b74c0c836aa7",
   "metadata": {},
   "outputs": [],
   "source": []
  },
  {
   "cell_type": "code",
   "execution_count": null,
   "id": "9e60daf5-f215-4d5b-93a7-3ce52a95efad",
   "metadata": {},
   "outputs": [],
   "source": []
  },
  {
   "cell_type": "code",
   "execution_count": null,
   "id": "31eb7691-9919-430d-87eb-e4ba0f134424",
   "metadata": {},
   "outputs": [],
   "source": []
  },
  {
   "cell_type": "code",
   "execution_count": null,
   "id": "9a9faf90-7809-454b-b8b9-afc79e3ceb26",
   "metadata": {},
   "outputs": [],
   "source": []
  },
  {
   "cell_type": "code",
   "execution_count": null,
   "id": "cc651292-3042-428a-a24d-9b15e8ebf867",
   "metadata": {},
   "outputs": [],
   "source": []
  },
  {
   "cell_type": "code",
   "execution_count": null,
   "id": "6ea46332-1bb7-474d-b3e4-7f50f58df9b1",
   "metadata": {},
   "outputs": [],
   "source": []
  },
  {
   "cell_type": "code",
   "execution_count": 34,
   "id": "2e077762-58af-46d7-8c77-49d30de8dcab",
   "metadata": {},
   "outputs": [],
   "source": [
    "get_activos()\n",
    "get_actividades()"
   ]
  },
  {
   "cell_type": "code",
   "execution_count": 36,
   "id": "5a7bd615-1ad5-42ce-916e-16c7e7427bc2",
   "metadata": {},
   "outputs": [],
   "source": [
    "get_tipo_actividad()"
   ]
  },
  {
   "cell_type": "code",
   "execution_count": 38,
   "id": "2a65d4f1-14d1-4502-86bf-ac85528447b6",
   "metadata": {},
   "outputs": [],
   "source": [
    "get_labor()"
   ]
  },
  {
   "cell_type": "code",
   "execution_count": 42,
   "id": "1a120514-fa90-4d44-a055-94506cb5de0b",
   "metadata": {},
   "outputs": [],
   "source": [
    "get_maquinaria()"
   ]
  },
  {
   "cell_type": "code",
   "execution_count": 44,
   "id": "1f250ef4-bacd-4cc2-9db0-9223f8eaf7dd",
   "metadata": {},
   "outputs": [],
   "source": [
    "get_operario()"
   ]
  },
  {
   "cell_type": "code",
   "execution_count": 46,
   "id": "6e6a2a30-a033-4425-92af-03666b148df9",
   "metadata": {},
   "outputs": [],
   "source": [
    "get_categoria_producto()"
   ]
  },
  {
   "cell_type": "code",
   "execution_count": null,
   "id": "ac24a89d-c73c-4ece-9fb3-982038e76eed",
   "metadata": {},
   "outputs": [],
   "source": []
  },
  {
   "cell_type": "code",
   "execution_count": null,
   "id": "6c2a55f0-dc40-431d-9d18-dd3717501b3e",
   "metadata": {},
   "outputs": [],
   "source": []
  },
  {
   "cell_type": "code",
   "execution_count": null,
   "id": "b287da74-86b5-4acf-bc70-58ebb5d415e8",
   "metadata": {},
   "outputs": [],
   "source": []
  },
  {
   "cell_type": "code",
   "execution_count": null,
   "id": "ce580160-1d85-43ec-9c8c-5a0695aa01db",
   "metadata": {},
   "outputs": [],
   "source": []
  },
  {
   "cell_type": "code",
   "execution_count": null,
   "id": "37a0b318-8fff-494d-9a48-f267b038dceb",
   "metadata": {},
   "outputs": [],
   "source": []
  },
  {
   "cell_type": "code",
   "execution_count": null,
   "id": "cbc82166-9c65-49b8-a029-ce4b1fb0e18c",
   "metadata": {},
   "outputs": [],
   "source": []
  },
  {
   "cell_type": "code",
   "execution_count": 4,
   "id": "190bd67b-dab0-44f6-b2f9-9d1691bed2eb",
   "metadata": {
    "tags": []
   },
   "outputs": [],
   "source": [
    "# SELECCIONAR TODOS LOS USUARIOS CAÑEROS ACTIVOS\n",
    "#select codigo, name, apellido_paterno, apellido_materno, username from users where estado='activo' and tipo = 'propietario\n",
    "cantidad_usuarios = dbQuery('select count(*) cantidad_usuarios from users where estado=\\'activo\\' and tipo = \\'propietario\\'')[0]['cantidad_usuarios']\n",
    "cantidad_props = dbQuery('select count(*) cantidad_props from propiedad prop\\\n",
    "                            inner join periodo per on prop.periodo_id=per.id\\\n",
    "                            where per.nombre=\\'CAMPAÑA 2023\\' and prop.estado=\\'activo\\'')[0]['cantidad_props']\n",
    " "
   ]
  },
  {
   "cell_type": "code",
   "execution_count": 5,
   "id": "1b8f1e0f-fcaf-47f0-9359-9c4f413ec77f",
   "metadata": {
    "tags": []
   },
   "outputs": [
    {
     "data": {
      "text/plain": [
       "1388"
      ]
     },
     "execution_count": 5,
     "metadata": {},
     "output_type": "execute_result"
    }
   ],
   "source": [
    "cantidad_usuarios"
   ]
  },
  {
   "cell_type": "code",
   "execution_count": 6,
   "id": "6fe42ea3-89b1-4837-a397-62962b1c142b",
   "metadata": {
    "tags": []
   },
   "outputs": [
    {
     "data": {
      "text/plain": [
       "156"
      ]
     },
     "execution_count": 6,
     "metadata": {},
     "output_type": "execute_result"
    }
   ],
   "source": [
    "cantidad_props"
   ]
  },
  {
   "cell_type": "markdown",
   "id": "fca73a80-9f19-4c38-ac05-6dc5e9a57a5e",
   "metadata": {},
   "source": []
  },
  {
   "cell_type": "code",
   "execution_count": 7,
   "id": "41d8f274-6d99-4d16-b07f-14f7d9ee7807",
   "metadata": {},
   "outputs": [],
   "source": []
  },
  {
   "cell_type": "code",
   "execution_count": 8,
   "id": "864be591-ebb2-474d-99ee-ab5fcc218671",
   "metadata": {},
   "outputs": [],
   "source": []
  },
  {
   "cell_type": "code",
   "execution_count": 9,
   "id": "6d0d7f29-4a95-4d6c-b89a-0562bf74a4c9",
   "metadata": {},
   "outputs": [
    {
     "data": {
      "text/html": [
       "<div>\n",
       "<style scoped>\n",
       "    .dataframe tbody tr th:only-of-type {\n",
       "        vertical-align: middle;\n",
       "    }\n",
       "\n",
       "    .dataframe tbody tr th {\n",
       "        vertical-align: top;\n",
       "    }\n",
       "\n",
       "    .dataframe thead th {\n",
       "        text-align: right;\n",
       "    }\n",
       "</style>\n",
       "<table border=\"1\" class=\"dataframe\">\n",
       "  <thead>\n",
       "    <tr style=\"text-align: right;\">\n",
       "      <th></th>\n",
       "      <th>name</th>\n",
       "      <th>apellido_paterno</th>\n",
       "      <th>apellido_materno</th>\n",
       "      <th>username</th>\n",
       "      <th>codigo</th>\n",
       "    </tr>\n",
       "  </thead>\n",
       "  <tbody>\n",
       "    <tr>\n",
       "      <th>0</th>\n",
       "      <td>12504 - LAUREANA  MARTINEZ</td>\n",
       "      <td>MARTINEZ</td>\n",
       "      <td>DE SALO</td>\n",
       "      <td>12504</td>\n",
       "      <td>12504</td>\n",
       "    </tr>\n",
       "    <tr>\n",
       "      <th>1</th>\n",
       "      <td>2641 - ROBERTO  CRONENBOLD</td>\n",
       "      <td>CRONENBOLD</td>\n",
       "      <td>AGUILERA</td>\n",
       "      <td>rcronenbold</td>\n",
       "      <td>2641</td>\n",
       "    </tr>\n",
       "    <tr>\n",
       "      <th>2</th>\n",
       "      <td>2816 - ALBERTO  DONOSO</td>\n",
       "      <td>DONOSO</td>\n",
       "      <td>BLANCO</td>\n",
       "      <td>adonoso</td>\n",
       "      <td>2816</td>\n",
       "    </tr>\n",
       "  </tbody>\n",
       "</table>\n",
       "</div>"
      ],
      "text/plain": [
       "                         name apellido_paterno apellido_materno     username  \\\n",
       "0  12504 - LAUREANA  MARTINEZ         MARTINEZ          DE SALO        12504   \n",
       "1  2641 - ROBERTO  CRONENBOLD       CRONENBOLD         AGUILERA  rcronenbold   \n",
       "2      2816 - ALBERTO  DONOSO           DONOSO           BLANCO      adonoso   \n",
       "\n",
       "  codigo  \n",
       "0  12504  \n",
       "1   2641  \n",
       "2   2816  "
      ]
     },
     "execution_count": 9,
     "metadata": {},
     "output_type": "execute_result"
    }
   ],
   "source": []
  },
  {
   "cell_type": "code",
   "execution_count": 10,
   "id": "68e09ba3-93ea-43bb-919e-31c9bd3b0840",
   "metadata": {},
   "outputs": [],
   "source": [
    "lista_users.to_excel('lista_usuarios.xlsx')"
   ]
  },
  {
   "cell_type": "code",
   "execution_count": null,
   "id": "a8dc4173-d526-4142-b052-2b6eed1f992b",
   "metadata": {},
   "outputs": [],
   "source": []
  },
  {
   "cell_type": "markdown",
   "id": "94710bf1-03dd-4255-a19f-d1386a15a14f",
   "metadata": {},
   "source": []
  },
  {
   "cell_type": "code",
   "execution_count": 11,
   "id": "6754384b-02f5-492c-b8b4-7e2a86de34b9",
   "metadata": {},
   "outputs": [],
   "source": []
  },
  {
   "cell_type": "code",
   "execution_count": 12,
   "id": "85e536ba-082f-47c5-b4cd-9c06c9ef3bc6",
   "metadata": {},
   "outputs": [],
   "source": []
  },
  {
   "cell_type": "code",
   "execution_count": 13,
   "id": "cf2107bb-4968-42b3-aab3-3d1acf9c071d",
   "metadata": {},
   "outputs": [],
   "source": []
  },
  {
   "cell_type": "code",
   "execution_count": null,
   "id": "e1a1b2ec-afb1-4ea6-9b8b-48b70d51bfa9",
   "metadata": {},
   "outputs": [],
   "source": []
  },
  {
   "cell_type": "markdown",
   "id": "923882c5-7c59-48ab-b077-56b0bfa18001",
   "metadata": {},
   "source": [
    "# ALERTAS"
   ]
  },
  {
   "cell_type": "code",
   "execution_count": 18,
   "id": "9d5920d0-79d2-42d5-bcda-cd2ba2d145a3",
   "metadata": {},
   "outputs": [],
   "source": [
    "alertas = dbQuery('select * from alerta where created_at > \\'2023-03-01\\' and comentario <> \\'NAX\\'')"
   ]
  },
  {
   "cell_type": "code",
   "execution_count": 19,
   "id": "7b0fa68d-207e-40e9-8ac3-277cb24c95e9",
   "metadata": {},
   "outputs": [],
   "source": [
    "lista_alertas = pd.DataFrame(alertas)"
   ]
  },
  {
   "cell_type": "code",
   "execution_count": 21,
   "id": "99ecc20e-acd1-4911-9a1e-a6c779879d61",
   "metadata": {},
   "outputs": [],
   "source": [
    "lista_alertas.to_excel('alertas.xlsx')"
   ]
  },
  {
   "cell_type": "code",
   "execution_count": null,
   "id": "f8252178-5d14-44cb-96f2-2887c3eb4259",
   "metadata": {},
   "outputs": [],
   "source": []
  },
  {
   "cell_type": "code",
   "execution_count": null,
   "id": "9666663e-2290-4320-9a94-7804355d8938",
   "metadata": {},
   "outputs": [],
   "source": []
  },
  {
   "cell_type": "markdown",
   "id": "c360003b-d593-459d-9a73-9c251f0aff3a",
   "metadata": {},
   "source": [
    "## ACTUALIZAR NOMBRES DE LABORES EN MI PRECIO"
   ]
  },
  {
   "cell_type": "code",
   "execution_count": 7,
   "id": "c20c58a2-b04a-428d-8834-a02b69e09e7e",
   "metadata": {},
   "outputs": [],
   "source": [
    "# al modificar los nombres de las actividades desde el admin, \n",
    "# los usuarios que ya tengan actividades con precios personalizados no se actualizan los nombres\n",
    "# este script actualiza los nombres de actividades 'mi_precio' con los nombres se actividades globales\n",
    "query = 'update tipo_actividad_mi_precio mi set mi.nombre=(select nombre from tipo_actividad ac where ac.id=mi.tipo_actividad_id)'\n",
    "res = dbQuery(query)"
   ]
  },
  {
   "cell_type": "code",
   "execution_count": 26,
   "id": "89df2bfe-ef04-4215-a36b-500f17c310da",
   "metadata": {},
   "outputs": [
    {
     "data": {
      "text/plain": [
       "()"
      ]
     },
     "execution_count": 26,
     "metadata": {},
     "output_type": "execute_result"
    }
   ],
   "source": [
    "res"
   ]
  },
  {
   "cell_type": "code",
   "execution_count": 9,
   "id": "97a3f682-39bc-4d7c-81ec-459d582036af",
   "metadata": {},
   "outputs": [],
   "source": [
    "# modifica los nombres de la lista de productos con precio personalizado \n",
    "# esto en caso de que el nombre del producto estandar cambie de nombre\n",
    "query = 'update producto_act_miprecio pam set pam.nombre=(select p_a.nombre from producto_actividad p_a where p_a.id=pam.producto_actividad_id)'\n",
    "res = dbQuery(query)"
   ]
  }
 ],
 "metadata": {
  "kernelspec": {
   "display_name": "Python 3 (ipykernel)",
   "language": "python",
   "name": "python3"
  },
  "language_info": {
   "codemirror_mode": {
    "name": "ipython",
    "version": 3
   },
   "file_extension": ".py",
   "mimetype": "text/x-python",
   "name": "python",
   "nbconvert_exporter": "python",
   "pygments_lexer": "ipython3",
   "version": "3.10.13"
  }
 },
 "nbformat": 4,
 "nbformat_minor": 5
}
