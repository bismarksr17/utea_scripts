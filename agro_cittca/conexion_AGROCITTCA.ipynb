{
 "cells": [
  {
   "cell_type": "code",
   "execution_count": 1,
   "id": "9eafbbc1-bbc2-47a9-80a1-28fd7afb07be",
   "metadata": {
    "tags": []
   },
   "outputs": [],
   "source": [
    "import pandas as pd\n",
    "\n",
    "import logging\n",
    "import logging.config\n",
    "import pymysql\n",
    "import paramiko\n",
    "from paramiko import SSHClient\n",
    "from sshtunnel import SSHTunnelForwarder\n",
    "\n",
    "import ast"
   ]
  },
  {
   "cell_type": "code",
   "execution_count": 2,
   "id": "47756d7f-cbda-4c78-9e22-9728fd705ae0",
   "metadata": {
    "tags": []
   },
   "outputs": [],
   "source": [
    "# ruta de carpera donde estan las llaves\n",
    "ruta = open('../ruta.txt')\n",
    "ruta = ruta.readlines()[0]\n",
    "\n",
    "# cargar datos para conectar a AGROCITTCA\n",
    "data = open(ruta + '/_keys/agrocittca.data','r')\n",
    "password = data.readlines()[0]\n",
    "data.close()\n",
    "\n",
    "# extraccion de los datos\n",
    "datos_cnx = ast.literal_eval(password)\n",
    "\n",
    "# lectura de llave ssh\n",
    "mypkey = paramiko.RSAKey.from_private_key_file(ruta + '/_keys/llave_db_agrocittca', password='micontrasena')\n",
    "# ssh variables\n",
    "ssh_host = datos_cnx['ssh_host']\n",
    "ssh_port = datos_cnx['ssh_port']\n",
    "localhost = datos_cnx['localhost']\n",
    "localport = datos_cnx['localport']\n",
    "ssh_user = datos_cnx['ssh_user']\n",
    "# database variables\n",
    "sql_username = datos_cnx['sql_username']\n",
    "sql_password = datos_cnx['sql_password']\n",
    "sql_main_database = datos_cnx['sql_main_database']"
   ]
  },
  {
   "cell_type": "code",
   "execution_count": 3,
   "id": "8194b939-074c-4b9c-ae08-8d67fc219eff",
   "metadata": {
    "tags": []
   },
   "outputs": [],
   "source": [
    "# funcon para ejecutar una script SQL\n",
    "def dbQuery(q):\n",
    "    \"\"\" access the database over the SSH tunnel and execute the query \"\"\"\n",
    "    logger = logging.getLogger()\n",
    "    logger.debug(\"Connecting to reporting server...\", end=\"\")\n",
    "    with SSHTunnelForwarder(\n",
    "        (ssh_host, ssh_port),\n",
    "        ssh_username=ssh_user,\n",
    "        ssh_pkey=mypkey,\n",
    "        remote_bind_address=(localhost, 3306)) as tunnel:\n",
    "        logger.debug(\"Connected\")\n",
    "        logger.debug(\"Connecting to database...\")\n",
    "        try:\n",
    "            conn = pymysql.connect(\n",
    "                host='127.0.0.1', \n",
    "                user=sql_username,\n",
    "                passwd=sql_password,\n",
    "                db=sql_main_database,\n",
    "                port=tunnel.local_bind_port,\n",
    "                cursorclass=pymysql.cursors.DictCursor)\n",
    "            logger.debug(\"Connected\")\n",
    "            logger.debug(\"Executing query...\")\n",
    "            cursor = conn.cursor()\n",
    "            cursor.execute(q)\n",
    "            data = cursor.fetchall()\n",
    "            logger.debug(\"Done\")\n",
    "        finally:\n",
    "            conn.close()\n",
    "    return data"
   ]
  },
  {
   "cell_type": "code",
   "execution_count": 4,
   "id": "190bd67b-dab0-44f6-b2f9-9d1691bed2eb",
   "metadata": {
    "tags": []
   },
   "outputs": [],
   "source": [
    "# SELECCIONAR TODOS LOS USUARIOS CAÑEROS ACTIVOS\n",
    "#select codigo, name, apellido_paterno, apellido_materno, username from users where estado='activo' and tipo = 'propietario\n",
    "cantidad_usuarios = dbQuery('select count(*) cantidad_usuarios from users where estado=\\'activo\\' and tipo = \\'propietario\\'')[0]['cantidad_usuarios']\n",
    "cantidad_props = dbQuery('select count(*) cantidad_props from propiedad prop\\\n",
    "                            inner join periodo per on prop.periodo_id=per.id\\\n",
    "                            where per.nombre=\\'CAMPAÑA 2023\\' and prop.estado=\\'activo\\'')[0]['cantidad_props']\n",
    " "
   ]
  },
  {
   "cell_type": "code",
   "execution_count": 5,
   "id": "1b8f1e0f-fcaf-47f0-9359-9c4f413ec77f",
   "metadata": {
    "tags": []
   },
   "outputs": [
    {
     "data": {
      "text/plain": [
       "1388"
      ]
     },
     "execution_count": 5,
     "metadata": {},
     "output_type": "execute_result"
    }
   ],
   "source": [
    "cantidad_usuarios"
   ]
  },
  {
   "cell_type": "code",
   "execution_count": 6,
   "id": "6fe42ea3-89b1-4837-a397-62962b1c142b",
   "metadata": {
    "tags": []
   },
   "outputs": [
    {
     "data": {
      "text/plain": [
       "156"
      ]
     },
     "execution_count": 6,
     "metadata": {},
     "output_type": "execute_result"
    }
   ],
   "source": [
    "cantidad_props"
   ]
  },
  {
   "cell_type": "markdown",
   "id": "fca73a80-9f19-4c38-ac05-6dc5e9a57a5e",
   "metadata": {},
   "source": [
    "## USUARIOS REGISTRADOS"
   ]
  },
  {
   "cell_type": "code",
   "execution_count": 7,
   "id": "41d8f274-6d99-4d16-b07f-14f7d9ee7807",
   "metadata": {},
   "outputs": [],
   "source": [
    "usuarios_reg = dbQuery('select name, apellido_paterno, apellido_materno, username, codigo from users where estado=\\'activo\\' and tipo=\\'propietario\\'')"
   ]
  },
  {
   "cell_type": "code",
   "execution_count": 8,
   "id": "864be591-ebb2-474d-99ee-ab5fcc218671",
   "metadata": {},
   "outputs": [],
   "source": [
    "lista_users = pd.DataFrame(usuarios_reg)"
   ]
  },
  {
   "cell_type": "code",
   "execution_count": 9,
   "id": "6d0d7f29-4a95-4d6c-b89a-0562bf74a4c9",
   "metadata": {},
   "outputs": [
    {
     "data": {
      "text/html": [
       "<div>\n",
       "<style scoped>\n",
       "    .dataframe tbody tr th:only-of-type {\n",
       "        vertical-align: middle;\n",
       "    }\n",
       "\n",
       "    .dataframe tbody tr th {\n",
       "        vertical-align: top;\n",
       "    }\n",
       "\n",
       "    .dataframe thead th {\n",
       "        text-align: right;\n",
       "    }\n",
       "</style>\n",
       "<table border=\"1\" class=\"dataframe\">\n",
       "  <thead>\n",
       "    <tr style=\"text-align: right;\">\n",
       "      <th></th>\n",
       "      <th>name</th>\n",
       "      <th>apellido_paterno</th>\n",
       "      <th>apellido_materno</th>\n",
       "      <th>username</th>\n",
       "      <th>codigo</th>\n",
       "    </tr>\n",
       "  </thead>\n",
       "  <tbody>\n",
       "    <tr>\n",
       "      <th>0</th>\n",
       "      <td>12504 - LAUREANA  MARTINEZ</td>\n",
       "      <td>MARTINEZ</td>\n",
       "      <td>DE SALO</td>\n",
       "      <td>12504</td>\n",
       "      <td>12504</td>\n",
       "    </tr>\n",
       "    <tr>\n",
       "      <th>1</th>\n",
       "      <td>2641 - ROBERTO  CRONENBOLD</td>\n",
       "      <td>CRONENBOLD</td>\n",
       "      <td>AGUILERA</td>\n",
       "      <td>rcronenbold</td>\n",
       "      <td>2641</td>\n",
       "    </tr>\n",
       "    <tr>\n",
       "      <th>2</th>\n",
       "      <td>2816 - ALBERTO  DONOSO</td>\n",
       "      <td>DONOSO</td>\n",
       "      <td>BLANCO</td>\n",
       "      <td>adonoso</td>\n",
       "      <td>2816</td>\n",
       "    </tr>\n",
       "  </tbody>\n",
       "</table>\n",
       "</div>"
      ],
      "text/plain": [
       "                         name apellido_paterno apellido_materno     username  \\\n",
       "0  12504 - LAUREANA  MARTINEZ         MARTINEZ          DE SALO        12504   \n",
       "1  2641 - ROBERTO  CRONENBOLD       CRONENBOLD         AGUILERA  rcronenbold   \n",
       "2      2816 - ALBERTO  DONOSO           DONOSO           BLANCO      adonoso   \n",
       "\n",
       "  codigo  \n",
       "0  12504  \n",
       "1   2641  \n",
       "2   2816  "
      ]
     },
     "execution_count": 9,
     "metadata": {},
     "output_type": "execute_result"
    }
   ],
   "source": [
    "lista_users.head(3)"
   ]
  },
  {
   "cell_type": "code",
   "execution_count": 10,
   "id": "68e09ba3-93ea-43bb-919e-31c9bd3b0840",
   "metadata": {},
   "outputs": [],
   "source": [
    "lista_users.to_excel('lista_usuarios.xlsx')"
   ]
  },
  {
   "cell_type": "code",
   "execution_count": null,
   "id": "a8dc4173-d526-4142-b052-2b6eed1f992b",
   "metadata": {},
   "outputs": [],
   "source": []
  },
  {
   "cell_type": "markdown",
   "id": "94710bf1-03dd-4255-a19f-d1386a15a14f",
   "metadata": {},
   "source": [
    "## USUARIOS ACTIVOS"
   ]
  },
  {
   "cell_type": "code",
   "execution_count": 11,
   "id": "6754384b-02f5-492c-b8b4-7e2a86de34b9",
   "metadata": {},
   "outputs": [],
   "source": [
    "usuarios_act = dbQuery('select tok.created_at, usu.codigo, usu.name, usu.apellido_paterno, usu.apellido_materno, username from oauth_access_tokens tok\\\n",
    "                        inner join users usu on tok.user_id=usu.id')"
   ]
  },
  {
   "cell_type": "code",
   "execution_count": 12,
   "id": "85e536ba-082f-47c5-b4cd-9c06c9ef3bc6",
   "metadata": {},
   "outputs": [],
   "source": [
    "lista_users_act = pd.DataFrame(usuarios_act)"
   ]
  },
  {
   "cell_type": "code",
   "execution_count": 13,
   "id": "cf2107bb-4968-42b3-aab3-3d1acf9c071d",
   "metadata": {},
   "outputs": [],
   "source": [
    "lista_users_act.to_excel('lista_usuarios_act.xlsx')"
   ]
  },
  {
   "cell_type": "code",
   "execution_count": null,
   "id": "e1a1b2ec-afb1-4ea6-9b8b-48b70d51bfa9",
   "metadata": {},
   "outputs": [],
   "source": []
  },
  {
   "cell_type": "markdown",
   "id": "923882c5-7c59-48ab-b077-56b0bfa18001",
   "metadata": {},
   "source": [
    "# ALERTAS"
   ]
  },
  {
   "cell_type": "code",
   "execution_count": 18,
   "id": "9d5920d0-79d2-42d5-bcda-cd2ba2d145a3",
   "metadata": {},
   "outputs": [],
   "source": [
    "alertas = dbQuery('select * from alerta where created_at > \\'2023-03-01\\' and comentario <> \\'NAX\\'')"
   ]
  },
  {
   "cell_type": "code",
   "execution_count": 19,
   "id": "7b0fa68d-207e-40e9-8ac3-277cb24c95e9",
   "metadata": {},
   "outputs": [],
   "source": [
    "lista_alertas = pd.DataFrame(alertas)"
   ]
  },
  {
   "cell_type": "code",
   "execution_count": 21,
   "id": "99ecc20e-acd1-4911-9a1e-a6c779879d61",
   "metadata": {},
   "outputs": [],
   "source": [
    "lista_alertas.to_excel('alertas.xlsx')"
   ]
  },
  {
   "cell_type": "code",
   "execution_count": null,
   "id": "f8252178-5d14-44cb-96f2-2887c3eb4259",
   "metadata": {},
   "outputs": [],
   "source": []
  },
  {
   "cell_type": "code",
   "execution_count": null,
   "id": "9666663e-2290-4320-9a94-7804355d8938",
   "metadata": {},
   "outputs": [],
   "source": []
  },
  {
   "cell_type": "markdown",
   "id": "c360003b-d593-459d-9a73-9c251f0aff3a",
   "metadata": {},
   "source": [
    "## ACTUALIZAR NOMBRES DE LABORES EN MI PRECIO"
   ]
  },
  {
   "cell_type": "code",
   "execution_count": 7,
   "id": "c20c58a2-b04a-428d-8834-a02b69e09e7e",
   "metadata": {},
   "outputs": [],
   "source": [
    "# al modificar los nombres de las actividades desde el admin, \n",
    "# los usuarios que ya tengan actividades con precios personalizados no se actualizan los nombres\n",
    "# este script actualiza los nombres de actividades 'mi_precio' con los nombres se actividades globales\n",
    "query = 'update tipo_actividad_mi_precio mi set mi.nombre=(select nombre from tipo_actividad ac where ac.id=mi.tipo_actividad_id)'\n",
    "res = dbQuery(query)"
   ]
  },
  {
   "cell_type": "code",
   "execution_count": 26,
   "id": "89df2bfe-ef04-4215-a36b-500f17c310da",
   "metadata": {},
   "outputs": [
    {
     "data": {
      "text/plain": [
       "()"
      ]
     },
     "execution_count": 26,
     "metadata": {},
     "output_type": "execute_result"
    }
   ],
   "source": [
    "res"
   ]
  },
  {
   "cell_type": "code",
   "execution_count": 9,
   "id": "97a3f682-39bc-4d7c-81ec-459d582036af",
   "metadata": {},
   "outputs": [],
   "source": [
    "# modifica los nombres de la lista de productos con precio personalizado \n",
    "# esto en caso de que el nombre del producto estandar cambie de nombre\n",
    "query = 'update producto_act_miprecio pam set pam.nombre=(select p_a.nombre from producto_actividad p_a where p_a.id=pam.producto_actividad_id)'\n",
    "res = dbQuery(query)"
   ]
  }
 ],
 "metadata": {
  "kernelspec": {
   "display_name": "Python 3 (ipykernel)",
   "language": "python",
   "name": "python3"
  },
  "language_info": {
   "codemirror_mode": {
    "name": "ipython",
    "version": 3
   },
   "file_extension": ".py",
   "mimetype": "text/x-python",
   "name": "python",
   "nbconvert_exporter": "python",
   "pygments_lexer": "ipython3",
   "version": "3.8.18"
  }
 },
 "nbformat": 4,
 "nbformat_minor": 5
}
