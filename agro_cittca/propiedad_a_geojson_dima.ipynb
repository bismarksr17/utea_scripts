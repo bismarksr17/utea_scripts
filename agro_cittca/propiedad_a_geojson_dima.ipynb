{
 "cells": [
  {
   "cell_type": "code",
   "execution_count": 20,
   "id": "ea649fd6-ebda-4287-bea7-ce3b5205be5e",
   "metadata": {},
   "outputs": [],
   "source": [
    "#import ee\n",
    "#ee.Authenticate()"
   ]
  },
  {
   "cell_type": "code",
   "execution_count": 1,
   "id": "5f657836-c22d-4029-ad6e-3db9a838c710",
   "metadata": {},
   "outputs": [],
   "source": [
    "import geopandas as gpd\n",
    "import matplotlib.pyplot as plt\n",
    "\n",
    "import pandas as pd\n",
    "from datetime import datetime\n",
    "\n",
    "import os\n",
    "import ipywidgets as widgets\n",
    "\n",
    "import tkinter as tk\n",
    "from tkinter import filedialog as fd"
   ]
  },
  {
   "cell_type": "code",
   "execution_count": 22,
   "id": "de17139f-826d-4ee7-8ba1-3990f58b71ea",
   "metadata": {
    "tags": []
   },
   "outputs": [],
   "source": [
    "# CONSTANTES\n",
    "#filepath_tch = r'G:\\OneDrive - Ingenio Azucarero Guabira S.A\\AGRO-CITTCA\\PROPIEDADES\\DATOS_PARA_GENERAR_GEOJSON\\RENDIMIENTO AVANCE 071022.xlsx'\n",
    "#filepath_bloques = r'G:\\OneDrive - Ingenio Azucarero Guabira S.A\\AGRO-CITTCA\\PROPIEDADES\\DATOS_PARA_GENERAR_GEOJSON\\BLOQUES.xlsx'"
   ]
  },
  {
   "cell_type": "code",
   "execution_count": 2,
   "id": "f83d4ffa-db68-46e2-bdef-51e6ba77adb0",
   "metadata": {
    "tags": []
   },
   "outputs": [],
   "source": [
    "# VARIABLES GLOBALES\n",
    "RUTA_CATASTRO = ''\n",
    "CATASTRO = None\n",
    "PROPIEDAD = None\n",
    "#TCHs = pd.read_excel(filepath_tch)\n",
    "#BLOQUES = pd.read_excel(filepath_bloques)\n",
    "\n",
    "COD_PROP = None\n",
    "NOM_PROP = None\n",
    "COD_CA = None\n",
    "AREA = 0\n",
    "THC = 0\n",
    "CUADRANTE = 0\n",
    "\n",
    "FILE_NAME = ''"
   ]
  },
  {
   "cell_type": "code",
   "execution_count": 26,
   "id": "1ac0b62b-1dd5-4faa-a898-25fb83528f04",
   "metadata": {
    "tags": []
   },
   "outputs": [],
   "source": [
    "# FUNCIONES GENERALES\n",
    "\n",
    "# open file dialog\n",
    "def open_file_dialogo():\n",
    "    root = tk.Tk()\n",
    "    root.attributes('-topmost', True)\n",
    "    root.iconify()\n",
    "    file_name = fd.askopenfilename(parent=root, filetypes=[(\".shp\", \".shp\")])\n",
    "    root.destroy()\n",
    "    return file_name\n",
    "\n",
    "# quita los caracteres especiales de un texto enviado\n",
    "def quitar_caracteres(text):\n",
    "    text = text.replace('_', ' ')\n",
    "    text = text.replace('\"', '')\n",
    "    text = text.replace('.', '')\n",
    "    return text\n",
    "\n",
    "# dependiendo del año de la fecha de siembra, retorna 'HOJA', 'SOCA' o 'RENOVACION'\n",
    "def establecer_estado(fecha):\n",
    "    date = str(fecha)\n",
    "    try:\n",
    "        date = datetime.strptime(date, '%Y-%m-%d')\n",
    "        year = date.year\n",
    "        if year == 2022:\n",
    "            return 'HOJA'\n",
    "        elif year > 2000:\n",
    "            return 'SOCA'\n",
    "        else:\n",
    "            return 'RENOVACION'\n",
    "    except Exception as ex:\n",
    "        return 'RENOVACION'\n",
    "    \n",
    "# establece el formato de fecha\n",
    "def establecer_formato_fecha(fecha):\n",
    "    fecha = str(fecha)\n",
    "    if fecha == 'None':\n",
    "        return '0'\n",
    "    else:\n",
    "        return fecha.replace('-', '')\n",
    "\n",
    "# cargar TCH de cañero a datos de propiedad\n",
    "def find_tch(cod_ca):\n",
    "    try:\n",
    "        return 57.5\n",
    "    except:\n",
    "        return 0\n",
    "\n",
    "# cargar Num. De Cuadrante nax de la propiedad\n",
    "def find_block(cod_prop):\n",
    "    try:\n",
    "        return 359\n",
    "    except:\n",
    "        return 0\n",
    "\n",
    "def convertir_para_dos_gestiones(prop, estado):\n",
    "    propiedad = prop.astype({\n",
    "        'unidad_01':'int',\n",
    "        'unidad_03':'int'\n",
    "    })\n",
    "    # cambio de nombre de columnas (id, variedad, textura) por conflicto con las nuevas columnas\n",
    "    propiedad = propiedad.rename(columns={'id':'cod', 'variedad':'var', 'textura':'tex'})\n",
    "    # crear nuevas columnas, con valor por defecto\n",
    "    propiedad['NOM_LOTE'] = propiedad['unidad_05']\n",
    "    propiedad['TEXTURA'] = propiedad['tex']\n",
    "    propiedad['SUPERFICIE'] = propiedad['area']\n",
    "    propiedad['VARIEDAD'] = propiedad['var']\n",
    "    propiedad['FECHA_SIEM'] = propiedad['fs']\n",
    "    propiedad['CORTE'] = propiedad['soca']\n",
    "    propiedad['ESTADO'] = ''\n",
    "    propiedad['RENDIMIENT'] = 0\n",
    "    propiedad['COD_CA'] = propiedad['unidad_03']\n",
    "    propiedad['COD_PROP'] = propiedad['unidad_01']\n",
    "    propiedad['ID'] = propiedad['cod']\n",
    "    propiedad['CUADRANTE'] = 0\n",
    "    # segmenta el gdf propiedad [todas_las_filas , ultimas_13_columnas]\n",
    "    propiedad = propiedad.iloc[:,-13:]\n",
    "    # estable estado (hoja, soca, renov)\n",
    "    propiedad['ESTADO'] = propiedad['FECHA_SIEM'].apply(establecer_estado)\n",
    "    # cambia el formato de fecha\n",
    "    propiedad['FECHA_SIEM'] = propiedad['FECHA_SIEM'].apply(establecer_formato_fecha)\n",
    "    #establecer tipo de variable a nuevas columnas\n",
    "    propiedad = propiedad.astype({\n",
    "        'RENDIMIENT':'float',\n",
    "        'COD_CA':'int',\n",
    "        'COD_PROP':'int'\n",
    "    })\n",
    "    # encontrar thc de cañero\n",
    "    propiedad['RENDIMIENT'] = propiedad['COD_CA'].apply(find_tch)\n",
    "    # encontrar cuadrante NAX de propiedad\n",
    "    propiedad['CUADRANTE']=propiedad['COD_PROP'].apply(find_block)\n",
    "    # recalcula el ID\n",
    "    propiedad['ID'] = propiedad.apply(lambda x : '0000' + str(x['COD_PROP']) + '0000' + x['NOM_LOTE'], axis=1)\n",
    "    # quitar caracteres especiales de la columna variedad\n",
    "    propiedad['VARIEDAD'] = propiedad['VARIEDAD'].apply(quitar_caracteres)\n",
    "    # cambia sistema de proyeccion de UTM a WGS84\n",
    "    propiedad = propiedad.to_crs(epsg=4326)\n",
    "    # ruta para guardar archivo\n",
    "    os.chdir(r\"G:\\OneDrive - Ingenio Azucarero Guabira S.A\\AGRO-CITTCA\\PROPIEDADES\\DATOS_PARA_GENERAR_GEOJSON\\PROPIEDADES_OFFICIALES\")\n",
    "    # estructuracion de la ruta\n",
    "    out_dir = os.path.normpath((os.getcwd() + '/' + FILE_NAME + '_' + str(estado) + '.geojson' ))\n",
    "    # guardar archivo\n",
    "    propiedad.to_file(out_dir, driver='GeoJSON')\n",
    "    print('dddddddddddddddddddddddddddd')\n",
    "    return propiedad\n",
    "\n",
    "# convertir propiedad a geojson\n",
    "def convertir_geojson():    \n",
    "    # establecer tipo de dato de codigos\n",
    "    prop_actual = PROPIEDAD[(PROPIEDAD['cultivo']=='canha') | (PROPIEDAD['cultivo']=='siembra')]\n",
    "    prop_siguiente = PROPIEDAD[PROPIEDAD['cultivo']=='renovacion']\n",
    "    \n",
    "    propiedad = convertir_para_dos_gestiones(PROPIEDAD, 2025)\n",
    "    #propiedad = convertir_para_dos_gestiones(prop_siguiente, 2026)\n",
    "    \n",
    "    out_lotes.clear_output()\n",
    "    with out_lotes:\n",
    "        display(propiedad)"
   ]
  },
  {
   "cell_type": "code",
   "execution_count": 27,
   "id": "78e5bc55-07a9-4ea8-9c7e-928f5619875f",
   "metadata": {
    "tags": []
   },
   "outputs": [],
   "source": [
    "# FUNNCIONES DE WIDGETS\n",
    "\n",
    "# btn_cargar_catastro\n",
    "def cargar_catastro(gui):\n",
    "    global CATASTRO\n",
    "    file_name = open_file_dialogo()\n",
    "    txt_path_catastro.value = file_name\n",
    "    CATASTRO = gpd.read_file(file_name)\n",
    "\n",
    "def cargar_propiedad(gui):\n",
    "    global PROPIEDAD, COD_PROP, NOM_PROP, COD_CA, AREA, TCH, CUADRANTE, FILE_NAME\n",
    "    # selecciona la propiedad segun el codigo prop\n",
    "    PROPIEDAD = CATASTRO[CATASTRO['unidad_01']==txt_cod_prop.value]\n",
    "    \n",
    "    # extraer datos de propiedad\n",
    "    COD_PROP = PROPIEDAD.iloc[0]['unidad_01']\n",
    "    NOM_PROP = PROPIEDAD.iloc[0]['unidad_02']\n",
    "    COD_CA = PROPIEDAD.iloc[0]['unidad_03']\n",
    "    \n",
    "    # total area\n",
    "    AREA = PROPIEDAD['area'].sum()\n",
    "    # encuentra el TCH promedio de cañero, en caso de encontrar retorna 0\n",
    "    TCH = find_tch(COD_CA)\n",
    "    # encuentra el cuadrnate NAX de la propiedad, en caso de no encontrar retorna 0\n",
    "    CUADRANTE = find_block(COD_PROP)\n",
    "    \n",
    "    FILE_NAME = str(COD_PROP) + ' - ' + quitar_caracteres(NOM_PROP)\n",
    "    \n",
    "    info = '''\n",
    "        PROPIEDAD: {file_name} \n",
    "        AREA: {area}\n",
    "        TCH: {tch}\n",
    "        CUADRANTE: {cuadrante}\n",
    "        '''.format(file_name=FILE_NAME, area=AREA, tch=TCH, cuadrante=CUADRANTE)\n",
    "    \n",
    "    # output: codigo y nombre de propiedad\n",
    "    out_nom_prop.clear_output()\n",
    "    with out_nom_prop:\n",
    "        print(info)\n",
    "    \n",
    "    # output: PLANO\n",
    "    out_prop.clear_output()\n",
    "    with out_prop:\n",
    "        PROPIEDAD.plot()\n",
    "        plt.show()   \n",
    "        \n",
    "    out_lotes.clear_output()\n",
    "    with out_lotes:\n",
    "        display(PROPIEDAD)\n",
    "\n",
    "def convertir_a_geojson(gui):\n",
    "    convertir_geojson()"
   ]
  },
  {
   "cell_type": "code",
   "execution_count": 28,
   "id": "fcec1f66-4800-47bf-ae98-89d9666889da",
   "metadata": {
    "tags": []
   },
   "outputs": [],
   "source": [
    "# textbox ruta de catastro\n",
    "txt_path_catastro = widgets.Text(\n",
    "    value=RUTA_CATASTRO,\n",
    "    disabled=False,\n",
    "    #layout=widgets.Layout(width='auto', height='40px')\n",
    ")\n",
    "\n",
    "# boton cargar ruta de catastro\n",
    "btn_cargar_catastro = widgets.Button(\n",
    "    description='Cargar Catastro',\n",
    "    disabled=False,\n",
    "    button_style='', # 'success', 'info', 'warning', 'danger' or ''\n",
    "    tooltip='Cargar',\n",
    ")\n",
    "btn_cargar_catastro.on_click(cargar_catastro)\n",
    "\n",
    "# textbox codigo propiedad\n",
    "txt_cod_prop = widgets.BoundedIntText(\n",
    "    value=30,\n",
    "    min=0,\n",
    "    max=99999999999999999,\n",
    "    step=1,\n",
    "    disabled=False\n",
    ")\n",
    "\n",
    "# boton cargar propiedad\n",
    "btn_cargar_propiedad = widgets.Button(\n",
    "    description='Cargar Propiedad',\n",
    "    disabled=False,\n",
    "    button_style='', # 'success', 'info', 'warning', 'danger' or ''\n",
    "    tooltip='Cargar propiedad',\n",
    ")\n",
    "btn_cargar_propiedad.on_click(cargar_propiedad)\n",
    "\n",
    "# boton convertir a geojson\n",
    "btn_convertir_a_geojson = widgets.Button(\n",
    "    description='Convertir Propiedad',\n",
    "    disabled=False,\n",
    "    button_style='', # 'success', 'info', 'warning', 'danger' or ''\n",
    "    tooltip='Convertir a GEOJSON',\n",
    ")\n",
    "btn_convertir_a_geojson.on_click(convertir_a_geojson)"
   ]
  },
  {
   "cell_type": "code",
   "execution_count": 29,
   "id": "4acb34d2-801e-4591-b908-8b13e3031ec4",
   "metadata": {
    "tags": []
   },
   "outputs": [
    {
     "data": {
      "application/vnd.jupyter.widget-view+json": {
       "model_id": "b490ccc8501b47bea24e5b3731cb3c07",
       "version_major": 2,
       "version_minor": 0
      },
      "text/plain": [
       "Box(children=(Box(children=(Label(value='CATASTRO:'), Text(value='')), layout=Layout(display='flex', flex_flow…"
      ]
     },
     "execution_count": 29,
     "metadata": {},
     "output_type": "execute_result"
    }
   ],
   "source": [
    "form_item_layout = widgets.Layout(\n",
    "    display='flex',\n",
    "    flex_flow='row',\n",
    "    width='100%'\n",
    ")\n",
    "\n",
    "form_items = [\n",
    "    widgets.Box([widgets.Label(value='CATASTRO:'), txt_path_catastro], layout=form_item_layout),\n",
    "    widgets.Box([btn_cargar_catastro], layout=form_item_layout),\n",
    "    widgets.Box([widgets.Label(value='COD PROP:'), txt_cod_prop], layout=form_item_layout),\n",
    "    widgets.Box([btn_cargar_propiedad], layout=form_item_layout),\n",
    "    widgets.Box([btn_convertir_a_geojson], layout=form_item_layout)\n",
    "]\n",
    "\n",
    "form = widgets.Box(form_items, layout=widgets.Layout(\n",
    "    display='flex',\n",
    "    flex_flow='column',\n",
    "    border='solid 1px',\n",
    "    align_items='stretch',\n",
    "    width='100%'\n",
    "))\n",
    "form"
   ]
  },
  {
   "cell_type": "markdown",
   "id": "4c338de9-06c0-41aa-9cf9-75ea254cfec3",
   "metadata": {},
   "source": [
    "### DATOS"
   ]
  },
  {
   "cell_type": "code",
   "execution_count": 30,
   "id": "55642e3b-d219-4b9d-a27b-2643faea74ce",
   "metadata": {
    "tags": []
   },
   "outputs": [
    {
     "data": {
      "application/vnd.jupyter.widget-view+json": {
       "model_id": "e0e8abb6edfc49c6bda8e85c2166617c",
       "version_major": 2,
       "version_minor": 0
      },
      "text/plain": [
       "Output(layout=Layout(border_bottom='1px solid black', border_left='1px solid black', border_right='1px solid b…"
      ]
     },
     "execution_count": 30,
     "metadata": {},
     "output_type": "execute_result"
    }
   ],
   "source": [
    "out_nom_prop = widgets.Output(layout={'border': '1px solid black'})\n",
    "out_nom_prop"
   ]
  },
  {
   "cell_type": "markdown",
   "id": "914fcc0b-2ef4-4c78-8e74-51ab560c12d3",
   "metadata": {
    "tags": []
   },
   "source": [
    "### PROPIEDAD"
   ]
  },
  {
   "cell_type": "code",
   "execution_count": 31,
   "id": "c81d1d72-2014-460d-ad77-308574781e59",
   "metadata": {},
   "outputs": [
    {
     "data": {
      "application/vnd.jupyter.widget-view+json": {
       "model_id": "494709da1b8249f892217054a6de7f64",
       "version_major": 2,
       "version_minor": 0
      },
      "text/plain": [
       "Output(layout=Layout(border_bottom='1px solid black', border_left='1px solid black', border_right='1px solid b…"
      ]
     },
     "execution_count": 31,
     "metadata": {},
     "output_type": "execute_result"
    }
   ],
   "source": [
    "out_prop = widgets.Output(layout={'border': '1px solid black'})\n",
    "out_prop"
   ]
  },
  {
   "cell_type": "markdown",
   "id": "7ee158dc-78f2-48d3-a7dc-02f6490c562a",
   "metadata": {},
   "source": [
    "## LOTES"
   ]
  },
  {
   "cell_type": "code",
   "execution_count": 32,
   "id": "d6522707-a448-439e-b5b1-60eb2dc82e09",
   "metadata": {},
   "outputs": [
    {
     "data": {
      "application/vnd.jupyter.widget-view+json": {
       "model_id": "acc0beeaad86460c801f81f6617866e7",
       "version_major": 2,
       "version_minor": 0
      },
      "text/plain": [
       "Output(layout=Layout(border_bottom='1px solid black', border_left='1px solid black', border_right='1px solid b…"
      ]
     },
     "execution_count": 32,
     "metadata": {},
     "output_type": "execute_result"
    }
   ],
   "source": [
    "out_lotes = widgets.Output(layout={'border': '1px solid black'})\n",
    "out_lotes"
   ]
  }
 ],
 "metadata": {
  "kernelspec": {
   "display_name": "Python 3 (ipykernel)",
   "language": "python",
   "name": "python3"
  },
  "language_info": {
   "codemirror_mode": {
    "name": "ipython",
    "version": 3
   },
   "file_extension": ".py",
   "mimetype": "text/x-python",
   "name": "python",
   "nbconvert_exporter": "python",
   "pygments_lexer": "ipython3",
   "version": "3.10.13"
  }
 },
 "nbformat": 4,
 "nbformat_minor": 5
}
