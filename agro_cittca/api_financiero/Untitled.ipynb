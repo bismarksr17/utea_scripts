{
 "cells": [
  {
   "cell_type": "code",
   "execution_count": 83,
   "id": "b7f3aa16-a73b-4f55-8d2b-afa79fd3b71e",
   "metadata": {},
   "outputs": [],
   "source": [
    "import requests\n",
    "import json\n",
    "import pandas as pd\n",
    "\n",
    "import os"
   ]
  },
  {
   "cell_type": "code",
   "execution_count": 108,
   "id": "e5ce7785-0114-4b25-95de-b7cdcf627ef0",
   "metadata": {},
   "outputs": [],
   "source": [
    "def get_token():\n",
    "    # URL base de la API\n",
    "    url = \"https://guabirasistemas.com:9062/Auth/login\"\n",
    "    # Parámetros de consulta\n",
    "    params = {\n",
    "        \"pStrUsuario\": \"USRUCAF\",\n",
    "        \"pStrClave\": \"DC513EA4FBDAA7A14786FFDEBC4EF64E\"\n",
    "    }\n",
    "    response = requests.get(url, params=params)\n",
    "    data = json.loads(response.text)\n",
    "    token = data['evUser']['token']\n",
    "    return token"
   ]
  },
  {
   "cell_type": "code",
   "execution_count": 109,
   "id": "dbed5c35-b518-4055-a0f6-b3914c9e1100",
   "metadata": {},
   "outputs": [],
   "source": [
    "PATH_OUT = r'G:\\Ingenio Azucarero Guabira S.A\\UTEA - SEMANAL - AGRO-CITTCA\\API_FINANCIERO'"
   ]
  },
  {
   "cell_type": "code",
   "execution_count": 110,
   "id": "e5efd4f7-4b42-48bd-8494-1e00a1549a59",
   "metadata": {},
   "outputs": [],
   "source": [
    "TOKEN = get_token()"
   ]
  },
  {
   "cell_type": "code",
   "execution_count": 88,
   "id": "84f47b44-6af3-4c62-b4d6-2e0fe8aabec0",
   "metadata": {},
   "outputs": [],
   "source": [
    "def get_tipo_credito():\n",
    "    api_url = \"https://guabirasistemas.com:9062/Cml/TipoCreditos\"\n",
    "    headers = {\n",
    "        \"Authorization\": f\"Bearer {TOKEN}\"\n",
    "    }\n",
    "    response = requests.get(api_url, headers=headers)\n",
    "    res = response.json()\n",
    "    tipos_prestamo = res['evTipos']\n",
    "    df = pd.DataFrame(tipos_prestamo)\n",
    "    filename = 'TipoCreditos.xlsx'\n",
    "    out = os.path.join(PATH_OUT, filename)\n",
    "    df.to_excel(out, index=False)"
   ]
  },
  {
   "cell_type": "code",
   "execution_count": 143,
   "id": "d02d3a46-a498-4ea2-bb86-306a8a5d073e",
   "metadata": {},
   "outputs": [],
   "source": [
    "def get_obtener_grupo(cod_ca):\n",
    "    api_url = \"https://guabirasistemas.com:9062/Cml/ObtenerGrupo\"\n",
    "    headers = {\n",
    "        \"Authorization\": f\"Bearer {TOKEN}\"\n",
    "    }\n",
    "    params = {\n",
    "        \"pStrCanero\": str(cod_ca)\n",
    "    }\n",
    "    response = requests.get(api_url, headers=headers, params=params)\n",
    "    res = response.json()\n",
    "    grupos = res['evGrupos']\n",
    "    df = pd.DataFrame(grupos)\n",
    "    return df"
   ]
  },
  {
   "cell_type": "code",
   "execution_count": 144,
   "id": "041c21ec-1633-4e1b-b810-00f430254d27",
   "metadata": {},
   "outputs": [
    {
     "data": {
      "text/html": [
       "<div>\n",
       "<style scoped>\n",
       "    .dataframe tbody tr th:only-of-type {\n",
       "        vertical-align: middle;\n",
       "    }\n",
       "\n",
       "    .dataframe tbody tr th {\n",
       "        vertical-align: top;\n",
       "    }\n",
       "\n",
       "    .dataframe thead th {\n",
       "        text-align: right;\n",
       "    }\n",
       "</style>\n",
       "<table border=\"1\" class=\"dataframe\">\n",
       "  <thead>\n",
       "    <tr style=\"text-align: right;\">\n",
       "      <th></th>\n",
       "      <th>codgrupo</th>\n",
       "      <th>codcanero</th>\n",
       "      <th>nombrecanero</th>\n",
       "      <th>codfinanza</th>\n",
       "      <th>totaldeuda</th>\n",
       "    </tr>\n",
       "  </thead>\n",
       "  <tbody>\n",
       "    <tr>\n",
       "      <th>0</th>\n",
       "      <td>262</td>\n",
       "      <td>515</td>\n",
       "      <td>AGUILERA OLGA OLIMPIA RIVERO VDA DE</td>\n",
       "      <td>800078</td>\n",
       "      <td>65143.56</td>\n",
       "    </tr>\n",
       "    <tr>\n",
       "      <th>1</th>\n",
       "      <td>262</td>\n",
       "      <td>1215</td>\n",
       "      <td>AGUILERA RIVERO OLGA KARINA</td>\n",
       "      <td>800082</td>\n",
       "      <td>10202.84</td>\n",
       "    </tr>\n",
       "    <tr>\n",
       "      <th>2</th>\n",
       "      <td>262</td>\n",
       "      <td>8003</td>\n",
       "      <td>AGUILERA RIVERO SERGIO STEFAN</td>\n",
       "      <td>800083</td>\n",
       "      <td>42788.73</td>\n",
       "    </tr>\n",
       "    <tr>\n",
       "      <th>3</th>\n",
       "      <td>262</td>\n",
       "      <td>40004</td>\n",
       "      <td>AGUILERA RIVERO NICOLAS JULIO</td>\n",
       "      <td>800081</td>\n",
       "      <td>19340.42</td>\n",
       "    </tr>\n",
       "  </tbody>\n",
       "</table>\n",
       "</div>"
      ],
      "text/plain": [
       "  codgrupo codcanero                         nombrecanero codfinanza  \\\n",
       "0      262       515  AGUILERA OLGA OLIMPIA RIVERO VDA DE     800078   \n",
       "1      262      1215          AGUILERA RIVERO OLGA KARINA     800082   \n",
       "2      262      8003        AGUILERA RIVERO SERGIO STEFAN     800083   \n",
       "3      262     40004        AGUILERA RIVERO NICOLAS JULIO     800081   \n",
       "\n",
       "   totaldeuda  \n",
       "0    65143.56  \n",
       "1    10202.84  \n",
       "2    42788.73  \n",
       "3    19340.42  "
      ]
     },
     "execution_count": 144,
     "metadata": {},
     "output_type": "execute_result"
    }
   ],
   "source": [
    "get_obtener_grupo(515)"
   ]
  },
  {
   "cell_type": "code",
   "execution_count": null,
   "id": "aee5fcd5-d981-4a63-bd38-9e82c0dec47f",
   "metadata": {},
   "outputs": [],
   "source": []
  },
  {
   "cell_type": "code",
   "execution_count": null,
   "id": "dcb93ce9-f10f-4b51-a495-8327e3e6c02c",
   "metadata": {},
   "outputs": [],
   "source": []
  },
  {
   "cell_type": "code",
   "execution_count": null,
   "id": "d6b1f167-59f2-4771-8fe5-607c9fc54ab7",
   "metadata": {},
   "outputs": [],
   "source": []
  },
  {
   "cell_type": "code",
   "execution_count": null,
   "id": "269e6446-2f7c-43b4-aa69-19d94cd01efa",
   "metadata": {},
   "outputs": [],
   "source": []
  },
  {
   "cell_type": "code",
   "execution_count": null,
   "id": "50004fdf-4def-45db-a672-2796180a1b8b",
   "metadata": {},
   "outputs": [],
   "source": []
  },
  {
   "cell_type": "code",
   "execution_count": null,
   "id": "bd18fc89-415f-47d0-bab0-e49a1c30a9e7",
   "metadata": {},
   "outputs": [],
   "source": []
  },
  {
   "cell_type": "code",
   "execution_count": null,
   "id": "5abe3822-54dc-418a-b566-d1308686e005",
   "metadata": {},
   "outputs": [],
   "source": []
  },
  {
   "cell_type": "code",
   "execution_count": 89,
   "id": "291f556c-6952-4427-996f-75db983aa7c4",
   "metadata": {},
   "outputs": [],
   "source": [
    "get_tipo_credito()"
   ]
  },
  {
   "cell_type": "code",
   "execution_count": null,
   "id": "34687386-ef84-495d-acce-541e9e639ee0",
   "metadata": {},
   "outputs": [],
   "source": []
  },
  {
   "cell_type": "code",
   "execution_count": null,
   "id": "f9171beb-de5f-476d-ae2c-44c201016f99",
   "metadata": {},
   "outputs": [],
   "source": []
  },
  {
   "cell_type": "code",
   "execution_count": null,
   "id": "6569f637-98b1-4c12-8c53-3952d35a3ded",
   "metadata": {},
   "outputs": [],
   "source": []
  },
  {
   "cell_type": "code",
   "execution_count": null,
   "id": "0412bf23-4f82-4449-84d8-161cac6dd70c",
   "metadata": {},
   "outputs": [],
   "source": []
  },
  {
   "cell_type": "code",
   "execution_count": null,
   "id": "c97ace55-305f-4d03-a0e6-d578650fb9c3",
   "metadata": {},
   "outputs": [],
   "source": []
  },
  {
   "cell_type": "code",
   "execution_count": null,
   "id": "080d7f41-49ce-4673-b33c-cdd99184e9b7",
   "metadata": {},
   "outputs": [],
   "source": []
  },
  {
   "cell_type": "code",
   "execution_count": null,
   "id": "5ae08b43-cb41-465b-9715-bd2a70fbca64",
   "metadata": {},
   "outputs": [],
   "source": []
  },
  {
   "cell_type": "code",
   "execution_count": null,
   "id": "8ef010b8-423f-4f45-836b-16307b888709",
   "metadata": {},
   "outputs": [],
   "source": []
  },
  {
   "cell_type": "code",
   "execution_count": null,
   "id": "27bd472f-c9fd-48d2-b62e-20ee529bcca3",
   "metadata": {},
   "outputs": [],
   "source": []
  },
  {
   "cell_type": "code",
   "execution_count": null,
   "id": "29eeddb1-7cca-443a-b321-58cab7a1f933",
   "metadata": {},
   "outputs": [],
   "source": []
  },
  {
   "cell_type": "code",
   "execution_count": null,
   "id": "3d27b6cd-e827-45e3-bb4d-a310fc517451",
   "metadata": {},
   "outputs": [],
   "source": []
  },
  {
   "cell_type": "code",
   "execution_count": null,
   "id": "74040c23-ba62-4304-b99b-28169f263b75",
   "metadata": {},
   "outputs": [],
   "source": []
  },
  {
   "cell_type": "code",
   "execution_count": null,
   "id": "6aed8a53-a1d6-47da-a4c4-2b2ca126ef81",
   "metadata": {},
   "outputs": [],
   "source": []
  }
 ],
 "metadata": {
  "kernelspec": {
   "display_name": "Python 3 (ipykernel)",
   "language": "python",
   "name": "python3"
  },
  "language_info": {
   "codemirror_mode": {
    "name": "ipython",
    "version": 3
   },
   "file_extension": ".py",
   "mimetype": "text/x-python",
   "name": "python",
   "nbconvert_exporter": "python",
   "pygments_lexer": "ipython3",
   "version": "3.10.13"
  }
 },
 "nbformat": 4,
 "nbformat_minor": 5
}
