{
 "cells": [
  {
   "cell_type": "code",
   "execution_count": 3,
   "id": "292c9875-5fcf-4f60-8177-d73c951e260c",
   "metadata": {},
   "outputs": [],
   "source": [
    "import requests\n",
    "\n",
    "# URL del endpoint\n",
    "url = \"http://38.242.157.178:3000/infocanero/report\""
   ]
  },
  {
   "cell_type": "code",
   "execution_count": 4,
   "id": "6e456d66-d024-4db1-938b-fd22688b6174",
   "metadata": {},
   "outputs": [],
   "source": [
    "# Parámetros del cuerpo de la solicitud (JSON)\n",
    "payload = {\n",
    "    \"caneCode\": \"41594\"\n",
    "}"
   ]
  },
  {
   "cell_type": "code",
   "execution_count": 6,
   "id": "97ac0348-b03e-4965-b3cc-6e828389492f",
   "metadata": {},
   "outputs": [
    {
     "name": "stdout",
     "output_type": "stream",
     "text": [
      "Respuesta exitosa:\n",
      "{'success': True, 'message': 'Información del cañero encontrada', 'data': [{'taalm': '1', 'tipo': 'ALMACEN CENTRAL U.C.G.', 'codInst': '50', 'nomInst': 'ASOCIACION AGROPECUARIA MONTERO 1965', 'codCan': '41594', 'ydrazonsocial': 'AGROPECUARIA CAMPODULCE S.R.L.', 'saldoCapital': '271801.55'}, {'taalm': '2', 'tipo': 'ALMACÉN SHOPPING GUABIRA', 'codInst': '50', 'nomInst': 'ASOCIACION AGROPECUARIA MONTERO 1965', 'codCan': '41594', 'ydrazonsocial': 'AGROPECUARIA CAMPODULCE S.R.L.', 'saldoCapital': '0'}, {'taalm': '3', 'tipo': 'SURTIDOR GUABIRÁ', 'codInst': '50', 'nomInst': 'ASOCIACION AGROPECUARIA MONTERO 1965', 'codCan': '41594', 'ydrazonsocial': 'AGROPECUARIA CAMPODULCE S.R.L.', 'saldoCapital': '0'}, {'taalm': '4', 'tipo': 'OTROS SURTIDORES', 'codInst': '50', 'nomInst': 'ASOCIACION AGROPECUARIA MONTERO 1965', 'codCan': '41594', 'ydrazonsocial': 'AGROPECUARIA CAMPODULCE S.R.L.', 'saldoCapital': '0'}, {'taalm': '10001', 'tipo': 'PRESTAMOS VARIOS', 'codInst': '50', 'nomInst': 'ASOCIACION AGROPECUARIA MONTERO 1965', 'codCan': '41594', 'ydrazonsocial': 'AGROPECUARIA CAMPODULCE S.R.L.', 'saldoCapital': '0'}, {'taalm': '10003', 'tipo': 'VISACIÓN CONTRATO', 'codInst': '50', 'nomInst': 'ASOCIACION AGROPECUARIA MONTERO 1965', 'codCan': '41594', 'ydrazonsocial': 'AGROPECUARIA CAMPODULCE S.R.L.', 'saldoCapital': '0'}, {'taalm': '10005', 'tipo': 'REESTRUCTURACIÓN', 'codInst': '50', 'nomInst': 'ASOCIACION AGROPECUARIA MONTERO 1965', 'codCan': '41594', 'ydrazonsocial': 'AGROPECUARIA CAMPODULCE S.R.L.', 'saldoCapital': '0'}, {'taalm': '10008', 'tipo': 'SHOPPING', 'codInst': '50', 'nomInst': 'ASOCIACION AGROPECUARIA MONTERO 1965', 'codCan': '41594', 'ydrazonsocial': 'AGROPECUARIA CAMPODULCE S.R.L.', 'saldoCapital': '63.00'}, {'taalm': '10010', 'tipo': 'OTRA UNIÓN', 'codInst': '50', 'nomInst': 'ASOCIACION AGROPECUARIA MONTERO 1965', 'codCan': '41594', 'ydrazonsocial': 'AGROPECUARIA CAMPODULCE S.R.L.', 'saldoCapital': '0'}, {'taalm': '10013', 'tipo': 'ESTUDIO DE SUELOS Y EQUIPO', 'codInst': '50', 'nomInst': 'ASOCIACION AGROPECUARIA MONTERO 1965', 'codCan': '41594', 'ydrazonsocial': 'AGROPECUARIA CAMPODULCE S.R.L.', 'saldoCapital': '0'}, {'taalm': '10014', 'tipo': 'OTROS PRESTAMOS SIN APORTE', 'codInst': '50', 'nomInst': 'ASOCIACION AGROPECUARIA MONTERO 1965', 'codCan': '41594', 'ydrazonsocial': 'AGROPECUARIA CAMPODULCE S.R.L.', 'saldoCapital': '0'}, {'taalm': '10015', 'tipo': 'MULTAS', 'codInst': '50', 'nomInst': 'ASOCIACION AGROPECUARIA MONTERO 1965', 'codCan': '41594', 'ydrazonsocial': 'AGROPECUARIA CAMPODULCE S.R.L.', 'saldoCapital': '0'}, {'taalm': '10016', 'tipo': 'PRESTAMOS DE CONVENIO', 'codInst': '50', 'nomInst': 'ASOCIACION AGROPECUARIA MONTERO 1965', 'codCan': '41594', 'ydrazonsocial': 'AGROPECUARIA CAMPODULCE S.R.L.', 'saldoCapital': '0'}]}\n"
     ]
    }
   ],
   "source": [
    "# Realizar la solicitud POST\n",
    "response = requests.post(url, json=payload)\n",
    "\n",
    "# Verificar el código de respuesta\n",
    "if response.status_code == 200:\n",
    "    data = response.json()\n",
    "    print(\"Respuesta exitosa:\")\n",
    "    print(data)\n",
    "elif response.status_code == 404:\n",
    "    print(\"Cañero no encontrado en la base de datos.\")\n",
    "else:\n",
    "    print(f\"Error: Código de estado {response.status_code}\")"
   ]
  }
 ],
 "metadata": {
  "kernelspec": {
   "display_name": "Python 3 (ipykernel)",
   "language": "python",
   "name": "python3"
  },
  "language_info": {
   "codemirror_mode": {
    "name": "ipython",
    "version": 3
   },
   "file_extension": ".py",
   "mimetype": "text/x-python",
   "name": "python",
   "nbconvert_exporter": "python",
   "pygments_lexer": "ipython3",
   "version": "3.10.13"
  }
 },
 "nbformat": 4,
 "nbformat_minor": 5
}
