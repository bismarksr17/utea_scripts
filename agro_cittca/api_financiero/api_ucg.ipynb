{
 "cells": [
  {
   "cell_type": "code",
   "execution_count": 1,
   "id": "fcab51c7-6921-458e-9ea6-a9f32a59b418",
   "metadata": {},
   "outputs": [
    {
     "ename": "NameError",
     "evalue": "name 'dwfwf' is not defined",
     "output_type": "error",
     "traceback": [
      "\u001b[1;31m---------------------------------------------------------------------------\u001b[0m",
      "\u001b[1;31mNameError\u001b[0m                                 Traceback (most recent call last)",
      "Cell \u001b[1;32mIn[1], line 1\u001b[0m\n\u001b[1;32m----> 1\u001b[0m \u001b[43mdwfwf\u001b[49m\n",
      "\u001b[1;31mNameError\u001b[0m: name 'dwfwf' is not defined"
     ]
    }
   ],
   "source": [
    "dwfwf"
   ]
  },
  {
   "cell_type": "code",
   "execution_count": null,
   "id": "292c9875-5fcf-4f60-8177-d73c951e260c",
   "metadata": {},
   "outputs": [],
   "source": [
    "import sys\n",
    "sys.path.append('../..')\n",
    "\n",
    "import requests\n",
    "import pandas as pd\n",
    "from config import RUTA_UNIDAD_ONE_DRIVE\n",
    "from config import RUTA_LOCAL_ONE_DRIVE\n",
    "\n",
    "import sqlite3\n",
    "import ipywidgets as widgets\n",
    "\n",
    "PATH_OUT = RUTA_UNIDAD_ONE_DRIVE + r'Ingenio Azucarero Guabira S.A\\UTEA - SEMANAL - AGRO-CITTCA\\API_FINANCIERO'\n",
    "PARH_XLSX_GRUPOS_UCAF = RUTA_UNIDAD_ONE_DRIVE + 'Ingenio Azucarero Guabira S.A\\COMPROMISOS ZAFRA 2025 - Documents\\GRUPOS UCAF.xlsx'\n",
    "ENDPOINT_UCG = \"http://38.242.157.178:3000/infocanero/report\""
   ]
  },
  {
   "cell_type": "code",
   "execution_count": null,
   "id": "90a2e654-cdd8-40bc-b5d5-c7362ec3cb58",
   "metadata": {},
   "outputs": [],
   "source": [
    "# conectar a la base SQLite (creará archivo si no existe)\n",
    "conn = sqlite3.connect('db_data_agrocittca.db')\n",
    "cursor = conn.cursor()\n",
    "\n",
    "# crear tabla\n",
    "cursor.execute('''\n",
    "CREATE TABLE IF NOT EXISTS deudas_ucg (\n",
    "    taalm INTEGER,\n",
    "    tipo TEXT,\n",
    "    codInst INTEGER,\n",
    "    nomInst TEXT,\n",
    "    codCan INTEGER,\n",
    "    ydrazonSocial TEXT,\n",
    "    saldoCapital REAL\n",
    ")\n",
    "''')\n",
    "# Confirmar los cambios y cerrar la conexión\n",
    "conn.commit()\n",
    "conn.close()"
   ]
  },
  {
   "cell_type": "code",
   "execution_count": null,
   "id": "0b4347c3-91f6-45db-a85c-675ca68b6ad0",
   "metadata": {},
   "outputs": [],
   "source": [
    "def borrar_todos_los_datos():\n",
    "    # conectar a la base SQLite\n",
    "    conn = sqlite3.connect('db_data_agrocittca.db')\n",
    "    cursor = conn.cursor()\n",
    "    # ejecutar borrado\n",
    "    cursor.execute('DELETE FROM deudas_ucg')\n",
    "    # confirmar cambios\n",
    "    conn.commit()\n",
    "    conn.close()\n",
    "    print(\"Todos los datos de la tabla deuda_ucg han sido borrados.\")\n",
    "    return None\n",
    "\n",
    "def get_data_ucg(ca):\n",
    "    # Parámetros del cuerpo de la solicitud (JSON)\n",
    "    payload = {\n",
    "        \"caneCode\": \"41594\"\n",
    "    }\n",
    "    # Realizar la solicitud POST\n",
    "    response = requests.post(URL, json=payload)\n",
    "    # Verificar el código de respuesta\n",
    "    if response.status_code == 200:\n",
    "        data = response.json()\n",
    "        print(\"Respuesta exitosa:\")\n",
    "        return pd.DataFrame(data['data'])\n",
    "    elif response.status_code == 404:\n",
    "        print(f'No se encontro datos de codigo: {cod_ca}')\n",
    "    else:\n",
    "        print(f\"Error: Código de estado {response.status_code}\")"
   ]
  },
  {
   "cell_type": "code",
   "execution_count": null,
   "id": "ef725fef-53c9-4eed-a7a6-96e0d3e862df",
   "metadata": {},
   "outputs": [],
   "source": [
    "borrar_todos_los_datos()"
   ]
  },
  {
   "cell_type": "code",
   "execution_count": null,
   "id": "f2870a40-5d1f-4cd0-b09a-be139da08699",
   "metadata": {},
   "outputs": [],
   "source": []
  },
  {
   "cell_type": "code",
   "execution_count": null,
   "id": "96cc1949-f69a-409b-88f0-33fe8c924a2f",
   "metadata": {},
   "outputs": [],
   "source": []
  },
  {
   "cell_type": "code",
   "execution_count": null,
   "id": "c0b8894a-aa97-4c47-bf5b-9db104a6e534",
   "metadata": {},
   "outputs": [],
   "source": []
  },
  {
   "cell_type": "code",
   "execution_count": null,
   "id": "0f5365ad-7aef-46b1-94f2-292eb9f02fe3",
   "metadata": {},
   "outputs": [],
   "source": []
  },
  {
   "cell_type": "code",
   "execution_count": null,
   "id": "8640a4c5-1516-4160-8f31-6060b1d3de4d",
   "metadata": {},
   "outputs": [],
   "source": []
  }
 ],
 "metadata": {
  "kernelspec": {
   "display_name": "Python 3 (ipykernel)",
   "language": "python",
   "name": "python3"
  },
  "language_info": {
   "codemirror_mode": {
    "name": "ipython",
    "version": 3
   },
   "file_extension": ".py",
   "mimetype": "text/x-python",
   "name": "python",
   "nbconvert_exporter": "python",
   "pygments_lexer": "ipython3",
   "version": "3.10.13"
  }
 },
 "nbformat": 4,
 "nbformat_minor": 5
}
