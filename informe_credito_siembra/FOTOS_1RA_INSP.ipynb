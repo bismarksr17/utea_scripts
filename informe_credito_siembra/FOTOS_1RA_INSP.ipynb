{
 "cells": [
  {
   "cell_type": "markdown",
   "id": "efd45d64",
   "metadata": {},
   "source": [
    "## Librerias"
   ]
  },
  {
   "cell_type": "code",
   "execution_count": 1,
   "id": "5cb5968b",
   "metadata": {},
   "outputs": [
    {
     "name": "stderr",
     "output_type": "stream",
     "text": [
      "C:\\Users\\Bismar\\.conda\\envs\\utea_reportes\\lib\\importlib\\_bootstrap.py:219: RuntimeWarning: greenlet.greenlet size changed, may indicate binary incompatibility. Expected 144 from C header, got 152 from PyObject\n",
      "  return f(*args, **kwds)\n",
      "C:\\Users\\Bismar\\.conda\\envs\\utea_reportes\\lib\\importlib\\_bootstrap.py:219: RuntimeWarning: greenlet.greenlet size changed, may indicate binary incompatibility. Expected 144 from C header, got 152 from PyObject\n",
      "  return f(*args, **kwds)\n",
      "C:\\Users\\Bismar\\.conda\\envs\\utea_reportes\\lib\\importlib\\_bootstrap.py:219: RuntimeWarning: greenlet.greenlet size changed, may indicate binary incompatibility. Expected 144 from C header, got 152 from PyObject\n",
      "  return f(*args, **kwds)\n",
      "C:\\Users\\Bismar\\.conda\\envs\\utea_reportes\\lib\\importlib\\_bootstrap.py:219: RuntimeWarning: greenlet.greenlet size changed, may indicate binary incompatibility. Expected 144 from C header, got 152 from PyObject\n",
      "  return f(*args, **kwds)\n"
     ]
    }
   ],
   "source": [
    "from werkzeug.wrappers import Request, Response\n",
    "#from flask import Flask, render_template\n",
    "from jinja2 import Template\n",
    "\n",
    "#from datetime import date\n",
    "from datetime import datetime, timedelta\n",
    "\n",
    "import collections\n",
    "from amigocloud import AmigoCloud\n",
    "\n",
    "from datetime import datetime"
   ]
  },
  {
   "cell_type": "markdown",
   "id": "9429e2a1",
   "metadata": {},
   "source": [
    "## Conectar a AmigoCloud"
   ]
  },
  {
   "cell_type": "code",
   "execution_count": 2,
   "id": "b8cbf515-a519-4f36-a672-9d756da2e5bb",
   "metadata": {},
   "outputs": [],
   "source": [
    "# ruta de carpera donde estan las llaves\n",
    "ruta = open('../ruta.txt')\n",
    "ruta = ruta.readlines()[0]"
   ]
  },
  {
   "cell_type": "code",
   "execution_count": 3,
   "id": "b046e5ec-e53a-4681-b08b-5406ced2f306",
   "metadata": {},
   "outputs": [
    {
     "name": "stderr",
     "output_type": "stream",
     "text": [
      "WARNING:socketIO-client:app.amigocloud.com:443/v2_socket.io/socket.io [connection error] recv disconnected ([Errno 2] No such file or directory)\n"
     ]
    },
    {
     "data": {
      "text/plain": [
       "<amigocloud.amigocloud.AmigoCloud at 0x2146e439808>"
      ]
     },
     "execution_count": 3,
     "metadata": {},
     "output_type": "execute_result"
    }
   ],
   "source": [
    "# leer token\n",
    "acceso = open(ruta + '/_keys/api_amigocloud.key','r')\n",
    "api_token = acceso.readlines()[0]\n",
    "acceso.close()\n",
    "amigocloud = AmigoCloud(token=api_token)\n",
    "amigocloud"
   ]
  },
  {
   "cell_type": "markdown",
   "id": "c1e7f707",
   "metadata": {},
   "source": [
    "## Datos de crédito"
   ]
  },
  {
   "cell_type": "code",
   "execution_count": 4,
   "id": "685262ce-7bbb-4469-92f2-eb113a0d5cba",
   "metadata": {},
   "outputs": [],
   "source": [
    "semana = 'S18'"
   ]
  },
  {
   "cell_type": "code",
   "execution_count": 5,
   "id": "3c8f0c01",
   "metadata": {},
   "outputs": [
    {
     "name": "stdout",
     "output_type": "stream",
     "text": [
      "end\n"
     ]
    }
   ],
   "source": [
    "query = {'query': 'select insp.canhero, prop.propiedad, lote.lote, gal.s3_filename, gal.amigocloud_url foto\\\n",
    "         from dataset_307560 insp\\\n",
    "         inner join dataset_307562 prop on insp.amigo_id=prop.insp_ref_prop\\\n",
    "         inner join dataset_307563 lote on prop.amigo_id=lote.prop_ref_lote\\\n",
    "         inner join gallery_46845 gal on lote.amigo_id=gal.source_amigo_id\\\n",
    "         where semana_1ra = \\'{sem}\\' order by canhero'.format(sem=semana)}\n",
    "select = amigocloud.get('https://app.amigocloud.com/api/v1/projects/32672/sql', query)\n",
    "data = select['data']\n",
    "#credito = collections.namedtuple(\"credito\", credito_data.keys())(*credito_data.values())\n",
    "print('end')"
   ]
  },
  {
   "cell_type": "code",
   "execution_count": 6,
   "id": "e49ecf6d-4c9f-4e23-9264-781eba0df1ac",
   "metadata": {},
   "outputs": [
    {
     "data": {
      "text/plain": [
       "[{'canhero': '10305 / PERALTA LOPEZ MAIDE ',\n",
       "  'propiedad': '1579 / SALAZAR--SALAZAR LIDER',\n",
       "  'lote': 'L4',\n",
       "  's3_filename': 'WhatsApp Image 2023-05-06 at 05.53.07 (1).jpeg',\n",
       "  'foto': 'app.amigocloud.com/api/v1/related_tables/46845/files/d9f9504553ba4d70bce256a700d6162e/6ea0bc40fd454fd089ff8ef06102c18e/WhatsApp%20Image%202023-05-06%20at%2005.53.07%20(1).jpeg'},\n",
       " {'canhero': '10305 / PERALTA LOPEZ MAIDE ',\n",
       "  'propiedad': '244 / SAN VICENTE--PERALTA',\n",
       "  'lote': 'L4',\n",
       "  's3_filename': 'WhatsApp Image 2023-05-06 at 05.53.07.jpeg',\n",
       "  'foto': 'app.amigocloud.com/api/v1/related_tables/46845/files/c67654416f60487ba3ce9165b53ae76c/fc8a59135853427cac14ea1c1f161d61/WhatsApp%20Image%202023-05-06%20at%2005.53.07.jpeg'},\n",
       " {'canhero': '14562 / VACA HURTADO JULIO ERNESTO',\n",
       "  'propiedad': '184 / EL CARMEN CIDRAL--JULIO VACA',\n",
       "  'lote': 'L25',\n",
       "  's3_filename': 'WhatsApp Image 2023-05-06 at 05.56.41 (1).jpeg',\n",
       "  'foto': 'app.amigocloud.com/api/v1/related_tables/46845/files/f88e3062542c4996b294dff61bbafb65/5f28dee2bb624c388ceba88dd415ed78/WhatsApp%20Image%202023-05-06%20at%2005.56.41%20(1).jpeg'},\n",
       " {'canhero': '14562 / VACA HURTADO JULIO ERNESTO',\n",
       "  'propiedad': '184 / EL CARMEN CIDRAL--JULIO VACA',\n",
       "  'lote': 'L24',\n",
       "  's3_filename': 'WhatsApp Image 2023-05-06 at 05.56.41.jpeg',\n",
       "  'foto': 'app.amigocloud.com/api/v1/related_tables/46845/files/f470db754d5147fd99aa99d6cc22cf52/e3070c0985a94e54bfa46e321cbc1025/WhatsApp%20Image%202023-05-06%20at%2005.56.41.jpeg'},\n",
       " {'canhero': '1693 / CANO DELGADILLO LIMBERG',\n",
       "  'propiedad': '1950 / CHAVARRIAS--CANO LIMBERG',\n",
       "  'lote': 'L1',\n",
       "  's3_filename': 'WhatsApp Image 2023-05-06 at 05.39.49.jpeg',\n",
       "  'foto': 'app.amigocloud.com/api/v1/related_tables/46845/files/bef4b48753af470a98f25a0e60192f75/00473e72c15f4cdebdd548eb6091d75b/WhatsApp%20Image%202023-05-06%20at%2005.39.49.jpeg'},\n",
       " {'canhero': '386 / AYALA CESPEDES GREGORIO ',\n",
       "  'propiedad': '606 / LAS PETAS--AYALA',\n",
       "  'lote': 'L10.2',\n",
       "  's3_filename': 'WhatsApp Image 2023-05-03 at 11.29.38.jpeg',\n",
       "  'foto': 'app.amigocloud.com/api/v1/related_tables/46845/files/4cb037f905b44a2390c60b9d8f5c88ae/8d8d3ef6267a4d1791c5e64756102d0a/WhatsApp%20Image%202023-05-03%20at%2011.29.38.jpeg'},\n",
       " {'canhero': '386 / AYALA CESPEDES GREGORIO ',\n",
       "  'propiedad': '606 / LAS PETAS--AYALA',\n",
       "  'lote': 'L8.1',\n",
       "  's3_filename': 'WhatsApp Image 2023-05-03 at 11.52.45.jpeg',\n",
       "  'foto': 'app.amigocloud.com/api/v1/related_tables/46845/files/c33e9b46f75c4ba59577e61b53981303/fd6116d87845488484779306a16b4e66/WhatsApp%20Image%202023-05-03%20at%2011.52.45.jpeg'},\n",
       " {'canhero': '41543 / PORTILLO MAMANI LIDIA',\n",
       "  'propiedad': '1446 / MATILDE--JAIME AMURRIO TAPIA',\n",
       "  'lote': 'L4',\n",
       "  's3_filename': 'WhatsApp Image 2023-05-06 at 05.49.53.jpeg',\n",
       "  'foto': 'app.amigocloud.com/api/v1/related_tables/46845/files/2ae22c46c36543948296d06f560867c3/bc68174f617040c48309e2007e088268/WhatsApp%20Image%202023-05-06%20at%2005.49.53.jpeg'},\n",
       " {'canhero': '41543 / PORTILLO MAMANI LIDIA',\n",
       "  'propiedad': '205 / JORORI--AMURRIO',\n",
       "  'lote': 'L7',\n",
       "  's3_filename': 'WhatsApp Image 2023-05-06 at 05.46.10_lYTFh7e.jpeg',\n",
       "  'foto': 'app.amigocloud.com/api/v1/related_tables/46845/files/9af428f7e88a4143abd8483c075aa4d4/b5d74b9fd5b84a1398c76563ec8eb7fc/WhatsApp%20Image%202023-05-06%20at%2005.46.10.jpeg'},\n",
       " {'canhero': '42070 / MELGAREJO MONDAQUE LUIS RENE',\n",
       "  'propiedad': '597 / PAILON--MELGAREJO',\n",
       "  'lote': 'L5',\n",
       "  's3_filename': 'WhatsApp Image 2023-05-02 at 13.21.16 (1).jpeg',\n",
       "  'foto': 'app.amigocloud.com/api/v1/related_tables/46845/files/ef2298e54fa6416abfc792c65b82850c/bb1dab9a97cb4a4a96fe1be3339e9cfc/WhatsApp%20Image%202023-05-02%20at%2013.21.16%20(1).jpeg'},\n",
       " {'canhero': '42070 / MELGAREJO MONDAQUE LUIS RENE',\n",
       "  'propiedad': '597 / PAILON--MELGAREJO',\n",
       "  'lote': 'L6',\n",
       "  's3_filename': 'WhatsApp Image 2023-05-02 at 13.21.16.jpeg',\n",
       "  'foto': 'app.amigocloud.com/api/v1/related_tables/46845/files/9164dcb0fd5f4163bf0d83e499303ca1/f99d3a2ed72d4ed28f5a2b1cc4acfe42/WhatsApp%20Image%202023-05-02%20at%2013.21.16.jpeg'},\n",
       " {'canhero': '5448 / HUANCA MENCHAQUE ROLY',\n",
       "  'propiedad': '1951 / PAISAJE--HUANCA ROLY',\n",
       "  'lote': 'L1',\n",
       "  's3_filename': 'WhatsApp Image 2023-05-06 at 05.42.53.jpeg',\n",
       "  'foto': 'app.amigocloud.com/api/v1/related_tables/46845/files/2ba3d181bc0543f9b59ea6bca5da9371/03932bdd8946457fb1d68b79b6307344/WhatsApp%20Image%202023-05-06%20at%2005.42.53.jpeg'},\n",
       " {'canhero': '8814 / MURIALDO MENDEZ WALTER DANIEL',\n",
       "  'propiedad': '222 / POTRERITO',\n",
       "  'lote': 'L49.2',\n",
       "  's3_filename': 'WhatsApp Image 2023-05-06 at 05.46.59.jpeg',\n",
       "  'foto': 'app.amigocloud.com/api/v1/related_tables/46845/files/8341ee40558a40ab9e2795d8c85a7f7d/d4988aac1a5c498b8c1727f1447c6a48/WhatsApp%20Image%202023-05-06%20at%2005.46.59.jpeg'},\n",
       " {'canhero': '8814 / MURIALDO MENDEZ WALTER DANIEL',\n",
       "  'propiedad': '222 / POTRERITO',\n",
       "  'lote': 'L49.3',\n",
       "  's3_filename': 'WhatsApp Image 2023-05-06 at 05.46.10.jpeg',\n",
       "  'foto': 'app.amigocloud.com/api/v1/related_tables/46845/files/30f40121ccb5487c9aebe7ad6fcd09a7/f15928f1649c49e9ace3d931e3159546/WhatsApp%20Image%202023-05-06%20at%2005.46.10.jpeg'},\n",
       " {'canhero': '8838 / MENDEZ PAZ MIRYAM',\n",
       "  'propiedad': '222 / POTRERITO',\n",
       "  'lote': 'L6',\n",
       "  's3_filename': 'WhatsApp Image 2023-05-06 at 06.04.53.jpeg',\n",
       "  'foto': 'app.amigocloud.com/api/v1/related_tables/46845/files/70acbc674ec64691a572b7f51f2815bd/17588deb6d204cf68184992347f88849/WhatsApp%20Image%202023-05-06%20at%2006.04.53.jpeg'}]"
      ]
     },
     "execution_count": 6,
     "metadata": {},
     "output_type": "execute_result"
    }
   ],
   "source": [
    "data"
   ]
  },
  {
   "cell_type": "code",
   "execution_count": 7,
   "id": "48e765f2",
   "metadata": {},
   "outputs": [
    {
     "name": "stdout",
     "output_type": "stream",
     "text": [
      "WhatsApp Image 2023-05-06 at 05.53.07 (1).jpeg\n",
      "WhatsApp Image 2023-05-06 at 05.53.07.jpeg\n",
      "WhatsApp Image 2023-05-06 at 05.56.41 (1).jpeg\n",
      "WhatsApp Image 2023-05-06 at 05.56.41.jpeg\n",
      "WhatsApp Image 2023-05-06 at 05.39.49.jpeg\n",
      "WhatsApp Image 2023-05-03 at 11.29.38.jpeg\n",
      "WhatsApp Image 2023-05-03 at 11.52.45.jpeg\n",
      "WhatsApp Image 2023-05-06 at 05.49.53.jpeg\n",
      "WhatsApp Image 2023-05-06 at 05.46.10_lYTFh7e.jpeg\n",
      "WhatsApp Image 2023-05-02 at 13.21.16 (1).jpeg\n",
      "WhatsApp Image 2023-05-02 at 13.21.16.jpeg\n",
      "WhatsApp Image 2023-05-06 at 05.42.53.jpeg\n",
      "WhatsApp Image 2023-05-06 at 05.46.59.jpeg\n",
      "WhatsApp Image 2023-05-06 at 05.46.10.jpeg\n",
      "WhatsApp Image 2023-05-06 at 06.04.53.jpeg\n"
     ]
    }
   ],
   "source": [
    "from docxtpl import DocxTemplate\n",
    "import docxtpl\n",
    "from docx.shared import Mm\n",
    "\n",
    "import requests\n",
    "\n",
    "doc = DocxTemplate(ruta + \"/templates/tpl_1ra_fotos.docx\")\n",
    "\n",
    "#descargar fotos y generar lista InlineImage\n",
    "lista_fotos_inline = []\n",
    "for foto in data:\n",
    "    response = requests.get(\"https://www-amigocloud.s3.amazonaws.com/gallery/\" + foto['s3_filename'])\n",
    "    file = open(ruta + '/fotos/' + foto['s3_filename'], \"wb\")\n",
    "    file.write(response.content)\n",
    "    file.close()\n",
    "    lista_fotos_inline.append({'foto': docxtpl.InlineImage(doc, image_descriptor=ruta + '/fotos/' + foto['s3_filename'], width=Mm(120)), 'canhero': foto['canhero']})\n",
    "    print(foto['s3_filename'])\n",
    "\n",
    "context = {'fotos':lista_fotos_inline}\n",
    "\n",
    "doc.render(context)\n",
    "file_name = 'SEMANA - ' + semana\n",
    "doc.save(ruta + '/_' + file_name + '.docx')"
   ]
  }
 ],
 "metadata": {
  "kernelspec": {
   "display_name": "Python 3 (ipykernel)",
   "language": "python",
   "name": "python3"
  },
  "language_info": {
   "codemirror_mode": {
    "name": "ipython",
    "version": 3
   },
   "file_extension": ".py",
   "mimetype": "text/x-python",
   "name": "python",
   "nbconvert_exporter": "python",
   "pygments_lexer": "ipython3",
   "version": "3.7.11"
  }
 },
 "nbformat": 4,
 "nbformat_minor": 5
}
