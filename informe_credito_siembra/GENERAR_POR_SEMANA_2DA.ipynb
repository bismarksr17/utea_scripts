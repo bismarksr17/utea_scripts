{
 "cells": [
  {
   "cell_type": "code",
   "execution_count": 1,
   "id": "6658e010-c382-4e03-a45a-67c832b35ef9",
   "metadata": {},
   "outputs": [],
   "source": [
    "# werkzeug\n",
    "# shapely=1.7.1\n",
    "# geopandas\n",
    "# pandas\n",
    "# contextily\n",
    "# matplotlib\n",
    "# docxtpl\n",
    "# docx"
   ]
  },
  {
   "cell_type": "code",
   "execution_count": 1,
   "id": "8c292c7c-2591-4985-93c8-88314bca3d5a",
   "metadata": {},
   "outputs": [],
   "source": [
    "import sys\n",
    "sys.path.append('../_amigocloud')"
   ]
  },
  {
   "cell_type": "code",
   "execution_count": 2,
   "id": "665919a4-6184-4280-8c4c-64588f9131d6",
   "metadata": {},
   "outputs": [],
   "source": [
    "from werkzeug.wrappers import Request, Response\n",
    "from jinja2 import Template\n",
    "\n",
    "from datetime import datetime, timedelta\n",
    "\n",
    "import collections\n",
    "from amigocloud import AmigoCloud\n",
    "\n",
    "from datetime import datetime\n",
    "\n",
    "from shapely import wkb\n",
    "import geopandas\n",
    "import pandas as pd\n",
    "import contextily as ctx\n",
    "import matplotlib.pyplot as plt\n",
    "\n",
    "from docxtpl import DocxTemplate\n",
    "import docxtpl\n",
    "from docx.shared import Mm\n",
    "import requests\n",
    "\n",
    "import qrcode\n",
    "\n",
    "def convertir_wkb(wkb_data):\n",
    "    return wkb.loads(wkb_data, hex=True)"
   ]
  },
  {
   "cell_type": "code",
   "execution_count": 3,
   "id": "057998b9-c93b-4559-87c9-e82742149a8a",
   "metadata": {},
   "outputs": [],
   "source": [
    "# ruta de carpera donde estan las llaves\n",
    "ruta = open('../ruta.txt')\n",
    "ruta = ruta.readlines()[0]"
   ]
  },
  {
   "cell_type": "code",
   "execution_count": 4,
   "id": "f78ec737-093c-44bb-a782-1af54be4a65f",
   "metadata": {},
   "outputs": [
    {
     "data": {
      "text/plain": [
       "<amigocloud.AmigoCloud at 0x1c6fd727b80>"
      ]
     },
     "execution_count": 4,
     "metadata": {},
     "output_type": "execute_result"
    }
   ],
   "source": [
    "# leer token\n",
    "acceso = open(ruta + '/_keys/api_amigocloud.key','r')\n",
    "api_token = acceso.readlines()[0]\n",
    "acceso.close()\n",
    "amigocloud = AmigoCloud(token=api_token)\n",
    "amigocloud"
   ]
  },
  {
   "cell_type": "code",
   "execution_count": 5,
   "id": "671335c0-f848-4ced-9199-d1000c19c39b",
   "metadata": {},
   "outputs": [],
   "source": [
    "def generar_reporte(codigo_canhero):\n",
    "    # EXTRAER DATOS DE CREDITO\n",
    "    query_credito = {'query': 'select * from dataset_307560 where cast(SPLIT_PART(canhero, \\'/\\', 1) as integer) = {cod_ca}'.format(cod_ca=codigo_canhero)}\n",
    "    credito_select = amigocloud.get('https://app.amigocloud.com/api/v1/projects/32672/sql', query_credito)\n",
    "    credito_data = credito_select['data'][0]\n",
    "    credito_data['fecha_informe'] = (datetime.strptime(credito_data['fecha_2da_insp'].split(' ')[0], '%Y-%m-%d') + timedelta(days=1)).strftime('%d/%m/%Y')\n",
    "    credito_data['fecha_2da_insp'] = datetime.strptime(credito_data['fecha_2da_insp'].split(' ')[0], '%Y-%m-%d').strftime('%d/%m/%Y')\n",
    "    credito = collections.namedtuple(\"credito\", credito_data.keys())(*credito_data.values())\n",
    "\n",
    "    # EXTRAER DATOS DE PROPIEDADES\n",
    "    query_propiedades = {'query': 'select * from dataset_307562 where insp_ref_prop = \\'{insp_ref_prop}\\''.format(insp_ref_prop=credito.amigo_id)}\n",
    "    propiedades_select = amigocloud.get('https://app.amigocloud.com/api/v1/projects/32672/sql', query_propiedades)\n",
    "    propiedades_data = propiedades_select['data']\n",
    "\n",
    "    # EXTRAER DATOS DE LOTES\n",
    "    propiedades = []\n",
    "    for prop in propiedades_data:\n",
    "        prop['lotes'] = []\n",
    "        query_lotes = {'query': 'select * from dataset_307563 where prop_ref_lote=\\'{prop_ref_lote}\\''.format(prop_ref_lote=prop['amigo_id'])}\n",
    "        lotes_select = amigocloud.get('https://app.amigocloud.com/api/v1/projects/32672/sql', query_lotes)\n",
    "        for lote_select in lotes_select['data']:\n",
    "            lote = collections.namedtuple(\"lote\", lote_select.keys())(*lote_select.values())\n",
    "            prop['lotes'].append(lote)\n",
    "        propiedades.append(collections.namedtuple(\"propiedad\", prop.keys())(*prop.values()))\n",
    "\n",
    "    # EXTRAER FOTOS\n",
    "    fotos = []\n",
    "    for propiedad in propiedades:\n",
    "        for lote in propiedad.lotes:\n",
    "            print(lote.lote, lote.amigo_id)\n",
    "            query_fotos = {'query': 'select source_amigo_id, s3_filename from gallery_48961 where source_amigo_id=\\'{source_amigo_id}\\''.format(source_amigo_id=lote.amigo_id)}\n",
    "            fotos_filename = amigocloud.get('https://app.amigocloud.com/api/v1/projects/32672/sql', query_fotos)\n",
    "            if fotos_filename['data'] != []:\n",
    "                dic = {'lote': lote.lote, 'file_name': fotos_filename['data'][0]['s3_filename']}\n",
    "                fotos.append(dic)\n",
    "\n",
    "    # GENERERAR PLANOS\n",
    "    i = 0\n",
    "    lista_planos = []\n",
    "    for propiedad in propiedades:\n",
    "        i = i + 1\n",
    "        lista_planos.append(generar_plano(propiedad, i))\n",
    "    \n",
    "    \n",
    "    # GENERAR QR\n",
    "    texto = '''\n",
    "--UTEA--\n",
    "--2DA INSPECCION CREDITO SIEMBRA--\n",
    "\n",
    "Codigo de Inspeccion: {cite}\n",
    "Fecha de 2da Inspeccion: {fecha}\n",
    "Nombre de Canero: {canero}\n",
    "Codigo Canero: {cod_ca}\n",
    "Total Solicitado: {soli}\n",
    "Total Area Insp.: {total_area} ha\n",
    "Estado de Insp.: {estado}\n",
    "Tecnico Responsable: {tecnico}'''\\\n",
    "    .format(\n",
    "        cite=str(credito.cite_2da_insp) + '-' + credito.fecha_2da_insp.split('/')[2], \n",
    "        fecha=credito.fecha_2da_insp, \n",
    "        canero=credito.canhero.split(' / ')[1],\n",
    "        cod_ca=credito.canhero.split(' / ')[0],\n",
    "        soli=credito.solicitado,\n",
    "        total_area=credito.total_2da_insp,\n",
    "        estado=credito.estado_2da_insp,\n",
    "        tecnico=credito.respon_2da_insp)\n",
    "    # Generar el código QR\n",
    "    qr = qrcode.QRCode(\n",
    "        version=1,\n",
    "        error_correction=qrcode.constants.ERROR_CORRECT_L,\n",
    "        box_size=10,\n",
    "        border=4,\n",
    "    )\n",
    "    qr.add_data(texto)\n",
    "    qr.make(fit=True)\n",
    "    \n",
    "    qr_img = qr.make_image(fill_color=\"black\", back_color=\"white\")\n",
    "    \n",
    "    cod_ca = credito.canhero.split(' / ')[0]\n",
    "    nom_ca = credito.canhero.split(' / ')[1]\n",
    "    filename_qr = \"qr_\" + cod_ca + '_CRS_' + credito.fecha_informe.replace('/', '-') + '_' + nom_ca\n",
    "    ruta_qr = ruta + '/planos/' + filename_qr + '.png'\n",
    "    # Guardar el código QR en un archivo\n",
    "    qr_img.save(ruta_qr)\n",
    "\n",
    "    # GENERAR REPORTE\n",
    "    doc = DocxTemplate(ruta + \"/templates/tpl_inf_credito_2da.docx\")\n",
    "    #generar lista de InlineImage de planos \n",
    "    lista_InlineImage = []\n",
    "    for plano in lista_planos:\n",
    "        lista_InlineImage.append(docxtpl.InlineImage(doc, image_descriptor=plano, width=Mm(150)))\n",
    "    #descargar fotos y generar lista InlineImage\n",
    "    lista_fotos_inline = []\n",
    "    for foto in fotos:\n",
    "        #response = requests.get(\"https://www-amigocloud.s3.amazonaws.com/gallery/\" + foto['file_name'])\n",
    "        response = requests.get(\"https://www-amigocloud.s3.amazonaws.com/gallery/\" + foto['file_name'])\n",
    "        file = open(ruta + '/fotos/' + foto['file_name'], \"wb\")\n",
    "        file.write(response.content)\n",
    "        file.close()\n",
    "        lista_fotos_inline.append({'foto': docxtpl.InlineImage(doc, image_descriptor=ruta+'/fotos/' + foto['file_name'], width=Mm(120)), 'lote': foto['lote']})\n",
    "    firma_respon = None\n",
    "    if credito.respon_2da_insp == 'Rogelio Acuña Rodríguez':\n",
    "        firma_respon = docxtpl.InlineImage(doc, image_descriptor=ruta+'/templates/firma_rogelio.png', width=Mm(60))\n",
    "    else:\n",
    "        firma_respon = docxtpl.InlineImage(doc, image_descriptor=ruta+'/templates/firma_jaldin.png', width=Mm(60))\n",
    "    # se crea obj inline par imagen QR\n",
    "    qr_file = docxtpl.InlineImage(doc, image_descriptor=ruta_qr, width=Mm(30))\n",
    "    \n",
    "    context = {'credito':credito, 'propiedades':propiedades, 'planos':lista_InlineImage, 'fotos':lista_fotos_inline, 'firma':firma_respon, 'qr':qr_file}\n",
    "    doc.render(context)\n",
    "    cod_ca = credito.canhero.split(' / ')[0]\n",
    "    nom_ca = credito.canhero.split(' / ')[1]\n",
    "    print(credito)\n",
    "    file_name = \"_\" + cod_ca + '_CRS_' + credito.fecha_informe.replace('/', '-') + '_' + nom_ca\n",
    "    doc.save(ruta + '/informes/' + file_name + '.docx')"
   ]
  },
  {
   "cell_type": "code",
   "execution_count": 6,
   "id": "f90ffde3-b794-45c0-a48e-f69a592752af",
   "metadata": {},
   "outputs": [],
   "source": [
    "def generar_plano(propiedad, i):\n",
    "    lotes_lista = []\n",
    "    for lote in propiedad.lotes:\n",
    "        lotes_lista.append(lote._asdict())\n",
    "    df = pd.DataFrame(lotes_lista)\n",
    "    df['geometria'] = df['geometria'].apply(convertir_wkb)\n",
    "\n",
    "    #Convertir a GeoDataFrame\n",
    "    data = geopandas.GeoDataFrame(df, geometry='geometria')\n",
    "    #data\n",
    "    #ctx.add_basemap(ax, source=ctx.providers.Esri.WorldImagery)\n",
    "\n",
    "    data['coords'] = data['geometria'].apply(lambda x: x.representative_point().coords[:])\n",
    "    data['coords'] = [coords[0] for coords in data['coords']]\n",
    "\n",
    "    data.crs = \"EPSG:4326\"\n",
    "    data = data.to_crs(epsg=3857)\n",
    "\n",
    "    \n",
    "    fig = plt.figure(i, figsize=(20,20))\n",
    "    #fig = plt.figure(1)\n",
    "    ax = None\n",
    "    ax = fig.add_subplot()\n",
    "\n",
    "    #data.set_crs(epsg=4326, inplace=True)\n",
    "\n",
    "    data.apply(lambda x: ax.annotate(text=x.lote + ' \\n' + str(x.superficie) + ' ha', xy=x.geometria.centroid.coords[0], ha='center', va='center', color='black', fontsize=12, weight=1000, bbox=dict(facecolor=(1,1,1,0.3), edgecolor='none', pad=0)), axis=1);\n",
    "\n",
    "    #data.boundary.plot(ax=ax, color=(0,0,0,0), linewidth=0)\n",
    "\n",
    "    #data = data.to_crs(epsg=3857)\n",
    "\n",
    "    minx, miny, maxx, maxy = data.total_bounds\n",
    "    ax.set_xlim(minx - 500, maxx + 500)\n",
    "    ax.set_ylim(miny - 400, maxy + 400)\n",
    "\n",
    "    data.plot(ax=ax, edgecolor='r', facecolor=(0,0,0,0), linewidth=2, figsize=(20,20))\n",
    "    #data.plot(ax=ax, edgecolor='r', facecolor=(0,0,0,0), linewidth=2)\n",
    "    \n",
    "    ctx.add_basemap(ax, source=ctx.providers.Esri.WorldImagery)\n",
    "    ax.set_axis_off()\n",
    "    ax.set_title(str(propiedad.propiedad), fontsize=20)\n",
    "    path = ruta+'/planos/' + str(propiedad.amigo_id) + '.jpeg'\n",
    "    fig.savefig(path, dpi = 300, bbox_inches='tight')\n",
    "    plt.clf()\n",
    "    return path"
   ]
  },
  {
   "cell_type": "code",
   "execution_count": 7,
   "id": "e4cd18b4-2c5c-4d42-a40a-7f98bb6650d4",
   "metadata": {},
   "outputs": [],
   "source": [
    "semana = 'S19'\n",
    "query = {'query': 'select split_part(canhero, \\' / \\', 1) cod, split_part(canhero, \\' / \\', 2) nom from dataset_307560 where semana_2da = \\'{sem}\\''.format(sem=semana)}\n",
    "project = 'https://app.amigocloud.com/api/v1/projects/32672/sql'\n",
    "select = amigocloud.get(project, query)\n",
    "data = select['data']"
   ]
  },
  {
   "cell_type": "code",
   "execution_count": 8,
   "id": "4cb06cb9-c4eb-42ca-acf9-6156d769042b",
   "metadata": {},
   "outputs": [
    {
     "data": {
      "text/plain": [
       "[{'cod': '18070', 'nom': 'VILA SORIA MARIBEL'},\n",
       " {'cod': '446', 'nom': 'AGUILERA ANEZ JHONNY'},\n",
       " {'cod': '5006', 'nom': 'GARCIA MARISCAL MILTON FELIX'},\n",
       " {'cod': '633', 'nom': 'AGROP. VICENTE ROCA GIL SRL'},\n",
       " {'cod': '2626', 'nom': 'CONDORI QUEVEDO JORGE'},\n",
       " {'cod': '5421', 'nom': 'HUBBAUER HOYOS ENRIQUE'},\n",
       " {'cod': '40148', 'nom': 'ROMERO LEON BEIMAR SALVADOR'},\n",
       " {'cod': '18088', 'nom': 'FRERKING ORTIZ RICARDO'},\n",
       " {'cod': '3378', 'nom': 'ESCOBAR MORATO VICTOR HUGO'},\n",
       " {'cod': '42025', 'nom': 'TRUJILLO CONDORI JAIME'},\n",
       " {'cod': '13763', 'nom': 'TUFINO SCHWENK RUBEN DARIO'},\n",
       " {'cod': '13652', 'nom': 'TENORIO CERMENO WILLIAMS'},\n",
       " {'cod': '4607', 'nom': 'GARCIA MARISCAL LEONCIO'},\n",
       " {'cod': '42239', 'nom': 'CORDOVA OLGUIN LEONARDO'},\n",
       " {'cod': '42266', 'nom': 'GARCIA PETRONILA MARISCAL VDA. DE'},\n",
       " {'cod': '42178', 'nom': 'CONDORI ORELLANA RUDDY'}]"
      ]
     },
     "execution_count": 8,
     "metadata": {},
     "output_type": "execute_result"
    }
   ],
   "source": [
    "data"
   ]
  },
  {
   "cell_type": "code",
   "execution_count": 9,
   "id": "c9643d6a-4861-4ed3-b9ba-619aeaaeba46",
   "metadata": {},
   "outputs": [],
   "source": [
    "#lista = [1068, 18062, 10739, 41955, 2392, 15162, 2517, 8706, 15085, 430, 874, 5498, 2505, 2274]\n",
    "lista = [int(i['cod']) for i in data]"
   ]
  },
  {
   "cell_type": "code",
   "execution_count": 10,
   "id": "59340321-ace8-43b3-832b-75a531664da5",
   "metadata": {},
   "outputs": [
    {
     "name": "stdout",
     "output_type": "stream",
     "text": [
      "16 informes\n"
     ]
    }
   ],
   "source": [
    "print(len(lista), 'informes')"
   ]
  },
  {
   "cell_type": "code",
   "execution_count": 12,
   "id": "66f18907-ce26-4932-b53a-4ef39be24c3c",
   "metadata": {},
   "outputs": [],
   "source": [
    "lista = [18070,\n",
    " 5006,\n",
    " 633,\n",
    " 2626,\n",
    " 5421,\n",
    " 40148,\n",
    " 18088,\n",
    " 3378,\n",
    " 42025,\n",
    " 13763,\n",
    " 13652,\n",
    " 4607,\n",
    " 42239,\n",
    " 42266,\n",
    " 42178]"
   ]
  },
  {
   "cell_type": "code",
   "execution_count": 13,
   "id": "70c4c82b-41de-461d-8a66-628ab505953f",
   "metadata": {},
   "outputs": [
    {
     "name": "stdout",
     "output_type": "stream",
     "text": [
      "L2 54589c7725434582b498e1f572a562c0\n",
      "L3 93787fb3b03b47e7a63895c057e85439\n",
      "L1 ac55c938d8d1475292545049c030b057\n",
      "credito(fecha_registro='2023-11-16 00:59:31.305131+00:00', amigo_id='44eee3b277ec4c0db0fa879fb39ee582', semana_1ra='S', semana_2da='S19', institucion=66, canhero='18070 / VILA SORIA MARIBEL', solicitado=60.0, total_1ra_insp=None, estado_1ra_insp='PENDIENTE', fecha_1ra_insp=None, cite_1ra_insp=None, respon_1ra_insp=None, obs_1ra=None, link_doc_1ra=None, total_2da_insp=23.62, estado_2da_insp='APROBADO', fecha_2da_insp='09/05/2024', cite_2da_insp=58, respon_2da_insp='Rogelio Acuña Rodríguez', obs_2da=None, link_doc_2da=None, total_nacido=None, total_no_nacido=None, muestreo=False, glifosato=True, nivelacion_1=False, drenaje=False, romeplow=True, rastra=True, subsolado=False, rotacion=True, arado=False, ferti_base=True, enraizadores=True, insecticidas=True, fungicidas=False, preemergente=True, fecha_actualizacion='2024-05-10 19:42:38.134875+00:00', fertilizacion=False, fungi_en_siem=False, insec_en_siem=False, promot_de_brota=False, pre_emergente=False, post_emergente=False, cultivado=False, ctrl_bio_tricho=False, insect_fisio_otros=False, ctrl_malezas=False, nivelacion_2=False, drenajes=False, financiamiento='IAG', id=283, total_sembrado_2da=23.62, semana_3ra=None, fecha_3ra_insp=None, total_3ra_insp=None, respon_3ra_insp=None, fecha_informe='10/05/2024')\n",
      "====================== 18070\n",
      "L1.3 a36279386e1a4b67b935f90219918971\n",
      "L1.2 a890785229e7462c97566ebe9ed0719e\n",
      "credito(fecha_registro='2023-11-16 00:59:31.305131+00:00', amigo_id='6614a25b84b24a74a2f91dedd82f20d5', semana_1ra='S51', semana_2da='S19', institucion=81, canhero='5006 / GARCIA MARISCAL MILTON FELIX', solicitado=3.0, total_1ra_insp=3.15, estado_1ra_insp='APROBADO', fecha_1ra_insp='2023-12-20 10:12:58+00:00', cite_1ra_insp=619, respon_1ra_insp='Rogelio Acuña Rodríguez', obs_1ra=None, link_doc_1ra='https://drive.google.com/file/d/1GMtUNks0eZIYl5P5XeZyNJOrtB_r6lyG/view?usp=drivesdk', total_2da_insp=3.72, estado_2da_insp='APROBADO', fecha_2da_insp='09/05/2024', cite_2da_insp=68, respon_2da_insp='Rogelio Acuña Rodríguez', obs_2da=None, link_doc_2da=None, total_nacido=None, total_no_nacido=None, muestreo=False, glifosato=True, nivelacion_1=False, drenaje=True, romeplow=True, rastra=True, subsolado=False, rotacion=False, arado=False, ferti_base=False, enraizadores=True, insecticidas=True, fungicidas=False, preemergente=True, fecha_actualizacion='2024-05-11 14:22:46.521894+00:00', fertilizacion=False, fungi_en_siem=False, insec_en_siem=False, promot_de_brota=False, pre_emergente=False, post_emergente=False, cultivado=False, ctrl_bio_tricho=False, insect_fisio_otros=False, ctrl_malezas=False, nivelacion_2=False, drenajes=False, financiamiento='IAG', id=422, total_sembrado_2da=3.72, semana_3ra=None, fecha_3ra_insp=None, total_3ra_insp=None, respon_3ra_insp=None, fecha_informe='10/05/2024')\n",
      "====================== 5006\n",
      "L6.4 37ca5ec97ce64f438711d3e7a3ed39ce\n",
      "L2.5 4aac1fb9a3ee4636a30c9cd9d9fc240a\n",
      "L7 37701764868c43aaae13bcdba2c344ef\n",
      "L12 d166cb25467e4f95a64dcec20a139859\n",
      "L16 df5d10acff8945cfb9978aee5ce00711\n",
      "L1 e633007c752b43cbb0aa72ab87d65b7b\n",
      "L13 978e3e1933134896b9af9cf7b2c39cfc\n",
      "credito(fecha_registro='2023-11-16 00:59:31.305131+00:00', amigo_id='6e0c4941db3c4e57ae7c040fcf109564', semana_1ra='S46', semana_2da='S19', institucion=40, canhero='633 / AGROP. VICENTE ROCA GIL SRL', solicitado=150.0, total_1ra_insp=158.11, estado_1ra_insp='APROBADO', fecha_1ra_insp='2023-11-16 14:34:37+00:00', cite_1ra_insp=514, respon_1ra_insp='Rogelio Acuña Rodríguez', obs_1ra=None, link_doc_1ra='https://drive.google.com/file/d/1B7Wpdtwhp4tdqqLWcnwgENrf109Z7Y0z/view?usp=drivesdk', total_2da_insp=152.69, estado_2da_insp='APROBADO', fecha_2da_insp='09/05/2024', cite_2da_insp=54, respon_2da_insp='Rogelio Acuña Rodríguez', obs_2da=None, link_doc_2da=None, total_nacido=None, total_no_nacido=None, muestreo=True, glifosato=True, nivelacion_1=True, drenaje=True, romeplow=True, rastra=True, subsolado=True, rotacion=True, arado=False, ferti_base=True, enraizadores=True, insecticidas=True, fungicidas=True, preemergente=True, fecha_actualizacion='2024-05-10 18:00:20.465822+00:00', fertilizacion=False, fungi_en_siem=False, insec_en_siem=False, promot_de_brota=False, pre_emergente=False, post_emergente=False, cultivado=False, ctrl_bio_tricho=False, insect_fisio_otros=False, ctrl_malezas=False, nivelacion_2=False, drenajes=False, financiamiento='IAG', id=272, total_sembrado_2da=82.5, semana_3ra=None, fecha_3ra_insp=None, total_3ra_insp=None, respon_3ra_insp=None, fecha_informe='10/05/2024')\n",
      "====================== 633\n",
      "L1 aaf75d948b7c4736aef0379f91e067c6\n",
      "credito(fecha_registro='2023-11-16 00:59:31.305131+00:00', amigo_id='6cc87214e80c4783abf43a4bc8a4e9d1', semana_1ra='S', semana_2da='S19', institucion=8, canhero='2626 / CONDORI QUEVEDO JORGE', solicitado=20.0, total_1ra_insp=None, estado_1ra_insp='PENDIENTE', fecha_1ra_insp=None, cite_1ra_insp=None, respon_1ra_insp=None, obs_1ra=None, link_doc_1ra=None, total_2da_insp=21.84, estado_2da_insp='APROBADO', fecha_2da_insp='09/05/2024', cite_2da_insp=56, respon_2da_insp='Rogelio Acuña Rodríguez', obs_2da=None, link_doc_2da=None, total_nacido=None, total_no_nacido=None, muestreo=False, glifosato=True, nivelacion_1=False, drenaje=True, romeplow=True, rastra=True, subsolado=False, rotacion=True, arado=False, ferti_base=False, enraizadores=True, insecticidas=True, fungicidas=False, preemergente=True, fecha_actualizacion='2024-05-10 19:14:31.606653+00:00', fertilizacion=False, fungi_en_siem=False, insec_en_siem=False, promot_de_brota=False, pre_emergente=False, post_emergente=False, cultivado=False, ctrl_bio_tricho=False, insect_fisio_otros=False, ctrl_malezas=False, nivelacion_2=False, drenajes=False, financiamiento='IAG', id=331, total_sembrado_2da=21.84, semana_3ra=None, fecha_3ra_insp=None, total_3ra_insp=None, respon_3ra_insp=None, fecha_informe='10/05/2024')\n",
      "====================== 2626\n",
      "L6 d0bb00c075e64cfe81f616f52e66f3a7\n",
      "L7.2 8adba747ddfe432d9a40368dc9f5d6a9\n",
      "L9.1 c411ba095ed946c4b46ba3fe02a6f0e2\n",
      "credito(fecha_registro='2023-11-16 00:59:31.305131+00:00', amigo_id='49f4726f5cad425f9349f6c453aeb971', semana_1ra='S51', semana_2da='S19', institucion=62, canhero='5421 / HUBBAUER HOYOS ENRIQUE', solicitado=8.0, total_1ra_insp=7.38, estado_1ra_insp='APROBADO', fecha_1ra_insp='2023-12-20 10:02:58+00:00', cite_1ra_insp=618, respon_1ra_insp='Rogelio Acuña Rodríguez', obs_1ra=None, link_doc_1ra='https://drive.google.com/file/d/18-sQbl1WVcmM_3OADwXU7q-EGKC5nJ9g/view?usp=drivesdk', total_2da_insp=7.41, estado_2da_insp='APROBADO', fecha_2da_insp='08/05/2024', cite_2da_insp=59, respon_2da_insp='Rogelio Acuña Rodríguez', obs_2da=None, link_doc_2da=None, total_nacido=None, total_no_nacido=None, muestreo=False, glifosato=False, nivelacion_1=False, drenaje=False, romeplow=True, rastra=True, subsolado=False, rotacion=True, arado=False, ferti_base=False, enraizadores=True, insecticidas=False, fungicidas=False, preemergente=True, fecha_actualizacion='2024-05-10 20:20:55.245645+00:00', fertilizacion=False, fungi_en_siem=False, insec_en_siem=False, promot_de_brota=False, pre_emergente=False, post_emergente=False, cultivado=False, ctrl_bio_tricho=False, insect_fisio_otros=False, ctrl_malezas=False, nivelacion_2=False, drenajes=False, financiamiento='IAG', id=389, total_sembrado_2da=7.41, semana_3ra=None, fecha_3ra_insp=None, total_3ra_insp=None, respon_3ra_insp=None, fecha_informe='09/05/2024')\n",
      "====================== 5421\n",
      "L6 0de184082aa14329bc85f298d8a680d0\n",
      "L6 2db263e4da8a44e08f7960d12792a7ce\n",
      "credito(fecha_registro='2023-11-16 00:59:31.305131+00:00', amigo_id='93162c6255954e8588084dc5b1fdb5c6', semana_1ra='S49', semana_2da='S19', institucion=66, canhero='40148 / ROMERO LEON BEIMAR SALVADOR', solicitado=30.0, total_1ra_insp=32.98, estado_1ra_insp='NEGADO', fecha_1ra_insp='2023-12-06 19:43:34+00:00', cite_1ra_insp=585, respon_1ra_insp='Rogelio Acuña Rodríguez', obs_1ra='MALEZA ALTA SIN NINGUN PREPARO DEL TERRENO', link_doc_1ra='https://drive.google.com/file/d/1Q2y7Xgy0xQhGv10LXzefaqqEOSchc_sR/view?usp=drivesdk', total_2da_insp=33.74, estado_2da_insp='APROBADO', fecha_2da_insp='08/05/2024', cite_2da_insp=65, respon_2da_insp='Rogelio Acuña Rodríguez', obs_2da=None, link_doc_2da=None, total_nacido=None, total_no_nacido=None, muestreo=False, glifosato=False, nivelacion_1=False, drenaje=False, romeplow=True, rastra=True, subsolado=False, rotacion=False, arado=False, ferti_base=False, enraizadores=True, insecticidas=True, fungicidas=False, preemergente=True, fecha_actualizacion='2024-05-11 12:55:22.246742+00:00', fertilizacion=False, fungi_en_siem=False, insec_en_siem=False, promot_de_brota=False, pre_emergente=False, post_emergente=False, cultivado=False, ctrl_bio_tricho=False, insect_fisio_otros=False, ctrl_malezas=False, nivelacion_2=False, drenajes=False, financiamiento='IAG', id=308, total_sembrado_2da=19.09, semana_3ra=None, fecha_3ra_insp=None, total_3ra_insp=None, respon_3ra_insp=None, fecha_informe='09/05/2024')\n",
      "====================== 40148\n",
      "L10.1 19752ba2fa5543a8bc01f7735f4c98bc\n",
      "L2.2 841ab51a2ec642ee8ae8df3082cb2818\n",
      "L11 6b350404297f4ae1a9976997b6109719\n",
      "L12 be0063688e90442a80686a2983c287f1\n",
      "credito(fecha_registro='2023-11-16 00:59:31.305131+00:00', amigo_id='f72a13f2984d4b39ab791b396810b054', semana_1ra='S50', semana_2da='S19', institucion=69, canhero='18088 / FRERKING ORTIZ RICARDO', solicitado=40.0, total_1ra_insp=26.72, estado_1ra_insp='APROBADO', fecha_1ra_insp='2023-12-14 13:04:50+00:00', cite_1ra_insp=609, respon_1ra_insp='Juan Pablo Jaldin Duran', obs_1ra='SE SEMBRO CON SORGO Y MAIZ PARA ROTACION DE CULTIVO', link_doc_1ra='https://drive.google.com/file/d/1boSiiFOQqN4ntuTfcnOIEaf8LT2QuvFv/view?usp=drivesdk', total_2da_insp=32.08, estado_2da_insp='APROBADO', fecha_2da_insp='07/05/2024', cite_2da_insp=60, respon_2da_insp='Rogelio Acuña Rodríguez', obs_2da=None, link_doc_2da=None, total_nacido=None, total_no_nacido=None, muestreo=True, glifosato=True, nivelacion_1=True, drenaje=False, romeplow=True, rastra=True, subsolado=False, rotacion=True, arado=True, ferti_base=True, enraizadores=True, insecticidas=True, fungicidas=True, preemergente=True, fecha_actualizacion='2024-05-11 12:07:38.928612+00:00', fertilizacion=False, fungi_en_siem=False, insec_en_siem=False, promot_de_brota=False, pre_emergente=False, post_emergente=False, cultivado=False, ctrl_bio_tricho=False, insect_fisio_otros=False, ctrl_malezas=False, nivelacion_2=False, drenajes=False, financiamiento='IAG', id=300, total_sembrado_2da=5.36, semana_3ra=None, fecha_3ra_insp=None, total_3ra_insp=None, respon_3ra_insp=None, fecha_informe='08/05/2024')\n",
      "====================== 18088\n",
      "L1 231dd628a8be4c60b1d6b045760541cf\n",
      "L1.1 1163f39d1b4f46318e1d75a16e389bc5\n",
      "credito(fecha_registro='2023-11-16 00:59:31.305131+00:00', amigo_id='bcae5b81a89d45bbb2e8d86dc92e1ce4', semana_1ra='S', semana_2da='S19', institucion=131, canhero='3378 / ESCOBAR MORATO VICTOR HUGO', solicitado=15.0, total_1ra_insp=None, estado_1ra_insp='PENDIENTE', fecha_1ra_insp=None, cite_1ra_insp=None, respon_1ra_insp=None, obs_1ra=None, link_doc_1ra=None, total_2da_insp=11.92, estado_2da_insp='APROBADO', fecha_2da_insp='09/05/2024', cite_2da_insp=62, respon_2da_insp='Rogelio Acuña Rodríguez', obs_2da=None, link_doc_2da=None, total_nacido=None, total_no_nacido=None, muestreo=False, glifosato=False, nivelacion_1=False, drenaje=False, romeplow=True, rastra=True, subsolado=False, rotacion=False, arado=False, ferti_base=False, enraizadores=True, insecticidas=True, fungicidas=False, preemergente=True, fecha_actualizacion='2024-05-11 12:30:40.759766+00:00', fertilizacion=False, fungi_en_siem=False, insec_en_siem=False, promot_de_brota=False, pre_emergente=False, post_emergente=False, cultivado=False, ctrl_bio_tricho=False, insect_fisio_otros=False, ctrl_malezas=False, nivelacion_2=False, drenajes=False, financiamiento='IAG', id=351, total_sembrado_2da=10.02, semana_3ra=None, fecha_3ra_insp=None, total_3ra_insp=None, respon_3ra_insp=None, fecha_informe='10/05/2024')\n",
      "====================== 3378\n",
      "L1 697ae96540d148e6a954e9359c549b19\n",
      "L2 1ef5c63524ef43118980be1c0a0950c0\n",
      "credito(fecha_registro='2023-11-16 00:59:31.305131+00:00', amigo_id='d21b9540cf1c438da87a3595a7545872', semana_1ra='S', semana_2da='S19', institucion=102, canhero='42025 / TRUJILLO CONDORI JAIME', solicitado=17.0, total_1ra_insp=None, estado_1ra_insp='PENDIENTE', fecha_1ra_insp=None, cite_1ra_insp=None, respon_1ra_insp=None, obs_1ra=None, link_doc_1ra=None, total_2da_insp=15.2, estado_2da_insp='APROBADO', fecha_2da_insp='09/05/2024', cite_2da_insp=56, respon_2da_insp='Rogelio Acuña Rodríguez', obs_2da=None, link_doc_2da=None, total_nacido=None, total_no_nacido=None, muestreo=False, glifosato=True, nivelacion_1=False, drenaje=True, romeplow=True, rastra=True, subsolado=False, rotacion=True, arado=False, ferti_base=False, enraizadores=True, insecticidas=True, fungicidas=False, preemergente=True, fecha_actualizacion='2024-05-10 18:56:00.163375+00:00', fertilizacion=False, fungi_en_siem=False, insec_en_siem=False, promot_de_brota=False, pre_emergente=False, post_emergente=False, cultivado=False, ctrl_bio_tricho=False, insect_fisio_otros=False, ctrl_malezas=False, nivelacion_2=False, drenajes=False, financiamiento='IAG', id=343, total_sembrado_2da=6.83, semana_3ra=None, fecha_3ra_insp=None, total_3ra_insp=None, respon_3ra_insp=None, fecha_informe='10/05/2024')\n",
      "====================== 42025\n",
      "L4.1 5f6b53128ac54fc3b615cd0fafdaf87c\n",
      "L3.3 476fc981b75443429329937953af32f9\n",
      "L2.2 99f65b71d9d84f19b6d5849fd1c14fd8\n",
      "credito(fecha_registro='2023-11-16 00:59:31.305131+00:00', amigo_id='e13a198138354bbb92a79c892764e496', semana_1ra='S', semana_2da='S19', institucion=50, canhero='13763 / TUFINO SCHWENK RUBEN DARIO', solicitado=10.0, total_1ra_insp=None, estado_1ra_insp='PENDIENTE', fecha_1ra_insp=None, cite_1ra_insp=None, respon_1ra_insp=None, obs_1ra=None, link_doc_1ra=None, total_2da_insp=13.73, estado_2da_insp='APROBADO', fecha_2da_insp='07/05/2024', cite_2da_insp=61, respon_2da_insp='Rogelio Acuña Rodríguez', obs_2da=None, link_doc_2da=None, total_nacido=None, total_no_nacido=None, muestreo=False, glifosato=False, nivelacion_1=False, drenaje=False, romeplow=True, rastra=True, subsolado=False, rotacion=False, arado=False, ferti_base=True, enraizadores=True, insecticidas=True, fungicidas=True, preemergente=True, fecha_actualizacion='2024-05-11 12:15:12.033567+00:00', fertilizacion=False, fungi_en_siem=False, insec_en_siem=False, promot_de_brota=False, pre_emergente=False, post_emergente=False, cultivado=False, ctrl_bio_tricho=False, insect_fisio_otros=False, ctrl_malezas=False, nivelacion_2=False, drenajes=False, financiamiento='IAG', id=371, total_sembrado_2da=13.73, semana_3ra=None, fecha_3ra_insp=None, total_3ra_insp=None, respon_3ra_insp=None, fecha_informe='08/05/2024')\n",
      "====================== 13763\n",
      "L5.2 326b21fffae649148ac9fa4f2ac320b4\n",
      "L2 6ce33a0bceec447186b3b2f382bcf614\n",
      "L3 56ab5ce954954fe9bfc2da60749c5511\n",
      "L1 bcbaebd7bb4d4938bc6142685a5585a7\n",
      "credito(fecha_registro='2023-11-16 00:59:31.305131+00:00', amigo_id='2bac0db84b524f71b376eb509a658456', semana_1ra='S', semana_2da='S19', institucion=81, canhero='13652 / TENORIO CERMENO WILLIAMS', solicitado=5.0, total_1ra_insp=None, estado_1ra_insp='PENDIENTE', fecha_1ra_insp=None, cite_1ra_insp=None, respon_1ra_insp=None, obs_1ra=None, link_doc_1ra=None, total_2da_insp=3.84, estado_2da_insp='APROBADO', fecha_2da_insp='09/05/2024', cite_2da_insp=67, respon_2da_insp='Rogelio Acuña Rodríguez', obs_2da=None, link_doc_2da=None, total_nacido=None, total_no_nacido=None, muestreo=False, glifosato=False, nivelacion_1=False, drenaje=False, romeplow=True, rastra=True, subsolado=False, rotacion=True, arado=False, ferti_base=False, enraizadores=True, insecticidas=True, fungicidas=False, preemergente=True, fecha_actualizacion='2024-05-11 13:56:46.262853+00:00', fertilizacion=False, fungi_en_siem=False, insec_en_siem=False, promot_de_brota=False, pre_emergente=False, post_emergente=False, cultivado=False, ctrl_bio_tricho=False, insect_fisio_otros=False, ctrl_malezas=False, nivelacion_2=False, drenajes=False, financiamiento='IAG', id=407, total_sembrado_2da=3.84, semana_3ra=None, fecha_3ra_insp=None, total_3ra_insp=None, respon_3ra_insp=None, fecha_informe='10/05/2024')\n",
      "====================== 13652\n",
      "L2.3 e40ce07765584ef0909c7c842bcee53a\n",
      "credito(fecha_registro='2023-11-16 00:59:31.305131+00:00', amigo_id='aa8d07e2fe584b28ba64821bf7c1214c', semana_1ra='S', semana_2da='S19', institucion=81, canhero='4607 / GARCIA MARISCAL LEONCIO', solicitado=2.0, total_1ra_insp=None, estado_1ra_insp='PENDIENTE', fecha_1ra_insp=None, cite_1ra_insp=None, respon_1ra_insp=None, obs_1ra=None, link_doc_1ra=None, total_2da_insp=2.24, estado_2da_insp='APROBADO', fecha_2da_insp='09/05/2024', cite_2da_insp=69, respon_2da_insp='Rogelio Acuña Rodríguez', obs_2da=None, link_doc_2da=None, total_nacido=None, total_no_nacido=None, muestreo=False, glifosato=True, nivelacion_1=False, drenaje=False, romeplow=True, rastra=True, subsolado=False, rotacion=False, arado=False, ferti_base=False, enraizadores=True, insecticidas=True, fungicidas=False, preemergente=True, fecha_actualizacion='2024-05-11 14:25:04.217014+00:00', fertilizacion=False, fungi_en_siem=False, insec_en_siem=False, promot_de_brota=False, pre_emergente=False, post_emergente=False, cultivado=False, ctrl_bio_tricho=False, insect_fisio_otros=False, ctrl_malezas=False, nivelacion_2=False, drenajes=False, financiamiento='IAG', id=432, total_sembrado_2da=2.24, semana_3ra=None, fecha_3ra_insp=None, total_3ra_insp=None, respon_3ra_insp=None, fecha_informe='10/05/2024')\n",
      "====================== 4607\n",
      "L4.1 f4aa76654d804f13b9b037a2710a3d45\n",
      "L2.5 6aaf2886ebad43b6be798d26b38ea613\n",
      "L2.2 e0e79f13206a42c0a269b795234d4eaf\n",
      "L3 eb3ea00aa4a742ba9958fb8a8b850612\n",
      "L1 aa6c87c433bb47279fa7a1e0cb7c1ced\n",
      "L1 a78cb3dbb8e44267b124c29370f1e14e\n",
      "L3 f89ab1cd5e1d4bffae8f94b4940701be\n",
      "L1.1 dfdb82813f09431d974ddbad78755922\n",
      "credito(fecha_registro='2023-11-16 00:59:31.305131+00:00', amigo_id='7a22303ffa0748109aa2d34cccf0fe78', semana_1ra='S49', semana_2da='S19', institucion=81, canhero='42239 / CORDOVA OLGUIN LEONARDO', solicitado=30.0, total_1ra_insp=25.71, estado_1ra_insp='APROBADO', fecha_1ra_insp='2023-12-06 11:45:04+00:00', cite_1ra_insp=581, respon_1ra_insp='Rogelio Acuña Rodríguez', obs_1ra=None, link_doc_1ra='https://drive.google.com/file/d/14O0RrlIUyYl_8DUQRFgeihNosxhxw_6f/view?usp=drivesdk', total_2da_insp=28.04, estado_2da_insp='APROBADO', fecha_2da_insp='08/05/2024', cite_2da_insp=66, respon_2da_insp='Rogelio Acuña Rodríguez', obs_2da=None, link_doc_2da=None, total_nacido=None, total_no_nacido=None, muestreo=False, glifosato=False, nivelacion_1=True, drenaje=True, romeplow=True, rastra=True, subsolado=False, rotacion=True, arado=False, ferti_base=True, enraizadores=True, insecticidas=True, fungicidas=True, preemergente=True, fecha_actualizacion='2024-05-11 13:42:40.763352+00:00', fertilizacion=False, fungi_en_siem=False, insec_en_siem=False, promot_de_brota=False, pre_emergente=False, post_emergente=False, cultivado=False, ctrl_bio_tricho=False, insect_fisio_otros=False, ctrl_malezas=False, nivelacion_2=False, drenajes=False, financiamiento='IAG', id=312, total_sembrado_2da=26.67, semana_3ra=None, fecha_3ra_insp=None, total_3ra_insp=None, respon_3ra_insp=None, fecha_informe='09/05/2024')\n",
      "====================== 42239\n",
      "L2.4 bb1735abd8a343198c39f523d0502cab\n",
      "L1.2 9e6a2b99311e4e0ca2c30398622d636c\n",
      "credito(fecha_registro='2023-11-16 00:59:31.305131+00:00', amigo_id='f9f4b62f0fda4e1da04149b2012784ea', semana_1ra='S', semana_2da='S19', institucion=81, canhero='42266 / GARCIA PETRONILA MARISCAL VDA. DE', solicitado=3.0, total_1ra_insp=None, estado_1ra_insp='PENDIENTE', fecha_1ra_insp=None, cite_1ra_insp=None, respon_1ra_insp=None, obs_1ra=None, link_doc_1ra=None, total_2da_insp=4.74, estado_2da_insp='APROBADO', fecha_2da_insp='09/05/2024', cite_2da_insp=70, respon_2da_insp='Rogelio Acuña Rodríguez', obs_2da=None, link_doc_2da=None, total_nacido=None, total_no_nacido=None, muestreo=False, glifosato=True, nivelacion_1=False, drenaje=False, romeplow=True, rastra=True, subsolado=False, rotacion=False, arado=False, ferti_base=False, enraizadores=True, insecticidas=True, fungicidas=False, preemergente=True, fecha_actualizacion='2024-05-11 14:31:45.721484+00:00', fertilizacion=False, fungi_en_siem=False, insec_en_siem=False, promot_de_brota=False, pre_emergente=False, post_emergente=False, cultivado=False, ctrl_bio_tricho=False, insect_fisio_otros=False, ctrl_malezas=False, nivelacion_2=False, drenajes=False, financiamiento='IAG', id=423, total_sembrado_2da=4.74, semana_3ra=None, fecha_3ra_insp=None, total_3ra_insp=None, respon_3ra_insp=None, fecha_informe='10/05/2024')\n",
      "====================== 42266\n",
      "L2 b38953f439c44236ae40266b0d949d54\n",
      "L1 7bac2c6e93664b8eb64884dd0ca230ce\n",
      "L3 e2ff797af06841699a48c16e337b5c61\n",
      "credito(fecha_registro='2023-12-20 15:38:21.798012+00:00', amigo_id='42c3adfe5cf84e278a65b6c02571b580', semana_1ra='S', semana_2da='S19', institucion=102, canhero='42178 / CONDORI ORELLANA RUDDY', solicitado=44.0, total_1ra_insp=None, estado_1ra_insp='PENDIENTE', fecha_1ra_insp=None, cite_1ra_insp=None, respon_1ra_insp=None, obs_1ra=None, link_doc_1ra=None, total_2da_insp=25.97, estado_2da_insp='APROBADO', fecha_2da_insp='09/05/2024', cite_2da_insp=55, respon_2da_insp='Rogelio Acuña Rodríguez', obs_2da=None, link_doc_2da=None, total_nacido=None, total_no_nacido=None, muestreo=False, glifosato=True, nivelacion_1=False, drenaje=False, romeplow=True, rastra=True, subsolado=False, rotacion=True, arado=False, ferti_base=False, enraizadores=False, insecticidas=False, fungicidas=True, preemergente=True, fecha_actualizacion='2024-05-10 18:51:44.491105+00:00', fertilizacion=False, fungi_en_siem=False, insec_en_siem=False, promot_de_brota=False, pre_emergente=False, post_emergente=False, cultivado=False, ctrl_bio_tricho=False, insect_fisio_otros=False, ctrl_malezas=False, nivelacion_2=False, drenajes=False, financiamiento='IAG', id=445, total_sembrado_2da=25.97, semana_3ra=None, fecha_3ra_insp=None, total_3ra_insp=None, respon_3ra_insp=None, fecha_informe='10/05/2024')\n",
      "====================== 42178\n"
     ]
    },
    {
     "data": {
      "text/plain": [
       "<Figure size 2000x2000 with 0 Axes>"
      ]
     },
     "metadata": {},
     "output_type": "display_data"
    },
    {
     "data": {
      "text/plain": [
       "<Figure size 2000x2000 with 0 Axes>"
      ]
     },
     "metadata": {},
     "output_type": "display_data"
    },
    {
     "data": {
      "text/plain": [
       "<Figure size 2000x2000 with 0 Axes>"
      ]
     },
     "metadata": {},
     "output_type": "display_data"
    },
    {
     "data": {
      "text/plain": [
       "<Figure size 2000x2000 with 0 Axes>"
      ]
     },
     "metadata": {},
     "output_type": "display_data"
    },
    {
     "data": {
      "text/plain": [
       "<Figure size 2000x2000 with 0 Axes>"
      ]
     },
     "metadata": {},
     "output_type": "display_data"
    }
   ],
   "source": [
    "for i in lista:\n",
    "    generar_reporte(i)\n",
    "    print('======================', i)"
   ]
  }
 ],
 "metadata": {
  "kernelspec": {
   "display_name": "Python 3 (ipykernel)",
   "language": "python",
   "name": "python3"
  },
  "language_info": {
   "codemirror_mode": {
    "name": "ipython",
    "version": 3
   },
   "file_extension": ".py",
   "mimetype": "text/x-python",
   "name": "python",
   "nbconvert_exporter": "python",
   "pygments_lexer": "ipython3",
   "version": "3.10.13"
  }
 },
 "nbformat": 4,
 "nbformat_minor": 5
}
