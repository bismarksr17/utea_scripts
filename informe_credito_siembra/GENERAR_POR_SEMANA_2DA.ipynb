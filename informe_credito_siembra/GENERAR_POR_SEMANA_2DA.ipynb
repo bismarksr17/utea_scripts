{
 "cells": [
  {
   "cell_type": "code",
   "execution_count": 1,
   "id": "6658e010-c382-4e03-a45a-67c832b35ef9",
   "metadata": {},
   "outputs": [],
   "source": [
    "# werkzeug\n",
    "# shapely=1.7.1\n",
    "# geopandas\n",
    "# pandas\n",
    "# contextily\n",
    "# matplotlib\n",
    "# docxtpl\n",
    "# docx"
   ]
  },
  {
   "cell_type": "code",
   "execution_count": 14,
   "id": "8c292c7c-2591-4985-93c8-88314bca3d5a",
   "metadata": {},
   "outputs": [],
   "source": [
    "import sys\n",
    "sys.path.append('../_amigocloud')"
   ]
  },
  {
   "cell_type": "code",
   "execution_count": 15,
   "id": "665919a4-6184-4280-8c4c-64588f9131d6",
   "metadata": {},
   "outputs": [],
   "source": [
    "from werkzeug.wrappers import Request, Response\n",
    "from jinja2 import Template\n",
    "\n",
    "from datetime import datetime, timedelta\n",
    "\n",
    "import collections\n",
    "from amigocloud import AmigoCloud\n",
    "\n",
    "from datetime import datetime\n",
    "\n",
    "from shapely import wkb\n",
    "import geopandas\n",
    "import pandas as pd\n",
    "import contextily as ctx\n",
    "import matplotlib.pyplot as plt\n",
    "\n",
    "from docxtpl import DocxTemplate\n",
    "import docxtpl\n",
    "from docx.shared import Mm\n",
    "import requests\n",
    "\n",
    "import qrcode\n",
    "\n",
    "def convertir_wkb(wkb_data):\n",
    "    return wkb.loads(wkb_data, hex=True)"
   ]
  },
  {
   "cell_type": "code",
   "execution_count": 16,
   "id": "057998b9-c93b-4559-87c9-e82742149a8a",
   "metadata": {},
   "outputs": [],
   "source": [
    "# ruta de carpera donde estan las llaves\n",
    "ruta = open('../ruta.txt')\n",
    "ruta = ruta.readlines()[0]"
   ]
  },
  {
   "cell_type": "code",
   "execution_count": 17,
   "id": "f78ec737-093c-44bb-a782-1af54be4a65f",
   "metadata": {},
   "outputs": [
    {
     "data": {
      "text/plain": [
       "<amigocloud.AmigoCloud at 0x20693835f00>"
      ]
     },
     "execution_count": 17,
     "metadata": {},
     "output_type": "execute_result"
    }
   ],
   "source": [
    "# leer token\n",
    "acceso = open(ruta + '/_keys/api_amigocloud.key','r')\n",
    "api_token = acceso.readlines()[0]\n",
    "acceso.close()\n",
    "amigocloud = AmigoCloud(token=api_token)\n",
    "amigocloud"
   ]
  },
  {
   "cell_type": "code",
   "execution_count": 33,
   "id": "671335c0-f848-4ced-9199-d1000c19c39b",
   "metadata": {},
   "outputs": [],
   "source": [
    "def generar_reporte(codigo_canhero):\n",
    "    # EXTRAER DATOS DE CREDITO\n",
    "    query_credito = {'query': 'select * from dataset_307560 where cast(SPLIT_PART(canhero, \\'/\\', 1) as integer) = {cod_ca}'.format(cod_ca=codigo_canhero)}\n",
    "    credito_select = amigocloud.get('https://app.amigocloud.com/api/v1/projects/32672/sql', query_credito)\n",
    "    credito_data = credito_select['data'][0]\n",
    "    credito_data['fecha_informe'] = (datetime.strptime(credito_data['fecha_2da_insp'].split(' ')[0], '%Y-%m-%d') + timedelta(days=1)).strftime('%d/%m/%Y')\n",
    "    credito_data['fecha_2da_insp'] = datetime.strptime(credito_data['fecha_2da_insp'].split(' ')[0], '%Y-%m-%d').strftime('%d/%m/%Y')\n",
    "    credito = collections.namedtuple(\"credito\", credito_data.keys())(*credito_data.values())\n",
    "\n",
    "    # EXTRAER DATOS DE PROPIEDADES\n",
    "    query_propiedades = {'query': 'select * from dataset_307562 where insp_ref_prop = \\'{insp_ref_prop}\\''.format(insp_ref_prop=credito.amigo_id)}\n",
    "    propiedades_select = amigocloud.get('https://app.amigocloud.com/api/v1/projects/32672/sql', query_propiedades)\n",
    "    propiedades_data = propiedades_select['data']\n",
    "\n",
    "    # EXTRAER DATOS DE LOTES\n",
    "    propiedades = []\n",
    "    for prop in propiedades_data:\n",
    "        prop['lotes'] = []\n",
    "        query_lotes = {'query': \"select * from dataset_307563 where (estado_lote_2da = 'SEMBRADO' or estado_lote_2da = 'NO SEMBRADO') and prop_ref_lote=\\'{prop_ref_lote}\\'\".format(prop_ref_lote=prop['amigo_id'])}\n",
    "        lotes_select = amigocloud.get('https://app.amigocloud.com/api/v1/projects/32672/sql', query_lotes)\n",
    "        for lote_select in lotes_select['data']:\n",
    "            lote = collections.namedtuple(\"lote\", lote_select.keys())(*lote_select.values())\n",
    "            prop['lotes'].append(lote)\n",
    "        propiedades.append(collections.namedtuple(\"propiedad\", prop.keys())(*prop.values()))\n",
    "\n",
    "    # EXTRAER FOTOS\n",
    "    fotos = []\n",
    "    for propiedad in propiedades:\n",
    "        for lote in propiedad.lotes:\n",
    "            print(lote.lote, lote.amigo_id)\n",
    "            query_fotos = {'query': 'select source_amigo_id, s3_filename from gallery_48961 where source_amigo_id=\\'{source_amigo_id}\\''.format(source_amigo_id=lote.amigo_id)}\n",
    "            fotos_filename = amigocloud.get('https://app.amigocloud.com/api/v1/projects/32672/sql', query_fotos)\n",
    "            if fotos_filename['data'] != []:\n",
    "                dic = {'lote': lote.lote, 'file_name': fotos_filename['data'][0]['s3_filename']}\n",
    "                fotos.append(dic)\n",
    "\n",
    "    # GENERERAR PLANOS\n",
    "    i = 0\n",
    "    lista_planos = []\n",
    "    for propiedad in propiedades:\n",
    "        i = i + 1\n",
    "        lista_planos.append(generar_plano(propiedad, i))\n",
    "    \n",
    "    \n",
    "    # GENERAR QR\n",
    "    texto = '''\n",
    "--UTEA--\n",
    "--2DA INSPECCION CREDITO SIEMBRA--\n",
    "\n",
    "Codigo de Inspeccion: {cite}\n",
    "Fecha de 2da Inspeccion: {fecha}\n",
    "Nombre de Canero: {canero}\n",
    "Codigo Canero: {cod_ca}\n",
    "Total Solicitado: {soli}\n",
    "Total Area Insp.: {total_area} ha\n",
    "Estado de Insp.: {estado}\n",
    "Tecnico Responsable: {tecnico}'''\\\n",
    "    .format(\n",
    "        cite=str(credito.cite_2da_insp) + '-' + credito.fecha_2da_insp.split('/')[2], \n",
    "        fecha=credito.fecha_2da_insp, \n",
    "        canero=credito.canhero.split(' / ')[1],\n",
    "        cod_ca=credito.canhero.split(' / ')[0],\n",
    "        soli=credito.solicitado,\n",
    "        total_area=credito.total_2da_insp,\n",
    "        estado=credito.estado_2da_insp,\n",
    "        tecnico=credito.respon_2da_insp)\n",
    "    # Generar el código QR\n",
    "    qr = qrcode.QRCode(\n",
    "        version=1,\n",
    "        error_correction=qrcode.constants.ERROR_CORRECT_L,\n",
    "        box_size=10,\n",
    "        border=4,\n",
    "    )\n",
    "    qr.add_data(texto)\n",
    "    qr.make(fit=True)\n",
    "    \n",
    "    qr_img = qr.make_image(fill_color=\"black\", back_color=\"white\")\n",
    "    \n",
    "    cod_ca = credito.canhero.split(' / ')[0]\n",
    "    nom_ca = credito.canhero.split(' / ')[1]\n",
    "    filename_qr = \"qr_\" + cod_ca + '_CRS_' + credito.fecha_informe.replace('/', '-') + '_' + nom_ca\n",
    "    ruta_qr = ruta + '/planos/' + filename_qr + '.png'\n",
    "    # Guardar el código QR en un archivo\n",
    "    qr_img.save(ruta_qr)\n",
    "\n",
    "    # GENERAR REPORTE\n",
    "    doc = DocxTemplate(ruta + \"/templates/tpl_inf_credito_2da.docx\")\n",
    "    #generar lista de InlineImage de planos \n",
    "    lista_InlineImage = []\n",
    "    for plano in lista_planos:\n",
    "        lista_InlineImage.append(docxtpl.InlineImage(doc, image_descriptor=plano, width=Mm(150)))\n",
    "    #descargar fotos y generar lista InlineImage\n",
    "    lista_fotos_inline = []\n",
    "    for foto in fotos:\n",
    "        #response = requests.get(\"https://www-amigocloud.s3.amazonaws.com/gallery/\" + foto['file_name'])\n",
    "        response = requests.get(\"https://www-amigocloud.s3.amazonaws.com/gallery/\" + foto['file_name'])\n",
    "        file = open(ruta + '/fotos/' + foto['file_name'], \"wb\")\n",
    "        file.write(response.content)\n",
    "        file.close()\n",
    "        lista_fotos_inline.append({'foto': docxtpl.InlineImage(doc, image_descriptor=ruta+'/fotos/' + foto['file_name'], width=Mm(120)), 'lote': foto['lote']})\n",
    "    firma_respon = None\n",
    "    if credito.respon_2da_insp == 'Rogelio Acuña Rodríguez':\n",
    "        firma_respon = docxtpl.InlineImage(doc, image_descriptor=ruta+'/templates/firma_rogelio.png', width=Mm(60))\n",
    "    else:\n",
    "        firma_respon = docxtpl.InlineImage(doc, image_descriptor=ruta+'/templates/firma_jaldin.png', width=Mm(60))\n",
    "    # se crea obj inline par imagen QR\n",
    "    qr_file = docxtpl.InlineImage(doc, image_descriptor=ruta_qr, width=Mm(30))\n",
    "    \n",
    "    context = {'credito':credito, 'propiedades':propiedades, 'planos':lista_InlineImage, 'fotos':lista_fotos_inline, 'firma':firma_respon, 'qr':qr_file}\n",
    "    doc.render(context)\n",
    "    cod_ca = credito.canhero.split(' / ')[0]\n",
    "    nom_ca = credito.canhero.split(' / ')[1]\n",
    "    print(credito)\n",
    "    file_name = \"_\" + cod_ca + '_CRS_' + credito.fecha_informe.replace('/', '-') + '_' + nom_ca\n",
    "    doc.save(ruta + '/informes/' + file_name + '.docx')"
   ]
  },
  {
   "cell_type": "code",
   "execution_count": 34,
   "id": "f90ffde3-b794-45c0-a48e-f69a592752af",
   "metadata": {},
   "outputs": [],
   "source": [
    "def generar_plano(propiedad, i):\n",
    "    lotes_lista = []\n",
    "    for lote in propiedad.lotes:\n",
    "        lotes_lista.append(lote._asdict())\n",
    "    df = pd.DataFrame(lotes_lista)\n",
    "    df['geometria'] = df['geometria'].apply(convertir_wkb)\n",
    "\n",
    "    #Convertir a GeoDataFrame\n",
    "    data = geopandas.GeoDataFrame(df, geometry='geometria')\n",
    "    #data\n",
    "    #ctx.add_basemap(ax, source=ctx.providers.Esri.WorldImagery)\n",
    "\n",
    "    data['coords'] = data['geometria'].apply(lambda x: x.representative_point().coords[:])\n",
    "    data['coords'] = [coords[0] for coords in data['coords']]\n",
    "\n",
    "    data.crs = \"EPSG:4326\"\n",
    "    data = data.to_crs(epsg=3857)\n",
    "\n",
    "    \n",
    "    fig = plt.figure(i, figsize=(20,20))\n",
    "    #fig = plt.figure(1)\n",
    "    ax = None\n",
    "    ax = fig.add_subplot()\n",
    "\n",
    "    #data.set_crs(epsg=4326, inplace=True)\n",
    "\n",
    "    data.apply(lambda x: ax.annotate(text=x.lote + ' \\n' + str(x.superficie) + ' ha', xy=x.geometria.centroid.coords[0], ha='center', va='center', color='black', fontsize=12, weight=1000, bbox=dict(facecolor=(1,1,1,0.3), edgecolor='none', pad=0)), axis=1);\n",
    "\n",
    "    #data.boundary.plot(ax=ax, color=(0,0,0,0), linewidth=0)\n",
    "\n",
    "    #data = data.to_crs(epsg=3857)\n",
    "\n",
    "    minx, miny, maxx, maxy = data.total_bounds\n",
    "    ax.set_xlim(minx - 500, maxx + 500)\n",
    "    ax.set_ylim(miny - 400, maxy + 400)\n",
    "\n",
    "    data.plot(ax=ax, edgecolor='r', facecolor=(0,0,0,0), linewidth=2, figsize=(20,20))\n",
    "    #data.plot(ax=ax, edgecolor='r', facecolor=(0,0,0,0), linewidth=2)\n",
    "    \n",
    "    ctx.add_basemap(ax, source=ctx.providers.Esri.WorldImagery)\n",
    "    ax.set_axis_off()\n",
    "    ax.set_title(str(propiedad.propiedad), fontsize=20)\n",
    "    path = ruta+'/planos/' + str(propiedad.amigo_id) + '.jpeg'\n",
    "    fig.savefig(path, dpi = 300, bbox_inches='tight')\n",
    "    plt.clf()\n",
    "    return path"
   ]
  },
  {
   "cell_type": "code",
   "execution_count": 35,
   "id": "e4cd18b4-2c5c-4d42-a40a-7f98bb6650d4",
   "metadata": {},
   "outputs": [],
   "source": [
    "semana = 'S19'\n",
    "query = {'query': 'select split_part(canhero, \\' / \\', 1) cod, split_part(canhero, \\' / \\', 2) nom from dataset_307560 where semana_2da = \\'{sem}\\''.format(sem=semana)}\n",
    "project = 'https://app.amigocloud.com/api/v1/projects/32672/sql'\n",
    "select = amigocloud.get(project, query)\n",
    "data = select['data']"
   ]
  },
  {
   "cell_type": "code",
   "execution_count": 36,
   "id": "4cb06cb9-c4eb-42ca-acf9-6156d769042b",
   "metadata": {},
   "outputs": [
    {
     "data": {
      "text/plain": [
       "[{'cod': '18070', 'nom': 'VILA SORIA MARIBEL'},\n",
       " {'cod': '5006', 'nom': 'GARCIA MARISCAL MILTON FELIX'},\n",
       " {'cod': '633', 'nom': 'AGROP. VICENTE ROCA GIL SRL'},\n",
       " {'cod': '13763', 'nom': 'TUFINO SCHWENK RUBEN DARIO'},\n",
       " {'cod': '42025', 'nom': 'TRUJILLO CONDORI JAIME'},\n",
       " {'cod': '13652', 'nom': 'TENORIO CERMENO WILLIAMS'},\n",
       " {'cod': '5421', 'nom': 'HUBBAUER HOYOS ENRIQUE'},\n",
       " {'cod': '2626', 'nom': 'CONDORI QUEVEDO JORGE'},\n",
       " {'cod': '40148', 'nom': 'ROMERO LEON BEIMAR SALVADOR'},\n",
       " {'cod': '18088', 'nom': 'FRERKING ORTIZ RICARDO'},\n",
       " {'cod': '3378', 'nom': 'ESCOBAR MORATO VICTOR HUGO'},\n",
       " {'cod': '446', 'nom': 'AGUILERA ANEZ JHONNY'},\n",
       " {'cod': '4607', 'nom': 'GARCIA MARISCAL LEONCIO'},\n",
       " {'cod': '42239', 'nom': 'CORDOVA OLGUIN LEONARDO'},\n",
       " {'cod': '42266', 'nom': 'GARCIA PETRONILA MARISCAL VDA. DE'},\n",
       " {'cod': '42178', 'nom': 'CONDORI ORELLANA RUDDY'}]"
      ]
     },
     "execution_count": 36,
     "metadata": {},
     "output_type": "execute_result"
    }
   ],
   "source": [
    "data"
   ]
  },
  {
   "cell_type": "code",
   "execution_count": 37,
   "id": "c9643d6a-4861-4ed3-b9ba-619aeaaeba46",
   "metadata": {},
   "outputs": [],
   "source": [
    "#lista = [1068, 18062, 10739, 41955, 2392, 15162, 2517, 8706, 15085, 430, 874, 5498, 2505, 2274]\n",
    "lista = [int(i['cod']) for i in data]"
   ]
  },
  {
   "cell_type": "code",
   "execution_count": 38,
   "id": "59340321-ace8-43b3-832b-75a531664da5",
   "metadata": {},
   "outputs": [
    {
     "name": "stdout",
     "output_type": "stream",
     "text": [
      "16 informes\n"
     ]
    }
   ],
   "source": [
    "print(len(lista), 'informes')"
   ]
  },
  {
   "cell_type": "code",
   "execution_count": 39,
   "id": "66f18907-ce26-4932-b53a-4ef39be24c3c",
   "metadata": {},
   "outputs": [],
   "source": [
    "lista = [18070, 42178]"
   ]
  },
  {
   "cell_type": "code",
   "execution_count": 40,
   "id": "70c4c82b-41de-461d-8a66-628ab505953f",
   "metadata": {},
   "outputs": [
    {
     "name": "stdout",
     "output_type": "stream",
     "text": [
      "L2 54589c7725434582b498e1f572a562c0\n",
      "L3 93787fb3b03b47e7a63895c057e85439\n",
      "L1 ac55c938d8d1475292545049c030b057\n",
      "credito(fecha_registro='2023-11-16 00:59:31.305131+00:00', amigo_id='44eee3b277ec4c0db0fa879fb39ee582', semana_1ra='S', semana_2da='S19', institucion=66, canhero='18070 / VILA SORIA MARIBEL', solicitado=60.0, total_1ra_insp=None, estado_1ra_insp='PENDIENTE', fecha_1ra_insp=None, cite_1ra_insp=None, respon_1ra_insp=None, obs_1ra=None, link_doc_1ra=None, total_2da_insp=69.97, estado_2da_insp='APROBADO', fecha_2da_insp='09/05/2024', cite_2da_insp=58, respon_2da_insp='Rogelio Acuña Rodríguez', obs_2da=None, link_doc_2da='https://drive.google.com/file/d/15VWSutYsfjnR86ssEt3b4o-HHO4UUHGA/view?usp=drivesdk', total_nacido=None, total_no_nacido=None, muestreo=False, glifosato=True, nivelacion_1=False, drenaje=False, romeplow=True, rastra=True, subsolado=False, rotacion=True, arado=False, ferti_base=True, enraizadores=True, insecticidas=True, fungicidas=False, preemergente=True, fecha_actualizacion='2024-05-10 19:42:38.134875+00:00', fertilizacion=False, fungi_en_siem=False, insec_en_siem=False, promot_de_brota=False, pre_emergente=False, post_emergente=False, cultivado=False, ctrl_bio_tricho=False, insect_fisio_otros=False, ctrl_malezas=False, nivelacion_2=False, drenajes=False, financiamiento='IAG', id=283, total_sembrado_2da=23.62, semana_3ra=None, fecha_3ra_insp=None, total_3ra_insp=None, respon_3ra_insp=None, link_doc_3ra=None, estado_3ra_insp=None, fecha_informe='10/05/2024')\n",
      "====================== 18070\n",
      "L2 b38953f439c44236ae40266b0d949d54\n",
      "L1 7bac2c6e93664b8eb64884dd0ca230ce\n",
      "L3 e2ff797af06841699a48c16e337b5c61\n",
      "credito(fecha_registro='2023-12-20 15:38:21.798012+00:00', amigo_id='42c3adfe5cf84e278a65b6c02571b580', semana_1ra='S', semana_2da='S19', institucion=102, canhero='42178 / CONDORI ORELLANA RUDDY', solicitado=44.0, total_1ra_insp=None, estado_1ra_insp='PENDIENTE', fecha_1ra_insp=None, cite_1ra_insp=None, respon_1ra_insp=None, obs_1ra=None, link_doc_1ra=None, total_2da_insp=35.71, estado_2da_insp='APROBADO', fecha_2da_insp='09/05/2024', cite_2da_insp=55, respon_2da_insp='Rogelio Acuña Rodríguez', obs_2da=None, link_doc_2da='https://drive.google.com/file/d/1HikoDHvaXfSF7QgaHlsLYR5ATWzZ75hh/view?usp=drivesdk', total_nacido=None, total_no_nacido=None, muestreo=False, glifosato=True, nivelacion_1=False, drenaje=False, romeplow=True, rastra=True, subsolado=False, rotacion=True, arado=False, ferti_base=False, enraizadores=False, insecticidas=False, fungicidas=True, preemergente=True, fecha_actualizacion='2024-05-10 18:51:44.491105+00:00', fertilizacion=False, fungi_en_siem=False, insec_en_siem=False, promot_de_brota=False, pre_emergente=False, post_emergente=False, cultivado=False, ctrl_bio_tricho=False, insect_fisio_otros=False, ctrl_malezas=False, nivelacion_2=False, drenajes=False, financiamiento='IAG', id=445, total_sembrado_2da=25.97, semana_3ra=None, fecha_3ra_insp=None, total_3ra_insp=None, respon_3ra_insp=None, link_doc_3ra=None, estado_3ra_insp=None, fecha_informe='10/05/2024')\n",
      "====================== 42178\n"
     ]
    },
    {
     "data": {
      "text/plain": [
       "<Figure size 2000x2000 with 0 Axes>"
      ]
     },
     "metadata": {},
     "output_type": "display_data"
    },
    {
     "data": {
      "text/plain": [
       "<Figure size 2000x2000 with 0 Axes>"
      ]
     },
     "metadata": {},
     "output_type": "display_data"
    }
   ],
   "source": [
    "for i in lista:\n",
    "    generar_reporte(i)\n",
    "    print('======================', i)"
   ]
  }
 ],
 "metadata": {
  "kernelspec": {
   "display_name": "Python 3 (ipykernel)",
   "language": "python",
   "name": "python3"
  },
  "language_info": {
   "codemirror_mode": {
    "name": "ipython",
    "version": 3
   },
   "file_extension": ".py",
   "mimetype": "text/x-python",
   "name": "python",
   "nbconvert_exporter": "python",
   "pygments_lexer": "ipython3",
   "version": "3.10.13"
  }
 },
 "nbformat": 4,
 "nbformat_minor": 5
}
