{
 "cells": [
  {
   "cell_type": "code",
   "execution_count": 10,
   "id": "6658e010-c382-4e03-a45a-67c832b35ef9",
   "metadata": {},
   "outputs": [],
   "source": [
    "# werkzeug\n",
    "# shapely=1.7.1\n",
    "# geopandas\n",
    "# pandas\n",
    "# contextily\n",
    "# matplotlib\n",
    "# docxtpl\n",
    "# docx"
   ]
  },
  {
   "cell_type": "code",
   "execution_count": 11,
   "id": "8c292c7c-2591-4985-93c8-88314bca3d5a",
   "metadata": {},
   "outputs": [],
   "source": [
    "import sys\n",
    "sys.path.append('../_amigocloud')"
   ]
  },
  {
   "cell_type": "code",
   "execution_count": 12,
   "id": "665919a4-6184-4280-8c4c-64588f9131d6",
   "metadata": {},
   "outputs": [],
   "source": [
    "from werkzeug.wrappers import Request, Response\n",
    "from jinja2 import Template\n",
    "\n",
    "from datetime import datetime, timedelta\n",
    "\n",
    "import collections\n",
    "from amigocloud import AmigoCloud\n",
    "\n",
    "from datetime import datetime\n",
    "\n",
    "from shapely import wkb\n",
    "import geopandas\n",
    "import pandas as pd\n",
    "import contextily as ctx\n",
    "import matplotlib.pyplot as plt\n",
    "\n",
    "from docxtpl import DocxTemplate\n",
    "import docxtpl\n",
    "from docx.shared import Mm\n",
    "import requests\n",
    "\n",
    "import qrcode\n",
    "\n",
    "def convertir_wkb(wkb_data):\n",
    "    return wkb.loads(wkb_data, hex=True)"
   ]
  },
  {
   "cell_type": "code",
   "execution_count": 13,
   "id": "057998b9-c93b-4559-87c9-e82742149a8a",
   "metadata": {},
   "outputs": [],
   "source": [
    "# ruta de carpera donde estan las llaves\n",
    "ruta = open('../ruta.txt')\n",
    "ruta = ruta.readlines()[0]"
   ]
  },
  {
   "cell_type": "code",
   "execution_count": 14,
   "id": "f78ec737-093c-44bb-a782-1af54be4a65f",
   "metadata": {},
   "outputs": [
    {
     "data": {
      "text/plain": [
       "<amigocloud.AmigoCloud at 0x15e173bd810>"
      ]
     },
     "execution_count": 14,
     "metadata": {},
     "output_type": "execute_result"
    }
   ],
   "source": [
    "# leer token\n",
    "acceso = open(ruta + '/_keys/api_amigocloud.key','r')\n",
    "api_token = acceso.readlines()[0]\n",
    "acceso.close()\n",
    "amigocloud = AmigoCloud(token=api_token)\n",
    "amigocloud"
   ]
  },
  {
   "cell_type": "code",
   "execution_count": null,
   "id": "fd24df3b-03ab-4317-a628-9c64f2cfa6e1",
   "metadata": {},
   "outputs": [],
   "source": []
  },
  {
   "cell_type": "code",
   "execution_count": null,
   "id": "fbd9b6bb-57b5-45a4-9783-1962fb4c915c",
   "metadata": {},
   "outputs": [],
   "source": []
  },
  {
   "cell_type": "code",
   "execution_count": null,
   "id": "fc09bc64-2e69-4066-ab56-8352fd548e78",
   "metadata": {},
   "outputs": [],
   "source": []
  },
  {
   "cell_type": "code",
   "execution_count": null,
   "id": "e7657522-665a-4848-ab19-ef33c4d11f76",
   "metadata": {},
   "outputs": [],
   "source": []
  },
  {
   "cell_type": "code",
   "execution_count": null,
   "id": "399642d2-df24-4ed4-9dc3-e07bd1ab11e3",
   "metadata": {},
   "outputs": [],
   "source": []
  },
  {
   "cell_type": "code",
   "execution_count": null,
   "id": "ab1c0c7a-16aa-45f7-ab99-ae2aaa687ef9",
   "metadata": {},
   "outputs": [],
   "source": []
  },
  {
   "cell_type": "code",
   "execution_count": null,
   "id": "30f2a209-026b-4b3f-9712-ce6d20e29e39",
   "metadata": {},
   "outputs": [],
   "source": []
  },
  {
   "cell_type": "code",
   "execution_count": 42,
   "id": "671335c0-f848-4ced-9199-d1000c19c39b",
   "metadata": {},
   "outputs": [],
   "source": [
    "def generar_reporte(codigo_canhero):\n",
    "    # EXTRAER DATOS DE CREDITO\n",
    "    query_credito = {'query': 'select * from dataset_307560 where cast(SPLIT_PART(canhero, \\'/\\', 1) as integer) = {cod_ca}'.format(cod_ca=codigo_canhero)}\n",
    "    credito_select = amigocloud.get('https://app.amigocloud.com/api/v1/projects/32672/sql', query_credito)\n",
    "    credito_data = credito_select['data'][0]\n",
    "    credito_data['fecha_informe'] = (datetime.strptime(credito_data['fecha_2da_insp'].split(' ')[0], '%Y-%m-%d') + timedelta(days=1)).strftime('%d/%m/%Y')\n",
    "    credito_data['fecha_2da_insp'] = datetime.strptime(credito_data['fecha_2da_insp'].split(' ')[0], '%Y-%m-%d').strftime('%d/%m/%Y')\n",
    "    credito = collections.namedtuple(\"credito\", credito_data.keys())(*credito_data.values())\n",
    "    print(credito)\n",
    "\n",
    "    # EXTRAER DATOS DE PROPIEDADES\n",
    "    query_propiedades = {'query': 'select * from dataset_307562 where insp_ref_prop = \\'{insp_ref_prop}\\''.format(insp_ref_prop=credito.amigo_id)}\n",
    "    propiedades_select = amigocloud.get('https://app.amigocloud.com/api/v1/projects/32672/sql', query_propiedades)\n",
    "    propiedades_data = propiedades_select['data']\n",
    "\n",
    "    # EXTRAER DATOS DE LOTES\n",
    "    propiedades = []\n",
    "    for prop in propiedades_data:\n",
    "        prop['lotes'] = []\n",
    "        query_lotes = {'query': \"select * from dataset_307563 where (estado_lote_2da = 'SEMBRADO' or estado_lote_2da = 'NO SEMBRADO') and prop_ref_lote=\\'{prop_ref_lote}\\'\".format(prop_ref_lote=prop['amigo_id'])}\n",
    "        lotes_select = amigocloud.get('https://app.amigocloud.com/api/v1/projects/32672/sql', query_lotes)\n",
    "        for lote_select in lotes_select['data']:\n",
    "            lote = collections.namedtuple(\"lote\", lote_select.keys())(*lote_select.values())\n",
    "            prop['lotes'].append(lote)\n",
    "        if len(prop['lotes']) > 0:\n",
    "            propiedades.append(collections.namedtuple(\"propiedad\", prop.keys())(*prop.values()))\n",
    "\n",
    "    # EXTRAER FOTOS\n",
    "    fotos = []\n",
    "    for propiedad in propiedades:\n",
    "        for lote in propiedad.lotes:\n",
    "            print(lote.lote, lote.amigo_id)\n",
    "            query_fotos = {'query': 'select source_amigo_id, s3_filename from gallery_48961 where source_amigo_id=\\'{source_amigo_id}\\''.format(source_amigo_id=lote.amigo_id)}\n",
    "            fotos_filename = amigocloud.get('https://app.amigocloud.com/api/v1/projects/32672/sql', query_fotos)\n",
    "            if fotos_filename['data'] != []:\n",
    "                dic = {'lote': lote.lote, 'file_name': fotos_filename['data'][0]['s3_filename']}\n",
    "                fotos.append(dic)\n",
    "\n",
    "    # GENERERAR PLANOS\n",
    "    i = 0\n",
    "    lista_planos = []\n",
    "    for propiedad in propiedades:\n",
    "        i = i + 1\n",
    "        lista_planos.append(generar_plano(propiedad, i))\n",
    "    \n",
    "    \n",
    "    # GENERAR QR\n",
    "    texto = '''\n",
    "--UTEA--\n",
    "--2DA INSPECCION CREDITO SIEMBRA--\n",
    "\n",
    "Codigo de Inspeccion: {cite}\n",
    "Fecha de 2da Inspeccion: {fecha}\n",
    "Nombre de Canero: {canero}\n",
    "Codigo Canero: {cod_ca}\n",
    "Total Solicitado: {soli}\n",
    "Total Area Insp.: {total_area} ha\n",
    "Estado de Insp.: {estado}\n",
    "Tecnico Responsable: {tecnico}'''\\\n",
    "    .format(\n",
    "        cite=str(credito.cite_2da_insp) + '-' + credito.fecha_2da_insp.split('/')[2], \n",
    "        fecha=credito.fecha_2da_insp, \n",
    "        canero=credito.canhero.split(' / ')[1],\n",
    "        cod_ca=credito.canhero.split(' / ')[0],\n",
    "        soli=credito.solicitado,\n",
    "        total_area=credito.total_2da_insp,\n",
    "        estado=credito.estado_2da_insp,\n",
    "        tecnico=credito.respon_2da_insp)\n",
    "    # Generar el código QR\n",
    "    qr = qrcode.QRCode(\n",
    "        version=1,\n",
    "        error_correction=qrcode.constants.ERROR_CORRECT_L,\n",
    "        box_size=10,\n",
    "        border=4,\n",
    "    )\n",
    "    qr.add_data(texto)\n",
    "    qr.make(fit=True)\n",
    "    \n",
    "    qr_img = qr.make_image(fill_color=\"black\", back_color=\"white\")\n",
    "    \n",
    "    cod_ca = credito.canhero.split(' / ')[0]\n",
    "    nom_ca = credito.canhero.split(' / ')[1]\n",
    "    filename_qr = \"qr_\" + cod_ca + '_CRS_' + credito.fecha_informe.replace('/', '-') + '_' + nom_ca\n",
    "    ruta_qr = ruta + '/planos/' + filename_qr + '.png'\n",
    "    # Guardar el código QR en un archivo\n",
    "    qr_img.save(ruta_qr)\n",
    "\n",
    "    # GENERAR REPORTE\n",
    "    doc = DocxTemplate(ruta + \"/templates/tpl_inf_credito_2da.docx\")\n",
    "    #generar lista de InlineImage de planos \n",
    "    lista_InlineImage = []\n",
    "    for plano in lista_planos:\n",
    "        lista_InlineImage.append(docxtpl.InlineImage(doc, image_descriptor=plano, width=Mm(150)))\n",
    "    #descargar fotos y generar lista InlineImage\n",
    "    lista_fotos_inline = []\n",
    "    for foto in fotos:\n",
    "        #response = requests.get(\"https://www-amigocloud.s3.amazonaws.com/gallery/\" + foto['file_name'])\n",
    "        response = requests.get(\"https://www-amigocloud.s3.amazonaws.com/gallery/\" + foto['file_name'])\n",
    "        file = open(ruta + '/fotos/' + foto['file_name'], \"wb\")\n",
    "        file.write(response.content)\n",
    "        file.close()\n",
    "        lista_fotos_inline.append({'foto': docxtpl.InlineImage(doc, image_descriptor=ruta+'/fotos/' + foto['file_name'], width=Mm(120)), 'lote': foto['lote']})\n",
    "    firma_respon = None\n",
    "    if credito.respon_2da_insp == 'Rogelio Acuña Rodríguez':\n",
    "        firma_respon = docxtpl.InlineImage(doc, image_descriptor=ruta+'/templates/firma_rogelio.png', width=Mm(60))\n",
    "    else:\n",
    "        firma_respon = docxtpl.InlineImage(doc, image_descriptor=ruta+'/templates/firma_jaldin.png', width=Mm(60))\n",
    "    # se crea obj inline par imagen QR\n",
    "    qr_file = docxtpl.InlineImage(doc, image_descriptor=ruta_qr, width=Mm(30))\n",
    "    \n",
    "    context = {'credito':credito, 'propiedades':propiedades, 'planos':lista_InlineImage, 'fotos':lista_fotos_inline, 'firma':firma_respon, 'qr':qr_file}\n",
    "    doc.render(context)\n",
    "    cod_ca = credito.canhero.split(' / ')[0]\n",
    "    nom_ca = credito.canhero.split(' / ')[1]\n",
    "    file_name = \"_\" + cod_ca + '_CRS_' + credito.fecha_informe.replace('/', '-') + '_' + nom_ca\n",
    "    doc.save(ruta + '/informes/' + file_name + '.docx')"
   ]
  },
  {
   "cell_type": "code",
   "execution_count": 43,
   "id": "f90ffde3-b794-45c0-a48e-f69a592752af",
   "metadata": {},
   "outputs": [],
   "source": [
    "def generar_plano(propiedad, i):\n",
    "    print(propiedad)\n",
    "    lotes_lista = []\n",
    "    for lote in propiedad.lotes:\n",
    "        lotes_lista.append(lote._asdict())\n",
    "    df = pd.DataFrame(lotes_lista)\n",
    "    df['geometria'] = df['geometria'].apply(convertir_wkb)\n",
    "\n",
    "    #Convertir a GeoDataFrame\n",
    "    data = geopandas.GeoDataFrame(df, geometry='geometria')\n",
    "    #data\n",
    "    #ctx.add_basemap(ax, source=ctx.providers.Esri.WorldImagery)\n",
    "\n",
    "    data['coords'] = data['geometria'].apply(lambda x: x.representative_point().coords[:])\n",
    "    data['coords'] = [coords[0] for coords in data['coords']]\n",
    "\n",
    "    data.crs = \"EPSG:4326\"\n",
    "    data = data.to_crs(epsg=3857)\n",
    "\n",
    "    \n",
    "    fig = plt.figure(i, figsize=(20,20))\n",
    "    #fig = plt.figure(1)\n",
    "    ax = None\n",
    "    ax = fig.add_subplot()\n",
    "\n",
    "    #data.set_crs(epsg=4326, inplace=True)\n",
    "\n",
    "    data.apply(lambda x: ax.annotate(text=x.lote + ' \\n' + str(x.superficie) + ' ha', xy=x.geometria.centroid.coords[0], ha='center', va='center', color='black', fontsize=12, weight=1000, bbox=dict(facecolor=(1,1,1,0.3), edgecolor='none', pad=0)), axis=1);\n",
    "\n",
    "    #data.boundary.plot(ax=ax, color=(0,0,0,0), linewidth=0)\n",
    "\n",
    "    #data = data.to_crs(epsg=3857)\n",
    "\n",
    "    minx, miny, maxx, maxy = data.total_bounds\n",
    "    ax.set_xlim(minx - 500, maxx + 500)\n",
    "    ax.set_ylim(miny - 400, maxy + 400)\n",
    "\n",
    "    data.plot(ax=ax, edgecolor='r', facecolor=(0,0,0,0), linewidth=2, figsize=(20,20))\n",
    "    #data.plot(ax=ax, edgecolor='r', facecolor=(0,0,0,0), linewidth=2)\n",
    "    \n",
    "    ctx.add_basemap(ax, source=ctx.providers.Esri.WorldImagery)\n",
    "    ax.set_axis_off()\n",
    "    ax.set_title(str(propiedad.propiedad), fontsize=20)\n",
    "    path = ruta+'/planos/' + str(propiedad.amigo_id) + '.jpeg'\n",
    "    fig.savefig(path, dpi = 300, bbox_inches='tight')\n",
    "    \n",
    "    plt.clf()\n",
    "    return path"
   ]
  },
  {
   "cell_type": "code",
   "execution_count": 44,
   "id": "e4cd18b4-2c5c-4d42-a40a-7f98bb6650d4",
   "metadata": {},
   "outputs": [],
   "source": [
    "semana = 'S21'\n",
    "query = {'query': 'select split_part(canhero, \\' / \\', 1) cod, split_part(canhero, \\' / \\', 2) nom from dataset_307560 where semana_2da = \\'{sem}\\''.format(sem=semana)}\n",
    "project = 'https://app.amigocloud.com/api/v1/projects/32672/sql'\n",
    "select = amigocloud.get(project, query)\n",
    "data = select['data']"
   ]
  },
  {
   "cell_type": "code",
   "execution_count": 45,
   "id": "4cb06cb9-c4eb-42ca-acf9-6156d769042b",
   "metadata": {},
   "outputs": [
    {
     "data": {
      "text/plain": [
       "[{'cod': '5001', 'nom': 'GUZMAN CACERES ROXANA'},\n",
       " {'cod': '8009', 'nom': 'ESPINOZA AGUILAR DAVID'},\n",
       " {'cod': '41827', 'nom': 'SALAZAR PERALTA GABRIELA'},\n",
       " {'cod': '2220', 'nom': 'CRUZ VARGAS TITO JHONNY'},\n",
       " {'cod': '41954', 'nom': 'ELTARTARO S.R.L'},\n",
       " {'cod': '3421', 'nom': 'ESPINOZA HURTADO ARMANDO'},\n",
       " {'cod': '2794', 'nom': 'DELGADILLO RODRIGUEZ JUAN CARLOS'},\n",
       " {'cod': '40158', 'nom': 'GUZMAN CACERES MARIA LOURDES'},\n",
       " {'cod': '3414', 'nom': 'ESPINOZA TERRAZAS SERAFIN'},\n",
       " {'cod': '6578', 'nom': 'JALDIN ARREDONDO JOSE LUIS'},\n",
       " {'cod': '2510', 'nom': 'CRUZ BARRIENTOS OSCAR ANDREZ'},\n",
       " {'cod': '2505', 'nom': 'CRUZ BARRIENTOS CRISTIAN F.'},\n",
       " {'cod': '40256', 'nom': 'INSERVA DAMIANA S.R.L.'},\n",
       " {'cod': '15085', 'nom': 'CRUZ RUTH JAQUELIN B. DE'},\n",
       " {'cod': '18062', 'nom': 'MERCADO MERCADO RUBEN DARIO'}]"
      ]
     },
     "execution_count": 45,
     "metadata": {},
     "output_type": "execute_result"
    }
   ],
   "source": [
    "data"
   ]
  },
  {
   "cell_type": "code",
   "execution_count": 46,
   "id": "c9643d6a-4861-4ed3-b9ba-619aeaaeba46",
   "metadata": {},
   "outputs": [],
   "source": [
    "#lista = [1068, 18062, 10739, 41955, 2392, 15162, 2517, 8706, 15085, 430, 874, 5498, 2505, 2274]\n",
    "lista = [int(i['cod']) for i in data]"
   ]
  },
  {
   "cell_type": "code",
   "execution_count": 47,
   "id": "59340321-ace8-43b3-832b-75a531664da5",
   "metadata": {},
   "outputs": [
    {
     "name": "stdout",
     "output_type": "stream",
     "text": [
      "15 informes\n"
     ]
    }
   ],
   "source": [
    "print(len(lista), 'informes')"
   ]
  },
  {
   "cell_type": "code",
   "execution_count": 48,
   "id": "66f18907-ce26-4932-b53a-4ef39be24c3c",
   "metadata": {},
   "outputs": [],
   "source": [
    "lista = [41954]"
   ]
  },
  {
   "cell_type": "code",
   "execution_count": 49,
   "id": "70c4c82b-41de-461d-8a66-628ab505953f",
   "metadata": {},
   "outputs": [
    {
     "name": "stdout",
     "output_type": "stream",
     "text": [
      "credito(fecha_registro='2023-11-16 00:59:31.305131+00:00', amigo_id='e343b07c4f924cfba311544752e4ac71', semana_1ra='S50', semana_2da='S21', institucion=66, canhero='41954 / ELTARTARO S.R.L', solicitado=90.0, total_1ra_insp=30.3, estado_1ra_insp='APROBADO', fecha_1ra_insp='2023-12-13 00:14:44+00:00', cite_1ra_insp=596, respon_1ra_insp='Rogelio Acuña Rodríguez', obs_1ra=None, link_doc_1ra='https://drive.google.com/file/d/1IsD8CVr4YHBzy6qYDTkaqb0nOO_sU8iq/view?usp=drivesdk', total_2da_insp=72.07, estado_2da_insp='APROBADO', fecha_2da_insp='22/05/2024', cite_2da_insp=109, respon_2da_insp='Rogelio Acuña Rodríguez', obs_2da=None, link_doc_2da=None, total_nacido=None, total_no_nacido=None, muestreo=False, glifosato=False, nivelacion_1=False, drenaje=False, romeplow=True, rastra=True, subsolado=False, rotacion=True, arado=False, ferti_base=False, enraizadores=True, insecticidas=True, fungicidas=False, preemergente=True, fecha_actualizacion='2024-05-25 15:14:13.311102+00:00', fertilizacion=False, fungi_en_siem=False, insec_en_siem=False, promot_de_brota=False, pre_emergente=False, post_emergente=False, cultivado=False, ctrl_bio_tricho=False, insect_fisio_otros=False, ctrl_malezas=False, nivelacion_2=False, drenajes=False, financiamiento='IAG', id=299, total_sembrado_2da=72.07, semana_3ra=None, fecha_3ra_insp=None, total_3ra_insp=None, respon_3ra_insp='Rogelio Acuña Rodríguez', link_doc_3ra=None, estado_3ra_insp=None, fecha_informe='23/05/2024')\n",
      "L15 f91e48646287487ca174d7c15b88fb00\n",
      "L12 1dbcfba5df754ddabe9c4e5ba12f19ad\n",
      "L2.2 2eab43a8368d46e5bbf6e084d56f6d9a\n",
      "L1 b8a07d08cddd4bb0ae6a988e65c25a79\n",
      "L1 835d0d2b9f0546b499e7281d4879f43d\n",
      "L1.1 df5860c20e884b1dad6e908d02a78563\n",
      "L2 5ed4d3dabee244d48d362a75d2c9a92b\n",
      "propiedad(fecha_de_registro='2023-12-15 00:36:06+00:00', amigo_id='9af2a4e444614f16b5cdf660dc9e8737', ubicacion='0101000020E61000001EB7667E21764FC010CC4A9BEC4931C0', propiedad='532 / MOROCHO--CARBAJAL QUISPE', tenencia='ALQUILADO', fecha_actualizacion='2023-12-15 00:36:06+00:00', insp_ref_prop='e343b07c4f924cfba311544752e4ac71', lotes=[lote(fecha_de_registro='2023-12-15 00:38:42+00:00', amigo_id='f91e48646287487ca174d7c15b88fb00', lote='L15', superficie=17.55, textura='FY', lote_semillero='L3', variedad_semillero='UCG 90-20', variedad_sugerida='UCG 90-20', estado_semillero='BUENO', mes_siembra='ABRIL', variedad_sembrada=None, fecha_siembra=None, estado_de_siembra=None, obs_1=None, obs_2=None, fecha_actualizacion=None, prop_ref_lote='9af2a4e444614f16b5cdf660dc9e8737', geometria='0106000020E610000001000000010300000001000000090000005E465951E1754FC02C1155FF5A4931C07ADEEBBCC8754FC054B6BD24A84931C0C29B19CCEB754FC06C578DC9D94931C0F2B15F1CE0754FC0CC7525ABF94931C0A45B452F98764FC010D4DA0BF14A31C038B2AA699D764FC00CB35806B24A31C0165EA9F2A3764FC074526252954A31C09A4E0463B2764FC0A88E2E16734A31C05E465951E1754FC02C1155FF5A4931C0', estado_lote_1ra='APROBADO', estado_lote_2da='SEMBRADO')])\n",
      "propiedad(fecha_de_registro='2023-12-15 00:41:39+00:00', amigo_id='91779491bef84bddb4993901f9ae9237', ubicacion='0101000020E61000007C8856FA9A764FC0C4A7BED2804931C0', propiedad='1614 / JUNTA PAILON--BETTY ANZE', tenencia='ALQUILADO', fecha_actualizacion='2023-12-15 00:41:39+00:00', insp_ref_prop='e343b07c4f924cfba311544752e4ac71', lotes=[lote(fecha_de_registro='2023-12-15 00:41:07+00:00', amigo_id='1dbcfba5df754ddabe9c4e5ba12f19ad', lote='L12', superficie=14.0, textura='FY', lote_semillero='L3', variedad_semillero='UCG 90-20', variedad_sugerida='RBB 77-26', estado_semillero='BUENO', mes_siembra='ABRIL', variedad_sembrada=None, fecha_siembra=None, estado_de_siembra=None, obs_1=None, obs_2=None, fecha_actualizacion=None, prop_ref_lote='91779491bef84bddb4993901f9ae9237', geometria='0106000020E6100000010000000103000000010000000500000053A562DB34764FC055B48CDDBC4831C0B92DBC5516764FC0E6B83D49144931C0B5AC0E7BD3764FC06AE156C61B4A31C0CCCD9324F9764FC0F3ADDCB3C74931C053A562DB34764FC055B48CDDBC4831C0', estado_lote_1ra='APROBADO', estado_lote_2da='SEMBRADO')])\n",
      "propiedad(fecha_de_registro='2024-05-25 15:21:32+00:00', amigo_id='e1729a708c324fe5a3cd597b930eb7e4', ubicacion='0101000020E610000072789CD3AD904FC04CC15BE7A05131C0', propiedad='1732 / LA PAMPA--MORA WILLAN', tenencia='ALQUILADO', fecha_actualizacion='2024-05-25 15:21:32+00:00', insp_ref_prop='e343b07c4f924cfba311544752e4ac71', lotes=[lote(fecha_de_registro='2024-05-25 15:20:51+00:00', amigo_id='2eab43a8368d46e5bbf6e084d56f6d9a', lote='L2.2', superficie=2.25, textura='F', lote_semillero='L2.1', variedad_semillero='UCG 90-20', variedad_sugerida='UCG 90-20', estado_semillero='BUENO', mes_siembra='ABRIL', variedad_sembrada='UCG 90-20', fecha_siembra=None, estado_de_siembra=None, obs_1=None, obs_2=None, fecha_actualizacion=None, prop_ref_lote='e1729a708c324fe5a3cd597b930eb7e4', geometria='0106000020E6100000010000000103000000010000000B0000009497DB3FC7904FC07CEB48AC445131C0B08C3538C3904FC0C82B36F46F5131C04004F6DCB4904FC04C42A98C6D5131C06448D45FB6904FC0F4C5EE10AC5131C0D448D45FB6904FC0B4755809BB5131C0AC4E26D4BB904FC0CCD5FE19C65131C01C11C5DFBD904FC0DC390484D05131C0A492D93CBF904FC0FC2C1561FF5131C0727A916BA9904FC0E062F41FFC5131C0C8F22A9AA2904FC08C31A7F8415131C09497DB3FC7904FC07CEB48AC445131C0', estado_lote_1ra='APROBADO', estado_lote_2da='SEMBRADO')])\n",
      "propiedad(fecha_de_registro='2024-05-25 15:24:25+00:00', amigo_id='a4a81291d8984f77b07086b0b71c8c51', ubicacion='0101000020E6100000F4D7953FAC9C4FC02092124AFC3F31C0', propiedad='2140 / LA TRANCA--MORA', tenencia='ALQUILADO', fecha_actualizacion='2024-05-25 15:28:23.561648+00:00', insp_ref_prop='e343b07c4f924cfba311544752e4ac71', lotes=[lote(fecha_de_registro='2024-05-25 15:25:26+00:00', amigo_id='b8a07d08cddd4bb0ae6a988e65c25a79', lote='L1', superficie=16.86, textura='F', lote_semillero='L3', variedad_semillero='UCG 90-20', variedad_sugerida='UCG 90-20', estado_semillero='BUENO', mes_siembra='MAYO', variedad_sembrada='UCG 90-20', fecha_siembra=None, estado_de_siembra=None, obs_1=None, obs_2=None, fecha_actualizacion=None, prop_ref_lote='a4a81291d8984f77b07086b0b71c8c51', geometria='0106000020E61000000100000001030000000100000007000000F0EACD1D8C9C4FC0DBFDA370894031C010E9C62A419C4FC037BF76EAC83F31C031E61146BC9C4FC0D02575267C3F31C0B5BF4EAE099D4FC057D82F62454031C0AD181F0F0B9D4FC0EF7526B14C4031C0E437BD2A0A9D4FC0969459A8514031C0F0EACD1D8C9C4FC0DBFDA370894031C0', estado_lote_1ra='APROBADO', estado_lote_2da='SEMBRADO')])\n",
      "propiedad(fecha_de_registro='2024-05-25 15:51:59+00:00', amigo_id='bee754c85c6f45e7aff2cd7092978b84', ubicacion='0101000020E61000005440C4926CB64FC0C4887A7A286D31C0', propiedad='1954 / MARAYAU--MORA MARCELO', tenencia='ALQUILADO', fecha_actualizacion='2024-05-25 15:51:59+00:00', insp_ref_prop='e343b07c4f924cfba311544752e4ac71', lotes=[lote(fecha_de_registro='2024-05-25 15:51:14+00:00', amigo_id='835d0d2b9f0546b499e7281d4879f43d', lote='L1', superficie=6.42, textura='F', lote_semillero='L2', variedad_semillero='UCG 90-20', variedad_sugerida='UCG 90-20', estado_semillero='REGULAR', mes_siembra='MAYO', variedad_sembrada='UCG 90-20', fecha_siembra=None, estado_de_siembra=None, obs_1=None, obs_2=None, fecha_actualizacion=None, prop_ref_lote='bee754c85c6f45e7aff2cd7092978b84', geometria='0106000020E6100000010000000103000000010000000D000000AE6678F672B64FC0FC781458846D31C03A6C9A3B45B64FC068E97626146D31C0C28EA09055B64FC044201A5DE46C31C04ABB3B0B78B64FC0C0049E5FFF6C31C06A01231691B64FC0A8B8A4EB166D31C096E8B1E692B64FC09C3684390D6D31C0CCA2CADB79B64FC094427CADF56C31C07CAC5F018CB64FC02060F37EA96C31C0865102459AB64FC08CD03EF5A56C31C0AC4F4C83A9B64FC05CB79CCC986C31C0EA0268D2C5B64FC0384FB6C5506C31C0426FC1B5D0B64FC0F472113D5D6C31C0AE6678F672B64FC0FC781458846D31C0', estado_lote_1ra='APROBADO', estado_lote_2da='SEMBRADO')])\n",
      "propiedad(fecha_de_registro='2024-05-25 15:56:28+00:00', amigo_id='79b378cdb09d490d94c621b4c958ba3a', ubicacion='0101000020E6100000263FFF18D8914FC004B0F9DB6B5931C0', propiedad='1731 / LOS ANGELES', tenencia='ALQUILADO', fecha_actualizacion='2024-05-25 15:56:28+00:00', insp_ref_prop='e343b07c4f924cfba311544752e4ac71', lotes=[lote(fecha_de_registro='2024-05-25 15:54:47+00:00', amigo_id='df5860c20e884b1dad6e908d02a78563', lote='L1.1', superficie=6.82, textura='F', lote_semillero='L3', variedad_semillero='UCG 90-20', variedad_sugerida='UCG 90-20', estado_semillero='REGULAR', mes_siembra='MAYO', variedad_sembrada=None, fecha_siembra=None, estado_de_siembra=None, obs_1=None, obs_2=None, fecha_actualizacion=None, prop_ref_lote='79b378cdb09d490d94c621b4c958ba3a', geometria='0106000020E61000000100000001030000000100000007000000C8A90DDC69914FC034A0C097985931C004D0660E11924FC0C448661CA65931C0EA223A6215924FC0BCDD8C91865931C09E7F5C9016924FC0E456C1C1585931C0AC91B2F886914FC0D8C3C97B475931C03E482E7F7F914FC0BC4AB7076A5931C0C8A90DDC69914FC034A0C097985931C0', estado_lote_1ra='APROBADO', estado_lote_2da='SEMBRADO'), lote(fecha_de_registro='2024-05-25 15:53:54+00:00', amigo_id='5ed4d3dabee244d48d362a75d2c9a92b', lote='L2', superficie=8.17, textura='F', lote_semillero='L3', variedad_semillero='UCG 90-20', variedad_sugerida='UCG 90-20', estado_semillero='REGULAR', mes_siembra='MAYO', variedad_sembrada='UCG 90-20', fecha_siembra=None, estado_de_siembra=None, obs_1=None, obs_2=None, fecha_actualizacion=None, prop_ref_lote='79b378cdb09d490d94c621b4c958ba3a', geometria='0106000020E610000001000000010300000001000000140000005E7D043573914FC03811C541D85831C01EB7D2CA82914FC07493D404DF5831C08C33E3EA84914FC08C1A70B40F5931C0CE920C407F914FC0506F607C2F5931C09E505FEA73914FC0C420C6576C5931C0BE21155A6A914FC028D8A483785931C0A430D3D961914FC0C8547A88915931C0D451F41E5B914FC0FC57906DB95931C00661B29E52914FC03C1C4F4BDF5931C02A69915E4E914FC0D43E6EDD075A31C00AC8BAB348914FC0805FF52F4E5A31C0D61F054947914FC0149F602D655A31C0DA9870233F914FC02CC515F5845A31C02E243FC338914FC0C024AD4C9D5A31C0D0D3D3ED35914FC04C6AC5BCA45A31C04A222FB215914FC0C024AD4C9D5A31C0F42F58FD25914FC09C1DA1DF375A31C0B057C3CD33914FC0B4840044DD5931C0E26B36A458914FC0BC55501E425931C05E7D043573914FC03811C541D85831C0', estado_lote_1ra='APROBADO', estado_lote_2da='SEMBRADO')])\n",
      "====================== 41954\n"
     ]
    },
    {
     "data": {
      "text/plain": [
       "<Figure size 2000x2000 with 0 Axes>"
      ]
     },
     "metadata": {},
     "output_type": "display_data"
    },
    {
     "data": {
      "text/plain": [
       "<Figure size 2000x2000 with 0 Axes>"
      ]
     },
     "metadata": {},
     "output_type": "display_data"
    },
    {
     "data": {
      "text/plain": [
       "<Figure size 2000x2000 with 0 Axes>"
      ]
     },
     "metadata": {},
     "output_type": "display_data"
    },
    {
     "data": {
      "text/plain": [
       "<Figure size 2000x2000 with 0 Axes>"
      ]
     },
     "metadata": {},
     "output_type": "display_data"
    },
    {
     "data": {
      "text/plain": [
       "<Figure size 2000x2000 with 0 Axes>"
      ]
     },
     "metadata": {},
     "output_type": "display_data"
    },
    {
     "data": {
      "text/plain": [
       "<Figure size 2000x2000 with 0 Axes>"
      ]
     },
     "metadata": {},
     "output_type": "display_data"
    }
   ],
   "source": [
    "for i in lista:\n",
    "    generar_reporte(i)\n",
    "    print('======================', i)"
   ]
  }
 ],
 "metadata": {
  "kernelspec": {
   "display_name": "Python 3 (ipykernel)",
   "language": "python",
   "name": "python3"
  },
  "language_info": {
   "codemirror_mode": {
    "name": "ipython",
    "version": 3
   },
   "file_extension": ".py",
   "mimetype": "text/x-python",
   "name": "python",
   "nbconvert_exporter": "python",
   "pygments_lexer": "ipython3",
   "version": "3.10.13"
  }
 },
 "nbformat": 4,
 "nbformat_minor": 5
}
