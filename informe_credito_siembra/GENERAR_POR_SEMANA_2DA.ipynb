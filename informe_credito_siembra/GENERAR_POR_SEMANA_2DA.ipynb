{
 "cells": [
  {
   "cell_type": "code",
   "execution_count": 1,
   "id": "6658e010-c382-4e03-a45a-67c832b35ef9",
   "metadata": {},
   "outputs": [],
   "source": [
    "# werkzeug\n",
    "# shapely=1.7.1\n",
    "# geopandas\n",
    "# pandas\n",
    "# contextily\n",
    "# matplotlib\n",
    "# docxtpl\n",
    "# docx"
   ]
  },
  {
   "cell_type": "code",
   "execution_count": 1,
   "id": "8c292c7c-2591-4985-93c8-88314bca3d5a",
   "metadata": {},
   "outputs": [],
   "source": [
    "import sys\n",
    "sys.path.append('../_amigocloud')"
   ]
  },
  {
   "cell_type": "code",
   "execution_count": 2,
   "id": "665919a4-6184-4280-8c4c-64588f9131d6",
   "metadata": {},
   "outputs": [],
   "source": [
    "from werkzeug.wrappers import Request, Response\n",
    "from jinja2 import Template\n",
    "\n",
    "from datetime import datetime, timedelta\n",
    "\n",
    "import collections\n",
    "from amigocloud import AmigoCloud\n",
    "\n",
    "from datetime import datetime\n",
    "\n",
    "from shapely import wkb\n",
    "import geopandas\n",
    "import pandas as pd\n",
    "import contextily as ctx\n",
    "import matplotlib.pyplot as plt\n",
    "\n",
    "from docxtpl import DocxTemplate\n",
    "import docxtpl\n",
    "from docx.shared import Mm\n",
    "import requests\n",
    "\n",
    "import qrcode\n",
    "\n",
    "def convertir_wkb(wkb_data):\n",
    "    return wkb.loads(wkb_data, hex=True)"
   ]
  },
  {
   "cell_type": "code",
   "execution_count": 3,
   "id": "057998b9-c93b-4559-87c9-e82742149a8a",
   "metadata": {},
   "outputs": [],
   "source": [
    "# ruta de carpera donde estan las llaves\n",
    "ruta = open('../ruta.txt')\n",
    "ruta = ruta.readlines()[0]"
   ]
  },
  {
   "cell_type": "code",
   "execution_count": 4,
   "id": "f78ec737-093c-44bb-a782-1af54be4a65f",
   "metadata": {},
   "outputs": [
    {
     "data": {
      "text/plain": [
       "<amigocloud.AmigoCloud at 0x1817cd8b160>"
      ]
     },
     "execution_count": 4,
     "metadata": {},
     "output_type": "execute_result"
    }
   ],
   "source": [
    "# leer token\n",
    "acceso = open(ruta + '/_keys/api_amigocloud.key','r')\n",
    "api_token = acceso.readlines()[0]\n",
    "acceso.close()\n",
    "amigocloud = AmigoCloud(token=api_token)\n",
    "amigocloud"
   ]
  },
  {
   "cell_type": "code",
   "execution_count": 5,
   "id": "671335c0-f848-4ced-9199-d1000c19c39b",
   "metadata": {},
   "outputs": [],
   "source": [
    "def generar_reporte(codigo_canhero):\n",
    "    # EXTRAER DATOS DE CREDITO\n",
    "    query_credito = {'query': 'select * from dataset_307560 where cast(SPLIT_PART(canhero, \\'/\\', 1) as integer) = {cod_ca}'.format(cod_ca=codigo_canhero)}\n",
    "    credito_select = amigocloud.get('https://app.amigocloud.com/api/v1/projects/32672/sql', query_credito)\n",
    "    credito_data = credito_select['data'][0]\n",
    "    credito_data['fecha_informe'] = (datetime.strptime(credito_data['fecha_2da_insp'].split(' ')[0], '%Y-%m-%d') + timedelta(days=1)).strftime('%d/%m/%Y')\n",
    "    credito_data['fecha_2da_insp'] = datetime.strptime(credito_data['fecha_2da_insp'].split(' ')[0], '%Y-%m-%d').strftime('%d/%m/%Y')\n",
    "    credito = collections.namedtuple(\"credito\", credito_data.keys())(*credito_data.values())\n",
    "\n",
    "    # EXTRAER DATOS DE PROPIEDADES\n",
    "    query_propiedades = {'query': 'select * from dataset_307562 where insp_ref_prop = \\'{insp_ref_prop}\\''.format(insp_ref_prop=credito.amigo_id)}\n",
    "    propiedades_select = amigocloud.get('https://app.amigocloud.com/api/v1/projects/32672/sql', query_propiedades)\n",
    "    propiedades_data = propiedades_select['data']\n",
    "\n",
    "    # EXTRAER DATOS DE LOTES\n",
    "    propiedades = []\n",
    "    for prop in propiedades_data:\n",
    "        prop['lotes'] = []\n",
    "        query_lotes = {'query': 'select * from dataset_307563 where prop_ref_lote=\\'{prop_ref_lote}\\''.format(prop_ref_lote=prop['amigo_id'])}\n",
    "        lotes_select = amigocloud.get('https://app.amigocloud.com/api/v1/projects/32672/sql', query_lotes)\n",
    "        for lote_select in lotes_select['data']:\n",
    "            lote = collections.namedtuple(\"lote\", lote_select.keys())(*lote_select.values())\n",
    "            prop['lotes'].append(lote)\n",
    "        propiedades.append(collections.namedtuple(\"propiedad\", prop.keys())(*prop.values()))\n",
    "\n",
    "    # EXTRAER FOTOS\n",
    "    fotos = []\n",
    "    for propiedad in propiedades:\n",
    "        for lote in propiedad.lotes:\n",
    "            print(lote.lote, lote.amigo_id)\n",
    "            query_fotos = {'query': 'select source_amigo_id, s3_filename from gallery_48961 where source_amigo_id=\\'{source_amigo_id}\\''.format(source_amigo_id=lote.amigo_id)}\n",
    "            fotos_filename = amigocloud.get('https://app.amigocloud.com/api/v1/projects/32672/sql', query_fotos)\n",
    "            if fotos_filename['data'] != []:\n",
    "                dic = {'lote': lote.lote, 'file_name': fotos_filename['data'][0]['s3_filename']}\n",
    "                fotos.append(dic)\n",
    "\n",
    "    # GENERERAR PLANOS\n",
    "    i = 0\n",
    "    lista_planos = []\n",
    "    for propiedad in propiedades:\n",
    "        i = i + 1\n",
    "        lista_planos.append(generar_plano(propiedad, i))\n",
    "    \n",
    "    \n",
    "    # GENERAR QR\n",
    "    texto = '''\n",
    "--UTEA--\n",
    "--2DA INSPECCION CREDITO SIEMBRA--\n",
    "\n",
    "Codigo de Inspeccion: {cite}\n",
    "Fecha de 2da Inspeccion: {fecha}\n",
    "Nombre de Canero: {canero}\n",
    "Codigo Canero: {cod_ca}\n",
    "Total Solicitado: {soli}\n",
    "Total Area Insp.: {total_area} ha\n",
    "Estado de Insp.: {estado}\n",
    "Tecnico Responsable: {tecnico}'''\\\n",
    "    .format(\n",
    "        cite=str(credito.cite_2da_insp) + '-' + credito.fecha_2da_insp.split('/')[2], \n",
    "        fecha=credito.fecha_2da_insp, \n",
    "        canero=credito.canhero.split(' / ')[1],\n",
    "        cod_ca=credito.canhero.split(' / ')[0],\n",
    "        soli=credito.solicitado,\n",
    "        total_area=credito.total_2da_insp,\n",
    "        estado=credito.estado_2da_insp,\n",
    "        tecnico=credito.respon_2da_insp)\n",
    "    # Generar el código QR\n",
    "    qr = qrcode.QRCode(\n",
    "        version=1,\n",
    "        error_correction=qrcode.constants.ERROR_CORRECT_L,\n",
    "        box_size=10,\n",
    "        border=4,\n",
    "    )\n",
    "    qr.add_data(texto)\n",
    "    qr.make(fit=True)\n",
    "    \n",
    "    qr_img = qr.make_image(fill_color=\"black\", back_color=\"white\")\n",
    "    \n",
    "    cod_ca = credito.canhero.split(' / ')[0]\n",
    "    nom_ca = credito.canhero.split(' / ')[1]\n",
    "    filename_qr = \"qr_\" + cod_ca + '_CRS_' + credito.fecha_informe.replace('/', '-') + '_' + nom_ca\n",
    "    ruta_qr = ruta + '/planos/' + filename_qr + '.png'\n",
    "    # Guardar el código QR en un archivo\n",
    "    qr_img.save(ruta_qr)\n",
    "\n",
    "    # GENERAR REPORTE\n",
    "    doc = DocxTemplate(ruta + \"/templates/tpl_inf_credito_2da.docx\")\n",
    "    #generar lista de InlineImage de planos \n",
    "    lista_InlineImage = []\n",
    "    for plano in lista_planos:\n",
    "        lista_InlineImage.append(docxtpl.InlineImage(doc, image_descriptor=plano, width=Mm(150)))\n",
    "    #descargar fotos y generar lista InlineImage\n",
    "    lista_fotos_inline = []\n",
    "    for foto in fotos:\n",
    "        #response = requests.get(\"https://www-amigocloud.s3.amazonaws.com/gallery/\" + foto['file_name'])\n",
    "        response = requests.get(\"https://www-amigocloud.s3.amazonaws.com/gallery/\" + foto['file_name'])\n",
    "        file = open(ruta + '/fotos/' + foto['file_name'], \"wb\")\n",
    "        file.write(response.content)\n",
    "        file.close()\n",
    "        lista_fotos_inline.append({'foto': docxtpl.InlineImage(doc, image_descriptor=ruta+'/fotos/' + foto['file_name'], width=Mm(120)), 'lote': foto['lote']})\n",
    "    firma_respon = None\n",
    "    if credito.respon_2da_insp == 'Rogelio Acuña Rodríguez':\n",
    "        firma_respon = docxtpl.InlineImage(doc, image_descriptor=ruta+'/templates/firma_rogelio.png', width=Mm(60))\n",
    "    else:\n",
    "        firma_respon = docxtpl.InlineImage(doc, image_descriptor=ruta+'/templates/firma_jaldin.png', width=Mm(60))\n",
    "    # se crea obj inline par imagen QR\n",
    "    qr_file = docxtpl.InlineImage(doc, image_descriptor=ruta_qr, width=Mm(30))\n",
    "    \n",
    "    context = {'credito':credito, 'propiedades':propiedades, 'planos':lista_InlineImage, 'fotos':lista_fotos_inline, 'firma':firma_respon, 'qr':qr_file}\n",
    "    doc.render(context)\n",
    "    cod_ca = credito.canhero.split(' / ')[0]\n",
    "    nom_ca = credito.canhero.split(' / ')[1]\n",
    "    print(credito)\n",
    "    file_name = \"_\" + cod_ca + '_CRS_' + credito.fecha_informe.replace('/', '-') + '_' + nom_ca\n",
    "    doc.save(ruta + '/informes/' + file_name + '.docx')"
   ]
  },
  {
   "cell_type": "code",
   "execution_count": 7,
   "id": "f90ffde3-b794-45c0-a48e-f69a592752af",
   "metadata": {},
   "outputs": [],
   "source": [
    "def generar_plano(propiedad, i):\n",
    "    lotes_lista = []\n",
    "    for lote in propiedad.lotes:\n",
    "        lotes_lista.append(lote._asdict())\n",
    "    df = pd.DataFrame(lotes_lista)\n",
    "    df['geometria'] = df['geometria'].apply(convertir_wkb)\n",
    "\n",
    "    #Convertir a GeoDataFrame\n",
    "    data = geopandas.GeoDataFrame(df, geometry='geometria')\n",
    "    #data\n",
    "    #ctx.add_basemap(ax, source=ctx.providers.Esri.WorldImagery)\n",
    "\n",
    "    data['coords'] = data['geometria'].apply(lambda x: x.representative_point().coords[:])\n",
    "    data['coords'] = [coords[0] for coords in data['coords']]\n",
    "\n",
    "    data.crs = \"EPSG:4326\"\n",
    "    data = data.to_crs(epsg=3857)\n",
    "\n",
    "    \n",
    "    fig = plt.figure(i, figsize=(20,20))\n",
    "    #fig = plt.figure(1)\n",
    "    ax = None\n",
    "    ax = fig.add_subplot()\n",
    "\n",
    "    #data.set_crs(epsg=4326, inplace=True)\n",
    "\n",
    "    data.apply(lambda x: ax.annotate(text=x.lote + ' \\n' + str(x.superficie) + ' ha', xy=x.geometria.centroid.coords[0], ha='center', va='center', color='black', fontsize=12, weight=1000, bbox=dict(facecolor=(1,1,1,0.3), edgecolor='none', pad=0)), axis=1);\n",
    "\n",
    "    #data.boundary.plot(ax=ax, color=(0,0,0,0), linewidth=0)\n",
    "\n",
    "    #data = data.to_crs(epsg=3857)\n",
    "\n",
    "    minx, miny, maxx, maxy = data.total_bounds\n",
    "    ax.set_xlim(minx - 500, maxx + 500)\n",
    "    ax.set_ylim(miny - 400, maxy + 400)\n",
    "\n",
    "    data.plot(ax=ax, edgecolor='r', facecolor=(0,0,0,0), linewidth=2, figsize=(20,20))\n",
    "    #data.plot(ax=ax, edgecolor='r', facecolor=(0,0,0,0), linewidth=2)\n",
    "    \n",
    "    ctx.add_basemap(ax, source=ctx.providers.Esri.WorldImagery)\n",
    "    ax.set_axis_off()\n",
    "    ax.set_title(str(propiedad.propiedad), fontsize=20)\n",
    "    path = ruta+'/planos/' + str(propiedad.amigo_id) + '.jpeg'\n",
    "    fig.savefig(path, dpi = 300, bbox_inches='tight')\n",
    "    plt.clf()\n",
    "    return path"
   ]
  },
  {
   "cell_type": "code",
   "execution_count": 8,
   "id": "e4cd18b4-2c5c-4d42-a40a-7f98bb6650d4",
   "metadata": {},
   "outputs": [],
   "source": [
    "semana = 'S15'\n",
    "query = {'query': 'select split_part(canhero, \\' / \\', 1) cod, split_part(canhero, \\' / \\', 2) nom from dataset_307560 where semana_2da = \\'{sem}\\''.format(sem=semana)}\n",
    "project = 'https://app.amigocloud.com/api/v1/projects/32672/sql'\n",
    "select = amigocloud.get(project, query)\n",
    "data = select['data']"
   ]
  },
  {
   "cell_type": "code",
   "execution_count": 9,
   "id": "4cb06cb9-c4eb-42ca-acf9-6156d769042b",
   "metadata": {},
   "outputs": [
    {
     "data": {
      "text/plain": [
       "[{'cod': '18358', 'nom': 'ROJAS AMELUNGE CARLOS'},\n",
       " {'cod': '10739', 'nom': 'PERALES VARGAS IVAR JUAN'},\n",
       " {'cod': '41562', 'nom': 'SUAREZ SALAS ERWIN RONALD'},\n",
       " {'cod': '2565', 'nom': 'CANDIA RUIZ JOSE LUIS'}]"
      ]
     },
     "execution_count": 9,
     "metadata": {},
     "output_type": "execute_result"
    }
   ],
   "source": [
    "data"
   ]
  },
  {
   "cell_type": "code",
   "execution_count": 10,
   "id": "c9643d6a-4861-4ed3-b9ba-619aeaaeba46",
   "metadata": {},
   "outputs": [],
   "source": [
    "#lista = [1068, 18062, 10739, 41955, 2392, 15162, 2517, 8706, 15085, 430, 874, 5498, 2505, 2274]\n",
    "lista = [int(i['cod']) for i in data]"
   ]
  },
  {
   "cell_type": "code",
   "execution_count": 11,
   "id": "59340321-ace8-43b3-832b-75a531664da5",
   "metadata": {},
   "outputs": [
    {
     "name": "stdout",
     "output_type": "stream",
     "text": [
      "4 informes\n"
     ]
    }
   ],
   "source": [
    "print(len(lista), 'informes')"
   ]
  },
  {
   "cell_type": "code",
   "execution_count": 12,
   "id": "66f18907-ce26-4932-b53a-4ef39be24c3c",
   "metadata": {},
   "outputs": [
    {
     "data": {
      "text/plain": [
       "[18358, 10739, 41562, 2565]"
      ]
     },
     "execution_count": 12,
     "metadata": {},
     "output_type": "execute_result"
    }
   ],
   "source": [
    "lista"
   ]
  },
  {
   "cell_type": "code",
   "execution_count": 13,
   "id": "70c4c82b-41de-461d-8a66-628ab505953f",
   "metadata": {},
   "outputs": [
    {
     "name": "stdout",
     "output_type": "stream",
     "text": [
      "L5.1 de98142d6198477da54cba20ae0548ca\n",
      "L4 7d270d6ce2b349a5abb031278c61762f\n",
      "L14 38bdc00d0d0941fc89e4c2775381d012\n",
      "L12.1 80bf31a5e9d04ad78b9c797b99f421cb\n",
      "L18 1dbe1abd9ab14f139632ef5e73cb05ee\n",
      "L13 245c05667d6347e88cdf2cf249e6e945\n",
      "L6 374245e042a646d48948545990d7cf42\n",
      "L1.2 cc4c9354f9af4223abd6539565e046e5\n",
      "L9 542edc2177a8487cab53a3f4c24dbaa5\n",
      "L5 f3368e113f304335b713cb0bb31908ad\n",
      "L29.3 dac7818ed9d14706b40ba85c26237b42\n",
      "L11.3 0033bbe702864c77a9d7361b8bf081ff\n",
      "L30.6 ec0b3f3c9ad6464d913362bdff1d27d1\n",
      "L11.5 dedad076b9984d538dffbb7e422d8182\n",
      "L16 367b56f5743a4151bf4c05ad0f6f227b\n",
      "L30.2 772b1721db784fa9a59e54ee9403140d\n",
      "L29.2 c2907ac89c204d61a255d69d5b638b3c\n",
      "L29.1 72582743c6be44b4a8d5c16789702af0\n",
      "L29.4 0c32b8c91cfe41d1b32881f123300f7b\n",
      "L15 f8c0a0771d2943f08f02423bc548fe17\n",
      "credito(fecha_registro='2023-11-16 00:59:31.305131+00:00', amigo_id='73ea139b473c4e0ba4c28b98d15a70d2', semana_1ra='S46', semana_2da='S15', institucion=69, canhero='18358 / ROJAS AMELUNGE CARLOS', solicitado=180.0, total_1ra_insp=187.17, estado_1ra_insp='APROBADO', fecha_1ra_insp='2023-11-15 01:20:37+00:00', cite_1ra_insp=518, respon_1ra_insp='Rogelio Acuña Rodríguez', obs_1ra=None, link_doc_1ra='https://drive.google.com/file/d/19ETqHEdFI64RJH3GbBeVyuqoH-LHgqGv/view?usp=drivesdk', total_2da_insp=211.03, estado_2da_insp='APROBADO', fecha_2da_insp='08/04/2024', cite_2da_insp=42, respon_2da_insp='Rogelio Acuña Rodríguez', obs_2da='', link_doc_2da='https://drive.google.com/file/d/1RrpmCAseHK6y6cs5a7hr6waovVu3VN0C/view?usp=sharing', total_nacido=None, total_no_nacido=None, muestreo=True, glifosato=True, nivelacion_1=True, drenaje=True, romeplow=True, rastra=True, subsolado=True, rotacion=True, arado=False, ferti_base=True, enraizadores=True, insecticidas=True, fungicidas=True, preemergente=True, fecha_actualizacion='2024-04-10 15:58:28.632870+00:00', fertilizacion=False, fungi_en_siem=False, insec_en_siem=False, promot_de_brota=False, pre_emergente=False, post_emergente=False, cultivado=False, ctrl_bio_tricho=False, insect_fisio_otros=False, ctrl_malezas=False, nivelacion_2=False, drenajes=False, financiamiento='IAG', id=271, total_sembrado_2da=40.55, fecha_informe='09/04/2024')\n",
      "====================== 18358\n",
      "L1 3b8fd62800864b96a0ce48ce32be3e12\n",
      "credito(fecha_registro='2023-11-16 00:59:31.305131+00:00', amigo_id='446a282164d043b5930c8e4fa21037b1', semana_1ra='S49', semana_2da='S15', institucion=37, canhero='10739 / PERALES VARGAS IVAR JUAN', solicitado=20.0, total_1ra_insp=24.32, estado_1ra_insp='APROBADO', fecha_1ra_insp='2023-12-08 23:28:47+00:00', cite_1ra_insp=587, respon_1ra_insp='Rogelio Acuña Rodríguez', obs_1ra=None, link_doc_1ra='https://drive.google.com/file/d/1E60hhmUuUTh0Kt1KN9wC4knwPIT1z4qn/view?usp=drivesdk', total_2da_insp=24.32, estado_2da_insp='APROBADO', fecha_2da_insp='11/04/2024', cite_2da_insp=45, respon_2da_insp='Rogelio Acuña Rodríguez', obs_2da=None, link_doc_2da=None, total_nacido=None, total_no_nacido=None, muestreo=False, glifosato=True, nivelacion_1=False, drenaje=True, romeplow=True, rastra=True, subsolado=False, rotacion=True, arado=False, ferti_base=True, enraizadores=False, insecticidas=True, fungicidas=True, preemergente=True, fecha_actualizacion='2024-04-13 12:37:54.736051+00:00', fertilizacion=False, fungi_en_siem=False, insec_en_siem=False, promot_de_brota=False, pre_emergente=False, post_emergente=False, cultivado=False, ctrl_bio_tricho=False, insect_fisio_otros=False, ctrl_malezas=False, nivelacion_2=False, drenajes=False, financiamiento='IAG', id=332, total_sembrado_2da=24.32, fecha_informe='12/04/2024')\n",
      "====================== 10739\n",
      "L2.1 b8dfa2b684b8423f8ed0fad7d3d563ae\n",
      "L1.3 20e9f34299844fe3bec0d6a75fa1f0e0\n",
      "L7.1 cee6e1e441d34be7b7b1316099c47306\n",
      "L7.2 354431a184864015b891602171726e4e\n",
      "L3.3 fb5fcd1e1dbc419f80b52950618b505a\n",
      "L2 f9c70d7abfdd4eedbc19b604e3585ae9\n",
      "credito(fecha_registro='2023-11-16 00:59:31.305131+00:00', amigo_id='68a5a17bdaac42ef9d25d17b62a21922', semana_1ra='S48', semana_2da='S15', institucion=40, canhero='41562 / SUAREZ SALAS ERWIN RONALD', solicitado=40.0, total_1ra_insp=34.95, estado_1ra_insp='APROBADO', fecha_1ra_insp='2023-11-29 20:14:11+00:00', cite_1ra_insp=566, respon_1ra_insp='Juan Pablo Jaldin Duran', obs_1ra=None, link_doc_1ra='https://drive.google.com/file/d/1QpgaeNuwzF-TC7AcsjVMQNDzx1wFn2aK/view?usp=drivesdk', total_2da_insp=34.95, estado_2da_insp='APROBADO', fecha_2da_insp='09/04/2024', cite_2da_insp=44, respon_2da_insp='Rogelio Acuña Rodríguez', obs_2da=None, link_doc_2da=None, total_nacido=None, total_no_nacido=None, muestreo=False, glifosato=False, nivelacion_1=True, drenaje=True, romeplow=True, rastra=True, subsolado=False, rotacion=False, arado=False, ferti_base=True, enraizadores=True, insecticidas=True, fungicidas=True, preemergente=True, fecha_actualizacion='2024-04-13 12:07:18.298450+00:00', fertilizacion=False, fungi_en_siem=False, insec_en_siem=False, promot_de_brota=False, pre_emergente=False, post_emergente=False, cultivado=False, ctrl_bio_tricho=False, insect_fisio_otros=False, ctrl_malezas=False, nivelacion_2=False, drenajes=False, financiamiento='IAG', id=297, total_sembrado_2da=8.1, fecha_informe='10/04/2024')\n",
      "====================== 41562\n",
      "L4.1 fc6715efccf946d4b66af8aac3b39201\n",
      "L8 dbe6cefd6074416e9dcb94c31eaea256\n",
      "L5.3 c817f278158645879858982e5565c31f\n",
      "L1 7a795158275045518dfc4a35e1f5bdcb\n",
      "credito(fecha_registro='2023-12-08 13:25:32.491961+00:00', amigo_id='128c1107b3724591b1f9c0feb1dde48c', semana_1ra='S50', semana_2da='S15', institucion=66, canhero='2565 / CANDIA RUIZ JOSE LUIS', solicitado=35.0, total_1ra_insp=37.64, estado_1ra_insp='APROBADO', fecha_1ra_insp='2023-12-14 02:29:37+00:00', cite_1ra_insp=602, respon_1ra_insp='Juan Pablo Jaldin Duran', obs_1ra=None, link_doc_1ra='https://drive.google.com/file/d/1LtmC9WJxcRccxCw6tu3yS_09upjL6Y1U/view?usp=drivesdk', total_2da_insp=37.3, estado_2da_insp='APROBADO', fecha_2da_insp='11/04/2024', cite_2da_insp=46, respon_2da_insp='Rogelio Acuña Rodríguez', obs_2da='SE TERMINO LA SIEMBRA EN UNA PROPIEDAD', link_doc_2da=None, total_nacido=None, total_no_nacido=None, muestreo=False, glifosato=True, nivelacion_1=True, drenaje=False, romeplow=True, rastra=True, subsolado=False, rotacion=True, arado=False, ferti_base=False, enraizadores=True, insecticidas=True, fungicidas=False, preemergente=True, fecha_actualizacion='2024-04-13 13:04:09.582904+00:00', fertilizacion=False, fungi_en_siem=False, insec_en_siem=False, promot_de_brota=False, pre_emergente=False, post_emergente=False, cultivado=False, ctrl_bio_tricho=False, insect_fisio_otros=False, ctrl_malezas=False, nivelacion_2=False, drenajes=False, financiamiento='IAG', id=441, total_sembrado_2da=10.89, fecha_informe='12/04/2024')\n",
      "====================== 2565\n"
     ]
    },
    {
     "data": {
      "text/plain": [
       "<Figure size 2000x2000 with 0 Axes>"
      ]
     },
     "metadata": {},
     "output_type": "display_data"
    },
    {
     "data": {
      "text/plain": [
       "<Figure size 2000x2000 with 0 Axes>"
      ]
     },
     "metadata": {},
     "output_type": "display_data"
    },
    {
     "data": {
      "text/plain": [
       "<Figure size 2000x2000 with 0 Axes>"
      ]
     },
     "metadata": {},
     "output_type": "display_data"
    }
   ],
   "source": [
    "for i in lista:\n",
    "    generar_reporte(i)\n",
    "    print('======================', i)"
   ]
  }
 ],
 "metadata": {
  "kernelspec": {
   "display_name": "Python 3 (ipykernel)",
   "language": "python",
   "name": "python3"
  },
  "language_info": {
   "codemirror_mode": {
    "name": "ipython",
    "version": 3
   },
   "file_extension": ".py",
   "mimetype": "text/x-python",
   "name": "python",
   "nbconvert_exporter": "python",
   "pygments_lexer": "ipython3",
   "version": "3.10.13"
  }
 },
 "nbformat": 4,
 "nbformat_minor": 5
}
