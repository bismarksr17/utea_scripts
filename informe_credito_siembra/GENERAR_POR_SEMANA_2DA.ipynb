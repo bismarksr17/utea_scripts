{
 "cells": [
  {
   "cell_type": "code",
   "execution_count": 1,
   "id": "6658e010-c382-4e03-a45a-67c832b35ef9",
   "metadata": {},
   "outputs": [],
   "source": [
    "# werkzeug\n",
    "# shapely=1.7.1\n",
    "# geopandas\n",
    "# pandas\n",
    "# contextily\n",
    "# matplotlib\n",
    "# docxtpl\n",
    "# docx"
   ]
  },
  {
   "cell_type": "code",
   "execution_count": 48,
   "id": "8c292c7c-2591-4985-93c8-88314bca3d5a",
   "metadata": {},
   "outputs": [],
   "source": [
    "import sys\n",
    "sys.path.append('../_amigocloud')"
   ]
  },
  {
   "cell_type": "code",
   "execution_count": 49,
   "id": "665919a4-6184-4280-8c4c-64588f9131d6",
   "metadata": {},
   "outputs": [],
   "source": [
    "from werkzeug.wrappers import Request, Response\n",
    "from jinja2 import Template\n",
    "\n",
    "from datetime import datetime, timedelta\n",
    "\n",
    "import collections\n",
    "from amigocloud import AmigoCloud\n",
    "\n",
    "from datetime import datetime\n",
    "\n",
    "from shapely import wkb\n",
    "import geopandas\n",
    "import pandas as pd\n",
    "import contextily as ctx\n",
    "import matplotlib.pyplot as plt\n",
    "\n",
    "from docxtpl import DocxTemplate\n",
    "import docxtpl\n",
    "from docx.shared import Mm\n",
    "import requests\n",
    "\n",
    "import qrcode\n",
    "\n",
    "def convertir_wkb(wkb_data):\n",
    "    return wkb.loads(wkb_data, hex=True)"
   ]
  },
  {
   "cell_type": "code",
   "execution_count": 50,
   "id": "057998b9-c93b-4559-87c9-e82742149a8a",
   "metadata": {},
   "outputs": [],
   "source": [
    "# ruta de carpera donde estan las llaves\n",
    "ruta = open('../ruta.txt')\n",
    "ruta = ruta.readlines()[0]"
   ]
  },
  {
   "cell_type": "code",
   "execution_count": 51,
   "id": "f78ec737-093c-44bb-a782-1af54be4a65f",
   "metadata": {},
   "outputs": [
    {
     "data": {
      "text/plain": [
       "<amigocloud.AmigoCloud at 0x263933ef9a0>"
      ]
     },
     "execution_count": 51,
     "metadata": {},
     "output_type": "execute_result"
    }
   ],
   "source": [
    "# leer token\n",
    "acceso = open(ruta + '/_keys/api_amigocloud.key','r')\n",
    "api_token = acceso.readlines()[0]\n",
    "acceso.close()\n",
    "amigocloud = AmigoCloud(token=api_token)\n",
    "amigocloud"
   ]
  },
  {
   "cell_type": "code",
   "execution_count": null,
   "id": "fd24df3b-03ab-4317-a628-9c64f2cfa6e1",
   "metadata": {},
   "outputs": [],
   "source": []
  },
  {
   "cell_type": "code",
   "execution_count": null,
   "id": "fbd9b6bb-57b5-45a4-9783-1962fb4c915c",
   "metadata": {},
   "outputs": [],
   "source": []
  },
  {
   "cell_type": "code",
   "execution_count": null,
   "id": "fc09bc64-2e69-4066-ab56-8352fd548e78",
   "metadata": {},
   "outputs": [],
   "source": []
  },
  {
   "cell_type": "code",
   "execution_count": null,
   "id": "e7657522-665a-4848-ab19-ef33c4d11f76",
   "metadata": {},
   "outputs": [],
   "source": []
  },
  {
   "cell_type": "code",
   "execution_count": null,
   "id": "399642d2-df24-4ed4-9dc3-e07bd1ab11e3",
   "metadata": {},
   "outputs": [],
   "source": []
  },
  {
   "cell_type": "code",
   "execution_count": null,
   "id": "ab1c0c7a-16aa-45f7-ab99-ae2aaa687ef9",
   "metadata": {},
   "outputs": [],
   "source": []
  },
  {
   "cell_type": "code",
   "execution_count": null,
   "id": "30f2a209-026b-4b3f-9712-ce6d20e29e39",
   "metadata": {},
   "outputs": [],
   "source": []
  },
  {
   "cell_type": "code",
   "execution_count": 52,
   "id": "671335c0-f848-4ced-9199-d1000c19c39b",
   "metadata": {},
   "outputs": [],
   "source": [
    "def generar_reporte(codigo_canhero):\n",
    "    # EXTRAER DATOS DE CREDITO\n",
    "    query_credito = {'query': 'select * from dataset_307560 where cast(SPLIT_PART(canhero, \\'/\\', 1) as integer) = {cod_ca}'.format(cod_ca=codigo_canhero)}\n",
    "    credito_select = amigocloud.get('https://app.amigocloud.com/api/v1/projects/32672/sql', query_credito)\n",
    "    credito_data = credito_select['data'][0]\n",
    "    credito_data['fecha_informe'] = (datetime.strptime(credito_data['fecha_2da_insp'].split(' ')[0], '%Y-%m-%d') + timedelta(days=1)).strftime('%d/%m/%Y')\n",
    "    credito_data['fecha_2da_insp'] = datetime.strptime(credito_data['fecha_2da_insp'].split(' ')[0], '%Y-%m-%d').strftime('%d/%m/%Y')\n",
    "    credito = collections.namedtuple(\"credito\", credito_data.keys())(*credito_data.values())\n",
    "    print(credito)\n",
    "\n",
    "    # EXTRAER DATOS DE PROPIEDADES\n",
    "    query_propiedades = {'query': 'select * from dataset_307562 where insp_ref_prop = \\'{insp_ref_prop}\\''.format(insp_ref_prop=credito.amigo_id)}\n",
    "    propiedades_select = amigocloud.get('https://app.amigocloud.com/api/v1/projects/32672/sql', query_propiedades)\n",
    "    propiedades_data = propiedades_select['data']\n",
    "\n",
    "    # EXTRAER DATOS DE LOTES\n",
    "    propiedades = []\n",
    "    for prop in propiedades_data:\n",
    "        prop['lotes'] = []\n",
    "        query_lotes = {'query': \"select * from dataset_307563 where (estado_lote_2da = 'SEMBRADO' or estado_lote_2da = 'NO SEMBRADO') and prop_ref_lote=\\'{prop_ref_lote}\\'\".format(prop_ref_lote=prop['amigo_id'])}\n",
    "        lotes_select = amigocloud.get('https://app.amigocloud.com/api/v1/projects/32672/sql', query_lotes)\n",
    "        for lote_select in lotes_select['data']:\n",
    "            lote = collections.namedtuple(\"lote\", lote_select.keys())(*lote_select.values())\n",
    "            prop['lotes'].append(lote)\n",
    "        propiedades.append(collections.namedtuple(\"propiedad\", prop.keys())(*prop.values()))\n",
    "\n",
    "    # EXTRAER FOTOS\n",
    "    fotos = []\n",
    "    for propiedad in propiedades:\n",
    "        for lote in propiedad.lotes:\n",
    "            print(lote.lote, lote.amigo_id)\n",
    "            query_fotos = {'query': 'select source_amigo_id, s3_filename from gallery_48961 where source_amigo_id=\\'{source_amigo_id}\\''.format(source_amigo_id=lote.amigo_id)}\n",
    "            fotos_filename = amigocloud.get('https://app.amigocloud.com/api/v1/projects/32672/sql', query_fotos)\n",
    "            if fotos_filename['data'] != []:\n",
    "                dic = {'lote': lote.lote, 'file_name': fotos_filename['data'][0]['s3_filename']}\n",
    "                fotos.append(dic)\n",
    "\n",
    "    # GENERERAR PLANOS\n",
    "    i = 0\n",
    "    lista_planos = []\n",
    "    for propiedad in propiedades:\n",
    "        i = i + 1\n",
    "        lista_planos.append(generar_plano(propiedad, i))\n",
    "    \n",
    "    \n",
    "    # GENERAR QR\n",
    "    texto = '''\n",
    "--UTEA--\n",
    "--2DA INSPECCION CREDITO SIEMBRA--\n",
    "\n",
    "Codigo de Inspeccion: {cite}\n",
    "Fecha de 2da Inspeccion: {fecha}\n",
    "Nombre de Canero: {canero}\n",
    "Codigo Canero: {cod_ca}\n",
    "Total Solicitado: {soli}\n",
    "Total Area Insp.: {total_area} ha\n",
    "Estado de Insp.: {estado}\n",
    "Tecnico Responsable: {tecnico}'''\\\n",
    "    .format(\n",
    "        cite=str(credito.cite_2da_insp) + '-' + credito.fecha_2da_insp.split('/')[2], \n",
    "        fecha=credito.fecha_2da_insp, \n",
    "        canero=credito.canhero.split(' / ')[1],\n",
    "        cod_ca=credito.canhero.split(' / ')[0],\n",
    "        soli=credito.solicitado,\n",
    "        total_area=credito.total_2da_insp,\n",
    "        estado=credito.estado_2da_insp,\n",
    "        tecnico=credito.respon_2da_insp)\n",
    "    # Generar el código QR\n",
    "    qr = qrcode.QRCode(\n",
    "        version=1,\n",
    "        error_correction=qrcode.constants.ERROR_CORRECT_L,\n",
    "        box_size=10,\n",
    "        border=4,\n",
    "    )\n",
    "    qr.add_data(texto)\n",
    "    qr.make(fit=True)\n",
    "    \n",
    "    qr_img = qr.make_image(fill_color=\"black\", back_color=\"white\")\n",
    "    \n",
    "    cod_ca = credito.canhero.split(' / ')[0]\n",
    "    nom_ca = credito.canhero.split(' / ')[1]\n",
    "    filename_qr = \"qr_\" + cod_ca + '_CRS_' + credito.fecha_informe.replace('/', '-') + '_' + nom_ca\n",
    "    ruta_qr = ruta + '/planos/' + filename_qr + '.png'\n",
    "    # Guardar el código QR en un archivo\n",
    "    qr_img.save(ruta_qr)\n",
    "\n",
    "    # GENERAR REPORTE\n",
    "    doc = DocxTemplate(ruta + \"/templates/tpl_inf_credito_2da.docx\")\n",
    "    #generar lista de InlineImage de planos \n",
    "    lista_InlineImage = []\n",
    "    for plano in lista_planos:\n",
    "        lista_InlineImage.append(docxtpl.InlineImage(doc, image_descriptor=plano, width=Mm(150)))\n",
    "    #descargar fotos y generar lista InlineImage\n",
    "    lista_fotos_inline = []\n",
    "    for foto in fotos:\n",
    "        #response = requests.get(\"https://www-amigocloud.s3.amazonaws.com/gallery/\" + foto['file_name'])\n",
    "        response = requests.get(\"https://www-amigocloud.s3.amazonaws.com/gallery/\" + foto['file_name'])\n",
    "        file = open(ruta + '/fotos/' + foto['file_name'], \"wb\")\n",
    "        file.write(response.content)\n",
    "        file.close()\n",
    "        lista_fotos_inline.append({'foto': docxtpl.InlineImage(doc, image_descriptor=ruta+'/fotos/' + foto['file_name'], width=Mm(120)), 'lote': foto['lote']})\n",
    "    firma_respon = None\n",
    "    if credito.respon_2da_insp == 'Rogelio Acuña Rodríguez':\n",
    "        firma_respon = docxtpl.InlineImage(doc, image_descriptor=ruta+'/templates/firma_rogelio.png', width=Mm(60))\n",
    "    else:\n",
    "        firma_respon = docxtpl.InlineImage(doc, image_descriptor=ruta+'/templates/firma_jaldin.png', width=Mm(60))\n",
    "    # se crea obj inline par imagen QR\n",
    "    qr_file = docxtpl.InlineImage(doc, image_descriptor=ruta_qr, width=Mm(30))\n",
    "    \n",
    "    context = {'credito':credito, 'propiedades':propiedades, 'planos':lista_InlineImage, 'fotos':lista_fotos_inline, 'firma':firma_respon, 'qr':qr_file}\n",
    "    doc.render(context)\n",
    "    cod_ca = credito.canhero.split(' / ')[0]\n",
    "    nom_ca = credito.canhero.split(' / ')[1]\n",
    "    print(credito)\n",
    "    file_name = \"_\" + cod_ca + '_CRS_' + credito.fecha_informe.replace('/', '-') + '_' + nom_ca\n",
    "    doc.save(ruta + '/informes/' + file_name + '.docx')"
   ]
  },
  {
   "cell_type": "code",
   "execution_count": 53,
   "id": "f90ffde3-b794-45c0-a48e-f69a592752af",
   "metadata": {},
   "outputs": [],
   "source": [
    "def generar_plano(propiedad, i):\n",
    "    lotes_lista = []\n",
    "    for lote in propiedad.lotes:\n",
    "        lotes_lista.append(lote._asdict())\n",
    "    df = pd.DataFrame(lotes_lista)\n",
    "    df['geometria'] = df['geometria'].apply(convertir_wkb)\n",
    "\n",
    "    #Convertir a GeoDataFrame\n",
    "    data = geopandas.GeoDataFrame(df, geometry='geometria')\n",
    "    #data\n",
    "    #ctx.add_basemap(ax, source=ctx.providers.Esri.WorldImagery)\n",
    "\n",
    "    data['coords'] = data['geometria'].apply(lambda x: x.representative_point().coords[:])\n",
    "    data['coords'] = [coords[0] for coords in data['coords']]\n",
    "\n",
    "    data.crs = \"EPSG:4326\"\n",
    "    data = data.to_crs(epsg=3857)\n",
    "\n",
    "    \n",
    "    fig = plt.figure(i, figsize=(20,20))\n",
    "    #fig = plt.figure(1)\n",
    "    ax = None\n",
    "    ax = fig.add_subplot()\n",
    "\n",
    "    #data.set_crs(epsg=4326, inplace=True)\n",
    "\n",
    "    data.apply(lambda x: ax.annotate(text=x.lote + ' \\n' + str(x.superficie) + ' ha', xy=x.geometria.centroid.coords[0], ha='center', va='center', color='black', fontsize=12, weight=1000, bbox=dict(facecolor=(1,1,1,0.3), edgecolor='none', pad=0)), axis=1);\n",
    "\n",
    "    #data.boundary.plot(ax=ax, color=(0,0,0,0), linewidth=0)\n",
    "\n",
    "    #data = data.to_crs(epsg=3857)\n",
    "\n",
    "    minx, miny, maxx, maxy = data.total_bounds\n",
    "    ax.set_xlim(minx - 500, maxx + 500)\n",
    "    ax.set_ylim(miny - 400, maxy + 400)\n",
    "\n",
    "    data.plot(ax=ax, edgecolor='r', facecolor=(0,0,0,0), linewidth=2, figsize=(20,20))\n",
    "    #data.plot(ax=ax, edgecolor='r', facecolor=(0,0,0,0), linewidth=2)\n",
    "    \n",
    "    ctx.add_basemap(ax, source=ctx.providers.Esri.WorldImagery)\n",
    "    ax.set_axis_off()\n",
    "    ax.set_title(str(propiedad.propiedad), fontsize=20)\n",
    "    path = ruta+'/planos/' + str(propiedad.amigo_id) + '.jpeg'\n",
    "    fig.savefig(path, dpi = 300, bbox_inches='tight')\n",
    "    plt.clf()\n",
    "    return path"
   ]
  },
  {
   "cell_type": "code",
   "execution_count": 54,
   "id": "e4cd18b4-2c5c-4d42-a40a-7f98bb6650d4",
   "metadata": {},
   "outputs": [],
   "source": [
    "semana = 'S20'\n",
    "query = {'query': 'select split_part(canhero, \\' / \\', 1) cod, split_part(canhero, \\' / \\', 2) nom from dataset_307560 where semana_2da = \\'{sem}\\''.format(sem=semana)}\n",
    "project = 'https://app.amigocloud.com/api/v1/projects/32672/sql'\n",
    "select = amigocloud.get(project, query)\n",
    "data = select['data']"
   ]
  },
  {
   "cell_type": "code",
   "execution_count": 55,
   "id": "4cb06cb9-c4eb-42ca-acf9-6156d769042b",
   "metadata": {},
   "outputs": [
    {
     "data": {
      "text/plain": [
       "[{'cod': '4967', 'nom': 'GUZMAN ALMANZA WILLAN'},\n",
       " {'cod': '4528', 'nom': 'GUZMAN ORELLANA GUSTAVO'},\n",
       " {'cod': '1672', 'nom': 'CAMPBELL BALCAZAR ALAN'},\n",
       " {'cod': '2029', 'nom': 'COLAMARINO DI SILVIO ANGELO'},\n",
       " {'cod': '41531', 'nom': 'GUZMAN ALMANZA WILMER'},\n",
       " {'cod': '31160', 'nom': 'PIZARRO PARADA HUGO ANDRES'},\n",
       " {'cod': '11805', 'nom': 'RIOJA CABRERA JOSE GROVER'},\n",
       " {'cod': '10650', 'nom': 'PIZARRO PIZARRO WALTER'},\n",
       " {'cod': '3481', 'nom': 'ESPINOZA MANCILLA REYNALDO'},\n",
       " {'cod': '8881', 'nom': 'MONTANO GUTIERREZ BELSA'},\n",
       " {'cod': '42034', 'nom': 'ACSAMA MAMANI TEODORA'},\n",
       " {'cod': '3460', 'nom': 'ESPINOZA MENDOZA SANTIAGO'},\n",
       " {'cod': '42044', 'nom': 'ESPINOZA MANCILLA WILMA'},\n",
       " {'cod': '9850', 'nom': 'OVANDO HUALLPA TIBURCIO'},\n",
       " {'cod': '42131', 'nom': 'AGROPECUARIA CAMPOAZUL S.R.L.'},\n",
       " {'cod': '743', 'nom': 'ARTEAGA CHAVEZ ROBERT E.'},\n",
       " {'cod': '41599', 'nom': 'LOPEZ TURIHUANO JUAN CARLOS'},\n",
       " {'cod': '2315', 'nom': 'CORDOVA OLGUIN JUAN CARLOS'}]"
      ]
     },
     "execution_count": 55,
     "metadata": {},
     "output_type": "execute_result"
    }
   ],
   "source": [
    "data"
   ]
  },
  {
   "cell_type": "code",
   "execution_count": 56,
   "id": "c9643d6a-4861-4ed3-b9ba-619aeaaeba46",
   "metadata": {},
   "outputs": [],
   "source": [
    "#lista = [1068, 18062, 10739, 41955, 2392, 15162, 2517, 8706, 15085, 430, 874, 5498, 2505, 2274]\n",
    "lista = [int(i['cod']) for i in data]"
   ]
  },
  {
   "cell_type": "code",
   "execution_count": 57,
   "id": "59340321-ace8-43b3-832b-75a531664da5",
   "metadata": {},
   "outputs": [
    {
     "name": "stdout",
     "output_type": "stream",
     "text": [
      "18 informes\n"
     ]
    }
   ],
   "source": [
    "print(len(lista), 'informes')"
   ]
  },
  {
   "cell_type": "code",
   "execution_count": 13,
   "id": "66f18907-ce26-4932-b53a-4ef39be24c3c",
   "metadata": {},
   "outputs": [],
   "source": [
    "#lista = [18070, 42178]"
   ]
  },
  {
   "cell_type": "code",
   "execution_count": 59,
   "id": "70c4c82b-41de-461d-8a66-628ab505953f",
   "metadata": {},
   "outputs": [
    {
     "name": "stdout",
     "output_type": "stream",
     "text": [
      "credito(fecha_registro='2023-11-16 00:59:31.305131+00:00', amigo_id='7e05f82b537f44ffa850bb4fc0f54479', semana_1ra='S47', semana_2da='S20', institucion=304, canhero='4967 / GUZMAN ALMANZA WILLAN', solicitado=40.0, total_1ra_insp=40.38, estado_1ra_insp='APROBADO', fecha_1ra_insp='2023-11-20 12:45:03+00:00', cite_1ra_insp=543, respon_1ra_insp='Juan Pablo Jaldin Duran', obs_1ra=None, link_doc_1ra='https://drive.google.com/file/d/11L4tm7ZE54R74OstMTREK5RVeU8G8ChG/view?usp=drivesdk', total_2da_insp=40.38, estado_2da_insp='APROBADO', fecha_2da_insp='14/05/2024', cite_2da_insp=80, respon_2da_insp='Rogelio Acuña Rodríguez', obs_2da=None, link_doc_2da=None, total_nacido=None, total_no_nacido=None, muestreo=False, glifosato=True, nivelacion_1=True, drenaje=False, romeplow=True, rastra=True, subsolado=False, rotacion=True, arado=False, ferti_base=False, enraizadores=True, insecticidas=True, fungicidas=True, preemergente=True, fecha_actualizacion='2024-05-17 19:35:42.382235+00:00', fertilizacion=False, fungi_en_siem=False, insec_en_siem=False, promot_de_brota=False, pre_emergente=False, post_emergente=False, cultivado=False, ctrl_bio_tricho=False, insect_fisio_otros=False, ctrl_malezas=False, nivelacion_2=False, drenajes=False, financiamiento='IAG', id=302, total_sembrado_2da=19.26, semana_3ra=None, fecha_3ra_insp=None, total_3ra_insp=None, respon_3ra_insp=None, link_doc_3ra=None, estado_3ra_insp=None, fecha_informe='15/05/2024')\n",
      "L5.1 ceb156b396ca4ec1b25700a3bbf76b83\n",
      "L4.2 f40dd96a2a5e491496ce666d73fcde82\n",
      "L3 f2b576f9fb5b40b9babe410f315329dc\n",
      "credito(fecha_registro='2023-11-16 00:59:31.305131+00:00', amigo_id='7e05f82b537f44ffa850bb4fc0f54479', semana_1ra='S47', semana_2da='S20', institucion=304, canhero='4967 / GUZMAN ALMANZA WILLAN', solicitado=40.0, total_1ra_insp=40.38, estado_1ra_insp='APROBADO', fecha_1ra_insp='2023-11-20 12:45:03+00:00', cite_1ra_insp=543, respon_1ra_insp='Juan Pablo Jaldin Duran', obs_1ra=None, link_doc_1ra='https://drive.google.com/file/d/11L4tm7ZE54R74OstMTREK5RVeU8G8ChG/view?usp=drivesdk', total_2da_insp=40.38, estado_2da_insp='APROBADO', fecha_2da_insp='14/05/2024', cite_2da_insp=80, respon_2da_insp='Rogelio Acuña Rodríguez', obs_2da=None, link_doc_2da=None, total_nacido=None, total_no_nacido=None, muestreo=False, glifosato=True, nivelacion_1=True, drenaje=False, romeplow=True, rastra=True, subsolado=False, rotacion=True, arado=False, ferti_base=False, enraizadores=True, insecticidas=True, fungicidas=True, preemergente=True, fecha_actualizacion='2024-05-17 19:35:42.382235+00:00', fertilizacion=False, fungi_en_siem=False, insec_en_siem=False, promot_de_brota=False, pre_emergente=False, post_emergente=False, cultivado=False, ctrl_bio_tricho=False, insect_fisio_otros=False, ctrl_malezas=False, nivelacion_2=False, drenajes=False, financiamiento='IAG', id=302, total_sembrado_2da=19.26, semana_3ra=None, fecha_3ra_insp=None, total_3ra_insp=None, respon_3ra_insp=None, link_doc_3ra=None, estado_3ra_insp=None, fecha_informe='15/05/2024')\n",
      "====================== 4967\n",
      "credito(fecha_registro='2023-11-16 00:59:31.305131+00:00', amigo_id='4709e87ac3fe45899fd7763a02a684c5', semana_1ra='S48', semana_2da='S20', institucion=304, canhero='4528 / GUZMAN ORELLANA GUSTAVO', solicitado=10.0, total_1ra_insp=11.43, estado_1ra_insp='APROBADO', fecha_1ra_insp='2023-11-27 18:26:55+00:00', cite_1ra_insp=557, respon_1ra_insp='Juan Pablo Jaldin Duran', obs_1ra=None, link_doc_1ra='https://drive.google.com/file/d/1KmTxg9szKzj7ENxShvAGgHNPbNQtDBHQ/view?usp=drivesdk', total_2da_insp=11.43, estado_2da_insp='APROBADO', fecha_2da_insp='15/05/2024', cite_2da_insp=79, respon_2da_insp='Rogelio Acuña Rodríguez', obs_2da=None, link_doc_2da=None, total_nacido=None, total_no_nacido=None, muestreo=False, glifosato=True, nivelacion_1=True, drenaje=False, romeplow=True, rastra=True, subsolado=False, rotacion=True, arado=False, ferti_base=False, enraizadores=True, insecticidas=True, fungicidas=False, preemergente=True, fecha_actualizacion='2024-05-17 19:12:04.774647+00:00', fertilizacion=False, fungi_en_siem=False, insec_en_siem=False, promot_de_brota=False, pre_emergente=False, post_emergente=False, cultivado=False, ctrl_bio_tricho=False, insect_fisio_otros=False, ctrl_malezas=False, nivelacion_2=False, drenajes=False, financiamiento='IAG', id=388, total_sembrado_2da=11.43, semana_3ra=None, fecha_3ra_insp=None, total_3ra_insp=None, respon_3ra_insp=None, link_doc_3ra=None, estado_3ra_insp=None, fecha_informe='16/05/2024')\n",
      "L1 29009b5b99504e5d94fd2587a2beb178\n",
      "L5 ccb59fd0c85b4f84bbf69c287c54a0cf\n",
      "credito(fecha_registro='2023-11-16 00:59:31.305131+00:00', amigo_id='4709e87ac3fe45899fd7763a02a684c5', semana_1ra='S48', semana_2da='S20', institucion=304, canhero='4528 / GUZMAN ORELLANA GUSTAVO', solicitado=10.0, total_1ra_insp=11.43, estado_1ra_insp='APROBADO', fecha_1ra_insp='2023-11-27 18:26:55+00:00', cite_1ra_insp=557, respon_1ra_insp='Juan Pablo Jaldin Duran', obs_1ra=None, link_doc_1ra='https://drive.google.com/file/d/1KmTxg9szKzj7ENxShvAGgHNPbNQtDBHQ/view?usp=drivesdk', total_2da_insp=11.43, estado_2da_insp='APROBADO', fecha_2da_insp='15/05/2024', cite_2da_insp=79, respon_2da_insp='Rogelio Acuña Rodríguez', obs_2da=None, link_doc_2da=None, total_nacido=None, total_no_nacido=None, muestreo=False, glifosato=True, nivelacion_1=True, drenaje=False, romeplow=True, rastra=True, subsolado=False, rotacion=True, arado=False, ferti_base=False, enraizadores=True, insecticidas=True, fungicidas=False, preemergente=True, fecha_actualizacion='2024-05-17 19:12:04.774647+00:00', fertilizacion=False, fungi_en_siem=False, insec_en_siem=False, promot_de_brota=False, pre_emergente=False, post_emergente=False, cultivado=False, ctrl_bio_tricho=False, insect_fisio_otros=False, ctrl_malezas=False, nivelacion_2=False, drenajes=False, financiamiento='IAG', id=388, total_sembrado_2da=11.43, semana_3ra=None, fecha_3ra_insp=None, total_3ra_insp=None, respon_3ra_insp=None, link_doc_3ra=None, estado_3ra_insp=None, fecha_informe='16/05/2024')\n",
      "====================== 4528\n",
      "credito(fecha_registro='2023-11-16 00:59:31.305131+00:00', amigo_id='0b67e4d668d6484e92736fbb906df660', semana_1ra='S50', semana_2da='S20', institucion=50, canhero='1672 / CAMPBELL BALCAZAR ALAN', solicitado=220.0, total_1ra_insp=133.07, estado_1ra_insp='APROBADO', fecha_1ra_insp='2023-12-15 02:43:25+00:00', cite_1ra_insp=603, respon_1ra_insp='Juan Pablo Jaldin Duran', obs_1ra=None, link_doc_1ra='https://drive.google.com/file/d/1SRYBCgSdVSn8r9BoP4K1wKu6VnIFj79a/view?usp=drivesdk', total_2da_insp=215.53, estado_2da_insp='APROBADO', fecha_2da_insp='17/05/2024', cite_2da_insp=86, respon_2da_insp='Rogelio Acuña Rodríguez', obs_2da=None, link_doc_2da=None, total_nacido=None, total_no_nacido=None, muestreo=True, glifosato=True, nivelacion_1=True, drenaje=True, romeplow=True, rastra=True, subsolado=False, rotacion=True, arado=False, ferti_base=True, enraizadores=True, insecticidas=True, fungicidas=True, preemergente=True, fecha_actualizacion='2024-05-18 12:48:47.646056+00:00', fertilizacion=False, fungi_en_siem=False, insec_en_siem=False, promot_de_brota=False, pre_emergente=False, post_emergente=False, cultivado=False, ctrl_bio_tricho=False, insect_fisio_otros=False, ctrl_malezas=False, nivelacion_2=False, drenajes=False, financiamiento='IAG', id=270, total_sembrado_2da=175.01, semana_3ra=None, fecha_3ra_insp=None, total_3ra_insp=None, respon_3ra_insp=None, link_doc_3ra=None, estado_3ra_insp=None, fecha_informe='18/05/2024')\n",
      "A2 ddc2b73dedf34fabbd75af8ee857b6c5\n",
      "M1.2 ba47bce099914baab081de228c50ad7a\n",
      "F9 d3fce88cb07e4d02ac5ed8dd0dde4875\n",
      "F8.3 35ac3b239bcc4717bc5cee63b1c061ce\n",
      "F6 5f3e8ce7c34643b7a6344609b5e5d1dc\n",
      "F13 6e6970eb30cf45308894d8c99ca2f87d\n",
      "F11 991f91f0c4094380ab9a01d744f6b4a8\n",
      "F4 0d4e698e59b0482ca02f7af959dfb86f\n",
      "F7 c719e33dd5b24641b3983cf9707eb338\n",
      "credito(fecha_registro='2023-11-16 00:59:31.305131+00:00', amigo_id='0b67e4d668d6484e92736fbb906df660', semana_1ra='S50', semana_2da='S20', institucion=50, canhero='1672 / CAMPBELL BALCAZAR ALAN', solicitado=220.0, total_1ra_insp=133.07, estado_1ra_insp='APROBADO', fecha_1ra_insp='2023-12-15 02:43:25+00:00', cite_1ra_insp=603, respon_1ra_insp='Juan Pablo Jaldin Duran', obs_1ra=None, link_doc_1ra='https://drive.google.com/file/d/1SRYBCgSdVSn8r9BoP4K1wKu6VnIFj79a/view?usp=drivesdk', total_2da_insp=215.53, estado_2da_insp='APROBADO', fecha_2da_insp='17/05/2024', cite_2da_insp=86, respon_2da_insp='Rogelio Acuña Rodríguez', obs_2da=None, link_doc_2da=None, total_nacido=None, total_no_nacido=None, muestreo=True, glifosato=True, nivelacion_1=True, drenaje=True, romeplow=True, rastra=True, subsolado=False, rotacion=True, arado=False, ferti_base=True, enraizadores=True, insecticidas=True, fungicidas=True, preemergente=True, fecha_actualizacion='2024-05-18 12:48:47.646056+00:00', fertilizacion=False, fungi_en_siem=False, insec_en_siem=False, promot_de_brota=False, pre_emergente=False, post_emergente=False, cultivado=False, ctrl_bio_tricho=False, insect_fisio_otros=False, ctrl_malezas=False, nivelacion_2=False, drenajes=False, financiamiento='IAG', id=270, total_sembrado_2da=175.01, semana_3ra=None, fecha_3ra_insp=None, total_3ra_insp=None, respon_3ra_insp=None, link_doc_3ra=None, estado_3ra_insp=None, fecha_informe='18/05/2024')\n",
      "====================== 1672\n",
      "credito(fecha_registro='2023-11-16 00:59:31.305131+00:00', amigo_id='eb6703e3ff434e16a2bcb9eaab7e10f8', semana_1ra='S48', semana_2da='S20', institucion=40, canhero='2029 / COLAMARINO DI SILVIO ANGELO', solicitado=40.0, total_1ra_insp=40.65, estado_1ra_insp='APROBADO', fecha_1ra_insp='2023-11-29 20:03:56+00:00', cite_1ra_insp=570, respon_1ra_insp='Juan Pablo Jaldin Duran', obs_1ra=None, link_doc_1ra='https://drive.google.com/file/d/1ROMo_-J3OjpKOEgKvRmi3ArLfz7b2QWB/view?usp=drivesdk', total_2da_insp=43.82, estado_2da_insp='APROBADO', fecha_2da_insp='15/05/2024', cite_2da_insp=89, respon_2da_insp='Rogelio Acuña Rodríguez', obs_2da=None, link_doc_2da=None, total_nacido=None, total_no_nacido=None, muestreo=False, glifosato=False, nivelacion_1=True, drenaje=False, romeplow=True, rastra=True, subsolado=False, rotacion=False, arado=False, ferti_base=False, enraizadores=True, insecticidas=True, fungicidas=True, preemergente=True, fecha_actualizacion='2024-05-18 13:39:18.989346+00:00', fertilizacion=False, fungi_en_siem=False, insec_en_siem=False, promot_de_brota=False, pre_emergente=False, post_emergente=False, cultivado=False, ctrl_bio_tricho=False, insect_fisio_otros=False, ctrl_malezas=False, nivelacion_2=False, drenajes=False, financiamiento='IAG', id=296, total_sembrado_2da=27.26, semana_3ra=None, fecha_3ra_insp=None, total_3ra_insp=None, respon_3ra_insp=None, link_doc_3ra=None, estado_3ra_insp=None, fecha_informe='16/05/2024')\n",
      "L7.3 3c4cc1ed3a034327b0128d3dd88de6a1\n",
      "L2.4 269fa6c42f6d47adb0b9a8903fa0b3a3\n",
      "L4.1.1 6cb30db6bb64466587c344bf7db89b49\n",
      "L3.2 315c9513ea3b460fa57fe232c1859aa0\n",
      "L3.5 0cc788d9db314be19b0c509a048c5fa7\n",
      "L2.3 2b78c629de144058ae1dbf315a2987eb\n",
      "L1.3 02a4e72420d64f539dd636bbc1327146\n",
      "L5 7a963616c2404d2d981a8d8a16e7f3d4\n",
      "L3.2 09e305f8cea94d7db16a16e70de148ae\n",
      "credito(fecha_registro='2023-11-16 00:59:31.305131+00:00', amigo_id='eb6703e3ff434e16a2bcb9eaab7e10f8', semana_1ra='S48', semana_2da='S20', institucion=40, canhero='2029 / COLAMARINO DI SILVIO ANGELO', solicitado=40.0, total_1ra_insp=40.65, estado_1ra_insp='APROBADO', fecha_1ra_insp='2023-11-29 20:03:56+00:00', cite_1ra_insp=570, respon_1ra_insp='Juan Pablo Jaldin Duran', obs_1ra=None, link_doc_1ra='https://drive.google.com/file/d/1ROMo_-J3OjpKOEgKvRmi3ArLfz7b2QWB/view?usp=drivesdk', total_2da_insp=43.82, estado_2da_insp='APROBADO', fecha_2da_insp='15/05/2024', cite_2da_insp=89, respon_2da_insp='Rogelio Acuña Rodríguez', obs_2da=None, link_doc_2da=None, total_nacido=None, total_no_nacido=None, muestreo=False, glifosato=False, nivelacion_1=True, drenaje=False, romeplow=True, rastra=True, subsolado=False, rotacion=False, arado=False, ferti_base=False, enraizadores=True, insecticidas=True, fungicidas=True, preemergente=True, fecha_actualizacion='2024-05-18 13:39:18.989346+00:00', fertilizacion=False, fungi_en_siem=False, insec_en_siem=False, promot_de_brota=False, pre_emergente=False, post_emergente=False, cultivado=False, ctrl_bio_tricho=False, insect_fisio_otros=False, ctrl_malezas=False, nivelacion_2=False, drenajes=False, financiamiento='IAG', id=296, total_sembrado_2da=27.26, semana_3ra=None, fecha_3ra_insp=None, total_3ra_insp=None, respon_3ra_insp=None, link_doc_3ra=None, estado_3ra_insp=None, fecha_informe='16/05/2024')\n",
      "====================== 2029\n",
      "credito(fecha_registro='2023-11-16 00:59:31.305131+00:00', amigo_id='640d9e681f114be58f4d90fda54ba437', semana_1ra='S47', semana_2da='S20', institucion=304, canhero='41531 / GUZMAN ALMANZA WILMER', solicitado=30.0, total_1ra_insp=38.99, estado_1ra_insp='APROBADO', fecha_1ra_insp='2023-11-20 12:23:55+00:00', cite_1ra_insp=542, respon_1ra_insp='Juan Pablo Jaldin Duran', obs_1ra=None, link_doc_1ra='https://drive.google.com/file/d/1izA4bukeE93mUsv5Y_o40jzSwUTGonGz/view?usp=drivesdk', total_2da_insp=49.81, estado_2da_insp='APROBADO', fecha_2da_insp='14/05/2024', cite_2da_insp=81, respon_2da_insp='Rogelio Acuña Rodríguez', obs_2da=None, link_doc_2da=None, total_nacido=None, total_no_nacido=None, muestreo=False, glifosato=True, nivelacion_1=True, drenaje=True, romeplow=True, rastra=True, subsolado=False, rotacion=True, arado=False, ferti_base=False, enraizadores=True, insecticidas=True, fungicidas=True, preemergente=True, fecha_actualizacion='2024-05-17 19:45:01.615245+00:00', fertilizacion=False, fungi_en_siem=False, insec_en_siem=False, promot_de_brota=False, pre_emergente=False, post_emergente=False, cultivado=False, ctrl_bio_tricho=False, insect_fisio_otros=False, ctrl_malezas=False, nivelacion_2=False, drenajes=False, financiamiento='IAG', id=316, total_sembrado_2da=38.35, semana_3ra=None, fecha_3ra_insp=None, total_3ra_insp=None, respon_3ra_insp=None, link_doc_3ra=None, estado_3ra_insp=None, fecha_informe='15/05/2024')\n",
      "L4.1 b7e3a27f722543a6987d370ba2716dc7\n",
      "L3 98b3bbc81d7a4ee9b458be279efa9968\n",
      "L5.1 fb95f072b23a4df3853844c6e77489ef\n",
      "L4.2 7dcb2ac85cdd47368bb5a87177d4d20f\n",
      "L4.1 baed34791e47483d9b913524377a56d2\n",
      "L5.2 578c615eecfe4b6981b871307f3670ef\n",
      "L6 e967edc182c44560aee1dab16732c772\n",
      "credito(fecha_registro='2023-11-16 00:59:31.305131+00:00', amigo_id='640d9e681f114be58f4d90fda54ba437', semana_1ra='S47', semana_2da='S20', institucion=304, canhero='41531 / GUZMAN ALMANZA WILMER', solicitado=30.0, total_1ra_insp=38.99, estado_1ra_insp='APROBADO', fecha_1ra_insp='2023-11-20 12:23:55+00:00', cite_1ra_insp=542, respon_1ra_insp='Juan Pablo Jaldin Duran', obs_1ra=None, link_doc_1ra='https://drive.google.com/file/d/1izA4bukeE93mUsv5Y_o40jzSwUTGonGz/view?usp=drivesdk', total_2da_insp=49.81, estado_2da_insp='APROBADO', fecha_2da_insp='14/05/2024', cite_2da_insp=81, respon_2da_insp='Rogelio Acuña Rodríguez', obs_2da=None, link_doc_2da=None, total_nacido=None, total_no_nacido=None, muestreo=False, glifosato=True, nivelacion_1=True, drenaje=True, romeplow=True, rastra=True, subsolado=False, rotacion=True, arado=False, ferti_base=False, enraizadores=True, insecticidas=True, fungicidas=True, preemergente=True, fecha_actualizacion='2024-05-17 19:45:01.615245+00:00', fertilizacion=False, fungi_en_siem=False, insec_en_siem=False, promot_de_brota=False, pre_emergente=False, post_emergente=False, cultivado=False, ctrl_bio_tricho=False, insect_fisio_otros=False, ctrl_malezas=False, nivelacion_2=False, drenajes=False, financiamiento='IAG', id=316, total_sembrado_2da=38.35, semana_3ra=None, fecha_3ra_insp=None, total_3ra_insp=None, respon_3ra_insp=None, link_doc_3ra=None, estado_3ra_insp=None, fecha_informe='15/05/2024')\n",
      "====================== 41531\n",
      "credito(fecha_registro='2023-11-16 00:59:31.305131+00:00', amigo_id='6f7f8cd3eee043cba77c3fb82cd508b4', semana_1ra='S50', semana_2da='S20', institucion=50, canhero='31160 / PIZARRO PARADA HUGO ANDRES', solicitado=15.0, total_1ra_insp=15.08, estado_1ra_insp='APROBADO', fecha_1ra_insp='2023-12-14 13:36:57+00:00', cite_1ra_insp=612, respon_1ra_insp='Juan Pablo Jaldin Duran', obs_1ra='SE ESTA REALIZANDO LA SIEMBRA DE MAIZ COMO ROTACION DE CULTIVO', link_doc_1ra='https://drive.google.com/file/d/1HejTiEiA9ALRsLWpcI_So_MOLm7rQsCo/view?usp=drivesdk', total_2da_insp=15.08, estado_2da_insp='APROBADO', fecha_2da_insp='14/05/2024', cite_2da_insp=88, respon_2da_insp='Rogelio Acuña Rodríguez', obs_2da=None, link_doc_2da=None, total_nacido=None, total_no_nacido=None, muestreo=False, glifosato=True, nivelacion_1=False, drenaje=False, romeplow=True, rastra=True, subsolado=False, rotacion=True, arado=False, ferti_base=False, enraizadores=True, insecticidas=True, fungicidas=True, preemergente=True, fecha_actualizacion='2024-05-18 13:32:51.621158+00:00', fertilizacion=False, fungi_en_siem=False, insec_en_siem=False, promot_de_brota=False, pre_emergente=False, post_emergente=False, cultivado=False, ctrl_bio_tricho=False, insect_fisio_otros=False, ctrl_malezas=False, nivelacion_2=False, drenajes=False, financiamiento='IAG', id=346, total_sembrado_2da=15.08, semana_3ra=None, fecha_3ra_insp=None, total_3ra_insp=None, respon_3ra_insp=None, link_doc_3ra=None, estado_3ra_insp=None, fecha_informe='15/05/2024')\n",
      "L8 b328d14b9dba4eea8ae1cb623044e2a2\n",
      "L7 bf0a66b981a84e1cbc6bc04b39f06967\n",
      "credito(fecha_registro='2023-11-16 00:59:31.305131+00:00', amigo_id='6f7f8cd3eee043cba77c3fb82cd508b4', semana_1ra='S50', semana_2da='S20', institucion=50, canhero='31160 / PIZARRO PARADA HUGO ANDRES', solicitado=15.0, total_1ra_insp=15.08, estado_1ra_insp='APROBADO', fecha_1ra_insp='2023-12-14 13:36:57+00:00', cite_1ra_insp=612, respon_1ra_insp='Juan Pablo Jaldin Duran', obs_1ra='SE ESTA REALIZANDO LA SIEMBRA DE MAIZ COMO ROTACION DE CULTIVO', link_doc_1ra='https://drive.google.com/file/d/1HejTiEiA9ALRsLWpcI_So_MOLm7rQsCo/view?usp=drivesdk', total_2da_insp=15.08, estado_2da_insp='APROBADO', fecha_2da_insp='14/05/2024', cite_2da_insp=88, respon_2da_insp='Rogelio Acuña Rodríguez', obs_2da=None, link_doc_2da=None, total_nacido=None, total_no_nacido=None, muestreo=False, glifosato=True, nivelacion_1=False, drenaje=False, romeplow=True, rastra=True, subsolado=False, rotacion=True, arado=False, ferti_base=False, enraizadores=True, insecticidas=True, fungicidas=True, preemergente=True, fecha_actualizacion='2024-05-18 13:32:51.621158+00:00', fertilizacion=False, fungi_en_siem=False, insec_en_siem=False, promot_de_brota=False, pre_emergente=False, post_emergente=False, cultivado=False, ctrl_bio_tricho=False, insect_fisio_otros=False, ctrl_malezas=False, nivelacion_2=False, drenajes=False, financiamiento='IAG', id=346, total_sembrado_2da=15.08, semana_3ra=None, fecha_3ra_insp=None, total_3ra_insp=None, respon_3ra_insp=None, link_doc_3ra=None, estado_3ra_insp=None, fecha_informe='15/05/2024')\n",
      "====================== 31160\n",
      "credito(fecha_registro='2023-11-16 00:59:31.305131+00:00', amigo_id='6fb855da18104da083f167defb776600', semana_1ra='S48', semana_2da='S20', institucion=81, canhero='11805 / RIOJA CABRERA JOSE GROVER', solicitado=30.0, total_1ra_insp=55.05, estado_1ra_insp='APROBADO', fecha_1ra_insp='2023-11-27 19:52:34+00:00', cite_1ra_insp=565, respon_1ra_insp='Rogelio Acuña Rodríguez', obs_1ra=None, link_doc_1ra='https://drive.google.com/file/d/1QFjJlG3qpb5dRt-ophsB0sAK1LMwfCB0/view?usp=drivesdk', total_2da_insp=55.05, estado_2da_insp='APROBADO', fecha_2da_insp='15/05/2024', cite_2da_insp=74, respon_2da_insp='Rogelio Acuña Rodríguez', obs_2da=None, link_doc_2da=None, total_nacido=None, total_no_nacido=None, muestreo=False, glifosato=True, nivelacion_1=False, drenaje=True, romeplow=True, rastra=True, subsolado=False, rotacion=True, arado=False, ferti_base=False, enraizadores=True, insecticidas=True, fungicidas=True, preemergente=True, fecha_actualizacion='2024-05-17 17:40:13.180006+00:00', fertilizacion=False, fungi_en_siem=False, insec_en_siem=False, promot_de_brota=False, pre_emergente=False, post_emergente=False, cultivado=False, ctrl_bio_tricho=False, insect_fisio_otros=False, ctrl_malezas=False, nivelacion_2=False, drenajes=False, financiamiento='IAG', id=314, total_sembrado_2da=14.09, semana_3ra=None, fecha_3ra_insp=None, total_3ra_insp=None, respon_3ra_insp=None, link_doc_3ra=None, estado_3ra_insp=None, fecha_informe='16/05/2024')\n",
      "L14 66a8cbc2bc1e4b7dacce971c62b699f5\n",
      "L1 fe4a51269263495abb6c4cf6352be929\n",
      "credito(fecha_registro='2023-11-16 00:59:31.305131+00:00', amigo_id='6fb855da18104da083f167defb776600', semana_1ra='S48', semana_2da='S20', institucion=81, canhero='11805 / RIOJA CABRERA JOSE GROVER', solicitado=30.0, total_1ra_insp=55.05, estado_1ra_insp='APROBADO', fecha_1ra_insp='2023-11-27 19:52:34+00:00', cite_1ra_insp=565, respon_1ra_insp='Rogelio Acuña Rodríguez', obs_1ra=None, link_doc_1ra='https://drive.google.com/file/d/1QFjJlG3qpb5dRt-ophsB0sAK1LMwfCB0/view?usp=drivesdk', total_2da_insp=55.05, estado_2da_insp='APROBADO', fecha_2da_insp='15/05/2024', cite_2da_insp=74, respon_2da_insp='Rogelio Acuña Rodríguez', obs_2da=None, link_doc_2da=None, total_nacido=None, total_no_nacido=None, muestreo=False, glifosato=True, nivelacion_1=False, drenaje=True, romeplow=True, rastra=True, subsolado=False, rotacion=True, arado=False, ferti_base=False, enraizadores=True, insecticidas=True, fungicidas=True, preemergente=True, fecha_actualizacion='2024-05-17 17:40:13.180006+00:00', fertilizacion=False, fungi_en_siem=False, insec_en_siem=False, promot_de_brota=False, pre_emergente=False, post_emergente=False, cultivado=False, ctrl_bio_tricho=False, insect_fisio_otros=False, ctrl_malezas=False, nivelacion_2=False, drenajes=False, financiamiento='IAG', id=314, total_sembrado_2da=14.09, semana_3ra=None, fecha_3ra_insp=None, total_3ra_insp=None, respon_3ra_insp=None, link_doc_3ra=None, estado_3ra_insp=None, fecha_informe='16/05/2024')\n",
      "====================== 11805\n",
      "credito(fecha_registro='2023-11-16 00:59:31.305131+00:00', amigo_id='1b8b6a957bf7400389c483bef6198e15', semana_1ra='S49', semana_2da='S20', institucion=69, canhero='10650 / PIZARRO PIZARRO WALTER', solicitado=20.0, total_1ra_insp=22.73, estado_1ra_insp='APROBADO', fecha_1ra_insp='2023-12-05 19:13:03+00:00', cite_1ra_insp=576, respon_1ra_insp='Juan Pablo Jaldin Duran', obs_1ra=None, link_doc_1ra='https://drive.google.com/file/d/1_VGy5VSNbumyRH7Q0YSB5XWIbkDci0uo/view?usp=drivesdk', total_2da_insp=22.75, estado_2da_insp='APROBADO', fecha_2da_insp='15/05/2024', cite_2da_insp=87, respon_2da_insp='Rogelio Acuña Rodríguez', obs_2da=None, link_doc_2da=None, total_nacido=None, total_no_nacido=None, muestreo=False, glifosato=False, nivelacion_1=True, drenaje=False, romeplow=True, rastra=True, subsolado=False, rotacion=True, arado=False, ferti_base=False, enraizadores=True, insecticidas=True, fungicidas=True, preemergente=True, fecha_actualizacion='2024-05-18 13:12:02.074729+00:00', fertilizacion=False, fungi_en_siem=False, insec_en_siem=False, promot_de_brota=False, pre_emergente=False, post_emergente=False, cultivado=False, ctrl_bio_tricho=False, insect_fisio_otros=False, ctrl_malezas=False, nivelacion_2=False, drenajes=False, financiamiento='IAG', id=336, total_sembrado_2da=16.39, semana_3ra=None, fecha_3ra_insp=None, total_3ra_insp=None, respon_3ra_insp=None, link_doc_3ra=None, estado_3ra_insp=None, fecha_informe='16/05/2024')\n",
      "L18 471758b395ae4e3db8412023206d0e21\n",
      "L14.3 4451fb90272a46869745a2f7d7ab9275\n",
      "L9 d95bf06ee3944027a3cfc6585ac0a229\n",
      "L16.2 36add38ec65445838f0260e847439875\n",
      "credito(fecha_registro='2023-11-16 00:59:31.305131+00:00', amigo_id='1b8b6a957bf7400389c483bef6198e15', semana_1ra='S49', semana_2da='S20', institucion=69, canhero='10650 / PIZARRO PIZARRO WALTER', solicitado=20.0, total_1ra_insp=22.73, estado_1ra_insp='APROBADO', fecha_1ra_insp='2023-12-05 19:13:03+00:00', cite_1ra_insp=576, respon_1ra_insp='Juan Pablo Jaldin Duran', obs_1ra=None, link_doc_1ra='https://drive.google.com/file/d/1_VGy5VSNbumyRH7Q0YSB5XWIbkDci0uo/view?usp=drivesdk', total_2da_insp=22.75, estado_2da_insp='APROBADO', fecha_2da_insp='15/05/2024', cite_2da_insp=87, respon_2da_insp='Rogelio Acuña Rodríguez', obs_2da=None, link_doc_2da=None, total_nacido=None, total_no_nacido=None, muestreo=False, glifosato=False, nivelacion_1=True, drenaje=False, romeplow=True, rastra=True, subsolado=False, rotacion=True, arado=False, ferti_base=False, enraizadores=True, insecticidas=True, fungicidas=True, preemergente=True, fecha_actualizacion='2024-05-18 13:12:02.074729+00:00', fertilizacion=False, fungi_en_siem=False, insec_en_siem=False, promot_de_brota=False, pre_emergente=False, post_emergente=False, cultivado=False, ctrl_bio_tricho=False, insect_fisio_otros=False, ctrl_malezas=False, nivelacion_2=False, drenajes=False, financiamiento='IAG', id=336, total_sembrado_2da=16.39, semana_3ra=None, fecha_3ra_insp=None, total_3ra_insp=None, respon_3ra_insp=None, link_doc_3ra=None, estado_3ra_insp=None, fecha_informe='16/05/2024')\n",
      "====================== 10650\n",
      "credito(fecha_registro='2023-11-16 00:59:31.305131+00:00', amigo_id='3d166acd69a44c429530c36e4bcf4a12', semana_1ra='S48', semana_2da='S20', institucion=1, canhero='3481 / ESPINOZA MANCILLA REYNALDO', solicitado=12.0, total_1ra_insp=7.18, estado_1ra_insp='APROBADO', fecha_1ra_insp='2023-11-28 20:15:59+00:00', cite_1ra_insp=567, respon_1ra_insp='Rogelio Acuña Rodríguez', obs_1ra=None, link_doc_1ra='https://drive.google.com/file/d/1oY5-g-QYhEycERDOq7NRVNeLZkBJEbF9/view?usp=drivesdk', total_2da_insp=7.18, estado_2da_insp='APROBADO', fecha_2da_insp='15/05/2024', cite_2da_insp=76, respon_2da_insp='Rogelio Acuña Rodríguez', obs_2da=None, link_doc_2da=None, total_nacido=None, total_no_nacido=None, muestreo=False, glifosato=True, nivelacion_1=False, drenaje=False, romeplow=True, rastra=True, subsolado=False, rotacion=True, arado=False, ferti_base=False, enraizadores=True, insecticidas=True, fungicidas=False, preemergente=True, fecha_actualizacion='2024-05-17 18:30:12.143612+00:00', fertilizacion=False, fungi_en_siem=False, insec_en_siem=False, promot_de_brota=False, pre_emergente=False, post_emergente=False, cultivado=False, ctrl_bio_tricho=False, insect_fisio_otros=False, ctrl_malezas=False, nivelacion_2=False, drenajes=False, financiamiento='IAG', id=353, total_sembrado_2da=7.18, semana_3ra=None, fecha_3ra_insp=None, total_3ra_insp=None, respon_3ra_insp=None, link_doc_3ra=None, estado_3ra_insp=None, fecha_informe='16/05/2024')\n",
      "L2 db1f130209514858b1ff5d9269f9a782\n",
      "credito(fecha_registro='2023-11-16 00:59:31.305131+00:00', amigo_id='3d166acd69a44c429530c36e4bcf4a12', semana_1ra='S48', semana_2da='S20', institucion=1, canhero='3481 / ESPINOZA MANCILLA REYNALDO', solicitado=12.0, total_1ra_insp=7.18, estado_1ra_insp='APROBADO', fecha_1ra_insp='2023-11-28 20:15:59+00:00', cite_1ra_insp=567, respon_1ra_insp='Rogelio Acuña Rodríguez', obs_1ra=None, link_doc_1ra='https://drive.google.com/file/d/1oY5-g-QYhEycERDOq7NRVNeLZkBJEbF9/view?usp=drivesdk', total_2da_insp=7.18, estado_2da_insp='APROBADO', fecha_2da_insp='15/05/2024', cite_2da_insp=76, respon_2da_insp='Rogelio Acuña Rodríguez', obs_2da=None, link_doc_2da=None, total_nacido=None, total_no_nacido=None, muestreo=False, glifosato=True, nivelacion_1=False, drenaje=False, romeplow=True, rastra=True, subsolado=False, rotacion=True, arado=False, ferti_base=False, enraizadores=True, insecticidas=True, fungicidas=False, preemergente=True, fecha_actualizacion='2024-05-17 18:30:12.143612+00:00', fertilizacion=False, fungi_en_siem=False, insec_en_siem=False, promot_de_brota=False, pre_emergente=False, post_emergente=False, cultivado=False, ctrl_bio_tricho=False, insect_fisio_otros=False, ctrl_malezas=False, nivelacion_2=False, drenajes=False, financiamiento='IAG', id=353, total_sembrado_2da=7.18, semana_3ra=None, fecha_3ra_insp=None, total_3ra_insp=None, respon_3ra_insp=None, link_doc_3ra=None, estado_3ra_insp=None, fecha_informe='16/05/2024')\n",
      "====================== 3481\n",
      "credito(fecha_registro='2023-11-16 00:59:31.305131+00:00', amigo_id='8f2bd189452241778cce37ba23807489', semana_1ra='S', semana_2da='S20', institucion=131, canhero='8881 / MONTANO GUTIERREZ BELSA', solicitado=2.0, total_1ra_insp=None, estado_1ra_insp='PENDIENTE', fecha_1ra_insp=None, cite_1ra_insp=None, respon_1ra_insp=None, obs_1ra=None, link_doc_1ra=None, total_2da_insp=2.33, estado_2da_insp='APROBADO', fecha_2da_insp='14/05/2024', cite_2da_insp=83, respon_2da_insp='Rogelio Acuña Rodríguez', obs_2da=None, link_doc_2da=None, total_nacido=None, total_no_nacido=None, muestreo=False, glifosato=False, nivelacion_1=False, drenaje=True, romeplow=True, rastra=True, subsolado=False, rotacion=False, arado=False, ferti_base=False, enraizadores=True, insecticidas=True, fungicidas=False, preemergente=True, fecha_actualizacion='2024-05-18 12:14:29.045587+00:00', fertilizacion=False, fungi_en_siem=False, insec_en_siem=False, promot_de_brota=False, pre_emergente=False, post_emergente=False, cultivado=False, ctrl_bio_tricho=False, insect_fisio_otros=False, ctrl_malezas=False, nivelacion_2=False, drenajes=False, financiamiento='IAG', id=433, total_sembrado_2da=2.33, semana_3ra=None, fecha_3ra_insp=None, total_3ra_insp=None, respon_3ra_insp=None, link_doc_3ra=None, estado_3ra_insp=None, fecha_informe='15/05/2024')\n",
      "L3.1 94e2ff0829574992be8a5893f2156fd1\n",
      "L2.1 c280a2afd7d7434094f6b5db18032723\n",
      "credito(fecha_registro='2023-11-16 00:59:31.305131+00:00', amigo_id='8f2bd189452241778cce37ba23807489', semana_1ra='S', semana_2da='S20', institucion=131, canhero='8881 / MONTANO GUTIERREZ BELSA', solicitado=2.0, total_1ra_insp=None, estado_1ra_insp='PENDIENTE', fecha_1ra_insp=None, cite_1ra_insp=None, respon_1ra_insp=None, obs_1ra=None, link_doc_1ra=None, total_2da_insp=2.33, estado_2da_insp='APROBADO', fecha_2da_insp='14/05/2024', cite_2da_insp=83, respon_2da_insp='Rogelio Acuña Rodríguez', obs_2da=None, link_doc_2da=None, total_nacido=None, total_no_nacido=None, muestreo=False, glifosato=False, nivelacion_1=False, drenaje=True, romeplow=True, rastra=True, subsolado=False, rotacion=False, arado=False, ferti_base=False, enraizadores=True, insecticidas=True, fungicidas=False, preemergente=True, fecha_actualizacion='2024-05-18 12:14:29.045587+00:00', fertilizacion=False, fungi_en_siem=False, insec_en_siem=False, promot_de_brota=False, pre_emergente=False, post_emergente=False, cultivado=False, ctrl_bio_tricho=False, insect_fisio_otros=False, ctrl_malezas=False, nivelacion_2=False, drenajes=False, financiamiento='IAG', id=433, total_sembrado_2da=2.33, semana_3ra=None, fecha_3ra_insp=None, total_3ra_insp=None, respon_3ra_insp=None, link_doc_3ra=None, estado_3ra_insp=None, fecha_informe='15/05/2024')\n",
      "====================== 8881\n",
      "credito(fecha_registro='2023-11-16 00:59:31.305131+00:00', amigo_id='7d703f4f268b4a8dbaf958837fee3b33', semana_1ra='S', semana_2da='S20', institucion=63, canhero='42034 / ACSAMA MAMANI TEODORA', solicitado=1.0, total_1ra_insp=None, estado_1ra_insp='PENDIENTE', fecha_1ra_insp=None, cite_1ra_insp=None, respon_1ra_insp=None, obs_1ra=None, link_doc_1ra=None, total_2da_insp=0.94, estado_2da_insp='APROBADO', fecha_2da_insp='13/05/2024', cite_2da_insp=85, respon_2da_insp='Rogelio Acuña Rodríguez', obs_2da=None, link_doc_2da=None, total_nacido=None, total_no_nacido=None, muestreo=False, glifosato=False, nivelacion_1=False, drenaje=False, romeplow=True, rastra=True, subsolado=False, rotacion=False, arado=False, ferti_base=False, enraizadores=False, insecticidas=True, fungicidas=False, preemergente=True, fecha_actualizacion='2024-05-18 12:34:35.005374+00:00', fertilizacion=False, fungi_en_siem=False, insec_en_siem=False, promot_de_brota=False, pre_emergente=False, post_emergente=False, cultivado=False, ctrl_bio_tricho=False, insect_fisio_otros=False, ctrl_malezas=False, nivelacion_2=False, drenajes=False, financiamiento='IAG', id=435, total_sembrado_2da=0.94, semana_3ra=None, fecha_3ra_insp=None, total_3ra_insp=None, respon_3ra_insp=None, link_doc_3ra=None, estado_3ra_insp=None, fecha_informe='14/05/2024')\n",
      "L2.3 db25f66713ef4e24b52c798190ca10a5\n",
      "credito(fecha_registro='2023-11-16 00:59:31.305131+00:00', amigo_id='7d703f4f268b4a8dbaf958837fee3b33', semana_1ra='S', semana_2da='S20', institucion=63, canhero='42034 / ACSAMA MAMANI TEODORA', solicitado=1.0, total_1ra_insp=None, estado_1ra_insp='PENDIENTE', fecha_1ra_insp=None, cite_1ra_insp=None, respon_1ra_insp=None, obs_1ra=None, link_doc_1ra=None, total_2da_insp=0.94, estado_2da_insp='APROBADO', fecha_2da_insp='13/05/2024', cite_2da_insp=85, respon_2da_insp='Rogelio Acuña Rodríguez', obs_2da=None, link_doc_2da=None, total_nacido=None, total_no_nacido=None, muestreo=False, glifosato=False, nivelacion_1=False, drenaje=False, romeplow=True, rastra=True, subsolado=False, rotacion=False, arado=False, ferti_base=False, enraizadores=False, insecticidas=True, fungicidas=False, preemergente=True, fecha_actualizacion='2024-05-18 12:34:35.005374+00:00', fertilizacion=False, fungi_en_siem=False, insec_en_siem=False, promot_de_brota=False, pre_emergente=False, post_emergente=False, cultivado=False, ctrl_bio_tricho=False, insect_fisio_otros=False, ctrl_malezas=False, nivelacion_2=False, drenajes=False, financiamiento='IAG', id=435, total_sembrado_2da=0.94, semana_3ra=None, fecha_3ra_insp=None, total_3ra_insp=None, respon_3ra_insp=None, link_doc_3ra=None, estado_3ra_insp=None, fecha_informe='14/05/2024')\n",
      "====================== 42034\n",
      "credito(fecha_registro='2023-11-16 00:59:31.305131+00:00', amigo_id='5a8389b4b00549029ddbf9fea98015a7', semana_1ra='S48', semana_2da='S20', institucion=1, canhero='3460 / ESPINOZA MENDOZA SANTIAGO', solicitado=50.0, total_1ra_insp=42.33, estado_1ra_insp='APROBADO', fecha_1ra_insp='2023-11-27 18:48:19+00:00', cite_1ra_insp=560, respon_1ra_insp='Rogelio Acuña Rodríguez', obs_1ra=None, link_doc_1ra='https://drive.google.com/file/d/1D1DfrQ9Et_mqblODqRDAPlcsTKF8otGn/view?usp=drivesdk', total_2da_insp=42.33, estado_2da_insp='APROBADO', fecha_2da_insp='15/05/2024', cite_2da_insp=75, respon_2da_insp='Rogelio Acuña Rodríguez', obs_2da=None, link_doc_2da=None, total_nacido=None, total_no_nacido=None, muestreo=False, glifosato=True, nivelacion_1=False, drenaje=False, romeplow=True, rastra=True, subsolado=False, rotacion=True, arado=False, ferti_base=False, enraizadores=True, insecticidas=True, fungicidas=True, preemergente=True, fecha_actualizacion='2024-05-17 18:25:47.895207+00:00', fertilizacion=False, fungi_en_siem=False, insec_en_siem=False, promot_de_brota=False, pre_emergente=False, post_emergente=False, cultivado=False, ctrl_bio_tricho=False, insect_fisio_otros=False, ctrl_malezas=False, nivelacion_2=False, drenajes=False, financiamiento='IAG', id=285, total_sembrado_2da=20.93, semana_3ra=None, fecha_3ra_insp=None, total_3ra_insp=None, respon_3ra_insp=None, link_doc_3ra=None, estado_3ra_insp=None, fecha_informe='16/05/2024')\n",
      "L8 1617e63e7019447d979de36a97ce1741\n",
      "L1 92a0105f24554cec8e2dd56bdc523908\n",
      "L4 e3159ca2598d42b6a55dce89dc7f494c\n",
      "L1 74dc8069f02f4e058b55e089f627229e\n",
      "credito(fecha_registro='2023-11-16 00:59:31.305131+00:00', amigo_id='5a8389b4b00549029ddbf9fea98015a7', semana_1ra='S48', semana_2da='S20', institucion=1, canhero='3460 / ESPINOZA MENDOZA SANTIAGO', solicitado=50.0, total_1ra_insp=42.33, estado_1ra_insp='APROBADO', fecha_1ra_insp='2023-11-27 18:48:19+00:00', cite_1ra_insp=560, respon_1ra_insp='Rogelio Acuña Rodríguez', obs_1ra=None, link_doc_1ra='https://drive.google.com/file/d/1D1DfrQ9Et_mqblODqRDAPlcsTKF8otGn/view?usp=drivesdk', total_2da_insp=42.33, estado_2da_insp='APROBADO', fecha_2da_insp='15/05/2024', cite_2da_insp=75, respon_2da_insp='Rogelio Acuña Rodríguez', obs_2da=None, link_doc_2da=None, total_nacido=None, total_no_nacido=None, muestreo=False, glifosato=True, nivelacion_1=False, drenaje=False, romeplow=True, rastra=True, subsolado=False, rotacion=True, arado=False, ferti_base=False, enraizadores=True, insecticidas=True, fungicidas=True, preemergente=True, fecha_actualizacion='2024-05-17 18:25:47.895207+00:00', fertilizacion=False, fungi_en_siem=False, insec_en_siem=False, promot_de_brota=False, pre_emergente=False, post_emergente=False, cultivado=False, ctrl_bio_tricho=False, insect_fisio_otros=False, ctrl_malezas=False, nivelacion_2=False, drenajes=False, financiamiento='IAG', id=285, total_sembrado_2da=20.93, semana_3ra=None, fecha_3ra_insp=None, total_3ra_insp=None, respon_3ra_insp=None, link_doc_3ra=None, estado_3ra_insp=None, fecha_informe='16/05/2024')\n",
      "====================== 3460\n",
      "credito(fecha_registro='2023-11-16 00:59:31.305131+00:00', amigo_id='044ecd2779db47a08b91d4d86740e3ad', semana_1ra='S48', semana_2da='S20', institucion=1, canhero='42044 / ESPINOZA MANCILLA WILMA', solicitado=50.0, total_1ra_insp=10.55, estado_1ra_insp='APROBADO', fecha_1ra_insp='2023-11-28 20:22:19+00:00', cite_1ra_insp=568, respon_1ra_insp='Rogelio Acuña Rodríguez', obs_1ra=None, link_doc_1ra='https://drive.google.com/file/d/1N6A6zoMLevTTPVXb4uk39nyOugbAnQyT/view?usp=drivesdk', total_2da_insp=10.55, estado_2da_insp='APROBADO', fecha_2da_insp='15/05/2024', cite_2da_insp=77, respon_2da_insp='Rogelio Acuña Rodríguez', obs_2da=None, link_doc_2da=None, total_nacido=None, total_no_nacido=None, muestreo=False, glifosato=True, nivelacion_1=False, drenaje=False, romeplow=True, rastra=True, subsolado=False, rotacion=True, arado=False, ferti_base=False, enraizadores=True, insecticidas=True, fungicidas=False, preemergente=True, fecha_actualizacion='2024-05-17 18:42:04.092576+00:00', fertilizacion=False, fungi_en_siem=False, insec_en_siem=False, promot_de_brota=False, pre_emergente=False, post_emergente=False, cultivado=False, ctrl_bio_tricho=False, insect_fisio_otros=False, ctrl_malezas=False, nivelacion_2=False, drenajes=False, financiamiento='IAG', id=286, total_sembrado_2da=7.03, semana_3ra=None, fecha_3ra_insp=None, total_3ra_insp=None, respon_3ra_insp=None, link_doc_3ra=None, estado_3ra_insp=None, fecha_informe='16/05/2024')\n",
      "L5.1 0e7040012376417faa5265a24e9c7903\n",
      "L2 d50245cb1b9a477c80fbd7704c5a240e\n",
      "credito(fecha_registro='2023-11-16 00:59:31.305131+00:00', amigo_id='044ecd2779db47a08b91d4d86740e3ad', semana_1ra='S48', semana_2da='S20', institucion=1, canhero='42044 / ESPINOZA MANCILLA WILMA', solicitado=50.0, total_1ra_insp=10.55, estado_1ra_insp='APROBADO', fecha_1ra_insp='2023-11-28 20:22:19+00:00', cite_1ra_insp=568, respon_1ra_insp='Rogelio Acuña Rodríguez', obs_1ra=None, link_doc_1ra='https://drive.google.com/file/d/1N6A6zoMLevTTPVXb4uk39nyOugbAnQyT/view?usp=drivesdk', total_2da_insp=10.55, estado_2da_insp='APROBADO', fecha_2da_insp='15/05/2024', cite_2da_insp=77, respon_2da_insp='Rogelio Acuña Rodríguez', obs_2da=None, link_doc_2da=None, total_nacido=None, total_no_nacido=None, muestreo=False, glifosato=True, nivelacion_1=False, drenaje=False, romeplow=True, rastra=True, subsolado=False, rotacion=True, arado=False, ferti_base=False, enraizadores=True, insecticidas=True, fungicidas=False, preemergente=True, fecha_actualizacion='2024-05-17 18:42:04.092576+00:00', fertilizacion=False, fungi_en_siem=False, insec_en_siem=False, promot_de_brota=False, pre_emergente=False, post_emergente=False, cultivado=False, ctrl_bio_tricho=False, insect_fisio_otros=False, ctrl_malezas=False, nivelacion_2=False, drenajes=False, financiamiento='IAG', id=286, total_sembrado_2da=7.03, semana_3ra=None, fecha_3ra_insp=None, total_3ra_insp=None, respon_3ra_insp=None, link_doc_3ra=None, estado_3ra_insp=None, fecha_informe='16/05/2024')\n",
      "====================== 42044\n",
      "credito(fecha_registro='2023-11-16 00:59:31.305131+00:00', amigo_id='d6a54d72aeb64b0ab102d66b13389a5b', semana_1ra='S', semana_2da='S20', institucion=63, canhero='9850 / OVANDO HUALLPA TIBURCIO', solicitado=4.0, total_1ra_insp=None, estado_1ra_insp='PENDIENTE', fecha_1ra_insp=None, cite_1ra_insp=None, respon_1ra_insp=None, obs_1ra=None, link_doc_1ra=None, total_2da_insp=5.01, estado_2da_insp='APROBADO', fecha_2da_insp='13/05/2024', cite_2da_insp=84, respon_2da_insp='Rogelio Acuña Rodríguez', obs_2da=None, link_doc_2da=None, total_nacido=None, total_no_nacido=None, muestreo=False, glifosato=False, nivelacion_1=False, drenaje=False, romeplow=True, rastra=True, subsolado=False, rotacion=True, arado=False, ferti_base=False, enraizadores=True, insecticidas=True, fungicidas=False, preemergente=True, fecha_actualizacion='2024-05-18 12:28:26.698018+00:00', fertilizacion=False, fungi_en_siem=False, insec_en_siem=False, promot_de_brota=False, pre_emergente=False, post_emergente=False, cultivado=False, ctrl_bio_tricho=False, insect_fisio_otros=False, ctrl_malezas=False, nivelacion_2=False, drenajes=False, financiamiento='IAG', id=414, total_sembrado_2da=5.01, semana_3ra=None, fecha_3ra_insp=None, total_3ra_insp=None, respon_3ra_insp=None, link_doc_3ra=None, estado_3ra_insp=None, fecha_informe='14/05/2024')\n",
      "L4 f07b192ebaaa43a1a4935c5879bc08ba\n",
      "credito(fecha_registro='2023-11-16 00:59:31.305131+00:00', amigo_id='d6a54d72aeb64b0ab102d66b13389a5b', semana_1ra='S', semana_2da='S20', institucion=63, canhero='9850 / OVANDO HUALLPA TIBURCIO', solicitado=4.0, total_1ra_insp=None, estado_1ra_insp='PENDIENTE', fecha_1ra_insp=None, cite_1ra_insp=None, respon_1ra_insp=None, obs_1ra=None, link_doc_1ra=None, total_2da_insp=5.01, estado_2da_insp='APROBADO', fecha_2da_insp='13/05/2024', cite_2da_insp=84, respon_2da_insp='Rogelio Acuña Rodríguez', obs_2da=None, link_doc_2da=None, total_nacido=None, total_no_nacido=None, muestreo=False, glifosato=False, nivelacion_1=False, drenaje=False, romeplow=True, rastra=True, subsolado=False, rotacion=True, arado=False, ferti_base=False, enraizadores=True, insecticidas=True, fungicidas=False, preemergente=True, fecha_actualizacion='2024-05-18 12:28:26.698018+00:00', fertilizacion=False, fungi_en_siem=False, insec_en_siem=False, promot_de_brota=False, pre_emergente=False, post_emergente=False, cultivado=False, ctrl_bio_tricho=False, insect_fisio_otros=False, ctrl_malezas=False, nivelacion_2=False, drenajes=False, financiamiento='IAG', id=414, total_sembrado_2da=5.01, semana_3ra=None, fecha_3ra_insp=None, total_3ra_insp=None, respon_3ra_insp=None, link_doc_3ra=None, estado_3ra_insp=None, fecha_informe='14/05/2024')\n",
      "====================== 9850\n",
      "credito(fecha_registro='2023-11-16 00:59:31.305131+00:00', amigo_id='b5ade5c8ef94435a8b20a94ab024ebc9', semana_1ra='S48', semana_2da='S20', institucion=304, canhero='42131 / AGROPECUARIA CAMPOAZUL S.R.L.', solicitado=55.0, total_1ra_insp=50.44, estado_1ra_insp='APROBADO', fecha_1ra_insp='2023-11-27 18:14:27+00:00', cite_1ra_insp=555, respon_1ra_insp='Juan Pablo Jaldin Duran', obs_1ra='LOTES ESTAN CON SOYA ESPERANDO COSECHA LUEGO SE REALIZARA OTRA CAMPAÑA MAS ANTES DE LA SIEMBRA DE CAÑA', link_doc_1ra='https://drive.google.com/file/d/1tXC7Gdc2T0qjX5WtIAYO6ldb_if_VXO0/view?usp=drivesdk', total_2da_insp=50.44, estado_2da_insp='APROBADO', fecha_2da_insp='15/05/2024', cite_2da_insp=78, respon_2da_insp='Rogelio Acuña Rodríguez', obs_2da=None, link_doc_2da=None, total_nacido=None, total_no_nacido=None, muestreo=False, glifosato=True, nivelacion_1=True, drenaje=False, romeplow=True, rastra=True, subsolado=False, rotacion=True, arado=False, ferti_base=False, enraizadores=True, insecticidas=True, fungicidas=False, preemergente=True, fecha_actualizacion='2024-05-17 18:50:03.907364+00:00', fertilizacion=False, fungi_en_siem=False, insec_en_siem=False, promot_de_brota=False, pre_emergente=False, post_emergente=False, cultivado=False, ctrl_bio_tricho=False, insect_fisio_otros=False, ctrl_malezas=False, nivelacion_2=False, drenajes=False, financiamiento='IAG', id=284, total_sembrado_2da=50.44, semana_3ra=None, fecha_3ra_insp=None, total_3ra_insp=None, respon_3ra_insp=None, link_doc_3ra=None, estado_3ra_insp=None, fecha_informe='16/05/2024')\n",
      "L6 345fc962c5324c6186643c2488364646\n",
      "credito(fecha_registro='2023-11-16 00:59:31.305131+00:00', amigo_id='b5ade5c8ef94435a8b20a94ab024ebc9', semana_1ra='S48', semana_2da='S20', institucion=304, canhero='42131 / AGROPECUARIA CAMPOAZUL S.R.L.', solicitado=55.0, total_1ra_insp=50.44, estado_1ra_insp='APROBADO', fecha_1ra_insp='2023-11-27 18:14:27+00:00', cite_1ra_insp=555, respon_1ra_insp='Juan Pablo Jaldin Duran', obs_1ra='LOTES ESTAN CON SOYA ESPERANDO COSECHA LUEGO SE REALIZARA OTRA CAMPAÑA MAS ANTES DE LA SIEMBRA DE CAÑA', link_doc_1ra='https://drive.google.com/file/d/1tXC7Gdc2T0qjX5WtIAYO6ldb_if_VXO0/view?usp=drivesdk', total_2da_insp=50.44, estado_2da_insp='APROBADO', fecha_2da_insp='15/05/2024', cite_2da_insp=78, respon_2da_insp='Rogelio Acuña Rodríguez', obs_2da=None, link_doc_2da=None, total_nacido=None, total_no_nacido=None, muestreo=False, glifosato=True, nivelacion_1=True, drenaje=False, romeplow=True, rastra=True, subsolado=False, rotacion=True, arado=False, ferti_base=False, enraizadores=True, insecticidas=True, fungicidas=False, preemergente=True, fecha_actualizacion='2024-05-17 18:50:03.907364+00:00', fertilizacion=False, fungi_en_siem=False, insec_en_siem=False, promot_de_brota=False, pre_emergente=False, post_emergente=False, cultivado=False, ctrl_bio_tricho=False, insect_fisio_otros=False, ctrl_malezas=False, nivelacion_2=False, drenajes=False, financiamiento='IAG', id=284, total_sembrado_2da=50.44, semana_3ra=None, fecha_3ra_insp=None, total_3ra_insp=None, respon_3ra_insp=None, link_doc_3ra=None, estado_3ra_insp=None, fecha_informe='16/05/2024')\n",
      "====================== 42131\n",
      "credito(fecha_registro='2023-11-16 00:59:31.305131+00:00', amigo_id='b43f8273c46a4421be49010f0d27d582', semana_1ra='S46', semana_2da='S20', institucion=40, canhero='743 / ARTEAGA CHAVEZ ROBERT E.', solicitado=3.0, total_1ra_insp=2.14, estado_1ra_insp='APROBADO', fecha_1ra_insp='2023-11-18 01:24:04+00:00', cite_1ra_insp=519, respon_1ra_insp='Rogelio Acuña Rodríguez', obs_1ra=None, link_doc_1ra='https://drive.google.com/file/d/1C5UjzYqgKft-3SyZiTOlWubHElAKkwkr/view?usp=drivesdk', total_2da_insp=2.14, estado_2da_insp='APROBADO', fecha_2da_insp='14/05/2024', cite_2da_insp=82, respon_2da_insp='Rogelio Acuña Rodríguez', obs_2da=None, link_doc_2da=None, total_nacido=None, total_no_nacido=None, muestreo=False, glifosato=False, nivelacion_1=False, drenaje=True, romeplow=True, rastra=True, subsolado=False, rotacion=True, arado=False, ferti_base=True, enraizadores=True, insecticidas=True, fungicidas=True, preemergente=True, fecha_actualizacion='2024-05-17 20:09:41.250422+00:00', fertilizacion=False, fungi_en_siem=False, insec_en_siem=False, promot_de_brota=False, pre_emergente=False, post_emergente=False, cultivado=False, ctrl_bio_tricho=False, insect_fisio_otros=False, ctrl_malezas=False, nivelacion_2=False, drenajes=False, financiamiento='IAG', id=419, total_sembrado_2da=2.14, semana_3ra=None, fecha_3ra_insp=None, total_3ra_insp=None, respon_3ra_insp=None, link_doc_3ra=None, estado_3ra_insp=None, fecha_informe='15/05/2024')\n",
      "L2.1 e0713ab29b81438d8d8950adb22c9d1c\n",
      "credito(fecha_registro='2023-11-16 00:59:31.305131+00:00', amigo_id='b43f8273c46a4421be49010f0d27d582', semana_1ra='S46', semana_2da='S20', institucion=40, canhero='743 / ARTEAGA CHAVEZ ROBERT E.', solicitado=3.0, total_1ra_insp=2.14, estado_1ra_insp='APROBADO', fecha_1ra_insp='2023-11-18 01:24:04+00:00', cite_1ra_insp=519, respon_1ra_insp='Rogelio Acuña Rodríguez', obs_1ra=None, link_doc_1ra='https://drive.google.com/file/d/1C5UjzYqgKft-3SyZiTOlWubHElAKkwkr/view?usp=drivesdk', total_2da_insp=2.14, estado_2da_insp='APROBADO', fecha_2da_insp='14/05/2024', cite_2da_insp=82, respon_2da_insp='Rogelio Acuña Rodríguez', obs_2da=None, link_doc_2da=None, total_nacido=None, total_no_nacido=None, muestreo=False, glifosato=False, nivelacion_1=False, drenaje=True, romeplow=True, rastra=True, subsolado=False, rotacion=True, arado=False, ferti_base=True, enraizadores=True, insecticidas=True, fungicidas=True, preemergente=True, fecha_actualizacion='2024-05-17 20:09:41.250422+00:00', fertilizacion=False, fungi_en_siem=False, insec_en_siem=False, promot_de_brota=False, pre_emergente=False, post_emergente=False, cultivado=False, ctrl_bio_tricho=False, insect_fisio_otros=False, ctrl_malezas=False, nivelacion_2=False, drenajes=False, financiamiento='IAG', id=419, total_sembrado_2da=2.14, semana_3ra=None, fecha_3ra_insp=None, total_3ra_insp=None, respon_3ra_insp=None, link_doc_3ra=None, estado_3ra_insp=None, fecha_informe='15/05/2024')\n",
      "====================== 743\n",
      "credito(fecha_registro='2023-11-16 00:59:31.305131+00:00', amigo_id='9bd3d85d55b847fda55d122d50edf7bf', semana_1ra='S46', semana_2da='S20', institucion=138, canhero='41599 / LOPEZ TURIHUANO JUAN CARLOS', solicitado=50.0, total_1ra_insp=66.49, estado_1ra_insp='APROBADO', fecha_1ra_insp='2023-11-17 12:05:12+00:00', cite_1ra_insp=523, respon_1ra_insp='Juan Pablo Jaldin Duran', obs_1ra=None, link_doc_1ra='https://drive.google.com/file/d/1oYmeyVY-IAqNyZZSElqtdvZi9K9u4m1F/view?usp=drivesdk', total_2da_insp=66.49, estado_2da_insp='APROBADO', fecha_2da_insp='16/05/2024', cite_2da_insp=72, respon_2da_insp='Rogelio Acuña Rodríguez', obs_2da=None, link_doc_2da=None, total_nacido=None, total_no_nacido=None, muestreo=False, glifosato=True, nivelacion_1=True, drenaje=True, romeplow=True, rastra=True, subsolado=False, rotacion=True, arado=False, ferti_base=False, enraizadores=True, insecticidas=True, fungicidas=False, preemergente=True, fecha_actualizacion='2024-05-16 19:53:53.836891+00:00', fertilizacion=False, fungi_en_siem=False, insec_en_siem=False, promot_de_brota=False, pre_emergente=False, post_emergente=False, cultivado=False, ctrl_bio_tricho=False, insect_fisio_otros=False, ctrl_malezas=False, nivelacion_2=False, drenajes=False, financiamiento='IAG', id=292, total_sembrado_2da=23.02, semana_3ra=None, fecha_3ra_insp=None, total_3ra_insp=None, respon_3ra_insp=None, link_doc_3ra=None, estado_3ra_insp=None, fecha_informe='17/05/2024')\n",
      "L3.1 1972533fce3b405187ccbc8357bbcf96\n",
      "L4 1cf1d5dd2dfb40c6ae7329419810bcb0\n",
      "credito(fecha_registro='2023-11-16 00:59:31.305131+00:00', amigo_id='9bd3d85d55b847fda55d122d50edf7bf', semana_1ra='S46', semana_2da='S20', institucion=138, canhero='41599 / LOPEZ TURIHUANO JUAN CARLOS', solicitado=50.0, total_1ra_insp=66.49, estado_1ra_insp='APROBADO', fecha_1ra_insp='2023-11-17 12:05:12+00:00', cite_1ra_insp=523, respon_1ra_insp='Juan Pablo Jaldin Duran', obs_1ra=None, link_doc_1ra='https://drive.google.com/file/d/1oYmeyVY-IAqNyZZSElqtdvZi9K9u4m1F/view?usp=drivesdk', total_2da_insp=66.49, estado_2da_insp='APROBADO', fecha_2da_insp='16/05/2024', cite_2da_insp=72, respon_2da_insp='Rogelio Acuña Rodríguez', obs_2da=None, link_doc_2da=None, total_nacido=None, total_no_nacido=None, muestreo=False, glifosato=True, nivelacion_1=True, drenaje=True, romeplow=True, rastra=True, subsolado=False, rotacion=True, arado=False, ferti_base=False, enraizadores=True, insecticidas=True, fungicidas=False, preemergente=True, fecha_actualizacion='2024-05-16 19:53:53.836891+00:00', fertilizacion=False, fungi_en_siem=False, insec_en_siem=False, promot_de_brota=False, pre_emergente=False, post_emergente=False, cultivado=False, ctrl_bio_tricho=False, insect_fisio_otros=False, ctrl_malezas=False, nivelacion_2=False, drenajes=False, financiamiento='IAG', id=292, total_sembrado_2da=23.02, semana_3ra=None, fecha_3ra_insp=None, total_3ra_insp=None, respon_3ra_insp=None, link_doc_3ra=None, estado_3ra_insp=None, fecha_informe='17/05/2024')\n",
      "====================== 41599\n",
      "credito(fecha_registro='2023-11-16 00:59:31.305131+00:00', amigo_id='b3f3d488889047179f05d49037a09e6d', semana_1ra='S48', semana_2da='S20', institucion=81, canhero='2315 / CORDOVA OLGUIN JUAN CARLOS', solicitado=50.0, total_1ra_insp=62.64, estado_1ra_insp='APROBADO', fecha_1ra_insp='2023-11-24 18:40:34+00:00', cite_1ra_insp=540, respon_1ra_insp='Rogelio Acuña Rodríguez', obs_1ra=None, link_doc_1ra='https://drive.google.com/file/d/1LMB2c4RR9yklQrEa62ArmPmvBFt28RHu/view?usp=drivesdk', total_2da_insp=62.64, estado_2da_insp='APROBADO', fecha_2da_insp='16/05/2024', cite_2da_insp=73, respon_2da_insp='Rogelio Acuña Rodríguez', obs_2da=None, link_doc_2da=None, total_nacido=None, total_no_nacido=None, muestreo=False, glifosato=False, nivelacion_1=True, drenaje=True, romeplow=True, rastra=True, subsolado=False, rotacion=True, arado=True, ferti_base=True, enraizadores=True, insecticidas=True, fungicidas=False, preemergente=True, fecha_actualizacion='2024-05-16 20:04:15.036383+00:00', fertilizacion=False, fungi_en_siem=False, insec_en_siem=False, promot_de_brota=False, pre_emergente=False, post_emergente=False, cultivado=False, ctrl_bio_tricho=False, insect_fisio_otros=False, ctrl_malezas=False, nivelacion_2=False, drenajes=False, financiamiento='IAG', id=291, total_sembrado_2da=37.78, semana_3ra=None, fecha_3ra_insp=None, total_3ra_insp=None, respon_3ra_insp=None, link_doc_3ra=None, estado_3ra_insp=None, fecha_informe='17/05/2024')\n",
      "L14.4 8944cffbf88a456abd484f656111f803\n",
      "L5 e91c443f9c224194a4071677f12c3fdd\n",
      "L2 15c2046176cc4465b214b5a6e3dd4345\n",
      "L14.3 cc2a9e9c4c0a43049ed89c0d144b8696\n",
      "L10 f0c04dd628ea474eb1981005d10e941a\n",
      "credito(fecha_registro='2023-11-16 00:59:31.305131+00:00', amigo_id='b3f3d488889047179f05d49037a09e6d', semana_1ra='S48', semana_2da='S20', institucion=81, canhero='2315 / CORDOVA OLGUIN JUAN CARLOS', solicitado=50.0, total_1ra_insp=62.64, estado_1ra_insp='APROBADO', fecha_1ra_insp='2023-11-24 18:40:34+00:00', cite_1ra_insp=540, respon_1ra_insp='Rogelio Acuña Rodríguez', obs_1ra=None, link_doc_1ra='https://drive.google.com/file/d/1LMB2c4RR9yklQrEa62ArmPmvBFt28RHu/view?usp=drivesdk', total_2da_insp=62.64, estado_2da_insp='APROBADO', fecha_2da_insp='16/05/2024', cite_2da_insp=73, respon_2da_insp='Rogelio Acuña Rodríguez', obs_2da=None, link_doc_2da=None, total_nacido=None, total_no_nacido=None, muestreo=False, glifosato=False, nivelacion_1=True, drenaje=True, romeplow=True, rastra=True, subsolado=False, rotacion=True, arado=True, ferti_base=True, enraizadores=True, insecticidas=True, fungicidas=False, preemergente=True, fecha_actualizacion='2024-05-16 20:04:15.036383+00:00', fertilizacion=False, fungi_en_siem=False, insec_en_siem=False, promot_de_brota=False, pre_emergente=False, post_emergente=False, cultivado=False, ctrl_bio_tricho=False, insect_fisio_otros=False, ctrl_malezas=False, nivelacion_2=False, drenajes=False, financiamiento='IAG', id=291, total_sembrado_2da=37.78, semana_3ra=None, fecha_3ra_insp=None, total_3ra_insp=None, respon_3ra_insp=None, link_doc_3ra=None, estado_3ra_insp=None, fecha_informe='17/05/2024')\n",
      "====================== 2315\n"
     ]
    },
    {
     "data": {
      "text/plain": [
       "<Figure size 2000x2000 with 0 Axes>"
      ]
     },
     "metadata": {},
     "output_type": "display_data"
    },
    {
     "data": {
      "text/plain": [
       "<Figure size 2000x2000 with 0 Axes>"
      ]
     },
     "metadata": {},
     "output_type": "display_data"
    },
    {
     "data": {
      "text/plain": [
       "<Figure size 2000x2000 with 0 Axes>"
      ]
     },
     "metadata": {},
     "output_type": "display_data"
    }
   ],
   "source": [
    "for i in lista:\n",
    "    generar_reporte(i)\n",
    "    print('======================', i)"
   ]
  }
 ],
 "metadata": {
  "kernelspec": {
   "display_name": "Python 3 (ipykernel)",
   "language": "python",
   "name": "python3"
  },
  "language_info": {
   "codemirror_mode": {
    "name": "ipython",
    "version": 3
   },
   "file_extension": ".py",
   "mimetype": "text/x-python",
   "name": "python",
   "nbconvert_exporter": "python",
   "pygments_lexer": "ipython3",
   "version": "3.10.13"
  }
 },
 "nbformat": 4,
 "nbformat_minor": 5
}
