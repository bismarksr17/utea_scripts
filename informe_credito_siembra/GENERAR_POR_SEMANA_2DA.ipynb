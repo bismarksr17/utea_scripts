{
 "cells": [
  {
   "cell_type": "code",
   "execution_count": 10,
   "id": "6658e010-c382-4e03-a45a-67c832b35ef9",
   "metadata": {},
   "outputs": [],
   "source": [
    "# werkzeug\n",
    "# shapely=1.7.1\n",
    "# geopandas\n",
    "# pandas\n",
    "# contextily\n",
    "# matplotlib\n",
    "# docxtpl\n",
    "# docx"
   ]
  },
  {
   "cell_type": "code",
   "execution_count": 13,
   "id": "8c292c7c-2591-4985-93c8-88314bca3d5a",
   "metadata": {},
   "outputs": [],
   "source": [
    "import sys\n",
    "sys.path.append('../_amigocloud')"
   ]
  },
  {
   "cell_type": "code",
   "execution_count": 14,
   "id": "665919a4-6184-4280-8c4c-64588f9131d6",
   "metadata": {},
   "outputs": [],
   "source": [
    "from werkzeug.wrappers import Request, Response\n",
    "from jinja2 import Template\n",
    "\n",
    "from datetime import datetime, timedelta\n",
    "\n",
    "import collections\n",
    "from amigocloud import AmigoCloud\n",
    "\n",
    "from datetime import datetime\n",
    "\n",
    "from shapely import wkb\n",
    "import geopandas\n",
    "import pandas as pd\n",
    "import contextily as ctx\n",
    "import matplotlib.pyplot as plt\n",
    "\n",
    "from docxtpl import DocxTemplate\n",
    "import docxtpl\n",
    "from docx.shared import Mm\n",
    "import requests\n",
    "\n",
    "import qrcode\n",
    "\n",
    "def convertir_wkb(wkb_data):\n",
    "    return wkb.loads(wkb_data, hex=True)"
   ]
  },
  {
   "cell_type": "code",
   "execution_count": 15,
   "id": "057998b9-c93b-4559-87c9-e82742149a8a",
   "metadata": {},
   "outputs": [],
   "source": [
    "# ruta de carpera donde estan las llaves\n",
    "ruta = open('../ruta.txt')\n",
    "ruta = ruta.readlines()[0]"
   ]
  },
  {
   "cell_type": "code",
   "execution_count": 16,
   "id": "f78ec737-093c-44bb-a782-1af54be4a65f",
   "metadata": {},
   "outputs": [
    {
     "data": {
      "text/plain": [
       "<amigocloud.AmigoCloud at 0x1fe499b4be0>"
      ]
     },
     "execution_count": 16,
     "metadata": {},
     "output_type": "execute_result"
    }
   ],
   "source": [
    "# leer token\n",
    "acceso = open(ruta + '/_keys/api_amigocloud.key','r')\n",
    "api_token = acceso.readlines()[0]\n",
    "acceso.close()\n",
    "amigocloud = AmigoCloud(token=api_token)\n",
    "amigocloud"
   ]
  },
  {
   "cell_type": "code",
   "execution_count": null,
   "id": "fd24df3b-03ab-4317-a628-9c64f2cfa6e1",
   "metadata": {},
   "outputs": [],
   "source": []
  },
  {
   "cell_type": "code",
   "execution_count": null,
   "id": "fbd9b6bb-57b5-45a4-9783-1962fb4c915c",
   "metadata": {},
   "outputs": [],
   "source": []
  },
  {
   "cell_type": "code",
   "execution_count": null,
   "id": "fc09bc64-2e69-4066-ab56-8352fd548e78",
   "metadata": {},
   "outputs": [],
   "source": []
  },
  {
   "cell_type": "code",
   "execution_count": null,
   "id": "e7657522-665a-4848-ab19-ef33c4d11f76",
   "metadata": {},
   "outputs": [],
   "source": []
  },
  {
   "cell_type": "code",
   "execution_count": null,
   "id": "399642d2-df24-4ed4-9dc3-e07bd1ab11e3",
   "metadata": {},
   "outputs": [],
   "source": []
  },
  {
   "cell_type": "code",
   "execution_count": null,
   "id": "ab1c0c7a-16aa-45f7-ab99-ae2aaa687ef9",
   "metadata": {},
   "outputs": [],
   "source": []
  },
  {
   "cell_type": "code",
   "execution_count": null,
   "id": "30f2a209-026b-4b3f-9712-ce6d20e29e39",
   "metadata": {},
   "outputs": [],
   "source": []
  },
  {
   "cell_type": "code",
   "execution_count": 17,
   "id": "671335c0-f848-4ced-9199-d1000c19c39b",
   "metadata": {},
   "outputs": [],
   "source": [
    "def generar_reporte(codigo_canhero):\n",
    "    # EXTRAER DATOS DE CREDITO\n",
    "    query_credito = {'query': 'select * from dataset_307560 where cast(SPLIT_PART(canhero, \\'/\\', 1) as integer) = {cod_ca}'.format(cod_ca=codigo_canhero)}\n",
    "    credito_select = amigocloud.get('https://app.amigocloud.com/api/v1/projects/32672/sql', query_credito)\n",
    "    credito_data = credito_select['data'][0]\n",
    "    credito_data['fecha_informe'] = (datetime.strptime(credito_data['fecha_2da_insp'].split(' ')[0], '%Y-%m-%d') + timedelta(days=1)).strftime('%d/%m/%Y')\n",
    "    credito_data['fecha_2da_insp'] = datetime.strptime(credito_data['fecha_2da_insp'].split(' ')[0], '%Y-%m-%d').strftime('%d/%m/%Y')\n",
    "    credito = collections.namedtuple(\"credito\", credito_data.keys())(*credito_data.values())\n",
    "    print(credito)\n",
    "\n",
    "    # EXTRAER DATOS DE PROPIEDADES\n",
    "    query_propiedades = {'query': 'select * from dataset_307562 where insp_ref_prop = \\'{insp_ref_prop}\\''.format(insp_ref_prop=credito.amigo_id)}\n",
    "    propiedades_select = amigocloud.get('https://app.amigocloud.com/api/v1/projects/32672/sql', query_propiedades)\n",
    "    propiedades_data = propiedades_select['data']\n",
    "\n",
    "    # EXTRAER DATOS DE LOTES\n",
    "    propiedades = []\n",
    "    for prop in propiedades_data:\n",
    "        prop['lotes'] = []\n",
    "        query_lotes = {'query': \"select * from dataset_307563 where (estado_lote_2da = 'SEMBRADO' or estado_lote_2da = 'NO SEMBRADO') and prop_ref_lote=\\'{prop_ref_lote}\\'\".format(prop_ref_lote=prop['amigo_id'])}\n",
    "        lotes_select = amigocloud.get('https://app.amigocloud.com/api/v1/projects/32672/sql', query_lotes)\n",
    "        for lote_select in lotes_select['data']:\n",
    "            lote = collections.namedtuple(\"lote\", lote_select.keys())(*lote_select.values())\n",
    "            prop['lotes'].append(lote)\n",
    "        if len(prop['lotes']) > 0:\n",
    "            propiedades.append(collections.namedtuple(\"propiedad\", prop.keys())(*prop.values()))\n",
    "\n",
    "    # EXTRAER FOTOS\n",
    "    fotos = []\n",
    "    for propiedad in propiedades:\n",
    "        for lote in propiedad.lotes:\n",
    "            print(lote.lote, lote.amigo_id)\n",
    "            query_fotos = {'query': 'select source_amigo_id, s3_filename from gallery_48961 where source_amigo_id=\\'{source_amigo_id}\\''.format(source_amigo_id=lote.amigo_id)}\n",
    "            fotos_filename = amigocloud.get('https://app.amigocloud.com/api/v1/projects/32672/sql', query_fotos)\n",
    "            if fotos_filename['data'] != []:\n",
    "                dic = {'lote': lote.lote, 'file_name': fotos_filename['data'][0]['s3_filename']}\n",
    "                fotos.append(dic)\n",
    "\n",
    "    # GENERERAR PLANOS\n",
    "    i = 0\n",
    "    lista_planos = []\n",
    "    for propiedad in propiedades:\n",
    "        i = i + 1\n",
    "        lista_planos.append(generar_plano(propiedad, i))\n",
    "    \n",
    "    \n",
    "    # GENERAR QR\n",
    "    texto = '''\n",
    "--UTEA--\n",
    "--2DA INSPECCION CREDITO SIEMBRA--\n",
    "\n",
    "Codigo de Inspeccion: {cite}\n",
    "Fecha de 2da Inspeccion: {fecha}\n",
    "Nombre de Canero: {canero}\n",
    "Codigo Canero: {cod_ca}\n",
    "Total Solicitado: {soli}\n",
    "Total Area Insp.: {total_area} ha\n",
    "Estado de Insp.: {estado}\n",
    "Tecnico Responsable: {tecnico}'''\\\n",
    "    .format(\n",
    "        cite=str(credito.cite_2da_insp) + '-' + credito.fecha_2da_insp.split('/')[2], \n",
    "        fecha=credito.fecha_2da_insp, \n",
    "        canero=credito.canhero.split(' / ')[1],\n",
    "        cod_ca=credito.canhero.split(' / ')[0],\n",
    "        soli=credito.solicitado,\n",
    "        total_area=credito.total_2da_insp,\n",
    "        estado=credito.estado_2da_insp,\n",
    "        tecnico=credito.respon_2da_insp)\n",
    "    # Generar el código QR\n",
    "    qr = qrcode.QRCode(\n",
    "        version=1,\n",
    "        error_correction=qrcode.constants.ERROR_CORRECT_L,\n",
    "        box_size=10,\n",
    "        border=4,\n",
    "    )\n",
    "    qr.add_data(texto)\n",
    "    qr.make(fit=True)\n",
    "    \n",
    "    qr_img = qr.make_image(fill_color=\"black\", back_color=\"white\")\n",
    "    \n",
    "    cod_ca = credito.canhero.split(' / ')[0]\n",
    "    nom_ca = credito.canhero.split(' / ')[1]\n",
    "    filename_qr = \"qr_\" + cod_ca + '_CRS_' + credito.fecha_informe.replace('/', '-') + '_' + nom_ca\n",
    "    ruta_qr = ruta + '/planos/' + filename_qr + '.png'\n",
    "    # Guardar el código QR en un archivo\n",
    "    qr_img.save(ruta_qr)\n",
    "\n",
    "    # GENERAR REPORTE\n",
    "    doc = DocxTemplate(ruta + \"/templates/tpl_inf_credito_2da.docx\")\n",
    "    #generar lista de InlineImage de planos \n",
    "    lista_InlineImage = []\n",
    "    for plano in lista_planos:\n",
    "        lista_InlineImage.append(docxtpl.InlineImage(doc, image_descriptor=plano, width=Mm(150)))\n",
    "    #descargar fotos y generar lista InlineImage\n",
    "    lista_fotos_inline = []\n",
    "    for foto in fotos:\n",
    "        #response = requests.get(\"https://www-amigocloud.s3.amazonaws.com/gallery/\" + foto['file_name'])\n",
    "        response = requests.get(\"https://www-amigocloud.s3.amazonaws.com/gallery/\" + foto['file_name'])\n",
    "        file = open(ruta + '/fotos/' + foto['file_name'], \"wb\")\n",
    "        file.write(response.content)\n",
    "        file.close()\n",
    "        lista_fotos_inline.append({'foto': docxtpl.InlineImage(doc, image_descriptor=ruta+'/fotos/' + foto['file_name'], width=Mm(120)), 'lote': foto['lote']})\n",
    "    firma_respon = None\n",
    "    if credito.respon_2da_insp == 'Rogelio Acuña Rodríguez':\n",
    "        firma_respon = docxtpl.InlineImage(doc, image_descriptor=ruta+'/templates/firma_rogelio.png', width=Mm(60))\n",
    "    else:\n",
    "        firma_respon = docxtpl.InlineImage(doc, image_descriptor=ruta+'/templates/firma_jaldin.png', width=Mm(60))\n",
    "    # se crea obj inline par imagen QR\n",
    "    qr_file = docxtpl.InlineImage(doc, image_descriptor=ruta_qr, width=Mm(30))\n",
    "    \n",
    "    context = {'credito':credito, 'propiedades':propiedades, 'planos':lista_InlineImage, 'fotos':lista_fotos_inline, 'firma':firma_respon, 'qr':qr_file}\n",
    "    doc.render(context)\n",
    "    cod_ca = credito.canhero.split(' / ')[0]\n",
    "    nom_ca = credito.canhero.split(' / ')[1]\n",
    "    file_name = \"_\" + cod_ca + '_CRS_' + credito.fecha_informe.replace('/', '-') + '_' + nom_ca\n",
    "    doc.save(ruta + '/informes/' + file_name + '.docx')"
   ]
  },
  {
   "cell_type": "code",
   "execution_count": 18,
   "id": "f90ffde3-b794-45c0-a48e-f69a592752af",
   "metadata": {},
   "outputs": [],
   "source": [
    "def generar_plano(propiedad, i):\n",
    "    print(propiedad)\n",
    "    lotes_lista = []\n",
    "    for lote in propiedad.lotes:\n",
    "        lotes_lista.append(lote._asdict())\n",
    "    df = pd.DataFrame(lotes_lista)\n",
    "    df['geometria'] = df['geometria'].apply(convertir_wkb)\n",
    "\n",
    "    #Convertir a GeoDataFrame\n",
    "    data = geopandas.GeoDataFrame(df, geometry='geometria')\n",
    "    #data\n",
    "    #ctx.add_basemap(ax, source=ctx.providers.Esri.WorldImagery)\n",
    "\n",
    "    data['coords'] = data['geometria'].apply(lambda x: x.representative_point().coords[:])\n",
    "    data['coords'] = [coords[0] for coords in data['coords']]\n",
    "\n",
    "    data.crs = \"EPSG:4326\"\n",
    "    data = data.to_crs(epsg=3857)\n",
    "\n",
    "    \n",
    "    fig = plt.figure(i, figsize=(20,20))\n",
    "    #fig = plt.figure(1)\n",
    "    ax = None\n",
    "    ax = fig.add_subplot()\n",
    "\n",
    "    #data.set_crs(epsg=4326, inplace=True)\n",
    "\n",
    "    data.apply(lambda x: ax.annotate(text=x.lote + ' \\n' + str(x.superficie) + ' ha', xy=x.geometria.centroid.coords[0], ha='center', va='center', color='black', fontsize=12, weight=1000, bbox=dict(facecolor=(1,1,1,0.3), edgecolor='none', pad=0)), axis=1);\n",
    "\n",
    "    #data.boundary.plot(ax=ax, color=(0,0,0,0), linewidth=0)\n",
    "\n",
    "    #data = data.to_crs(epsg=3857)\n",
    "\n",
    "    minx, miny, maxx, maxy = data.total_bounds\n",
    "    ax.set_xlim(minx - 500, maxx + 500)\n",
    "    ax.set_ylim(miny - 400, maxy + 400)\n",
    "\n",
    "    data.plot(ax=ax, edgecolor='r', facecolor=(0,0,0,0), linewidth=2, figsize=(20,20))\n",
    "    #data.plot(ax=ax, edgecolor='r', facecolor=(0,0,0,0), linewidth=2)\n",
    "    \n",
    "    ctx.add_basemap(ax, source=ctx.providers.Esri.WorldImagery)\n",
    "    ax.set_axis_off()\n",
    "    ax.set_title(str(propiedad.propiedad), fontsize=20)\n",
    "    path = ruta+'/planos/' + str(propiedad.amigo_id) + '.jpeg'\n",
    "    fig.savefig(path, dpi = 300, bbox_inches='tight')\n",
    "    \n",
    "    plt.clf()\n",
    "    return path"
   ]
  },
  {
   "cell_type": "code",
   "execution_count": 24,
   "id": "e4cd18b4-2c5c-4d42-a40a-7f98bb6650d4",
   "metadata": {},
   "outputs": [],
   "source": [
    "semana = 'S22'\n",
    "query = {'query': 'select split_part(canhero, \\' / \\', 1) cod, split_part(canhero, \\' / \\', 2) nom from dataset_307560 where semana_2da = \\'{sem}\\''.format(sem=semana)}\n",
    "project = 'https://app.amigocloud.com/api/v1/projects/32672/sql'\n",
    "select = amigocloud.get(project, query)\n",
    "data = select['data']"
   ]
  },
  {
   "cell_type": "code",
   "execution_count": 25,
   "id": "4cb06cb9-c4eb-42ca-acf9-6156d769042b",
   "metadata": {},
   "outputs": [
    {
     "data": {
      "text/plain": [
       "[{'cod': '14993', 'nom': 'VACA CUELLAR JORGE'},\n",
       " {'cod': '42156', 'nom': 'CHAVEZ AGUILAR LUIS ANDRES'},\n",
       " {'cod': '13062', 'nom': 'SOTO ARCE BACILIO'},\n",
       " {'cod': '1580', 'nom': 'CALLE DELGADO IVER'},\n",
       " {'cod': '1237', 'nom': 'BALCAZAR GUTIERREZ JOSE IVER'},\n",
       " {'cod': '5448', 'nom': 'HUANCA MENCHAQUE ROLY'},\n",
       " {'cod': '41954', 'nom': 'ELTARTARO S.R.L'},\n",
       " {'cod': '8829', 'nom': 'MONASTERIO FOIANINI SYLVIA D.'},\n",
       " {'cod': '41529', 'nom': 'ACUÑA CANO VICTORIANO'},\n",
       " {'cod': '5345', 'nom': 'HUANCA SUAREZ EDGAR'},\n",
       " {'cod': '15195', 'nom': 'VEIZAGA ENRIQUEZ GUSTAVO'},\n",
       " {'cod': '15162', 'nom': 'VELASCO ANEZ MARCO ANTONIO'},\n",
       " {'cod': '12105', 'nom': 'ROCA REYES MIGUEL ANGEL'}]"
      ]
     },
     "execution_count": 25,
     "metadata": {},
     "output_type": "execute_result"
    }
   ],
   "source": [
    "data"
   ]
  },
  {
   "cell_type": "code",
   "execution_count": 26,
   "id": "c9643d6a-4861-4ed3-b9ba-619aeaaeba46",
   "metadata": {},
   "outputs": [],
   "source": [
    "#lista = [1068, 18062, 10739, 41955, 2392, 15162, 2517, 8706, 15085, 430, 874, 5498, 2505, 2274]\n",
    "lista = [int(i['cod']) for i in data]"
   ]
  },
  {
   "cell_type": "code",
   "execution_count": 27,
   "id": "59340321-ace8-43b3-832b-75a531664da5",
   "metadata": {},
   "outputs": [
    {
     "name": "stdout",
     "output_type": "stream",
     "text": [
      "13 informes\n"
     ]
    }
   ],
   "source": [
    "print(len(lista), 'informes')"
   ]
  },
  {
   "cell_type": "code",
   "execution_count": 23,
   "id": "66f18907-ce26-4932-b53a-4ef39be24c3c",
   "metadata": {},
   "outputs": [],
   "source": [
    "lista = [41954]"
   ]
  },
  {
   "cell_type": "code",
   "execution_count": 28,
   "id": "70c4c82b-41de-461d-8a66-628ab505953f",
   "metadata": {},
   "outputs": [
    {
     "name": "stdout",
     "output_type": "stream",
     "text": [
      "credito(fecha_registro='2023-11-16 00:59:31.305131+00:00', amigo_id='6d7bbf65eb30467e9bc143dc427aba35', semana_1ra='S50', semana_2da='S22', institucion=69, canhero='14993 / VACA CUELLAR JORGE', solicitado=6.0, total_1ra_insp=6.02, estado_1ra_insp='APROBADO', fecha_1ra_insp='2023-12-12 01:49:02+00:00', cite_1ra_insp=598, respon_1ra_insp='Juan Pablo Jaldin Duran', obs_1ra=None, link_doc_1ra='https://drive.google.com/file/d/1UoIP0x5FNAkLRJSkO0m9zaFjC1olhP00/view?usp=drivesdk', total_2da_insp=7.04, estado_2da_insp='APROBADO', fecha_2da_insp='29/05/2024', cite_2da_insp=120, respon_2da_insp='Rogelio Acuña Rodríguez', obs_2da=None, link_doc_2da=None, total_nacido=None, total_no_nacido=None, muestreo=False, glifosato=True, nivelacion_1=False, drenaje=False, romeplow=True, rastra=True, subsolado=False, rotacion=False, arado=False, ferti_base=False, enraizadores=True, insecticidas=True, fungicidas=True, preemergente=True, fecha_actualizacion='2024-06-01 13:11:37.124534+00:00', fertilizacion=False, fungi_en_siem=False, insec_en_siem=False, promot_de_brota=False, pre_emergente=False, post_emergente=False, cultivado=False, ctrl_bio_tricho=False, insect_fisio_otros=False, ctrl_malezas=False, nivelacion_2=False, drenajes=False, financiamiento='IAG', id=397, total_sembrado_2da=6.37, semana_3ra=None, fecha_3ra_insp=None, total_3ra_insp=None, respon_3ra_insp=None, link_doc_3ra=None, estado_3ra_insp=None, cite_3ra_insp=None, fecha_informe='30/05/2024')\n",
      "L16.1 4710a2aa1d134e029c252abd94832634\n",
      "L8 083ceb218d9b4ae7a5879352e3015222\n",
      "L40 c4c3c25b53d744518ea290d095c75254\n",
      "L41 ee904bb4be904257b44834cd1c4b0f69\n",
      "L11 f87e858f87854600ab9fc1c9d5fa02e9\n",
      "L35 38ec4b002fd34b6583dc77a27af83609\n",
      "propiedad(fecha_de_registro='2023-12-15 01:49:52+00:00', amigo_id='39db6254aeb34f40bbcc17ecd01c8823', ubicacion='0101000020E6100000B2414ECB30A94FC0E496D78E6A3031C0', propiedad='211 / LOS MAGUESES--VACA CUELLAR', tenencia='PROPIO', fecha_actualizacion='2023-12-15 01:49:52+00:00', insp_ref_prop='6d7bbf65eb30467e9bc143dc427aba35', lotes=[lote(fecha_de_registro='2024-06-01 13:18:28+00:00', amigo_id='4710a2aa1d134e029c252abd94832634', lote='L16.1', superficie=0.27, textura='F', lote_semillero='L37', variedad_semillero='UCG 90-20', variedad_sugerida='UCG 90-20', estado_semillero='BUENO', mes_siembra='ABRIL', variedad_sembrada='UCG 90-20', fecha_siembra=None, estado_de_siembra=None, obs_1=None, obs_2=None, fecha_actualizacion=None, prop_ref_lote='39db6254aeb34f40bbcc17ecd01c8823', geometria='0106000020E610000001000000010300000001000000050000006AE76BB337A94FC0F467249F582F31C0E4034C5532A94FC09C5DD0DA582F31C0CE7F258F33A94FC0B483722CBE2F31C0A0BFF2F737A94FC004F65F68BD2F31C06AE76BB337A94FC0F467249F582F31C0', estado_lote_1ra='APROBADO', estado_lote_2da='SEMBRADO'), lote(fecha_de_registro='2023-12-11 18:49:19+00:00', amigo_id='083ceb218d9b4ae7a5879352e3015222', lote='L8', superficie=2.62, textura='A', lote_semillero='L9', variedad_semillero='CITTCA 85-22', variedad_sugerida='RB-2', estado_semillero='BUENO', mes_siembra='ABRIL', variedad_sembrada=None, fecha_siembra=None, estado_de_siembra=None, obs_1=None, obs_2=None, fecha_actualizacion=None, prop_ref_lote='39db6254aeb34f40bbcc17ecd01c8823', geometria='0106000020E6100000010000000103000000010000000A000000F5B472C834A94FC05A0BE7BAE33031C0764B791E3BA94FC0312AA48D9B3031C09A7AFDEA77A94FC0CEA61E2AC53031C09E08A51378A94FC0657F807BC73031C02FEA368D77A94FC0C5A94CEFCE3031C0E7ED659871A94FC09FE8A1E5FA3031C00A8391A170A94FC09CE87445023131C06E3E9FC56DA94FC0A1651DE00E3131C054050E456CA94FC057DBAF44103131C0F5B472C834A94FC05A0BE7BAE33031C0', estado_lote_1ra='APROBADO', estado_lote_2da='SEMBRADO'), lote(fecha_de_registro='2023-12-11 18:40:20+00:00', amigo_id='c4c3c25b53d744518ea290d095c75254', lote='L40', superficie=0.86, textura='A', lote_semillero='L38', variedad_semillero='CITTCA 85-22', variedad_sugerida='CITTCA 85-22', estado_semillero='BUENO', mes_siembra='ABRIL', variedad_sembrada=None, fecha_siembra=None, estado_de_siembra=None, obs_1=None, obs_2=None, fecha_actualizacion=None, prop_ref_lote='39db6254aeb34f40bbcc17ecd01c8823', geometria='0106000020E61000000100000001030000000100000008000000DD51D49AE0A84FC0BA5CC1A5402F31C028148282CDA84FC0805ECC21122F31C05F10314BC8A84FC077B2E31EEB2E31C08DBFD86DC7A84FC01B77E4C2D82E31C0400552F8C9A84FC0F40A3AA4D52E31C00B1791FFEEA84FC0B0DCA7DE322F31C03932BA95E8A84FC04B6FD61B3D2F31C0DD51D49AE0A84FC0BA5CC1A5402F31C0', estado_lote_1ra='APROBADO', estado_lote_2da='SEMBRADO'), lote(fecha_de_registro='2023-12-11 18:40:30+00:00', amigo_id='ee904bb4be904257b44834cd1c4b0f69', lote='L41', superficie=0.67, textura='A', lote_semillero='L38', variedad_semillero='CITTCA 85-22', variedad_sugerida='CITTCA 85-22', estado_semillero='BUENO', mes_siembra='ABRIL', variedad_sembrada=None, fecha_siembra=None, estado_de_siembra=None, obs_1=None, obs_2=None, fecha_actualizacion=None, prop_ref_lote='39db6254aeb34f40bbcc17ecd01c8823', geometria='0106000020E61000000100000001030000000100000009000000C0A739C7CAA84FC08A617DEE082F31C07C0B8612CAA84FC0003192610A2F31C09DCD10A0A8A84FC07F48364AB12E31C00B0C8EA1A7A84FC0B66940069A2E31C06B8BE79CA7A84FC0A8BE164A952E31C0E7B3892CA9A84FC087CE8EA5922E31C036BF3F9BC6A84FC03469F2CBD52E31C0DD98EF71C7A84FC068C5FCB6EB2E31C0C0A739C7CAA84FC08A617DEE082F31C0', estado_lote_1ra='APROBADO', estado_lote_2da='NO SEMBRADO'), lote(fecha_de_registro='2023-12-11 18:52:24+00:00', amigo_id='f87e858f87854600ab9fc1c9d5fa02e9', lote='L11', superficie=2.25, textura='FA', lote_semillero='L9', variedad_semillero='CITTCA 85-22', variedad_sugerida='RB-2', estado_semillero='BUENO', mes_siembra='ABRIL', variedad_sembrada=None, fecha_siembra=None, estado_de_siembra=None, obs_1=None, obs_2=None, fecha_actualizacion=None, prop_ref_lote='39db6254aeb34f40bbcc17ecd01c8823', geometria='0106000020E610000001000000010300000001000000070000001D4580403AA94FC08E8641D8993031C05C40EB9C46A94FC07DC2C4F1293031C09C375D0947A94FC0FC27C875223031C0DFD27B7434A94FC00057B263233031C0E5FDA6CF25A94FC0A682DE50283031C05785A71911A94FC0DF3FF5E0823031C01D4580403AA94FC08E8641D8993031C0', estado_lote_1ra='APROBADO', estado_lote_2da='SEMBRADO'), lote(fecha_de_registro='2024-06-01 13:17:16+00:00', amigo_id='38ec4b002fd34b6583dc77a27af83609', lote='L35', superficie=0.37, textura='F', lote_semillero='L37', variedad_semillero='UCG 90-20', variedad_sugerida='UCG 90-20', estado_semillero='BUENO', mes_siembra='MAYO', variedad_sembrada=None, fecha_siembra=None, estado_de_siembra=None, obs_1=None, obs_2=None, fecha_actualizacion=None, prop_ref_lote='39db6254aeb34f40bbcc17ecd01c8823', geometria='0106000020E61000000100000001030000000100000007000000A48C70E20EA94FC0A43BE34A0A2F31C0E698F53D09A94FC03C77F795122F31C054377B74F2A84FC05853EDADDC2E31C02AE45A11F0A84FC0E0E40F9ECF2E31C09EBD3DA2EFA84FC0B86FF7A0C42E31C0500A7880F0A84FC0641C1BF5BC2E31C0A48C70E20EA94FC0A43BE34A0A2F31C0', estado_lote_1ra='APROBADO', estado_lote_2da='SEMBRADO')])\n",
      "====================== 14993\n",
      "credito(fecha_registro='2023-11-16 00:59:31.305131+00:00', amigo_id='f4e36de24cfc46cd9b30b8d2f0414420', semana_1ra='S', semana_2da='S22', institucion=8, canhero='42156 / CHAVEZ AGUILAR LUIS ANDRES', solicitado=10.0, total_1ra_insp=None, estado_1ra_insp='PENDIENTE', fecha_1ra_insp=None, cite_1ra_insp=None, respon_1ra_insp=None, obs_1ra=None, link_doc_1ra=None, total_2da_insp=8.55, estado_2da_insp='APROBADO', fecha_2da_insp='29/05/2024', cite_2da_insp=121, respon_2da_insp='Rogelio Acuña Rodríguez', obs_2da=None, link_doc_2da=None, total_nacido=None, total_no_nacido=None, muestreo=False, glifosato=False, nivelacion_1=False, drenaje=False, romeplow=True, rastra=False, subsolado=False, rotacion=False, arado=False, ferti_base=False, enraizadores=True, insecticidas=True, fungicidas=False, preemergente=True, fecha_actualizacion='2024-06-01 13:36:52.880547+00:00', fertilizacion=False, fungi_en_siem=False, insec_en_siem=False, promot_de_brota=False, pre_emergente=False, post_emergente=False, cultivado=False, ctrl_bio_tricho=False, insect_fisio_otros=False, ctrl_malezas=False, nivelacion_2=False, drenajes=False, financiamiento='IAG', id=366, total_sembrado_2da=8.55, semana_3ra=None, fecha_3ra_insp=None, total_3ra_insp=None, respon_3ra_insp=None, link_doc_3ra=None, estado_3ra_insp=None, cite_3ra_insp=None, fecha_informe='30/05/2024')\n",
      "L4 9485ebca62fb4b8e8db51ff81bdae525\n",
      "L3 1d3fa277c6774173ab26265fe2e9b335\n",
      "L1 42101c7ef2e449378c46765053883951\n",
      "L5 3eaf6ef005f04dd5a7b1e64ef4615501\n",
      "L2 83dd4e140cf243e5bdeace5f506ed2b3\n",
      "propiedad(fecha_de_registro='2024-06-01 13:43:42+00:00', amigo_id='09d7851dfdf74df7b82b7e3203a71d24', ubicacion='0101000020E6100000B89E8F0BFE934FC09C6B9A32D06B31C0', propiedad='2142 / CHAPARRALL--CHAVEZ LUIS ANDRES', tenencia='PROPIO', fecha_actualizacion='2024-06-01 13:43:42+00:00', insp_ref_prop='f4e36de24cfc46cd9b30b8d2f0414420', lotes=[lote(fecha_de_registro='2024-06-01 13:29:54+00:00', amigo_id='9485ebca62fb4b8e8db51ff81bdae525', lote='L4', superficie=2.52, textura='FY', lote_semillero='L7', variedad_semillero='UCG 90-20', variedad_sugerida='UCG 90-20', estado_semillero='REGULAR', mes_siembra='MAYO', variedad_sembrada=None, fecha_siembra=None, estado_de_siembra=None, obs_1=None, obs_2=None, fecha_actualizacion=None, prop_ref_lote='09d7851dfdf74df7b82b7e3203a71d24', geometria='0106000020E61000000100000001030000000100000013000000DE5FE558C4934FC02C2D6E20556D31C0B283BAFEC0934FC0C7D987B9A56D31C0163A85CA9C934FC058000A01A76D31C022C3702E93934FC00BC8BB44AB6D31C0EF8E017D8E934FC0CE746D88AF6D31C0D1B2D6228B934FC0FAD27935B76D31C0BB24BF477D934FC0FAD27935B76D31C09AB7DB837F934FC0316A4681986D31C0600C7F4C94934FC03A3578E3846D31C0B5E3A445A3934FC0EDBD4C76846D31C0280111B8A3934FC04C4E77496E6D31C0496EF47BA1934FC0C776EAE3676D31C0C2625FD18D934FC00EF288EB616D31C09D2EF01F89934FC01475D5A75D6D31C0DC77FE3D8A934FC0B8061746546D31C0B79D37B68E934FC02416A4A0466D31C04ABE6BCD9E934FC0D1A6F5EB446D31C097077AEB9F934FC084B66891526D31C0DE5FE558C4934FC02C2D6E20556D31C0', estado_lote_1ra='APROBADO', estado_lote_2da='SEMBRADO'), lote(fecha_de_registro='2024-06-01 13:29:13+00:00', amigo_id='1d3fa277c6774173ab26265fe2e9b335', lote='L3', superficie=0.7, textura='F', lote_semillero='L7', variedad_semillero='UCG 90-20', variedad_sugerida='UCG 90-20', estado_semillero='REGULAR', mes_siembra='MAYO', variedad_sembrada=None, fecha_siembra=None, estado_de_siembra=None, obs_1=None, obs_2=None, fecha_actualizacion=None, prop_ref_lote='09d7851dfdf74df7b82b7e3203a71d24', geometria='0106000020E6100000010000000103000000010000000500000005C7D482DA934FC099720C61716D31C016C83B26D9934FC08CBCB344A36D31C0C38162FBC0934FC04C5EA1D5A56D31C077D6AB5CC3934FC0743CAA2E6C6D31C005C7D482DA934FC099720C61716D31C0', estado_lote_1ra='APROBADO', estado_lote_2da='SEMBRADO'), lote(fecha_de_registro='2024-06-01 13:28:32+00:00', amigo_id='42101c7ef2e449378c46765053883951', lote='L1', superficie=0.5, textura='F', lote_semillero='L5', variedad_semillero='UCG 90-20', variedad_sugerida='UCG 90-20', estado_semillero='REGULAR', mes_siembra='MAYO', variedad_sembrada=None, fecha_siembra=None, estado_de_siembra=None, obs_1=None, obs_2=None, fecha_actualizacion=None, prop_ref_lote='09d7851dfdf74df7b82b7e3203a71d24', geometria='0106000020E61000000100000001030000000100000005000000E953FB71DE934FC0834F4C157A6C31C04BD68921CA934FC017B17EE8CB6C31C049B3F05BC1934FC008FE9667C46C31C01E5C16BED7934FC02286A25C6A6C31C0E953FB71DE934FC0834F4C157A6C31C0', estado_lote_1ra='APROBADO', estado_lote_2da='SEMBRADO'), lote(fecha_de_registro='2024-06-01 13:28:14+00:00', amigo_id='3eaf6ef005f04dd5a7b1e64ef4615501', lote='L5', superficie=3.47, textura='F', lote_semillero='L7', variedad_semillero='UCG 90-20', variedad_sugerida='UCG 90-20', estado_semillero='REGULAR', mes_siembra='MAYO', variedad_sembrada=None, fecha_siembra=None, estado_de_siembra=None, obs_1=None, obs_2=None, fecha_actualizacion=None, prop_ref_lote='09d7851dfdf74df7b82b7e3203a71d24', geometria='0106000020E6100000010000000103000000010000000500000057D000231C944FC0B37FDC66DC6B31C0B2D1817F43944FC0BDE3412DFC6B31C0A5EF5A4D5B944FC034DB2A90906B31C0327F42A639944FC0C784F3253F6B31C057D000231C944FC0B37FDC66DC6B31C0', estado_lote_1ra='APROBADO', estado_lote_2da='SEMBRADO'), lote(fecha_de_registro='2024-06-01 13:28:56+00:00', amigo_id='83dd4e140cf243e5bdeace5f506ed2b3', lote='L2', superficie=1.36, textura='F', lote_semillero='L7', variedad_semillero='UCG 90-20', variedad_sugerida='UCG 90-20', estado_semillero='REGULAR', mes_siembra='MAYO', variedad_sembrada=None, fecha_siembra=None, estado_de_siembra=None, obs_1=None, obs_2=None, fecha_actualizacion=None, prop_ref_lote='09d7851dfdf74df7b82b7e3203a71d24', geometria='0106000020E61000000100000001030000000100000007000000FCAA50D5C5934FC06CBB68FBCC6C31C084CE3B5AED934FC0F8735C28EC6C31C0E45A4750E2934FC060DCA6D1206D31C05C9135F3D5934FC05838A664186D31C0461D95ECC8934FC054D97E63106D31C056375CCBBA934FC0B4E72254036D31C0FCAA50D5C5934FC06CBB68FBCC6C31C0', estado_lote_1ra='APROBADO', estado_lote_2da='SEMBRADO')])\n",
      "====================== 42156\n",
      "credito(fecha_registro='2024-06-01 15:24:18.887862+00:00', amigo_id='6d85ee5f900b4814a7cdea25b96695ac', semana_1ra=None, semana_2da='S22', institucion=5, canhero='13062 / SOTO ARCE BACILIO', solicitado=35.0, total_1ra_insp=None, estado_1ra_insp='PENDIENTE', fecha_1ra_insp=None, cite_1ra_insp=None, respon_1ra_insp=None, obs_1ra=None, link_doc_1ra=None, total_2da_insp=21.28, estado_2da_insp='APROBADO', fecha_2da_insp='29/05/2024', cite_2da_insp=125, respon_2da_insp='Rogelio Acuña Rodríguez', obs_2da=None, link_doc_2da=None, total_nacido=None, total_no_nacido=None, muestreo=False, glifosato=False, nivelacion_1=False, drenaje=False, romeplow=True, rastra=True, subsolado=False, rotacion=False, arado=False, ferti_base=False, enraizadores=True, insecticidas=True, fungicidas=False, preemergente=True, fecha_actualizacion='2024-06-01 15:27:27.043221+00:00', fertilizacion=False, fungi_en_siem=False, insec_en_siem=False, promot_de_brota=False, pre_emergente=False, post_emergente=False, cultivado=False, ctrl_bio_tricho=False, insect_fisio_otros=False, ctrl_malezas=False, nivelacion_2=False, drenajes=False, financiamiento='IAG', id=454, total_sembrado_2da=21.28, semana_3ra=None, fecha_3ra_insp=None, total_3ra_insp=None, respon_3ra_insp=None, link_doc_3ra=None, estado_3ra_insp=None, cite_3ra_insp=None, fecha_informe='30/05/2024')\n",
      "L4.1 674ce1bf507e421db126ffefe1cb337b\n",
      "L5.1 18ab2bb752cb4fa98c91aef6a1fa730b\n",
      "L2.1 c469b32a9670469086a17f8d22d51df9\n",
      "L1 e1d285d087c7437cab4788c788d5d0c9\n",
      "L4 8b63b893480f4657b94f08951b1164f0\n",
      "L7 2c146c8bd5b54bfca211b23e42051f06\n",
      "propiedad(fecha_de_registro='2024-06-01 15:17:59+00:00', amigo_id='807bec0a4e984dccac75fe784a86bd6f', ubicacion='0101000020E6100000ACA9313F2FAF4FC098747BE5190C31C0', propiedad='1092 / BENJAMIN SOTO I--SOTO', tenencia='PROPIO', fecha_actualizacion='2024-06-01 15:28:15.799466+00:00', insp_ref_prop='6d85ee5f900b4814a7cdea25b96695ac', lotes=[lote(fecha_de_registro='2024-06-01 15:35:38+00:00', amigo_id='674ce1bf507e421db126ffefe1cb337b', lote='L4.1', superficie=2.73, textura='F', lote_semillero='L3', variedad_semillero='UCG 90-20', variedad_sugerida='UCG 90-20', estado_semillero='BUENO', mes_siembra='ABRIL', variedad_sembrada='UCG 90-20', fecha_siembra=None, estado_de_siembra=None, obs_1=None, obs_2=None, fecha_actualizacion=None, prop_ref_lote='807bec0a4e984dccac75fe784a86bd6f', geometria='0106000020E61000000100000001030000000100000010000000DAD60BB308B04FC0189FC174980D31C04EEA4AAF4EB04FC09C674684C50D31C0BEA3C1AE58B04FC0B818E356850D31C056DB3EE64CB04FC02CDDD033630D31C0721AE2534EB04FC00085A17A440D31C0E0166F0A54B04FC09C3899A12E0D31C0BEA3C1AE58B04FC06C632A4B200D31C08668918A51B04FC03C1F1F261A0D31C03CD0A56645B04FC0C873DC63240D31C04EB28DD441B04FC014E6C481370D31C0CCD318B03FB04FC0D495734E4B0D31C0643447F93EB04FC0400BFA136C0D31C014775DB03AB04FC0BC19F3C77B0D31C09C511FE829B04FC0987E6243900D31C06E03300E0EB04FC0BC19F3C77B0D31C0DAD60BB308B04FC0189FC174980D31C0', estado_lote_1ra='APROBADO', estado_lote_2da='SEMBRADO'), lote(fecha_de_registro='2024-06-01 15:36:20+00:00', amigo_id='18ab2bb752cb4fa98c91aef6a1fa730b', lote='L5.1', superficie=1.24, textura='F', lote_semillero='L3', variedad_semillero='UCG 90-20', variedad_sugerida='UCG 90-20', estado_semillero='BUENO', mes_siembra='ABRIL', variedad_sembrada=None, fecha_siembra=None, estado_de_siembra=None, obs_1=None, obs_2=None, fecha_actualizacion=None, prop_ref_lote='807bec0a4e984dccac75fe784a86bd6f', geometria='0106000020E610000001000000010300000001000000050000003490527FA4B04FC060B4C6B4B90D31C0CC6CC46963B04FC0040F04A18E0D31C0CC6CC46963B04FC04C403314B30D31C0A67EF5AE9FB04FC0986B221BDA0D31C03490527FA4B04FC060B4C6B4B90D31C0', estado_lote_1ra='APROBADO', estado_lote_2da='SEMBRADO'), lote(fecha_de_registro='2024-06-01 15:34:22+00:00', amigo_id='c469b32a9670469086a17f8d22d51df9', lote='L2.1', superficie=3.31, textura='FA', lote_semillero='L3', variedad_semillero='UCG 90-20', variedad_sugerida='UCG 90-20', estado_semillero='BUENO', mes_siembra='ABRIL', variedad_sembrada=None, fecha_siembra=None, estado_de_siembra=None, obs_1=None, obs_2=None, fecha_actualizacion=None, prop_ref_lote='807bec0a4e984dccac75fe784a86bd6f', geometria='0106000020E6100000010000000103000000010000000700000022CFB19874AF4FC02022458F1A0C31C060BC11FB57AF4FC074D76F78AC0C31C05ECB85A26EAF4FC0FC770221C20C31C0220518F65CAF4FC000F9C16F310D31C03A5BC8A23CAF4FC0C476A60B1E0D31C0DA64E58B66AF4FC088BE3FCD0F0C31C022CFB19874AF4FC02022458F1A0C31C0', estado_lote_1ra='APROBADO', estado_lote_2da='SEMBRADO'), lote(fecha_de_registro='2024-06-01 15:33:12+00:00', amigo_id='e1d285d087c7437cab4788c788d5d0c9', lote='L1', superficie=2.37, textura='F', lote_semillero='L3', variedad_semillero='UCG 90-20', variedad_sugerida='UCG 90-20', estado_semillero='BUENO', mes_siembra='ABRIL', variedad_sembrada='UCG 90-20', fecha_siembra=None, estado_de_siembra=None, obs_1=None, obs_2=None, fecha_actualizacion=None, prop_ref_lote='807bec0a4e984dccac75fe784a86bd6f', geometria='0106000020E6100000010000000103000000010000000B00000006979BBEF2AE4FC0B42C951B1A0C31C0FEDDEFEFF8AE4FC074F03281FC0B31C04852EA7219AF4FC0EC89D3AA150C31C05E9B7D7225AF4FC02C4DB762050C31C09A383C932DAF4FC01C1194B9FE0B31C0F4D739823BAF4FC01C1194B9FE0B31C0086821B34DAF4FC024CC113A110C31C01ECB629245AF4FC0F4C1073B360C31C0EEB6CE373EAF4FC010D06A364A0C31C040E74F4037AF4FC024BB009D510C31C006979BBEF2AE4FC0B42C951B1A0C31C0', estado_lote_1ra='APROBADO', estado_lote_2da='SEMBRADO')])\n",
      "propiedad(fecha_de_registro='2024-06-01 15:19:02+00:00', amigo_id='fb0cf682c0c94944aa7496dcf5344981', ubicacion='0101000020E61000006064F9FA8E9E4FC0F08DF88EB84631C0', propiedad='1378 / SANTA MARIA--BENJAMIN SOTO', tenencia='PROPIO', fecha_actualizacion='2024-06-01 15:28:54.723434+00:00', insp_ref_prop='6d85ee5f900b4814a7cdea25b96695ac', lotes=[lote(fecha_de_registro='2024-06-01 15:41:38+00:00', amigo_id='8b63b893480f4657b94f08951b1164f0', lote='L4', superficie=4.75, textura='F', lote_semillero='L4', variedad_semillero='UCG 90-20', variedad_sugerida='UCG 90-20', estado_semillero='BUENO', mes_siembra='ABRIL', variedad_sembrada=None, fecha_siembra=None, estado_de_siembra=None, obs_1=None, obs_2=None, fecha_actualizacion=None, prop_ref_lote='fb0cf682c0c94944aa7496dcf5344981', geometria='0106000020E6100000010000000103000000010000000A000000F42F11E4989E4FC0A025F816054731C0B855923D979E4FC0F8A04DCE0F4731C03EDC149C939E4FC0F8A04DCE0F4731C07E47F3DF679E4FC0C47BCF35FD4631C06204B2B0699E4FC0B46DD4EECD4631C04A74E0F0829E4FC09C174CA28B4631C0A69EDE94859E4FC050F5E98A2C4631C0BC7FC9F2A39E4FC074161D823E4631C086BEC6E8A79E4FC0C05EAD516A4631C0F42F11E4989E4FC0A025F816054731C0', estado_lote_1ra='APROBADO', estado_lote_2da='SEMBRADO')])\n",
      "propiedad(fecha_de_registro='2024-06-01 15:20:18+00:00', amigo_id='3bd250ba1d124b96b0e2a1a020e11ec2', ubicacion='0101000020E6100000E6E86F8E8A8E4FC058B9FB19A62C31C0', propiedad='83 / LA ESQUINA--SOTO', tenencia='PROPIO', fecha_actualizacion='2024-06-01 15:29:17.549915+00:00', insp_ref_prop='6d85ee5f900b4814a7cdea25b96695ac', lotes=[lote(fecha_de_registro='2024-06-01 15:44:45+00:00', amigo_id='2c146c8bd5b54bfca211b23e42051f06', lote='L7', superficie=6.88, textura='F', lote_semillero='L3', variedad_semillero='UCG 90-20', variedad_sugerida='UCG 90-20', estado_semillero='BUENO', mes_siembra='ABRIL', variedad_sembrada='UCG 90-20', fecha_siembra=None, estado_de_siembra=None, obs_1=None, obs_2=None, fecha_actualizacion=None, prop_ref_lote='3bd250ba1d124b96b0e2a1a020e11ec2', geometria='0106000020E61000000100000001030000000100000009000000D25793A5738E4FC054234D7D8F2C31C0221A3086758E4FC0A4D74905A32C31C08465D7A87D8E4FC01C51A123BA2C31C0882B450A828E4FC014113D15CA2C31C0E0EA106A818E4FC06434CDA0D92C31C02EE6A4137E8E4FC008E5F52FE52C31C0AC7BC615E98D4FC05850BAA2D82C31C08AB69B49E68D4FC0A448E2BA832C31C0D25793A5738E4FC054234D7D8F2C31C0', estado_lote_1ra='APROBADO', estado_lote_2da='SEMBRADO')])\n",
      "====================== 13062\n",
      "credito(fecha_registro='2023-11-16 00:59:31.305131+00:00', amigo_id='9ef9634858d24f1394f176d10bfa8afc', semana_1ra='S48', semana_2da='S22', institucion=3, canhero='1580 / CALLE DELGADO IVER', solicitado=40.0, total_1ra_insp=40.95, estado_1ra_insp='APROBADO', fecha_1ra_insp='2023-11-29 20:19:03+00:00', cite_1ra_insp=571, respon_1ra_insp='Rogelio Acuña Rodríguez', obs_1ra=None, link_doc_1ra='https://drive.google.com/file/d/1i3dJl7X3aChCWBJ8d5xyaCjdlHskii3S/view?usp=drivesdk', total_2da_insp=21.25, estado_2da_insp='APROBADO', fecha_2da_insp='29/05/2024', cite_2da_insp=123, respon_2da_insp='Rogelio Acuña Rodríguez', obs_2da=None, link_doc_2da=None, total_nacido=None, total_no_nacido=None, muestreo=False, glifosato=False, nivelacion_1=False, drenaje=False, romeplow=True, rastra=True, subsolado=False, rotacion=True, arado=False, ferti_base=False, enraizadores=True, insecticidas=True, fungicidas=True, preemergente=True, fecha_actualizacion='2024-06-01 14:21:02.271180+00:00', fertilizacion=False, fungi_en_siem=False, insec_en_siem=False, promot_de_brota=False, pre_emergente=False, post_emergente=False, cultivado=False, ctrl_bio_tricho=False, insect_fisio_otros=False, ctrl_malezas=False, nivelacion_2=False, drenajes=False, financiamiento='IAG', id=294, total_sembrado_2da=21.25, semana_3ra=None, fecha_3ra_insp=None, total_3ra_insp=None, respon_3ra_insp=None, link_doc_3ra=None, estado_3ra_insp=None, cite_3ra_insp=None, fecha_informe='30/05/2024')\n",
      "L1.1 7227a351281a48b28aaa12a61baecd81\n",
      "L3 d8c529c17a57491ba23c00bb003c3adc\n",
      "L4 a9e6bd36129042c6b373ec0edad06923\n",
      "propiedad(fecha_de_registro='2023-12-01 14:58:21+00:00', amigo_id='2382bb013d29430face7c6f340775e73', ubicacion='0101000020E61000007AC85B827E9B4FC0BC4224039A0631C0', propiedad='527 / PREDIO I--IVER CALLE', tenencia='PROPIO', fecha_actualizacion='2023-12-01 14:58:21+00:00', insp_ref_prop='9ef9634858d24f1394f176d10bfa8afc', lotes=[lote(fecha_de_registro='2023-12-01 15:18:45+00:00', amigo_id='7227a351281a48b28aaa12a61baecd81', lote='L1.1', superficie=1.72, textura='F', lote_semillero='L1', variedad_semillero='UCG 90-20', variedad_sugerida='UCG 90-20', estado_semillero='BUENO', mes_siembra='ABRIL', variedad_sembrada=None, fecha_siembra=None, estado_de_siembra=None, obs_1=None, obs_2=None, fecha_actualizacion=None, prop_ref_lote='2382bb013d29430face7c6f340775e73', geometria='0106000020E61000000100000001030000000100000005000000DC430F168F9B4FC0D43B83EB2C0631C06EDCF070849B4FC0BCC6D9392C0631C005D7E0A07E9B4FC00B6F1EBC430731C0585B7B648A9B4FC01C8A6C3D440731C0DC430F168F9B4FC0D43B83EB2C0631C0', estado_lote_1ra='APROBADO', estado_lote_2da='SEMBRADO')])\n",
      "propiedad(fecha_de_registro='2023-12-01 14:59:43+00:00', amigo_id='6a0db11402a04d1c9bc38473bb735fa2', ubicacion='0101000020E6100000C8FEFCE50D984FC0BC9777B9590431C0', propiedad='529 / PREDIO III--IVER CALLE', tenencia='PROPIO', fecha_actualizacion='2024-06-04 11:57:57.843812+00:00', insp_ref_prop='9ef9634858d24f1394f176d10bfa8afc', lotes=[lote(fecha_de_registro='2023-12-01 15:23:02+00:00', amigo_id='d8c529c17a57491ba23c00bb003c3adc', lote='L3', superficie=12.68, textura='FY', lote_semillero='L1', variedad_semillero='UCG 90-20', variedad_sugerida='CITTCA 0563', estado_semillero='BUENO', mes_siembra='ABRIL', variedad_sembrada=None, fecha_siembra=None, estado_de_siembra=None, obs_1=None, obs_2=None, fecha_actualizacion=None, prop_ref_lote='6a0db11402a04d1c9bc38473bb735fa2', geometria='0106000020E61000000100000001030000000100000007000000CCCC5CF598974FC0D140AB14DD0531C0C5CCD42FF5974FC0BDC4D4BEE10531C0265DAFD6F7974FC0706B2D768A0531C0E8B28B1FD7974FC0916D0D4A770531C0BFD1949BD9974FC01F280046960431C053D0F08B9D974FC0B8E5477B910431C0CCCC5CF598974FC0D140AB14DD0531C0', estado_lote_1ra='APROBADO', estado_lote_2da='SEMBRADO'), lote(fecha_de_registro='2024-06-01 14:26:29+00:00', amigo_id='a9e6bd36129042c6b373ec0edad06923', lote='L4', superficie=6.85, textura='F', lote_semillero='L8', variedad_semillero='UCG 90-20', variedad_sugerida='UCG 90-20', estado_semillero='BUENO', mes_siembra='MAYO', variedad_sembrada='UCG 90-20', fecha_siembra=None, estado_de_siembra=None, obs_1=None, obs_2=None, fecha_actualizacion=None, prop_ref_lote='6a0db11402a04d1c9bc38473bb735fa2', geometria='0106000020E6100000010000000103000000010000000B0000002F48C2A59D974FC0BB22D376900431C05102299ED9974FC001BA851E950431C0447DDA1CD7974FC0ADFF33647A0431C0DD32C7C1D4974FC0EF2DB85E660431C0D78D0A02CC974FC0B5A85738530431C058E43B94CB974FC06705598E480431C0B5C6A426CC974FC0378F59EE290431C09A73D696D7974FC08D695698110431C0EE6F42E0D8974FC0B9500BC7A70331C0C699E12AA1974FC05A4B3BA4A70331C02F48C2A59D974FC0BB22D376900431C0', estado_lote_1ra='APROBADO', estado_lote_2da='SEMBRADO')])\n",
      "====================== 1580\n",
      "credito(fecha_registro='2023-11-16 00:59:31.305131+00:00', amigo_id='d688d7fd9a3e4be6915450adb526ce3e', semana_1ra='S', semana_2da='S22', institucion=5, canhero='1237 / BALCAZAR GUTIERREZ JOSE IVER', solicitado=17.0, total_1ra_insp=None, estado_1ra_insp='PENDIENTE', fecha_1ra_insp=None, cite_1ra_insp=None, respon_1ra_insp=None, obs_1ra=None, link_doc_1ra=None, total_2da_insp=9.64, estado_2da_insp='APROBADO', fecha_2da_insp='28/05/2024', cite_2da_insp=124, respon_2da_insp='Rogelio Acuña Rodríguez', obs_2da=None, link_doc_2da=None, total_nacido=None, total_no_nacido=None, muestreo=False, glifosato=False, nivelacion_1=False, drenaje=False, romeplow=True, rastra=True, subsolado=False, rotacion=False, arado=False, ferti_base=False, enraizadores=True, insecticidas=True, fungicidas=False, preemergente=True, fecha_actualizacion='2024-06-01 14:35:13.810823+00:00', fertilizacion=False, fungi_en_siem=False, insec_en_siem=False, promot_de_brota=False, pre_emergente=False, post_emergente=False, cultivado=False, ctrl_bio_tricho=False, insect_fisio_otros=False, ctrl_malezas=False, nivelacion_2=False, drenajes=False, financiamiento='IAG', id=391, total_sembrado_2da=9.64, semana_3ra=None, fecha_3ra_insp=None, total_3ra_insp=None, respon_3ra_insp=None, link_doc_3ra=None, estado_3ra_insp=None, cite_3ra_insp=None, fecha_informe='29/05/2024')\n",
      "L3 0f9b32df465c48cc8c3c85c0b066a2cf\n",
      "L6 6d114ba541e34aac8054aa770c4bb637\n",
      "L5 d59c62a7051f4c15816ad5481fa0d02e\n",
      "L1 1749a6dd23e94e73aec39646122ae21b\n",
      "L2 cf4719d90ac84c0499088e094a175b1a\n",
      "L3 97f59f39944844f5b7714a7d6804b71a\n",
      "propiedad(fecha_de_registro='2024-06-01 14:38:41+00:00', amigo_id='b78a08863dfb45c78f90ef569a124b8e', ubicacion='0101000020E61000007E5216FB65A94FC058AFE4EA3B3531C0', propiedad='2141 / LA CORRIENTE--SOTO BASILIO', tenencia='ALQUILADO', fecha_actualizacion='2024-06-01 14:38:41+00:00', insp_ref_prop='d688d7fd9a3e4be6915450adb526ce3e', lotes=[lote(fecha_de_registro='2024-06-01 14:49:47+00:00', amigo_id='0f9b32df465c48cc8c3c85c0b066a2cf', lote='L3', superficie=0.34, textura='F', lote_semillero='L7', variedad_semillero='UCG 90-20', variedad_sugerida='UCG 90-20', estado_semillero='BUENO', mes_siembra='ABRIL', variedad_sembrada=None, fecha_siembra=None, estado_de_siembra=None, obs_1=None, obs_2=None, fecha_actualizacion=None, prop_ref_lote='b78a08863dfb45c78f90ef569a124b8e', geometria='0106000020E610000001000000010300000001000000050000006C6236A980A94FC0D09232BE013631C0941B7DC77BA94FC0ECC0EA110A3631C0EE60606C9BA94FC0C0EEC3B1413631C0A49613E1A3A94FC038E44C883B3631C06C6236A980A94FC0D09232BE013631C0', estado_lote_1ra='APROBADO', estado_lote_2da='SEMBRADO'), lote(fecha_de_registro='2024-06-01 15:04:15+00:00', amigo_id='6d114ba541e34aac8054aa770c4bb637', lote='L6', superficie=4.1, textura='F', lote_semillero='L7', variedad_semillero='UCG 90-20', variedad_sugerida='UCG 90-20', estado_semillero='REGULAR', mes_siembra='ABRIL', variedad_sembrada=None, fecha_siembra=None, estado_de_siembra=None, obs_1=None, obs_2=None, fecha_actualizacion=None, prop_ref_lote='b78a08863dfb45c78f90ef569a124b8e', geometria='0106000020E6100000010000000103000000010000001D000000DA21DC0D5CA94FC0802A20ABCD3431C0401F12756FA94FC04CCB3E0B1C3531C03CB7CB5378A94FC0F4FB2CC23A3531C04C1E460075A94FC0F0171F2C423531C05EB9C9776AA94FC0601EA7381F3531C0DA21DC0D5CA94FC0804EF852EB3431C0F8BB931057A94FC0940CADE7D13431C094564B1352A94FC000F03A6DB73431C094564B1352A94FC03079BD5CA43431C068597BE63BA94FC06043751D7C3431C00EF366743CA94FC01CD944E2893431C04CBFC3E340A94FC070DA278AA73431C00E5717884CA94FC030D689D8D03431C080EFD06655A94FC0C082848FEF3431C0DA21DC0D5CA94FC090B2CBFA083531C014EE387D60A94FC0D0549AA2263531C050BA95EC64A94FC05CC38659453531C054531B4068A94FC060C09FB55D3531C0921F78AF6CA94FC018E3B6F4853531C016EB6EE473A94FC0EC752D7EA13531C0CC838EFD79A94FC0302C4953C23531C03C80F8EF92A94FC0605C0C8C903531C03CE83E118AA94FC0608B5E7A6B3531C07CE8A44B87A94FC0006C33A54A3531C09A4E538389A94FC0A0923A58333531C03CE83E118AA94FC044A4E273113531C0C64F853281A94FC07894EE090A3531C0621E460075A94FC010892845FC3431C0DA21DC0D5CA94FC0802A20ABCD3431C0', estado_lote_1ra='APROBADO', estado_lote_2da='SEMBRADO'), lote(fecha_de_registro='2024-06-01 15:01:09+00:00', amigo_id='d59c62a7051f4c15816ad5481fa0d02e', lote='L5', superficie=2.41, textura='F', lote_semillero='L10', variedad_semillero='UCG 90-20', variedad_sugerida='UCG 90-20', estado_semillero='BUENO', mes_siembra='ABRIL', variedad_sembrada=None, fecha_siembra=None, estado_de_siembra=None, obs_1=None, obs_2=None, fecha_actualizacion=None, prop_ref_lote='b78a08863dfb45c78f90ef569a124b8e', geometria='0106000020E61000000100000001030000000100000017000000445E408D29A94FC0F41F6B5C4C3431C082E81C3226A94FC02CC96CCB5E3431C06CC6698E36A94FC02073AB148E3431C0666C42F23EA94FC0889259F6BA3431C05E43D05E4CA94FC0ECE97870E53431C0CA139FDB56A94FC04C73D8E6073531C0126E4AFD5DA94FC0941F1DCC3C3531C0E48287CC66A94FC02C78AD1A783531C07CB33CD56BA94FC0A84F9BF6983531C028301F2072A94FC0A42AFDCCAD3531C00A3E9DFF77A94FC0B0B1DD0AC53531C0E62F9B9A62A94FC0B065907BDB3531C06297401660A94FC0B8F3A632AC3531C004221DBB5CA94FC09C1800E6743531C096D5EF785BA94FC054885337473531C0CAC0B2A952A94FC018D2CD241F3531C054827FC147A94FC09CA1E777F53431C018CE287E39A94FC05C8F59F6BA3431C04296300022A94FC078B0AF36693431C0201F891F0FA94FC06818C11E2E3431C074F592060DA94FC0EC1941171E3431C002DA1ACD10A94FC06450DAAD173431C0445E408D29A94FC0F41F6B5C4C3431C0', estado_lote_1ra='APROBADO', estado_lote_2da='SEMBRADO'), lote(fecha_de_registro='2024-06-01 14:42:49+00:00', amigo_id='1749a6dd23e94e73aec39646122ae21b', lote='L1', superficie=0.46, textura='F', lote_semillero='L8', variedad_semillero='UCG 90-20', variedad_sugerida='UCG 90-20', estado_semillero='BUENO', mes_siembra='ABRIL', variedad_sembrada=None, fecha_siembra=None, estado_de_siembra=None, obs_1=None, obs_2=None, fecha_actualizacion=None, prop_ref_lote='b78a08863dfb45c78f90ef569a124b8e', geometria='0106000020E61000000100000001030000000100000008000000E4A508D9B3A94FC0E45B8716393631C0A0645A66ACA94FC094198631443631C0F8280D93B4A94FC04C62FC414E3631C03C1AAB01CEA94FC0AC6FBBD66D3631C05CA36445D7A94FC00809D083763631C02CF881FEDBA94FC004A54D117C3631C04CE412B8DEA94FC0504252F6703631C0E4A508D9B3A94FC0E45B8716393631C0', estado_lote_1ra='APROBADO', estado_lote_2da='SEMBRADO'), lote(fecha_de_registro='2024-06-01 14:48:26+00:00', amigo_id='cf4719d90ac84c0499088e094a175b1a', lote='L2', superficie=1.75, textura='F', lote_semillero='L3', variedad_semillero='UCG 90-20', variedad_sugerida='UCG 90-20', estado_semillero='BUENO', mes_siembra='ABRIL', variedad_sembrada='UCG 90-20', fecha_siembra=None, estado_de_siembra='CAÑA NACIDA', obs_1=None, obs_2=None, fecha_actualizacion=None, prop_ref_lote='b78a08863dfb45c78f90ef569a124b8e', geometria='0106000020E61000000100000001030000000100000011000000DCCC20D5AAA94FC0F44CB53A2B3631C050F8DF77AFA94FC06C1DF873333631C05CCE6288A8A94FC0FCCE358A3D3631C05A06F5F481A94FC0787E18C0FB3531C026DC1DB190A94FC0D0818D4DEB3531C07C24098591A94FC0309D4EC3E23531C06EDA253C8AA94FC0A0A14FFDCB3531C02EC1F90A8EA94FC084601622C33531C0F4311BD892A94FC0846E231DB73531C096DD152697A94FC08CFF47EBC03531C00861DA7A97A94FC07CF5ABE0C73531C090020A8AC0A94FC0D004A2320C3631C01A75CCA1B2A94FC02C2685760D3631C05004ABD4ADA94FC008CD9A830C3631C0209A12B1A9A94FC020B0F4C9133631C0FA164E5CA9A94FC020968A9A233631C0DCCC20D5AAA94FC0F44CB53A2B3631C0', estado_lote_1ra='APROBADO', estado_lote_2da='SEMBRADO'), lote(fecha_de_registro='2024-06-01 14:57:00+00:00', amigo_id='97f59f39944844f5b7714a7d6804b71a', lote='L3', superficie=0.58, textura='F', lote_semillero='L7', variedad_semillero='UCG 90-20', variedad_sugerida='UCG 90-20', estado_semillero='REGULAR', mes_siembra='ABRIL', variedad_sembrada='UCG 90-20', fecha_siembra=None, estado_de_siembra=None, obs_1=None, obs_2=None, fecha_actualizacion=None, prop_ref_lote='b78a08863dfb45c78f90ef569a124b8e', geometria='0106000020E6100000010000000103000000010000000A000000C05184429BA94FC004D504AFA63531C0446D868A93A94FC0883E1F3AB63531C06A24E81AC3A94FC0148300520A3631C070C4D8BCC8A94FC09CDFA423053631C01E4F7E9DCAA94FC0F0AE1E91FD3531C024FF7D6AB2A94FC078618980D83531C03EEBBD5DACA94FC074755E1CD63531C0E2EE5E7BA5A94FC0881A555DC73531C0FEA8C6B0A5A94FC078838B34BC3531C0C05184429BA94FC004D504AFA63531C0', estado_lote_1ra='APROBADO', estado_lote_2da='SEMBRADO')])\n",
      "====================== 1237\n",
      "credito(fecha_registro='2023-11-16 00:59:31.305131+00:00', amigo_id='679079c53c864133aa13f0d95a2182f6', semana_1ra='S49', semana_2da='S22', institucion=66, canhero='5448 / HUANCA MENCHAQUE ROLY', solicitado=30.0, total_1ra_insp=37.08, estado_1ra_insp='APROBADO', fecha_1ra_insp='2023-12-06 22:59:54+00:00', cite_1ra_insp=586, respon_1ra_insp='Rogelio Acuña Rodríguez', obs_1ra=None, link_doc_1ra='https://drive.google.com/file/d/16ndML2NuDr2Ix7vd-yv0olKcL_oqcCsf/view?usp=drivesdk', total_2da_insp=23.39, estado_2da_insp='APROBADO', fecha_2da_insp='28/05/2024', cite_2da_insp=119, respon_2da_insp='Rogelio Acuña Rodríguez', obs_2da=None, link_doc_2da=None, total_nacido=None, total_no_nacido=None, muestreo=False, glifosato=False, nivelacion_1=False, drenaje=True, romeplow=True, rastra=True, subsolado=False, rotacion=True, arado=False, ferti_base=False, enraizadores=True, insecticidas=True, fungicidas=False, preemergente=True, fecha_actualizacion='2024-05-31 19:43:25.049761+00:00', fertilizacion=False, fungi_en_siem=False, insec_en_siem=False, promot_de_brota=False, pre_emergente=False, post_emergente=False, cultivado=False, ctrl_bio_tricho=False, insect_fisio_otros=False, ctrl_malezas=False, nivelacion_2=False, drenajes=False, financiamiento='IAG', id=307, total_sembrado_2da=23.39, semana_3ra=None, fecha_3ra_insp=None, total_3ra_insp=None, respon_3ra_insp=None, link_doc_3ra=None, estado_3ra_insp=None, cite_3ra_insp=None, fecha_informe='29/05/2024')\n",
      "L7.1 bd4d99f9508d43f78decb3961c4622a7\n",
      "L7 0eca740688fd45f591f6f728758441ab\n",
      "L8 d01c6ec3c07f401fb10595e5318625b9\n",
      "propiedad(fecha_de_registro='2023-12-08 23:14:15+00:00', amigo_id='0c0f1e7d3b9845389edcbf8c5df06135', ubicacion='0101000020E610000079A818AD77894FC0C51E71267A3931C0', propiedad='1617 / PAISAJE PARADA--CUELLAR URBANO', tenencia='ALQUILADO', fecha_actualizacion='2023-12-08 23:14:26.489882+00:00', insp_ref_prop='679079c53c864133aa13f0d95a2182f6', lotes=[lote(fecha_de_registro='2024-05-31 19:56:19+00:00', amigo_id='bd4d99f9508d43f78decb3961c4622a7', lote='L7.1', superficie=3.3, textura='F', lote_semillero='L5', variedad_semillero='UCG 90-20', variedad_sugerida='UCG 90-20', estado_semillero='BUENO', mes_siembra='MAYO', variedad_sembrada='UCG 90-20', fecha_siembra=None, estado_de_siembra=None, obs_1=None, obs_2=None, fecha_actualizacion=None, prop_ref_lote='0c0f1e7d3b9845389edcbf8c5df06135', geometria='0106000020E6100000010000000103000000010000000500000066203B82AC894FC020C42B4AFD3831C0A4177424AC894FC07C693AB3473931C052D1311755894FC0DCDD88C9103931C046DCDBF157894FC0E80EF686D03831C066203B82AC894FC020C42B4AFD3831C0', estado_lote_1ra='APROBADO', estado_lote_2da='SEMBRADO'), lote(fecha_de_registro='2023-12-08 23:18:32+00:00', amigo_id='0eca740688fd45f591f6f728758441ab', lote='L7', superficie=7.06, textura='F', lote_semillero='L1', variedad_semillero='UCG 90-20', variedad_sugerida='UCG 90-20', estado_semillero='REGULAR', mes_siembra='ABRIL', variedad_sembrada=None, fecha_siembra=None, estado_de_siembra=None, obs_1=None, obs_2=None, fecha_actualizacion=None, prop_ref_lote='0c0f1e7d3b9845389edcbf8c5df06135', geometria='0106000020E6100000010000000103000000010000000600000044EACB10B0894FC0BFA7C1D1493931C04797759BCF894FC0155A438C5C3931C013D070F94D8A4FC0B66D1B2CB43931C0479D2D30518A4FC0080F6D105E3931C0006F15C6AF894FC0FD4A0ED1FD3831C044EACB10B0894FC0BFA7C1D1493931C0', estado_lote_1ra='APROBADO', estado_lote_2da='SEMBRADO'), lote(fecha_de_registro='2023-12-08 23:20:17+00:00', amigo_id='d01c6ec3c07f401fb10595e5318625b9', lote='L8', superficie=13.03, textura='F', lote_semillero='L1', variedad_semillero='UCG 90-20', variedad_sugerida='CITTCA 0563', estado_semillero='REGULAR', mes_siembra='ABRIL', variedad_sembrada=None, fecha_siembra=None, estado_de_siembra=None, obs_1=None, obs_2=None, fecha_actualizacion=None, prop_ref_lote='0c0f1e7d3b9845389edcbf8c5df06135', geometria='0106000020E61000000100000001030000000100000009000000BFBC2E5DB5894FC0A3C767D0A13831C0ADB0B7F5AF894FC0113D471DFB3831C091BB392A518A4FC0FC45C2BB5B3931C015BE9F52558A4FC0FBB5BE3AFF3831C02F08781E588A4FC0E302E7D3AC3831C0D93D558EF3894FC0DBCDA0B47D3831C0D97492E5F0894FC0FC02EA02B23831C0775E3EBBB5894FC091423729973831C0BFBC2E5DB5894FC0A3C767D0A13831C0', estado_lote_1ra='APROBADO', estado_lote_2da='SEMBRADO')])\n",
      "====================== 5448\n",
      "credito(fecha_registro='2023-11-16 00:59:31.305131+00:00', amigo_id='e343b07c4f924cfba311544752e4ac71', semana_1ra='S50', semana_2da='S22', institucion=66, canhero='41954 / ELTARTARO S.R.L', solicitado=90.0, total_1ra_insp=30.3, estado_1ra_insp='APROBADO', fecha_1ra_insp='2023-12-13 00:14:44+00:00', cite_1ra_insp=596, respon_1ra_insp='Rogelio Acuña Rodríguez', obs_1ra=None, link_doc_1ra='https://drive.google.com/file/d/1IsD8CVr4YHBzy6qYDTkaqb0nOO_sU8iq/view?usp=drivesdk', total_2da_insp=72.07, estado_2da_insp='APROBADO', fecha_2da_insp='22/05/2024', cite_2da_insp=109, respon_2da_insp='Rogelio Acuña Rodríguez', obs_2da=None, link_doc_2da=None, total_nacido=None, total_no_nacido=None, muestreo=False, glifosato=False, nivelacion_1=False, drenaje=False, romeplow=True, rastra=True, subsolado=False, rotacion=True, arado=False, ferti_base=False, enraizadores=True, insecticidas=True, fungicidas=False, preemergente=True, fecha_actualizacion='2024-06-04 09:20:50.010177+00:00', fertilizacion=False, fungi_en_siem=False, insec_en_siem=False, promot_de_brota=False, pre_emergente=False, post_emergente=False, cultivado=False, ctrl_bio_tricho=False, insect_fisio_otros=False, ctrl_malezas=False, nivelacion_2=False, drenajes=False, financiamiento='IAG', id=299, total_sembrado_2da=72.07, semana_3ra=None, fecha_3ra_insp=None, total_3ra_insp=None, respon_3ra_insp='Rogelio Acuña Rodríguez', link_doc_3ra=None, estado_3ra_insp=None, cite_3ra_insp=None, fecha_informe='23/05/2024')\n",
      "L15 f91e48646287487ca174d7c15b88fb00\n",
      "L12 1dbcfba5df754ddabe9c4e5ba12f19ad\n",
      "L2.2 2eab43a8368d46e5bbf6e084d56f6d9a\n",
      "L1 b8a07d08cddd4bb0ae6a988e65c25a79\n",
      "L1 835d0d2b9f0546b499e7281d4879f43d\n",
      "L1.1 df5860c20e884b1dad6e908d02a78563\n",
      "L2 5ed4d3dabee244d48d362a75d2c9a92b\n",
      "propiedad(fecha_de_registro='2023-12-15 00:36:06+00:00', amigo_id='9af2a4e444614f16b5cdf660dc9e8737', ubicacion='0101000020E61000001EB7667E21764FC010CC4A9BEC4931C0', propiedad='532 / MOROCHO--CARBAJAL QUISPE', tenencia='ALQUILADO', fecha_actualizacion='2023-12-15 00:36:06+00:00', insp_ref_prop='e343b07c4f924cfba311544752e4ac71', lotes=[lote(fecha_de_registro='2023-12-15 00:38:42+00:00', amigo_id='f91e48646287487ca174d7c15b88fb00', lote='L15', superficie=17.55, textura='FY', lote_semillero='L3', variedad_semillero='UCG 90-20', variedad_sugerida='UCG 90-20', estado_semillero='BUENO', mes_siembra='ABRIL', variedad_sembrada=None, fecha_siembra=None, estado_de_siembra=None, obs_1=None, obs_2=None, fecha_actualizacion=None, prop_ref_lote='9af2a4e444614f16b5cdf660dc9e8737', geometria='0106000020E610000001000000010300000001000000090000005E465951E1754FC02C1155FF5A4931C07ADEEBBCC8754FC054B6BD24A84931C0C29B19CCEB754FC06C578DC9D94931C0F2B15F1CE0754FC0CC7525ABF94931C0A45B452F98764FC010D4DA0BF14A31C038B2AA699D764FC00CB35806B24A31C0165EA9F2A3764FC074526252954A31C09A4E0463B2764FC0A88E2E16734A31C05E465951E1754FC02C1155FF5A4931C0', estado_lote_1ra='APROBADO', estado_lote_2da='SEMBRADO')])\n",
      "propiedad(fecha_de_registro='2023-12-15 00:41:39+00:00', amigo_id='91779491bef84bddb4993901f9ae9237', ubicacion='0101000020E61000007C8856FA9A764FC0C4A7BED2804931C0', propiedad='1614 / JUNTA PAILON--BETTY ANZE', tenencia='ALQUILADO', fecha_actualizacion='2023-12-15 00:41:39+00:00', insp_ref_prop='e343b07c4f924cfba311544752e4ac71', lotes=[lote(fecha_de_registro='2023-12-15 00:41:07+00:00', amigo_id='1dbcfba5df754ddabe9c4e5ba12f19ad', lote='L12', superficie=14.0, textura='FY', lote_semillero='L3', variedad_semillero='UCG 90-20', variedad_sugerida='RBB 77-26', estado_semillero='BUENO', mes_siembra='ABRIL', variedad_sembrada=None, fecha_siembra=None, estado_de_siembra=None, obs_1=None, obs_2=None, fecha_actualizacion=None, prop_ref_lote='91779491bef84bddb4993901f9ae9237', geometria='0106000020E6100000010000000103000000010000000500000053A562DB34764FC055B48CDDBC4831C0B92DBC5516764FC0E6B83D49144931C0B5AC0E7BD3764FC06AE156C61B4A31C0CCCD9324F9764FC0F3ADDCB3C74931C053A562DB34764FC055B48CDDBC4831C0', estado_lote_1ra='APROBADO', estado_lote_2da='SEMBRADO')])\n",
      "propiedad(fecha_de_registro='2024-05-25 15:21:32+00:00', amigo_id='e1729a708c324fe5a3cd597b930eb7e4', ubicacion='0101000020E610000072789CD3AD904FC04CC15BE7A05131C0', propiedad='1732 / LA PAMPA--MORA WILLAN', tenencia='ALQUILADO', fecha_actualizacion='2024-05-25 15:21:32+00:00', insp_ref_prop='e343b07c4f924cfba311544752e4ac71', lotes=[lote(fecha_de_registro='2024-05-25 15:20:51+00:00', amigo_id='2eab43a8368d46e5bbf6e084d56f6d9a', lote='L2.2', superficie=2.25, textura='F', lote_semillero='L2.1', variedad_semillero='UCG 90-20', variedad_sugerida='UCG 90-20', estado_semillero='BUENO', mes_siembra='ABRIL', variedad_sembrada='UCG 90-20', fecha_siembra=None, estado_de_siembra=None, obs_1=None, obs_2=None, fecha_actualizacion=None, prop_ref_lote='e1729a708c324fe5a3cd597b930eb7e4', geometria='0106000020E6100000010000000103000000010000000B0000009497DB3FC7904FC07CEB48AC445131C0B08C3538C3904FC0C82B36F46F5131C04004F6DCB4904FC04C42A98C6D5131C06448D45FB6904FC0F4C5EE10AC5131C0D448D45FB6904FC0B4755809BB5131C0AC4E26D4BB904FC0CCD5FE19C65131C01C11C5DFBD904FC0DC390484D05131C0A492D93CBF904FC0FC2C1561FF5131C0727A916BA9904FC0E062F41FFC5131C0C8F22A9AA2904FC08C31A7F8415131C09497DB3FC7904FC07CEB48AC445131C0', estado_lote_1ra='APROBADO', estado_lote_2da='SEMBRADO')])\n",
      "propiedad(fecha_de_registro='2024-05-25 15:24:25+00:00', amigo_id='a4a81291d8984f77b07086b0b71c8c51', ubicacion='0101000020E6100000F4D7953FAC9C4FC02092124AFC3F31C0', propiedad='2140 / LA TRANCA--MORA', tenencia='ALQUILADO', fecha_actualizacion='2024-05-25 15:28:23.561648+00:00', insp_ref_prop='e343b07c4f924cfba311544752e4ac71', lotes=[lote(fecha_de_registro='2024-05-25 15:25:26+00:00', amigo_id='b8a07d08cddd4bb0ae6a988e65c25a79', lote='L1', superficie=16.86, textura='F', lote_semillero='L3', variedad_semillero='UCG 90-20', variedad_sugerida='UCG 90-20', estado_semillero='BUENO', mes_siembra='MAYO', variedad_sembrada='UCG 90-20', fecha_siembra=None, estado_de_siembra=None, obs_1=None, obs_2=None, fecha_actualizacion=None, prop_ref_lote='a4a81291d8984f77b07086b0b71c8c51', geometria='0106000020E61000000100000001030000000100000007000000F0EACD1D8C9C4FC0DBFDA370894031C010E9C62A419C4FC037BF76EAC83F31C031E61146BC9C4FC0D02575267C3F31C0B5BF4EAE099D4FC057D82F62454031C0AD181F0F0B9D4FC0EF7526B14C4031C0E437BD2A0A9D4FC0969459A8514031C0F0EACD1D8C9C4FC0DBFDA370894031C0', estado_lote_1ra='APROBADO', estado_lote_2da='SEMBRADO')])\n",
      "propiedad(fecha_de_registro='2024-05-25 15:51:59+00:00', amigo_id='bee754c85c6f45e7aff2cd7092978b84', ubicacion='0101000020E61000005440C4926CB64FC0C4887A7A286D31C0', propiedad='1954 / MARAYAU--MORA MARCELO', tenencia='ALQUILADO', fecha_actualizacion='2024-05-25 15:51:59+00:00', insp_ref_prop='e343b07c4f924cfba311544752e4ac71', lotes=[lote(fecha_de_registro='2024-05-25 15:51:14+00:00', amigo_id='835d0d2b9f0546b499e7281d4879f43d', lote='L1', superficie=6.42, textura='F', lote_semillero='L2', variedad_semillero='UCG 90-20', variedad_sugerida='UCG 90-20', estado_semillero='REGULAR', mes_siembra='MAYO', variedad_sembrada='UCG 90-20', fecha_siembra=None, estado_de_siembra=None, obs_1=None, obs_2=None, fecha_actualizacion=None, prop_ref_lote='bee754c85c6f45e7aff2cd7092978b84', geometria='0106000020E6100000010000000103000000010000000D000000AE6678F672B64FC0FC781458846D31C03A6C9A3B45B64FC068E97626146D31C0C28EA09055B64FC044201A5DE46C31C04ABB3B0B78B64FC0C0049E5FFF6C31C06A01231691B64FC0A8B8A4EB166D31C096E8B1E692B64FC09C3684390D6D31C0CCA2CADB79B64FC094427CADF56C31C07CAC5F018CB64FC02060F37EA96C31C0865102459AB64FC08CD03EF5A56C31C0AC4F4C83A9B64FC05CB79CCC986C31C0EA0268D2C5B64FC0384FB6C5506C31C0426FC1B5D0B64FC0F472113D5D6C31C0AE6678F672B64FC0FC781458846D31C0', estado_lote_1ra='APROBADO', estado_lote_2da='SEMBRADO')])\n",
      "propiedad(fecha_de_registro='2024-05-25 15:56:28+00:00', amigo_id='79b378cdb09d490d94c621b4c958ba3a', ubicacion='0101000020E6100000263FFF18D8914FC004B0F9DB6B5931C0', propiedad='1731 / LOS ANGELES', tenencia='ALQUILADO', fecha_actualizacion='2024-05-25 15:56:28+00:00', insp_ref_prop='e343b07c4f924cfba311544752e4ac71', lotes=[lote(fecha_de_registro='2024-05-25 15:54:47+00:00', amigo_id='df5860c20e884b1dad6e908d02a78563', lote='L1.1', superficie=6.82, textura='F', lote_semillero='L3', variedad_semillero='UCG 90-20', variedad_sugerida='UCG 90-20', estado_semillero='REGULAR', mes_siembra='MAYO', variedad_sembrada=None, fecha_siembra=None, estado_de_siembra=None, obs_1=None, obs_2=None, fecha_actualizacion=None, prop_ref_lote='79b378cdb09d490d94c621b4c958ba3a', geometria='0106000020E61000000100000001030000000100000007000000C8A90DDC69914FC034A0C097985931C004D0660E11924FC0C448661CA65931C0EA223A6215924FC0BCDD8C91865931C09E7F5C9016924FC0E456C1C1585931C0AC91B2F886914FC0D8C3C97B475931C03E482E7F7F914FC0BC4AB7076A5931C0C8A90DDC69914FC034A0C097985931C0', estado_lote_1ra='APROBADO', estado_lote_2da='SEMBRADO'), lote(fecha_de_registro='2024-05-25 15:53:54+00:00', amigo_id='5ed4d3dabee244d48d362a75d2c9a92b', lote='L2', superficie=8.17, textura='F', lote_semillero='L3', variedad_semillero='UCG 90-20', variedad_sugerida='UCG 90-20', estado_semillero='REGULAR', mes_siembra='MAYO', variedad_sembrada='UCG 90-20', fecha_siembra=None, estado_de_siembra=None, obs_1=None, obs_2=None, fecha_actualizacion=None, prop_ref_lote='79b378cdb09d490d94c621b4c958ba3a', geometria='0106000020E610000001000000010300000001000000140000005E7D043573914FC03811C541D85831C01EB7D2CA82914FC07493D404DF5831C08C33E3EA84914FC08C1A70B40F5931C0CE920C407F914FC0506F607C2F5931C09E505FEA73914FC0C420C6576C5931C0BE21155A6A914FC028D8A483785931C0A430D3D961914FC0C8547A88915931C0D451F41E5B914FC0FC57906DB95931C00661B29E52914FC03C1C4F4BDF5931C02A69915E4E914FC0D43E6EDD075A31C00AC8BAB348914FC0805FF52F4E5A31C0D61F054947914FC0149F602D655A31C0DA9870233F914FC02CC515F5845A31C02E243FC338914FC0C024AD4C9D5A31C0D0D3D3ED35914FC04C6AC5BCA45A31C04A222FB215914FC0C024AD4C9D5A31C0F42F58FD25914FC09C1DA1DF375A31C0B057C3CD33914FC0B4840044DD5931C0E26B36A458914FC0BC55501E425931C05E7D043573914FC03811C541D85831C0', estado_lote_1ra='APROBADO', estado_lote_2da='SEMBRADO')])\n",
      "====================== 41954\n",
      "credito(fecha_registro='2023-11-16 00:59:31.305131+00:00', amigo_id='d8d377eb9986419ab7a60f32ba0e99da', semana_1ra='S', semana_2da='S22', institucion=69, canhero='8829 / MONASTERIO FOIANINI SYLVIA D.', solicitado=15.0, total_1ra_insp=None, estado_1ra_insp='PENDIENTE', fecha_1ra_insp=None, cite_1ra_insp=None, respon_1ra_insp=None, obs_1ra=None, link_doc_1ra=None, total_2da_insp=10.17, estado_2da_insp='APROBADO', fecha_2da_insp='31/05/2024', cite_2da_insp=116, respon_2da_insp='Rogelio Acuña Rodríguez', obs_2da=None, link_doc_2da=None, total_nacido=None, total_no_nacido=None, muestreo=False, glifosato=False, nivelacion_1=False, drenaje=False, romeplow=True, rastra=True, subsolado=False, rotacion=False, arado=False, ferti_base=False, enraizadores=True, insecticidas=True, fungicidas=True, preemergente=True, fecha_actualizacion='2024-05-31 18:58:52.999435+00:00', fertilizacion=False, fungi_en_siem=False, insec_en_siem=False, promot_de_brota=False, pre_emergente=False, post_emergente=False, cultivado=False, ctrl_bio_tricho=False, insect_fisio_otros=False, ctrl_malezas=False, nivelacion_2=False, drenajes=False, financiamiento='IAG', id=349, total_sembrado_2da=10.17, semana_3ra=None, fecha_3ra_insp=None, total_3ra_insp=None, respon_3ra_insp=None, link_doc_3ra=None, estado_3ra_insp=None, cite_3ra_insp=None, fecha_informe='01/06/2024')\n",
      "L2.1 8e95ec9dc6194773b43548ab3be46f31\n",
      "propiedad(fecha_de_registro='2024-05-31 19:00:06+00:00', amigo_id='649f0cb5de39470b89185155eab3999b', ubicacion='0101000020E6100000F6E400F5549F4FC0D0BFFD8A936731C0', propiedad='287 / ARCOIRIS III--MONASTERIO', tenencia='PROPIO', fecha_actualizacion='2024-05-31 19:00:06+00:00', insp_ref_prop='d8d377eb9986419ab7a60f32ba0e99da', lotes=[lote(fecha_de_registro='2024-05-31 19:02:33+00:00', amigo_id='8e95ec9dc6194773b43548ab3be46f31', lote='L2.1', superficie=10.17, textura='FY', lote_semillero='L3', variedad_semillero='UCG 90-20', variedad_sugerida='UCG 90-20', estado_semillero='BUENO', mes_siembra='MAYO', variedad_sembrada=None, fecha_siembra=None, estado_de_siembra=None, obs_1=None, obs_2=None, fecha_actualizacion=None, prop_ref_lote='649f0cb5de39470b89185155eab3999b', geometria='0106000020E61000000100000001030000000100000014000000787D703E879F4FC0C4D42F66EF6631C0C2CE5570769F4FC0B02768C7E36631C008E1F6B86B9F4FC028B380AADE6631C058401671639F4FC0ECE9653EE46631C01661F13F619F4FC0644B2B54F06631C02C11011C5D9F4FC00C7BF47BFB6631C01208ABFE579F4FC064AAB37F086731C084FCE22C519F4FC0DC8289DD106731C010AF64BD4E9F4FC0041666D6176731C036D03F8C4C9F4FC014D014A4276731C07617DA924B9F4FC030B8BFE8376731C01475AABF419F4FC06CF74F27696731C0EC9213DA3D9F4FC0E8CBDA117E6731C09ECEE50E369F4FC008068E8C8B6731C0BCFEEF71279F4FC09C50B232B16731C01C825CAD1E9F4FC090219EBFDE6731C0D6D8DE1C109F4FC0807DCA083A6831C094F9B9EB0D9F4FC07C884887966831C020F9DAFA259F4FC0085B720E986831C0787D703E879F4FC0C4D42F66EF6631C0', estado_lote_1ra='APROBADO', estado_lote_2da='SEMBRADO')])\n",
      "====================== 8829\n",
      "credito(fecha_registro='2023-11-16 00:59:31.305131+00:00', amigo_id='cef8e9f54f6c40889df64b181db94bef', semana_1ra='S', semana_2da='S22', institucion=3, canhero='41529 / ACUÑA CANO VICTORIANO', solicitado=4.0, total_1ra_insp=None, estado_1ra_insp='PENDIENTE', fecha_1ra_insp=None, cite_1ra_insp=None, respon_1ra_insp=None, obs_1ra=None, link_doc_1ra=None, total_2da_insp=5.34, estado_2da_insp='APROBADO', fecha_2da_insp='30/05/2024', cite_2da_insp=119, respon_2da_insp='Rogelio Acuña Rodríguez', obs_2da=None, link_doc_2da=None, total_nacido=None, total_no_nacido=None, muestreo=False, glifosato=False, nivelacion_1=False, drenaje=False, romeplow=True, rastra=True, subsolado=False, rotacion=False, arado=False, ferti_base=False, enraizadores=True, insecticidas=True, fungicidas=False, preemergente=True, fecha_actualizacion='2024-06-01 12:11:39.042455+00:00', fertilizacion=False, fungi_en_siem=False, insec_en_siem=False, promot_de_brota=False, pre_emergente=False, post_emergente=False, cultivado=False, ctrl_bio_tricho=False, insect_fisio_otros=False, ctrl_malezas=False, nivelacion_2=False, drenajes=False, financiamiento='IAG', id=410, total_sembrado_2da=5.34, semana_3ra=None, fecha_3ra_insp=None, total_3ra_insp=None, respon_3ra_insp=None, link_doc_3ra=None, estado_3ra_insp=None, cite_3ra_insp=None, fecha_informe='31/05/2024')\n",
      "L2 f811cbf0469344d19f0a88fdb43a3762\n",
      "L1 fb7081483a0141b38e840f8b42adcfe7\n",
      "propiedad(fecha_de_registro='2024-06-01 12:14:20+00:00', amigo_id='66e59d9d223549518b2cf19e2231e53a', ubicacion='0101000020E6100000FA8894297E994FC028423EBBBC2F31C0', propiedad='2144 / SAN ANTONIO--ACUÑA VICTORIANO', tenencia='PROPIO', fecha_actualizacion='2024-06-01 12:14:20+00:00', insp_ref_prop='cef8e9f54f6c40889df64b181db94bef', lotes=[lote(fecha_de_registro='2024-06-01 12:17:55+00:00', amigo_id='f811cbf0469344d19f0a88fdb43a3762', lote='L2', superficie=0.78, textura='F', lote_semillero='L5', variedad_semillero='UCG 90-20', variedad_sugerida='UCG 90-20', estado_semillero='BUENO', mes_siembra='MAYO', variedad_sembrada=None, fecha_siembra=None, estado_de_siembra=None, obs_1=None, obs_2=None, fecha_actualizacion=None, prop_ref_lote='66e59d9d223549518b2cf19e2231e53a', geometria='0106000020E6100000010000000103000000010000000800000000BFDE81AD994FC0242265CDE92E31C006B5F999AC994FC0F8EE8208F02E31C0AAC03FB0AD994FC0585B6492F52E31C0EEE1B0C4B0994FC000015557F82E31C050D04723AF994FC06430176B032F31C00C8799C978994FC040A77B88EB2E31C09EB9737F7D994FC0E812D525CF2E31C000BFDE81AD994FC0242265CDE92E31C0', estado_lote_1ra='APROBADO', estado_lote_2da='SEMBRADO'), lote(fecha_de_registro='2024-06-01 12:16:21+00:00', amigo_id='fb7081483a0141b38e840f8b42adcfe7', lote='L1', superficie=4.56, textura='F', lote_semillero='L5', variedad_semillero='UCG 90-20', variedad_sugerida='UCG 90-20', estado_semillero='BUENO', mes_siembra='MAYO', variedad_sembrada=None, fecha_siembra=None, estado_de_siembra=None, obs_1=None, obs_2=None, fecha_actualizacion=None, prop_ref_lote='66e59d9d223549518b2cf19e2231e53a', geometria='0106000020E61000000100000001030000000100000015000000D46FE62F95994FC0B4E98F46DA2F31C0803CEF5080994FC0F0EE9BB2D92F31C0EA1B578B77994FC024041074293031C0546DE94B59994FC0CC5BAFF0213031C08A17311E68994FC0F08A6008922F31C016DF4C6D75994FC064573158942F31C0FA4B8A2182994FC08037BB1F9A2F31C09CD5392E88994FC094FDF1F2A32F31C0B6D69B528D994FC04092A3479B2F31C0DE4015BE8F994FC01032E2AC8B2F31C0DE50B08E91994FC004E1B545812F31C03C4F4E6A8C994FC00835AD6B682F31C0A62EB6A483994FC02889C443672F31C0062D54807E994FC0B8C32CC76E2F31C00EFE820E79994FC03CD6659A782F31C0F2FC20EA73994FC0F819D9897F2F31C0AAA0E02A6E994FC0489534A1872F31C02C09F8716B994FC0489534A1872F31C0FCCD4F786E994FC0E446F2854B2F31C0DACEEA37A5994FC040640A15572F31C0D46FE62F95994FC0B4E98F46DA2F31C0', estado_lote_1ra='APROBADO', estado_lote_2da='SEMBRADO')])\n",
      "====================== 41529\n",
      "credito(fecha_registro='2023-11-16 00:59:31.305131+00:00', amigo_id='d0a06e62137f45f0a4ea7e27acc7ef7e', semana_1ra='S', semana_2da='S22', institucion=131, canhero='5345 / HUANCA SUAREZ EDGAR', solicitado=7.0, total_1ra_insp=None, estado_1ra_insp='PENDIENTE', fecha_1ra_insp=None, cite_1ra_insp=None, respon_1ra_insp=None, obs_1ra=None, link_doc_1ra=None, total_2da_insp=11.7, estado_2da_insp='APROBADO', fecha_2da_insp='29/05/2024', cite_2da_insp=122, respon_2da_insp='Rogelio Acuña Rodríguez', obs_2da=None, link_doc_2da=None, total_nacido=None, total_no_nacido=None, muestreo=False, glifosato=False, nivelacion_1=False, drenaje=False, romeplow=True, rastra=True, subsolado=False, rotacion=True, arado=False, ferti_base=False, enraizadores=True, insecticidas=True, fungicidas=False, preemergente=True, fecha_actualizacion='2024-06-01 14:07:38.586491+00:00', fertilizacion=False, fungi_en_siem=False, insec_en_siem=False, promot_de_brota=False, pre_emergente=False, post_emergente=False, cultivado=False, ctrl_bio_tricho=False, insect_fisio_otros=False, ctrl_malezas=False, nivelacion_2=False, drenajes=False, financiamiento='IAG', id=394, total_sembrado_2da=11.7, semana_3ra=None, fecha_3ra_insp=None, total_3ra_insp=None, respon_3ra_insp=None, link_doc_3ra=None, estado_3ra_insp=None, cite_3ra_insp=None, fecha_informe='30/05/2024')\n",
      "L4.2 cb8468b3b2254192b1b33be0f9fbc523\n",
      "L1.3 911f644c2e3242869de4cdda50fc1a52\n",
      "propiedad(fecha_de_registro='2024-06-01 14:09:42+00:00', amigo_id='f361e8d66d904650b83c5467303f876f', ubicacion='0101000020E6100000B2BBD3E347804FC070C9C7C0583631C0', propiedad='26 / MONACO--HUANCA', tenencia='PROPIO', fecha_actualizacion='2024-06-01 14:09:42+00:00', insp_ref_prop='d0a06e62137f45f0a4ea7e27acc7ef7e', lotes=[lote(fecha_de_registro='2024-06-01 14:14:51+00:00', amigo_id='cb8468b3b2254192b1b33be0f9fbc523', lote='L4.2', superficie=7.73, textura='FY', lote_semillero='L4.1', variedad_semillero='UCG 90-20', variedad_sugerida='UCG 90-20', estado_semillero='BUENO', mes_siembra='MAYO', variedad_sembrada=None, fecha_siembra=None, estado_de_siembra=None, obs_1=None, obs_2=None, fecha_actualizacion=None, prop_ref_lote='f361e8d66d904650b83c5467303f876f', geometria='0106000020E61000000100000001030000000100000007000000645E1C4A25804FC05444B20BB63531C0EED3F4DBF97F4FC03CC67431DE3531C06EDFA975FA7F4FC0D01A0EC8E23531C0DE16A84F3B804FC050332000D93631C0905E25953D804FC058E3A807DD3631C06C6F1E8D69804FC034AEE87EB33631C0645E1C4A25804FC05444B20BB63531C0', estado_lote_1ra='APROBADO', estado_lote_2da='SEMBRADO')])\n",
      "propiedad(fecha_de_registro='2024-06-01 14:10:34+00:00', amigo_id='3f299831f94643dc9c25dc32033fde80', ubicacion='0101000020E61000003653336F9E7D4FC008650E6C842831C0', propiedad='943 / PAILON--EDGAR HUANCA', tenencia='PROPIO', fecha_actualizacion='2024-06-01 14:10:34+00:00', insp_ref_prop='d0a06e62137f45f0a4ea7e27acc7ef7e', lotes=[lote(fecha_de_registro='2024-06-01 14:18:36+00:00', amigo_id='911f644c2e3242869de4cdda50fc1a52', lote='L1.3', superficie=3.97, textura='FY', lote_semillero='L1.1', variedad_semillero='UCG 90-20', variedad_sugerida='UCG 90-20', estado_semillero='BUENO', mes_siembra='ABRIL', variedad_sembrada='UCG 90-20', fecha_siembra=None, estado_de_siembra=None, obs_1=None, obs_2=None, fecha_actualizacion=None, prop_ref_lote='3f299831f94643dc9c25dc32033fde80', geometria='0106000020E6100000010000000103000000010000000A00000068E73556B07D4FC0343F26BFC52831C080F126C07B7D4FC0EC004262C32831C0CECB846A7C7D4FC00086B8B9692831C0383A80B88C7D4FC0704D4BE1512831C02C51D5079A7D4FC06C086D4E3B2831C00C29062DA67D4FC048F18AA22D2831C072758CAAAB7D4FC06C6679E9272831C05E59DD50B57D4FC0C0B68252262831C0BC725F25B77D4FC0FC40E7A3262831C068E73556B07D4FC0343F26BFC52831C0', estado_lote_1ra='APROBADO', estado_lote_2da='SEMBRADO')])\n",
      "====================== 5345\n",
      "credito(fecha_registro='2023-11-16 00:59:31.305131+00:00', amigo_id='91a82603876543d49bddcba4a2c87424', semana_1ra='S', semana_2da='S22', institucion=62, canhero='15195 / VEIZAGA ENRIQUEZ GUSTAVO', solicitado=12.0, total_1ra_insp=None, estado_1ra_insp='PENDIENTE', fecha_1ra_insp=None, cite_1ra_insp=None, respon_1ra_insp=None, obs_1ra=None, link_doc_1ra=None, total_2da_insp=11.24, estado_2da_insp='APROBADO', fecha_2da_insp='31/05/2024', cite_2da_insp=117, respon_2da_insp='Rogelio Acuña Rodríguez', obs_2da=None, link_doc_2da=None, total_nacido=None, total_no_nacido=None, muestreo=False, glifosato=True, nivelacion_1=False, drenaje=False, romeplow=True, rastra=True, subsolado=False, rotacion=True, arado=False, ferti_base=False, enraizadores=True, insecticidas=True, fungicidas=True, preemergente=True, fecha_actualizacion='2024-05-31 19:07:44.177816+00:00', fertilizacion=False, fungi_en_siem=False, insec_en_siem=False, promot_de_brota=False, pre_emergente=False, post_emergente=False, cultivado=False, ctrl_bio_tricho=False, insect_fisio_otros=False, ctrl_malezas=False, nivelacion_2=False, drenajes=False, financiamiento='IAG', id=354, total_sembrado_2da=11.24, semana_3ra=None, fecha_3ra_insp=None, total_3ra_insp=None, respon_3ra_insp=None, link_doc_3ra=None, estado_3ra_insp=None, cite_3ra_insp=None, fecha_informe='01/06/2024')\n",
      "L1 e517b0f879f84dedbd50c30e5d95be76\n",
      "propiedad(fecha_de_registro='2024-05-31 19:10:06+00:00', amigo_id='e5c7a2b6fe5449a39b28e84cc0bae5b7', ubicacion='0101000020E6100000F899CCAFC4A94FC0E868FABC554231C0', propiedad='1290 / GUINEAL--GUSTAVO VEIZAGA', tenencia='PROPIO', fecha_actualizacion='2024-05-31 19:10:06+00:00', insp_ref_prop='91a82603876543d49bddcba4a2c87424', lotes=[lote(fecha_de_registro='2024-05-31 19:13:42+00:00', amigo_id='e517b0f879f84dedbd50c30e5d95be76', lote='L1', superficie=11.24, textura='FY', lote_semillero='L4.2', variedad_semillero='CITTCA 0563', variedad_sugerida='CITTCA 0563', estado_semillero='BUENO', mes_siembra='ABRIL', variedad_sembrada='CITTCA 0563', fecha_siembra=None, estado_de_siembra=None, obs_1=None, obs_2=None, fecha_actualizacion=None, prop_ref_lote='e5c7a2b6fe5449a39b28e84cc0bae5b7', geometria='0106000020E6100000010000000103000000010000000A00000006AA2387CDA94FC0F0AF4FBEB94231C0B8C7C5917CA94FC0CCA2EB15814231C0927B1AF783A94FC004504FD3544231C0B601FF9F78A94FC0845D1E18284231C0B089C6B173A94FC054D38F611B4231C0AE4DAA3A71A94FC0A43C4AD90E4231C02003E2087FA94FC060C39A33A84131C0808C5EDFBBA94FC0DC08A6FFDC4131C00C6C0DDBE9A94FC0D4A922AE034231C006AA2387CDA94FC0F0AF4FBEB94231C0', estado_lote_1ra='APROBADO', estado_lote_2da='SEMBRADO')])\n",
      "====================== 15195\n",
      "credito(fecha_registro='2023-11-16 00:59:31.305131+00:00', amigo_id='0ef3bf12efa648a4bdceac738b49fa0e', semana_1ra='S49', semana_2da='S22', institucion=50, canhero='15162 / VELASCO ANEZ MARCO ANTONIO', solicitado=30.0, total_1ra_insp=29.95, estado_1ra_insp='APROBADO', fecha_1ra_insp='2023-12-08 22:25:24+00:00', cite_1ra_insp=590, respon_1ra_insp='Juan Pablo Jaldin Duran', obs_1ra=None, link_doc_1ra='https://drive.google.com/file/d/172kfP4qq-YhflJL7-a5Dkkt4sxUSWIkw/view?usp=drivesdk', total_2da_insp=24.67, estado_2da_insp='APROBADO', fecha_2da_insp='27/05/2024', cite_2da_insp=118, respon_2da_insp='Rogelio Acuña Rodríguez', obs_2da=None, link_doc_2da=None, total_nacido=None, total_no_nacido=None, muestreo=False, glifosato=True, nivelacion_1=True, drenaje=False, romeplow=True, rastra=True, subsolado=False, rotacion=True, arado=False, ferti_base=False, enraizadores=True, insecticidas=True, fungicidas=True, preemergente=True, fecha_actualizacion='2024-05-31 19:27:45.169822+00:00', fertilizacion=False, fungi_en_siem=False, insec_en_siem=False, promot_de_brota=False, pre_emergente=False, post_emergente=False, cultivado=False, ctrl_bio_tricho=False, insect_fisio_otros=False, ctrl_malezas=False, nivelacion_2=False, drenajes=False, financiamiento='IAG', id=304, total_sembrado_2da=24.67, semana_3ra=None, fecha_3ra_insp=None, total_3ra_insp=None, respon_3ra_insp=None, link_doc_3ra=None, estado_3ra_insp=None, cite_3ra_insp=None, fecha_informe='28/05/2024')\n",
      "L8 89e74f7a31fd492b943cc754d27bdd8e\n",
      "propiedad(fecha_de_registro='2023-12-08 22:26:49+00:00', amigo_id='3c6a583e1d8f40d8a41096218a5e6a91', ubicacion='0101000020E61000007C05FF0F427C4FC0FCDC44B0294D31C0', propiedad='142 / SAN MARTIN--VELAZCO', tenencia='PROPIO', fecha_actualizacion='2023-12-08 22:26:49+00:00', insp_ref_prop='0ef3bf12efa648a4bdceac738b49fa0e', lotes=[lote(fecha_de_registro='2023-12-04 15:30:42+00:00', amigo_id='89e74f7a31fd492b943cc754d27bdd8e', lote='L8', superficie=24.67, textura='F', lote_semillero='L5', variedad_semillero='UCG 90-20', variedad_sugerida='UCG 90-20', estado_semillero='BUENO', mes_siembra='ABRIL', variedad_sembrada=None, fecha_siembra=None, estado_de_siembra=None, obs_1=None, obs_2=None, fecha_actualizacion=None, prop_ref_lote='3c6a583e1d8f40d8a41096218a5e6a91', geometria='0106000020E6100000010000000103000000010000000C0000001DE8C3E2FC7B4FC06EFA9DC4FC4C31C0530A016B1B7C4FC08239481AA24D31C0A3F373569F7C4FC017B325F91F4D31C0D319E2C8287D4FC0D095FA94994C31C01DF45B2A257D4FC0B18A37328F4C31C0DD46453C207D4FC0AF25D354804C31C0E42BD4CE157D4FC0CE1D89935D4C31C0CD05A87A897C4FC09F39E652D64C31C0B028B2F8877C4FC0C8E81626CD4C31C0C3AD276D137D4FC01174FF78544C31C012B5FB51047D4FC0485C17391D4C31C01DE8C3E2FC7B4FC06EFA9DC4FC4C31C0', estado_lote_1ra='APROBADO', estado_lote_2da='SEMBRADO')])\n",
      "====================== 15162\n",
      "credito(fecha_registro='2023-12-07 14:34:00.719715+00:00', amigo_id='198c7c9510d240e4ab579c9193e70f7e', semana_1ra='S50', semana_2da='S22', institucion=8, canhero='12105 / ROCA REYES MIGUEL ANGEL', solicitado=30.0, total_1ra_insp=23.56, estado_1ra_insp='APROBADO', fecha_1ra_insp='2023-12-14 00:29:29+00:00', cite_1ra_insp=593, respon_1ra_insp='Rogelio Acuña Rodríguez', obs_1ra=None, link_doc_1ra='https://drive.google.com/file/d/1MdmLXjZ8f3RZxZCu-TSH0Lf6uKloKPl0/view?usp=drivesdk', total_2da_insp=32.81, estado_2da_insp='APROBADO', fecha_2da_insp='29/05/2024', cite_2da_insp=128, respon_2da_insp='Rogelio Acuña Rodríguez', obs_2da=None, link_doc_2da=None, total_nacido=None, total_no_nacido=None, muestreo=False, glifosato=True, nivelacion_1=False, drenaje=True, romeplow=True, rastra=True, subsolado=False, rotacion=True, arado=False, ferti_base=False, enraizadores=True, insecticidas=True, fungicidas=True, preemergente=True, fecha_actualizacion='2024-06-03 00:19:52.108864+00:00', fertilizacion=False, fungi_en_siem=False, insec_en_siem=False, promot_de_brota=False, pre_emergente=False, post_emergente=False, cultivado=False, ctrl_bio_tricho=False, insect_fisio_otros=False, ctrl_malezas=False, nivelacion_2=False, drenajes=False, financiamiento='IAG', id=439, total_sembrado_2da=32.81, semana_3ra=None, fecha_3ra_insp=None, total_3ra_insp=None, respon_3ra_insp=None, link_doc_3ra=None, estado_3ra_insp=None, cite_3ra_insp=None, fecha_informe='30/05/2024')\n",
      "L6.1 57f655387c6040c3b73764e57d431d39\n",
      "L6.1 0388289f49f14a1aa463c45a7b3b74b6\n",
      "L8.3 1cbaf7c84c3b4f93a800618c6cbd5046\n",
      "L14.2 6581c48d4cd540398f9448aba24a39b9\n",
      "L13.1 6da10ebb726f4e0584db35adac86b9b4\n",
      "L7.1 313ea205ea3b46e08871b1bf3414b392\n",
      "L13.3 a66754b37cc64f669bf192654997cad2\n",
      "L2.2 8e804d9911714bdcabbb6ead3c610b27\n",
      "L5 0e82365937124052973138aa6c0ace8b\n",
      "L13.2 a669e7c1a46e484abdd1d78d87884035\n",
      "L7.3 81d053a391314776bcd3ba69eef53dd3\n",
      "L14.1 fc33c80edffb48b99bd61c651acbfe12\n",
      "L6.2 b7d15854d6fe4679afc0ed598123208e\n",
      "propiedad(fecha_de_registro='2023-12-14 00:34:16+00:00', amigo_id='856f1b2193c24c7a8bf80406ac93d1b0', ubicacion='0101000020E610000016D9D63573964FC0B463CFE8005531C0', propiedad='1706 / SAN MARINO--ROCA MIGUEL', tenencia='PROPIO', fecha_actualizacion='2023-12-14 00:34:16+00:00', insp_ref_prop='198c7c9510d240e4ab579c9193e70f7e', lotes=[lote(fecha_de_registro='2023-12-14 00:40:59+00:00', amigo_id='57f655387c6040c3b73764e57d431d39', lote='L6.1', superficie=6.1, textura='F', lote_semillero='L6.2', variedad_semillero='UCG 90-20', variedad_sugerida='UCG 90-20', estado_semillero='BUENO', mes_siembra='ABRIL', variedad_sembrada=None, fecha_siembra=None, estado_de_siembra=None, obs_1=None, obs_2=None, fecha_actualizacion=None, prop_ref_lote='856f1b2193c24c7a8bf80406ac93d1b0', geometria='0106000020E6100000010000000103000000010000000C000000B440D53237964FC0B27C8F31555531C0BB2A408158964FC0A5531BAF615531C0A14D37A85B964FC0BE891BAF615531C0D4AE03325D964FC0FFAB85EE5F5531C05D3269C661964FC0D0BFD49E565531C07F5A458A6C964FC0F5BAE7463C5531C061511B656F964FC08C67A1D23B5531C0621E0A0372964FC0EF8A97693D5531C08BA8D0997F964FC0CBF3E377435531C05D00B24793964FC0C1319273C25431C054F5914951964FC05D4B00CFA35431C0B440D53237964FC0B27C8F31555531C0', estado_lote_1ra='APROBADO', estado_lote_2da='SEMBRADO')])\n",
      "propiedad(fecha_de_registro='2023-12-22 13:41:05+00:00', amigo_id='eea450238cb34542aedf82072e273db6', ubicacion='0101000020E6100000620E760EB2894FC0209F3F6EAF5131C0', propiedad='560 / LA TUJA IAG SA', tenencia='ALQUILADO', fecha_actualizacion='2023-12-22 13:41:05+00:00', insp_ref_prop='198c7c9510d240e4ab579c9193e70f7e', lotes=[lote(fecha_de_registro='2023-12-22 13:53:08+00:00', amigo_id='0388289f49f14a1aa463c45a7b3b74b6', lote='L6.1', superficie=0.98, textura='F', lote_semillero='L6.2', variedad_semillero='UCG 90-20', variedad_sugerida='UCG 90-20', estado_semillero='BUENO', mes_siembra='ABRIL', variedad_sembrada=None, fecha_siembra=None, estado_de_siembra=None, obs_1=None, obs_2=None, fecha_actualizacion=None, prop_ref_lote='eea450238cb34542aedf82072e273db6', geometria='0106000020E6100000010000000103000000010000000500000079A2355B6A894FC0BD670336B85131C08A4CD3165B894FC0009612C29F5131C0D66E50B03D894FC0D60DBDFBEB5131C00489C2144D894FC060F8975A005231C079A2355B6A894FC0BD670336B85131C0', estado_lote_1ra='APROBADO', estado_lote_2da='SEMBRADO'), lote(fecha_de_registro='2024-05-31 20:19:19+00:00', amigo_id='1cbaf7c84c3b4f93a800618c6cbd5046', lote='L8.3', superficie=1.17, textura='FY', lote_semillero='L7', variedad_semillero='UCG 90-20', variedad_sugerida='UCG 90-20', estado_semillero='BUENO', mes_siembra='MAYO', variedad_sembrada=None, fecha_siembra=None, estado_de_siembra=None, obs_1=None, obs_2=None, fecha_actualizacion=None, prop_ref_lote='eea450238cb34542aedf82072e273db6', geometria='0106000020E6100000010000000103000000010000000C0000001A026B079C884FC04C827748925031C0169E7FBCAF884FC0882DE6C7AD5031C0467917F7BD884FC0740EB17B865031C03065B27EBF884FC0D8D8E7616F5031C050CBB1CCBE884FC050AA4CC7605031C0D4F47E37BF884FC06899D4335B5031C0241318A9BE884FC07425CA1C515031C0267A17F7BD884FC088EC9E59485031C0267A17F7BD884FC0C86E661E405031C098B84C54C0884FC0D4E860C3355031C04AE01645BD884FC088B8DAB7305031C01A026B079C884FC04C827748925031C0', estado_lote_1ra='APROBADO', estado_lote_2da='SEMBRADO'), lote(fecha_de_registro='2024-05-31 20:15:45+00:00', amigo_id='6581c48d4cd540398f9448aba24a39b9', lote='L14.2', superficie=1.19, textura='FY', lote_semillero='L7', variedad_semillero='UCG 90-20', variedad_sugerida='UCG 90-20', estado_semillero='BUENO', mes_siembra='MAYO', variedad_sembrada='UCG 90-20', fecha_siembra=None, estado_de_siembra=None, obs_1=None, obs_2=None, fecha_actualizacion=None, prop_ref_lote='eea450238cb34542aedf82072e273db6', geometria='0106000020E61000000100000001030000000100000008000000C2E8DA5616884FC0D4E95D02F65031C09E2F980D27884FC0382442ED105131C0CC5663E826884FC0888C2308175131C0B42CBC0F06884FC0545BA561755131C076B7AB9B04884FC07059409B725131C018F2B35505884FC050436699425131C078182E1407884FC0888C2308175131C0C2E8DA5616884FC0D4E95D02F65031C0', estado_lote_1ra='APROBADO', estado_lote_2da='SEMBRADO'), lote(fecha_de_registro='2024-05-31 20:21:05+00:00', amigo_id='6da10ebb726f4e0584db35adac86b9b4', lote='L13.1', superficie=3.27, textura='FY', lote_semillero='L7', variedad_semillero='UCG 90-20', variedad_sugerida='UCG 90-20', estado_semillero='REGULAR', mes_siembra='MAYO', variedad_sembrada='UCG 90-20', fecha_siembra=None, estado_de_siembra=None, obs_1=None, obs_2=None, fecha_actualizacion=None, prop_ref_lote='eea450238cb34542aedf82072e273db6', geometria='0106000020E6100000010000000103000000010000000A000000FC9FC069D4884FC0FC611B37E74F31C05C71BA7EBE884FC098A7B56F255031C0AC9738EF98884FC058B2F2AFF14F31C0BE7FC70C99884FC06C0593D2D24F31C0F06D0CB28C884FC0B85AB981A64F31C0700C473188884FC06CBFA565984F31C032F1D45783884FC030E8B269964F31C0464970C968884FC098601D807D4F31C008071F1073884FC0F434E243634F31C0FC9FC069D4884FC0FC611B37E74F31C0', estado_lote_1ra='APROBADO', estado_lote_2da='SEMBRADO'), lote(fecha_de_registro='2024-05-31 20:26:15+00:00', amigo_id='313ea205ea3b46e08871b1bf3414b392', lote='L7.1', superficie=0.4, textura='FA', lote_semillero='L7', variedad_semillero='UCG 90-20', variedad_sugerida='UCG 90-20', estado_semillero='BUENO', mes_siembra='MAYO', variedad_sembrada=None, fecha_siembra=None, estado_de_siembra=None, obs_1=None, obs_2=None, fecha_actualizacion=None, prop_ref_lote='eea450238cb34542aedf82072e273db6', geometria='0106000020E61000000100000001030000000100000008000000FA421779A2894FC03846820E205031C01400EA70A5894FC0709A350B255031C05C7263BA8C894FC054F5797D695031C04AB768C780894FC04CDC08D38E5031C00645214677894FC0987C92EF9F5031C0A46907F16F894FC0F42C9028B45031C0F238E54F6E894FC0201B6374AE5031C0FA421779A2894FC03846820E205031C0', estado_lote_1ra='APROBADO', estado_lote_2da='SEMBRADO'), lote(fecha_de_registro='2024-05-31 20:16:16+00:00', amigo_id='a66754b37cc64f669bf192654997cad2', lote='L13.3', superficie=0.85, textura='FY', lote_semillero='L7', variedad_semillero='UCG 90-20', variedad_sugerida='UCG 90-20', estado_semillero='BUENO', mes_siembra='MAYO', variedad_sembrada=None, fecha_siembra=None, estado_de_siembra=None, obs_1=None, obs_2=None, fecha_actualizacion=None, prop_ref_lote='eea450238cb34542aedf82072e273db6', geometria='0106000020E61000000100000001030000000100000005000000CDEAB1ACAD884FC060BC3B66B05031C0EEE6D61E98884FC013ADEE1CEB5031C047CBC82B88884FC090E890AECA5031C0342310EF9A884FC061075F03965031C0CDEAB1ACAD884FC060BC3B66B05031C0', estado_lote_1ra='APROBADO', estado_lote_2da='SEMBRADO'), lote(fecha_de_registro='2024-05-31 20:23:00+00:00', amigo_id='8e804d9911714bdcabbb6ead3c610b27', lote='L2.2', superficie=2.39, textura='FY', lote_semillero='L7', variedad_semillero='UCG 90-20', variedad_sugerida='UCG 90-20', estado_semillero='BUENO', mes_siembra='MAYO', variedad_sembrada='UCG 90-20', fecha_siembra=None, estado_de_siembra=None, obs_1=None, obs_2=None, fecha_actualizacion=None, prop_ref_lote='eea450238cb34542aedf82072e273db6', geometria='0106000020E6100000010000000103000000010000000A0000005C3B60338E894FC090638696A55231C0888888B683894FC0A84CE4CFC25231C06C2689A679894FC0B8418D81BB5231C00480FDC669894FC02CEC232AAD5231C078946AE55A894FC074C74257A25231C03067FB1D51894FC0002F2E489E5231C04E54D47A47894FC058183C78865231C0C88D5A283A894FC0E85B1B8A665231C07A1C77C546894FC0287E29D2425231C05C3B60338E894FC090638696A55231C0', estado_lote_1ra='APROBADO', estado_lote_2da='SEMBRADO'), lote(fecha_de_registro='2024-05-31 20:24:19+00:00', amigo_id='0e82365937124052973138aa6c0ace8b', lote='L5', superficie=1.79, textura='FA', lote_semillero='L7', variedad_semillero='UCG 90-20', variedad_sugerida='CITTCA 85-22', estado_semillero='BUENO', mes_siembra='MAYO', variedad_sembrada=None, fecha_siembra=None, estado_de_siembra=None, obs_1=None, obs_2=None, fecha_actualizacion=None, prop_ref_lote='eea450238cb34542aedf82072e273db6', geometria='0106000020E61000000100000001030000000100000006000000E6A51456AE894FC020617C1F0E5131C04AF40A67B9894FC020E1D9F0F35031C04E568AF0058A4FC0908374935E5131C00E0F5A97068A4FC088913A74785131C0A431A876038A4FC088B01DA9815131C0E6A51456AE894FC020617C1F0E5131C0', estado_lote_1ra='APROBADO', estado_lote_2da='SEMBRADO'), lote(fecha_de_registro='2023-12-22 13:43:19+00:00', amigo_id='a669e7c1a46e484abdd1d78d87884035', lote='L13.2', superficie=3.89, textura='FY', lote_semillero='L6.2', variedad_semillero='UCG 90-20', variedad_sugerida='UCG 90-20', estado_semillero='BUENO', mes_siembra='ABRIL', variedad_sembrada=None, fecha_siembra=None, estado_de_siembra=None, obs_1=None, obs_2=None, fecha_actualizacion=None, prop_ref_lote='eea450238cb34542aedf82072e273db6', geometria='0106000020E6100000010000000103000000010000000B00000058E17E4ABE884FC0A7DCCE8C275031C007CA257A9D884FC0A98A3206FB4F31C0100A149097884FC03A86578A165031C0A2837FF676884FC0AC2379F2655031C01399E68074884FC0ADB439FF755031C01399E68074884FC04019909C8F5031C0DE5817CA7E884FC06394C851B35031C0531E499887884FC00443018DC95031C06495AEA89A884FC0058136F6935031C0625E551CB0884FC0E7835E49535031C058E17E4ABE884FC0A7DCCE8C275031C0', estado_lote_1ra='APROBADO', estado_lote_2da='SEMBRADO'), lote(fecha_de_registro='2023-12-22 13:56:51+00:00', amigo_id='81d053a391314776bcd3ba69eef53dd3', lote='L7.3', superficie=4.41, textura='F', lote_semillero='L6.2', variedad_semillero='UCG 90-20', variedad_sugerida='UCG 90-20', estado_semillero='BUENO', mes_siembra='ABRIL', variedad_sembrada=None, fecha_siembra=None, estado_de_siembra=None, obs_1=None, obs_2=None, fecha_actualizacion=None, prop_ref_lote='eea450238cb34542aedf82072e273db6', geometria='0106000020E6100000010000000103000000010000000C0000006FFAA27482894FC099CB581BE24F31C037795B7974894FC029F87B3DF04F31C0D42CB7F568894FC05D7487F3F44F31C087289FCA62894FC0A393963BFB4F31C024DCFA4657894FC084EB9F28FF4F31C050086E684D894FC083539ACDFC4F31C07EBB751741894FC0D659A34FE94F31C0481965A313894FC041D5AD68A84F31C08C3A8B1220894FC0AEBA38EF864F31C0066B6F800F894FC0901B07F6694F31C00DF2E69F17894FC0C668D546514F31C06FFAA27482894FC099CB581BE24F31C0', estado_lote_1ra='APROBADO', estado_lote_2da='SEMBRADO'), lote(fecha_de_registro='2023-12-22 13:44:51+00:00', amigo_id='fc33c80edffb48b99bd61c651acbfe12', lote='L14.1', superficie=5.31, textura='F', lote_semillero='L6.2', variedad_semillero='UCG 90-20', variedad_sugerida='UCG 90-20', estado_semillero='BUENO', mes_siembra='ABRIL', variedad_sembrada=None, fecha_siembra=None, estado_de_siembra=None, obs_1=None, obs_2=None, fecha_actualizacion=None, prop_ref_lote='eea450238cb34542aedf82072e273db6', geometria='0106000020E610000001000000010300000001000000130000007AEB2DE056884FC0A43815A4B04F31C084D133B861884FC01812822AC44F31C043288C8C5E884FC09C1E839AD44F31C0D0A9EAB64B884FC0147A31DB215031C088E263E64F884FC0D84A697A4C5031C0E992D86C5C884FC0BCA780679E5031C0511778285B884FC061D6167BB15031C0103AC70754884FC0E03143DAA95031C0970464A542884FC056467C6D7C5031C0E8849AA706884FC0640743EF125131C0014845E404884FC0B319CEACCD5031C0993D25E2FE874FC01AA02E4AA65031C0DBDC963F15884FC0ECCE2FFE675031C058E030AF1B884FC0A94F99AE715031C0576EBB5A1A884FC0139AC6DC785031C0DFA08ADC20884FC0A52EE667815031C004EB5FD950884FC0E50C743F015031C07E1B877642884FC0AA7D3EEBEB4F31C07AEB2DE056884FC0A43815A4B04F31C0', estado_lote_1ra='APROBADO', estado_lote_2da='SEMBRADO'), lote(fecha_de_registro='2023-12-22 13:51:37+00:00', amigo_id='b7d15854d6fe4679afc0ed598123208e', lote='L6.2', superficie=1.06, textura='F', lote_semillero='L6.2', variedad_semillero='UCG 90-20', variedad_sugerida='UCG 90-20', estado_semillero='BUENO', mes_siembra='ABRIL', variedad_sembrada=None, fecha_siembra=None, estado_de_siembra=None, obs_1=None, obs_2=None, fecha_actualizacion=None, prop_ref_lote='eea450238cb34542aedf82072e273db6', geometria='0106000020E61000000100000001030000000100000005000000046ACF400A894FC014C6B502305131C00937AE2AEB884FC0E32BA42C7E5131C015D12FCFDB884FC08B6C08D3665131C0ABF2EDFEF9884FC067A7082B195131C0046ACF400A894FC014C6B502305131C0', estado_lote_1ra='APROBADO', estado_lote_2da='SEMBRADO')])\n",
      "====================== 12105\n"
     ]
    },
    {
     "data": {
      "text/plain": [
       "<Figure size 2000x2000 with 0 Axes>"
      ]
     },
     "metadata": {},
     "output_type": "display_data"
    },
    {
     "data": {
      "text/plain": [
       "<Figure size 2000x2000 with 0 Axes>"
      ]
     },
     "metadata": {},
     "output_type": "display_data"
    },
    {
     "data": {
      "text/plain": [
       "<Figure size 2000x2000 with 0 Axes>"
      ]
     },
     "metadata": {},
     "output_type": "display_data"
    },
    {
     "data": {
      "text/plain": [
       "<Figure size 2000x2000 with 0 Axes>"
      ]
     },
     "metadata": {},
     "output_type": "display_data"
    },
    {
     "data": {
      "text/plain": [
       "<Figure size 2000x2000 with 0 Axes>"
      ]
     },
     "metadata": {},
     "output_type": "display_data"
    },
    {
     "data": {
      "text/plain": [
       "<Figure size 2000x2000 with 0 Axes>"
      ]
     },
     "metadata": {},
     "output_type": "display_data"
    }
   ],
   "source": [
    "for i in lista:\n",
    "    generar_reporte(i)\n",
    "    print('======================', i)"
   ]
  }
 ],
 "metadata": {
  "kernelspec": {
   "display_name": "Python 3 (ipykernel)",
   "language": "python",
   "name": "python3"
  },
  "language_info": {
   "codemirror_mode": {
    "name": "ipython",
    "version": 3
   },
   "file_extension": ".py",
   "mimetype": "text/x-python",
   "name": "python",
   "nbconvert_exporter": "python",
   "pygments_lexer": "ipython3",
   "version": "3.10.13"
  }
 },
 "nbformat": 4,
 "nbformat_minor": 5
}
