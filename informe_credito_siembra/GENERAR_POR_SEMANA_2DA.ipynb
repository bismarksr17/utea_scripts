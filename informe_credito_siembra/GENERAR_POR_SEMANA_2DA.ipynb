{
 "cells": [
  {
   "cell_type": "code",
   "execution_count": 1,
   "id": "d1a27163-8130-4beb-90bf-88c0000049da",
   "metadata": {},
   "outputs": [],
   "source": [
    "from amigocloud import AmigoCloud"
   ]
  },
  {
   "cell_type": "code",
   "execution_count": 2,
   "id": "665919a4-6184-4280-8c4c-64588f9131d6",
   "metadata": {
    "tags": []
   },
   "outputs": [
    {
     "ename": "ModuleNotFoundError",
     "evalue": "No module named 'werkzeug'",
     "output_type": "error",
     "traceback": [
      "\u001b[1;31m---------------------------------------------------------------------------\u001b[0m",
      "\u001b[1;31mModuleNotFoundError\u001b[0m                       Traceback (most recent call last)",
      "\u001b[1;32m~\\AppData\\Local\\Temp\\ipykernel_10524\\1672835401.py\u001b[0m in \u001b[0;36m<module>\u001b[1;34m\u001b[0m\n\u001b[1;32m----> 1\u001b[1;33m \u001b[1;32mfrom\u001b[0m \u001b[0mwerkzeug\u001b[0m\u001b[1;33m.\u001b[0m\u001b[0mwrappers\u001b[0m \u001b[1;32mimport\u001b[0m \u001b[0mRequest\u001b[0m\u001b[1;33m,\u001b[0m \u001b[0mResponse\u001b[0m\u001b[1;33m\u001b[0m\u001b[1;33m\u001b[0m\u001b[0m\n\u001b[0m\u001b[0;32m      2\u001b[0m \u001b[1;31m#from flask import Flask, render_template\u001b[0m\u001b[1;33m\u001b[0m\u001b[1;33m\u001b[0m\u001b[1;33m\u001b[0m\u001b[0m\n\u001b[0;32m      3\u001b[0m \u001b[1;32mfrom\u001b[0m \u001b[0mjinja2\u001b[0m \u001b[1;32mimport\u001b[0m \u001b[0mTemplate\u001b[0m\u001b[1;33m\u001b[0m\u001b[1;33m\u001b[0m\u001b[0m\n\u001b[0;32m      4\u001b[0m \u001b[1;33m\u001b[0m\u001b[0m\n\u001b[0;32m      5\u001b[0m \u001b[1;31m#from datetime import date\u001b[0m\u001b[1;33m\u001b[0m\u001b[1;33m\u001b[0m\u001b[1;33m\u001b[0m\u001b[0m\n",
      "\u001b[1;31mModuleNotFoundError\u001b[0m: No module named 'werkzeug'"
     ]
    }
   ],
   "source": [
    "from werkzeug.wrappers import Request, Response\n",
    "#from flask import Flask, render_template\n",
    "from jinja2 import Template\n",
    "\n",
    "#from datetime import date\n",
    "from datetime import datetime, timedelta\n",
    "\n",
    "import collections\n",
    "from amigocloud import AmigoCloud\n",
    "\n",
    "from datetime import datetime\n",
    "\n",
    "from shapely import wkb\n",
    "import geopandas\n",
    "import pandas as pd\n",
    "import contextily as ctx\n",
    "import matplotlib.pyplot as plt\n",
    "\n",
    "from docxtpl import DocxTemplate\n",
    "import docxtpl\n",
    "from docx.shared import Mm\n",
    "import requests\n",
    "\n",
    "def convertir_wkb(wkb_data):\n",
    "    return wkb.loads(wkb_data, hex=True)[0]"
   ]
  },
  {
   "cell_type": "code",
   "execution_count": 3,
   "id": "f78ec737-093c-44bb-a782-1af54be4a65f",
   "metadata": {
    "tags": []
   },
   "outputs": [
    {
     "data": {
      "text/plain": [
       "<amigocloud.amigocloud.AmigoCloud at 0x26ae9f77f08>"
      ]
     },
     "execution_count": 3,
     "metadata": {},
     "output_type": "execute_result"
    }
   ],
   "source": [
    "# ruta de carpera donde estan las llaves\n",
    "ruta = open('../ruta.txt')\n",
    "ruta = ruta.readlines()[0]\n",
    "\n",
    "# leer token\n",
    "acceso = open(ruta + '/_keys/api_amigocloud.key','r')\n",
    "api_token = acceso.readlines()[0]\n",
    "acceso.close()\n",
    "amigocloud = AmigoCloud(token=api_token)\n",
    "amigocloud"
   ]
  },
  {
   "cell_type": "code",
   "execution_count": 4,
   "id": "671335c0-f848-4ced-9199-d1000c19c39b",
   "metadata": {
    "tags": []
   },
   "outputs": [],
   "source": [
    "def generar_reporte(codigo_canhero):\n",
    "    # EXTRAER DATOS DE CREDITO\n",
    "    query_credito = {'query': 'select * from dataset_307560 where cast(SPLIT_PART(canhero, \\'/\\', 1) as integer) = {cod_ca}'.format(cod_ca=codigo_canhero)}\n",
    "    credito_select = amigocloud.get('https://app.amigocloud.com/api/v1/projects/32672/sql', query_credito)\n",
    "    credito_data = credito_select['data'][0]\n",
    "    credito_data['fecha_informe'] = datetime.strptime(credito_data['fecha_2da_insp'].split(' ')[0], '%Y-%m-%d').strftime('%d/%m/%Y')\n",
    "    credito_data['fecha_2da_insp'] = datetime.strptime(credito_data['fecha_2da_insp'].split(' ')[0], '%Y-%m-%d').strftime('%d/%m/%Y')\n",
    "    credito = collections.namedtuple(\"credito\", credito_data.keys())(*credito_data.values())\n",
    "\n",
    "    # EXTRAER DATOS DE PROPIEDADES\n",
    "    # query_propiedades = {'query': 'select * from dataset_282968 where cre_ref_prop = \\'{cre_ref_prop}\\''.format(cre_ref_prop=credito.amigo_id)}\n",
    "    query_propiedades = {'query': 'select prop.propiedad, prop.amigo_id from dataset_307562 prop inner join dataset_307563 lotes on lotes.prop_ref_lote=prop.amigo_id where insp_ref_prop=\\'{cre_ref_prop}\\' and (lotes.estado_de_siembra=\\'CAÑA NACIDA\\' or lotes.estado_de_siembra=\\'CAÑA NO NACIDA\\') group by prop.propiedad, prop.amigo_id'.format(cre_ref_prop=credito.amigo_id)}\n",
    "    propiedades_select = amigocloud.get('https://app.amigocloud.com/api/v1/projects/32672/sql', query_propiedades)    \n",
    "    \n",
    "    propiedades_data = propiedades_select['data']\n",
    "\n",
    "    # EXTRAER DATOS DE LOTES\n",
    "    propiedades = []\n",
    "    for prop in propiedades_data:\n",
    "        prop['lotes'] = []\n",
    "        query_lotes = {'query': 'select * from dataset_307563 where prop_ref_lote=\\'{prop_ref_lote}\\' and (estado_de_siembra=\\'CAÑA NACIDA\\' or estado_de_siembra=\\'CAÑA NO NACIDA\\')'.format(prop_ref_lote=prop['amigo_id'])}\n",
    "        lotes_select = amigocloud.get('https://app.amigocloud.com/api/v1/projects/32672/sql', query_lotes)\n",
    "        for lote_select in lotes_select['data']:\n",
    "            lote = collections.namedtuple(\"lote\", lote_select.keys())(*lote_select.values())\n",
    "            prop['lotes'].append(lote)\n",
    "        propiedades.append(collections.namedtuple(\"propiedad\", prop.keys())(*prop.values()))\n",
    "\n",
    "    # EXTRAER FOTOS\n",
    "    fotos = []\n",
    "    for propiedad in propiedades:\n",
    "        for lote in propiedad.lotes:\n",
    "            print(lote.lote, lote.amigo_id)\n",
    "            query_fotos = {'query': 'select source_amigo_id, s3_filename from gallery_48961 where source_amigo_id=\\'{source_amigo_id}\\''.format(source_amigo_id=lote.amigo_id)}\n",
    "            fotos_filename = amigocloud.get('https://app.amigocloud.com/api/v1/projects/32672/sql', query_fotos)\n",
    "            if fotos_filename['data'] != []:\n",
    "                dic = {'lote': lote.lote, 'file_name': fotos_filename['data'][0]['s3_filename']}\n",
    "                fotos.append(dic)\n",
    "\n",
    "    # GENERERAR PLANOS\n",
    "    i = 0\n",
    "    lista_planos = []\n",
    "    for propiedad in propiedades:\n",
    "        i = i + 1\n",
    "        lista_planos.append(generar_plano(propiedad, i))\n",
    "\n",
    "\n",
    "    # GENERAR REPORTE\n",
    "    doc = DocxTemplate(ruta + \"/templates/tpl_inf_credito_2da.docx\")\n",
    "    #generar lista de InlineImage de planos \n",
    "    lista_InlineImage = []\n",
    "    for plano in lista_planos:\n",
    "        lista_InlineImage.append(docxtpl.InlineImage(doc, image_descriptor=plano, width=Mm(150)))\n",
    "    #descargar fotos y generar lista InlineImage\n",
    "    lista_fotos_inline = []\n",
    "    for foto in fotos:\n",
    "        #response = requests.get(\"https://www-amigocloud.s3.amazonaws.com/gallery/\" + foto['file_name'])\n",
    "        response = requests.get(\"https://www-amigocloud.s3.amazonaws.com/gallery/\" + foto['file_name'])\n",
    "        file = open(ruta + '/fotos/' + foto['file_name'], \"wb\")\n",
    "        file.write(response.content)\n",
    "        file.close()\n",
    "        lista_fotos_inline.append({'foto': docxtpl.InlineImage(doc, image_descriptor=ruta + '/fotos/' + foto['file_name'], width=Mm(120)), 'lote': foto['lote']})\n",
    "    firma_respon = None\n",
    "    if credito.respon_2da_insp == 'Juan Pablo Jaldin Duran':\n",
    "        firma_respon = docxtpl.InlineImage(doc, image_descriptor=ruta + '/templates/firma_jaldin.png', width=Mm(60))\n",
    "    else:\n",
    "        firma_respon = docxtpl.InlineImage(doc, image_descriptor=ruta + '/templates/firma_rogelio.png', width=Mm(60))\n",
    "    context = {'credito':credito, 'propiedades':propiedades, 'planos':lista_InlineImage, 'fotos':lista_fotos_inline, 'firma':firma_respon}\n",
    "    doc.render(context)\n",
    "    cod_ca = credito.canhero.split(' / ')[0]\n",
    "    nom_ca = credito.canhero.split(' / ')[1]\n",
    "    file_name = file_name = '_' + cod_ca + '_CRS_' + credito.fecha_2da_insp.replace('/', '-') + '_' + nom_ca + '_' + str(credito.id)\n",
    "    doc.save(ruta + '/informes/' + file_name + '.docx')"
   ]
  },
  {
   "cell_type": "code",
   "execution_count": 5,
   "id": "f90ffde3-b794-45c0-a48e-f69a592752af",
   "metadata": {
    "tags": []
   },
   "outputs": [],
   "source": [
    "def generar_plano(propiedad, i):\n",
    "    lotes_lista = []\n",
    "    for lote in propiedad.lotes:\n",
    "        lotes_lista.append(lote._asdict())\n",
    "    df = pd.DataFrame(lotes_lista)\n",
    "    df['geometria'] = df['geometria'].apply(convertir_wkb)\n",
    "\n",
    "    #Convertir a GeoDataFrame\n",
    "    data = geopandas.GeoDataFrame(df, geometry='geometria')\n",
    "    #data\n",
    "    #ctx.add_basemap(ax, source=ctx.providers.Esri.WorldImagery)\n",
    "\n",
    "    data['coords'] = data['geometria'].apply(lambda x: x.representative_point().coords[:])\n",
    "    data['coords'] = [coords[0] for coords in data['coords']]\n",
    "\n",
    "    data.crs = \"EPSG:4326\"\n",
    "    data = data.to_crs(epsg=3857)\n",
    "\n",
    "    \n",
    "    fig = plt.figure(i, figsize=(20,20))\n",
    "    #fig = plt.figure(1)\n",
    "    ax = None\n",
    "    ax = fig.add_subplot()\n",
    "\n",
    "    #data.set_crs(epsg=4326, inplace=True)\n",
    "\n",
    "    data.apply(lambda x: ax.annotate(text=x.lote + ' \\n' + str(x.superficie) + ' ha', xy=x.geometria.centroid.coords[0], ha='center', va='center', color='black', fontsize=12, weight=1000, bbox=dict(facecolor=(1,1,1,0.3), edgecolor='none', pad=0)), axis=1);\n",
    "\n",
    "    #data.boundary.plot(ax=ax, color=(0,0,0,0), linewidth=0)\n",
    "\n",
    "    #data = data.to_crs(epsg=3857)\n",
    "\n",
    "    minx, miny, maxx, maxy = data.total_bounds\n",
    "    ax.set_xlim(minx - 500, maxx + 500)\n",
    "    ax.set_ylim(miny - 400, maxy + 400)\n",
    "\n",
    "    data.plot(ax=ax, edgecolor='r', facecolor=(0,0,0,0), linewidth=2, figsize=(20,20))\n",
    "    #data.plot(ax=ax, edgecolor='r', facecolor=(0,0,0,0), linewidth=2)\n",
    "    \n",
    "    ctx.add_basemap(ax, source=ctx.providers.Esri.WorldImagery)\n",
    "    ax.set_axis_off()\n",
    "    ax.set_title(str(propiedad.propiedad), fontsize=20)\n",
    "    ruta_plano = ruta + '/planos/' + str(propiedad.amigo_id) + '.jpeg'\n",
    "    fig.savefig(ruta_plano, dpi = 300, bbox_inches='tight')\n",
    "    plt.clf()\n",
    "    return ruta_plano"
   ]
  },
  {
   "cell_type": "code",
   "execution_count": 6,
   "id": "087099cc-c534-4e27-bcce-15a11a372167",
   "metadata": {
    "tags": []
   },
   "outputs": [],
   "source": [
    "semana = 'S36'\n",
    "query = {'query': 'select split_part(canhero, \\' / \\', 1) cod, split_part(canhero, \\' / \\', 2) nom from dataset_307560 where semana_2da = \\'{sem}\\''.format(sem=semana)}\n",
    "project = 'https://app.amigocloud.com/api/v1/projects/32672/sql'\n",
    "select = amigocloud.get(project, query)\n",
    "data = select['data']"
   ]
  },
  {
   "cell_type": "code",
   "execution_count": 10,
   "id": "9849c6ee-9d80-404e-81d0-28b79513cc20",
   "metadata": {
    "tags": []
   },
   "outputs": [
    {
     "data": {
      "text/plain": [
       "[{'cod': '13067', 'nom': 'SAUCEDO CERRUTI SONIA '},\n",
       " {'cod': '1693', 'nom': 'CANO DELGADILLO LIMBERG'},\n",
       " {'cod': '13480', 'nom': 'TAPIA MARTINEZ FRANCISCO'},\n",
       " {'cod': '42073', 'nom': 'TAPIA SEGOVIA ENRIQUE'},\n",
       " {'cod': '8838', 'nom': 'MENDEZ PAZ MIRYAM'},\n",
       " {'cod': '11750', 'nom': 'REYES VALDIVIA JOSE '},\n",
       " {'cod': '2285', 'nom': 'CUELLAR ZABALA ADALBERTO'},\n",
       " {'cod': '6457', 'nom': 'JORDAN TONDELLY RODOLFO '},\n",
       " {'cod': '40252', 'nom': 'BEJARANO ALVES LUIS ALBERTO '},\n",
       " {'cod': '42182', 'nom': 'TAPIA SEGOVIA RONALD'},\n",
       " {'cod': '8814', 'nom': 'MURIALDO MENDEZ WALTER DANIEL'},\n",
       " {'cod': '5345', 'nom': 'HUANCA SUAREZ EDGAR '},\n",
       " {'cod': '1104', 'nom': 'BRUNNER LIMPIAS JUAN CARLOS '},\n",
       " {'cod': '2893', 'nom': 'DAVALOS SILVA MARIO'},\n",
       " {'cod': '11116', 'nom': 'QUENA OVANDO VICTOR'},\n",
       " {'cod': '41556', 'nom': 'FRANCO GUZMAN MARIA AILEN'}]"
      ]
     },
     "execution_count": 10,
     "metadata": {},
     "output_type": "execute_result"
    }
   ],
   "source": [
    "data"
   ]
  },
  {
   "cell_type": "code",
   "execution_count": 11,
   "id": "259c664c-5cba-47cf-b04f-f7cd760d1f5c",
   "metadata": {},
   "outputs": [],
   "source": [
    "data = [{'cod': '8814', 'nom': 'MURIALDO MENDEZ WALTER DANIEL'},\n",
    " {'cod': '5345', 'nom': 'HUANCA SUAREZ EDGAR '}]"
   ]
  },
  {
   "cell_type": "code",
   "execution_count": 12,
   "id": "fac57dea-3a10-432b-816e-1b3a46e5ee8a",
   "metadata": {},
   "outputs": [
    {
     "data": {
      "text/plain": [
       "[{'cod': '8814', 'nom': 'MURIALDO MENDEZ WALTER DANIEL'},\n",
       " {'cod': '5345', 'nom': 'HUANCA SUAREZ EDGAR '}]"
      ]
     },
     "execution_count": 12,
     "metadata": {},
     "output_type": "execute_result"
    }
   ],
   "source": [
    "data"
   ]
  },
  {
   "cell_type": "code",
   "execution_count": 13,
   "id": "18543415-df34-4ac7-9299-e5eee01b5c69",
   "metadata": {
    "tags": []
   },
   "outputs": [],
   "source": [
    "# lista = [430, 40270, 13132, 874, 41966, 11798, 41544, 14993, 644, 1068, 13763, 2220, 1858, 2719]\n",
    "lista = [i['cod'] for i in data]"
   ]
  },
  {
   "cell_type": "code",
   "execution_count": 14,
   "id": "c6a125e1-2886-4ef1-ab90-26be02d91dbf",
   "metadata": {
    "tags": []
   },
   "outputs": [
    {
     "data": {
      "text/plain": [
       "['8814', '5345']"
      ]
     },
     "execution_count": 14,
     "metadata": {},
     "output_type": "execute_result"
    }
   ],
   "source": [
    "lista"
   ]
  },
  {
   "cell_type": "code",
   "execution_count": 10,
   "id": "a41a0c6c-b69c-483d-8bc6-312e0eebf437",
   "metadata": {},
   "outputs": [],
   "source": [
    "#lista=['12998']"
   ]
  },
  {
   "cell_type": "code",
   "execution_count": 15,
   "id": "48d79f54-6869-432f-8076-3a928eff1753",
   "metadata": {
    "tags": []
   },
   "outputs": [
    {
     "name": "stdout",
     "output_type": "stream",
     "text": [
      "L49.2 8341ee40558a40ab9e2795d8c85a7f7d\n",
      "L49.3 30f40121ccb5487c9aebe7ad6fcd09a7\n",
      "L49.1 218f4bdaf08745dab056c7d2dbd502f4\n",
      "====================== 8814\n",
      "L4.2.1 70f1a188ee2e49859cf5ebd71f364efc\n",
      "L4.2.2 d213148c17b64356ab55ca9a574aa8ca\n",
      "====================== 5345\n"
     ]
    },
    {
     "data": {
      "text/plain": [
       "<Figure size 2000x2000 with 0 Axes>"
      ]
     },
     "metadata": {},
     "output_type": "display_data"
    }
   ],
   "source": [
    "for i in lista:\n",
    "    generar_reporte(i)\n",
    "    print('======================', i)"
   ]
  }
 ],
 "metadata": {
  "kernelspec": {
   "display_name": "Python 3 (ipykernel)",
   "language": "python",
   "name": "python3"
  },
  "language_info": {
   "codemirror_mode": {
    "name": "ipython",
    "version": 3
   },
   "file_extension": ".py",
   "mimetype": "text/x-python",
   "name": "python",
   "nbconvert_exporter": "python",
   "pygments_lexer": "ipython3",
   "version": "3.10.13"
  }
 },
 "nbformat": 4,
 "nbformat_minor": 5
}
