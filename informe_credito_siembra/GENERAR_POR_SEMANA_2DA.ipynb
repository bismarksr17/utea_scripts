{
 "cells": [
  {
   "cell_type": "code",
   "execution_count": 10,
   "id": "6658e010-c382-4e03-a45a-67c832b35ef9",
   "metadata": {},
   "outputs": [],
   "source": [
    "# werkzeug\n",
    "# shapely=1.7.1\n",
    "# geopandas\n",
    "# pandas\n",
    "# contextily\n",
    "# matplotlib\n",
    "# docxtpl\n",
    "# docx"
   ]
  },
  {
   "cell_type": "code",
   "execution_count": 1,
   "id": "8c292c7c-2591-4985-93c8-88314bca3d5a",
   "metadata": {},
   "outputs": [],
   "source": [
    "import sys\n",
    "sys.path.append('../_amigocloud')"
   ]
  },
  {
   "cell_type": "code",
   "execution_count": 2,
   "id": "665919a4-6184-4280-8c4c-64588f9131d6",
   "metadata": {},
   "outputs": [],
   "source": [
    "from werkzeug.wrappers import Request, Response\n",
    "from jinja2 import Template\n",
    "\n",
    "from datetime import datetime, timedelta\n",
    "\n",
    "import collections\n",
    "from amigocloud import AmigoCloud\n",
    "\n",
    "from datetime import datetime\n",
    "\n",
    "from shapely import wkb\n",
    "import geopandas\n",
    "import pandas as pd\n",
    "import contextily as ctx\n",
    "import matplotlib.pyplot as plt\n",
    "\n",
    "from docxtpl import DocxTemplate\n",
    "import docxtpl\n",
    "from docx.shared import Mm\n",
    "import requests\n",
    "\n",
    "import qrcode\n",
    "\n",
    "def convertir_wkb(wkb_data):\n",
    "    return wkb.loads(wkb_data, hex=True)"
   ]
  },
  {
   "cell_type": "code",
   "execution_count": 3,
   "id": "057998b9-c93b-4559-87c9-e82742149a8a",
   "metadata": {},
   "outputs": [],
   "source": [
    "# ruta de carpera donde estan las llaves\n",
    "ruta = open('../ruta.txt')\n",
    "ruta = ruta.readlines()[0]"
   ]
  },
  {
   "cell_type": "code",
   "execution_count": 4,
   "id": "f78ec737-093c-44bb-a782-1af54be4a65f",
   "metadata": {},
   "outputs": [
    {
     "data": {
      "text/plain": [
       "<amigocloud.AmigoCloud at 0x125e5a35f60>"
      ]
     },
     "execution_count": 4,
     "metadata": {},
     "output_type": "execute_result"
    }
   ],
   "source": [
    "# leer token\n",
    "acceso = open(ruta + '/_keys/api_amigocloud.key','r')\n",
    "api_token = acceso.readlines()[0]\n",
    "acceso.close()\n",
    "amigocloud = AmigoCloud(token=api_token)\n",
    "amigocloud"
   ]
  },
  {
   "cell_type": "code",
   "execution_count": null,
   "id": "fd24df3b-03ab-4317-a628-9c64f2cfa6e1",
   "metadata": {},
   "outputs": [],
   "source": []
  },
  {
   "cell_type": "code",
   "execution_count": null,
   "id": "fbd9b6bb-57b5-45a4-9783-1962fb4c915c",
   "metadata": {},
   "outputs": [],
   "source": []
  },
  {
   "cell_type": "code",
   "execution_count": null,
   "id": "fc09bc64-2e69-4066-ab56-8352fd548e78",
   "metadata": {},
   "outputs": [],
   "source": []
  },
  {
   "cell_type": "code",
   "execution_count": null,
   "id": "e7657522-665a-4848-ab19-ef33c4d11f76",
   "metadata": {},
   "outputs": [],
   "source": []
  },
  {
   "cell_type": "code",
   "execution_count": null,
   "id": "399642d2-df24-4ed4-9dc3-e07bd1ab11e3",
   "metadata": {},
   "outputs": [],
   "source": []
  },
  {
   "cell_type": "code",
   "execution_count": null,
   "id": "ab1c0c7a-16aa-45f7-ab99-ae2aaa687ef9",
   "metadata": {},
   "outputs": [],
   "source": []
  },
  {
   "cell_type": "code",
   "execution_count": null,
   "id": "30f2a209-026b-4b3f-9712-ce6d20e29e39",
   "metadata": {},
   "outputs": [],
   "source": []
  },
  {
   "cell_type": "code",
   "execution_count": 5,
   "id": "671335c0-f848-4ced-9199-d1000c19c39b",
   "metadata": {},
   "outputs": [],
   "source": [
    "def generar_reporte(codigo_canhero):\n",
    "    # EXTRAER DATOS DE CREDITO\n",
    "    query_credito = {'query': 'select * from dataset_307560 where cast(SPLIT_PART(canhero, \\'/\\', 1) as integer) = {cod_ca}'.format(cod_ca=codigo_canhero)}\n",
    "    credito_select = amigocloud.get('https://app.amigocloud.com/api/v1/projects/32672/sql', query_credito)\n",
    "    credito_data = credito_select['data'][0]\n",
    "    credito_data['fecha_informe'] = (datetime.strptime(credito_data['fecha_2da_insp'].split(' ')[0], '%Y-%m-%d') + timedelta(days=1)).strftime('%d/%m/%Y')\n",
    "    credito_data['fecha_2da_insp'] = datetime.strptime(credito_data['fecha_2da_insp'].split(' ')[0], '%Y-%m-%d').strftime('%d/%m/%Y')\n",
    "    credito = collections.namedtuple(\"credito\", credito_data.keys())(*credito_data.values())\n",
    "    print(credito)\n",
    "\n",
    "    # EXTRAER DATOS DE PROPIEDADES\n",
    "    query_propiedades = {'query': 'select * from dataset_307562 where insp_ref_prop = \\'{insp_ref_prop}\\''.format(insp_ref_prop=credito.amigo_id)}\n",
    "    propiedades_select = amigocloud.get('https://app.amigocloud.com/api/v1/projects/32672/sql', query_propiedades)\n",
    "    propiedades_data = propiedades_select['data']\n",
    "\n",
    "    # EXTRAER DATOS DE LOTES\n",
    "    propiedades = []\n",
    "    for prop in propiedades_data:\n",
    "        prop['lotes'] = []\n",
    "        query_lotes = {'query': \"select * from dataset_307563 where (estado_lote_2da = 'SEMBRADO' or estado_lote_2da = 'NO SEMBRADO') and prop_ref_lote=\\'{prop_ref_lote}\\'\".format(prop_ref_lote=prop['amigo_id'])}\n",
    "        lotes_select = amigocloud.get('https://app.amigocloud.com/api/v1/projects/32672/sql', query_lotes)\n",
    "        for lote_select in lotes_select['data']:\n",
    "            lote = collections.namedtuple(\"lote\", lote_select.keys())(*lote_select.values())\n",
    "            prop['lotes'].append(lote)\n",
    "        if len(prop['lotes']) > 0:\n",
    "            propiedades.append(collections.namedtuple(\"propiedad\", prop.keys())(*prop.values()))\n",
    "\n",
    "    # EXTRAER FOTOS\n",
    "    fotos = []\n",
    "    for propiedad in propiedades:\n",
    "        for lote in propiedad.lotes:\n",
    "            print(lote.lote, lote.amigo_id)\n",
    "            query_fotos = {'query': 'select source_amigo_id, s3_filename from gallery_48961 where source_amigo_id=\\'{source_amigo_id}\\''.format(source_amigo_id=lote.amigo_id)}\n",
    "            fotos_filename = amigocloud.get('https://app.amigocloud.com/api/v1/projects/32672/sql', query_fotos)\n",
    "            if fotos_filename['data'] != []:\n",
    "                dic = {'lote': lote.lote, 'file_name': fotos_filename['data'][0]['s3_filename']}\n",
    "                fotos.append(dic)\n",
    "\n",
    "    # GENERERAR PLANOS\n",
    "    i = 0\n",
    "    lista_planos = []\n",
    "    for propiedad in propiedades:\n",
    "        i = i + 1\n",
    "        lista_planos.append(generar_plano(propiedad, i))\n",
    "    \n",
    "    \n",
    "    # GENERAR QR\n",
    "    texto = '''\n",
    "--UTEA--\n",
    "--2DA INSPECCION CREDITO SIEMBRA--\n",
    "\n",
    "Codigo de Inspeccion: {cite}\n",
    "Fecha de 2da Inspeccion: {fecha}\n",
    "Nombre de Canero: {canero}\n",
    "Codigo Canero: {cod_ca}\n",
    "Total Solicitado: {soli}\n",
    "Total Area Insp.: {total_area} ha\n",
    "Estado de Insp.: {estado}\n",
    "Tecnico Responsable: {tecnico}'''\\\n",
    "    .format(\n",
    "        cite=str(credito.cite_2da_insp) + '-' + credito.fecha_2da_insp.split('/')[2], \n",
    "        fecha=credito.fecha_2da_insp, \n",
    "        canero=credito.canhero.split(' / ')[1],\n",
    "        cod_ca=credito.canhero.split(' / ')[0],\n",
    "        soli=credito.solicitado,\n",
    "        total_area=credito.total_2da_insp,\n",
    "        estado=credito.estado_2da_insp,\n",
    "        tecnico=credito.respon_2da_insp)\n",
    "    # Generar el código QR\n",
    "    qr = qrcode.QRCode(\n",
    "        version=1,\n",
    "        error_correction=qrcode.constants.ERROR_CORRECT_L,\n",
    "        box_size=10,\n",
    "        border=4,\n",
    "    )\n",
    "    qr.add_data(texto)\n",
    "    qr.make(fit=True)\n",
    "    \n",
    "    qr_img = qr.make_image(fill_color=\"black\", back_color=\"white\")\n",
    "    \n",
    "    cod_ca = credito.canhero.split(' / ')[0]\n",
    "    nom_ca = credito.canhero.split(' / ')[1]\n",
    "    filename_qr = \"qr_\" + cod_ca + '_CRS_' + credito.fecha_informe.replace('/', '-') + '_' + nom_ca\n",
    "    ruta_qr = ruta + '/planos/' + filename_qr + '.png'\n",
    "    # Guardar el código QR en un archivo\n",
    "    qr_img.save(ruta_qr)\n",
    "\n",
    "    # GENERAR REPORTE\n",
    "    doc = DocxTemplate(ruta + \"/templates/tpl_inf_credito_2da.docx\")\n",
    "    #generar lista de InlineImage de planos \n",
    "    lista_InlineImage = []\n",
    "    for plano in lista_planos:\n",
    "        lista_InlineImage.append(docxtpl.InlineImage(doc, image_descriptor=plano, width=Mm(150)))\n",
    "    #descargar fotos y generar lista InlineImage\n",
    "    lista_fotos_inline = []\n",
    "    for foto in fotos:\n",
    "        #response = requests.get(\"https://www-amigocloud.s3.amazonaws.com/gallery/\" + foto['file_name'])\n",
    "        response = requests.get(\"https://www-amigocloud.s3.amazonaws.com/gallery/\" + foto['file_name'])\n",
    "        file = open(ruta + '/fotos/' + foto['file_name'], \"wb\")\n",
    "        file.write(response.content)\n",
    "        file.close()\n",
    "        lista_fotos_inline.append({'foto': docxtpl.InlineImage(doc, image_descriptor=ruta+'/fotos/' + foto['file_name'], width=Mm(120)), 'lote': foto['lote']})\n",
    "    firma_respon = None\n",
    "    if credito.respon_2da_insp == 'Rogelio Acuña Rodríguez':\n",
    "        firma_respon = docxtpl.InlineImage(doc, image_descriptor=ruta+'/templates/firma_rogelio.png', width=Mm(60))\n",
    "    else:\n",
    "        firma_respon = docxtpl.InlineImage(doc, image_descriptor=ruta+'/templates/firma_jaldin.png', width=Mm(60))\n",
    "    # se crea obj inline par imagen QR\n",
    "    qr_file = docxtpl.InlineImage(doc, image_descriptor=ruta_qr, width=Mm(30))\n",
    "    \n",
    "    context = {'credito':credito, 'propiedades':propiedades, 'planos':lista_InlineImage, 'fotos':lista_fotos_inline, 'firma':firma_respon, 'qr':qr_file}\n",
    "    doc.render(context)\n",
    "    cod_ca = credito.canhero.split(' / ')[0]\n",
    "    nom_ca = credito.canhero.split(' / ')[1]\n",
    "    file_name = \"_\" + cod_ca + '_CRS_' + credito.fecha_informe.replace('/', '-') + '_' + nom_ca\n",
    "    doc.save(ruta + '/informes/' + file_name + '.docx')"
   ]
  },
  {
   "cell_type": "code",
   "execution_count": 6,
   "id": "f90ffde3-b794-45c0-a48e-f69a592752af",
   "metadata": {},
   "outputs": [],
   "source": [
    "def generar_plano(propiedad, i):\n",
    "    print(propiedad)\n",
    "    lotes_lista = []\n",
    "    for lote in propiedad.lotes:\n",
    "        lotes_lista.append(lote._asdict())\n",
    "    df = pd.DataFrame(lotes_lista)\n",
    "    df['geometria'] = df['geometria'].apply(convertir_wkb)\n",
    "\n",
    "    #Convertir a GeoDataFrame\n",
    "    data = geopandas.GeoDataFrame(df, geometry='geometria')\n",
    "    #data\n",
    "    #ctx.add_basemap(ax, source=ctx.providers.Esri.WorldImagery)\n",
    "\n",
    "    data['coords'] = data['geometria'].apply(lambda x: x.representative_point().coords[:])\n",
    "    data['coords'] = [coords[0] for coords in data['coords']]\n",
    "\n",
    "    data.crs = \"EPSG:4326\"\n",
    "    data = data.to_crs(epsg=3857)\n",
    "\n",
    "    \n",
    "    fig = plt.figure(i, figsize=(20,20))\n",
    "    #fig = plt.figure(1)\n",
    "    ax = None\n",
    "    ax = fig.add_subplot()\n",
    "\n",
    "    #data.set_crs(epsg=4326, inplace=True)\n",
    "\n",
    "    data.apply(lambda x: ax.annotate(text=x.lote + ' \\n' + str(x.superficie) + ' ha', xy=x.geometria.centroid.coords[0], ha='center', va='center', color='black', fontsize=12, weight=1000, bbox=dict(facecolor=(1,1,1,0.3), edgecolor='none', pad=0)), axis=1);\n",
    "\n",
    "    #data.boundary.plot(ax=ax, color=(0,0,0,0), linewidth=0)\n",
    "\n",
    "    #data = data.to_crs(epsg=3857)\n",
    "\n",
    "    minx, miny, maxx, maxy = data.total_bounds\n",
    "    ax.set_xlim(minx - 500, maxx + 500)\n",
    "    ax.set_ylim(miny - 400, maxy + 400)\n",
    "\n",
    "    data.plot(ax=ax, edgecolor='r', facecolor=(0,0,0,0), linewidth=2, figsize=(20,20))\n",
    "    #data.plot(ax=ax, edgecolor='r', facecolor=(0,0,0,0), linewidth=2)\n",
    "    \n",
    "    ctx.add_basemap(ax, source=ctx.providers.Esri.WorldImagery)\n",
    "    ax.set_axis_off()\n",
    "    ax.set_title(str(propiedad.propiedad), fontsize=20)\n",
    "    path = ruta+'/planos/' + str(propiedad.amigo_id) + '.jpeg'\n",
    "    fig.savefig(path, dpi = 300, bbox_inches='tight')\n",
    "    \n",
    "    plt.clf()\n",
    "    return path"
   ]
  },
  {
   "cell_type": "code",
   "execution_count": 8,
   "id": "e4cd18b4-2c5c-4d42-a40a-7f98bb6650d4",
   "metadata": {},
   "outputs": [],
   "source": [
    "semana = 'S23'\n",
    "query = {'query': 'select split_part(canhero, \\' / \\', 1) cod, split_part(canhero, \\' / \\', 2) nom from dataset_307560 where semana_2da = \\'{sem}\\''.format(sem=semana)}\n",
    "project = 'https://app.amigocloud.com/api/v1/projects/32672/sql'\n",
    "select = amigocloud.get(project, query)\n",
    "data = select['data']"
   ]
  },
  {
   "cell_type": "code",
   "execution_count": 10,
   "id": "4cb06cb9-c4eb-42ca-acf9-6156d769042b",
   "metadata": {},
   "outputs": [
    {
     "data": {
      "text/plain": [
       "[{'cod': '9687', 'nom': 'ORTEGA RODRIGUEZ ELADIO'},\n",
       " {'cod': '41973', 'nom': 'RIBERA JUSTINIANO JEFFER PAUL'},\n",
       " {'cod': '13001', 'nom': 'SEJAS CASTRO EDWARDS'},\n",
       " {'cod': '8017', 'nom': 'RIBERA MERCADO ROLANDO'},\n",
       " {'cod': '8684', 'nom': 'MOLINA PORCEL JUAN CARLOS'},\n",
       " {'cod': '1182', 'nom': 'BOHORQUEZ FERNANDEZ NICANOR'},\n",
       " {'cod': '41980', 'nom': 'CASANOVA VELASCO JULIO CESAR'},\n",
       " {'cod': '14760', 'nom': 'VARGAS PINTO RENE'},\n",
       " {'cod': '1783', 'nom': 'CACERES MAMANI AQUILINO'},\n",
       " {'cod': '15308', 'nom': 'VARGAS SOTO ELVIRA'},\n",
       " {'cod': '7829', 'nom': 'SENA VILLARROEL DANIEL'},\n",
       " {'cod': '11231', 'nom': 'RAFAEL GARNICA FIDEL'},\n",
       " {'cod': '7910', 'nom': 'SENA VILLARROEL CRISTOBAL'},\n",
       " {'cod': '8814', 'nom': 'MURIALDO MENDEZ WALTER DANIEL'},\n",
       " {'cod': '7385', 'nom': 'LINARES SALVATIERRA MARY LUZ'},\n",
       " {'cod': '10806', 'nom': 'PALICIO BRUNO OSCAR ROBERTO'},\n",
       " {'cod': '8140', 'nom': 'MASAI CHAVEZ SIRLE YOBANA'},\n",
       " {'cod': '13638', 'nom': 'TISCO VASQUEZ SERGIO'}]"
      ]
     },
     "execution_count": 10,
     "metadata": {},
     "output_type": "execute_result"
    }
   ],
   "source": [
    "data"
   ]
  },
  {
   "cell_type": "code",
   "execution_count": 11,
   "id": "c9643d6a-4861-4ed3-b9ba-619aeaaeba46",
   "metadata": {},
   "outputs": [],
   "source": [
    "#lista = [1068, 18062, 10739, 41955, 2392, 15162, 2517, 8706, 15085, 430, 874, 5498, 2505, 2274]\n",
    "lista = [int(i['cod']) for i in data]"
   ]
  },
  {
   "cell_type": "code",
   "execution_count": 12,
   "id": "59340321-ace8-43b3-832b-75a531664da5",
   "metadata": {},
   "outputs": [
    {
     "name": "stdout",
     "output_type": "stream",
     "text": [
      "18 informes\n"
     ]
    }
   ],
   "source": [
    "print(len(lista), 'informes')"
   ]
  },
  {
   "cell_type": "code",
   "execution_count": 23,
   "id": "66f18907-ce26-4932-b53a-4ef39be24c3c",
   "metadata": {},
   "outputs": [],
   "source": [
    "lista = [41954]"
   ]
  },
  {
   "cell_type": "code",
   "execution_count": 13,
   "id": "70c4c82b-41de-461d-8a66-628ab505953f",
   "metadata": {},
   "outputs": [
    {
     "name": "stdout",
     "output_type": "stream",
     "text": [
      "credito(fecha_registro='2023-12-15 12:43:39.164778+00:00', amigo_id='b0f754212fd441f7b0eb695b56bd707f', semana_1ra='S', semana_2da='S23', institucion=141, canhero='9687 / ORTEGA RODRIGUEZ ELADIO', solicitado=4.0, total_1ra_insp=None, estado_1ra_insp='PENDIENTE', fecha_1ra_insp=None, cite_1ra_insp=None, respon_1ra_insp=None, obs_1ra=None, link_doc_1ra=None, total_2da_insp=7.42, estado_2da_insp='APROBADO', fecha_2da_insp='07/06/2024', cite_2da_insp=138, respon_2da_insp='Rogelio Acuña Rodríguez', obs_2da=None, link_doc_2da=None, total_nacido=None, total_no_nacido=None, muestreo=False, glifosato=False, nivelacion_1=False, drenaje=False, romeplow=True, rastra=True, subsolado=False, rotacion=True, arado=False, ferti_base=False, enraizadores=True, insecticidas=False, fungicidas=False, preemergente=True, fecha_actualizacion='2024-06-07 19:59:20.746923+00:00', fertilizacion=False, fungi_en_siem=False, insec_en_siem=False, promot_de_brota=False, pre_emergente=False, post_emergente=False, cultivado=False, ctrl_bio_tricho=False, insect_fisio_otros=False, ctrl_malezas=False, nivelacion_2=False, drenajes=False, financiamiento='IAG', id=444, total_sembrado_2da=7.42, semana_3ra=None, fecha_3ra_insp=None, total_3ra_insp=None, respon_3ra_insp=None, link_doc_3ra=None, estado_3ra_insp=None, cite_3ra_insp=None, fecha_informe='08/06/2024')\n",
      "L1 e14d1a0602964498808cf86d581332d9\n",
      "L1 852138c1a8794948944e889cbb7d57b5\n",
      "propiedad(fecha_de_registro='2024-06-07 20:00:06+00:00', amigo_id='82694ef83f3642d4808c887d114f01b1', ubicacion='0101000020E61000006066D832F2914FC0F8C4D847BF3431C0', propiedad='2052 / TEODORO IV--ORTEGA ELADIO', tenencia='PROPIO', fecha_actualizacion='2024-06-07 20:00:06+00:00', insp_ref_prop='b0f754212fd441f7b0eb695b56bd707f', lotes=[lote(fecha_de_registro='2024-06-07 19:49:23+00:00', amigo_id='e14d1a0602964498808cf86d581332d9', lote='L1', superficie=4.94, textura='F', lote_semillero='L2', variedad_semillero='UCG 90-20', variedad_sugerida='UCG 90-20', estado_semillero='BUENO', mes_siembra='ABRIL', variedad_sembrada=None, fecha_siembra=None, estado_de_siembra=None, obs_1=None, obs_2=None, fecha_actualizacion=None, prop_ref_lote='82694ef83f3642d4808c887d114f01b1', geometria='0106000020E61000000100000001030000000100000009000000375A3680F1914FC0F22B51B1123531C0292424C0E1914FC0E8F6E357EB3431C0BBFC88FBEF914FC02C8B9226D43431C060DEB020D2914FC07D99F2078E3431C02B0246B9F8914FC08FCB29F0493431C0BDCB86520E924FC067F7B961863431C05F359B2E1A924FC0DC75DD3B6C3431C0C4A9A4292B924FC0F9E5A344B83431C0375A3680F1914FC0F22B51B1123531C0', estado_lote_1ra='APROBADO', estado_lote_2da='SEMBRADO')])\n",
      "propiedad(fecha_de_registro='2024-06-07 20:05:48+00:00', amigo_id='d8b5e4fd708445639f34b4e72fae3a7a', ubicacion='0101000020E6100000E6CA294076934FC014842587BF3331C0', propiedad='2145 / PROPIEDAD MAIZ--ORTEGA ELADIO', tenencia='PROPIO', fecha_actualizacion='2024-06-07 20:05:48+00:00', insp_ref_prop='b0f754212fd441f7b0eb695b56bd707f', lotes=[lote(fecha_de_registro='2024-06-07 20:04:11+00:00', amigo_id='852138c1a8794948944e889cbb7d57b5', lote='L1', superficie=2.48, textura='F', lote_semillero='L3', variedad_semillero='UCG 90-20', variedad_sugerida='UCG 90-20', estado_semillero='BUENO', mes_siembra='ABRIL', variedad_sembrada=None, fecha_siembra=None, estado_de_siembra=None, obs_1=None, obs_2=None, fecha_actualizacion=None, prop_ref_lote='d8b5e4fd708445639f34b4e72fae3a7a', geometria='0106000020E610000001000000010300000001000000070000005056EEB381934FC0C0E806325B3331C0BCA9218078934FC0083864C7593331C0BCA9218078934FC0BC53C770923331C032B4613068934FC0809569DB933331C0E284174D69934FC0E442270D253431C06AA5285185934FC054D377C2253431C05056EEB381934FC0C0E806325B3331C0', estado_lote_1ra='APROBADO', estado_lote_2da='SEMBRADO')])\n",
      "====================== 9687\n",
      "credito(fecha_registro='2023-11-16 00:59:31.305131+00:00', amigo_id='5c69d3071c514e5fb2fba7bf3ce8d5d9', semana_1ra='S47', semana_2da='S23', institucion=50, canhero='41973 / RIBERA JUSTINIANO JEFFER PAUL', solicitado=50.0, total_1ra_insp=52.19, estado_1ra_insp='APROBADO', fecha_1ra_insp='2023-11-21 12:57:24+00:00', cite_1ra_insp=544, respon_1ra_insp='Juan Pablo Jaldin Duran', obs_1ra=None, link_doc_1ra='https://drive.google.com/file/d/1ngHIcyrI6GY2rENGGeSVy1kdj6JS9fzy/view?usp=drivesdk', total_2da_insp=2.72, estado_2da_insp='NEGADO', fecha_2da_insp='06/06/2024', cite_2da_insp=144, respon_2da_insp='Rogelio Acuña Rodríguez', obs_2da='Siembra fuera de epoca', link_doc_2da=None, total_nacido=None, total_no_nacido=None, muestreo=False, glifosato=False, nivelacion_1=True, drenaje=False, romeplow=True, rastra=True, subsolado=False, rotacion=True, arado=False, ferti_base=False, enraizadores=False, insecticidas=False, fungicidas=False, preemergente=True, fecha_actualizacion='2024-06-08 13:10:32.092224+00:00', fertilizacion=False, fungi_en_siem=False, insec_en_siem=False, promot_de_brota=False, pre_emergente=False, post_emergente=False, cultivado=False, ctrl_bio_tricho=False, insect_fisio_otros=False, ctrl_malezas=False, nivelacion_2=False, drenajes=False, financiamiento='IAG', id=287, total_sembrado_2da=2.72, semana_3ra=None, fecha_3ra_insp=None, total_3ra_insp=None, respon_3ra_insp=None, link_doc_3ra=None, estado_3ra_insp=None, cite_3ra_insp=None, fecha_informe='07/06/2024')\n",
      "L7.1 7e2a8967ffd843ee9d507184e880d693\n",
      "propiedad(fecha_de_registro='2023-11-25 12:58:20+00:00', amigo_id='d07a01aa83ef48b6b9dea736f9655734', ubicacion='0101000020E6100000A6064917127E4FC078425FB73A4731C0', propiedad='674 / SANTA ROSA--RIBERA CANDIA', tenencia='PROPIO', fecha_actualizacion='2023-11-25 12:58:20+00:00', insp_ref_prop='5c69d3071c514e5fb2fba7bf3ce8d5d9', lotes=[lote(fecha_de_registro='2023-11-22 13:41:25+00:00', amigo_id='7e2a8967ffd843ee9d507184e880d693', lote='L7.1', superficie=2.72, textura='F', lote_semillero='L5.2', variedad_semillero='UCG 90-20', variedad_sugerida='UCG 90-20', estado_semillero='BUENO', mes_siembra='ABRIL', variedad_sembrada=None, fecha_siembra=None, estado_de_siembra=None, obs_1=None, obs_2=None, fecha_actualizacion=None, prop_ref_lote='d07a01aa83ef48b6b9dea736f9655734', geometria='0106000020E61000000100000001030000000100000005000000A6F701C1017F4FC020AB2D61774731C0B791753B0C7F4FC020DF55B9124831C0A2D6DF20EE7E4FC088FE1BBA244831C0D36A0878E27E4FC02ECD8A1D894731C0A6F701C1017F4FC020AB2D61774731C0', estado_lote_1ra='APROBADO', estado_lote_2da='SEMBRADO')])\n",
      "====================== 41973\n",
      "credito(fecha_registro='2023-11-16 00:59:31.305131+00:00', amigo_id='6bb8a28b2c0e46dfb38bc28efb7652a6', semana_1ra='S', semana_2da='S23', institucion=81, canhero='13001 / SEJAS CASTRO EDWARDS', solicitado=5.0, total_1ra_insp=None, estado_1ra_insp='PENDIENTE', fecha_1ra_insp=None, cite_1ra_insp=None, respon_1ra_insp=None, obs_1ra=None, link_doc_1ra=None, total_2da_insp=10.31, estado_2da_insp='APROBADO', fecha_2da_insp='07/06/2024', cite_2da_insp=137, respon_2da_insp='Rogelio Acuña Rodríguez', obs_2da=None, link_doc_2da=None, total_nacido=None, total_no_nacido=None, muestreo=False, glifosato=True, nivelacion_1=False, drenaje=True, romeplow=True, rastra=True, subsolado=False, rotacion=True, arado=False, ferti_base=False, enraizadores=True, insecticidas=True, fungicidas=False, preemergente=True, fecha_actualizacion='2024-06-07 19:07:14.094053+00:00', fertilizacion=False, fungi_en_siem=False, insec_en_siem=False, promot_de_brota=False, pre_emergente=False, post_emergente=False, cultivado=False, ctrl_bio_tricho=False, insect_fisio_otros=False, ctrl_malezas=False, nivelacion_2=False, drenajes=False, financiamiento='IAG', id=406, total_sembrado_2da=10.31, semana_3ra=None, fecha_3ra_insp=None, total_3ra_insp=None, respon_3ra_insp=None, link_doc_3ra=None, estado_3ra_insp=None, cite_3ra_insp=None, fecha_informe='08/06/2024')\n",
      "L1.1 3ba0c06aa17f406f9b464fe477a32965\n",
      "propiedad(fecha_de_registro='2024-06-07 19:10:41+00:00', amigo_id='5308b74222a9482596a726d45e5db54b', ubicacion='0101000020E6100000468EDFC7D78A4FC00C255435562F31C0', propiedad='1052 / LOTE HOYOS DE FELIX-- SEJAS', tenencia='PROPIO', fecha_actualizacion='2024-06-07 19:10:41+00:00', insp_ref_prop='6bb8a28b2c0e46dfb38bc28efb7652a6', lotes=[lote(fecha_de_registro='2024-06-07 19:15:32+00:00', amigo_id='3ba0c06aa17f406f9b464fe477a32965', lote='L1.1', superficie=10.31, textura='FY', lote_semillero='L3', variedad_semillero='UCG 90-20', variedad_sugerida='UCG 90-20', estado_semillero='BUENO', mes_siembra='MAYO', variedad_sembrada=None, fecha_siembra=None, estado_de_siembra=None, obs_1=None, obs_2=None, fecha_actualizacion=None, prop_ref_lote='5308b74222a9482596a726d45e5db54b', geometria='0106000020E610000001000000010300000001000000070000006C07B6F8E48A4FC0FC8B0CDAEE2E31C02402D648988A4FC0542E53EED02E31C096AE8654928A4FC014EDDC1B642F31C064E3B66CBE8A4FC0AC83FC04772F31C0F47941EEB58A4FC0C4AB325B3B3031C03A20B1F6DB8A4FC0947F6380433031C06C07B6F8E48A4FC0FC8B0CDAEE2E31C0', estado_lote_1ra='APROBADO', estado_lote_2da='SEMBRADO')])\n",
      "====================== 13001\n",
      "credito(fecha_registro='2023-11-16 00:59:31.305131+00:00', amigo_id='af4cad559a3245769513203b4235862f', semana_1ra='S', semana_2da='S23', institucion=8, canhero='8017 / RIBERA MERCADO ROLANDO', solicitado=5.0, total_1ra_insp=None, estado_1ra_insp='PENDIENTE', fecha_1ra_insp=None, cite_1ra_insp=None, respon_1ra_insp=None, obs_1ra=None, link_doc_1ra=None, total_2da_insp=3.43, estado_2da_insp='APROBADO', fecha_2da_insp='05/06/2024', cite_2da_insp=147, respon_2da_insp='Rogelio Acuña Rodríguez', obs_2da=None, link_doc_2da=None, total_nacido=None, total_no_nacido=None, muestreo=False, glifosato=False, nivelacion_1=False, drenaje=False, romeplow=True, rastra=True, subsolado=False, rotacion=False, arado=False, ferti_base=False, enraizadores=True, insecticidas=True, fungicidas=False, preemergente=True, fecha_actualizacion='2024-06-08 13:52:47.034881+00:00', fertilizacion=False, fungi_en_siem=False, insec_en_siem=False, promot_de_brota=False, pre_emergente=False, post_emergente=False, cultivado=False, ctrl_bio_tricho=False, insect_fisio_otros=False, ctrl_malezas=False, nivelacion_2=False, drenajes=False, financiamiento='IAG', id=401, total_sembrado_2da=3.43, semana_3ra=None, fecha_3ra_insp=None, total_3ra_insp=None, respon_3ra_insp=None, link_doc_3ra=None, estado_3ra_insp=None, cite_3ra_insp=None, fecha_informe='06/06/2024')\n",
      "L6.1 56dc6a483a24434f9a1cbbb872a48a0a\n",
      "L7.1 85055f4f020a4345bc3ab4bb9f3779d0\n",
      "L11 1777559940784d9a9e50e4b4d322c67e\n",
      "propiedad(fecha_de_registro='2024-06-08 13:55:04+00:00', amigo_id='79949d15e26c4fa1bee4b4d1e7e7e4ad', ubicacion='0101000020E6100000D4CAD7669B844FC00C2334398A3C31C0', propiedad='1294 / LA FLORIDA--ROLANDO RIBERA', tenencia='PROPIO', fecha_actualizacion='2024-06-08 13:55:04+00:00', insp_ref_prop='af4cad559a3245769513203b4235862f', lotes=[lote(fecha_de_registro='2024-06-08 13:57:42+00:00', amigo_id='56dc6a483a24434f9a1cbbb872a48a0a', lote='L6.1', superficie=0.73, textura='FY', lote_semillero='L15.1', variedad_semillero='UCG 90-20', variedad_sugerida='UCG 90-20', estado_semillero='BUENO', mes_siembra='MAYO', variedad_sembrada=None, fecha_siembra=None, estado_de_siembra=None, obs_1=None, obs_2=None, fecha_actualizacion=None, prop_ref_lote='79949d15e26c4fa1bee4b4d1e7e7e4ad', geometria='0106000020E61000000100000001030000000100000005000000527BBAB287844FC068681B20FE3B31C050B594987D844FC054B4BDFFF93B31C0E26E8B4380844FC014D87E4B753B31C03E5F15268A844FC0F445F691793B31C0527BBAB287844FC068681B20FE3B31C0', estado_lote_1ra='APROBADO', estado_lote_2da='SEMBRADO'), lote(fecha_de_registro='2024-06-08 13:56:21+00:00', amigo_id='85055f4f020a4345bc3ab4bb9f3779d0', lote='L7.1', superficie=1.01, textura='FY', lote_semillero='L15.1', variedad_semillero='UCG 90-20', variedad_sugerida='UCG 90-20', estado_semillero='BUENO', mes_siembra='MAYO', variedad_sembrada=None, fecha_siembra=None, estado_de_siembra=None, obs_1=None, obs_2=None, fecha_actualizacion=None, prop_ref_lote='79949d15e26c4fa1bee4b4d1e7e7e4ad', geometria='0106000020E610000001000000010300000001000000050000006A74E3357A844FC010F8E47DB83C31C06053F0E983844FC0D89C6434B93C31C032FE4B3A87844FC0B887F9EFFF3B31C0B256513F7D844FC0883781A6FC3B31C06A74E3357A844FC010F8E47DB83C31C0', estado_lote_1ra='APROBADO', estado_lote_2da='SEMBRADO'), lote(fecha_de_registro='2024-06-08 13:58:57+00:00', amigo_id='1777559940784d9a9e50e4b4d322c67e', lote='L11', superficie=1.69, textura='F', lote_semillero='L15.1', variedad_semillero='UCG 90-20', variedad_sugerida='UCG 90-20', estado_semillero='BUENO', mes_siembra='MAYO', variedad_sembrada=None, fecha_siembra=None, estado_de_siembra=None, obs_1=None, obs_2=None, fecha_actualizacion=None, prop_ref_lote='79949d15e26c4fa1bee4b4d1e7e7e4ad', geometria='0106000020E61000000100000001030000000100000008000000F8A18C9CB6844FC05CB331C9113D31C03A5EDE7FC8844FC01CECB0A2193D31C0803AF61EC9844FC004ED7EB2AA3C31C00468C29FC2844FC0984B64DB5E3C31C0D22CC237C0844FC0F47259EE4C3C31C0BE30F54ABE844FC04CC3556A473C31C0321B5B3DB9844FC0E8DA53A8443C31C0F8A18C9CB6844FC05CB331C9113D31C0', estado_lote_1ra='APROBADO', estado_lote_2da='SEMBRADO')])\n",
      "====================== 8017\n",
      "credito(fecha_registro='2023-11-16 00:59:31.305131+00:00', amigo_id='f2181c120fca47438fc93f8348171e80', semana_1ra='S', semana_2da='S23', institucion=3, canhero='8684 / MOLINA PORCEL JUAN CARLOS', solicitado=2.0, total_1ra_insp=None, estado_1ra_insp='PENDIENTE', fecha_1ra_insp=None, cite_1ra_insp=None, respon_1ra_insp=None, obs_1ra=None, link_doc_1ra=None, total_2da_insp=1.85, estado_2da_insp='APROBADO', fecha_2da_insp='08/06/2024', cite_2da_insp=148, respon_2da_insp='Rogelio Acuña Rodríguez', obs_2da=None, link_doc_2da=None, total_nacido=None, total_no_nacido=None, muestreo=False, glifosato=False, nivelacion_1=False, drenaje=False, romeplow=True, rastra=True, subsolado=False, rotacion=False, arado=False, ferti_base=False, enraizadores=True, insecticidas=True, fungicidas=False, preemergente=True, fecha_actualizacion='2024-06-08 14:02:51.333468+00:00', fertilizacion=False, fungi_en_siem=False, insec_en_siem=False, promot_de_brota=False, pre_emergente=False, post_emergente=False, cultivado=False, ctrl_bio_tricho=False, insect_fisio_otros=False, ctrl_malezas=False, nivelacion_2=False, drenajes=False, financiamiento='IAG', id=428, total_sembrado_2da=1.85, semana_3ra=None, fecha_3ra_insp=None, total_3ra_insp=None, respon_3ra_insp=None, link_doc_3ra=None, estado_3ra_insp=None, cite_3ra_insp=None, fecha_informe='09/06/2024')\n",
      "L12 2ffe3a5d836640af8cad69beab8d15a2\n",
      "L3.1 920028c3744d4ef8bcfe5ee27642e73a\n",
      "L3.2 3aab6d1e2e774c1cbfe9bf22b8094a3c\n",
      "propiedad(fecha_de_registro='2024-06-08 14:04:04+00:00', amigo_id='7d36541d3cc04cfdb08b4f13f08afe75', ubicacion='0101000020E6100000E8E6B9ACE98E4FC0DC9C57C9622431C0', propiedad='89 / EL TOTAI--MOLINA', tenencia='PROPIO', fecha_actualizacion='2024-06-08 14:04:04+00:00', insp_ref_prop='f2181c120fca47438fc93f8348171e80', lotes=[lote(fecha_de_registro='2024-06-08 14:05:37+00:00', amigo_id='2ffe3a5d836640af8cad69beab8d15a2', lote='L12', superficie=0.8, textura='F', lote_semillero='L1', variedad_semillero='UCG 90-20', variedad_sugerida='UCG 90-20', estado_semillero='BUENO', mes_siembra='MAYO', variedad_sembrada=None, fecha_siembra=None, estado_de_siembra=None, obs_1=None, obs_2=None, fecha_actualizacion=None, prop_ref_lote='7d36541d3cc04cfdb08b4f13f08afe75', geometria='0106000020E61000000100000001030000000100000005000000CE864B8CFA8E4FC0B4FF3097602431C06E49CBF6DE8E4FC00831271C612431C066B8265FDF8E4FC06C283716962431C0763DB946FA8E4FC0742EB258962431C0CE864B8CFA8E4FC0B4FF3097602431C0', estado_lote_1ra='APROBADO', estado_lote_2da='SEMBRADO'), lote(fecha_de_registro='2024-06-08 14:06:57+00:00', amigo_id='920028c3744d4ef8bcfe5ee27642e73a', lote='L3.1', superficie=0.6, textura='F', lote_semillero='L1', variedad_semillero='UCG 90-20', variedad_sugerida='UCG 90-20', estado_semillero='BUENO', mes_siembra='MAYO', variedad_sembrada=None, fecha_siembra=None, estado_de_siembra=None, obs_1=None, obs_2=None, fecha_actualizacion=None, prop_ref_lote='7d36541d3cc04cfdb08b4f13f08afe75', geometria='0106000020E61000000100000001030000000100000005000000969CED21FE8E4FC0AC71EAB2A52331C046989E7BF18E4FC08C8B70EEA42331C08ABA4784F28E4FC06CB502CF4C2331C024B846B7FE8E4FC0A49E2C344D2331C0969CED21FE8E4FC0AC71EAB2A52331C0', estado_lote_1ra='APROBADO', estado_lote_2da='SEMBRADO'), lote(fecha_de_registro='2024-06-08 14:08:02+00:00', amigo_id='3aab6d1e2e774c1cbfe9bf22b8094a3c', lote='L3.2', superficie=0.45, textura='F', lote_semillero='L1', variedad_semillero='UCG 90-20', variedad_sugerida='UCG 90-20', estado_semillero='BUENO', mes_siembra='MAYO', variedad_sembrada=None, fecha_siembra=None, estado_de_siembra=None, obs_1=None, obs_2=None, fecha_actualizacion=None, prop_ref_lote='7d36541d3cc04cfdb08b4f13f08afe75', geometria='0106000020E61000000100000001030000000100000005000000D4125EC1EB8E4FC0141E3352A52331C0CE084065E28E4FC0F05235EFA52331C06606D87FE28E4FC0147C53764B2331C05E3AD179EB8E4FC0147C53764B2331C0D4125EC1EB8E4FC0141E3352A52331C0', estado_lote_1ra='APROBADO', estado_lote_2da='SEMBRADO')])\n",
      "====================== 8684\n",
      "credito(fecha_registro='2023-11-16 00:59:31.305131+00:00', amigo_id='7b05bd88da494a7e8b48762a087c38f7', semana_1ra='S', semana_2da='S23', institucion=1, canhero='1182 / BOHORQUEZ FERNANDEZ NICANOR', solicitado=5.0, total_1ra_insp=None, estado_1ra_insp='PENDIENTE', fecha_1ra_insp=None, cite_1ra_insp=None, respon_1ra_insp=None, obs_1ra=None, link_doc_1ra=None, total_2da_insp=5.4, estado_2da_insp='APROBADO', fecha_2da_insp='06/06/2024', cite_2da_insp=142, respon_2da_insp='Rogelio Acuña Rodríguez', obs_2da=None, link_doc_2da=None, total_nacido=None, total_no_nacido=None, muestreo=False, glifosato=False, nivelacion_1=False, drenaje=False, romeplow=True, rastra=True, subsolado=False, rotacion=True, arado=False, ferti_base=False, enraizadores=True, insecticidas=True, fungicidas=False, preemergente=True, fecha_actualizacion='2024-06-08 12:54:00.849524+00:00', fertilizacion=False, fungi_en_siem=False, insec_en_siem=False, promot_de_brota=False, pre_emergente=False, post_emergente=False, cultivado=False, ctrl_bio_tricho=False, insect_fisio_otros=False, ctrl_malezas=False, nivelacion_2=False, drenajes=False, financiamiento='IAG', id=400, total_sembrado_2da=5.4, semana_3ra=None, fecha_3ra_insp=None, total_3ra_insp=None, respon_3ra_insp='Rogelio Acuña Rodríguez', link_doc_3ra=None, estado_3ra_insp=None, cite_3ra_insp=None, fecha_informe='07/06/2024')\n",
      "L1.3 24a8bc03744e42f6ba562aa53a9b48bf\n",
      "propiedad(fecha_de_registro='2024-06-08 12:54:52+00:00', amigo_id='13b58bb26e8b451a9cce2ae154939b8e', ubicacion='0101000020E61000009677FEFF84A94FC0786643A1294331C0', propiedad='623 / PROPIEDAD BOHORQUEZ', tenencia='PROPIO', fecha_actualizacion='2024-06-08 12:54:52+00:00', insp_ref_prop='7b05bd88da494a7e8b48762a087c38f7', lotes=[lote(fecha_de_registro='2024-06-08 12:56:10+00:00', amigo_id='24a8bc03744e42f6ba562aa53a9b48bf', lote='L1.3', superficie=5.4, textura='F', lote_semillero='L3', variedad_semillero='CITTCA 0563', variedad_sugerida='CITTCA 0563', estado_semillero='BUENO', mes_siembra='MAYO', variedad_sembrada=None, fecha_siembra=None, estado_de_siembra=None, obs_1=None, obs_2=None, fecha_actualizacion=None, prop_ref_lote='13b58bb26e8b451a9cce2ae154939b8e', geometria='0106000020E6100000010000000103000000010000000700000016913A2B9BA94FC04CD1D342044331C0C8B9F2707AA94FC0C421B329DD4231C060A2DBBE6CA94FC0582673064F4331C05EA579A05DA94FC0D88864B5E54331C07CD278EA5FA94FC0A4FEC7FCE84331C0FEC70A927DA94FC0244821950C4431C016913A2B9BA94FC04CD1D342044331C0', estado_lote_1ra='APROBADO', estado_lote_2da='SEMBRADO')])\n",
      "====================== 1182\n",
      "credito(fecha_registro='2023-11-16 00:59:31.305131+00:00', amigo_id='ca61bfcf9f644fb2957796906177eba8', semana_1ra='S', semana_2da='S23', institucion=66, canhero='41980 / CASANOVA VELASCO JULIO CESAR', solicitado=30.0, total_1ra_insp=None, estado_1ra_insp='PENDIENTE', fecha_1ra_insp=None, cite_1ra_insp=None, respon_1ra_insp=None, obs_1ra=None, link_doc_1ra=None, total_2da_insp=25.9, estado_2da_insp='APROBADO', fecha_2da_insp='05/06/2024', cite_2da_insp=145, respon_2da_insp='Rogelio Acuña Rodríguez', obs_2da=None, link_doc_2da=None, total_nacido=None, total_no_nacido=None, muestreo=False, glifosato=True, nivelacion_1=False, drenaje=False, romeplow=True, rastra=True, subsolado=False, rotacion=True, arado=False, ferti_base=False, enraizadores=True, insecticidas=True, fungicidas=True, preemergente=True, fecha_actualizacion='2024-06-08 13:19:53.114028+00:00', fertilizacion=False, fungi_en_siem=False, insec_en_siem=False, promot_de_brota=False, pre_emergente=False, post_emergente=False, cultivado=False, ctrl_bio_tricho=False, insect_fisio_otros=False, ctrl_malezas=False, nivelacion_2=False, drenajes=False, financiamiento='IAG', id=309, total_sembrado_2da=25.9, semana_3ra=None, fecha_3ra_insp=None, total_3ra_insp=None, respon_3ra_insp=None, link_doc_3ra=None, estado_3ra_insp=None, cite_3ra_insp=None, fecha_informe='06/06/2024')\n",
      "L5 44ec040077a14ae698f7e577060fcbeb\n",
      "L1 e1d389a10700415db674807d34af691e\n",
      "L3 fe54e9717390427aa37ce07aa6b8a6ff\n",
      "L4 03c914680fd641b4b08aecefc147445b\n",
      "L6 94365bb3f7fd4ea9b9960864ff048ada\n",
      "L7 b9222e5f944a4df1be771d69f3f010ed\n",
      "propiedad(fecha_de_registro='2024-06-08 13:20:33+00:00', amigo_id='15ee16cffbda4bec841b12a99eec5174', ubicacion='0101000020E6100000D8F8C2EA97804FC088826558014931C0', propiedad='556 / SAN MARTIN--CASANOVA', tenencia='PROPIO', fecha_actualizacion='2024-06-08 13:20:33+00:00', insp_ref_prop='ca61bfcf9f644fb2957796906177eba8', lotes=[lote(fecha_de_registro='2024-06-08 13:27:28+00:00', amigo_id='44ec040077a14ae698f7e577060fcbeb', lote='L5', superficie=4.58, textura='FA', lote_semillero='L8', variedad_semillero='UCG 90-20', variedad_sugerida='UCG 90-20', estado_semillero='BUENO', mes_siembra='MAYO', variedad_sembrada=None, fecha_siembra=None, estado_de_siembra=None, obs_1=None, obs_2=None, fecha_actualizacion=None, prop_ref_lote='15ee16cffbda4bec841b12a99eec5174', geometria='0106000020E6100000010000000103000000010000000500000096ED81423F7F4FC08C371BB5FA4931C0AE0AC40DC37E4FC0BCFADA81764A31C0D03502A1D27E4FC010928A36AB4A31C02C074FF04D7F4FC0A4CCD0D62E4A31C096ED81423F7F4FC08C371BB5FA4931C0', estado_lote_1ra='APROBADO', estado_lote_2da='SEMBRADO'), lote(fecha_de_registro='2024-06-08 13:22:07+00:00', amigo_id='e1d389a10700415db674807d34af691e', lote='L1', superficie=3.51, textura='F', lote_semillero='L8', variedad_semillero='UCG 90-20', variedad_sugerida='UCG 90-20', estado_semillero='BUENO', mes_siembra='MAYO', variedad_sembrada=None, fecha_siembra=None, estado_de_siembra=None, obs_1=None, obs_2=None, fecha_actualizacion=None, prop_ref_lote='15ee16cffbda4bec841b12a99eec5174', geometria='0106000020E610000001000000010300000001000000090000002CBEABECC0804FC090A024A2C14831C0CA133110C3804FC0F066B984C34831C034C0CBC1CD804FC05CCCC7EEED4831C0B8064F3AC3804FC0D84D89FCF74831C08ADFA8B8C3804FC018A167D0FA4831C02A18B56842804FC004391C7F574931C05EECCE3C29804FC02CB8643D564931C04CDFEC6629804FC06843D027524931C02CBEABECC0804FC090A024A2C14831C0', estado_lote_1ra='APROBADO', estado_lote_2da='SEMBRADO'), lote(fecha_de_registro='2024-06-08 13:23:45+00:00', amigo_id='fe54e9717390427aa37ce07aa6b8a6ff', lote='L3', superficie=4.28, textura='FA', lote_semillero='L8', variedad_semillero='UCG 90-20', variedad_sugerida='UCG 90-20', estado_semillero='BUENO', mes_siembra='MAYO', variedad_sembrada=None, fecha_siembra=None, estado_de_siembra=None, obs_1=None, obs_2=None, fecha_actualizacion=None, prop_ref_lote='15ee16cffbda4bec841b12a99eec5174', geometria='0106000020E610000001000000010300000001000000060000002E7207F6C47F4FC0EC9C58D2B54931C0B6F02C20B57F4FC0F810686D824931C056C9CB242A804FC0ECD4CAE40C4931C0A0D119DB2E804FC0BCDF48A60E4931C00A8FAA973A804FC04C07A24C3C4931C02E7207F6C47F4FC0EC9C58D2B54931C0', estado_lote_1ra='APROBADO', estado_lote_2da='SEMBRADO'), lote(fecha_de_registro='2024-06-08 13:25:15+00:00', amigo_id='03c914680fd641b4b08aecefc147445b', lote='L4', superficie=4.25, textura='FA', lote_semillero='L8', variedad_semillero='UCG 90-20', variedad_sugerida='UCG 90-20', estado_semillero='BUENO', mes_siembra='MAYO', variedad_sembrada=None, fecha_siembra=None, estado_de_siembra=None, obs_1=None, obs_2=None, fecha_actualizacion=None, prop_ref_lote='15ee16cffbda4bec841b12a99eec5174', geometria='0106000020E61000000100000001030000000100000005000000787F0DC2C37F4FC0CC417D07B74931C0F09FCD5CB47F4FC0A4D128BF834931C03E391D13407F4FC0D4B6E628FA4931C0B48E41754E7F4FC00C4E5E952D4A31C0787F0DC2C37F4FC0CC417D07B74931C0', estado_lote_1ra='APROBADO', estado_lote_2da='SEMBRADO'), lote(fecha_de_registro='2024-06-08 13:30:46+00:00', amigo_id='94365bb3f7fd4ea9b9960864ff048ada', lote='L6', superficie=4.91, textura='FA', lote_semillero='L8', variedad_semillero='UCG 90-20', variedad_sugerida='UCG 90-20', estado_semillero='BUENO', mes_siembra='MAYO', variedad_sembrada=None, fecha_siembra=None, estado_de_siembra=None, obs_1=None, obs_2=None, fecha_actualizacion=None, prop_ref_lote='15ee16cffbda4bec841b12a99eec5174', geometria='0106000020E61000000100000001030000000100000005000000E6465056C27E4FC098ACFE20774A31C084AAD2F63E7E4FC024503638FC4A31C07E8E8DF14C7E4FC09CD4E686314B31C0BA5384D7D17E4FC030AAECA4AB4A31C0E6465056C27E4FC098ACFE20774A31C0', estado_lote_1ra='APROBADO', estado_lote_2da='SEMBRADO'), lote(fecha_de_registro='2024-06-08 13:32:49+00:00', amigo_id='b9222e5f944a4df1be771d69f3f010ed', lote='L7', superficie=4.37, textura='F', lote_semillero='L8', variedad_semillero='UCG 90-20', variedad_sugerida='UCG 90-20', estado_semillero='BUENO', mes_siembra='MAYO', variedad_sembrada=None, fecha_siembra=None, estado_de_siembra=None, obs_1=None, obs_2=None, fecha_actualizacion=None, prop_ref_lote='15ee16cffbda4bec841b12a99eec5174', geometria='0106000020E61000000100000001030000000100000007000000DAFD6FA9E07D4FC0E8BBD4CE9E4B31C05CEB8056DE7D4FC02413F6DA9C4B31C078348203BB7D4FC0A464A9DF814B31C0F2ACA1CFD27D4FC0A40DC3436A4B31C0287F13533E7E4FC0EC81640DFD4A31C018B7EDF14B7E4FC0ACF88CA9324B31C0DAFD6FA9E07D4FC0E8BBD4CE9E4B31C0', estado_lote_1ra='APROBADO', estado_lote_2da='SEMBRADO')])\n",
      "====================== 41980\n",
      "credito(fecha_registro='2023-11-16 00:59:31.305131+00:00', amigo_id='68070ad00b7644a8a61ea1319e43500c', semana_1ra='S', semana_2da='S23', institucion=79, canhero='14760 / VARGAS PINTO RENE', solicitado=15.0, total_1ra_insp=None, estado_1ra_insp='PENDIENTE', fecha_1ra_insp=None, cite_1ra_insp=None, respon_1ra_insp=None, obs_1ra=None, link_doc_1ra=None, total_2da_insp=42.89, estado_2da_insp='APROBADO', fecha_2da_insp='08/06/2024', cite_2da_insp=149, respon_2da_insp='Rogelio Acuña Rodríguez', obs_2da=None, link_doc_2da=None, total_nacido=None, total_no_nacido=None, muestreo=False, glifosato=False, nivelacion_1=False, drenaje=False, romeplow=True, rastra=True, subsolado=False, rotacion=False, arado=False, ferti_base=False, enraizadores=True, insecticidas=True, fungicidas=True, preemergente=True, fecha_actualizacion='2024-06-08 15:00:02.183873+00:00', fertilizacion=False, fungi_en_siem=False, insec_en_siem=False, promot_de_brota=False, pre_emergente=False, post_emergente=False, cultivado=False, ctrl_bio_tricho=False, insect_fisio_otros=False, ctrl_malezas=False, nivelacion_2=False, drenajes=False, financiamiento='IAG', id=350, total_sembrado_2da=42.89, semana_3ra=None, fecha_3ra_insp=None, total_3ra_insp=None, respon_3ra_insp=None, link_doc_3ra=None, estado_3ra_insp=None, cite_3ra_insp=None, fecha_informe='09/06/2024')\n",
      "L1.1 0906a249790548e596f98768692a69c4\n",
      "L5.3 a704641463a8480b9fb4033a0cf39b19\n",
      "L8.2 774d3826a93c447abd26e848edb27d21\n",
      "L5.2 aed0b6deae324b77988911e8efe8de87\n",
      "L8.1 758b25a966bd4f79bbeb9f4a113b3bfa\n",
      "L6.1 074a69908aa84f57acf4d9833446d6c5\n",
      "L13.2 26f951a350d2416f97cad321c41a6bb9\n",
      "L4.1 aaf1d4b0b3f94178803ced0383e3a60e\n",
      "L10 ad07cf34705546809d97e2480d0256d5\n",
      "L6.1 b5e5fd2a274845c290b4068ef3448bcf\n",
      "L2.2 003b2df951f5428d83a492352467a0e7\n",
      "L4.1 bea667319f01426a8fbc7a2f77ed5e78\n",
      "L1.4 3207ca163f234a53b4e6480e77ba8996\n",
      "L2 dc69b6d897584d0e9be7ecdbe26803c8\n",
      "L1.2 c9dfbd8ac3f04f799afee91eebc1e12f\n",
      "L1.4 0b9370303d3a47e4859fe5d249379120\n",
      "L3.1 8f60a7f864854697810c2ec5520fe5fe\n",
      "L1.1 5af6d8168f844be585c93b56145b0f73\n",
      "L5.1 64c2b85057484496b4b0f8093a692da0\n",
      "L6 4549741fb9374cee858cfa6103dc5408\n",
      "L2.1 e7fc3f71103642b8bf7b1c36b3efc975\n",
      "L4.2 0d948ca32dc748e6a22da3cfd5827cb6\n",
      "propiedad(fecha_de_registro='2024-06-08 15:08:36+00:00', amigo_id='06436150a38441b2b802768df3f888aa', ubicacion='0101000020E61000003485605DFE954FC03804BDDD4D4631C0', propiedad='852 / BARRIAL VARGAS II--RENE VARGAS', tenencia='PROPIO', fecha_actualizacion='2024-06-08 15:08:36+00:00', insp_ref_prop='68070ad00b7644a8a61ea1319e43500c', lotes=[lote(fecha_de_registro='2024-06-08 15:27:58+00:00', amigo_id='0906a249790548e596f98768692a69c4', lote='L1.1', superficie=2.47, textura='F', lote_semillero='L13.1', variedad_semillero='UCG 90-20', variedad_sugerida='UCG 90-20', estado_semillero='REGULAR', mes_siembra='MAYO', variedad_sembrada=None, fecha_siembra=None, estado_de_siembra=None, obs_1=None, obs_2=None, fecha_actualizacion=None, prop_ref_lote='06436150a38441b2b802768df3f888aa', geometria='0106000020E610000001000000010300000001000000050000004EECE804E4954FC0F86416741F4731C0E29CD4EBFE954FC0A4796140F04631C00630F90DDA954FC01C8F34457E4631C0F84A5C9DC2954FC0B8B03CBBA94631C04EECE804E4954FC0F86416741F4731C0', estado_lote_1ra='APROBADO', estado_lote_2da='SEMBRADO'), lote(fecha_de_registro='2024-06-08 15:36:29+00:00', amigo_id='a704641463a8480b9fb4033a0cf39b19', lote='L5.3', superficie=2.13, textura='F', lote_semillero='L13.1', variedad_semillero='UCG 90-20', variedad_sugerida='UCG 90-20', estado_semillero='BUENO', mes_siembra='MAYO', variedad_sembrada=None, fecha_siembra=None, estado_de_siembra=None, obs_1=None, obs_2=None, fecha_actualizacion=None, prop_ref_lote='06436150a38441b2b802768df3f888aa', geometria='0106000020E610000001000000010300000001000000050000005A19F70EF3954FC01CA8CD26BF4631C06C431F8702964FC0143512C0EC4631C034F667F633964FC01C48DA5B7C4631C0C077B32C26964FC0C4E84D0B504631C05A19F70EF3954FC01CA8CD26BF4631C0', estado_lote_1ra='APROBADO', estado_lote_2da='SEMBRADO'), lote(fecha_de_registro='2024-06-08 15:39:54+00:00', amigo_id='774d3826a93c447abd26e848edb27d21', lote='L8.2', superficie=0.78, textura='F', lote_semillero='L13.1', variedad_semillero='UCG 90-20', variedad_sugerida='UCG 90-20', estado_semillero='BUENO', mes_siembra='MAYO', variedad_sembrada=None, fecha_siembra=None, estado_de_siembra=None, obs_1=None, obs_2=None, fecha_actualizacion=None, prop_ref_lote='06436150a38441b2b802768df3f888aa', geometria='0106000020E610000001000000010300000001000000060000000800A64F65964FC0C46EF161724531C0025BB73162964FC0481BA2EE5B4531C03ED3B27F99964FC054581162ED4431C038FE89829E964FC0781AA37BEA4431C054094375A2964FC0F8C98DF6ED4431C00800A64F65964FC0C46EF161724531C0', estado_lote_1ra='APROBADO', estado_lote_2da='SEMBRADO'), lote(fecha_de_registro='2024-06-08 15:31:10+00:00', amigo_id='aed0b6deae324b77988911e8efe8de87', lote='L5.2', superficie=2.55, textura='F', lote_semillero='L13.1', variedad_semillero='UCG 90-20', variedad_sugerida='UCG 90-20', estado_semillero='BUENO', mes_siembra='MAYO', variedad_sembrada=None, fecha_siembra=None, estado_de_siembra=None, obs_1=None, obs_2=None, fecha_actualizacion=None, prop_ref_lote='06436150a38441b2b802768df3f888aa', geometria='0106000020E61000000100000001030000000100000007000000701F82F3D4954FC000FCF10A5C4631C0701F82F3D4954FC0F0888F31634631C01018C265DA954FC040601CE56E4631C0EA09424AE5954FC0BC9BC3D28B4631C068C40D0D1A964FC048FA8F2F224631C012B48ADF09964FC000F41BE3E74531C0701F82F3D4954FC000FCF10A5C4631C0', estado_lote_1ra='APROBADO', estado_lote_2da='SEMBRADO'), lote(fecha_de_registro='2024-06-08 15:34:19+00:00', amigo_id='758b25a966bd4f79bbeb9f4a113b3bfa', lote='L8.1', superficie=2.95, textura='F', lote_semillero='L13.1', variedad_semillero='UCG 90-20', variedad_sugerida='UCG 90-20', estado_semillero='BUENO', mes_siembra='MAYO', variedad_sembrada=None, fecha_siembra=None, estado_de_siembra=None, obs_1=None, obs_2=None, fecha_actualizacion=None, prop_ref_lote='06436150a38441b2b802768df3f888aa', geometria='0106000020E61000000100000001030000000100000009000000F4760C83C8964FC0FCC17820154531C09C4D7CA1D1964FC0A44463FE274531C08C4B14DB75964FC0E40E683FF04531C0A269ECF96E964FC034D0B2D5C04531C084C9AEE786964FC080C2A2469A4531C0C842AB937F964FC0089ABE91824531C028BDDFA0A0964FC074E6F2BE424531C01CEDC097AC964FC0A4CF2A99514531C0F4760C83C8964FC0FCC17820154531C0', estado_lote_1ra='APROBADO', estado_lote_2da='SEMBRADO'), lote(fecha_de_registro='2024-06-08 15:35:25+00:00', amigo_id='074a69908aa84f57acf4d9833446d6c5', lote='L6.1', superficie=0.87, textura='F', lote_semillero='L13.1', variedad_semillero='UCG 90-20', variedad_sugerida='UCG 90-20', estado_semillero='BUENO', mes_siembra='MAYO', variedad_sembrada=None, fecha_siembra=None, estado_de_siembra=None, obs_1=None, obs_2=None, fecha_actualizacion=None, prop_ref_lote='06436150a38441b2b802768df3f888aa', geometria='0106000020E6100000010000000103000000010000000600000014EFA0935B964FC014FD55C33D4531C07C384C825D964FC03C9E3A3D3F4531C05005D78F64964FC0A865E525774531C056E759FA52964FC000F3332D984531C08E4FCC3A43964FC05886DBDF704531C014EFA0935B964FC014FD55C33D4531C0', estado_lote_1ra='APROBADO', estado_lote_2da='SEMBRADO'), lote(fecha_de_registro='2024-06-08 15:37:35+00:00', amigo_id='26f951a350d2416f97cad321c41a6bb9', lote='L13.2', superficie=2.64, textura='FA', lote_semillero='L13.1', variedad_semillero='UCG 90-20', variedad_sugerida='CITTCA 85-22', estado_semillero='BUENO', mes_siembra='MAYO', variedad_sembrada=None, fecha_siembra=None, estado_de_siembra=None, obs_1=None, obs_2=None, fecha_actualizacion=None, prop_ref_lote='06436150a38441b2b802768df3f888aa', geometria='0106000020E610000001000000010300000001000000060000001A4568EFDE964FC0B4DAD273C54431C006C38195E2964FC0B0688AF5C34431C0A85D591626974FC0508B4E9F9F4431C024737A5A20974FC0508579E0664431C0448A28D0D5964FC090E8C1C2804431C01A4568EFDE964FC0B4DAD273C54431C0', estado_lote_1ra='APROBADO', estado_lote_2da='SEMBRADO'), lote(fecha_de_registro='2024-06-08 15:32:57+00:00', amigo_id='aaf1d4b0b3f94178803ced0383e3a60e', lote='L4.1', superficie=5.06, textura='F', lote_semillero='L13.1', variedad_semillero='UCG 90-20', variedad_sugerida='UCG 90-20', estado_semillero='BUENO', mes_siembra='MAYO', variedad_sembrada=None, fecha_siembra=None, estado_de_siembra=None, obs_1=None, obs_2=None, fecha_actualizacion=None, prop_ref_lote='06436150a38441b2b802768df3f888aa', geometria='0106000020E610000001000000010300000001000000090000004450465CC8954FC0000037442D4631C0821381B3C6954FC0C0903A3F2F4631C082C82171A3954FC0B0825B4CC44531C0D04F6C60EF954FC0AC30F8E5484531C00AE0F982F2954FC02043E4AD494531C0ECDF1F02FA954FC0C891909D674531C00CEA4BE2DE954FC0F8272ADB994531C03AE5C725F8954FC02476C614CC4531C04450465CC8954FC0000037442D4631C0', estado_lote_1ra='APROBADO', estado_lote_2da='SEMBRADO')])\n",
      "propiedad(fecha_de_registro='2024-06-08 15:09:23+00:00', amigo_id='dc636436b9f54506a8ebbb4e73973272', ubicacion='0101000020E61000007E1C5DDB39904FC0D0B24E75963D31C0', propiedad='895 / EL RECUERDO-MARIO VARGAS', tenencia='PROPIO', fecha_actualizacion='2024-06-08 15:09:23+00:00', insp_ref_prop='68070ad00b7644a8a61ea1319e43500c', lotes=[lote(fecha_de_registro='2024-06-08 15:51:11+00:00', amigo_id='ad07cf34705546809d97e2480d0256d5', lote='L10', superficie=2.61, textura='F', lote_semillero='L9', variedad_semillero='UCG 90-20', variedad_sugerida='UCG 90-20', estado_semillero='BUENO', mes_siembra='MAYO', variedad_sembrada=None, fecha_siembra=None, estado_de_siembra=None, obs_1=None, obs_2=None, fecha_actualizacion=None, prop_ref_lote='dc636436b9f54506a8ebbb4e73973272', geometria='0106000020E6100000010000000103000000010000000700000094C5B1B263904FC028C24B14D13D31C0764945015D904FC0BC2235F4F13D31C0BE87F6B542904FC070A5D4A6FF3D31C0088C87322D904FC04C76213AB53D31C020330C4E30904FC06C5B89AB613D31C0DC435F2C33904FC0387117475B3D31C094C5B1B263904FC028C24B14D13D31C0', estado_lote_1ra='APROBADO', estado_lote_2da='SEMBRADO'), lote(fecha_de_registro='2024-06-08 15:52:52+00:00', amigo_id='b5e5fd2a274845c290b4068ef3448bcf', lote='L6.1', superficie=1.18, textura='F', lote_semillero='L9', variedad_semillero='UCG 90-20', variedad_sugerida='UCG 90-20', estado_semillero='BUENO', mes_siembra='MAYO', variedad_sembrada=None, fecha_siembra=None, estado_de_siembra=None, obs_1=None, obs_2=None, fecha_actualizacion=None, prop_ref_lote='dc636436b9f54506a8ebbb4e73973272', geometria='0106000020E61000000100000001030000000100000005000000C8FCA81CDB8F4FC0CC3509FA9D3C31C09A10AAEDB88F4FC0C40F5DCDB23C31C0B0B004F0A98F4FC01088D11B743C31C00A9C0477C78F4FC0F0EE414F673C31C0C8FCA81CDB8F4FC0CC3509FA9D3C31C0', estado_lote_1ra='APROBADO', estado_lote_2da='SEMBRADO'), lote(fecha_de_registro='2024-06-08 15:57:22+00:00', amigo_id='003b2df951f5428d83a492352467a0e7', lote='L2.2', superficie=1.26, textura='F', lote_semillero='L', variedad_semillero='UCG 90-20', variedad_sugerida='UCG 90-20', estado_semillero='BUENO', mes_siembra='MAYO', variedad_sembrada=None, fecha_siembra=None, estado_de_siembra=None, obs_1=None, obs_2=None, fecha_actualizacion=None, prop_ref_lote='dc636436b9f54506a8ebbb4e73973272', geometria='0106000020E6100000010000000103000000010000000700000012FAF657F28F4FC05C5052706E3C31C06A530E56F58F4FC038C09CBB563C31C08458E114FD8F4FC048B13922383C31C018FCDD2EFA8F4FC0D0B6C996263C31C0AE4CAF7DE88F4FC090A0D2A2FC3B31C056D60FD6D38F4FC0DCBC1ADB253C31C012FAF657F28F4FC05C5052706E3C31C0', estado_lote_1ra='APROBADO', estado_lote_2da='SEMBRADO'), lote(fecha_de_registro='2024-06-08 15:59:16+00:00', amigo_id='bea667319f01426a8fbc7a2f77ed5e78', lote='L4.1', superficie=1.5, textura='F', lote_semillero='L3', variedad_semillero='UCG 90-20', variedad_sugerida='UCG 90-20', estado_semillero='BUENO', mes_siembra='MAYO', variedad_sembrada=None, fecha_siembra=None, estado_de_siembra=None, obs_1=None, obs_2=None, fecha_actualizacion=None, prop_ref_lote='dc636436b9f54506a8ebbb4e73973272', geometria='0106000020E6100000010000000103000000010000000600000028CE280CAD8F4FC00CE6407F1A3C31C07084E904C88F4FC098CEB9740C3C31C0382EFB6E9D8F4FC0387F95AEAA3B31C06868830A8B8F4FC0E80C701CB23B31C0CE5B39728B8F4FC0005DE034B53B31C028CE280CAD8F4FC00CE6407F1A3C31C0', estado_lote_1ra='APROBADO', estado_lote_2da='SEMBRADO'), lote(fecha_de_registro='2024-06-08 16:00:21+00:00', amigo_id='3207ca163f234a53b4e6480e77ba8996', lote='L1.4', superficie=2.78, textura='F', lote_semillero='L3', variedad_semillero='UCG 90-20', variedad_sugerida='UCG 90-20', estado_semillero='BUENO', mes_siembra='MAYO', variedad_sembrada=None, fecha_siembra=None, estado_de_siembra=None, obs_1=None, obs_2=None, fecha_actualizacion=None, prop_ref_lote='dc636436b9f54506a8ebbb4e73973272', geometria='0106000020E610000001000000010300000001000000080000000C2506524E904FC0C417F5BEE33C31C0924FF5E24F904FC0787F9614FB3C31C00AF9D00758904FC00C5C6003133D31C0DAC6FA6846904FC0E06736022D3D31C042C9FA1B09904FC0DC943588A83C31C00EB066EB09904FC09048AEA9A43C31C0D6D79F6A21904FC070D21B1D893C31C00C2506524E904FC0C417F5BEE33C31C0', estado_lote_1ra='APROBADO', estado_lote_2da='SEMBRADO'), lote(fecha_de_registro='2024-06-08 16:02:18+00:00', amigo_id='dc69b6d897584d0e9be7ecdbe26803c8', lote='L2', superficie=2.19, textura='F', lote_semillero='L3', variedad_semillero='UCG 90-20', variedad_sugerida='UCG 90-20', estado_semillero='BUENO', mes_siembra='MAYO', variedad_sembrada=None, fecha_siembra=None, estado_de_siembra=None, obs_1=None, obs_2=None, fecha_actualizacion=None, prop_ref_lote='dc636436b9f54506a8ebbb4e73973272', geometria='0106000020E610000001000000010300000001000000070000007298E8F9E98F4FC05486A661E53B31C050BF5B49D98F4FC0103891E4BB3B31C046B2A0B0E78F4FC06875E0A38A3B31C024CDF9A9F28F4FC09C745F206F3B31C0A4EC3BD6F88F4FC0CCF6F9FF6F3B31C0E29E55371A904FC06C739315AA3B31C07298E8F9E98F4FC05486A661E53B31C0', estado_lote_1ra='APROBADO', estado_lote_2da='SEMBRADO'), lote(fecha_de_registro='2024-06-08 16:03:22+00:00', amigo_id='c9dfbd8ac3f04f799afee91eebc1e12f', lote='L1.2', superficie=0.89, textura='F', lote_semillero='L3', variedad_semillero='UCG 90-20', variedad_sugerida='UCG 90-20', estado_semillero='BUENO', mes_siembra='MAYO', variedad_sembrada=None, fecha_siembra=None, estado_de_siembra=None, obs_1=None, obs_2=None, fecha_actualizacion=None, prop_ref_lote='dc636436b9f54506a8ebbb4e73973272', geometria='0106000020E610000001000000010300000001000000060000005AB70DD945904FC050C6E84ED03C31C0FC7559F447904FC0C8DC21A4C73C31C0E4F9F7EB45904FC0689EB4C59A3C31C0A21E1A6F35904FC0EC875DEC703C31C040C007EA21904FC00CDADC91883C31C05AB70DD945904FC050C6E84ED03C31C0', estado_lote_1ra='APROBADO', estado_lote_2da='SEMBRADO'), lote(fecha_de_registro='2024-06-08 16:05:03+00:00', amigo_id='0b9370303d3a47e4859fe5d249379120', lote='L1.4', superficie=1.04, textura='F', lote_semillero='L3', variedad_semillero='UCG 90-20', variedad_sugerida='UCG 90-20', estado_semillero='BUENO', mes_siembra='MAYO', variedad_sembrada=None, fecha_siembra=None, estado_de_siembra=None, obs_1=None, obs_2=None, fecha_actualizacion=None, prop_ref_lote='dc636436b9f54506a8ebbb4e73973272', geometria='0106000020E6100000010000000103000000010000000F00000016E6D1568B904FC0202384A0BA3C31C080D4797A8F904FC0A4180ECDB43C31C080D4797A8F904FC0E06322E8A23C31C0C4EF5D867C904FC0A00168C8803C31C0D42F151477904FC0E8255731863C31C0564EFF3476904FC03C23F02A9A3C31C024B56C907A904FC0A84E7E5ACD3C31C00C3AC40C7E904FC0683DEEA9DF3C31C0AE7350C384904FC010507D8BF23C31C0329A4B008A904FC034CECBD1F53C31C038BFECE78B904FC0C802D4E9FA3C31C0E4EB68868D904FC00CBAEA5CF23C31C07E01FAAA8C904FC0EC58CA42DF3C31C074E3337A8A904FC078AC742AD83C31C016E6D1568B904FC0202384A0BA3C31C0', estado_lote_1ra='APROBADO', estado_lote_2da='SEMBRADO'), lote(fecha_de_registro='2024-06-08 16:06:15+00:00', amigo_id='8f60a7f864854697810c2ec5520fe5fe', lote='L3.1', superficie=0.72, textura='F', lote_semillero='L3', variedad_semillero='UCG 90-20', variedad_sugerida='UCG 90-20', estado_semillero='BUENO', mes_siembra='MAYO', variedad_sembrada=None, fecha_siembra=None, estado_de_siembra=None, obs_1=None, obs_2=None, fecha_actualizacion=None, prop_ref_lote='dc636436b9f54506a8ebbb4e73973272', geometria='0106000020E610000001000000010300000001000000050000006C68E18AC98F4FC05CD6EDF8963B31C0348AE8DDA78F4FC068085290C03B31C0EC2BA6AAB48F4FC0DC33D2ABDD3B31C0DA0A4166D08F4FC068F63A36B53B31C06C68E18AC98F4FC05CD6EDF8963B31C0', estado_lote_1ra='APROBADO', estado_lote_2da='SEMBRADO'), lote(fecha_de_registro='2024-06-08 15:49:49+00:00', amigo_id='5af6d8168f844be585c93b56145b0f73', lote='L1.1', superficie=1.37, textura='F', lote_semillero='L9', variedad_semillero='UCG 90-20', variedad_sugerida='UCG 90-20', estado_semillero='BUENO', mes_siembra='MAYO', variedad_sembrada=None, fecha_siembra=None, estado_de_siembra=None, obs_1=None, obs_2=None, fecha_actualizacion=None, prop_ref_lote='dc636436b9f54506a8ebbb4e73973272', geometria='0106000020E61000000100000001030000000100000007000000FA27B039A1904FC0AC3D5BF8B33D31C056BCDDE0C9904FC0F8142F18A43D31C0D0F36442AA904FC0E4D03DB7543D31C03CFDECAEA0904FC008F75385623D31C014DFD7119D904FC018BDE701673D31C07C410C159B904FC0F832C3AB703D31C0FA27B039A1904FC0AC3D5BF8B33D31C0', estado_lote_1ra='APROBADO', estado_lote_2da='SEMBRADO'), lote(fecha_de_registro='2024-06-08 15:53:51+00:00', amigo_id='64c2b85057484496b4b0f8093a692da0', lote='L5.1', superficie=1.08, textura='F', lote_semillero='L9', variedad_semillero='UCG 90-20', variedad_sugerida='UCG 90-20', estado_semillero='BUENO', mes_siembra='MAYO', variedad_sembrada=None, fecha_siembra=None, estado_de_siembra=None, obs_1=None, obs_2=None, fecha_actualizacion=None, prop_ref_lote='dc636436b9f54506a8ebbb4e73973272', geometria='0106000020E61000000100000001030000000100000005000000A8651C43FB8F4FC0ECABD7208A3C31C0607742FEDB8F4FC040D746009D3C31C0126AA33BC88F4FC0AC58E174663C31C06CFE91DFE58F4FC034F9A147563C31C0A8651C43FB8F4FC0ECABD7208A3C31C0', estado_lote_1ra='APROBADO', estado_lote_2da='SEMBRADO')])\n",
      "propiedad(fecha_de_registro='2024-06-08 15:09:49+00:00', amigo_id='a6536d14c7204bab984cc9cc3816b5af', ubicacion='0101000020E6100000EA9C98832D914FC0FC0F7095713E31C0', propiedad='919 / EL RECUERDO III--MARIO VARGAS', tenencia='PROPIO', fecha_actualizacion='2024-06-08 15:09:49+00:00', insp_ref_prop='68070ad00b7644a8a61ea1319e43500c', lotes=[lote(fecha_de_registro='2024-06-08 15:45:50+00:00', amigo_id='4549741fb9374cee858cfa6103dc5408', lote='L6', superficie=5.2, textura='F', lote_semillero='L4', variedad_semillero='UCG 90-20', variedad_sugerida='UCG 90-20', estado_semillero='BUENO', mes_siembra='MAYO', variedad_sembrada=None, fecha_siembra=None, estado_de_siembra=None, obs_1=None, obs_2=None, fecha_actualizacion=None, prop_ref_lote='a6536d14c7204bab984cc9cc3816b5af', geometria='0106000020E61000000100000001030000000100000006000000F41FEE405A914FC024ABA7DDA43E31C0F027E086A4914FC0687C42D27F3F31C0F4077B79A1914FC044F79A4C863F31C0EE8B14457E914FC0847EC53D8E3F31C0327CCD7636914FC018F209C6BF3E31C0F41FEE405A914FC024ABA7DDA43E31C0', estado_lote_1ra='APROBADO', estado_lote_2da='SEMBRADO'), lote(fecha_de_registro='2024-06-08 15:48:41+00:00', amigo_id='e7fc3f71103642b8bf7b1c36b3efc975', lote='L2.1', superficie=0.4, textura='FA', lote_semillero='L4', variedad_semillero='UCG 90-20', variedad_sugerida='CITTCA 85-22', estado_semillero='BUENO', mes_siembra='ABRIL', variedad_sembrada=None, fecha_siembra=None, estado_de_siembra=None, obs_1=None, obs_2=None, fecha_actualizacion=None, prop_ref_lote='a6536d14c7204bab984cc9cc3816b5af', geometria='0106000020E6100000010000000103000000010000000500000026DEF81506914FC024C9EBBFA03D31C00E6CC00EDE904FC044F9A5DEC53D31C03404F022D6904FC09CCFF614B03D31C03EFF7BB604914FC008237F4D9B3D31C026DEF81506914FC024C9EBBFA03D31C0', estado_lote_1ra='APROBADO', estado_lote_2da='SEMBRADO'), lote(fecha_de_registro='2024-06-08 15:47:35+00:00', amigo_id='0d948ca32dc748e6a22da3cfd5827cb6', lote='L4.2', superficie=1.22, textura='FA', lote_semillero='L4', variedad_semillero='UCG 90-20', variedad_sugerida='CITTCA 85-22', estado_semillero='BUENO', mes_siembra='ABRIL', variedad_sembrada=None, fecha_siembra=None, estado_de_siembra=None, obs_1=None, obs_2=None, fecha_actualizacion=None, prop_ref_lote='a6536d14c7204bab984cc9cc3816b5af', geometria='0106000020E610000001000000010300000001000000090000008E4439842E914FC02CC5F9903E3E31C0CA9DA6532A914FC0C4710A023E3E31C030CF32061F914FC02CC5F9903E3E31C0C2D9DD9B0C914FC0E46DE5A94A3E31C0C62F268929914FC0A80241549B3E31C08E80282B36914FC04C8A35EF8F3E31C09A1D281034914FC0145F298A843E31C06E0EF38D35914FC0305274807D3E31C08E4439842E914FC02CC5F9903E3E31C0', estado_lote_1ra='APROBADO', estado_lote_2da='SEMBRADO')])\n",
      "====================== 14760\n",
      "credito(fecha_registro='2023-11-16 00:59:31.305131+00:00', amigo_id='ec36d197c5714f31980456de955982ba', semana_1ra='S49', semana_2da='S23', institucion=81, canhero='1783 / CACERES MAMANI AQUILINO', solicitado=8.0, total_1ra_insp=7.62, estado_1ra_insp='APROBADO', fecha_1ra_insp='2023-12-07 11:26:56+00:00', cite_1ra_insp=580, respon_1ra_insp='Rogelio Acuña Rodríguez', obs_1ra=None, link_doc_1ra='https://drive.google.com/file/d/1r5ebevDkh7JICrpRVStz1_Q1dg_3L4In/view?usp=drivesdk', total_2da_insp=5.87, estado_2da_insp='APROBADO', fecha_2da_insp='07/06/2024', cite_2da_insp=136, respon_2da_insp='Rogelio Acuña Rodríguez', obs_2da=None, link_doc_2da=None, total_nacido=None, total_no_nacido=None, muestreo=False, glifosato=False, nivelacion_1=False, drenaje=False, romeplow=True, rastra=True, subsolado=False, rotacion=True, arado=False, ferti_base=False, enraizadores=False, insecticidas=False, fungicidas=False, preemergente=True, fecha_actualizacion='2024-06-07 18:47:37.613274+00:00', fertilizacion=False, fungi_en_siem=False, insec_en_siem=False, promot_de_brota=False, pre_emergente=False, post_emergente=False, cultivado=False, ctrl_bio_tricho=False, insect_fisio_otros=False, ctrl_malezas=False, nivelacion_2=False, drenajes=False, financiamiento='IAG', id=390, total_sembrado_2da=5.87, semana_3ra=None, fecha_3ra_insp=None, total_3ra_insp=None, respon_3ra_insp=None, link_doc_3ra=None, estado_3ra_insp=None, cite_3ra_insp=None, fecha_informe='08/06/2024')\n",
      "L5.1 c82fde893489405788e3144788fb49b8\n",
      "L1 1f7ee72bdc184c8691f3c2edf8a0b2f4\n",
      "propiedad(fecha_de_registro='2023-12-08 11:35:46+00:00', amigo_id='354679ecf26848a0b86848b3ffab1fd1', ubicacion='0101000020E6100000EC81077AB08D4FC0241755EBDF3331C0', propiedad='449 / PROPIEDAD CACERES--CACERES', tenencia='PROPIO', fecha_actualizacion='2023-12-08 11:35:46+00:00', insp_ref_prop='ec36d197c5714f31980456de955982ba', lotes=[lote(fecha_de_registro='2024-06-07 18:50:29+00:00', amigo_id='c82fde893489405788e3144788fb49b8', lote='L5.1', superficie=1.74, textura='F', lote_semillero='L2', variedad_semillero='UCG 90-20', variedad_sugerida='UCG 90-20', estado_semillero='BUENO', mes_siembra='ABRIL', variedad_sembrada=None, fecha_siembra=None, estado_de_siembra=None, obs_1=None, obs_2=None, fecha_actualizacion=None, prop_ref_lote='354679ecf26848a0b86848b3ffab1fd1', geometria='0106000020E61000000100000001030000000100000007000000B80CBEAF7A8D4FC018651CA0393331C0B6ADAEE6758D4FC0C842F39F693331C0E613E05A718D4FC0A0897765613331C0F24A8DA7438D4FC058A4538AEA3231C02AFD6739638D4FC0208372AFE83231C036B0A4FE798D4FC058C7379F1E3331C0B80CBEAF7A8D4FC018651CA0393331C0', estado_lote_1ra='APROBADO', estado_lote_2da='SEMBRADO'), lote(fecha_de_registro='2023-12-08 11:41:22+00:00', amigo_id='1f7ee72bdc184c8691f3c2edf8a0b2f4', lote='L1', superficie=4.13, textura='FA', lote_semillero='L2', variedad_semillero='UCG 90-20', variedad_sugerida='CITTCA 85-22', estado_semillero='BUENO', mes_siembra='MARZO', variedad_sembrada=None, fecha_siembra=None, estado_de_siembra=None, obs_1=None, obs_2=None, fecha_actualizacion=None, prop_ref_lote='354679ecf26848a0b86848b3ffab1fd1', geometria='0106000020E61000000100000001030000000100000009000000EEC5CD0F7B8D4FC0E28E7AE37A3331C09EE4D01A9F8D4FC06D1580C1DC3331C0F6AA6154CF8D4FC04245DCAC5D3431C095C78EBEE28D4FC0DE53AB783E3431C04AE188F5B18D4FC0E171F8ECB93331C0767BCC84888D4FC069700EA3473331C0EA265850838D4FC06367D7A4593331C0796FF52A7E8D4FC08EA9A8BE653331C0EEC5CD0F7B8D4FC0E28E7AE37A3331C0', estado_lote_1ra='APROBADO', estado_lote_2da='SEMBRADO')])\n",
      "====================== 1783\n",
      "credito(fecha_registro='2023-11-16 00:59:31.305131+00:00', amigo_id='929f4177d9404b66b10488ece49c1c4e', semana_1ra='S', semana_2da='S23', institucion=304, canhero='15308 / VARGAS SOTO ELVIRA', solicitado=6.0, total_1ra_insp=None, estado_1ra_insp='PENDIENTE', fecha_1ra_insp=None, cite_1ra_insp=None, respon_1ra_insp=None, obs_1ra=None, link_doc_1ra=None, total_2da_insp=7.83, estado_2da_insp='APROBADO', fecha_2da_insp='07/06/2024', cite_2da_insp=134, respon_2da_insp='Rogelio Acuña Rodríguez', obs_2da=None, link_doc_2da=None, total_nacido=None, total_no_nacido=None, muestreo=False, glifosato=False, nivelacion_1=False, drenaje=False, romeplow=True, rastra=True, subsolado=False, rotacion=True, arado=False, ferti_base=False, enraizadores=True, insecticidas=True, fungicidas=False, preemergente=True, fecha_actualizacion='2024-06-07 17:32:49.559271+00:00', fertilizacion=False, fungi_en_siem=False, insec_en_siem=False, promot_de_brota=False, pre_emergente=False, post_emergente=False, cultivado=False, ctrl_bio_tricho=False, insect_fisio_otros=False, ctrl_malezas=False, nivelacion_2=False, drenajes=False, financiamiento='IAG', id=398, total_sembrado_2da=7.83, semana_3ra=None, fecha_3ra_insp=None, total_3ra_insp=None, respon_3ra_insp=None, link_doc_3ra=None, estado_3ra_insp=None, cite_3ra_insp=None, fecha_informe='08/06/2024')\n",
      "L5 1508f6a2525b48168e5c3d049b02b716\n",
      "propiedad(fecha_de_registro='2024-06-07 17:37:06+00:00', amigo_id='e4ce4b4e4a4b4cf59aedde2a18adfabd', ubicacion='0101000020E6100000C0E23A3DAC9A4FC044FA7B18FC0031C0', propiedad='1303 / P-020 SIND.AGRA.FAJA CHOROLQUE--ELVIRA VARGAS', tenencia='PROPIO', fecha_actualizacion='2024-06-07 17:37:06+00:00', insp_ref_prop='929f4177d9404b66b10488ece49c1c4e', lotes=[lote(fecha_de_registro='2024-06-07 17:54:03+00:00', amigo_id='1508f6a2525b48168e5c3d049b02b716', lote='L5', superficie=7.83, textura='F', lote_semillero='L6', variedad_semillero='UCG 90-20', variedad_sugerida='UCG 90-20', estado_semillero='BUENO', mes_siembra='ABRIL', variedad_sembrada='UCG 90-20', fecha_siembra=None, estado_de_siembra=None, obs_1=None, obs_2=None, fecha_actualizacion=None, prop_ref_lote='e4ce4b4e4a4b4cf59aedde2a18adfabd', geometria='0106000020E61000000100000001030000000100000005000000CE2D160BC89A4FC00C10EAF6880131C0603CB3708A9A4FC068C498DA860131C0960CC7228B9A4FC080E0164B9D0031C02C145A74C79A4FC0A069F6439E0031C0CE2D160BC89A4FC00C10EAF6880131C0', estado_lote_1ra='APROBADO', estado_lote_2da='SEMBRADO')])\n",
      "====================== 15308\n",
      "credito(fecha_registro='2023-11-16 00:59:31.305131+00:00', amigo_id='814579cf99c84485b92c2e9596149e93', semana_1ra='S', semana_2da='S23', institucion=3, canhero='7829 / SENA VILLARROEL DANIEL', solicitado=1.0, total_1ra_insp=None, estado_1ra_insp='PENDIENTE', fecha_1ra_insp=None, cite_1ra_insp=None, respon_1ra_insp=None, obs_1ra=None, link_doc_1ra=None, total_2da_insp=1.09, estado_2da_insp='APROBADO', fecha_2da_insp='06/06/2024', cite_2da_insp=150, respon_2da_insp='Rogelio Acuña Rodríguez', obs_2da=None, link_doc_2da=None, total_nacido=None, total_no_nacido=None, muestreo=False, glifosato=False, nivelacion_1=False, drenaje=False, romeplow=True, rastra=True, subsolado=False, rotacion=False, arado=False, ferti_base=False, enraizadores=False, insecticidas=False, fungicidas=False, preemergente=True, fecha_actualizacion='2024-06-08 19:30:59.340982+00:00', fertilizacion=False, fungi_en_siem=False, insec_en_siem=False, promot_de_brota=False, pre_emergente=False, post_emergente=False, cultivado=False, ctrl_bio_tricho=False, insect_fisio_otros=False, ctrl_malezas=False, nivelacion_2=False, drenajes=False, financiamiento='IAG', id=434, total_sembrado_2da=1.09, semana_3ra=None, fecha_3ra_insp=None, total_3ra_insp=None, respon_3ra_insp=None, link_doc_3ra=None, estado_3ra_insp=None, cite_3ra_insp=None, fecha_informe='07/06/2024')\n",
      "L1 a3e8b8e4b53f48818e0c12d84b775bf7\n",
      "propiedad(fecha_de_registro='2024-06-08 19:29:35+00:00', amigo_id='0f49cd48c3244d589699280819ac8c9f', ubicacion='0101000020E6100000C68253BF2F914FC06C025402382D31C0', propiedad='1073 / SAN LORENZO--CRISTOBAL SEÑA', tenencia='PROPIO', fecha_actualizacion='2024-06-08 19:29:35+00:00', insp_ref_prop='814579cf99c84485b92c2e9596149e93', lotes=[lote(fecha_de_registro='2024-06-08 19:35:47+00:00', amigo_id='a3e8b8e4b53f48818e0c12d84b775bf7', lote='L1', superficie=1.09, textura='F', lote_semillero='L2', variedad_semillero='UCG 90-20', variedad_sugerida='UCG 90-20', estado_semillero='REGULAR', mes_siembra='MAYO', variedad_sembrada=None, fecha_siembra=None, estado_de_siembra=None, obs_1=None, obs_2=None, fecha_actualizacion=None, prop_ref_lote='0f49cd48c3244d589699280819ac8c9f', geometria='0106000020E6100000010000000103000000010000000B0000003626E67C1C914FC0C85138C91B2D31C0DAB4D83F41914FC0980BE2991D2D31C038669F9540914FC09870D7CC482D31C09E5056383A914FC0BC7AB9D54D2D31C0E0AEE2D030914FC0B020B547532D31C0F2B4FA3E30914FC080FEC15C582D31C0B671F1702E914FC014AFBF155B2D31C006B51C3E1F914FC090FE36445B2D31C00E0F86C41E914FC070DF8D73592D31C0B4B728F51E914FC0B0BBE4A2572D31C03626E67C1C914FC0C85138C91B2D31C0', estado_lote_1ra='APROBADO', estado_lote_2da='SEMBRADO')])\n",
      "====================== 7829\n",
      "credito(fecha_registro='2023-11-16 00:59:31.305131+00:00', amigo_id='9a1face7e26441529c5829af6d94635d', semana_1ra='S', semana_2da='S23', institucion=1, canhero='11231 / RAFAEL GARNICA FIDEL', solicitado=5.0, total_1ra_insp=None, estado_1ra_insp='PENDIENTE', fecha_1ra_insp=None, cite_1ra_insp=None, respon_1ra_insp=None, obs_1ra=None, link_doc_1ra=None, total_2da_insp=2.39, estado_2da_insp='APROBADO', fecha_2da_insp='06/06/2024', cite_2da_insp=140, respon_2da_insp='Rogelio Acuña Rodríguez', obs_2da=None, link_doc_2da=None, total_nacido=None, total_no_nacido=None, muestreo=False, glifosato=False, nivelacion_1=False, drenaje=False, romeplow=True, rastra=True, subsolado=False, rotacion=True, arado=False, ferti_base=False, enraizadores=False, insecticidas=False, fungicidas=False, preemergente=False, fecha_actualizacion='2024-06-08 15:00:22.174106+00:00', fertilizacion=False, fungi_en_siem=False, insec_en_siem=False, promot_de_brota=False, pre_emergente=False, post_emergente=False, cultivado=False, ctrl_bio_tricho=False, insect_fisio_otros=False, ctrl_malezas=False, nivelacion_2=False, drenajes=False, financiamiento='IAG', id=399, total_sembrado_2da=2.39, semana_3ra=None, fecha_3ra_insp=None, total_3ra_insp=None, respon_3ra_insp=None, link_doc_3ra=None, estado_3ra_insp=None, cite_3ra_insp=None, fecha_informe='07/06/2024')\n",
      "L3.1 7a4fc7b8180747a3a25cbe4bd335f6c2\n",
      "propiedad(fecha_de_registro='2024-06-08 12:31:39+00:00', amigo_id='2be5ea8755eb4548b1b2831b8e07ec9f', ubicacion='0101000020E6100000B896D14DF3A64FC098B47244223031C0', propiedad='720 / SIND.AGRARIO 2 DE FEBRERO(PARCELA--010)--RAFAEL', tenencia='PROPIO', fecha_actualizacion='2024-06-08 12:31:39+00:00', insp_ref_prop='9a1face7e26441529c5829af6d94635d', lotes=[lote(fecha_de_registro='2024-06-08 12:28:31+00:00', amigo_id='7a4fc7b8180747a3a25cbe4bd335f6c2', lote='L3.1', superficie=2.39, textura='F', lote_semillero='L5', variedad_semillero='UCG 90-20', variedad_sugerida='UCG 90-20', estado_semillero='BUENO', mes_siembra='MAYO', variedad_sembrada=None, fecha_siembra=None, estado_de_siembra=None, obs_1=None, obs_2=None, fecha_actualizacion=None, prop_ref_lote='2be5ea8755eb4548b1b2831b8e07ec9f', geometria='0106000020E61000000100000001030000000100000005000000BAD4554311A74FC0B8015521F32F31C0D2D8313EF8A64FC0D42DE2EF633031C024E6B980D5A64FC08CEFC8F3433031C0D858F333F3A64FC06C8BE0A5D82F31C0BAD4554311A74FC0B8015521F32F31C0', estado_lote_1ra='APROBADO', estado_lote_2da='SEMBRADO')])\n",
      "====================== 11231\n",
      "credito(fecha_registro='2023-11-16 00:59:31.305131+00:00', amigo_id='f0bc53e304da4c0fa328d3c4983fff75', semana_1ra='S', semana_2da='S23', institucion=3, canhero='7910 / SENA VILLARROEL CRISTOBAL', solicitado=2.0, total_1ra_insp=None, estado_1ra_insp='PENDIENTE', fecha_1ra_insp=None, cite_1ra_insp=None, respon_1ra_insp=None, obs_1ra=None, link_doc_1ra=None, total_2da_insp=2.07, estado_2da_insp='APROBADO', fecha_2da_insp='06/06/2024', cite_2da_insp=151, respon_2da_insp='Rogelio Acuña Rodríguez', obs_2da=None, link_doc_2da=None, total_nacido=None, total_no_nacido=None, muestreo=False, glifosato=False, nivelacion_1=False, drenaje=False, romeplow=True, rastra=True, subsolado=False, rotacion=False, arado=False, ferti_base=False, enraizadores=False, insecticidas=False, fungicidas=False, preemergente=True, fecha_actualizacion='2024-06-08 19:25:15.753943+00:00', fertilizacion=False, fungi_en_siem=False, insec_en_siem=False, promot_de_brota=False, pre_emergente=False, post_emergente=False, cultivado=False, ctrl_bio_tricho=False, insect_fisio_otros=False, ctrl_malezas=False, nivelacion_2=False, drenajes=False, financiamiento='IAG', id=427, total_sembrado_2da=2.07, semana_3ra=None, fecha_3ra_insp=None, total_3ra_insp=None, respon_3ra_insp=None, link_doc_3ra=None, estado_3ra_insp=None, cite_3ra_insp=None, fecha_informe='07/06/2024')\n",
      "L3 92890a3124ac4a58bad9ad4b3eff799f\n",
      "propiedad(fecha_de_registro='2024-06-08 19:29:01+00:00', amigo_id='dd8f6f9b6487470ab4cd14b4da77d149', ubicacion='0101000020E61000001A054D471B914FC0D41DE610F32C31C0', propiedad='1073 / SAN LORENZO--CRISTOBAL SEÑA', tenencia='PROPIO', fecha_actualizacion='2024-06-08 19:29:01+00:00', insp_ref_prop='f0bc53e304da4c0fa328d3c4983fff75', lotes=[lote(fecha_de_registro='2024-06-08 19:33:40+00:00', amigo_id='92890a3124ac4a58bad9ad4b3eff799f', lote='L3', superficie=2.07, textura='F', lote_semillero='L1', variedad_semillero='UCG 90-20', variedad_sugerida='UCG 90-20', estado_semillero='REGULAR', mes_siembra='MAYO', variedad_sembrada=None, fecha_siembra=None, estado_de_siembra=None, obs_1=None, obs_2=None, fecha_actualizacion=None, prop_ref_lote='dd8f6f9b6487470ab4cd14b4da77d149', geometria='0106000020E610000001000000010300000001000000080000008F41BB0036914FC05AE45B20D92C31C096B67DFCFA904FC0F7D3817CD52C31C0F23E5EA8FC904FC0E41CC360142D31C0BBC9D2361E914FC0AFBF5CAD182D31C07559551B2A914FC0EF5BC5941A2D31C030E9D7FF35914FC02EF82D7C1C2D31C030E9D7FF35914FC095DA5992172D31C08F41BB0036914FC05AE45B20D92C31C0', estado_lote_1ra='APROBADO', estado_lote_2da='SEMBRADO')])\n",
      "====================== 7910\n",
      "credito(fecha_registro='2023-11-16 00:59:31.305131+00:00', amigo_id='f8f7ad5d10d046889dc6bfe0a65a5828', semana_1ra='S48', semana_2da='S23', institucion=40, canhero='8814 / MURIALDO MENDEZ WALTER DANIEL', solicitado=25.0, total_1ra_insp=28.33, estado_1ra_insp='APROBADO', fecha_1ra_insp='2023-11-29 19:48:47+00:00', cite_1ra_insp=564, respon_1ra_insp='Juan Pablo Jaldin Duran', obs_1ra='EL LOTE ESTABA EN ROTACION CON SORGO YA ESTA COSECHADO Y SE APLICO GLIFOSATO, SE VOLVERA A PREPARAR PARA UNA CAMPAÑA MAS DE SORGO ANTES DE LA SIEMBRA DE CAÑA', link_doc_1ra='https://drive.google.com/file/d/1aPtnoxlhta8Ku4hb3YalqyVEvAcfpbBc/view?usp=drivesdk', total_2da_insp=12.52, estado_2da_insp='APROBADO', fecha_2da_insp='05/06/2024', cite_2da_insp=143, respon_2da_insp='Rogelio Acuña Rodríguez', obs_2da=None, link_doc_2da=None, total_nacido=None, total_no_nacido=None, muestreo=False, glifosato=True, nivelacion_1=True, drenaje=False, romeplow=True, rastra=True, subsolado=False, rotacion=True, arado=False, ferti_base=False, enraizadores=True, insecticidas=True, fungicidas=True, preemergente=True, fecha_actualizacion='2024-06-08 13:01:07.233546+00:00', fertilizacion=False, fungi_en_siem=False, insec_en_siem=False, promot_de_brota=False, pre_emergente=False, post_emergente=False, cultivado=False, ctrl_bio_tricho=False, insect_fisio_otros=False, ctrl_malezas=False, nivelacion_2=False, drenajes=False, financiamiento='IAG', id=322, total_sembrado_2da=12.52, semana_3ra=None, fecha_3ra_insp=None, total_3ra_insp=None, respon_3ra_insp=None, link_doc_3ra=None, estado_3ra_insp=None, cite_3ra_insp=None, fecha_informe='06/06/2024')\n",
      "L52 78599c8f7aee4e2ea49aa066b37e1669\n",
      "L42 235016c50c4143c3af6c52f7b0ffbd44\n",
      "propiedad(fecha_de_registro='2023-11-29 19:51:45+00:00', amigo_id='1c524ec49c9848559a7d8418b90104ec', ubicacion='0101000020E61000009E168AAF739C4FC090E574F75E4E31C0', propiedad='222 / POTRERITO', tenencia='PROPIO', fecha_actualizacion='2023-11-29 19:51:45+00:00', insp_ref_prop='f8f7ad5d10d046889dc6bfe0a65a5828', lotes=[lote(fecha_de_registro='2024-06-08 13:06:09+00:00', amigo_id='78599c8f7aee4e2ea49aa066b37e1669', lote='L52', superficie=3.77, textura='FA', lote_semillero='L5', variedad_semillero='UCG 90-20', variedad_sugerida='CITTCA 85-22', estado_semillero='BUENO', mes_siembra='MAYO', variedad_sembrada=None, fecha_siembra=None, estado_de_siembra=None, obs_1=None, obs_2=None, fecha_actualizacion=None, prop_ref_lote='1c524ec49c9848559a7d8418b90104ec', geometria='0106000020E61000000100000001030000000100000009000000342C38DB8B9A4FC0E4A81D5F724A31C04689120E719A4FC08C3BE8FE704A31C004B34189669A4FC0F4437D438F4A31C020BABC5A519A4FC0B02B70C2B24A31C05EE9AC553E9A4FC0E40A6BF2C74A31C0F2CE56C43E9A4FC08C4C4C90E44A31C02E18C1ED729A4FC02442CD20F64A31C088E0D717869A4FC01CCE0FE8FB4A31C0342C38DB8B9A4FC0E4A81D5F724A31C0', estado_lote_1ra='APROBADO', estado_lote_2da='SEMBRADO'), lote(fecha_de_registro='2024-06-08 13:04:34+00:00', amigo_id='235016c50c4143c3af6c52f7b0ffbd44', lote='L42', superficie=8.75, textura='FA', lote_semillero='L5', variedad_semillero='UCG 90-20', variedad_sugerida='UCG 90-20', estado_semillero='BUENO', mes_siembra='MAYO', variedad_sembrada='CITTCA 85-22', fecha_siembra=None, estado_de_siembra=None, obs_1=None, obs_2=None, fecha_actualizacion=None, prop_ref_lote='1c524ec49c9848559a7d8418b90104ec', geometria='0106000020E6100000010000000103000000010000000F000000C61A2AC9229B4FC0DCB4F409064D31C0543027EDD89A4FC008BF2F2BE04C31C0B4536275D79A4FC0FCC8F3ADEA4C31C07C9346E9D39A4FC040A897140C4D31C016589398DC9A4FC00461C21F164D31C0CE64B7D1DD9A4FC0D89E01AA1C4D31C050345810DE9A4FC04C98972E2E4D31C06EB320F8D69A4FC08018E085804D31C008C845FEE69A4FC0A83418BA974D31C0A4850011EF9A4FC0644E09B8B04D31C04838F863F19A4FC060493371B84D31C0A85B33ECEF9A4FC064B73296E44D31C0805941A3029B4FC0CCE19083DE4D31C0F4A265BE259B4FC030C853EADF4D31C0C61A2AC9229B4FC0DCB4F409064D31C0', estado_lote_1ra='APROBADO', estado_lote_2da='SEMBRADO')])\n",
      "====================== 8814\n",
      "credito(fecha_registro='2023-12-08 13:26:48.530117+00:00', amigo_id='17bfa0366a0c4480b4bec12128d0c4c4', semana_1ra='S51', semana_2da='S23', institucion=66, canhero='7385 / LINARES SALVATIERRA MARY LUZ', solicitado=11.0, total_1ra_insp=14.15, estado_1ra_insp='APROBADO', fecha_1ra_insp='2023-12-20 10:21:55+00:00', cite_1ra_insp=620, respon_1ra_insp='Rogelio Acuña Rodríguez', obs_1ra=None, link_doc_1ra='https://drive.google.com/file/d/1sgIPyEodTYRnlDzMos1w8XoxIFMbZFQq/view?usp=drivesdk', total_2da_insp=7.06, estado_2da_insp='APROBADO', fecha_2da_insp='06/06/2024', cite_2da_insp=146, respon_2da_insp='Rogelio Acuña Rodríguez', obs_2da=None, link_doc_2da=None, total_nacido=None, total_no_nacido=None, muestreo=False, glifosato=False, nivelacion_1=False, drenaje=True, romeplow=True, rastra=True, subsolado=False, rotacion=True, arado=False, ferti_base=True, enraizadores=True, insecticidas=True, fungicidas=True, preemergente=True, fecha_actualizacion='2024-06-08 14:54:59.278798+00:00', fertilizacion=False, fungi_en_siem=False, insec_en_siem=False, promot_de_brota=False, pre_emergente=False, post_emergente=False, cultivado=False, ctrl_bio_tricho=False, insect_fisio_otros=False, ctrl_malezas=False, nivelacion_2=False, drenajes=False, financiamiento='IAG', id=443, total_sembrado_2da=5.66, semana_3ra=None, fecha_3ra_insp=None, total_3ra_insp=None, respon_3ra_insp=None, link_doc_3ra=None, estado_3ra_insp=None, cite_3ra_insp=None, fecha_informe='07/06/2024')\n",
      "L8.3 1939a1015b6347e1a4a9cf134132bc28\n",
      "L5.1 a198ba8de54548ee817e33acbaec0678\n",
      "L5 22b37c20b993474a95acac14cd610aae\n",
      "L7 f535c9a751f3480eb4c150c719c54981\n",
      "propiedad(fecha_de_registro='2023-12-21 10:26:20+00:00', amigo_id='2b5095e896e142d7ba583cc3beeb43b7', ubicacion='0101000020E6100000984AE60C04824FC020904055E33F31C0', propiedad='1043 / EL TRIUNFO--LINARES', tenencia='PROPIO', fecha_actualizacion='2023-12-21 10:26:20+00:00', insp_ref_prop='17bfa0366a0c4480b4bec12128d0c4c4', lotes=[lote(fecha_de_registro='2023-12-21 10:31:16+00:00', amigo_id='1939a1015b6347e1a4a9cf134132bc28', lote='L8.3', superficie=3.06, textura='F', lote_semillero='L6', variedad_semillero='UCG 90-20', variedad_sugerida='CITTCA 0563', estado_semillero='BUENO', mes_siembra='ABRIL', variedad_sembrada=None, fecha_siembra=None, estado_de_siembra=None, obs_1=None, obs_2=None, fecha_actualizacion=None, prop_ref_lote='2b5095e896e142d7ba583cc3beeb43b7', geometria='0106000020E6100000010000000103000000010000000600000001F9F5F042824FC0C04788387F3F31C02D5963E127824FC064B415D97E3F31C0977AE00E29824FC03124B11B543F31C0BC5F0E0E2E824FC0D3A025959A3E31C035DE658C44824FC079D434F2A13E31C001F9F5F042824FC0C04788387F3F31C0', estado_lote_1ra='APROBADO', estado_lote_2da='SEMBRADO'), lote(fecha_de_registro='2024-06-08 13:48:09+00:00', amigo_id='a198ba8de54548ee817e33acbaec0678', lote='L5.1', superficie=0.43, textura='F', lote_semillero='L7', variedad_semillero='UCG 90-20', variedad_sugerida='UCG 90-20', estado_semillero='BUENO', mes_siembra='MAYO', variedad_sembrada=None, fecha_siembra=None, estado_de_siembra=None, obs_1=None, obs_2=None, fecha_actualizacion=None, prop_ref_lote='2b5095e896e142d7ba583cc3beeb43b7', geometria='0106000020E61000000100000001030000000100000011000000A4CDFF3E28824FC0389EEE2DD33F31C03460CA1925824FC00486C980E53F31C0964652CC21824FC084BDBE85F43F31C0E83BFA6120824FC034D89DD5FD3F31C0BECAFCC31C824FC09830B08B064031C0B20CD23F1A824FC0789E6272074031C02C825C5413824FC0209E1758054031C03C7704EA11824FC094241A57024031C0E40B7B3811824FC0BC2160FDFC3F31C0A8AB8DA113824FC0309506CEF43F31C09A39BC3317824FC0802FAB43E43F31C0726EEF251A824FC030504A28D83F31C0846D769320824FC0505E9624D03F31C03C1BF45723824FC078CFD7A3C83F31C06250274A26824FC008A1596CC63F31C07893C59729824FC008EDF289CB3F31C0A4CDFF3E28824FC0389EEE2DD33F31C0', estado_lote_1ra='APROBADO', estado_lote_2da='SEMBRADO'), lote(fecha_de_registro='2023-12-21 10:30:44+00:00', amigo_id='22b37c20b993474a95acac14cd610aae', lote='L5', superficie=2.17, textura='F', lote_semillero='L6', variedad_semillero='UCG 90-20', variedad_sugerida='CITTCA 0563', estado_semillero='BUENO', mes_siembra='ABRIL', variedad_sembrada=None, fecha_siembra=None, estado_de_siembra=None, obs_1=None, obs_2=None, fecha_actualizacion=None, prop_ref_lote='2b5095e896e142d7ba583cc3beeb43b7', geometria='0106000020E6100000010000000103000000010000000D000000073C46905D824FC06F5566A1993F31C06C9BD1C164824FC0DF5154B8A23F31C0E453A48A5C824FC07629F1E2EF3F31C00C1F683357824FC0903B220EEB3F31C0649B1F7852824FC05D8BC27EE73F31C06CE686CE43824FC080DED94EDD3F31C0B8552DD832824FC0743810C8D63F31C0531A7DA42E824FC0E3F72D97D23F31C00525FC9E26824FC03206BCB7C23F31C0D77BFEBB21824FC014D80E29B53F31C02C0F486F26824FC0CD2D837EA33F31C0386847322C824FC0A137DEF69B3F31C0073C46905D824FC06F5566A1993F31C0', estado_lote_1ra='APROBADO', estado_lote_2da='SEMBRADO'), lote(fecha_de_registro='2023-12-21 10:34:24+00:00', amigo_id='f535c9a751f3480eb4c150c719c54981', lote='L7', superficie=1.4, textura='F', lote_semillero='L6', variedad_semillero='UCG 90-20', variedad_sugerida='CITTCA 0563', estado_semillero='BUENO', mes_siembra='ABRIL', variedad_sembrada=None, fecha_siembra=None, estado_de_siembra=None, obs_1=None, obs_2=None, fecha_actualizacion=None, prop_ref_lote='2b5095e896e142d7ba583cc3beeb43b7', geometria='0106000020E6100000010000000103000000010000000A000000FEAB03A7F0814FC018898728023F31C018D4D29BE3814FC0F8D21B3D0A3F31C0344129ABE2814FC008E380FE073F31C062E2C9ABD7814FC0DCACB362813E31C0183131ADE0814FC088B0D05F853E31C086813D6CEC814FC07CCFCAD6913E31C068231EC6F1814FC0B4E9BCD1983E31C046F33B14F3814FC0B4C14E8E9D3E31C0EA3069D1F2814FC0281951CACB3E31C0FEAB03A7F0814FC018898728023F31C0', estado_lote_1ra='APROBADO', estado_lote_2da='NO SEMBRADO')])\n",
      "====================== 7385\n",
      "credito(fecha_registro='2023-11-16 00:59:31.305131+00:00', amigo_id='79c2b64cbc454176bbae86e901e1fcbb', semana_1ra='S50', semana_2da='S23', institucion=50, canhero='10806 / PALICIO BRUNO OSCAR ROBERTO', solicitado=30.0, total_1ra_insp=33.55, estado_1ra_insp='APROBADO', fecha_1ra_insp='2023-12-13 14:11:48+00:00', cite_1ra_insp=616, respon_1ra_insp='Juan Pablo Jaldin Duran', obs_1ra=None, link_doc_1ra='https://drive.google.com/file/d/1l5_Osi55hWnPaWT6iXuv-yucJX6l27By/view?usp=drivesdk', total_2da_insp=18.57, estado_2da_insp='APROBADO', fecha_2da_insp='06/06/2024', cite_2da_insp=139, respon_2da_insp='Rogelio Acuña Rodríguez', obs_2da=None, link_doc_2da=None, total_nacido=None, total_no_nacido=None, muestreo=False, glifosato=True, nivelacion_1=False, drenaje=False, romeplow=True, rastra=True, subsolado=False, rotacion=False, arado=False, ferti_base=False, enraizadores=True, insecticidas=True, fungicidas=False, preemergente=True, fecha_actualizacion='2024-06-07 20:14:55.953257+00:00', fertilizacion=False, fungi_en_siem=False, insec_en_siem=False, promot_de_brota=False, pre_emergente=False, post_emergente=False, cultivado=False, ctrl_bio_tricho=False, insect_fisio_otros=False, ctrl_malezas=False, nivelacion_2=False, drenajes=False, financiamiento='IAG', id=306, total_sembrado_2da=18.57, semana_3ra=None, fecha_3ra_insp=None, total_3ra_insp=None, respon_3ra_insp=None, link_doc_3ra=None, estado_3ra_insp=None, cite_3ra_insp=None, fecha_informe='07/06/2024')\n",
      "L48.3 5242a1a8db3b4f8a8a7bb1f558b12fbf\n",
      "L10 2ccdf63080d248fc8dc24ee3c6c050d6\n",
      "L48.4 7e0a5b7a608c442d9cd839506ebf7057\n",
      "L48.5 11457e1ab6a84b6ea1ebdeea8029d8df\n",
      "L24.2 0c8dd5c5ab614192b020952837701adf\n",
      "L36.12 77ed6314455b4fdf9994e8ffc08d8719\n",
      "L24.3 4e121a50ca1e41c880547290b9bf2230\n",
      "L48.1 5f15162b54c54959a9c0ad9ef5420b0a\n",
      "L48.2 df54ae1d34c44987ae9ac48dda20aead\n",
      "L18.1 5736de25d5a04121b6b6825979a17198\n",
      "L14.1 6c53e12fcfcf4fd5a76cfa86c1ac04f0\n",
      "L12.2 2baf51757e8d4f538b4961d2210cfdd2\n",
      "propiedad(fecha_de_registro='2023-12-15 14:13:08+00:00', amigo_id='5f6b274726984595a66fbeed2ab4f3d8', ubicacion='0101000020E6100000FEC6D77997AB4FC0908BC12C8D2831C0', propiedad='1421 / LA SUCESION--OSCAR PALICIO', tenencia='PROPIO', fecha_actualizacion='2023-12-15 14:13:08+00:00', insp_ref_prop='79c2b64cbc454176bbae86e901e1fcbb', lotes=[lote(fecha_de_registro='2024-06-08 12:20:31+00:00', amigo_id='5242a1a8db3b4f8a8a7bb1f558b12fbf', lote='L48.3', superficie=0.96, textura='F', lote_semillero='L3', variedad_semillero='UCG 90-20', variedad_sugerida='CITTCA 0563', estado_semillero='REGULAR', mes_siembra='MAYO', variedad_sembrada=None, fecha_siembra=None, estado_de_siembra=None, obs_1=None, obs_2=None, fecha_actualizacion=None, prop_ref_lote='5f6b274726984595a66fbeed2ab4f3d8', geometria='0106000020E61000000100000001030000000100000005000000444AFF7DB3A94FC0BC04F5D2EF2531C026FC5519ADA94FC00055B4C2FF2531C0A259229154A94FC04CCEBD07BC2531C0F24494B559A94FC054CCF427AD2531C0444AFF7DB3A94FC0BC04F5D2EF2531C0', estado_lote_1ra='APROBADO', estado_lote_2da='SEMBRADO'), lote(fecha_de_registro='2023-12-12 18:07:28+00:00', amigo_id='2ccdf63080d248fc8dc24ee3c6c050d6', lote='L10', superficie=1.09, textura='F', lote_semillero='L25.1', variedad_semillero='UCG 90-20', variedad_sugerida='UCG 90-20', estado_semillero='BUENO', mes_siembra='ABRIL', variedad_sembrada=None, fecha_siembra=None, estado_de_siembra=None, obs_1=None, obs_2=None, fecha_actualizacion=None, prop_ref_lote='5f6b274726984595a66fbeed2ab4f3d8', geometria='0106000020E610000001000000010300000001000000050000000CCF1C41ADAA4FC0B3FDCE2C5C2731C08F053458B9AA4FC001E3D3626B2731C006E8CCBBE0AA4FC0DA4FA9DDE82631C07FF40968D3AA4FC07D745110E42631C00CCF1C41ADAA4FC0B3FDCE2C5C2731C0', estado_lote_1ra='APROBADO', estado_lote_2da='SEMBRADO'), lote(fecha_de_registro='2024-06-08 12:21:22+00:00', amigo_id='7e0a5b7a608c442d9cd839506ebf7057', lote='L48.4', superficie=0.52, textura='F', lote_semillero='L3', variedad_semillero='UCG 90-20', variedad_sugerida='CITTCA 0563', estado_semillero='REGULAR', mes_siembra='MAYO', variedad_sembrada=None, fecha_siembra=None, estado_de_siembra=None, obs_1=None, obs_2=None, fecha_actualizacion=None, prop_ref_lote='5f6b274726984595a66fbeed2ab4f3d8', geometria='0106000020E61000000100000001030000000100000006000000AA7103556AA94FC0F93601F79D2531C0D16777E265A94FC09FFED81EA92531C0C61C9629B8A94FC0FE5111FADD2531C03D40F6B0B9A94FC01D85327AD52531C084739EDAB3A94FC085D6417ED12531C0AA7103556AA94FC0F93601F79D2531C0', estado_lote_1ra='APROBADO', estado_lote_2da='SEMBRADO'), lote(fecha_de_registro='2024-06-08 12:23:07+00:00', amigo_id='11457e1ab6a84b6ea1ebdeea8029d8df', lote='L48.5', superficie=0.78, textura='F', lote_semillero='L3', variedad_semillero='UCG 90-20', variedad_sugerida='CITTCA 0563', estado_semillero='REGULAR', mes_siembra='MAYO', variedad_sembrada=None, fecha_siembra=None, estado_de_siembra=None, obs_1=None, obs_2=None, fecha_actualizacion=None, prop_ref_lote='5f6b274726984595a66fbeed2ab4f3d8', geometria='0106000020E610000001000000010300000001000000060000004A523958B6A94FC0940413D1B32531C01488090CBCA94FC04C12F09FBD2531C008E44EE1B9A94FC004AE5823CB2531C08CDAE40071A94FC0E05D7192982531C0FEB36FDF78A94FC0949E3CC0892531C04A523958B6A94FC0940413D1B32531C0', estado_lote_1ra='APROBADO', estado_lote_2da='SEMBRADO'), lote(fecha_de_registro='2023-12-12 18:13:20+00:00', amigo_id='0c8dd5c5ab614192b020952837701adf', lote='L24.2', superficie=2.27, textura='F', lote_semillero='L25.1', variedad_semillero='UCG 90-20', variedad_sugerida='UCG 90-20', estado_semillero='BUENO', mes_siembra='ABRIL', variedad_sembrada=None, fecha_siembra=None, estado_de_siembra=None, obs_1=None, obs_2=None, fecha_actualizacion=None, prop_ref_lote='5f6b274726984595a66fbeed2ab4f3d8', geometria='0106000020E61000000100000001030000000100000006000000BAC1A6917BAB4FC0F06EC1CEAA2831C0FFD0354C73AB4FC08F9395DEC62831C012E22593AEAB4FC082CF6ADCF62831C0FEF0F989EDAB4FC0BA113B30282931C09438FDC9F4AB4FC0D7094C890D2931C0BAC1A6917BAB4FC0F06EC1CEAA2831C0', estado_lote_1ra='APROBADO', estado_lote_2da='SEMBRADO'), lote(fecha_de_registro='2023-12-12 18:27:59+00:00', amigo_id='77ed6314455b4fdf9994e8ffc08d8719', lote='L36.12', superficie=2.17, textura='F', lote_semillero='L25.1', variedad_semillero='UCG 90-20', variedad_sugerida='RBB 77-26', estado_semillero='BUENO', mes_siembra='ABRIL', variedad_sembrada=None, fecha_siembra=None, estado_de_siembra=None, obs_1=None, obs_2=None, fecha_actualizacion=None, prop_ref_lote='5f6b274726984595a66fbeed2ab4f3d8', geometria='0106000020E6100000010000000103000000010000000500000068BE81A3CBAB4FC0BB84208B7B2731C07D9393FCD1AB4FC0813292445C2731C087B0E60949AB4FC055479D9E1A2731C0D79547FC43AB4FC0961800962F2731C068BE81A3CBAB4FC0BB84208B7B2731C0', estado_lote_1ra='APROBADO', estado_lote_2da='SEMBRADO'), lote(fecha_de_registro='2024-06-08 12:12:48+00:00', amigo_id='4e121a50ca1e41c880547290b9bf2230', lote='L24.3', superficie=2.04, textura='F', lote_semillero='L3', variedad_semillero='UCG 90-20', variedad_sugerida='UCG 90-20', estado_semillero='REGULAR', mes_siembra='MAYO', variedad_sembrada=None, fecha_siembra=None, estado_de_siembra=None, obs_1=None, obs_2=None, fecha_actualizacion=None, prop_ref_lote='5f6b274726984595a66fbeed2ab4f3d8', geometria='0106000020E61000000100000001030000000100000007000000604FE5547EAB4FC0A8B1A29C9B2831C044DDA9FE71AB4FC06414D919C62831C0C40C12F52EAB4FC0C46665CA8D2831C066BA315434AB4FC0A49A3AD75E2831C03A745CFA41AB4FC09CE71C4B6B2831C0FEF6560746AB4FC0D48E08206B2831C0604FE5547EAB4FC0A8B1A29C9B2831C0', estado_lote_1ra='APROBADO', estado_lote_2da='SEMBRADO'), lote(fecha_de_registro='2024-06-08 12:18:32+00:00', amigo_id='5f15162b54c54959a9c0ad9ef5420b0a', lote='L48.1', superficie=0.82, textura='FA', lote_semillero='L3', variedad_semillero='UCG 90-20', variedad_sugerida='RB-2', estado_semillero='REGULAR', mes_siembra='MAYO', variedad_sembrada=None, fecha_siembra=None, estado_de_siembra=None, obs_1=None, obs_2=None, fecha_actualizacion=None, prop_ref_lote='5f6b274726984595a66fbeed2ab4f3d8', geometria='0106000020E6100000010000000103000000010000000A000000FC8BE234A3A94FC0981BD2D1352631C0DC4181F09DA94FC04C4EB63E402631C0881B983C99A94FC08044E8434E2631C018C97FEB97A94FC058D7554C532631C090D09A9A83A94FC0E85E01FA372631C0E2E108B47BA94FC0DC95B261342631C040BB1F0077A94FC03C2B8B95322631C0A21A99E95BA94FC054A01BAE0A2631C0C65561DA5CA94FC028E8DBCD072631C0FC8BE234A3A94FC0981BD2D1352631C0', estado_lote_1ra='APROBADO', estado_lote_2da='SEMBRADO'), lote(fecha_de_registro='2024-06-08 12:19:24+00:00', amigo_id='df54ae1d34c44987ae9ac48dda20aead', lote='L48.2', superficie=0.91, textura='FA', lote_semillero='L3', variedad_semillero='UCG 90-20', variedad_sugerida='RB-2', estado_semillero='REGULAR', mes_siembra='MAYO', variedad_sembrada=None, fecha_siembra=None, estado_de_siembra=None, obs_1=None, obs_2=None, fecha_actualizacion=None, prop_ref_lote='5f6b274726984595a66fbeed2ab4f3d8', geometria='0106000020E610000001000000010300000001000000060000002A1F85F0B7A94FC0906F745E0E2631C01ECC9552AFA94FC074C625F6202631C01AB8C63D89A94FC07449B5B2FE2531C03623A69A62A94FC01C7311DBE72531C056714FFF68A94FC0386B5BFFD42531C02A1F85F0B7A94FC0906F745E0E2631C0', estado_lote_1ra='APROBADO', estado_lote_2da='SEMBRADO'), lote(fecha_de_registro='2023-12-12 18:23:34+00:00', amigo_id='5736de25d5a04121b6b6825979a17198', lote='L18.1', superficie=3.13, textura='F', lote_semillero='L25.1', variedad_semillero='UCG 90-20', variedad_sugerida='UCG 90-20', estado_semillero='BUENO', mes_siembra='ABRIL', variedad_sembrada=None, fecha_siembra=None, estado_de_siembra=None, obs_1=None, obs_2=None, fecha_actualizacion=None, prop_ref_lote='5f6b274726984595a66fbeed2ab4f3d8', geometria='0106000020E610000001000000010300000001000000090000000BC4FC265EAC4FC0236530EB6A2731C0DC13DAA458AC4FC0FB2654F68B2731C00E7C38144DAC4FC0763DD4E5842731C0B17FE89326AC4FC0436BEAE1702731C041182E6123AC4FC0E1534A19822731C0B3091073F3AB4FC073F23B116A2731C0014B1194D3AB4FC06C4EDA7B5B2731C090F4EB1BD9AB4FC0895500EE2C2731C00BC4FC265EAC4FC0236530EB6A2731C0', estado_lote_1ra='APROBADO', estado_lote_2da='SEMBRADO'), lote(fecha_de_registro='2023-12-12 18:09:37+00:00', amigo_id='6c53e12fcfcf4fd5a76cfa86c1ac04f0', lote='L14.1', superficie=2.01, textura='F', lote_semillero='L25.1', variedad_semillero='UCG 90-20', variedad_sugerida='UCG 90-20', estado_semillero='BUENO', mes_siembra='ABRIL', variedad_sembrada=None, fecha_siembra=None, estado_de_siembra=None, obs_1=None, obs_2=None, fecha_actualizacion=None, prop_ref_lote='5f6b274726984595a66fbeed2ab4f3d8', geometria='0106000020E61000000100000001030000000100000007000000FE230F10E7AA4FC02CAC43DDA12731C0192DE8FBFBAA4FC00CF127C7B92731C08397C28C2BAB4FC09EAF9A0D0E2731C0C5E992C420AB4FC04B199641092731C0AC50005E17AB4FC0E4A684682F2731C094B76DF70DAB4FC0D4496F43272731C0FE230F10E7AA4FC02CAC43DDA12731C0', estado_lote_1ra='APROBADO', estado_lote_2da='SEMBRADO'), lote(fecha_de_registro='2023-12-12 18:08:38+00:00', amigo_id='2baf51757e8d4f538b4961d2210cfdd2', lote='L12.2', superficie=1.87, textura='FY', lote_semillero='L25.1', variedad_semillero='UCG 90-20', variedad_sugerida='UCG 90-20', estado_semillero='BUENO', mes_siembra='ABRIL', variedad_sembrada=None, fecha_siembra=None, estado_de_siembra=None, obs_1=None, obs_2=None, fecha_actualizacion=None, prop_ref_lote='5f6b274726984595a66fbeed2ab4f3d8', geometria='0106000020E61000000100000001030000000100000007000000A5D8CA9AC9AA4FC0D78397277F2731C0A12A4B19DDAA4FC08421BC87952731C0418B0E4908AB4FC0D71EE623FF2631C0DFEA8BD5FCAA4FC06555B9E9F92631C07FFD7E29F6AA4FC0FA9C0774102731C0F9602718EBAA4FC0502B8B740C2731C0A5D8CA9AC9AA4FC0D78397277F2731C0', estado_lote_1ra='APROBADO', estado_lote_2da='SEMBRADO')])\n",
      "====================== 10806\n",
      "credito(fecha_registro='2023-11-16 00:59:31.305131+00:00', amigo_id='97353864c3ab43aaa03f2a70dedf262e', semana_1ra='S', semana_2da='S23', institucion=131, canhero='8140 / MASAI CHAVEZ SIRLE YOBANA', solicitado=3.0, total_1ra_insp=None, estado_1ra_insp='PENDIENTE', fecha_1ra_insp=None, cite_1ra_insp=None, respon_1ra_insp=None, obs_1ra=None, link_doc_1ra=None, total_2da_insp=3.97, estado_2da_insp='APROBADO', fecha_2da_insp='04/06/2024', cite_2da_insp=135, respon_2da_insp='Rogelio Acuña Rodríguez', obs_2da=None, link_doc_2da=None, total_nacido=None, total_no_nacido=None, muestreo=False, glifosato=True, nivelacion_1=False, drenaje=False, romeplow=True, rastra=True, subsolado=False, rotacion=True, arado=False, ferti_base=False, enraizadores=True, insecticidas=True, fungicidas=False, preemergente=True, fecha_actualizacion='2024-06-07 17:57:00.932747+00:00', fertilizacion=False, fungi_en_siem=False, insec_en_siem=False, promot_de_brota=False, pre_emergente=False, post_emergente=False, cultivado=False, ctrl_bio_tricho=False, insect_fisio_otros=False, ctrl_malezas=False, nivelacion_2=False, drenajes=False, financiamiento='IAG', id=424, total_sembrado_2da=3.97, semana_3ra=None, fecha_3ra_insp=None, total_3ra_insp=None, respon_3ra_insp=None, link_doc_3ra=None, estado_3ra_insp=None, cite_3ra_insp=None, fecha_informe='05/06/2024')\n",
      "L1.3 911f644c2e3242869de4cdda50fc1a52\n",
      "propiedad(fecha_de_registro='2024-06-01 14:10:34+00:00', amigo_id='3f299831f94643dc9c25dc32033fde80', ubicacion='0101000020E61000003653336F9E7D4FC008650E6C842831C0', propiedad='943 / PAILON--EDGAR HUANCA', tenencia='PROPIO', fecha_actualizacion='2024-06-07 17:57:37.203878+00:00', insp_ref_prop='97353864c3ab43aaa03f2a70dedf262e', lotes=[lote(fecha_de_registro='2024-06-01 14:18:36+00:00', amigo_id='911f644c2e3242869de4cdda50fc1a52', lote='L1.3', superficie=3.97, textura='FY', lote_semillero='L1.1', variedad_semillero='UCG 90-20', variedad_sugerida='UCG 90-20', estado_semillero='BUENO', mes_siembra='ABRIL', variedad_sembrada='UCG 90-20', fecha_siembra=None, estado_de_siembra=None, obs_1=None, obs_2=None, fecha_actualizacion=None, prop_ref_lote='3f299831f94643dc9c25dc32033fde80', geometria='0106000020E6100000010000000103000000010000000A00000068E73556B07D4FC0343F26BFC52831C080F126C07B7D4FC0EC004262C32831C0CECB846A7C7D4FC00086B8B9692831C0383A80B88C7D4FC0704D4BE1512831C02C51D5079A7D4FC06C086D4E3B2831C00C29062DA67D4FC048F18AA22D2831C072758CAAAB7D4FC06C6679E9272831C05E59DD50B57D4FC0C0B68252262831C0BC725F25B77D4FC0FC40E7A3262831C068E73556B07D4FC0343F26BFC52831C0', estado_lote_1ra='APROBADO', estado_lote_2da='SEMBRADO')])\n",
      "====================== 8140\n",
      "credito(fecha_registro='2023-11-16 00:59:31.305131+00:00', amigo_id='5e64e35765314e1f853002bd464d98aa', semana_1ra='S', semana_2da='S23', institucion=1, canhero='13638 / TISCO VASQUEZ SERGIO', solicitado=2.0, total_1ra_insp=None, estado_1ra_insp='PENDIENTE', fecha_1ra_insp=None, cite_1ra_insp=None, respon_1ra_insp=None, obs_1ra=None, link_doc_1ra=None, total_2da_insp=2.39, estado_2da_insp='APROBADO', fecha_2da_insp='06/06/2024', cite_2da_insp=141, respon_2da_insp='Rogelio Acuña Rodríguez', obs_2da=None, link_doc_2da=None, total_nacido=None, total_no_nacido=None, muestreo=False, glifosato=False, nivelacion_1=False, drenaje=False, romeplow=True, rastra=True, subsolado=False, rotacion=True, arado=False, ferti_base=False, enraizadores=False, insecticidas=False, fungicidas=False, preemergente=False, fecha_actualizacion='2024-06-08 12:41:42.949118+00:00', fertilizacion=False, fungi_en_siem=False, insec_en_siem=False, promot_de_brota=False, pre_emergente=False, post_emergente=False, cultivado=False, ctrl_bio_tricho=False, insect_fisio_otros=False, ctrl_malezas=False, nivelacion_2=False, drenajes=False, financiamiento='IAG', id=425, total_sembrado_2da=2.39, semana_3ra=None, fecha_3ra_insp=None, total_3ra_insp=None, respon_3ra_insp=None, link_doc_3ra=None, estado_3ra_insp=None, cite_3ra_insp=None, fecha_informe='07/06/2024')\n",
      "L1.4 c7480428d5f545efb6137b3dd4fbd7d0\n",
      "propiedad(fecha_de_registro='2024-06-08 12:44:38+00:00', amigo_id='fcc5457e5aab4e7a83c18aa78891c34c', ubicacion='0101000020E6100000646F910E61A74FC0587CA81DD12D31C0', propiedad='776 / SINDICATO AGRARIO 2 DE FEBRERO(PARCELA-005)--TISCO', tenencia='PROPIO', fecha_actualizacion='2024-06-08 12:44:38+00:00', insp_ref_prop='5e64e35765314e1f853002bd464d98aa', lotes=[lote(fecha_de_registro='2024-06-08 12:48:32+00:00', amigo_id='c7480428d5f545efb6137b3dd4fbd7d0', lote='L1.4', superficie=2.39, textura='F', lote_semillero='L3.4', variedad_semillero='UCG 90-20', variedad_sugerida='UCG 90-20', estado_semillero='BUENO', mes_siembra='ABRIL', variedad_sembrada=None, fecha_siembra=None, estado_de_siembra=None, obs_1=None, obs_2=None, fecha_actualizacion=None, prop_ref_lote='fcc5457e5aab4e7a83c18aa78891c34c', geometria='0106000020E61000000100000001030000000100000005000000941F18D178A74FC05C7C2419C42D31C0B4D04DFB63A74FC0484D40FE302E31C068D63CAA41A74FC08C3CEC60112E31C0F26EC01A59A74FC0E4C43A24A22D31C0941F18D178A74FC05C7C2419C42D31C0', estado_lote_1ra='APROBADO', estado_lote_2da='SEMBRADO')])\n",
      "====================== 13638\n"
     ]
    },
    {
     "data": {
      "text/plain": [
       "<Figure size 2000x2000 with 0 Axes>"
      ]
     },
     "metadata": {},
     "output_type": "display_data"
    },
    {
     "data": {
      "text/plain": [
       "<Figure size 2000x2000 with 0 Axes>"
      ]
     },
     "metadata": {},
     "output_type": "display_data"
    },
    {
     "data": {
      "text/plain": [
       "<Figure size 2000x2000 with 0 Axes>"
      ]
     },
     "metadata": {},
     "output_type": "display_data"
    }
   ],
   "source": [
    "for i in lista:\n",
    "    generar_reporte(i)\n",
    "    print('======================', i)"
   ]
  }
 ],
 "metadata": {
  "kernelspec": {
   "display_name": "Python 3 (ipykernel)",
   "language": "python",
   "name": "python3"
  },
  "language_info": {
   "codemirror_mode": {
    "name": "ipython",
    "version": 3
   },
   "file_extension": ".py",
   "mimetype": "text/x-python",
   "name": "python",
   "nbconvert_exporter": "python",
   "pygments_lexer": "ipython3",
   "version": "3.10.13"
  }
 },
 "nbformat": 4,
 "nbformat_minor": 5
}
