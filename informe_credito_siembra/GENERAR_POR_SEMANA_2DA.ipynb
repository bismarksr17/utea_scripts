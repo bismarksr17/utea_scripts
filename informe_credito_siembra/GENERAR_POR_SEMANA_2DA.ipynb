{
 "cells": [
  {
   "cell_type": "code",
   "execution_count": 1,
   "id": "6658e010-c382-4e03-a45a-67c832b35ef9",
   "metadata": {},
   "outputs": [],
   "source": [
    "# werkzeug\n",
    "# shapely=1.7.1\n",
    "# geopandas\n",
    "# pandas\n",
    "# contextily\n",
    "# matplotlib\n",
    "# docxtpl\n",
    "# docx"
   ]
  },
  {
   "cell_type": "code",
   "execution_count": 1,
   "id": "8c292c7c-2591-4985-93c8-88314bca3d5a",
   "metadata": {},
   "outputs": [],
   "source": [
    "import sys\n",
    "sys.path.append('../_amigocloud')"
   ]
  },
  {
   "cell_type": "code",
   "execution_count": 2,
   "id": "665919a4-6184-4280-8c4c-64588f9131d6",
   "metadata": {},
   "outputs": [],
   "source": [
    "from werkzeug.wrappers import Request, Response\n",
    "from jinja2 import Template\n",
    "\n",
    "from datetime import datetime, timedelta\n",
    "\n",
    "import collections\n",
    "from amigocloud import AmigoCloud\n",
    "\n",
    "from datetime import datetime\n",
    "\n",
    "from shapely import wkb\n",
    "import geopandas\n",
    "import pandas as pd\n",
    "import contextily as ctx\n",
    "import matplotlib.pyplot as plt\n",
    "\n",
    "from docxtpl import DocxTemplate\n",
    "import docxtpl\n",
    "from docx.shared import Mm\n",
    "import requests\n",
    "\n",
    "import qrcode\n",
    "\n",
    "def convertir_wkb(wkb_data):\n",
    "    return wkb.loads(wkb_data, hex=True)"
   ]
  },
  {
   "cell_type": "code",
   "execution_count": 3,
   "id": "057998b9-c93b-4559-87c9-e82742149a8a",
   "metadata": {},
   "outputs": [],
   "source": [
    "# ruta de carpera donde estan las llaves\n",
    "ruta = open('../ruta.txt')\n",
    "ruta = ruta.readlines()[0]"
   ]
  },
  {
   "cell_type": "code",
   "execution_count": 4,
   "id": "f78ec737-093c-44bb-a782-1af54be4a65f",
   "metadata": {},
   "outputs": [
    {
     "name": "stderr",
     "output_type": "stream",
     "text": [
      "WARNING:socketIO-client:app.amigocloud.com:443/v2_socket.io/socket.io [connection error] recv disconnected (Connection is already closed.)\n"
     ]
    },
    {
     "data": {
      "text/plain": [
       "<amigocloud.AmigoCloud at 0x1abe8b7f880>"
      ]
     },
     "execution_count": 4,
     "metadata": {},
     "output_type": "execute_result"
    }
   ],
   "source": [
    "# leer token\n",
    "acceso = open(ruta + '/_keys/api_amigocloud.key','r')\n",
    "api_token = acceso.readlines()[0]\n",
    "acceso.close()\n",
    "amigocloud = AmigoCloud(token=api_token)\n",
    "amigocloud"
   ]
  },
  {
   "cell_type": "code",
   "execution_count": 11,
   "id": "671335c0-f848-4ced-9199-d1000c19c39b",
   "metadata": {},
   "outputs": [],
   "source": [
    "def generar_reporte(codigo_canhero):\n",
    "    # EXTRAER DATOS DE CREDITO\n",
    "    query_credito = {'query': 'select * from dataset_307560 where cast(SPLIT_PART(canhero, \\'/\\', 1) as integer) = {cod_ca}'.format(cod_ca=codigo_canhero)}\n",
    "    credito_select = amigocloud.get('https://app.amigocloud.com/api/v1/projects/32672/sql', query_credito)\n",
    "    credito_data = credito_select['data'][0]\n",
    "    credito_data['fecha_informe'] = (datetime.strptime(credito_data['fecha_2da_insp'].split(' ')[0], '%Y-%m-%d') + timedelta(days=1)).strftime('%d/%m/%Y')\n",
    "    credito_data['fecha_2da_insp'] = datetime.strptime(credito_data['fecha_2da_insp'].split(' ')[0], '%Y-%m-%d').strftime('%d/%m/%Y')\n",
    "    credito = collections.namedtuple(\"credito\", credito_data.keys())(*credito_data.values())\n",
    "\n",
    "    # EXTRAER DATOS DE PROPIEDADES\n",
    "    query_propiedades = {'query': 'select * from dataset_307562 where insp_ref_prop = \\'{insp_ref_prop}\\''.format(insp_ref_prop=credito.amigo_id)}\n",
    "    propiedades_select = amigocloud.get('https://app.amigocloud.com/api/v1/projects/32672/sql', query_propiedades)\n",
    "    propiedades_data = propiedades_select['data']\n",
    "\n",
    "    # EXTRAER DATOS DE LOTES\n",
    "    propiedades = []\n",
    "    for prop in propiedades_data:\n",
    "        prop['lotes'] = []\n",
    "        query_lotes = {'query': 'select * from dataset_307563 where prop_ref_lote=\\'{prop_ref_lote}\\''.format(prop_ref_lote=prop['amigo_id'])}\n",
    "        lotes_select = amigocloud.get('https://app.amigocloud.com/api/v1/projects/32672/sql', query_lotes)\n",
    "        for lote_select in lotes_select['data']:\n",
    "            lote = collections.namedtuple(\"lote\", lote_select.keys())(*lote_select.values())\n",
    "            prop['lotes'].append(lote)\n",
    "        propiedades.append(collections.namedtuple(\"propiedad\", prop.keys())(*prop.values()))\n",
    "\n",
    "    # EXTRAER FOTOS\n",
    "    fotos = []\n",
    "    for propiedad in propiedades:\n",
    "        for lote in propiedad.lotes:\n",
    "            print(lote.lote, lote.amigo_id)\n",
    "            query_fotos = {'query': 'select source_amigo_id, s3_filename from gallery_48961 where source_amigo_id=\\'{source_amigo_id}\\''.format(source_amigo_id=lote.amigo_id)}\n",
    "            fotos_filename = amigocloud.get('https://app.amigocloud.com/api/v1/projects/32672/sql', query_fotos)\n",
    "            if fotos_filename['data'] != []:\n",
    "                dic = {'lote': lote.lote, 'file_name': fotos_filename['data'][0]['s3_filename']}\n",
    "                fotos.append(dic)\n",
    "\n",
    "    # GENERERAR PLANOS\n",
    "    i = 0\n",
    "    lista_planos = []\n",
    "    for propiedad in propiedades:\n",
    "        i = i + 1\n",
    "        lista_planos.append(generar_plano(propiedad, i))\n",
    "    \n",
    "    \n",
    "    # GENERAR QR\n",
    "    texto = '''\n",
    "--UTEA--\n",
    "--2DA INSPECCION CREDITO SIEMBRA--\n",
    "\n",
    "Codigo de Inspeccion: {cite}\n",
    "Fecha de 2da Inspeccion: {fecha}\n",
    "Nombre de Canero: {canero}\n",
    "Codigo Canero: {cod_ca}\n",
    "Total Solicitado: {soli}\n",
    "Total Area Insp.: {total_area} ha\n",
    "Estado de Insp.: {estado}\n",
    "Tecnico Responsable: {tecnico}'''\\\n",
    "    .format(\n",
    "        cite=str(credito.cite_2da_insp) + '-' + credito.fecha_2da_insp.split('/')[2], \n",
    "        fecha=credito.fecha_2da_insp, \n",
    "        canero=credito.canhero.split(' / ')[1],\n",
    "        cod_ca=credito.canhero.split(' / ')[0],\n",
    "        soli=credito.solicitado,\n",
    "        total_area=credito.total_2da_insp,\n",
    "        estado=credito.estado_2da_insp,\n",
    "        tecnico=credito.respon_2da_insp)\n",
    "    # Generar el código QR\n",
    "    qr = qrcode.QRCode(\n",
    "        version=1,\n",
    "        error_correction=qrcode.constants.ERROR_CORRECT_L,\n",
    "        box_size=10,\n",
    "        border=4,\n",
    "    )\n",
    "    qr.add_data(texto)\n",
    "    qr.make(fit=True)\n",
    "    \n",
    "    qr_img = qr.make_image(fill_color=\"black\", back_color=\"white\")\n",
    "    \n",
    "    cod_ca = credito.canhero.split(' / ')[0]\n",
    "    nom_ca = credito.canhero.split(' / ')[1]\n",
    "    filename_qr = \"qr_\" + cod_ca + '_CRS_' + credito.fecha_informe.replace('/', '-') + '_' + nom_ca\n",
    "    ruta_qr = ruta + '/planos/' + filename_qr + '.png'\n",
    "    # Guardar el código QR en un archivo\n",
    "    qr_img.save(ruta_qr)\n",
    "\n",
    "    \n",
    "    \n",
    "    \n",
    "    \n",
    "\n",
    "        \n",
    "    # GENERAR REPORTE\n",
    "    doc = DocxTemplate(ruta + \"/templates/tpl_inf_credito_2da.docx\")\n",
    "    #generar lista de InlineImage de planos \n",
    "    lista_InlineImage = []\n",
    "    for plano in lista_planos:\n",
    "        lista_InlineImage.append(docxtpl.InlineImage(doc, image_descriptor=plano, width=Mm(150)))\n",
    "    #descargar fotos y generar lista InlineImage\n",
    "    lista_fotos_inline = []\n",
    "    for foto in fotos:\n",
    "        #response = requests.get(\"https://www-amigocloud.s3.amazonaws.com/gallery/\" + foto['file_name'])\n",
    "        response = requests.get(\"https://www-amigocloud.s3.amazonaws.com/gallery/\" + foto['file_name'])\n",
    "        file = open(ruta + '/fotos/' + foto['file_name'], \"wb\")\n",
    "        file.write(response.content)\n",
    "        file.close()\n",
    "        lista_fotos_inline.append({'foto': docxtpl.InlineImage(doc, image_descriptor=ruta+'/fotos/' + foto['file_name'], width=Mm(120)), 'lote': foto['lote']})\n",
    "    firma_respon = None\n",
    "    if credito.respon_1ra_insp == 'Rogelio Acuña Rodríguez':\n",
    "        firma_respon = docxtpl.InlineImage(doc, image_descriptor=ruta+'/templates/firma_rogelio.png', width=Mm(60))\n",
    "    else:\n",
    "        firma_respon = docxtpl.InlineImage(doc, image_descriptor=ruta+'/templates/firma_jaldin.png', width=Mm(60))\n",
    "    # se crea obj inline par imagen QR\n",
    "    qr_file = docxtpl.InlineImage(doc, image_descriptor=ruta_qr, width=Mm(30))\n",
    "    \n",
    "    context = {'credito':credito, 'propiedades':propiedades, 'planos':lista_InlineImage, 'fotos':lista_fotos_inline, 'firma':firma_respon, 'qr':qr_file}\n",
    "    doc.render(context)\n",
    "    cod_ca = credito.canhero.split(' / ')[0]\n",
    "    nom_ca = credito.canhero.split(' / ')[1]\n",
    "    print(credito)\n",
    "    file_name = \"_\" + cod_ca + '_CRS_' + credito.fecha_informe.replace('/', '-') + '_' + nom_ca\n",
    "    doc.save(ruta + '/informes/' + file_name + '.docx')"
   ]
  },
  {
   "cell_type": "code",
   "execution_count": 12,
   "id": "f90ffde3-b794-45c0-a48e-f69a592752af",
   "metadata": {},
   "outputs": [],
   "source": [
    "def generar_plano(propiedad, i):\n",
    "    lotes_lista = []\n",
    "    for lote in propiedad.lotes:\n",
    "        lotes_lista.append(lote._asdict())\n",
    "    df = pd.DataFrame(lotes_lista)\n",
    "    df['geometria'] = df['geometria'].apply(convertir_wkb)\n",
    "\n",
    "    #Convertir a GeoDataFrame\n",
    "    data = geopandas.GeoDataFrame(df, geometry='geometria')\n",
    "    #data\n",
    "    #ctx.add_basemap(ax, source=ctx.providers.Esri.WorldImagery)\n",
    "\n",
    "    data['coords'] = data['geometria'].apply(lambda x: x.representative_point().coords[:])\n",
    "    data['coords'] = [coords[0] for coords in data['coords']]\n",
    "\n",
    "    data.crs = \"EPSG:4326\"\n",
    "    data = data.to_crs(epsg=3857)\n",
    "\n",
    "    \n",
    "    fig = plt.figure(i, figsize=(20,20))\n",
    "    #fig = plt.figure(1)\n",
    "    ax = None\n",
    "    ax = fig.add_subplot()\n",
    "\n",
    "    #data.set_crs(epsg=4326, inplace=True)\n",
    "\n",
    "    data.apply(lambda x: ax.annotate(text=x.lote + ' \\n' + str(x.superficie) + ' ha', xy=x.geometria.centroid.coords[0], ha='center', va='center', color='black', fontsize=12, weight=1000, bbox=dict(facecolor=(1,1,1,0.3), edgecolor='none', pad=0)), axis=1);\n",
    "\n",
    "    #data.boundary.plot(ax=ax, color=(0,0,0,0), linewidth=0)\n",
    "\n",
    "    #data = data.to_crs(epsg=3857)\n",
    "\n",
    "    minx, miny, maxx, maxy = data.total_bounds\n",
    "    ax.set_xlim(minx - 500, maxx + 500)\n",
    "    ax.set_ylim(miny - 400, maxy + 400)\n",
    "\n",
    "    data.plot(ax=ax, edgecolor='r', facecolor=(0,0,0,0), linewidth=2, figsize=(20,20))\n",
    "    #data.plot(ax=ax, edgecolor='r', facecolor=(0,0,0,0), linewidth=2)\n",
    "    \n",
    "    ctx.add_basemap(ax, source=ctx.providers.Esri.WorldImagery)\n",
    "    ax.set_axis_off()\n",
    "    ax.set_title(str(propiedad.propiedad), fontsize=20)\n",
    "    path = ruta+'/planos/' + str(propiedad.amigo_id) + '.jpeg'\n",
    "    fig.savefig(path, dpi = 300, bbox_inches='tight')\n",
    "    plt.clf()\n",
    "    return path"
   ]
  },
  {
   "cell_type": "code",
   "execution_count": 13,
   "id": "e4cd18b4-2c5c-4d42-a40a-7f98bb6650d4",
   "metadata": {},
   "outputs": [],
   "source": [
    "semana = 'S12'\n",
    "query = {'query': 'select split_part(canhero, \\' / \\', 1) cod, split_part(canhero, \\' / \\', 2) nom from dataset_307560 where semana_2da = \\'{sem}\\''.format(sem=semana)}\n",
    "project = 'https://app.amigocloud.com/api/v1/projects/32672/sql'\n",
    "select = amigocloud.get(project, query)\n",
    "data = select['data']"
   ]
  },
  {
   "cell_type": "code",
   "execution_count": 14,
   "id": "4cb06cb9-c4eb-42ca-acf9-6156d769042b",
   "metadata": {},
   "outputs": [
    {
     "data": {
      "text/plain": [
       "[{'cod': '1218', 'nom': 'BALCAZAR ALCANTARA JOSE LOLY'},\n",
       " {'cod': '11860', 'nom': 'ROCA SERRANO ARMANDO'},\n",
       " {'cod': '2641', 'nom': 'CRONENBOLD AGUILERA ROBERTO'},\n",
       " {'cod': '13132', 'nom': 'ZUMARAN MENACHO JORGE'},\n",
       " {'cod': '2285', 'nom': 'CUELLAR ZABALA ADALBERTO'},\n",
       " {'cod': '12478', 'nom': 'SERRATE COLAMARINO HUGO'}]"
      ]
     },
     "execution_count": 14,
     "metadata": {},
     "output_type": "execute_result"
    }
   ],
   "source": [
    "data"
   ]
  },
  {
   "cell_type": "code",
   "execution_count": 15,
   "id": "c9643d6a-4861-4ed3-b9ba-619aeaaeba46",
   "metadata": {},
   "outputs": [],
   "source": [
    "#lista = [1068, 18062, 10739, 41955, 2392, 15162, 2517, 8706, 15085, 430, 874, 5498, 2505, 2274]\n",
    "lista = [int(i['cod']) for i in data]"
   ]
  },
  {
   "cell_type": "code",
   "execution_count": 16,
   "id": "59340321-ace8-43b3-832b-75a531664da5",
   "metadata": {},
   "outputs": [
    {
     "name": "stdout",
     "output_type": "stream",
     "text": [
      "6 informes\n"
     ]
    }
   ],
   "source": [
    "print(len(lista), 'informes')"
   ]
  },
  {
   "cell_type": "code",
   "execution_count": 17,
   "id": "66f18907-ce26-4932-b53a-4ef39be24c3c",
   "metadata": {},
   "outputs": [
    {
     "data": {
      "text/plain": [
       "[1218, 11860, 2641, 13132, 2285, 12478]"
      ]
     },
     "execution_count": 17,
     "metadata": {},
     "output_type": "execute_result"
    }
   ],
   "source": [
    "lista"
   ]
  },
  {
   "cell_type": "code",
   "execution_count": 18,
   "id": "70c4c82b-41de-461d-8a66-628ab505953f",
   "metadata": {},
   "outputs": [
    {
     "name": "stdout",
     "output_type": "stream",
     "text": [
      "L13 6e6de98b5abe4ccbb75299e74f0ae9e7\n",
      "L9.2 88754885a24447eba362468945b736dd\n",
      "L3.3 d423da6bbfd84d3f9a458ad01f87d8f7\n",
      "L10.1 e81fbd1acf0b4d7abe3957d4de059171\n",
      "L6.1 b9773a3f80704e8db6bdeaa686da8bfc\n",
      "L2 6da80ad7a57d42eb8c76608725602e88\n",
      "L1 03a5063a849a417685c8a95d00c999f2\n",
      "L3.1 aadd74a9bd724250b00a7ce7c82cdfed\n",
      "L7.1 a194064c6ded47ab84f3feeaef2d2f9c\n",
      "L11 06024ea8f79447e29b18c770c59b3e86\n",
      "L4 e93a60e50a994d8a8df4cfef9b1cab66\n",
      "L5 ac2f6446703544bd85ff8e9397d0de4d\n",
      "credito(fecha_registro='2023-11-16 00:59:31.305131+00:00', amigo_id='1dd32b84b1124f01990fa8b5f9f56304', semana_1ra='S47', semana_2da='S12', institucion=66, canhero='1218 / BALCAZAR ALCANTARA JOSE LOLY', solicitado=130.0, total_1ra_insp=130.19, estado_1ra_insp='APROBADO', fecha_1ra_insp='2023-11-21 11:38:01+00:00', cite_1ra_insp=534, respon_1ra_insp='Rogelio Acuña Rodríguez', obs_1ra=None, link_doc_1ra='https://drive.google.com/file/d/1x9n_pT5ZQS2PIL-ojfXydbg3CrBsKBws/view?usp=drivesdk', total_2da_insp=130.19, estado_2da_insp='APROBADO', fecha_2da_insp='19/03/2024', cite_2da_insp=21, respon_2da_insp='Juan Pablo Jaldin Duran', obs_2da=None, link_doc_2da=None, total_nacido=None, total_no_nacido=None, muestreo=True, glifosato=False, nivelacion_1=True, drenaje=True, romeplow=True, rastra=True, subsolado=False, rotacion=True, arado=True, ferti_base=True, enraizadores=True, insecticidas=True, fungicidas=True, preemergente=True, fecha_actualizacion='2024-03-24 22:48:34.995853+00:00', fertilizacion=False, fungi_en_siem=False, insec_en_siem=False, promot_de_brota=False, pre_emergente=False, post_emergente=False, cultivado=False, ctrl_bio_tricho=False, insect_fisio_otros=False, ctrl_malezas=False, nivelacion_2=False, drenajes=False, financiamiento='IAG', id=274, total_sembrado_2da=10.83, fecha_informe='20/03/2024')\n",
      "====================== 1218\n",
      "L5.12 c361e0ddcaa0492e8d86e0c3bf63e74a\n",
      "L2.4 98795bf3279b4c5bad451affb151364a\n",
      "L5.13 6fe41378805d4d1287db281b75d9356a\n",
      "L5.10 e6ac54c32e174938830cde206e1bae0a\n",
      "L5.9 134a6f7e50cf4cc885c3e2c36c478bf3\n",
      "L5.11 63dfe9d270a144838a6ec9bf59d87c42\n",
      "credito(fecha_registro='2023-11-16 00:59:31.305131+00:00', amigo_id='6047519d4e9f479b8a73b395f1f434ca', semana_1ra='S47', semana_2da='S12', institucion=50, canhero='11860 / ROCA SERRANO ARMANDO', solicitado=90.0, total_1ra_insp=80.48, estado_1ra_insp='APROBADO', fecha_1ra_insp='2023-11-24 13:40:52+00:00', cite_1ra_insp=547, respon_1ra_insp='Juan Pablo Jaldin Duran', obs_1ra=None, link_doc_1ra='https://drive.google.com/file/d/1id6JeG5HC6M0aXpTMbPvHVMiCVtmuujN/view?usp=drivesdk', total_2da_insp=104.54, estado_2da_insp='APROBADO', fecha_2da_insp='18/03/2024', cite_2da_insp=24, respon_2da_insp='Rogelio Acuña Rodríguez', obs_2da='SE INICIO LA SEMBRAR', link_doc_2da=None, total_nacido=None, total_no_nacido=None, muestreo=False, glifosato=False, nivelacion_1=True, drenaje=True, romeplow=True, rastra=True, subsolado=False, rotacion=False, arado=False, ferti_base=True, enraizadores=True, insecticidas=True, fungicidas=True, preemergente=True, fecha_actualizacion='2024-03-24 22:48:42.987078+00:00', fertilizacion=False, fungi_en_siem=False, insec_en_siem=False, promot_de_brota=False, pre_emergente=False, post_emergente=False, cultivado=False, ctrl_bio_tricho=False, insect_fisio_otros=False, ctrl_malezas=False, nivelacion_2=False, drenajes=False, financiamiento='IAG', id=277, total_sembrado_2da=7.38, fecha_informe='19/03/2024')\n",
      "====================== 11860\n",
      "L32 a278ec93398b401dbbf0184fc33d8871\n",
      "L33 31b187afceb84f9eae824898b8ad4860\n",
      "L23 064bbd54d7704edd80b977d4536fffcc\n",
      "L25 3562a32816cc468e957d0f6b4b41dbc9\n",
      "L26 68e0837947c9401fbb69bd31b29a270a\n",
      "L24 8dd4a248c5084122ad8706e9f300104a\n",
      "L21 c730a1526271403fb10df0d8bbe316ff\n",
      "L20 2135b80226354da18380ca6b81391eb2\n",
      "L1 be9d8d2ab40c4550804eab4f3c973cd9\n",
      "L51 45bc3254cc9c4d1e8f6016bd4e70352a\n",
      "L30.1 04c247a9c66d49498afb819402b14ce0\n",
      "L6 7aaca72e958540538870f0563a098315\n",
      "L4 599bd0097eb64254a68f85a120d654c9\n",
      "L3 d3cd034e55e14fe1b0b713e71583e771\n",
      "L7 c305198e7e3e4e0494f6eab998ac9a67\n",
      "L5 6295dd0a60b2497d9b6876e3de89097a\n",
      "L7 a51cc877b9d443a4838758ab7a333b7b\n",
      "credito(fecha_registro='2023-11-16 00:59:31.305131+00:00', amigo_id='ea2ffee4362e41c4b58a8ba3de58986c', semana_1ra='S49', semana_2da='S12', institucion=50, canhero='2641 / CRONENBOLD AGUILERA ROBERTO', solicitado=79.0, total_1ra_insp=79.85, estado_1ra_insp='APROBADO', fecha_1ra_insp='2023-12-08 18:10:16+00:00', cite_1ra_insp=582, respon_1ra_insp='Juan Pablo Jaldin Duran', obs_1ra=None, link_doc_1ra='https://drive.google.com/file/d/1G4-t0WsbcgCTfTZIt6-hII99fCtHGxBI/view?usp=drivesdk', total_2da_insp=93.65, estado_2da_insp='APROBADO', fecha_2da_insp='18/03/2024', cite_2da_insp=25, respon_2da_insp='Rogelio Acuña Rodríguez', obs_2da='SE INICIO LA SIEMBRA EN LA PROPIEDAD SAN MARIANITO', link_doc_2da=None, total_nacido=None, total_no_nacido=None, muestreo=False, glifosato=False, nivelacion_1=True, drenaje=False, romeplow=True, rastra=True, subsolado=False, rotacion=True, arado=False, ferti_base=True, enraizadores=True, insecticidas=True, fungicidas=True, preemergente=True, fecha_actualizacion='2024-03-24 22:48:49.414359+00:00', fertilizacion=False, fungi_en_siem=False, insec_en_siem=False, promot_de_brota=False, pre_emergente=False, post_emergente=False, cultivado=False, ctrl_bio_tricho=False, insect_fisio_otros=False, ctrl_malezas=False, nivelacion_2=False, drenajes=False, financiamiento='IAG', id=282, total_sembrado_2da=35.04, fecha_informe='19/03/2024')\n",
      "====================== 2641\n",
      "L10 2c9c6a3475ee49db99c8cf656f6c9916\n",
      "L6 9f3266a14da74365b0776eb3f0d89ed3\n",
      "L7 7887027974a348c4a85a4e676590e04f\n",
      "L9 a634d77f63154beaa79d3b357fef0bf6\n",
      "L8 0fba6be754e747128723f3a1a51dc6e3\n",
      "L5 1abd4121b9854b09a8f87e77d440016c\n",
      "credito(fecha_registro='2023-11-16 00:59:31.305131+00:00', amigo_id='2199c2376c854f4bb51e1352125148dd', semana_1ra='S', semana_2da='S12', institucion=50, canhero='13132 / ZUMARAN MENACHO JORGE', solicitado=50.0, total_1ra_insp=None, estado_1ra_insp='PENDIENTE', fecha_1ra_insp=None, cite_1ra_insp=None, respon_1ra_insp=None, obs_1ra=None, link_doc_1ra=None, total_2da_insp=13.07, estado_2da_insp='APROBADO', fecha_2da_insp='19/03/2024', cite_2da_insp=22, respon_2da_insp='Juan Pablo Jaldin Duran', obs_2da=None, link_doc_2da=None, total_nacido=None, total_no_nacido=None, muestreo=False, glifosato=True, nivelacion_1=True, drenaje=False, romeplow=True, rastra=True, subsolado=False, rotacion=False, arado=False, ferti_base=False, enraizadores=True, insecticidas=True, fungicidas=True, preemergente=True, fecha_actualizacion='2024-03-24 22:48:55.701360+00:00', fertilizacion=False, fungi_en_siem=False, insec_en_siem=False, promot_de_brota=False, pre_emergente=False, post_emergente=False, cultivado=False, ctrl_bio_tricho=False, insect_fisio_otros=False, ctrl_malezas=False, nivelacion_2=False, drenajes=False, financiamiento='IAG', id=288, total_sembrado_2da=11.06, fecha_informe='20/03/2024')\n",
      "====================== 13132\n",
      "L5.1 8f0f1ca6e8294da0bde302506d343db2\n",
      "L3.2 7981978e68c14d43b02aa1d9d7c36b8e\n",
      "L7 fa96bd30d5514472a493044b21243ea0\n",
      "L5.2 9f57844ccde14144a633eab6a5f246aa\n",
      "credito(fecha_registro='2023-11-16 00:59:31.305131+00:00', amigo_id='52cfa0c355d244fd9a9b424ba0b4eeba', semana_1ra='S49', semana_2da='S12', institucion=62, canhero='2285 / CUELLAR ZABALA ADALBERTO', solicitado=10.0, total_1ra_insp=10.89, estado_1ra_insp='APROBADO', fecha_1ra_insp='2023-12-07 19:24:09+00:00', cite_1ra_insp=584, respon_1ra_insp='Rogelio Acuña Rodríguez', obs_1ra=None, link_doc_1ra='https://drive.google.com/file/d/1daGeyjY7egC-8JLfRTkSFXE9ljIs4sVd/view?usp=drivesdk', total_2da_insp=10.21, estado_2da_insp='APROBADO', fecha_2da_insp='21/03/2024', cite_2da_insp=23, respon_2da_insp='Rogelio Acuña Rodríguez', obs_2da='LOTES SE ENCUENTRAN EN SU TOTALIDAD', link_doc_2da=None, total_nacido=None, total_no_nacido=None, muestreo=False, glifosato=False, nivelacion_1=True, drenaje=True, romeplow=True, rastra=True, subsolado=False, rotacion=False, arado=False, ferti_base=True, enraizadores=True, insecticidas=True, fungicidas=False, preemergente=True, fecha_actualizacion='2024-03-24 22:49:02.303064+00:00', fertilizacion=False, fungi_en_siem=False, insec_en_siem=False, promot_de_brota=False, pre_emergente=False, post_emergente=False, cultivado=False, ctrl_bio_tricho=False, insect_fisio_otros=False, ctrl_malezas=False, nivelacion_2=False, drenajes=False, financiamiento='IAG', id=374, total_sembrado_2da=5.89, fecha_informe='22/03/2024')\n",
      "====================== 2285\n",
      "L19 9cdeb6f431c144f4934404c064fa9072\n",
      "L20 affcdcc1cb154c888b5207e73d5e0b0a\n",
      "L4 b74599be97594e2cae4db1b64b9c5557\n",
      "L3 0fa981ae5a604a7db55548e10ed5c090\n",
      "L2 c8c85c67cb4b4dd8a7bb37673fcb4a69\n",
      "credito(fecha_registro='2023-11-16 00:59:31.305131+00:00', amigo_id='af9b8fe0d9c94dc4ab267881cd36db87', semana_1ra='S48', semana_2da='S12', institucion=40, canhero='12478 / SERRATE COLAMARINO HUGO', solicitado=80.0, total_1ra_insp=71.08, estado_1ra_insp='APROBADO', fecha_1ra_insp='2023-12-01 14:42:04+00:00', cite_1ra_insp=572, respon_1ra_insp='Juan Pablo Jaldin Duran', obs_1ra=None, link_doc_1ra='https://drive.google.com/file/d/1XV9SC7XfOfiUZgAYdGaf7Y0xq_h8kU4l/view?usp=drivesdk', total_2da_insp=71.08, estado_2da_insp='APROBADO', fecha_2da_insp='18/03/2024', cite_2da_insp=20, respon_2da_insp='Juan Pablo Jaldin Duran', obs_2da=None, link_doc_2da=None, total_nacido=None, total_no_nacido=None, muestreo=False, glifosato=True, nivelacion_1=True, drenaje=True, romeplow=True, rastra=True, subsolado=False, rotacion=True, arado=False, ferti_base=False, enraizadores=True, insecticidas=True, fungicidas=True, preemergente=True, fecha_actualizacion='2024-03-24 22:49:10.050995+00:00', fertilizacion=False, fungi_en_siem=False, insec_en_siem=False, promot_de_brota=False, pre_emergente=False, post_emergente=False, cultivado=False, ctrl_bio_tricho=False, insect_fisio_otros=False, ctrl_malezas=False, nivelacion_2=False, drenajes=False, financiamiento='IAG', id=293, total_sembrado_2da=15.26, fecha_informe='19/03/2024')\n",
      "====================== 12478\n"
     ]
    },
    {
     "data": {
      "text/plain": [
       "<Figure size 2000x2000 with 0 Axes>"
      ]
     },
     "metadata": {},
     "output_type": "display_data"
    },
    {
     "data": {
      "text/plain": [
       "<Figure size 2000x2000 with 0 Axes>"
      ]
     },
     "metadata": {},
     "output_type": "display_data"
    },
    {
     "data": {
      "text/plain": [
       "<Figure size 2000x2000 with 0 Axes>"
      ]
     },
     "metadata": {},
     "output_type": "display_data"
    },
    {
     "data": {
      "text/plain": [
       "<Figure size 2000x2000 with 0 Axes>"
      ]
     },
     "metadata": {},
     "output_type": "display_data"
    }
   ],
   "source": [
    "for i in lista:\n",
    "    generar_reporte(i)\n",
    "    print('======================', i)"
   ]
  }
 ],
 "metadata": {
  "kernelspec": {
   "display_name": "Python 3 (ipykernel)",
   "language": "python",
   "name": "python3"
  },
  "language_info": {
   "codemirror_mode": {
    "name": "ipython",
    "version": 3
   },
   "file_extension": ".py",
   "mimetype": "text/x-python",
   "name": "python",
   "nbconvert_exporter": "python",
   "pygments_lexer": "ipython3",
   "version": "3.10.13"
  }
 },
 "nbformat": 4,
 "nbformat_minor": 5
}
