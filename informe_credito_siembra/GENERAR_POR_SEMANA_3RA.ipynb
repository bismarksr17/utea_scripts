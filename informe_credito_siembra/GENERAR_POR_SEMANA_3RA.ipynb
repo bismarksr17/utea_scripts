{
 "cells": [
  {
   "cell_type": "code",
   "execution_count": 1,
   "id": "665919a4-6184-4280-8c4c-64588f9131d6",
   "metadata": {
    "tags": []
   },
   "outputs": [],
   "source": [
    "import sys\n",
    "sys.path.append('../_amigocloud')\n",
    "\n",
    "from amigocloud import AmigoCloud\n",
    "\n",
    "from werkzeug.wrappers import Request, Response\n",
    "#from flask import Flask, render_template\n",
    "from jinja2 import Template\n",
    "\n",
    "#from datetime import date\n",
    "from datetime import datetime, timedelta\n",
    "\n",
    "import collections\n",
    "\n",
    "from datetime import datetime\n",
    "\n",
    "from shapely import wkb\n",
    "import geopandas\n",
    "import pandas as pd\n",
    "import contextily as ctx\n",
    "import matplotlib.pyplot as plt\n",
    "\n",
    "from docxtpl import DocxTemplate\n",
    "import docxtpl\n",
    "from docx.shared import Mm\n",
    "import requests\n",
    "\n",
    "def convertir_wkb(wkb_data):\n",
    "    return wkb.loads(wkb_data, hex=True)"
   ]
  },
  {
   "cell_type": "code",
   "execution_count": 2,
   "id": "f78ec737-093c-44bb-a782-1af54be4a65f",
   "metadata": {
    "tags": []
   },
   "outputs": [
    {
     "data": {
      "text/plain": [
       "<amigocloud.AmigoCloud at 0x16cff5ea560>"
      ]
     },
     "execution_count": 2,
     "metadata": {},
     "output_type": "execute_result"
    }
   ],
   "source": [
    "# ruta de carpera donde estan las llaves\n",
    "ruta = open('../ruta.txt')\n",
    "ruta = ruta.readlines()[0]\n",
    "\n",
    "# leer token\n",
    "acceso = open(ruta + '/_keys/api_amigocloud.key','r')\n",
    "api_token = acceso.readlines()[0]\n",
    "acceso.close()\n",
    "amigocloud = AmigoCloud(token=api_token)\n",
    "amigocloud"
   ]
  },
  {
   "cell_type": "code",
   "execution_count": 4,
   "id": "671335c0-f848-4ced-9199-d1000c19c39b",
   "metadata": {
    "tags": []
   },
   "outputs": [],
   "source": [
    "def generar_reporte(codigo_canhero):\n",
    "    # EXTRAER DATOS DE CREDITO\n",
    "    query_credito = {'query': 'select * from dataset_307560 where cast(SPLIT_PART(canhero, \\'/\\', 1) as integer) = {cod_ca}'.format(cod_ca=codigo_canhero)}\n",
    "    credito_select = amigocloud.get('https://app.amigocloud.com/api/v1/projects/32672/sql', query_credito)\n",
    "    credito_data = credito_select['data'][0]\n",
    "    credito_data['fecha_informe'] = datetime.strptime(credito_data['fecha_3ra_insp'].split(' ')[0], '%Y-%m-%d').strftime('%d/%m/%Y')\n",
    "    credito_data['fecha_3ra_insp'] = datetime.strptime(credito_data['fecha_3ra_insp'].split(' ')[0], '%Y-%m-%d').strftime('%d/%m/%Y')\n",
    "    credito = collections.namedtuple(\"credito\", credito_data.keys())(*credito_data.values())\n",
    "\n",
    "    # EXTRAER DATOS DE PROPIEDADES\n",
    "    # query_propiedades = {'query': 'select * from dataset_282968 where cre_ref_prop = \\'{cre_ref_prop}\\''.format(cre_ref_prop=credito.amigo_id)}\n",
    "    query_propiedades = {'query': 'select prop.propiedad, prop.amigo_id from dataset_307562 prop inner join dataset_307563 lotes on lotes.prop_ref_lote=prop.amigo_id where insp_ref_prop=\\'{cre_ref_prop}\\' and (lotes.estado_de_siembra=\\'CAÑA NACIDA\\' or lotes.estado_de_siembra=\\'CAÑA NO NACIDA\\') group by prop.propiedad, prop.amigo_id'.format(cre_ref_prop=credito.amigo_id)}\n",
    "    propiedades_select = amigocloud.get('https://app.amigocloud.com/api/v1/projects/32672/sql', query_propiedades)    \n",
    "    \n",
    "    propiedades_data = propiedades_select['data']\n",
    "\n",
    "    # EXTRAER DATOS DE LOTES\n",
    "    propiedades = []\n",
    "    for prop in propiedades_data:\n",
    "        prop['lotes'] = []\n",
    "        query_lotes = {'query': 'select * from dataset_307563 where prop_ref_lote=\\'{prop_ref_lote}\\' and (estado_de_siembra=\\'CAÑA NACIDA\\' or estado_de_siembra=\\'CAÑA NO NACIDA\\')'.format(prop_ref_lote=prop['amigo_id'])}\n",
    "        lotes_select = amigocloud.get('https://app.amigocloud.com/api/v1/projects/32672/sql', query_lotes)\n",
    "        for lote_select in lotes_select['data']:\n",
    "            lote = collections.namedtuple(\"lote\", lote_select.keys())(*lote_select.values())\n",
    "            prop['lotes'].append(lote)\n",
    "        propiedades.append(collections.namedtuple(\"propiedad\", prop.keys())(*prop.values()))\n",
    "\n",
    "    # EXTRAER FOTOS\n",
    "    fotos = []\n",
    "    for propiedad in propiedades:\n",
    "        for lote in propiedad.lotes:\n",
    "            print(lote.lote, lote.amigo_id)\n",
    "            query_fotos = {'query': 'select source_amigo_id, s3_filename from gallery_58438 where source_amigo_id=\\'{source_amigo_id}\\''.format(source_amigo_id=lote.amigo_id)}\n",
    "            fotos_filename = amigocloud.get('https://app.amigocloud.com/api/v1/projects/32672/sql', query_fotos)\n",
    "            if fotos_filename['data'] != []:\n",
    "                dic = {'lote': lote.lote, 'file_name': fotos_filename['data'][0]['s3_filename']}\n",
    "                fotos.append(dic)\n",
    "\n",
    "    # GENERERAR PLANOS\n",
    "    i = 0\n",
    "    lista_planos = []\n",
    "    for propiedad in propiedades:\n",
    "        i = i + 1\n",
    "        lista_planos.append(generar_plano(propiedad, i))\n",
    "\n",
    "\n",
    "    # GENERAR REPORTE\n",
    "    doc = DocxTemplate(ruta + \"/templates/tpl_inf_credito_3ra.docx\")\n",
    "    #generar lista de InlineImage de planos \n",
    "    lista_InlineImage = []\n",
    "    for plano in lista_planos:\n",
    "        lista_InlineImage.append(docxtpl.InlineImage(doc, image_descriptor=plano, width=Mm(150)))\n",
    "    #descargar fotos y generar lista InlineImage\n",
    "    lista_fotos_inline = []\n",
    "    for foto in fotos:\n",
    "        #response = requests.get(\"https://www-amigocloud.s3.amazonaws.com/gallery/\" + foto['file_name'])\n",
    "        response = requests.get(\"https://www-amigocloud.s3.amazonaws.com/gallery/\" + foto['file_name'])\n",
    "        file = open(ruta + '/fotos/' + foto['file_name'], \"wb\")\n",
    "        file.write(response.content)\n",
    "        file.close()\n",
    "        lista_fotos_inline.append({'foto': docxtpl.InlineImage(doc, image_descriptor=ruta + '/fotos/' + foto['file_name'], width=Mm(120)), 'lote': foto['lote']})\n",
    "    firma_respon = None\n",
    "    if credito.respon_2da_insp == 'Juan Pablo Jaldin Duran':\n",
    "        firma_respon = docxtpl.InlineImage(doc, image_descriptor=ruta + '/templates/firma_jaldin.png', width=Mm(60))\n",
    "    else:\n",
    "        firma_respon = docxtpl.InlineImage(doc, image_descriptor=ruta + '/templates/firma_rogelio.png', width=Mm(60))\n",
    "    context = {'credito':credito, 'propiedades':propiedades, 'planos':lista_InlineImage, 'fotos':lista_fotos_inline, 'firma':firma_respon}\n",
    "    doc.render(context)\n",
    "    cod_ca = credito.canhero.split(' / ')[0]\n",
    "    nom_ca = credito.canhero.split(' / ')[1]\n",
    "    file_name = file_name = '_' + cod_ca + '_CRS_' + credito.fecha_3ra_insp.replace('/', '-') + '_' + nom_ca + '_' + str(credito.id)\n",
    "    doc.save(ruta + '/informes/' + file_name + '.docx')"
   ]
  },
  {
   "cell_type": "code",
   "execution_count": 5,
   "id": "f90ffde3-b794-45c0-a48e-f69a592752af",
   "metadata": {
    "tags": []
   },
   "outputs": [],
   "source": [
    "def generar_plano(propiedad, i):\n",
    "    lotes_lista = []\n",
    "    for lote in propiedad.lotes:\n",
    "        lotes_lista.append(lote._asdict())\n",
    "    df = pd.DataFrame(lotes_lista)\n",
    "    df['geometria'] = df['geometria'].apply(convertir_wkb)\n",
    "\n",
    "    #Convertir a GeoDataFrame\n",
    "    data = geopandas.GeoDataFrame(df, geometry='geometria')\n",
    "    #data\n",
    "    #ctx.add_basemap(ax, source=ctx.providers.Esri.WorldImagery)\n",
    "\n",
    "    data['coords'] = data['geometria'].apply(lambda x: x.representative_point().coords[:])\n",
    "    data['coords'] = [coords[0] for coords in data['coords']]\n",
    "    \n",
    "    \n",
    "    data.crs = \"EPSG:4326\"\n",
    "    data = data.to_crs(epsg=3857)\n",
    "    print(data.crs.name)\n",
    "    \n",
    "    fig = plt.figure(i, figsize=(20,20))\n",
    "    #fig = plt.figure(1)\n",
    "    ax = None\n",
    "    ax = fig.add_subplot()\n",
    "\n",
    "    #data.set_crs(epsg=4326, inplace=True)\n",
    "\n",
    "    data.apply(lambda x: ax.annotate(text=x.lote + ' \\n' + str(x.superficie) + ' ha', xy=x.geometria.centroid.coords[0], ha='center', va='center', color='black', fontsize=12, weight=1000, bbox=dict(facecolor=(1,1,1,0.3), edgecolor='none', pad=0)), axis=1);\n",
    "\n",
    "    #data.boundary.plot(ax=ax, color=(0,0,0,0), linewidth=0)\n",
    "\n",
    "    #data = data.to_crs(epsg=3857)\n",
    "\n",
    "    minx, miny, maxx, maxy = data.total_bounds\n",
    "    ax.set_xlim(minx - 500, maxx + 500)\n",
    "    ax.set_ylim(miny - 400, maxy + 400)\n",
    "\n",
    "    data.plot(ax=ax, edgecolor='r', facecolor=(0,0,0,0), linewidth=2, figsize=(20,20))\n",
    "    #data.plot(ax=ax, edgecolor='r', facecolor=(0,0,0,0), linewidth=2)\n",
    "    \n",
    "    ctx.add_basemap(ax, source=ctx.providers.Esri.WorldImagery)\n",
    "    ax.set_axis_off()\n",
    "    ax.set_title(str(propiedad.propiedad), fontsize=20)\n",
    "    ruta_plano = ruta + '/planos/' + str(propiedad.amigo_id) + '.jpeg'\n",
    "    fig.savefig(ruta_plano, dpi = 300, bbox_inches='tight')\n",
    "    plt.clf()\n",
    "    return ruta_plano"
   ]
  },
  {
   "cell_type": "code",
   "execution_count": 6,
   "id": "087099cc-c534-4e27-bcce-15a11a372167",
   "metadata": {
    "tags": []
   },
   "outputs": [],
   "source": [
    "semana = 'S33'\n",
    "query = {'query': 'select split_part(canhero, \\' / \\', 1) cod, split_part(canhero, \\' / \\', 2) nom from dataset_307560 where semana_3ra = \\'{sem}\\''.format(sem=semana)}\n",
    "project = 'https://app.amigocloud.com/api/v1/projects/32672/sql'\n",
    "select = amigocloud.get(project, query)\n",
    "data = select['data']"
   ]
  },
  {
   "cell_type": "code",
   "execution_count": 7,
   "id": "9849c6ee-9d80-404e-81d0-28b79513cc20",
   "metadata": {
    "tags": []
   },
   "outputs": [
    {
     "data": {
      "text/plain": [
       "[{'cod': '41827', 'nom': 'SALAZAR PERALTA GABRIELA'},\n",
       " {'cod': '11860', 'nom': 'ROCA SERRANO ARMANDO'},\n",
       " {'cod': '3500', 'nom': 'ESPINOZA MAIDA NELSON'},\n",
       " {'cod': '42131', 'nom': 'AGROPECUARIA CAMPOAZUL S.R.L.'},\n",
       " {'cod': '40249', 'nom': 'RIOS ROJAS JUAN CARLOS'},\n",
       " {'cod': '14760', 'nom': 'VARGAS PINTO RENE'},\n",
       " {'cod': '2794', 'nom': 'DELGADILLO RODRIGUEZ JUAN CARLOS'},\n",
       " {'cod': '4528', 'nom': 'GUZMAN ORELLANA GUSTAVO'},\n",
       " {'cod': '10806', 'nom': 'PALICIO BRUNO OSCAR ROBERTO'},\n",
       " {'cod': '6578', 'nom': 'JALDIN ARREDONDO JOSE LUIS'},\n",
       " {'cod': '11805', 'nom': 'RIOJA CABRERA JOSE GROVER'},\n",
       " {'cod': '17678', 'nom': 'ESPINOZA JUANA MAIDA DE'}]"
      ]
     },
     "execution_count": 7,
     "metadata": {},
     "output_type": "execute_result"
    }
   ],
   "source": [
    "data"
   ]
  },
  {
   "cell_type": "code",
   "execution_count": 8,
   "id": "18543415-df34-4ac7-9299-e5eee01b5c69",
   "metadata": {
    "tags": []
   },
   "outputs": [],
   "source": [
    "# lista = [430, 40270, 13132, 874, 41966, 11798, 41544, 14993, 644, 1068, 13763, 2220, 1858, 2719]\n",
    "lista = [i['cod'] for i in data]"
   ]
  },
  {
   "cell_type": "code",
   "execution_count": 9,
   "id": "92a9db86-ca60-4e4f-bab5-15532a6a160f",
   "metadata": {
    "tags": []
   },
   "outputs": [
    {
     "data": {
      "text/plain": [
       "12"
      ]
     },
     "execution_count": 9,
     "metadata": {},
     "output_type": "execute_result"
    }
   ],
   "source": [
    "len(lista)"
   ]
  },
  {
   "cell_type": "code",
   "execution_count": 10,
   "id": "48d79f54-6869-432f-8076-3a928eff1753",
   "metadata": {
    "tags": []
   },
   "outputs": [
    {
     "name": "stdout",
     "output_type": "stream",
     "text": [
      "L4 fd4dec8599444e77baa0ccdf0777204b\n",
      "L5 20ed56a7083c4cc491e9497d2395f1eb\n",
      "WGS 84 / Pseudo-Mercator\n",
      "====================== 41827\n",
      "A1.1 bec76fd614f94ff7abcba781b4118cc5\n",
      "L5.14 b1576ed9a0e64dbab71e2fe623f57a3e\n",
      "L2.4 98795bf3279b4c5bad451affb151364a\n",
      "L5.13 6fe41378805d4d1287db281b75d9356a\n",
      "A2 b627b86555f5433e8f3dd4eb3e637664\n",
      "A1 99ac84bcded54d57bf59f30e8b98c378\n",
      "A3 981d0393977440efb798f4b5748593d6\n",
      "L5.9 134a6f7e50cf4cc885c3e2c36c478bf3\n",
      "L5.11 63dfe9d270a144838a6ec9bf59d87c42\n",
      "L5.10 e6ac54c32e174938830cde206e1bae0a\n",
      "A4 fd6ef6041b8b4d6bbdbe3572cc95bf55\n",
      "A7 73e2893ef3354dfd93fd83f314b77df9\n",
      "L5.12 c361e0ddcaa0492e8d86e0c3bf63e74a\n",
      "WGS 84 / Pseudo-Mercator\n",
      "====================== 11860\n",
      "L6.1 53fe92a723d045b7af672c37341e4d1e\n",
      "L6.3 94ecfdd44cbf4c55b5576124c9032e1a\n",
      "L6.2 b6c186ae818d412d85ea73c8d67bf0d5\n",
      "L6.4 f0067285241a4147b6df3eeb3abd0ee7\n",
      "L6.5 d14bdcd23044440ab73e6b0c60fed9bd\n",
      "WGS 84 / Pseudo-Mercator\n",
      "====================== 3500\n",
      "L6 345fc962c5324c6186643c2488364646\n",
      "WGS 84 / Pseudo-Mercator\n",
      "====================== 42131\n",
      "L10 6d76a91f05204134bf015c7cb87047bc\n",
      "L1 98b758ab257b4c7fb5b0a497dcba179c\n",
      "WGS 84 / Pseudo-Mercator\n",
      "WGS 84 / Pseudo-Mercator\n",
      "====================== 40249\n",
      "L1.1 5af6d8168f844be585c93b56145b0f73\n",
      "L4.1 bea667319f01426a8fbc7a2f77ed5e78\n",
      "L3.1 8f60a7f864854697810c2ec5520fe5fe\n",
      "L10 ad07cf34705546809d97e2480d0256d5\n",
      "L1.2 c9dfbd8ac3f04f799afee91eebc1e12f\n",
      "L2 dc69b6d897584d0e9be7ecdbe26803c8\n",
      "L5.1 64c2b85057484496b4b0f8093a692da0\n",
      "L6.1 b5e5fd2a274845c290b4068ef3448bcf\n",
      "L1.5 3207ca163f234a53b4e6480e77ba8996\n",
      "L2.2 003b2df951f5428d83a492352467a0e7\n",
      "L13.3 b1ebfb6fa4e54e67878068516c1259fc\n",
      "L6.1 074a69908aa84f57acf4d9833446d6c5\n",
      "L1.1 0906a249790548e596f98768692a69c4\n",
      "L8.2 774d3826a93c447abd26e848edb27d21\n",
      "L13.2 26f951a350d2416f97cad321c41a6bb9\n",
      "L5.3 a704641463a8480b9fb4033a0cf39b19\n",
      "L5.2 aed0b6deae324b77988911e8efe8de87\n",
      "L8.1 758b25a966bd4f79bbeb9f4a113b3bfa\n",
      "L4.1 aaf1d4b0b3f94178803ced0383e3a60e\n",
      "L4.2 0d948ca32dc748e6a22da3cfd5827cb6\n",
      "L2.1 e7fc3f71103642b8bf7b1c36b3efc975\n",
      "L6 4549741fb9374cee858cfa6103dc5408\n",
      "WGS 84 / Pseudo-Mercator\n",
      "WGS 84 / Pseudo-Mercator\n",
      "WGS 84 / Pseudo-Mercator\n",
      "====================== 14760\n",
      "L7.2 87aef3c799a64ad7ac4640b4111937b2\n",
      "L8.2 fe1a8371fb064955813c94675d9638bc\n",
      "WGS 84 / Pseudo-Mercator\n",
      "====================== 2794\n",
      "L5 ccb59fd0c85b4f84bbf69c287c54a0cf\n",
      "L1 29009b5b99504e5d94fd2587a2beb178\n",
      "WGS 84 / Pseudo-Mercator\n",
      "====================== 4528\n",
      "L48.2 df54ae1d34c44987ae9ac48dda20aead\n",
      "L48.5 11457e1ab6a84b6ea1ebdeea8029d8df\n",
      "L36.12 77ed6314455b4fdf9994e8ffc08d8719\n",
      "L24.2 0c8dd5c5ab614192b020952837701adf\n",
      "L24.3 4e121a50ca1e41c880547290b9bf2230\n",
      "L48.4 7e0a5b7a608c442d9cd839506ebf7057\n",
      "L12.2 2baf51757e8d4f538b4961d2210cfdd2\n",
      "L48.1 5f15162b54c54959a9c0ad9ef5420b0a\n",
      "L14.1 6c53e12fcfcf4fd5a76cfa86c1ac04f0\n",
      "L48.3 5242a1a8db3b4f8a8a7bb1f558b12fbf\n",
      "L18.1 5736de25d5a04121b6b6825979a17198\n",
      "WGS 84 / Pseudo-Mercator\n",
      "====================== 10806\n",
      "L1.2 e56eed42adba45f6a35128a7e25d0355\n",
      "L6.1 080016612d0846219905c7500089c427\n",
      "L6 3b099f9224494db2b258034b727c7d19\n",
      "WGS 84 / Pseudo-Mercator\n",
      "WGS 84 / Pseudo-Mercator\n",
      "====================== 6578\n",
      "L14 66a8cbc2bc1e4b7dacce971c62b699f5\n",
      "L1 fe4a51269263495abb6c4cf6352be929\n",
      "WGS 84 / Pseudo-Mercator\n",
      "====================== 11805\n",
      "L5.2 faffa7a6291c4b1ba0f40a7b1dac68f7\n",
      "L6.3 2f941654208c4e45bfbf3c4e4c8f6721\n",
      "WGS 84 / Pseudo-Mercator\n",
      "====================== 17678\n"
     ]
    },
    {
     "data": {
      "text/plain": [
       "<Figure size 2000x2000 with 0 Axes>"
      ]
     },
     "metadata": {},
     "output_type": "display_data"
    },
    {
     "data": {
      "text/plain": [
       "<Figure size 2000x2000 with 0 Axes>"
      ]
     },
     "metadata": {},
     "output_type": "display_data"
    },
    {
     "data": {
      "text/plain": [
       "<Figure size 2000x2000 with 0 Axes>"
      ]
     },
     "metadata": {},
     "output_type": "display_data"
    }
   ],
   "source": [
    "for i in lista:\n",
    "    generar_reporte(i)\n",
    "    print('======================', i)"
   ]
  }
 ],
 "metadata": {
  "kernelspec": {
   "display_name": "Python 3 (ipykernel)",
   "language": "python",
   "name": "python3"
  },
  "language_info": {
   "codemirror_mode": {
    "name": "ipython",
    "version": 3
   },
   "file_extension": ".py",
   "mimetype": "text/x-python",
   "name": "python",
   "nbconvert_exporter": "python",
   "pygments_lexer": "ipython3",
   "version": "3.10.13"
  }
 },
 "nbformat": 4,
 "nbformat_minor": 5
}
