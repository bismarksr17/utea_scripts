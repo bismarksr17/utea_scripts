{
 "cells": [
  {
   "cell_type": "code",
   "execution_count": 1,
   "id": "665919a4-6184-4280-8c4c-64588f9131d6",
   "metadata": {
    "tags": []
   },
   "outputs": [],
   "source": [
    "import sys\n",
    "sys.path.append('../_amigocloud')\n",
    "\n",
    "from amigocloud import AmigoCloud\n",
    "\n",
    "from werkzeug.wrappers import Request, Response\n",
    "#from flask import Flask, render_template\n",
    "from jinja2 import Template\n",
    "\n",
    "#from datetime import date\n",
    "from datetime import datetime, timedelta\n",
    "\n",
    "import collections\n",
    "\n",
    "from datetime import datetime\n",
    "\n",
    "from shapely import wkb\n",
    "import geopandas\n",
    "import pandas as pd\n",
    "import contextily as ctx\n",
    "import matplotlib.pyplot as plt\n",
    "\n",
    "from docxtpl import DocxTemplate\n",
    "import docxtpl\n",
    "from docx.shared import Mm\n",
    "import requests\n",
    "\n",
    "def convertir_wkb(wkb_data):\n",
    "    return wkb.loads(wkb_data, hex=True)"
   ]
  },
  {
   "cell_type": "code",
   "execution_count": 2,
   "id": "f78ec737-093c-44bb-a782-1af54be4a65f",
   "metadata": {
    "tags": []
   },
   "outputs": [
    {
     "data": {
      "text/plain": [
       "<amigocloud.AmigoCloud at 0x208dd13f9a0>"
      ]
     },
     "execution_count": 2,
     "metadata": {},
     "output_type": "execute_result"
    }
   ],
   "source": [
    "# ruta de carpera donde estan las llaves\n",
    "ruta = open('../ruta.txt')\n",
    "ruta = ruta.readlines()[0]\n",
    "\n",
    "# leer token\n",
    "acceso = open(ruta + '/_keys/api_amigocloud.key','r')\n",
    "api_token = acceso.readlines()[0]\n",
    "acceso.close()\n",
    "amigocloud = AmigoCloud(token=api_token)\n",
    "amigocloud"
   ]
  },
  {
   "cell_type": "code",
   "execution_count": 3,
   "id": "671335c0-f848-4ced-9199-d1000c19c39b",
   "metadata": {
    "tags": []
   },
   "outputs": [],
   "source": [
    "def generar_reporte(codigo_canhero):\n",
    "    # EXTRAER DATOS DE CREDITO\n",
    "    query_credito = {'query': 'select * from dataset_307560 where cast(SPLIT_PART(canhero, \\'/\\', 1) as integer) = {cod_ca}'.format(cod_ca=codigo_canhero)}\n",
    "    credito_select = amigocloud.get('https://app.amigocloud.com/api/v1/projects/32672/sql', query_credito)\n",
    "    credito_data = credito_select['data'][0]\n",
    "    credito_data['fecha_informe'] = datetime.strptime(credito_data['fecha_3ra_insp'].split(' ')[0], '%Y-%m-%d').strftime('%d/%m/%Y')\n",
    "    credito_data['fecha_3ra_insp'] = datetime.strptime(credito_data['fecha_3ra_insp'].split(' ')[0], '%Y-%m-%d').strftime('%d/%m/%Y')\n",
    "    credito = collections.namedtuple(\"credito\", credito_data.keys())(*credito_data.values())\n",
    "\n",
    "    # EXTRAER DATOS DE PROPIEDADES\n",
    "    # query_propiedades = {'query': 'select * from dataset_282968 where cre_ref_prop = \\'{cre_ref_prop}\\''.format(cre_ref_prop=credito.amigo_id)}\n",
    "    query_propiedades = {'query': 'select prop.propiedad, prop.amigo_id from dataset_307562 prop inner join dataset_307563 lotes on lotes.prop_ref_lote=prop.amigo_id where insp_ref_prop=\\'{cre_ref_prop}\\' and (lotes.estado_de_siembra=\\'CAÑA NACIDA\\' or lotes.estado_de_siembra=\\'CAÑA NO NACIDA\\') group by prop.propiedad, prop.amigo_id'.format(cre_ref_prop=credito.amigo_id)}\n",
    "    propiedades_select = amigocloud.get('https://app.amigocloud.com/api/v1/projects/32672/sql', query_propiedades)    \n",
    "    \n",
    "    propiedades_data = propiedades_select['data']\n",
    "\n",
    "    # EXTRAER DATOS DE LOTES\n",
    "    propiedades = []\n",
    "    for prop in propiedades_data:\n",
    "        prop['lotes'] = []\n",
    "        query_lotes = {'query': 'select * from dataset_307563 where prop_ref_lote=\\'{prop_ref_lote}\\' and (estado_de_siembra=\\'CAÑA NACIDA\\' or estado_de_siembra=\\'CAÑA NO NACIDA\\')'.format(prop_ref_lote=prop['amigo_id'])}\n",
    "        lotes_select = amigocloud.get('https://app.amigocloud.com/api/v1/projects/32672/sql', query_lotes)\n",
    "        for lote_select in lotes_select['data']:\n",
    "            lote = collections.namedtuple(\"lote\", lote_select.keys())(*lote_select.values())\n",
    "            prop['lotes'].append(lote)\n",
    "        propiedades.append(collections.namedtuple(\"propiedad\", prop.keys())(*prop.values()))\n",
    "\n",
    "    # EXTRAER FOTOS\n",
    "    fotos = []\n",
    "    for propiedad in propiedades:\n",
    "        for lote in propiedad.lotes:\n",
    "            print(lote.lote, lote.amigo_id)\n",
    "            query_fotos = {'query': 'select source_amigo_id, s3_filename from gallery_58438 where source_amigo_id=\\'{source_amigo_id}\\''.format(source_amigo_id=lote.amigo_id)}\n",
    "            fotos_filename = amigocloud.get('https://app.amigocloud.com/api/v1/projects/32672/sql', query_fotos)\n",
    "            if fotos_filename['data'] != []:\n",
    "                dic = {'lote': lote.lote, 'file_name': fotos_filename['data'][0]['s3_filename']}\n",
    "                fotos.append(dic)\n",
    "\n",
    "    # GENERERAR PLANOS\n",
    "    i = 0\n",
    "    lista_planos = []\n",
    "    for propiedad in propiedades:\n",
    "        i = i + 1\n",
    "        lista_planos.append(generar_plano(propiedad, i))\n",
    "\n",
    "\n",
    "    # GENERAR REPORTE\n",
    "    doc = DocxTemplate(ruta + \"/templates/tpl_inf_credito_3ra.docx\")\n",
    "    #generar lista de InlineImage de planos \n",
    "    lista_InlineImage = []\n",
    "    for plano in lista_planos:\n",
    "        lista_InlineImage.append(docxtpl.InlineImage(doc, image_descriptor=plano, width=Mm(150)))\n",
    "    #descargar fotos y generar lista InlineImage\n",
    "    lista_fotos_inline = []\n",
    "    for foto in fotos:\n",
    "        #response = requests.get(\"https://www-amigocloud.s3.amazonaws.com/gallery/\" + foto['file_name'])\n",
    "        response = requests.get(\"https://www-amigocloud.s3.amazonaws.com/gallery/\" + foto['file_name'])\n",
    "        file = open(ruta + '/fotos/' + foto['file_name'], \"wb\")\n",
    "        file.write(response.content)\n",
    "        file.close()\n",
    "        lista_fotos_inline.append({'foto': docxtpl.InlineImage(doc, image_descriptor=ruta + '/fotos/' + foto['file_name'], width=Mm(120)), 'lote': foto['lote']})\n",
    "    firma_respon = None\n",
    "    if credito.respon_2da_insp == 'Juan Pablo Jaldin Duran':\n",
    "        firma_respon = docxtpl.InlineImage(doc, image_descriptor=ruta + '/templates/firma_jaldin.png', width=Mm(60))\n",
    "    else:\n",
    "        firma_respon = docxtpl.InlineImage(doc, image_descriptor=ruta + '/templates/firma_rogelio.png', width=Mm(60))\n",
    "    context = {'credito':credito, 'propiedades':propiedades, 'planos':lista_InlineImage, 'fotos':lista_fotos_inline, 'firma':firma_respon}\n",
    "    doc.render(context)\n",
    "    cod_ca = credito.canhero.split(' / ')[0]\n",
    "    nom_ca = credito.canhero.split(' / ')[1]\n",
    "    file_name = file_name = '_' + cod_ca + '_CRS_' + credito.fecha_3ra_insp.replace('/', '-') + '_' + nom_ca + '_' + str(credito.id)\n",
    "    doc.save(ruta + '/informes/' + file_name + '.docx')"
   ]
  },
  {
   "cell_type": "code",
   "execution_count": 4,
   "id": "f90ffde3-b794-45c0-a48e-f69a592752af",
   "metadata": {
    "tags": []
   },
   "outputs": [],
   "source": [
    "def generar_plano(propiedad, i):\n",
    "    lotes_lista = []\n",
    "    for lote in propiedad.lotes:\n",
    "        lotes_lista.append(lote._asdict())\n",
    "    df = pd.DataFrame(lotes_lista)\n",
    "    df['geometria'] = df['geometria'].apply(convertir_wkb)\n",
    "\n",
    "    #Convertir a GeoDataFrame\n",
    "    data = geopandas.GeoDataFrame(df, geometry='geometria')\n",
    "    #data\n",
    "    #ctx.add_basemap(ax, source=ctx.providers.Esri.WorldImagery)\n",
    "\n",
    "    data['coords'] = data['geometria'].apply(lambda x: x.representative_point().coords[:])\n",
    "    data['coords'] = [coords[0] for coords in data['coords']]\n",
    "    \n",
    "    \n",
    "    data.crs = \"EPSG:4326\"\n",
    "    data = data.to_crs(epsg=3857)\n",
    "    print(data.crs.name)\n",
    "    \n",
    "    fig = plt.figure(i, figsize=(20,20))\n",
    "    #fig = plt.figure(1)\n",
    "    ax = None\n",
    "    ax = fig.add_subplot()\n",
    "\n",
    "    #data.set_crs(epsg=4326, inplace=True)\n",
    "\n",
    "    data.apply(lambda x: ax.annotate(text=x.lote + ' \\n' + str(x.superficie) + ' ha', xy=x.geometria.centroid.coords[0], ha='center', va='center', color='black', fontsize=12, weight=1000, bbox=dict(facecolor=(1,1,1,0.3), edgecolor='none', pad=0)), axis=1);\n",
    "\n",
    "    #data.boundary.plot(ax=ax, color=(0,0,0,0), linewidth=0)\n",
    "\n",
    "    #data = data.to_crs(epsg=3857)\n",
    "\n",
    "    minx, miny, maxx, maxy = data.total_bounds\n",
    "    ax.set_xlim(minx - 500, maxx + 500)\n",
    "    ax.set_ylim(miny - 400, maxy + 400)\n",
    "\n",
    "    data.plot(ax=ax, edgecolor='r', facecolor=(0,0,0,0), linewidth=2, figsize=(20,20))\n",
    "    #data.plot(ax=ax, edgecolor='r', facecolor=(0,0,0,0), linewidth=2)\n",
    "    \n",
    "    ctx.add_basemap(ax, source=ctx.providers.Esri.WorldImagery)\n",
    "    ax.set_axis_off()\n",
    "    ax.set_title(str(propiedad.propiedad), fontsize=20)\n",
    "    ruta_plano = ruta + '/planos/' + str(propiedad.amigo_id) + '.jpeg'\n",
    "    fig.savefig(ruta_plano, dpi = 300, bbox_inches='tight')\n",
    "    plt.clf()\n",
    "    return ruta_plano"
   ]
  },
  {
   "cell_type": "code",
   "execution_count": 5,
   "id": "087099cc-c534-4e27-bcce-15a11a372167",
   "metadata": {
    "tags": []
   },
   "outputs": [],
   "source": [
    "semana = 'S29'\n",
    "query = {'query': 'select split_part(canhero, \\' / \\', 1) cod, split_part(canhero, \\' / \\', 2) nom from dataset_307560 where semana_3ra = \\'{sem}\\''.format(sem=semana)}\n",
    "project = 'https://app.amigocloud.com/api/v1/projects/32672/sql'\n",
    "select = amigocloud.get(project, query)\n",
    "data = select['data']"
   ]
  },
  {
   "cell_type": "code",
   "execution_count": 6,
   "id": "9849c6ee-9d80-404e-81d0-28b79513cc20",
   "metadata": {
    "tags": []
   },
   "outputs": [
    {
     "data": {
      "text/plain": [
       "[{'cod': '4607', 'nom': 'GARCIA MARISCAL LEONCIO'},\n",
       " {'cod': '42266', 'nom': 'GARCIA PETRONILA MARISCAL VDA. DE'},\n",
       " {'cod': '13652', 'nom': 'TENORIO CERMENO WILLIAMS'},\n",
       " {'cod': '31160', 'nom': 'PIZARRO PARADA HUGO ANDRES'},\n",
       " {'cod': '2029', 'nom': 'COLAMARINO DI SILVIO ANGELO'},\n",
       " {'cod': '30907', 'nom': 'ALVAREZ FUENTES JUAN CARLOS'},\n",
       " {'cod': '18088', 'nom': 'FRERKING ORTIZ RICARDO'},\n",
       " {'cod': '13638', 'nom': 'TISCO VASQUEZ SERGIO'},\n",
       " {'cod': '18062', 'nom': 'MERCADO MERCADO RUBEN DARIO'},\n",
       " {'cod': '5006', 'nom': 'GARCIA MARISCAL MILTON FELIX'},\n",
       " {'cod': '10650', 'nom': 'PIZARRO PIZARRO WALTER'},\n",
       " {'cod': '1783', 'nom': 'CACERES MAMANI AQUILINO'}]"
      ]
     },
     "execution_count": 6,
     "metadata": {},
     "output_type": "execute_result"
    }
   ],
   "source": [
    "data"
   ]
  },
  {
   "cell_type": "code",
   "execution_count": 7,
   "id": "18543415-df34-4ac7-9299-e5eee01b5c69",
   "metadata": {
    "tags": []
   },
   "outputs": [],
   "source": [
    "# lista = [430, 40270, 13132, 874, 41966, 11798, 41544, 14993, 644, 1068, 13763, 2220, 1858, 2719]\n",
    "lista = [i['cod'] for i in data]"
   ]
  },
  {
   "cell_type": "code",
   "execution_count": 8,
   "id": "92a9db86-ca60-4e4f-bab5-15532a6a160f",
   "metadata": {
    "tags": []
   },
   "outputs": [],
   "source": [
    "lista=['18062']"
   ]
  },
  {
   "cell_type": "code",
   "execution_count": 9,
   "id": "48d79f54-6869-432f-8076-3a928eff1753",
   "metadata": {
    "tags": []
   },
   "outputs": [
    {
     "name": "stdout",
     "output_type": "stream",
     "text": [
      "L10.1 791531d24a1d4198b73da0dad586e707\n",
      "L9.1 413a51512dcb46d4aa3eb99b32bb7748\n",
      "L16.1 d40f593c15344d0f9156824b86af6481\n",
      "L12.1 523feabff0724946aae6557e3b2f1972\n",
      "L12.2 2af028811871410f8908d5002d5e52c5\n",
      "L19.1 211cc320c4ba4defa150972a0abb950e\n",
      "L5.1 9b32efc3fef24e2082ffdb7392f863a2\n",
      "WGS 84 / Pseudo-Mercator\n",
      "====================== 18062\n"
     ]
    },
    {
     "data": {
      "text/plain": [
       "<Figure size 2000x2000 with 0 Axes>"
      ]
     },
     "metadata": {},
     "output_type": "display_data"
    }
   ],
   "source": [
    "for i in lista:\n",
    "    generar_reporte(i)\n",
    "    print('======================', i)"
   ]
  }
 ],
 "metadata": {
  "kernelspec": {
   "display_name": "Python 3 (ipykernel)",
   "language": "python",
   "name": "python3"
  },
  "language_info": {
   "codemirror_mode": {
    "name": "ipython",
    "version": 3
   },
   "file_extension": ".py",
   "mimetype": "text/x-python",
   "name": "python",
   "nbconvert_exporter": "python",
   "pygments_lexer": "ipython3",
   "version": "3.10.13"
  }
 },
 "nbformat": 4,
 "nbformat_minor": 5
}
