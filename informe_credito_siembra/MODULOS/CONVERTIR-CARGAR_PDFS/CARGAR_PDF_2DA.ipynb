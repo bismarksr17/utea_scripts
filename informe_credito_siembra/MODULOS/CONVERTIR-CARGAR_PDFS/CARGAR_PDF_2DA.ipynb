{
 "cells": [
  {
   "cell_type": "markdown",
   "id": "18a80bc5",
   "metadata": {},
   "source": [
    "# INSTALAR LIBRERIAS"
   ]
  },
  {
   "cell_type": "code",
   "execution_count": 13,
   "id": "7e312719",
   "metadata": {},
   "outputs": [],
   "source": [
    "# !pip install docx2pdf\n",
    "#pip install ipywidgets"
   ]
  },
  {
   "cell_type": "markdown",
   "id": "7e934ca6",
   "metadata": {},
   "source": [
    "# IMPORTAR"
   ]
  },
  {
   "cell_type": "code",
   "execution_count": 1,
   "id": "508a28c7",
   "metadata": {},
   "outputs": [],
   "source": [
    "from docx2pdf import convert\n",
    "import os"
   ]
  },
  {
   "cell_type": "markdown",
   "id": "64ec4ba6",
   "metadata": {},
   "source": [
    "# CONSTRUIR LA RUTA DE LOS ARCHIVOS"
   ]
  },
  {
   "cell_type": "code",
   "execution_count": 2,
   "id": "cdd1c78b-ef20-462c-8de1-034c31d4b386",
   "metadata": {},
   "outputs": [],
   "source": [
    "# ruta de carpera donde estan las llaves\n",
    "ruta = open('../../../ruta.txt')\n",
    "ruta = ruta.readlines()[0]"
   ]
  },
  {
   "cell_type": "code",
   "execution_count": 3,
   "id": "1fc560f3",
   "metadata": {},
   "outputs": [
    {
     "name": "stdout",
     "output_type": "stream",
     "text": [
      "SE ENCONTRARON 18 INFORMES\n",
      "18 INFORMES\n"
     ]
    },
    {
     "data": {
      "text/plain": [
       "['G:\\\\OneDrive - Ingenio Azucarero Guabira S.A\\\\_DATOS_PYTHON/informes/10806_CRS_07-06-2024_PALICIO BRUNO OSCAR ROBERTO.docx',\n",
       " 'G:\\\\OneDrive - Ingenio Azucarero Guabira S.A\\\\_DATOS_PYTHON/informes/11231_CRS_07-06-2024_RAFAEL GARNICA FIDEL.docx',\n",
       " 'G:\\\\OneDrive - Ingenio Azucarero Guabira S.A\\\\_DATOS_PYTHON/informes/1182_CRS_07-06-2024_BOHORQUEZ FERNANDEZ NICANOR.docx',\n",
       " 'G:\\\\OneDrive - Ingenio Azucarero Guabira S.A\\\\_DATOS_PYTHON/informes/13001_CRS_08-06-2024_SEJAS CASTRO EDWARDS.docx',\n",
       " 'G:\\\\OneDrive - Ingenio Azucarero Guabira S.A\\\\_DATOS_PYTHON/informes/13638_CRS_07-06-2024_TISCO VASQUEZ SERGIO.docx',\n",
       " 'G:\\\\OneDrive - Ingenio Azucarero Guabira S.A\\\\_DATOS_PYTHON/informes/14760_CRS_09-06-2024_VARGAS PINTO RENE.docx',\n",
       " 'G:\\\\OneDrive - Ingenio Azucarero Guabira S.A\\\\_DATOS_PYTHON/informes/15308_CRS_08-06-2024_VARGAS SOTO ELVIRA.docx',\n",
       " 'G:\\\\OneDrive - Ingenio Azucarero Guabira S.A\\\\_DATOS_PYTHON/informes/1783_CRS_08-06-2024_CACERES MAMANI AQUILINO.docx',\n",
       " 'G:\\\\OneDrive - Ingenio Azucarero Guabira S.A\\\\_DATOS_PYTHON/informes/41973_CRS_07-06-2024_RIBERA JUSTINIANO JEFFER PAUL.docx',\n",
       " 'G:\\\\OneDrive - Ingenio Azucarero Guabira S.A\\\\_DATOS_PYTHON/informes/41980_CRS_06-06-2024_CASANOVA VELASCO JULIO CESAR.docx',\n",
       " 'G:\\\\OneDrive - Ingenio Azucarero Guabira S.A\\\\_DATOS_PYTHON/informes/7385_CRS_07-06-2024_LINARES SALVATIERRA MARY LUZ.docx',\n",
       " 'G:\\\\OneDrive - Ingenio Azucarero Guabira S.A\\\\_DATOS_PYTHON/informes/7829_CRS_07-06-2024_SENA VILLARROEL DANIEL.docx',\n",
       " 'G:\\\\OneDrive - Ingenio Azucarero Guabira S.A\\\\_DATOS_PYTHON/informes/7910_CRS_07-06-2024_SENA VILLARROEL CRISTOBAL.docx',\n",
       " 'G:\\\\OneDrive - Ingenio Azucarero Guabira S.A\\\\_DATOS_PYTHON/informes/8017_CRS_06-06-2024_RIBERA MERCADO ROLANDO.docx',\n",
       " 'G:\\\\OneDrive - Ingenio Azucarero Guabira S.A\\\\_DATOS_PYTHON/informes/8140_CRS_05-06-2024_MASAI CHAVEZ SIRLE YOBANA.docx',\n",
       " 'G:\\\\OneDrive - Ingenio Azucarero Guabira S.A\\\\_DATOS_PYTHON/informes/8684_CRS_09-06-2024_MOLINA PORCEL JUAN CARLOS.docx',\n",
       " 'G:\\\\OneDrive - Ingenio Azucarero Guabira S.A\\\\_DATOS_PYTHON/informes/8814_CRS_06-06-2024_MURIALDO MENDEZ WALTER DANIEL.docx',\n",
       " 'G:\\\\OneDrive - Ingenio Azucarero Guabira S.A\\\\_DATOS_PYTHON/informes/9687_CRS_08-06-2024_ORTEGA RODRIGUEZ ELADIO.docx']"
      ]
     },
     "execution_count": 3,
     "metadata": {},
     "output_type": "execute_result"
    }
   ],
   "source": [
    "# colocar aqui la ruta de los archivos\n",
    "path = ruta + r'/informes'\n",
    "contenido = os.listdir(path)\n",
    "rutas =[]\n",
    "i = 0\n",
    "for name in contenido:\n",
    "    rutas.append(path + '/' + name)\n",
    "    i+=1\n",
    "\n",
    "print('SE ENCONTRARON ' + str(i) + ' INFORMES')\n",
    "print(len(rutas), 'INFORMES')\n",
    "rutas"
   ]
  },
  {
   "cell_type": "markdown",
   "id": "6b9af706",
   "metadata": {
    "tags": []
   },
   "source": [
    "# INICIA EL PROCESO DE CONVERCIÓN"
   ]
  },
  {
   "cell_type": "code",
   "execution_count": 4,
   "id": "cdbc481d-e9f8-4a85-946f-4c45abd61e87",
   "metadata": {},
   "outputs": [
    {
     "data": {
      "text/plain": [
       "'G:\\\\OneDrive - Ingenio Azucarero Guabira S.A\\\\_DATOS_PYTHON/pdf/11231_CRS_07-06-2024_RAFAEL GARNICA FIDEL.pdf'"
      ]
     },
     "execution_count": 4,
     "metadata": {},
     "output_type": "execute_result"
    }
   ],
   "source": [
    "rutas[1].replace('.docx','.pdf').replace('informes','pdf')"
   ]
  },
  {
   "cell_type": "code",
   "execution_count": 5,
   "id": "13d4b150-97ec-4f5f-ae67-8494243a499a",
   "metadata": {},
   "outputs": [
    {
     "data": {
      "text/plain": [
       "'G:\\\\OneDrive - Ingenio Azucarero Guabira S.A\\\\_DATOS_PYTHON/pdf/11231_CRS_07-06-2024_RAFAEL GARNICA FIDEL.pdf'"
      ]
     },
     "execution_count": 5,
     "metadata": {},
     "output_type": "execute_result"
    }
   ],
   "source": [
    "rutas[1].replace('.docx','.pdf').replace('informes','pdf')"
   ]
  },
  {
   "cell_type": "code",
   "execution_count": 6,
   "id": "0f018b1e",
   "metadata": {
    "tags": []
   },
   "outputs": [
    {
     "name": "stdout",
     "output_type": "stream",
     "text": [
      "CONVIRTIENDO... INFORME 1 G:\\OneDrive - Ingenio Azucarero Guabira S.A\\_DATOS_PYTHON/informes/10806_CRS_07-06-2024_PALICIO BRUNO OSCAR ROBERTO.docx\n",
      "G:\\OneDrive - Ingenio Azucarero Guabira S.A\\_DATOS_PYTHON/informes/10806_CRS_07-06-2024_PALICIO BRUNO OSCAR ROBERTO.docx\n",
      "G:\\OneDrive - Ingenio Azucarero Guabira S.A\\_DATOS_PYTHON/pdfs/10806_CRS_07-06-2024_PALICIO BRUNO OSCAR ROBERTO.pdf\n",
      "Rebuilding cache of generated files for COM support...\n",
      "Checking 00020905-0000-0000-C000-000000000046x0x8x7\n",
      "Could not add module (IID('{00020905-0000-0000-C000-000000000046}'), 0, 8, 7) - <class 'AttributeError'>: module 'win32com.gen_py.00020905-0000-0000-C000-000000000046x0x8x7' has no attribute 'CLSIDToClassMap'\n",
      "Done.\n"
     ]
    },
    {
     "data": {
      "application/vnd.jupyter.widget-view+json": {
       "model_id": "0aa4559b3b9547a78a9dcd9685b1bd2b",
       "version_major": 2,
       "version_minor": 0
      },
      "text/plain": [
       "  0%|          | 0/1 [00:00<?, ?it/s]"
      ]
     },
     "metadata": {},
     "output_type": "display_data"
    },
    {
     "name": "stdout",
     "output_type": "stream",
     "text": [
      "CONVIRTIENDO... INFORME 2 G:\\OneDrive - Ingenio Azucarero Guabira S.A\\_DATOS_PYTHON/informes/11231_CRS_07-06-2024_RAFAEL GARNICA FIDEL.docx\n",
      "G:\\OneDrive - Ingenio Azucarero Guabira S.A\\_DATOS_PYTHON/informes/11231_CRS_07-06-2024_RAFAEL GARNICA FIDEL.docx\n",
      "G:\\OneDrive - Ingenio Azucarero Guabira S.A\\_DATOS_PYTHON/pdfs/11231_CRS_07-06-2024_RAFAEL GARNICA FIDEL.pdf\n"
     ]
    },
    {
     "data": {
      "application/vnd.jupyter.widget-view+json": {
       "model_id": "426b826c98de4603a0bbacd607c3982c",
       "version_major": 2,
       "version_minor": 0
      },
      "text/plain": [
       "  0%|          | 0/1 [00:00<?, ?it/s]"
      ]
     },
     "metadata": {},
     "output_type": "display_data"
    },
    {
     "name": "stdout",
     "output_type": "stream",
     "text": [
      "CONVIRTIENDO... INFORME 3 G:\\OneDrive - Ingenio Azucarero Guabira S.A\\_DATOS_PYTHON/informes/1182_CRS_07-06-2024_BOHORQUEZ FERNANDEZ NICANOR.docx\n",
      "G:\\OneDrive - Ingenio Azucarero Guabira S.A\\_DATOS_PYTHON/informes/1182_CRS_07-06-2024_BOHORQUEZ FERNANDEZ NICANOR.docx\n",
      "G:\\OneDrive - Ingenio Azucarero Guabira S.A\\_DATOS_PYTHON/pdfs/1182_CRS_07-06-2024_BOHORQUEZ FERNANDEZ NICANOR.pdf\n"
     ]
    },
    {
     "data": {
      "application/vnd.jupyter.widget-view+json": {
       "model_id": "81faebd278034a3b99127c8762fbd416",
       "version_major": 2,
       "version_minor": 0
      },
      "text/plain": [
       "  0%|          | 0/1 [00:00<?, ?it/s]"
      ]
     },
     "metadata": {},
     "output_type": "display_data"
    },
    {
     "name": "stdout",
     "output_type": "stream",
     "text": [
      "CONVIRTIENDO... INFORME 4 G:\\OneDrive - Ingenio Azucarero Guabira S.A\\_DATOS_PYTHON/informes/13001_CRS_08-06-2024_SEJAS CASTRO EDWARDS.docx\n",
      "G:\\OneDrive - Ingenio Azucarero Guabira S.A\\_DATOS_PYTHON/informes/13001_CRS_08-06-2024_SEJAS CASTRO EDWARDS.docx\n",
      "G:\\OneDrive - Ingenio Azucarero Guabira S.A\\_DATOS_PYTHON/pdfs/13001_CRS_08-06-2024_SEJAS CASTRO EDWARDS.pdf\n"
     ]
    },
    {
     "data": {
      "application/vnd.jupyter.widget-view+json": {
       "model_id": "efd50208ba054d539fbffc9a6f8ee677",
       "version_major": 2,
       "version_minor": 0
      },
      "text/plain": [
       "  0%|          | 0/1 [00:00<?, ?it/s]"
      ]
     },
     "metadata": {},
     "output_type": "display_data"
    },
    {
     "name": "stdout",
     "output_type": "stream",
     "text": [
      "CONVIRTIENDO... INFORME 5 G:\\OneDrive - Ingenio Azucarero Guabira S.A\\_DATOS_PYTHON/informes/13638_CRS_07-06-2024_TISCO VASQUEZ SERGIO.docx\n",
      "G:\\OneDrive - Ingenio Azucarero Guabira S.A\\_DATOS_PYTHON/informes/13638_CRS_07-06-2024_TISCO VASQUEZ SERGIO.docx\n",
      "G:\\OneDrive - Ingenio Azucarero Guabira S.A\\_DATOS_PYTHON/pdfs/13638_CRS_07-06-2024_TISCO VASQUEZ SERGIO.pdf\n"
     ]
    },
    {
     "data": {
      "application/vnd.jupyter.widget-view+json": {
       "model_id": "f94ee177a97b483ca32ed83beeb0eefd",
       "version_major": 2,
       "version_minor": 0
      },
      "text/plain": [
       "  0%|          | 0/1 [00:00<?, ?it/s]"
      ]
     },
     "metadata": {},
     "output_type": "display_data"
    },
    {
     "name": "stdout",
     "output_type": "stream",
     "text": [
      "CONVIRTIENDO... INFORME 6 G:\\OneDrive - Ingenio Azucarero Guabira S.A\\_DATOS_PYTHON/informes/14760_CRS_09-06-2024_VARGAS PINTO RENE.docx\n",
      "G:\\OneDrive - Ingenio Azucarero Guabira S.A\\_DATOS_PYTHON/informes/14760_CRS_09-06-2024_VARGAS PINTO RENE.docx\n",
      "G:\\OneDrive - Ingenio Azucarero Guabira S.A\\_DATOS_PYTHON/pdfs/14760_CRS_09-06-2024_VARGAS PINTO RENE.pdf\n"
     ]
    },
    {
     "data": {
      "application/vnd.jupyter.widget-view+json": {
       "model_id": "79a304667a494f99892df26047d94d5c",
       "version_major": 2,
       "version_minor": 0
      },
      "text/plain": [
       "  0%|          | 0/1 [00:00<?, ?it/s]"
      ]
     },
     "metadata": {},
     "output_type": "display_data"
    },
    {
     "name": "stdout",
     "output_type": "stream",
     "text": [
      "CONVIRTIENDO... INFORME 7 G:\\OneDrive - Ingenio Azucarero Guabira S.A\\_DATOS_PYTHON/informes/15308_CRS_08-06-2024_VARGAS SOTO ELVIRA.docx\n",
      "G:\\OneDrive - Ingenio Azucarero Guabira S.A\\_DATOS_PYTHON/informes/15308_CRS_08-06-2024_VARGAS SOTO ELVIRA.docx\n",
      "G:\\OneDrive - Ingenio Azucarero Guabira S.A\\_DATOS_PYTHON/pdfs/15308_CRS_08-06-2024_VARGAS SOTO ELVIRA.pdf\n"
     ]
    },
    {
     "data": {
      "application/vnd.jupyter.widget-view+json": {
       "model_id": "a966096f984a4b25a81c0f5b580320fe",
       "version_major": 2,
       "version_minor": 0
      },
      "text/plain": [
       "  0%|          | 0/1 [00:00<?, ?it/s]"
      ]
     },
     "metadata": {},
     "output_type": "display_data"
    },
    {
     "name": "stdout",
     "output_type": "stream",
     "text": [
      "CONVIRTIENDO... INFORME 8 G:\\OneDrive - Ingenio Azucarero Guabira S.A\\_DATOS_PYTHON/informes/1783_CRS_08-06-2024_CACERES MAMANI AQUILINO.docx\n",
      "G:\\OneDrive - Ingenio Azucarero Guabira S.A\\_DATOS_PYTHON/informes/1783_CRS_08-06-2024_CACERES MAMANI AQUILINO.docx\n",
      "G:\\OneDrive - Ingenio Azucarero Guabira S.A\\_DATOS_PYTHON/pdfs/1783_CRS_08-06-2024_CACERES MAMANI AQUILINO.pdf\n"
     ]
    },
    {
     "data": {
      "application/vnd.jupyter.widget-view+json": {
       "model_id": "138259cf8faf48a5aefb4da082e35dc2",
       "version_major": 2,
       "version_minor": 0
      },
      "text/plain": [
       "  0%|          | 0/1 [00:00<?, ?it/s]"
      ]
     },
     "metadata": {},
     "output_type": "display_data"
    },
    {
     "name": "stdout",
     "output_type": "stream",
     "text": [
      "CONVIRTIENDO... INFORME 9 G:\\OneDrive - Ingenio Azucarero Guabira S.A\\_DATOS_PYTHON/informes/41973_CRS_07-06-2024_RIBERA JUSTINIANO JEFFER PAUL.docx\n",
      "G:\\OneDrive - Ingenio Azucarero Guabira S.A\\_DATOS_PYTHON/informes/41973_CRS_07-06-2024_RIBERA JUSTINIANO JEFFER PAUL.docx\n",
      "G:\\OneDrive - Ingenio Azucarero Guabira S.A\\_DATOS_PYTHON/pdfs/41973_CRS_07-06-2024_RIBERA JUSTINIANO JEFFER PAUL.pdf\n"
     ]
    },
    {
     "data": {
      "application/vnd.jupyter.widget-view+json": {
       "model_id": "9ad70d9222d14e70a6ab795cf6b7acae",
       "version_major": 2,
       "version_minor": 0
      },
      "text/plain": [
       "  0%|          | 0/1 [00:00<?, ?it/s]"
      ]
     },
     "metadata": {},
     "output_type": "display_data"
    },
    {
     "name": "stdout",
     "output_type": "stream",
     "text": [
      "CONVIRTIENDO... INFORME 10 G:\\OneDrive - Ingenio Azucarero Guabira S.A\\_DATOS_PYTHON/informes/41980_CRS_06-06-2024_CASANOVA VELASCO JULIO CESAR.docx\n",
      "G:\\OneDrive - Ingenio Azucarero Guabira S.A\\_DATOS_PYTHON/informes/41980_CRS_06-06-2024_CASANOVA VELASCO JULIO CESAR.docx\n",
      "G:\\OneDrive - Ingenio Azucarero Guabira S.A\\_DATOS_PYTHON/pdfs/41980_CRS_06-06-2024_CASANOVA VELASCO JULIO CESAR.pdf\n"
     ]
    },
    {
     "data": {
      "application/vnd.jupyter.widget-view+json": {
       "model_id": "38996461ba5f4c0194240375b3717691",
       "version_major": 2,
       "version_minor": 0
      },
      "text/plain": [
       "  0%|          | 0/1 [00:00<?, ?it/s]"
      ]
     },
     "metadata": {},
     "output_type": "display_data"
    },
    {
     "name": "stdout",
     "output_type": "stream",
     "text": [
      "CONVIRTIENDO... INFORME 11 G:\\OneDrive - Ingenio Azucarero Guabira S.A\\_DATOS_PYTHON/informes/7385_CRS_07-06-2024_LINARES SALVATIERRA MARY LUZ.docx\n",
      "G:\\OneDrive - Ingenio Azucarero Guabira S.A\\_DATOS_PYTHON/informes/7385_CRS_07-06-2024_LINARES SALVATIERRA MARY LUZ.docx\n",
      "G:\\OneDrive - Ingenio Azucarero Guabira S.A\\_DATOS_PYTHON/pdfs/7385_CRS_07-06-2024_LINARES SALVATIERRA MARY LUZ.pdf\n"
     ]
    },
    {
     "data": {
      "application/vnd.jupyter.widget-view+json": {
       "model_id": "28f9478377fe4ba78f60420d707c62c1",
       "version_major": 2,
       "version_minor": 0
      },
      "text/plain": [
       "  0%|          | 0/1 [00:00<?, ?it/s]"
      ]
     },
     "metadata": {},
     "output_type": "display_data"
    },
    {
     "name": "stdout",
     "output_type": "stream",
     "text": [
      "CONVIRTIENDO... INFORME 12 G:\\OneDrive - Ingenio Azucarero Guabira S.A\\_DATOS_PYTHON/informes/7829_CRS_07-06-2024_SENA VILLARROEL DANIEL.docx\n",
      "G:\\OneDrive - Ingenio Azucarero Guabira S.A\\_DATOS_PYTHON/informes/7829_CRS_07-06-2024_SENA VILLARROEL DANIEL.docx\n",
      "G:\\OneDrive - Ingenio Azucarero Guabira S.A\\_DATOS_PYTHON/pdfs/7829_CRS_07-06-2024_SENA VILLARROEL DANIEL.pdf\n"
     ]
    },
    {
     "data": {
      "application/vnd.jupyter.widget-view+json": {
       "model_id": "51ece2cf4305430cb8a3034bffb74f4f",
       "version_major": 2,
       "version_minor": 0
      },
      "text/plain": [
       "  0%|          | 0/1 [00:00<?, ?it/s]"
      ]
     },
     "metadata": {},
     "output_type": "display_data"
    },
    {
     "name": "stdout",
     "output_type": "stream",
     "text": [
      "CONVIRTIENDO... INFORME 13 G:\\OneDrive - Ingenio Azucarero Guabira S.A\\_DATOS_PYTHON/informes/7910_CRS_07-06-2024_SENA VILLARROEL CRISTOBAL.docx\n",
      "G:\\OneDrive - Ingenio Azucarero Guabira S.A\\_DATOS_PYTHON/informes/7910_CRS_07-06-2024_SENA VILLARROEL CRISTOBAL.docx\n",
      "G:\\OneDrive - Ingenio Azucarero Guabira S.A\\_DATOS_PYTHON/pdfs/7910_CRS_07-06-2024_SENA VILLARROEL CRISTOBAL.pdf\n"
     ]
    },
    {
     "data": {
      "application/vnd.jupyter.widget-view+json": {
       "model_id": "9d850966e160472ab49c5d6a445d8ae9",
       "version_major": 2,
       "version_minor": 0
      },
      "text/plain": [
       "  0%|          | 0/1 [00:00<?, ?it/s]"
      ]
     },
     "metadata": {},
     "output_type": "display_data"
    },
    {
     "name": "stdout",
     "output_type": "stream",
     "text": [
      "CONVIRTIENDO... INFORME 14 G:\\OneDrive - Ingenio Azucarero Guabira S.A\\_DATOS_PYTHON/informes/8017_CRS_06-06-2024_RIBERA MERCADO ROLANDO.docx\n",
      "G:\\OneDrive - Ingenio Azucarero Guabira S.A\\_DATOS_PYTHON/informes/8017_CRS_06-06-2024_RIBERA MERCADO ROLANDO.docx\n",
      "G:\\OneDrive - Ingenio Azucarero Guabira S.A\\_DATOS_PYTHON/pdfs/8017_CRS_06-06-2024_RIBERA MERCADO ROLANDO.pdf\n"
     ]
    },
    {
     "data": {
      "application/vnd.jupyter.widget-view+json": {
       "model_id": "25ac65aba2704fc9b94ef36d9f5ddc36",
       "version_major": 2,
       "version_minor": 0
      },
      "text/plain": [
       "  0%|          | 0/1 [00:00<?, ?it/s]"
      ]
     },
     "metadata": {},
     "output_type": "display_data"
    },
    {
     "name": "stdout",
     "output_type": "stream",
     "text": [
      "CONVIRTIENDO... INFORME 15 G:\\OneDrive - Ingenio Azucarero Guabira S.A\\_DATOS_PYTHON/informes/8140_CRS_05-06-2024_MASAI CHAVEZ SIRLE YOBANA.docx\n",
      "G:\\OneDrive - Ingenio Azucarero Guabira S.A\\_DATOS_PYTHON/informes/8140_CRS_05-06-2024_MASAI CHAVEZ SIRLE YOBANA.docx\n",
      "G:\\OneDrive - Ingenio Azucarero Guabira S.A\\_DATOS_PYTHON/pdfs/8140_CRS_05-06-2024_MASAI CHAVEZ SIRLE YOBANA.pdf\n"
     ]
    },
    {
     "data": {
      "application/vnd.jupyter.widget-view+json": {
       "model_id": "7a6cf56d08304b318a407d0d398d5249",
       "version_major": 2,
       "version_minor": 0
      },
      "text/plain": [
       "  0%|          | 0/1 [00:00<?, ?it/s]"
      ]
     },
     "metadata": {},
     "output_type": "display_data"
    },
    {
     "name": "stdout",
     "output_type": "stream",
     "text": [
      "CONVIRTIENDO... INFORME 16 G:\\OneDrive - Ingenio Azucarero Guabira S.A\\_DATOS_PYTHON/informes/8684_CRS_09-06-2024_MOLINA PORCEL JUAN CARLOS.docx\n",
      "G:\\OneDrive - Ingenio Azucarero Guabira S.A\\_DATOS_PYTHON/informes/8684_CRS_09-06-2024_MOLINA PORCEL JUAN CARLOS.docx\n",
      "G:\\OneDrive - Ingenio Azucarero Guabira S.A\\_DATOS_PYTHON/pdfs/8684_CRS_09-06-2024_MOLINA PORCEL JUAN CARLOS.pdf\n"
     ]
    },
    {
     "data": {
      "application/vnd.jupyter.widget-view+json": {
       "model_id": "f9e230aba4854f77a25a14b503d468b0",
       "version_major": 2,
       "version_minor": 0
      },
      "text/plain": [
       "  0%|          | 0/1 [00:00<?, ?it/s]"
      ]
     },
     "metadata": {},
     "output_type": "display_data"
    },
    {
     "name": "stdout",
     "output_type": "stream",
     "text": [
      "CONVIRTIENDO... INFORME 17 G:\\OneDrive - Ingenio Azucarero Guabira S.A\\_DATOS_PYTHON/informes/8814_CRS_06-06-2024_MURIALDO MENDEZ WALTER DANIEL.docx\n",
      "G:\\OneDrive - Ingenio Azucarero Guabira S.A\\_DATOS_PYTHON/informes/8814_CRS_06-06-2024_MURIALDO MENDEZ WALTER DANIEL.docx\n",
      "G:\\OneDrive - Ingenio Azucarero Guabira S.A\\_DATOS_PYTHON/pdfs/8814_CRS_06-06-2024_MURIALDO MENDEZ WALTER DANIEL.pdf\n"
     ]
    },
    {
     "data": {
      "application/vnd.jupyter.widget-view+json": {
       "model_id": "bc98b1a075db44db8bab801aaab8a636",
       "version_major": 2,
       "version_minor": 0
      },
      "text/plain": [
       "  0%|          | 0/1 [00:00<?, ?it/s]"
      ]
     },
     "metadata": {},
     "output_type": "display_data"
    },
    {
     "name": "stdout",
     "output_type": "stream",
     "text": [
      "CONVIRTIENDO... INFORME 18 G:\\OneDrive - Ingenio Azucarero Guabira S.A\\_DATOS_PYTHON/informes/9687_CRS_08-06-2024_ORTEGA RODRIGUEZ ELADIO.docx\n",
      "G:\\OneDrive - Ingenio Azucarero Guabira S.A\\_DATOS_PYTHON/informes/9687_CRS_08-06-2024_ORTEGA RODRIGUEZ ELADIO.docx\n",
      "G:\\OneDrive - Ingenio Azucarero Guabira S.A\\_DATOS_PYTHON/pdfs/9687_CRS_08-06-2024_ORTEGA RODRIGUEZ ELADIO.pdf\n"
     ]
    },
    {
     "data": {
      "application/vnd.jupyter.widget-view+json": {
       "model_id": "ca7da9e2719a4e05bb0d98254be0dd47",
       "version_major": 2,
       "version_minor": 0
      },
      "text/plain": [
       "  0%|          | 0/1 [00:00<?, ?it/s]"
      ]
     },
     "metadata": {},
     "output_type": "display_data"
    },
    {
     "name": "stdout",
     "output_type": "stream",
     "text": [
      "END\n"
     ]
    }
   ],
   "source": [
    "i = 1\n",
    "for filename in rutas:\n",
    "    print('CONVIRTIENDO... INFORME ' + str(i) + ' ' + filename)\n",
    "    # se realiza la convrsion pasando parametro de salida y entrada, \n",
    "    # para la salida se reemplaza la extencion y la ruta\n",
    "    print(filename)\n",
    "    print(filename.replace('.docx','.pdf').replace('informes','pdfs'))\n",
    "    pdf = filename.replace('.docx','.pdf').replace('informes','pdfs').split('/')[-1]\n",
    "    convert(filename, r'C:\\Users\\Usuario\\Downloads\\\\' + pdf)\n",
    "    i+=1\n",
    "print('END')"
   ]
  },
  {
   "cell_type": "markdown",
   "id": "455ef654-fe35-492c-8f69-3dc00102b0bb",
   "metadata": {},
   "source": [
    "# Leer archivos"
   ]
  },
  {
   "cell_type": "code",
   "execution_count": 7,
   "id": "df0f066e-d897-4ca6-a8cd-23b40ad41307",
   "metadata": {},
   "outputs": [
    {
     "name": "stdout",
     "output_type": "stream",
     "text": [
      "Your browser has been opened to visit:\n",
      "\n",
      "    https://accounts.google.com/o/oauth2/auth?client_id=1096764895697-57btfmtn7rdejufct5qq4j9mi61j0unl.apps.googleusercontent.com&redirect_uri=http%3A%2F%2Flocalhost%3A8080%2F&scope=https%3A%2F%2Fwww.googleapis.com%2Fauth%2Fdrive&access_type=offline&response_type=code\n",
      "\n",
      "Authentication successful.\n"
     ]
    }
   ],
   "source": [
    "# CONEXION A GOOGLE DRIVE\n",
    "from pydrive.auth import GoogleAuth\n",
    "from pydrive.drive import GoogleDrive\n",
    "gauth = GoogleAuth()\n",
    "gauth.LocalWebserverAuth() # client_secrets.json need to be in the same directory as the script\n",
    "drive = GoogleDrive(gauth)"
   ]
  },
  {
   "cell_type": "code",
   "execution_count": 8,
   "id": "5bc6184d-91a1-42a1-a809-84014f898d43",
   "metadata": {},
   "outputs": [
    {
     "name": "stdout",
     "output_type": "stream",
     "text": [
      "18 informes\n"
     ]
    },
    {
     "data": {
      "text/plain": [
       "{10806: '10806_CRS_07-06-2024_PALICIO BRUNO OSCAR ROBERTO.pdf',\n",
       " 11231: '11231_CRS_07-06-2024_RAFAEL GARNICA FIDEL.pdf',\n",
       " 1182: '1182_CRS_07-06-2024_BOHORQUEZ FERNANDEZ NICANOR.pdf',\n",
       " 13001: '13001_CRS_08-06-2024_SEJAS CASTRO EDWARDS.pdf',\n",
       " 13638: '13638_CRS_07-06-2024_TISCO VASQUEZ SERGIO.pdf',\n",
       " 14760: '14760_CRS_09-06-2024_VARGAS PINTO RENE.pdf',\n",
       " 15308: '15308_CRS_08-06-2024_VARGAS SOTO ELVIRA.pdf',\n",
       " 1783: '1783_CRS_08-06-2024_CACERES MAMANI AQUILINO.pdf',\n",
       " 41973: '41973_CRS_07-06-2024_RIBERA JUSTINIANO JEFFER PAUL.pdf',\n",
       " 41980: '41980_CRS_06-06-2024_CASANOVA VELASCO JULIO CESAR.pdf',\n",
       " 7385: '7385_CRS_07-06-2024_LINARES SALVATIERRA MARY LUZ.pdf',\n",
       " 7829: '7829_CRS_07-06-2024_SENA VILLARROEL DANIEL.pdf',\n",
       " 7910: '7910_CRS_07-06-2024_SENA VILLARROEL CRISTOBAL.pdf',\n",
       " 8017: '8017_CRS_06-06-2024_RIBERA MERCADO ROLANDO.pdf',\n",
       " 8140: '8140_CRS_05-06-2024_MASAI CHAVEZ SIRLE YOBANA.pdf',\n",
       " 8684: '8684_CRS_09-06-2024_MOLINA PORCEL JUAN CARLOS.pdf',\n",
       " 8814: '8814_CRS_06-06-2024_MURIALDO MENDEZ WALTER DANIEL.pdf',\n",
       " 9687: '9687_CRS_08-06-2024_ORTEGA RODRIGUEZ ELADIO.pdf'}"
      ]
     },
     "execution_count": 8,
     "metadata": {},
     "output_type": "execute_result"
    }
   ],
   "source": [
    "contenido = os.listdir(ruta + r'/pdf')\n",
    "dic_files = {}\n",
    "for file in contenido:\n",
    "    split = file.split('_')\n",
    "    dic_files[int(split[0])] = file\n",
    "print(len(dic_files), 'informes')\n",
    "dic_files"
   ]
  },
  {
   "cell_type": "markdown",
   "id": "68778c6d-31c1-4f6f-880c-5d3f2d04ed17",
   "metadata": {},
   "source": [
    "# CARGAR LOS PDFS A GOOGLE DRIVE"
   ]
  },
  {
   "cell_type": "code",
   "execution_count": 9,
   "id": "aaf8d01b-5324-4b14-a67d-a6162850efa2",
   "metadata": {},
   "outputs": [
    {
     "name": "stdout",
     "output_type": "stream",
     "text": [
      "Created file 10806_CRS_07-06-2024_PALICIO BRUNO OSCAR ROBERTO.pdf with mimeType application/pdf\n",
      "Created file 11231_CRS_07-06-2024_RAFAEL GARNICA FIDEL.pdf with mimeType application/pdf\n",
      "Created file 1182_CRS_07-06-2024_BOHORQUEZ FERNANDEZ NICANOR.pdf with mimeType application/pdf\n",
      "Created file 13001_CRS_08-06-2024_SEJAS CASTRO EDWARDS.pdf with mimeType application/pdf\n",
      "Created file 13638_CRS_07-06-2024_TISCO VASQUEZ SERGIO.pdf with mimeType application/pdf\n",
      "Created file 14760_CRS_09-06-2024_VARGAS PINTO RENE.pdf with mimeType application/pdf\n",
      "Created file 15308_CRS_08-06-2024_VARGAS SOTO ELVIRA.pdf with mimeType application/pdf\n",
      "Created file 1783_CRS_08-06-2024_CACERES MAMANI AQUILINO.pdf with mimeType application/pdf\n",
      "Created file 41973_CRS_07-06-2024_RIBERA JUSTINIANO JEFFER PAUL.pdf with mimeType application/pdf\n",
      "Created file 41980_CRS_06-06-2024_CASANOVA VELASCO JULIO CESAR.pdf with mimeType application/pdf\n",
      "Created file 7385_CRS_07-06-2024_LINARES SALVATIERRA MARY LUZ.pdf with mimeType application/pdf\n",
      "Created file 7829_CRS_07-06-2024_SENA VILLARROEL DANIEL.pdf with mimeType application/pdf\n",
      "Created file 7910_CRS_07-06-2024_SENA VILLARROEL CRISTOBAL.pdf with mimeType application/pdf\n",
      "Created file 8017_CRS_06-06-2024_RIBERA MERCADO ROLANDO.pdf with mimeType application/pdf\n",
      "Created file 8140_CRS_05-06-2024_MASAI CHAVEZ SIRLE YOBANA.pdf with mimeType application/pdf\n",
      "Created file 8684_CRS_09-06-2024_MOLINA PORCEL JUAN CARLOS.pdf with mimeType application/pdf\n",
      "Created file 8814_CRS_06-06-2024_MURIALDO MENDEZ WALTER DANIEL.pdf with mimeType application/pdf\n",
      "Created file 9687_CRS_08-06-2024_ORTEGA RODRIGUEZ ELADIO.pdf with mimeType application/pdf\n",
      "end\n"
     ]
    }
   ],
   "source": [
    "# CARGAR LOS PDFS A GOOGLE DRIVE\n",
    "dic_urls = {}\n",
    "# View all folders and file in your Google Drive\n",
    "fileList = drive.ListFile({'q': \"'root' in parents and trashed=false\"}).GetList()\n",
    "for file in fileList:\n",
    "  #print('Title: %s, ID: %s' % (file['title'], file['id']))\n",
    "  # Get the folder ID that you want\n",
    "  if(file['title'] == \"2DA_INSPECCION\"):\n",
    "      fileID = file['id']\n",
    "\n",
    "for file in dic_files:\n",
    "    file1 = drive.CreateFile({\"mimeType\": \"application/pdf\", \"parents\": [{\"kind\": \"drive#fileLink\", \"id\": fileID}]})\n",
    "    file1['title'] = dic_files[file]\n",
    "    file1.SetContentFile(ruta + r'/pdf//' + dic_files[file])\n",
    "    file1.Upload() # Upload the file.\n",
    "    print('Created file %s with mimeType %s' % (file1['title'], file1['mimeType']))\n",
    "    permission = file1.InsertPermission({\n",
    "                        'type': 'anyone',\n",
    "                        'value': 'anyone',\n",
    "                        'role': 'reader'})\n",
    "    dic_urls[file] = file1['alternateLink']\n",
    "dic_urls\n",
    "print('end')"
   ]
  },
  {
   "cell_type": "code",
   "execution_count": 10,
   "id": "6aceb417-cee6-413c-917f-f03bcba671b6",
   "metadata": {},
   "outputs": [
    {
     "name": "stdout",
     "output_type": "stream",
     "text": [
      "18 URLs\n"
     ]
    },
    {
     "data": {
      "text/plain": [
       "{10806: 'https://drive.google.com/file/d/1cLgxIbj7qABcftK8kAeq6UR6SWN-IDXJ/view?usp=drivesdk',\n",
       " 11231: 'https://drive.google.com/file/d/1NBxFC6vsccfl3Obha9S-8bIQus1H8A_a/view?usp=drivesdk',\n",
       " 1182: 'https://drive.google.com/file/d/1xFKs4lpG2csn42qD9WZjTEVcxZOvuhaG/view?usp=drivesdk',\n",
       " 13001: 'https://drive.google.com/file/d/1XgXy1ZJdwTe-y_Fx_731nyOGbhNXEYDH/view?usp=drivesdk',\n",
       " 13638: 'https://drive.google.com/file/d/1Dv_C6_m4vUCDgPNS14-egKuPjFmKVefi/view?usp=drivesdk',\n",
       " 14760: 'https://drive.google.com/file/d/1zM49gpPQ9ajXdlQpqhA_tzM801YmaMuk/view?usp=drivesdk',\n",
       " 15308: 'https://drive.google.com/file/d/1LNcruQBSs0pdqCQXAl-z9R1IrrnaYpQL/view?usp=drivesdk',\n",
       " 1783: 'https://drive.google.com/file/d/12GDcUrIueY_wExzBcDtbp7kGzLAjQwnI/view?usp=drivesdk',\n",
       " 41973: 'https://drive.google.com/file/d/1I0a8UtYbAQcgviz6BBckIBSKwmZMJiGE/view?usp=drivesdk',\n",
       " 41980: 'https://drive.google.com/file/d/12LjVfYQWcynaYfx0djzwLbYP3oDmVUjM/view?usp=drivesdk',\n",
       " 7385: 'https://drive.google.com/file/d/17ca_ZnmtD9Zy4t03aeQO4VCbaeYschYc/view?usp=drivesdk',\n",
       " 7829: 'https://drive.google.com/file/d/14nYBz-4bKPzHnn5f5aqWSkAy0O7ER-P7/view?usp=drivesdk',\n",
       " 7910: 'https://drive.google.com/file/d/1golawrV2cyamVJco0QNPaGqZzaBR__23/view?usp=drivesdk',\n",
       " 8017: 'https://drive.google.com/file/d/1bQvX2oOBvTgkahH_2KnRNLO0r5c90XNF/view?usp=drivesdk',\n",
       " 8140: 'https://drive.google.com/file/d/1xG-E6BHTDI2b--L4KtvZsyTeV5ODEbI1/view?usp=drivesdk',\n",
       " 8684: 'https://drive.google.com/file/d/1M_c7rB67_1Nn19u1uiKtM5e_Io0odHkC/view?usp=drivesdk',\n",
       " 8814: 'https://drive.google.com/file/d/1BQ1m5UuWrkMkCiznagt-dkv7yP1Zb4bt/view?usp=drivesdk',\n",
       " 9687: 'https://drive.google.com/file/d/1sCLomjGIWsIjIW8oWIVb8o7lG5WkQiNi/view?usp=drivesdk'}"
      ]
     },
     "execution_count": 10,
     "metadata": {},
     "output_type": "execute_result"
    }
   ],
   "source": [
    "print(len(dic_urls), 'URLs')\n",
    "dic_urls"
   ]
  },
  {
   "cell_type": "markdown",
   "id": "6063c8ed-d601-4164-9af1-e1c2dbc865d0",
   "metadata": {},
   "source": [
    "# conexion a amigocloud"
   ]
  },
  {
   "cell_type": "code",
   "execution_count": 11,
   "id": "f0d01517-62ff-4a1f-a49b-79646323127e",
   "metadata": {},
   "outputs": [],
   "source": [
    "import sys\n",
    "sys.path.append('../../../_amigocloud')\n",
    "\n",
    "from amigocloud import AmigoCloud"
   ]
  },
  {
   "cell_type": "code",
   "execution_count": 12,
   "id": "fea924a5-9048-42a8-b912-6604dc5b6539",
   "metadata": {},
   "outputs": [
    {
     "data": {
      "text/plain": [
       "<amigocloud.AmigoCloud at 0x21c3fef9f60>"
      ]
     },
     "execution_count": 12,
     "metadata": {},
     "output_type": "execute_result"
    }
   ],
   "source": [
    "# leer token\n",
    "acceso = open(ruta + '/_keys/api_amigocloud.key','r')\n",
    "api_token = acceso.readlines()[0]\n",
    "acceso.close()\n",
    "amigocloud = AmigoCloud(token=api_token)\n",
    "amigocloud"
   ]
  },
  {
   "cell_type": "code",
   "execution_count": 13,
   "id": "6ea99bee-0a6d-48a1-9833-6b8c2a62433a",
   "metadata": {},
   "outputs": [
    {
     "name": "stdout",
     "output_type": "stream",
     "text": [
      "10806\n",
      "11231\n",
      "1182\n",
      "13001\n",
      "13638\n",
      "14760\n",
      "15308\n",
      "1783\n",
      "41973\n",
      "41980\n",
      "7385\n",
      "7829\n",
      "7910\n",
      "8017\n",
      "8140\n",
      "8684\n",
      "8814\n",
      "9687\n",
      "end\n"
     ]
    }
   ],
   "source": [
    "for key in dic_urls:\n",
    "    query = {'query': 'update dataset_307560 set link_doc_2da = \\'{link}\\' where cast(SPLIT_PART(canhero, \\' / \\', 1) as integer) = \\'{cod}\\''.format(link=dic_urls[key], cod=key)}\n",
    "    res = amigocloud.post('https://app.amigocloud.com/api/v1/projects/32672/sql', query)\n",
    "    print(key)\n",
    "print('end')"
   ]
  }
 ],
 "metadata": {
  "kernelspec": {
   "display_name": "Python 3 (ipykernel)",
   "language": "python",
   "name": "python3"
  },
  "language_info": {
   "codemirror_mode": {
    "name": "ipython",
    "version": 3
   },
   "file_extension": ".py",
   "mimetype": "text/x-python",
   "name": "python",
   "nbconvert_exporter": "python",
   "pygments_lexer": "ipython3",
   "version": "3.10.13"
  }
 },
 "nbformat": 4,
 "nbformat_minor": 5
}
