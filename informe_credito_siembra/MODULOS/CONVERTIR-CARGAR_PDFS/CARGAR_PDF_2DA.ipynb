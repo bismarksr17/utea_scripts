{
 "cells": [
  {
   "cell_type": "markdown",
   "id": "18a80bc5",
   "metadata": {},
   "source": [
    "# INSTALAR LIBRERIAS"
   ]
  },
  {
   "cell_type": "code",
   "execution_count": 3,
   "id": "7e312719",
   "metadata": {},
   "outputs": [],
   "source": [
    "# !pip install docx2pdf\n",
    "#pip install ipywidgets"
   ]
  },
  {
   "cell_type": "markdown",
   "id": "7e934ca6",
   "metadata": {},
   "source": [
    "# IMPORTAR"
   ]
  },
  {
   "cell_type": "code",
   "execution_count": 1,
   "id": "508a28c7",
   "metadata": {},
   "outputs": [],
   "source": [
    "from docx2pdf import convert\n",
    "import os"
   ]
  },
  {
   "cell_type": "markdown",
   "id": "64ec4ba6",
   "metadata": {},
   "source": [
    "# CONSTRUIR LA RUTA DE LOS ARCHIVOS"
   ]
  },
  {
   "cell_type": "code",
   "execution_count": 2,
   "id": "cdd1c78b-ef20-462c-8de1-034c31d4b386",
   "metadata": {},
   "outputs": [],
   "source": [
    "# ruta de carpera donde estan las llaves\n",
    "ruta = open('../../../ruta.txt')\n",
    "ruta = ruta.readlines()[0]"
   ]
  },
  {
   "cell_type": "code",
   "execution_count": 3,
   "id": "0f5156e8-5e9e-420c-88a5-18dbb46d4511",
   "metadata": {},
   "outputs": [
    {
     "data": {
      "text/plain": [
       "'D:\\\\OneDrive - Ingenio Azucarero Guabira S.A\\\\_DATOS_PYTHON'"
      ]
     },
     "execution_count": 3,
     "metadata": {},
     "output_type": "execute_result"
    }
   ],
   "source": [
    "ruta"
   ]
  },
  {
   "cell_type": "code",
   "execution_count": 4,
   "id": "1fc560f3",
   "metadata": {},
   "outputs": [
    {
     "name": "stdout",
     "output_type": "stream",
     "text": [
      "SE ENCONTRARON 8 INFORMES\n",
      "8 INFORMES\n"
     ]
    },
    {
     "data": {
      "text/plain": [
       "['D:\\\\OneDrive - Ingenio Azucarero Guabira S.A\\\\_DATOS_PYTHON/informes/11860_CRS_18-08-2023_ROCA SERRANO ARMANDO_68.docx',\n",
       " 'D:\\\\OneDrive - Ingenio Azucarero Guabira S.A\\\\_DATOS_PYTHON/informes/14562_CRS_15-08-2023_VACA HURTADO JULIO ERNESTO_20.docx',\n",
       " 'D:\\\\OneDrive - Ingenio Azucarero Guabira S.A\\\\_DATOS_PYTHON/informes/1533_CRS_16-08-2023_CALVI PADILLA ROMAN_69.docx',\n",
       " 'D:\\\\OneDrive - Ingenio Azucarero Guabira S.A\\\\_DATOS_PYTHON/informes/2724_CRS_19-08-2023_CONDORI COLQUE CALIXTO_225.docx',\n",
       " 'D:\\\\OneDrive - Ingenio Azucarero Guabira S.A\\\\_DATOS_PYTHON/informes/41956_CRS_18-08-2023_TORRICO SUAREZ CAROLINA_199.docx',\n",
       " 'D:\\\\OneDrive - Ingenio Azucarero Guabira S.A\\\\_DATOS_PYTHON/informes/42148_CRS_12-07-2023_ESPINOZA ESTHER AGUILAR DE_163.docx',\n",
       " 'D:\\\\OneDrive - Ingenio Azucarero Guabira S.A\\\\_DATOS_PYTHON/informes/5373_CRS_17-08-2023_HURTADO PAZ JORGE EDUARDO_79.docx',\n",
       " 'D:\\\\OneDrive - Ingenio Azucarero Guabira S.A\\\\_DATOS_PYTHON/informes/6626_CRS_18-08-2023_JANKO ALANES VERONICA _213.docx']"
      ]
     },
     "execution_count": 4,
     "metadata": {},
     "output_type": "execute_result"
    }
   ],
   "source": [
    "# colocar aqui la ruta de los archivos\n",
    "path = ruta + r'/informes'\n",
    "contenido = os.listdir(path)\n",
    "rutas =[]\n",
    "i = 0\n",
    "for name in contenido:\n",
    "    rutas.append(path + '/' + name)\n",
    "    i+=1\n",
    "\n",
    "print('SE ENCONTRARON ' + str(i) + ' INFORMES')\n",
    "print(len(rutas), 'INFORMES')\n",
    "rutas"
   ]
  },
  {
   "cell_type": "markdown",
   "id": "6b9af706",
   "metadata": {
    "tags": []
   },
   "source": [
    "# INICIA EL PROCESO DE CONVERCIÓN"
   ]
  },
  {
   "cell_type": "code",
   "execution_count": 5,
   "id": "cdbc481d-e9f8-4a85-946f-4c45abd61e87",
   "metadata": {},
   "outputs": [
    {
     "data": {
      "text/plain": [
       "'D:\\\\OneDrive - Ingenio Azucarero Guabira S.A\\\\_DATOS_PYTHON/pdf/14562_CRS_15-08-2023_VACA HURTADO JULIO ERNESTO_20.pdf'"
      ]
     },
     "execution_count": 5,
     "metadata": {},
     "output_type": "execute_result"
    }
   ],
   "source": [
    "rutas[1].replace('.docx','.pdf').replace('informes','pdf')"
   ]
  },
  {
   "cell_type": "code",
   "execution_count": 6,
   "id": "13d4b150-97ec-4f5f-ae67-8494243a499a",
   "metadata": {},
   "outputs": [
    {
     "data": {
      "text/plain": [
       "'D:\\\\OneDrive - Ingenio Azucarero Guabira S.A\\\\_DATOS_PYTHON/pdf/14562_CRS_15-08-2023_VACA HURTADO JULIO ERNESTO_20.pdf'"
      ]
     },
     "execution_count": 6,
     "metadata": {},
     "output_type": "execute_result"
    }
   ],
   "source": [
    "rutas[1].replace('.docx','.pdf').replace('informes','pdf')"
   ]
  },
  {
   "cell_type": "code",
   "execution_count": 7,
   "id": "0f018b1e",
   "metadata": {
    "tags": []
   },
   "outputs": [
    {
     "name": "stdout",
     "output_type": "stream",
     "text": [
      "CONVIRTIENDO... INFORME 1 D:\\OneDrive - Ingenio Azucarero Guabira S.A\\_DATOS_PYTHON/informes/11860_CRS_18-08-2023_ROCA SERRANO ARMANDO_68.docx\n",
      "D:\\OneDrive - Ingenio Azucarero Guabira S.A\\_DATOS_PYTHON/informes/11860_CRS_18-08-2023_ROCA SERRANO ARMANDO_68.docx\n",
      "D:\\OneDrive - Ingenio Azucarero Guabira S.A\\_DATOS_PYTHON/pdfs/11860_CRS_18-08-2023_ROCA SERRANO ARMANDO_68.pdf\n"
     ]
    },
    {
     "data": {
      "application/vnd.jupyter.widget-view+json": {
       "model_id": "5a50be510ad34105ad825f6b9e83487a",
       "version_major": 2,
       "version_minor": 0
      },
      "text/plain": [
       "  0%|          | 0/1 [00:00<?, ?it/s]"
      ]
     },
     "metadata": {},
     "output_type": "display_data"
    },
    {
     "name": "stdout",
     "output_type": "stream",
     "text": [
      "CONVIRTIENDO... INFORME 2 D:\\OneDrive - Ingenio Azucarero Guabira S.A\\_DATOS_PYTHON/informes/14562_CRS_15-08-2023_VACA HURTADO JULIO ERNESTO_20.docx\n",
      "D:\\OneDrive - Ingenio Azucarero Guabira S.A\\_DATOS_PYTHON/informes/14562_CRS_15-08-2023_VACA HURTADO JULIO ERNESTO_20.docx\n",
      "D:\\OneDrive - Ingenio Azucarero Guabira S.A\\_DATOS_PYTHON/pdfs/14562_CRS_15-08-2023_VACA HURTADO JULIO ERNESTO_20.pdf\n"
     ]
    },
    {
     "data": {
      "application/vnd.jupyter.widget-view+json": {
       "model_id": "bb2bfb7df9454819a708ff1cbe75a40f",
       "version_major": 2,
       "version_minor": 0
      },
      "text/plain": [
       "  0%|          | 0/1 [00:00<?, ?it/s]"
      ]
     },
     "metadata": {},
     "output_type": "display_data"
    },
    {
     "name": "stdout",
     "output_type": "stream",
     "text": [
      "CONVIRTIENDO... INFORME 3 D:\\OneDrive - Ingenio Azucarero Guabira S.A\\_DATOS_PYTHON/informes/1533_CRS_16-08-2023_CALVI PADILLA ROMAN_69.docx\n",
      "D:\\OneDrive - Ingenio Azucarero Guabira S.A\\_DATOS_PYTHON/informes/1533_CRS_16-08-2023_CALVI PADILLA ROMAN_69.docx\n",
      "D:\\OneDrive - Ingenio Azucarero Guabira S.A\\_DATOS_PYTHON/pdfs/1533_CRS_16-08-2023_CALVI PADILLA ROMAN_69.pdf\n"
     ]
    },
    {
     "data": {
      "application/vnd.jupyter.widget-view+json": {
       "model_id": "cb07584420d74f0eb19b2c74718e5dbb",
       "version_major": 2,
       "version_minor": 0
      },
      "text/plain": [
       "  0%|          | 0/1 [00:00<?, ?it/s]"
      ]
     },
     "metadata": {},
     "output_type": "display_data"
    },
    {
     "name": "stdout",
     "output_type": "stream",
     "text": [
      "CONVIRTIENDO... INFORME 4 D:\\OneDrive - Ingenio Azucarero Guabira S.A\\_DATOS_PYTHON/informes/2724_CRS_19-08-2023_CONDORI COLQUE CALIXTO_225.docx\n",
      "D:\\OneDrive - Ingenio Azucarero Guabira S.A\\_DATOS_PYTHON/informes/2724_CRS_19-08-2023_CONDORI COLQUE CALIXTO_225.docx\n",
      "D:\\OneDrive - Ingenio Azucarero Guabira S.A\\_DATOS_PYTHON/pdfs/2724_CRS_19-08-2023_CONDORI COLQUE CALIXTO_225.pdf\n"
     ]
    },
    {
     "data": {
      "application/vnd.jupyter.widget-view+json": {
       "model_id": "697991ac344d472b9f82d93a6b37f593",
       "version_major": 2,
       "version_minor": 0
      },
      "text/plain": [
       "  0%|          | 0/1 [00:00<?, ?it/s]"
      ]
     },
     "metadata": {},
     "output_type": "display_data"
    },
    {
     "name": "stdout",
     "output_type": "stream",
     "text": [
      "CONVIRTIENDO... INFORME 5 D:\\OneDrive - Ingenio Azucarero Guabira S.A\\_DATOS_PYTHON/informes/41956_CRS_18-08-2023_TORRICO SUAREZ CAROLINA_199.docx\n",
      "D:\\OneDrive - Ingenio Azucarero Guabira S.A\\_DATOS_PYTHON/informes/41956_CRS_18-08-2023_TORRICO SUAREZ CAROLINA_199.docx\n",
      "D:\\OneDrive - Ingenio Azucarero Guabira S.A\\_DATOS_PYTHON/pdfs/41956_CRS_18-08-2023_TORRICO SUAREZ CAROLINA_199.pdf\n"
     ]
    },
    {
     "data": {
      "application/vnd.jupyter.widget-view+json": {
       "model_id": "90092e725be946a29891f189a8452b8b",
       "version_major": 2,
       "version_minor": 0
      },
      "text/plain": [
       "  0%|          | 0/1 [00:00<?, ?it/s]"
      ]
     },
     "metadata": {},
     "output_type": "display_data"
    },
    {
     "name": "stdout",
     "output_type": "stream",
     "text": [
      "CONVIRTIENDO... INFORME 6 D:\\OneDrive - Ingenio Azucarero Guabira S.A\\_DATOS_PYTHON/informes/42148_CRS_12-07-2023_ESPINOZA ESTHER AGUILAR DE_163.docx\n",
      "D:\\OneDrive - Ingenio Azucarero Guabira S.A\\_DATOS_PYTHON/informes/42148_CRS_12-07-2023_ESPINOZA ESTHER AGUILAR DE_163.docx\n",
      "D:\\OneDrive - Ingenio Azucarero Guabira S.A\\_DATOS_PYTHON/pdfs/42148_CRS_12-07-2023_ESPINOZA ESTHER AGUILAR DE_163.pdf\n"
     ]
    },
    {
     "data": {
      "application/vnd.jupyter.widget-view+json": {
       "model_id": "f85660e0448949e98a1f51f0cc8fac1f",
       "version_major": 2,
       "version_minor": 0
      },
      "text/plain": [
       "  0%|          | 0/1 [00:00<?, ?it/s]"
      ]
     },
     "metadata": {},
     "output_type": "display_data"
    },
    {
     "name": "stdout",
     "output_type": "stream",
     "text": [
      "CONVIRTIENDO... INFORME 7 D:\\OneDrive - Ingenio Azucarero Guabira S.A\\_DATOS_PYTHON/informes/5373_CRS_17-08-2023_HURTADO PAZ JORGE EDUARDO_79.docx\n",
      "D:\\OneDrive - Ingenio Azucarero Guabira S.A\\_DATOS_PYTHON/informes/5373_CRS_17-08-2023_HURTADO PAZ JORGE EDUARDO_79.docx\n",
      "D:\\OneDrive - Ingenio Azucarero Guabira S.A\\_DATOS_PYTHON/pdfs/5373_CRS_17-08-2023_HURTADO PAZ JORGE EDUARDO_79.pdf\n"
     ]
    },
    {
     "data": {
      "application/vnd.jupyter.widget-view+json": {
       "model_id": "81149e64229043f098be277a1b813ec7",
       "version_major": 2,
       "version_minor": 0
      },
      "text/plain": [
       "  0%|          | 0/1 [00:00<?, ?it/s]"
      ]
     },
     "metadata": {},
     "output_type": "display_data"
    },
    {
     "name": "stdout",
     "output_type": "stream",
     "text": [
      "CONVIRTIENDO... INFORME 8 D:\\OneDrive - Ingenio Azucarero Guabira S.A\\_DATOS_PYTHON/informes/6626_CRS_18-08-2023_JANKO ALANES VERONICA _213.docx\n",
      "D:\\OneDrive - Ingenio Azucarero Guabira S.A\\_DATOS_PYTHON/informes/6626_CRS_18-08-2023_JANKO ALANES VERONICA _213.docx\n",
      "D:\\OneDrive - Ingenio Azucarero Guabira S.A\\_DATOS_PYTHON/pdfs/6626_CRS_18-08-2023_JANKO ALANES VERONICA _213.pdf\n"
     ]
    },
    {
     "data": {
      "application/vnd.jupyter.widget-view+json": {
       "model_id": "e182bffb94ad46c8bd7113fd17249acb",
       "version_major": 2,
       "version_minor": 0
      },
      "text/plain": [
       "  0%|          | 0/1 [00:00<?, ?it/s]"
      ]
     },
     "metadata": {},
     "output_type": "display_data"
    },
    {
     "name": "stdout",
     "output_type": "stream",
     "text": [
      "END\n"
     ]
    }
   ],
   "source": [
    "i = 1\n",
    "for filename in rutas:\n",
    "    print('CONVIRTIENDO... INFORME ' + str(i) + ' ' + filename)\n",
    "    # se realiza la convrsion pasando parametro de salida y entrada, \n",
    "    # para la salida se reemplaza la extencion y la ruta\n",
    "    print(filename)\n",
    "    print(filename.replace('.docx','.pdf').replace('informes','pdfs'))\n",
    "    pdf = filename.replace('.docx','.pdf').replace('informes','pdfs').split('/')[-1]\n",
    "    convert(filename, r'C:\\Users\\Bismar\\Downloads\\\\' + pdf)\n",
    "    i+=1\n",
    "print('END')"
   ]
  },
  {
   "cell_type": "markdown",
   "id": "455ef654-fe35-492c-8f69-3dc00102b0bb",
   "metadata": {},
   "source": [
    "# Leer archivos"
   ]
  },
  {
   "cell_type": "code",
   "execution_count": 8,
   "id": "df0f066e-d897-4ca6-a8cd-23b40ad41307",
   "metadata": {},
   "outputs": [
    {
     "name": "stdout",
     "output_type": "stream",
     "text": [
      "Your browser has been opened to visit:\n",
      "\n",
      "    https://accounts.google.com/o/oauth2/auth?client_id=1096764895697-57btfmtn7rdejufct5qq4j9mi61j0unl.apps.googleusercontent.com&redirect_uri=http%3A%2F%2Flocalhost%3A8080%2F&scope=https%3A%2F%2Fwww.googleapis.com%2Fauth%2Fdrive&access_type=offline&response_type=code\n",
      "\n",
      "Authentication successful.\n"
     ]
    }
   ],
   "source": [
    "# CONEXION A GOOGLE DRIVE\n",
    "from pydrive.auth import GoogleAuth\n",
    "from pydrive.drive import GoogleDrive\n",
    "gauth = GoogleAuth()\n",
    "gauth.LocalWebserverAuth() # client_secrets.json need to be in the same directory as the script\n",
    "drive = GoogleDrive(gauth)"
   ]
  },
  {
   "cell_type": "code",
   "execution_count": 9,
   "id": "5bc6184d-91a1-42a1-a809-84014f898d43",
   "metadata": {},
   "outputs": [
    {
     "name": "stdout",
     "output_type": "stream",
     "text": [
      "8 informes\n"
     ]
    },
    {
     "data": {
      "text/plain": [
       "{11860: '11860_CRS_18-08-2023_ROCA SERRANO ARMANDO_68.pdf',\n",
       " 14562: '14562_CRS_15-08-2023_VACA HURTADO JULIO ERNESTO_20.pdf',\n",
       " 1533: '1533_CRS_16-08-2023_CALVI PADILLA ROMAN_69.pdf',\n",
       " 2724: '2724_CRS_19-08-2023_CONDORI COLQUE CALIXTO_225.pdf',\n",
       " 41956: '41956_CRS_18-08-2023_TORRICO SUAREZ CAROLINA_199.pdf',\n",
       " 42148: '42148_CRS_12-07-2023_ESPINOZA ESTHER AGUILAR DE_163.pdf',\n",
       " 5373: '5373_CRS_17-08-2023_HURTADO PAZ JORGE EDUARDO_79.pdf',\n",
       " 6626: '6626_CRS_18-08-2023_JANKO ALANES VERONICA _213.pdf'}"
      ]
     },
     "execution_count": 9,
     "metadata": {},
     "output_type": "execute_result"
    }
   ],
   "source": [
    "contenido = os.listdir(ruta + r'/pdf')\n",
    "dic_files = {}\n",
    "for file in contenido:\n",
    "    split = file.split('_')\n",
    "    dic_files[int(split[0])] = file\n",
    "print(len(dic_files), 'informes')\n",
    "dic_files"
   ]
  },
  {
   "cell_type": "markdown",
   "id": "68778c6d-31c1-4f6f-880c-5d3f2d04ed17",
   "metadata": {},
   "source": [
    "# CARGAR LOS PDFS A GOOGLE DRIVE"
   ]
  },
  {
   "cell_type": "code",
   "execution_count": 10,
   "id": "aaf8d01b-5324-4b14-a67d-a6162850efa2",
   "metadata": {},
   "outputs": [
    {
     "name": "stdout",
     "output_type": "stream",
     "text": [
      "Created file 11860_CRS_18-08-2023_ROCA SERRANO ARMANDO_68.pdf with mimeType application/pdf\n",
      "Created file 14562_CRS_15-08-2023_VACA HURTADO JULIO ERNESTO_20.pdf with mimeType application/pdf\n",
      "Created file 1533_CRS_16-08-2023_CALVI PADILLA ROMAN_69.pdf with mimeType application/pdf\n",
      "Created file 2724_CRS_19-08-2023_CONDORI COLQUE CALIXTO_225.pdf with mimeType application/pdf\n",
      "Created file 41956_CRS_18-08-2023_TORRICO SUAREZ CAROLINA_199.pdf with mimeType application/pdf\n",
      "Created file 42148_CRS_12-07-2023_ESPINOZA ESTHER AGUILAR DE_163.pdf with mimeType application/pdf\n",
      "Created file 5373_CRS_17-08-2023_HURTADO PAZ JORGE EDUARDO_79.pdf with mimeType application/pdf\n",
      "Created file 6626_CRS_18-08-2023_JANKO ALANES VERONICA _213.pdf with mimeType application/pdf\n",
      "end\n"
     ]
    }
   ],
   "source": [
    "# CARGAR LOS PDFS A GOOGLE DRIVE\n",
    "dic_urls = {}\n",
    "# View all folders and file in your Google Drive\n",
    "fileList = drive.ListFile({'q': \"'root' in parents and trashed=false\"}).GetList()\n",
    "for file in fileList:\n",
    "  #print('Title: %s, ID: %s' % (file['title'], file['id']))\n",
    "  # Get the folder ID that you want\n",
    "  if(file['title'] == \"_2DA_INSPECCION\"):\n",
    "      fileID = file['id']\n",
    "\n",
    "for file in dic_files:\n",
    "    file1 = drive.CreateFile({\"mimeType\": \"application/pdf\", \"parents\": [{\"kind\": \"drive#fileLink\", \"id\": fileID}]})\n",
    "    file1['title'] = dic_files[file]\n",
    "    file1.SetContentFile(ruta + r'/pdf//' + dic_files[file])\n",
    "    file1.Upload() # Upload the file.\n",
    "    print('Created file %s with mimeType %s' % (file1['title'], file1['mimeType']))\n",
    "    permission = file1.InsertPermission({\n",
    "                        'type': 'anyone',\n",
    "                        'value': 'anyone',\n",
    "                        'role': 'reader'})\n",
    "    dic_urls[file] = file1['alternateLink']\n",
    "dic_urls\n",
    "print('end')"
   ]
  },
  {
   "cell_type": "code",
   "execution_count": 11,
   "id": "6aceb417-cee6-413c-917f-f03bcba671b6",
   "metadata": {},
   "outputs": [
    {
     "name": "stdout",
     "output_type": "stream",
     "text": [
      "8 URLs\n"
     ]
    },
    {
     "data": {
      "text/plain": [
       "{11860: 'https://drive.google.com/file/d/1LxbBug8Iuscrrrhj4YFSiw3O-vr9WK1P/view?usp=drivesdk',\n",
       " 14562: 'https://drive.google.com/file/d/1SLywETznth5fbnwUk92KWkhUP06-kUSE/view?usp=drivesdk',\n",
       " 1533: 'https://drive.google.com/file/d/1xFn12Lvvt4bfU_FoQwsA2adkEqjK3X78/view?usp=drivesdk',\n",
       " 2724: 'https://drive.google.com/file/d/1QmGzKmOR2DGiA7QOBlQGqXKA50cM13X3/view?usp=drivesdk',\n",
       " 41956: 'https://drive.google.com/file/d/1pkBue8KrQdY2TzCgMRsc8b5mAernUgpF/view?usp=drivesdk',\n",
       " 42148: 'https://drive.google.com/file/d/10KQq6dX-Q0Bn2pFJZAWAYGfEWBWC5c-Q/view?usp=drivesdk',\n",
       " 5373: 'https://drive.google.com/file/d/1ZFOj51X0ZRNCVvHBRinob84gLifz9hsC/view?usp=drivesdk',\n",
       " 6626: 'https://drive.google.com/file/d/1Gk0w8VD2Mg8t-XjNAgvtU400gbQrj9L1/view?usp=drivesdk'}"
      ]
     },
     "execution_count": 11,
     "metadata": {},
     "output_type": "execute_result"
    }
   ],
   "source": [
    "print(len(dic_urls), 'URLs')\n",
    "dic_urls"
   ]
  },
  {
   "cell_type": "markdown",
   "id": "6063c8ed-d601-4164-9af1-e1c2dbc865d0",
   "metadata": {},
   "source": [
    "# conexion a amigocloud"
   ]
  },
  {
   "cell_type": "code",
   "execution_count": 13,
   "id": "f0d01517-62ff-4a1f-a49b-79646323127e",
   "metadata": {},
   "outputs": [],
   "source": [
    "from amigocloud import AmigoCloud"
   ]
  },
  {
   "cell_type": "code",
   "execution_count": 14,
   "id": "fea924a5-9048-42a8-b912-6604dc5b6539",
   "metadata": {},
   "outputs": [
    {
     "data": {
      "text/plain": [
       "<amigocloud.amigocloud.AmigoCloud at 0x2812d60d7c8>"
      ]
     },
     "execution_count": 14,
     "metadata": {},
     "output_type": "execute_result"
    }
   ],
   "source": [
    "# leer token\n",
    "acceso = open(ruta + '/_keys/api_amigocloud.key','r')\n",
    "api_token = acceso.readlines()[0]\n",
    "acceso.close()\n",
    "amigocloud = AmigoCloud(token=api_token)\n",
    "amigocloud"
   ]
  },
  {
   "cell_type": "code",
   "execution_count": 15,
   "id": "6ea99bee-0a6d-48a1-9833-6b8c2a62433a",
   "metadata": {},
   "outputs": [
    {
     "name": "stdout",
     "output_type": "stream",
     "text": [
      "11860\n",
      "14562\n",
      "1533\n",
      "2724\n",
      "41956\n",
      "42148\n",
      "5373\n",
      "6626\n",
      "end\n"
     ]
    }
   ],
   "source": [
    "for key in dic_urls:\n",
    "    query = {'query': 'update dataset_307560 set link_doc_2da = \\'{link}\\' where cast(SPLIT_PART(canhero, \\' / \\', 1) as integer) = \\'{cod}\\''.format(link=dic_urls[key], cod=key)}\n",
    "    res = amigocloud.post('https://app.amigocloud.com/api/v1/projects/32672/sql', query)\n",
    "    print(key)\n",
    "print('end')"
   ]
  }
 ],
 "metadata": {
  "kernelspec": {
   "display_name": "Python 3 (ipykernel)",
   "language": "python",
   "name": "python3"
  },
  "language_info": {
   "codemirror_mode": {
    "name": "ipython",
    "version": 3
   },
   "file_extension": ".py",
   "mimetype": "text/x-python",
   "name": "python",
   "nbconvert_exporter": "python",
   "pygments_lexer": "ipython3",
   "version": "3.7.11"
  }
 },
 "nbformat": 4,
 "nbformat_minor": 5
}
