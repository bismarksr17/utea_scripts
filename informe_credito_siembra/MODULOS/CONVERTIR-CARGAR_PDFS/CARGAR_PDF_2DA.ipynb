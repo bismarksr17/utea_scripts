{
 "cells": [
  {
   "cell_type": "markdown",
   "id": "18a80bc5",
   "metadata": {},
   "source": [
    "# INSTALAR LIBRERIAS"
   ]
  },
  {
   "cell_type": "code",
   "execution_count": 13,
   "id": "7e312719",
   "metadata": {},
   "outputs": [],
   "source": [
    "# !pip install docx2pdf\n",
    "#pip install ipywidgets"
   ]
  },
  {
   "cell_type": "markdown",
   "id": "7e934ca6",
   "metadata": {},
   "source": [
    "# IMPORTAR"
   ]
  },
  {
   "cell_type": "code",
   "execution_count": 3,
   "id": "508a28c7",
   "metadata": {},
   "outputs": [],
   "source": [
    "from docx2pdf import convert\n",
    "import os"
   ]
  },
  {
   "cell_type": "markdown",
   "id": "64ec4ba6",
   "metadata": {},
   "source": [
    "# CONSTRUIR LA RUTA DE LOS ARCHIVOS"
   ]
  },
  {
   "cell_type": "code",
   "execution_count": 5,
   "id": "cdd1c78b-ef20-462c-8de1-034c31d4b386",
   "metadata": {},
   "outputs": [],
   "source": [
    "# ruta de carpera donde estan las llaves\n",
    "ruta = open('../../../ruta.txt')\n",
    "ruta = ruta.readlines()[0]"
   ]
  },
  {
   "cell_type": "code",
   "execution_count": 3,
   "id": "1fc560f3",
   "metadata": {},
   "outputs": [
    {
     "name": "stdout",
     "output_type": "stream",
     "text": [
      "SE ENCONTRARON 3 INFORMES\n",
      "3 INFORMES\n"
     ]
    },
    {
     "data": {
      "text/plain": [
       "['G:\\\\OneDrive - Ingenio Azucarero Guabira S.A\\\\_DATOS_PYTHON/informes/10863_CRS_29-03-2024_PAZ REA ROSENDO.docx',\n",
       " 'G:\\\\OneDrive - Ingenio Azucarero Guabira S.A\\\\_DATOS_PYTHON/informes/2765_CRS_27-03-2024_DAVALOS GUARISTI MARIO.docx',\n",
       " 'G:\\\\OneDrive - Ingenio Azucarero Guabira S.A\\\\_DATOS_PYTHON/informes/8003_CRS_29-03-2024_AGUILERA RIVERO SERGIO STEFAN.docx']"
      ]
     },
     "execution_count": 3,
     "metadata": {},
     "output_type": "execute_result"
    }
   ],
   "source": [
    "# colocar aqui la ruta de los archivos\n",
    "path = ruta + r'/informes'\n",
    "contenido = os.listdir(path)\n",
    "rutas =[]\n",
    "i = 0\n",
    "for name in contenido:\n",
    "    rutas.append(path + '/' + name)\n",
    "    i+=1\n",
    "\n",
    "print('SE ENCONTRARON ' + str(i) + ' INFORMES')\n",
    "print(len(rutas), 'INFORMES')\n",
    "rutas"
   ]
  },
  {
   "cell_type": "markdown",
   "id": "6b9af706",
   "metadata": {
    "tags": []
   },
   "source": [
    "# INICIA EL PROCESO DE CONVERCIÓN"
   ]
  },
  {
   "cell_type": "code",
   "execution_count": 4,
   "id": "cdbc481d-e9f8-4a85-946f-4c45abd61e87",
   "metadata": {},
   "outputs": [
    {
     "data": {
      "text/plain": [
       "'G:\\\\OneDrive - Ingenio Azucarero Guabira S.A\\\\_DATOS_PYTHON/pdf/2765_CRS_27-03-2024_DAVALOS GUARISTI MARIO.pdf'"
      ]
     },
     "execution_count": 4,
     "metadata": {},
     "output_type": "execute_result"
    }
   ],
   "source": [
    "rutas[1].replace('.docx','.pdf').replace('informes','pdf')"
   ]
  },
  {
   "cell_type": "code",
   "execution_count": 5,
   "id": "13d4b150-97ec-4f5f-ae67-8494243a499a",
   "metadata": {},
   "outputs": [
    {
     "data": {
      "text/plain": [
       "'G:\\\\OneDrive - Ingenio Azucarero Guabira S.A\\\\_DATOS_PYTHON/pdf/2765_CRS_27-03-2024_DAVALOS GUARISTI MARIO.pdf'"
      ]
     },
     "execution_count": 5,
     "metadata": {},
     "output_type": "execute_result"
    }
   ],
   "source": [
    "rutas[1].replace('.docx','.pdf').replace('informes','pdf')"
   ]
  },
  {
   "cell_type": "code",
   "execution_count": 11,
   "id": "0f018b1e",
   "metadata": {
    "tags": []
   },
   "outputs": [
    {
     "name": "stdout",
     "output_type": "stream",
     "text": [
      "CONVIRTIENDO... INFORME 1 G:\\OneDrive - Ingenio Azucarero Guabira S.A\\_DATOS_PYTHON/informes/10863_CRS_29-03-2024_PAZ REA ROSENDO.docx\n",
      "G:\\OneDrive - Ingenio Azucarero Guabira S.A\\_DATOS_PYTHON/informes/10863_CRS_29-03-2024_PAZ REA ROSENDO.docx\n",
      "G:\\OneDrive - Ingenio Azucarero Guabira S.A\\_DATOS_PYTHON/pdfs/10863_CRS_29-03-2024_PAZ REA ROSENDO.pdf\n"
     ]
    },
    {
     "data": {
      "application/vnd.jupyter.widget-view+json": {
       "model_id": "eccd101fba304ca5a26c174d25b6e062",
       "version_major": 2,
       "version_minor": 0
      },
      "text/plain": [
       "  0%|          | 0/1 [00:00<?, ?it/s]"
      ]
     },
     "metadata": {},
     "output_type": "display_data"
    },
    {
     "name": "stdout",
     "output_type": "stream",
     "text": [
      "CONVIRTIENDO... INFORME 2 G:\\OneDrive - Ingenio Azucarero Guabira S.A\\_DATOS_PYTHON/informes/2765_CRS_27-03-2024_DAVALOS GUARISTI MARIO.docx\n",
      "G:\\OneDrive - Ingenio Azucarero Guabira S.A\\_DATOS_PYTHON/informes/2765_CRS_27-03-2024_DAVALOS GUARISTI MARIO.docx\n",
      "G:\\OneDrive - Ingenio Azucarero Guabira S.A\\_DATOS_PYTHON/pdfs/2765_CRS_27-03-2024_DAVALOS GUARISTI MARIO.pdf\n"
     ]
    },
    {
     "data": {
      "application/vnd.jupyter.widget-view+json": {
       "model_id": "08a486e169df4d1f8690c5a073d747f7",
       "version_major": 2,
       "version_minor": 0
      },
      "text/plain": [
       "  0%|          | 0/1 [00:00<?, ?it/s]"
      ]
     },
     "metadata": {},
     "output_type": "display_data"
    },
    {
     "name": "stdout",
     "output_type": "stream",
     "text": [
      "CONVIRTIENDO... INFORME 3 G:\\OneDrive - Ingenio Azucarero Guabira S.A\\_DATOS_PYTHON/informes/8003_CRS_29-03-2024_AGUILERA RIVERO SERGIO STEFAN.docx\n",
      "G:\\OneDrive - Ingenio Azucarero Guabira S.A\\_DATOS_PYTHON/informes/8003_CRS_29-03-2024_AGUILERA RIVERO SERGIO STEFAN.docx\n",
      "G:\\OneDrive - Ingenio Azucarero Guabira S.A\\_DATOS_PYTHON/pdfs/8003_CRS_29-03-2024_AGUILERA RIVERO SERGIO STEFAN.pdf\n"
     ]
    },
    {
     "data": {
      "application/vnd.jupyter.widget-view+json": {
       "model_id": "17694ee608d54b27bf7acfe6738ffaf4",
       "version_major": 2,
       "version_minor": 0
      },
      "text/plain": [
       "  0%|          | 0/1 [00:00<?, ?it/s]"
      ]
     },
     "metadata": {},
     "output_type": "display_data"
    },
    {
     "name": "stdout",
     "output_type": "stream",
     "text": [
      "END\n"
     ]
    }
   ],
   "source": [
    "i = 1\n",
    "for filename in rutas:\n",
    "    print('CONVIRTIENDO... INFORME ' + str(i) + ' ' + filename)\n",
    "    # se realiza la convrsion pasando parametro de salida y entrada, \n",
    "    # para la salida se reemplaza la extencion y la ruta\n",
    "    print(filename)\n",
    "    print(filename.replace('.docx','.pdf').replace('informes','pdfs'))\n",
    "    pdf = filename.replace('.docx','.pdf').replace('informes','pdfs').split('/')[-1]\n",
    "    convert(filename, r'C:\\Users\\Usuario\\Downloads\\\\' + pdf)\n",
    "    i+=1\n",
    "print('END')"
   ]
  },
  {
   "cell_type": "markdown",
   "id": "455ef654-fe35-492c-8f69-3dc00102b0bb",
   "metadata": {},
   "source": [
    "# Leer archivos"
   ]
  },
  {
   "cell_type": "code",
   "execution_count": 1,
   "id": "df0f066e-d897-4ca6-a8cd-23b40ad41307",
   "metadata": {},
   "outputs": [
    {
     "name": "stdout",
     "output_type": "stream",
     "text": [
      "Your browser has been opened to visit:\n",
      "\n",
      "    https://accounts.google.com/o/oauth2/auth?client_id=1096764895697-57btfmtn7rdejufct5qq4j9mi61j0unl.apps.googleusercontent.com&redirect_uri=http%3A%2F%2Flocalhost%3A8080%2F&scope=https%3A%2F%2Fwww.googleapis.com%2Fauth%2Fdrive&access_type=offline&response_type=code\n",
      "\n",
      "Authentication successful.\n"
     ]
    }
   ],
   "source": [
    "# CONEXION A GOOGLE DRIVE\n",
    "from pydrive.auth import GoogleAuth\n",
    "from pydrive.drive import GoogleDrive\n",
    "gauth = GoogleAuth()\n",
    "gauth.LocalWebserverAuth() # client_secrets.json need to be in the same directory as the script\n",
    "drive = GoogleDrive(gauth)"
   ]
  },
  {
   "cell_type": "code",
   "execution_count": 6,
   "id": "5bc6184d-91a1-42a1-a809-84014f898d43",
   "metadata": {},
   "outputs": [
    {
     "name": "stdout",
     "output_type": "stream",
     "text": [
      "3 informes\n"
     ]
    },
    {
     "data": {
      "text/plain": [
       "{10863: '10863_CRS_29-03-2024_PAZ REA ROSENDO.pdf',\n",
       " 2765: '2765_CRS_27-03-2024_DAVALOS GUARISTI MARIO.pdf',\n",
       " 8003: '8003_CRS_29-03-2024_AGUILERA RIVERO SERGIO STEFAN.pdf'}"
      ]
     },
     "execution_count": 6,
     "metadata": {},
     "output_type": "execute_result"
    }
   ],
   "source": [
    "contenido = os.listdir(ruta + r'/pdf')\n",
    "dic_files = {}\n",
    "for file in contenido:\n",
    "    split = file.split('_')\n",
    "    dic_files[int(split[0])] = file\n",
    "print(len(dic_files), 'informes')\n",
    "dic_files"
   ]
  },
  {
   "cell_type": "markdown",
   "id": "68778c6d-31c1-4f6f-880c-5d3f2d04ed17",
   "metadata": {},
   "source": [
    "# CARGAR LOS PDFS A GOOGLE DRIVE"
   ]
  },
  {
   "cell_type": "code",
   "execution_count": 7,
   "id": "aaf8d01b-5324-4b14-a67d-a6162850efa2",
   "metadata": {},
   "outputs": [
    {
     "name": "stdout",
     "output_type": "stream",
     "text": [
      "Created file 10863_CRS_29-03-2024_PAZ REA ROSENDO.pdf with mimeType application/pdf\n",
      "Created file 2765_CRS_27-03-2024_DAVALOS GUARISTI MARIO.pdf with mimeType application/pdf\n",
      "Created file 8003_CRS_29-03-2024_AGUILERA RIVERO SERGIO STEFAN.pdf with mimeType application/pdf\n",
      "end\n"
     ]
    }
   ],
   "source": [
    "# CARGAR LOS PDFS A GOOGLE DRIVE\n",
    "dic_urls = {}\n",
    "# View all folders and file in your Google Drive\n",
    "fileList = drive.ListFile({'q': \"'root' in parents and trashed=false\"}).GetList()\n",
    "for file in fileList:\n",
    "  #print('Title: %s, ID: %s' % (file['title'], file['id']))\n",
    "  # Get the folder ID that you want\n",
    "  if(file['title'] == \"2DA_INSPECCION\"):\n",
    "      fileID = file['id']\n",
    "\n",
    "for file in dic_files:\n",
    "    file1 = drive.CreateFile({\"mimeType\": \"application/pdf\", \"parents\": [{\"kind\": \"drive#fileLink\", \"id\": fileID}]})\n",
    "    file1['title'] = dic_files[file]\n",
    "    file1.SetContentFile(ruta + r'/pdf//' + dic_files[file])\n",
    "    file1.Upload() # Upload the file.\n",
    "    print('Created file %s with mimeType %s' % (file1['title'], file1['mimeType']))\n",
    "    permission = file1.InsertPermission({\n",
    "                        'type': 'anyone',\n",
    "                        'value': 'anyone',\n",
    "                        'role': 'reader'})\n",
    "    dic_urls[file] = file1['alternateLink']\n",
    "dic_urls\n",
    "print('end')"
   ]
  },
  {
   "cell_type": "code",
   "execution_count": 8,
   "id": "6aceb417-cee6-413c-917f-f03bcba671b6",
   "metadata": {},
   "outputs": [
    {
     "name": "stdout",
     "output_type": "stream",
     "text": [
      "3 URLs\n"
     ]
    },
    {
     "data": {
      "text/plain": [
       "{10863: 'https://drive.google.com/file/d/1ObkfRX0DFWfzMJri_GgQXKLIlLRwrq8E/view?usp=drivesdk',\n",
       " 2765: 'https://drive.google.com/file/d/1yYgILB7TV4T1dKp8QyFbLWapIKKkDo05/view?usp=drivesdk',\n",
       " 8003: 'https://drive.google.com/file/d/15eEJs7R5qLSkzzpJozO4mkncLdGqHQu8/view?usp=drivesdk'}"
      ]
     },
     "execution_count": 8,
     "metadata": {},
     "output_type": "execute_result"
    }
   ],
   "source": [
    "print(len(dic_urls), 'URLs')\n",
    "dic_urls"
   ]
  },
  {
   "cell_type": "markdown",
   "id": "6063c8ed-d601-4164-9af1-e1c2dbc865d0",
   "metadata": {},
   "source": [
    "# conexion a amigocloud"
   ]
  },
  {
   "cell_type": "code",
   "execution_count": 9,
   "id": "f0d01517-62ff-4a1f-a49b-79646323127e",
   "metadata": {},
   "outputs": [],
   "source": [
    "import sys\n",
    "sys.path.append('../../../_amigocloud')\n",
    "\n",
    "from amigocloud import AmigoCloud"
   ]
  },
  {
   "cell_type": "code",
   "execution_count": 10,
   "id": "fea924a5-9048-42a8-b912-6604dc5b6539",
   "metadata": {},
   "outputs": [
    {
     "data": {
      "text/plain": [
       "<amigocloud.AmigoCloud at 0x1db6045f640>"
      ]
     },
     "execution_count": 10,
     "metadata": {},
     "output_type": "execute_result"
    }
   ],
   "source": [
    "# leer token\n",
    "acceso = open(ruta + '/_keys/api_amigocloud.key','r')\n",
    "api_token = acceso.readlines()[0]\n",
    "acceso.close()\n",
    "amigocloud = AmigoCloud(token=api_token)\n",
    "amigocloud"
   ]
  },
  {
   "cell_type": "code",
   "execution_count": 11,
   "id": "6ea99bee-0a6d-48a1-9833-6b8c2a62433a",
   "metadata": {},
   "outputs": [
    {
     "name": "stdout",
     "output_type": "stream",
     "text": [
      "10863\n",
      "2765\n",
      "8003\n",
      "end\n"
     ]
    }
   ],
   "source": [
    "for key in dic_urls:\n",
    "    query = {'query': 'update dataset_307560 set link_doc_2da = \\'{link}\\' where cast(SPLIT_PART(canhero, \\' / \\', 1) as integer) = \\'{cod}\\''.format(link=dic_urls[key], cod=key)}\n",
    "    res = amigocloud.post('https://app.amigocloud.com/api/v1/projects/32672/sql', query)\n",
    "    print(key)\n",
    "print('end')"
   ]
  }
 ],
 "metadata": {
  "kernelspec": {
   "display_name": "Python 3 (ipykernel)",
   "language": "python",
   "name": "python3"
  },
  "language_info": {
   "codemirror_mode": {
    "name": "ipython",
    "version": 3
   },
   "file_extension": ".py",
   "mimetype": "text/x-python",
   "name": "python",
   "nbconvert_exporter": "python",
   "pygments_lexer": "ipython3",
   "version": "3.10.13"
  }
 },
 "nbformat": 4,
 "nbformat_minor": 5
}
