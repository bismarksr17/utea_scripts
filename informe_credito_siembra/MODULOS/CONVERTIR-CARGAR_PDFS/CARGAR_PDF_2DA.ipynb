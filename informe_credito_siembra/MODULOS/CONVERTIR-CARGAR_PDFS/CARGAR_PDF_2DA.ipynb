{
 "cells": [
  {
   "cell_type": "markdown",
   "id": "18a80bc5",
   "metadata": {},
   "source": [
    "# INSTALAR LIBRERIAS"
   ]
  },
  {
   "cell_type": "code",
   "execution_count": 13,
   "id": "7e312719",
   "metadata": {},
   "outputs": [],
   "source": [
    "# !pip install docx2pdf\n",
    "#pip install ipywidgets"
   ]
  },
  {
   "cell_type": "markdown",
   "id": "7e934ca6",
   "metadata": {},
   "source": [
    "# IMPORTAR"
   ]
  },
  {
   "cell_type": "code",
   "execution_count": 1,
   "id": "508a28c7",
   "metadata": {},
   "outputs": [],
   "source": [
    "from docx2pdf import convert\n",
    "import os"
   ]
  },
  {
   "cell_type": "markdown",
   "id": "64ec4ba6",
   "metadata": {},
   "source": [
    "# CONSTRUIR LA RUTA DE LOS ARCHIVOS"
   ]
  },
  {
   "cell_type": "code",
   "execution_count": 2,
   "id": "cdd1c78b-ef20-462c-8de1-034c31d4b386",
   "metadata": {},
   "outputs": [],
   "source": [
    "# ruta de carpera donde estan las llaves\n",
    "ruta = open('../../../ruta.txt')\n",
    "ruta = ruta.readlines()[0]"
   ]
  },
  {
   "cell_type": "code",
   "execution_count": 5,
   "id": "1fc560f3",
   "metadata": {},
   "outputs": [
    {
     "name": "stdout",
     "output_type": "stream",
     "text": [
      "SE ENCONTRARON 16 INFORMES\n",
      "16 INFORMES\n"
     ]
    },
    {
     "data": {
      "text/plain": [
       "['G:\\\\OneDrive - Ingenio Azucarero Guabira S.A\\\\_DATOS_PYTHON/informes__/13652_CRS_10-05-2024_TENORIO CERMENO WILLIAMS.docx',\n",
       " 'G:\\\\OneDrive - Ingenio Azucarero Guabira S.A\\\\_DATOS_PYTHON/informes__/13763_CRS_08-05-2024_TUFINO SCHWENK RUBEN DARIO.docx',\n",
       " 'G:\\\\OneDrive - Ingenio Azucarero Guabira S.A\\\\_DATOS_PYTHON/informes__/18070_CRS_10-05-2024_VILA SORIA MARIBEL.docx',\n",
       " 'G:\\\\OneDrive - Ingenio Azucarero Guabira S.A\\\\_DATOS_PYTHON/informes__/18088_CRS_08-05-2024_FRERKING ORTIZ RICARDO.docx',\n",
       " 'G:\\\\OneDrive - Ingenio Azucarero Guabira S.A\\\\_DATOS_PYTHON/informes__/2626_CRS_10-05-2024_CONDORI QUEVEDO JORGE.docx',\n",
       " 'G:\\\\OneDrive - Ingenio Azucarero Guabira S.A\\\\_DATOS_PYTHON/informes__/3378_CRS_10-05-2024_ESCOBAR MORATO VICTOR HUGO.docx',\n",
       " 'G:\\\\OneDrive - Ingenio Azucarero Guabira S.A\\\\_DATOS_PYTHON/informes__/40148_CRS_09-05-2024_ROMERO LEON BEIMAR SALVADOR.docx',\n",
       " 'G:\\\\OneDrive - Ingenio Azucarero Guabira S.A\\\\_DATOS_PYTHON/informes__/42025_CRS_10-05-2024_TRUJILLO CONDORI JAIME.docx',\n",
       " 'G:\\\\OneDrive - Ingenio Azucarero Guabira S.A\\\\_DATOS_PYTHON/informes__/42178_CRS_10-05-2024_CONDORI ORELLANA RUDDY.docx',\n",
       " 'G:\\\\OneDrive - Ingenio Azucarero Guabira S.A\\\\_DATOS_PYTHON/informes__/42239_CRS_09-05-2024_CORDOVA OLGUIN LEONARDO.docx',\n",
       " 'G:\\\\OneDrive - Ingenio Azucarero Guabira S.A\\\\_DATOS_PYTHON/informes__/42266_CRS_10-05-2024_GARCIA PETRONILA MARISCAL VDA. DE.docx',\n",
       " 'G:\\\\OneDrive - Ingenio Azucarero Guabira S.A\\\\_DATOS_PYTHON/informes__/446_CRS_16-05-2024_AGUILERA ANEZ JHONNY.docx',\n",
       " 'G:\\\\OneDrive - Ingenio Azucarero Guabira S.A\\\\_DATOS_PYTHON/informes__/4607_CRS_10-05-2024_GARCIA MARISCAL LEONCIO.docx',\n",
       " 'G:\\\\OneDrive - Ingenio Azucarero Guabira S.A\\\\_DATOS_PYTHON/informes__/5006_CRS_10-05-2024_GARCIA MARISCAL MILTON FELIX.docx',\n",
       " 'G:\\\\OneDrive - Ingenio Azucarero Guabira S.A\\\\_DATOS_PYTHON/informes__/5421_CRS_09-05-2024_HUBBAUER HOYOS ENRIQUE.docx',\n",
       " 'G:\\\\OneDrive - Ingenio Azucarero Guabira S.A\\\\_DATOS_PYTHON/informes__/633_CRS_10-05-2024_AGROP. VICENTE ROCA GIL SRL.docx']"
      ]
     },
     "execution_count": 5,
     "metadata": {},
     "output_type": "execute_result"
    }
   ],
   "source": [
    "# colocar aqui la ruta de los archivos\n",
    "path = ruta + r'/informes__'\n",
    "contenido = os.listdir(path)\n",
    "rutas =[]\n",
    "i = 0\n",
    "for name in contenido:\n",
    "    rutas.append(path + '/' + name)\n",
    "    i+=1\n",
    "\n",
    "print('SE ENCONTRARON ' + str(i) + ' INFORMES')\n",
    "print(len(rutas), 'INFORMES')\n",
    "rutas"
   ]
  },
  {
   "cell_type": "markdown",
   "id": "6b9af706",
   "metadata": {
    "tags": []
   },
   "source": [
    "# INICIA EL PROCESO DE CONVERCIÓN"
   ]
  },
  {
   "cell_type": "code",
   "execution_count": 6,
   "id": "cdbc481d-e9f8-4a85-946f-4c45abd61e87",
   "metadata": {},
   "outputs": [
    {
     "data": {
      "text/plain": [
       "'G:\\\\OneDrive - Ingenio Azucarero Guabira S.A\\\\_DATOS_PYTHON/pdf__/13763_CRS_08-05-2024_TUFINO SCHWENK RUBEN DARIO.pdf'"
      ]
     },
     "execution_count": 6,
     "metadata": {},
     "output_type": "execute_result"
    }
   ],
   "source": [
    "rutas[1].replace('.docx','.pdf').replace('informes','pdf')"
   ]
  },
  {
   "cell_type": "code",
   "execution_count": 7,
   "id": "13d4b150-97ec-4f5f-ae67-8494243a499a",
   "metadata": {},
   "outputs": [
    {
     "data": {
      "text/plain": [
       "'G:\\\\OneDrive - Ingenio Azucarero Guabira S.A\\\\_DATOS_PYTHON/pdf__/13763_CRS_08-05-2024_TUFINO SCHWENK RUBEN DARIO.pdf'"
      ]
     },
     "execution_count": 7,
     "metadata": {},
     "output_type": "execute_result"
    }
   ],
   "source": [
    "rutas[1].replace('.docx','.pdf').replace('informes','pdf')"
   ]
  },
  {
   "cell_type": "code",
   "execution_count": 9,
   "id": "0f018b1e",
   "metadata": {
    "tags": []
   },
   "outputs": [
    {
     "name": "stdout",
     "output_type": "stream",
     "text": [
      "CONVIRTIENDO... INFORME 1 G:\\OneDrive - Ingenio Azucarero Guabira S.A\\_DATOS_PYTHON/informes__/13652_CRS_10-05-2024_TENORIO CERMENO WILLIAMS.docx\n",
      "G:\\OneDrive - Ingenio Azucarero Guabira S.A\\_DATOS_PYTHON/informes__/13652_CRS_10-05-2024_TENORIO CERMENO WILLIAMS.docx\n",
      "G:\\OneDrive - Ingenio Azucarero Guabira S.A\\_DATOS_PYTHON/pdfs__/13652_CRS_10-05-2024_TENORIO CERMENO WILLIAMS.pdf\n"
     ]
    },
    {
     "data": {
      "application/vnd.jupyter.widget-view+json": {
       "model_id": "3a11e93c34054ec498e9bae526b38db8",
       "version_major": 2,
       "version_minor": 0
      },
      "text/plain": [
       "  0%|          | 0/1 [00:00<?, ?it/s]"
      ]
     },
     "metadata": {},
     "output_type": "display_data"
    },
    {
     "name": "stdout",
     "output_type": "stream",
     "text": [
      "CONVIRTIENDO... INFORME 2 G:\\OneDrive - Ingenio Azucarero Guabira S.A\\_DATOS_PYTHON/informes__/13763_CRS_08-05-2024_TUFINO SCHWENK RUBEN DARIO.docx\n",
      "G:\\OneDrive - Ingenio Azucarero Guabira S.A\\_DATOS_PYTHON/informes__/13763_CRS_08-05-2024_TUFINO SCHWENK RUBEN DARIO.docx\n",
      "G:\\OneDrive - Ingenio Azucarero Guabira S.A\\_DATOS_PYTHON/pdfs__/13763_CRS_08-05-2024_TUFINO SCHWENK RUBEN DARIO.pdf\n"
     ]
    },
    {
     "data": {
      "application/vnd.jupyter.widget-view+json": {
       "model_id": "5bcb7371855741048bca3f49685a6491",
       "version_major": 2,
       "version_minor": 0
      },
      "text/plain": [
       "  0%|          | 0/1 [00:00<?, ?it/s]"
      ]
     },
     "metadata": {},
     "output_type": "display_data"
    },
    {
     "name": "stdout",
     "output_type": "stream",
     "text": [
      "CONVIRTIENDO... INFORME 3 G:\\OneDrive - Ingenio Azucarero Guabira S.A\\_DATOS_PYTHON/informes__/18070_CRS_10-05-2024_VILA SORIA MARIBEL.docx\n",
      "G:\\OneDrive - Ingenio Azucarero Guabira S.A\\_DATOS_PYTHON/informes__/18070_CRS_10-05-2024_VILA SORIA MARIBEL.docx\n",
      "G:\\OneDrive - Ingenio Azucarero Guabira S.A\\_DATOS_PYTHON/pdfs__/18070_CRS_10-05-2024_VILA SORIA MARIBEL.pdf\n"
     ]
    },
    {
     "data": {
      "application/vnd.jupyter.widget-view+json": {
       "model_id": "ff13e0bc07fa419d8c44fd76b55ad619",
       "version_major": 2,
       "version_minor": 0
      },
      "text/plain": [
       "  0%|          | 0/1 [00:00<?, ?it/s]"
      ]
     },
     "metadata": {},
     "output_type": "display_data"
    },
    {
     "name": "stdout",
     "output_type": "stream",
     "text": [
      "CONVIRTIENDO... INFORME 4 G:\\OneDrive - Ingenio Azucarero Guabira S.A\\_DATOS_PYTHON/informes__/18088_CRS_08-05-2024_FRERKING ORTIZ RICARDO.docx\n",
      "G:\\OneDrive - Ingenio Azucarero Guabira S.A\\_DATOS_PYTHON/informes__/18088_CRS_08-05-2024_FRERKING ORTIZ RICARDO.docx\n",
      "G:\\OneDrive - Ingenio Azucarero Guabira S.A\\_DATOS_PYTHON/pdfs__/18088_CRS_08-05-2024_FRERKING ORTIZ RICARDO.pdf\n"
     ]
    },
    {
     "data": {
      "application/vnd.jupyter.widget-view+json": {
       "model_id": "4251ba26ffc44e57962c5bfd55b27a21",
       "version_major": 2,
       "version_minor": 0
      },
      "text/plain": [
       "  0%|          | 0/1 [00:00<?, ?it/s]"
      ]
     },
     "metadata": {},
     "output_type": "display_data"
    },
    {
     "name": "stdout",
     "output_type": "stream",
     "text": [
      "CONVIRTIENDO... INFORME 5 G:\\OneDrive - Ingenio Azucarero Guabira S.A\\_DATOS_PYTHON/informes__/2626_CRS_10-05-2024_CONDORI QUEVEDO JORGE.docx\n",
      "G:\\OneDrive - Ingenio Azucarero Guabira S.A\\_DATOS_PYTHON/informes__/2626_CRS_10-05-2024_CONDORI QUEVEDO JORGE.docx\n",
      "G:\\OneDrive - Ingenio Azucarero Guabira S.A\\_DATOS_PYTHON/pdfs__/2626_CRS_10-05-2024_CONDORI QUEVEDO JORGE.pdf\n"
     ]
    },
    {
     "data": {
      "application/vnd.jupyter.widget-view+json": {
       "model_id": "2182b87097664dd38e9d805e644e9d68",
       "version_major": 2,
       "version_minor": 0
      },
      "text/plain": [
       "  0%|          | 0/1 [00:00<?, ?it/s]"
      ]
     },
     "metadata": {},
     "output_type": "display_data"
    },
    {
     "name": "stdout",
     "output_type": "stream",
     "text": [
      "CONVIRTIENDO... INFORME 6 G:\\OneDrive - Ingenio Azucarero Guabira S.A\\_DATOS_PYTHON/informes__/3378_CRS_10-05-2024_ESCOBAR MORATO VICTOR HUGO.docx\n",
      "G:\\OneDrive - Ingenio Azucarero Guabira S.A\\_DATOS_PYTHON/informes__/3378_CRS_10-05-2024_ESCOBAR MORATO VICTOR HUGO.docx\n",
      "G:\\OneDrive - Ingenio Azucarero Guabira S.A\\_DATOS_PYTHON/pdfs__/3378_CRS_10-05-2024_ESCOBAR MORATO VICTOR HUGO.pdf\n"
     ]
    },
    {
     "data": {
      "application/vnd.jupyter.widget-view+json": {
       "model_id": "5f9743ea3ece4756ba7ee0712eb6813b",
       "version_major": 2,
       "version_minor": 0
      },
      "text/plain": [
       "  0%|          | 0/1 [00:00<?, ?it/s]"
      ]
     },
     "metadata": {},
     "output_type": "display_data"
    },
    {
     "name": "stdout",
     "output_type": "stream",
     "text": [
      "CONVIRTIENDO... INFORME 7 G:\\OneDrive - Ingenio Azucarero Guabira S.A\\_DATOS_PYTHON/informes__/40148_CRS_09-05-2024_ROMERO LEON BEIMAR SALVADOR.docx\n",
      "G:\\OneDrive - Ingenio Azucarero Guabira S.A\\_DATOS_PYTHON/informes__/40148_CRS_09-05-2024_ROMERO LEON BEIMAR SALVADOR.docx\n",
      "G:\\OneDrive - Ingenio Azucarero Guabira S.A\\_DATOS_PYTHON/pdfs__/40148_CRS_09-05-2024_ROMERO LEON BEIMAR SALVADOR.pdf\n"
     ]
    },
    {
     "data": {
      "application/vnd.jupyter.widget-view+json": {
       "model_id": "92e17a1bc58a431d952c7722ee551aed",
       "version_major": 2,
       "version_minor": 0
      },
      "text/plain": [
       "  0%|          | 0/1 [00:00<?, ?it/s]"
      ]
     },
     "metadata": {},
     "output_type": "display_data"
    },
    {
     "name": "stdout",
     "output_type": "stream",
     "text": [
      "CONVIRTIENDO... INFORME 8 G:\\OneDrive - Ingenio Azucarero Guabira S.A\\_DATOS_PYTHON/informes__/42025_CRS_10-05-2024_TRUJILLO CONDORI JAIME.docx\n",
      "G:\\OneDrive - Ingenio Azucarero Guabira S.A\\_DATOS_PYTHON/informes__/42025_CRS_10-05-2024_TRUJILLO CONDORI JAIME.docx\n",
      "G:\\OneDrive - Ingenio Azucarero Guabira S.A\\_DATOS_PYTHON/pdfs__/42025_CRS_10-05-2024_TRUJILLO CONDORI JAIME.pdf\n"
     ]
    },
    {
     "data": {
      "application/vnd.jupyter.widget-view+json": {
       "model_id": "4399c7a78c8b4289a20ff343a5f8cea7",
       "version_major": 2,
       "version_minor": 0
      },
      "text/plain": [
       "  0%|          | 0/1 [00:00<?, ?it/s]"
      ]
     },
     "metadata": {},
     "output_type": "display_data"
    },
    {
     "name": "stdout",
     "output_type": "stream",
     "text": [
      "CONVIRTIENDO... INFORME 9 G:\\OneDrive - Ingenio Azucarero Guabira S.A\\_DATOS_PYTHON/informes__/42178_CRS_10-05-2024_CONDORI ORELLANA RUDDY.docx\n",
      "G:\\OneDrive - Ingenio Azucarero Guabira S.A\\_DATOS_PYTHON/informes__/42178_CRS_10-05-2024_CONDORI ORELLANA RUDDY.docx\n",
      "G:\\OneDrive - Ingenio Azucarero Guabira S.A\\_DATOS_PYTHON/pdfs__/42178_CRS_10-05-2024_CONDORI ORELLANA RUDDY.pdf\n"
     ]
    },
    {
     "data": {
      "application/vnd.jupyter.widget-view+json": {
       "model_id": "3d056a4509fa43c09db71cf08cef7fb5",
       "version_major": 2,
       "version_minor": 0
      },
      "text/plain": [
       "  0%|          | 0/1 [00:00<?, ?it/s]"
      ]
     },
     "metadata": {},
     "output_type": "display_data"
    },
    {
     "name": "stdout",
     "output_type": "stream",
     "text": [
      "CONVIRTIENDO... INFORME 10 G:\\OneDrive - Ingenio Azucarero Guabira S.A\\_DATOS_PYTHON/informes__/42239_CRS_09-05-2024_CORDOVA OLGUIN LEONARDO.docx\n",
      "G:\\OneDrive - Ingenio Azucarero Guabira S.A\\_DATOS_PYTHON/informes__/42239_CRS_09-05-2024_CORDOVA OLGUIN LEONARDO.docx\n",
      "G:\\OneDrive - Ingenio Azucarero Guabira S.A\\_DATOS_PYTHON/pdfs__/42239_CRS_09-05-2024_CORDOVA OLGUIN LEONARDO.pdf\n"
     ]
    },
    {
     "data": {
      "application/vnd.jupyter.widget-view+json": {
       "model_id": "bd827b7386c541e58fbb64b2e2e4306f",
       "version_major": 2,
       "version_minor": 0
      },
      "text/plain": [
       "  0%|          | 0/1 [00:00<?, ?it/s]"
      ]
     },
     "metadata": {},
     "output_type": "display_data"
    },
    {
     "name": "stdout",
     "output_type": "stream",
     "text": [
      "CONVIRTIENDO... INFORME 11 G:\\OneDrive - Ingenio Azucarero Guabira S.A\\_DATOS_PYTHON/informes__/42266_CRS_10-05-2024_GARCIA PETRONILA MARISCAL VDA. DE.docx\n",
      "G:\\OneDrive - Ingenio Azucarero Guabira S.A\\_DATOS_PYTHON/informes__/42266_CRS_10-05-2024_GARCIA PETRONILA MARISCAL VDA. DE.docx\n",
      "G:\\OneDrive - Ingenio Azucarero Guabira S.A\\_DATOS_PYTHON/pdfs__/42266_CRS_10-05-2024_GARCIA PETRONILA MARISCAL VDA. DE.pdf\n"
     ]
    },
    {
     "data": {
      "application/vnd.jupyter.widget-view+json": {
       "model_id": "53fd0b9a776c44acad7b3e590572527e",
       "version_major": 2,
       "version_minor": 0
      },
      "text/plain": [
       "  0%|          | 0/1 [00:00<?, ?it/s]"
      ]
     },
     "metadata": {},
     "output_type": "display_data"
    },
    {
     "name": "stdout",
     "output_type": "stream",
     "text": [
      "CONVIRTIENDO... INFORME 12 G:\\OneDrive - Ingenio Azucarero Guabira S.A\\_DATOS_PYTHON/informes__/446_CRS_16-05-2024_AGUILERA ANEZ JHONNY.docx\n",
      "G:\\OneDrive - Ingenio Azucarero Guabira S.A\\_DATOS_PYTHON/informes__/446_CRS_16-05-2024_AGUILERA ANEZ JHONNY.docx\n",
      "G:\\OneDrive - Ingenio Azucarero Guabira S.A\\_DATOS_PYTHON/pdfs__/446_CRS_16-05-2024_AGUILERA ANEZ JHONNY.pdf\n"
     ]
    },
    {
     "data": {
      "application/vnd.jupyter.widget-view+json": {
       "model_id": "7e25e7864bb842bb89142ab27c8f3050",
       "version_major": 2,
       "version_minor": 0
      },
      "text/plain": [
       "  0%|          | 0/1 [00:00<?, ?it/s]"
      ]
     },
     "metadata": {},
     "output_type": "display_data"
    },
    {
     "name": "stdout",
     "output_type": "stream",
     "text": [
      "CONVIRTIENDO... INFORME 13 G:\\OneDrive - Ingenio Azucarero Guabira S.A\\_DATOS_PYTHON/informes__/4607_CRS_10-05-2024_GARCIA MARISCAL LEONCIO.docx\n",
      "G:\\OneDrive - Ingenio Azucarero Guabira S.A\\_DATOS_PYTHON/informes__/4607_CRS_10-05-2024_GARCIA MARISCAL LEONCIO.docx\n",
      "G:\\OneDrive - Ingenio Azucarero Guabira S.A\\_DATOS_PYTHON/pdfs__/4607_CRS_10-05-2024_GARCIA MARISCAL LEONCIO.pdf\n"
     ]
    },
    {
     "data": {
      "application/vnd.jupyter.widget-view+json": {
       "model_id": "1061fdce30654a0b8e7c5ecb955ea1dd",
       "version_major": 2,
       "version_minor": 0
      },
      "text/plain": [
       "  0%|          | 0/1 [00:00<?, ?it/s]"
      ]
     },
     "metadata": {},
     "output_type": "display_data"
    },
    {
     "name": "stdout",
     "output_type": "stream",
     "text": [
      "CONVIRTIENDO... INFORME 14 G:\\OneDrive - Ingenio Azucarero Guabira S.A\\_DATOS_PYTHON/informes__/5006_CRS_10-05-2024_GARCIA MARISCAL MILTON FELIX.docx\n",
      "G:\\OneDrive - Ingenio Azucarero Guabira S.A\\_DATOS_PYTHON/informes__/5006_CRS_10-05-2024_GARCIA MARISCAL MILTON FELIX.docx\n",
      "G:\\OneDrive - Ingenio Azucarero Guabira S.A\\_DATOS_PYTHON/pdfs__/5006_CRS_10-05-2024_GARCIA MARISCAL MILTON FELIX.pdf\n"
     ]
    },
    {
     "data": {
      "application/vnd.jupyter.widget-view+json": {
       "model_id": "d58e3c8bfe8c4c308d2c28d31d8107de",
       "version_major": 2,
       "version_minor": 0
      },
      "text/plain": [
       "  0%|          | 0/1 [00:00<?, ?it/s]"
      ]
     },
     "metadata": {},
     "output_type": "display_data"
    },
    {
     "name": "stdout",
     "output_type": "stream",
     "text": [
      "CONVIRTIENDO... INFORME 15 G:\\OneDrive - Ingenio Azucarero Guabira S.A\\_DATOS_PYTHON/informes__/5421_CRS_09-05-2024_HUBBAUER HOYOS ENRIQUE.docx\n",
      "G:\\OneDrive - Ingenio Azucarero Guabira S.A\\_DATOS_PYTHON/informes__/5421_CRS_09-05-2024_HUBBAUER HOYOS ENRIQUE.docx\n",
      "G:\\OneDrive - Ingenio Azucarero Guabira S.A\\_DATOS_PYTHON/pdfs__/5421_CRS_09-05-2024_HUBBAUER HOYOS ENRIQUE.pdf\n"
     ]
    },
    {
     "data": {
      "application/vnd.jupyter.widget-view+json": {
       "model_id": "e79ff54700284ce087ffad09f440bb58",
       "version_major": 2,
       "version_minor": 0
      },
      "text/plain": [
       "  0%|          | 0/1 [00:00<?, ?it/s]"
      ]
     },
     "metadata": {},
     "output_type": "display_data"
    },
    {
     "name": "stdout",
     "output_type": "stream",
     "text": [
      "CONVIRTIENDO... INFORME 16 G:\\OneDrive - Ingenio Azucarero Guabira S.A\\_DATOS_PYTHON/informes__/633_CRS_10-05-2024_AGROP. VICENTE ROCA GIL SRL.docx\n",
      "G:\\OneDrive - Ingenio Azucarero Guabira S.A\\_DATOS_PYTHON/informes__/633_CRS_10-05-2024_AGROP. VICENTE ROCA GIL SRL.docx\n",
      "G:\\OneDrive - Ingenio Azucarero Guabira S.A\\_DATOS_PYTHON/pdfs__/633_CRS_10-05-2024_AGROP. VICENTE ROCA GIL SRL.pdf\n"
     ]
    },
    {
     "data": {
      "application/vnd.jupyter.widget-view+json": {
       "model_id": "010969c90fbb4768801329c4a20d85eb",
       "version_major": 2,
       "version_minor": 0
      },
      "text/plain": [
       "  0%|          | 0/1 [00:00<?, ?it/s]"
      ]
     },
     "metadata": {},
     "output_type": "display_data"
    },
    {
     "name": "stdout",
     "output_type": "stream",
     "text": [
      "END\n"
     ]
    }
   ],
   "source": [
    "i = 1\n",
    "for filename in rutas:\n",
    "    print('CONVIRTIENDO... INFORME ' + str(i) + ' ' + filename)\n",
    "    # se realiza la convrsion pasando parametro de salida y entrada, \n",
    "    # para la salida se reemplaza la extencion y la ruta\n",
    "    print(filename)\n",
    "    print(filename.replace('.docx','.pdf').replace('informes','pdfs'))\n",
    "    pdf = filename.replace('.docx','.pdf').replace('informes','pdfs').split('/')[-1]\n",
    "    convert(filename, r'C:\\Users\\Usuario\\Downloads\\\\' + pdf)\n",
    "    i+=1\n",
    "print('END')"
   ]
  },
  {
   "cell_type": "markdown",
   "id": "455ef654-fe35-492c-8f69-3dc00102b0bb",
   "metadata": {},
   "source": [
    "# Leer archivos"
   ]
  },
  {
   "cell_type": "code",
   "execution_count": 10,
   "id": "df0f066e-d897-4ca6-a8cd-23b40ad41307",
   "metadata": {},
   "outputs": [
    {
     "name": "stdout",
     "output_type": "stream",
     "text": [
      "Your browser has been opened to visit:\n",
      "\n",
      "    https://accounts.google.com/o/oauth2/auth?client_id=1096764895697-57btfmtn7rdejufct5qq4j9mi61j0unl.apps.googleusercontent.com&redirect_uri=http%3A%2F%2Flocalhost%3A8080%2F&scope=https%3A%2F%2Fwww.googleapis.com%2Fauth%2Fdrive&access_type=offline&response_type=code\n",
      "\n",
      "Authentication successful.\n"
     ]
    }
   ],
   "source": [
    "# CONEXION A GOOGLE DRIVE\n",
    "from pydrive.auth import GoogleAuth\n",
    "from pydrive.drive import GoogleDrive\n",
    "gauth = GoogleAuth()\n",
    "gauth.LocalWebserverAuth() # client_secrets.json need to be in the same directory as the script\n",
    "drive = GoogleDrive(gauth)"
   ]
  },
  {
   "cell_type": "code",
   "execution_count": 11,
   "id": "5bc6184d-91a1-42a1-a809-84014f898d43",
   "metadata": {},
   "outputs": [
    {
     "name": "stdout",
     "output_type": "stream",
     "text": [
      "16 informes\n"
     ]
    },
    {
     "data": {
      "text/plain": [
       "{13652: '13652_CRS_10-05-2024_TENORIO CERMENO WILLIAMS.pdf',\n",
       " 13763: '13763_CRS_08-05-2024_TUFINO SCHWENK RUBEN DARIO.pdf',\n",
       " 18070: '18070_CRS_10-05-2024_VILA SORIA MARIBEL.pdf',\n",
       " 18088: '18088_CRS_08-05-2024_FRERKING ORTIZ RICARDO.pdf',\n",
       " 2626: '2626_CRS_10-05-2024_CONDORI QUEVEDO JORGE.pdf',\n",
       " 3378: '3378_CRS_10-05-2024_ESCOBAR MORATO VICTOR HUGO.pdf',\n",
       " 40148: '40148_CRS_09-05-2024_ROMERO LEON BEIMAR SALVADOR.pdf',\n",
       " 42025: '42025_CRS_10-05-2024_TRUJILLO CONDORI JAIME.pdf',\n",
       " 42178: '42178_CRS_10-05-2024_CONDORI ORELLANA RUDDY.pdf',\n",
       " 42239: '42239_CRS_09-05-2024_CORDOVA OLGUIN LEONARDO.pdf',\n",
       " 42266: '42266_CRS_10-05-2024_GARCIA PETRONILA MARISCAL VDA. DE.pdf',\n",
       " 446: '446_CRS_16-05-2024_AGUILERA ANEZ JHONNY.pdf',\n",
       " 4607: '4607_CRS_10-05-2024_GARCIA MARISCAL LEONCIO.pdf',\n",
       " 5006: '5006_CRS_10-05-2024_GARCIA MARISCAL MILTON FELIX.pdf',\n",
       " 5421: '5421_CRS_09-05-2024_HUBBAUER HOYOS ENRIQUE.pdf',\n",
       " 633: '633_CRS_10-05-2024_AGROP. VICENTE ROCA GIL SRL.pdf'}"
      ]
     },
     "execution_count": 11,
     "metadata": {},
     "output_type": "execute_result"
    }
   ],
   "source": [
    "contenido = os.listdir(ruta + r'/pdf')\n",
    "dic_files = {}\n",
    "for file in contenido:\n",
    "    split = file.split('_')\n",
    "    dic_files[int(split[0])] = file\n",
    "print(len(dic_files), 'informes')\n",
    "dic_files"
   ]
  },
  {
   "cell_type": "markdown",
   "id": "68778c6d-31c1-4f6f-880c-5d3f2d04ed17",
   "metadata": {},
   "source": [
    "# CARGAR LOS PDFS A GOOGLE DRIVE"
   ]
  },
  {
   "cell_type": "code",
   "execution_count": 12,
   "id": "aaf8d01b-5324-4b14-a67d-a6162850efa2",
   "metadata": {},
   "outputs": [
    {
     "name": "stdout",
     "output_type": "stream",
     "text": [
      "Created file 13652_CRS_10-05-2024_TENORIO CERMENO WILLIAMS.pdf with mimeType application/pdf\n",
      "Created file 13763_CRS_08-05-2024_TUFINO SCHWENK RUBEN DARIO.pdf with mimeType application/pdf\n",
      "Created file 18070_CRS_10-05-2024_VILA SORIA MARIBEL.pdf with mimeType application/pdf\n",
      "Created file 18088_CRS_08-05-2024_FRERKING ORTIZ RICARDO.pdf with mimeType application/pdf\n",
      "Created file 2626_CRS_10-05-2024_CONDORI QUEVEDO JORGE.pdf with mimeType application/pdf\n",
      "Created file 3378_CRS_10-05-2024_ESCOBAR MORATO VICTOR HUGO.pdf with mimeType application/pdf\n",
      "Created file 40148_CRS_09-05-2024_ROMERO LEON BEIMAR SALVADOR.pdf with mimeType application/pdf\n",
      "Created file 42025_CRS_10-05-2024_TRUJILLO CONDORI JAIME.pdf with mimeType application/pdf\n",
      "Created file 42178_CRS_10-05-2024_CONDORI ORELLANA RUDDY.pdf with mimeType application/pdf\n",
      "Created file 42239_CRS_09-05-2024_CORDOVA OLGUIN LEONARDO.pdf with mimeType application/pdf\n",
      "Created file 42266_CRS_10-05-2024_GARCIA PETRONILA MARISCAL VDA. DE.pdf with mimeType application/pdf\n",
      "Created file 446_CRS_16-05-2024_AGUILERA ANEZ JHONNY.pdf with mimeType application/pdf\n",
      "Created file 4607_CRS_10-05-2024_GARCIA MARISCAL LEONCIO.pdf with mimeType application/pdf\n",
      "Created file 5006_CRS_10-05-2024_GARCIA MARISCAL MILTON FELIX.pdf with mimeType application/pdf\n",
      "Created file 5421_CRS_09-05-2024_HUBBAUER HOYOS ENRIQUE.pdf with mimeType application/pdf\n",
      "Created file 633_CRS_10-05-2024_AGROP. VICENTE ROCA GIL SRL.pdf with mimeType application/pdf\n",
      "end\n"
     ]
    }
   ],
   "source": [
    "# CARGAR LOS PDFS A GOOGLE DRIVE\n",
    "dic_urls = {}\n",
    "# View all folders and file in your Google Drive\n",
    "fileList = drive.ListFile({'q': \"'root' in parents and trashed=false\"}).GetList()\n",
    "for file in fileList:\n",
    "  #print('Title: %s, ID: %s' % (file['title'], file['id']))\n",
    "  # Get the folder ID that you want\n",
    "  if(file['title'] == \"2DA_INSPECCION\"):\n",
    "      fileID = file['id']\n",
    "\n",
    "for file in dic_files:\n",
    "    file1 = drive.CreateFile({\"mimeType\": \"application/pdf\", \"parents\": [{\"kind\": \"drive#fileLink\", \"id\": fileID}]})\n",
    "    file1['title'] = dic_files[file]\n",
    "    file1.SetContentFile(ruta + r'/pdf//' + dic_files[file])\n",
    "    file1.Upload() # Upload the file.\n",
    "    print('Created file %s with mimeType %s' % (file1['title'], file1['mimeType']))\n",
    "    permission = file1.InsertPermission({\n",
    "                        'type': 'anyone',\n",
    "                        'value': 'anyone',\n",
    "                        'role': 'reader'})\n",
    "    dic_urls[file] = file1['alternateLink']\n",
    "dic_urls\n",
    "print('end')"
   ]
  },
  {
   "cell_type": "code",
   "execution_count": 13,
   "id": "6aceb417-cee6-413c-917f-f03bcba671b6",
   "metadata": {},
   "outputs": [
    {
     "name": "stdout",
     "output_type": "stream",
     "text": [
      "16 URLs\n"
     ]
    },
    {
     "data": {
      "text/plain": [
       "{13652: 'https://drive.google.com/file/d/1Ndi5QSNcc8azVDt9ezy_iZHG63fUMKTL/view?usp=drivesdk',\n",
       " 13763: 'https://drive.google.com/file/d/1VzVuBpLRinuS_LBpGenMW6T0VL0nYII5/view?usp=drivesdk',\n",
       " 18070: 'https://drive.google.com/file/d/15VWSutYsfjnR86ssEt3b4o-HHO4UUHGA/view?usp=drivesdk',\n",
       " 18088: 'https://drive.google.com/file/d/163WAJFraCbonV-50t11ZC8m_Bpr9J9LK/view?usp=drivesdk',\n",
       " 2626: 'https://drive.google.com/file/d/1M_qq8nWXTvRSEnE8dMxFeyW6WcpP-Pqm/view?usp=drivesdk',\n",
       " 3378: 'https://drive.google.com/file/d/16PoW0XGuqYOGRy-M0927ALEG6RFRrVz0/view?usp=drivesdk',\n",
       " 40148: 'https://drive.google.com/file/d/1hm6c-d0OqTZ4Gxt_Z3ajH-3eeyuSVUop/view?usp=drivesdk',\n",
       " 42025: 'https://drive.google.com/file/d/1isLjQvVMSVjJsSSCzzOdN2BEYrtIj_P0/view?usp=drivesdk',\n",
       " 42178: 'https://drive.google.com/file/d/1HikoDHvaXfSF7QgaHlsLYR5ATWzZ75hh/view?usp=drivesdk',\n",
       " 42239: 'https://drive.google.com/file/d/1P-kGVpMEj_QWWzh5AIvwErkPwGrz85tC/view?usp=drivesdk',\n",
       " 42266: 'https://drive.google.com/file/d/1y2_v4K3Uog2sSq5bjVKkGehlYlUbeZIn/view?usp=drivesdk',\n",
       " 446: 'https://drive.google.com/file/d/1WXO1upCLBqk0YCo-KEIGbjsnq2-bwToG/view?usp=drivesdk',\n",
       " 4607: 'https://drive.google.com/file/d/1edG4ef0EQ5GQxP64eyIzYh3gQut2KuAb/view?usp=drivesdk',\n",
       " 5006: 'https://drive.google.com/file/d/17n7RkJ0TODfDBgzWcdcrDDAEjlwhCueC/view?usp=drivesdk',\n",
       " 5421: 'https://drive.google.com/file/d/1zM6y825GrWnRbADH6zUaJB1LlTRoTHO7/view?usp=drivesdk',\n",
       " 633: 'https://drive.google.com/file/d/1sfs1Pa_QLVBDck2qUnZLjQIJstasq7S5/view?usp=drivesdk'}"
      ]
     },
     "execution_count": 13,
     "metadata": {},
     "output_type": "execute_result"
    }
   ],
   "source": [
    "print(len(dic_urls), 'URLs')\n",
    "dic_urls"
   ]
  },
  {
   "cell_type": "markdown",
   "id": "6063c8ed-d601-4164-9af1-e1c2dbc865d0",
   "metadata": {},
   "source": [
    "# conexion a amigocloud"
   ]
  },
  {
   "cell_type": "code",
   "execution_count": 14,
   "id": "f0d01517-62ff-4a1f-a49b-79646323127e",
   "metadata": {},
   "outputs": [],
   "source": [
    "import sys\n",
    "sys.path.append('../../../_amigocloud')\n",
    "\n",
    "from amigocloud import AmigoCloud"
   ]
  },
  {
   "cell_type": "code",
   "execution_count": 15,
   "id": "fea924a5-9048-42a8-b912-6604dc5b6539",
   "metadata": {},
   "outputs": [
    {
     "data": {
      "text/plain": [
       "<amigocloud.AmigoCloud at 0x206c982b550>"
      ]
     },
     "execution_count": 15,
     "metadata": {},
     "output_type": "execute_result"
    }
   ],
   "source": [
    "# leer token\n",
    "acceso = open(ruta + '/_keys/api_amigocloud.key','r')\n",
    "api_token = acceso.readlines()[0]\n",
    "acceso.close()\n",
    "amigocloud = AmigoCloud(token=api_token)\n",
    "amigocloud"
   ]
  },
  {
   "cell_type": "code",
   "execution_count": 16,
   "id": "6ea99bee-0a6d-48a1-9833-6b8c2a62433a",
   "metadata": {},
   "outputs": [
    {
     "name": "stdout",
     "output_type": "stream",
     "text": [
      "13652\n",
      "13763\n",
      "18070\n",
      "18088\n",
      "2626\n",
      "3378\n",
      "40148\n",
      "42025\n",
      "42178\n",
      "42239\n",
      "42266\n",
      "446\n",
      "4607\n",
      "5006\n",
      "5421\n",
      "633\n",
      "end\n"
     ]
    }
   ],
   "source": [
    "for key in dic_urls:\n",
    "    query = {'query': 'update dataset_307560 set link_doc_2da = \\'{link}\\' where cast(SPLIT_PART(canhero, \\' / \\', 1) as integer) = \\'{cod}\\''.format(link=dic_urls[key], cod=key)}\n",
    "    res = amigocloud.post('https://app.amigocloud.com/api/v1/projects/32672/sql', query)\n",
    "    print(key)\n",
    "print('end')"
   ]
  }
 ],
 "metadata": {
  "kernelspec": {
   "display_name": "Python 3 (ipykernel)",
   "language": "python",
   "name": "python3"
  },
  "language_info": {
   "codemirror_mode": {
    "name": "ipython",
    "version": 3
   },
   "file_extension": ".py",
   "mimetype": "text/x-python",
   "name": "python",
   "nbconvert_exporter": "python",
   "pygments_lexer": "ipython3",
   "version": "3.10.13"
  }
 },
 "nbformat": 4,
 "nbformat_minor": 5
}
