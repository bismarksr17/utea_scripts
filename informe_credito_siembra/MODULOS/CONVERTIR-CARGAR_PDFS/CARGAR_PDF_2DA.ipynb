{
 "cells": [
  {
   "cell_type": "markdown",
   "id": "18a80bc5",
   "metadata": {},
   "source": [
    "# INSTALAR LIBRERIAS"
   ]
  },
  {
   "cell_type": "code",
   "execution_count": 13,
   "id": "7e312719",
   "metadata": {},
   "outputs": [],
   "source": [
    "# !pip install docx2pdf\n",
    "#pip install ipywidgets"
   ]
  },
  {
   "cell_type": "markdown",
   "id": "7e934ca6",
   "metadata": {},
   "source": [
    "# IMPORTAR"
   ]
  },
  {
   "cell_type": "code",
   "execution_count": 1,
   "id": "508a28c7",
   "metadata": {},
   "outputs": [],
   "source": [
    "from docx2pdf import convert\n",
    "import os"
   ]
  },
  {
   "cell_type": "markdown",
   "id": "64ec4ba6",
   "metadata": {},
   "source": [
    "# CONSTRUIR LA RUTA DE LOS ARCHIVOS"
   ]
  },
  {
   "cell_type": "code",
   "execution_count": 2,
   "id": "cdd1c78b-ef20-462c-8de1-034c31d4b386",
   "metadata": {},
   "outputs": [],
   "source": [
    "# ruta de carpera donde estan las llaves\n",
    "ruta = open('../../../ruta.txt')\n",
    "ruta = ruta.readlines()[0]"
   ]
  },
  {
   "cell_type": "code",
   "execution_count": 3,
   "id": "1fc560f3",
   "metadata": {},
   "outputs": [
    {
     "name": "stdout",
     "output_type": "stream",
     "text": [
      "SE ENCONTRARON 12 INFORMES\n",
      "12 INFORMES\n"
     ]
    },
    {
     "data": {
      "text/plain": [
       "['C:\\\\Documents\\\\OneDrive - Ingenio Azucarero Guabira S.A\\\\_DATOS_PYTHON/informes/15085_CRS_24-05-2024_CRUZ RUTH JAQUELIN B. DE.docx',\n",
       " 'C:\\\\Documents\\\\OneDrive - Ingenio Azucarero Guabira S.A\\\\_DATOS_PYTHON/informes/18062_CRS_23-05-2024_MERCADO MERCADO RUBEN DARIO.docx',\n",
       " 'C:\\\\Documents\\\\OneDrive - Ingenio Azucarero Guabira S.A\\\\_DATOS_PYTHON/informes/2505_CRS_24-05-2024_CRUZ BARRIENTOS CRISTIAN F..docx',\n",
       " 'C:\\\\Documents\\\\OneDrive - Ingenio Azucarero Guabira S.A\\\\_DATOS_PYTHON/informes/2510_CRS_24-05-2024_CRUZ BARRIENTOS OSCAR ANDREZ.docx',\n",
       " 'C:\\\\Documents\\\\OneDrive - Ingenio Azucarero Guabira S.A\\\\_DATOS_PYTHON/informes/2794_CRS_25-05-2024_DELGADILLO RODRIGUEZ JUAN CARLOS.docx',\n",
       " 'C:\\\\Documents\\\\OneDrive - Ingenio Azucarero Guabira S.A\\\\_DATOS_PYTHON/informes/3414_CRS_22-05-2024_ESPINOZA TERRAZAS SERAFIN.docx',\n",
       " 'C:\\\\Documents\\\\OneDrive - Ingenio Azucarero Guabira S.A\\\\_DATOS_PYTHON/informes/3421_CRS_22-05-2024_ESPINOZA HURTADO ARMANDO.docx',\n",
       " 'C:\\\\Documents\\\\OneDrive - Ingenio Azucarero Guabira S.A\\\\_DATOS_PYTHON/informes/5001_CRS_22-05-2024_GUZMAN CACERES ROXANA.docx',\n",
       " 'C:\\\\Documents\\\\OneDrive - Ingenio Azucarero Guabira S.A\\\\_DATOS_PYTHON/informes/6578_CRS_24-05-2024_JALDIN ARREDONDO JOSE LUIS.docx',\n",
       " 'C:\\\\Documents\\\\OneDrive - Ingenio Azucarero Guabira S.A\\\\_DATOS_PYTHON/informes/_40158_CRS_22-05-2024_GUZMAN CACERES MARIA LOURDES.docx',\n",
       " 'C:\\\\Documents\\\\OneDrive - Ingenio Azucarero Guabira S.A\\\\_DATOS_PYTHON/informes/_40256_CRS_24-05-2024_INSERVA DAMIANA S.R.L..docx',\n",
       " 'C:\\\\Documents\\\\OneDrive - Ingenio Azucarero Guabira S.A\\\\_DATOS_PYTHON/informes/_41954_CRS_23-05-2024_ELTARTARO S.R.L.docx']"
      ]
     },
     "execution_count": 3,
     "metadata": {},
     "output_type": "execute_result"
    }
   ],
   "source": [
    "# colocar aqui la ruta de los archivos\n",
    "path = ruta + r'/informes'\n",
    "contenido = os.listdir(path)\n",
    "rutas =[]\n",
    "i = 0\n",
    "for name in contenido:\n",
    "    rutas.append(path + '/' + name)\n",
    "    i+=1\n",
    "\n",
    "print('SE ENCONTRARON ' + str(i) + ' INFORMES')\n",
    "print(len(rutas), 'INFORMES')\n",
    "rutas"
   ]
  },
  {
   "cell_type": "markdown",
   "id": "6b9af706",
   "metadata": {
    "tags": []
   },
   "source": [
    "# INICIA EL PROCESO DE CONVERCIÓN"
   ]
  },
  {
   "cell_type": "code",
   "execution_count": 4,
   "id": "cdbc481d-e9f8-4a85-946f-4c45abd61e87",
   "metadata": {},
   "outputs": [
    {
     "data": {
      "text/plain": [
       "'C:\\\\Documents\\\\OneDrive - Ingenio Azucarero Guabira S.A\\\\_DATOS_PYTHON/pdf/18062_CRS_23-05-2024_MERCADO MERCADO RUBEN DARIO.pdf'"
      ]
     },
     "execution_count": 4,
     "metadata": {},
     "output_type": "execute_result"
    }
   ],
   "source": [
    "rutas[1].replace('.docx','.pdf').replace('informes','pdf')"
   ]
  },
  {
   "cell_type": "code",
   "execution_count": 5,
   "id": "13d4b150-97ec-4f5f-ae67-8494243a499a",
   "metadata": {},
   "outputs": [
    {
     "data": {
      "text/plain": [
       "'C:\\\\Documents\\\\OneDrive - Ingenio Azucarero Guabira S.A\\\\_DATOS_PYTHON/pdf/18062_CRS_23-05-2024_MERCADO MERCADO RUBEN DARIO.pdf'"
      ]
     },
     "execution_count": 5,
     "metadata": {},
     "output_type": "execute_result"
    }
   ],
   "source": [
    "rutas[1].replace('.docx','.pdf').replace('informes','pdf')"
   ]
  },
  {
   "cell_type": "code",
   "execution_count": 10,
   "id": "0f018b1e",
   "metadata": {
    "tags": []
   },
   "outputs": [
    {
     "name": "stdout",
     "output_type": "stream",
     "text": [
      "CONVIRTIENDO... INFORME 1 C:\\Documents\\OneDrive - Ingenio Azucarero Guabira S.A\\_DATOS_PYTHON/informes/15085_CRS_24-05-2024_CRUZ RUTH JAQUELIN B. DE.docx\n",
      "C:\\Documents\\OneDrive - Ingenio Azucarero Guabira S.A\\_DATOS_PYTHON/informes/15085_CRS_24-05-2024_CRUZ RUTH JAQUELIN B. DE.docx\n",
      "C:\\Documents\\OneDrive - Ingenio Azucarero Guabira S.A\\_DATOS_PYTHON/pdfs/15085_CRS_24-05-2024_CRUZ RUTH JAQUELIN B. DE.pdf\n"
     ]
    },
    {
     "data": {
      "application/vnd.jupyter.widget-view+json": {
       "model_id": "9b58db4971914bfeb88bad310d68e4ed",
       "version_major": 2,
       "version_minor": 0
      },
      "text/plain": [
       "  0%|          | 0/1 [00:00<?, ?it/s]"
      ]
     },
     "metadata": {},
     "output_type": "display_data"
    },
    {
     "name": "stdout",
     "output_type": "stream",
     "text": [
      "CONVIRTIENDO... INFORME 2 C:\\Documents\\OneDrive - Ingenio Azucarero Guabira S.A\\_DATOS_PYTHON/informes/18062_CRS_23-05-2024_MERCADO MERCADO RUBEN DARIO.docx\n",
      "C:\\Documents\\OneDrive - Ingenio Azucarero Guabira S.A\\_DATOS_PYTHON/informes/18062_CRS_23-05-2024_MERCADO MERCADO RUBEN DARIO.docx\n",
      "C:\\Documents\\OneDrive - Ingenio Azucarero Guabira S.A\\_DATOS_PYTHON/pdfs/18062_CRS_23-05-2024_MERCADO MERCADO RUBEN DARIO.pdf\n"
     ]
    },
    {
     "data": {
      "application/vnd.jupyter.widget-view+json": {
       "model_id": "f7f6e169e3254eefa3394be86a00dac9",
       "version_major": 2,
       "version_minor": 0
      },
      "text/plain": [
       "  0%|          | 0/1 [00:00<?, ?it/s]"
      ]
     },
     "metadata": {},
     "output_type": "display_data"
    },
    {
     "name": "stdout",
     "output_type": "stream",
     "text": [
      "CONVIRTIENDO... INFORME 3 C:\\Documents\\OneDrive - Ingenio Azucarero Guabira S.A\\_DATOS_PYTHON/informes/2505_CRS_24-05-2024_CRUZ BARRIENTOS CRISTIAN F..docx\n",
      "C:\\Documents\\OneDrive - Ingenio Azucarero Guabira S.A\\_DATOS_PYTHON/informes/2505_CRS_24-05-2024_CRUZ BARRIENTOS CRISTIAN F..docx\n",
      "C:\\Documents\\OneDrive - Ingenio Azucarero Guabira S.A\\_DATOS_PYTHON/pdfs/2505_CRS_24-05-2024_CRUZ BARRIENTOS CRISTIAN F..pdf\n"
     ]
    },
    {
     "data": {
      "application/vnd.jupyter.widget-view+json": {
       "model_id": "e62f031684e74c21b41a1f2266e46c68",
       "version_major": 2,
       "version_minor": 0
      },
      "text/plain": [
       "  0%|          | 0/1 [00:00<?, ?it/s]"
      ]
     },
     "metadata": {},
     "output_type": "display_data"
    },
    {
     "name": "stdout",
     "output_type": "stream",
     "text": [
      "CONVIRTIENDO... INFORME 4 C:\\Documents\\OneDrive - Ingenio Azucarero Guabira S.A\\_DATOS_PYTHON/informes/2510_CRS_24-05-2024_CRUZ BARRIENTOS OSCAR ANDREZ.docx\n",
      "C:\\Documents\\OneDrive - Ingenio Azucarero Guabira S.A\\_DATOS_PYTHON/informes/2510_CRS_24-05-2024_CRUZ BARRIENTOS OSCAR ANDREZ.docx\n",
      "C:\\Documents\\OneDrive - Ingenio Azucarero Guabira S.A\\_DATOS_PYTHON/pdfs/2510_CRS_24-05-2024_CRUZ BARRIENTOS OSCAR ANDREZ.pdf\n"
     ]
    },
    {
     "data": {
      "application/vnd.jupyter.widget-view+json": {
       "model_id": "f0ac14126af345c8aa899f856f0c2c07",
       "version_major": 2,
       "version_minor": 0
      },
      "text/plain": [
       "  0%|          | 0/1 [00:00<?, ?it/s]"
      ]
     },
     "metadata": {},
     "output_type": "display_data"
    },
    {
     "name": "stdout",
     "output_type": "stream",
     "text": [
      "CONVIRTIENDO... INFORME 5 C:\\Documents\\OneDrive - Ingenio Azucarero Guabira S.A\\_DATOS_PYTHON/informes/2794_CRS_25-05-2024_DELGADILLO RODRIGUEZ JUAN CARLOS.docx\n",
      "C:\\Documents\\OneDrive - Ingenio Azucarero Guabira S.A\\_DATOS_PYTHON/informes/2794_CRS_25-05-2024_DELGADILLO RODRIGUEZ JUAN CARLOS.docx\n",
      "C:\\Documents\\OneDrive - Ingenio Azucarero Guabira S.A\\_DATOS_PYTHON/pdfs/2794_CRS_25-05-2024_DELGADILLO RODRIGUEZ JUAN CARLOS.pdf\n"
     ]
    },
    {
     "data": {
      "application/vnd.jupyter.widget-view+json": {
       "model_id": "9bba026cc8c049588005f6d285582768",
       "version_major": 2,
       "version_minor": 0
      },
      "text/plain": [
       "  0%|          | 0/1 [00:00<?, ?it/s]"
      ]
     },
     "metadata": {},
     "output_type": "display_data"
    },
    {
     "name": "stdout",
     "output_type": "stream",
     "text": [
      "CONVIRTIENDO... INFORME 6 C:\\Documents\\OneDrive - Ingenio Azucarero Guabira S.A\\_DATOS_PYTHON/informes/3414_CRS_22-05-2024_ESPINOZA TERRAZAS SERAFIN.docx\n",
      "C:\\Documents\\OneDrive - Ingenio Azucarero Guabira S.A\\_DATOS_PYTHON/informes/3414_CRS_22-05-2024_ESPINOZA TERRAZAS SERAFIN.docx\n",
      "C:\\Documents\\OneDrive - Ingenio Azucarero Guabira S.A\\_DATOS_PYTHON/pdfs/3414_CRS_22-05-2024_ESPINOZA TERRAZAS SERAFIN.pdf\n"
     ]
    },
    {
     "data": {
      "application/vnd.jupyter.widget-view+json": {
       "model_id": "5da9cc37b5d449b19e34f59823742195",
       "version_major": 2,
       "version_minor": 0
      },
      "text/plain": [
       "  0%|          | 0/1 [00:00<?, ?it/s]"
      ]
     },
     "metadata": {},
     "output_type": "display_data"
    },
    {
     "name": "stdout",
     "output_type": "stream",
     "text": [
      "CONVIRTIENDO... INFORME 7 C:\\Documents\\OneDrive - Ingenio Azucarero Guabira S.A\\_DATOS_PYTHON/informes/3421_CRS_22-05-2024_ESPINOZA HURTADO ARMANDO.docx\n",
      "C:\\Documents\\OneDrive - Ingenio Azucarero Guabira S.A\\_DATOS_PYTHON/informes/3421_CRS_22-05-2024_ESPINOZA HURTADO ARMANDO.docx\n",
      "C:\\Documents\\OneDrive - Ingenio Azucarero Guabira S.A\\_DATOS_PYTHON/pdfs/3421_CRS_22-05-2024_ESPINOZA HURTADO ARMANDO.pdf\n"
     ]
    },
    {
     "data": {
      "application/vnd.jupyter.widget-view+json": {
       "model_id": "76895aa3154d44c28e809c631fd48841",
       "version_major": 2,
       "version_minor": 0
      },
      "text/plain": [
       "  0%|          | 0/1 [00:00<?, ?it/s]"
      ]
     },
     "metadata": {},
     "output_type": "display_data"
    },
    {
     "name": "stdout",
     "output_type": "stream",
     "text": [
      "CONVIRTIENDO... INFORME 8 C:\\Documents\\OneDrive - Ingenio Azucarero Guabira S.A\\_DATOS_PYTHON/informes/5001_CRS_22-05-2024_GUZMAN CACERES ROXANA.docx\n",
      "C:\\Documents\\OneDrive - Ingenio Azucarero Guabira S.A\\_DATOS_PYTHON/informes/5001_CRS_22-05-2024_GUZMAN CACERES ROXANA.docx\n",
      "C:\\Documents\\OneDrive - Ingenio Azucarero Guabira S.A\\_DATOS_PYTHON/pdfs/5001_CRS_22-05-2024_GUZMAN CACERES ROXANA.pdf\n"
     ]
    },
    {
     "data": {
      "application/vnd.jupyter.widget-view+json": {
       "model_id": "a773ea3447d5476abe4a31c82dcadce2",
       "version_major": 2,
       "version_minor": 0
      },
      "text/plain": [
       "  0%|          | 0/1 [00:00<?, ?it/s]"
      ]
     },
     "metadata": {},
     "output_type": "display_data"
    },
    {
     "name": "stdout",
     "output_type": "stream",
     "text": [
      "CONVIRTIENDO... INFORME 9 C:\\Documents\\OneDrive - Ingenio Azucarero Guabira S.A\\_DATOS_PYTHON/informes/6578_CRS_24-05-2024_JALDIN ARREDONDO JOSE LUIS.docx\n",
      "C:\\Documents\\OneDrive - Ingenio Azucarero Guabira S.A\\_DATOS_PYTHON/informes/6578_CRS_24-05-2024_JALDIN ARREDONDO JOSE LUIS.docx\n",
      "C:\\Documents\\OneDrive - Ingenio Azucarero Guabira S.A\\_DATOS_PYTHON/pdfs/6578_CRS_24-05-2024_JALDIN ARREDONDO JOSE LUIS.pdf\n"
     ]
    },
    {
     "data": {
      "application/vnd.jupyter.widget-view+json": {
       "model_id": "6027e21fec864e6e9c55f0e8055ab443",
       "version_major": 2,
       "version_minor": 0
      },
      "text/plain": [
       "  0%|          | 0/1 [00:00<?, ?it/s]"
      ]
     },
     "metadata": {},
     "output_type": "display_data"
    },
    {
     "name": "stdout",
     "output_type": "stream",
     "text": [
      "CONVIRTIENDO... INFORME 10 C:\\Documents\\OneDrive - Ingenio Azucarero Guabira S.A\\_DATOS_PYTHON/informes/_40158_CRS_22-05-2024_GUZMAN CACERES MARIA LOURDES.docx\n",
      "C:\\Documents\\OneDrive - Ingenio Azucarero Guabira S.A\\_DATOS_PYTHON/informes/_40158_CRS_22-05-2024_GUZMAN CACERES MARIA LOURDES.docx\n",
      "C:\\Documents\\OneDrive - Ingenio Azucarero Guabira S.A\\_DATOS_PYTHON/pdfs/_40158_CRS_22-05-2024_GUZMAN CACERES MARIA LOURDES.pdf\n"
     ]
    },
    {
     "data": {
      "application/vnd.jupyter.widget-view+json": {
       "model_id": "26ed6ec79d1e4baa9a6a83eeb527060c",
       "version_major": 2,
       "version_minor": 0
      },
      "text/plain": [
       "  0%|          | 0/1 [00:00<?, ?it/s]"
      ]
     },
     "metadata": {},
     "output_type": "display_data"
    },
    {
     "name": "stdout",
     "output_type": "stream",
     "text": [
      "CONVIRTIENDO... INFORME 11 C:\\Documents\\OneDrive - Ingenio Azucarero Guabira S.A\\_DATOS_PYTHON/informes/_40256_CRS_24-05-2024_INSERVA DAMIANA S.R.L..docx\n",
      "C:\\Documents\\OneDrive - Ingenio Azucarero Guabira S.A\\_DATOS_PYTHON/informes/_40256_CRS_24-05-2024_INSERVA DAMIANA S.R.L..docx\n",
      "C:\\Documents\\OneDrive - Ingenio Azucarero Guabira S.A\\_DATOS_PYTHON/pdfs/_40256_CRS_24-05-2024_INSERVA DAMIANA S.R.L..pdf\n"
     ]
    },
    {
     "data": {
      "application/vnd.jupyter.widget-view+json": {
       "model_id": "1a89bebc7d4d456dbb2f2553a950700b",
       "version_major": 2,
       "version_minor": 0
      },
      "text/plain": [
       "  0%|          | 0/1 [00:00<?, ?it/s]"
      ]
     },
     "metadata": {},
     "output_type": "display_data"
    },
    {
     "name": "stdout",
     "output_type": "stream",
     "text": [
      "CONVIRTIENDO... INFORME 12 C:\\Documents\\OneDrive - Ingenio Azucarero Guabira S.A\\_DATOS_PYTHON/informes/_41954_CRS_23-05-2024_ELTARTARO S.R.L.docx\n",
      "C:\\Documents\\OneDrive - Ingenio Azucarero Guabira S.A\\_DATOS_PYTHON/informes/_41954_CRS_23-05-2024_ELTARTARO S.R.L.docx\n",
      "C:\\Documents\\OneDrive - Ingenio Azucarero Guabira S.A\\_DATOS_PYTHON/pdfs/_41954_CRS_23-05-2024_ELTARTARO S.R.L.pdf\n"
     ]
    },
    {
     "data": {
      "application/vnd.jupyter.widget-view+json": {
       "model_id": "ae83bb1af303417ebd745ea53e93ca2a",
       "version_major": 2,
       "version_minor": 0
      },
      "text/plain": [
       "  0%|          | 0/1 [00:00<?, ?it/s]"
      ]
     },
     "metadata": {},
     "output_type": "display_data"
    },
    {
     "name": "stdout",
     "output_type": "stream",
     "text": [
      "END\n"
     ]
    }
   ],
   "source": [
    "i = 1\n",
    "for filename in rutas:\n",
    "    print('CONVIRTIENDO... INFORME ' + str(i) + ' ' + filename)\n",
    "    # se realiza la convrsion pasando parametro de salida y entrada, \n",
    "    # para la salida se reemplaza la extencion y la ruta\n",
    "    print(filename)\n",
    "    print(filename.replace('.docx','.pdf').replace('informes','pdfs'))\n",
    "    pdf = filename.replace('.docx','.pdf').replace('informes','pdfs').split('/')[-1]\n",
    "    convert(filename, r'C:\\Users\\bismarksr\\Downloads\\\\' + pdf)\n",
    "    i+=1\n",
    "print('END')"
   ]
  },
  {
   "cell_type": "markdown",
   "id": "455ef654-fe35-492c-8f69-3dc00102b0bb",
   "metadata": {},
   "source": [
    "# Leer archivos"
   ]
  },
  {
   "cell_type": "code",
   "execution_count": 11,
   "id": "df0f066e-d897-4ca6-a8cd-23b40ad41307",
   "metadata": {},
   "outputs": [
    {
     "name": "stdout",
     "output_type": "stream",
     "text": [
      "Your browser has been opened to visit:\n",
      "\n",
      "    https://accounts.google.com/o/oauth2/auth?client_id=1096764895697-57btfmtn7rdejufct5qq4j9mi61j0unl.apps.googleusercontent.com&redirect_uri=http%3A%2F%2Flocalhost%3A8080%2F&scope=https%3A%2F%2Fwww.googleapis.com%2Fauth%2Fdrive&access_type=offline&response_type=code\n",
      "\n",
      "Authentication successful.\n"
     ]
    }
   ],
   "source": [
    "# CONEXION A GOOGLE DRIVE\n",
    "from pydrive.auth import GoogleAuth\n",
    "from pydrive.drive import GoogleDrive\n",
    "gauth = GoogleAuth()\n",
    "gauth.LocalWebserverAuth() # client_secrets.json need to be in the same directory as the script\n",
    "drive = GoogleDrive(gauth)"
   ]
  },
  {
   "cell_type": "code",
   "execution_count": 12,
   "id": "5bc6184d-91a1-42a1-a809-84014f898d43",
   "metadata": {},
   "outputs": [
    {
     "name": "stdout",
     "output_type": "stream",
     "text": [
      "9 informes\n"
     ]
    },
    {
     "data": {
      "text/plain": [
       "{15085: '15085_CRS_24-05-2024_CRUZ RUTH JAQUELIN B. DE.pdf',\n",
       " 18062: '18062_CRS_23-05-2024_MERCADO MERCADO RUBEN DARIO.pdf',\n",
       " 2505: '2505_CRS_24-05-2024_CRUZ BARRIENTOS CRISTIAN F..pdf',\n",
       " 2510: '2510_CRS_24-05-2024_CRUZ BARRIENTOS OSCAR ANDREZ.pdf',\n",
       " 2794: '2794_CRS_25-05-2024_DELGADILLO RODRIGUEZ JUAN CARLOS.pdf',\n",
       " 3414: '3414_CRS_22-05-2024_ESPINOZA TERRAZAS SERAFIN.pdf',\n",
       " 3421: '3421_CRS_22-05-2024_ESPINOZA HURTADO ARMANDO.pdf',\n",
       " 5001: '5001_CRS_22-05-2024_GUZMAN CACERES ROXANA.pdf',\n",
       " 6578: '6578_CRS_24-05-2024_JALDIN ARREDONDO JOSE LUIS.pdf'}"
      ]
     },
     "execution_count": 12,
     "metadata": {},
     "output_type": "execute_result"
    }
   ],
   "source": [
    "contenido = os.listdir(ruta + r'/pdf')\n",
    "dic_files = {}\n",
    "for file in contenido:\n",
    "    split = file.split('_')\n",
    "    dic_files[int(split[0])] = file\n",
    "print(len(dic_files), 'informes')\n",
    "dic_files"
   ]
  },
  {
   "cell_type": "markdown",
   "id": "68778c6d-31c1-4f6f-880c-5d3f2d04ed17",
   "metadata": {},
   "source": [
    "# CARGAR LOS PDFS A GOOGLE DRIVE"
   ]
  },
  {
   "cell_type": "code",
   "execution_count": 13,
   "id": "aaf8d01b-5324-4b14-a67d-a6162850efa2",
   "metadata": {},
   "outputs": [
    {
     "name": "stdout",
     "output_type": "stream",
     "text": [
      "Created file 15085_CRS_24-05-2024_CRUZ RUTH JAQUELIN B. DE.pdf with mimeType application/pdf\n",
      "Created file 18062_CRS_23-05-2024_MERCADO MERCADO RUBEN DARIO.pdf with mimeType application/pdf\n",
      "Created file 2505_CRS_24-05-2024_CRUZ BARRIENTOS CRISTIAN F..pdf with mimeType application/pdf\n",
      "Created file 2510_CRS_24-05-2024_CRUZ BARRIENTOS OSCAR ANDREZ.pdf with mimeType application/pdf\n",
      "Created file 2794_CRS_25-05-2024_DELGADILLO RODRIGUEZ JUAN CARLOS.pdf with mimeType application/pdf\n",
      "Created file 3414_CRS_22-05-2024_ESPINOZA TERRAZAS SERAFIN.pdf with mimeType application/pdf\n",
      "Created file 3421_CRS_22-05-2024_ESPINOZA HURTADO ARMANDO.pdf with mimeType application/pdf\n",
      "Created file 5001_CRS_22-05-2024_GUZMAN CACERES ROXANA.pdf with mimeType application/pdf\n",
      "Created file 6578_CRS_24-05-2024_JALDIN ARREDONDO JOSE LUIS.pdf with mimeType application/pdf\n",
      "end\n"
     ]
    }
   ],
   "source": [
    "# CARGAR LOS PDFS A GOOGLE DRIVE\n",
    "dic_urls = {}\n",
    "# View all folders and file in your Google Drive\n",
    "fileList = drive.ListFile({'q': \"'root' in parents and trashed=false\"}).GetList()\n",
    "for file in fileList:\n",
    "  #print('Title: %s, ID: %s' % (file['title'], file['id']))\n",
    "  # Get the folder ID that you want\n",
    "  if(file['title'] == \"2DA_INSPECCION\"):\n",
    "      fileID = file['id']\n",
    "\n",
    "for file in dic_files:\n",
    "    file1 = drive.CreateFile({\"mimeType\": \"application/pdf\", \"parents\": [{\"kind\": \"drive#fileLink\", \"id\": fileID}]})\n",
    "    file1['title'] = dic_files[file]\n",
    "    file1.SetContentFile(ruta + r'/pdf//' + dic_files[file])\n",
    "    file1.Upload() # Upload the file.\n",
    "    print('Created file %s with mimeType %s' % (file1['title'], file1['mimeType']))\n",
    "    permission = file1.InsertPermission({\n",
    "                        'type': 'anyone',\n",
    "                        'value': 'anyone',\n",
    "                        'role': 'reader'})\n",
    "    dic_urls[file] = file1['alternateLink']\n",
    "dic_urls\n",
    "print('end')"
   ]
  },
  {
   "cell_type": "code",
   "execution_count": 14,
   "id": "6aceb417-cee6-413c-917f-f03bcba671b6",
   "metadata": {},
   "outputs": [
    {
     "name": "stdout",
     "output_type": "stream",
     "text": [
      "9 URLs\n"
     ]
    },
    {
     "data": {
      "text/plain": [
       "{15085: 'https://drive.google.com/file/d/1ntZOV7vBiDvhLKygOPz6Upp718mRdzAb/view?usp=drivesdk',\n",
       " 18062: 'https://drive.google.com/file/d/1vfkVIluiHlbvvgMfH8eG-blhQW5bTQGs/view?usp=drivesdk',\n",
       " 2505: 'https://drive.google.com/file/d/1M8uXec5XZYV0wmrbgY2fyXu0AeHq3XDz/view?usp=drivesdk',\n",
       " 2510: 'https://drive.google.com/file/d/1muRjZb7CYYybGG4RoplYkDMsjstvCls9/view?usp=drivesdk',\n",
       " 2794: 'https://drive.google.com/file/d/1pcQmOdyprUPrDE4hf_fB7k57nTpp3t6Q/view?usp=drivesdk',\n",
       " 3414: 'https://drive.google.com/file/d/1xjXoDLsusUX4FgzcbVpoS_5jG_lwqwA6/view?usp=drivesdk',\n",
       " 3421: 'https://drive.google.com/file/d/1-yawYrgkVVzWL3Zuvzi7kYUASOb-Fsnl/view?usp=drivesdk',\n",
       " 5001: 'https://drive.google.com/file/d/1F_ldeSKRy_JjzWMcKQd0cvitugU4vyy6/view?usp=drivesdk',\n",
       " 6578: 'https://drive.google.com/file/d/13cXCD9u44K0EKmEb9RxLIVxHFLgTMuSw/view?usp=drivesdk'}"
      ]
     },
     "execution_count": 14,
     "metadata": {},
     "output_type": "execute_result"
    }
   ],
   "source": [
    "print(len(dic_urls), 'URLs')\n",
    "dic_urls"
   ]
  },
  {
   "cell_type": "markdown",
   "id": "6063c8ed-d601-4164-9af1-e1c2dbc865d0",
   "metadata": {},
   "source": [
    "# conexion a amigocloud"
   ]
  },
  {
   "cell_type": "code",
   "execution_count": 15,
   "id": "f0d01517-62ff-4a1f-a49b-79646323127e",
   "metadata": {},
   "outputs": [],
   "source": [
    "import sys\n",
    "sys.path.append('../../../_amigocloud')\n",
    "\n",
    "from amigocloud import AmigoCloud"
   ]
  },
  {
   "cell_type": "code",
   "execution_count": 16,
   "id": "fea924a5-9048-42a8-b912-6604dc5b6539",
   "metadata": {},
   "outputs": [
    {
     "data": {
      "text/plain": [
       "<amigocloud.AmigoCloud at 0x13871faf640>"
      ]
     },
     "execution_count": 16,
     "metadata": {},
     "output_type": "execute_result"
    }
   ],
   "source": [
    "# leer token\n",
    "acceso = open(ruta + '/_keys/api_amigocloud.key','r')\n",
    "api_token = acceso.readlines()[0]\n",
    "acceso.close()\n",
    "amigocloud = AmigoCloud(token=api_token)\n",
    "amigocloud"
   ]
  },
  {
   "cell_type": "code",
   "execution_count": 17,
   "id": "6ea99bee-0a6d-48a1-9833-6b8c2a62433a",
   "metadata": {},
   "outputs": [
    {
     "name": "stdout",
     "output_type": "stream",
     "text": [
      "15085\n",
      "18062\n",
      "2505\n",
      "2510\n",
      "2794\n",
      "3414\n",
      "3421\n",
      "5001\n",
      "6578\n",
      "end\n"
     ]
    }
   ],
   "source": [
    "for key in dic_urls:\n",
    "    query = {'query': 'update dataset_307560 set link_doc_2da = \\'{link}\\' where cast(SPLIT_PART(canhero, \\' / \\', 1) as integer) = \\'{cod}\\''.format(link=dic_urls[key], cod=key)}\n",
    "    res = amigocloud.post('https://app.amigocloud.com/api/v1/projects/32672/sql', query)\n",
    "    print(key)\n",
    "print('end')"
   ]
  }
 ],
 "metadata": {
  "kernelspec": {
   "display_name": "Python 3 (ipykernel)",
   "language": "python",
   "name": "python3"
  },
  "language_info": {
   "codemirror_mode": {
    "name": "ipython",
    "version": 3
   },
   "file_extension": ".py",
   "mimetype": "text/x-python",
   "name": "python",
   "nbconvert_exporter": "python",
   "pygments_lexer": "ipython3",
   "version": "3.10.13"
  }
 },
 "nbformat": 4,
 "nbformat_minor": 5
}
