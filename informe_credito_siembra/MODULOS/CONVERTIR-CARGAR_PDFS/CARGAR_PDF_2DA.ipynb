{
 "cells": [
  {
   "cell_type": "markdown",
   "id": "18a80bc5",
   "metadata": {},
   "source": [
    "# INSTALAR LIBRERIAS"
   ]
  },
  {
   "cell_type": "code",
   "execution_count": 13,
   "id": "7e312719",
   "metadata": {},
   "outputs": [],
   "source": [
    "# !pip install docx2pdf\n",
    "#pip install ipywidgets"
   ]
  },
  {
   "cell_type": "markdown",
   "id": "7e934ca6",
   "metadata": {},
   "source": [
    "# IMPORTAR"
   ]
  },
  {
   "cell_type": "code",
   "execution_count": 1,
   "id": "508a28c7",
   "metadata": {},
   "outputs": [],
   "source": [
    "from docx2pdf import convert\n",
    "import os"
   ]
  },
  {
   "cell_type": "markdown",
   "id": "64ec4ba6",
   "metadata": {},
   "source": [
    "# CONSTRUIR LA RUTA DE LOS ARCHIVOS"
   ]
  },
  {
   "cell_type": "code",
   "execution_count": 2,
   "id": "cdd1c78b-ef20-462c-8de1-034c31d4b386",
   "metadata": {},
   "outputs": [],
   "source": [
    "# ruta de carpera donde estan las llaves\n",
    "ruta = open('../../../ruta.txt')\n",
    "ruta = ruta.readlines()[0]"
   ]
  },
  {
   "cell_type": "code",
   "execution_count": 3,
   "id": "1fc560f3",
   "metadata": {},
   "outputs": [
    {
     "name": "stdout",
     "output_type": "stream",
     "text": [
      "SE ENCONTRARON 14 INFORMES\n",
      "14 INFORMES\n"
     ]
    },
    {
     "data": {
      "text/plain": [
       "['G:\\\\OneDrive - Ingenio Azucarero Guabira S.A\\\\_DATOS_PYTHON/informes/2816_ECP_04-04-2024_DONOSO BLANCO ALBERTO_18.docx',\n",
       " 'G:\\\\OneDrive - Ingenio Azucarero Guabira S.A\\\\_DATOS_PYTHON/informes/3378_ECP_04-04-2024_ESCOBAR MORATO VICTOR HUGO_19.docx',\n",
       " 'G:\\\\OneDrive - Ingenio Azucarero Guabira S.A\\\\_DATOS_PYTHON/informes/388_ECP_02-04-2024_AGROPECUARIA MARIANA S.R.L._15.docx',\n",
       " 'G:\\\\OneDrive - Ingenio Azucarero Guabira S.A\\\\_DATOS_PYTHON/informes/388_ECP_02-04-2024_AGROPECUARIA MARIANA S.R.L._16.docx',\n",
       " 'G:\\\\OneDrive - Ingenio Azucarero Guabira S.A\\\\_DATOS_PYTHON/informes/446_ECP_02-04-2024_AGUILERA ANEZ JHONNY_13.docx',\n",
       " 'G:\\\\OneDrive - Ingenio Azucarero Guabira S.A\\\\_DATOS_PYTHON/informes/515_ECP_02-04-2024_AGUILERA OLGA RIVERO VDA. DE_12.docx',\n",
       " 'G:\\\\OneDrive - Ingenio Azucarero Guabira S.A\\\\_DATOS_PYTHON/informes/594_ECP_01-04-2024_AGROPECUARIA FLAMBOYAN_7.docx',\n",
       " 'G:\\\\OneDrive - Ingenio Azucarero Guabira S.A\\\\_DATOS_PYTHON/informes/633_ECP_01-04-2024_AGROP. VICENTE ROCA GIL SRL_11.docx',\n",
       " 'G:\\\\OneDrive - Ingenio Azucarero Guabira S.A\\\\_DATOS_PYTHON/informes/75_ECP_01-04-2024_AGUILERA TARADELLES NELSON MARIANO_6.docx',\n",
       " 'G:\\\\OneDrive - Ingenio Azucarero Guabira S.A\\\\_DATOS_PYTHON/informes/765_ECP_01-04-2024_AGROP. CATALA S.R.L._10.docx',\n",
       " 'G:\\\\OneDrive - Ingenio Azucarero Guabira S.A\\\\_DATOS_PYTHON/informes/765_ECP_01-04-2024_AGROP. CATALA S.R.L._8.docx',\n",
       " 'G:\\\\OneDrive - Ingenio Azucarero Guabira S.A\\\\_DATOS_PYTHON/informes/765_ECP_01-04-2024_AGROP. CATALA S.R.L._9.docx',\n",
       " 'G:\\\\OneDrive - Ingenio Azucarero Guabira S.A\\\\_DATOS_PYTHON/informes/805_ECP_02-04-2024_AGROP. TRES HNOS DEL ORIENTE_14.docx',\n",
       " 'G:\\\\OneDrive - Ingenio Azucarero Guabira S.A\\\\_DATOS_PYTHON/informes/86_ECP_04-04-2024_AGUILERA TARADELLES JOSE LUIS_17.docx']"
      ]
     },
     "execution_count": 3,
     "metadata": {},
     "output_type": "execute_result"
    }
   ],
   "source": [
    "# colocar aqui la ruta de los archivos\n",
    "path = ruta + r'/informes'\n",
    "contenido = os.listdir(path)\n",
    "rutas =[]\n",
    "i = 0\n",
    "for name in contenido:\n",
    "    rutas.append(path + '/' + name)\n",
    "    i+=1\n",
    "\n",
    "print('SE ENCONTRARON ' + str(i) + ' INFORMES')\n",
    "print(len(rutas), 'INFORMES')\n",
    "rutas"
   ]
  },
  {
   "cell_type": "markdown",
   "id": "6b9af706",
   "metadata": {
    "tags": []
   },
   "source": [
    "# INICIA EL PROCESO DE CONVERCIÓN"
   ]
  },
  {
   "cell_type": "code",
   "execution_count": 4,
   "id": "cdbc481d-e9f8-4a85-946f-4c45abd61e87",
   "metadata": {},
   "outputs": [
    {
     "data": {
      "text/plain": [
       "'G:\\\\OneDrive - Ingenio Azucarero Guabira S.A\\\\_DATOS_PYTHON/pdf/2765_CRS_27-03-2024_DAVALOS GUARISTI MARIO.pdf'"
      ]
     },
     "execution_count": 4,
     "metadata": {},
     "output_type": "execute_result"
    }
   ],
   "source": [
    "rutas[1].replace('.docx','.pdf').replace('informes','pdf')"
   ]
  },
  {
   "cell_type": "code",
   "execution_count": 5,
   "id": "13d4b150-97ec-4f5f-ae67-8494243a499a",
   "metadata": {},
   "outputs": [
    {
     "data": {
      "text/plain": [
       "'G:\\\\OneDrive - Ingenio Azucarero Guabira S.A\\\\_DATOS_PYTHON/pdf/2765_CRS_27-03-2024_DAVALOS GUARISTI MARIO.pdf'"
      ]
     },
     "execution_count": 5,
     "metadata": {},
     "output_type": "execute_result"
    }
   ],
   "source": [
    "rutas[1].replace('.docx','.pdf').replace('informes','pdf')"
   ]
  },
  {
   "cell_type": "code",
   "execution_count": 4,
   "id": "0f018b1e",
   "metadata": {
    "tags": []
   },
   "outputs": [
    {
     "name": "stdout",
     "output_type": "stream",
     "text": [
      "CONVIRTIENDO... INFORME 1 G:\\OneDrive - Ingenio Azucarero Guabira S.A\\_DATOS_PYTHON/informes/2816_ECP_04-04-2024_DONOSO BLANCO ALBERTO_18.docx\n",
      "G:\\OneDrive - Ingenio Azucarero Guabira S.A\\_DATOS_PYTHON/informes/2816_ECP_04-04-2024_DONOSO BLANCO ALBERTO_18.docx\n",
      "G:\\OneDrive - Ingenio Azucarero Guabira S.A\\_DATOS_PYTHON/pdfs/2816_ECP_04-04-2024_DONOSO BLANCO ALBERTO_18.pdf\n"
     ]
    },
    {
     "data": {
      "application/vnd.jupyter.widget-view+json": {
       "model_id": "5ccea4c2ea934633be0676caaeec3dda",
       "version_major": 2,
       "version_minor": 0
      },
      "text/plain": [
       "  0%|          | 0/1 [00:00<?, ?it/s]"
      ]
     },
     "metadata": {},
     "output_type": "display_data"
    },
    {
     "name": "stdout",
     "output_type": "stream",
     "text": [
      "CONVIRTIENDO... INFORME 2 G:\\OneDrive - Ingenio Azucarero Guabira S.A\\_DATOS_PYTHON/informes/3378_ECP_04-04-2024_ESCOBAR MORATO VICTOR HUGO_19.docx\n",
      "G:\\OneDrive - Ingenio Azucarero Guabira S.A\\_DATOS_PYTHON/informes/3378_ECP_04-04-2024_ESCOBAR MORATO VICTOR HUGO_19.docx\n",
      "G:\\OneDrive - Ingenio Azucarero Guabira S.A\\_DATOS_PYTHON/pdfs/3378_ECP_04-04-2024_ESCOBAR MORATO VICTOR HUGO_19.pdf\n"
     ]
    },
    {
     "data": {
      "application/vnd.jupyter.widget-view+json": {
       "model_id": "9e3cd490485143e7a45c4246a7f21dd1",
       "version_major": 2,
       "version_minor": 0
      },
      "text/plain": [
       "  0%|          | 0/1 [00:00<?, ?it/s]"
      ]
     },
     "metadata": {},
     "output_type": "display_data"
    },
    {
     "name": "stdout",
     "output_type": "stream",
     "text": [
      "CONVIRTIENDO... INFORME 3 G:\\OneDrive - Ingenio Azucarero Guabira S.A\\_DATOS_PYTHON/informes/388_ECP_02-04-2024_AGROPECUARIA MARIANA S.R.L._15.docx\n",
      "G:\\OneDrive - Ingenio Azucarero Guabira S.A\\_DATOS_PYTHON/informes/388_ECP_02-04-2024_AGROPECUARIA MARIANA S.R.L._15.docx\n",
      "G:\\OneDrive - Ingenio Azucarero Guabira S.A\\_DATOS_PYTHON/pdfs/388_ECP_02-04-2024_AGROPECUARIA MARIANA S.R.L._15.pdf\n"
     ]
    },
    {
     "data": {
      "application/vnd.jupyter.widget-view+json": {
       "model_id": "a1f878f4b3844ac6bf747ab5be1eb7d9",
       "version_major": 2,
       "version_minor": 0
      },
      "text/plain": [
       "  0%|          | 0/1 [00:00<?, ?it/s]"
      ]
     },
     "metadata": {},
     "output_type": "display_data"
    },
    {
     "name": "stdout",
     "output_type": "stream",
     "text": [
      "CONVIRTIENDO... INFORME 4 G:\\OneDrive - Ingenio Azucarero Guabira S.A\\_DATOS_PYTHON/informes/388_ECP_02-04-2024_AGROPECUARIA MARIANA S.R.L._16.docx\n",
      "G:\\OneDrive - Ingenio Azucarero Guabira S.A\\_DATOS_PYTHON/informes/388_ECP_02-04-2024_AGROPECUARIA MARIANA S.R.L._16.docx\n",
      "G:\\OneDrive - Ingenio Azucarero Guabira S.A\\_DATOS_PYTHON/pdfs/388_ECP_02-04-2024_AGROPECUARIA MARIANA S.R.L._16.pdf\n"
     ]
    },
    {
     "data": {
      "application/vnd.jupyter.widget-view+json": {
       "model_id": "ff9fa30a1fd0400aab9c7a70719ca69c",
       "version_major": 2,
       "version_minor": 0
      },
      "text/plain": [
       "  0%|          | 0/1 [00:00<?, ?it/s]"
      ]
     },
     "metadata": {},
     "output_type": "display_data"
    },
    {
     "name": "stdout",
     "output_type": "stream",
     "text": [
      "CONVIRTIENDO... INFORME 5 G:\\OneDrive - Ingenio Azucarero Guabira S.A\\_DATOS_PYTHON/informes/446_ECP_02-04-2024_AGUILERA ANEZ JHONNY_13.docx\n",
      "G:\\OneDrive - Ingenio Azucarero Guabira S.A\\_DATOS_PYTHON/informes/446_ECP_02-04-2024_AGUILERA ANEZ JHONNY_13.docx\n",
      "G:\\OneDrive - Ingenio Azucarero Guabira S.A\\_DATOS_PYTHON/pdfs/446_ECP_02-04-2024_AGUILERA ANEZ JHONNY_13.pdf\n"
     ]
    },
    {
     "data": {
      "application/vnd.jupyter.widget-view+json": {
       "model_id": "f2194370ebe04fc3acb95e50b113e457",
       "version_major": 2,
       "version_minor": 0
      },
      "text/plain": [
       "  0%|          | 0/1 [00:00<?, ?it/s]"
      ]
     },
     "metadata": {},
     "output_type": "display_data"
    },
    {
     "name": "stdout",
     "output_type": "stream",
     "text": [
      "CONVIRTIENDO... INFORME 6 G:\\OneDrive - Ingenio Azucarero Guabira S.A\\_DATOS_PYTHON/informes/515_ECP_02-04-2024_AGUILERA OLGA RIVERO VDA. DE_12.docx\n",
      "G:\\OneDrive - Ingenio Azucarero Guabira S.A\\_DATOS_PYTHON/informes/515_ECP_02-04-2024_AGUILERA OLGA RIVERO VDA. DE_12.docx\n",
      "G:\\OneDrive - Ingenio Azucarero Guabira S.A\\_DATOS_PYTHON/pdfs/515_ECP_02-04-2024_AGUILERA OLGA RIVERO VDA. DE_12.pdf\n"
     ]
    },
    {
     "data": {
      "application/vnd.jupyter.widget-view+json": {
       "model_id": "8600eb7666564bd9bf68cc893f6c6332",
       "version_major": 2,
       "version_minor": 0
      },
      "text/plain": [
       "  0%|          | 0/1 [00:00<?, ?it/s]"
      ]
     },
     "metadata": {},
     "output_type": "display_data"
    },
    {
     "name": "stdout",
     "output_type": "stream",
     "text": [
      "CONVIRTIENDO... INFORME 7 G:\\OneDrive - Ingenio Azucarero Guabira S.A\\_DATOS_PYTHON/informes/594_ECP_01-04-2024_AGROPECUARIA FLAMBOYAN_7.docx\n",
      "G:\\OneDrive - Ingenio Azucarero Guabira S.A\\_DATOS_PYTHON/informes/594_ECP_01-04-2024_AGROPECUARIA FLAMBOYAN_7.docx\n",
      "G:\\OneDrive - Ingenio Azucarero Guabira S.A\\_DATOS_PYTHON/pdfs/594_ECP_01-04-2024_AGROPECUARIA FLAMBOYAN_7.pdf\n"
     ]
    },
    {
     "data": {
      "application/vnd.jupyter.widget-view+json": {
       "model_id": "a918a82f324f434daaec2eb84bbb25e3",
       "version_major": 2,
       "version_minor": 0
      },
      "text/plain": [
       "  0%|          | 0/1 [00:00<?, ?it/s]"
      ]
     },
     "metadata": {},
     "output_type": "display_data"
    },
    {
     "name": "stdout",
     "output_type": "stream",
     "text": [
      "CONVIRTIENDO... INFORME 8 G:\\OneDrive - Ingenio Azucarero Guabira S.A\\_DATOS_PYTHON/informes/633_ECP_01-04-2024_AGROP. VICENTE ROCA GIL SRL_11.docx\n",
      "G:\\OneDrive - Ingenio Azucarero Guabira S.A\\_DATOS_PYTHON/informes/633_ECP_01-04-2024_AGROP. VICENTE ROCA GIL SRL_11.docx\n",
      "G:\\OneDrive - Ingenio Azucarero Guabira S.A\\_DATOS_PYTHON/pdfs/633_ECP_01-04-2024_AGROP. VICENTE ROCA GIL SRL_11.pdf\n"
     ]
    },
    {
     "data": {
      "application/vnd.jupyter.widget-view+json": {
       "model_id": "62a5f1f07a02448eaef2d8afae7829b9",
       "version_major": 2,
       "version_minor": 0
      },
      "text/plain": [
       "  0%|          | 0/1 [00:00<?, ?it/s]"
      ]
     },
     "metadata": {},
     "output_type": "display_data"
    },
    {
     "name": "stdout",
     "output_type": "stream",
     "text": [
      "CONVIRTIENDO... INFORME 9 G:\\OneDrive - Ingenio Azucarero Guabira S.A\\_DATOS_PYTHON/informes/75_ECP_01-04-2024_AGUILERA TARADELLES NELSON MARIANO_6.docx\n",
      "G:\\OneDrive - Ingenio Azucarero Guabira S.A\\_DATOS_PYTHON/informes/75_ECP_01-04-2024_AGUILERA TARADELLES NELSON MARIANO_6.docx\n",
      "G:\\OneDrive - Ingenio Azucarero Guabira S.A\\_DATOS_PYTHON/pdfs/75_ECP_01-04-2024_AGUILERA TARADELLES NELSON MARIANO_6.pdf\n"
     ]
    },
    {
     "data": {
      "application/vnd.jupyter.widget-view+json": {
       "model_id": "8a00b72d213f41af8a16bf61f88efb8a",
       "version_major": 2,
       "version_minor": 0
      },
      "text/plain": [
       "  0%|          | 0/1 [00:00<?, ?it/s]"
      ]
     },
     "metadata": {},
     "output_type": "display_data"
    },
    {
     "name": "stdout",
     "output_type": "stream",
     "text": [
      "CONVIRTIENDO... INFORME 10 G:\\OneDrive - Ingenio Azucarero Guabira S.A\\_DATOS_PYTHON/informes/765_ECP_01-04-2024_AGROP. CATALA S.R.L._10.docx\n",
      "G:\\OneDrive - Ingenio Azucarero Guabira S.A\\_DATOS_PYTHON/informes/765_ECP_01-04-2024_AGROP. CATALA S.R.L._10.docx\n",
      "G:\\OneDrive - Ingenio Azucarero Guabira S.A\\_DATOS_PYTHON/pdfs/765_ECP_01-04-2024_AGROP. CATALA S.R.L._10.pdf\n"
     ]
    },
    {
     "data": {
      "application/vnd.jupyter.widget-view+json": {
       "model_id": "d84793bb46e146d3aea2cb1d42797b2e",
       "version_major": 2,
       "version_minor": 0
      },
      "text/plain": [
       "  0%|          | 0/1 [00:00<?, ?it/s]"
      ]
     },
     "metadata": {},
     "output_type": "display_data"
    },
    {
     "name": "stdout",
     "output_type": "stream",
     "text": [
      "CONVIRTIENDO... INFORME 11 G:\\OneDrive - Ingenio Azucarero Guabira S.A\\_DATOS_PYTHON/informes/765_ECP_01-04-2024_AGROP. CATALA S.R.L._8.docx\n",
      "G:\\OneDrive - Ingenio Azucarero Guabira S.A\\_DATOS_PYTHON/informes/765_ECP_01-04-2024_AGROP. CATALA S.R.L._8.docx\n",
      "G:\\OneDrive - Ingenio Azucarero Guabira S.A\\_DATOS_PYTHON/pdfs/765_ECP_01-04-2024_AGROP. CATALA S.R.L._8.pdf\n"
     ]
    },
    {
     "data": {
      "application/vnd.jupyter.widget-view+json": {
       "model_id": "4aa59633b66c41b0b782f416af4afeb6",
       "version_major": 2,
       "version_minor": 0
      },
      "text/plain": [
       "  0%|          | 0/1 [00:00<?, ?it/s]"
      ]
     },
     "metadata": {},
     "output_type": "display_data"
    },
    {
     "name": "stdout",
     "output_type": "stream",
     "text": [
      "CONVIRTIENDO... INFORME 12 G:\\OneDrive - Ingenio Azucarero Guabira S.A\\_DATOS_PYTHON/informes/765_ECP_01-04-2024_AGROP. CATALA S.R.L._9.docx\n",
      "G:\\OneDrive - Ingenio Azucarero Guabira S.A\\_DATOS_PYTHON/informes/765_ECP_01-04-2024_AGROP. CATALA S.R.L._9.docx\n",
      "G:\\OneDrive - Ingenio Azucarero Guabira S.A\\_DATOS_PYTHON/pdfs/765_ECP_01-04-2024_AGROP. CATALA S.R.L._9.pdf\n"
     ]
    },
    {
     "data": {
      "application/vnd.jupyter.widget-view+json": {
       "model_id": "ef7c2cde547347128c6f77f23377b1e6",
       "version_major": 2,
       "version_minor": 0
      },
      "text/plain": [
       "  0%|          | 0/1 [00:00<?, ?it/s]"
      ]
     },
     "metadata": {},
     "output_type": "display_data"
    },
    {
     "name": "stdout",
     "output_type": "stream",
     "text": [
      "CONVIRTIENDO... INFORME 13 G:\\OneDrive - Ingenio Azucarero Guabira S.A\\_DATOS_PYTHON/informes/805_ECP_02-04-2024_AGROP. TRES HNOS DEL ORIENTE_14.docx\n",
      "G:\\OneDrive - Ingenio Azucarero Guabira S.A\\_DATOS_PYTHON/informes/805_ECP_02-04-2024_AGROP. TRES HNOS DEL ORIENTE_14.docx\n",
      "G:\\OneDrive - Ingenio Azucarero Guabira S.A\\_DATOS_PYTHON/pdfs/805_ECP_02-04-2024_AGROP. TRES HNOS DEL ORIENTE_14.pdf\n"
     ]
    },
    {
     "data": {
      "application/vnd.jupyter.widget-view+json": {
       "model_id": "2e66695c046e44aba3494a1bb7efa4a9",
       "version_major": 2,
       "version_minor": 0
      },
      "text/plain": [
       "  0%|          | 0/1 [00:00<?, ?it/s]"
      ]
     },
     "metadata": {},
     "output_type": "display_data"
    },
    {
     "name": "stdout",
     "output_type": "stream",
     "text": [
      "CONVIRTIENDO... INFORME 14 G:\\OneDrive - Ingenio Azucarero Guabira S.A\\_DATOS_PYTHON/informes/86_ECP_04-04-2024_AGUILERA TARADELLES JOSE LUIS_17.docx\n",
      "G:\\OneDrive - Ingenio Azucarero Guabira S.A\\_DATOS_PYTHON/informes/86_ECP_04-04-2024_AGUILERA TARADELLES JOSE LUIS_17.docx\n",
      "G:\\OneDrive - Ingenio Azucarero Guabira S.A\\_DATOS_PYTHON/pdfs/86_ECP_04-04-2024_AGUILERA TARADELLES JOSE LUIS_17.pdf\n"
     ]
    },
    {
     "data": {
      "application/vnd.jupyter.widget-view+json": {
       "model_id": "8173eed760a042f0af835c19f907ed36",
       "version_major": 2,
       "version_minor": 0
      },
      "text/plain": [
       "  0%|          | 0/1 [00:00<?, ?it/s]"
      ]
     },
     "metadata": {},
     "output_type": "display_data"
    },
    {
     "name": "stdout",
     "output_type": "stream",
     "text": [
      "END\n"
     ]
    }
   ],
   "source": [
    "i = 1\n",
    "for filename in rutas:\n",
    "    print('CONVIRTIENDO... INFORME ' + str(i) + ' ' + filename)\n",
    "    # se realiza la convrsion pasando parametro de salida y entrada, \n",
    "    # para la salida se reemplaza la extencion y la ruta\n",
    "    print(filename)\n",
    "    print(filename.replace('.docx','.pdf').replace('informes','pdfs'))\n",
    "    pdf = filename.replace('.docx','.pdf').replace('informes','pdfs').split('/')[-1]\n",
    "    convert(filename, r'C:\\Users\\Usuario\\Downloads\\\\' + pdf)\n",
    "    i+=1\n",
    "print('END')"
   ]
  },
  {
   "cell_type": "markdown",
   "id": "455ef654-fe35-492c-8f69-3dc00102b0bb",
   "metadata": {},
   "source": [
    "# Leer archivos"
   ]
  },
  {
   "cell_type": "code",
   "execution_count": 1,
   "id": "df0f066e-d897-4ca6-a8cd-23b40ad41307",
   "metadata": {},
   "outputs": [
    {
     "name": "stdout",
     "output_type": "stream",
     "text": [
      "Your browser has been opened to visit:\n",
      "\n",
      "    https://accounts.google.com/o/oauth2/auth?client_id=1096764895697-57btfmtn7rdejufct5qq4j9mi61j0unl.apps.googleusercontent.com&redirect_uri=http%3A%2F%2Flocalhost%3A8080%2F&scope=https%3A%2F%2Fwww.googleapis.com%2Fauth%2Fdrive&access_type=offline&response_type=code\n",
      "\n",
      "Authentication successful.\n"
     ]
    }
   ],
   "source": [
    "# CONEXION A GOOGLE DRIVE\n",
    "from pydrive.auth import GoogleAuth\n",
    "from pydrive.drive import GoogleDrive\n",
    "gauth = GoogleAuth()\n",
    "gauth.LocalWebserverAuth() # client_secrets.json need to be in the same directory as the script\n",
    "drive = GoogleDrive(gauth)"
   ]
  },
  {
   "cell_type": "code",
   "execution_count": 6,
   "id": "5bc6184d-91a1-42a1-a809-84014f898d43",
   "metadata": {},
   "outputs": [
    {
     "name": "stdout",
     "output_type": "stream",
     "text": [
      "3 informes\n"
     ]
    },
    {
     "data": {
      "text/plain": [
       "{10863: '10863_CRS_29-03-2024_PAZ REA ROSENDO.pdf',\n",
       " 2765: '2765_CRS_27-03-2024_DAVALOS GUARISTI MARIO.pdf',\n",
       " 8003: '8003_CRS_29-03-2024_AGUILERA RIVERO SERGIO STEFAN.pdf'}"
      ]
     },
     "execution_count": 6,
     "metadata": {},
     "output_type": "execute_result"
    }
   ],
   "source": [
    "contenido = os.listdir(ruta + r'/pdf')\n",
    "dic_files = {}\n",
    "for file in contenido:\n",
    "    split = file.split('_')\n",
    "    dic_files[int(split[0])] = file\n",
    "print(len(dic_files), 'informes')\n",
    "dic_files"
   ]
  },
  {
   "cell_type": "markdown",
   "id": "68778c6d-31c1-4f6f-880c-5d3f2d04ed17",
   "metadata": {},
   "source": [
    "# CARGAR LOS PDFS A GOOGLE DRIVE"
   ]
  },
  {
   "cell_type": "code",
   "execution_count": 7,
   "id": "aaf8d01b-5324-4b14-a67d-a6162850efa2",
   "metadata": {},
   "outputs": [
    {
     "name": "stdout",
     "output_type": "stream",
     "text": [
      "Created file 10863_CRS_29-03-2024_PAZ REA ROSENDO.pdf with mimeType application/pdf\n",
      "Created file 2765_CRS_27-03-2024_DAVALOS GUARISTI MARIO.pdf with mimeType application/pdf\n",
      "Created file 8003_CRS_29-03-2024_AGUILERA RIVERO SERGIO STEFAN.pdf with mimeType application/pdf\n",
      "end\n"
     ]
    }
   ],
   "source": [
    "# CARGAR LOS PDFS A GOOGLE DRIVE\n",
    "dic_urls = {}\n",
    "# View all folders and file in your Google Drive\n",
    "fileList = drive.ListFile({'q': \"'root' in parents and trashed=false\"}).GetList()\n",
    "for file in fileList:\n",
    "  #print('Title: %s, ID: %s' % (file['title'], file['id']))\n",
    "  # Get the folder ID that you want\n",
    "  if(file['title'] == \"2DA_INSPECCION\"):\n",
    "      fileID = file['id']\n",
    "\n",
    "for file in dic_files:\n",
    "    file1 = drive.CreateFile({\"mimeType\": \"application/pdf\", \"parents\": [{\"kind\": \"drive#fileLink\", \"id\": fileID}]})\n",
    "    file1['title'] = dic_files[file]\n",
    "    file1.SetContentFile(ruta + r'/pdf//' + dic_files[file])\n",
    "    file1.Upload() # Upload the file.\n",
    "    print('Created file %s with mimeType %s' % (file1['title'], file1['mimeType']))\n",
    "    permission = file1.InsertPermission({\n",
    "                        'type': 'anyone',\n",
    "                        'value': 'anyone',\n",
    "                        'role': 'reader'})\n",
    "    dic_urls[file] = file1['alternateLink']\n",
    "dic_urls\n",
    "print('end')"
   ]
  },
  {
   "cell_type": "code",
   "execution_count": 8,
   "id": "6aceb417-cee6-413c-917f-f03bcba671b6",
   "metadata": {},
   "outputs": [
    {
     "name": "stdout",
     "output_type": "stream",
     "text": [
      "3 URLs\n"
     ]
    },
    {
     "data": {
      "text/plain": [
       "{10863: 'https://drive.google.com/file/d/1ObkfRX0DFWfzMJri_GgQXKLIlLRwrq8E/view?usp=drivesdk',\n",
       " 2765: 'https://drive.google.com/file/d/1yYgILB7TV4T1dKp8QyFbLWapIKKkDo05/view?usp=drivesdk',\n",
       " 8003: 'https://drive.google.com/file/d/15eEJs7R5qLSkzzpJozO4mkncLdGqHQu8/view?usp=drivesdk'}"
      ]
     },
     "execution_count": 8,
     "metadata": {},
     "output_type": "execute_result"
    }
   ],
   "source": [
    "print(len(dic_urls), 'URLs')\n",
    "dic_urls"
   ]
  },
  {
   "cell_type": "markdown",
   "id": "6063c8ed-d601-4164-9af1-e1c2dbc865d0",
   "metadata": {},
   "source": [
    "# conexion a amigocloud"
   ]
  },
  {
   "cell_type": "code",
   "execution_count": 9,
   "id": "f0d01517-62ff-4a1f-a49b-79646323127e",
   "metadata": {},
   "outputs": [],
   "source": [
    "import sys\n",
    "sys.path.append('../../../_amigocloud')\n",
    "\n",
    "from amigocloud import AmigoCloud"
   ]
  },
  {
   "cell_type": "code",
   "execution_count": 10,
   "id": "fea924a5-9048-42a8-b912-6604dc5b6539",
   "metadata": {},
   "outputs": [
    {
     "data": {
      "text/plain": [
       "<amigocloud.AmigoCloud at 0x1db6045f640>"
      ]
     },
     "execution_count": 10,
     "metadata": {},
     "output_type": "execute_result"
    }
   ],
   "source": [
    "# leer token\n",
    "acceso = open(ruta + '/_keys/api_amigocloud.key','r')\n",
    "api_token = acceso.readlines()[0]\n",
    "acceso.close()\n",
    "amigocloud = AmigoCloud(token=api_token)\n",
    "amigocloud"
   ]
  },
  {
   "cell_type": "code",
   "execution_count": 11,
   "id": "6ea99bee-0a6d-48a1-9833-6b8c2a62433a",
   "metadata": {},
   "outputs": [
    {
     "name": "stdout",
     "output_type": "stream",
     "text": [
      "10863\n",
      "2765\n",
      "8003\n",
      "end\n"
     ]
    }
   ],
   "source": [
    "for key in dic_urls:\n",
    "    query = {'query': 'update dataset_307560 set link_doc_2da = \\'{link}\\' where cast(SPLIT_PART(canhero, \\' / \\', 1) as integer) = \\'{cod}\\''.format(link=dic_urls[key], cod=key)}\n",
    "    res = amigocloud.post('https://app.amigocloud.com/api/v1/projects/32672/sql', query)\n",
    "    print(key)\n",
    "print('end')"
   ]
  }
 ],
 "metadata": {
  "kernelspec": {
   "display_name": "Python 3 (ipykernel)",
   "language": "python",
   "name": "python3"
  },
  "language_info": {
   "codemirror_mode": {
    "name": "ipython",
    "version": 3
   },
   "file_extension": ".py",
   "mimetype": "text/x-python",
   "name": "python",
   "nbconvert_exporter": "python",
   "pygments_lexer": "ipython3",
   "version": "3.10.13"
  }
 },
 "nbformat": 4,
 "nbformat_minor": 5
}
