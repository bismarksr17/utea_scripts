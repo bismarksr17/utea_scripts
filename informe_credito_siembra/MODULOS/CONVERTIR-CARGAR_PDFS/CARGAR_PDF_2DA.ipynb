{
 "cells": [
  {
   "cell_type": "markdown",
   "id": "18a80bc5",
   "metadata": {},
   "source": [
    "# INSTALAR LIBRERIAS"
   ]
  },
  {
   "cell_type": "code",
   "execution_count": 13,
   "id": "7e312719",
   "metadata": {},
   "outputs": [],
   "source": [
    "# !pip install docx2pdf\n",
    "#pip install ipywidgets"
   ]
  },
  {
   "cell_type": "markdown",
   "id": "7e934ca6",
   "metadata": {},
   "source": [
    "# IMPORTAR"
   ]
  },
  {
   "cell_type": "code",
   "execution_count": 1,
   "id": "508a28c7",
   "metadata": {},
   "outputs": [],
   "source": [
    "from docx2pdf import convert\n",
    "import os"
   ]
  },
  {
   "cell_type": "markdown",
   "id": "64ec4ba6",
   "metadata": {},
   "source": [
    "# CONSTRUIR LA RUTA DE LOS ARCHIVOS"
   ]
  },
  {
   "cell_type": "code",
   "execution_count": 2,
   "id": "cdd1c78b-ef20-462c-8de1-034c31d4b386",
   "metadata": {},
   "outputs": [],
   "source": [
    "# ruta de carpera donde estan las llaves\n",
    "ruta = open('../../../ruta.txt')\n",
    "ruta = ruta.readlines()[0]"
   ]
  },
  {
   "cell_type": "code",
   "execution_count": 4,
   "id": "1fc560f3",
   "metadata": {},
   "outputs": [
    {
     "name": "stdout",
     "output_type": "stream",
     "text": [
      "SE ENCONTRARON 18 INFORMES\n",
      "18 INFORMES\n"
     ]
    },
    {
     "data": {
      "text/plain": [
       "['G:\\\\OneDrive - Ingenio Azucarero Guabira S.A\\\\_DATOS_PYTHON/informes/10650_CRS_16-05-2024_PIZARRO PIZARRO WALTER.docx',\n",
       " 'G:\\\\OneDrive - Ingenio Azucarero Guabira S.A\\\\_DATOS_PYTHON/informes/11805_CRS_16-05-2024_RIOJA CABRERA JOSE GROVER.docx',\n",
       " 'G:\\\\OneDrive - Ingenio Azucarero Guabira S.A\\\\_DATOS_PYTHON/informes/1672_CRS_18-05-2024_CAMPBELL BALCAZAR ALAN.docx',\n",
       " 'G:\\\\OneDrive - Ingenio Azucarero Guabira S.A\\\\_DATOS_PYTHON/informes/2029_CRS_16-05-2024_COLAMARINO DI SILVIO ANGELO.docx',\n",
       " 'G:\\\\OneDrive - Ingenio Azucarero Guabira S.A\\\\_DATOS_PYTHON/informes/2315_CRS_17-05-2024_CORDOVA OLGUIN JUAN CARLOS.docx',\n",
       " 'G:\\\\OneDrive - Ingenio Azucarero Guabira S.A\\\\_DATOS_PYTHON/informes/31160_CRS_15-05-2024_PIZARRO PARADA HUGO ANDRES.docx',\n",
       " 'G:\\\\OneDrive - Ingenio Azucarero Guabira S.A\\\\_DATOS_PYTHON/informes/3460_CRS_16-05-2024_ESPINOZA MENDOZA SANTIAGO.docx',\n",
       " 'G:\\\\OneDrive - Ingenio Azucarero Guabira S.A\\\\_DATOS_PYTHON/informes/3481_CRS_16-05-2024_ESPINOZA MANCILLA REYNALDO.docx',\n",
       " 'G:\\\\OneDrive - Ingenio Azucarero Guabira S.A\\\\_DATOS_PYTHON/informes/41531_CRS_15-05-2024_GUZMAN ALMANZA WILMER.docx',\n",
       " 'G:\\\\OneDrive - Ingenio Azucarero Guabira S.A\\\\_DATOS_PYTHON/informes/41599_CRS_17-05-2024_LOPEZ TURIHUANO JUAN CARLOS.docx',\n",
       " 'G:\\\\OneDrive - Ingenio Azucarero Guabira S.A\\\\_DATOS_PYTHON/informes/42034_CRS_14-05-2024_ACSAMA MAMANI TEODOR.docx',\n",
       " 'G:\\\\OneDrive - Ingenio Azucarero Guabira S.A\\\\_DATOS_PYTHON/informes/42044_CRS_16-05-2024_ESPINOZA MANCILLA WILMA.docx',\n",
       " 'G:\\\\OneDrive - Ingenio Azucarero Guabira S.A\\\\_DATOS_PYTHON/informes/42131_CRS_16-05-2024_AGROPECUARIA CAMPOAZUL S.R.L..docx',\n",
       " 'G:\\\\OneDrive - Ingenio Azucarero Guabira S.A\\\\_DATOS_PYTHON/informes/4528_CRS_16-05-2024_GUZMAN ORELLANA GUSTAVO.docx',\n",
       " 'G:\\\\OneDrive - Ingenio Azucarero Guabira S.A\\\\_DATOS_PYTHON/informes/4967_CRS_15-05-2024_GUZMAN ALMANZA WILLAN.docx',\n",
       " 'G:\\\\OneDrive - Ingenio Azucarero Guabira S.A\\\\_DATOS_PYTHON/informes/743_CRS_15-05-2024_ARTEAGA CHAVEZ ROBERT E..docx',\n",
       " 'G:\\\\OneDrive - Ingenio Azucarero Guabira S.A\\\\_DATOS_PYTHON/informes/8881_CRS_15-05-2024_MONTANO GUTIERREZ BELSA.docx',\n",
       " 'G:\\\\OneDrive - Ingenio Azucarero Guabira S.A\\\\_DATOS_PYTHON/informes/9850_CRS_14-05-2024_OVANDO HUALLPA TIBURCIO.docx']"
      ]
     },
     "execution_count": 4,
     "metadata": {},
     "output_type": "execute_result"
    }
   ],
   "source": [
    "# colocar aqui la ruta de los archivos\n",
    "path = ruta + r'/informes'\n",
    "contenido = os.listdir(path)\n",
    "rutas =[]\n",
    "i = 0\n",
    "for name in contenido:\n",
    "    rutas.append(path + '/' + name)\n",
    "    i+=1\n",
    "\n",
    "print('SE ENCONTRARON ' + str(i) + ' INFORMES')\n",
    "print(len(rutas), 'INFORMES')\n",
    "rutas"
   ]
  },
  {
   "cell_type": "markdown",
   "id": "6b9af706",
   "metadata": {
    "tags": []
   },
   "source": [
    "# INICIA EL PROCESO DE CONVERCIÓN"
   ]
  },
  {
   "cell_type": "code",
   "execution_count": 5,
   "id": "cdbc481d-e9f8-4a85-946f-4c45abd61e87",
   "metadata": {},
   "outputs": [
    {
     "data": {
      "text/plain": [
       "'G:\\\\OneDrive - Ingenio Azucarero Guabira S.A\\\\_DATOS_PYTHON/pdf/11805_CRS_16-05-2024_RIOJA CABRERA JOSE GROVER.pdf'"
      ]
     },
     "execution_count": 5,
     "metadata": {},
     "output_type": "execute_result"
    }
   ],
   "source": [
    "rutas[1].replace('.docx','.pdf').replace('informes','pdf')"
   ]
  },
  {
   "cell_type": "code",
   "execution_count": 6,
   "id": "13d4b150-97ec-4f5f-ae67-8494243a499a",
   "metadata": {},
   "outputs": [
    {
     "data": {
      "text/plain": [
       "'G:\\\\OneDrive - Ingenio Azucarero Guabira S.A\\\\_DATOS_PYTHON/pdf/11805_CRS_16-05-2024_RIOJA CABRERA JOSE GROVER.pdf'"
      ]
     },
     "execution_count": 6,
     "metadata": {},
     "output_type": "execute_result"
    }
   ],
   "source": [
    "rutas[1].replace('.docx','.pdf').replace('informes','pdf')"
   ]
  },
  {
   "cell_type": "code",
   "execution_count": 7,
   "id": "0f018b1e",
   "metadata": {
    "tags": []
   },
   "outputs": [
    {
     "name": "stdout",
     "output_type": "stream",
     "text": [
      "CONVIRTIENDO... INFORME 1 G:\\OneDrive - Ingenio Azucarero Guabira S.A\\_DATOS_PYTHON/informes/10650_CRS_16-05-2024_PIZARRO PIZARRO WALTER.docx\n",
      "G:\\OneDrive - Ingenio Azucarero Guabira S.A\\_DATOS_PYTHON/informes/10650_CRS_16-05-2024_PIZARRO PIZARRO WALTER.docx\n",
      "G:\\OneDrive - Ingenio Azucarero Guabira S.A\\_DATOS_PYTHON/pdfs/10650_CRS_16-05-2024_PIZARRO PIZARRO WALTER.pdf\n"
     ]
    },
    {
     "data": {
      "application/vnd.jupyter.widget-view+json": {
       "model_id": "fcf33200442b4197be28c38fa4fd788a",
       "version_major": 2,
       "version_minor": 0
      },
      "text/plain": [
       "  0%|          | 0/1 [00:00<?, ?it/s]"
      ]
     },
     "metadata": {},
     "output_type": "display_data"
    },
    {
     "name": "stdout",
     "output_type": "stream",
     "text": [
      "CONVIRTIENDO... INFORME 2 G:\\OneDrive - Ingenio Azucarero Guabira S.A\\_DATOS_PYTHON/informes/11805_CRS_16-05-2024_RIOJA CABRERA JOSE GROVER.docx\n",
      "G:\\OneDrive - Ingenio Azucarero Guabira S.A\\_DATOS_PYTHON/informes/11805_CRS_16-05-2024_RIOJA CABRERA JOSE GROVER.docx\n",
      "G:\\OneDrive - Ingenio Azucarero Guabira S.A\\_DATOS_PYTHON/pdfs/11805_CRS_16-05-2024_RIOJA CABRERA JOSE GROVER.pdf\n"
     ]
    },
    {
     "data": {
      "application/vnd.jupyter.widget-view+json": {
       "model_id": "79f5d41f3b2d49e291bf9269f16413fa",
       "version_major": 2,
       "version_minor": 0
      },
      "text/plain": [
       "  0%|          | 0/1 [00:00<?, ?it/s]"
      ]
     },
     "metadata": {},
     "output_type": "display_data"
    },
    {
     "name": "stdout",
     "output_type": "stream",
     "text": [
      "CONVIRTIENDO... INFORME 3 G:\\OneDrive - Ingenio Azucarero Guabira S.A\\_DATOS_PYTHON/informes/1672_CRS_18-05-2024_CAMPBELL BALCAZAR ALAN.docx\n",
      "G:\\OneDrive - Ingenio Azucarero Guabira S.A\\_DATOS_PYTHON/informes/1672_CRS_18-05-2024_CAMPBELL BALCAZAR ALAN.docx\n",
      "G:\\OneDrive - Ingenio Azucarero Guabira S.A\\_DATOS_PYTHON/pdfs/1672_CRS_18-05-2024_CAMPBELL BALCAZAR ALAN.pdf\n"
     ]
    },
    {
     "data": {
      "application/vnd.jupyter.widget-view+json": {
       "model_id": "3f3a282e9ba64ea3a6eeddf3e84ea4f7",
       "version_major": 2,
       "version_minor": 0
      },
      "text/plain": [
       "  0%|          | 0/1 [00:00<?, ?it/s]"
      ]
     },
     "metadata": {},
     "output_type": "display_data"
    },
    {
     "name": "stdout",
     "output_type": "stream",
     "text": [
      "CONVIRTIENDO... INFORME 4 G:\\OneDrive - Ingenio Azucarero Guabira S.A\\_DATOS_PYTHON/informes/2029_CRS_16-05-2024_COLAMARINO DI SILVIO ANGELO.docx\n",
      "G:\\OneDrive - Ingenio Azucarero Guabira S.A\\_DATOS_PYTHON/informes/2029_CRS_16-05-2024_COLAMARINO DI SILVIO ANGELO.docx\n",
      "G:\\OneDrive - Ingenio Azucarero Guabira S.A\\_DATOS_PYTHON/pdfs/2029_CRS_16-05-2024_COLAMARINO DI SILVIO ANGELO.pdf\n"
     ]
    },
    {
     "data": {
      "application/vnd.jupyter.widget-view+json": {
       "model_id": "2cb84300251d4c49aec7090889937367",
       "version_major": 2,
       "version_minor": 0
      },
      "text/plain": [
       "  0%|          | 0/1 [00:00<?, ?it/s]"
      ]
     },
     "metadata": {},
     "output_type": "display_data"
    },
    {
     "name": "stdout",
     "output_type": "stream",
     "text": [
      "CONVIRTIENDO... INFORME 5 G:\\OneDrive - Ingenio Azucarero Guabira S.A\\_DATOS_PYTHON/informes/2315_CRS_17-05-2024_CORDOVA OLGUIN JUAN CARLOS.docx\n",
      "G:\\OneDrive - Ingenio Azucarero Guabira S.A\\_DATOS_PYTHON/informes/2315_CRS_17-05-2024_CORDOVA OLGUIN JUAN CARLOS.docx\n",
      "G:\\OneDrive - Ingenio Azucarero Guabira S.A\\_DATOS_PYTHON/pdfs/2315_CRS_17-05-2024_CORDOVA OLGUIN JUAN CARLOS.pdf\n"
     ]
    },
    {
     "data": {
      "application/vnd.jupyter.widget-view+json": {
       "model_id": "1dae066f511f4d88b79bdea8e52491a6",
       "version_major": 2,
       "version_minor": 0
      },
      "text/plain": [
       "  0%|          | 0/1 [00:00<?, ?it/s]"
      ]
     },
     "metadata": {},
     "output_type": "display_data"
    },
    {
     "name": "stdout",
     "output_type": "stream",
     "text": [
      "CONVIRTIENDO... INFORME 6 G:\\OneDrive - Ingenio Azucarero Guabira S.A\\_DATOS_PYTHON/informes/31160_CRS_15-05-2024_PIZARRO PARADA HUGO ANDRES.docx\n",
      "G:\\OneDrive - Ingenio Azucarero Guabira S.A\\_DATOS_PYTHON/informes/31160_CRS_15-05-2024_PIZARRO PARADA HUGO ANDRES.docx\n",
      "G:\\OneDrive - Ingenio Azucarero Guabira S.A\\_DATOS_PYTHON/pdfs/31160_CRS_15-05-2024_PIZARRO PARADA HUGO ANDRES.pdf\n"
     ]
    },
    {
     "data": {
      "application/vnd.jupyter.widget-view+json": {
       "model_id": "eaf8811974f644d1b346dc4b63f6d532",
       "version_major": 2,
       "version_minor": 0
      },
      "text/plain": [
       "  0%|          | 0/1 [00:00<?, ?it/s]"
      ]
     },
     "metadata": {},
     "output_type": "display_data"
    },
    {
     "name": "stdout",
     "output_type": "stream",
     "text": [
      "CONVIRTIENDO... INFORME 7 G:\\OneDrive - Ingenio Azucarero Guabira S.A\\_DATOS_PYTHON/informes/3460_CRS_16-05-2024_ESPINOZA MENDOZA SANTIAGO.docx\n",
      "G:\\OneDrive - Ingenio Azucarero Guabira S.A\\_DATOS_PYTHON/informes/3460_CRS_16-05-2024_ESPINOZA MENDOZA SANTIAGO.docx\n",
      "G:\\OneDrive - Ingenio Azucarero Guabira S.A\\_DATOS_PYTHON/pdfs/3460_CRS_16-05-2024_ESPINOZA MENDOZA SANTIAGO.pdf\n"
     ]
    },
    {
     "data": {
      "application/vnd.jupyter.widget-view+json": {
       "model_id": "7b17686b385b403abe99d3076668e14e",
       "version_major": 2,
       "version_minor": 0
      },
      "text/plain": [
       "  0%|          | 0/1 [00:00<?, ?it/s]"
      ]
     },
     "metadata": {},
     "output_type": "display_data"
    },
    {
     "name": "stdout",
     "output_type": "stream",
     "text": [
      "CONVIRTIENDO... INFORME 8 G:\\OneDrive - Ingenio Azucarero Guabira S.A\\_DATOS_PYTHON/informes/3481_CRS_16-05-2024_ESPINOZA MANCILLA REYNALDO.docx\n",
      "G:\\OneDrive - Ingenio Azucarero Guabira S.A\\_DATOS_PYTHON/informes/3481_CRS_16-05-2024_ESPINOZA MANCILLA REYNALDO.docx\n",
      "G:\\OneDrive - Ingenio Azucarero Guabira S.A\\_DATOS_PYTHON/pdfs/3481_CRS_16-05-2024_ESPINOZA MANCILLA REYNALDO.pdf\n"
     ]
    },
    {
     "data": {
      "application/vnd.jupyter.widget-view+json": {
       "model_id": "388583353cd541808102801a468aa61a",
       "version_major": 2,
       "version_minor": 0
      },
      "text/plain": [
       "  0%|          | 0/1 [00:00<?, ?it/s]"
      ]
     },
     "metadata": {},
     "output_type": "display_data"
    },
    {
     "name": "stdout",
     "output_type": "stream",
     "text": [
      "CONVIRTIENDO... INFORME 9 G:\\OneDrive - Ingenio Azucarero Guabira S.A\\_DATOS_PYTHON/informes/41531_CRS_15-05-2024_GUZMAN ALMANZA WILMER.docx\n",
      "G:\\OneDrive - Ingenio Azucarero Guabira S.A\\_DATOS_PYTHON/informes/41531_CRS_15-05-2024_GUZMAN ALMANZA WILMER.docx\n",
      "G:\\OneDrive - Ingenio Azucarero Guabira S.A\\_DATOS_PYTHON/pdfs/41531_CRS_15-05-2024_GUZMAN ALMANZA WILMER.pdf\n"
     ]
    },
    {
     "data": {
      "application/vnd.jupyter.widget-view+json": {
       "model_id": "67c5ef0bbf844b59ae927d0c25c7d74c",
       "version_major": 2,
       "version_minor": 0
      },
      "text/plain": [
       "  0%|          | 0/1 [00:00<?, ?it/s]"
      ]
     },
     "metadata": {},
     "output_type": "display_data"
    },
    {
     "name": "stdout",
     "output_type": "stream",
     "text": [
      "CONVIRTIENDO... INFORME 10 G:\\OneDrive - Ingenio Azucarero Guabira S.A\\_DATOS_PYTHON/informes/41599_CRS_17-05-2024_LOPEZ TURIHUANO JUAN CARLOS.docx\n",
      "G:\\OneDrive - Ingenio Azucarero Guabira S.A\\_DATOS_PYTHON/informes/41599_CRS_17-05-2024_LOPEZ TURIHUANO JUAN CARLOS.docx\n",
      "G:\\OneDrive - Ingenio Azucarero Guabira S.A\\_DATOS_PYTHON/pdfs/41599_CRS_17-05-2024_LOPEZ TURIHUANO JUAN CARLOS.pdf\n"
     ]
    },
    {
     "data": {
      "application/vnd.jupyter.widget-view+json": {
       "model_id": "3cd13c740f5647d59b1dad5189eddd16",
       "version_major": 2,
       "version_minor": 0
      },
      "text/plain": [
       "  0%|          | 0/1 [00:00<?, ?it/s]"
      ]
     },
     "metadata": {},
     "output_type": "display_data"
    },
    {
     "name": "stdout",
     "output_type": "stream",
     "text": [
      "CONVIRTIENDO... INFORME 11 G:\\OneDrive - Ingenio Azucarero Guabira S.A\\_DATOS_PYTHON/informes/42034_CRS_14-05-2024_ACSAMA MAMANI TEODOR.docx\n",
      "G:\\OneDrive - Ingenio Azucarero Guabira S.A\\_DATOS_PYTHON/informes/42034_CRS_14-05-2024_ACSAMA MAMANI TEODOR.docx\n",
      "G:\\OneDrive - Ingenio Azucarero Guabira S.A\\_DATOS_PYTHON/pdfs/42034_CRS_14-05-2024_ACSAMA MAMANI TEODOR.pdf\n"
     ]
    },
    {
     "data": {
      "application/vnd.jupyter.widget-view+json": {
       "model_id": "0fa948fe7f4940f9b1b9815eb20eaa89",
       "version_major": 2,
       "version_minor": 0
      },
      "text/plain": [
       "  0%|          | 0/1 [00:00<?, ?it/s]"
      ]
     },
     "metadata": {},
     "output_type": "display_data"
    },
    {
     "name": "stdout",
     "output_type": "stream",
     "text": [
      "CONVIRTIENDO... INFORME 12 G:\\OneDrive - Ingenio Azucarero Guabira S.A\\_DATOS_PYTHON/informes/42044_CRS_16-05-2024_ESPINOZA MANCILLA WILMA.docx\n",
      "G:\\OneDrive - Ingenio Azucarero Guabira S.A\\_DATOS_PYTHON/informes/42044_CRS_16-05-2024_ESPINOZA MANCILLA WILMA.docx\n",
      "G:\\OneDrive - Ingenio Azucarero Guabira S.A\\_DATOS_PYTHON/pdfs/42044_CRS_16-05-2024_ESPINOZA MANCILLA WILMA.pdf\n"
     ]
    },
    {
     "data": {
      "application/vnd.jupyter.widget-view+json": {
       "model_id": "e2c495c28ee1410383702e983b10089f",
       "version_major": 2,
       "version_minor": 0
      },
      "text/plain": [
       "  0%|          | 0/1 [00:00<?, ?it/s]"
      ]
     },
     "metadata": {},
     "output_type": "display_data"
    },
    {
     "name": "stdout",
     "output_type": "stream",
     "text": [
      "CONVIRTIENDO... INFORME 13 G:\\OneDrive - Ingenio Azucarero Guabira S.A\\_DATOS_PYTHON/informes/42131_CRS_16-05-2024_AGROPECUARIA CAMPOAZUL S.R.L..docx\n",
      "G:\\OneDrive - Ingenio Azucarero Guabira S.A\\_DATOS_PYTHON/informes/42131_CRS_16-05-2024_AGROPECUARIA CAMPOAZUL S.R.L..docx\n",
      "G:\\OneDrive - Ingenio Azucarero Guabira S.A\\_DATOS_PYTHON/pdfs/42131_CRS_16-05-2024_AGROPECUARIA CAMPOAZUL S.R.L..pdf\n"
     ]
    },
    {
     "data": {
      "application/vnd.jupyter.widget-view+json": {
       "model_id": "f7dd2c0c303749cbb928eb98e496ce53",
       "version_major": 2,
       "version_minor": 0
      },
      "text/plain": [
       "  0%|          | 0/1 [00:00<?, ?it/s]"
      ]
     },
     "metadata": {},
     "output_type": "display_data"
    },
    {
     "name": "stdout",
     "output_type": "stream",
     "text": [
      "CONVIRTIENDO... INFORME 14 G:\\OneDrive - Ingenio Azucarero Guabira S.A\\_DATOS_PYTHON/informes/4528_CRS_16-05-2024_GUZMAN ORELLANA GUSTAVO.docx\n",
      "G:\\OneDrive - Ingenio Azucarero Guabira S.A\\_DATOS_PYTHON/informes/4528_CRS_16-05-2024_GUZMAN ORELLANA GUSTAVO.docx\n",
      "G:\\OneDrive - Ingenio Azucarero Guabira S.A\\_DATOS_PYTHON/pdfs/4528_CRS_16-05-2024_GUZMAN ORELLANA GUSTAVO.pdf\n"
     ]
    },
    {
     "data": {
      "application/vnd.jupyter.widget-view+json": {
       "model_id": "9d750a6dc0a04016a161c3e0fad1eb71",
       "version_major": 2,
       "version_minor": 0
      },
      "text/plain": [
       "  0%|          | 0/1 [00:00<?, ?it/s]"
      ]
     },
     "metadata": {},
     "output_type": "display_data"
    },
    {
     "name": "stdout",
     "output_type": "stream",
     "text": [
      "CONVIRTIENDO... INFORME 15 G:\\OneDrive - Ingenio Azucarero Guabira S.A\\_DATOS_PYTHON/informes/4967_CRS_15-05-2024_GUZMAN ALMANZA WILLAN.docx\n",
      "G:\\OneDrive - Ingenio Azucarero Guabira S.A\\_DATOS_PYTHON/informes/4967_CRS_15-05-2024_GUZMAN ALMANZA WILLAN.docx\n",
      "G:\\OneDrive - Ingenio Azucarero Guabira S.A\\_DATOS_PYTHON/pdfs/4967_CRS_15-05-2024_GUZMAN ALMANZA WILLAN.pdf\n"
     ]
    },
    {
     "data": {
      "application/vnd.jupyter.widget-view+json": {
       "model_id": "e394583fc15648cb890339a475b02695",
       "version_major": 2,
       "version_minor": 0
      },
      "text/plain": [
       "  0%|          | 0/1 [00:00<?, ?it/s]"
      ]
     },
     "metadata": {},
     "output_type": "display_data"
    },
    {
     "name": "stdout",
     "output_type": "stream",
     "text": [
      "CONVIRTIENDO... INFORME 16 G:\\OneDrive - Ingenio Azucarero Guabira S.A\\_DATOS_PYTHON/informes/743_CRS_15-05-2024_ARTEAGA CHAVEZ ROBERT E..docx\n",
      "G:\\OneDrive - Ingenio Azucarero Guabira S.A\\_DATOS_PYTHON/informes/743_CRS_15-05-2024_ARTEAGA CHAVEZ ROBERT E..docx\n",
      "G:\\OneDrive - Ingenio Azucarero Guabira S.A\\_DATOS_PYTHON/pdfs/743_CRS_15-05-2024_ARTEAGA CHAVEZ ROBERT E..pdf\n"
     ]
    },
    {
     "data": {
      "application/vnd.jupyter.widget-view+json": {
       "model_id": "a68b1fceb05643be86c708c07c46fd8b",
       "version_major": 2,
       "version_minor": 0
      },
      "text/plain": [
       "  0%|          | 0/1 [00:00<?, ?it/s]"
      ]
     },
     "metadata": {},
     "output_type": "display_data"
    },
    {
     "name": "stdout",
     "output_type": "stream",
     "text": [
      "CONVIRTIENDO... INFORME 17 G:\\OneDrive - Ingenio Azucarero Guabira S.A\\_DATOS_PYTHON/informes/8881_CRS_15-05-2024_MONTANO GUTIERREZ BELSA.docx\n",
      "G:\\OneDrive - Ingenio Azucarero Guabira S.A\\_DATOS_PYTHON/informes/8881_CRS_15-05-2024_MONTANO GUTIERREZ BELSA.docx\n",
      "G:\\OneDrive - Ingenio Azucarero Guabira S.A\\_DATOS_PYTHON/pdfs/8881_CRS_15-05-2024_MONTANO GUTIERREZ BELSA.pdf\n"
     ]
    },
    {
     "data": {
      "application/vnd.jupyter.widget-view+json": {
       "model_id": "b1073f30399b4ace9b11f71ec4909816",
       "version_major": 2,
       "version_minor": 0
      },
      "text/plain": [
       "  0%|          | 0/1 [00:00<?, ?it/s]"
      ]
     },
     "metadata": {},
     "output_type": "display_data"
    },
    {
     "name": "stdout",
     "output_type": "stream",
     "text": [
      "CONVIRTIENDO... INFORME 18 G:\\OneDrive - Ingenio Azucarero Guabira S.A\\_DATOS_PYTHON/informes/9850_CRS_14-05-2024_OVANDO HUALLPA TIBURCIO.docx\n",
      "G:\\OneDrive - Ingenio Azucarero Guabira S.A\\_DATOS_PYTHON/informes/9850_CRS_14-05-2024_OVANDO HUALLPA TIBURCIO.docx\n",
      "G:\\OneDrive - Ingenio Azucarero Guabira S.A\\_DATOS_PYTHON/pdfs/9850_CRS_14-05-2024_OVANDO HUALLPA TIBURCIO.pdf\n"
     ]
    },
    {
     "data": {
      "application/vnd.jupyter.widget-view+json": {
       "model_id": "d42a68254c504199ba814cf5ae84dcbc",
       "version_major": 2,
       "version_minor": 0
      },
      "text/plain": [
       "  0%|          | 0/1 [00:00<?, ?it/s]"
      ]
     },
     "metadata": {},
     "output_type": "display_data"
    },
    {
     "name": "stdout",
     "output_type": "stream",
     "text": [
      "END\n"
     ]
    }
   ],
   "source": [
    "i = 1\n",
    "for filename in rutas:\n",
    "    print('CONVIRTIENDO... INFORME ' + str(i) + ' ' + filename)\n",
    "    # se realiza la convrsion pasando parametro de salida y entrada, \n",
    "    # para la salida se reemplaza la extencion y la ruta\n",
    "    print(filename)\n",
    "    print(filename.replace('.docx','.pdf').replace('informes','pdfs'))\n",
    "    pdf = filename.replace('.docx','.pdf').replace('informes','pdfs').split('/')[-1]\n",
    "    convert(filename, r'C:\\Users\\Usuario\\Downloads\\\\' + pdf)\n",
    "    i+=1\n",
    "print('END')"
   ]
  },
  {
   "cell_type": "markdown",
   "id": "455ef654-fe35-492c-8f69-3dc00102b0bb",
   "metadata": {},
   "source": [
    "# Leer archivos"
   ]
  },
  {
   "cell_type": "code",
   "execution_count": 8,
   "id": "df0f066e-d897-4ca6-a8cd-23b40ad41307",
   "metadata": {},
   "outputs": [
    {
     "name": "stdout",
     "output_type": "stream",
     "text": [
      "Your browser has been opened to visit:\n",
      "\n",
      "    https://accounts.google.com/o/oauth2/auth?client_id=1096764895697-57btfmtn7rdejufct5qq4j9mi61j0unl.apps.googleusercontent.com&redirect_uri=http%3A%2F%2Flocalhost%3A8080%2F&scope=https%3A%2F%2Fwww.googleapis.com%2Fauth%2Fdrive&access_type=offline&response_type=code\n",
      "\n",
      "Authentication successful.\n"
     ]
    }
   ],
   "source": [
    "# CONEXION A GOOGLE DRIVE\n",
    "from pydrive.auth import GoogleAuth\n",
    "from pydrive.drive import GoogleDrive\n",
    "gauth = GoogleAuth()\n",
    "gauth.LocalWebserverAuth() # client_secrets.json need to be in the same directory as the script\n",
    "drive = GoogleDrive(gauth)"
   ]
  },
  {
   "cell_type": "code",
   "execution_count": 9,
   "id": "5bc6184d-91a1-42a1-a809-84014f898d43",
   "metadata": {},
   "outputs": [
    {
     "name": "stdout",
     "output_type": "stream",
     "text": [
      "18 informes\n"
     ]
    },
    {
     "data": {
      "text/plain": [
       "{10650: '10650_CRS_16-05-2024_PIZARRO PIZARRO WALTER.pdf',\n",
       " 11805: '11805_CRS_16-05-2024_RIOJA CABRERA JOSE GROVER.pdf',\n",
       " 1672: '1672_CRS_18-05-2024_CAMPBELL BALCAZAR ALAN.pdf',\n",
       " 2029: '2029_CRS_16-05-2024_COLAMARINO DI SILVIO ANGELO.pdf',\n",
       " 2315: '2315_CRS_17-05-2024_CORDOVA OLGUIN JUAN CARLOS.pdf',\n",
       " 31160: '31160_CRS_15-05-2024_PIZARRO PARADA HUGO ANDRES.pdf',\n",
       " 3460: '3460_CRS_16-05-2024_ESPINOZA MENDOZA SANTIAGO.pdf',\n",
       " 3481: '3481_CRS_16-05-2024_ESPINOZA MANCILLA REYNALDO.pdf',\n",
       " 41531: '41531_CRS_15-05-2024_GUZMAN ALMANZA WILMER.pdf',\n",
       " 41599: '41599_CRS_17-05-2024_LOPEZ TURIHUANO JUAN CARLOS.pdf',\n",
       " 42034: '42034_CRS_14-05-2024_ACSAMA MAMANI TEODOR.pdf',\n",
       " 42044: '42044_CRS_16-05-2024_ESPINOZA MANCILLA WILMA.pdf',\n",
       " 42131: '42131_CRS_16-05-2024_AGROPECUARIA CAMPOAZUL S.R.L..pdf',\n",
       " 4528: '4528_CRS_16-05-2024_GUZMAN ORELLANA GUSTAVO.pdf',\n",
       " 4967: '4967_CRS_15-05-2024_GUZMAN ALMANZA WILLAN.pdf',\n",
       " 743: '743_CRS_15-05-2024_ARTEAGA CHAVEZ ROBERT E..pdf',\n",
       " 8881: '8881_CRS_15-05-2024_MONTANO GUTIERREZ BELSA.pdf',\n",
       " 9850: '9850_CRS_14-05-2024_OVANDO HUALLPA TIBURCIO.pdf'}"
      ]
     },
     "execution_count": 9,
     "metadata": {},
     "output_type": "execute_result"
    }
   ],
   "source": [
    "contenido = os.listdir(ruta + r'/pdf')\n",
    "dic_files = {}\n",
    "for file in contenido:\n",
    "    split = file.split('_')\n",
    "    dic_files[int(split[0])] = file\n",
    "print(len(dic_files), 'informes')\n",
    "dic_files"
   ]
  },
  {
   "cell_type": "markdown",
   "id": "68778c6d-31c1-4f6f-880c-5d3f2d04ed17",
   "metadata": {},
   "source": [
    "# CARGAR LOS PDFS A GOOGLE DRIVE"
   ]
  },
  {
   "cell_type": "code",
   "execution_count": 10,
   "id": "aaf8d01b-5324-4b14-a67d-a6162850efa2",
   "metadata": {},
   "outputs": [
    {
     "name": "stdout",
     "output_type": "stream",
     "text": [
      "Created file 10650_CRS_16-05-2024_PIZARRO PIZARRO WALTER.pdf with mimeType application/pdf\n",
      "Created file 11805_CRS_16-05-2024_RIOJA CABRERA JOSE GROVER.pdf with mimeType application/pdf\n",
      "Created file 1672_CRS_18-05-2024_CAMPBELL BALCAZAR ALAN.pdf with mimeType application/pdf\n",
      "Created file 2029_CRS_16-05-2024_COLAMARINO DI SILVIO ANGELO.pdf with mimeType application/pdf\n",
      "Created file 2315_CRS_17-05-2024_CORDOVA OLGUIN JUAN CARLOS.pdf with mimeType application/pdf\n",
      "Created file 31160_CRS_15-05-2024_PIZARRO PARADA HUGO ANDRES.pdf with mimeType application/pdf\n",
      "Created file 3460_CRS_16-05-2024_ESPINOZA MENDOZA SANTIAGO.pdf with mimeType application/pdf\n",
      "Created file 3481_CRS_16-05-2024_ESPINOZA MANCILLA REYNALDO.pdf with mimeType application/pdf\n",
      "Created file 41531_CRS_15-05-2024_GUZMAN ALMANZA WILMER.pdf with mimeType application/pdf\n",
      "Created file 41599_CRS_17-05-2024_LOPEZ TURIHUANO JUAN CARLOS.pdf with mimeType application/pdf\n",
      "Created file 42034_CRS_14-05-2024_ACSAMA MAMANI TEODOR.pdf with mimeType application/pdf\n",
      "Created file 42044_CRS_16-05-2024_ESPINOZA MANCILLA WILMA.pdf with mimeType application/pdf\n",
      "Created file 42131_CRS_16-05-2024_AGROPECUARIA CAMPOAZUL S.R.L..pdf with mimeType application/pdf\n",
      "Created file 4528_CRS_16-05-2024_GUZMAN ORELLANA GUSTAVO.pdf with mimeType application/pdf\n",
      "Created file 4967_CRS_15-05-2024_GUZMAN ALMANZA WILLAN.pdf with mimeType application/pdf\n",
      "Created file 743_CRS_15-05-2024_ARTEAGA CHAVEZ ROBERT E..pdf with mimeType application/pdf\n",
      "Created file 8881_CRS_15-05-2024_MONTANO GUTIERREZ BELSA.pdf with mimeType application/pdf\n",
      "Created file 9850_CRS_14-05-2024_OVANDO HUALLPA TIBURCIO.pdf with mimeType application/pdf\n",
      "end\n"
     ]
    }
   ],
   "source": [
    "# CARGAR LOS PDFS A GOOGLE DRIVE\n",
    "dic_urls = {}\n",
    "# View all folders and file in your Google Drive\n",
    "fileList = drive.ListFile({'q': \"'root' in parents and trashed=false\"}).GetList()\n",
    "for file in fileList:\n",
    "  #print('Title: %s, ID: %s' % (file['title'], file['id']))\n",
    "  # Get the folder ID that you want\n",
    "  if(file['title'] == \"2DA_INSPECCION\"):\n",
    "      fileID = file['id']\n",
    "\n",
    "for file in dic_files:\n",
    "    file1 = drive.CreateFile({\"mimeType\": \"application/pdf\", \"parents\": [{\"kind\": \"drive#fileLink\", \"id\": fileID}]})\n",
    "    file1['title'] = dic_files[file]\n",
    "    file1.SetContentFile(ruta + r'/pdf//' + dic_files[file])\n",
    "    file1.Upload() # Upload the file.\n",
    "    print('Created file %s with mimeType %s' % (file1['title'], file1['mimeType']))\n",
    "    permission = file1.InsertPermission({\n",
    "                        'type': 'anyone',\n",
    "                        'value': 'anyone',\n",
    "                        'role': 'reader'})\n",
    "    dic_urls[file] = file1['alternateLink']\n",
    "dic_urls\n",
    "print('end')"
   ]
  },
  {
   "cell_type": "code",
   "execution_count": 11,
   "id": "6aceb417-cee6-413c-917f-f03bcba671b6",
   "metadata": {},
   "outputs": [
    {
     "name": "stdout",
     "output_type": "stream",
     "text": [
      "18 URLs\n"
     ]
    },
    {
     "data": {
      "text/plain": [
       "{10650: 'https://drive.google.com/file/d/1MRfT6oBRATOMlMOFfyZKyj4QSjpTVion/view?usp=drivesdk',\n",
       " 11805: 'https://drive.google.com/file/d/1Xgx6jeeInmALbLjL6Z_DLehWX1Y-v4KT/view?usp=drivesdk',\n",
       " 1672: 'https://drive.google.com/file/d/1yQZDyQ-hSQA2CMywgGJ8PWWrBtSoc-q7/view?usp=drivesdk',\n",
       " 2029: 'https://drive.google.com/file/d/1VD7uf9Wo-5ZnKgWr0KglSR8APkEc2aLk/view?usp=drivesdk',\n",
       " 2315: 'https://drive.google.com/file/d/1GD9ayd4eLTgJQBUMkE-l1XggKD-okXou/view?usp=drivesdk',\n",
       " 31160: 'https://drive.google.com/file/d/1NaqVZgX3COa5Ii0XbokFq-tCsWoO0g6N/view?usp=drivesdk',\n",
       " 3460: 'https://drive.google.com/file/d/1OtvOqBb_iahVYBYpM0QwstobRU9yeHPJ/view?usp=drivesdk',\n",
       " 3481: 'https://drive.google.com/file/d/1rJ9mYhlI9IzFB9dbNRAAyeN-GJ_yEtFk/view?usp=drivesdk',\n",
       " 41531: 'https://drive.google.com/file/d/1-kFLGBenXTawVQlZIvY0i_6Bm_w2oVmu/view?usp=drivesdk',\n",
       " 41599: 'https://drive.google.com/file/d/1MF5_Eq5ovpdq64aoypDiXn9sMthommAv/view?usp=drivesdk',\n",
       " 42034: 'https://drive.google.com/file/d/1oWCOEVXmj9IvBhHAJyttuN7tgSmp3M-7/view?usp=drivesdk',\n",
       " 42044: 'https://drive.google.com/file/d/1_s13X_YVkctGvpD6xREMQI4waqqQn8s0/view?usp=drivesdk',\n",
       " 42131: 'https://drive.google.com/file/d/1vUDZNJpzPq2m6AR4fGmXVIw6ExjQrb_C/view?usp=drivesdk',\n",
       " 4528: 'https://drive.google.com/file/d/1WPhy1QbpqLHvFObKT9uNuj0if6H5pEQp/view?usp=drivesdk',\n",
       " 4967: 'https://drive.google.com/file/d/1hZzJqKuyLfUGQwDRxhI_KnYSIwUlXH1M/view?usp=drivesdk',\n",
       " 743: 'https://drive.google.com/file/d/1eQfJQSV444kp_BUu7tOKg_xc29imMzOo/view?usp=drivesdk',\n",
       " 8881: 'https://drive.google.com/file/d/1DY1-0zC1kgV-nXtL0C816pWrzJYFh-NN/view?usp=drivesdk',\n",
       " 9850: 'https://drive.google.com/file/d/14kX7VbANfjBlu7Xf19PGL_HpSLFlpLed/view?usp=drivesdk'}"
      ]
     },
     "execution_count": 11,
     "metadata": {},
     "output_type": "execute_result"
    }
   ],
   "source": [
    "print(len(dic_urls), 'URLs')\n",
    "dic_urls"
   ]
  },
  {
   "cell_type": "markdown",
   "id": "6063c8ed-d601-4164-9af1-e1c2dbc865d0",
   "metadata": {},
   "source": [
    "# conexion a amigocloud"
   ]
  },
  {
   "cell_type": "code",
   "execution_count": 12,
   "id": "f0d01517-62ff-4a1f-a49b-79646323127e",
   "metadata": {},
   "outputs": [],
   "source": [
    "import sys\n",
    "sys.path.append('../../../_amigocloud')\n",
    "\n",
    "from amigocloud import AmigoCloud"
   ]
  },
  {
   "cell_type": "code",
   "execution_count": 13,
   "id": "fea924a5-9048-42a8-b912-6604dc5b6539",
   "metadata": {},
   "outputs": [
    {
     "data": {
      "text/plain": [
       "<amigocloud.AmigoCloud at 0x1ebb9851330>"
      ]
     },
     "execution_count": 13,
     "metadata": {},
     "output_type": "execute_result"
    }
   ],
   "source": [
    "# leer token\n",
    "acceso = open(ruta + '/_keys/api_amigocloud.key','r')\n",
    "api_token = acceso.readlines()[0]\n",
    "acceso.close()\n",
    "amigocloud = AmigoCloud(token=api_token)\n",
    "amigocloud"
   ]
  },
  {
   "cell_type": "code",
   "execution_count": 14,
   "id": "6ea99bee-0a6d-48a1-9833-6b8c2a62433a",
   "metadata": {},
   "outputs": [
    {
     "name": "stdout",
     "output_type": "stream",
     "text": [
      "10650\n",
      "11805\n",
      "1672\n",
      "2029\n",
      "2315\n",
      "31160\n",
      "3460\n",
      "3481\n",
      "41531\n",
      "41599\n",
      "42034\n",
      "42044\n",
      "42131\n",
      "4528\n",
      "4967\n",
      "743\n",
      "8881\n",
      "9850\n",
      "end\n"
     ]
    }
   ],
   "source": [
    "for key in dic_urls:\n",
    "    query = {'query': 'update dataset_307560 set link_doc_2da = \\'{link}\\' where cast(SPLIT_PART(canhero, \\' / \\', 1) as integer) = \\'{cod}\\''.format(link=dic_urls[key], cod=key)}\n",
    "    res = amigocloud.post('https://app.amigocloud.com/api/v1/projects/32672/sql', query)\n",
    "    print(key)\n",
    "print('end')"
   ]
  }
 ],
 "metadata": {
  "kernelspec": {
   "display_name": "Python 3 (ipykernel)",
   "language": "python",
   "name": "python3"
  },
  "language_info": {
   "codemirror_mode": {
    "name": "ipython",
    "version": 3
   },
   "file_extension": ".py",
   "mimetype": "text/x-python",
   "name": "python",
   "nbconvert_exporter": "python",
   "pygments_lexer": "ipython3",
   "version": "3.10.13"
  }
 },
 "nbformat": 4,
 "nbformat_minor": 5
}
