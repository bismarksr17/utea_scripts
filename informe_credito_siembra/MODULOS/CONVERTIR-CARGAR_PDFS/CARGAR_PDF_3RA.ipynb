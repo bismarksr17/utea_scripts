{
 "cells": [
  {
   "cell_type": "markdown",
   "id": "18a80bc5",
   "metadata": {},
   "source": [
    "# INSTALAR LIBRERIAS"
   ]
  },
  {
   "cell_type": "code",
   "execution_count": 1,
   "id": "7e312719",
   "metadata": {},
   "outputs": [],
   "source": [
    "# !pip install docx2pdf\n",
    "#pip install ipywidgets"
   ]
  },
  {
   "cell_type": "markdown",
   "id": "7e934ca6",
   "metadata": {},
   "source": [
    "# IMPORTAR"
   ]
  },
  {
   "cell_type": "code",
   "execution_count": 2,
   "id": "508a28c7",
   "metadata": {},
   "outputs": [],
   "source": [
    "from docx2pdf import convert\n",
    "import os"
   ]
  },
  {
   "cell_type": "markdown",
   "id": "64ec4ba6",
   "metadata": {},
   "source": [
    "# CONSTRUIR LA RUTA DE LOS ARCHIVOS"
   ]
  },
  {
   "cell_type": "code",
   "execution_count": 3,
   "id": "cdd1c78b-ef20-462c-8de1-034c31d4b386",
   "metadata": {},
   "outputs": [],
   "source": [
    "# ruta de carpera donde estan las llaves\n",
    "ruta = open('../../../ruta.txt')\n",
    "ruta = ruta.readlines()[0]"
   ]
  },
  {
   "cell_type": "code",
   "execution_count": 4,
   "id": "0f5156e8-5e9e-420c-88a5-18dbb46d4511",
   "metadata": {},
   "outputs": [
    {
     "data": {
      "text/plain": [
       "'C:\\\\Documents\\\\OneDrive - Ingenio Azucarero Guabira S.A\\\\_DATOS_PYTHON'"
      ]
     },
     "execution_count": 4,
     "metadata": {},
     "output_type": "execute_result"
    }
   ],
   "source": [
    "ruta"
   ]
  },
  {
   "cell_type": "code",
   "execution_count": 5,
   "id": "1fc560f3",
   "metadata": {},
   "outputs": [
    {
     "name": "stdout",
     "output_type": "stream",
     "text": [
      "SE ENCONTRARON 9 INFORMES\n",
      "9 INFORMES\n"
     ]
    },
    {
     "data": {
      "text/plain": [
       "['C:\\\\Documents\\\\OneDrive - Ingenio Azucarero Guabira S.A\\\\_DATOS_PYTHON/informes/12162_CRS_04-07-2024_ROCA REYES MARCOS_321.docx',\n",
       " 'C:\\\\Documents\\\\OneDrive - Ingenio Azucarero Guabira S.A\\\\_DATOS_PYTHON/informes/1237_CRS_04-07-2024_BALCAZAR GUTIERREZ JOSE IVER_391.docx',\n",
       " 'C:\\\\Documents\\\\OneDrive - Ingenio Azucarero Guabira S.A\\\\_DATOS_PYTHON/informes/13062_CRS_02-07-2024_SOTO ARCE BACILIO_454.docx',\n",
       " 'C:\\\\Documents\\\\OneDrive - Ingenio Azucarero Guabira S.A\\\\_DATOS_PYTHON/informes/40158_CRS_03-07-2024_GUZMAN CACERES MARIA LOURDES_326.docx',\n",
       " 'C:\\\\Documents\\\\OneDrive - Ingenio Azucarero Guabira S.A\\\\_DATOS_PYTHON/informes/41529_CRS_04-07-2024_ACUÑA CANO VICTORIANO_410.docx',\n",
       " 'C:\\\\Documents\\\\OneDrive - Ingenio Azucarero Guabira S.A\\\\_DATOS_PYTHON/informes/41599_CRS_04-07-2024_LOPEZ TURIHUANO JUAN CARLOS_292.docx',\n",
       " 'C:\\\\Documents\\\\OneDrive - Ingenio Azucarero Guabira S.A\\\\_DATOS_PYTHON/informes/42239_CRS_03-07-2024_CORDOVA OLGUIN LEONARDO_312.docx',\n",
       " 'C:\\\\Documents\\\\OneDrive - Ingenio Azucarero Guabira S.A\\\\_DATOS_PYTHON/informes/5001_CRS_03-07-2024_GUZMAN CACERES ROXANA_313.docx',\n",
       " 'C:\\\\Documents\\\\OneDrive - Ingenio Azucarero Guabira S.A\\\\_DATOS_PYTHON/informes/8684_CRS_01-07-2024_MOLINA PORCEL JUAN CARLOS_428.docx']"
      ]
     },
     "execution_count": 5,
     "metadata": {},
     "output_type": "execute_result"
    }
   ],
   "source": [
    "# colocar aqui la ruta de los archivos\n",
    "path = ruta + r'/informes'\n",
    "contenido = os.listdir(path)\n",
    "rutas =[]\n",
    "i = 0\n",
    "for name in contenido:\n",
    "    rutas.append(path + '/' + name)\n",
    "    i+=1\n",
    "\n",
    "print('SE ENCONTRARON ' + str(i) + ' INFORMES')\n",
    "print(len(rutas), 'INFORMES')\n",
    "rutas"
   ]
  },
  {
   "cell_type": "markdown",
   "id": "6b9af706",
   "metadata": {
    "tags": []
   },
   "source": [
    "# INICIA EL PROCESO DE CONVERCIÓN"
   ]
  },
  {
   "cell_type": "code",
   "execution_count": 6,
   "id": "cdbc481d-e9f8-4a85-946f-4c45abd61e87",
   "metadata": {},
   "outputs": [
    {
     "data": {
      "text/plain": [
       "'C:\\\\Documents\\\\OneDrive - Ingenio Azucarero Guabira S.A\\\\_DATOS_PYTHON/pdf/1237_CRS_04-07-2024_BALCAZAR GUTIERREZ JOSE IVER_391.pdf'"
      ]
     },
     "execution_count": 6,
     "metadata": {},
     "output_type": "execute_result"
    }
   ],
   "source": [
    "rutas[1].replace('.docx','.pdf').replace('informes','pdf')"
   ]
  },
  {
   "cell_type": "code",
   "execution_count": 7,
   "id": "13d4b150-97ec-4f5f-ae67-8494243a499a",
   "metadata": {},
   "outputs": [
    {
     "data": {
      "text/plain": [
       "'C:\\\\Documents\\\\OneDrive - Ingenio Azucarero Guabira S.A\\\\_DATOS_PYTHON/pdf/1237_CRS_04-07-2024_BALCAZAR GUTIERREZ JOSE IVER_391.pdf'"
      ]
     },
     "execution_count": 7,
     "metadata": {},
     "output_type": "execute_result"
    }
   ],
   "source": [
    "rutas[1].replace('.docx','.pdf').replace('informes','pdf')"
   ]
  },
  {
   "cell_type": "code",
   "execution_count": 8,
   "id": "0f018b1e",
   "metadata": {
    "tags": []
   },
   "outputs": [
    {
     "name": "stdout",
     "output_type": "stream",
     "text": [
      "CONVIRTIENDO... INFORME 1 C:\\Documents\\OneDrive - Ingenio Azucarero Guabira S.A\\_DATOS_PYTHON/informes/12162_CRS_04-07-2024_ROCA REYES MARCOS_321.docx\n",
      "C:\\Documents\\OneDrive - Ingenio Azucarero Guabira S.A\\_DATOS_PYTHON/informes/12162_CRS_04-07-2024_ROCA REYES MARCOS_321.docx\n",
      "C:\\Documents\\OneDrive - Ingenio Azucarero Guabira S.A\\_DATOS_PYTHON/pdfs/12162_CRS_04-07-2024_ROCA REYES MARCOS_321.pdf\n"
     ]
    },
    {
     "data": {
      "application/vnd.jupyter.widget-view+json": {
       "model_id": "e82787504e7d4b36ba1dd9b5ea233348",
       "version_major": 2,
       "version_minor": 0
      },
      "text/plain": [
       "  0%|          | 0/1 [00:00<?, ?it/s]"
      ]
     },
     "metadata": {},
     "output_type": "display_data"
    },
    {
     "name": "stdout",
     "output_type": "stream",
     "text": [
      "CONVIRTIENDO... INFORME 2 C:\\Documents\\OneDrive - Ingenio Azucarero Guabira S.A\\_DATOS_PYTHON/informes/1237_CRS_04-07-2024_BALCAZAR GUTIERREZ JOSE IVER_391.docx\n",
      "C:\\Documents\\OneDrive - Ingenio Azucarero Guabira S.A\\_DATOS_PYTHON/informes/1237_CRS_04-07-2024_BALCAZAR GUTIERREZ JOSE IVER_391.docx\n",
      "C:\\Documents\\OneDrive - Ingenio Azucarero Guabira S.A\\_DATOS_PYTHON/pdfs/1237_CRS_04-07-2024_BALCAZAR GUTIERREZ JOSE IVER_391.pdf\n"
     ]
    },
    {
     "data": {
      "application/vnd.jupyter.widget-view+json": {
       "model_id": "a1229410fcf249b48530189302b859b9",
       "version_major": 2,
       "version_minor": 0
      },
      "text/plain": [
       "  0%|          | 0/1 [00:00<?, ?it/s]"
      ]
     },
     "metadata": {},
     "output_type": "display_data"
    },
    {
     "name": "stdout",
     "output_type": "stream",
     "text": [
      "CONVIRTIENDO... INFORME 3 C:\\Documents\\OneDrive - Ingenio Azucarero Guabira S.A\\_DATOS_PYTHON/informes/13062_CRS_02-07-2024_SOTO ARCE BACILIO_454.docx\n",
      "C:\\Documents\\OneDrive - Ingenio Azucarero Guabira S.A\\_DATOS_PYTHON/informes/13062_CRS_02-07-2024_SOTO ARCE BACILIO_454.docx\n",
      "C:\\Documents\\OneDrive - Ingenio Azucarero Guabira S.A\\_DATOS_PYTHON/pdfs/13062_CRS_02-07-2024_SOTO ARCE BACILIO_454.pdf\n"
     ]
    },
    {
     "data": {
      "application/vnd.jupyter.widget-view+json": {
       "model_id": "293e58feccd644b1925da28fbe6fcbd0",
       "version_major": 2,
       "version_minor": 0
      },
      "text/plain": [
       "  0%|          | 0/1 [00:00<?, ?it/s]"
      ]
     },
     "metadata": {},
     "output_type": "display_data"
    },
    {
     "name": "stdout",
     "output_type": "stream",
     "text": [
      "CONVIRTIENDO... INFORME 4 C:\\Documents\\OneDrive - Ingenio Azucarero Guabira S.A\\_DATOS_PYTHON/informes/40158_CRS_03-07-2024_GUZMAN CACERES MARIA LOURDES_326.docx\n",
      "C:\\Documents\\OneDrive - Ingenio Azucarero Guabira S.A\\_DATOS_PYTHON/informes/40158_CRS_03-07-2024_GUZMAN CACERES MARIA LOURDES_326.docx\n",
      "C:\\Documents\\OneDrive - Ingenio Azucarero Guabira S.A\\_DATOS_PYTHON/pdfs/40158_CRS_03-07-2024_GUZMAN CACERES MARIA LOURDES_326.pdf\n"
     ]
    },
    {
     "data": {
      "application/vnd.jupyter.widget-view+json": {
       "model_id": "aaf9a61f6c5c42748e6614b6d1620ad5",
       "version_major": 2,
       "version_minor": 0
      },
      "text/plain": [
       "  0%|          | 0/1 [00:00<?, ?it/s]"
      ]
     },
     "metadata": {},
     "output_type": "display_data"
    },
    {
     "name": "stdout",
     "output_type": "stream",
     "text": [
      "CONVIRTIENDO... INFORME 5 C:\\Documents\\OneDrive - Ingenio Azucarero Guabira S.A\\_DATOS_PYTHON/informes/41529_CRS_04-07-2024_ACUÑA CANO VICTORIANO_410.docx\n",
      "C:\\Documents\\OneDrive - Ingenio Azucarero Guabira S.A\\_DATOS_PYTHON/informes/41529_CRS_04-07-2024_ACUÑA CANO VICTORIANO_410.docx\n",
      "C:\\Documents\\OneDrive - Ingenio Azucarero Guabira S.A\\_DATOS_PYTHON/pdfs/41529_CRS_04-07-2024_ACUÑA CANO VICTORIANO_410.pdf\n"
     ]
    },
    {
     "data": {
      "application/vnd.jupyter.widget-view+json": {
       "model_id": "76ddd0d4a4e7405fb78adc141db46b09",
       "version_major": 2,
       "version_minor": 0
      },
      "text/plain": [
       "  0%|          | 0/1 [00:00<?, ?it/s]"
      ]
     },
     "metadata": {},
     "output_type": "display_data"
    },
    {
     "name": "stdout",
     "output_type": "stream",
     "text": [
      "CONVIRTIENDO... INFORME 6 C:\\Documents\\OneDrive - Ingenio Azucarero Guabira S.A\\_DATOS_PYTHON/informes/41599_CRS_04-07-2024_LOPEZ TURIHUANO JUAN CARLOS_292.docx\n",
      "C:\\Documents\\OneDrive - Ingenio Azucarero Guabira S.A\\_DATOS_PYTHON/informes/41599_CRS_04-07-2024_LOPEZ TURIHUANO JUAN CARLOS_292.docx\n",
      "C:\\Documents\\OneDrive - Ingenio Azucarero Guabira S.A\\_DATOS_PYTHON/pdfs/41599_CRS_04-07-2024_LOPEZ TURIHUANO JUAN CARLOS_292.pdf\n"
     ]
    },
    {
     "data": {
      "application/vnd.jupyter.widget-view+json": {
       "model_id": "8444b26edde9417fa105895516af2b82",
       "version_major": 2,
       "version_minor": 0
      },
      "text/plain": [
       "  0%|          | 0/1 [00:00<?, ?it/s]"
      ]
     },
     "metadata": {},
     "output_type": "display_data"
    },
    {
     "name": "stdout",
     "output_type": "stream",
     "text": [
      "CONVIRTIENDO... INFORME 7 C:\\Documents\\OneDrive - Ingenio Azucarero Guabira S.A\\_DATOS_PYTHON/informes/42239_CRS_03-07-2024_CORDOVA OLGUIN LEONARDO_312.docx\n",
      "C:\\Documents\\OneDrive - Ingenio Azucarero Guabira S.A\\_DATOS_PYTHON/informes/42239_CRS_03-07-2024_CORDOVA OLGUIN LEONARDO_312.docx\n",
      "C:\\Documents\\OneDrive - Ingenio Azucarero Guabira S.A\\_DATOS_PYTHON/pdfs/42239_CRS_03-07-2024_CORDOVA OLGUIN LEONARDO_312.pdf\n"
     ]
    },
    {
     "data": {
      "application/vnd.jupyter.widget-view+json": {
       "model_id": "9f2b136bed494347b09c3788c536ba1b",
       "version_major": 2,
       "version_minor": 0
      },
      "text/plain": [
       "  0%|          | 0/1 [00:00<?, ?it/s]"
      ]
     },
     "metadata": {},
     "output_type": "display_data"
    },
    {
     "name": "stdout",
     "output_type": "stream",
     "text": [
      "CONVIRTIENDO... INFORME 8 C:\\Documents\\OneDrive - Ingenio Azucarero Guabira S.A\\_DATOS_PYTHON/informes/5001_CRS_03-07-2024_GUZMAN CACERES ROXANA_313.docx\n",
      "C:\\Documents\\OneDrive - Ingenio Azucarero Guabira S.A\\_DATOS_PYTHON/informes/5001_CRS_03-07-2024_GUZMAN CACERES ROXANA_313.docx\n",
      "C:\\Documents\\OneDrive - Ingenio Azucarero Guabira S.A\\_DATOS_PYTHON/pdfs/5001_CRS_03-07-2024_GUZMAN CACERES ROXANA_313.pdf\n"
     ]
    },
    {
     "data": {
      "application/vnd.jupyter.widget-view+json": {
       "model_id": "86988f69724d4e02aec7f60d76c5c869",
       "version_major": 2,
       "version_minor": 0
      },
      "text/plain": [
       "  0%|          | 0/1 [00:00<?, ?it/s]"
      ]
     },
     "metadata": {},
     "output_type": "display_data"
    },
    {
     "name": "stdout",
     "output_type": "stream",
     "text": [
      "CONVIRTIENDO... INFORME 9 C:\\Documents\\OneDrive - Ingenio Azucarero Guabira S.A\\_DATOS_PYTHON/informes/8684_CRS_01-07-2024_MOLINA PORCEL JUAN CARLOS_428.docx\n",
      "C:\\Documents\\OneDrive - Ingenio Azucarero Guabira S.A\\_DATOS_PYTHON/informes/8684_CRS_01-07-2024_MOLINA PORCEL JUAN CARLOS_428.docx\n",
      "C:\\Documents\\OneDrive - Ingenio Azucarero Guabira S.A\\_DATOS_PYTHON/pdfs/8684_CRS_01-07-2024_MOLINA PORCEL JUAN CARLOS_428.pdf\n"
     ]
    },
    {
     "data": {
      "application/vnd.jupyter.widget-view+json": {
       "model_id": "10e1c11e396d4f47a94db366e5c5c113",
       "version_major": 2,
       "version_minor": 0
      },
      "text/plain": [
       "  0%|          | 0/1 [00:00<?, ?it/s]"
      ]
     },
     "metadata": {},
     "output_type": "display_data"
    },
    {
     "name": "stdout",
     "output_type": "stream",
     "text": [
      "END\n"
     ]
    }
   ],
   "source": [
    "i = 1\n",
    "for filename in rutas:\n",
    "    print('CONVIRTIENDO... INFORME ' + str(i) + ' ' + filename)\n",
    "    # se realiza la convrsion pasando parametro de salida y entrada, \n",
    "    # para la salida se reemplaza la extencion y la ruta\n",
    "    print(filename)\n",
    "    print(filename.replace('.docx','.pdf').replace('informes','pdfs'))\n",
    "    pdf = filename.replace('.docx','.pdf').replace('informes','pdfs').split('/')[-1]\n",
    "    convert(filename, r'C:\\Users\\bismarksr\\Downloads\\\\' + pdf)\n",
    "    i+=1\n",
    "print('END')"
   ]
  },
  {
   "cell_type": "markdown",
   "id": "455ef654-fe35-492c-8f69-3dc00102b0bb",
   "metadata": {},
   "source": [
    "# Leer archivos"
   ]
  },
  {
   "cell_type": "code",
   "execution_count": 9,
   "id": "df0f066e-d897-4ca6-a8cd-23b40ad41307",
   "metadata": {},
   "outputs": [
    {
     "name": "stdout",
     "output_type": "stream",
     "text": [
      "Your browser has been opened to visit:\n",
      "\n",
      "    https://accounts.google.com/o/oauth2/auth?client_id=1096764895697-57btfmtn7rdejufct5qq4j9mi61j0unl.apps.googleusercontent.com&redirect_uri=http%3A%2F%2Flocalhost%3A8080%2F&scope=https%3A%2F%2Fwww.googleapis.com%2Fauth%2Fdrive&access_type=offline&response_type=code\n",
      "\n",
      "Authentication successful.\n"
     ]
    }
   ],
   "source": [
    "# CONEXION A GOOGLE DRIVE\n",
    "from pydrive.auth import GoogleAuth\n",
    "from pydrive.drive import GoogleDrive\n",
    "gauth = GoogleAuth()\n",
    "gauth.LocalWebserverAuth() # client_secrets.json need to be in the same directory as the script\n",
    "drive = GoogleDrive(gauth)"
   ]
  },
  {
   "cell_type": "code",
   "execution_count": 11,
   "id": "5bc6184d-91a1-42a1-a809-84014f898d43",
   "metadata": {},
   "outputs": [
    {
     "name": "stdout",
     "output_type": "stream",
     "text": [
      "9 informes\n"
     ]
    },
    {
     "data": {
      "text/plain": [
       "{12162: '12162_CRS_04-07-2024_ROCA REYES MARCOS_321.pdf',\n",
       " 1237: '1237_CRS_04-07-2024_BALCAZAR GUTIERREZ JOSE IVER_391.pdf',\n",
       " 13062: '13062_CRS_02-07-2024_SOTO ARCE BACILIO_454.pdf',\n",
       " 40158: '40158_CRS_03-07-2024_GUZMAN CACERES MARIA LOURDES_326.pdf',\n",
       " 41529: '41529_CRS_04-07-2024_ACUÑA CANO VICTORIANO_410.pdf',\n",
       " 41599: '41599_CRS_04-07-2024_LOPEZ TURIHUANO JUAN CARLOS_292.pdf',\n",
       " 42239: '42239_CRS_03-07-2024_CORDOVA OLGUIN LEONARDO_312.pdf',\n",
       " 5001: '5001_CRS_03-07-2024_GUZMAN CACERES ROXANA_313.pdf',\n",
       " 8684: '8684_CRS_01-07-2024_MOLINA PORCEL JUAN CARLOS_428.pdf'}"
      ]
     },
     "execution_count": 11,
     "metadata": {},
     "output_type": "execute_result"
    }
   ],
   "source": [
    "contenido = os.listdir(ruta + r'/pdf')\n",
    "dic_files = {}\n",
    "for file in contenido:\n",
    "    split = file.split('_')\n",
    "    dic_files[int(split[0])] = file\n",
    "print(len(dic_files), 'informes')\n",
    "dic_files"
   ]
  },
  {
   "cell_type": "markdown",
   "id": "68778c6d-31c1-4f6f-880c-5d3f2d04ed17",
   "metadata": {},
   "source": [
    "# CARGAR LOS PDFS A GOOGLE DRIVE"
   ]
  },
  {
   "cell_type": "code",
   "execution_count": 12,
   "id": "aaf8d01b-5324-4b14-a67d-a6162850efa2",
   "metadata": {},
   "outputs": [
    {
     "name": "stdout",
     "output_type": "stream",
     "text": [
      "Created file 12162_CRS_04-07-2024_ROCA REYES MARCOS_321.pdf with mimeType application/pdf\n",
      "Created file 1237_CRS_04-07-2024_BALCAZAR GUTIERREZ JOSE IVER_391.pdf with mimeType application/pdf\n",
      "Created file 13062_CRS_02-07-2024_SOTO ARCE BACILIO_454.pdf with mimeType application/pdf\n",
      "Created file 40158_CRS_03-07-2024_GUZMAN CACERES MARIA LOURDES_326.pdf with mimeType application/pdf\n",
      "Created file 41529_CRS_04-07-2024_ACUÑA CANO VICTORIANO_410.pdf with mimeType application/pdf\n",
      "Created file 41599_CRS_04-07-2024_LOPEZ TURIHUANO JUAN CARLOS_292.pdf with mimeType application/pdf\n",
      "Created file 42239_CRS_03-07-2024_CORDOVA OLGUIN LEONARDO_312.pdf with mimeType application/pdf\n",
      "Created file 5001_CRS_03-07-2024_GUZMAN CACERES ROXANA_313.pdf with mimeType application/pdf\n",
      "Created file 8684_CRS_01-07-2024_MOLINA PORCEL JUAN CARLOS_428.pdf with mimeType application/pdf\n",
      "end\n"
     ]
    }
   ],
   "source": [
    "# CARGAR LOS PDFS A GOOGLE DRIVE\n",
    "dic_urls = {}\n",
    "# View all folders and file in your Google Drive\n",
    "fileList = drive.ListFile({'q': \"'root' in parents and trashed=false\"}).GetList()\n",
    "for file in fileList:\n",
    "  #print('Title: %s, ID: %s' % (file['title'], file['id']))\n",
    "  # Get the folder ID that you want\n",
    "  if(file['title'] == \"3RA_INSPECCION\"):\n",
    "      fileID = file['id']\n",
    "\n",
    "for file in dic_files:\n",
    "    file1 = drive.CreateFile({\"mimeType\": \"application/pdf\", \"parents\": [{\"kind\": \"drive#fileLink\", \"id\": fileID}]})\n",
    "    file1['title'] = dic_files[file]\n",
    "    file1.SetContentFile(ruta + r'/pdf//' + dic_files[file])\n",
    "    file1.Upload() # Upload the file.\n",
    "    print('Created file %s with mimeType %s' % (file1['title'], file1['mimeType']))\n",
    "    permission = file1.InsertPermission({\n",
    "                        'type': 'anyone',\n",
    "                        'value': 'anyone',\n",
    "                        'role': 'reader'})\n",
    "    dic_urls[file] = file1['alternateLink']\n",
    "dic_urls\n",
    "print('end')"
   ]
  },
  {
   "cell_type": "code",
   "execution_count": 13,
   "id": "6aceb417-cee6-413c-917f-f03bcba671b6",
   "metadata": {},
   "outputs": [
    {
     "name": "stdout",
     "output_type": "stream",
     "text": [
      "9 URLs\n"
     ]
    },
    {
     "data": {
      "text/plain": [
       "{12162: 'https://drive.google.com/file/d/1eo1XL66sbFQ_QGVyY9hgj7Fp5k8RDOkV/view?usp=drivesdk',\n",
       " 1237: 'https://drive.google.com/file/d/1NS29r4YZoVRCAjLMHtSli_kYaBAFIEE6/view?usp=drivesdk',\n",
       " 13062: 'https://drive.google.com/file/d/1mGnO6qXGyc9LBFNMqCHu0H5RVPSMKiDB/view?usp=drivesdk',\n",
       " 40158: 'https://drive.google.com/file/d/15cWcKpPzXZz3xhPqnTZQDwpYht4A8dsV/view?usp=drivesdk',\n",
       " 41529: 'https://drive.google.com/file/d/1YCFDoNHCMegcgrEpA_dC9UiwaCOjptZD/view?usp=drivesdk',\n",
       " 41599: 'https://drive.google.com/file/d/14exMbxq8mC0gl3Cp79UKmJ3JfburdNWh/view?usp=drivesdk',\n",
       " 42239: 'https://drive.google.com/file/d/1zlKLfLw93jcbdRGypbfoe2W4M5CMjMq0/view?usp=drivesdk',\n",
       " 5001: 'https://drive.google.com/file/d/1TZ7KTNrGGVcR_6fWeFM35PqqD9OkOq4s/view?usp=drivesdk',\n",
       " 8684: 'https://drive.google.com/file/d/112jH71SVUh7BNA9Z7eztZ6Twva6cjI8z/view?usp=drivesdk'}"
      ]
     },
     "execution_count": 13,
     "metadata": {},
     "output_type": "execute_result"
    }
   ],
   "source": [
    "print(len(dic_urls), 'URLs')\n",
    "dic_urls"
   ]
  },
  {
   "cell_type": "markdown",
   "id": "6063c8ed-d601-4164-9af1-e1c2dbc865d0",
   "metadata": {},
   "source": [
    "# conexion a amigocloud"
   ]
  },
  {
   "cell_type": "code",
   "execution_count": 14,
   "id": "f0d01517-62ff-4a1f-a49b-79646323127e",
   "metadata": {},
   "outputs": [],
   "source": [
    "import sys\n",
    "sys.path.append('../../../_amigocloud')\n",
    "\n",
    "from amigocloud import AmigoCloud"
   ]
  },
  {
   "cell_type": "code",
   "execution_count": 15,
   "id": "fea924a5-9048-42a8-b912-6604dc5b6539",
   "metadata": {},
   "outputs": [
    {
     "data": {
      "text/plain": [
       "<amigocloud.AmigoCloud at 0x17067049d20>"
      ]
     },
     "execution_count": 15,
     "metadata": {},
     "output_type": "execute_result"
    }
   ],
   "source": [
    "# leer token\n",
    "acceso = open(ruta + '/_keys/api_amigocloud.key','r')\n",
    "api_token = acceso.readlines()[0]\n",
    "acceso.close()\n",
    "amigocloud = AmigoCloud(token=api_token)\n",
    "amigocloud"
   ]
  },
  {
   "cell_type": "code",
   "execution_count": 16,
   "id": "6ea99bee-0a6d-48a1-9833-6b8c2a62433a",
   "metadata": {},
   "outputs": [
    {
     "name": "stdout",
     "output_type": "stream",
     "text": [
      "12162\n",
      "1237\n",
      "13062\n",
      "40158\n",
      "41529\n",
      "41599\n",
      "42239\n",
      "5001\n",
      "8684\n",
      "end\n"
     ]
    }
   ],
   "source": [
    "for key in dic_urls:\n",
    "    query = {'query': 'update dataset_307560 set link_doc_3ra = \\'{link}\\' where cast(SPLIT_PART(canhero, \\' / \\', 1) as integer) = \\'{cod}\\''.format(link=dic_urls[key], cod=key)}\n",
    "    res = amigocloud.post('https://app.amigocloud.com/api/v1/projects/32672/sql', query)\n",
    "    print(key)\n",
    "print('end')"
   ]
  }
 ],
 "metadata": {
  "kernelspec": {
   "display_name": "Python 3 (ipykernel)",
   "language": "python",
   "name": "python3"
  },
  "language_info": {
   "codemirror_mode": {
    "name": "ipython",
    "version": 3
   },
   "file_extension": ".py",
   "mimetype": "text/x-python",
   "name": "python",
   "nbconvert_exporter": "python",
   "pygments_lexer": "ipython3",
   "version": "3.10.13"
  }
 },
 "nbformat": 4,
 "nbformat_minor": 5
}
