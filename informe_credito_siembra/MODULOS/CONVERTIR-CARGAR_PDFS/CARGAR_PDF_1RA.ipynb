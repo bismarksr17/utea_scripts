{
 "cells": [
  {
   "cell_type": "markdown",
   "id": "18a80bc5",
   "metadata": {},
   "source": [
    "# INSTALAR LIBRERIAS"
   ]
  },
  {
   "cell_type": "code",
   "execution_count": 3,
   "id": "7e312719",
   "metadata": {},
   "outputs": [],
   "source": [
    "# !pip install docx2pdf\n",
    "#pip install ipywidgets"
   ]
  },
  {
   "cell_type": "markdown",
   "id": "7e934ca6",
   "metadata": {},
   "source": [
    "# IMPORTAR"
   ]
  },
  {
   "cell_type": "code",
   "execution_count": 29,
   "id": "508a28c7",
   "metadata": {},
   "outputs": [],
   "source": [
    "from docx2pdf import convert\n",
    "import os"
   ]
  },
  {
   "cell_type": "markdown",
   "id": "64ec4ba6",
   "metadata": {},
   "source": [
    "# CONSTRUIR LA RUTA DE LOS ARCHIVOS"
   ]
  },
  {
   "cell_type": "code",
   "execution_count": 30,
   "id": "cdd1c78b-ef20-462c-8de1-034c31d4b386",
   "metadata": {},
   "outputs": [],
   "source": [
    "# ruta de carpera donde estan las llaves\n",
    "ruta = open('../../../ruta.txt')\n",
    "ruta = ruta.readlines()[0]"
   ]
  },
  {
   "cell_type": "code",
   "execution_count": 31,
   "id": "1fc560f3",
   "metadata": {},
   "outputs": [
    {
     "name": "stdout",
     "output_type": "stream",
     "text": [
      "SE ENCONTRARON 20 INFORMES\n",
      "20 INFORMES\n"
     ]
    },
    {
     "data": {
      "text/plain": [
       "['C:\\\\Documents\\\\OneDrive - Ingenio Azucarero Guabira S.A\\\\_DATOS_PYTHON/informes/11805_CRS_28-11-2023_RIOJA CABRERA JOSE GROVER.docx',\n",
       " 'C:\\\\Documents\\\\OneDrive - Ingenio Azucarero Guabira S.A\\\\_DATOS_PYTHON/informes/12478_CRS_02-12-2023_SERRATE COLAMARINO HUGO.docx',\n",
       " 'C:\\\\Documents\\\\OneDrive - Ingenio Azucarero Guabira S.A\\\\_DATOS_PYTHON/informes/14117_CRS_29-11-2023_CALLE MIRANDA LIMBER.docx',\n",
       " 'C:\\\\Documents\\\\OneDrive - Ingenio Azucarero Guabira S.A\\\\_DATOS_PYTHON/informes/1580_CRS_30-11-2023_CALLE DELGADO IVER.docx',\n",
       " 'C:\\\\Documents\\\\OneDrive - Ingenio Azucarero Guabira S.A\\\\_DATOS_PYTHON/informes/2029_CRS_30-11-2023_COLAMARINO DI SILVIO ANGELO.docx',\n",
       " 'C:\\\\Documents\\\\OneDrive - Ingenio Azucarero Guabira S.A\\\\_DATOS_PYTHON/informes/2224_CRS_29-11-2023_CRUZ VARGAS WILLY WALDO.docx',\n",
       " 'C:\\\\Documents\\\\OneDrive - Ingenio Azucarero Guabira S.A\\\\_DATOS_PYTHON/informes/2315_CRS_25-11-2023_CORDOVA OLGUIN JUAN CARLOS.docx',\n",
       " 'C:\\\\Documents\\\\OneDrive - Ingenio Azucarero Guabira S.A\\\\_DATOS_PYTHON/informes/2662_CRS_29-11-2023_DON SERAFIN SRL..docx',\n",
       " 'C:\\\\Documents\\\\OneDrive - Ingenio Azucarero Guabira S.A\\\\_DATOS_PYTHON/informes/30907_CRS_29-11-2023_ALVAREZ FUENTES JUAN CARLOS.docx',\n",
       " 'C:\\\\Documents\\\\OneDrive - Ingenio Azucarero Guabira S.A\\\\_DATOS_PYTHON/informes/3414_CRS_29-11-2023_ESPINOZA TERRAZAS SERAFIN.docx',\n",
       " 'C:\\\\Documents\\\\OneDrive - Ingenio Azucarero Guabira S.A\\\\_DATOS_PYTHON/informes/3421_CRS_29-11-2023_ESPINOZA HURTADO ARMANDO.docx',\n",
       " 'C:\\\\Documents\\\\OneDrive - Ingenio Azucarero Guabira S.A\\\\_DATOS_PYTHON/informes/3460_CRS_28-11-2023_ESPINOZA MENDOZA SANTIAGO.docx',\n",
       " 'C:\\\\Documents\\\\OneDrive - Ingenio Azucarero Guabira S.A\\\\_DATOS_PYTHON/informes/3481_CRS_29-11-2023_ESPINOZA MANCILLA REYNALDO.docx',\n",
       " 'C:\\\\Documents\\\\OneDrive - Ingenio Azucarero Guabira S.A\\\\_DATOS_PYTHON/informes/41544_CRS_30-11-2023_AMURRIO TAPIA JOSE LUIS.docx',\n",
       " 'C:\\\\Documents\\\\OneDrive - Ingenio Azucarero Guabira S.A\\\\_DATOS_PYTHON/informes/41562_CRS_30-11-2023_SUAREZ SALAS ERWIN RONALD.docx',\n",
       " 'C:\\\\Documents\\\\OneDrive - Ingenio Azucarero Guabira S.A\\\\_DATOS_PYTHON/informes/42044_CRS_29-11-2023_ESPINOZA MANCILLA WILMA.docx',\n",
       " 'C:\\\\Documents\\\\OneDrive - Ingenio Azucarero Guabira S.A\\\\_DATOS_PYTHON/informes/42131_CRS_28-11-2023_AGROPECUARIA CAMPOAZUL S.R.L..docx',\n",
       " 'C:\\\\Documents\\\\OneDrive - Ingenio Azucarero Guabira S.A\\\\_DATOS_PYTHON/informes/4528_CRS_28-11-2023_GUZMAN ORELLANA GUSTAVO.docx',\n",
       " 'C:\\\\Documents\\\\OneDrive - Ingenio Azucarero Guabira S.A\\\\_DATOS_PYTHON/informes/6578_CRS_28-11-2023_JALDIN ARREDONDO JOSE LUIS.docx',\n",
       " 'C:\\\\Documents\\\\OneDrive - Ingenio Azucarero Guabira S.A\\\\_DATOS_PYTHON/informes/8814_CRS_30-11-2023_MURIALDO MENDEZ WALTER DANIEL.docx']"
      ]
     },
     "execution_count": 31,
     "metadata": {},
     "output_type": "execute_result"
    }
   ],
   "source": [
    "# colocar aqui la ruta de los archivos\n",
    "path = ruta + r'/informes'\n",
    "contenido = os.listdir(path)\n",
    "rutas =[]\n",
    "i = 0\n",
    "for name in contenido:\n",
    "    rutas.append(path + '/' + name)\n",
    "    i+=1\n",
    "\n",
    "print('SE ENCONTRARON ' + str(i) + ' INFORMES')\n",
    "print(len(rutas), 'INFORMES')\n",
    "rutas"
   ]
  },
  {
   "cell_type": "markdown",
   "id": "6b9af706",
   "metadata": {
    "tags": []
   },
   "source": [
    "# INICIA EL PROCESO DE CONVERCIÓN"
   ]
  },
  {
   "cell_type": "code",
   "execution_count": 32,
   "id": "cdbc481d-e9f8-4a85-946f-4c45abd61e87",
   "metadata": {},
   "outputs": [
    {
     "data": {
      "text/plain": [
       "'C:\\\\Documents\\\\OneDrive - Ingenio Azucarero Guabira S.A\\\\_DATOS_PYTHON/pdf/12478_CRS_02-12-2023_SERRATE COLAMARINO HUGO.pdf'"
      ]
     },
     "execution_count": 32,
     "metadata": {},
     "output_type": "execute_result"
    }
   ],
   "source": [
    "rutas[1].replace('.docx','.pdf').replace('informes','pdf')"
   ]
  },
  {
   "cell_type": "code",
   "execution_count": 33,
   "id": "13d4b150-97ec-4f5f-ae67-8494243a499a",
   "metadata": {},
   "outputs": [
    {
     "data": {
      "text/plain": [
       "'C:\\\\Documents\\\\OneDrive - Ingenio Azucarero Guabira S.A\\\\_DATOS_PYTHON/pdf/12478_CRS_02-12-2023_SERRATE COLAMARINO HUGO.pdf'"
      ]
     },
     "execution_count": 33,
     "metadata": {},
     "output_type": "execute_result"
    }
   ],
   "source": [
    "rutas[1].replace('.docx','.pdf').replace('informes','pdf')"
   ]
  },
  {
   "cell_type": "code",
   "execution_count": 34,
   "id": "0f018b1e",
   "metadata": {
    "tags": []
   },
   "outputs": [
    {
     "name": "stdout",
     "output_type": "stream",
     "text": [
      "CONVIRTIENDO... INFORME 1 C:\\Documents\\OneDrive - Ingenio Azucarero Guabira S.A\\_DATOS_PYTHON/informes/11805_CRS_28-11-2023_RIOJA CABRERA JOSE GROVER.docx\n",
      "C:\\Documents\\OneDrive - Ingenio Azucarero Guabira S.A\\_DATOS_PYTHON/informes/11805_CRS_28-11-2023_RIOJA CABRERA JOSE GROVER.docx\n",
      "C:\\Documents\\OneDrive - Ingenio Azucarero Guabira S.A\\_DATOS_PYTHON/pdfs/11805_CRS_28-11-2023_RIOJA CABRERA JOSE GROVER.pdf\n"
     ]
    },
    {
     "data": {
      "application/vnd.jupyter.widget-view+json": {
       "model_id": "f8596efb8a8c4a04b6b86fcafcbb513e",
       "version_major": 2,
       "version_minor": 0
      },
      "text/plain": [
       "  0%|          | 0/1 [00:00<?, ?it/s]"
      ]
     },
     "metadata": {},
     "output_type": "display_data"
    },
    {
     "name": "stdout",
     "output_type": "stream",
     "text": [
      "CONVIRTIENDO... INFORME 2 C:\\Documents\\OneDrive - Ingenio Azucarero Guabira S.A\\_DATOS_PYTHON/informes/12478_CRS_02-12-2023_SERRATE COLAMARINO HUGO.docx\n",
      "C:\\Documents\\OneDrive - Ingenio Azucarero Guabira S.A\\_DATOS_PYTHON/informes/12478_CRS_02-12-2023_SERRATE COLAMARINO HUGO.docx\n",
      "C:\\Documents\\OneDrive - Ingenio Azucarero Guabira S.A\\_DATOS_PYTHON/pdfs/12478_CRS_02-12-2023_SERRATE COLAMARINO HUGO.pdf\n"
     ]
    },
    {
     "data": {
      "application/vnd.jupyter.widget-view+json": {
       "model_id": "b254b93d609d4bccbc8c51b7bd83badb",
       "version_major": 2,
       "version_minor": 0
      },
      "text/plain": [
       "  0%|          | 0/1 [00:00<?, ?it/s]"
      ]
     },
     "metadata": {},
     "output_type": "display_data"
    },
    {
     "name": "stdout",
     "output_type": "stream",
     "text": [
      "CONVIRTIENDO... INFORME 3 C:\\Documents\\OneDrive - Ingenio Azucarero Guabira S.A\\_DATOS_PYTHON/informes/14117_CRS_29-11-2023_CALLE MIRANDA LIMBER.docx\n",
      "C:\\Documents\\OneDrive - Ingenio Azucarero Guabira S.A\\_DATOS_PYTHON/informes/14117_CRS_29-11-2023_CALLE MIRANDA LIMBER.docx\n",
      "C:\\Documents\\OneDrive - Ingenio Azucarero Guabira S.A\\_DATOS_PYTHON/pdfs/14117_CRS_29-11-2023_CALLE MIRANDA LIMBER.pdf\n"
     ]
    },
    {
     "data": {
      "application/vnd.jupyter.widget-view+json": {
       "model_id": "11f89f6508bf4690ac43d6507d66d062",
       "version_major": 2,
       "version_minor": 0
      },
      "text/plain": [
       "  0%|          | 0/1 [00:00<?, ?it/s]"
      ]
     },
     "metadata": {},
     "output_type": "display_data"
    },
    {
     "name": "stdout",
     "output_type": "stream",
     "text": [
      "CONVIRTIENDO... INFORME 4 C:\\Documents\\OneDrive - Ingenio Azucarero Guabira S.A\\_DATOS_PYTHON/informes/1580_CRS_30-11-2023_CALLE DELGADO IVER.docx\n",
      "C:\\Documents\\OneDrive - Ingenio Azucarero Guabira S.A\\_DATOS_PYTHON/informes/1580_CRS_30-11-2023_CALLE DELGADO IVER.docx\n",
      "C:\\Documents\\OneDrive - Ingenio Azucarero Guabira S.A\\_DATOS_PYTHON/pdfs/1580_CRS_30-11-2023_CALLE DELGADO IVER.pdf\n"
     ]
    },
    {
     "data": {
      "application/vnd.jupyter.widget-view+json": {
       "model_id": "dbb29d32f65547c7af1b82a3a02fd837",
       "version_major": 2,
       "version_minor": 0
      },
      "text/plain": [
       "  0%|          | 0/1 [00:00<?, ?it/s]"
      ]
     },
     "metadata": {},
     "output_type": "display_data"
    },
    {
     "name": "stdout",
     "output_type": "stream",
     "text": [
      "CONVIRTIENDO... INFORME 5 C:\\Documents\\OneDrive - Ingenio Azucarero Guabira S.A\\_DATOS_PYTHON/informes/2029_CRS_30-11-2023_COLAMARINO DI SILVIO ANGELO.docx\n",
      "C:\\Documents\\OneDrive - Ingenio Azucarero Guabira S.A\\_DATOS_PYTHON/informes/2029_CRS_30-11-2023_COLAMARINO DI SILVIO ANGELO.docx\n",
      "C:\\Documents\\OneDrive - Ingenio Azucarero Guabira S.A\\_DATOS_PYTHON/pdfs/2029_CRS_30-11-2023_COLAMARINO DI SILVIO ANGELO.pdf\n"
     ]
    },
    {
     "data": {
      "application/vnd.jupyter.widget-view+json": {
       "model_id": "68ba44c979f044c385c3a276dcb0e79f",
       "version_major": 2,
       "version_minor": 0
      },
      "text/plain": [
       "  0%|          | 0/1 [00:00<?, ?it/s]"
      ]
     },
     "metadata": {},
     "output_type": "display_data"
    },
    {
     "name": "stdout",
     "output_type": "stream",
     "text": [
      "CONVIRTIENDO... INFORME 6 C:\\Documents\\OneDrive - Ingenio Azucarero Guabira S.A\\_DATOS_PYTHON/informes/2224_CRS_29-11-2023_CRUZ VARGAS WILLY WALDO.docx\n",
      "C:\\Documents\\OneDrive - Ingenio Azucarero Guabira S.A\\_DATOS_PYTHON/informes/2224_CRS_29-11-2023_CRUZ VARGAS WILLY WALDO.docx\n",
      "C:\\Documents\\OneDrive - Ingenio Azucarero Guabira S.A\\_DATOS_PYTHON/pdfs/2224_CRS_29-11-2023_CRUZ VARGAS WILLY WALDO.pdf\n"
     ]
    },
    {
     "data": {
      "application/vnd.jupyter.widget-view+json": {
       "model_id": "6d729ba4107b48f7b4d6503cd00bd877",
       "version_major": 2,
       "version_minor": 0
      },
      "text/plain": [
       "  0%|          | 0/1 [00:00<?, ?it/s]"
      ]
     },
     "metadata": {},
     "output_type": "display_data"
    },
    {
     "name": "stdout",
     "output_type": "stream",
     "text": [
      "CONVIRTIENDO... INFORME 7 C:\\Documents\\OneDrive - Ingenio Azucarero Guabira S.A\\_DATOS_PYTHON/informes/2315_CRS_25-11-2023_CORDOVA OLGUIN JUAN CARLOS.docx\n",
      "C:\\Documents\\OneDrive - Ingenio Azucarero Guabira S.A\\_DATOS_PYTHON/informes/2315_CRS_25-11-2023_CORDOVA OLGUIN JUAN CARLOS.docx\n",
      "C:\\Documents\\OneDrive - Ingenio Azucarero Guabira S.A\\_DATOS_PYTHON/pdfs/2315_CRS_25-11-2023_CORDOVA OLGUIN JUAN CARLOS.pdf\n"
     ]
    },
    {
     "data": {
      "application/vnd.jupyter.widget-view+json": {
       "model_id": "8398576957ba4f048e679fb074f560ea",
       "version_major": 2,
       "version_minor": 0
      },
      "text/plain": [
       "  0%|          | 0/1 [00:00<?, ?it/s]"
      ]
     },
     "metadata": {},
     "output_type": "display_data"
    },
    {
     "name": "stdout",
     "output_type": "stream",
     "text": [
      "CONVIRTIENDO... INFORME 8 C:\\Documents\\OneDrive - Ingenio Azucarero Guabira S.A\\_DATOS_PYTHON/informes/2662_CRS_29-11-2023_DON SERAFIN SRL..docx\n",
      "C:\\Documents\\OneDrive - Ingenio Azucarero Guabira S.A\\_DATOS_PYTHON/informes/2662_CRS_29-11-2023_DON SERAFIN SRL..docx\n",
      "C:\\Documents\\OneDrive - Ingenio Azucarero Guabira S.A\\_DATOS_PYTHON/pdfs/2662_CRS_29-11-2023_DON SERAFIN SRL..pdf\n"
     ]
    },
    {
     "data": {
      "application/vnd.jupyter.widget-view+json": {
       "model_id": "6600da09979b42f7b01cf7f9a2822713",
       "version_major": 2,
       "version_minor": 0
      },
      "text/plain": [
       "  0%|          | 0/1 [00:00<?, ?it/s]"
      ]
     },
     "metadata": {},
     "output_type": "display_data"
    },
    {
     "name": "stdout",
     "output_type": "stream",
     "text": [
      "CONVIRTIENDO... INFORME 9 C:\\Documents\\OneDrive - Ingenio Azucarero Guabira S.A\\_DATOS_PYTHON/informes/30907_CRS_29-11-2023_ALVAREZ FUENTES JUAN CARLOS.docx\n",
      "C:\\Documents\\OneDrive - Ingenio Azucarero Guabira S.A\\_DATOS_PYTHON/informes/30907_CRS_29-11-2023_ALVAREZ FUENTES JUAN CARLOS.docx\n",
      "C:\\Documents\\OneDrive - Ingenio Azucarero Guabira S.A\\_DATOS_PYTHON/pdfs/30907_CRS_29-11-2023_ALVAREZ FUENTES JUAN CARLOS.pdf\n"
     ]
    },
    {
     "data": {
      "application/vnd.jupyter.widget-view+json": {
       "model_id": "a617cae7b0f640c5b330f318040b0efe",
       "version_major": 2,
       "version_minor": 0
      },
      "text/plain": [
       "  0%|          | 0/1 [00:00<?, ?it/s]"
      ]
     },
     "metadata": {},
     "output_type": "display_data"
    },
    {
     "name": "stdout",
     "output_type": "stream",
     "text": [
      "CONVIRTIENDO... INFORME 10 C:\\Documents\\OneDrive - Ingenio Azucarero Guabira S.A\\_DATOS_PYTHON/informes/3414_CRS_29-11-2023_ESPINOZA TERRAZAS SERAFIN.docx\n",
      "C:\\Documents\\OneDrive - Ingenio Azucarero Guabira S.A\\_DATOS_PYTHON/informes/3414_CRS_29-11-2023_ESPINOZA TERRAZAS SERAFIN.docx\n",
      "C:\\Documents\\OneDrive - Ingenio Azucarero Guabira S.A\\_DATOS_PYTHON/pdfs/3414_CRS_29-11-2023_ESPINOZA TERRAZAS SERAFIN.pdf\n"
     ]
    },
    {
     "data": {
      "application/vnd.jupyter.widget-view+json": {
       "model_id": "c0377e6982e14f2282c4b04feed5a71b",
       "version_major": 2,
       "version_minor": 0
      },
      "text/plain": [
       "  0%|          | 0/1 [00:00<?, ?it/s]"
      ]
     },
     "metadata": {},
     "output_type": "display_data"
    },
    {
     "name": "stdout",
     "output_type": "stream",
     "text": [
      "CONVIRTIENDO... INFORME 11 C:\\Documents\\OneDrive - Ingenio Azucarero Guabira S.A\\_DATOS_PYTHON/informes/3421_CRS_29-11-2023_ESPINOZA HURTADO ARMANDO.docx\n",
      "C:\\Documents\\OneDrive - Ingenio Azucarero Guabira S.A\\_DATOS_PYTHON/informes/3421_CRS_29-11-2023_ESPINOZA HURTADO ARMANDO.docx\n",
      "C:\\Documents\\OneDrive - Ingenio Azucarero Guabira S.A\\_DATOS_PYTHON/pdfs/3421_CRS_29-11-2023_ESPINOZA HURTADO ARMANDO.pdf\n"
     ]
    },
    {
     "data": {
      "application/vnd.jupyter.widget-view+json": {
       "model_id": "47a920618de640929eaed7ecb8e32102",
       "version_major": 2,
       "version_minor": 0
      },
      "text/plain": [
       "  0%|          | 0/1 [00:00<?, ?it/s]"
      ]
     },
     "metadata": {},
     "output_type": "display_data"
    },
    {
     "name": "stdout",
     "output_type": "stream",
     "text": [
      "CONVIRTIENDO... INFORME 12 C:\\Documents\\OneDrive - Ingenio Azucarero Guabira S.A\\_DATOS_PYTHON/informes/3460_CRS_28-11-2023_ESPINOZA MENDOZA SANTIAGO.docx\n",
      "C:\\Documents\\OneDrive - Ingenio Azucarero Guabira S.A\\_DATOS_PYTHON/informes/3460_CRS_28-11-2023_ESPINOZA MENDOZA SANTIAGO.docx\n",
      "C:\\Documents\\OneDrive - Ingenio Azucarero Guabira S.A\\_DATOS_PYTHON/pdfs/3460_CRS_28-11-2023_ESPINOZA MENDOZA SANTIAGO.pdf\n"
     ]
    },
    {
     "data": {
      "application/vnd.jupyter.widget-view+json": {
       "model_id": "0357f392c5db4cc0843cbeb31b703aad",
       "version_major": 2,
       "version_minor": 0
      },
      "text/plain": [
       "  0%|          | 0/1 [00:00<?, ?it/s]"
      ]
     },
     "metadata": {},
     "output_type": "display_data"
    },
    {
     "name": "stdout",
     "output_type": "stream",
     "text": [
      "CONVIRTIENDO... INFORME 13 C:\\Documents\\OneDrive - Ingenio Azucarero Guabira S.A\\_DATOS_PYTHON/informes/3481_CRS_29-11-2023_ESPINOZA MANCILLA REYNALDO.docx\n",
      "C:\\Documents\\OneDrive - Ingenio Azucarero Guabira S.A\\_DATOS_PYTHON/informes/3481_CRS_29-11-2023_ESPINOZA MANCILLA REYNALDO.docx\n",
      "C:\\Documents\\OneDrive - Ingenio Azucarero Guabira S.A\\_DATOS_PYTHON/pdfs/3481_CRS_29-11-2023_ESPINOZA MANCILLA REYNALDO.pdf\n"
     ]
    },
    {
     "data": {
      "application/vnd.jupyter.widget-view+json": {
       "model_id": "8306da5e67e749a8a748ff7bd59b7c7e",
       "version_major": 2,
       "version_minor": 0
      },
      "text/plain": [
       "  0%|          | 0/1 [00:00<?, ?it/s]"
      ]
     },
     "metadata": {},
     "output_type": "display_data"
    },
    {
     "name": "stdout",
     "output_type": "stream",
     "text": [
      "CONVIRTIENDO... INFORME 14 C:\\Documents\\OneDrive - Ingenio Azucarero Guabira S.A\\_DATOS_PYTHON/informes/41544_CRS_30-11-2023_AMURRIO TAPIA JOSE LUIS.docx\n",
      "C:\\Documents\\OneDrive - Ingenio Azucarero Guabira S.A\\_DATOS_PYTHON/informes/41544_CRS_30-11-2023_AMURRIO TAPIA JOSE LUIS.docx\n",
      "C:\\Documents\\OneDrive - Ingenio Azucarero Guabira S.A\\_DATOS_PYTHON/pdfs/41544_CRS_30-11-2023_AMURRIO TAPIA JOSE LUIS.pdf\n"
     ]
    },
    {
     "data": {
      "application/vnd.jupyter.widget-view+json": {
       "model_id": "a9178097904b4763a4784fd4f1a667ee",
       "version_major": 2,
       "version_minor": 0
      },
      "text/plain": [
       "  0%|          | 0/1 [00:00<?, ?it/s]"
      ]
     },
     "metadata": {},
     "output_type": "display_data"
    },
    {
     "name": "stdout",
     "output_type": "stream",
     "text": [
      "CONVIRTIENDO... INFORME 15 C:\\Documents\\OneDrive - Ingenio Azucarero Guabira S.A\\_DATOS_PYTHON/informes/41562_CRS_30-11-2023_SUAREZ SALAS ERWIN RONALD.docx\n",
      "C:\\Documents\\OneDrive - Ingenio Azucarero Guabira S.A\\_DATOS_PYTHON/informes/41562_CRS_30-11-2023_SUAREZ SALAS ERWIN RONALD.docx\n",
      "C:\\Documents\\OneDrive - Ingenio Azucarero Guabira S.A\\_DATOS_PYTHON/pdfs/41562_CRS_30-11-2023_SUAREZ SALAS ERWIN RONALD.pdf\n"
     ]
    },
    {
     "data": {
      "application/vnd.jupyter.widget-view+json": {
       "model_id": "1fc2c244bfc64b469b2e300dd9f42ece",
       "version_major": 2,
       "version_minor": 0
      },
      "text/plain": [
       "  0%|          | 0/1 [00:00<?, ?it/s]"
      ]
     },
     "metadata": {},
     "output_type": "display_data"
    },
    {
     "name": "stdout",
     "output_type": "stream",
     "text": [
      "CONVIRTIENDO... INFORME 16 C:\\Documents\\OneDrive - Ingenio Azucarero Guabira S.A\\_DATOS_PYTHON/informes/42044_CRS_29-11-2023_ESPINOZA MANCILLA WILMA.docx\n",
      "C:\\Documents\\OneDrive - Ingenio Azucarero Guabira S.A\\_DATOS_PYTHON/informes/42044_CRS_29-11-2023_ESPINOZA MANCILLA WILMA.docx\n",
      "C:\\Documents\\OneDrive - Ingenio Azucarero Guabira S.A\\_DATOS_PYTHON/pdfs/42044_CRS_29-11-2023_ESPINOZA MANCILLA WILMA.pdf\n"
     ]
    },
    {
     "data": {
      "application/vnd.jupyter.widget-view+json": {
       "model_id": "6f97e6005ea541429b8242713813b912",
       "version_major": 2,
       "version_minor": 0
      },
      "text/plain": [
       "  0%|          | 0/1 [00:00<?, ?it/s]"
      ]
     },
     "metadata": {},
     "output_type": "display_data"
    },
    {
     "name": "stdout",
     "output_type": "stream",
     "text": [
      "CONVIRTIENDO... INFORME 17 C:\\Documents\\OneDrive - Ingenio Azucarero Guabira S.A\\_DATOS_PYTHON/informes/42131_CRS_28-11-2023_AGROPECUARIA CAMPOAZUL S.R.L..docx\n",
      "C:\\Documents\\OneDrive - Ingenio Azucarero Guabira S.A\\_DATOS_PYTHON/informes/42131_CRS_28-11-2023_AGROPECUARIA CAMPOAZUL S.R.L..docx\n",
      "C:\\Documents\\OneDrive - Ingenio Azucarero Guabira S.A\\_DATOS_PYTHON/pdfs/42131_CRS_28-11-2023_AGROPECUARIA CAMPOAZUL S.R.L..pdf\n"
     ]
    },
    {
     "data": {
      "application/vnd.jupyter.widget-view+json": {
       "model_id": "3e0f73be3af44acda1e408d765474d4e",
       "version_major": 2,
       "version_minor": 0
      },
      "text/plain": [
       "  0%|          | 0/1 [00:00<?, ?it/s]"
      ]
     },
     "metadata": {},
     "output_type": "display_data"
    },
    {
     "name": "stdout",
     "output_type": "stream",
     "text": [
      "CONVIRTIENDO... INFORME 18 C:\\Documents\\OneDrive - Ingenio Azucarero Guabira S.A\\_DATOS_PYTHON/informes/4528_CRS_28-11-2023_GUZMAN ORELLANA GUSTAVO.docx\n",
      "C:\\Documents\\OneDrive - Ingenio Azucarero Guabira S.A\\_DATOS_PYTHON/informes/4528_CRS_28-11-2023_GUZMAN ORELLANA GUSTAVO.docx\n",
      "C:\\Documents\\OneDrive - Ingenio Azucarero Guabira S.A\\_DATOS_PYTHON/pdfs/4528_CRS_28-11-2023_GUZMAN ORELLANA GUSTAVO.pdf\n"
     ]
    },
    {
     "data": {
      "application/vnd.jupyter.widget-view+json": {
       "model_id": "8a51b7d688a74cb6bdad587a91aa94f8",
       "version_major": 2,
       "version_minor": 0
      },
      "text/plain": [
       "  0%|          | 0/1 [00:00<?, ?it/s]"
      ]
     },
     "metadata": {},
     "output_type": "display_data"
    },
    {
     "name": "stdout",
     "output_type": "stream",
     "text": [
      "CONVIRTIENDO... INFORME 19 C:\\Documents\\OneDrive - Ingenio Azucarero Guabira S.A\\_DATOS_PYTHON/informes/6578_CRS_28-11-2023_JALDIN ARREDONDO JOSE LUIS.docx\n",
      "C:\\Documents\\OneDrive - Ingenio Azucarero Guabira S.A\\_DATOS_PYTHON/informes/6578_CRS_28-11-2023_JALDIN ARREDONDO JOSE LUIS.docx\n",
      "C:\\Documents\\OneDrive - Ingenio Azucarero Guabira S.A\\_DATOS_PYTHON/pdfs/6578_CRS_28-11-2023_JALDIN ARREDONDO JOSE LUIS.pdf\n"
     ]
    },
    {
     "data": {
      "application/vnd.jupyter.widget-view+json": {
       "model_id": "23c955114f044cb188c75b1dc449fa3e",
       "version_major": 2,
       "version_minor": 0
      },
      "text/plain": [
       "  0%|          | 0/1 [00:00<?, ?it/s]"
      ]
     },
     "metadata": {},
     "output_type": "display_data"
    },
    {
     "name": "stdout",
     "output_type": "stream",
     "text": [
      "CONVIRTIENDO... INFORME 20 C:\\Documents\\OneDrive - Ingenio Azucarero Guabira S.A\\_DATOS_PYTHON/informes/8814_CRS_30-11-2023_MURIALDO MENDEZ WALTER DANIEL.docx\n",
      "C:\\Documents\\OneDrive - Ingenio Azucarero Guabira S.A\\_DATOS_PYTHON/informes/8814_CRS_30-11-2023_MURIALDO MENDEZ WALTER DANIEL.docx\n",
      "C:\\Documents\\OneDrive - Ingenio Azucarero Guabira S.A\\_DATOS_PYTHON/pdfs/8814_CRS_30-11-2023_MURIALDO MENDEZ WALTER DANIEL.pdf\n"
     ]
    },
    {
     "data": {
      "application/vnd.jupyter.widget-view+json": {
       "model_id": "169f0ca4e8c74a70986703d1172b68c5",
       "version_major": 2,
       "version_minor": 0
      },
      "text/plain": [
       "  0%|          | 0/1 [00:00<?, ?it/s]"
      ]
     },
     "metadata": {},
     "output_type": "display_data"
    },
    {
     "name": "stdout",
     "output_type": "stream",
     "text": [
      "END\n"
     ]
    }
   ],
   "source": [
    "i = 1\n",
    "for filename in rutas:\n",
    "    print('CONVIRTIENDO... INFORME ' + str(i) + ' ' + filename)\n",
    "    # se realiza la convrsion pasando parametro de salida y entrada, \n",
    "    # para la salida se reemplaza la extencion y la ruta\n",
    "    print(filename)\n",
    "    print(filename.replace('.docx','.pdf').replace('informes','pdfs'))\n",
    "    pdf = filename.replace('.docx','.pdf').replace('informes','pdfs').split('/')[-1]\n",
    "    convert(filename, r'C:\\Users\\bismarksr\\Downloads\\\\' + pdf)\n",
    "    i+=1\n",
    "print('END')"
   ]
  },
  {
   "cell_type": "markdown",
   "id": "455ef654-fe35-492c-8f69-3dc00102b0bb",
   "metadata": {},
   "source": [
    "# Leer archivos"
   ]
  },
  {
   "cell_type": "code",
   "execution_count": 5,
   "id": "df0f066e-d897-4ca6-a8cd-23b40ad41307",
   "metadata": {},
   "outputs": [
    {
     "name": "stdout",
     "output_type": "stream",
     "text": [
      "Your browser has been opened to visit:\n",
      "\n",
      "    https://accounts.google.com/o/oauth2/auth?client_id=1096764895697-57btfmtn7rdejufct5qq4j9mi61j0unl.apps.googleusercontent.com&redirect_uri=http%3A%2F%2Flocalhost%3A8080%2F&scope=https%3A%2F%2Fwww.googleapis.com%2Fauth%2Fdrive&access_type=offline&response_type=code\n",
      "\n",
      "Authentication successful.\n"
     ]
    }
   ],
   "source": [
    "# CONEXION A GOOGLE DRIVE\n",
    "from pydrive.auth import GoogleAuth\n",
    "from pydrive.drive import GoogleDrive\n",
    "gauth = GoogleAuth()\n",
    "gauth.LocalWebserverAuth() # client_secrets.json need to be in the same directory as the script\n",
    "drive = GoogleDrive(gauth)"
   ]
  },
  {
   "cell_type": "code",
   "execution_count": 6,
   "id": "5bc6184d-91a1-42a1-a809-84014f898d43",
   "metadata": {},
   "outputs": [
    {
     "name": "stdout",
     "output_type": "stream",
     "text": [
      "20 informes\n"
     ]
    },
    {
     "data": {
      "text/plain": [
       "{11805: '11805_CRS_28-11-2023_RIOJA CABRERA JOSE GROVER.pdf',\n",
       " 12478: '12478_CRS_02-12-2023_SERRATE COLAMARINO HUGO.pdf',\n",
       " 14117: '14117_CRS_29-11-2023_CALLE MIRANDA LIMBER.pdf',\n",
       " 1580: '1580_CRS_30-11-2023_CALLE DELGADO IVER.pdf',\n",
       " 2029: '2029_CRS_30-11-2023_COLAMARINO DI SILVIO ANGELO.pdf',\n",
       " 2224: '2224_CRS_29-11-2023_CRUZ VARGAS WILLY WALDO.pdf',\n",
       " 2315: '2315_CRS_25-11-2023_CORDOVA OLGUIN JUAN CARLOS.pdf',\n",
       " 2662: '2662_CRS_29-11-2023_DON SERAFIN SRL..pdf',\n",
       " 30907: '30907_CRS_29-11-2023_ALVAREZ FUENTES JUAN CARLOS.pdf',\n",
       " 3414: '3414_CRS_29-11-2023_ESPINOZA TERRAZAS SERAFIN.pdf',\n",
       " 3421: '3421_CRS_29-11-2023_ESPINOZA HURTADO ARMANDO.pdf',\n",
       " 3460: '3460_CRS_28-11-2023_ESPINOZA MENDOZA SANTIAGO.pdf',\n",
       " 3481: '3481_CRS_29-11-2023_ESPINOZA MANCILLA REYNALDO.pdf',\n",
       " 41544: '41544_CRS_30-11-2023_AMURRIO TAPIA JOSE LUIS.pdf',\n",
       " 41562: '41562_CRS_30-11-2023_SUAREZ SALAS ERWIN RONALD.pdf',\n",
       " 42044: '42044_CRS_29-11-2023_ESPINOZA MANCILLA WILMA.pdf',\n",
       " 42131: '42131_CRS_28-11-2023_AGROPECUARIA CAMPOAZUL S.R.L..pdf',\n",
       " 4528: '4528_CRS_28-11-2023_GUZMAN ORELLANA GUSTAVO.pdf',\n",
       " 6578: '6578_CRS_28-11-2023_JALDIN ARREDONDO JOSE LUIS.pdf',\n",
       " 8814: '8814_CRS_30-11-2023_MURIALDO MENDEZ WALTER DANIEL.pdf'}"
      ]
     },
     "execution_count": 6,
     "metadata": {},
     "output_type": "execute_result"
    }
   ],
   "source": [
    "contenido = os.listdir(ruta + r'/pdf')\n",
    "dic_files = {}\n",
    "for file in contenido:\n",
    "    split = file.split('_')\n",
    "    dic_files[int(split[0])] = file\n",
    "print(len(dic_files), 'informes')\n",
    "dic_files"
   ]
  },
  {
   "cell_type": "markdown",
   "id": "68778c6d-31c1-4f6f-880c-5d3f2d04ed17",
   "metadata": {},
   "source": [
    "# CARGAR LOS PDFS A GOOGLE DRIVE"
   ]
  },
  {
   "cell_type": "code",
   "execution_count": 7,
   "id": "aaf8d01b-5324-4b14-a67d-a6162850efa2",
   "metadata": {},
   "outputs": [
    {
     "name": "stdout",
     "output_type": "stream",
     "text": [
      "Created file 11805_CRS_28-11-2023_RIOJA CABRERA JOSE GROVER.pdf with mimeType application/pdf\n",
      "Created file 12478_CRS_02-12-2023_SERRATE COLAMARINO HUGO.pdf with mimeType application/pdf\n",
      "Created file 14117_CRS_29-11-2023_CALLE MIRANDA LIMBER.pdf with mimeType application/pdf\n",
      "Created file 1580_CRS_30-11-2023_CALLE DELGADO IVER.pdf with mimeType application/pdf\n",
      "Created file 2029_CRS_30-11-2023_COLAMARINO DI SILVIO ANGELO.pdf with mimeType application/pdf\n",
      "Created file 2224_CRS_29-11-2023_CRUZ VARGAS WILLY WALDO.pdf with mimeType application/pdf\n",
      "Created file 2315_CRS_25-11-2023_CORDOVA OLGUIN JUAN CARLOS.pdf with mimeType application/pdf\n",
      "Created file 2662_CRS_29-11-2023_DON SERAFIN SRL..pdf with mimeType application/pdf\n",
      "Created file 30907_CRS_29-11-2023_ALVAREZ FUENTES JUAN CARLOS.pdf with mimeType application/pdf\n",
      "Created file 3414_CRS_29-11-2023_ESPINOZA TERRAZAS SERAFIN.pdf with mimeType application/pdf\n",
      "Created file 3421_CRS_29-11-2023_ESPINOZA HURTADO ARMANDO.pdf with mimeType application/pdf\n",
      "Created file 3460_CRS_28-11-2023_ESPINOZA MENDOZA SANTIAGO.pdf with mimeType application/pdf\n",
      "Created file 3481_CRS_29-11-2023_ESPINOZA MANCILLA REYNALDO.pdf with mimeType application/pdf\n",
      "Created file 41544_CRS_30-11-2023_AMURRIO TAPIA JOSE LUIS.pdf with mimeType application/pdf\n",
      "Created file 41562_CRS_30-11-2023_SUAREZ SALAS ERWIN RONALD.pdf with mimeType application/pdf\n",
      "Created file 42044_CRS_29-11-2023_ESPINOZA MANCILLA WILMA.pdf with mimeType application/pdf\n",
      "Created file 42131_CRS_28-11-2023_AGROPECUARIA CAMPOAZUL S.R.L..pdf with mimeType application/pdf\n",
      "Created file 4528_CRS_28-11-2023_GUZMAN ORELLANA GUSTAVO.pdf with mimeType application/pdf\n",
      "Created file 6578_CRS_28-11-2023_JALDIN ARREDONDO JOSE LUIS.pdf with mimeType application/pdf\n",
      "Created file 8814_CRS_30-11-2023_MURIALDO MENDEZ WALTER DANIEL.pdf with mimeType application/pdf\n",
      "end\n"
     ]
    }
   ],
   "source": [
    "# CARGAR LOS PDFS A GOOGLE DRIVE\n",
    "dic_urls = {}\n",
    "# View all folders and file in your Google Drive\n",
    "fileList = drive.ListFile({'q': \"'root' in parents and trashed=false\"}).GetList()\n",
    "for file in fileList:\n",
    "  #print('Title: %s, ID: %s' % (file['title'], file['id']))\n",
    "  # Get the folder ID that you want\n",
    "  if(file['title'] == \"1RA_INSPECCION_2\"):\n",
    "      fileID = file['id']\n",
    "\n",
    "for file in dic_files:\n",
    "    file1 = drive.CreateFile({\"mimeType\": \"application/pdf\", \"parents\": [{\"kind\": \"drive#fileLink\", \"id\": fileID}]})\n",
    "    file1['title'] = dic_files[file]\n",
    "    file1.SetContentFile(ruta + r'/pdf//' + dic_files[file])\n",
    "    file1.Upload() # Upload the file.\n",
    "    print('Created file %s with mimeType %s' % (file1['title'], file1['mimeType']))\n",
    "    permission = file1.InsertPermission({\n",
    "                        'type': 'anyone',\n",
    "                        'value': 'anyone',\n",
    "                        'role': 'reader'})\n",
    "    dic_urls[file] = file1['alternateLink']\n",
    "dic_urls\n",
    "print('end')"
   ]
  },
  {
   "cell_type": "code",
   "execution_count": 8,
   "id": "6aceb417-cee6-413c-917f-f03bcba671b6",
   "metadata": {},
   "outputs": [
    {
     "name": "stdout",
     "output_type": "stream",
     "text": [
      "20 URLs\n"
     ]
    },
    {
     "data": {
      "text/plain": [
       "{11805: 'https://drive.google.com/file/d/1QFjJlG3qpb5dRt-ophsB0sAK1LMwfCB0/view?usp=drivesdk',\n",
       " 12478: 'https://drive.google.com/file/d/1XV9SC7XfOfiUZgAYdGaf7Y0xq_h8kU4l/view?usp=drivesdk',\n",
       " 14117: 'https://drive.google.com/file/d/1R8d-iWROe9VbQwK1S95A47PKdP9qXxeP/view?usp=drivesdk',\n",
       " 1580: 'https://drive.google.com/file/d/1i3dJl7X3aChCWBJ8d5xyaCjdlHskii3S/view?usp=drivesdk',\n",
       " 2029: 'https://drive.google.com/file/d/1ROMo_-J3OjpKOEgKvRmi3ArLfz7b2QWB/view?usp=drivesdk',\n",
       " 2224: 'https://drive.google.com/file/d/1JMaPZIRFZwCgEN9MR-ZP595mc_E9BZ5m/view?usp=drivesdk',\n",
       " 2315: 'https://drive.google.com/file/d/1LMB2c4RR9yklQrEa62ArmPmvBFt28RHu/view?usp=drivesdk',\n",
       " 2662: 'https://drive.google.com/file/d/1CVE3n4vNelME-T-GtDCrtlWUUQXMmBWz/view?usp=drivesdk',\n",
       " 30907: 'https://drive.google.com/file/d/14YAaO_FU3CcItHwNL4AUIAYqrk_BzoDw/view?usp=drivesdk',\n",
       " 3414: 'https://drive.google.com/file/d/143lcTWXRH3OxjL0zxtGEIZ0QMQ2dH_ys/view?usp=drivesdk',\n",
       " 3421: 'https://drive.google.com/file/d/16iSmrRUcdashcXADfn9urAmkWszmgMog/view?usp=drivesdk',\n",
       " 3460: 'https://drive.google.com/file/d/1D1DfrQ9Et_mqblODqRDAPlcsTKF8otGn/view?usp=drivesdk',\n",
       " 3481: 'https://drive.google.com/file/d/1oY5-g-QYhEycERDOq7NRVNeLZkBJEbF9/view?usp=drivesdk',\n",
       " 41544: 'https://drive.google.com/file/d/1mEUCs4n9NLKE-NFutqYADc_COZXTDVcC/view?usp=drivesdk',\n",
       " 41562: 'https://drive.google.com/file/d/1QpgaeNuwzF-TC7AcsjVMQNDzx1wFn2aK/view?usp=drivesdk',\n",
       " 42044: 'https://drive.google.com/file/d/1N6A6zoMLevTTPVXb4uk39nyOugbAnQyT/view?usp=drivesdk',\n",
       " 42131: 'https://drive.google.com/file/d/1tXC7Gdc2T0qjX5WtIAYO6ldb_if_VXO0/view?usp=drivesdk',\n",
       " 4528: 'https://drive.google.com/file/d/1KmTxg9szKzj7ENxShvAGgHNPbNQtDBHQ/view?usp=drivesdk',\n",
       " 6578: 'https://drive.google.com/file/d/11t1mlklYirlF97QzTSEs8AzuZXajBKfS/view?usp=drivesdk',\n",
       " 8814: 'https://drive.google.com/file/d/1aPtnoxlhta8Ku4hb3YalqyVEvAcfpbBc/view?usp=drivesdk'}"
      ]
     },
     "execution_count": 8,
     "metadata": {},
     "output_type": "execute_result"
    }
   ],
   "source": [
    "print(len(dic_urls), 'URLs')\n",
    "dic_urls"
   ]
  },
  {
   "cell_type": "markdown",
   "id": "6063c8ed-d601-4164-9af1-e1c2dbc865d0",
   "metadata": {},
   "source": [
    "# conexion a amigocloud"
   ]
  },
  {
   "cell_type": "code",
   "execution_count": 26,
   "id": "f0d01517-62ff-4a1f-a49b-79646323127e",
   "metadata": {},
   "outputs": [],
   "source": [
    "import sys\n",
    "sys.path.append('../../../_amigocloud')\n",
    "\n",
    "from amigocloud import AmigoCloud"
   ]
  },
  {
   "cell_type": "code",
   "execution_count": 27,
   "id": "fea924a5-9048-42a8-b912-6604dc5b6539",
   "metadata": {},
   "outputs": [
    {
     "data": {
      "text/plain": [
       "<amigocloud.AmigoCloud at 0x233f562e200>"
      ]
     },
     "execution_count": 27,
     "metadata": {},
     "output_type": "execute_result"
    }
   ],
   "source": [
    "# leer token\n",
    "acceso = open(ruta + '/_keys/api_amigocloud.key','r')\n",
    "api_token = acceso.readlines()[0]\n",
    "acceso.close()\n",
    "amigocloud = AmigoCloud(token=api_token)\n",
    "amigocloud"
   ]
  },
  {
   "cell_type": "code",
   "execution_count": 28,
   "id": "6ea99bee-0a6d-48a1-9833-6b8c2a62433a",
   "metadata": {},
   "outputs": [
    {
     "name": "stdout",
     "output_type": "stream",
     "text": [
      "11805\n",
      "12478\n",
      "14117\n",
      "1580\n",
      "2029\n",
      "2224\n",
      "2315\n",
      "2662\n",
      "30907\n",
      "3414\n",
      "3421\n",
      "3460\n",
      "3481\n",
      "41544\n",
      "41562\n",
      "42044\n",
      "42131\n",
      "4528\n",
      "6578\n",
      "8814\n",
      "end\n"
     ]
    }
   ],
   "source": [
    "for key in dic_urls:\n",
    "    query = {'query': 'update dataset_307560 set link_doc_1ra = \\'{link}\\' where cast(SPLIT_PART(canhero, \\' / \\', 1) as integer) = \\'{cod}\\''.format(link=dic_urls[key], cod=key)}\n",
    "    res = amigocloud.post('https://app.amigocloud.com/api/v1/projects/32672/sql', query)\n",
    "    print(key)\n",
    "print('end')"
   ]
  }
 ],
 "metadata": {
  "kernelspec": {
   "display_name": "Python 3 (ipykernel)",
   "language": "python",
   "name": "python3"
  },
  "language_info": {
   "codemirror_mode": {
    "name": "ipython",
    "version": 3
   },
   "file_extension": ".py",
   "mimetype": "text/x-python",
   "name": "python",
   "nbconvert_exporter": "python",
   "pygments_lexer": "ipython3",
   "version": "3.10.13"
  }
 },
 "nbformat": 4,
 "nbformat_minor": 5
}
