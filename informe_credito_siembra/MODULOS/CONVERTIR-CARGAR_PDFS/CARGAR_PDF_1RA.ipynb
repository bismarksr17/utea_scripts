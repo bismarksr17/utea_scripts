{
 "cells": [
  {
   "cell_type": "markdown",
   "id": "18a80bc5",
   "metadata": {},
   "source": [
    "# INSTALAR LIBRERIAS"
   ]
  },
  {
   "cell_type": "code",
   "execution_count": 3,
   "id": "7e312719",
   "metadata": {},
   "outputs": [],
   "source": [
    "# !pip install docx2pdf\n",
    "#pip install ipywidgets"
   ]
  },
  {
   "cell_type": "markdown",
   "id": "7e934ca6",
   "metadata": {},
   "source": [
    "# IMPORTAR"
   ]
  },
  {
   "cell_type": "code",
   "execution_count": 1,
   "id": "508a28c7",
   "metadata": {},
   "outputs": [],
   "source": [
    "from docx2pdf import convert\n",
    "import os"
   ]
  },
  {
   "cell_type": "markdown",
   "id": "64ec4ba6",
   "metadata": {},
   "source": [
    "# CONSTRUIR LA RUTA DE LOS ARCHIVOS"
   ]
  },
  {
   "cell_type": "code",
   "execution_count": 2,
   "id": "cdd1c78b-ef20-462c-8de1-034c31d4b386",
   "metadata": {},
   "outputs": [],
   "source": [
    "# ruta de carpera donde estan las llaves\n",
    "ruta = open('../../../ruta.txt')\n",
    "ruta = ruta.readlines()[0]"
   ]
  },
  {
   "cell_type": "code",
   "execution_count": 3,
   "id": "1fc560f3",
   "metadata": {},
   "outputs": [
    {
     "name": "stdout",
     "output_type": "stream",
     "text": [
      "SE ENCONTRARON 20 INFORMES\n",
      "20 INFORMES\n"
     ]
    },
    {
     "data": {
      "text/plain": [
       "['C:\\\\Documents\\\\OneDrive - Ingenio Azucarero Guabira S.A\\\\_DATOS_PYTHON/informes/11805_CRS_28-11-2023_RIOJA CABRERA JOSE GROVER.docx',\n",
       " 'C:\\\\Documents\\\\OneDrive - Ingenio Azucarero Guabira S.A\\\\_DATOS_PYTHON/informes/12478_CRS_02-12-2023_SERRATE COLAMARINO HUGO.docx',\n",
       " 'C:\\\\Documents\\\\OneDrive - Ingenio Azucarero Guabira S.A\\\\_DATOS_PYTHON/informes/14117_CRS_29-11-2023_CALLE MIRANDA LIMBER.docx',\n",
       " 'C:\\\\Documents\\\\OneDrive - Ingenio Azucarero Guabira S.A\\\\_DATOS_PYTHON/informes/1580_CRS_30-11-2023_CALLE DELGADO IVER.docx',\n",
       " 'C:\\\\Documents\\\\OneDrive - Ingenio Azucarero Guabira S.A\\\\_DATOS_PYTHON/informes/2029_CRS_30-11-2023_COLAMARINO DI SILVIO ANGELO.docx',\n",
       " 'C:\\\\Documents\\\\OneDrive - Ingenio Azucarero Guabira S.A\\\\_DATOS_PYTHON/informes/2224_CRS_29-11-2023_CRUZ VARGAS WILLY WALDO.docx',\n",
       " 'C:\\\\Documents\\\\OneDrive - Ingenio Azucarero Guabira S.A\\\\_DATOS_PYTHON/informes/2315_CRS_25-11-2023_CORDOVA OLGUIN JUAN CARLOS.docx',\n",
       " 'C:\\\\Documents\\\\OneDrive - Ingenio Azucarero Guabira S.A\\\\_DATOS_PYTHON/informes/2662_CRS_29-11-2023_DON SERAFIN SRL..docx',\n",
       " 'C:\\\\Documents\\\\OneDrive - Ingenio Azucarero Guabira S.A\\\\_DATOS_PYTHON/informes/30907_CRS_29-11-2023_ALVAREZ FUENTES JUAN CARLOS.docx',\n",
       " 'C:\\\\Documents\\\\OneDrive - Ingenio Azucarero Guabira S.A\\\\_DATOS_PYTHON/informes/3414_CRS_29-11-2023_ESPINOZA TERRAZAS SERAFIN.docx',\n",
       " 'C:\\\\Documents\\\\OneDrive - Ingenio Azucarero Guabira S.A\\\\_DATOS_PYTHON/informes/3421_CRS_29-11-2023_ESPINOZA HURTADO ARMANDO.docx',\n",
       " 'C:\\\\Documents\\\\OneDrive - Ingenio Azucarero Guabira S.A\\\\_DATOS_PYTHON/informes/3460_CRS_28-11-2023_ESPINOZA MENDOZA SANTIAGO.docx',\n",
       " 'C:\\\\Documents\\\\OneDrive - Ingenio Azucarero Guabira S.A\\\\_DATOS_PYTHON/informes/3481_CRS_29-11-2023_ESPINOZA MANCILLA REYNALDO.docx',\n",
       " 'C:\\\\Documents\\\\OneDrive - Ingenio Azucarero Guabira S.A\\\\_DATOS_PYTHON/informes/41544_CRS_30-11-2023_AMURRIO TAPIA JOSE LUIS.docx',\n",
       " 'C:\\\\Documents\\\\OneDrive - Ingenio Azucarero Guabira S.A\\\\_DATOS_PYTHON/informes/41562_CRS_30-11-2023_SUAREZ SALAS ERWIN RONALD.docx',\n",
       " 'C:\\\\Documents\\\\OneDrive - Ingenio Azucarero Guabira S.A\\\\_DATOS_PYTHON/informes/42044_CRS_29-11-2023_ESPINOZA MANCILLA WILMA.docx',\n",
       " 'C:\\\\Documents\\\\OneDrive - Ingenio Azucarero Guabira S.A\\\\_DATOS_PYTHON/informes/42131_CRS_28-11-2023_AGROPECUARIA CAMPOAZUL S.R.L..docx',\n",
       " 'C:\\\\Documents\\\\OneDrive - Ingenio Azucarero Guabira S.A\\\\_DATOS_PYTHON/informes/4528_CRS_28-11-2023_GUZMAN ORELLANA GUSTAVO.docx',\n",
       " 'C:\\\\Documents\\\\OneDrive - Ingenio Azucarero Guabira S.A\\\\_DATOS_PYTHON/informes/6578_CRS_28-11-2023_JALDIN ARREDONDO JOSE LUIS.docx',\n",
       " 'C:\\\\Documents\\\\OneDrive - Ingenio Azucarero Guabira S.A\\\\_DATOS_PYTHON/informes/8814_CRS_30-11-2023_MURIALDO MENDEZ WALTER DANIEL.docx']"
      ]
     },
     "execution_count": 3,
     "metadata": {},
     "output_type": "execute_result"
    }
   ],
   "source": [
    "# colocar aqui la ruta de los archivos\n",
    "path = ruta + r'/informes'\n",
    "contenido = os.listdir(path)\n",
    "rutas =[]\n",
    "i = 0\n",
    "for name in contenido:\n",
    "    rutas.append(path + '/' + name)\n",
    "    i+=1\n",
    "\n",
    "print('SE ENCONTRARON ' + str(i) + ' INFORMES')\n",
    "print(len(rutas), 'INFORMES')\n",
    "rutas"
   ]
  },
  {
   "cell_type": "markdown",
   "id": "6b9af706",
   "metadata": {
    "tags": []
   },
   "source": [
    "# INICIA EL PROCESO DE CONVERCIÓN"
   ]
  },
  {
   "cell_type": "code",
   "execution_count": 4,
   "id": "cdbc481d-e9f8-4a85-946f-4c45abd61e87",
   "metadata": {},
   "outputs": [
    {
     "data": {
      "text/plain": [
       "'C:\\\\Documents\\\\OneDrive - Ingenio Azucarero Guabira S.A\\\\_DATOS_PYTHON/pdf/12478_CRS_02-12-2023_SERRATE COLAMARINO HUGO.pdf'"
      ]
     },
     "execution_count": 4,
     "metadata": {},
     "output_type": "execute_result"
    }
   ],
   "source": [
    "rutas[1].replace('.docx','.pdf').replace('informes','pdf')"
   ]
  },
  {
   "cell_type": "code",
   "execution_count": 5,
   "id": "13d4b150-97ec-4f5f-ae67-8494243a499a",
   "metadata": {},
   "outputs": [
    {
     "data": {
      "text/plain": [
       "'C:\\\\Documents\\\\OneDrive - Ingenio Azucarero Guabira S.A\\\\_DATOS_PYTHON/pdf/12478_CRS_02-12-2023_SERRATE COLAMARINO HUGO.pdf'"
      ]
     },
     "execution_count": 5,
     "metadata": {},
     "output_type": "execute_result"
    }
   ],
   "source": [
    "rutas[1].replace('.docx','.pdf').replace('informes','pdf')|"
   ]
  },
  {
   "cell_type": "code",
   "execution_count": 6,
   "id": "0f018b1e",
   "metadata": {
    "tags": []
   },
   "outputs": [
    {
     "name": "stdout",
     "output_type": "stream",
     "text": [
      "CONVIRTIENDO... INFORME 1 C:\\Documents\\OneDrive - Ingenio Azucarero Guabira S.A\\_DATOS_PYTHON/informes/11805_CRS_28-11-2023_RIOJA CABRERA JOSE GROVER.docx\n",
      "C:\\Documents\\OneDrive - Ingenio Azucarero Guabira S.A\\_DATOS_PYTHON/informes/11805_CRS_28-11-2023_RIOJA CABRERA JOSE GROVER.docx\n",
      "C:\\Documents\\OneDrive - Ingenio Azucarero Guabira S.A\\_DATOS_PYTHON/pdfs/11805_CRS_28-11-2023_RIOJA CABRERA JOSE GROVER.pdf\n"
     ]
    },
    {
     "data": {
      "application/vnd.jupyter.widget-view+json": {
       "model_id": "20f25d9e22944bb499614cf69d140ec7",
       "version_major": 2,
       "version_minor": 0
      },
      "text/plain": [
       "  0%|          | 0/1 [00:00<?, ?it/s]"
      ]
     },
     "metadata": {},
     "output_type": "display_data"
    },
    {
     "name": "stdout",
     "output_type": "stream",
     "text": [
      "CONVIRTIENDO... INFORME 2 C:\\Documents\\OneDrive - Ingenio Azucarero Guabira S.A\\_DATOS_PYTHON/informes/12478_CRS_02-12-2023_SERRATE COLAMARINO HUGO.docx\n",
      "C:\\Documents\\OneDrive - Ingenio Azucarero Guabira S.A\\_DATOS_PYTHON/informes/12478_CRS_02-12-2023_SERRATE COLAMARINO HUGO.docx\n",
      "C:\\Documents\\OneDrive - Ingenio Azucarero Guabira S.A\\_DATOS_PYTHON/pdfs/12478_CRS_02-12-2023_SERRATE COLAMARINO HUGO.pdf\n"
     ]
    },
    {
     "data": {
      "application/vnd.jupyter.widget-view+json": {
       "model_id": "202103036db94c5990b666a926c1bc9d",
       "version_major": 2,
       "version_minor": 0
      },
      "text/plain": [
       "  0%|          | 0/1 [00:00<?, ?it/s]"
      ]
     },
     "metadata": {},
     "output_type": "display_data"
    },
    {
     "name": "stdout",
     "output_type": "stream",
     "text": [
      "CONVIRTIENDO... INFORME 3 C:\\Documents\\OneDrive - Ingenio Azucarero Guabira S.A\\_DATOS_PYTHON/informes/14117_CRS_29-11-2023_CALLE MIRANDA LIMBER.docx\n",
      "C:\\Documents\\OneDrive - Ingenio Azucarero Guabira S.A\\_DATOS_PYTHON/informes/14117_CRS_29-11-2023_CALLE MIRANDA LIMBER.docx\n",
      "C:\\Documents\\OneDrive - Ingenio Azucarero Guabira S.A\\_DATOS_PYTHON/pdfs/14117_CRS_29-11-2023_CALLE MIRANDA LIMBER.pdf\n"
     ]
    },
    {
     "data": {
      "application/vnd.jupyter.widget-view+json": {
       "model_id": "062e3dd93fb5436cb59835717099e3ce",
       "version_major": 2,
       "version_minor": 0
      },
      "text/plain": [
       "  0%|          | 0/1 [00:00<?, ?it/s]"
      ]
     },
     "metadata": {},
     "output_type": "display_data"
    },
    {
     "name": "stdout",
     "output_type": "stream",
     "text": [
      "CONVIRTIENDO... INFORME 4 C:\\Documents\\OneDrive - Ingenio Azucarero Guabira S.A\\_DATOS_PYTHON/informes/1580_CRS_30-11-2023_CALLE DELGADO IVER.docx\n",
      "C:\\Documents\\OneDrive - Ingenio Azucarero Guabira S.A\\_DATOS_PYTHON/informes/1580_CRS_30-11-2023_CALLE DELGADO IVER.docx\n",
      "C:\\Documents\\OneDrive - Ingenio Azucarero Guabira S.A\\_DATOS_PYTHON/pdfs/1580_CRS_30-11-2023_CALLE DELGADO IVER.pdf\n"
     ]
    },
    {
     "data": {
      "application/vnd.jupyter.widget-view+json": {
       "model_id": "2137f8c2d59549858831042e9f8bafbf",
       "version_major": 2,
       "version_minor": 0
      },
      "text/plain": [
       "  0%|          | 0/1 [00:00<?, ?it/s]"
      ]
     },
     "metadata": {},
     "output_type": "display_data"
    },
    {
     "name": "stdout",
     "output_type": "stream",
     "text": [
      "CONVIRTIENDO... INFORME 5 C:\\Documents\\OneDrive - Ingenio Azucarero Guabira S.A\\_DATOS_PYTHON/informes/2029_CRS_30-11-2023_COLAMARINO DI SILVIO ANGELO.docx\n",
      "C:\\Documents\\OneDrive - Ingenio Azucarero Guabira S.A\\_DATOS_PYTHON/informes/2029_CRS_30-11-2023_COLAMARINO DI SILVIO ANGELO.docx\n",
      "C:\\Documents\\OneDrive - Ingenio Azucarero Guabira S.A\\_DATOS_PYTHON/pdfs/2029_CRS_30-11-2023_COLAMARINO DI SILVIO ANGELO.pdf\n"
     ]
    },
    {
     "data": {
      "application/vnd.jupyter.widget-view+json": {
       "model_id": "af4aaf4e0655409a969231352f214f47",
       "version_major": 2,
       "version_minor": 0
      },
      "text/plain": [
       "  0%|          | 0/1 [00:00<?, ?it/s]"
      ]
     },
     "metadata": {},
     "output_type": "display_data"
    },
    {
     "name": "stdout",
     "output_type": "stream",
     "text": [
      "CONVIRTIENDO... INFORME 6 C:\\Documents\\OneDrive - Ingenio Azucarero Guabira S.A\\_DATOS_PYTHON/informes/2224_CRS_29-11-2023_CRUZ VARGAS WILLY WALDO.docx\n",
      "C:\\Documents\\OneDrive - Ingenio Azucarero Guabira S.A\\_DATOS_PYTHON/informes/2224_CRS_29-11-2023_CRUZ VARGAS WILLY WALDO.docx\n",
      "C:\\Documents\\OneDrive - Ingenio Azucarero Guabira S.A\\_DATOS_PYTHON/pdfs/2224_CRS_29-11-2023_CRUZ VARGAS WILLY WALDO.pdf\n"
     ]
    },
    {
     "data": {
      "application/vnd.jupyter.widget-view+json": {
       "model_id": "70c3590bf4274e7ba21da2da6685b641",
       "version_major": 2,
       "version_minor": 0
      },
      "text/plain": [
       "  0%|          | 0/1 [00:00<?, ?it/s]"
      ]
     },
     "metadata": {},
     "output_type": "display_data"
    },
    {
     "name": "stdout",
     "output_type": "stream",
     "text": [
      "CONVIRTIENDO... INFORME 7 C:\\Documents\\OneDrive - Ingenio Azucarero Guabira S.A\\_DATOS_PYTHON/informes/2315_CRS_25-11-2023_CORDOVA OLGUIN JUAN CARLOS.docx\n",
      "C:\\Documents\\OneDrive - Ingenio Azucarero Guabira S.A\\_DATOS_PYTHON/informes/2315_CRS_25-11-2023_CORDOVA OLGUIN JUAN CARLOS.docx\n",
      "C:\\Documents\\OneDrive - Ingenio Azucarero Guabira S.A\\_DATOS_PYTHON/pdfs/2315_CRS_25-11-2023_CORDOVA OLGUIN JUAN CARLOS.pdf\n"
     ]
    },
    {
     "data": {
      "application/vnd.jupyter.widget-view+json": {
       "model_id": "58978acc44034087ba27ba8376a6032f",
       "version_major": 2,
       "version_minor": 0
      },
      "text/plain": [
       "  0%|          | 0/1 [00:00<?, ?it/s]"
      ]
     },
     "metadata": {},
     "output_type": "display_data"
    },
    {
     "name": "stdout",
     "output_type": "stream",
     "text": [
      "CONVIRTIENDO... INFORME 8 C:\\Documents\\OneDrive - Ingenio Azucarero Guabira S.A\\_DATOS_PYTHON/informes/2662_CRS_29-11-2023_DON SERAFIN SRL..docx\n",
      "C:\\Documents\\OneDrive - Ingenio Azucarero Guabira S.A\\_DATOS_PYTHON/informes/2662_CRS_29-11-2023_DON SERAFIN SRL..docx\n",
      "C:\\Documents\\OneDrive - Ingenio Azucarero Guabira S.A\\_DATOS_PYTHON/pdfs/2662_CRS_29-11-2023_DON SERAFIN SRL..pdf\n"
     ]
    },
    {
     "data": {
      "application/vnd.jupyter.widget-view+json": {
       "model_id": "412dbbbb765447d38b3d29ce44743d1a",
       "version_major": 2,
       "version_minor": 0
      },
      "text/plain": [
       "  0%|          | 0/1 [00:00<?, ?it/s]"
      ]
     },
     "metadata": {},
     "output_type": "display_data"
    },
    {
     "name": "stdout",
     "output_type": "stream",
     "text": [
      "CONVIRTIENDO... INFORME 9 C:\\Documents\\OneDrive - Ingenio Azucarero Guabira S.A\\_DATOS_PYTHON/informes/30907_CRS_29-11-2023_ALVAREZ FUENTES JUAN CARLOS.docx\n",
      "C:\\Documents\\OneDrive - Ingenio Azucarero Guabira S.A\\_DATOS_PYTHON/informes/30907_CRS_29-11-2023_ALVAREZ FUENTES JUAN CARLOS.docx\n",
      "C:\\Documents\\OneDrive - Ingenio Azucarero Guabira S.A\\_DATOS_PYTHON/pdfs/30907_CRS_29-11-2023_ALVAREZ FUENTES JUAN CARLOS.pdf\n"
     ]
    },
    {
     "data": {
      "application/vnd.jupyter.widget-view+json": {
       "model_id": "299d5d3bd4f748d0ad57821ca9653325",
       "version_major": 2,
       "version_minor": 0
      },
      "text/plain": [
       "  0%|          | 0/1 [00:00<?, ?it/s]"
      ]
     },
     "metadata": {},
     "output_type": "display_data"
    },
    {
     "name": "stdout",
     "output_type": "stream",
     "text": [
      "CONVIRTIENDO... INFORME 10 C:\\Documents\\OneDrive - Ingenio Azucarero Guabira S.A\\_DATOS_PYTHON/informes/3414_CRS_29-11-2023_ESPINOZA TERRAZAS SERAFIN.docx\n",
      "C:\\Documents\\OneDrive - Ingenio Azucarero Guabira S.A\\_DATOS_PYTHON/informes/3414_CRS_29-11-2023_ESPINOZA TERRAZAS SERAFIN.docx\n",
      "C:\\Documents\\OneDrive - Ingenio Azucarero Guabira S.A\\_DATOS_PYTHON/pdfs/3414_CRS_29-11-2023_ESPINOZA TERRAZAS SERAFIN.pdf\n"
     ]
    },
    {
     "data": {
      "application/vnd.jupyter.widget-view+json": {
       "model_id": "b121b8d114e84365bd08a31d20635bed",
       "version_major": 2,
       "version_minor": 0
      },
      "text/plain": [
       "  0%|          | 0/1 [00:00<?, ?it/s]"
      ]
     },
     "metadata": {},
     "output_type": "display_data"
    },
    {
     "name": "stdout",
     "output_type": "stream",
     "text": [
      "CONVIRTIENDO... INFORME 11 C:\\Documents\\OneDrive - Ingenio Azucarero Guabira S.A\\_DATOS_PYTHON/informes/3421_CRS_29-11-2023_ESPINOZA HURTADO ARMANDO.docx\n",
      "C:\\Documents\\OneDrive - Ingenio Azucarero Guabira S.A\\_DATOS_PYTHON/informes/3421_CRS_29-11-2023_ESPINOZA HURTADO ARMANDO.docx\n",
      "C:\\Documents\\OneDrive - Ingenio Azucarero Guabira S.A\\_DATOS_PYTHON/pdfs/3421_CRS_29-11-2023_ESPINOZA HURTADO ARMANDO.pdf\n"
     ]
    },
    {
     "data": {
      "application/vnd.jupyter.widget-view+json": {
       "model_id": "29acc00e7a174608a60bf0775d540c17",
       "version_major": 2,
       "version_minor": 0
      },
      "text/plain": [
       "  0%|          | 0/1 [00:00<?, ?it/s]"
      ]
     },
     "metadata": {},
     "output_type": "display_data"
    },
    {
     "name": "stdout",
     "output_type": "stream",
     "text": [
      "CONVIRTIENDO... INFORME 12 C:\\Documents\\OneDrive - Ingenio Azucarero Guabira S.A\\_DATOS_PYTHON/informes/3460_CRS_28-11-2023_ESPINOZA MENDOZA SANTIAGO.docx\n",
      "C:\\Documents\\OneDrive - Ingenio Azucarero Guabira S.A\\_DATOS_PYTHON/informes/3460_CRS_28-11-2023_ESPINOZA MENDOZA SANTIAGO.docx\n",
      "C:\\Documents\\OneDrive - Ingenio Azucarero Guabira S.A\\_DATOS_PYTHON/pdfs/3460_CRS_28-11-2023_ESPINOZA MENDOZA SANTIAGO.pdf\n"
     ]
    },
    {
     "data": {
      "application/vnd.jupyter.widget-view+json": {
       "model_id": "3dac2a7de8104f959b8d8d139595fc30",
       "version_major": 2,
       "version_minor": 0
      },
      "text/plain": [
       "  0%|          | 0/1 [00:00<?, ?it/s]"
      ]
     },
     "metadata": {},
     "output_type": "display_data"
    },
    {
     "name": "stdout",
     "output_type": "stream",
     "text": [
      "CONVIRTIENDO... INFORME 13 C:\\Documents\\OneDrive - Ingenio Azucarero Guabira S.A\\_DATOS_PYTHON/informes/3481_CRS_29-11-2023_ESPINOZA MANCILLA REYNALDO.docx\n",
      "C:\\Documents\\OneDrive - Ingenio Azucarero Guabira S.A\\_DATOS_PYTHON/informes/3481_CRS_29-11-2023_ESPINOZA MANCILLA REYNALDO.docx\n",
      "C:\\Documents\\OneDrive - Ingenio Azucarero Guabira S.A\\_DATOS_PYTHON/pdfs/3481_CRS_29-11-2023_ESPINOZA MANCILLA REYNALDO.pdf\n"
     ]
    },
    {
     "data": {
      "application/vnd.jupyter.widget-view+json": {
       "model_id": "6717336f28554ddebf4c10b2656fa163",
       "version_major": 2,
       "version_minor": 0
      },
      "text/plain": [
       "  0%|          | 0/1 [00:00<?, ?it/s]"
      ]
     },
     "metadata": {},
     "output_type": "display_data"
    },
    {
     "name": "stdout",
     "output_type": "stream",
     "text": [
      "CONVIRTIENDO... INFORME 14 C:\\Documents\\OneDrive - Ingenio Azucarero Guabira S.A\\_DATOS_PYTHON/informes/41544_CRS_30-11-2023_AMURRIO TAPIA JOSE LUIS.docx\n",
      "C:\\Documents\\OneDrive - Ingenio Azucarero Guabira S.A\\_DATOS_PYTHON/informes/41544_CRS_30-11-2023_AMURRIO TAPIA JOSE LUIS.docx\n",
      "C:\\Documents\\OneDrive - Ingenio Azucarero Guabira S.A\\_DATOS_PYTHON/pdfs/41544_CRS_30-11-2023_AMURRIO TAPIA JOSE LUIS.pdf\n"
     ]
    },
    {
     "data": {
      "application/vnd.jupyter.widget-view+json": {
       "model_id": "004649e1992b4a048680b07a8ab22100",
       "version_major": 2,
       "version_minor": 0
      },
      "text/plain": [
       "  0%|          | 0/1 [00:00<?, ?it/s]"
      ]
     },
     "metadata": {},
     "output_type": "display_data"
    },
    {
     "name": "stdout",
     "output_type": "stream",
     "text": [
      "CONVIRTIENDO... INFORME 15 C:\\Documents\\OneDrive - Ingenio Azucarero Guabira S.A\\_DATOS_PYTHON/informes/41562_CRS_30-11-2023_SUAREZ SALAS ERWIN RONALD.docx\n",
      "C:\\Documents\\OneDrive - Ingenio Azucarero Guabira S.A\\_DATOS_PYTHON/informes/41562_CRS_30-11-2023_SUAREZ SALAS ERWIN RONALD.docx\n",
      "C:\\Documents\\OneDrive - Ingenio Azucarero Guabira S.A\\_DATOS_PYTHON/pdfs/41562_CRS_30-11-2023_SUAREZ SALAS ERWIN RONALD.pdf\n"
     ]
    },
    {
     "data": {
      "application/vnd.jupyter.widget-view+json": {
       "model_id": "7c15f175fd0f474ea1035d58ed4a3c8e",
       "version_major": 2,
       "version_minor": 0
      },
      "text/plain": [
       "  0%|          | 0/1 [00:00<?, ?it/s]"
      ]
     },
     "metadata": {},
     "output_type": "display_data"
    },
    {
     "name": "stdout",
     "output_type": "stream",
     "text": [
      "CONVIRTIENDO... INFORME 16 C:\\Documents\\OneDrive - Ingenio Azucarero Guabira S.A\\_DATOS_PYTHON/informes/42044_CRS_29-11-2023_ESPINOZA MANCILLA WILMA.docx\n",
      "C:\\Documents\\OneDrive - Ingenio Azucarero Guabira S.A\\_DATOS_PYTHON/informes/42044_CRS_29-11-2023_ESPINOZA MANCILLA WILMA.docx\n",
      "C:\\Documents\\OneDrive - Ingenio Azucarero Guabira S.A\\_DATOS_PYTHON/pdfs/42044_CRS_29-11-2023_ESPINOZA MANCILLA WILMA.pdf\n"
     ]
    },
    {
     "data": {
      "application/vnd.jupyter.widget-view+json": {
       "model_id": "7198ab225c0647ada1d68331750cdd81",
       "version_major": 2,
       "version_minor": 0
      },
      "text/plain": [
       "  0%|          | 0/1 [00:00<?, ?it/s]"
      ]
     },
     "metadata": {},
     "output_type": "display_data"
    },
    {
     "name": "stdout",
     "output_type": "stream",
     "text": [
      "CONVIRTIENDO... INFORME 17 C:\\Documents\\OneDrive - Ingenio Azucarero Guabira S.A\\_DATOS_PYTHON/informes/42131_CRS_28-11-2023_AGROPECUARIA CAMPOAZUL S.R.L..docx\n",
      "C:\\Documents\\OneDrive - Ingenio Azucarero Guabira S.A\\_DATOS_PYTHON/informes/42131_CRS_28-11-2023_AGROPECUARIA CAMPOAZUL S.R.L..docx\n",
      "C:\\Documents\\OneDrive - Ingenio Azucarero Guabira S.A\\_DATOS_PYTHON/pdfs/42131_CRS_28-11-2023_AGROPECUARIA CAMPOAZUL S.R.L..pdf\n"
     ]
    },
    {
     "data": {
      "application/vnd.jupyter.widget-view+json": {
       "model_id": "89fa5e51cc9144b2bfc9991f40abf204",
       "version_major": 2,
       "version_minor": 0
      },
      "text/plain": [
       "  0%|          | 0/1 [00:00<?, ?it/s]"
      ]
     },
     "metadata": {},
     "output_type": "display_data"
    },
    {
     "name": "stdout",
     "output_type": "stream",
     "text": [
      "CONVIRTIENDO... INFORME 18 C:\\Documents\\OneDrive - Ingenio Azucarero Guabira S.A\\_DATOS_PYTHON/informes/4528_CRS_28-11-2023_GUZMAN ORELLANA GUSTAVO.docx\n",
      "C:\\Documents\\OneDrive - Ingenio Azucarero Guabira S.A\\_DATOS_PYTHON/informes/4528_CRS_28-11-2023_GUZMAN ORELLANA GUSTAVO.docx\n",
      "C:\\Documents\\OneDrive - Ingenio Azucarero Guabira S.A\\_DATOS_PYTHON/pdfs/4528_CRS_28-11-2023_GUZMAN ORELLANA GUSTAVO.pdf\n"
     ]
    },
    {
     "data": {
      "application/vnd.jupyter.widget-view+json": {
       "model_id": "ed0904b999654252bf35479980856f25",
       "version_major": 2,
       "version_minor": 0
      },
      "text/plain": [
       "  0%|          | 0/1 [00:00<?, ?it/s]"
      ]
     },
     "metadata": {},
     "output_type": "display_data"
    },
    {
     "name": "stdout",
     "output_type": "stream",
     "text": [
      "CONVIRTIENDO... INFORME 19 C:\\Documents\\OneDrive - Ingenio Azucarero Guabira S.A\\_DATOS_PYTHON/informes/6578_CRS_28-11-2023_JALDIN ARREDONDO JOSE LUIS.docx\n",
      "C:\\Documents\\OneDrive - Ingenio Azucarero Guabira S.A\\_DATOS_PYTHON/informes/6578_CRS_28-11-2023_JALDIN ARREDONDO JOSE LUIS.docx\n",
      "C:\\Documents\\OneDrive - Ingenio Azucarero Guabira S.A\\_DATOS_PYTHON/pdfs/6578_CRS_28-11-2023_JALDIN ARREDONDO JOSE LUIS.pdf\n"
     ]
    },
    {
     "data": {
      "application/vnd.jupyter.widget-view+json": {
       "model_id": "e1ac57d3861841fd907fd237f7bc0a07",
       "version_major": 2,
       "version_minor": 0
      },
      "text/plain": [
       "  0%|          | 0/1 [00:00<?, ?it/s]"
      ]
     },
     "metadata": {},
     "output_type": "display_data"
    },
    {
     "name": "stdout",
     "output_type": "stream",
     "text": [
      "CONVIRTIENDO... INFORME 20 C:\\Documents\\OneDrive - Ingenio Azucarero Guabira S.A\\_DATOS_PYTHON/informes/8814_CRS_30-11-2023_MURIALDO MENDEZ WALTER DANIEL.docx\n",
      "C:\\Documents\\OneDrive - Ingenio Azucarero Guabira S.A\\_DATOS_PYTHON/informes/8814_CRS_30-11-2023_MURIALDO MENDEZ WALTER DANIEL.docx\n",
      "C:\\Documents\\OneDrive - Ingenio Azucarero Guabira S.A\\_DATOS_PYTHON/pdfs/8814_CRS_30-11-2023_MURIALDO MENDEZ WALTER DANIEL.pdf\n"
     ]
    },
    {
     "data": {
      "application/vnd.jupyter.widget-view+json": {
       "model_id": "eae56db4e77447fd81975a9290dd3c09",
       "version_major": 2,
       "version_minor": 0
      },
      "text/plain": [
       "  0%|          | 0/1 [00:00<?, ?it/s]"
      ]
     },
     "metadata": {},
     "output_type": "display_data"
    },
    {
     "name": "stdout",
     "output_type": "stream",
     "text": [
      "END\n"
     ]
    }
   ],
   "source": [
    "i = 1\n",
    "for filename in rutas:\n",
    "    print('CONVIRTIENDO... INFORME ' + str(i) + ' ' + filename)\n",
    "    # se realiza la convrsion pasando parametro de salida y entrada, \n",
    "    # para la salida se reemplaza la extencion y la ruta\n",
    "    print(filename)\n",
    "    print(filename.replace('.docx','.pdf').replace('informes','pdfs'))\n",
    "    pdf = filename.replace('.docx','.pdf').replace('informes','pdfs').split('/')[-1]\n",
    "    convert(filename, r'C:\\Users\\bismarksr\\Downloads\\\\' + pdf)\n",
    "    i+=1\n",
    "print('END')"
   ]
  },
  {
   "cell_type": "markdown",
   "id": "455ef654-fe35-492c-8f69-3dc00102b0bb",
   "metadata": {},
   "source": [
    "# Leer archivos"
   ]
  },
  {
   "cell_type": "code",
   "execution_count": 7,
   "id": "df0f066e-d897-4ca6-a8cd-23b40ad41307",
   "metadata": {},
   "outputs": [
    {
     "name": "stdout",
     "output_type": "stream",
     "text": [
      "Your browser has been opened to visit:\n",
      "\n",
      "    https://accounts.google.com/o/oauth2/auth?client_id=1096764895697-57btfmtn7rdejufct5qq4j9mi61j0unl.apps.googleusercontent.com&redirect_uri=http%3A%2F%2Flocalhost%3A8080%2F&scope=https%3A%2F%2Fwww.googleapis.com%2Fauth%2Fdrive&access_type=offline&response_type=code\n",
      "\n",
      "Authentication successful.\n"
     ]
    }
   ],
   "source": [
    "# CONEXION A GOOGLE DRIVE\n",
    "from pydrive.auth import GoogleAuth\n",
    "from pydrive.drive import GoogleDrive\n",
    "gauth = GoogleAuth()\n",
    "gauth.LocalWebserverAuth() # client_secrets.json need to be in the same directory as the script\n",
    "drive = GoogleDrive(gauth)"
   ]
  },
  {
   "cell_type": "code",
   "execution_count": 8,
   "id": "5bc6184d-91a1-42a1-a809-84014f898d43",
   "metadata": {},
   "outputs": [
    {
     "name": "stdout",
     "output_type": "stream",
     "text": [
      "11 informes\n"
     ]
    },
    {
     "data": {
      "text/plain": [
       "{10650: '10650_CRS_06-12-2023_PIZARRO PIZARRO WALTER.pdf',\n",
       " 10739: '10739_CRS_09-12-2023_PERALES VARGAS IVAR JUAN.pdf',\n",
       " 15162: '15162_CRS_09-12-2023_VELASCO ANEZ MARCO ANTONIO.pdf',\n",
       " 1783: '1783_CRS_08-12-2023_CACERES MAMANI AQUILINO.pdf',\n",
       " 2285: '2285_CRS_08-12-2023_CUELLAR ZABALA ADALBERTO.pdf',\n",
       " 2641: '2641_CRS_09-12-2023_CRONENBOLD AGUILERA ROBERTO.pdf',\n",
       " 2794: '2794_CRS_05-12-2023_DELGADILLO RODRIGUEZ JUAN CARLOS.pdf',\n",
       " 40148: '40148_CRS_07-12-2023_ROMERO LEON BEIMAR SALVADOR.pdf',\n",
       " 40158: '40158_CRS_06-12-2023_GUZMAN CACERES MARIA LOURDES.pdf',\n",
       " 42239: '42239_CRS_07-12-2023_CORDOVA OLGUIN LEONARDO.pdf',\n",
       " 5448: '5448_CRS_07-12-2023_HUANCA MENCHAQUE ROLY.pdf'}"
      ]
     },
     "execution_count": 8,
     "metadata": {},
     "output_type": "execute_result"
    }
   ],
   "source": [
    "contenido = os.listdir(ruta + r'/pdf')\n",
    "dic_files = {}\n",
    "for file in contenido:\n",
    "    split = file.split('_')\n",
    "    dic_files[int(split[0])] = file\n",
    "print(len(dic_files), 'informes')\n",
    "dic_files"
   ]
  },
  {
   "cell_type": "markdown",
   "id": "68778c6d-31c1-4f6f-880c-5d3f2d04ed17",
   "metadata": {},
   "source": [
    "# CARGAR LOS PDFS A GOOGLE DRIVE"
   ]
  },
  {
   "cell_type": "code",
   "execution_count": 9,
   "id": "aaf8d01b-5324-4b14-a67d-a6162850efa2",
   "metadata": {},
   "outputs": [
    {
     "name": "stdout",
     "output_type": "stream",
     "text": [
      "Created file 10650_CRS_06-12-2023_PIZARRO PIZARRO WALTER.pdf with mimeType application/pdf\n",
      "Created file 10739_CRS_09-12-2023_PERALES VARGAS IVAR JUAN.pdf with mimeType application/pdf\n",
      "Created file 15162_CRS_09-12-2023_VELASCO ANEZ MARCO ANTONIO.pdf with mimeType application/pdf\n",
      "Created file 1783_CRS_08-12-2023_CACERES MAMANI AQUILINO.pdf with mimeType application/pdf\n",
      "Created file 2285_CRS_08-12-2023_CUELLAR ZABALA ADALBERTO.pdf with mimeType application/pdf\n",
      "Created file 2641_CRS_09-12-2023_CRONENBOLD AGUILERA ROBERTO.pdf with mimeType application/pdf\n",
      "Created file 2794_CRS_05-12-2023_DELGADILLO RODRIGUEZ JUAN CARLOS.pdf with mimeType application/pdf\n",
      "Created file 40148_CRS_07-12-2023_ROMERO LEON BEIMAR SALVADOR.pdf with mimeType application/pdf\n",
      "Created file 40158_CRS_06-12-2023_GUZMAN CACERES MARIA LOURDES.pdf with mimeType application/pdf\n",
      "Created file 42239_CRS_07-12-2023_CORDOVA OLGUIN LEONARDO.pdf with mimeType application/pdf\n",
      "Created file 5448_CRS_07-12-2023_HUANCA MENCHAQUE ROLY.pdf with mimeType application/pdf\n",
      "end\n"
     ]
    }
   ],
   "source": [
    "# CARGAR LOS PDFS A GOOGLE DRIVE\n",
    "dic_urls = {}\n",
    "# View all folders and file in your Google Drive\n",
    "fileList = drive.ListFile({'q': \"'root' in parents and trashed=false\"}).GetList()\n",
    "for file in fileList:\n",
    "  #print('Title: %s, ID: %s' % (file['title'], file['id']))\n",
    "  # Get the folder ID that you want\n",
    "  if(file['title'] == \"1RA_INSPECCION_2\"):\n",
    "      fileID = file['id']\n",
    "\n",
    "for file in dic_files:\n",
    "    file1 = drive.CreateFile({\"mimeType\": \"application/pdf\", \"parents\": [{\"kind\": \"drive#fileLink\", \"id\": fileID}]})\n",
    "    file1['title'] = dic_files[file]\n",
    "    file1.SetContentFile(ruta + r'/pdf//' + dic_files[file])\n",
    "    file1.Upload() # Upload the file.\n",
    "    print('Created file %s with mimeType %s' % (file1['title'], file1['mimeType']))\n",
    "    permission = file1.InsertPermission({\n",
    "                        'type': 'anyone',\n",
    "                        'value': 'anyone',\n",
    "                        'role': 'reader'})\n",
    "    dic_urls[file] = file1['alternateLink']\n",
    "dic_urls\n",
    "print('end')"
   ]
  },
  {
   "cell_type": "code",
   "execution_count": 10,
   "id": "6aceb417-cee6-413c-917f-f03bcba671b6",
   "metadata": {},
   "outputs": [
    {
     "name": "stdout",
     "output_type": "stream",
     "text": [
      "11 URLs\n"
     ]
    },
    {
     "data": {
      "text/plain": [
       "{10650: 'https://drive.google.com/file/d/1_VGy5VSNbumyRH7Q0YSB5XWIbkDci0uo/view?usp=drivesdk',\n",
       " 10739: 'https://drive.google.com/file/d/1E60hhmUuUTh0Kt1KN9wC4knwPIT1z4qn/view?usp=drivesdk',\n",
       " 15162: 'https://drive.google.com/file/d/172kfP4qq-YhflJL7-a5Dkkt4sxUSWIkw/view?usp=drivesdk',\n",
       " 1783: 'https://drive.google.com/file/d/1r5ebevDkh7JICrpRVStz1_Q1dg_3L4In/view?usp=drivesdk',\n",
       " 2285: 'https://drive.google.com/file/d/1daGeyjY7egC-8JLfRTkSFXE9ljIs4sVd/view?usp=drivesdk',\n",
       " 2641: 'https://drive.google.com/file/d/1G4-t0WsbcgCTfTZIt6-hII99fCtHGxBI/view?usp=drivesdk',\n",
       " 2794: 'https://drive.google.com/file/d/1i5jjTVpItHUH4xpnajQZodRxtsFyya_5/view?usp=drivesdk',\n",
       " 40148: 'https://drive.google.com/file/d/1Q2y7Xgy0xQhGv10LXzefaqqEOSchc_sR/view?usp=drivesdk',\n",
       " 40158: 'https://drive.google.com/file/d/131M1KK6OKN4EjcAJFQvEwvWa7De3k6ZJ/view?usp=drivesdk',\n",
       " 42239: 'https://drive.google.com/file/d/14O0RrlIUyYl_8DUQRFgeihNosxhxw_6f/view?usp=drivesdk',\n",
       " 5448: 'https://drive.google.com/file/d/16ndML2NuDr2Ix7vd-yv0olKcL_oqcCsf/view?usp=drivesdk'}"
      ]
     },
     "execution_count": 10,
     "metadata": {},
     "output_type": "execute_result"
    }
   ],
   "source": [
    "print(len(dic_urls), 'URLs')\n",
    "dic_urls"
   ]
  },
  {
   "cell_type": "markdown",
   "id": "6063c8ed-d601-4164-9af1-e1c2dbc865d0",
   "metadata": {},
   "source": [
    "# conexion a amigocloud"
   ]
  },
  {
   "cell_type": "code",
   "execution_count": 11,
   "id": "f0d01517-62ff-4a1f-a49b-79646323127e",
   "metadata": {},
   "outputs": [],
   "source": [
    "import sys\n",
    "sys.path.append('../../../_amigocloud')\n",
    "\n",
    "from amigocloud import AmigoCloud"
   ]
  },
  {
   "cell_type": "code",
   "execution_count": 12,
   "id": "fea924a5-9048-42a8-b912-6604dc5b6539",
   "metadata": {},
   "outputs": [
    {
     "data": {
      "text/plain": [
       "<amigocloud.AmigoCloud at 0x1c837a9e5f0>"
      ]
     },
     "execution_count": 12,
     "metadata": {},
     "output_type": "execute_result"
    }
   ],
   "source": [
    "# leer token\n",
    "acceso = open(ruta + '/_keys/api_amigocloud.key','r')\n",
    "api_token = acceso.readlines()[0]\n",
    "acceso.close()\n",
    "amigocloud = AmigoCloud(token=api_token)\n",
    "amigocloud"
   ]
  },
  {
   "cell_type": "code",
   "execution_count": 13,
   "id": "6ea99bee-0a6d-48a1-9833-6b8c2a62433a",
   "metadata": {},
   "outputs": [
    {
     "name": "stdout",
     "output_type": "stream",
     "text": [
      "10650\n",
      "10739\n",
      "15162\n",
      "1783\n",
      "2285\n",
      "2641\n",
      "2794\n",
      "40148\n",
      "40158\n",
      "42239\n",
      "5448\n",
      "end\n"
     ]
    }
   ],
   "source": [
    "for key in dic_urls:\n",
    "    query = {'query': 'update dataset_307560 set link_doc_1ra = \\'{link}\\' where cast(SPLIT_PART(canhero, \\' / \\', 1) as integer) = \\'{cod}\\''.format(link=dic_urls[key], cod=key)}\n",
    "    res = amigocloud.post('https://app.amigocloud.com/api/v1/projects/32672/sql', query)\n",
    "    print(key)\n",
    "print('end')"
   ]
  }
 ],
 "metadata": {
  "kernelspec": {
   "display_name": "Python 3 (ipykernel)",
   "language": "python",
   "name": "python3"
  },
  "language_info": {
   "codemirror_mode": {
    "name": "ipython",
    "version": 3
   },
   "file_extension": ".py",
   "mimetype": "text/x-python",
   "name": "python",
   "nbconvert_exporter": "python",
   "pygments_lexer": "ipython3",
   "version": "3.10.13"
  }
 },
 "nbformat": 4,
 "nbformat_minor": 5
}
