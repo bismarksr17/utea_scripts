{
 "cells": [
  {
   "cell_type": "markdown",
   "id": "18a80bc5",
   "metadata": {},
   "source": [
    "# INSTALAR LIBRERIAS"
   ]
  },
  {
   "cell_type": "code",
   "execution_count": 3,
   "id": "7e312719",
   "metadata": {},
   "outputs": [],
   "source": [
    "# !pip install docx2pdf\n",
    "#pip install ipywidgets"
   ]
  },
  {
   "cell_type": "markdown",
   "id": "7e934ca6",
   "metadata": {},
   "source": [
    "# IMPORTAR"
   ]
  },
  {
   "cell_type": "code",
   "execution_count": 1,
   "id": "508a28c7",
   "metadata": {},
   "outputs": [],
   "source": [
    "from docx2pdf import convert\n",
    "import os"
   ]
  },
  {
   "cell_type": "markdown",
   "id": "64ec4ba6",
   "metadata": {},
   "source": [
    "# CONSTRUIR LA RUTA DE LOS ARCHIVOS"
   ]
  },
  {
   "cell_type": "code",
   "execution_count": 2,
   "id": "1fc560f3",
   "metadata": {},
   "outputs": [
    {
     "name": "stdout",
     "output_type": "stream",
     "text": [
      "SE ENCONTRARON 18 INFORMES\n",
      "18 INFORMES\n"
     ]
    },
    {
     "data": {
      "text/plain": [
       "['D:\\\\PYTHON\\\\utea_scripts\\\\reportes_credito_siembra\\\\informes/11750_REYES VALDIVIA JOSE.docx',\n",
       " 'D:\\\\PYTHON\\\\utea_scripts\\\\reportes_credito_siembra\\\\informes/11860_ROCA SERRANO ARMANDO.docx',\n",
       " 'D:\\\\PYTHON\\\\utea_scripts\\\\reportes_credito_siembra\\\\informes/1478_CALLE RALDEZ MARCO ANTONIO.docx',\n",
       " 'D:\\\\PYTHON\\\\utea_scripts\\\\reportes_credito_siembra\\\\informes/15308_VARGAS SOTO ELVIRA.docx',\n",
       " 'D:\\\\PYTHON\\\\utea_scripts\\\\reportes_credito_siembra\\\\informes/1533_CALVI PADILLA ROMAN.docx',\n",
       " 'D:\\\\PYTHON\\\\utea_scripts\\\\reportes_credito_siembra\\\\informes/1540_CALVI PADILLA MARIO.docx',\n",
       " 'D:\\\\PYTHON\\\\utea_scripts\\\\reportes_credito_siembra\\\\informes/1580_CALLE DELGADO IVER.docx',\n",
       " 'D:\\\\PYTHON\\\\utea_scripts\\\\reportes_credito_siembra\\\\informes/17678_ESPINOZA JUANA MAIDA DE .docx',\n",
       " 'D:\\\\PYTHON\\\\utea_scripts\\\\reportes_credito_siembra\\\\informes/18189_BALCAZAR SOLETO RAMON BERTHY.docx',\n",
       " 'D:\\\\PYTHON\\\\utea_scripts\\\\reportes_credito_siembra\\\\informes/1992_CLAROS CADIMA JUANA.docx',\n",
       " 'D:\\\\PYTHON\\\\utea_scripts\\\\reportes_credito_siembra\\\\informes/3415_ESPINOZA VILLEGAS GERARDO.docx',\n",
       " 'D:\\\\PYTHON\\\\utea_scripts\\\\reportes_credito_siembra\\\\informes/41819_AGROPECUARIA GUSTAVITO SRL.docx',\n",
       " 'D:\\\\PYTHON\\\\utea_scripts\\\\reportes_credito_siembra\\\\informes/41973_RIBERA JUSTINIANO JEFFER PAUL.docx',\n",
       " 'D:\\\\PYTHON\\\\utea_scripts\\\\reportes_credito_siembra\\\\informes/42047_TORREJON MONTAÑO ERICK FERNANDO.docx',\n",
       " 'D:\\\\PYTHON\\\\utea_scripts\\\\reportes_credito_siembra\\\\informes/4914_GONZALEZ LIMPIAS LUIS ALBERTO.docx',\n",
       " 'D:\\\\PYTHON\\\\utea_scripts\\\\reportes_credito_siembra\\\\informes/7821_LEON MONDAQUE ELISA.docx',\n",
       " 'D:\\\\PYTHON\\\\utea_scripts\\\\reportes_credito_siembra\\\\informes/7844_LAMAS QUINTEROS MILTON J.docx',\n",
       " 'D:\\\\PYTHON\\\\utea_scripts\\\\reportes_credito_siembra\\\\informes/8816_MONTANO GUTIERREZ CINDA.docx']"
      ]
     },
     "execution_count": 2,
     "metadata": {},
     "output_type": "execute_result"
    }
   ],
   "source": [
    "# colocar aqui la ruta de los archivos\n",
    "ruta = r'D:\\PYTHON\\utea_scripts\\reportes_credito_siembra\\informes'\n",
    "contenido = os.listdir(ruta)\n",
    "rutas =[]\n",
    "i = 0\n",
    "for name in contenido:\n",
    "    rutas.append(ruta + '/' + name)\n",
    "    i+=1\n",
    "\n",
    "print('SE ENCONTRARON ' + str(i) + ' INFORMES')\n",
    "print(len(rutas), 'INFORMES')\n",
    "rutas"
   ]
  },
  {
   "cell_type": "markdown",
   "id": "6b9af706",
   "metadata": {},
   "source": [
    "# INICIA EL PROCESO DE CONVERCIÓN"
   ]
  },
  {
   "cell_type": "code",
   "execution_count": 3,
   "id": "0f018b1e",
   "metadata": {
    "tags": []
   },
   "outputs": [
    {
     "name": "stdout",
     "output_type": "stream",
     "text": [
      "CONVIRTIENDO... INFORME 1 D:\\PYTHON\\utea_scripts\\reportes_credito_siembra\\informes/11750_REYES VALDIVIA JOSE.docx\n"
     ]
    },
    {
     "data": {
      "application/vnd.jupyter.widget-view+json": {
       "model_id": "ec6f33e45f8540b4a51fb41daa0eac36",
       "version_major": 2,
       "version_minor": 0
      },
      "text/plain": [
       "  0%|          | 0/1 [00:00<?, ?it/s]"
      ]
     },
     "metadata": {},
     "output_type": "display_data"
    },
    {
     "name": "stdout",
     "output_type": "stream",
     "text": [
      "CONVIRTIENDO... INFORME 2 D:\\PYTHON\\utea_scripts\\reportes_credito_siembra\\informes/11860_ROCA SERRANO ARMANDO.docx\n"
     ]
    },
    {
     "data": {
      "application/vnd.jupyter.widget-view+json": {
       "model_id": "91c32c5882cc4917a003d7d327ea770c",
       "version_major": 2,
       "version_minor": 0
      },
      "text/plain": [
       "  0%|          | 0/1 [00:00<?, ?it/s]"
      ]
     },
     "metadata": {},
     "output_type": "display_data"
    },
    {
     "name": "stdout",
     "output_type": "stream",
     "text": [
      "CONVIRTIENDO... INFORME 3 D:\\PYTHON\\utea_scripts\\reportes_credito_siembra\\informes/1478_CALLE RALDEZ MARCO ANTONIO.docx\n"
     ]
    },
    {
     "data": {
      "application/vnd.jupyter.widget-view+json": {
       "model_id": "b79f6e3564164e788966d05d01a1ffc8",
       "version_major": 2,
       "version_minor": 0
      },
      "text/plain": [
       "  0%|          | 0/1 [00:00<?, ?it/s]"
      ]
     },
     "metadata": {},
     "output_type": "display_data"
    },
    {
     "name": "stdout",
     "output_type": "stream",
     "text": [
      "CONVIRTIENDO... INFORME 4 D:\\PYTHON\\utea_scripts\\reportes_credito_siembra\\informes/15308_VARGAS SOTO ELVIRA.docx\n"
     ]
    },
    {
     "data": {
      "application/vnd.jupyter.widget-view+json": {
       "model_id": "97b6aceec5bf4f4a8814459bd639cb02",
       "version_major": 2,
       "version_minor": 0
      },
      "text/plain": [
       "  0%|          | 0/1 [00:00<?, ?it/s]"
      ]
     },
     "metadata": {},
     "output_type": "display_data"
    },
    {
     "name": "stdout",
     "output_type": "stream",
     "text": [
      "CONVIRTIENDO... INFORME 5 D:\\PYTHON\\utea_scripts\\reportes_credito_siembra\\informes/1533_CALVI PADILLA ROMAN.docx\n"
     ]
    },
    {
     "data": {
      "application/vnd.jupyter.widget-view+json": {
       "model_id": "48fcf6e07cf94f9c807e2a28dac4bd9e",
       "version_major": 2,
       "version_minor": 0
      },
      "text/plain": [
       "  0%|          | 0/1 [00:00<?, ?it/s]"
      ]
     },
     "metadata": {},
     "output_type": "display_data"
    },
    {
     "name": "stdout",
     "output_type": "stream",
     "text": [
      "CONVIRTIENDO... INFORME 6 D:\\PYTHON\\utea_scripts\\reportes_credito_siembra\\informes/1540_CALVI PADILLA MARIO.docx\n"
     ]
    },
    {
     "data": {
      "application/vnd.jupyter.widget-view+json": {
       "model_id": "f8457bf60c5e444ba91c29ede10a9591",
       "version_major": 2,
       "version_minor": 0
      },
      "text/plain": [
       "  0%|          | 0/1 [00:00<?, ?it/s]"
      ]
     },
     "metadata": {},
     "output_type": "display_data"
    },
    {
     "name": "stdout",
     "output_type": "stream",
     "text": [
      "CONVIRTIENDO... INFORME 7 D:\\PYTHON\\utea_scripts\\reportes_credito_siembra\\informes/1580_CALLE DELGADO IVER.docx\n"
     ]
    },
    {
     "data": {
      "application/vnd.jupyter.widget-view+json": {
       "model_id": "57dd62f99ddb4040999bb7c83b6ff665",
       "version_major": 2,
       "version_minor": 0
      },
      "text/plain": [
       "  0%|          | 0/1 [00:00<?, ?it/s]"
      ]
     },
     "metadata": {},
     "output_type": "display_data"
    },
    {
     "name": "stdout",
     "output_type": "stream",
     "text": [
      "CONVIRTIENDO... INFORME 8 D:\\PYTHON\\utea_scripts\\reportes_credito_siembra\\informes/17678_ESPINOZA JUANA MAIDA DE .docx\n"
     ]
    },
    {
     "data": {
      "application/vnd.jupyter.widget-view+json": {
       "model_id": "41f6ba7ffdc74c708f2c0b1de7fead9b",
       "version_major": 2,
       "version_minor": 0
      },
      "text/plain": [
       "  0%|          | 0/1 [00:00<?, ?it/s]"
      ]
     },
     "metadata": {},
     "output_type": "display_data"
    },
    {
     "name": "stdout",
     "output_type": "stream",
     "text": [
      "CONVIRTIENDO... INFORME 9 D:\\PYTHON\\utea_scripts\\reportes_credito_siembra\\informes/18189_BALCAZAR SOLETO RAMON BERTHY.docx\n"
     ]
    },
    {
     "data": {
      "application/vnd.jupyter.widget-view+json": {
       "model_id": "5727fc9c2836472aa1aa4e8efb663af3",
       "version_major": 2,
       "version_minor": 0
      },
      "text/plain": [
       "  0%|          | 0/1 [00:00<?, ?it/s]"
      ]
     },
     "metadata": {},
     "output_type": "display_data"
    },
    {
     "name": "stdout",
     "output_type": "stream",
     "text": [
      "CONVIRTIENDO... INFORME 10 D:\\PYTHON\\utea_scripts\\reportes_credito_siembra\\informes/1992_CLAROS CADIMA JUANA.docx\n"
     ]
    },
    {
     "data": {
      "application/vnd.jupyter.widget-view+json": {
       "model_id": "f5f1af9adb124ef8a618b1174ab12267",
       "version_major": 2,
       "version_minor": 0
      },
      "text/plain": [
       "  0%|          | 0/1 [00:00<?, ?it/s]"
      ]
     },
     "metadata": {},
     "output_type": "display_data"
    },
    {
     "name": "stdout",
     "output_type": "stream",
     "text": [
      "CONVIRTIENDO... INFORME 11 D:\\PYTHON\\utea_scripts\\reportes_credito_siembra\\informes/3415_ESPINOZA VILLEGAS GERARDO.docx\n"
     ]
    },
    {
     "data": {
      "application/vnd.jupyter.widget-view+json": {
       "model_id": "b2c7de43201045d29c61a3aa4683f721",
       "version_major": 2,
       "version_minor": 0
      },
      "text/plain": [
       "  0%|          | 0/1 [00:00<?, ?it/s]"
      ]
     },
     "metadata": {},
     "output_type": "display_data"
    },
    {
     "name": "stdout",
     "output_type": "stream",
     "text": [
      "CONVIRTIENDO... INFORME 12 D:\\PYTHON\\utea_scripts\\reportes_credito_siembra\\informes/41819_AGROPECUARIA GUSTAVITO SRL.docx\n"
     ]
    },
    {
     "data": {
      "application/vnd.jupyter.widget-view+json": {
       "model_id": "ae290d967b634c748045c3ace2aff6fa",
       "version_major": 2,
       "version_minor": 0
      },
      "text/plain": [
       "  0%|          | 0/1 [00:00<?, ?it/s]"
      ]
     },
     "metadata": {},
     "output_type": "display_data"
    },
    {
     "name": "stdout",
     "output_type": "stream",
     "text": [
      "CONVIRTIENDO... INFORME 13 D:\\PYTHON\\utea_scripts\\reportes_credito_siembra\\informes/41973_RIBERA JUSTINIANO JEFFER PAUL.docx\n"
     ]
    },
    {
     "data": {
      "application/vnd.jupyter.widget-view+json": {
       "model_id": "025dde65a83f42f4b314af8e90c4c053",
       "version_major": 2,
       "version_minor": 0
      },
      "text/plain": [
       "  0%|          | 0/1 [00:00<?, ?it/s]"
      ]
     },
     "metadata": {},
     "output_type": "display_data"
    },
    {
     "name": "stdout",
     "output_type": "stream",
     "text": [
      "CONVIRTIENDO... INFORME 14 D:\\PYTHON\\utea_scripts\\reportes_credito_siembra\\informes/42047_TORREJON MONTAÑO ERICK FERNANDO.docx\n"
     ]
    },
    {
     "data": {
      "application/vnd.jupyter.widget-view+json": {
       "model_id": "7001cb3afb8a4329b4397afd924d2490",
       "version_major": 2,
       "version_minor": 0
      },
      "text/plain": [
       "  0%|          | 0/1 [00:00<?, ?it/s]"
      ]
     },
     "metadata": {},
     "output_type": "display_data"
    },
    {
     "name": "stdout",
     "output_type": "stream",
     "text": [
      "CONVIRTIENDO... INFORME 15 D:\\PYTHON\\utea_scripts\\reportes_credito_siembra\\informes/4914_GONZALEZ LIMPIAS LUIS ALBERTO.docx\n"
     ]
    },
    {
     "data": {
      "application/vnd.jupyter.widget-view+json": {
       "model_id": "5d1d92c61e95477f8891e3f23503baa4",
       "version_major": 2,
       "version_minor": 0
      },
      "text/plain": [
       "  0%|          | 0/1 [00:00<?, ?it/s]"
      ]
     },
     "metadata": {},
     "output_type": "display_data"
    },
    {
     "name": "stdout",
     "output_type": "stream",
     "text": [
      "CONVIRTIENDO... INFORME 16 D:\\PYTHON\\utea_scripts\\reportes_credito_siembra\\informes/7821_LEON MONDAQUE ELISA.docx\n"
     ]
    },
    {
     "data": {
      "application/vnd.jupyter.widget-view+json": {
       "model_id": "c3e49053728f4a5399d2d77fab56c18f",
       "version_major": 2,
       "version_minor": 0
      },
      "text/plain": [
       "  0%|          | 0/1 [00:00<?, ?it/s]"
      ]
     },
     "metadata": {},
     "output_type": "display_data"
    },
    {
     "name": "stdout",
     "output_type": "stream",
     "text": [
      "CONVIRTIENDO... INFORME 17 D:\\PYTHON\\utea_scripts\\reportes_credito_siembra\\informes/7844_LAMAS QUINTEROS MILTON J.docx\n"
     ]
    },
    {
     "data": {
      "application/vnd.jupyter.widget-view+json": {
       "model_id": "c5dab8a92d13492cbfbbf548fc5d7604",
       "version_major": 2,
       "version_minor": 0
      },
      "text/plain": [
       "  0%|          | 0/1 [00:00<?, ?it/s]"
      ]
     },
     "metadata": {},
     "output_type": "display_data"
    },
    {
     "name": "stdout",
     "output_type": "stream",
     "text": [
      "CONVIRTIENDO... INFORME 18 D:\\PYTHON\\utea_scripts\\reportes_credito_siembra\\informes/8816_MONTANO GUTIERREZ CINDA.docx\n"
     ]
    },
    {
     "data": {
      "application/vnd.jupyter.widget-view+json": {
       "model_id": "1a3d7bfc2ceb4287bdaeac28b1629bc5",
       "version_major": 2,
       "version_minor": 0
      },
      "text/plain": [
       "  0%|          | 0/1 [00:00<?, ?it/s]"
      ]
     },
     "metadata": {},
     "output_type": "display_data"
    },
    {
     "name": "stdout",
     "output_type": "stream",
     "text": [
      "END\n"
     ]
    }
   ],
   "source": [
    "i = 1\n",
    "for filename in rutas:\n",
    "    print('CONVIRTIENDO... INFORME ' + str(i) + ' ' + filename)\n",
    "    convert(filename)\n",
    "    i+=1\n",
    "print('END')"
   ]
  }
 ],
 "metadata": {
  "kernelspec": {
   "display_name": "Python 3 (ipykernel)",
   "language": "python",
   "name": "python3"
  },
  "language_info": {
   "codemirror_mode": {
    "name": "ipython",
    "version": 3
   },
   "file_extension": ".py",
   "mimetype": "text/x-python",
   "name": "python",
   "nbconvert_exporter": "python",
   "pygments_lexer": "ipython3",
   "version": "3.10.13"
  }
 },
 "nbformat": 4,
 "nbformat_minor": 5
}
