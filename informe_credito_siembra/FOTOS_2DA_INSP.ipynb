{
 "cells": [
  {
   "cell_type": "markdown",
   "id": "efd45d64",
   "metadata": {},
   "source": [
    "## Librerias"
   ]
  },
  {
   "cell_type": "code",
   "execution_count": 2,
   "id": "5cb5968b",
   "metadata": {},
   "outputs": [],
   "source": [
    "from werkzeug.wrappers import Request, Response\n",
    "#from flask import Flask, render_template\n",
    "from jinja2 import Template\n",
    "\n",
    "#from datetime import date\n",
    "from datetime import datetime, timedelta\n",
    "\n",
    "import collections\n",
    "from amigocloud import AmigoCloud\n",
    "\n",
    "from datetime import datetime"
   ]
  },
  {
   "cell_type": "markdown",
   "id": "9429e2a1",
   "metadata": {},
   "source": [
    "## Conectar a AmigoCloud"
   ]
  },
  {
   "cell_type": "code",
   "execution_count": 3,
   "id": "b8cbf515-a519-4f36-a672-9d756da2e5bb",
   "metadata": {},
   "outputs": [],
   "source": [
    "# ruta de carpera donde estan las llaves\n",
    "ruta = open('../ruta.txt')\n",
    "ruta = ruta.readlines()[0]"
   ]
  },
  {
   "cell_type": "code",
   "execution_count": 3,
   "id": "b046e5ec-e53a-4681-b08b-5406ced2f306",
   "metadata": {},
   "outputs": [
    {
     "data": {
      "text/plain": [
       "<amigocloud.amigocloud.AmigoCloud at 0x26ae8de6048>"
      ]
     },
     "execution_count": 3,
     "metadata": {},
     "output_type": "execute_result"
    }
   ],
   "source": [
    "# leer token\n",
    "acceso = open(ruta + '/_keys/api_amigocloud.key','r')\n",
    "api_token = acceso.readlines()[0]\n",
    "acceso.close()\n",
    "amigocloud = AmigoCloud(token=api_token)\n",
    "amigocloud"
   ]
  },
  {
   "cell_type": "markdown",
   "id": "c1e7f707",
   "metadata": {},
   "source": [
    "## Datos de crédito"
   ]
  },
  {
   "cell_type": "code",
   "execution_count": 6,
   "id": "685262ce-7bbb-4469-92f2-eb113a0d5cba",
   "metadata": {},
   "outputs": [],
   "source": [
    "semana = 'S36'"
   ]
  },
  {
   "cell_type": "code",
   "execution_count": 11,
   "id": "3c8f0c01",
   "metadata": {},
   "outputs": [
    {
     "name": "stdout",
     "output_type": "stream",
     "text": [
      "end\n"
     ]
    }
   ],
   "source": [
    "query = {'query': 'select insp.canhero, prop.propiedad, lote.lote, gal.s3_filename, gal.amigocloud_url foto\\\n",
    "         from dataset_307560 insp\\\n",
    "         inner join dataset_307562 prop on insp.amigo_id=prop.insp_ref_prop\\\n",
    "         inner join dataset_307563 lote on prop.amigo_id=lote.prop_ref_lote\\\n",
    "         inner join gallery_48961 gal on lote.amigo_id=gal.source_amigo_id\\\n",
    "         where semana_2da = \\'{sem}\\' order by canhero'.format(sem=semana)}\n",
    "select = amigocloud.get('https://app.amigocloud.com/api/v1/projects/32672/sql', query)\n",
    "data = select['data']\n",
    "#credito = collections.namedtuple(\"credito\", credito_data.keys())(*credito_data.values())\n",
    "print('end')"
   ]
  },
  {
   "cell_type": "code",
   "execution_count": 12,
   "id": "e49ecf6d-4c9f-4e23-9264-781eba0df1ac",
   "metadata": {},
   "outputs": [
    {
     "data": {
      "text/plain": [
       "[{'canhero': '1104 / BRUNNER LIMPIAS JUAN CARLOS ',\n",
       "  'propiedad': '729 / HACIENDA SUAREZ I',\n",
       "  'lote': 'L2.1',\n",
       "  's3_filename': 'WhatsApp Image 2023-09-08 at 16.24.03.jpeg',\n",
       "  'foto': 'app.amigocloud.com/api/v1/related_tables/48961/files/769635e1728346a6a8553b816c8ed050/51cd95a8a73c470cb45672e2a821eee2/WhatsApp%20Image%202023-09-08%20at%2016.24.03.jpeg'},\n",
       " {'canhero': '11116 / QUENA OVANDO VICTOR',\n",
       "  'propiedad': '1235 / EL POTRERO--VICTOR QUENA',\n",
       "  'lote': 'L1',\n",
       "  's3_filename': 'WhatsApp Image 2023-09-08 at 15.45.01.jpeg',\n",
       "  'foto': 'app.amigocloud.com/api/v1/related_tables/48961/files/2f0f35b360c14a4987e8072a7bbc85aa/6d8103a1bf2148468d45f7f31c5cb45c/WhatsApp%20Image%202023-09-08%20at%2015.45.01.jpeg'},\n",
       " {'canhero': '11750 / REYES VALDIVIA JOSE ',\n",
       "  'propiedad': '43 / CHOCA I Y II--JOSE REYES VALDIVIA',\n",
       "  'lote': 'L11.2',\n",
       "  's3_filename': 'WhatsApp Image 2023-09-08 at 15.34.47.jpeg',\n",
       "  'foto': 'app.amigocloud.com/api/v1/related_tables/48961/files/9c254de0900e46c4808216a88e17bd7e/16e4cd9fbd0844f7b6d39f1089d0826f/WhatsApp%20Image%202023-09-08%20at%2015.34.47.jpeg'},\n",
       " {'canhero': '11750 / REYES VALDIVIA JOSE ',\n",
       "  'propiedad': '43 / CHOCA I Y II--JOSE REYES VALDIVIA',\n",
       "  'lote': 'L4.1',\n",
       "  's3_filename': 'WhatsApp Image 2023-09-08 at 15.34.48.jpeg',\n",
       "  'foto': 'app.amigocloud.com/api/v1/related_tables/48961/files/1f1f379118e14e06bcfb04b522e3a40d/e56c016903494bc9a93e02280fc62559/WhatsApp%20Image%202023-09-08%20at%2015.34.48.jpeg'},\n",
       " {'canhero': '13067 / SAUCEDO CERRUTI SONIA ',\n",
       "  'propiedad': '111 / NAICO--CERRUTI',\n",
       "  'lote': 'C10.2',\n",
       "  's3_filename': 'WhatsApp Image 2023-09-08 at 21.08.59.jpeg',\n",
       "  'foto': 'app.amigocloud.com/api/v1/related_tables/48961/files/94defd1a38174abab0e77d68e6f19ada/405c41d6beec49fe9fad8d73683800a2/WhatsApp%20Image%202023-09-08%20at%2021.08.59.jpeg'},\n",
       " {'canhero': '13067 / SAUCEDO CERRUTI SONIA ',\n",
       "  'propiedad': '111 / NAICO--CERRUTI',\n",
       "  'lote': 'C9.2',\n",
       "  's3_filename': 'WhatsApp Image 2023-09-08 at 21.08.59 (2).jpeg',\n",
       "  'foto': 'app.amigocloud.com/api/v1/related_tables/48961/files/e60d9e524ecf436dbbab40f846829be9/9455e09ad13f44f7bd5cf3b2dece7b9a/WhatsApp%20Image%202023-09-08%20at%2021.08.59%20(2).jpeg'},\n",
       " {'canhero': '13480 / TAPIA MARTINEZ FRANCISCO',\n",
       "  'propiedad': '1388 / CHAPARRAL--FRANCISCO TAPIA MARTINEZ',\n",
       "  'lote': 'L2',\n",
       "  's3_filename': 'WhatsApp Image 2023-09-08 at 14.30.45.jpeg',\n",
       "  'foto': 'app.amigocloud.com/api/v1/related_tables/48961/files/90ab011eaa124379ac1274ce06a5ef46/757b7912aae44cf4bd9dc9646c362869/WhatsApp%20Image%202023-09-08%20at%2014.30.45.jpeg'},\n",
       " {'canhero': '1693 / CANO DELGADILLO LIMBERG',\n",
       "  'propiedad': '1950 / CHAVARRIAS--CANO LIMBERG',\n",
       "  'lote': 'L2',\n",
       "  's3_filename': 'WhatsApp Image 2023-09-08 at 14.07.16 (1).jpeg',\n",
       "  'foto': 'app.amigocloud.com/api/v1/related_tables/48961/files/efa99573e25a4e3d88435f15b6b8e155/21ca6726eb764991b0f0ef6241b2c9bd/WhatsApp%20Image%202023-09-08%20at%2014.07.16%20(1).jpeg'},\n",
       " {'canhero': '2285 / CUELLAR ZABALA ADALBERTO',\n",
       "  'propiedad': '1587 / LAS CAÑA--CUELLAR',\n",
       "  'lote': 'L7',\n",
       "  's3_filename': 'WhatsApp Image 2023-09-08 at 13.44.53 (1).jpeg',\n",
       "  'foto': 'app.amigocloud.com/api/v1/related_tables/48961/files/819fc7078da34054b47882419762acd7/c90adb8b2cef45f399b7643f351b13fa/WhatsApp%20Image%202023-09-08%20at%2013.44.53%20(1).jpeg'},\n",
       " {'canhero': '2893 / DAVALOS SILVA MARIO',\n",
       "  'propiedad': '1208 / SAN JORGE--MARIO DAVALOS',\n",
       "  'lote': 'L7',\n",
       "  's3_filename': 'WhatsApp Image 2023-09-05 at 18.46.45 (1).jpeg',\n",
       "  'foto': 'app.amigocloud.com/api/v1/related_tables/48961/files/609bf89e4282498db0f7d4d5f2dedc07/3616761221dd463f8627d0e3d5a3398f/WhatsApp%20Image%202023-09-05%20at%2018.46.45%20(1).jpeg'},\n",
       " {'canhero': '40252 / BEJARANO ALVES LUIS ALBERTO ',\n",
       "  'propiedad': '40 / SAN VICENTE--ERWIN BEJARANO',\n",
       "  'lote': 'L1',\n",
       "  's3_filename': 'WhatsApp Image 2023-09-08 at 16.14.46.jpeg',\n",
       "  'foto': 'app.amigocloud.com/api/v1/related_tables/48961/files/de17e8b97cbb4aa68d170fc1c974fba4/556eb6b1da4643679dfcd8d299bbaca5/WhatsApp%20Image%202023-09-08%20at%2016.14.46.jpeg'},\n",
       " {'canhero': '41556 / FRANCO GUZMAN MARIA AILEN',\n",
       "  'propiedad': '1173 / CAÑAVERAL--GREGORIO FRANCO',\n",
       "  'lote': 'L2.1',\n",
       "  's3_filename': 'WhatsApp Image 2023-09-08 at 21.06.33.jpeg',\n",
       "  'foto': 'app.amigocloud.com/api/v1/related_tables/48961/files/dff88fb6fc99443f904ceae3ab70a82c/e1d6fc921db147e4a197d0a231954a85/WhatsApp%20Image%202023-09-08%20at%2021.06.33.jpeg'},\n",
       " {'canhero': '41556 / FRANCO GUZMAN MARIA AILEN',\n",
       "  'propiedad': '1173 / CAÑAVERAL--GREGORIO FRANCO',\n",
       "  'lote': 'L7',\n",
       "  's3_filename': 'WhatsApp Image 2023-09-08 at 21.06.34.jpeg',\n",
       "  'foto': 'app.amigocloud.com/api/v1/related_tables/48961/files/8b27bf76840b44cea1c2469a2c6d4896/be8ca05e8eaa436c89d7c780b5f21ca7/WhatsApp%20Image%202023-09-08%20at%2021.06.34.jpeg'},\n",
       " {'canhero': '42073 / TAPIA SEGOVIA ENRIQUE',\n",
       "  'propiedad': '1389 / DON FRANCISCO--FRANCISCO TAPIA',\n",
       "  'lote': 'L1.1',\n",
       "  's3_filename': 'WhatsApp Image 2023-09-08 at 14.32.06 (1).jpeg',\n",
       "  'foto': 'app.amigocloud.com/api/v1/related_tables/48961/files/afa72985f86b42e2be1788ccaf9b2585/8d32dc7cee1d4fd9b4d2b7d780d3da6d/WhatsApp%20Image%202023-09-08%20at%2014.32.06%20(1).jpeg'},\n",
       " {'canhero': '42182 / TAPIA SEGOVIA RONALD',\n",
       "  'propiedad': '49 / SAN JUAN DE LAS PARCELAS--FRANCISCO TAPIA',\n",
       "  'lote': 'L1',\n",
       "  's3_filename': 'WhatsApp Image 2023-09-08 at 14.32.06 (2).jpeg',\n",
       "  'foto': 'app.amigocloud.com/api/v1/related_tables/48961/files/f316f13cf7e24f8b9aec76e454d0bd1a/a9fb8e67907c4d8a96219a2301da2ad5/WhatsApp%20Image%202023-09-08%20at%2014.32.06%20(2).jpeg'},\n",
       " {'canhero': '5345 / HUANCA SUAREZ EDGAR ',\n",
       "  'propiedad': '26 / MONACO--HUANCA',\n",
       "  'lote': 'L4.2.1',\n",
       "  's3_filename': 'WhatsApp Image 2023-09-08 at 16.05.48.jpeg',\n",
       "  'foto': 'app.amigocloud.com/api/v1/related_tables/48961/files/70f1a188ee2e49859cf5ebd71f364efc/d200d8e9106346b499f287366fc2a81d/WhatsApp%20Image%202023-09-08%20at%2016.05.48.jpeg'},\n",
       " {'canhero': '6457 / JORDAN TONDELLY RODOLFO ',\n",
       "  'propiedad': '1088 / EL CHAPARRAL--RODOLFO JORDAN',\n",
       "  'lote': 'L2.7',\n",
       "  's3_filename': 'WhatsApp Image 2023-09-09 at 08.25.24.jpeg',\n",
       "  'foto': 'app.amigocloud.com/api/v1/related_tables/48961/files/c07b3f195e8348648214d464479a924d/20b50cbc1c324c708d5a611b80b7897c/WhatsApp%20Image%202023-09-09%20at%2008.25.24.jpeg'},\n",
       " {'canhero': '6457 / JORDAN TONDELLY RODOLFO ',\n",
       "  'propiedad': '1088 / EL CHAPARRAL--RODOLFO JORDAN',\n",
       "  'lote': 'L2.6',\n",
       "  's3_filename': 'WhatsApp Image 2023-09-09 at 08.25.22.jpeg',\n",
       "  'foto': 'app.amigocloud.com/api/v1/related_tables/48961/files/ae285b89d38d49988c146a233b3e2586/0bcb618274004d57883a18b7bc0cfd35/WhatsApp%20Image%202023-09-09%20at%2008.25.22.jpeg'},\n",
       " {'canhero': '8814 / MURIALDO MENDEZ WALTER DANIEL',\n",
       "  'propiedad': '222 / POTRERITO',\n",
       "  'lote': 'L56',\n",
       "  's3_filename': 'WhatsApp Image 2023-09-09 at 08.43.09.jpeg',\n",
       "  'foto': 'app.amigocloud.com/api/v1/related_tables/48961/files/577ac5959aa043819f5cbf87e856dab0/310ccceef55f40e586d6fde83457f51f/WhatsApp%20Image%202023-09-09%20at%2008.43.09.jpeg'},\n",
       " {'canhero': '8838 / MENDEZ PAZ MIRYAM',\n",
       "  'propiedad': '222 / POTRERITO',\n",
       "  'lote': 'L2',\n",
       "  's3_filename': 'WhatsApp Image 2023-09-09 at 09.20.11.jpeg',\n",
       "  'foto': 'app.amigocloud.com/api/v1/related_tables/48961/files/bb864bebdc334c55bb872f0822444346/00659f61078e4ec08ce849e7715a92e5/WhatsApp%20Image%202023-09-09%20at%2009.20.11.jpeg'},\n",
       " {'canhero': '8838 / MENDEZ PAZ MIRYAM',\n",
       "  'propiedad': '222 / POTRERITO',\n",
       "  'lote': 'L6',\n",
       "  's3_filename': 'WhatsApp Image 2023-09-09 at 09.20.13.jpeg',\n",
       "  'foto': 'app.amigocloud.com/api/v1/related_tables/48961/files/70acbc674ec64691a572b7f51f2815bd/dbaf1ebaa18c4198adfea2da791d4d90/WhatsApp%20Image%202023-09-09%20at%2009.20.13.jpeg'}]"
      ]
     },
     "execution_count": 12,
     "metadata": {},
     "output_type": "execute_result"
    }
   ],
   "source": [
    "data"
   ]
  },
  {
   "cell_type": "code",
   "execution_count": 13,
   "id": "48e765f2",
   "metadata": {},
   "outputs": [
    {
     "name": "stdout",
     "output_type": "stream",
     "text": [
      "WhatsApp Image 2023-09-08 at 16.24.03.jpeg\n",
      "WhatsApp Image 2023-09-08 at 15.45.01.jpeg\n",
      "WhatsApp Image 2023-09-08 at 15.34.47.jpeg\n",
      "WhatsApp Image 2023-09-08 at 15.34.48.jpeg\n",
      "WhatsApp Image 2023-09-08 at 21.08.59.jpeg\n",
      "WhatsApp Image 2023-09-08 at 21.08.59 (2).jpeg\n",
      "WhatsApp Image 2023-09-08 at 14.30.45.jpeg\n",
      "WhatsApp Image 2023-09-08 at 14.07.16 (1).jpeg\n",
      "WhatsApp Image 2023-09-08 at 13.44.53 (1).jpeg\n",
      "WhatsApp Image 2023-09-05 at 18.46.45 (1).jpeg\n",
      "WhatsApp Image 2023-09-08 at 16.14.46.jpeg\n",
      "WhatsApp Image 2023-09-08 at 21.06.33.jpeg\n",
      "WhatsApp Image 2023-09-08 at 21.06.34.jpeg\n",
      "WhatsApp Image 2023-09-08 at 14.32.06 (1).jpeg\n",
      "WhatsApp Image 2023-09-08 at 14.32.06 (2).jpeg\n",
      "WhatsApp Image 2023-09-08 at 16.05.48.jpeg\n",
      "WhatsApp Image 2023-09-09 at 08.25.24.jpeg\n",
      "WhatsApp Image 2023-09-09 at 08.25.22.jpeg\n",
      "WhatsApp Image 2023-09-09 at 08.43.09.jpeg\n",
      "WhatsApp Image 2023-09-09 at 09.20.11.jpeg\n",
      "WhatsApp Image 2023-09-09 at 09.20.13.jpeg\n"
     ]
    }
   ],
   "source": [
    "from docxtpl import DocxTemplate\n",
    "import docxtpl\n",
    "from docx.shared import Mm\n",
    "\n",
    "import requests\n",
    "\n",
    "doc = DocxTemplate(ruta + \"/templates/tpl_2da_fotos.docx\")\n",
    "\n",
    "#descargar fotos y generar lista InlineImage\n",
    "lista_fotos_inline = []\n",
    "for foto in data:\n",
    "    response = requests.get(\"https://www-amigocloud.s3.amazonaws.com/gallery/\" + foto['s3_filename'])\n",
    "    file = open(ruta + '/fotos/' + foto['s3_filename'], \"wb\")\n",
    "    file.write(response.content)\n",
    "    file.close()\n",
    "    lista_fotos_inline.append({'foto': docxtpl.InlineImage(doc, image_descriptor=ruta + '/fotos/' + foto['s3_filename'], width=Mm(120)), 'canhero': foto['canhero']})\n",
    "    print(foto['s3_filename'])\n",
    "\n",
    "context = {'fotos':lista_fotos_inline}\n",
    "\n",
    "doc.render(context)\n",
    "file_name = 'SEMANA - ' + semana\n",
    "doc.save(ruta + '/_' + file_name + '.docx')"
   ]
  }
 ],
 "metadata": {
  "kernelspec": {
   "display_name": "Python 3 (ipykernel)",
   "language": "python",
   "name": "python3"
  },
  "language_info": {
   "codemirror_mode": {
    "name": "ipython",
    "version": 3
   },
   "file_extension": ".py",
   "mimetype": "text/x-python",
   "name": "python",
   "nbconvert_exporter": "python",
   "pygments_lexer": "ipython3",
   "version": "3.7.16"
  }
 },
 "nbformat": 4,
 "nbformat_minor": 5
}
