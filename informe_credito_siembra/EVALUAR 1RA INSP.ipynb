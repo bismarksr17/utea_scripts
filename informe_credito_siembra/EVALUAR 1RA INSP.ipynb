{
 "cells": [
  {
   "cell_type": "code",
   "execution_count": 2,
   "id": "6cd3b3ca-e8ab-458c-8bdc-1930cb23c004",
   "metadata": {},
   "outputs": [
    {
     "data": {
      "text/html": [
       "<p>To authorize access needed by Earth Engine, open the following\n",
       "        URL in a web browser and follow the instructions:</p>\n",
       "        <p><a href=https://code.earthengine.google.com/client-auth?scopes=https%3A//www.googleapis.com/auth/earthengine%20https%3A//www.googleapis.com/auth/devstorage.full_control&request_id=SCXpEH64O2we2oQRcEDczYBsAdwaDAQzFGP-1-5VsU4&tc=ATVZFeWxlANHthtRLkt9Sj9kHpQZQChBheC3HK23eHo&cc=BAkjD-7qgdOhDQYOp1CPIweFJ25DTYkAZw0t0YOSdCI>https://code.earthengine.google.com/client-auth?scopes=https%3A//www.googleapis.com/auth/earthengine%20https%3A//www.googleapis.com/auth/devstorage.full_control&request_id=SCXpEH64O2we2oQRcEDczYBsAdwaDAQzFGP-1-5VsU4&tc=ATVZFeWxlANHthtRLkt9Sj9kHpQZQChBheC3HK23eHo&cc=BAkjD-7qgdOhDQYOp1CPIweFJ25DTYkAZw0t0YOSdCI</a></p>\n",
       "        <p>The authorization workflow will generate a code, which you\n",
       "        should paste in the box below</p>\n",
       "        "
      ],
      "text/plain": [
       "<IPython.core.display.HTML object>"
      ]
     },
     "metadata": {},
     "output_type": "display_data"
    },
    {
     "name": "stdin",
     "output_type": "stream",
     "text": [
      "Enter verification code:  4/1AbUR2VOiHXxKALIMbFmgpos_4ZInEtk51K6h6GUoSurwWMzDSeg3hmKU6eI\n"
     ]
    },
    {
     "name": "stdout",
     "output_type": "stream",
     "text": [
      "\n",
      "Successfully saved authorization token.\n"
     ]
    }
   ],
   "source": [
    "#import ee\n",
    "#ee.Authenticate()"
   ]
  },
  {
   "cell_type": "code",
   "execution_count": 1,
   "id": "1ab40136-cd00-4c3e-9847-735378d208a9",
   "metadata": {},
   "outputs": [
    {
     "ename": "ModuleNotFoundError",
     "evalue": "No module named 'geemap'",
     "output_type": "error",
     "traceback": [
      "\u001b[1;31m---------------------------------------------------------------------------\u001b[0m",
      "\u001b[1;31mModuleNotFoundError\u001b[0m                       Traceback (most recent call last)",
      "\u001b[1;32m~\\AppData\\Local\\Temp\\ipykernel_26428\\1311317415.py\u001b[0m in \u001b[0;36m<module>\u001b[1;34m\u001b[0m\n\u001b[0;32m      1\u001b[0m \u001b[1;31m# IMPORTS\u001b[0m\u001b[1;33m\u001b[0m\u001b[1;33m\u001b[0m\u001b[1;33m\u001b[0m\u001b[0m\n\u001b[1;32m----> 2\u001b[1;33m \u001b[1;32mimport\u001b[0m \u001b[0mgeemap\u001b[0m\u001b[1;33m\u001b[0m\u001b[1;33m\u001b[0m\u001b[0m\n\u001b[0m\u001b[0;32m      3\u001b[0m \u001b[1;32mimport\u001b[0m \u001b[0mee\u001b[0m\u001b[1;33m\u001b[0m\u001b[1;33m\u001b[0m\u001b[0m\n\u001b[0;32m      4\u001b[0m \u001b[0mee\u001b[0m\u001b[1;33m.\u001b[0m\u001b[0mInitialize\u001b[0m\u001b[1;33m(\u001b[0m\u001b[1;33m)\u001b[0m\u001b[1;33m\u001b[0m\u001b[1;33m\u001b[0m\u001b[0m\n\u001b[0;32m      5\u001b[0m \u001b[1;33m\u001b[0m\u001b[0m\n",
      "\u001b[1;31mModuleNotFoundError\u001b[0m: No module named 'geemap'"
     ]
    }
   ],
   "source": [
    "# IMPORTS\n",
    "import geemap\n",
    "import ee\n",
    "ee.Initialize()\n",
    "\n",
    "from amigocloud import AmigoCloud\n",
    "\n",
    "from shapely import wkb\n",
    "import geopandas\n",
    "import pandas as pd\n",
    "\n",
    "import ipywidgets as widgets\n",
    "from datetime import datetime"
   ]
  },
  {
   "cell_type": "code",
   "execution_count": 18,
   "id": "e1e669ee-de56-4476-84ef-811b3a676cea",
   "metadata": {},
   "outputs": [],
   "source": [
    "# ruta de carpera donde estan las llaves\n",
    "ruta = open('../ruta.txt')\n",
    "ruta = ruta.readlines()[0]"
   ]
  },
  {
   "cell_type": "code",
   "execution_count": 19,
   "id": "74c17c4e-1f36-49db-887e-360cfd5c87d9",
   "metadata": {},
   "outputs": [
    {
     "name": "stderr",
     "output_type": "stream",
     "text": [
      "WARNING:socketIO-client:app.amigocloud.com:443/v2_socket.io/socket.io [connection error] recv disconnected ([Errno 2] No such file or directory)\n"
     ]
    },
    {
     "data": {
      "text/plain": [
       "<amigocloud.amigocloud.AmigoCloud at 0x1c4ef7c9448>"
      ]
     },
     "execution_count": 19,
     "metadata": {},
     "output_type": "execute_result"
    }
   ],
   "source": [
    "# leer token\n",
    "acceso = open(ruta + '/_keys/api_amigocloud.key','r')\n",
    "api_token = acceso.readlines()[0]\n",
    "acceso.close()\n",
    "amigocloud = AmigoCloud(token=api_token)\n",
    "amigocloud"
   ]
  },
  {
   "cell_type": "code",
   "execution_count": 20,
   "id": "e9836930-348a-47fe-97a7-3112cfa38830",
   "metadata": {},
   "outputs": [],
   "source": [
    "Map = geemap.Map(basemap=\"SATELLITE\")\n",
    "\n",
    "# variables globales\n",
    "COD_CA = 1672\n",
    "# dataframes\n",
    "LOTES = None\n",
    "CANERO = None\n",
    "PROPIEDAD=None"
   ]
  },
  {
   "cell_type": "code",
   "execution_count": 21,
   "id": "099d115f-708f-489d-ad1a-27fc013160cb",
   "metadata": {},
   "outputs": [],
   "source": [
    "PROPIEDAD"
   ]
  },
  {
   "cell_type": "code",
   "execution_count": 22,
   "id": "2e02263a-dbb2-4aa3-ac8f-c193cca7217c",
   "metadata": {},
   "outputs": [],
   "source": [
    "##################################\n",
    "# FUNCIONES GENERALES\n",
    "##################################\n",
    "\n",
    "# funcion para conversion de wkb a poligonos\n",
    "def convertir_wkb(wkb_data):\n",
    "    return wkb.loads(wkb_data, hex=True)[0]\n",
    "\n",
    "def extraer_lotes_credito(amigo_id_prop):\n",
    "    # consulta sql para extraer los lotes de un credito\n",
    "    '''\n",
    "    query_credito = {'query': 'select * from dataset_282975 where (estado_de_siembra=\\'CAÑA NACIDA\\' or estado_de_siembra=\\'CAÑA NO NACIDA\\') \\\n",
    "                                and prop_ref_lote = \\'{prop_id}\\''.format(prop_id=amigo_id_prop)}\n",
    "    '''\n",
    "    query_credito = {'query': 'select * from dataset_307563 \\\n",
    "                                where prop_ref_lote = \\'{prop_id}\\''.format(prop_id=amigo_id_prop)}\n",
    "    \n",
    "    credito_select = amigocloud.get('https://app.amigocloud.com/api/v1/projects/32672/sql', query_credito)\n",
    "    credito_data = credito_select['data']\n",
    "    \n",
    "    # carga de datos seleccionados a DadaFrame\n",
    "    df = pd.DataFrame(credito_data)\n",
    "    df['geometria'] = df['geometria'].apply(convertir_wkb)\n",
    "    # DataFrame a GeoDataFrame\n",
    "    data = geopandas.GeoDataFrame(df, geometry='geometria')\n",
    "    # convercion a FeatureColleccion\n",
    "    ee_lotes = ee.FeatureCollection(data.__geo_interface__)\n",
    "    return ee_lotes\n",
    "\n",
    "def buscar_props_credito(cod_ca):\n",
    "    '''\n",
    "    query_credito = {'query': 'SELECT \\\n",
    "                     propiedad.propiedad PROPIEDAD, \\\n",
    "                     sum(lote.superficie) SUPERFICIE, \\\n",
    "                     propiedad.amigo_id \\\n",
    "                     FROM dataset_282969 credito \\\n",
    "                     INNER JOIN dataset_282968 propiedad ON credito.amigo_id=propiedad.cre_ref_prop\\\n",
    "                     INNER JOIN dataset_282975 lote ON propiedad.amigo_id=lote.prop_ref_lote\\\n",
    "                     where cast(SPLIT_PART(credito.canhero, \\' / \\', 1) as integer) = {cod}\\\n",
    "                     and (lote.estado_de_siembra=\\'CAÑA NACIDA\\' or lote.estado_de_siembra=\\'CAÑA NO NACIDA\\') \\\n",
    "                     group by propiedad.propiedad, propiedad.amigo_id'.format(cod=cod_ca)}\n",
    "    '''\n",
    "    query_credito = {'query': 'SELECT \\\n",
    "                     propiedad.propiedad PROPIEDAD, \\\n",
    "                     sum(lote.superficie) SUPERFICIE, \\\n",
    "                     propiedad.amigo_id \\\n",
    "                     FROM dataset_307560 insp \\\n",
    "                     INNER JOIN dataset_307562 propiedad ON insp.amigo_id=propiedad.insp_ref_prop \\\n",
    "                     INNER JOIN dataset_307563 lote ON propiedad.amigo_id=lote.prop_ref_lote \\\n",
    "                     where cast(SPLIT_PART(insp.canhero, \\' / \\', 1) as integer) = {cod} \\\n",
    "                     group by propiedad.propiedad, propiedad.amigo_id'.format(cod=cod_ca)}\n",
    "    \n",
    "    \n",
    "    credito_select = amigocloud.get('https://app.amigocloud.com/api/v1/projects/32672/sql', query_credito)\n",
    "    credito_data = credito_select['data']\n",
    "    return credito_data\n",
    "\n",
    "def buscar_datos_cañero(cod_ca):\n",
    "    query_credito = {'query': 'select canhero, solicitado, total_1ra_insp, respon_1ra_insp, muestreo, glifosato, nivelacion_1, drenaje,\\\n",
    "                                romeplow, rastra, subsolado, rotacion, arado, ferti_base, enraizadores, insecticidas, fungicidas, preemergente \\\n",
    "                                from dataset_307560 \\\n",
    "                                where cast(SPLIT_PART(canhero, \\' / \\', 1) as integer) = {cod}'.format(cod=cod_ca)}\n",
    "    credito_select = amigocloud.get('https://app.amigocloud.com/api/v1/projects/32672/sql', query_credito)\n",
    "    credito_data = credito_select['data']\n",
    "    return credito_data\n",
    "    \n",
    "def buscar_canhero(gui):\n",
    "    global CANERO\n",
    "    out.clear_output()\n",
    "    with out:\n",
    "        display('CARGANDO DATOS...')\n",
    "    \n",
    "    canhero = buscar_datos_cañero(cod_ca.value)\n",
    "    CANERO = canhero\n",
    "    df = pd.DataFrame(canhero)\n",
    "    out_canhero.clear_output()\n",
    "    with out_canhero:\n",
    "        display(df)\n",
    "    \n",
    "    if canhero != []:\n",
    "        # si el cañero existe, buscar sus propiedades\n",
    "        propiedades = buscar_props_credito(cod_ca.value)\n",
    "        \n",
    "        lista = []\n",
    "        for i in propiedades:\n",
    "            texto = i['propiedad'] + '//' + str(i['superficie']) + '//' + i['amigo_id']\n",
    "            lista.append(texto)\n",
    "        lista_props.options=lista\n",
    "    \n",
    "        df = pd.DataFrame(propiedades)\n",
    "    else:\n",
    "        out_canhero.clear_output()\n",
    "        with out_canhero:\n",
    "            display('ESTE CAÑERO NO TIENE PROPIEDADES ASIGNADAS')\n",
    "    \n",
    "def buscar_props():\n",
    "    cod_canhero = cod_prop.value\n",
    "    props = buscar_props_credito(cod_canhero)\n",
    "\n",
    "def get_fechas(coll):\n",
    "    def extraer_fecha(img):\n",
    "        return ee.Image(img).date().format('dd/MM/YYYY')\n",
    "    return coll.toList(coll.size(),0).map(extraer_fecha)    \n",
    "    \n",
    "def buscar_imagenes(lotes):\n",
    "    coleccion = ee.ImageCollection('COPERNICUS/S2_SR')\\\n",
    "                .filterBounds(lotes.geometry())\\\n",
    "                .filterDate(fecha_inicio.value.strftime('%Y-%m-%d'), fecha_final.value.strftime('%Y-%m-%d'))\\\n",
    "                .filterMetadata('CLOUDY_PIXEL_PERCENTAGE', 'less_than', nubocidad.value)\n",
    "    \n",
    "    # extraer IDs de la coleccion\n",
    "    ids = coleccion.reduceColumns(ee.Reducer.toList(), ['system:index']).get('list').getInfo()\n",
    "    # extraer fechas\n",
    "    fechas = get_fechas(coleccion).getInfo()\n",
    "    # tabla de datos\n",
    "    #dic = {'FECHA':fechas, 'ID':ids}\n",
    "    \n",
    "    #DF_IMGS = pd.DataFrame(dic)\n",
    "    lista=[]\n",
    "    contador=0\n",
    "    for i in ids:\n",
    "        texto = fechas[contador] + '//' + i\n",
    "        lista.append(texto)\n",
    "        contador=contador+1\n",
    "    lista_imgs.options=lista\n",
    "    \n",
    "def cargar_lotes(gui):\n",
    "    global PROPIEDAD\n",
    "    \n",
    "    PROPIEDAD = ee.FeatureCollection('projects/ee-bismarksr17/assets/CATASTRO_2023-05-15')\\\n",
    "                .filter(ee.Filter.eq('unidad_01', int(lista_props.value.split('//')[0].split(' / ')[0])))\n",
    "    \n",
    "    out.clear_output()\n",
    "    with out:\n",
    "        display('CARGANDO DATOS...')\n",
    "    global LOTES\n",
    "    amigo_id = gui['owner'].value.split('//')[2]\n",
    "    ee_lotes = extraer_lotes_credito(amigo_id)\n",
    "    LOTES = ee_lotes\n",
    "    \n",
    "    lista_lotes = ee_lotes.toList(ee_lotes.size(), 0).getInfo()\n",
    "    lista = []\n",
    "    for l in lista_lotes:\n",
    "        lista.append(l['properties'])\n",
    "    df = pd.DataFrame(lista)\n",
    "    df = df.drop(['amigo_id', 'estado_de_siembra', 'fecha_actualizacion', 'fecha_de_registro', 'fecha_siembra', 'obs_2','prop_ref_lote','variedad_sembrada'], axis=1)\n",
    "    out_lotes.clear_output()\n",
    "    with out_lotes:\n",
    "        display(df)\n",
    "    \n",
    "    Map.addLayer(PROPIEDAD.style(**vis_params_propiedad), {}, 'PROPIEDAD', shown=False)\n",
    "    \n",
    "    Map.centerObject(ee_lotes, 16)\n",
    "    Map.addLayer(ee_lotes.style(**vis_params_caña), {},'LOTES')\n",
    "    \n",
    "    buscar_imagenes(ee_lotes)\n",
    "            \n",
    "    out.clear_output()\n",
    "    with out:\n",
    "        display('LISTO...!!!')\n",
    "\n",
    "def cargar_img(gui):\n",
    "    \n",
    "    id_imagen = gui['owner'].value.split('//')[1]\n",
    "\n",
    "    # carga la imagen con las bandas de interes\n",
    "    img = ee.Image('COPERNICUS/S2_SR/'+id_imagen)\\\n",
    "            .multiply(0.0001)\\\n",
    "            .select(['B2','B3','B4','B8'], ['BLUE','GREEN','RED','NIR'])\n",
    "    Map.addLayer(img, viz_img, 'Imagen Sat')\n",
    "    Map.addLayer(PROPIEDAD.style(**vis_params_propiedad), {}, 'PROPIEDAD', shown=False)\n",
    "    Map.addLayer(LOTES.style(**vis_params_caña), {}, 'LOTES')\n",
    "    \n",
    "    out.clear_output()\n",
    "    with out:\n",
    "        display('LISTO...!!!')\n",
    "\n",
    "'''\n",
    "def buscar_calidad_siembra(cod_ca, cod_prop):\n",
    "    query_credito = {'query': 'select muest_suelo, glifosato, nivelacion, drenaje, romeplow, rastra, subsolado, arado, rotacion, fert_base, enraizadores, fungicidas, pre_emergente \\\n",
    "                                from dataset_273464 where cast(SPLIT_PART(canhero, \\' / \\', 1) as integer) = {cod_ca} and cast(SPLIT_PART(propiedad, \\' / \\', 1) as integer) = {cod_prop}'.format(cod_ca=cod_ca, cod_prop=cod_prop)}\n",
    "    credito_select = amigocloud.get('https://app.amigocloud.com/api/v1/projects/30860/sql', query_credito)\n",
    "    credito_data = credito_select['data']\n",
    "    return credito_data\n",
    "'''\n",
    "\n",
    "def buscar_calidad_siembra_por_prop(cod_prop):\n",
    "    query_credito = {'query': 'select cast(SPLIT_PART(canhero, \\' / \\', 1) as integer) cod_ca, SPLIT_PART(canhero, \\' / \\', 2) nom_ca,  responsable, muest_suelo, glifosato, nivelacion, drenaje, romeplow, rastra, subsolado, rotacion, arado, fert_base, enraizadores, insecticidas, fungicidas, pre_emergente \\\n",
    "                                from dataset_273464 where cast(SPLIT_PART(propiedad, \\' / \\', 1) as integer) = {cod_prop}'.format(cod_prop=cod_prop)}\n",
    "    credito_select = amigocloud.get('https://app.amigocloud.com/api/v1/projects/30860/sql', query_credito)\n",
    "    credito_data = credito_select['data']\n",
    "    return credito_data\n",
    "'''\n",
    "def cargar_calidad_siembra():\n",
    "    ca = cod_ca.value\n",
    "    prop = int(lista_props.value.split('//')[0].split(' / ')[0])\n",
    "    datos = buscar_calidad_siembra(ca, prop)\n",
    "    if(datos != []):\n",
    "        with out_canhero:\n",
    "            display(datos)\n",
    "    else:\n",
    "        with out_canhero:\n",
    "            display('SIN DATOS DE CALIDAD DE SIEMBRA PARA EL CAÑERO Y LA PROPIEDAD...!!!')\n",
    "'''\n",
    "\n",
    "def cargar_calidad_siembra_por_prop():\n",
    "    prop = int(lista_props.value.split('//')[0].split(' / ')[0])\n",
    "    datos = buscar_calidad_siembra_por_prop(prop)\n",
    "    return datos\n",
    "\n",
    "def buscar_calidad_soca_por_prop():\n",
    "    prop = int(lista_props.value.split('//')[0].split(' / ')[0])\n",
    "    query_credito = {'query': 'select cast(SPLIT_PART(canhero, \\' / \\', 1) as integer) cod_ca, SPLIT_PART(canhero, \\' / \\', 2) nom_ca, responsable, entera_fresca, entera_quemada, picada_fresca, picada_quemada, quema, hilerado, permanente, subsolado, fertilizado, pre_emergente, post_emergente \\\n",
    "                                from dataset_272975 where cast(SPLIT_PART(propiedad, \\' / \\', 1) as integer)={cod_prop}'.format(cod_prop=prop)}\n",
    "    credito_select = amigocloud.get('https://app.amigocloud.com/api/v1/projects/30837/sql', query_credito)\n",
    "    credito_data = credito_select['data']\n",
    "    return credito_data\n",
    "\n"
   ]
  },
  {
   "cell_type": "code",
   "execution_count": 23,
   "id": "70484747-9a71-4197-876d-a248bcc4e75a",
   "metadata": {},
   "outputs": [],
   "source": [
    "##################################\n",
    "# PARAMETROS DE VISUALIZACION\n",
    "##################################\n",
    "vis_params_caña = {\n",
    "    'color': 'blue', \n",
    "    'width': 2,\n",
    "    'lineType': 'solid',\n",
    "    'fillColor': '00000000',\n",
    "}\n",
    "\n",
    "vis_params_propiedad = {\n",
    "    'color': 'red', \n",
    "    'width': 2,\n",
    "    'lineType': 'solid',\n",
    "    'fillColor': '00000000',\n",
    "}\n",
    "\n",
    "viz_img = {\n",
    "    'bands':['RED','GREEN','BLUE'],\n",
    "    'min':0.0,\n",
    "    'max':0.5,\n",
    "    'fillColorOpacity': '0'\n",
    "}"
   ]
  },
  {
   "cell_type": "code",
   "execution_count": 24,
   "id": "8f1852f2-af34-4311-a35f-7bbfc23a8894",
   "metadata": {},
   "outputs": [],
   "source": [
    "##################################\n",
    "# CONTROLES\n",
    "##################################\n",
    "\n",
    "cod_ca = widgets.BoundedIntText(\n",
    "    value=1672,\n",
    "    min=0,\n",
    "    max=99999999999999999,\n",
    "    step=1,\n",
    "    disabled=False\n",
    ")\n",
    "\n",
    "btn_buscar_canhero = widgets.Button(\n",
    "    description='Buscar Cañero',\n",
    "    disabled=False,\n",
    "    button_style='', # 'success', 'info', 'warning', 'danger' or ''\n",
    "    tooltip='Buscar',\n",
    ")\n",
    "btn_buscar_canhero.on_click(buscar_canhero)\n",
    "\n",
    "lista_props = widgets.Dropdown(\n",
    "    options=['-'],\n",
    "    value='-'\n",
    ")\n",
    "lista_props.observe(cargar_lotes, names='index')\n",
    "\n",
    "# datepiker para fecha inicio\n",
    "fecha_inicio = widgets.DatePicker(\n",
    "    value=datetime(2022, 10, 1, 10, 15, 00, 00000),\n",
    "    disabled=False\n",
    ")\n",
    "\n",
    "# datepiker para fecha fin\n",
    "fecha_final = widgets.DatePicker(\n",
    "    value=datetime.now(),\n",
    "    disabled=False\n",
    ")\n",
    "\n",
    "nubocidad = widgets.BoundedIntText(\n",
    "    value=30,\n",
    "    min=0,\n",
    "    max=100,\n",
    "    step=10,\n",
    "    disabled=False\n",
    ")\n",
    "\n",
    "lista_imgs = widgets.Dropdown(\n",
    "    options=['-'],\n",
    "    value='-'\n",
    ")\n",
    "lista_imgs.observe(cargar_img, names='index')\n"
   ]
  },
  {
   "cell_type": "code",
   "execution_count": 25,
   "id": "310b9731-dd69-4df3-b8f8-494755e299a5",
   "metadata": {},
   "outputs": [
    {
     "data": {
      "application/vnd.jupyter.widget-view+json": {
       "model_id": "89b00d3a5ca6421386685d1b8178c6cf",
       "version_major": 2,
       "version_minor": 0
      },
      "text/plain": [
       "Box(children=(Box(children=(Label(value='COD. CAÑERO:'), BoundedIntText(value=1672, max=99999999999999999)), l…"
      ]
     },
     "metadata": {},
     "output_type": "display_data"
    }
   ],
   "source": [
    "##################################\n",
    "# FORMULARIO\n",
    "##################################\n",
    "\n",
    "form_item_layout = widgets.Layout(\n",
    "    display='flex',\n",
    "    flex_flow='row',\n",
    "    width='100%'\n",
    ")\n",
    "\n",
    "form_items = [\n",
    "    widgets.Box([widgets.Label(value='COD. CAÑERO:'), cod_ca], layout=form_item_layout),\n",
    "    widgets.Box([widgets.Label(value='BUSCAR CAÑERO:'), btn_buscar_canhero], layout=form_item_layout),\n",
    "    widgets.Box([widgets.Label(value='PROPIEDADES:'), lista_props], layout=form_item_layout),\n",
    "    widgets.Box([widgets.Label(value='FECHA INICIO:'), fecha_inicio], layout=form_item_layout),\n",
    "    widgets.Box([widgets.Label(value='FECHA FINAL:'), fecha_final], layout=form_item_layout),\n",
    "    widgets.Box([widgets.Label(value='NUBOCIDAD:'), nubocidad], layout=form_item_layout),\n",
    "    widgets.Box([widgets.Label(value='IMAGENES:'), lista_imgs], layout=form_item_layout)\n",
    "]\n",
    "\n",
    "form = widgets.Box(form_items, layout=widgets.Layout(\n",
    "    display='flex',\n",
    "    flex_flow='column',\n",
    "    border='solid 1px',\n",
    "    align_items='stretch',\n",
    "    width='100%'\n",
    "))\n",
    "form"
   ]
  },
  {
   "cell_type": "code",
   "execution_count": 26,
   "id": "76144f14-4434-495e-9d62-4dbc9e244be0",
   "metadata": {},
   "outputs": [
    {
     "data": {
      "application/vnd.jupyter.widget-view+json": {
       "model_id": "5e6a61800c644a47aa2d9c89a72f0a80",
       "version_major": 2,
       "version_minor": 0
      },
      "text/plain": [
       "Output(layout=Layout(border='1px solid black'))"
      ]
     },
     "metadata": {},
     "output_type": "display_data"
    }
   ],
   "source": [
    "out = widgets.Output(layout={'border': '1px solid black'})\n",
    "out"
   ]
  },
  {
   "cell_type": "code",
   "execution_count": 27,
   "id": "c776f48c-6718-4b26-8bbd-d59f1f8a3128",
   "metadata": {},
   "outputs": [
    {
     "data": {
      "application/vnd.jupyter.widget-view+json": {
       "model_id": "c6cd717a83314b218bf0c366cf0f1be4",
       "version_major": 2,
       "version_minor": 0
      },
      "text/plain": [
       "Output(layout=Layout(border='1px solid black'))"
      ]
     },
     "metadata": {},
     "output_type": "display_data"
    }
   ],
   "source": [
    "out_canhero = widgets.Output(layout={'border': '1px solid black'})\n",
    "out_canhero"
   ]
  },
  {
   "cell_type": "code",
   "execution_count": 28,
   "id": "cbbca364-77b3-4797-8341-f0a20bfff8c6",
   "metadata": {},
   "outputs": [
    {
     "data": {
      "application/vnd.jupyter.widget-view+json": {
       "model_id": "8a100b2669fb4e72af57390d83d95f74",
       "version_major": 2,
       "version_minor": 0
      },
      "text/plain": [
       "Output(layout=Layout(border='1px solid black'))"
      ]
     },
     "metadata": {},
     "output_type": "display_data"
    }
   ],
   "source": [
    "out_props = widgets.Output(layout={'border': '1px solid black'})\n",
    "out_props"
   ]
  },
  {
   "cell_type": "code",
   "execution_count": 29,
   "id": "afd92cbb-462c-4d8a-9a9e-69ed46f4675e",
   "metadata": {},
   "outputs": [
    {
     "data": {
      "application/vnd.jupyter.widget-view+json": {
       "model_id": "2e67ed86ff0649b4861b24b456a68008",
       "version_major": 2,
       "version_minor": 0
      },
      "text/plain": [
       "Map(center=[20, 0], controls=(WidgetControl(options=['position', 'transparent_bg'], widget=HBox(children=(Togg…"
      ]
     },
     "metadata": {},
     "output_type": "display_data"
    }
   ],
   "source": [
    "Map"
   ]
  },
  {
   "cell_type": "code",
   "execution_count": 30,
   "id": "ecb9db8a-eeb7-4753-bff0-32953db0d531",
   "metadata": {},
   "outputs": [
    {
     "data": {
      "application/vnd.jupyter.widget-view+json": {
       "model_id": "65343d830f5c44eb84dd9ab709d82da3",
       "version_major": 2,
       "version_minor": 0
      },
      "text/plain": [
       "Output(layout=Layout(border='1px solid black'))"
      ]
     },
     "metadata": {},
     "output_type": "display_data"
    }
   ],
   "source": [
    "out_lotes = widgets.Output(layout={'border': '1px solid black'})\n",
    "out_lotes"
   ]
  },
  {
   "cell_type": "code",
   "execution_count": 31,
   "id": "74532d68-89ff-4a2e-a77a-c9ed0e918168",
   "metadata": {},
   "outputs": [
    {
     "data": {
      "application/vnd.jupyter.widget-view+json": {
       "model_id": "a4d5a806a38e41368e03dd0525dc3968",
       "version_major": 2,
       "version_minor": 0
      },
      "text/plain": [
       "Output(layout=Layout(border='1px solid black'))"
      ]
     },
     "metadata": {},
     "output_type": "display_data"
    }
   ],
   "source": [
    "out_lotes = widgets.Output(layout={'border': '1px solid black'})\n",
    "out_lotes"
   ]
  },
  {
   "cell_type": "code",
   "execution_count": 32,
   "id": "da388bbe-48bf-492d-bcf3-fa1970e2d027",
   "metadata": {},
   "outputs": [
    {
     "ename": "NameError",
     "evalue": "name 'CALIDAD_SIEMBRA' is not defined",
     "output_type": "error",
     "traceback": [
      "\u001b[1;31m---------------------------------------------------------------------------\u001b[0m",
      "\u001b[1;31mNameError\u001b[0m                                 Traceback (most recent call last)",
      "\u001b[1;32m~\\AppData\\Local\\Temp/ipykernel_6632/2785221071.py\u001b[0m in \u001b[0;36m<module>\u001b[1;34m\u001b[0m\n\u001b[1;32m----> 1\u001b[1;33m \u001b[0mdf2\u001b[0m \u001b[1;33m=\u001b[0m \u001b[0mpd\u001b[0m\u001b[1;33m.\u001b[0m\u001b[0mDataFrame\u001b[0m\u001b[1;33m(\u001b[0m\u001b[0mCALIDAD_SIEMBRA\u001b[0m\u001b[1;33m)\u001b[0m\u001b[1;33m\u001b[0m\u001b[1;33m\u001b[0m\u001b[0m\n\u001b[0m\u001b[0;32m      2\u001b[0m \u001b[0mdf2\u001b[0m\u001b[1;33m\u001b[0m\u001b[1;33m\u001b[0m\u001b[0m\n",
      "\u001b[1;31mNameError\u001b[0m: name 'CALIDAD_SIEMBRA' is not defined"
     ]
    }
   ],
   "source": [
    "df2 = pd.DataFrame(CALIDAD_SIEMBRA)\n",
    "df2"
   ]
  },
  {
   "cell_type": "code",
   "execution_count": null,
   "id": "3eb20ee2-61d8-4489-9d3c-b3abcb8f3bd5",
   "metadata": {},
   "outputs": [],
   "source": []
  },
  {
   "cell_type": "code",
   "execution_count": null,
   "id": "86828493-f4f6-4912-8c16-e8e9ba777b03",
   "metadata": {},
   "outputs": [],
   "source": []
  },
  {
   "cell_type": "code",
   "execution_count": null,
   "id": "ab2e8b15-bf7d-4b84-8561-64cc5403bfe8",
   "metadata": {},
   "outputs": [],
   "source": []
  }
 ],
 "metadata": {
  "kernelspec": {
   "display_name": "Python 3 (ipykernel)",
   "language": "python",
   "name": "python3"
  },
  "language_info": {
   "codemirror_mode": {
    "name": "ipython",
    "version": 3
   },
   "file_extension": ".py",
   "mimetype": "text/x-python",
   "name": "python",
   "nbconvert_exporter": "python",
   "pygments_lexer": "ipython3",
   "version": "3.7.16"
  }
 },
 "nbformat": 4,
 "nbformat_minor": 5
}
