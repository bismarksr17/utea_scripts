{
 "cells": [
  {
   "cell_type": "code",
   "execution_count": 13,
   "id": "6658e010-c382-4e03-a45a-67c832b35ef9",
   "metadata": {},
   "outputs": [],
   "source": [
    "# werkzeug\n",
    "# shapely=1.7.1\n",
    "# geopandas\n",
    "# pandas\n",
    "# contextily\n",
    "# matplotlib\n",
    "# docxtpl\n",
    "# docx"
   ]
  },
  {
   "cell_type": "code",
   "execution_count": 60,
   "id": "8c292c7c-2591-4985-93c8-88314bca3d5a",
   "metadata": {},
   "outputs": [],
   "source": [
    "import sys\n",
    "sys.path.append('../_amigocloud')"
   ]
  },
  {
   "cell_type": "code",
   "execution_count": 61,
   "id": "665919a4-6184-4280-8c4c-64588f9131d6",
   "metadata": {},
   "outputs": [],
   "source": [
    "from werkzeug.wrappers import Request, Response\n",
    "from jinja2 import Template\n",
    "\n",
    "from datetime import datetime, timedelta\n",
    "\n",
    "import collections\n",
    "from amigocloud import AmigoCloud\n",
    "\n",
    "from datetime import datetime\n",
    "\n",
    "from shapely import wkb\n",
    "import geopandas\n",
    "import pandas as pd\n",
    "import contextily as ctx\n",
    "import matplotlib.pyplot as plt\n",
    "\n",
    "from docxtpl import DocxTemplate\n",
    "import docxtpl\n",
    "from docx.shared import Mm\n",
    "import requests\n",
    "\n",
    "import qrcode\n",
    "\n",
    "def convertir_wkb(wkb_data):\n",
    "    return wkb.loads(wkb_data, hex=True)"
   ]
  },
  {
   "cell_type": "code",
   "execution_count": 62,
   "id": "057998b9-c93b-4559-87c9-e82742149a8a",
   "metadata": {},
   "outputs": [],
   "source": [
    "# ruta de carpera donde estan las llaves\n",
    "ruta = open('../ruta.txt')\n",
    "ruta = ruta.readlines()[0]"
   ]
  },
  {
   "cell_type": "code",
   "execution_count": 63,
   "id": "f78ec737-093c-44bb-a782-1af54be4a65f",
   "metadata": {},
   "outputs": [
    {
     "data": {
      "text/plain": [
       "<amigocloud.AmigoCloud at 0x1b48f7fb1f0>"
      ]
     },
     "execution_count": 63,
     "metadata": {},
     "output_type": "execute_result"
    }
   ],
   "source": [
    "# leer token\n",
    "acceso = open(ruta + '/_keys/api_amigocloud.key','r')\n",
    "api_token = acceso.readlines()[0]\n",
    "acceso.close()\n",
    "amigocloud = AmigoCloud(token=api_token)\n",
    "amigocloud"
   ]
  },
  {
   "cell_type": "code",
   "execution_count": 64,
   "id": "671335c0-f848-4ced-9199-d1000c19c39b",
   "metadata": {},
   "outputs": [],
   "source": [
    "def generar_reporte(codigo_canhero):\n",
    "    # EXTRAER DATOS DE CREDITO\n",
    "    query_credito = {'query': 'select * from dataset_307560 where cast(SPLIT_PART(canhero, \\'/\\', 1) as integer) = {cod_ca}'.format(cod_ca=codigo_canhero)}\n",
    "    credito_select = amigocloud.get('https://app.amigocloud.com/api/v1/projects/32672/sql', query_credito)\n",
    "    credito_data = credito_select['data'][0]\n",
    "    credito_data['fecha_informe'] = (datetime.strptime(credito_data['fecha_1ra_insp'].split(' ')[0], '%Y-%m-%d') + timedelta(days=1)).strftime('%d/%m/%Y')\n",
    "    credito_data['fecha_1ra_insp'] = datetime.strptime(credito_data['fecha_1ra_insp'].split(' ')[0], '%Y-%m-%d').strftime('%d/%m/%Y')\n",
    "    credito = collections.namedtuple(\"credito\", credito_data.keys())(*credito_data.values())\n",
    "\n",
    "    # EXTRAER DATOS DE PROPIEDADES\n",
    "    query_propiedades = {'query': 'select * from dataset_307562 where insp_ref_prop = \\'{insp_ref_prop}\\''.format(insp_ref_prop=credito.amigo_id)}\n",
    "    propiedades_select = amigocloud.get('https://app.amigocloud.com/api/v1/projects/32672/sql', query_propiedades)\n",
    "    propiedades_data = propiedades_select['data']\n",
    "\n",
    "    # EXTRAER DATOS DE LOTES\n",
    "    propiedades = []\n",
    "    for prop in propiedades_data:\n",
    "        prop['lotes'] = []\n",
    "        query_lotes = {'query': 'select * from dataset_307563 where prop_ref_lote=\\'{prop_ref_lote}\\''.format(prop_ref_lote=prop['amigo_id'])}\n",
    "        lotes_select = amigocloud.get('https://app.amigocloud.com/api/v1/projects/32672/sql', query_lotes)\n",
    "        for lote_select in lotes_select['data']:\n",
    "            lote = collections.namedtuple(\"lote\", lote_select.keys())(*lote_select.values())\n",
    "            prop['lotes'].append(lote)\n",
    "        propiedades.append(collections.namedtuple(\"propiedad\", prop.keys())(*prop.values()))\n",
    "\n",
    "    # EXTRAER FOTOS\n",
    "    fotos = []\n",
    "    for propiedad in propiedades:\n",
    "        for lote in propiedad.lotes:\n",
    "            print(lote.lote, lote.amigo_id)\n",
    "            query_fotos = {'query': 'select source_amigo_id, s3_filename from gallery_46845 where source_amigo_id=\\'{source_amigo_id}\\''.format(source_amigo_id=lote.amigo_id)}\n",
    "            fotos_filename = amigocloud.get('https://app.amigocloud.com/api/v1/projects/32672/sql', query_fotos)\n",
    "            if fotos_filename['data'] != []:\n",
    "                dic = {'lote': lote.lote, 'file_name': fotos_filename['data'][0]['s3_filename']}\n",
    "                fotos.append(dic)\n",
    "\n",
    "    # GENERERAR PLANOS\n",
    "    i = 0\n",
    "    lista_planos = []\n",
    "    for propiedad in propiedades:\n",
    "        i = i + 1\n",
    "        lista_planos.append(generar_plano(propiedad, i))\n",
    "    \n",
    "    \n",
    "    # GENERAR QR\n",
    "    texto = '''\n",
    "--UTEA--\n",
    "--1RA INSPECCION CREDITO SIEMBRA--\n",
    "\n",
    "Codigo de Inspeccion: {cite}\n",
    "Fecha de Inspeccion: {fecha}\n",
    "Nombre de Canero: {canero}\n",
    "Codigo Canero: {cod_ca}\n",
    "Total Solicitado: {soli}\n",
    "Total Area Insp.: {total_area} ha\n",
    "Estado de Insp.: {estado}\n",
    "Tecnico Responsable: {tecnico}'''\\\n",
    "    .format(\n",
    "        cite=str(credito.cite_1ra_insp) + '-' + credito.fecha_1ra_insp.split('/')[2], \n",
    "        fecha=credito.fecha_1ra_insp, \n",
    "        canero=credito.canhero.split(' / ')[1],\n",
    "        cod_ca=credito.canhero.split(' / ')[0],\n",
    "        soli=credito.solicitado,\n",
    "        total_area=credito.total_1ra_insp,\n",
    "        estado=credito.estado_1ra_insp,\n",
    "        tecnico=credito.respon_1ra_insp)\n",
    "    # Generar el código QR\n",
    "    qr = qrcode.QRCode(\n",
    "        version=1,\n",
    "        error_correction=qrcode.constants.ERROR_CORRECT_L,\n",
    "        box_size=10,\n",
    "        border=4,\n",
    "    )\n",
    "    qr.add_data(texto)\n",
    "    qr.make(fit=True)\n",
    "    \n",
    "    qr_img = qr.make_image(fill_color=\"black\", back_color=\"white\")\n",
    "    \n",
    "    cod_ca = credito.canhero.split(' / ')[0]\n",
    "    nom_ca = credito.canhero.split(' / ')[1]\n",
    "    filename_qr = \"qr_\" + cod_ca + '_CRS_' + credito.fecha_informe.replace('/', '-') + '_' + nom_ca\n",
    "    ruta_qr = ruta + '/planos/' + filename_qr + '.png'\n",
    "    # Guardar el código QR en un archivo\n",
    "    qr_img.save(ruta_qr)\n",
    "\n",
    "    \n",
    "    \n",
    "    \n",
    "    \n",
    "\n",
    "        \n",
    "    # GENERAR REPORTE\n",
    "    doc = DocxTemplate(ruta + \"/templates/tpl_inf_credito_1ra.docx\")\n",
    "    #generar lista de InlineImage de planos \n",
    "    lista_InlineImage = []\n",
    "    for plano in lista_planos:\n",
    "        lista_InlineImage.append(docxtpl.InlineImage(doc, image_descriptor=plano, width=Mm(150)))\n",
    "    #descargar fotos y generar lista InlineImage\n",
    "    lista_fotos_inline = []\n",
    "    for foto in fotos:\n",
    "        #response = requests.get(\"https://www-amigocloud.s3.amazonaws.com/gallery/\" + foto['file_name'])\n",
    "        response = requests.get(\"https://www-amigocloud.s3.amazonaws.com/gallery/\" + foto['file_name'])\n",
    "        file = open(ruta + '/fotos/' + foto['file_name'], \"wb\")\n",
    "        file.write(response.content)\n",
    "        file.close()\n",
    "        lista_fotos_inline.append({'foto': docxtpl.InlineImage(doc, image_descriptor=ruta+'/fotos/' + foto['file_name'], width=Mm(120)), 'lote': foto['lote']})\n",
    "    firma_respon = None\n",
    "    if credito.respon_1ra_insp == 'Rogelio Acuña Rodríguez':\n",
    "        firma_respon = docxtpl.InlineImage(doc, image_descriptor=ruta+'/templates/firma_rogelio.png', width=Mm(60))\n",
    "    else:\n",
    "        firma_respon = docxtpl.InlineImage(doc, image_descriptor=ruta+'/templates/firma_jaldin.png', width=Mm(60))\n",
    "    # se crea obj inline par imagen QR\n",
    "    qr_file = docxtpl.InlineImage(doc, image_descriptor=ruta_qr, width=Mm(30))\n",
    "    \n",
    "    context = {'credito':credito, 'propiedades':propiedades, 'planos':lista_InlineImage, 'fotos':lista_fotos_inline, 'firma':firma_respon, 'qr':qr_file}\n",
    "    doc.render(context)\n",
    "    cod_ca = credito.canhero.split(' / ')[0]\n",
    "    nom_ca = credito.canhero.split(' / ')[1]\n",
    "    print(credito)\n",
    "    file_name = \"_\" + cod_ca + '_CRS_' + credito.fecha_informe.replace('/', '-') + '_' + nom_ca\n",
    "    doc.save(ruta + '/informes/' + file_name + '.docx')"
   ]
  },
  {
   "cell_type": "code",
   "execution_count": 65,
   "id": "f90ffde3-b794-45c0-a48e-f69a592752af",
   "metadata": {},
   "outputs": [],
   "source": [
    "def generar_plano(propiedad, i):\n",
    "    lotes_lista = []\n",
    "    for lote in propiedad.lotes:\n",
    "        lotes_lista.append(lote._asdict())\n",
    "    df = pd.DataFrame(lotes_lista)\n",
    "    df['geometria'] = df['geometria'].apply(convertir_wkb)\n",
    "\n",
    "    #Convertir a GeoDataFrame\n",
    "    data = geopandas.GeoDataFrame(df, geometry='geometria')\n",
    "    #data\n",
    "    #ctx.add_basemap(ax, source=ctx.providers.Esri.WorldImagery)\n",
    "\n",
    "    data['coords'] = data['geometria'].apply(lambda x: x.representative_point().coords[:])\n",
    "    data['coords'] = [coords[0] for coords in data['coords']]\n",
    "\n",
    "    data.crs = \"EPSG:4326\"\n",
    "    data = data.to_crs(epsg=3857)\n",
    "\n",
    "    \n",
    "    fig = plt.figure(i, figsize=(20,20))\n",
    "    #fig = plt.figure(1)\n",
    "    ax = None\n",
    "    ax = fig.add_subplot()\n",
    "\n",
    "    #data.set_crs(epsg=4326, inplace=True)\n",
    "\n",
    "    data.apply(lambda x: ax.annotate(text=x.lote + ' \\n' + str(x.superficie) + ' ha', xy=x.geometria.centroid.coords[0], ha='center', va='center', color='black', fontsize=12, weight=1000, bbox=dict(facecolor=(1,1,1,0.3), edgecolor='none', pad=0)), axis=1);\n",
    "\n",
    "    #data.boundary.plot(ax=ax, color=(0,0,0,0), linewidth=0)\n",
    "\n",
    "    #data = data.to_crs(epsg=3857)\n",
    "\n",
    "    minx, miny, maxx, maxy = data.total_bounds\n",
    "    ax.set_xlim(minx - 500, maxx + 500)\n",
    "    ax.set_ylim(miny - 400, maxy + 400)\n",
    "\n",
    "    data.plot(ax=ax, edgecolor='r', facecolor=(0,0,0,0), linewidth=2, figsize=(20,20))\n",
    "    #data.plot(ax=ax, edgecolor='r', facecolor=(0,0,0,0), linewidth=2)\n",
    "    \n",
    "    ctx.add_basemap(ax, source=ctx.providers.Esri.WorldImagery)\n",
    "    ax.set_axis_off()\n",
    "    ax.set_title(str(propiedad.propiedad), fontsize=20)\n",
    "    path = ruta+'/planos/' + str(propiedad.amigo_id) + '.jpeg'\n",
    "    fig.savefig(path, dpi = 300, bbox_inches='tight')\n",
    "    plt.clf()\n",
    "    return path"
   ]
  },
  {
   "cell_type": "code",
   "execution_count": 66,
   "id": "e4cd18b4-2c5c-4d42-a40a-7f98bb6650d4",
   "metadata": {},
   "outputs": [],
   "source": [
    "semana = 'S48'\n",
    "query = {'query': 'select split_part(canhero, \\' / \\', 1) cod, split_part(canhero, \\' / \\', 2) nom from dataset_307560 where semana_1ra = \\'{sem}\\''.format(sem=semana)}\n",
    "project = 'https://app.amigocloud.com/api/v1/projects/32672/sql'\n",
    "select = amigocloud.get(project, query)\n",
    "data = select['data']"
   ]
  },
  {
   "cell_type": "code",
   "execution_count": 67,
   "id": "4cb06cb9-c4eb-42ca-acf9-6156d769042b",
   "metadata": {},
   "outputs": [
    {
     "data": {
      "text/plain": [
       "[{'cod': '3414', 'nom': 'ESPINOZA TERRAZAS SERAFIN'},\n",
       " {'cod': '4528', 'nom': 'GUZMAN ORELLANA GUSTAVO'},\n",
       " {'cod': '14117', 'nom': 'CALLE MIRANDA LIMBER'},\n",
       " {'cod': '2224', 'nom': 'CRUZ VARGAS WILLY WALDO'},\n",
       " {'cod': '3460', 'nom': 'ESPINOZA MENDOZA SANTIAGO'},\n",
       " {'cod': '2315', 'nom': 'CORDOVA OLGUIN JUAN CARLOS'},\n",
       " {'cod': '42131', 'nom': 'AGROPECUARIA CAMPOAZUL S.R.L.'},\n",
       " {'cod': '2662', 'nom': 'DON SERAFIN SRL.'},\n",
       " {'cod': '30907', 'nom': 'ALVAREZ FUENTES JUAN CARLOS'},\n",
       " {'cod': '41562', 'nom': 'SUAREZ SALAS ERWIN RONALD'},\n",
       " {'cod': '2029', 'nom': 'COLAMARINO DI SILVIO ANGELO'},\n",
       " {'cod': '11805', 'nom': 'RIOJA CABRERA JOSE GROVER'},\n",
       " {'cod': '6578', 'nom': 'JALDIN ARREDONDO JOSE LUIS'},\n",
       " {'cod': '3481', 'nom': 'ESPINOZA MANCILLA REYNALDO'},\n",
       " {'cod': '42044', 'nom': 'ESPINOZA MANCILLA WILMA'},\n",
       " {'cod': '3421', 'nom': 'ESPINOZA HURTADO ARMANDO'},\n",
       " {'cod': '12478', 'nom': 'SERRATE COLAMARINO HUGO'},\n",
       " {'cod': '1580', 'nom': 'CALLE DELGADO IVER'},\n",
       " {'cod': '41544', 'nom': 'AMURRIO TAPIA JOSE LUIS'},\n",
       " {'cod': '8814', 'nom': 'MURIALDO MENDEZ WALTER DANIEL'}]"
      ]
     },
     "execution_count": 67,
     "metadata": {},
     "output_type": "execute_result"
    }
   ],
   "source": [
    "data"
   ]
  },
  {
   "cell_type": "code",
   "execution_count": 68,
   "id": "c9643d6a-4861-4ed3-b9ba-619aeaaeba46",
   "metadata": {},
   "outputs": [],
   "source": [
    "#lista = [1068, 18062, 10739, 41955, 2392, 15162, 2517, 8706, 15085, 430, 874, 5498, 2505, 2274]\n",
    "lista = [int(i['cod']) for i in data]"
   ]
  },
  {
   "cell_type": "code",
   "execution_count": 69,
   "id": "59340321-ace8-43b3-832b-75a531664da5",
   "metadata": {},
   "outputs": [
    {
     "name": "stdout",
     "output_type": "stream",
     "text": [
      "20 informes\n"
     ]
    }
   ],
   "source": [
    "print(len(lista), 'informes')"
   ]
  },
  {
   "cell_type": "code",
   "execution_count": 71,
   "id": "219f9b56-5d2d-4a0a-9df3-8b19c5e2ebec",
   "metadata": {},
   "outputs": [
    {
     "data": {
      "text/plain": [
       "[3414,\n",
       " 4528,\n",
       " 14117,\n",
       " 2224,\n",
       " 3460,\n",
       " 2315,\n",
       " 42131,\n",
       " 2662,\n",
       " 30907,\n",
       " 41562,\n",
       " 2029,\n",
       " 11805,\n",
       " 6578,\n",
       " 3481,\n",
       " 42044,\n",
       " 3421,\n",
       " 12478,\n",
       " 1580,\n",
       " 41544,\n",
       " 8814]"
      ]
     },
     "execution_count": 71,
     "metadata": {},
     "output_type": "execute_result"
    }
   ],
   "source": [
    "lista"
   ]
  },
  {
   "cell_type": "code",
   "execution_count": 72,
   "id": "70c4c82b-41de-461d-8a66-628ab505953f",
   "metadata": {},
   "outputs": [
    {
     "name": "stdout",
     "output_type": "stream",
     "text": [
      "L1 241a9b86d03b402a950f1f59d404c6af\n",
      "credito(fecha_registro='2023-11-16 00:59:31.305131+00:00', amigo_id='bbb4c430eafa434aa8481f79496b576b', semana_1ra='S48', semana_2da=None, institucion=3, canhero='3414 / ESPINOZA TERRAZAS SERAFIN', solicitado=10.0, total_1ra_insp=10.09, estado_1ra_insp='APROBADO', fecha_1ra_insp='28/11/2023', cite_1ra_insp=553, respon_1ra_insp='Rogelio Acuña Rodríguez', obs_1ra=None, link_doc_1ra=None, total_2da_insp=None, estado_2da_insp=None, fecha_2da_insp=None, cite_2da_insp=None, respon_2da_insp=None, obs_2da=None, link_doc_2da=None, total_nacido=None, total_no_nacido=None, muestreo=False, glifosato=False, nivelacion_1=True, drenaje=False, romeplow=True, rastra=True, subsolado=False, rotacion=True, arado=False, ferti_base=True, enraizadores=True, insecticidas=False, fungicidas=True, preemergente=True, fecha_actualizacion='2023-11-29 17:03:05.678507+00:00', fertilizacion=False, fungi_en_siem=False, insec_en_siem=False, promot_de_brota=False, pre_emergente=False, post_emergente=False, cultivado=False, ctrl_bio_tricho=False, insect_fisio_otros=False, ctrl_malezas=False, nivelacion_2=False, drenajes=False, financiamiento='IAG', id=359, fecha_informe='29/11/2023')\n",
      "====================== 3414\n",
      "L1 29009b5b99504e5d94fd2587a2beb178\n",
      "L5 ccb59fd0c85b4f84bbf69c287c54a0cf\n",
      "credito(fecha_registro='2023-11-16 00:59:31.305131+00:00', amigo_id='4709e87ac3fe45899fd7763a02a684c5', semana_1ra='S48', semana_2da=None, institucion=304, canhero='4528 / GUZMAN ORELLANA GUSTAVO', solicitado=10.0, total_1ra_insp=11.43, estado_1ra_insp='APROBADO', fecha_1ra_insp='27/11/2023', cite_1ra_insp=557, respon_1ra_insp='Juan Pablo Jaldin Duran', obs_1ra=None, link_doc_1ra=None, total_2da_insp=None, estado_2da_insp=None, fecha_2da_insp=None, cite_2da_insp=None, respon_2da_insp=None, obs_2da=None, link_doc_2da=None, total_nacido=None, total_no_nacido=None, muestreo=False, glifosato=True, nivelacion_1=True, drenaje=False, romeplow=True, rastra=True, subsolado=False, rotacion=True, arado=False, ferti_base=False, enraizadores=True, insecticidas=True, fungicidas=True, preemergente=True, fecha_actualizacion='2023-11-29 18:27:35.664905+00:00', fertilizacion=False, fungi_en_siem=False, insec_en_siem=False, promot_de_brota=False, pre_emergente=False, post_emergente=False, cultivado=False, ctrl_bio_tricho=False, insect_fisio_otros=False, ctrl_malezas=False, nivelacion_2=False, drenajes=False, financiamiento='IAG', id=388, fecha_informe='28/11/2023')\n",
      "====================== 4528\n",
      "L2 500bb4b7e3d74d0b9663a0226df35b66\n",
      "credito(fecha_registro='2023-11-16 00:59:31.305131+00:00', amigo_id='dd9bb1ebeff44aadb998623403b4dc5d', semana_1ra='S48', semana_2da=None, institucion=3, canhero='14117 / CALLE MIRANDA LIMBER', solicitado=10.0, total_1ra_insp=8.32, estado_1ra_insp='APROBADO', fecha_1ra_insp='28/11/2023', cite_1ra_insp=558, respon_1ra_insp='Rogelio Acuña Rodríguez', obs_1ra=None, link_doc_1ra=None, total_2da_insp=None, estado_2da_insp=None, fecha_2da_insp=None, cite_2da_insp=None, respon_2da_insp=None, obs_2da=None, link_doc_2da=None, total_nacido=None, total_no_nacido=None, muestreo=False, glifosato=True, nivelacion_1=False, drenaje=False, romeplow=True, rastra=True, subsolado=False, rotacion=True, arado=False, ferti_base=False, enraizadores=True, insecticidas=True, fungicidas=True, preemergente=True, fecha_actualizacion='2023-11-29 18:39:16.682076+00:00', fertilizacion=False, fungi_en_siem=False, insec_en_siem=False, promot_de_brota=False, pre_emergente=False, post_emergente=False, cultivado=False, ctrl_bio_tricho=False, insect_fisio_otros=False, ctrl_malezas=False, nivelacion_2=False, drenajes=False, financiamiento='IAG', id=358, fecha_informe='29/11/2023')\n",
      "====================== 14117\n",
      "L1 7ba539276b944920b59ff5433e38f09c\n",
      "credito(fecha_registro='2023-11-16 00:59:31.305131+00:00', amigo_id='21c0fe77e07b44eaa18cc95f97a4d86c', semana_1ra='S48', semana_2da=None, institucion=131, canhero='2224 / CRUZ VARGAS WILLY WALDO', solicitado=10.0, total_1ra_insp=17.76, estado_1ra_insp='APROBADO', fecha_1ra_insp='28/11/2023', cite_1ra_insp=559, respon_1ra_insp='Juan Pablo Jaldin Duran', obs_1ra=None, link_doc_1ra=None, total_2da_insp=None, estado_2da_insp=None, fecha_2da_insp=None, cite_2da_insp=None, respon_2da_insp=None, obs_2da=None, link_doc_2da=None, total_nacido=None, total_no_nacido=None, muestreo=False, glifosato=True, nivelacion_1=True, drenaje=False, romeplow=True, rastra=True, subsolado=False, rotacion=True, arado=False, ferti_base=False, enraizadores=True, insecticidas=True, fungicidas=True, preemergente=True, fecha_actualizacion='2023-11-29 18:40:00.984549+00:00', fertilizacion=False, fungi_en_siem=False, insec_en_siem=False, promot_de_brota=False, pre_emergente=False, post_emergente=False, cultivado=False, ctrl_bio_tricho=False, insect_fisio_otros=False, ctrl_malezas=False, nivelacion_2=False, drenajes=False, financiamiento='IAG', id=384, fecha_informe='29/11/2023')\n",
      "====================== 2224\n",
      "L8 1617e63e7019447d979de36a97ce1741\n",
      "L1 92a0105f24554cec8e2dd56bdc523908\n",
      "L4 e3159ca2598d42b6a55dce89dc7f494c\n",
      "L1 74dc8069f02f4e058b55e089f627229e\n",
      "credito(fecha_registro='2023-11-16 00:59:31.305131+00:00', amigo_id='5a8389b4b00549029ddbf9fea98015a7', semana_1ra='S48', semana_2da=None, institucion=1, canhero='3460 / ESPINOZA MENDOZA SANTIAGO', solicitado=50.0, total_1ra_insp=42.33, estado_1ra_insp='APROBADO', fecha_1ra_insp='27/11/2023', cite_1ra_insp=560, respon_1ra_insp='Rogelio Acuña Rodríguez', obs_1ra=None, link_doc_1ra=None, total_2da_insp=None, estado_2da_insp=None, fecha_2da_insp=None, cite_2da_insp=None, respon_2da_insp=None, obs_2da=None, link_doc_2da=None, total_nacido=None, total_no_nacido=None, muestreo=False, glifosato=False, nivelacion_1=False, drenaje=False, romeplow=True, rastra=True, subsolado=False, rotacion=True, arado=False, ferti_base=False, enraizadores=True, insecticidas=True, fungicidas=True, preemergente=True, fecha_actualizacion='2023-11-29 18:51:06.084672+00:00', fertilizacion=False, fungi_en_siem=False, insec_en_siem=False, promot_de_brota=False, pre_emergente=False, post_emergente=False, cultivado=False, ctrl_bio_tricho=False, insect_fisio_otros=False, ctrl_malezas=False, nivelacion_2=False, drenajes=False, financiamiento='IAG', id=285, fecha_informe='28/11/2023')\n",
      "====================== 3460\n",
      "L10 f0c04dd628ea474eb1981005d10e941a\n",
      "L14.3 cc2a9e9c4c0a43049ed89c0d144b8696\n",
      "L5 e91c443f9c224194a4071677f12c3fdd\n",
      "L14.4 8944cffbf88a456abd484f656111f803\n",
      "L2 15c2046176cc4465b214b5a6e3dd4345\n",
      "credito(fecha_registro='2023-11-16 00:59:31.305131+00:00', amigo_id='b3f3d488889047179f05d49037a09e6d', semana_1ra='S48', semana_2da=None, institucion=81, canhero='2315 / CORDOVA OLGUIN JUAN CARLOS', solicitado=50.0, total_1ra_insp=62.64, estado_1ra_insp='APROBADO', fecha_1ra_insp='24/11/2023', cite_1ra_insp=540, respon_1ra_insp='Rogelio Acuña Rodríguez', obs_1ra=None, link_doc_1ra=None, total_2da_insp=None, estado_2da_insp=None, fecha_2da_insp=None, cite_2da_insp=None, respon_2da_insp=None, obs_2da=None, link_doc_2da=None, total_nacido=None, total_no_nacido=None, muestreo=False, glifosato=False, nivelacion_1=True, drenaje=True, romeplow=True, rastra=True, subsolado=True, rotacion=True, arado=True, ferti_base=False, enraizadores=True, insecticidas=True, fungicidas=True, preemergente=True, fecha_actualizacion='2023-11-29 15:35:17.232494+00:00', fertilizacion=False, fungi_en_siem=False, insec_en_siem=False, promot_de_brota=False, pre_emergente=False, post_emergente=False, cultivado=False, ctrl_bio_tricho=False, insect_fisio_otros=False, ctrl_malezas=False, nivelacion_2=False, drenajes=False, financiamiento='IAG', id=291, fecha_informe='25/11/2023')\n",
      "====================== 2315\n",
      "L6 345fc962c5324c6186643c2488364646\n",
      "credito(fecha_registro='2023-11-16 00:59:31.305131+00:00', amigo_id='b5ade5c8ef94435a8b20a94ab024ebc9', semana_1ra='S48', semana_2da=None, institucion=304, canhero='42131 / AGROPECUARIA CAMPOAZUL S.R.L.', solicitado=55.0, total_1ra_insp=50.44, estado_1ra_insp='APROBADO', fecha_1ra_insp='27/11/2023', cite_1ra_insp=555, respon_1ra_insp='Juan Pablo Jaldin Duran', obs_1ra='LOTES ESTAN CON SOYA ESPERANDO COSECHA LUEGO SE REALIZARA OTRA CAMPAÑA MAS ANTES DE LA SIEMBRA DE CAÑA', link_doc_1ra=None, total_2da_insp=None, estado_2da_insp=None, fecha_2da_insp=None, cite_2da_insp=None, respon_2da_insp=None, obs_2da=None, link_doc_2da=None, total_nacido=None, total_no_nacido=None, muestreo=False, glifosato=True, nivelacion_1=True, drenaje=False, romeplow=True, rastra=True, subsolado=False, rotacion=True, arado=False, ferti_base=False, enraizadores=True, insecticidas=True, fungicidas=True, preemergente=True, fecha_actualizacion='2023-11-29 18:15:39.703073+00:00', fertilizacion=False, fungi_en_siem=False, insec_en_siem=False, promot_de_brota=False, pre_emergente=False, post_emergente=False, cultivado=False, ctrl_bio_tricho=False, insect_fisio_otros=False, ctrl_malezas=False, nivelacion_2=False, drenajes=False, financiamiento='IAG', id=284, fecha_informe='28/11/2023')\n",
      "====================== 42131\n",
      "L26 cbe19d6b46e840079bdfc8da140e1965\n",
      "L14 1945eb0ac50b45feac04d3383efc9b94\n",
      "L11 8ac9cc43fbc24ad298877d33838a46f7\n",
      "L28 29329414aecc45b6868a302420fead09\n",
      "L10 aa6969b493c5408f9dd3c6db89adfafc\n",
      "credito(fecha_registro='2023-11-16 00:59:31.305131+00:00', amigo_id='9301ae542a0641a4ad3c3539d29761a5', semana_1ra='S48', semana_2da=None, institucion=3, canhero='2662 / DON SERAFIN SRL.', solicitado=25.0, total_1ra_insp=26.63, estado_1ra_insp='APROBADO', fecha_1ra_insp='28/11/2023', cite_1ra_insp=554, respon_1ra_insp='Rogelio Acuña Rodríguez', obs_1ra=None, link_doc_1ra=None, total_2da_insp=None, estado_2da_insp=None, fecha_2da_insp=None, cite_2da_insp=None, respon_2da_insp=None, obs_2da=None, link_doc_2da=None, total_nacido=None, total_no_nacido=None, muestreo=True, glifosato=False, nivelacion_1=False, drenaje=True, romeplow=True, rastra=True, subsolado=False, rotacion=True, arado=False, ferti_base=True, enraizadores=True, insecticidas=True, fungicidas=True, preemergente=True, fecha_actualizacion='2023-11-29 17:16:00.869316+00:00', fertilizacion=False, fungi_en_siem=False, insec_en_siem=False, promot_de_brota=False, pre_emergente=False, post_emergente=False, cultivado=False, ctrl_bio_tricho=False, insect_fisio_otros=False, ctrl_malezas=False, nivelacion_2=False, drenajes=False, financiamiento='IAG', id=320, fecha_informe='29/11/2023')\n",
      "====================== 2662\n",
      "L25 0dc90a62cc1743b7bd7c88536a942981\n",
      "L21 ca30732341934db69446b1e002761c91\n",
      "L26 9f18ea996882462caeb22e176e428582\n",
      "L2.3 23387abba32244e39092c8ab18bb5981\n",
      "L19 4b515baef4d14a3989e345c655208220\n",
      "L30.3 756458d9fc9144a3a1c80cd2c1392ed6\n",
      "L23 a315ff84c3be4c57b6272ceb6f8fccf7\n",
      "credito(fecha_registro='2023-11-16 00:59:31.305131+00:00', amigo_id='335ef4ad8d44428995cfb441fcb56fd7', semana_1ra='S48', semana_2da=None, institucion=50, canhero='30907 / ALVAREZ FUENTES JUAN CARLOS', solicitado=20.0, total_1ra_insp=25.36, estado_1ra_insp='APROBADO', fecha_1ra_insp='28/11/2023', cite_1ra_insp=561, respon_1ra_insp='Juan Pablo Jaldin Duran', obs_1ra=None, link_doc_1ra=None, total_2da_insp=None, estado_2da_insp=None, fecha_2da_insp=None, cite_2da_insp=None, respon_2da_insp=None, obs_2da=None, link_doc_2da=None, total_nacido=None, total_no_nacido=None, muestreo=False, glifosato=False, nivelacion_1=True, drenaje=True, romeplow=True, rastra=True, subsolado=False, rotacion=False, arado=False, ferti_base=True, enraizadores=True, insecticidas=True, fungicidas=True, preemergente=True, fecha_actualizacion='2023-11-29 19:10:48.208325+00:00', fertilizacion=False, fungi_en_siem=False, insec_en_siem=False, promot_de_brota=False, pre_emergente=False, post_emergente=False, cultivado=False, ctrl_bio_tricho=False, insect_fisio_otros=False, ctrl_malezas=False, nivelacion_2=False, drenajes=False, financiamiento='IAG', id=334, fecha_informe='29/11/2023')\n",
      "====================== 30907\n",
      "L7.1 cee6e1e441d34be7b7b1316099c47306\n",
      "L2.1 b8dfa2b684b8423f8ed0fad7d3d563ae\n",
      "L7.2 354431a184864015b891602171726e4e\n",
      "L1.3 20e9f34299844fe3bec0d6a75fa1f0e0\n",
      "L3.3 fb5fcd1e1dbc419f80b52950618b505a\n",
      "L2 f9c70d7abfdd4eedbc19b604e3585ae9\n",
      "credito(fecha_registro='2023-11-16 00:59:31.305131+00:00', amigo_id='68a5a17bdaac42ef9d25d17b62a21922', semana_1ra='S48', semana_2da=None, institucion=40, canhero='41562 / SUAREZ SALAS ERWIN RONALD', solicitado=40.0, total_1ra_insp=34.95, estado_1ra_insp='APROBADO', fecha_1ra_insp='29/11/2023', cite_1ra_insp=566, respon_1ra_insp='Juan Pablo Jaldin Duran', obs_1ra=None, link_doc_1ra=None, total_2da_insp=None, estado_2da_insp=None, fecha_2da_insp=None, cite_2da_insp=None, respon_2da_insp=None, obs_2da=None, link_doc_2da=None, total_nacido=None, total_no_nacido=None, muestreo=False, glifosato=False, nivelacion_1=True, drenaje=False, romeplow=True, rastra=True, subsolado=False, rotacion=False, arado=False, ferti_base=False, enraizadores=True, insecticidas=True, fungicidas=True, preemergente=True, fecha_actualizacion='2023-11-29 20:15:39.750440+00:00', fertilizacion=False, fungi_en_siem=False, insec_en_siem=False, promot_de_brota=False, pre_emergente=False, post_emergente=False, cultivado=False, ctrl_bio_tricho=False, insect_fisio_otros=False, ctrl_malezas=False, nivelacion_2=False, drenajes=False, financiamiento='IAG', id=297, fecha_informe='30/11/2023')\n",
      "====================== 41562\n",
      "L4.1.1 6cb30db6bb64466587c344bf7db89b49\n",
      "L3.2 315c9513ea3b460fa57fe232c1859aa0\n",
      "L7.3 3c4cc1ed3a034327b0128d3dd88de6a1\n",
      "L2.3 2b78c629de144058ae1dbf315a2987eb\n",
      "L5 7a963616c2404d2d981a8d8a16e7f3d4\n",
      "L3.5 0cc788d9db314be19b0c509a048c5fa7\n",
      "L3.2 09e305f8cea94d7db16a16e70de148ae\n",
      "L1.3 02a4e72420d64f539dd636bbc1327146\n",
      "credito(fecha_registro='2023-11-16 00:59:31.305131+00:00', amigo_id='eb6703e3ff434e16a2bcb9eaab7e10f8', semana_1ra='S48', semana_2da=None, institucion=40, canhero='2029 / COLAMARINO DI SILVIO ANGELO', solicitado=40.0, total_1ra_insp=40.65, estado_1ra_insp='APROBADO', fecha_1ra_insp='29/11/2023', cite_1ra_insp=570, respon_1ra_insp='Juan Pablo Jaldin Duran', obs_1ra=None, link_doc_1ra=None, total_2da_insp=None, estado_2da_insp=None, fecha_2da_insp=None, cite_2da_insp=None, respon_2da_insp=None, obs_2da=None, link_doc_2da=None, total_nacido=None, total_no_nacido=None, muestreo=False, glifosato=False, nivelacion_1=True, drenaje=False, romeplow=True, rastra=True, subsolado=False, rotacion=False, arado=False, ferti_base=False, enraizadores=True, insecticidas=True, fungicidas=True, preemergente=True, fecha_actualizacion='2023-11-30 20:04:25.216186+00:00', fertilizacion=False, fungi_en_siem=False, insec_en_siem=False, promot_de_brota=False, pre_emergente=False, post_emergente=False, cultivado=False, ctrl_bio_tricho=False, insect_fisio_otros=False, ctrl_malezas=False, nivelacion_2=False, drenajes=False, financiamiento='IAG', id=296, fecha_informe='30/11/2023')\n",
      "====================== 2029\n",
      "L14 66a8cbc2bc1e4b7dacce971c62b699f5\n",
      "L1 fe4a51269263495abb6c4cf6352be929\n",
      "credito(fecha_registro='2023-11-16 00:59:31.305131+00:00', amigo_id='6fb855da18104da083f167defb776600', semana_1ra='S48', semana_2da=None, institucion=81, canhero='11805 / RIOJA CABRERA JOSE GROVER', solicitado=30.0, total_1ra_insp=55.05, estado_1ra_insp='APROBADO', fecha_1ra_insp='27/11/2023', cite_1ra_insp=565, respon_1ra_insp='Rogelio Acuña Rodríguez', obs_1ra=None, link_doc_1ra=None, total_2da_insp=None, estado_2da_insp=None, fecha_2da_insp=None, cite_2da_insp=None, respon_2da_insp=None, obs_2da=None, link_doc_2da=None, total_nacido=None, total_no_nacido=None, muestreo=False, glifosato=False, nivelacion_1=False, drenaje=True, romeplow=True, rastra=True, subsolado=False, rotacion=True, arado=False, ferti_base=False, enraizadores=True, insecticidas=True, fungicidas=True, preemergente=True, fecha_actualizacion='2023-11-29 19:53:40.067194+00:00', fertilizacion=False, fungi_en_siem=False, insec_en_siem=False, promot_de_brota=False, pre_emergente=False, post_emergente=False, cultivado=False, ctrl_bio_tricho=False, insect_fisio_otros=False, ctrl_malezas=False, nivelacion_2=False, drenajes=False, financiamiento='IAG', id=314, fecha_informe='28/11/2023')\n",
      "====================== 11805\n",
      "L8.1 27198c8e34684ee99c59a5a3cbbd0f7f\n",
      "L1.2 e56eed42adba45f6a35128a7e25d0355\n",
      "L6.1 080016612d0846219905c7500089c427\n",
      "L6 3b099f9224494db2b258034b727c7d19\n",
      "credito(fecha_registro='2023-11-16 00:59:31.305131+00:00', amigo_id='aebd0f1704894784a75b52ab233b3fb9', semana_1ra='S48', semana_2da=None, institucion=131, canhero='6578 / JALDIN ARREDONDO JOSE LUIS', solicitado=30.0, total_1ra_insp=24.5, estado_1ra_insp='APROBADO', fecha_1ra_insp='27/11/2023', cite_1ra_insp=562, respon_1ra_insp='Rogelio Acuña Rodríguez', obs_1ra=None, link_doc_1ra=None, total_2da_insp=None, estado_2da_insp=None, fecha_2da_insp=None, cite_2da_insp=None, respon_2da_insp=None, obs_2da=None, link_doc_2da=None, total_nacido=None, total_no_nacido=None, muestreo=False, glifosato=False, nivelacion_1=False, drenaje=False, romeplow=True, rastra=True, subsolado=False, rotacion=True, arado=False, ferti_base=False, enraizadores=True, insecticidas=True, fungicidas=True, preemergente=True, fecha_actualizacion='2023-11-29 19:29:13.603533+00:00', fertilizacion=False, fungi_en_siem=False, insec_en_siem=False, promot_de_brota=False, pre_emergente=False, post_emergente=False, cultivado=False, ctrl_bio_tricho=False, insect_fisio_otros=False, ctrl_malezas=False, nivelacion_2=False, drenajes=False, financiamiento='IAG', id=315, fecha_informe='28/11/2023')\n",
      "====================== 6578\n",
      "L2 db1f130209514858b1ff5d9269f9a782\n",
      "credito(fecha_registro='2023-11-16 00:59:31.305131+00:00', amigo_id='3d166acd69a44c429530c36e4bcf4a12', semana_1ra='S48', semana_2da=None, institucion=1, canhero='3481 / ESPINOZA MANCILLA REYNALDO', solicitado=12.0, total_1ra_insp=7.18, estado_1ra_insp='APROBADO', fecha_1ra_insp='28/11/2023', cite_1ra_insp=567, respon_1ra_insp='Rogelio Acuña Rodríguez', obs_1ra=None, link_doc_1ra=None, total_2da_insp=None, estado_2da_insp=None, fecha_2da_insp=None, cite_2da_insp=None, respon_2da_insp=None, obs_2da=None, link_doc_2da=None, total_nacido=None, total_no_nacido=None, muestreo=False, glifosato=False, nivelacion_1=False, drenaje=False, romeplow=True, rastra=True, subsolado=False, rotacion=True, arado=False, ferti_base=False, enraizadores=True, insecticidas=True, fungicidas=True, preemergente=True, fecha_actualizacion='2023-11-29 20:16:59.305734+00:00', fertilizacion=False, fungi_en_siem=False, insec_en_siem=False, promot_de_brota=False, pre_emergente=False, post_emergente=False, cultivado=False, ctrl_bio_tricho=False, insect_fisio_otros=False, ctrl_malezas=False, nivelacion_2=False, drenajes=False, financiamiento='IAG', id=353, fecha_informe='29/11/2023')\n",
      "====================== 3481\n",
      "L5.1 0e7040012376417faa5265a24e9c7903\n",
      "L2 d50245cb1b9a477c80fbd7704c5a240e\n",
      "credito(fecha_registro='2023-11-16 00:59:31.305131+00:00', amigo_id='044ecd2779db47a08b91d4d86740e3ad', semana_1ra='S48', semana_2da=None, institucion=1, canhero='42044 / ESPINOZA MANCILLA WILMA', solicitado=50.0, total_1ra_insp=10.55, estado_1ra_insp='APROBADO', fecha_1ra_insp='28/11/2023', cite_1ra_insp=568, respon_1ra_insp='Rogelio Acuña Rodríguez', obs_1ra=None, link_doc_1ra=None, total_2da_insp=None, estado_2da_insp=None, fecha_2da_insp=None, cite_2da_insp=None, respon_2da_insp=None, obs_2da=None, link_doc_2da=None, total_nacido=None, total_no_nacido=None, muestreo=False, glifosato=False, nivelacion_1=False, drenaje=False, romeplow=True, rastra=True, subsolado=False, rotacion=True, arado=False, ferti_base=False, enraizadores=True, insecticidas=True, fungicidas=False, preemergente=True, fecha_actualizacion='2023-11-29 20:23:46.916697+00:00', fertilizacion=False, fungi_en_siem=False, insec_en_siem=False, promot_de_brota=False, pre_emergente=False, post_emergente=False, cultivado=False, ctrl_bio_tricho=False, insect_fisio_otros=False, ctrl_malezas=False, nivelacion_2=False, drenajes=False, financiamiento='IAG', id=286, fecha_informe='29/11/2023')\n",
      "====================== 42044\n",
      "A3 fc3067ea53b142ef83b16189a955c8c1\n",
      "credito(fecha_registro='2023-11-16 00:59:31.305131+00:00', amigo_id='74c0e86da964468db0b00116c76b8d6e', semana_1ra='S48', semana_2da=None, institucion=3, canhero='3421 / ESPINOZA HURTADO ARMANDO', solicitado=10.0, total_1ra_insp=10.04, estado_1ra_insp='APROBADO', fecha_1ra_insp='28/11/2023', cite_1ra_insp=556, respon_1ra_insp='Rogelio Acuña Rodríguez', obs_1ra=None, link_doc_1ra=None, total_2da_insp=None, estado_2da_insp=None, fecha_2da_insp=None, cite_2da_insp=None, respon_2da_insp=None, obs_2da=None, link_doc_2da=None, total_nacido=None, total_no_nacido=None, muestreo=False, glifosato=False, nivelacion_1=False, drenaje=False, romeplow=True, rastra=True, subsolado=False, rotacion=True, arado=False, ferti_base=True, enraizadores=True, insecticidas=True, fungicidas=True, preemergente=True, fecha_actualizacion='2023-11-29 18:26:30.385338+00:00', fertilizacion=False, fungi_en_siem=False, insec_en_siem=False, promot_de_brota=False, pre_emergente=False, post_emergente=False, cultivado=False, ctrl_bio_tricho=False, insect_fisio_otros=False, ctrl_malezas=False, nivelacion_2=False, drenajes=False, financiamiento='IAG', id=360, fecha_informe='29/11/2023')\n",
      "====================== 3421\n",
      "L19 9cdeb6f431c144f4934404c064fa9072\n",
      "L20 affcdcc1cb154c888b5207e73d5e0b0a\n",
      "L4 b74599be97594e2cae4db1b64b9c5557\n",
      "L2 c8c85c67cb4b4dd8a7bb37673fcb4a69\n",
      "L3 0fa981ae5a604a7db55548e10ed5c090\n",
      "credito(fecha_registro='2023-11-16 00:59:31.305131+00:00', amigo_id='af9b8fe0d9c94dc4ab267881cd36db87', semana_1ra='S48', semana_2da=None, institucion=40, canhero='12478 / SERRATE COLAMARINO HUGO', solicitado=45.0, total_1ra_insp=71.08, estado_1ra_insp='APROBADO', fecha_1ra_insp='01/12/2023', cite_1ra_insp=572, respon_1ra_insp='Juan Pablo Jaldin Duran', obs_1ra=None, link_doc_1ra=None, total_2da_insp=None, estado_2da_insp=None, fecha_2da_insp=None, cite_2da_insp=None, respon_2da_insp=None, obs_2da=None, link_doc_2da=None, total_nacido=None, total_no_nacido=None, muestreo=False, glifosato=False, nivelacion_1=True, drenaje=True, romeplow=True, rastra=True, subsolado=False, rotacion=True, arado=False, ferti_base=True, enraizadores=True, insecticidas=True, fungicidas=True, preemergente=True, fecha_actualizacion='2023-12-01 14:42:38.006611+00:00', fertilizacion=False, fungi_en_siem=False, insec_en_siem=False, promot_de_brota=False, pre_emergente=False, post_emergente=False, cultivado=False, ctrl_bio_tricho=False, insect_fisio_otros=False, ctrl_malezas=False, nivelacion_2=False, drenajes=False, financiamiento='IAG', id=293, fecha_informe='02/12/2023')\n",
      "====================== 12478\n",
      "L1.1 7227a351281a48b28aaa12a61baecd81\n",
      "L1.1 8cd7dc82d63c4a339303b4eb3016b653\n",
      "L3 d8c529c17a57491ba23c00bb003c3adc\n",
      "L2 509cb0a4bf9d4f5fae57ecceaac2c598\n",
      "L7.2 0c162b38abc1400c8b06c226f628b752\n",
      "L8.2 1730d267885446b883ba97dd0bcd78b4\n",
      "credito(fecha_registro='2023-11-16 00:59:31.305131+00:00', amigo_id='9ef9634858d24f1394f176d10bfa8afc', semana_1ra='S48', semana_2da=None, institucion=3, canhero='1580 / CALLE DELGADO IVER', solicitado=40.0, total_1ra_insp=40.95, estado_1ra_insp='APROBADO', fecha_1ra_insp='29/11/2023', cite_1ra_insp=571, respon_1ra_insp='Rogelio Acuña Rodríguez', obs_1ra=None, link_doc_1ra=None, total_2da_insp=None, estado_2da_insp=None, fecha_2da_insp=None, cite_2da_insp=None, respon_2da_insp=None, obs_2da=None, link_doc_2da=None, total_nacido=None, total_no_nacido=None, muestreo=False, glifosato=False, nivelacion_1=False, drenaje=False, romeplow=True, rastra=True, subsolado=False, rotacion=True, arado=False, ferti_base=False, enraizadores=True, insecticidas=True, fungicidas=True, preemergente=True, fecha_actualizacion='2023-11-30 20:20:06.860843+00:00', fertilizacion=False, fungi_en_siem=False, insec_en_siem=False, promot_de_brota=False, pre_emergente=False, post_emergente=False, cultivado=False, ctrl_bio_tricho=False, insect_fisio_otros=False, ctrl_malezas=False, nivelacion_2=False, drenajes=False, financiamiento='IAG', id=294, fecha_informe='30/11/2023')\n",
      "====================== 1580\n",
      "L1 9604436830ca460fac75ee9ce53c0054\n",
      "credito(fecha_registro='2023-11-16 00:59:31.305131+00:00', amigo_id='57cb8b3d00d745239e4063948a51b64d', semana_1ra='S48', semana_2da=None, institucion=63, canhero='41544 / AMURRIO TAPIA JOSE LUIS', solicitado=25.0, total_1ra_insp=25.31, estado_1ra_insp='APROBADO', fecha_1ra_insp='29/11/2023', cite_1ra_insp=551, respon_1ra_insp='Rogelio Acuña Rodríguez', obs_1ra=None, link_doc_1ra=None, total_2da_insp=None, estado_2da_insp=None, fecha_2da_insp=None, cite_2da_insp=None, respon_2da_insp=None, obs_2da=None, link_doc_2da=None, total_nacido=None, total_no_nacido=None, muestreo=False, glifosato=False, nivelacion_1=False, drenaje=False, romeplow=True, rastra=True, subsolado=False, rotacion=True, arado=False, ferti_base=False, enraizadores=True, insecticidas=True, fungicidas=True, preemergente=True, fecha_actualizacion='2023-11-29 15:37:48.628444+00:00', fertilizacion=False, fungi_en_siem=False, insec_en_siem=False, promot_de_brota=False, pre_emergente=False, post_emergente=False, cultivado=False, ctrl_bio_tricho=False, insect_fisio_otros=False, ctrl_malezas=False, nivelacion_2=False, drenajes=False, financiamiento='IAG', id=324, fecha_informe='30/11/2023')\n",
      "====================== 41544\n",
      "L7 f05c8067dafb406fa3ba6ce69653e255\n",
      "credito(fecha_registro='2023-11-16 00:59:31.305131+00:00', amigo_id='f8f7ad5d10d046889dc6bfe0a65a5828', semana_1ra='S48', semana_2da=None, institucion=40, canhero='8814 / MURIALDO MENDEZ WALTER DANIEL', solicitado=25.0, total_1ra_insp=28.33, estado_1ra_insp='APROBADO', fecha_1ra_insp='29/11/2023', cite_1ra_insp=564, respon_1ra_insp='Juan Pablo Jaldin Duran', obs_1ra='EL LOTE ESTABA EN ROTACION CON SORGO YA ESTA COSECHADO Y SE APLICO GLIFOSATO, SE VOLVERA A PREPARAR PARA UNA CAMPAÑA MAS DE SORGO ANTES DE LA SIEMBRA DE CAÑA', link_doc_1ra=None, total_2da_insp=None, estado_2da_insp=None, fecha_2da_insp=None, cite_2da_insp=None, respon_2da_insp=None, obs_2da=None, link_doc_2da=None, total_nacido=None, total_no_nacido=None, muestreo=False, glifosato=True, nivelacion_1=True, drenaje=False, romeplow=True, rastra=True, subsolado=False, rotacion=True, arado=False, ferti_base=False, enraizadores=True, insecticidas=True, fungicidas=True, preemergente=True, fecha_actualizacion='2023-11-29 19:51:17.572016+00:00', fertilizacion=False, fungi_en_siem=False, insec_en_siem=False, promot_de_brota=False, pre_emergente=False, post_emergente=False, cultivado=False, ctrl_bio_tricho=False, insect_fisio_otros=False, ctrl_malezas=False, nivelacion_2=False, drenajes=False, financiamiento='IAG', id=322, fecha_informe='30/11/2023')\n",
      "====================== 8814\n"
     ]
    },
    {
     "data": {
      "text/plain": [
       "<Figure size 2000x2000 with 0 Axes>"
      ]
     },
     "metadata": {},
     "output_type": "display_data"
    },
    {
     "data": {
      "text/plain": [
       "<Figure size 2000x2000 with 0 Axes>"
      ]
     },
     "metadata": {},
     "output_type": "display_data"
    },
    {
     "data": {
      "text/plain": [
       "<Figure size 2000x2000 with 0 Axes>"
      ]
     },
     "metadata": {},
     "output_type": "display_data"
    },
    {
     "data": {
      "text/plain": [
       "<Figure size 2000x2000 with 0 Axes>"
      ]
     },
     "metadata": {},
     "output_type": "display_data"
    }
   ],
   "source": [
    "for i in lista:\n",
    "    generar_reporte(i)\n",
    "    print('======================', i)"
   ]
  }
 ],
 "metadata": {
  "kernelspec": {
   "display_name": "Python 3 (ipykernel)",
   "language": "python",
   "name": "python3"
  },
  "language_info": {
   "codemirror_mode": {
    "name": "ipython",
    "version": 3
   },
   "file_extension": ".py",
   "mimetype": "text/x-python",
   "name": "python",
   "nbconvert_exporter": "python",
   "pygments_lexer": "ipython3",
   "version": "3.10.13"
  }
 },
 "nbformat": 4,
 "nbformat_minor": 5
}
