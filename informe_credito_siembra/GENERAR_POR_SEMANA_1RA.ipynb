{
 "cells": [
  {
   "cell_type": "code",
   "execution_count": 1,
   "id": "6658e010-c382-4e03-a45a-67c832b35ef9",
   "metadata": {},
   "outputs": [],
   "source": [
    "# werkzeug\n",
    "# shapely=1.7.1\n",
    "# geopandas\n",
    "# pandas\n",
    "# contextily\n",
    "# matplotlib\n",
    "# docxtpl\n",
    "# docx"
   ]
  },
  {
   "cell_type": "code",
   "execution_count": 13,
   "id": "8c292c7c-2591-4985-93c8-88314bca3d5a",
   "metadata": {},
   "outputs": [],
   "source": [
    "import sys\n",
    "sys.path.append('../_amigocloud')"
   ]
  },
  {
   "cell_type": "code",
   "execution_count": 14,
   "id": "665919a4-6184-4280-8c4c-64588f9131d6",
   "metadata": {},
   "outputs": [],
   "source": [
    "from werkzeug.wrappers import Request, Response\n",
    "from jinja2 import Template\n",
    "\n",
    "from datetime import datetime, timedelta\n",
    "\n",
    "import collections\n",
    "from amigocloud import AmigoCloud\n",
    "\n",
    "from datetime import datetime\n",
    "\n",
    "from shapely import wkb\n",
    "import geopandas\n",
    "import pandas as pd\n",
    "import contextily as ctx\n",
    "import matplotlib.pyplot as plt\n",
    "\n",
    "from docxtpl import DocxTemplate\n",
    "import docxtpl\n",
    "from docx.shared import Mm\n",
    "import requests\n",
    "\n",
    "import qrcode\n",
    "\n",
    "def convertir_wkb(wkb_data):\n",
    "    return wkb.loads(wkb_data, hex=True)"
   ]
  },
  {
   "cell_type": "code",
   "execution_count": 15,
   "id": "057998b9-c93b-4559-87c9-e82742149a8a",
   "metadata": {},
   "outputs": [],
   "source": [
    "# ruta de carpera donde estan las llaves\n",
    "ruta = open('../ruta.txt')\n",
    "ruta = ruta.readlines()[0]"
   ]
  },
  {
   "cell_type": "code",
   "execution_count": 16,
   "id": "f78ec737-093c-44bb-a782-1af54be4a65f",
   "metadata": {},
   "outputs": [
    {
     "data": {
      "text/plain": [
       "<amigocloud.AmigoCloud at 0x2598831eef0>"
      ]
     },
     "execution_count": 16,
     "metadata": {},
     "output_type": "execute_result"
    }
   ],
   "source": [
    "# leer token\n",
    "acceso = open(ruta + '/_keys/api_amigocloud.key','r')\n",
    "api_token = acceso.readlines()[0]\n",
    "acceso.close()\n",
    "amigocloud = AmigoCloud(token=api_token)\n",
    "amigocloud"
   ]
  },
  {
   "cell_type": "code",
   "execution_count": 17,
   "id": "671335c0-f848-4ced-9199-d1000c19c39b",
   "metadata": {},
   "outputs": [],
   "source": [
    "def generar_reporte(codigo_canhero):\n",
    "    # EXTRAER DATOS DE CREDITO\n",
    "    query_credito = {'query': 'select * from dataset_307560 where cast(SPLIT_PART(canhero, \\'/\\', 1) as integer) = {cod_ca}'.format(cod_ca=codigo_canhero)}\n",
    "    credito_select = amigocloud.get('https://app.amigocloud.com/api/v1/projects/32672/sql', query_credito)\n",
    "    credito_data = credito_select['data'][0]\n",
    "    credito_data['fecha_informe'] = (datetime.strptime(credito_data['fecha_1ra_insp'].split(' ')[0], '%Y-%m-%d') + timedelta(days=1)).strftime('%d/%m/%Y')\n",
    "    credito_data['fecha_1ra_insp'] = datetime.strptime(credito_data['fecha_1ra_insp'].split(' ')[0], '%Y-%m-%d').strftime('%d/%m/%Y')\n",
    "    credito = collections.namedtuple(\"credito\", credito_data.keys())(*credito_data.values())\n",
    "\n",
    "    # EXTRAER DATOS DE PROPIEDADES\n",
    "    query_propiedades = {'query': 'select * from dataset_307562 where insp_ref_prop = \\'{insp_ref_prop}\\''.format(insp_ref_prop=credito.amigo_id)}\n",
    "    propiedades_select = amigocloud.get('https://app.amigocloud.com/api/v1/projects/32672/sql', query_propiedades)\n",
    "    propiedades_data = propiedades_select['data']\n",
    "\n",
    "    # EXTRAER DATOS DE LOTES\n",
    "    propiedades = []\n",
    "    for prop in propiedades_data:\n",
    "        prop['lotes'] = []\n",
    "        query_lotes = {'query': 'select * from dataset_307563 where prop_ref_lote=\\'{prop_ref_lote}\\''.format(prop_ref_lote=prop['amigo_id'])}\n",
    "        lotes_select = amigocloud.get('https://app.amigocloud.com/api/v1/projects/32672/sql', query_lotes)\n",
    "        for lote_select in lotes_select['data']:\n",
    "            lote = collections.namedtuple(\"lote\", lote_select.keys())(*lote_select.values())\n",
    "            prop['lotes'].append(lote)\n",
    "        propiedades.append(collections.namedtuple(\"propiedad\", prop.keys())(*prop.values()))\n",
    "\n",
    "    # EXTRAER FOTOS\n",
    "    fotos = []\n",
    "    for propiedad in propiedades:\n",
    "        for lote in propiedad.lotes:\n",
    "            print(lote.lote, lote.amigo_id)\n",
    "            query_fotos = {'query': 'select source_amigo_id, s3_filename from gallery_46845 where source_amigo_id=\\'{source_amigo_id}\\''.format(source_amigo_id=lote.amigo_id)}\n",
    "            fotos_filename = amigocloud.get('https://app.amigocloud.com/api/v1/projects/32672/sql', query_fotos)\n",
    "            if fotos_filename['data'] != []:\n",
    "                dic = {'lote': lote.lote, 'file_name': fotos_filename['data'][0]['s3_filename']}\n",
    "                fotos.append(dic)\n",
    "\n",
    "    # GENERERAR PLANOS\n",
    "    i = 0\n",
    "    lista_planos = []\n",
    "    for propiedad in propiedades:\n",
    "        i = i + 1\n",
    "        lista_planos.append(generar_plano(propiedad, i))\n",
    "    \n",
    "    \n",
    "    # GENERAR QR\n",
    "    texto = '''\n",
    "--UTEA--\n",
    "--1RA INSPECCION CREDITO SIEMBRA--\n",
    "\n",
    "Codigo de Inspeccion: {cite}\n",
    "Fecha de Inspeccion: {fecha}\n",
    "Nombre de Canero: {canero}\n",
    "Codigo Canero: {cod_ca}\n",
    "Total Solicitado: {soli}\n",
    "Total Area Insp.: {total_area} ha\n",
    "Estado de Insp.: {estado}\n",
    "Tecnico Responsable: {tecnico}'''\\\n",
    "    .format(\n",
    "        cite=str(credito.cite_1ra_insp) + '-' + credito.fecha_1ra_insp.split('/')[2], \n",
    "        fecha=credito.fecha_1ra_insp, \n",
    "        canero=credito.canhero.split(' / ')[1],\n",
    "        cod_ca=credito.canhero.split(' / ')[0],\n",
    "        soli=credito.solicitado,\n",
    "        total_area=credito.total_1ra_insp,\n",
    "        estado=credito.estado_1ra_insp,\n",
    "        tecnico=credito.respon_1ra_insp)\n",
    "    # Generar el código QR\n",
    "    qr = qrcode.QRCode(\n",
    "        version=1,\n",
    "        error_correction=qrcode.constants.ERROR_CORRECT_L,\n",
    "        box_size=10,\n",
    "        border=4,\n",
    "    )\n",
    "    qr.add_data(texto)\n",
    "    qr.make(fit=True)\n",
    "    \n",
    "    qr_img = qr.make_image(fill_color=\"black\", back_color=\"white\")\n",
    "    \n",
    "    cod_ca = credito.canhero.split(' / ')[0]\n",
    "    nom_ca = credito.canhero.split(' / ')[1]\n",
    "    filename_qr = \"qr_\" + cod_ca + '_CRS_' + credito.fecha_informe.replace('/', '-') + '_' + nom_ca\n",
    "    ruta_qr = ruta + '/planos/' + filename_qr + '.png'\n",
    "    # Guardar el código QR en un archivo\n",
    "    qr_img.save(ruta_qr)\n",
    "\n",
    "    \n",
    "    \n",
    "    \n",
    "    \n",
    "\n",
    "        \n",
    "    # GENERAR REPORTE\n",
    "    doc = DocxTemplate(ruta + \"/templates/tpl_inf_credito_1ra.docx\")\n",
    "    #generar lista de InlineImage de planos \n",
    "    lista_InlineImage = []\n",
    "    for plano in lista_planos:\n",
    "        lista_InlineImage.append(docxtpl.InlineImage(doc, image_descriptor=plano, width=Mm(150)))\n",
    "    #descargar fotos y generar lista InlineImage\n",
    "    lista_fotos_inline = []\n",
    "    for foto in fotos:\n",
    "        #response = requests.get(\"https://www-amigocloud.s3.amazonaws.com/gallery/\" + foto['file_name'])\n",
    "        response = requests.get(\"https://www-amigocloud.s3.amazonaws.com/gallery/\" + foto['file_name'])\n",
    "        file = open(ruta + '/fotos/' + foto['file_name'], \"wb\")\n",
    "        file.write(response.content)\n",
    "        file.close()\n",
    "        lista_fotos_inline.append({'foto': docxtpl.InlineImage(doc, image_descriptor=ruta+'/fotos/' + foto['file_name'], width=Mm(120)), 'lote': foto['lote']})\n",
    "    firma_respon = None\n",
    "    if credito.respon_1ra_insp == 'Rogelio Acuña Rodríguez':\n",
    "        firma_respon = docxtpl.InlineImage(doc, image_descriptor=ruta+'/templates/firma_rogelio.png', width=Mm(60))\n",
    "    else:\n",
    "        firma_respon = docxtpl.InlineImage(doc, image_descriptor=ruta+'/templates/firma_jaldin.png', width=Mm(60))\n",
    "    # se crea obj inline par imagen QR\n",
    "    qr_file = docxtpl.InlineImage(doc, image_descriptor=ruta_qr, width=Mm(30))\n",
    "    \n",
    "    context = {'credito':credito, 'propiedades':propiedades, 'planos':lista_InlineImage, 'fotos':lista_fotos_inline, 'firma':firma_respon, 'qr':qr_file}\n",
    "    doc.render(context)\n",
    "    cod_ca = credito.canhero.split(' / ')[0]\n",
    "    nom_ca = credito.canhero.split(' / ')[1]\n",
    "    print(credito)\n",
    "    file_name = \"_\" + cod_ca + '_CRS_' + credito.fecha_informe.replace('/', '-') + '_' + nom_ca\n",
    "    doc.save(ruta + '/informes/' + file_name + '.docx')"
   ]
  },
  {
   "cell_type": "code",
   "execution_count": 18,
   "id": "f90ffde3-b794-45c0-a48e-f69a592752af",
   "metadata": {},
   "outputs": [],
   "source": [
    "def generar_plano(propiedad, i):\n",
    "    lotes_lista = []\n",
    "    for lote in propiedad.lotes:\n",
    "        lotes_lista.append(lote._asdict())\n",
    "    df = pd.DataFrame(lotes_lista)\n",
    "    df['geometria'] = df['geometria'].apply(convertir_wkb)\n",
    "\n",
    "    #Convertir a GeoDataFrame\n",
    "    data = geopandas.GeoDataFrame(df, geometry='geometria')\n",
    "    #data\n",
    "    #ctx.add_basemap(ax, source=ctx.providers.Esri.WorldImagery)\n",
    "\n",
    "    data['coords'] = data['geometria'].apply(lambda x: x.representative_point().coords[:])\n",
    "    data['coords'] = [coords[0] for coords in data['coords']]\n",
    "\n",
    "    data.crs = \"EPSG:4326\"\n",
    "    data = data.to_crs(epsg=3857)\n",
    "\n",
    "    \n",
    "    fig = plt.figure(i, figsize=(20,20))\n",
    "    #fig = plt.figure(1)\n",
    "    ax = None\n",
    "    ax = fig.add_subplot()\n",
    "\n",
    "    #data.set_crs(epsg=4326, inplace=True)\n",
    "\n",
    "    data.apply(lambda x: ax.annotate(text=x.lote + ' \\n' + str(x.superficie) + ' ha', xy=x.geometria.centroid.coords[0], ha='center', va='center', color='black', fontsize=12, weight=1000, bbox=dict(facecolor=(1,1,1,0.3), edgecolor='none', pad=0)), axis=1);\n",
    "\n",
    "    #data.boundary.plot(ax=ax, color=(0,0,0,0), linewidth=0)\n",
    "\n",
    "    #data = data.to_crs(epsg=3857)\n",
    "\n",
    "    minx, miny, maxx, maxy = data.total_bounds\n",
    "    ax.set_xlim(minx - 500, maxx + 500)\n",
    "    ax.set_ylim(miny - 400, maxy + 400)\n",
    "\n",
    "    data.plot(ax=ax, edgecolor='r', facecolor=(0,0,0,0), linewidth=2, figsize=(20,20))\n",
    "    #data.plot(ax=ax, edgecolor='r', facecolor=(0,0,0,0), linewidth=2)\n",
    "    \n",
    "    ctx.add_basemap(ax, source=ctx.providers.Esri.WorldImagery)\n",
    "    ax.set_axis_off()\n",
    "    ax.set_title(str(propiedad.propiedad), fontsize=20)\n",
    "    path = ruta+'/planos/' + str(propiedad.amigo_id) + '.jpeg'\n",
    "    fig.savefig(path, dpi = 300, bbox_inches='tight')\n",
    "    plt.clf()\n",
    "    return path"
   ]
  },
  {
   "cell_type": "code",
   "execution_count": 20,
   "id": "e4cd18b4-2c5c-4d42-a40a-7f98bb6650d4",
   "metadata": {},
   "outputs": [],
   "source": [
    "semana = 'S47'\n",
    "query = {'query': 'select split_part(canhero, \\' / \\', 1) cod, split_part(canhero, \\' / \\', 2) nom from dataset_307560 where semana_1ra = \\'{sem}\\''.format(sem=semana)}\n",
    "project = 'https://app.amigocloud.com/api/v1/projects/32672/sql'\n",
    "select = amigocloud.get(project, query)\n",
    "data = select['data']"
   ]
  },
  {
   "cell_type": "code",
   "execution_count": 21,
   "id": "4cb06cb9-c4eb-42ca-acf9-6156d769042b",
   "metadata": {},
   "outputs": [
    {
     "data": {
      "text/plain": [
       "[{'cod': '11860', 'nom': 'ROCA SERRANO ARMANDO'},\n",
       " {'cod': '1218', 'nom': 'BALCAZAR ALCANTARA JOSE LOLY'},\n",
       " {'cod': '4967', 'nom': 'GUZMAN ALMANZA WILLAN'},\n",
       " {'cod': '5001', 'nom': 'GUZMAN CACERES ROXANA'},\n",
       " {'cod': '1979', 'nom': 'CLAROS CADIMA EDMUNDO'},\n",
       " {'cod': '7506', 'nom': 'LOHENER ROSENDA SHEILA PAZ DE'},\n",
       " {'cod': '41531', 'nom': 'GUZMAN ALMANZA WILMER'},\n",
       " {'cod': '41973', 'nom': 'RIBERA JUSTINIANO JEFFER PAUL'},\n",
       " {'cod': '40256', 'nom': 'INSERVA DAMIANA S.R.L.'},\n",
       " {'cod': '8003', 'nom': 'AGUILERA RIVERO SERGIO STEFAN'},\n",
       " {'cod': '41974', 'nom': 'RIBERA CHAVEZ OSCAR FABIO'},\n",
       " {'cod': '446', 'nom': 'AGUILERA ANEZ JHONNY'}]"
      ]
     },
     "execution_count": 21,
     "metadata": {},
     "output_type": "execute_result"
    }
   ],
   "source": [
    "data"
   ]
  },
  {
   "cell_type": "code",
   "execution_count": 22,
   "id": "c9643d6a-4861-4ed3-b9ba-619aeaaeba46",
   "metadata": {},
   "outputs": [],
   "source": [
    "#lista = [1068, 18062, 10739, 41955, 2392, 15162, 2517, 8706, 15085, 430, 874, 5498, 2505, 2274]\n",
    "lista = [int(i['cod']) for i in data]"
   ]
  },
  {
   "cell_type": "code",
   "execution_count": 23,
   "id": "59340321-ace8-43b3-832b-75a531664da5",
   "metadata": {},
   "outputs": [
    {
     "name": "stdout",
     "output_type": "stream",
     "text": [
      "12 informes\n"
     ]
    }
   ],
   "source": [
    "print(len(lista), 'informes')"
   ]
  },
  {
   "cell_type": "code",
   "execution_count": 24,
   "id": "219f9b56-5d2d-4a0a-9df3-8b19c5e2ebec",
   "metadata": {},
   "outputs": [
    {
     "data": {
      "text/plain": [
       "[11860, 1218, 4967, 5001, 1979, 7506, 41531, 41973, 40256, 8003, 41974, 446]"
      ]
     },
     "execution_count": 24,
     "metadata": {},
     "output_type": "execute_result"
    }
   ],
   "source": [
    "lista"
   ]
  },
  {
   "cell_type": "code",
   "execution_count": 25,
   "id": "70c4c82b-41de-461d-8a66-628ab505953f",
   "metadata": {},
   "outputs": [
    {
     "name": "stdout",
     "output_type": "stream",
     "text": [
      "L5.10 e6ac54c32e174938830cde206e1bae0a\n",
      "L5.11 63dfe9d270a144838a6ec9bf59d87c42\n",
      "L5.9 134a6f7e50cf4cc885c3e2c36c478bf3\n",
      "credito(fecha_registro='2023-11-16 00:59:31.305131+00:00', amigo_id='6047519d4e9f479b8a73b395f1f434ca', semana_1ra='S47', semana_2da=None, institucion=50, canhero='11860 / ROCA SERRANO ARMANDO', solicitado=90.0, total_1ra_insp=80.48, estado_1ra_insp='APROBADO', fecha_1ra_insp='24/11/2023', cite_1ra_insp=547, respon_1ra_insp='Juan Pablo Jaldin Duran', obs_1ra=None, link_doc_1ra='https://drive.google.com/file/d/1IxPthJNzohe4Hda41h6RY1M6sIQeFHi2/view?usp=drivesdk', total_2da_insp=None, estado_2da_insp=None, fecha_2da_insp=None, cite_2da_insp=None, respon_2da_insp=None, obs_2da=None, link_doc_2da=None, total_nacido=None, total_no_nacido=None, muestreo=False, glifosato=False, nivelacion_1=True, drenaje=True, romeplow=True, rastra=True, subsolado=False, rotacion=False, arado=False, ferti_base=True, enraizadores=True, insecticidas=True, fungicidas=False, preemergente=True, fecha_actualizacion='2023-11-25 13:42:22.540047+00:00', fertilizacion=False, fungi_en_siem=False, insec_en_siem=False, promot_de_brota=False, pre_emergente=False, post_emergente=False, cultivado=False, ctrl_bio_tricho=False, insect_fisio_otros=False, ctrl_malezas=False, nivelacion_2=False, drenajes=False, financiamiento='IAG', id=277, fecha_informe='25/11/2023')\n",
      "====================== 11860\n",
      "L3.3 d423da6bbfd84d3f9a458ad01f87d8f7\n",
      "L3.1 aadd74a9bd724250b00a7ce7c82cdfed\n",
      "L9.2 88754885a24447eba362468945b736dd\n",
      "L7.1 a194064c6ded47ab84f3feeaef2d2f9c\n",
      "L11 06024ea8f79447e29b18c770c59b3e86\n",
      "L1 03a5063a849a417685c8a95d00c999f2\n",
      "L10.1 e81fbd1acf0b4d7abe3957d4de059171\n",
      "L5 ac2f6446703544bd85ff8e9397d0de4d\n",
      "L4 e93a60e50a994d8a8df4cfef9b1cab66\n",
      "L2 6da80ad7a57d42eb8c76608725602e88\n",
      "L13 6e6de98b5abe4ccbb75299e74f0ae9e7\n",
      "L6.1 b9773a3f80704e8db6bdeaa686da8bfc\n",
      "credito(fecha_registro='2023-11-16 00:59:31.305131+00:00', amigo_id='1dd32b84b1124f01990fa8b5f9f56304', semana_1ra='S47', semana_2da=None, institucion=66, canhero='1218 / BALCAZAR ALCANTARA JOSE LOLY', solicitado=130.0, total_1ra_insp=130.19, estado_1ra_insp='APROBADO', fecha_1ra_insp='21/11/2023', cite_1ra_insp=534, respon_1ra_insp='Rogelio Acuña Rodríguez', obs_1ra=None, link_doc_1ra='https://drive.google.com/file/d/1E1Idmi_WhF_tP3OxI_3DI0bxDqTlTDaB/view?usp=drivesdk', total_2da_insp=None, estado_2da_insp=None, fecha_2da_insp=None, cite_2da_insp=None, respon_2da_insp=None, obs_2da=None, link_doc_2da=None, total_nacido=None, total_no_nacido=None, muestreo=True, glifosato=False, nivelacion_1=True, drenaje=True, romeplow=True, rastra=True, subsolado=False, rotacion=True, arado=False, ferti_base=True, enraizadores=True, insecticidas=True, fungicidas=True, preemergente=True, fecha_actualizacion='2023-11-24 11:40:32.481427+00:00', fertilizacion=False, fungi_en_siem=False, insec_en_siem=False, promot_de_brota=False, pre_emergente=False, post_emergente=False, cultivado=False, ctrl_bio_tricho=False, insect_fisio_otros=False, ctrl_malezas=False, nivelacion_2=False, drenajes=False, financiamiento='IAG', id=274, fecha_informe='22/11/2023')\n",
      "====================== 1218\n",
      "L4.2 f40dd96a2a5e491496ce666d73fcde82\n",
      "L5.1 ceb156b396ca4ec1b25700a3bbf76b83\n",
      "L3 f2b576f9fb5b40b9babe410f315329dc\n",
      "credito(fecha_registro='2023-11-16 00:59:31.305131+00:00', amigo_id='7e05f82b537f44ffa850bb4fc0f54479', semana_1ra='S47', semana_2da=None, institucion=304, canhero='4967 / GUZMAN ALMANZA WILLAN', solicitado=40.0, total_1ra_insp=40.38, estado_1ra_insp='APROBADO', fecha_1ra_insp='20/11/2023', cite_1ra_insp=543, respon_1ra_insp='Juan Pablo Jaldin Duran', obs_1ra=None, link_doc_1ra='https://drive.google.com/file/d/1zjwBVLOG1znczwEerL0GNZtVd3eyNbbH/view?usp=drivesdk', total_2da_insp=None, estado_2da_insp=None, fecha_2da_insp=None, cite_2da_insp=None, respon_2da_insp=None, obs_2da=None, link_doc_2da=None, total_nacido=None, total_no_nacido=None, muestreo=False, glifosato=True, nivelacion_1=True, drenaje=False, romeplow=True, rastra=True, subsolado=False, rotacion=False, arado=False, ferti_base=False, enraizadores=True, insecticidas=True, fungicidas=True, preemergente=True, fecha_actualizacion='2023-11-25 12:45:25.180220+00:00', fertilizacion=False, fungi_en_siem=False, insec_en_siem=False, promot_de_brota=False, pre_emergente=False, post_emergente=False, cultivado=False, ctrl_bio_tricho=False, insect_fisio_otros=False, ctrl_malezas=False, nivelacion_2=False, drenajes=False, financiamiento='IAG', id=302, fecha_informe='21/11/2023')\n",
      "====================== 4967\n",
      "L5 9b3977ad94e845cc911ac8690552cc91\n",
      "L2.2 8a1fbccf00b1443e966926f42c062d16\n",
      "credito(fecha_registro='2023-11-16 00:59:31.305131+00:00', amigo_id='652a675cea234e25b8ce680bbd65fb2d', semana_1ra='S47', semana_2da=None, institucion=81, canhero='5001 / GUZMAN CACERES ROXANA', solicitado=30.0, total_1ra_insp=24.03, estado_1ra_insp='APROBADO', fecha_1ra_insp='23/11/2023', cite_1ra_insp=546, respon_1ra_insp='Juan Pablo Jaldin Duran', obs_1ra=None, link_doc_1ra='https://drive.google.com/file/d/1NlSHMa0cYN8JMq0UG5MfRvB9qIGGd5-y/view?usp=drivesdk', total_2da_insp=None, estado_2da_insp=None, fecha_2da_insp=None, cite_2da_insp=None, respon_2da_insp=None, obs_2da=None, link_doc_2da=None, total_nacido=None, total_no_nacido=None, muestreo=False, glifosato=False, nivelacion_1=True, drenaje=False, romeplow=True, rastra=True, subsolado=False, rotacion=False, arado=False, ferti_base=False, enraizadores=True, insecticidas=True, fungicidas=True, preemergente=True, fecha_actualizacion='2023-11-25 13:29:55.862671+00:00', fertilizacion=False, fungi_en_siem=False, insec_en_siem=False, promot_de_brota=False, pre_emergente=False, post_emergente=False, cultivado=False, ctrl_bio_tricho=False, insect_fisio_otros=False, ctrl_malezas=False, nivelacion_2=False, drenajes=False, financiamiento='IAG', id=313, fecha_informe='24/11/2023')\n",
      "====================== 5001\n",
      "L21 dc4c7b24b1ba4f0c9aa815d52fdc7829\n",
      "credito(fecha_registro='2023-11-16 00:59:31.305131+00:00', amigo_id='90688820defa4bcd866fa3a66e2bb0e8', semana_1ra='S47', semana_2da=None, institucion=79, canhero='1979 / CLAROS CADIMA EDMUNDO', solicitado=70.0, total_1ra_insp=102.4, estado_1ra_insp='APROBADO', fecha_1ra_insp='23/11/2023', cite_1ra_insp=537, respon_1ra_insp='Rogelio Acuña Rodríguez', obs_1ra=None, link_doc_1ra='https://drive.google.com/file/d/1qkKOP13ovrFFPboT2DoaREExNIm5Jl5x/view?usp=drivesdk', total_2da_insp=None, estado_2da_insp=None, fecha_2da_insp=None, cite_2da_insp=None, respon_2da_insp=None, obs_2da=None, link_doc_2da=None, total_nacido=None, total_no_nacido=None, muestreo=False, glifosato=False, nivelacion_1=False, drenaje=True, romeplow=True, rastra=True, subsolado=False, rotacion=True, arado=False, ferti_base=True, enraizadores=True, insecticidas=True, fungicidas=True, preemergente=True, fecha_actualizacion='2023-11-24 17:43:27.781425+00:00', fertilizacion=False, fungi_en_siem=False, insec_en_siem=False, promot_de_brota=False, pre_emergente=False, post_emergente=False, cultivado=False, ctrl_bio_tricho=False, insect_fisio_otros=False, ctrl_malezas=False, nivelacion_2=False, drenajes=False, financiamiento='IAG', id=280, fecha_informe='24/11/2023')\n",
      "====================== 1979\n",
      "L17.2 e07d1f4f6c6a457aa1dde7fc799c74db\n",
      "L14.1 166a9d9838214024903d4f015243c9f8\n",
      "L15 64e2be35995b42f892f5ad38c4cf1c98\n",
      "L12 b3e84d798cea426b9faeef3d26717cc3\n",
      "L13 12dd09ffc31e48f58764540bb73894c9\n",
      "credito(fecha_registro='2023-11-16 00:59:31.305131+00:00', amigo_id='14b5fffe8cc441bab8e8db52ff719ff3', semana_1ra='S47', semana_2da=None, institucion=50, canhero='7506 / LOHENER ROSENDA SHEILA PAZ DE', solicitado=25.0, total_1ra_insp=18.05, estado_1ra_insp='APROBADO', fecha_1ra_insp='24/11/2023', cite_1ra_insp=548, respon_1ra_insp='Juan Pablo Jaldin Duran', obs_1ra=None, link_doc_1ra='https://drive.google.com/file/d/1ZsNOGpVWCf3Ep66UNuV8lShagPL7m0Ip/view?usp=drivesdk', total_2da_insp=None, estado_2da_insp=None, fecha_2da_insp=None, cite_2da_insp=None, respon_2da_insp=None, obs_2da=None, link_doc_2da=None, total_nacido=None, total_no_nacido=None, muestreo=False, glifosato=False, nivelacion_1=True, drenaje=False, romeplow=True, rastra=True, subsolado=False, rotacion=False, arado=False, ferti_base=False, enraizadores=True, insecticidas=True, fungicidas=True, preemergente=True, fecha_actualizacion='2023-11-25 13:57:47.130457+00:00', fertilizacion=False, fungi_en_siem=False, insec_en_siem=False, promot_de_brota=False, pre_emergente=False, post_emergente=False, cultivado=False, ctrl_bio_tricho=False, insect_fisio_otros=False, ctrl_malezas=False, nivelacion_2=False, drenajes=False, financiamiento='IAG', id=323, fecha_informe='25/11/2023')\n",
      "====================== 7506\n",
      "L4.1 b7e3a27f722543a6987d370ba2716dc7\n",
      "L3 98b3bbc81d7a4ee9b458be279efa9968\n",
      "L6 e967edc182c44560aee1dab16732c772\n",
      "credito(fecha_registro='2023-11-16 00:59:31.305131+00:00', amigo_id='640d9e681f114be58f4d90fda54ba437', semana_1ra='S47', semana_2da=None, institucion=304, canhero='41531 / GUZMAN ALMANZA WILMER', solicitado=30.0, total_1ra_insp=38.99, estado_1ra_insp='APROBADO', fecha_1ra_insp='20/11/2023', cite_1ra_insp=542, respon_1ra_insp='Juan Pablo Jaldin Duran', obs_1ra=None, link_doc_1ra='https://drive.google.com/file/d/1dBzgj3NKSLHgBJ8zvoMQVetZjZcB8cTl/view?usp=drivesdk', total_2da_insp=None, estado_2da_insp=None, fecha_2da_insp=None, cite_2da_insp=None, respon_2da_insp=None, obs_2da=None, link_doc_2da=None, total_nacido=None, total_no_nacido=None, muestreo=False, glifosato=True, nivelacion_1=True, drenaje=False, romeplow=True, rastra=True, subsolado=False, rotacion=False, arado=False, ferti_base=False, enraizadores=True, insecticidas=True, fungicidas=True, preemergente=True, fecha_actualizacion='2023-11-25 12:24:36.024060+00:00', fertilizacion=False, fungi_en_siem=False, insec_en_siem=False, promot_de_brota=False, pre_emergente=False, post_emergente=False, cultivado=False, ctrl_bio_tricho=False, insect_fisio_otros=False, ctrl_malezas=False, nivelacion_2=False, drenajes=False, financiamiento='IAG', id=316, fecha_informe='21/11/2023')\n",
      "====================== 41531\n",
      "L7.1 7e2a8967ffd843ee9d507184e880d693\n",
      "L8.1 4dbd2e3b1d25419191e0cbf100987907\n",
      "L5.5 4029753c3c594a70969fa5cccd381a9b\n",
      "credito(fecha_registro='2023-11-16 00:59:31.305131+00:00', amigo_id='5c69d3071c514e5fb2fba7bf3ce8d5d9', semana_1ra='S47', semana_2da=None, institucion=50, canhero='41973 / RIBERA JUSTINIANO JEFFER PAUL', solicitado=50.0, total_1ra_insp=52.19, estado_1ra_insp='APROBADO', fecha_1ra_insp='21/11/2023', cite_1ra_insp=544, respon_1ra_insp='Juan Pablo Jaldin Duran', obs_1ra=None, link_doc_1ra='https://drive.google.com/file/d/1gFwaYVvClrFpmXs9ALQ_U6DBEM9Mgwoi/view?usp=drivesdk', total_2da_insp=None, estado_2da_insp=None, fecha_2da_insp=None, cite_2da_insp=None, respon_2da_insp=None, obs_2da=None, link_doc_2da=None, total_nacido=None, total_no_nacido=None, muestreo=False, glifosato=False, nivelacion_1=True, drenaje=False, romeplow=True, rastra=True, subsolado=False, rotacion=False, arado=False, ferti_base=False, enraizadores=True, insecticidas=True, fungicidas=True, preemergente=True, fecha_actualizacion='2023-11-25 12:57:51.957978+00:00', fertilizacion=False, fungi_en_siem=False, insec_en_siem=False, promot_de_brota=False, pre_emergente=False, post_emergente=False, cultivado=False, ctrl_bio_tricho=False, insect_fisio_otros=False, ctrl_malezas=False, nivelacion_2=False, drenajes=False, financiamiento='IAG', id=287, fecha_informe='22/11/2023')\n",
      "====================== 41973\n",
      "L8.1 4731df76bacb49a3a9fa8d72acee15c6\n",
      "L5 7e2da8b04fc447878ff40c367705e71e\n",
      "L1 112cb7039c5443e7ad7f7d34b91f523a\n",
      "L22 7dda360da21b4cf19e9e3596b4caa6c3\n",
      "L17.2 340e3c3ad9e14efa97fe6945524dc0a9\n",
      "L25.2 dcfa9a1256a044c981c0298d94353598\n",
      "L26 43b1efdd5d0b47eb9bd01eb4f65f7a3b\n",
      "L7 95ae3dfdf7234d4d84869f8f64d6de97\n",
      "credito(fecha_registro='2023-11-16 00:59:31.305131+00:00', amigo_id='1d26a03f9e1447be99bce1d43010b33b', semana_1ra='S47', semana_2da=None, institucion=304, canhero='40256 / INSERVA DAMIANA S.R.L.', solicitado=100.0, total_1ra_insp=113.14, estado_1ra_insp='APROBADO', fecha_1ra_insp='20/11/2023', cite_1ra_insp=532, respon_1ra_insp='Rogelio Acuña Rodríguez', obs_1ra='LOTES CON ROTACION DE CULTIVO DE SOYA', link_doc_1ra='https://drive.google.com/file/d/1LCECpY0DpkcJsTec9roWP8QwDVjiFmbB/view?usp=drivesdk', total_2da_insp=None, estado_2da_insp=None, fecha_2da_insp=None, cite_2da_insp=None, respon_2da_insp=None, obs_2da=None, link_doc_2da=None, total_nacido=None, total_no_nacido=None, muestreo=False, glifosato=False, nivelacion_1=False, drenaje=False, romeplow=True, rastra=True, subsolado=True, rotacion=True, arado=True, ferti_base=True, enraizadores=True, insecticidas=True, fungicidas=True, preemergente=True, fecha_actualizacion='2023-11-24 11:40:18.229068+00:00', fertilizacion=False, fungi_en_siem=False, insec_en_siem=False, promot_de_brota=False, pre_emergente=False, post_emergente=False, cultivado=False, ctrl_bio_tricho=False, insect_fisio_otros=False, ctrl_malezas=False, nivelacion_2=False, drenajes=False, financiamiento='IAG', id=275, fecha_informe='21/11/2023')\n",
      "====================== 40256\n",
      "C10 7209b40201e647f1821cd3c18b87aec4\n",
      "A12 ee415dedf9914f1582be82cabffbde48\n",
      "C14.1 62091a4209394ea0b924f9336e3fe5d3\n",
      "C14.2 e3c4ac04bdc44f6ebbca0d1fd8b11c0d\n",
      "C8 8454269d5151497095e37c2046604e98\n",
      "A8.2 6c37ffc59f1048878481807a250389cd\n",
      "A5.1 58f36a3be05d4c67973ffc024de267c1\n",
      "C24 f221d58df8944cfeb9609303760aca6e\n",
      "C23.1 e2ea0be9f2d2424aa428a65ce143b27d\n",
      "credito(fecha_registro='2023-11-16 00:59:31.305131+00:00', amigo_id='e11511320ab445f5988146d7a513b5b1', semana_1ra='S47', semana_2da=None, institucion=50, canhero='8003 / AGUILERA RIVERO SERGIO STEFAN', solicitado=92.0, total_1ra_insp=94.47, estado_1ra_insp='APROBADO', fecha_1ra_insp='23/11/2023', cite_1ra_insp=541, respon_1ra_insp='Rogelio Acuña Rodríguez', obs_1ra=None, link_doc_1ra='https://drive.google.com/file/d/1TXATdZFWGts-z4Gy896nUawjUYHP0JCa/view?usp=drivesdk', total_2da_insp=None, estado_2da_insp=None, fecha_2da_insp=None, cite_2da_insp=None, respon_2da_insp=None, obs_2da=None, link_doc_2da=None, total_nacido=None, total_no_nacido=None, muestreo=True, glifosato=False, nivelacion_1=True, drenaje=True, romeplow=True, rastra=True, subsolado=False, rotacion=True, arado=False, ferti_base=True, enraizadores=True, insecticidas=True, fungicidas=True, preemergente=True, fecha_actualizacion='2023-11-24 19:40:25.908955+00:00', fertilizacion=False, fungi_en_siem=False, insec_en_siem=False, promot_de_brota=False, pre_emergente=False, post_emergente=False, cultivado=False, ctrl_bio_tricho=False, insect_fisio_otros=False, ctrl_malezas=False, nivelacion_2=False, drenajes=False, financiamiento='IAG', id=276, fecha_informe='24/11/2023')\n",
      "====================== 8003\n",
      "L6 dcb83af3e7f545d2ab9996cc03871adf\n",
      "credito(fecha_registro='2023-11-16 00:59:31.305131+00:00', amigo_id='f18e14b0df1048dfb6149cb225ed33d9', semana_1ra='S47', semana_2da=None, institucion=50, canhero='41974 / RIBERA CHAVEZ OSCAR FABIO', solicitado=10.0, total_1ra_insp=10.88, estado_1ra_insp='APROBADO', fecha_1ra_insp='22/11/2023', cite_1ra_insp=545, respon_1ra_insp='Juan Pablo Jaldin Duran', obs_1ra=None, link_doc_1ra='https://drive.google.com/file/d/1GAZcMpBYkw1K6reeqZGo8pOkfULlmzjj/view?usp=drivesdk', total_2da_insp=None, estado_2da_insp=None, fecha_2da_insp=None, cite_2da_insp=None, respon_2da_insp=None, obs_2da=None, link_doc_2da=None, total_nacido=None, total_no_nacido=None, muestreo=False, glifosato=False, nivelacion_1=False, drenaje=True, romeplow=True, rastra=True, subsolado=False, rotacion=True, arado=False, ferti_base=False, enraizadores=True, insecticidas=True, fungicidas=True, preemergente=True, fecha_actualizacion='2023-11-25 13:19:38.344394+00:00', fertilizacion=False, fungi_en_siem=False, insec_en_siem=False, promot_de_brota=False, pre_emergente=False, post_emergente=False, cultivado=False, ctrl_bio_tricho=False, insect_fisio_otros=False, ctrl_malezas=False, nivelacion_2=False, drenajes=False, financiamiento='IAG', id=372, fecha_informe='23/11/2023')\n",
      "====================== 41974\n",
      "L8 9201b2d58f914a599007ba99f24a5420\n",
      "L16.1 032dbf8a8ae24a33a6ccfae610e4e027\n",
      "L9.2 fe0b0a06b5d542a5b53139d3c3d59445\n",
      "L14.1 79816548e9ad48cfa99f0662332d4331\n",
      "credito(fecha_registro='2023-11-16 00:59:31.305131+00:00', amigo_id='a7a9a6a396ad4e49884dd1b297e7f3c7', semana_1ra='S47', semana_2da=None, institucion=66, canhero='446 / AGUILERA ANEZ JHONNY', solicitado=25.0, total_1ra_insp=21.26, estado_1ra_insp='APROBADO', fecha_1ra_insp='22/11/2023', cite_1ra_insp=536, respon_1ra_insp='Rogelio Acuña Rodríguez', obs_1ra=None, link_doc_1ra='https://drive.google.com/file/d/1xvoY4SqXyqrK9oZRUTqLa4B-Ud3MBSF6/view?usp=drivesdk', total_2da_insp=None, estado_2da_insp=None, fecha_2da_insp=None, cite_2da_insp=None, respon_2da_insp=None, obs_2da=None, link_doc_2da=None, total_nacido=None, total_no_nacido=None, muestreo=False, glifosato=False, nivelacion_1=False, drenaje=False, romeplow=True, rastra=True, subsolado=False, rotacion=True, arado=False, ferti_base=True, enraizadores=True, insecticidas=True, fungicidas=True, preemergente=True, fecha_actualizacion='2023-11-23 15:56:37.094379+00:00', fertilizacion=False, fungi_en_siem=False, insec_en_siem=False, promot_de_brota=False, pre_emergente=False, post_emergente=False, cultivado=False, ctrl_bio_tricho=False, insect_fisio_otros=False, ctrl_malezas=False, nivelacion_2=False, drenajes=False, financiamiento='IAG', id=325, fecha_informe='23/11/2023')\n",
      "====================== 446\n"
     ]
    },
    {
     "data": {
      "text/plain": [
       "<Figure size 2000x2000 with 0 Axes>"
      ]
     },
     "metadata": {},
     "output_type": "display_data"
    },
    {
     "data": {
      "text/plain": [
       "<Figure size 2000x2000 with 0 Axes>"
      ]
     },
     "metadata": {},
     "output_type": "display_data"
    }
   ],
   "source": [
    "for i in lista:\n",
    "    generar_reporte(i)\n",
    "    print('======================', i)"
   ]
  }
 ],
 "metadata": {
  "kernelspec": {
   "display_name": "Python 3 (ipykernel)",
   "language": "python",
   "name": "python3"
  },
  "language_info": {
   "codemirror_mode": {
    "name": "ipython",
    "version": 3
   },
   "file_extension": ".py",
   "mimetype": "text/x-python",
   "name": "python",
   "nbconvert_exporter": "python",
   "pygments_lexer": "ipython3",
   "version": "3.10.13"
  }
 },
 "nbformat": 4,
 "nbformat_minor": 5
}
