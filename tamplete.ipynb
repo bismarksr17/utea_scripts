{
 "cells": [
  {
   "cell_type": "markdown",
   "id": "64db2368-c671-441a-a1bf-084eac89ddf5",
   "metadata": {},
   "source": [
    "# Acceso a .env"
   ]
  },
  {
   "cell_type": "code",
   "execution_count": 5,
   "id": "624b15f4-5165-44f5-8628-4e3c542dd93b",
   "metadata": {},
   "outputs": [],
   "source": [
    "import sys\n",
    "sys.path.append('../..')"
   ]
  },
  {
   "cell_type": "code",
   "execution_count": null,
   "id": "4fa7f3a4-09e0-4ce8-9ee9-8918c48af3fd",
   "metadata": {},
   "outputs": [],
   "source": [
    "from config import RUTA_UNIDAD_ONE_DRIVE\n",
    "from config import RUTA_LOCAL_ONE_DRIVE\n",
    "from config import API_AMIGOCLOUD_TOKEN_ADM\n",
    "from config import POSTGRES_UTEA"
   ]
  },
  {
   "cell_type": "code",
   "execution_count": null,
   "id": "4266e9d0-fd44-4814-a72a-5944f7713bcc",
   "metadata": {},
   "outputs": [],
   "source": [
    "USER_DB = POSTGRES_UTEA['USER']\n",
    "PASS_DB = POSTGRES_UTEA['PASSWORD']\n",
    "HOST_DB = POSTGRES_UTEA['HOST']\n",
    "POST_DB = POSTGRES_UTEA['PORT']\n",
    "NAME_DB = POSTGRES_UTEA['DATABASE']"
   ]
  },
  {
   "cell_type": "markdown",
   "id": "5b87f64a-3284-4c2a-8bf5-36ae0a87969a",
   "metadata": {},
   "source": [
    "# Conexion a DB"
   ]
  },
  {
   "cell_type": "code",
   "execution_count": null,
   "id": "664e7b3c-764a-41f9-a790-af5fe971bd53",
   "metadata": {},
   "outputs": [],
   "source": [
    "ENGINE = create_engine(f'postgresql+psycopg://{USER_DB}:{PASS_DB}@{HOST_DB}:{POST_DB}/{NAME_DB}')"
   ]
  },
  {
   "cell_type": "code",
   "execution_count": null,
   "id": "42d8031a-ff25-4ad3-8909-2bb884fcb89a",
   "metadata": {},
   "outputs": [],
   "source": [
    "def get_data():\n",
    "    try:\n",
    "        df = pd.read_sql(\"SELECT * FROM esquema.tabla\", ENGINE)\n",
    "        return df\n",
    "    except Exception as e:\n",
    "        print(\"❌ Error al consultar PostgreSQL:\", e)\n",
    "        return pd.DataFrame()"
   ]
  },
  {
   "cell_type": "code",
   "execution_count": null,
   "id": "2ca773db-f4c7-4e70-8ff2-7a284360b592",
   "metadata": {},
   "outputs": [],
   "source": []
  },
  {
   "cell_type": "code",
   "execution_count": null,
   "id": "ca0ad552-46f5-47ac-92dc-75b329d5560a",
   "metadata": {},
   "outputs": [],
   "source": []
  },
  {
   "cell_type": "code",
   "execution_count": null,
   "id": "b20aa135-b53d-48f6-87e8-88cc13e6b747",
   "metadata": {},
   "outputs": [],
   "source": []
  }
 ],
 "metadata": {
  "kernelspec": {
   "display_name": "Python 3 (ipykernel)",
   "language": "python",
   "name": "python3"
  },
  "language_info": {
   "codemirror_mode": {
    "name": "ipython",
    "version": 3
   },
   "file_extension": ".py",
   "mimetype": "text/x-python",
   "name": "python",
   "nbconvert_exporter": "python",
   "pygments_lexer": "ipython3",
   "version": "3.10.13"
  }
 },
 "nbformat": 4,
 "nbformat_minor": 5
}
