{
 "cells": [
  {
   "cell_type": "code",
   "execution_count": 31,
   "id": "5b924ee9-a294-4304-a8e7-a18af37a761a",
   "metadata": {},
   "outputs": [],
   "source": [
    "import pandas as pd\n",
    "import geopandas as gpd\n",
    "\n",
    "import os"
   ]
  },
  {
   "cell_type": "code",
   "execution_count": null,
   "id": "6532df40-626a-4fec-964d-fcb977acfffa",
   "metadata": {},
   "outputs": [],
   "source": []
  },
  {
   "cell_type": "code",
   "execution_count": null,
   "id": "eae595a2-832e-4f28-9fdd-325cc940a4c0",
   "metadata": {},
   "outputs": [],
   "source": []
  },
  {
   "cell_type": "code",
   "execution_count": null,
   "id": "efbba5c6-d559-4d89-9eb8-7c156f1e70b1",
   "metadata": {},
   "outputs": [],
   "source": []
  },
  {
   "cell_type": "code",
   "execution_count": 137,
   "id": "d782a1ba-a73f-49fe-bcb5-9de86bd150fb",
   "metadata": {},
   "outputs": [],
   "source": [
    "path_grupos = r'G:\\Ingenio Azucarero Guabira S.A\\UTEA - SEMANAL - AVANCE COSECHA\\2025\\DATA\\GRUPO_COSECHA.xlsx'\n",
    "path_catastro = r'G:\\OneDrive - Ingenio Azucarero Guabira S.A\\INFORMACION GENERAL\\CATASTRO\\NUEVO\\catastro_S13_SABADO.shp'\n",
    "\n",
    "output_path = r'G:\\Ingenio Azucarero Guabira S.A\\UTEA - SEMANAL - AVANCE COSECHA\\2025\\DELTA_X'"
   ]
  },
  {
   "cell_type": "code",
   "execution_count": 29,
   "id": "f9215ee8-c94b-411d-a21a-f1c0718b9631",
   "metadata": {},
   "outputs": [],
   "source": [
    "def crear_xlsx_caneros():\n",
    "    df_grupos = pd.read_excel(path_grupos, sheet_name='CODIGOS')\n",
    "    # Seleccionar solo las columnas necesarias\n",
    "    df_grupos = df_grupos[['CODIGO CAÑERO', 'NOMBRE CAÑERO', 'INSTITUCION']]\n",
    "    # Renombrar las columnas\n",
    "    df_grupos = df_grupos.rename(columns={\n",
    "        'CODIGO CAÑERO': 'COD_CANERO',\n",
    "        'NOMBRE CAÑERO': 'NOMBRE',\n",
    "        'INSTITUCION': 'COD_INSTIT'\n",
    "    })\n",
    "    # Reordenar las columnas\n",
    "    df_grupos = df_grupos[['COD_CANERO', 'COD_INSTIT', 'NOMBRE']]\n",
    "    print(len(df_grupos), 'Cañeros registrados')\n",
    "    archivo_salida = os.path.join(output_path, 'CANEROS.xlsx')\n",
    "    df_grupos.to_excel(archivo_salida, index=False)\n",
    "    print('Se exporto CANHEROS.xlsx exitosamente')"
   ]
  },
  {
   "cell_type": "code",
   "execution_count": 30,
   "id": "98993d49-69b8-474c-b342-2b903eb72d4b",
   "metadata": {},
   "outputs": [
    {
     "name": "stdout",
     "output_type": "stream",
     "text": [
      "1377 Cañeros registrados\n",
      "Se exporto CANHEROS.xlsx exitosamente\n"
     ]
    }
   ],
   "source": [
    "crear_xlsx_caneros()"
   ]
  },
  {
   "cell_type": "code",
   "execution_count": 174,
   "id": "ea3cd68a-60a8-4073-aeb0-ac26c93f31ee",
   "metadata": {},
   "outputs": [],
   "source": [
    "def crear_xlsx_propiedad():\n",
    "    gdf_catastro = gpd.read_file(path_catastro)\n",
    "    gdf_cat_filtrado = gdf_catastro[\n",
    "        (gdf_catastro['obs'] == 'ok') &\n",
    "        (gdf_catastro['cultivo'].isin(['canha', 'siembra']))]\n",
    "    print('Area Total de Catastro:', gdf_cat_filtrado['area'].sum(), 'ha. para PROPIEDAD.xlsx')\n",
    "    df_pivot = gdf_cat_filtrado.groupby(['unidad_01', 'unidad_02'])['area'].sum().reset_index()\n",
    "    df_pivot['unidad_01'] = df_pivot['unidad_01'].astype(int)\n",
    "    df_repetidos = df_pivot[df_pivot.duplicated(subset='unidad_01', keep=False)]\n",
    "    print('Cantidad de repetidos:', len(df_repetidos))\n",
    "    df_pivot = df_pivot.rename(columns={\n",
    "        'unidad_01': 'COD_PROPIE',\n",
    "        'unidad_02': 'NOMBRE_PRO',\n",
    "        'area': 'AREA_TOTAL'\n",
    "    })\n",
    "    # Definir nombre de archivo\n",
    "    archivo_salida = os.path.join(output_path, 'PROPIEDAD.xlsx')\n",
    "    # Exportar a Excel\n",
    "    df_pivot.to_excel(archivo_salida, index=False)\n",
    "    print('Se exporto PROPIEDAD.xlsx exitosamente')"
   ]
  },
  {
   "cell_type": "code",
   "execution_count": 175,
   "id": "9d0ed520-36d2-4af5-8871-22ea9bb40636",
   "metadata": {},
   "outputs": [
    {
     "name": "stdout",
     "output_type": "stream",
     "text": [
      "Area Total de Catastro: 56139.12697181613 ha. para PROPIEDAD.xlsx\n",
      "Cantidad de repetidos: 0\n",
      "Se exporto PROPIEDAD.xlsx exitosamente\n"
     ]
    }
   ],
   "source": [
    "crear_xlsx_propiedad()"
   ]
  },
  {
   "cell_type": "code",
   "execution_count": 176,
   "id": "72dd4264-bd73-4841-a617-2fc257fbb2ff",
   "metadata": {},
   "outputs": [],
   "source": [
    "def crear_xlsx_caneho_propiedad():\n",
    "    gdf_catastro = gpd.read_file(path_catastro)\n",
    "    gdf_cat_filtrado = gdf_catastro[\n",
    "        (gdf_catastro['obs'] == 'ok') &\n",
    "        (gdf_catastro['cultivo'].isin(['canha', 'siembra']))]\n",
    "    print('Area Total de Catastro:', gdf_cat_filtrado['area'].sum(), 'ha. para relacion CANERO-PROPIEDAD')\n",
    "    # Asegurar que estamos trabajando sobre una copia, no una vista\n",
    "    df_cat_filtrado = gdf_cat_filtrado[['unidad_03', 'unidad_01']].copy()\n",
    "    # Convertir a entero\n",
    "    df_cat_filtrado['unidad_03'] = df_cat_filtrado['unidad_03'].astype(int)\n",
    "    df_cat_filtrado['unidad_01'] = df_cat_filtrado['unidad_01'].astype(int)\n",
    "    df_grupos = pd.read_excel(path_grupos, sheet_name='CODIGOS')\n",
    "    # Asegurarse de que ambas columnas estén en tipo entero\n",
    "    df_grupos['CODIGO CAÑERO'] = df_grupos['CODIGO CAÑERO'].astype(int)\n",
    "    # Realizar el merge (left join para mantener solo los registros del shapefile filtrado)\n",
    "    df_combinado = df_cat_filtrado.merge(\n",
    "        df_grupos,\n",
    "        left_on='unidad_03',\n",
    "        right_on='CODIGO CAÑERO',\n",
    "        how='left'\n",
    "    )\n",
    "    # Eliminar los registros donde no se encontró coincidencia (por ejemplo, no tienen nombre cañero)\n",
    "    df_combinado = df_combinado[df_combinado['NOMBRE CAÑERO'].notna()]\n",
    "    # Seleccionar columnas específicas\n",
    "    df_combinado = df_combinado[['unidad_01', 'GRUPO DE COSECHA']].copy()\n",
    "    # Convertir las columnas a enteros\n",
    "    df_combinado['unidad_01'] = df_combinado['unidad_01'].astype(int)\n",
    "    df_combinado['GRUPO DE COSECHA'] = df_combinado['GRUPO DE COSECHA'].astype(int)\n",
    "    # Crear columna 'idd' con el formato unidad_01_GRUPODECOSECHA\n",
    "    df_combinado['idd'] = df_combinado['unidad_01'].astype(str) + '_' + df_combinado['GRUPO DE COSECHA'].astype(str)\n",
    "    # Eliminar duplicados según la columna 'idd'\n",
    "    df_combinado = df_combinado.drop_duplicates(subset='idd')\n",
    "    # Crear una lista para guardar los resultados de cada grupo\n",
    "    relaciones = []\n",
    "    # Obtener todos los grupos únicos\n",
    "    grupos = sorted(df_combinado['GRUPO DE COSECHA'].unique())\n",
    "    for grupo in grupos:\n",
    "        # Filtrar cañeros y propiedades del grupo actual\n",
    "        df_cañeros = df_grupos[df_grupos['GRUPO DE COSECHA'] == grupo][['CODIGO CAÑERO']].drop_duplicates()\n",
    "        df_props = df_combinado[df_combinado['GRUPO DE COSECHA'] == grupo][['unidad_01']].drop_duplicates()\n",
    "        # Si hay cañeros y propiedades, hacer el producto cartesiano\n",
    "        if not df_cañeros.empty and not df_props.empty:\n",
    "            df_temp = df_cañeros.merge(df_props, how='cross')\n",
    "            df_temp['GRUPO DE COSECHA'] = grupo\n",
    "            relaciones.append(df_temp)\n",
    "    # Unir todos los grupos en un solo DataFrame\n",
    "    df_relacion_total = pd.concat(relaciones, ignore_index=True)\n",
    "    # Eliminar la columna de grupo\n",
    "    df_relacion_total = df_relacion_total.drop(columns=['GRUPO DE COSECHA'])\n",
    "    # Renombrar las columnas\n",
    "    df_relacion_total = df_relacion_total.rename(columns={\n",
    "        'CODIGO CAÑERO': 'COD_CANERO',\n",
    "        'unidad_01': 'COD_PROPIE'\n",
    "    })\n",
    "    # Asegurarte de tener definida la ruta de salida\n",
    "    archivo_salida = os.path.join(output_path, 'CANERO_PROPIEDAD.xlsx')\n",
    "    # Exportar a Excel\n",
    "    df_relacion_total.to_excel(archivo_salida, index=False)\n",
    "    print('Se exporto CANERO_PROPIEDAD.xlsx exitosamente')"
   ]
  },
  {
   "cell_type": "code",
   "execution_count": 177,
   "id": "dd34deca-c4c8-4282-bd06-14813bde1dc9",
   "metadata": {},
   "outputs": [
    {
     "name": "stdout",
     "output_type": "stream",
     "text": [
      "Area Total de Catastro: 56139.12697181613 ha. para relacion CANERO-PROPIEDAD\n",
      "Se exporto CANERO_PROPIEDAD.xlsx exitosamente\n"
     ]
    }
   ],
   "source": [
    "crear_xlsx_caneho_propiedad()"
   ]
  },
  {
   "cell_type": "code",
   "execution_count": null,
   "id": "969127e6-e2d6-4bad-9212-a5401a2c41ef",
   "metadata": {},
   "outputs": [],
   "source": []
  },
  {
   "cell_type": "code",
   "execution_count": null,
   "id": "44543198-407b-4ccd-abf7-704a274c1aa0",
   "metadata": {},
   "outputs": [],
   "source": []
  },
  {
   "cell_type": "code",
   "execution_count": 173,
   "id": "62dd8abc-ec74-4696-b89d-4188ff40d98d",
   "metadata": {},
   "outputs": [],
   "source": []
  },
  {
   "cell_type": "code",
   "execution_count": 161,
   "id": "36351358-9861-4089-895b-9fe2939c2bd6",
   "metadata": {},
   "outputs": [],
   "source": []
  },
  {
   "cell_type": "code",
   "execution_count": 163,
   "id": "04a709ed-298f-4626-93ac-ccb393e3be9d",
   "metadata": {},
   "outputs": [],
   "source": []
  },
  {
   "cell_type": "code",
   "execution_count": 182,
   "id": "4c9980c7-b7df-4e13-9487-382657bd2b06",
   "metadata": {},
   "outputs": [
    {
     "name": "stdout",
     "output_type": "stream",
     "text": [
      "Area Total de Catastro: 56139.12697181613 ha. para relacion CANERO-PROPIEDAD\n"
     ]
    }
   ],
   "source": [
    "gdf_catastro = gpd.read_file(path_catastro)\n",
    "gdf_cat_filtrado = gdf_catastro[\n",
    "    (gdf_catastro['obs'] == 'ok') &\n",
    "    (gdf_catastro['cultivo'].isin(['canha', 'siembra']))]\n",
    "print('Area Total de Catastro:', gdf_cat_filtrado['area'].sum(), 'ha. para relacion CANERO-PROPIEDAD')"
   ]
  },
  {
   "cell_type": "code",
   "execution_count": 183,
   "id": "b7d4feef-a39c-4781-b265-423d23199973",
   "metadata": {},
   "outputs": [
    {
     "data": {
      "text/plain": [
       "151      UCG9020\n",
       "204      RBB7726\n",
       "265      UCG9020\n",
       "337          RB2\n",
       "425      UCG9020\n",
       "          ...   \n",
       "13451    UCG9020\n",
       "13455    UCG9020\n",
       "13456    UCG9020\n",
       "13457    RBB7726\n",
       "13458    RBB7726\n",
       "Name: variedad, Length: 10765, dtype: object"
      ]
     },
     "execution_count": 183,
     "metadata": {},
     "output_type": "execute_result"
    }
   ],
   "source": [
    "gdf_cat_filtrado['variedad']"
   ]
  },
  {
   "cell_type": "code",
   "execution_count": 184,
   "id": "f9d69909-7983-43af-95a4-d0dd620c3666",
   "metadata": {},
   "outputs": [],
   "source": [
    "# Filtrar la columna 'variedad', eliminar nulos y duplicados\n",
    "df_variedades = gdf_cat_filtrado[['variedad']].dropna().drop_duplicates()\n",
    "\n",
    "# Exportar a Excel\n",
    "archivo_variedades = os.path.join(output_path, 'VARIEDADES.xlsx')\n",
    "df_variedades.to_excel(archivo_variedades, index=False)"
   ]
  },
  {
   "cell_type": "code",
   "execution_count": null,
   "id": "a1324b10-ae90-4ee3-8818-ff42a86a189d",
   "metadata": {},
   "outputs": [],
   "source": []
  },
  {
   "cell_type": "code",
   "execution_count": null,
   "id": "a0e133b7-43ab-44a6-97fe-c86531e408a1",
   "metadata": {},
   "outputs": [],
   "source": []
  },
  {
   "cell_type": "code",
   "execution_count": null,
   "id": "fd14ffa0-94bd-4fb6-a42f-3a062e57c6f0",
   "metadata": {},
   "outputs": [],
   "source": []
  },
  {
   "cell_type": "code",
   "execution_count": null,
   "id": "a7286106-b8e2-4a57-a16b-679a8ff5dbba",
   "metadata": {},
   "outputs": [],
   "source": []
  },
  {
   "cell_type": "code",
   "execution_count": null,
   "id": "0ae93e5b-2956-4c1d-99ce-e4cf18e02c4d",
   "metadata": {},
   "outputs": [],
   "source": []
  },
  {
   "cell_type": "code",
   "execution_count": null,
   "id": "f0e9a42f-84f9-4007-927a-1232a2210c68",
   "metadata": {},
   "outputs": [],
   "source": []
  },
  {
   "cell_type": "code",
   "execution_count": null,
   "id": "8d867881-03fe-4bc7-bad5-b336062a7a3c",
   "metadata": {},
   "outputs": [],
   "source": []
  },
  {
   "cell_type": "code",
   "execution_count": null,
   "id": "c3d10300-afb3-4fb2-8d12-eda08dfa4d3b",
   "metadata": {},
   "outputs": [],
   "source": []
  },
  {
   "cell_type": "code",
   "execution_count": null,
   "id": "9c3ae307-744d-4b7d-bc6a-d78aa01aa987",
   "metadata": {},
   "outputs": [],
   "source": []
  }
 ],
 "metadata": {
  "kernelspec": {
   "display_name": "Python 3 (ipykernel)",
   "language": "python",
   "name": "python3"
  },
  "language_info": {
   "codemirror_mode": {
    "name": "ipython",
    "version": 3
   },
   "file_extension": ".py",
   "mimetype": "text/x-python",
   "name": "python",
   "nbconvert_exporter": "python",
   "pygments_lexer": "ipython3",
   "version": "3.10.13"
  }
 },
 "nbformat": 4,
 "nbformat_minor": 5
}
