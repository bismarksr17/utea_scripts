{
 "cells": [
  {
   "cell_type": "code",
   "execution_count": 2,
   "id": "5b924ee9-a294-4304-a8e7-a18af37a761a",
   "metadata": {},
   "outputs": [],
   "source": [
    "import pandas as pd\n",
    "import geopandas as gpd\n",
    "\n",
    "from dotenv import load_dotenv\n",
    "import os"
   ]
  },
  {
   "cell_type": "code",
   "execution_count": 15,
   "id": "eae595a2-832e-4f28-9fdd-325cc940a4c0",
   "metadata": {},
   "outputs": [
    {
     "name": "stdout",
     "output_type": "stream",
     "text": [
      "C:\\Documents\\OneDrive - Ingenio Azucarero Guabira S.A\\_DATOS_PYTHON\n"
     ]
    }
   ],
   "source": [
    "load_dotenv()  # Carga el archivo .env\n",
    "# Ahora puedes acceder a las variables\n",
    "ruta_unidad = os.getenv('RUTA_UNIDAD_LOCAL_DRIVE')\n",
    "ruta_drive = os.getenv('RUTA_LOCAL_DRIVE')\n",
    "print(ruta_unidad + ruta_drive)"
   ]
  },
  {
   "cell_type": "code",
   "execution_count": 18,
   "id": "d782a1ba-a73f-49fe-bcb5-9de86bd150fb",
   "metadata": {},
   "outputs": [],
   "source": [
    "path_grupos = ruta_unidad + r'\\Ingenio Azucarero Guabira S.A\\UTEA - SEMANAL - AVANCE COSECHA\\2025\\DATA\\GRUPO_COSECHA.xlsx'\n",
    "path_catastro = ruta_unidad + r'\\OneDrive - Ingenio Azucarero Guabira S.A\\INFORMACION GENERAL\\CATASTRO\\NUEVO\\catastro_S13_SABADO.shp'\n",
    "\n",
    "output_path = ruta_unidad + r'\\Ingenio Azucarero Guabira S.A\\UTEA - SEMANAL - AVANCE COSECHA\\2025\\DELTA_X'"
   ]
  },
  {
   "cell_type": "code",
   "execution_count": 21,
   "id": "f9215ee8-c94b-411d-a21a-f1c0718b9631",
   "metadata": {},
   "outputs": [],
   "source": [
    "def crear_xlsx_caneros():\n",
    "    df_grupos = pd.read_excel(path_grupos, sheet_name='CODIGOS')\n",
    "    # Seleccionar solo las columnas necesarias\n",
    "    df_grupos = df_grupos[['CODIGO CAÑERO', 'NOMBRE CAÑERO', 'INSTITUCION']]\n",
    "    # Renombrar las columnas\n",
    "    df_grupos = df_grupos.rename(columns={\n",
    "        'CODIGO CAÑERO': 'COD_CANERO',\n",
    "        'NOMBRE CAÑERO': 'NOMBRE',\n",
    "        'INSTITUCION': 'COD_INSTIT'\n",
    "    })\n",
    "    # Reordenar las columnas\n",
    "    df_grupos = df_grupos[['COD_CANERO', 'COD_INSTIT', 'NOMBRE']]\n",
    "    print(len(df_grupos), 'Cañeros registrados')\n",
    "    archivo_salida = os.path.join(output_path, 'CANEROS.xlsx')\n",
    "    df_grupos.to_excel(archivo_salida, index=False)\n",
    "    print('Se exporto CANHEROS.xlsx exitosamente')"
   ]
  },
  {
   "cell_type": "code",
   "execution_count": 22,
   "id": "98993d49-69b8-474c-b342-2b903eb72d4b",
   "metadata": {},
   "outputs": [
    {
     "name": "stdout",
     "output_type": "stream",
     "text": [
      "1377 Cañeros registrados\n",
      "Se exporto CANHEROS.xlsx exitosamente\n"
     ]
    }
   ],
   "source": [
    "crear_xlsx_caneros()"
   ]
  },
  {
   "cell_type": "code",
   "execution_count": 23,
   "id": "ea3cd68a-60a8-4073-aeb0-ac26c93f31ee",
   "metadata": {},
   "outputs": [],
   "source": [
    "def crear_xlsx_propiedad():\n",
    "    gdf_catastro = gpd.read_file(path_catastro)\n",
    "    gdf_cat_filtrado = gdf_catastro[\n",
    "        (gdf_catastro['obs'] == 'ok') &\n",
    "        (gdf_catastro['cultivo'].isin(['canha', 'siembra']))]\n",
    "    print('Area Total de Catastro:', gdf_cat_filtrado['area'].sum(), 'ha. para PROPIEDAD.xlsx')\n",
    "    df_pivot = gdf_cat_filtrado.groupby(['unidad_01', 'unidad_02'])['area'].sum().reset_index()\n",
    "    df_pivot['unidad_01'] = df_pivot['unidad_01'].astype(int)\n",
    "    df_repetidos = df_pivot[df_pivot.duplicated(subset='unidad_01', keep=False)]\n",
    "    print('Cantidad de repetidos:', len(df_repetidos))\n",
    "    df_pivot = df_pivot.rename(columns={\n",
    "        'unidad_01': 'COD_PROPIE',\n",
    "        'unidad_02': 'NOMBRE_PRO',\n",
    "        'area': 'AREA_TOTAL'\n",
    "    })\n",
    "    # Definir nombre de archivo\n",
    "    archivo_salida = os.path.join(output_path, 'PROPIEDAD.xlsx')\n",
    "    # Exportar a Excel\n",
    "    df_pivot.to_excel(archivo_salida, index=False)\n",
    "    print('Se exporto PROPIEDAD.xlsx exitosamente')"
   ]
  },
  {
   "cell_type": "code",
   "execution_count": 24,
   "id": "9d0ed520-36d2-4af5-8871-22ea9bb40636",
   "metadata": {},
   "outputs": [
    {
     "name": "stdout",
     "output_type": "stream",
     "text": [
      "Area Total de Catastro: 56139.12697181613 ha. para PROPIEDAD.xlsx\n",
      "Cantidad de repetidos: 0\n",
      "Se exporto PROPIEDAD.xlsx exitosamente\n"
     ]
    }
   ],
   "source": [
    "crear_xlsx_propiedad()"
   ]
  },
  {
   "cell_type": "code",
   "execution_count": 25,
   "id": "72dd4264-bd73-4841-a617-2fc257fbb2ff",
   "metadata": {},
   "outputs": [],
   "source": [
    "def crear_xlsx_caneho_propiedad():\n",
    "    gdf_catastro = gpd.read_file(path_catastro)\n",
    "    gdf_cat_filtrado = gdf_catastro[\n",
    "        (gdf_catastro['obs'] == 'ok') &\n",
    "        (gdf_catastro['cultivo'].isin(['canha', 'siembra']))]\n",
    "    print('Area Total de Catastro:', gdf_cat_filtrado['area'].sum(), 'ha. para relacion CANERO-PROPIEDAD')\n",
    "    # Asegurar que estamos trabajando sobre una copia, no una vista\n",
    "    df_cat_filtrado = gdf_cat_filtrado[['unidad_03', 'unidad_01']].copy()\n",
    "    # Convertir a entero\n",
    "    df_cat_filtrado['unidad_03'] = df_cat_filtrado['unidad_03'].astype(int)\n",
    "    df_cat_filtrado['unidad_01'] = df_cat_filtrado['unidad_01'].astype(int)\n",
    "    df_grupos = pd.read_excel(path_grupos, sheet_name='CODIGOS')\n",
    "    # Asegurarse de que ambas columnas estén en tipo entero\n",
    "    df_grupos['CODIGO CAÑERO'] = df_grupos['CODIGO CAÑERO'].astype(int)\n",
    "    # Realizar el merge (left join para mantener solo los registros del shapefile filtrado)\n",
    "    df_combinado = df_cat_filtrado.merge(\n",
    "        df_grupos,\n",
    "        left_on='unidad_03',\n",
    "        right_on='CODIGO CAÑERO',\n",
    "        how='left'\n",
    "    )\n",
    "    # Eliminar los registros donde no se encontró coincidencia (por ejemplo, no tienen nombre cañero)\n",
    "    df_combinado = df_combinado[df_combinado['NOMBRE CAÑERO'].notna()]\n",
    "    # Seleccionar columnas específicas\n",
    "    df_combinado = df_combinado[['unidad_01', 'GRUPO DE COSECHA']].copy()\n",
    "    # Convertir las columnas a enteros\n",
    "    df_combinado['unidad_01'] = df_combinado['unidad_01'].astype(int)\n",
    "    df_combinado['GRUPO DE COSECHA'] = df_combinado['GRUPO DE COSECHA'].astype(int)\n",
    "    # Crear columna 'idd' con el formato unidad_01_GRUPODECOSECHA\n",
    "    df_combinado['idd'] = df_combinado['unidad_01'].astype(str) + '_' + df_combinado['GRUPO DE COSECHA'].astype(str)\n",
    "    # Eliminar duplicados según la columna 'idd'\n",
    "    df_combinado = df_combinado.drop_duplicates(subset='idd')\n",
    "    # Crear una lista para guardar los resultados de cada grupo\n",
    "    relaciones = []\n",
    "    # Obtener todos los grupos únicos\n",
    "    grupos = sorted(df_combinado['GRUPO DE COSECHA'].unique())\n",
    "    for grupo in grupos:\n",
    "        # Filtrar cañeros y propiedades del grupo actual\n",
    "        df_cañeros = df_grupos[df_grupos['GRUPO DE COSECHA'] == grupo][['CODIGO CAÑERO']].drop_duplicates()\n",
    "        df_props = df_combinado[df_combinado['GRUPO DE COSECHA'] == grupo][['unidad_01']].drop_duplicates()\n",
    "        # Si hay cañeros y propiedades, hacer el producto cartesiano\n",
    "        if not df_cañeros.empty and not df_props.empty:\n",
    "            df_temp = df_cañeros.merge(df_props, how='cross')\n",
    "            df_temp['GRUPO DE COSECHA'] = grupo\n",
    "            relaciones.append(df_temp)\n",
    "    # Unir todos los grupos en un solo DataFrame\n",
    "    df_relacion_total = pd.concat(relaciones, ignore_index=True)\n",
    "    # Eliminar la columna de grupo\n",
    "    df_relacion_total = df_relacion_total.drop(columns=['GRUPO DE COSECHA'])\n",
    "    # Renombrar las columnas\n",
    "    df_relacion_total = df_relacion_total.rename(columns={\n",
    "        'CODIGO CAÑERO': 'COD_CANERO',\n",
    "        'unidad_01': 'COD_PROPIE'\n",
    "    })\n",
    "    # Asegurarte de tener definida la ruta de salida\n",
    "    archivo_salida = os.path.join(output_path, 'CANERO_PROPIEDAD.xlsx')\n",
    "    # Exportar a Excel\n",
    "    df_relacion_total.to_excel(archivo_salida, index=False)\n",
    "    print('Se exporto CANERO_PROPIEDAD.xlsx exitosamente')"
   ]
  },
  {
   "cell_type": "code",
   "execution_count": 26,
   "id": "dd34deca-c4c8-4282-bd06-14813bde1dc9",
   "metadata": {},
   "outputs": [
    {
     "name": "stdout",
     "output_type": "stream",
     "text": [
      "Area Total de Catastro: 56139.12697181613 ha. para relacion CANERO-PROPIEDAD\n",
      "Se exporto CANERO_PROPIEDAD.xlsx exitosamente\n"
     ]
    }
   ],
   "source": [
    "crear_xlsx_caneho_propiedad()"
   ]
  },
  {
   "cell_type": "code",
   "execution_count": null,
   "id": "969127e6-e2d6-4bad-9212-a5401a2c41ef",
   "metadata": {},
   "outputs": [],
   "source": []
  },
  {
   "cell_type": "code",
   "execution_count": null,
   "id": "44543198-407b-4ccd-abf7-704a274c1aa0",
   "metadata": {},
   "outputs": [],
   "source": []
  },
  {
   "cell_type": "code",
   "execution_count": 173,
   "id": "62dd8abc-ec74-4696-b89d-4188ff40d98d",
   "metadata": {},
   "outputs": [],
   "source": []
  },
  {
   "cell_type": "code",
   "execution_count": 161,
   "id": "36351358-9861-4089-895b-9fe2939c2bd6",
   "metadata": {},
   "outputs": [],
   "source": []
  },
  {
   "cell_type": "code",
   "execution_count": 163,
   "id": "04a709ed-298f-4626-93ac-ccb393e3be9d",
   "metadata": {},
   "outputs": [],
   "source": []
  },
  {
   "cell_type": "code",
   "execution_count": 27,
   "id": "4c9980c7-b7df-4e13-9487-382657bd2b06",
   "metadata": {},
   "outputs": [
    {
     "name": "stdout",
     "output_type": "stream",
     "text": [
      "Area Total de Catastro: 56139.12697181613 ha. para relacion CANERO-PROPIEDAD\n"
     ]
    }
   ],
   "source": [
    "gdf_catastro = gpd.read_file(path_catastro)\n",
    "gdf_cat_filtrado = gdf_catastro[\n",
    "    (gdf_catastro['obs'] == 'ok') &\n",
    "    (gdf_catastro['cultivo'].isin(['canha', 'siembra']))]\n",
    "print('Area Total de Catastro:', gdf_cat_filtrado['area'].sum(), 'ha. para relacion CANERO-PROPIEDAD')"
   ]
  },
  {
   "cell_type": "code",
   "execution_count": 29,
   "id": "b7d4feef-a39c-4781-b265-423d23199973",
   "metadata": {},
   "outputs": [],
   "source": [
    "# Crear DataFrame con la columna 'variedad', eliminando duplicados y nulos\n",
    "df_variedad = gdf_cat_filtrado[['variedad']].dropna().drop_duplicates().reset_index(drop=True)"
   ]
  },
  {
   "cell_type": "code",
   "execution_count": 30,
   "id": "4538df97-1f35-40ed-bf20-9b80794f3d3e",
   "metadata": {},
   "outputs": [
    {
     "data": {
      "text/html": [
       "<div>\n",
       "<style scoped>\n",
       "    .dataframe tbody tr th:only-of-type {\n",
       "        vertical-align: middle;\n",
       "    }\n",
       "\n",
       "    .dataframe tbody tr th {\n",
       "        vertical-align: top;\n",
       "    }\n",
       "\n",
       "    .dataframe thead th {\n",
       "        text-align: right;\n",
       "    }\n",
       "</style>\n",
       "<table border=\"1\" class=\"dataframe\">\n",
       "  <thead>\n",
       "    <tr style=\"text-align: right;\">\n",
       "      <th></th>\n",
       "      <th>variedad</th>\n",
       "    </tr>\n",
       "  </thead>\n",
       "  <tbody>\n",
       "    <tr>\n",
       "      <th>0</th>\n",
       "      <td>UCG9020</td>\n",
       "    </tr>\n",
       "    <tr>\n",
       "      <th>1</th>\n",
       "      <td>RBB7726</td>\n",
       "    </tr>\n",
       "    <tr>\n",
       "      <th>2</th>\n",
       "      <td>RB2</td>\n",
       "    </tr>\n",
       "    <tr>\n",
       "      <th>3</th>\n",
       "      <td>CITTCA8522</td>\n",
       "    </tr>\n",
       "    <tr>\n",
       "      <th>4</th>\n",
       "      <td>RENOVACION</td>\n",
       "    </tr>\n",
       "    <tr>\n",
       "      <th>5</th>\n",
       "      <td>UCG9610</td>\n",
       "    </tr>\n",
       "    <tr>\n",
       "      <th>6</th>\n",
       "      <td>CITTCA0563</td>\n",
       "    </tr>\n",
       "    <tr>\n",
       "      <th>7</th>\n",
       "      <td>OTRAS</td>\n",
       "    </tr>\n",
       "    <tr>\n",
       "      <th>8</th>\n",
       "      <td>NA5626</td>\n",
       "    </tr>\n",
       "    <tr>\n",
       "      <th>9</th>\n",
       "      <td>SP835073</td>\n",
       "    </tr>\n",
       "    <tr>\n",
       "      <th>10</th>\n",
       "      <td>RBN02</td>\n",
       "    </tr>\n",
       "    <tr>\n",
       "      <th>11</th>\n",
       "      <td>SP931213</td>\n",
       "    </tr>\n",
       "    <tr>\n",
       "      <th>12</th>\n",
       "      <td>CITTCA001</td>\n",
       "    </tr>\n",
       "    <tr>\n",
       "      <th>13</th>\n",
       "      <td>JARDIN VARIEDAD</td>\n",
       "    </tr>\n",
       "    <tr>\n",
       "      <th>14</th>\n",
       "      <td>SP701143</td>\n",
       "    </tr>\n",
       "    <tr>\n",
       "      <th>15</th>\n",
       "      <td>RB4</td>\n",
       "    </tr>\n",
       "    <tr>\n",
       "      <th>16</th>\n",
       "      <td>NA732596</td>\n",
       "    </tr>\n",
       "    <tr>\n",
       "      <th>17</th>\n",
       "      <td>NA1</td>\n",
       "    </tr>\n",
       "    <tr>\n",
       "      <th>18</th>\n",
       "      <td>NN5</td>\n",
       "    </tr>\n",
       "    <tr>\n",
       "      <th>19</th>\n",
       "      <td>RB1</td>\n",
       "    </tr>\n",
       "    <tr>\n",
       "      <th>20</th>\n",
       "      <td>NA2</td>\n",
       "    </tr>\n",
       "    <tr>\n",
       "      <th>21</th>\n",
       "      <td>EXPERIMENTO</td>\n",
       "    </tr>\n",
       "    <tr>\n",
       "      <th>22</th>\n",
       "      <td>TUC9810</td>\n",
       "    </tr>\n",
       "  </tbody>\n",
       "</table>\n",
       "</div>"
      ],
      "text/plain": [
       "           variedad\n",
       "0           UCG9020\n",
       "1           RBB7726\n",
       "2               RB2\n",
       "3        CITTCA8522\n",
       "4        RENOVACION\n",
       "5           UCG9610\n",
       "6        CITTCA0563\n",
       "7             OTRAS\n",
       "8            NA5626\n",
       "9          SP835073\n",
       "10            RBN02\n",
       "11         SP931213\n",
       "12        CITTCA001\n",
       "13  JARDIN VARIEDAD\n",
       "14         SP701143\n",
       "15              RB4\n",
       "16         NA732596\n",
       "17              NA1\n",
       "18              NN5\n",
       "19              RB1\n",
       "20              NA2\n",
       "21      EXPERIMENTO\n",
       "22          TUC9810"
      ]
     },
     "execution_count": 30,
     "metadata": {},
     "output_type": "execute_result"
    }
   ],
   "source": [
    "df_variedad"
   ]
  },
  {
   "cell_type": "code",
   "execution_count": 31,
   "id": "dc9d73d1-21d3-4c7c-9e97-37bc638b2e77",
   "metadata": {},
   "outputs": [
    {
     "data": {
      "text/html": [
       "<div>\n",
       "<style scoped>\n",
       "    .dataframe tbody tr th:only-of-type {\n",
       "        vertical-align: middle;\n",
       "    }\n",
       "\n",
       "    .dataframe tbody tr th {\n",
       "        vertical-align: top;\n",
       "    }\n",
       "\n",
       "    .dataframe thead th {\n",
       "        text-align: right;\n",
       "    }\n",
       "</style>\n",
       "<table border=\"1\" class=\"dataframe\">\n",
       "  <thead>\n",
       "    <tr style=\"text-align: right;\">\n",
       "      <th></th>\n",
       "      <th>unidad_01</th>\n",
       "      <th>unidad_03</th>\n",
       "      <th>unidad_05</th>\n",
       "      <th>area</th>\n",
       "      <th>variedad</th>\n",
       "    </tr>\n",
       "  </thead>\n",
       "  <tbody>\n",
       "    <tr>\n",
       "      <th>151</th>\n",
       "      <td>114.0</td>\n",
       "      <td>11860.0</td>\n",
       "      <td>L6.3.1</td>\n",
       "      <td>15.770016</td>\n",
       "      <td>UCG9020</td>\n",
       "    </tr>\n",
       "    <tr>\n",
       "      <th>204</th>\n",
       "      <td>771.0</td>\n",
       "      <td>11805.0</td>\n",
       "      <td>L6.5</td>\n",
       "      <td>3.630435</td>\n",
       "      <td>RBB7726</td>\n",
       "    </tr>\n",
       "    <tr>\n",
       "      <th>265</th>\n",
       "      <td>2286.0</td>\n",
       "      <td>100000.0</td>\n",
       "      <td>L1</td>\n",
       "      <td>3.345377</td>\n",
       "      <td>UCG9020</td>\n",
       "    </tr>\n",
       "    <tr>\n",
       "      <th>337</th>\n",
       "      <td>253.0</td>\n",
       "      <td>2488.0</td>\n",
       "      <td>L8.1</td>\n",
       "      <td>6.637463</td>\n",
       "      <td>RB2</td>\n",
       "    </tr>\n",
       "    <tr>\n",
       "      <th>425</th>\n",
       "      <td>639.0</td>\n",
       "      <td>2004.0</td>\n",
       "      <td>L1.1</td>\n",
       "      <td>4.561310</td>\n",
       "      <td>UCG9020</td>\n",
       "    </tr>\n",
       "    <tr>\n",
       "      <th>...</th>\n",
       "      <td>...</td>\n",
       "      <td>...</td>\n",
       "      <td>...</td>\n",
       "      <td>...</td>\n",
       "      <td>...</td>\n",
       "    </tr>\n",
       "    <tr>\n",
       "      <th>13451</th>\n",
       "      <td>541.0</td>\n",
       "      <td>4773.0</td>\n",
       "      <td>L7</td>\n",
       "      <td>3.931171</td>\n",
       "      <td>UCG9020</td>\n",
       "    </tr>\n",
       "    <tr>\n",
       "      <th>13455</th>\n",
       "      <td>2025.0</td>\n",
       "      <td>8023.0</td>\n",
       "      <td>NaN</td>\n",
       "      <td>1.653056</td>\n",
       "      <td>UCG9020</td>\n",
       "    </tr>\n",
       "    <tr>\n",
       "      <th>13456</th>\n",
       "      <td>986.0</td>\n",
       "      <td>13003.0</td>\n",
       "      <td>NaN</td>\n",
       "      <td>3.868736</td>\n",
       "      <td>UCG9020</td>\n",
       "    </tr>\n",
       "    <tr>\n",
       "      <th>13457</th>\n",
       "      <td>986.0</td>\n",
       "      <td>13003.0</td>\n",
       "      <td>NaN</td>\n",
       "      <td>3.427438</td>\n",
       "      <td>RBB7726</td>\n",
       "    </tr>\n",
       "    <tr>\n",
       "      <th>13458</th>\n",
       "      <td>986.0</td>\n",
       "      <td>13003.0</td>\n",
       "      <td>NaN</td>\n",
       "      <td>6.326319</td>\n",
       "      <td>RBB7726</td>\n",
       "    </tr>\n",
       "  </tbody>\n",
       "</table>\n",
       "<p>10765 rows × 5 columns</p>\n",
       "</div>"
      ],
      "text/plain": [
       "       unidad_01  unidad_03 unidad_05       area variedad\n",
       "151        114.0    11860.0    L6.3.1  15.770016  UCG9020\n",
       "204        771.0    11805.0      L6.5   3.630435  RBB7726\n",
       "265       2286.0   100000.0        L1   3.345377  UCG9020\n",
       "337        253.0     2488.0      L8.1   6.637463      RB2\n",
       "425        639.0     2004.0      L1.1   4.561310  UCG9020\n",
       "...          ...        ...       ...        ...      ...\n",
       "13451      541.0     4773.0        L7   3.931171  UCG9020\n",
       "13455     2025.0     8023.0       NaN   1.653056  UCG9020\n",
       "13456      986.0    13003.0       NaN   3.868736  UCG9020\n",
       "13457      986.0    13003.0       NaN   3.427438  RBB7726\n",
       "13458      986.0    13003.0       NaN   6.326319  RBB7726\n",
       "\n",
       "[10765 rows x 5 columns]"
      ]
     },
     "execution_count": 31,
     "metadata": {},
     "output_type": "execute_result"
    }
   ],
   "source": [
    "gdf_cat_filtrado[['unidad_01', 'unidad_03', 'unidad_05', 'area', 'variedad']]"
   ]
  },
  {
   "cell_type": "code",
   "execution_count": null,
   "id": "cd53af66-1d37-47c5-9297-9970bd8003c2",
   "metadata": {},
   "outputs": [],
   "source": []
  },
  {
   "cell_type": "code",
   "execution_count": null,
   "id": "5a7bab58-fa70-4bb5-903b-a914d86de2e5",
   "metadata": {},
   "outputs": [],
   "source": []
  },
  {
   "cell_type": "code",
   "execution_count": null,
   "id": "a9e4d54a-042d-4d97-b9ab-e6400d92374d",
   "metadata": {},
   "outputs": [],
   "source": []
  },
  {
   "cell_type": "code",
   "execution_count": null,
   "id": "b337bbf5-e65d-4b21-923c-ace87b6513b3",
   "metadata": {},
   "outputs": [],
   "source": []
  },
  {
   "cell_type": "code",
   "execution_count": 184,
   "id": "f9d69909-7983-43af-95a4-d0dd620c3666",
   "metadata": {},
   "outputs": [],
   "source": [
    "# Filtrar la columna 'variedad', eliminar nulos y duplicados\n",
    "df_variedades = gdf_cat_filtrado[['variedad']].dropna().drop_duplicates()\n",
    "\n",
    "# Exportar a Excel\n",
    "archivo_variedades = os.path.join(output_path, 'VARIEDADES.xlsx')\n",
    "df_variedades.to_excel(archivo_variedades, index=False)"
   ]
  },
  {
   "cell_type": "code",
   "execution_count": null,
   "id": "3651696c-4c77-43ea-931e-7fa19ea60af2",
   "metadata": {},
   "outputs": [],
   "source": []
  },
  {
   "cell_type": "code",
   "execution_count": null,
   "id": "54a5d028-e0d2-4a64-9e8c-02b2a9a93f0c",
   "metadata": {},
   "outputs": [],
   "source": []
  },
  {
   "cell_type": "code",
   "execution_count": null,
   "id": "5a93e772-a522-4d26-bb2b-d35239cc6664",
   "metadata": {},
   "outputs": [],
   "source": []
  },
  {
   "cell_type": "code",
   "execution_count": null,
   "id": "a1324b10-ae90-4ee3-8818-ff42a86a189d",
   "metadata": {},
   "outputs": [],
   "source": []
  },
  {
   "cell_type": "code",
   "execution_count": null,
   "id": "a0e133b7-43ab-44a6-97fe-c86531e408a1",
   "metadata": {},
   "outputs": [],
   "source": []
  },
  {
   "cell_type": "code",
   "execution_count": null,
   "id": "fd14ffa0-94bd-4fb6-a42f-3a062e57c6f0",
   "metadata": {},
   "outputs": [],
   "source": []
  },
  {
   "cell_type": "code",
   "execution_count": null,
   "id": "a7286106-b8e2-4a57-a16b-679a8ff5dbba",
   "metadata": {},
   "outputs": [],
   "source": []
  },
  {
   "cell_type": "code",
   "execution_count": null,
   "id": "0ae93e5b-2956-4c1d-99ce-e4cf18e02c4d",
   "metadata": {},
   "outputs": [],
   "source": []
  },
  {
   "cell_type": "code",
   "execution_count": null,
   "id": "f0e9a42f-84f9-4007-927a-1232a2210c68",
   "metadata": {},
   "outputs": [],
   "source": []
  },
  {
   "cell_type": "code",
   "execution_count": null,
   "id": "8d867881-03fe-4bc7-bad5-b336062a7a3c",
   "metadata": {},
   "outputs": [],
   "source": []
  },
  {
   "cell_type": "code",
   "execution_count": null,
   "id": "c3d10300-afb3-4fb2-8d12-eda08dfa4d3b",
   "metadata": {},
   "outputs": [],
   "source": []
  },
  {
   "cell_type": "code",
   "execution_count": null,
   "id": "9c3ae307-744d-4b7d-bc6a-d78aa01aa987",
   "metadata": {},
   "outputs": [],
   "source": []
  }
 ],
 "metadata": {
  "kernelspec": {
   "display_name": "Python 3 (ipykernel)",
   "language": "python",
   "name": "python3"
  },
  "language_info": {
   "codemirror_mode": {
    "name": "ipython",
    "version": 3
   },
   "file_extension": ".py",
   "mimetype": "text/x-python",
   "name": "python",
   "nbconvert_exporter": "python",
   "pygments_lexer": "ipython3",
   "version": "3.10.13"
  }
 },
 "nbformat": 4,
 "nbformat_minor": 5
}
