{
 "cells": [
  {
   "cell_type": "code",
   "execution_count": 22,
   "id": "6658e010-c382-4e03-a45a-67c832b35ef9",
   "metadata": {},
   "outputs": [],
   "source": [
    "# werkzeug\n",
    "# shapely=1.7.1\n",
    "# geopandas\n",
    "# pandas\n",
    "# contextily\n",
    "# matplotlib\n",
    "# docxtpl\n",
    "# docx"
   ]
  },
  {
   "cell_type": "code",
   "execution_count": 1,
   "id": "8c292c7c-2591-4985-93c8-88314bca3d5a",
   "metadata": {},
   "outputs": [],
   "source": [
    "import sys\n",
    "sys.path.append('../_amigocloud')"
   ]
  },
  {
   "cell_type": "code",
   "execution_count": 2,
   "id": "222ddcde-03f2-4557-8042-eda31f998a3b",
   "metadata": {},
   "outputs": [],
   "source": [
    "import gspread\n",
    "from oauth2client.service_account import ServiceAccountCredentials"
   ]
  },
  {
   "cell_type": "code",
   "execution_count": 3,
   "id": "665919a4-6184-4280-8c4c-64588f9131d6",
   "metadata": {},
   "outputs": [],
   "source": [
    "from werkzeug.wrappers import Request, Response\n",
    "from jinja2 import Template\n",
    "from datetime import datetime, timedelta\n",
    "import collections\n",
    "from amigocloud import AmigoCloud\n",
    "from datetime import datetime\n",
    "from shapely import wkb\n",
    "import geopandas\n",
    "import pandas as pd\n",
    "import contextily as ctx\n",
    "import matplotlib.pyplot as plt\n",
    "from docxtpl import DocxTemplate\n",
    "import docxtpl\n",
    "from docx.shared import Mm\n",
    "import requests\n",
    "import qrcode\n",
    "def convertir_wkb(wkb_data):\n",
    "    return wkb.loads(wkb_data, hex=True)"
   ]
  },
  {
   "cell_type": "code",
   "execution_count": 4,
   "id": "057998b9-c93b-4559-87c9-e82742149a8a",
   "metadata": {},
   "outputs": [],
   "source": [
    "# ruta de carpera donde estan las llaves\n",
    "ruta = open('../ruta.txt')\n",
    "ruta = ruta.readlines()[0]"
   ]
  },
  {
   "cell_type": "code",
   "execution_count": 5,
   "id": "f78ec737-093c-44bb-a782-1af54be4a65f",
   "metadata": {},
   "outputs": [
    {
     "data": {
      "text/plain": [
       "<amigocloud.AmigoCloud at 0x284455f2710>"
      ]
     },
     "execution_count": 5,
     "metadata": {},
     "output_type": "execute_result"
    }
   ],
   "source": [
    "# leer token\n",
    "acceso = open(ruta + '/_keys/api_amigocloud.key','r')\n",
    "api_token = acceso.readlines()[0]\n",
    "acceso.close()\n",
    "amigocloud = AmigoCloud(token=api_token)\n",
    "amigocloud"
   ]
  },
  {
   "cell_type": "code",
   "execution_count": null,
   "id": "e0c24307-a33d-4a4a-ae66-fd4080db26c4",
   "metadata": {},
   "outputs": [],
   "source": []
  },
  {
   "cell_type": "code",
   "execution_count": 6,
   "id": "cb81ef17-fc21-479d-9221-8c2c1f6cff63",
   "metadata": {},
   "outputs": [],
   "source": [
    "def crear_cite(cod_canhero, nom_canhero, tipo_reporte):\n",
    "    ruta_api_google = ruta + '\\_keys\\client_secret_google_sheets.json'\n",
    "    # Configura las credenciales\n",
    "    scope = [\"https://spreadsheets.google.com/feeds\",\n",
    "             'https://www.googleapis.com/auth/spreadsheets', \n",
    "             \"https://www.googleapis.com/auth/drive.file\", \n",
    "             \"https://www.googleapis.com/auth/drive\"]\n",
    "    creds = ServiceAccountCredentials.from_json_keyfile_name(ruta_api_google, scope)\n",
    "    client = gspread.authorize(creds)\n",
    "    # Abre la hoja de cálculo con ID y la hoja específica\n",
    "    spreadsheet = client.open_by_key(\"1JROdo_Mjx6267cDfFvTFvhk1aE2_XTc28PfTgRxfwNQ\")\n",
    "    sheet = spreadsheet.sheet1\n",
    "    # Lee los datos\n",
    "    data_sheet = sheet.get_all_records()\n",
    "    df = pd.DataFrame(data_sheet)\n",
    "    # Encuentra el número más grande y lo incrementamos y agrega un nuevo registro\n",
    "    max_value = df['No'].max()\n",
    "    no = int(max_value + 1)\n",
    "    # llenamos los demas campos\n",
    "    fecha = datetime.now().strftime(\"%m/%d/%Y\")\n",
    "    cod_ca = int(cod_canhero)\n",
    "    nom_ca = nom_canhero\n",
    "    tipo = tipo_reporte\n",
    "    #agregar el registro\n",
    "    sheet.append_row([no, fecha, cod_ca, nom_ca, tipo])\n",
    "    return no"
   ]
  },
  {
   "cell_type": "code",
   "execution_count": 7,
   "id": "671335c0-f848-4ced-9199-d1000c19c39b",
   "metadata": {},
   "outputs": [],
   "source": [
    "def generar_reporte(codigo_canhero):\n",
    "    # EXTRAER DATOS DE CREDITO\n",
    "    query_credito = {'query': 'select * from dataset_307560 where cast(SPLIT_PART(canhero, \\'/\\', 1) as integer) = {cod_ca}'.format(cod_ca=codigo_canhero)}\n",
    "    credito_select = amigocloud.get('https://app.amigocloud.com/api/v1/projects/32672/sql', query_credito)\n",
    "    credito_data = credito_select['data'][0]\n",
    "    credito_data['fecha_informe'] = (datetime.strptime(credito_data['fecha_1ra_insp'].split(' ')[0], '%Y-%m-%d') + timedelta(days=1)).strftime('%d/%m/%Y')\n",
    "    credito_data['fecha_1ra_insp'] = datetime.strptime(credito_data['fecha_1ra_insp'].split(' ')[0], '%Y-%m-%d').strftime('%d/%m/%Y')\n",
    "    \n",
    "    cite = crear_cite(credito_data['canhero'].split(' / ')[0], credito_data['canhero'].split(' / ')[1], 'CRSI')\n",
    "    credito_data['cite_1ra_insp'] = cite\n",
    "    \n",
    "    credito = collections.namedtuple(\"credito\", credito_data.keys())(*credito_data.values())\n",
    "\n",
    "    # EXTRAER DATOS DE PROPIEDADES\n",
    "    query_propiedades = {'query': 'select * from dataset_307562 where insp_ref_prop = \\'{insp_ref_prop}\\''.format(insp_ref_prop=credito.amigo_id)}\n",
    "    propiedades_select = amigocloud.get('https://app.amigocloud.com/api/v1/projects/32672/sql', query_propiedades)\n",
    "    propiedades_data = propiedades_select['data']\n",
    "\n",
    "    # EXTRAER DATOS DE LOTES\n",
    "    propiedades = []\n",
    "    for prop in propiedades_data:\n",
    "        prop['lotes'] = []\n",
    "        query_lotes = {'query': 'select * from dataset_307563 where prop_ref_lote=\\'{prop_ref_lote}\\''.format(prop_ref_lote=prop['amigo_id'])}\n",
    "        lotes_select = amigocloud.get('https://app.amigocloud.com/api/v1/projects/32672/sql', query_lotes)\n",
    "        for lote_select in lotes_select['data']:\n",
    "            lote = collections.namedtuple(\"lote\", lote_select.keys())(*lote_select.values())\n",
    "            prop['lotes'].append(lote)\n",
    "        propiedades.append(collections.namedtuple(\"propiedad\", prop.keys())(*prop.values()))\n",
    "\n",
    "    # EXTRAER FOTOS\n",
    "    fotos = []\n",
    "    for propiedad in propiedades:\n",
    "        for lote in propiedad.lotes:\n",
    "            print(lote.lote, lote.amigo_id)\n",
    "            query_fotos = {'query': 'select source_amigo_id, s3_filename from gallery_46845 where source_amigo_id=\\'{source_amigo_id}\\''.format(source_amigo_id=lote.amigo_id)}\n",
    "            fotos_filename = amigocloud.get('https://app.amigocloud.com/api/v1/projects/32672/sql', query_fotos)\n",
    "            if fotos_filename['data'] != []:\n",
    "                dic = {'lote': lote.lote, 'file_name': fotos_filename['data'][0]['s3_filename']}\n",
    "                fotos.append(dic)\n",
    "\n",
    "    # GENERERAR PLANOS\n",
    "    i = 0\n",
    "    lista_planos = []\n",
    "    for propiedad in propiedades:\n",
    "        i = i + 1\n",
    "        lista_planos.append(generar_plano(propiedad, i))\n",
    "    \n",
    "    \n",
    "    # GENERAR QR\n",
    "    texto = '''\n",
    "--UTEA--\n",
    "--1RA INSPECCION CREDITO SIEMBRA--\n",
    "\n",
    "Codigo de Inspeccion: {cite}\n",
    "Fecha de Inspeccion: {fecha}\n",
    "Nombre de Canero: {canero}\n",
    "Codigo Canero: {cod_ca}\n",
    "Total Solicitado: {soli}\n",
    "Total Area Insp.: {total_area} ha\n",
    "Estado de Insp.: {estado}\n",
    "Tecnico Responsable: {tecnico}'''\\\n",
    "    .format(\n",
    "        cite=str(credito.cite_1ra_insp) + '-' + credito.fecha_1ra_insp.split('/')[2], \n",
    "        fecha=credito.fecha_1ra_insp, \n",
    "        canero=credito.canhero.split(' / ')[1],\n",
    "        cod_ca=credito.canhero.split(' / ')[0],\n",
    "        soli=credito.solicitado,\n",
    "        total_area=credito.total_1ra_insp,\n",
    "        estado=credito.estado_1ra_insp,\n",
    "        tecnico=credito.respon_1ra_insp)\n",
    "    # Generar el código QR\n",
    "    qr = qrcode.QRCode(\n",
    "        version=1,\n",
    "        error_correction=qrcode.constants.ERROR_CORRECT_L,\n",
    "        box_size=10,\n",
    "        border=4,\n",
    "    )\n",
    "    qr.add_data(texto)\n",
    "    qr.make(fit=True)\n",
    "    \n",
    "    qr_img = qr.make_image(fill_color=\"black\", back_color=\"white\")\n",
    "    \n",
    "    cod_ca = credito.canhero.split(' / ')[0]\n",
    "    nom_ca = credito.canhero.split(' / ')[1]\n",
    "    filename_qr = \"qr_\" + cod_ca + '_CRS_' + credito.fecha_informe.replace('/', '-') + '_' + nom_ca\n",
    "    ruta_qr = ruta + '/planos/' + filename_qr + '.png'\n",
    "    # Guardar el código QR en un archivo\n",
    "    qr_img.save(ruta_qr)\n",
    "\n",
    "    \n",
    "    \n",
    "    \n",
    "    \n",
    "\n",
    "        \n",
    "    # GENERAR REPORTE\n",
    "    doc = DocxTemplate(ruta + \"/templates/tpl_inf_credito_1ra.docx\")\n",
    "    #generar lista de InlineImage de planos \n",
    "    lista_InlineImage = []\n",
    "    for plano in lista_planos:\n",
    "        lista_InlineImage.append(docxtpl.InlineImage(doc, image_descriptor=plano, width=Mm(150)))\n",
    "    #descargar fotos y generar lista InlineImage\n",
    "    lista_fotos_inline = []\n",
    "    for foto in fotos:\n",
    "        #response = requests.get(\"https://www-amigocloud.s3.amazonaws.com/gallery/\" + foto['file_name'])\n",
    "        response = requests.get(\"https://www-amigocloud.s3.amazonaws.com/gallery/\" + foto['file_name'])\n",
    "        file = open(ruta + '/fotos/' + foto['file_name'], \"wb\")\n",
    "        file.write(response.content)\n",
    "        file.close()\n",
    "        lista_fotos_inline.append({'foto': docxtpl.InlineImage(doc, image_descriptor=ruta+'/fotos/' + foto['file_name'], width=Mm(120)), 'lote': foto['lote']})\n",
    "    firma_respon = None\n",
    "    if credito.respon_1ra_insp == 'Rogelio Acuña Rodríguez':\n",
    "        firma_respon = docxtpl.InlineImage(doc, image_descriptor=ruta+'/templates/firma_rogelio.png', width=Mm(60))\n",
    "    else:\n",
    "        firma_respon = docxtpl.InlineImage(doc, image_descriptor=ruta+'/templates/firma_jaldin.png', width=Mm(60))\n",
    "    # se crea obj inline par imagen QR\n",
    "    qr_file = docxtpl.InlineImage(doc, image_descriptor=ruta_qr, width=Mm(30))\n",
    "    \n",
    "    context = {'credito':credito, 'propiedades':propiedades, 'planos':lista_InlineImage, 'fotos':lista_fotos_inline, 'firma':firma_respon, 'qr':qr_file}\n",
    "    doc.render(context)\n",
    "    cod_ca = credito.canhero.split(' / ')[0]\n",
    "    nom_ca = credito.canhero.split(' / ')[1]\n",
    "    print(credito)\n",
    "    file_name = \"_\" + cod_ca + '_CRS_' + credito.fecha_informe.replace('/', '-') + '_' + nom_ca\n",
    "    doc.save(ruta + '/informes/' + file_name + '.docx')"
   ]
  },
  {
   "cell_type": "code",
   "execution_count": 8,
   "id": "f90ffde3-b794-45c0-a48e-f69a592752af",
   "metadata": {},
   "outputs": [],
   "source": [
    "def generar_plano(propiedad, i):\n",
    "    lotes_lista = []\n",
    "    for lote in propiedad.lotes:\n",
    "        lotes_lista.append(lote._asdict())\n",
    "    df = pd.DataFrame(lotes_lista)\n",
    "    df['geometria'] = df['geometria'].apply(convertir_wkb)\n",
    "\n",
    "    #Convertir a GeoDataFrame\n",
    "    data = geopandas.GeoDataFrame(df, geometry='geometria')\n",
    "    #data\n",
    "    #ctx.add_basemap(ax, source=ctx.providers.Esri.WorldImagery)\n",
    "\n",
    "    data['coords'] = data['geometria'].apply(lambda x: x.representative_point().coords[:])\n",
    "    data['coords'] = [coords[0] for coords in data['coords']]\n",
    "\n",
    "    data.crs = \"EPSG:4326\"\n",
    "    data = data.to_crs(epsg=3857)\n",
    "\n",
    "    \n",
    "    fig = plt.figure(i, figsize=(20,20))\n",
    "    #fig = plt.figure(1)\n",
    "    ax = None\n",
    "    ax = fig.add_subplot()\n",
    "\n",
    "    #data.set_crs(epsg=4326, inplace=True)\n",
    "\n",
    "    data.apply(lambda x: ax.annotate(text=x.lote + ' \\n' + str(x.superficie) + ' ha', xy=x.geometria.centroid.coords[0], ha='center', va='center', color='black', fontsize=12, weight=1000, bbox=dict(facecolor=(1,1,1,0.3), edgecolor='none', pad=0)), axis=1);\n",
    "\n",
    "    #data.boundary.plot(ax=ax, color=(0,0,0,0), linewidth=0)\n",
    "\n",
    "    #data = data.to_crs(epsg=3857)\n",
    "\n",
    "    minx, miny, maxx, maxy = data.total_bounds\n",
    "    ax.set_xlim(minx - 500, maxx + 500)\n",
    "    ax.set_ylim(miny - 400, maxy + 400)\n",
    "\n",
    "    data.plot(ax=ax, edgecolor='r', facecolor=(0,0,0,0), linewidth=2, figsize=(20,20))\n",
    "    #data.plot(ax=ax, edgecolor='r', facecolor=(0,0,0,0), linewidth=2)\n",
    "    \n",
    "    ctx.add_basemap(ax, source=ctx.providers.Esri.WorldImagery)\n",
    "    ax.set_axis_off()\n",
    "    ax.set_title(str(propiedad.propiedad), fontsize=20)\n",
    "    path = ruta+'/planos/' + str(propiedad.amigo_id) + '.jpeg'\n",
    "    fig.savefig(path, dpi = 300, bbox_inches='tight')\n",
    "    plt.clf()\n",
    "    return path"
   ]
  },
  {
   "cell_type": "code",
   "execution_count": 21,
   "id": "e4cd18b4-2c5c-4d42-a40a-7f98bb6650d4",
   "metadata": {},
   "outputs": [],
   "source": [
    "semana = 'S49'\n",
    "query = {'query': 'select split_part(canhero, \\' / \\', 1) cod, split_part(canhero, \\' / \\', 2) nom from dataset_307560 where semana_1ra = \\'{sem}\\''.format(sem=semana)}\n",
    "project = 'https://app.amigocloud.com/api/v1/projects/32672/sql'\n",
    "select = amigocloud.get(project, query)\n",
    "data = select['data']"
   ]
  },
  {
   "cell_type": "code",
   "execution_count": 22,
   "id": "4cb06cb9-c4eb-42ca-acf9-6156d769042b",
   "metadata": {},
   "outputs": [
    {
     "data": {
      "text/plain": [
       "[{'cod': '1988', 'nom': 'CLAROS CADIMA JHONNY'},\n",
       " {'cod': '1979', 'nom': 'CLAROS CADIMA EDMUNDO'},\n",
       " {'cod': '41594', 'nom': 'AGROPECUARIA CAMPO DULCE S.R.L.'},\n",
       " {'cod': '2641', 'nom': 'CRONENBOLD AGUILERA ROBERTO'},\n",
       " {'cod': '10806', 'nom': 'PALICIO BRUNO OSCAR ROBERTO'},\n",
       " {'cod': '40256', 'nom': 'INSERVA DAMIANA S.R.L.'},\n",
       " {'cod': '153', 'nom': 'ALVAREZ DURAN FILIBERTO'},\n",
       " {'cod': '41533', 'nom': 'ARNEZ COLQUE ROSARIO ESTELA'},\n",
       " {'cod': '41540', 'nom': 'ALVAREZ SALGUERO FREDDY'},\n",
       " {'cod': '41819', 'nom': 'AGROPECUARIA GUSTAVITO SRL'},\n",
       " {'cod': '5448', 'nom': 'HUANCA MENCHAQUE ROLY'},\n",
       " {'cod': '41944', 'nom': 'CONDORI QUEVEDO RONALD'}]"
      ]
     },
     "execution_count": 22,
     "metadata": {},
     "output_type": "execute_result"
    }
   ],
   "source": [
    "data"
   ]
  },
  {
   "cell_type": "code",
   "execution_count": 23,
   "id": "c9643d6a-4861-4ed3-b9ba-619aeaaeba46",
   "metadata": {},
   "outputs": [],
   "source": [
    "#lista = [1068, 18062, 10739, 41955, 2392, 15162, 2517, 8706, 15085, 430, 874, 5498, 2505, 2274]\n",
    "lista = [int(i['cod']) for i in data]"
   ]
  },
  {
   "cell_type": "code",
   "execution_count": 24,
   "id": "59340321-ace8-43b3-832b-75a531664da5",
   "metadata": {},
   "outputs": [
    {
     "name": "stdout",
     "output_type": "stream",
     "text": [
      "12 informes\n"
     ]
    }
   ],
   "source": [
    "print(len(lista), 'informes')"
   ]
  },
  {
   "cell_type": "code",
   "execution_count": 25,
   "id": "66f18907-ce26-4932-b53a-4ef39be24c3c",
   "metadata": {},
   "outputs": [
    {
     "data": {
      "text/plain": [
       "[1988, 1979, 41594, 2641, 10806, 40256, 153, 41533, 41540, 41819, 5448, 41944]"
      ]
     },
     "execution_count": 25,
     "metadata": {},
     "output_type": "execute_result"
    }
   ],
   "source": [
    "lista"
   ]
  },
  {
   "cell_type": "code",
   "execution_count": null,
   "id": "c9291255-528a-468d-9f3e-72f1d5086bcf",
   "metadata": {},
   "outputs": [],
   "source": []
  },
  {
   "cell_type": "code",
   "execution_count": null,
   "id": "682adc65-530a-4a77-9f3c-b3663ab44477",
   "metadata": {},
   "outputs": [],
   "source": []
  },
  {
   "cell_type": "code",
   "execution_count": null,
   "id": "545fd6e1-e3a1-4438-b9bb-e99b9323277f",
   "metadata": {},
   "outputs": [],
   "source": []
  },
  {
   "cell_type": "code",
   "execution_count": 26,
   "id": "70c4c82b-41de-461d-8a66-628ab505953f",
   "metadata": {},
   "outputs": [
    {
     "name": "stdout",
     "output_type": "stream",
     "text": [
      "L5 ca30b43e5c404a3592ce088d74381c6a\n",
      "L6 a9392ee49ba343178e52167c6874c55d\n",
      "credito(fecha_registro='2024-11-22 19:49:05.642001+00:00', amigo_id='05d56bd1413a4c98bc6a8bdaedcd3d0d', semana_1ra='S49', semana_2da=None, institucion=79, solicitado=60.0, total_1ra_insp=61.87, estado_1ra_insp='APROBADO', fecha_1ra_insp='04/12/2024', cite_1ra_insp=403, respon_1ra_insp='Rogelio Acuña Rodríguez', obs_1ra=None, link_doc_1ra=None, total_2da_insp=None, estado_2da_insp='PENDIENTE', fecha_2da_insp=None, cite_2da_insp=None, respon_2da_insp=None, obs_2da=None, link_doc_2da=None, total_nacido=None, total_no_nacido=None, muestreo=False, glifosato=True, nivelacion_1=False, drenaje=False, romeplow=True, rastra=True, subsolado=False, rotacion=True, arado=False, ferti_base=False, enraizadores=True, insecticidas=True, fungicidas=True, preemergente=True, fecha_actualizacion='2024-12-06 19:59:07.723078+00:00', fertilizacion=False, fungi_en_siem=False, insec_en_siem=False, promot_de_brota=False, pre_emergente=False, post_emergente=False, cultivado=False, ctrl_bio_tricho=False, insect_fisio_otros=False, ctrl_malezas=False, nivelacion_2=False, drenajes=False, financiamiento='IAG', id=464, total_sembrado_2da=None, semana_3ra=None, fecha_3ra_insp=None, total_3ra_insp=None, respon_3ra_insp=None, link_doc_3ra=None, estado_3ra_insp=None, cite_3ra_insp=None, obs_3ra=None, canhero='1988 / CLAROS CADIMA JHONNY', fecha_informe='05/12/2024')\n",
      "====================== 1988\n",
      "L24 a2bdc8f157cd49e28f4a52b9c353453e\n",
      "L26.1 30f22683ab9e402cbcabc7fab5ca2326\n",
      "L30 9e0b944788d84129ba84eeafe42f1ec7\n",
      "L31 5de7625c4dd94fa798b2a910fe27ed2b\n",
      "L14.2 93f6fc5dc6c64d5699a196c034262e3f\n",
      "L26.2 02d69deda9fa4196a0d3613f59bbf983\n",
      "L21.1 f063ee2529f44a2590d3ab6bc5d43baa\n",
      "L29 ba8e258950b54a3ca8261050fdcc82ad\n",
      "credito(fecha_registro='2024-11-22 19:50:51.265821+00:00', amigo_id='5666af7b34a043319b64857bed80c98c', semana_1ra='S49', semana_2da=None, institucion=79, solicitado=40.0, total_1ra_insp=45.86, estado_1ra_insp='APROBADO', fecha_1ra_insp='05/12/2024', cite_1ra_insp=404, respon_1ra_insp='Rogelio Acuña Rodríguez', obs_1ra=None, link_doc_1ra=None, total_2da_insp=None, estado_2da_insp='PENDIENTE', fecha_2da_insp=None, cite_2da_insp=None, respon_2da_insp=None, obs_2da=None, link_doc_2da=None, total_nacido=None, total_no_nacido=None, muestreo=False, glifosato=True, nivelacion_1=True, drenaje=True, romeplow=True, rastra=True, subsolado=False, rotacion=True, arado=False, ferti_base=False, enraizadores=True, insecticidas=True, fungicidas=True, preemergente=True, fecha_actualizacion='2024-12-06 20:04:36.565464+00:00', fertilizacion=False, fungi_en_siem=False, insec_en_siem=False, promot_de_brota=False, pre_emergente=False, post_emergente=False, cultivado=False, ctrl_bio_tricho=False, insect_fisio_otros=False, ctrl_malezas=False, nivelacion_2=False, drenajes=False, financiamiento='IAG', id=465, total_sembrado_2da=None, semana_3ra=None, fecha_3ra_insp=None, total_3ra_insp=None, respon_3ra_insp=None, link_doc_3ra=None, estado_3ra_insp=None, cite_3ra_insp=None, obs_3ra=None, canhero='1979 / CLAROS CADIMA EDMUNDO', fecha_informe='06/12/2024')\n",
      "====================== 1979\n",
      "EP-L28 feaa9df609fa43e2a7592d0b529b8189\n",
      "EP-L26 60bea460bec94c0caeaa62b916c82448\n",
      "EP-L15 0bd1b8fdbf644c07b57cf833a6eb9145\n",
      "EP-L30 3f0a8a6257b94911a41bc1a1b31962a0\n",
      "EP-L2 8230c578c4c149dbaaba48aa82a0191e\n",
      "ER-L18 9d3934d977854bcabf41ec5efbd27f21\n",
      "L10.2 b1f57720cb8e40afb18ea5fab639a93c\n",
      "L5.3 79540855c87445b78dc887b4e470cadc\n",
      "L3.1 8667b1bcca87460dbe9a0fec534a7867\n",
      "L6.4 860592c7e6cb471385dbbf8f11815d2e\n",
      "L5.2 249d65ef311b4baf877a6abc97f58039\n",
      "L11.3 ce1de090750e437fa0a717e770f94777\n",
      "L1 52095481eda04370bb3404c4fee46224\n",
      "L8 062b09e4a3324766b88aff1172bbd00d\n",
      "L6.1 bb4f5785d3ec4056a63bed0caff271f7\n",
      "L11.2 b70e318bc3e5407da9408b52aed869b1\n",
      "L4 1a6ab808ab7c42f0943e8cc261afb552\n",
      "L11.4 557bd97ac3864d3894ac078d603f14b9\n",
      "L5.1 aea9fd26ce8d4ca78b68741a88db8693\n",
      "L6.2 a8bafc8559634ddc97b7385976fb7b1c\n",
      "L11.1 1ca131580fb74b24a4e5688ffe203ca8\n",
      "L10.1 756a002e45ea45beaa1f6b5b5bb737f2\n",
      "L7 eab99b6559fe41409b443ff6e18c851a\n",
      "L12 f7265318484a4c539b16cc3fc165bee8\n",
      "L2 d56d3feee9904d6e82244531ae635a39\n",
      "L3.3 837d5e1f0d344d6b9e1bd9cc98d83b5f\n",
      "L3.2 abd86243477c4d4d8c57d9229b8fb5d7\n",
      "L6.3 05301c81230e4cfd8c63c6d087d572ba\n",
      "L9 4c21a555b4ac43688b46836772ac25a9\n",
      "L3.2 9e33ed7c77424ede8c3d55021a0b66d1\n",
      "L8 cacf031c09d74a398c8251f02fbbde78\n",
      "L10 d1a9d080e3ae45a8b66180933a24c798\n",
      "L5 4c940f1a7a8d4514807d39ee6dc8cc0d\n",
      "L7 bdb44fe708b04325aaabdfd21db4a398\n",
      "L2.1 cf18942b39de4efcb83b3e44d28bf671\n",
      "L2.2 bef56d8a28634c8993ccb1fee6a0dce9\n",
      "L15 f4b6bf6a96d44c98aa9f0defd7907c0d\n",
      "L6 26d64315c2c94262a5a6b01957bedc71\n",
      "L1.2 2890cd84d28d460998478e3424752148\n",
      "L14 e05ca594ff55445d92ea240fd160ca33\n",
      "L1.1 f92ae4b235ac4b36b2548dcd2221a496\n",
      "L13 8e91ffcb136d4d0b9f04d98fa0d7a397\n",
      "L12.2 1b9c044c3c8d4fca8defd94e9bcc6027\n",
      "L4 06c9263458834a35af8c679492bce3fb\n",
      "L11 f006a69d12784761ab6bc457fc91d899\n",
      "L3.1 da559d5592ac4d809f5a2c31b6b31a6a\n",
      "L9 257392dc5a124acda53f29ea805531ce\n",
      "L12.1 2ca0e531fedd4c959b252d368b1441bb\n",
      "credito(fecha_registro='2024-11-28 02:25:31.643844+00:00', amigo_id='732880bded104e44bda4bd394225702c', semana_1ra='S49', semana_2da=None, institucion=50, solicitado=900.0, total_1ra_insp=1317.14, estado_1ra_insp='APROBADO', fecha_1ra_insp='03/12/2024', cite_1ra_insp=405, respon_1ra_insp='Juan Pablo Jaldin Duran', obs_1ra='Los lotes en la propiedad Cosoriocito están con una pasada de romeplow, la otra parte se está desmontando y acordonado los nuevos talones para posteriormente ser trabajados.', link_doc_1ra=None, total_2da_insp=None, estado_2da_insp='PENDIENTE', fecha_2da_insp=None, cite_2da_insp=None, respon_2da_insp=None, obs_2da=None, link_doc_2da=None, total_nacido=None, total_no_nacido=None, muestreo=False, glifosato=True, nivelacion_1=True, drenaje=True, romeplow=False, rastra=True, subsolado=False, rotacion=True, arado=False, ferti_base=True, enraizadores=True, insecticidas=True, fungicidas=True, preemergente=True, fecha_actualizacion='2024-12-03 17:11:13.212093+00:00', fertilizacion=False, fungi_en_siem=False, insec_en_siem=False, promot_de_brota=False, pre_emergente=False, post_emergente=False, cultivado=False, ctrl_bio_tricho=False, insect_fisio_otros=False, ctrl_malezas=False, nivelacion_2=False, drenajes=False, financiamiento='IAG', id=494, total_sembrado_2da=None, semana_3ra=None, fecha_3ra_insp=None, total_3ra_insp=None, respon_3ra_insp=None, link_doc_3ra=None, estado_3ra_insp=None, cite_3ra_insp=None, obs_3ra=None, canhero='41594 / AGROPECUARIA CAMPO DULCE S.R.L.', fecha_informe='04/12/2024')\n",
      "====================== 41594\n",
      "L34.2 14C6A8FFA03E4CC7B68EBAF67513E17D\n",
      "L19.1 DEAB5A26681E4E2B95B78D23C18E1DAB\n",
      "L38 6bd3a73e32734fa3a6549368e860a153\n",
      "L3 f752bdda3bf34f8bb3d12d5b2f6a06d6\n",
      "L32 446815720d2a463a88c9e5a9cb334861\n",
      "L2 4C434601C6C94B04BE8B6E8D5DF9A69F\n",
      "L5.1 121724adc02e4d128cf83dccb37a2976\n",
      "L11 fa32c1af074547bd946bc629a2f6aa8a\n",
      "L8 0bcce9ddf9834a75b7b8244bca296c7e\n",
      "L12.1 6d7e4f3391164d8d8ae74e20d6f1ee92\n",
      "L17.2 4e1cc916d3d1411596d8a19ca0bf341f\n",
      "L15 3ad2df3b6f2c48e29ca6449685082b71\n",
      "L13 ce83c941e54743e1850544f03c90751a\n",
      "L17.1 a4b15df35a1e4352a481e3b938960a57\n",
      "L18.2 aa11009136a64232b33414de1982d0f1\n",
      "L16.1 5b1d6ae76a3f48d5a17ee469837cb5fa\n",
      "L18.1 5dbdada1477144c490280410fe51413d\n",
      "L16.2 d9448bb2073a4eeea78079668ed426ef\n",
      "L14 7d34b0d6a61d48d7ac17a6fbab53d31a\n",
      "L36.2 cdfd4b049418434d824cc43276f896c4\n",
      "credito(fecha_registro='2024-11-28 02:25:31.643844+00:00', amigo_id='32cf9bb93687461f94fb561897b67d88', semana_1ra='S49', semana_2da=None, institucion=50, solicitado=100.0, total_1ra_insp=100.25, estado_1ra_insp='APROBADO', fecha_1ra_insp='02/12/2024', cite_1ra_insp=406, respon_1ra_insp='Juan Pablo Jaldin Duran', obs_1ra=None, link_doc_1ra=None, total_2da_insp=None, estado_2da_insp='PENDIENTE', fecha_2da_insp=None, cite_2da_insp=None, respon_2da_insp=None, obs_2da=None, link_doc_2da=None, total_nacido=None, total_no_nacido=None, muestreo=False, glifosato=False, nivelacion_1=True, drenaje=True, romeplow=True, rastra=True, subsolado=False, rotacion=False, arado=False, ferti_base=False, enraizadores=True, insecticidas=True, fungicidas=True, preemergente=True, fecha_actualizacion='2024-12-06 15:37:45.914728+00:00', fertilizacion=False, fungi_en_siem=False, insec_en_siem=False, promot_de_brota=False, pre_emergente=False, post_emergente=False, cultivado=False, ctrl_bio_tricho=False, insect_fisio_otros=False, ctrl_malezas=False, nivelacion_2=False, drenajes=False, financiamiento='IAG', id=495, total_sembrado_2da=None, semana_3ra=None, fecha_3ra_insp=None, total_3ra_insp=None, respon_3ra_insp=None, link_doc_3ra=None, estado_3ra_insp=None, cite_3ra_insp=None, obs_3ra=None, canhero='2641 / CRONENBOLD AGUILERA ROBERTO', fecha_informe='03/12/2024')\n",
      "====================== 2641\n",
      "L25 21674a435a494e7c88a77396447f1c85\n",
      "L12 b66d3a7de7fa4b3a9c0a23aa96c934b9\n",
      "L39 1dd6dd3cdc1d47778e89a214223ba992\n",
      "L18 2ee5b6970b8541a3b0543df340948a3b\n",
      "L2 7916dd93fd364308ac566c092d759457\n",
      "credito(fecha_registro='2024-11-28 02:25:31.643844+00:00', amigo_id='c570562fbcd34957bd4696082b2a268c', semana_1ra='S49', semana_2da=None, institucion=50, solicitado=20.0, total_1ra_insp=21.37, estado_1ra_insp='APROBADO', fecha_1ra_insp='06/12/2024', cite_1ra_insp=407, respon_1ra_insp='Rogelio Acuña Rodríguez', obs_1ra=None, link_doc_1ra=None, total_2da_insp=None, estado_2da_insp='PENDIENTE', fecha_2da_insp=None, cite_2da_insp=None, respon_2da_insp=None, obs_2da=None, link_doc_2da=None, total_nacido=None, total_no_nacido=None, muestreo=False, glifosato=True, nivelacion_1=False, drenaje=False, romeplow=True, rastra=True, subsolado=False, rotacion=False, arado=False, ferti_base=False, enraizadores=True, insecticidas=True, fungicidas=False, preemergente=True, fecha_actualizacion='2024-12-06 22:52:44.932469+00:00', fertilizacion=False, fungi_en_siem=False, insec_en_siem=False, promot_de_brota=False, pre_emergente=False, post_emergente=False, cultivado=False, ctrl_bio_tricho=False, insect_fisio_otros=False, ctrl_malezas=False, nivelacion_2=False, drenajes=False, financiamiento='IAG', id=500, total_sembrado_2da=None, semana_3ra=None, fecha_3ra_insp=None, total_3ra_insp=None, respon_3ra_insp=None, link_doc_3ra=None, estado_3ra_insp=None, cite_3ra_insp=None, obs_3ra=None, canhero='10806 / PALICIO BRUNO OSCAR ROBERTO', fecha_informe='07/12/2024')\n",
      "====================== 10806\n",
      "L9.2.2 0f626254b74a4e92b3a48b4f34dcbef7\n",
      "L16.4 dcba2f04c6914c5f9c956fae2c1fd14d\n",
      "L20.2 709d0f87fffa41ad96d91c74b9e5390f\n",
      "L17.2 2e9506c96e2f44988845e132c51c2e18\n",
      "L1.1 91fb30c0f8c14893be174f75b6b75c41\n",
      "L3 f988e1d875304a1d9fadd1f3eef7a5f8\n",
      "L23.3 dfcde4b1563041379aba76f276a3b484\n",
      "L6.3 f379c22ab0164594811f5303d3071258\n",
      "L2.3 a4d7e444af28420ab66e5d56cb20d5c2\n",
      "L22.3 6614fa10ce4849dda1062855fe37ad66\n",
      "credito(fecha_registro='2024-11-28 02:25:31.643844+00:00', amigo_id='53308f65dc124f5481bc4de5c8e0dde7', semana_1ra='S49', semana_2da=None, institucion=304, solicitado=50.0, total_1ra_insp=67.66, estado_1ra_insp='APROBADO', fecha_1ra_insp='03/12/2024', cite_1ra_insp=408, respon_1ra_insp='Rogelio Acuña Rodríguez', obs_1ra=None, link_doc_1ra=None, total_2da_insp=None, estado_2da_insp='PENDIENTE', fecha_2da_insp=None, cite_2da_insp=None, respon_2da_insp=None, obs_2da=None, link_doc_2da=None, total_nacido=None, total_no_nacido=None, muestreo=True, glifosato=True, nivelacion_1=True, drenaje=False, romeplow=True, rastra=True, subsolado=False, rotacion=True, arado=False, ferti_base=False, enraizadores=True, insecticidas=True, fungicidas=False, preemergente=True, fecha_actualizacion='2024-12-06 20:23:30.378884+00:00', fertilizacion=False, fungi_en_siem=False, insec_en_siem=False, promot_de_brota=False, pre_emergente=False, post_emergente=False, cultivado=False, ctrl_bio_tricho=False, insect_fisio_otros=False, ctrl_malezas=False, nivelacion_2=False, drenajes=False, financiamiento='IAG', id=522, total_sembrado_2da=None, semana_3ra=None, fecha_3ra_insp=None, total_3ra_insp=None, respon_3ra_insp=None, link_doc_3ra=None, estado_3ra_insp=None, cite_3ra_insp=None, obs_3ra=None, canhero='40256 / INSERVA DAMIANA S.R.L.', fecha_informe='04/12/2024')\n",
      "====================== 40256\n",
      "L1 1a2da87d44824c0eb39b58c82ef9189f\n",
      "credito(fecha_registro='2024-11-28 02:25:31.643844+00:00', amigo_id='243884d08b794be3a55aa6cc609e2c40', semana_1ra='S49', semana_2da=None, institucion=59, solicitado=115.0, total_1ra_insp=160.77, estado_1ra_insp='APROBADO', fecha_1ra_insp='26/11/2024', cite_1ra_insp=409, respon_1ra_insp='Milton Aranibar Veizaga', obs_1ra=None, link_doc_1ra=None, total_2da_insp=None, estado_2da_insp='PENDIENTE', fecha_2da_insp=None, cite_2da_insp=None, respon_2da_insp=None, obs_2da=None, link_doc_2da=None, total_nacido=None, total_no_nacido=None, muestreo=False, glifosato=True, nivelacion_1=True, drenaje=True, romeplow=True, rastra=True, subsolado=False, rotacion=True, arado=False, ferti_base=False, enraizadores=True, insecticidas=True, fungicidas=True, preemergente=True, fecha_actualizacion='2024-12-04 15:57:17.146932+00:00', fertilizacion=False, fungi_en_siem=False, insec_en_siem=False, promot_de_brota=False, pre_emergente=False, post_emergente=False, cultivado=False, ctrl_bio_tricho=False, insect_fisio_otros=False, ctrl_malezas=False, nivelacion_2=False, drenajes=False, financiamiento='IAG', id=503, total_sembrado_2da=None, semana_3ra=None, fecha_3ra_insp=None, total_3ra_insp=None, respon_3ra_insp=None, link_doc_3ra=None, estado_3ra_insp=None, cite_3ra_insp=None, obs_3ra=None, canhero='153 / ALVAREZ DURAN FILIBERTO', fecha_informe='27/11/2024')\n",
      "====================== 153\n",
      "L2.2 e347ee34576d455fa6775389aa1922db\n",
      "L1 1c4211c0ad954746a752a9ec3ceb6e48\n",
      "L7 3069c71c6b2a415082265de5901f290a\n",
      "credito(fecha_registro='2024-11-28 02:25:31.643844+00:00', amigo_id='9e474b9d20bc482ba5b273a0cbc90203', semana_1ra='S49', semana_2da=None, institucion=304, solicitado=20.0, total_1ra_insp=20.68, estado_1ra_insp='APROBADO', fecha_1ra_insp='05/12/2024', cite_1ra_insp=410, respon_1ra_insp='Juan Pablo Jaldin Duran', obs_1ra=None, link_doc_1ra=None, total_2da_insp=None, estado_2da_insp='PENDIENTE', fecha_2da_insp=None, cite_2da_insp=None, respon_2da_insp=None, obs_2da=None, link_doc_2da=None, total_nacido=None, total_no_nacido=None, muestreo=False, glifosato=False, nivelacion_1=True, drenaje=True, romeplow=True, rastra=True, subsolado=False, rotacion=False, arado=False, ferti_base=False, enraizadores=True, insecticidas=True, fungicidas=True, preemergente=True, fecha_actualizacion='2024-12-06 14:45:44.785219+00:00', fertilizacion=False, fungi_en_siem=False, insec_en_siem=False, promot_de_brota=False, pre_emergente=False, post_emergente=False, cultivado=False, ctrl_bio_tricho=False, insect_fisio_otros=False, ctrl_malezas=False, nivelacion_2=False, drenajes=False, financiamiento='IAG', id=524, total_sembrado_2da=None, semana_3ra=None, fecha_3ra_insp=None, total_3ra_insp=None, respon_3ra_insp=None, link_doc_3ra=None, estado_3ra_insp=None, cite_3ra_insp=None, obs_3ra=None, canhero='41533 / ARNEZ COLQUE ROSARIO ESTELA', fecha_informe='06/12/2024')\n",
      "====================== 41533\n",
      "L1 c4d95111be294a37b5c7e7ea3e70ef46\n",
      "credito(fecha_registro='2024-11-28 02:25:31.643844+00:00', amigo_id='9387678afa0f4c648c3fc01075da7d57', semana_1ra='S49', semana_2da=None, institucion=59, solicitado=55.0, total_1ra_insp=56.03, estado_1ra_insp='APROBADO', fecha_1ra_insp='04/12/2024', cite_1ra_insp=411, respon_1ra_insp='Milton Aranibar Veizaga', obs_1ra=None, link_doc_1ra=None, total_2da_insp=None, estado_2da_insp='PENDIENTE', fecha_2da_insp=None, cite_2da_insp=None, respon_2da_insp=None, obs_2da=None, link_doc_2da=None, total_nacido=None, total_no_nacido=None, muestreo=False, glifosato=True, nivelacion_1=True, drenaje=True, romeplow=True, rastra=True, subsolado=False, rotacion=True, arado=False, ferti_base=False, enraizadores=True, insecticidas=True, fungicidas=True, preemergente=True, fecha_actualizacion='2024-12-07 14:21:21.377380+00:00', fertilizacion=False, fungi_en_siem=False, insec_en_siem=False, promot_de_brota=False, pre_emergente=False, post_emergente=False, cultivado=False, ctrl_bio_tricho=False, insect_fisio_otros=False, ctrl_malezas=False, nivelacion_2=False, drenajes=False, financiamiento='IAG', id=504, total_sembrado_2da=None, semana_3ra=None, fecha_3ra_insp=None, total_3ra_insp=None, respon_3ra_insp=None, link_doc_3ra=None, estado_3ra_insp=None, cite_3ra_insp=None, obs_3ra=None, canhero='41540 / ALVAREZ SALGUERO FREDDY', fecha_informe='05/12/2024')\n",
      "====================== 41540\n",
      "L15.1 872bd820cdb94b2db8314c9bd2543e50\n",
      "L6.2 cb90610760a54975981382f5ee53beb6\n",
      "L10.1 2ea6d1e2e7c84b19931fe71ee8ac0c89\n",
      "L2.1 b5844858b42b4e299c7ffc14c9a0b8e6\n",
      "L9.4 da2dc8faef244684bc7e129379d5cca8\n",
      "L11.1 b3fb99badd924d059265a68a190a139b\n",
      "LL9.3 7c0a7968068048abbacca4643c0932f6\n",
      "L7 14e8b5a461144845bc60975c7c0eefae\n",
      "credito(fecha_registro='2024-11-28 02:25:31.643844+00:00', amigo_id='e61df11ee01743d6ba170700aca57f4d', semana_1ra='S49', semana_2da=None, institucion=304, solicitado=20.0, total_1ra_insp=21.51, estado_1ra_insp='APROBADO', fecha_1ra_insp='05/12/2024', cite_1ra_insp=412, respon_1ra_insp='Rogelio Acuña Rodríguez', obs_1ra=None, link_doc_1ra=None, total_2da_insp=None, estado_2da_insp='PENDIENTE', fecha_2da_insp=None, cite_2da_insp=None, respon_2da_insp=None, obs_2da=None, link_doc_2da=None, total_nacido=None, total_no_nacido=None, muestreo=False, glifosato=True, nivelacion_1=True, drenaje=False, romeplow=True, rastra=True, subsolado=False, rotacion=True, arado=False, ferti_base=False, enraizadores=True, insecticidas=True, fungicidas=False, preemergente=True, fecha_actualizacion='2024-12-06 22:22:56.824585+00:00', fertilizacion=False, fungi_en_siem=False, insec_en_siem=False, promot_de_brota=False, pre_emergente=False, post_emergente=False, cultivado=False, ctrl_bio_tricho=False, insect_fisio_otros=False, ctrl_malezas=False, nivelacion_2=False, drenajes=False, financiamiento='IAG', id=525, total_sembrado_2da=None, semana_3ra=None, fecha_3ra_insp=None, total_3ra_insp=None, respon_3ra_insp=None, link_doc_3ra=None, estado_3ra_insp=None, cite_3ra_insp=None, obs_3ra=None, canhero='41819 / AGROPECUARIA GUSTAVITO SRL', fecha_informe='06/12/2024')\n",
      "====================== 41819\n",
      "L1 14bc4cd4a35c4194a97d5577402c8d10\n",
      "2 2e13fad6f9ad4978a7b67bf10f8f5bfe\n",
      "L1 f14c9dbde9ff468b9b11167e8c98de98\n",
      "L2 b20f89748e2d4b02950c8e202387bb57\n",
      "L3 7e8e818b09f44231a7c85ec521f3dd5b\n",
      "credito(fecha_registro='2024-12-02 04:10:21.648625+00:00', amigo_id='3d3380349cdd4ff0b7c49e6bf8c846ec', semana_1ra='S49', semana_2da=None, institucion=66, solicitado=80.0, total_1ra_insp=57.22, estado_1ra_insp='APROBADO', fecha_1ra_insp='04/12/2024', cite_1ra_insp=413, respon_1ra_insp='Rogelio Acuña Rodríguez', obs_1ra=None, link_doc_1ra=None, total_2da_insp=None, estado_2da_insp='PENDIENTE', fecha_2da_insp=None, cite_2da_insp=None, respon_2da_insp=None, obs_2da=None, link_doc_2da=None, total_nacido=None, total_no_nacido=None, muestreo=False, glifosato=True, nivelacion_1=False, drenaje=True, romeplow=True, rastra=True, subsolado=False, rotacion=True, arado=False, ferti_base=False, enraizadores=True, insecticidas=True, fungicidas=True, preemergente=True, fecha_actualizacion='2024-12-06 20:00:32.183979+00:00', fertilizacion=False, fungi_en_siem=False, insec_en_siem=False, promot_de_brota=False, pre_emergente=False, post_emergente=False, cultivado=False, ctrl_bio_tricho=False, insect_fisio_otros=False, ctrl_malezas=False, nivelacion_2=False, drenajes=False, financiamiento='IAG', id=553, total_sembrado_2da=None, semana_3ra=None, fecha_3ra_insp=None, total_3ra_insp=None, respon_3ra_insp=None, link_doc_3ra=None, estado_3ra_insp=None, cite_3ra_insp=None, obs_3ra=None, canhero='5448 / HUANCA MENCHAQUE ROLY', fecha_informe='05/12/2024')\n",
      "====================== 5448\n",
      "LL9 5c4cefbb75354f579ac7122b361afdf3\n",
      "L8 33db38b8d5b14076b5868d4dc28aa961\n",
      "credito(fecha_registro='2024-12-02 04:10:21.648625+00:00', amigo_id='94a2ac27269e4586a722ecd25a74b6ef', semana_1ra='S49', semana_2da=None, institucion=8, solicitado=25.0, total_1ra_insp=23.51, estado_1ra_insp='APROBADO', fecha_1ra_insp='03/12/2024', cite_1ra_insp=414, respon_1ra_insp='Rogelio Acuña Rodríguez', obs_1ra=None, link_doc_1ra=None, total_2da_insp=None, estado_2da_insp='PENDIENTE', fecha_2da_insp=None, cite_2da_insp=None, respon_2da_insp=None, obs_2da=None, link_doc_2da=None, total_nacido=None, total_no_nacido=None, muestreo=False, glifosato=True, nivelacion_1=False, drenaje=False, romeplow=True, rastra=True, subsolado=False, rotacion=True, arado=False, ferti_base=False, enraizadores=True, insecticidas=True, fungicidas=True, preemergente=True, fecha_actualizacion='2024-12-06 19:06:34.641510+00:00', fertilizacion=False, fungi_en_siem=False, insec_en_siem=False, promot_de_brota=False, pre_emergente=False, post_emergente=False, cultivado=False, ctrl_bio_tricho=False, insect_fisio_otros=False, ctrl_malezas=False, nivelacion_2=False, drenajes=False, financiamiento='IAG', id=546, total_sembrado_2da=None, semana_3ra=None, fecha_3ra_insp=None, total_3ra_insp=None, respon_3ra_insp=None, link_doc_3ra=None, estado_3ra_insp=None, cite_3ra_insp=None, obs_3ra=None, canhero='41944 / CONDORI QUEVEDO RONALD', fecha_informe='04/12/2024')\n",
      "====================== 41944\n"
     ]
    },
    {
     "data": {
      "text/plain": [
       "<Figure size 2000x2000 with 0 Axes>"
      ]
     },
     "metadata": {},
     "output_type": "display_data"
    },
    {
     "data": {
      "text/plain": [
       "<Figure size 2000x2000 with 0 Axes>"
      ]
     },
     "metadata": {},
     "output_type": "display_data"
    },
    {
     "data": {
      "text/plain": [
       "<Figure size 2000x2000 with 0 Axes>"
      ]
     },
     "metadata": {},
     "output_type": "display_data"
    },
    {
     "data": {
      "text/plain": [
       "<Figure size 2000x2000 with 0 Axes>"
      ]
     },
     "metadata": {},
     "output_type": "display_data"
    }
   ],
   "source": [
    "for i in lista:\n",
    "    generar_reporte(i)\n",
    "    print('======================', i)"
   ]
  }
 ],
 "metadata": {
  "kernelspec": {
   "display_name": "Python 3 (ipykernel)",
   "language": "python",
   "name": "python3"
  },
  "language_info": {
   "codemirror_mode": {
    "name": "ipython",
    "version": 3
   },
   "file_extension": ".py",
   "mimetype": "text/x-python",
   "name": "python",
   "nbconvert_exporter": "python",
   "pygments_lexer": "ipython3",
   "version": "3.10.13"
  }
 },
 "nbformat": 4,
 "nbformat_minor": 5
}
