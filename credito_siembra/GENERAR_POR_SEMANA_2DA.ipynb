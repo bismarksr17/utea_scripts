{
 "cells": [
  {
   "cell_type": "code",
   "execution_count": 1,
   "id": "6658e010-c382-4e03-a45a-67c832b35ef9",
   "metadata": {},
   "outputs": [],
   "source": [
    "# werkzeug\n",
    "# shapely=1.7.1\n",
    "# geopandas\n",
    "# pandas\n",
    "# contextily\n",
    "# matplotlib\n",
    "# docxtpl\n",
    "# docx"
   ]
  },
  {
   "cell_type": "code",
   "execution_count": 2,
   "id": "8c292c7c-2591-4985-93c8-88314bca3d5a",
   "metadata": {},
   "outputs": [],
   "source": [
    "import sys\n",
    "sys.path.append('../_amigocloud')"
   ]
  },
  {
   "cell_type": "code",
   "execution_count": 3,
   "id": "665919a4-6184-4280-8c4c-64588f9131d6",
   "metadata": {},
   "outputs": [],
   "source": [
    "from werkzeug.wrappers import Request, Response\n",
    "from jinja2 import Template\n",
    "\n",
    "from datetime import datetime, timedelta\n",
    "\n",
    "import collections\n",
    "from amigocloud import AmigoCloud\n",
    "\n",
    "from datetime import datetime\n",
    "\n",
    "from shapely import wkb\n",
    "import geopandas\n",
    "import pandas as pd\n",
    "import contextily as ctx\n",
    "import matplotlib.pyplot as plt\n",
    "\n",
    "from docxtpl import DocxTemplate\n",
    "import docxtpl\n",
    "from docx.shared import Mm\n",
    "import requests\n",
    "\n",
    "import qrcode\n",
    "\n",
    "def convertir_wkb(wkb_data):\n",
    "    return wkb.loads(wkb_data, hex=True)"
   ]
  },
  {
   "cell_type": "code",
   "execution_count": 4,
   "id": "057998b9-c93b-4559-87c9-e82742149a8a",
   "metadata": {},
   "outputs": [],
   "source": [
    "# ruta de carpera donde estan las llaves\n",
    "ruta = open('../ruta.txt')\n",
    "ruta = ruta.readlines()[0]"
   ]
  },
  {
   "cell_type": "code",
   "execution_count": 5,
   "id": "f78ec737-093c-44bb-a782-1af54be4a65f",
   "metadata": {},
   "outputs": [
    {
     "data": {
      "text/plain": [
       "<amigocloud.AmigoCloud at 0x2a9d8577eb0>"
      ]
     },
     "execution_count": 5,
     "metadata": {},
     "output_type": "execute_result"
    }
   ],
   "source": [
    "# leer token\n",
    "acceso = open(ruta + '/_keys/api_amigocloud.key','r')\n",
    "api_token = acceso.readlines()[0]\n",
    "acceso.close()\n",
    "amigocloud = AmigoCloud(token=api_token)\n",
    "amigocloud"
   ]
  },
  {
   "cell_type": "code",
   "execution_count": 6,
   "id": "671335c0-f848-4ced-9199-d1000c19c39b",
   "metadata": {},
   "outputs": [],
   "source": [
    "def generar_reporte(codigo_canhero):\n",
    "    # EXTRAER DATOS DE CREDITO\n",
    "    query_credito = {'query': 'select * from dataset_307560 where cast(SPLIT_PART(canhero, \\'/\\', 1) as integer) = {cod_ca}'.format(cod_ca=codigo_canhero)}\n",
    "    credito_select = amigocloud.get('https://app.amigocloud.com/api/v1/projects/32672/sql', query_credito)\n",
    "    credito_data = credito_select['data'][0]\n",
    "    credito_data['fecha_informe'] = (datetime.strptime(credito_data['fecha_2da_insp'].split(' ')[0], '%Y-%m-%d') + timedelta(days=1)).strftime('%d/%m/%Y')\n",
    "    credito_data['fecha_2da_insp'] = datetime.strptime(credito_data['fecha_2da_insp'].split(' ')[0], '%Y-%m-%d').strftime('%d/%m/%Y')\n",
    "    credito = collections.namedtuple(\"credito\", credito_data.keys())(*credito_data.values())\n",
    "    print(credito)\n",
    "\n",
    "    # EXTRAER DATOS DE PROPIEDADES\n",
    "    query_propiedades = {'query': 'select * from dataset_307562 where insp_ref_prop = \\'{insp_ref_prop}\\''.format(insp_ref_prop=credito.amigo_id)}\n",
    "    propiedades_select = amigocloud.get('https://app.amigocloud.com/api/v1/projects/32672/sql', query_propiedades)\n",
    "    propiedades_data = propiedades_select['data']\n",
    "\n",
    "    # EXTRAER DATOS DE LOTES\n",
    "    propiedades = []\n",
    "    for prop in propiedades_data:\n",
    "        prop['lotes'] = []\n",
    "        query_lotes = {'query': \"select * from dataset_307563 where (estado_lote_2da = 'SEMBRADO' or estado_lote_2da = 'NO SEMBRADO') and prop_ref_lote=\\'{prop_ref_lote}\\'\".format(prop_ref_lote=prop['amigo_id'])}\n",
    "        lotes_select = amigocloud.get('https://app.amigocloud.com/api/v1/projects/32672/sql', query_lotes)\n",
    "        for lote_select in lotes_select['data']:\n",
    "            lote = collections.namedtuple(\"lote\", lote_select.keys())(*lote_select.values())\n",
    "            prop['lotes'].append(lote)\n",
    "        if len(prop['lotes']) > 0:\n",
    "            propiedades.append(collections.namedtuple(\"propiedad\", prop.keys())(*prop.values()))\n",
    "\n",
    "    # EXTRAER FOTOS\n",
    "    fotos = []\n",
    "    for propiedad in propiedades:\n",
    "        for lote in propiedad.lotes:\n",
    "            print(lote.lote, lote.amigo_id)\n",
    "            query_fotos = {'query': 'select source_amigo_id, s3_filename from gallery_48961 where source_amigo_id=\\'{source_amigo_id}\\''.format(source_amigo_id=lote.amigo_id)}\n",
    "            fotos_filename = amigocloud.get('https://app.amigocloud.com/api/v1/projects/32672/sql', query_fotos)\n",
    "            if fotos_filename['data'] != []:\n",
    "                dic = {'lote': lote.lote, 'file_name': fotos_filename['data'][0]['s3_filename']}\n",
    "                fotos.append(dic)\n",
    "\n",
    "    # GENERERAR PLANOS\n",
    "    i = 0\n",
    "    lista_planos = []\n",
    "    for propiedad in propiedades:\n",
    "        i = i + 1\n",
    "        lista_planos.append(generar_plano(propiedad, i))\n",
    "    \n",
    "    \n",
    "    # GENERAR QR\n",
    "    texto = '''\n",
    "--UTEA--\n",
    "--2DA INSPECCION CREDITO SIEMBRA--\n",
    "\n",
    "Codigo de Inspeccion: {cite}\n",
    "Fecha de 2da Inspeccion: {fecha}\n",
    "Nombre de Canero: {canero}\n",
    "Codigo Canero: {cod_ca}\n",
    "Total Solicitado: {soli}\n",
    "Total Area Insp.: {total_area} ha\n",
    "Estado de Insp.: {estado}\n",
    "Tecnico Responsable: {tecnico}'''\\\n",
    "    .format(\n",
    "        cite=str(credito.cite_2da_insp) + '-' + credito.fecha_2da_insp.split('/')[2], \n",
    "        fecha=credito.fecha_2da_insp, \n",
    "        canero=credito.canhero.split(' / ')[1],\n",
    "        cod_ca=credito.canhero.split(' / ')[0],\n",
    "        soli=credito.solicitado,\n",
    "        total_area=credito.total_2da_insp,\n",
    "        estado=credito.estado_2da_insp,\n",
    "        tecnico=credito.respon_2da_insp)\n",
    "    # Generar el código QR\n",
    "    qr = qrcode.QRCode(\n",
    "        version=1,\n",
    "        error_correction=qrcode.constants.ERROR_CORRECT_L,\n",
    "        box_size=10,\n",
    "        border=4,\n",
    "    )\n",
    "    qr.add_data(texto)\n",
    "    qr.make(fit=True)\n",
    "    \n",
    "    qr_img = qr.make_image(fill_color=\"black\", back_color=\"white\")\n",
    "    \n",
    "    cod_ca = credito.canhero.split(' / ')[0]\n",
    "    nom_ca = credito.canhero.split(' / ')[1]\n",
    "    filename_qr = \"qr_\" + cod_ca + '_CRS_' + credito.fecha_informe.replace('/', '-') + '_' + nom_ca\n",
    "    ruta_qr = ruta + '/planos/' + filename_qr + '.png'\n",
    "    # Guardar el código QR en un archivo\n",
    "    qr_img.save(ruta_qr)\n",
    "\n",
    "    # GENERAR REPORTE\n",
    "    doc = DocxTemplate(ruta + \"/templates/tpl_inf_credito_2da.docx\")\n",
    "    #generar lista de InlineImage de planos \n",
    "    lista_InlineImage = []\n",
    "    for plano in lista_planos:\n",
    "        lista_InlineImage.append(docxtpl.InlineImage(doc, image_descriptor=plano, width=Mm(150)))\n",
    "    #descargar fotos y generar lista InlineImage\n",
    "    lista_fotos_inline = []\n",
    "    for foto in fotos:\n",
    "        #response = requests.get(\"https://www-amigocloud.s3.amazonaws.com/gallery/\" + foto['file_name'])\n",
    "        response = requests.get(\"https://www-amigocloud.s3.amazonaws.com/gallery/\" + foto['file_name'])\n",
    "        file = open(ruta + '/fotos/' + foto['file_name'], \"wb\")\n",
    "        file.write(response.content)\n",
    "        file.close()\n",
    "        lista_fotos_inline.append({'foto': docxtpl.InlineImage(doc, image_descriptor=ruta+'/fotos/' + foto['file_name'], width=Mm(120)), 'lote': foto['lote']})\n",
    "    firma_respon = None\n",
    "    if credito.respon_2da_insp == 'Rogelio Acuña Rodríguez':\n",
    "        firma_respon = docxtpl.InlineImage(doc, image_descriptor=ruta+'/templates/firma_rogelio.png', width=Mm(60))\n",
    "    else:\n",
    "        firma_respon = docxtpl.InlineImage(doc, image_descriptor=ruta+'/templates/firma_jaldin.png', width=Mm(60))\n",
    "    # se crea obj inline par imagen QR\n",
    "    qr_file = docxtpl.InlineImage(doc, image_descriptor=ruta_qr, width=Mm(30))\n",
    "    \n",
    "    context = {'credito':credito, 'propiedades':propiedades, 'planos':lista_InlineImage, 'fotos':lista_fotos_inline, 'firma':firma_respon, 'qr':qr_file}\n",
    "    doc.render(context)\n",
    "    cod_ca = credito.canhero.split(' / ')[0]\n",
    "    nom_ca = credito.canhero.split(' / ')[1]\n",
    "    file_name = \"_\" + cod_ca + '_CRS_' + credito.fecha_informe.replace('/', '-') + '_' + nom_ca\n",
    "    doc.save(ruta + '/informes/' + file_name + '.docx')"
   ]
  },
  {
   "cell_type": "code",
   "execution_count": 7,
   "id": "f90ffde3-b794-45c0-a48e-f69a592752af",
   "metadata": {},
   "outputs": [],
   "source": [
    "def generar_plano(propiedad, i):\n",
    "    print(propiedad)\n",
    "    lotes_lista = []\n",
    "    for lote in propiedad.lotes:\n",
    "        lotes_lista.append(lote._asdict())\n",
    "    df = pd.DataFrame(lotes_lista)\n",
    "    df['geometria'] = df['geometria'].apply(convertir_wkb)\n",
    "\n",
    "    #Convertir a GeoDataFrame\n",
    "    data = geopandas.GeoDataFrame(df, geometry='geometria')\n",
    "    #data\n",
    "    #ctx.add_basemap(ax, source=ctx.providers.Esri.WorldImagery)\n",
    "\n",
    "    data['coords'] = data['geometria'].apply(lambda x: x.representative_point().coords[:])\n",
    "    data['coords'] = [coords[0] for coords in data['coords']]\n",
    "\n",
    "    data.crs = \"EPSG:4326\"\n",
    "    data = data.to_crs(epsg=3857)\n",
    "\n",
    "    \n",
    "    fig = plt.figure(i, figsize=(20,20))\n",
    "    #fig = plt.figure(1)\n",
    "    ax = None\n",
    "    ax = fig.add_subplot()\n",
    "\n",
    "    #data.set_crs(epsg=4326, inplace=True)\n",
    "\n",
    "    data.apply(lambda x: ax.annotate(text=x.lote + ' \\n' + str(x.superficie) + ' ha', xy=x.geometria.centroid.coords[0], ha='center', va='center', color='black', fontsize=12, weight=1000, bbox=dict(facecolor=(1,1,1,0.3), edgecolor='none', pad=0)), axis=1);\n",
    "\n",
    "    #data.boundary.plot(ax=ax, color=(0,0,0,0), linewidth=0)\n",
    "\n",
    "    #data = data.to_crs(epsg=3857)\n",
    "\n",
    "    minx, miny, maxx, maxy = data.total_bounds\n",
    "    ax.set_xlim(minx - 500, maxx + 500)\n",
    "    ax.set_ylim(miny - 400, maxy + 400)\n",
    "\n",
    "    data.plot(ax=ax, edgecolor='r', facecolor=(0,0,0,0), linewidth=2, figsize=(20,20))\n",
    "    #data.plot(ax=ax, edgecolor='r', facecolor=(0,0,0,0), linewidth=2)\n",
    "    \n",
    "    ctx.add_basemap(ax, source=ctx.providers.Esri.WorldImagery)\n",
    "    ax.set_axis_off()\n",
    "    ax.set_title(str(propiedad.propiedad), fontsize=20)\n",
    "    path = ruta+'/planos/' + str(propiedad.amigo_id) + '.jpeg'\n",
    "    fig.savefig(path, dpi = 300, bbox_inches='tight')\n",
    "    \n",
    "    plt.clf()\n",
    "    return path"
   ]
  },
  {
   "cell_type": "code",
   "execution_count": 12,
   "id": "e4cd18b4-2c5c-4d42-a40a-7f98bb6650d4",
   "metadata": {},
   "outputs": [],
   "source": [
    "semana = 'S24'\n",
    "query = {'query': 'select split_part(canhero, \\' / \\', 1) cod, split_part(canhero, \\' / \\', 2) nom from dataset_307560 where semana_2da = \\'{sem}\\''.format(sem=semana)}\n",
    "project = 'https://app.amigocloud.com/api/v1/projects/32672/sql'\n",
    "select = amigocloud.get(project, query)\n",
    "data = select['data']"
   ]
  },
  {
   "cell_type": "code",
   "execution_count": 14,
   "id": "4cb06cb9-c4eb-42ca-acf9-6156d769042b",
   "metadata": {},
   "outputs": [
    {
     "data": {
      "text/plain": [
       "[{'cod': '3500', 'nom': 'ESPINOZA MAIDA NELSON'},\n",
       " {'cod': '40249', 'nom': 'RIOS ROJAS JUAN CARLOS'},\n",
       " {'cod': '7506', 'nom': 'LOHENER ROSENDA SHEILA PAZ DE'},\n",
       " {'cod': '17678', 'nom': 'ESPINOZA JUANA MAIDA DE'},\n",
       " {'cod': '5407', 'nom': 'HUANCA MENCHAQUE HERNAN'},\n",
       " {'cod': '40256', 'nom': 'INSERVA DAMIANA S.R.L.'}]"
      ]
     },
     "execution_count": 14,
     "metadata": {},
     "output_type": "execute_result"
    }
   ],
   "source": [
    "data"
   ]
  },
  {
   "cell_type": "code",
   "execution_count": 15,
   "id": "c9643d6a-4861-4ed3-b9ba-619aeaaeba46",
   "metadata": {},
   "outputs": [],
   "source": [
    "#lista = [1068, 18062, 10739, 41955, 2392, 15162, 2517, 8706, 15085, 430, 874, 5498, 2505, 2274]\n",
    "lista = [int(i['cod']) for i in data]"
   ]
  },
  {
   "cell_type": "code",
   "execution_count": 16,
   "id": "59340321-ace8-43b3-832b-75a531664da5",
   "metadata": {},
   "outputs": [
    {
     "name": "stdout",
     "output_type": "stream",
     "text": [
      "6 informes\n"
     ]
    }
   ],
   "source": [
    "print(len(lista), 'informes')"
   ]
  },
  {
   "cell_type": "code",
   "execution_count": 23,
   "id": "66f18907-ce26-4932-b53a-4ef39be24c3c",
   "metadata": {},
   "outputs": [],
   "source": [
    "#lista = [41954]"
   ]
  },
  {
   "cell_type": "code",
   "execution_count": 17,
   "id": "70c4c82b-41de-461d-8a66-628ab505953f",
   "metadata": {},
   "outputs": [
    {
     "name": "stdout",
     "output_type": "stream",
     "text": [
      "credito(fecha_registro='2023-11-16 00:59:31.305131+00:00', amigo_id='03a1b96a97714655ab91e21e3505723a', semana_1ra='S50', semana_2da='S24', institucion=3, canhero='3500 / ESPINOZA MAIDA NELSON', solicitado=10.0, total_1ra_insp=11.85, estado_1ra_insp='APROBADO', fecha_1ra_insp='2023-12-13 02:11:50+00:00', cite_1ra_insp=600, respon_1ra_insp='Juan Pablo Jaldin Duran', obs_1ra=None, link_doc_1ra='https://drive.google.com/file/d/1A4jNHHnHwB83NOaxPXaWhmNwCsqChKYu/view?usp=drivesdk', total_2da_insp=10.36, estado_2da_insp='APROBADO', fecha_2da_insp='13/06/2024', cite_2da_insp=158, respon_2da_insp='Rogelio Acuña Rodríguez', obs_2da=None, link_doc_2da=None, total_nacido=None, total_no_nacido=None, muestreo=False, glifosato=False, nivelacion_1=True, drenaje=False, romeplow=True, rastra=True, subsolado=False, rotacion=False, arado=False, ferti_base=False, enraizadores=True, insecticidas=True, fungicidas=False, preemergente=True, fecha_actualizacion='2024-06-14 17:04:38.563988+00:00', fertilizacion=False, fungi_en_siem=False, insec_en_siem=False, promot_de_brota=False, pre_emergente=False, post_emergente=False, cultivado=False, ctrl_bio_tricho=False, insect_fisio_otros=False, ctrl_malezas=False, nivelacion_2=False, drenajes=False, financiamiento='IAG', id=361, total_sembrado_2da=10.36, semana_3ra=None, fecha_3ra_insp=None, total_3ra_insp=None, respon_3ra_insp=None, link_doc_3ra=None, estado_3ra_insp=None, cite_3ra_insp=None, obs_3ra=None, fecha_informe='14/06/2024')\n",
      "L6.4 f0067285241a4147b6df3eeb3abd0ee7\n",
      "L6.1 53fe92a723d045b7af672c37341e4d1e\n",
      "L6.5 d14bdcd23044440ab73e6b0c60fed9bd\n",
      "L6.3 94ecfdd44cbf4c55b5576124c9032e1a\n",
      "L6.2 b6c186ae818d412d85ea73c8d67bf0d5\n",
      "propiedad(fecha_de_registro='2023-12-15 02:12:46+00:00', amigo_id='452ab1a21af84c86874864a471c6cfcf', ubicacion='0101000020E61000005A2FF21145BF4FC038BBF8A7402A31C0', propiedad='1723 / AGUA DULCE--ESPINOZA GERARDO', tenencia='PROPIO', fecha_actualizacion='2023-12-15 02:12:46+00:00', insp_ref_prop='03a1b96a97714655ab91e21e3505723a', lotes=[lote(fecha_de_registro='2023-12-15 02:06:51+00:00', amigo_id='f0067285241a4147b6df3eeb3abd0ee7', lote='L6.4', superficie=3.01, textura='FY', lote_semillero='L5', variedad_semillero='UCG 90-20', variedad_sugerida='UCG 90-20', estado_semillero='BUENO', mes_siembra='ABRIL', variedad_sembrada=None, fecha_siembra=None, estado_de_siembra=None, obs_1=None, obs_2=None, fecha_actualizacion=None, prop_ref_lote='452ab1a21af84c86874864a471c6cfcf', geometria='0106000020E61000000100000001030000000100000006000000AE077F30A2BE4FC0D59D8BFFDE2931C0323129BADBBD4FC068EA60830A2931C05A6B7E91DFBD4FC0749584A5012931C07C7EDF0CE5BD4FC01EC4625FF62831C0A39EE257A8BE4FC0051B1E08CC2931C0AE077F30A2BE4FC0D59D8BFFDE2931C0', estado_lote_1ra='APROBADO', estado_lote_2da='SEMBRADO', obs_3=None), lote(fecha_de_registro='2023-12-15 02:04:51+00:00', amigo_id='53fe92a723d045b7af672c37341e4d1e', lote='L6.1', superficie=1.13, textura='FY', lote_semillero='L5', variedad_semillero='UCG 90-20', variedad_sugerida='UCG 90-20', estado_semillero='BUENO', mes_siembra='ABRIL', variedad_sembrada=None, fecha_siembra=None, estado_de_siembra=None, obs_1=None, obs_2=None, fecha_actualizacion=None, prop_ref_lote='452ab1a21af84c86874864a471c6cfcf', geometria='0106000020E610000001000000010300000001000000080000002D93DF5DBABE4FC04E91FD5C7E2931C0B577A544BABE4FC0E4C3243C8C2931C00E5303D4B7BE4FC0C4F808AB8E2931C0828E8D385DBE4FC0BB37394C312931C02C354C8641BE4FC0788B095D152931C03B2077E23CBE4FC04D06FE94112931C08826B9D140BE4FC05AF8AF80052931C02D93DF5DBABE4FC04E91FD5C7E2931C0', estado_lote_1ra='APROBADO', estado_lote_2da='SEMBRADO', obs_3=None), lote(fecha_de_registro='2023-12-15 02:06:06+00:00', amigo_id='d14bdcd23044440ab73e6b0c60fed9bd', lote='L6.5', superficie=1.77, textura='FY', lote_semillero='L5', variedad_semillero='UCG 90-20', variedad_sugerida='UCG 90-20', estado_semillero='BUENO', mes_siembra='ABRIL', variedad_sembrada=None, fecha_siembra=None, estado_de_siembra=None, obs_1=None, obs_2=None, fecha_actualizacion=None, prop_ref_lote='452ab1a21af84c86874864a471c6cfcf', geometria='0106000020E61000000100000001030000000100000008000000B117D9DEA1BE4FC03DF46AABE12931C0A221E9C59CBE4FC0D40599B6F12931C0468ABA0D97BE4FC0FEC60673EC2931C0852F3A298EBE4FC021C10617DE2931C0A183F2ABD7BD4FC08A4EDE2D162931C00C71C962D9BD4FC0F0C05C4C112931C087793D14DBBD4FC0C39504A70B2931C0B117D9DEA1BE4FC03DF46AABE12931C0', estado_lote_1ra='APROBADO', estado_lote_2da='SEMBRADO', obs_3=None), lote(fecha_de_registro='2023-12-15 02:05:37+00:00', amigo_id='94ecfdd44cbf4c55b5576124c9032e1a', lote='L6.3', superficie=3.44, textura='FY', lote_semillero='L5', variedad_semillero='UCG 90-20', variedad_sugerida='CITTCA 0563', estado_semillero='BUENO', mes_siembra='ABRIL', variedad_sembrada=None, fecha_siembra=None, estado_de_siembra=None, obs_1=None, obs_2=None, fecha_actualizacion=None, prop_ref_lote='452ab1a21af84c86874864a471c6cfcf', geometria='0106000020E6100000010000000103000000010000000F000000EF04F5AEADBE4FC01EF2E839A42931C07CB5B4BCAFBE4FC08BC55E23AC2931C091615670ADBE4FC010D23C0AB92931C0F123F3D7A7BE4FC0A2C14C37C82931C050AA0D0B99BE4FC0D0A94497B52931C02277A4E67ABE4FC045B627CA932931C0A4A06113E6BD4FC042BEA1C6F12831C096F5A0B8E8BD4FC09DA0848AE82831C0CADA78DDFEBD4FC010547434052931C04EDB643813BE4FC0E2F6DCC0182931C0FE1676A827BE4FC0CE6F90332A2931C0D894CE4532BE4FC05123EB151F2931C0C264BB313BBE4FC0992F7530262931C09698B66C3DBE4FC080FB7A37212931C0EF04F5AEADBE4FC01EF2E839A42931C0', estado_lote_1ra='APROBADO', estado_lote_2da='SEMBRADO', obs_3=None), lote(fecha_de_registro='2023-12-15 02:04:29+00:00', amigo_id='b6c186ae818d412d85ea73c8d67bf0d5', lote='L6.2', superficie=1.01, textura='FY', lote_semillero='L5', variedad_semillero='UCG 90-20', variedad_sugerida='UCG 90-20', estado_semillero='BUENO', mes_siembra='ABRIL', variedad_sembrada=None, fecha_siembra=None, estado_de_siembra=None, obs_1=None, obs_2=None, fecha_actualizacion=None, prop_ref_lote='452ab1a21af84c86874864a471c6cfcf', geometria='0106000020E61000000100000001030000000100000005000000901173DBB5BE4FC058FCA401912931C010C393E0AFBE4FC03BEB095DA02931C00042A08739BE4FC07F46C8C0182931C03B9A14CB3CBE4FC08BACB186132931C0901173DBB5BE4FC058FCA401912931C0', estado_lote_1ra='APROBADO', estado_lote_2da='SEMBRADO', obs_3=None)])\n",
      "====================== 3500\n",
      "credito(fecha_registro='2024-04-23 19:55:45.504317+00:00', amigo_id='c309ea224793478481a0b0d54ac1b69f', semana_1ra=None, semana_2da='S24', institucion=1, canhero='40249 / RIOS ROJAS JUAN CARLOS', solicitado=5.0, total_1ra_insp=None, estado_1ra_insp='PENDIENTE', fecha_1ra_insp=None, cite_1ra_insp=None, respon_1ra_insp=None, obs_1ra=None, link_doc_1ra=None, total_2da_insp=5.21, estado_2da_insp='APROBADO', fecha_2da_insp='15/06/2024', cite_2da_insp=166, respon_2da_insp='Rogelio Acuña Rodríguez', obs_2da=None, link_doc_2da=None, total_nacido=None, total_no_nacido=None, muestreo=False, glifosato=False, nivelacion_1=False, drenaje=False, romeplow=True, rastra=True, subsolado=False, rotacion=False, arado=False, ferti_base=False, enraizadores=False, insecticidas=False, fungicidas=False, preemergente=True, fecha_actualizacion='2024-06-16 15:30:36.762296+00:00', fertilizacion=False, fungi_en_siem=False, insec_en_siem=False, promot_de_brota=False, pre_emergente=False, post_emergente=False, cultivado=False, ctrl_bio_tricho=False, insect_fisio_otros=False, ctrl_malezas=False, nivelacion_2=False, drenajes=False, financiamiento='IAG', id=449, total_sembrado_2da=5.21, semana_3ra=None, fecha_3ra_insp=None, total_3ra_insp=None, respon_3ra_insp=None, link_doc_3ra=None, estado_3ra_insp=None, cite_3ra_insp=None, obs_3ra=None, fecha_informe='16/06/2024')\n",
      "L10 6d76a91f05204134bf015c7cb87047bc\n",
      "L1 98b758ab257b4c7fb5b0a497dcba179c\n",
      "propiedad(fecha_de_registro='2024-06-15 12:16:51+00:00', amigo_id='bebe6d77062a45fcbf1a69d0212cf45a', ubicacion='0101000020E610000032FAF017B7A64FC0ACD290ABB62A31C0', propiedad='398 / SAN MARTIN--JUAN C. RIOS', tenencia='PROPIO', fecha_actualizacion='2024-06-15 22:05:06.887856+00:00', insp_ref_prop='c309ea224793478481a0b0d54ac1b69f', lotes=[lote(fecha_de_registro='2024-06-15 22:12:21+00:00', amigo_id='6d76a91f05204134bf015c7cb87047bc', lote='L10', superficie=3.17, textura='F', lote_semillero='L3', variedad_semillero='UCG 90-20', variedad_sugerida='UCG 90-20', estado_semillero='BUENO', mes_siembra='MAYO', variedad_sembrada='UCG 90-20', fecha_siembra=None, estado_de_siembra=None, obs_1=None, obs_2=None, fecha_actualizacion=None, prop_ref_lote='bebe6d77062a45fcbf1a69d0212cf45a', geometria='0106000020E610000001000000010300000001000000050000000CB9DB8983A64FC0106FF95F892A31C04E1021A2C2A64FC008D31D829A2A31C058C0DD53BBA64FC00C30C5E2F52A31C0F0D3AD8E7EA64FC004141C63E52A31C00CB9DB8983A64FC0106FF95F892A31C0', estado_lote_1ra='APROBADO', estado_lote_2da='SEMBRADO', obs_3=None)])\n",
      "propiedad(fecha_de_registro='2024-06-15 22:06:29+00:00', amigo_id='0036a4fdaa474bfa940aa473c757013f', ubicacion='0101000020E610000066D8266D3CAE4FC03CEB7950C21831C0', propiedad='2149 / SAN LORENZO--RIOS JUAN CARLOS', tenencia='PROPIO', fecha_actualizacion='2024-06-15 22:06:29+00:00', insp_ref_prop='c309ea224793478481a0b0d54ac1b69f', lotes=[lote(fecha_de_registro='2024-06-15 22:15:11+00:00', amigo_id='98b758ab257b4c7fb5b0a497dcba179c', lote='L1', superficie=2.04, textura='F', lote_semillero='L3', variedad_semillero='UCG 90-20', variedad_sugerida='UCG 90-20', estado_semillero='BUENO', mes_siembra='MAYO', variedad_sembrada='UCG 90-20', fecha_siembra=None, estado_de_siembra=None, obs_1=None, obs_2=None, fecha_actualizacion=None, prop_ref_lote='0036a4fdaa474bfa940aa473c757013f', geometria='0106000020E610000001000000010300000003000000120000006CD2661D57AE4FC08C85B63AF91831C06899E67C57AE4FC0F84EDCFDF81831C0CE0F712956AE4FC000299829ED1831C02EAE558551AE4FC0EC65983CD41831C0EEA2BB014AAE4FC0509BC541AB1831C0BC8FD05A47AE4FC0000D4CC0FF1831C0B20DAC2A41AE4FC0F0FF9998001931C0E248F18040AE4FC03083EA96CF1831C0EA4EBE4244AE4FC0101BF2B1A01831C00E388A3B35AE4FC07437FEBD7F1831C06A855AAD32AE4FC0B46BCC9ED11831C0DA2AA4E330AE4FC0947A91271A1931C008BF7BD63EAE4FC000BDFC711D1931C03655612E45AE4FC0889E2044241931C0FC7E29D65CAE4FC0A87C304C271931C024238D6659AE4FC03CE5C66C031931C05C7AC17E57AE4FC0A4C9EEFCF81831C06CD2661D57AE4FC08C85B63AF91831C0040000006CD2661D57AE4FC08C85B63AF91831C094FC858253AE4FC0003EC686FB1831C099A5688253AE4FC020FD6F84FB1831C06CD2661D57AE4FC08C85B63AF91831C00800000099A5688253AE4FC020FD6F84FB1831C0CA1BEE7F53AE4FC080A90286FB1831C0F6681A2F53AE4FC0F496E052001931C0F64C3AE14CAE4FC0000D4CC0FF1831C0C0B5A6A84CAE4FC04453BA13F31831C092D6AF344EAE4FC02433E601EE1831C0CC37CBD852AE4FC02433E601EE1831C099A5688253AE4FC020FD6F84FB1831C0', estado_lote_1ra='APROBADO', estado_lote_2da='SEMBRADO', obs_3=None)])\n",
      "====================== 40249\n",
      "credito(fecha_registro='2023-11-16 00:59:31.305131+00:00', amigo_id='14b5fffe8cc441bab8e8db52ff719ff3', semana_1ra='S47', semana_2da='S24', institucion=50, canhero='7506 / LOHENER ROSENDA SHEILA PAZ DE', solicitado=25.0, total_1ra_insp=18.05, estado_1ra_insp='APROBADO', fecha_1ra_insp='2023-11-24 13:57:02+00:00', cite_1ra_insp=548, respon_1ra_insp='Juan Pablo Jaldin Duran', obs_1ra=None, link_doc_1ra='https://drive.google.com/file/d/1Kz0XxYKi4GNf30QlDcEFTs6f47hft5Ao/view?usp=drivesdk', total_2da_insp=16.63, estado_2da_insp='APROBADO', fecha_2da_insp='12/06/2024', cite_2da_insp=160, respon_2da_insp='Rogelio Acuña Rodríguez', obs_2da=None, link_doc_2da=None, total_nacido=None, total_no_nacido=None, muestreo=False, glifosato=False, nivelacion_1=True, drenaje=False, romeplow=True, rastra=True, subsolado=False, rotacion=False, arado=False, ferti_base=False, enraizadores=True, insecticidas=True, fungicidas=True, preemergente=True, fecha_actualizacion='2024-06-14 17:31:23.336228+00:00', fertilizacion=False, fungi_en_siem=False, insec_en_siem=False, promot_de_brota=False, pre_emergente=False, post_emergente=False, cultivado=False, ctrl_bio_tricho=False, insect_fisio_otros=False, ctrl_malezas=False, nivelacion_2=False, drenajes=False, financiamiento='IAG', id=323, total_sembrado_2da=16.63, semana_3ra=None, fecha_3ra_insp=None, total_3ra_insp=None, respon_3ra_insp=None, link_doc_3ra=None, estado_3ra_insp=None, cite_3ra_insp=None, obs_3ra=None, fecha_informe='13/06/2024')\n",
      "L14.1 166a9d9838214024903d4f015243c9f8\n",
      "L15 64e2be35995b42f892f5ad38c4cf1c98\n",
      "L17.2 e07d1f4f6c6a457aa1dde7fc799c74db\n",
      "propiedad(fecha_de_registro='2023-11-25 13:58:12+00:00', amigo_id='defc817f81ed45e3b1f08668c7e1bc6d', ubicacion='0101000020E61000006A1F326691944FC040E00352FD5731C0', propiedad='327 / EL RECREO--ROSENDA SHEILA PAZ', tenencia='PROPIO', fecha_actualizacion='2023-11-25 13:58:12+00:00', insp_ref_prop='14b5fffe8cc441bab8e8db52ff719ff3', lotes=[lote(fecha_de_registro='2023-11-25 14:04:57+00:00', amigo_id='166a9d9838214024903d4f015243c9f8', lote='L14.1', superficie=2.07, textura='FY', lote_semillero='L19.1', variedad_semillero='UCG 90-20', variedad_sugerida='UCG 90-20', estado_semillero='BUENO', mes_siembra='MARZO', variedad_sembrada=None, fecha_siembra=None, estado_de_siembra=None, obs_1=None, obs_2=None, fecha_actualizacion=None, prop_ref_lote='defc817f81ed45e3b1f08668c7e1bc6d', geometria='0106000020E6100000010000000103000000010000000B000000000AA54A56964FC05C8AC8A99F5731C017292DAA57964FC0208B492AAC5731C0D60C837351964FC03AEB08FFC05731C0199E6C4C4C964FC0A60F8654D05731C060D3E02847964FC0D1FA1704E45731C0ABD499AF38964FC049D6CE161A5831C0FA2857922F964FC030A0CC9E385831C0E7E766292B964FC065E62312445831C0ACD1CE4223964FC024440423465831C0EE18148438964FC094314491955731C0000AA54A56964FC05C8AC8A99F5731C0', estado_lote_1ra='APROBADO', estado_lote_2da='SEMBRADO', obs_3=None), lote(fecha_de_registro='2023-11-25 14:02:42+00:00', amigo_id='64e2be35995b42f892f5ad38c4cf1c98', lote='L15', superficie=2.55, textura='FA', lote_semillero='L19.1', variedad_semillero='UCG 90-20', variedad_sugerida='UCG 90-20', estado_semillero='BUENO', mes_siembra='ABRIL', variedad_sembrada=None, fecha_siembra=None, estado_de_siembra=None, obs_1=None, obs_2=None, fecha_actualizacion=None, prop_ref_lote='defc817f81ed45e3b1f08668c7e1bc6d', geometria='0106000020E6100000010000000103000000010000000E000000780A71246D954FC02D66011CD75731C071A5E31F9B954FC08D972845EC5731C07A360D0496954FC00D8A1C0FFD5731C0600B70D38E954FC0DBC478B9105831C0926C9F5988954FC09F198FE0235831C04FBAEFE77F954FC03424E71B3B5831C0B6EA803577954FC018307B09535831C01F1D0FB072954FC0B3F1F6DA5E5831C000CBD63E6F954FC008B06501695831C07BAC16B76D954FC05537430F6C5831C0F9FC64B96A954FC0F9290DD7705831C05B2D476761954FC0D873CF48765831C08CA0A75E5E954FC02B58BA24785831C0780A71246D954FC02D66011CD75731C0', estado_lote_1ra='APROBADO', estado_lote_2da='SEMBRADO', obs_3=None), lote(fecha_de_registro='2023-11-25 13:56:24+00:00', amigo_id='e07d1f4f6c6a457aa1dde7fc799c74db', lote='L17.2', superficie=12.01, textura='F', lote_semillero='L19.1', variedad_semillero='UCG 90-20', variedad_sugerida='UCG 90-20', estado_semillero='BUENO', mes_siembra='ABRIL', variedad_sembrada=None, fecha_siembra=None, estado_de_siembra=None, obs_1=None, obs_2=None, fecha_actualizacion=None, prop_ref_lote='defc817f81ed45e3b1f08668c7e1bc6d', geometria='0106000020E61000000100000001030000000100000005000000F69E514DD1944FC0AC9EAC27935731C0FE5BC182BC944FC06488DDAE725831C01A37D49E5A944FC080CBE203285831C052DFD5276B944FC088CF3F1C675731C0F69E514DD1944FC0AC9EAC27935731C0', estado_lote_1ra='APROBADO', estado_lote_2da='SEMBRADO', obs_3=None)])\n",
      "====================== 7506\n",
      "credito(fecha_registro='2023-11-16 00:59:31.305131+00:00', amigo_id='c7c46e388b754cdea7de107fec2fc1bb', semana_1ra='S50', semana_2da='S24', institucion=3, canhero='17678 / ESPINOZA JUANA MAIDA DE', solicitado=10.0, total_1ra_insp=10.76, estado_1ra_insp='APROBADO', fecha_1ra_insp='2023-12-13 02:08:35+00:00', cite_1ra_insp=599, respon_1ra_insp='Juan Pablo Jaldin Duran', obs_1ra=None, link_doc_1ra='https://drive.google.com/file/d/1UehErNtAeS-SFx0PE3L_Wq-OVOqodo8e/view?usp=drivesdk', total_2da_insp=10.81, estado_2da_insp='APROBADO', fecha_2da_insp='13/06/2024', cite_2da_insp=159, respon_2da_insp='Rogelio Acuña Rodríguez', obs_2da=None, link_doc_2da=None, total_nacido=None, total_no_nacido=None, muestreo=False, glifosato=True, nivelacion_1=True, drenaje=False, romeplow=True, rastra=True, subsolado=False, rotacion=False, arado=False, ferti_base=False, enraizadores=True, insecticidas=True, fungicidas=False, preemergente=True, fecha_actualizacion='2024-06-14 17:16:45.316509+00:00', fertilizacion=False, fungi_en_siem=False, insec_en_siem=False, promot_de_brota=False, pre_emergente=False, post_emergente=False, cultivado=False, ctrl_bio_tricho=False, insect_fisio_otros=False, ctrl_malezas=False, nivelacion_2=False, drenajes=False, financiamiento='IAG', id=357, total_sembrado_2da=10.81, semana_3ra=None, fecha_3ra_insp=None, total_3ra_insp=None, respon_3ra_insp=None, link_doc_3ra=None, estado_3ra_insp=None, cite_3ra_insp=None, obs_3ra=None, fecha_informe='14/06/2024')\n",
      "L5.2 faffa7a6291c4b1ba0f40a7b1dac68f7\n",
      "L6.3 2f941654208c4e45bfbf3c4e4c8f6721\n",
      "propiedad(fecha_de_registro='2023-12-15 02:11:06+00:00', amigo_id='4b358e9ce4834ddaa28571aa3cae568c', ubicacion='0101000020E6100000089DFD8720BF4FC01862B857FA2631C0', propiedad='80 / TOTAITU--ESPINOZA', tenencia='PROPIO', fecha_actualizacion='2023-12-15 02:11:06+00:00', insp_ref_prop='c7c46e388b754cdea7de107fec2fc1bb', lotes=[lote(fecha_de_registro='2023-12-12 14:34:45+00:00', amigo_id='faffa7a6291c4b1ba0f40a7b1dac68f7', lote='L5.2', superficie=2.47, textura='FY', lote_semillero='L4.2', variedad_semillero='UCG 90-20', variedad_sugerida='UCG 90-20', estado_semillero='BUENO', mes_siembra='ABRIL', variedad_sembrada=None, fecha_siembra=None, estado_de_siembra=None, obs_1=None, obs_2=None, fecha_actualizacion=None, prop_ref_lote='4b358e9ce4834ddaa28571aa3cae568c', geometria='0106000020E6100000010000000103000000010000000B00000060DC14C3F6BE4FC053739A552B2731C01C20503FFABE4FC032BCFAB1242731C0788E7250FEBE4FC0E7D3BD0E1B2731C0E538993800BF4FC0D6CFD066062731C03CA5C8E190BE4FC0E4659445852631C0E950350C90BE4FC016E8D14A882631C0881663D58FBE4FC0BFE1C2CB8C2631C05BAA257C8EBE4FC07CE2BAB3902631C0E88AFCEC8ABE4FC0D0C165E9982631C05CB235DC88BE4FC035299DAC9B2631C060DC14C3F6BE4FC053739A552B2731C0', estado_lote_1ra='APROBADO', estado_lote_2da='SEMBRADO', obs_3=None), lote(fecha_de_registro='2023-12-12 14:40:46+00:00', amigo_id='2f941654208c4e45bfbf3c4e4c8f6721', lote='L6.3', superficie=8.34, textura='FY', lote_semillero='L6.7', variedad_semillero='UCG 90-20', variedad_sugerida='UCG 90-20', estado_semillero='BUENO', mes_siembra='ABRIL', variedad_sembrada=None, fecha_siembra=None, estado_de_siembra=None, obs_1=None, obs_2=None, fecha_actualizacion=None, prop_ref_lote='4b358e9ce4834ddaa28571aa3cae568c', geometria='0106000020E61000000100000001030000000100000021000000C87DAB75E2BE4FC073C8BC44AB2531C0804C9161D7BE4FC0A72F2186942531C0CD84155DCDBE4FC015CCF33BA82531C092812EAFB5BE4FC0F367F5A8762531C013DF6D20B2BE4FC02C2A29ED6D2531C0C441E923AFBE4FC0143C4DC86C2531C094275A03A5BE4FC0A2A476757D2531C084FC2257A0BE4FC020031EBD862531C0E20918B897BE4FC0F744323F922531C0C9D23DA18DBE4FC0014C1938A02531C001DBC1887DBE4FC00B7BDAE1AF2531C05206B3AE76BE4FC0B8EA950DC62531C01E1661DA74BE4FC06E291A35CC2531C0F0F47FEF75BE4FC0DE2A4D74D82531C07B16DFABB1BE4FC0C467A153462631C0A4479DCAB3BE4FC09BFF571D392631C02A905046BBBE4FC0C1D813962B2631C0FD89B85FC3BE4FC08E0E4479272631C0106CA68CC9BE4FC04FA118332B2631C067DC4235CFBE4FC0E9519ED9302631C0E5F0AA32D3BE4FC03E69C4382E2631C0C7743282D7BE4FC074A37ECD282631C068FEB7C0E1BE4FC0122F9BB8102631C004E9C070E6BE4FC044E260D1052631C07844A562E9BE4FC0FADC4F65002631C0EC0F57A3ECBE4FC026FF3E42FB2531C0F0D75B05F0BE4FC09B56AA6EF02531C09C3735BEEFBE4FC0E9FCD703E52531C07BA46595ECBE4FC0DE8F645EDE2531C02E63F9A9E0BE4FC0E4C6E358CD2531C021956247E3BE4FC0F3A0EAA1C72531C03501D072EABE4FC0C5538F34B82531C0C87DAB75E2BE4FC073C8BC44AB2531C0', estado_lote_1ra='APROBADO', estado_lote_2da='SEMBRADO', obs_3=None)])\n",
      "====================== 17678\n",
      "credito(fecha_registro='2024-01-13 13:38:40.515521+00:00', amigo_id='352d9e5e79254b509548bb21bc03402c', semana_1ra=None, semana_2da='S24', institucion=66, canhero='5407 / HUANCA MENCHAQUE HERNAN', solicitado=8.0, total_1ra_insp=None, estado_1ra_insp='PENDIENTE', fecha_1ra_insp=None, cite_1ra_insp=None, respon_1ra_insp=None, obs_1ra=None, link_doc_1ra=None, total_2da_insp=6.22, estado_2da_insp='APROBADO', fecha_2da_insp='12/06/2024', cite_2da_insp=161, respon_2da_insp='Rogelio Acuña Rodríguez', obs_2da=None, link_doc_2da=None, total_nacido=None, total_no_nacido=None, muestreo=False, glifosato=False, nivelacion_1=False, drenaje=False, romeplow=True, rastra=True, subsolado=False, rotacion=False, arado=False, ferti_base=False, enraizadores=True, insecticidas=True, fungicidas=False, preemergente=True, fecha_actualizacion='2024-06-14 17:43:45.436960+00:00', fertilizacion=False, fungi_en_siem=False, insec_en_siem=False, promot_de_brota=False, pre_emergente=False, post_emergente=False, cultivado=False, ctrl_bio_tricho=False, insect_fisio_otros=False, ctrl_malezas=False, nivelacion_2=False, drenajes=False, financiamiento='IAG', id=448, total_sembrado_2da=6.22, semana_3ra=None, fecha_3ra_insp=None, total_3ra_insp=None, respon_3ra_insp=None, link_doc_3ra=None, estado_3ra_insp=None, cite_3ra_insp=None, obs_3ra=None, fecha_informe='13/06/2024')\n",
      "L4 0dbff88ac1ad4b37a879953e55dad611\n",
      "L5.3 26567d1733974c3d8c5abacd3023a767\n",
      "L4 088c40ff563148deb2dc39bc1520180b\n",
      "L1 afefcbd78ee24f9f9b8274f65986d17b\n",
      "L3 1daefc1b0b234e89997a0078d8d2aeb1\n",
      "L2 5aad51e5e5d84f46b93283d4ef13cc47\n",
      "propiedad(fecha_de_registro='2024-06-14 17:45:56+00:00', amigo_id='0eb7cc1ba39348ffb24c986ca4863922', ubicacion='0101000020E6100000081D840F60804FC0B482A23F122731C0', propiedad='247 / LOS OLIVOS--HUANCA', tenencia='PROPIO', fecha_actualizacion='2024-06-14 17:45:56+00:00', insp_ref_prop='352d9e5e79254b509548bb21bc03402c', lotes=[lote(fecha_de_registro='2024-06-14 17:48:18+00:00', amigo_id='0dbff88ac1ad4b37a879953e55dad611', lote='L4', superficie=1.95, textura='F', lote_semillero='L3', variedad_semillero='UCG 90-20', variedad_sugerida='UCG 90-20', estado_semillero='BUENO', mes_siembra='ABRIL', variedad_sembrada=None, fecha_siembra=None, estado_de_siembra=None, obs_1=None, obs_2=None, fecha_actualizacion=None, prop_ref_lote='0eb7cc1ba39348ffb24c986ca4863922', geometria='0106000020E61000000100000001030000000100000006000000D4DF2E5E3F804FC0309E7EFA292731C0FE28F9BF3A804FC0CC8C9181382731C0CCB9CF8C4F804FC07C7DEB105D2731C016C4AB3176804FC03072C405FB2631C0D66045EE5F804FC02C737DFAD52631C0D4DF2E5E3F804FC0309E7EFA292731C0', estado_lote_1ra='APROBADO', estado_lote_2da='SEMBRADO', obs_3=None), lote(fecha_de_registro='2024-06-14 17:49:33+00:00', amigo_id='26567d1733974c3d8c5abacd3023a767', lote='L5.3', superficie=1.48, textura='F', lote_semillero='L3', variedad_semillero='UCG 90-20', variedad_sugerida='UCG 90-20', estado_semillero='BUENO', mes_siembra='ABRIL', variedad_sembrada=None, fecha_siembra=None, estado_de_siembra=None, obs_1=None, obs_2=None, fecha_actualizacion=None, prop_ref_lote='0eb7cc1ba39348ffb24c986ca4863922', geometria='0106000020E61000000100000001030000000100000007000000B8746F7A09804FC0AC3F9E17D72631C018C09AF8FA7F4FC0C4E5C940C32631C0885B88D6FA7F4FC048F81670BF2631C022C439F10A804FC0ECE4116C752631C00E980A3E14804FC084552F69582631C04E5B841929804FC0D0569F217B2631C0B8746F7A09804FC0AC3F9E17D72631C0', estado_lote_1ra='APROBADO', estado_lote_2da='SEMBRADO', obs_3=None)])\n",
      "propiedad(fecha_de_registro='2024-06-14 18:10:27+00:00', amigo_id='feb88028907041acacf455b84bb74f54', ubicacion='0101000020E61000006EE76CA43E7F4FC09C079363702731C0', propiedad='1492 / LOS OLIVOS--JUSTINO HUALLPA', tenencia='ALQUILADO', fecha_actualizacion='2024-06-14 18:10:27+00:00', insp_ref_prop='352d9e5e79254b509548bb21bc03402c', lotes=[lote(fecha_de_registro='2024-06-14 18:05:51+00:00', amigo_id='088c40ff563148deb2dc39bc1520180b', lote='L4', superficie=1.6, textura='FY', lote_semillero='L3', variedad_semillero='UCG 90-20', variedad_sugerida='UCG 90-20', estado_semillero='BUENO', mes_siembra='ABRIL', variedad_sembrada=None, fecha_siembra=None, estado_de_siembra=None, obs_1=None, obs_2=None, fecha_actualizacion=None, prop_ref_lote='feb88028907041acacf455b84bb74f54', geometria='0106000020E6100000010000000103000000010000000900000044FA61BD537F4FC00C5F4973672731C0C0F22C1E4F7F4FC0DC099A5E8B2731C0C27CE190457F4FC0B47303DEA52731C0C24AD5C0267F4FC030D584D37D2731C0CAE3F371267F4FC0D45C6CAC5B2731C094BB52392D7F4FC054FC0B1C3A2731C054FA924F347F4FC060C5DD984A2731C0880ECBA2407F4FC0ECBB185D4C2731C044FA61BD537F4FC00C5F4973672731C0', estado_lote_1ra='APROBADO', estado_lote_2da='SEMBRADO', obs_3=None), lote(fecha_de_registro='2024-06-14 17:57:18+00:00', amigo_id='afefcbd78ee24f9f9b8274f65986d17b', lote='L1', superficie=0.51, textura='F', lote_semillero='L3', variedad_semillero='UCG 90-20', variedad_sugerida='UCG 90-20', estado_semillero='BUENO', mes_siembra='ABRIL', variedad_sembrada=None, fecha_siembra=None, estado_de_siembra=None, obs_1=None, obs_2=None, fecha_actualizacion=None, prop_ref_lote='feb88028907041acacf455b84bb74f54', geometria='0106000020E61000000100000001030000000100000007000000D84684448F7F4FC0A877D4AB702831C00C617A1A9F7F4FC0A0D1668F4C2831C08044F208A07F4FC00C7FE56B442831C07E3DA985957F4FC0E00151FA382831C070B352DC927F4FC03022857C392831C0F60A7D4C7F7F4FC094E5B575552831C0D84684448F7F4FC0A877D4AB702831C0', estado_lote_1ra='APROBADO', estado_lote_2da='SEMBRADO', obs_3=None), lote(fecha_de_registro='2024-06-14 18:03:24+00:00', amigo_id='1daefc1b0b234e89997a0078d8d2aeb1', lote='L3', superficie=0.34, textura='F', lote_semillero='L3', variedad_semillero='UCG 90-20', variedad_sugerida='UCG 90-20', estado_semillero='BUENO', mes_siembra='ABRIL', variedad_sembrada=None, fecha_siembra=None, estado_de_siembra=None, obs_1=None, obs_2=None, fecha_actualizacion=None, prop_ref_lote='feb88028907041acacf455b84bb74f54', geometria='0106000020E610000001000000010300000001000000050000009704728EA67F4FC0231422F3C92731C005E1D0EA977F4FC09817EF37EA2731C0124D55FD8D7F4FC06F2C9A29D72731C091F507509D7F4FC0ADC8AD29B42731C09704728EA67F4FC0231422F3C92731C0', estado_lote_1ra='APROBADO', estado_lote_2da='SEMBRADO', obs_3=None), lote(fecha_de_registro='2024-06-14 18:02:24+00:00', amigo_id='5aad51e5e5d84f46b93283d4ef13cc47', lote='L2', superficie=0.34, textura='F', lote_semillero='L3', variedad_semillero='UCG 90-20', variedad_sugerida='UCG 90-20', estado_semillero='BUENO', mes_siembra='ABRIL', variedad_sembrada=None, fecha_siembra=None, estado_de_siembra=None, obs_1=None, obs_2=None, fecha_actualizacion=None, prop_ref_lote='feb88028907041acacf455b84bb74f54', geometria='0106000020E61000000100000001030000000100000006000000E0BA46BFAC7F4FC03871BED2CA2731C0E8B26D419F7F4FC0E8B0276FB22731C05E448AECAA7F4FC0CC0623179B2731C0865ADA20B37F4FC0F827060FA22731C0564C636AB87F4FC05407E906A92731C0E0BA46BFAC7F4FC03871BED2CA2731C0', estado_lote_1ra='APROBADO', estado_lote_2da='SEMBRADO', obs_3=None)])\n",
      "====================== 5407\n",
      "credito(fecha_registro='2023-11-16 00:59:31.305131+00:00', amigo_id='1d26a03f9e1447be99bce1d43010b33b', semana_1ra='S47', semana_2da='S24', institucion=304, canhero='40256 / INSERVA DAMIANA S.R.L.', solicitado=100.0, total_1ra_insp=113.14, estado_1ra_insp='APROBADO', fecha_1ra_insp='2023-11-20 19:00:28+00:00', cite_1ra_insp=532, respon_1ra_insp='Rogelio Acuña Rodríguez', obs_1ra='LOTES CON ROTACION DE CULTIVO DE SOYA', link_doc_1ra='https://drive.google.com/file/d/1U0YPQK0dIBOqZsCNEQ6pyt2nwwmWxd_8/view?usp=drivesdk', total_2da_insp=38.93, estado_2da_insp='APROBADO', fecha_2da_insp='23/05/2024', cite_2da_insp=99, respon_2da_insp='Rogelio Acuña Rodríguez', obs_2da=None, link_doc_2da=None, total_nacido=None, total_no_nacido=None, muestreo=False, glifosato=False, nivelacion_1=False, drenaje=False, romeplow=True, rastra=True, subsolado=True, rotacion=True, arado=True, ferti_base=True, enraizadores=True, insecticidas=True, fungicidas=True, preemergente=True, fecha_actualizacion='2024-06-14 19:41:37.648512+00:00', fertilizacion=False, fungi_en_siem=False, insec_en_siem=False, promot_de_brota=False, pre_emergente=False, post_emergente=False, cultivado=False, ctrl_bio_tricho=False, insect_fisio_otros=False, ctrl_malezas=False, nivelacion_2=False, drenajes=False, financiamiento='IAG', id=275, total_sembrado_2da=38.93, semana_3ra=None, fecha_3ra_insp=None, total_3ra_insp=None, respon_3ra_insp=None, link_doc_3ra=None, estado_3ra_insp=None, cite_3ra_insp=None, obs_3ra=None, fecha_informe='24/05/2024')\n",
      "L17.1 08cecb6633f545f2b40411544e30dd01\n",
      "L18 a3303fa0792b45d597f346f2dfba4e7e\n",
      "propiedad(fecha_de_registro='2024-05-25 12:51:09+00:00', amigo_id='b5114f2aaafe47809c75cdb810910d87', ubicacion='0101000020E610000070DB171D54A34FC004B106DC432531C0', propiedad='1972 / ARROZAL--CASTILLO RICHARD', tenencia='ALQUILADO', fecha_actualizacion='2024-05-25 12:57:36.367346+00:00', insp_ref_prop='1d26a03f9e1447be99bce1d43010b33b', lotes=[lote(fecha_de_registro='2024-05-25 12:35:46+00:00', amigo_id='08cecb6633f545f2b40411544e30dd01', lote='L17.1', superficie=14.1, textura='FY', lote_semillero='L5', variedad_semillero='UCG 90-20', variedad_sugerida='UCG 90-20', estado_semillero='REGULAR', mes_siembra='MAYO', variedad_sembrada='UCG 90-20', fecha_siembra=None, estado_de_siembra=None, obs_1=None, obs_2=None, fecha_actualizacion=None, prop_ref_lote='b5114f2aaafe47809c75cdb810910d87', geometria='0106000020E610000001000000010300000001000000100000005CC38BC4A3A24FC084E87F293C2531C0D6962A3AD1A24FC0680DAC3D402531C03296B614D2A24FC09CAB1C3A542531C012934348D5A24FC034750BA96A2531C09094CEC9D3A24FC0447D376C7D2531C08C935AA4D4A24FC048883751822531C0FC8B4653DCA24FC0A05BB7A8892531C080416473DBA24FC0CC51C39BE02531C0382AEC30E6A24FC064AD3611F62531C0782033D8DFA24FC0FC5073B34E2631C0D0B669F6DAA24FC0D46A206C6E2631C0660DC126D3A24FC0D806CAB2032731C0F471D740BAA24FC04CBCA9E7F22631C094B33977B1A24FC030CE4193E92631C06A6C24799CA24FC0E8A29E4EED2631C05CC38BC4A3A24FC084E87F293C2531C0', estado_lote_1ra='APROBADO', estado_lote_2da='SEMBRADO', obs_3=None), lote(fecha_de_registro='2024-05-25 12:40:33+00:00', amigo_id='a3303fa0792b45d597f346f2dfba4e7e', lote='L18', superficie=24.83, textura='FY', lote_semillero='L5', variedad_semillero='UCG 90-20', variedad_sugerida='UCG 90-20', estado_semillero='BUENO', mes_siembra='MAYO', variedad_sembrada='UCG 90-20', fecha_siembra=None, estado_de_siembra=None, obs_1=None, obs_2=None, fecha_actualizacion=None, prop_ref_lote='b5114f2aaafe47809c75cdb810910d87', geometria='0106000020E6100000010000000103000000010000002700000098CBB8234EA34FC08C05A44BCC2531C0DA13523185A34FC0E410DE43DD2531C060833B0284A34FC0D0967605652631C00EF855AE7EA34FC078A2DB40782631C0C83AA92F68A34FC00807B1A57B2631C09005CDB466A34FC01403A919FF2631C0A8ECECBC6BA34FC044300824FB2631C0E8F124D382A34FC0887DB5B7D02631C0E6E3ADCC9AA34FC00459EDFAD22631C078C2806E98A34FC00CD3D0E0F82631C0FC71A87090A34FC000DECBE5122731C074695B0A89A34FC08CCEBE162A2731C0B86C705A79A34FC07CDAAE47412731C0A8F4392373A34FC0F866F1064C2731C01CCEDBE974A34FC03473A3205E2731C06CA14CD57AA34FC0BCAF0FA7622731C0FA18830C81A34FC09C71CEE7572731C00E00A31486A34FC0F4A27485612731C07ED0F77480A34FC074D4D58C882731C0F058C13D7AA34FC0A007F2D4A42731C01616678175A34FC0A066A43EC22731C0A8ECECBC6BA34FC050F48417DF2731C05261076966A34FC058142A05F42731C0B6C272F861A34FC0382FC8A2FD2731C084ECE58150A34FC040532F55FF2731C0F20D13E052A34FC08086FEF8B22731C0582C1D782EA34FC02C4F9025782731C0326F773433A34FC084EEC26B4F2731C02A1021F527A34FC0C80B38B33A2731C0BEE6A6301EA34FC0D0079910172731C0CC2D32C81EA34FC0547EBC357D2631C0B4C3560CF5A24FC0E4F2FCF7242631C05A3FBE1EF7A24FC03C92B964DF2531C0CA12364518A34FC00CDD3A55C92531C084FF862819A34FC050F52662D22531C0383463A31AA34FC0387F86E80E2631C0762901ED22A34FC014F45FD6232631C0664D51114CA34FC0747DC2C6452631C098CBB8234EA34FC08C05A44BCC2531C0', estado_lote_1ra='APROBADO', estado_lote_2da='SEMBRADO', obs_3=None)])\n",
      "====================== 40256\n"
     ]
    },
    {
     "data": {
      "text/plain": [
       "<Figure size 2000x2000 with 0 Axes>"
      ]
     },
     "metadata": {},
     "output_type": "display_data"
    },
    {
     "data": {
      "text/plain": [
       "<Figure size 2000x2000 with 0 Axes>"
      ]
     },
     "metadata": {},
     "output_type": "display_data"
    }
   ],
   "source": [
    "for i in lista:\n",
    "    generar_reporte(i)\n",
    "    print('======================', i)"
   ]
  }
 ],
 "metadata": {
  "kernelspec": {
   "display_name": "Python 3 (ipykernel)",
   "language": "python",
   "name": "python3"
  },
  "language_info": {
   "codemirror_mode": {
    "name": "ipython",
    "version": 3
   },
   "file_extension": ".py",
   "mimetype": "text/x-python",
   "name": "python",
   "nbconvert_exporter": "python",
   "pygments_lexer": "ipython3",
   "version": "3.10.13"
  }
 },
 "nbformat": 4,
 "nbformat_minor": 5
}
