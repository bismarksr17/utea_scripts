{
 "cells": [
  {
   "cell_type": "code",
   "execution_count": 1,
   "id": "6658e010-c382-4e03-a45a-67c832b35ef9",
   "metadata": {},
   "outputs": [],
   "source": [
    "# werkzeug\n",
    "# shapely=1.7.1\n",
    "# geopandas\n",
    "# pandas\n",
    "# contextily\n",
    "# matplotlib\n",
    "# docxtpl\n",
    "# docx"
   ]
  },
  {
   "cell_type": "code",
   "execution_count": 2,
   "id": "665919a4-6184-4280-8c4c-64588f9131d6",
   "metadata": {},
   "outputs": [],
   "source": [
    "import sys\n",
    "sys.path.append('../_amigocloud')\n",
    "from amigocloud import AmigoCloud\n",
    "\n",
    "import requests\n",
    "import docxtpl\n",
    "from docxtpl import DocxTemplate\n",
    "from docx.shared import Mm\n",
    "from werkzeug.wrappers import Request, Response\n",
    "from jinja2 import Template\n",
    "\n",
    "from shapely import wkb\n",
    "import geopandas\n",
    "import pandas as pd\n",
    "import contextily as ctx\n",
    "import matplotlib.pyplot as plt\n",
    "\n",
    "import collections\n",
    "from datetime import datetime, timedelta\n",
    "import qrcode\n",
    "import os\n",
    "\n",
    "import gspread\n",
    "from oauth2client.service_account import ServiceAccountCredentials"
   ]
  },
  {
   "cell_type": "code",
   "execution_count": 3,
   "id": "66a24ae3-2ad8-43e1-92f6-fbbb0567f7b7",
   "metadata": {},
   "outputs": [],
   "source": [
    "def convertir_wkb(wkb_data):\n",
    "    return wkb.loads(wkb_data, hex=True)\n",
    "\n",
    "def get_unidad_local():\n",
    "    try:\n",
    "        # ruta del archivo que contiene la información necesaria\n",
    "        with open('../../unidad_local.txt', 'r') as file:\n",
    "            unidad = file.readline().strip()\n",
    "            return unidad\n",
    "    except FileNotFoundError:\n",
    "        print(\"El archivo 'unidad_local.txt' no se encuentra en la ruta especificada.\")\n",
    "    return None\n",
    "\n",
    "def get_ruta_local():\n",
    "    try:\n",
    "        with open('../ruta_local.txt', 'r') as file:\n",
    "            ruta = file.readline().strip()\n",
    "            return ruta\n",
    "    except FileNotFoundError:\n",
    "        print(\"El archivo 'ruta_local.txt' no se encuentra en la ruta especificada.\")\n",
    "    return None\n",
    "\n",
    "def get_amigocloud(ruta_completa):\n",
    "    try:\n",
    "        with open(ruta_completa + r'\\_keys\\api_amigocloud_gral.key', 'r') as acceso:\n",
    "            api_token = acceso.readline().strip()\n",
    "        amigocloud = AmigoCloud(token=api_token)\n",
    "        return amigocloud\n",
    "    except FileNotFoundError:\n",
    "        print(\"El archivo 'api_amigocloud.key' no se encuentra en la ruta especificada.\")\n",
    "    return None"
   ]
  },
  {
   "cell_type": "code",
   "execution_count": 4,
   "id": "17068be2-bf50-4f14-b871-0f968910dc2a",
   "metadata": {},
   "outputs": [],
   "source": [
    "def crear_cite(cod_canhero, nom_canhero, tipo_reporte):\n",
    "    # Configura las credenciales\n",
    "    scope = [\"https://spreadsheets.google.com/feeds\",\n",
    "             'https://www.googleapis.com/auth/spreadsheets', \n",
    "             \"https://www.googleapis.com/auth/drive.file\", \n",
    "             \"https://www.googleapis.com/auth/drive\"]\n",
    "    creds = ServiceAccountCredentials.from_json_keyfile_name(path_file_gapi, scope)\n",
    "    client = gspread.authorize(creds)\n",
    "    # Abre la hoja de cálculo con ID y la hoja específica\n",
    "    spreadsheet = client.open_by_key(\"1Wbmmjy9s8JdXKP8qM_eA_OrCV--F1UZLnzQJ--ASOFI\")\n",
    "    sheet = spreadsheet.sheet1\n",
    "    # Lee los datos\n",
    "    data_sheet = sheet.get_all_records()\n",
    "    df = pd.DataFrame(data_sheet)\n",
    "    # Encuentra el número más grande y lo incrementamos y agrega un nuevo registro\n",
    "    max_value = df['No'].max()\n",
    "    no = int(max_value + 1)\n",
    "    # llenamos los demas campos\n",
    "    fecha = datetime.now().strftime(\"%d/%m/%Y\")\n",
    "    cod_ca = int(cod_canhero)\n",
    "    nom_ca = nom_canhero\n",
    "    tipo = tipo_reporte\n",
    "    #agregar el registro\n",
    "    sheet.append_row([no, fecha, cod_ca, nom_ca, tipo])\n",
    "    return no"
   ]
  },
  {
   "cell_type": "code",
   "execution_count": 5,
   "id": "671335c0-f848-4ced-9199-d1000c19c39b",
   "metadata": {},
   "outputs": [],
   "source": [
    "def generar_reporte(codigo_canhero):\n",
    "    # EXTRAER DATOS DE CREDITO\n",
    "    query_credito = {'query': 'select * from dataset_307560 where cast(SPLIT_PART(canhero, \\'/\\', 1) as integer) = {cod_ca}'.format(cod_ca=codigo_canhero)}\n",
    "    credito_select = amigocloud.get('https://app.amigocloud.com/api/v1/projects/32672/sql', query_credito)\n",
    "    credito_data = credito_select['data'][0]\n",
    "    credito_data['fecha_informe'] = (datetime.strptime(credito_data['fecha_2da_insp'].split(' ')[0], '%Y-%m-%d') + timedelta(days=1)).strftime('%d/%m/%Y')\n",
    "    credito_data['fecha_2da_insp'] = datetime.strptime(credito_data['fecha_2da_insp'].split(' ')[0], '%Y-%m-%d').strftime('%d/%m/%Y')\n",
    "    \n",
    "    cite = crear_cite(credito_data['canhero'].split(' / ')[0], credito_data['canhero'].split(' / ')[1], 'CRSI')\n",
    "    credito_data['cite_2da_insp'] = cite\n",
    "    \n",
    "    if credito_data['obs_2da'] == None:\n",
    "        credito_data['obs_2da'] = ''\n",
    "    \n",
    "    credito = collections.namedtuple(\"credito\", credito_data.keys())(*credito_data.values())\n",
    "\n",
    "    # EXTRAER DATOS DE PROPIEDADES\n",
    "    query_propiedades = {'query': 'select * from dataset_307562 where insp_ref_prop = \\'{insp_ref_prop}\\''.format(insp_ref_prop=credito.amigo_id)}\n",
    "    propiedades_select = amigocloud.get('https://app.amigocloud.com/api/v1/projects/32672/sql', query_propiedades)\n",
    "    propiedades_data = propiedades_select['data']\n",
    "\n",
    "    # EXTRAER DATOS DE LOTES\n",
    "    propiedades = []\n",
    "    for prop in propiedades_data:\n",
    "        prop['lotes'] = []\n",
    "        query_lotes = {'query': \"select * from dataset_307563 where (estado_lote_2da = 'SEMBRADO' or estado_lote_2da = 'NO SEMBRADO') and prop_ref_lote=\\'{prop_ref_lote}\\'\".format(prop_ref_lote=prop['amigo_id'])}\n",
    "        lotes_select = amigocloud.get('https://app.amigocloud.com/api/v1/projects/32672/sql', query_lotes)\n",
    "        for lote_select in lotes_select['data']:\n",
    "            lote = collections.namedtuple(\"lote\", lote_select.keys())(*lote_select.values())\n",
    "            prop['lotes'].append(lote)\n",
    "        if len(prop['lotes']) > 0:\n",
    "            propiedades.append(collections.namedtuple(\"propiedad\", prop.keys())(*prop.values()))\n",
    "\n",
    "    # EXTRAER FOTOS\n",
    "    fotos = []\n",
    "    for propiedad in propiedades:\n",
    "        for lote in propiedad.lotes:\n",
    "            print(lote.lote, lote.amigo_id)\n",
    "            query_fotos = {'query': 'select source_amigo_id, s3_filename from gallery_48961 where source_amigo_id=\\'{source_amigo_id}\\''.format(source_amigo_id=lote.amigo_id)}\n",
    "            fotos_filename = amigocloud.get('https://app.amigocloud.com/api/v1/projects/32672/sql', query_fotos)\n",
    "            if fotos_filename['data'] != []:\n",
    "                dic = {'lote': lote.lote, 'file_name': fotos_filename['data'][0]['s3_filename']}\n",
    "                fotos.append(dic)\n",
    "\n",
    "    # GENERERAR PLANOS\n",
    "    i = 0\n",
    "    lista_planos = []\n",
    "    for propiedad in propiedades:\n",
    "        i = i + 1\n",
    "        lista_planos.append(generar_plano(propiedad, i))\n",
    "    \n",
    "    \n",
    "    # GENERAR QR\n",
    "    texto = '''\n",
    "--UTEA--\n",
    "--2DA INSPECCION CREDITO SIEMBRA--\n",
    "\n",
    "Codigo de Inspeccion: {cite}\n",
    "Fecha de 2da Inspeccion: {fecha}\n",
    "Nombre de Canero: {canero}\n",
    "Codigo Canero: {cod_ca}\n",
    "Total Solicitado: {soli}\n",
    "Total Area Insp.: {total_area} ha\n",
    "Estado de Insp.: {estado}\n",
    "Tecnico Responsable: {tecnico}'''\\\n",
    "    .format(\n",
    "        cite=str(credito.cite_2da_insp) + '-' + credito.fecha_2da_insp.split('/')[2], \n",
    "        fecha=credito.fecha_2da_insp, \n",
    "        canero=credito.canhero.split(' / ')[1],\n",
    "        cod_ca=credito.canhero.split(' / ')[0],\n",
    "        soli=credito.solicitado,\n",
    "        total_area=credito.total_2da_insp,\n",
    "        estado=credito.estado_2da_insp,\n",
    "        tecnico=credito.respon_2da_insp)\n",
    "    # Generar el código QR\n",
    "    qr = qrcode.QRCode(\n",
    "        version=1,\n",
    "        error_correction=qrcode.constants.ERROR_CORRECT_L,\n",
    "        box_size=10,\n",
    "        border=4,\n",
    "    )\n",
    "    qr.add_data(texto)\n",
    "    qr.make(fit=True)\n",
    "    \n",
    "    qr_img = qr.make_image(fill_color=\"black\", back_color=\"white\")\n",
    "    \n",
    "    cod_ca = credito.canhero.split(' / ')[0]\n",
    "    nom_ca = credito.canhero.split(' / ')[1]\n",
    "    filename_qr = \"qr_\" + cod_ca + '_CRS_' + credito.fecha_informe.replace('/', '-') + '_' + nom_ca\n",
    "    ruta_qr = ruta_completa + '/planos/' + filename_qr + '.png'\n",
    "    # Guardar el código QR en un archivo\n",
    "    qr_img.save(ruta_qr)\n",
    "\n",
    "    # GENERAR REPORTE\n",
    "    doc = DocxTemplate(ruta_completa + \"/templates/tpl_inf_credito_2da.docx\")\n",
    "    #generar lista de InlineImage de planos \n",
    "    lista_InlineImage = []\n",
    "    for plano in lista_planos:\n",
    "        lista_InlineImage.append(docxtpl.InlineImage(doc, image_descriptor=plano, width=Mm(150)))\n",
    "    #descargar fotos y generar lista InlineImage\n",
    "    lista_fotos_inline = []\n",
    "    for foto in fotos:\n",
    "        #response = requests.get(\"https://www-amigocloud.s3.amazonaws.com/gallery/\" + foto['file_name'])\n",
    "        response = requests.get(\"https://www-amigocloud.s3.amazonaws.com/gallery/\" + foto['file_name'])\n",
    "        file = open(ruta_completa + '/fotos/' + foto['file_name'], \"wb\")\n",
    "        file.write(response.content)\n",
    "        file.close()\n",
    "        lista_fotos_inline.append({'foto': docxtpl.InlineImage(doc, image_descriptor=ruta_completa+'/fotos/' + foto['file_name'], width=Mm(120)), 'lote': foto['lote']})\n",
    "    firma_respon = None\n",
    "    if credito.respon_2da_insp == 'Rogelio Acuña Rodríguez':\n",
    "        firma_respon = docxtpl.InlineImage(doc, image_descriptor=ruta_completa+'/templates/firma_rogelio.png', width=Mm(60))\n",
    "    else:\n",
    "        firma_respon = docxtpl.InlineImage(doc, image_descriptor=ruta_completa+'/templates/firma_jaldin.png', width=Mm(60))\n",
    "    # se crea obj inline par imagen QR\n",
    "    qr_file = docxtpl.InlineImage(doc, image_descriptor=ruta_qr, width=Mm(30))\n",
    "    \n",
    "    context = {'credito':credito, 'propiedades':propiedades, 'planos':lista_InlineImage, 'fotos':lista_fotos_inline, 'firma':firma_respon, 'qr':qr_file}\n",
    "    doc.render(context)\n",
    "    cod_ca = credito.canhero.split(' / ')[0]\n",
    "    nom_ca = credito.canhero.split(' / ')[1]\n",
    "    file_name = \"_\" + cod_ca + '_CRS_' + credito.fecha_informe.replace('/', '-') + '_' + nom_ca + '_' + str(credito.id)\n",
    "    doc.save(ruta_completa + '/informes/' + file_name + '.docx')"
   ]
  },
  {
   "cell_type": "code",
   "execution_count": 6,
   "id": "f90ffde3-b794-45c0-a48e-f69a592752af",
   "metadata": {},
   "outputs": [],
   "source": [
    "def generar_plano(propiedad, i):\n",
    "    lotes_lista = []\n",
    "    for lote in propiedad.lotes:\n",
    "        lotes_lista.append(lote._asdict())\n",
    "    df = pd.DataFrame(lotes_lista)\n",
    "    df['geometria'] = df['geometria'].apply(convertir_wkb)\n",
    "\n",
    "    #Convertir a GeoDataFrame\n",
    "    data = geopandas.GeoDataFrame(df, geometry='geometria')\n",
    "    #data\n",
    "    #ctx.add_basemap(ax, source=ctx.providers.Esri.WorldImagery)\n",
    "\n",
    "    data['coords'] = data['geometria'].apply(lambda x: x.representative_point().coords[:])\n",
    "    data['coords'] = [coords[0] for coords in data['coords']]\n",
    "\n",
    "    data.crs = \"EPSG:4326\"\n",
    "    data = data.to_crs(epsg=3857)\n",
    "\n",
    "    \n",
    "    fig = plt.figure(i, figsize=(20,20))\n",
    "    #fig = plt.figure(1)\n",
    "    ax = None\n",
    "    ax = fig.add_subplot()\n",
    "\n",
    "    #data.set_crs(epsg=4326, inplace=True)\n",
    "\n",
    "    data.apply(lambda x: ax.annotate(text=x.lote + ' \\n' + str(x.superficie) + ' ha', xy=x.geometria.centroid.coords[0], ha='center', va='center', color='black', fontsize=12, weight=1000, bbox=dict(facecolor=(1,1,1,0.3), edgecolor='none', pad=0)), axis=1);\n",
    "\n",
    "    #data.boundary.plot(ax=ax, color=(0,0,0,0), linewidth=0)\n",
    "\n",
    "    #data = data.to_crs(epsg=3857)\n",
    "\n",
    "    minx, miny, maxx, maxy = data.total_bounds\n",
    "    ax.set_xlim(minx - 500, maxx + 500)\n",
    "    ax.set_ylim(miny - 400, maxy + 400)\n",
    "\n",
    "    data.plot(ax=ax, edgecolor='r', facecolor=(0,0,0,0), linewidth=2, figsize=(20,20))\n",
    "    #data.plot(ax=ax, edgecolor='r', facecolor=(0,0,0,0), linewidth=2)\n",
    "    \n",
    "    ctx.add_basemap(ax, source=ctx.providers.Esri.WorldImagery)\n",
    "    ax.set_axis_off()\n",
    "    ax.set_title(str(propiedad.propiedad), fontsize=20)\n",
    "    path = ruta_completa + '/planos/' + str(propiedad.amigo_id) + '.jpeg'\n",
    "    fig.savefig(path, dpi = 300, bbox_inches='tight')\n",
    "    \n",
    "    plt.clf()\n",
    "    return path"
   ]
  },
  {
   "cell_type": "code",
   "execution_count": 7,
   "id": "057998b9-c93b-4559-87c9-e82742149a8a",
   "metadata": {},
   "outputs": [
    {
     "data": {
      "text/plain": [
       "'G:\\\\OneDrive - Ingenio Azucarero Guabira S.A\\\\_DATOS_PYTHON'"
      ]
     },
     "execution_count": 7,
     "metadata": {},
     "output_type": "execute_result"
    }
   ],
   "source": [
    "unidad = get_unidad_local()\n",
    "ruta = get_ruta_local()\n",
    "ruta_completa = os.path.join(unidad, ruta)\n",
    "ruta_completa"
   ]
  },
  {
   "cell_type": "code",
   "execution_count": 8,
   "id": "e3a7c513-dae4-4199-860d-745b66e236e8",
   "metadata": {},
   "outputs": [
    {
     "data": {
      "text/plain": [
       "'G:\\\\OneDrive - Ingenio Azucarero Guabira S.A\\\\_DATOS_PYTHON\\\\_keys\\\\client_secret_google_sheets.json'"
      ]
     },
     "execution_count": 8,
     "metadata": {},
     "output_type": "execute_result"
    }
   ],
   "source": [
    "path_file_gapi = unidad + r'\\OneDrive - Ingenio Azucarero Guabira S.A\\_DATOS_PYTHON\\_keys\\client_secret_google_sheets.json'\n",
    "path_file_gapi"
   ]
  },
  {
   "cell_type": "code",
   "execution_count": 9,
   "id": "f78ec737-093c-44bb-a782-1af54be4a65f",
   "metadata": {},
   "outputs": [
    {
     "name": "stdout",
     "output_type": "stream",
     "text": [
      "<amigocloud.AmigoCloud object at 0x0000022CD2BBCC70>\n"
     ]
    }
   ],
   "source": [
    "# Uso de la función\n",
    "amigocloud = get_amigocloud(ruta_completa)\n",
    "print(amigocloud)"
   ]
  },
  {
   "cell_type": "code",
   "execution_count": 21,
   "id": "e4cd18b4-2c5c-4d42-a40a-7f98bb6650d4",
   "metadata": {},
   "outputs": [],
   "source": [
    "semana = 'S18'\n",
    "query = {'query': 'select split_part(canhero, \\' / \\', 1) cod, split_part(canhero, \\' / \\', 2) nom from dataset_307560 where semana_2da = \\'{sem}\\''.format(sem=semana)}\n",
    "project = 'https://app.amigocloud.com/api/v1/projects/32672/sql'\n",
    "select = amigocloud.get(project, query)\n",
    "data = select['data']"
   ]
  },
  {
   "cell_type": "code",
   "execution_count": 22,
   "id": "4cb06cb9-c4eb-42ca-acf9-6156d769042b",
   "metadata": {},
   "outputs": [
    {
     "data": {
      "text/plain": [
       "[{'cod': '40004', 'nom': 'AGUILERA RIVERO NICOLAS JULIO'},\n",
       " {'cod': '41980', 'nom': 'CASANOVA VELASCO JULIO CESAR'},\n",
       " {'cod': '2626', 'nom': 'CONDORI QUEVEDO JORGE'},\n",
       " {'cod': '42229', 'nom': 'CANDIA ROJAS JOSE LUIS'},\n",
       " {'cod': '3412', 'nom': 'ESPINOZA VILLCA DIONICIO'}]"
      ]
     },
     "execution_count": 22,
     "metadata": {},
     "output_type": "execute_result"
    }
   ],
   "source": [
    "data"
   ]
  },
  {
   "cell_type": "code",
   "execution_count": 23,
   "id": "c9643d6a-4861-4ed3-b9ba-619aeaaeba46",
   "metadata": {},
   "outputs": [],
   "source": [
    "#lista = [1068, 18062, 10739, 41955, 2392, 15162, 2517, 8706, 15085, 430, 874, 5498, 2505, 2274]\n",
    "lista = [int(i['cod']) for i in data]"
   ]
  },
  {
   "cell_type": "code",
   "execution_count": 24,
   "id": "59340321-ace8-43b3-832b-75a531664da5",
   "metadata": {},
   "outputs": [
    {
     "name": "stdout",
     "output_type": "stream",
     "text": [
      "5 informes\n",
      "[40004, 41980, 2626, 42229, 3412]\n"
     ]
    }
   ],
   "source": [
    "print(len(lista), 'informes')\n",
    "print(lista)"
   ]
  },
  {
   "cell_type": "code",
   "execution_count": 26,
   "id": "70c4c82b-41de-461d-8a66-628ab505953f",
   "metadata": {},
   "outputs": [
    {
     "name": "stdout",
     "output_type": "stream",
     "text": [
      "B1 e041b314786f49cd834431aa0247b568\n",
      "A4 76ad7db0ef6f4db8b5e5737ed47839f9\n",
      "A1.2 76391fb7b28d46c3ae96aa9092fb49c9\n",
      "B7.1 7b3ecf2b653246859bf4952da1d39aef\n",
      "C21.2 16a9220254894851b6b781a31cf8ce07\n",
      "====================== 40004\n",
      "L8.1 b3db724481dd4e29b42f073786504d28\n",
      "L8.2 d1c34837173c45c7aadd3ed261ffbadb\n",
      "L11.1 e701da2856d04e0989946829b8a43fb1\n",
      "L11 0adbd11f5eaf4f008d78d9af3e9509df\n",
      "====================== 41980\n",
      "L1 6bc446cca5ba41d1a6dfb6087424ee77\n",
      "L2.2 50d7238f9b264ada9fe5d2269d9cee9d\n",
      "L2 b2fead85619749aea8a0c8df9a1af79f\n",
      "====================== 2626\n",
      "L8.1 3c44f03000df4f6fb458efffff283e67\n",
      "L6.2 0942438f05ca46da82d6a869ca365e33\n",
      "L3.1 3c524c5eaafe4781ab8652cea4230980\n",
      "L5.1 0b6ae1f4ee7e441b83b8457d35410886\n",
      "L6.1 43b0b064de234c99a4e4d6a2dee3866b\n",
      "L1.3 77b1e8e28d024f9b8c65534451abd545\n",
      "L5.3 cab1b3dd32ec45dc9903d9c7a242cc9d\n",
      "L1.2 1ef0677c433342b3ae97f8bea06dd941\n",
      "L5.2 d9955a671b4a408a90ac50f3cf871b21\n",
      "====================== 42229\n",
      "L2 A4FFE5B5402B402B8EEA376273984E3E\n",
      "====================== 3412\n"
     ]
    },
    {
     "data": {
      "text/plain": [
       "<Figure size 2000x2000 with 0 Axes>"
      ]
     },
     "metadata": {},
     "output_type": "display_data"
    },
    {
     "data": {
      "text/plain": [
       "<Figure size 2000x2000 with 0 Axes>"
      ]
     },
     "metadata": {},
     "output_type": "display_data"
    },
    {
     "data": {
      "text/plain": [
       "<Figure size 2000x2000 with 0 Axes>"
      ]
     },
     "metadata": {},
     "output_type": "display_data"
    }
   ],
   "source": [
    "for i in lista:\n",
    "    generar_reporte(i)\n",
    "    print('======================', i)"
   ]
  }
 ],
 "metadata": {
  "kernelspec": {
   "display_name": "Python 3 (ipykernel)",
   "language": "python",
   "name": "python3"
  },
  "language_info": {
   "codemirror_mode": {
    "name": "ipython",
    "version": 3
   },
   "file_extension": ".py",
   "mimetype": "text/x-python",
   "name": "python",
   "nbconvert_exporter": "python",
   "pygments_lexer": "ipython3",
   "version": "3.10.13"
  }
 },
 "nbformat": 4,
 "nbformat_minor": 5
}
