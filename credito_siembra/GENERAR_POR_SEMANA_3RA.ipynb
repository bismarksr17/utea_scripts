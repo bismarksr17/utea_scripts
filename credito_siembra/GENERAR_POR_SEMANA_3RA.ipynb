{
 "cells": [
  {
   "cell_type": "code",
   "execution_count": 28,
   "id": "665919a4-6184-4280-8c4c-64588f9131d6",
   "metadata": {
    "tags": []
   },
   "outputs": [],
   "source": [
    "import sys\n",
    "sys.path.append('../_amigocloud')\n",
    "\n",
    "from amigocloud import AmigoCloud\n",
    "\n",
    "from werkzeug.wrappers import Request, Response\n",
    "#from flask import Flask, render_template\n",
    "from jinja2 import Template\n",
    "\n",
    "#from datetime import date\n",
    "from datetime import datetime, timedelta\n",
    "\n",
    "import collections\n",
    "\n",
    "from datetime import datetime\n",
    "\n",
    "import os\n",
    "from shapely import wkb\n",
    "import geopandas\n",
    "import pandas as pd\n",
    "import contextily as ctx\n",
    "import matplotlib.pyplot as plt\n",
    "\n",
    "from docxtpl import DocxTemplate\n",
    "import docxtpl\n",
    "from docx.shared import Mm\n",
    "import requests\n",
    "\n",
    "import gspread\n",
    "from oauth2client.service_account import ServiceAccountCredentials\n",
    "\n",
    "def convertir_wkb(wkb_data):\n",
    "    return wkb.loads(wkb_data, hex=True)"
   ]
  },
  {
   "cell_type": "code",
   "execution_count": 29,
   "id": "12a64669-e69e-4e50-8ca9-949a487379eb",
   "metadata": {},
   "outputs": [],
   "source": [
    "def get_unidad_local():\n",
    "    try:\n",
    "        # ruta del archivo que contiene la información necesaria\n",
    "        with open('../../unidad_local.txt', 'r') as file:\n",
    "            unidad = file.readline().strip()\n",
    "            return unidad\n",
    "    except FileNotFoundError:\n",
    "        print(\"El archivo 'unidad_local.txt' no se encuentra en la ruta especificada.\")\n",
    "    return None\n",
    "\n",
    "def get_ruta_local():\n",
    "    try:\n",
    "        with open('../ruta_local.txt', 'r') as file:\n",
    "            ruta = file.readline().strip()\n",
    "            return ruta\n",
    "    except FileNotFoundError:\n",
    "        print(\"El archivo 'ruta_local.txt' no se encuentra en la ruta especificada.\")\n",
    "    return None\n",
    "\n",
    "def get_amigocloud(ruta_completa):\n",
    "    try:\n",
    "        with open(ruta_completa + r'\\_keys\\api_amigocloud_gral.key', 'r') as acceso:\n",
    "            api_token = acceso.readline().strip()\n",
    "        amigocloud = AmigoCloud(token=api_token)\n",
    "        return amigocloud\n",
    "    except FileNotFoundError:\n",
    "        print(\"El archivo 'api_amigocloud.key' no se encuentra en la ruta especificada.\")\n",
    "    return None"
   ]
  },
  {
   "cell_type": "code",
   "execution_count": 30,
   "id": "f78ec737-093c-44bb-a782-1af54be4a65f",
   "metadata": {
    "tags": []
   },
   "outputs": [
    {
     "data": {
      "text/plain": [
       "<amigocloud.AmigoCloud at 0x22b1d2ab160>"
      ]
     },
     "execution_count": 30,
     "metadata": {},
     "output_type": "execute_result"
    }
   ],
   "source": [
    "# ruta de carpera donde estan las llaves\n",
    "ruta = open('../unidad_local.txt')\n",
    "ruta = ruta.readlines()[0]\n",
    "\n",
    "unidad = get_unidad_local()\n",
    "ruta_ = get_ruta_local()\n",
    "ruta_completa = os.path.join(unidad, ruta_)\n",
    "ruta_completa\n",
    "\n",
    "# leer token\n",
    "acceso = open(ruta + '/_keys/api_amigocloud.key','r')\n",
    "api_token = acceso.readlines()[0]\n",
    "acceso.close()\n",
    "amigocloud = AmigoCloud(token=api_token)\n",
    "amigocloud"
   ]
  },
  {
   "cell_type": "code",
   "execution_count": 31,
   "id": "1934e5b7-03ea-4113-9cce-99aff4b0361c",
   "metadata": {},
   "outputs": [
    {
     "data": {
      "text/plain": [
       "'G:\\\\OneDrive - Ingenio Azucarero Guabira S.A\\\\_DATOS_PYTHON\\\\_keys\\\\client_secret_google_sheets.json'"
      ]
     },
     "execution_count": 31,
     "metadata": {},
     "output_type": "execute_result"
    }
   ],
   "source": [
    "path_file_gapi = unidad + r'\\OneDrive - Ingenio Azucarero Guabira S.A\\_DATOS_PYTHON\\_keys\\client_secret_google_sheets.json'\n",
    "path_file_gapi"
   ]
  },
  {
   "cell_type": "code",
   "execution_count": 32,
   "id": "b08b031a-8087-43af-9dbb-3fdb6f273875",
   "metadata": {},
   "outputs": [],
   "source": [
    "def crear_cite(cod_canhero, nom_canhero, tipo_reporte):\n",
    "    # Configura las credenciales\n",
    "    scope = [\"https://spreadsheets.google.com/feeds\",\n",
    "             'https://www.googleapis.com/auth/spreadsheets', \n",
    "             \"https://www.googleapis.com/auth/drive.file\", \n",
    "             \"https://www.googleapis.com/auth/drive\"]\n",
    "    creds = ServiceAccountCredentials.from_json_keyfile_name(path_file_gapi, scope)\n",
    "    client = gspread.authorize(creds)\n",
    "    # Abre la hoja de cálculo con ID y la hoja específica\n",
    "    spreadsheet = client.open_by_key(\"1Wbmmjy9s8JdXKP8qM_eA_OrCV--F1UZLnzQJ--ASOFI\")\n",
    "    sheet = spreadsheet.sheet1\n",
    "    # Lee los datos\n",
    "    data_sheet = sheet.get_all_records()\n",
    "    df = pd.DataFrame(data_sheet)\n",
    "    # Encuentra el número más grande y lo incrementamos y agrega un nuevo registro\n",
    "    max_value = df['No'].max()\n",
    "    no = int(max_value + 1)\n",
    "    # llenamos los demas campos\n",
    "    fecha = datetime.now().strftime(\"%d/%m/%Y\")\n",
    "    cod_ca = int(cod_canhero)\n",
    "    nom_ca = nom_canhero\n",
    "    tipo = tipo_reporte\n",
    "    #agregar el registro\n",
    "    sheet.append_row([no, fecha, cod_ca, nom_ca, tipo])\n",
    "    return no"
   ]
  },
  {
   "cell_type": "code",
   "execution_count": 33,
   "id": "671335c0-f848-4ced-9199-d1000c19c39b",
   "metadata": {
    "tags": []
   },
   "outputs": [],
   "source": [
    "def generar_reporte(codigo_canhero):\n",
    "    # EXTRAER DATOS DE CREDITO\n",
    "    query_credito = {'query': 'select * from dataset_307560 where cast(SPLIT_PART(canhero, \\'/\\', 1) as integer) = {cod_ca}'.format(cod_ca=codigo_canhero)}\n",
    "    credito_select = amigocloud.get('https://app.amigocloud.com/api/v1/projects/32672/sql', query_credito)\n",
    "    credito_data = credito_select['data'][0]\n",
    "    credito_data['fecha_informe'] = datetime.strptime(credito_data['fecha_3ra_insp'].split(' ')[0], '%Y-%m-%d').strftime('%d/%m/%Y')\n",
    "    credito_data['fecha_3ra_insp'] = datetime.strptime(credito_data['fecha_3ra_insp'].split(' ')[0], '%Y-%m-%d').strftime('%d/%m/%Y')\n",
    "\n",
    "    cite = crear_cite(credito_data['canhero'].split(' / ')[0], credito_data['canhero'].split(' / ')[1], 'CRS')\n",
    "    credito_data['cite_3ra_insp'] = cite\n",
    "    \n",
    "    credito = collections.namedtuple(\"credito\", credito_data.keys())(*credito_data.values())\n",
    "\n",
    "    # EXTRAER DATOS DE PROPIEDADES\n",
    "    # query_propiedades = {'query': 'select * from dataset_282968 where cre_ref_prop = \\'{cre_ref_prop}\\''.format(cre_ref_prop=credito.amigo_id)}\n",
    "    query_propiedades = {'query': 'select prop.propiedad, prop.amigo_id from dataset_307562 prop inner join dataset_307563 lotes on lotes.prop_ref_lote=prop.amigo_id where insp_ref_prop=\\'{cre_ref_prop}\\' and (lotes.estado_de_siembra=\\'CAÑA NACIDA\\' or lotes.estado_de_siembra=\\'CAÑA NO NACIDA\\') group by prop.propiedad, prop.amigo_id'.format(cre_ref_prop=credito.amigo_id)}\n",
    "    propiedades_select = amigocloud.get('https://app.amigocloud.com/api/v1/projects/32672/sql', query_propiedades)    \n",
    "    \n",
    "    propiedades_data = propiedades_select['data']\n",
    "\n",
    "    # EXTRAER DATOS DE LOTES\n",
    "    propiedades = []\n",
    "    for prop in propiedades_data:\n",
    "        prop['lotes'] = []\n",
    "        query_lotes = {'query': 'select * from dataset_307563 where prop_ref_lote=\\'{prop_ref_lote}\\' and (estado_de_siembra=\\'CAÑA NACIDA\\' or estado_de_siembra=\\'CAÑA NO NACIDA\\')'.format(prop_ref_lote=prop['amigo_id'])}\n",
    "        lotes_select = amigocloud.get('https://app.amigocloud.com/api/v1/projects/32672/sql', query_lotes)\n",
    "        for lote_select in lotes_select['data']:\n",
    "            lote = collections.namedtuple(\"lote\", lote_select.keys())(*lote_select.values())\n",
    "            prop['lotes'].append(lote)\n",
    "        propiedades.append(collections.namedtuple(\"propiedad\", prop.keys())(*prop.values()))\n",
    "\n",
    "    # EXTRAER FOTOS\n",
    "    fotos = []\n",
    "    for propiedad in propiedades:\n",
    "        for lote in propiedad.lotes:\n",
    "            print(lote.lote, lote.amigo_id)\n",
    "            query_fotos = {'query': 'select source_amigo_id, s3_filename from gallery_58438 where source_amigo_id=\\'{source_amigo_id}\\''.format(source_amigo_id=lote.amigo_id)}\n",
    "            fotos_filename = amigocloud.get('https://app.amigocloud.com/api/v1/projects/32672/sql', query_fotos)\n",
    "            if fotos_filename['data'] != []:\n",
    "                dic = {'lote': lote.lote, 'file_name': fotos_filename['data'][0]['s3_filename']}\n",
    "                fotos.append(dic)\n",
    "\n",
    "    # GENERERAR PLANOS\n",
    "    i = 0\n",
    "    lista_planos = []\n",
    "    for propiedad in propiedades:\n",
    "        i = i + 1\n",
    "        lista_planos.append(generar_plano(propiedad, i))\n",
    "\n",
    "\n",
    "    # GENERAR REPORTE\n",
    "    doc = DocxTemplate(ruta + \"/templates/tpl_inf_credito_3ra.docx\")\n",
    "    #generar lista de InlineImage de planos \n",
    "    lista_InlineImage = []\n",
    "    for plano in lista_planos:\n",
    "        lista_InlineImage.append(docxtpl.InlineImage(doc, image_descriptor=plano, width=Mm(150)))\n",
    "    #descargar fotos y generar lista InlineImage\n",
    "    lista_fotos_inline = []\n",
    "    for foto in fotos:\n",
    "        #response = requests.get(\"https://www-amigocloud.s3.amazonaws.com/gallery/\" + foto['file_name'])\n",
    "        response = requests.get(\"https://www-amigocloud.s3.amazonaws.com/gallery/\" + foto['file_name'])\n",
    "        file = open(ruta + '/fotos/' + foto['file_name'], \"wb\")\n",
    "        file.write(response.content)\n",
    "        file.close()\n",
    "        lista_fotos_inline.append({'foto': docxtpl.InlineImage(doc, image_descriptor=ruta + '/fotos/' + foto['file_name'], width=Mm(120)), 'lote': foto['lote']})\n",
    "    firma_respon = None\n",
    "    if credito.respon_2da_insp == 'Juan Pablo Jaldin Duran':\n",
    "        firma_respon = docxtpl.InlineImage(doc, image_descriptor=ruta + '/templates/firma_jaldin.png', width=Mm(60))\n",
    "    else:\n",
    "        firma_respon = docxtpl.InlineImage(doc, image_descriptor=ruta + '/templates/firma_rogelio.png', width=Mm(60))\n",
    "    context = {'credito':credito, 'propiedades':propiedades, 'planos':lista_InlineImage, 'fotos':lista_fotos_inline, 'firma':firma_respon}\n",
    "    doc.render(context)\n",
    "    cod_ca = credito.canhero.split(' / ')[0]\n",
    "    nom_ca = credito.canhero.split(' / ')[1]\n",
    "    file_name = file_name = '_' + cod_ca + '_CRS_' + credito.fecha_3ra_insp.replace('/', '-') + '_' + nom_ca + '_' + str(credito.id)\n",
    "    doc.save(ruta + '/informes/' + file_name + '.docx')"
   ]
  },
  {
   "cell_type": "code",
   "execution_count": 34,
   "id": "f90ffde3-b794-45c0-a48e-f69a592752af",
   "metadata": {
    "tags": []
   },
   "outputs": [],
   "source": [
    "def generar_plano(propiedad, i):\n",
    "    lotes_lista = []\n",
    "    for lote in propiedad.lotes:\n",
    "        lotes_lista.append(lote._asdict())\n",
    "    df = pd.DataFrame(lotes_lista)\n",
    "    df['geometria'] = df['geometria'].apply(convertir_wkb)\n",
    "\n",
    "    #Convertir a GeoDataFrame\n",
    "    data = geopandas.GeoDataFrame(df, geometry='geometria')\n",
    "    #data\n",
    "    #ctx.add_basemap(ax, source=ctx.providers.Esri.WorldImagery)\n",
    "\n",
    "    data['coords'] = data['geometria'].apply(lambda x: x.representative_point().coords[:])\n",
    "    data['coords'] = [coords[0] for coords in data['coords']]\n",
    "    \n",
    "    \n",
    "    data.crs = \"EPSG:4326\"\n",
    "    data = data.to_crs(epsg=3857)\n",
    "    print(data.crs.name)\n",
    "    \n",
    "    fig = plt.figure(i, figsize=(20,20))\n",
    "    #fig = plt.figure(1)\n",
    "    ax = None\n",
    "    ax = fig.add_subplot()\n",
    "\n",
    "    #data.set_crs(epsg=4326, inplace=True)\n",
    "\n",
    "    data.apply(lambda x: ax.annotate(text=x.lote + ' \\n' + str(x.superficie) + ' ha', xy=x.geometria.centroid.coords[0], ha='center', va='center', color='black', fontsize=12, weight=1000, bbox=dict(facecolor=(1,1,1,0.3), edgecolor='none', pad=0)), axis=1);\n",
    "\n",
    "    #data.boundary.plot(ax=ax, color=(0,0,0,0), linewidth=0)\n",
    "\n",
    "    #data = data.to_crs(epsg=3857)\n",
    "\n",
    "    minx, miny, maxx, maxy = data.total_bounds\n",
    "    ax.set_xlim(minx - 500, maxx + 500)\n",
    "    ax.set_ylim(miny - 400, maxy + 400)\n",
    "\n",
    "    data.plot(ax=ax, edgecolor='r', facecolor=(0,0,0,0), linewidth=2, figsize=(20,20))\n",
    "    #data.plot(ax=ax, edgecolor='r', facecolor=(0,0,0,0), linewidth=2)\n",
    "    \n",
    "    ctx.add_basemap(ax, source=ctx.providers.Esri.WorldImagery)\n",
    "    ax.set_axis_off()\n",
    "    ax.set_title(str(propiedad.propiedad), fontsize=20)\n",
    "    ruta_plano = ruta + '/planos/' + str(propiedad.amigo_id) + '.jpeg'\n",
    "    fig.savefig(ruta_plano, dpi = 300, bbox_inches='tight')\n",
    "    plt.clf()\n",
    "    return ruta_plano"
   ]
  },
  {
   "cell_type": "code",
   "execution_count": 40,
   "id": "087099cc-c534-4e27-bcce-15a11a372167",
   "metadata": {
    "tags": []
   },
   "outputs": [],
   "source": [
    "semana = 'S32'\n",
    "query = {'query': 'select split_part(canhero, \\' / \\', 1) cod, split_part(canhero, \\' / \\', 2) nom from dataset_307560 where semana_3ra = \\'{sem}\\''.format(sem=semana)}\n",
    "project = 'https://app.amigocloud.com/api/v1/projects/32672/sql'\n",
    "select = amigocloud.get(project, query)\n",
    "data = select['data']"
   ]
  },
  {
   "cell_type": "code",
   "execution_count": 41,
   "id": "9849c6ee-9d80-404e-81d0-28b79513cc20",
   "metadata": {
    "tags": []
   },
   "outputs": [
    {
     "data": {
      "text/plain": [
       "[{'cod': '20055', 'nom': 'FRANCO ARIAS EDGAR'},\n",
       " {'cod': '40256', 'nom': 'INSERVA DAMIANA S.R.L'},\n",
       " {'cod': '42378', 'nom': 'CANDIA RUIZ ORLANDO'},\n",
       " {'cod': '17678', 'nom': 'ESPINOZA JUANA MAIDA DE'},\n",
       " {'cod': '3473', 'nom': 'ESCALERA FRANCO JORGE'},\n",
       " {'cod': '1165', 'nom': 'BEJARANO GANDARILLA ERWIN'},\n",
       " {'cod': '2351', 'nom': 'CANDIA RUIZ ADALBERTO'},\n",
       " {'cod': '42135', 'nom': 'RODRIGUEZ ESPERANZA'},\n",
       " {'cod': '9850', 'nom': 'OVANDO HUALLPA TIBURCIO'},\n",
       " {'cod': '551', 'nom': 'AQUINO PAITA ELIAS'}]"
      ]
     },
     "execution_count": 41,
     "metadata": {},
     "output_type": "execute_result"
    }
   ],
   "source": [
    "data"
   ]
  },
  {
   "cell_type": "code",
   "execution_count": 42,
   "id": "18543415-df34-4ac7-9299-e5eee01b5c69",
   "metadata": {
    "tags": []
   },
   "outputs": [],
   "source": [
    "# lista = [430, 40270, 13132, 874, 41966, 11798, 41544, 14993, 644, 1068, 13763, 2220, 1858, 2719]\n",
    "lista = [i['cod'] for i in data]"
   ]
  },
  {
   "cell_type": "code",
   "execution_count": 43,
   "id": "92a9db86-ca60-4e4f-bab5-15532a6a160f",
   "metadata": {
    "tags": []
   },
   "outputs": [
    {
     "data": {
      "text/plain": [
       "['20055',\n",
       " '40256',\n",
       " '42378',\n",
       " '17678',\n",
       " '3473',\n",
       " '1165',\n",
       " '2351',\n",
       " '42135',\n",
       " '9850',\n",
       " '551']"
      ]
     },
     "execution_count": 43,
     "metadata": {},
     "output_type": "execute_result"
    }
   ],
   "source": [
    "lista"
   ]
  },
  {
   "cell_type": "code",
   "execution_count": 28,
   "id": "15cc43c1-3ac5-490b-b0cb-eddf48adddbc",
   "metadata": {},
   "outputs": [],
   "source": [
    "lista = [8842]"
   ]
  },
  {
   "cell_type": "code",
   "execution_count": 44,
   "id": "48d79f54-6869-432f-8076-3a928eff1753",
   "metadata": {
    "tags": []
   },
   "outputs": [
    {
     "name": "stdout",
     "output_type": "stream",
     "text": [
      "L3 3713854500db435c9d8f8f613d13be0d\n",
      "L7.1 7d6c97c721de4d72a01c21f5d387dee9\n",
      "L2.1 d683abd5a3fb4b669c68cf9c469083c5\n",
      "L5 8a765548b27247e7a526f94e69e48d60\n",
      "L4.1 c22893083cdc4fdca108f475d185cfa7\n",
      "WGS 84 / Pseudo-Mercator\n",
      "====================== 20055\n",
      "L9.2.2 0f626254b74a4e92b3a48b4f34dcbef7\n",
      "L16.2 a78b457d1f9543a18e766555387a4370\n",
      "L20.2 709d0f87fffa41ad96d91c74b9e5390f\n",
      "L1.1 91fb30c0f8c14893be174f75b6b75c41\n",
      "L16.4 dcba2f04c6914c5f9c956fae2c1fd14d\n",
      "L17.2 2e9506c96e2f44988845e132c51c2e18\n",
      "L6.4 ad4a558a5e624a759c1c6a340afd7e95\n",
      "L4.2 2b468218e7b84e4c8a839ea497bff42c\n",
      "L2.3 a4d7e444af28420ab66e5d56cb20d5c2\n",
      "L6.3 2c8639dc38d44e7cbcc230eddc452963\n",
      "L1.1 c67c4f6255a94bb99b0c76334c54c81d\n",
      "L5.1 0ec7609c6851474c9644c89be21f4c00\n",
      "L23.3 dfcde4b1563041379aba76f276a3b484\n",
      "L23.5 e7bda801791340b59e07ce9f21470763\n",
      "L26.3 5c471c10ce534cc3ba10e3cca4368a63\n",
      "L22.3 6614fa10ce4849dda1062855fe37ad66\n",
      "WGS 84 / Pseudo-Mercator\n",
      "WGS 84 / Pseudo-Mercator\n",
      "====================== 40256\n",
      "L14 95f2a84f621e4b84ab95c7bfb13936ae\n",
      "WGS 84 / Pseudo-Mercator\n",
      "====================== 42378\n",
      "L1.5 4cb2f023d1c648229a1430ca86b997e1\n",
      "L2.2 a3f17f94fe7243eca6150c34202a2e4c\n",
      "L3 a3dc8018fc6f4c6ab44d7df4a507fae5\n",
      "L1.2 cfeb883f2d1a40c8a014d32c765a0e58\n",
      "WGS 84 / Pseudo-Mercator\n",
      "WGS 84 / Pseudo-Mercator\n",
      "====================== 17678\n",
      "L3 fb6691902afd49419dc34f8c816f80f9\n",
      "L4 53c907ea0151424aad197d4de4b481ba\n",
      "L4 92b35a802ff54262adc63ace4e2059cb\n",
      "L1 cf1df222084b40279ae557bac47e4207\n",
      "WGS 84 / Pseudo-Mercator\n",
      "WGS 84 / Pseudo-Mercator\n",
      "WGS 84 / Pseudo-Mercator\n",
      "====================== 3473\n",
      "L6 35770616f9be48769f2bd9ca01cbfb32\n",
      "L2 7a1bcbbaa41f41a697e18b3e7cce22d3\n",
      "WGS 84 / Pseudo-Mercator\n",
      "====================== 1165\n",
      "L9.1 983f533d1d7d49138392b5b51db22a44\n",
      "WGS 84 / Pseudo-Mercator\n",
      "====================== 2351\n",
      "L3 2ff7f878a1054654af2b70e631b3d41c\n",
      "L2 17c5a4fdd9664f23ab9e112911428bee\n",
      "WGS 84 / Pseudo-Mercator\n",
      "====================== 42135\n",
      "L2 38ee8f994f3a493b8dd3d451b8e75726\n",
      "WGS 84 / Pseudo-Mercator\n",
      "====================== 9850\n",
      "L2 2bc760ef60fc44d8aa97f2ca3cc78ad8\n",
      "L2.1 82645a6d4293438e80468b3136fff142\n",
      "WGS 84 / Pseudo-Mercator\n",
      "====================== 551\n"
     ]
    },
    {
     "data": {
      "text/plain": [
       "<Figure size 2000x2000 with 0 Axes>"
      ]
     },
     "metadata": {},
     "output_type": "display_data"
    },
    {
     "data": {
      "text/plain": [
       "<Figure size 2000x2000 with 0 Axes>"
      ]
     },
     "metadata": {},
     "output_type": "display_data"
    },
    {
     "data": {
      "text/plain": [
       "<Figure size 2000x2000 with 0 Axes>"
      ]
     },
     "metadata": {},
     "output_type": "display_data"
    }
   ],
   "source": [
    "for i in lista:\n",
    "    generar_reporte(i)\n",
    "    print('======================', i)"
   ]
  }
 ],
 "metadata": {
  "kernelspec": {
   "display_name": "Python 3 (ipykernel)",
   "language": "python",
   "name": "python3"
  },
  "language_info": {
   "codemirror_mode": {
    "name": "ipython",
    "version": 3
   },
   "file_extension": ".py",
   "mimetype": "text/x-python",
   "name": "python",
   "nbconvert_exporter": "python",
   "pygments_lexer": "ipython3",
   "version": "3.10.13"
  }
 },
 "nbformat": 4,
 "nbformat_minor": 5
}
