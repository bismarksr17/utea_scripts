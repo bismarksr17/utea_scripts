{
 "cells": [
  {
   "cell_type": "markdown",
   "id": "18a80bc5",
   "metadata": {},
   "source": [
    "# INSTALAR LIBRERIAS"
   ]
  },
  {
   "cell_type": "code",
   "execution_count": 1,
   "id": "7e312719",
   "metadata": {},
   "outputs": [],
   "source": [
    "# !pip install docx2pdf\n",
    "#pip install ipywidgets"
   ]
  },
  {
   "cell_type": "markdown",
   "id": "7e934ca6",
   "metadata": {},
   "source": [
    "# IMPORTAR"
   ]
  },
  {
   "cell_type": "code",
   "execution_count": 1,
   "id": "508a28c7",
   "metadata": {},
   "outputs": [],
   "source": [
    "from docx2pdf import convert\n",
    "import os"
   ]
  },
  {
   "cell_type": "markdown",
   "id": "64ec4ba6",
   "metadata": {},
   "source": [
    "# CONSTRUIR LA RUTA DE LOS ARCHIVOS"
   ]
  },
  {
   "cell_type": "code",
   "execution_count": 2,
   "id": "cdd1c78b-ef20-462c-8de1-034c31d4b386",
   "metadata": {},
   "outputs": [],
   "source": [
    "# ruta de carpera donde estan las llaves\n",
    "ruta = open('../../../unidad_local.txt')\n",
    "ruta = ruta.readlines()[0]"
   ]
  },
  {
   "cell_type": "code",
   "execution_count": 3,
   "id": "0f5156e8-5e9e-420c-88a5-18dbb46d4511",
   "metadata": {},
   "outputs": [
    {
     "data": {
      "text/plain": [
       "'G:\\\\OneDrive - Ingenio Azucarero Guabira S.A\\\\_DATOS_PYTHON'"
      ]
     },
     "execution_count": 3,
     "metadata": {},
     "output_type": "execute_result"
    }
   ],
   "source": [
    "ruta"
   ]
  },
  {
   "cell_type": "code",
   "execution_count": 4,
   "id": "1fc560f3",
   "metadata": {},
   "outputs": [
    {
     "name": "stdout",
     "output_type": "stream",
     "text": [
      "SE ENCONTRARON 108 INFORMES\n",
      "108 INFORMES\n"
     ]
    },
    {
     "data": {
      "text/plain": [
       "['G:\\\\OneDrive - Ingenio Azucarero Guabira S.A\\\\_DATOS_PYTHON/informes/0_INSP_08-08-2025_UTEA_PROPIEDAD_BOLIVIA.docx',\n",
       " 'G:\\\\OneDrive - Ingenio Azucarero Guabira S.A\\\\_DATOS_PYTHON/informes/0_INSP_08-08-2025_UTEA_PROPIEDAD_BOLIVIA.pdf',\n",
       " 'G:\\\\OneDrive - Ingenio Azucarero Guabira S.A\\\\_DATOS_PYTHON/informes/11191_IDCQ_15-07-2025_QUIROZ OLGUIN DEISY_228.docx',\n",
       " 'G:\\\\OneDrive - Ingenio Azucarero Guabira S.A\\\\_DATOS_PYTHON/informes/1182_IDCQ_15-07-2025_BOHORQUEZ FERNANDEZ NICANOR_224.docx',\n",
       " 'G:\\\\OneDrive - Ingenio Azucarero Guabira S.A\\\\_DATOS_PYTHON/informes/12105_CRS_19-06-2025_ROCA REYES MIGUEL ANGEL_542.docx',\n",
       " 'G:\\\\OneDrive - Ingenio Azucarero Guabira S.A\\\\_DATOS_PYTHON/informes/15195_IDCQ_15-07-2025_VEIZAGA ENRIQUEZ GUSTAVO_223.docx',\n",
       " 'G:\\\\OneDrive - Ingenio Azucarero Guabira S.A\\\\_DATOS_PYTHON/informes/1843_INSP_05-08-2025_CATALA ABREGO SEGISMUNDO.docx',\n",
       " 'G:\\\\OneDrive - Ingenio Azucarero Guabira S.A\\\\_DATOS_PYTHON/informes/1843_INSP_05-08-2025_CATALA ABREGO SEGISMUNDO.pdf',\n",
       " 'G:\\\\OneDrive - Ingenio Azucarero Guabira S.A\\\\_DATOS_PYTHON/informes/2517_IDCQ_15-07-2025_CHAMBI RODRIGUEZ MARIO_232.docx',\n",
       " 'G:\\\\OneDrive - Ingenio Azucarero Guabira S.A\\\\_DATOS_PYTHON/informes/40250_CRS_19-06-2025_AMURRIO MELGAROJO BISMARK ELISEO_482.docx',\n",
       " 'G:\\\\OneDrive - Ingenio Azucarero Guabira S.A\\\\_DATOS_PYTHON/informes/41591_CRS_04-06-2025_BENAVIDES GARCIA GABINO_484.docx',\n",
       " 'G:\\\\OneDrive - Ingenio Azucarero Guabira S.A\\\\_DATOS_PYTHON/informes/41978_IDCQ_15-07-2025_JANKO ALANES RELINDA_231.docx',\n",
       " 'G:\\\\OneDrive - Ingenio Azucarero Guabira S.A\\\\_DATOS_PYTHON/informes/42239_CRS_13-06-2025_CORDOVA OLGUIN LEONARDO_563.docx',\n",
       " 'G:\\\\OneDrive - Ingenio Azucarero Guabira S.A\\\\_DATOS_PYTHON/informes/556_IDCQ_15-07-2025_AYALA ESPINOSA WALDO SELUB_225.docx',\n",
       " 'G:\\\\OneDrive - Ingenio Azucarero Guabira S.A\\\\_DATOS_PYTHON/informes/624_IDCQ_15-07-2025_ALVAREZ BLANCO HERNAN_227.docx',\n",
       " 'G:\\\\OneDrive - Ingenio Azucarero Guabira S.A\\\\_DATOS_PYTHON/informes/644_INSP_05-08-2025_ANTELO ANTELO ARIEL.docx',\n",
       " 'G:\\\\OneDrive - Ingenio Azucarero Guabira S.A\\\\_DATOS_PYTHON/informes/644_INSP_05-08-2025_ANTELO ANTELO ARIEL.pdf',\n",
       " 'G:\\\\OneDrive - Ingenio Azucarero Guabira S.A\\\\_DATOS_PYTHON/informes/6592_IDCQ_15-07-2025_JANKO ALANES JUANITO_226.docx',\n",
       " 'G:\\\\OneDrive - Ingenio Azucarero Guabira S.A\\\\_DATOS_PYTHON/informes/8838_CRS_18-06-2025_MENDEZ PAZ MIRYAM_492.docx',\n",
       " 'G:\\\\OneDrive - Ingenio Azucarero Guabira S.A\\\\_DATOS_PYTHON/informes/9722_IDCQ_15-07-2025_OLGUIN FLORES MIGUELINA_229.docx',\n",
       " 'G:\\\\OneDrive - Ingenio Azucarero Guabira S.A\\\\_DATOS_PYTHON/informes/quemas',\n",
       " 'G:\\\\OneDrive - Ingenio Azucarero Guabira S.A\\\\_DATOS_PYTHON/informes/_10260_IDCQ_11-08-2025_PARADA MENDEZ MIGUEL_282.docx',\n",
       " 'G:\\\\OneDrive - Ingenio Azucarero Guabira S.A\\\\_DATOS_PYTHON/informes/_10260_IDCQ_11-08-2025_PARADA MENDEZ MIGUEL_282.pdf',\n",
       " 'G:\\\\OneDrive - Ingenio Azucarero Guabira S.A\\\\_DATOS_PYTHON/informes/_11191_IDCQ_05-07-2025_QUIROZ OLGUIN DEISY_217.docx',\n",
       " 'G:\\\\OneDrive - Ingenio Azucarero Guabira S.A\\\\_DATOS_PYTHON/informes/_11617_IDCQ_17-07-2025_REYES ANTELO DAVID EZEQUIEL_242.docx',\n",
       " 'G:\\\\OneDrive - Ingenio Azucarero Guabira S.A\\\\_DATOS_PYTHON/informes/_11659_IDCQ_05-08-2025_ROCHA PRIMITIVA VASQUEZ DE_277.docx',\n",
       " 'G:\\\\OneDrive - Ingenio Azucarero Guabira S.A\\\\_DATOS_PYTHON/informes/_11659_IDCQ_05-08-2025_ROCHA PRIMITIVA VASQUEZ DE_277.pdf',\n",
       " 'G:\\\\OneDrive - Ingenio Azucarero Guabira S.A\\\\_DATOS_PYTHON/informes/_1196_IDCQ_23-07-2025_BALDELOMAR MONTERO LITZER_262.docx',\n",
       " 'G:\\\\OneDrive - Ingenio Azucarero Guabira S.A\\\\_DATOS_PYTHON/informes/_1196_IDCQ_23-07-2025_BALDELOMAR MONTERO LITZER_262.pdf',\n",
       " 'G:\\\\OneDrive - Ingenio Azucarero Guabira S.A\\\\_DATOS_PYTHON/informes/_12118_IDCQ_11-08-2025_ROSAS CASTRO PATRICIA_285.docx',\n",
       " 'G:\\\\OneDrive - Ingenio Azucarero Guabira S.A\\\\_DATOS_PYTHON/informes/_12118_IDCQ_11-08-2025_ROSAS CASTRO PATRICIA_285.pdf',\n",
       " 'G:\\\\OneDrive - Ingenio Azucarero Guabira S.A\\\\_DATOS_PYTHON/informes/_12478_ECO_28-07-2025_SERRATE COLAMARINO HUGO_672.docx',\n",
       " 'G:\\\\OneDrive - Ingenio Azucarero Guabira S.A\\\\_DATOS_PYTHON/informes/_12478_ECO_28-07-2025_SERRATE COLAMARINO HUGO_672.pdf',\n",
       " 'G:\\\\OneDrive - Ingenio Azucarero Guabira S.A\\\\_DATOS_PYTHON/informes/_13480_IDCQ_24-07-2025_TAPIA MARTINEZ FRANCISCO_270.docx',\n",
       " 'G:\\\\OneDrive - Ingenio Azucarero Guabira S.A\\\\_DATOS_PYTHON/informes/_13480_IDCQ_24-07-2025_TAPIA MARTINEZ FRANCISCO_270.pdf',\n",
       " 'G:\\\\OneDrive - Ingenio Azucarero Guabira S.A\\\\_DATOS_PYTHON/informes/_14826_IDCQ_04-08-2025_VELASQUEZ CLAROS JACINTO_276.docx',\n",
       " 'G:\\\\OneDrive - Ingenio Azucarero Guabira S.A\\\\_DATOS_PYTHON/informes/_14826_IDCQ_04-08-2025_VELASQUEZ CLAROS JACINTO_276.pdf',\n",
       " 'G:\\\\OneDrive - Ingenio Azucarero Guabira S.A\\\\_DATOS_PYTHON/informes/_14826_IDCQ_16-07-2025_VELASQUEZ CLAROS JACINTO_241.docx',\n",
       " 'G:\\\\OneDrive - Ingenio Azucarero Guabira S.A\\\\_DATOS_PYTHON/informes/_15162_IDCQ_14-07-2025_VELASCO ANEZ MARCO ANTONIO_221.docx',\n",
       " 'G:\\\\OneDrive - Ingenio Azucarero Guabira S.A\\\\_DATOS_PYTHON/informes/_15162_IDCQ_14-07-2025_VELASCO ANEZ MARCO ANTONIO_221.pdf',\n",
       " 'G:\\\\OneDrive - Ingenio Azucarero Guabira S.A\\\\_DATOS_PYTHON/informes/_15501_CDC_01-08-2025_WENDE RIOJA MAURICIO_184.docx',\n",
       " 'G:\\\\OneDrive - Ingenio Azucarero Guabira S.A\\\\_DATOS_PYTHON/informes/_15501_CDC_01-08-2025_WENDE RIOJA MAURICIO_184.pdf',\n",
       " 'G:\\\\OneDrive - Ingenio Azucarero Guabira S.A\\\\_DATOS_PYTHON/informes/_15501_CDC_08-08-2025_WENDE RIOJA MAURICIO_185.docx',\n",
       " 'G:\\\\OneDrive - Ingenio Azucarero Guabira S.A\\\\_DATOS_PYTHON/informes/_15501_CDC_08-08-2025_WENDE RIOJA MAURICIO_185.pdf',\n",
       " 'G:\\\\OneDrive - Ingenio Azucarero Guabira S.A\\\\_DATOS_PYTHON/informes/_15501_CDC_08-08-2025_WENDE RIOJA MAURICIO_186.docx',\n",
       " 'G:\\\\OneDrive - Ingenio Azucarero Guabira S.A\\\\_DATOS_PYTHON/informes/_15501_CDC_08-08-2025_WENDE RIOJA MAURICIO_186.pdf',\n",
       " 'G:\\\\OneDrive - Ingenio Azucarero Guabira S.A\\\\_DATOS_PYTHON/informes/_15501_CDC_19-07-2025_WENDE RIOJA MAURICIO_182.docx',\n",
       " 'G:\\\\OneDrive - Ingenio Azucarero Guabira S.A\\\\_DATOS_PYTHON/informes/_15501_CDC_26-07-2025_WENDE RIOJA MAURICIO_183.docx',\n",
       " 'G:\\\\OneDrive - Ingenio Azucarero Guabira S.A\\\\_DATOS_PYTHON/informes/_15501_CDC_26-07-2025_WENDE RIOJA MAURICIO_183.pdf',\n",
       " 'G:\\\\OneDrive - Ingenio Azucarero Guabira S.A\\\\_DATOS_PYTHON/informes/_15928_IDCQ_21-07-2025_YUPANQUI CONDORI EDSON_260.docx',\n",
       " 'G:\\\\OneDrive - Ingenio Azucarero Guabira S.A\\\\_DATOS_PYTHON/informes/_15928_IDCQ_21-07-2025_YUPANQUI CONDORI EDSON_260.pdf',\n",
       " 'G:\\\\OneDrive - Ingenio Azucarero Guabira S.A\\\\_DATOS_PYTHON/informes/_15928_IDCQ_27-06-2025_YUPANQUI CONDORI EDSON_212.docx',\n",
       " 'G:\\\\OneDrive - Ingenio Azucarero Guabira S.A\\\\_DATOS_PYTHON/informes/_17680_IDCQ_05-08-2025_BALDELOMAR HIDALGO JULIETA_279.docx',\n",
       " 'G:\\\\OneDrive - Ingenio Azucarero Guabira S.A\\\\_DATOS_PYTHON/informes/_17680_IDCQ_05-08-2025_BALDELOMAR HIDALGO JULIETA_279.pdf',\n",
       " 'G:\\\\OneDrive - Ingenio Azucarero Guabira S.A\\\\_DATOS_PYTHON/informes/_2446_IDCQ_11-08-2025_CORDOVA SEJAS ALCIDES_281.docx',\n",
       " 'G:\\\\OneDrive - Ingenio Azucarero Guabira S.A\\\\_DATOS_PYTHON/informes/_2446_IDCQ_11-08-2025_CORDOVA SEJAS ALCIDES_281.pdf',\n",
       " 'G:\\\\OneDrive - Ingenio Azucarero Guabira S.A\\\\_DATOS_PYTHON/informes/_2569_ECO_01-08-2025_AGROPECUARIA CUPESI VARGAS SRL._675.docx',\n",
       " 'G:\\\\OneDrive - Ingenio Azucarero Guabira S.A\\\\_DATOS_PYTHON/informes/_2579_IDCQ_17-07-2025_CLAURE OVANDO ELENA_245.docx',\n",
       " 'G:\\\\OneDrive - Ingenio Azucarero Guabira S.A\\\\_DATOS_PYTHON/informes/_2588_IDCQ_25-07-2025_CUELLAR SALAZAR RUDEMBERT_273.docx',\n",
       " 'G:\\\\OneDrive - Ingenio Azucarero Guabira S.A\\\\_DATOS_PYTHON/informes/_2588_IDCQ_25-07-2025_CUELLAR SALAZAR RUDEMBERT_273.pdf',\n",
       " 'G:\\\\OneDrive - Ingenio Azucarero Guabira S.A\\\\_DATOS_PYTHON/informes/_2662_IDCQ_16-07-2025_DON SERAFIN SRL._233.docx',\n",
       " 'G:\\\\OneDrive - Ingenio Azucarero Guabira S.A\\\\_DATOS_PYTHON/informes/_30754_IDCQ_05-08-2025_MONTERO FRANCISCA MERCADO VDA DE_278.docx',\n",
       " 'G:\\\\OneDrive - Ingenio Azucarero Guabira S.A\\\\_DATOS_PYTHON/informes/_30754_IDCQ_05-08-2025_MONTERO FRANCISCA MERCADO VDA DE_278.pdf',\n",
       " 'G:\\\\OneDrive - Ingenio Azucarero Guabira S.A\\\\_DATOS_PYTHON/informes/_3378_ECO_30-07-2025_ESCOBAR MORATO VICTOR HUGO_673.docx',\n",
       " 'G:\\\\OneDrive - Ingenio Azucarero Guabira S.A\\\\_DATOS_PYTHON/informes/_3378_ECO_30-07-2025_ESCOBAR MORATO VICTOR HUGO_673.pdf',\n",
       " 'G:\\\\OneDrive - Ingenio Azucarero Guabira S.A\\\\_DATOS_PYTHON/informes/_3430_IDCQ_30-07-2025_ESPINOZA HURTADO RUBEN_274.docx',\n",
       " 'G:\\\\OneDrive - Ingenio Azucarero Guabira S.A\\\\_DATOS_PYTHON/informes/_3430_IDCQ_30-07-2025_ESPINOZA HURTADO RUBEN_274.pdf',\n",
       " 'G:\\\\OneDrive - Ingenio Azucarero Guabira S.A\\\\_DATOS_PYTHON/informes/_3472_IDCQ_11-08-2025_ESPINOZA AGUILAR JOSE MIGUEL_280.docx',\n",
       " 'G:\\\\OneDrive - Ingenio Azucarero Guabira S.A\\\\_DATOS_PYTHON/informes/_3472_IDCQ_11-08-2025_ESPINOZA AGUILAR JOSE MIGUEL_280.pdf',\n",
       " 'G:\\\\OneDrive - Ingenio Azucarero Guabira S.A\\\\_DATOS_PYTHON/informes/_386_IDCQ_16-07-2025_AYALA CESPEDES GREGORIO_234.docx',\n",
       " 'G:\\\\OneDrive - Ingenio Azucarero Guabira S.A\\\\_DATOS_PYTHON/informes/_41534_IDCQ_24-07-2025_CAMPBELL MEDINA FERNANDO WALTER_269.docx',\n",
       " 'G:\\\\OneDrive - Ingenio Azucarero Guabira S.A\\\\_DATOS_PYTHON/informes/_41534_IDCQ_24-07-2025_CAMPBELL MEDINA FERNANDO WALTER_269.pdf',\n",
       " 'G:\\\\OneDrive - Ingenio Azucarero Guabira S.A\\\\_DATOS_PYTHON/informes/_41954_IDCQ_11-08-2025_EL TARTARO SRL_284.docx',\n",
       " 'G:\\\\OneDrive - Ingenio Azucarero Guabira S.A\\\\_DATOS_PYTHON/informes/_41954_IDCQ_11-08-2025_EL TARTARO SRL_284.pdf',\n",
       " 'G:\\\\OneDrive - Ingenio Azucarero Guabira S.A\\\\_DATOS_PYTHON/informes/_42165_IDCQ_18-07-2025_TORRICO SUAREZ SEBASTIAN_248.docx',\n",
       " 'G:\\\\OneDrive - Ingenio Azucarero Guabira S.A\\\\_DATOS_PYTHON/informes/_42165_IDCQ_18-07-2025_TORRICO SUAREZ SEBASTIAN_248.pdf',\n",
       " 'G:\\\\OneDrive - Ingenio Azucarero Guabira S.A\\\\_DATOS_PYTHON/informes/_42455_SLCB_21-07-2025_CIA IND. COMERCIAL HNOS. VICENTE S.R.L._CB-2025-20.docx',\n",
       " 'G:\\\\OneDrive - Ingenio Azucarero Guabira S.A\\\\_DATOS_PYTHON/informes/_42465_IDCQ_10-07-2025_RODRIGUEZ CASTRO LIZETH_218.docx',\n",
       " 'G:\\\\OneDrive - Ingenio Azucarero Guabira S.A\\\\_DATOS_PYTHON/informes/_430_IDCQ_14-07-2025_AMURRIO QUINTANILLA FREDDY_220.docx',\n",
       " 'G:\\\\OneDrive - Ingenio Azucarero Guabira S.A\\\\_DATOS_PYTHON/informes/_4615_IDCQ_05-07-2025_GARCIA SOTO PATRICIO_216.docx',\n",
       " 'G:\\\\OneDrive - Ingenio Azucarero Guabira S.A\\\\_DATOS_PYTHON/informes/_4773_IDCQ_17-07-2025_GUZMAN HERBAS JULIAN_243.docx',\n",
       " 'G:\\\\OneDrive - Ingenio Azucarero Guabira S.A\\\\_DATOS_PYTHON/informes/_4915_IDCQ_02-07-2025_GUZMAN YOLANDA COCA DE_215.docx',\n",
       " 'G:\\\\OneDrive - Ingenio Azucarero Guabira S.A\\\\_DATOS_PYTHON/informes/_4967_IDCQ_02-07-2025_GUZMAN ALMANZA WILLAN_214.docx',\n",
       " 'G:\\\\OneDrive - Ingenio Azucarero Guabira S.A\\\\_DATOS_PYTHON/informes/_5011_IDCQ_30-06-2025_FRANCO ARIAS GREGORIO_213.docx',\n",
       " 'G:\\\\OneDrive - Ingenio Azucarero Guabira S.A\\\\_DATOS_PYTHON/informes/_515_ECO_12-07-2025_AGUILERA OLGA RIVERO DE_662.docx',\n",
       " 'G:\\\\OneDrive - Ingenio Azucarero Guabira S.A\\\\_DATOS_PYTHON/informes/_515_IDCQ_21-07-2025_AGUILERA OLGA RIVERO DE_258.docx',\n",
       " 'G:\\\\OneDrive - Ingenio Azucarero Guabira S.A\\\\_DATOS_PYTHON/informes/_515_IDCQ_21-07-2025_AGUILERA OLGA RIVERO DE_258.pdf',\n",
       " 'G:\\\\OneDrive - Ingenio Azucarero Guabira S.A\\\\_DATOS_PYTHON/informes/_5421_IDCQ_23-07-2025_HUBBAUER HOYOS ENRIQUE_261.docx',\n",
       " 'G:\\\\OneDrive - Ingenio Azucarero Guabira S.A\\\\_DATOS_PYTHON/informes/_5421_IDCQ_23-07-2025_HUBBAUER HOYOS ENRIQUE_261.pdf',\n",
       " 'G:\\\\OneDrive - Ingenio Azucarero Guabira S.A\\\\_DATOS_PYTHON/informes/_632_IDCQ_16-07-2025_ACUNA CANO EUGENIO_239.docx',\n",
       " 'G:\\\\OneDrive - Ingenio Azucarero Guabira S.A\\\\_DATOS_PYTHON/informes/_6401_IDCQ_16-07-2025_JALDIN SOTO BRIGIDA_240.docx',\n",
       " 'G:\\\\OneDrive - Ingenio Azucarero Guabira S.A\\\\_DATOS_PYTHON/informes/_6457_IDCQ_21-07-2025_JORDAN TONDELLY RODOLFO_259.docx',\n",
       " 'G:\\\\OneDrive - Ingenio Azucarero Guabira S.A\\\\_DATOS_PYTHON/informes/_6457_IDCQ_21-07-2025_JORDAN TONDELLY RODOLFO_259.pdf',\n",
       " 'G:\\\\OneDrive - Ingenio Azucarero Guabira S.A\\\\_DATOS_PYTHON/informes/_692_IDCQ_17-07-2025_AMURRIO TAPIA JAIME_244.docx',\n",
       " 'G:\\\\OneDrive - Ingenio Azucarero Guabira S.A\\\\_DATOS_PYTHON/informes/_765_ECO_19-07-2025_AGROP. CATALA S.R.L._669.docx',\n",
       " 'G:\\\\OneDrive - Ingenio Azucarero Guabira S.A\\\\_DATOS_PYTHON/informes/_765_ECO_19-07-2025_AGROP. CATALA S.R.L._670.docx',\n",
       " 'G:\\\\OneDrive - Ingenio Azucarero Guabira S.A\\\\_DATOS_PYTHON/informes/_765_ECO_26-07-2025_AGROP. CATALA S.R.L._671.docx',\n",
       " 'G:\\\\OneDrive - Ingenio Azucarero Guabira S.A\\\\_DATOS_PYTHON/informes/_7820_IDCQ_14-07-2025_LUISAGA ORTIZ ERWIN_219.docx',\n",
       " 'G:\\\\OneDrive - Ingenio Azucarero Guabira S.A\\\\_DATOS_PYTHON/informes/_7829_IDCQ_16-07-2025_SENA VILLARROEL DANIEL_237.docx',\n",
       " 'G:\\\\OneDrive - Ingenio Azucarero Guabira S.A\\\\_DATOS_PYTHON/informes/_7910_IDCQ_16-07-2025_SENA VILLARROEL CRISTOBAL_235.docx',\n",
       " 'G:\\\\OneDrive - Ingenio Azucarero Guabira S.A\\\\_DATOS_PYTHON/informes/_794_CDC_08-07-2025_AGUILERA WENDE MARIANO_177.docx',\n",
       " 'G:\\\\OneDrive - Ingenio Azucarero Guabira S.A\\\\_DATOS_PYTHON/informes/_8009_ECO_11-07-2025_ESPINOZA AGUILAR DAVID_661.docx',\n",
       " 'G:\\\\OneDrive - Ingenio Azucarero Guabira S.A\\\\_DATOS_PYTHON/informes/_8409_IDCQ_16-07-2025_MELENDRES ALDANA JULIO_236.docx',\n",
       " 'G:\\\\OneDrive - Ingenio Azucarero Guabira S.A\\\\_DATOS_PYTHON/informes/_8814_IDCQ_01-08-2025_MURIALDO MENDEZ WALTER DANIEL_275.docx',\n",
       " 'G:\\\\OneDrive - Ingenio Azucarero Guabira S.A\\\\_DATOS_PYTHON/informes/_8814_IDCQ_01-08-2025_MURIALDO MENDEZ WALTER DANIEL_275.pdf',\n",
       " 'G:\\\\OneDrive - Ingenio Azucarero Guabira S.A\\\\_DATOS_PYTHON/informes/_8842_ECO_01-08-2025_MUÑOZ SUAREZ HUMBERTO_674.docx',\n",
       " 'G:\\\\OneDrive - Ingenio Azucarero Guabira S.A\\\\_DATOS_PYTHON/informes/_8910_IDCQ_11-08-2025_MORA MIRANDA WILLAN_283.docx',\n",
       " 'G:\\\\OneDrive - Ingenio Azucarero Guabira S.A\\\\_DATOS_PYTHON/informes/_8910_IDCQ_11-08-2025_MORA MIRANDA WILLAN_283.pdf']"
      ]
     },
     "execution_count": 4,
     "metadata": {},
     "output_type": "execute_result"
    }
   ],
   "source": [
    "# colocar aqui la ruta de los archivos\n",
    "path = ruta + r'/informes'\n",
    "contenido = os.listdir(path)\n",
    "rutas =[]\n",
    "i = 0\n",
    "for name in contenido:\n",
    "    rutas.append(path + '/' + name)\n",
    "    i+=1\n",
    "\n",
    "print('SE ENCONTRARON ' + str(i) + ' INFORMES')\n",
    "print(len(rutas), 'INFORMES')\n",
    "rutas"
   ]
  },
  {
   "cell_type": "markdown",
   "id": "6b9af706",
   "metadata": {
    "tags": []
   },
   "source": [
    "# INICIA EL PROCESO DE CONVERCIÓN"
   ]
  },
  {
   "cell_type": "code",
   "execution_count": 14,
   "id": "cdbc481d-e9f8-4a85-946f-4c45abd61e87",
   "metadata": {},
   "outputs": [
    {
     "data": {
      "text/plain": [
       "'G:\\\\OneDrive - Ingenio Azucarero Guabira S.A\\\\_DATOS_PYTHON/pdf/11805_CRS_13-08-2024_RIOJA CABRERA JOSE GROVER_314.pdf'"
      ]
     },
     "execution_count": 14,
     "metadata": {},
     "output_type": "execute_result"
    }
   ],
   "source": [
    "rutas[1].replace('.docx','.pdf').replace('informes','pdf')"
   ]
  },
  {
   "cell_type": "code",
   "execution_count": 15,
   "id": "13d4b150-97ec-4f5f-ae67-8494243a499a",
   "metadata": {},
   "outputs": [
    {
     "data": {
      "text/plain": [
       "'G:\\\\OneDrive - Ingenio Azucarero Guabira S.A\\\\_DATOS_PYTHON/pdf/11805_CRS_13-08-2024_RIOJA CABRERA JOSE GROVER_314.pdf'"
      ]
     },
     "execution_count": 15,
     "metadata": {},
     "output_type": "execute_result"
    }
   ],
   "source": [
    "rutas[1].replace('.docx','.pdf').replace('informes','pdf')"
   ]
  },
  {
   "cell_type": "code",
   "execution_count": 16,
   "id": "0f018b1e",
   "metadata": {
    "tags": []
   },
   "outputs": [
    {
     "name": "stdout",
     "output_type": "stream",
     "text": [
      "CONVIRTIENDO... INFORME 1 G:\\OneDrive - Ingenio Azucarero Guabira S.A\\_DATOS_PYTHON/informes/10806_CRS_15-08-2024_PALICIO BRUNO OSCAR ROBERTO_306.docx\n",
      "G:\\OneDrive - Ingenio Azucarero Guabira S.A\\_DATOS_PYTHON/informes/10806_CRS_15-08-2024_PALICIO BRUNO OSCAR ROBERTO_306.docx\n",
      "G:\\OneDrive - Ingenio Azucarero Guabira S.A\\_DATOS_PYTHON/pdfs/10806_CRS_15-08-2024_PALICIO BRUNO OSCAR ROBERTO_306.pdf\n",
      "Rebuilding cache of generated files for COM support...\n",
      "Checking 00020905-0000-0000-C000-000000000046x0x8x7\n",
      "Could not add module (IID('{00020905-0000-0000-C000-000000000046}'), 0, 8, 7) - <class 'AttributeError'>: module 'win32com.gen_py.00020905-0000-0000-C000-000000000046x0x8x7' has no attribute 'CLSIDToClassMap'\n",
      "Done.\n"
     ]
    },
    {
     "data": {
      "application/vnd.jupyter.widget-view+json": {
       "model_id": "7e2fe9e5a647436e9576daaa0ec22ea6",
       "version_major": 2,
       "version_minor": 0
      },
      "text/plain": [
       "  0%|          | 0/1 [00:00<?, ?it/s]"
      ]
     },
     "metadata": {},
     "output_type": "display_data"
    },
    {
     "name": "stdout",
     "output_type": "stream",
     "text": [
      "CONVIRTIENDO... INFORME 2 G:\\OneDrive - Ingenio Azucarero Guabira S.A\\_DATOS_PYTHON/informes/11805_CRS_13-08-2024_RIOJA CABRERA JOSE GROVER_314.docx\n",
      "G:\\OneDrive - Ingenio Azucarero Guabira S.A\\_DATOS_PYTHON/informes/11805_CRS_13-08-2024_RIOJA CABRERA JOSE GROVER_314.docx\n",
      "G:\\OneDrive - Ingenio Azucarero Guabira S.A\\_DATOS_PYTHON/pdfs/11805_CRS_13-08-2024_RIOJA CABRERA JOSE GROVER_314.pdf\n"
     ]
    },
    {
     "data": {
      "application/vnd.jupyter.widget-view+json": {
       "model_id": "323ace0328d8410698cc536755387e78",
       "version_major": 2,
       "version_minor": 0
      },
      "text/plain": [
       "  0%|          | 0/1 [00:00<?, ?it/s]"
      ]
     },
     "metadata": {},
     "output_type": "display_data"
    },
    {
     "name": "stdout",
     "output_type": "stream",
     "text": [
      "CONVIRTIENDO... INFORME 3 G:\\OneDrive - Ingenio Azucarero Guabira S.A\\_DATOS_PYTHON/informes/11860_CRS_14-08-2024_ROCA SERRANO ARMANDO_277.docx\n",
      "G:\\OneDrive - Ingenio Azucarero Guabira S.A\\_DATOS_PYTHON/informes/11860_CRS_14-08-2024_ROCA SERRANO ARMANDO_277.docx\n",
      "G:\\OneDrive - Ingenio Azucarero Guabira S.A\\_DATOS_PYTHON/pdfs/11860_CRS_14-08-2024_ROCA SERRANO ARMANDO_277.pdf\n"
     ]
    },
    {
     "data": {
      "application/vnd.jupyter.widget-view+json": {
       "model_id": "4d09eb0fb8014fce81dc6c0dacc5dda8",
       "version_major": 2,
       "version_minor": 0
      },
      "text/plain": [
       "  0%|          | 0/1 [00:00<?, ?it/s]"
      ]
     },
     "metadata": {},
     "output_type": "display_data"
    },
    {
     "name": "stdout",
     "output_type": "stream",
     "text": [
      "CONVIRTIENDO... INFORME 4 G:\\OneDrive - Ingenio Azucarero Guabira S.A\\_DATOS_PYTHON/informes/14760_CRS_14-08-2024_VARGAS PINTO RENE_350.docx\n",
      "G:\\OneDrive - Ingenio Azucarero Guabira S.A\\_DATOS_PYTHON/informes/14760_CRS_14-08-2024_VARGAS PINTO RENE_350.docx\n",
      "G:\\OneDrive - Ingenio Azucarero Guabira S.A\\_DATOS_PYTHON/pdfs/14760_CRS_14-08-2024_VARGAS PINTO RENE_350.pdf\n"
     ]
    },
    {
     "data": {
      "application/vnd.jupyter.widget-view+json": {
       "model_id": "7c13fa940da14963ba49530835a27ca1",
       "version_major": 2,
       "version_minor": 0
      },
      "text/plain": [
       "  0%|          | 0/1 [00:00<?, ?it/s]"
      ]
     },
     "metadata": {},
     "output_type": "display_data"
    },
    {
     "name": "stdout",
     "output_type": "stream",
     "text": [
      "CONVIRTIENDO... INFORME 5 G:\\OneDrive - Ingenio Azucarero Guabira S.A\\_DATOS_PYTHON/informes/17678_CRS_14-08-2024_ESPINOZA JUANA MAIDA DE_357.docx\n",
      "G:\\OneDrive - Ingenio Azucarero Guabira S.A\\_DATOS_PYTHON/informes/17678_CRS_14-08-2024_ESPINOZA JUANA MAIDA DE_357.docx\n",
      "G:\\OneDrive - Ingenio Azucarero Guabira S.A\\_DATOS_PYTHON/pdfs/17678_CRS_14-08-2024_ESPINOZA JUANA MAIDA DE_357.pdf\n"
     ]
    },
    {
     "data": {
      "application/vnd.jupyter.widget-view+json": {
       "model_id": "edf6c88993c149afa5cdf1326d710c08",
       "version_major": 2,
       "version_minor": 0
      },
      "text/plain": [
       "  0%|          | 0/1 [00:00<?, ?it/s]"
      ]
     },
     "metadata": {},
     "output_type": "display_data"
    },
    {
     "name": "stdout",
     "output_type": "stream",
     "text": [
      "CONVIRTIENDO... INFORME 6 G:\\OneDrive - Ingenio Azucarero Guabira S.A\\_DATOS_PYTHON/informes/2794_CRS_14-08-2024_DELGADILLO RODRIGUEZ JUAN CARLOS_438.docx\n",
      "G:\\OneDrive - Ingenio Azucarero Guabira S.A\\_DATOS_PYTHON/informes/2794_CRS_14-08-2024_DELGADILLO RODRIGUEZ JUAN CARLOS_438.docx\n",
      "G:\\OneDrive - Ingenio Azucarero Guabira S.A\\_DATOS_PYTHON/pdfs/2794_CRS_14-08-2024_DELGADILLO RODRIGUEZ JUAN CARLOS_438.pdf\n"
     ]
    },
    {
     "data": {
      "application/vnd.jupyter.widget-view+json": {
       "model_id": "c2d392ef52c2495abf31f58ae5009012",
       "version_major": 2,
       "version_minor": 0
      },
      "text/plain": [
       "  0%|          | 0/1 [00:00<?, ?it/s]"
      ]
     },
     "metadata": {},
     "output_type": "display_data"
    },
    {
     "name": "stdout",
     "output_type": "stream",
     "text": [
      "CONVIRTIENDO... INFORME 7 G:\\OneDrive - Ingenio Azucarero Guabira S.A\\_DATOS_PYTHON/informes/3500_CRS_14-08-2024_ESPINOZA MAIDA NELSON_361.docx\n",
      "G:\\OneDrive - Ingenio Azucarero Guabira S.A\\_DATOS_PYTHON/informes/3500_CRS_14-08-2024_ESPINOZA MAIDA NELSON_361.docx\n",
      "G:\\OneDrive - Ingenio Azucarero Guabira S.A\\_DATOS_PYTHON/pdfs/3500_CRS_14-08-2024_ESPINOZA MAIDA NELSON_361.pdf\n"
     ]
    },
    {
     "data": {
      "application/vnd.jupyter.widget-view+json": {
       "model_id": "89d417fbf91843b282c29472756ef189",
       "version_major": 2,
       "version_minor": 0
      },
      "text/plain": [
       "  0%|          | 0/1 [00:00<?, ?it/s]"
      ]
     },
     "metadata": {},
     "output_type": "display_data"
    },
    {
     "name": "stdout",
     "output_type": "stream",
     "text": [
      "CONVIRTIENDO... INFORME 8 G:\\OneDrive - Ingenio Azucarero Guabira S.A\\_DATOS_PYTHON/informes/40249_CRS_15-08-2024_RIOS ROJAS JUAN CARLOS_449.docx\n",
      "G:\\OneDrive - Ingenio Azucarero Guabira S.A\\_DATOS_PYTHON/informes/40249_CRS_15-08-2024_RIOS ROJAS JUAN CARLOS_449.docx\n",
      "G:\\OneDrive - Ingenio Azucarero Guabira S.A\\_DATOS_PYTHON/pdfs/40249_CRS_15-08-2024_RIOS ROJAS JUAN CARLOS_449.pdf\n"
     ]
    },
    {
     "data": {
      "application/vnd.jupyter.widget-view+json": {
       "model_id": "b6bea662dd374e8eb24d201a8faf1d81",
       "version_major": 2,
       "version_minor": 0
      },
      "text/plain": [
       "  0%|          | 0/1 [00:00<?, ?it/s]"
      ]
     },
     "metadata": {},
     "output_type": "display_data"
    },
    {
     "name": "stdout",
     "output_type": "stream",
     "text": [
      "CONVIRTIENDO... INFORME 9 G:\\OneDrive - Ingenio Azucarero Guabira S.A\\_DATOS_PYTHON/informes/41827_CRS_14-08-2024_SALAZAR PERALTA GABRIELA_310.docx\n",
      "G:\\OneDrive - Ingenio Azucarero Guabira S.A\\_DATOS_PYTHON/informes/41827_CRS_14-08-2024_SALAZAR PERALTA GABRIELA_310.docx\n",
      "G:\\OneDrive - Ingenio Azucarero Guabira S.A\\_DATOS_PYTHON/pdfs/41827_CRS_14-08-2024_SALAZAR PERALTA GABRIELA_310.pdf\n"
     ]
    },
    {
     "data": {
      "application/vnd.jupyter.widget-view+json": {
       "model_id": "5528cb47b87f45fb9a6cccbb699a414a",
       "version_major": 2,
       "version_minor": 0
      },
      "text/plain": [
       "  0%|          | 0/1 [00:00<?, ?it/s]"
      ]
     },
     "metadata": {},
     "output_type": "display_data"
    },
    {
     "name": "stdout",
     "output_type": "stream",
     "text": [
      "CONVIRTIENDO... INFORME 10 G:\\OneDrive - Ingenio Azucarero Guabira S.A\\_DATOS_PYTHON/informes/42131_CRS_15-08-2024_AGROPECUARIA CAMPOAZUL S.R.L._284.docx\n",
      "G:\\OneDrive - Ingenio Azucarero Guabira S.A\\_DATOS_PYTHON/informes/42131_CRS_15-08-2024_AGROPECUARIA CAMPOAZUL S.R.L._284.docx\n",
      "G:\\OneDrive - Ingenio Azucarero Guabira S.A\\_DATOS_PYTHON/pdfs/42131_CRS_15-08-2024_AGROPECUARIA CAMPOAZUL S.R.L._284.pdf\n"
     ]
    },
    {
     "data": {
      "application/vnd.jupyter.widget-view+json": {
       "model_id": "e55c83d3f67f45fa848bc250913d5e26",
       "version_major": 2,
       "version_minor": 0
      },
      "text/plain": [
       "  0%|          | 0/1 [00:00<?, ?it/s]"
      ]
     },
     "metadata": {},
     "output_type": "display_data"
    },
    {
     "name": "stdout",
     "output_type": "stream",
     "text": [
      "CONVIRTIENDO... INFORME 11 G:\\OneDrive - Ingenio Azucarero Guabira S.A\\_DATOS_PYTHON/informes/4528_CRS_14-08-2024_GUZMAN ORELLANA GUSTAVO_388.docx\n",
      "G:\\OneDrive - Ingenio Azucarero Guabira S.A\\_DATOS_PYTHON/informes/4528_CRS_14-08-2024_GUZMAN ORELLANA GUSTAVO_388.docx\n",
      "G:\\OneDrive - Ingenio Azucarero Guabira S.A\\_DATOS_PYTHON/pdfs/4528_CRS_14-08-2024_GUZMAN ORELLANA GUSTAVO_388.pdf\n"
     ]
    },
    {
     "data": {
      "application/vnd.jupyter.widget-view+json": {
       "model_id": "f59fa6b5ead644a3b874856371a9a516",
       "version_major": 2,
       "version_minor": 0
      },
      "text/plain": [
       "  0%|          | 0/1 [00:00<?, ?it/s]"
      ]
     },
     "metadata": {},
     "output_type": "display_data"
    },
    {
     "name": "stdout",
     "output_type": "stream",
     "text": [
      "CONVIRTIENDO... INFORME 12 G:\\OneDrive - Ingenio Azucarero Guabira S.A\\_DATOS_PYTHON/informes/6578_CRS_12-08-2024_JALDIN ARREDONDO JOSE LUIS_315.docx\n",
      "G:\\OneDrive - Ingenio Azucarero Guabira S.A\\_DATOS_PYTHON/informes/6578_CRS_12-08-2024_JALDIN ARREDONDO JOSE LUIS_315.docx\n",
      "G:\\OneDrive - Ingenio Azucarero Guabira S.A\\_DATOS_PYTHON/pdfs/6578_CRS_12-08-2024_JALDIN ARREDONDO JOSE LUIS_315.pdf\n"
     ]
    },
    {
     "data": {
      "application/vnd.jupyter.widget-view+json": {
       "model_id": "db05926f133e4cc59b252a0e4b402ee8",
       "version_major": 2,
       "version_minor": 0
      },
      "text/plain": [
       "  0%|          | 0/1 [00:00<?, ?it/s]"
      ]
     },
     "metadata": {},
     "output_type": "display_data"
    },
    {
     "name": "stdout",
     "output_type": "stream",
     "text": [
      "END\n"
     ]
    }
   ],
   "source": [
    "i = 1\n",
    "for filename in rutas:\n",
    "    print('CONVIRTIENDO... INFORME ' + str(i) + ' ' + filename)\n",
    "    # se realiza la convrsion pasando parametro de salida y entrada, \n",
    "    # para la salida se reemplaza la extencion y la ruta\n",
    "    print(filename)\n",
    "    print(filename.replace('.docx','.pdf').replace('informes','pdfs'))\n",
    "    pdf = filename.replace('.docx','.pdf').replace('informes','pdfs').split('/')[-1]\n",
    "    convert(filename, r'C:\\Users\\Usuario\\Downloads\\\\' + pdf)\n",
    "    i+=1\n",
    "print('END')"
   ]
  },
  {
   "cell_type": "markdown",
   "id": "455ef654-fe35-492c-8f69-3dc00102b0bb",
   "metadata": {},
   "source": [
    "# Leer archivos"
   ]
  },
  {
   "cell_type": "code",
   "execution_count": 5,
   "id": "df0f066e-d897-4ca6-a8cd-23b40ad41307",
   "metadata": {},
   "outputs": [
    {
     "name": "stdout",
     "output_type": "stream",
     "text": [
      "Your browser has been opened to visit:\n",
      "\n",
      "    https://accounts.google.com/o/oauth2/auth?client_id=1096764895697-57btfmtn7rdejufct5qq4j9mi61j0unl.apps.googleusercontent.com&redirect_uri=http%3A%2F%2Flocalhost%3A8080%2F&scope=https%3A%2F%2Fwww.googleapis.com%2Fauth%2Fdrive&access_type=offline&response_type=code\n",
      "\n",
      "Authentication successful.\n"
     ]
    }
   ],
   "source": [
    "# CONEXION A GOOGLE DRIVE\n",
    "from pydrive.auth import GoogleAuth\n",
    "from pydrive.drive import GoogleDrive\n",
    "gauth = GoogleAuth()\n",
    "gauth.LocalWebserverAuth() # client_secrets.json need to be in the same directory as the script\n",
    "drive = GoogleDrive(gauth)"
   ]
  },
  {
   "cell_type": "code",
   "execution_count": 6,
   "id": "5bc6184d-91a1-42a1-a809-84014f898d43",
   "metadata": {},
   "outputs": [
    {
     "name": "stdout",
     "output_type": "stream",
     "text": [
      "18 informes\n"
     ]
    },
    {
     "data": {
      "text/plain": [
       "{1165: '1165_CRS_08-08-2025_BEJARANO GANDARILLA ERWIN_540.pdf',\n",
       " 16213: '16213_CRS_02-08-2025_ZAPATA SERON SIMON_510.pdf',\n",
       " 17678: '17678_CRS_05-08-2025_ESPINOZA JUANA MAIDA DE_534.pdf',\n",
       " 20055: '20055_CRS_05-08-2025_FRANCO ARIAS EDGAR_565.pdf',\n",
       " 2029: '2029_CRS_31-07-2025_COLAMARINO DI SILVIO ANGELO_491.pdf',\n",
       " 2351: '2351_CRS_08-08-2025_CANDIA RUIZ ADALBERTO_556.pdf',\n",
       " 2353: '2353_CRS_30-07-2025_CARO BENITES GERMAN_456.pdf',\n",
       " 31088: '31088_CRS_30-07-2025_COLQUE QUIROZ JENNY FELICIDAD_523.pdf',\n",
       " 3473: '3473_CRS_04-08-2025_ESCALERA FRANCO JORGE_466.pdf',\n",
       " 40256: '40256_CRS_04-08-2025_INSERVA DAMIANA S.R.L_522.pdf',\n",
       " 41533: '41533_CRS_30-07-2025_ARNEZ COLQUE ROSARIO ESTELA_524.pdf',\n",
       " 42135: '42135_CRS_08-08-2025_RODRIGUEZ ESPERANZA_549.pdf',\n",
       " 42378: '42378_CRS_08-08-2025_CANDIA RUIZ ORLANDO_557.pdf',\n",
       " 551: '551_CRS_08-08-2025_AQUINO PAITA ELIAS_548.pdf',\n",
       " 6638: '6638_CRS_30-07-2025_CABRERA LOMBARDI LEANDRO JAVIER_580.pdf',\n",
       " 743: '743_CRS_31-07-2025_ARTEAGA CHAVEZ ROBERT EDGAR._493.pdf',\n",
       " 8894: '8894_CRS_31-07-2025_MORA MIRANDA MARCELO_551.pdf',\n",
       " 9850: '9850_CRS_08-08-2025_OVANDO HUALLPA TIBURCIO_547.pdf'}"
      ]
     },
     "execution_count": 6,
     "metadata": {},
     "output_type": "execute_result"
    }
   ],
   "source": [
    "contenido = os.listdir(ruta + r'/pdf')\n",
    "dic_files = {}\n",
    "for file in contenido:\n",
    "    split = file.split('_')\n",
    "    dic_files[int(split[0])] = file\n",
    "print(len(dic_files), 'informes')\n",
    "dic_files"
   ]
  },
  {
   "cell_type": "markdown",
   "id": "68778c6d-31c1-4f6f-880c-5d3f2d04ed17",
   "metadata": {},
   "source": [
    "# CARGAR LOS PDFS A GOOGLE DRIVE"
   ]
  },
  {
   "cell_type": "code",
   "execution_count": 7,
   "id": "aaf8d01b-5324-4b14-a67d-a6162850efa2",
   "metadata": {},
   "outputs": [
    {
     "name": "stdout",
     "output_type": "stream",
     "text": [
      "Created file 1165_CRS_08-08-2025_BEJARANO GANDARILLA ERWIN_540.pdf with mimeType application/pdf\n",
      "Created file 16213_CRS_02-08-2025_ZAPATA SERON SIMON_510.pdf with mimeType application/pdf\n",
      "Created file 17678_CRS_05-08-2025_ESPINOZA JUANA MAIDA DE_534.pdf with mimeType application/pdf\n",
      "Created file 20055_CRS_05-08-2025_FRANCO ARIAS EDGAR_565.pdf with mimeType application/pdf\n",
      "Created file 2029_CRS_31-07-2025_COLAMARINO DI SILVIO ANGELO_491.pdf with mimeType application/pdf\n",
      "Created file 2351_CRS_08-08-2025_CANDIA RUIZ ADALBERTO_556.pdf with mimeType application/pdf\n",
      "Created file 2353_CRS_30-07-2025_CARO BENITES GERMAN_456.pdf with mimeType application/pdf\n",
      "Created file 31088_CRS_30-07-2025_COLQUE QUIROZ JENNY FELICIDAD_523.pdf with mimeType application/pdf\n",
      "Created file 3473_CRS_04-08-2025_ESCALERA FRANCO JORGE_466.pdf with mimeType application/pdf\n",
      "Created file 40256_CRS_04-08-2025_INSERVA DAMIANA S.R.L_522.pdf with mimeType application/pdf\n",
      "Created file 41533_CRS_30-07-2025_ARNEZ COLQUE ROSARIO ESTELA_524.pdf with mimeType application/pdf\n",
      "Created file 42135_CRS_08-08-2025_RODRIGUEZ ESPERANZA_549.pdf with mimeType application/pdf\n",
      "Created file 42378_CRS_08-08-2025_CANDIA RUIZ ORLANDO_557.pdf with mimeType application/pdf\n",
      "Created file 551_CRS_08-08-2025_AQUINO PAITA ELIAS_548.pdf with mimeType application/pdf\n",
      "Created file 6638_CRS_30-07-2025_CABRERA LOMBARDI LEANDRO JAVIER_580.pdf with mimeType application/pdf\n",
      "Created file 743_CRS_31-07-2025_ARTEAGA CHAVEZ ROBERT EDGAR._493.pdf with mimeType application/pdf\n",
      "Created file 8894_CRS_31-07-2025_MORA MIRANDA MARCELO_551.pdf with mimeType application/pdf\n",
      "Created file 9850_CRS_08-08-2025_OVANDO HUALLPA TIBURCIO_547.pdf with mimeType application/pdf\n",
      "end\n"
     ]
    }
   ],
   "source": [
    "# CARGAR LOS PDFS A GOOGLE DRIVE\n",
    "dic_urls = {}\n",
    "# View all folders and file in your Google Drive\n",
    "fileList = drive.ListFile({'q': \"'root' in parents and trashed=false\"}).GetList()\n",
    "for file in fileList:\n",
    "  #print('Title: %s, ID: %s' % (file['title'], file['id']))\n",
    "  # Get the folder ID that you want\n",
    "  if(file['title'] == \"3RA_INSPECCION\"):\n",
    "      fileID = file['id']\n",
    "\n",
    "for file in dic_files:\n",
    "    file1 = drive.CreateFile({\"mimeType\": \"application/pdf\", \"parents\": [{\"kind\": \"drive#fileLink\", \"id\": fileID}]})\n",
    "    file1['title'] = dic_files[file]\n",
    "    file1.SetContentFile(ruta + r'/pdf//' + dic_files[file])\n",
    "    file1.Upload() # Upload the file.\n",
    "    print('Created file %s with mimeType %s' % (file1['title'], file1['mimeType']))\n",
    "    permission = file1.InsertPermission({\n",
    "                        'type': 'anyone',\n",
    "                        'value': 'anyone',\n",
    "                        'role': 'reader'})\n",
    "    dic_urls[file] = file1['alternateLink']\n",
    "dic_urls\n",
    "print('end')"
   ]
  },
  {
   "cell_type": "code",
   "execution_count": 8,
   "id": "6aceb417-cee6-413c-917f-f03bcba671b6",
   "metadata": {},
   "outputs": [
    {
     "name": "stdout",
     "output_type": "stream",
     "text": [
      "18 URLs\n"
     ]
    },
    {
     "data": {
      "text/plain": [
       "{1165: 'https://drive.google.com/file/d/1eFixRMAx9-LxGBYDoFZnj_az2pPQZB3E/view?usp=drivesdk',\n",
       " 16213: 'https://drive.google.com/file/d/155WVckhErEuCFjd4QXIIDPhmYEPhYy4l/view?usp=drivesdk',\n",
       " 17678: 'https://drive.google.com/file/d/18KdVdqgSHsyoOVy-zVZcLQVwP17m6Fda/view?usp=drivesdk',\n",
       " 20055: 'https://drive.google.com/file/d/1MeNxnaKOMf6aBL9kKctiBOCvVrAuO5jF/view?usp=drivesdk',\n",
       " 2029: 'https://drive.google.com/file/d/1CnIsMQUO9X9oMEeeoAu0sKbrOA7CiaX7/view?usp=drivesdk',\n",
       " 2351: 'https://drive.google.com/file/d/1jN0YEnbC3OmbwTzxH8UdlAOd-UMBvAYG/view?usp=drivesdk',\n",
       " 2353: 'https://drive.google.com/file/d/1QnUy-WTvJ6-9xPURConj0bmqHmV-HMLB/view?usp=drivesdk',\n",
       " 31088: 'https://drive.google.com/file/d/11N-1xX7kMCuXLSpYCStZMqdVauEQS64J/view?usp=drivesdk',\n",
       " 3473: 'https://drive.google.com/file/d/1UQJlv0a-GEMNAx3atvBsx4b7QSHwJN-R/view?usp=drivesdk',\n",
       " 40256: 'https://drive.google.com/file/d/1TmIDjZrKeiePyxbSXPyk4wfq-U3qGGle/view?usp=drivesdk',\n",
       " 41533: 'https://drive.google.com/file/d/1FO0Y8UBiOBSE3FO0WjPo9fuGGa8oVc32/view?usp=drivesdk',\n",
       " 42135: 'https://drive.google.com/file/d/16GEpi0mgPZSTzVKK1MiOjFo-GJOc9wJO/view?usp=drivesdk',\n",
       " 42378: 'https://drive.google.com/file/d/1tV4ZKUqvoeTf8vz2CaD2svTLD-9EZi_s/view?usp=drivesdk',\n",
       " 551: 'https://drive.google.com/file/d/1MdI1SMzpxgXTtsYgSu_s4wk-kc5wBfRc/view?usp=drivesdk',\n",
       " 6638: 'https://drive.google.com/file/d/1kG6fCxwWPam769bM8GjQ8GI6IBiaZ7KK/view?usp=drivesdk',\n",
       " 743: 'https://drive.google.com/file/d/1pIv303jRSEAwzLPUsehcG7cPqcbrq-Ja/view?usp=drivesdk',\n",
       " 8894: 'https://drive.google.com/file/d/1Ha4lQcDQxkfWBtg2qDMNuuoDxadmpz9Q/view?usp=drivesdk',\n",
       " 9850: 'https://drive.google.com/file/d/1FJcw-iiAv5t6t_IY8Dh16PqVNmiMcN31/view?usp=drivesdk'}"
      ]
     },
     "execution_count": 8,
     "metadata": {},
     "output_type": "execute_result"
    }
   ],
   "source": [
    "print(len(dic_urls), 'URLs')\n",
    "dic_urls"
   ]
  },
  {
   "cell_type": "markdown",
   "id": "6063c8ed-d601-4164-9af1-e1c2dbc865d0",
   "metadata": {},
   "source": [
    "# conexion a amigocloud"
   ]
  },
  {
   "cell_type": "code",
   "execution_count": 9,
   "id": "f0d01517-62ff-4a1f-a49b-79646323127e",
   "metadata": {},
   "outputs": [],
   "source": [
    "import sys\n",
    "sys.path.append('../../../_amigocloud')\n",
    "\n",
    "from amigocloud import AmigoCloud"
   ]
  },
  {
   "cell_type": "code",
   "execution_count": 10,
   "id": "fea924a5-9048-42a8-b912-6604dc5b6539",
   "metadata": {},
   "outputs": [
    {
     "data": {
      "text/plain": [
       "<amigocloud.AmigoCloud at 0x245114c0670>"
      ]
     },
     "execution_count": 10,
     "metadata": {},
     "output_type": "execute_result"
    }
   ],
   "source": [
    "# leer token\n",
    "acceso = open(ruta + '/_keys/api_amigocloud.key','r')\n",
    "api_token = acceso.readlines()[0]\n",
    "acceso.close()\n",
    "amigocloud = AmigoCloud(token=api_token)\n",
    "amigocloud"
   ]
  },
  {
   "cell_type": "code",
   "execution_count": 11,
   "id": "6ea99bee-0a6d-48a1-9833-6b8c2a62433a",
   "metadata": {},
   "outputs": [
    {
     "name": "stdout",
     "output_type": "stream",
     "text": [
      "1165\n",
      "16213\n",
      "17678\n",
      "20055\n",
      "2029\n",
      "2351\n",
      "2353\n",
      "31088\n",
      "3473\n",
      "40256\n",
      "41533\n",
      "42135\n",
      "42378\n",
      "551\n",
      "6638\n",
      "743\n",
      "8894\n",
      "9850\n",
      "end\n"
     ]
    }
   ],
   "source": [
    "for key in dic_urls:\n",
    "    query = {'query': 'update dataset_307560 set link_doc_3ra = \\'{link}\\' where cast(SPLIT_PART(canhero, \\' / \\', 1) as integer) = \\'{cod}\\''.format(link=dic_urls[key], cod=key)}\n",
    "    res = amigocloud.post('https://app.amigocloud.com/api/v1/projects/32672/sql', query)\n",
    "    print(key)\n",
    "print('end')"
   ]
  }
 ],
 "metadata": {
  "kernelspec": {
   "display_name": "Python 3 (ipykernel)",
   "language": "python",
   "name": "python3"
  },
  "language_info": {
   "codemirror_mode": {
    "name": "ipython",
    "version": 3
   },
   "file_extension": ".py",
   "mimetype": "text/x-python",
   "name": "python",
   "nbconvert_exporter": "python",
   "pygments_lexer": "ipython3",
   "version": "3.10.13"
  }
 },
 "nbformat": 4,
 "nbformat_minor": 5
}
