{
 "cells": [
  {
   "cell_type": "markdown",
   "id": "18a80bc5",
   "metadata": {},
   "source": [
    "# INSTALAR LIBRERIAS"
   ]
  },
  {
   "cell_type": "code",
   "execution_count": 13,
   "id": "7e312719",
   "metadata": {},
   "outputs": [],
   "source": [
    "# !pip install docx2pdf\n",
    "#pip install ipywidgets"
   ]
  },
  {
   "cell_type": "markdown",
   "id": "7e934ca6",
   "metadata": {},
   "source": [
    "# IMPORTAR"
   ]
  },
  {
   "cell_type": "code",
   "execution_count": 1,
   "id": "508a28c7",
   "metadata": {},
   "outputs": [],
   "source": [
    "from docx2pdf import convert\n",
    "import os\n",
    "import time"
   ]
  },
  {
   "cell_type": "markdown",
   "id": "64ec4ba6",
   "metadata": {},
   "source": [
    "# CONSTRUIR LA RUTA DE LOS ARCHIVOS"
   ]
  },
  {
   "cell_type": "code",
   "execution_count": 2,
   "id": "4266a769-91f2-423e-b0c1-cb8107d38fa7",
   "metadata": {},
   "outputs": [],
   "source": [
    "def get_unidad_local():\n",
    "    try:\n",
    "        # ruta del archivo que contiene la información necesaria\n",
    "        with open('../../../../unidad_local.txt', 'r') as file:\n",
    "            unidad = file.readline().strip()\n",
    "            return unidad\n",
    "    except FileNotFoundError:\n",
    "        print(\"El archivo 'unidad_local.txt' no se encuentra en la ruta especificada.\")\n",
    "    return None\n",
    "\n",
    "def get_ruta_local():\n",
    "    try:\n",
    "        with open('../../../ruta_local.txt', 'r') as file:\n",
    "            ruta = file.readline().strip()\n",
    "            return ruta\n",
    "    except FileNotFoundError:\n",
    "        print(\"El archivo 'ruta_local.txt' no se encuentra en la ruta especificada.\")\n",
    "    return None"
   ]
  },
  {
   "cell_type": "code",
   "execution_count": 3,
   "id": "fdc89c38-395d-4864-9b10-ef5f1a8316b0",
   "metadata": {},
   "outputs": [
    {
     "data": {
      "text/plain": [
       "'G:\\\\OneDrive - Ingenio Azucarero Guabira S.A\\\\_DATOS_PYTHON'"
      ]
     },
     "execution_count": 3,
     "metadata": {},
     "output_type": "execute_result"
    }
   ],
   "source": [
    "unidad = get_unidad_local()\n",
    "ruta = get_ruta_local()\n",
    "ruta_completa = os.path.join(unidad, ruta)\n",
    "ruta_completa"
   ]
  },
  {
   "cell_type": "code",
   "execution_count": 4,
   "id": "1fc560f3",
   "metadata": {},
   "outputs": [
    {
     "name": "stdout",
     "output_type": "stream",
     "text": [
      "SE ENCONTRARON 7 INFORMES\n",
      "7 INFORMES\n"
     ]
    },
    {
     "data": {
      "text/plain": [
       "['G:\\\\OneDrive - Ingenio Azucarero Guabira S.A\\\\_DATOS_PYTHON/informes/13763_CRS_24-04-2025_TUFINO SCHWENK RUBEN DARIO_577.docx',\n",
       " 'G:\\\\OneDrive - Ingenio Azucarero Guabira S.A\\\\_DATOS_PYTHON/informes/2626_CRS_30-04-2025_CONDORI QUEVEDO JORGE_459.docx',\n",
       " 'G:\\\\OneDrive - Ingenio Azucarero Guabira S.A\\\\_DATOS_PYTHON/informes/3412_CRS_30-04-2025_ESPINOZA VILLCA DIONICIO_498.docx',\n",
       " 'G:\\\\OneDrive - Ingenio Azucarero Guabira S.A\\\\_DATOS_PYTHON/informes/40004_CRS_01-05-2025_AGUILERA RIVERO NICOLAS JULIO_475.docx',\n",
       " 'G:\\\\OneDrive - Ingenio Azucarero Guabira S.A\\\\_DATOS_PYTHON/informes/41962_CRS_25-04-2025_CANDIA ROJAS JORGE LUIS_558.docx',\n",
       " 'G:\\\\OneDrive - Ingenio Azucarero Guabira S.A\\\\_DATOS_PYTHON/informes/41980_CRS_30-04-2025_CASANOVA VELASCO JULIO CESAR_470.docx',\n",
       " 'G:\\\\OneDrive - Ingenio Azucarero Guabira S.A\\\\_DATOS_PYTHON/informes/42229_CRS_29-04-2025_CANDIA ROJAS JOSE LUIS_559.docx']"
      ]
     },
     "execution_count": 4,
     "metadata": {},
     "output_type": "execute_result"
    }
   ],
   "source": [
    "# colocar aqui la ruta de los archivos\n",
    "path = ruta_completa + r'/informes'\n",
    "contenido = os.listdir(path)\n",
    "rutas =[]\n",
    "i = 0\n",
    "for name in contenido:\n",
    "    rutas.append(path + '/' + name)\n",
    "    i+=1\n",
    "\n",
    "print('SE ENCONTRARON ' + str(i) + ' INFORMES')\n",
    "print(len(rutas), 'INFORMES')\n",
    "rutas"
   ]
  },
  {
   "cell_type": "markdown",
   "id": "6b9af706",
   "metadata": {
    "tags": []
   },
   "source": [
    "# INICIA EL PROCESO DE CONVERCIÓN"
   ]
  },
  {
   "cell_type": "code",
   "execution_count": 5,
   "id": "cdbc481d-e9f8-4a85-946f-4c45abd61e87",
   "metadata": {},
   "outputs": [
    {
     "data": {
      "text/plain": [
       "'G:\\\\OneDrive - Ingenio Azucarero Guabira S.A\\\\_DATOS_PYTHON/pdf/2626_CRS_30-04-2025_CONDORI QUEVEDO JORGE_459.pdf'"
      ]
     },
     "execution_count": 5,
     "metadata": {},
     "output_type": "execute_result"
    }
   ],
   "source": [
    "rutas[1].replace('.docx','.pdf').replace('informes','pdf')"
   ]
  },
  {
   "cell_type": "code",
   "execution_count": 6,
   "id": "13d4b150-97ec-4f5f-ae67-8494243a499a",
   "metadata": {},
   "outputs": [
    {
     "data": {
      "text/plain": [
       "'G:\\\\OneDrive - Ingenio Azucarero Guabira S.A\\\\_DATOS_PYTHON/pdf/2626_CRS_30-04-2025_CONDORI QUEVEDO JORGE_459.pdf'"
      ]
     },
     "execution_count": 6,
     "metadata": {},
     "output_type": "execute_result"
    }
   ],
   "source": [
    "rutas[1].replace('.docx','.pdf').replace('informes','pdf')"
   ]
  },
  {
   "cell_type": "code",
   "execution_count": 7,
   "id": "0f018b1e",
   "metadata": {
    "tags": []
   },
   "outputs": [
    {
     "name": "stdout",
     "output_type": "stream",
     "text": [
      "CONVIRTIENDO... INFORME 1 G:\\OneDrive - Ingenio Azucarero Guabira S.A\\_DATOS_PYTHON/informes/13763_CRS_24-04-2025_TUFINO SCHWENK RUBEN DARIO_577.docx\n",
      "G:\\OneDrive - Ingenio Azucarero Guabira S.A\\_DATOS_PYTHON/informes/13763_CRS_24-04-2025_TUFINO SCHWENK RUBEN DARIO_577.docx\n",
      "G:\\OneDrive - Ingenio Azucarero Guabira S.A\\_DATOS_PYTHON/pdfs/13763_CRS_24-04-2025_TUFINO SCHWENK RUBEN DARIO_577.pdf\n"
     ]
    },
    {
     "data": {
      "application/vnd.jupyter.widget-view+json": {
       "model_id": "9c61f5febadf4e9d8445a7e2e72d619a",
       "version_major": 2,
       "version_minor": 0
      },
      "text/plain": [
       "  0%|          | 0/1 [00:00<?, ?it/s]"
      ]
     },
     "metadata": {},
     "output_type": "display_data"
    },
    {
     "name": "stdout",
     "output_type": "stream",
     "text": [
      "CONVIRTIENDO... INFORME 2 G:\\OneDrive - Ingenio Azucarero Guabira S.A\\_DATOS_PYTHON/informes/2626_CRS_30-04-2025_CONDORI QUEVEDO JORGE_459.docx\n",
      "G:\\OneDrive - Ingenio Azucarero Guabira S.A\\_DATOS_PYTHON/informes/2626_CRS_30-04-2025_CONDORI QUEVEDO JORGE_459.docx\n",
      "G:\\OneDrive - Ingenio Azucarero Guabira S.A\\_DATOS_PYTHON/pdfs/2626_CRS_30-04-2025_CONDORI QUEVEDO JORGE_459.pdf\n"
     ]
    },
    {
     "data": {
      "application/vnd.jupyter.widget-view+json": {
       "model_id": "e08ac20addf24538a7ed6dfc70bb025b",
       "version_major": 2,
       "version_minor": 0
      },
      "text/plain": [
       "  0%|          | 0/1 [00:00<?, ?it/s]"
      ]
     },
     "metadata": {},
     "output_type": "display_data"
    },
    {
     "name": "stdout",
     "output_type": "stream",
     "text": [
      "CONVIRTIENDO... INFORME 3 G:\\OneDrive - Ingenio Azucarero Guabira S.A\\_DATOS_PYTHON/informes/3412_CRS_30-04-2025_ESPINOZA VILLCA DIONICIO_498.docx\n",
      "G:\\OneDrive - Ingenio Azucarero Guabira S.A\\_DATOS_PYTHON/informes/3412_CRS_30-04-2025_ESPINOZA VILLCA DIONICIO_498.docx\n",
      "G:\\OneDrive - Ingenio Azucarero Guabira S.A\\_DATOS_PYTHON/pdfs/3412_CRS_30-04-2025_ESPINOZA VILLCA DIONICIO_498.pdf\n"
     ]
    },
    {
     "data": {
      "application/vnd.jupyter.widget-view+json": {
       "model_id": "0e7dc3b37c8a41a28d5d28472cee6efb",
       "version_major": 2,
       "version_minor": 0
      },
      "text/plain": [
       "  0%|          | 0/1 [00:00<?, ?it/s]"
      ]
     },
     "metadata": {},
     "output_type": "display_data"
    },
    {
     "name": "stdout",
     "output_type": "stream",
     "text": [
      "CONVIRTIENDO... INFORME 4 G:\\OneDrive - Ingenio Azucarero Guabira S.A\\_DATOS_PYTHON/informes/40004_CRS_01-05-2025_AGUILERA RIVERO NICOLAS JULIO_475.docx\n",
      "G:\\OneDrive - Ingenio Azucarero Guabira S.A\\_DATOS_PYTHON/informes/40004_CRS_01-05-2025_AGUILERA RIVERO NICOLAS JULIO_475.docx\n",
      "G:\\OneDrive - Ingenio Azucarero Guabira S.A\\_DATOS_PYTHON/pdfs/40004_CRS_01-05-2025_AGUILERA RIVERO NICOLAS JULIO_475.pdf\n"
     ]
    },
    {
     "data": {
      "application/vnd.jupyter.widget-view+json": {
       "model_id": "5bc87389e9174f6b805583ce03acff16",
       "version_major": 2,
       "version_minor": 0
      },
      "text/plain": [
       "  0%|          | 0/1 [00:00<?, ?it/s]"
      ]
     },
     "metadata": {},
     "output_type": "display_data"
    },
    {
     "name": "stdout",
     "output_type": "stream",
     "text": [
      "CONVIRTIENDO... INFORME 5 G:\\OneDrive - Ingenio Azucarero Guabira S.A\\_DATOS_PYTHON/informes/41962_CRS_25-04-2025_CANDIA ROJAS JORGE LUIS_558.docx\n",
      "G:\\OneDrive - Ingenio Azucarero Guabira S.A\\_DATOS_PYTHON/informes/41962_CRS_25-04-2025_CANDIA ROJAS JORGE LUIS_558.docx\n",
      "G:\\OneDrive - Ingenio Azucarero Guabira S.A\\_DATOS_PYTHON/pdfs/41962_CRS_25-04-2025_CANDIA ROJAS JORGE LUIS_558.pdf\n"
     ]
    },
    {
     "data": {
      "application/vnd.jupyter.widget-view+json": {
       "model_id": "5149846013ba4f83a1882d642cd7a6f9",
       "version_major": 2,
       "version_minor": 0
      },
      "text/plain": [
       "  0%|          | 0/1 [00:00<?, ?it/s]"
      ]
     },
     "metadata": {},
     "output_type": "display_data"
    },
    {
     "name": "stdout",
     "output_type": "stream",
     "text": [
      "CONVIRTIENDO... INFORME 6 G:\\OneDrive - Ingenio Azucarero Guabira S.A\\_DATOS_PYTHON/informes/41980_CRS_30-04-2025_CASANOVA VELASCO JULIO CESAR_470.docx\n",
      "G:\\OneDrive - Ingenio Azucarero Guabira S.A\\_DATOS_PYTHON/informes/41980_CRS_30-04-2025_CASANOVA VELASCO JULIO CESAR_470.docx\n",
      "G:\\OneDrive - Ingenio Azucarero Guabira S.A\\_DATOS_PYTHON/pdfs/41980_CRS_30-04-2025_CASANOVA VELASCO JULIO CESAR_470.pdf\n"
     ]
    },
    {
     "data": {
      "application/vnd.jupyter.widget-view+json": {
       "model_id": "57df2881880c48058316cc297373a1e0",
       "version_major": 2,
       "version_minor": 0
      },
      "text/plain": [
       "  0%|          | 0/1 [00:00<?, ?it/s]"
      ]
     },
     "metadata": {},
     "output_type": "display_data"
    },
    {
     "name": "stdout",
     "output_type": "stream",
     "text": [
      "CONVIRTIENDO... INFORME 7 G:\\OneDrive - Ingenio Azucarero Guabira S.A\\_DATOS_PYTHON/informes/42229_CRS_29-04-2025_CANDIA ROJAS JOSE LUIS_559.docx\n",
      "G:\\OneDrive - Ingenio Azucarero Guabira S.A\\_DATOS_PYTHON/informes/42229_CRS_29-04-2025_CANDIA ROJAS JOSE LUIS_559.docx\n",
      "G:\\OneDrive - Ingenio Azucarero Guabira S.A\\_DATOS_PYTHON/pdfs/42229_CRS_29-04-2025_CANDIA ROJAS JOSE LUIS_559.pdf\n"
     ]
    },
    {
     "data": {
      "application/vnd.jupyter.widget-view+json": {
       "model_id": "690fe7f0a281477ea657f0b8df4f3b3f",
       "version_major": 2,
       "version_minor": 0
      },
      "text/plain": [
       "  0%|          | 0/1 [00:00<?, ?it/s]"
      ]
     },
     "metadata": {},
     "output_type": "display_data"
    },
    {
     "name": "stdout",
     "output_type": "stream",
     "text": [
      "END\n"
     ]
    }
   ],
   "source": [
    "i = 1\n",
    "for filename in rutas:\n",
    "    print('CONVIRTIENDO... INFORME ' + str(i) + ' ' + filename)\n",
    "    # se realiza la convrsion pasando parametro de salida y entrada, \n",
    "    # para la salida se reemplaza la extencion y la ruta\n",
    "    print(filename)\n",
    "    print(filename.replace('.docx','.pdf').replace('informes','pdfs'))\n",
    "    pdf = filename.replace('.docx','.pdf').replace('informes','pdfs').split('/')[-1]\n",
    "    convert(filename, r'C:\\Users\\Usuario\\Downloads\\\\' + pdf)\n",
    "    i+=1\n",
    "    time.sleep(5)\n",
    "print('END')"
   ]
  },
  {
   "cell_type": "markdown",
   "id": "455ef654-fe35-492c-8f69-3dc00102b0bb",
   "metadata": {},
   "source": [
    "# Leer archivos"
   ]
  },
  {
   "cell_type": "code",
   "execution_count": 8,
   "id": "df0f066e-d897-4ca6-a8cd-23b40ad41307",
   "metadata": {},
   "outputs": [
    {
     "name": "stdout",
     "output_type": "stream",
     "text": [
      "Your browser has been opened to visit:\n",
      "\n",
      "    https://accounts.google.com/o/oauth2/auth?client_id=1096764895697-57btfmtn7rdejufct5qq4j9mi61j0unl.apps.googleusercontent.com&redirect_uri=http%3A%2F%2Flocalhost%3A8080%2F&scope=https%3A%2F%2Fwww.googleapis.com%2Fauth%2Fdrive&access_type=offline&response_type=code\n",
      "\n",
      "Authentication successful.\n"
     ]
    }
   ],
   "source": [
    "# CONEXION A GOOGLE DRIVE\n",
    "from pydrive.auth import GoogleAuth\n",
    "from pydrive.drive import GoogleDrive\n",
    "gauth = GoogleAuth()\n",
    "gauth.LocalWebserverAuth() # client_secrets.json need to be in the same directory as the script\n",
    "drive = GoogleDrive(gauth)"
   ]
  },
  {
   "cell_type": "code",
   "execution_count": 9,
   "id": "5bc6184d-91a1-42a1-a809-84014f898d43",
   "metadata": {},
   "outputs": [
    {
     "name": "stdout",
     "output_type": "stream",
     "text": [
      "7 informes\n"
     ]
    },
    {
     "data": {
      "text/plain": [
       "{13763: '13763_CRS_24-04-2025_TUFINO SCHWENK RUBEN DARIO_577.pdf',\n",
       " 2626: '2626_CRS_30-04-2025_CONDORI QUEVEDO JORGE_459.pdf',\n",
       " 3412: '3412_CRS_30-04-2025_ESPINOZA VILLCA DIONICIO_498.pdf',\n",
       " 40004: '40004_CRS_01-05-2025_AGUILERA RIVERO NICOLAS JULIO_475.pdf',\n",
       " 41962: '41962_CRS_25-04-2025_CANDIA ROJAS JORGE LUIS_558.pdf',\n",
       " 41980: '41980_CRS_30-04-2025_CASANOVA VELASCO JULIO CESAR_470.pdf',\n",
       " 42229: '42229_CRS_29-04-2025_CANDIA ROJAS JOSE LUIS_559.pdf'}"
      ]
     },
     "execution_count": 9,
     "metadata": {},
     "output_type": "execute_result"
    }
   ],
   "source": [
    "contenido = os.listdir(ruta_completa + r'/pdf')\n",
    "dic_files = {}\n",
    "for file in contenido:\n",
    "    split = file.split('_')\n",
    "    dic_files[int(split[0])] = file\n",
    "print(len(dic_files), 'informes')\n",
    "dic_files"
   ]
  },
  {
   "cell_type": "markdown",
   "id": "68778c6d-31c1-4f6f-880c-5d3f2d04ed17",
   "metadata": {},
   "source": [
    "# CARGAR LOS PDFS A GOOGLE DRIVE"
   ]
  },
  {
   "cell_type": "code",
   "execution_count": 10,
   "id": "aaf8d01b-5324-4b14-a67d-a6162850efa2",
   "metadata": {},
   "outputs": [
    {
     "name": "stdout",
     "output_type": "stream",
     "text": [
      "Created file 13763_CRS_24-04-2025_TUFINO SCHWENK RUBEN DARIO_577.pdf with mimeType application/pdf\n",
      "Created file 2626_CRS_30-04-2025_CONDORI QUEVEDO JORGE_459.pdf with mimeType application/pdf\n",
      "Created file 3412_CRS_30-04-2025_ESPINOZA VILLCA DIONICIO_498.pdf with mimeType application/pdf\n",
      "Created file 40004_CRS_01-05-2025_AGUILERA RIVERO NICOLAS JULIO_475.pdf with mimeType application/pdf\n",
      "Created file 41962_CRS_25-04-2025_CANDIA ROJAS JORGE LUIS_558.pdf with mimeType application/pdf\n",
      "Created file 41980_CRS_30-04-2025_CASANOVA VELASCO JULIO CESAR_470.pdf with mimeType application/pdf\n",
      "Created file 42229_CRS_29-04-2025_CANDIA ROJAS JOSE LUIS_559.pdf with mimeType application/pdf\n",
      "end\n"
     ]
    }
   ],
   "source": [
    "# CARGAR LOS PDFS A GOOGLE DRIVE\n",
    "dic_urls = {}\n",
    "# View all folders and file in your Google Drive\n",
    "fileList = drive.ListFile({'q': \"'root' in parents and trashed=false\"}).GetList()\n",
    "for file in fileList:\n",
    "  #print('Title: %s, ID: %s' % (file['title'], file['id']))\n",
    "  # Get the folder ID that you want\n",
    "  if(file['title'] == \"2DA_INSPECCION\"):\n",
    "      fileID = file['id']\n",
    "\n",
    "for file in dic_files:\n",
    "    file1 = drive.CreateFile({\"mimeType\": \"application/pdf\", \"parents\": [{\"kind\": \"drive#fileLink\", \"id\": fileID}]})\n",
    "    file1['title'] = dic_files[file]\n",
    "    file1.SetContentFile(ruta_completa + r'/pdf//' + dic_files[file])\n",
    "    file1.Upload() # Upload the file.\n",
    "    print('Created file %s with mimeType %s' % (file1['title'], file1['mimeType']))\n",
    "    permission = file1.InsertPermission({\n",
    "                        'type': 'anyone',\n",
    "                        'value': 'anyone',\n",
    "                        'role': 'reader'})\n",
    "    dic_urls[file] = file1['alternateLink']\n",
    "dic_urls\n",
    "print('end')"
   ]
  },
  {
   "cell_type": "code",
   "execution_count": 11,
   "id": "6aceb417-cee6-413c-917f-f03bcba671b6",
   "metadata": {},
   "outputs": [
    {
     "name": "stdout",
     "output_type": "stream",
     "text": [
      "7 URLs\n"
     ]
    },
    {
     "data": {
      "text/plain": [
       "{13763: 'https://drive.google.com/file/d/1muGyI_sWIeX1S019tcr8swAvaqK48b1y/view?usp=drivesdk',\n",
       " 2626: 'https://drive.google.com/file/d/14u6wxSQ9yIl7wdTxsa7VjOPOswNFUHjb/view?usp=drivesdk',\n",
       " 3412: 'https://drive.google.com/file/d/1ZGJoMv52qT5M0MF8tVR7tqvhqPnJx4Ek/view?usp=drivesdk',\n",
       " 40004: 'https://drive.google.com/file/d/1KbBcnORGcMGoSTa14L0xXVT_BVDuIoiM/view?usp=drivesdk',\n",
       " 41962: 'https://drive.google.com/file/d/12ZTGhj6FScja1nVCKmLgxNwFPh_rCPvX/view?usp=drivesdk',\n",
       " 41980: 'https://drive.google.com/file/d/1qlMvbVGmJqA1QCAeOZtZglwSfqxbsmMO/view?usp=drivesdk',\n",
       " 42229: 'https://drive.google.com/file/d/14rZOsxu83q28N-6UUsE22RJxeZyWyitb/view?usp=drivesdk'}"
      ]
     },
     "execution_count": 11,
     "metadata": {},
     "output_type": "execute_result"
    }
   ],
   "source": [
    "print(len(dic_urls), 'URLs')\n",
    "dic_urls"
   ]
  },
  {
   "cell_type": "markdown",
   "id": "6063c8ed-d601-4164-9af1-e1c2dbc865d0",
   "metadata": {},
   "source": [
    "# conexion a amigocloud"
   ]
  },
  {
   "cell_type": "code",
   "execution_count": 12,
   "id": "f0d01517-62ff-4a1f-a49b-79646323127e",
   "metadata": {},
   "outputs": [],
   "source": [
    "import sys\n",
    "sys.path.append('../../../_amigocloud')\n",
    "\n",
    "from amigocloud import AmigoCloud"
   ]
  },
  {
   "cell_type": "code",
   "execution_count": 13,
   "id": "fea924a5-9048-42a8-b912-6604dc5b6539",
   "metadata": {},
   "outputs": [
    {
     "data": {
      "text/plain": [
       "<amigocloud.AmigoCloud at 0x23354bd39d0>"
      ]
     },
     "execution_count": 13,
     "metadata": {},
     "output_type": "execute_result"
    }
   ],
   "source": [
    "# leer token\n",
    "acceso = open(ruta_completa + '/_keys/api_amigocloud.key','r')\n",
    "api_token = acceso.readlines()[0]\n",
    "acceso.close()\n",
    "amigocloud = AmigoCloud(token=api_token)\n",
    "amigocloud"
   ]
  },
  {
   "cell_type": "code",
   "execution_count": 14,
   "id": "6ea99bee-0a6d-48a1-9833-6b8c2a62433a",
   "metadata": {},
   "outputs": [
    {
     "name": "stdout",
     "output_type": "stream",
     "text": [
      "13763\n",
      "2626\n",
      "3412\n",
      "40004\n",
      "41962\n",
      "41980\n",
      "42229\n",
      "end\n"
     ]
    }
   ],
   "source": [
    "for key in dic_urls:\n",
    "    query = {'query': 'update dataset_307560 set link_doc_2da = \\'{link}\\' where cast(SPLIT_PART(canhero, \\' / \\', 1) as integer) = \\'{cod}\\''.format(link=dic_urls[key], cod=key)}\n",
    "    res = amigocloud.post('https://app.amigocloud.com/api/v1/projects/32672/sql', query)\n",
    "    print(key)\n",
    "print('end')"
   ]
  }
 ],
 "metadata": {
  "kernelspec": {
   "display_name": "Python 3 (ipykernel)",
   "language": "python",
   "name": "python3"
  },
  "language_info": {
   "codemirror_mode": {
    "name": "ipython",
    "version": 3
   },
   "file_extension": ".py",
   "mimetype": "text/x-python",
   "name": "python",
   "nbconvert_exporter": "python",
   "pygments_lexer": "ipython3",
   "version": "3.10.13"
  }
 },
 "nbformat": 4,
 "nbformat_minor": 5
}
