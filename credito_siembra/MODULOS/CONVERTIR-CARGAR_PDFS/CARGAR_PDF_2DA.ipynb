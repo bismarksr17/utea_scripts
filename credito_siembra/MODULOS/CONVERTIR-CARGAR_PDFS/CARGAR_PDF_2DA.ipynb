{
 "cells": [
  {
   "cell_type": "markdown",
   "id": "18a80bc5",
   "metadata": {},
   "source": [
    "# INSTALAR LIBRERIAS"
   ]
  },
  {
   "cell_type": "code",
   "execution_count": 1,
   "id": "7e312719",
   "metadata": {},
   "outputs": [],
   "source": [
    "# !pip install docx2pdf\n",
    "#pip install ipywidgets"
   ]
  },
  {
   "cell_type": "code",
   "execution_count": 2,
   "id": "a961bc71-7ad5-436b-ad1a-1fa8b30e07d5",
   "metadata": {},
   "outputs": [
    {
     "ename": "NameError",
     "evalue": "name 'gegeg' is not defined",
     "output_type": "error",
     "traceback": [
      "\u001b[1;31m---------------------------------------------------------------------------\u001b[0m",
      "\u001b[1;31mNameError\u001b[0m                                 Traceback (most recent call last)",
      "Cell \u001b[1;32mIn[2], line 1\u001b[0m\n\u001b[1;32m----> 1\u001b[0m \u001b[43mgegeg\u001b[49m\n",
      "\u001b[1;31mNameError\u001b[0m: name 'gegeg' is not defined"
     ]
    }
   ],
   "source": [
    "gegeg"
   ]
  },
  {
   "cell_type": "markdown",
   "id": "7e934ca6",
   "metadata": {},
   "source": [
    "# IMPORTAR"
   ]
  },
  {
   "cell_type": "code",
   "execution_count": 1,
   "id": "508a28c7",
   "metadata": {},
   "outputs": [],
   "source": [
    "from docx2pdf import convert\n",
    "import os\n",
    "import time"
   ]
  },
  {
   "cell_type": "markdown",
   "id": "64ec4ba6",
   "metadata": {},
   "source": [
    "# CONSTRUIR LA RUTA DE LOS ARCHIVOS"
   ]
  },
  {
   "cell_type": "code",
   "execution_count": 2,
   "id": "4266a769-91f2-423e-b0c1-cb8107d38fa7",
   "metadata": {},
   "outputs": [],
   "source": [
    "def get_unidad_local():\n",
    "    try:\n",
    "        # ruta del archivo que contiene la información necesaria\n",
    "        with open('../../../../unidad_local.txt', 'r') as file:\n",
    "            unidad = file.readline().strip()\n",
    "            return unidad\n",
    "    except FileNotFoundError:\n",
    "        print(\"El archivo 'unidad_local.txt' no se encuentra en la ruta especificada.\")\n",
    "    return None\n",
    "\n",
    "def get_ruta_local():\n",
    "    try:\n",
    "        with open('../../../ruta_local.txt', 'r') as file:\n",
    "            ruta = file.readline().strip()\n",
    "            return ruta\n",
    "    except FileNotFoundError:\n",
    "        print(\"El archivo 'ruta_local.txt' no se encuentra en la ruta especificada.\")\n",
    "    return None"
   ]
  },
  {
   "cell_type": "code",
   "execution_count": 3,
   "id": "fdc89c38-395d-4864-9b10-ef5f1a8316b0",
   "metadata": {},
   "outputs": [
    {
     "data": {
      "text/plain": [
       "'G:\\\\OneDrive - Ingenio Azucarero Guabira S.A\\\\_DATOS_PYTHON'"
      ]
     },
     "execution_count": 3,
     "metadata": {},
     "output_type": "execute_result"
    }
   ],
   "source": [
    "unidad = get_unidad_local()\n",
    "ruta = get_ruta_local()\n",
    "ruta_completa = os.path.join(unidad, ruta)\n",
    "ruta_completa"
   ]
  },
  {
   "cell_type": "code",
   "execution_count": 4,
   "id": "1fc560f3",
   "metadata": {},
   "outputs": [
    {
     "name": "stdout",
     "output_type": "stream",
     "text": [
      "SE ENCONTRARON 0 INFORMES\n",
      "0 INFORMES\n"
     ]
    },
    {
     "data": {
      "text/plain": [
       "[]"
      ]
     },
     "execution_count": 4,
     "metadata": {},
     "output_type": "execute_result"
    }
   ],
   "source": [
    "# colocar aqui la ruta de los archivos\n",
    "path = ruta_completa + r'/informes'\n",
    "contenido = os.listdir(path)\n",
    "rutas =[]\n",
    "i = 0\n",
    "for name in contenido:\n",
    "    rutas.append(path + '/' + name)\n",
    "    i+=1\n",
    "\n",
    "print('SE ENCONTRARON ' + str(i) + ' INFORMES')\n",
    "print(len(rutas), 'INFORMES')\n",
    "rutas"
   ]
  },
  {
   "cell_type": "markdown",
   "id": "6b9af706",
   "metadata": {
    "tags": []
   },
   "source": [
    "# INICIA EL PROCESO DE CONVERCIÓN"
   ]
  },
  {
   "cell_type": "code",
   "execution_count": null,
   "id": "cdbc481d-e9f8-4a85-946f-4c45abd61e87",
   "metadata": {},
   "outputs": [],
   "source": [
    "rutas[1].replace('.docx','.pdf').replace('informes','pdf')"
   ]
  },
  {
   "cell_type": "code",
   "execution_count": null,
   "id": "13d4b150-97ec-4f5f-ae67-8494243a499a",
   "metadata": {},
   "outputs": [],
   "source": [
    "rutas[1].replace('.docx','.pdf').replace('informes','pdf')"
   ]
  },
  {
   "cell_type": "code",
   "execution_count": null,
   "id": "0f018b1e",
   "metadata": {
    "tags": []
   },
   "outputs": [],
   "source": [
    "i = 1\n",
    "for filename in rutas:\n",
    "    print('CONVIRTIENDO... INFORME ' + str(i) + ' ' + filename)\n",
    "    # se realiza la convrsion pasando parametro de salida y entrada, \n",
    "    # para la salida se reemplaza la extencion y la ruta\n",
    "    print(filename)\n",
    "    print(filename.replace('.docx','.pdf').replace('informes','pdf'))\n",
    "    pdf = filename.replace('.docx','.pdf').replace('informes','pdf').split('/')[-1]\n",
    "    convert(filename, r'C:\\Users\\bismarksr\\Downloads' + pdf)\n",
    "    i+=1\n",
    "    time.sleep(5)\n",
    "print('END')"
   ]
  },
  {
   "cell_type": "markdown",
   "id": "455ef654-fe35-492c-8f69-3dc00102b0bb",
   "metadata": {},
   "source": [
    "# Leer archivos"
   ]
  },
  {
   "cell_type": "code",
   "execution_count": 5,
   "id": "df0f066e-d897-4ca6-a8cd-23b40ad41307",
   "metadata": {},
   "outputs": [
    {
     "name": "stdout",
     "output_type": "stream",
     "text": [
      "Your browser has been opened to visit:\n",
      "\n",
      "    https://accounts.google.com/o/oauth2/auth?client_id=1096764895697-57btfmtn7rdejufct5qq4j9mi61j0unl.apps.googleusercontent.com&redirect_uri=http%3A%2F%2Flocalhost%3A8080%2F&scope=https%3A%2F%2Fwww.googleapis.com%2Fauth%2Fdrive&access_type=offline&response_type=code\n",
      "\n",
      "Authentication successful.\n"
     ]
    }
   ],
   "source": [
    "# CONEXION A GOOGLE DRIVE\n",
    "from pydrive.auth import GoogleAuth\n",
    "from pydrive.drive import GoogleDrive\n",
    "gauth = GoogleAuth()\n",
    "gauth.LocalWebserverAuth() # client_secrets.json need to be in the same directory as the script\n",
    "drive = GoogleDrive(gauth)"
   ]
  },
  {
   "cell_type": "code",
   "execution_count": null,
   "id": "2aff3017-ccab-4b68-b51b-9a9b80c784c1",
   "metadata": {},
   "outputs": [],
   "source": []
  },
  {
   "cell_type": "code",
   "execution_count": 6,
   "id": "5bc6184d-91a1-42a1-a809-84014f898d43",
   "metadata": {},
   "outputs": [
    {
     "name": "stdout",
     "output_type": "stream",
     "text": [
      "17 informes\n"
     ]
    },
    {
     "data": {
      "text/plain": [
       "{10806: '10806_CRS_11-06-2025_PALICIO BRUNO OSCAR ROBERTO_500.pdf',\n",
       " 12105: '12105_CRS_19-06-2025_ROCA REYES MIGUEL ANGEL_542.pdf',\n",
       " 13187: '13187_CRS_13-06-2025_SUAREZ CUELLAR REMBERTO_560.pdf',\n",
       " 1478: '1478_CRS_12-06-2025_CALLE RALDEZ MARCO ANTONIO_527.pdf',\n",
       " 15085: '15085_CRS_12-06-2025_CRUZ RUTH JACQUELINE B. DE_574.pdf',\n",
       " 2351: '2351_CRS_19-06-2025_CANDIA RUIZ ADALBERTO_556.pdf',\n",
       " 2353: '2353_CRS_19-06-2025_CARO BENITES GERMAN_456.pdf',\n",
       " 2505: '2505_CRS_12-06-2025_CRUZ BARRIENTOS CHRISTIAN FERNANDO_573.pdf',\n",
       " 2510: '2510_CRS_12-06-2025_CRUZ BARRIENTOS OSCAR ANDREZ_575.pdf',\n",
       " 40250: '40250_CRS_19-06-2025_AMURRIO MELGAROJO BISMARK ELISEO_482.pdf',\n",
       " 41591: '41591_CRS_04-06-2025_BENAVIDES GARCIA GABINO_484.pdf',\n",
       " 42239: '42239_CRS_13-06-2025_CORDOVA OLGUIN LEONARDO_563.pdf',\n",
       " 42347: '42347_CRS_19-06-2025_MERCADO KATERINE JUSTINIANO DE_518.pdf',\n",
       " 42378: '42378_CRS_19-06-2025_CANDIA RUIZ ORLANDO_557.pdf',\n",
       " 6638: '6638_CRS_24-06-2025_CABRERA LOMBARDI LEANDRO JAVIER_580.pdf',\n",
       " 8678: '8678_CRS_11-06-2025_MORENO ARIAS ADOLFO_541.pdf',\n",
       " 8838: '8838_CRS_18-06-2025_MENDEZ PAZ MIRYAM_492.pdf'}"
      ]
     },
     "execution_count": 6,
     "metadata": {},
     "output_type": "execute_result"
    }
   ],
   "source": [
    "contenido = os.listdir(ruta_completa + r'/pdf')\n",
    "dic_files = {}\n",
    "for file in contenido:\n",
    "    split = file.split('_')\n",
    "    dic_files[int(split[0])] = file\n",
    "print(len(dic_files), 'informes')\n",
    "dic_files"
   ]
  },
  {
   "cell_type": "markdown",
   "id": "68778c6d-31c1-4f6f-880c-5d3f2d04ed17",
   "metadata": {},
   "source": [
    "# CARGAR LOS PDFS A GOOGLE DRIVE"
   ]
  },
  {
   "cell_type": "code",
   "execution_count": 7,
   "id": "aaf8d01b-5324-4b14-a67d-a6162850efa2",
   "metadata": {},
   "outputs": [
    {
     "name": "stdout",
     "output_type": "stream",
     "text": [
      "Created file 10806_CRS_11-06-2025_PALICIO BRUNO OSCAR ROBERTO_500.pdf with mimeType application/pdf\n",
      "Created file 12105_CRS_19-06-2025_ROCA REYES MIGUEL ANGEL_542.pdf with mimeType application/pdf\n",
      "Created file 13187_CRS_13-06-2025_SUAREZ CUELLAR REMBERTO_560.pdf with mimeType application/pdf\n",
      "Created file 1478_CRS_12-06-2025_CALLE RALDEZ MARCO ANTONIO_527.pdf with mimeType application/pdf\n",
      "Created file 15085_CRS_12-06-2025_CRUZ RUTH JACQUELINE B. DE_574.pdf with mimeType application/pdf\n",
      "Created file 2351_CRS_19-06-2025_CANDIA RUIZ ADALBERTO_556.pdf with mimeType application/pdf\n",
      "Created file 2353_CRS_19-06-2025_CARO BENITES GERMAN_456.pdf with mimeType application/pdf\n",
      "Created file 2505_CRS_12-06-2025_CRUZ BARRIENTOS CHRISTIAN FERNANDO_573.pdf with mimeType application/pdf\n",
      "Created file 2510_CRS_12-06-2025_CRUZ BARRIENTOS OSCAR ANDREZ_575.pdf with mimeType application/pdf\n",
      "Created file 40250_CRS_19-06-2025_AMURRIO MELGAROJO BISMARK ELISEO_482.pdf with mimeType application/pdf\n",
      "Created file 41591_CRS_04-06-2025_BENAVIDES GARCIA GABINO_484.pdf with mimeType application/pdf\n",
      "Created file 42239_CRS_13-06-2025_CORDOVA OLGUIN LEONARDO_563.pdf with mimeType application/pdf\n",
      "Created file 42347_CRS_19-06-2025_MERCADO KATERINE JUSTINIANO DE_518.pdf with mimeType application/pdf\n",
      "Created file 42378_CRS_19-06-2025_CANDIA RUIZ ORLANDO_557.pdf with mimeType application/pdf\n",
      "Created file 6638_CRS_24-06-2025_CABRERA LOMBARDI LEANDRO JAVIER_580.pdf with mimeType application/pdf\n",
      "Created file 8678_CRS_11-06-2025_MORENO ARIAS ADOLFO_541.pdf with mimeType application/pdf\n",
      "Created file 8838_CRS_18-06-2025_MENDEZ PAZ MIRYAM_492.pdf with mimeType application/pdf\n",
      "end\n"
     ]
    }
   ],
   "source": [
    "# CARGAR LOS PDFS A GOOGLE DRIVE\n",
    "dic_urls = {}\n",
    "# View all folders and file in your Google Drive\n",
    "fileList = drive.ListFile({'q': \"'root' in parents and trashed=false\"}).GetList()\n",
    "for file in fileList:\n",
    "  #print('Title: %s, ID: %s' % (file['title'], file['id']))\n",
    "  # Get the folder ID that you want\n",
    "  if(file['title'] == \"2DA_INSPECCION\"):\n",
    "      fileID = file['id']\n",
    "\n",
    "for file in dic_files:\n",
    "    file1 = drive.CreateFile({\"mimeType\": \"application/pdf\", \"parents\": [{\"kind\": \"drive#fileLink\", \"id\": fileID}]})\n",
    "    file1['title'] = dic_files[file]\n",
    "    file1.SetContentFile(ruta_completa + r'/pdf//' + dic_files[file])\n",
    "    file1.Upload() # Upload the file.\n",
    "    print('Created file %s with mimeType %s' % (file1['title'], file1['mimeType']))\n",
    "    permission = file1.InsertPermission({\n",
    "                        'type': 'anyone',\n",
    "                        'value': 'anyone',\n",
    "                        'role': 'reader'})\n",
    "    dic_urls[file] = file1['alternateLink']\n",
    "dic_urls\n",
    "print('end')"
   ]
  },
  {
   "cell_type": "code",
   "execution_count": 8,
   "id": "6aceb417-cee6-413c-917f-f03bcba671b6",
   "metadata": {},
   "outputs": [
    {
     "name": "stdout",
     "output_type": "stream",
     "text": [
      "17 URLs\n"
     ]
    },
    {
     "data": {
      "text/plain": [
       "{10806: 'https://drive.google.com/file/d/178IppruoCUyNZVs8aOkiJP1CPXlYWFpk/view?usp=drivesdk',\n",
       " 12105: 'https://drive.google.com/file/d/1syIgQi1GfzLke_Pl_PvIfJnA9yrJI4SP/view?usp=drivesdk',\n",
       " 13187: 'https://drive.google.com/file/d/1K_nRGPaLFNc0VQzQrQc4LZdiBgdvQsW3/view?usp=drivesdk',\n",
       " 1478: 'https://drive.google.com/file/d/1Io5eGo3Flvbo8vfHTqHacZT52EVyCsWV/view?usp=drivesdk',\n",
       " 15085: 'https://drive.google.com/file/d/1P8QlSw5iulSTfIamCHUVWnst380yDcT6/view?usp=drivesdk',\n",
       " 2351: 'https://drive.google.com/file/d/1pPz7WU8VkScCGgc3jK_vSYdHLQJ77YPZ/view?usp=drivesdk',\n",
       " 2353: 'https://drive.google.com/file/d/1pdc-KdBEGAi8oGNZBO3hKYfSp_035Ad5/view?usp=drivesdk',\n",
       " 2505: 'https://drive.google.com/file/d/12IJV1nKNJWqjdnKTN6NDyIVa9LfrQKHI/view?usp=drivesdk',\n",
       " 2510: 'https://drive.google.com/file/d/1XhFhJbXuLLnDvqPUCV-u3g16BEU6GYKO/view?usp=drivesdk',\n",
       " 40250: 'https://drive.google.com/file/d/1DpwYAEKibOnhZ4TE7tDcTz-_VYane--J/view?usp=drivesdk',\n",
       " 41591: 'https://drive.google.com/file/d/1QSamBOPGtYyYfWiZ2HNSp8H7wSyt7gq1/view?usp=drivesdk',\n",
       " 42239: 'https://drive.google.com/file/d/1jIgMKGbygrxbm0zxg-o14d35Vgq1YbhE/view?usp=drivesdk',\n",
       " 42347: 'https://drive.google.com/file/d/1GiU9Rf91UuIh7VoihAg8TgDzEq108Q5M/view?usp=drivesdk',\n",
       " 42378: 'https://drive.google.com/file/d/1HWfXZ1PvaPVLudCDdEw_7_jqfAwy-yl4/view?usp=drivesdk',\n",
       " 6638: 'https://drive.google.com/file/d/1MHkQ9l7ubMz6p5FVMJzVh4nmH4szbE0D/view?usp=drivesdk',\n",
       " 8678: 'https://drive.google.com/file/d/1LWIi7BKa1AFr_0wN3UKuW0E6enBXkqbF/view?usp=drivesdk',\n",
       " 8838: 'https://drive.google.com/file/d/16cv_qvbY8dbGzVXjw9CSrsFSp3LlbuA5/view?usp=drivesdk'}"
      ]
     },
     "execution_count": 8,
     "metadata": {},
     "output_type": "execute_result"
    }
   ],
   "source": [
    "print(len(dic_urls), 'URLs')\n",
    "dic_urls"
   ]
  },
  {
   "cell_type": "markdown",
   "id": "6063c8ed-d601-4164-9af1-e1c2dbc865d0",
   "metadata": {},
   "source": [
    "# conexion a amigocloud"
   ]
  },
  {
   "cell_type": "code",
   "execution_count": 9,
   "id": "f0d01517-62ff-4a1f-a49b-79646323127e",
   "metadata": {},
   "outputs": [],
   "source": [
    "import sys\n",
    "sys.path.append('../../../_amigocloud')\n",
    "\n",
    "from amigocloud import AmigoCloud"
   ]
  },
  {
   "cell_type": "code",
   "execution_count": 10,
   "id": "fea924a5-9048-42a8-b912-6604dc5b6539",
   "metadata": {},
   "outputs": [
    {
     "data": {
      "text/plain": [
       "<amigocloud.AmigoCloud at 0x23fde32ffd0>"
      ]
     },
     "execution_count": 10,
     "metadata": {},
     "output_type": "execute_result"
    }
   ],
   "source": [
    "# leer token\n",
    "acceso = open(ruta_completa + '/_keys/api_amigocloud.key','r')\n",
    "api_token = acceso.readlines()[0]\n",
    "acceso.close()\n",
    "amigocloud = AmigoCloud(token=api_token)\n",
    "amigocloud"
   ]
  },
  {
   "cell_type": "code",
   "execution_count": 11,
   "id": "6ea99bee-0a6d-48a1-9833-6b8c2a62433a",
   "metadata": {},
   "outputs": [
    {
     "name": "stdout",
     "output_type": "stream",
     "text": [
      "10806\n",
      "12105\n",
      "13187\n",
      "1478\n",
      "15085\n",
      "2351\n",
      "2353\n",
      "2505\n",
      "2510\n",
      "40250\n",
      "41591\n",
      "42239\n",
      "42347\n",
      "42378\n",
      "6638\n",
      "8678\n",
      "8838\n",
      "end\n"
     ]
    }
   ],
   "source": [
    "for key in dic_urls:\n",
    "    query = {'query': 'update dataset_307560 set link_doc_2da = \\'{link}\\' where cast(SPLIT_PART(canhero, \\' / \\', 1) as integer) = \\'{cod}\\''.format(link=dic_urls[key], cod=key)}\n",
    "    res = amigocloud.post('https://app.amigocloud.com/api/v1/projects/32672/sql', query)\n",
    "    print(key)\n",
    "print('end')"
   ]
  }
 ],
 "metadata": {
  "kernelspec": {
   "display_name": "Python 3 (ipykernel)",
   "language": "python",
   "name": "python3"
  },
  "language_info": {
   "codemirror_mode": {
    "name": "ipython",
    "version": 3
   },
   "file_extension": ".py",
   "mimetype": "text/x-python",
   "name": "python",
   "nbconvert_exporter": "python",
   "pygments_lexer": "ipython3",
   "version": "3.10.13"
  }
 },
 "nbformat": 4,
 "nbformat_minor": 5
}
