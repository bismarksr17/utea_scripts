{
 "cells": [
  {
   "cell_type": "code",
   "execution_count": 88,
   "id": "8f306fa4-6d51-4cdd-8c30-d79a5873b85c",
   "metadata": {},
   "outputs": [
    {
     "data": {
      "text/html": [
       "<p>To authorize access needed by Earth Engine, open the following\n",
       "        URL in a web browser and follow the instructions:</p>\n",
       "        <p><a href=https://code.earthengine.google.com/client-auth?scopes=https%3A//www.googleapis.com/auth/earthengine%20https%3A//www.googleapis.com/auth/devstorage.full_control&request_id=mtj03sOeMsOG36iR0dUHgxkTMaL3yTyTOW7-Scls_Ig&tc=VBybtDTN0wVsAqNvhe2sGWrAEUyphYjuN_TDlTEfCLw&cc=GAI6aVuhhNYfzqJ516HjyOP--vKaN1idvbPyIG_hNJA>https://code.earthengine.google.com/client-auth?scopes=https%3A//www.googleapis.com/auth/earthengine%20https%3A//www.googleapis.com/auth/devstorage.full_control&request_id=mtj03sOeMsOG36iR0dUHgxkTMaL3yTyTOW7-Scls_Ig&tc=VBybtDTN0wVsAqNvhe2sGWrAEUyphYjuN_TDlTEfCLw&cc=GAI6aVuhhNYfzqJ516HjyOP--vKaN1idvbPyIG_hNJA</a></p>\n",
       "        <p>The authorization workflow will generate a code, which you should paste in the box below.</p>\n",
       "        "
      ],
      "text/plain": [
       "<IPython.core.display.HTML object>"
      ]
     },
     "metadata": {},
     "output_type": "display_data"
    },
    {
     "name": "stdin",
     "output_type": "stream",
     "text": [
      "Enter verification code:  4/1AeanS0bnhhgWG2rTpk5k2GbLH7uGFA3_YJp3qgok0Jc5Q-bFoil-JWTIhNc\n"
     ]
    },
    {
     "name": "stdout",
     "output_type": "stream",
     "text": [
      "\n",
      "Successfully saved authorization token.\n"
     ]
    }
   ],
   "source": [
    "import ee\n",
    "ee.Authenticate()"
   ]
  },
  {
   "cell_type": "code",
   "execution_count": 156,
   "id": "2b9cc137-58f4-460b-a91e-5d9f4b8d1d67",
   "metadata": {},
   "outputs": [],
   "source": [
    "import ee\n",
    "import geemap\n",
    "import os\n",
    "import ipywidgets as widgets\n",
    "import pandas as pd"
   ]
  },
  {
   "cell_type": "code",
   "execution_count": 157,
   "id": "f093f605-ae5d-47e3-9cd4-ab21c090101d",
   "metadata": {},
   "outputs": [],
   "source": [
    "# variables globales\n",
    "PROPIEDAD = None"
   ]
  },
  {
   "cell_type": "code",
   "execution_count": 176,
   "id": "f7f6220e-0da7-48a1-b3bf-4b74d598f8d7",
   "metadata": {},
   "outputs": [],
   "source": [
    "os.environ[\"ROADMAP\"] = 'https://mt1.google.com/vt/lyrs=m&x={x}&y={y}&z={z}'\n",
    "os.environ[\"SATELLITE\"] = 'https://mt1.google.com/vt/lyrs=s&x={x}&y={y}&z={z}'\n",
    "os.environ[\"TERRAIN\"] = 'https://mt1.google.com/vt/lyrs=p&x={x}&y={y}&z={z}'\n",
    "os.environ[\"HYBRID\"] = 'https://mt1.google.com/vt/lyrs=y&x={x}&y={y}&z={z}'\n",
    "\n",
    "Map = geemap.Map()\n",
    "Map.add_basemap(\"SATELLITE\")"
   ]
  },
  {
   "cell_type": "code",
   "execution_count": 177,
   "id": "337e7fc9-f797-4cfd-9015-a2b5f81dc382",
   "metadata": {},
   "outputs": [],
   "source": [
    "vis_params_caña = {\n",
    "    'color': 'red', \n",
    "    'width': 2,\n",
    "    'lineType': 'solid',\n",
    "    'fillColor': '00000000',\n",
    "}\n",
    "\n",
    "# visualizacion de la imagen en RGB\n",
    "viz_img = {\n",
    "    'bands':['RED','GREEN','BLUE'],\n",
    "    'min':0.0,\n",
    "    'max':0.5,\n",
    "    'fillColorOpacity': '0'\n",
    "}"
   ]
  },
  {
   "cell_type": "code",
   "execution_count": 178,
   "id": "e237f600-effa-4971-afb6-24ac6c362aa8",
   "metadata": {},
   "outputs": [],
   "source": [
    "def cargar_lotes(gui):\n",
    "    global PROPIEDAD\n",
    "    PROPIEDAD = ee.FeatureCollection(ruta_cat.value)\\\n",
    "                .filter(ee.Filter.eq('unidad_01', cod_prop.value))\n",
    "    if PROPIEDAD.size().getInfo() > 0:\n",
    "        establecer_estado('Propiedad: ' + PROPIEDAD.first().get('unidad_02').getInfo())\n",
    "    else:\n",
    "        establecer_estado('Código de propiedad incorrecto...!!!')\n",
    "    Map.centerObject(PROPIEDAD.geometry(), 14)\n",
    "    Map.addLayer(PROPIEDAD.style(**vis_params_caña), {}, 'Lotes')\n",
    "    Map.remove_labels()\n",
    "    Map.add_labels(PROPIEDAD, 'unidad_05', font_size='9pt', font_color='black', font_family='arial', font_weight='bold')\n",
    "\n",
    "# funcion de buscar imagenes sat, para el boton de Buscar Imagenes\n",
    "def buscar_imgs(gui):\n",
    "    global PROPIEDAD, DF_IMGS\n",
    "    establecer_estado('Buscando imagenes...')\n",
    "    coleccion = ee.ImageCollection('COPERNICUS/S2_SR')\\\n",
    "                .filterBounds(PROPIEDAD.geometry())\\\n",
    "                .filterDate(fecha_inicio.value.strftime('%Y-%m-%d'), fecha_final.value.strftime('%Y-%m-%d'))\\\n",
    "                .filterMetadata('CLOUDY_PIXEL_PERCENTAGE', 'less_than', 99)\n",
    "    # extraer IDs de la coleccion\n",
    "    ids = coleccion.reduceColumns(ee.Reducer.toList(), ['system:index']).get('list').getInfo()\n",
    "    # extraer fechas\n",
    "    fechas = get_fechas(coleccion).getInfo()\n",
    "    # tabla de datos\n",
    "    dic = {'FECHA':fechas, 'ID':ids}\n",
    "    DF_IMGS = pd.DataFrame(dic)\n",
    "    lista=[]\n",
    "    contador=0\n",
    "    for i in DF_IMGS.values.tolist():\n",
    "        texto = str(contador) + ' - ' + i[0] + ' (' + i[1] + ')'\n",
    "        lista.append((texto, contador))\n",
    "        contador+=1\n",
    "    lista_imgs.options=lista\n",
    "    establecer_estado(str(contador) + ' imagentes encontradas...!!!')\n",
    "    \n",
    "# funcion para el control DROPDOWN, cuando selecciona una imagen\n",
    "def cargar_img(gui):\n",
    "    index = gui.new\n",
    "    \n",
    "    id_imagen = DF_IMGS.loc[index]['ID']\n",
    "\n",
    "    # carga la imagen con las bandas de interes\n",
    "    img = ee.Image('COPERNICUS/S2_SR/'+id_imagen)\\\n",
    "            .multiply(0.0001)\\\n",
    "            .select(['B2','B3','B4','B8'], ['BLUE','GREEN','RED','NIR'])\n",
    "    Map.addLayer(img, viz_img, 'Imagen Sat')\n",
    "    Map.addLayer(PROPIEDAD.style(**vis_params_caña), {}, 'Lotes')\n",
    "    \n",
    "# extraer fechas de ImageCollection\n",
    "def get_fechas(coll):\n",
    "    def extraer_fecha(img):\n",
    "        return ee.Image(img).date().format('dd/MM/YYYY')\n",
    "    return coll.toList(coll.size(),0).map(extraer_fecha)    \n",
    "\n",
    "def establecer_estado(estado):\n",
    "    out.clear_output()\n",
    "    with out:\n",
    "        print(estado)"
   ]
  },
  {
   "cell_type": "code",
   "execution_count": 179,
   "id": "7c72ce59-1d38-4a84-9c71-5776ad4c8409",
   "metadata": {},
   "outputs": [],
   "source": [
    "# textbox catastro\n",
    "ruta_cat = widgets.Text(\n",
    "    value='projects/ee-bismarksr17/assets/LOTES_2024',\n",
    "    placeholder='Ruta de CATASTRO',\n",
    "    disabled=False\n",
    ")\n",
    "\n",
    "# textbox codigo cañero\n",
    "cod_prop = widgets.BoundedIntText(\n",
    "    value=0,\n",
    "    min=0,\n",
    "    max=99999,\n",
    "    step=1,\n",
    "    disabled=False\n",
    ")\n",
    "\n",
    "# boton buscar propiedad\n",
    "btn_cargar_prop = widgets.Button(\n",
    "    description='Cargar Propiedad',\n",
    "    disabled=False,\n",
    "    button_style='', # 'success', 'info', 'warning', 'danger' or ''\n",
    "    tooltip='Cargar',\n",
    ")\n",
    "btn_cargar_prop.on_click(cargar_lotes)\n",
    "\n",
    "# datepiker para fecha inicio\n",
    "fecha_inicio = widgets.DatePicker(\n",
    "    disabled=False\n",
    ")\n",
    "\n",
    "# datepiker para fecha fin\n",
    "fecha_final = widgets.DatePicker(\n",
    "    disabled=False\n",
    ")\n",
    "\n",
    "# boton buscar imagenes SENTINEL-2\n",
    "btn_buscar_imgs = widgets.Button(\n",
    "    description='Buscar Imagenes',\n",
    "    disabled=False,\n",
    "    button_style='', # 'success', 'info', 'warning', 'danger' or ''\n",
    "    tooltip='Cargar',\n",
    ")\n",
    "btn_buscar_imgs.on_click(buscar_imgs)\n",
    "\n",
    "# dropdown control, para mostrar coleccion de imagenes\n",
    "lista_imgs = widgets.Dropdown(\n",
    "    options=['-'],\n",
    "    value='-'\n",
    ")\n",
    "lista_imgs.observe(cargar_img, names='index')"
   ]
  },
  {
   "cell_type": "code",
   "execution_count": 180,
   "id": "70ab243a-2b47-46f1-882b-a6a330e90ed2",
   "metadata": {},
   "outputs": [
    {
     "data": {
      "application/vnd.jupyter.widget-view+json": {
       "model_id": "5f63b084e3ed4d7191c2367f7c88ad6d",
       "version_major": 2,
       "version_minor": 0
      },
      "text/plain": [
       "Box(children=(Box(children=(Label(value='CATASTRO:'), Text(value='projects/ee-bismarksr17/assets/LOTES_2024', …"
      ]
     },
     "execution_count": 180,
     "metadata": {},
     "output_type": "execute_result"
    }
   ],
   "source": [
    "form_item_layout = widgets.Layout(\n",
    "    display='flex',\n",
    "    flex_flow='row',\n",
    "    width='100%'\n",
    ")\n",
    "\n",
    "form_items = [\n",
    "    widgets.Box([widgets.Label(value='CATASTRO:'), ruta_cat], layout=form_item_layout),\n",
    "    widgets.Box([widgets.Label(value='COD PROP:'), cod_prop], layout=form_item_layout),\n",
    "    widgets.Box([btn_cargar_prop], layout=form_item_layout),\n",
    "    widgets.Box([widgets.Label(value='FECHA INICIO:'), fecha_inicio], layout=form_item_layout),\n",
    "    widgets.Box([widgets.Label(value='FECHA FINAL :'), fecha_final], layout=form_item_layout),\n",
    "    widgets.Box([btn_buscar_imgs], layout=form_item_layout),\n",
    "    widgets.Box([widgets.Label(value='IMAGENES S2:'), lista_imgs], layout=form_item_layout)\n",
    "]\n",
    "\n",
    "form = widgets.Box(form_items, layout=widgets.Layout(\n",
    "    display='flex',\n",
    "    flex_flow='column',\n",
    "    border='solid 1px',\n",
    "    align_items='stretch',\n",
    "    width='100%'\n",
    "))\n",
    "form"
   ]
  },
  {
   "cell_type": "code",
   "execution_count": 181,
   "id": "35a3431d-9aa8-49e2-a6de-d894af1e0afa",
   "metadata": {},
   "outputs": [
    {
     "data": {
      "application/vnd.jupyter.widget-view+json": {
       "model_id": "5e571f31b8ef4afcb390bcb0c80db20d",
       "version_major": 2,
       "version_minor": 0
      },
      "text/plain": [
       "Output(layout=Layout(border_bottom='1px solid black', border_left='1px solid black', border_right='1px solid b…"
      ]
     },
     "execution_count": 181,
     "metadata": {},
     "output_type": "execute_result"
    }
   ],
   "source": [
    "out = widgets.Output(layout={'border': '1px solid black'})\n",
    "out"
   ]
  },
  {
   "cell_type": "code",
   "execution_count": 182,
   "id": "5b8596d1-cc06-483b-abc2-6adba09c7fe5",
   "metadata": {},
   "outputs": [
    {
     "data": {
      "application/vnd.jupyter.widget-view+json": {
       "model_id": "6168916d081a4a8992ec7389a0897605",
       "version_major": 2,
       "version_minor": 0
      },
      "text/plain": [
       "Map(center=[20, 0], controls=(WidgetControl(options=['position', 'transparent_bg'], widget=HBox(children=(Togg…"
      ]
     },
     "execution_count": 182,
     "metadata": {},
     "output_type": "execute_result"
    }
   ],
   "source": [
    "Map"
   ]
  },
  {
   "cell_type": "code",
   "execution_count": null,
   "id": "ad4844a7-19c2-4e8c-98ee-0fce58edde35",
   "metadata": {},
   "outputs": [],
   "source": []
  },
  {
   "cell_type": "code",
   "execution_count": null,
   "id": "2c356d61-ba69-48ab-a02d-eb9001681a91",
   "metadata": {},
   "outputs": [],
   "source": []
  }
 ],
 "metadata": {
  "kernelspec": {
   "display_name": "Python 3 (ipykernel)",
   "language": "python",
   "name": "python3"
  },
  "language_info": {
   "codemirror_mode": {
    "name": "ipython",
    "version": 3
   },
   "file_extension": ".py",
   "mimetype": "text/x-python",
   "name": "python",
   "nbconvert_exporter": "python",
   "pygments_lexer": "ipython3",
   "version": "3.10.13"
  }
 },
 "nbformat": 4,
 "nbformat_minor": 5
}
