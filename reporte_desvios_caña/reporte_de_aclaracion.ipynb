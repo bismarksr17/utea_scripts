{
 "cells": [
  {
   "cell_type": "code",
   "execution_count": 1,
   "id": "8e4511a6-8d76-4455-b27f-913e8e06966d",
   "metadata": {},
   "outputs": [],
   "source": [
    "import geopandas as gpd\n",
    "import matplotlib.pyplot as plt\n",
    "import pandas as pd\n",
    "from datetime import datetime\n",
    "\n",
    "import tkinter as tk\n",
    "from tkinter import filedialog as fd\n",
    "\n",
    "import collections\n",
    "\n",
    "from docxtpl import DocxTemplate\n",
    "import docxtpl\n",
    "from docx.shared import Mm"
   ]
  },
  {
   "cell_type": "code",
   "execution_count": 9,
   "id": "7d08a81a-7afa-435c-8035-344dc0d3dea3",
   "metadata": {},
   "outputs": [],
   "source": [
    "file_shp_avance = r'G:\\Ingenio Azucarero Guabira S.A\\UTEA - SEMANAL - CATASTRO\\Catastro\\Cosecha2023.shp'\n",
    "file_xlsx_avance = r'G:\\Ingenio Azucarero Guabira S.A\\UTEA - SEMANAL - AVANCE COSECHA\\2023\\AVANCE SEMANAL COSECHA 2023\\RENDIMIENTO AVANCE 230723.xlsx'"
   ]
  },
  {
   "cell_type": "code",
   "execution_count": 11,
   "id": "539f0b7c-6407-4eb9-b39d-c8af23ef09b6",
   "metadata": {},
   "outputs": [],
   "source": [
    "# lectura de hoja 1\n",
    "xlsx_avance = pd.read_excel(file_xlsx_avance, sheet_name='Hoja1')"
   ]
  },
  {
   "cell_type": "code",
   "execution_count": 12,
   "id": "e6423cd6-a200-41e5-8cde-844b22284054",
   "metadata": {},
   "outputs": [
    {
     "data": {
      "text/html": [
       "<div>\n",
       "<style scoped>\n",
       "    .dataframe tbody tr th:only-of-type {\n",
       "        vertical-align: middle;\n",
       "    }\n",
       "\n",
       "    .dataframe tbody tr th {\n",
       "        vertical-align: top;\n",
       "    }\n",
       "\n",
       "    .dataframe thead th {\n",
       "        text-align: right;\n",
       "    }\n",
       "</style>\n",
       "<table border=\"1\" class=\"dataframe\">\n",
       "  <thead>\n",
       "    <tr style=\"text-align: right;\">\n",
       "      <th></th>\n",
       "      <th>INS</th>\n",
       "      <th>GRUPO</th>\n",
       "      <th>CODIGO CAÑERO</th>\n",
       "      <th>CAÑERO</th>\n",
       "      <th>TN COMPROMISO INDIVIDUAL</th>\n",
       "      <th>TN ENTREGA INDIVIDUAL</th>\n",
       "    </tr>\n",
       "  </thead>\n",
       "  <tbody>\n",
       "    <tr>\n",
       "      <th>227</th>\n",
       "      <td>79.0</td>\n",
       "      <td>7.0</td>\n",
       "      <td>173.0</td>\n",
       "      <td>ALVAREZ SEJAS BISMARCK</td>\n",
       "      <td>665.10</td>\n",
       "      <td>442.99</td>\n",
       "    </tr>\n",
       "    <tr>\n",
       "      <th>228</th>\n",
       "      <td>79.0</td>\n",
       "      <td>7.0</td>\n",
       "      <td>409.0</td>\n",
       "      <td>ALVAREZ SEJAS MELANIA</td>\n",
       "      <td>530.66</td>\n",
       "      <td>0.00</td>\n",
       "    </tr>\n",
       "    <tr>\n",
       "      <th>229</th>\n",
       "      <td>79.0</td>\n",
       "      <td>7.0</td>\n",
       "      <td>7519.0</td>\n",
       "      <td>LEON ALVAREZ REMY</td>\n",
       "      <td>740.75</td>\n",
       "      <td>0.00</td>\n",
       "    </tr>\n",
       "    <tr>\n",
       "      <th>230</th>\n",
       "      <td>79.0</td>\n",
       "      <td>7.0</td>\n",
       "      <td>8025.0</td>\n",
       "      <td>VARGAS ALVAREZ KEVIN</td>\n",
       "      <td>226.40</td>\n",
       "      <td>96.04</td>\n",
       "    </tr>\n",
       "    <tr>\n",
       "      <th>231</th>\n",
       "      <td>79.0</td>\n",
       "      <td>7.0</td>\n",
       "      <td>10305.0</td>\n",
       "      <td>PERALTA LOPEZ MAIDE</td>\n",
       "      <td>2147.35</td>\n",
       "      <td>379.00</td>\n",
       "    </tr>\n",
       "    <tr>\n",
       "      <th>232</th>\n",
       "      <td>79.0</td>\n",
       "      <td>7.0</td>\n",
       "      <td>13012.0</td>\n",
       "      <td>SALAZAR ARNEZ LIDER</td>\n",
       "      <td>2235.90</td>\n",
       "      <td>0.00</td>\n",
       "    </tr>\n",
       "    <tr>\n",
       "      <th>233</th>\n",
       "      <td>79.0</td>\n",
       "      <td>7.0</td>\n",
       "      <td>14556.0</td>\n",
       "      <td>VARGAS PANOZO EDWIN GLADIMIRO</td>\n",
       "      <td>92.95</td>\n",
       "      <td>0.00</td>\n",
       "    </tr>\n",
       "    <tr>\n",
       "      <th>234</th>\n",
       "      <td>79.0</td>\n",
       "      <td>7.0</td>\n",
       "      <td>41554.0</td>\n",
       "      <td>LEDEZMA SALAZAR RICHARD JIMMY</td>\n",
       "      <td>755.21</td>\n",
       "      <td>896.82</td>\n",
       "    </tr>\n",
       "    <tr>\n",
       "      <th>235</th>\n",
       "      <td>79.0</td>\n",
       "      <td>7.0</td>\n",
       "      <td>41827.0</td>\n",
       "      <td>SALAZAR PERALTA GABRIELA</td>\n",
       "      <td>6247.02</td>\n",
       "      <td>720.97</td>\n",
       "    </tr>\n",
       "    <tr>\n",
       "      <th>236</th>\n",
       "      <td>89.0</td>\n",
       "      <td>5.0</td>\n",
       "      <td>41919.0</td>\n",
       "      <td>SALAZAR SEJAS HECTOR DANIEL</td>\n",
       "      <td>580.60</td>\n",
       "      <td>0.00</td>\n",
       "    </tr>\n",
       "    <tr>\n",
       "      <th>237</th>\n",
       "      <td>79.0</td>\n",
       "      <td>7.0</td>\n",
       "      <td>42046.0</td>\n",
       "      <td>ALVAREZ CLAROS JUAN</td>\n",
       "      <td>551.07</td>\n",
       "      <td>0.00</td>\n",
       "    </tr>\n",
       "  </tbody>\n",
       "</table>\n",
       "</div>"
      ],
      "text/plain": [
       "      INS  GRUPO  CODIGO CAÑERO                          CAÑERO  \\\n",
       "227  79.0    7.0           173.0         ALVAREZ SEJAS BISMARCK   \n",
       "228  79.0    7.0           409.0          ALVAREZ SEJAS MELANIA   \n",
       "229  79.0    7.0          7519.0              LEON ALVAREZ REMY   \n",
       "230  79.0    7.0          8025.0           VARGAS ALVAREZ KEVIN   \n",
       "231  79.0    7.0         10305.0            PERALTA LOPEZ MAIDE   \n",
       "232  79.0    7.0         13012.0            SALAZAR ARNEZ LIDER   \n",
       "233  79.0    7.0         14556.0  VARGAS PANOZO EDWIN GLADIMIRO   \n",
       "234  79.0    7.0         41554.0  LEDEZMA SALAZAR RICHARD JIMMY   \n",
       "235  79.0    7.0         41827.0       SALAZAR PERALTA GABRIELA   \n",
       "236  89.0    5.0         41919.0    SALAZAR SEJAS HECTOR DANIEL   \n",
       "237  79.0    7.0         42046.0            ALVAREZ CLAROS JUAN   \n",
       "\n",
       "     TN COMPROMISO INDIVIDUAL  TN ENTREGA INDIVIDUAL  \n",
       "227                    665.10                 442.99  \n",
       "228                    530.66                   0.00  \n",
       "229                    740.75                   0.00  \n",
       "230                    226.40                  96.04  \n",
       "231                   2147.35                 379.00  \n",
       "232                   2235.90                   0.00  \n",
       "233                     92.95                   0.00  \n",
       "234                    755.21                 896.82  \n",
       "235                   6247.02                 720.97  \n",
       "236                    580.60                   0.00  \n",
       "237                    551.07                   0.00  "
      ]
     },
     "execution_count": 12,
     "metadata": {},
     "output_type": "execute_result"
    }
   ],
   "source": [
    "# filtra por el grupo de cosecha de interes\n",
    "grupo = xlsx_avance[xlsx_avance['COD COS'] == 282]\n",
    "# seleccion de columnas de interes\n",
    "grupo_cols = grupo[['INS', 'GRUPO', 'CODIGO CAÑERO ', 'CAÑERO', 'TN COMPROMISO INDIVIDUAL', 'TN ENTREGA INDIVIDUAL']]\n",
    "grupo_cols"
   ]
  },
  {
   "cell_type": "code",
   "execution_count": null,
   "id": "0d6f8715-4428-4cfb-99f5-57b76a94b3c6",
   "metadata": {},
   "outputs": [],
   "source": []
  },
  {
   "cell_type": "code",
   "execution_count": null,
   "id": "80341cf0-95b3-4256-90bf-415e7f9b2767",
   "metadata": {},
   "outputs": [],
   "source": []
  },
  {
   "cell_type": "code",
   "execution_count": null,
   "id": "e72dbe94-d215-49b8-9a62-c8f103e9fcf5",
   "metadata": {},
   "outputs": [],
   "source": []
  },
  {
   "cell_type": "code",
   "execution_count": null,
   "id": "da276ecd-c954-4a15-bd47-301660bffefc",
   "metadata": {},
   "outputs": [],
   "source": []
  },
  {
   "cell_type": "code",
   "execution_count": null,
   "id": "f3beb8e8-e135-490b-9484-30facb15b671",
   "metadata": {},
   "outputs": [],
   "source": []
  },
  {
   "cell_type": "code",
   "execution_count": null,
   "id": "f2f9ad1e-47db-48da-b3aa-e6bbe971edce",
   "metadata": {},
   "outputs": [],
   "source": []
  },
  {
   "cell_type": "code",
   "execution_count": null,
   "id": "8962cd98-10fc-4c0c-8432-0dac55effb86",
   "metadata": {},
   "outputs": [],
   "source": []
  },
  {
   "cell_type": "code",
   "execution_count": null,
   "id": "f9da857f-6492-466d-83b0-41a09ca57460",
   "metadata": {},
   "outputs": [],
   "source": []
  },
  {
   "cell_type": "code",
   "execution_count": null,
   "id": "8cc24eba-b8e2-4827-99f9-1abf11e3744f",
   "metadata": {},
   "outputs": [],
   "source": []
  },
  {
   "cell_type": "code",
   "execution_count": null,
   "id": "15815a5c-820b-4e34-be64-3e7010e4d106",
   "metadata": {},
   "outputs": [],
   "source": []
  },
  {
   "cell_type": "code",
   "execution_count": null,
   "id": "44cfa37a-8b7c-420e-b1d3-b94d8b792db0",
   "metadata": {},
   "outputs": [],
   "source": []
  },
  {
   "cell_type": "code",
   "execution_count": null,
   "id": "6443034b-b422-4941-becc-4a1f8b8cca48",
   "metadata": {},
   "outputs": [],
   "source": []
  },
  {
   "cell_type": "code",
   "execution_count": null,
   "id": "2decb6a2-4f7c-4b98-b921-17f08832df6c",
   "metadata": {},
   "outputs": [],
   "source": []
  },
  {
   "cell_type": "code",
   "execution_count": null,
   "id": "47b18cc0-0d7b-4e91-b325-2bdb28e3e87e",
   "metadata": {},
   "outputs": [],
   "source": []
  },
  {
   "cell_type": "code",
   "execution_count": null,
   "id": "dad71d4c-408b-486b-aad4-d99be9c3d7c1",
   "metadata": {},
   "outputs": [],
   "source": []
  },
  {
   "cell_type": "code",
   "execution_count": null,
   "id": "387f9ff3-4582-4924-80cf-2eb670936c9d",
   "metadata": {},
   "outputs": [],
   "source": []
  },
  {
   "cell_type": "code",
   "execution_count": null,
   "id": "28466030-2314-4c3f-82b8-567749560536",
   "metadata": {},
   "outputs": [],
   "source": []
  },
  {
   "cell_type": "code",
   "execution_count": null,
   "id": "c024a39b-6543-4a4f-8e3d-d22eb5167cb8",
   "metadata": {},
   "outputs": [],
   "source": []
  },
  {
   "cell_type": "code",
   "execution_count": null,
   "id": "47dec7fa-9dd9-4d29-a50e-d289bfb3f8dd",
   "metadata": {},
   "outputs": [],
   "source": []
  },
  {
   "cell_type": "code",
   "execution_count": null,
   "id": "60ffe3c6-0ac4-4e59-80de-deab8368d4b4",
   "metadata": {},
   "outputs": [],
   "source": []
  },
  {
   "cell_type": "code",
   "execution_count": null,
   "id": "8030970c-8cf3-41f0-8881-c2871e2875c5",
   "metadata": {},
   "outputs": [],
   "source": []
  },
  {
   "cell_type": "code",
   "execution_count": null,
   "id": "17663282-b46b-4346-a1af-dba36b526e14",
   "metadata": {},
   "outputs": [],
   "source": []
  },
  {
   "cell_type": "code",
   "execution_count": null,
   "id": "4b285c36-0c62-42fb-aa10-5c733c00420d",
   "metadata": {},
   "outputs": [],
   "source": []
  },
  {
   "cell_type": "code",
   "execution_count": null,
   "id": "0535d848-8914-49dd-a626-dbafaafa2a64",
   "metadata": {},
   "outputs": [],
   "source": []
  },
  {
   "cell_type": "code",
   "execution_count": null,
   "id": "1fb92de8-cdfc-4403-ad89-67afc3baa219",
   "metadata": {},
   "outputs": [],
   "source": []
  },
  {
   "cell_type": "code",
   "execution_count": null,
   "id": "76f0fde4-0d05-43ed-bdb1-c3720059bf6a",
   "metadata": {},
   "outputs": [],
   "source": []
  },
  {
   "cell_type": "code",
   "execution_count": null,
   "id": "44bf9ecc-7038-4a31-89b8-4d2b74916abc",
   "metadata": {},
   "outputs": [],
   "source": []
  },
  {
   "cell_type": "code",
   "execution_count": null,
   "id": "987b9ca6-9972-4a62-a998-fd02c7cb87d1",
   "metadata": {},
   "outputs": [],
   "source": []
  },
  {
   "cell_type": "code",
   "execution_count": null,
   "id": "01efe11d-bb49-45a9-a5fe-88f75ebd89d2",
   "metadata": {},
   "outputs": [],
   "source": []
  },
  {
   "cell_type": "code",
   "execution_count": null,
   "id": "5ede501f-6eed-467c-ae13-08771c136bad",
   "metadata": {},
   "outputs": [],
   "source": []
  },
  {
   "cell_type": "code",
   "execution_count": null,
   "id": "f64e8ee8-5f69-491d-b395-a97dc0070efd",
   "metadata": {},
   "outputs": [],
   "source": []
  },
  {
   "cell_type": "code",
   "execution_count": null,
   "id": "79112419-c022-48e1-bf1f-2c33e6e5a8b2",
   "metadata": {},
   "outputs": [],
   "source": []
  },
  {
   "cell_type": "code",
   "execution_count": null,
   "id": "1fb69f14-8484-46eb-a430-6589a7827fdc",
   "metadata": {},
   "outputs": [],
   "source": []
  },
  {
   "cell_type": "code",
   "execution_count": null,
   "id": "9d12da5c-2e8c-4f02-8a46-21d94e701ce2",
   "metadata": {},
   "outputs": [],
   "source": []
  },
  {
   "cell_type": "code",
   "execution_count": null,
   "id": "cf4f6169-9aa8-4200-bc88-c2d8950cd297",
   "metadata": {},
   "outputs": [],
   "source": []
  },
  {
   "cell_type": "code",
   "execution_count": null,
   "id": "99bfb01d-d76d-4aec-810a-39c5cd2cdb51",
   "metadata": {},
   "outputs": [],
   "source": []
  },
  {
   "cell_type": "code",
   "execution_count": null,
   "id": "693ae032-9a91-4186-818b-499f5a828f9c",
   "metadata": {},
   "outputs": [],
   "source": []
  },
  {
   "cell_type": "code",
   "execution_count": null,
   "id": "7ba768ab-f39d-48cc-af27-1af3d3e1fc77",
   "metadata": {},
   "outputs": [],
   "source": []
  },
  {
   "cell_type": "code",
   "execution_count": null,
   "id": "2f848441-6bb1-44d7-8497-fc006f134347",
   "metadata": {},
   "outputs": [],
   "source": []
  },
  {
   "cell_type": "code",
   "execution_count": null,
   "id": "6040120c-c084-4ba8-be84-94c3f165dcf1",
   "metadata": {},
   "outputs": [],
   "source": []
  },
  {
   "cell_type": "code",
   "execution_count": null,
   "id": "c1342aa7-5ba1-4075-bfbd-c8f352ec5d7d",
   "metadata": {},
   "outputs": [],
   "source": []
  },
  {
   "cell_type": "code",
   "execution_count": null,
   "id": "c3e5dde1-5ede-4597-8b86-d5325a8b2a0e",
   "metadata": {},
   "outputs": [],
   "source": []
  },
  {
   "cell_type": "code",
   "execution_count": null,
   "id": "86bf3d41-8bae-4a27-b83c-64b947b2db42",
   "metadata": {},
   "outputs": [],
   "source": []
  },
  {
   "cell_type": "code",
   "execution_count": null,
   "id": "e3bcb303-cabf-4789-bab9-bbb692473ce3",
   "metadata": {},
   "outputs": [],
   "source": []
  },
  {
   "cell_type": "code",
   "execution_count": null,
   "id": "0fb8a1e5-62d3-4b27-b0c7-e8fd38b8601c",
   "metadata": {},
   "outputs": [],
   "source": []
  },
  {
   "cell_type": "code",
   "execution_count": null,
   "id": "731c275a-f707-4960-b7a6-968f23496170",
   "metadata": {},
   "outputs": [],
   "source": []
  },
  {
   "cell_type": "code",
   "execution_count": null,
   "id": "5f5d4677-87a4-4e49-be4b-c2870750638f",
   "metadata": {},
   "outputs": [],
   "source": []
  },
  {
   "cell_type": "code",
   "execution_count": null,
   "id": "dab821e0-2077-4407-831b-4ac28a5c2383",
   "metadata": {},
   "outputs": [],
   "source": []
  },
  {
   "cell_type": "code",
   "execution_count": null,
   "id": "68c68085-827e-4ff9-8a7d-ccb68fb7c058",
   "metadata": {},
   "outputs": [],
   "source": []
  },
  {
   "cell_type": "code",
   "execution_count": null,
   "id": "0b1bf1b8-37e4-4751-ae73-4bda3e47b6e4",
   "metadata": {},
   "outputs": [],
   "source": []
  },
  {
   "cell_type": "code",
   "execution_count": null,
   "id": "81a19cc5-acf6-40ea-a8f2-21e1e0e381c5",
   "metadata": {},
   "outputs": [],
   "source": []
  },
  {
   "cell_type": "code",
   "execution_count": null,
   "id": "17d725c1-1af6-427b-bcdb-6c76577365f8",
   "metadata": {},
   "outputs": [],
   "source": []
  },
  {
   "cell_type": "code",
   "execution_count": null,
   "id": "bfc70008-d5a3-486f-81b9-7c2b7f7228ed",
   "metadata": {},
   "outputs": [],
   "source": []
  },
  {
   "cell_type": "code",
   "execution_count": null,
   "id": "0beda731-a4d6-492e-b5aa-c9f11dae781e",
   "metadata": {},
   "outputs": [],
   "source": []
  },
  {
   "cell_type": "code",
   "execution_count": null,
   "id": "50bc266e-b2af-40ae-8a5e-da6d6d3634da",
   "metadata": {},
   "outputs": [],
   "source": []
  },
  {
   "cell_type": "code",
   "execution_count": null,
   "id": "3229565f-c492-48c0-a0a1-aa429f86c78c",
   "metadata": {},
   "outputs": [],
   "source": []
  },
  {
   "cell_type": "code",
   "execution_count": null,
   "id": "3919c8d6-7966-4d48-bf51-0e83b58e9d21",
   "metadata": {},
   "outputs": [],
   "source": []
  },
  {
   "cell_type": "code",
   "execution_count": null,
   "id": "1c664055-9e63-4983-bba8-aa6dbb60c251",
   "metadata": {},
   "outputs": [],
   "source": []
  },
  {
   "cell_type": "code",
   "execution_count": null,
   "id": "c40fcf27-7d0d-4dbb-900a-788d72131341",
   "metadata": {},
   "outputs": [],
   "source": []
  },
  {
   "cell_type": "code",
   "execution_count": null,
   "id": "d541a350-3cc5-4d66-aa63-22b0f0ab6f0e",
   "metadata": {},
   "outputs": [],
   "source": []
  },
  {
   "cell_type": "code",
   "execution_count": null,
   "id": "008c8201-597c-49e8-af95-582a05a048a2",
   "metadata": {},
   "outputs": [],
   "source": []
  },
  {
   "cell_type": "code",
   "execution_count": null,
   "id": "aff3245a-c9a1-4bdb-833c-566761007e2f",
   "metadata": {},
   "outputs": [],
   "source": []
  },
  {
   "cell_type": "code",
   "execution_count": null,
   "id": "50d5c788-2345-4cac-b545-833dc054f9db",
   "metadata": {},
   "outputs": [],
   "source": []
  },
  {
   "cell_type": "code",
   "execution_count": null,
   "id": "d34ebf1e-e73a-4a1b-a527-88eaf101b5b7",
   "metadata": {},
   "outputs": [],
   "source": []
  },
  {
   "cell_type": "code",
   "execution_count": null,
   "id": "0c4d2425-c99c-4d2d-ad8e-3a6d8f43df47",
   "metadata": {},
   "outputs": [],
   "source": []
  },
  {
   "cell_type": "code",
   "execution_count": null,
   "id": "8f2d098e-7f05-4611-9157-a01e63023365",
   "metadata": {},
   "outputs": [],
   "source": []
  },
  {
   "cell_type": "code",
   "execution_count": null,
   "id": "e282ddd5-5ba4-48a2-ad8d-fa791fac5666",
   "metadata": {},
   "outputs": [],
   "source": []
  },
  {
   "cell_type": "code",
   "execution_count": null,
   "id": "579273b8-8459-4f6e-97cf-e0557dae0da6",
   "metadata": {},
   "outputs": [],
   "source": []
  },
  {
   "cell_type": "code",
   "execution_count": null,
   "id": "7e12266b-6d30-453a-9ca5-7dd2ee193005",
   "metadata": {},
   "outputs": [],
   "source": []
  },
  {
   "cell_type": "code",
   "execution_count": null,
   "id": "a61e0c29-7cd1-450c-a0c6-03a356d2be88",
   "metadata": {},
   "outputs": [],
   "source": []
  },
  {
   "cell_type": "code",
   "execution_count": null,
   "id": "272010e9-29a4-423a-9663-0a1351f2ba12",
   "metadata": {},
   "outputs": [],
   "source": []
  },
  {
   "cell_type": "code",
   "execution_count": null,
   "id": "d87de957-4895-4451-91a8-5f8381fe01e6",
   "metadata": {},
   "outputs": [],
   "source": []
  },
  {
   "cell_type": "code",
   "execution_count": null,
   "id": "dab81dfb-8c31-464f-a1ac-b39f2e0a3874",
   "metadata": {},
   "outputs": [],
   "source": []
  },
  {
   "cell_type": "code",
   "execution_count": null,
   "id": "9931f326-b40d-4482-a9a3-58203ec93841",
   "metadata": {},
   "outputs": [],
   "source": []
  },
  {
   "cell_type": "code",
   "execution_count": null,
   "id": "c235e283-3fed-49e3-b841-e01753957fbb",
   "metadata": {},
   "outputs": [],
   "source": []
  },
  {
   "cell_type": "code",
   "execution_count": null,
   "id": "c7733df4-4d5f-4c6e-9d21-b60f96ca4cbd",
   "metadata": {},
   "outputs": [],
   "source": []
  },
  {
   "cell_type": "code",
   "execution_count": null,
   "id": "24afa50c-7ecc-49b7-8dd6-a4b00a08619e",
   "metadata": {},
   "outputs": [],
   "source": []
  },
  {
   "cell_type": "code",
   "execution_count": null,
   "id": "214bbc6a-d8df-471b-9d11-395cd2491f6e",
   "metadata": {},
   "outputs": [],
   "source": []
  },
  {
   "cell_type": "code",
   "execution_count": null,
   "id": "6a31cc32-ced0-46d3-9bfc-88338a177c77",
   "metadata": {},
   "outputs": [],
   "source": []
  },
  {
   "cell_type": "code",
   "execution_count": null,
   "id": "a8aa9fb5-066c-48c2-9c75-d97f797d5320",
   "metadata": {},
   "outputs": [],
   "source": []
  },
  {
   "cell_type": "code",
   "execution_count": null,
   "id": "4480ba0b-bd19-449e-bc7e-92b0da372ebe",
   "metadata": {},
   "outputs": [],
   "source": []
  },
  {
   "cell_type": "code",
   "execution_count": null,
   "id": "1315f03d-64fd-423f-81f2-c72bc7b7a740",
   "metadata": {},
   "outputs": [],
   "source": []
  },
  {
   "cell_type": "code",
   "execution_count": null,
   "id": "f587fd55-a391-4957-a5d3-4f3434eba9e4",
   "metadata": {},
   "outputs": [],
   "source": []
  },
  {
   "cell_type": "code",
   "execution_count": null,
   "id": "3413ba28-bdc1-4783-9026-7bc2df7a781a",
   "metadata": {},
   "outputs": [],
   "source": []
  },
  {
   "cell_type": "code",
   "execution_count": null,
   "id": "3d6a7dba-a701-4a31-a8eb-1d40d810b814",
   "metadata": {},
   "outputs": [],
   "source": []
  },
  {
   "cell_type": "code",
   "execution_count": null,
   "id": "a0ffebde-dab2-4315-9dc5-392bda487536",
   "metadata": {},
   "outputs": [],
   "source": []
  },
  {
   "cell_type": "code",
   "execution_count": null,
   "id": "9c771ec0-9de5-421c-9695-8f6174224940",
   "metadata": {},
   "outputs": [],
   "source": []
  },
  {
   "cell_type": "code",
   "execution_count": null,
   "id": "23e43a24-9075-4233-ac5c-187344eec853",
   "metadata": {},
   "outputs": [],
   "source": []
  },
  {
   "cell_type": "code",
   "execution_count": null,
   "id": "1d8d0d27-917d-4539-9423-804c04212196",
   "metadata": {},
   "outputs": [],
   "source": []
  },
  {
   "cell_type": "code",
   "execution_count": null,
   "id": "abec565d-9b61-4c81-bfaf-5a8385499077",
   "metadata": {},
   "outputs": [],
   "source": []
  },
  {
   "cell_type": "code",
   "execution_count": null,
   "id": "80a2b13f-228a-4e34-8269-2e356ea8a630",
   "metadata": {},
   "outputs": [],
   "source": []
  },
  {
   "cell_type": "code",
   "execution_count": null,
   "id": "508ca6a9-e7de-4638-b760-2fb950cc5458",
   "metadata": {},
   "outputs": [],
   "source": []
  },
  {
   "cell_type": "code",
   "execution_count": null,
   "id": "1567e97d-3fc1-4300-9452-42f985ced05f",
   "metadata": {},
   "outputs": [],
   "source": []
  },
  {
   "cell_type": "code",
   "execution_count": null,
   "id": "968bfd5c-e7ee-4f71-906a-72f136ae9f7f",
   "metadata": {},
   "outputs": [],
   "source": []
  },
  {
   "cell_type": "code",
   "execution_count": null,
   "id": "575986e7-f29a-4584-92cf-7d967dbd0d77",
   "metadata": {},
   "outputs": [],
   "source": []
  },
  {
   "cell_type": "code",
   "execution_count": null,
   "id": "32710275-06a2-4fa1-813c-5bae878d5378",
   "metadata": {},
   "outputs": [],
   "source": []
  },
  {
   "cell_type": "code",
   "execution_count": null,
   "id": "4765d140-8a34-4ea2-a273-c9472c40367f",
   "metadata": {},
   "outputs": [],
   "source": []
  },
  {
   "cell_type": "code",
   "execution_count": null,
   "id": "84a6341c-3735-48f9-937e-d701cb38cd89",
   "metadata": {},
   "outputs": [],
   "source": []
  },
  {
   "cell_type": "code",
   "execution_count": null,
   "id": "bddfd4dc-f8ff-45a4-aaeb-b8fa20616771",
   "metadata": {},
   "outputs": [],
   "source": []
  },
  {
   "cell_type": "code",
   "execution_count": null,
   "id": "e739d501-8a75-4684-8af3-bfdbc8dd4764",
   "metadata": {},
   "outputs": [],
   "source": []
  },
  {
   "cell_type": "code",
   "execution_count": null,
   "id": "e3f93c71-97c6-4f00-8554-b48d8ffa06f4",
   "metadata": {},
   "outputs": [],
   "source": []
  },
  {
   "cell_type": "code",
   "execution_count": null,
   "id": "9045e1a0-0f7d-46ae-91ae-ee346cd6364d",
   "metadata": {},
   "outputs": [],
   "source": []
  },
  {
   "cell_type": "code",
   "execution_count": null,
   "id": "e65534fa-701f-418e-ac21-01ac0568d773",
   "metadata": {},
   "outputs": [],
   "source": []
  },
  {
   "cell_type": "code",
   "execution_count": null,
   "id": "aca6cf99-4573-4f12-994e-4b4b7112cea5",
   "metadata": {},
   "outputs": [],
   "source": []
  },
  {
   "cell_type": "code",
   "execution_count": null,
   "id": "7c4cc23c-e525-4a12-95fe-7572bc7d000c",
   "metadata": {},
   "outputs": [],
   "source": []
  },
  {
   "cell_type": "code",
   "execution_count": null,
   "id": "094a73f4-342d-4ab6-bfb1-ccfe024fffd1",
   "metadata": {},
   "outputs": [],
   "source": []
  },
  {
   "cell_type": "code",
   "execution_count": null,
   "id": "4faa5a16-054d-46c7-a4c7-09135668c763",
   "metadata": {},
   "outputs": [],
   "source": []
  },
  {
   "cell_type": "code",
   "execution_count": null,
   "id": "0265047c-9a6b-42fc-9a0c-45d85d5a472e",
   "metadata": {},
   "outputs": [],
   "source": []
  },
  {
   "cell_type": "code",
   "execution_count": null,
   "id": "f2f48e9a-e7c1-4849-9ff8-0a03878f799b",
   "metadata": {},
   "outputs": [],
   "source": []
  },
  {
   "cell_type": "code",
   "execution_count": null,
   "id": "1031f737-912c-4cc7-8109-30314344f3a3",
   "metadata": {},
   "outputs": [],
   "source": []
  },
  {
   "cell_type": "code",
   "execution_count": null,
   "id": "92cd2ad9-adeb-43ea-bace-c643b54ed11e",
   "metadata": {},
   "outputs": [],
   "source": []
  },
  {
   "cell_type": "code",
   "execution_count": null,
   "id": "2f87e325-aa97-4400-839b-b843a2c56db1",
   "metadata": {},
   "outputs": [],
   "source": []
  },
  {
   "cell_type": "code",
   "execution_count": null,
   "id": "2958d1ea-89dc-4024-bed4-ea0d5de5aaad",
   "metadata": {},
   "outputs": [],
   "source": []
  },
  {
   "cell_type": "code",
   "execution_count": null,
   "id": "a58f88d2-e497-4b9a-8488-689c35e49a10",
   "metadata": {},
   "outputs": [],
   "source": []
  },
  {
   "cell_type": "code",
   "execution_count": null,
   "id": "10978368-bc8a-45aa-94c0-e07f7e6476d2",
   "metadata": {},
   "outputs": [],
   "source": []
  },
  {
   "cell_type": "code",
   "execution_count": null,
   "id": "f0e0f418-1cf2-4046-bb24-9c881701dbef",
   "metadata": {},
   "outputs": [],
   "source": []
  },
  {
   "cell_type": "code",
   "execution_count": null,
   "id": "b5f0a0d5-114d-4cd3-b518-541b52578541",
   "metadata": {},
   "outputs": [],
   "source": []
  },
  {
   "cell_type": "code",
   "execution_count": null,
   "id": "4b625842-2801-43d2-9cdc-76e7792457b2",
   "metadata": {},
   "outputs": [],
   "source": []
  },
  {
   "cell_type": "code",
   "execution_count": null,
   "id": "80adabfb-69ed-463c-8015-f9edfd9476f2",
   "metadata": {},
   "outputs": [],
   "source": []
  },
  {
   "cell_type": "code",
   "execution_count": null,
   "id": "0a2babec-bacf-40c0-bccd-8e3f51aa0c41",
   "metadata": {},
   "outputs": [],
   "source": []
  },
  {
   "cell_type": "code",
   "execution_count": null,
   "id": "78daf952-3da0-40fa-ab6a-db944e9d4f01",
   "metadata": {},
   "outputs": [],
   "source": []
  },
  {
   "cell_type": "code",
   "execution_count": null,
   "id": "15f797bb-100d-41a9-8062-3ad86877c2c2",
   "metadata": {},
   "outputs": [],
   "source": []
  },
  {
   "cell_type": "code",
   "execution_count": null,
   "id": "701e8ac6-3823-4ee6-851e-1319d6cfc65f",
   "metadata": {},
   "outputs": [],
   "source": []
  },
  {
   "cell_type": "code",
   "execution_count": null,
   "id": "2b2ddcdd-9d27-4159-abba-e61bc00ae211",
   "metadata": {},
   "outputs": [],
   "source": []
  },
  {
   "cell_type": "code",
   "execution_count": null,
   "id": "546a65a1-7d13-4617-9935-b2fb99edf0b1",
   "metadata": {},
   "outputs": [],
   "source": []
  },
  {
   "cell_type": "code",
   "execution_count": null,
   "id": "0c2f1db8-50c3-4ebb-9038-a9eea15d0c83",
   "metadata": {},
   "outputs": [],
   "source": []
  },
  {
   "cell_type": "code",
   "execution_count": null,
   "id": "345b08b7-35b1-4398-930c-7858a33deaa4",
   "metadata": {},
   "outputs": [],
   "source": []
  },
  {
   "cell_type": "code",
   "execution_count": null,
   "id": "9eae323a-f8a0-409d-bef5-260024d61608",
   "metadata": {},
   "outputs": [],
   "source": []
  },
  {
   "cell_type": "code",
   "execution_count": null,
   "id": "06e7cdfd-5540-47cc-a931-f69b1f5e7bf1",
   "metadata": {},
   "outputs": [],
   "source": []
  },
  {
   "cell_type": "code",
   "execution_count": null,
   "id": "430f8bed-6cd7-48d3-a557-ef5826abaa29",
   "metadata": {},
   "outputs": [],
   "source": []
  },
  {
   "cell_type": "code",
   "execution_count": null,
   "id": "2b7a2643-4e9d-4fb7-864f-09193e7b16a0",
   "metadata": {},
   "outputs": [],
   "source": []
  },
  {
   "cell_type": "code",
   "execution_count": null,
   "id": "bb7b13bc-53d0-4cf6-ac6b-97423daf0036",
   "metadata": {},
   "outputs": [],
   "source": []
  },
  {
   "cell_type": "code",
   "execution_count": null,
   "id": "61968c10-6f1b-45ad-8c82-71fa9efd54be",
   "metadata": {},
   "outputs": [],
   "source": []
  },
  {
   "cell_type": "code",
   "execution_count": null,
   "id": "2262cd34-86d0-4998-be40-31e90b9998bd",
   "metadata": {},
   "outputs": [],
   "source": []
  },
  {
   "cell_type": "code",
   "execution_count": null,
   "id": "cc9e6902-c921-4d46-808d-c03707b1c63b",
   "metadata": {},
   "outputs": [],
   "source": []
  },
  {
   "cell_type": "code",
   "execution_count": null,
   "id": "014527fb-0f76-4db4-a9cb-21d4a2900178",
   "metadata": {},
   "outputs": [],
   "source": []
  },
  {
   "cell_type": "code",
   "execution_count": null,
   "id": "a3259e43-9954-4990-bdf3-a1a3914a1352",
   "metadata": {},
   "outputs": [],
   "source": []
  },
  {
   "cell_type": "code",
   "execution_count": null,
   "id": "e24708ae-32b5-4a4a-a4eb-ba8067e25c89",
   "metadata": {},
   "outputs": [],
   "source": []
  },
  {
   "cell_type": "code",
   "execution_count": null,
   "id": "e8222ffa-cb4a-445b-b10a-8cb17e927c5d",
   "metadata": {},
   "outputs": [],
   "source": []
  },
  {
   "cell_type": "code",
   "execution_count": null,
   "id": "f5706c82-fa7d-4e14-8445-3d10b6b21616",
   "metadata": {},
   "outputs": [],
   "source": []
  },
  {
   "cell_type": "code",
   "execution_count": null,
   "id": "a2f67afb-4525-47f9-a843-cfc96b73d930",
   "metadata": {},
   "outputs": [],
   "source": []
  },
  {
   "cell_type": "code",
   "execution_count": null,
   "id": "dabe2364-f900-47a6-9671-28ee29690ef9",
   "metadata": {},
   "outputs": [],
   "source": []
  },
  {
   "cell_type": "code",
   "execution_count": null,
   "id": "f6f71239-1e13-4fc9-b6d2-69f81ff50159",
   "metadata": {},
   "outputs": [],
   "source": []
  },
  {
   "cell_type": "code",
   "execution_count": null,
   "id": "29b397c3-cc1b-4902-b603-fedbc4b0c098",
   "metadata": {},
   "outputs": [],
   "source": []
  },
  {
   "cell_type": "code",
   "execution_count": null,
   "id": "eb7065ea-3260-431b-9e20-7d4789fb3bd3",
   "metadata": {},
   "outputs": [],
   "source": []
  },
  {
   "cell_type": "code",
   "execution_count": null,
   "id": "fe4dc816-37ef-4aca-9342-d1efe2d554fd",
   "metadata": {},
   "outputs": [],
   "source": []
  },
  {
   "cell_type": "code",
   "execution_count": null,
   "id": "3e4ff180-fe82-4430-bc7e-266a2b6dd786",
   "metadata": {},
   "outputs": [],
   "source": []
  },
  {
   "cell_type": "code",
   "execution_count": null,
   "id": "5a19dd65-feee-4909-96b6-c27ea4fd4468",
   "metadata": {},
   "outputs": [],
   "source": []
  },
  {
   "cell_type": "code",
   "execution_count": null,
   "id": "7836bd4a-8c3b-423a-95e1-136e7966b8fe",
   "metadata": {},
   "outputs": [],
   "source": []
  },
  {
   "cell_type": "code",
   "execution_count": null,
   "id": "8298e591-90ed-40e2-bab0-fa9c665bc169",
   "metadata": {},
   "outputs": [],
   "source": []
  },
  {
   "cell_type": "code",
   "execution_count": null,
   "id": "ae79c702-448f-4c4e-a492-c0f7eb22c08a",
   "metadata": {},
   "outputs": [],
   "source": []
  },
  {
   "cell_type": "code",
   "execution_count": null,
   "id": "e424b0be-6dc3-4a78-a22f-a613b11e16f9",
   "metadata": {},
   "outputs": [],
   "source": []
  },
  {
   "cell_type": "code",
   "execution_count": null,
   "id": "2618eaa4-a3c7-4efb-933e-9e8dfcbc444d",
   "metadata": {},
   "outputs": [],
   "source": []
  },
  {
   "cell_type": "code",
   "execution_count": null,
   "id": "4e4140fa-5ee3-457f-a705-50a2287b8ca7",
   "metadata": {},
   "outputs": [],
   "source": []
  },
  {
   "cell_type": "code",
   "execution_count": null,
   "id": "9108b9d0-bd15-4058-8ba7-b24ebf33c515",
   "metadata": {},
   "outputs": [],
   "source": []
  },
  {
   "cell_type": "code",
   "execution_count": null,
   "id": "782739b2-039c-48a0-9706-6d7c5863b6d9",
   "metadata": {},
   "outputs": [],
   "source": []
  },
  {
   "cell_type": "code",
   "execution_count": null,
   "id": "ac61be0b-5440-4d5f-a1b7-2d7ef00ea73a",
   "metadata": {},
   "outputs": [],
   "source": []
  },
  {
   "cell_type": "code",
   "execution_count": null,
   "id": "703602dc-4a04-470d-92be-e8ab69888b02",
   "metadata": {},
   "outputs": [],
   "source": []
  },
  {
   "cell_type": "code",
   "execution_count": null,
   "id": "bca9b44c-636b-4913-a04a-9f757852e2e1",
   "metadata": {},
   "outputs": [],
   "source": []
  },
  {
   "cell_type": "code",
   "execution_count": null,
   "id": "ebbe28f6-a582-4342-898d-a94041948c59",
   "metadata": {},
   "outputs": [],
   "source": []
  },
  {
   "cell_type": "code",
   "execution_count": null,
   "id": "94b161b4-1f03-49d4-af03-ee30f21dad3d",
   "metadata": {},
   "outputs": [],
   "source": []
  },
  {
   "cell_type": "code",
   "execution_count": null,
   "id": "7388325b-9cc2-4ba7-8742-f9548be1e6bf",
   "metadata": {},
   "outputs": [],
   "source": []
  },
  {
   "cell_type": "code",
   "execution_count": null,
   "id": "71e392ac-4551-4c09-aee0-a85f321fe29d",
   "metadata": {},
   "outputs": [],
   "source": []
  },
  {
   "cell_type": "code",
   "execution_count": null,
   "id": "b27a9491-a043-4e86-9097-e737ca64eb5b",
   "metadata": {},
   "outputs": [],
   "source": []
  },
  {
   "cell_type": "code",
   "execution_count": null,
   "id": "9b72e9b5-7905-4331-8597-13bef27ae779",
   "metadata": {},
   "outputs": [],
   "source": []
  },
  {
   "cell_type": "code",
   "execution_count": null,
   "id": "82f67ba8-c369-4f4f-a490-651242adbd77",
   "metadata": {},
   "outputs": [],
   "source": []
  },
  {
   "cell_type": "code",
   "execution_count": null,
   "id": "d2fe2161-5ae9-4519-9b35-ea39f72946c4",
   "metadata": {},
   "outputs": [],
   "source": []
  },
  {
   "cell_type": "code",
   "execution_count": null,
   "id": "c2517893-7be6-4e6a-b25e-b7321fc49cb3",
   "metadata": {},
   "outputs": [],
   "source": []
  },
  {
   "cell_type": "code",
   "execution_count": null,
   "id": "2553aa36-95ea-4f86-b33b-adbc4f1889e9",
   "metadata": {},
   "outputs": [],
   "source": []
  },
  {
   "cell_type": "code",
   "execution_count": null,
   "id": "0004f112-1a74-4693-a059-d59242c8816c",
   "metadata": {},
   "outputs": [],
   "source": []
  },
  {
   "cell_type": "code",
   "execution_count": null,
   "id": "e8bd23b6-01ac-4972-b5db-130434e35642",
   "metadata": {},
   "outputs": [],
   "source": []
  },
  {
   "cell_type": "code",
   "execution_count": null,
   "id": "da4c8c3f-65a7-4dab-abcc-964feec5f76f",
   "metadata": {},
   "outputs": [],
   "source": []
  },
  {
   "cell_type": "code",
   "execution_count": null,
   "id": "98953521-556a-4bcd-8a84-34a13b66fe32",
   "metadata": {},
   "outputs": [],
   "source": []
  },
  {
   "cell_type": "code",
   "execution_count": null,
   "id": "91f33307-16ce-4558-8e7e-895659207ed2",
   "metadata": {},
   "outputs": [],
   "source": []
  },
  {
   "cell_type": "code",
   "execution_count": null,
   "id": "c5a032ca-492b-4f26-993b-7c338e7af612",
   "metadata": {},
   "outputs": [],
   "source": []
  },
  {
   "cell_type": "code",
   "execution_count": null,
   "id": "b583ece3-f2d3-4068-add9-b6cb66963297",
   "metadata": {},
   "outputs": [],
   "source": []
  },
  {
   "cell_type": "code",
   "execution_count": null,
   "id": "5508f4d2-d7f0-44b2-aa46-a0c321498a0d",
   "metadata": {},
   "outputs": [],
   "source": []
  },
  {
   "cell_type": "code",
   "execution_count": null,
   "id": "cea35f5e-7fa3-4003-be64-c785fa2ce6aa",
   "metadata": {},
   "outputs": [],
   "source": []
  },
  {
   "cell_type": "code",
   "execution_count": null,
   "id": "1ab0bf5e-8ab1-4f65-a6f0-9058567c70a5",
   "metadata": {},
   "outputs": [],
   "source": []
  },
  {
   "cell_type": "code",
   "execution_count": null,
   "id": "1f60fba5-92b0-4763-9077-2678af9a9cf9",
   "metadata": {},
   "outputs": [],
   "source": []
  },
  {
   "cell_type": "code",
   "execution_count": null,
   "id": "755f0876-1efb-47e0-8ae7-8d703bd4a410",
   "metadata": {},
   "outputs": [],
   "source": []
  },
  {
   "cell_type": "code",
   "execution_count": null,
   "id": "7185db96-efb5-492a-8a30-42d02ab2d750",
   "metadata": {},
   "outputs": [],
   "source": []
  },
  {
   "cell_type": "code",
   "execution_count": null,
   "id": "b4b1b5e4-06d7-4e5f-aece-6e20fb61dc80",
   "metadata": {},
   "outputs": [],
   "source": []
  },
  {
   "cell_type": "code",
   "execution_count": null,
   "id": "f05ba95a-b49f-4787-a7d4-58133e53886a",
   "metadata": {},
   "outputs": [],
   "source": []
  },
  {
   "cell_type": "code",
   "execution_count": null,
   "id": "c5c8a4a1-287d-4294-aa4a-27e1f5d10ddd",
   "metadata": {},
   "outputs": [],
   "source": []
  },
  {
   "cell_type": "code",
   "execution_count": null,
   "id": "21de1541-b1cc-4a9f-afff-9ce82736accc",
   "metadata": {},
   "outputs": [],
   "source": []
  },
  {
   "cell_type": "code",
   "execution_count": null,
   "id": "dcfa9788-c153-40c3-8d8e-bbbead4bb2d8",
   "metadata": {},
   "outputs": [],
   "source": []
  },
  {
   "cell_type": "code",
   "execution_count": null,
   "id": "bb80a594-5b32-4b29-987c-3d17beb76ef2",
   "metadata": {},
   "outputs": [],
   "source": []
  },
  {
   "cell_type": "code",
   "execution_count": null,
   "id": "7d127d8f-2edb-4a87-823c-eb135433d43d",
   "metadata": {},
   "outputs": [],
   "source": []
  },
  {
   "cell_type": "code",
   "execution_count": null,
   "id": "f70b909e-4412-4316-a2b5-29c998e1e42a",
   "metadata": {},
   "outputs": [],
   "source": []
  },
  {
   "cell_type": "code",
   "execution_count": null,
   "id": "65cb3443-18d3-4bef-b0f5-1b65a1a3e1b9",
   "metadata": {},
   "outputs": [],
   "source": []
  },
  {
   "cell_type": "code",
   "execution_count": null,
   "id": "5ee6e40b-1205-4a07-8061-4ffed5e2ba47",
   "metadata": {},
   "outputs": [],
   "source": []
  },
  {
   "cell_type": "code",
   "execution_count": null,
   "id": "67c754dd-e6b0-47cc-a03a-310a9de3ef88",
   "metadata": {},
   "outputs": [],
   "source": []
  },
  {
   "cell_type": "code",
   "execution_count": null,
   "id": "91a78ecb-c6a3-4f8f-9aa9-f5bd41c54b33",
   "metadata": {},
   "outputs": [],
   "source": []
  },
  {
   "cell_type": "code",
   "execution_count": null,
   "id": "e2e8882d-5ebe-4902-b1fa-1ace5952e50c",
   "metadata": {},
   "outputs": [],
   "source": []
  },
  {
   "cell_type": "code",
   "execution_count": null,
   "id": "e73cee57-c64a-409d-be08-cd36903d9298",
   "metadata": {},
   "outputs": [],
   "source": []
  },
  {
   "cell_type": "code",
   "execution_count": null,
   "id": "5eac1557-40f7-4502-98f2-d48cf4138d8b",
   "metadata": {},
   "outputs": [],
   "source": []
  },
  {
   "cell_type": "code",
   "execution_count": null,
   "id": "c411b00c-f7f2-4dbf-884d-b1360c157f0f",
   "metadata": {},
   "outputs": [],
   "source": []
  },
  {
   "cell_type": "code",
   "execution_count": null,
   "id": "11b81259-a600-464e-afa4-253a31773042",
   "metadata": {},
   "outputs": [],
   "source": []
  },
  {
   "cell_type": "code",
   "execution_count": null,
   "id": "85f41103-00a6-440b-830a-a6df65276ee3",
   "metadata": {},
   "outputs": [],
   "source": []
  },
  {
   "cell_type": "code",
   "execution_count": null,
   "id": "5965fa05-05d2-490c-802c-4c8f1dad15a2",
   "metadata": {},
   "outputs": [],
   "source": []
  },
  {
   "cell_type": "code",
   "execution_count": null,
   "id": "e4f067bd-d543-478f-9c5d-273f5ca13347",
   "metadata": {},
   "outputs": [],
   "source": []
  },
  {
   "cell_type": "code",
   "execution_count": null,
   "id": "4dc86e0f-c8af-4259-ba2d-2a9a6dd37795",
   "metadata": {},
   "outputs": [],
   "source": []
  },
  {
   "cell_type": "code",
   "execution_count": null,
   "id": "91bd4035-b9ea-4e59-a3bc-95f745800025",
   "metadata": {},
   "outputs": [],
   "source": []
  },
  {
   "cell_type": "code",
   "execution_count": null,
   "id": "94e1f4df-36a2-4afd-940b-bb73c816e394",
   "metadata": {},
   "outputs": [],
   "source": []
  },
  {
   "cell_type": "code",
   "execution_count": null,
   "id": "8cfc2220-443c-4f41-80dc-af4ed8caccf5",
   "metadata": {},
   "outputs": [],
   "source": []
  },
  {
   "cell_type": "code",
   "execution_count": null,
   "id": "a39afb19-50a5-4736-b33b-972d92410dcd",
   "metadata": {},
   "outputs": [],
   "source": []
  },
  {
   "cell_type": "code",
   "execution_count": null,
   "id": "5217af5b-6511-4012-b322-3d56f8d63cdd",
   "metadata": {},
   "outputs": [],
   "source": []
  },
  {
   "cell_type": "code",
   "execution_count": null,
   "id": "bbbba8fe-ef54-49d0-a7eb-adffd236cd57",
   "metadata": {},
   "outputs": [],
   "source": []
  },
  {
   "cell_type": "code",
   "execution_count": null,
   "id": "6ff9e004-f3f5-44d9-8a25-b8d5ea50e356",
   "metadata": {},
   "outputs": [],
   "source": []
  },
  {
   "cell_type": "code",
   "execution_count": null,
   "id": "3315f2ca-77c4-4800-99c0-c168dfdcc88a",
   "metadata": {},
   "outputs": [],
   "source": []
  },
  {
   "cell_type": "code",
   "execution_count": null,
   "id": "ebe488b0-5304-4e3d-9cfa-b6e1f2fa60b5",
   "metadata": {},
   "outputs": [],
   "source": []
  },
  {
   "cell_type": "code",
   "execution_count": null,
   "id": "df43a389-364e-41a2-a5b1-cbae8204b7f8",
   "metadata": {},
   "outputs": [],
   "source": []
  },
  {
   "cell_type": "code",
   "execution_count": null,
   "id": "d4e8a64e-159c-4f05-a28c-033504253252",
   "metadata": {},
   "outputs": [],
   "source": []
  },
  {
   "cell_type": "code",
   "execution_count": null,
   "id": "cc3bb994-ebd7-4cb1-8770-f10e5873702a",
   "metadata": {},
   "outputs": [],
   "source": []
  },
  {
   "cell_type": "code",
   "execution_count": null,
   "id": "2fb91d89-2ecd-440f-9eb0-04dc45f25e43",
   "metadata": {},
   "outputs": [],
   "source": []
  },
  {
   "cell_type": "code",
   "execution_count": null,
   "id": "70f2a799-f769-4b75-8a0c-8a922622e9b2",
   "metadata": {},
   "outputs": [],
   "source": []
  },
  {
   "cell_type": "code",
   "execution_count": null,
   "id": "d9947841-a9ba-4745-b0b9-79aff230c2d4",
   "metadata": {},
   "outputs": [],
   "source": []
  },
  {
   "cell_type": "code",
   "execution_count": null,
   "id": "d85c28c5-c20e-41ff-b2cb-bd941327b58d",
   "metadata": {},
   "outputs": [],
   "source": []
  },
  {
   "cell_type": "code",
   "execution_count": null,
   "id": "c30be39a-e017-4ca8-8bb1-d8d40a0cfaaa",
   "metadata": {},
   "outputs": [],
   "source": []
  },
  {
   "cell_type": "code",
   "execution_count": null,
   "id": "02abaa73-5b95-4080-9a14-5fab90382119",
   "metadata": {},
   "outputs": [],
   "source": []
  },
  {
   "cell_type": "code",
   "execution_count": null,
   "id": "99e5566a-a1cc-482c-96f3-bd6e578e4708",
   "metadata": {},
   "outputs": [],
   "source": []
  },
  {
   "cell_type": "code",
   "execution_count": null,
   "id": "c36c9c92-b806-446f-b3c8-0b06878315ef",
   "metadata": {},
   "outputs": [],
   "source": []
  },
  {
   "cell_type": "code",
   "execution_count": null,
   "id": "22dea887-8463-45d7-ad60-0d4a78775804",
   "metadata": {},
   "outputs": [],
   "source": []
  },
  {
   "cell_type": "code",
   "execution_count": null,
   "id": "05323e84-9dc2-4d5e-b69d-02019d3eda4c",
   "metadata": {},
   "outputs": [],
   "source": []
  },
  {
   "cell_type": "code",
   "execution_count": null,
   "id": "afb4d9cd-6152-4b21-800d-ef41151cb66d",
   "metadata": {},
   "outputs": [],
   "source": []
  },
  {
   "cell_type": "code",
   "execution_count": null,
   "id": "9c12d8bf-9708-4ee0-9cf2-aa3262fe6b6e",
   "metadata": {},
   "outputs": [],
   "source": []
  },
  {
   "cell_type": "code",
   "execution_count": null,
   "id": "a41c32a9-7ad8-4ea5-aede-3c64f67df8f8",
   "metadata": {},
   "outputs": [],
   "source": []
  },
  {
   "cell_type": "code",
   "execution_count": null,
   "id": "2f13db0c-15ad-40fb-b2a8-adba13384e3f",
   "metadata": {},
   "outputs": [],
   "source": []
  },
  {
   "cell_type": "code",
   "execution_count": null,
   "id": "e26ebf42-6883-48cc-a46b-2a7e8b4aad39",
   "metadata": {},
   "outputs": [],
   "source": []
  },
  {
   "cell_type": "code",
   "execution_count": null,
   "id": "fbfc4c50-5eac-494d-b696-0ce14c967f07",
   "metadata": {},
   "outputs": [],
   "source": []
  },
  {
   "cell_type": "code",
   "execution_count": null,
   "id": "fd23d2d9-2ff4-4d4b-9ad2-869041d13cf7",
   "metadata": {},
   "outputs": [],
   "source": []
  },
  {
   "cell_type": "code",
   "execution_count": null,
   "id": "87efbb23-2642-41b6-9030-776ee17b4b27",
   "metadata": {},
   "outputs": [],
   "source": []
  },
  {
   "cell_type": "code",
   "execution_count": null,
   "id": "9bb29d34-c882-4834-91df-b312405794a0",
   "metadata": {},
   "outputs": [],
   "source": []
  },
  {
   "cell_type": "code",
   "execution_count": null,
   "id": "4a9e750d-4d0a-4a8a-8473-2eba13b786e6",
   "metadata": {},
   "outputs": [],
   "source": []
  },
  {
   "cell_type": "code",
   "execution_count": null,
   "id": "a8daf008-2833-4a39-8e2c-39c7ab689256",
   "metadata": {},
   "outputs": [],
   "source": []
  },
  {
   "cell_type": "code",
   "execution_count": null,
   "id": "6d55bb3a-06f0-4197-aac0-04775ccca66e",
   "metadata": {},
   "outputs": [],
   "source": []
  },
  {
   "cell_type": "code",
   "execution_count": null,
   "id": "bc3ae553-6d5a-4fea-a841-f42c7c6a8f2e",
   "metadata": {},
   "outputs": [],
   "source": []
  },
  {
   "cell_type": "code",
   "execution_count": null,
   "id": "93d01a5b-1dba-4145-a227-b601bce8a456",
   "metadata": {},
   "outputs": [],
   "source": []
  },
  {
   "cell_type": "code",
   "execution_count": null,
   "id": "654b1163-f1ed-4dbc-b0a2-5288c9ba2186",
   "metadata": {},
   "outputs": [],
   "source": []
  },
  {
   "cell_type": "code",
   "execution_count": null,
   "id": "0e405325-d9ea-4a00-9ceb-2f7a4bf72d94",
   "metadata": {},
   "outputs": [],
   "source": []
  },
  {
   "cell_type": "code",
   "execution_count": null,
   "id": "36228795-f6cf-4539-af27-215d9c875951",
   "metadata": {},
   "outputs": [],
   "source": []
  },
  {
   "cell_type": "code",
   "execution_count": null,
   "id": "5786ca6a-b85f-4ee8-b1db-942342fb6d9b",
   "metadata": {},
   "outputs": [],
   "source": []
  },
  {
   "cell_type": "code",
   "execution_count": null,
   "id": "12d366ef-f4ee-42e2-ae1c-3164363e80c4",
   "metadata": {},
   "outputs": [],
   "source": []
  },
  {
   "cell_type": "code",
   "execution_count": null,
   "id": "7d0715be-4c85-4395-90b7-74b76f0d9c7e",
   "metadata": {},
   "outputs": [],
   "source": []
  },
  {
   "cell_type": "code",
   "execution_count": null,
   "id": "94d199a3-58ee-477f-aeb4-0801f9c8a5eb",
   "metadata": {},
   "outputs": [],
   "source": []
  },
  {
   "cell_type": "code",
   "execution_count": null,
   "id": "544a39da-c0b9-4257-b037-868a98fde02d",
   "metadata": {},
   "outputs": [],
   "source": []
  },
  {
   "cell_type": "code",
   "execution_count": null,
   "id": "4370b2e1-dc53-4026-bb8f-b8ccaff224b0",
   "metadata": {},
   "outputs": [],
   "source": []
  },
  {
   "cell_type": "code",
   "execution_count": null,
   "id": "99985b6e-f1d8-4551-94bf-e1d88548e5ad",
   "metadata": {},
   "outputs": [],
   "source": []
  },
  {
   "cell_type": "code",
   "execution_count": null,
   "id": "27b4212c-5975-450a-b859-0d50d9ebee1a",
   "metadata": {},
   "outputs": [],
   "source": []
  },
  {
   "cell_type": "code",
   "execution_count": null,
   "id": "8aa264a4-9612-4855-b927-ce79909907a0",
   "metadata": {},
   "outputs": [],
   "source": []
  },
  {
   "cell_type": "code",
   "execution_count": null,
   "id": "4e5ebd68-67b4-4f30-ab1c-76eeb13f7f31",
   "metadata": {},
   "outputs": [],
   "source": []
  },
  {
   "cell_type": "code",
   "execution_count": null,
   "id": "5fa8c1e0-3641-4cf8-9f61-c941b5c147f5",
   "metadata": {},
   "outputs": [],
   "source": []
  },
  {
   "cell_type": "code",
   "execution_count": null,
   "id": "4b4b7372-623c-4623-86c8-d2dd4e10d95a",
   "metadata": {},
   "outputs": [],
   "source": []
  },
  {
   "cell_type": "code",
   "execution_count": null,
   "id": "45ebac74-26ae-4ccf-8941-0d0ed747ac77",
   "metadata": {},
   "outputs": [],
   "source": []
  },
  {
   "cell_type": "code",
   "execution_count": null,
   "id": "b0b57d8c-ef88-4bf4-965b-552f8a51a6a8",
   "metadata": {},
   "outputs": [],
   "source": []
  },
  {
   "cell_type": "code",
   "execution_count": null,
   "id": "178e4301-f33a-4eec-9cbd-c7b3aa65d77d",
   "metadata": {},
   "outputs": [],
   "source": []
  },
  {
   "cell_type": "code",
   "execution_count": null,
   "id": "2242355d-6c72-4065-b960-1be0d0e32bab",
   "metadata": {},
   "outputs": [],
   "source": []
  },
  {
   "cell_type": "code",
   "execution_count": null,
   "id": "14bfffaf-9bf6-41fc-afea-8624024e7a93",
   "metadata": {},
   "outputs": [],
   "source": []
  },
  {
   "cell_type": "code",
   "execution_count": null,
   "id": "771280e6-2a60-4d88-9eb1-ebb221530ec9",
   "metadata": {},
   "outputs": [],
   "source": []
  },
  {
   "cell_type": "code",
   "execution_count": null,
   "id": "10312ce6-2562-448a-bfac-6f3f2d02dd69",
   "metadata": {},
   "outputs": [],
   "source": []
  },
  {
   "cell_type": "code",
   "execution_count": null,
   "id": "5dbba88f-9110-488b-9746-2915d1d81d13",
   "metadata": {},
   "outputs": [],
   "source": []
  },
  {
   "cell_type": "code",
   "execution_count": null,
   "id": "bdab30e4-8d08-4b85-8523-c9da508908c6",
   "metadata": {},
   "outputs": [],
   "source": []
  },
  {
   "cell_type": "code",
   "execution_count": null,
   "id": "fca33f93-4886-4a06-a9f7-4d3f3774a590",
   "metadata": {},
   "outputs": [],
   "source": []
  },
  {
   "cell_type": "code",
   "execution_count": null,
   "id": "f500c92d-4ea8-4daa-ae6a-f8b709c8f368",
   "metadata": {},
   "outputs": [],
   "source": []
  },
  {
   "cell_type": "code",
   "execution_count": null,
   "id": "bc86dac5-8fa9-411e-a36c-a8e7a030abe2",
   "metadata": {},
   "outputs": [],
   "source": []
  },
  {
   "cell_type": "code",
   "execution_count": null,
   "id": "7dd57181-a6df-4453-af1c-bfc724714750",
   "metadata": {},
   "outputs": [],
   "source": []
  },
  {
   "cell_type": "code",
   "execution_count": null,
   "id": "f3cf503e-2c19-48ec-8b16-041ae09daead",
   "metadata": {},
   "outputs": [],
   "source": []
  },
  {
   "cell_type": "code",
   "execution_count": null,
   "id": "606f1fc0-7c11-4884-af0e-fe118dbedc62",
   "metadata": {},
   "outputs": [],
   "source": []
  },
  {
   "cell_type": "code",
   "execution_count": null,
   "id": "c6f43b01-7131-4436-90d1-d142cca30e66",
   "metadata": {},
   "outputs": [],
   "source": []
  },
  {
   "cell_type": "code",
   "execution_count": null,
   "id": "e22be550-0ebe-429e-85a1-4caf9d959fea",
   "metadata": {},
   "outputs": [],
   "source": []
  },
  {
   "cell_type": "code",
   "execution_count": null,
   "id": "f2a1aa74-69e8-4c97-9bfb-69802b5dda64",
   "metadata": {},
   "outputs": [],
   "source": []
  },
  {
   "cell_type": "code",
   "execution_count": null,
   "id": "d92d8baa-d912-4ba8-bfa2-174734f98557",
   "metadata": {},
   "outputs": [],
   "source": []
  },
  {
   "cell_type": "code",
   "execution_count": 177,
   "id": "f7a3b2bf-86b9-4b96-bbfa-1d46dcd88ac4",
   "metadata": {},
   "outputs": [
    {
     "ename": "ValueError",
     "evalue": "Type names and field names must be valid identifiers: 'CODIGO CAÑERO '",
     "output_type": "error",
     "traceback": [
      "\u001b[1;31m---------------------------------------------------------------------------\u001b[0m",
      "\u001b[1;31mValueError\u001b[0m                                Traceback (most recent call last)",
      "\u001b[1;32m~\\AppData\\Local\\Temp/ipykernel_17028/2601182170.py\u001b[0m in \u001b[0;36m<module>\u001b[1;34m\u001b[0m\n\u001b[0;32m      1\u001b[0m \u001b[1;31m# Crear el namedtuple. Supongamos que tu DataFrame tiene columnas 'A', 'B' y 'C'\u001b[0m\u001b[1;33m\u001b[0m\u001b[1;33m\u001b[0m\u001b[1;33m\u001b[0m\u001b[0m\n\u001b[1;32m----> 2\u001b[1;33m \u001b[0mMyTuple\u001b[0m \u001b[1;33m=\u001b[0m \u001b[0mcollections\u001b[0m\u001b[1;33m.\u001b[0m\u001b[0mnamedtuple\u001b[0m\u001b[1;33m(\u001b[0m\u001b[1;34m'MyTuple'\u001b[0m\u001b[1;33m,\u001b[0m \u001b[1;33m[\u001b[0m\u001b[1;34m'INS'\u001b[0m\u001b[1;33m,\u001b[0m \u001b[1;34m'GRUPO'\u001b[0m\u001b[1;33m,\u001b[0m \u001b[1;34m'CODIGO CAÑERO '\u001b[0m\u001b[1;33m,\u001b[0m \u001b[1;34m'CAÑERO'\u001b[0m\u001b[1;33m,\u001b[0m \u001b[1;34m'TN COMPROMISO INDIVIDUAL'\u001b[0m\u001b[1;33m,\u001b[0m \u001b[1;34m'TN ENTREGA INDIVIDUAL'\u001b[0m\u001b[1;33m]\u001b[0m\u001b[1;33m)\u001b[0m\u001b[1;33m\u001b[0m\u001b[1;33m\u001b[0m\u001b[0m\n\u001b[0m\u001b[0;32m      3\u001b[0m \u001b[1;33m\u001b[0m\u001b[0m\n\u001b[0;32m      4\u001b[0m \u001b[1;31m# Convertir el DataFrame en una lista de namedtuples\u001b[0m\u001b[1;33m\u001b[0m\u001b[1;33m\u001b[0m\u001b[1;33m\u001b[0m\u001b[0m\n\u001b[0;32m      5\u001b[0m \u001b[1;31m#list_of_tuples = [MyTuple(*row) for row in grupo_cols.itertuples(index=False)]\u001b[0m\u001b[1;33m\u001b[0m\u001b[1;33m\u001b[0m\u001b[1;33m\u001b[0m\u001b[0m\n",
      "\u001b[1;32m~\\.conda\\envs\\utea_reportes\\lib\\collections\\__init__.py\u001b[0m in \u001b[0;36mnamedtuple\u001b[1;34m(typename, field_names, rename, defaults, module)\u001b[0m\n\u001b[0;32m    359\u001b[0m             \u001b[1;32mraise\u001b[0m \u001b[0mTypeError\u001b[0m\u001b[1;33m(\u001b[0m\u001b[1;34m'Type names and field names must be strings'\u001b[0m\u001b[1;33m)\u001b[0m\u001b[1;33m\u001b[0m\u001b[1;33m\u001b[0m\u001b[0m\n\u001b[0;32m    360\u001b[0m         \u001b[1;32mif\u001b[0m \u001b[1;32mnot\u001b[0m \u001b[0mname\u001b[0m\u001b[1;33m.\u001b[0m\u001b[0misidentifier\u001b[0m\u001b[1;33m(\u001b[0m\u001b[1;33m)\u001b[0m\u001b[1;33m:\u001b[0m\u001b[1;33m\u001b[0m\u001b[1;33m\u001b[0m\u001b[0m\n\u001b[1;32m--> 361\u001b[1;33m             raise ValueError('Type names and field names must be valid '\n\u001b[0m\u001b[0;32m    362\u001b[0m                              f'identifiers: {name!r}')\n\u001b[0;32m    363\u001b[0m         \u001b[1;32mif\u001b[0m \u001b[0m_iskeyword\u001b[0m\u001b[1;33m(\u001b[0m\u001b[0mname\u001b[0m\u001b[1;33m)\u001b[0m\u001b[1;33m:\u001b[0m\u001b[1;33m\u001b[0m\u001b[1;33m\u001b[0m\u001b[0m\n",
      "\u001b[1;31mValueError\u001b[0m: Type names and field names must be valid identifiers: 'CODIGO CAÑERO '"
     ]
    }
   ],
   "source": [
    "# Crear el namedtuple. Supongamos que tu DataFrame tiene columnas 'A', 'B' y 'C'\n",
    "MyTuple = collections.namedtuple('MyTuple', ['INS', 'GRUPO', 'CODIGO CAÑERO ', 'CAÑERO', 'TN COMPROMISO INDIVIDUAL', 'TN ENTREGA INDIVIDUAL'])\n",
    "\n",
    "# Convertir el DataFrame en una lista de namedtuples\n",
    "#list_of_tuples = [MyTuple(*row) for row in grupo_cols.itertuples(index=False)]"
   ]
  },
  {
   "cell_type": "code",
   "execution_count": null,
   "id": "a80feb98-0c93-4251-bf7f-578276d04e32",
   "metadata": {},
   "outputs": [],
   "source": []
  },
  {
   "cell_type": "code",
   "execution_count": null,
   "id": "61d1147d-538a-4983-ac1c-7580e8dff365",
   "metadata": {},
   "outputs": [],
   "source": []
  },
  {
   "cell_type": "code",
   "execution_count": null,
   "id": "fa597bd9-dab9-4d7b-9e79-d7ac25b7bc38",
   "metadata": {},
   "outputs": [],
   "source": []
  },
  {
   "cell_type": "code",
   "execution_count": null,
   "id": "4b8c514e-1b35-43eb-8382-4e9a542b60b9",
   "metadata": {},
   "outputs": [],
   "source": []
  },
  {
   "cell_type": "code",
   "execution_count": null,
   "id": "e8de9135-6bdf-4ca0-9398-06e981b45175",
   "metadata": {},
   "outputs": [],
   "source": []
  },
  {
   "cell_type": "code",
   "execution_count": 151,
   "id": "32d73867-66c1-4f98-a7ba-9c3654ebd0a4",
   "metadata": {},
   "outputs": [
    {
     "data": {
      "text/plain": [
       "{'total_compromiso': 14773.01, 'total_entregado': 2535.82}"
      ]
     },
     "execution_count": 151,
     "metadata": {},
     "output_type": "execute_result"
    }
   ],
   "source": [
    "# total para sumatoria de columnas numerias\n",
    "totales_grupo = {\n",
    "    'total_compromiso' : grupo['TN COMPROMISO INDIVIDUAL'].sum(),\n",
    "    'total_entregado' : grupo['TN ENTREGA INDIVIDUAL'].sum()\n",
    "}\n",
    "totales_grupo"
   ]
  },
  {
   "cell_type": "markdown",
   "id": "196247bf-5eb2-4bfb-a4a9-55631185f513",
   "metadata": {},
   "source": [
    "## PORCENTAJE DE AVANCE"
   ]
  },
  {
   "cell_type": "code",
   "execution_count": 152,
   "id": "9b074106-caf2-45a0-84e1-a2febef40111",
   "metadata": {},
   "outputs": [],
   "source": [
    "# seleccion de la primera fila del grupo\n",
    "data_grupo = dict(grupo.iloc[0])"
   ]
  },
  {
   "cell_type": "code",
   "execution_count": 153,
   "id": "125a6d5e-ebcd-4c83-8395-3120f265537f",
   "metadata": {},
   "outputs": [
    {
     "data": {
      "text/plain": [
       "{'TN COMPROMISO GRUPAL': 14773.01,\n",
       " 'TN ENTREGA GRUPAL': 2535.8199999999997,\n",
       " '% ENTREGA GRUPAL': 17.165222253284874,\n",
       " 'HA CANHA POR GRUPO': 258.68,\n",
       " 'HA COSECHA GRUPAL': 51.370000000000005,\n",
       " '% COSECHA GRUPAL': 19.858512447811968,\n",
       " 'DIFERENCIA': -2.6932901945270955}"
      ]
     },
     "execution_count": 153,
     "metadata": {},
     "output_type": "execute_result"
    }
   ],
   "source": [
    "porcen_avance = {\n",
    "    'TN COMPROMISO GRUPAL' : data_grupo['TN COMPROMISO GRUPAL'],\n",
    "    'TN ENTREGA GRUPAL': data_grupo['TN ENTREGA GRUPAL'],\n",
    "    '% ENTREGA GRUPAL' : data_grupo['% ENTREGA GRUPAL'] * 100,\n",
    "    'HA CANHA POR GRUPO' : data_grupo['HA CANHA POR GRUPO'],\n",
    "    'HA COSECHA GRUPAL' : data_grupo['HA COSECHA GRUPAL'],\n",
    "    '% COSECHA GRUPAL' : data_grupo['% COSECHA GRUPAL'] * 100,\n",
    "    'DIFERENCIA' : data_grupo['DIFERENCIA'] * 100\n",
    "}\n",
    "porcen_avance"
   ]
  },
  {
   "cell_type": "markdown",
   "id": "dd3b29cc-d00c-4fef-8d35-6cd0ed1517a5",
   "metadata": {},
   "source": [
    "## PORCENTAJE COMPROMETIDO"
   ]
  },
  {
   "cell_type": "code",
   "execution_count": 154,
   "id": "2390ec64-917b-4a78-965d-de87855b275a",
   "metadata": {},
   "outputs": [
    {
     "data": {
      "text/plain": [
       "{'TN COMPROMISO GRUPAL': 14773.01,\n",
       " 'TN ENTREGA GRUPAL': 2535.8199999999997,\n",
       " 'COMPROMISO RESTANTE': 12237.19,\n",
       " 'TN ESTIMADA APROX': 11025.142905392251,\n",
       " 'DIFERENCIA COMPROMETIDO': 1212.0470946077494}"
      ]
     },
     "execution_count": 154,
     "metadata": {},
     "output_type": "execute_result"
    }
   ],
   "source": [
    "porcen_compromiso = {\n",
    "    'TN COMPROMISO GRUPAL' : data_grupo['TN COMPROMISO GRUPAL'],\n",
    "    'TN ENTREGA GRUPAL': data_grupo['TN ENTREGA GRUPAL'],\n",
    "    'COMPROMISO RESTANTE' : data_grupo['COMPROMISO RESTANTE'],\n",
    "    'TN ESTIMADA APROX' : data_grupo['TN ESTIMADA APROX'],\n",
    "    'DIFERENCIA COMPROMETIDO' : data_grupo['DIFERENCIA COMPROMETIDO']\n",
    "}\n",
    "porcen_compromiso"
   ]
  },
  {
   "cell_type": "markdown",
   "id": "f684620f-53cd-46af-898f-1b9c5a0f31a8",
   "metadata": {},
   "source": [
    "## PROPIEDADES"
   ]
  },
  {
   "cell_type": "code",
   "execution_count": 155,
   "id": "a668109d-443f-40be-b375-9e8181f1aeb4",
   "metadata": {},
   "outputs": [],
   "source": [
    "# copia de grupo\n",
    "grupo_aux = grupo.copy()\n",
    "# cambio de nombre de columna de codigo cañero\n",
    "grupo_aux.rename(columns={'CODIGO CAÑERO ':'cod_ca'}, inplace=True)"
   ]
  },
  {
   "cell_type": "code",
   "execution_count": 156,
   "id": "c49016f2-82c8-474b-bc3e-631505647c7f",
   "metadata": {},
   "outputs": [],
   "source": [
    "# carga de datos de shp de avance\n",
    "shp_avance = gpd.read_file(file_shp_avance)"
   ]
  },
  {
   "cell_type": "code",
   "execution_count": 157,
   "id": "aad65393-b66f-4165-886d-2dd15ed19c42",
   "metadata": {},
   "outputs": [],
   "source": [
    "# copia de datos de shp_avance\n",
    "shp_avance_aux = shp_avance.copy()\n",
    "# cambio de nombre de columna de cod_cañero\n",
    "shp_avance_aux.rename(columns={'unidad_03':'cod_ca'}, inplace=True)"
   ]
  },
  {
   "cell_type": "code",
   "execution_count": 158,
   "id": "33ad0986-f834-4dcd-9b44-36ce19366ce4",
   "metadata": {},
   "outputs": [],
   "source": [
    "# nueva columna de area cosechada (dependiendo del estado)\n",
    "shp_avance_aux['area_cosechada'] = shp_avance_aux.apply(lambda row : row['area'] if row['estado'] == 'cosechado' else 0, axis=1)\n",
    "# nueva columna de area no cosechada (resta de area - area_cosechada)\n",
    "shp_avance_aux['area_sin_cosechar'] = shp_avance_aux.apply(lambda row : row['area'] - row['area_cosechada'], axis=1)"
   ]
  },
  {
   "cell_type": "code",
   "execution_count": 159,
   "id": "ffd5e7d8-74de-4f20-9992-128e4a8d790f",
   "metadata": {},
   "outputs": [],
   "source": [
    "# merge de los datos de shp de avance y grupo\n",
    "propiedades_merge = pd.merge(shp_avance_aux, grupo_aux, on='cod_ca')"
   ]
  },
  {
   "cell_type": "code",
   "execution_count": 167,
   "id": "c3ffce9e-758c-42a1-8d70-d16beeda2940",
   "metadata": {},
   "outputs": [],
   "source": [
    "# agrupacion de datos, para totalizar las areas cosechadas y las que no\n",
    "propiedades_total = propiedades_merge.groupby(['unidad_01', 'unidad_02'])[['area_cosechada', 'area_sin_cosechar']].sum()"
   ]
  },
  {
   "cell_type": "code",
   "execution_count": 168,
   "id": "04f8911b-fb8a-4f71-9619-d0f837203692",
   "metadata": {},
   "outputs": [
    {
     "data": {
      "text/html": [
       "<div>\n",
       "<style scoped>\n",
       "    .dataframe tbody tr th:only-of-type {\n",
       "        vertical-align: middle;\n",
       "    }\n",
       "\n",
       "    .dataframe tbody tr th {\n",
       "        vertical-align: top;\n",
       "    }\n",
       "\n",
       "    .dataframe thead th {\n",
       "        text-align: right;\n",
       "    }\n",
       "</style>\n",
       "<table border=\"1\" class=\"dataframe\">\n",
       "  <thead>\n",
       "    <tr style=\"text-align: right;\">\n",
       "      <th></th>\n",
       "      <th>unidad_01</th>\n",
       "      <th>unidad_02</th>\n",
       "      <th>area_cosechada</th>\n",
       "      <th>area_sin_cosechar</th>\n",
       "    </tr>\n",
       "  </thead>\n",
       "  <tbody>\n",
       "    <tr>\n",
       "      <th>0</th>\n",
       "      <td>78.0</td>\n",
       "      <td>SINFORIANO_V_Y_VI</td>\n",
       "      <td>0.00</td>\n",
       "      <td>20.54</td>\n",
       "    </tr>\n",
       "    <tr>\n",
       "      <th>1</th>\n",
       "      <td>244.0</td>\n",
       "      <td>SAN_VICENTE--PERALTA</td>\n",
       "      <td>24.00</td>\n",
       "      <td>40.48</td>\n",
       "    </tr>\n",
       "    <tr>\n",
       "      <th>2</th>\n",
       "      <td>577.0</td>\n",
       "      <td>SAN_ANTONIO--IAG</td>\n",
       "      <td>0.00</td>\n",
       "      <td>77.03</td>\n",
       "    </tr>\n",
       "    <tr>\n",
       "      <th>3</th>\n",
       "      <td>593.0</td>\n",
       "      <td>SINFORIANO_V--LEON</td>\n",
       "      <td>0.00</td>\n",
       "      <td>14.55</td>\n",
       "    </tr>\n",
       "    <tr>\n",
       "      <th>4</th>\n",
       "      <td>594.0</td>\n",
       "      <td>SINFORIANO_III--LEON</td>\n",
       "      <td>0.00</td>\n",
       "      <td>2.88</td>\n",
       "    </tr>\n",
       "    <tr>\n",
       "      <th>5</th>\n",
       "      <td>1091.0</td>\n",
       "      <td>LAS_MAROTAS--GERARDO_SALAZAR</td>\n",
       "      <td>48.47</td>\n",
       "      <td>8.78</td>\n",
       "    </tr>\n",
       "    <tr>\n",
       "      <th>6</th>\n",
       "      <td>1559.0</td>\n",
       "      <td>SAN_MARTIN--LIDER_SALAZAR</td>\n",
       "      <td>7.67</td>\n",
       "      <td>20.83</td>\n",
       "    </tr>\n",
       "    <tr>\n",
       "      <th>7</th>\n",
       "      <td>1579.0</td>\n",
       "      <td>SALAZAR--SALAZAR_LIDER</td>\n",
       "      <td>0.00</td>\n",
       "      <td>12.74</td>\n",
       "    </tr>\n",
       "  </tbody>\n",
       "</table>\n",
       "</div>"
      ],
      "text/plain": [
       "   unidad_01                     unidad_02  area_cosechada  area_sin_cosechar\n",
       "0       78.0             SINFORIANO_V_Y_VI            0.00              20.54\n",
       "1      244.0          SAN_VICENTE--PERALTA           24.00              40.48\n",
       "2      577.0              SAN_ANTONIO--IAG            0.00              77.03\n",
       "3      593.0            SINFORIANO_V--LEON            0.00              14.55\n",
       "4      594.0          SINFORIANO_III--LEON            0.00               2.88\n",
       "5     1091.0  LAS_MAROTAS--GERARDO_SALAZAR           48.47               8.78\n",
       "6     1559.0     SAN_MARTIN--LIDER_SALAZAR            7.67              20.83\n",
       "7     1579.0        SALAZAR--SALAZAR_LIDER            0.00              12.74"
      ]
     },
     "execution_count": 168,
     "metadata": {},
     "output_type": "execute_result"
    }
   ],
   "source": [
    "propiedades_total = propiedades_total.reset_index()\n",
    "propiedades_total"
   ]
  },
  {
   "cell_type": "code",
   "execution_count": null,
   "id": "51d3adc0-492f-40e9-8447-5c3b83fbea25",
   "metadata": {},
   "outputs": [],
   "source": []
  },
  {
   "cell_type": "code",
   "execution_count": null,
   "id": "e9833c3f-6abb-4cc9-b231-13e8c21bda03",
   "metadata": {},
   "outputs": [],
   "source": []
  },
  {
   "cell_type": "code",
   "execution_count": null,
   "id": "c07fb90b-0e32-4ed0-b380-e83ca131f17a",
   "metadata": {},
   "outputs": [],
   "source": []
  },
  {
   "cell_type": "code",
   "execution_count": null,
   "id": "191eff7d-7cb1-487d-86ba-bf8bb785b542",
   "metadata": {},
   "outputs": [],
   "source": []
  },
  {
   "cell_type": "code",
   "execution_count": null,
   "id": "ff1b3a3b-bcca-4790-b351-00efe4302706",
   "metadata": {},
   "outputs": [],
   "source": []
  },
  {
   "cell_type": "code",
   "execution_count": null,
   "id": "4f86f82e-abdb-4c9f-bef2-8d7f7c879e1d",
   "metadata": {},
   "outputs": [],
   "source": []
  },
  {
   "cell_type": "code",
   "execution_count": null,
   "id": "1310334e-4693-456a-a55d-a62c39653bb5",
   "metadata": {},
   "outputs": [],
   "source": []
  },
  {
   "cell_type": "code",
   "execution_count": null,
   "id": "ed7f5787-145a-4da2-b74f-f0b881c30910",
   "metadata": {},
   "outputs": [],
   "source": []
  },
  {
   "cell_type": "code",
   "execution_count": null,
   "id": "45bc5c3c-99c1-4428-b328-7ce388fdf377",
   "metadata": {},
   "outputs": [],
   "source": []
  },
  {
   "cell_type": "code",
   "execution_count": null,
   "id": "0cc2fa47-7497-4486-991f-f9f476b2eaa8",
   "metadata": {},
   "outputs": [],
   "source": []
  },
  {
   "cell_type": "code",
   "execution_count": null,
   "id": "add6a7a4-9360-4047-8d6a-6d3cdafcb6e9",
   "metadata": {},
   "outputs": [],
   "source": []
  },
  {
   "cell_type": "code",
   "execution_count": null,
   "id": "418586ba-4198-4444-adef-36b50dfd6bd9",
   "metadata": {},
   "outputs": [],
   "source": []
  }
 ],
 "metadata": {
  "kernelspec": {
   "display_name": "Python 3 (ipykernel)",
   "language": "python",
   "name": "python3"
  },
  "language_info": {
   "codemirror_mode": {
    "name": "ipython",
    "version": 3
   },
   "file_extension": ".py",
   "mimetype": "text/x-python",
   "name": "python",
   "nbconvert_exporter": "python",
   "pygments_lexer": "ipython3",
   "version": "3.7.16"
  }
 },
 "nbformat": 4,
 "nbformat_minor": 5
}
