{
 "cells": [
  {
   "cell_type": "code",
   "execution_count": 1,
   "id": "16edd055-3434-40bb-846f-f4eb6a4763fa",
   "metadata": {},
   "outputs": [
    {
     "name": "stderr",
     "output_type": "stream",
     "text": [
      "C:\\Users\\Bismar\\.conda\\envs\\utea_reportes\\lib\\importlib\\_bootstrap.py:219: RuntimeWarning: greenlet.greenlet size changed, may indicate binary incompatibility. Expected 144 from C header, got 152 from PyObject\n",
      "  return f(*args, **kwds)\n",
      "C:\\Users\\Bismar\\.conda\\envs\\utea_reportes\\lib\\importlib\\_bootstrap.py:219: RuntimeWarning: greenlet.greenlet size changed, may indicate binary incompatibility. Expected 144 from C header, got 152 from PyObject\n",
      "  return f(*args, **kwds)\n",
      "C:\\Users\\Bismar\\.conda\\envs\\utea_reportes\\lib\\importlib\\_bootstrap.py:219: RuntimeWarning: greenlet.greenlet size changed, may indicate binary incompatibility. Expected 144 from C header, got 152 from PyObject\n",
      "  return f(*args, **kwds)\n",
      "C:\\Users\\Bismar\\.conda\\envs\\utea_reportes\\lib\\importlib\\_bootstrap.py:219: RuntimeWarning: greenlet.greenlet size changed, may indicate binary incompatibility. Expected 144 from C header, got 152 from PyObject\n",
      "  return f(*args, **kwds)\n"
     ]
    }
   ],
   "source": [
    "from werkzeug.wrappers import Request, Response\n",
    "#from flask import Flask, render_template\n",
    "from jinja2 import Template\n",
    "\n",
    "#from datetime import date\n",
    "from datetime import datetime, timedelta\n",
    "\n",
    "import collections\n",
    "from amigocloud import AmigoCloud\n",
    "\n",
    "from datetime import datetime\n",
    "\n",
    "from docxtpl import DocxTemplate\n",
    "import docxtpl\n",
    "from docx.shared import Mm\n",
    "import requests"
   ]
  },
  {
   "cell_type": "code",
   "execution_count": 2,
   "id": "7ef1ba39-1f94-4427-a8da-3ac6e5c6fe10",
   "metadata": {},
   "outputs": [
    {
     "data": {
      "text/plain": [
       "<amigocloud.amigocloud.AmigoCloud at 0x2068f8d6ec8>"
      ]
     },
     "execution_count": 2,
     "metadata": {},
     "output_type": "execute_result"
    }
   ],
   "source": [
    "acceso = open('../../api_key/api.key','r')\n",
    "api_token = acceso.readlines()[0]\n",
    "acceso.close()\n",
    "\n",
    "amigocloud = AmigoCloud(token=api_token)\n",
    "amigocloud"
   ]
  },
  {
   "cell_type": "code",
   "execution_count": 27,
   "id": "4fab9180-478d-4c86-b8a6-2318cf1af5a6",
   "metadata": {},
   "outputs": [],
   "source": [
    "id_insp = 5"
   ]
  },
  {
   "cell_type": "code",
   "execution_count": 28,
   "id": "9d709ca5-5dbb-403a-b223-2ddb17f83d9f",
   "metadata": {},
   "outputs": [
    {
     "name": "stdout",
     "output_type": "stream",
     "text": [
      "end\n"
     ]
    }
   ],
   "source": [
    "# DATOS DE LAS INPECCION\n",
    "query = {'query': 'select * from dataset_315614 where id={id_insp}'.format(id_insp=id_insp)}\n",
    "project = 'https://app.amigocloud.com/api/v1/projects/32920/sql'\n",
    "select = amigocloud.get(project, query)\n",
    "data = select['data'][0]\n",
    "\n",
    "# convertir fecha a formato dd/mm/aaaa\n",
    "data['fecha_de_registro'] = datetime.strptime(data['fecha_de_registro'][0:10], '%Y-%m-%d').strftime('%d/%m/%Y')\n",
    "\n",
    "# los campos booleanos tiene formacto 'num_num', esto no es admitido para convertir a objeto\n",
    "# se modifica el dict para agregar 'k_' al inicio de todas llaves\n",
    "data = {'k_'+key : value for (key, value) in data.items()}\n",
    "insp = collections.namedtuple(\"insp\", data.keys())(*data.values())\n",
    "print('end')"
   ]
  },
  {
   "cell_type": "code",
   "execution_count": 29,
   "id": "53a8e9e3-0391-4d7b-80cd-c6ed34525a45",
   "metadata": {},
   "outputs": [
    {
     "data": {
      "text/plain": [
       "insp(k_fecha_de_registro='28/03/2023', k_amigo_id='f6553376a4794d9fac9697698aae81a6', k_ubicacion='0101000020E6100000164CA19861A24FC0A8C06E7DFD4331C0', k_id=5, k_canhero='75 / AGUILERA TARADELLES NELSON MARIANO ', k_inspeccion='1RA', k_maquina='CAMECO', k_modelo='3510', k_codigo_maquina=None, k_observaciones='Falta calibrar presion de bombas plazo estimativo será de una semana estará ok', k_1_1=False, k_1_2=True, k_1_3=False, k_1_4=False, k_1_5=False, k_2_1=False, k_2_2=False, k_2_3=False, k_2_4=False, k_3_1=False, k_3_2=False, k_3_3=False, k_3_4=False, k_3_5=False, k_3_6=True, k_3_7=True, k_3_8=True, k_4_1=False, k_4_2=False, k_4_3=False, k_4_4=True, k_4_5=False, k_5_1=False, k_5_2=False, k_5_3=False, k_5_4=False, k_5_5=False, k_5_6=False, k_6_1=False, k_6_2=False, k_6_3=False, k_6_4=False, k_6_5=False, k_7_1=True, k_7_2=True, k_7_3=True, k_7_4=False, k_7_5=False, k_7_6=False, k_7_7=False, k_7_8=False, k_8_1=False, k_8_2=False, k_8_3=False, k_8_4=False, k_8_5=False, k_8_6=False, k_8_7=False, k_8_8=False, k_8_9=False, k_9_1=True, k_9_2=False, k_9_3=True, k_9_4=True, k_9_5=True, k_9_6=True, k_10_1=False, k_10_2=False, k_10_3=False, k_10_4=False, k_10_5=False, k_10_6=False, k_11_1=False, k_11_2=False, k_11_3=False, k_11_4=False, k_11_5=False, k_12_1=False, k_12_2=False, k_12_3=False, k_13_1=False, k_14_1=False, k_14_2=False, k_14_3=False, k_14_4=False, k_14_5=False, k_14_6=False, k_14_7=False, k_14_8=False, k_14_9=False, k_15_1=True, k_15_2=True, k_user='', k_puntuacion=None, k_codigo_flota=2)"
      ]
     },
     "execution_count": 29,
     "metadata": {},
     "output_type": "execute_result"
    }
   ],
   "source": [
    "insp"
   ]
  },
  {
   "cell_type": "code",
   "execution_count": 30,
   "id": "ef1c8ca3-3f37-4809-bc0a-321098e6b295",
   "metadata": {},
   "outputs": [
    {
     "data": {
      "text/plain": [
       "'f6553376a4794d9fac9697698aae81a6'"
      ]
     },
     "execution_count": 30,
     "metadata": {},
     "output_type": "execute_result"
    }
   ],
   "source": [
    "insp.k_amigo_id"
   ]
  },
  {
   "cell_type": "code",
   "execution_count": 31,
   "id": "ba441713-42f9-4e64-863e-ac8773d563d8",
   "metadata": {},
   "outputs": [],
   "source": [
    "# FOTOS DE INSPECCION\n",
    "query_fotos = {'query': 'select gal.s3_filename, fot.obs from dataset_315689 fot\\\n",
    "                            inner join gallery_48937 gal on fot.amigo_id=gal.source_amigo_id\\\n",
    "                            where fot.insp_ref_fot=\\'{id}\\''.format(id=insp.k_amigo_id)}\n",
    "project = 'https://app.amigocloud.com/api/v1/projects/32920/sql'\n",
    "fotos = amigocloud.get(project, query_fotos)['data']"
   ]
  },
  {
   "cell_type": "code",
   "execution_count": 32,
   "id": "6a860787-f00f-493a-8159-74e4d65f017f",
   "metadata": {},
   "outputs": [
    {
     "data": {
      "text/plain": [
       "[{'s3_filename': 'IMG_20230328_145159.jpg',\n",
       "  'obs': 'Falta armar todo el extractor primário y secundario.\\n'},\n",
       " {'s3_filename': 'IMG_20230328_145315.jpg',\n",
       "  'obs': 'Falta armar todo el extractor primário y secundario.\\n'}]"
      ]
     },
     "execution_count": 32,
     "metadata": {},
     "output_type": "execute_result"
    }
   ],
   "source": [
    "fotos"
   ]
  },
  {
   "cell_type": "code",
   "execution_count": 33,
   "id": "c25dc919-ce71-43f2-9463-3bb335d23e2d",
   "metadata": {},
   "outputs": [],
   "source": [
    "doc = DocxTemplate(\"templates/template_insp_cosechadoras_pre.docx\")\n",
    "\n",
    "#descargar fotos y generar lista InlineImage\n",
    "\n",
    "lista_fotos_inline = []\n",
    "for foto in fotos:\n",
    "    response = requests.get(\"https://www-amigocloud.s3.amazonaws.com/gallery/\" + foto['s3_filename'])\n",
    "    file = open('fotos/' + foto['s3_filename'], \"wb\")\n",
    "    file.write(response.content)\n",
    "    file.close()\n",
    "    lista_fotos_inline.append({\n",
    "        'foto': docxtpl.InlineImage(doc, image_descriptor='fotos/' + foto['s3_filename'], width=Mm(50)),\n",
    "        'obs': foto['obs']\n",
    "    })\n",
    "\n",
    "context = {'insp':insp, 'fotos':lista_fotos_inline}\n",
    "#context = {'insp':insp}\n",
    "\n",
    "doc.render(context)\n",
    "\n",
    "# formato de nombre de archivo: \"123_CQ_01-01-2022_NOMBRE\"\n",
    "cod_nom = insp.k_canhero.split(' / ')\n",
    "file_name = cod_nom[0] + '_ECP_' + insp.k_fecha_de_registro.replace('/','-') + '_' + cod_nom[1] + '_' + str(insp.k_id)\n",
    "\n",
    "#doc.save(r'C:\\Users\\UTEA\\OneDrive - Ingenio Azucarero Guabira S.A (2)\\INFORMES\\IMFORMES PARA REVISAR\\\\' + file_name + '.docx')\n",
    "doc.save(r'_' + file_name + '.docx')"
   ]
  },
  {
   "cell_type": "code",
   "execution_count": null,
   "id": "786fdad5-de7a-4dc5-887c-1a704a66865e",
   "metadata": {},
   "outputs": [],
   "source": []
  }
 ],
 "metadata": {
  "kernelspec": {
   "display_name": "Python 3 (ipykernel)",
   "language": "python",
   "name": "python3"
  },
  "language_info": {
   "codemirror_mode": {
    "name": "ipython",
    "version": 3
   },
   "file_extension": ".py",
   "mimetype": "text/x-python",
   "name": "python",
   "nbconvert_exporter": "python",
   "pygments_lexer": "ipython3",
   "version": "3.7.16"
  }
 },
 "nbformat": 4,
 "nbformat_minor": 5
}
