{
 "cells": [
  {
   "cell_type": "code",
   "execution_count": 77,
   "id": "4fab9180-478d-4c86-b8a6-2318cf1af5a6",
   "metadata": {},
   "outputs": [],
   "source": [
    "id_insp = 6"
   ]
  },
  {
   "cell_type": "code",
   "execution_count": 86,
   "id": "16edd055-3434-40bb-846f-f4eb6a4763fa",
   "metadata": {},
   "outputs": [],
   "source": [
    "from werkzeug.wrappers import Request, Response\n",
    "#from flask import Flask, render_template\n",
    "from jinja2 import Template\n",
    "\n",
    "#from datetime import date\n",
    "from datetime import datetime, timedelta\n",
    "\n",
    "import collections\n",
    "from amigocloud import AmigoCloud\n",
    "\n",
    "from datetime import datetime\n",
    "\n",
    "from docxtpl import DocxTemplate\n",
    "import docxtpl\n",
    "from docx.shared import Mm\n",
    "import requests"
   ]
  },
  {
   "cell_type": "code",
   "execution_count": 79,
   "id": "7ef1ba39-1f94-4427-a8da-3ac6e5c6fe10",
   "metadata": {},
   "outputs": [
    {
     "name": "stderr",
     "output_type": "stream",
     "text": [
      "WARNING:socketIO-client:app.amigocloud.com:443/v2_socket.io/socket.io [connection error] recv disconnected ([Errno 2] No such file or directory)\n"
     ]
    },
    {
     "data": {
      "text/plain": [
       "<amigocloud.amigocloud.AmigoCloud at 0x1646177cf88>"
      ]
     },
     "execution_count": 79,
     "metadata": {},
     "output_type": "execute_result"
    }
   ],
   "source": [
    "acceso = open('../../api_key/api.key','r')\n",
    "api_token = acceso.readlines()[0]\n",
    "acceso.close()\n",
    "\n",
    "amigocloud = AmigoCloud(token=api_token)\n",
    "amigocloud"
   ]
  },
  {
   "cell_type": "code",
   "execution_count": 80,
   "id": "9d709ca5-5dbb-403a-b223-2ddb17f83d9f",
   "metadata": {},
   "outputs": [
    {
     "name": "stdout",
     "output_type": "stream",
     "text": [
      "end\n"
     ]
    }
   ],
   "source": [
    "# DATOS DE LAS INPECCION\n",
    "query = {'query': 'select * from dataset_315614 where id={id_insp}'.format(id_insp=id_insp)}\n",
    "project = 'https://app.amigocloud.com/api/v1/projects/32920/sql'\n",
    "select = amigocloud.get(project, query)\n",
    "data = select['data'][0]\n",
    "\n",
    "# convertir fecha a formato dd/mm/aaaa\n",
    "data['fecha_de_registro'] = datetime.strptime(data['fecha_de_registro'][0:10], '%Y-%m-%d').strftime('%d/%m/%Y')\n",
    "\n",
    "# los campos booleanos tiene formacto 'num_num', esto no es admitido para convertir a objeto\n",
    "# se modifica el dict para agregar 'k_' al inicio de todas llaves\n",
    "data = {'k_'+key : value for (key, value) in data.items()}\n",
    "insp = collections.namedtuple(\"insp\", data.keys())(*data.values())\n",
    "print('end')"
   ]
  },
  {
   "cell_type": "code",
   "execution_count": 81,
   "id": "53a8e9e3-0391-4d7b-80cd-c6ed34525a45",
   "metadata": {},
   "outputs": [
    {
     "data": {
      "text/plain": [
       "insp(k_fecha_de_registro='28/03/2023', k_amigo_id='20e6998807b742b1b439f57c837a25d2', k_ubicacion='0101000020E61000002E9C10DF2EA24FC08F835CF3F44331C0', k_id=6, k_canhero='75 / AGUILERA TARADELLES NELSON MARIANO ', k_inspeccion='1RA', k_maquina='CAMECO', k_modelo='2500', k_codigo_maquina=None, k_observaciones=None, k_1_1=True, k_1_2=True, k_1_3=False, k_1_4=False, k_1_5=True, k_2_1=False, k_2_2=False, k_2_3=True, k_2_4=True, k_3_1=True, k_3_2=True, k_3_3=True, k_3_4=True, k_3_5=True, k_3_6=True, k_3_7=True, k_3_8=True, k_4_1=True, k_4_2=True, k_4_3=True, k_4_4=True, k_4_5=True, k_5_1=True, k_5_2=True, k_5_3=True, k_5_4=True, k_5_5=False, k_5_6=True, k_6_1=True, k_6_2=False, k_6_3=False, k_6_4=False, k_6_5=False, k_7_1=True, k_7_2=True, k_7_3=True, k_7_4=True, k_7_5=True, k_7_6=True, k_7_7=True, k_7_8=True, k_8_1=True, k_8_2=True, k_8_3=True, k_8_4=True, k_8_5=True, k_8_6=True, k_8_7=True, k_8_8=True, k_8_9=False, k_9_1=True, k_9_2=True, k_9_3=True, k_9_4=True, k_9_5=True, k_9_6=True, k_10_1=False, k_10_2=False, k_10_3=False, k_10_4=False, k_10_5=False, k_10_6=False, k_11_1=False, k_11_2=False, k_11_3=False, k_11_4=False, k_11_5=False, k_12_1=False, k_12_2=False, k_12_3=False, k_13_1=False, k_14_1=False, k_14_2=False, k_14_3=False, k_14_4=False, k_14_5=False, k_14_6=False, k_14_7=False, k_14_8=False, k_14_9=False, k_15_1=True, k_15_2=True, k_user='', k_puntuacion=None, k_codigo_flota=3)"
      ]
     },
     "execution_count": 81,
     "metadata": {},
     "output_type": "execute_result"
    }
   ],
   "source": [
    "insp"
   ]
  },
  {
   "cell_type": "code",
   "execution_count": 82,
   "id": "ef1c8ca3-3f37-4809-bc0a-321098e6b295",
   "metadata": {},
   "outputs": [
    {
     "data": {
      "text/plain": [
       "'20e6998807b742b1b439f57c837a25d2'"
      ]
     },
     "execution_count": 82,
     "metadata": {},
     "output_type": "execute_result"
    }
   ],
   "source": [
    "insp.k_amigo_id"
   ]
  },
  {
   "cell_type": "code",
   "execution_count": 83,
   "id": "ba441713-42f9-4e64-863e-ac8773d563d8",
   "metadata": {},
   "outputs": [],
   "source": [
    "# FOTOS DE INSPECCION\n",
    "query_fotos = {'query': 'select amigo_id, id, obs from dataset_315689 where insp_ref_fot = \\'{id}\\''.format(id=insp.k_amigo_id)}\n",
    "project = 'https://app.amigocloud.com/api/v1/projects/32920/sql'\n",
    "fotos = amigocloud.get(project, query_fotos)['data']"
   ]
  },
  {
   "cell_type": "code",
   "execution_count": 84,
   "id": "6a860787-f00f-493a-8159-74e4d65f017f",
   "metadata": {},
   "outputs": [
    {
     "data": {
      "text/plain": [
       "[{'amigo_id': '8e046dea89984cd186456db49b18b3eb',\n",
       "  'id': 4,\n",
       "  'obs': 'Se está empezando a realizar el mantenimiento de está maquina por ende se a dado un plazo de 15 dia para terminar su reparo y manutencion '},\n",
       " {'amigo_id': '09b5ae322144429e97918d344d84c08f', 'id': 5, 'obs': 'Obs 2'},\n",
       " {'amigo_id': 'da013f6d742948f88539277ec62028fe', 'id': 6, 'obs': 'Obs 3'}]"
      ]
     },
     "execution_count": 84,
     "metadata": {},
     "output_type": "execute_result"
    }
   ],
   "source": [
    "fotos"
   ]
  },
  {
   "cell_type": "code",
   "execution_count": 88,
   "id": "c01f672e-fdc2-4411-8150-8ac828fc22ee",
   "metadata": {},
   "outputs": [
    {
     "name": "stdout",
     "output_type": "stream",
     "text": [
      "{'amigo_id': '8e046dea89984cd186456db49b18b3eb', 'id': 4, 'obs': 'Se está empezando a realizar el mantenimiento de está maquina por ende se a dado un plazo de 15 dia para terminar su reparo y manutencion ', 'fotos': [{'foto': <docxtpl.inline_image.InlineImage object at 0x0000016461A80388>}, {'foto': <docxtpl.inline_image.InlineImage object at 0x0000016461A8C148>}, {'foto': <docxtpl.inline_image.InlineImage object at 0x0000016461765448>}]}\n",
      "========================\n",
      "[{'s3_filename': 'IMG_20230328_150113.jpg'}, {'s3_filename': 'IMG_20230328_150133.jpg'}, {'s3_filename': 'IMG_20230328_150142.jpg'}]\n",
      "{'amigo_id': '09b5ae322144429e97918d344d84c08f', 'id': 5, 'obs': 'Obs 2', 'fotos': [{'foto': <docxtpl.inline_image.InlineImage object at 0x0000016461765748>}]}\n",
      "========================\n",
      "[{'s3_filename': '48937_20230329031258762.jpg'}]\n",
      "{'amigo_id': 'da013f6d742948f88539277ec62028fe', 'id': 6, 'obs': 'Obs 3', 'fotos': [{'foto': <docxtpl.inline_image.InlineImage object at 0x00000164617AAE88>}]}\n",
      "========================\n",
      "[{'s3_filename': '48937_20230329031317537.jpg'}]\n"
     ]
    }
   ],
   "source": [
    "fotos_dict = []\n",
    "doc = DocxTemplate(\"templates/01_template_operador.docx\")\n",
    "for i in fotos:\n",
    "    \n",
    "    query_f = {'query': 'select gal.s3_filename from dataset_315689 fot\\\n",
    "                            inner join gallery_48937 gal on fot.amigo_id=gal.source_amigo_id\\\n",
    "                            where fot.amigo_id=\\'{id}\\''.format(id=i['amigo_id'])}\n",
    "    project = 'https://app.amigocloud.com/api/v1/projects/32920/sql'\n",
    "    result = amigocloud.get(project, query_f)['data']\n",
    "    \n",
    "    \n",
    "    lista_fotos_inline = []\n",
    "    for foto in result:\n",
    "        response = requests.get(\"https://www-amigocloud.s3.amazonaws.com/gallery/\" + foto['s3_filename'])\n",
    "        file = open('fotos/' + foto['s3_filename'], \"wb\")\n",
    "        file.write(response.content)\n",
    "        file.close()\n",
    "        lista_fotos_inline.append({'foto': docxtpl.InlineImage(doc, image_descriptor='fotos/' + foto['s3_filename'], width=Mm(50))})\n",
    "    \n",
    "    i['fotos'] = lista_fotos_inline\n",
    "    \n",
    "    \n",
    "    print(i)\n",
    "    print('========================')\n",
    "    print(result)"
   ]
  },
  {
   "cell_type": "code",
   "execution_count": 9,
   "id": "c25dc919-ce71-43f2-9463-3bb335d23e2d",
   "metadata": {},
   "outputs": [],
   "source": [
    "doc = DocxTemplate(\"templates/01_template_operador.docx\")\n",
    "\n",
    "#descargar fotos y generar lista InlineImage\n",
    "\n",
    "lista_fotos_inline = []\n",
    "for foto in fotos:\n",
    "    #response = requests.get(\"https://www-amigocloud.s3.amazonaws.com/gallery/\" + foto['file_name'])\n",
    "    response = requests.get(\"https://www-amigocloud.s3.amazonaws.com/gallery/\" + foto['s3_filename'])\n",
    "    file = open('fotos/' + foto['s3_filename'], \"wb\")\n",
    "    file.write(response.content)\n",
    "    file.close()\n",
    "    lista_fotos_inline.append({'foto': docxtpl.InlineImage(doc, image_descriptor='fotos/' + foto['s3_filename'], width=Mm(50))})\n",
    "\n",
    "context = {'insp':insp, 'fotos':lista_fotos_inline}\n",
    "\n",
    "doc.render(context)\n",
    "\n",
    "# formato de nombre de archivo: \"123_CQ_01-01-2022_NOMBRE\"\n",
    "cod_nom = insp.canhero.split(' / ')\n",
    "file_name = cod_nom[0] + '_EVC_' + insp.fecha_de_registro.replace('/','-') + '_' + cod_nom[1] + '_' + str(insp.id)\n",
    "\n",
    "#doc.save(r'C:\\Users\\UTEA\\OneDrive - Ingenio Azucarero Guabira S.A (2)\\INFORMES\\IMFORMES PARA REVISAR\\\\' + file_name + '.docx')\n",
    "doc.save(r'_' + file_name + '.docx')"
   ]
  },
  {
   "cell_type": "code",
   "execution_count": null,
   "id": "786fdad5-de7a-4dc5-887c-1a704a66865e",
   "metadata": {},
   "outputs": [],
   "source": []
  }
 ],
 "metadata": {
  "kernelspec": {
   "display_name": "Python 3 (ipykernel)",
   "language": "python",
   "name": "python3"
  },
  "language_info": {
   "codemirror_mode": {
    "name": "ipython",
    "version": 3
   },
   "file_extension": ".py",
   "mimetype": "text/x-python",
   "name": "python",
   "nbconvert_exporter": "python",
   "pygments_lexer": "ipython3",
   "version": "3.7.11"
  }
 },
 "nbformat": 4,
 "nbformat_minor": 5
}
