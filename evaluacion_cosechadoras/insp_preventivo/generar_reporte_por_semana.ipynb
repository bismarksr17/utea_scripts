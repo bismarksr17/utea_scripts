{
 "cells": [
  {
   "cell_type": "code",
   "execution_count": 1,
   "id": "16edd055-3434-40bb-846f-f4eb6a4763fa",
   "metadata": {},
   "outputs": [
    {
     "name": "stderr",
     "output_type": "stream",
     "text": [
      "C:\\Users\\Bismar\\.conda\\envs\\utea_reportes\\lib\\importlib\\_bootstrap.py:219: RuntimeWarning: greenlet.greenlet size changed, may indicate binary incompatibility. Expected 144 from C header, got 152 from PyObject\n",
      "  return f(*args, **kwds)\n",
      "C:\\Users\\Bismar\\.conda\\envs\\utea_reportes\\lib\\importlib\\_bootstrap.py:219: RuntimeWarning: greenlet.greenlet size changed, may indicate binary incompatibility. Expected 144 from C header, got 152 from PyObject\n",
      "  return f(*args, **kwds)\n",
      "C:\\Users\\Bismar\\.conda\\envs\\utea_reportes\\lib\\importlib\\_bootstrap.py:219: RuntimeWarning: greenlet.greenlet size changed, may indicate binary incompatibility. Expected 144 from C header, got 152 from PyObject\n",
      "  return f(*args, **kwds)\n",
      "C:\\Users\\Bismar\\.conda\\envs\\utea_reportes\\lib\\importlib\\_bootstrap.py:219: RuntimeWarning: greenlet.greenlet size changed, may indicate binary incompatibility. Expected 144 from C header, got 152 from PyObject\n",
      "  return f(*args, **kwds)\n"
     ]
    }
   ],
   "source": [
    "from werkzeug.wrappers import Request, Response\n",
    "#from flask import Flask, render_template\n",
    "from jinja2 import Template\n",
    "\n",
    "#from datetime import date\n",
    "from datetime import datetime, timedelta\n",
    "\n",
    "import collections\n",
    "from amigocloud import AmigoCloud\n",
    "\n",
    "from datetime import datetime\n",
    "\n",
    "from docxtpl import DocxTemplate\n",
    "import docxtpl\n",
    "from docx.shared import Mm\n",
    "import requests"
   ]
  },
  {
   "cell_type": "code",
   "execution_count": 2,
   "id": "7ef1ba39-1f94-4427-a8da-3ac6e5c6fe10",
   "metadata": {},
   "outputs": [
    {
     "data": {
      "text/plain": [
       "<amigocloud.amigocloud.AmigoCloud at 0x208c46c0a48>"
      ]
     },
     "execution_count": 2,
     "metadata": {},
     "output_type": "execute_result"
    }
   ],
   "source": [
    "acceso = open('../../api_key/api.key','r')\n",
    "api_token = acceso.readlines()[0]\n",
    "acceso.close()\n",
    "\n",
    "amigocloud = AmigoCloud(token=api_token)\n",
    "amigocloud"
   ]
  },
  {
   "cell_type": "code",
   "execution_count": 3,
   "id": "4fab9180-478d-4c86-b8a6-2318cf1af5a6",
   "metadata": {},
   "outputs": [],
   "source": [
    "semana = 13"
   ]
  },
  {
   "cell_type": "code",
   "execution_count": 4,
   "id": "d290b5df-103b-4f47-9dd3-586e4ba80c34",
   "metadata": {},
   "outputs": [],
   "source": [
    "query_semana = {'query': 'select id, canhero from dataset_315614 where date_part(\\'week\\', fecha_de_registro)={sem} order by id'.format(sem=semana)}\n",
    "project = 'https://app.amigocloud.com/api/v1/projects/32920/sql'\n",
    "select_semana = amigocloud.get(project, query_semana)\n",
    "data_semana = select_semana['data']"
   ]
  },
  {
   "cell_type": "code",
   "execution_count": 5,
   "id": "eb956796-ca72-45d8-b051-1810a8c60cbe",
   "metadata": {},
   "outputs": [
    {
     "data": {
      "text/plain": [
       "[{'id': 4, 'canhero': '10697 / PAZ REA JAIME EDUARDO '},\n",
       " {'id': 5, 'canhero': '75 / AGUILERA TARADELLES NELSON MARIANO '},\n",
       " {'id': 6, 'canhero': '75 / AGUILERA TARADELLES NELSON MARIANO '},\n",
       " {'id': 7, 'canhero': '515 / AGUILERA OLGA RIVERO VDA. DE '},\n",
       " {'id': 8, 'canhero': '8009 / ESPINOZA AGUILAR DAVID'},\n",
       " {'id': 9, 'canhero': '8009 / ESPINOZA AGUILAR DAVID'},\n",
       " {'id': 10, 'canhero': '594 / AGROPECUARIA FLAMBOYAN'},\n",
       " {'id': 11, 'canhero': '3400 / ESPINOZA AGUILAR JAIME OMAR '},\n",
       " {'id': 12, 'canhero': '574 / AYALA ESPINOZA ARTURO '},\n",
       " {'id': 13, 'canhero': '765 / AGROP. CATALA S.R.L.'},\n",
       " {'id': 14, 'canhero': '765 / AGROP. CATALA S.R.L.'},\n",
       " {'id': 15, 'canhero': '765 / AGROP. CATALA S.R.L.'},\n",
       " {'id': 16, 'canhero': '765 / AGROP. CATALA S.R.L.'},\n",
       " {'id': 17, 'canhero': '805 / AGROP. TRES HNOS DEL ORIENTE'}]"
      ]
     },
     "execution_count": 5,
     "metadata": {},
     "output_type": "execute_result"
    }
   ],
   "source": [
    "data_semana"
   ]
  },
  {
   "cell_type": "code",
   "execution_count": 8,
   "id": "c8049e93-6830-4297-b9a8-f0f3fbe4db49",
   "metadata": {},
   "outputs": [
    {
     "name": "stdout",
     "output_type": "stream",
     "text": [
      "ID inspeccion:  4\n",
      "10697_ECP_28-03-2023_PAZ REA JAIME EDUARDO _4\n",
      "ID inspeccion:  5\n",
      "75_ECP_28-03-2023_AGUILERA TARADELLES NELSON MARIANO _5\n",
      "ID inspeccion:  6\n",
      "75_ECP_28-03-2023_AGUILERA TARADELLES NELSON MARIANO _6\n",
      "ID inspeccion:  7\n",
      "515_ECP_29-03-2023_AGUILERA OLGA RIVERO VDA. DE _7\n",
      "ID inspeccion:  8\n",
      "8009_ECP_29-03-2023_ESPINOZA AGUILAR DAVID_8\n",
      "ID inspeccion:  9\n",
      "8009_ECP_29-03-2023_ESPINOZA AGUILAR DAVID_9\n",
      "ID inspeccion:  10\n",
      "594_ECP_30-03-2023_AGROPECUARIA FLAMBOYAN_10\n",
      "ID inspeccion:  11\n",
      "3400_ECP_30-03-2023_ESPINOZA AGUILAR JAIME OMAR _11\n",
      "ID inspeccion:  12\n",
      "574_ECP_30-03-2023_AYALA ESPINOZA ARTURO _12\n",
      "ID inspeccion:  13\n",
      "765_ECP_31-03-2023_AGROP. CATALA S.R.L._13\n",
      "ID inspeccion:  14\n",
      "765_ECP_31-03-2023_AGROP. CATALA S.R.L._14\n",
      "ID inspeccion:  15\n",
      "765_ECP_31-03-2023_AGROP. CATALA S.R.L._15\n",
      "ID inspeccion:  16\n",
      "765_ECP_31-03-2023_AGROP. CATALA S.R.L._16\n",
      "ID inspeccion:  17\n",
      "805_ECP_31-03-2023_AGROP. TRES HNOS DEL ORIENTE_17\n",
      "-------------------FIN\n"
     ]
    }
   ],
   "source": [
    "for id in data_semana:\n",
    "    print('ID inspeccion: ', id['id'])\n",
    "    id_insp = id['id']\n",
    "    # DATOS DE LAS INPECCION\n",
    "    query = {'query': 'select * from dataset_315614 where id={id_insp}'.format(id_insp=id_insp)}\n",
    "    project = 'https://app.amigocloud.com/api/v1/projects/32920/sql'\n",
    "    select = amigocloud.get(project, query)\n",
    "    data = select['data'][0]\n",
    "\n",
    "    # convertir fecha a formato dd/mm/aaaa\n",
    "    data['fecha_de_registro'] = datetime.strptime(data['fecha_de_registro'][0:10], '%Y-%m-%d').strftime('%d/%m/%Y')\n",
    "\n",
    "    # los campos booleanos tiene formacto 'num_num', esto no es admitido para convertir a objeto\n",
    "    # se modifica el dict para agregar 'k_' al inicio de todas llaves\n",
    "    data = {'k_'+key : value for (key, value) in data.items()}\n",
    "    insp = collections.namedtuple(\"insp\", data.keys())(*data.values())\n",
    "    \n",
    "    # FOTOS\n",
    "    query_fotos = {'query': 'select gal.s3_filename, fot.obs from dataset_315689 fot\\\n",
    "                                inner join gallery_48937 gal on fot.amigo_id=gal.source_amigo_id\\\n",
    "                                where fot.insp_ref_fot=\\'{id}\\''.format(id=insp.k_amigo_id)}\n",
    "    project = 'https://app.amigocloud.com/api/v1/projects/32920/sql'\n",
    "    fotos = amigocloud.get(project, query_fotos)['data']\n",
    "    \n",
    "    # CREAR REPORTE\n",
    "    doc = DocxTemplate(\"templates/template_insp_cosechadoras_pre.docx\")\n",
    "    #descargar fotos y generar lista InlineImage\n",
    "    lista_fotos_inline = []\n",
    "    for foto in fotos:\n",
    "        response = requests.get(\"https://www-amigocloud.s3.amazonaws.com/gallery/\" + foto['s3_filename'])\n",
    "        file = open('fotos/' + foto['s3_filename'], \"wb\")\n",
    "        file.write(response.content)\n",
    "        file.close()\n",
    "        lista_fotos_inline.append({\n",
    "            'foto': docxtpl.InlineImage(doc, image_descriptor='fotos/' + foto['s3_filename'], width=Mm(50)),\n",
    "            'obs': foto['obs']\n",
    "        })\n",
    "    context = {'insp':insp, 'fotos':lista_fotos_inline}\n",
    "    #context = {'insp':insp}\n",
    "    doc.render(context)\n",
    "    # formato de nombre de archivo: \"123_CQ_01-01-2022_NOMBRE\"\n",
    "    cod_nom = insp.k_canhero.split(' / ')\n",
    "    file_name = cod_nom[0] + '_ECP_' + insp.k_fecha_de_registro.replace('/','-') + '_' + cod_nom[1] + '_' + str(insp.k_id)\n",
    "    #doc.save(r'C:\\Users\\UTEA\\OneDrive - Ingenio Azucarero Guabira S.A (2)\\INFORMES\\IMFORMES PARA REVISAR\\\\' + file_name + '.docx')\n",
    "    doc.save(r'_' + file_name + '.docx')\n",
    "    print(file_name)\n",
    "print('-------------------FIN')"
   ]
  }
 ],
 "metadata": {
  "kernelspec": {
   "display_name": "Python 3 (ipykernel)",
   "language": "python",
   "name": "python3"
  },
  "language_info": {
   "codemirror_mode": {
    "name": "ipython",
    "version": 3
   },
   "file_extension": ".py",
   "mimetype": "text/x-python",
   "name": "python",
   "nbconvert_exporter": "python",
   "pygments_lexer": "ipython3",
   "version": "3.7.16"
  }
 },
 "nbformat": 4,
 "nbformat_minor": 5
}
