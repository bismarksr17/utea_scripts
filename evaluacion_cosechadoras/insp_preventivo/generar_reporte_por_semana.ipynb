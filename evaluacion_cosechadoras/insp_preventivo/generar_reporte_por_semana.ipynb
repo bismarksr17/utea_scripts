{
 "cells": [
  {
   "cell_type": "code",
   "execution_count": 1,
   "id": "16edd055-3434-40bb-846f-f4eb6a4763fa",
   "metadata": {
    "tags": []
   },
   "outputs": [
    {
     "name": "stderr",
     "output_type": "stream",
     "text": [
      "C:\\Users\\UTEA\\anaconda3\\envs\\informes_utea\\lib\\site-packages\\tqdm\\auto.py:21: TqdmWarning: IProgress not found. Please update jupyter and ipywidgets. See https://ipywidgets.readthedocs.io/en/stable/user_install.html\n",
      "  from .autonotebook import tqdm as notebook_tqdm\n"
     ]
    }
   ],
   "source": [
    "from werkzeug.wrappers import Request, Response\n",
    "#from flask import Flask, render_template\n",
    "from jinja2 import Template\n",
    "\n",
    "#from datetime import date\n",
    "from datetime import datetime, timedelta\n",
    "\n",
    "import collections\n",
    "from amigocloud import AmigoCloud\n",
    "\n",
    "from datetime import datetime\n",
    "\n",
    "from docxtpl import DocxTemplate\n",
    "import docxtpl\n",
    "from docx.shared import Mm\n",
    "import requests\n",
    "\n",
    "from docx2pdf import convert\n",
    "import os"
   ]
  },
  {
   "cell_type": "code",
   "execution_count": 11,
   "id": "b66bc422-ff7c-4837-b9d9-2302c183174a",
   "metadata": {
    "tags": []
   },
   "outputs": [],
   "source": [
    "# ruta de carpera donde estan las llaves\n",
    "ruta = open('../../ruta.txt')\n",
    "ruta = ruta.readlines()[0]"
   ]
  },
  {
   "cell_type": "code",
   "execution_count": 4,
   "id": "7ef1ba39-1f94-4427-a8da-3ac6e5c6fe10",
   "metadata": {
    "tags": []
   },
   "outputs": [
    {
     "data": {
      "text/plain": [
       "<amigocloud.amigocloud.AmigoCloud at 0x159f5c8a108>"
      ]
     },
     "execution_count": 4,
     "metadata": {},
     "output_type": "execute_result"
    }
   ],
   "source": [
    "# leer token\n",
    "acceso = open(ruta + '/_keys/api_amigocloud.key','r')\n",
    "api_token = acceso.readlines()[0]\n",
    "acceso.close()\n",
    "amigocloud = AmigoCloud(token=api_token)\n",
    "amigocloud"
   ]
  },
  {
   "cell_type": "code",
   "execution_count": 5,
   "id": "4fab9180-478d-4c86-b8a6-2318cf1af5a6",
   "metadata": {
    "tags": []
   },
   "outputs": [],
   "source": [
    "semana = 14"
   ]
  },
  {
   "cell_type": "code",
   "execution_count": 19,
   "id": "d290b5df-103b-4f47-9dd3-586e4ba80c34",
   "metadata": {
    "tags": []
   },
   "outputs": [],
   "source": [
    "query_semana = {'query': 'select id, canhero from dataset_315614 where date_part(\\'week\\', fecha_de_registro)={sem} order by id'.format(sem=semana)}\n",
    "project = 'https://app.amigocloud.com/api/v1/projects/32920/sql'\n",
    "select_semana = amigocloud.get(project, query_semana)\n",
    "data_semana = select_semana['data']"
   ]
  },
  {
   "cell_type": "code",
   "execution_count": 20,
   "id": "eb956796-ca72-45d8-b051-1810a8c60cbe",
   "metadata": {
    "tags": []
   },
   "outputs": [
    {
     "data": {
      "text/plain": [
       "[{'id': 18, 'canhero': '4171 / FRITZER CUELLAR SAMIR EDUARDO '},\n",
       " {'id': 19, 'canhero': '633 / AGROP. VICENTE ROCA GIL SRL '},\n",
       " {'id': 20, 'canhero': '633 / AGROP. VICENTE ROCA GIL SRL '},\n",
       " {'id': 21, 'canhero': '3421 / ESPINOZA HURTADO ARMANDO'},\n",
       " {'id': 22, 'canhero': '3421 / ESPINOZA HURTADO ARMANDO'},\n",
       " {'id': 23, 'canhero': '86 / AGUILERA TARADELLES JOSE LUIS '},\n",
       " {'id': 24, 'canhero': '86 / AGUILERA TARADELLES JOSE LUIS '},\n",
       " {'id': 25, 'canhero': '3415 / ESPINOZA VILLEGAS GERARDO '},\n",
       " {'id': 26, 'canhero': '3378 / ESCOBAR MORATO VICTOR HUGO'},\n",
       " {'id': 27, 'canhero': '3378 / ESCOBAR MORATO VICTOR HUGO'},\n",
       " {'id': 28, 'canhero': '854 / AGROPECUARIA LOPEZ QUIROZ S.R.L.'}]"
      ]
     },
     "execution_count": 20,
     "metadata": {},
     "output_type": "execute_result"
    }
   ],
   "source": [
    "data_semana"
   ]
  },
  {
   "cell_type": "code",
   "execution_count": 28,
   "id": "c8049e93-6830-4297-b9a8-f0f3fbe4db49",
   "metadata": {
    "tags": []
   },
   "outputs": [
    {
     "name": "stdout",
     "output_type": "stream",
     "text": [
      "ID inspeccion:  18\n",
      "4171_ECP_04-04-2023_FRITZER CUELLAR SAMIR EDUARDO _18\n",
      "ID inspeccion:  19\n",
      "633_ECP_04-04-2023_AGROP. VICENTE ROCA GIL SRL _19\n",
      "ID inspeccion:  20\n",
      "633_ECP_04-04-2023_AGROP. VICENTE ROCA GIL SRL _20\n",
      "ID inspeccion:  21\n",
      "3421_ECP_04-04-2023_ESPINOZA HURTADO ARMANDO_21\n",
      "ID inspeccion:  22\n",
      "3421_ECP_04-04-2023_ESPINOZA HURTADO ARMANDO_22\n",
      "ID inspeccion:  23\n",
      "86_ECP_04-04-2023_AGUILERA TARADELLES JOSE LUIS _23\n",
      "ID inspeccion:  24\n",
      "86_ECP_04-04-2023_AGUILERA TARADELLES JOSE LUIS _24\n",
      "ID inspeccion:  25\n",
      "3415_ECP_05-04-2023_ESPINOZA VILLEGAS GERARDO _25\n",
      "ID inspeccion:  26\n",
      "3378_ECP_06-04-2023_ESCOBAR MORATO VICTOR HUGO_26\n",
      "ID inspeccion:  27\n",
      "3378_ECP_06-04-2023_ESCOBAR MORATO VICTOR HUGO_27\n",
      "ID inspeccion:  28\n",
      "854_ECP_06-04-2023_AGROPECUARIA LOPEZ QUIROZ S.R.L._28\n",
      "-------------------FIN\n"
     ]
    }
   ],
   "source": [
    "for id in data_semana:\n",
    "    print('ID inspeccion: ', id['id'])\n",
    "    id_insp = id['id']\n",
    "    # DATOS DE LAS INPECCION\n",
    "    query = {'query': 'select * from dataset_315614 where id={id_insp}'.format(id_insp=id_insp)}\n",
    "    project = 'https://app.amigocloud.com/api/v1/projects/32920/sql'\n",
    "    select = amigocloud.get(project, query)\n",
    "    data = select['data'][0]\n",
    "\n",
    "    # convertir fecha a formato dd/mm/aaaa\n",
    "    data['fecha_de_registro'] = datetime.strptime(data['fecha_de_registro'][0:10], '%Y-%m-%d').strftime('%d/%m/%Y')\n",
    "\n",
    "    # los campos booleanos tiene formacto 'num_num', esto no es admitido para convertir a objeto\n",
    "    # se modifica el dict para agregar 'k_' al inicio de todas llaves\n",
    "    data = {'k_'+key : value for (key, value) in data.items()}\n",
    "    insp = collections.namedtuple(\"insp\", data.keys())(*data.values())\n",
    "    \n",
    "    # FOTOS\n",
    "    query_fotos = {'query': 'select gal.s3_filename, fot.obs from dataset_315689 fot\\\n",
    "                                inner join gallery_48937 gal on fot.amigo_id=gal.source_amigo_id\\\n",
    "                                where fot.insp_ref_fot=\\'{id}\\''.format(id=insp.k_amigo_id)}\n",
    "    project = 'https://app.amigocloud.com/api/v1/projects/32920/sql'\n",
    "    fotos = amigocloud.get(project, query_fotos)['data']\n",
    "    \n",
    "    # CREAR REPORTE\n",
    "    doc = DocxTemplate(ruta + '/templates/tpl_insp_cosechadoras_preventivo.docx')\n",
    "    #descargar fotos y generar lista InlineImage\n",
    "    lista_fotos_inline = []\n",
    "    for foto in fotos:\n",
    "        response = requests.get(\"https://www-amigocloud.s3.amazonaws.com/gallery/\" + foto['s3_filename'])\n",
    "        file = open(ruta + '/fotos/' + foto['s3_filename'], \"wb\")\n",
    "        file.write(response.content)\n",
    "        file.close()\n",
    "        lista_fotos_inline.append({\n",
    "            'foto': docxtpl.InlineImage(doc, image_descriptor= ruta + '/fotos/' + foto['s3_filename'], width=Mm(50)),\n",
    "            'obs': foto['obs']\n",
    "        })\n",
    "    context = {'insp':insp, 'fotos':lista_fotos_inline}\n",
    "    #context = {'insp':insp}\n",
    "    doc.render(context)\n",
    "    # formato de nombre de archivo: \"123_CQ_01-01-2022_NOMBRE\"\n",
    "    cod_nom = insp.k_canhero.split(' / ')\n",
    "    file_name = cod_nom[0] + '_ECP_' + insp.k_fecha_de_registro.replace('/','-') + '_' + cod_nom[1] + '_' + str(insp.k_id)\n",
    "    #doc.save(r'C:\\Users\\UTEA\\OneDrive - Ingenio Azucarero Guabira S.A (2)\\INFORMES\\IMFORMES PARA REVISAR\\\\' + file_name + '.docx')\n",
    "    doc.save(ruta + r'/informes/_' + file_name + '.docx')\n",
    "    print(file_name)\n",
    "print('-------------------FIN')"
   ]
  },
  {
   "cell_type": "code",
   "execution_count": null,
   "id": "6a17daf4-bb13-46bc-bb01-dc5e9c99ce57",
   "metadata": {},
   "outputs": [],
   "source": []
  },
  {
   "cell_type": "markdown",
   "id": "5d1bc773-bd0b-4cf1-88b4-c7b18fe0b053",
   "metadata": {},
   "source": [
    "## Convertir a PDF"
   ]
  },
  {
   "cell_type": "code",
   "execution_count": 19,
   "id": "3a194c6d-294f-4812-b069-9825caa5feaf",
   "metadata": {
    "tags": []
   },
   "outputs": [
    {
     "name": "stdout",
     "output_type": "stream",
     "text": [
      "SE ENCONTRARON 11 INFORMES\n",
      "11 INFORMES\n"
     ]
    },
    {
     "data": {
      "text/plain": [
       "['D:\\\\OneDrive - Ingenio Azucarero Guabira S.A\\\\_DATOS_PYTHON/informes/3378_ECP_06-04-2023_ESCOBAR MORATO VICTOR HUGO_26.docx',\n",
       " 'D:\\\\OneDrive - Ingenio Azucarero Guabira S.A\\\\_DATOS_PYTHON/informes/3378_ECP_06-04-2023_ESCOBAR MORATO VICTOR HUGO_27.docx',\n",
       " 'D:\\\\OneDrive - Ingenio Azucarero Guabira S.A\\\\_DATOS_PYTHON/informes/3415_ECP_05-04-2023_ESPINOZA VILLEGAS GERARDO _25.docx',\n",
       " 'D:\\\\OneDrive - Ingenio Azucarero Guabira S.A\\\\_DATOS_PYTHON/informes/3421_ECP_04-04-2023_ESPINOZA HURTADO ARMANDO_21.docx',\n",
       " 'D:\\\\OneDrive - Ingenio Azucarero Guabira S.A\\\\_DATOS_PYTHON/informes/3421_ECP_04-04-2023_ESPINOZA HURTADO ARMANDO_22.docx',\n",
       " 'D:\\\\OneDrive - Ingenio Azucarero Guabira S.A\\\\_DATOS_PYTHON/informes/4171_ECP_04-04-2023_FRITZER CUELLAR SAMIR EDUARDO _18.docx',\n",
       " 'D:\\\\OneDrive - Ingenio Azucarero Guabira S.A\\\\_DATOS_PYTHON/informes/633_ECP_04-04-2023_AGROP. VICENTE ROCA GIL SRL _19.docx',\n",
       " 'D:\\\\OneDrive - Ingenio Azucarero Guabira S.A\\\\_DATOS_PYTHON/informes/633_ECP_04-04-2023_AGROP. VICENTE ROCA GIL SRL _20.docx',\n",
       " 'D:\\\\OneDrive - Ingenio Azucarero Guabira S.A\\\\_DATOS_PYTHON/informes/854_ECP_06-04-2023_AGROPECUARIA LOPEZ QUIROZ S.R.L._28.docx',\n",
       " 'D:\\\\OneDrive - Ingenio Azucarero Guabira S.A\\\\_DATOS_PYTHON/informes/86_ECP_04-04-2023_AGUILERA TARADELLES JOSE LUIS _23.docx',\n",
       " 'D:\\\\OneDrive - Ingenio Azucarero Guabira S.A\\\\_DATOS_PYTHON/informes/86_ECP_04-04-2023_AGUILERA TARADELLES JOSE LUIS _24.docx']"
      ]
     },
     "execution_count": 19,
     "metadata": {},
     "output_type": "execute_result"
    }
   ],
   "source": [
    "path = r'' + ruta + '/informes'\n",
    "contenido = os.listdir(path)\n",
    "rutas =[]\n",
    "i = 0\n",
    "for name in contenido:\n",
    "    rutas.append(path + '/' + name)\n",
    "    i+=1\n",
    "\n",
    "print('SE ENCONTRARON ' + str(i) + ' INFORMES')\n",
    "print(len(rutas), 'INFORMES')\n",
    "rutas"
   ]
  },
  {
   "cell_type": "code",
   "execution_count": 25,
   "id": "d2183ffa-4f32-4d4d-b7a1-315f1c32db9c",
   "metadata": {
    "tags": []
   },
   "outputs": [
    {
     "name": "stdout",
     "output_type": "stream",
     "text": [
      "CONVIRTIENDO... INFORME 1 D:\\OneDrive - Ingenio Azucarero Guabira S.A\\_DATOS_PYTHON/informes/3378_ECP_06-04-2023_ESCOBAR MORATO VICTOR HUGO_26.docx\n",
      "D:\\OneDrive - Ingenio Azucarero Guabira S.A\\_DATOS_PYTHON/informes/3378_ECP_06-04-2023_ESCOBAR MORATO VICTOR HUGO_26.docx\n",
      "D:\\OneDrive - Ingenio Azucarero Guabira S.A\\_DATOS_PYTHON/pdfs/3378_ECP_06-04-2023_ESCOBAR MORATO VICTOR HUGO_26.pdf\n"
     ]
    },
    {
     "name": "stderr",
     "output_type": "stream",
     "text": [
      "\n",
      "\n",
      "  0%|                                                                                                                                                                                                                 | 0/1 [00:00<?, ?it/s]\u001b[A\u001b[A\n",
      "\n",
      "100%|█████████████████████████████████████████████████████████████████████████████████████████████████████████████████████████████████████████████████████████████████████████████████████████████████████████| 1/1 [00:03<00:00,  3.22s/it]\u001b[A\u001b[A\n"
     ]
    },
    {
     "name": "stdout",
     "output_type": "stream",
     "text": [
      "CONVIRTIENDO... INFORME 2 D:\\OneDrive - Ingenio Azucarero Guabira S.A\\_DATOS_PYTHON/informes/3378_ECP_06-04-2023_ESCOBAR MORATO VICTOR HUGO_27.docx\n",
      "D:\\OneDrive - Ingenio Azucarero Guabira S.A\\_DATOS_PYTHON/informes/3378_ECP_06-04-2023_ESCOBAR MORATO VICTOR HUGO_27.docx\n",
      "D:\\OneDrive - Ingenio Azucarero Guabira S.A\\_DATOS_PYTHON/pdfs/3378_ECP_06-04-2023_ESCOBAR MORATO VICTOR HUGO_27.pdf\n"
     ]
    },
    {
     "name": "stderr",
     "output_type": "stream",
     "text": [
      "\n",
      "\n",
      "  0%|                                                                                                                                                                                                                 | 0/1 [00:00<?, ?it/s]\u001b[A\u001b[A\n",
      "\n",
      "100%|█████████████████████████████████████████████████████████████████████████████████████████████████████████████████████████████████████████████████████████████████████████████████████████████████████████| 1/1 [00:05<00:00,  5.23s/it]\u001b[A\u001b[A\n"
     ]
    },
    {
     "name": "stdout",
     "output_type": "stream",
     "text": [
      "CONVIRTIENDO... INFORME 3 D:\\OneDrive - Ingenio Azucarero Guabira S.A\\_DATOS_PYTHON/informes/3415_ECP_05-04-2023_ESPINOZA VILLEGAS GERARDO _25.docx\n",
      "D:\\OneDrive - Ingenio Azucarero Guabira S.A\\_DATOS_PYTHON/informes/3415_ECP_05-04-2023_ESPINOZA VILLEGAS GERARDO _25.docx\n",
      "D:\\OneDrive - Ingenio Azucarero Guabira S.A\\_DATOS_PYTHON/pdfs/3415_ECP_05-04-2023_ESPINOZA VILLEGAS GERARDO _25.pdf\n"
     ]
    },
    {
     "name": "stderr",
     "output_type": "stream",
     "text": [
      "\n",
      "\n",
      "  0%|                                                                                                                                                                                                                 | 0/1 [00:00<?, ?it/s]\u001b[A\u001b[A\n",
      "\n",
      "100%|█████████████████████████████████████████████████████████████████████████████████████████████████████████████████████████████████████████████████████████████████████████████████████████████████████████| 1/1 [00:03<00:00,  3.54s/it]\u001b[A\u001b[A\n"
     ]
    },
    {
     "name": "stdout",
     "output_type": "stream",
     "text": [
      "CONVIRTIENDO... INFORME 4 D:\\OneDrive - Ingenio Azucarero Guabira S.A\\_DATOS_PYTHON/informes/3421_ECP_04-04-2023_ESPINOZA HURTADO ARMANDO_21.docx\n",
      "D:\\OneDrive - Ingenio Azucarero Guabira S.A\\_DATOS_PYTHON/informes/3421_ECP_04-04-2023_ESPINOZA HURTADO ARMANDO_21.docx\n",
      "D:\\OneDrive - Ingenio Azucarero Guabira S.A\\_DATOS_PYTHON/pdfs/3421_ECP_04-04-2023_ESPINOZA HURTADO ARMANDO_21.pdf\n"
     ]
    },
    {
     "name": "stderr",
     "output_type": "stream",
     "text": [
      "\n",
      "\n",
      "  0%|                                                                                                                                                                                                                 | 0/1 [00:00<?, ?it/s]\u001b[A\u001b[A\n",
      "\n",
      "100%|█████████████████████████████████████████████████████████████████████████████████████████████████████████████████████████████████████████████████████████████████████████████████████████████████████████| 1/1 [00:05<00:00,  5.04s/it]\u001b[A\u001b[A\n"
     ]
    },
    {
     "name": "stdout",
     "output_type": "stream",
     "text": [
      "CONVIRTIENDO... INFORME 5 D:\\OneDrive - Ingenio Azucarero Guabira S.A\\_DATOS_PYTHON/informes/3421_ECP_04-04-2023_ESPINOZA HURTADO ARMANDO_22.docx\n",
      "D:\\OneDrive - Ingenio Azucarero Guabira S.A\\_DATOS_PYTHON/informes/3421_ECP_04-04-2023_ESPINOZA HURTADO ARMANDO_22.docx\n",
      "D:\\OneDrive - Ingenio Azucarero Guabira S.A\\_DATOS_PYTHON/pdfs/3421_ECP_04-04-2023_ESPINOZA HURTADO ARMANDO_22.pdf\n"
     ]
    },
    {
     "name": "stderr",
     "output_type": "stream",
     "text": [
      "\n",
      "\n",
      "  0%|                                                                                                                                                                                                                 | 0/1 [00:00<?, ?it/s]\u001b[A\u001b[A\n",
      "\n",
      "100%|█████████████████████████████████████████████████████████████████████████████████████████████████████████████████████████████████████████████████████████████████████████████████████████████████████████| 1/1 [00:11<00:00, 11.28s/it]\u001b[A\u001b[A\n"
     ]
    },
    {
     "name": "stdout",
     "output_type": "stream",
     "text": [
      "CONVIRTIENDO... INFORME 6 D:\\OneDrive - Ingenio Azucarero Guabira S.A\\_DATOS_PYTHON/informes/4171_ECP_04-04-2023_FRITZER CUELLAR SAMIR EDUARDO _18.docx\n",
      "D:\\OneDrive - Ingenio Azucarero Guabira S.A\\_DATOS_PYTHON/informes/4171_ECP_04-04-2023_FRITZER CUELLAR SAMIR EDUARDO _18.docx\n",
      "D:\\OneDrive - Ingenio Azucarero Guabira S.A\\_DATOS_PYTHON/pdfs/4171_ECP_04-04-2023_FRITZER CUELLAR SAMIR EDUARDO _18.pdf\n"
     ]
    },
    {
     "name": "stderr",
     "output_type": "stream",
     "text": [
      "\n",
      "\n",
      "  0%|                                                                                                                                                                                                                 | 0/1 [00:00<?, ?it/s]\u001b[A\u001b[A\n",
      "\n",
      "100%|█████████████████████████████████████████████████████████████████████████████████████████████████████████████████████████████████████████████████████████████████████████████████████████████████████████| 1/1 [00:05<00:00,  5.19s/it]\u001b[A\u001b[A\n"
     ]
    },
    {
     "name": "stdout",
     "output_type": "stream",
     "text": [
      "CONVIRTIENDO... INFORME 7 D:\\OneDrive - Ingenio Azucarero Guabira S.A\\_DATOS_PYTHON/informes/633_ECP_04-04-2023_AGROP. VICENTE ROCA GIL SRL _19.docx\n",
      "D:\\OneDrive - Ingenio Azucarero Guabira S.A\\_DATOS_PYTHON/informes/633_ECP_04-04-2023_AGROP. VICENTE ROCA GIL SRL _19.docx\n",
      "D:\\OneDrive - Ingenio Azucarero Guabira S.A\\_DATOS_PYTHON/pdfs/633_ECP_04-04-2023_AGROP. VICENTE ROCA GIL SRL _19.pdf\n"
     ]
    },
    {
     "name": "stderr",
     "output_type": "stream",
     "text": [
      "\n",
      "\n",
      "  0%|                                                                                                                                                                                                                 | 0/1 [00:00<?, ?it/s]\u001b[A\u001b[A\n",
      "\n",
      "100%|█████████████████████████████████████████████████████████████████████████████████████████████████████████████████████████████████████████████████████████████████████████████████████████████████████████| 1/1 [00:03<00:00,  3.59s/it]\u001b[A\u001b[A\n"
     ]
    },
    {
     "name": "stdout",
     "output_type": "stream",
     "text": [
      "CONVIRTIENDO... INFORME 8 D:\\OneDrive - Ingenio Azucarero Guabira S.A\\_DATOS_PYTHON/informes/633_ECP_04-04-2023_AGROP. VICENTE ROCA GIL SRL _20.docx\n",
      "D:\\OneDrive - Ingenio Azucarero Guabira S.A\\_DATOS_PYTHON/informes/633_ECP_04-04-2023_AGROP. VICENTE ROCA GIL SRL _20.docx\n",
      "D:\\OneDrive - Ingenio Azucarero Guabira S.A\\_DATOS_PYTHON/pdfs/633_ECP_04-04-2023_AGROP. VICENTE ROCA GIL SRL _20.pdf\n"
     ]
    },
    {
     "name": "stderr",
     "output_type": "stream",
     "text": [
      "\n",
      "\n",
      "  0%|                                                                                                                                                                                                                 | 0/1 [00:00<?, ?it/s]\u001b[A\u001b[A\n",
      "\n",
      "100%|█████████████████████████████████████████████████████████████████████████████████████████████████████████████████████████████████████████████████████████████████████████████████████████████████████████| 1/1 [00:05<00:00,  5.27s/it]\u001b[A\u001b[A\n"
     ]
    },
    {
     "name": "stdout",
     "output_type": "stream",
     "text": [
      "CONVIRTIENDO... INFORME 9 D:\\OneDrive - Ingenio Azucarero Guabira S.A\\_DATOS_PYTHON/informes/854_ECP_06-04-2023_AGROPECUARIA LOPEZ QUIROZ S.R.L._28.docx\n",
      "D:\\OneDrive - Ingenio Azucarero Guabira S.A\\_DATOS_PYTHON/informes/854_ECP_06-04-2023_AGROPECUARIA LOPEZ QUIROZ S.R.L._28.docx\n",
      "D:\\OneDrive - Ingenio Azucarero Guabira S.A\\_DATOS_PYTHON/pdfs/854_ECP_06-04-2023_AGROPECUARIA LOPEZ QUIROZ S.R.L._28.pdf\n"
     ]
    },
    {
     "name": "stderr",
     "output_type": "stream",
     "text": [
      "\n",
      "\n",
      "  0%|                                                                                                                                                                                                                 | 0/1 [00:00<?, ?it/s]\u001b[A\u001b[A\n",
      "\n",
      "100%|█████████████████████████████████████████████████████████████████████████████████████████████████████████████████████████████████████████████████████████████████████████████████████████████████████████| 1/1 [00:04<00:00,  4.35s/it]\u001b[A\u001b[A\n"
     ]
    },
    {
     "name": "stdout",
     "output_type": "stream",
     "text": [
      "CONVIRTIENDO... INFORME 10 D:\\OneDrive - Ingenio Azucarero Guabira S.A\\_DATOS_PYTHON/informes/86_ECP_04-04-2023_AGUILERA TARADELLES JOSE LUIS _23.docx\n",
      "D:\\OneDrive - Ingenio Azucarero Guabira S.A\\_DATOS_PYTHON/informes/86_ECP_04-04-2023_AGUILERA TARADELLES JOSE LUIS _23.docx\n",
      "D:\\OneDrive - Ingenio Azucarero Guabira S.A\\_DATOS_PYTHON/pdfs/86_ECP_04-04-2023_AGUILERA TARADELLES JOSE LUIS _23.pdf\n"
     ]
    },
    {
     "name": "stderr",
     "output_type": "stream",
     "text": [
      "\n",
      "\n",
      "  0%|                                                                                                                                                                                                                 | 0/1 [00:00<?, ?it/s]\u001b[A\u001b[A\n",
      "\n",
      "100%|█████████████████████████████████████████████████████████████████████████████████████████████████████████████████████████████████████████████████████████████████████████████████████████████████████████| 1/1 [00:03<00:00,  3.38s/it]\u001b[A\u001b[A\n"
     ]
    },
    {
     "name": "stdout",
     "output_type": "stream",
     "text": [
      "CONVIRTIENDO... INFORME 11 D:\\OneDrive - Ingenio Azucarero Guabira S.A\\_DATOS_PYTHON/informes/86_ECP_04-04-2023_AGUILERA TARADELLES JOSE LUIS _24.docx\n",
      "D:\\OneDrive - Ingenio Azucarero Guabira S.A\\_DATOS_PYTHON/informes/86_ECP_04-04-2023_AGUILERA TARADELLES JOSE LUIS _24.docx\n",
      "D:\\OneDrive - Ingenio Azucarero Guabira S.A\\_DATOS_PYTHON/pdfs/86_ECP_04-04-2023_AGUILERA TARADELLES JOSE LUIS _24.pdf\n"
     ]
    },
    {
     "name": "stderr",
     "output_type": "stream",
     "text": [
      "\n",
      "\n",
      "  0%|                                                                                                                                                                                                                 | 0/1 [00:00<?, ?it/s]\u001b[A\u001b[A\n",
      "\n",
      "100%|█████████████████████████████████████████████████████████████████████████████████████████████████████████████████████████████████████████████████████████████████████████████████████████████████████████| 1/1 [00:03<00:00,  3.56s/it]\u001b[A\u001b[A"
     ]
    },
    {
     "name": "stdout",
     "output_type": "stream",
     "text": [
      "END\n"
     ]
    },
    {
     "name": "stderr",
     "output_type": "stream",
     "text": [
      "\n"
     ]
    }
   ],
   "source": [
    "i = 1\n",
    "for filename in rutas:\n",
    "    print('CONVIRTIENDO... INFORME ' + str(i) + ' ' + filename)\n",
    "    # se realiza la convrsion pasando parametro de salida y entrada, \n",
    "    # para la salida se reemplaza la extencion y la ruta\n",
    "    print(filename)\n",
    "    print(filename.replace('.docx','.pdf').replace('informes','pdfs'))\n",
    "    pdf = filename.replace('.docx','.pdf').replace('informes','pdfs').split('/')[-1]\n",
    "    convert(filename, r'C:\\Users\\UTEA\\Downloads\\\\' + pdf)\n",
    "    i+=1\n",
    "print('END')"
   ]
  },
  {
   "cell_type": "code",
   "execution_count": null,
   "id": "ba7b6689-c073-408f-9a2c-227bbbae700c",
   "metadata": {},
   "outputs": [],
   "source": []
  },
  {
   "cell_type": "code",
   "execution_count": null,
   "id": "cda11afb-9dac-40fe-a33d-50d7db78438f",
   "metadata": {},
   "outputs": [],
   "source": []
  },
  {
   "cell_type": "code",
   "execution_count": null,
   "id": "fba39689-2572-4cb5-9d6c-37eb57d93c1e",
   "metadata": {},
   "outputs": [],
   "source": []
  },
  {
   "cell_type": "code",
   "execution_count": null,
   "id": "bb3df96d-aeac-44cc-bb74-a0fe59109a0b",
   "metadata": {},
   "outputs": [],
   "source": []
  },
  {
   "cell_type": "code",
   "execution_count": null,
   "id": "351bcc29-3a83-4785-8b79-29d35efefbba",
   "metadata": {},
   "outputs": [],
   "source": []
  },
  {
   "cell_type": "code",
   "execution_count": null,
   "id": "e2421c3d-1224-4ab5-b0a4-1c8f5a45d7e6",
   "metadata": {},
   "outputs": [],
   "source": []
  }
 ],
 "metadata": {
  "kernelspec": {
   "display_name": "Python 3 (ipykernel)",
   "language": "python",
   "name": "python3"
  },
  "language_info": {
   "codemirror_mode": {
    "name": "ipython",
    "version": 3
   },
   "file_extension": ".py",
   "mimetype": "text/x-python",
   "name": "python",
   "nbconvert_exporter": "python",
   "pygments_lexer": "ipython3",
   "version": "3.7.16"
  }
 },
 "nbformat": 4,
 "nbformat_minor": 5
}
