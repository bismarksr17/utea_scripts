{
 "cells": [
  {
   "cell_type": "code",
   "execution_count": 1,
   "id": "16edd055-3434-40bb-846f-f4eb6a4763fa",
   "metadata": {
    "tags": []
   },
   "outputs": [],
   "source": [
    "from werkzeug.wrappers import Request, Response\n",
    "#from flask import Flask, render_template\n",
    "from jinja2 import Template\n",
    "\n",
    "#from datetime import date\n",
    "from datetime import datetime, timedelta\n",
    "\n",
    "import collections\n",
    "from amigocloud import AmigoCloud\n",
    "\n",
    "from datetime import datetime\n",
    "\n",
    "from docxtpl import DocxTemplate\n",
    "import docxtpl\n",
    "from docx.shared import Mm\n",
    "import requests\n",
    "\n",
    "from docx2pdf import convert\n",
    "import os"
   ]
  },
  {
   "cell_type": "code",
   "execution_count": 2,
   "id": "b66bc422-ff7c-4837-b9d9-2302c183174a",
   "metadata": {
    "tags": []
   },
   "outputs": [],
   "source": [
    "# ruta de carpera donde estan las llaves\n",
    "ruta = open('../../ruta.txt')\n",
    "ruta = ruta.readlines()[0]"
   ]
  },
  {
   "cell_type": "code",
   "execution_count": 3,
   "id": "7ef1ba39-1f94-4427-a8da-3ac6e5c6fe10",
   "metadata": {
    "tags": []
   },
   "outputs": [
    {
     "name": "stderr",
     "output_type": "stream",
     "text": [
      "WARNING:socketIO-client:app.amigocloud.com:443/v2_socket.io/socket.io [connection error] recv disconnected by SSL ([SSL: SSLV3_ALERT_BAD_RECORD_MAC] sslv3 alert bad record mac (_ssl.c:2570))\n",
      "WARNING:socketIO-client:app.amigocloud.com:443/v2_socket.io/socket.io [connection error] recv disconnected ([WinError 10035] A non-blocking socket operation could not be completed immediately)\n"
     ]
    },
    {
     "data": {
      "text/plain": [
       "<amigocloud.amigocloud.AmigoCloud at 0x1eab0808fc8>"
      ]
     },
     "execution_count": 3,
     "metadata": {},
     "output_type": "execute_result"
    }
   ],
   "source": [
    "# leer token\n",
    "acceso = open(ruta + '/_keys/api_amigocloud.key','r')\n",
    "api_token = acceso.readlines()[0]\n",
    "acceso.close()\n",
    "amigocloud = AmigoCloud(token=api_token)\n",
    "amigocloud"
   ]
  },
  {
   "cell_type": "code",
   "execution_count": 34,
   "id": "4fab9180-478d-4c86-b8a6-2318cf1af5a6",
   "metadata": {
    "tags": []
   },
   "outputs": [],
   "source": [
    "fecha = '2023-04-26'"
   ]
  },
  {
   "cell_type": "code",
   "execution_count": 35,
   "id": "d290b5df-103b-4f47-9dd3-586e4ba80c34",
   "metadata": {
    "tags": []
   },
   "outputs": [],
   "source": [
    "query_semana = {'query': 'select id, canhero from dataset_315614 where date(fecha_de_registro) = \\'{fech}\\' order by id'.format(fech=fecha)}\n",
    "project = 'https://app.amigocloud.com/api/v1/projects/32920/sql'\n",
    "select_semana = amigocloud.get(project, query_semana)\n",
    "data_semana = select_semana['data']"
   ]
  },
  {
   "cell_type": "code",
   "execution_count": 38,
   "id": "eb956796-ca72-45d8-b051-1810a8c60cbe",
   "metadata": {
    "tags": []
   },
   "outputs": [
    {
     "data": {
      "text/plain": [
       "[{'id': 68, 'canhero': '3415 / ESPINOZA VILLEGAS GERARDO '},\n",
       " {'id': 69, 'canhero': '2446 / CORDOVA SEJAS ALCIDES '},\n",
       " {'id': 70, 'canhero': '15001 / VARGAS PINTO RENNY EDWIN'},\n",
       " {'id': 71, 'canhero': '15001 / VARGAS PINTO RENNY EDWIN'}]"
      ]
     },
     "execution_count": 38,
     "metadata": {},
     "output_type": "execute_result"
    }
   ],
   "source": [
    "data_semana"
   ]
  },
  {
   "cell_type": "code",
   "execution_count": 31,
   "id": "c8049e93-6830-4297-b9a8-f0f3fbe4db49",
   "metadata": {
    "tags": []
   },
   "outputs": [
    {
     "name": "stdout",
     "output_type": "stream",
     "text": [
      "ID inspeccion:  65\n",
      "10697_ECP_25-04-2023_PAZ REA JAIME EDUARDO _65\n",
      "ID inspeccion:  66\n",
      "3378_ECP_25-04-2023_ESCOBAR MORATO VICTOR HUGO_66\n",
      "ID inspeccion:  67\n",
      "86_ECP_25-04-2023_AGUILERA TARADELLES JOSE LUIS _67\n",
      "-------------------FIN\n"
     ]
    }
   ],
   "source": [
    "for id in data_semana:\n",
    "    print('ID inspeccion: ', id['id'])\n",
    "    id_insp = id['id']\n",
    "    # DATOS DE LAS INPECCION\n",
    "    query = {'query': 'select * from dataset_315614 where id={id_insp}'.format(id_insp=id_insp)}\n",
    "    project = 'https://app.amigocloud.com/api/v1/projects/32920/sql'\n",
    "    select = amigocloud.get(project, query)\n",
    "    data = select['data'][0]\n",
    "\n",
    "    # convertir fecha a formato dd/mm/aaaa\n",
    "    data['fecha_de_registro'] = datetime.strptime(data['fecha_de_registro'][0:10], '%Y-%m-%d').strftime('%d/%m/%Y')\n",
    "\n",
    "    # los campos booleanos tiene formacto 'num_num', esto no es admitido para convertir a objeto\n",
    "    # se modifica el dict para agregar 'k_' al inicio de todas llaves\n",
    "    data = {'k_'+key : value for (key, value) in data.items()}\n",
    "    insp = collections.namedtuple(\"insp\", data.keys())(*data.values())\n",
    "    \n",
    "    # FOTOS\n",
    "    query_fotos = {'query': 'select gal.s3_filename, fot.obs from dataset_315689 fot\\\n",
    "                                inner join gallery_48937 gal on fot.amigo_id=gal.source_amigo_id\\\n",
    "                                where fot.insp_ref_fot=\\'{id}\\''.format(id=insp.k_amigo_id)}\n",
    "    project = 'https://app.amigocloud.com/api/v1/projects/32920/sql'\n",
    "    fotos = amigocloud.get(project, query_fotos)['data']\n",
    "    \n",
    "    # CREAR REPORTE\n",
    "    doc = DocxTemplate(ruta + '/templates/tpl_insp_cosechadoras_preventivo.docx')\n",
    "    #descargar fotos y generar lista InlineImage\n",
    "    lista_fotos_inline = []\n",
    "    for foto in fotos:\n",
    "        response = requests.get(\"https://www-amigocloud.s3.amazonaws.com/gallery/\" + foto['s3_filename'])\n",
    "        file = open(ruta + '/fotos/' + foto['s3_filename'], \"wb\")\n",
    "        file.write(response.content)\n",
    "        file.close()\n",
    "        lista_fotos_inline.append({\n",
    "            'foto': docxtpl.InlineImage(doc, image_descriptor= ruta + '/fotos/' + foto['s3_filename'], width=Mm(50)),\n",
    "            'obs': foto['obs']\n",
    "        })\n",
    "    context = {'insp':insp, 'fotos':lista_fotos_inline}\n",
    "    #context = {'insp':insp}\n",
    "    doc.render(context)\n",
    "    # formato de nombre de archivo: \"123_CQ_01-01-2022_NOMBRE\"\n",
    "    cod_nom = insp.k_canhero.split(' / ')\n",
    "    file_name = cod_nom[0] + '_ECP_' + insp.k_fecha_de_registro.replace('/','-') + '_' + cod_nom[1] + '_' + str(insp.k_id)\n",
    "    #doc.save(r'C:\\Users\\UTEA\\OneDrive - Ingenio Azucarero Guabira S.A (2)\\INFORMES\\IMFORMES PARA REVISAR\\\\' + file_name + '.docx')\n",
    "    doc.save(ruta + r'/informes/_' + file_name + '.docx')\n",
    "    print(file_name)\n",
    "print('-------------------FIN')"
   ]
  },
  {
   "cell_type": "code",
   "execution_count": null,
   "id": "6a17daf4-bb13-46bc-bb01-dc5e9c99ce57",
   "metadata": {},
   "outputs": [],
   "source": []
  },
  {
   "cell_type": "markdown",
   "id": "5d1bc773-bd0b-4cf1-88b4-c7b18fe0b053",
   "metadata": {},
   "source": [
    "## Convertir a PDF"
   ]
  },
  {
   "cell_type": "code",
   "execution_count": 32,
   "id": "3a194c6d-294f-4812-b069-9825caa5feaf",
   "metadata": {
    "tags": []
   },
   "outputs": [
    {
     "name": "stdout",
     "output_type": "stream",
     "text": [
      "SE ENCONTRARON 3 INFORMES\n",
      "3 INFORMES\n"
     ]
    },
    {
     "data": {
      "text/plain": [
       "['D:\\\\OneDrive - Ingenio Azucarero Guabira S.A\\\\_DATOS_PYTHON/informes/10697_ECP_25-04-2023_PAZ REA JAIME EDUARDO _65.docx',\n",
       " 'D:\\\\OneDrive - Ingenio Azucarero Guabira S.A\\\\_DATOS_PYTHON/informes/3378_ECP_25-04-2023_ESCOBAR MORATO VICTOR HUGO_66.docx',\n",
       " 'D:\\\\OneDrive - Ingenio Azucarero Guabira S.A\\\\_DATOS_PYTHON/informes/86_ECP_25-04-2023_AGUILERA TARADELLES JOSE LUIS _67.docx']"
      ]
     },
     "execution_count": 32,
     "metadata": {},
     "output_type": "execute_result"
    }
   ],
   "source": [
    "path = r'' + ruta + '/informes'\n",
    "contenido = os.listdir(path)\n",
    "rutas =[]\n",
    "i = 0\n",
    "for name in contenido:\n",
    "    rutas.append(path + '/' + name)\n",
    "    i+=1\n",
    "\n",
    "print('SE ENCONTRARON ' + str(i) + ' INFORMES')\n",
    "print(len(rutas), 'INFORMES')\n",
    "rutas"
   ]
  },
  {
   "cell_type": "code",
   "execution_count": 33,
   "id": "d2183ffa-4f32-4d4d-b7a1-315f1c32db9c",
   "metadata": {
    "tags": []
   },
   "outputs": [
    {
     "name": "stdout",
     "output_type": "stream",
     "text": [
      "CONVIRTIENDO... INFORME 1 D:\\OneDrive - Ingenio Azucarero Guabira S.A\\_DATOS_PYTHON/informes/10697_ECP_25-04-2023_PAZ REA JAIME EDUARDO _65.docx\n",
      "D:\\OneDrive - Ingenio Azucarero Guabira S.A\\_DATOS_PYTHON/informes/10697_ECP_25-04-2023_PAZ REA JAIME EDUARDO _65.docx\n",
      "D:\\OneDrive - Ingenio Azucarero Guabira S.A\\_DATOS_PYTHON/pdfs/10697_ECP_25-04-2023_PAZ REA JAIME EDUARDO _65.pdf\n"
     ]
    },
    {
     "data": {
      "application/vnd.jupyter.widget-view+json": {
       "model_id": "21a6a89b77b7406097f4e6870c46b5f7",
       "version_major": 2,
       "version_minor": 0
      },
      "text/plain": [
       "  0%|          | 0/1 [00:00<?, ?it/s]"
      ]
     },
     "metadata": {},
     "output_type": "display_data"
    },
    {
     "name": "stdout",
     "output_type": "stream",
     "text": [
      "CONVIRTIENDO... INFORME 2 D:\\OneDrive - Ingenio Azucarero Guabira S.A\\_DATOS_PYTHON/informes/3378_ECP_25-04-2023_ESCOBAR MORATO VICTOR HUGO_66.docx\n",
      "D:\\OneDrive - Ingenio Azucarero Guabira S.A\\_DATOS_PYTHON/informes/3378_ECP_25-04-2023_ESCOBAR MORATO VICTOR HUGO_66.docx\n",
      "D:\\OneDrive - Ingenio Azucarero Guabira S.A\\_DATOS_PYTHON/pdfs/3378_ECP_25-04-2023_ESCOBAR MORATO VICTOR HUGO_66.pdf\n"
     ]
    },
    {
     "data": {
      "application/vnd.jupyter.widget-view+json": {
       "model_id": "898129c883c841fab4f9df681720a066",
       "version_major": 2,
       "version_minor": 0
      },
      "text/plain": [
       "  0%|          | 0/1 [00:00<?, ?it/s]"
      ]
     },
     "metadata": {},
     "output_type": "display_data"
    },
    {
     "name": "stdout",
     "output_type": "stream",
     "text": [
      "CONVIRTIENDO... INFORME 3 D:\\OneDrive - Ingenio Azucarero Guabira S.A\\_DATOS_PYTHON/informes/86_ECP_25-04-2023_AGUILERA TARADELLES JOSE LUIS _67.docx\n",
      "D:\\OneDrive - Ingenio Azucarero Guabira S.A\\_DATOS_PYTHON/informes/86_ECP_25-04-2023_AGUILERA TARADELLES JOSE LUIS _67.docx\n",
      "D:\\OneDrive - Ingenio Azucarero Guabira S.A\\_DATOS_PYTHON/pdfs/86_ECP_25-04-2023_AGUILERA TARADELLES JOSE LUIS _67.pdf\n"
     ]
    },
    {
     "data": {
      "application/vnd.jupyter.widget-view+json": {
       "model_id": "b5b0d1c0495b4d1a9c6f2bd23eaa1410",
       "version_major": 2,
       "version_minor": 0
      },
      "text/plain": [
       "  0%|          | 0/1 [00:00<?, ?it/s]"
      ]
     },
     "metadata": {},
     "output_type": "display_data"
    },
    {
     "name": "stdout",
     "output_type": "stream",
     "text": [
      "END\n"
     ]
    }
   ],
   "source": [
    "i = 1\n",
    "for filename in rutas:\n",
    "    print('CONVIRTIENDO... INFORME ' + str(i) + ' ' + filename)\n",
    "    # se realiza la convrsion pasando parametro de salida y entrada, \n",
    "    # para la salida se reemplaza la extencion y la ruta\n",
    "    print(filename)\n",
    "    print(filename.replace('.docx','.pdf').replace('informes','pdfs'))\n",
    "    pdf = filename.replace('.docx','.pdf').replace('informes','pdfs').split('/')[-1]\n",
    "    convert(filename, r'C:\\Users\\UTEA\\Downloads\\\\' + pdf)\n",
    "    i+=1\n",
    "print('END')"
   ]
  },
  {
   "cell_type": "code",
   "execution_count": null,
   "id": "ba7b6689-c073-408f-9a2c-227bbbae700c",
   "metadata": {},
   "outputs": [],
   "source": []
  },
  {
   "cell_type": "code",
   "execution_count": null,
   "id": "cda11afb-9dac-40fe-a33d-50d7db78438f",
   "metadata": {},
   "outputs": [],
   "source": []
  },
  {
   "cell_type": "code",
   "execution_count": null,
   "id": "fba39689-2572-4cb5-9d6c-37eb57d93c1e",
   "metadata": {},
   "outputs": [],
   "source": []
  },
  {
   "cell_type": "code",
   "execution_count": null,
   "id": "bb3df96d-aeac-44cc-bb74-a0fe59109a0b",
   "metadata": {},
   "outputs": [],
   "source": []
  },
  {
   "cell_type": "code",
   "execution_count": null,
   "id": "351bcc29-3a83-4785-8b79-29d35efefbba",
   "metadata": {},
   "outputs": [],
   "source": []
  },
  {
   "cell_type": "code",
   "execution_count": null,
   "id": "e2421c3d-1224-4ab5-b0a4-1c8f5a45d7e6",
   "metadata": {},
   "outputs": [],
   "source": []
  }
 ],
 "metadata": {
  "kernelspec": {
   "display_name": "Python 3 (ipykernel)",
   "language": "python",
   "name": "python3"
  },
  "language_info": {
   "codemirror_mode": {
    "name": "ipython",
    "version": 3
   },
   "file_extension": ".py",
   "mimetype": "text/x-python",
   "name": "python",
   "nbconvert_exporter": "python",
   "pygments_lexer": "ipython3",
   "version": "3.7.16"
  }
 },
 "nbformat": 4,
 "nbformat_minor": 5
}
