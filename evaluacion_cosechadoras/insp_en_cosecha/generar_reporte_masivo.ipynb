{
 "cells": [
  {
   "cell_type": "code",
   "execution_count": 29,
   "id": "a534b6d8-ec90-4de3-ba03-48cfc7036ee6",
   "metadata": {},
   "outputs": [],
   "source": [
    "from werkzeug.wrappers import Request, Response\n",
    "#from flask import Flask, render_template\n",
    "from jinja2 import Template\n",
    "\n",
    "#from datetime import date\n",
    "from datetime import datetime, timedelta\n",
    "\n",
    "import collections\n",
    "from amigocloud import AmigoCloud\n",
    "\n",
    "## REPORTE\n",
    "from docxtpl import DocxTemplate\n",
    "import docxtpl\n",
    "from docx.shared import Mm\n",
    "import requests\n",
    "\n",
    "from docx2pdf import convert\n",
    "import os"
   ]
  },
  {
   "cell_type": "code",
   "execution_count": 30,
   "id": "b9f3d653-0684-4f3b-a2b9-2c8b8db76f79",
   "metadata": {},
   "outputs": [],
   "source": [
    "# ruta de carpera donde estan las llaves\n",
    "ruta = open('../../ruta.txt')\n",
    "ruta = ruta.readlines()[0]"
   ]
  },
  {
   "cell_type": "code",
   "execution_count": 32,
   "id": "b31339f2-d78f-48e3-b653-1e202be82ec1",
   "metadata": {},
   "outputs": [
    {
     "name": "stderr",
     "output_type": "stream",
     "text": [
      "WARNING:socketIO-client:app.amigocloud.com:443/v2_socket.io/socket.io [connection error] recv disconnected by SSL ([SSL: SSLV3_ALERT_BAD_RECORD_MAC] sslv3 alert bad record mac (_ssl.c:2570))\n",
      "WARNING:socketIO-client:app.amigocloud.com:443/v2_socket.io/socket.io [connection error] recv disconnected ([WinError 10035] A non-blocking socket operation could not be completed immediately)\n"
     ]
    },
    {
     "data": {
      "text/plain": [
       "<amigocloud.amigocloud.AmigoCloud at 0x1ca56c18f88>"
      ]
     },
     "execution_count": 32,
     "metadata": {},
     "output_type": "execute_result"
    }
   ],
   "source": [
    "# leer token\n",
    "acceso = open(ruta + '/_keys/api_amigocloud.key','r')\n",
    "api_token = acceso.readlines()[0]\n",
    "acceso.close()\n",
    "amigocloud = AmigoCloud(token=api_token)\n",
    "amigocloud"
   ]
  },
  {
   "cell_type": "code",
   "execution_count": 33,
   "id": "cb8ea40a-17e9-41b5-8431-6b82c6fbd29a",
   "metadata": {},
   "outputs": [
    {
     "data": {
      "text/plain": [
       "'D:\\\\OneDrive - Ingenio Azucarero Guabira S.A\\\\_DATOS_PYTHON'"
      ]
     },
     "execution_count": 33,
     "metadata": {},
     "output_type": "execute_result"
    }
   ],
   "source": [
    "ruta"
   ]
  },
  {
   "cell_type": "code",
   "execution_count": 34,
   "id": "4facffe4-1720-416a-a1c6-3b9c6a574fa3",
   "metadata": {},
   "outputs": [],
   "source": [
    "def generar_reporte(i):\n",
    "    id_reg = i\n",
    "    \n",
    "    # SELECCIONAR REGISTRO\n",
    "    query = {'query': 'select * from dataset_318090 where id = {id_ca}'.format(id_ca=id_reg)}\n",
    "    project = 'https://app.amigocloud.com/api/v1/projects/33032/sql'\n",
    "    select = amigocloud.get(project, query)\n",
    "    data = select['data'][0]\n",
    "    data['fecha_de_registro'] = datetime.strptime(data['fecha_de_registro'][0:10], '%Y-%m-%d').strftime('%d/%m/%Y')\n",
    "    if data['observaciones'] == None:\n",
    "        data['observaciones']='Sin observaciones'\n",
    "    insp = collections.namedtuple(\"insp\", data.keys())(*data.values())\n",
    "    print('CAÑERO: ' + insp.canhero)\n",
    "    #FOTOS\n",
    "    query_fotos = {'query': 'select source_amigo_id, s3_filename from gallery_49781 where source_amigo_id=\\'{source_amigo_id}\\''.format(source_amigo_id=insp.amigo_id)}\n",
    "    project = 'https://app.amigocloud.com/api/v1/projects/33032/sql'\n",
    "    fotos = amigocloud.get(project, query_fotos)['data']\n",
    "    \n",
    "    #GENERAR DOCX\n",
    "    doc = DocxTemplate(ruta + \"/templates/tpl_rpt_operador-cosechadora.docx\")\n",
    "    #descargar fotos y generar lista InlineImage\n",
    "    lista_fotos_inline = []\n",
    "    for foto in fotos:\n",
    "        response = requests.get(\"https://www-amigocloud.s3.amazonaws.com/gallery/\" + foto['s3_filename'])\n",
    "        file = open(ruta + '/fotos/' + foto['s3_filename'], \"wb\")\n",
    "        file.write(response.content)\n",
    "        file.close()\n",
    "        lista_fotos_inline.append({'foto': docxtpl.InlineImage(doc, image_descriptor=ruta + '/fotos/' + foto['s3_filename'], width=Mm(60))})\n",
    "\n",
    "    context = {'insp':insp, 'fotos':lista_fotos_inline}\n",
    "\n",
    "    doc.render(context)\n",
    "\n",
    "    # formato de nombre de archivo: \"123_EVC_01-01-2022_NOMBRE\"\n",
    "    cod_nom = insp.canhero.split(' / ')\n",
    "    file_name = ruta + '/_' + str(cod_nom[0]) + '_EVC_' + insp.fecha_de_registro.replace('/','-') + '_' + cod_nom[1] + '_' + str(insp.id)\n",
    "\n",
    "    #doc.save(r'C:\\Users\\UTEA\\OneDrive - Ingenio Azucarero Guabira S.A (2)\\INFORMES\\IMFORMES PARA REVISAR\\\\' + file_name + '.docx')\n",
    "    doc.save(file_name + '.docx')"
   ]
  },
  {
   "cell_type": "code",
   "execution_count": 35,
   "id": "edd00566-61cf-4a75-93bf-d71dad788c68",
   "metadata": {},
   "outputs": [
    {
     "data": {
      "text/plain": [
       "[152, 153, 154, 155, 156, 157, 158, 159, 160]"
      ]
     },
     "execution_count": 35,
     "metadata": {},
     "output_type": "execute_result"
    }
   ],
   "source": [
    "lista_id = list(range(152, 161))\n",
    "lista_id"
   ]
  },
  {
   "cell_type": "code",
   "execution_count": 36,
   "id": "5908d9a8-21c0-49f7-a512-6f25b9c8b8a9",
   "metadata": {},
   "outputs": [
    {
     "name": "stdout",
     "output_type": "stream",
     "text": [
      "GENERANDO id = 152\n",
      "CAÑERO: 446 / AGUILERA ANEZ JHONNY\n",
      "GENERANDO id = 153\n",
      "CAÑERO: 75 / AGUILERA TARADELLES MARIANO\n",
      "GENERANDO id = 154\n",
      "CAÑERO: 2899 / EGUEZ ELHAGE JOSE EDUARDO\n",
      "GENERANDO id = 155\n",
      "CAÑERO: 2899 / EGUEZ ELHAGE JOSE EDUARDO\n",
      "GENERANDO id = 156\n",
      "CAÑERO: 3378 / ESCOBAR MORATO VICTOR HUGO\n",
      "GENERANDO id = 157\n",
      "CAÑERO: 3378 / ESCOBAR MORATO VICTOR HUGO\n",
      "GENERANDO id = 158\n",
      "CAÑERO: 15001 / VARGAS PINTO RENNY EDWIN\n",
      "GENERANDO id = 159\n",
      "CAÑERO: 765 / AGROP. CATALA S.R.L.\n",
      "GENERANDO id = 160\n",
      "CAÑERO: 765 / AGROP. CATALA S.R.L.\n",
      "END=====================================\n"
     ]
    }
   ],
   "source": [
    "for i in lista_id:\n",
    "    print('GENERANDO id = ' + str(i))\n",
    "    generar_reporte(i)\n",
    "print('END=====================================')"
   ]
  },
  {
   "cell_type": "markdown",
   "id": "a33ebb4f-21d9-45fc-bea9-b4487f0525b8",
   "metadata": {},
   "source": [
    "## CONVERTIR A PDF"
   ]
  },
  {
   "cell_type": "code",
   "execution_count": 39,
   "id": "fc153259-8356-49a0-9a0d-a09ff2c83d8b",
   "metadata": {},
   "outputs": [
    {
     "name": "stdout",
     "output_type": "stream",
     "text": [
      "SE ENCONTRARON 9 INFORMES\n",
      "9 INFORMES\n"
     ]
    },
    {
     "data": {
      "text/plain": [
       "['D:\\\\OneDrive - Ingenio Azucarero Guabira S.A\\\\_DATOS_PYTHON/informes/15001_EVC_09-05-2023_VARGAS PINTO RENNY EDWIN_158.docx',\n",
       " 'D:\\\\OneDrive - Ingenio Azucarero Guabira S.A\\\\_DATOS_PYTHON/informes/2899_EVC_06-05-2023_EGUEZ ELHAGE JOSE EDUARDO_154.docx',\n",
       " 'D:\\\\OneDrive - Ingenio Azucarero Guabira S.A\\\\_DATOS_PYTHON/informes/2899_EVC_06-05-2023_EGUEZ ELHAGE JOSE EDUARDO_155.docx',\n",
       " 'D:\\\\OneDrive - Ingenio Azucarero Guabira S.A\\\\_DATOS_PYTHON/informes/3378_EVC_09-05-2023_ESCOBAR MORATO VICTOR HUGO_156.docx',\n",
       " 'D:\\\\OneDrive - Ingenio Azucarero Guabira S.A\\\\_DATOS_PYTHON/informes/3378_EVC_09-05-2023_ESCOBAR MORATO VICTOR HUGO_157.docx',\n",
       " 'D:\\\\OneDrive - Ingenio Azucarero Guabira S.A\\\\_DATOS_PYTHON/informes/446_EVC_05-05-2023_AGUILERA ANEZ JHONNY_152.docx',\n",
       " 'D:\\\\OneDrive - Ingenio Azucarero Guabira S.A\\\\_DATOS_PYTHON/informes/75_EVC_05-05-2023_AGUILERA TARADELLES MARIANO_153.docx',\n",
       " 'D:\\\\OneDrive - Ingenio Azucarero Guabira S.A\\\\_DATOS_PYTHON/informes/765_EVC_09-05-2023_AGROP. CATALA S.R.L._159.docx',\n",
       " 'D:\\\\OneDrive - Ingenio Azucarero Guabira S.A\\\\_DATOS_PYTHON/informes/765_EVC_09-05-2023_AGROP. CATALA S.R.L._160.docx']"
      ]
     },
     "execution_count": 39,
     "metadata": {},
     "output_type": "execute_result"
    }
   ],
   "source": [
    "path = r'' + ruta + '/informes'\n",
    "contenido = os.listdir(path)\n",
    "rutas =[]\n",
    "i = 0\n",
    "for name in contenido:\n",
    "    rutas.append(path + '/' + name)\n",
    "    i+=1\n",
    "\n",
    "print('SE ENCONTRARON ' + str(i) + ' INFORMES')\n",
    "print(len(rutas), 'INFORMES')\n",
    "rutas"
   ]
  },
  {
   "cell_type": "code",
   "execution_count": 43,
   "id": "537a51b0-a4c2-4ece-a951-dfbc634027d7",
   "metadata": {},
   "outputs": [
    {
     "name": "stdout",
     "output_type": "stream",
     "text": [
      "CONVIRTIENDO... INFORME 1 D:\\OneDrive - Ingenio Azucarero Guabira S.A\\_DATOS_PYTHON/informes/15001_EVC_09-05-2023_VARGAS PINTO RENNY EDWIN_158.docx\n",
      "D:\\OneDrive - Ingenio Azucarero Guabira S.A\\_DATOS_PYTHON/informes/15001_EVC_09-05-2023_VARGAS PINTO RENNY EDWIN_158.docx\n",
      "D:\\OneDrive - Ingenio Azucarero Guabira S.A\\_DATOS_PYTHON/pdfs/15001_EVC_09-05-2023_VARGAS PINTO RENNY EDWIN_158.pdf\n"
     ]
    },
    {
     "data": {
      "application/vnd.jupyter.widget-view+json": {
       "model_id": "d9d38c764e874050840e21ef5fd447e1",
       "version_major": 2,
       "version_minor": 0
      },
      "text/plain": [
       "  0%|          | 0/1 [00:00<?, ?it/s]"
      ]
     },
     "metadata": {},
     "output_type": "display_data"
    },
    {
     "name": "stdout",
     "output_type": "stream",
     "text": [
      "CONVIRTIENDO... INFORME 2 D:\\OneDrive - Ingenio Azucarero Guabira S.A\\_DATOS_PYTHON/informes/2899_EVC_06-05-2023_EGUEZ ELHAGE JOSE EDUARDO_154.docx\n",
      "D:\\OneDrive - Ingenio Azucarero Guabira S.A\\_DATOS_PYTHON/informes/2899_EVC_06-05-2023_EGUEZ ELHAGE JOSE EDUARDO_154.docx\n",
      "D:\\OneDrive - Ingenio Azucarero Guabira S.A\\_DATOS_PYTHON/pdfs/2899_EVC_06-05-2023_EGUEZ ELHAGE JOSE EDUARDO_154.pdf\n"
     ]
    },
    {
     "data": {
      "application/vnd.jupyter.widget-view+json": {
       "model_id": "65c5601026264da49371a7ce749525d7",
       "version_major": 2,
       "version_minor": 0
      },
      "text/plain": [
       "  0%|          | 0/1 [00:00<?, ?it/s]"
      ]
     },
     "metadata": {},
     "output_type": "display_data"
    },
    {
     "name": "stdout",
     "output_type": "stream",
     "text": [
      "CONVIRTIENDO... INFORME 3 D:\\OneDrive - Ingenio Azucarero Guabira S.A\\_DATOS_PYTHON/informes/2899_EVC_06-05-2023_EGUEZ ELHAGE JOSE EDUARDO_155.docx\n",
      "D:\\OneDrive - Ingenio Azucarero Guabira S.A\\_DATOS_PYTHON/informes/2899_EVC_06-05-2023_EGUEZ ELHAGE JOSE EDUARDO_155.docx\n",
      "D:\\OneDrive - Ingenio Azucarero Guabira S.A\\_DATOS_PYTHON/pdfs/2899_EVC_06-05-2023_EGUEZ ELHAGE JOSE EDUARDO_155.pdf\n"
     ]
    },
    {
     "data": {
      "application/vnd.jupyter.widget-view+json": {
       "model_id": "d0561722baeb4bf0b1638d12d796f57f",
       "version_major": 2,
       "version_minor": 0
      },
      "text/plain": [
       "  0%|          | 0/1 [00:00<?, ?it/s]"
      ]
     },
     "metadata": {},
     "output_type": "display_data"
    },
    {
     "name": "stdout",
     "output_type": "stream",
     "text": [
      "CONVIRTIENDO... INFORME 4 D:\\OneDrive - Ingenio Azucarero Guabira S.A\\_DATOS_PYTHON/informes/3378_EVC_09-05-2023_ESCOBAR MORATO VICTOR HUGO_156.docx\n",
      "D:\\OneDrive - Ingenio Azucarero Guabira S.A\\_DATOS_PYTHON/informes/3378_EVC_09-05-2023_ESCOBAR MORATO VICTOR HUGO_156.docx\n",
      "D:\\OneDrive - Ingenio Azucarero Guabira S.A\\_DATOS_PYTHON/pdfs/3378_EVC_09-05-2023_ESCOBAR MORATO VICTOR HUGO_156.pdf\n"
     ]
    },
    {
     "data": {
      "application/vnd.jupyter.widget-view+json": {
       "model_id": "dcba8762565546cc8eb825852b933636",
       "version_major": 2,
       "version_minor": 0
      },
      "text/plain": [
       "  0%|          | 0/1 [00:00<?, ?it/s]"
      ]
     },
     "metadata": {},
     "output_type": "display_data"
    },
    {
     "name": "stdout",
     "output_type": "stream",
     "text": [
      "CONVIRTIENDO... INFORME 5 D:\\OneDrive - Ingenio Azucarero Guabira S.A\\_DATOS_PYTHON/informes/3378_EVC_09-05-2023_ESCOBAR MORATO VICTOR HUGO_157.docx\n",
      "D:\\OneDrive - Ingenio Azucarero Guabira S.A\\_DATOS_PYTHON/informes/3378_EVC_09-05-2023_ESCOBAR MORATO VICTOR HUGO_157.docx\n",
      "D:\\OneDrive - Ingenio Azucarero Guabira S.A\\_DATOS_PYTHON/pdfs/3378_EVC_09-05-2023_ESCOBAR MORATO VICTOR HUGO_157.pdf\n"
     ]
    },
    {
     "data": {
      "application/vnd.jupyter.widget-view+json": {
       "model_id": "1e447bea9e3a45cbb7475d9e738e6a53",
       "version_major": 2,
       "version_minor": 0
      },
      "text/plain": [
       "  0%|          | 0/1 [00:00<?, ?it/s]"
      ]
     },
     "metadata": {},
     "output_type": "display_data"
    },
    {
     "name": "stdout",
     "output_type": "stream",
     "text": [
      "CONVIRTIENDO... INFORME 6 D:\\OneDrive - Ingenio Azucarero Guabira S.A\\_DATOS_PYTHON/informes/446_EVC_05-05-2023_AGUILERA ANEZ JHONNY_152.docx\n",
      "D:\\OneDrive - Ingenio Azucarero Guabira S.A\\_DATOS_PYTHON/informes/446_EVC_05-05-2023_AGUILERA ANEZ JHONNY_152.docx\n",
      "D:\\OneDrive - Ingenio Azucarero Guabira S.A\\_DATOS_PYTHON/pdfs/446_EVC_05-05-2023_AGUILERA ANEZ JHONNY_152.pdf\n"
     ]
    },
    {
     "data": {
      "application/vnd.jupyter.widget-view+json": {
       "model_id": "1419446a421645a0a641cbd1beee8502",
       "version_major": 2,
       "version_minor": 0
      },
      "text/plain": [
       "  0%|          | 0/1 [00:00<?, ?it/s]"
      ]
     },
     "metadata": {},
     "output_type": "display_data"
    },
    {
     "name": "stdout",
     "output_type": "stream",
     "text": [
      "CONVIRTIENDO... INFORME 7 D:\\OneDrive - Ingenio Azucarero Guabira S.A\\_DATOS_PYTHON/informes/75_EVC_05-05-2023_AGUILERA TARADELLES MARIANO_153.docx\n",
      "D:\\OneDrive - Ingenio Azucarero Guabira S.A\\_DATOS_PYTHON/informes/75_EVC_05-05-2023_AGUILERA TARADELLES MARIANO_153.docx\n",
      "D:\\OneDrive - Ingenio Azucarero Guabira S.A\\_DATOS_PYTHON/pdfs/75_EVC_05-05-2023_AGUILERA TARADELLES MARIANO_153.pdf\n"
     ]
    },
    {
     "data": {
      "application/vnd.jupyter.widget-view+json": {
       "model_id": "d7f5c61dee1e4b04be10dd59e3c0a872",
       "version_major": 2,
       "version_minor": 0
      },
      "text/plain": [
       "  0%|          | 0/1 [00:00<?, ?it/s]"
      ]
     },
     "metadata": {},
     "output_type": "display_data"
    },
    {
     "name": "stdout",
     "output_type": "stream",
     "text": [
      "CONVIRTIENDO... INFORME 8 D:\\OneDrive - Ingenio Azucarero Guabira S.A\\_DATOS_PYTHON/informes/765_EVC_09-05-2023_AGROP. CATALA S.R.L._159.docx\n",
      "D:\\OneDrive - Ingenio Azucarero Guabira S.A\\_DATOS_PYTHON/informes/765_EVC_09-05-2023_AGROP. CATALA S.R.L._159.docx\n",
      "D:\\OneDrive - Ingenio Azucarero Guabira S.A\\_DATOS_PYTHON/pdfs/765_EVC_09-05-2023_AGROP. CATALA S.R.L._159.pdf\n"
     ]
    },
    {
     "data": {
      "application/vnd.jupyter.widget-view+json": {
       "model_id": "51ca137c0b1d4af8ad4e9f43ea6e6f14",
       "version_major": 2,
       "version_minor": 0
      },
      "text/plain": [
       "  0%|          | 0/1 [00:00<?, ?it/s]"
      ]
     },
     "metadata": {},
     "output_type": "display_data"
    },
    {
     "name": "stdout",
     "output_type": "stream",
     "text": [
      "CONVIRTIENDO... INFORME 9 D:\\OneDrive - Ingenio Azucarero Guabira S.A\\_DATOS_PYTHON/informes/765_EVC_09-05-2023_AGROP. CATALA S.R.L._160.docx\n",
      "D:\\OneDrive - Ingenio Azucarero Guabira S.A\\_DATOS_PYTHON/informes/765_EVC_09-05-2023_AGROP. CATALA S.R.L._160.docx\n",
      "D:\\OneDrive - Ingenio Azucarero Guabira S.A\\_DATOS_PYTHON/pdfs/765_EVC_09-05-2023_AGROP. CATALA S.R.L._160.pdf\n"
     ]
    },
    {
     "data": {
      "application/vnd.jupyter.widget-view+json": {
       "model_id": "a34d37ef156b43dd9a9e637accec7ede",
       "version_major": 2,
       "version_minor": 0
      },
      "text/plain": [
       "  0%|          | 0/1 [00:00<?, ?it/s]"
      ]
     },
     "metadata": {},
     "output_type": "display_data"
    },
    {
     "name": "stdout",
     "output_type": "stream",
     "text": [
      "END\n"
     ]
    }
   ],
   "source": [
    "i = 1\n",
    "for filename in rutas:\n",
    "    print('CONVIRTIENDO... INFORME ' + str(i) + ' ' + filename)\n",
    "    # se realiza la convrsion pasando parametro de salida y entrada, \n",
    "    # para la salida se reemplaza la extencion y la ruta\n",
    "    print(filename)\n",
    "    print(filename.replace('.docx','.pdf').replace('informes','pdfs'))\n",
    "    pdf = filename.replace('.docx','.pdf').replace('informes','pdfs').split('/')[-1]\n",
    "    convert(filename, r'C:\\Users\\UTEA\\Downloads\\\\' + pdf)\n",
    "    i+=1\n",
    "print('END')"
   ]
  }
 ],
 "metadata": {
  "kernelspec": {
   "display_name": "Python 3 (ipykernel)",
   "language": "python",
   "name": "python3"
  },
  "language_info": {
   "codemirror_mode": {
    "name": "ipython",
    "version": 3
   },
   "file_extension": ".py",
   "mimetype": "text/x-python",
   "name": "python",
   "nbconvert_exporter": "python",
   "pygments_lexer": "ipython3",
   "version": "3.7.16"
  }
 },
 "nbformat": 4,
 "nbformat_minor": 5
}
