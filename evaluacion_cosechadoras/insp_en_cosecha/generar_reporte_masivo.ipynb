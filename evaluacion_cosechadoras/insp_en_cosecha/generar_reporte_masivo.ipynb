{
 "cells": [
  {
   "cell_type": "code",
   "execution_count": 2,
   "id": "a534b6d8-ec90-4de3-ba03-48cfc7036ee6",
   "metadata": {},
   "outputs": [],
   "source": [
    "from werkzeug.wrappers import Request, Response\n",
    "#from flask import Flask, render_template\n",
    "from jinja2 import Template\n",
    "\n",
    "#from datetime import date\n",
    "from datetime import datetime, timedelta\n",
    "\n",
    "import collections\n",
    "from amigocloud import AmigoCloud\n",
    "\n",
    "## REPORTE\n",
    "from docxtpl import DocxTemplate\n",
    "import docxtpl\n",
    "from docx.shared import Mm\n",
    "import requests"
   ]
  },
  {
   "cell_type": "code",
   "execution_count": 3,
   "id": "b9f3d653-0684-4f3b-a2b9-2c8b8db76f79",
   "metadata": {},
   "outputs": [
    {
     "data": {
      "text/plain": [
       "<amigocloud.amigocloud.AmigoCloud at 0x158ae8c33c8>"
      ]
     },
     "execution_count": 3,
     "metadata": {},
     "output_type": "execute_result"
    }
   ],
   "source": [
    "acceso = open('../api_key/api.key','r')\n",
    "api_token = acceso.readlines()[0]\n",
    "acceso.close()\n",
    "\n",
    "amigocloud = AmigoCloud(token=api_token)\n",
    "amigocloud"
   ]
  },
  {
   "cell_type": "code",
   "execution_count": 4,
   "id": "4facffe4-1720-416a-a1c6-3b9c6a574fa3",
   "metadata": {},
   "outputs": [],
   "source": [
    "def generar_reporte(i):\n",
    "    id_reg = i\n",
    "    \n",
    "    # SELECCIONAR REGISTRO\n",
    "    query = {'query': 'select * from dataset_296354 where id = {id_ca}'.format(id_ca=id_reg)}\n",
    "    project = 'https://app.amigocloud.com/api/v1/projects/32082/sql'\n",
    "    select = amigocloud.get(project, query)\n",
    "    data = select['data'][0]\n",
    "    data['fecha_de_registro'] = datetime.strptime(data['fecha_de_registro'][0:10], '%Y-%m-%d').strftime('%d/%m/%Y')\n",
    "    #data['fecha_quema'] = datetime.strptime(data['fecha_quema'][0:10], '%Y-%m-%d').strftime('%d/%m/%Y')\n",
    "    #data['fecha_inspeccion'] = datetime.strptime(data['fecha_inspeccion'][0:10], '%Y-%m-%d').strftime('%d/%m/%Y')\n",
    "    insp = collections.namedtuple(\"insp\", data.keys())(*data.values())\n",
    "    print('CAÑERO: ' + insp.canhero)\n",
    "    #FOTOS\n",
    "    query_fotos = {'query': 'select source_amigo_id, s3_filename from gallery_43414 where source_amigo_id=\\'{source_amigo_id}\\''.format(source_amigo_id=insp.amigo_id)}\n",
    "    project = 'https://app.amigocloud.com/api/v1/projects/32082/sql'\n",
    "    fotos = amigocloud.get(project, query_fotos)['data']\n",
    "    \n",
    "    #GENERAR DOCX\n",
    "    doc = DocxTemplate(\"templates/01_template_operador.docx\")\n",
    "    #descargar fotos y generar lista InlineImage\n",
    "    lista_fotos_inline = []\n",
    "    for foto in fotos:\n",
    "        #response = requests.get(\"https://www-amigocloud.s3.amazonaws.com/gallery/\" + foto['file_name'])\n",
    "        response = requests.get(\"https://www-amigocloud.s3.amazonaws.com/gallery/\" + foto['s3_filename'])\n",
    "        file = open('fotos/' + foto['s3_filename'], \"wb\")\n",
    "        file.write(response.content)\n",
    "        file.close()\n",
    "        lista_fotos_inline.append({'foto': docxtpl.InlineImage(doc, image_descriptor='fotos/' + foto['s3_filename'], width=Mm(50))})\n",
    "\n",
    "    context = {'insp':insp, 'fotos':lista_fotos_inline}\n",
    "\n",
    "    doc.render(context)\n",
    "\n",
    "    # formato de nombre de archivo: \"123_EVC_01-01-2022_NOMBRE\"\n",
    "    cod_nom = insp.canhero.split(' / ')\n",
    "    file_name = cod_nom[0] + '_EVC_' + insp.fecha_de_registro.replace('/','-') + '_' + cod_nom[1] + '_' + str(insp.id)\n",
    "\n",
    "    #doc.save(r'C:\\Users\\UTEA\\OneDrive - Ingenio Azucarero Guabira S.A (2)\\INFORMES\\IMFORMES PARA REVISAR\\\\' + file_name + '.docx')\n",
    "    doc.save(r'_' + file_name + '.docx')"
   ]
  },
  {
   "cell_type": "code",
   "execution_count": 5,
   "id": "edd00566-61cf-4a75-93bf-d71dad788c68",
   "metadata": {},
   "outputs": [
    {
     "data": {
      "text/plain": [
       "[145, 146, 147, 148, 149, 150]"
      ]
     },
     "execution_count": 5,
     "metadata": {},
     "output_type": "execute_result"
    }
   ],
   "source": [
    "lista_id = list(range(145, 151))\n",
    "lista_id"
   ]
  },
  {
   "cell_type": "code",
   "execution_count": 6,
   "id": "5908d9a8-21c0-49f7-a512-6f25b9c8b8a9",
   "metadata": {},
   "outputs": [
    {
     "name": "stdout",
     "output_type": "stream",
     "text": [
      "GENERANDO id = 145\n",
      "CAÑERO: 7542 / LAZARTE PEREZ VICTOR\n",
      "GENERANDO id = 146\n",
      "CAÑERO: 639 / AGROPECUARIA SERVICOL\n",
      "GENERANDO id = 147\n",
      "CAÑERO: 594 / AGROPECUARIA FLAMBOYAN\n",
      "GENERANDO id = 148\n",
      "CAÑERO: 86 / AGUILERA TARADELLES JOSE LUIS\n",
      "GENERANDO id = 149\n",
      "CAÑERO: 9278 / NUNEZ MARTINEZ BRAULIO\n",
      "GENERANDO id = 150\n",
      "CAÑERO: 1741 / CARO ALTAMIRANO ROSARIO\n",
      "END=====================================\n"
     ]
    }
   ],
   "source": [
    "for i in lista_id:\n",
    "    print('GENERANDO id = ' + str(i))\n",
    "    generar_reporte(i)\n",
    "print('END=====================================')"
   ]
  },
  {
   "cell_type": "code",
   "execution_count": null,
   "id": "a6f4ecf7-1d44-4319-8f06-c9fc710a3c5e",
   "metadata": {},
   "outputs": [],
   "source": []
  },
  {
   "cell_type": "code",
   "execution_count": null,
   "id": "fc153259-8356-49a0-9a0d-a09ff2c83d8b",
   "metadata": {},
   "outputs": [],
   "source": []
  },
  {
   "cell_type": "code",
   "execution_count": null,
   "id": "537a51b0-a4c2-4ece-a951-dfbc634027d7",
   "metadata": {},
   "outputs": [],
   "source": []
  }
 ],
 "metadata": {
  "kernelspec": {
   "display_name": "Python 3 (ipykernel)",
   "language": "python",
   "name": "python3"
  },
  "language_info": {
   "codemirror_mode": {
    "name": "ipython",
    "version": 3
   },
   "file_extension": ".py",
   "mimetype": "text/x-python",
   "name": "python",
   "nbconvert_exporter": "python",
   "pygments_lexer": "ipython3",
   "version": "3.7.13"
  }
 },
 "nbformat": 4,
 "nbformat_minor": 5
}
