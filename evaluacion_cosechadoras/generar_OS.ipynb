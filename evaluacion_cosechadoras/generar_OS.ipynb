{
 "cells": [
  {
   "cell_type": "code",
   "execution_count": 1,
   "id": "2fa85c8a-a5c1-4d1c-ba60-85bea092be2a",
   "metadata": {},
   "outputs": [],
   "source": [
    "id_os = 39"
   ]
  },
  {
   "cell_type": "code",
   "execution_count": 3,
   "id": "ffcad6b4-4b4f-4808-a535-509913e642b7",
   "metadata": {},
   "outputs": [],
   "source": [
    "from amigocloud import AmigoCloud\n",
    "from datetime import datetime, timedelta"
   ]
  },
  {
   "cell_type": "code",
   "execution_count": 4,
   "id": "34252cee-c327-483a-9c8e-e3f447be81d1",
   "metadata": {},
   "outputs": [
    {
     "data": {
      "text/plain": [
       "<amigocloud.amigocloud.AmigoCloud at 0x15b0b392a08>"
      ]
     },
     "execution_count": 4,
     "metadata": {},
     "output_type": "execute_result"
    }
   ],
   "source": [
    "acceso = open('../api_key/api.key','r')\n",
    "api_token = acceso.readlines()[0]\n",
    "acceso.close()\n",
    "\n",
    "amigocloud = AmigoCloud(token=api_token)\n",
    "amigocloud"
   ]
  },
  {
   "cell_type": "code",
   "execution_count": 5,
   "id": "0e769e81-6efe-4593-bc3f-4406a7f054ab",
   "metadata": {},
   "outputs": [
    {
     "name": "stdout",
     "output_type": "stream",
     "text": [
      "end\n"
     ]
    }
   ],
   "source": [
    "# DATOS DE LAS INPECCION\n",
    "query = {'query': 'select os.fecha_registro, insp.maquina_cosechadora || \\'-\\' || insp.modelo_maquina cosechadora, insp.nombre_operador, insp.tiempo_experiencia, split_part(insp.canhero, \\' / \\', 1) cod_ca, split_part(insp.canhero, \\' / \\', 2) canhero, insp.nom_prop, os.problema, os.solucion, os.prioridad, os.plazo, gal.s3_filename from dataset_298145 os inner join dataset_296354 insp on insp.amigo_id = os.eval_ref_os inner join gallery_43845 gal on gal.source_amigo_id = os.amigo_id where os.id = {id_os}'.format(id_os=id_os)}\n",
    "project = 'https://app.amigocloud.com/api/v1/projects/32082/sql'\n",
    "select = amigocloud.get(project, query)\n",
    "data = select['data'][0]\n",
    "#insp = collections.namedtuple(\"insp\", data.keys())(*data.values())\n",
    "print('end')"
   ]
  },
  {
   "cell_type": "code",
   "execution_count": 6,
   "id": "a32d02ee-6e5e-4349-9cdd-945088cc122f",
   "metadata": {},
   "outputs": [
    {
     "data": {
      "text/plain": [
       "{'fecha_registro': '29/09/2022',\n",
       " 'cosechadora': 'CAMECO-2500',\n",
       " 'nombre_operador': 'LIMBER ',\n",
       " 'tiempo_experiencia': 1,\n",
       " 'cod_ca': '2212',\n",
       " 'canhero': 'CRUZ LEANOS LUCIO',\n",
       " 'nom_prop': 'LAS_TRANQUERAS--OMAR_CRUZ',\n",
       " 'problema': 'Problemas con el radiador, despuntador y aire acondicionado',\n",
       " 'solucion': 'Se recomienda cambio de radiador, reparar despuntador y aire acondicionado',\n",
       " 'prioridad': 'ALTA',\n",
       " 'plazo': 2,\n",
       " 's3_filename': 'IMG_1050.jpeg',\n",
       " 'hora': '17:09:17',\n",
       " 'fecha_name': '29-09-2022',\n",
       " 'fecha_limit': '01/10/2022'}"
      ]
     },
     "execution_count": 6,
     "metadata": {},
     "output_type": "execute_result"
    }
   ],
   "source": [
    "data['hora'] = data['fecha_registro'].split(' ')[1].split('+')[0]\n",
    "data['fecha_name'] = datetime.strptime(data['fecha_registro'][0:10], '%Y-%m-%d').strftime('%d-%m-%Y')\n",
    "data['fecha_registro'] = datetime.strptime(data['fecha_registro'][0:10], '%Y-%m-%d').strftime('%d/%m/%Y')\n",
    "# calculo de fecha limite\n",
    "fecha_limit = data['fecha_registro']\n",
    "# convertir a datetime\n",
    "fecha_limit = datetime.strptime(fecha_limit, '%d/%m/%Y')\n",
    "# sumar dias de plazo\n",
    "fecha_limit = fecha_limit + timedelta(days=data['plazo'])\n",
    "# cambiar formato\n",
    "fecha_limit = fecha_limit.strftime('%d/%m/%Y')\n",
    "data['fecha_limit'] = fecha_limit\n",
    "data"
   ]
  },
  {
   "cell_type": "code",
   "execution_count": 7,
   "id": "3cf13006-bd6c-426b-9f71-a678e51ce84b",
   "metadata": {},
   "outputs": [],
   "source": [
    "os_file = open('_' + data['cod_ca'] + '_OS_' + data['fecha_name'] + '_' + data['canhero'] + '_' + str(id_os) + '.txt', 'w', encoding='utf-8')"
   ]
  },
  {
   "cell_type": "code",
   "execution_count": 8,
   "id": "2313d92a-754c-4a30-8afc-0b8405abbcd4",
   "metadata": {},
   "outputs": [],
   "source": [
    "os_file.write('Buenos días Sr: ' + data['canhero'] + '\\n')\n",
    "os_file.write('Le escribo desde UTEA - CITTCA, el día ' + data['fecha_registro'] + ' técnicos de UTEA realizaron una inspección a su cosechadora con el fin de garantizar una buena cosecha, le envío la orden de servicio de las anomalias encontradas durante la inspección: \\n \\n')\n",
    "os_file.write('♻️ *SOLICIDUD DE ORDEN DE SERVICIO* \\n \\n')\n",
    "os_file.write('📆 *Fecha:* ' + data['fecha_registro'] + '\\n')\n",
    "os_file.write('🕐 *Hora:* ' + data['hora'] + '\\n')\n",
    "os_file.write('🚜 *Maquina:* ' + data['cosechadora'] + '\\n')\n",
    "os_file.write('👷 *Operador:* ' + data['nombre_operador'] + '\\n')\n",
    "os_file.write('📆 *Años de experiencia:* ' + str(data['tiempo_experiencia']) + '\\n')\n",
    "os_file.write('👤 *Cañero:* ' + data['canhero'] + '\\n')\n",
    "os_file.write('📍 *Propiedad:* ' + data['nom_prop'] + '\\n')\n",
    "os_file.write('🛠️ *Problema:* \\n')\n",
    "os_file.write('        - ' + data['problema'] + '\\n')\n",
    "os_file.write('🛠️ *Solución:* \\n')\n",
    "os_file.write('        - ' + data['solucion'] + '\\n')\n",
    "os_file.write('⚠️ *Prioridad:* ' + data['prioridad'] + '\\n')\n",
    "os_file.write('⏱️ *Dias de plazo:* ' + str(data['plazo']) + ' \\n')\n",
    "os_file.write('⌛ *Fecha Limite:* ' + data['fecha_limit'] + '\\n \\n')\n",
    "os_file.write('❕ Por favor al concluir enviarnos una foto de la anomalía resuelta para actualizar en nuestro sistema de mejora continua')\n",
    "os_file.close()"
   ]
  },
  {
   "cell_type": "code",
   "execution_count": 50,
   "id": "01b04343-57e7-448d-9d42-7a3f5efc0ecd",
   "metadata": {},
   "outputs": [],
   "source": []
  },
  {
   "cell_type": "code",
   "execution_count": null,
   "id": "4b320850-c3b0-4ae1-85b0-3559bf269a72",
   "metadata": {},
   "outputs": [],
   "source": []
  },
  {
   "cell_type": "code",
   "execution_count": null,
   "id": "c768d238-6548-4139-aee7-88103954e849",
   "metadata": {},
   "outputs": [],
   "source": []
  },
  {
   "cell_type": "code",
   "execution_count": null,
   "id": "156b9aeb-0e96-4d47-828d-ee5b8725ed5d",
   "metadata": {},
   "outputs": [],
   "source": []
  },
  {
   "cell_type": "code",
   "execution_count": null,
   "id": "b1b612c3-0bf4-4932-b8d9-862fa14b03b1",
   "metadata": {},
   "outputs": [],
   "source": []
  },
  {
   "cell_type": "code",
   "execution_count": null,
   "id": "00599e42-86a1-4c88-8cdb-832bae456c22",
   "metadata": {},
   "outputs": [],
   "source": []
  },
  {
   "cell_type": "code",
   "execution_count": null,
   "id": "3e20fc65-f5b6-4b6b-bac6-20e13cc0e66a",
   "metadata": {},
   "outputs": [],
   "source": []
  },
  {
   "cell_type": "code",
   "execution_count": null,
   "id": "52e7f58d-6483-43d8-907b-85f4925ad56b",
   "metadata": {},
   "outputs": [],
   "source": []
  },
  {
   "cell_type": "code",
   "execution_count": null,
   "id": "9dfbf1f1-74d9-4a8e-8bf5-8c08359acf67",
   "metadata": {},
   "outputs": [],
   "source": []
  }
 ],
 "metadata": {
  "kernelspec": {
   "display_name": "Python 3 (ipykernel)",
   "language": "python",
   "name": "python3"
  },
  "language_info": {
   "codemirror_mode": {
    "name": "ipython",
    "version": 3
   },
   "file_extension": ".py",
   "mimetype": "text/x-python",
   "name": "python",
   "nbconvert_exporter": "python",
   "pygments_lexer": "ipython3",
   "version": "3.7.13"
  }
 },
 "nbformat": 4,
 "nbformat_minor": 5
}
