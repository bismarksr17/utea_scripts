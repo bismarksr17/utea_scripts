{
 "cells": [
  {
   "cell_type": "code",
   "execution_count": 44,
   "id": "4fab9180-478d-4c86-b8a6-2318cf1af5a6",
   "metadata": {},
   "outputs": [],
   "source": [
    "id_canhero = 127"
   ]
  },
  {
   "cell_type": "code",
   "execution_count": 45,
   "id": "16edd055-3434-40bb-846f-f4eb6a4763fa",
   "metadata": {},
   "outputs": [],
   "source": [
    "from werkzeug.wrappers import Request, Response\n",
    "#from flask import Flask, render_template\n",
    "from jinja2 import Template\n",
    "\n",
    "#from datetime import date\n",
    "from datetime import datetime, timedelta\n",
    "\n",
    "import collections\n",
    "from amigocloud import AmigoCloud\n",
    "\n",
    "from datetime import datetime"
   ]
  },
  {
   "cell_type": "code",
   "execution_count": 46,
   "id": "7ef1ba39-1f94-4427-a8da-3ac6e5c6fe10",
   "metadata": {},
   "outputs": [
    {
     "data": {
      "text/plain": [
       "<amigocloud.amigocloud.AmigoCloud at 0x1d1fefc5788>"
      ]
     },
     "execution_count": 46,
     "metadata": {},
     "output_type": "execute_result"
    }
   ],
   "source": [
    "acceso = open('../api_key/api.key','r')\n",
    "api_token = acceso.readlines()[0]\n",
    "acceso.close()\n",
    "\n",
    "amigocloud = AmigoCloud(token=api_token)\n",
    "amigocloud"
   ]
  },
  {
   "cell_type": "code",
   "execution_count": 47,
   "id": "9d709ca5-5dbb-403a-b223-2ddb17f83d9f",
   "metadata": {},
   "outputs": [
    {
     "name": "stdout",
     "output_type": "stream",
     "text": [
      "end\n"
     ]
    }
   ],
   "source": [
    "# DATOS DE LAS INPECCION\n",
    "query = {'query': 'select * from dataset_296354 where id = {id_ca}'.format(id_ca=id_canhero)}\n",
    "project = 'https://app.amigocloud.com/api/v1/projects/32082/sql'\n",
    "select = amigocloud.get(project, query)\n",
    "data = select['data'][0]\n",
    "\n",
    "data['fecha_de_registro'] = datetime.strptime(data['fecha_de_registro'][0:10], '%Y-%m-%d').strftime('%d/%m/%Y')\n",
    "#data['fecha_quema'] = datetime.strptime(data['fecha_quema'][0:10], '%Y-%m-%d').strftime('%d/%m/%Y')\n",
    "#data['fecha_inspeccion'] = datetime.strptime(data['fecha_inspeccion'][0:10], '%Y-%m-%d').strftime('%d/%m/%Y')\n",
    "\n",
    "insp = collections.namedtuple(\"insp\", data.keys())(*data.values())\n",
    "print('end')"
   ]
  },
  {
   "cell_type": "code",
   "execution_count": 48,
   "id": "53a8e9e3-0391-4d7b-80cd-c6ed34525a45",
   "metadata": {},
   "outputs": [
    {
     "data": {
      "text/plain": [
       "insp(fecha_de_registro='23/09/2022', amigo_id='47737CF55413418E947F249F5B295DF4', ubicacion='0101000020E6100000FF07999C65A94FC0E6DFBE44B33631C0', cod_prop=1469, nom_prop='EL_TORNO--ROLANDO_ALVARES', cosechadora=None, codigo_maquina='CC-23', nombre_operador='ROLANDO ÁLVAREZ ', tiempo_experiencia=15, op_01=True, op_02=True, op_03=True, op_04=True, op_05=True, op_06=True, op_07=True, op_08=True, op_09=True, op_10=True, op_11=True, op_12=True, op_13=True, op_14=True, op_15=True, op_16=True, op_17=True, op_18=True, op_19=True, op_20=True, op_21=True, op_22=False, op_23=True, maq_01=True, maq_02=True, maq_03=True, maq_04=True, maq_05=True, maq_06=True, maq_07=True, maq_08=True, maq_09=True, maq_10=True, maq_11=True, maq_12=True, maq_13=False, canhero='402 / ALVAREZ BLANCO ROLANDO', nota_operador=9.56521739130435, nota_maquina=9.23076923076923, op_01_orientacion='', op_02_orientacion='', op_03_orientacion='', op_04_orientacion='', op_05_orientacion='', op_06_orientacion='', op_07_orientacion='', op_08_orientacion='', op_09_orientacion='', op_10_orientacion='', op_11_orientacion='', op_12_orientacion='', op_13_orientacion='', op_14_orientacion='', op_15_orientacion='', op_16_orientacion='', op_17_orientacion='', op_18_orientacion='', op_19_orientacion='', op_20_orientacion='', op_21_orientacion='', op_22_orientacion='Não funciona ', op_23_orientacion='', maq_01_orientacion='', maq_02_orientacion='', maq_03_orientacion='', maq_04_orientacion='', maq_05_orientacion='', maq_06_orientacion='', maq_07_orientacion='', maq_08_orientacion='', maq_09_orientacion='', maq_10_orientacion='', maq_11_orientacion='', maq_12_orientacion='', maq_13_orientacion='Não tem ', observaciones='', id=127, inspeccion='2DA', link_informe=None, link_editable=None, frente=74, operador_valido=True, maquina_valida=True, maquina_cosechadora='CAMECO', modelo_maquina='2500')"
      ]
     },
     "execution_count": 48,
     "metadata": {},
     "output_type": "execute_result"
    }
   ],
   "source": [
    "insp"
   ]
  },
  {
   "cell_type": "code",
   "execution_count": 49,
   "id": "ba441713-42f9-4e64-863e-ac8773d563d8",
   "metadata": {},
   "outputs": [],
   "source": [
    "query_fotos = {'query': 'select source_amigo_id, s3_filename from gallery_43414 where source_amigo_id=\\'{source_amigo_id}\\''.format(source_amigo_id=insp.amigo_id)}\n",
    "project = 'https://app.amigocloud.com/api/v1/projects/32082/sql'\n",
    "fotos = amigocloud.get(project, query_fotos)['data']\n",
    "\n",
    "#if fotos_filename['data'] != []:\n",
    "#    dic = {'lote': lote.lote, 'file_name': fotos_filename['data'][0]['s3_filename']}\n",
    "#    fotos.append(dic)\n",
    "\n",
    "#fotos"
   ]
  },
  {
   "cell_type": "code",
   "execution_count": 50,
   "id": "54835857-db79-43de-ae7f-6ca1f453275a",
   "metadata": {
    "tags": []
   },
   "outputs": [
    {
     "data": {
      "text/plain": [
       "[{'source_amigo_id': '47737CF55413418E947F249F5B295DF4',\n",
       "  's3_filename': 'IMG_0844.jpeg'},\n",
       " {'source_amigo_id': '47737CF55413418E947F249F5B295DF4',\n",
       "  's3_filename': 'IMG_0843.jpeg'}]"
      ]
     },
     "execution_count": 50,
     "metadata": {},
     "output_type": "execute_result"
    }
   ],
   "source": [
    "fotos"
   ]
  },
  {
   "cell_type": "code",
   "execution_count": 51,
   "id": "c25dc919-ce71-43f2-9463-3bb335d23e2d",
   "metadata": {},
   "outputs": [],
   "source": [
    "from docxtpl import DocxTemplate\n",
    "import docxtpl\n",
    "from docx.shared import Mm\n",
    "\n",
    "import requests\n",
    "\n",
    "doc = DocxTemplate(\"templates/01_template_operador.docx\")\n",
    "\n",
    "#descargar fotos y generar lista InlineImage\n",
    "\n",
    "lista_fotos_inline = []\n",
    "for foto in fotos:\n",
    "    #response = requests.get(\"https://www-amigocloud.s3.amazonaws.com/gallery/\" + foto['file_name'])\n",
    "    response = requests.get(\"https://www-amigocloud.s3.amazonaws.com/gallery/\" + foto['s3_filename'])\n",
    "    file = open('fotos/' + foto['s3_filename'], \"wb\")\n",
    "    file.write(response.content)\n",
    "    file.close()\n",
    "    lista_fotos_inline.append({'foto': docxtpl.InlineImage(doc, image_descriptor='fotos/' + foto['s3_filename'], width=Mm(50))})\n",
    "\n",
    "context = {'insp':insp, 'fotos':lista_fotos_inline}\n",
    "\n",
    "doc.render(context)\n",
    "\n",
    "# formato de nombre de archivo: \"123_CQ_01-01-2022_NOMBRE\"\n",
    "cod_nom = insp.canhero.split(' / ')\n",
    "file_name = cod_nom[0] + '_EVC_' + insp.fecha_de_registro.replace('/','-') + '_' + cod_nom[1] + '_' + str(insp.id)\n",
    "\n",
    "#doc.save(r'C:\\Users\\UTEA\\OneDrive - Ingenio Azucarero Guabira S.A (2)\\INFORMES\\IMFORMES PARA REVISAR\\\\' + file_name + '.docx')\n",
    "doc.save(r'_' + file_name + '.docx')"
   ]
  },
  {
   "cell_type": "code",
   "execution_count": null,
   "id": "786fdad5-de7a-4dc5-887c-1a704a66865e",
   "metadata": {},
   "outputs": [],
   "source": []
  }
 ],
 "metadata": {
  "kernelspec": {
   "display_name": "Python 3 (ipykernel)",
   "language": "python",
   "name": "python3"
  },
  "language_info": {
   "codemirror_mode": {
    "name": "ipython",
    "version": 3
   },
   "file_extension": ".py",
   "mimetype": "text/x-python",
   "name": "python",
   "nbconvert_exporter": "python",
   "pygments_lexer": "ipython3",
   "version": "3.7.13"
  }
 },
 "nbformat": 4,
 "nbformat_minor": 5
}
