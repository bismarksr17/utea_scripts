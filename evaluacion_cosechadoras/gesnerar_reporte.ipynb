{
 "cells": [
  {
   "cell_type": "code",
   "execution_count": 41,
   "id": "4fab9180-478d-4c86-b8a6-2318cf1af5a6",
   "metadata": {},
   "outputs": [],
   "source": [
    "codigo_canhero = 18358"
   ]
  },
  {
   "cell_type": "code",
   "execution_count": 42,
   "id": "16edd055-3434-40bb-846f-f4eb6a4763fa",
   "metadata": {},
   "outputs": [],
   "source": [
    "from werkzeug.wrappers import Request, Response\n",
    "#from flask import Flask, render_template\n",
    "from jinja2 import Template\n",
    "\n",
    "#from datetime import date\n",
    "from datetime import datetime, timedelta\n",
    "\n",
    "import collections\n",
    "from amigocloud import AmigoCloud\n",
    "\n",
    "from datetime import datetime"
   ]
  },
  {
   "cell_type": "code",
   "execution_count": 43,
   "id": "7ef1ba39-1f94-4427-a8da-3ac6e5c6fe10",
   "metadata": {},
   "outputs": [
    {
     "data": {
      "text/plain": [
       "<amigocloud.amigocloud.AmigoCloud at 0x26d5c5bdb48>"
      ]
     },
     "execution_count": 43,
     "metadata": {},
     "output_type": "execute_result"
    }
   ],
   "source": [
    "acceso = open('../api_key/api.key','r')\n",
    "api_token = acceso.readlines()[0]\n",
    "acceso.close()\n",
    "\n",
    "amigocloud = AmigoCloud(token=api_token)\n",
    "amigocloud"
   ]
  },
  {
   "cell_type": "code",
   "execution_count": 44,
   "id": "9d709ca5-5dbb-403a-b223-2ddb17f83d9f",
   "metadata": {},
   "outputs": [
    {
     "name": "stdout",
     "output_type": "stream",
     "text": [
      "end\n"
     ]
    }
   ],
   "source": [
    "# DATOS DE LAS INPECCION\n",
    "query = {'query': 'select * from dataset_296354 where cast(split_part(canhero, \\' / \\', 1) as integer) = {cod_ca}'.format(cod_ca=codigo_canhero)}\n",
    "project = 'https://app.amigocloud.com/api/v1/projects/32082/sql'\n",
    "select = amigocloud.get(project, query)\n",
    "data = select['data'][0]\n",
    "\n",
    "data['fecha_de_registro'] = datetime.strptime(data['fecha_de_registro'][0:10], '%Y-%m-%d').strftime('%d/%m/%Y')\n",
    "#data['fecha_quema'] = datetime.strptime(data['fecha_quema'][0:10], '%Y-%m-%d').strftime('%d/%m/%Y')\n",
    "#data['fecha_inspeccion'] = datetime.strptime(data['fecha_inspeccion'][0:10], '%Y-%m-%d').strftime('%d/%m/%Y')\n",
    "\n",
    "insp = collections.namedtuple(\"insp\", data.keys())(*data.values())\n",
    "print('end')"
   ]
  },
  {
   "cell_type": "code",
   "execution_count": 45,
   "id": "53a8e9e3-0391-4d7b-80cd-c6ed34525a45",
   "metadata": {},
   "outputs": [
    {
     "data": {
      "text/plain": [
       "insp(fecha_de_registro='18/07/2022', amigo_id='c1b3a3bf489b4ad880864c4282a9aa87', ubicacion='0101000020E6100000F113BD42D58A4FC0769CFDDC2B4031C0', cod_prop=320, nom_prop='RIO_TORO--RIC_PARADA', cosechadora='Jd 3520', codigo_maquina='CJ03', nombre_operador='Patin', tiempo_experiencia=5, op_01=False, op_02=True, op_03=True, op_04=True, op_05=True, op_06=True, op_07=False, op_08=True, op_09=True, op_10=True, op_11=True, op_12=True, op_13=True, op_14=True, op_15=True, op_16=False, op_17=True, op_18=True, op_19=True, op_20=True, op_21=True, op_22=True, op_23=True, maq_01=True, maq_02=True, maq_03=False, maq_04=True, maq_05=True, maq_06=True, maq_07=True, maq_08=True, maq_09=True, maq_10=True, maq_11=True, maq_12=True, maq_13=True, canhero='18358 / ROJAS AMELUNGE CARLOS', nota_operador=86.9565217391304, nota_maquina=92.3076923076923, op_01_orientacion='No esta corre ta debido al terreno esta muy humedo y el operador opto por dejR  orte mas alto.', op_02_orientacion=None, op_03_orientacion=None, op_04_orientacion=None, op_05_orientacion=None, op_06_orientacion=None, op_07_orientacion='No esta utilizando despuntador debido a que esta sin motor. \\nEl uso del despuntador tiene la funcion de eliminar la porcion superios de la caÃ±a como la flor hojas verdes y palmitos reduciendo impureza vegetal.', op_08_orientacion=None, op_09_orientacion=None, op_10_orientacion=None, op_11_orientacion=None, op_12_orientacion=None, op_13_orientacion=None, op_14_orientacion=None, op_15_orientacion=None, op_16_orientacion='El pisote de lote esta siendo un problema ya que por la humedad en el suelo que los tractores y maquina estan dejan huellas hondas en los surco destrozando algunas cepas por el movimiento brusco', op_17_orientacion=None, op_18_orientacion=None, op_19_orientacion=None, op_20_orientacion=None, op_21_orientacion=None, op_22_orientacion=None, op_23_orientacion=None, maq_01_orientacion=None, maq_02_orientacion=None, maq_03_orientacion='El despuntador le falta motor ', maq_04_orientacion=None, maq_05_orientacion=None, maq_06_orientacion=None, maq_07_orientacion=None, maq_08_orientacion=None, maq_09_orientacion=None, maq_10_orientacion=None, maq_11_orientacion=None, maq_12_orientacion=None, maq_13_orientacion=None)"
      ]
     },
     "execution_count": 45,
     "metadata": {},
     "output_type": "execute_result"
    }
   ],
   "source": [
    "insp"
   ]
  },
  {
   "cell_type": "code",
   "execution_count": 53,
   "id": "ba441713-42f9-4e64-863e-ac8773d563d8",
   "metadata": {},
   "outputs": [],
   "source": [
    "query_fotos = {'query': 'select source_amigo_id, s3_filename from gallery_43414 where source_amigo_id=\\'{source_amigo_id}\\''.format(source_amigo_id=insp.amigo_id)}\n",
    "project = 'https://app.amigocloud.com/api/v1/projects/32082/sql'\n",
    "fotos = amigocloud.get(project, query_fotos)['data']\n",
    "\n",
    "#if fotos_filename['data'] != []:\n",
    "#    dic = {'lote': lote.lote, 'file_name': fotos_filename['data'][0]['s3_filename']}\n",
    "#    fotos.append(dic)\n",
    "\n",
    "#fotos"
   ]
  },
  {
   "cell_type": "code",
   "execution_count": 54,
   "id": "54835857-db79-43de-ae7f-6ca1f453275a",
   "metadata": {},
   "outputs": [
    {
     "data": {
      "text/plain": [
       "[{'source_amigo_id': 'c1b3a3bf489b4ad880864c4282a9aa87',\n",
       "  's3_filename': 'WhatsApp Image 2022-07-18 at 5.49.15 PM.jpeg'},\n",
       " {'source_amigo_id': 'c1b3a3bf489b4ad880864c4282a9aa87',\n",
       "  's3_filename': 'WhatsApp Image 2022-07-18 at 5.49.16 PM.jpeg'},\n",
       " {'source_amigo_id': 'c1b3a3bf489b4ad880864c4282a9aa87',\n",
       "  's3_filename': 'WhatsApp Image 2022-07-18 at 5.49.16 PM (1).jpeg'}]"
      ]
     },
     "execution_count": 54,
     "metadata": {},
     "output_type": "execute_result"
    }
   ],
   "source": [
    "fotos"
   ]
  },
  {
   "cell_type": "code",
   "execution_count": 62,
   "id": "c25dc919-ce71-43f2-9463-3bb335d23e2d",
   "metadata": {},
   "outputs": [],
   "source": [
    "from docxtpl import DocxTemplate\n",
    "import docxtpl\n",
    "from docx.shared import Mm\n",
    "\n",
    "import requests\n",
    "\n",
    "doc = DocxTemplate(\"templates/01_template_operador.docx\")\n",
    "\n",
    "#descargar fotos y generar lista InlineImage\n",
    "\n",
    "lista_fotos_inline = []\n",
    "for foto in fotos:\n",
    "    #response = requests.get(\"https://www-amigocloud.s3.amazonaws.com/gallery/\" + foto['file_name'])\n",
    "    #response = requests.get(\"https://www-amigocloud.s3.amazonaws.com/gallery/\" + foto['s3_filename'])\n",
    "    #file = open('fotos/' + foto['s3_filename'], \"wb\")\n",
    "    #file.write(response.content)\n",
    "    #file.close()\n",
    "    lista_fotos_inline.append({'foto': docxtpl.InlineImage(doc, image_descriptor='fotos/' + foto['s3_filename'], width=Mm(50))})\n",
    "\n",
    "context = {'insp':insp, 'fotos':lista_fotos_inline}\n",
    "\n",
    "doc.render(context)\n",
    "\n",
    "# formato de nombre de archivo: \"123_CQ_01-01-2022_NOMBRE\"\n",
    "cod_nom = insp.canhero.split(' / ')\n",
    "file_name = cod_nom[0] + '_EC_' + insp.fecha_de_registro.replace('/','-') + '_' + cod_nom[1]\n",
    "\n",
    "doc.save('_' + file_name + '.docx')"
   ]
  },
  {
   "cell_type": "code",
   "execution_count": null,
   "id": "7df12e94-5e45-49ef-bf0c-60e937e0dea5",
   "metadata": {},
   "outputs": [],
   "source": []
  },
  {
   "cell_type": "code",
   "execution_count": null,
   "id": "6f77a2ff-0b7b-455c-8ca2-bac354c45825",
   "metadata": {},
   "outputs": [],
   "source": []
  },
  {
   "cell_type": "code",
   "execution_count": null,
   "id": "bd7915fe-6a35-463c-9aff-06c83ea4e5d0",
   "metadata": {},
   "outputs": [],
   "source": []
  },
  {
   "cell_type": "code",
   "execution_count": null,
   "id": "90474c07-d88e-419a-9f35-dc751f0ad4ff",
   "metadata": {},
   "outputs": [],
   "source": []
  },
  {
   "cell_type": "code",
   "execution_count": null,
   "id": "31c2d7d5-6c5b-401a-8359-7dadd1bc166b",
   "metadata": {},
   "outputs": [],
   "source": []
  },
  {
   "cell_type": "code",
   "execution_count": null,
   "id": "516dbb91-c7f6-4ffe-9431-3a6a56bf4b4e",
   "metadata": {},
   "outputs": [],
   "source": []
  },
  {
   "cell_type": "code",
   "execution_count": null,
   "id": "c5704530-c0fe-46e8-8028-40c142cedcb1",
   "metadata": {},
   "outputs": [],
   "source": []
  },
  {
   "cell_type": "code",
   "execution_count": null,
   "id": "c6ba8266-cb4e-47f2-928f-e78b06dcbed8",
   "metadata": {},
   "outputs": [],
   "source": []
  },
  {
   "cell_type": "code",
   "execution_count": null,
   "id": "cd911f55-ae88-44cc-9d77-9fd1095161f3",
   "metadata": {},
   "outputs": [],
   "source": []
  },
  {
   "cell_type": "code",
   "execution_count": null,
   "id": "a74de12c-3055-4118-be9f-4315bdcdbbc3",
   "metadata": {},
   "outputs": [],
   "source": []
  },
  {
   "cell_type": "code",
   "execution_count": null,
   "id": "d7174569-921c-452c-a81b-c9eca144ba59",
   "metadata": {},
   "outputs": [],
   "source": []
  },
  {
   "cell_type": "code",
   "execution_count": null,
   "id": "681c3227-29a1-4161-b31c-d0f12b3bebfc",
   "metadata": {},
   "outputs": [],
   "source": []
  }
 ],
 "metadata": {
  "kernelspec": {
   "display_name": "Python 3 (ipykernel)",
   "language": "python",
   "name": "python3"
  },
  "language_info": {
   "codemirror_mode": {
    "name": "ipython",
    "version": 3
   },
   "file_extension": ".py",
   "mimetype": "text/x-python",
   "name": "python",
   "nbconvert_exporter": "python",
   "pygments_lexer": "ipython3",
   "version": "3.7.13"
  }
 },
 "nbformat": 4,
 "nbformat_minor": 5
}
