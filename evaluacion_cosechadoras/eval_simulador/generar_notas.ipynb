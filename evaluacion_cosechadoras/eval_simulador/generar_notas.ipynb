{
 "cells": [
  {
   "cell_type": "code",
   "execution_count": 68,
   "id": "9eb1a9a0-2659-4a13-bea5-22ccf5c17682",
   "metadata": {},
   "outputs": [],
   "source": [
    "import pandas as pd\n",
    "import collections\n",
    "\n",
    "from docxtpl import DocxTemplate"
   ]
  },
  {
   "cell_type": "code",
   "execution_count": 47,
   "id": "daf91ba3-26e3-4cd8-a24f-ead3c25a6bb0",
   "metadata": {},
   "outputs": [],
   "source": [
    "lista_datos = [805, 515, 765, 8009, 8835, 86, 11852, 9677, 574, 4171, 3421, 3415, 11641, 2160, 15001, 12478, 30035, 1979, 12075, 3469, 2446, 1648, 13062, 2816, 446, 11171, 10697, 3358, 2899, 1741, 3378, 13012, 2220, 41897, 180, 5387, 2274]"
   ]
  },
  {
   "cell_type": "code",
   "execution_count": 48,
   "id": "e6ed2f98-7160-42a1-ad9e-399a17f63811",
   "metadata": {},
   "outputs": [],
   "source": [
    "data = pd.read_excel('DATA.xlsx')"
   ]
  },
  {
   "cell_type": "code",
   "execution_count": 58,
   "id": "6d27d990-eb8d-43a2-848b-26b0e3d49778",
   "metadata": {},
   "outputs": [],
   "source": [
    "data = data.fillna(0)"
   ]
  },
  {
   "cell_type": "code",
   "execution_count": 94,
   "id": "05efd7d6-6d80-4b6e-8037-bc5b46103e2b",
   "metadata": {},
   "outputs": [],
   "source": [
    "for i in lista_datos:\n",
    "    notas = data[data['COD_CA'] == i]\n",
    "    \n",
    "    promedio = notas['pr'].mean()\n",
    "    cod_ca = notas.iloc[0]['COD_CA']\n",
    "    canhero = notas.iloc[0]['CANHERO']\n",
    "    \n",
    "    datos = {'cod_ca':cod_ca, 'canhero':canhero, 'promedio':promedio}\n",
    "    \n",
    "    datos = collections.namedtuple(\"data\", datos.keys())(*datos.values())\n",
    "    \n",
    "    ops = []\n",
    "    for i in range(len(notas)):\n",
    "        fila = dict(notas.iloc[i])\n",
    "        ops.append(collections.namedtuple(\"op\", fila.keys())(*fila.values()))\n",
    "        \n",
    "    doc = DocxTemplate(\"template.docx\")\n",
    "    context = {\n",
    "        'data':datos, \n",
    "        'ops':ops\n",
    "    }\n",
    "    doc.render(context)\n",
    "    file_name = str(cod_ca) + \"_\" + canhero\n",
    "    doc.save(file_name + '.docx')"
   ]
  },
  {
   "cell_type": "code",
   "execution_count": null,
   "id": "ad5cfdea-72df-4c26-85bb-2e9a6b131bd0",
   "metadata": {},
   "outputs": [],
   "source": []
  },
  {
   "cell_type": "code",
   "execution_count": null,
   "id": "98b0052a-3e6b-49db-b336-599b119d6dd3",
   "metadata": {},
   "outputs": [],
   "source": []
  },
  {
   "cell_type": "code",
   "execution_count": null,
   "id": "2ce7c291-86bf-48f6-a6af-b15263e3012d",
   "metadata": {},
   "outputs": [],
   "source": []
  },
  {
   "cell_type": "code",
   "execution_count": null,
   "id": "dede6055-b87c-4386-816c-e9bc2bb47a90",
   "metadata": {},
   "outputs": [],
   "source": []
  },
  {
   "cell_type": "code",
   "execution_count": null,
   "id": "f7123452-68e8-4760-9e29-76b9326f8604",
   "metadata": {},
   "outputs": [],
   "source": []
  },
  {
   "cell_type": "code",
   "execution_count": null,
   "id": "53f5ba8b-dbb2-43e0-a437-4df4ee737f44",
   "metadata": {},
   "outputs": [],
   "source": []
  },
  {
   "cell_type": "code",
   "execution_count": null,
   "id": "63165873-f29a-4396-b7e5-61054be6353c",
   "metadata": {},
   "outputs": [],
   "source": []
  },
  {
   "cell_type": "code",
   "execution_count": 60,
   "id": "88872c86-957e-4f62-a649-d97dfc4df667",
   "metadata": {},
   "outputs": [
    {
     "data": {
      "text/html": [
       "<div>\n",
       "<style scoped>\n",
       "    .dataframe tbody tr th:only-of-type {\n",
       "        vertical-align: middle;\n",
       "    }\n",
       "\n",
       "    .dataframe tbody tr th {\n",
       "        vertical-align: top;\n",
       "    }\n",
       "\n",
       "    .dataframe thead th {\n",
       "        text-align: right;\n",
       "    }\n",
       "</style>\n",
       "<table border=\"1\" class=\"dataframe\">\n",
       "  <thead>\n",
       "    <tr style=\"text-align: right;\">\n",
       "      <th></th>\n",
       "      <th>COD_CA</th>\n",
       "      <th>CANHERO</th>\n",
       "      <th>nombre</th>\n",
       "      <th>pra</th>\n",
       "      <th>ba</th>\n",
       "      <th>int</th>\n",
       "      <th>av</th>\n",
       "      <th>pr</th>\n",
       "    </tr>\n",
       "  </thead>\n",
       "  <tbody>\n",
       "    <tr>\n",
       "      <th>0</th>\n",
       "      <td>805</td>\n",
       "      <td>AGROP. TRES HNOS DEL ORIENTE</td>\n",
       "      <td>RICARDO POICHE</td>\n",
       "      <td>0.0</td>\n",
       "      <td>79.2</td>\n",
       "      <td>76.8</td>\n",
       "      <td>74.3</td>\n",
       "      <td>76.766667</td>\n",
       "    </tr>\n",
       "    <tr>\n",
       "      <th>1</th>\n",
       "      <td>805</td>\n",
       "      <td>AGROP. TRES HNOS DEL ORIENTE</td>\n",
       "      <td>AGUSTIN CASTRO RAMIREZ</td>\n",
       "      <td>0.0</td>\n",
       "      <td>77.8</td>\n",
       "      <td>75.2</td>\n",
       "      <td>63.9</td>\n",
       "      <td>72.300000</td>\n",
       "    </tr>\n",
       "  </tbody>\n",
       "</table>\n",
       "</div>"
      ],
      "text/plain": [
       "   COD_CA                       CANHERO                  nombre  pra    ba  \\\n",
       "0     805  AGROP. TRES HNOS DEL ORIENTE          RICARDO POICHE  0.0  79.2   \n",
       "1     805  AGROP. TRES HNOS DEL ORIENTE  AGUSTIN CASTRO RAMIREZ  0.0  77.8   \n",
       "\n",
       "    int    av         pr  \n",
       "0  76.8  74.3  76.766667  \n",
       "1  75.2  63.9  72.300000  "
      ]
     },
     "execution_count": 60,
     "metadata": {},
     "output_type": "execute_result"
    }
   ],
   "source": [
    "notas = data[data['COD_CA'] == 805]\n",
    "notas"
   ]
  },
  {
   "cell_type": "code",
   "execution_count": 61,
   "id": "61e2fb65-00b2-42b0-a233-5271a1eb1d35",
   "metadata": {},
   "outputs": [],
   "source": [
    "promedio = notas['pr'].mean()\n",
    "cod_ca = notas.iloc[0]['COD_CA']\n",
    "canhero = notas.iloc[0]['CANHERO']"
   ]
  },
  {
   "cell_type": "code",
   "execution_count": 62,
   "id": "ca88f52b-eca7-49a1-aaa3-9a1c81f6957e",
   "metadata": {},
   "outputs": [],
   "source": [
    "datos = {'cod_ca':cod_ca, 'canhero':canhero, 'promedio':promedio}"
   ]
  },
  {
   "cell_type": "code",
   "execution_count": 63,
   "id": "0e347a2a-c800-4b2d-8a70-ef5376dc48a9",
   "metadata": {},
   "outputs": [],
   "source": [
    "datos = collections.namedtuple(\"data\", datos.keys())(*datos.values())"
   ]
  },
  {
   "cell_type": "code",
   "execution_count": 64,
   "id": "719234bb-adac-45b6-97fd-c05657fe9f95",
   "metadata": {},
   "outputs": [
    {
     "data": {
      "text/plain": [
       "data(cod_ca=805, canhero='AGROP. TRES HNOS DEL ORIENTE', promedio=74.53333333333333)"
      ]
     },
     "execution_count": 64,
     "metadata": {},
     "output_type": "execute_result"
    }
   ],
   "source": [
    "datos"
   ]
  },
  {
   "cell_type": "code",
   "execution_count": 65,
   "id": "fc245fe8-0ff0-4619-9270-88a7b419add1",
   "metadata": {},
   "outputs": [],
   "source": [
    "ops = []\n",
    "for i in range(len(notas)):\n",
    "    fila = dict(notas.iloc[i])\n",
    "    ops.append(collections.namedtuple(\"op\", fila.keys())(*fila.values()))"
   ]
  },
  {
   "cell_type": "code",
   "execution_count": 66,
   "id": "5dae2cc1-4c71-44a4-83a9-9781ee89e0fa",
   "metadata": {},
   "outputs": [
    {
     "data": {
      "text/plain": [
       "[op(COD_CA=805, CANHERO='AGROP. TRES HNOS DEL ORIENTE', nombre='RICARDO POICHE', pra=0.0, ba=79.2, int=76.8, av=74.3, pr=76.76666666666667),\n",
       " op(COD_CA=805, CANHERO='AGROP. TRES HNOS DEL ORIENTE', nombre='AGUSTIN CASTRO RAMIREZ', pra=0.0, ba=77.8, int=75.2, av=63.9, pr=72.3)]"
      ]
     },
     "execution_count": 66,
     "metadata": {},
     "output_type": "execute_result"
    }
   ],
   "source": [
    "ops"
   ]
  },
  {
   "cell_type": "code",
   "execution_count": 90,
   "id": "0ba49a7f-a1fe-4a8e-8260-4198dcb1e700",
   "metadata": {},
   "outputs": [],
   "source": [
    "doc = DocxTemplate(\"template.docx\")\n",
    "context = {\n",
    "    'data':datos, \n",
    "    'ops':ops\n",
    "}\n",
    "doc.render(context)\n",
    "file_name = str(cod_ca) + \"_\" + canhero\n",
    "doc.save(file_name + '.docx')"
   ]
  },
  {
   "cell_type": "code",
   "execution_count": 91,
   "id": "0e91a5c4-a32e-4d39-b75c-765fd657986a",
   "metadata": {},
   "outputs": [],
   "source": []
  },
  {
   "cell_type": "code",
   "execution_count": 92,
   "id": "da5351aa-20a0-4eb2-8acc-092bf4584c7f",
   "metadata": {},
   "outputs": [],
   "source": []
  },
  {
   "cell_type": "code",
   "execution_count": 93,
   "id": "c6c93991-99ca-4344-b603-549f30678169",
   "metadata": {},
   "outputs": [],
   "source": [
    "file_name = str(cod_ca) + \"_\" + canhero\n",
    "doc.save(file_name + '.docx')"
   ]
  }
 ],
 "metadata": {
  "kernelspec": {
   "display_name": "Python 3 (ipykernel)",
   "language": "python",
   "name": "python3"
  },
  "language_info": {
   "codemirror_mode": {
    "name": "ipython",
    "version": 3
   },
   "file_extension": ".py",
   "mimetype": "text/x-python",
   "name": "python",
   "nbconvert_exporter": "python",
   "pygments_lexer": "ipython3",
   "version": "3.7.16"
  }
 },
 "nbformat": 4,
 "nbformat_minor": 5
}
