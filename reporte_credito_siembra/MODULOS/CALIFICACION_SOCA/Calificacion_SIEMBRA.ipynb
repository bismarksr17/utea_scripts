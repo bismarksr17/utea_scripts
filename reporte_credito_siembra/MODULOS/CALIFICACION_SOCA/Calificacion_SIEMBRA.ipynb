{
 "cells": [
  {
   "cell_type": "code",
   "execution_count": null,
   "id": "c5956e2b",
   "metadata": {},
   "outputs": [],
   "source": [
    "from amigocloud import AmigoCloud\n"
   ]
  },
  {
   "cell_type": "code",
   "execution_count": null,
   "id": "66af17fd",
   "metadata": {},
   "outputs": [],
   "source": [
    "amigocloud = AmigoCloud(token='')\n",
    "amigocloud"
   ]
  },
  {
   "cell_type": "code",
   "execution_count": null,
   "id": "2e7be8d2",
   "metadata": {
    "scrolled": true
   },
   "outputs": [],
   "source": [
    "query_siem = {'query': 'select muest_suelo, glifosato, nivelacion, drenaje, romeplow, rastra, subsolado, arado, rotacion, fert_base, enraizadores, insecticidas, fungicidas, pre_emergente from dataset_273464'}\n",
    "siem_select = amigocloud.get('https://app.amigocloud.com/api/v1/projects/30860/sql', query_siem)\n",
    "siem_data = siem_select['data']\n",
    "siem_data"
   ]
  },
  {
   "cell_type": "code",
   "execution_count": null,
   "id": "b1034b1c",
   "metadata": {},
   "outputs": [],
   "source": [
    "import pandas as pd"
   ]
  },
  {
   "cell_type": "code",
   "execution_count": null,
   "id": "224e521f",
   "metadata": {},
   "outputs": [],
   "source": [
    "df = pd.DataFrame(siem_data)"
   ]
  },
  {
   "cell_type": "code",
   "execution_count": null,
   "id": "a58a1fdc",
   "metadata": {},
   "outputs": [],
   "source": [
    "df"
   ]
  },
  {
   "cell_type": "code",
   "execution_count": null,
   "id": "7457f999",
   "metadata": {},
   "outputs": [],
   "source": [
    "df.rename(columns={'muest_suelo':'MUESTREO DE SUELOS', 'glifosato':'GLIFOSATO', 'nivelacion':'NIVELACION', 'drenaje':'DRENAJE', 'romeplow':'ROMEPLOW', 'rastra':'RASTRA', 'subsolado':'SUBSOLADO', 'arado':'ARADO', 'rotacion':'ROTACION', 'fert_base':'FERTILIZACION DE BASE', 'enraizadores':'ENRAIZADORES', 'insecticidas':'INSECTICIDAS', 'fungicidas':'FUNGICIDAS', 'pre_emergente':'PRE EMERGENTE'}, inplace=True)"
   ]
  },
  {
   "cell_type": "code",
   "execution_count": null,
   "id": "14637e4b",
   "metadata": {},
   "outputs": [],
   "source": [
    "df"
   ]
  },
  {
   "cell_type": "code",
   "execution_count": null,
   "id": "c19ecf7a",
   "metadata": {},
   "outputs": [],
   "source": [
    "df_aux = df.transpose()\n",
    "df_aux"
   ]
  },
  {
   "cell_type": "code",
   "execution_count": null,
   "id": "4c6d5d65",
   "metadata": {},
   "outputs": [],
   "source": [
    "d = pd.DataFrame()"
   ]
  },
  {
   "cell_type": "code",
   "execution_count": null,
   "id": "181de636",
   "metadata": {},
   "outputs": [],
   "source": [
    "d['Si'] = df.sum(axis=0)"
   ]
  },
  {
   "cell_type": "code",
   "execution_count": null,
   "id": "f201fb93",
   "metadata": {},
   "outputs": [],
   "source": [
    "dd=pd.DataFrame()\n",
    "dd['Si']=df.sum(axis=0)\n",
    "dd"
   ]
  },
  {
   "cell_type": "code",
   "execution_count": null,
   "id": "f30972a5",
   "metadata": {},
   "outputs": [],
   "source": [
    "d['Porcen'] = d['Si']/len(df_aux.columns)"
   ]
  },
  {
   "cell_type": "code",
   "execution_count": null,
   "id": "cda690a9",
   "metadata": {},
   "outputs": [],
   "source": [
    "d.reset_index(level=0, inplace=True)\n",
    "d"
   ]
  },
  {
   "cell_type": "code",
   "execution_count": null,
   "id": "40b9fa06",
   "metadata": {},
   "outputs": [],
   "source": [
    "'''''\n",
    "for fila in d.iloc:\n",
    "    query = {'query': 'insert into dataset_273487 (categoria, porcentaje) values(\\'{cat}\\', {porcen})'.format(cat=fila[0], porcen=fila[2])}\n",
    "    select = amigocloud.post('https://app.amigocloud.com/api/v1/projects/30837/sql', query)\n",
    "    print(query)\n",
    "'''''"
   ]
  },
  {
   "cell_type": "code",
   "execution_count": null,
   "id": "3adaf50c",
   "metadata": {},
   "outputs": [],
   "source": [
    "for fila in d.iloc:\n",
    "    query = {'query': 'update dataset_273945 set porcentaje = {porcen} where categoria = \\'{cat}\\''.format(porcen=fila[2], cat=fila[0])}\n",
    "    select = amigocloud.post('https://app.amigocloud.com/api/v1/projects/30860/sql', query)\n",
    "    print(query)"
   ]
  }
 ],
 "metadata": {
  "kernelspec": {
   "display_name": "Python 3 (ipykernel)",
   "language": "python",
   "name": "python3"
  },
  "language_info": {
   "codemirror_mode": {
    "name": "ipython",
    "version": 3
   },
   "file_extension": ".py",
   "mimetype": "text/x-python",
   "name": "python",
   "nbconvert_exporter": "python",
   "pygments_lexer": "ipython3",
   "version": "3.7.13"
  }
 },
 "nbformat": 4,
 "nbformat_minor": 5
}
