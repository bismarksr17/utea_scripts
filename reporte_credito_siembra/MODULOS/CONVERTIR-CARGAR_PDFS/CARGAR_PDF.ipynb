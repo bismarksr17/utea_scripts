{
 "cells": [
  {
   "cell_type": "markdown",
   "id": "18a80bc5",
   "metadata": {},
   "source": [
    "# INSTALAR LIBRERIAS"
   ]
  },
  {
   "cell_type": "code",
   "execution_count": 3,
   "id": "7e312719",
   "metadata": {},
   "outputs": [],
   "source": [
    "# !pip install docx2pdf\n",
    "#pip install ipywidgets"
   ]
  },
  {
   "cell_type": "markdown",
   "id": "7e934ca6",
   "metadata": {},
   "source": [
    "# IMPORTAR"
   ]
  },
  {
   "cell_type": "code",
   "execution_count": 1,
   "id": "508a28c7",
   "metadata": {},
   "outputs": [],
   "source": [
    "from docx2pdf import convert\n",
    "import os"
   ]
  },
  {
   "cell_type": "markdown",
   "id": "64ec4ba6",
   "metadata": {},
   "source": [
    "# CONSTRUIR LA RUTA DE LOS ARCHIVOS"
   ]
  },
  {
   "cell_type": "code",
   "execution_count": 2,
   "id": "cdd1c78b-ef20-462c-8de1-034c31d4b386",
   "metadata": {},
   "outputs": [],
   "source": [
    "# ruta de carpera donde estan las llaves\n",
    "ruta = open('../../../ruta.txt')\n",
    "ruta = ruta.readlines()[0]"
   ]
  },
  {
   "cell_type": "code",
   "execution_count": 3,
   "id": "1fc560f3",
   "metadata": {},
   "outputs": [
    {
     "name": "stdout",
     "output_type": "stream",
     "text": [
      "SE ENCONTRARON 5 INFORMES\n",
      "5 INFORMES\n"
     ]
    },
    {
     "data": {
      "text/plain": [
       "['D:\\\\OneDrive - Ingenio Azucarero Guabira S.A\\\\_DATOS_PYTHON/informes/12519_SAUCEDO CERRUTI ANDRES.docx',\n",
       " 'D:\\\\OneDrive - Ingenio Azucarero Guabira S.A\\\\_DATOS_PYTHON/informes/13067_SAUCEDO CERRUTI SONIA .docx',\n",
       " 'D:\\\\OneDrive - Ingenio Azucarero Guabira S.A\\\\_DATOS_PYTHON/informes/3400_ESPINOZA AGUILAR JAIME OMAR.docx',\n",
       " 'D:\\\\OneDrive - Ingenio Azucarero Guabira S.A\\\\_DATOS_PYTHON/informes/4528_GUZMAN ORELLANA GUSTAVO .docx',\n",
       " 'D:\\\\OneDrive - Ingenio Azucarero Guabira S.A\\\\_DATOS_PYTHON/informes/5006_GARCIA MARISCAL MILTON FELIX.docx']"
      ]
     },
     "execution_count": 3,
     "metadata": {},
     "output_type": "execute_result"
    }
   ],
   "source": [
    "# colocar aqui la ruta de los archivos\n",
    "path = ruta + r'/informes'\n",
    "contenido = os.listdir(path)\n",
    "rutas =[]\n",
    "i = 0\n",
    "for name in contenido:\n",
    "    rutas.append(path + '/' + name)\n",
    "    i+=1\n",
    "\n",
    "print('SE ENCONTRARON ' + str(i) + ' INFORMES')\n",
    "print(len(rutas), 'INFORMES')\n",
    "rutas"
   ]
  },
  {
   "cell_type": "markdown",
   "id": "6b9af706",
   "metadata": {
    "tags": []
   },
   "source": [
    "# INICIA EL PROCESO DE CONVERCIÓN"
   ]
  },
  {
   "cell_type": "code",
   "execution_count": 4,
   "id": "cdbc481d-e9f8-4a85-946f-4c45abd61e87",
   "metadata": {},
   "outputs": [
    {
     "data": {
      "text/plain": [
       "'D:\\\\OneDrive - Ingenio Azucarero Guabira S.A\\\\_DATOS_PYTHON/pdf/13067_SAUCEDO CERRUTI SONIA .pdf'"
      ]
     },
     "execution_count": 4,
     "metadata": {},
     "output_type": "execute_result"
    }
   ],
   "source": [
    "rutas[1].replace('.docx','.pdf').replace('informes','pdf')"
   ]
  },
  {
   "cell_type": "code",
   "execution_count": 5,
   "id": "13d4b150-97ec-4f5f-ae67-8494243a499a",
   "metadata": {},
   "outputs": [
    {
     "data": {
      "text/plain": [
       "'D:\\\\OneDrive - Ingenio Azucarero Guabira S.A\\\\_DATOS_PYTHON/pdf/13067_SAUCEDO CERRUTI SONIA .pdf'"
      ]
     },
     "execution_count": 5,
     "metadata": {},
     "output_type": "execute_result"
    }
   ],
   "source": [
    "rutas[1].replace('.docx','.pdf').replace('informes','pdf')"
   ]
  },
  {
   "cell_type": "code",
   "execution_count": 6,
   "id": "0f018b1e",
   "metadata": {
    "tags": []
   },
   "outputs": [
    {
     "name": "stdout",
     "output_type": "stream",
     "text": [
      "CONVIRTIENDO... INFORME 1 D:\\OneDrive - Ingenio Azucarero Guabira S.A\\_DATOS_PYTHON/informes/12519_SAUCEDO CERRUTI ANDRES.docx\n",
      "D:\\OneDrive - Ingenio Azucarero Guabira S.A\\_DATOS_PYTHON/informes/12519_SAUCEDO CERRUTI ANDRES.docx\n",
      "D:\\OneDrive - Ingenio Azucarero Guabira S.A\\_DATOS_PYTHON/pdfs/12519_SAUCEDO CERRUTI ANDRES.pdf\n"
     ]
    },
    {
     "data": {
      "application/vnd.jupyter.widget-view+json": {
       "model_id": "c3219db4a1a648c28c69cfdacfa25f91",
       "version_major": 2,
       "version_minor": 0
      },
      "text/plain": [
       "  0%|          | 0/1 [00:00<?, ?it/s]"
      ]
     },
     "metadata": {},
     "output_type": "display_data"
    },
    {
     "name": "stdout",
     "output_type": "stream",
     "text": [
      "CONVIRTIENDO... INFORME 2 D:\\OneDrive - Ingenio Azucarero Guabira S.A\\_DATOS_PYTHON/informes/13067_SAUCEDO CERRUTI SONIA .docx\n",
      "D:\\OneDrive - Ingenio Azucarero Guabira S.A\\_DATOS_PYTHON/informes/13067_SAUCEDO CERRUTI SONIA .docx\n",
      "D:\\OneDrive - Ingenio Azucarero Guabira S.A\\_DATOS_PYTHON/pdfs/13067_SAUCEDO CERRUTI SONIA .pdf\n"
     ]
    },
    {
     "data": {
      "application/vnd.jupyter.widget-view+json": {
       "model_id": "9623d06fa7854b81bad90891170f5c5a",
       "version_major": 2,
       "version_minor": 0
      },
      "text/plain": [
       "  0%|          | 0/1 [00:00<?, ?it/s]"
      ]
     },
     "metadata": {},
     "output_type": "display_data"
    },
    {
     "name": "stdout",
     "output_type": "stream",
     "text": [
      "CONVIRTIENDO... INFORME 3 D:\\OneDrive - Ingenio Azucarero Guabira S.A\\_DATOS_PYTHON/informes/3400_ESPINOZA AGUILAR JAIME OMAR.docx\n",
      "D:\\OneDrive - Ingenio Azucarero Guabira S.A\\_DATOS_PYTHON/informes/3400_ESPINOZA AGUILAR JAIME OMAR.docx\n",
      "D:\\OneDrive - Ingenio Azucarero Guabira S.A\\_DATOS_PYTHON/pdfs/3400_ESPINOZA AGUILAR JAIME OMAR.pdf\n"
     ]
    },
    {
     "data": {
      "application/vnd.jupyter.widget-view+json": {
       "model_id": "5147868bca4d40ed889e389edd4a3f9b",
       "version_major": 2,
       "version_minor": 0
      },
      "text/plain": [
       "  0%|          | 0/1 [00:00<?, ?it/s]"
      ]
     },
     "metadata": {},
     "output_type": "display_data"
    },
    {
     "name": "stdout",
     "output_type": "stream",
     "text": [
      "CONVIRTIENDO... INFORME 4 D:\\OneDrive - Ingenio Azucarero Guabira S.A\\_DATOS_PYTHON/informes/4528_GUZMAN ORELLANA GUSTAVO .docx\n",
      "D:\\OneDrive - Ingenio Azucarero Guabira S.A\\_DATOS_PYTHON/informes/4528_GUZMAN ORELLANA GUSTAVO .docx\n",
      "D:\\OneDrive - Ingenio Azucarero Guabira S.A\\_DATOS_PYTHON/pdfs/4528_GUZMAN ORELLANA GUSTAVO .pdf\n"
     ]
    },
    {
     "data": {
      "application/vnd.jupyter.widget-view+json": {
       "model_id": "bbeac8ad736648b9bf01e76e48cf7058",
       "version_major": 2,
       "version_minor": 0
      },
      "text/plain": [
       "  0%|          | 0/1 [00:00<?, ?it/s]"
      ]
     },
     "metadata": {},
     "output_type": "display_data"
    },
    {
     "name": "stdout",
     "output_type": "stream",
     "text": [
      "CONVIRTIENDO... INFORME 5 D:\\OneDrive - Ingenio Azucarero Guabira S.A\\_DATOS_PYTHON/informes/5006_GARCIA MARISCAL MILTON FELIX.docx\n",
      "D:\\OneDrive - Ingenio Azucarero Guabira S.A\\_DATOS_PYTHON/informes/5006_GARCIA MARISCAL MILTON FELIX.docx\n",
      "D:\\OneDrive - Ingenio Azucarero Guabira S.A\\_DATOS_PYTHON/pdfs/5006_GARCIA MARISCAL MILTON FELIX.pdf\n"
     ]
    },
    {
     "data": {
      "application/vnd.jupyter.widget-view+json": {
       "model_id": "b24e1b796b4a438db566f4324db0d31b",
       "version_major": 2,
       "version_minor": 0
      },
      "text/plain": [
       "  0%|          | 0/1 [00:00<?, ?it/s]"
      ]
     },
     "metadata": {},
     "output_type": "display_data"
    },
    {
     "name": "stdout",
     "output_type": "stream",
     "text": [
      "END\n"
     ]
    }
   ],
   "source": [
    "i = 1\n",
    "for filename in rutas:\n",
    "    print('CONVIRTIENDO... INFORME ' + str(i) + ' ' + filename)\n",
    "    # se realiza la convrsion pasando parametro de salida y entrada, \n",
    "    # para la salida se reemplaza la extencion y la ruta\n",
    "    print(filename)\n",
    "    print(filename.replace('.docx','.pdf').replace('informes','pdfs'))\n",
    "    pdf = filename.replace('.docx','.pdf').replace('informes','pdfs').split('/')[-1]\n",
    "    convert(filename, r'C:\\Users\\Bismar\\Downloads\\\\' + pdf)\n",
    "    i+=1\n",
    "print('END')"
   ]
  },
  {
   "cell_type": "markdown",
   "id": "455ef654-fe35-492c-8f69-3dc00102b0bb",
   "metadata": {},
   "source": [
    "# Leer archivos"
   ]
  },
  {
   "cell_type": "code",
   "execution_count": 10,
   "id": "df0f066e-d897-4ca6-a8cd-23b40ad41307",
   "metadata": {},
   "outputs": [
    {
     "name": "stdout",
     "output_type": "stream",
     "text": [
      "Your browser has been opened to visit:\n",
      "\n",
      "    https://accounts.google.com/o/oauth2/auth?client_id=1096764895697-57btfmtn7rdejufct5qq4j9mi61j0unl.apps.googleusercontent.com&redirect_uri=http%3A%2F%2Flocalhost%3A8080%2F&scope=https%3A%2F%2Fwww.googleapis.com%2Fauth%2Fdrive&access_type=offline&response_type=code\n",
      "\n",
      "Authentication successful.\n"
     ]
    }
   ],
   "source": [
    "# CONEXION A GOOGLE DRIVE\n",
    "from pydrive.auth import GoogleAuth\n",
    "from pydrive.drive import GoogleDrive\n",
    "gauth = GoogleAuth()\n",
    "gauth.LocalWebserverAuth() # client_secrets.json need to be in the same directory as the script\n",
    "drive = GoogleDrive(gauth)"
   ]
  },
  {
   "cell_type": "code",
   "execution_count": 11,
   "id": "5bc6184d-91a1-42a1-a809-84014f898d43",
   "metadata": {},
   "outputs": [
    {
     "name": "stdout",
     "output_type": "stream",
     "text": [
      "5 informes\n"
     ]
    },
    {
     "data": {
      "text/plain": [
       "{12519: '12519_SAUCEDO CERRUTI ANDRES.pdf',\n",
       " 13067: '13067_SAUCEDO CERRUTI SONIA .pdf',\n",
       " 3400: '3400_ESPINOZA AGUILAR JAIME OMAR.pdf',\n",
       " 4528: '4528_GUZMAN ORELLANA GUSTAVO .pdf',\n",
       " 5006: '5006_GARCIA MARISCAL MILTON FELIX.pdf'}"
      ]
     },
     "execution_count": 11,
     "metadata": {},
     "output_type": "execute_result"
    }
   ],
   "source": [
    "contenido = os.listdir(ruta + r'/pdf')\n",
    "dic_files = {}\n",
    "for file in contenido:\n",
    "    split = file.split('_')\n",
    "    dic_files[int(split[0])] = file\n",
    "print(len(dic_files), 'informes')\n",
    "dic_files"
   ]
  },
  {
   "cell_type": "markdown",
   "id": "68778c6d-31c1-4f6f-880c-5d3f2d04ed17",
   "metadata": {},
   "source": [
    "# CARGAR LOS PDFS A GOOGLE DRIVE"
   ]
  },
  {
   "cell_type": "code",
   "execution_count": 12,
   "id": "aaf8d01b-5324-4b14-a67d-a6162850efa2",
   "metadata": {},
   "outputs": [
    {
     "name": "stdout",
     "output_type": "stream",
     "text": [
      "Created file 12519_SAUCEDO CERRUTI ANDRES.pdf with mimeType application/pdf\n",
      "Created file 13067_SAUCEDO CERRUTI SONIA .pdf with mimeType application/pdf\n",
      "Created file 3400_ESPINOZA AGUILAR JAIME OMAR.pdf with mimeType application/pdf\n",
      "Created file 4528_GUZMAN ORELLANA GUSTAVO .pdf with mimeType application/pdf\n",
      "Created file 5006_GARCIA MARISCAL MILTON FELIX.pdf with mimeType application/pdf\n",
      "end\n"
     ]
    }
   ],
   "source": [
    "# CARGAR LOS PDFS A GOOGLE DRIVE\n",
    "dic_urls = {}\n",
    "# View all folders and file in your Google Drive\n",
    "fileList = drive.ListFile({'q': \"'root' in parents and trashed=false\"}).GetList()\n",
    "for file in fileList:\n",
    "  #print('Title: %s, ID: %s' % (file['title'], file['id']))\n",
    "  # Get the folder ID that you want\n",
    "  if(file['title'] == \"1RA_INSPECCION\"):\n",
    "      fileID = file['id']\n",
    "\n",
    "for file in dic_files:\n",
    "    file1 = drive.CreateFile({\"mimeType\": \"application/pdf\", \"parents\": [{\"kind\": \"drive#fileLink\", \"id\": fileID}]})\n",
    "    file1['title'] = dic_files[file]\n",
    "    file1.SetContentFile(ruta + r'/pdf//' + dic_files[file])\n",
    "    file1.Upload() # Upload the file.\n",
    "    print('Created file %s with mimeType %s' % (file1['title'], file1['mimeType']))\n",
    "    permission = file1.InsertPermission({\n",
    "                        'type': 'anyone',\n",
    "                        'value': 'anyone',\n",
    "                        'role': 'reader'})\n",
    "    dic_urls[file] = file1['alternateLink']\n",
    "dic_urls\n",
    "print('end')"
   ]
  },
  {
   "cell_type": "code",
   "execution_count": 13,
   "id": "6aceb417-cee6-413c-917f-f03bcba671b6",
   "metadata": {},
   "outputs": [
    {
     "name": "stdout",
     "output_type": "stream",
     "text": [
      "5 URLs\n"
     ]
    },
    {
     "data": {
      "text/plain": [
       "{12519: 'https://drive.google.com/file/d/1F1g8GuUUdAprpOercwx0DWhdA3vn3F1_/view?usp=drivesdk',\n",
       " 13067: 'https://drive.google.com/file/d/1OuDvYalSgOITxUcGupzXudE-8oqL3slF/view?usp=drivesdk',\n",
       " 3400: 'https://drive.google.com/file/d/1S0GbbelgGe2tQp9EL4wgCM3AcSpBWhd-/view?usp=drivesdk',\n",
       " 4528: 'https://drive.google.com/file/d/1wZJhpTooVS4S-sVmIjzY9zy-PS2azwCT/view?usp=drivesdk',\n",
       " 5006: 'https://drive.google.com/file/d/1shkqsKGLWJXlUV-FqiK6GmWvj20yqVsO/view?usp=drivesdk'}"
      ]
     },
     "execution_count": 13,
     "metadata": {},
     "output_type": "execute_result"
    }
   ],
   "source": [
    "print(len(dic_urls), 'URLs')\n",
    "dic_urls"
   ]
  },
  {
   "cell_type": "markdown",
   "id": "6063c8ed-d601-4164-9af1-e1c2dbc865d0",
   "metadata": {},
   "source": [
    "# conexion a amigocloud"
   ]
  },
  {
   "cell_type": "code",
   "execution_count": 15,
   "id": "f0d01517-62ff-4a1f-a49b-79646323127e",
   "metadata": {},
   "outputs": [],
   "source": [
    "from amigocloud import AmigoCloud"
   ]
  },
  {
   "cell_type": "code",
   "execution_count": 16,
   "id": "fea924a5-9048-42a8-b912-6604dc5b6539",
   "metadata": {},
   "outputs": [
    {
     "name": "stderr",
     "output_type": "stream",
     "text": [
      "WARNING:socketIO-client:app.amigocloud.com:443/v2_socket.io/socket.io [connection error] recv disconnected ([Errno 2] No such file or directory)\n"
     ]
    },
    {
     "data": {
      "text/plain": [
       "<amigocloud.amigocloud.AmigoCloud at 0x1354941a688>"
      ]
     },
     "execution_count": 16,
     "metadata": {},
     "output_type": "execute_result"
    }
   ],
   "source": [
    "# leer token\n",
    "acceso = open(ruta + '/_keys/api_amigocloud.key','r')\n",
    "api_token = acceso.readlines()[0]\n",
    "acceso.close()\n",
    "amigocloud = AmigoCloud(token=api_token)\n",
    "amigocloud"
   ]
  },
  {
   "cell_type": "code",
   "execution_count": 17,
   "id": "6ea99bee-0a6d-48a1-9833-6b8c2a62433a",
   "metadata": {},
   "outputs": [
    {
     "name": "stdout",
     "output_type": "stream",
     "text": [
      "12519\n",
      "13067\n",
      "3400\n",
      "4528\n",
      "5006\n",
      "end\n"
     ]
    }
   ],
   "source": [
    "for key in dic_urls:\n",
    "    query = {'query': 'update dataset_307560 set link_doc_1ra = \\'{link}\\' where cast(SPLIT_PART(canhero, \\' / \\', 1) as integer) = \\'{cod}\\''.format(link=dic_urls[key], cod=key)}\n",
    "    res = amigocloud.post('https://app.amigocloud.com/api/v1/projects/32672/sql', query)\n",
    "    print(key)\n",
    "print('end')"
   ]
  }
 ],
 "metadata": {
  "kernelspec": {
   "display_name": "Python 3 (ipykernel)",
   "language": "python",
   "name": "python3"
  },
  "language_info": {
   "codemirror_mode": {
    "name": "ipython",
    "version": 3
   },
   "file_extension": ".py",
   "mimetype": "text/x-python",
   "name": "python",
   "nbconvert_exporter": "python",
   "pygments_lexer": "ipython3",
   "version": "3.7.16"
  }
 },
 "nbformat": 4,
 "nbformat_minor": 5
}
