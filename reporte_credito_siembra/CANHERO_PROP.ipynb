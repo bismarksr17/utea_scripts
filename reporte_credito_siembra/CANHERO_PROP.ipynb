{
 "cells": [
  {
   "cell_type": "code",
   "execution_count": null,
   "id": "e5452892-0768-4541-8064-3d10d26bd942",
   "metadata": {},
   "outputs": [],
   "source": [
    "from amigocloud import AmigoCloud\n",
    "\n",
    "from shapely import wkb\n",
    "import geopandas\n",
    "import pandas as pd\n",
    "\n",
    "import ipywidgets as widgets\n",
    "from datetime import datetime"
   ]
  },
  {
   "cell_type": "code",
   "execution_count": null,
   "id": "af3c05da-bddc-4c62-9a7a-94f2c3ae1e73",
   "metadata": {},
   "outputs": [],
   "source": [
    "acceso = open('accesos/api.txt','r')\n",
    "api_token = acceso.readlines()[0]\n",
    "acceso.close()\n",
    "\n",
    "amigocloud = AmigoCloud(token=api_token)\n",
    "amigocloud"
   ]
  },
  {
   "cell_type": "code",
   "execution_count": null,
   "id": "dd742ff0-2962-4f9c-a54e-8ef1ae1c7c74",
   "metadata": {},
   "outputs": [],
   "source": [
    "\n",
    "# funcion para conversion de wkb a poligonos\n",
    "def convertir_wkb(wkb_data):\n",
    "    return wkb.loads(wkb_data, hex=True)[0]\n",
    "\n",
    "def get_canhero_prop(codigo):\n",
    "    # consulta sql para extraer los lotes de un credito\n",
    "    query = {'query': 'select codca cod_ca, ca__ero nombre, cod_prop, propiedad, round(sum(superficie)::numeric, 2) superf from dataset_287438 where codca=\\'{cod}\\' group by codca, ca__ero, cod_prop, propiedad'.format(cod=codigo)}\n",
    "    select = amigocloud.get('https://app.amigocloud.com/api/v1/projects/30232/sql', query)\n",
    "    data = select['data']\n",
    "    \n",
    "    # carga de datos seleccionados a DadaFrame\n",
    "    df = pd.DataFrame(data)\n",
    "    df['cod_prop'] = df['cod_prop'].apply(int)\n",
    "    # DataFrame a GeoDataFrame\n",
    "    # data = geopandas.GeoDataFrame(df, geometry='geometria')\n",
    "    # convercion a FeatureColleccion\n",
    "    # ee_lotes = ee.FeatureCollection(data.__geo_interface__)\n",
    "    return df\n",
    "\n",
    "def get_prop(codigo):\n",
    "    # consulta sql para extraer los lotes de un credito\n",
    "    query = {'query': 'select cod_prop, propiedad, codca, ca__ero, round(sum(superficie)::numeric, 2) from dataset_287438 where cod_prop={cod} group by codca, ca__ero, cod_prop, propiedad'.format(cod=codigo)}\n",
    "    select = amigocloud.get('https://app.amigocloud.com/api/v1/projects/30232/sql', query)\n",
    "    data = select['data']\n",
    "    \n",
    "    # carga de datos seleccionados a DadaFrame\n",
    "    df = pd.DataFrame(data)\n",
    "    #df['cod_prop'] = df['cod_prop'].apply(int)\n",
    "    # DataFrame a GeoDataFrame\n",
    "    # data = geopandas.GeoDataFrame(df, geometry='geometria')\n",
    "    # convercion a FeatureColleccion\n",
    "    # ee_lotes = ee.FeatureCollection(data.__geo_interface__)\n",
    "    return df\n",
    "\n",
    "out_props = widgets.Output(layout={'border': '1px solid black'})"
   ]
  },
  {
   "cell_type": "code",
   "execution_count": null,
   "id": "371387c6-7136-4127-8b57-de4ff75dfb7b",
   "metadata": {},
   "outputs": [],
   "source": [
    "COD_CA = 75\n",
    "\n",
    "\n",
    "out_props.clear_output()\n",
    "canero = get_canhero_prop(COD_CA)\n",
    "lista_cods = canero['cod_prop'].tolist()\n",
    "\n",
    "lista=[]\n",
    "for i in lista_cods:\n",
    "    res = get_prop(i)\n",
    "    with out_props:\n",
    "        display(res)\n",
    "\n",
    "canero"
   ]
  },
  {
   "cell_type": "markdown",
   "id": "98f6f6b9-41a4-420a-8b3d-cfa8fc6670fd",
   "metadata": {},
   "source": [
    "# PROPIEDADES"
   ]
  },
  {
   "cell_type": "code",
   "execution_count": null,
   "id": "7ee39bb1-06a9-469c-914b-d33dbcbd3001",
   "metadata": {},
   "outputs": [],
   "source": [
    "out_props"
   ]
  },
  {
   "cell_type": "code",
   "execution_count": null,
   "id": "dc233a97-a2ae-4f09-9e39-17b988d96773",
   "metadata": {},
   "outputs": [],
   "source": []
  },
  {
   "cell_type": "code",
   "execution_count": null,
   "id": "be3ac8cc-1dfa-46e5-bff4-d01e416ff52c",
   "metadata": {},
   "outputs": [],
   "source": []
  },
  {
   "cell_type": "code",
   "execution_count": null,
   "id": "db6ebd52-2770-441c-ac42-04dd3c2bec47",
   "metadata": {},
   "outputs": [],
   "source": []
  },
  {
   "cell_type": "code",
   "execution_count": null,
   "id": "d1657d1a-a40b-4229-8e2c-1843274c99c8",
   "metadata": {},
   "outputs": [],
   "source": []
  }
 ],
 "metadata": {
  "kernelspec": {
   "display_name": "Python 3 (ipykernel)",
   "language": "python",
   "name": "python3"
  },
  "language_info": {
   "codemirror_mode": {
    "name": "ipython",
    "version": 3
   },
   "file_extension": ".py",
   "mimetype": "text/x-python",
   "name": "python",
   "nbconvert_exporter": "python",
   "pygments_lexer": "ipython3",
   "version": "3.7.11"
  }
 },
 "nbformat": 4,
 "nbformat_minor": 5
}
