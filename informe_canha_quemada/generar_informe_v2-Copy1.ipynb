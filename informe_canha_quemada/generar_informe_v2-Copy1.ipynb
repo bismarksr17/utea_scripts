{
 "cells": [
  {
   "cell_type": "code",
   "execution_count": 1,
   "id": "2baf5c86-2323-453a-95fc-153c8a1a3b61",
   "metadata": {},
   "outputs": [],
   "source": [
    "import sys\n",
    "sys.path.append('../_amigocloud')"
   ]
  },
  {
   "cell_type": "code",
   "execution_count": 2,
   "id": "b8c951d1-11d5-4273-8820-1aa83140eaaf",
   "metadata": {
    "tags": []
   },
   "outputs": [],
   "source": [
    "from werkzeug.wrappers import Request, Response\n",
    "from jinja2 import Template\n",
    "from datetime import datetime, timedelta\n",
    "import collections\n",
    "from datetime import datetime\n",
    "from amigocloud import AmigoCloud\n",
    "import qrcode"
   ]
  },
  {
   "cell_type": "code",
   "execution_count": 3,
   "id": "8dca9a92-39f3-4932-8c7d-d98d94780be4",
   "metadata": {},
   "outputs": [],
   "source": [
    "from shapely import wkb\n",
    "import geopandas\n",
    "import pandas as pd\n",
    "import contextily as ctx\n",
    "import matplotlib.pyplot as plt\n",
    "\n",
    "def convertir_wkb(wkb_data):\n",
    "    return wkb.loads(wkb_data, hex=True)"
   ]
  },
  {
   "cell_type": "code",
   "execution_count": 3,
   "id": "282d6c78-9570-410e-ba0e-6569fb3639ff",
   "metadata": {
    "tags": []
   },
   "outputs": [
    {
     "data": {
      "text/plain": [
       "<amigocloud.amigocloud.AmigoCloud at 0x21b07883fa0>"
      ]
     },
     "execution_count": 3,
     "metadata": {},
     "output_type": "execute_result"
    }
   ],
   "source": [
    "ruta = open('../ruta.txt')\n",
    "ruta = ruta.readlines()[0]\n",
    "# leer token\n",
    "acceso = open(ruta + '/_keys/api_amigocloud.key','r')\n",
    "api_token = acceso.readlines()[0]\n",
    "acceso.close()\n",
    "amigocloud = AmigoCloud(token=api_token)\n",
    "amigocloud"
   ]
  },
  {
   "cell_type": "code",
   "execution_count": 4,
   "id": "f29d0d88-4ec4-4cc5-b7d3-8ffad2bc50d9",
   "metadata": {
    "tags": []
   },
   "outputs": [],
   "source": [
    "# CAÑA QUEMADA\n",
    "id_proyecto_quema = 31874\n",
    "id_dataset_quema = 292618"
   ]
  },
  {
   "cell_type": "markdown",
   "id": "03c41192-2f7a-4fbe-9dd3-828551d4199c",
   "metadata": {},
   "source": [
    "## convertir formato de fecha"
   ]
  },
  {
   "cell_type": "code",
   "execution_count": 5,
   "id": "8f20733d-57ba-4121-99a1-3d570ccd05c6",
   "metadata": {},
   "outputs": [],
   "source": [
    "# convierte de formato YYYY-mm-dd H:M:S+z a d/m/YYYY\n",
    "def convertir_formato_fecha(fecha):\n",
    "    new_formato = datetime.strptime(fecha, \"%Y-%m-%d %H:%M:%S%z\").strftime(\"%d/%m/%Y\")\n",
    "    return new_formato"
   ]
  },
  {
   "cell_type": "markdown",
   "id": "9b0370b9-e995-4c7e-8438-f2c380d67953",
   "metadata": {},
   "source": [
    "## ejecutar query"
   ]
  },
  {
   "cell_type": "code",
   "execution_count": 6,
   "id": "9933bb7f-4aed-4be6-9a6f-69554af38448",
   "metadata": {},
   "outputs": [],
   "source": [
    "# ejecuta cualquier query sql en el proyecto que se le indique\n",
    "# requiere el id de proyecto, query a ejecutar y tipo solicitud (get o post)\n",
    "def ejecutar_query_sql(id_project, query, tipo_sql):\n",
    "    # define la url del proyecto para ejecutar el querry\n",
    "    url_proyecto_sql = f'https://app.amigocloud.com/api/v1/projects/{id_project}/sql'\n",
    "    # crea la estructura de query para amigocloud\n",
    "    query_sql = {'query': query}\n",
    "    \n",
    "    resultado_get = ''\n",
    "    # eleige que tipo de solicitud se realizara (get o post)\n",
    "    if tipo_sql == 'get': \n",
    "        resultado_get = amigocloud.get(url_proyecto_sql, query_sql)\n",
    "    elif tipo_sql == 'post':\n",
    "        resultado_get = amigocloud.post(url_proyecto_sql, query_sql)\n",
    "    else:\n",
    "        resultado_get = 'Se a seleccionado un tipo de solicitud erroneo.'\n",
    "    return resultado_get"
   ]
  },
  {
   "cell_type": "markdown",
   "id": "9f12bb02-499c-4cbb-ae8e-2199de6f22b5",
   "metadata": {},
   "source": [
    "## ejecuta query segun id_query (ejecucion de queryes de un proyecto)"
   ]
  },
  {
   "cell_type": "code",
   "execution_count": 28,
   "id": "e09e30dd-00cf-43bc-b4cb-e82e4384434e",
   "metadata": {},
   "outputs": [],
   "source": [
    "# ejecuta un query que esta almacenado en un proyecto de amigocloud (generalmente un update),\n",
    "# requiere id de proyecto e id de query\n",
    "# retorna cuantas filas fueron afectadas\n",
    "def ejecutar_query_por_id(id_project, id_query):\n",
    "    # obtiene el query basado en el id_project y el id_query\n",
    "    get_query = amigocloud.get(f'https://app.amigocloud.com/api/v1/projects/{id_project}/queries/{id_query}')\n",
    "    # se extrae solo el texto del query\n",
    "    query = get_query['query']\n",
    "    # ejecuta el query_sql con metodo post y guarda la respuesta\n",
    "    respuesta_post = ejecutar_query_sql(id_project, query, 'post')\n",
    "    # retorna el numero de filas afectadas por el query\n",
    "    return respuesta_post['count']"
   ]
  },
  {
   "cell_type": "markdown",
   "id": "39038ce1-d485-4cf9-a857-5fc479f19e63",
   "metadata": {},
   "source": [
    "## generar qr"
   ]
  },
  {
   "cell_type": "code",
   "execution_count": 8,
   "id": "77fc2f02-beea-4497-a0c5-b93c163e0a74",
   "metadata": {},
   "outputs": [],
   "source": [
    "# genera un qr con datos texto que le se envie\n",
    "# requiere le texto de contenido, ruta donde se guardara el qr y nombre para guardar\n",
    "def generar_qr(contenido_qr, ruta_save, id_name):\n",
    "    # declara obj del qrocode\n",
    "    qr = qrcode.QRCode(\n",
    "        version=1,\n",
    "        error_correction=qrcode.constants.ERROR_CORRECT_L,\n",
    "        box_size=10,\n",
    "        border=4)\n",
    "    # se agrega el contenido del qr\n",
    "    qr.add_data(contenido_qr)\n",
    "    qr.make(fit=True)\n",
    "    # define colores del qr\n",
    "    img = qr.make_image(fill_color=\"black\", back_color=\"white\")\n",
    "    # define ruta y nombre para guardar el qr\n",
    "    ruta_qr = ruta_save + id_name + '.png'\n",
    "    # guardar el código QR en un archivo .png\n",
    "    img.save(ruta_qr)\n",
    "    # retorna la ruta del qr\n",
    "    return ruta_qr"
   ]
  },
  {
   "cell_type": "markdown",
   "id": "cf1192fe-1c56-4695-ab5a-37ae07abccb4",
   "metadata": {},
   "source": [
    "## convertir un dict a obj"
   ]
  },
  {
   "cell_type": "code",
   "execution_count": 9,
   "id": "9bdfafde-b2df-4f3e-97c0-a68110061004",
   "metadata": {},
   "outputs": [],
   "source": [
    "# convierte un dict a un obj\n",
    "# recibe el dict y el nombre con el que se creara el obj\n",
    "def convertir_dict_obj(diccionario, name):\n",
    "    return collections.namedtuple(name, diccionario.keys())(*diccionario.values())"
   ]
  },
  {
   "cell_type": "markdown",
   "id": "67907d10-f0b9-439e-bdd0-c1d25978b510",
   "metadata": {},
   "source": [
    "## buscar fotos"
   ]
  },
  {
   "cell_type": "code",
   "execution_count": 10,
   "id": "9cb51d79-e6f9-4d3c-b49a-542146b960d4",
   "metadata": {},
   "outputs": [],
   "source": [
    "# busca las fotos en una galeria determinada, y que corresponda con un id\n",
    "# recibe el nombre de una galeria y el id correspondiente\n",
    "def buscar_fotos(galeria, source_id):\n",
    "    # se construye el query\n",
    "    query_sql = f\"select * from {galeria} where source_amigo_id='{source_id}'\"\n",
    "    # se ejecuta el query con un metodo get\n",
    "    respuesta = ejecutar_query_sql(id_proyecto, query_sql, 'get')\n",
    "    # retorna un json completo de las fotos encontradas\n",
    "    return respuesta"
   ]
  },
  {
   "cell_type": "markdown",
   "id": "910f6f46-8af3-4371-96e0-2efc6ba4f6d5",
   "metadata": {
    "tags": []
   },
   "source": [
    "## descargar la lista de fotos y convertir a inline"
   ]
  },
  {
   "cell_type": "code",
   "execution_count": 11,
   "id": "2ea88db3-2888-470c-a036-a190582008be",
   "metadata": {},
   "outputs": [],
   "source": [
    "# converir img en inline\n",
    "# recibe el documento sobre el que se agrega el inline, la ruta de la imagen, y en ancho de la imagen para agregar al doc\n",
    "def convertir_img_to_inline(docu, filename, ancho):\n",
    "    return docxtpl.InlineImage(docu, image_descriptor = filename, width=Mm(ancho))"
   ]
  },
  {
   "cell_type": "code",
   "execution_count": 12,
   "id": "49fb2a5a-e52f-43f5-95ae-ef1344ea2a01",
   "metadata": {},
   "outputs": [],
   "source": [
    "# descarga las fotos, las convierte en inline\n",
    "# recibe la lista de fotos (json, con estructura de galeria de amigocloud), ruta donde guardar las fotos y documento sobre el que se agrega los inline\n",
    "def descargar_convertir_fotos_inline(lista_fotos, ruta_save, documento):\n",
    "    # crea lista vacia para acumular las fotos inline\n",
    "    lista_fotos_inline = []\n",
    "    # recorre la lista de fotos (json)\n",
    "    for foto in lista_fotos:\n",
    "        # posos para descargar img\n",
    "        response = requests.get(\"https://www-amigocloud.s3.amazonaws.com/gallery/\" + foto['s3_filename'])\n",
    "        file_name = ruta_save + foto['s3_filename']\n",
    "        file = open(file_name, \"wb\")\n",
    "        file.write(response.content)\n",
    "        file.close()\n",
    "        # convertir imagen descargada a inline\n",
    "        inline_img = convertir_img_to_inline(documento, file_name, 60)\n",
    "        # agrega el inline a la lista\n",
    "        lista_fotos_inline.append(inline_img)\n",
    "    # retorna la lista inline\n",
    "    return lista_fotos_inline"
   ]
  },
  {
   "cell_type": "markdown",
   "id": "bff94dda-3828-460d-91e9-5b05ccbce7d3",
   "metadata": {
    "tags": []
   },
   "source": [
    "## modificar reporte generado"
   ]
  },
  {
   "cell_type": "code",
   "execution_count": 18,
   "id": "24158369-8256-450c-8e5e-13983e7aefb2",
   "metadata": {},
   "outputs": [],
   "source": [
    "# coloca en true el estado de reporte\n",
    "# recibe el id del registro\n",
    "def modificar_reporte_generado(id_reg):\n",
    "    query = f'update dataset_341171 set informe_generado = true where id={id_reg}'\n",
    "    ejecutar = ejecutar_query_sql(id_proyecto, query, 'post')\n",
    "    # retorna la cantidad de registro modificados\n",
    "    return ejecutar['count']"
   ]
  },
  {
   "cell_type": "code",
   "execution_count": 25,
   "id": "87fe688f-128b-4d31-b1e0-e3732a32a825",
   "metadata": {},
   "outputs": [],
   "source": [
    "def verificar_registros_nuevos(id_dataset):\n",
    "    #ejecutar_query_por_id(id_proyecto, 6340)\n",
    "    query = f'select id from dataset_{id_dataset} where informe_generado = false'\n",
    "    # ejecucion del query\n",
    "    select = ejecutar_query_sql(id_proyecto_quema, query, 'get')\n",
    "    # extrae la seccion de data\n",
    "    data = select['data']\n",
    "    # convierte data a lista de ids\n",
    "    lista_ids = [dato['id'] for dato in data]\n",
    "    # modificacion a la lista para que solo genere 2 ids\n",
    "    # lista_ids = [69, 54]\n",
    "    return lista_ids"
   ]
  },
  {
   "cell_type": "code",
   "execution_count": null,
   "id": "06b3344d-cca3-4b76-b7cc-c69ee81b1849",
   "metadata": {},
   "outputs": [],
   "source": []
  },
  {
   "cell_type": "code",
   "execution_count": 26,
   "id": "b08e9eb1-84ae-4f3a-bb3b-ca2f8f164ff3",
   "metadata": {},
   "outputs": [
    {
     "data": {
      "text/plain": [
       "[156]"
      ]
     },
     "execution_count": 26,
     "metadata": {},
     "output_type": "execute_result"
    }
   ],
   "source": [
    "ids_quemas = verificar_registros_nuevos(id_dataset_quema)\n",
    "ids_quemas"
   ]
  },
  {
   "cell_type": "code",
   "execution_count": 29,
   "id": "a1a5b137-859a-4cbe-8fea-8cdcb62fb054",
   "metadata": {},
   "outputs": [],
   "source": [
    "res = ejecutar_query_por_id(id_proyecto_quema, 5078)"
   ]
  },
  {
   "cell_type": "code",
   "execution_count": 30,
   "id": "dc6c865a-4ae2-4828-b20f-8348704083e0",
   "metadata": {},
   "outputs": [
    {
     "data": {
      "text/plain": [
       "2"
      ]
     },
     "execution_count": 30,
     "metadata": {},
     "output_type": "execute_result"
    }
   ],
   "source": [
    "res"
   ]
  },
  {
   "cell_type": "code",
   "execution_count": null,
   "id": "8f8fbb85-ef6d-4ab3-a7a5-6fee7898780c",
   "metadata": {},
   "outputs": [],
   "source": [
    "for i in ids_quemas:\n",
    "    generar_informe_quema(i)"
   ]
  },
  {
   "cell_type": "code",
   "execution_count": null,
   "id": "c19e358c-8e63-4cad-8d83-66d82ede7dc2",
   "metadata": {},
   "outputs": [],
   "source": []
  },
  {
   "cell_type": "code",
   "execution_count": null,
   "id": "faadfcdc-3003-44bc-b9b1-db446ef05c11",
   "metadata": {},
   "outputs": [],
   "source": []
  },
  {
   "cell_type": "markdown",
   "id": "22921543-89ff-46fb-bf97-ad91307ee033",
   "metadata": {},
   "source": [
    "## generar reporte quemas"
   ]
  },
  {
   "cell_type": "code",
   "execution_count": 32,
   "id": "8d424f54-88d7-448c-8a00-456a72f26ca9",
   "metadata": {},
   "outputs": [],
   "source": [
    "def generar_informe_quema(id_insp):\n",
    "    # DATOS DE LAS INPECCION\n",
    "    query = f'select CURRENT_DATE, * from dataset_{id_proyecto_quema} where id = {id_insp}'\n",
    "    select = ejecutar_query_sql(id_proyecto_quema, query, 'get')\n",
    "    data = select['data'][0]\n",
    "    data['date'] = convertir_formato_fecha(data['date'])\n",
    "    data['fecha_quema'] = convertir_formato_fecha(data['fecha_quema'])\n",
    "    data['fecha_inspeccion'] = convertir_formato_fecha(data['fecha_inspeccion'])\n",
    "    insp = convertir_dict_obj(data, 'insp')\n",
    "    \n",
    "    # DATOS DE LA PROPIEDAD\n",
    "    query = f\"select * from dataset_293179 where insp_ref_prop = '{insp.amigo_id}'\"\n",
    "    select = ejecutar_query_sql(id_proyecto_quema, query, 'get')\n",
    "    propiedades_data = select['data']\n",
    "    \n",
    "    # RECORRER LOTES\n",
    "    propiedades = []\n",
    "    for prop in propiedades_data:\n",
    "        prop['lote'] = []\n",
    "        query_lotes = f\"select * from dataset_293180 where prop_ref_lote = '{prop['amigo_id']}'\"\n",
    "        lotes_select = ejecutar_query_sql(id_proyecto_quema, query_lotes, 'get')\n",
    "        for lote_select in lotes_select['data']:\n",
    "            lote = convertir_dict_obj(lote_select, 'lote')\n",
    "            prop['lote'].append(lote)\n",
    "        propiedades.append(convertir_dict_obj(prop, 'propiedad'))\n",
    "        \n",
    "    # selecciona todas las fotos y nombre de lotes basado en el id de la inspeccion\n",
    "    query_fotos = f'select l.lote, g.s3_filename file_name from gallery_42303 g\\\n",
    "                                inner join dataset_293180 l on l.amigo_id = g.source_amigo_id\\\n",
    "                                inner join dataset_293179 p on p.amigo_id = l.prop_ref_lote\\\n",
    "                                inner join dataset_292618 i on i.amigo_id = p.insp_ref_prop\\\n",
    "                                where i.id = {id_insp}'\n",
    "    select = ejecutar_query_sql(id_proyecto_quema, query_fotos, 'get')\n",
    "    fotos = select['data']\n",
    "\n",
    "    # GENERERAR PLANOS\n",
    "    i = 0\n",
    "    lista_planos = []\n",
    "    for propiedad in propiedades:\n",
    "        i = i + 1\n",
    "        lista_planos.append(generar_plano(propiedad, i))"
   ]
  },
  {
   "cell_type": "code",
   "execution_count": null,
   "id": "b2d77705-9f31-4de8-a252-fb1c388e372a",
   "metadata": {},
   "outputs": [],
   "source": []
  },
  {
   "cell_type": "code",
   "execution_count": null,
   "id": "a713ab64-f332-42fb-bd73-b87e0b633f83",
   "metadata": {},
   "outputs": [],
   "source": [
    "def generar_plano(propiedad, i):\n",
    "    lotes_lista = []\n",
    "    for lote in propiedad.lote:\n",
    "        lotes_lista.append(lote._asdict())\n",
    "    df = pd.DataFrame(lotes_lista)\n",
    "    df['geometria'] = df['geometria'].apply(convertir_wkb)\n",
    "\n",
    "    #Convertir a GeoDataFrame\n",
    "    data = geopandas.GeoDataFrame(df, geometry='geometria')\n",
    "    #data\n",
    "    #ctx.add_basemap(ax, source=ctx.providers.Esri.WorldImagery)\n",
    "\n",
    "    data['coords'] = data['geometria'].apply(lambda x: x.representative_point().coords[:])\n",
    "    data['coords'] = [coords[0] for coords in data['coords']]\n",
    "\n",
    "    data.crs = \"EPSG:4326\"\n",
    "    data = data.to_crs(epsg=3857)\n",
    "\n",
    "    \n",
    "    fig = plt.figure(i, figsize=(20,20))\n",
    "    #fig = plt.figure(1)\n",
    "    ax = None\n",
    "    ax = fig.add_subplot()\n",
    "\n",
    "    #data.set_crs(epsg=4326, inplace=True)\n",
    "\n",
    "    data.apply(lambda x: ax.annotate(text=x.lote + ' \\n' + str(x.superficie) + ' ha', xy=x.geometria.centroid.coords[0], ha='center', va='center', color='black', fontsize=12, weight=1000, bbox=dict(facecolor=(1,1,1,0.3), edgecolor='none', pad=0)), axis=1);\n",
    "\n",
    "    #data.boundary.plot(ax=ax, color=(0,0,0,0), linewidth=0)\n",
    "\n",
    "    #data = data.to_crs(epsg=3857)\n",
    "\n",
    "    minx, miny, maxx, maxy = data.total_bounds\n",
    "    ax.set_xlim(minx - 500, maxx + 500)\n",
    "    ax.set_ylim(miny - 400, maxy + 400)\n",
    "\n",
    "    data.plot(ax=ax, edgecolor='r', facecolor=(0,0,0,0), linewidth=2, figsize=(20,20))\n",
    "    #data.plot(ax=ax, edgecolor='r', facecolor=(0,0,0,0), linewidth=2)\n",
    "    \n",
    "    ctx.add_basemap(ax, source=ctx.providers.Esri.WorldImagery)\n",
    "    ax.set_axis_off()\n",
    "    ax.set_title(str(propiedad.propiedad), fontsize=20)\n",
    "    path = ruta + '/planos/' + str(insp.amigo_id) + '_' + str(propiedad.amigo_id) + '.jpeg'\n",
    "    lista_planos.append(path)\n",
    "    fig.savefig(path, dpi = 300, bbox_inches='tight')\n",
    "\n",
    "    plt.clf()\n",
    "    return path"
   ]
  },
  {
   "cell_type": "code",
   "execution_count": null,
   "id": "9f8e0c1b-5719-4fe1-9e04-838a5417c2dc",
   "metadata": {},
   "outputs": [],
   "source": []
  },
  {
   "cell_type": "code",
   "execution_count": null,
   "id": "e4423fe6-3674-40b5-97a4-9505c5687929",
   "metadata": {},
   "outputs": [],
   "source": []
  },
  {
   "cell_type": "code",
   "execution_count": null,
   "id": "82a75047-23c1-4eb0-b3d1-6ba18f1058af",
   "metadata": {},
   "outputs": [],
   "source": []
  },
  {
   "cell_type": "code",
   "execution_count": null,
   "id": "0f01e03a-cdc2-4767-a22c-f21ffedf6264",
   "metadata": {},
   "outputs": [],
   "source": []
  },
  {
   "cell_type": "code",
   "execution_count": 53,
   "id": "c3a91f61-180e-4ed6-ae78-f0aaa925ad31",
   "metadata": {
    "tags": []
   },
   "outputs": [],
   "source": [
    "from docxtpl import DocxTemplate\n",
    "import docxtpl\n",
    "from docx.shared import Mm\n",
    "\n",
    "import requests\n",
    "\n",
    "doc = DocxTemplate(ruta + \"/templates/tpl_infome_quema.docx\")\n",
    "\n",
    "#generar lista de InlineImage de planos \n",
    "lista_InlineImage = []\n",
    "for plano in lista_planos:\n",
    "    lista_InlineImage.append(docxtpl.InlineImage(doc, image_descriptor=plano, width=Mm(150)))\n",
    "\n",
    "#descargar fotos y generar lista InlineImage\n",
    "lista_fotos_inline = []\n",
    "for foto in fotos:\n",
    "    #response = requests.get(\"https://www-amigocloud.s3.amazonaws.com/gallery/\" + foto['file_name'])\n",
    "    response = requests.get(\"https://www-amigocloud.s3.amazonaws.com/gallery/\" + foto['file_name'])\n",
    "    file = open(ruta + '/fotos/' + foto['file_name'], \"wb\")\n",
    "    file.write(response.content)\n",
    "    file.close()\n",
    "    lista_fotos_inline.append({'foto': docxtpl.InlineImage(doc, image_descriptor= ruta + '/fotos/' + foto['file_name'], width=Mm(120)), 'lote': foto['lote']})\n",
    "\n",
    "firma_respon = None\n",
    "if insp.responsable == 'Rogelio Acuña Rodríguez':\n",
    "    firma_respon = docxtpl.InlineImage(doc, image_descriptor=ruta + '/templates/firma_rogelio.png', width=Mm(60))\n",
    "else:\n",
    "    firma_respon = docxtpl.InlineImage(doc, image_descriptor=ruta + '/templates/firma_jaldin.png', width=Mm(60))\n",
    "\n",
    "context = {'insp':insp, 'propiedades':propiedades, 'planos':lista_InlineImage, 'fotos':lista_fotos_inline, 'firma':firma_respon}\n",
    "\n",
    "doc.render(context)\n",
    "\n",
    "# formato de nombre de archivo: \"123_CQ_01-01-2022_NOMBRE\"\n",
    "cod_nom = insp.canhero.split(' / ')\n",
    "file_name = cod_nom[0] + '_CAQ_' + insp.fecha_inspeccion.replace('/','-') + '_' + cod_nom[1] + '_' + str(insp.id)\n",
    "\n",
    "doc.save(ruta + '/informes/_' + file_name + '.docx')"
   ]
  },
  {
   "cell_type": "code",
   "execution_count": null,
   "id": "95bce4ef-6cd9-4fce-8da2-a186661ca538",
   "metadata": {},
   "outputs": [],
   "source": []
  },
  {
   "cell_type": "code",
   "execution_count": null,
   "id": "a80f97b8-7797-4c97-b75d-4b438d6e38c4",
   "metadata": {},
   "outputs": [],
   "source": []
  }
 ],
 "metadata": {
  "kernelspec": {
   "display_name": "Python 3 (ipykernel)",
   "language": "python",
   "name": "python3"
  },
  "language_info": {
   "codemirror_mode": {
    "name": "ipython",
    "version": 3
   },
   "file_extension": ".py",
   "mimetype": "text/x-python",
   "name": "python",
   "nbconvert_exporter": "python",
   "pygments_lexer": "ipython3",
   "version": "3.10.13"
  }
 },
 "nbformat": 4,
 "nbformat_minor": 5
}
