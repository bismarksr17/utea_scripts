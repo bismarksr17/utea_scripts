{
 "cells": [
  {
   "cell_type": "code",
   "execution_count": 2,
   "id": "b8c951d1-11d5-4273-8820-1aa83140eaaf",
   "metadata": {},
   "outputs": [],
   "source": [
    "from werkzeug.wrappers import Request, Response\n",
    "from jinja2 import Template\n",
    "from datetime import datetime, timedelta\n",
    "import collections\n",
    "from datetime import datetime\n",
    "\n",
    "from amigocloud import AmigoCloud"
   ]
  },
  {
   "cell_type": "code",
   "execution_count": 12,
   "id": "d8ffe596-3c24-4b73-859a-9656480190cc",
   "metadata": {},
   "outputs": [],
   "source": [
    "import pandas as pd"
   ]
  },
  {
   "cell_type": "code",
   "execution_count": 3,
   "id": "282d6c78-9570-410e-ba0e-6569fb3639ff",
   "metadata": {},
   "outputs": [
    {
     "data": {
      "text/plain": [
       "<amigocloud.amigocloud.AmigoCloud at 0x213ea6358c8>"
      ]
     },
     "execution_count": 3,
     "metadata": {},
     "output_type": "execute_result"
    }
   ],
   "source": [
    "# ruta de carpera donde estan las llaves\n",
    "ruta = open('../ruta.txt')\n",
    "ruta = ruta.readlines()[0]\n",
    "\n",
    "# leer token\n",
    "acceso = open(ruta + '/_keys/api_amigocloud.key','r')\n",
    "api_token = acceso.readlines()[0]\n",
    "acceso.close()\n",
    "amigocloud = AmigoCloud(token=api_token)\n",
    "amigocloud"
   ]
  },
  {
   "cell_type": "code",
   "execution_count": 4,
   "id": "f29d0d88-4ec4-4cc5-b7d3-8ffad2bc50d9",
   "metadata": {},
   "outputs": [
    {
     "data": {
      "text/plain": [
       "'G:\\\\OneDrive - Ingenio Azucarero Guabira S.A\\\\_DATOS_PYTHON'"
      ]
     },
     "execution_count": 4,
     "metadata": {},
     "output_type": "execute_result"
    }
   ],
   "source": [
    "ruta"
   ]
  },
  {
   "cell_type": "code",
   "execution_count": null,
   "id": "30052f18-872e-4ed5-af74-736cb52598a9",
   "metadata": {},
   "outputs": [],
   "source": []
  },
  {
   "cell_type": "code",
   "execution_count": 8,
   "id": "5f0caa5d-37cd-489a-92c1-6283512095ac",
   "metadata": {},
   "outputs": [],
   "source": [
    "query_new = {'query' : 'select id, canhero from dataset_292618 where canhero is not null and (link_informe is null or link_informe=\\'\\')'}\n",
    "project = 'https://app.amigocloud.com/api/v1/projects/31874/sql'\n",
    "select_new = amigocloud.get(project, query_new)"
   ]
  },
  {
   "cell_type": "code",
   "execution_count": 10,
   "id": "e5becf32-2d1d-4aca-bfc9-31c0bfba9f5e",
   "metadata": {},
   "outputs": [
    {
     "data": {
      "text/plain": [
       "[{'id': 110, 'canhero': '40256 / INSERVA DAMIANA S.R.L.'},\n",
       " {'id': 89, 'canhero': '7506 / LOHENER ROSENDA SHEILA PAZ DE'},\n",
       " {'id': 90, 'canhero': '5011 / FRANCO ARIAS GREGORIO'}]"
      ]
     },
     "execution_count": 10,
     "metadata": {},
     "output_type": "execute_result"
    }
   ],
   "source": [
    "select_new['data']"
   ]
  },
  {
   "cell_type": "code",
   "execution_count": 13,
   "id": "f21c4fc7-0c8b-44e0-9932-acf7286dd87e",
   "metadata": {},
   "outputs": [],
   "source": [
    "df_select = pd.DataFrame(select_new['data'])"
   ]
  },
  {
   "cell_type": "code",
   "execution_count": 14,
   "id": "623711d3-79dc-4ca3-8449-72f0cefc5056",
   "metadata": {},
   "outputs": [
    {
     "data": {
      "text/html": [
       "<div>\n",
       "<style scoped>\n",
       "    .dataframe tbody tr th:only-of-type {\n",
       "        vertical-align: middle;\n",
       "    }\n",
       "\n",
       "    .dataframe tbody tr th {\n",
       "        vertical-align: top;\n",
       "    }\n",
       "\n",
       "    .dataframe thead th {\n",
       "        text-align: right;\n",
       "    }\n",
       "</style>\n",
       "<table border=\"1\" class=\"dataframe\">\n",
       "  <thead>\n",
       "    <tr style=\"text-align: right;\">\n",
       "      <th></th>\n",
       "      <th>id</th>\n",
       "      <th>canhero</th>\n",
       "    </tr>\n",
       "  </thead>\n",
       "  <tbody>\n",
       "    <tr>\n",
       "      <th>0</th>\n",
       "      <td>110</td>\n",
       "      <td>40256 / INSERVA DAMIANA S.R.L.</td>\n",
       "    </tr>\n",
       "    <tr>\n",
       "      <th>1</th>\n",
       "      <td>89</td>\n",
       "      <td>7506 / LOHENER ROSENDA SHEILA PAZ DE</td>\n",
       "    </tr>\n",
       "    <tr>\n",
       "      <th>2</th>\n",
       "      <td>90</td>\n",
       "      <td>5011 / FRANCO ARIAS GREGORIO</td>\n",
       "    </tr>\n",
       "  </tbody>\n",
       "</table>\n",
       "</div>"
      ],
      "text/plain": [
       "    id                               canhero\n",
       "0  110        40256 / INSERVA DAMIANA S.R.L.\n",
       "1   89  7506 / LOHENER ROSENDA SHEILA PAZ DE\n",
       "2   90          5011 / FRANCO ARIAS GREGORIO"
      ]
     },
     "execution_count": 14,
     "metadata": {},
     "output_type": "execute_result"
    }
   ],
   "source": [
    "df_select"
   ]
  },
  {
   "cell_type": "code",
   "execution_count": 29,
   "id": "f514d0d4-8072-4394-bda3-c750ed9f4dd3",
   "metadata": {},
   "outputs": [
    {
     "name": "stdout",
     "output_type": "stream",
     "text": [
      "110\n",
      "89\n",
      "90\n"
     ]
    }
   ],
   "source": [
    "for i, r in df_select.iterrows():\n",
    "    print(r[0])"
   ]
  },
  {
   "cell_type": "code",
   "execution_count": null,
   "id": "ca6ba905-2bcc-4563-8216-1ca1e6ba9e9c",
   "metadata": {},
   "outputs": [],
   "source": []
  },
  {
   "cell_type": "code",
   "execution_count": null,
   "id": "aa01157f-acbc-4e70-b3be-bfff2038206e",
   "metadata": {},
   "outputs": [],
   "source": [
    "def generar_reporte(cod):\n",
    "    id = cod\n",
    "    # DATOS DE LAS INPECCION\n",
    "    #obtener datos de inspeccion\n",
    "    query = {'query': 'select CURRENT_DATE, * from dataset_292618 where id = {id}'.format(id=id)}\n",
    "    project = 'https://app.amigocloud.com/api/v1/projects/31874/sql'\n",
    "    select = amigocloud.get(project, query)\n",
    "    data = select['data'][0]\n",
    "    #cambio de formato de la fecha\n",
    "    data['date'] = datetime.strptime(data['date'][0:10], '%Y-%m-%d').strftime('%d/%m/%Y')\n",
    "    data['fecha_quema'] = datetime.strptime(data['fecha_quema'][0:10], '%Y-%m-%d').strftime('%d/%m/%Y')\n",
    "    data['fecha_inspeccion'] = datetime.strptime(data['fecha_inspeccion'][0:10], '%Y-%m-%d').strftime('%d/%m/%Y')\n",
    "    #conversion a coleecion\n",
    "    insp = collections.namedtuple(\"insp\", data.keys())(*data.values())\n",
    "    \n",
    "    # DATOS DE LA PROPIEDAD\n",
    "    query = {'query': 'select * from dataset_293179 where insp_ref_prop = \\'{insp_ref_prop}\\''.format(insp_ref_prop=insp.amigo_id)}\n",
    "    project = 'https://app.amigocloud.com/api/v1/projects/31874/sql'\n",
    "    select = amigocloud.get(project, query)\n",
    "    propiedades_data = select['data']\n",
    "    \n",
    "    #crear lista gral de propiedades\n",
    "    propiedades = []\n",
    "    #recorrer todos los lotes propiedad por propiedad\n",
    "    for prop in propiedades_data:\n",
    "        #crea campo 'lote' en la propiedad seleccionada\n",
    "        prop['lote'] = []\n",
    "        #seleccionar lotes de la propiedad\n",
    "        query_lotes = {'query': 'select * from dataset_293180 where prop_ref_lote = \\'{prop_ref_lote}\\''.format(prop_ref_lote=prop['amigo_id'])}\n",
    "        project = 'https://app.amigocloud.com/api/v1/projects/31874/sql'\n",
    "        lotes_select = amigocloud.get(project, query_lotes)\n",
    "        #recorrer los lotes\n",
    "        for lote_select in lotes_select['data']:\n",
    "            #convertir el lote en objeto\n",
    "            lote = collections.namedtuple(\"lote\", lote_select.keys())(*lote_select.values())\n",
    "            #agragar obj lote a las lista de lotes de la propiedad\n",
    "            prop['lote'].append(lote)\n",
    "        #agregar propiedad a lista general de propiedades\n",
    "        propiedades.append(collections.namedtuple(\"propiedad\", prop.keys())(*prop.values()))\n",
    "    \n",
    "    # FOTOS\n",
    "    #lista de fotos\n",
    "    fotos = []\n",
    "    #recorrer todas las propiedades\n",
    "    for propiedad in propiedades:\n",
    "        #recorrer todos los lotos\n",
    "        for lote in propiedad.lote:\n",
    "            print(lote.lote, lote.amigo_id)\n",
    "            #consultar fotos del lote\n",
    "            query_fotos = {'query': 'select source_amigo_id, s3_filename from gallery_42303 where source_amigo_id=\\'{source_amigo_id}\\''.format(source_amigo_id=lote.amigo_id)}\n",
    "            project = 'https://app.amigocloud.com/api/v1/projects/31874/sql'\n",
    "            fotos_filename = amigocloud.get(project, query_fotos)\n",
    "            if fotos_filename['data'] != []:\n",
    "                dic = {'lote': lote.lote, 'file_name': fotos_filename['data'][0]['s3_filename']}\n",
    "                fotos.append(dic)\n",
    "    fotos"
   ]
  },
  {
   "cell_type": "code",
   "execution_count": null,
   "id": "79d5a028-9769-4b77-b31b-dde80d5682fc",
   "metadata": {},
   "outputs": [],
   "source": []
  },
  {
   "cell_type": "code",
   "execution_count": null,
   "id": "681a31f6-2eca-4b30-963e-42c1a8ea5a88",
   "metadata": {},
   "outputs": [],
   "source": []
  },
  {
   "cell_type": "code",
   "execution_count": null,
   "id": "64f3d48a-ea20-49bf-a4b7-1eeb68c64dbd",
   "metadata": {},
   "outputs": [],
   "source": []
  },
  {
   "cell_type": "code",
   "execution_count": null,
   "id": "a9416735-02fb-467b-974d-968eded70117",
   "metadata": {},
   "outputs": [],
   "source": []
  },
  {
   "cell_type": "code",
   "execution_count": null,
   "id": "6653c47b-ce95-4f9b-b0f6-f156e1daa0d7",
   "metadata": {},
   "outputs": [],
   "source": []
  },
  {
   "cell_type": "code",
   "execution_count": null,
   "id": "ab110869-f1d2-4b0a-a42b-51899bfa0dd6",
   "metadata": {},
   "outputs": [],
   "source": []
  },
  {
   "cell_type": "code",
   "execution_count": null,
   "id": "ed47d12a-d88f-4c5c-9e7a-f26b78c20f43",
   "metadata": {},
   "outputs": [],
   "source": []
  },
  {
   "cell_type": "code",
   "execution_count": null,
   "id": "3ec72602-294d-40cb-ba5a-5a1371dfe136",
   "metadata": {},
   "outputs": [],
   "source": []
  },
  {
   "cell_type": "code",
   "execution_count": null,
   "id": "6be38205-6cb4-49ba-b0c1-cffc8f27d5af",
   "metadata": {},
   "outputs": [],
   "source": []
  },
  {
   "cell_type": "code",
   "execution_count": 30,
   "id": "0ecff3fc-3bd4-48d0-85ae-cfd92e2cd091",
   "metadata": {},
   "outputs": [],
   "source": [
    "id=112"
   ]
  },
  {
   "cell_type": "code",
   "execution_count": null,
   "id": "4caf3ef2-1b62-4216-a242-2c118e061dc5",
   "metadata": {},
   "outputs": [
    {
     "name": "stdout",
     "output_type": "stream",
     "text": [
      "end\n"
     ]
    }
   ],
   "source": [
    "# DATOS DE LAS INPECCION\n",
    "query = {'query': 'select CURRENT_DATE, * from dataset_292618 where id = {id}'.format(id=id)}\n",
    "project = 'https://app.amigocloud.com/api/v1/projects/31874/sql'\n",
    "select = amigocloud.get(project, query)\n",
    "data = select['data'][0]\n",
    "data['date'] = datetime.strptime(data['date'][0:10], '%Y-%m-%d').strftime('%d/%m/%Y')\n",
    "data['fecha_quema'] = datetime.strptime(data['fecha_quema'][0:10], '%Y-%m-%d').strftime('%d/%m/%Y')\n",
    "data['fecha_inspeccion'] = datetime.strptime(data['fecha_inspeccion'][0:10], '%Y-%m-%d').strftime('%d/%m/%Y')\n",
    "\n",
    "insp = collections.namedtuple(\"insp\", data.keys())(*data.values())\n",
    "print('end')"
   ]
  },
  {
   "cell_type": "code",
   "execution_count": 7,
   "id": "82104fc9-c9fc-4266-a7bf-f06af9150634",
   "metadata": {},
   "outputs": [
    {
     "data": {
      "text/plain": [
       "insp(date='18/09/2023', fecha_registro='2023-09-15 14:19:40+00:00', amigo_id='c08fe291239b4e3cac1e7ebc0ed193e5', fecha_quema='15/09/2023', fecha_inspeccion='15/09/2023', fecha_update='2023-09-15 14:19:40+00:00', canhero='13132 / ZUMARAN MENACHO JORGE', superficie_total=59.56, rendimiento=60.0, produccion=3573.6, responsable='Rogelio Acuña Rodríguez', inicio_incendio='Fuera de la propiedad', causa='Origen desconocido', responsable_de_quema='CAZADOR', observaciones=None, link_informe=None, link_informe_editable=None, cite=362, link_comprobante=None, id=112, tipo_cosecha='SEMI-MECANIZADO')"
      ]
     },
     "execution_count": 7,
     "metadata": {},
     "output_type": "execute_result"
    }
   ],
   "source": [
    "insp"
   ]
  },
  {
   "cell_type": "code",
   "execution_count": 8,
   "id": "85dda8bf-731a-4463-b717-d3dc619aec40",
   "metadata": {},
   "outputs": [
    {
     "name": "stdout",
     "output_type": "stream",
     "text": [
      "end\n"
     ]
    }
   ],
   "source": [
    "# DATOS DE LA PROPIEDAD\n",
    "query = {'query': 'select * from dataset_293179 where insp_ref_prop = \\'{insp_ref_prop}\\''.format(insp_ref_prop=insp.amigo_id)}\n",
    "project = 'https://app.amigocloud.com/api/v1/projects/31874/sql'\n",
    "select = amigocloud.get(project, query)\n",
    "propiedades_data = select['data']\n",
    "print('end')"
   ]
  },
  {
   "cell_type": "code",
   "execution_count": 9,
   "id": "5aa2ab35-98ef-4814-a21f-3afe15d40933",
   "metadata": {},
   "outputs": [
    {
     "data": {
      "text/plain": [
       "[{'ubicacion': '0101000020E610000060CF93E081B84FC070A0B1C66B5F31C0',\n",
       "  'amigo_id': '57c2b2cc4eef4e5fae5a3b7b0f15a4c0',\n",
       "  'fecha_registro': '2023-09-15 14:07:04+00:00',\n",
       "  'fecha_update': '2023-09-15 14:22:00.654234+00:00',\n",
       "  'propiedad': '1719 / SANTA FE--ZUMARAN JORGE',\n",
       "  'tenencia': 'Alquilado',\n",
       "  'insp_ref_prop': 'c08fe291239b4e3cac1e7ebc0ed193e5'}]"
      ]
     },
     "execution_count": 9,
     "metadata": {},
     "output_type": "execute_result"
    }
   ],
   "source": [
    "propiedades_data"
   ]
  },
  {
   "cell_type": "code",
   "execution_count": 10,
   "id": "b70a2f61-f503-43ab-ae0b-55aeb86717c8",
   "metadata": {},
   "outputs": [
    {
     "name": "stdout",
     "output_type": "stream",
     "text": [
      "end\n"
     ]
    }
   ],
   "source": [
    "propiedades = []\n",
    "for prop in propiedades_data:\n",
    "    prop['lote'] = []\n",
    "    query_lotes = {'query': 'select * from dataset_293180 where prop_ref_lote = \\'{prop_ref_lote}\\''.format(prop_ref_lote=prop['amigo_id'])}\n",
    "    project = 'https://app.amigocloud.com/api/v1/projects/31874/sql'\n",
    "    lotes_select = amigocloud.get(project, query_lotes)\n",
    "    for lote_select in lotes_select['data']:\n",
    "        lote = collections.namedtuple(\"lote\", lote_select.keys())(*lote_select.values())\n",
    "        prop['lote'].append(lote)\n",
    "    propiedades.append(collections.namedtuple(\"propiedad\", prop.keys())(*prop.values()))\n",
    "print('end')"
   ]
  },
  {
   "cell_type": "code",
   "execution_count": 12,
   "id": "9d32b2b9-9c36-44c5-b57d-b13eaec3532c",
   "metadata": {},
   "outputs": [
    {
     "name": "stdout",
     "output_type": "stream",
     "text": [
      "L2 d6fce63f2449417f8363d8ccc51e8b0c\n",
      "L3 6fca2c8ceef941e482957bdd5203d9f4\n",
      "L4 9e59a1a1c05d4fcd99fd6fb1e16357ac\n",
      "L5 a47f97db33234ba085f443ec1ad885c8\n",
      "L6 422447e4bf90467cbc157c98c5be1303\n",
      "L1 c410da6eb01f459b9a67022464bd111b\n"
     ]
    },
    {
     "data": {
      "text/plain": [
       "[{'lote': 'L2', 'file_name': 'WhatsApp Image 2023-09-15 at 9.21.41 AM.jpeg'},\n",
       " {'lote': 'L1', 'file_name': 'WhatsApp Image 2023-09-15 at 9.21.40 AM.jpeg'}]"
      ]
     },
     "execution_count": 12,
     "metadata": {},
     "output_type": "execute_result"
    }
   ],
   "source": [
    "# fotos lotes\n",
    "fotos = []\n",
    "for propiedad in propiedades:\n",
    "    for lote in propiedad.lote:\n",
    "        print(lote.lote, lote.amigo_id)\n",
    "        query_fotos = {'query': 'select source_amigo_id, s3_filename from gallery_42303 where source_amigo_id=\\'{source_amigo_id}\\''.format(source_amigo_id=lote.amigo_id)}\n",
    "        project = 'https://app.amigocloud.com/api/v1/projects/31874/sql'\n",
    "        fotos_filename = amigocloud.get(project, query_fotos)\n",
    "        if fotos_filename['data'] != []:\n",
    "            dic = {'lote': lote.lote, 'file_name': fotos_filename['data'][0]['s3_filename']}\n",
    "            fotos.append(dic)\n",
    "fotos"
   ]
  },
  {
   "cell_type": "code",
   "execution_count": 26,
   "id": "f91d8d3c-9f99-4b71-b764-e721cadb4f04",
   "metadata": {},
   "outputs": [],
   "source": [
    "from shapely import wkb\n",
    "import geopandas\n",
    "import pandas as pd\n",
    "import contextily as ctx\n",
    "import matplotlib.pyplot as plt\n",
    "\n",
    "def convertir_wkb(wkb_data):\n",
    "    return wkb.loads(wkb_data, hex=True)[0]"
   ]
  },
  {
   "cell_type": "code",
   "execution_count": 27,
   "id": "85e701f7-34fb-4d93-a0e3-5e1afaa5e729",
   "metadata": {},
   "outputs": [
    {
     "data": {
      "text/plain": [
       "'G:\\\\OneDrive - Ingenio Azucarero Guabira S.A\\\\_DATOS_PYTHON'"
      ]
     },
     "execution_count": 27,
     "metadata": {},
     "output_type": "execute_result"
    }
   ],
   "source": [
    "ruta"
   ]
  },
  {
   "cell_type": "code",
   "execution_count": 28,
   "id": "99143e23-2f3f-4448-8432-9aeba3a489c3",
   "metadata": {},
   "outputs": [
    {
     "ename": "NameError",
     "evalue": "name 'propiedades' is not defined",
     "output_type": "error",
     "traceback": [
      "\u001b[1;31m---------------------------------------------------------------------------\u001b[0m",
      "\u001b[1;31mNameError\u001b[0m                                 Traceback (most recent call last)",
      "\u001b[1;32m~\\AppData\\Local\\Temp\\ipykernel_19424\\854116629.py\u001b[0m in \u001b[0;36m<module>\u001b[1;34m\u001b[0m\n\u001b[0;32m      2\u001b[0m \u001b[0mlista_planos\u001b[0m \u001b[1;33m=\u001b[0m \u001b[1;33m[\u001b[0m\u001b[1;33m]\u001b[0m\u001b[1;33m\u001b[0m\u001b[1;33m\u001b[0m\u001b[0m\n\u001b[0;32m      3\u001b[0m \u001b[0mpath\u001b[0m \u001b[1;33m=\u001b[0m \u001b[1;34m''\u001b[0m\u001b[1;33m\u001b[0m\u001b[1;33m\u001b[0m\u001b[0m\n\u001b[1;32m----> 4\u001b[1;33m \u001b[1;32mfor\u001b[0m \u001b[0mpropiedad\u001b[0m \u001b[1;32min\u001b[0m \u001b[0mpropiedades\u001b[0m\u001b[1;33m:\u001b[0m\u001b[1;33m\u001b[0m\u001b[1;33m\u001b[0m\u001b[0m\n\u001b[0m\u001b[0;32m      5\u001b[0m     \u001b[0mi\u001b[0m \u001b[1;33m=\u001b[0m \u001b[0mi\u001b[0m \u001b[1;33m+\u001b[0m \u001b[1;36m1\u001b[0m\u001b[1;33m\u001b[0m\u001b[1;33m\u001b[0m\u001b[0m\n\u001b[0;32m      6\u001b[0m     \u001b[0mlotes_lista\u001b[0m \u001b[1;33m=\u001b[0m \u001b[1;33m[\u001b[0m\u001b[1;33m]\u001b[0m\u001b[1;33m\u001b[0m\u001b[1;33m\u001b[0m\u001b[0m\n",
      "\u001b[1;31mNameError\u001b[0m: name 'propiedades' is not defined"
     ]
    }
   ],
   "source": [
    "i = 0\n",
    "lista_planos = []\n",
    "path = ''\n",
    "for propiedad in propiedades:\n",
    "    i = i + 1\n",
    "    lotes_lista = []\n",
    "    for lote in propiedad.lote:\n",
    "        lotes_lista.append(lote._asdict())\n",
    "    df = pd.DataFrame(lotes_lista)\n",
    "    df['geometria'] = df['geometria'].apply(convertir_wkb)\n",
    "\n",
    "    #Convertir a GeoDataFrame\n",
    "    data = geopandas.GeoDataFrame(df, geometry='geometria')\n",
    "    #data\n",
    "    #ctx.add_basemap(ax, source=ctx.providers.Esri.WorldImagery)\n",
    "\n",
    "    data['coords'] = data['geometria'].apply(lambda x: x.representative_point().coords[:])\n",
    "    data['coords'] = [coords[0] for coords in data['coords']]\n",
    "\n",
    "    data.crs = \"EPSG:4326\"\n",
    "    data = data.to_crs(epsg=3857)\n",
    "\n",
    "    \n",
    "    fig = plt.figure(i, figsize=(20,20))\n",
    "    #fig = plt.figure(1)\n",
    "    ax = None\n",
    "    ax = fig.add_subplot()\n",
    "\n",
    "    #data.set_crs(epsg=4326, inplace=True)\n",
    "\n",
    "    data.apply(lambda x: ax.annotate(text=x.lote + ' \\n' + str(x.superficie) + ' ha', xy=x.geometria.centroid.coords[0], ha='center', va='center', color='black', fontsize=12, weight=1000, bbox=dict(facecolor=(1,1,1,0.3), edgecolor='none', pad=0)), axis=1);\n",
    "\n",
    "    #data.boundary.plot(ax=ax, color=(0,0,0,0), linewidth=0)\n",
    "\n",
    "    #data = data.to_crs(epsg=3857)\n",
    "\n",
    "    minx, miny, maxx, maxy = data.total_bounds\n",
    "    ax.set_xlim(minx - 500, maxx + 500)\n",
    "    ax.set_ylim(miny - 400, maxy + 400)\n",
    "\n",
    "    data.plot(ax=ax, edgecolor='r', facecolor=(0,0,0,0), linewidth=2, figsize=(20,20))\n",
    "    #data.plot(ax=ax, edgecolor='r', facecolor=(0,0,0,0), linewidth=2)\n",
    "    \n",
    "    ctx.add_basemap(ax, source=ctx.providers.Esri.WorldImagery)\n",
    "    ax.set_axis_off()\n",
    "    ax.set_title(str(propiedad.propiedad), fontsize=20)\n",
    "    path = ruta + '/planos/' + str(insp.amigo_id) + '_' + str(propiedad.amigo_id) + '.jpeg'\n",
    "    lista_planos.append(path)\n",
    "    fig.savefig(path, dpi = 300, bbox_inches='tight')\n",
    "    del fig\n",
    "print('end')"
   ]
  },
  {
   "cell_type": "code",
   "execution_count": 16,
   "id": "c3a91f61-180e-4ed6-ae78-f0aaa925ad31",
   "metadata": {},
   "outputs": [],
   "source": [
    "from docxtpl import DocxTemplate\n",
    "import docxtpl\n",
    "from docx.shared import Mm\n",
    "\n",
    "import requests\n",
    "\n",
    "doc = DocxTemplate(ruta + \"/templates/tpl_infome_quema.docx\")\n",
    "\n",
    "#generar lista de InlineImage de planos \n",
    "lista_InlineImage = []\n",
    "for plano in lista_planos:\n",
    "    lista_InlineImage.append(docxtpl.InlineImage(doc, image_descriptor=plano, width=Mm(150)))\n",
    "\n",
    "#descargar fotos y generar lista InlineImage\n",
    "lista_fotos_inline = []\n",
    "for foto in fotos:\n",
    "    #response = requests.get(\"https://www-amigocloud.s3.amazonaws.com/gallery/\" + foto['file_name'])\n",
    "    response = requests.get(\"https://www-amigocloud.s3.amazonaws.com/gallery/\" + foto['file_name'])\n",
    "    file = open(ruta + '/fotos/' + foto['file_name'], \"wb\")\n",
    "    file.write(response.content)\n",
    "    file.close()\n",
    "    lista_fotos_inline.append({'foto': docxtpl.InlineImage(doc, image_descriptor= ruta + '/fotos/' + foto['file_name'], width=Mm(120)), 'lote': foto['lote']})\n",
    "\n",
    "firma_respon = None\n",
    "if insp.responsable == 'Rogelio Acuña Rodríguez':\n",
    "    firma_respon = docxtpl.InlineImage(doc, image_descriptor=ruta + '/templates/firma_rogelio.png', width=Mm(60))\n",
    "else:\n",
    "    firma_respon = docxtpl.InlineImage(doc, image_descriptor=ruta + '/templates/firma_jaldin.png', width=Mm(60))\n",
    "\n",
    "context = {'insp':insp, 'propiedades':propiedades, 'planos':lista_InlineImage, 'fotos':lista_fotos_inline, 'firma':firma_respon}\n",
    "\n",
    "doc.render(context)\n",
    "\n",
    "# formato de nombre de archivo: \"123_CQ_01-01-2022_NOMBRE\"\n",
    "cod_nom = insp.canhero.split(' / ')\n",
    "file_name = cod_nom[0] + '_CAQ_' + insp.fecha_inspeccion.replace('/','-') + '_' + cod_nom[1] + '_' + str(insp.id)\n",
    "\n",
    "doc.save(ruta + '/informes/_' + file_name + '.docx')"
   ]
  },
  {
   "cell_type": "code",
   "execution_count": null,
   "id": "95bce4ef-6cd9-4fce-8da2-a186661ca538",
   "metadata": {},
   "outputs": [],
   "source": []
  },
  {
   "cell_type": "code",
   "execution_count": null,
   "id": "a80f97b8-7797-4c97-b75d-4b438d6e38c4",
   "metadata": {},
   "outputs": [],
   "source": []
  }
 ],
 "metadata": {
  "kernelspec": {
   "display_name": "Python 3 (ipykernel)",
   "language": "python",
   "name": "python3"
  },
  "language_info": {
   "codemirror_mode": {
    "name": "ipython",
    "version": 3
   },
   "file_extension": ".py",
   "mimetype": "text/x-python",
   "name": "python",
   "nbconvert_exporter": "python",
   "pygments_lexer": "ipython3",
   "version": "3.7.16"
  }
 },
 "nbformat": 4,
 "nbformat_minor": 5
}
