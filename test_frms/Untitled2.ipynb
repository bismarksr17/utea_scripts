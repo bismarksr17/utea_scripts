{
 "cells": [
  {
   "cell_type": "code",
   "execution_count": 43,
   "id": "504f1782-009f-4d31-97ab-cff07ce9df9a",
   "metadata": {},
   "outputs": [],
   "source": [
    "import os"
   ]
  },
  {
   "cell_type": "code",
   "execution_count": 44,
   "id": "3f87719c-d061-4784-a109-2a4c78e6315f",
   "metadata": {},
   "outputs": [],
   "source": [
    "path = r'C:\\Users\\UTEA\\OneDrive - Ingenio Azucarero Guabira S.A (2)\\UTEA_2022\\EVALUACION DE COSECHADORAS\\informes\\RESAGADOS WORD'"
   ]
  },
  {
   "cell_type": "code",
   "execution_count": 45,
   "id": "4f9caf87-e527-4838-a0ee-1837457311a2",
   "metadata": {},
   "outputs": [
    {
     "name": "stdout",
     "output_type": "stream",
     "text": [
      "24\n"
     ]
    },
    {
     "data": {
      "text/plain": [
       "['11171_EC_07-09-2022_QUIROZ SARAVIA TEODOCIA_88.docx',\n",
       " '11852_EC_13-09-2022_ROCA GIL VICENTE_100.docx',\n",
       " '12075_EC_08-09-2022_ROJAS GONZALES TOMAS_91.docx',\n",
       " '13012_EC_07-09-2022_SALAZAR ARNEZ LIDER_89.docx',\n",
       " '1540_EC_14-09-2022_CALVI PADILLA MARIO_104.docx',\n",
       " '1672_EC_09-09-2022_CAMPBELL BALCAZAR ALAN_95.docx',\n",
       " '18027_EC_14-09-2022_AGUILERA TARRADELLES GUILLERMO_103.docx',\n",
       " '18356_EC_07-09-2022_CATALA HUBBAUER JORGE ALBERTO_86.docx',\n",
       " '2315_EC_12-09-2022_CORDOVA OLGUIN JUAN CARLOS_98.docx',\n",
       " '2816_EC_08-09-2022_DONOSO BLANCO ALBERTO_92.docx',\n",
       " '2816_EC_08-09-2022_DONOSO BLANCO ALBERTO_93.docx',\n",
       " '30035_EC_06-09-2022_GUTIERREZ AGUILERA WIDEN GUILLER_83.docx',\n",
       " '41973_EC_05-09-2022_RIBERA JUSTINIANO JEFFER PAUL_80.docx',\n",
       " '41973_EC_13-09-2022_RIBERA JUSTINIANO JEFFER PAUL_101.docx',\n",
       " '446_EC_09-09-2022_AGUILERA ANEZ JHONNY_94.docx',\n",
       " '515_EC_10-09-2022_AGUILERA OLGA RIVERO DE_96.docx',\n",
       " '5307_EC_06-09-2022_HUANCA MENCHAQUE VICTOR_84.docx',\n",
       " '5307_EC_07-09-2022_HUANCA MENCHAQUE VICTOR_87.docx',\n",
       " '594_EC_08-09-2022_AGROPECUARIA FLAMBOYAN_90.docx',\n",
       " '752_EC_05-09-2022_AGRO-MORA SRL._81.docx',\n",
       " '752_EC_05-09-2022_AGRO-MORA SRL._82.docx',\n",
       " '8014_EC_12-09-2022_NAZER PARADA ROBERTO DOMINGO_97.docx',\n",
       " '8706_EC_06-09-2022_MERCADO MERCADO RAMON_85.docx',\n",
       " '9278_EC_12-09-2022_NUNEZ MARTINEZ BRAULIO_99.docx']"
      ]
     },
     "execution_count": 45,
     "metadata": {},
     "output_type": "execute_result"
    }
   ],
   "source": [
    "files = os.listdir(path)\n",
    "print(len(files))\n",
    "files"
   ]
  },
  {
   "cell_type": "code",
   "execution_count": 46,
   "id": "62a56e66-f926-4b24-a518-28841b38f6d4",
   "metadata": {},
   "outputs": [],
   "source": [
    "for i in files:\n",
    "    os.rename(path + '\\\\' + i, path + '\\\\' + i.replace('_EC_', '_EVC_'))"
   ]
  },
  {
   "cell_type": "code",
   "execution_count": null,
   "id": "197bca7a-b314-498d-90ad-3a0d0cf0abab",
   "metadata": {},
   "outputs": [],
   "source": []
  }
 ],
 "metadata": {
  "kernelspec": {
   "display_name": "Python 3 (ipykernel)",
   "language": "python",
   "name": "python3"
  },
  "language_info": {
   "codemirror_mode": {
    "name": "ipython",
    "version": 3
   },
   "file_extension": ".py",
   "mimetype": "text/x-python",
   "name": "python",
   "nbconvert_exporter": "python",
   "pygments_lexer": "ipython3",
   "version": "3.7.13"
  }
 },
 "nbformat": 4,
 "nbformat_minor": 5
}
