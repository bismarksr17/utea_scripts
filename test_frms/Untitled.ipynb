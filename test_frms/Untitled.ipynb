{
 "cells": [
  {
   "cell_type": "code",
   "execution_count": 6,
   "id": "35f2384d-e699-4326-b323-c2177f9b5ec6",
   "metadata": {},
   "outputs": [
    {
     "ename": "TypeError",
     "evalue": "chart() missing 2 required positional arguments: 'data' and 'args'",
     "output_type": "error",
     "traceback": [
      "\u001b[1;31m---------------------------------------------------------------------------\u001b[0m",
      "\u001b[1;31mTypeError\u001b[0m                                 Traceback (most recent call last)",
      "Cell \u001b[1;32mIn[6], line 9\u001b[0m\n\u001b[0;32m      6\u001b[0m data \u001b[38;5;241m=\u001b[39m [\u001b[38;5;241m5\u001b[39m, \u001b[38;5;241m8\u001b[39m, \u001b[38;5;241m10\u001b[39m, \u001b[38;5;241m4\u001b[39m, \u001b[38;5;241m6\u001b[39m]\n\u001b[0;32m      8\u001b[0m \u001b[38;5;66;03m# Crear el gráfico ASCII\u001b[39;00m\n\u001b[1;32m----> 9\u001b[0m \u001b[43mchart\u001b[49m\u001b[43m(\u001b[49m\u001b[43mdata\u001b[49m\u001b[43m,\u001b[49m\u001b[43m \u001b[49m\u001b[43mlabels\u001b[49m\u001b[38;5;241;43m=\u001b[39;49m\u001b[43mlabels\u001b[49m\u001b[43m)\u001b[49m\n",
      "\u001b[1;31mTypeError\u001b[0m: chart() missing 2 required positional arguments: 'data' and 'args'"
     ]
    }
   ],
   "source": [
    "# Importar el paquete necesario\n",
    "from termgraph.termgraph import chart\n",
    "\n",
    "# Datos de ejemplo\n",
    "labels = ['2015', '2016', '2017', '2018', '2019']\n",
    "data = [5, 8, 10, 4, 6]\n",
    "\n",
    "# Crear el gráfico ASCII\n",
    "chart(data, labels=labels)\n"
   ]
  },
  {
   "cell_type": "code",
   "execution_count": 7,
   "id": "1c03a82b-623d-4970-bd44-aedea3cb0be1",
   "metadata": {},
   "outputs": [
    {
     "ename": "AttributeError",
     "evalue": "module 'termgraph.termgraph' has no attribute 'COLOR_MAP'",
     "output_type": "error",
     "traceback": [
      "\u001b[1;31m---------------------------------------------------------------------------\u001b[0m",
      "\u001b[1;31mAttributeError\u001b[0m                            Traceback (most recent call last)",
      "Cell \u001b[1;32mIn[7], line 21\u001b[0m\n\u001b[0;32m      5\u001b[0m labels \u001b[38;5;241m=\u001b[39m [\u001b[38;5;124m'\u001b[39m\u001b[38;5;124m2015\u001b[39m\u001b[38;5;124m'\u001b[39m, \u001b[38;5;124m'\u001b[39m\u001b[38;5;124m2016\u001b[39m\u001b[38;5;124m'\u001b[39m, \u001b[38;5;124m'\u001b[39m\u001b[38;5;124m2017\u001b[39m\u001b[38;5;124m'\u001b[39m, \u001b[38;5;124m'\u001b[39m\u001b[38;5;124m2018\u001b[39m\u001b[38;5;124m'\u001b[39m, \u001b[38;5;124m'\u001b[39m\u001b[38;5;124m2019\u001b[39m\u001b[38;5;124m'\u001b[39m]\n\u001b[0;32m      7\u001b[0m \u001b[38;5;66;03m# Opciones para el gráfico\u001b[39;00m\n\u001b[0;32m      8\u001b[0m args \u001b[38;5;241m=\u001b[39m {\n\u001b[0;32m      9\u001b[0m     \u001b[38;5;124m'\u001b[39m\u001b[38;5;124mtitle\u001b[39m\u001b[38;5;124m'\u001b[39m: \u001b[38;5;124m'\u001b[39m\u001b[38;5;124mGráfico de Barras\u001b[39m\u001b[38;5;124m'\u001b[39m,\n\u001b[0;32m     10\u001b[0m     \u001b[38;5;124m'\u001b[39m\u001b[38;5;124mwidth\u001b[39m\u001b[38;5;124m'\u001b[39m: \u001b[38;5;241m50\u001b[39m,\n\u001b[0;32m     11\u001b[0m     \u001b[38;5;124m'\u001b[39m\u001b[38;5;124mformat\u001b[39m\u001b[38;5;124m'\u001b[39m: \u001b[38;5;124m'\u001b[39m\u001b[38;5;132;01m{:<5.0f}\u001b[39;00m\u001b[38;5;124m'\u001b[39m,\n\u001b[0;32m     12\u001b[0m     \u001b[38;5;124m'\u001b[39m\u001b[38;5;124msuffix\u001b[39m\u001b[38;5;124m'\u001b[39m: \u001b[38;5;124m'\u001b[39m\u001b[38;5;124m'\u001b[39m,\n\u001b[0;32m     13\u001b[0m     \u001b[38;5;124m'\u001b[39m\u001b[38;5;124mno_labels\u001b[39m\u001b[38;5;124m'\u001b[39m: \u001b[38;5;28;01mFalse\u001b[39;00m,\n\u001b[0;32m     14\u001b[0m     \u001b[38;5;124m'\u001b[39m\u001b[38;5;124mlabel_lengths\u001b[39m\u001b[38;5;124m'\u001b[39m: [\u001b[38;5;28mlen\u001b[39m(label) \u001b[38;5;28;01mfor\u001b[39;00m label \u001b[38;5;129;01min\u001b[39;00m labels],\n\u001b[0;32m     15\u001b[0m     \u001b[38;5;124m'\u001b[39m\u001b[38;5;124mvertical\u001b[39m\u001b[38;5;124m'\u001b[39m: \u001b[38;5;28;01mFalse\u001b[39;00m,\n\u001b[0;32m     16\u001b[0m     \u001b[38;5;124m'\u001b[39m\u001b[38;5;124mstacked\u001b[39m\u001b[38;5;124m'\u001b[39m: \u001b[38;5;28;01mFalse\u001b[39;00m,\n\u001b[0;32m     17\u001b[0m     \u001b[38;5;124m'\u001b[39m\u001b[38;5;124mdifferent_scale\u001b[39m\u001b[38;5;124m'\u001b[39m: \u001b[38;5;28;01mFalse\u001b[39;00m,\n\u001b[0;32m     18\u001b[0m     \u001b[38;5;124m'\u001b[39m\u001b[38;5;124mcalendar\u001b[39m\u001b[38;5;124m'\u001b[39m: \u001b[38;5;28;01mFalse\u001b[39;00m,\n\u001b[0;32m     19\u001b[0m     \u001b[38;5;124m'\u001b[39m\u001b[38;5;124mstart_dt\u001b[39m\u001b[38;5;124m'\u001b[39m: \u001b[38;5;28;01mNone\u001b[39;00m,\n\u001b[0;32m     20\u001b[0m     \u001b[38;5;124m'\u001b[39m\u001b[38;5;124mcustom_colors\u001b[39m\u001b[38;5;124m'\u001b[39m: [\u001b[38;5;241m1\u001b[39m] \u001b[38;5;241m*\u001b[39m \u001b[38;5;28mlen\u001b[39m(data),  \u001b[38;5;66;03m# Para simplificar, usamos el color 1 para todas las barras\u001b[39;00m\n\u001b[1;32m---> 21\u001b[0m     \u001b[38;5;124m'\u001b[39m\u001b[38;5;124mcolors\u001b[39m\u001b[38;5;124m'\u001b[39m: [\u001b[43mtg\u001b[49m\u001b[38;5;241;43m.\u001b[39;49m\u001b[43mCOLOR_MAP\u001b[49m[\u001b[38;5;241m1\u001b[39m]] \u001b[38;5;241m*\u001b[39m \u001b[38;5;28mlen\u001b[39m(data)  \u001b[38;5;66;03m# Color por defecto para todas las barras\u001b[39;00m\n\u001b[0;32m     22\u001b[0m }\n\u001b[0;32m     24\u001b[0m \u001b[38;5;66;03m# Dibujar el gráfico\u001b[39;00m\n\u001b[0;32m     25\u001b[0m tg\u001b[38;5;241m.\u001b[39mchart(data, labels, args)\n",
      "\u001b[1;31mAttributeError\u001b[0m: module 'termgraph.termgraph' has no attribute 'COLOR_MAP'"
     ]
    }
   ],
   "source": [
    "from termgraph import termgraph as tg\n",
    "\n",
    "# Datos de ejemplo\n",
    "data = [[5], [8], [10], [4], [6]]\n",
    "labels = ['2015', '2016', '2017', '2018', '2019']\n",
    "\n",
    "# Opciones para el gráfico\n",
    "args = {\n",
    "    'title': 'Gráfico de Barras',\n",
    "    'width': 50,\n",
    "    'format': '{:<5.0f}',\n",
    "    'suffix': '',\n",
    "    'no_labels': False,\n",
    "    'label_lengths': [len(label) for label in labels],\n",
    "    'vertical': False,\n",
    "    'stacked': False,\n",
    "    'different_scale': False,\n",
    "    'calendar': False,\n",
    "    'start_dt': None,\n",
    "    'custom_colors': [1] * len(data),  # Para simplificar, usamos el color 1 para todas las barras\n",
    "    'colors': [tg.COLOR_MAP[1]] * len(data)  # Color por defecto para todas las barras\n",
    "}\n",
    "\n",
    "# Dibujar el gráfico\n",
    "tg.chart(data, labels, args)\n"
   ]
  },
  {
   "cell_type": "code",
   "execution_count": null,
   "id": "d2be6b8f-64ab-4e1e-9137-461e7fbdc5d8",
   "metadata": {},
   "outputs": [],
   "source": []
  }
 ],
 "metadata": {
  "kernelspec": {
   "display_name": "Python 3 (ipykernel)",
   "language": "python",
   "name": "python3"
  },
  "language_info": {
   "codemirror_mode": {
    "name": "ipython",
    "version": 3
   },
   "file_extension": ".py",
   "mimetype": "text/x-python",
   "name": "python",
   "nbconvert_exporter": "python",
   "pygments_lexer": "ipython3",
   "version": "3.10.13"
  }
 },
 "nbformat": 4,
 "nbformat_minor": 5
}
