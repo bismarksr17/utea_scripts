{
 "cells": [
  {
   "cell_type": "code",
   "execution_count": 2,
   "id": "4ca1910b-5695-4103-b096-022ec8e159e0",
   "metadata": {},
   "outputs": [],
   "source": [
    "import sys\n",
    "sys.path.append('..')\n",
    "\n",
    "import os\n",
    "from sqlalchemy import create_engine, text\n",
    "import pandas as pd\n",
    "import geopandas as gpd\n",
    "from shapely.geometry import Point, Polygon, MultiPolygon, MultiPoint\n",
    "from shapely import wkb\n",
    "from geopandas.tools import sjoin\n",
    "\n",
    "from utilities_amigocloud import AmigocloudFunctions"
   ]
  },
  {
   "cell_type": "code",
   "execution_count": 3,
   "id": "c7499510-45ea-4c18-af4d-2fa17d9d677b",
   "metadata": {},
   "outputs": [],
   "source": [
    "from config import RUTA_UNIDAD_ONE_DRIVE\n",
    "from config import RUTA_LOCAL_ONE_DRIVE\n",
    "from config import API_AMIGOCLOUD_TOKEN_ADM\n",
    "from config import POSTGRES_UTEA\n",
    "\n",
    "RUTA_COMPLETA = os.path.join(RUTA_UNIDAD_ONE_DRIVE, RUTA_LOCAL_ONE_DRIVE)\n",
    "PATH_CAT = RUTA_UNIDAD_ONE_DRIVE + r'\\Ingenio Azucarero Guabira S.A\\UTEA - SEMANAL - EQUIPO AVIACION UTEA\\Trichogramma\\2025\\SHP\\CATASTRO_S13.shp'\n",
    "PATH_XLSX_GRUPOS = RUTA_UNIDAD_ONE_DRIVE + r'\\Ingenio Azucarero Guabira S.A\\UTEA - SEMANAL - AVANCE COSECHA\\2025\\DATA\\GRUPO_COSECHA.xlsx'"
   ]
  },
  {
   "cell_type": "code",
   "execution_count": 4,
   "id": "1ec33217-7767-48fc-99a8-be90c7c92ece",
   "metadata": {},
   "outputs": [],
   "source": [
    "def obtener_engine():\n",
    "    return create_engine(\n",
    "        f\"postgresql+psycopg2://{POSTGRES_UTEA['USER']}:{POSTGRES_UTEA['PASSWORD']}@{POSTGRES_UTEA['HOST']}:{POSTGRES_UTEA['PORT']}/{POSTGRES_UTEA['DATABASE']}\"\n",
    "    )\n",
    "\n",
    "def obtener_planificacion():\n",
    "    engine = obtener_engine()\n",
    "    try:\n",
    "        query = \"\"\"\n",
    "            SELECT *\n",
    "            FROM drones_pulverizacion.planificacion_pulv\n",
    "            WHERE procesado=false;\n",
    "        \"\"\"\n",
    "        gdf = gpd.read_postgis(query, engine, geom_col='geom')\n",
    "        return gdf\n",
    "    except Exception as e:\n",
    "        print(f\"Error en la consulta: {e}\")\n",
    "        return gpd.GeoDataFrame()\n",
    "    return None\n",
    "\n",
    "def marcar_como_procesado(id_os):\n",
    "    engine = obtener_engine()  # tu función que crea el engine\n",
    "    try:\n",
    "        with engine.begin() as conn:\n",
    "            query = text(\"\"\"\n",
    "                UPDATE drones_pulverizacion.planificacion_pulv\n",
    "                SET procesado = true\n",
    "                WHERE id = :id_os\n",
    "            \"\"\")\n",
    "            conn.execute(query, {\"id_os\": id_os})\n",
    "            print(f\"✔️ id {id_os} marcado como procesado.\")\n",
    "    except Exception as e:\n",
    "        print(f\"❌ Error al actualizar: {e}\")\n",
    "    return None\n",
    "\n",
    "def obtener_parte_diario_por_os(ors):\n",
    "    engine = obtener_engine()\n",
    "    try:\n",
    "        query = f\"\"\"\n",
    "            SELECT * FROM drones_pulverizacion.parte_diario_pulv where os = {ors}\n",
    "        \"\"\"\n",
    "        gdf = gpd.read_postgis(query, engine, geom_col='geom')\n",
    "        return gdf\n",
    "    except Exception as e:\n",
    "        print(f\"❌ Error en la consulta: {e}\")\n",
    "        return gpd.GeoDataFrame()\n",
    "    return None\n",
    "\n",
    "def convertir_a_multipolygon(geometry):\n",
    "    if isinstance(geometry, Polygon):\n",
    "        return MultiPolygon([geometry])\n",
    "    return geometry\n",
    "\n",
    "def convertir_a_wkb(polygon):\n",
    "    wkb_data = wkb.dumps(polygon, hex=True)\n",
    "    return wkb_data\n",
    "\n",
    "def cargar_a_amigocloud(gdf):\n",
    "    # repreyectar a WGS84\n",
    "    gdf_pla_gral = gdf.to_crs(epsg=4326)\n",
    "    # convertir poligonos a multipoligonos\n",
    "    gdf_pla_gral['geom'] = gdf_pla_gral['geom'].apply(convertir_a_multipolygon)\n",
    "    \n",
    "    gdf_pla_gral['unidad_01'] = gdf_pla_gral['unidad_01'].astype(int)\n",
    "    gdf_pla_gral['unidad_03'] = gdf_pla_gral['unidad_03'].astype(int)\n",
    "    gdf_pla_gral['os'] = gdf_pla_gral['os'].astype(int)\n",
    "    gdf_pla_gral['soca'] = gdf_pla_gral['soca'].astype(int)\n",
    "    gdf_pla_gral['id'] = gdf_pla_gral['id'].astype(int)\n",
    "    gdf_pla_gral['inst'] = gdf_pla_gral['inst'].astype(int)\n",
    "    \n",
    "    # recorrer el gdf de lotes y cargarlo a amigocloud\n",
    "    id_proyecto = 35248\n",
    "    for index, row in gdf_pla_gral.iterrows():\n",
    "        wkb_hex = convertir_a_wkb(row['geom'])\n",
    "        insert_sql = f\"\"\"\n",
    "            INSERT INTO dataset_360912 (id, unidad_01, unidad_02, unidad_03, unidad_04, unidad_05, area, os, geometry)\n",
    "            VALUES ({row['id']}, {row['unidad_01']}, '{row['unidad_02']}', {row['unidad_03']}, '{row['unidad_04']}', '{row['unidad_05']}', {row['area']}, '{row['os']}', ST_SetSRID(ST_GeomFromWKB('\\\\x{wkb_hex}'), 4326));\n",
    "        \"\"\"\n",
    "        query_sql = {'query': insert_sql}\n",
    "        resultado_post = amigocloud.ejecutar_query_sql(id_proyecto, insert_sql, 'post')\n",
    "        print(f'Lote registrado en AmigoCloud')\n",
    "    return None"
   ]
  },
  {
   "cell_type": "code",
   "execution_count": 5,
   "id": "ec459f6a-2f50-409b-8c12-c694fd842373",
   "metadata": {},
   "outputs": [
    {
     "data": {
      "text/plain": [
       "<utilities_amigocloud.AmigocloudFunctions at 0x2d84fab58a0>"
      ]
     },
     "execution_count": 5,
     "metadata": {},
     "output_type": "execute_result"
    }
   ],
   "source": [
    "amigocloud = AmigocloudFunctions(token=API_AMIGOCLOUD_TOKEN_ADM)\n",
    "amigocloud"
   ]
  },
  {
   "cell_type": "code",
   "execution_count": 6,
   "id": "81c1c3ae-0399-4c13-81d2-d40f3de609bd",
   "metadata": {},
   "outputs": [
    {
     "data": {
      "text/html": [
       "<div>\n",
       "<style scoped>\n",
       "    .dataframe tbody tr th:only-of-type {\n",
       "        vertical-align: middle;\n",
       "    }\n",
       "\n",
       "    .dataframe tbody tr th {\n",
       "        vertical-align: top;\n",
       "    }\n",
       "\n",
       "    .dataframe thead th {\n",
       "        text-align: right;\n",
       "    }\n",
       "</style>\n",
       "<table border=\"1\" class=\"dataframe\">\n",
       "  <thead>\n",
       "    <tr style=\"text-align: right;\">\n",
       "      <th></th>\n",
       "      <th>id</th>\n",
       "      <th>geom</th>\n",
       "      <th>codigo_canero</th>\n",
       "      <th>nombre_canero</th>\n",
       "      <th>obs</th>\n",
       "      <th>procesado</th>\n",
       "    </tr>\n",
       "  </thead>\n",
       "  <tbody>\n",
       "    <tr>\n",
       "      <th>0</th>\n",
       "      <td>51</td>\n",
       "      <td>MULTIPOINT (465659.079 8077069.785, 465843.719...</td>\n",
       "      <td>30035</td>\n",
       "      <td>GUTIERREZ AGUILERA WIDEN GUILLER</td>\n",
       "      <td>None</td>\n",
       "      <td>False</td>\n",
       "    </tr>\n",
       "  </tbody>\n",
       "</table>\n",
       "</div>"
      ],
      "text/plain": [
       "   id                                               geom  codigo_canero  \\\n",
       "0  51  MULTIPOINT (465659.079 8077069.785, 465843.719...          30035   \n",
       "\n",
       "                      nombre_canero   obs  procesado  \n",
       "0  GUTIERREZ AGUILERA WIDEN GUILLER  None      False  "
      ]
     },
     "execution_count": 6,
     "metadata": {},
     "output_type": "execute_result"
    }
   ],
   "source": [
    "gdf_cat = gpd.read_file(PATH_CAT)\n",
    "gdf_plan = obtener_planificacion()\n",
    "gdf_plan"
   ]
  },
  {
   "cell_type": "markdown",
   "id": "e78d3541-487e-4bb7-897d-479f2176688c",
   "metadata": {},
   "source": [
    "# CARGAR PARTE DIARIO"
   ]
  },
  {
   "cell_type": "code",
   "execution_count": 7,
   "id": "1dbb7940-af12-4a2e-bd66-c49a0499b391",
   "metadata": {},
   "outputs": [
    {
     "data": {
      "text/plain": [
       "[51]"
      ]
     },
     "execution_count": 7,
     "metadata": {},
     "output_type": "execute_result"
    }
   ],
   "source": [
    "gdf_intersect_result = gpd.sjoin(gdf_cat, gdf_plan, how='inner')\n",
    "os_para_cargar = list(set(gdf_intersect_result['id_right']))\n",
    "os_para_cargar"
   ]
  },
  {
   "cell_type": "code",
   "execution_count": 8,
   "id": "47b64be7-97be-479c-bba3-5731bf4fa18d",
   "metadata": {},
   "outputs": [],
   "source": [
    "gdf_result = gdf_intersect_result[['geometry', 'unidad_01', 'unidad_02', 'codigo_canero', 'nombre_canero', 'unidad_05', 'area', 'id_right', 'soca', 'zona']].copy()\n",
    "gdf_result['area'] = gdf_result.geometry.area / 10000\n",
    "gdf_result.rename(columns={\n",
    "    'geometry': 'geom',\n",
    "    'codigo_canero': 'unidad_03',\n",
    "    'nombre_canero': 'unidad_04',\n",
    "    'id_right': 'os',\n",
    "    'zona': 'inst'\n",
    "}, inplace=True)\n",
    "\n",
    "gdf_result = gdf_result.set_geometry(\"geom\")\n",
    "gdf_result['unidad_01'] = gdf_result['unidad_01'].astype(int)\n",
    "gdf_result['unidad_03'] = gdf_result['unidad_03'].astype(int)\n",
    "gdf_result['os'] = gdf_result['os'].astype(int)\n",
    "gdf_result['soca'] = gdf_result['soca'].astype(int)\n",
    "gdf_result['inst'] = gdf_result['inst'].astype(int)"
   ]
  },
  {
   "cell_type": "code",
   "execution_count": 9,
   "id": "3b707128-80d0-4935-87ba-d14f6255db61",
   "metadata": {},
   "outputs": [
    {
     "data": {
      "text/html": [
       "<div>\n",
       "<style scoped>\n",
       "    .dataframe tbody tr th:only-of-type {\n",
       "        vertical-align: middle;\n",
       "    }\n",
       "\n",
       "    .dataframe tbody tr th {\n",
       "        vertical-align: top;\n",
       "    }\n",
       "\n",
       "    .dataframe thead th {\n",
       "        text-align: right;\n",
       "    }\n",
       "</style>\n",
       "<table border=\"1\" class=\"dataframe\">\n",
       "  <thead>\n",
       "    <tr style=\"text-align: right;\">\n",
       "      <th></th>\n",
       "      <th>geom</th>\n",
       "      <th>unidad_01</th>\n",
       "      <th>unidad_02</th>\n",
       "      <th>unidad_03</th>\n",
       "      <th>unidad_04</th>\n",
       "      <th>unidad_05</th>\n",
       "      <th>area</th>\n",
       "      <th>os</th>\n",
       "      <th>soca</th>\n",
       "      <th>inst</th>\n",
       "    </tr>\n",
       "  </thead>\n",
       "  <tbody>\n",
       "    <tr>\n",
       "      <th>3361</th>\n",
       "      <td>POLYGON ((465509.579 8077157.826, 465508.141 8...</td>\n",
       "      <td>306</td>\n",
       "      <td>ENTRE RIOS--GUTIERREZ WIDEN</td>\n",
       "      <td>30035</td>\n",
       "      <td>GUTIERREZ AGUILERA WIDEN GUILLER</td>\n",
       "      <td>L12.2</td>\n",
       "      <td>5.527511</td>\n",
       "      <td>51</td>\n",
       "      <td>0</td>\n",
       "      <td>50</td>\n",
       "    </tr>\n",
       "    <tr>\n",
       "      <th>13335</th>\n",
       "      <td>POLYGON ((465921.147 8076761.713, 466061.602 8...</td>\n",
       "      <td>306</td>\n",
       "      <td>ENTRE RIOS--GUTIERREZ WIDEN</td>\n",
       "      <td>30035</td>\n",
       "      <td>GUTIERREZ AGUILERA WIDEN GUILLER</td>\n",
       "      <td>L9</td>\n",
       "      <td>10.002896</td>\n",
       "      <td>51</td>\n",
       "      <td>0</td>\n",
       "      <td>50</td>\n",
       "    </tr>\n",
       "    <tr>\n",
       "      <th>13419</th>\n",
       "      <td>POLYGON ((465393.208 8076101.597, 465371.380 8...</td>\n",
       "      <td>306</td>\n",
       "      <td>ENTRE RIOS--GUTIERREZ WIDEN</td>\n",
       "      <td>30035</td>\n",
       "      <td>GUTIERREZ AGUILERA WIDEN GUILLER</td>\n",
       "      <td>L6</td>\n",
       "      <td>14.954778</td>\n",
       "      <td>51</td>\n",
       "      <td>0</td>\n",
       "      <td>50</td>\n",
       "    </tr>\n",
       "  </tbody>\n",
       "</table>\n",
       "</div>"
      ],
      "text/plain": [
       "                                                    geom  unidad_01  \\\n",
       "3361   POLYGON ((465509.579 8077157.826, 465508.141 8...        306   \n",
       "13335  POLYGON ((465921.147 8076761.713, 466061.602 8...        306   \n",
       "13419  POLYGON ((465393.208 8076101.597, 465371.380 8...        306   \n",
       "\n",
       "                         unidad_02  unidad_03  \\\n",
       "3361   ENTRE RIOS--GUTIERREZ WIDEN      30035   \n",
       "13335  ENTRE RIOS--GUTIERREZ WIDEN      30035   \n",
       "13419  ENTRE RIOS--GUTIERREZ WIDEN      30035   \n",
       "\n",
       "                              unidad_04 unidad_05       area  os  soca  inst  \n",
       "3361   GUTIERREZ AGUILERA WIDEN GUILLER     L12.2   5.527511  51     0    50  \n",
       "13335  GUTIERREZ AGUILERA WIDEN GUILLER        L9  10.002896  51     0    50  \n",
       "13419  GUTIERREZ AGUILERA WIDEN GUILLER        L6  14.954778  51     0    50  "
      ]
     },
     "execution_count": 9,
     "metadata": {},
     "output_type": "execute_result"
    }
   ],
   "source": [
    "gdf_result"
   ]
  },
  {
   "cell_type": "code",
   "execution_count": 10,
   "id": "4c8a72b7-3fb9-45ba-8b42-2cce2f10e0b7",
   "metadata": {},
   "outputs": [],
   "source": [
    "# GARANTIZAR LA INST DEL CAÑERO\n",
    "# cargar grupos de cosecha\n",
    "df_grupos = pd.read_excel(PATH_XLSX_GRUPOS, sheet_name='CODIGOS')\n",
    "df_grupos = df_grupos[df_grupos['INSTITUCION'].notna()]\n",
    "df_grupos['CODIGO CAÑERO'] = df_grupos['CODIGO CAÑERO'].astype(int)\n",
    "df_grupos['INSTITUCION'] = df_grupos['INSTITUCION'].astype(int)\n",
    "\n",
    "# Crear un diccionario de mapeo: {codigo_cañero: institucion}\n",
    "mapa_institucion = df_grupos.set_index('CODIGO CAÑERO')['INSTITUCION'].to_dict()\n",
    "# Reemplazar los valores de 'inst' en gdf_result usando el diccionario\n",
    "# a partir del diccionario, busca el codigo cañero (unidad_03), y reempalza la institucion\n",
    "gdf_result['inst'] = gdf_result['unidad_03'].map(mapa_institucion)"
   ]
  },
  {
   "cell_type": "code",
   "execution_count": 11,
   "id": "547a4e9f-ee15-4ac5-aa06-cbbea1ebd5f1",
   "metadata": {},
   "outputs": [
    {
     "data": {
      "text/html": [
       "<div>\n",
       "<style scoped>\n",
       "    .dataframe tbody tr th:only-of-type {\n",
       "        vertical-align: middle;\n",
       "    }\n",
       "\n",
       "    .dataframe tbody tr th {\n",
       "        vertical-align: top;\n",
       "    }\n",
       "\n",
       "    .dataframe thead th {\n",
       "        text-align: right;\n",
       "    }\n",
       "</style>\n",
       "<table border=\"1\" class=\"dataframe\">\n",
       "  <thead>\n",
       "    <tr style=\"text-align: right;\">\n",
       "      <th></th>\n",
       "      <th>geom</th>\n",
       "      <th>unidad_01</th>\n",
       "      <th>unidad_02</th>\n",
       "      <th>unidad_03</th>\n",
       "      <th>unidad_04</th>\n",
       "      <th>unidad_05</th>\n",
       "      <th>area</th>\n",
       "      <th>os</th>\n",
       "      <th>soca</th>\n",
       "      <th>inst</th>\n",
       "    </tr>\n",
       "  </thead>\n",
       "  <tbody>\n",
       "    <tr>\n",
       "      <th>3361</th>\n",
       "      <td>POLYGON ((465509.579 8077157.826, 465508.141 8...</td>\n",
       "      <td>306</td>\n",
       "      <td>ENTRE RIOS--GUTIERREZ WIDEN</td>\n",
       "      <td>30035</td>\n",
       "      <td>GUTIERREZ AGUILERA WIDEN GUILLER</td>\n",
       "      <td>L12.2</td>\n",
       "      <td>5.527511</td>\n",
       "      <td>51</td>\n",
       "      <td>0</td>\n",
       "      <td>50</td>\n",
       "    </tr>\n",
       "    <tr>\n",
       "      <th>13335</th>\n",
       "      <td>POLYGON ((465921.147 8076761.713, 466061.602 8...</td>\n",
       "      <td>306</td>\n",
       "      <td>ENTRE RIOS--GUTIERREZ WIDEN</td>\n",
       "      <td>30035</td>\n",
       "      <td>GUTIERREZ AGUILERA WIDEN GUILLER</td>\n",
       "      <td>L9</td>\n",
       "      <td>10.002896</td>\n",
       "      <td>51</td>\n",
       "      <td>0</td>\n",
       "      <td>50</td>\n",
       "    </tr>\n",
       "    <tr>\n",
       "      <th>13419</th>\n",
       "      <td>POLYGON ((465393.208 8076101.597, 465371.380 8...</td>\n",
       "      <td>306</td>\n",
       "      <td>ENTRE RIOS--GUTIERREZ WIDEN</td>\n",
       "      <td>30035</td>\n",
       "      <td>GUTIERREZ AGUILERA WIDEN GUILLER</td>\n",
       "      <td>L6</td>\n",
       "      <td>14.954778</td>\n",
       "      <td>51</td>\n",
       "      <td>0</td>\n",
       "      <td>50</td>\n",
       "    </tr>\n",
       "  </tbody>\n",
       "</table>\n",
       "</div>"
      ],
      "text/plain": [
       "                                                    geom  unidad_01  \\\n",
       "3361   POLYGON ((465509.579 8077157.826, 465508.141 8...        306   \n",
       "13335  POLYGON ((465921.147 8076761.713, 466061.602 8...        306   \n",
       "13419  POLYGON ((465393.208 8076101.597, 465371.380 8...        306   \n",
       "\n",
       "                         unidad_02  unidad_03  \\\n",
       "3361   ENTRE RIOS--GUTIERREZ WIDEN      30035   \n",
       "13335  ENTRE RIOS--GUTIERREZ WIDEN      30035   \n",
       "13419  ENTRE RIOS--GUTIERREZ WIDEN      30035   \n",
       "\n",
       "                              unidad_04 unidad_05       area  os  soca  inst  \n",
       "3361   GUTIERREZ AGUILERA WIDEN GUILLER     L12.2   5.527511  51     0    50  \n",
       "13335  GUTIERREZ AGUILERA WIDEN GUILLER        L9  10.002896  51     0    50  \n",
       "13419  GUTIERREZ AGUILERA WIDEN GUILLER        L6  14.954778  51     0    50  "
      ]
     },
     "execution_count": 11,
     "metadata": {},
     "output_type": "execute_result"
    }
   ],
   "source": [
    "gdf_result"
   ]
  },
  {
   "cell_type": "code",
   "execution_count": 12,
   "id": "aae81289-3eac-4d9c-b587-30d97c9920d9",
   "metadata": {},
   "outputs": [],
   "source": [
    "# agregar nuevos registros a la base de datos\n",
    "gdf_result.to_postgis(\"parte_diario_pulv\", obtener_engine(), schema=\"drones_pulverizacion\", if_exists=\"append\")"
   ]
  },
  {
   "cell_type": "code",
   "execution_count": 13,
   "id": "5a9dd74a-89b8-42d7-b6fd-8cd529e631a4",
   "metadata": {},
   "outputs": [
    {
     "data": {
      "text/plain": [
       "[51]"
      ]
     },
     "execution_count": 13,
     "metadata": {},
     "output_type": "execute_result"
    }
   ],
   "source": [
    "os_para_cargar"
   ]
  },
  {
   "cell_type": "code",
   "execution_count": 14,
   "id": "18e97ddd-1571-4009-8e7b-7907c9a8eff3",
   "metadata": {},
   "outputs": [
    {
     "name": "stdout",
     "output_type": "stream",
     "text": [
      "Lote registrado en AmigoCloud\n",
      "Lote registrado en AmigoCloud\n",
      "Lote registrado en AmigoCloud\n",
      "✔️ id 51 marcado como procesado.\n"
     ]
    }
   ],
   "source": [
    "# CARGAR A AMIGOCLOD\n",
    "for i in os_para_cargar:\n",
    "    plan_os = obtener_parte_diario_por_os(i)\n",
    "    cargar_a_amigocloud(plan_os)\n",
    "    marcar_como_procesado(i)"
   ]
  },
  {
   "cell_type": "code",
   "execution_count": null,
   "id": "87c3b849-c74d-462a-86f5-611be03713ee",
   "metadata": {},
   "outputs": [],
   "source": []
  },
  {
   "cell_type": "code",
   "execution_count": null,
   "id": "0efa40ff-ec66-4080-ab48-91237e3aaeb2",
   "metadata": {},
   "outputs": [],
   "source": []
  }
 ],
 "metadata": {
  "kernelspec": {
   "display_name": "Python 3 (ipykernel)",
   "language": "python",
   "name": "python3"
  },
  "language_info": {
   "codemirror_mode": {
    "name": "ipython",
    "version": 3
   },
   "file_extension": ".py",
   "mimetype": "text/x-python",
   "name": "python",
   "nbconvert_exporter": "python",
   "pygments_lexer": "ipython3",
   "version": "3.10.13"
  }
 },
 "nbformat": 4,
 "nbformat_minor": 5
}
