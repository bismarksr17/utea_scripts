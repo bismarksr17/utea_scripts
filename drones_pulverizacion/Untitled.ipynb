{
 "cells": [
  {
   "cell_type": "code",
   "execution_count": 6,
   "id": "fc372a35-8847-4368-a474-0500a4927de9",
   "metadata": {},
   "outputs": [],
   "source": [
    "import sys\n",
    "sys.path.append('..')\n",
    "\n",
    "from config import RUTA_UNIDAD_ONE_DRIVE\n",
    "from config import RUTA_LOCAL_ONE_DRIVE\n",
    "from config import API_AMIGOCLOUD_TOKEN_ADM\n",
    "from config import POSTGRES_UTEA"
   ]
  },
  {
   "cell_type": "code",
   "execution_count": 1,
   "id": "054ef0cc-7e8d-4857-ba84-fec1e1843bc4",
   "metadata": {},
   "outputs": [],
   "source": [
    "import pandas as pd\n",
    "from sqlalchemy import create_engine"
   ]
  },
  {
   "cell_type": "code",
   "execution_count": 3,
   "id": "b9739fa6-15fb-4149-85f0-a675888e4de4",
   "metadata": {},
   "outputs": [],
   "source": [
    "# 1. Leer el archivo Excel\n",
    "archivo_excel = r'G:\\Ingenio Azucarero Guabira S.A\\UTEA - SEMANAL - EQUIPO AVIACION UTEA\\Pulverizacion\\2025\\RESUMEN - PULVERIZACION.xlsx'  # Reemplaza con la ruta real\n",
    "df = pd.read_excel(archivo_excel)"
   ]
  },
  {
   "cell_type": "code",
   "execution_count": 4,
   "id": "ab2f2c2c-af08-4da3-b6c9-cc9e07ac292c",
   "metadata": {},
   "outputs": [],
   "source": [
    "# 2. Renombrar columnas (opcional, si es necesario)\n",
    "df.columns = [\n",
    "    'fecha', 'institucion', 'cod_canero', 'nombre_canero',\n",
    "    'hectareas', 'cite', 'producto_1', 'cantidad_lts_1',\n",
    "    'producto_2', 'cantidad_lts_2', 'producto_3', 'cantidad_lts_3',\n",
    "    'link'\n",
    "]"
   ]
  },
  {
   "cell_type": "code",
   "execution_count": 5,
   "id": "c26b6192-49e8-4062-927d-304d17bff084",
   "metadata": {},
   "outputs": [],
   "source": [
    "# 3. Asegurar que los tipos sean correctos\n",
    "df['fecha'] = pd.to_datetime(df['fecha'], dayfirst=True)\n",
    "df['hectareas'] = pd.to_numeric(df['hectareas'], errors='coerce')\n",
    "df['cantidad_lts_1'] = pd.to_numeric(df['cantidad_lts_1'], errors='coerce')\n",
    "df['cantidad_lts_2'] = pd.to_numeric(df['cantidad_lts_2'], errors='coerce')\n",
    "df['cantidad_lts_3'] = pd.to_numeric(df['cantidad_lts_3'], errors='coerce')"
   ]
  },
  {
   "cell_type": "code",
   "execution_count": 8,
   "id": "ef1d6a32-7e3d-4199-b6f2-c5ef66cde90b",
   "metadata": {},
   "outputs": [],
   "source": [
    "def obtener_engine():\n",
    "    return create_engine(\n",
    "        f\"postgresql+psycopg2://{POSTGRES_UTEA['USER']}:{POSTGRES_UTEA['PASSWORD']}@{POSTGRES_UTEA['HOST']}:{POSTGRES_UTEA['PORT']}/{POSTGRES_UTEA['DATABASE']}\"\n",
    "    )"
   ]
  },
  {
   "cell_type": "code",
   "execution_count": 9,
   "id": "db83db50-8ea0-4485-882b-36f31c24a61e",
   "metadata": {},
   "outputs": [
    {
     "data": {
      "text/plain": [
       "46"
      ]
     },
     "execution_count": 9,
     "metadata": {},
     "output_type": "execute_result"
    }
   ],
   "source": [
    "df.to_sql(\n",
    "    'resumen_pulv',\n",
    "    con=obtener_engine(),\n",
    "    if_exists='append',\n",
    "    index=False,\n",
    "    schema='drones_pulverizacion'  # <- Aquí especificas el esquema\n",
    ")"
   ]
  },
  {
   "cell_type": "code",
   "execution_count": null,
   "id": "070f8f06-3348-4119-ad8b-7c84c3619f28",
   "metadata": {},
   "outputs": [],
   "source": []
  },
  {
   "cell_type": "code",
   "execution_count": null,
   "id": "289e2e75-ff5c-4dbe-9c7e-6acdd8fd0089",
   "metadata": {},
   "outputs": [],
   "source": []
  },
  {
   "cell_type": "code",
   "execution_count": null,
   "id": "7f74fbc6-ef17-4717-a51d-f9d78d5f644f",
   "metadata": {},
   "outputs": [],
   "source": []
  },
  {
   "cell_type": "code",
   "execution_count": null,
   "id": "bb8bbe8c-74bd-40d0-a845-78f6626bd575",
   "metadata": {},
   "outputs": [],
   "source": []
  }
 ],
 "metadata": {
  "kernelspec": {
   "display_name": "Python 3 (ipykernel)",
   "language": "python",
   "name": "python3"
  },
  "language_info": {
   "codemirror_mode": {
    "name": "ipython",
    "version": 3
   },
   "file_extension": ".py",
   "mimetype": "text/x-python",
   "name": "python",
   "nbconvert_exporter": "python",
   "pygments_lexer": "ipython3",
   "version": "3.10.13"
  }
 },
 "nbformat": 4,
 "nbformat_minor": 5
}
