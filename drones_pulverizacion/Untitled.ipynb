{
 "cells": [
  {
   "cell_type": "code",
   "execution_count": 9,
   "id": "d8275a4e-bf74-457a-baf1-bf3022425391",
   "metadata": {},
   "outputs": [],
   "source": [
    "import geopandas as gpd\n",
    "from sqlalchemy import create_engine\n",
    "\n",
    "# Datos de conexión a PostgreSQL/PostGIS\n",
    "db_host = 'localhost'\n",
    "db_name = 'pulverizacion'\n",
    "db_user = 'postgres'\n",
    "db_pass = '77663540'\n",
    "db_port = '5433'  # El puerto predeterminado de PostgreSQL\n",
    "\n",
    "# Crear URL de conexión\n",
    "connection_url = f\"postgresql://{db_user}:{db_pass}@{db_host}:{db_port}/{db_name}\"\n",
    "\n",
    "# Crear motor (engine) de SQLAlchemy\n",
    "engine = create_engine(connection_url)"
   ]
  },
  {
   "cell_type": "code",
   "execution_count": 20,
   "id": "58ba44c0-797c-4a83-8fe6-8a3d1ba2ad3f",
   "metadata": {},
   "outputs": [
    {
     "data": {
      "text/html": [
       "<div>\n",
       "<style scoped>\n",
       "    .dataframe tbody tr th:only-of-type {\n",
       "        vertical-align: middle;\n",
       "    }\n",
       "\n",
       "    .dataframe tbody tr th {\n",
       "        vertical-align: top;\n",
       "    }\n",
       "\n",
       "    .dataframe thead th {\n",
       "        text-align: right;\n",
       "    }\n",
       "</style>\n",
       "<table border=\"1\" class=\"dataframe\">\n",
       "  <thead>\n",
       "    <tr style=\"text-align: right;\">\n",
       "      <th></th>\n",
       "      <th>gid</th>\n",
       "      <th>geom</th>\n",
       "      <th>unidad_03</th>\n",
       "      <th>unidad_04</th>\n",
       "      <th>os</th>\n",
       "      <th>obs</th>\n",
       "      <th>procesado</th>\n",
       "    </tr>\n",
       "  </thead>\n",
       "  <tbody>\n",
       "    <tr>\n",
       "      <th>0</th>\n",
       "      <td>19</td>\n",
       "      <td>MULTIPOINT (480692.621 8089936.437, 480734.955...</td>\n",
       "      <td>75</td>\n",
       "      <td>AGUILERA TARADELLES NELSON MARIANO</td>\n",
       "      <td>12</td>\n",
       "      <td>None</td>\n",
       "      <td>None</td>\n",
       "    </tr>\n",
       "    <tr>\n",
       "      <th>1</th>\n",
       "      <td>18</td>\n",
       "      <td>MULTIPOINT (483868.460 8066912.246, 484863.296...</td>\n",
       "      <td>86</td>\n",
       "      <td>AGUILERA TARADELLES JOSE LUIS</td>\n",
       "      <td>10</td>\n",
       "      <td>None</td>\n",
       "      <td>None</td>\n",
       "    </tr>\n",
       "    <tr>\n",
       "      <th>2</th>\n",
       "      <td>17</td>\n",
       "      <td>MULTIPOINT (479098.842 8088980.865, 479180.640...</td>\n",
       "      <td>75</td>\n",
       "      <td>AGUILERA TARADELLES NELSON MARIANO</td>\n",
       "      <td>9</td>\n",
       "      <td>None</td>\n",
       "      <td>None</td>\n",
       "    </tr>\n",
       "    <tr>\n",
       "      <th>3</th>\n",
       "      <td>10</td>\n",
       "      <td>MULTIPOINT (472489.092 8093561.638, 472772.726...</td>\n",
       "      <td>2641</td>\n",
       "      <td>CRONENBOLD AGUILERA ROBERTO</td>\n",
       "      <td>8</td>\n",
       "      <td>None</td>\n",
       "      <td>None</td>\n",
       "    </tr>\n",
       "    <tr>\n",
       "      <th>4</th>\n",
       "      <td>12</td>\n",
       "      <td>MULTIPOINT (487114.240 8094228.617, 487426.449...</td>\n",
       "      <td>1530</td>\n",
       "      <td>C.I.T.T.C.A.</td>\n",
       "      <td>8</td>\n",
       "      <td>None</td>\n",
       "      <td>None</td>\n",
       "    </tr>\n",
       "  </tbody>\n",
       "</table>\n",
       "</div>"
      ],
      "text/plain": [
       "   gid                                               geom  unidad_03  \\\n",
       "0   19  MULTIPOINT (480692.621 8089936.437, 480734.955...         75   \n",
       "1   18  MULTIPOINT (483868.460 8066912.246, 484863.296...         86   \n",
       "2   17  MULTIPOINT (479098.842 8088980.865, 479180.640...         75   \n",
       "3   10  MULTIPOINT (472489.092 8093561.638, 472772.726...       2641   \n",
       "4   12  MULTIPOINT (487114.240 8094228.617, 487426.449...       1530   \n",
       "\n",
       "                            unidad_04  os   obs procesado  \n",
       "0  AGUILERA TARADELLES NELSON MARIANO  12  None      None  \n",
       "1       AGUILERA TARADELLES JOSE LUIS  10  None      None  \n",
       "2  AGUILERA TARADELLES NELSON MARIANO   9  None      None  \n",
       "3         CRONENBOLD AGUILERA ROBERTO   8  None      None  \n",
       "4                        C.I.T.T.C.A.   8  None      None  "
      ]
     },
     "execution_count": 20,
     "metadata": {},
     "output_type": "execute_result"
    }
   ],
   "source": [
    "# Consulta SQL para obtener todos los registros de la tabla \"parcelas\"\n",
    "sql_query = \"SELECT * FROM puntos_planificacion ORDER BY os DESC;\"\n",
    "\n",
    "# Leer la consulta directamente a un GeoDataFrame\n",
    "gdf = gpd.read_postgis(sql_query, con=engine, geom_col='geom')\n",
    "\n",
    "# Mostrar las primeras filas\n",
    "gdf.head()"
   ]
  },
  {
   "cell_type": "code",
   "execution_count": null,
   "id": "898cf43b-5f5e-4e46-a3e0-370ee3d6f882",
   "metadata": {},
   "outputs": [],
   "source": []
  },
  {
   "cell_type": "code",
   "execution_count": null,
   "id": "9126ba54-5bba-4bcc-bbab-9c8cc4af4e64",
   "metadata": {},
   "outputs": [],
   "source": []
  },
  {
   "cell_type": "code",
   "execution_count": null,
   "id": "73f7dd62-32d1-4d12-b011-9b3d3ebe2517",
   "metadata": {},
   "outputs": [],
   "source": []
  },
  {
   "cell_type": "code",
   "execution_count": null,
   "id": "c5ddfd06-a387-417f-b28f-37cd57255892",
   "metadata": {},
   "outputs": [],
   "source": []
  },
  {
   "cell_type": "code",
   "execution_count": null,
   "id": "05721b3d-a739-4a0b-8cac-ab5463945545",
   "metadata": {},
   "outputs": [],
   "source": []
  },
  {
   "cell_type": "code",
   "execution_count": null,
   "id": "054ef0cc-7e8d-4857-ba84-fec1e1843bc4",
   "metadata": {},
   "outputs": [],
   "source": []
  },
  {
   "cell_type": "code",
   "execution_count": null,
   "id": "289e2e75-ff5c-4dbe-9c7e-6acdd8fd0089",
   "metadata": {},
   "outputs": [],
   "source": []
  },
  {
   "cell_type": "code",
   "execution_count": null,
   "id": "7f74fbc6-ef17-4717-a51d-f9d78d5f644f",
   "metadata": {},
   "outputs": [],
   "source": []
  },
  {
   "cell_type": "code",
   "execution_count": null,
   "id": "bb8bbe8c-74bd-40d0-a845-78f6626bd575",
   "metadata": {},
   "outputs": [],
   "source": []
  }
 ],
 "metadata": {
  "kernelspec": {
   "display_name": "Python 3 (ipykernel)",
   "language": "python",
   "name": "python3"
  },
  "language_info": {
   "codemirror_mode": {
    "name": "ipython",
    "version": 3
   },
   "file_extension": ".py",
   "mimetype": "text/x-python",
   "name": "python",
   "nbconvert_exporter": "python",
   "pygments_lexer": "ipython3",
   "version": "3.10.13"
  }
 },
 "nbformat": 4,
 "nbformat_minor": 5
}
