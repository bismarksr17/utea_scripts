{
 "cells": [
  {
   "cell_type": "code",
   "execution_count": null,
   "id": "5152abed-cb46-4ba0-8611-d08497bd369c",
   "metadata": {},
   "outputs": [],
   "source": []
  },
  {
   "cell_type": "code",
   "execution_count": 1,
   "id": "d8d15f53-1f4c-40c8-977a-2e2192f015e1",
   "metadata": {},
   "outputs": [],
   "source": [
    "ruta_data = 'C:\\Documents'"
   ]
  },
  {
   "cell_type": "code",
   "execution_count": 5,
   "id": "1e3fb9c4-20c4-40f0-a2f3-b90a81657f10",
   "metadata": {},
   "outputs": [],
   "source": [
    "ruta_rec = ruta_data + r'\\Ingenio Azucarero Guabira S.A\\UTEA - SEMANAL - EQUIPO AVIACION UTEA\\Pulverizacion\\2024\\LOGS\\56_TEST\\T40_20241115095605_R7908042724.kml'"
   ]
  },
  {
   "cell_type": "code",
   "execution_count": 6,
   "id": "91b5cbcc-f419-4b8b-a915-e309a16d9159",
   "metadata": {},
   "outputs": [
    {
     "data": {
      "text/plain": [
       "'C:\\\\Documents\\\\Ingenio Azucarero Guabira S.A\\\\UTEA - SEMANAL - EQUIPO AVIACION UTEA\\\\Pulverizacion\\\\2024\\\\LOGS\\\\56_TEST\\\\T40_20241115095605_R7908042724.kml'"
      ]
     },
     "execution_count": 6,
     "metadata": {},
     "output_type": "execute_result"
    }
   ],
   "source": [
    "ruta_rec"
   ]
  },
  {
   "cell_type": "code",
   "execution_count": null,
   "id": "5be86766-0b37-425a-bc23-6ed94b2df3fb",
   "metadata": {},
   "outputs": [],
   "source": []
  },
  {
   "cell_type": "code",
   "execution_count": null,
   "id": "2c9a156a-9eea-4eb9-8ff6-994d9381f4cd",
   "metadata": {},
   "outputs": [],
   "source": []
  }
 ],
 "metadata": {
  "kernelspec": {
   "display_name": "Python 3 (ipykernel)",
   "language": "python",
   "name": "python3"
  },
  "language_info": {
   "codemirror_mode": {
    "name": "ipython",
    "version": 3
   },
   "file_extension": ".py",
   "mimetype": "text/x-python",
   "name": "python",
   "nbconvert_exporter": "python",
   "pygments_lexer": "ipython3",
   "version": "3.10.13"
  }
 },
 "nbformat": 4,
 "nbformat_minor": 5
}
