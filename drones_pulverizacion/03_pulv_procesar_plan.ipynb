{
 "cells": [
  {
   "cell_type": "code",
   "execution_count": 2,
   "id": "55ba6a11-d62e-4973-af23-9dd1d9b4759c",
   "metadata": {},
   "outputs": [],
   "source": [
    "import sys\n",
    "sys.path.append('../_amigocloud')\n",
    "from amigocloud import AmigoCloud\n",
    "import pandas as pd\n",
    "from shapely import wkb\n",
    "import geopandas as gpd\n",
    "from shapely.geometry import Point, Polygon, MultiPolygon, MultiPoint\n",
    "import os"
   ]
  },
  {
   "cell_type": "code",
   "execution_count": 3,
   "id": "75df620b-8938-44db-ae19-f340754ad7ad",
   "metadata": {},
   "outputs": [],
   "source": [
    "def get_unidad_local():\n",
    "    try:\n",
    "        # ruta del archivo que contiene la información necesaria\n",
    "        with open('../../unidad_local.txt', 'r') as file:\n",
    "            unidad = file.readline().strip()\n",
    "            return unidad\n",
    "    except FileNotFoundError:\n",
    "        print(\"El archivo 'unidad_local.txt' no se encuentra en la ruta especificada.\")\n",
    "    return None\n",
    "\n",
    "def get_ruta_local():\n",
    "    try:\n",
    "        with open('../ruta_local.txt', 'r') as file:\n",
    "            ruta = file.readline().strip()\n",
    "            return ruta\n",
    "    except FileNotFoundError:\n",
    "        print(\"El archivo 'ruta_local.txt' no se encuentra en la ruta especificada.\")\n",
    "    return None"
   ]
  },
  {
   "cell_type": "code",
   "execution_count": 4,
   "id": "048cbc12-cbc0-4df2-9577-3dc1e3481070",
   "metadata": {},
   "outputs": [
    {
     "data": {
      "text/plain": [
       "'G:\\\\OneDrive - Ingenio Azucarero Guabira S.A\\\\_DATOS_PYTHON'"
      ]
     },
     "execution_count": 4,
     "metadata": {},
     "output_type": "execute_result"
    }
   ],
   "source": [
    "# RUTA ONEDRIVE\n",
    "unidad = get_unidad_local()\n",
    "ruta = get_ruta_local()\n",
    "ruta_completa = os.path.join(unidad, ruta)\n",
    "ruta_completa"
   ]
  },
  {
   "cell_type": "code",
   "execution_count": 5,
   "id": "9bf0d80e-93cc-4482-a8da-b5c9ec53fb5a",
   "metadata": {},
   "outputs": [
    {
     "data": {
      "text/plain": [
       "<amigocloud.AmigoCloud at 0x229ff206c50>"
      ]
     },
     "execution_count": 5,
     "metadata": {},
     "output_type": "execute_result"
    }
   ],
   "source": [
    "# leer token\n",
    "acceso = open(ruta_completa + '/_keys/api_amigocloud_gral.key','r')\n",
    "api_token = acceso.readlines()[0]\n",
    "acceso.close()\n",
    "amigocloud = AmigoCloud(token=api_token)\n",
    "amigocloud"
   ]
  },
  {
   "cell_type": "code",
   "execution_count": 6,
   "id": "e06f2688-48a1-4c8b-82b1-325cc3c33581",
   "metadata": {},
   "outputs": [],
   "source": [
    "path_xlsx_parte = unidad + r'\\Ingenio Azucarero Guabira S.A\\UTEA - SEMANAL - EQUIPO AVIACION UTEA\\Pulverizacion\\2025\\parte_diario_pulverizacion.xlsx'"
   ]
  },
  {
   "cell_type": "code",
   "execution_count": 7,
   "id": "15cd6310-79d9-491f-bec7-619f11a008f4",
   "metadata": {},
   "outputs": [],
   "source": [
    "consulta = {'query': 'select * from dataset_367119'}\n",
    "seleccion = amigocloud.get('https://app.amigocloud.com/api/v1/projects/35248/sql', consulta)\n",
    "datos = seleccion['data']"
   ]
  },
  {
   "cell_type": "code",
   "execution_count": 8,
   "id": "20722b22-f89b-463b-874a-b5140f49baf9",
   "metadata": {},
   "outputs": [],
   "source": [
    "df_datos = gpd.GeoDataFrame(datos)"
   ]
  },
  {
   "cell_type": "code",
   "execution_count": 9,
   "id": "d0521e14-3a10-49a2-b829-47fd0f788c6a",
   "metadata": {},
   "outputs": [
    {
     "data": {
      "text/html": [
       "<div>\n",
       "<style scoped>\n",
       "    .dataframe tbody tr th:only-of-type {\n",
       "        vertical-align: middle;\n",
       "    }\n",
       "\n",
       "    .dataframe tbody tr th {\n",
       "        vertical-align: top;\n",
       "    }\n",
       "\n",
       "    .dataframe thead th {\n",
       "        text-align: right;\n",
       "    }\n",
       "</style>\n",
       "<table border=\"1\" class=\"dataframe\">\n",
       "  <thead>\n",
       "    <tr style=\"text-align: right;\">\n",
       "      <th></th>\n",
       "      <th>id</th>\n",
       "      <th>amigo_id</th>\n",
       "      <th>fecha_registro</th>\n",
       "      <th>referencia</th>\n",
       "      <th>temp_max</th>\n",
       "      <th>temp_min</th>\n",
       "      <th>viento</th>\n",
       "      <th>humedad</th>\n",
       "      <th>observaciones</th>\n",
       "      <th>tipo_cultivo</th>\n",
       "      <th>tipo_desarrollo</th>\n",
       "    </tr>\n",
       "  </thead>\n",
       "  <tbody>\n",
       "    <tr>\n",
       "      <th>0</th>\n",
       "      <td>34</td>\n",
       "      <td>467979c617214839ab5257b6b7907e31</td>\n",
       "      <td>2025-04-10 14:02:30+00:00</td>\n",
       "      <td>0101000020E6100000457B61D79BB64FC06C1679A3A063...</td>\n",
       "      <td>33.0</td>\n",
       "      <td>31.0</td>\n",
       "      <td>6.0</td>\n",
       "      <td>52.0</td>\n",
       "      <td>None</td>\n",
       "      <td>CAÑA DE AZUCAR</td>\n",
       "      <td>MADURACION</td>\n",
       "    </tr>\n",
       "    <tr>\n",
       "      <th>1</th>\n",
       "      <td>35</td>\n",
       "      <td>7cc3c93e5f9d4b9bb33c25b1737cf0ed</td>\n",
       "      <td>2025-04-10 14:13:05+00:00</td>\n",
       "      <td>0101000020E6100000BDC62E51BDD34FC07CDC12149A3D...</td>\n",
       "      <td>30.0</td>\n",
       "      <td>28.0</td>\n",
       "      <td>1.8</td>\n",
       "      <td>60.0</td>\n",
       "      <td>None</td>\n",
       "      <td>CAÑA DE AZUCAR</td>\n",
       "      <td>MADURACION</td>\n",
       "    </tr>\n",
       "    <tr>\n",
       "      <th>2</th>\n",
       "      <td>36</td>\n",
       "      <td>311f2ab0ac964d71b67db75c8fb2c3be</td>\n",
       "      <td>2025-04-10 14:14:29+00:00</td>\n",
       "      <td>0101000020E610000056725F18FAA64FC0C9117C1D825E...</td>\n",
       "      <td>31.0</td>\n",
       "      <td>29.0</td>\n",
       "      <td>1.5</td>\n",
       "      <td>56.0</td>\n",
       "      <td>None</td>\n",
       "      <td>CAÑA DE AZUCAR</td>\n",
       "      <td>MADURACION</td>\n",
       "    </tr>\n",
       "    <tr>\n",
       "      <th>3</th>\n",
       "      <td>37</td>\n",
       "      <td>a9a3f5e0970c4b6191df7e6da915e7ee</td>\n",
       "      <td>2025-04-10 14:17:41+00:00</td>\n",
       "      <td>0101000020E61000006F53F2A08FA44FC02E76FBAC3261...</td>\n",
       "      <td>24.0</td>\n",
       "      <td>22.0</td>\n",
       "      <td>0.0</td>\n",
       "      <td>85.0</td>\n",
       "      <td>None</td>\n",
       "      <td>CAÑA DE AZUCAR</td>\n",
       "      <td>MADURACION</td>\n",
       "    </tr>\n",
       "  </tbody>\n",
       "</table>\n",
       "</div>"
      ],
      "text/plain": [
       "   id                          amigo_id             fecha_registro  \\\n",
       "0  34  467979c617214839ab5257b6b7907e31  2025-04-10 14:02:30+00:00   \n",
       "1  35  7cc3c93e5f9d4b9bb33c25b1737cf0ed  2025-04-10 14:13:05+00:00   \n",
       "2  36  311f2ab0ac964d71b67db75c8fb2c3be  2025-04-10 14:14:29+00:00   \n",
       "3  37  a9a3f5e0970c4b6191df7e6da915e7ee  2025-04-10 14:17:41+00:00   \n",
       "\n",
       "                                          referencia  temp_max  temp_min  \\\n",
       "0  0101000020E6100000457B61D79BB64FC06C1679A3A063...      33.0      31.0   \n",
       "1  0101000020E6100000BDC62E51BDD34FC07CDC12149A3D...      30.0      28.0   \n",
       "2  0101000020E610000056725F18FAA64FC0C9117C1D825E...      31.0      29.0   \n",
       "3  0101000020E61000006F53F2A08FA44FC02E76FBAC3261...      24.0      22.0   \n",
       "\n",
       "   viento  humedad observaciones    tipo_cultivo tipo_desarrollo  \n",
       "0     6.0     52.0          None  CAÑA DE AZUCAR      MADURACION  \n",
       "1     1.8     60.0          None  CAÑA DE AZUCAR      MADURACION  \n",
       "2     1.5     56.0          None  CAÑA DE AZUCAR      MADURACION  \n",
       "3     0.0     85.0          None  CAÑA DE AZUCAR      MADURACION  "
      ]
     },
     "execution_count": 9,
     "metadata": {},
     "output_type": "execute_result"
    }
   ],
   "source": [
    "df_datos"
   ]
  },
  {
   "cell_type": "code",
   "execution_count": 10,
   "id": "4e7eab8c-f809-4d1c-a9f3-54bba964efea",
   "metadata": {},
   "outputs": [
    {
     "data": {
      "text/plain": [
       "[34, 35, 36, 37]"
      ]
     },
     "execution_count": 10,
     "metadata": {},
     "output_type": "execute_result"
    }
   ],
   "source": [
    "list(set(df_datos['id']))"
   ]
  },
  {
   "cell_type": "code",
   "execution_count": 71,
   "id": "307f4c1d-7b8d-4f59-a7cb-d6aefa245161",
   "metadata": {},
   "outputs": [],
   "source": [
    "idd = 37"
   ]
  },
  {
   "cell_type": "code",
   "execution_count": null,
   "id": "8220f4fc-1813-4e2b-885f-285be693e28f",
   "metadata": {},
   "outputs": [],
   "source": []
  },
  {
   "cell_type": "code",
   "execution_count": null,
   "id": "6e56833d-b03e-44ff-9258-639acda8c0e3",
   "metadata": {},
   "outputs": [],
   "source": []
  },
  {
   "cell_type": "code",
   "execution_count": null,
   "id": "4cddd3e7-c227-4bba-9138-1de1ced6fa93",
   "metadata": {},
   "outputs": [],
   "source": []
  },
  {
   "cell_type": "code",
   "execution_count": null,
   "id": "f866a816-bc95-4db4-ae73-6540e77b57a5",
   "metadata": {},
   "outputs": [],
   "source": []
  }
 ],
 "metadata": {
  "kernelspec": {
   "display_name": "Python 3 (ipykernel)",
   "language": "python",
   "name": "python3"
  },
  "language_info": {
   "codemirror_mode": {
    "name": "ipython",
    "version": 3
   },
   "file_extension": ".py",
   "mimetype": "text/x-python",
   "name": "python",
   "nbconvert_exporter": "python",
   "pygments_lexer": "ipython3",
   "version": "3.10.13"
  }
 },
 "nbformat": 4,
 "nbformat_minor": 5
}
