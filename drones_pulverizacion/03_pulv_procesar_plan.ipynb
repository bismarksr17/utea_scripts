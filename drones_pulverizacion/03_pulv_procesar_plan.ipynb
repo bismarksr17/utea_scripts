{
 "cells": [
  {
   "cell_type": "code",
   "execution_count": 17,
   "id": "55ba6a11-d62e-4973-af23-9dd1d9b4759c",
   "metadata": {},
   "outputs": [],
   "source": [
    "import sys\n",
    "sys.path.append('../_amigocloud')\n",
    "from amigocloud import AmigoCloud\n",
    "import pandas as pd\n",
    "from shapely import wkb\n",
    "import geopandas as gpd\n",
    "from shapely.geometry import Point, Polygon, MultiPolygon, MultiPoint\n",
    "import os"
   ]
  },
  {
   "cell_type": "code",
   "execution_count": 18,
   "id": "75df620b-8938-44db-ae19-f340754ad7ad",
   "metadata": {},
   "outputs": [],
   "source": [
    "def get_unidad_local():\n",
    "    try:\n",
    "        # ruta del archivo que contiene la información necesaria\n",
    "        with open('../../unidad_local.txt', 'r') as file:\n",
    "            unidad = file.readline().strip()\n",
    "            return unidad\n",
    "    except FileNotFoundError:\n",
    "        print(\"El archivo 'unidad_local.txt' no se encuentra en la ruta especificada.\")\n",
    "    return None\n",
    "\n",
    "def get_ruta_local():\n",
    "    try:\n",
    "        with open('../ruta_local.txt', 'r') as file:\n",
    "            ruta = file.readline().strip()\n",
    "            return ruta\n",
    "    except FileNotFoundError:\n",
    "        print(\"El archivo 'ruta_local.txt' no se encuentra en la ruta especificada.\")\n",
    "    return None"
   ]
  },
  {
   "cell_type": "code",
   "execution_count": 20,
   "id": "048cbc12-cbc0-4df2-9577-3dc1e3481070",
   "metadata": {},
   "outputs": [
    {
     "data": {
      "text/plain": [
       "'G:\\\\OneDrive - Ingenio Azucarero Guabira S.A\\\\_DATOS_PYTHON'"
      ]
     },
     "execution_count": 20,
     "metadata": {},
     "output_type": "execute_result"
    }
   ],
   "source": [
    "# RUTA ONEDRIVE\n",
    "unidad = get_unidad_local()\n",
    "ruta = get_ruta_local()\n",
    "ruta_completa = os.path.join(unidad, ruta)\n",
    "ruta_completa"
   ]
  },
  {
   "cell_type": "code",
   "execution_count": 21,
   "id": "9bf0d80e-93cc-4482-a8da-b5c9ec53fb5a",
   "metadata": {},
   "outputs": [
    {
     "data": {
      "text/plain": [
       "<amigocloud.AmigoCloud at 0x201d1889660>"
      ]
     },
     "execution_count": 21,
     "metadata": {},
     "output_type": "execute_result"
    }
   ],
   "source": [
    "# leer token\n",
    "acceso = open(ruta_completa + '/_keys/api_amigocloud_gral.key','r')\n",
    "api_token = acceso.readlines()[0]\n",
    "acceso.close()\n",
    "amigocloud = AmigoCloud(token=api_token)\n",
    "amigocloud"
   ]
  },
  {
   "cell_type": "code",
   "execution_count": 22,
   "id": "e06f2688-48a1-4c8b-82b1-325cc3c33581",
   "metadata": {},
   "outputs": [],
   "source": [
    "path_xlsx_parte = unidad + r'\\Ingenio Azucarero Guabira S.A\\UTEA - SEMANAL - EQUIPO AVIACION UTEA\\Pulverizacion\\2025\\parte_diario_pulverizacion.xlsx'"
   ]
  },
  {
   "cell_type": "code",
   "execution_count": 23,
   "id": "15cd6310-79d9-491f-bec7-619f11a008f4",
   "metadata": {},
   "outputs": [],
   "source": [
    "consulta = {'query': 'select * from dataset_367119'}\n",
    "seleccion = amigocloud.get('https://app.amigocloud.com/api/v1/projects/35248/sql', consulta)\n",
    "datos = seleccion['data']"
   ]
  },
  {
   "cell_type": "code",
   "execution_count": 24,
   "id": "20722b22-f89b-463b-874a-b5140f49baf9",
   "metadata": {},
   "outputs": [],
   "source": [
    "df_datos = gpd.GeoDataFrame(datos)"
   ]
  },
  {
   "cell_type": "code",
   "execution_count": 25,
   "id": "d0521e14-3a10-49a2-b829-47fd0f788c6a",
   "metadata": {},
   "outputs": [
    {
     "data": {
      "text/html": [
       "<div>\n",
       "<style scoped>\n",
       "    .dataframe tbody tr th:only-of-type {\n",
       "        vertical-align: middle;\n",
       "    }\n",
       "\n",
       "    .dataframe tbody tr th {\n",
       "        vertical-align: top;\n",
       "    }\n",
       "\n",
       "    .dataframe thead th {\n",
       "        text-align: right;\n",
       "    }\n",
       "</style>\n",
       "<table border=\"1\" class=\"dataframe\">\n",
       "  <thead>\n",
       "    <tr style=\"text-align: right;\">\n",
       "      <th></th>\n",
       "      <th>id</th>\n",
       "      <th>amigo_id</th>\n",
       "      <th>fecha_registro</th>\n",
       "      <th>referencia</th>\n",
       "      <th>temp_max</th>\n",
       "      <th>temp_min</th>\n",
       "      <th>viento</th>\n",
       "      <th>humedad</th>\n",
       "      <th>observaciones</th>\n",
       "      <th>tipo_cultivo</th>\n",
       "      <th>tipo_desarrollo</th>\n",
       "    </tr>\n",
       "  </thead>\n",
       "  <tbody>\n",
       "    <tr>\n",
       "      <th>0</th>\n",
       "      <td>24</td>\n",
       "      <td>290c20acd6444b03993f23ab86811205</td>\n",
       "      <td>2025-03-28 19:53:47+00:00</td>\n",
       "      <td>0101000020E6100000CB80B3942C974FC07164D46B6948...</td>\n",
       "      <td>29.0</td>\n",
       "      <td>28.0</td>\n",
       "      <td>1.2</td>\n",
       "      <td>80.0</td>\n",
       "      <td>None</td>\n",
       "      <td>CAÑA DE AZUCAR</td>\n",
       "      <td>MADURACION</td>\n",
       "    </tr>\n",
       "  </tbody>\n",
       "</table>\n",
       "</div>"
      ],
      "text/plain": [
       "   id                          amigo_id             fecha_registro  \\\n",
       "0  24  290c20acd6444b03993f23ab86811205  2025-03-28 19:53:47+00:00   \n",
       "\n",
       "                                          referencia  temp_max  temp_min  \\\n",
       "0  0101000020E6100000CB80B3942C974FC07164D46B6948...      29.0      28.0   \n",
       "\n",
       "   viento  humedad observaciones    tipo_cultivo tipo_desarrollo  \n",
       "0     1.2     80.0          None  CAÑA DE AZUCAR      MADURACION  "
      ]
     },
     "execution_count": 25,
     "metadata": {},
     "output_type": "execute_result"
    }
   ],
   "source": [
    "df_datos"
   ]
  },
  {
   "cell_type": "code",
   "execution_count": 26,
   "id": "4e7eab8c-f809-4d1c-a9f3-54bba964efea",
   "metadata": {},
   "outputs": [
    {
     "data": {
      "text/plain": [
       "[24]"
      ]
     },
     "execution_count": 26,
     "metadata": {},
     "output_type": "execute_result"
    }
   ],
   "source": [
    "list(set(df_datos['id']))"
   ]
  },
  {
   "cell_type": "code",
   "execution_count": 27,
   "id": "307f4c1d-7b8d-4f59-a7cb-d6aefa245161",
   "metadata": {},
   "outputs": [],
   "source": [
    "idd = 24"
   ]
  },
  {
   "cell_type": "code",
   "execution_count": null,
   "id": "8220f4fc-1813-4e2b-885f-285be693e28f",
   "metadata": {},
   "outputs": [],
   "source": []
  },
  {
   "cell_type": "code",
   "execution_count": null,
   "id": "6e56833d-b03e-44ff-9258-639acda8c0e3",
   "metadata": {},
   "outputs": [],
   "source": []
  },
  {
   "cell_type": "code",
   "execution_count": null,
   "id": "4cddd3e7-c227-4bba-9138-1de1ced6fa93",
   "metadata": {},
   "outputs": [],
   "source": []
  },
  {
   "cell_type": "code",
   "execution_count": 28,
   "id": "874ff746-a77c-4353-9075-ad2ef1175b61",
   "metadata": {},
   "outputs": [],
   "source": [
    "query = {'query': f'SELECT apli.*, plan.unidad_01, plan.unidad_03, plan.os\\\n",
    "    FROM dataset_367119 apli\\\n",
    "    JOIN dataset_360912 plan\\\n",
    "    ON ST_Intersects(apli.referencia, plan.geometry)\\\n",
    "    where apli.id = {idd}'}\n",
    "select = amigocloud.get('https://app.amigocloud.com/api/v1/projects/35248/sql', query)\n",
    "data_apli = select['data']\n",
    "#df_apli = pd.DataFrame(data_apli)\n",
    "#df_apli"
   ]
  },
  {
   "cell_type": "code",
   "execution_count": 29,
   "id": "b40f9bd7-bda0-4f1e-a0f5-51c76cbf9bd9",
   "metadata": {},
   "outputs": [
    {
     "data": {
      "text/plain": [
       "{'id': 24,\n",
       " 'amigo_id': '290c20acd6444b03993f23ab86811205',\n",
       " 'fecha_registro': '2025-03-28 19:53:47+00:00',\n",
       " 'referencia': '0101000020E6100000CB80B3942C974FC07164D46B694831C0',\n",
       " 'temp_max': 29.0,\n",
       " 'temp_min': 28.0,\n",
       " 'viento': 1.2,\n",
       " 'humedad': 80.0,\n",
       " 'observaciones': None,\n",
       " 'tipo_cultivo': 'CAÑA DE AZUCAR',\n",
       " 'tipo_desarrollo': 'MADURACION',\n",
       " 'unidad_01': 256,\n",
       " 'unidad_03': 75,\n",
       " 'os': 11}"
      ]
     },
     "execution_count": 29,
     "metadata": {},
     "output_type": "execute_result"
    }
   ],
   "source": [
    "dic_apli = data_apli[0]\n",
    "dic_apli"
   ]
  },
  {
   "cell_type": "code",
   "execution_count": 30,
   "id": "b4277645-cc2c-4bee-a677-d628ed0d01c1",
   "metadata": {},
   "outputs": [],
   "source": [
    "cod_prop = dic_apli['unidad_01']\n",
    "cod_ca = dic_apli['unidad_03']\n",
    "oss = dic_apli['os']"
   ]
  },
  {
   "cell_type": "code",
   "execution_count": 31,
   "id": "f75da3c1-fc75-48d3-8c60-b85da6d83438",
   "metadata": {},
   "outputs": [
    {
     "name": "stdout",
     "output_type": "stream",
     "text": [
      "propiedad: 256\n",
      "cañero: 75\n",
      "os: 11\n"
     ]
    }
   ],
   "source": [
    "print('propiedad:', cod_prop)\n",
    "print('cañero:', cod_ca)\n",
    "print('os:', oss)"
   ]
  },
  {
   "cell_type": "code",
   "execution_count": 32,
   "id": "ec526535-5edc-4c23-a05d-4043eb6610e6",
   "metadata": {},
   "outputs": [],
   "source": [
    "#nulos = dic_apli.isnull().sum()\n",
    "#nulos"
   ]
  },
  {
   "cell_type": "code",
   "execution_count": 33,
   "id": "42d86c7a-c69c-4b26-b8bc-3b80209be3c0",
   "metadata": {},
   "outputs": [
    {
     "data": {
      "text/html": [
       "<div>\n",
       "<style scoped>\n",
       "    .dataframe tbody tr th:only-of-type {\n",
       "        vertical-align: middle;\n",
       "    }\n",
       "\n",
       "    .dataframe tbody tr th {\n",
       "        vertical-align: top;\n",
       "    }\n",
       "\n",
       "    .dataframe thead th {\n",
       "        text-align: right;\n",
       "    }\n",
       "</style>\n",
       "<table border=\"1\" class=\"dataframe\">\n",
       "  <thead>\n",
       "    <tr style=\"text-align: right;\">\n",
       "      <th></th>\n",
       "      <th>Nº DE LABOR</th>\n",
       "      <th>FECHA</th>\n",
       "      <th>SEMANA</th>\n",
       "      <th>INSTITUCION</th>\n",
       "      <th>COD CANERO</th>\n",
       "      <th>NOMBRE CANERO</th>\n",
       "      <th>COD PROPIEDAD</th>\n",
       "      <th>NOMBRE PROPIEDAD</th>\n",
       "      <th>LOTE</th>\n",
       "      <th>HECTAREA</th>\n",
       "      <th>...</th>\n",
       "      <th>OS</th>\n",
       "      <th>TEMP MAX</th>\n",
       "      <th>TEMP MIN</th>\n",
       "      <th>TIPO CULTIVO</th>\n",
       "      <th>TIPO DESARROLLO</th>\n",
       "      <th>NUM VUELOS</th>\n",
       "      <th>HORAS VUELO</th>\n",
       "      <th>TOTAL CAUDAL</th>\n",
       "      <th>idd</th>\n",
       "      <th>AREA PULVERIZADO</th>\n",
       "    </tr>\n",
       "  </thead>\n",
       "  <tbody>\n",
       "    <tr>\n",
       "      <th>0</th>\n",
       "      <td>PA-2025-1</td>\n",
       "      <td>2025-03-07</td>\n",
       "      <td>10.0</td>\n",
       "      <td>50</td>\n",
       "      <td>41594</td>\n",
       "      <td>AGROPECUARIA CAMPO DULCE S.R.L.</td>\n",
       "      <td>30</td>\n",
       "      <td>CAMPO DULCE</td>\n",
       "      <td>EP-L31</td>\n",
       "      <td>30.260942</td>\n",
       "      <td>...</td>\n",
       "      <td>1</td>\n",
       "      <td>25.0</td>\n",
       "      <td>20.0</td>\n",
       "      <td>CAÑA DE AZUCAR</td>\n",
       "      <td>MADURACION</td>\n",
       "      <td>104.0</td>\n",
       "      <td>15:03:42</td>\n",
       "      <td>2952.664</td>\n",
       "      <td>1.0</td>\n",
       "      <td>28.333271</td>\n",
       "    </tr>\n",
       "    <tr>\n",
       "      <th>1</th>\n",
       "      <td>PA-2025-1</td>\n",
       "      <td>2025-03-07</td>\n",
       "      <td>10.0</td>\n",
       "      <td>50</td>\n",
       "      <td>41594</td>\n",
       "      <td>AGROPECUARIA CAMPO DULCE S.R.L.</td>\n",
       "      <td>30</td>\n",
       "      <td>CAMPO DULCE</td>\n",
       "      <td>EP-L16</td>\n",
       "      <td>23.216246</td>\n",
       "      <td>...</td>\n",
       "      <td>1</td>\n",
       "      <td>25.0</td>\n",
       "      <td>20.0</td>\n",
       "      <td>CAÑA DE AZUCAR</td>\n",
       "      <td>MADURACION</td>\n",
       "      <td>104.0</td>\n",
       "      <td>15:03:42</td>\n",
       "      <td>2952.664</td>\n",
       "      <td>1.0</td>\n",
       "      <td>21.634272</td>\n",
       "    </tr>\n",
       "    <tr>\n",
       "      <th>2</th>\n",
       "      <td>PA-2025-1</td>\n",
       "      <td>2025-03-07</td>\n",
       "      <td>10.0</td>\n",
       "      <td>50</td>\n",
       "      <td>41594</td>\n",
       "      <td>AGROPECUARIA CAMPO DULCE S.R.L.</td>\n",
       "      <td>30</td>\n",
       "      <td>CAMPO DULCE</td>\n",
       "      <td>ER-L6</td>\n",
       "      <td>19.683505</td>\n",
       "      <td>...</td>\n",
       "      <td>1</td>\n",
       "      <td>25.0</td>\n",
       "      <td>20.0</td>\n",
       "      <td>CAÑA DE AZUCAR</td>\n",
       "      <td>MADURACION</td>\n",
       "      <td>104.0</td>\n",
       "      <td>15:03:42</td>\n",
       "      <td>2952.664</td>\n",
       "      <td>1.0</td>\n",
       "      <td>19.160233</td>\n",
       "    </tr>\n",
       "  </tbody>\n",
       "</table>\n",
       "<p>3 rows × 35 columns</p>\n",
       "</div>"
      ],
      "text/plain": [
       "  Nº DE LABOR      FECHA  SEMANA  INSTITUCION  COD CANERO  \\\n",
       "0   PA-2025-1 2025-03-07    10.0           50       41594   \n",
       "1   PA-2025-1 2025-03-07    10.0           50       41594   \n",
       "2   PA-2025-1 2025-03-07    10.0           50       41594   \n",
       "\n",
       "                     NOMBRE CANERO  COD PROPIEDAD NOMBRE PROPIEDAD    LOTE  \\\n",
       "0  AGROPECUARIA CAMPO DULCE S.R.L.             30      CAMPO DULCE  EP-L31   \n",
       "1  AGROPECUARIA CAMPO DULCE S.R.L.             30      CAMPO DULCE  EP-L16   \n",
       "2  AGROPECUARIA CAMPO DULCE S.R.L.             30      CAMPO DULCE   ER-L6   \n",
       "\n",
       "    HECTAREA  ...  OS TEMP MAX TEMP MIN    TIPO CULTIVO  TIPO DESARROLLO  \\\n",
       "0  30.260942  ...   1     25.0     20.0  CAÑA DE AZUCAR       MADURACION   \n",
       "1  23.216246  ...   1     25.0     20.0  CAÑA DE AZUCAR       MADURACION   \n",
       "2  19.683505  ...   1     25.0     20.0  CAÑA DE AZUCAR       MADURACION   \n",
       "\n",
       "   NUM VUELOS  HORAS VUELO  TOTAL CAUDAL  idd  AREA PULVERIZADO  \n",
       "0       104.0     15:03:42      2952.664  1.0         28.333271  \n",
       "1       104.0     15:03:42      2952.664  1.0         21.634272  \n",
       "2       104.0     15:03:42      2952.664  1.0         19.160233  \n",
       "\n",
       "[3 rows x 35 columns]"
      ]
     },
     "execution_count": 33,
     "metadata": {},
     "output_type": "execute_result"
    }
   ],
   "source": [
    "df_parte = pd.read_excel(path_xlsx_parte)\n",
    "df_parte.head(3)"
   ]
  },
  {
   "cell_type": "code",
   "execution_count": 34,
   "id": "44308836-39a6-401b-937e-5f3a61033fb4",
   "metadata": {},
   "outputs": [],
   "source": [
    "df_parte['FECHA'] = pd.to_datetime(df_parte['FECHA'], errors='coerce')\n",
    "df_parte['HORA DE INICIO'] = pd.to_datetime(df_parte['HORA DE INICIO'], errors='coerce')\n",
    "df_parte['HORA FINAL'] = pd.to_datetime(df_parte['HORA FINAL'], errors='coerce')"
   ]
  },
  {
   "cell_type": "code",
   "execution_count": 35,
   "id": "b94572de-da16-4422-853a-0f53dc123384",
   "metadata": {},
   "outputs": [],
   "source": [
    "df_parte.loc[(df_parte['COD PROPIEDAD'] == dic_apli['unidad_01']) & \n",
    "             (df_parte['COD CANERO'] == dic_apli['unidad_03']) & \n",
    "             (df_parte['OS'] == dic_apli['os']), 'idd'] = dic_apli['id']\n",
    "df_parte.loc[(df_parte['COD PROPIEDAD'] == dic_apli['unidad_01']) & \n",
    "             (df_parte['COD CANERO'] == dic_apli['unidad_03']) & \n",
    "             (df_parte['OS'] == dic_apli['os']), 'TEMP MAX'] = dic_apli['temp_max']\n",
    "df_parte.loc[(df_parte['COD PROPIEDAD'] == dic_apli['unidad_01']) & \n",
    "             (df_parte['COD CANERO'] == dic_apli['unidad_03']) & \n",
    "             (df_parte['OS'] == dic_apli['os']), 'TEMP MIN'] = dic_apli['temp_min']\n",
    "df_parte.loc[(df_parte['COD PROPIEDAD'] == dic_apli['unidad_01']) & \n",
    "             (df_parte['COD CANERO'] == dic_apli['unidad_03']) & \n",
    "             (df_parte['OS'] == dic_apli['os']), 'VIENTO'] = dic_apli['viento']\n",
    "df_parte.loc[(df_parte['COD PROPIEDAD'] == dic_apli['unidad_01']) & \n",
    "             (df_parte['COD CANERO'] == dic_apli['unidad_03']) & \n",
    "             (df_parte['OS'] == dic_apli['os']), 'HUMEDAD'] = dic_apli['humedad']\n",
    "df_parte.loc[(df_parte['COD PROPIEDAD'] == dic_apli['unidad_01']) & \n",
    "             (df_parte['COD CANERO'] == dic_apli['unidad_03']) & \n",
    "             (df_parte['OS'] == dic_apli['os']), 'TIPO CULTIVO'] = dic_apli['tipo_cultivo']\n",
    "df_parte.loc[(df_parte['COD PROPIEDAD'] == dic_apli['unidad_01']) & \n",
    "             (df_parte['COD CANERO'] == dic_apli['unidad_03']) & \n",
    "             (df_parte['OS'] == dic_apli['os']), 'TIPO DESARROLLO'] = dic_apli['tipo_desarrollo']"
   ]
  },
  {
   "cell_type": "code",
   "execution_count": 36,
   "id": "d7297690-1a70-495f-a684-5668863aa44b",
   "metadata": {},
   "outputs": [
    {
     "data": {
      "text/html": [
       "<div>\n",
       "<style scoped>\n",
       "    .dataframe tbody tr th:only-of-type {\n",
       "        vertical-align: middle;\n",
       "    }\n",
       "\n",
       "    .dataframe tbody tr th {\n",
       "        vertical-align: top;\n",
       "    }\n",
       "\n",
       "    .dataframe thead th {\n",
       "        text-align: right;\n",
       "    }\n",
       "</style>\n",
       "<table border=\"1\" class=\"dataframe\">\n",
       "  <thead>\n",
       "    <tr style=\"text-align: right;\">\n",
       "      <th></th>\n",
       "      <th>Nº DE LABOR</th>\n",
       "      <th>FECHA</th>\n",
       "      <th>SEMANA</th>\n",
       "      <th>INSTITUCION</th>\n",
       "      <th>COD CANERO</th>\n",
       "      <th>NOMBRE CANERO</th>\n",
       "      <th>COD PROPIEDAD</th>\n",
       "      <th>NOMBRE PROPIEDAD</th>\n",
       "      <th>LOTE</th>\n",
       "      <th>HECTAREA</th>\n",
       "      <th>...</th>\n",
       "      <th>OS</th>\n",
       "      <th>TEMP MAX</th>\n",
       "      <th>TEMP MIN</th>\n",
       "      <th>TIPO CULTIVO</th>\n",
       "      <th>TIPO DESARROLLO</th>\n",
       "      <th>NUM VUELOS</th>\n",
       "      <th>HORAS VUELO</th>\n",
       "      <th>TOTAL CAUDAL</th>\n",
       "      <th>idd</th>\n",
       "      <th>AREA PULVERIZADO</th>\n",
       "    </tr>\n",
       "  </thead>\n",
       "  <tbody>\n",
       "    <tr>\n",
       "      <th>0</th>\n",
       "      <td>PA-2025-1</td>\n",
       "      <td>2025-03-07</td>\n",
       "      <td>10.0</td>\n",
       "      <td>50</td>\n",
       "      <td>41594</td>\n",
       "      <td>AGROPECUARIA CAMPO DULCE S.R.L.</td>\n",
       "      <td>30</td>\n",
       "      <td>CAMPO DULCE</td>\n",
       "      <td>EP-L31</td>\n",
       "      <td>30.260942</td>\n",
       "      <td>...</td>\n",
       "      <td>1</td>\n",
       "      <td>25.0</td>\n",
       "      <td>20.0</td>\n",
       "      <td>CAÑA DE AZUCAR</td>\n",
       "      <td>MADURACION</td>\n",
       "      <td>104.0</td>\n",
       "      <td>15:03:42</td>\n",
       "      <td>2952.664</td>\n",
       "      <td>1.0</td>\n",
       "      <td>28.333271</td>\n",
       "    </tr>\n",
       "    <tr>\n",
       "      <th>1</th>\n",
       "      <td>PA-2025-1</td>\n",
       "      <td>2025-03-07</td>\n",
       "      <td>10.0</td>\n",
       "      <td>50</td>\n",
       "      <td>41594</td>\n",
       "      <td>AGROPECUARIA CAMPO DULCE S.R.L.</td>\n",
       "      <td>30</td>\n",
       "      <td>CAMPO DULCE</td>\n",
       "      <td>EP-L16</td>\n",
       "      <td>23.216246</td>\n",
       "      <td>...</td>\n",
       "      <td>1</td>\n",
       "      <td>25.0</td>\n",
       "      <td>20.0</td>\n",
       "      <td>CAÑA DE AZUCAR</td>\n",
       "      <td>MADURACION</td>\n",
       "      <td>104.0</td>\n",
       "      <td>15:03:42</td>\n",
       "      <td>2952.664</td>\n",
       "      <td>1.0</td>\n",
       "      <td>21.634272</td>\n",
       "    </tr>\n",
       "    <tr>\n",
       "      <th>2</th>\n",
       "      <td>PA-2025-1</td>\n",
       "      <td>2025-03-07</td>\n",
       "      <td>10.0</td>\n",
       "      <td>50</td>\n",
       "      <td>41594</td>\n",
       "      <td>AGROPECUARIA CAMPO DULCE S.R.L.</td>\n",
       "      <td>30</td>\n",
       "      <td>CAMPO DULCE</td>\n",
       "      <td>ER-L6</td>\n",
       "      <td>19.683505</td>\n",
       "      <td>...</td>\n",
       "      <td>1</td>\n",
       "      <td>25.0</td>\n",
       "      <td>20.0</td>\n",
       "      <td>CAÑA DE AZUCAR</td>\n",
       "      <td>MADURACION</td>\n",
       "      <td>104.0</td>\n",
       "      <td>15:03:42</td>\n",
       "      <td>2952.664</td>\n",
       "      <td>1.0</td>\n",
       "      <td>19.160233</td>\n",
       "    </tr>\n",
       "  </tbody>\n",
       "</table>\n",
       "<p>3 rows × 35 columns</p>\n",
       "</div>"
      ],
      "text/plain": [
       "  Nº DE LABOR      FECHA  SEMANA  INSTITUCION  COD CANERO  \\\n",
       "0   PA-2025-1 2025-03-07    10.0           50       41594   \n",
       "1   PA-2025-1 2025-03-07    10.0           50       41594   \n",
       "2   PA-2025-1 2025-03-07    10.0           50       41594   \n",
       "\n",
       "                     NOMBRE CANERO  COD PROPIEDAD NOMBRE PROPIEDAD    LOTE  \\\n",
       "0  AGROPECUARIA CAMPO DULCE S.R.L.             30      CAMPO DULCE  EP-L31   \n",
       "1  AGROPECUARIA CAMPO DULCE S.R.L.             30      CAMPO DULCE  EP-L16   \n",
       "2  AGROPECUARIA CAMPO DULCE S.R.L.             30      CAMPO DULCE   ER-L6   \n",
       "\n",
       "    HECTAREA  ...  OS TEMP MAX TEMP MIN    TIPO CULTIVO  TIPO DESARROLLO  \\\n",
       "0  30.260942  ...   1     25.0     20.0  CAÑA DE AZUCAR       MADURACION   \n",
       "1  23.216246  ...   1     25.0     20.0  CAÑA DE AZUCAR       MADURACION   \n",
       "2  19.683505  ...   1     25.0     20.0  CAÑA DE AZUCAR       MADURACION   \n",
       "\n",
       "   NUM VUELOS  HORAS VUELO  TOTAL CAUDAL  idd  AREA PULVERIZADO  \n",
       "0       104.0     15:03:42      2952.664  1.0         28.333271  \n",
       "1       104.0     15:03:42      2952.664  1.0         21.634272  \n",
       "2       104.0     15:03:42      2952.664  1.0         19.160233  \n",
       "\n",
       "[3 rows x 35 columns]"
      ]
     },
     "execution_count": 36,
     "metadata": {},
     "output_type": "execute_result"
    }
   ],
   "source": [
    "df_parte.head(3)"
   ]
  },
  {
   "cell_type": "code",
   "execution_count": 37,
   "id": "5bea374a-f2c8-49f8-9964-57412720d32a",
   "metadata": {},
   "outputs": [],
   "source": [
    "output_path = path_xlsx_parte\n",
    "df_parte.to_excel(output_path, index=False)"
   ]
  },
  {
   "cell_type": "code",
   "execution_count": null,
   "id": "be282421-c6f4-4520-a229-e246fb6b0d9c",
   "metadata": {},
   "outputs": [],
   "source": []
  },
  {
   "cell_type": "markdown",
   "id": "e7fcf918-3663-47db-b527-058a556b29e6",
   "metadata": {},
   "source": [
    "# HACER COPIA Y ELIMINAR PARTE DIARIO Y PLANIFICACION DE AMIGOCLOUD"
   ]
  },
  {
   "cell_type": "code",
   "execution_count": 38,
   "id": "aafe1bee-47f1-458e-a0c5-655d787f809f",
   "metadata": {},
   "outputs": [
    {
     "data": {
      "text/plain": [
       "24"
      ]
     },
     "execution_count": 38,
     "metadata": {},
     "output_type": "execute_result"
    }
   ],
   "source": [
    "idd"
   ]
  },
  {
   "cell_type": "code",
   "execution_count": 39,
   "id": "92e4fc0b-cb54-4453-9156-a42a856de8cb",
   "metadata": {},
   "outputs": [
    {
     "name": "stdout",
     "output_type": "stream",
     "text": [
      "se proceso IDD: 24\n"
     ]
    }
   ],
   "source": [
    "#copia y elimina los idd indicados del parte diario de amigocloud\n",
    "id_proyecto = f'https://app.amigocloud.com/api/v1/projects/35248/sql'\n",
    "query = f'INSERT INTO dataset_367584 (id, fecha_registro, temp_max, temp_min, viento, humedad, observaciones, tipo_cultivo, tipo_desarrollo, referencia)\\\n",
    "        SELECT id, fecha_registro, temp_max, temp_min, viento, humedad, observaciones, tipo_cultivo, tipo_desarrollo, referencia\\\n",
    "        FROM dataset_367119\\\n",
    "        WHERE id = {idd}'\n",
    "query_sql = {'query': query}\n",
    "post = amigocloud.post(id_proyecto, query_sql)\n",
    "query = {'query': f'DELETE FROM dataset_367119 WHERE id = {idd}'}\n",
    "ejecutar = amigocloud.post(id_proyecto, query)\n",
    "print('se proceso IDD:', idd)"
   ]
  },
  {
   "cell_type": "code",
   "execution_count": 40,
   "id": "b790d84e-c939-4216-98ab-d3652dbcc6c1",
   "metadata": {},
   "outputs": [
    {
     "name": "stdout",
     "output_type": "stream",
     "text": [
      "se proceso ID: 24\n"
     ]
    }
   ],
   "source": [
    "#copia y elimina los id indicados de la planificacion semanal de amigocloud\n",
    "id_proyecto = f'https://app.amigocloud.com/api/v1/projects/35248/sql'\n",
    "query = f'INSERT INTO dataset_360915 (fecha_registro, id, unidad_01, unidad_02, unidad_03, unidad_04, unidad_05, area, os, geometry)\\\n",
    "            SELECT fecha_registro, id, unidad_01, unidad_02, unidad_03, unidad_04, unidad_05, area, os, geometry\\\n",
    "            FROM dataset_360912\\\n",
    "            WHERE unidad_01 = {cod_prop} and os = {oss}'\n",
    "query_sql = {'query': query}\n",
    "post = amigocloud.post(id_proyecto, query_sql)\n",
    "query = {'query': f'DELETE FROM dataset_360912 WHERE unidad_01 = {cod_prop}'}\n",
    "ejecutar = amigocloud.post(id_proyecto, query)\n",
    "print('se proceso ID:', idd)"
   ]
  },
  {
   "cell_type": "markdown",
   "id": "0baf0172-e355-4e1d-8e93-931bdfce8dc8",
   "metadata": {},
   "source": [
    "## Copiar ids de PARTE DIARIO a PLANIFICACION"
   ]
  },
  {
   "cell_type": "code",
   "execution_count": 41,
   "id": "94fe297f-01cf-4675-bca0-578970ea8169",
   "metadata": {},
   "outputs": [],
   "source": [
    "path_planificacion = unidad + r'\\Ingenio Azucarero Guabira S.A\\UTEA - SEMANAL - EQUIPO AVIACION UTEA\\Pulverizacion\\2025\\SHP\\PLANIFICACION.shp'"
   ]
  },
  {
   "cell_type": "code",
   "execution_count": 42,
   "id": "d89daeb1-80cc-42a9-846e-0da386074162",
   "metadata": {},
   "outputs": [],
   "source": [
    "gdf_plan = gpd.read_file(path_planificacion)"
   ]
  },
  {
   "cell_type": "code",
   "execution_count": 43,
   "id": "6c3898c2-b93b-4baa-b142-713c0566fe28",
   "metadata": {},
   "outputs": [],
   "source": [
    "gdf_plan.loc[(gdf_plan['unidad_01'] == dic_apli['unidad_01']) & \n",
    "             (gdf_plan['unidad_03'] == dic_apli['unidad_03']) & \n",
    "             (gdf_plan['os'] == dic_apli['os']), 'idd'] = dic_apli['id']"
   ]
  },
  {
   "cell_type": "code",
   "execution_count": 44,
   "id": "18bbca1f-e22a-4032-a312-f86a5443bd76",
   "metadata": {},
   "outputs": [
    {
     "data": {
      "text/html": [
       "<div>\n",
       "<style scoped>\n",
       "    .dataframe tbody tr th:only-of-type {\n",
       "        vertical-align: middle;\n",
       "    }\n",
       "\n",
       "    .dataframe tbody tr th {\n",
       "        vertical-align: top;\n",
       "    }\n",
       "\n",
       "    .dataframe thead th {\n",
       "        text-align: right;\n",
       "    }\n",
       "</style>\n",
       "<table border=\"1\" class=\"dataframe\">\n",
       "  <thead>\n",
       "    <tr style=\"text-align: right;\">\n",
       "      <th></th>\n",
       "      <th>unidad_01</th>\n",
       "      <th>unidad_02</th>\n",
       "      <th>unidad_03</th>\n",
       "      <th>unidad_04</th>\n",
       "      <th>unidad_05</th>\n",
       "      <th>area</th>\n",
       "      <th>os</th>\n",
       "      <th>soca</th>\n",
       "      <th>id</th>\n",
       "      <th>inst</th>\n",
       "      <th>idd</th>\n",
       "      <th>geometry</th>\n",
       "    </tr>\n",
       "  </thead>\n",
       "  <tbody>\n",
       "    <tr>\n",
       "      <th>0</th>\n",
       "      <td>30</td>\n",
       "      <td>CAMPO DULCE</td>\n",
       "      <td>41594</td>\n",
       "      <td>AGROPECUARIA CAMPO DULCE S.R.L.</td>\n",
       "      <td>EP-L31</td>\n",
       "      <td>30.260942</td>\n",
       "      <td>1</td>\n",
       "      <td>2</td>\n",
       "      <td>1</td>\n",
       "      <td>50</td>\n",
       "      <td>1.0</td>\n",
       "      <td>POLYGON ((504085.659 8094406.031, 503737.808 8...</td>\n",
       "    </tr>\n",
       "    <tr>\n",
       "      <th>1</th>\n",
       "      <td>30</td>\n",
       "      <td>CAMPO DULCE</td>\n",
       "      <td>41594</td>\n",
       "      <td>AGROPECUARIA CAMPO DULCE S.R.L.</td>\n",
       "      <td>EP-L16</td>\n",
       "      <td>23.216246</td>\n",
       "      <td>1</td>\n",
       "      <td>4</td>\n",
       "      <td>2</td>\n",
       "      <td>50</td>\n",
       "      <td>1.0</td>\n",
       "      <td>POLYGON ((504352.053 8094797.970, 504272.088 8...</td>\n",
       "    </tr>\n",
       "    <tr>\n",
       "      <th>2</th>\n",
       "      <td>30</td>\n",
       "      <td>CAMPO DULCE</td>\n",
       "      <td>41594</td>\n",
       "      <td>AGROPECUARIA CAMPO DULCE S.R.L.</td>\n",
       "      <td>ER-L6</td>\n",
       "      <td>19.683505</td>\n",
       "      <td>1</td>\n",
       "      <td>5</td>\n",
       "      <td>3</td>\n",
       "      <td>50</td>\n",
       "      <td>1.0</td>\n",
       "      <td>POLYGON ((503260.583 8094596.306, 503714.735 8...</td>\n",
       "    </tr>\n",
       "    <tr>\n",
       "      <th>3</th>\n",
       "      <td>30</td>\n",
       "      <td>CAMPO DULCE</td>\n",
       "      <td>41594</td>\n",
       "      <td>AGROPECUARIA CAMPO DULCE S.R.L.</td>\n",
       "      <td>EP-L35</td>\n",
       "      <td>7.795719</td>\n",
       "      <td>1</td>\n",
       "      <td>4</td>\n",
       "      <td>4</td>\n",
       "      <td>50</td>\n",
       "      <td>1.0</td>\n",
       "      <td>POLYGON ((504693.348 8094607.629, 504673.327 8...</td>\n",
       "    </tr>\n",
       "    <tr>\n",
       "      <th>4</th>\n",
       "      <td>30</td>\n",
       "      <td>CAMPO DULCE</td>\n",
       "      <td>41594</td>\n",
       "      <td>AGROPECUARIA CAMPO DULCE S.R.L.</td>\n",
       "      <td>EP-L34</td>\n",
       "      <td>7.048921</td>\n",
       "      <td>1</td>\n",
       "      <td>5</td>\n",
       "      <td>5</td>\n",
       "      <td>50</td>\n",
       "      <td>1.0</td>\n",
       "      <td>POLYGON ((504137.327 8094415.183, 504648.080 8...</td>\n",
       "    </tr>\n",
       "    <tr>\n",
       "      <th>...</th>\n",
       "      <td>...</td>\n",
       "      <td>...</td>\n",
       "      <td>...</td>\n",
       "      <td>...</td>\n",
       "      <td>...</td>\n",
       "      <td>...</td>\n",
       "      <td>...</td>\n",
       "      <td>...</td>\n",
       "      <td>...</td>\n",
       "      <td>...</td>\n",
       "      <td>...</td>\n",
       "      <td>...</td>\n",
       "    </tr>\n",
       "    <tr>\n",
       "      <th>133</th>\n",
       "      <td>256</td>\n",
       "      <td>LOS ANDES--AGUILERA</td>\n",
       "      <td>75</td>\n",
       "      <td>AGUILERA TARADELLES NELSON MARIANO</td>\n",
       "      <td>LA20</td>\n",
       "      <td>7.890023</td>\n",
       "      <td>11</td>\n",
       "      <td>2</td>\n",
       "      <td>140</td>\n",
       "      <td>50</td>\n",
       "      <td>24.0</td>\n",
       "      <td>POLYGON ((481237.012 8089847.643, 481636.666 8...</td>\n",
       "    </tr>\n",
       "    <tr>\n",
       "      <th>134</th>\n",
       "      <td>256</td>\n",
       "      <td>LOS ANDES--AGUILERA</td>\n",
       "      <td>75</td>\n",
       "      <td>AGUILERA TARADELLES NELSON MARIANO</td>\n",
       "      <td>LA16</td>\n",
       "      <td>24.621769</td>\n",
       "      <td>11</td>\n",
       "      <td>2</td>\n",
       "      <td>141</td>\n",
       "      <td>50</td>\n",
       "      <td>24.0</td>\n",
       "      <td>POLYGON ((480558.376 8088818.995, 481054.399 8...</td>\n",
       "    </tr>\n",
       "    <tr>\n",
       "      <th>135</th>\n",
       "      <td>256</td>\n",
       "      <td>LOS ANDES--AGUILERA</td>\n",
       "      <td>75</td>\n",
       "      <td>AGUILERA TARADELLES NELSON MARIANO</td>\n",
       "      <td>LA24</td>\n",
       "      <td>13.205059</td>\n",
       "      <td>11</td>\n",
       "      <td>1</td>\n",
       "      <td>142</td>\n",
       "      <td>50</td>\n",
       "      <td>24.0</td>\n",
       "      <td>POLYGON ((480301.359 8089838.440, 480241.822 8...</td>\n",
       "    </tr>\n",
       "    <tr>\n",
       "      <th>136</th>\n",
       "      <td>256</td>\n",
       "      <td>LOS ANDES--AGUILERA</td>\n",
       "      <td>75</td>\n",
       "      <td>AGUILERA TARADELLES NELSON MARIANO</td>\n",
       "      <td>LA23</td>\n",
       "      <td>15.996730</td>\n",
       "      <td>11</td>\n",
       "      <td>1</td>\n",
       "      <td>143</td>\n",
       "      <td>50</td>\n",
       "      <td>24.0</td>\n",
       "      <td>POLYGON ((481067.239 8090028.913, 480287.808 8...</td>\n",
       "    </tr>\n",
       "    <tr>\n",
       "      <th>137</th>\n",
       "      <td>256</td>\n",
       "      <td>LOS ANDES--AGUILERA</td>\n",
       "      <td>75</td>\n",
       "      <td>AGUILERA TARADELLES NELSON MARIANO</td>\n",
       "      <td>LA1</td>\n",
       "      <td>30.346484</td>\n",
       "      <td>11</td>\n",
       "      <td>2</td>\n",
       "      <td>144</td>\n",
       "      <td>50</td>\n",
       "      <td>24.0</td>\n",
       "      <td>POLYGON ((480565.400 8088825.256, 480561.546 8...</td>\n",
       "    </tr>\n",
       "  </tbody>\n",
       "</table>\n",
       "<p>138 rows × 12 columns</p>\n",
       "</div>"
      ],
      "text/plain": [
       "     unidad_01            unidad_02  unidad_03  \\\n",
       "0           30          CAMPO DULCE      41594   \n",
       "1           30          CAMPO DULCE      41594   \n",
       "2           30          CAMPO DULCE      41594   \n",
       "3           30          CAMPO DULCE      41594   \n",
       "4           30          CAMPO DULCE      41594   \n",
       "..         ...                  ...        ...   \n",
       "133        256  LOS ANDES--AGUILERA         75   \n",
       "134        256  LOS ANDES--AGUILERA         75   \n",
       "135        256  LOS ANDES--AGUILERA         75   \n",
       "136        256  LOS ANDES--AGUILERA         75   \n",
       "137        256  LOS ANDES--AGUILERA         75   \n",
       "\n",
       "                              unidad_04 unidad_05       area  os  soca   id  \\\n",
       "0       AGROPECUARIA CAMPO DULCE S.R.L.    EP-L31  30.260942   1     2    1   \n",
       "1       AGROPECUARIA CAMPO DULCE S.R.L.    EP-L16  23.216246   1     4    2   \n",
       "2       AGROPECUARIA CAMPO DULCE S.R.L.     ER-L6  19.683505   1     5    3   \n",
       "3       AGROPECUARIA CAMPO DULCE S.R.L.    EP-L35   7.795719   1     4    4   \n",
       "4       AGROPECUARIA CAMPO DULCE S.R.L.    EP-L34   7.048921   1     5    5   \n",
       "..                                  ...       ...        ...  ..   ...  ...   \n",
       "133  AGUILERA TARADELLES NELSON MARIANO      LA20   7.890023  11     2  140   \n",
       "134  AGUILERA TARADELLES NELSON MARIANO      LA16  24.621769  11     2  141   \n",
       "135  AGUILERA TARADELLES NELSON MARIANO      LA24  13.205059  11     1  142   \n",
       "136  AGUILERA TARADELLES NELSON MARIANO      LA23  15.996730  11     1  143   \n",
       "137  AGUILERA TARADELLES NELSON MARIANO       LA1  30.346484  11     2  144   \n",
       "\n",
       "     inst   idd                                           geometry  \n",
       "0      50   1.0  POLYGON ((504085.659 8094406.031, 503737.808 8...  \n",
       "1      50   1.0  POLYGON ((504352.053 8094797.970, 504272.088 8...  \n",
       "2      50   1.0  POLYGON ((503260.583 8094596.306, 503714.735 8...  \n",
       "3      50   1.0  POLYGON ((504693.348 8094607.629, 504673.327 8...  \n",
       "4      50   1.0  POLYGON ((504137.327 8094415.183, 504648.080 8...  \n",
       "..    ...   ...                                                ...  \n",
       "133    50  24.0  POLYGON ((481237.012 8089847.643, 481636.666 8...  \n",
       "134    50  24.0  POLYGON ((480558.376 8088818.995, 481054.399 8...  \n",
       "135    50  24.0  POLYGON ((480301.359 8089838.440, 480241.822 8...  \n",
       "136    50  24.0  POLYGON ((481067.239 8090028.913, 480287.808 8...  \n",
       "137    50  24.0  POLYGON ((480565.400 8088825.256, 480561.546 8...  \n",
       "\n",
       "[138 rows x 12 columns]"
      ]
     },
     "execution_count": 44,
     "metadata": {},
     "output_type": "execute_result"
    }
   ],
   "source": [
    "gdf_plan"
   ]
  },
  {
   "cell_type": "code",
   "execution_count": 45,
   "id": "8902ea15-fd63-46b4-91a9-5adfd4c66850",
   "metadata": {},
   "outputs": [
    {
     "data": {
      "text/plain": [
       "unidad_01       int64\n",
       "unidad_02      object\n",
       "unidad_03       int64\n",
       "unidad_04      object\n",
       "unidad_05      object\n",
       "area          float64\n",
       "os              int64\n",
       "soca            int64\n",
       "id              int64\n",
       "inst            int64\n",
       "idd           float64\n",
       "geometry     geometry\n",
       "dtype: object"
      ]
     },
     "execution_count": 45,
     "metadata": {},
     "output_type": "execute_result"
    }
   ],
   "source": [
    "gdf_plan.dtypes"
   ]
  },
  {
   "cell_type": "code",
   "execution_count": 46,
   "id": "242a894f-9b09-4b99-ad56-d6437292e783",
   "metadata": {},
   "outputs": [],
   "source": [
    "gdf_plan.to_file(path_planificacion, driver='ESRI Shapefile')"
   ]
  },
  {
   "cell_type": "code",
   "execution_count": null,
   "id": "fadb59d9-fab0-4ef9-a931-425e7d2e7ba0",
   "metadata": {},
   "outputs": [],
   "source": []
  },
  {
   "cell_type": "code",
   "execution_count": null,
   "id": "1894f038-94c6-4842-9742-09ed5536600c",
   "metadata": {},
   "outputs": [],
   "source": []
  },
  {
   "cell_type": "code",
   "execution_count": null,
   "id": "a45fdd96-45ff-4097-a93d-03e21f0c3c3c",
   "metadata": {},
   "outputs": [],
   "source": []
  },
  {
   "cell_type": "code",
   "execution_count": null,
   "id": "ef9a0ee1-4bec-4599-8e2d-faa44430d943",
   "metadata": {},
   "outputs": [],
   "source": []
  },
  {
   "cell_type": "code",
   "execution_count": null,
   "id": "f866a816-bc95-4db4-ae73-6540e77b57a5",
   "metadata": {},
   "outputs": [],
   "source": []
  }
 ],
 "metadata": {
  "kernelspec": {
   "display_name": "Python 3 (ipykernel)",
   "language": "python",
   "name": "python3"
  },
  "language_info": {
   "codemirror_mode": {
    "name": "ipython",
    "version": 3
   },
   "file_extension": ".py",
   "mimetype": "text/x-python",
   "name": "python",
   "nbconvert_exporter": "python",
   "pygments_lexer": "ipython3",
   "version": "3.10.13"
  }
 },
 "nbformat": 4,
 "nbformat_minor": 5
}
