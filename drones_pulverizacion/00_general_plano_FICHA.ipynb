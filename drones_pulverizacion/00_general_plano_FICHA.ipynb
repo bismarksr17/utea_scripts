{
 "cells": [
  {
   "cell_type": "code",
   "execution_count": 34,
   "id": "bc3935eb-c710-451e-8bbb-eb69f583691e",
   "metadata": {},
   "outputs": [],
   "source": []
  },
  {
   "cell_type": "code",
   "execution_count": 47,
   "id": "886caece-152d-4800-bda9-deab23de635a",
   "metadata": {},
   "outputs": [],
   "source": [
    "import matplotlib.pyplot as plt\n",
    "import geopandas as gpd\n",
    "import sys\n",
    "sys.path.append('../_amigocloud')\n",
    "from amigocloud import AmigoCloud\n",
    "import rasterio\n",
    "from rasterio.plot import show\n",
    "import numpy as np\n",
    "from shapely import wkb\n",
    "\n",
    "from matplotlib.lines import Line2D\n",
    "from matplotlib.patches import Patch"
   ]
  },
  {
   "cell_type": "code",
   "execution_count": 38,
   "id": "86d25d60-28f7-4008-b955-41a6eb8c2e9d",
   "metadata": {},
   "outputs": [
    {
     "data": {
      "text/plain": [
       "<amigocloud.AmigoCloud at 0x14a29e5ba00>"
      ]
     },
     "execution_count": 38,
     "metadata": {},
     "output_type": "execute_result"
    }
   ],
   "source": [
    "# leer token\n",
    "acceso = open(ruta + '/_keys/api_amigocloud.key','r')\n",
    "api_token = acceso.readlines()[0]\n",
    "acceso.close()\n",
    "amigocloud = AmigoCloud(token=api_token)\n",
    "amigocloud"
   ]
  },
  {
   "cell_type": "code",
   "execution_count": 7,
   "id": "40cbf786-107e-448a-92c3-93caafa4e119",
   "metadata": {},
   "outputs": [],
   "source": [
    "cod_prop = 299\n",
    "unidad = 'G:'"
   ]
  },
  {
   "cell_type": "code",
   "execution_count": 12,
   "id": "f94e71bf-1df6-4d8c-92be-a43470f9f53e",
   "metadata": {},
   "outputs": [
    {
     "data": {
      "text/plain": [
       "'G:\\\\OneDrive - Ingenio Azucarero Guabira S.A\\\\_DATOS_PYTHON'"
      ]
     },
     "execution_count": 12,
     "metadata": {},
     "output_type": "execute_result"
    }
   ],
   "source": [
    "# ruta de carpera donde estan las llaves\n",
    "ruta = open('../ruta.txt')\n",
    "ruta = ruta.readlines()[0]\n",
    "ruta"
   ]
  },
  {
   "cell_type": "code",
   "execution_count": 27,
   "id": "f3159eb7-9bfa-41da-9faa-836f6246a29b",
   "metadata": {},
   "outputs": [],
   "source": [
    "path_shp_cat = unidad + r'\\Ingenio Azucarero Guabira S.A\\UTEA - SEMANAL - EQUIPO AVIACION UTEA\\Pulverizacion\\2025\\SHP\\catastro_S09_MIERCOLES.shp'\n",
    "path_xlsx_mezclas = unidad + r'\\Ingenio Azucarero Guabira S.A\\UTEA - SEMANAL - EQUIPO AVIACION UTEA\\Pulverizacion\\PARTE DIARIO PULVERIZACION.26_08.xlsx'\n",
    "path_xlsx_agua = ''"
   ]
  },
  {
   "cell_type": "code",
   "execution_count": 29,
   "id": "331486e7-4941-439b-88b7-9f10759a2b2c",
   "metadata": {},
   "outputs": [],
   "source": [
    "gdf_cat = gpd.read_file(path_shp_cat)"
   ]
  },
  {
   "cell_type": "code",
   "execution_count": 44,
   "id": "b0a7d066-6baf-4dd7-9c60-32e54a1ad178",
   "metadata": {},
   "outputs": [],
   "source": [
    "def convertir_wkb(wkb_data):\n",
    "    return wkb.loads(wkb_data, hex=True)"
   ]
  },
  {
   "cell_type": "code",
   "execution_count": 103,
   "id": "3d5ba373-7cc7-4024-a07e-cc66e97d63c0",
   "metadata": {},
   "outputs": [],
   "source": [
    "def generar_plano_pulv(shp_prop, path_tif, path_out):\n",
    "    # Cargar la imagen TIFF con rasterio\n",
    "    with rasterio.open(path_tif) as src:\n",
    "        extent = [src.bounds.left, src.bounds.right, src.bounds.bottom, src.bounds.top]  # Límites geoespaciales\n",
    "        img = src.read([1, 2, 3])  # Leer las bandas RGB\n",
    "    \n",
    "    # Crear el plano\n",
    "    fig, ax = plt.subplots(figsize=(15, 15))\n",
    "    \n",
    "    # Mostrar la imagen de fondo (TIFF) con coordenadas georreferenciadas\n",
    "    show(img, transform=src.transform, ax=ax)\n",
    "    \n",
    "    #facecolor=(R, G, B, Alpha)\n",
    "    shp_prop.plot(ax=ax, edgecolor='blue', facecolor=(0, 0, 0, 0), linewidth=1)\n",
    "\n",
    "    # Agregar etiquetas con lote mas area\n",
    "    for idx, row in shp_prop.iterrows():\n",
    "        if row.geometry is not None:\n",
    "            label = f\"{row['unidad_05']}\\n{round(row['area'], 2)} ha\"\n",
    "            centroid = row.geometry.representative_point()  # Mejor que .centroid en algunos casos\n",
    "            ax.text(centroid.x, centroid.y, label, fontsize=7, ha='center', color='black', weight=1000,\n",
    "                    bbox=dict(facecolor='white', edgecolor='none', alpha=0.2, pad=0))\n",
    "\n",
    "    # Configurar título\n",
    "    nom_prop = shp_prop[\"unidad_02\"].iloc[0]\n",
    "    ax.set_title(nom_prop, fontsize=14)\n",
    "\n",
    "    # 🔍 **Ajustar los límites del mapa para hacer zoom en la propiedad**\n",
    "    bounds = shp_prop.total_bounds  # [xmin, ymin, xmax, ymax]\n",
    "    ax.set_xlim([bounds[0] - 400, bounds[2] + 400])\n",
    "    ax.set_ylim([bounds[1] - 400, bounds[3] + 400])\n",
    "\n",
    "    # 🔹 **Agregar Leyenda**\n",
    "    legend_elements = [\n",
    "        #facecolor=(R, G, B, Alpha)\n",
    "        Patch(facecolor=(0, 0, 0, 0), edgecolor='blue', label='Lotes Propiedad')\n",
    "    ]\n",
    "    ax.legend(handles=legend_elements, loc='upper right', fontsize=10, frameon=True, facecolor='white', edgecolor='black')\n",
    "\n",
    "    # Guardar plano\n",
    "    fig.savefig(path_out, dpi = 300, bbox_inches='tight')\n",
    "    \n",
    "    # Mostrar el mapa\n",
    "    #plt.show()"
   ]
  },
  {
   "cell_type": "code",
   "execution_count": 105,
   "id": "94dac056-ff62-43d7-a86d-415f8ae09ca7",
   "metadata": {},
   "outputs": [],
   "source": [
    "query = {'query': f'SELECT lotes.*, mez.numero_de_mezcla\\\n",
    "                    FROM dataset_360912 lotes\\\n",
    "                    JOIN dataset_367583 mez\\\n",
    "                      ON ST_Intersects(lotes.geometry, mez.puntos)\\\n",
    "                    WHERE lotes.unidad_01 = {cod_prop}'}\n",
    "\n",
    "select = amigocloud.get('https://app.amigocloud.com/api/v1/projects/35248/sql', query)\n",
    "data_apli = select['data']"
   ]
  },
  {
   "cell_type": "code",
   "execution_count": 106,
   "id": "75048240-0967-4221-937a-4d7ccd324aa8",
   "metadata": {},
   "outputs": [],
   "source": [
    "gdf_lotes_apli = gpd.GeoDataFrame(data_apli)"
   ]
  },
  {
   "cell_type": "code",
   "execution_count": 107,
   "id": "94483786-3478-4e5f-a1c0-f56ba1ce521a",
   "metadata": {},
   "outputs": [],
   "source": [
    "gdf_lotes_apli['geometry'] = gdf_lotes_apli['geometry'].apply(convertir_wkb)"
   ]
  },
  {
   "cell_type": "code",
   "execution_count": 108,
   "id": "f6fdc7c6-7ad7-44f4-97a5-a3095445870c",
   "metadata": {},
   "outputs": [
    {
     "data": {
      "text/html": [
       "<div>\n",
       "<style scoped>\n",
       "    .dataframe tbody tr th:only-of-type {\n",
       "        vertical-align: middle;\n",
       "    }\n",
       "\n",
       "    .dataframe tbody tr th {\n",
       "        vertical-align: top;\n",
       "    }\n",
       "\n",
       "    .dataframe thead th {\n",
       "        text-align: right;\n",
       "    }\n",
       "</style>\n",
       "<table border=\"1\" class=\"dataframe\">\n",
       "  <thead>\n",
       "    <tr style=\"text-align: right;\">\n",
       "      <th></th>\n",
       "      <th>fecha_registro</th>\n",
       "      <th>id</th>\n",
       "      <th>unidad_01</th>\n",
       "      <th>unidad_02</th>\n",
       "      <th>unidad_03</th>\n",
       "      <th>unidad_04</th>\n",
       "      <th>unidad_05</th>\n",
       "      <th>area</th>\n",
       "      <th>geometry</th>\n",
       "      <th>os</th>\n",
       "      <th>amigo_id</th>\n",
       "      <th>numero_de_mezcla</th>\n",
       "    </tr>\n",
       "  </thead>\n",
       "  <tbody>\n",
       "    <tr>\n",
       "      <th>0</th>\n",
       "      <td>2025-03-19 15:16:58.519510+00:00</td>\n",
       "      <td>61</td>\n",
       "      <td>299</td>\n",
       "      <td>CITTCA</td>\n",
       "      <td>1530</td>\n",
       "      <td>C.I.T.T.C.A.</td>\n",
       "      <td>N15.2</td>\n",
       "      <td>1.135417</td>\n",
       "      <td>MULTIPOLYGON (((-63.19635 -17.23712, -63.19635...</td>\n",
       "      <td>7</td>\n",
       "      <td>fd675e34961e4fcc80777f116286341a</td>\n",
       "      <td>29</td>\n",
       "    </tr>\n",
       "    <tr>\n",
       "      <th>1</th>\n",
       "      <td>2025-03-19 15:17:02.506554+00:00</td>\n",
       "      <td>64</td>\n",
       "      <td>299</td>\n",
       "      <td>CITTCA</td>\n",
       "      <td>1530</td>\n",
       "      <td>C.I.T.T.C.A.</td>\n",
       "      <td>C14.1</td>\n",
       "      <td>1.128854</td>\n",
       "      <td>MULTIPOLYGON (((-63.18731 -17.24305, -63.18731...</td>\n",
       "      <td>7</td>\n",
       "      <td>4bc809347a174f7e98a3e0a4c77943da</td>\n",
       "      <td>30</td>\n",
       "    </tr>\n",
       "    <tr>\n",
       "      <th>2</th>\n",
       "      <td>2025-03-19 15:17:06.837458+00:00</td>\n",
       "      <td>67</td>\n",
       "      <td>299</td>\n",
       "      <td>CITTCA</td>\n",
       "      <td>1530</td>\n",
       "      <td>C.I.T.T.C.A.</td>\n",
       "      <td>N15.3</td>\n",
       "      <td>1.196737</td>\n",
       "      <td>MULTIPOLYGON (((-63.19635 -17.23712, -63.19538...</td>\n",
       "      <td>7</td>\n",
       "      <td>fc7c28d830db46b1b11996d984b6c1c4</td>\n",
       "      <td>29</td>\n",
       "    </tr>\n",
       "  </tbody>\n",
       "</table>\n",
       "</div>"
      ],
      "text/plain": [
       "                     fecha_registro  id  unidad_01 unidad_02  unidad_03  \\\n",
       "0  2025-03-19 15:16:58.519510+00:00  61        299    CITTCA       1530   \n",
       "1  2025-03-19 15:17:02.506554+00:00  64        299    CITTCA       1530   \n",
       "2  2025-03-19 15:17:06.837458+00:00  67        299    CITTCA       1530   \n",
       "\n",
       "      unidad_04 unidad_05      area  \\\n",
       "0  C.I.T.T.C.A.     N15.2  1.135417   \n",
       "1  C.I.T.T.C.A.     C14.1  1.128854   \n",
       "2  C.I.T.T.C.A.     N15.3  1.196737   \n",
       "\n",
       "                                            geometry  os  \\\n",
       "0  MULTIPOLYGON (((-63.19635 -17.23712, -63.19635...   7   \n",
       "1  MULTIPOLYGON (((-63.18731 -17.24305, -63.18731...   7   \n",
       "2  MULTIPOLYGON (((-63.19635 -17.23712, -63.19538...   7   \n",
       "\n",
       "                           amigo_id  numero_de_mezcla  \n",
       "0  fd675e34961e4fcc80777f116286341a                29  \n",
       "1  4bc809347a174f7e98a3e0a4c77943da                30  \n",
       "2  fc7c28d830db46b1b11996d984b6c1c4                29  "
      ]
     },
     "execution_count": 108,
     "metadata": {},
     "output_type": "execute_result"
    }
   ],
   "source": [
    "gdf_lotes_apli.head(3)"
   ]
  },
  {
   "cell_type": "code",
   "execution_count": 109,
   "id": "251b4ff7-a84d-4277-8a85-998aeef72604",
   "metadata": {},
   "outputs": [],
   "source": [
    "gdf_lotes_apli = gdf_lotes_apli.set_geometry(\"geometry\")"
   ]
  },
  {
   "cell_type": "code",
   "execution_count": 84,
   "id": "12b1c66b-56f0-4930-ae76-83fe8a3e8c75",
   "metadata": {},
   "outputs": [],
   "source": [
    "lotes_apli = gdf_lotes_apli.set_crs(\"EPSG:32720\", inplace=True)"
   ]
  },
  {
   "cell_type": "code",
   "execution_count": 57,
   "id": "3ac9f86b-9307-4c2e-ab9e-6f4627b52048",
   "metadata": {},
   "outputs": [
    {
     "name": "stdout",
     "output_type": "stream",
     "text": [
      "EPSG:32720\n"
     ]
    }
   ],
   "source": [
    "print(lotes_apli.crs)"
   ]
  },
  {
   "cell_type": "code",
   "execution_count": 68,
   "id": "6e25c865-0b6e-44c7-92b6-9d7915640b29",
   "metadata": {},
   "outputs": [
    {
     "name": "stdout",
     "output_type": "stream",
     "text": [
      "EPSG:32720\n"
     ]
    }
   ],
   "source": [
    "print(prop.crs)"
   ]
  },
  {
   "cell_type": "code",
   "execution_count": null,
   "id": "34bfcd88-5f5c-4214-ab4b-66ea877cf4f2",
   "metadata": {},
   "outputs": [],
   "source": []
  },
  {
   "cell_type": "code",
   "execution_count": null,
   "id": "9cbae858-a297-4d0f-bbbd-c4219d11e584",
   "metadata": {},
   "outputs": [],
   "source": []
  },
  {
   "cell_type": "code",
   "execution_count": null,
   "id": "33a23679-1db7-4162-89af-9ba4164985c2",
   "metadata": {},
   "outputs": [],
   "source": []
  },
  {
   "cell_type": "code",
   "execution_count": null,
   "id": "8cf27f42-b1d8-4f10-907b-6a3174cd46bc",
   "metadata": {},
   "outputs": [],
   "source": []
  },
  {
   "cell_type": "code",
   "execution_count": 110,
   "id": "b56aaf55-aae9-47a9-909a-8ef8bdb8fb2f",
   "metadata": {},
   "outputs": [],
   "source": [
    "gdf_lotes_apli.crs = \"EPSG:32720\"\n",
    "lotes_apli = gdf_lotes_apli.to_crs(epsg=32720)"
   ]
  },
  {
   "cell_type": "code",
   "execution_count": null,
   "id": "00c96034-12b3-436a-aeeb-868240958538",
   "metadata": {},
   "outputs": [],
   "source": []
  },
  {
   "cell_type": "code",
   "execution_count": 31,
   "id": "148873d4-e048-427b-9ec7-b56fad6b1d61",
   "metadata": {},
   "outputs": [],
   "source": [
    "path_out = unidad + r\"\\OneDrive - Ingenio Azucarero Guabira S.A\\_DATOS_PYTHON\\planos\\plano_aux_preaplicacion.jpg\"\n",
    "path_tif = r\"C:\\Users\\Usuario\\Downloads\\SENTINEL_2025-02-12_UTM.tif\""
   ]
  },
  {
   "cell_type": "code",
   "execution_count": 32,
   "id": "84c9d96d-54f5-4d2c-bd91-fa7be97d36cc",
   "metadata": {},
   "outputs": [],
   "source": [
    "prop = gdf_cat[gdf_cat['unidad_01'] == cod_prop]"
   ]
  },
  {
   "cell_type": "code",
   "execution_count": 111,
   "id": "0c2ce9c7-3eea-4327-9271-89ec88258089",
   "metadata": {},
   "outputs": [
    {
     "data": {
      "image/png": "[encoded data removed]",
      "text/plain": [
       "<Figure size 1500x1500 with 1 Axes>"
      ]
     },
     "metadata": {},
     "output_type": "display_data"
    }
   ],
   "source": [
    "generar_plano_pulv(lotes_apli, path_tif, path_out)"
   ]
  },
  {
   "cell_type": "code",
   "execution_count": null,
   "id": "9423e281-ae26-467d-8e13-e5f25f1b33dd",
   "metadata": {},
   "outputs": [],
   "source": []
  },
  {
   "cell_type": "code",
   "execution_count": null,
   "id": "45bb2345-6d3e-453a-9966-f26532700777",
   "metadata": {},
   "outputs": [],
   "source": []
  },
  {
   "cell_type": "code",
   "execution_count": null,
   "id": "0574535f-aeda-4adb-9018-cd71fdb837f5",
   "metadata": {},
   "outputs": [],
   "source": []
  },
  {
   "cell_type": "code",
   "execution_count": null,
   "id": "1b1ee30b-fb87-40f8-bbc9-93a0379bc6b9",
   "metadata": {},
   "outputs": [],
   "source": []
  },
  {
   "cell_type": "code",
   "execution_count": null,
   "id": "7a690959-3295-4b76-8425-962fdee2c869",
   "metadata": {},
   "outputs": [],
   "source": []
  },
  {
   "cell_type": "code",
   "execution_count": null,
   "id": "bb82d4bd-e587-41ec-8db4-1298c6721c0e",
   "metadata": {},
   "outputs": [],
   "source": []
  },
  {
   "cell_type": "code",
   "execution_count": null,
   "id": "56b932c6-cf92-40d1-9fca-e103b30e10fa",
   "metadata": {},
   "outputs": [],
   "source": []
  },
  {
   "cell_type": "code",
   "execution_count": null,
   "id": "7fa37a28-5ed6-4117-ac9d-c4d060324477",
   "metadata": {},
   "outputs": [],
   "source": []
  },
  {
   "cell_type": "code",
   "execution_count": null,
   "id": "1b4f3388-71f6-4ee9-8779-a475ad0e0514",
   "metadata": {},
   "outputs": [],
   "source": []
  }
 ],
 "metadata": {
  "kernelspec": {
   "display_name": "Python 3 (ipykernel)",
   "language": "python",
   "name": "python3"
  },
  "language_info": {
   "codemirror_mode": {
    "name": "ipython",
    "version": 3
   },
   "file_extension": ".py",
   "mimetype": "text/x-python",
   "name": "python",
   "nbconvert_exporter": "python",
   "pygments_lexer": "ipython3",
   "version": "3.10.13"
  }
 },
 "nbformat": 4,
 "nbformat_minor": 5
}
