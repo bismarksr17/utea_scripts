{
 "cells": [
  {
   "cell_type": "code",
   "execution_count": 4,
   "id": "4ca1910b-5695-4103-b096-022ec8e159e0",
   "metadata": {},
   "outputs": [],
   "source": [
    "import sys\n",
    "sys.path.append('../_amigocloud')\n",
    "import simplekml\n",
    "from amigocloud import AmigoCloud\n",
    "import pandas as pd\n",
    "from shapely import wkb\n",
    "import geopandas as gpd\n",
    "from shapely.geometry import Point, Polygon, MultiPolygon, MultiPoint\n",
    "import os"
   ]
  },
  {
   "cell_type": "code",
   "execution_count": 5,
   "id": "7041c423-1417-419e-ae66-65d99b733649",
   "metadata": {},
   "outputs": [],
   "source": [
    "def get_unidad_local():\n",
    "    try:\n",
    "        # ruta del archivo que contiene la información necesaria\n",
    "        with open('../../unidad_local.txt', 'r') as file:\n",
    "            unidad = file.readline().strip()\n",
    "            return unidad\n",
    "    except FileNotFoundError:\n",
    "        print(\"El archivo 'unidad_local.txt' no se encuentra en la ruta especificada.\")\n",
    "    return None\n",
    "\n",
    "def get_ruta_local():\n",
    "    try:\n",
    "        with open('../ruta_local.txt', 'r') as file:\n",
    "            ruta = file.readline().strip()\n",
    "            return ruta\n",
    "    except FileNotFoundError:\n",
    "        print(\"El archivo 'ruta_local.txt' no se encuentra en la ruta especificada.\")\n",
    "    return None"
   ]
  },
  {
   "cell_type": "code",
   "execution_count": 6,
   "id": "c7b10430-fc88-4340-8f36-b58100cfb424",
   "metadata": {},
   "outputs": [],
   "source": [
    "ors = 12"
   ]
  },
  {
   "cell_type": "code",
   "execution_count": 8,
   "id": "e4729951-97d5-4c79-ac77-bf362bf42c0d",
   "metadata": {},
   "outputs": [
    {
     "data": {
      "text/plain": [
       "'C:\\\\Documents\\\\OneDrive - Ingenio Azucarero Guabira S.A\\\\_DATOS_PYTHON'"
      ]
     },
     "execution_count": 8,
     "metadata": {},
     "output_type": "execute_result"
    }
   ],
   "source": [
    "# RUTA ONEDRIVE\n",
    "unidad = get_unidad_local()\n",
    "ruta = get_ruta_local()\n",
    "ruta_completa = os.path.join(unidad, ruta)\n",
    "ruta_completa"
   ]
  },
  {
   "cell_type": "code",
   "execution_count": 9,
   "id": "d102d776-8a85-4ab2-bd4f-e915ae3d48b3",
   "metadata": {},
   "outputs": [],
   "source": [
    "# leer token\n",
    "acceso = open(ruta_completa + '/_keys/api_amigocloud_gral.key','r')\n",
    "api_token = acceso.readlines()[0]\n",
    "acceso.close()\n",
    "amigocloud = AmigoCloud(token=api_token)\n",
    "amigocloud\n",
    "\n",
    "# leer los dos shps de siembra y puntos de planificacion\n",
    "path_cat = unidad + r'\\Ingenio Azucarero Guabira S.A\\UTEA - SEMANAL - EQUIPO AVIACION UTEA\\Pulverizacion\\2025\\SHP\\catastro_S09_MIERCOLES.shp'\n",
    "path_puntos = unidad + r'\\Ingenio Azucarero Guabira S.A\\UTEA - SEMANAL - EQUIPO AVIACION UTEA\\Pulverizacion\\2025\\SHP\\PUNTOS_PLAN.shp'\n",
    "path_plan = unidad + r'\\Ingenio Azucarero Guabira S.A\\UTEA - SEMANAL - EQUIPO AVIACION UTEA\\Pulverizacion\\2025\\SHP\\PLANIFICACION.shp'\n",
    "path_xlsx_parte = unidad + r'\\Ingenio Azucarero Guabira S.A\\UTEA - SEMANAL - EQUIPO AVIACION UTEA\\Pulverizacion\\2025\\parte_diario_pulverizacion.xlsx'"
   ]
  },
  {
   "cell_type": "markdown",
   "id": "f90b0afe-f0a8-465a-bfbc-08fb3ecc23a4",
   "metadata": {},
   "source": [
    "# ACTUALIZAR SHP PLANIFICACION"
   ]
  },
  {
   "cell_type": "code",
   "execution_count": 3,
   "id": "91fc3e36-811a-48ce-99fe-82af7ba3e137",
   "metadata": {},
   "outputs": [
    {
     "ename": "NameError",
     "evalue": "name 'path_puntos' is not defined",
     "output_type": "error",
     "traceback": [
      "\u001b[1;31m---------------------------------------------------------------------------\u001b[0m",
      "\u001b[1;31mNameError\u001b[0m                                 Traceback (most recent call last)",
      "Cell \u001b[1;32mIn[3], line 1\u001b[0m\n\u001b[1;32m----> 1\u001b[0m gdf_puntos \u001b[38;5;241m=\u001b[39m gpd\u001b[38;5;241m.\u001b[39mread_file(\u001b[43mpath_puntos\u001b[49m)\n\u001b[0;32m      2\u001b[0m gdf_cat \u001b[38;5;241m=\u001b[39m gpd\u001b[38;5;241m.\u001b[39mread_file(path_cat)\n",
      "\u001b[1;31mNameError\u001b[0m: name 'path_puntos' is not defined"
     ]
    }
   ],
   "source": [
    "gdf_puntos = gpd.read_file(path_puntos)\n",
    "gdf_cat = gpd.read_file(path_cat)"
   ]
  },
  {
   "cell_type": "code",
   "execution_count": 71,
   "id": "2633de73-5e3b-44c1-82c5-d27365f3f8e3",
   "metadata": {},
   "outputs": [
    {
     "data": {
      "text/html": [
       "<div>\n",
       "<style scoped>\n",
       "    .dataframe tbody tr th:only-of-type {\n",
       "        vertical-align: middle;\n",
       "    }\n",
       "\n",
       "    .dataframe tbody tr th {\n",
       "        vertical-align: top;\n",
       "    }\n",
       "\n",
       "    .dataframe thead th {\n",
       "        text-align: right;\n",
       "    }\n",
       "</style>\n",
       "<table border=\"1\" class=\"dataframe\">\n",
       "  <thead>\n",
       "    <tr style=\"text-align: right;\">\n",
       "      <th></th>\n",
       "      <th>unidad_03</th>\n",
       "      <th>unidad_04</th>\n",
       "      <th>os</th>\n",
       "      <th>obs</th>\n",
       "      <th>procesado</th>\n",
       "      <th>geometry</th>\n",
       "    </tr>\n",
       "  </thead>\n",
       "  <tbody>\n",
       "    <tr>\n",
       "      <th>18</th>\n",
       "      <td>75</td>\n",
       "      <td>AGUILERA TARADELLES NELSON MARIANO</td>\n",
       "      <td>11</td>\n",
       "      <td>NaN</td>\n",
       "      <td>NaN</td>\n",
       "      <td>MULTIPOINT (480692.621 8089936.437, 480734.955...</td>\n",
       "    </tr>\n",
       "  </tbody>\n",
       "</table>\n",
       "</div>"
      ],
      "text/plain": [
       "    unidad_03                           unidad_04  os  obs  procesado  \\\n",
       "18         75  AGUILERA TARADELLES NELSON MARIANO  11  NaN        NaN   \n",
       "\n",
       "                                             geometry  \n",
       "18  MULTIPOINT (480692.621 8089936.437, 480734.955...  "
      ]
     },
     "execution_count": 71,
     "metadata": {},
     "output_type": "execute_result"
    }
   ],
   "source": [
    "# filtrar la semana de interes\n",
    "gdf_puntos_select = gdf_puntos[gdf_puntos['os'] == ors]\n",
    "gdf_puntos_sem = gdf_puntos_select.copy()\n",
    "#quita caracteres especiales\n",
    "gdf_puntos_sem['unidad_04'] = gdf_puntos_sem['unidad_04'].str.replace(r'[\\r\\n\\t]', '', regex=True)\n",
    "gdf_puntos_sem"
   ]
  },
  {
   "cell_type": "code",
   "execution_count": 72,
   "id": "b7cf46a1-a58f-460e-b31b-9bee66eed1ef",
   "metadata": {},
   "outputs": [],
   "source": [
    "multipoint_gdf = gdf_puntos_sem.copy()"
   ]
  },
  {
   "cell_type": "code",
   "execution_count": 73,
   "id": "eab2d142-5f9c-45f0-b147-0b3baaccaf74",
   "metadata": {},
   "outputs": [],
   "source": [
    "# Crear una lista para almacenar los nuevos registros de puntos individuales\n",
    "point_records = []\n",
    "# Iterar sobre cada registro en el GeoDataFrame original\n",
    "for idx, row in multipoint_gdf.iterrows():\n",
    "    multipoint_geom = row.geometry\n",
    "    # Verificar si la geometría es de tipo multipunto\n",
    "    if isinstance(multipoint_geom, MultiPoint):\n",
    "        for point in multipoint_geom.geoms:\n",
    "            # Crear un nuevo registro para cada punto individual\n",
    "            new_record = row.copy()\n",
    "            new_record.geometry = point\n",
    "            point_records.append(new_record)\n",
    "    else:\n",
    "        # Si la geometría ya es un punto, simplemente añadir el registro original\n",
    "        point_records.append(row)\n",
    "\n",
    "# Crear un nuevo GeoDataFrame con los registros de puntos individuales\n",
    "puntos_indi = gpd.GeoDataFrame(point_records, crs=multipoint_gdf.crs)"
   ]
  },
  {
   "cell_type": "code",
   "execution_count": 74,
   "id": "8f7e34d2-349d-410c-8e82-1c1b350838ef",
   "metadata": {},
   "outputs": [
    {
     "data": {
      "text/html": [
       "<div>\n",
       "<style scoped>\n",
       "    .dataframe tbody tr th:only-of-type {\n",
       "        vertical-align: middle;\n",
       "    }\n",
       "\n",
       "    .dataframe tbody tr th {\n",
       "        vertical-align: top;\n",
       "    }\n",
       "\n",
       "    .dataframe thead th {\n",
       "        text-align: right;\n",
       "    }\n",
       "</style>\n",
       "<table border=\"1\" class=\"dataframe\">\n",
       "  <thead>\n",
       "    <tr style=\"text-align: right;\">\n",
       "      <th></th>\n",
       "      <th>unidad_03</th>\n",
       "      <th>unidad_04</th>\n",
       "      <th>os</th>\n",
       "      <th>obs</th>\n",
       "      <th>procesado</th>\n",
       "      <th>geometry</th>\n",
       "    </tr>\n",
       "  </thead>\n",
       "  <tbody>\n",
       "    <tr>\n",
       "      <th>18</th>\n",
       "      <td>75</td>\n",
       "      <td>AGUILERA TARADELLES NELSON MARIANO</td>\n",
       "      <td>11</td>\n",
       "      <td>NaN</td>\n",
       "      <td>NaN</td>\n",
       "      <td>POINT (480692.621 8089936.437)</td>\n",
       "    </tr>\n",
       "    <tr>\n",
       "      <th>18</th>\n",
       "      <td>75</td>\n",
       "      <td>AGUILERA TARADELLES NELSON MARIANO</td>\n",
       "      <td>11</td>\n",
       "      <td>NaN</td>\n",
       "      <td>NaN</td>\n",
       "      <td>POINT (480734.955 8090148.104)</td>\n",
       "    </tr>\n",
       "    <tr>\n",
       "      <th>18</th>\n",
       "      <td>75</td>\n",
       "      <td>AGUILERA TARADELLES NELSON MARIANO</td>\n",
       "      <td>11</td>\n",
       "      <td>NaN</td>\n",
       "      <td>NaN</td>\n",
       "      <td>POINT (480771.996 8089132.102)</td>\n",
       "    </tr>\n",
       "    <tr>\n",
       "      <th>18</th>\n",
       "      <td>75</td>\n",
       "      <td>AGUILERA TARADELLES NELSON MARIANO</td>\n",
       "      <td>11</td>\n",
       "      <td>NaN</td>\n",
       "      <td>NaN</td>\n",
       "      <td>POINT (480809.038 8088587.059)</td>\n",
       "    </tr>\n",
       "    <tr>\n",
       "      <th>18</th>\n",
       "      <td>75</td>\n",
       "      <td>AGUILERA TARADELLES NELSON MARIANO</td>\n",
       "      <td>11</td>\n",
       "      <td>NaN</td>\n",
       "      <td>NaN</td>\n",
       "      <td>POINT (481444.039 8089772.395)</td>\n",
       "    </tr>\n",
       "  </tbody>\n",
       "</table>\n",
       "</div>"
      ],
      "text/plain": [
       "    unidad_03                           unidad_04  os  obs  procesado  \\\n",
       "18         75  AGUILERA TARADELLES NELSON MARIANO  11  NaN        NaN   \n",
       "18         75  AGUILERA TARADELLES NELSON MARIANO  11  NaN        NaN   \n",
       "18         75  AGUILERA TARADELLES NELSON MARIANO  11  NaN        NaN   \n",
       "18         75  AGUILERA TARADELLES NELSON MARIANO  11  NaN        NaN   \n",
       "18         75  AGUILERA TARADELLES NELSON MARIANO  11  NaN        NaN   \n",
       "\n",
       "                          geometry  \n",
       "18  POINT (480692.621 8089936.437)  \n",
       "18  POINT (480734.955 8090148.104)  \n",
       "18  POINT (480771.996 8089132.102)  \n",
       "18  POINT (480809.038 8088587.059)  \n",
       "18  POINT (481444.039 8089772.395)  "
      ]
     },
     "execution_count": 74,
     "metadata": {},
     "output_type": "execute_result"
    }
   ],
   "source": [
    "# puntos individuales\n",
    "puntos_indi"
   ]
  },
  {
   "cell_type": "code",
   "execution_count": 75,
   "id": "f9f6f215-2d5c-45c1-b01f-6cfd552c766e",
   "metadata": {},
   "outputs": [
    {
     "data": {
      "text/plain": [
       "<Axes: >"
      ]
     },
     "execution_count": 75,
     "metadata": {},
     "output_type": "execute_result"
    },
    {
     "data": {
      "image/png": "[encoded data removed]",
      "text/plain": [
       "<Figure size 640x480 with 1 Axes>"
      ]
     },
     "metadata": {},
     "output_type": "display_data"
    }
   ],
   "source": [
    "puntos_indi.plot()"
   ]
  },
  {
   "cell_type": "code",
   "execution_count": 76,
   "id": "b27362b1-1f64-42e8-be89-b38e114fca78",
   "metadata": {},
   "outputs": [],
   "source": [
    "# identifoca los lotes que se intersectan\n",
    "gdf_lotes_cat = gpd.sjoin(gdf_cat, puntos_indi, how='inner', predicate='intersects')\n",
    "# filtra los lotes intersectados en la capa original\n",
    "poligonos_intersect_cat = gdf_cat.loc[gdf_cat.index.isin(gdf_lotes_cat.index)]\n",
    "# copy\n",
    "poligonos_intersect_cat = poligonos_intersect_cat.copy()\n",
    "poligonos_intersect_cat = poligonos_intersect_cat[['unidad_01', 'unidad_02', 'unidad_03', 'unidad_04', 'unidad_05', 'area', 'soca', 'zona', 'geometry']]"
   ]
  },
  {
   "cell_type": "code",
   "execution_count": 77,
   "id": "f2279c90-5d87-4280-8402-c88a16619a89",
   "metadata": {},
   "outputs": [],
   "source": [
    "# Cambiar el nombre de la columna 'old_name' a 'new_name'\n",
    "poligonos_intersect_cat.rename(columns={'zona': 'inst'}, inplace=True)"
   ]
  },
  {
   "cell_type": "code",
   "execution_count": 78,
   "id": "9f826f35-82ee-4070-ba66-069e4d131014",
   "metadata": {},
   "outputs": [
    {
     "data": {
      "text/html": [
       "<div>\n",
       "<style scoped>\n",
       "    .dataframe tbody tr th:only-of-type {\n",
       "        vertical-align: middle;\n",
       "    }\n",
       "\n",
       "    .dataframe tbody tr th {\n",
       "        vertical-align: top;\n",
       "    }\n",
       "\n",
       "    .dataframe thead th {\n",
       "        text-align: right;\n",
       "    }\n",
       "</style>\n",
       "<table border=\"1\" class=\"dataframe\">\n",
       "  <thead>\n",
       "    <tr style=\"text-align: right;\">\n",
       "      <th></th>\n",
       "      <th>unidad_01</th>\n",
       "      <th>unidad_02</th>\n",
       "      <th>unidad_03</th>\n",
       "      <th>unidad_04</th>\n",
       "      <th>unidad_05</th>\n",
       "      <th>area</th>\n",
       "      <th>soca</th>\n",
       "      <th>inst</th>\n",
       "      <th>geometry</th>\n",
       "    </tr>\n",
       "  </thead>\n",
       "  <tbody>\n",
       "    <tr>\n",
       "      <th>13425</th>\n",
       "      <td>256.0</td>\n",
       "      <td>LOS ANDES--AGUILERA</td>\n",
       "      <td>577.0</td>\n",
       "      <td>AGUILERA MARIA INGRID WENDE DE</td>\n",
       "      <td>LA20</td>\n",
       "      <td>7.890023</td>\n",
       "      <td>2.0</td>\n",
       "      <td>50</td>\n",
       "      <td>POLYGON ((481237.012 8089847.643, 481636.666 8...</td>\n",
       "    </tr>\n",
       "    <tr>\n",
       "      <th>13426</th>\n",
       "      <td>256.0</td>\n",
       "      <td>LOS ANDES--AGUILERA</td>\n",
       "      <td>577.0</td>\n",
       "      <td>AGUILERA MARIA INGRID WENDE DE</td>\n",
       "      <td>LA16</td>\n",
       "      <td>24.621769</td>\n",
       "      <td>2.0</td>\n",
       "      <td>50</td>\n",
       "      <td>POLYGON ((480558.376 8088818.995, 481054.399 8...</td>\n",
       "    </tr>\n",
       "    <tr>\n",
       "      <th>13427</th>\n",
       "      <td>256.0</td>\n",
       "      <td>LOS ANDES--AGUILERA</td>\n",
       "      <td>75.0</td>\n",
       "      <td>AGUILERA TARADELLES NELSON MARIANO</td>\n",
       "      <td>LA24</td>\n",
       "      <td>13.205059</td>\n",
       "      <td>1.0</td>\n",
       "      <td>50</td>\n",
       "      <td>POLYGON ((480301.359 8089838.440, 480241.822 8...</td>\n",
       "    </tr>\n",
       "    <tr>\n",
       "      <th>13429</th>\n",
       "      <td>256.0</td>\n",
       "      <td>LOS ANDES--AGUILERA</td>\n",
       "      <td>75.0</td>\n",
       "      <td>AGUILERA TARADELLES NELSON MARIANO</td>\n",
       "      <td>LA23</td>\n",
       "      <td>15.996730</td>\n",
       "      <td>1.0</td>\n",
       "      <td>50</td>\n",
       "      <td>POLYGON ((481067.239 8090028.913, 480287.808 8...</td>\n",
       "    </tr>\n",
       "    <tr>\n",
       "      <th>13433</th>\n",
       "      <td>256.0</td>\n",
       "      <td>LOS ANDES--AGUILERA</td>\n",
       "      <td>577.0</td>\n",
       "      <td>AGUILERA MARIA INGRID WENDE DE</td>\n",
       "      <td>LA1</td>\n",
       "      <td>30.346484</td>\n",
       "      <td>2.0</td>\n",
       "      <td>50</td>\n",
       "      <td>POLYGON ((480565.400 8088825.256, 480561.546 8...</td>\n",
       "    </tr>\n",
       "  </tbody>\n",
       "</table>\n",
       "</div>"
      ],
      "text/plain": [
       "       unidad_01            unidad_02  unidad_03  \\\n",
       "13425      256.0  LOS ANDES--AGUILERA      577.0   \n",
       "13426      256.0  LOS ANDES--AGUILERA      577.0   \n",
       "13427      256.0  LOS ANDES--AGUILERA       75.0   \n",
       "13429      256.0  LOS ANDES--AGUILERA       75.0   \n",
       "13433      256.0  LOS ANDES--AGUILERA      577.0   \n",
       "\n",
       "                                unidad_04 unidad_05       area  soca inst  \\\n",
       "13425      AGUILERA MARIA INGRID WENDE DE      LA20   7.890023   2.0   50   \n",
       "13426      AGUILERA MARIA INGRID WENDE DE      LA16  24.621769   2.0   50   \n",
       "13427  AGUILERA TARADELLES NELSON MARIANO      LA24  13.205059   1.0   50   \n",
       "13429  AGUILERA TARADELLES NELSON MARIANO      LA23  15.996730   1.0   50   \n",
       "13433      AGUILERA MARIA INGRID WENDE DE       LA1  30.346484   2.0   50   \n",
       "\n",
       "                                                geometry  \n",
       "13425  POLYGON ((481237.012 8089847.643, 481636.666 8...  \n",
       "13426  POLYGON ((480558.376 8088818.995, 481054.399 8...  \n",
       "13427  POLYGON ((480301.359 8089838.440, 480241.822 8...  \n",
       "13429  POLYGON ((481067.239 8090028.913, 480287.808 8...  \n",
       "13433  POLYGON ((480565.400 8088825.256, 480561.546 8...  "
      ]
     },
     "execution_count": 78,
     "metadata": {},
     "output_type": "execute_result"
    }
   ],
   "source": [
    "poligonos_intersect_cat"
   ]
  },
  {
   "cell_type": "code",
   "execution_count": 79,
   "id": "6368f2aa-ba1b-4eea-99aa-5ef29c11e684",
   "metadata": {},
   "outputs": [],
   "source": [
    "# CAMBIAR NOMBRE DATOS DE UNIDAD_03 Y UNDIAD_04 DE LOTES SOLICITADOS A LO INDICADO EN LOS PUNTOS\n",
    "# Iterar sobre cada punto y encontrar el polígono que intersecta\n",
    "for idx, point in puntos_indi.iterrows():\n",
    "    point_geom = point.geometry\n",
    "    matching_polygons = poligonos_intersect_cat[poligonos_intersect_cat.intersects(point_geom)]\n",
    "    \n",
    "    # Actualizar los campos de los polígonos que intersectan con los valores del punto\n",
    "    for poly_idx in matching_polygons.index:\n",
    "        poligonos_intersect_cat.at[poly_idx, 'unidad_03'] = point['unidad_03']\n",
    "        poligonos_intersect_cat.at[poly_idx, 'unidad_04'] = point['unidad_04']"
   ]
  },
  {
   "cell_type": "code",
   "execution_count": 80,
   "id": "bea9f942-2e35-4d3b-928d-763710fb6c41",
   "metadata": {},
   "outputs": [
    {
     "data": {
      "text/html": [
       "<div>\n",
       "<style scoped>\n",
       "    .dataframe tbody tr th:only-of-type {\n",
       "        vertical-align: middle;\n",
       "    }\n",
       "\n",
       "    .dataframe tbody tr th {\n",
       "        vertical-align: top;\n",
       "    }\n",
       "\n",
       "    .dataframe thead th {\n",
       "        text-align: right;\n",
       "    }\n",
       "</style>\n",
       "<table border=\"1\" class=\"dataframe\">\n",
       "  <thead>\n",
       "    <tr style=\"text-align: right;\">\n",
       "      <th></th>\n",
       "      <th>unidad_01</th>\n",
       "      <th>unidad_02</th>\n",
       "      <th>unidad_03</th>\n",
       "      <th>unidad_04</th>\n",
       "      <th>unidad_05</th>\n",
       "      <th>area</th>\n",
       "      <th>soca</th>\n",
       "      <th>inst</th>\n",
       "      <th>geometry</th>\n",
       "    </tr>\n",
       "  </thead>\n",
       "  <tbody>\n",
       "    <tr>\n",
       "      <th>13425</th>\n",
       "      <td>256.0</td>\n",
       "      <td>LOS ANDES--AGUILERA</td>\n",
       "      <td>75.0</td>\n",
       "      <td>AGUILERA TARADELLES NELSON MARIANO</td>\n",
       "      <td>LA20</td>\n",
       "      <td>7.890023</td>\n",
       "      <td>2.0</td>\n",
       "      <td>50</td>\n",
       "      <td>POLYGON ((481237.012 8089847.643, 481636.666 8...</td>\n",
       "    </tr>\n",
       "    <tr>\n",
       "      <th>13426</th>\n",
       "      <td>256.0</td>\n",
       "      <td>LOS ANDES--AGUILERA</td>\n",
       "      <td>75.0</td>\n",
       "      <td>AGUILERA TARADELLES NELSON MARIANO</td>\n",
       "      <td>LA16</td>\n",
       "      <td>24.621769</td>\n",
       "      <td>2.0</td>\n",
       "      <td>50</td>\n",
       "      <td>POLYGON ((480558.376 8088818.995, 481054.399 8...</td>\n",
       "    </tr>\n",
       "    <tr>\n",
       "      <th>13427</th>\n",
       "      <td>256.0</td>\n",
       "      <td>LOS ANDES--AGUILERA</td>\n",
       "      <td>75.0</td>\n",
       "      <td>AGUILERA TARADELLES NELSON MARIANO</td>\n",
       "      <td>LA24</td>\n",
       "      <td>13.205059</td>\n",
       "      <td>1.0</td>\n",
       "      <td>50</td>\n",
       "      <td>POLYGON ((480301.359 8089838.440, 480241.822 8...</td>\n",
       "    </tr>\n",
       "  </tbody>\n",
       "</table>\n",
       "</div>"
      ],
      "text/plain": [
       "       unidad_01            unidad_02  unidad_03  \\\n",
       "13425      256.0  LOS ANDES--AGUILERA       75.0   \n",
       "13426      256.0  LOS ANDES--AGUILERA       75.0   \n",
       "13427      256.0  LOS ANDES--AGUILERA       75.0   \n",
       "\n",
       "                                unidad_04 unidad_05       area  soca inst  \\\n",
       "13425  AGUILERA TARADELLES NELSON MARIANO      LA20   7.890023   2.0   50   \n",
       "13426  AGUILERA TARADELLES NELSON MARIANO      LA16  24.621769   2.0   50   \n",
       "13427  AGUILERA TARADELLES NELSON MARIANO      LA24  13.205059   1.0   50   \n",
       "\n",
       "                                                geometry  \n",
       "13425  POLYGON ((481237.012 8089847.643, 481636.666 8...  \n",
       "13426  POLYGON ((480558.376 8088818.995, 481054.399 8...  \n",
       "13427  POLYGON ((480301.359 8089838.440, 480241.822 8...  "
      ]
     },
     "execution_count": 80,
     "metadata": {},
     "output_type": "execute_result"
    }
   ],
   "source": [
    "poligonos_intersect_cat.head(3)"
   ]
  },
  {
   "cell_type": "code",
   "execution_count": 81,
   "id": "16e8e3f8-b979-4342-ab8b-e80b06a43499",
   "metadata": {},
   "outputs": [],
   "source": [
    "# agrega los campos faltantes\n",
    "poligonos_intersect_cat['os'] = ors"
   ]
  },
  {
   "cell_type": "code",
   "execution_count": 82,
   "id": "1e74b24e-d6f8-4c0e-85d9-8df0636515d6",
   "metadata": {},
   "outputs": [],
   "source": [
    "plan = poligonos_intersect_cat.copy()"
   ]
  },
  {
   "cell_type": "code",
   "execution_count": 83,
   "id": "597b6b16-d955-4fc8-bd77-6ad214b088f0",
   "metadata": {},
   "outputs": [
    {
     "data": {
      "text/html": [
       "<div>\n",
       "<style scoped>\n",
       "    .dataframe tbody tr th:only-of-type {\n",
       "        vertical-align: middle;\n",
       "    }\n",
       "\n",
       "    .dataframe tbody tr th {\n",
       "        vertical-align: top;\n",
       "    }\n",
       "\n",
       "    .dataframe thead th {\n",
       "        text-align: right;\n",
       "    }\n",
       "</style>\n",
       "<table border=\"1\" class=\"dataframe\">\n",
       "  <thead>\n",
       "    <tr style=\"text-align: right;\">\n",
       "      <th></th>\n",
       "      <th>unidad_01</th>\n",
       "      <th>unidad_02</th>\n",
       "      <th>unidad_03</th>\n",
       "      <th>unidad_04</th>\n",
       "      <th>unidad_05</th>\n",
       "      <th>area</th>\n",
       "      <th>soca</th>\n",
       "      <th>inst</th>\n",
       "      <th>geometry</th>\n",
       "      <th>os</th>\n",
       "    </tr>\n",
       "  </thead>\n",
       "  <tbody>\n",
       "    <tr>\n",
       "      <th>13425</th>\n",
       "      <td>256.0</td>\n",
       "      <td>LOS ANDES--AGUILERA</td>\n",
       "      <td>75.0</td>\n",
       "      <td>AGUILERA TARADELLES NELSON MARIANO</td>\n",
       "      <td>LA20</td>\n",
       "      <td>7.890023</td>\n",
       "      <td>2.0</td>\n",
       "      <td>50</td>\n",
       "      <td>POLYGON ((481237.012 8089847.643, 481636.666 8...</td>\n",
       "      <td>11</td>\n",
       "    </tr>\n",
       "    <tr>\n",
       "      <th>13426</th>\n",
       "      <td>256.0</td>\n",
       "      <td>LOS ANDES--AGUILERA</td>\n",
       "      <td>75.0</td>\n",
       "      <td>AGUILERA TARADELLES NELSON MARIANO</td>\n",
       "      <td>LA16</td>\n",
       "      <td>24.621769</td>\n",
       "      <td>2.0</td>\n",
       "      <td>50</td>\n",
       "      <td>POLYGON ((480558.376 8088818.995, 481054.399 8...</td>\n",
       "      <td>11</td>\n",
       "    </tr>\n",
       "    <tr>\n",
       "      <th>13427</th>\n",
       "      <td>256.0</td>\n",
       "      <td>LOS ANDES--AGUILERA</td>\n",
       "      <td>75.0</td>\n",
       "      <td>AGUILERA TARADELLES NELSON MARIANO</td>\n",
       "      <td>LA24</td>\n",
       "      <td>13.205059</td>\n",
       "      <td>1.0</td>\n",
       "      <td>50</td>\n",
       "      <td>POLYGON ((480301.359 8089838.440, 480241.822 8...</td>\n",
       "      <td>11</td>\n",
       "    </tr>\n",
       "  </tbody>\n",
       "</table>\n",
       "</div>"
      ],
      "text/plain": [
       "       unidad_01            unidad_02  unidad_03  \\\n",
       "13425      256.0  LOS ANDES--AGUILERA       75.0   \n",
       "13426      256.0  LOS ANDES--AGUILERA       75.0   \n",
       "13427      256.0  LOS ANDES--AGUILERA       75.0   \n",
       "\n",
       "                                unidad_04 unidad_05       area  soca inst  \\\n",
       "13425  AGUILERA TARADELLES NELSON MARIANO      LA20   7.890023   2.0   50   \n",
       "13426  AGUILERA TARADELLES NELSON MARIANO      LA16  24.621769   2.0   50   \n",
       "13427  AGUILERA TARADELLES NELSON MARIANO      LA24  13.205059   1.0   50   \n",
       "\n",
       "                                                geometry  os  \n",
       "13425  POLYGON ((481237.012 8089847.643, 481636.666 8...  11  \n",
       "13426  POLYGON ((480558.376 8088818.995, 481054.399 8...  11  \n",
       "13427  POLYGON ((480301.359 8089838.440, 480241.822 8...  11  "
      ]
     },
     "execution_count": 83,
     "metadata": {},
     "output_type": "execute_result"
    }
   ],
   "source": [
    "plan.head(3)"
   ]
  },
  {
   "cell_type": "code",
   "execution_count": 84,
   "id": "eaaf58db-a69b-438d-a53c-3014bff3a849",
   "metadata": {},
   "outputs": [
    {
     "data": {
      "text/plain": [
       "<Axes: >"
      ]
     },
     "execution_count": 84,
     "metadata": {},
     "output_type": "execute_result"
    },
    {
     "data": {
      "image/png": "[encoded data removed]",
      "text/plain": [
       "<Figure size 640x480 with 1 Axes>"
      ]
     },
     "metadata": {},
     "output_type": "display_data"
    }
   ],
   "source": [
    "plan.plot()"
   ]
  },
  {
   "cell_type": "code",
   "execution_count": 85,
   "id": "2405fa10-535a-4b76-86da-3f8f0a6a7bcc",
   "metadata": {},
   "outputs": [
    {
     "data": {
      "text/plain": [
       "92.06006487329"
      ]
     },
     "execution_count": 85,
     "metadata": {},
     "output_type": "execute_result"
    }
   ],
   "source": [
    "plan['area'].sum()"
   ]
  },
  {
   "cell_type": "code",
   "execution_count": 86,
   "id": "903dd5e2-1fb0-4380-9843-187ed3e2880f",
   "metadata": {},
   "outputs": [],
   "source": [
    "#RECALCULAR EL AREA\n",
    "plan['area'] = plan.geometry.area / 10000"
   ]
  },
  {
   "cell_type": "code",
   "execution_count": 87,
   "id": "d20fa8af-ca0e-42a7-8578-b5fc74b3dc0a",
   "metadata": {},
   "outputs": [
    {
     "data": {
      "text/plain": [
       "92.06006487329279"
      ]
     },
     "execution_count": 87,
     "metadata": {},
     "output_type": "execute_result"
    }
   ],
   "source": [
    "plan['area'].sum()"
   ]
  },
  {
   "cell_type": "code",
   "execution_count": 88,
   "id": "cce50e5e-a116-4b2a-af88-5e8781eb1c30",
   "metadata": {},
   "outputs": [],
   "source": [
    "# carga el shp de planificacion\n",
    "gdf_plan = gpd.read_file(path_plan)"
   ]
  },
  {
   "cell_type": "code",
   "execution_count": 89,
   "id": "c8672e4b-c9c3-4e06-b506-9c351d506ee5",
   "metadata": {},
   "outputs": [],
   "source": [
    "# determina el ultimo id\n",
    "last_id = 0\n",
    "if gdf_plan['id'].max() > 0:\n",
    "    last_id = gdf_plan['id'].max()\n",
    "else:\n",
    "    last_id = 0"
   ]
  },
  {
   "cell_type": "code",
   "execution_count": 90,
   "id": "8c0d2c70-f1d2-4f86-a30c-498e31bf3fef",
   "metadata": {},
   "outputs": [
    {
     "data": {
      "text/plain": [
       "139"
      ]
     },
     "execution_count": 90,
     "metadata": {},
     "output_type": "execute_result"
    }
   ],
   "source": [
    "last_id"
   ]
  },
  {
   "cell_type": "code",
   "execution_count": 91,
   "id": "0f50711b-5f55-4e1e-8d2f-f3d2fd35b395",
   "metadata": {},
   "outputs": [],
   "source": [
    "# Asignar valores incrementales a la columna 'id' empezando desde last_id + 1\n",
    "plan['id'] = range(last_id + 1, last_id + 1 + len(plan))"
   ]
  },
  {
   "cell_type": "code",
   "execution_count": 92,
   "id": "9d77a388-b29a-4179-85bf-b645b6f52740",
   "metadata": {},
   "outputs": [
    {
     "data": {
      "text/html": [
       "<div>\n",
       "<style scoped>\n",
       "    .dataframe tbody tr th:only-of-type {\n",
       "        vertical-align: middle;\n",
       "    }\n",
       "\n",
       "    .dataframe tbody tr th {\n",
       "        vertical-align: top;\n",
       "    }\n",
       "\n",
       "    .dataframe thead th {\n",
       "        text-align: right;\n",
       "    }\n",
       "</style>\n",
       "<table border=\"1\" class=\"dataframe\">\n",
       "  <thead>\n",
       "    <tr style=\"text-align: right;\">\n",
       "      <th></th>\n",
       "      <th>unidad_01</th>\n",
       "      <th>unidad_02</th>\n",
       "      <th>unidad_03</th>\n",
       "      <th>unidad_04</th>\n",
       "      <th>unidad_05</th>\n",
       "      <th>area</th>\n",
       "      <th>soca</th>\n",
       "      <th>inst</th>\n",
       "      <th>geometry</th>\n",
       "      <th>os</th>\n",
       "      <th>id</th>\n",
       "    </tr>\n",
       "  </thead>\n",
       "  <tbody>\n",
       "    <tr>\n",
       "      <th>13425</th>\n",
       "      <td>256.0</td>\n",
       "      <td>LOS ANDES--AGUILERA</td>\n",
       "      <td>75.0</td>\n",
       "      <td>AGUILERA TARADELLES NELSON MARIANO</td>\n",
       "      <td>LA20</td>\n",
       "      <td>7.890023</td>\n",
       "      <td>2.0</td>\n",
       "      <td>50</td>\n",
       "      <td>POLYGON ((481237.012 8089847.643, 481636.666 8...</td>\n",
       "      <td>11</td>\n",
       "      <td>140</td>\n",
       "    </tr>\n",
       "    <tr>\n",
       "      <th>13426</th>\n",
       "      <td>256.0</td>\n",
       "      <td>LOS ANDES--AGUILERA</td>\n",
       "      <td>75.0</td>\n",
       "      <td>AGUILERA TARADELLES NELSON MARIANO</td>\n",
       "      <td>LA16</td>\n",
       "      <td>24.621769</td>\n",
       "      <td>2.0</td>\n",
       "      <td>50</td>\n",
       "      <td>POLYGON ((480558.376 8088818.995, 481054.399 8...</td>\n",
       "      <td>11</td>\n",
       "      <td>141</td>\n",
       "    </tr>\n",
       "    <tr>\n",
       "      <th>13427</th>\n",
       "      <td>256.0</td>\n",
       "      <td>LOS ANDES--AGUILERA</td>\n",
       "      <td>75.0</td>\n",
       "      <td>AGUILERA TARADELLES NELSON MARIANO</td>\n",
       "      <td>LA24</td>\n",
       "      <td>13.205059</td>\n",
       "      <td>1.0</td>\n",
       "      <td>50</td>\n",
       "      <td>POLYGON ((480301.359 8089838.440, 480241.822 8...</td>\n",
       "      <td>11</td>\n",
       "      <td>142</td>\n",
       "    </tr>\n",
       "  </tbody>\n",
       "</table>\n",
       "</div>"
      ],
      "text/plain": [
       "       unidad_01            unidad_02  unidad_03  \\\n",
       "13425      256.0  LOS ANDES--AGUILERA       75.0   \n",
       "13426      256.0  LOS ANDES--AGUILERA       75.0   \n",
       "13427      256.0  LOS ANDES--AGUILERA       75.0   \n",
       "\n",
       "                                unidad_04 unidad_05       area  soca inst  \\\n",
       "13425  AGUILERA TARADELLES NELSON MARIANO      LA20   7.890023   2.0   50   \n",
       "13426  AGUILERA TARADELLES NELSON MARIANO      LA16  24.621769   2.0   50   \n",
       "13427  AGUILERA TARADELLES NELSON MARIANO      LA24  13.205059   1.0   50   \n",
       "\n",
       "                                                geometry  os   id  \n",
       "13425  POLYGON ((481237.012 8089847.643, 481636.666 8...  11  140  \n",
       "13426  POLYGON ((480558.376 8088818.995, 481054.399 8...  11  141  \n",
       "13427  POLYGON ((480301.359 8089838.440, 480241.822 8...  11  142  "
      ]
     },
     "execution_count": 92,
     "metadata": {},
     "output_type": "execute_result"
    }
   ],
   "source": [
    "plan.head(3)"
   ]
  },
  {
   "cell_type": "code",
   "execution_count": 93,
   "id": "c895696e-b032-4da6-8083-3bc3fa27bcb0",
   "metadata": {},
   "outputs": [
    {
     "data": {
      "text/plain": [
       "5"
      ]
     },
     "execution_count": 93,
     "metadata": {},
     "output_type": "execute_result"
    }
   ],
   "source": [
    "len(plan)"
   ]
  },
  {
   "cell_type": "code",
   "execution_count": 94,
   "id": "5d989b45-d04a-4a62-af2c-778881ecf130",
   "metadata": {},
   "outputs": [],
   "source": [
    "# union de los dos gdf\n",
    "gdf_pla_gral = pd.concat([gdf_plan, plan], ignore_index=True)"
   ]
  },
  {
   "cell_type": "code",
   "execution_count": 95,
   "id": "a0aa63d6-c245-43bf-ae75-a3512e50c213",
   "metadata": {},
   "outputs": [
    {
     "data": {
      "text/plain": [
       "1403.037955828808"
      ]
     },
     "execution_count": 95,
     "metadata": {},
     "output_type": "execute_result"
    }
   ],
   "source": [
    "gdf_pla_gral['area'].sum()"
   ]
  },
  {
   "cell_type": "code",
   "execution_count": 96,
   "id": "3ceba5ac-11a6-46f5-ade5-f5c81389c2f8",
   "metadata": {},
   "outputs": [],
   "source": [
    "gdf_pla_gral['unidad_01'] = gdf_pla_gral['unidad_01'].astype(int)\n",
    "gdf_pla_gral['unidad_03'] = gdf_pla_gral['unidad_03'].astype(int)\n",
    "gdf_pla_gral['os'] = gdf_pla_gral['os'].astype(int)\n",
    "gdf_pla_gral['soca'] = gdf_pla_gral['soca'].astype(int)\n",
    "gdf_pla_gral['id'] = gdf_pla_gral['id'].astype(int)\n",
    "gdf_pla_gral['inst'] = gdf_pla_gral['inst'].astype(int)"
   ]
  },
  {
   "cell_type": "code",
   "execution_count": 97,
   "id": "c412c69c-5362-4537-9e27-576d2f94b803",
   "metadata": {},
   "outputs": [
    {
     "data": {
      "text/html": [
       "<div>\n",
       "<style scoped>\n",
       "    .dataframe tbody tr th:only-of-type {\n",
       "        vertical-align: middle;\n",
       "    }\n",
       "\n",
       "    .dataframe tbody tr th {\n",
       "        vertical-align: top;\n",
       "    }\n",
       "\n",
       "    .dataframe thead th {\n",
       "        text-align: right;\n",
       "    }\n",
       "</style>\n",
       "<table border=\"1\" class=\"dataframe\">\n",
       "  <thead>\n",
       "    <tr style=\"text-align: right;\">\n",
       "      <th></th>\n",
       "      <th>unidad_01</th>\n",
       "      <th>unidad_02</th>\n",
       "      <th>unidad_03</th>\n",
       "      <th>unidad_04</th>\n",
       "      <th>unidad_05</th>\n",
       "      <th>area</th>\n",
       "      <th>os</th>\n",
       "      <th>soca</th>\n",
       "      <th>id</th>\n",
       "      <th>inst</th>\n",
       "      <th>idd</th>\n",
       "      <th>geometry</th>\n",
       "    </tr>\n",
       "  </thead>\n",
       "  <tbody>\n",
       "    <tr>\n",
       "      <th>0</th>\n",
       "      <td>30</td>\n",
       "      <td>CAMPO DULCE</td>\n",
       "      <td>41594</td>\n",
       "      <td>AGROPECUARIA CAMPO DULCE S.R.L.</td>\n",
       "      <td>EP-L31</td>\n",
       "      <td>30.260942</td>\n",
       "      <td>1</td>\n",
       "      <td>2</td>\n",
       "      <td>1</td>\n",
       "      <td>50</td>\n",
       "      <td>1.0</td>\n",
       "      <td>POLYGON ((504085.659 8094406.031, 503737.808 8...</td>\n",
       "    </tr>\n",
       "    <tr>\n",
       "      <th>1</th>\n",
       "      <td>30</td>\n",
       "      <td>CAMPO DULCE</td>\n",
       "      <td>41594</td>\n",
       "      <td>AGROPECUARIA CAMPO DULCE S.R.L.</td>\n",
       "      <td>EP-L16</td>\n",
       "      <td>23.216246</td>\n",
       "      <td>1</td>\n",
       "      <td>4</td>\n",
       "      <td>2</td>\n",
       "      <td>50</td>\n",
       "      <td>1.0</td>\n",
       "      <td>POLYGON ((504352.053 8094797.970, 504272.088 8...</td>\n",
       "    </tr>\n",
       "    <tr>\n",
       "      <th>2</th>\n",
       "      <td>30</td>\n",
       "      <td>CAMPO DULCE</td>\n",
       "      <td>41594</td>\n",
       "      <td>AGROPECUARIA CAMPO DULCE S.R.L.</td>\n",
       "      <td>ER-L6</td>\n",
       "      <td>19.683505</td>\n",
       "      <td>1</td>\n",
       "      <td>5</td>\n",
       "      <td>3</td>\n",
       "      <td>50</td>\n",
       "      <td>1.0</td>\n",
       "      <td>POLYGON ((503260.583 8094596.306, 503714.735 8...</td>\n",
       "    </tr>\n",
       "    <tr>\n",
       "      <th>3</th>\n",
       "      <td>30</td>\n",
       "      <td>CAMPO DULCE</td>\n",
       "      <td>41594</td>\n",
       "      <td>AGROPECUARIA CAMPO DULCE S.R.L.</td>\n",
       "      <td>EP-L35</td>\n",
       "      <td>7.795719</td>\n",
       "      <td>1</td>\n",
       "      <td>4</td>\n",
       "      <td>4</td>\n",
       "      <td>50</td>\n",
       "      <td>1.0</td>\n",
       "      <td>POLYGON ((504693.348 8094607.629, 504673.327 8...</td>\n",
       "    </tr>\n",
       "    <tr>\n",
       "      <th>4</th>\n",
       "      <td>30</td>\n",
       "      <td>CAMPO DULCE</td>\n",
       "      <td>41594</td>\n",
       "      <td>AGROPECUARIA CAMPO DULCE S.R.L.</td>\n",
       "      <td>EP-L34</td>\n",
       "      <td>7.048921</td>\n",
       "      <td>1</td>\n",
       "      <td>5</td>\n",
       "      <td>5</td>\n",
       "      <td>50</td>\n",
       "      <td>1.0</td>\n",
       "      <td>POLYGON ((504137.327 8094415.183, 504648.080 8...</td>\n",
       "    </tr>\n",
       "    <tr>\n",
       "      <th>...</th>\n",
       "      <td>...</td>\n",
       "      <td>...</td>\n",
       "      <td>...</td>\n",
       "      <td>...</td>\n",
       "      <td>...</td>\n",
       "      <td>...</td>\n",
       "      <td>...</td>\n",
       "      <td>...</td>\n",
       "      <td>...</td>\n",
       "      <td>...</td>\n",
       "      <td>...</td>\n",
       "      <td>...</td>\n",
       "    </tr>\n",
       "    <tr>\n",
       "      <th>133</th>\n",
       "      <td>256</td>\n",
       "      <td>LOS ANDES--AGUILERA</td>\n",
       "      <td>75</td>\n",
       "      <td>AGUILERA TARADELLES NELSON MARIANO</td>\n",
       "      <td>LA20</td>\n",
       "      <td>7.890023</td>\n",
       "      <td>11</td>\n",
       "      <td>2</td>\n",
       "      <td>140</td>\n",
       "      <td>50</td>\n",
       "      <td>NaN</td>\n",
       "      <td>POLYGON ((481237.012 8089847.643, 481636.666 8...</td>\n",
       "    </tr>\n",
       "    <tr>\n",
       "      <th>134</th>\n",
       "      <td>256</td>\n",
       "      <td>LOS ANDES--AGUILERA</td>\n",
       "      <td>75</td>\n",
       "      <td>AGUILERA TARADELLES NELSON MARIANO</td>\n",
       "      <td>LA16</td>\n",
       "      <td>24.621769</td>\n",
       "      <td>11</td>\n",
       "      <td>2</td>\n",
       "      <td>141</td>\n",
       "      <td>50</td>\n",
       "      <td>NaN</td>\n",
       "      <td>POLYGON ((480558.376 8088818.995, 481054.399 8...</td>\n",
       "    </tr>\n",
       "    <tr>\n",
       "      <th>135</th>\n",
       "      <td>256</td>\n",
       "      <td>LOS ANDES--AGUILERA</td>\n",
       "      <td>75</td>\n",
       "      <td>AGUILERA TARADELLES NELSON MARIANO</td>\n",
       "      <td>LA24</td>\n",
       "      <td>13.205059</td>\n",
       "      <td>11</td>\n",
       "      <td>1</td>\n",
       "      <td>142</td>\n",
       "      <td>50</td>\n",
       "      <td>NaN</td>\n",
       "      <td>POLYGON ((480301.359 8089838.440, 480241.822 8...</td>\n",
       "    </tr>\n",
       "    <tr>\n",
       "      <th>136</th>\n",
       "      <td>256</td>\n",
       "      <td>LOS ANDES--AGUILERA</td>\n",
       "      <td>75</td>\n",
       "      <td>AGUILERA TARADELLES NELSON MARIANO</td>\n",
       "      <td>LA23</td>\n",
       "      <td>15.996730</td>\n",
       "      <td>11</td>\n",
       "      <td>1</td>\n",
       "      <td>143</td>\n",
       "      <td>50</td>\n",
       "      <td>NaN</td>\n",
       "      <td>POLYGON ((481067.239 8090028.913, 480287.808 8...</td>\n",
       "    </tr>\n",
       "    <tr>\n",
       "      <th>137</th>\n",
       "      <td>256</td>\n",
       "      <td>LOS ANDES--AGUILERA</td>\n",
       "      <td>75</td>\n",
       "      <td>AGUILERA TARADELLES NELSON MARIANO</td>\n",
       "      <td>LA1</td>\n",
       "      <td>30.346484</td>\n",
       "      <td>11</td>\n",
       "      <td>2</td>\n",
       "      <td>144</td>\n",
       "      <td>50</td>\n",
       "      <td>NaN</td>\n",
       "      <td>POLYGON ((480565.400 8088825.256, 480561.546 8...</td>\n",
       "    </tr>\n",
       "  </tbody>\n",
       "</table>\n",
       "<p>138 rows × 12 columns</p>\n",
       "</div>"
      ],
      "text/plain": [
       "     unidad_01            unidad_02  unidad_03  \\\n",
       "0           30          CAMPO DULCE      41594   \n",
       "1           30          CAMPO DULCE      41594   \n",
       "2           30          CAMPO DULCE      41594   \n",
       "3           30          CAMPO DULCE      41594   \n",
       "4           30          CAMPO DULCE      41594   \n",
       "..         ...                  ...        ...   \n",
       "133        256  LOS ANDES--AGUILERA         75   \n",
       "134        256  LOS ANDES--AGUILERA         75   \n",
       "135        256  LOS ANDES--AGUILERA         75   \n",
       "136        256  LOS ANDES--AGUILERA         75   \n",
       "137        256  LOS ANDES--AGUILERA         75   \n",
       "\n",
       "                              unidad_04 unidad_05       area  os  soca   id  \\\n",
       "0       AGROPECUARIA CAMPO DULCE S.R.L.    EP-L31  30.260942   1     2    1   \n",
       "1       AGROPECUARIA CAMPO DULCE S.R.L.    EP-L16  23.216246   1     4    2   \n",
       "2       AGROPECUARIA CAMPO DULCE S.R.L.     ER-L6  19.683505   1     5    3   \n",
       "3       AGROPECUARIA CAMPO DULCE S.R.L.    EP-L35   7.795719   1     4    4   \n",
       "4       AGROPECUARIA CAMPO DULCE S.R.L.    EP-L34   7.048921   1     5    5   \n",
       "..                                  ...       ...        ...  ..   ...  ...   \n",
       "133  AGUILERA TARADELLES NELSON MARIANO      LA20   7.890023  11     2  140   \n",
       "134  AGUILERA TARADELLES NELSON MARIANO      LA16  24.621769  11     2  141   \n",
       "135  AGUILERA TARADELLES NELSON MARIANO      LA24  13.205059  11     1  142   \n",
       "136  AGUILERA TARADELLES NELSON MARIANO      LA23  15.996730  11     1  143   \n",
       "137  AGUILERA TARADELLES NELSON MARIANO       LA1  30.346484  11     2  144   \n",
       "\n",
       "     inst  idd                                           geometry  \n",
       "0      50  1.0  POLYGON ((504085.659 8094406.031, 503737.808 8...  \n",
       "1      50  1.0  POLYGON ((504352.053 8094797.970, 504272.088 8...  \n",
       "2      50  1.0  POLYGON ((503260.583 8094596.306, 503714.735 8...  \n",
       "3      50  1.0  POLYGON ((504693.348 8094607.629, 504673.327 8...  \n",
       "4      50  1.0  POLYGON ((504137.327 8094415.183, 504648.080 8...  \n",
       "..    ...  ...                                                ...  \n",
       "133    50  NaN  POLYGON ((481237.012 8089847.643, 481636.666 8...  \n",
       "134    50  NaN  POLYGON ((480558.376 8088818.995, 481054.399 8...  \n",
       "135    50  NaN  POLYGON ((480301.359 8089838.440, 480241.822 8...  \n",
       "136    50  NaN  POLYGON ((481067.239 8090028.913, 480287.808 8...  \n",
       "137    50  NaN  POLYGON ((480565.400 8088825.256, 480561.546 8...  \n",
       "\n",
       "[138 rows x 12 columns]"
      ]
     },
     "execution_count": 97,
     "metadata": {},
     "output_type": "execute_result"
    }
   ],
   "source": [
    "gdf_pla_gral"
   ]
  },
  {
   "cell_type": "code",
   "execution_count": 98,
   "id": "558488e5-407b-405b-b50f-d54b7cb38dd1",
   "metadata": {},
   "outputs": [],
   "source": [
    "# exportar los datos en nuevo shp\n",
    "gdf_pla_gral.to_file(path_plan)"
   ]
  },
  {
   "cell_type": "markdown",
   "id": "92a10d50-7471-4f3a-8085-fd37e259b2b1",
   "metadata": {},
   "source": [
    "# CARGAR PLANIFICACION A AMIGOCLOUD"
   ]
  },
  {
   "cell_type": "code",
   "execution_count": 100,
   "id": "b3af9f2f-af6f-4d93-9486-fc9dc3bf959b",
   "metadata": {},
   "outputs": [],
   "source": [
    "def convertir_a_multipolygon(geometry):\n",
    "    if isinstance(geometry, Polygon):\n",
    "        return MultiPolygon([geometry])\n",
    "    return geometry\n",
    "\n",
    "def convertir_a_wkb(polygon):\n",
    "    wkb_data = wkb.dumps(polygon, hex=True)\n",
    "    return wkb_data"
   ]
  },
  {
   "cell_type": "code",
   "execution_count": 101,
   "id": "3bb8b143-c2e1-4531-bb46-4d2dc6c94f35",
   "metadata": {},
   "outputs": [],
   "source": [
    "# repreyectar a WGS84\n",
    "gdf_pla_gral = plan.to_crs(epsg=4326)\n",
    "# convertir poligonos a multipoligonos\n",
    "gdf_pla_gral['geometry'] = gdf_pla_gral['geometry'].apply(convertir_a_multipolygon)"
   ]
  },
  {
   "cell_type": "code",
   "execution_count": 102,
   "id": "2d282a8f-fc27-4967-88c9-e41de31ef6de",
   "metadata": {},
   "outputs": [],
   "source": [
    "gdf_pla_gral['unidad_01'] = gdf_pla_gral['unidad_01'].astype(int)\n",
    "gdf_pla_gral['unidad_03'] = gdf_pla_gral['unidad_03'].astype(int)\n",
    "gdf_pla_gral['os'] = gdf_pla_gral['os'].astype(int)\n",
    "gdf_pla_gral['soca'] = gdf_pla_gral['soca'].astype(int)\n",
    "gdf_pla_gral['id'] = gdf_pla_gral['id'].astype(int)\n",
    "gdf_pla_gral['inst'] = gdf_pla_gral['inst'].astype(int)"
   ]
  },
  {
   "cell_type": "code",
   "execution_count": 103,
   "id": "4cab8cfe-5518-4e1e-a22a-3701f90aefc6",
   "metadata": {},
   "outputs": [
    {
     "data": {
      "text/plain": [
       "5"
      ]
     },
     "execution_count": 103,
     "metadata": {},
     "output_type": "execute_result"
    }
   ],
   "source": [
    "len(gdf_pla_gral)"
   ]
  },
  {
   "cell_type": "code",
   "execution_count": 104,
   "id": "c51086e2-3f84-4f06-8504-ecd00c850844",
   "metadata": {},
   "outputs": [],
   "source": [
    "# recorrer el gdf de lotes y cargarlo a amigocloud\n",
    "id_proyecto = f'https://app.amigocloud.com/api/v1/projects/35248/sql'\n",
    "for index, row in gdf_pla_gral.iterrows():\n",
    "    wkb_hex = convertir_a_wkb(row['geometry'])\n",
    "    insert_sql = f\"\"\"\n",
    "    INSERT INTO dataset_360912 (id, unidad_01, unidad_02, unidad_03, unidad_04, unidad_05, area, os, geometry)\n",
    "    VALUES ({row['id']}, {row['unidad_01']}, '{row['unidad_02']}', {row['unidad_03']}, '{row['unidad_04']}', '{row['unidad_05']}', {row['area']}, '{row['os']}', ST_SetSRID(ST_GeomFromWKB('\\\\x{wkb_hex}'), 4326));\n",
    "    \"\"\"\n",
    "    query_sql = {'query': insert_sql}\n",
    "    resultado_post = amigocloud.post(id_proyecto, query_sql)"
   ]
  },
  {
   "cell_type": "markdown",
   "id": "16e8c566-2f71-4a12-a194-564c47acf886",
   "metadata": {},
   "source": [
    "# CARGAR XLSX"
   ]
  },
  {
   "cell_type": "code",
   "execution_count": 105,
   "id": "2ac001da-d5ac-4a04-9c26-5208dfdd6bef",
   "metadata": {},
   "outputs": [],
   "source": [
    "from openpyxl import load_workbook\n",
    "from openpyxl.utils.dataframe import dataframe_to_rows\n",
    "from datetime import datetime"
   ]
  },
  {
   "cell_type": "code",
   "execution_count": 106,
   "id": "2a51c637-8caf-4cec-b182-50b3526ed6ad",
   "metadata": {},
   "outputs": [],
   "source": [
    "# Cargar el archivo Excel\n",
    "sheet_name = 'DATA'\n",
    "table_name = 'tbl_data'"
   ]
  },
  {
   "cell_type": "code",
   "execution_count": 107,
   "id": "e06da03e-b5da-496d-8b17-0af3d9fb6b7d",
   "metadata": {},
   "outputs": [],
   "source": [
    "excel_data = pd.read_excel(path_xlsx_parte)"
   ]
  },
  {
   "cell_type": "code",
   "execution_count": 108,
   "id": "19ac8245-98ac-4bba-be77-e3b53ffc087a",
   "metadata": {},
   "outputs": [
    {
     "data": {
      "text/html": [
       "<div>\n",
       "<style scoped>\n",
       "    .dataframe tbody tr th:only-of-type {\n",
       "        vertical-align: middle;\n",
       "    }\n",
       "\n",
       "    .dataframe tbody tr th {\n",
       "        vertical-align: top;\n",
       "    }\n",
       "\n",
       "    .dataframe thead th {\n",
       "        text-align: right;\n",
       "    }\n",
       "</style>\n",
       "<table border=\"1\" class=\"dataframe\">\n",
       "  <thead>\n",
       "    <tr style=\"text-align: right;\">\n",
       "      <th></th>\n",
       "      <th>unidad_01</th>\n",
       "      <th>unidad_02</th>\n",
       "      <th>unidad_03</th>\n",
       "      <th>unidad_04</th>\n",
       "      <th>unidad_05</th>\n",
       "      <th>area</th>\n",
       "      <th>soca</th>\n",
       "      <th>inst</th>\n",
       "      <th>geometry</th>\n",
       "      <th>os</th>\n",
       "      <th>id</th>\n",
       "    </tr>\n",
       "  </thead>\n",
       "  <tbody>\n",
       "    <tr>\n",
       "      <th>13425</th>\n",
       "      <td>256</td>\n",
       "      <td>LOS ANDES--AGUILERA</td>\n",
       "      <td>75</td>\n",
       "      <td>AGUILERA TARADELLES NELSON MARIANO</td>\n",
       "      <td>LA20</td>\n",
       "      <td>7.890023</td>\n",
       "      <td>2</td>\n",
       "      <td>50</td>\n",
       "      <td>MULTIPOLYGON (((-63.17653 -17.27650, -63.17277...</td>\n",
       "      <td>11</td>\n",
       "      <td>140</td>\n",
       "    </tr>\n",
       "    <tr>\n",
       "      <th>13426</th>\n",
       "      <td>256</td>\n",
       "      <td>LOS ANDES--AGUILERA</td>\n",
       "      <td>75</td>\n",
       "      <td>AGUILERA TARADELLES NELSON MARIANO</td>\n",
       "      <td>LA16</td>\n",
       "      <td>24.621769</td>\n",
       "      <td>2</td>\n",
       "      <td>50</td>\n",
       "      <td>MULTIPOLYGON (((-63.18293 -17.28580, -63.17826...</td>\n",
       "      <td>11</td>\n",
       "      <td>141</td>\n",
       "    </tr>\n",
       "    <tr>\n",
       "      <th>13427</th>\n",
       "      <td>256</td>\n",
       "      <td>LOS ANDES--AGUILERA</td>\n",
       "      <td>75</td>\n",
       "      <td>AGUILERA TARADELLES NELSON MARIANO</td>\n",
       "      <td>LA24</td>\n",
       "      <td>13.205059</td>\n",
       "      <td>1</td>\n",
       "      <td>50</td>\n",
       "      <td>MULTIPOLYGON (((-63.18534 -17.27658, -63.18590...</td>\n",
       "      <td>11</td>\n",
       "      <td>142</td>\n",
       "    </tr>\n",
       "    <tr>\n",
       "      <th>13429</th>\n",
       "      <td>256</td>\n",
       "      <td>LOS ANDES--AGUILERA</td>\n",
       "      <td>75</td>\n",
       "      <td>AGUILERA TARADELLES NELSON MARIANO</td>\n",
       "      <td>LA23</td>\n",
       "      <td>15.996730</td>\n",
       "      <td>1</td>\n",
       "      <td>50</td>\n",
       "      <td>MULTIPOLYGON (((-63.17813 -17.27486, -63.18546...</td>\n",
       "      <td>11</td>\n",
       "      <td>143</td>\n",
       "    </tr>\n",
       "    <tr>\n",
       "      <th>13433</th>\n",
       "      <td>256</td>\n",
       "      <td>LOS ANDES--AGUILERA</td>\n",
       "      <td>75</td>\n",
       "      <td>AGUILERA TARADELLES NELSON MARIANO</td>\n",
       "      <td>LA1</td>\n",
       "      <td>30.346484</td>\n",
       "      <td>2</td>\n",
       "      <td>50</td>\n",
       "      <td>MULTIPOLYGON (((-63.18286 -17.28574, -63.18290...</td>\n",
       "      <td>11</td>\n",
       "      <td>144</td>\n",
       "    </tr>\n",
       "  </tbody>\n",
       "</table>\n",
       "</div>"
      ],
      "text/plain": [
       "       unidad_01            unidad_02  unidad_03  \\\n",
       "13425        256  LOS ANDES--AGUILERA         75   \n",
       "13426        256  LOS ANDES--AGUILERA         75   \n",
       "13427        256  LOS ANDES--AGUILERA         75   \n",
       "13429        256  LOS ANDES--AGUILERA         75   \n",
       "13433        256  LOS ANDES--AGUILERA         75   \n",
       "\n",
       "                                unidad_04 unidad_05       area  soca  inst  \\\n",
       "13425  AGUILERA TARADELLES NELSON MARIANO      LA20   7.890023     2    50   \n",
       "13426  AGUILERA TARADELLES NELSON MARIANO      LA16  24.621769     2    50   \n",
       "13427  AGUILERA TARADELLES NELSON MARIANO      LA24  13.205059     1    50   \n",
       "13429  AGUILERA TARADELLES NELSON MARIANO      LA23  15.996730     1    50   \n",
       "13433  AGUILERA TARADELLES NELSON MARIANO       LA1  30.346484     2    50   \n",
       "\n",
       "                                                geometry  os   id  \n",
       "13425  MULTIPOLYGON (((-63.17653 -17.27650, -63.17277...  11  140  \n",
       "13426  MULTIPOLYGON (((-63.18293 -17.28580, -63.17826...  11  141  \n",
       "13427  MULTIPOLYGON (((-63.18534 -17.27658, -63.18590...  11  142  \n",
       "13429  MULTIPOLYGON (((-63.17813 -17.27486, -63.18546...  11  143  \n",
       "13433  MULTIPOLYGON (((-63.18286 -17.28574, -63.18290...  11  144  "
      ]
     },
     "execution_count": 108,
     "metadata": {},
     "output_type": "execute_result"
    }
   ],
   "source": [
    "gdf_pla_gral"
   ]
  },
  {
   "cell_type": "code",
   "execution_count": 109,
   "id": "3f4a4ac8-5d21-40f7-84d8-8ed7c5a81e9f",
   "metadata": {},
   "outputs": [],
   "source": [
    "new_data = {\n",
    "    'INSTITUCION':list(gdf_pla_gral['inst']), \n",
    "    'COD CANERO': list(gdf_pla_gral['unidad_03']),\n",
    "    'NOMBRE CANERO': list(gdf_pla_gral['unidad_04']),\n",
    "    'COD PROPIEDAD': list(gdf_pla_gral['unidad_01']),\n",
    "    'NOMBRE PROPIEDAD': list(gdf_pla_gral['unidad_02']),\n",
    "    'LOTE': list(gdf_pla_gral['unidad_05']),\n",
    "    'HECTAREA': list(gdf_pla_gral['area']),\n",
    "    'CICLO': list(gdf_pla_gral['soca']),\n",
    "    'ID': list(gdf_pla_gral['id']),\n",
    "    'OS': list(gdf_pla_gral['os'])\n",
    "}\n",
    "\n",
    "new_df = pd.DataFrame(new_data)"
   ]
  },
  {
   "cell_type": "code",
   "execution_count": 110,
   "id": "db931e16-c16b-40c5-86e3-3ae714c2516a",
   "metadata": {},
   "outputs": [
    {
     "data": {
      "text/html": [
       "<div>\n",
       "<style scoped>\n",
       "    .dataframe tbody tr th:only-of-type {\n",
       "        vertical-align: middle;\n",
       "    }\n",
       "\n",
       "    .dataframe tbody tr th {\n",
       "        vertical-align: top;\n",
       "    }\n",
       "\n",
       "    .dataframe thead th {\n",
       "        text-align: right;\n",
       "    }\n",
       "</style>\n",
       "<table border=\"1\" class=\"dataframe\">\n",
       "  <thead>\n",
       "    <tr style=\"text-align: right;\">\n",
       "      <th></th>\n",
       "      <th>INSTITUCION</th>\n",
       "      <th>COD CANERO</th>\n",
       "      <th>NOMBRE CANERO</th>\n",
       "      <th>COD PROPIEDAD</th>\n",
       "      <th>NOMBRE PROPIEDAD</th>\n",
       "      <th>LOTE</th>\n",
       "      <th>HECTAREA</th>\n",
       "      <th>CICLO</th>\n",
       "      <th>ID</th>\n",
       "      <th>OS</th>\n",
       "    </tr>\n",
       "  </thead>\n",
       "  <tbody>\n",
       "    <tr>\n",
       "      <th>0</th>\n",
       "      <td>50</td>\n",
       "      <td>75</td>\n",
       "      <td>AGUILERA TARADELLES NELSON MARIANO</td>\n",
       "      <td>256</td>\n",
       "      <td>LOS ANDES--AGUILERA</td>\n",
       "      <td>LA20</td>\n",
       "      <td>7.890023</td>\n",
       "      <td>2</td>\n",
       "      <td>140</td>\n",
       "      <td>11</td>\n",
       "    </tr>\n",
       "    <tr>\n",
       "      <th>1</th>\n",
       "      <td>50</td>\n",
       "      <td>75</td>\n",
       "      <td>AGUILERA TARADELLES NELSON MARIANO</td>\n",
       "      <td>256</td>\n",
       "      <td>LOS ANDES--AGUILERA</td>\n",
       "      <td>LA16</td>\n",
       "      <td>24.621769</td>\n",
       "      <td>2</td>\n",
       "      <td>141</td>\n",
       "      <td>11</td>\n",
       "    </tr>\n",
       "    <tr>\n",
       "      <th>2</th>\n",
       "      <td>50</td>\n",
       "      <td>75</td>\n",
       "      <td>AGUILERA TARADELLES NELSON MARIANO</td>\n",
       "      <td>256</td>\n",
       "      <td>LOS ANDES--AGUILERA</td>\n",
       "      <td>LA24</td>\n",
       "      <td>13.205059</td>\n",
       "      <td>1</td>\n",
       "      <td>142</td>\n",
       "      <td>11</td>\n",
       "    </tr>\n",
       "  </tbody>\n",
       "</table>\n",
       "</div>"
      ],
      "text/plain": [
       "   INSTITUCION  COD CANERO                       NOMBRE CANERO  COD PROPIEDAD  \\\n",
       "0           50          75  AGUILERA TARADELLES NELSON MARIANO            256   \n",
       "1           50          75  AGUILERA TARADELLES NELSON MARIANO            256   \n",
       "2           50          75  AGUILERA TARADELLES NELSON MARIANO            256   \n",
       "\n",
       "      NOMBRE PROPIEDAD  LOTE   HECTAREA  CICLO   ID  OS  \n",
       "0  LOS ANDES--AGUILERA  LA20   7.890023      2  140  11  \n",
       "1  LOS ANDES--AGUILERA  LA16  24.621769      2  141  11  \n",
       "2  LOS ANDES--AGUILERA  LA24  13.205059      1  142  11  "
      ]
     },
     "execution_count": 110,
     "metadata": {},
     "output_type": "execute_result"
    }
   ],
   "source": [
    "new_df.head(3)"
   ]
  },
  {
   "cell_type": "code",
   "execution_count": null,
   "id": "f9d4a78c-1910-4f3b-b368-ddb9576ff0a1",
   "metadata": {},
   "outputs": [],
   "source": []
  },
  {
   "cell_type": "code",
   "execution_count": 111,
   "id": "101a76a3-e464-45d0-92ed-e809c0fdbe3b",
   "metadata": {},
   "outputs": [],
   "source": [
    "# extrae los valores de Nº DE LABOR, convierte a conjunto y luego a lista\n",
    "lista_cite = list(set(excel_data['Nº DE LABOR']))"
   ]
  },
  {
   "cell_type": "code",
   "execution_count": 112,
   "id": "99409dd1-ab3c-4106-991c-3016804b6828",
   "metadata": {},
   "outputs": [
    {
     "data": {
      "text/plain": [
       "[9, 12, 18, 4, 2, 10, 6, 24, 23, 21, 19, 14, 1, 22, 17, 11, 13, 8, 5, 20, 15]"
      ]
     },
     "execution_count": 112,
     "metadata": {},
     "output_type": "execute_result"
    }
   ],
   "source": [
    "# extrae los valores numericos de cada Nº DE LABOR\n",
    "lista_num = [int(i.split('-')[-1]) for i in lista_cite]\n",
    "lista_num"
   ]
  },
  {
   "cell_type": "code",
   "execution_count": 113,
   "id": "10f4d310-0b54-49d4-964b-3cf7419301c0",
   "metadata": {},
   "outputs": [
    {
     "data": {
      "text/plain": [
       "25"
      ]
     },
     "execution_count": 113,
     "metadata": {},
     "output_type": "execute_result"
    }
   ],
   "source": [
    "next_num_labor = max(lista_num) + 1\n",
    "next_num_labor"
   ]
  },
  {
   "cell_type": "code",
   "execution_count": null,
   "id": "5b74f39e-7fbb-4673-af1d-37453a4a9788",
   "metadata": {},
   "outputs": [],
   "source": []
  },
  {
   "cell_type": "code",
   "execution_count": 114,
   "id": "3e7ee4d6-9212-406f-b412-a68399d3a3ee",
   "metadata": {},
   "outputs": [],
   "source": [
    "new_df['MEZCLA'] = 0\n",
    "new_df['LABOR_REALIZADA'] = 'PUL. CON DRONE'\n",
    "new_df['Nº DE LABOR'] = 'PA-2025-' + str(next_num_labor)"
   ]
  },
  {
   "cell_type": "code",
   "execution_count": 115,
   "id": "6c901350-aa22-4a52-bb26-2fdc4911fb9d",
   "metadata": {},
   "outputs": [
    {
     "data": {
      "text/html": [
       "<div>\n",
       "<style scoped>\n",
       "    .dataframe tbody tr th:only-of-type {\n",
       "        vertical-align: middle;\n",
       "    }\n",
       "\n",
       "    .dataframe tbody tr th {\n",
       "        vertical-align: top;\n",
       "    }\n",
       "\n",
       "    .dataframe thead th {\n",
       "        text-align: right;\n",
       "    }\n",
       "</style>\n",
       "<table border=\"1\" class=\"dataframe\">\n",
       "  <thead>\n",
       "    <tr style=\"text-align: right;\">\n",
       "      <th></th>\n",
       "      <th>INSTITUCION</th>\n",
       "      <th>COD CANERO</th>\n",
       "      <th>NOMBRE CANERO</th>\n",
       "      <th>COD PROPIEDAD</th>\n",
       "      <th>NOMBRE PROPIEDAD</th>\n",
       "      <th>LOTE</th>\n",
       "      <th>HECTAREA</th>\n",
       "      <th>CICLO</th>\n",
       "      <th>ID</th>\n",
       "      <th>OS</th>\n",
       "      <th>MEZCLA</th>\n",
       "      <th>LABOR_REALIZADA</th>\n",
       "      <th>Nº DE LABOR</th>\n",
       "    </tr>\n",
       "  </thead>\n",
       "  <tbody>\n",
       "    <tr>\n",
       "      <th>0</th>\n",
       "      <td>50</td>\n",
       "      <td>75</td>\n",
       "      <td>AGUILERA TARADELLES NELSON MARIANO</td>\n",
       "      <td>256</td>\n",
       "      <td>LOS ANDES--AGUILERA</td>\n",
       "      <td>LA20</td>\n",
       "      <td>7.890023</td>\n",
       "      <td>2</td>\n",
       "      <td>140</td>\n",
       "      <td>11</td>\n",
       "      <td>0</td>\n",
       "      <td>PUL. CON DRONE</td>\n",
       "      <td>PA-2025-25</td>\n",
       "    </tr>\n",
       "    <tr>\n",
       "      <th>1</th>\n",
       "      <td>50</td>\n",
       "      <td>75</td>\n",
       "      <td>AGUILERA TARADELLES NELSON MARIANO</td>\n",
       "      <td>256</td>\n",
       "      <td>LOS ANDES--AGUILERA</td>\n",
       "      <td>LA16</td>\n",
       "      <td>24.621769</td>\n",
       "      <td>2</td>\n",
       "      <td>141</td>\n",
       "      <td>11</td>\n",
       "      <td>0</td>\n",
       "      <td>PUL. CON DRONE</td>\n",
       "      <td>PA-2025-25</td>\n",
       "    </tr>\n",
       "    <tr>\n",
       "      <th>2</th>\n",
       "      <td>50</td>\n",
       "      <td>75</td>\n",
       "      <td>AGUILERA TARADELLES NELSON MARIANO</td>\n",
       "      <td>256</td>\n",
       "      <td>LOS ANDES--AGUILERA</td>\n",
       "      <td>LA24</td>\n",
       "      <td>13.205059</td>\n",
       "      <td>1</td>\n",
       "      <td>142</td>\n",
       "      <td>11</td>\n",
       "      <td>0</td>\n",
       "      <td>PUL. CON DRONE</td>\n",
       "      <td>PA-2025-25</td>\n",
       "    </tr>\n",
       "    <tr>\n",
       "      <th>3</th>\n",
       "      <td>50</td>\n",
       "      <td>75</td>\n",
       "      <td>AGUILERA TARADELLES NELSON MARIANO</td>\n",
       "      <td>256</td>\n",
       "      <td>LOS ANDES--AGUILERA</td>\n",
       "      <td>LA23</td>\n",
       "      <td>15.996730</td>\n",
       "      <td>1</td>\n",
       "      <td>143</td>\n",
       "      <td>11</td>\n",
       "      <td>0</td>\n",
       "      <td>PUL. CON DRONE</td>\n",
       "      <td>PA-2025-25</td>\n",
       "    </tr>\n",
       "    <tr>\n",
       "      <th>4</th>\n",
       "      <td>50</td>\n",
       "      <td>75</td>\n",
       "      <td>AGUILERA TARADELLES NELSON MARIANO</td>\n",
       "      <td>256</td>\n",
       "      <td>LOS ANDES--AGUILERA</td>\n",
       "      <td>LA1</td>\n",
       "      <td>30.346484</td>\n",
       "      <td>2</td>\n",
       "      <td>144</td>\n",
       "      <td>11</td>\n",
       "      <td>0</td>\n",
       "      <td>PUL. CON DRONE</td>\n",
       "      <td>PA-2025-25</td>\n",
       "    </tr>\n",
       "  </tbody>\n",
       "</table>\n",
       "</div>"
      ],
      "text/plain": [
       "   INSTITUCION  COD CANERO                       NOMBRE CANERO  COD PROPIEDAD  \\\n",
       "0           50          75  AGUILERA TARADELLES NELSON MARIANO            256   \n",
       "1           50          75  AGUILERA TARADELLES NELSON MARIANO            256   \n",
       "2           50          75  AGUILERA TARADELLES NELSON MARIANO            256   \n",
       "3           50          75  AGUILERA TARADELLES NELSON MARIANO            256   \n",
       "4           50          75  AGUILERA TARADELLES NELSON MARIANO            256   \n",
       "\n",
       "      NOMBRE PROPIEDAD  LOTE   HECTAREA  CICLO   ID  OS  MEZCLA  \\\n",
       "0  LOS ANDES--AGUILERA  LA20   7.890023      2  140  11       0   \n",
       "1  LOS ANDES--AGUILERA  LA16  24.621769      2  141  11       0   \n",
       "2  LOS ANDES--AGUILERA  LA24  13.205059      1  142  11       0   \n",
       "3  LOS ANDES--AGUILERA  LA23  15.996730      1  143  11       0   \n",
       "4  LOS ANDES--AGUILERA   LA1  30.346484      2  144  11       0   \n",
       "\n",
       "  LABOR_REALIZADA Nº DE LABOR  \n",
       "0  PUL. CON DRONE  PA-2025-25  \n",
       "1  PUL. CON DRONE  PA-2025-25  \n",
       "2  PUL. CON DRONE  PA-2025-25  \n",
       "3  PUL. CON DRONE  PA-2025-25  \n",
       "4  PUL. CON DRONE  PA-2025-25  "
      ]
     },
     "execution_count": 115,
     "metadata": {},
     "output_type": "execute_result"
    }
   ],
   "source": [
    "new_df"
   ]
  },
  {
   "cell_type": "code",
   "execution_count": null,
   "id": "8574b2f2-2d82-49de-ae32-c352fbbbc148",
   "metadata": {},
   "outputs": [],
   "source": []
  },
  {
   "cell_type": "code",
   "execution_count": 116,
   "id": "3f5db740-e73e-4ee8-8b5c-23b3c758d661",
   "metadata": {},
   "outputs": [],
   "source": [
    "final_data = pd.concat([excel_data, new_df], ignore_index=True)"
   ]
  },
  {
   "cell_type": "code",
   "execution_count": 117,
   "id": "fbb0af9c-d30d-483d-a751-07c562ecbd32",
   "metadata": {},
   "outputs": [],
   "source": [
    "final_data.to_excel(path_xlsx_parte, index=False)"
   ]
  },
  {
   "cell_type": "code",
   "execution_count": null,
   "id": "aff1c4a1-057f-46a0-9b63-47cdb0546d82",
   "metadata": {},
   "outputs": [],
   "source": []
  },
  {
   "cell_type": "code",
   "execution_count": null,
   "id": "0b471b03-4336-4953-a48a-f5a5cef06eb4",
   "metadata": {},
   "outputs": [],
   "source": []
  },
  {
   "cell_type": "code",
   "execution_count": null,
   "id": "87c3b849-c74d-462a-86f5-611be03713ee",
   "metadata": {},
   "outputs": [],
   "source": []
  },
  {
   "cell_type": "code",
   "execution_count": null,
   "id": "0efa40ff-ec66-4080-ab48-91237e3aaeb2",
   "metadata": {},
   "outputs": [],
   "source": []
  }
 ],
 "metadata": {
  "kernelspec": {
   "display_name": "Python 3 (ipykernel)",
   "language": "python",
   "name": "python3"
  },
  "language_info": {
   "codemirror_mode": {
    "name": "ipython",
    "version": 3
   },
   "file_extension": ".py",
   "mimetype": "text/x-python",
   "name": "python",
   "nbconvert_exporter": "python",
   "pygments_lexer": "ipython3",
   "version": "3.10.13"
  }
 },
 "nbformat": 4,
 "nbformat_minor": 5
}
