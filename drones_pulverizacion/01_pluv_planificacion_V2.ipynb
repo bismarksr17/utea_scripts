{
 "cells": [
  {
   "cell_type": "code",
   "execution_count": 6,
   "id": "4ca1910b-5695-4103-b096-022ec8e159e0",
   "metadata": {},
   "outputs": [],
   "source": [
    "import sys\n",
    "sys.path.append('..')\n",
    "\n",
    "import os\n",
    "from sqlalchemy import create_engine\n",
    "import geopandas as gpd"
   ]
  },
  {
   "cell_type": "code",
   "execution_count": 17,
   "id": "c7499510-45ea-4c18-af4d-2fa17d9d677b",
   "metadata": {},
   "outputs": [],
   "source": [
    "from config import RUTA_UNIDAD_ONE_DRIVE\n",
    "from config import RUTA_LOCAL_ONE_DRIVE\n",
    "from config import POSTGRES_UTEA\n",
    "RUTA_COMPLETA = os.path.join(RUTA_UNIDAD_ONE_DRIVE, RUTA_LOCAL_ONE_DRIVE)"
   ]
  },
  {
   "cell_type": "code",
   "execution_count": 8,
   "id": "c7b10430-fc88-4340-8f36-b58100cfb424",
   "metadata": {},
   "outputs": [],
   "source": [
    "ors = 13"
   ]
  },
  {
   "cell_type": "code",
   "execution_count": 9,
   "id": "736949c3-40d7-490a-a7e1-3f701ba0db32",
   "metadata": {},
   "outputs": [],
   "source": [
    "def obtener_engine():\n",
    "    return create_engine(\n",
    "        f\"postgresql+psycopg2://{POSTGRES_UTEA['USER']}:{POSTGRES_UTEA['PASSWORD']}@{POSTGRES_UTEA['HOST']}:{POSTGRES_UTEA['PORT']}/{POSTGRES_UTEA['DATABASE']}\"\n",
    "    )"
   ]
  },
  {
   "cell_type": "code",
   "execution_count": 14,
   "id": "1ec33217-7767-48fc-99a8-be90c7c92ece",
   "metadata": {},
   "outputs": [],
   "source": [
    "def obtener_planificacion():\n",
    "    engine = obtener_engine()\n",
    "    try:\n",
    "        query = \"\"\"\n",
    "            SELECT id, geom, codigo_canero, nombre_canero, obs, procesado\n",
    "            FROM drones_pulverizacion.planificacion\n",
    "            WHERE procesado IS DISTINCT FROM 'SI';\n",
    "        \"\"\"\n",
    "        gdf = gpd.read_postgis(query, engine, geom_col='geom')\n",
    "        return gdf\n",
    "    except Exception as e:\n",
    "        print(f\"Error en la consulta: {e}\")\n",
    "        return gpd.GeoDataFrame()"
   ]
  },
  {
   "cell_type": "code",
   "execution_count": 20,
   "id": "5080239f-552f-482c-b7f3-6cc24b4a794d",
   "metadata": {},
   "outputs": [
    {
     "data": {
      "text/html": [
       "<div>\n",
       "<style scoped>\n",
       "    .dataframe tbody tr th:only-of-type {\n",
       "        vertical-align: middle;\n",
       "    }\n",
       "\n",
       "    .dataframe tbody tr th {\n",
       "        vertical-align: top;\n",
       "    }\n",
       "\n",
       "    .dataframe thead th {\n",
       "        text-align: right;\n",
       "    }\n",
       "</style>\n",
       "<table border=\"1\" class=\"dataframe\">\n",
       "  <thead>\n",
       "    <tr style=\"text-align: right;\">\n",
       "      <th></th>\n",
       "      <th>id</th>\n",
       "      <th>geom</th>\n",
       "      <th>codigo_canero</th>\n",
       "      <th>nombre_canero</th>\n",
       "      <th>obs</th>\n",
       "      <th>procesado</th>\n",
       "    </tr>\n",
       "  </thead>\n",
       "  <tbody>\n",
       "    <tr>\n",
       "      <th>0</th>\n",
       "      <td>32</td>\n",
       "      <td>MULTIPOINT (460632.721 8084193.589)</td>\n",
       "      <td>18027</td>\n",
       "      <td>AGUILERA TARRADELLES GUILLERMO</td>\n",
       "      <td>None</td>\n",
       "      <td>None</td>\n",
       "    </tr>\n",
       "  </tbody>\n",
       "</table>\n",
       "</div>"
      ],
      "text/plain": [
       "   id                                 geom  codigo_canero  \\\n",
       "0  32  MULTIPOINT (460632.721 8084193.589)          18027   \n",
       "\n",
       "                    nombre_canero   obs procesado  \n",
       "0  AGUILERA TARRADELLES GUILLERMO  None      None  "
      ]
     },
     "execution_count": 20,
     "metadata": {},
     "output_type": "execute_result"
    }
   ],
   "source": [
    "gdf_plan = obtener_planificacion()\n",
    "gdf_plan"
   ]
  },
  {
   "cell_type": "code",
   "execution_count": 21,
   "id": "d102d776-8a85-4ab2-bd4f-e915ae3d48b3",
   "metadata": {
    "tags": []
   },
   "outputs": [],
   "source": [
    "# leer los dos shps de siembra y puntos de planificacion\n",
    "path_cat = RUTA_UNIDAD_ONE_DRIVE + r'\\Ingenio Azucarero Guabira S.A\\UTEA - SEMANAL - EQUIPO AVIACION UTEA\\Pulverizacion\\2025\\SHP\\catastro_S09_MIERCOLES.shp'"
   ]
  },
  {
   "cell_type": "markdown",
   "id": "f90b0afe-f0a8-465a-bfbc-08fb3ecc23a4",
   "metadata": {},
   "source": [
    "# ACTUALIZAR SHP PLANIFICACION"
   ]
  },
  {
   "cell_type": "code",
   "execution_count": 22,
   "id": "91fc3e36-811a-48ce-99fe-82af7ba3e137",
   "metadata": {},
   "outputs": [],
   "source": [
    "gdf_cat = gpd.read_file(path_cat)"
   ]
  },
  {
   "cell_type": "code",
   "execution_count": 23,
   "id": "2a26e940-be39-4f09-b091-d146ed9859cf",
   "metadata": {},
   "outputs": [
    {
     "data": {
      "text/html": [
       "<div>\n",
       "<style scoped>\n",
       "    .dataframe tbody tr th:only-of-type {\n",
       "        vertical-align: middle;\n",
       "    }\n",
       "\n",
       "    .dataframe tbody tr th {\n",
       "        vertical-align: top;\n",
       "    }\n",
       "\n",
       "    .dataframe thead th {\n",
       "        text-align: right;\n",
       "    }\n",
       "</style>\n",
       "<table border=\"1\" class=\"dataframe\">\n",
       "  <thead>\n",
       "    <tr style=\"text-align: right;\">\n",
       "      <th></th>\n",
       "      <th>fid_1</th>\n",
       "      <th>id</th>\n",
       "      <th>unidad_01</th>\n",
       "      <th>unidad_02</th>\n",
       "      <th>unidad_03</th>\n",
       "      <th>unidad_04</th>\n",
       "      <th>unidad_05</th>\n",
       "      <th>variedad</th>\n",
       "      <th>soca</th>\n",
       "      <th>zona</th>\n",
       "      <th>...</th>\n",
       "      <th>fs</th>\n",
       "      <th>area</th>\n",
       "      <th>fc</th>\n",
       "      <th>obs</th>\n",
       "      <th>codco</th>\n",
       "      <th>nuevos</th>\n",
       "      <th>datosf</th>\n",
       "      <th>mesc</th>\n",
       "      <th>edad</th>\n",
       "      <th>geometry</th>\n",
       "    </tr>\n",
       "  </thead>\n",
       "  <tbody>\n",
       "    <tr>\n",
       "      <th>0</th>\n",
       "      <td>483.0</td>\n",
       "      <td>00002870000L2.1</td>\n",
       "      <td>287.0</td>\n",
       "      <td>ARCO IRIS NORTE III--MONASTERIO</td>\n",
       "      <td>8829.0</td>\n",
       "      <td>MONASTERIO FOIANINI SYLVIA D.</td>\n",
       "      <td>L2.1</td>\n",
       "      <td>RENOVACION</td>\n",
       "      <td>0.0</td>\n",
       "      <td>69</td>\n",
       "      <td>...</td>\n",
       "      <td>2024-05-31</td>\n",
       "      <td>9.891023</td>\n",
       "      <td>2024-06-18</td>\n",
       "      <td>rev</td>\n",
       "      <td>39</td>\n",
       "      <td>NaN</td>\n",
       "      <td>NaN</td>\n",
       "      <td>NaN</td>\n",
       "      <td>0</td>\n",
       "      <td>POLYGON ((473961.095 8075944.601, 473970.716 8...</td>\n",
       "    </tr>\n",
       "    <tr>\n",
       "      <th>1</th>\n",
       "      <td>496.0</td>\n",
       "      <td>00003760000L2</td>\n",
       "      <td>376.0</td>\n",
       "      <td>NARANJAL--AGUILERA SANTIAGO</td>\n",
       "      <td>18027.0</td>\n",
       "      <td>AGUILERA TARRADELLES GUILLERMO</td>\n",
       "      <td>L2</td>\n",
       "      <td>RENOVACION</td>\n",
       "      <td>0.0</td>\n",
       "      <td>50</td>\n",
       "      <td>...</td>\n",
       "      <td>2014-04-15</td>\n",
       "      <td>10.722511</td>\n",
       "      <td>2024-08-14</td>\n",
       "      <td>rev</td>\n",
       "      <td>198</td>\n",
       "      <td>NaN</td>\n",
       "      <td>NaN</td>\n",
       "      <td>NaN</td>\n",
       "      <td>0</td>\n",
       "      <td>POLYGON ((480489.148 8077720.927, 480463.927 8...</td>\n",
       "    </tr>\n",
       "    <tr>\n",
       "      <th>2</th>\n",
       "      <td>505.0</td>\n",
       "      <td>00003760000L3</td>\n",
       "      <td>376.0</td>\n",
       "      <td>NARANJAL--AGUILERA SANTIAGO</td>\n",
       "      <td>18027.0</td>\n",
       "      <td>AGUILERA TARRADELLES GUILLERMO</td>\n",
       "      <td>L3</td>\n",
       "      <td>RENOVACION</td>\n",
       "      <td>0.0</td>\n",
       "      <td>50</td>\n",
       "      <td>...</td>\n",
       "      <td>2020-04-20</td>\n",
       "      <td>12.056506</td>\n",
       "      <td>2024-08-02</td>\n",
       "      <td>rev</td>\n",
       "      <td>198</td>\n",
       "      <td>NaN</td>\n",
       "      <td>NaN</td>\n",
       "      <td>NaN</td>\n",
       "      <td>0</td>\n",
       "      <td>POLYGON ((480339.263 8078320.173, 480618.195 8...</td>\n",
       "    </tr>\n",
       "  </tbody>\n",
       "</table>\n",
       "<p>3 rows × 23 columns</p>\n",
       "</div>"
      ],
      "text/plain": [
       "   fid_1               id  unidad_01                        unidad_02  \\\n",
       "0  483.0  00002870000L2.1      287.0  ARCO IRIS NORTE III--MONASTERIO   \n",
       "1  496.0    00003760000L2      376.0      NARANJAL--AGUILERA SANTIAGO   \n",
       "2  505.0    00003760000L3      376.0      NARANJAL--AGUILERA SANTIAGO   \n",
       "\n",
       "   unidad_03                       unidad_04 unidad_05    variedad  soca zona  \\\n",
       "0     8829.0   MONASTERIO FOIANINI SYLVIA D.      L2.1  RENOVACION   0.0   69   \n",
       "1    18027.0  AGUILERA TARRADELLES GUILLERMO        L2  RENOVACION   0.0   50   \n",
       "2    18027.0  AGUILERA TARRADELLES GUILLERMO        L3  RENOVACION   0.0   50   \n",
       "\n",
       "   ...          fs       area          fc  obs  codco nuevos datosf  mesc  \\\n",
       "0  ...  2024-05-31   9.891023  2024-06-18  rev     39    NaN    NaN   NaN   \n",
       "1  ...  2014-04-15  10.722511  2024-08-14  rev    198    NaN    NaN   NaN   \n",
       "2  ...  2020-04-20  12.056506  2024-08-02  rev    198    NaN    NaN   NaN   \n",
       "\n",
       "  edad                                           geometry  \n",
       "0    0  POLYGON ((473961.095 8075944.601, 473970.716 8...  \n",
       "1    0  POLYGON ((480489.148 8077720.927, 480463.927 8...  \n",
       "2    0  POLYGON ((480339.263 8078320.173, 480618.195 8...  \n",
       "\n",
       "[3 rows x 23 columns]"
      ]
     },
     "execution_count": 23,
     "metadata": {},
     "output_type": "execute_result"
    }
   ],
   "source": [
    "gdf_cat.head(3)"
   ]
  },
  {
   "cell_type": "code",
   "execution_count": null,
   "id": "2633de73-5e3b-44c1-82c5-d27365f3f8e3",
   "metadata": {},
   "outputs": [],
   "source": [
    "# filtrar la semana de interes\n",
    "gdf_puntos_select = gdf_puntos[gdf_puntos['os'] == ors]\n",
    "gdf_puntos_sem = gdf_puntos_select.copy()\n",
    "#quita caracteres especiales\n",
    "gdf_puntos_sem['unidad_04'] = gdf_puntos_sem['unidad_04'].str.replace(r'[\\r\\n\\t]', '', regex=True)\n",
    "gdf_puntos_sem"
   ]
  },
  {
   "cell_type": "code",
   "execution_count": null,
   "id": "b7cf46a1-a58f-460e-b31b-9bee66eed1ef",
   "metadata": {},
   "outputs": [],
   "source": [
    "multipoint_gdf = gdf_puntos_sem.copy()"
   ]
  },
  {
   "cell_type": "code",
   "execution_count": null,
   "id": "eab2d142-5f9c-45f0-b147-0b3baaccaf74",
   "metadata": {},
   "outputs": [],
   "source": [
    "# Crear una lista para almacenar los nuevos registros de puntos individuales\n",
    "point_records = []\n",
    "# Iterar sobre cada registro en el GeoDataFrame original\n",
    "for idx, row in multipoint_gdf.iterrows():\n",
    "    multipoint_geom = row.geometry\n",
    "    # Verificar si la geometría es de tipo multipunto\n",
    "    if isinstance(multipoint_geom, MultiPoint):\n",
    "        for point in multipoint_geom.geoms:\n",
    "            # Crear un nuevo registro para cada punto individual\n",
    "            new_record = row.copy()\n",
    "            new_record.geometry = point\n",
    "            point_records.append(new_record)\n",
    "    else:\n",
    "        # Si la geometría ya es un punto, simplemente añadir el registro original\n",
    "        point_records.append(row)\n",
    "\n",
    "# Crear un nuevo GeoDataFrame con los registros de puntos individuales\n",
    "puntos_indi = gpd.GeoDataFrame(point_records, crs=multipoint_gdf.crs)"
   ]
  },
  {
   "cell_type": "code",
   "execution_count": null,
   "id": "8f7e34d2-349d-410c-8e82-1c1b350838ef",
   "metadata": {},
   "outputs": [],
   "source": [
    "# puntos individuales\n",
    "puntos_indi"
   ]
  },
  {
   "cell_type": "code",
   "execution_count": null,
   "id": "f9f6f215-2d5c-45c1-b01f-6cfd552c766e",
   "metadata": {},
   "outputs": [],
   "source": [
    "puntos_indi.plot()"
   ]
  },
  {
   "cell_type": "code",
   "execution_count": null,
   "id": "b27362b1-1f64-42e8-be89-b38e114fca78",
   "metadata": {},
   "outputs": [],
   "source": [
    "# identifoca los lotes que se intersectan\n",
    "gdf_lotes_cat = gpd.sjoin(gdf_cat, puntos_indi, how='inner', predicate='intersects')\n",
    "# filtra los lotes intersectados en la capa original\n",
    "poligonos_intersect_cat = gdf_cat.loc[gdf_cat.index.isin(gdf_lotes_cat.index)]\n",
    "# copy\n",
    "poligonos_intersect_cat = poligonos_intersect_cat.copy()\n",
    "poligonos_intersect_cat = poligonos_intersect_cat[['unidad_01', 'unidad_02', 'unidad_03', 'unidad_04', 'unidad_05', 'area', 'soca', 'zona', 'geometry']]"
   ]
  },
  {
   "cell_type": "code",
   "execution_count": null,
   "id": "f2279c90-5d87-4280-8402-c88a16619a89",
   "metadata": {},
   "outputs": [],
   "source": [
    "# Cambiar el nombre de la columna 'old_name' a 'new_name'\n",
    "poligonos_intersect_cat.rename(columns={'zona': 'inst'}, inplace=True)"
   ]
  },
  {
   "cell_type": "code",
   "execution_count": null,
   "id": "9f826f35-82ee-4070-ba66-069e4d131014",
   "metadata": {},
   "outputs": [],
   "source": [
    "poligonos_intersect_cat"
   ]
  },
  {
   "cell_type": "code",
   "execution_count": null,
   "id": "6368f2aa-ba1b-4eea-99aa-5ef29c11e684",
   "metadata": {},
   "outputs": [],
   "source": [
    "# CAMBIAR NOMBRE DATOS DE UNIDAD_03 Y UNDIAD_04 DE LOTES SOLICITADOS A LO INDICADO EN LOS PUNTOS\n",
    "# Iterar sobre cada punto y encontrar el polígono que intersecta\n",
    "for idx, point in puntos_indi.iterrows():\n",
    "    point_geom = point.geometry\n",
    "    matching_polygons = poligonos_intersect_cat[poligonos_intersect_cat.intersects(point_geom)]\n",
    "    \n",
    "    # Actualizar los campos de los polígonos que intersectan con los valores del punto\n",
    "    for poly_idx in matching_polygons.index:\n",
    "        poligonos_intersect_cat.at[poly_idx, 'unidad_03'] = point['unidad_03']\n",
    "        poligonos_intersect_cat.at[poly_idx, 'unidad_04'] = point['unidad_04']"
   ]
  },
  {
   "cell_type": "code",
   "execution_count": null,
   "id": "bea9f942-2e35-4d3b-928d-763710fb6c41",
   "metadata": {},
   "outputs": [],
   "source": [
    "poligonos_intersect_cat.head(3)"
   ]
  },
  {
   "cell_type": "code",
   "execution_count": null,
   "id": "16e8e3f8-b979-4342-ab8b-e80b06a43499",
   "metadata": {},
   "outputs": [],
   "source": [
    "# agrega los campos faltantes\n",
    "poligonos_intersect_cat['os'] = ors"
   ]
  },
  {
   "cell_type": "code",
   "execution_count": null,
   "id": "1e74b24e-d6f8-4c0e-85d9-8df0636515d6",
   "metadata": {},
   "outputs": [],
   "source": [
    "plan = poligonos_intersect_cat.copy()"
   ]
  },
  {
   "cell_type": "code",
   "execution_count": null,
   "id": "597b6b16-d955-4fc8-bd77-6ad214b088f0",
   "metadata": {},
   "outputs": [],
   "source": [
    "plan.head(3)"
   ]
  },
  {
   "cell_type": "code",
   "execution_count": null,
   "id": "eaaf58db-a69b-438d-a53c-3014bff3a849",
   "metadata": {},
   "outputs": [],
   "source": [
    "plan.plot()"
   ]
  },
  {
   "cell_type": "code",
   "execution_count": null,
   "id": "2405fa10-535a-4b76-86da-3f8f0a6a7bcc",
   "metadata": {},
   "outputs": [],
   "source": [
    "plan['area'].sum()"
   ]
  },
  {
   "cell_type": "code",
   "execution_count": null,
   "id": "903dd5e2-1fb0-4380-9843-187ed3e2880f",
   "metadata": {},
   "outputs": [],
   "source": [
    "#RECALCULAR EL AREA\n",
    "plan['area'] = plan.geometry.area / 10000"
   ]
  },
  {
   "cell_type": "code",
   "execution_count": null,
   "id": "d20fa8af-ca0e-42a7-8578-b5fc74b3dc0a",
   "metadata": {},
   "outputs": [],
   "source": [
    "plan['area'].sum()"
   ]
  },
  {
   "cell_type": "code",
   "execution_count": null,
   "id": "cce50e5e-a116-4b2a-af88-5e8781eb1c30",
   "metadata": {},
   "outputs": [],
   "source": [
    "# carga el shp de planificacion\n",
    "gdf_plan = gpd.read_file(path_plan)"
   ]
  },
  {
   "cell_type": "code",
   "execution_count": null,
   "id": "c8672e4b-c9c3-4e06-b506-9c351d506ee5",
   "metadata": {},
   "outputs": [],
   "source": [
    "# determina el ultimo id\n",
    "last_id = 0\n",
    "if gdf_plan['id'].max() > 0:\n",
    "    last_id = gdf_plan['id'].max()\n",
    "else:\n",
    "    last_id = 0"
   ]
  },
  {
   "cell_type": "code",
   "execution_count": null,
   "id": "8c0d2c70-f1d2-4f86-a30c-498e31bf3fef",
   "metadata": {},
   "outputs": [],
   "source": [
    "last_id"
   ]
  },
  {
   "cell_type": "code",
   "execution_count": null,
   "id": "0f50711b-5f55-4e1e-8d2f-f3d2fd35b395",
   "metadata": {},
   "outputs": [],
   "source": [
    "# Asignar valores incrementales a la columna 'id' empezando desde last_id + 1\n",
    "plan['id'] = range(last_id + 1, last_id + 1 + len(plan))"
   ]
  },
  {
   "cell_type": "code",
   "execution_count": null,
   "id": "9d77a388-b29a-4179-85bf-b645b6f52740",
   "metadata": {},
   "outputs": [],
   "source": [
    "plan.head(3)"
   ]
  },
  {
   "cell_type": "code",
   "execution_count": null,
   "id": "c895696e-b032-4da6-8083-3bc3fa27bcb0",
   "metadata": {},
   "outputs": [],
   "source": [
    "len(plan)"
   ]
  },
  {
   "cell_type": "code",
   "execution_count": null,
   "id": "5d989b45-d04a-4a62-af2c-778881ecf130",
   "metadata": {},
   "outputs": [],
   "source": [
    "# union de los dos gdf\n",
    "gdf_pla_gral = pd.concat([gdf_plan, plan], ignore_index=True)"
   ]
  },
  {
   "cell_type": "code",
   "execution_count": null,
   "id": "a0aa63d6-c245-43bf-ae75-a3512e50c213",
   "metadata": {},
   "outputs": [],
   "source": [
    "gdf_pla_gral['area'].sum()"
   ]
  },
  {
   "cell_type": "code",
   "execution_count": null,
   "id": "3ceba5ac-11a6-46f5-ade5-f5c81389c2f8",
   "metadata": {},
   "outputs": [],
   "source": [
    "gdf_pla_gral['unidad_01'] = gdf_pla_gral['unidad_01'].astype(int)\n",
    "gdf_pla_gral['unidad_03'] = gdf_pla_gral['unidad_03'].astype(int)\n",
    "gdf_pla_gral['os'] = gdf_pla_gral['os'].astype(int)\n",
    "gdf_pla_gral['soca'] = gdf_pla_gral['soca'].astype(int)\n",
    "gdf_pla_gral['id'] = gdf_pla_gral['id'].astype(int)\n",
    "gdf_pla_gral['inst'] = gdf_pla_gral['inst'].astype(int)"
   ]
  },
  {
   "cell_type": "code",
   "execution_count": null,
   "id": "c412c69c-5362-4537-9e27-576d2f94b803",
   "metadata": {},
   "outputs": [],
   "source": [
    "gdf_pla_gral"
   ]
  },
  {
   "cell_type": "code",
   "execution_count": null,
   "id": "558488e5-407b-405b-b50f-d54b7cb38dd1",
   "metadata": {},
   "outputs": [],
   "source": [
    "# exportar los datos en nuevo shp\n",
    "gdf_pla_gral.to_file(path_plan)"
   ]
  },
  {
   "cell_type": "markdown",
   "id": "92a10d50-7471-4f3a-8085-fd37e259b2b1",
   "metadata": {},
   "source": [
    "# CARGAR PLANIFICACION A AMIGOCLOUD"
   ]
  },
  {
   "cell_type": "code",
   "execution_count": null,
   "id": "b3af9f2f-af6f-4d93-9486-fc9dc3bf959b",
   "metadata": {},
   "outputs": [],
   "source": [
    "def convertir_a_multipolygon(geometry):\n",
    "    if isinstance(geometry, Polygon):\n",
    "        return MultiPolygon([geometry])\n",
    "    return geometry\n",
    "\n",
    "def convertir_a_wkb(polygon):\n",
    "    wkb_data = wkb.dumps(polygon, hex=True)\n",
    "    return wkb_data"
   ]
  },
  {
   "cell_type": "code",
   "execution_count": null,
   "id": "3bb8b143-c2e1-4531-bb46-4d2dc6c94f35",
   "metadata": {},
   "outputs": [],
   "source": [
    "# repreyectar a WGS84\n",
    "gdf_pla_gral = plan.to_crs(epsg=4326)\n",
    "# convertir poligonos a multipoligonos\n",
    "gdf_pla_gral['geometry'] = gdf_pla_gral['geometry'].apply(convertir_a_multipolygon)"
   ]
  },
  {
   "cell_type": "code",
   "execution_count": null,
   "id": "2d282a8f-fc27-4967-88c9-e41de31ef6de",
   "metadata": {},
   "outputs": [],
   "source": [
    "gdf_pla_gral['unidad_01'] = gdf_pla_gral['unidad_01'].astype(int)\n",
    "gdf_pla_gral['unidad_03'] = gdf_pla_gral['unidad_03'].astype(int)\n",
    "gdf_pla_gral['os'] = gdf_pla_gral['os'].astype(int)\n",
    "gdf_pla_gral['soca'] = gdf_pla_gral['soca'].astype(int)\n",
    "gdf_pla_gral['id'] = gdf_pla_gral['id'].astype(int)\n",
    "gdf_pla_gral['inst'] = gdf_pla_gral['inst'].astype(int)"
   ]
  },
  {
   "cell_type": "code",
   "execution_count": null,
   "id": "4cab8cfe-5518-4e1e-a22a-3701f90aefc6",
   "metadata": {},
   "outputs": [],
   "source": [
    "len(gdf_pla_gral)"
   ]
  },
  {
   "cell_type": "code",
   "execution_count": null,
   "id": "c51086e2-3f84-4f06-8504-ecd00c850844",
   "metadata": {},
   "outputs": [],
   "source": [
    "# recorrer el gdf de lotes y cargarlo a amigocloud\n",
    "id_proyecto = f'https://app.amigocloud.com/api/v1/projects/35248/sql'\n",
    "for index, row in gdf_pla_gral.iterrows():\n",
    "    wkb_hex = convertir_a_wkb(row['geometry'])\n",
    "    insert_sql = f\"\"\"\n",
    "    INSERT INTO dataset_360912 (id, unidad_01, unidad_02, unidad_03, unidad_04, unidad_05, area, os, geometry)\n",
    "    VALUES ({row['id']}, {row['unidad_01']}, '{row['unidad_02']}', {row['unidad_03']}, '{row['unidad_04']}', '{row['unidad_05']}', {row['area']}, '{row['os']}', ST_SetSRID(ST_GeomFromWKB('\\\\x{wkb_hex}'), 4326));\n",
    "    \"\"\"\n",
    "    query_sql = {'query': insert_sql}\n",
    "    resultado_post = amigocloud.post(id_proyecto, query_sql)"
   ]
  },
  {
   "cell_type": "markdown",
   "id": "16e8c566-2f71-4a12-a194-564c47acf886",
   "metadata": {},
   "source": [
    "# CARGAR XLSX"
   ]
  },
  {
   "cell_type": "code",
   "execution_count": null,
   "id": "2ac001da-d5ac-4a04-9c26-5208dfdd6bef",
   "metadata": {},
   "outputs": [],
   "source": [
    "from openpyxl import load_workbook\n",
    "from openpyxl.utils.dataframe import dataframe_to_rows\n",
    "from datetime import datetime"
   ]
  },
  {
   "cell_type": "code",
   "execution_count": null,
   "id": "2a51c637-8caf-4cec-b182-50b3526ed6ad",
   "metadata": {},
   "outputs": [],
   "source": [
    "# Cargar el archivo Excel\n",
    "sheet_name = 'DATA'\n",
    "table_name = 'tbl_data'"
   ]
  },
  {
   "cell_type": "code",
   "execution_count": null,
   "id": "e06da03e-b5da-496d-8b17-0af3d9fb6b7d",
   "metadata": {},
   "outputs": [],
   "source": [
    "excel_data = pd.read_excel(path_xlsx_parte)"
   ]
  },
  {
   "cell_type": "code",
   "execution_count": null,
   "id": "19ac8245-98ac-4bba-be77-e3b53ffc087a",
   "metadata": {},
   "outputs": [],
   "source": [
    "gdf_pla_gral"
   ]
  },
  {
   "cell_type": "code",
   "execution_count": null,
   "id": "3f4a4ac8-5d21-40f7-84d8-8ed7c5a81e9f",
   "metadata": {},
   "outputs": [],
   "source": [
    "new_data = {\n",
    "    'INSTITUCION':list(gdf_pla_gral['inst']), \n",
    "    'COD CANERO': list(gdf_pla_gral['unidad_03']),\n",
    "    'NOMBRE CANERO': list(gdf_pla_gral['unidad_04']),\n",
    "    'COD PROPIEDAD': list(gdf_pla_gral['unidad_01']),\n",
    "    'NOMBRE PROPIEDAD': list(gdf_pla_gral['unidad_02']),\n",
    "    'LOTE': list(gdf_pla_gral['unidad_05']),\n",
    "    'HECTAREA': list(gdf_pla_gral['area']),\n",
    "    'CICLO': list(gdf_pla_gral['soca']),\n",
    "    'ID': list(gdf_pla_gral['id']),\n",
    "    'OS': list(gdf_pla_gral['os'])\n",
    "}\n",
    "\n",
    "new_df = pd.DataFrame(new_data)"
   ]
  },
  {
   "cell_type": "code",
   "execution_count": null,
   "id": "db931e16-c16b-40c5-86e3-3ae714c2516a",
   "metadata": {},
   "outputs": [],
   "source": [
    "new_df.head(3)"
   ]
  },
  {
   "cell_type": "code",
   "execution_count": null,
   "id": "f9d4a78c-1910-4f3b-b368-ddb9576ff0a1",
   "metadata": {},
   "outputs": [],
   "source": []
  },
  {
   "cell_type": "code",
   "execution_count": null,
   "id": "101a76a3-e464-45d0-92ed-e809c0fdbe3b",
   "metadata": {},
   "outputs": [],
   "source": [
    "# extrae los valores de Nº DE LABOR, convierte a conjunto y luego a lista\n",
    "lista_cite = list(set(excel_data['Nº DE LABOR']))"
   ]
  },
  {
   "cell_type": "code",
   "execution_count": null,
   "id": "99409dd1-ab3c-4106-991c-3016804b6828",
   "metadata": {},
   "outputs": [],
   "source": [
    "# extrae los valores numericos de cada Nº DE LABOR\n",
    "lista_num = [int(i.split('-')[-1]) for i in lista_cite]\n",
    "lista_num"
   ]
  },
  {
   "cell_type": "code",
   "execution_count": null,
   "id": "10f4d310-0b54-49d4-964b-3cf7419301c0",
   "metadata": {},
   "outputs": [],
   "source": [
    "next_num_labor = max(lista_num) + 1\n",
    "next_num_labor"
   ]
  },
  {
   "cell_type": "code",
   "execution_count": null,
   "id": "5b74f39e-7fbb-4673-af1d-37453a4a9788",
   "metadata": {},
   "outputs": [],
   "source": []
  },
  {
   "cell_type": "code",
   "execution_count": null,
   "id": "3e7ee4d6-9212-406f-b412-a68399d3a3ee",
   "metadata": {},
   "outputs": [],
   "source": [
    "new_df['MEZCLA'] = 0\n",
    "new_df['LABOR_REALIZADA'] = 'PUL. CON DRONE'\n",
    "new_df['Nº DE LABOR'] = 'PA-2025-' + str(next_num_labor)"
   ]
  },
  {
   "cell_type": "code",
   "execution_count": null,
   "id": "6c901350-aa22-4a52-bb26-2fdc4911fb9d",
   "metadata": {},
   "outputs": [],
   "source": [
    "new_df"
   ]
  },
  {
   "cell_type": "code",
   "execution_count": null,
   "id": "8574b2f2-2d82-49de-ae32-c352fbbbc148",
   "metadata": {},
   "outputs": [],
   "source": []
  },
  {
   "cell_type": "code",
   "execution_count": null,
   "id": "3f5db740-e73e-4ee8-8b5c-23b3c758d661",
   "metadata": {},
   "outputs": [],
   "source": [
    "final_data = pd.concat([excel_data, new_df], ignore_index=True)"
   ]
  },
  {
   "cell_type": "code",
   "execution_count": null,
   "id": "fbb0af9c-d30d-483d-a751-07c562ecbd32",
   "metadata": {},
   "outputs": [],
   "source": [
    "final_data.to_excel(path_xlsx_parte, index=False)"
   ]
  },
  {
   "cell_type": "code",
   "execution_count": null,
   "id": "aff1c4a1-057f-46a0-9b63-47cdb0546d82",
   "metadata": {},
   "outputs": [],
   "source": []
  },
  {
   "cell_type": "code",
   "execution_count": null,
   "id": "0b471b03-4336-4953-a48a-f5a5cef06eb4",
   "metadata": {},
   "outputs": [],
   "source": []
  },
  {
   "cell_type": "code",
   "execution_count": null,
   "id": "87c3b849-c74d-462a-86f5-611be03713ee",
   "metadata": {},
   "outputs": [],
   "source": []
  },
  {
   "cell_type": "code",
   "execution_count": null,
   "id": "0efa40ff-ec66-4080-ab48-91237e3aaeb2",
   "metadata": {},
   "outputs": [],
   "source": []
  }
 ],
 "metadata": {
  "kernelspec": {
   "display_name": "Python 3 (ipykernel)",
   "language": "python",
   "name": "python3"
  },
  "language_info": {
   "codemirror_mode": {
    "name": "ipython",
    "version": 3
   },
   "file_extension": ".py",
   "mimetype": "text/x-python",
   "name": "python",
   "nbconvert_exporter": "python",
   "pygments_lexer": "ipython3",
   "version": "3.10.13"
  }
 },
 "nbformat": 4,
 "nbformat_minor": 5
}
