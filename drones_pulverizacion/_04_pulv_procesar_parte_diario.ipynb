{
 "cells": [
  {
   "cell_type": "code",
   "execution_count": 1,
   "id": "006f026b-9753-443a-94d0-a3c370f32023",
   "metadata": {},
   "outputs": [],
   "source": [
    "import sys\n",
    "sys.path.append('..')\n",
    "\n",
    "import os\n",
    "import pandas as pd\n",
    "import geopandas as gpd\n",
    "from shapely import wkb\n",
    "from datetime import datetime\n",
    "from sqlalchemy import create_engine, text\n",
    "\n",
    "from utilities_amigocloud import AmigocloudFunctions"
   ]
  },
  {
   "cell_type": "code",
   "execution_count": 2,
   "id": "6a986025-ca5f-4d79-a3b2-74fde544b144",
   "metadata": {},
   "outputs": [],
   "source": [
    "from config import RUTA_UNIDAD_ONE_DRIVE\n",
    "from config import RUTA_LOCAL_ONE_DRIVE\n",
    "from config import API_AMIGOCLOUD_TOKEN_ADM\n",
    "from config import POSTGRES_UTEA\n",
    "\n",
    "RUTA_COMPLETA = os.path.join(RUTA_UNIDAD_ONE_DRIVE, RUTA_LOCAL_ONE_DRIVE)\n",
    "ID_PROYECTO = 35248"
   ]
  },
  {
   "cell_type": "code",
   "execution_count": 3,
   "id": "3fff899f-8048-4710-9712-2fe17fb08ff0",
   "metadata": {},
   "outputs": [
    {
     "data": {
      "text/plain": [
       "<utilities_amigocloud.AmigocloudFunctions at 0x1fff218a560>"
      ]
     },
     "execution_count": 3,
     "metadata": {},
     "output_type": "execute_result"
    }
   ],
   "source": [
    "amigocloud = AmigocloudFunctions(token=API_AMIGOCLOUD_TOKEN_ADM)\n",
    "amigocloud"
   ]
  },
  {
   "cell_type": "code",
   "execution_count": 4,
   "id": "690a2479-36df-445a-9cad-42bbc1183b84",
   "metadata": {},
   "outputs": [],
   "source": [
    "def obtener_engine():\n",
    "    return create_engine(\n",
    "        f\"postgresql+psycopg2://{POSTGRES_UTEA['USER']}:{POSTGRES_UTEA['PASSWORD']}@{POSTGRES_UTEA['HOST']}:{POSTGRES_UTEA['PORT']}/{POSTGRES_UTEA['DATABASE']}\"\n",
    "    )\n",
    "\n",
    "def obtener_parte_diario_amigocloud():\n",
    "    query = '''SELECT parte.*, plan.unidad_01 \n",
    "                FROM dataset_367119 parte \n",
    "                JOIN dataset_360912 plan \n",
    "                ON ST_Intersects(parte.referencia, plan.geometry);'''\n",
    "    select = amigocloud.ejecutar_query_sql(ID_PROYECTO, query, 'get')\n",
    "    return select['data']\n",
    "\n",
    "def obtener_propiedad_plan_amigocloud(cod_prop):\n",
    "    query = f'''SELECT * FROM dataset_360912 WHERE unidad_01 = {cod_prop}'''\n",
    "    select = amigocloud.ejecutar_query_sql(ID_PROYECTO, query, 'get')\n",
    "    return select['data']\n",
    "\n",
    "def actualizar_lotes_db(unidad_01, unidad_03, ors, row):\n",
    "    engine = obtener_engine()\n",
    "    try:\n",
    "        with engine.begin() as conn:\n",
    "            query = text(\"\"\"\n",
    "                UPDATE drones_pulverizacion.parte_diario_pulv\n",
    "                SET \n",
    "                    idd= :id,\n",
    "                    fecha = :fecha,\n",
    "                    semana = :semana,\n",
    "                    temp_max = :temp_max,\n",
    "                    temp_min = :temp_min,\n",
    "                    temp = :temp,\n",
    "                    viento = :viento,\n",
    "                    humedad = :humedad,\n",
    "                    cultivo = :tipo_cultivo,\n",
    "                    desarrollo = :tipo_desarrollo\n",
    "                WHERE unidad_01 = :unidad_01\n",
    "                  AND unidad_03 = :unidad_03\n",
    "                  AND os = :ors\n",
    "            \"\"\")\n",
    "            conn.execute(query, {\n",
    "                \"unidad_01\": unidad_01,\n",
    "                \"unidad_03\": unidad_03,\n",
    "                \"ors\": ors,\n",
    "                \"id\": row.id,\n",
    "                \"fecha\": row.fecha_registro,\n",
    "                \"semana\": datetime.fromisoformat(row.fecha_registro).isocalendar().week,\n",
    "                \"temp_max\": row.temp_max,\n",
    "                \"temp_min\": row.temp_min,\n",
    "                \"temp\": (row.temp_max + row.temp_min) / 2,\n",
    "                \"viento\": row.viento,\n",
    "                \"humedad\": row.humedad,\n",
    "                \"tipo_cultivo\": row.tipo_cultivo,\n",
    "                \"tipo_desarrollo\": row.tipo_desarrollo\n",
    "            })\n",
    "            print(f\"✔️ Registros con unidad_01={unidad_01}, unidad_03={unidad_03}, os={ors} marcados como procesado.\")\n",
    "    except Exception as e:\n",
    "        print(f\"❌ Error al actualizar: {e}\")\n",
    "\n",
    "def copiar_parte_diario_a_clon_amigocloud(id):\n",
    "    query = f\"\"\"INSERT INTO dataset_367584 (id, fecha_registro, temp_max, temp_min, viento, humedad, observaciones, tipo_cultivo, tipo_desarrollo, referencia) \n",
    "                SELECT id, fecha_registro, temp_max, temp_min, viento, humedad, observaciones, tipo_cultivo, tipo_desarrollo, referencia \n",
    "                FROM dataset_367119 \n",
    "                WHERE id = {id}\"\"\"\n",
    "    select = amigocloud.ejecutar_query_sql(ID_PROYECTO, query, 'post')\n",
    "    return select\n",
    "\n",
    "def eliminar_parte_diario_amigocloud(id):\n",
    "    query = f\"\"\"DELETE FROM dataset_367119 WHERE id = {id}\"\"\"\n",
    "    select = amigocloud.ejecutar_query_sql(ID_PROYECTO, query, 'post')\n",
    "    return select\n",
    "\n",
    "def copiar_planificacion_a_clon_amigocloud(unidad_01, ors):\n",
    "    query = f\"\"\"INSERT INTO dataset_360915 (fecha_registro, id, unidad_01, unidad_02, unidad_03, unidad_04, unidad_05, area, os, geometry) \n",
    "                SELECT fecha_registro, id, unidad_01, unidad_02, unidad_03, unidad_04, unidad_05, area, os, geometry \n",
    "                FROM dataset_360912 \n",
    "                WHERE unidad_01 = {unidad_01} and os = {ors}\"\"\"\n",
    "    select = amigocloud.ejecutar_query_sql(ID_PROYECTO, query, 'post')\n",
    "    return select\n",
    "\n",
    "def eliminar_planificacion_amigocloud(unidad_01, ors):\n",
    "    query = f\"\"\"DELETE FROM dataset_360912 WHERE unidad_01 = {unidad_01} and os = {ors}\"\"\"\n",
    "    select = amigocloud.ejecutar_query_sql(ID_PROYECTO, query, 'post')\n",
    "    return select\n",
    "\n",
    "def convertir_json_a_geodataframe(json_data, nom_campo_geo):\n",
    "    # Convertimos a DataFrame para manipulación tabular\n",
    "    df = pd.DataFrame(json_data)\n",
    "    # Convertimos la columna geometry (WKB hexadecimal) a objetos shapely\n",
    "    df[nom_campo_geo] = df[nom_campo_geo].apply(lambda x: wkb.loads(bytes.fromhex(x)))\n",
    "    # Creamos el GeoDataFrame en CRS original (EPSG:4326)\n",
    "    gdf = gpd.GeoDataFrame(df, geometry=nom_campo_geo, crs='EPSG:4326')\n",
    "    # Reproyectamos a UTM Zona 20S (EPSG:32720)\n",
    "    gdf_utm20s = gdf.to_crs(epsg=32720)\n",
    "    return gdf_utm20s"
   ]
  },
  {
   "cell_type": "code",
   "execution_count": 5,
   "id": "b45fd5a6-20e5-4cbc-ba84-ee2ecd075e74",
   "metadata": {},
   "outputs": [],
   "source": [
    "parte_diario = obtener_parte_diario_amigocloud()"
   ]
  },
  {
   "cell_type": "code",
   "execution_count": 6,
   "id": "59db6bf5-34c5-4d3c-beea-747eeaa2c570",
   "metadata": {},
   "outputs": [
    {
     "data": {
      "text/plain": [
       "[{'id': 68,\n",
       "  'amigo_id': '5fb4dfe403d44c70a3f3214c320c29e6',\n",
       "  'fecha_registro': '2025-08-21 18:51:56+00:00',\n",
       "  'referencia': '0101000020E61000003AED84F299A44FC056647440126631C0',\n",
       "  'temp_max': 31.0,\n",
       "  'temp_min': 29.0,\n",
       "  'viento': 4.0,\n",
       "  'humedad': 47.0,\n",
       "  'observaciones': None,\n",
       "  'tipo_cultivo': 'CAÑA DE AZUCAR',\n",
       "  'tipo_desarrollo': 'CRECIMIENTO',\n",
       "  'tipo': 'PARTE',\n",
       "  'unidad_01': 50}]"
      ]
     },
     "execution_count": 6,
     "metadata": {},
     "output_type": "execute_result"
    }
   ],
   "source": [
    "parte_diario"
   ]
  },
  {
   "cell_type": "code",
   "execution_count": 7,
   "id": "5455dda3-f91f-42be-aa1e-ad13e5300b7c",
   "metadata": {},
   "outputs": [],
   "source": [
    "df_parte_diario = convertir_json_a_geodataframe(parte_diario, 'referencia')"
   ]
  },
  {
   "cell_type": "code",
   "execution_count": 8,
   "id": "8d46d44c-39bf-4c00-be0a-7dd7ad30ae09",
   "metadata": {},
   "outputs": [
    {
     "data": {
      "text/html": [
       "<div>\n",
       "<style scoped>\n",
       "    .dataframe tbody tr th:only-of-type {\n",
       "        vertical-align: middle;\n",
       "    }\n",
       "\n",
       "    .dataframe tbody tr th {\n",
       "        vertical-align: top;\n",
       "    }\n",
       "\n",
       "    .dataframe thead th {\n",
       "        text-align: right;\n",
       "    }\n",
       "</style>\n",
       "<table border=\"1\" class=\"dataframe\">\n",
       "  <thead>\n",
       "    <tr style=\"text-align: right;\">\n",
       "      <th></th>\n",
       "      <th>id</th>\n",
       "      <th>amigo_id</th>\n",
       "      <th>fecha_registro</th>\n",
       "      <th>referencia</th>\n",
       "      <th>temp_max</th>\n",
       "      <th>temp_min</th>\n",
       "      <th>viento</th>\n",
       "      <th>humedad</th>\n",
       "      <th>observaciones</th>\n",
       "      <th>tipo_cultivo</th>\n",
       "      <th>tipo_desarrollo</th>\n",
       "      <th>tipo</th>\n",
       "      <th>unidad_01</th>\n",
       "    </tr>\n",
       "  </thead>\n",
       "  <tbody>\n",
       "    <tr>\n",
       "      <th>0</th>\n",
       "      <td>68</td>\n",
       "      <td>5fb4dfe403d44c70a3f3214c320c29e6</td>\n",
       "      <td>2025-08-21 18:51:56+00:00</td>\n",
       "      <td>POINT (469627.748 8076313.480)</td>\n",
       "      <td>31.0</td>\n",
       "      <td>29.0</td>\n",
       "      <td>4.0</td>\n",
       "      <td>47.0</td>\n",
       "      <td>None</td>\n",
       "      <td>CAÑA DE AZUCAR</td>\n",
       "      <td>CRECIMIENTO</td>\n",
       "      <td>PARTE</td>\n",
       "      <td>50</td>\n",
       "    </tr>\n",
       "  </tbody>\n",
       "</table>\n",
       "</div>"
      ],
      "text/plain": [
       "   id                          amigo_id             fecha_registro  \\\n",
       "0  68  5fb4dfe403d44c70a3f3214c320c29e6  2025-08-21 18:51:56+00:00   \n",
       "\n",
       "                       referencia  temp_max  temp_min  viento  humedad  \\\n",
       "0  POINT (469627.748 8076313.480)      31.0      29.0     4.0     47.0   \n",
       "\n",
       "  observaciones    tipo_cultivo tipo_desarrollo   tipo  unidad_01  \n",
       "0          None  CAÑA DE AZUCAR     CRECIMIENTO  PARTE         50  "
      ]
     },
     "execution_count": 8,
     "metadata": {},
     "output_type": "execute_result"
    }
   ],
   "source": [
    "df_parte_diario"
   ]
  },
  {
   "cell_type": "code",
   "execution_count": 9,
   "id": "836e04a1-080f-4b6d-bd1f-e2c279c4004f",
   "metadata": {},
   "outputs": [
    {
     "name": "stdout",
     "output_type": "stream",
     "text": [
      "60\n",
      "✔️ Registros con unidad_01=50, unidad_03=5373, os=60 marcados como procesado.\n",
      "61\n",
      "✔️ Registros con unidad_01=50, unidad_03=5373, os=61 marcados como procesado.\n",
      "SE PROCESO PROPIEDAD: EL CIDRAL\n"
     ]
    }
   ],
   "source": [
    "for i, row in df_parte_diario.iterrows():\n",
    "    cod_prop = row.unidad_01\n",
    "    prop = obtener_propiedad_plan_amigocloud(cod_prop)\n",
    "    gdf_prop = convertir_json_a_geodataframe(prop, 'geometry')\n",
    "    # se queda con las combinacion unicas de unidad_01, unidad_03 y os\n",
    "    gdf_prop_unicas = gdf_prop.drop_duplicates(subset=[\"unidad_01\", \"unidad_03\", \"os\"])\n",
    "    for j, row2 in gdf_prop_unicas.iterrows():\n",
    "        print(row2.os)\n",
    "        actualizar_lotes_db(row2.unidad_01, row2.unidad_03, row2.os, row)\n",
    "        copiar_planificacion_a_clon_amigocloud(row2.unidad_01, row2.os)\n",
    "        eliminar_planificacion_amigocloud(row2.unidad_01, row2.os)\n",
    "    copiar_parte_diario_a_clon_amigocloud(row.id)\n",
    "    eliminar_parte_diario_amigocloud(row.id)\n",
    "    print(f'SE PROCESO PROPIEDAD: {row2.unidad_02}')"
   ]
  },
  {
   "cell_type": "code",
   "execution_count": null,
   "id": "6e56833d-b03e-44ff-9258-639acda8c0e3",
   "metadata": {},
   "outputs": [],
   "source": []
  },
  {
   "cell_type": "code",
   "execution_count": null,
   "id": "92861112-5fb9-48bd-ae5b-5c6eb0fb383a",
   "metadata": {},
   "outputs": [],
   "source": []
  },
  {
   "cell_type": "code",
   "execution_count": null,
   "id": "cb903320-3e27-4636-b8a1-104a7ae8681c",
   "metadata": {},
   "outputs": [],
   "source": []
  },
  {
   "cell_type": "code",
   "execution_count": null,
   "id": "8526b663-548d-4ae6-88af-abb25ff909c6",
   "metadata": {},
   "outputs": [],
   "source": []
  },
  {
   "cell_type": "code",
   "execution_count": null,
   "id": "379760b2-5e81-4191-839e-681379c31ce9",
   "metadata": {},
   "outputs": [],
   "source": []
  },
  {
   "cell_type": "code",
   "execution_count": null,
   "id": "e33c98c1-dfdb-4f64-a23f-40585c705ad7",
   "metadata": {},
   "outputs": [],
   "source": []
  },
  {
   "cell_type": "code",
   "execution_count": null,
   "id": "e599e659-fe56-44f6-aecf-0cca24984271",
   "metadata": {},
   "outputs": [],
   "source": []
  },
  {
   "cell_type": "code",
   "execution_count": null,
   "id": "fadb59d9-fab0-4ef9-a931-425e7d2e7ba0",
   "metadata": {},
   "outputs": [],
   "source": []
  },
  {
   "cell_type": "code",
   "execution_count": null,
   "id": "1894f038-94c6-4842-9742-09ed5536600c",
   "metadata": {},
   "outputs": [],
   "source": []
  },
  {
   "cell_type": "code",
   "execution_count": null,
   "id": "a45fdd96-45ff-4097-a93d-03e21f0c3c3c",
   "metadata": {},
   "outputs": [],
   "source": []
  },
  {
   "cell_type": "code",
   "execution_count": null,
   "id": "ef9a0ee1-4bec-4599-8e2d-faa44430d943",
   "metadata": {},
   "outputs": [],
   "source": []
  },
  {
   "cell_type": "code",
   "execution_count": null,
   "id": "f866a816-bc95-4db4-ae73-6540e77b57a5",
   "metadata": {},
   "outputs": [],
   "source": []
  }
 ],
 "metadata": {
  "kernelspec": {
   "display_name": "Python 3 (ipykernel)",
   "language": "python",
   "name": "python3"
  },
  "language_info": {
   "codemirror_mode": {
    "name": "ipython",
    "version": 3
   },
   "file_extension": ".py",
   "mimetype": "text/x-python",
   "name": "python",
   "nbconvert_exporter": "python",
   "pygments_lexer": "ipython3",
   "version": "3.10.13"
  }
 },
 "nbformat": 4,
 "nbformat_minor": 5
}
