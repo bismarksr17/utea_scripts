{
 "cells": [
  {
   "cell_type": "code",
   "execution_count": 1,
   "id": "76bdbda2-cb40-4967-a3c8-a57fe7fe2762",
   "metadata": {},
   "outputs": [],
   "source": [
    "import re\n",
    "from datetime import datetime"
   ]
  },
  {
   "cell_type": "code",
   "execution_count": 2,
   "id": "76931ea2-46e0-4c2b-9196-f371f34895ae",
   "metadata": {
    "tags": []
   },
   "outputs": [],
   "source": [
    "import os\n",
    "import geopandas as gpd\n",
    "import geemap\n",
    "import xml.etree.ElementTree as ET\n",
    "import pandas as pd\n",
    "from shapely.geometry import LineString\n",
    "\n",
    "# constante requerida\n",
    "namespace = {\"kml\": \"http://www.opengis.net/kml/2.2\"}"
   ]
  },
  {
   "cell_type": "code",
   "execution_count": 3,
   "id": "9c9e3ed3-6a3e-44cb-bc5c-9fb54af07709",
   "metadata": {},
   "outputs": [
    {
     "data": {
      "text/html": [
       "\n",
       "            <style>\n",
       "                .geemap-dark {\n",
       "                    --jp-widgets-color: white;\n",
       "                    --jp-widgets-label-color: white;\n",
       "                    --jp-ui-font-color1: white;\n",
       "                    --jp-layout-color2: #454545;\n",
       "                    background-color: #383838;\n",
       "                }\n",
       "                    \n",
       "                .geemap-dark .jupyter-button {\n",
       "                    --jp-layout-color3: #383838;\n",
       "                }\n",
       "                \n",
       "                .geemap-colab {\n",
       "                    background-color: var(--colab-primary-surface-color, white);\n",
       "                }\n",
       "                    \n",
       "                .geemap-colab .jupyter-button {\n",
       "                    --jp-layout-color3: var(--colab-primary-surface-color, white);\n",
       "                }\n",
       "            </style>\n",
       "            "
      ],
      "text/plain": [
       "<IPython.core.display.HTML object>"
      ]
     },
     "metadata": {},
     "output_type": "display_data"
    }
   ],
   "source": [
    "import geopandas as gpd\n",
    "from pyproj import CRS\n",
    "from pykml import parser\n",
    "from shapely.geometry import Point, LineString"
   ]
  },
  {
   "cell_type": "code",
   "execution_count": 4,
   "id": "ff3789cc-57a8-462b-aebf-310bd4358095",
   "metadata": {},
   "outputs": [
    {
     "data": {
      "text/html": [
       "\n",
       "            <style>\n",
       "                .geemap-dark {\n",
       "                    --jp-widgets-color: white;\n",
       "                    --jp-widgets-label-color: white;\n",
       "                    --jp-ui-font-color1: white;\n",
       "                    --jp-layout-color2: #454545;\n",
       "                    background-color: #383838;\n",
       "                }\n",
       "                    \n",
       "                .geemap-dark .jupyter-button {\n",
       "                    --jp-layout-color3: #383838;\n",
       "                }\n",
       "                \n",
       "                .geemap-colab {\n",
       "                    background-color: var(--colab-primary-surface-color, white);\n",
       "                }\n",
       "                    \n",
       "                .geemap-colab .jupyter-button {\n",
       "                    --jp-layout-color3: var(--colab-primary-surface-color, white);\n",
       "                }\n",
       "            </style>\n",
       "            "
      ],
      "text/plain": [
       "<IPython.core.display.HTML object>"
      ]
     },
     "metadata": {},
     "output_type": "display_data"
    },
    {
     "data": {
      "text/plain": [
       "19"
      ]
     },
     "execution_count": 4,
     "metadata": {},
     "output_type": "execute_result"
    }
   ],
   "source": [
    "# Directorio donde están los archivos KML\n",
    "path_kml = r'G:\\vuelos\\S07_NUEVA ESPERANZA DAVID SUAREZ'\n",
    "contenido = os.listdir(path_kml)\n",
    "len(contenido)"
   ]
  },
  {
   "cell_type": "code",
   "execution_count": 5,
   "id": "e8c0d910-f031-42a0-a55a-da30c9077a04",
   "metadata": {},
   "outputs": [
    {
     "data": {
      "text/html": [
       "\n",
       "            <style>\n",
       "                .geemap-dark {\n",
       "                    --jp-widgets-color: white;\n",
       "                    --jp-widgets-label-color: white;\n",
       "                    --jp-ui-font-color1: white;\n",
       "                    --jp-layout-color2: #454545;\n",
       "                    background-color: #383838;\n",
       "                }\n",
       "                    \n",
       "                .geemap-dark .jupyter-button {\n",
       "                    --jp-layout-color3: #383838;\n",
       "                }\n",
       "                \n",
       "                .geemap-colab {\n",
       "                    background-color: var(--colab-primary-surface-color, white);\n",
       "                }\n",
       "                    \n",
       "                .geemap-colab .jupyter-button {\n",
       "                    --jp-layout-color3: var(--colab-primary-surface-color, white);\n",
       "                }\n",
       "            </style>\n",
       "            "
      ],
      "text/plain": [
       "<IPython.core.display.HTML object>"
      ]
     },
     "metadata": {},
     "output_type": "display_data"
    },
    {
     "data": {
      "text/plain": [
       "'G:\\\\vuelos\\\\S07_NUEVA ESPERANZA DAVID SUAREZ'"
      ]
     },
     "execution_count": 5,
     "metadata": {},
     "output_type": "execute_result"
    }
   ],
   "source": [
    "path_kml"
   ]
  },
  {
   "cell_type": "code",
   "execution_count": 6,
   "id": "7cbe0a96-30d2-4808-820b-e8e666de4acd",
   "metadata": {},
   "outputs": [
    {
     "data": {
      "text/html": [
       "\n",
       "            <style>\n",
       "                .geemap-dark {\n",
       "                    --jp-widgets-color: white;\n",
       "                    --jp-widgets-label-color: white;\n",
       "                    --jp-ui-font-color1: white;\n",
       "                    --jp-layout-color2: #454545;\n",
       "                    background-color: #383838;\n",
       "                }\n",
       "                    \n",
       "                .geemap-dark .jupyter-button {\n",
       "                    --jp-layout-color3: #383838;\n",
       "                }\n",
       "                \n",
       "                .geemap-colab {\n",
       "                    background-color: var(--colab-primary-surface-color, white);\n",
       "                }\n",
       "                    \n",
       "                .geemap-colab .jupyter-button {\n",
       "                    --jp-layout-color3: var(--colab-primary-surface-color, white);\n",
       "                }\n",
       "            </style>\n",
       "            "
      ],
      "text/plain": [
       "<IPython.core.display.HTML object>"
      ]
     },
     "metadata": {},
     "output_type": "display_data"
    }
   ],
   "source": [
    "import geopandas as gpd\n",
    "from pyproj import CRS\n",
    "from pykml import parser\n",
    "from shapely.geometry import LineString\n",
    "import os"
   ]
  },
  {
   "cell_type": "code",
   "execution_count": 7,
   "id": "90fa492c-eeec-4419-9413-553a74d581eb",
   "metadata": {},
   "outputs": [
    {
     "data": {
      "text/html": [
       "\n",
       "            <style>\n",
       "                .geemap-dark {\n",
       "                    --jp-widgets-color: white;\n",
       "                    --jp-widgets-label-color: white;\n",
       "                    --jp-ui-font-color1: white;\n",
       "                    --jp-layout-color2: #454545;\n",
       "                    background-color: #383838;\n",
       "                }\n",
       "                    \n",
       "                .geemap-dark .jupyter-button {\n",
       "                    --jp-layout-color3: #383838;\n",
       "                }\n",
       "                \n",
       "                .geemap-colab {\n",
       "                    background-color: var(--colab-primary-surface-color, white);\n",
       "                }\n",
       "                    \n",
       "                .geemap-colab .jupyter-button {\n",
       "                    --jp-layout-color3: var(--colab-primary-surface-color, white);\n",
       "                }\n",
       "            </style>\n",
       "            "
      ],
      "text/plain": [
       "<IPython.core.display.HTML object>"
      ]
     },
     "metadata": {},
     "output_type": "display_data"
    }
   ],
   "source": [
    "def convertir_kmls_a_shapefile(kml_folder, shapefile_path):\n",
    "    \"\"\"\n",
    "    Convierte varios archivos KML en una carpeta a un solo shapefile con la proyección UTM zona 20S.\n",
    "\n",
    "    Parámetros:\n",
    "    kml_folder (str): Carpeta que contiene los archivos KML.\n",
    "    shapefile_path (str): Ruta donde se guardará el archivo shapefile combinado.\n",
    "    \"\"\"\n",
    "    line_geometries = []\n",
    "    fechas = []\n",
    "    horas = []\n",
    "    ids = []\n",
    "\n",
    "    # Procesar cada archivo KML en la carpeta\n",
    "    for filename in os.listdir(kml_folder):\n",
    "        if filename.endswith('.kml'):\n",
    "            kml_path = os.path.join(kml_folder, filename)\n",
    "            \n",
    "            # Leer el archivo KML\n",
    "            with open(kml_path, 'r') as file:\n",
    "                root = parser.parse(file).getroot()\n",
    "            \n",
    "            # Expresión regular para extraer la fecha, hora e ID\n",
    "            match = re.search(r'T\\d+_(\\d{4})(\\d{2})(\\d{2})(\\d{2})(\\d{2})(\\d{2})_(R\\d+)\\.kml', filename)\n",
    "            if match:\n",
    "                # Extraer los valores y formatearlos\n",
    "                date = f\"{match.group(1)}-{match.group(2)}-{match.group(3)}\"\n",
    "                time = f\"{match.group(4)}:{match.group(5)}:{match.group(6)}\"\n",
    "                record_id = match.group(7)\n",
    "            \n",
    "            # Extraer coordenadas de Placemark y crear geometría LineString\n",
    "            for placemark in root.Document.Placemark:\n",
    "                coordinates = placemark.LineString.coordinates.text.strip().split()\n",
    "                points = [tuple(map(float, coord.split(','))) for coord in coordinates]\n",
    "                line_geometries.append(LineString(points))\n",
    "                fechas.append(date)\n",
    "                horas.append(time)\n",
    "                ids.append(record_id)\n",
    "\n",
    "    # Crear un GeoDataFrame\n",
    "    gdf = gpd.GeoDataFrame({'fecha': fechas, 'hora': horas, 'id': ids, 'geometry': line_geometries}, crs='EPSG:4326')\n",
    "    \n",
    "    # Definir el sistema de referencia de coordenadas de destino (UTM zona 20S)\n",
    "    crs_utm_20s = CRS(\"EPSG:32720\")\n",
    "\n",
    "    # Transformar las coordenadas al sistema UTM zona 20S\n",
    "    gdf_utm = gdf.to_crs(crs_utm_20s)\n",
    "\n",
    "    # Guardar el GeoDataFrame como un shapefile\n",
    "    gdf_utm.to_file(shapefile_path, driver='ESRI Shapefile')\n",
    "\n",
    "    print(f\"Archivo shapefile combinado guardado en: {shapefile_path}\")"
   ]
  },
  {
   "cell_type": "code",
   "execution_count": null,
   "id": "b1f912af-2d57-4233-93db-a7010faf5aa3",
   "metadata": {},
   "outputs": [],
   "source": []
  },
  {
   "cell_type": "code",
   "execution_count": 8,
   "id": "6d5c11b5-abd6-4489-af5f-1ae70c0cd59d",
   "metadata": {},
   "outputs": [
    {
     "data": {
      "text/html": [
       "\n",
       "            <style>\n",
       "                .geemap-dark {\n",
       "                    --jp-widgets-color: white;\n",
       "                    --jp-widgets-label-color: white;\n",
       "                    --jp-ui-font-color1: white;\n",
       "                    --jp-layout-color2: #454545;\n",
       "                    background-color: #383838;\n",
       "                }\n",
       "                    \n",
       "                .geemap-dark .jupyter-button {\n",
       "                    --jp-layout-color3: #383838;\n",
       "                }\n",
       "                \n",
       "                .geemap-colab {\n",
       "                    background-color: var(--colab-primary-surface-color, white);\n",
       "                }\n",
       "                    \n",
       "                .geemap-colab .jupyter-button {\n",
       "                    --jp-layout-color3: var(--colab-primary-surface-color, white);\n",
       "                }\n",
       "            </style>\n",
       "            "
      ],
      "text/plain": [
       "<IPython.core.display.HTML object>"
      ]
     },
     "metadata": {},
     "output_type": "display_data"
    },
    {
     "name": "stdout",
     "output_type": "stream",
     "text": [
      "Archivo shapefile combinado guardado en: G:\\vuelos\\S07_NUEVA ESPERANZA DAVID SUAREZ\\res.shp\n"
     ]
    }
   ],
   "source": [
    "# Ejemplo de uso\n",
    "kml_folder = r'G:\\vuelos\\S07_NUEVA ESPERANZA DAVID SUAREZ'\n",
    "shapefile_path = r'G:\\vuelos\\S07_NUEVA ESPERANZA DAVID SUAREZ\\res.shp'\n",
    "convertir_kmls_a_shapefile(kml_folder, shapefile_path)"
   ]
  },
  {
   "cell_type": "code",
   "execution_count": null,
   "id": "adba5c6c-1a46-4059-9f75-4fc741e1973f",
   "metadata": {},
   "outputs": [],
   "source": []
  },
  {
   "cell_type": "code",
   "execution_count": null,
   "id": "65d9a817-7b26-4f30-a668-19c81c7cfb3a",
   "metadata": {},
   "outputs": [],
   "source": []
  },
  {
   "cell_type": "code",
   "execution_count": null,
   "id": "c65aa388-0682-4c1a-a394-674d6693fe97",
   "metadata": {},
   "outputs": [],
   "source": []
  },
  {
   "cell_type": "code",
   "execution_count": null,
   "id": "e23fde77-4fd9-4b96-a9ea-1959c7c80353",
   "metadata": {},
   "outputs": [],
   "source": []
  },
  {
   "cell_type": "code",
   "execution_count": null,
   "id": "77fd3824-8bf7-4612-93ed-5ccdd6114571",
   "metadata": {},
   "outputs": [],
   "source": []
  },
  {
   "cell_type": "code",
   "execution_count": null,
   "id": "8ee2aadd-efa7-4aea-9813-90abc7f41337",
   "metadata": {},
   "outputs": [],
   "source": []
  }
 ],
 "metadata": {
  "kernelspec": {
   "display_name": "Python 3 (ipykernel)",
   "language": "python",
   "name": "python3"
  },
  "language_info": {
   "codemirror_mode": {
    "name": "ipython",
    "version": 3
   },
   "file_extension": ".py",
   "mimetype": "text/x-python",
   "name": "python",
   "nbconvert_exporter": "python",
   "pygments_lexer": "ipython3",
   "version": "3.10.13"
  }
 },
 "nbformat": 4,
 "nbformat_minor": 5
}
