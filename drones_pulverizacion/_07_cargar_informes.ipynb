{
 "cells": [
  {
   "cell_type": "code",
   "execution_count": 1,
   "id": "59784d4b-5c15-4771-b0c1-b2449eadc61b",
   "metadata": {},
   "outputs": [
    {
     "name": "stdout",
     "output_type": "stream",
     "text": [
      "Error de autenticación. Eliminá 'mycreds.txt' y volvé a intentarlo.\n"
     ]
    },
    {
     "ename": "InvalidCredentialsError",
     "evalue": "No credentials to save",
     "output_type": "error",
     "traceback": [
      "\u001b[1;31m---------------------------------------------------------------------------\u001b[0m",
      "\u001b[1;31mInvalidCredentialsError\u001b[0m                   Traceback (most recent call last)",
      "Cell \u001b[1;32mIn[1], line 30\u001b[0m\n\u001b[0;32m     27\u001b[0m \u001b[38;5;28;01melse\u001b[39;00m:\n\u001b[0;32m     28\u001b[0m     gauth\u001b[38;5;241m.\u001b[39mAuthorize()\n\u001b[1;32m---> 30\u001b[0m \u001b[43mgauth\u001b[49m\u001b[38;5;241;43m.\u001b[39;49m\u001b[43mSaveCredentialsFile\u001b[49m\u001b[43m(\u001b[49m\u001b[38;5;124;43m\"\u001b[39;49m\u001b[38;5;124;43mmycreds.txt\u001b[39;49m\u001b[38;5;124;43m\"\u001b[39;49m\u001b[43m)\u001b[49m\n\u001b[0;32m     31\u001b[0m drive \u001b[38;5;241m=\u001b[39m GoogleDrive(gauth)\n",
      "File \u001b[1;32m~\\anaconda3\\envs\\utea\\lib\\site-packages\\pydrive\\auth.py:339\u001b[0m, in \u001b[0;36mGoogleAuth.SaveCredentialsFile\u001b[1;34m(self, credentials_file)\u001b[0m\n\u001b[0;32m    332\u001b[0m \u001b[38;5;250m\u001b[39m\u001b[38;5;124;03m\"\"\"Saves credentials to the file in JSON format.\u001b[39;00m\n\u001b[0;32m    333\u001b[0m \n\u001b[0;32m    334\u001b[0m \u001b[38;5;124;03m:param credentials_file: destination to save file to.\u001b[39;00m\n\u001b[0;32m    335\u001b[0m \u001b[38;5;124;03m:type credentials_file: str.\u001b[39;00m\n\u001b[0;32m    336\u001b[0m \u001b[38;5;124;03m:raises: InvalidConfigError, InvalidCredentialsError\u001b[39;00m\n\u001b[0;32m    337\u001b[0m \u001b[38;5;124;03m\"\"\"\u001b[39;00m\n\u001b[0;32m    338\u001b[0m \u001b[38;5;28;01mif\u001b[39;00m \u001b[38;5;28mself\u001b[39m\u001b[38;5;241m.\u001b[39mcredentials \u001b[38;5;129;01mis\u001b[39;00m \u001b[38;5;28;01mNone\u001b[39;00m:\n\u001b[1;32m--> 339\u001b[0m   \u001b[38;5;28;01mraise\u001b[39;00m InvalidCredentialsError(\u001b[38;5;124m'\u001b[39m\u001b[38;5;124mNo credentials to save\u001b[39m\u001b[38;5;124m'\u001b[39m)\n\u001b[0;32m    340\u001b[0m \u001b[38;5;28;01mif\u001b[39;00m credentials_file \u001b[38;5;129;01mis\u001b[39;00m \u001b[38;5;28;01mNone\u001b[39;00m:\n\u001b[0;32m    341\u001b[0m   credentials_file \u001b[38;5;241m=\u001b[39m \u001b[38;5;28mself\u001b[39m\u001b[38;5;241m.\u001b[39msettings\u001b[38;5;241m.\u001b[39mget(\u001b[38;5;124m'\u001b[39m\u001b[38;5;124msave_credentials_file\u001b[39m\u001b[38;5;124m'\u001b[39m)\n",
      "\u001b[1;31mInvalidCredentialsError\u001b[0m: No credentials to save"
     ]
    }
   ],
   "source": [
    "import sys\n",
    "sys.path.append('../_amigocloud')\n",
    "\n",
    "from amigocloud import AmigoCloud\n",
    "from docx import Document\n",
    "from docx2pdf import convert\n",
    "import os\n",
    "import json\n",
    "\n",
    "# CONEXIÓN A GOOGLE DRIVE\n",
    "from pydrive.auth import GoogleAuth\n",
    "from pydrive.drive import GoogleDrive\n",
    "import os\n",
    "\n",
    "gauth = GoogleAuth()\n",
    "\n",
    "# Si existe el archivo, intenta cargarlo\n",
    "if os.path.exists(\"mycreds.txt\"):\n",
    "    gauth.LoadCredentialsFile(\"mycreds.txt\")\n",
    "\n",
    "# Si no hay credenciales o son inválidas, forzar nueva autenticación\n",
    "if gauth.credentials is None or gauth.access_token_expired:\n",
    "    try:\n",
    "        gauth.LocalWebserverAuth()\n",
    "    except:\n",
    "        print(\"Error de autenticación. Eliminá 'mycreds.txt' y volvé a intentarlo.\")\n",
    "else:\n",
    "    gauth.Authorize()\n",
    "\n",
    "gauth.SaveCredentialsFile(\"mycreds.txt\")\n",
    "drive = GoogleDrive(gauth)"
   ]
  },
  {
   "cell_type": "code",
   "execution_count": null,
   "id": "349df7b8-e6c5-416b-b7f8-ec7b13083367",
   "metadata": {},
   "outputs": [],
   "source": []
  },
  {
   "cell_type": "code",
   "execution_count": null,
   "id": "dc6f65c9-1c18-48a0-a6bb-552db9d0749b",
   "metadata": {},
   "outputs": [],
   "source": []
  },
  {
   "cell_type": "code",
   "execution_count": null,
   "id": "f43a3598-3567-4035-9f58-5b6c68475b25",
   "metadata": {},
   "outputs": [],
   "source": []
  },
  {
   "cell_type": "code",
   "execution_count": null,
   "id": "8f4d50ed-747c-4cfd-a97a-5168620ebe0d",
   "metadata": {},
   "outputs": [],
   "source": []
  },
  {
   "cell_type": "code",
   "execution_count": null,
   "id": "821e776d-8966-4987-915f-bd05f0b1e8ff",
   "metadata": {},
   "outputs": [],
   "source": []
  },
  {
   "cell_type": "code",
   "execution_count": null,
   "id": "9a2bea8c-df80-45ec-b2dc-8be4b8138232",
   "metadata": {},
   "outputs": [],
   "source": []
  },
  {
   "cell_type": "code",
   "execution_count": null,
   "id": "1c96b586-bd73-4f84-9ad9-1a334a066eaa",
   "metadata": {},
   "outputs": [],
   "source": []
  },
  {
   "cell_type": "code",
   "execution_count": null,
   "id": "a5290ebc-f342-47b6-aff3-89563d1c4e99",
   "metadata": {},
   "outputs": [],
   "source": []
  }
 ],
 "metadata": {
  "kernelspec": {
   "display_name": "Python 3 (ipykernel)",
   "language": "python",
   "name": "python3"
  },
  "language_info": {
   "codemirror_mode": {
    "name": "ipython",
    "version": 3
   },
   "file_extension": ".py",
   "mimetype": "text/x-python",
   "name": "python",
   "nbconvert_exporter": "python",
   "pygments_lexer": "ipython3",
   "version": "3.10.13"
  }
 },
 "nbformat": 4,
 "nbformat_minor": 5
}
