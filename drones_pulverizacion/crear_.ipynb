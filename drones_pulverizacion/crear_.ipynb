{
 "cells": [
  {
   "cell_type": "code",
   "execution_count": 10,
   "id": "920fd943-a411-4748-bec9-2df843a9a66d",
   "metadata": {},
   "outputs": [],
   "source": [
    "import os\n",
    "import re\n",
    "import geopandas as gpd\n",
    "from lxml import etree as ET\n",
    "from shapely.geometry import LineString"
   ]
  },
  {
   "cell_type": "code",
   "execution_count": 11,
   "id": "c691d48c-28d4-4c03-b2e6-54dccfaf4a84",
   "metadata": {},
   "outputs": [],
   "source": [
    "# Convertir 'Flight Time' de milisegundos a minutos y segundos (MM:SS)\n",
    "def convertir_tiempo(ms):\n",
    "    try:\n",
    "        ms = int(ms.strip())  # Convertir a entero y eliminar espacios extra\n",
    "        segundos = ms // 1000  # Convertir milisegundos a segundos\n",
    "        minutos = segundos // 60\n",
    "        segundos = segundos % 60\n",
    "        return f\"{minutos}:{segundos:02d}\"  # Formato MM:SS (ej. 9:35)\n",
    "    except (ValueError, AttributeError):\n",
    "        return None  # Si hay error, devolver None"
   ]
  },
  {
   "cell_type": "code",
   "execution_count": 12,
   "id": "fd12f718-eadd-4705-8d96-f82a7bc943c0",
   "metadata": {},
   "outputs": [],
   "source": [
    "def convertir_kmls_a_shapefile(kml_folder, shapefile_path):\n",
    "    \"\"\"\n",
    "    Convierte varios archivos KML en un solo shapefile con proyección UTM zona 20S.\n",
    "    Extrae valores de ExtendedData y los agrega como columnas.\n",
    "\n",
    "    Parámetros:\n",
    "    kml_folder (str): Carpeta que contiene los archivos KML.\n",
    "    shapefile_path (str): Ruta donde se guardará el archivo shapefile combinado.\n",
    "    \"\"\"\n",
    "    # Definir namespace de KML\n",
    "    NAMESPACE = {\"kml\": \"http://www.opengis.net/kml/2.2\"}\n",
    "\n",
    "    # Listas para almacenar los datos\n",
    "    line_geometries = []\n",
    "    fechas = []\n",
    "    horas = []\n",
    "    ids = []\n",
    "    \n",
    "    aircraft_names = []\n",
    "    flight_controller_ids = []\n",
    "    pilot_names = []\n",
    "    flight_times = []\n",
    "    mode_selections = []\n",
    "    heights = []\n",
    "    route_spacings = []\n",
    "    task_flight_speeds = []\n",
    "    task_areas = []\n",
    "    spray_amounts = []\n",
    "\n",
    "    if not os.path.isdir(kml_folder):\n",
    "        print(f\"❌ Error: La carpeta {kml_folder} no existe.\")\n",
    "        return\n",
    "\n",
    "    for filename in os.listdir(kml_folder):\n",
    "        if filename.endswith('.kml'):\n",
    "            kml_path = os.path.join(kml_folder, filename)\n",
    "\n",
    "            try:\n",
    "                with open(kml_path, 'r', encoding='utf-8') as file:\n",
    "                    tree = ET.parse(file)\n",
    "                    root = tree.getroot()\n",
    "            except Exception as e:\n",
    "                print(f\"❌ Error al leer {filename}: {e}\")\n",
    "                continue\n",
    "            \n",
    "            # Extraer fecha, hora e ID del nombre del archivo\n",
    "            match = re.search(r'T\\d+_(\\d{4})(\\d{2})(\\d{2})(\\d{2})(\\d{2})(\\d{2})_(R\\d+)\\.kml', filename)\n",
    "            if not match:\n",
    "                print(f\"⚠ Advertencia: Nombre de archivo {filename} no coincide con el patrón esperado.\")\n",
    "                continue\n",
    "            \n",
    "            date = f\"{match.group(1)}-{match.group(2)}-{match.group(3)}\"\n",
    "            time = f\"{match.group(4)}:{match.group(5)}:{match.group(6)}\"\n",
    "            record_id = match.group(7)\n",
    "\n",
    "            # Buscar Placemark en XML\n",
    "            placemarks = root.findall('.//Placemark')\n",
    "            if not placemarks:\n",
    "                placemarks = root.findall('.//kml:Placemark', NAMESPACE)\n",
    "\n",
    "            if not placemarks:\n",
    "                print(f\"⚠ Advertencia: No se encontraron <Placemark> en {filename}.\")\n",
    "                continue\n",
    "\n",
    "            for placemark in placemarks:\n",
    "                # Buscar LineString correctamente\n",
    "                line_string = placemark.find('.//LineString')\n",
    "                if line_string is None:\n",
    "                    line_string = placemark.find('.//kml:LineString', NAMESPACE)\n",
    "                \n",
    "                if line_string is not None:\n",
    "                    # Buscar Coordinates correctamente\n",
    "                    coordinates = line_string.find('.//coordinates')\n",
    "                    if coordinates is None:\n",
    "                        coordinates = line_string.find('.//kml:coordinates', NAMESPACE)\n",
    "\n",
    "                    if coordinates is not None and coordinates.text.strip():\n",
    "                        coords = coordinates.text.strip().split()\n",
    "                        points = [tuple(map(float, coord.split(',')[:2])) for coord in coords]  # Solo lat, lon\n",
    "                        line_geometries.append(LineString(points))\n",
    "                        fechas.append(date)\n",
    "                        horas.append(time)\n",
    "                        ids.append(record_id)\n",
    "\n",
    "                        # Extraer datos de ExtendedData correctamente\n",
    "                        extended_data = placemark.find('.//ExtendedData')\n",
    "                        if extended_data is None:\n",
    "                            extended_data = placemark.find('.//kml:ExtendedData', NAMESPACE)\n",
    "                        \n",
    "                        data_dict = {}\n",
    "                        if extended_data is not None:\n",
    "                            for data in extended_data.findall('.//Data') or extended_data.findall('.//kml:Data', NAMESPACE):\n",
    "                                if data is None:\n",
    "                                    continue  # Skip if there's no Data element\n",
    "\n",
    "                                name = data.get('name')\n",
    "                                value_element = data.find('.//value') or data.find('.//kml:value', NAMESPACE)\n",
    "\n",
    "                                value = value_element.text.strip() if value_element is not None and value_element.text else None\n",
    "                                if name:\n",
    "                                    data_dict[name] = value  # Store only if the name exists\n",
    "                    \n",
    "                        # Agregar valores de ExtendedData a las listas\n",
    "                        aircraft_names.append(data_dict.get(\"Aircraft Name\", None))\n",
    "                        flight_controller_ids.append(data_dict.get(\"Flight Controller ID\", None))\n",
    "                        pilot_names.append(data_dict.get(\"Pilot Name\", None))\n",
    "                        flight_times.append(convertir_tiempo(data_dict.get(\"Flight Time\", \"0\")))\n",
    "                        mode_selections.append(data_dict.get(\"Mode Selection\", None))\n",
    "                        heights.append(data_dict.get(\"Height\", None))\n",
    "                        route_spacings.append(data_dict.get(\"Route Spacing\", None))\n",
    "                        task_flight_speeds.append(data_dict.get(\"Task Flight Speed\", None))\n",
    "                        task_areas.append(data_dict.get(\"Task Area\", None))\n",
    "                        spray_amounts.append(data_dict.get(\"Spray amount\", None))\n",
    "\n",
    "    if not line_geometries:\n",
    "        print(\"❌ No se encontraron geometrías válidas en los archivos KML.\")\n",
    "        return\n",
    "\n",
    "    # Crear un GeoDataFrame con todas las columnas\n",
    "    gdf = gpd.GeoDataFrame({\n",
    "        'fecha': fechas,\n",
    "        'hora': horas,\n",
    "        'id': ids,\n",
    "        'aircraft_name': aircraft_names,\n",
    "        'flight_controller_id': flight_controller_ids,\n",
    "        'pilot_name': pilot_names,\n",
    "        'flight_time': flight_times,\n",
    "        'mode_selection': mode_selections,\n",
    "        'height': heights,\n",
    "        'route_spacing': route_spacings,\n",
    "        'task_flight_speed': task_flight_speeds,\n",
    "        'task_area': task_areas,\n",
    "        'spray_amount': spray_amounts,\n",
    "        'geometry': line_geometries\n",
    "    }, crs='EPSG:4326')\n",
    "\n",
    "    # Transformar a UTM zona 20S (EPSG:32720)\n",
    "    gdf_utm = gdf.to_crs(epsg=32720)\n",
    "\n",
    "    # Guardar como shapefile\n",
    "    gdf_utm.to_file(shapefile_path, driver='ESRI Shapefile')\n",
    "\n",
    "    print(f\"✅ Archivo shapefile guardado en: {shapefile_path}\")\n"
   ]
  },
  {
   "cell_type": "code",
   "execution_count": 13,
   "id": "05be1d5a-dc33-49fe-8a87-dfde7ce1da87",
   "metadata": {},
   "outputs": [],
   "source": [
    "ruta = 'S10_CAMPODULCE'"
   ]
  },
  {
   "cell_type": "code",
   "execution_count": 14,
   "id": "13f2e581-cea5-4aff-8545-ba024b200db3",
   "metadata": {},
   "outputs": [
    {
     "name": "stderr",
     "output_type": "stream",
     "text": [
      "C:\\Users\\bismarksr\\AppData\\Local\\Temp\\ipykernel_16176\\3559005420.py:97: FutureWarning: The behavior of this method will change in future versions. Use specific 'len(elem)' or 'elem is not None' test instead.\n",
      "  value_element = data.find('.//value') or data.find('.//kml:value', NAMESPACE)\n"
     ]
    },
    {
     "name": "stdout",
     "output_type": "stream",
     "text": [
      "✅ Archivo shapefile guardado en: C:/vuelos/S10_CAMPODULCE/res.shp\n"
     ]
    },
    {
     "name": "stderr",
     "output_type": "stream",
     "text": [
      "C:\\Users\\bismarksr\\AppData\\Local\\Temp\\ipykernel_16176\\3559005420.py:141: UserWarning: Column names longer than 10 characters will be truncated when saved to ESRI Shapefile.\n",
      "  gdf_utm.to_file(shapefile_path, driver='ESRI Shapefile')\n"
     ]
    }
   ],
   "source": [
    "# Directorio donde están los archivos KML\n",
    "path_kml = r'C:\\vuelos\\\\' + ruta\n",
    "contenido = os.listdir(path_kml)\n",
    "len(contenido)\n",
    "\n",
    "# Ejemplo de uso\n",
    "kml_folder = f'C:/vuelos/{ruta}'\n",
    "shapefile_path = f'C:/vuelos/{ruta}/res.shp'\n",
    "convertir_kmls_a_shapefile(kml_folder, shapefile_path)"
   ]
  },
  {
   "cell_type": "code",
   "execution_count": 6,
   "id": "1586a239-c482-4e15-ab5e-0bb56d08f9c1",
   "metadata": {},
   "outputs": [
    {
     "data": {
      "text/plain": [
       "'C:/vuelos/S10_CAMPODULCE'"
      ]
     },
     "execution_count": 6,
     "metadata": {},
     "output_type": "execute_result"
    }
   ],
   "source": [
    "kml_folder"
   ]
  },
  {
   "cell_type": "code",
   "execution_count": null,
   "id": "b596ecd8-69a5-45c7-b85c-fcc9eabc5066",
   "metadata": {},
   "outputs": [],
   "source": []
  },
  {
   "cell_type": "code",
   "execution_count": null,
   "id": "e38e0ea1-c8ab-490f-8a7f-dd0175090aa1",
   "metadata": {},
   "outputs": [],
   "source": []
  }
 ],
 "metadata": {
  "kernelspec": {
   "display_name": "Python 3 (ipykernel)",
   "language": "python",
   "name": "python3"
  },
  "language_info": {
   "codemirror_mode": {
    "name": "ipython",
    "version": 3
   },
   "file_extension": ".py",
   "mimetype": "text/x-python",
   "name": "python",
   "nbconvert_exporter": "python",
   "pygments_lexer": "ipython3",
   "version": "3.10.13"
  }
 },
 "nbformat": 4,
 "nbformat_minor": 5
}
