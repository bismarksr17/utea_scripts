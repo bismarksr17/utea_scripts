{
 "cells": [
  {
   "cell_type": "code",
   "execution_count": 1,
   "id": "16edd055-3434-40bb-846f-f4eb6a4763fa",
   "metadata": {
    "tags": []
   },
   "outputs": [],
   "source": [
    "from werkzeug.wrappers import Request, Response\n",
    "#from flask import Flask, render_template\n",
    "from jinja2 import Template\n",
    "\n",
    "#from datetime import date\n",
    "from datetime import datetime, timedelta\n",
    "\n",
    "import collections\n",
    "from amigocloud import AmigoCloud\n",
    "\n",
    "from datetime import datetime\n",
    "\n",
    "from docxtpl import DocxTemplate\n",
    "import docxtpl\n",
    "from docx.shared import Mm\n",
    "import requests\n",
    "\n",
    "from docx2pdf import convert\n",
    "import os\n",
    "\n",
    "import time"
   ]
  },
  {
   "cell_type": "code",
   "execution_count": 2,
   "id": "8454e3f8-e1f3-457a-a06e-25bc4598c84f",
   "metadata": {},
   "outputs": [],
   "source": [
    "def get_log_time():\n",
    "    return datetime.now().strftime('%H:%M:%S %d/%m/%Y')"
   ]
  },
  {
   "cell_type": "code",
   "execution_count": 3,
   "id": "7ef1ba39-1f94-4427-a8da-3ac6e5c6fe10",
   "metadata": {
    "tags": []
   },
   "outputs": [
    {
     "name": "stdout",
     "output_type": "stream",
     "text": [
      "09:22:20 30/05/2023 > Estableciento conexion a base de datos...\n"
     ]
    },
    {
     "name": "stderr",
     "output_type": "stream",
     "text": [
      "WARNING:socketIO-client:app.amigocloud.com:443/v2_socket.io/socket.io [connection error] recv disconnected by SSL ([SSL: SSLV3_ALERT_BAD_RECORD_MAC] sslv3 alert bad record mac (_ssl.c:2570))\n",
      "WARNING:socketIO-client:app.amigocloud.com:443/v2_socket.io/socket.io [connection error] recv disconnected ([WinError 10035] A non-blocking socket operation could not be completed immediately)\n"
     ]
    },
    {
     "name": "stdout",
     "output_type": "stream",
     "text": [
      "09:22:27 30/05/2023 > Base de datos conectado...!!!\n"
     ]
    }
   ],
   "source": [
    "# ruta de carpera donde estan las llaves\n",
    "print(get_log_time(), '> Estableciento conexion a base de datos...')\n",
    "ruta = open('../ruta.txt')\n",
    "ruta = ruta.readlines()[0]\n",
    "# leer token\n",
    "acceso = open(ruta + '/_keys/api_amigocloud.key','r')\n",
    "api_token = acceso.readlines()[0]\n",
    "acceso.close()\n",
    "amigocloud = AmigoCloud(token=api_token)\n",
    "amigocloud\n",
    "print(get_log_time(), '> Base de datos conectado...!!!')"
   ]
  },
  {
   "cell_type": "markdown",
   "id": "5d1bc773-bd0b-4cf1-88b4-c7b18fe0b053",
   "metadata": {},
   "source": [
    "## Convertir a PDF"
   ]
  },
  {
   "cell_type": "code",
   "execution_count": 31,
   "id": "3a194c6d-294f-4812-b069-9825caa5feaf",
   "metadata": {
    "tags": []
   },
   "outputs": [
    {
     "name": "stdout",
     "output_type": "stream",
     "text": [
      "SE ENCONTRARON 1 INFORMES\n",
      "1 INFORMES\n"
     ]
    },
    {
     "data": {
      "text/plain": [
       "['D:\\\\OneDrive - Ingenio Azucarero Guabira S.A\\\\_DATOS_PYTHON/informes/_3421_ECP_25-05-2023_ESPINOZA HURTADO ARMANDO_109.docx']"
      ]
     },
     "execution_count": 31,
     "metadata": {},
     "output_type": "execute_result"
    }
   ],
   "source": [
    "path = r'' + ruta + '/informes'\n",
    "contenido = os.listdir(path)\n",
    "rutas =[]\n",
    "i = 0\n",
    "for name in contenido:\n",
    "    rutas.append(path + '/' + name)\n",
    "    i+=1\n",
    "\n",
    "print('SE ENCONTRARON ' + str(i) + ' INFORMES')\n",
    "print(len(rutas), 'INFORMES')\n",
    "rutas"
   ]
  },
  {
   "cell_type": "code",
   "execution_count": 26,
   "id": "d2183ffa-4f32-4d4d-b7a1-315f1c32db9c",
   "metadata": {
    "tags": []
   },
   "outputs": [
    {
     "name": "stdout",
     "output_type": "stream",
     "text": [
      "CONVIRTIENDO... INFORME 1 D:\\OneDrive - Ingenio Azucarero Guabira S.A\\_DATOS_PYTHON/informes/3400_ECP_24-05-2023_ESPINOZA AGUILAR JAIME OMAR _108.docx\n",
      "D:\\OneDrive - Ingenio Azucarero Guabira S.A\\_DATOS_PYTHON/informes/3400_ECP_24-05-2023_ESPINOZA AGUILAR JAIME OMAR _108.docx\n",
      "D:\\OneDrive - Ingenio Azucarero Guabira S.A\\_DATOS_PYTHON/pdfs/3400_ECP_24-05-2023_ESPINOZA AGUILAR JAIME OMAR _108.pdf\n"
     ]
    },
    {
     "data": {
      "application/vnd.jupyter.widget-view+json": {
       "model_id": "fc4a52fdc7024c52bdd3c6eb9d9dae32",
       "version_major": 2,
       "version_minor": 0
      },
      "text/plain": [
       "  0%|          | 0/1 [00:00<?, ?it/s]"
      ]
     },
     "metadata": {},
     "output_type": "display_data"
    },
    {
     "name": "stdout",
     "output_type": "stream",
     "text": [
      "CONVIRTIENDO... INFORME 2 D:\\OneDrive - Ingenio Azucarero Guabira S.A\\_DATOS_PYTHON/informes/3421_ECP_25-05-2023_ESPINOZA HURTADO ARMANDO_109.docx\n",
      "D:\\OneDrive - Ingenio Azucarero Guabira S.A\\_DATOS_PYTHON/informes/3421_ECP_25-05-2023_ESPINOZA HURTADO ARMANDO_109.docx\n",
      "D:\\OneDrive - Ingenio Azucarero Guabira S.A\\_DATOS_PYTHON/pdfs/3421_ECP_25-05-2023_ESPINOZA HURTADO ARMANDO_109.pdf\n"
     ]
    },
    {
     "data": {
      "application/vnd.jupyter.widget-view+json": {
       "model_id": "cabfe77980024f9bb0ba99825b9964ac",
       "version_major": 2,
       "version_minor": 0
      },
      "text/plain": [
       "  0%|          | 0/1 [00:00<?, ?it/s]"
      ]
     },
     "metadata": {},
     "output_type": "display_data"
    },
    {
     "name": "stdout",
     "output_type": "stream",
     "text": [
      "END\n"
     ]
    }
   ],
   "source": [
    "i = 1\n",
    "for filename in rutas:\n",
    "    print('CONVIRTIENDO... INFORME ' + str(i) + ' ' + filename)\n",
    "    # se realiza la convrsion pasando parametro de salida y entrada, \n",
    "    # para la salida se reemplaza la extencion y la ruta\n",
    "    print(filename)\n",
    "    print(filename.replace('.docx','.pdf').replace('informes','pdfs'))\n",
    "    pdf = filename.replace('.docx','.pdf').replace('informes','pdfs').split('/')[-1]\n",
    "    convert(filename, r'C:\\Users\\UTEA\\Downloads\\\\' + pdf)\n",
    "    i+=1\n",
    "print('END')"
   ]
  },
  {
   "cell_type": "code",
   "execution_count": null,
   "id": "ba7b6689-c073-408f-9a2c-227bbbae700c",
   "metadata": {},
   "outputs": [],
   "source": []
  },
  {
   "cell_type": "markdown",
   "id": "85030b5d-eeef-4b99-81b3-b0b31880b4e6",
   "metadata": {},
   "source": [
    "## SUBIR A DRIVE"
   ]
  },
  {
   "cell_type": "code",
   "execution_count": 27,
   "id": "fba39689-2572-4cb5-9d6c-37eb57d93c1e",
   "metadata": {},
   "outputs": [
    {
     "name": "stdout",
     "output_type": "stream",
     "text": [
      "Your browser has been opened to visit:\n",
      "\n",
      "    https://accounts.google.com/o/oauth2/auth?client_id=1096764895697-57btfmtn7rdejufct5qq4j9mi61j0unl.apps.googleusercontent.com&redirect_uri=http%3A%2F%2Flocalhost%3A8080%2F&scope=https%3A%2F%2Fwww.googleapis.com%2Fauth%2Fdrive&access_type=offline&response_type=code\n",
      "\n",
      "Authentication successful.\n"
     ]
    }
   ],
   "source": [
    "# CONEXION A GOOGLE DRIVE\n",
    "from pydrive.auth import GoogleAuth\n",
    "from pydrive.drive import GoogleDrive\n",
    "\n",
    "gauth = GoogleAuth()\n",
    "gauth.LocalWebserverAuth() # client_secrets.json need to be in the same directory as the script\n",
    "drive = GoogleDrive(gauth)"
   ]
  },
  {
   "cell_type": "code",
   "execution_count": 28,
   "id": "bb3df96d-aeac-44cc-bb74-a0fe59109a0b",
   "metadata": {},
   "outputs": [
    {
     "name": "stdout",
     "output_type": "stream",
     "text": [
      "2 informes\n"
     ]
    },
    {
     "data": {
      "text/plain": [
       "{108: '3400_ECP_24-05-2023_ESPINOZA AGUILAR JAIME OMAR _108.pdf',\n",
       " 109: '3421_ECP_25-05-2023_ESPINOZA HURTADO ARMANDO_109.pdf'}"
      ]
     },
     "execution_count": 28,
     "metadata": {},
     "output_type": "execute_result"
    }
   ],
   "source": [
    "contenido = os.listdir(ruta + r'//pdf')\n",
    "dic_files = {}\n",
    "for file in contenido:\n",
    "    split = file.split('_')\n",
    "    cod = split[-1].split('.')\n",
    "    dic_files[int(cod[0])] = file\n",
    "print(len(dic_files), 'informes')\n",
    "dic_files"
   ]
  },
  {
   "cell_type": "code",
   "execution_count": 29,
   "id": "351bcc29-3a83-4785-8b79-29d35efefbba",
   "metadata": {},
   "outputs": [
    {
     "name": "stdout",
     "output_type": "stream",
     "text": [
      "Created file 3400_ECP_24-05-2023_ESPINOZA AGUILAR JAIME OMAR _108.pdf with mimeType application/pdf\n",
      "Created file 3421_ECP_25-05-2023_ESPINOZA HURTADO ARMANDO_109.pdf with mimeType application/pdf\n",
      "end\n"
     ]
    }
   ],
   "source": [
    "# CARGAR LOS PDFS A GOOGLE DRIVE\n",
    "dic_urls = {}\n",
    "# View all folders and file in your Google Drive\n",
    "fileList = drive.ListFile({'q': \"'root' in parents and trashed=false\"}).GetList()\n",
    "for file in fileList:\n",
    "  #print('Title: %s, ID: %s' % (file['title'], file['id']))\n",
    "  # Get the folder ID that you want\n",
    "  if(file['title'] == \"EVAL_MANTENIMIENTO_PREVENTIVO\"):\n",
    "      fileID = file['id']\n",
    "\n",
    "for file in dic_files:\n",
    "    file1 = drive.CreateFile({\"mimeType\": \"application/pdf\", \"parents\": [{\"kind\": \"drive#fileLink\", \"id\": fileID}]})\n",
    "    file1['title'] = dic_files[file]\n",
    "    file1.SetContentFile(ruta + r'//pdf//' + dic_files[file])\n",
    "    file1.Upload() # Upload the file.\n",
    "    print('Created file %s with mimeType %s' % (file1['title'], file1['mimeType']))\n",
    "    permission = file1.InsertPermission({\n",
    "                        'type': 'anyone',\n",
    "                        'value': 'anyone',\n",
    "                        'role': 'reader'})\n",
    "    dic_urls[file] = file1['alternateLink']\n",
    "dic_urls\n",
    "print('end')"
   ]
  },
  {
   "cell_type": "code",
   "execution_count": 30,
   "id": "e2421c3d-1224-4ab5-b0a4-1c8f5a45d7e6",
   "metadata": {},
   "outputs": [
    {
     "data": {
      "text/plain": [
       "{108: 'https://drive.google.com/file/d/1KXXuq8EzJ8lAjZXQQKvOsoAcwvJArGHq/view?usp=drivesdk',\n",
       " 109: 'https://drive.google.com/file/d/1iEaHiwr-RiCr4eFUJKi_cnZBUQbJVT3J/view?usp=drivesdk'}"
      ]
     },
     "execution_count": 30,
     "metadata": {},
     "output_type": "execute_result"
    }
   ],
   "source": [
    "dic_urls"
   ]
  },
  {
   "cell_type": "code",
   "execution_count": null,
   "id": "ad8261da-04a7-4780-92fc-ec6a543b3cfc",
   "metadata": {},
   "outputs": [],
   "source": []
  },
  {
   "cell_type": "code",
   "execution_count": 31,
   "id": "40d78acf-b013-4927-854a-e69b55eceae2",
   "metadata": {},
   "outputs": [
    {
     "name": "stdout",
     "output_type": "stream",
     "text": [
      "108\n",
      "109\n",
      "end\n"
     ]
    }
   ],
   "source": [
    "for key in dic_urls:\n",
    "    query = {'query': 'update dataset_315614 set link_reporte = \\'{link}\\' where id = {cod}'.format(link=dic_urls[key], cod=key)}\n",
    "    res = amigocloud.post('https://app.amigocloud.com/api/v1/projects/32920/sql', query)\n",
    "    print(key)\n",
    "print('end')"
   ]
  },
  {
   "cell_type": "code",
   "execution_count": null,
   "id": "93c5428b-8d01-4e26-a2e2-43ffc9083522",
   "metadata": {},
   "outputs": [],
   "source": []
  },
  {
   "cell_type": "code",
   "execution_count": null,
   "id": "7f49435a-ad06-4549-a781-290fb62e610b",
   "metadata": {},
   "outputs": [],
   "source": []
  },
  {
   "cell_type": "code",
   "execution_count": null,
   "id": "0a935eea-fae6-4f3a-966a-1a2157e20484",
   "metadata": {},
   "outputs": [],
   "source": []
  },
  {
   "cell_type": "code",
   "execution_count": null,
   "id": "27ffa08b-652c-4874-a8a6-4dfad8420e17",
   "metadata": {},
   "outputs": [],
   "source": []
  },
  {
   "cell_type": "code",
   "execution_count": null,
   "id": "dc7bc1d5-9ea5-4fd0-b93b-9b6e7892c967",
   "metadata": {},
   "outputs": [],
   "source": []
  },
  {
   "cell_type": "code",
   "execution_count": null,
   "id": "a2de9cb9-b65c-4029-9f1c-71f34687ee69",
   "metadata": {},
   "outputs": [],
   "source": []
  },
  {
   "cell_type": "code",
   "execution_count": null,
   "id": "2cddab36-53a3-47d2-9f12-ccab7d91c958",
   "metadata": {},
   "outputs": [],
   "source": []
  },
  {
   "cell_type": "code",
   "execution_count": null,
   "id": "f2a7e520-9cf6-403a-8dac-160bd2a7c557",
   "metadata": {},
   "outputs": [],
   "source": []
  },
  {
   "cell_type": "markdown",
   "id": "c29ccab5-34dc-45e6-9c8d-c5f32ed8f27f",
   "metadata": {},
   "source": [
    "# GENERAR EN AUTOMATICO"
   ]
  },
  {
   "cell_type": "code",
   "execution_count": 99,
   "id": "dd00d25b-0505-4be3-8792-a20dc3b0ad98",
   "metadata": {},
   "outputs": [],
   "source": [
    "def update_codigo_maquina(idd):\n",
    "    query = {'query': 'update dataset_315614 set codigo_maquina = split_part(canhero, \\' / \\', 1) || \\'-\\' || codigo_flota where id={id_reg}'.format(id_reg = idd)}\n",
    "    project = 'https://app.amigocloud.com/api/v1/projects/32920/sql'\n",
    "    select = amigocloud.post(project, query)"
   ]
  },
  {
   "cell_type": "code",
   "execution_count": 100,
   "id": "2e95f25b-a659-42de-bba8-7dfc29725cab",
   "metadata": {},
   "outputs": [],
   "source": [
    "# generar reporte\n",
    "def ECP_generar_reporte(reg):\n",
    "    print(get_log_time(), '> (ECP) Inicio generar reporte:', reg)\n",
    "    id_insp = reg['id']\n",
    "    update_codigo_maquina(id_insp)\n",
    "    # DATOS DE LAS INPECCION\n",
    "    query = {'query': 'select * from dataset_315614 where id={id_insp}'.format(id_insp=id_insp)}\n",
    "    project = 'https://app.amigocloud.com/api/v1/projects/32920/sql'\n",
    "    select = amigocloud.get(project, query)\n",
    "    data = select['data'][0]\n",
    "\n",
    "    # convertir fecha a formato dd/mm/aaaa\n",
    "    data['fecha_de_registro'] = datetime.strptime(data['fecha_de_registro'][0:10], '%Y-%m-%d').strftime('%d/%m/%Y')\n",
    "    if data['observaciones']==None:\n",
    "        data['observaciones']=''\n",
    "    # los campos booleanos tiene formacto 'num_num', esto no es admitido para convertir a objeto\n",
    "    # se modifica el dict para agregar 'k_' al inicio de todas llaves\n",
    "    data = {'k_'+key : value for (key, value) in data.items()}\n",
    "    insp = collections.namedtuple(\"insp\", data.keys())(*data.values())\n",
    "    \n",
    "    # FOTOS\n",
    "    query_fotos = {'query': 'select gal.s3_filename, fot.obs from dataset_315689 fot\\\n",
    "                                inner join gallery_48937 gal on fot.amigo_id=gal.source_amigo_id\\\n",
    "                                where fot.insp_ref_fot=\\'{id}\\''.format(id=insp.k_amigo_id)}\n",
    "    project = 'https://app.amigocloud.com/api/v1/projects/32920/sql'\n",
    "    fotos = amigocloud.get(project, query_fotos)['data']\n",
    "    \n",
    "    # CREAR REPORTE\n",
    "    doc = DocxTemplate(ruta + '/templates/tpl_insp_cosechadoras-preventivo.docx')\n",
    "    #descargar fotos y generar lista InlineImage\n",
    "    print(get_log_time(), '> (ECP) Descargando imagenes...')\n",
    "    lista_fotos_inline = []\n",
    "    for foto in fotos:\n",
    "        response = requests.get(\"https://www-amigocloud.s3.amazonaws.com/gallery/\" + foto['s3_filename'])\n",
    "        file = open(ruta + '/fotos/' + foto['s3_filename'], \"wb\")\n",
    "        file.write(response.content)\n",
    "        file.close()\n",
    "        lista_fotos_inline.append({\n",
    "            'foto': docxtpl.InlineImage(doc, image_descriptor= ruta + '/fotos/' + foto['s3_filename'], width=Mm(80)),\n",
    "            'obs': foto['obs']\n",
    "        })\n",
    "    context = {'insp':insp, 'fotos':lista_fotos_inline}\n",
    "    #context = {'insp':insp}\n",
    "    doc.render(context)\n",
    "    # formato de nombre de archivo: \"123_CQ_01-01-2022_NOMBRE\"\n",
    "    cod_nom = insp.k_canhero.split(' / ')\n",
    "    file_name = cod_nom[0] + '_ECP_' + insp.k_fecha_de_registro.replace('/','-') + '_' + cod_nom[1] + '_' + str(insp.k_id)\n",
    "    #doc.save(r'C:\\Users\\UTEA\\OneDrive - Ingenio Azucarero Guabira S.A (2)\\INFORMES\\IMFORMES PARA REVISAR\\\\' + file_name + '.docx')\n",
    "    doc.save(ruta + r'/informes/_' + file_name + '.docx')\n",
    "    print(get_log_time(), '> (ECP) Reporte creado:', '_'+file_name)"
   ]
  },
  {
   "cell_type": "code",
   "execution_count": 101,
   "id": "d2f4e3a8-4a93-428e-8f24-eeed64ff9982",
   "metadata": {},
   "outputs": [],
   "source": [
    "# verifica si existen regiatros sin link de reporte\n",
    "# si existe, reporna una lista \n",
    "def ECP_get_new_data():\n",
    "    print(get_log_time() , '> (ECP) Buscando nuevos registros...')\n",
    "    query_dia = {'query': 'select id, canhero from dataset_315614 where link_reporte = \\'\\' or link_reporte is null'}\n",
    "    project = 'https://app.amigocloud.com/api/v1/projects/32920/sql'\n",
    "    select_dia = amigocloud.get(project, query_dia)\n",
    "    data_dia = select_dia['data']\n",
    "    print(get_log_time(), '> (ECP) Nuevos registros encontrados:', len(data_dia))\n",
    "    return data_dia"
   ]
  },
  {
   "cell_type": "code",
   "execution_count": 102,
   "id": "4d0c3ad0-8556-4c33-b9b5-82c9b839a173",
   "metadata": {},
   "outputs": [],
   "source": [
    "# retorna una lista de los docuemntos ya generados pero que un no han sido revisados\n",
    "def ECP_get_cod_files_exist():\n",
    "    path = r'' + ruta + '/informes'\n",
    "    contenido = os.listdir(path)\n",
    "    k = []\n",
    "    for i in contenido:\n",
    "        items = i.split('_')\n",
    "        cod_id = items[-1].split('.')[0]\n",
    "        cod_insp = items[-4]\n",
    "        k.append(cod_id + '_' + cod_insp)\n",
    "    return k"
   ]
  },
  {
   "cell_type": "code",
   "execution_count": 103,
   "id": "ab3f862b-c70c-43ff-8b02-626f94cf63f4",
   "metadata": {},
   "outputs": [],
   "source": [
    "# \n",
    "def ECP_eval_cosech_preventivo():\n",
    "    # busca si existen registros sin reporte\n",
    "    registros = ECP_get_new_data()\n",
    "    if len(registros)>0: \n",
    "        for i in registros:\n",
    "            # verifica si el reporte ya ha sido generado\n",
    "            if str(i['id']) + '_' + 'ECP' in ECP_get_cod_files_exist():\n",
    "                print('======= Reporte ya generado, falta revisar:', i)\n",
    "                continue\n",
    "            # en caso de no generado, generar\n",
    "            ECP_generar_reporte(i)\n",
    "        print(get_log_time(), '> (ECP) Se generaron todos los reportes.')\n",
    "    else:\n",
    "        print(get_log_time(), '> (ECP) No hay registros nuevos')"
   ]
  },
  {
   "cell_type": "code",
   "execution_count": 104,
   "id": "416aeb61-a97c-417e-898d-3d5d1f0c6e94",
   "metadata": {},
   "outputs": [
    {
     "name": "stdout",
     "output_type": "stream",
     "text": [
      "10:20:06 30/05/2023 > (ECP) Buscando nuevos registros...\n",
      "10:20:06 30/05/2023 > (ECP) Nuevos registros encontrados: 2\n",
      "10:20:06 30/05/2023 > (ECP) Inicio generar reporte: {'id': 109, 'canhero': '3421 / ESPINOZA HURTADO ARMANDO'}\n",
      "10:20:09 30/05/2023 > (ECP) Descargando imagenes...\n",
      "10:20:24 30/05/2023 > (ECP) Reporte creado: _3421_ECP_25-05-2023_ESPINOZA HURTADO ARMANDO_109\n",
      "10:20:24 30/05/2023 > (ECP) Inicio generar reporte: {'id': 108, 'canhero': '3400 / ESPINOZA AGUILAR JAIME OMAR '}\n",
      "10:20:26 30/05/2023 > (ECP) Descargando imagenes...\n",
      "10:20:37 30/05/2023 > (ECP) Reporte creado: _3400_ECP_24-05-2023_ESPINOZA AGUILAR JAIME OMAR _108\n",
      "10:20:37 30/05/2023 > (ECP) Se generaron todos los reportes.\n"
     ]
    }
   ],
   "source": [
    "ECP_eval_cosech_preventivo()"
   ]
  },
  {
   "cell_type": "code",
   "execution_count": 106,
   "id": "347018f6-3ce0-430b-81ea-fc67c51c395c",
   "metadata": {},
   "outputs": [
    {
     "ename": "TypeError",
     "evalue": "sleep() takes exactly one argument (0 given)",
     "output_type": "error",
     "traceback": [
      "\u001b[1;31m---------------------------------------------------------------------------\u001b[0m",
      "\u001b[1;31mTypeError\u001b[0m                                 Traceback (most recent call last)",
      "\u001b[1;32m~\\AppData\\Local\\Temp\\ipykernel_27736\\2778859177.py\u001b[0m in \u001b[0;36m<module>\u001b[1;34m\u001b[0m\n\u001b[0;32m      1\u001b[0m \u001b[1;32mwhile\u001b[0m \u001b[1;32mTrue\u001b[0m\u001b[1;33m:\u001b[0m\u001b[1;33m\u001b[0m\u001b[1;33m\u001b[0m\u001b[0m\n\u001b[0;32m      2\u001b[0m \u001b[1;33m\u001b[0m\u001b[0m\n\u001b[1;32m----> 3\u001b[1;33m     \u001b[0mtime\u001b[0m\u001b[1;33m.\u001b[0m\u001b[0msleep\u001b[0m\u001b[1;33m(\u001b[0m\u001b[1;33m)\u001b[0m\u001b[1;33m\u001b[0m\u001b[1;33m\u001b[0m\u001b[0m\n\u001b[0m",
      "\u001b[1;31mTypeError\u001b[0m: sleep() takes exactly one argument (0 given)"
     ]
    }
   ],
   "source": [
    "while True:\n",
    "    \n",
    "    time.sleep()"
   ]
  },
  {
   "cell_type": "code",
   "execution_count": null,
   "id": "be16231d-4767-49a9-8526-b518f0696923",
   "metadata": {},
   "outputs": [],
   "source": []
  },
  {
   "cell_type": "code",
   "execution_count": null,
   "id": "f5647fc2-8563-4094-90d4-879bc1425b90",
   "metadata": {},
   "outputs": [],
   "source": []
  },
  {
   "cell_type": "code",
   "execution_count": null,
   "id": "8b8266c6-d871-451f-a0fd-a8045bd8be2d",
   "metadata": {},
   "outputs": [],
   "source": []
  },
  {
   "cell_type": "code",
   "execution_count": null,
   "id": "e282db97-97f8-4555-9e71-bf58d2985ee7",
   "metadata": {},
   "outputs": [],
   "source": []
  },
  {
   "cell_type": "code",
   "execution_count": null,
   "id": "962af568-a8b3-42b6-9b5a-7dc55b829255",
   "metadata": {},
   "outputs": [],
   "source": []
  },
  {
   "cell_type": "code",
   "execution_count": null,
   "id": "af2db97d-880b-4da4-815a-b41fd66b84b5",
   "metadata": {},
   "outputs": [],
   "source": []
  },
  {
   "cell_type": "code",
   "execution_count": 119,
   "id": "369c68dc-4fee-4dc1-9fa9-58fbfa394340",
   "metadata": {},
   "outputs": [],
   "source": []
  },
  {
   "cell_type": "code",
   "execution_count": 120,
   "id": "7ddcebf4-6a0b-454e-9add-9ac64b353a22",
   "metadata": {},
   "outputs": [
    {
     "data": {
      "text/plain": [
       "['108_ECP', '109_ECP']"
      ]
     },
     "execution_count": 120,
     "metadata": {},
     "output_type": "execute_result"
    }
   ],
   "source": [
    "get_files()"
   ]
  },
  {
   "cell_type": "code",
   "execution_count": null,
   "id": "317f5d1c-3085-42c9-8f23-a8686e37a110",
   "metadata": {},
   "outputs": [],
   "source": []
  },
  {
   "cell_type": "code",
   "execution_count": null,
   "id": "7015fc8c-826d-45c7-b510-c2f268658739",
   "metadata": {},
   "outputs": [],
   "source": []
  },
  {
   "cell_type": "code",
   "execution_count": null,
   "id": "65bb58bb-c9cc-4c4f-8e48-f512614de7ea",
   "metadata": {},
   "outputs": [],
   "source": []
  },
  {
   "cell_type": "code",
   "execution_count": null,
   "id": "efb48428-4e8c-4779-bfc8-6ebf563e63de",
   "metadata": {},
   "outputs": [],
   "source": []
  },
  {
   "cell_type": "code",
   "execution_count": null,
   "id": "428028a5-b590-4e8b-ba11-8740ccf0e405",
   "metadata": {},
   "outputs": [],
   "source": []
  },
  {
   "cell_type": "code",
   "execution_count": null,
   "id": "a964be0c-f6c8-464a-bdd9-a3d7eab7dcf9",
   "metadata": {},
   "outputs": [],
   "source": []
  }
 ],
 "metadata": {
  "kernelspec": {
   "display_name": "Python 3 (ipykernel)",
   "language": "python",
   "name": "python3"
  },
  "language_info": {
   "codemirror_mode": {
    "name": "ipython",
    "version": 3
   },
   "file_extension": ".py",
   "mimetype": "text/x-python",
   "name": "python",
   "nbconvert_exporter": "python",
   "pygments_lexer": "ipython3",
   "version": "3.7.16"
  }
 },
 "nbformat": 4,
 "nbformat_minor": 5
}
