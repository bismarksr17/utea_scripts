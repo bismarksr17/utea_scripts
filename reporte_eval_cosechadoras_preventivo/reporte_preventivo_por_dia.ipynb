{
 "cells": [
  {
   "cell_type": "code",
   "execution_count": 1,
   "id": "16edd055-3434-40bb-846f-f4eb6a4763fa",
   "metadata": {
    "tags": []
   },
   "outputs": [],
   "source": [
    "from werkzeug.wrappers import Request, Response\n",
    "#from flask import Flask, render_template\n",
    "from jinja2 import Template\n",
    "\n",
    "#from datetime import date\n",
    "from datetime import datetime, timedelta\n",
    "\n",
    "import collections\n",
    "from amigocloud import AmigoCloud\n",
    "\n",
    "from datetime import datetime\n",
    "\n",
    "from docxtpl import DocxTemplate\n",
    "import docxtpl\n",
    "from docx.shared import Mm\n",
    "import requests\n",
    "\n",
    "from docx2pdf import convert\n",
    "import os"
   ]
  },
  {
   "cell_type": "code",
   "execution_count": 22,
   "id": "8454e3f8-e1f3-457a-a06e-25bc4598c84f",
   "metadata": {},
   "outputs": [],
   "source": [
    "def get_log_time():\n",
    "    return datetime.now().strftime('%H:%M:%S %d/%m/%Y')"
   ]
  },
  {
   "cell_type": "code",
   "execution_count": 24,
   "id": "7ef1ba39-1f94-4427-a8da-3ac6e5c6fe10",
   "metadata": {
    "tags": []
   },
   "outputs": [
    {
     "name": "stdout",
     "output_type": "stream",
     "text": [
      "14:53:09 22/05/2023 > Estableciento conexion a base de datos...\n"
     ]
    },
    {
     "name": "stderr",
     "output_type": "stream",
     "text": [
      "WARNING:socketIO-client:app.amigocloud.com:443/v2_socket.io/socket.io [connection error] recv disconnected by SSL ([SSL: SSLV3_ALERT_BAD_RECORD_MAC] sslv3 alert bad record mac (_ssl.c:2570))\n",
      "WARNING:socketIO-client:app.amigocloud.com:443/v2_socket.io/socket.io [connection error] recv disconnected ([WinError 10035] A non-blocking socket operation could not be completed immediately)\n"
     ]
    },
    {
     "name": "stdout",
     "output_type": "stream",
     "text": [
      "14:50:52 22/05/2023 > Base de datos conectado...!!!\n"
     ]
    }
   ],
   "source": [
    "# ruta de carpera donde estan las llaves\n",
    "print(get_log_time(), '> Estableciento conexion a base de datos...')\n",
    "ruta = open('../ruta.txt')\n",
    "ruta = ruta.readlines()[0]\n",
    "# leer token\n",
    "acceso = open(ruta + '/_keys/api_amigocloud.key','r')\n",
    "api_token = acceso.readlines()[0]\n",
    "acceso.close()\n",
    "amigocloud = AmigoCloud(token=api_token)\n",
    "amigocloud\n",
    "print(now_hour, '> Base de datos conectado...!!!')"
   ]
  },
  {
   "cell_type": "code",
   "execution_count": 25,
   "id": "40ecbd68-6a97-4f10-955c-4028735bf61f",
   "metadata": {},
   "outputs": [
    {
     "data": {
      "text/plain": [
       "'D:\\\\OneDrive - Ingenio Azucarero Guabira S.A\\\\_DATOS_PYTHON'"
      ]
     },
     "execution_count": 25,
     "metadata": {},
     "output_type": "execute_result"
    }
   ],
   "source": [
    "ruta"
   ]
  },
  {
   "cell_type": "code",
   "execution_count": 30,
   "id": "d290b5df-103b-4f47-9dd3-586e4ba80c34",
   "metadata": {
    "tags": []
   },
   "outputs": [
    {
     "name": "stdout",
     "output_type": "stream",
     "text": [
      "14:55:58 22/05/2023 > Buscando nuevos registros...\n",
      "14:55:58 22/05/2023 > Nuevos registros encontrados: 2\n"
     ]
    }
   ],
   "source": [
    "# obtener fecha actual\n",
    "fecha = datetime.now().strftime('%Y-%m-%d')\n",
    "print(get_log_time() , '> Buscando nuevos registros...')\n",
    "query_dia = {'query': 'select id, canhero from dataset_315614 where date(fecha_de_registro) = \\'{fech}\\' order by id'.format(fech=fecha)}\n",
    "project = 'https://app.amigocloud.com/api/v1/projects/32920/sql'\n",
    "select_dia = amigocloud.get(project, query_dia)\n",
    "data_dia = select_dia['data']\n",
    "print(get_log_time(), '> Nuevos registros encontrados:', len(data_dia))"
   ]
  },
  {
   "cell_type": "code",
   "execution_count": 31,
   "id": "cb5ac061-b6e4-41ac-93df-9ad60d712451",
   "metadata": {},
   "outputs": [
    {
     "data": {
      "text/plain": [
       "[{'id': 105, 'canhero': '3469 / ENRIQUEZ PAICHUCAMA SIMON '},\n",
       " {'id': 106, 'canhero': '3469 / ENRIQUEZ PAICHUCAMA SIMON '}]"
      ]
     },
     "execution_count": 31,
     "metadata": {},
     "output_type": "execute_result"
    }
   ],
   "source": [
    "data_dia"
   ]
  },
  {
   "cell_type": "code",
   "execution_count": 32,
   "id": "c8049e93-6830-4297-b9a8-f0f3fbe4db49",
   "metadata": {
    "tags": []
   },
   "outputs": [
    {
     "name": "stdout",
     "output_type": "stream",
     "text": [
      "ID inspeccion:  105\n",
      "3469_ECP_22-05-2023_ENRIQUEZ PAICHUCAMA SIMON _105\n",
      "ID inspeccion:  106\n",
      "3469_ECP_22-05-2023_ENRIQUEZ PAICHUCAMA SIMON _106\n",
      "-------------------FIN\n"
     ]
    }
   ],
   "source": [
    "for id in data_dia:\n",
    "    print('ID inspeccion: ', id['id'])\n",
    "    id_insp = id['id']\n",
    "    # DATOS DE LAS INPECCION\n",
    "    query = {'query': 'select * from dataset_315614 where id={id_insp}'.format(id_insp=id_insp)}\n",
    "    project = 'https://app.amigocloud.com/api/v1/projects/32920/sql'\n",
    "    select = amigocloud.get(project, query)\n",
    "    data = select['data'][0]\n",
    "\n",
    "    # convertir fecha a formato dd/mm/aaaa\n",
    "    data['fecha_de_registro'] = datetime.strptime(data['fecha_de_registro'][0:10], '%Y-%m-%d').strftime('%d/%m/%Y')\n",
    "\n",
    "    # los campos booleanos tiene formacto 'num_num', esto no es admitido para convertir a objeto\n",
    "    # se modifica el dict para agregar 'k_' al inicio de todas llaves\n",
    "    data = {'k_'+key : value for (key, value) in data.items()}\n",
    "    insp = collections.namedtuple(\"insp\", data.keys())(*data.values())\n",
    "    \n",
    "    # FOTOS\n",
    "    query_fotos = {'query': 'select gal.s3_filename, fot.obs from dataset_315689 fot\\\n",
    "                                inner join gallery_48937 gal on fot.amigo_id=gal.source_amigo_id\\\n",
    "                                where fot.insp_ref_fot=\\'{id}\\''.format(id=insp.k_amigo_id)}\n",
    "    project = 'https://app.amigocloud.com/api/v1/projects/32920/sql'\n",
    "    fotos = amigocloud.get(project, query_fotos)['data']\n",
    "    \n",
    "    # CREAR REPORTE\n",
    "    doc = DocxTemplate(ruta + '/templates/tpl_insp_cosechadoras_preventivo.docx')\n",
    "    #descargar fotos y generar lista InlineImage\n",
    "    lista_fotos_inline = []\n",
    "    for foto in fotos:\n",
    "        response = requests.get(\"https://www-amigocloud.s3.amazonaws.com/gallery/\" + foto['s3_filename'])\n",
    "        file = open(ruta + '/fotos/' + foto['s3_filename'], \"wb\")\n",
    "        file.write(response.content)\n",
    "        file.close()\n",
    "        lista_fotos_inline.append({\n",
    "            'foto': docxtpl.InlineImage(doc, image_descriptor= ruta + '/fotos/' + foto['s3_filename'], width=Mm(50)),\n",
    "            'obs': foto['obs']\n",
    "        })\n",
    "    context = {'insp':insp, 'fotos':lista_fotos_inline}\n",
    "    #context = {'insp':insp}\n",
    "    doc.render(context)\n",
    "    # formato de nombre de archivo: \"123_CQ_01-01-2022_NOMBRE\"\n",
    "    cod_nom = insp.k_canhero.split(' / ')\n",
    "    file_name = cod_nom[0] + '_ECP_' + insp.k_fecha_de_registro.replace('/','-') + '_' + cod_nom[1] + '_' + str(insp.k_id)\n",
    "    #doc.save(r'C:\\Users\\UTEA\\OneDrive - Ingenio Azucarero Guabira S.A (2)\\INFORMES\\IMFORMES PARA REVISAR\\\\' + file_name + '.docx')\n",
    "    doc.save(ruta + r'/informes/_' + file_name + '.docx')\n",
    "    print(file_name)\n",
    "print('-------------------FIN')"
   ]
  },
  {
   "cell_type": "code",
   "execution_count": null,
   "id": "b4c01bb4-cdd9-4859-827e-70747b7c4e00",
   "metadata": {},
   "outputs": [],
   "source": []
  },
  {
   "cell_type": "code",
   "execution_count": null,
   "id": "4240396d-17f7-441d-a5fe-01f5ef01984b",
   "metadata": {},
   "outputs": [],
   "source": []
  },
  {
   "cell_type": "code",
   "execution_count": null,
   "id": "a4322e0e-c408-44fb-9b32-898fbf152218",
   "metadata": {},
   "outputs": [],
   "source": []
  },
  {
   "cell_type": "code",
   "execution_count": null,
   "id": "7ccbc685-6de0-406e-8e9d-0469bc725266",
   "metadata": {},
   "outputs": [],
   "source": []
  },
  {
   "cell_type": "code",
   "execution_count": null,
   "id": "c11af9ad-5a64-4295-8368-eac5c0ffaaba",
   "metadata": {},
   "outputs": [],
   "source": []
  },
  {
   "cell_type": "code",
   "execution_count": 21,
   "id": "6a17daf4-bb13-46bc-bb01-dc5e9c99ce57",
   "metadata": {},
   "outputs": [
    {
     "data": {
      "text/plain": [
       "[{'foto': <docxtpl.InlineImage at 0x2170850e808>, 'obs': 'Máquina lista '}]"
      ]
     },
     "execution_count": 21,
     "metadata": {},
     "output_type": "execute_result"
    }
   ],
   "source": [
    "lista_fotos_inline"
   ]
  },
  {
   "cell_type": "markdown",
   "id": "5d1bc773-bd0b-4cf1-88b4-c7b18fe0b053",
   "metadata": {},
   "source": [
    "## Convertir a PDF"
   ]
  },
  {
   "cell_type": "code",
   "execution_count": 10,
   "id": "3a194c6d-294f-4812-b069-9825caa5feaf",
   "metadata": {
    "tags": []
   },
   "outputs": [
    {
     "name": "stdout",
     "output_type": "stream",
     "text": [
      "SE ENCONTRARON 18 INFORMES\n",
      "18 INFORMES\n"
     ]
    },
    {
     "data": {
      "text/plain": [
       "['D:\\\\OneDrive - Ingenio Azucarero Guabira S.A\\\\_DATOS_PYTHON/informes/10697_ECP_28-03-2023_PAZ REA JAIME EDUARDO _4.docx',\n",
       " 'D:\\\\OneDrive - Ingenio Azucarero Guabira S.A\\\\_DATOS_PYTHON/informes/2446_ECP_16-05-2023_CORDOVA SEJAS ALCIDES _101.docx',\n",
       " 'D:\\\\OneDrive - Ingenio Azucarero Guabira S.A\\\\_DATOS_PYTHON/informes/3400_ECP_30-03-2023_ESPINOZA AGUILAR JAIME OMAR _11.docx',\n",
       " 'D:\\\\OneDrive - Ingenio Azucarero Guabira S.A\\\\_DATOS_PYTHON/informes/3469_ECP_22-05-2023_ENRIQUEZ PAICHUCAMA SIMON _106.docx',\n",
       " 'D:\\\\OneDrive - Ingenio Azucarero Guabira S.A\\\\_DATOS_PYTHON/informes/4171_ECP_19-05-2023_FRITZER CUELLAR SAMIR EDUARDO _104.docx',\n",
       " 'D:\\\\OneDrive - Ingenio Azucarero Guabira S.A\\\\_DATOS_PYTHON/informes/515_ECP_29-03-2023_AGUILERA OLGA RIVERO VDA. DE _7.docx',\n",
       " 'D:\\\\OneDrive - Ingenio Azucarero Guabira S.A\\\\_DATOS_PYTHON/informes/556_ECP_16-05-2023_AYALA ESPINOSA WALDO SELUB_100.docx',\n",
       " 'D:\\\\OneDrive - Ingenio Azucarero Guabira S.A\\\\_DATOS_PYTHON/informes/556_ECP_30-03-2023_AYALA ESPINOSA WALDO SELUB_12.docx',\n",
       " 'D:\\\\OneDrive - Ingenio Azucarero Guabira S.A\\\\_DATOS_PYTHON/informes/594_ECP_30-03-2023_AGROPECUARIA FLAMBOYAN_10.docx',\n",
       " 'D:\\\\OneDrive - Ingenio Azucarero Guabira S.A\\\\_DATOS_PYTHON/informes/75_ECP_28-03-2023_AGUILERA TARADELLES NELSON MARIANO _5.docx',\n",
       " 'D:\\\\OneDrive - Ingenio Azucarero Guabira S.A\\\\_DATOS_PYTHON/informes/75_ECP_28-03-2023_AGUILERA TARADELLES NELSON MARIANO _6.docx',\n",
       " 'D:\\\\OneDrive - Ingenio Azucarero Guabira S.A\\\\_DATOS_PYTHON/informes/765_ECP_31-03-2023_AGROP. CATALA S.R.L._13.docx',\n",
       " 'D:\\\\OneDrive - Ingenio Azucarero Guabira S.A\\\\_DATOS_PYTHON/informes/765_ECP_31-03-2023_AGROP. CATALA S.R.L._14.docx',\n",
       " 'D:\\\\OneDrive - Ingenio Azucarero Guabira S.A\\\\_DATOS_PYTHON/informes/765_ECP_31-03-2023_AGROP. CATALA S.R.L._15.docx',\n",
       " 'D:\\\\OneDrive - Ingenio Azucarero Guabira S.A\\\\_DATOS_PYTHON/informes/765_ECP_31-03-2023_AGROP. CATALA S.R.L._16.docx',\n",
       " 'D:\\\\OneDrive - Ingenio Azucarero Guabira S.A\\\\_DATOS_PYTHON/informes/8009_ECP_29-03-2023_ESPINOZA AGUILAR DAVID_8.docx',\n",
       " 'D:\\\\OneDrive - Ingenio Azucarero Guabira S.A\\\\_DATOS_PYTHON/informes/8009_ECP_29-03-2023_ESPINOZA AGUILAR DAVID_9.docx',\n",
       " 'D:\\\\OneDrive - Ingenio Azucarero Guabira S.A\\\\_DATOS_PYTHON/informes/805_ECP_31-03-2023_AGROP. TRES HNOS DEL ORIENTE_17.docx']"
      ]
     },
     "execution_count": 10,
     "metadata": {},
     "output_type": "execute_result"
    }
   ],
   "source": [
    "path = r'' + ruta + '/informes'\n",
    "contenido = os.listdir(path)\n",
    "rutas =[]\n",
    "i = 0\n",
    "for name in contenido:\n",
    "    rutas.append(path + '/' + name)\n",
    "    i+=1\n",
    "\n",
    "print('SE ENCONTRARON ' + str(i) + ' INFORMES')\n",
    "print(len(rutas), 'INFORMES')\n",
    "rutas"
   ]
  },
  {
   "cell_type": "code",
   "execution_count": 11,
   "id": "d2183ffa-4f32-4d4d-b7a1-315f1c32db9c",
   "metadata": {
    "tags": []
   },
   "outputs": [
    {
     "name": "stdout",
     "output_type": "stream",
     "text": [
      "CONVIRTIENDO... INFORME 1 D:\\OneDrive - Ingenio Azucarero Guabira S.A\\_DATOS_PYTHON/informes/10697_ECP_28-03-2023_PAZ REA JAIME EDUARDO _4.docx\n",
      "D:\\OneDrive - Ingenio Azucarero Guabira S.A\\_DATOS_PYTHON/informes/10697_ECP_28-03-2023_PAZ REA JAIME EDUARDO _4.docx\n",
      "D:\\OneDrive - Ingenio Azucarero Guabira S.A\\_DATOS_PYTHON/pdfs/10697_ECP_28-03-2023_PAZ REA JAIME EDUARDO _4.pdf\n"
     ]
    },
    {
     "data": {
      "application/vnd.jupyter.widget-view+json": {
       "model_id": "1382ee488d0344e9b9366b3b075e76a9",
       "version_major": 2,
       "version_minor": 0
      },
      "text/plain": [
       "  0%|          | 0/1 [00:00<?, ?it/s]"
      ]
     },
     "metadata": {},
     "output_type": "display_data"
    },
    {
     "name": "stdout",
     "output_type": "stream",
     "text": [
      "CONVIRTIENDO... INFORME 2 D:\\OneDrive - Ingenio Azucarero Guabira S.A\\_DATOS_PYTHON/informes/2446_ECP_16-05-2023_CORDOVA SEJAS ALCIDES _101.docx\n",
      "D:\\OneDrive - Ingenio Azucarero Guabira S.A\\_DATOS_PYTHON/informes/2446_ECP_16-05-2023_CORDOVA SEJAS ALCIDES _101.docx\n",
      "D:\\OneDrive - Ingenio Azucarero Guabira S.A\\_DATOS_PYTHON/pdfs/2446_ECP_16-05-2023_CORDOVA SEJAS ALCIDES _101.pdf\n"
     ]
    },
    {
     "data": {
      "application/vnd.jupyter.widget-view+json": {
       "model_id": "6e1af2536ae54a9a91ae4589834e9e89",
       "version_major": 2,
       "version_minor": 0
      },
      "text/plain": [
       "  0%|          | 0/1 [00:00<?, ?it/s]"
      ]
     },
     "metadata": {},
     "output_type": "display_data"
    },
    {
     "name": "stdout",
     "output_type": "stream",
     "text": [
      "CONVIRTIENDO... INFORME 3 D:\\OneDrive - Ingenio Azucarero Guabira S.A\\_DATOS_PYTHON/informes/3400_ECP_30-03-2023_ESPINOZA AGUILAR JAIME OMAR _11.docx\n",
      "D:\\OneDrive - Ingenio Azucarero Guabira S.A\\_DATOS_PYTHON/informes/3400_ECP_30-03-2023_ESPINOZA AGUILAR JAIME OMAR _11.docx\n",
      "D:\\OneDrive - Ingenio Azucarero Guabira S.A\\_DATOS_PYTHON/pdfs/3400_ECP_30-03-2023_ESPINOZA AGUILAR JAIME OMAR _11.pdf\n"
     ]
    },
    {
     "data": {
      "application/vnd.jupyter.widget-view+json": {
       "model_id": "da9f75dbe81d4005b8d1f641e797d2eb",
       "version_major": 2,
       "version_minor": 0
      },
      "text/plain": [
       "  0%|          | 0/1 [00:00<?, ?it/s]"
      ]
     },
     "metadata": {},
     "output_type": "display_data"
    },
    {
     "name": "stdout",
     "output_type": "stream",
     "text": [
      "CONVIRTIENDO... INFORME 4 D:\\OneDrive - Ingenio Azucarero Guabira S.A\\_DATOS_PYTHON/informes/3469_ECP_22-05-2023_ENRIQUEZ PAICHUCAMA SIMON _106.docx\n",
      "D:\\OneDrive - Ingenio Azucarero Guabira S.A\\_DATOS_PYTHON/informes/3469_ECP_22-05-2023_ENRIQUEZ PAICHUCAMA SIMON _106.docx\n",
      "D:\\OneDrive - Ingenio Azucarero Guabira S.A\\_DATOS_PYTHON/pdfs/3469_ECP_22-05-2023_ENRIQUEZ PAICHUCAMA SIMON _106.pdf\n"
     ]
    },
    {
     "data": {
      "application/vnd.jupyter.widget-view+json": {
       "model_id": "377fa3708460410a906b92bb821c90a7",
       "version_major": 2,
       "version_minor": 0
      },
      "text/plain": [
       "  0%|          | 0/1 [00:00<?, ?it/s]"
      ]
     },
     "metadata": {},
     "output_type": "display_data"
    },
    {
     "name": "stdout",
     "output_type": "stream",
     "text": [
      "CONVIRTIENDO... INFORME 5 D:\\OneDrive - Ingenio Azucarero Guabira S.A\\_DATOS_PYTHON/informes/4171_ECP_19-05-2023_FRITZER CUELLAR SAMIR EDUARDO _104.docx\n",
      "D:\\OneDrive - Ingenio Azucarero Guabira S.A\\_DATOS_PYTHON/informes/4171_ECP_19-05-2023_FRITZER CUELLAR SAMIR EDUARDO _104.docx\n",
      "D:\\OneDrive - Ingenio Azucarero Guabira S.A\\_DATOS_PYTHON/pdfs/4171_ECP_19-05-2023_FRITZER CUELLAR SAMIR EDUARDO _104.pdf\n"
     ]
    },
    {
     "data": {
      "application/vnd.jupyter.widget-view+json": {
       "model_id": "74f4330572384b17b7d9ace02899baa9",
       "version_major": 2,
       "version_minor": 0
      },
      "text/plain": [
       "  0%|          | 0/1 [00:00<?, ?it/s]"
      ]
     },
     "metadata": {},
     "output_type": "display_data"
    },
    {
     "name": "stdout",
     "output_type": "stream",
     "text": [
      "CONVIRTIENDO... INFORME 6 D:\\OneDrive - Ingenio Azucarero Guabira S.A\\_DATOS_PYTHON/informes/515_ECP_29-03-2023_AGUILERA OLGA RIVERO VDA. DE _7.docx\n",
      "D:\\OneDrive - Ingenio Azucarero Guabira S.A\\_DATOS_PYTHON/informes/515_ECP_29-03-2023_AGUILERA OLGA RIVERO VDA. DE _7.docx\n",
      "D:\\OneDrive - Ingenio Azucarero Guabira S.A\\_DATOS_PYTHON/pdfs/515_ECP_29-03-2023_AGUILERA OLGA RIVERO VDA. DE _7.pdf\n"
     ]
    },
    {
     "data": {
      "application/vnd.jupyter.widget-view+json": {
       "model_id": "e779100884d346f798feffde77071883",
       "version_major": 2,
       "version_minor": 0
      },
      "text/plain": [
       "  0%|          | 0/1 [00:00<?, ?it/s]"
      ]
     },
     "metadata": {},
     "output_type": "display_data"
    },
    {
     "name": "stdout",
     "output_type": "stream",
     "text": [
      "CONVIRTIENDO... INFORME 7 D:\\OneDrive - Ingenio Azucarero Guabira S.A\\_DATOS_PYTHON/informes/556_ECP_16-05-2023_AYALA ESPINOSA WALDO SELUB_100.docx\n",
      "D:\\OneDrive - Ingenio Azucarero Guabira S.A\\_DATOS_PYTHON/informes/556_ECP_16-05-2023_AYALA ESPINOSA WALDO SELUB_100.docx\n",
      "D:\\OneDrive - Ingenio Azucarero Guabira S.A\\_DATOS_PYTHON/pdfs/556_ECP_16-05-2023_AYALA ESPINOSA WALDO SELUB_100.pdf\n"
     ]
    },
    {
     "data": {
      "application/vnd.jupyter.widget-view+json": {
       "model_id": "7714e8ec57924ee98da8a1724810098b",
       "version_major": 2,
       "version_minor": 0
      },
      "text/plain": [
       "  0%|          | 0/1 [00:00<?, ?it/s]"
      ]
     },
     "metadata": {},
     "output_type": "display_data"
    },
    {
     "name": "stdout",
     "output_type": "stream",
     "text": [
      "CONVIRTIENDO... INFORME 8 D:\\OneDrive - Ingenio Azucarero Guabira S.A\\_DATOS_PYTHON/informes/556_ECP_30-03-2023_AYALA ESPINOSA WALDO SELUB_12.docx\n",
      "D:\\OneDrive - Ingenio Azucarero Guabira S.A\\_DATOS_PYTHON/informes/556_ECP_30-03-2023_AYALA ESPINOSA WALDO SELUB_12.docx\n",
      "D:\\OneDrive - Ingenio Azucarero Guabira S.A\\_DATOS_PYTHON/pdfs/556_ECP_30-03-2023_AYALA ESPINOSA WALDO SELUB_12.pdf\n"
     ]
    },
    {
     "data": {
      "application/vnd.jupyter.widget-view+json": {
       "model_id": "073713f1e7b7450086feea8a17e5e7ab",
       "version_major": 2,
       "version_minor": 0
      },
      "text/plain": [
       "  0%|          | 0/1 [00:00<?, ?it/s]"
      ]
     },
     "metadata": {},
     "output_type": "display_data"
    },
    {
     "name": "stdout",
     "output_type": "stream",
     "text": [
      "CONVIRTIENDO... INFORME 9 D:\\OneDrive - Ingenio Azucarero Guabira S.A\\_DATOS_PYTHON/informes/594_ECP_30-03-2023_AGROPECUARIA FLAMBOYAN_10.docx\n",
      "D:\\OneDrive - Ingenio Azucarero Guabira S.A\\_DATOS_PYTHON/informes/594_ECP_30-03-2023_AGROPECUARIA FLAMBOYAN_10.docx\n",
      "D:\\OneDrive - Ingenio Azucarero Guabira S.A\\_DATOS_PYTHON/pdfs/594_ECP_30-03-2023_AGROPECUARIA FLAMBOYAN_10.pdf\n"
     ]
    },
    {
     "data": {
      "application/vnd.jupyter.widget-view+json": {
       "model_id": "89ce26772e51412193e5693d9caeb6b2",
       "version_major": 2,
       "version_minor": 0
      },
      "text/plain": [
       "  0%|          | 0/1 [00:00<?, ?it/s]"
      ]
     },
     "metadata": {},
     "output_type": "display_data"
    },
    {
     "name": "stdout",
     "output_type": "stream",
     "text": [
      "CONVIRTIENDO... INFORME 10 D:\\OneDrive - Ingenio Azucarero Guabira S.A\\_DATOS_PYTHON/informes/75_ECP_28-03-2023_AGUILERA TARADELLES NELSON MARIANO _5.docx\n",
      "D:\\OneDrive - Ingenio Azucarero Guabira S.A\\_DATOS_PYTHON/informes/75_ECP_28-03-2023_AGUILERA TARADELLES NELSON MARIANO _5.docx\n",
      "D:\\OneDrive - Ingenio Azucarero Guabira S.A\\_DATOS_PYTHON/pdfs/75_ECP_28-03-2023_AGUILERA TARADELLES NELSON MARIANO _5.pdf\n"
     ]
    },
    {
     "data": {
      "application/vnd.jupyter.widget-view+json": {
       "model_id": "9d33e24d268b4f3ab6d2e6fcd3b8d79d",
       "version_major": 2,
       "version_minor": 0
      },
      "text/plain": [
       "  0%|          | 0/1 [00:00<?, ?it/s]"
      ]
     },
     "metadata": {},
     "output_type": "display_data"
    },
    {
     "name": "stdout",
     "output_type": "stream",
     "text": [
      "CONVIRTIENDO... INFORME 11 D:\\OneDrive - Ingenio Azucarero Guabira S.A\\_DATOS_PYTHON/informes/75_ECP_28-03-2023_AGUILERA TARADELLES NELSON MARIANO _6.docx\n",
      "D:\\OneDrive - Ingenio Azucarero Guabira S.A\\_DATOS_PYTHON/informes/75_ECP_28-03-2023_AGUILERA TARADELLES NELSON MARIANO _6.docx\n",
      "D:\\OneDrive - Ingenio Azucarero Guabira S.A\\_DATOS_PYTHON/pdfs/75_ECP_28-03-2023_AGUILERA TARADELLES NELSON MARIANO _6.pdf\n"
     ]
    },
    {
     "data": {
      "application/vnd.jupyter.widget-view+json": {
       "model_id": "12ced20d652a45fb88f0772eaf75dc5b",
       "version_major": 2,
       "version_minor": 0
      },
      "text/plain": [
       "  0%|          | 0/1 [00:00<?, ?it/s]"
      ]
     },
     "metadata": {},
     "output_type": "display_data"
    },
    {
     "name": "stdout",
     "output_type": "stream",
     "text": [
      "CONVIRTIENDO... INFORME 12 D:\\OneDrive - Ingenio Azucarero Guabira S.A\\_DATOS_PYTHON/informes/765_ECP_31-03-2023_AGROP. CATALA S.R.L._13.docx\n",
      "D:\\OneDrive - Ingenio Azucarero Guabira S.A\\_DATOS_PYTHON/informes/765_ECP_31-03-2023_AGROP. CATALA S.R.L._13.docx\n",
      "D:\\OneDrive - Ingenio Azucarero Guabira S.A\\_DATOS_PYTHON/pdfs/765_ECP_31-03-2023_AGROP. CATALA S.R.L._13.pdf\n"
     ]
    },
    {
     "data": {
      "application/vnd.jupyter.widget-view+json": {
       "model_id": "e2876c91d3e94cadaacd3d049a2ec8c5",
       "version_major": 2,
       "version_minor": 0
      },
      "text/plain": [
       "  0%|          | 0/1 [00:00<?, ?it/s]"
      ]
     },
     "metadata": {},
     "output_type": "display_data"
    },
    {
     "name": "stdout",
     "output_type": "stream",
     "text": [
      "CONVIRTIENDO... INFORME 13 D:\\OneDrive - Ingenio Azucarero Guabira S.A\\_DATOS_PYTHON/informes/765_ECP_31-03-2023_AGROP. CATALA S.R.L._14.docx\n",
      "D:\\OneDrive - Ingenio Azucarero Guabira S.A\\_DATOS_PYTHON/informes/765_ECP_31-03-2023_AGROP. CATALA S.R.L._14.docx\n",
      "D:\\OneDrive - Ingenio Azucarero Guabira S.A\\_DATOS_PYTHON/pdfs/765_ECP_31-03-2023_AGROP. CATALA S.R.L._14.pdf\n"
     ]
    },
    {
     "data": {
      "application/vnd.jupyter.widget-view+json": {
       "model_id": "461b152f96a44666ab2b51bc14989281",
       "version_major": 2,
       "version_minor": 0
      },
      "text/plain": [
       "  0%|          | 0/1 [00:00<?, ?it/s]"
      ]
     },
     "metadata": {},
     "output_type": "display_data"
    },
    {
     "name": "stdout",
     "output_type": "stream",
     "text": [
      "CONVIRTIENDO... INFORME 14 D:\\OneDrive - Ingenio Azucarero Guabira S.A\\_DATOS_PYTHON/informes/765_ECP_31-03-2023_AGROP. CATALA S.R.L._15.docx\n",
      "D:\\OneDrive - Ingenio Azucarero Guabira S.A\\_DATOS_PYTHON/informes/765_ECP_31-03-2023_AGROP. CATALA S.R.L._15.docx\n",
      "D:\\OneDrive - Ingenio Azucarero Guabira S.A\\_DATOS_PYTHON/pdfs/765_ECP_31-03-2023_AGROP. CATALA S.R.L._15.pdf\n"
     ]
    },
    {
     "data": {
      "application/vnd.jupyter.widget-view+json": {
       "model_id": "2a23cc03d28b4f80bf45876657e8dec3",
       "version_major": 2,
       "version_minor": 0
      },
      "text/plain": [
       "  0%|          | 0/1 [00:00<?, ?it/s]"
      ]
     },
     "metadata": {},
     "output_type": "display_data"
    },
    {
     "name": "stdout",
     "output_type": "stream",
     "text": [
      "CONVIRTIENDO... INFORME 15 D:\\OneDrive - Ingenio Azucarero Guabira S.A\\_DATOS_PYTHON/informes/765_ECP_31-03-2023_AGROP. CATALA S.R.L._16.docx\n",
      "D:\\OneDrive - Ingenio Azucarero Guabira S.A\\_DATOS_PYTHON/informes/765_ECP_31-03-2023_AGROP. CATALA S.R.L._16.docx\n",
      "D:\\OneDrive - Ingenio Azucarero Guabira S.A\\_DATOS_PYTHON/pdfs/765_ECP_31-03-2023_AGROP. CATALA S.R.L._16.pdf\n"
     ]
    },
    {
     "data": {
      "application/vnd.jupyter.widget-view+json": {
       "model_id": "86a04fa3afe94f94a68035532c82fd33",
       "version_major": 2,
       "version_minor": 0
      },
      "text/plain": [
       "  0%|          | 0/1 [00:00<?, ?it/s]"
      ]
     },
     "metadata": {},
     "output_type": "display_data"
    },
    {
     "name": "stdout",
     "output_type": "stream",
     "text": [
      "CONVIRTIENDO... INFORME 16 D:\\OneDrive - Ingenio Azucarero Guabira S.A\\_DATOS_PYTHON/informes/8009_ECP_29-03-2023_ESPINOZA AGUILAR DAVID_8.docx\n",
      "D:\\OneDrive - Ingenio Azucarero Guabira S.A\\_DATOS_PYTHON/informes/8009_ECP_29-03-2023_ESPINOZA AGUILAR DAVID_8.docx\n",
      "D:\\OneDrive - Ingenio Azucarero Guabira S.A\\_DATOS_PYTHON/pdfs/8009_ECP_29-03-2023_ESPINOZA AGUILAR DAVID_8.pdf\n"
     ]
    },
    {
     "data": {
      "application/vnd.jupyter.widget-view+json": {
       "model_id": "5a5d04e2bc764c98a111343ada85c3ac",
       "version_major": 2,
       "version_minor": 0
      },
      "text/plain": [
       "  0%|          | 0/1 [00:00<?, ?it/s]"
      ]
     },
     "metadata": {},
     "output_type": "display_data"
    },
    {
     "name": "stdout",
     "output_type": "stream",
     "text": [
      "CONVIRTIENDO... INFORME 17 D:\\OneDrive - Ingenio Azucarero Guabira S.A\\_DATOS_PYTHON/informes/8009_ECP_29-03-2023_ESPINOZA AGUILAR DAVID_9.docx\n",
      "D:\\OneDrive - Ingenio Azucarero Guabira S.A\\_DATOS_PYTHON/informes/8009_ECP_29-03-2023_ESPINOZA AGUILAR DAVID_9.docx\n",
      "D:\\OneDrive - Ingenio Azucarero Guabira S.A\\_DATOS_PYTHON/pdfs/8009_ECP_29-03-2023_ESPINOZA AGUILAR DAVID_9.pdf\n"
     ]
    },
    {
     "data": {
      "application/vnd.jupyter.widget-view+json": {
       "model_id": "dd70d4430e094eb3b92c432da09be222",
       "version_major": 2,
       "version_minor": 0
      },
      "text/plain": [
       "  0%|          | 0/1 [00:00<?, ?it/s]"
      ]
     },
     "metadata": {},
     "output_type": "display_data"
    },
    {
     "name": "stdout",
     "output_type": "stream",
     "text": [
      "CONVIRTIENDO... INFORME 18 D:\\OneDrive - Ingenio Azucarero Guabira S.A\\_DATOS_PYTHON/informes/805_ECP_31-03-2023_AGROP. TRES HNOS DEL ORIENTE_17.docx\n",
      "D:\\OneDrive - Ingenio Azucarero Guabira S.A\\_DATOS_PYTHON/informes/805_ECP_31-03-2023_AGROP. TRES HNOS DEL ORIENTE_17.docx\n",
      "D:\\OneDrive - Ingenio Azucarero Guabira S.A\\_DATOS_PYTHON/pdfs/805_ECP_31-03-2023_AGROP. TRES HNOS DEL ORIENTE_17.pdf\n"
     ]
    },
    {
     "data": {
      "application/vnd.jupyter.widget-view+json": {
       "model_id": "0dcca73015f24cacb4e0009a62899452",
       "version_major": 2,
       "version_minor": 0
      },
      "text/plain": [
       "  0%|          | 0/1 [00:00<?, ?it/s]"
      ]
     },
     "metadata": {},
     "output_type": "display_data"
    },
    {
     "name": "stdout",
     "output_type": "stream",
     "text": [
      "END\n"
     ]
    }
   ],
   "source": [
    "i = 1\n",
    "for filename in rutas:\n",
    "    print('CONVIRTIENDO... INFORME ' + str(i) + ' ' + filename)\n",
    "    # se realiza la convrsion pasando parametro de salida y entrada, \n",
    "    # para la salida se reemplaza la extencion y la ruta\n",
    "    print(filename)\n",
    "    print(filename.replace('.docx','.pdf').replace('informes','pdfs'))\n",
    "    pdf = filename.replace('.docx','.pdf').replace('informes','pdfs').split('/')[-1]\n",
    "    convert(filename, r'C:\\Users\\UTEA\\Downloads\\\\' + pdf)\n",
    "    i+=1\n",
    "print('END')"
   ]
  },
  {
   "cell_type": "code",
   "execution_count": null,
   "id": "ba7b6689-c073-408f-9a2c-227bbbae700c",
   "metadata": {},
   "outputs": [],
   "source": []
  },
  {
   "cell_type": "markdown",
   "id": "85030b5d-eeef-4b99-81b3-b0b31880b4e6",
   "metadata": {},
   "source": [
    "## SUBIR A DRIVE"
   ]
  },
  {
   "cell_type": "code",
   "execution_count": 12,
   "id": "fba39689-2572-4cb5-9d6c-37eb57d93c1e",
   "metadata": {},
   "outputs": [
    {
     "name": "stdout",
     "output_type": "stream",
     "text": [
      "Your browser has been opened to visit:\n",
      "\n",
      "    https://accounts.google.com/o/oauth2/auth?client_id=1096764895697-57btfmtn7rdejufct5qq4j9mi61j0unl.apps.googleusercontent.com&redirect_uri=http%3A%2F%2Flocalhost%3A8080%2F&scope=https%3A%2F%2Fwww.googleapis.com%2Fauth%2Fdrive&access_type=offline&response_type=code\n",
      "\n",
      "Authentication successful.\n"
     ]
    }
   ],
   "source": [
    "# CONEXION A GOOGLE DRIVE\n",
    "from pydrive.auth import GoogleAuth\n",
    "from pydrive.drive import GoogleDrive\n",
    "\n",
    "gauth = GoogleAuth()\n",
    "gauth.LocalWebserverAuth() # client_secrets.json need to be in the same directory as the script\n",
    "drive = GoogleDrive(gauth)"
   ]
  },
  {
   "cell_type": "code",
   "execution_count": 14,
   "id": "bb3df96d-aeac-44cc-bb74-a0fe59109a0b",
   "metadata": {},
   "outputs": [
    {
     "name": "stdout",
     "output_type": "stream",
     "text": [
      "18 informes\n"
     ]
    },
    {
     "data": {
      "text/plain": [
       "{4: '10697_ECP_28-03-2023_PAZ REA JAIME EDUARDO _4.pdf',\n",
       " 101: '2446_ECP_16-05-2023_CORDOVA SEJAS ALCIDES _101.pdf',\n",
       " 11: '3400_ECP_30-03-2023_ESPINOZA AGUILAR JAIME OMAR _11.pdf',\n",
       " 106: '3469_ECP_22-05-2023_ENRIQUEZ PAICHUCAMA SIMON _106.pdf',\n",
       " 104: '4171_ECP_19-05-2023_FRITZER CUELLAR SAMIR EDUARDO _104.pdf',\n",
       " 7: '515_ECP_29-03-2023_AGUILERA OLGA RIVERO VDA. DE _7.pdf',\n",
       " 100: '556_ECP_16-05-2023_AYALA ESPINOSA WALDO SELUB_100.pdf',\n",
       " 12: '556_ECP_30-03-2023_AYALA ESPINOSA WALDO SELUB_12.pdf',\n",
       " 10: '594_ECP_30-03-2023_AGROPECUARIA FLAMBOYAN_10.pdf',\n",
       " 5: '75_ECP_28-03-2023_AGUILERA TARADELLES NELSON MARIANO _5.pdf',\n",
       " 6: '75_ECP_28-03-2023_AGUILERA TARADELLES NELSON MARIANO _6.pdf',\n",
       " 13: '765_ECP_31-03-2023_AGROP. CATALA S.R.L._13.pdf',\n",
       " 14: '765_ECP_31-03-2023_AGROP. CATALA S.R.L._14.pdf',\n",
       " 15: '765_ECP_31-03-2023_AGROP. CATALA S.R.L._15.pdf',\n",
       " 16: '765_ECP_31-03-2023_AGROP. CATALA S.R.L._16.pdf',\n",
       " 8: '8009_ECP_29-03-2023_ESPINOZA AGUILAR DAVID_8.pdf',\n",
       " 9: '8009_ECP_29-03-2023_ESPINOZA AGUILAR DAVID_9.pdf',\n",
       " 17: '805_ECP_31-03-2023_AGROP. TRES HNOS DEL ORIENTE_17.pdf'}"
      ]
     },
     "execution_count": 14,
     "metadata": {},
     "output_type": "execute_result"
    }
   ],
   "source": [
    "contenido = os.listdir(ruta + r'//pdf')\n",
    "dic_files = {}\n",
    "for file in contenido:\n",
    "    split = file.split('_')\n",
    "    cod = split[-1].split('.')\n",
    "    dic_files[int(cod[0])] = file\n",
    "print(len(dic_files), 'informes')\n",
    "dic_files"
   ]
  },
  {
   "cell_type": "code",
   "execution_count": 15,
   "id": "351bcc29-3a83-4785-8b79-29d35efefbba",
   "metadata": {},
   "outputs": [
    {
     "name": "stdout",
     "output_type": "stream",
     "text": [
      "Created file 10697_ECP_28-03-2023_PAZ REA JAIME EDUARDO _4.pdf with mimeType application/pdf\n",
      "Created file 2446_ECP_16-05-2023_CORDOVA SEJAS ALCIDES _101.pdf with mimeType application/pdf\n",
      "Created file 3400_ECP_30-03-2023_ESPINOZA AGUILAR JAIME OMAR _11.pdf with mimeType application/pdf\n",
      "Created file 3469_ECP_22-05-2023_ENRIQUEZ PAICHUCAMA SIMON _106.pdf with mimeType application/pdf\n",
      "Created file 4171_ECP_19-05-2023_FRITZER CUELLAR SAMIR EDUARDO _104.pdf with mimeType application/pdf\n",
      "Created file 515_ECP_29-03-2023_AGUILERA OLGA RIVERO VDA. DE _7.pdf with mimeType application/pdf\n",
      "Created file 556_ECP_16-05-2023_AYALA ESPINOSA WALDO SELUB_100.pdf with mimeType application/pdf\n",
      "Created file 556_ECP_30-03-2023_AYALA ESPINOSA WALDO SELUB_12.pdf with mimeType application/pdf\n",
      "Created file 594_ECP_30-03-2023_AGROPECUARIA FLAMBOYAN_10.pdf with mimeType application/pdf\n",
      "Created file 75_ECP_28-03-2023_AGUILERA TARADELLES NELSON MARIANO _5.pdf with mimeType application/pdf\n",
      "Created file 75_ECP_28-03-2023_AGUILERA TARADELLES NELSON MARIANO _6.pdf with mimeType application/pdf\n",
      "Created file 765_ECP_31-03-2023_AGROP. CATALA S.R.L._13.pdf with mimeType application/pdf\n",
      "Created file 765_ECP_31-03-2023_AGROP. CATALA S.R.L._14.pdf with mimeType application/pdf\n",
      "Created file 765_ECP_31-03-2023_AGROP. CATALA S.R.L._15.pdf with mimeType application/pdf\n",
      "Created file 765_ECP_31-03-2023_AGROP. CATALA S.R.L._16.pdf with mimeType application/pdf\n",
      "Created file 8009_ECP_29-03-2023_ESPINOZA AGUILAR DAVID_8.pdf with mimeType application/pdf\n",
      "Created file 8009_ECP_29-03-2023_ESPINOZA AGUILAR DAVID_9.pdf with mimeType application/pdf\n",
      "Created file 805_ECP_31-03-2023_AGROP. TRES HNOS DEL ORIENTE_17.pdf with mimeType application/pdf\n",
      "end\n"
     ]
    }
   ],
   "source": [
    "# CARGAR LOS PDFS A GOOGLE DRIVE\n",
    "dic_urls = {}\n",
    "# View all folders and file in your Google Drive\n",
    "fileList = drive.ListFile({'q': \"'root' in parents and trashed=false\"}).GetList()\n",
    "for file in fileList:\n",
    "  #print('Title: %s, ID: %s' % (file['title'], file['id']))\n",
    "  # Get the folder ID that you want\n",
    "  if(file['title'] == \"EVAL_MANTENIMIENTO_PREVENTIVO\"):\n",
    "      fileID = file['id']\n",
    "\n",
    "for file in dic_files:\n",
    "    file1 = drive.CreateFile({\"mimeType\": \"application/pdf\", \"parents\": [{\"kind\": \"drive#fileLink\", \"id\": fileID}]})\n",
    "    file1['title'] = dic_files[file]\n",
    "    file1.SetContentFile(ruta + r'//pdf//' + dic_files[file])\n",
    "    file1.Upload() # Upload the file.\n",
    "    print('Created file %s with mimeType %s' % (file1['title'], file1['mimeType']))\n",
    "    permission = file1.InsertPermission({\n",
    "                        'type': 'anyone',\n",
    "                        'value': 'anyone',\n",
    "                        'role': 'reader'})\n",
    "    dic_urls[file] = file1['alternateLink']\n",
    "dic_urls\n",
    "print('end')"
   ]
  },
  {
   "cell_type": "code",
   "execution_count": 16,
   "id": "e2421c3d-1224-4ab5-b0a4-1c8f5a45d7e6",
   "metadata": {},
   "outputs": [
    {
     "data": {
      "text/plain": [
       "{4: 'https://drive.google.com/file/d/17EN7o9XlI_B0MMxgF6A4ysxM8Xb3qFbE/view?usp=drivesdk',\n",
       " 101: 'https://drive.google.com/file/d/171V_Vyj64mwClHTegfnuEcNnUKaRBMzH/view?usp=drivesdk',\n",
       " 11: 'https://drive.google.com/file/d/1hV4HtR8qkWnFCgGxgGo8WeJcbBACM9Km/view?usp=drivesdk',\n",
       " 106: 'https://drive.google.com/file/d/1VKmPKTtlxTgg6OKFNtf2BkFfTLzxjOPO/view?usp=drivesdk',\n",
       " 104: 'https://drive.google.com/file/d/1kfY8z4KAMp3DJlBgcaMXyY4ALCqSsQyb/view?usp=drivesdk',\n",
       " 7: 'https://drive.google.com/file/d/1QbxaV65PdH6CrRXkTgS85HWxAnimPf5R/view?usp=drivesdk',\n",
       " 100: 'https://drive.google.com/file/d/1h31FtHkdLEym5l5ay7quu4KWRDqYRAQJ/view?usp=drivesdk',\n",
       " 12: 'https://drive.google.com/file/d/1FZAipYso_zgkrXZgfbUBBJuL2amRHplk/view?usp=drivesdk',\n",
       " 10: 'https://drive.google.com/file/d/10hwJHTow5qFwQpXOId-7gJZe2ISME-e8/view?usp=drivesdk',\n",
       " 5: 'https://drive.google.com/file/d/1WPi8uKpg-YGPcaJxNKjhhagFk7Y_fRKU/view?usp=drivesdk',\n",
       " 6: 'https://drive.google.com/file/d/1XnUrq5FxqjIIdXjL6yu2YSusac4fePcd/view?usp=drivesdk',\n",
       " 13: 'https://drive.google.com/file/d/1mUj_tUbN02FOxz1GlhBUBXwzt6E9ylnj/view?usp=drivesdk',\n",
       " 14: 'https://drive.google.com/file/d/11xjgeyO-ASs44KOaXX-4MRFf0qR4uStI/view?usp=drivesdk',\n",
       " 15: 'https://drive.google.com/file/d/1ecnTxwMZkZOd5LwbBNyF89weJi4D99dD/view?usp=drivesdk',\n",
       " 16: 'https://drive.google.com/file/d/19Xl7PJqxlaOUdRCQNqv5WkCxj2FQVzIa/view?usp=drivesdk',\n",
       " 8: 'https://drive.google.com/file/d/1YGW6uQedBfM6FTnkBMMpgifUHY-sgPQM/view?usp=drivesdk',\n",
       " 9: 'https://drive.google.com/file/d/1LvkQA5kw-o2noM1d0BOlhTZBat6uM_og/view?usp=drivesdk',\n",
       " 17: 'https://drive.google.com/file/d/1eUKIadzNfaPV-vKOZe1ngkh6ljCWT79q/view?usp=drivesdk'}"
      ]
     },
     "execution_count": 16,
     "metadata": {},
     "output_type": "execute_result"
    }
   ],
   "source": [
    "dic_urls"
   ]
  },
  {
   "cell_type": "code",
   "execution_count": null,
   "id": "ad8261da-04a7-4780-92fc-ec6a543b3cfc",
   "metadata": {},
   "outputs": [],
   "source": []
  },
  {
   "cell_type": "code",
   "execution_count": 17,
   "id": "40d78acf-b013-4927-854a-e69b55eceae2",
   "metadata": {},
   "outputs": [
    {
     "name": "stdout",
     "output_type": "stream",
     "text": [
      "4\n",
      "101\n",
      "11\n",
      "106\n",
      "104\n",
      "7\n",
      "100\n",
      "12\n",
      "10\n",
      "5\n",
      "6\n",
      "13\n",
      "14\n",
      "15\n",
      "16\n",
      "8\n",
      "9\n",
      "17\n",
      "end\n"
     ]
    }
   ],
   "source": [
    "for key in dic_urls:\n",
    "    query = {'query': 'update dataset_315614 set link_reporte = \\'{link}\\' where id = {cod}'.format(link=dic_urls[key], cod=key)}\n",
    "    res = amigocloud.post('https://app.amigocloud.com/api/v1/projects/32920/sql', query)\n",
    "    print(key)\n",
    "print('end')"
   ]
  },
  {
   "cell_type": "code",
   "execution_count": null,
   "id": "93c5428b-8d01-4e26-a2e2-43ffc9083522",
   "metadata": {},
   "outputs": [],
   "source": []
  },
  {
   "cell_type": "code",
   "execution_count": null,
   "id": "7f49435a-ad06-4549-a781-290fb62e610b",
   "metadata": {},
   "outputs": [],
   "source": []
  },
  {
   "cell_type": "code",
   "execution_count": null,
   "id": "f2a7e520-9cf6-403a-8dac-160bd2a7c557",
   "metadata": {},
   "outputs": [],
   "source": []
  },
  {
   "cell_type": "code",
   "execution_count": null,
   "id": "c9994fab-efdf-4e5b-aa47-87dc6f94eac8",
   "metadata": {},
   "outputs": [],
   "source": []
  }
 ],
 "metadata": {
  "kernelspec": {
   "display_name": "Python 3 (ipykernel)",
   "language": "python",
   "name": "python3"
  },
  "language_info": {
   "codemirror_mode": {
    "name": "ipython",
    "version": 3
   },
   "file_extension": ".py",
   "mimetype": "text/x-python",
   "name": "python",
   "nbconvert_exporter": "python",
   "pygments_lexer": "ipython3",
   "version": "3.7.16"
  }
 },
 "nbformat": 4,
 "nbformat_minor": 5
}
