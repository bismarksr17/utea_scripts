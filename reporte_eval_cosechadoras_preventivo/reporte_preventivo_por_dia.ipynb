{
 "cells": [
  {
   "cell_type": "code",
   "execution_count": 1,
   "id": "ca1f8ad4-9e51-4d98-9296-e67e1e2f399f",
   "metadata": {},
   "outputs": [],
   "source": [
    "import time"
   ]
  },
  {
   "cell_type": "code",
   "execution_count": 2,
   "id": "16edd055-3434-40bb-846f-f4eb6a4763fa",
   "metadata": {
    "tags": []
   },
   "outputs": [],
   "source": [
    "from werkzeug.wrappers import Request, Response\n",
    "#from flask import Flask, render_template\n",
    "from jinja2 import Template\n",
    "\n",
    "#from datetime import date\n",
    "from datetime import datetime, timedelta\n",
    "\n",
    "import collections\n",
    "from amigocloud import AmigoCloud\n",
    "\n",
    "from datetime import datetime\n",
    "\n",
    "from docxtpl import DocxTemplate\n",
    "import docxtpl\n",
    "from docx.shared import Mm\n",
    "import requests\n",
    "\n",
    "from docx2pdf import convert\n",
    "import os"
   ]
  },
  {
   "cell_type": "code",
   "execution_count": 3,
   "id": "8454e3f8-e1f3-457a-a06e-25bc4598c84f",
   "metadata": {},
   "outputs": [],
   "source": [
    "def get_log_time():\n",
    "    return datetime.now().strftime('%H:%M:%S %d/%m/%Y')"
   ]
  },
  {
   "cell_type": "code",
   "execution_count": 4,
   "id": "7ef1ba39-1f94-4427-a8da-3ac6e5c6fe10",
   "metadata": {
    "tags": []
   },
   "outputs": [
    {
     "name": "stdout",
     "output_type": "stream",
     "text": [
      "09:44:04 01/06/2023 > Estableciento conexion a base de datos...\n"
     ]
    },
    {
     "name": "stderr",
     "output_type": "stream",
     "text": [
      "WARNING:socketIO-client:app.amigocloud.com:443/v2_socket.io/socket.io [connection error] recv disconnected by SSL ([SSL: SSLV3_ALERT_BAD_RECORD_MAC] sslv3 alert bad record mac (_ssl.c:2570))\n"
     ]
    },
    {
     "name": "stdout",
     "output_type": "stream",
     "text": [
      "09:44:12 01/06/2023 > Base de datos conectado...!!!\n"
     ]
    }
   ],
   "source": [
    "# ruta de carpera donde estan las llaves\n",
    "print(get_log_time(), '> Estableciento conexion a base de datos...')\n",
    "ruta = open('../ruta.txt')\n",
    "ruta = ruta.readlines()[0]\n",
    "# leer token\n",
    "acceso = open(ruta + '/_keys/api_amigocloud.key','r')\n",
    "api_token = acceso.readlines()[0]\n",
    "acceso.close()\n",
    "amigocloud = AmigoCloud(token=api_token)\n",
    "amigocloud\n",
    "print(get_log_time(), '> Base de datos conectado...!!!')"
   ]
  },
  {
   "cell_type": "code",
   "execution_count": 5,
   "id": "d290b5df-103b-4f47-9dd3-586e4ba80c34",
   "metadata": {
    "tags": []
   },
   "outputs": [
    {
     "name": "stdout",
     "output_type": "stream",
     "text": [
      "09:44:15 01/06/2023 > Buscando nuevos registros...\n",
      "09:44:15 01/06/2023 > Nuevos registros encontrados: 1\n"
     ]
    }
   ],
   "source": [
    "fecha = '2023-05-31'\n",
    "print(get_log_time() , '> Buscando nuevos registros...')\n",
    "query_dia = {'query': 'select id, canhero from dataset_315614 where date(fecha_de_registro) = \\'{fech}\\' order by id'.format(fech=fecha)}\n",
    "project = 'https://app.amigocloud.com/api/v1/projects/32920/sql'\n",
    "select_dia = amigocloud.get(project, query_dia)\n",
    "data_dia = select_dia['data']\n",
    "print(get_log_time(), '> Nuevos registros encontrados:', len(data_dia))"
   ]
  },
  {
   "cell_type": "code",
   "execution_count": 6,
   "id": "cb5ac061-b6e4-41ac-93df-9ad60d712451",
   "metadata": {},
   "outputs": [
    {
     "data": {
      "text/plain": [
       "[{'id': 110, 'canhero': '13012 / SALAZAR ARNEZ LIDER '}]"
      ]
     },
     "execution_count": 6,
     "metadata": {},
     "output_type": "execute_result"
    }
   ],
   "source": [
    "data_dia"
   ]
  },
  {
   "cell_type": "code",
   "execution_count": 7,
   "id": "c8049e93-6830-4297-b9a8-f0f3fbe4db49",
   "metadata": {
    "tags": []
   },
   "outputs": [
    {
     "name": "stdout",
     "output_type": "stream",
     "text": [
      "09:44:21 01/06/2023 Inicio generar reporte: Eval. Preventivo de cosechadoras: [{'id': 110, 'canhero': '13012 / SALAZAR ARNEZ LIDER '}]\n",
      "09:44:22 01/06/2023 Descargando imagenes...\n",
      "09:44:59 01/06/2023 Reporte creado: _ 13012_ECP_31-05-2023_SALAZAR ARNEZ LIDER _110\n",
      "-------------------FIN\n"
     ]
    }
   ],
   "source": [
    "for reg in data_dia:\n",
    "    print(get_log_time(), 'Inicio generar reporte: Eval. Preventivo de cosechadoras:', data_dia)\n",
    "    id_insp = reg['id']\n",
    "    # DATOS DE LAS INPECCION\n",
    "    query = {'query': 'select * from dataset_315614 where id={id_insp}'.format(id_insp=id_insp)}\n",
    "    project = 'https://app.amigocloud.com/api/v1/projects/32920/sql'\n",
    "    select = amigocloud.get(project, query)\n",
    "    data = select['data'][0]\n",
    "\n",
    "    # convertir fecha a formato dd/mm/aaaa\n",
    "    data['fecha_de_registro'] = datetime.strptime(data['fecha_de_registro'][0:10], '%Y-%m-%d').strftime('%d/%m/%Y')\n",
    "\n",
    "    # los campos booleanos tiene formacto 'num_num', esto no es admitido para convertir a objeto\n",
    "    # se modifica el dict para agregar 'k_' al inicio de todas llaves\n",
    "    data = {'k_'+key : value for (key, value) in data.items()}\n",
    "    insp = collections.namedtuple(\"insp\", data.keys())(*data.values())\n",
    "    \n",
    "    # FOTOS\n",
    "    query_fotos = {'query': 'select gal.s3_filename, fot.obs from dataset_315689 fot\\\n",
    "                                inner join gallery_48937 gal on fot.amigo_id=gal.source_amigo_id\\\n",
    "                                where fot.insp_ref_fot=\\'{id}\\''.format(id=insp.k_amigo_id)}\n",
    "    project = 'https://app.amigocloud.com/api/v1/projects/32920/sql'\n",
    "    fotos = amigocloud.get(project, query_fotos)['data']\n",
    "    \n",
    "    # CREAR REPORTE\n",
    "    doc = DocxTemplate(ruta + '/templates/tpl_insp_cosechadoras-preventivo.docx')\n",
    "    #descargar fotos y generar lista InlineImage\n",
    "    print(get_log_time(), 'Descargando imagenes...')\n",
    "    lista_fotos_inline = []\n",
    "    for foto in fotos:\n",
    "        response = requests.get(\"https://www-amigocloud.s3.amazonaws.com/gallery/\" + foto['s3_filename'])\n",
    "        file = open(ruta + '/fotos/' + foto['s3_filename'], \"wb\")\n",
    "        file.write(response.content)\n",
    "        file.close()\n",
    "        lista_fotos_inline.append({\n",
    "            'foto': docxtpl.InlineImage(doc, image_descriptor= ruta + '/fotos/' + foto['s3_filename'], width=Mm(80)),\n",
    "            'obs': foto['obs']\n",
    "        })\n",
    "    context = {'insp':insp, 'fotos':lista_fotos_inline}\n",
    "    #context = {'insp':insp}\n",
    "    doc.render(context)\n",
    "    # formato de nombre de archivo: \"123_CQ_01-01-2022_NOMBRE\"\n",
    "    cod_nom = insp.k_canhero.split(' / ')\n",
    "    file_name = cod_nom[0] + '_ECP_' + insp.k_fecha_de_registro.replace('/','-') + '_' + cod_nom[1] + '_' + str(insp.k_id)\n",
    "    #doc.save(r'C:\\Users\\UTEA\\OneDrive - Ingenio Azucarero Guabira S.A (2)\\INFORMES\\IMFORMES PARA REVISAR\\\\' + file_name + '.docx')\n",
    "    doc.save(ruta + r'/informes/_' + file_name + '.docx')\n",
    "    print(get_log_time(), 'Reporte creado: _', file_name)\n",
    "print('-------------------FIN')"
   ]
  },
  {
   "cell_type": "code",
   "execution_count": null,
   "id": "b4c01bb4-cdd9-4859-827e-70747b7c4e00",
   "metadata": {},
   "outputs": [],
   "source": []
  },
  {
   "cell_type": "markdown",
   "id": "5d1bc773-bd0b-4cf1-88b4-c7b18fe0b053",
   "metadata": {},
   "source": [
    "## Convertir a PDF"
   ]
  },
  {
   "cell_type": "code",
   "execution_count": 25,
   "id": "3a194c6d-294f-4812-b069-9825caa5feaf",
   "metadata": {
    "tags": []
   },
   "outputs": [
    {
     "name": "stdout",
     "output_type": "stream",
     "text": [
      "SE ENCONTRARON 2 INFORMES\n",
      "2 INFORMES\n"
     ]
    },
    {
     "data": {
      "text/plain": [
       "['D:\\\\OneDrive - Ingenio Azucarero Guabira S.A\\\\_DATOS_PYTHON/informes/3400_ECP_24-05-2023_ESPINOZA AGUILAR JAIME OMAR _108.docx',\n",
       " 'D:\\\\OneDrive - Ingenio Azucarero Guabira S.A\\\\_DATOS_PYTHON/informes/3421_ECP_25-05-2023_ESPINOZA HURTADO ARMANDO_109.docx']"
      ]
     },
     "execution_count": 25,
     "metadata": {},
     "output_type": "execute_result"
    }
   ],
   "source": [
    "path = r'' + ruta + '/informes'\n",
    "contenido = os.listdir(path)\n",
    "rutas =[]\n",
    "i = 0\n",
    "for name in contenido:\n",
    "    rutas.append(path + '/' + name)\n",
    "    i+=1\n",
    "\n",
    "print('SE ENCONTRARON ' + str(i) + ' INFORMES')\n",
    "print(len(rutas), 'INFORMES')\n",
    "rutas"
   ]
  },
  {
   "cell_type": "code",
   "execution_count": 26,
   "id": "d2183ffa-4f32-4d4d-b7a1-315f1c32db9c",
   "metadata": {
    "tags": []
   },
   "outputs": [
    {
     "name": "stdout",
     "output_type": "stream",
     "text": [
      "CONVIRTIENDO... INFORME 1 D:\\OneDrive - Ingenio Azucarero Guabira S.A\\_DATOS_PYTHON/informes/3400_ECP_24-05-2023_ESPINOZA AGUILAR JAIME OMAR _108.docx\n",
      "D:\\OneDrive - Ingenio Azucarero Guabira S.A\\_DATOS_PYTHON/informes/3400_ECP_24-05-2023_ESPINOZA AGUILAR JAIME OMAR _108.docx\n",
      "D:\\OneDrive - Ingenio Azucarero Guabira S.A\\_DATOS_PYTHON/pdfs/3400_ECP_24-05-2023_ESPINOZA AGUILAR JAIME OMAR _108.pdf\n"
     ]
    },
    {
     "data": {
      "application/vnd.jupyter.widget-view+json": {
       "model_id": "fc4a52fdc7024c52bdd3c6eb9d9dae32",
       "version_major": 2,
       "version_minor": 0
      },
      "text/plain": [
       "  0%|          | 0/1 [00:00<?, ?it/s]"
      ]
     },
     "metadata": {},
     "output_type": "display_data"
    },
    {
     "name": "stdout",
     "output_type": "stream",
     "text": [
      "CONVIRTIENDO... INFORME 2 D:\\OneDrive - Ingenio Azucarero Guabira S.A\\_DATOS_PYTHON/informes/3421_ECP_25-05-2023_ESPINOZA HURTADO ARMANDO_109.docx\n",
      "D:\\OneDrive - Ingenio Azucarero Guabira S.A\\_DATOS_PYTHON/informes/3421_ECP_25-05-2023_ESPINOZA HURTADO ARMANDO_109.docx\n",
      "D:\\OneDrive - Ingenio Azucarero Guabira S.A\\_DATOS_PYTHON/pdfs/3421_ECP_25-05-2023_ESPINOZA HURTADO ARMANDO_109.pdf\n"
     ]
    },
    {
     "data": {
      "application/vnd.jupyter.widget-view+json": {
       "model_id": "cabfe77980024f9bb0ba99825b9964ac",
       "version_major": 2,
       "version_minor": 0
      },
      "text/plain": [
       "  0%|          | 0/1 [00:00<?, ?it/s]"
      ]
     },
     "metadata": {},
     "output_type": "display_data"
    },
    {
     "name": "stdout",
     "output_type": "stream",
     "text": [
      "END\n"
     ]
    }
   ],
   "source": [
    "i = 1\n",
    "for filename in rutas:\n",
    "    print('CONVIRTIENDO... INFORME ' + str(i) + ' ' + filename)\n",
    "    # se realiza la convrsion pasando parametro de salida y entrada, \n",
    "    # para la salida se reemplaza la extencion y la ruta\n",
    "    print(filename)\n",
    "    print(filename.replace('.docx','.pdf').replace('informes','pdfs'))\n",
    "    pdf = filename.replace('.docx','.pdf').replace('informes','pdfs').split('/')[-1]\n",
    "    convert(filename, r'C:\\Users\\UTEA\\Downloads\\\\' + pdf)\n",
    "    i+=1\n",
    "print('END')"
   ]
  },
  {
   "cell_type": "code",
   "execution_count": null,
   "id": "ba7b6689-c073-408f-9a2c-227bbbae700c",
   "metadata": {},
   "outputs": [],
   "source": []
  },
  {
   "cell_type": "markdown",
   "id": "85030b5d-eeef-4b99-81b3-b0b31880b4e6",
   "metadata": {},
   "source": [
    "## SUBIR A DRIVE"
   ]
  },
  {
   "cell_type": "code",
   "execution_count": 8,
   "id": "fba39689-2572-4cb5-9d6c-37eb57d93c1e",
   "metadata": {},
   "outputs": [
    {
     "name": "stdout",
     "output_type": "stream",
     "text": [
      "Your browser has been opened to visit:\n",
      "\n",
      "    https://accounts.google.com/o/oauth2/auth?client_id=1096764895697-57btfmtn7rdejufct5qq4j9mi61j0unl.apps.googleusercontent.com&redirect_uri=http%3A%2F%2Flocalhost%3A8080%2F&scope=https%3A%2F%2Fwww.googleapis.com%2Fauth%2Fdrive&access_type=offline&response_type=code\n",
      "\n",
      "Authentication successful.\n"
     ]
    }
   ],
   "source": [
    "# CONEXION A GOOGLE DRIVE\n",
    "from pydrive.auth import GoogleAuth\n",
    "from pydrive.drive import GoogleDrive\n",
    "\n",
    "gauth = GoogleAuth()\n",
    "gauth.LocalWebserverAuth() # client_secrets.json need to be in the same directory as the script\n",
    "drive = GoogleDrive(gauth)"
   ]
  },
  {
   "cell_type": "code",
   "execution_count": 9,
   "id": "bb3df96d-aeac-44cc-bb74-a0fe59109a0b",
   "metadata": {},
   "outputs": [
    {
     "name": "stdout",
     "output_type": "stream",
     "text": [
      "1 informes\n"
     ]
    },
    {
     "data": {
      "text/plain": [
       "{110: '13012_ECP_31-05-2023_SALAZAR ARNEZ LIDER _110.pdf'}"
      ]
     },
     "execution_count": 9,
     "metadata": {},
     "output_type": "execute_result"
    }
   ],
   "source": [
    "contenido = os.listdir(ruta + r'//pdf')\n",
    "dic_files = {}\n",
    "for file in contenido:\n",
    "    split = file.split('_')\n",
    "    cod = split[-1].split('.')\n",
    "    dic_files[int(cod[0])] = file\n",
    "print(len(dic_files), 'informes')\n",
    "dic_files"
   ]
  },
  {
   "cell_type": "code",
   "execution_count": 10,
   "id": "351bcc29-3a83-4785-8b79-29d35efefbba",
   "metadata": {},
   "outputs": [
    {
     "name": "stdout",
     "output_type": "stream",
     "text": [
      "Created file 13012_ECP_31-05-2023_SALAZAR ARNEZ LIDER _110.pdf with mimeType application/pdf\n",
      "end\n"
     ]
    }
   ],
   "source": [
    "# CARGAR LOS PDFS A GOOGLE DRIVE\n",
    "dic_urls = {}\n",
    "# View all folders and file in your Google Drive\n",
    "fileList = drive.ListFile({'q': \"'root' in parents and trashed=false\"}).GetList()\n",
    "for file in fileList:\n",
    "  #print('Title: %s, ID: %s' % (file['title'], file['id']))\n",
    "  # Get the folder ID that you want\n",
    "  if(file['title'] == \"EVAL_MANTENIMIENTO_PREVENTIVO\"):\n",
    "      fileID = file['id']\n",
    "\n",
    "for file in dic_files:\n",
    "    file1 = drive.CreateFile({\"mimeType\": \"application/pdf\", \"parents\": [{\"kind\": \"drive#fileLink\", \"id\": fileID}]})\n",
    "    file1['title'] = dic_files[file]\n",
    "    file1.SetContentFile(ruta + r'//pdf//' + dic_files[file])\n",
    "    file1.Upload() # Upload the file.\n",
    "    print('Created file %s with mimeType %s' % (file1['title'], file1['mimeType']))\n",
    "    permission = file1.InsertPermission({\n",
    "                        'type': 'anyone',\n",
    "                        'value': 'anyone',\n",
    "                        'role': 'reader'})\n",
    "    dic_urls[file] = file1['alternateLink']\n",
    "dic_urls\n",
    "print('end')"
   ]
  },
  {
   "cell_type": "code",
   "execution_count": 11,
   "id": "e2421c3d-1224-4ab5-b0a4-1c8f5a45d7e6",
   "metadata": {},
   "outputs": [
    {
     "data": {
      "text/plain": [
       "{110: 'https://drive.google.com/file/d/1E34b7iPuCyvx8tUYSGiLl_z8To4_c0PD/view?usp=drivesdk'}"
      ]
     },
     "execution_count": 11,
     "metadata": {},
     "output_type": "execute_result"
    }
   ],
   "source": [
    "dic_urls"
   ]
  },
  {
   "cell_type": "code",
   "execution_count": 12,
   "id": "40d78acf-b013-4927-854a-e69b55eceae2",
   "metadata": {},
   "outputs": [
    {
     "name": "stdout",
     "output_type": "stream",
     "text": [
      "110\n",
      "end\n"
     ]
    }
   ],
   "source": [
    "for key in dic_urls:\n",
    "    query = {'query': 'update dataset_315614 set link_reporte = \\'{link}\\' where id = {cod}'.format(link=dic_urls[key], cod=key)}\n",
    "    res = amigocloud.post('https://app.amigocloud.com/api/v1/projects/32920/sql', query)\n",
    "    print(key)\n",
    "print('end')"
   ]
  },
  {
   "cell_type": "code",
   "execution_count": null,
   "id": "93c5428b-8d01-4e26-a2e2-43ffc9083522",
   "metadata": {},
   "outputs": [],
   "source": []
  },
  {
   "cell_type": "code",
   "execution_count": null,
   "id": "7f49435a-ad06-4549-a781-290fb62e610b",
   "metadata": {},
   "outputs": [],
   "source": []
  },
  {
   "cell_type": "code",
   "execution_count": null,
   "id": "f2a7e520-9cf6-403a-8dac-160bd2a7c557",
   "metadata": {},
   "outputs": [],
   "source": []
  },
  {
   "cell_type": "code",
   "execution_count": null,
   "id": "f2db4a55-0ca3-4f52-b795-4dc5c1e563b0",
   "metadata": {},
   "outputs": [],
   "source": []
  },
  {
   "cell_type": "code",
   "execution_count": null,
   "id": "da5a4896-d448-4ad8-a10b-6eb470d44df9",
   "metadata": {},
   "outputs": [],
   "source": []
  },
  {
   "cell_type": "code",
   "execution_count": null,
   "id": "dd00d25b-0505-4be3-8792-a20dc3b0ad98",
   "metadata": {},
   "outputs": [],
   "source": []
  },
  {
   "cell_type": "code",
   "execution_count": null,
   "id": "4d0c3ad0-8556-4c33-b9b5-82c9b839a173",
   "metadata": {},
   "outputs": [],
   "source": []
  },
  {
   "cell_type": "code",
   "execution_count": null,
   "id": "2e95f25b-a659-42de-bba8-7dfc29725cab",
   "metadata": {},
   "outputs": [],
   "source": []
  },
  {
   "cell_type": "code",
   "execution_count": 25,
   "id": "d2f4e3a8-4a93-428e-8f24-eeed64ff9982",
   "metadata": {},
   "outputs": [],
   "source": [
    "def get_new_data():\n",
    "    print(get_log_time() , '> Buscando nuevos registros...')\n",
    "    query_dia = {'query': 'select id, canhero from dataset_315614 where link_reporte = \\'\\' or link_reporte is null'}\n",
    "    project = 'https://app.amigocloud.com/api/v1/projects/32920/sql'\n",
    "    select_dia = amigocloud.get(project, query_dia)\n",
    "    data_dia = select_dia['data']\n",
    "    print(get_log_time(), '> Nuevos registros encontrados:', len(data_dia))"
   ]
  },
  {
   "cell_type": "code",
   "execution_count": 26,
   "id": "c9994fab-efdf-4e5b-aa47-87dc6f94eac8",
   "metadata": {},
   "outputs": [
    {
     "name": "stdout",
     "output_type": "stream",
     "text": [
      "10:47:56 29/05/2023 > Buscando nuevos registros...\n",
      "10:48:26 29/05/2023 > Nuevos registros encontrados: 1\n"
     ]
    }
   ],
   "source": [
    "get_new_data()"
   ]
  },
  {
   "cell_type": "code",
   "execution_count": null,
   "id": "ab3f862b-c70c-43ff-8b02-626f94cf63f4",
   "metadata": {},
   "outputs": [],
   "source": []
  },
  {
   "cell_type": "code",
   "execution_count": null,
   "id": "347018f6-3ce0-430b-81ea-fc67c51c395c",
   "metadata": {},
   "outputs": [],
   "source": [
    "while True:\n",
    "    \n",
    "    time.sleep()"
   ]
  },
  {
   "cell_type": "code",
   "execution_count": null,
   "id": "be16231d-4767-49a9-8526-b518f0696923",
   "metadata": {},
   "outputs": [],
   "source": []
  },
  {
   "cell_type": "code",
   "execution_count": null,
   "id": "f5647fc2-8563-4094-90d4-879bc1425b90",
   "metadata": {},
   "outputs": [],
   "source": []
  }
 ],
 "metadata": {
  "kernelspec": {
   "display_name": "Python 3 (ipykernel)",
   "language": "python",
   "name": "python3"
  },
  "language_info": {
   "codemirror_mode": {
    "name": "ipython",
    "version": 3
   },
   "file_extension": ".py",
   "mimetype": "text/x-python",
   "name": "python",
   "nbconvert_exporter": "python",
   "pygments_lexer": "ipython3",
   "version": "3.7.16"
  }
 },
 "nbformat": 4,
 "nbformat_minor": 5
}
