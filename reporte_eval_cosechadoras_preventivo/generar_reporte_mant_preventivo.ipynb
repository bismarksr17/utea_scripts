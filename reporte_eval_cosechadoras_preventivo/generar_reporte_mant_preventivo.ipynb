{
 "cells": [
  {
   "cell_type": "code",
   "execution_count": 1,
   "id": "0002d6bb-7b0b-4a99-ab49-630ccc00f345",
   "metadata": {},
   "outputs": [],
   "source": [
    "import sys\n",
    "sys.path.append('../_amigocloud')"
   ]
  },
  {
   "cell_type": "code",
   "execution_count": 2,
   "id": "6429d69b-0c56-4969-a221-bd645e970f9f",
   "metadata": {},
   "outputs": [],
   "source": [
    "import collections\n",
    "from amigocloud import AmigoCloud\n",
    "from datetime import datetime\n",
    "from docxtpl import DocxTemplate\n",
    "import docxtpl\n",
    "from docx.shared import Mm\n",
    "import requests\n",
    "import qrcode"
   ]
  },
  {
   "cell_type": "code",
   "execution_count": 3,
   "id": "5707fc87-76a7-4d99-9915-01f1fecf57c5",
   "metadata": {},
   "outputs": [
    {
     "data": {
      "text/plain": [
       "<amigocloud.AmigoCloud at 0x1cca7b99a20>"
      ]
     },
     "execution_count": 3,
     "metadata": {},
     "output_type": "execute_result"
    }
   ],
   "source": [
    "# ruta de carpera donde estan las llaves\n",
    "ruta = open('../ruta.txt')\n",
    "ruta = ruta.readlines()[0]\n",
    "# leer token\n",
    "acceso = open(ruta + '/_keys/api_amigocloud.key','r')\n",
    "api_token = acceso.readlines()[0]\n",
    "acceso.close()\n",
    "amigocloud = AmigoCloud(token=api_token)\n",
    "amigocloud"
   ]
  },
  {
   "cell_type": "code",
   "execution_count": 4,
   "id": "65da3f19-387d-49d9-a765-0f7bee36f0ff",
   "metadata": {},
   "outputs": [],
   "source": [
    "# variables globales\n",
    "id_proyecto = 34080"
   ]
  },
  {
   "cell_type": "markdown",
   "id": "0da14712-01f7-4573-8a41-fd176a6663be",
   "metadata": {},
   "source": [
    "## convertir formato de fecha"
   ]
  },
  {
   "cell_type": "code",
   "execution_count": 5,
   "id": "d34ff263-66b8-4f44-8862-1e4008807b1d",
   "metadata": {},
   "outputs": [],
   "source": [
    "# convierte de formato YYYY-mm-dd H:M:S+z a d/m/YYYY\n",
    "def convertir_formato_fecha(fecha):\n",
    "    new_formato = datetime.strptime(fecha, \"%Y-%m-%d %H:%M:%S%z\").strftime(\"%d/%m/%Y\")\n",
    "    return new_formato"
   ]
  },
  {
   "cell_type": "markdown",
   "id": "e850311a-e2c1-45e4-9b5b-e83c6e854812",
   "metadata": {
    "tags": []
   },
   "source": [
    "## ejecutar query"
   ]
  },
  {
   "cell_type": "code",
   "execution_count": 6,
   "id": "da1a2dd0-ab14-4b4a-8903-22709c201018",
   "metadata": {},
   "outputs": [],
   "source": [
    "# ejecuta cualquier query sql en el proyecto que se le indique\n",
    "# requiere el id de proyecto, query a ejecutar y tipo solicitud (get o post)\n",
    "def ejecutar_query_sql(id_project, query, tipo_sql):\n",
    "    # define la url del proyecto para ejecutar el querry\n",
    "    url_proyecto_sql = f'https://app.amigocloud.com/api/v1/projects/{id_project}/sql'\n",
    "    # crea la estructura de query para amigocloud\n",
    "    query_sql = {'query': query}\n",
    "    \n",
    "    resultado_get = ''\n",
    "    # eleige que tipo de solicitud se realizara (get o post)\n",
    "    if tipo_sql == 'get': \n",
    "        resultado_get = amigocloud.get(url_proyecto_sql, query_sql)\n",
    "    elif tipo_sql == 'post':\n",
    "        resultado_get = amigocloud.post(url_proyecto_sql, query_sql)\n",
    "    else:\n",
    "        resultado_get = 'Se a seleccionado un tipo de solicitud erroneo.'\n",
    "    return resultado_get"
   ]
  },
  {
   "cell_type": "markdown",
   "id": "9c5b9f8f-78ba-4f58-92ca-838ada78e236",
   "metadata": {},
   "source": [
    "## ejecuta query segun id_query (ejecucion de queryes de un proyecto)"
   ]
  },
  {
   "cell_type": "code",
   "execution_count": 1,
   "id": "a08d1117-eb5d-4a69-bd97-4001a39a255b",
   "metadata": {},
   "outputs": [],
   "source": [
    "# ejecuta un query que esta almacenado en un proyecto de amigocloud (generalmente un update),\n",
    "# requiere id de proyecto e id de query\n",
    "# retorna cuantas filas fueron afectadas\n",
    "def ejecutar_query_por_id(id_project, id_query):\n",
    "    # obtiene el query basado en el id_project y el id_query\n",
    "    get_query = amigocloud.get(f'https://app.amigocloud.com/api/v1/projects/{id_project}/queries/{id_query}')\n",
    "    # se extrae solo el texto del query\n",
    "    query = get_query['query']\n",
    "    # ejecuta el query_sql con metodo post y guarda la respuesta\n",
    "    respuesta_post = ejecutar_query_sql(id_proyecto, query, 'post')\n",
    "    # retorna el numero de filas afectadas por el query\n",
    "    return respuesta_post['count']"
   ]
  },
  {
   "cell_type": "markdown",
   "id": "0f721628-40fe-4256-86b6-4c06b5d59903",
   "metadata": {},
   "source": [
    "## generar qr"
   ]
  },
  {
   "cell_type": "code",
   "execution_count": 8,
   "id": "f03e7189-4a74-4106-a35a-fd56e779e4d1",
   "metadata": {},
   "outputs": [],
   "source": [
    "# genera un qr con datos texto que le se envie\n",
    "# requiere le texto de contenido, ruta donde se guardara el qr y nombre para guardar\n",
    "def generar_qr(contenido_qr, ruta_save, id_name):\n",
    "    # declara obj del qrocode\n",
    "    qr = qrcode.QRCode(\n",
    "        version=1,\n",
    "        error_correction=qrcode.constants.ERROR_CORRECT_L,\n",
    "        box_size=10,\n",
    "        border=4)\n",
    "    # se agrega el contenido del qr\n",
    "    qr.add_data(contenido_qr)\n",
    "    qr.make(fit=True)\n",
    "    # define colores del qr\n",
    "    img = qr.make_image(fill_color=\"black\", back_color=\"white\")\n",
    "    # define ruta y nombre para guardar el qr\n",
    "    ruta_qr = ruta_save + id_name + '.png'\n",
    "    # guardar el código QR en un archivo .png\n",
    "    img.save(ruta_qr)\n",
    "    # retorna la ruta del qr\n",
    "    return ruta_qr"
   ]
  },
  {
   "cell_type": "markdown",
   "id": "c9399f14-c90d-412f-9391-6a1a6577c210",
   "metadata": {},
   "source": [
    "## convertir un dict a obj"
   ]
  },
  {
   "cell_type": "code",
   "execution_count": 2,
   "id": "746d97fd-f640-4c9b-81fa-13a19dfec9e2",
   "metadata": {},
   "outputs": [],
   "source": [
    "# convierte un dict a un obj\n",
    "# recibe el dict y el nombre con el que se creara el obj\n",
    "def convertir_dict_obj(diccionario, name):\n",
    "    return collections.namedtuple(name, diccionario.keys())(*diccionario.values())"
   ]
  },
  {
   "cell_type": "markdown",
   "id": "3c1b61c2-6606-4f21-9620-784381b58a9d",
   "metadata": {},
   "source": [
    "## buscar fotos"
   ]
  },
  {
   "cell_type": "code",
   "execution_count": 10,
   "id": "60eb4c5f-c2fd-4c42-9d66-91adbac61e0b",
   "metadata": {},
   "outputs": [],
   "source": [
    "# busca las fotos en una galeria determinada, y que corresponda con un id\n",
    "# recibe el nombre de una galeria y el id correspondiente\n",
    "def buscar_fotos(galeria, source_id):\n",
    "    # se construye el query\n",
    "    query_sql = f\"select * from {galeria} where source_amigo_id='{source_id}'\"\n",
    "    # se ejecuta el query con un metodo get\n",
    "    respuesta = ejecutar_query_sql(id_proyecto, query_sql, 'get')\n",
    "    # retorna un json completo de las fotos encontradas\n",
    "    return respuesta"
   ]
  },
  {
   "cell_type": "markdown",
   "id": "5f472f28-cc27-451b-a482-b781da815518",
   "metadata": {},
   "source": [
    "## descargar la lista de fotos y convertir a inline"
   ]
  },
  {
   "cell_type": "code",
   "execution_count": 11,
   "id": "d68f55e7-a097-413c-9123-5561abde0e51",
   "metadata": {},
   "outputs": [],
   "source": [
    "# converir img en inline\n",
    "# recibe el documento sobre el que se agrega el inline, la ruta de la imagen, y en ancho de la imagen para agregar al doc\n",
    "def convertir_img_to_inline(docu, filename, ancho):\n",
    "    return docxtpl.InlineImage(docu, image_descriptor = filename, width=Mm(ancho))"
   ]
  },
  {
   "cell_type": "code",
   "execution_count": 12,
   "id": "f601376f-13c6-4464-b941-e9897e580796",
   "metadata": {},
   "outputs": [],
   "source": [
    "# descarga las fotos, las convierte en inline\n",
    "# recibe la lista de fotos (json, con estructura de galeria de amigocloud), ruta donde guardar las fotos y documento sobre el que se agrega los inline\n",
    "def descargar_convertir_fotos_inline(lista_fotos, ruta_save, documento):\n",
    "    # crea lista vacia para acumular las fotos inline\n",
    "    lista_fotos_inline = []\n",
    "    # recorre la lista de fotos (json)\n",
    "    for foto in lista_fotos:\n",
    "        # posos para descargar img\n",
    "        response = requests.get(\"https://www-amigocloud.s3.amazonaws.com/gallery/\" + foto['s3_filename'])\n",
    "        file_name = ruta_save + foto['s3_filename']\n",
    "        file = open(file_name, \"wb\")\n",
    "        file.write(response.content)\n",
    "        file.close()\n",
    "        # convertir imagen descargada a inline\n",
    "        inline_img = convertir_img_to_inline(documento, file_name, 60)\n",
    "        # agrega el inline a la lista\n",
    "        lista_fotos_inline.append(inline_img)\n",
    "    # retorna la lista inline\n",
    "    return lista_fotos_inline"
   ]
  },
  {
   "cell_type": "markdown",
   "id": "8c216077-61a7-4366-a11b-38934a39af78",
   "metadata": {},
   "source": [
    "## generar reporte"
   ]
  },
  {
   "cell_type": "code",
   "execution_count": 24,
   "id": "5adbbf37-f6e2-43a2-804e-0593ea3510c0",
   "metadata": {},
   "outputs": [],
   "source": [
    "def generar_reporte(id_insp):\n",
    "    # consulta para extraer los datos de inspeccion por id concreto\n",
    "    query = f'select ca.canhero, ca.maquina, ca.modelo, ca.codigo_maquina, ca.frente, insp.* from dataset_341171 insp\\\n",
    "        inner join dataset_341170 ca on ca.amigo_id=insp.maquina_ref_preven\\\n",
    "        where insp.id={id_insp}'\n",
    "    # ejecucion del query\n",
    "    select = ejecutar_query_sql(id_proyecto, query, 'get')\n",
    "    # verificar si se tiene valores para procesar\n",
    "    if (len(select['data']) > 0):\n",
    "        data = select['data'][0]\n",
    "    else:\n",
    "        print('Error, el registro de la evaluacion no tiene asigno maquina ni cañero asignado')\n",
    "        return\n",
    "    \n",
    "    # modificacion de la fecha a formato dd/mm/aaaa\n",
    "    data['fecha_registro'] = convertir_formato_fecha(data['fecha_registro'])\n",
    "\n",
    "    # modificacion del nombre de las claves, con una k_ por delante, por que los campos booblenos (1_1, 2_2, etc) no se pueden trabajar bien\n",
    "    data = {'k_'+key : value for (key, value) in data.items()}\n",
    "    # convertir data(dict) en data\n",
    "    insp = convertir_dict_obj(data, 'insp')\n",
    "\n",
    "    if insp.k_codigo_maquina is None:\n",
    "        print('Error, el registro de CAÑERO-MAQUINA no esta correcto, no tiene codigo maquina')\n",
    "        return\n",
    "    \n",
    "    # buscar todas las fotos de un id especifico\n",
    "    fotos_res = buscar_fotos('gallery_57490', insp.k_amigo_id)\n",
    "    # se selecciona solo la data de datos de todo lo retornado\n",
    "    fotos = fotos_res['data']\n",
    "\n",
    "    # ferifica si existe alguna foto sin s3_filename definido\n",
    "    s3_fotos = [foto['s3_filename'] for foto in fotos]\n",
    "    if None in s3_fotos:\n",
    "        print('Error, existen fotos con s3_filename nulos')\n",
    "        return\n",
    "    \n",
    "    # crea el template para el reporte\n",
    "    doc = DocxTemplate(ruta + '/templates/tpl_insp_cosechadoras-preventivo.docx')\n",
    "\n",
    "    # descargar lista de fotos, y convertir a inline del template doc\n",
    "    lista_img_inline = descargar_convertir_fotos_inline(fotos, ruta + '/fotos/', doc)\n",
    "\n",
    "    # generar texto contenido del qr\n",
    "    texto_qr = f'''\n",
    "    --UTEA--\n",
    "    --PROGRAMA CAÑA LIMPIA--\n",
    "    \n",
    "    Id de Evaluacion: {insp.k_id}\n",
    "    Fecha de Evaluacion: {insp.k_fecha_registro}\n",
    "    Nombre de Canero: {insp.k_canhero.split(' / ')[1]}\n",
    "    Codigo Canero: {insp.k_canhero.split(' / ')[0]}\n",
    "    Maquina Cosechadora: {insp.k_maquina + '-' + insp.k_modelo}\n",
    "    Codigo de Maquina: {insp.k_codigo_maquina}\n",
    "    Calificacion de Evaluacion: {round(insp.k_nota_porcen*100, 2)}%'''\n",
    "\n",
    "    # se genera el qr\n",
    "    ruta_qr = generar_qr(texto_qr, ruta + '/qrs/', insp.k_amigo_id)\n",
    "    # convertir el qr en inline\n",
    "    qr_inline = convertir_img_to_inline(doc, ruta_qr, 30)\n",
    "\n",
    "    # se crea el contexto de datos para pasar el template doc\n",
    "    context = {'insp':insp, 'fotos':lista_img_inline, 'qr':qr_inline}\n",
    "    # renderizar el doc\n",
    "    doc.render(context)\n",
    "    # crea lista con el codigo y nombre del canhero\n",
    "    codigo_nombre = insp.k_canhero.split(' / ')\n",
    "    # crea la ruta y nombre del informe a crear\n",
    "    file_name = codigo_nombre[0] + '_EMPC_' + insp.k_fecha_registro.replace('/','-') + '_' + codigo_nombre[1] + '_' + str(insp.k_id)\n",
    "    # se crea el documento\n",
    "    doc.save(ruta + r'/informes/_' + file_name + '.docx')\n",
    "    modificar_reporte_generado(id_insp)"
   ]
  },
  {
   "cell_type": "markdown",
   "id": "3b93ee90-10e3-4493-a952-58844136e692",
   "metadata": {},
   "source": [
    "## modificar reporte generado"
   ]
  },
  {
   "cell_type": "code",
   "execution_count": 20,
   "id": "99026f43-3771-4f45-94f9-9b0f10fe0092",
   "metadata": {},
   "outputs": [],
   "source": [
    "# coloca en true el estado de reporte\n",
    "# recibe el id del registro\n",
    "def modificar_reporte_generado(id_reg):\n",
    "    query = f'update dataset_341171 set informe_generado = true where id={id_reg}'\n",
    "    ejecutar = ejecutar_query_sql(id_proyecto, query, 'post')\n",
    "    # retorna la cantidad de registro modificados\n",
    "    return ejecutar['count']"
   ]
  },
  {
   "cell_type": "code",
   "execution_count": 21,
   "id": "c039c4ce-cff0-4c09-9792-fa7956c383a9",
   "metadata": {},
   "outputs": [],
   "source": [
    "def verificar_registros_nuevos():\n",
    "    ejecutar_query_por_id(id_proyecto, 6340)\n",
    "    query = 'select id from dataset_341171 where informe_generado = false'\n",
    "    # ejecucion del query\n",
    "    select = ejecutar_query_sql(id_proyecto, query, 'get')\n",
    "    # extrae la seccion de data\n",
    "    data = select['data']\n",
    "    # convierte data a lista de ids\n",
    "    lista_ids = [dato['id'] for dato in data]\n",
    "    # modificacion a la lista para que solo genere 2 ids\n",
    "    # lista_ids = [69, 54]\n",
    "    for i in lista_ids:\n",
    "        print(i)\n",
    "        generar_reporte(i)"
   ]
  },
  {
   "cell_type": "code",
   "execution_count": 22,
   "id": "69ea21cd-7ed5-4b66-9e78-bd2d893f5e98",
   "metadata": {},
   "outputs": [
    {
     "name": "stdout",
     "output_type": "stream",
     "text": [
      "75\n",
      "Error, el registro de CAÑERO-MAQUINA no esta correcto, no tiene codigo maquina\n",
      "74\n",
      "Error, el registro de CAÑERO-MAQUINA no esta correcto, no tiene codigo maquina\n",
      "63\n",
      "Error, el registro de CAÑERO-MAQUINA no esta correcto, no tiene codigo maquina\n",
      "22\n",
      "Error, existen fotos son s3_filename nulos\n",
      "73\n",
      "Error, el registro de CAÑERO-MAQUINA no esta correcto, no tiene codigo maquina\n",
      "50\n",
      "Error, el registro de CAÑERO-MAQUINA no esta correcto, no tiene codigo maquina\n",
      "60\n",
      "Error, el registro de CAÑERO-MAQUINA no esta correcto, no tiene codigo maquina\n",
      "33\n",
      "Error, el registro de CAÑERO-MAQUINA no esta correcto, no tiene codigo maquina\n",
      "34\n",
      "Error, el registro de CAÑERO-MAQUINA no esta correcto, no tiene codigo maquina\n",
      "56\n",
      "Error, el registro de CAÑERO-MAQUINA no esta correcto, no tiene codigo maquina\n",
      "42\n",
      "Error, el registro tiene de la evaluacion no tiene asigno maquina ni cañero\n",
      "23\n",
      "Error, existen fotos son s3_filename nulos\n",
      "35\n",
      "Error, el registro de CAÑERO-MAQUINA no esta correcto, no tiene codigo maquina\n",
      "72\n",
      "Error, el registro tiene de la evaluacion no tiene asigno maquina ni cañero\n"
     ]
    }
   ],
   "source": [
    "verificar_registros_nuevos()"
   ]
  },
  {
   "cell_type": "code",
   "execution_count": null,
   "id": "e1301c71-3db8-462f-aaaf-e2acb9b2fcfc",
   "metadata": {},
   "outputs": [],
   "source": []
  }
 ],
 "metadata": {
  "kernelspec": {
   "display_name": "Python 3 (ipykernel)",
   "language": "python",
   "name": "python3"
  },
  "language_info": {
   "codemirror_mode": {
    "name": "ipython",
    "version": 3
   },
   "file_extension": ".py",
   "mimetype": "text/x-python",
   "name": "python",
   "nbconvert_exporter": "python",
   "pygments_lexer": "ipython3",
   "version": "3.10.13"
  }
 },
 "nbformat": 4,
 "nbformat_minor": 5
}
