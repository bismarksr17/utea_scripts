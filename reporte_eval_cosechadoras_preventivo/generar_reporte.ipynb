{
 "cells": [
  {
   "cell_type": "code",
   "execution_count": 1,
   "id": "0002d6bb-7b0b-4a99-ab49-630ccc00f345",
   "metadata": {},
   "outputs": [],
   "source": [
    "import sys\n",
    "sys.path.append('../_amigocloud')"
   ]
  },
  {
   "cell_type": "code",
   "execution_count": 4,
   "id": "6429d69b-0c56-4969-a221-bd645e970f9f",
   "metadata": {},
   "outputs": [],
   "source": [
    "import collections\n",
    "from amigocloud import AmigoCloud\n",
    "\n",
    "from datetime import datetime\n",
    "\n",
    "from docxtpl import DocxTemplate\n",
    "import docxtpl\n",
    "from docx.shared import Mm\n",
    "import requests"
   ]
  },
  {
   "cell_type": "code",
   "execution_count": 5,
   "id": "5707fc87-76a7-4d99-9915-01f1fecf57c5",
   "metadata": {},
   "outputs": [
    {
     "data": {
      "text/plain": [
       "<amigocloud.AmigoCloud at 0x18a6828fdc0>"
      ]
     },
     "execution_count": 5,
     "metadata": {},
     "output_type": "execute_result"
    }
   ],
   "source": [
    "# ruta de carpera donde estan las llaves\n",
    "ruta = open('../ruta.txt')\n",
    "ruta = ruta.readlines()[0]\n",
    "# leer token\n",
    "acceso = open(ruta + '/_keys/api_amigocloud.key','r')\n",
    "api_token = acceso.readlines()[0]\n",
    "acceso.close()\n",
    "amigocloud = AmigoCloud(token=api_token)\n",
    "amigocloud"
   ]
  },
  {
   "cell_type": "code",
   "execution_count": null,
   "id": "c7c4dd92-15c9-4669-83c2-63225907ad02",
   "metadata": {},
   "outputs": [],
   "source": []
  },
  {
   "cell_type": "code",
   "execution_count": null,
   "id": "099ba9c2-8502-46cc-8af4-f446db1c229c",
   "metadata": {},
   "outputs": [],
   "source": []
  },
  {
   "cell_type": "code",
   "execution_count": null,
   "id": "793fa44b-264a-4427-834b-1f91b4d1ca18",
   "metadata": {},
   "outputs": [],
   "source": []
  },
  {
   "cell_type": "code",
   "execution_count": 20,
   "id": "39b8d2aa-2959-40b1-8c02-f14dc0363288",
   "metadata": {},
   "outputs": [],
   "source": [
    "id = 12"
   ]
  },
  {
   "cell_type": "code",
   "execution_count": 24,
   "id": "9549f9c0-e792-4cbb-bfb7-7a860fcb919e",
   "metadata": {},
   "outputs": [],
   "source": [
    "# consulta pata extraer los datos de inspeccion por id concreto\n",
    "query = {'query': 'select ca.canhero, ca.maquina, ca.modelo, ca.codigo_maquina, ca.frente, insp.* from dataset_341171 insp\\\n",
    "    inner join dataset_341170 ca on ca.amigo_id=insp.maquina_ref_preven\\\n",
    "    where insp.id={id_insp}'.format(id_insp=id)}\n",
    "project = 'https://app.amigocloud.com/api/v1/projects/34080/sql'\n",
    "select = amigocloud.get(project, query)\n",
    "data = select['data'][0]"
   ]
  },
  {
   "cell_type": "code",
   "execution_count": 25,
   "id": "b7d129f3-dd4c-4033-b3bf-2a1b6cc53093",
   "metadata": {},
   "outputs": [],
   "source": [
    "# modificacion de la fecha a formato dd/mm/aaaa\n",
    "data['fecha_registro'] = datetime.strptime(data['fecha_registro'], \"%Y-%m-%d %H:%M:%S%z\").strftime(\"%d/%m/%Y\")"
   ]
  },
  {
   "cell_type": "code",
   "execution_count": 27,
   "id": "3221e679-5ba6-43c4-aafe-b34cc1c89820",
   "metadata": {},
   "outputs": [],
   "source": [
    "# modificacion del nombre de las claves, con una k_ por delante, por que los campos booblenos (1_1, 2_2, etc) no se pueden trabajar bien\n",
    "data = {'k_'+key : value for (key, value) in data.items()}"
   ]
  },
  {
   "cell_type": "code",
   "execution_count": 31,
   "id": "d56af6cc-c79e-4ec7-9dd7-193b77745f32",
   "metadata": {},
   "outputs": [],
   "source": [
    "insp = collections.namedtuple(\"insp\", data.keys())(*data.values())"
   ]
  },
  {
   "cell_type": "code",
   "execution_count": 32,
   "id": "c3850bed-c447-4471-bc6a-82e523bd1756",
   "metadata": {},
   "outputs": [
    {
     "data": {
      "text/plain": [
       "insp(k_canhero='515 / AGUILERA OLGA RIVERO VDA. DE', k_maquina='JOHN DEERE', k_modelo='3510', k_codigo_maquina=4, k_frente=4, k_fecha_registro='02/04/2024', k_amigo_id='65fd9c3e440640559764089c507d9aa8', k_id=12, k_usuario='Juan Pablo Jaldin Duran', k_obs='Falta reparar el extractor primario que en unos 15 días estará listo, caja de corte de base está en revisión , falta colocar despuntador ñ, punteras del divisor de línea, el pateador y elevador que ya están revisados solo es colocar a su posición ', k_ubicacion='0101000020E6100000E427D53E1D9F4FC0E7C589AF763A31C0', k_1_1=False, k_1_2=False, k_1_3=False, k_1_4=False, k_1_5=False, k_2_1=False, k_2_2=False, k_2_3=False, k_2_4=False, k_3_1=False, k_3_2=True, k_3_3=True, k_3_4=True, k_3_5=True, k_3_6=True, k_3_7=True, k_3_8=True, k_4_1=True, k_4_2=True, k_4_3=True, k_4_4=True, k_4_5=True, k_5_1=True, k_5_2=True, k_5_3=True, k_5_4=True, k_5_5=True, k_5_6=True, k_6_1=True, k_6_2=True, k_6_3=True, k_6_4=True, k_6_5=True, k_7_1=False, k_7_2=False, k_7_3=False, k_7_4=False, k_7_5=False, k_7_6=False, k_7_7=False, k_7_8=False, k_8_1=True, k_8_2=True, k_8_3=True, k_8_4=True, k_8_5=True, k_8_6=True, k_8_7=True, k_8_8=True, k_8_9=True, k_9_1=True, k_9_2=True, k_9_3=True, k_9_4=True, k_9_5=True, k_9_6=True, k_10_1=True, k_10_2=True, k_10_3=True, k_10_4=True, k_10_5=True, k_10_6=True, k_11_1=True, k_11_2=True, k_11_3=True, k_11_4=True, k_11_5=True, k_12_1=True, k_12_2=True, k_12_3=True, k_13_1=True, k_14_1=True, k_14_2=True, k_14_3=True, k_14_4=True, k_14_5=True, k_14_6=True, k_14_7=True, k_14_8=True, k_14_9=True, k_15_1=True, k_15_2=True, k_nota_porcen=0.780487804878049, k_maquina_ref_preven='4a9adaa7716c4c6699453be41274d879')"
      ]
     },
     "execution_count": 32,
     "metadata": {},
     "output_type": "execute_result"
    }
   ],
   "source": [
    "insp"
   ]
  },
  {
   "cell_type": "code",
   "execution_count": 33,
   "id": "880fbed7-c360-4c65-a926-d10eb32146b5",
   "metadata": {},
   "outputs": [],
   "source": [
    "query_fotos = {'query': 'select * from gallery_57490 where source_amigo_id=\\'{id}\\''.format(id=insp.k_amigo_id)}\n",
    "project = 'https://app.amigocloud.com/api/v1/projects/34080/sql'\n",
    "fotos = amigocloud.get(project, query_fotos)['data']"
   ]
  },
  {
   "cell_type": "code",
   "execution_count": 34,
   "id": "e520fb19-d919-473d-8a13-9b80780e8b52",
   "metadata": {},
   "outputs": [
    {
     "data": {
      "text/plain": [
       "[{'amigo_id': '486687f8d5014e7ba718039f9bae87a9',\n",
       "  'source_amigo_id': '65fd9c3e440640559764089c507d9aa8',\n",
       "  'filename': '57490_20240402090618493.jpg',\n",
       "  's3_filename': '57490_20240402090618493.jpg',\n",
       "  'file_size': 4749671,\n",
       "  'mime_type': 'image/jpeg',\n",
       "  'datetime': '2024-04-02 13:06:23+00:00',\n",
       "  'amigocloud_url': 'app.amigocloud.com/api/v1/related_tables/57490/files/65fd9c3e440640559764089c507d9aa8/486687f8d5014e7ba718039f9bae87a9/57490_20240402090618493.jpg',\n",
       "  'location': '0101000020E610000099426B6E1A9F4FC082F865D58C3A31C0'},\n",
       " {'amigo_id': 'b9d1a8b1ddcc4939ab85f508ad7eab10',\n",
       "  'source_amigo_id': '65fd9c3e440640559764089c507d9aa8',\n",
       "  'filename': '57490_20240402090558709.jpg',\n",
       "  's3_filename': '57490_20240402090558709.jpg',\n",
       "  'file_size': 5103099,\n",
       "  'mime_type': 'image/jpeg',\n",
       "  'datetime': '2024-04-02 13:06:06+00:00',\n",
       "  'amigocloud_url': 'app.amigocloud.com/api/v1/related_tables/57490/files/65fd9c3e440640559764089c507d9aa8/b9d1a8b1ddcc4939ab85f508ad7eab10/57490_20240402090558709.jpg',\n",
       "  'location': '0101000020E61000005E5C156E1A9F4FC0291B9CA98C3A31C0'},\n",
       " {'amigo_id': '245366ae807244eb87a0cb9d94592419',\n",
       "  'source_amigo_id': '65fd9c3e440640559764089c507d9aa8',\n",
       "  'filename': '57490_20240402090611150.jpg',\n",
       "  's3_filename': '57490_20240402090611150.jpg',\n",
       "  'file_size': 5706979,\n",
       "  'mime_type': 'image/jpeg',\n",
       "  'datetime': '2024-04-02 13:06:15+00:00',\n",
       "  'amigocloud_url': 'app.amigocloud.com/api/v1/related_tables/57490/files/65fd9c3e440640559764089c507d9aa8/245366ae807244eb87a0cb9d94592419/57490_20240402090611150.jpg',\n",
       "  'location': '0101000020E6100000341E3A771A9F4FC0A6F07FCB8C3A31C0'},\n",
       " {'amigo_id': '116a86aea73b43418d5aa047f9ece3c5',\n",
       "  'source_amigo_id': '65fd9c3e440640559764089c507d9aa8',\n",
       "  'filename': '57490_20240402090651232.jpg',\n",
       "  's3_filename': '57490_20240402090651232.jpg',\n",
       "  'file_size': 5344212,\n",
       "  'mime_type': 'image/jpeg',\n",
       "  'datetime': '2024-04-02 13:06:57+00:00',\n",
       "  'amigocloud_url': 'app.amigocloud.com/api/v1/related_tables/57490/files/65fd9c3e440640559764089c507d9aa8/116a86aea73b43418d5aa047f9ece3c5/57490_20240402090651232.jpg',\n",
       "  'location': '0101000020E6100000BEAEF414189F4FC077F4BF5C8B3A31C0'},\n",
       " {'amigo_id': 'f601cd159efb46099841561acf62b670',\n",
       "  'source_amigo_id': '65fd9c3e440640559764089c507d9aa8',\n",
       "  'filename': '57490_20240402090707008.jpg',\n",
       "  's3_filename': '57490_20240402090707008.jpg',\n",
       "  'file_size': 5415730,\n",
       "  'mime_type': 'image/jpeg',\n",
       "  'datetime': '2024-04-02 13:07:12+00:00',\n",
       "  'amigocloud_url': 'app.amigocloud.com/api/v1/related_tables/57490/files/65fd9c3e440640559764089c507d9aa8/f601cd159efb46099841561acf62b670/57490_20240402090707008.jpg',\n",
       "  'location': '0101000020E6100000064B960F189F4FC041F56ADB8B3A31C0'},\n",
       " {'amigo_id': '11748b7550604ab0a902b14e0adb9f11',\n",
       "  'source_amigo_id': '65fd9c3e440640559764089c507d9aa8',\n",
       "  'filename': '57490_20240402090644328.jpg',\n",
       "  's3_filename': '57490_20240402090644328.jpg',\n",
       "  'file_size': 6048951,\n",
       "  'mime_type': 'image/jpeg',\n",
       "  'datetime': '2024-04-02 13:06:48+00:00',\n",
       "  'amigocloud_url': 'app.amigocloud.com/api/v1/related_tables/57490/files/65fd9c3e440640559764089c507d9aa8/11748b7550604ab0a902b14e0adb9f11/57490_20240402090644328.jpg',\n",
       "  'location': '0101000020E610000088256927189F4FC0CAF6638B8B3A31C0'}]"
      ]
     },
     "execution_count": 34,
     "metadata": {},
     "output_type": "execute_result"
    }
   ],
   "source": [
    "fotos"
   ]
  },
  {
   "cell_type": "code",
   "execution_count": 133,
   "id": "808c130c-b6e2-44e5-96ea-4faa72690b38",
   "metadata": {},
   "outputs": [],
   "source": [
    "doc = DocxTemplate(ruta + '/templates/tpl_insp_cosechadoras-preventivo_2.docx')"
   ]
  },
  {
   "cell_type": "code",
   "execution_count": 141,
   "id": "40e44824-32c2-44c4-a8de-a4866a4af14d",
   "metadata": {},
   "outputs": [],
   "source": [
    "lista_fotos_inline = []\n",
    "for foto in fotos:\n",
    "    response = requests.get(\"https://www-amigocloud.s3.amazonaws.com/gallery/\" + foto['s3_filename'])\n",
    "    file = open(ruta + '/fotos/' + foto['s3_filename'], \"wb\")\n",
    "    file.write(response.content)\n",
    "    file.close()\n",
    "    lista_fotos_inline.append(docxtpl.InlineImage(doc, image_descriptor= ruta + '/fotos/' + foto['s3_filename'], width=Mm(50)))"
   ]
  },
  {
   "cell_type": "code",
   "execution_count": 135,
   "id": "71fad885-e959-4fa1-99c9-60439d0baf31",
   "metadata": {},
   "outputs": [
    {
     "data": {
      "text/plain": [
       "6"
      ]
     },
     "execution_count": 135,
     "metadata": {},
     "output_type": "execute_result"
    }
   ],
   "source": [
    "len(lista_fotos_inline)"
   ]
  },
  {
   "cell_type": "code",
   "execution_count": null,
   "id": "78d77539-af10-414c-94a0-dd0537223570",
   "metadata": {},
   "outputs": [],
   "source": [
    "# Datos que quieres que contenga el QR\n",
    "texto = '''\n",
    "--UTEA--\n",
    "--PROGRAMA CAÑA LIMPIA--\n",
    "\n",
    "Id de Evaluacion: {nro_reg}\n",
    "Fecha de Evaluacion: {fecha}\n",
    "Nombre de Canero: {canero}\n",
    "Codigo Canero: {cod_ca}\n",
    "Maquina Cosechadora: {maquina}\n",
    "Codigo de Maquina: {cod_ma}\n",
    "Calificacion de Evaluacion: {nota} %'''\\\n",
    ".format(\n",
    "    nro_reg=data_rep['nro_reg'], \n",
    "    fecha=data_rep['fecha'], \n",
    "    canero=data_rep['nom_ca'],\n",
    "    cod_ca=data_rep['cod_ca'],\n",
    "    prop=data_rep['nom_prop'],\n",
    "    area=data_rep['total'])\n",
    "    # Generar el código QR\n",
    "qr = qrcode.QRCode(\n",
    "    version=1,\n",
    "    error_correction=qrcode.constants.ERROR_CORRECT_L,\n",
    "    box_size=10,\n",
    "    border=4)\n",
    "qr.add_data(texto)\n",
    "qr.make(fit=True)\n",
    "\n",
    "img = qr.make_image(fill_color=\"black\", back_color=\"white\")\n",
    "filename_qr = 'qr_' + str(data_rep['cod_ca']) + '_' + str(data_rep['cod_prop']) + '_' + data_rep['fecha']\n",
    "ruta_qr = ruta + '/planos/' + filename_qr + '.png'\n",
    "# Guardar el código QR en un archivo\n",
    "img.save(ruta_qr)"
   ]
  },
  {
   "cell_type": "code",
   "execution_count": 136,
   "id": "1e63cae6-4574-4c8d-b52d-bbfcc58024e8",
   "metadata": {},
   "outputs": [],
   "source": [
    "context = {'insp':insp, 'fotos':lista_fotos_inline}"
   ]
  },
  {
   "cell_type": "code",
   "execution_count": 137,
   "id": "8ff5edda-e6f1-47d4-bf9a-b616b073ff3b",
   "metadata": {},
   "outputs": [],
   "source": [
    "doc.render(context)"
   ]
  },
  {
   "cell_type": "code",
   "execution_count": 138,
   "id": "d38c825a-b6a8-4d3c-a5c3-814be83bb4ba",
   "metadata": {},
   "outputs": [],
   "source": [
    "cod_nom = insp.k_canhero.split(' / ')\n",
    "file_name = cod_nom[0] + '_ECP_' + insp.k_fecha_registro.replace('/','-') + '_' + cod_nom[1] + '_' + str(insp.k_id)"
   ]
  },
  {
   "cell_type": "code",
   "execution_count": 139,
   "id": "4c1eb497-9f05-4943-959b-979f4222797d",
   "metadata": {},
   "outputs": [
    {
     "data": {
      "text/plain": [
       "'515_ECP_02-04-2024_AGUILERA OLGA RIVERO VDA. DE_12'"
      ]
     },
     "execution_count": 139,
     "metadata": {},
     "output_type": "execute_result"
    }
   ],
   "source": [
    "file_name"
   ]
  },
  {
   "cell_type": "code",
   "execution_count": 140,
   "id": "abf5cc3d-ccbf-471b-8788-9413df118f48",
   "metadata": {},
   "outputs": [],
   "source": [
    "doc.save(ruta + r'/informes/_' + file_name + '.docx')"
   ]
  },
  {
   "cell_type": "code",
   "execution_count": null,
   "id": "a47b07f9-5427-414b-b379-9ae1f641aa36",
   "metadata": {},
   "outputs": [],
   "source": []
  }
 ],
 "metadata": {
  "kernelspec": {
   "display_name": "Python 3 (ipykernel)",
   "language": "python",
   "name": "python3"
  },
  "language_info": {
   "codemirror_mode": {
    "name": "ipython",
    "version": 3
   },
   "file_extension": ".py",
   "mimetype": "text/x-python",
   "name": "python",
   "nbconvert_exporter": "python",
   "pygments_lexer": "ipython3",
   "version": "3.10.13"
  }
 },
 "nbformat": 4,
 "nbformat_minor": 5
}
