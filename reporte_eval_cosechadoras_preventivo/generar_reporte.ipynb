{
 "cells": [
  {
   "cell_type": "code",
   "execution_count": 1,
   "id": "0002d6bb-7b0b-4a99-ab49-630ccc00f345",
   "metadata": {},
   "outputs": [],
   "source": [
    "import sys\n",
    "sys.path.append('../_amigocloud')"
   ]
  },
  {
   "cell_type": "code",
   "execution_count": 2,
   "id": "6429d69b-0c56-4969-a221-bd645e970f9f",
   "metadata": {},
   "outputs": [],
   "source": [
    "import collections\n",
    "from amigocloud import AmigoCloud\n",
    "\n",
    "from datetime import datetime\n",
    "\n",
    "from docxtpl import DocxTemplate\n",
    "import docxtpl\n",
    "from docx.shared import Mm\n",
    "import requests\n",
    "\n",
    "import qrcode"
   ]
  },
  {
   "cell_type": "code",
   "execution_count": 20,
   "id": "5707fc87-76a7-4d99-9915-01f1fecf57c5",
   "metadata": {},
   "outputs": [
    {
     "data": {
      "text/plain": [
       "<amigocloud.AmigoCloud at 0x2c01b52fdf0>"
      ]
     },
     "execution_count": 20,
     "metadata": {},
     "output_type": "execute_result"
    }
   ],
   "source": [
    "# ruta de carpera donde estan las llaves\n",
    "ruta = open('../ruta.txt')\n",
    "ruta = ruta.readlines()[0]\n",
    "# leer token\n",
    "acceso = open(ruta + '/_keys/api_amigocloud.key','r')\n",
    "api_token = acceso.readlines()[0]\n",
    "acceso.close()\n",
    "amigocloud = AmigoCloud(token=api_token)\n",
    "amigocloud"
   ]
  },
  {
   "cell_type": "code",
   "execution_count": null,
   "id": "f014e21b-1371-4f26-a67c-eda56e9cec27",
   "metadata": {},
   "outputs": [],
   "source": []
  },
  {
   "cell_type": "code",
   "execution_count": 31,
   "id": "bcde6132-1a27-41c4-b87f-80a05a7f96b9",
   "metadata": {},
   "outputs": [],
   "source": [
    "d = amigocloud.get('https://app.amigocloud.com/api/v1/projects/34080/queries')"
   ]
  },
  {
   "cell_type": "code",
   "execution_count": 32,
   "id": "5696dc64-a5f1-43f8-b226-883d80acb6b3",
   "metadata": {},
   "outputs": [],
   "source": [
    "sql = d['results'][0]['query']"
   ]
  },
  {
   "cell_type": "code",
   "execution_count": 38,
   "id": "c0a8ffa3-7d4b-4890-b1e9-be6be1365e77",
   "metadata": {},
   "outputs": [],
   "source": [
    "query = {'query': 'update dataset_341171 set nro_insp = nro_insp'}"
   ]
  },
  {
   "cell_type": "code",
   "execution_count": 39,
   "id": "e22a7b2c-7686-4459-acc5-bf209a3f6b95",
   "metadata": {},
   "outputs": [],
   "source": [
    "project = 'https://app.amigocloud.com/api/v1/projects/34080/sql'\n",
    "select = amigocloud.post(project, query)"
   ]
  },
  {
   "cell_type": "code",
   "execution_count": 40,
   "id": "73f226a6-1ead-4591-9482-ba5a9a369fee",
   "metadata": {},
   "outputs": [
    {
     "data": {
      "text/plain": [
       "{'query': 'update dataset_341171 set nro_insp = nro_insp', 'count': 48}"
      ]
     },
     "execution_count": 40,
     "metadata": {},
     "output_type": "execute_result"
    }
   ],
   "source": [
    "select"
   ]
  },
  {
   "cell_type": "code",
   "execution_count": null,
   "id": "a08d1117-eb5d-4a69-bd97-4001a39a255b",
   "metadata": {},
   "outputs": [],
   "source": []
  },
  {
   "cell_type": "code",
   "execution_count": null,
   "id": "6f26d585-8258-4e78-a7fc-92e58a6b2d2a",
   "metadata": {},
   "outputs": [],
   "source": []
  },
  {
   "cell_type": "code",
   "execution_count": null,
   "id": "1eea5158-e969-4270-a9c7-f69e669b852a",
   "metadata": {},
   "outputs": [],
   "source": []
  },
  {
   "cell_type": "code",
   "execution_count": null,
   "id": "e96e60fd-df6f-49a2-a2f0-3c6c67661dad",
   "metadata": {},
   "outputs": [],
   "source": []
  },
  {
   "cell_type": "code",
   "execution_count": null,
   "id": "746d97fd-f640-4c9b-81fa-13a19dfec9e2",
   "metadata": {},
   "outputs": [],
   "source": []
  },
  {
   "cell_type": "code",
   "execution_count": null,
   "id": "793fa44b-264a-4427-834b-1f91b4d1ca18",
   "metadata": {},
   "outputs": [],
   "source": []
  },
  {
   "cell_type": "code",
   "execution_count": 297,
   "id": "39b8d2aa-2959-40b1-8c02-f14dc0363288",
   "metadata": {},
   "outputs": [],
   "source": [
    "id = 20"
   ]
  },
  {
   "cell_type": "code",
   "execution_count": 298,
   "id": "9549f9c0-e792-4cbb-bfb7-7a860fcb919e",
   "metadata": {},
   "outputs": [],
   "source": [
    "# consulta pata extraer los datos de inspeccion por id concreto\n",
    "query = {'query': 'select ca.canhero, ca.maquina, ca.modelo, ca.codigo_maquina, ca.frente, insp.* from dataset_341171 insp\\\n",
    "    inner join dataset_341170 ca on ca.amigo_id=insp.maquina_ref_preven\\\n",
    "    where insp.id={id_insp}'.format(id_insp=id)}\n",
    "project = 'https://app.amigocloud.com/api/v1/projects/34080/sql'\n",
    "select = amigocloud.get(project, query)\n",
    "data = select['data'][0]"
   ]
  },
  {
   "cell_type": "code",
   "execution_count": 299,
   "id": "b7d129f3-dd4c-4033-b3bf-2a1b6cc53093",
   "metadata": {},
   "outputs": [],
   "source": [
    "# modificacion de la fecha a formato dd/mm/aaaa\n",
    "data['fecha_registro'] = datetime.strptime(data['fecha_registro'], \"%Y-%m-%d %H:%M:%S%z\").strftime(\"%d/%m/%Y\")\n",
    "# modificacion del nombre de las claves, con una k_ por delante, por que los campos booblenos (1_1, 2_2, etc) no se pueden trabajar bien\n",
    "data = {'k_'+key : value for (key, value) in data.items()}\n",
    "\n",
    "insp = collections.namedtuple(\"insp\", data.keys())(*data.values())"
   ]
  },
  {
   "cell_type": "code",
   "execution_count": 300,
   "id": "c3850bed-c447-4471-bc6a-82e523bd1756",
   "metadata": {},
   "outputs": [
    {
     "data": {
      "text/plain": [
       "insp(k_canhero='Victor Hugo escobar', k_maquina='Jhon Deere ', k_modelo='3520', k_codigo_maquina=None, k_frente=None, k_fecha_registro='04/04/2024', k_amigo_id='af80337a04b24a389269b89e86d4e960', k_id=20, k_usuario='Juan Pablo Jaldin Duran', k_obs=None, k_ubicacion='0101000020E61000004E85D3DDD09F4FC0F6C5EFB7875431C0', k_1_1=False, k_1_2=False, k_1_3=True, k_1_4=True, k_1_5=True, k_2_1=True, k_2_2=True, k_2_3=True, k_2_4=True, k_3_1=True, k_3_2=True, k_3_3=True, k_3_4=True, k_3_5=True, k_3_6=True, k_3_7=True, k_3_8=True, k_4_1=True, k_4_2=True, k_4_3=True, k_4_4=True, k_4_5=True, k_5_1=True, k_5_2=True, k_5_3=True, k_5_4=True, k_5_5=True, k_5_6=True, k_6_1=False, k_6_2=True, k_6_3=True, k_6_4=True, k_6_5=False, k_7_1=False, k_7_2=True, k_7_3=True, k_7_4=True, k_7_5=True, k_7_6=True, k_7_7=True, k_7_8=True, k_8_1=True, k_8_2=True, k_8_3=True, k_8_4=True, k_8_5=True, k_8_6=True, k_8_7=True, k_8_8=True, k_8_9=True, k_9_1=True, k_9_2=True, k_9_3=True, k_9_4=True, k_9_5=True, k_9_6=True, k_10_1=True, k_10_2=True, k_10_3=True, k_10_4=True, k_10_5=True, k_10_6=True, k_11_1=True, k_11_2=True, k_11_3=True, k_11_4=True, k_11_5=True, k_12_1=True, k_12_2=True, k_12_3=True, k_13_1=True, k_14_1=True, k_14_2=True, k_14_3=True, k_14_4=True, k_14_5=True, k_14_6=True, k_14_7=True, k_14_8=True, k_14_9=True, k_15_1=True, k_15_2=True, k_nota_porcen=0.939024390243902, k_maquina_ref_preven='7560031eb512409b92f2d7bb320dd6d3')"
      ]
     },
     "execution_count": 300,
     "metadata": {},
     "output_type": "execute_result"
    }
   ],
   "source": [
    "insp"
   ]
  },
  {
   "cell_type": "code",
   "execution_count": 301,
   "id": "880fbed7-c360-4c65-a926-d10eb32146b5",
   "metadata": {},
   "outputs": [],
   "source": [
    "query_fotos = {'query': 'select * from gallery_57490 where source_amigo_id=\\'{id}\\''.format(id=insp.k_amigo_id)}\n",
    "project = 'https://app.amigocloud.com/api/v1/projects/34080/sql'\n",
    "fotos = amigocloud.get(project, query_fotos)['data']"
   ]
  },
  {
   "cell_type": "code",
   "execution_count": 291,
   "id": "e520fb19-d919-473d-8a13-9b80780e8b52",
   "metadata": {},
   "outputs": [],
   "source": [
    "#fotos"
   ]
  },
  {
   "cell_type": "code",
   "execution_count": 302,
   "id": "808c130c-b6e2-44e5-96ea-4faa72690b38",
   "metadata": {},
   "outputs": [],
   "source": [
    "doc = DocxTemplate(ruta + '/templates/tpl_insp_cosechadoras-preventivo_2.docx')"
   ]
  },
  {
   "cell_type": "code",
   "execution_count": 303,
   "id": "40e44824-32c2-44c4-a8de-a4866a4af14d",
   "metadata": {},
   "outputs": [],
   "source": [
    "lista_fotos_inline = []\n",
    "for foto in fotos:\n",
    "    response = requests.get(\"https://www-amigocloud.s3.amazonaws.com/gallery/\" + foto['s3_filename'])\n",
    "    file = open(ruta + '/fotos/' + foto['s3_filename'], \"wb\")\n",
    "    file.write(response.content)\n",
    "    file.close()\n",
    "    lista_fotos_inline.append(docxtpl.InlineImage(doc, image_descriptor= ruta + '/fotos/' + foto['s3_filename'], width=Mm(50)))"
   ]
  },
  {
   "cell_type": "code",
   "execution_count": 304,
   "id": "71fad885-e959-4fa1-99c9-60439d0baf31",
   "metadata": {},
   "outputs": [
    {
     "data": {
      "text/plain": [
       "5"
      ]
     },
     "execution_count": 304,
     "metadata": {},
     "output_type": "execute_result"
    }
   ],
   "source": [
    "len(lista_fotos_inline)"
   ]
  },
  {
   "cell_type": "code",
   "execution_count": 305,
   "id": "ba6eef05-7b92-43cb-a3d6-b877a144870a",
   "metadata": {},
   "outputs": [
    {
     "data": {
      "text/plain": [
       "insp(k_canhero='Victor Hugo escobar', k_maquina='Jhon Deere ', k_modelo='3520', k_codigo_maquina=None, k_frente=None, k_fecha_registro='04/04/2024', k_amigo_id='af80337a04b24a389269b89e86d4e960', k_id=20, k_usuario='Juan Pablo Jaldin Duran', k_obs=None, k_ubicacion='0101000020E61000004E85D3DDD09F4FC0F6C5EFB7875431C0', k_1_1=False, k_1_2=False, k_1_3=True, k_1_4=True, k_1_5=True, k_2_1=True, k_2_2=True, k_2_3=True, k_2_4=True, k_3_1=True, k_3_2=True, k_3_3=True, k_3_4=True, k_3_5=True, k_3_6=True, k_3_7=True, k_3_8=True, k_4_1=True, k_4_2=True, k_4_3=True, k_4_4=True, k_4_5=True, k_5_1=True, k_5_2=True, k_5_3=True, k_5_4=True, k_5_5=True, k_5_6=True, k_6_1=False, k_6_2=True, k_6_3=True, k_6_4=True, k_6_5=False, k_7_1=False, k_7_2=True, k_7_3=True, k_7_4=True, k_7_5=True, k_7_6=True, k_7_7=True, k_7_8=True, k_8_1=True, k_8_2=True, k_8_3=True, k_8_4=True, k_8_5=True, k_8_6=True, k_8_7=True, k_8_8=True, k_8_9=True, k_9_1=True, k_9_2=True, k_9_3=True, k_9_4=True, k_9_5=True, k_9_6=True, k_10_1=True, k_10_2=True, k_10_3=True, k_10_4=True, k_10_5=True, k_10_6=True, k_11_1=True, k_11_2=True, k_11_3=True, k_11_4=True, k_11_5=True, k_12_1=True, k_12_2=True, k_12_3=True, k_13_1=True, k_14_1=True, k_14_2=True, k_14_3=True, k_14_4=True, k_14_5=True, k_14_6=True, k_14_7=True, k_14_8=True, k_14_9=True, k_15_1=True, k_15_2=True, k_nota_porcen=0.939024390243902, k_maquina_ref_preven='7560031eb512409b92f2d7bb320dd6d3')"
      ]
     },
     "execution_count": 305,
     "metadata": {},
     "output_type": "execute_result"
    }
   ],
   "source": [
    "insp"
   ]
  },
  {
   "cell_type": "code",
   "execution_count": 306,
   "id": "78d77539-af10-414c-94a0-dd0537223570",
   "metadata": {},
   "outputs": [
    {
     "ename": "IndexError",
     "evalue": "list index out of range",
     "output_type": "error",
     "traceback": [
      "\u001b[1;31m---------------------------------------------------------------------------\u001b[0m",
      "\u001b[1;31mIndexError\u001b[0m                                Traceback (most recent call last)",
      "Cell \u001b[1;32mIn[306], line 16\u001b[0m\n\u001b[0;32m      1\u001b[0m \u001b[38;5;66;03m# Datos que quieres que contenga el QR\u001b[39;00m\n\u001b[0;32m      2\u001b[0m texto \u001b[38;5;241m=\u001b[39m \u001b[38;5;124m'''\u001b[39m\n\u001b[0;32m      3\u001b[0m \u001b[38;5;124m--UTEA--\u001b[39m\n\u001b[0;32m      4\u001b[0m \u001b[38;5;124m--PROGRAMA CAÑA LIMPIA--\u001b[39m\n\u001b[0;32m      5\u001b[0m \n\u001b[0;32m      6\u001b[0m \u001b[38;5;124mId de Evaluacion: \u001b[39m\u001b[38;5;132;01m{nro_reg}\u001b[39;00m\n\u001b[0;32m      7\u001b[0m \u001b[38;5;124mFecha de Evaluacion: \u001b[39m\u001b[38;5;132;01m{fecha}\u001b[39;00m\n\u001b[0;32m      8\u001b[0m \u001b[38;5;124mNombre de Canero: \u001b[39m\u001b[38;5;132;01m{canero}\u001b[39;00m\n\u001b[0;32m      9\u001b[0m \u001b[38;5;124mCodigo Canero: \u001b[39m\u001b[38;5;132;01m{cod_ca}\u001b[39;00m\n\u001b[0;32m     10\u001b[0m \u001b[38;5;124mMaquina Cosechadora: \u001b[39m\u001b[38;5;132;01m{maquina}\u001b[39;00m\n\u001b[0;32m     11\u001b[0m \u001b[38;5;124mCodigo de Maquina: \u001b[39m\u001b[38;5;132;01m{cod_ma}\u001b[39;00m\n\u001b[0;32m     12\u001b[0m \u001b[38;5;124mCalificacion de Evaluacion: \u001b[39m\u001b[38;5;132;01m{nota}\u001b[39;00m\u001b[38;5;124m%\u001b[39m\u001b[38;5;124m'''\u001b[39m\\\n\u001b[0;32m     13\u001b[0m \u001b[38;5;241m.\u001b[39mformat(\n\u001b[0;32m     14\u001b[0m     nro_reg\u001b[38;5;241m=\u001b[39minsp\u001b[38;5;241m.\u001b[39mk_id, \n\u001b[0;32m     15\u001b[0m     fecha\u001b[38;5;241m=\u001b[39minsp\u001b[38;5;241m.\u001b[39mk_fecha_registro, \n\u001b[1;32m---> 16\u001b[0m     canero\u001b[38;5;241m=\u001b[39m\u001b[43minsp\u001b[49m\u001b[38;5;241;43m.\u001b[39;49m\u001b[43mk_canhero\u001b[49m\u001b[38;5;241;43m.\u001b[39;49m\u001b[43msplit\u001b[49m\u001b[43m(\u001b[49m\u001b[38;5;124;43m'\u001b[39;49m\u001b[38;5;124;43m / \u001b[39;49m\u001b[38;5;124;43m'\u001b[39;49m\u001b[43m)\u001b[49m\u001b[43m[\u001b[49m\u001b[38;5;241;43m1\u001b[39;49m\u001b[43m]\u001b[49m,\n\u001b[0;32m     17\u001b[0m     cod_ca\u001b[38;5;241m=\u001b[39minsp\u001b[38;5;241m.\u001b[39mk_canhero\u001b[38;5;241m.\u001b[39msplit(\u001b[38;5;124m'\u001b[39m\u001b[38;5;124m / \u001b[39m\u001b[38;5;124m'\u001b[39m)[\u001b[38;5;241m0\u001b[39m],\n\u001b[0;32m     18\u001b[0m     maquina\u001b[38;5;241m=\u001b[39minsp\u001b[38;5;241m.\u001b[39mk_maquina \u001b[38;5;241m+\u001b[39m \u001b[38;5;124m'\u001b[39m\u001b[38;5;124m-\u001b[39m\u001b[38;5;124m'\u001b[39m \u001b[38;5;241m+\u001b[39m insp\u001b[38;5;241m.\u001b[39mk_modelo,\n\u001b[0;32m     19\u001b[0m     cod_ma\u001b[38;5;241m=\u001b[39minsp\u001b[38;5;241m.\u001b[39mk_codigo_maquina,\n\u001b[0;32m     20\u001b[0m     nota\u001b[38;5;241m=\u001b[39m\u001b[38;5;28mround\u001b[39m(insp\u001b[38;5;241m.\u001b[39mk_nota_porcen\u001b[38;5;241m*\u001b[39m\u001b[38;5;241m100\u001b[39m, \u001b[38;5;241m2\u001b[39m))\n\u001b[0;32m     21\u001b[0m qr \u001b[38;5;241m=\u001b[39m qrcode\u001b[38;5;241m.\u001b[39mQRCode(\n\u001b[0;32m     22\u001b[0m     version\u001b[38;5;241m=\u001b[39m\u001b[38;5;241m1\u001b[39m,\n\u001b[0;32m     23\u001b[0m     error_correction\u001b[38;5;241m=\u001b[39mqrcode\u001b[38;5;241m.\u001b[39mconstants\u001b[38;5;241m.\u001b[39mERROR_CORRECT_L,\n\u001b[0;32m     24\u001b[0m     box_size\u001b[38;5;241m=\u001b[39m\u001b[38;5;241m10\u001b[39m,\n\u001b[0;32m     25\u001b[0m     border\u001b[38;5;241m=\u001b[39m\u001b[38;5;241m4\u001b[39m)\n\u001b[0;32m     26\u001b[0m qr\u001b[38;5;241m.\u001b[39madd_data(texto)\n",
      "\u001b[1;31mIndexError\u001b[0m: list index out of range"
     ]
    }
   ],
   "source": [
    "# Datos que quieres que contenga el QR\n",
    "texto = '''\n",
    "--UTEA--\n",
    "--PROGRAMA CAÑA LIMPIA--\n",
    "\n",
    "Id de Evaluacion: {nro_reg}\n",
    "Fecha de Evaluacion: {fecha}\n",
    "Nombre de Canero: {canero}\n",
    "Codigo Canero: {cod_ca}\n",
    "Maquina Cosechadora: {maquina}\n",
    "Codigo de Maquina: {cod_ma}\n",
    "Calificacion de Evaluacion: {nota}%'''\\\n",
    ".format(\n",
    "    nro_reg=insp.k_id, \n",
    "    fecha=insp.k_fecha_registro, \n",
    "    canero=insp.k_canhero.split(' / ')[1],\n",
    "    cod_ca=insp.k_canhero.split(' / ')[0],\n",
    "    maquina=insp.k_maquina + '-' + insp.k_modelo,\n",
    "    cod_ma=insp.k_codigo_maquina,\n",
    "    nota=round(insp.k_nota_porcen*100, 2))\n",
    "qr = qrcode.QRCode(\n",
    "    version=1,\n",
    "    error_correction=qrcode.constants.ERROR_CORRECT_L,\n",
    "    box_size=10,\n",
    "    border=4)\n",
    "qr.add_data(texto)\n",
    "qr.make(fit=True)\n",
    "\n",
    "img = qr.make_image(fill_color=\"black\", back_color=\"white\")\n",
    "#filename_qr = 'qr_' + str(insp.k_canhero.split(' / ')[0]) + '_' + str(data_rep['cod_prop']) + '_' + data_rep['fecha']\n",
    "ruta_qr = ruta + '/planos/' + insp.k_amigo_id + '.png'\n",
    "# Guardar el código QR en un archivo\n",
    "img.save(ruta_qr)\n",
    "\n",
    "qr_file = docxtpl.InlineImage(doc, image_descriptor=ruta_qr, width=Mm(30))"
   ]
  },
  {
   "cell_type": "code",
   "execution_count": 281,
   "id": "1e63cae6-4574-4c8d-b52d-bbfcc58024e8",
   "metadata": {},
   "outputs": [],
   "source": [
    "context = {'insp':insp, 'fotos':lista_fotos_inline, 'qr':qr_file}"
   ]
  },
  {
   "cell_type": "code",
   "execution_count": 282,
   "id": "8ff5edda-e6f1-47d4-bf9a-b616b073ff3b",
   "metadata": {},
   "outputs": [],
   "source": [
    "doc.render(context)"
   ]
  },
  {
   "cell_type": "code",
   "execution_count": 283,
   "id": "d38c825a-b6a8-4d3c-a5c3-814be83bb4ba",
   "metadata": {},
   "outputs": [],
   "source": [
    "cod_nom = insp.k_canhero.split(' / ')\n",
    "file_name = cod_nom[0] + '_ECP_' + insp.k_fecha_registro.replace('/','-') + '_' + cod_nom[1] + '_' + str(insp.k_id)"
   ]
  },
  {
   "cell_type": "code",
   "execution_count": 284,
   "id": "4c1eb497-9f05-4943-959b-979f4222797d",
   "metadata": {},
   "outputs": [
    {
     "data": {
      "text/plain": [
       "'3378_ECP_04-04-2024_ESCOBAR MORATO VICTOR HUGO_19'"
      ]
     },
     "execution_count": 284,
     "metadata": {},
     "output_type": "execute_result"
    }
   ],
   "source": [
    "file_name"
   ]
  },
  {
   "cell_type": "code",
   "execution_count": 285,
   "id": "abf5cc3d-ccbf-471b-8788-9413df118f48",
   "metadata": {},
   "outputs": [],
   "source": [
    "doc.save(ruta + r'/informes/_' + file_name + '.docx')"
   ]
  },
  {
   "cell_type": "code",
   "execution_count": null,
   "id": "a47b07f9-5427-414b-b379-9ae1f641aa36",
   "metadata": {},
   "outputs": [],
   "source": []
  }
 ],
 "metadata": {
  "kernelspec": {
   "display_name": "Python 3 (ipykernel)",
   "language": "python",
   "name": "python3"
  },
  "language_info": {
   "codemirror_mode": {
    "name": "ipython",
    "version": 3
   },
   "file_extension": ".py",
   "mimetype": "text/x-python",
   "name": "python",
   "nbconvert_exporter": "python",
   "pygments_lexer": "ipython3",
   "version": "3.10.13"
  }
 },
 "nbformat": 4,
 "nbformat_minor": 5
}
