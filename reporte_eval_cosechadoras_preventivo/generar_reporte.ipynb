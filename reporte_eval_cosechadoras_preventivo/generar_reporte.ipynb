{
 "cells": [
  {
   "cell_type": "code",
   "execution_count": 12,
   "id": "0002d6bb-7b0b-4a99-ab49-630ccc00f345",
   "metadata": {},
   "outputs": [],
   "source": [
    "import sys\n",
    "sys.path.append('../_amigocloud')"
   ]
  },
  {
   "cell_type": "code",
   "execution_count": 13,
   "id": "6429d69b-0c56-4969-a221-bd645e970f9f",
   "metadata": {},
   "outputs": [],
   "source": [
    "import collections\n",
    "from amigocloud import AmigoCloud\n",
    "\n",
    "from datetime import datetime\n",
    "\n",
    "from docxtpl import DocxTemplate\n",
    "import docxtpl\n",
    "from docx.shared import Mm\n",
    "import requests\n",
    "\n",
    "import qrcode"
   ]
  },
  {
   "cell_type": "code",
   "execution_count": 14,
   "id": "5707fc87-76a7-4d99-9915-01f1fecf57c5",
   "metadata": {},
   "outputs": [
    {
     "data": {
      "text/plain": [
       "<amigocloud.AmigoCloud at 0x2470b178070>"
      ]
     },
     "execution_count": 14,
     "metadata": {},
     "output_type": "execute_result"
    }
   ],
   "source": [
    "# ruta de carpera donde estan las llaves\n",
    "ruta = open('../ruta.txt')\n",
    "ruta = ruta.readlines()[0]\n",
    "# leer token\n",
    "acceso = open(ruta + '/_keys/api_amigocloud.key','r')\n",
    "api_token = acceso.readlines()[0]\n",
    "acceso.close()\n",
    "amigocloud = AmigoCloud(token=api_token)\n",
    "amigocloud"
   ]
  },
  {
   "cell_type": "code",
   "execution_count": 15,
   "id": "65da3f19-387d-49d9-a765-0f7bee36f0ff",
   "metadata": {},
   "outputs": [],
   "source": [
    "# variables globales\n",
    "id_proyecto = 34080"
   ]
  },
  {
   "cell_type": "markdown",
   "id": "0da14712-01f7-4573-8a41-fd176a6663be",
   "metadata": {},
   "source": [
    "## convertir formato de fecha"
   ]
  },
  {
   "cell_type": "code",
   "execution_count": 16,
   "id": "d34ff263-66b8-4f44-8862-1e4008807b1d",
   "metadata": {},
   "outputs": [],
   "source": [
    "# convierte de formato YYYY-mm-dd H:M:S+z a d/m/YYYY\n",
    "def convertir_formato_fecha(fecha):\n",
    "    new_formato = datetime.strptime(fecha, \"%Y-%m-%d %H:%M:%S%z\").strftime(\"%d/%m/%Y\")\n",
    "    return new_formato"
   ]
  },
  {
   "cell_type": "markdown",
   "id": "e850311a-e2c1-45e4-9b5b-e83c6e854812",
   "metadata": {},
   "source": [
    "## ejecutar query"
   ]
  },
  {
   "cell_type": "code",
   "execution_count": 17,
   "id": "da1a2dd0-ab14-4b4a-8903-22709c201018",
   "metadata": {},
   "outputs": [],
   "source": [
    "# ejecuta cualquier query sql en el proyecto que se le indique\n",
    "# requiere el id de proyecto, query a ejecutar y tipo solicitud (get o post)\n",
    "def ejecutar_query_sql(id_project, query, tipo_sql):\n",
    "    # define la url del proyecto para ejecutar el querry\n",
    "    url_proyecto_sql = f'https://app.amigocloud.com/api/v1/projects/{id_project}/sql'\n",
    "    # crea la estructura de query para amigocloud\n",
    "    query_sql = {'query': query}\n",
    "    \n",
    "    resultado_get = ''\n",
    "    # eleige que tipo de solicitud se realizara (get o post)\n",
    "    if tipo_sql == 'get': \n",
    "        resultado_get = amigocloud.get(url_proyecto_sql, query_sql)\n",
    "    elif tipo_sql == 'post':\n",
    "        resultado_get = amigocloud.post(url_proyecto_sql, query_sql)\n",
    "    else:\n",
    "        resultado_get = 'Se a seleccionado un tipo de solicitud erroneo.'\n",
    "    return resultado_get"
   ]
  },
  {
   "cell_type": "code",
   "execution_count": 18,
   "id": "a08d1117-eb5d-4a69-bd97-4001a39a255b",
   "metadata": {},
   "outputs": [],
   "source": [
    "# ejecuta un query que esta almacenado en un proyecto de amigocloud (generalmente un update),\n",
    "# requiere id de proyecto e id de query\n",
    "# retorna cuantas filas fueron afectadas\n",
    "def ejecutar_query_por_id(id_project, id_query):\n",
    "    # obtiene el query basado en el id_project y el id_query\n",
    "    get_query = amigocloud.get(f'https://app.amigocloud.com/api/v1/projects/{id_project}/queries/{id_query}')\n",
    "    # se extrae solo el texto del query\n",
    "    query = get_query['query']\n",
    "    # ejecuta el query_sql con metodo post y guarda la respuesta\n",
    "    respuesta_post = ejecutar_query_sql(id_proyecto, query, 'post')\n",
    "    # retorna el numero de filas afectadas por el query\n",
    "    return respuesta_post['count']"
   ]
  },
  {
   "cell_type": "markdown",
   "id": "0f721628-40fe-4256-86b6-4c06b5d59903",
   "metadata": {},
   "source": [
    "## generar qr"
   ]
  },
  {
   "cell_type": "code",
   "execution_count": 19,
   "id": "f03e7189-4a74-4106-a35a-fd56e779e4d1",
   "metadata": {},
   "outputs": [],
   "source": [
    "# genera un qr con datos texto que le se envie\n",
    "# requiere le texto de contenido, ruta donde se guardara el qr y nombre para guardar\n",
    "def generar_qr(contenido_qr, ruta_save, id_name):\n",
    "    # declara obj del qrocode\n",
    "    qr = qrcode.QRCode(\n",
    "        version=1,\n",
    "        error_correction=qrcode.constants.ERROR_CORRECT_L,\n",
    "        box_size=10,\n",
    "        border=4)\n",
    "    # se agrega el contenido del qr\n",
    "    qr.add_data(contenido_qr)\n",
    "    qr.make(fit=True)\n",
    "    # define colores del qr\n",
    "    img = qr.make_image(fill_color=\"black\", back_color=\"white\")\n",
    "    # define ruta y nombre para guardar el qr\n",
    "    ruta_qr = ruta_save + id_name + '.png'\n",
    "    # guardar el código QR en un archivo .png\n",
    "    img.save(ruta_qr)\n",
    "    # retorna la ruta del qr\n",
    "    return ruta_qr"
   ]
  },
  {
   "cell_type": "code",
   "execution_count": null,
   "id": "e2b190eb-dfa5-4572-ba73-da23d5996358",
   "metadata": {},
   "outputs": [],
   "source": []
  },
  {
   "cell_type": "code",
   "execution_count": null,
   "id": "746d97fd-f640-4c9b-81fa-13a19dfec9e2",
   "metadata": {},
   "outputs": [],
   "source": []
  },
  {
   "cell_type": "code",
   "execution_count": null,
   "id": "793fa44b-264a-4427-834b-1f91b4d1ca18",
   "metadata": {},
   "outputs": [],
   "source": []
  },
  {
   "cell_type": "code",
   "execution_count": 20,
   "id": "c240e60e-fe6b-4a6f-bdc5-eaeb944ca8e1",
   "metadata": {},
   "outputs": [],
   "source": [
    "id_insp = 20"
   ]
  },
  {
   "cell_type": "code",
   "execution_count": 21,
   "id": "731bab46-cfbc-42be-a517-f5dd90ebca53",
   "metadata": {},
   "outputs": [],
   "source": [
    "# consulta pata extraer los datos de inspeccion por id concreto\n",
    "query = f'select ca.canhero, ca.maquina, ca.modelo, ca.codigo_maquina, ca.frente, insp.* from dataset_341171 insp\\\n",
    "    inner join dataset_341170 ca on ca.amigo_id=insp.maquina_ref_preven\\\n",
    "    where insp.id={id_insp}'\n",
    "select = ejecutar_query_sql(id_proyecto, query, 'get')\n",
    "data = select['data'][0]"
   ]
  },
  {
   "cell_type": "code",
   "execution_count": 23,
   "id": "3dd5d024-d6be-4c58-b1e5-56c772659065",
   "metadata": {},
   "outputs": [],
   "source": [
    "# modificacion de la fecha a formato dd/mm/aaaa\n",
    "data['fecha_registro'] = convertir_formato_fecha(data['fecha_registro'])"
   ]
  },
  {
   "cell_type": "code",
   "execution_count": 27,
   "id": "e28deeac-1036-4845-8947-45ec50dd5610",
   "metadata": {},
   "outputs": [],
   "source": [
    "# modificacion del nombre de las claves, con una k_ por delante, por que los campos booblenos (1_1, 2_2, etc) no se pueden trabajar bien\n",
    "data = {'k_'+key : value for (key, value) in data.items()}\n",
    "insp = collections.namedtuple(\"insp\", data.keys())(*data.values())"
   ]
  },
  {
   "cell_type": "code",
   "execution_count": null,
   "id": "14aae190-28a8-43bc-89fd-d0d812096369",
   "metadata": {},
   "outputs": [],
   "source": []
  },
  {
   "cell_type": "code",
   "execution_count": null,
   "id": "182b2a42-8dad-449d-87e4-daa9d7722c5f",
   "metadata": {},
   "outputs": [],
   "source": []
  },
  {
   "cell_type": "code",
   "execution_count": null,
   "id": "fcc1e932-4bec-4bfa-bb13-f8f5a230bc0d",
   "metadata": {},
   "outputs": [],
   "source": []
  },
  {
   "cell_type": "code",
   "execution_count": 84,
   "id": "39b8d2aa-2959-40b1-8c02-f14dc0363288",
   "metadata": {},
   "outputs": [],
   "source": [
    "id = 20"
   ]
  },
  {
   "cell_type": "code",
   "execution_count": 85,
   "id": "9549f9c0-e792-4cbb-bfb7-7a860fcb919e",
   "metadata": {},
   "outputs": [],
   "source": [
    "# consulta pata extraer los datos de inspeccion por id concreto\n",
    "query = {'query': 'select ca.canhero, ca.maquina, ca.modelo, ca.codigo_maquina, ca.frente, insp.* from dataset_341171 insp\\\n",
    "    inner join dataset_341170 ca on ca.amigo_id=insp.maquina_ref_preven\\\n",
    "    where insp.id={id_insp}'.format(id_insp=id)}\n",
    "project = 'https://app.amigocloud.com/api/v1/projects/34080/sql'\n",
    "select = amigocloud.get(project, query)\n",
    "data = select['data'][0]"
   ]
  },
  {
   "cell_type": "code",
   "execution_count": 299,
   "id": "b7d129f3-dd4c-4033-b3bf-2a1b6cc53093",
   "metadata": {},
   "outputs": [],
   "source": [
    "# modificacion de la fecha a formato dd/mm/aaaa\n",
    "data['fecha_registro'] = datetime.strptime(data['fecha_registro'], \"%Y-%m-%d %H:%M:%S%z\").strftime(\"%d/%m/%Y\")\n",
    "# modificacion del nombre de las claves, con una k_ por delante, por que los campos booblenos (1_1, 2_2, etc) no se pueden trabajar bien\n",
    "data = {'k_'+key : value for (key, value) in data.items()}\n",
    "\n",
    "insp = collections.namedtuple(\"insp\", data.keys())(*data.values())"
   ]
  },
  {
   "cell_type": "code",
   "execution_count": 300,
   "id": "c3850bed-c447-4471-bc6a-82e523bd1756",
   "metadata": {},
   "outputs": [
    {
     "data": {
      "text/plain": [
       "insp(k_canhero='Victor Hugo escobar', k_maquina='Jhon Deere ', k_modelo='3520', k_codigo_maquina=None, k_frente=None, k_fecha_registro='04/04/2024', k_amigo_id='af80337a04b24a389269b89e86d4e960', k_id=20, k_usuario='Juan Pablo Jaldin Duran', k_obs=None, k_ubicacion='0101000020E61000004E85D3DDD09F4FC0F6C5EFB7875431C0', k_1_1=False, k_1_2=False, k_1_3=True, k_1_4=True, k_1_5=True, k_2_1=True, k_2_2=True, k_2_3=True, k_2_4=True, k_3_1=True, k_3_2=True, k_3_3=True, k_3_4=True, k_3_5=True, k_3_6=True, k_3_7=True, k_3_8=True, k_4_1=True, k_4_2=True, k_4_3=True, k_4_4=True, k_4_5=True, k_5_1=True, k_5_2=True, k_5_3=True, k_5_4=True, k_5_5=True, k_5_6=True, k_6_1=False, k_6_2=True, k_6_3=True, k_6_4=True, k_6_5=False, k_7_1=False, k_7_2=True, k_7_3=True, k_7_4=True, k_7_5=True, k_7_6=True, k_7_7=True, k_7_8=True, k_8_1=True, k_8_2=True, k_8_3=True, k_8_4=True, k_8_5=True, k_8_6=True, k_8_7=True, k_8_8=True, k_8_9=True, k_9_1=True, k_9_2=True, k_9_3=True, k_9_4=True, k_9_5=True, k_9_6=True, k_10_1=True, k_10_2=True, k_10_3=True, k_10_4=True, k_10_5=True, k_10_6=True, k_11_1=True, k_11_2=True, k_11_3=True, k_11_4=True, k_11_5=True, k_12_1=True, k_12_2=True, k_12_3=True, k_13_1=True, k_14_1=True, k_14_2=True, k_14_3=True, k_14_4=True, k_14_5=True, k_14_6=True, k_14_7=True, k_14_8=True, k_14_9=True, k_15_1=True, k_15_2=True, k_nota_porcen=0.939024390243902, k_maquina_ref_preven='7560031eb512409b92f2d7bb320dd6d3')"
      ]
     },
     "execution_count": 300,
     "metadata": {},
     "output_type": "execute_result"
    }
   ],
   "source": [
    "insp"
   ]
  },
  {
   "cell_type": "code",
   "execution_count": 301,
   "id": "880fbed7-c360-4c65-a926-d10eb32146b5",
   "metadata": {},
   "outputs": [],
   "source": [
    "query_fotos = {'query': 'select * from gallery_57490 where source_amigo_id=\\'{id}\\''.format(id=insp.k_amigo_id)}\n",
    "project = 'https://app.amigocloud.com/api/v1/projects/34080/sql'\n",
    "fotos = amigocloud.get(project, query_fotos)['data']"
   ]
  },
  {
   "cell_type": "code",
   "execution_count": 291,
   "id": "e520fb19-d919-473d-8a13-9b80780e8b52",
   "metadata": {},
   "outputs": [],
   "source": [
    "#fotos"
   ]
  },
  {
   "cell_type": "code",
   "execution_count": 302,
   "id": "808c130c-b6e2-44e5-96ea-4faa72690b38",
   "metadata": {},
   "outputs": [],
   "source": [
    "doc = DocxTemplate(ruta + '/templates/tpl_insp_cosechadoras-preventivo_2.docx')"
   ]
  },
  {
   "cell_type": "code",
   "execution_count": 303,
   "id": "40e44824-32c2-44c4-a8de-a4866a4af14d",
   "metadata": {},
   "outputs": [],
   "source": [
    "lista_fotos_inline = []\n",
    "for foto in fotos:\n",
    "    response = requests.get(\"https://www-amigocloud.s3.amazonaws.com/gallery/\" + foto['s3_filename'])\n",
    "    file = open(ruta + '/fotos/' + foto['s3_filename'], \"wb\")\n",
    "    file.write(response.content)\n",
    "    file.close()\n",
    "    lista_fotos_inline.append(docxtpl.InlineImage(doc, image_descriptor= ruta + '/fotos/' + foto['s3_filename'], width=Mm(50)))"
   ]
  },
  {
   "cell_type": "code",
   "execution_count": 304,
   "id": "71fad885-e959-4fa1-99c9-60439d0baf31",
   "metadata": {},
   "outputs": [
    {
     "data": {
      "text/plain": [
       "5"
      ]
     },
     "execution_count": 304,
     "metadata": {},
     "output_type": "execute_result"
    }
   ],
   "source": [
    "len(lista_fotos_inline)"
   ]
  },
  {
   "cell_type": "code",
   "execution_count": 305,
   "id": "ba6eef05-7b92-43cb-a3d6-b877a144870a",
   "metadata": {},
   "outputs": [
    {
     "data": {
      "text/plain": [
       "insp(k_canhero='Victor Hugo escobar', k_maquina='Jhon Deere ', k_modelo='3520', k_codigo_maquina=None, k_frente=None, k_fecha_registro='04/04/2024', k_amigo_id='af80337a04b24a389269b89e86d4e960', k_id=20, k_usuario='Juan Pablo Jaldin Duran', k_obs=None, k_ubicacion='0101000020E61000004E85D3DDD09F4FC0F6C5EFB7875431C0', k_1_1=False, k_1_2=False, k_1_3=True, k_1_4=True, k_1_5=True, k_2_1=True, k_2_2=True, k_2_3=True, k_2_4=True, k_3_1=True, k_3_2=True, k_3_3=True, k_3_4=True, k_3_5=True, k_3_6=True, k_3_7=True, k_3_8=True, k_4_1=True, k_4_2=True, k_4_3=True, k_4_4=True, k_4_5=True, k_5_1=True, k_5_2=True, k_5_3=True, k_5_4=True, k_5_5=True, k_5_6=True, k_6_1=False, k_6_2=True, k_6_3=True, k_6_4=True, k_6_5=False, k_7_1=False, k_7_2=True, k_7_3=True, k_7_4=True, k_7_5=True, k_7_6=True, k_7_7=True, k_7_8=True, k_8_1=True, k_8_2=True, k_8_3=True, k_8_4=True, k_8_5=True, k_8_6=True, k_8_7=True, k_8_8=True, k_8_9=True, k_9_1=True, k_9_2=True, k_9_3=True, k_9_4=True, k_9_5=True, k_9_6=True, k_10_1=True, k_10_2=True, k_10_3=True, k_10_4=True, k_10_5=True, k_10_6=True, k_11_1=True, k_11_2=True, k_11_3=True, k_11_4=True, k_11_5=True, k_12_1=True, k_12_2=True, k_12_3=True, k_13_1=True, k_14_1=True, k_14_2=True, k_14_3=True, k_14_4=True, k_14_5=True, k_14_6=True, k_14_7=True, k_14_8=True, k_14_9=True, k_15_1=True, k_15_2=True, k_nota_porcen=0.939024390243902, k_maquina_ref_preven='7560031eb512409b92f2d7bb320dd6d3')"
      ]
     },
     "execution_count": 305,
     "metadata": {},
     "output_type": "execute_result"
    }
   ],
   "source": [
    "insp"
   ]
  },
  {
   "cell_type": "code",
   "execution_count": 63,
   "id": "0ea91cc9-4969-4d3d-9d7f-bfdb477f3ad2",
   "metadata": {},
   "outputs": [],
   "source": []
  },
  {
   "cell_type": "code",
   "execution_count": 306,
   "id": "78d77539-af10-414c-94a0-dd0537223570",
   "metadata": {},
   "outputs": [
    {
     "ename": "IndexError",
     "evalue": "list index out of range",
     "output_type": "error",
     "traceback": [
      "\u001b[1;31m---------------------------------------------------------------------------\u001b[0m",
      "\u001b[1;31mIndexError\u001b[0m                                Traceback (most recent call last)",
      "Cell \u001b[1;32mIn[306], line 16\u001b[0m\n\u001b[0;32m      1\u001b[0m \u001b[38;5;66;03m# Datos que quieres que contenga el QR\u001b[39;00m\n\u001b[0;32m      2\u001b[0m texto \u001b[38;5;241m=\u001b[39m \u001b[38;5;124m'''\u001b[39m\n\u001b[0;32m      3\u001b[0m \u001b[38;5;124m--UTEA--\u001b[39m\n\u001b[0;32m      4\u001b[0m \u001b[38;5;124m--PROGRAMA CAÑA LIMPIA--\u001b[39m\n\u001b[0;32m      5\u001b[0m \n\u001b[0;32m      6\u001b[0m \u001b[38;5;124mId de Evaluacion: \u001b[39m\u001b[38;5;132;01m{nro_reg}\u001b[39;00m\n\u001b[0;32m      7\u001b[0m \u001b[38;5;124mFecha de Evaluacion: \u001b[39m\u001b[38;5;132;01m{fecha}\u001b[39;00m\n\u001b[0;32m      8\u001b[0m \u001b[38;5;124mNombre de Canero: \u001b[39m\u001b[38;5;132;01m{canero}\u001b[39;00m\n\u001b[0;32m      9\u001b[0m \u001b[38;5;124mCodigo Canero: \u001b[39m\u001b[38;5;132;01m{cod_ca}\u001b[39;00m\n\u001b[0;32m     10\u001b[0m \u001b[38;5;124mMaquina Cosechadora: \u001b[39m\u001b[38;5;132;01m{maquina}\u001b[39;00m\n\u001b[0;32m     11\u001b[0m \u001b[38;5;124mCodigo de Maquina: \u001b[39m\u001b[38;5;132;01m{cod_ma}\u001b[39;00m\n\u001b[0;32m     12\u001b[0m \u001b[38;5;124mCalificacion de Evaluacion: \u001b[39m\u001b[38;5;132;01m{nota}\u001b[39;00m\u001b[38;5;124m%\u001b[39m\u001b[38;5;124m'''\u001b[39m\\\n\u001b[0;32m     13\u001b[0m \u001b[38;5;241m.\u001b[39mformat(\n\u001b[0;32m     14\u001b[0m     nro_reg\u001b[38;5;241m=\u001b[39minsp\u001b[38;5;241m.\u001b[39mk_id, \n\u001b[0;32m     15\u001b[0m     fecha\u001b[38;5;241m=\u001b[39minsp\u001b[38;5;241m.\u001b[39mk_fecha_registro, \n\u001b[1;32m---> 16\u001b[0m     canero\u001b[38;5;241m=\u001b[39m\u001b[43minsp\u001b[49m\u001b[38;5;241;43m.\u001b[39;49m\u001b[43mk_canhero\u001b[49m\u001b[38;5;241;43m.\u001b[39;49m\u001b[43msplit\u001b[49m\u001b[43m(\u001b[49m\u001b[38;5;124;43m'\u001b[39;49m\u001b[38;5;124;43m / \u001b[39;49m\u001b[38;5;124;43m'\u001b[39;49m\u001b[43m)\u001b[49m\u001b[43m[\u001b[49m\u001b[38;5;241;43m1\u001b[39;49m\u001b[43m]\u001b[49m,\n\u001b[0;32m     17\u001b[0m     cod_ca\u001b[38;5;241m=\u001b[39minsp\u001b[38;5;241m.\u001b[39mk_canhero\u001b[38;5;241m.\u001b[39msplit(\u001b[38;5;124m'\u001b[39m\u001b[38;5;124m / \u001b[39m\u001b[38;5;124m'\u001b[39m)[\u001b[38;5;241m0\u001b[39m],\n\u001b[0;32m     18\u001b[0m     maquina\u001b[38;5;241m=\u001b[39minsp\u001b[38;5;241m.\u001b[39mk_maquina \u001b[38;5;241m+\u001b[39m \u001b[38;5;124m'\u001b[39m\u001b[38;5;124m-\u001b[39m\u001b[38;5;124m'\u001b[39m \u001b[38;5;241m+\u001b[39m insp\u001b[38;5;241m.\u001b[39mk_modelo,\n\u001b[0;32m     19\u001b[0m     cod_ma\u001b[38;5;241m=\u001b[39minsp\u001b[38;5;241m.\u001b[39mk_codigo_maquina,\n\u001b[0;32m     20\u001b[0m     nota\u001b[38;5;241m=\u001b[39m\u001b[38;5;28mround\u001b[39m(insp\u001b[38;5;241m.\u001b[39mk_nota_porcen\u001b[38;5;241m*\u001b[39m\u001b[38;5;241m100\u001b[39m, \u001b[38;5;241m2\u001b[39m))\n\u001b[0;32m     21\u001b[0m qr \u001b[38;5;241m=\u001b[39m qrcode\u001b[38;5;241m.\u001b[39mQRCode(\n\u001b[0;32m     22\u001b[0m     version\u001b[38;5;241m=\u001b[39m\u001b[38;5;241m1\u001b[39m,\n\u001b[0;32m     23\u001b[0m     error_correction\u001b[38;5;241m=\u001b[39mqrcode\u001b[38;5;241m.\u001b[39mconstants\u001b[38;5;241m.\u001b[39mERROR_CORRECT_L,\n\u001b[0;32m     24\u001b[0m     box_size\u001b[38;5;241m=\u001b[39m\u001b[38;5;241m10\u001b[39m,\n\u001b[0;32m     25\u001b[0m     border\u001b[38;5;241m=\u001b[39m\u001b[38;5;241m4\u001b[39m)\n\u001b[0;32m     26\u001b[0m qr\u001b[38;5;241m.\u001b[39madd_data(texto)\n",
      "\u001b[1;31mIndexError\u001b[0m: list index out of range"
     ]
    }
   ],
   "source": [
    "# Datos que quieres que contenga el QR\n",
    "texto = '''\n",
    "--UTEA--\n",
    "--PROGRAMA CAÑA LIMPIA--\n",
    "\n",
    "Id de Evaluacion: {nro_reg}\n",
    "Fecha de Evaluacion: {fecha}\n",
    "Nombre de Canero: {canero}\n",
    "Codigo Canero: {cod_ca}\n",
    "Maquina Cosechadora: {maquina}\n",
    "Codigo de Maquina: {cod_ma}\n",
    "Calificacion de Evaluacion: {nota}%'''\\\n",
    ".format(\n",
    "    nro_reg=insp.k_id, \n",
    "    fecha=insp.k_fecha_registro, \n",
    "    canero=insp.k_canhero.split(' / ')[1],\n",
    "    cod_ca=insp.k_canhero.split(' / ')[0],\n",
    "    maquina=insp.k_maquina + '-' + insp.k_modelo,\n",
    "    cod_ma=insp.k_codigo_maquina,\n",
    "    nota=round(insp.k_nota_porcen*100, 2))\n",
    "qr = qrcode.QRCode(\n",
    "    version=1,\n",
    "    error_correction=qrcode.constants.ERROR_CORRECT_L,\n",
    "    box_size=10,\n",
    "    border=4)\n",
    "qr.add_data(texto)\n",
    "qr.make(fit=True)\n",
    "\n",
    "img = qr.make_image(fill_color=\"black\", back_color=\"white\")\n",
    "#filename_qr = 'qr_' + str(insp.k_canhero.split(' / ')[0]) + '_' + str(data_rep['cod_prop']) + '_' + data_rep['fecha']\n",
    "ruta_qr = ruta + '/planos/' + insp.k_amigo_id + '.png'\n",
    "# Guardar el código QR en un archivo\n",
    "img.save(ruta_qr)\n",
    "\n",
    "qr_file = docxtpl.InlineImage(doc, image_descriptor=ruta_qr, width=Mm(30))"
   ]
  },
  {
   "cell_type": "code",
   "execution_count": 281,
   "id": "1e63cae6-4574-4c8d-b52d-bbfcc58024e8",
   "metadata": {},
   "outputs": [],
   "source": [
    "context = {'insp':insp, 'fotos':lista_fotos_inline, 'qr':qr_file}"
   ]
  },
  {
   "cell_type": "code",
   "execution_count": 282,
   "id": "8ff5edda-e6f1-47d4-bf9a-b616b073ff3b",
   "metadata": {},
   "outputs": [],
   "source": [
    "doc.render(context)"
   ]
  },
  {
   "cell_type": "code",
   "execution_count": 283,
   "id": "d38c825a-b6a8-4d3c-a5c3-814be83bb4ba",
   "metadata": {},
   "outputs": [],
   "source": [
    "cod_nom = insp.k_canhero.split(' / ')\n",
    "file_name = cod_nom[0] + '_ECP_' + insp.k_fecha_registro.replace('/','-') + '_' + cod_nom[1] + '_' + str(insp.k_id)"
   ]
  },
  {
   "cell_type": "code",
   "execution_count": 284,
   "id": "4c1eb497-9f05-4943-959b-979f4222797d",
   "metadata": {},
   "outputs": [
    {
     "data": {
      "text/plain": [
       "'3378_ECP_04-04-2024_ESCOBAR MORATO VICTOR HUGO_19'"
      ]
     },
     "execution_count": 284,
     "metadata": {},
     "output_type": "execute_result"
    }
   ],
   "source": [
    "file_name"
   ]
  },
  {
   "cell_type": "code",
   "execution_count": 285,
   "id": "abf5cc3d-ccbf-471b-8788-9413df118f48",
   "metadata": {},
   "outputs": [],
   "source": [
    "doc.save(ruta + r'/informes/_' + file_name + '.docx')"
   ]
  },
  {
   "cell_type": "code",
   "execution_count": null,
   "id": "a47b07f9-5427-414b-b379-9ae1f641aa36",
   "metadata": {},
   "outputs": [],
   "source": []
  }
 ],
 "metadata": {
  "kernelspec": {
   "display_name": "Python 3 (ipykernel)",
   "language": "python",
   "name": "python3"
  },
  "language_info": {
   "codemirror_mode": {
    "name": "ipython",
    "version": 3
   },
   "file_extension": ".py",
   "mimetype": "text/x-python",
   "name": "python",
   "nbconvert_exporter": "python",
   "pygments_lexer": "ipython3",
   "version": "3.10.13"
  }
 },
 "nbformat": 4,
 "nbformat_minor": 5
}
