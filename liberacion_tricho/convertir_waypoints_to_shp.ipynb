{
 "cells": [
  {
   "cell_type": "code",
   "execution_count": 23,
   "id": "76931ea2-46e0-4c2b-9196-f371f34895ae",
   "metadata": {
    "tags": []
   },
   "outputs": [],
   "source": [
    "import os\n",
    "import geopandas as gpd\n",
    "import geemap\n",
    "import xml.etree.ElementTree as ET\n",
    "import pandas as pd\n",
    "from shapely.geometry import LineString\n",
    "\n",
    "# constante requerida\n",
    "#namespace = {\"kml\": \"http://www.opengis.net/kml/2.2\"}"
   ]
  },
  {
   "cell_type": "code",
   "execution_count": 42,
   "id": "2b147dc3-6779-47d0-b0be-c64b0f4a81ce",
   "metadata": {
    "tags": []
   },
   "outputs": [
    {
     "data": {
      "text/plain": [
       "['Campo Dulce', 'Curichi', 'Mira Flores', 'Tajivo']"
      ]
     },
     "execution_count": 42,
     "metadata": {},
     "output_type": "execute_result"
    }
   ],
   "source": [
    "# Directorio donde están los archivos KML\n",
    "path_wayp = r'G:/OneDrive - Ingenio Azucarero Guabira S.A/UTEA_2023/PROYECTO AREA LIBERACION/SEGUIMIENTO2/SEMANA_39/WAYPOINTS_22-09-2023/'\n",
    "propiedades = os.listdir(path_wayp)\n",
    "propiedades"
   ]
  },
  {
   "cell_type": "code",
   "execution_count": 43,
   "id": "26ffab8d-2698-4891-a255-aba3bfdb1ff6",
   "metadata": {
    "tags": []
   },
   "outputs": [],
   "source": [
    "list_prop = []\n",
    "list_lote = []\n",
    "list_recorrido = []\n",
    "col = ['A', 'B', 'C', 'D', 'E', 'F', 'G', 'H', 'Latitude', 'Longitude', 'J', 'K']\n",
    "for propiedad in propiedades:\n",
    "    path_prop = path_wayp + propiedad + '/'\n",
    "    lotes = os.listdir(path_prop)\n",
    "    for lote in lotes:\n",
    "        path_lote = path_prop + lote\n",
    "        df = pd.read_csv(path_lote, sep='\\t', names=col, skiprows=1)\n",
    "        df = df[df['Latitude']!=0]\n",
    "        gdf = gpd.GeoDataFrame(df, geometry=gpd.points_from_xy(df.Longitude, df.Latitude))\n",
    "        line = LineString(gdf.geometry.tolist())\n",
    "        list_prop.append(propiedad)\n",
    "        list_lote.append(lote)\n",
    "        list_recorrido.append(line)"
   ]
  },
  {
   "cell_type": "code",
   "execution_count": 44,
   "id": "b5f9d8bd-3967-4972-bbf0-628afe822e21",
   "metadata": {
    "tags": []
   },
   "outputs": [],
   "source": [
    "data_lineas = {\n",
    "    'geometry': list_recorrido,\n",
    "    'propiedad': list_prop,\n",
    "    'lotes' : list_lote\n",
    "}"
   ]
  },
  {
   "cell_type": "code",
   "execution_count": 45,
   "id": "e786f47a-cf08-4c29-a0fa-1cf498391a34",
   "metadata": {
    "tags": []
   },
   "outputs": [],
   "source": [
    "gdf_lineas = gpd.GeoDataFrame(data_lineas)"
   ]
  },
  {
   "cell_type": "code",
   "execution_count": 46,
   "id": "86848ce8-88a7-47d5-bf48-50eb2f2065f4",
   "metadata": {
    "tags": []
   },
   "outputs": [],
   "source": [
    "gdf_lineas.crs = \"EPSG:4326\""
   ]
  },
  {
   "cell_type": "code",
   "execution_count": 47,
   "id": "bab5a3d1-cb75-43c9-b9f3-238aac2fb9fb",
   "metadata": {
    "tags": []
   },
   "outputs": [],
   "source": [
    "gdf_lineas = gdf_lineas.to_crs(epsg=32720)"
   ]
  },
  {
   "cell_type": "code",
   "execution_count": 48,
   "id": "96ddac49-f381-45d2-8955-0bbb95348ce5",
   "metadata": {
    "tags": []
   },
   "outputs": [
    {
     "data": {
      "text/plain": [
       "<AxesSubplot:>"
      ]
     },
     "execution_count": 48,
     "metadata": {},
     "output_type": "execute_result"
    },
    {
     "data": {
      "image/png": "[encoded data removed]",
      "text/plain": [
       "<Figure size 640x480 with 1 Axes>"
      ]
     },
     "metadata": {},
     "output_type": "display_data"
    }
   ],
   "source": [
    "gdf_lineas.plot()"
   ]
  },
  {
   "cell_type": "code",
   "execution_count": 49,
   "id": "185d526f-c10c-4176-a660-7a18362eb925",
   "metadata": {
    "tags": []
   },
   "outputs": [
    {
     "data": {
      "text/plain": [
       "20"
      ]
     },
     "execution_count": 49,
     "metadata": {},
     "output_type": "execute_result"
    }
   ],
   "source": [
    "len(gdf_lineas)"
   ]
  },
  {
   "cell_type": "code",
   "execution_count": 50,
   "id": "79fbb8bd-cd3c-4966-b514-459541070db7",
   "metadata": {
    "tags": []
   },
   "outputs": [],
   "source": [
    "gdf_lineas.to_file('capa_waypoinst', driver=\"ESRI Shapefile\")"
   ]
  },
  {
   "cell_type": "code",
   "execution_count": null,
   "id": "d3c7f351-3e65-44a7-be98-e3af2fcaaefa",
   "metadata": {},
   "outputs": [],
   "source": []
  },
  {
   "cell_type": "code",
   "execution_count": null,
   "id": "c1fde702-f6f0-4c45-b3a7-4b837ec7c089",
   "metadata": {},
   "outputs": [],
   "source": []
  },
  {
   "cell_type": "code",
   "execution_count": null,
   "id": "f57a1639-06b4-4a1e-b870-630429afbd64",
   "metadata": {},
   "outputs": [],
   "source": []
  },
  {
   "cell_type": "code",
   "execution_count": null,
   "id": "b2ee4ba8-432d-4dcd-899b-ea3e994079c8",
   "metadata": {},
   "outputs": [],
   "source": []
  },
  {
   "cell_type": "code",
   "execution_count": null,
   "id": "4ca133b1-8cb1-40b4-85d3-d7d90913da46",
   "metadata": {},
   "outputs": [],
   "source": []
  },
  {
   "cell_type": "code",
   "execution_count": null,
   "id": "b89c1d98-2a95-42f2-93eb-72ff8b064f39",
   "metadata": {},
   "outputs": [],
   "source": []
  },
  {
   "cell_type": "code",
   "execution_count": null,
   "id": "a0547534-dc4a-41aa-b592-e216ff43d72d",
   "metadata": {},
   "outputs": [],
   "source": []
  },
  {
   "cell_type": "code",
   "execution_count": null,
   "id": "e97b9ec6-97bf-4196-8e16-1c80bb23e4d4",
   "metadata": {},
   "outputs": [],
   "source": []
  },
  {
   "cell_type": "code",
   "execution_count": null,
   "id": "6d2a76b1-884d-43c8-810e-2fee99158893",
   "metadata": {},
   "outputs": [],
   "source": []
  },
  {
   "cell_type": "code",
   "execution_count": null,
   "id": "411f0abd-dbdd-4f66-baff-24689da94120",
   "metadata": {},
   "outputs": [],
   "source": []
  },
  {
   "cell_type": "code",
   "execution_count": null,
   "id": "19d0826a-9172-41da-b16d-0e25bedb5dbf",
   "metadata": {},
   "outputs": [],
   "source": []
  },
  {
   "cell_type": "code",
   "execution_count": null,
   "id": "45c58798-bb89-4fd5-bf2c-e4e2ca83f985",
   "metadata": {},
   "outputs": [],
   "source": []
  },
  {
   "cell_type": "code",
   "execution_count": null,
   "id": "88900319-64f4-4a7d-ab4b-110e522c838f",
   "metadata": {},
   "outputs": [],
   "source": []
  },
  {
   "cell_type": "code",
   "execution_count": null,
   "id": "f2ff11a9-f7c4-49c5-9b10-63774a1f9469",
   "metadata": {},
   "outputs": [],
   "source": []
  },
  {
   "cell_type": "code",
   "execution_count": null,
   "id": "1c97c826-cd01-4bff-82fa-c48518b78d6b",
   "metadata": {},
   "outputs": [],
   "source": []
  },
  {
   "cell_type": "code",
   "execution_count": null,
   "id": "70c233ba-1181-4150-9817-ddb13b9b8864",
   "metadata": {},
   "outputs": [],
   "source": []
  },
  {
   "cell_type": "code",
   "execution_count": null,
   "id": "1860bb65-994e-4b61-9636-c6f7ea99c1b6",
   "metadata": {},
   "outputs": [],
   "source": []
  }
 ],
 "metadata": {
  "kernelspec": {
   "display_name": "Python 3 (ipykernel)",
   "language": "python",
   "name": "python3"
  },
  "language_info": {
   "codemirror_mode": {
    "name": "ipython",
    "version": 3
   },
   "file_extension": ".py",
   "mimetype": "text/x-python",
   "name": "python",
   "nbconvert_exporter": "python",
   "pygments_lexer": "ipython3",
   "version": "3.7.16"
  }
 },
 "nbformat": 4,
 "nbformat_minor": 5
}
