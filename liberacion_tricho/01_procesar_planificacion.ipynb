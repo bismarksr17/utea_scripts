{
 "cells": [
  {
   "cell_type": "code",
   "execution_count": 1,
   "id": "4ca1910b-5695-4103-b096-022ec8e159e0",
   "metadata": {},
   "outputs": [],
   "source": [
    "import sys\n",
    "sys.path.append('../_amigocloud')"
   ]
  },
  {
   "cell_type": "code",
   "execution_count": 2,
   "id": "a9cb12bd-b9ad-4b1e-bb00-1c6461d7a430",
   "metadata": {},
   "outputs": [],
   "source": [
    "import simplekml"
   ]
  },
  {
   "cell_type": "code",
   "execution_count": 3,
   "id": "3d26f64e-c1fb-424d-bb27-d4ab069c2eed",
   "metadata": {},
   "outputs": [],
   "source": [
    "from amigocloud import AmigoCloud\n",
    "import pandas as pd\n",
    "from shapely import wkb\n",
    "\n",
    "import geopandas as gpd\n",
    "from shapely.geometry import Point, Polygon, MultiPolygon, MultiPoint\n",
    "#from shapely.geometry import Point, MultiPoint\n",
    "import os\n",
    "#from fastkml import kml"
   ]
  },
  {
   "cell_type": "code",
   "execution_count": 4,
   "id": "f4b891e6-01fb-42b9-adae-2b0ca346522f",
   "metadata": {},
   "outputs": [],
   "source": [
    "# ruta de carpera donde estan las llaves\n",
    "ruta = open('../ruta.txt')\n",
    "ruta = ruta.readlines()[0]"
   ]
  },
  {
   "cell_type": "code",
   "execution_count": 5,
   "id": "d102d776-8a85-4ab2-bd4f-e915ae3d48b3",
   "metadata": {},
   "outputs": [
    {
     "name": "stderr",
     "output_type": "stream",
     "text": [
      "WARNING:socketIO-client:app.amigocloud.com:443/v2_socket.io/socket.io [connection error] recv disconnected (Connection is already closed.)\n"
     ]
    },
    {
     "data": {
      "text/plain": [
       "<amigocloud.AmigoCloud at 0x295e1b95ea0>"
      ]
     },
     "execution_count": 5,
     "metadata": {},
     "output_type": "execute_result"
    }
   ],
   "source": [
    "# leer token\n",
    "acceso = open(ruta + '/_keys/api_amigocloud.key','r')\n",
    "api_token = acceso.readlines()[0]\n",
    "acceso.close()\n",
    "amigocloud = AmigoCloud(token=api_token)\n",
    "amigocloud"
   ]
  },
  {
   "cell_type": "code",
   "execution_count": 7,
   "id": "2c420e1d-e2fc-453f-b471-ffac204a192d",
   "metadata": {},
   "outputs": [],
   "source": [
    "# leer los dos shps de siembra y puntos de planificacion\n",
    "path_siembras = r'C:\\Documents\\Ingenio Azucarero Guabira S.A\\UTEA - SEMANAL - EQUIPO AVIACION UTEA\\Trichogramma\\2024\\SHP\\SIEMBRAS.shp'\n",
    "path_cat = r'C:\\Documents\\Ingenio Azucarero Guabira S.A\\UTEA - SEMANAL - EQUIPO AVIACION UTEA\\Trichogramma\\2024\\SHP\\catastro140624.shp'\n",
    "path_puntos = r'C:\\Documents\\Ingenio Azucarero Guabira S.A\\UTEA - SEMANAL - EQUIPO AVIACION UTEA\\Trichogramma\\2024\\SHP\\PUNTOS_PLAN.shp'\n",
    "\n",
    "path_plan = r'C:\\Documents\\Ingenio Azucarero Guabira S.A\\UTEA - SEMANAL - EQUIPO AVIACION UTEA\\Trichogramma\\2024\\SHP\\PLANIFICACION.shp'\n",
    "\n",
    "path_kml = r'C:\\Documents\\Ingenio Azucarero Guabira S.A\\UTEA - SEMANAL - EQUIPO AVIACION UTEA\\Trichogramma\\2024\\KML_PLAN'\n",
    "\n",
    "path_xlsx_parte = r'C:\\Documents\\Ingenio Azucarero Guabira S.A\\UTEA - SEMANAL - EQUIPO AVIACION UTEA\\Trichogramma\\PARTE DIARIO TRICHOGRAMMA 2024_RES.xlsx'"
   ]
  },
  {
   "cell_type": "markdown",
   "id": "f90b0afe-f0a8-465a-bfbc-08fb3ecc23a4",
   "metadata": {},
   "source": [
    "# ACTUALIZAR SHP PLANIFICACION"
   ]
  },
  {
   "cell_type": "code",
   "execution_count": 9,
   "id": "6bf20ad6-1bc8-4322-998d-26544569d06c",
   "metadata": {},
   "outputs": [],
   "source": [
    "ors = 48"
   ]
  },
  {
   "cell_type": "code",
   "execution_count": 10,
   "id": "91fc3e36-811a-48ce-99fe-82af7ba3e137",
   "metadata": {},
   "outputs": [],
   "source": [
    "gdf_siembras = gpd.read_file(path_siembras)\n",
    "gdf_puntos = gpd.read_file(path_puntos)\n",
    "gdf_cat = gpd.read_file(path_cat)"
   ]
  },
  {
   "cell_type": "code",
   "execution_count": 11,
   "id": "d04b5587-65f1-4876-adcf-4118f79fff2a",
   "metadata": {},
   "outputs": [
    {
     "name": "stdout",
     "output_type": "stream",
     "text": [
      "Ambas capas tienen el mismo CRS\n"
     ]
    }
   ],
   "source": [
    "# verifica si ambos shps tienen el mismo CRS\n",
    "if gdf_siembras.crs == gdf_puntos.crs:\n",
    "    print('Ambas capas tienen el mismo CRS')\n",
    "else:\n",
    "    print('No tienen el mismo CRS')"
   ]
  },
  {
   "cell_type": "code",
   "execution_count": 12,
   "id": "2633de73-5e3b-44c1-82c5-d27365f3f8e3",
   "metadata": {},
   "outputs": [
    {
     "data": {
      "text/html": [
       "<div>\n",
       "<style scoped>\n",
       "    .dataframe tbody tr th:only-of-type {\n",
       "        vertical-align: middle;\n",
       "    }\n",
       "\n",
       "    .dataframe tbody tr th {\n",
       "        vertical-align: top;\n",
       "    }\n",
       "\n",
       "    .dataframe thead th {\n",
       "        text-align: right;\n",
       "    }\n",
       "</style>\n",
       "<table border=\"1\" class=\"dataframe\">\n",
       "  <thead>\n",
       "    <tr style=\"text-align: right;\">\n",
       "      <th></th>\n",
       "      <th>unidad_03</th>\n",
       "      <th>unidad_04</th>\n",
       "      <th>os</th>\n",
       "      <th>dia</th>\n",
       "      <th>obs</th>\n",
       "      <th>procesado</th>\n",
       "      <th>geometry</th>\n",
       "    </tr>\n",
       "  </thead>\n",
       "  <tbody>\n",
       "    <tr>\n",
       "      <th>47</th>\n",
       "      <td>1171</td>\n",
       "      <td>BALCAZAR BALCAZAR ROQUE DAVID</td>\n",
       "      <td>48</td>\n",
       "      <td>0</td>\n",
       "      <td>NaN</td>\n",
       "      <td>NaN</td>\n",
       "      <td>MULTIPOINT (468997.303 8096585.744, 469016.607...</td>\n",
       "    </tr>\n",
       "    <tr>\n",
       "      <th>48</th>\n",
       "      <td>41819</td>\n",
       "      <td>AGROPECUARIA GUSTAVITO SRL</td>\n",
       "      <td>48</td>\n",
       "      <td>0</td>\n",
       "      <td>NaN</td>\n",
       "      <td>NaN</td>\n",
       "      <td>MULTIPOINT (463419.201 8082617.349)</td>\n",
       "    </tr>\n",
       "  </tbody>\n",
       "</table>\n",
       "</div>"
      ],
      "text/plain": [
       "    unidad_03                      unidad_04  os  dia  obs procesado  \\\n",
       "47       1171  BALCAZAR BALCAZAR ROQUE DAVID  48    0  NaN       NaN   \n",
       "48      41819     AGROPECUARIA GUSTAVITO SRL  48    0  NaN       NaN   \n",
       "\n",
       "                                             geometry  \n",
       "47  MULTIPOINT (468997.303 8096585.744, 469016.607...  \n",
       "48                MULTIPOINT (463419.201 8082617.349)  "
      ]
     },
     "execution_count": 12,
     "metadata": {},
     "output_type": "execute_result"
    }
   ],
   "source": [
    "# filtrar la semana de interes\n",
    "gdf_puntos_select = gdf_puntos[gdf_puntos['os'] == ors]\n",
    "gdf_puntos_sem = gdf_puntos_select.copy()\n",
    "#quita caracteres especiales\n",
    "gdf_puntos_sem['unidad_04'] = gdf_puntos_sem['unidad_04'].str.replace(r'[\\r\\n\\t]', '', regex=True)\n",
    "gdf_puntos_sem"
   ]
  },
  {
   "cell_type": "code",
   "execution_count": 13,
   "id": "b7cf46a1-a58f-460e-b31b-9bee66eed1ef",
   "metadata": {},
   "outputs": [],
   "source": [
    "multipoint_gdf = gdf_puntos_sem"
   ]
  },
  {
   "cell_type": "code",
   "execution_count": 14,
   "id": "eab2d142-5f9c-45f0-b147-0b3baaccaf74",
   "metadata": {},
   "outputs": [],
   "source": [
    "# Crear una lista para almacenar los nuevos registros de puntos individuales\n",
    "point_records = []\n",
    "# Iterar sobre cada registro en el GeoDataFrame original\n",
    "for idx, row in multipoint_gdf.iterrows():\n",
    "    multipoint_geom = row.geometry\n",
    "    # Verificar si la geometría es de tipo multipunto\n",
    "    if isinstance(multipoint_geom, MultiPoint):\n",
    "        for point in multipoint_geom.geoms:\n",
    "            # Crear un nuevo registro para cada punto individual\n",
    "            new_record = row.copy()\n",
    "            new_record.geometry = point\n",
    "            point_records.append(new_record)\n",
    "    else:\n",
    "        # Si la geometría ya es un punto, simplemente añadir el registro original\n",
    "        point_records.append(row)\n",
    "\n",
    "# Crear un nuevo GeoDataFrame con los registros de puntos individuales\n",
    "puntos_indi = gpd.GeoDataFrame(point_records, crs=multipoint_gdf.crs)"
   ]
  },
  {
   "cell_type": "code",
   "execution_count": 15,
   "id": "8f7e34d2-349d-410c-8e82-1c1b350838ef",
   "metadata": {},
   "outputs": [
    {
     "data": {
      "text/html": [
       "<div>\n",
       "<style scoped>\n",
       "    .dataframe tbody tr th:only-of-type {\n",
       "        vertical-align: middle;\n",
       "    }\n",
       "\n",
       "    .dataframe tbody tr th {\n",
       "        vertical-align: top;\n",
       "    }\n",
       "\n",
       "    .dataframe thead th {\n",
       "        text-align: right;\n",
       "    }\n",
       "</style>\n",
       "<table border=\"1\" class=\"dataframe\">\n",
       "  <thead>\n",
       "    <tr style=\"text-align: right;\">\n",
       "      <th></th>\n",
       "      <th>unidad_03</th>\n",
       "      <th>unidad_04</th>\n",
       "      <th>os</th>\n",
       "      <th>dia</th>\n",
       "      <th>obs</th>\n",
       "      <th>procesado</th>\n",
       "      <th>geometry</th>\n",
       "    </tr>\n",
       "  </thead>\n",
       "  <tbody>\n",
       "    <tr>\n",
       "      <th>47</th>\n",
       "      <td>1171</td>\n",
       "      <td>BALCAZAR BALCAZAR ROQUE DAVID</td>\n",
       "      <td>48</td>\n",
       "      <td>0</td>\n",
       "      <td>NaN</td>\n",
       "      <td>NaN</td>\n",
       "      <td>POINT (468997.303 8096585.744)</td>\n",
       "    </tr>\n",
       "    <tr>\n",
       "      <th>47</th>\n",
       "      <td>1171</td>\n",
       "      <td>BALCAZAR BALCAZAR ROQUE DAVID</td>\n",
       "      <td>48</td>\n",
       "      <td>0</td>\n",
       "      <td>NaN</td>\n",
       "      <td>NaN</td>\n",
       "      <td>POINT (469016.607 8096489.225)</td>\n",
       "    </tr>\n",
       "    <tr>\n",
       "      <th>47</th>\n",
       "      <td>1171</td>\n",
       "      <td>BALCAZAR BALCAZAR ROQUE DAVID</td>\n",
       "      <td>48</td>\n",
       "      <td>0</td>\n",
       "      <td>NaN</td>\n",
       "      <td>NaN</td>\n",
       "      <td>POINT (469095.367 8096493.858)</td>\n",
       "    </tr>\n",
       "    <tr>\n",
       "      <th>47</th>\n",
       "      <td>1171</td>\n",
       "      <td>BALCAZAR BALCAZAR ROQUE DAVID</td>\n",
       "      <td>48</td>\n",
       "      <td>0</td>\n",
       "      <td>NaN</td>\n",
       "      <td>NaN</td>\n",
       "      <td>POINT (469256.651 8096383.825)</td>\n",
       "    </tr>\n",
       "    <tr>\n",
       "      <th>47</th>\n",
       "      <td>1171</td>\n",
       "      <td>BALCAZAR BALCAZAR ROQUE DAVID</td>\n",
       "      <td>48</td>\n",
       "      <td>0</td>\n",
       "      <td>NaN</td>\n",
       "      <td>NaN</td>\n",
       "      <td>POINT (469472.396 8096002.302)</td>\n",
       "    </tr>\n",
       "    <tr>\n",
       "      <th>48</th>\n",
       "      <td>41819</td>\n",
       "      <td>AGROPECUARIA GUSTAVITO SRL</td>\n",
       "      <td>48</td>\n",
       "      <td>0</td>\n",
       "      <td>NaN</td>\n",
       "      <td>NaN</td>\n",
       "      <td>POINT (463419.201 8082617.349)</td>\n",
       "    </tr>\n",
       "  </tbody>\n",
       "</table>\n",
       "</div>"
      ],
      "text/plain": [
       "    unidad_03                      unidad_04  os  dia  obs  procesado  \\\n",
       "47       1171  BALCAZAR BALCAZAR ROQUE DAVID  48    0  NaN        NaN   \n",
       "47       1171  BALCAZAR BALCAZAR ROQUE DAVID  48    0  NaN        NaN   \n",
       "47       1171  BALCAZAR BALCAZAR ROQUE DAVID  48    0  NaN        NaN   \n",
       "47       1171  BALCAZAR BALCAZAR ROQUE DAVID  48    0  NaN        NaN   \n",
       "47       1171  BALCAZAR BALCAZAR ROQUE DAVID  48    0  NaN        NaN   \n",
       "48      41819     AGROPECUARIA GUSTAVITO SRL  48    0  NaN        NaN   \n",
       "\n",
       "                          geometry  \n",
       "47  POINT (468997.303 8096585.744)  \n",
       "47  POINT (469016.607 8096489.225)  \n",
       "47  POINT (469095.367 8096493.858)  \n",
       "47  POINT (469256.651 8096383.825)  \n",
       "47  POINT (469472.396 8096002.302)  \n",
       "48  POINT (463419.201 8082617.349)  "
      ]
     },
     "execution_count": 15,
     "metadata": {},
     "output_type": "execute_result"
    }
   ],
   "source": [
    "# puntos individuales\n",
    "puntos_indi"
   ]
  },
  {
   "cell_type": "code",
   "execution_count": 16,
   "id": "af1f6e6a-7635-44ff-a812-a662c6b18c18",
   "metadata": {},
   "outputs": [
    {
     "data": {
      "text/plain": [
       "<Axes: >"
      ]
     },
     "execution_count": 16,
     "metadata": {},
     "output_type": "execute_result"
    },
    {
     "data": {
      "image/png": "[encoded data removed]",
      "text/plain": [
       "<Figure size 640x480 with 1 Axes>"
      ]
     },
     "metadata": {},
     "output_type": "display_data"
    }
   ],
   "source": [
    "puntos_indi.plot()"
   ]
  },
  {
   "cell_type": "code",
   "execution_count": 18,
   "id": "85954895-c07c-4ea5-8900-f4b556e8f4ee",
   "metadata": {},
   "outputs": [
    {
     "name": "stdout",
     "output_type": "stream",
     "text": [
      "Los CRS si son iguales\n"
     ]
    }
   ],
   "source": [
    "# Asegurarse de que ambos GeoDataFrames tienen el mismo sistema de coordenadas (CRS)\n",
    "if puntos_indi.crs != gdf_siembras.crs:\n",
    "    print('Los CRS no son iguales')\n",
    "    #gdf_siembras = gdf_siembras.to_crs(puntos_indi.crs)\n",
    "else:\n",
    "    print('Los CRS si son iguales')"
   ]
  },
  {
   "cell_type": "code",
   "execution_count": 19,
   "id": "ff2de9e6-686c-45af-8347-594fa5e20091",
   "metadata": {},
   "outputs": [],
   "source": [
    "# Crear un GeoDataFrame vacío para almacenar los puntos que no intersectan con ningún polígono de siembras\n",
    "puntos_indi_solicitado = puntos_indi[~puntos_indi.geometry.apply(lambda point: any(gdf_siembras.contains(point)))]"
   ]
  },
  {
   "cell_type": "code",
   "execution_count": 20,
   "id": "9ced58e3-910e-491b-b294-8fa17fac0693",
   "metadata": {},
   "outputs": [
    {
     "data": {
      "text/html": [
       "<div>\n",
       "<style scoped>\n",
       "    .dataframe tbody tr th:only-of-type {\n",
       "        vertical-align: middle;\n",
       "    }\n",
       "\n",
       "    .dataframe tbody tr th {\n",
       "        vertical-align: top;\n",
       "    }\n",
       "\n",
       "    .dataframe thead th {\n",
       "        text-align: right;\n",
       "    }\n",
       "</style>\n",
       "<table border=\"1\" class=\"dataframe\">\n",
       "  <thead>\n",
       "    <tr style=\"text-align: right;\">\n",
       "      <th></th>\n",
       "      <th>unidad_03</th>\n",
       "      <th>unidad_04</th>\n",
       "      <th>os</th>\n",
       "      <th>dia</th>\n",
       "      <th>obs</th>\n",
       "      <th>procesado</th>\n",
       "      <th>geometry</th>\n",
       "    </tr>\n",
       "  </thead>\n",
       "  <tbody>\n",
       "    <tr>\n",
       "      <th>47</th>\n",
       "      <td>1171</td>\n",
       "      <td>BALCAZAR BALCAZAR ROQUE DAVID</td>\n",
       "      <td>48</td>\n",
       "      <td>0</td>\n",
       "      <td>NaN</td>\n",
       "      <td>NaN</td>\n",
       "      <td>POINT (469016.607 8096489.225)</td>\n",
       "    </tr>\n",
       "  </tbody>\n",
       "</table>\n",
       "</div>"
      ],
      "text/plain": [
       "    unidad_03                      unidad_04  os  dia  obs  procesado  \\\n",
       "47       1171  BALCAZAR BALCAZAR ROQUE DAVID  48    0  NaN        NaN   \n",
       "\n",
       "                          geometry  \n",
       "47  POINT (469016.607 8096489.225)  "
      ]
     },
     "execution_count": 20,
     "metadata": {},
     "output_type": "execute_result"
    }
   ],
   "source": [
    "puntos_indi_solicitado"
   ]
  },
  {
   "cell_type": "code",
   "execution_count": 21,
   "id": "b27362b1-1f64-42e8-be89-b38e114fca78",
   "metadata": {},
   "outputs": [],
   "source": [
    "# identifoca los lotes que se intersectan\n",
    "gdf_lotes_cat = gpd.sjoin(gdf_cat, puntos_indi_solicitado, how='inner', predicate='intersects')\n",
    "# filtra los lotes intersectados en la capa original\n",
    "poligonos_intersect_cat = gdf_cat.loc[gdf_cat.index.isin(gdf_lotes_cat.index)]\n",
    "# copy\n",
    "poligonos_intersect_cat = poligonos_intersect_cat.copy()\n",
    "poligonos_intersect_cat = poligonos_intersect_cat[['unidad_01', 'unidad_02', 'unidad_03', 'unidad_04', 'unidad_05', 'area', 'soca', 'zona', 'geometry']]"
   ]
  },
  {
   "cell_type": "code",
   "execution_count": 22,
   "id": "f2279c90-5d87-4280-8402-c88a16619a89",
   "metadata": {},
   "outputs": [],
   "source": [
    "# Cambiar el nombre de la columna 'old_name' a 'new_name'\n",
    "poligonos_intersect_cat.rename(columns={'zona': 'inst'}, inplace=True)"
   ]
  },
  {
   "cell_type": "code",
   "execution_count": 23,
   "id": "9f826f35-82ee-4070-ba66-069e4d131014",
   "metadata": {},
   "outputs": [
    {
     "data": {
      "text/html": [
       "<div>\n",
       "<style scoped>\n",
       "    .dataframe tbody tr th:only-of-type {\n",
       "        vertical-align: middle;\n",
       "    }\n",
       "\n",
       "    .dataframe tbody tr th {\n",
       "        vertical-align: top;\n",
       "    }\n",
       "\n",
       "    .dataframe thead th {\n",
       "        text-align: right;\n",
       "    }\n",
       "</style>\n",
       "<table border=\"1\" class=\"dataframe\">\n",
       "  <thead>\n",
       "    <tr style=\"text-align: right;\">\n",
       "      <th></th>\n",
       "      <th>unidad_01</th>\n",
       "      <th>unidad_02</th>\n",
       "      <th>unidad_03</th>\n",
       "      <th>unidad_04</th>\n",
       "      <th>unidad_05</th>\n",
       "      <th>area</th>\n",
       "      <th>soca</th>\n",
       "      <th>inst</th>\n",
       "      <th>geometry</th>\n",
       "    </tr>\n",
       "  </thead>\n",
       "  <tbody>\n",
       "    <tr>\n",
       "      <th>13385</th>\n",
       "      <td>369</td>\n",
       "      <td>TOBOROCHI--BALCAZAR</td>\n",
       "      <td>1171</td>\n",
       "      <td>BALCAZAR BALCAZAR ROQUE DAVID</td>\n",
       "      <td>L8</td>\n",
       "      <td>0.448734</td>\n",
       "      <td>1</td>\n",
       "      <td>69</td>\n",
       "      <td>POLYGON ((468984.252 8096493.979, 469000.916 8...</td>\n",
       "    </tr>\n",
       "  </tbody>\n",
       "</table>\n",
       "</div>"
      ],
      "text/plain": [
       "       unidad_01            unidad_02  unidad_03  \\\n",
       "13385        369  TOBOROCHI--BALCAZAR       1171   \n",
       "\n",
       "                           unidad_04 unidad_05      area  soca inst  \\\n",
       "13385  BALCAZAR BALCAZAR ROQUE DAVID        L8  0.448734     1   69   \n",
       "\n",
       "                                                geometry  \n",
       "13385  POLYGON ((468984.252 8096493.979, 469000.916 8...  "
      ]
     },
     "execution_count": 23,
     "metadata": {},
     "output_type": "execute_result"
    }
   ],
   "source": [
    "poligonos_intersect_cat"
   ]
  },
  {
   "cell_type": "code",
   "execution_count": 24,
   "id": "6368f2aa-ba1b-4eea-99aa-5ef29c11e684",
   "metadata": {},
   "outputs": [],
   "source": [
    "# CAMBIAR NOMBRE DATOS DE UNIDAD_03 Y UNDIAD_04 DE LOTES SOLICITADOS A LO INDICADO EN LOS PUNTOS\n",
    "# Iterar sobre cada punto y encontrar el polígono que intersecta\n",
    "for idx, point in puntos_indi_solicitado.iterrows():\n",
    "    point_geom = point.geometry\n",
    "    matching_polygons = poligonos_intersect_cat[poligonos_intersect_cat.intersects(point_geom)]\n",
    "    \n",
    "    # Actualizar los campos de los polígonos que intersectan con los valores del punto\n",
    "    for poly_idx in matching_polygons.index:\n",
    "        poligonos_intersect_cat.at[poly_idx, 'unidad_03'] = point['unidad_03']\n",
    "        poligonos_intersect_cat.at[poly_idx, 'unidad_04'] = point['unidad_04']"
   ]
  },
  {
   "cell_type": "code",
   "execution_count": 25,
   "id": "bea9f942-2e35-4d3b-928d-763710fb6c41",
   "metadata": {},
   "outputs": [
    {
     "data": {
      "text/html": [
       "<div>\n",
       "<style scoped>\n",
       "    .dataframe tbody tr th:only-of-type {\n",
       "        vertical-align: middle;\n",
       "    }\n",
       "\n",
       "    .dataframe tbody tr th {\n",
       "        vertical-align: top;\n",
       "    }\n",
       "\n",
       "    .dataframe thead th {\n",
       "        text-align: right;\n",
       "    }\n",
       "</style>\n",
       "<table border=\"1\" class=\"dataframe\">\n",
       "  <thead>\n",
       "    <tr style=\"text-align: right;\">\n",
       "      <th></th>\n",
       "      <th>unidad_01</th>\n",
       "      <th>unidad_02</th>\n",
       "      <th>unidad_03</th>\n",
       "      <th>unidad_04</th>\n",
       "      <th>unidad_05</th>\n",
       "      <th>area</th>\n",
       "      <th>soca</th>\n",
       "      <th>inst</th>\n",
       "      <th>geometry</th>\n",
       "    </tr>\n",
       "  </thead>\n",
       "  <tbody>\n",
       "    <tr>\n",
       "      <th>13385</th>\n",
       "      <td>369</td>\n",
       "      <td>TOBOROCHI--BALCAZAR</td>\n",
       "      <td>1171</td>\n",
       "      <td>BALCAZAR BALCAZAR ROQUE DAVID</td>\n",
       "      <td>L8</td>\n",
       "      <td>0.448734</td>\n",
       "      <td>1</td>\n",
       "      <td>69</td>\n",
       "      <td>POLYGON ((468984.252 8096493.979, 469000.916 8...</td>\n",
       "    </tr>\n",
       "  </tbody>\n",
       "</table>\n",
       "</div>"
      ],
      "text/plain": [
       "       unidad_01            unidad_02  unidad_03  \\\n",
       "13385        369  TOBOROCHI--BALCAZAR       1171   \n",
       "\n",
       "                           unidad_04 unidad_05      area  soca inst  \\\n",
       "13385  BALCAZAR BALCAZAR ROQUE DAVID        L8  0.448734     1   69   \n",
       "\n",
       "                                                geometry  \n",
       "13385  POLYGON ((468984.252 8096493.979, 469000.916 8...  "
      ]
     },
     "execution_count": 25,
     "metadata": {},
     "output_type": "execute_result"
    }
   ],
   "source": [
    "poligonos_intersect_cat"
   ]
  },
  {
   "cell_type": "code",
   "execution_count": 26,
   "id": "16e8e3f8-b979-4342-ab8b-e80b06a43499",
   "metadata": {},
   "outputs": [],
   "source": [
    "# agrega los campos faltantes\n",
    "poligonos_intersect_cat['fecha_ini'] = ''\n",
    "poligonos_intersect_cat['origen'] = 'SOLICITUD'\n",
    "poligonos_intersect_cat['dias'] = 0\n",
    "poligonos_intersect_cat['fecha'] = ''\n",
    "poligonos_intersect_cat['os'] = ors"
   ]
  },
  {
   "cell_type": "code",
   "execution_count": 27,
   "id": "1e74b24e-d6f8-4c0e-85d9-8df0636515d6",
   "metadata": {},
   "outputs": [
    {
     "data": {
      "text/html": [
       "<div>\n",
       "<style scoped>\n",
       "    .dataframe tbody tr th:only-of-type {\n",
       "        vertical-align: middle;\n",
       "    }\n",
       "\n",
       "    .dataframe tbody tr th {\n",
       "        vertical-align: top;\n",
       "    }\n",
       "\n",
       "    .dataframe thead th {\n",
       "        text-align: right;\n",
       "    }\n",
       "</style>\n",
       "<table border=\"1\" class=\"dataframe\">\n",
       "  <thead>\n",
       "    <tr style=\"text-align: right;\">\n",
       "      <th></th>\n",
       "      <th>unidad_01</th>\n",
       "      <th>unidad_02</th>\n",
       "      <th>unidad_03</th>\n",
       "      <th>unidad_04</th>\n",
       "      <th>unidad_05</th>\n",
       "      <th>area</th>\n",
       "      <th>soca</th>\n",
       "      <th>inst</th>\n",
       "      <th>geometry</th>\n",
       "      <th>fecha_ini</th>\n",
       "      <th>origen</th>\n",
       "      <th>dias</th>\n",
       "      <th>fecha</th>\n",
       "      <th>os</th>\n",
       "    </tr>\n",
       "  </thead>\n",
       "  <tbody>\n",
       "    <tr>\n",
       "      <th>13385</th>\n",
       "      <td>369</td>\n",
       "      <td>TOBOROCHI--BALCAZAR</td>\n",
       "      <td>1171</td>\n",
       "      <td>BALCAZAR BALCAZAR ROQUE DAVID</td>\n",
       "      <td>L8</td>\n",
       "      <td>0.448734</td>\n",
       "      <td>1</td>\n",
       "      <td>69</td>\n",
       "      <td>POLYGON ((468984.252 8096493.979, 469000.916 8...</td>\n",
       "      <td></td>\n",
       "      <td>SOLICITUD</td>\n",
       "      <td>0</td>\n",
       "      <td></td>\n",
       "      <td>48</td>\n",
       "    </tr>\n",
       "  </tbody>\n",
       "</table>\n",
       "</div>"
      ],
      "text/plain": [
       "       unidad_01            unidad_02  unidad_03  \\\n",
       "13385        369  TOBOROCHI--BALCAZAR       1171   \n",
       "\n",
       "                           unidad_04 unidad_05      area  soca inst  \\\n",
       "13385  BALCAZAR BALCAZAR ROQUE DAVID        L8  0.448734     1   69   \n",
       "\n",
       "                                                geometry fecha_ini     origen  \\\n",
       "13385  POLYGON ((468984.252 8096493.979, 469000.916 8...            SOLICITUD   \n",
       "\n",
       "       dias fecha  os  \n",
       "13385     0        48  "
      ]
     },
     "execution_count": 27,
     "metadata": {},
     "output_type": "execute_result"
    }
   ],
   "source": [
    "poligonos_intersect_cat"
   ]
  },
  {
   "cell_type": "code",
   "execution_count": null,
   "id": "8424dda3-6fd1-4d46-a554-726fa62144fd",
   "metadata": {},
   "outputs": [],
   "source": []
  },
  {
   "cell_type": "code",
   "execution_count": 28,
   "id": "b2322e14-f1dc-46ab-9f59-e4714e0a20b6",
   "metadata": {},
   "outputs": [],
   "source": [
    "# SELECCIONAR LOS LOTES DE SIEMBRAS\n",
    "# identifoca los lotes que se intersectan\n",
    "gdf_lotes_siem = gpd.sjoin(gdf_siembras, multipoint_gdf, how='inner', predicate='intersects')\n",
    "# filtra los lotes intersectados en la capa original\n",
    "poligonos_intersect_siem = gdf_siembras.loc[gdf_siembras.index.isin(gdf_lotes_siem.index)]\n",
    "# copy\n",
    "poligonos_intersect_siem = poligonos_intersect_siem.copy()\n",
    "# agregar campo de semana_planificacion\n",
    "poligonos_intersect_siem['os'] = ors"
   ]
  },
  {
   "cell_type": "code",
   "execution_count": 29,
   "id": "154aea2f-42ed-4ae4-8e86-d3a45a6e07a3",
   "metadata": {},
   "outputs": [],
   "source": [
    "# crea el campo soca, y coloca 0 o 1 dependiendo del origen\n",
    "poligonos_intersect_siem['soca'] = poligonos_intersect_siem['origen'].apply(lambda x: 1 if 'SIEMBRA 2023' in x else 0)"
   ]
  },
  {
   "cell_type": "code",
   "execution_count": 30,
   "id": "6677a472-5927-4623-b7e6-8d4b3b5b8a19",
   "metadata": {},
   "outputs": [],
   "source": [
    "poligonos_intersect_siem = poligonos_intersect_siem[['unidad_01', 'unidad_02', 'unidad_03', 'unidad_04', 'unidad_05', 'area',\n",
    "       'fecha_ini', 'origen', 'dias', 'fecha', 'prioridad', 'inst', 'geometry', 'os', 'soca']]"
   ]
  },
  {
   "cell_type": "code",
   "execution_count": 31,
   "id": "fb93d517-7e8c-41ad-b4e9-cbaa81a3ba89",
   "metadata": {},
   "outputs": [
    {
     "data": {
      "text/html": [
       "<div>\n",
       "<style scoped>\n",
       "    .dataframe tbody tr th:only-of-type {\n",
       "        vertical-align: middle;\n",
       "    }\n",
       "\n",
       "    .dataframe tbody tr th {\n",
       "        vertical-align: top;\n",
       "    }\n",
       "\n",
       "    .dataframe thead th {\n",
       "        text-align: right;\n",
       "    }\n",
       "</style>\n",
       "<table border=\"1\" class=\"dataframe\">\n",
       "  <thead>\n",
       "    <tr style=\"text-align: right;\">\n",
       "      <th></th>\n",
       "      <th>unidad_01</th>\n",
       "      <th>unidad_02</th>\n",
       "      <th>unidad_03</th>\n",
       "      <th>unidad_04</th>\n",
       "      <th>unidad_05</th>\n",
       "      <th>area</th>\n",
       "      <th>fecha_ini</th>\n",
       "      <th>origen</th>\n",
       "      <th>dias</th>\n",
       "      <th>fecha</th>\n",
       "      <th>prioridad</th>\n",
       "      <th>inst</th>\n",
       "      <th>geometry</th>\n",
       "      <th>os</th>\n",
       "      <th>soca</th>\n",
       "    </tr>\n",
       "  </thead>\n",
       "  <tbody>\n",
       "    <tr>\n",
       "      <th>257</th>\n",
       "      <td>458</td>\n",
       "      <td>RINCON DE GUENDA--CALLE</td>\n",
       "      <td>41819</td>\n",
       "      <td>AGROPECUARIA GUSTAVITO SRL</td>\n",
       "      <td>L7.1</td>\n",
       "      <td>3.330107</td>\n",
       "      <td>5/6/2024</td>\n",
       "      <td>SIEMBRA 2023</td>\n",
       "      <td>89.0</td>\n",
       "      <td>2024-05-06</td>\n",
       "      <td>7</td>\n",
       "      <td>304.0</td>\n",
       "      <td>POLYGON ((463457.391 8082738.455, 463494.937 8...</td>\n",
       "      <td>48</td>\n",
       "      <td>1</td>\n",
       "    </tr>\n",
       "    <tr>\n",
       "      <th>489</th>\n",
       "      <td>369</td>\n",
       "      <td>TOBOROCHI--BALCAZAR</td>\n",
       "      <td>1171</td>\n",
       "      <td>BALCAZAR BALCAZAR ROQUE DAVID</td>\n",
       "      <td>L2.1</td>\n",
       "      <td>1.070930</td>\n",
       "      <td>NaN</td>\n",
       "      <td>SIEMBRA 2023</td>\n",
       "      <td>0.0</td>\n",
       "      <td>NaN</td>\n",
       "      <td>1</td>\n",
       "      <td>69.0</td>\n",
       "      <td>POLYGON ((469354.151 8096181.466, 469310.183 8...</td>\n",
       "      <td>48</td>\n",
       "      <td>1</td>\n",
       "    </tr>\n",
       "    <tr>\n",
       "      <th>579</th>\n",
       "      <td>369</td>\n",
       "      <td>TOBOROCHI--BALCAZAR</td>\n",
       "      <td>1171</td>\n",
       "      <td>BALCAZAR BALCAZAR ROQUE DAVID</td>\n",
       "      <td>L5</td>\n",
       "      <td>2.698026</td>\n",
       "      <td>2024-04-29</td>\n",
       "      <td>SIEMBRA 2024</td>\n",
       "      <td>96.0</td>\n",
       "      <td>2024-04-29</td>\n",
       "      <td>1</td>\n",
       "      <td>0.0</td>\n",
       "      <td>POLYGON ((469061.102 8096539.440, 469065.428 8...</td>\n",
       "      <td>48</td>\n",
       "      <td>0</td>\n",
       "    </tr>\n",
       "    <tr>\n",
       "      <th>586</th>\n",
       "      <td>369</td>\n",
       "      <td>TOBOROCHI--BALCAZAR</td>\n",
       "      <td>1171</td>\n",
       "      <td>BALCAZAR BALCAZAR ROQUE DAVID</td>\n",
       "      <td>L6.4</td>\n",
       "      <td>1.365556</td>\n",
       "      <td>2024-04-25</td>\n",
       "      <td>SIEMBRA 2024</td>\n",
       "      <td>100.0</td>\n",
       "      <td>2024-04-25</td>\n",
       "      <td>1</td>\n",
       "      <td>0.0</td>\n",
       "      <td>POLYGON ((469569.170 8096038.910, 469570.955 8...</td>\n",
       "      <td>48</td>\n",
       "      <td>0</td>\n",
       "    </tr>\n",
       "    <tr>\n",
       "      <th>603</th>\n",
       "      <td>369</td>\n",
       "      <td>TOBOROCHI--BALCAZAR</td>\n",
       "      <td>1171</td>\n",
       "      <td>BALCAZAR BALCAZAR ROQUE DAVID</td>\n",
       "      <td>L3</td>\n",
       "      <td>2.902202</td>\n",
       "      <td>2024-04-29</td>\n",
       "      <td>SIEMBRA 2024</td>\n",
       "      <td>96.0</td>\n",
       "      <td>2024-04-29</td>\n",
       "      <td>1</td>\n",
       "      <td>0.0</td>\n",
       "      <td>POLYGON ((469256.883 8096164.412, 469189.404 8...</td>\n",
       "      <td>48</td>\n",
       "      <td>0</td>\n",
       "    </tr>\n",
       "  </tbody>\n",
       "</table>\n",
       "</div>"
      ],
      "text/plain": [
       "    unidad_01                unidad_02 unidad_03  \\\n",
       "257       458  RINCON DE GUENDA--CALLE     41819   \n",
       "489       369      TOBOROCHI--BALCAZAR      1171   \n",
       "579       369      TOBOROCHI--BALCAZAR      1171   \n",
       "586       369      TOBOROCHI--BALCAZAR      1171   \n",
       "603       369      TOBOROCHI--BALCAZAR      1171   \n",
       "\n",
       "                         unidad_04 unidad_05      area   fecha_ini  \\\n",
       "257     AGROPECUARIA GUSTAVITO SRL      L7.1  3.330107    5/6/2024   \n",
       "489  BALCAZAR BALCAZAR ROQUE DAVID      L2.1  1.070930         NaN   \n",
       "579  BALCAZAR BALCAZAR ROQUE DAVID        L5  2.698026  2024-04-29   \n",
       "586  BALCAZAR BALCAZAR ROQUE DAVID      L6.4  1.365556  2024-04-25   \n",
       "603  BALCAZAR BALCAZAR ROQUE DAVID        L3  2.902202  2024-04-29   \n",
       "\n",
       "           origen   dias       fecha  prioridad   inst  \\\n",
       "257  SIEMBRA 2023   89.0  2024-05-06          7  304.0   \n",
       "489  SIEMBRA 2023    0.0         NaN          1   69.0   \n",
       "579  SIEMBRA 2024   96.0  2024-04-29          1    0.0   \n",
       "586  SIEMBRA 2024  100.0  2024-04-25          1    0.0   \n",
       "603  SIEMBRA 2024   96.0  2024-04-29          1    0.0   \n",
       "\n",
       "                                              geometry  os  soca  \n",
       "257  POLYGON ((463457.391 8082738.455, 463494.937 8...  48     1  \n",
       "489  POLYGON ((469354.151 8096181.466, 469310.183 8...  48     1  \n",
       "579  POLYGON ((469061.102 8096539.440, 469065.428 8...  48     0  \n",
       "586  POLYGON ((469569.170 8096038.910, 469570.955 8...  48     0  \n",
       "603  POLYGON ((469256.883 8096164.412, 469189.404 8...  48     0  "
      ]
     },
     "execution_count": 31,
     "metadata": {},
     "output_type": "execute_result"
    }
   ],
   "source": [
    "poligonos_intersect_siem"
   ]
  },
  {
   "cell_type": "code",
   "execution_count": 32,
   "id": "f94775cc-b2cb-4562-bdbf-d4cdea9b7d4a",
   "metadata": {},
   "outputs": [],
   "source": [
    "# Concatenar los DataFrames a lo largo de las filas (axis=0)\n",
    "plan = pd.concat([poligonos_intersect_cat, poligonos_intersect_siem], axis=0)\n",
    "# Si deseas restablecer el índice después de concatenar\n",
    "plan.reset_index(drop=True, inplace=True)"
   ]
  },
  {
   "cell_type": "code",
   "execution_count": 33,
   "id": "eaaf58db-a69b-438d-a53c-3014bff3a849",
   "metadata": {},
   "outputs": [
    {
     "data": {
      "text/plain": [
       "<Axes: >"
      ]
     },
     "execution_count": 33,
     "metadata": {},
     "output_type": "execute_result"
    },
    {
     "data": {
      "image/png": "[encoded data removed]",
      "text/plain": [
       "<Figure size 640x480 with 1 Axes>"
      ]
     },
     "metadata": {},
     "output_type": "display_data"
    }
   ],
   "source": [
    "plan.plot()"
   ]
  },
  {
   "cell_type": "code",
   "execution_count": 34,
   "id": "2405fa10-535a-4b76-86da-3f8f0a6a7bcc",
   "metadata": {},
   "outputs": [
    {
     "data": {
      "text/plain": [
       "11.815554816914"
      ]
     },
     "execution_count": 34,
     "metadata": {},
     "output_type": "execute_result"
    }
   ],
   "source": [
    "plan['area'].sum()"
   ]
  },
  {
   "cell_type": "code",
   "execution_count": 35,
   "id": "903dd5e2-1fb0-4380-9843-187ed3e2880f",
   "metadata": {},
   "outputs": [],
   "source": [
    "#RECALCULAR EL AREA\n",
    "plan['area'] = plan.geometry.area / 10000"
   ]
  },
  {
   "cell_type": "code",
   "execution_count": 36,
   "id": "d20fa8af-ca0e-42a7-8578-b5fc74b3dc0a",
   "metadata": {},
   "outputs": [
    {
     "data": {
      "text/plain": [
       "11.815554816915606"
      ]
     },
     "execution_count": 36,
     "metadata": {},
     "output_type": "execute_result"
    }
   ],
   "source": [
    "plan['area'].sum()"
   ]
  },
  {
   "cell_type": "code",
   "execution_count": 37,
   "id": "cce50e5e-a116-4b2a-af88-5e8781eb1c30",
   "metadata": {},
   "outputs": [],
   "source": [
    "# carga el shp de planificacion\n",
    "gdf_plan = gpd.read_file(path_plan)"
   ]
  },
  {
   "cell_type": "code",
   "execution_count": 38,
   "id": "c8672e4b-c9c3-4e06-b506-9c351d506ee5",
   "metadata": {},
   "outputs": [],
   "source": [
    "# determina el ultimo id\n",
    "last_id = 0\n",
    "if gdf_plan['id'].max() > 0:\n",
    "    last_id = gdf_plan['id'].max()\n",
    "else:\n",
    "    last_id = 0"
   ]
  },
  {
   "cell_type": "code",
   "execution_count": 39,
   "id": "8c0d2c70-f1d2-4f86-a30c-498e31bf3fef",
   "metadata": {},
   "outputs": [
    {
     "data": {
      "text/plain": [
       "408"
      ]
     },
     "execution_count": 39,
     "metadata": {},
     "output_type": "execute_result"
    }
   ],
   "source": [
    "last_id"
   ]
  },
  {
   "cell_type": "code",
   "execution_count": 40,
   "id": "0f50711b-5f55-4e1e-8d2f-f3d2fd35b395",
   "metadata": {},
   "outputs": [],
   "source": [
    "# Asignar valores incrementales a la columna 'id' empezando desde last_id + 1\n",
    "plan['id'] = range(last_id + 1, last_id + 1 + len(plan))"
   ]
  },
  {
   "cell_type": "code",
   "execution_count": 41,
   "id": "9d77a388-b29a-4179-85bf-b645b6f52740",
   "metadata": {},
   "outputs": [
    {
     "data": {
      "text/html": [
       "<div>\n",
       "<style scoped>\n",
       "    .dataframe tbody tr th:only-of-type {\n",
       "        vertical-align: middle;\n",
       "    }\n",
       "\n",
       "    .dataframe tbody tr th {\n",
       "        vertical-align: top;\n",
       "    }\n",
       "\n",
       "    .dataframe thead th {\n",
       "        text-align: right;\n",
       "    }\n",
       "</style>\n",
       "<table border=\"1\" class=\"dataframe\">\n",
       "  <thead>\n",
       "    <tr style=\"text-align: right;\">\n",
       "      <th></th>\n",
       "      <th>unidad_01</th>\n",
       "      <th>unidad_02</th>\n",
       "      <th>unidad_03</th>\n",
       "      <th>unidad_04</th>\n",
       "      <th>unidad_05</th>\n",
       "      <th>area</th>\n",
       "      <th>soca</th>\n",
       "      <th>inst</th>\n",
       "      <th>geometry</th>\n",
       "      <th>fecha_ini</th>\n",
       "      <th>origen</th>\n",
       "      <th>dias</th>\n",
       "      <th>fecha</th>\n",
       "      <th>os</th>\n",
       "      <th>prioridad</th>\n",
       "      <th>id</th>\n",
       "    </tr>\n",
       "  </thead>\n",
       "  <tbody>\n",
       "    <tr>\n",
       "      <th>0</th>\n",
       "      <td>369</td>\n",
       "      <td>TOBOROCHI--BALCAZAR</td>\n",
       "      <td>1171</td>\n",
       "      <td>BALCAZAR BALCAZAR ROQUE DAVID</td>\n",
       "      <td>L8</td>\n",
       "      <td>0.448734</td>\n",
       "      <td>1</td>\n",
       "      <td>69</td>\n",
       "      <td>POLYGON ((468984.252 8096493.979, 469000.916 8...</td>\n",
       "      <td></td>\n",
       "      <td>SOLICITUD</td>\n",
       "      <td>0.0</td>\n",
       "      <td></td>\n",
       "      <td>48</td>\n",
       "      <td>NaN</td>\n",
       "      <td>409</td>\n",
       "    </tr>\n",
       "    <tr>\n",
       "      <th>1</th>\n",
       "      <td>458</td>\n",
       "      <td>RINCON DE GUENDA--CALLE</td>\n",
       "      <td>41819</td>\n",
       "      <td>AGROPECUARIA GUSTAVITO SRL</td>\n",
       "      <td>L7.1</td>\n",
       "      <td>3.330107</td>\n",
       "      <td>1</td>\n",
       "      <td>304.0</td>\n",
       "      <td>POLYGON ((463457.391 8082738.455, 463494.937 8...</td>\n",
       "      <td>5/6/2024</td>\n",
       "      <td>SIEMBRA 2023</td>\n",
       "      <td>89.0</td>\n",
       "      <td>2024-05-06</td>\n",
       "      <td>48</td>\n",
       "      <td>7.0</td>\n",
       "      <td>410</td>\n",
       "    </tr>\n",
       "    <tr>\n",
       "      <th>2</th>\n",
       "      <td>369</td>\n",
       "      <td>TOBOROCHI--BALCAZAR</td>\n",
       "      <td>1171</td>\n",
       "      <td>BALCAZAR BALCAZAR ROQUE DAVID</td>\n",
       "      <td>L2.1</td>\n",
       "      <td>1.070930</td>\n",
       "      <td>1</td>\n",
       "      <td>69.0</td>\n",
       "      <td>POLYGON ((469354.151 8096181.466, 469310.183 8...</td>\n",
       "      <td>NaN</td>\n",
       "      <td>SIEMBRA 2023</td>\n",
       "      <td>0.0</td>\n",
       "      <td>NaN</td>\n",
       "      <td>48</td>\n",
       "      <td>1.0</td>\n",
       "      <td>411</td>\n",
       "    </tr>\n",
       "    <tr>\n",
       "      <th>3</th>\n",
       "      <td>369</td>\n",
       "      <td>TOBOROCHI--BALCAZAR</td>\n",
       "      <td>1171</td>\n",
       "      <td>BALCAZAR BALCAZAR ROQUE DAVID</td>\n",
       "      <td>L5</td>\n",
       "      <td>2.698026</td>\n",
       "      <td>0</td>\n",
       "      <td>0.0</td>\n",
       "      <td>POLYGON ((469061.102 8096539.440, 469065.428 8...</td>\n",
       "      <td>2024-04-29</td>\n",
       "      <td>SIEMBRA 2024</td>\n",
       "      <td>96.0</td>\n",
       "      <td>2024-04-29</td>\n",
       "      <td>48</td>\n",
       "      <td>1.0</td>\n",
       "      <td>412</td>\n",
       "    </tr>\n",
       "    <tr>\n",
       "      <th>4</th>\n",
       "      <td>369</td>\n",
       "      <td>TOBOROCHI--BALCAZAR</td>\n",
       "      <td>1171</td>\n",
       "      <td>BALCAZAR BALCAZAR ROQUE DAVID</td>\n",
       "      <td>L6.4</td>\n",
       "      <td>1.365556</td>\n",
       "      <td>0</td>\n",
       "      <td>0.0</td>\n",
       "      <td>POLYGON ((469569.170 8096038.910, 469570.955 8...</td>\n",
       "      <td>2024-04-25</td>\n",
       "      <td>SIEMBRA 2024</td>\n",
       "      <td>100.0</td>\n",
       "      <td>2024-04-25</td>\n",
       "      <td>48</td>\n",
       "      <td>1.0</td>\n",
       "      <td>413</td>\n",
       "    </tr>\n",
       "    <tr>\n",
       "      <th>5</th>\n",
       "      <td>369</td>\n",
       "      <td>TOBOROCHI--BALCAZAR</td>\n",
       "      <td>1171</td>\n",
       "      <td>BALCAZAR BALCAZAR ROQUE DAVID</td>\n",
       "      <td>L3</td>\n",
       "      <td>2.902202</td>\n",
       "      <td>0</td>\n",
       "      <td>0.0</td>\n",
       "      <td>POLYGON ((469256.883 8096164.412, 469189.404 8...</td>\n",
       "      <td>2024-04-29</td>\n",
       "      <td>SIEMBRA 2024</td>\n",
       "      <td>96.0</td>\n",
       "      <td>2024-04-29</td>\n",
       "      <td>48</td>\n",
       "      <td>1.0</td>\n",
       "      <td>414</td>\n",
       "    </tr>\n",
       "  </tbody>\n",
       "</table>\n",
       "</div>"
      ],
      "text/plain": [
       "  unidad_01                unidad_02 unidad_03                      unidad_04  \\\n",
       "0       369      TOBOROCHI--BALCAZAR      1171  BALCAZAR BALCAZAR ROQUE DAVID   \n",
       "1       458  RINCON DE GUENDA--CALLE     41819     AGROPECUARIA GUSTAVITO SRL   \n",
       "2       369      TOBOROCHI--BALCAZAR      1171  BALCAZAR BALCAZAR ROQUE DAVID   \n",
       "3       369      TOBOROCHI--BALCAZAR      1171  BALCAZAR BALCAZAR ROQUE DAVID   \n",
       "4       369      TOBOROCHI--BALCAZAR      1171  BALCAZAR BALCAZAR ROQUE DAVID   \n",
       "5       369      TOBOROCHI--BALCAZAR      1171  BALCAZAR BALCAZAR ROQUE DAVID   \n",
       "\n",
       "  unidad_05      area  soca   inst  \\\n",
       "0        L8  0.448734     1     69   \n",
       "1      L7.1  3.330107     1  304.0   \n",
       "2      L2.1  1.070930     1   69.0   \n",
       "3        L5  2.698026     0    0.0   \n",
       "4      L6.4  1.365556     0    0.0   \n",
       "5        L3  2.902202     0    0.0   \n",
       "\n",
       "                                            geometry   fecha_ini  \\\n",
       "0  POLYGON ((468984.252 8096493.979, 469000.916 8...               \n",
       "1  POLYGON ((463457.391 8082738.455, 463494.937 8...    5/6/2024   \n",
       "2  POLYGON ((469354.151 8096181.466, 469310.183 8...         NaN   \n",
       "3  POLYGON ((469061.102 8096539.440, 469065.428 8...  2024-04-29   \n",
       "4  POLYGON ((469569.170 8096038.910, 469570.955 8...  2024-04-25   \n",
       "5  POLYGON ((469256.883 8096164.412, 469189.404 8...  2024-04-29   \n",
       "\n",
       "         origen   dias       fecha  os  prioridad   id  \n",
       "0     SOLICITUD    0.0              48        NaN  409  \n",
       "1  SIEMBRA 2023   89.0  2024-05-06  48        7.0  410  \n",
       "2  SIEMBRA 2023    0.0         NaN  48        1.0  411  \n",
       "3  SIEMBRA 2024   96.0  2024-04-29  48        1.0  412  \n",
       "4  SIEMBRA 2024  100.0  2024-04-25  48        1.0  413  \n",
       "5  SIEMBRA 2024   96.0  2024-04-29  48        1.0  414  "
      ]
     },
     "execution_count": 41,
     "metadata": {},
     "output_type": "execute_result"
    }
   ],
   "source": [
    "plan"
   ]
  },
  {
   "cell_type": "code",
   "execution_count": 42,
   "id": "c895696e-b032-4da6-8083-3bc3fa27bcb0",
   "metadata": {},
   "outputs": [
    {
     "data": {
      "text/plain": [
       "6"
      ]
     },
     "execution_count": 42,
     "metadata": {},
     "output_type": "execute_result"
    }
   ],
   "source": [
    "len(plan)"
   ]
  },
  {
   "cell_type": "code",
   "execution_count": 43,
   "id": "5d989b45-d04a-4a62-af2c-778881ecf130",
   "metadata": {},
   "outputs": [],
   "source": [
    "# union de los dos gdf\n",
    "gdf_pla_gral = pd.concat([gdf_plan, plan], ignore_index=True)"
   ]
  },
  {
   "cell_type": "code",
   "execution_count": 44,
   "id": "a0aa63d6-c245-43bf-ae75-a3512e50c213",
   "metadata": {},
   "outputs": [
    {
     "data": {
      "text/plain": [
       "3173.918389809103"
      ]
     },
     "execution_count": 44,
     "metadata": {},
     "output_type": "execute_result"
    }
   ],
   "source": [
    "gdf_pla_gral['area'].sum()"
   ]
  },
  {
   "cell_type": "code",
   "execution_count": 45,
   "id": "3ceba5ac-11a6-46f5-ade5-f5c81389c2f8",
   "metadata": {},
   "outputs": [],
   "source": [
    "gdf_pla_gral['unidad_01'] = gdf_pla_gral['unidad_01'].astype(int)\n",
    "gdf_pla_gral['unidad_03'] = gdf_pla_gral['unidad_03'].astype(int)\n",
    "gdf_pla_gral['dias'] = gdf_pla_gral['dias'].astype(int)\n",
    "#gdf_pla_gral['prioridad'] = gdf_pla_gral['prioridad'].astype(int)\n",
    "gdf_pla_gral['os'] = gdf_pla_gral['os'].astype(int)\n",
    "gdf_pla_gral['soca'] = gdf_pla_gral['soca'].astype(int)\n",
    "gdf_pla_gral['id'] = gdf_pla_gral['id'].astype(int)\n",
    "gdf_pla_gral['inst'] = gdf_pla_gral['inst'].astype(int)"
   ]
  },
  {
   "cell_type": "code",
   "execution_count": 46,
   "id": "558488e5-407b-405b-b50f-d54b7cb38dd1",
   "metadata": {},
   "outputs": [],
   "source": [
    "# exportar los datos en nuevo shp\n",
    "gdf_pla_gral.to_file(path_plan)"
   ]
  },
  {
   "cell_type": "code",
   "execution_count": 47,
   "id": "59cba9c8-da7b-426e-84c8-47f52dc7eba7",
   "metadata": {},
   "outputs": [
    {
     "data": {
      "text/html": [
       "<div>\n",
       "<style scoped>\n",
       "    .dataframe tbody tr th:only-of-type {\n",
       "        vertical-align: middle;\n",
       "    }\n",
       "\n",
       "    .dataframe tbody tr th {\n",
       "        vertical-align: top;\n",
       "    }\n",
       "\n",
       "    .dataframe thead th {\n",
       "        text-align: right;\n",
       "    }\n",
       "</style>\n",
       "<table border=\"1\" class=\"dataframe\">\n",
       "  <thead>\n",
       "    <tr style=\"text-align: right;\">\n",
       "      <th></th>\n",
       "      <th>unidad_01</th>\n",
       "      <th>unidad_02</th>\n",
       "      <th>unidad_03</th>\n",
       "      <th>unidad_04</th>\n",
       "      <th>unidad_05</th>\n",
       "      <th>area</th>\n",
       "      <th>fecha_ini</th>\n",
       "      <th>origen</th>\n",
       "      <th>dias</th>\n",
       "      <th>fecha</th>\n",
       "      <th>prioridad</th>\n",
       "      <th>os</th>\n",
       "      <th>soca</th>\n",
       "      <th>id</th>\n",
       "      <th>inst</th>\n",
       "      <th>telefono_1</th>\n",
       "      <th>telefono_2</th>\n",
       "      <th>telefono_3</th>\n",
       "      <th>idd</th>\n",
       "      <th>geometry</th>\n",
       "    </tr>\n",
       "  </thead>\n",
       "  <tbody>\n",
       "    <tr>\n",
       "      <th>0</th>\n",
       "      <td>47</td>\n",
       "      <td>SANTA MARTHA</td>\n",
       "      <td>40149</td>\n",
       "      <td>PAZ REA JOSE ERNESTO</td>\n",
       "      <td>A7</td>\n",
       "      <td>10.696703</td>\n",
       "      <td>21/5/2024</td>\n",
       "      <td>SIEMBRA 2023</td>\n",
       "      <td>37</td>\n",
       "      <td>2024-05-21</td>\n",
       "      <td>1.0</td>\n",
       "      <td>26</td>\n",
       "      <td>1</td>\n",
       "      <td>1</td>\n",
       "      <td>69</td>\n",
       "      <td>0.0</td>\n",
       "      <td>0.0</td>\n",
       "      <td>NaN</td>\n",
       "      <td>35</td>\n",
       "      <td>POLYGON ((488616.298 8103763.516, 488519.488 8...</td>\n",
       "    </tr>\n",
       "    <tr>\n",
       "      <th>1</th>\n",
       "      <td>187</td>\n",
       "      <td>MATIAS--HABBAUER</td>\n",
       "      <td>5421</td>\n",
       "      <td>HUBBAUER HOYOS ENRIQUE</td>\n",
       "      <td>L7.2</td>\n",
       "      <td>1.835936</td>\n",
       "      <td>2024-04-15</td>\n",
       "      <td>SIEMBRA 2024</td>\n",
       "      <td>73</td>\n",
       "      <td>2024-04-15</td>\n",
       "      <td>6.0</td>\n",
       "      <td>26</td>\n",
       "      <td>0</td>\n",
       "      <td>2</td>\n",
       "      <td>62</td>\n",
       "      <td>0.0</td>\n",
       "      <td>0.0</td>\n",
       "      <td>NaN</td>\n",
       "      <td>54</td>\n",
       "      <td>POLYGON ((473330.370 8101634.734, 473440.011 8...</td>\n",
       "    </tr>\n",
       "    <tr>\n",
       "      <th>2</th>\n",
       "      <td>187</td>\n",
       "      <td>MATIAS--HABBAUER</td>\n",
       "      <td>5421</td>\n",
       "      <td>HUBBAUER HOYOS ENRIQUE</td>\n",
       "      <td>L6</td>\n",
       "      <td>1.960231</td>\n",
       "      <td>2024-04-15</td>\n",
       "      <td>SIEMBRA 2024</td>\n",
       "      <td>73</td>\n",
       "      <td>2024-04-15</td>\n",
       "      <td>6.0</td>\n",
       "      <td>26</td>\n",
       "      <td>0</td>\n",
       "      <td>3</td>\n",
       "      <td>62</td>\n",
       "      <td>0.0</td>\n",
       "      <td>0.0</td>\n",
       "      <td>NaN</td>\n",
       "      <td>54</td>\n",
       "      <td>POLYGON ((473242.172 8101427.289, 473148.580 8...</td>\n",
       "    </tr>\n",
       "    <tr>\n",
       "      <th>3</th>\n",
       "      <td>187</td>\n",
       "      <td>MATIAS--HABBAUER</td>\n",
       "      <td>5421</td>\n",
       "      <td>HUBBAUER HOYOS ENRIQUE</td>\n",
       "      <td>L9.1</td>\n",
       "      <td>3.607907</td>\n",
       "      <td>2024-04-16</td>\n",
       "      <td>SIEMBRA 2024</td>\n",
       "      <td>72</td>\n",
       "      <td>2024-04-16</td>\n",
       "      <td>6.0</td>\n",
       "      <td>26</td>\n",
       "      <td>0</td>\n",
       "      <td>4</td>\n",
       "      <td>62</td>\n",
       "      <td>0.0</td>\n",
       "      <td>0.0</td>\n",
       "      <td>NaN</td>\n",
       "      <td>54</td>\n",
       "      <td>POLYGON ((473286.579 8101086.503, 473265.875 8...</td>\n",
       "    </tr>\n",
       "    <tr>\n",
       "      <th>4</th>\n",
       "      <td>2123</td>\n",
       "      <td>LAS CHACRAS PORTACHUELO</td>\n",
       "      <td>13132</td>\n",
       "      <td>ZUMARAN MENACHO JORGE</td>\n",
       "      <td>L1.6</td>\n",
       "      <td>0.386826</td>\n",
       "      <td>2024-04-22</td>\n",
       "      <td>SIEMBRA 2024</td>\n",
       "      <td>66</td>\n",
       "      <td>2024-04-22</td>\n",
       "      <td>10.0</td>\n",
       "      <td>26</td>\n",
       "      <td>0</td>\n",
       "      <td>5</td>\n",
       "      <td>50</td>\n",
       "      <td>0.0</td>\n",
       "      <td>0.0</td>\n",
       "      <td>NaN</td>\n",
       "      <td>63</td>\n",
       "      <td>POLYGON ((455236.898 8084312.120, 455248.807 8...</td>\n",
       "    </tr>\n",
       "    <tr>\n",
       "      <th>...</th>\n",
       "      <td>...</td>\n",
       "      <td>...</td>\n",
       "      <td>...</td>\n",
       "      <td>...</td>\n",
       "      <td>...</td>\n",
       "      <td>...</td>\n",
       "      <td>...</td>\n",
       "      <td>...</td>\n",
       "      <td>...</td>\n",
       "      <td>...</td>\n",
       "      <td>...</td>\n",
       "      <td>...</td>\n",
       "      <td>...</td>\n",
       "      <td>...</td>\n",
       "      <td>...</td>\n",
       "      <td>...</td>\n",
       "      <td>...</td>\n",
       "      <td>...</td>\n",
       "      <td>...</td>\n",
       "      <td>...</td>\n",
       "    </tr>\n",
       "    <tr>\n",
       "      <th>391</th>\n",
       "      <td>458</td>\n",
       "      <td>RINCON DE GUENDA--CALLE</td>\n",
       "      <td>41819</td>\n",
       "      <td>AGROPECUARIA GUSTAVITO SRL</td>\n",
       "      <td>L7.1</td>\n",
       "      <td>3.330107</td>\n",
       "      <td>5/6/2024</td>\n",
       "      <td>SIEMBRA 2023</td>\n",
       "      <td>89</td>\n",
       "      <td>2024-05-06</td>\n",
       "      <td>7.0</td>\n",
       "      <td>48</td>\n",
       "      <td>1</td>\n",
       "      <td>410</td>\n",
       "      <td>304</td>\n",
       "      <td>NaN</td>\n",
       "      <td>NaN</td>\n",
       "      <td>NaN</td>\n",
       "      <td>NaN</td>\n",
       "      <td>POLYGON ((463457.391 8082738.455, 463494.937 8...</td>\n",
       "    </tr>\n",
       "    <tr>\n",
       "      <th>392</th>\n",
       "      <td>369</td>\n",
       "      <td>TOBOROCHI--BALCAZAR</td>\n",
       "      <td>1171</td>\n",
       "      <td>BALCAZAR BALCAZAR ROQUE DAVID</td>\n",
       "      <td>L2.1</td>\n",
       "      <td>1.070930</td>\n",
       "      <td>NaN</td>\n",
       "      <td>SIEMBRA 2023</td>\n",
       "      <td>0</td>\n",
       "      <td>NaN</td>\n",
       "      <td>1.0</td>\n",
       "      <td>48</td>\n",
       "      <td>1</td>\n",
       "      <td>411</td>\n",
       "      <td>69</td>\n",
       "      <td>NaN</td>\n",
       "      <td>NaN</td>\n",
       "      <td>NaN</td>\n",
       "      <td>NaN</td>\n",
       "      <td>POLYGON ((469354.151 8096181.466, 469310.183 8...</td>\n",
       "    </tr>\n",
       "    <tr>\n",
       "      <th>393</th>\n",
       "      <td>369</td>\n",
       "      <td>TOBOROCHI--BALCAZAR</td>\n",
       "      <td>1171</td>\n",
       "      <td>BALCAZAR BALCAZAR ROQUE DAVID</td>\n",
       "      <td>L5</td>\n",
       "      <td>2.698026</td>\n",
       "      <td>2024-04-29</td>\n",
       "      <td>SIEMBRA 2024</td>\n",
       "      <td>96</td>\n",
       "      <td>2024-04-29</td>\n",
       "      <td>1.0</td>\n",
       "      <td>48</td>\n",
       "      <td>0</td>\n",
       "      <td>412</td>\n",
       "      <td>0</td>\n",
       "      <td>NaN</td>\n",
       "      <td>NaN</td>\n",
       "      <td>NaN</td>\n",
       "      <td>NaN</td>\n",
       "      <td>POLYGON ((469061.102 8096539.440, 469065.428 8...</td>\n",
       "    </tr>\n",
       "    <tr>\n",
       "      <th>394</th>\n",
       "      <td>369</td>\n",
       "      <td>TOBOROCHI--BALCAZAR</td>\n",
       "      <td>1171</td>\n",
       "      <td>BALCAZAR BALCAZAR ROQUE DAVID</td>\n",
       "      <td>L6.4</td>\n",
       "      <td>1.365556</td>\n",
       "      <td>2024-04-25</td>\n",
       "      <td>SIEMBRA 2024</td>\n",
       "      <td>100</td>\n",
       "      <td>2024-04-25</td>\n",
       "      <td>1.0</td>\n",
       "      <td>48</td>\n",
       "      <td>0</td>\n",
       "      <td>413</td>\n",
       "      <td>0</td>\n",
       "      <td>NaN</td>\n",
       "      <td>NaN</td>\n",
       "      <td>NaN</td>\n",
       "      <td>NaN</td>\n",
       "      <td>POLYGON ((469569.170 8096038.910, 469570.955 8...</td>\n",
       "    </tr>\n",
       "    <tr>\n",
       "      <th>395</th>\n",
       "      <td>369</td>\n",
       "      <td>TOBOROCHI--BALCAZAR</td>\n",
       "      <td>1171</td>\n",
       "      <td>BALCAZAR BALCAZAR ROQUE DAVID</td>\n",
       "      <td>L3</td>\n",
       "      <td>2.902202</td>\n",
       "      <td>2024-04-29</td>\n",
       "      <td>SIEMBRA 2024</td>\n",
       "      <td>96</td>\n",
       "      <td>2024-04-29</td>\n",
       "      <td>1.0</td>\n",
       "      <td>48</td>\n",
       "      <td>0</td>\n",
       "      <td>414</td>\n",
       "      <td>0</td>\n",
       "      <td>NaN</td>\n",
       "      <td>NaN</td>\n",
       "      <td>NaN</td>\n",
       "      <td>NaN</td>\n",
       "      <td>POLYGON ((469256.883 8096164.412, 469189.404 8...</td>\n",
       "    </tr>\n",
       "  </tbody>\n",
       "</table>\n",
       "<p>396 rows × 20 columns</p>\n",
       "</div>"
      ],
      "text/plain": [
       "     unidad_01                unidad_02  unidad_03  \\\n",
       "0           47             SANTA MARTHA      40149   \n",
       "1          187         MATIAS--HABBAUER       5421   \n",
       "2          187         MATIAS--HABBAUER       5421   \n",
       "3          187         MATIAS--HABBAUER       5421   \n",
       "4         2123  LAS CHACRAS PORTACHUELO      13132   \n",
       "..         ...                      ...        ...   \n",
       "391        458  RINCON DE GUENDA--CALLE      41819   \n",
       "392        369      TOBOROCHI--BALCAZAR       1171   \n",
       "393        369      TOBOROCHI--BALCAZAR       1171   \n",
       "394        369      TOBOROCHI--BALCAZAR       1171   \n",
       "395        369      TOBOROCHI--BALCAZAR       1171   \n",
       "\n",
       "                         unidad_04 unidad_05       area   fecha_ini  \\\n",
       "0             PAZ REA JOSE ERNESTO        A7  10.696703   21/5/2024   \n",
       "1           HUBBAUER HOYOS ENRIQUE      L7.2   1.835936  2024-04-15   \n",
       "2           HUBBAUER HOYOS ENRIQUE        L6   1.960231  2024-04-15   \n",
       "3           HUBBAUER HOYOS ENRIQUE      L9.1   3.607907  2024-04-16   \n",
       "4            ZUMARAN MENACHO JORGE      L1.6   0.386826  2024-04-22   \n",
       "..                             ...       ...        ...         ...   \n",
       "391     AGROPECUARIA GUSTAVITO SRL      L7.1   3.330107    5/6/2024   \n",
       "392  BALCAZAR BALCAZAR ROQUE DAVID      L2.1   1.070930         NaN   \n",
       "393  BALCAZAR BALCAZAR ROQUE DAVID        L5   2.698026  2024-04-29   \n",
       "394  BALCAZAR BALCAZAR ROQUE DAVID      L6.4   1.365556  2024-04-25   \n",
       "395  BALCAZAR BALCAZAR ROQUE DAVID        L3   2.902202  2024-04-29   \n",
       "\n",
       "           origen  dias       fecha  prioridad  os  soca   id  inst  \\\n",
       "0    SIEMBRA 2023    37  2024-05-21        1.0  26     1    1    69   \n",
       "1    SIEMBRA 2024    73  2024-04-15        6.0  26     0    2    62   \n",
       "2    SIEMBRA 2024    73  2024-04-15        6.0  26     0    3    62   \n",
       "3    SIEMBRA 2024    72  2024-04-16        6.0  26     0    4    62   \n",
       "4    SIEMBRA 2024    66  2024-04-22       10.0  26     0    5    50   \n",
       "..            ...   ...         ...        ...  ..   ...  ...   ...   \n",
       "391  SIEMBRA 2023    89  2024-05-06        7.0  48     1  410   304   \n",
       "392  SIEMBRA 2023     0         NaN        1.0  48     1  411    69   \n",
       "393  SIEMBRA 2024    96  2024-04-29        1.0  48     0  412     0   \n",
       "394  SIEMBRA 2024   100  2024-04-25        1.0  48     0  413     0   \n",
       "395  SIEMBRA 2024    96  2024-04-29        1.0  48     0  414     0   \n",
       "\n",
       "     telefono_1  telefono_2  telefono_3  idd  \\\n",
       "0           0.0         0.0         NaN   35   \n",
       "1           0.0         0.0         NaN   54   \n",
       "2           0.0         0.0         NaN   54   \n",
       "3           0.0         0.0         NaN   54   \n",
       "4           0.0         0.0         NaN   63   \n",
       "..          ...         ...         ...  ...   \n",
       "391         NaN         NaN         NaN  NaN   \n",
       "392         NaN         NaN         NaN  NaN   \n",
       "393         NaN         NaN         NaN  NaN   \n",
       "394         NaN         NaN         NaN  NaN   \n",
       "395         NaN         NaN         NaN  NaN   \n",
       "\n",
       "                                              geometry  \n",
       "0    POLYGON ((488616.298 8103763.516, 488519.488 8...  \n",
       "1    POLYGON ((473330.370 8101634.734, 473440.011 8...  \n",
       "2    POLYGON ((473242.172 8101427.289, 473148.580 8...  \n",
       "3    POLYGON ((473286.579 8101086.503, 473265.875 8...  \n",
       "4    POLYGON ((455236.898 8084312.120, 455248.807 8...  \n",
       "..                                                 ...  \n",
       "391  POLYGON ((463457.391 8082738.455, 463494.937 8...  \n",
       "392  POLYGON ((469354.151 8096181.466, 469310.183 8...  \n",
       "393  POLYGON ((469061.102 8096539.440, 469065.428 8...  \n",
       "394  POLYGON ((469569.170 8096038.910, 469570.955 8...  \n",
       "395  POLYGON ((469256.883 8096164.412, 469189.404 8...  \n",
       "\n",
       "[396 rows x 20 columns]"
      ]
     },
     "execution_count": 47,
     "metadata": {},
     "output_type": "execute_result"
    }
   ],
   "source": [
    "gdf_pla_gral"
   ]
  },
  {
   "cell_type": "markdown",
   "id": "92a10d50-7471-4f3a-8085-fd37e259b2b1",
   "metadata": {},
   "source": [
    "# CARGAR PLANIFICACION A AMIGOCLOUD"
   ]
  },
  {
   "cell_type": "code",
   "execution_count": 48,
   "id": "b3af9f2f-af6f-4d93-9486-fc9dc3bf959b",
   "metadata": {},
   "outputs": [],
   "source": [
    "def convertir_a_multipolygon(geometry):\n",
    "    if isinstance(geometry, Polygon):\n",
    "        return MultiPolygon([geometry])\n",
    "    return geometry\n",
    "\n",
    "def convertir_a_wkb(polygon):\n",
    "    wkb_data = wkb.dumps(polygon, hex=True)\n",
    "    return wkb_data"
   ]
  },
  {
   "cell_type": "code",
   "execution_count": 49,
   "id": "3bb8b143-c2e1-4531-bb46-4d2dc6c94f35",
   "metadata": {},
   "outputs": [],
   "source": [
    "# repreyectar a WGS84\n",
    "gdf_pla_gral = plan.to_crs(epsg=4326)\n",
    "# convertir poligonos a multipoligonos\n",
    "gdf_pla_gral['geometry'] = gdf_pla_gral['geometry'].apply(convertir_a_multipolygon)"
   ]
  },
  {
   "cell_type": "code",
   "execution_count": 50,
   "id": "2d282a8f-fc27-4967-88c9-e41de31ef6de",
   "metadata": {},
   "outputs": [],
   "source": [
    "gdf_pla_gral['unidad_01'] = gdf_pla_gral['unidad_01'].astype(int)\n",
    "gdf_pla_gral['unidad_03'] = gdf_pla_gral['unidad_03'].astype(int)\n",
    "gdf_pla_gral['dias'] = gdf_pla_gral['dias'].astype(int)\n",
    "#gdf_pla_gral['prioridad'] = gdf_pla_gral['prioridad'].astype(int)\n",
    "gdf_pla_gral['os'] = gdf_pla_gral['os'].astype(int)\n",
    "gdf_pla_gral['soca'] = gdf_pla_gral['soca'].astype(int)\n",
    "gdf_pla_gral['id'] = gdf_pla_gral['id'].astype(int)\n",
    "gdf_pla_gral['inst'] = gdf_pla_gral['inst'].astype(int)"
   ]
  },
  {
   "cell_type": "code",
   "execution_count": 51,
   "id": "4cab8cfe-5518-4e1e-a22a-3701f90aefc6",
   "metadata": {},
   "outputs": [
    {
     "data": {
      "text/plain": [
       "6"
      ]
     },
     "execution_count": 51,
     "metadata": {},
     "output_type": "execute_result"
    }
   ],
   "source": [
    "len(gdf_pla_gral)"
   ]
  },
  {
   "cell_type": "code",
   "execution_count": 52,
   "id": "c51086e2-3f84-4f06-8504-ecd00c850844",
   "metadata": {},
   "outputs": [],
   "source": [
    "# recorrer el gdf de lotes y cargarlo a amigocloud\n",
    "id_proyecto = f'https://app.amigocloud.com/api/v1/projects/33457/sql'\n",
    "for index, row in gdf_pla_gral.iterrows():\n",
    "    wkb_hex = convertir_a_wkb(row['geometry'])\n",
    "    insert_sql = f\"\"\"\n",
    "    INSERT INTO dataset_345601 (id, unidad_01, unidad_02, unidad_03, unidad_04, unidad_05, area, origen, dias, os, geometry)\n",
    "    VALUES ({row['id']}, {row['unidad_01']}, '{row['unidad_02']}', {row['unidad_03']}, '{row['unidad_04']}', '{row['unidad_05']}', {row['area']}, '{row['origen']}', '{row['dias']}', '{row['os']}', ST_SetSRID(ST_GeomFromWKB('\\\\x{wkb_hex}'), 4326));\n",
    "    \"\"\"\n",
    "    query_sql = {'query': insert_sql}\n",
    "    resultado_post = amigocloud.post(id_proyecto, query_sql)"
   ]
  },
  {
   "cell_type": "markdown",
   "id": "03e9a035-abf8-4d4a-8d47-4ab6b8a49e7e",
   "metadata": {},
   "source": [
    "# CREAR KMLS DE PLANIFICACION"
   ]
  },
  {
   "cell_type": "code",
   "execution_count": 53,
   "id": "8129354d-65bb-4517-a388-51546fe385cd",
   "metadata": {},
   "outputs": [],
   "source": [
    "gdf_plan = gpd.read_file(path_plan)"
   ]
  },
  {
   "cell_type": "code",
   "execution_count": 54,
   "id": "36f2860a-fa88-4e71-93e5-b8faa22aa9c3",
   "metadata": {},
   "outputs": [
    {
     "data": {
      "text/plain": [
       "11.815554816915608"
      ]
     },
     "execution_count": 54,
     "metadata": {},
     "output_type": "execute_result"
    }
   ],
   "source": [
    "gdf_plan_sem = gdf_plan[gdf_plan['os'] == ors]\n",
    "gdf_plan_sem['area'].sum()"
   ]
  },
  {
   "cell_type": "code",
   "execution_count": 55,
   "id": "305df0d1-d68e-4350-8217-2d2a3479b291",
   "metadata": {},
   "outputs": [],
   "source": [
    "lista_cods = list(set(gdf_plan_sem['unidad_01']))"
   ]
  },
  {
   "cell_type": "code",
   "execution_count": 56,
   "id": "57574043-1f76-43d2-a22e-ef296b08422d",
   "metadata": {},
   "outputs": [
    {
     "data": {
      "text/plain": [
       "[369, 458]"
      ]
     },
     "execution_count": 56,
     "metadata": {},
     "output_type": "execute_result"
    }
   ],
   "source": [
    "lista_cods"
   ]
  },
  {
   "cell_type": "code",
   "execution_count": 57,
   "id": "b330d918-e5dd-4401-9766-3528a3ac889d",
   "metadata": {},
   "outputs": [
    {
     "name": "stdout",
     "output_type": "stream",
     "text": [
      "C:\\Documents\\Ingenio Azucarero Guabira S.A\\UTEA - SEMANAL - EQUIPO AVIACION UTEA\\Trichogramma\\2024\\KML_PLAN\\369\n",
      "C:\\Documents\\Ingenio Azucarero Guabira S.A\\UTEA - SEMANAL - EQUIPO AVIACION UTEA\\Trichogramma\\2024\\KML_PLAN\\458\n"
     ]
    }
   ],
   "source": [
    "for i in lista_cods:\n",
    "    prop = gdf_plan_sem[gdf_plan_sem['unidad_01'] == i]\n",
    "    prop_wgs = prop.to_crs(epsg=4326)\n",
    "    output_folder = path_kml + '\\\\' + str(i)\n",
    "    print(output_folder)\n",
    "    if not os.path.exists(output_folder):\n",
    "        os.makedirs(output_folder)\n",
    "    # Recorrer el GeoDataFrame\n",
    "    for idx, row in prop_wgs.iterrows():\n",
    "        # Crear un nuevo documento KML\n",
    "        kml_doc = simplekml.Kml()\n",
    "        # Obtener el polígono y el nombre\n",
    "        polygon = row['geometry']\n",
    "        name = row['unidad_05']\n",
    "        # Convertir el polígono en una lista de coordenadas\n",
    "        coords = [(x, y) for x, y in zip(*polygon.exterior.xy)]    \n",
    "        # Añadir el polígono al documento KML\n",
    "        pol = kml_doc.newpolygon(name=name, outerboundaryis=coords)\n",
    "        # Guardar el archivo KML\n",
    "        file_name = f\"{name}.kml\"\n",
    "        output_path = os.path.join(output_folder, file_name)\n",
    "        kml_doc.save(output_path)"
   ]
  },
  {
   "cell_type": "markdown",
   "id": "16e8c566-2f71-4a12-a194-564c47acf886",
   "metadata": {},
   "source": [
    "# CARGAR XLSX"
   ]
  },
  {
   "cell_type": "code",
   "execution_count": 58,
   "id": "2ac001da-d5ac-4a04-9c26-5208dfdd6bef",
   "metadata": {},
   "outputs": [],
   "source": [
    "from openpyxl import load_workbook\n",
    "from openpyxl.utils.dataframe import dataframe_to_rows\n",
    "from datetime import datetime"
   ]
  },
  {
   "cell_type": "code",
   "execution_count": 59,
   "id": "2a51c637-8caf-4cec-b182-50b3526ed6ad",
   "metadata": {},
   "outputs": [],
   "source": [
    "# Cargar el archivo Excel\n",
    "sheet_name = 'DATA'\n",
    "table_name = 'tbl_data'"
   ]
  },
  {
   "cell_type": "code",
   "execution_count": 60,
   "id": "e06da03e-b5da-496d-8b17-0af3d9fb6b7d",
   "metadata": {},
   "outputs": [],
   "source": [
    "excel_data = pd.read_excel(path_xlsx_parte)"
   ]
  },
  {
   "cell_type": "code",
   "execution_count": 61,
   "id": "19ac8245-98ac-4bba-be77-e3b53ffc087a",
   "metadata": {},
   "outputs": [
    {
     "data": {
      "text/html": [
       "<div>\n",
       "<style scoped>\n",
       "    .dataframe tbody tr th:only-of-type {\n",
       "        vertical-align: middle;\n",
       "    }\n",
       "\n",
       "    .dataframe tbody tr th {\n",
       "        vertical-align: top;\n",
       "    }\n",
       "\n",
       "    .dataframe thead th {\n",
       "        text-align: right;\n",
       "    }\n",
       "</style>\n",
       "<table border=\"1\" class=\"dataframe\">\n",
       "  <thead>\n",
       "    <tr style=\"text-align: right;\">\n",
       "      <th></th>\n",
       "      <th>unidad_01</th>\n",
       "      <th>unidad_02</th>\n",
       "      <th>unidad_03</th>\n",
       "      <th>unidad_04</th>\n",
       "      <th>unidad_05</th>\n",
       "      <th>area</th>\n",
       "      <th>soca</th>\n",
       "      <th>inst</th>\n",
       "      <th>geometry</th>\n",
       "      <th>fecha_ini</th>\n",
       "      <th>origen</th>\n",
       "      <th>dias</th>\n",
       "      <th>fecha</th>\n",
       "      <th>os</th>\n",
       "      <th>prioridad</th>\n",
       "      <th>id</th>\n",
       "    </tr>\n",
       "  </thead>\n",
       "  <tbody>\n",
       "    <tr>\n",
       "      <th>0</th>\n",
       "      <td>369</td>\n",
       "      <td>TOBOROCHI--BALCAZAR</td>\n",
       "      <td>1171</td>\n",
       "      <td>BALCAZAR BALCAZAR ROQUE DAVID</td>\n",
       "      <td>L8</td>\n",
       "      <td>0.448734</td>\n",
       "      <td>1</td>\n",
       "      <td>69</td>\n",
       "      <td>MULTIPOLYGON (((-63.29172 -17.21629, -63.29156...</td>\n",
       "      <td></td>\n",
       "      <td>SOLICITUD</td>\n",
       "      <td>0</td>\n",
       "      <td></td>\n",
       "      <td>48</td>\n",
       "      <td>NaN</td>\n",
       "      <td>409</td>\n",
       "    </tr>\n",
       "    <tr>\n",
       "      <th>1</th>\n",
       "      <td>458</td>\n",
       "      <td>RINCON DE GUENDA--CALLE</td>\n",
       "      <td>41819</td>\n",
       "      <td>AGROPECUARIA GUSTAVITO SRL</td>\n",
       "      <td>L7.1</td>\n",
       "      <td>3.330107</td>\n",
       "      <td>1</td>\n",
       "      <td>304</td>\n",
       "      <td>MULTIPOLYGON (((-63.34393 -17.34055, -63.34358...</td>\n",
       "      <td>5/6/2024</td>\n",
       "      <td>SIEMBRA 2023</td>\n",
       "      <td>89</td>\n",
       "      <td>2024-05-06</td>\n",
       "      <td>48</td>\n",
       "      <td>7.0</td>\n",
       "      <td>410</td>\n",
       "    </tr>\n",
       "    <tr>\n",
       "      <th>2</th>\n",
       "      <td>369</td>\n",
       "      <td>TOBOROCHI--BALCAZAR</td>\n",
       "      <td>1171</td>\n",
       "      <td>BALCAZAR BALCAZAR ROQUE DAVID</td>\n",
       "      <td>L2.1</td>\n",
       "      <td>1.070930</td>\n",
       "      <td>1</td>\n",
       "      <td>69</td>\n",
       "      <td>MULTIPOLYGON (((-63.28824 -17.21912, -63.28866...</td>\n",
       "      <td>NaN</td>\n",
       "      <td>SIEMBRA 2023</td>\n",
       "      <td>0</td>\n",
       "      <td>NaN</td>\n",
       "      <td>48</td>\n",
       "      <td>1.0</td>\n",
       "      <td>411</td>\n",
       "    </tr>\n",
       "    <tr>\n",
       "      <th>3</th>\n",
       "      <td>369</td>\n",
       "      <td>TOBOROCHI--BALCAZAR</td>\n",
       "      <td>1171</td>\n",
       "      <td>BALCAZAR BALCAZAR ROQUE DAVID</td>\n",
       "      <td>L5</td>\n",
       "      <td>2.698026</td>\n",
       "      <td>0</td>\n",
       "      <td>0</td>\n",
       "      <td>MULTIPOLYGON (((-63.29100 -17.21588, -63.29095...</td>\n",
       "      <td>2024-04-29</td>\n",
       "      <td>SIEMBRA 2024</td>\n",
       "      <td>96</td>\n",
       "      <td>2024-04-29</td>\n",
       "      <td>48</td>\n",
       "      <td>1.0</td>\n",
       "      <td>412</td>\n",
       "    </tr>\n",
       "    <tr>\n",
       "      <th>4</th>\n",
       "      <td>369</td>\n",
       "      <td>TOBOROCHI--BALCAZAR</td>\n",
       "      <td>1171</td>\n",
       "      <td>BALCAZAR BALCAZAR ROQUE DAVID</td>\n",
       "      <td>L6.4</td>\n",
       "      <td>1.365556</td>\n",
       "      <td>0</td>\n",
       "      <td>0</td>\n",
       "      <td>MULTIPOLYGON (((-63.28622 -17.22041, -63.28621...</td>\n",
       "      <td>2024-04-25</td>\n",
       "      <td>SIEMBRA 2024</td>\n",
       "      <td>100</td>\n",
       "      <td>2024-04-25</td>\n",
       "      <td>48</td>\n",
       "      <td>1.0</td>\n",
       "      <td>413</td>\n",
       "    </tr>\n",
       "    <tr>\n",
       "      <th>5</th>\n",
       "      <td>369</td>\n",
       "      <td>TOBOROCHI--BALCAZAR</td>\n",
       "      <td>1171</td>\n",
       "      <td>BALCAZAR BALCAZAR ROQUE DAVID</td>\n",
       "      <td>L3</td>\n",
       "      <td>2.902202</td>\n",
       "      <td>0</td>\n",
       "      <td>0</td>\n",
       "      <td>MULTIPOLYGON (((-63.28916 -17.21928, -63.28979...</td>\n",
       "      <td>2024-04-29</td>\n",
       "      <td>SIEMBRA 2024</td>\n",
       "      <td>96</td>\n",
       "      <td>2024-04-29</td>\n",
       "      <td>48</td>\n",
       "      <td>1.0</td>\n",
       "      <td>414</td>\n",
       "    </tr>\n",
       "  </tbody>\n",
       "</table>\n",
       "</div>"
      ],
      "text/plain": [
       "   unidad_01                unidad_02  unidad_03  \\\n",
       "0        369      TOBOROCHI--BALCAZAR       1171   \n",
       "1        458  RINCON DE GUENDA--CALLE      41819   \n",
       "2        369      TOBOROCHI--BALCAZAR       1171   \n",
       "3        369      TOBOROCHI--BALCAZAR       1171   \n",
       "4        369      TOBOROCHI--BALCAZAR       1171   \n",
       "5        369      TOBOROCHI--BALCAZAR       1171   \n",
       "\n",
       "                       unidad_04 unidad_05      area  soca  inst  \\\n",
       "0  BALCAZAR BALCAZAR ROQUE DAVID        L8  0.448734     1    69   \n",
       "1     AGROPECUARIA GUSTAVITO SRL      L7.1  3.330107     1   304   \n",
       "2  BALCAZAR BALCAZAR ROQUE DAVID      L2.1  1.070930     1    69   \n",
       "3  BALCAZAR BALCAZAR ROQUE DAVID        L5  2.698026     0     0   \n",
       "4  BALCAZAR BALCAZAR ROQUE DAVID      L6.4  1.365556     0     0   \n",
       "5  BALCAZAR BALCAZAR ROQUE DAVID        L3  2.902202     0     0   \n",
       "\n",
       "                                            geometry   fecha_ini  \\\n",
       "0  MULTIPOLYGON (((-63.29172 -17.21629, -63.29156...               \n",
       "1  MULTIPOLYGON (((-63.34393 -17.34055, -63.34358...    5/6/2024   \n",
       "2  MULTIPOLYGON (((-63.28824 -17.21912, -63.28866...         NaN   \n",
       "3  MULTIPOLYGON (((-63.29100 -17.21588, -63.29095...  2024-04-29   \n",
       "4  MULTIPOLYGON (((-63.28622 -17.22041, -63.28621...  2024-04-25   \n",
       "5  MULTIPOLYGON (((-63.28916 -17.21928, -63.28979...  2024-04-29   \n",
       "\n",
       "         origen  dias       fecha  os  prioridad   id  \n",
       "0     SOLICITUD     0              48        NaN  409  \n",
       "1  SIEMBRA 2023    89  2024-05-06  48        7.0  410  \n",
       "2  SIEMBRA 2023     0         NaN  48        1.0  411  \n",
       "3  SIEMBRA 2024    96  2024-04-29  48        1.0  412  \n",
       "4  SIEMBRA 2024   100  2024-04-25  48        1.0  413  \n",
       "5  SIEMBRA 2024    96  2024-04-29  48        1.0  414  "
      ]
     },
     "execution_count": 61,
     "metadata": {},
     "output_type": "execute_result"
    }
   ],
   "source": [
    "gdf_pla_gral"
   ]
  },
  {
   "cell_type": "code",
   "execution_count": 62,
   "id": "6fd4acba-1f6a-4558-ba92-7a4952775361",
   "metadata": {},
   "outputs": [
    {
     "data": {
      "text/plain": [
       "[369, 458, 369, 369, 369, 369]"
      ]
     },
     "execution_count": 62,
     "metadata": {},
     "output_type": "execute_result"
    }
   ],
   "source": [
    "list(gdf_pla_gral['unidad_01'])"
   ]
  },
  {
   "cell_type": "code",
   "execution_count": 63,
   "id": "3f4a4ac8-5d21-40f7-84d8-8ed7c5a81e9f",
   "metadata": {},
   "outputs": [],
   "source": [
    "new_data = {\n",
    "    'INSTITUCION':list(gdf_pla_gral['inst']), \n",
    "    'COD CANERO': list(gdf_pla_gral['unidad_03']),\n",
    "    'NOMBRE CANERO': list(gdf_pla_gral['unidad_04']),\n",
    "    'COD PROPIEDAD': list(gdf_pla_gral['unidad_01']),\n",
    "    'NOMBRE PROPIEDAD': list(gdf_pla_gral['unidad_02']),\n",
    "    'LOTE': list(gdf_pla_gral['unidad_05']),\n",
    "    'HECTAREA': list(gdf_pla_gral['area']),\n",
    "    'CICLO': list(gdf_pla_gral['soca']),\n",
    "    'FINANCIADO': list(gdf_pla_gral['origen']),\n",
    "    'ID': list(gdf_pla_gral['id']),\n",
    "    'OS': list(gdf_pla_gral['os'])\n",
    "}\n",
    "\n",
    "new_df = pd.DataFrame(new_data)"
   ]
  },
  {
   "cell_type": "code",
   "execution_count": 64,
   "id": "3e7ee4d6-9212-406f-b412-a68399d3a3ee",
   "metadata": {},
   "outputs": [],
   "source": [
    "new_df['PRODUCTO'] = 'TRICHOGRAMMA'\n",
    "new_df['DOSIS'] = '6ml'"
   ]
  },
  {
   "cell_type": "code",
   "execution_count": 65,
   "id": "6c901350-aa22-4a52-bb26-2fdc4911fb9d",
   "metadata": {},
   "outputs": [
    {
     "data": {
      "text/html": [
       "<div>\n",
       "<style scoped>\n",
       "    .dataframe tbody tr th:only-of-type {\n",
       "        vertical-align: middle;\n",
       "    }\n",
       "\n",
       "    .dataframe tbody tr th {\n",
       "        vertical-align: top;\n",
       "    }\n",
       "\n",
       "    .dataframe thead th {\n",
       "        text-align: right;\n",
       "    }\n",
       "</style>\n",
       "<table border=\"1\" class=\"dataframe\">\n",
       "  <thead>\n",
       "    <tr style=\"text-align: right;\">\n",
       "      <th></th>\n",
       "      <th>INSTITUCION</th>\n",
       "      <th>COD CANERO</th>\n",
       "      <th>NOMBRE CANERO</th>\n",
       "      <th>COD PROPIEDAD</th>\n",
       "      <th>NOMBRE PROPIEDAD</th>\n",
       "      <th>LOTE</th>\n",
       "      <th>HECTAREA</th>\n",
       "      <th>CICLO</th>\n",
       "      <th>FINANCIADO</th>\n",
       "      <th>ID</th>\n",
       "      <th>OS</th>\n",
       "      <th>PRODUCTO</th>\n",
       "      <th>DOSIS</th>\n",
       "    </tr>\n",
       "  </thead>\n",
       "  <tbody>\n",
       "    <tr>\n",
       "      <th>0</th>\n",
       "      <td>69</td>\n",
       "      <td>1171</td>\n",
       "      <td>BALCAZAR BALCAZAR ROQUE DAVID</td>\n",
       "      <td>369</td>\n",
       "      <td>TOBOROCHI--BALCAZAR</td>\n",
       "      <td>L8</td>\n",
       "      <td>0.448734</td>\n",
       "      <td>1</td>\n",
       "      <td>SOLICITUD</td>\n",
       "      <td>409</td>\n",
       "      <td>48</td>\n",
       "      <td>TRICHOGRAMMA</td>\n",
       "      <td>6ml</td>\n",
       "    </tr>\n",
       "    <tr>\n",
       "      <th>1</th>\n",
       "      <td>304</td>\n",
       "      <td>41819</td>\n",
       "      <td>AGROPECUARIA GUSTAVITO SRL</td>\n",
       "      <td>458</td>\n",
       "      <td>RINCON DE GUENDA--CALLE</td>\n",
       "      <td>L7.1</td>\n",
       "      <td>3.330107</td>\n",
       "      <td>1</td>\n",
       "      <td>SIEMBRA 2023</td>\n",
       "      <td>410</td>\n",
       "      <td>48</td>\n",
       "      <td>TRICHOGRAMMA</td>\n",
       "      <td>6ml</td>\n",
       "    </tr>\n",
       "    <tr>\n",
       "      <th>2</th>\n",
       "      <td>69</td>\n",
       "      <td>1171</td>\n",
       "      <td>BALCAZAR BALCAZAR ROQUE DAVID</td>\n",
       "      <td>369</td>\n",
       "      <td>TOBOROCHI--BALCAZAR</td>\n",
       "      <td>L2.1</td>\n",
       "      <td>1.070930</td>\n",
       "      <td>1</td>\n",
       "      <td>SIEMBRA 2023</td>\n",
       "      <td>411</td>\n",
       "      <td>48</td>\n",
       "      <td>TRICHOGRAMMA</td>\n",
       "      <td>6ml</td>\n",
       "    </tr>\n",
       "    <tr>\n",
       "      <th>3</th>\n",
       "      <td>0</td>\n",
       "      <td>1171</td>\n",
       "      <td>BALCAZAR BALCAZAR ROQUE DAVID</td>\n",
       "      <td>369</td>\n",
       "      <td>TOBOROCHI--BALCAZAR</td>\n",
       "      <td>L5</td>\n",
       "      <td>2.698026</td>\n",
       "      <td>0</td>\n",
       "      <td>SIEMBRA 2024</td>\n",
       "      <td>412</td>\n",
       "      <td>48</td>\n",
       "      <td>TRICHOGRAMMA</td>\n",
       "      <td>6ml</td>\n",
       "    </tr>\n",
       "    <tr>\n",
       "      <th>4</th>\n",
       "      <td>0</td>\n",
       "      <td>1171</td>\n",
       "      <td>BALCAZAR BALCAZAR ROQUE DAVID</td>\n",
       "      <td>369</td>\n",
       "      <td>TOBOROCHI--BALCAZAR</td>\n",
       "      <td>L6.4</td>\n",
       "      <td>1.365556</td>\n",
       "      <td>0</td>\n",
       "      <td>SIEMBRA 2024</td>\n",
       "      <td>413</td>\n",
       "      <td>48</td>\n",
       "      <td>TRICHOGRAMMA</td>\n",
       "      <td>6ml</td>\n",
       "    </tr>\n",
       "    <tr>\n",
       "      <th>5</th>\n",
       "      <td>0</td>\n",
       "      <td>1171</td>\n",
       "      <td>BALCAZAR BALCAZAR ROQUE DAVID</td>\n",
       "      <td>369</td>\n",
       "      <td>TOBOROCHI--BALCAZAR</td>\n",
       "      <td>L3</td>\n",
       "      <td>2.902202</td>\n",
       "      <td>0</td>\n",
       "      <td>SIEMBRA 2024</td>\n",
       "      <td>414</td>\n",
       "      <td>48</td>\n",
       "      <td>TRICHOGRAMMA</td>\n",
       "      <td>6ml</td>\n",
       "    </tr>\n",
       "  </tbody>\n",
       "</table>\n",
       "</div>"
      ],
      "text/plain": [
       "   INSTITUCION  COD CANERO                  NOMBRE CANERO  COD PROPIEDAD  \\\n",
       "0           69        1171  BALCAZAR BALCAZAR ROQUE DAVID            369   \n",
       "1          304       41819     AGROPECUARIA GUSTAVITO SRL            458   \n",
       "2           69        1171  BALCAZAR BALCAZAR ROQUE DAVID            369   \n",
       "3            0        1171  BALCAZAR BALCAZAR ROQUE DAVID            369   \n",
       "4            0        1171  BALCAZAR BALCAZAR ROQUE DAVID            369   \n",
       "5            0        1171  BALCAZAR BALCAZAR ROQUE DAVID            369   \n",
       "\n",
       "          NOMBRE PROPIEDAD  LOTE  HECTAREA  CICLO    FINANCIADO   ID  OS  \\\n",
       "0      TOBOROCHI--BALCAZAR    L8  0.448734      1     SOLICITUD  409  48   \n",
       "1  RINCON DE GUENDA--CALLE  L7.1  3.330107      1  SIEMBRA 2023  410  48   \n",
       "2      TOBOROCHI--BALCAZAR  L2.1  1.070930      1  SIEMBRA 2023  411  48   \n",
       "3      TOBOROCHI--BALCAZAR    L5  2.698026      0  SIEMBRA 2024  412  48   \n",
       "4      TOBOROCHI--BALCAZAR  L6.4  1.365556      0  SIEMBRA 2024  413  48   \n",
       "5      TOBOROCHI--BALCAZAR    L3  2.902202      0  SIEMBRA 2024  414  48   \n",
       "\n",
       "       PRODUCTO DOSIS  \n",
       "0  TRICHOGRAMMA   6ml  \n",
       "1  TRICHOGRAMMA   6ml  \n",
       "2  TRICHOGRAMMA   6ml  \n",
       "3  TRICHOGRAMMA   6ml  \n",
       "4  TRICHOGRAMMA   6ml  \n",
       "5  TRICHOGRAMMA   6ml  "
      ]
     },
     "execution_count": 65,
     "metadata": {},
     "output_type": "execute_result"
    }
   ],
   "source": [
    "new_df"
   ]
  },
  {
   "cell_type": "code",
   "execution_count": null,
   "id": "8574b2f2-2d82-49de-ae32-c352fbbbc148",
   "metadata": {},
   "outputs": [],
   "source": []
  },
  {
   "cell_type": "code",
   "execution_count": 66,
   "id": "3f5db740-e73e-4ee8-8b5c-23b3c758d661",
   "metadata": {},
   "outputs": [],
   "source": [
    "final_data = pd.concat([excel_data, new_df], ignore_index=True)"
   ]
  },
  {
   "cell_type": "code",
   "execution_count": 67,
   "id": "fbb0af9c-d30d-483d-a751-07c562ecbd32",
   "metadata": {},
   "outputs": [],
   "source": [
    "final_data.to_excel(path_xlsx_parte, index=False)"
   ]
  },
  {
   "cell_type": "code",
   "execution_count": null,
   "id": "aff1c4a1-057f-46a0-9b63-47cdb0546d82",
   "metadata": {},
   "outputs": [],
   "source": []
  },
  {
   "cell_type": "code",
   "execution_count": null,
   "id": "0b471b03-4336-4953-a48a-f5a5cef06eb4",
   "metadata": {},
   "outputs": [],
   "source": []
  },
  {
   "cell_type": "code",
   "execution_count": null,
   "id": "87c3b849-c74d-462a-86f5-611be03713ee",
   "metadata": {},
   "outputs": [],
   "source": []
  }
 ],
 "metadata": {
  "kernelspec": {
   "display_name": "Python 3 (ipykernel)",
   "language": "python",
   "name": "python3"
  },
  "language_info": {
   "codemirror_mode": {
    "name": "ipython",
    "version": 3
   },
   "file_extension": ".py",
   "mimetype": "text/x-python",
   "name": "python",
   "nbconvert_exporter": "python",
   "pygments_lexer": "ipython3",
   "version": "3.10.13"
  }
 },
 "nbformat": 4,
 "nbformat_minor": 5
}
