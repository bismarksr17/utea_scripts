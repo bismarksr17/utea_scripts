{
 "cells": [
  {
   "cell_type": "code",
   "execution_count": 19,
   "id": "76bdbda2-cb40-4967-a3c8-a57fe7fe2762",
   "metadata": {},
   "outputs": [],
   "source": [
    "import re\n",
    "from datetime import datetime"
   ]
  },
  {
   "cell_type": "code",
   "execution_count": 20,
   "id": "76931ea2-46e0-4c2b-9196-f371f34895ae",
   "metadata": {
    "tags": []
   },
   "outputs": [],
   "source": [
    "import os\n",
    "import geopandas as gpd\n",
    "import geemap\n",
    "import xml.etree.ElementTree as ET\n",
    "import pandas as pd\n",
    "from shapely.geometry import LineString\n",
    "\n",
    "# constante requerida\n",
    "namespace = {\"kml\": \"http://www.opengis.net/kml/2.2\"}"
   ]
  },
  {
   "cell_type": "code",
   "execution_count": 21,
   "id": "9c9e3ed3-6a3e-44cb-bc5c-9fb54af07709",
   "metadata": {},
   "outputs": [],
   "source": [
    "import geopandas as gpd\n",
    "from pyproj import CRS\n",
    "from pykml import parser\n",
    "from shapely.geometry import Point, LineString"
   ]
  },
  {
   "cell_type": "code",
   "execution_count": 37,
   "id": "d91df6d7-fe89-4780-b202-e7f299a5a2ec",
   "metadata": {},
   "outputs": [],
   "source": [
    "path_rec = r'C:\\Documents\\Ingenio Azucarero Guabira S.A\\UTEA - SEMANAL - EQUIPO AVIACION UTEA\\Trichogramma\\2024\\SHP\\RECORRIDOS.shp'\n",
    "gdf_rec = gpd.read_file(path_rec)"
   ]
  },
  {
   "cell_type": "code",
   "execution_count": 38,
   "id": "ff3789cc-57a8-462b-aebf-310bd4358095",
   "metadata": {},
   "outputs": [
    {
     "data": {
      "text/plain": [
       "21"
      ]
     },
     "execution_count": 38,
     "metadata": {},
     "output_type": "execute_result"
    }
   ],
   "source": [
    "# Directorio donde están los archivos KML\n",
    "path_kml = r'C:\\Documents\\Ingenio Azucarero Guabira S.A\\UTEA - SEMANAL - EQUIPO AVIACION UTEA\\Trichogramma\\2024\\TLOGS\\ALTA_03'\n",
    "contenido = os.listdir(path_kml)\n",
    "len(contenido)"
   ]
  },
  {
   "cell_type": "code",
   "execution_count": 39,
   "id": "56694f66-5af1-4882-ba16-258a56129ad9",
   "metadata": {},
   "outputs": [
    {
     "data": {
      "text/plain": [
       "0"
      ]
     },
     "execution_count": 39,
     "metadata": {},
     "output_type": "execute_result"
    }
   ],
   "source": [
    "# Filtrar la lista 'contenido' para excluir elementos que están en la columna 'nombre' del GeoDataFrame\n",
    "contenido_filtrado = [item for item in contenido if item not in gdf_rec['nombre'].values]\n",
    "len(contenido_filtrado)"
   ]
  },
  {
   "cell_type": "code",
   "execution_count": 25,
   "id": "bec38e53-9581-49d8-a2c1-75143e6b9016",
   "metadata": {},
   "outputs": [],
   "source": [
    "def extraer_fecha(fecha_txt):\n",
    "    match = re.search(r\"([A-Za-z]{3}-\\d{1,2}[a-z]{2}-\\d{4})\", fecha_txt)\n",
    "    return match.group(1) if match else None\n",
    "\n",
    "def format_date(date_str):\n",
    "    try:\n",
    "        # Eliminar sufijos ordinales para facilitar la conversión\n",
    "        date_without_suffix = re.sub(r'(st|nd|rd|th)', '', date_str)\n",
    "        return pd.to_datetime(date_without_suffix, format='%b-%d-%Y').strftime('%d/%m/%Y')\n",
    "    except:\n",
    "        return None\n",
    "\n",
    "def week_number(date_str):\n",
    "    \"\"\"\n",
    "    Retorna el número de semana del año para una fecha dada en formato \"dd/mm/aaaa\".\n",
    "    \"\"\"\n",
    "    try:\n",
    "        date_obj = pd.to_datetime(date_str, format='%d/%m/%Y')\n",
    "        return date_obj.isocalendar()[1]  # El segundo valor de isocalendar() es el número de semana\n",
    "    except:\n",
    "        return None"
   ]
  },
  {
   "cell_type": "code",
   "execution_count": 26,
   "id": "58dc251e-7121-4d21-b69f-0f48c7624277",
   "metadata": {},
   "outputs": [],
   "source": [
    "# Función para contar la cantidad de coordenadas en una geometría de tipo LINESTRING\n",
    "def contar_coordenadas(linea):\n",
    "    return len(linea.coords)"
   ]
  },
  {
   "cell_type": "code",
   "execution_count": 27,
   "id": "44a2da82-e3af-43bb-8a0a-a0b81fbb1775",
   "metadata": {
    "tags": []
   },
   "outputs": [],
   "source": [
    "# lista para almacenar nombres de archivo\n",
    "file_name = []\n",
    "# lista para alamcenar recorridos\n",
    "lineas = []\n",
    "\n",
    "# itera sobre la lista de nombres de archivos\n",
    "for i in contenido_filtrado:\n",
    "    # directorio + nombre de archivo\n",
    "    path = path_kml + '\\\\' + i\n",
    "    # leer el arbol de contenido del archivo\n",
    "    tree = ET.parse(path)\n",
    "    root = tree.getroot()\n",
    "    for placemark in root.findall(\".//kml:Placemark\", namespace):\n",
    "        coord_text = placemark.find(\".//kml:coordinates\", namespace).text.strip()\n",
    "        # obtiene las cooredenadas\n",
    "        coords = coord_text.split('\\n')\n",
    "        # lista para guardar las coors\n",
    "        coordinates = []\n",
    "        # recorre las coors\n",
    "        for j in coords:\n",
    "            # split para separa el 3er elemento que acompaña las coors\n",
    "            coord = j.split(',')\n",
    "            # agrega las coors a la lista\n",
    "            coordinates.append((float(coord[0]), float(coord[1])))\n",
    "    # conviente en DF\n",
    "    df = pd.DataFrame(coordinates, columns=['Longitude', 'Latitude'])\n",
    "    # convierte en GDF\n",
    "    gdf = gpd.GeoDataFrame(df, geometry=gpd.points_from_xy(df.Longitude, df.Latitude))\n",
    "    # convierte el GDF en Linea\n",
    "    line = LineString(gdf.geometry.tolist())\n",
    "    # se almacena en listas el nombre del archivo y la geomedia del recorrido\n",
    "    file_name.append(i)\n",
    "    lineas.append(line)"
   ]
  },
  {
   "cell_type": "code",
   "execution_count": 28,
   "id": "6d8cb069-7afd-460d-bd0b-1084acc7828a",
   "metadata": {
    "tags": []
   },
   "outputs": [],
   "source": [
    "# dic con la geometria y el file_name\n",
    "data_lineas = {\n",
    "    'nombre': file_name,\n",
    "    'vehiculo': ['DA03']*len(file_name),\n",
    "    'geometry': lineas\n",
    "}"
   ]
  },
  {
   "cell_type": "code",
   "execution_count": 29,
   "id": "1fa256a5-41f2-4b47-819f-09d3bd718980",
   "metadata": {
    "tags": []
   },
   "outputs": [
    {
     "data": {
      "text/html": [
       "<div>\n",
       "<style scoped>\n",
       "    .dataframe tbody tr th:only-of-type {\n",
       "        vertical-align: middle;\n",
       "    }\n",
       "\n",
       "    .dataframe tbody tr th {\n",
       "        vertical-align: top;\n",
       "    }\n",
       "\n",
       "    .dataframe thead th {\n",
       "        text-align: right;\n",
       "    }\n",
       "</style>\n",
       "<table border=\"1\" class=\"dataframe\">\n",
       "  <thead>\n",
       "    <tr style=\"text-align: right;\">\n",
       "      <th></th>\n",
       "      <th>nombre</th>\n",
       "      <th>vehiculo</th>\n",
       "      <th>geometry</th>\n",
       "    </tr>\n",
       "  </thead>\n",
       "  <tbody>\n",
       "    <tr>\n",
       "      <th>0</th>\n",
       "      <td>Aug-1st-2024-01-16AM-Flight-Airdata.kml</td>\n",
       "      <td>DA03</td>\n",
       "      <td>LINESTRING (488348.371 8092376.777, 488348.381...</td>\n",
       "    </tr>\n",
       "    <tr>\n",
       "      <th>1</th>\n",
       "      <td>Aug-1st-2024-02-50AM-Flight-Airdata.kml</td>\n",
       "      <td>DA03</td>\n",
       "      <td>LINESTRING (500692.062 8098459.747, 500692.030...</td>\n",
       "    </tr>\n",
       "    <tr>\n",
       "      <th>2</th>\n",
       "      <td>Aug-1st-2024-03-35AM-Flight-Airdata.kml</td>\n",
       "      <td>DA03</td>\n",
       "      <td>LINESTRING (500899.870 8099080.600, 500899.870...</td>\n",
       "    </tr>\n",
       "    <tr>\n",
       "      <th>3</th>\n",
       "      <td>Aug-1st-2024-05-09AM-Flight-Airdata.kml</td>\n",
       "      <td>DA03</td>\n",
       "      <td>LINESTRING (494680.943 8087721.987, 494680.933...</td>\n",
       "    </tr>\n",
       "  </tbody>\n",
       "</table>\n",
       "</div>"
      ],
      "text/plain": [
       "                                    nombre vehiculo  \\\n",
       "0  Aug-1st-2024-01-16AM-Flight-Airdata.kml     DA03   \n",
       "1  Aug-1st-2024-02-50AM-Flight-Airdata.kml     DA03   \n",
       "2  Aug-1st-2024-03-35AM-Flight-Airdata.kml     DA03   \n",
       "3  Aug-1st-2024-05-09AM-Flight-Airdata.kml     DA03   \n",
       "\n",
       "                                            geometry  \n",
       "0  LINESTRING (488348.371 8092376.777, 488348.381...  \n",
       "1  LINESTRING (500692.062 8098459.747, 500692.030...  \n",
       "2  LINESTRING (500899.870 8099080.600, 500899.870...  \n",
       "3  LINESTRING (494680.943 8087721.987, 494680.933...  "
      ]
     },
     "execution_count": 29,
     "metadata": {},
     "output_type": "execute_result"
    }
   ],
   "source": [
    "gdf_lineas = gpd.GeoDataFrame(data_lineas)\n",
    "gdf_lineas.crs = \"EPSG:4326\"\n",
    "gdf_lineas = gdf_lineas.to_crs(epsg=32720)\n",
    "gdf_lineas"
   ]
  },
  {
   "cell_type": "code",
   "execution_count": 30,
   "id": "1b2fb03a-015f-4ffa-9db3-e5c7ec0445fe",
   "metadata": {
    "tags": []
   },
   "outputs": [
    {
     "data": {
      "text/plain": [
       "<Axes: >"
      ]
     },
     "execution_count": 30,
     "metadata": {},
     "output_type": "execute_result"
    },
    {
     "data": {
      "image/png": "[encoded data removed]",
      "text/plain": [
       "<Figure size 640x480 with 1 Axes>"
      ]
     },
     "metadata": {},
     "output_type": "display_data"
    }
   ],
   "source": [
    "gdf_lineas.plot()"
   ]
  },
  {
   "cell_type": "code",
   "execution_count": 31,
   "id": "bcf22391-5a59-4fae-9d5a-cb9f7ea969b0",
   "metadata": {
    "tags": []
   },
   "outputs": [
    {
     "data": {
      "text/plain": [
       "4"
      ]
     },
     "execution_count": 31,
     "metadata": {},
     "output_type": "execute_result"
    }
   ],
   "source": [
    "len(gdf_lineas)"
   ]
  },
  {
   "cell_type": "code",
   "execution_count": 32,
   "id": "2ecfc54a-f81c-45ae-82ca-44a2d604c23f",
   "metadata": {},
   "outputs": [],
   "source": [
    "# Combinar los GeoDataFrames\n",
    "gdf_combined = gpd.GeoDataFrame(pd.concat([gdf_rec, gdf_lineas], ignore_index=True))\n",
    "# rellenar valores NaN\n",
    "gdf_combined['idd'] = gdf_combined['idd'].fillna(0).astype(int)"
   ]
  },
  {
   "cell_type": "code",
   "execution_count": 33,
   "id": "f27f382e-e221-4e65-9647-9778a75126aa",
   "metadata": {},
   "outputs": [],
   "source": [
    "gdf_combined['num_vert'] = gdf_combined['geometry'].apply(contar_coordenadas)"
   ]
  },
  {
   "cell_type": "code",
   "execution_count": 34,
   "id": "e8b31829-4eec-4358-af29-76a9988f04b4",
   "metadata": {},
   "outputs": [
    {
     "data": {
      "text/html": [
       "<div>\n",
       "<style scoped>\n",
       "    .dataframe tbody tr th:only-of-type {\n",
       "        vertical-align: middle;\n",
       "    }\n",
       "\n",
       "    .dataframe tbody tr th {\n",
       "        vertical-align: top;\n",
       "    }\n",
       "\n",
       "    .dataframe thead th {\n",
       "        text-align: right;\n",
       "    }\n",
       "</style>\n",
       "<table border=\"1\" class=\"dataframe\">\n",
       "  <thead>\n",
       "    <tr style=\"text-align: right;\">\n",
       "      <th></th>\n",
       "      <th>idd</th>\n",
       "      <th>nombre</th>\n",
       "      <th>vehiculo</th>\n",
       "      <th>num_vert</th>\n",
       "      <th>geometry</th>\n",
       "    </tr>\n",
       "  </thead>\n",
       "  <tbody>\n",
       "    <tr>\n",
       "      <th>0</th>\n",
       "      <td>0</td>\n",
       "      <td>Jul-20th-2024-08-43PM-Flight-Airdata.kml</td>\n",
       "      <td>DA03</td>\n",
       "      <td>807</td>\n",
       "      <td>LINESTRING (460257.759 8096126.683, 460257.759...</td>\n",
       "    </tr>\n",
       "    <tr>\n",
       "      <th>1</th>\n",
       "      <td>0</td>\n",
       "      <td>Jul-25th-2024-05-47PM-Flight-Airdata.kml</td>\n",
       "      <td>DA03</td>\n",
       "      <td>931</td>\n",
       "      <td>LINESTRING (456011.255 8084542.548, 456011.265...</td>\n",
       "    </tr>\n",
       "    <tr>\n",
       "      <th>2</th>\n",
       "      <td>0</td>\n",
       "      <td>Jul-25th-2024-06-51PM-Flight-Airdata.kml</td>\n",
       "      <td>DA03</td>\n",
       "      <td>1168</td>\n",
       "      <td>LINESTRING (455648.848 8084842.307, 455648.848...</td>\n",
       "    </tr>\n",
       "    <tr>\n",
       "      <th>3</th>\n",
       "      <td>0</td>\n",
       "      <td>Jul-25th-2024-07-06PM-Flight-Airdata.kml</td>\n",
       "      <td>DA03</td>\n",
       "      <td>1581</td>\n",
       "      <td>LINESTRING (455647.763 8084843.024, 455647.752...</td>\n",
       "    </tr>\n",
       "    <tr>\n",
       "      <th>4</th>\n",
       "      <td>0</td>\n",
       "      <td>Jul-25th-2024-10-42PM-Flight-Airdata.kml</td>\n",
       "      <td>DA03</td>\n",
       "      <td>1225</td>\n",
       "      <td>LINESTRING (460855.506 8095707.381, 460855.527...</td>\n",
       "    </tr>\n",
       "    <tr>\n",
       "      <th>...</th>\n",
       "      <td>...</td>\n",
       "      <td>...</td>\n",
       "      <td>...</td>\n",
       "      <td>...</td>\n",
       "      <td>...</td>\n",
       "    </tr>\n",
       "    <tr>\n",
       "      <th>165</th>\n",
       "      <td>0</td>\n",
       "      <td>2024-07-31 11-18-27</td>\n",
       "      <td>DA02</td>\n",
       "      <td>1503</td>\n",
       "      <td>LINESTRING (481805.721 8089656.117, 481805.817...</td>\n",
       "    </tr>\n",
       "    <tr>\n",
       "      <th>166</th>\n",
       "      <td>0</td>\n",
       "      <td>Aug-1st-2024-01-16AM-Flight-Airdata.kml</td>\n",
       "      <td>DA03</td>\n",
       "      <td>2160</td>\n",
       "      <td>LINESTRING (488348.371 8092376.777, 488348.381...</td>\n",
       "    </tr>\n",
       "    <tr>\n",
       "      <th>167</th>\n",
       "      <td>0</td>\n",
       "      <td>Aug-1st-2024-02-50AM-Flight-Airdata.kml</td>\n",
       "      <td>DA03</td>\n",
       "      <td>1497</td>\n",
       "      <td>LINESTRING (500692.062 8098459.747, 500692.030...</td>\n",
       "    </tr>\n",
       "    <tr>\n",
       "      <th>168</th>\n",
       "      <td>0</td>\n",
       "      <td>Aug-1st-2024-03-35AM-Flight-Airdata.kml</td>\n",
       "      <td>DA03</td>\n",
       "      <td>3324</td>\n",
       "      <td>LINESTRING (500899.870 8099080.600, 500899.870...</td>\n",
       "    </tr>\n",
       "    <tr>\n",
       "      <th>169</th>\n",
       "      <td>0</td>\n",
       "      <td>Aug-1st-2024-05-09AM-Flight-Airdata.kml</td>\n",
       "      <td>DA03</td>\n",
       "      <td>1280</td>\n",
       "      <td>LINESTRING (494680.943 8087721.987, 494680.933...</td>\n",
       "    </tr>\n",
       "  </tbody>\n",
       "</table>\n",
       "<p>170 rows × 5 columns</p>\n",
       "</div>"
      ],
      "text/plain": [
       "     idd                                    nombre vehiculo  num_vert  \\\n",
       "0      0  Jul-20th-2024-08-43PM-Flight-Airdata.kml     DA03       807   \n",
       "1      0  Jul-25th-2024-05-47PM-Flight-Airdata.kml     DA03       931   \n",
       "2      0  Jul-25th-2024-06-51PM-Flight-Airdata.kml     DA03      1168   \n",
       "3      0  Jul-25th-2024-07-06PM-Flight-Airdata.kml     DA03      1581   \n",
       "4      0  Jul-25th-2024-10-42PM-Flight-Airdata.kml     DA03      1225   \n",
       "..   ...                                       ...      ...       ...   \n",
       "165    0                       2024-07-31 11-18-27     DA02      1503   \n",
       "166    0   Aug-1st-2024-01-16AM-Flight-Airdata.kml     DA03      2160   \n",
       "167    0   Aug-1st-2024-02-50AM-Flight-Airdata.kml     DA03      1497   \n",
       "168    0   Aug-1st-2024-03-35AM-Flight-Airdata.kml     DA03      3324   \n",
       "169    0   Aug-1st-2024-05-09AM-Flight-Airdata.kml     DA03      1280   \n",
       "\n",
       "                                              geometry  \n",
       "0    LINESTRING (460257.759 8096126.683, 460257.759...  \n",
       "1    LINESTRING (456011.255 8084542.548, 456011.265...  \n",
       "2    LINESTRING (455648.848 8084842.307, 455648.848...  \n",
       "3    LINESTRING (455647.763 8084843.024, 455647.752...  \n",
       "4    LINESTRING (460855.506 8095707.381, 460855.527...  \n",
       "..                                                 ...  \n",
       "165  LINESTRING (481805.721 8089656.117, 481805.817...  \n",
       "166  LINESTRING (488348.371 8092376.777, 488348.381...  \n",
       "167  LINESTRING (500692.062 8098459.747, 500692.030...  \n",
       "168  LINESTRING (500899.870 8099080.600, 500899.870...  \n",
       "169  LINESTRING (494680.943 8087721.987, 494680.933...  \n",
       "\n",
       "[170 rows x 5 columns]"
      ]
     },
     "execution_count": 34,
     "metadata": {},
     "output_type": "execute_result"
    }
   ],
   "source": [
    "gdf_combined"
   ]
  },
  {
   "cell_type": "code",
   "execution_count": 35,
   "id": "594f5674-dda3-4f9d-a67d-9afe04df50d4",
   "metadata": {},
   "outputs": [
    {
     "data": {
      "text/plain": [
       "idd            int32\n",
       "nombre        object\n",
       "vehiculo      object\n",
       "num_vert       int64\n",
       "geometry    geometry\n",
       "dtype: object"
      ]
     },
     "execution_count": 35,
     "metadata": {},
     "output_type": "execute_result"
    }
   ],
   "source": [
    "gdf_combined.dtypes"
   ]
  },
  {
   "cell_type": "code",
   "execution_count": 36,
   "id": "e53ccc88-5562-4a1d-b02d-9811386431d7",
   "metadata": {
    "tags": []
   },
   "outputs": [],
   "source": [
    "gdf_combined.to_file(path_rec, driver=\"ESRI Shapefile\")"
   ]
  },
  {
   "cell_type": "code",
   "execution_count": null,
   "id": "411f0abd-dbdd-4f66-baff-24689da94120",
   "metadata": {},
   "outputs": [],
   "source": []
  },
  {
   "cell_type": "code",
   "execution_count": null,
   "id": "19d0826a-9172-41da-b16d-0e25bedb5dbf",
   "metadata": {},
   "outputs": [],
   "source": []
  },
  {
   "cell_type": "code",
   "execution_count": null,
   "id": "45c58798-bb89-4fd5-bf2c-e4e2ca83f985",
   "metadata": {},
   "outputs": [],
   "source": []
  },
  {
   "cell_type": "code",
   "execution_count": null,
   "id": "88900319-64f4-4a7d-ab4b-110e522c838f",
   "metadata": {},
   "outputs": [],
   "source": []
  },
  {
   "cell_type": "code",
   "execution_count": null,
   "id": "f2ff11a9-f7c4-49c5-9b10-63774a1f9469",
   "metadata": {},
   "outputs": [],
   "source": []
  },
  {
   "cell_type": "code",
   "execution_count": null,
   "id": "1c97c826-cd01-4bff-82fa-c48518b78d6b",
   "metadata": {},
   "outputs": [],
   "source": []
  },
  {
   "cell_type": "code",
   "execution_count": null,
   "id": "70c233ba-1181-4150-9817-ddb13b9b8864",
   "metadata": {},
   "outputs": [],
   "source": []
  },
  {
   "cell_type": "code",
   "execution_count": null,
   "id": "1860bb65-994e-4b61-9636-c6f7ea99c1b6",
   "metadata": {},
   "outputs": [],
   "source": []
  }
 ],
 "metadata": {
  "kernelspec": {
   "display_name": "Python 3 (ipykernel)",
   "language": "python",
   "name": "python3"
  },
  "language_info": {
   "codemirror_mode": {
    "name": "ipython",
    "version": 3
   },
   "file_extension": ".py",
   "mimetype": "text/x-python",
   "name": "python",
   "nbconvert_exporter": "python",
   "pygments_lexer": "ipython3",
   "version": "3.10.13"
  }
 },
 "nbformat": 4,
 "nbformat_minor": 5
}
