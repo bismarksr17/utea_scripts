{
 "cells": [
  {
   "cell_type": "code",
   "execution_count": 1,
   "id": "4ca1910b-5695-4103-b096-022ec8e159e0",
   "metadata": {},
   "outputs": [],
   "source": [
    "import sys\n",
    "sys.path.append('../_amigocloud')"
   ]
  },
  {
   "cell_type": "code",
   "execution_count": 2,
   "id": "a9cb12bd-b9ad-4b1e-bb00-1c6461d7a430",
   "metadata": {},
   "outputs": [],
   "source": [
    "import simplekml"
   ]
  },
  {
   "cell_type": "code",
   "execution_count": 3,
   "id": "3d26f64e-c1fb-424d-bb27-d4ab069c2eed",
   "metadata": {},
   "outputs": [],
   "source": [
    "from amigocloud import AmigoCloud\n",
    "import pandas as pd\n",
    "from shapely import wkb\n",
    "\n",
    "import geopandas as gpd\n",
    "from shapely.geometry import Point, Polygon, MultiPolygon, MultiPoint\n",
    "#from shapely.geometry import Point, MultiPoint\n",
    "import os\n",
    "#from fastkml import kml"
   ]
  },
  {
   "cell_type": "code",
   "execution_count": 4,
   "id": "f4b891e6-01fb-42b9-adae-2b0ca346522f",
   "metadata": {},
   "outputs": [],
   "source": [
    "# ruta de carpera donde estan las llaves\n",
    "ruta = open('../ruta.txt')\n",
    "ruta = ruta.readlines()[0]"
   ]
  },
  {
   "cell_type": "code",
   "execution_count": 7,
   "id": "d102d776-8a85-4ab2-bd4f-e915ae3d48b3",
   "metadata": {},
   "outputs": [
    {
     "name": "stderr",
     "output_type": "stream",
     "text": [
      "WARNING:socketIO-client:app.amigocloud.com:443/v2_socket.io/socket.io [connection error] recv disconnected (Connection is already closed.)\n"
     ]
    },
    {
     "data": {
      "text/plain": [
       "<amigocloud.AmigoCloud at 0x22bccd6efe0>"
      ]
     },
     "execution_count": 7,
     "metadata": {},
     "output_type": "execute_result"
    }
   ],
   "source": [
    "# leer token\n",
    "acceso = open(ruta + '/_keys/api_amigocloud.key','r')\n",
    "api_token = acceso.readlines()[0]\n",
    "acceso.close()\n",
    "amigocloud = AmigoCloud(token=api_token)\n",
    "amigocloud"
   ]
  },
  {
   "cell_type": "markdown",
   "id": "f90b0afe-f0a8-465a-bfbc-08fb3ecc23a4",
   "metadata": {},
   "source": [
    "# ACTUALIZAR SHP PLANIFICACION"
   ]
  },
  {
   "cell_type": "code",
   "execution_count": 5,
   "id": "6bf20ad6-1bc8-4322-998d-26544569d06c",
   "metadata": {},
   "outputs": [],
   "source": [
    "os = 30"
   ]
  },
  {
   "cell_type": "code",
   "execution_count": 6,
   "id": "91fc3e36-811a-48ce-99fe-82af7ba3e137",
   "metadata": {},
   "outputs": [],
   "source": [
    "# leer los dos shps de siembra y puntos de planificacion\n",
    "path_siembras = r'C:\\Documents\\Ingenio Azucarero Guabira S.A\\UTEA - SEMANAL - EQUIPO AVIACION UTEA\\Trichogramma\\2024\\SHP\\SIEMBRAS.shp'\n",
    "path_cat = r'C:\\Documents\\Ingenio Azucarero Guabira S.A\\UTEA - SEMANAL - EQUIPO AVIACION UTEA\\Trichogramma\\2024\\SHP\\catastro140624.shp'\n",
    "path_puntos = r'C:\\Documents\\Ingenio Azucarero Guabira S.A\\UTEA - SEMANAL - EQUIPO AVIACION UTEA\\Trichogramma\\2024\\SHP\\PUNTOS_PLAN.shp'\n",
    "\n",
    "gdf_siembras = gpd.read_file(path_siembras)\n",
    "gdf_puntos = gpd.read_file(path_puntos)\n",
    "gdf_cat = gpd.read_file(path_cat)"
   ]
  },
  {
   "cell_type": "code",
   "execution_count": 7,
   "id": "d04b5587-65f1-4876-adcf-4118f79fff2a",
   "metadata": {},
   "outputs": [
    {
     "name": "stdout",
     "output_type": "stream",
     "text": [
      "Ambas capas tienen el mismo CRS\n"
     ]
    }
   ],
   "source": [
    "# verifica si ambos shps tienen el mismo CRS\n",
    "if gdf_siembras.crs == gdf_puntos.crs:\n",
    "    print('Ambas capas tienen el mismo CRS')\n",
    "else:\n",
    "    print('No tienen el mismo CRS')"
   ]
  },
  {
   "cell_type": "code",
   "execution_count": 9,
   "id": "2633de73-5e3b-44c1-82c5-d27365f3f8e3",
   "metadata": {},
   "outputs": [
    {
     "data": {
      "text/html": [
       "<div>\n",
       "<style scoped>\n",
       "    .dataframe tbody tr th:only-of-type {\n",
       "        vertical-align: middle;\n",
       "    }\n",
       "\n",
       "    .dataframe tbody tr th {\n",
       "        vertical-align: top;\n",
       "    }\n",
       "\n",
       "    .dataframe thead th {\n",
       "        text-align: right;\n",
       "    }\n",
       "</style>\n",
       "<table border=\"1\" class=\"dataframe\">\n",
       "  <thead>\n",
       "    <tr style=\"text-align: right;\">\n",
       "      <th></th>\n",
       "      <th>unidad_03</th>\n",
       "      <th>unidad_04</th>\n",
       "      <th>os</th>\n",
       "      <th>dia</th>\n",
       "      <th>geometry</th>\n",
       "    </tr>\n",
       "  </thead>\n",
       "  <tbody>\n",
       "    <tr>\n",
       "      <th>4</th>\n",
       "      <td>2816</td>\n",
       "      <td>DONOSO BLANCO ALBERTO\\r\\n</td>\n",
       "      <td>30</td>\n",
       "      <td>0</td>\n",
       "      <td>MULTIPOINT (482079.520 8078995.241, 482466.745...</td>\n",
       "    </tr>\n",
       "  </tbody>\n",
       "</table>\n",
       "</div>"
      ],
      "text/plain": [
       "   unidad_03                  unidad_04  os  dia  \\\n",
       "4       2816  DONOSO BLANCO ALBERTO\\r\\n  30    0   \n",
       "\n",
       "                                            geometry  \n",
       "4  MULTIPOINT (482079.520 8078995.241, 482466.745...  "
      ]
     },
     "execution_count": 9,
     "metadata": {},
     "output_type": "execute_result"
    }
   ],
   "source": [
    "# filtrar la semna de interes\n",
    "gdf_puntos_sem = gdf_puntos[gdf_puntos['os'] == os]\n",
    "gdf_puntos_sem"
   ]
  },
  {
   "cell_type": "code",
   "execution_count": 10,
   "id": "b7cf46a1-a58f-460e-b31b-9bee66eed1ef",
   "metadata": {},
   "outputs": [],
   "source": [
    "multipoint_gdf = gdf_puntos_sem"
   ]
  },
  {
   "cell_type": "code",
   "execution_count": 11,
   "id": "eab2d142-5f9c-45f0-b147-0b3baaccaf74",
   "metadata": {},
   "outputs": [],
   "source": [
    "# Crear una lista para almacenar los nuevos registros de puntos individuales\n",
    "point_records = []\n",
    "# Iterar sobre cada registro en el GeoDataFrame original\n",
    "for idx, row in multipoint_gdf.iterrows():\n",
    "    multipoint_geom = row.geometry\n",
    "    # Verificar si la geometría es de tipo multipunto\n",
    "    if isinstance(multipoint_geom, MultiPoint):\n",
    "        for point in multipoint_geom.geoms:\n",
    "            # Crear un nuevo registro para cada punto individual\n",
    "            new_record = row.copy()\n",
    "            new_record.geometry = point\n",
    "            point_records.append(new_record)\n",
    "    else:\n",
    "        # Si la geometría ya es un punto, simplemente añadir el registro original\n",
    "        point_records.append(row)\n",
    "\n",
    "# Crear un nuevo GeoDataFrame con los registros de puntos individuales\n",
    "puntos_indi = gpd.GeoDataFrame(point_records, crs=multipoint_gdf.crs)"
   ]
  },
  {
   "cell_type": "code",
   "execution_count": 12,
   "id": "8f7e34d2-349d-410c-8e82-1c1b350838ef",
   "metadata": {},
   "outputs": [
    {
     "data": {
      "text/html": [
       "<div>\n",
       "<style scoped>\n",
       "    .dataframe tbody tr th:only-of-type {\n",
       "        vertical-align: middle;\n",
       "    }\n",
       "\n",
       "    .dataframe tbody tr th {\n",
       "        vertical-align: top;\n",
       "    }\n",
       "\n",
       "    .dataframe thead th {\n",
       "        text-align: right;\n",
       "    }\n",
       "</style>\n",
       "<table border=\"1\" class=\"dataframe\">\n",
       "  <thead>\n",
       "    <tr style=\"text-align: right;\">\n",
       "      <th></th>\n",
       "      <th>unidad_03</th>\n",
       "      <th>unidad_04</th>\n",
       "      <th>os</th>\n",
       "      <th>dia</th>\n",
       "      <th>geometry</th>\n",
       "    </tr>\n",
       "  </thead>\n",
       "  <tbody>\n",
       "    <tr>\n",
       "      <th>4</th>\n",
       "      <td>2816</td>\n",
       "      <td>DONOSO BLANCO ALBERTO\\r\\n</td>\n",
       "      <td>30</td>\n",
       "      <td>0</td>\n",
       "      <td>POINT (482079.520 8078995.241)</td>\n",
       "    </tr>\n",
       "    <tr>\n",
       "      <th>4</th>\n",
       "      <td>2816</td>\n",
       "      <td>DONOSO BLANCO ALBERTO\\r\\n</td>\n",
       "      <td>30</td>\n",
       "      <td>0</td>\n",
       "      <td>POINT (482466.745 8078306.443)</td>\n",
       "    </tr>\n",
       "    <tr>\n",
       "      <th>4</th>\n",
       "      <td>2816</td>\n",
       "      <td>DONOSO BLANCO ALBERTO\\r\\n</td>\n",
       "      <td>30</td>\n",
       "      <td>0</td>\n",
       "      <td>POINT (482236.921 8078712.838)</td>\n",
       "    </tr>\n",
       "    <tr>\n",
       "      <th>4</th>\n",
       "      <td>2816</td>\n",
       "      <td>DONOSO BLANCO ALBERTO\\r\\n</td>\n",
       "      <td>30</td>\n",
       "      <td>0</td>\n",
       "      <td>POINT (480653.381 8080932.597)</td>\n",
       "    </tr>\n",
       "    <tr>\n",
       "      <th>4</th>\n",
       "      <td>2816</td>\n",
       "      <td>DONOSO BLANCO ALBERTO\\r\\n</td>\n",
       "      <td>30</td>\n",
       "      <td>0</td>\n",
       "      <td>POINT (481014.933 8080425.304)</td>\n",
       "    </tr>\n",
       "  </tbody>\n",
       "</table>\n",
       "</div>"
      ],
      "text/plain": [
       "   unidad_03                  unidad_04  os  dia  \\\n",
       "4       2816  DONOSO BLANCO ALBERTO\\r\\n  30    0   \n",
       "4       2816  DONOSO BLANCO ALBERTO\\r\\n  30    0   \n",
       "4       2816  DONOSO BLANCO ALBERTO\\r\\n  30    0   \n",
       "4       2816  DONOSO BLANCO ALBERTO\\r\\n  30    0   \n",
       "4       2816  DONOSO BLANCO ALBERTO\\r\\n  30    0   \n",
       "\n",
       "                         geometry  \n",
       "4  POINT (482079.520 8078995.241)  \n",
       "4  POINT (482466.745 8078306.443)  \n",
       "4  POINT (482236.921 8078712.838)  \n",
       "4  POINT (480653.381 8080932.597)  \n",
       "4  POINT (481014.933 8080425.304)  "
      ]
     },
     "execution_count": 12,
     "metadata": {},
     "output_type": "execute_result"
    }
   ],
   "source": [
    "# puntos individuales\n",
    "puntos_indi"
   ]
  },
  {
   "cell_type": "code",
   "execution_count": 13,
   "id": "af1f6e6a-7635-44ff-a812-a662c6b18c18",
   "metadata": {},
   "outputs": [
    {
     "data": {
      "text/plain": [
       "<Axes: >"
      ]
     },
     "execution_count": 13,
     "metadata": {},
     "output_type": "execute_result"
    },
    {
     "data": {
      "image/png": "[encoded data removed]",
      "text/plain": [
       "<Figure size 640x480 with 1 Axes>"
      ]
     },
     "metadata": {},
     "output_type": "display_data"
    }
   ],
   "source": [
    "puntos_indi.plot()"
   ]
  },
  {
   "cell_type": "code",
   "execution_count": 14,
   "id": "85954895-c07c-4ea5-8900-f4b556e8f4ee",
   "metadata": {},
   "outputs": [
    {
     "name": "stdout",
     "output_type": "stream",
     "text": [
      "Los CRS si son iguales\n"
     ]
    }
   ],
   "source": [
    "# Asegurarse de que ambos GeoDataFrames tienen el mismo sistema de coordenadas (CRS)\n",
    "if puntos_indi.crs != gdf_siembras.crs:\n",
    "    print('Los CRS no son iguales')\n",
    "    #gdf_siembras = gdf_siembras.to_crs(puntos_indi.crs)\n",
    "else:\n",
    "    print('Los CRS si son iguales')"
   ]
  },
  {
   "cell_type": "code",
   "execution_count": 15,
   "id": "ff2de9e6-686c-45af-8347-594fa5e20091",
   "metadata": {},
   "outputs": [],
   "source": [
    "# Crear un GeoDataFrame vacío para almacenar los puntos que no intersectan con ningún polígono\n",
    "puntos_indi_solicitado = puntos_indi[~puntos_indi.geometry.apply(lambda point: any(gdf_siembras.contains(point)))]"
   ]
  },
  {
   "cell_type": "code",
   "execution_count": 16,
   "id": "9ced58e3-910e-491b-b294-8fa17fac0693",
   "metadata": {},
   "outputs": [
    {
     "data": {
      "text/html": [
       "<div>\n",
       "<style scoped>\n",
       "    .dataframe tbody tr th:only-of-type {\n",
       "        vertical-align: middle;\n",
       "    }\n",
       "\n",
       "    .dataframe tbody tr th {\n",
       "        vertical-align: top;\n",
       "    }\n",
       "\n",
       "    .dataframe thead th {\n",
       "        text-align: right;\n",
       "    }\n",
       "</style>\n",
       "<table border=\"1\" class=\"dataframe\">\n",
       "  <thead>\n",
       "    <tr style=\"text-align: right;\">\n",
       "      <th></th>\n",
       "      <th>unidad_03</th>\n",
       "      <th>unidad_04</th>\n",
       "      <th>os</th>\n",
       "      <th>dia</th>\n",
       "      <th>geometry</th>\n",
       "    </tr>\n",
       "  </thead>\n",
       "  <tbody>\n",
       "    <tr>\n",
       "      <th>4</th>\n",
       "      <td>2816</td>\n",
       "      <td>DONOSO BLANCO ALBERTO\\r\\n</td>\n",
       "      <td>30</td>\n",
       "      <td>0</td>\n",
       "      <td>POINT (482079.520 8078995.241)</td>\n",
       "    </tr>\n",
       "    <tr>\n",
       "      <th>4</th>\n",
       "      <td>2816</td>\n",
       "      <td>DONOSO BLANCO ALBERTO\\r\\n</td>\n",
       "      <td>30</td>\n",
       "      <td>0</td>\n",
       "      <td>POINT (482466.745 8078306.443)</td>\n",
       "    </tr>\n",
       "    <tr>\n",
       "      <th>4</th>\n",
       "      <td>2816</td>\n",
       "      <td>DONOSO BLANCO ALBERTO\\r\\n</td>\n",
       "      <td>30</td>\n",
       "      <td>0</td>\n",
       "      <td>POINT (480653.381 8080932.597)</td>\n",
       "    </tr>\n",
       "    <tr>\n",
       "      <th>4</th>\n",
       "      <td>2816</td>\n",
       "      <td>DONOSO BLANCO ALBERTO\\r\\n</td>\n",
       "      <td>30</td>\n",
       "      <td>0</td>\n",
       "      <td>POINT (481014.933 8080425.304)</td>\n",
       "    </tr>\n",
       "  </tbody>\n",
       "</table>\n",
       "</div>"
      ],
      "text/plain": [
       "   unidad_03                  unidad_04  os  dia  \\\n",
       "4       2816  DONOSO BLANCO ALBERTO\\r\\n  30    0   \n",
       "4       2816  DONOSO BLANCO ALBERTO\\r\\n  30    0   \n",
       "4       2816  DONOSO BLANCO ALBERTO\\r\\n  30    0   \n",
       "4       2816  DONOSO BLANCO ALBERTO\\r\\n  30    0   \n",
       "\n",
       "                         geometry  \n",
       "4  POINT (482079.520 8078995.241)  \n",
       "4  POINT (482466.745 8078306.443)  \n",
       "4  POINT (480653.381 8080932.597)  \n",
       "4  POINT (481014.933 8080425.304)  "
      ]
     },
     "execution_count": 16,
     "metadata": {},
     "output_type": "execute_result"
    }
   ],
   "source": [
    "puntos_indi_solicitado"
   ]
  },
  {
   "cell_type": "code",
   "execution_count": 17,
   "id": "b27362b1-1f64-42e8-be89-b38e114fca78",
   "metadata": {},
   "outputs": [],
   "source": [
    "# identifoca los lotes que se intersectan\n",
    "gdf_lotes_cat = gpd.sjoin(gdf_cat, puntos_indi_solicitado, how='inner', predicate='intersects')\n",
    "# filtra los lotes intersectados en la capa original\n",
    "poligonos_intersect_cat = gdf_cat.loc[gdf_cat.index.isin(gdf_lotes_cat.index)]\n",
    "# copy\n",
    "poligonos_intersect_cat = poligonos_intersect_cat.copy()\n",
    "poligonos_intersect_cat = poligonos_intersect_cat[['unidad_01', 'unidad_02', 'unidad_03', 'unidad_04', 'unidad_05', 'area', 'soca', 'geometry']]"
   ]
  },
  {
   "cell_type": "code",
   "execution_count": 18,
   "id": "9f826f35-82ee-4070-ba66-069e4d131014",
   "metadata": {},
   "outputs": [
    {
     "data": {
      "text/html": [
       "<div>\n",
       "<style scoped>\n",
       "    .dataframe tbody tr th:only-of-type {\n",
       "        vertical-align: middle;\n",
       "    }\n",
       "\n",
       "    .dataframe tbody tr th {\n",
       "        vertical-align: top;\n",
       "    }\n",
       "\n",
       "    .dataframe thead th {\n",
       "        text-align: right;\n",
       "    }\n",
       "</style>\n",
       "<table border=\"1\" class=\"dataframe\">\n",
       "  <thead>\n",
       "    <tr style=\"text-align: right;\">\n",
       "      <th></th>\n",
       "      <th>unidad_01</th>\n",
       "      <th>unidad_02</th>\n",
       "      <th>unidad_03</th>\n",
       "      <th>unidad_04</th>\n",
       "      <th>unidad_05</th>\n",
       "      <th>area</th>\n",
       "      <th>soca</th>\n",
       "      <th>geometry</th>\n",
       "    </tr>\n",
       "  </thead>\n",
       "  <tbody>\n",
       "    <tr>\n",
       "      <th>12074</th>\n",
       "      <td>74</td>\n",
       "      <td>LOS ARROYOS--DONOSO</td>\n",
       "      <td>2816</td>\n",
       "      <td>DONOSO BLANCO ALBERTO</td>\n",
       "      <td>B2</td>\n",
       "      <td>15.93</td>\n",
       "      <td>123</td>\n",
       "      <td>POLYGON ((481119.930 8080378.683, 480947.024 8...</td>\n",
       "    </tr>\n",
       "    <tr>\n",
       "      <th>12905</th>\n",
       "      <td>74</td>\n",
       "      <td>LOS ARROYOS--DONOSO</td>\n",
       "      <td>2816</td>\n",
       "      <td>DONOSO BLANCO ALBERTO</td>\n",
       "      <td>A4.1</td>\n",
       "      <td>2.12</td>\n",
       "      <td>123</td>\n",
       "      <td>POLYGON ((482289.170 8078979.600, 482313.775 8...</td>\n",
       "    </tr>\n",
       "    <tr>\n",
       "      <th>12906</th>\n",
       "      <td>74</td>\n",
       "      <td>LOS ARROYOS--DONOSO</td>\n",
       "      <td>2816</td>\n",
       "      <td>DONOSO BLANCO ALBERTO</td>\n",
       "      <td>A11</td>\n",
       "      <td>2.89</td>\n",
       "      <td>123</td>\n",
       "      <td>POLYGON ((482431.127 8078242.665, 482309.857 8...</td>\n",
       "    </tr>\n",
       "    <tr>\n",
       "      <th>12907</th>\n",
       "      <td>74</td>\n",
       "      <td>LOS ARROYOS--DONOSO</td>\n",
       "      <td>2816</td>\n",
       "      <td>DONOSO BLANCO ALBERTO</td>\n",
       "      <td>B1.1</td>\n",
       "      <td>1.97</td>\n",
       "      <td>123</td>\n",
       "      <td>POLYGON ((480712.080 8080887.638, 480656.325 8...</td>\n",
       "    </tr>\n",
       "  </tbody>\n",
       "</table>\n",
       "</div>"
      ],
      "text/plain": [
       "       unidad_01            unidad_02  unidad_03              unidad_04  \\\n",
       "12074         74  LOS ARROYOS--DONOSO       2816  DONOSO BLANCO ALBERTO   \n",
       "12905         74  LOS ARROYOS--DONOSO       2816  DONOSO BLANCO ALBERTO   \n",
       "12906         74  LOS ARROYOS--DONOSO       2816  DONOSO BLANCO ALBERTO   \n",
       "12907         74  LOS ARROYOS--DONOSO       2816  DONOSO BLANCO ALBERTO   \n",
       "\n",
       "      unidad_05   area  soca  \\\n",
       "12074        B2  15.93   123   \n",
       "12905      A4.1   2.12   123   \n",
       "12906       A11   2.89   123   \n",
       "12907      B1.1   1.97   123   \n",
       "\n",
       "                                                geometry  \n",
       "12074  POLYGON ((481119.930 8080378.683, 480947.024 8...  \n",
       "12905  POLYGON ((482289.170 8078979.600, 482313.775 8...  \n",
       "12906  POLYGON ((482431.127 8078242.665, 482309.857 8...  \n",
       "12907  POLYGON ((480712.080 8080887.638, 480656.325 8...  "
      ]
     },
     "execution_count": 18,
     "metadata": {},
     "output_type": "execute_result"
    }
   ],
   "source": [
    "poligonos_intersect_cat"
   ]
  },
  {
   "cell_type": "code",
   "execution_count": 19,
   "id": "6368f2aa-ba1b-4eea-99aa-5ef29c11e684",
   "metadata": {},
   "outputs": [],
   "source": [
    "# CAMBIAR NOMBRE DATOS DE UNIDAD_03 Y UNDIAD_04 DE LOTES SOLICITADOS A LO INDICADO EN LOS PUNTOS\n",
    "# Iterar sobre cada punto y encontrar el polígono que intersecta\n",
    "for idx, point in puntos_indi_solicitado.iterrows():\n",
    "    point_geom = point.geometry\n",
    "    matching_polygons = poligonos_intersect_cat[poligonos_intersect_cat.intersects(point_geom)]\n",
    "    \n",
    "    # Actualizar los campos de los polígonos que intersectan con los valores del punto\n",
    "    for poly_idx in matching_polygons.index:\n",
    "        poligonos_intersect_cat.at[poly_idx, 'unidad_03'] = point['unidad_03']\n",
    "        poligonos_intersect_cat.at[poly_idx, 'unidad_04'] = point['unidad_04']"
   ]
  },
  {
   "cell_type": "code",
   "execution_count": 20,
   "id": "bea9f942-2e35-4d3b-928d-763710fb6c41",
   "metadata": {},
   "outputs": [
    {
     "data": {
      "text/html": [
       "<div>\n",
       "<style scoped>\n",
       "    .dataframe tbody tr th:only-of-type {\n",
       "        vertical-align: middle;\n",
       "    }\n",
       "\n",
       "    .dataframe tbody tr th {\n",
       "        vertical-align: top;\n",
       "    }\n",
       "\n",
       "    .dataframe thead th {\n",
       "        text-align: right;\n",
       "    }\n",
       "</style>\n",
       "<table border=\"1\" class=\"dataframe\">\n",
       "  <thead>\n",
       "    <tr style=\"text-align: right;\">\n",
       "      <th></th>\n",
       "      <th>unidad_01</th>\n",
       "      <th>unidad_02</th>\n",
       "      <th>unidad_03</th>\n",
       "      <th>unidad_04</th>\n",
       "      <th>unidad_05</th>\n",
       "      <th>area</th>\n",
       "      <th>soca</th>\n",
       "      <th>geometry</th>\n",
       "    </tr>\n",
       "  </thead>\n",
       "  <tbody>\n",
       "    <tr>\n",
       "      <th>12074</th>\n",
       "      <td>74</td>\n",
       "      <td>LOS ARROYOS--DONOSO</td>\n",
       "      <td>2816</td>\n",
       "      <td>DONOSO BLANCO ALBERTO\\r\\n</td>\n",
       "      <td>B2</td>\n",
       "      <td>15.93</td>\n",
       "      <td>123</td>\n",
       "      <td>POLYGON ((481119.930 8080378.683, 480947.024 8...</td>\n",
       "    </tr>\n",
       "    <tr>\n",
       "      <th>12905</th>\n",
       "      <td>74</td>\n",
       "      <td>LOS ARROYOS--DONOSO</td>\n",
       "      <td>2816</td>\n",
       "      <td>DONOSO BLANCO ALBERTO\\r\\n</td>\n",
       "      <td>A4.1</td>\n",
       "      <td>2.12</td>\n",
       "      <td>123</td>\n",
       "      <td>POLYGON ((482289.170 8078979.600, 482313.775 8...</td>\n",
       "    </tr>\n",
       "    <tr>\n",
       "      <th>12906</th>\n",
       "      <td>74</td>\n",
       "      <td>LOS ARROYOS--DONOSO</td>\n",
       "      <td>2816</td>\n",
       "      <td>DONOSO BLANCO ALBERTO\\r\\n</td>\n",
       "      <td>A11</td>\n",
       "      <td>2.89</td>\n",
       "      <td>123</td>\n",
       "      <td>POLYGON ((482431.127 8078242.665, 482309.857 8...</td>\n",
       "    </tr>\n",
       "    <tr>\n",
       "      <th>12907</th>\n",
       "      <td>74</td>\n",
       "      <td>LOS ARROYOS--DONOSO</td>\n",
       "      <td>2816</td>\n",
       "      <td>DONOSO BLANCO ALBERTO\\r\\n</td>\n",
       "      <td>B1.1</td>\n",
       "      <td>1.97</td>\n",
       "      <td>123</td>\n",
       "      <td>POLYGON ((480712.080 8080887.638, 480656.325 8...</td>\n",
       "    </tr>\n",
       "  </tbody>\n",
       "</table>\n",
       "</div>"
      ],
      "text/plain": [
       "       unidad_01            unidad_02  unidad_03                  unidad_04  \\\n",
       "12074         74  LOS ARROYOS--DONOSO       2816  DONOSO BLANCO ALBERTO\\r\\n   \n",
       "12905         74  LOS ARROYOS--DONOSO       2816  DONOSO BLANCO ALBERTO\\r\\n   \n",
       "12906         74  LOS ARROYOS--DONOSO       2816  DONOSO BLANCO ALBERTO\\r\\n   \n",
       "12907         74  LOS ARROYOS--DONOSO       2816  DONOSO BLANCO ALBERTO\\r\\n   \n",
       "\n",
       "      unidad_05   area  soca  \\\n",
       "12074        B2  15.93   123   \n",
       "12905      A4.1   2.12   123   \n",
       "12906       A11   2.89   123   \n",
       "12907      B1.1   1.97   123   \n",
       "\n",
       "                                                geometry  \n",
       "12074  POLYGON ((481119.930 8080378.683, 480947.024 8...  \n",
       "12905  POLYGON ((482289.170 8078979.600, 482313.775 8...  \n",
       "12906  POLYGON ((482431.127 8078242.665, 482309.857 8...  \n",
       "12907  POLYGON ((480712.080 8080887.638, 480656.325 8...  "
      ]
     },
     "execution_count": 20,
     "metadata": {},
     "output_type": "execute_result"
    }
   ],
   "source": [
    "poligonos_intersect_cat"
   ]
  },
  {
   "cell_type": "code",
   "execution_count": 22,
   "id": "16e8e3f8-b979-4342-ab8b-e80b06a43499",
   "metadata": {},
   "outputs": [],
   "source": [
    "poligonos_intersect_cat['fecha_ini'] = ''\n",
    "poligonos_intersect_cat['origen'] = 'SOLICITUD'\n",
    "poligonos_intersect_cat['dias'] = 0\n",
    "poligonos_intersect_cat['fecha'] = ''\n",
    "poligonos_intersect_cat['os'] = os"
   ]
  },
  {
   "cell_type": "code",
   "execution_count": 85,
   "id": "1e74b24e-d6f8-4c0e-85d9-8df0636515d6",
   "metadata": {},
   "outputs": [
    {
     "data": {
      "text/html": [
       "<div>\n",
       "<style scoped>\n",
       "    .dataframe tbody tr th:only-of-type {\n",
       "        vertical-align: middle;\n",
       "    }\n",
       "\n",
       "    .dataframe tbody tr th {\n",
       "        vertical-align: top;\n",
       "    }\n",
       "\n",
       "    .dataframe thead th {\n",
       "        text-align: right;\n",
       "    }\n",
       "</style>\n",
       "<table border=\"1\" class=\"dataframe\">\n",
       "  <thead>\n",
       "    <tr style=\"text-align: right;\">\n",
       "      <th></th>\n",
       "      <th>unidad_01</th>\n",
       "      <th>unidad_02</th>\n",
       "      <th>unidad_03</th>\n",
       "      <th>unidad_04</th>\n",
       "      <th>unidad_05</th>\n",
       "      <th>area</th>\n",
       "      <th>soca</th>\n",
       "      <th>geometry</th>\n",
       "      <th>fecha_ini</th>\n",
       "      <th>origen</th>\n",
       "      <th>dias</th>\n",
       "      <th>fecha</th>\n",
       "      <th>os</th>\n",
       "    </tr>\n",
       "  </thead>\n",
       "  <tbody>\n",
       "    <tr>\n",
       "      <th>12074</th>\n",
       "      <td>74</td>\n",
       "      <td>LOS ARROYOS--DONOSO</td>\n",
       "      <td>2816</td>\n",
       "      <td>DONOSO BLANCO ALBERTO\\r\\n</td>\n",
       "      <td>B2</td>\n",
       "      <td>15.93</td>\n",
       "      <td>123</td>\n",
       "      <td>POLYGON ((481119.930 8080378.683, 480947.024 8...</td>\n",
       "      <td></td>\n",
       "      <td>SOLICITUD</td>\n",
       "      <td>0</td>\n",
       "      <td></td>\n",
       "      <td>30</td>\n",
       "    </tr>\n",
       "    <tr>\n",
       "      <th>12905</th>\n",
       "      <td>74</td>\n",
       "      <td>LOS ARROYOS--DONOSO</td>\n",
       "      <td>2816</td>\n",
       "      <td>DONOSO BLANCO ALBERTO\\r\\n</td>\n",
       "      <td>A4.1</td>\n",
       "      <td>2.12</td>\n",
       "      <td>123</td>\n",
       "      <td>POLYGON ((482289.170 8078979.600, 482313.775 8...</td>\n",
       "      <td></td>\n",
       "      <td>SOLICITUD</td>\n",
       "      <td>0</td>\n",
       "      <td></td>\n",
       "      <td>30</td>\n",
       "    </tr>\n",
       "    <tr>\n",
       "      <th>12906</th>\n",
       "      <td>74</td>\n",
       "      <td>LOS ARROYOS--DONOSO</td>\n",
       "      <td>2816</td>\n",
       "      <td>DONOSO BLANCO ALBERTO\\r\\n</td>\n",
       "      <td>A11</td>\n",
       "      <td>2.89</td>\n",
       "      <td>123</td>\n",
       "      <td>POLYGON ((482431.127 8078242.665, 482309.857 8...</td>\n",
       "      <td></td>\n",
       "      <td>SOLICITUD</td>\n",
       "      <td>0</td>\n",
       "      <td></td>\n",
       "      <td>30</td>\n",
       "    </tr>\n",
       "    <tr>\n",
       "      <th>12907</th>\n",
       "      <td>74</td>\n",
       "      <td>LOS ARROYOS--DONOSO</td>\n",
       "      <td>2816</td>\n",
       "      <td>DONOSO BLANCO ALBERTO\\r\\n</td>\n",
       "      <td>B1.1</td>\n",
       "      <td>1.97</td>\n",
       "      <td>123</td>\n",
       "      <td>POLYGON ((480712.080 8080887.638, 480656.325 8...</td>\n",
       "      <td></td>\n",
       "      <td>SOLICITUD</td>\n",
       "      <td>0</td>\n",
       "      <td></td>\n",
       "      <td>30</td>\n",
       "    </tr>\n",
       "  </tbody>\n",
       "</table>\n",
       "</div>"
      ],
      "text/plain": [
       "       unidad_01            unidad_02  unidad_03                  unidad_04  \\\n",
       "12074         74  LOS ARROYOS--DONOSO       2816  DONOSO BLANCO ALBERTO\\r\\n   \n",
       "12905         74  LOS ARROYOS--DONOSO       2816  DONOSO BLANCO ALBERTO\\r\\n   \n",
       "12906         74  LOS ARROYOS--DONOSO       2816  DONOSO BLANCO ALBERTO\\r\\n   \n",
       "12907         74  LOS ARROYOS--DONOSO       2816  DONOSO BLANCO ALBERTO\\r\\n   \n",
       "\n",
       "      unidad_05   area  soca  \\\n",
       "12074        B2  15.93   123   \n",
       "12905      A4.1   2.12   123   \n",
       "12906       A11   2.89   123   \n",
       "12907      B1.1   1.97   123   \n",
       "\n",
       "                                                geometry fecha_ini     origen  \\\n",
       "12074  POLYGON ((481119.930 8080378.683, 480947.024 8...            SOLICITUD   \n",
       "12905  POLYGON ((482289.170 8078979.600, 482313.775 8...            SOLICITUD   \n",
       "12906  POLYGON ((482431.127 8078242.665, 482309.857 8...            SOLICITUD   \n",
       "12907  POLYGON ((480712.080 8080887.638, 480656.325 8...            SOLICITUD   \n",
       "\n",
       "       dias fecha  os  \n",
       "12074     0        30  \n",
       "12905     0        30  \n",
       "12906     0        30  \n",
       "12907     0        30  "
      ]
     },
     "execution_count": 113,
     "metadata": {},
     "output_type": "execute_result"
    }
   ],
   "source": [
    "poligonos_intersect_cat"
   ]
  },
  {
   "cell_type": "code",
   "execution_count": null,
   "id": "1a74b3c7-a105-450c-ab02-ccf438f72d47",
   "metadata": {},
   "outputs": [],
   "source": []
  },
  {
   "cell_type": "code",
   "execution_count": null,
   "id": "44f0a807-edff-4644-8af1-3bc71823db44",
   "metadata": {},
   "outputs": [],
   "source": []
  },
  {
   "cell_type": "code",
   "execution_count": null,
   "id": "0fc94acd-613a-451b-94a3-90628d0087e5",
   "metadata": {},
   "outputs": [],
   "source": []
  },
  {
   "cell_type": "code",
   "execution_count": null,
   "id": "8424dda3-6fd1-4d46-a554-726fa62144fd",
   "metadata": {},
   "outputs": [],
   "source": []
  },
  {
   "cell_type": "code",
   "execution_count": 24,
   "id": "b2322e14-f1dc-46ab-9f59-e4714e0a20b6",
   "metadata": {},
   "outputs": [],
   "source": [
    "# SELECCIONAR LOS LOTES DE SIEMBRAS\n",
    "# identifoca los lotes que se intersectan\n",
    "gdf_lotes_siem = gpd.sjoin(gdf_siembras, multipoint_gdf, how='inner', predicate='intersects')\n",
    "# filtra los lotes intersectados en la capa original\n",
    "poligonos_intersect_siem = gdf_siembras.loc[gdf_siembras.index.isin(gdf_lotes_siem.index)]\n",
    "# copy\n",
    "poligonos_intersect_siem = poligonos_intersect_siem.copy()\n",
    "# agregar campo de semana_planificacion\n",
    "poligonos_intersect_siem['os'] = os"
   ]
  },
  {
   "cell_type": "code",
   "execution_count": 25,
   "id": "154aea2f-42ed-4ae4-8e86-d3a45a6e07a3",
   "metadata": {},
   "outputs": [],
   "source": [
    "poligonos_intersect_siem['soca'] = poligonos_intersect_siem['origen'].apply(lambda x: 1 if 'SIEMBRA 2023' in x else 0)"
   ]
  },
  {
   "cell_type": "code",
   "execution_count": 26,
   "id": "fb93d517-7e8c-41ad-b4e9-cbaa81a3ba89",
   "metadata": {},
   "outputs": [
    {
     "data": {
      "text/html": [
       "<div>\n",
       "<style scoped>\n",
       "    .dataframe tbody tr th:only-of-type {\n",
       "        vertical-align: middle;\n",
       "    }\n",
       "\n",
       "    .dataframe tbody tr th {\n",
       "        vertical-align: top;\n",
       "    }\n",
       "\n",
       "    .dataframe thead th {\n",
       "        text-align: right;\n",
       "    }\n",
       "</style>\n",
       "<table border=\"1\" class=\"dataframe\">\n",
       "  <thead>\n",
       "    <tr style=\"text-align: right;\">\n",
       "      <th></th>\n",
       "      <th>unidad_01</th>\n",
       "      <th>unidad_02</th>\n",
       "      <th>unidad_03</th>\n",
       "      <th>unidad_04</th>\n",
       "      <th>unidad_05</th>\n",
       "      <th>area</th>\n",
       "      <th>fecha_ini</th>\n",
       "      <th>origen</th>\n",
       "      <th>dias</th>\n",
       "      <th>fecha</th>\n",
       "      <th>prioridad</th>\n",
       "      <th>geometry</th>\n",
       "      <th>os</th>\n",
       "      <th>soca</th>\n",
       "    </tr>\n",
       "  </thead>\n",
       "  <tbody>\n",
       "    <tr>\n",
       "      <th>85</th>\n",
       "      <td>74</td>\n",
       "      <td>LOS ARROYOS--DONOSO</td>\n",
       "      <td>2816</td>\n",
       "      <td>DONOSO BLANCO ALBERTO</td>\n",
       "      <td>A5.3</td>\n",
       "      <td>3.257755</td>\n",
       "      <td>20/6/2024</td>\n",
       "      <td>SIEMBRA 2023</td>\n",
       "      <td>7</td>\n",
       "      <td>2024-06-20</td>\n",
       "      <td>4</td>\n",
       "      <td>POLYGON ((482171.958 8078929.023, 482259.644 8...</td>\n",
       "      <td>30</td>\n",
       "      <td>1</td>\n",
       "    </tr>\n",
       "  </tbody>\n",
       "</table>\n",
       "</div>"
      ],
      "text/plain": [
       "   unidad_01            unidad_02 unidad_03              unidad_04 unidad_05  \\\n",
       "85        74  LOS ARROYOS--DONOSO      2816  DONOSO BLANCO ALBERTO      A5.3   \n",
       "\n",
       "        area  fecha_ini        origen  dias       fecha  prioridad  \\\n",
       "85  3.257755  20/6/2024  SIEMBRA 2023     7  2024-06-20          4   \n",
       "\n",
       "                                             geometry  os  soca  \n",
       "85  POLYGON ((482171.958 8078929.023, 482259.644 8...  30     1  "
      ]
     },
     "execution_count": 26,
     "metadata": {},
     "output_type": "execute_result"
    }
   ],
   "source": [
    "poligonos_intersect_siem"
   ]
  },
  {
   "cell_type": "code",
   "execution_count": 27,
   "id": "f94775cc-b2cb-4562-bdbf-d4cdea9b7d4a",
   "metadata": {},
   "outputs": [],
   "source": [
    "# Concatenar los DataFrames a lo largo de las filas (axis=0)\n",
    "plan = pd.concat([poligonos_intersect_cat, poligonos_intersect_siem], axis=0)\n",
    "# Si deseas restablecer el índice después de concatenar\n",
    "plan.reset_index(drop=True, inplace=True)"
   ]
  },
  {
   "cell_type": "code",
   "execution_count": 28,
   "id": "eaaf58db-a69b-438d-a53c-3014bff3a849",
   "metadata": {},
   "outputs": [
    {
     "data": {
      "text/plain": [
       "<Axes: >"
      ]
     },
     "execution_count": 28,
     "metadata": {},
     "output_type": "execute_result"
    },
    {
     "data": {
      "image/png": "[encoded data removed]",
      "text/plain": [
       "<Figure size 640x480 with 1 Axes>"
      ]
     },
     "metadata": {},
     "output_type": "display_data"
    }
   ],
   "source": [
    "plan.plot()"
   ]
  },
  {
   "cell_type": "code",
   "execution_count": 29,
   "id": "d20fa8af-ca0e-42a7-8578-b5fc74b3dc0a",
   "metadata": {},
   "outputs": [
    {
     "data": {
      "text/html": [
       "<div>\n",
       "<style scoped>\n",
       "    .dataframe tbody tr th:only-of-type {\n",
       "        vertical-align: middle;\n",
       "    }\n",
       "\n",
       "    .dataframe tbody tr th {\n",
       "        vertical-align: top;\n",
       "    }\n",
       "\n",
       "    .dataframe thead th {\n",
       "        text-align: right;\n",
       "    }\n",
       "</style>\n",
       "<table border=\"1\" class=\"dataframe\">\n",
       "  <thead>\n",
       "    <tr style=\"text-align: right;\">\n",
       "      <th></th>\n",
       "      <th>unidad_01</th>\n",
       "      <th>unidad_02</th>\n",
       "      <th>unidad_03</th>\n",
       "      <th>unidad_04</th>\n",
       "      <th>unidad_05</th>\n",
       "      <th>area</th>\n",
       "      <th>soca</th>\n",
       "      <th>geometry</th>\n",
       "      <th>fecha_ini</th>\n",
       "      <th>origen</th>\n",
       "      <th>dias</th>\n",
       "      <th>fecha</th>\n",
       "      <th>os</th>\n",
       "      <th>prioridad</th>\n",
       "    </tr>\n",
       "  </thead>\n",
       "  <tbody>\n",
       "    <tr>\n",
       "      <th>0</th>\n",
       "      <td>74</td>\n",
       "      <td>LOS ARROYOS--DONOSO</td>\n",
       "      <td>2816</td>\n",
       "      <td>DONOSO BLANCO ALBERTO\\r\\n</td>\n",
       "      <td>B2</td>\n",
       "      <td>15.930000</td>\n",
       "      <td>123</td>\n",
       "      <td>POLYGON ((481119.930 8080378.683, 480947.024 8...</td>\n",
       "      <td></td>\n",
       "      <td>SOLICITUD</td>\n",
       "      <td>0</td>\n",
       "      <td></td>\n",
       "      <td>30</td>\n",
       "      <td>NaN</td>\n",
       "    </tr>\n",
       "    <tr>\n",
       "      <th>1</th>\n",
       "      <td>74</td>\n",
       "      <td>LOS ARROYOS--DONOSO</td>\n",
       "      <td>2816</td>\n",
       "      <td>DONOSO BLANCO ALBERTO\\r\\n</td>\n",
       "      <td>A4.1</td>\n",
       "      <td>2.120000</td>\n",
       "      <td>123</td>\n",
       "      <td>POLYGON ((482289.170 8078979.600, 482313.775 8...</td>\n",
       "      <td></td>\n",
       "      <td>SOLICITUD</td>\n",
       "      <td>0</td>\n",
       "      <td></td>\n",
       "      <td>30</td>\n",
       "      <td>NaN</td>\n",
       "    </tr>\n",
       "    <tr>\n",
       "      <th>2</th>\n",
       "      <td>74</td>\n",
       "      <td>LOS ARROYOS--DONOSO</td>\n",
       "      <td>2816</td>\n",
       "      <td>DONOSO BLANCO ALBERTO\\r\\n</td>\n",
       "      <td>A11</td>\n",
       "      <td>2.890000</td>\n",
       "      <td>123</td>\n",
       "      <td>POLYGON ((482431.127 8078242.665, 482309.857 8...</td>\n",
       "      <td></td>\n",
       "      <td>SOLICITUD</td>\n",
       "      <td>0</td>\n",
       "      <td></td>\n",
       "      <td>30</td>\n",
       "      <td>NaN</td>\n",
       "    </tr>\n",
       "    <tr>\n",
       "      <th>3</th>\n",
       "      <td>74</td>\n",
       "      <td>LOS ARROYOS--DONOSO</td>\n",
       "      <td>2816</td>\n",
       "      <td>DONOSO BLANCO ALBERTO\\r\\n</td>\n",
       "      <td>B1.1</td>\n",
       "      <td>1.970000</td>\n",
       "      <td>123</td>\n",
       "      <td>POLYGON ((480712.080 8080887.638, 480656.325 8...</td>\n",
       "      <td></td>\n",
       "      <td>SOLICITUD</td>\n",
       "      <td>0</td>\n",
       "      <td></td>\n",
       "      <td>30</td>\n",
       "      <td>NaN</td>\n",
       "    </tr>\n",
       "    <tr>\n",
       "      <th>4</th>\n",
       "      <td>74</td>\n",
       "      <td>LOS ARROYOS--DONOSO</td>\n",
       "      <td>2816</td>\n",
       "      <td>DONOSO BLANCO ALBERTO</td>\n",
       "      <td>A5.3</td>\n",
       "      <td>3.257755</td>\n",
       "      <td>1</td>\n",
       "      <td>POLYGON ((482171.958 8078929.023, 482259.644 8...</td>\n",
       "      <td>20/6/2024</td>\n",
       "      <td>SIEMBRA 2023</td>\n",
       "      <td>7</td>\n",
       "      <td>2024-06-20</td>\n",
       "      <td>30</td>\n",
       "      <td>4.0</td>\n",
       "    </tr>\n",
       "  </tbody>\n",
       "</table>\n",
       "</div>"
      ],
      "text/plain": [
       "  unidad_01            unidad_02 unidad_03                  unidad_04  \\\n",
       "0        74  LOS ARROYOS--DONOSO      2816  DONOSO BLANCO ALBERTO\\r\\n   \n",
       "1        74  LOS ARROYOS--DONOSO      2816  DONOSO BLANCO ALBERTO\\r\\n   \n",
       "2        74  LOS ARROYOS--DONOSO      2816  DONOSO BLANCO ALBERTO\\r\\n   \n",
       "3        74  LOS ARROYOS--DONOSO      2816  DONOSO BLANCO ALBERTO\\r\\n   \n",
       "4        74  LOS ARROYOS--DONOSO      2816      DONOSO BLANCO ALBERTO   \n",
       "\n",
       "  unidad_05       area  soca  \\\n",
       "0        B2  15.930000   123   \n",
       "1      A4.1   2.120000   123   \n",
       "2       A11   2.890000   123   \n",
       "3      B1.1   1.970000   123   \n",
       "4      A5.3   3.257755     1   \n",
       "\n",
       "                                            geometry  fecha_ini        origen  \\\n",
       "0  POLYGON ((481119.930 8080378.683, 480947.024 8...                SOLICITUD   \n",
       "1  POLYGON ((482289.170 8078979.600, 482313.775 8...                SOLICITUD   \n",
       "2  POLYGON ((482431.127 8078242.665, 482309.857 8...                SOLICITUD   \n",
       "3  POLYGON ((480712.080 8080887.638, 480656.325 8...                SOLICITUD   \n",
       "4  POLYGON ((482171.958 8078929.023, 482259.644 8...  20/6/2024  SIEMBRA 2023   \n",
       "\n",
       "   dias       fecha  os  prioridad  \n",
       "0     0              30        NaN  \n",
       "1     0              30        NaN  \n",
       "2     0              30        NaN  \n",
       "3     0              30        NaN  \n",
       "4     7  2024-06-20  30        4.0  "
      ]
     },
     "execution_count": 29,
     "metadata": {},
     "output_type": "execute_result"
    }
   ],
   "source": [
    "plan"
   ]
  },
  {
   "cell_type": "code",
   "execution_count": 80,
   "id": "cce50e5e-a116-4b2a-af88-5e8781eb1c30",
   "metadata": {},
   "outputs": [],
   "source": [
    "# cargar el shp de planificacion existente\n",
    "path_plan = r'C:\\Documents\\Ingenio Azucarero Guabira S.A\\UTEA - SEMANAL - EQUIPO AVIACION UTEA\\Trichogramma\\2024\\SHP\\PLANIFICACION_TEST.shp'\n",
    "gdf_plan = gpd.read_file(path_plan)"
   ]
  },
  {
   "cell_type": "code",
   "execution_count": 81,
   "id": "c8672e4b-c9c3-4e06-b506-9c351d506ee5",
   "metadata": {},
   "outputs": [],
   "source": [
    "last_id = 0\n",
    "if gdf_plan['id'].max() > 0:\n",
    "    last_id = gdf_plan['id'].max()\n",
    "else:\n",
    "    last_id = 0"
   ]
  },
  {
   "cell_type": "code",
   "execution_count": 82,
   "id": "8c0d2c70-f1d2-4f86-a30c-498e31bf3fef",
   "metadata": {},
   "outputs": [
    {
     "data": {
      "text/plain": [
       "0"
      ]
     },
     "execution_count": 82,
     "metadata": {},
     "output_type": "execute_result"
    }
   ],
   "source": [
    "last_id"
   ]
  },
  {
   "cell_type": "code",
   "execution_count": 83,
   "id": "0f50711b-5f55-4e1e-8d2f-f3d2fd35b395",
   "metadata": {},
   "outputs": [],
   "source": [
    "# Asignar valores incrementales a la columna 'id' empezando desde last_id + 1\n",
    "plan['id'] = range(last_id + 1, last_id + 1 + len(plan))"
   ]
  },
  {
   "cell_type": "code",
   "execution_count": 84,
   "id": "9d77a388-b29a-4179-85bf-b645b6f52740",
   "metadata": {},
   "outputs": [
    {
     "data": {
      "text/html": [
       "<div>\n",
       "<style scoped>\n",
       "    .dataframe tbody tr th:only-of-type {\n",
       "        vertical-align: middle;\n",
       "    }\n",
       "\n",
       "    .dataframe tbody tr th {\n",
       "        vertical-align: top;\n",
       "    }\n",
       "\n",
       "    .dataframe thead th {\n",
       "        text-align: right;\n",
       "    }\n",
       "</style>\n",
       "<table border=\"1\" class=\"dataframe\">\n",
       "  <thead>\n",
       "    <tr style=\"text-align: right;\">\n",
       "      <th></th>\n",
       "      <th>unidad_01</th>\n",
       "      <th>unidad_02</th>\n",
       "      <th>unidad_03</th>\n",
       "      <th>unidad_04</th>\n",
       "      <th>unidad_05</th>\n",
       "      <th>area</th>\n",
       "      <th>soca</th>\n",
       "      <th>geometry</th>\n",
       "      <th>fecha_ini</th>\n",
       "      <th>origen</th>\n",
       "      <th>dias</th>\n",
       "      <th>fecha</th>\n",
       "      <th>os</th>\n",
       "      <th>prioridad</th>\n",
       "      <th>id</th>\n",
       "    </tr>\n",
       "  </thead>\n",
       "  <tbody>\n",
       "    <tr>\n",
       "      <th>0</th>\n",
       "      <td>74</td>\n",
       "      <td>LOS ARROYOS--DONOSO</td>\n",
       "      <td>2816</td>\n",
       "      <td>DONOSO BLANCO ALBERTO\\r\\n</td>\n",
       "      <td>B2</td>\n",
       "      <td>15.930000</td>\n",
       "      <td>123</td>\n",
       "      <td>POLYGON ((481119.930 8080378.683, 480947.024 8...</td>\n",
       "      <td></td>\n",
       "      <td>SOLICITUD</td>\n",
       "      <td>0</td>\n",
       "      <td></td>\n",
       "      <td>30</td>\n",
       "      <td>NaN</td>\n",
       "      <td>1</td>\n",
       "    </tr>\n",
       "    <tr>\n",
       "      <th>1</th>\n",
       "      <td>74</td>\n",
       "      <td>LOS ARROYOS--DONOSO</td>\n",
       "      <td>2816</td>\n",
       "      <td>DONOSO BLANCO ALBERTO\\r\\n</td>\n",
       "      <td>A4.1</td>\n",
       "      <td>2.120000</td>\n",
       "      <td>123</td>\n",
       "      <td>POLYGON ((482289.170 8078979.600, 482313.775 8...</td>\n",
       "      <td></td>\n",
       "      <td>SOLICITUD</td>\n",
       "      <td>0</td>\n",
       "      <td></td>\n",
       "      <td>30</td>\n",
       "      <td>NaN</td>\n",
       "      <td>2</td>\n",
       "    </tr>\n",
       "    <tr>\n",
       "      <th>2</th>\n",
       "      <td>74</td>\n",
       "      <td>LOS ARROYOS--DONOSO</td>\n",
       "      <td>2816</td>\n",
       "      <td>DONOSO BLANCO ALBERTO\\r\\n</td>\n",
       "      <td>A11</td>\n",
       "      <td>2.890000</td>\n",
       "      <td>123</td>\n",
       "      <td>POLYGON ((482431.127 8078242.665, 482309.857 8...</td>\n",
       "      <td></td>\n",
       "      <td>SOLICITUD</td>\n",
       "      <td>0</td>\n",
       "      <td></td>\n",
       "      <td>30</td>\n",
       "      <td>NaN</td>\n",
       "      <td>3</td>\n",
       "    </tr>\n",
       "    <tr>\n",
       "      <th>3</th>\n",
       "      <td>74</td>\n",
       "      <td>LOS ARROYOS--DONOSO</td>\n",
       "      <td>2816</td>\n",
       "      <td>DONOSO BLANCO ALBERTO\\r\\n</td>\n",
       "      <td>B1.1</td>\n",
       "      <td>1.970000</td>\n",
       "      <td>123</td>\n",
       "      <td>POLYGON ((480712.080 8080887.638, 480656.325 8...</td>\n",
       "      <td></td>\n",
       "      <td>SOLICITUD</td>\n",
       "      <td>0</td>\n",
       "      <td></td>\n",
       "      <td>30</td>\n",
       "      <td>NaN</td>\n",
       "      <td>4</td>\n",
       "    </tr>\n",
       "    <tr>\n",
       "      <th>4</th>\n",
       "      <td>74</td>\n",
       "      <td>LOS ARROYOS--DONOSO</td>\n",
       "      <td>2816</td>\n",
       "      <td>DONOSO BLANCO ALBERTO</td>\n",
       "      <td>A5.3</td>\n",
       "      <td>3.257755</td>\n",
       "      <td>1</td>\n",
       "      <td>POLYGON ((482171.958 8078929.023, 482259.644 8...</td>\n",
       "      <td>20/6/2024</td>\n",
       "      <td>SIEMBRA 2023</td>\n",
       "      <td>7</td>\n",
       "      <td>2024-06-20</td>\n",
       "      <td>30</td>\n",
       "      <td>4.0</td>\n",
       "      <td>5</td>\n",
       "    </tr>\n",
       "  </tbody>\n",
       "</table>\n",
       "</div>"
      ],
      "text/plain": [
       "  unidad_01            unidad_02 unidad_03                  unidad_04  \\\n",
       "0        74  LOS ARROYOS--DONOSO      2816  DONOSO BLANCO ALBERTO\\r\\n   \n",
       "1        74  LOS ARROYOS--DONOSO      2816  DONOSO BLANCO ALBERTO\\r\\n   \n",
       "2        74  LOS ARROYOS--DONOSO      2816  DONOSO BLANCO ALBERTO\\r\\n   \n",
       "3        74  LOS ARROYOS--DONOSO      2816  DONOSO BLANCO ALBERTO\\r\\n   \n",
       "4        74  LOS ARROYOS--DONOSO      2816      DONOSO BLANCO ALBERTO   \n",
       "\n",
       "  unidad_05       area  soca  \\\n",
       "0        B2  15.930000   123   \n",
       "1      A4.1   2.120000   123   \n",
       "2       A11   2.890000   123   \n",
       "3      B1.1   1.970000   123   \n",
       "4      A5.3   3.257755     1   \n",
       "\n",
       "                                            geometry  fecha_ini        origen  \\\n",
       "0  POLYGON ((481119.930 8080378.683, 480947.024 8...                SOLICITUD   \n",
       "1  POLYGON ((482289.170 8078979.600, 482313.775 8...                SOLICITUD   \n",
       "2  POLYGON ((482431.127 8078242.665, 482309.857 8...                SOLICITUD   \n",
       "3  POLYGON ((480712.080 8080887.638, 480656.325 8...                SOLICITUD   \n",
       "4  POLYGON ((482171.958 8078929.023, 482259.644 8...  20/6/2024  SIEMBRA 2023   \n",
       "\n",
       "   dias       fecha  os  prioridad  id  \n",
       "0     0              30        NaN   1  \n",
       "1     0              30        NaN   2  \n",
       "2     0              30        NaN   3  \n",
       "3     0              30        NaN   4  \n",
       "4     7  2024-06-20  30        4.0   5  "
      ]
     },
     "execution_count": 84,
     "metadata": {},
     "output_type": "execute_result"
    }
   ],
   "source": [
    "plan"
   ]
  },
  {
   "cell_type": "code",
   "execution_count": 85,
   "id": "5d989b45-d04a-4a62-af2c-778881ecf130",
   "metadata": {},
   "outputs": [
    {
     "name": "stderr",
     "output_type": "stream",
     "text": [
      "C:\\Users\\bismarksr\\AppData\\Local\\Temp\\ipykernel_23008\\364328693.py:2: FutureWarning: The behavior of DataFrame concatenation with empty or all-NA entries is deprecated. In a future version, this will no longer exclude empty or all-NA columns when determining the result dtypes. To retain the old behavior, exclude the relevant entries before the concat operation.\n",
      "  gdf_pla_gral = pd.concat([gdf_plan, plan], ignore_index=True)\n"
     ]
    }
   ],
   "source": [
    "# union de los dos gdf\n",
    "gdf_pla_gral = pd.concat([gdf_plan, plan], ignore_index=True)"
   ]
  },
  {
   "cell_type": "code",
   "execution_count": 86,
   "id": "a0aa63d6-c245-43bf-ae75-a3512e50c213",
   "metadata": {},
   "outputs": [
    {
     "data": {
      "text/html": [
       "<div>\n",
       "<style scoped>\n",
       "    .dataframe tbody tr th:only-of-type {\n",
       "        vertical-align: middle;\n",
       "    }\n",
       "\n",
       "    .dataframe tbody tr th {\n",
       "        vertical-align: top;\n",
       "    }\n",
       "\n",
       "    .dataframe thead th {\n",
       "        text-align: right;\n",
       "    }\n",
       "</style>\n",
       "<table border=\"1\" class=\"dataframe\">\n",
       "  <thead>\n",
       "    <tr style=\"text-align: right;\">\n",
       "      <th></th>\n",
       "      <th>unidad_01</th>\n",
       "      <th>unidad_02</th>\n",
       "      <th>unidad_03</th>\n",
       "      <th>unidad_04</th>\n",
       "      <th>unidad_05</th>\n",
       "      <th>area</th>\n",
       "      <th>fecha_ini</th>\n",
       "      <th>origen</th>\n",
       "      <th>dias</th>\n",
       "      <th>fecha</th>\n",
       "      <th>prioridad</th>\n",
       "      <th>os</th>\n",
       "      <th>soca</th>\n",
       "      <th>id</th>\n",
       "      <th>geometry</th>\n",
       "    </tr>\n",
       "  </thead>\n",
       "  <tbody>\n",
       "    <tr>\n",
       "      <th>0</th>\n",
       "      <td>74</td>\n",
       "      <td>LOS ARROYOS--DONOSO</td>\n",
       "      <td>2816</td>\n",
       "      <td>DONOSO BLANCO ALBERTO\\r\\n</td>\n",
       "      <td>B2</td>\n",
       "      <td>15.930000</td>\n",
       "      <td></td>\n",
       "      <td>SOLICITUD</td>\n",
       "      <td>0</td>\n",
       "      <td></td>\n",
       "      <td>NaN</td>\n",
       "      <td>30</td>\n",
       "      <td>123</td>\n",
       "      <td>1</td>\n",
       "      <td>POLYGON ((481119.930 8080378.683, 480947.024 8...</td>\n",
       "    </tr>\n",
       "    <tr>\n",
       "      <th>1</th>\n",
       "      <td>74</td>\n",
       "      <td>LOS ARROYOS--DONOSO</td>\n",
       "      <td>2816</td>\n",
       "      <td>DONOSO BLANCO ALBERTO\\r\\n</td>\n",
       "      <td>A4.1</td>\n",
       "      <td>2.120000</td>\n",
       "      <td></td>\n",
       "      <td>SOLICITUD</td>\n",
       "      <td>0</td>\n",
       "      <td></td>\n",
       "      <td>NaN</td>\n",
       "      <td>30</td>\n",
       "      <td>123</td>\n",
       "      <td>2</td>\n",
       "      <td>POLYGON ((482289.170 8078979.600, 482313.775 8...</td>\n",
       "    </tr>\n",
       "    <tr>\n",
       "      <th>2</th>\n",
       "      <td>74</td>\n",
       "      <td>LOS ARROYOS--DONOSO</td>\n",
       "      <td>2816</td>\n",
       "      <td>DONOSO BLANCO ALBERTO\\r\\n</td>\n",
       "      <td>A11</td>\n",
       "      <td>2.890000</td>\n",
       "      <td></td>\n",
       "      <td>SOLICITUD</td>\n",
       "      <td>0</td>\n",
       "      <td></td>\n",
       "      <td>NaN</td>\n",
       "      <td>30</td>\n",
       "      <td>123</td>\n",
       "      <td>3</td>\n",
       "      <td>POLYGON ((482431.127 8078242.665, 482309.857 8...</td>\n",
       "    </tr>\n",
       "    <tr>\n",
       "      <th>3</th>\n",
       "      <td>74</td>\n",
       "      <td>LOS ARROYOS--DONOSO</td>\n",
       "      <td>2816</td>\n",
       "      <td>DONOSO BLANCO ALBERTO\\r\\n</td>\n",
       "      <td>B1.1</td>\n",
       "      <td>1.970000</td>\n",
       "      <td></td>\n",
       "      <td>SOLICITUD</td>\n",
       "      <td>0</td>\n",
       "      <td></td>\n",
       "      <td>NaN</td>\n",
       "      <td>30</td>\n",
       "      <td>123</td>\n",
       "      <td>4</td>\n",
       "      <td>POLYGON ((480712.080 8080887.638, 480656.325 8...</td>\n",
       "    </tr>\n",
       "    <tr>\n",
       "      <th>4</th>\n",
       "      <td>74</td>\n",
       "      <td>LOS ARROYOS--DONOSO</td>\n",
       "      <td>2816</td>\n",
       "      <td>DONOSO BLANCO ALBERTO</td>\n",
       "      <td>A5.3</td>\n",
       "      <td>3.257755</td>\n",
       "      <td>20/6/2024</td>\n",
       "      <td>SIEMBRA 2023</td>\n",
       "      <td>7</td>\n",
       "      <td>2024-06-20</td>\n",
       "      <td>4.0</td>\n",
       "      <td>30</td>\n",
       "      <td>1</td>\n",
       "      <td>5</td>\n",
       "      <td>POLYGON ((482171.958 8078929.023, 482259.644 8...</td>\n",
       "    </tr>\n",
       "  </tbody>\n",
       "</table>\n",
       "</div>"
      ],
      "text/plain": [
       "  unidad_01            unidad_02 unidad_03                  unidad_04  \\\n",
       "0        74  LOS ARROYOS--DONOSO      2816  DONOSO BLANCO ALBERTO\\r\\n   \n",
       "1        74  LOS ARROYOS--DONOSO      2816  DONOSO BLANCO ALBERTO\\r\\n   \n",
       "2        74  LOS ARROYOS--DONOSO      2816  DONOSO BLANCO ALBERTO\\r\\n   \n",
       "3        74  LOS ARROYOS--DONOSO      2816  DONOSO BLANCO ALBERTO\\r\\n   \n",
       "4        74  LOS ARROYOS--DONOSO      2816      DONOSO BLANCO ALBERTO   \n",
       "\n",
       "  unidad_05       area  fecha_ini        origen dias       fecha  prioridad  \\\n",
       "0        B2  15.930000                SOLICITUD    0                    NaN   \n",
       "1      A4.1   2.120000                SOLICITUD    0                    NaN   \n",
       "2       A11   2.890000                SOLICITUD    0                    NaN   \n",
       "3      B1.1   1.970000                SOLICITUD    0                    NaN   \n",
       "4      A5.3   3.257755  20/6/2024  SIEMBRA 2023    7  2024-06-20        4.0   \n",
       "\n",
       "   os soca id                                           geometry  \n",
       "0  30  123  1  POLYGON ((481119.930 8080378.683, 480947.024 8...  \n",
       "1  30  123  2  POLYGON ((482289.170 8078979.600, 482313.775 8...  \n",
       "2  30  123  3  POLYGON ((482431.127 8078242.665, 482309.857 8...  \n",
       "3  30  123  4  POLYGON ((480712.080 8080887.638, 480656.325 8...  \n",
       "4  30    1  5  POLYGON ((482171.958 8078929.023, 482259.644 8...  "
      ]
     },
     "execution_count": 86,
     "metadata": {},
     "output_type": "execute_result"
    }
   ],
   "source": [
    "gdf_pla_gral"
   ]
  },
  {
   "cell_type": "code",
   "execution_count": 87,
   "id": "3ceba5ac-11a6-46f5-ade5-f5c81389c2f8",
   "metadata": {},
   "outputs": [],
   "source": [
    "gdf_pla_gral['unidad_01'] = gdf_pla_gral['unidad_01'].astype(int)\n",
    "gdf_pla_gral['unidad_03'] = gdf_pla_gral['unidad_03'].astype(int)\n",
    "gdf_pla_gral['dias'] = gdf_pla_gral['dias'].astype(int)\n",
    "#gdf_pla_gral['prioridad'] = gdf_pla_gral['prioridad'].astype(int)\n",
    "gdf_pla_gral['os'] = gdf_pla_gral['os'].astype(int)\n",
    "gdf_pla_gral['soca'] = gdf_pla_gral['soca'].astype(int)\n",
    "gdf_pla_gral['id'] = gdf_pla_gral['id'].astype(int)"
   ]
  },
  {
   "cell_type": "code",
   "execution_count": 88,
   "id": "558488e5-407b-405b-b50f-d54b7cb38dd1",
   "metadata": {},
   "outputs": [],
   "source": [
    "# exportar los datos en nuevo shp\n",
    "gdf_pla_gral.to_file(path_plan)"
   ]
  },
  {
   "cell_type": "code",
   "execution_count": null,
   "id": "f7f9a1ad-af96-4c43-9427-f2128ea8dfda",
   "metadata": {},
   "outputs": [],
   "source": []
  },
  {
   "cell_type": "markdown",
   "id": "92a10d50-7471-4f3a-8085-fd37e259b2b1",
   "metadata": {},
   "source": [
    "# CARGAR PLANIFICACION A AMIGOCLOUD"
   ]
  },
  {
   "cell_type": "code",
   "execution_count": 140,
   "id": "b3af9f2f-af6f-4d93-9486-fc9dc3bf959b",
   "metadata": {},
   "outputs": [],
   "source": [
    "def convertir_a_multipolygon(geometry):\n",
    "    if isinstance(geometry, Polygon):\n",
    "        return MultiPolygon([geometry])\n",
    "    return geometry\n",
    "\n",
    "def convertir_a_wkb(polygon):\n",
    "    wkb_data = wkb.dumps(polygon, hex=True)\n",
    "    return wkb_data"
   ]
  },
  {
   "cell_type": "code",
   "execution_count": 141,
   "id": "3bb8b143-c2e1-4531-bb46-4d2dc6c94f35",
   "metadata": {},
   "outputs": [],
   "source": [
    "# repreyectar a WGS84\n",
    "plan = plan.to_crs(epsg=4326)\n",
    "# convertir poligonos a multipoligonos\n",
    "plan['geometry'] = plan['geometry'].apply(convertir_a_multipolygon)"
   ]
  },
  {
   "cell_type": "code",
   "execution_count": 35,
   "id": "2d282a8f-fc27-4967-88c9-e41de31ef6de",
   "metadata": {},
   "outputs": [],
   "source": [
    "#plan"
   ]
  },
  {
   "cell_type": "code",
   "execution_count": 142,
   "id": "c51086e2-3f84-4f06-8504-ecd00c850844",
   "metadata": {},
   "outputs": [],
   "source": [
    "# recorrer el gdf de lotes y cargarlo a amigocloud\n",
    "id_proyecto = f'https://app.amigocloud.com/api/v1/projects/33457/sql'\n",
    "for index, row in plan.iterrows():\n",
    "    wkb_hex = convertir_a_wkb(row['geometry'])\n",
    "    insert_sql = f\"\"\"\n",
    "    INSERT INTO dataset_345601 (sem_reg, unidad_01, unidad_02, unidad_03, unidad_04, unidad_05, area, origen, dias, sem_plan, geometry)\n",
    "    VALUES ({row['sem_reg']}, {row['unidad_01']}, '{row['unidad_02']}', {row['unidad_03']}, '{row['unidad_04']}', '{row['unidad_05']}', {row['area']}, '{row['origen']}', '{row['dias']}', '{row['sem_plan']}', ST_SetSRID(ST_GeomFromWKB('\\\\x{wkb_hex}'), 4326));\n",
    "    \"\"\"\n",
    "    query_sql = {'query': insert_sql}\n",
    "    resultado_post = amigocloud.post(id_proyecto, query_sql)"
   ]
  },
  {
   "cell_type": "markdown",
   "id": "03e9a035-abf8-4d4a-8d47-4ab6b8a49e7e",
   "metadata": {},
   "source": [
    "# CREAR KMLS DE PLANIFICACION"
   ]
  },
  {
   "cell_type": "code",
   "execution_count": 143,
   "id": "f1cf9d4d-9bf3-488c-8885-291cbcd9a67b",
   "metadata": {},
   "outputs": [],
   "source": [
    "path_kml = r'G:\\Ingenio Azucarero Guabira S.A\\UTEA - SEMANAL - EQUIPO AVIACION UTEA\\Trichogramma\\2024\\KML_PLAN'"
   ]
  },
  {
   "cell_type": "code",
   "execution_count": 144,
   "id": "8129354d-65bb-4517-a388-51546fe385cd",
   "metadata": {},
   "outputs": [],
   "source": [
    "path_plan = r'G:\\Ingenio Azucarero Guabira S.A\\UTEA - SEMANAL - EQUIPO AVIACION UTEA\\Trichogramma\\2024\\SHP\\PLANIFICACION.shp'\n",
    "gdf_plan = gpd.read_file(path_plan)"
   ]
  },
  {
   "cell_type": "code",
   "execution_count": 145,
   "id": "36f2860a-fa88-4e71-93e5-b8faa22aa9c3",
   "metadata": {},
   "outputs": [
    {
     "data": {
      "text/html": [
       "<div>\n",
       "<style scoped>\n",
       "    .dataframe tbody tr th:only-of-type {\n",
       "        vertical-align: middle;\n",
       "    }\n",
       "\n",
       "    .dataframe tbody tr th {\n",
       "        vertical-align: top;\n",
       "    }\n",
       "\n",
       "    .dataframe thead th {\n",
       "        text-align: right;\n",
       "    }\n",
       "</style>\n",
       "<table border=\"1\" class=\"dataframe\">\n",
       "  <thead>\n",
       "    <tr style=\"text-align: right;\">\n",
       "      <th></th>\n",
       "      <th>sem_reg</th>\n",
       "      <th>unidad_01</th>\n",
       "      <th>unidad_02</th>\n",
       "      <th>unidad_03</th>\n",
       "      <th>unidad_04</th>\n",
       "      <th>unidad_05</th>\n",
       "      <th>area</th>\n",
       "      <th>fecha_ini</th>\n",
       "      <th>origen</th>\n",
       "      <th>dias</th>\n",
       "      <th>sem_plan</th>\n",
       "      <th>id</th>\n",
       "      <th>fecha</th>\n",
       "      <th>prioridad</th>\n",
       "      <th>geometry</th>\n",
       "    </tr>\n",
       "  </thead>\n",
       "  <tbody>\n",
       "    <tr>\n",
       "      <th>87</th>\n",
       "      <td>0.0</td>\n",
       "      <td>369</td>\n",
       "      <td>TOBOROCHI--BALCAZAR</td>\n",
       "      <td>1171</td>\n",
       "      <td>BALCAZAR BALCAZAR ROQUE DAVID\\r\\n</td>\n",
       "      <td>L5.1</td>\n",
       "      <td>1.264498</td>\n",
       "      <td>None</td>\n",
       "      <td>SOLICITUD</td>\n",
       "      <td>0</td>\n",
       "      <td>32</td>\n",
       "      <td>None</td>\n",
       "      <td>None</td>\n",
       "      <td>0.0</td>\n",
       "      <td>POLYGON ((468958.101 8096856.431, 468959.680 8...</td>\n",
       "    </tr>\n",
       "    <tr>\n",
       "      <th>88</th>\n",
       "      <td>0.0</td>\n",
       "      <td>369</td>\n",
       "      <td>TOBOROCHI--BALCAZAR</td>\n",
       "      <td>1171</td>\n",
       "      <td>BALCAZAR BALCAZAR ROQUE DAVID</td>\n",
       "      <td>L2.1</td>\n",
       "      <td>11.556979</td>\n",
       "      <td>None</td>\n",
       "      <td>SIEMBRA 2023</td>\n",
       "      <td>0</td>\n",
       "      <td>32</td>\n",
       "      <td>None</td>\n",
       "      <td>None</td>\n",
       "      <td>13.0</td>\n",
       "      <td>POLYGON ((469150.275 8096553.954, 469423.512 8...</td>\n",
       "    </tr>\n",
       "    <tr>\n",
       "      <th>89</th>\n",
       "      <td>0.0</td>\n",
       "      <td>369</td>\n",
       "      <td>TOBOROCHI--BALCAZAR</td>\n",
       "      <td>1171</td>\n",
       "      <td>BALCAZAR BALCAZAR ROQUE DAVID</td>\n",
       "      <td>L5.1</td>\n",
       "      <td>0.839625</td>\n",
       "      <td>None</td>\n",
       "      <td>SIEMBRA 2023</td>\n",
       "      <td>0</td>\n",
       "      <td>32</td>\n",
       "      <td>None</td>\n",
       "      <td>None</td>\n",
       "      <td>13.0</td>\n",
       "      <td>POLYGON ((469093.386 8096705.068, 469059.765 8...</td>\n",
       "    </tr>\n",
       "    <tr>\n",
       "      <th>90</th>\n",
       "      <td>25.0</td>\n",
       "      <td>369</td>\n",
       "      <td>TOBOROCHI--BALCAZAR</td>\n",
       "      <td>1171</td>\n",
       "      <td>BALCAZAR BALCAZAR ROQUE DAVID</td>\n",
       "      <td>L6.4</td>\n",
       "      <td>1.365556</td>\n",
       "      <td>2024-04-25</td>\n",
       "      <td>SIEMBRA 2024</td>\n",
       "      <td>63</td>\n",
       "      <td>32</td>\n",
       "      <td>None</td>\n",
       "      <td>2024-04-25</td>\n",
       "      <td>6.0</td>\n",
       "      <td>POLYGON ((469569.170 8096038.910, 469570.955 8...</td>\n",
       "    </tr>\n",
       "    <tr>\n",
       "      <th>91</th>\n",
       "      <td>25.0</td>\n",
       "      <td>369</td>\n",
       "      <td>TOBOROCHI--BALCAZAR</td>\n",
       "      <td>1171</td>\n",
       "      <td>BALCAZAR BALCAZAR ROQUE DAVID</td>\n",
       "      <td>L3</td>\n",
       "      <td>2.902202</td>\n",
       "      <td>2024-04-29</td>\n",
       "      <td>SIEMBRA 2024</td>\n",
       "      <td>59</td>\n",
       "      <td>32</td>\n",
       "      <td>None</td>\n",
       "      <td>2024-04-29</td>\n",
       "      <td>13.0</td>\n",
       "      <td>POLYGON ((469256.883 8096164.412, 469189.404 8...</td>\n",
       "    </tr>\n",
       "  </tbody>\n",
       "</table>\n",
       "</div>"
      ],
      "text/plain": [
       "    sem_reg unidad_01            unidad_02 unidad_03  \\\n",
       "87      0.0       369  TOBOROCHI--BALCAZAR      1171   \n",
       "88      0.0       369  TOBOROCHI--BALCAZAR      1171   \n",
       "89      0.0       369  TOBOROCHI--BALCAZAR      1171   \n",
       "90     25.0       369  TOBOROCHI--BALCAZAR      1171   \n",
       "91     25.0       369  TOBOROCHI--BALCAZAR      1171   \n",
       "\n",
       "                            unidad_04 unidad_05       area   fecha_ini  \\\n",
       "87  BALCAZAR BALCAZAR ROQUE DAVID\\r\\n      L5.1   1.264498        None   \n",
       "88      BALCAZAR BALCAZAR ROQUE DAVID      L2.1  11.556979        None   \n",
       "89      BALCAZAR BALCAZAR ROQUE DAVID      L5.1   0.839625        None   \n",
       "90      BALCAZAR BALCAZAR ROQUE DAVID      L6.4   1.365556  2024-04-25   \n",
       "91      BALCAZAR BALCAZAR ROQUE DAVID        L3   2.902202  2024-04-29   \n",
       "\n",
       "          origen dias sem_plan    id       fecha  prioridad  \\\n",
       "87     SOLICITUD    0       32  None        None        0.0   \n",
       "88  SIEMBRA 2023    0       32  None        None       13.0   \n",
       "89  SIEMBRA 2023    0       32  None        None       13.0   \n",
       "90  SIEMBRA 2024   63       32  None  2024-04-25        6.0   \n",
       "91  SIEMBRA 2024   59       32  None  2024-04-29       13.0   \n",
       "\n",
       "                                             geometry  \n",
       "87  POLYGON ((468958.101 8096856.431, 468959.680 8...  \n",
       "88  POLYGON ((469150.275 8096553.954, 469423.512 8...  \n",
       "89  POLYGON ((469093.386 8096705.068, 469059.765 8...  \n",
       "90  POLYGON ((469569.170 8096038.910, 469570.955 8...  \n",
       "91  POLYGON ((469256.883 8096164.412, 469189.404 8...  "
      ]
     },
     "execution_count": 145,
     "metadata": {},
     "output_type": "execute_result"
    }
   ],
   "source": [
    "gdf_plan_sem = gdf_plan[gdf_plan['sem_plan']==str(semana)]\n",
    "gdf_plan_sem"
   ]
  },
  {
   "cell_type": "code",
   "execution_count": 146,
   "id": "305df0d1-d68e-4350-8217-2d2a3479b291",
   "metadata": {},
   "outputs": [],
   "source": [
    "lista_cods = list(set(gdf_plan_sem['unidad_01']))"
   ]
  },
  {
   "cell_type": "code",
   "execution_count": 147,
   "id": "57574043-1f76-43d2-a22e-ef296b08422d",
   "metadata": {},
   "outputs": [
    {
     "data": {
      "text/plain": [
       "['369']"
      ]
     },
     "execution_count": 147,
     "metadata": {},
     "output_type": "execute_result"
    }
   ],
   "source": [
    "lista_cods"
   ]
  },
  {
   "cell_type": "code",
   "execution_count": 148,
   "id": "b330d918-e5dd-4401-9766-3528a3ac889d",
   "metadata": {},
   "outputs": [],
   "source": [
    "for i in lista_cods:\n",
    "    prop = gdf_plan_sem[gdf_plan_sem['unidad_01'] == i]\n",
    "    prop_wgs = prop.to_crs(epsg=4326)\n",
    "    output_folder = path_kml + '\\\\' + i\n",
    "    if not os.path.exists(output_folder):\n",
    "        os.makedirs(output_folder)\n",
    "    # Recorrer el GeoDataFrame\n",
    "    for idx, row in prop_wgs.iterrows():\n",
    "        # Crear un nuevo documento KML\n",
    "        kml_doc = simplekml.Kml()\n",
    "        # Obtener el polígono y el nombre\n",
    "        polygon = row['geometry']\n",
    "        name = row['unidad_05']\n",
    "        # Convertir el polígono en una lista de coordenadas\n",
    "        coords = [(x, y) for x, y in zip(*polygon.exterior.xy)]    \n",
    "        # Añadir el polígono al documento KML\n",
    "        pol = kml_doc.newpolygon(name=name, outerboundaryis=coords)\n",
    "        # Guardar el archivo KML\n",
    "        file_name = f\"{name}.kml\"\n",
    "        output_path = os.path.join(output_folder, file_name)\n",
    "        kml_doc.save(output_path)"
   ]
  },
  {
   "cell_type": "code",
   "execution_count": null,
   "id": "6262f75d-e98b-4ded-a8d7-a3293b2edbc5",
   "metadata": {},
   "outputs": [],
   "source": []
  },
  {
   "cell_type": "markdown",
   "id": "16e8c566-2f71-4a12-a194-564c47acf886",
   "metadata": {},
   "source": [
    "# CREAR XLSX"
   ]
  },
  {
   "cell_type": "code",
   "execution_count": 120,
   "id": "c7f69162-b9bc-4552-899d-d06a5348cf94",
   "metadata": {},
   "outputs": [
    {
     "data": {
      "text/plain": [
       "'G:/Ingenio Azucarero Guabira S.A/UTEA - SEMANAL - EQUIPO AVIACION UTEA/Trichogramma/2024/XLSX_PLAN/S23.xlsx'"
      ]
     },
     "execution_count": 120,
     "metadata": {},
     "output_type": "execute_result"
    }
   ],
   "source": [
    "path_plan_XLSX = f\"G:/Ingenio Azucarero Guabira S.A/UTEA - SEMANAL - EQUIPO AVIACION UTEA/Trichogramma/2024/XLSX_PLAN/S{semana}.xlsx\"\n",
    "path_plan_XLSX"
   ]
  },
  {
   "cell_type": "code",
   "execution_count": 123,
   "id": "5bee4a92-4b56-403f-bfe9-eb4d23277f01",
   "metadata": {},
   "outputs": [
    {
     "data": {
      "text/plain": [
       "Index(['sem_reg', 'unidad_01', 'unidad_02', 'unidad_03', 'unidad_04',\n",
       "       'unidad_05', 'area', 'fecha_ini', 'origen', 'dias', 'geometry',\n",
       "       'sem_plan'],\n",
       "      dtype='object')"
      ]
     },
     "execution_count": 123,
     "metadata": {},
     "output_type": "execute_result"
    }
   ],
   "source": [
    "poligonos_intersect.columns"
   ]
  },
  {
   "cell_type": "code",
   "execution_count": 128,
   "id": "171f6013-4e3b-49c9-b24e-82d11c1a2065",
   "metadata": {},
   "outputs": [],
   "source": [
    "df_xlsx = poligonos_intersect[['sem_reg', 'unidad_01', 'unidad_02', 'unidad_03', 'unidad_04', 'unidad_05', 'area', 'fecha_ini', 'origen', 'dias', 'sem_plan']]"
   ]
  },
  {
   "cell_type": "code",
   "execution_count": 129,
   "id": "657fc34d-713b-46b2-9659-f54c9f53083a",
   "metadata": {},
   "outputs": [],
   "source": [
    "df_xlsx.to_excel(path_plan_XLSX, index=False, engine='openpyxl')"
   ]
  },
  {
   "cell_type": "code",
   "execution_count": null,
   "id": "2a51c637-8caf-4cec-b182-50b3526ed6ad",
   "metadata": {},
   "outputs": [],
   "source": []
  },
  {
   "cell_type": "code",
   "execution_count": null,
   "id": "3d36e236-6425-48ec-b6fd-660a57119ba3",
   "metadata": {},
   "outputs": [],
   "source": []
  }
 ],
 "metadata": {
  "kernelspec": {
   "display_name": "Python 3 (ipykernel)",
   "language": "python",
   "name": "python3"
  },
  "language_info": {
   "codemirror_mode": {
    "name": "ipython",
    "version": 3
   },
   "file_extension": ".py",
   "mimetype": "text/x-python",
   "name": "python",
   "nbconvert_exporter": "python",
   "pygments_lexer": "ipython3",
   "version": "3.10.13"
  }
 },
 "nbformat": 4,
 "nbformat_minor": 5
}
