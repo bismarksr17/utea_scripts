{
 "cells": [
  {
   "cell_type": "code",
   "execution_count": 4,
   "id": "c53bfb33-e008-430b-9dfc-d4d78987ef58",
   "metadata": {},
   "outputs": [],
   "source": [
    "import geopandas as gpd\n",
    "import matplotlib.pyplot as plt\n",
    "import pandas as pd\n",
    "from datetime import datetime"
   ]
  },
  {
   "cell_type": "code",
   "execution_count": 46,
   "id": "d77072d9-0e0c-4609-bd8d-9c1bcdd227d9",
   "metadata": {},
   "outputs": [],
   "source": [
    "path_cat_shp = r'G:/OneDrive - Ingenio Azucarero Guabira S.A/INFORMACION GENERAL/CATASTRO/catastro241023rv.shp'\n",
    "path_cos_shp = r'G:/OneDrive - Ingenio Azucarero Guabira S.A/INFORMACION GENERAL/CATASTRO/cosecha2023rv.shp'"
   ]
  },
  {
   "cell_type": "code",
   "execution_count": 6,
   "id": "33326500-d213-4eaa-a0b9-16ce2cbe3cc2",
   "metadata": {},
   "outputs": [],
   "source": [
    "cat_shp = gpd.read_file(path_cat_shp)"
   ]
  },
  {
   "cell_type": "code",
   "execution_count": 33,
   "id": "1a29a573-2e4f-4b1e-9a14-a2fbf89f388f",
   "metadata": {},
   "outputs": [],
   "source": [
    "siembras = cat_shp[cat_shp['finan2023']=='IAG']"
   ]
  },
  {
   "cell_type": "code",
   "execution_count": 34,
   "id": "37b7ca21-999a-4934-b438-f02495ff47be",
   "metadata": {},
   "outputs": [
    {
     "data": {
      "text/plain": [
       "2944.16"
      ]
     },
     "execution_count": 34,
     "metadata": {},
     "output_type": "execute_result"
    }
   ],
   "source": [
    "siembras['area'].sum()"
   ]
  },
  {
   "cell_type": "code",
   "execution_count": 35,
   "id": "a74b3b4b-b5be-4469-a5bc-b98e75949fe6",
   "metadata": {},
   "outputs": [
    {
     "data": {
      "text/plain": [
       "Index(['id', 'unidad_01', 'unidad_02', 'unidad_03', 'unidad_04', 'unidad_05',\n",
       "       'variedad', 'fs', 'variedad23', 'textura', 'financia', 'soca',\n",
       "       'cultivo', 'zona', 'fs23', 'ins', 'finan2023', 'area', 'Tecnico',\n",
       "       'geometry'],\n",
       "      dtype='object')"
      ]
     },
     "execution_count": 35,
     "metadata": {},
     "output_type": "execute_result"
    }
   ],
   "source": [
    "siembras.columns"
   ]
  },
  {
   "cell_type": "code",
   "execution_count": 36,
   "id": "1de792eb-cb0c-46b6-bda0-8f6f23c8c6d6",
   "metadata": {},
   "outputs": [],
   "source": [
    "siembras = siembra[['unidad_01', 'unidad_02', 'unidad_03', 'unidad_04', 'unidad_05', 'fs23', 'area']]"
   ]
  },
  {
   "cell_type": "code",
   "execution_count": 40,
   "id": "1aca08d4-64e0-45c7-8afb-7c1f1307f810",
   "metadata": {},
   "outputs": [],
   "source": [
    "siembras.rename(columns={'fs23':'fecha'}, inplace=True)"
   ]
  },
  {
   "cell_type": "code",
   "execution_count": 42,
   "id": "2f6f792f-0cac-416a-9c48-31365a378106",
   "metadata": {},
   "outputs": [],
   "source": [
    "siembras['tipo'] = 'siembra'"
   ]
  },
  {
   "cell_type": "code",
   "execution_count": 45,
   "id": "74e06c41-74a7-4c04-b97c-76fb7d59c666",
   "metadata": {
    "tags": []
   },
   "outputs": [
    {
     "data": {
      "text/html": [
       "<div>\n",
       "<style scoped>\n",
       "    .dataframe tbody tr th:only-of-type {\n",
       "        vertical-align: middle;\n",
       "    }\n",
       "\n",
       "    .dataframe tbody tr th {\n",
       "        vertical-align: top;\n",
       "    }\n",
       "\n",
       "    .dataframe thead th {\n",
       "        text-align: right;\n",
       "    }\n",
       "</style>\n",
       "<table border=\"1\" class=\"dataframe\">\n",
       "  <thead>\n",
       "    <tr style=\"text-align: right;\">\n",
       "      <th></th>\n",
       "      <th>unidad_01</th>\n",
       "      <th>unidad_02</th>\n",
       "      <th>unidad_03</th>\n",
       "      <th>unidad_04</th>\n",
       "      <th>unidad_05</th>\n",
       "      <th>fecha</th>\n",
       "      <th>area</th>\n",
       "      <th>tipo</th>\n",
       "    </tr>\n",
       "  </thead>\n",
       "  <tbody>\n",
       "    <tr>\n",
       "      <th>0</th>\n",
       "      <td>947</td>\n",
       "      <td>SAN FELIX DE SEJAS--FELIX SEJAS</td>\n",
       "      <td>13002.0</td>\n",
       "      <td>SEJAS SALVATIERRA JULIO CESAR</td>\n",
       "      <td>L3.4</td>\n",
       "      <td>2023-05-15</td>\n",
       "      <td>1.08</td>\n",
       "      <td>siembra</td>\n",
       "    </tr>\n",
       "    <tr>\n",
       "      <th>4</th>\n",
       "      <td>759</td>\n",
       "      <td>EL MANGO--FLORES</td>\n",
       "      <td>5385.0</td>\n",
       "      <td>HUANCA CANO MARIA</td>\n",
       "      <td>L2</td>\n",
       "      <td>2023-07-13</td>\n",
       "      <td>2.87</td>\n",
       "      <td>siembra</td>\n",
       "    </tr>\n",
       "    <tr>\n",
       "      <th>7</th>\n",
       "      <td>1426</td>\n",
       "      <td>EL NARANJAL I--DIONICIA COLQUE</td>\n",
       "      <td>2660.0</td>\n",
       "      <td>CONDORI COLQUE CARMELO</td>\n",
       "      <td>L2.1</td>\n",
       "      <td>2023-06-12</td>\n",
       "      <td>1.90</td>\n",
       "      <td>siembra</td>\n",
       "    </tr>\n",
       "    <tr>\n",
       "      <th>9</th>\n",
       "      <td>478</td>\n",
       "      <td>SAN LORENZO I--JUAN MEDRANO</td>\n",
       "      <td>8227.0</td>\n",
       "      <td>MEDRANO NUNEZ REMBERTO</td>\n",
       "      <td>L15.1</td>\n",
       "      <td>2023-04-10</td>\n",
       "      <td>13.25</td>\n",
       "      <td>siembra</td>\n",
       "    </tr>\n",
       "    <tr>\n",
       "      <th>11</th>\n",
       "      <td>1426</td>\n",
       "      <td>EL NARANJAL I--DIONICIA COLQUE</td>\n",
       "      <td>2660.0</td>\n",
       "      <td>CONDORI COLQUE CARMELO</td>\n",
       "      <td>L1.5</td>\n",
       "      <td>2023-06-30</td>\n",
       "      <td>0.82</td>\n",
       "      <td>siembra</td>\n",
       "    </tr>\n",
       "    <tr>\n",
       "      <th>...</th>\n",
       "      <td>...</td>\n",
       "      <td>...</td>\n",
       "      <td>...</td>\n",
       "      <td>...</td>\n",
       "      <td>...</td>\n",
       "      <td>...</td>\n",
       "      <td>...</td>\n",
       "      <td>...</td>\n",
       "    </tr>\n",
       "    <tr>\n",
       "      <th>789</th>\n",
       "      <td>509</td>\n",
       "      <td>NATIVIDAD--CLAROS</td>\n",
       "      <td>1977.0</td>\n",
       "      <td>CLAROS CADIMA NATIVIDAD</td>\n",
       "      <td>L6.2</td>\n",
       "      <td>2023-05-11</td>\n",
       "      <td>1.10</td>\n",
       "      <td>siembra</td>\n",
       "    </tr>\n",
       "    <tr>\n",
       "      <th>790</th>\n",
       "      <td>1865</td>\n",
       "      <td>OKINAWA 400--CONDORI RUDDY</td>\n",
       "      <td>42178.0</td>\n",
       "      <td>CONDORI ORELLANA RUDDY</td>\n",
       "      <td>L3</td>\n",
       "      <td>2023-04-25</td>\n",
       "      <td>5.34</td>\n",
       "      <td>siembra</td>\n",
       "    </tr>\n",
       "    <tr>\n",
       "      <th>791</th>\n",
       "      <td>201</td>\n",
       "      <td>LA HONDONADA--CRUZ</td>\n",
       "      <td>2505.0</td>\n",
       "      <td>CRUZ BARRIENTOS CRISTIAN F.</td>\n",
       "      <td>L18.4</td>\n",
       "      <td>2023-05-09</td>\n",
       "      <td>0.90</td>\n",
       "      <td>siembra</td>\n",
       "    </tr>\n",
       "    <tr>\n",
       "      <th>793</th>\n",
       "      <td>85</td>\n",
       "      <td>NARANJAL ROCA</td>\n",
       "      <td>12162.0</td>\n",
       "      <td>ROCA REYES MARCOS</td>\n",
       "      <td>L7.11</td>\n",
       "      <td>2023-04-22</td>\n",
       "      <td>4.46</td>\n",
       "      <td>siembra</td>\n",
       "    </tr>\n",
       "    <tr>\n",
       "      <th>13147</th>\n",
       "      <td>1587</td>\n",
       "      <td>LAS CAÑA--CUELLAR</td>\n",
       "      <td>2285.0</td>\n",
       "      <td>CUELLAR ZABALA ADALBERTO</td>\n",
       "      <td>L5.3</td>\n",
       "      <td>2023-05-08</td>\n",
       "      <td>4.66</td>\n",
       "      <td>siembra</td>\n",
       "    </tr>\n",
       "  </tbody>\n",
       "</table>\n",
       "<p>507 rows × 8 columns</p>\n",
       "</div>"
      ],
      "text/plain": [
       "       unidad_01                        unidad_02  unidad_03  \\\n",
       "0            947  SAN FELIX DE SEJAS--FELIX SEJAS    13002.0   \n",
       "4            759                 EL MANGO--FLORES     5385.0   \n",
       "7           1426   EL NARANJAL I--DIONICIA COLQUE     2660.0   \n",
       "9            478      SAN LORENZO I--JUAN MEDRANO     8227.0   \n",
       "11          1426   EL NARANJAL I--DIONICIA COLQUE     2660.0   \n",
       "...          ...                              ...        ...   \n",
       "789          509                NATIVIDAD--CLAROS     1977.0   \n",
       "790         1865       OKINAWA 400--CONDORI RUDDY    42178.0   \n",
       "791          201               LA HONDONADA--CRUZ     2505.0   \n",
       "793           85                    NARANJAL ROCA    12162.0   \n",
       "13147       1587                LAS CAÑA--CUELLAR     2285.0   \n",
       "\n",
       "                           unidad_04 unidad_05       fecha   area     tipo  \n",
       "0      SEJAS SALVATIERRA JULIO CESAR      L3.4  2023-05-15   1.08  siembra  \n",
       "4                  HUANCA CANO MARIA        L2  2023-07-13   2.87  siembra  \n",
       "7             CONDORI COLQUE CARMELO      L2.1  2023-06-12   1.90  siembra  \n",
       "9             MEDRANO NUNEZ REMBERTO     L15.1  2023-04-10  13.25  siembra  \n",
       "11            CONDORI COLQUE CARMELO      L1.5  2023-06-30   0.82  siembra  \n",
       "...                              ...       ...         ...    ...      ...  \n",
       "789          CLAROS CADIMA NATIVIDAD      L6.2  2023-05-11   1.10  siembra  \n",
       "790           CONDORI ORELLANA RUDDY        L3  2023-04-25   5.34  siembra  \n",
       "791      CRUZ BARRIENTOS CRISTIAN F.     L18.4  2023-05-09   0.90  siembra  \n",
       "793                ROCA REYES MARCOS     L7.11  2023-04-22   4.46  siembra  \n",
       "13147       CUELLAR ZABALA ADALBERTO      L5.3  2023-05-08   4.66  siembra  \n",
       "\n",
       "[507 rows x 8 columns]"
      ]
     },
     "execution_count": 45,
     "metadata": {},
     "output_type": "execute_result"
    }
   ],
   "source": [
    "siembras"
   ]
  },
  {
   "cell_type": "code",
   "execution_count": null,
   "id": "c690c157-9193-4925-a0f5-ebf9a3386fd8",
   "metadata": {},
   "outputs": [],
   "source": []
  },
  {
   "cell_type": "code",
   "execution_count": null,
   "id": "e52e1934-fab7-4d76-a589-c5604d12ad12",
   "metadata": {},
   "outputs": [],
   "source": []
  },
  {
   "cell_type": "code",
   "execution_count": 47,
   "id": "7601c473-f04e-42ca-a763-ba142a4dff4d",
   "metadata": {},
   "outputs": [],
   "source": [
    "cos_shp = gpd.read_file(path_cos_shp)"
   ]
  },
  {
   "cell_type": "code",
   "execution_count": 51,
   "id": "5af1df35-ac6b-410a-845a-387fea7cd741",
   "metadata": {},
   "outputs": [],
   "source": [
    "cosechado = cos_shp[cos_shp['estado'] == 'cosechado']"
   ]
  },
  {
   "cell_type": "code",
   "execution_count": 53,
   "id": "a319a390-c06f-49c4-93c4-310d8bc612d4",
   "metadata": {},
   "outputs": [
    {
     "data": {
      "text/plain": [
       "45838.96"
      ]
     },
     "execution_count": 53,
     "metadata": {},
     "output_type": "execute_result"
    }
   ],
   "source": [
    "cosechado['area'].sum()"
   ]
  },
  {
   "cell_type": "code",
   "execution_count": 55,
   "id": "0b32408e-0a98-4a1d-bcb7-b7e7c31893b8",
   "metadata": {},
   "outputs": [
    {
     "data": {
      "text/plain": [
       "Index(['id', 'unidad_01', 'unidad_02', 'unidad_03', 'unidad_04', 'unidad_05',\n",
       "       'variedad', 'fs', 'soca', 'cultivo', 'zona', 'area', 'semana', 'fc',\n",
       "       'fsi', 'estado', 'fsico', 'tipoc', 'geometry'],\n",
       "      dtype='object')"
      ]
     },
     "execution_count": 55,
     "metadata": {},
     "output_type": "execute_result"
    }
   ],
   "source": [
    "cosechado.columns"
   ]
  },
  {
   "cell_type": "code",
   "execution_count": 57,
   "id": "63985c40-108c-4a55-9111-59cb32a6f30d",
   "metadata": {},
   "outputs": [],
   "source": [
    "cosechado = cosechado[['unidad_01', 'unidad_02', 'unidad_03', 'unidad_04', 'unidad_05', 'fc', 'area']]"
   ]
  },
  {
   "cell_type": "code",
   "execution_count": 60,
   "id": "e53dab5c-9817-4200-a076-5189cbbd9f21",
   "metadata": {},
   "outputs": [],
   "source": [
    "cosechado.rename(columns={'fc':'fecha'}, inplace=True)"
   ]
  },
  {
   "cell_type": "code",
   "execution_count": 64,
   "id": "cbae387c-2bc6-446f-8441-a3e3f230e99b",
   "metadata": {},
   "outputs": [
    {
     "name": "stderr",
     "output_type": "stream",
     "text": [
      "C:\\Users\\Usuario\\anaconda3\\envs\\utea_reportes\\lib\\site-packages\\ipykernel_launcher.py:1: SettingWithCopyWarning: \n",
      "A value is trying to be set on a copy of a slice from a DataFrame.\n",
      "Try using .loc[row_indexer,col_indexer] = value instead\n",
      "\n",
      "See the caveats in the documentation: https://pandas.pydata.org/pandas-docs/stable/user_guide/indexing.html#returning-a-view-versus-a-copy\n",
      "  \"\"\"Entry point for launching an IPython kernel.\n"
     ]
    }
   ],
   "source": [
    "cosechado['tipo'] = 'soca'"
   ]
  },
  {
   "cell_type": "code",
   "execution_count": 65,
   "id": "c97efd5d-67f2-494e-8533-02c8aadac68a",
   "metadata": {},
   "outputs": [
    {
     "data": {
      "text/html": [
       "<div>\n",
       "<style scoped>\n",
       "    .dataframe tbody tr th:only-of-type {\n",
       "        vertical-align: middle;\n",
       "    }\n",
       "\n",
       "    .dataframe tbody tr th {\n",
       "        vertical-align: top;\n",
       "    }\n",
       "\n",
       "    .dataframe thead th {\n",
       "        text-align: right;\n",
       "    }\n",
       "</style>\n",
       "<table border=\"1\" class=\"dataframe\">\n",
       "  <thead>\n",
       "    <tr style=\"text-align: right;\">\n",
       "      <th></th>\n",
       "      <th>unidad_01</th>\n",
       "      <th>unidad_02</th>\n",
       "      <th>unidad_03</th>\n",
       "      <th>unidad_04</th>\n",
       "      <th>unidad_05</th>\n",
       "      <th>fecha</th>\n",
       "      <th>area</th>\n",
       "      <th>tipo</th>\n",
       "    </tr>\n",
       "  </thead>\n",
       "  <tbody>\n",
       "    <tr>\n",
       "      <th>1</th>\n",
       "      <td>560</td>\n",
       "      <td>LA_TUJA_IAG_SA</td>\n",
       "      <td>15284</td>\n",
       "      <td>ROJAS_CORDOVA_ROGELIO_FELIPE</td>\n",
       "      <td>L2.2</td>\n",
       "      <td>2023-10-22</td>\n",
       "      <td>2.30</td>\n",
       "      <td>soca</td>\n",
       "    </tr>\n",
       "    <tr>\n",
       "      <th>3</th>\n",
       "      <td>560</td>\n",
       "      <td>LA_TUJA_IAG_SA</td>\n",
       "      <td>15284</td>\n",
       "      <td>ROJAS_CORDOVA_ROGELIO_FELIPE</td>\n",
       "      <td>L7.1</td>\n",
       "      <td>2023-10-09</td>\n",
       "      <td>8.59</td>\n",
       "      <td>soca</td>\n",
       "    </tr>\n",
       "    <tr>\n",
       "      <th>4</th>\n",
       "      <td>560</td>\n",
       "      <td>LA_TUJA_IAG_SA</td>\n",
       "      <td>15284</td>\n",
       "      <td>ROJAS_CORDOVA_ROGELIO_FELIPE</td>\n",
       "      <td>L7.2</td>\n",
       "      <td>2023-10-19</td>\n",
       "      <td>10.91</td>\n",
       "      <td>soca</td>\n",
       "    </tr>\n",
       "    <tr>\n",
       "      <th>5</th>\n",
       "      <td>560</td>\n",
       "      <td>LA_TUJA_IAG_SA</td>\n",
       "      <td>15284</td>\n",
       "      <td>ROJAS_CORDOVA_ROGELIO_FELIPE</td>\n",
       "      <td>L8.1</td>\n",
       "      <td>2023-10-22</td>\n",
       "      <td>7.37</td>\n",
       "      <td>soca</td>\n",
       "    </tr>\n",
       "    <tr>\n",
       "      <th>6</th>\n",
       "      <td>560</td>\n",
       "      <td>LA_TUJA_IAG_SA</td>\n",
       "      <td>12254</td>\n",
       "      <td>RIBERA_ARNEZ_ROSSNOVA</td>\n",
       "      <td>L9.2</td>\n",
       "      <td>2023-09-29</td>\n",
       "      <td>3.86</td>\n",
       "      <td>soca</td>\n",
       "    </tr>\n",
       "    <tr>\n",
       "      <th>...</th>\n",
       "      <td>...</td>\n",
       "      <td>...</td>\n",
       "      <td>...</td>\n",
       "      <td>...</td>\n",
       "      <td>...</td>\n",
       "      <td>...</td>\n",
       "      <td>...</td>\n",
       "      <td>...</td>\n",
       "    </tr>\n",
       "    <tr>\n",
       "      <th>16102</th>\n",
       "      <td>493</td>\n",
       "      <td>NELVI_TORRICO_QUIMAYA_I</td>\n",
       "      <td>13709</td>\n",
       "      <td>TORRICO_QUIMAYA_NELVI</td>\n",
       "      <td>L1</td>\n",
       "      <td>2023-10-24</td>\n",
       "      <td>4.18</td>\n",
       "      <td>soca</td>\n",
       "    </tr>\n",
       "    <tr>\n",
       "      <th>16104</th>\n",
       "      <td>1891</td>\n",
       "      <td>CAÑAL--CORDOVA_ALCIDES</td>\n",
       "      <td>2446</td>\n",
       "      <td>CORDOVA_SEJAS_ALCIDES</td>\n",
       "      <td>L1.3</td>\n",
       "      <td>2023-10-24</td>\n",
       "      <td>5.75</td>\n",
       "      <td>soca</td>\n",
       "    </tr>\n",
       "    <tr>\n",
       "      <th>16105</th>\n",
       "      <td>1891</td>\n",
       "      <td>CAÑAL--CORDOVA_ALCIDES</td>\n",
       "      <td>2446</td>\n",
       "      <td>CORDOVA_SEJAS_ALCIDES</td>\n",
       "      <td>L1.4</td>\n",
       "      <td>2023-10-24</td>\n",
       "      <td>12.19</td>\n",
       "      <td>soca</td>\n",
       "    </tr>\n",
       "    <tr>\n",
       "      <th>16106</th>\n",
       "      <td>242</td>\n",
       "      <td>SAN_NICOLAS--ALBARRACIN</td>\n",
       "      <td>692</td>\n",
       "      <td>AMURRIO_TAPIA_JAIME</td>\n",
       "      <td>L8.2</td>\n",
       "      <td>2023-09-29</td>\n",
       "      <td>10.45</td>\n",
       "      <td>soca</td>\n",
       "    </tr>\n",
       "    <tr>\n",
       "      <th>16107</th>\n",
       "      <td>242</td>\n",
       "      <td>SAN_NICOLAS--ALBARRACIN</td>\n",
       "      <td>692</td>\n",
       "      <td>AMURRIO_TAPIA_JAIME</td>\n",
       "      <td>L10</td>\n",
       "      <td>2023-09-29</td>\n",
       "      <td>12.81</td>\n",
       "      <td>soca</td>\n",
       "    </tr>\n",
       "  </tbody>\n",
       "</table>\n",
       "<p>14173 rows × 8 columns</p>\n",
       "</div>"
      ],
      "text/plain": [
       "       unidad_01                unidad_02  unidad_03  \\\n",
       "1            560           LA_TUJA_IAG_SA      15284   \n",
       "3            560           LA_TUJA_IAG_SA      15284   \n",
       "4            560           LA_TUJA_IAG_SA      15284   \n",
       "5            560           LA_TUJA_IAG_SA      15284   \n",
       "6            560           LA_TUJA_IAG_SA      12254   \n",
       "...          ...                      ...        ...   \n",
       "16102        493  NELVI_TORRICO_QUIMAYA_I      13709   \n",
       "16104       1891   CAÑAL--CORDOVA_ALCIDES       2446   \n",
       "16105       1891   CAÑAL--CORDOVA_ALCIDES       2446   \n",
       "16106        242  SAN_NICOLAS--ALBARRACIN        692   \n",
       "16107        242  SAN_NICOLAS--ALBARRACIN        692   \n",
       "\n",
       "                          unidad_04 unidad_05       fecha   area  tipo  \n",
       "1      ROJAS_CORDOVA_ROGELIO_FELIPE      L2.2  2023-10-22   2.30  soca  \n",
       "3      ROJAS_CORDOVA_ROGELIO_FELIPE      L7.1  2023-10-09   8.59  soca  \n",
       "4      ROJAS_CORDOVA_ROGELIO_FELIPE      L7.2  2023-10-19  10.91  soca  \n",
       "5      ROJAS_CORDOVA_ROGELIO_FELIPE      L8.1  2023-10-22   7.37  soca  \n",
       "6             RIBERA_ARNEZ_ROSSNOVA      L9.2  2023-09-29   3.86  soca  \n",
       "...                             ...       ...         ...    ...   ...  \n",
       "16102         TORRICO_QUIMAYA_NELVI        L1  2023-10-24   4.18  soca  \n",
       "16104         CORDOVA_SEJAS_ALCIDES      L1.3  2023-10-24   5.75  soca  \n",
       "16105         CORDOVA_SEJAS_ALCIDES      L1.4  2023-10-24  12.19  soca  \n",
       "16106           AMURRIO_TAPIA_JAIME      L8.2  2023-09-29  10.45  soca  \n",
       "16107           AMURRIO_TAPIA_JAIME       L10  2023-09-29  12.81  soca  \n",
       "\n",
       "[14173 rows x 8 columns]"
      ]
     },
     "execution_count": 65,
     "metadata": {},
     "output_type": "execute_result"
    }
   ],
   "source": [
    "cosechado"
   ]
  },
  {
   "cell_type": "code",
   "execution_count": 67,
   "id": "d5ec13a5-47d3-456b-be2e-ce8ca9226142",
   "metadata": {},
   "outputs": [
    {
     "name": "stderr",
     "output_type": "stream",
     "text": [
      "C:\\Users\\Usuario\\anaconda3\\envs\\utea_reportes\\lib\\site-packages\\ipykernel_launcher.py:1: FutureWarning: In a future version of pandas all arguments of concat except for the argument 'objs' will be keyword-only\n",
      "  \"\"\"Entry point for launching an IPython kernel.\n"
     ]
    },
    {
     "ename": "TypeError",
     "evalue": "first argument must be an iterable of pandas objects, you passed an object of type \"DataFrame\"",
     "output_type": "error",
     "traceback": [
      "\u001b[1;31m---------------------------------------------------------------------------\u001b[0m",
      "\u001b[1;31mTypeError\u001b[0m                                 Traceback (most recent call last)",
      "\u001b[1;32m~\\AppData\\Local\\Temp\\ipykernel_10692\\1231032291.py\u001b[0m in \u001b[0;36m<module>\u001b[1;34m\u001b[0m\n\u001b[1;32m----> 1\u001b[1;33m \u001b[0mdf_merge\u001b[0m \u001b[1;33m=\u001b[0m \u001b[0mpd\u001b[0m\u001b[1;33m.\u001b[0m\u001b[0mconcat\u001b[0m\u001b[1;33m(\u001b[0m\u001b[0msiembras\u001b[0m\u001b[1;33m,\u001b[0m \u001b[0mcosechado\u001b[0m\u001b[1;33m)\u001b[0m\u001b[1;33m\u001b[0m\u001b[1;33m\u001b[0m\u001b[0m\n\u001b[0m",
      "\u001b[1;32m~\\anaconda3\\envs\\utea_reportes\\lib\\site-packages\\pandas\\util\\_decorators.py\u001b[0m in \u001b[0;36mwrapper\u001b[1;34m(*args, **kwargs)\u001b[0m\n\u001b[0;32m    309\u001b[0m                     \u001b[0mstacklevel\u001b[0m\u001b[1;33m=\u001b[0m\u001b[0mstacklevel\u001b[0m\u001b[1;33m,\u001b[0m\u001b[1;33m\u001b[0m\u001b[1;33m\u001b[0m\u001b[0m\n\u001b[0;32m    310\u001b[0m                 )\n\u001b[1;32m--> 311\u001b[1;33m             \u001b[1;32mreturn\u001b[0m \u001b[0mfunc\u001b[0m\u001b[1;33m(\u001b[0m\u001b[1;33m*\u001b[0m\u001b[0margs\u001b[0m\u001b[1;33m,\u001b[0m \u001b[1;33m**\u001b[0m\u001b[0mkwargs\u001b[0m\u001b[1;33m)\u001b[0m\u001b[1;33m\u001b[0m\u001b[1;33m\u001b[0m\u001b[0m\n\u001b[0m\u001b[0;32m    312\u001b[0m \u001b[1;33m\u001b[0m\u001b[0m\n\u001b[0;32m    313\u001b[0m         \u001b[1;32mreturn\u001b[0m \u001b[0mwrapper\u001b[0m\u001b[1;33m\u001b[0m\u001b[1;33m\u001b[0m\u001b[0m\n",
      "\u001b[1;32m~\\anaconda3\\envs\\utea_reportes\\lib\\site-packages\\pandas\\core\\reshape\\concat.py\u001b[0m in \u001b[0;36mconcat\u001b[1;34m(objs, axis, join, ignore_index, keys, levels, names, verify_integrity, sort, copy)\u001b[0m\n\u001b[0;32m    302\u001b[0m         \u001b[0mverify_integrity\u001b[0m\u001b[1;33m=\u001b[0m\u001b[0mverify_integrity\u001b[0m\u001b[1;33m,\u001b[0m\u001b[1;33m\u001b[0m\u001b[1;33m\u001b[0m\u001b[0m\n\u001b[0;32m    303\u001b[0m         \u001b[0mcopy\u001b[0m\u001b[1;33m=\u001b[0m\u001b[0mcopy\u001b[0m\u001b[1;33m,\u001b[0m\u001b[1;33m\u001b[0m\u001b[1;33m\u001b[0m\u001b[0m\n\u001b[1;32m--> 304\u001b[1;33m         \u001b[0msort\u001b[0m\u001b[1;33m=\u001b[0m\u001b[0msort\u001b[0m\u001b[1;33m,\u001b[0m\u001b[1;33m\u001b[0m\u001b[1;33m\u001b[0m\u001b[0m\n\u001b[0m\u001b[0;32m    305\u001b[0m     )\n\u001b[0;32m    306\u001b[0m \u001b[1;33m\u001b[0m\u001b[0m\n",
      "\u001b[1;32m~\\anaconda3\\envs\\utea_reportes\\lib\\site-packages\\pandas\\core\\reshape\\concat.py\u001b[0m in \u001b[0;36m__init__\u001b[1;34m(self, objs, axis, join, keys, levels, names, ignore_index, verify_integrity, copy, sort)\u001b[0m\n\u001b[0;32m    328\u001b[0m         \u001b[1;32mif\u001b[0m \u001b[0misinstance\u001b[0m\u001b[1;33m(\u001b[0m\u001b[0mobjs\u001b[0m\u001b[1;33m,\u001b[0m \u001b[1;33m(\u001b[0m\u001b[0mABCSeries\u001b[0m\u001b[1;33m,\u001b[0m \u001b[0mABCDataFrame\u001b[0m\u001b[1;33m,\u001b[0m \u001b[0mstr\u001b[0m\u001b[1;33m)\u001b[0m\u001b[1;33m)\u001b[0m\u001b[1;33m:\u001b[0m\u001b[1;33m\u001b[0m\u001b[1;33m\u001b[0m\u001b[0m\n\u001b[0;32m    329\u001b[0m             raise TypeError(\n\u001b[1;32m--> 330\u001b[1;33m                 \u001b[1;34m\"first argument must be an iterable of pandas \"\u001b[0m\u001b[1;33m\u001b[0m\u001b[1;33m\u001b[0m\u001b[0m\n\u001b[0m\u001b[0;32m    331\u001b[0m                 \u001b[1;34mf'objects, you passed an object of type \"{type(objs).__name__}\"'\u001b[0m\u001b[1;33m\u001b[0m\u001b[1;33m\u001b[0m\u001b[0m\n\u001b[0;32m    332\u001b[0m             )\n",
      "\u001b[1;31mTypeError\u001b[0m: first argument must be an iterable of pandas objects, you passed an object of type \"DataFrame\""
     ]
    }
   ],
   "source": [
    "df_merge = pd.concat(siembras, cosechado)"
   ]
  },
  {
   "cell_type": "code",
   "execution_count": null,
   "id": "393131e9-fb2a-46f3-816f-12fa6a96517a",
   "metadata": {},
   "outputs": [],
   "source": []
  },
  {
   "cell_type": "code",
   "execution_count": null,
   "id": "9b2f0f78-d3a2-4a20-8157-58e940b5acbe",
   "metadata": {},
   "outputs": [],
   "source": []
  }
 ],
 "metadata": {
  "kernelspec": {
   "display_name": "Python 3 (ipykernel)",
   "language": "python",
   "name": "python3"
  },
  "language_info": {
   "codemirror_mode": {
    "name": "ipython",
    "version": 3
   },
   "file_extension": ".py",
   "mimetype": "text/x-python",
   "name": "python",
   "nbconvert_exporter": "python",
   "pygments_lexer": "ipython3",
   "version": "3.7.16"
  }
 },
 "nbformat": 4,
 "nbformat_minor": 5
}
