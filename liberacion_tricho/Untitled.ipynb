{
 "cells": [
  {
   "cell_type": "code",
   "execution_count": 5,
   "id": "b4b7667d-aa83-47b6-9554-40aa8144ab6b",
   "metadata": {},
   "outputs": [],
   "source": [
    "import geopandas as gpd\n",
    "from shapely.geometry import LineString, Point\n",
    "import random\n",
    "import math\n",
    "import pandas as pd"
   ]
  },
  {
   "cell_type": "code",
   "execution_count": null,
   "id": "dee3ad25-e0e6-4b25-a411-4cb6d2c11536",
   "metadata": {},
   "outputs": [],
   "source": []
  },
  {
   "cell_type": "code",
   "execution_count": null,
   "id": "2f190fe3-85be-4354-bc1f-96fcc7c48f1a",
   "metadata": {},
   "outputs": [],
   "source": []
  },
  {
   "cell_type": "code",
   "execution_count": null,
   "id": "54d6aeaf-1d60-4f1f-83cc-5de8faab5531",
   "metadata": {},
   "outputs": [],
   "source": []
  },
  {
   "cell_type": "code",
   "execution_count": 6,
   "id": "7e25d4f2-a91f-457c-b3ce-4b1a94f5c12e",
   "metadata": {},
   "outputs": [],
   "source": [
    "def insertar_puntos_intermedios(linea, distancia_min=8.7, distancia_nueva_min=5, distancia_nueva_max=9):\n",
    "    puntos_nuevos = []\n",
    "    puntos_originales = list(linea.coords)\n",
    "    \n",
    "    for i in range(len(puntos_originales) - 1):\n",
    "        punto_actual = puntos_originales[i]\n",
    "        punto_siguiente = puntos_originales[i + 1]\n",
    "        puntos_nuevos.append(punto_actual)\n",
    "        \n",
    "        distancia = Point(punto_actual).distance(Point(punto_siguiente))\n",
    "        \n",
    "        while distancia > distancia_min:\n",
    "            dx = punto_siguiente[0] - punto_actual[0]\n",
    "            dy = punto_siguiente[1] - punto_actual[1]\n",
    "            angulo = math.atan2(dy, dx)\n",
    "            \n",
    "            distancia_aleatoria = random.uniform(distancia_nueva_min, distancia_nueva_max)\n",
    "            nuevo_x = punto_actual[0] + math.cos(angulo) * distancia_aleatoria\n",
    "            nuevo_y = punto_actual[1] + math.sin(angulo) * distancia_aleatoria\n",
    "            \n",
    "            punto_actual = (nuevo_x, nuevo_y)\n",
    "            puntos_nuevos.append(punto_actual)\n",
    "            \n",
    "            distancia = Point(punto_actual).distance(Point(punto_siguiente))\n",
    "        \n",
    "    puntos_nuevos.append(puntos_originales[-1])\n",
    "    return LineString(puntos_nuevos)\n",
    "\n",
    "# Cargar el Shapefile\n",
    "gdf = gpd.read_file('G:\\Ingenio Azucarero Guabira S.A\\CITTCA - SEMANAL - Documents\\SHP_SEGUIMIENTO\\FINAL\\BLOQUE.shp')\n",
    "\n",
    "# Lista para almacenar los GeoDataFrames de cada línea modificada\n",
    "gdfs_modificados = []\n",
    "\n",
    "# Iterar sobre cada registro en el GeoDataFrame\n",
    "for index, row in gdf.iterrows():\n",
    "    if row.geometry:  # Comprobar si la geometría es None\n",
    "        linea_modificada = insertar_puntos_intermedios(row.geometry)\n",
    "        # Crear un GeoDataFrame para la línea modificada y añadir el campo IDD\n",
    "        gdf_modificado = gpd.GeoDataFrame({'geometry': [linea_modificada], 'IDD': [row['IDD']]}, crs=gdf.crs)\n",
    "        gdfs_modificados.append(gdf_modificado)\n",
    "\n",
    "# Concatenar todos los GeoDataFrames en uno solo\n",
    "gdf_final = pd.concat(gdfs_modificados, ignore_index=True)\n",
    "\n",
    "# Exportar a Shapefile\n",
    "gdf_final.to_file(\"lineas_modificadas.shp\")"
   ]
  },
  {
   "cell_type": "code",
   "execution_count": null,
   "id": "50a0d452-3593-40ad-9227-a38cd0e1d84e",
   "metadata": {},
   "outputs": [],
   "source": []
  },
  {
   "cell_type": "code",
   "execution_count": null,
   "id": "92dbfefd-c6e9-47d5-862a-6ba77f57a7e4",
   "metadata": {},
   "outputs": [],
   "source": []
  },
  {
   "cell_type": "code",
   "execution_count": null,
   "id": "d905e50a-ebe4-45f3-9ba7-62b082c9c0e0",
   "metadata": {},
   "outputs": [],
   "source": []
  },
  {
   "cell_type": "code",
   "execution_count": null,
   "id": "148d3696-b7a5-4638-906e-940a481e00ae",
   "metadata": {},
   "outputs": [],
   "source": []
  },
  {
   "cell_type": "code",
   "execution_count": null,
   "id": "994a6654-17e5-42a5-8dd4-815f51ccbc6c",
   "metadata": {},
   "outputs": [],
   "source": []
  },
  {
   "cell_type": "code",
   "execution_count": 26,
   "id": "6079ae38-df9c-40c5-a537-e6b64e3a6376",
   "metadata": {},
   "outputs": [
    {
     "name": "stdout",
     "output_type": "stream",
     "text": [
      "Shapefiles creados por cada IDD.\n"
     ]
    }
   ],
   "source": [
    "import geopandas as gpd\n",
    "import os\n",
    "\n",
    "# Asumiendo que 'gdf_final' es tu GeoDataFrame resultante\n",
    "gdf_final = gpd.read_file(\"lineas_modificadas.shp\")\n",
    "\n",
    "# Obtener una lista de IDD únicos\n",
    "idd_unicos = gdf_final['IDD'].unique()\n",
    "\n",
    "# Crear una carpeta principal si no existe\n",
    "carpeta_principal = \"Shapefiles_por_IDD\"\n",
    "os.makedirs(carpeta_principal, exist_ok=True)\n",
    "\n",
    "# Iterar sobre cada IDD único\n",
    "for idd in idd_unicos:\n",
    "    # Seleccionar registros que coincidan con el IDD actual\n",
    "    registros_seleccionados = gdf_final[gdf_final['IDD'] == idd]\n",
    "    \n",
    "    # Crear una subcarpeta para este IDD si no existe\n",
    "    subcarpeta = os.path.join(carpeta_principal, str(idd))\n",
    "    os.makedirs(subcarpeta, exist_ok=True)\n",
    "    \n",
    "    # Definir el nombre del archivo Shapefile basado en el IDD\n",
    "    archivo_shp = os.path.join(subcarpeta, f\"{idd}.shp\")\n",
    "    \n",
    "    # Exportar los registros seleccionados a un Shapefile\n",
    "    registros_seleccionados.to_file(archivo_shp)\n",
    "\n",
    "print(\"Shapefiles creados por cada IDD.\")\n"
   ]
  },
  {
   "cell_type": "code",
   "execution_count": 3,
   "id": "9fc6e799-53fd-4334-b604-73281b30b25c",
   "metadata": {},
   "outputs": [
    {
     "name": "stdout",
     "output_type": "stream",
     "text": [
      "Archivos KML creados por cada IDD.\n"
     ]
    }
   ],
   "source": [
    "import geopandas as gpd\n",
    "import os\n",
    "import simplekml\n",
    "\n",
    "def exportar_a_kml(gdf, idd, ruta_carpeta):\n",
    "    kml = simplekml.Kml()\n",
    "    for _, fila in gdf.iterrows():\n",
    "        puntos = fila['geometry'].coords[:]\n",
    "        linestring = kml.newlinestring(name=str(idd), coords=puntos)\n",
    "        # Aquí puedes ajustar más propiedades del linestring si es necesario\n",
    "    kml.save(os.path.join(ruta_carpeta, f\"{idd}.kml\"))\n",
    "\n",
    "# Asumiendo que 'gdf_final' es tu GeoDataFrame resultante\n",
    "gdf_final = gpd.read_file(\"lineas_modificadas.shp\")\n",
    "\n",
    "# Obtener una lista de IDD únicos\n",
    "idd_unicos = gdf_final['IDD'].unique()\n",
    "\n",
    "# Crear una carpeta principal si no existe\n",
    "carpeta_principal = \"KML_por_IDD\"\n",
    "os.makedirs(carpeta_principal, exist_ok=True)\n",
    "\n",
    "# Iterar sobre cada IDD único\n",
    "for idd in idd_unicos:\n",
    "    # Seleccionar registros que coincidan con el IDD actual\n",
    "    registros_seleccionados = gdf_final[gdf_final['IDD'] == idd]\n",
    "    \n",
    "    # Crear una subcarpeta para este IDD si no existe\n",
    "    subcarpeta = os.path.join(carpeta_principal, str(idd))\n",
    "    os.makedirs(subcarpeta, exist_ok=True)\n",
    "    \n",
    "    # Exportar los registros seleccionados a un archivo KML\n",
    "    exportar_a_kml(registros_seleccionados, idd, subcarpeta)\n",
    "\n",
    "print(\"Archivos KML creados por cada IDD.\")\n"
   ]
  },
  {
   "cell_type": "code",
   "execution_count": null,
   "id": "d19adf1a-c628-43d8-9e52-00269f002985",
   "metadata": {},
   "outputs": [],
   "source": []
  },
  {
   "cell_type": "code",
   "execution_count": null,
   "id": "70e3a3f3-143f-489a-9b14-31224de3d877",
   "metadata": {},
   "outputs": [],
   "source": []
  },
  {
   "cell_type": "code",
   "execution_count": null,
   "id": "12195250-e8e6-4fd1-97f2-03a350cf1eaf",
   "metadata": {},
   "outputs": [],
   "source": []
  },
  {
   "cell_type": "code",
   "execution_count": 7,
   "id": "4d68d08d-b410-4db7-bdeb-4194344f108b",
   "metadata": {},
   "outputs": [
    {
     "name": "stdout",
     "output_type": "stream",
     "text": [
      "Archivos KML creados por cada IDD.\n"
     ]
    }
   ],
   "source": [
    "import geopandas as gpd\n",
    "import os\n",
    "import simplekml\n",
    "\n",
    "def exportar_a_kml(gdf, idd, ruta_carpeta):\n",
    "    kml = simplekml.Kml()\n",
    "    for _, fila in gdf.iterrows():\n",
    "        # Asegurarse de que los puntos están en formato (longitud, latitud) para KML\n",
    "        puntos = [(x, y) for x, y in zip(fila['geometry'].xy[0], fila['geometry'].xy[1])]\n",
    "        linestring = kml.newlinestring(name=str(idd))\n",
    "        linestring.coords = puntos\n",
    "        # Opciones adicionales de formato pueden ir aquí\n",
    "    # Guardar el archivo KML\n",
    "    kml.save(os.path.join(ruta_carpeta, f\"{idd}.kml\"))\n",
    "\n",
    "# Cargar el GeoDataFrame y asegurarse de que está en EPSG:4326 para KML\n",
    "gdf_final = gpd.read_file(\"lineas_modificadas.shp\")\n",
    "\n",
    "# Transformar el GeoDataFrame a EPSG:4326 si no está ya en ese sistema de coordenadas\n",
    "if gdf_final.crs != \"EPSG:4326\":\n",
    "    gdf_final = gdf_final.to_crs(\"EPSG:4326\")\n",
    "\n",
    "# Obtener IDD únicos\n",
    "idd_unicos = gdf_final['IDD'].unique()\n",
    "\n",
    "# Crear directorio principal si no existe\n",
    "carpeta_principal = \"KML_por_IDD\"\n",
    "os.makedirs(carpeta_principal, exist_ok=True)\n",
    "\n",
    "for idd in idd_unicos:\n",
    "    # Seleccionar registros por IDD\n",
    "    registros_seleccionados = gdf_final[gdf_final['IDD'] == idd]\n",
    "    \n",
    "    subcarpeta = os.path.join(carpeta_principal, str(idd))\n",
    "    os.makedirs(subcarpeta, exist_ok=True)\n",
    "    \n",
    "    # Exportar a KML\n",
    "    exportar_a_kml(registros_seleccionados, idd, subcarpeta)\n",
    "\n",
    "print(\"Archivos KML creados por cada IDD.\")\n"
   ]
  },
  {
   "cell_type": "code",
   "execution_count": null,
   "id": "5a8e94fe-b0f8-409b-b97c-fc10272f6813",
   "metadata": {},
   "outputs": [],
   "source": []
  },
  {
   "cell_type": "code",
   "execution_count": null,
   "id": "3859918e-69ba-47e2-8bce-c3adc61ea0be",
   "metadata": {},
   "outputs": [],
   "source": []
  }
 ],
 "metadata": {
  "kernelspec": {
   "display_name": "Python 3 (ipykernel)",
   "language": "python",
   "name": "python3"
  },
  "language_info": {
   "codemirror_mode": {
    "name": "ipython",
    "version": 3
   },
   "file_extension": ".py",
   "mimetype": "text/x-python",
   "name": "python",
   "nbconvert_exporter": "python",
   "pygments_lexer": "ipython3",
   "version": "3.10.13"
  }
 },
 "nbformat": 4,
 "nbformat_minor": 5
}
