{
 "cells": [
  {
   "cell_type": "code",
   "execution_count": 1,
   "id": "55ba6a11-d62e-4973-af23-9dd1d9b4759c",
   "metadata": {},
   "outputs": [],
   "source": [
    "import sys\n",
    "sys.path.append('../_amigocloud')"
   ]
  },
  {
   "cell_type": "code",
   "execution_count": 3,
   "id": "650c1ee1-61d3-4fcc-9c5e-e1601c364878",
   "metadata": {},
   "outputs": [],
   "source": [
    "from amigocloud import AmigoCloud\n",
    "import pandas as pd\n",
    "from shapely import wkb\n",
    "\n",
    "import geopandas as gpd\n",
    "from shapely.geometry import Point, Polygon, MultiPolygon, MultiPoint\n",
    "#from shapely.geometry import Point, MultiPoint\n",
    "import os\n",
    "#from fastkml import kml"
   ]
  },
  {
   "cell_type": "code",
   "execution_count": 5,
   "id": "7225eede-a0ca-4d71-a345-a26d4de348e4",
   "metadata": {},
   "outputs": [],
   "source": [
    "# ruta de carpera donde estan las llaves\n",
    "ruta = open('../ruta.txt')\n",
    "ruta = ruta.readlines()[0]"
   ]
  },
  {
   "cell_type": "code",
   "execution_count": 6,
   "id": "9bf0d80e-93cc-4482-a8da-b5c9ec53fb5a",
   "metadata": {},
   "outputs": [
    {
     "data": {
      "text/plain": [
       "<amigocloud.AmigoCloud at 0x1ea88c883a0>"
      ]
     },
     "execution_count": 6,
     "metadata": {},
     "output_type": "execute_result"
    }
   ],
   "source": [
    "# leer token\n",
    "acceso = open(ruta + '/_keys/api_amigocloud.key','r')\n",
    "api_token = acceso.readlines()[0]\n",
    "acceso.close()\n",
    "amigocloud = AmigoCloud(token=api_token)\n",
    "amigocloud"
   ]
  },
  {
   "cell_type": "code",
   "execution_count": 12,
   "id": "a4238993-9c1c-425b-bd11-92553e0a4163",
   "metadata": {},
   "outputs": [],
   "source": [
    "query = {'query': 'SELECT\\\n",
    "    g.id, p.fecha_registro, p.piloto_1, p.piloto_2, p.hora_inicio, p.hora_fin, p.labor, p.temperatura, p.viento, p.humedad, p.estado_de_operacion, p.dron, p.obs FROM dataset_342996 p JOIN dataset_345601 g ON ST_Intersects(p.ubicaciones, g.geometry) WHERE p.fecha_registro BETWEEN \\'2024-07-04 14:50:55\\' AND \\'2024-07-04 14:50:55\\''}\n",
    "select = amigocloud.get('https://app.amigocloud.com/api/v1/projects/33457/sql', query)\n",
    "data = select['data']"
   ]
  },
  {
   "cell_type": "code",
   "execution_count": 14,
   "id": "528c6db6-6a98-415d-ae99-37611db4b554",
   "metadata": {},
   "outputs": [],
   "source": [
    "df = pd.DataFrame(data)"
   ]
  },
  {
   "cell_type": "code",
   "execution_count": 15,
   "id": "e3c2b174-52fd-43f1-937e-d3536f1c7071",
   "metadata": {},
   "outputs": [
    {
     "data": {
      "text/html": [
       "<div>\n",
       "<style scoped>\n",
       "    .dataframe tbody tr th:only-of-type {\n",
       "        vertical-align: middle;\n",
       "    }\n",
       "\n",
       "    .dataframe tbody tr th {\n",
       "        vertical-align: top;\n",
       "    }\n",
       "\n",
       "    .dataframe thead th {\n",
       "        text-align: right;\n",
       "    }\n",
       "</style>\n",
       "<table border=\"1\" class=\"dataframe\">\n",
       "  <thead>\n",
       "    <tr style=\"text-align: right;\">\n",
       "      <th></th>\n",
       "      <th>id</th>\n",
       "      <th>fecha_registro</th>\n",
       "      <th>piloto_1</th>\n",
       "      <th>piloto_2</th>\n",
       "      <th>hora_inicio</th>\n",
       "      <th>hora_fin</th>\n",
       "      <th>labor</th>\n",
       "      <th>temperatura</th>\n",
       "      <th>viento</th>\n",
       "      <th>humedad</th>\n",
       "      <th>estado_de_operacion</th>\n",
       "      <th>dron</th>\n",
       "      <th>obs</th>\n",
       "    </tr>\n",
       "  </thead>\n",
       "  <tbody>\n",
       "    <tr>\n",
       "      <th>0</th>\n",
       "      <td>1</td>\n",
       "      <td>2024-07-04 14:50:55+00:00</td>\n",
       "      <td>EDUARDO REYES</td>\n",
       "      <td>CHRISTIAN CALIZAYA</td>\n",
       "      <td>2024-07-04 00:50:55+00:00</td>\n",
       "      <td>2024-07-04 09:00:55+00:00</td>\n",
       "      <td>LIBERACION</td>\n",
       "      <td>20</td>\n",
       "      <td>2</td>\n",
       "      <td>80</td>\n",
       "      <td>CONCLUIDO</td>\n",
       "      <td>DA 01</td>\n",
       "      <td>None</td>\n",
       "    </tr>\n",
       "    <tr>\n",
       "      <th>1</th>\n",
       "      <td>2</td>\n",
       "      <td>2024-07-04 14:50:55+00:00</td>\n",
       "      <td>EDUARDO REYES</td>\n",
       "      <td>CHRISTIAN CALIZAYA</td>\n",
       "      <td>2024-07-04 00:50:55+00:00</td>\n",
       "      <td>2024-07-04 09:00:55+00:00</td>\n",
       "      <td>LIBERACION</td>\n",
       "      <td>20</td>\n",
       "      <td>2</td>\n",
       "      <td>80</td>\n",
       "      <td>CONCLUIDO</td>\n",
       "      <td>DA 01</td>\n",
       "      <td>None</td>\n",
       "    </tr>\n",
       "    <tr>\n",
       "      <th>2</th>\n",
       "      <td>3</td>\n",
       "      <td>2024-07-04 14:50:55+00:00</td>\n",
       "      <td>EDUARDO REYES</td>\n",
       "      <td>CHRISTIAN CALIZAYA</td>\n",
       "      <td>2024-07-04 00:50:55+00:00</td>\n",
       "      <td>2024-07-04 09:00:55+00:00</td>\n",
       "      <td>LIBERACION</td>\n",
       "      <td>20</td>\n",
       "      <td>2</td>\n",
       "      <td>80</td>\n",
       "      <td>CONCLUIDO</td>\n",
       "      <td>DA 01</td>\n",
       "      <td>None</td>\n",
       "    </tr>\n",
       "    <tr>\n",
       "      <th>3</th>\n",
       "      <td>4</td>\n",
       "      <td>2024-07-04 14:50:55+00:00</td>\n",
       "      <td>EDUARDO REYES</td>\n",
       "      <td>CHRISTIAN CALIZAYA</td>\n",
       "      <td>2024-07-04 00:50:55+00:00</td>\n",
       "      <td>2024-07-04 09:00:55+00:00</td>\n",
       "      <td>LIBERACION</td>\n",
       "      <td>20</td>\n",
       "      <td>2</td>\n",
       "      <td>80</td>\n",
       "      <td>CONCLUIDO</td>\n",
       "      <td>DA 01</td>\n",
       "      <td>None</td>\n",
       "    </tr>\n",
       "    <tr>\n",
       "      <th>4</th>\n",
       "      <td>5</td>\n",
       "      <td>2024-07-04 14:50:55+00:00</td>\n",
       "      <td>EDUARDO REYES</td>\n",
       "      <td>CHRISTIAN CALIZAYA</td>\n",
       "      <td>2024-07-04 00:50:55+00:00</td>\n",
       "      <td>2024-07-04 09:00:55+00:00</td>\n",
       "      <td>LIBERACION</td>\n",
       "      <td>20</td>\n",
       "      <td>2</td>\n",
       "      <td>80</td>\n",
       "      <td>CONCLUIDO</td>\n",
       "      <td>DA 01</td>\n",
       "      <td>None</td>\n",
       "    </tr>\n",
       "    <tr>\n",
       "      <th>5</th>\n",
       "      <td>6</td>\n",
       "      <td>2024-07-04 14:50:55+00:00</td>\n",
       "      <td>EDUARDO REYES</td>\n",
       "      <td>CHRISTIAN CALIZAYA</td>\n",
       "      <td>2024-07-04 00:50:55+00:00</td>\n",
       "      <td>2024-07-04 09:00:55+00:00</td>\n",
       "      <td>LIBERACION</td>\n",
       "      <td>20</td>\n",
       "      <td>2</td>\n",
       "      <td>80</td>\n",
       "      <td>CONCLUIDO</td>\n",
       "      <td>DA 01</td>\n",
       "      <td>None</td>\n",
       "    </tr>\n",
       "  </tbody>\n",
       "</table>\n",
       "</div>"
      ],
      "text/plain": [
       "   id             fecha_registro       piloto_1            piloto_2  \\\n",
       "0   1  2024-07-04 14:50:55+00:00  EDUARDO REYES  CHRISTIAN CALIZAYA   \n",
       "1   2  2024-07-04 14:50:55+00:00  EDUARDO REYES  CHRISTIAN CALIZAYA   \n",
       "2   3  2024-07-04 14:50:55+00:00  EDUARDO REYES  CHRISTIAN CALIZAYA   \n",
       "3   4  2024-07-04 14:50:55+00:00  EDUARDO REYES  CHRISTIAN CALIZAYA   \n",
       "4   5  2024-07-04 14:50:55+00:00  EDUARDO REYES  CHRISTIAN CALIZAYA   \n",
       "5   6  2024-07-04 14:50:55+00:00  EDUARDO REYES  CHRISTIAN CALIZAYA   \n",
       "\n",
       "                 hora_inicio                   hora_fin       labor  \\\n",
       "0  2024-07-04 00:50:55+00:00  2024-07-04 09:00:55+00:00  LIBERACION   \n",
       "1  2024-07-04 00:50:55+00:00  2024-07-04 09:00:55+00:00  LIBERACION   \n",
       "2  2024-07-04 00:50:55+00:00  2024-07-04 09:00:55+00:00  LIBERACION   \n",
       "3  2024-07-04 00:50:55+00:00  2024-07-04 09:00:55+00:00  LIBERACION   \n",
       "4  2024-07-04 00:50:55+00:00  2024-07-04 09:00:55+00:00  LIBERACION   \n",
       "5  2024-07-04 00:50:55+00:00  2024-07-04 09:00:55+00:00  LIBERACION   \n",
       "\n",
       "   temperatura  viento  humedad estado_de_operacion   dron   obs  \n",
       "0           20       2       80           CONCLUIDO  DA 01  None  \n",
       "1           20       2       80           CONCLUIDO  DA 01  None  \n",
       "2           20       2       80           CONCLUIDO  DA 01  None  \n",
       "3           20       2       80           CONCLUIDO  DA 01  None  \n",
       "4           20       2       80           CONCLUIDO  DA 01  None  \n",
       "5           20       2       80           CONCLUIDO  DA 01  None  "
      ]
     },
     "execution_count": 15,
     "metadata": {},
     "output_type": "execute_result"
    }
   ],
   "source": [
    "df"
   ]
  },
  {
   "cell_type": "code",
   "execution_count": 17,
   "id": "8c21a467-16ab-4276-916c-898bf63dacb1",
   "metadata": {},
   "outputs": [
    {
     "data": {
      "text/plain": [
       "id                     0\n",
       "fecha_registro         0\n",
       "piloto_1               0\n",
       "piloto_2               0\n",
       "hora_inicio            0\n",
       "hora_fin               0\n",
       "labor                  0\n",
       "temperatura            0\n",
       "viento                 0\n",
       "humedad                0\n",
       "estado_de_operacion    0\n",
       "dron                   0\n",
       "obs                    6\n",
       "dtype: int64"
      ]
     },
     "execution_count": 17,
     "metadata": {},
     "output_type": "execute_result"
    }
   ],
   "source": [
    "nulos = df.isnull().sum()\n",
    "nulos"
   ]
  },
  {
   "cell_type": "code",
   "execution_count": null,
   "id": "716cf4c7-c920-4d8b-9853-5365651be295",
   "metadata": {},
   "outputs": [],
   "source": []
  },
  {
   "cell_type": "code",
   "execution_count": null,
   "id": "20d37a12-63ad-4a6f-88bf-92a9b054b6ac",
   "metadata": {},
   "outputs": [],
   "source": []
  }
 ],
 "metadata": {
  "kernelspec": {
   "display_name": "Python 3 (ipykernel)",
   "language": "python",
   "name": "python3"
  },
  "language_info": {
   "codemirror_mode": {
    "name": "ipython",
    "version": 3
   },
   "file_extension": ".py",
   "mimetype": "text/x-python",
   "name": "python",
   "nbconvert_exporter": "python",
   "pygments_lexer": "ipython3",
   "version": "3.10.13"
  }
 },
 "nbformat": 4,
 "nbformat_minor": 5
}
