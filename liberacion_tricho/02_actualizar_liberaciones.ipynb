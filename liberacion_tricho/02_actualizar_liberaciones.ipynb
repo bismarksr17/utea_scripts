{
 "cells": [
  {
   "cell_type": "code",
   "execution_count": 34,
   "id": "a32c607b-bbe2-4f8b-9436-d59bff8f6128",
   "metadata": {},
   "outputs": [],
   "source": [
    "path_xlsx_parte = r'C:\\Documents\\Ingenio Azucarero Guabira S.A\\UTEA - SEMANAL - EQUIPO AVIACION UTEA\\Trichogramma\\PARTE DIARIO TRICHOGRAMMA 2024_RES.xlsx'"
   ]
  },
  {
   "cell_type": "code",
   "execution_count": 1,
   "id": "55ba6a11-d62e-4973-af23-9dd1d9b4759c",
   "metadata": {},
   "outputs": [],
   "source": [
    "import sys\n",
    "sys.path.append('../_amigocloud')"
   ]
  },
  {
   "cell_type": "code",
   "execution_count": 2,
   "id": "650c1ee1-61d3-4fcc-9c5e-e1601c364878",
   "metadata": {},
   "outputs": [],
   "source": [
    "from amigocloud import AmigoCloud\n",
    "import pandas as pd\n",
    "from shapely import wkb\n",
    "\n",
    "import geopandas as gpd\n",
    "from shapely.geometry import Point, Polygon, MultiPolygon, MultiPoint\n",
    "#from shapely.geometry import Point, MultiPoint\n",
    "import os\n",
    "#from fastkml import kml"
   ]
  },
  {
   "cell_type": "code",
   "execution_count": 3,
   "id": "7225eede-a0ca-4d71-a345-a26d4de348e4",
   "metadata": {},
   "outputs": [],
   "source": [
    "# ruta de carpera donde estan las llaves\n",
    "ruta = open('../ruta.txt')\n",
    "ruta = ruta.readlines()[0]"
   ]
  },
  {
   "cell_type": "code",
   "execution_count": 4,
   "id": "9bf0d80e-93cc-4482-a8da-b5c9ec53fb5a",
   "metadata": {},
   "outputs": [
    {
     "data": {
      "text/plain": [
       "<amigocloud.AmigoCloud at 0x1c4e133ad70>"
      ]
     },
     "execution_count": 4,
     "metadata": {},
     "output_type": "execute_result"
    }
   ],
   "source": [
    "# leer token\n",
    "acceso = open(ruta + '/_keys/api_amigocloud.key','r')\n",
    "api_token = acceso.readlines()[0]\n",
    "acceso.close()\n",
    "amigocloud = AmigoCloud(token=api_token)\n",
    "amigocloud"
   ]
  },
  {
   "cell_type": "code",
   "execution_count": 102,
   "id": "a4238993-9c1c-425b-bd11-92553e0a4163",
   "metadata": {},
   "outputs": [],
   "source": [
    "query = {'query': 'SELECT\\\n",
    "    g.id, p.idd, p.fecha_registro, p.piloto_1, p.piloto_2, p.hora_inicio, p.hora_fin, p.labor, p.temperatura, p.viento, p.humedad, p.estado_de_operacion, p.dron, p.obs FROM dataset_342996 p JOIN dataset_345601 g ON ST_Intersects(p.ubicaciones, g.geometry) WHERE p.fecha_registro BETWEEN \\'2024-07-04 14:50:55\\' AND \\'2024-07-04 14:50:55\\''}\n",
    "select = amigocloud.get('https://app.amigocloud.com/api/v1/projects/33457/sql', query)\n",
    "data = select['data']"
   ]
  },
  {
   "cell_type": "code",
   "execution_count": 104,
   "id": "528c6db6-6a98-415d-ae99-37611db4b554",
   "metadata": {},
   "outputs": [],
   "source": [
    "df_lib = pd.DataFrame(data)"
   ]
  },
  {
   "cell_type": "code",
   "execution_count": 105,
   "id": "e3c2b174-52fd-43f1-937e-d3536f1c7071",
   "metadata": {},
   "outputs": [
    {
     "data": {
      "text/html": [
       "<div>\n",
       "<style scoped>\n",
       "    .dataframe tbody tr th:only-of-type {\n",
       "        vertical-align: middle;\n",
       "    }\n",
       "\n",
       "    .dataframe tbody tr th {\n",
       "        vertical-align: top;\n",
       "    }\n",
       "\n",
       "    .dataframe thead th {\n",
       "        text-align: right;\n",
       "    }\n",
       "</style>\n",
       "<table border=\"1\" class=\"dataframe\">\n",
       "  <thead>\n",
       "    <tr style=\"text-align: right;\">\n",
       "      <th></th>\n",
       "      <th>id</th>\n",
       "      <th>idd</th>\n",
       "      <th>fecha_registro</th>\n",
       "      <th>piloto_1</th>\n",
       "      <th>piloto_2</th>\n",
       "      <th>hora_inicio</th>\n",
       "      <th>hora_fin</th>\n",
       "      <th>labor</th>\n",
       "      <th>temperatura</th>\n",
       "      <th>viento</th>\n",
       "      <th>humedad</th>\n",
       "      <th>estado_de_operacion</th>\n",
       "      <th>dron</th>\n",
       "      <th>obs</th>\n",
       "    </tr>\n",
       "  </thead>\n",
       "  <tbody>\n",
       "    <tr>\n",
       "      <th>0</th>\n",
       "      <td>1</td>\n",
       "      <td>30</td>\n",
       "      <td>2024-07-04 14:50:55+00:00</td>\n",
       "      <td>EDUARDO REYES</td>\n",
       "      <td>CHRISTIAN CALIZAYA</td>\n",
       "      <td>2024-07-04 00:50:55+00:00</td>\n",
       "      <td>2024-07-04 09:00:55+00:00</td>\n",
       "      <td>LIBERACION</td>\n",
       "      <td>20</td>\n",
       "      <td>2</td>\n",
       "      <td>80</td>\n",
       "      <td>CONCLUIDO</td>\n",
       "      <td>DA 01</td>\n",
       "      <td>None</td>\n",
       "    </tr>\n",
       "    <tr>\n",
       "      <th>1</th>\n",
       "      <td>2</td>\n",
       "      <td>30</td>\n",
       "      <td>2024-07-04 14:50:55+00:00</td>\n",
       "      <td>EDUARDO REYES</td>\n",
       "      <td>CHRISTIAN CALIZAYA</td>\n",
       "      <td>2024-07-04 00:50:55+00:00</td>\n",
       "      <td>2024-07-04 09:00:55+00:00</td>\n",
       "      <td>LIBERACION</td>\n",
       "      <td>20</td>\n",
       "      <td>2</td>\n",
       "      <td>80</td>\n",
       "      <td>CONCLUIDO</td>\n",
       "      <td>DA 01</td>\n",
       "      <td>None</td>\n",
       "    </tr>\n",
       "    <tr>\n",
       "      <th>2</th>\n",
       "      <td>3</td>\n",
       "      <td>30</td>\n",
       "      <td>2024-07-04 14:50:55+00:00</td>\n",
       "      <td>EDUARDO REYES</td>\n",
       "      <td>CHRISTIAN CALIZAYA</td>\n",
       "      <td>2024-07-04 00:50:55+00:00</td>\n",
       "      <td>2024-07-04 09:00:55+00:00</td>\n",
       "      <td>LIBERACION</td>\n",
       "      <td>20</td>\n",
       "      <td>2</td>\n",
       "      <td>80</td>\n",
       "      <td>CONCLUIDO</td>\n",
       "      <td>DA 01</td>\n",
       "      <td>None</td>\n",
       "    </tr>\n",
       "    <tr>\n",
       "      <th>3</th>\n",
       "      <td>4</td>\n",
       "      <td>30</td>\n",
       "      <td>2024-07-04 14:50:55+00:00</td>\n",
       "      <td>EDUARDO REYES</td>\n",
       "      <td>CHRISTIAN CALIZAYA</td>\n",
       "      <td>2024-07-04 00:50:55+00:00</td>\n",
       "      <td>2024-07-04 09:00:55+00:00</td>\n",
       "      <td>LIBERACION</td>\n",
       "      <td>20</td>\n",
       "      <td>2</td>\n",
       "      <td>80</td>\n",
       "      <td>CONCLUIDO</td>\n",
       "      <td>DA 01</td>\n",
       "      <td>None</td>\n",
       "    </tr>\n",
       "    <tr>\n",
       "      <th>4</th>\n",
       "      <td>5</td>\n",
       "      <td>30</td>\n",
       "      <td>2024-07-04 14:50:55+00:00</td>\n",
       "      <td>EDUARDO REYES</td>\n",
       "      <td>CHRISTIAN CALIZAYA</td>\n",
       "      <td>2024-07-04 00:50:55+00:00</td>\n",
       "      <td>2024-07-04 09:00:55+00:00</td>\n",
       "      <td>LIBERACION</td>\n",
       "      <td>20</td>\n",
       "      <td>2</td>\n",
       "      <td>80</td>\n",
       "      <td>CONCLUIDO</td>\n",
       "      <td>DA 01</td>\n",
       "      <td>None</td>\n",
       "    </tr>\n",
       "    <tr>\n",
       "      <th>5</th>\n",
       "      <td>6</td>\n",
       "      <td>30</td>\n",
       "      <td>2024-07-04 14:50:55+00:00</td>\n",
       "      <td>EDUARDO REYES</td>\n",
       "      <td>CHRISTIAN CALIZAYA</td>\n",
       "      <td>2024-07-04 00:50:55+00:00</td>\n",
       "      <td>2024-07-04 09:00:55+00:00</td>\n",
       "      <td>LIBERACION</td>\n",
       "      <td>20</td>\n",
       "      <td>2</td>\n",
       "      <td>80</td>\n",
       "      <td>CONCLUIDO</td>\n",
       "      <td>DA 01</td>\n",
       "      <td>None</td>\n",
       "    </tr>\n",
       "  </tbody>\n",
       "</table>\n",
       "</div>"
      ],
      "text/plain": [
       "   id  idd             fecha_registro       piloto_1            piloto_2  \\\n",
       "0   1   30  2024-07-04 14:50:55+00:00  EDUARDO REYES  CHRISTIAN CALIZAYA   \n",
       "1   2   30  2024-07-04 14:50:55+00:00  EDUARDO REYES  CHRISTIAN CALIZAYA   \n",
       "2   3   30  2024-07-04 14:50:55+00:00  EDUARDO REYES  CHRISTIAN CALIZAYA   \n",
       "3   4   30  2024-07-04 14:50:55+00:00  EDUARDO REYES  CHRISTIAN CALIZAYA   \n",
       "4   5   30  2024-07-04 14:50:55+00:00  EDUARDO REYES  CHRISTIAN CALIZAYA   \n",
       "5   6   30  2024-07-04 14:50:55+00:00  EDUARDO REYES  CHRISTIAN CALIZAYA   \n",
       "\n",
       "                 hora_inicio                   hora_fin       labor  \\\n",
       "0  2024-07-04 00:50:55+00:00  2024-07-04 09:00:55+00:00  LIBERACION   \n",
       "1  2024-07-04 00:50:55+00:00  2024-07-04 09:00:55+00:00  LIBERACION   \n",
       "2  2024-07-04 00:50:55+00:00  2024-07-04 09:00:55+00:00  LIBERACION   \n",
       "3  2024-07-04 00:50:55+00:00  2024-07-04 09:00:55+00:00  LIBERACION   \n",
       "4  2024-07-04 00:50:55+00:00  2024-07-04 09:00:55+00:00  LIBERACION   \n",
       "5  2024-07-04 00:50:55+00:00  2024-07-04 09:00:55+00:00  LIBERACION   \n",
       "\n",
       "   temperatura  viento  humedad estado_de_operacion   dron   obs  \n",
       "0           20       2       80           CONCLUIDO  DA 01  None  \n",
       "1           20       2       80           CONCLUIDO  DA 01  None  \n",
       "2           20       2       80           CONCLUIDO  DA 01  None  \n",
       "3           20       2       80           CONCLUIDO  DA 01  None  \n",
       "4           20       2       80           CONCLUIDO  DA 01  None  \n",
       "5           20       2       80           CONCLUIDO  DA 01  None  "
      ]
     },
     "execution_count": 105,
     "metadata": {},
     "output_type": "execute_result"
    }
   ],
   "source": [
    "df_lib"
   ]
  },
  {
   "cell_type": "code",
   "execution_count": 118,
   "id": "144de13e-4ba0-4ff8-89fa-9f32f1285774",
   "metadata": {},
   "outputs": [
    {
     "data": {
      "text/plain": [
       "[30]"
      ]
     },
     "execution_count": 118,
     "metadata": {},
     "output_type": "execute_result"
    }
   ],
   "source": [
    "lista_idd = list(set(df_lib['idd']))\n",
    "lista_idd"
   ]
  },
  {
   "cell_type": "code",
   "execution_count": 124,
   "id": "50f35e5f-ee60-43b4-bbcd-d02366cc7e78",
   "metadata": {},
   "outputs": [
    {
     "data": {
      "text/plain": [
       "[1, 2, 3, 4, 5, 6]"
      ]
     },
     "execution_count": 124,
     "metadata": {},
     "output_type": "execute_result"
    }
   ],
   "source": [
    "lista_id = list(set(df_lib['id']))\n",
    "lista_id"
   ]
  },
  {
   "cell_type": "code",
   "execution_count": 106,
   "id": "2ced5c6e-d477-4033-a2bf-151b5bd9c324",
   "metadata": {},
   "outputs": [
    {
     "data": {
      "text/plain": [
       "id                     0\n",
       "idd                    0\n",
       "fecha_registro         0\n",
       "piloto_1               0\n",
       "piloto_2               0\n",
       "hora_inicio            0\n",
       "hora_fin               0\n",
       "labor                  0\n",
       "temperatura            0\n",
       "viento                 0\n",
       "humedad                0\n",
       "estado_de_operacion    0\n",
       "dron                   0\n",
       "obs                    6\n",
       "dtype: int64"
      ]
     },
     "execution_count": 106,
     "metadata": {},
     "output_type": "execute_result"
    }
   ],
   "source": [
    "nulos = df_lib.isnull().sum()\n",
    "nulos"
   ]
  },
  {
   "cell_type": "code",
   "execution_count": 107,
   "id": "716cf4c7-c920-4d8b-9853-5365651be295",
   "metadata": {},
   "outputs": [],
   "source": [
    "df_except_obs = df_lib.drop(columns=['obs'])\n",
    "null_check = df_except_obs.isnull().any().any()"
   ]
  },
  {
   "cell_type": "code",
   "execution_count": 108,
   "id": "20d37a12-63ad-4a6f-88bf-92a9b054b6ac",
   "metadata": {},
   "outputs": [],
   "source": [
    "if null_check:\n",
    "    df_lib = None\n",
    "else:\n",
    "    None"
   ]
  },
  {
   "cell_type": "code",
   "execution_count": 109,
   "id": "7f96a6a6-c76d-41d3-8c2e-5badb38a1e85",
   "metadata": {},
   "outputs": [],
   "source": [
    "df_parte = pd.read_excel(path_xlsx_parte)"
   ]
  },
  {
   "cell_type": "code",
   "execution_count": 110,
   "id": "56a06e58-0383-4c09-8632-a4b7ad367ad7",
   "metadata": {},
   "outputs": [
    {
     "data": {
      "text/html": [
       "<div>\n",
       "<style scoped>\n",
       "    .dataframe tbody tr th:only-of-type {\n",
       "        vertical-align: middle;\n",
       "    }\n",
       "\n",
       "    .dataframe tbody tr th {\n",
       "        vertical-align: top;\n",
       "    }\n",
       "\n",
       "    .dataframe thead th {\n",
       "        text-align: right;\n",
       "    }\n",
       "</style>\n",
       "<table border=\"1\" class=\"dataframe\">\n",
       "  <thead>\n",
       "    <tr style=\"text-align: right;\">\n",
       "      <th></th>\n",
       "      <th>N° LABOR</th>\n",
       "      <th>FECHA</th>\n",
       "      <th>SEMANA</th>\n",
       "      <th>INSTITUCION</th>\n",
       "      <th>COD CANERO</th>\n",
       "      <th>NOMBRE CANERO</th>\n",
       "      <th>COD PROPIEDAD</th>\n",
       "      <th>NOMBRE PROPIEDAD</th>\n",
       "      <th>LOTE</th>\n",
       "      <th>HECTAREA</th>\n",
       "      <th>...</th>\n",
       "      <th>OPERACIÓN DETENIDA POR</th>\n",
       "      <th>COD DRONE</th>\n",
       "      <th>PILOTO 1</th>\n",
       "      <th>PILOTO 2</th>\n",
       "      <th>OBSERVACIONES</th>\n",
       "      <th>CONFORMIDAD CANERO</th>\n",
       "      <th>FINANCIADO</th>\n",
       "      <th>ID</th>\n",
       "      <th>OS</th>\n",
       "      <th>IDD</th>\n",
       "    </tr>\n",
       "  </thead>\n",
       "  <tbody>\n",
       "    <tr>\n",
       "      <th>0</th>\n",
       "      <td>1</td>\n",
       "      <td>2024-07-04 14:50:55</td>\n",
       "      <td>27</td>\n",
       "      <td>69</td>\n",
       "      <td>18358</td>\n",
       "      <td>ROJAS AMELUNGE CARLOS</td>\n",
       "      <td>218</td>\n",
       "      <td>DON QUIJOTE</td>\n",
       "      <td>L4</td>\n",
       "      <td>16.738872</td>\n",
       "      <td>...</td>\n",
       "      <td>CONCLUIDO</td>\n",
       "      <td>DA 01</td>\n",
       "      <td>EDUARDO REYES</td>\n",
       "      <td>CHRISTIAN CALIZAYA</td>\n",
       "      <td>NaN</td>\n",
       "      <td>NaN</td>\n",
       "      <td>SIEMBRA 2024</td>\n",
       "      <td>1</td>\n",
       "      <td>25</td>\n",
       "      <td>30</td>\n",
       "    </tr>\n",
       "    <tr>\n",
       "      <th>1</th>\n",
       "      <td>1</td>\n",
       "      <td>2024-07-04 14:50:55</td>\n",
       "      <td>27</td>\n",
       "      <td>69</td>\n",
       "      <td>18358</td>\n",
       "      <td>ROJAS AMELUNGE CARLOS</td>\n",
       "      <td>218</td>\n",
       "      <td>DON QUIJOTE</td>\n",
       "      <td>L12.1</td>\n",
       "      <td>5.150160</td>\n",
       "      <td>...</td>\n",
       "      <td>CONCLUIDO</td>\n",
       "      <td>DA 01</td>\n",
       "      <td>EDUARDO REYES</td>\n",
       "      <td>CHRISTIAN CALIZAYA</td>\n",
       "      <td>NaN</td>\n",
       "      <td>NaN</td>\n",
       "      <td>SIEMBRA 2024</td>\n",
       "      <td>3</td>\n",
       "      <td>25</td>\n",
       "      <td>30</td>\n",
       "    </tr>\n",
       "    <tr>\n",
       "      <th>2</th>\n",
       "      <td>1</td>\n",
       "      <td>2024-07-04 14:50:55</td>\n",
       "      <td>27</td>\n",
       "      <td>69</td>\n",
       "      <td>18358</td>\n",
       "      <td>ROJAS AMELUNGE CARLOS</td>\n",
       "      <td>218</td>\n",
       "      <td>DON QUIJOTE</td>\n",
       "      <td>L9</td>\n",
       "      <td>32.409977</td>\n",
       "      <td>...</td>\n",
       "      <td>CONCLUIDO</td>\n",
       "      <td>DA 01</td>\n",
       "      <td>EDUARDO REYES</td>\n",
       "      <td>CHRISTIAN CALIZAYA</td>\n",
       "      <td>NaN</td>\n",
       "      <td>NaN</td>\n",
       "      <td>SIEMBRA 2024</td>\n",
       "      <td>4</td>\n",
       "      <td>25</td>\n",
       "      <td>30</td>\n",
       "    </tr>\n",
       "    <tr>\n",
       "      <th>3</th>\n",
       "      <td>1</td>\n",
       "      <td>2024-07-04 14:50:55</td>\n",
       "      <td>27</td>\n",
       "      <td>69</td>\n",
       "      <td>18358</td>\n",
       "      <td>ROJAS AMELUNGE CARLOS</td>\n",
       "      <td>218</td>\n",
       "      <td>DON QUIJOTE</td>\n",
       "      <td>L6</td>\n",
       "      <td>13.544786</td>\n",
       "      <td>...</td>\n",
       "      <td>CONCLUIDO</td>\n",
       "      <td>DA 01</td>\n",
       "      <td>EDUARDO REYES</td>\n",
       "      <td>CHRISTIAN CALIZAYA</td>\n",
       "      <td>NaN</td>\n",
       "      <td>NaN</td>\n",
       "      <td>SIEMBRA 2024</td>\n",
       "      <td>5</td>\n",
       "      <td>25</td>\n",
       "      <td>30</td>\n",
       "    </tr>\n",
       "    <tr>\n",
       "      <th>4</th>\n",
       "      <td>1</td>\n",
       "      <td>2024-07-04 14:50:55</td>\n",
       "      <td>27</td>\n",
       "      <td>69</td>\n",
       "      <td>18358</td>\n",
       "      <td>ROJAS AMELUNGE CARLOS</td>\n",
       "      <td>19</td>\n",
       "      <td>SANTA BARBARA</td>\n",
       "      <td>L16</td>\n",
       "      <td>5.915662</td>\n",
       "      <td>...</td>\n",
       "      <td>CONCLUIDO</td>\n",
       "      <td>DA 01</td>\n",
       "      <td>EDUARDO REYES</td>\n",
       "      <td>CHRISTIAN CALIZAYA</td>\n",
       "      <td>NaN</td>\n",
       "      <td>NaN</td>\n",
       "      <td>SIEMBRA 2024</td>\n",
       "      <td>2</td>\n",
       "      <td>25</td>\n",
       "      <td>30</td>\n",
       "    </tr>\n",
       "    <tr>\n",
       "      <th>5</th>\n",
       "      <td>1</td>\n",
       "      <td>2024-07-04 14:50:55</td>\n",
       "      <td>27</td>\n",
       "      <td>69</td>\n",
       "      <td>18358</td>\n",
       "      <td>ROJAS AMELUNGE CARLOS</td>\n",
       "      <td>19</td>\n",
       "      <td>SANTA BARBARA</td>\n",
       "      <td>L15</td>\n",
       "      <td>16.591264</td>\n",
       "      <td>...</td>\n",
       "      <td>CONCLUIDO</td>\n",
       "      <td>DA 01</td>\n",
       "      <td>EDUARDO REYES</td>\n",
       "      <td>CHRISTIAN CALIZAYA</td>\n",
       "      <td>NaN</td>\n",
       "      <td>NaN</td>\n",
       "      <td>SIEMBRA 2024</td>\n",
       "      <td>6</td>\n",
       "      <td>25</td>\n",
       "      <td>30</td>\n",
       "    </tr>\n",
       "  </tbody>\n",
       "</table>\n",
       "<p>6 rows × 29 columns</p>\n",
       "</div>"
      ],
      "text/plain": [
       "   N° LABOR               FECHA  SEMANA  INSTITUCION  COD CANERO  \\\n",
       "0         1 2024-07-04 14:50:55      27           69       18358   \n",
       "1         1 2024-07-04 14:50:55      27           69       18358   \n",
       "2         1 2024-07-04 14:50:55      27           69       18358   \n",
       "3         1 2024-07-04 14:50:55      27           69       18358   \n",
       "4         1 2024-07-04 14:50:55      27           69       18358   \n",
       "5         1 2024-07-04 14:50:55      27           69       18358   \n",
       "\n",
       "           NOMBRE CANERO  COD PROPIEDAD NOMBRE PROPIEDAD   LOTE   HECTAREA  \\\n",
       "0  ROJAS AMELUNGE CARLOS            218      DON QUIJOTE     L4  16.738872   \n",
       "1  ROJAS AMELUNGE CARLOS            218      DON QUIJOTE  L12.1   5.150160   \n",
       "2  ROJAS AMELUNGE CARLOS            218      DON QUIJOTE     L9  32.409977   \n",
       "3  ROJAS AMELUNGE CARLOS            218      DON QUIJOTE     L6  13.544786   \n",
       "4  ROJAS AMELUNGE CARLOS             19    SANTA BARBARA    L16   5.915662   \n",
       "5  ROJAS AMELUNGE CARLOS             19    SANTA BARBARA    L15  16.591264   \n",
       "\n",
       "   ...  OPERACIÓN DETENIDA POR  COD DRONE       PILOTO 1            PILOTO 2  \\\n",
       "0  ...               CONCLUIDO      DA 01  EDUARDO REYES  CHRISTIAN CALIZAYA   \n",
       "1  ...               CONCLUIDO      DA 01  EDUARDO REYES  CHRISTIAN CALIZAYA   \n",
       "2  ...               CONCLUIDO      DA 01  EDUARDO REYES  CHRISTIAN CALIZAYA   \n",
       "3  ...               CONCLUIDO      DA 01  EDUARDO REYES  CHRISTIAN CALIZAYA   \n",
       "4  ...               CONCLUIDO      DA 01  EDUARDO REYES  CHRISTIAN CALIZAYA   \n",
       "5  ...               CONCLUIDO      DA 01  EDUARDO REYES  CHRISTIAN CALIZAYA   \n",
       "\n",
       "   OBSERVACIONES  CONFORMIDAD CANERO    FINANCIADO ID  OS IDD  \n",
       "0            NaN                 NaN  SIEMBRA 2024  1  25  30  \n",
       "1            NaN                 NaN  SIEMBRA 2024  3  25  30  \n",
       "2            NaN                 NaN  SIEMBRA 2024  4  25  30  \n",
       "3            NaN                 NaN  SIEMBRA 2024  5  25  30  \n",
       "4            NaN                 NaN  SIEMBRA 2024  2  25  30  \n",
       "5            NaN                 NaN  SIEMBRA 2024  6  25  30  \n",
       "\n",
       "[6 rows x 29 columns]"
      ]
     },
     "execution_count": 110,
     "metadata": {},
     "output_type": "execute_result"
    }
   ],
   "source": [
    "df_parte"
   ]
  },
  {
   "cell_type": "code",
   "execution_count": 111,
   "id": "ff6185e4-378e-4c6c-b4cd-98e785856322",
   "metadata": {},
   "outputs": [],
   "source": [
    "df_parte['FECHA'] = pd.to_datetime(df_parte['FECHA'], errors='coerce')\n",
    "df_parte['HORA INICIO'] = pd.to_datetime(df_parte['HORA INICIO'], errors='coerce')\n",
    "df_parte['HORA FINAL'] = pd.to_datetime(df_parte['HORA FINAL'], errors='coerce')"
   ]
  },
  {
   "cell_type": "code",
   "execution_count": 112,
   "id": "474b0b89-20ca-4c2b-a5b0-0d5f7e11423b",
   "metadata": {},
   "outputs": [
    {
     "name": "stderr",
     "output_type": "stream",
     "text": [
      "C:\\Users\\bismarksr\\AppData\\Local\\Temp\\ipykernel_16724\\2708270919.py:24: FutureWarning: Setting an item of incompatible dtype is deprecated and will raise in a future error of pandas. Value 'None' has dtype incompatible with float64, please explicitly cast to a compatible dtype first.\n",
      "  df_parte.at[idx_parte, 'OBSERVACIONES'] = str(row['obs'])\n"
     ]
    }
   ],
   "source": [
    "# Recorrer cada registro del DataFrame y actualizar los registros correspondientes en el archivo Excel\n",
    "for idx, row in df_lib.iterrows():\n",
    "    id_value = row['id']\n",
    "    # Encontrar el índice correspondiente en el archivo Excel\n",
    "    idx_parte = df_parte[df_parte['ID'] == id_value].index\n",
    "    if not idx_parte.empty:\n",
    "        idx_parte = idx_parte[0]\n",
    "        # Convertir las fechas y eliminar la zona horaria\n",
    "        fecha_registro = pd.to_datetime(row['fecha_registro'], errors='coerce').tz_localize(None)\n",
    "        hora_inicio = pd.to_datetime(row['hora_inicio'], errors='coerce').tz_localize(None)\n",
    "        hora_fin = pd.to_datetime(row['hora_fin'], errors='coerce').tz_localize(None)\n",
    "        \n",
    "        # Actualizar los valores en el archivo Excel\n",
    "        df_parte.at[idx_parte, 'FECHA'] = fecha_registro\n",
    "        df_parte.at[idx_parte, 'HORA INICIO'] = hora_inicio\n",
    "        df_parte.at[idx_parte, 'HORA FINAL'] = hora_fin\n",
    "        df_parte.at[idx_parte, 'TEMPERATURA'] = float(row['temperatura'])\n",
    "        df_parte.at[idx_parte, 'VIENTO'] = float(row['viento'])\n",
    "        df_parte.at[idx_parte, 'HUMEDAD'] = float(row['humedad'])\n",
    "        df_parte.at[idx_parte, 'OPERACIÓN DETENIDA POR'] = str(row['estado_de_operacion'])\n",
    "        df_parte.at[idx_parte, 'COD DRONE'] = str(row['dron'])\n",
    "        df_parte.at[idx_parte, 'PILOTO 1'] = str(row['piloto_1'])\n",
    "        df_parte.at[idx_parte, 'PILOTO 2'] = str(row['piloto_2'])\n",
    "        df_parte.at[idx_parte, 'OBSERVACIONES'] = str(row['obs'])\n",
    "        df_parte.at[idx_parte, 'IDD'] = float(row['idd'])\n",
    "        df_parte.at[idx_parte, 'SEMANA'] = fecha_registro.isocalendar().week"
   ]
  },
  {
   "cell_type": "code",
   "execution_count": 113,
   "id": "6ebeaaa9-f654-42e6-9aeb-41c3f62c8242",
   "metadata": {},
   "outputs": [],
   "source": [
    "output_path = path_xlsx_parte\n",
    "df_parte.to_excel(output_path, index=False)"
   ]
  },
  {
   "cell_type": "markdown",
   "id": "67feaf9c-5a76-4976-a35f-a78651bed45a",
   "metadata": {},
   "source": [
    "# HACER COPIA Y ELIMINAR PARTE DIARIO Y PLANIFICACION DE AMIGOCLOUD"
   ]
  },
  {
   "cell_type": "code",
   "execution_count": null,
   "id": "21018e70-326e-4ff7-b9d7-64e87e79127e",
   "metadata": {},
   "outputs": [],
   "source": [
    "id_proyecto = f'https://app.amigocloud.com/api/v1/projects/33457/sql'\n",
    "for index, row in gdf_pla_gral.iterrows():\n",
    "    wkb_hex = convertir_a_wkb(row['geometry'])\n",
    "    insert_sql = f\"\"\"\n",
    "    INSERT INTO dataset_345601 (id, unidad_01, unidad_02, unidad_03, unidad_04, unidad_05, area, origen, dias, os, geometry)\n",
    "    VALUES ({row['id']}, {row['unidad_01']}, '{row['unidad_02']}', {row['unidad_03']}, '{row['unidad_04']}', '{row['unidad_05']}', {row['area']}, '{row['origen']}', '{row['dias']}', '{row['os']}', ST_SetSRID(ST_GeomFromWKB('\\\\x{wkb_hex}'), 4326));\n",
    "    \"\"\"\n",
    "    query_sql = {'query': insert_sql}\n",
    "    resultado_post = amigocloud.post(id_proyecto, query_sql)"
   ]
  },
  {
   "cell_type": "code",
   "execution_count": 119,
   "id": "a6a18d1c-328c-43df-aeab-48b0d4bcc085",
   "metadata": {},
   "outputs": [
    {
     "data": {
      "text/plain": [
       "[30]"
      ]
     },
     "execution_count": 119,
     "metadata": {},
     "output_type": "execute_result"
    }
   ],
   "source": [
    "lista_idd"
   ]
  },
  {
   "cell_type": "code",
   "execution_count": 122,
   "id": "d2a99bb6-e746-4feb-aa2b-4e073c269b71",
   "metadata": {},
   "outputs": [],
   "source": [
    "#copia y elimina los idd indicados del parte diario de amigocloud\n",
    "for idd in lista_idd:\n",
    "    id_proyecto = f'https://app.amigocloud.com/api/v1/projects/33457/sql'\n",
    "    query = f'INSERT INTO dataset_348546 (fecha_registro, amigo_id, propiedad, piloto_1, piloto_2, lote, area, hora_inicio, hora_fin, institucion, labor, temperatura, viento, humedad, estado_de_operacion, dron, obs, canhero, idd, ubicaciones) SELECT fecha_registro, amigo_id, propiedad, piloto_1, piloto_2, lote, area, hora_inicio, hora_fin, institucion, labor, temperatura, viento, humedad, estado_de_operacion, dron, obs, canhero, idd, ubicaciones FROM dataset_342996 WHERE idd = {idd}'\n",
    "    query_sql = {'query': query}\n",
    "    post = amigocloud.post(id_proyecto, query_sql)\n",
    "    query = {'query': f'DELETE FROM dataset_342996 WHERE idd = {idd}'}\n",
    "    ejecutar = amigocloud.post(id_proyecto, query)\n",
    "    print('se proceso IDD:', idd)"
   ]
  },
  {
   "cell_type": "code",
   "execution_count": 125,
   "id": "041e75a0-c886-49ba-bb3a-b6b9882ee954",
   "metadata": {},
   "outputs": [],
   "source": [
    "#copia y elimina los id indicados de la planificacion semanal de amigocloud\n",
    "for id in lista_id:\n",
    "    id_proyecto = f'https://app.amigocloud.com/api/v1/projects/33457/sql'\n",
    "    query = f'INSERT INTO dataset_348547 (fecha_registro, amigo_id, id, unidad_01, unidad_02, unidad_03, unidad_04, unidad_05, area, origen, dias, os, geometry) SELECT fecha_registro, amigo_id, id, unidad_01, unidad_02, unidad_03, unidad_04, unidad_05, area, origen, dias, os, geometry FROM dataset_345601 WHERE id = {id}'\n",
    "    query_sql = {'query': query}\n",
    "    post = amigocloud.post(id_proyecto, query_sql)\n",
    "    query = {'query': f'DELETE FROM dataset_345601 WHERE id = {id}'}\n",
    "    ejecutar = amigocloud.post(id_proyecto, query)\n",
    "    print('se proceso ID:', id)"
   ]
  },
  {
   "cell_type": "code",
   "execution_count": null,
   "id": "7a2ab448-77ee-46a0-8f41-8f6f2a1f9431",
   "metadata": {},
   "outputs": [],
   "source": []
  },
  {
   "cell_type": "code",
   "execution_count": null,
   "id": "8ee71eb6-c03b-4405-ad95-12cfba005eaa",
   "metadata": {},
   "outputs": [],
   "source": []
  },
  {
   "cell_type": "code",
   "execution_count": null,
   "id": "d7ad29ed-a5c7-4eec-9d2e-50f4bb85be5b",
   "metadata": {},
   "outputs": [],
   "source": []
  },
  {
   "cell_type": "code",
   "execution_count": null,
   "id": "294b694b-386d-4b1c-bcca-491d62073dd1",
   "metadata": {},
   "outputs": [],
   "source": []
  },
  {
   "cell_type": "code",
   "execution_count": null,
   "id": "94fe297f-01cf-4675-bca0-578970ea8169",
   "metadata": {},
   "outputs": [],
   "source": []
  },
  {
   "cell_type": "code",
   "execution_count": null,
   "id": "d89daeb1-80cc-42a9-846e-0da386074162",
   "metadata": {},
   "outputs": [],
   "source": []
  },
  {
   "cell_type": "code",
   "execution_count": null,
   "id": "bd0fc68f-6350-489e-bb76-ca5ba0cb39dd",
   "metadata": {},
   "outputs": [],
   "source": []
  },
  {
   "cell_type": "code",
   "execution_count": null,
   "id": "f866a816-bc95-4db4-ae73-6540e77b57a5",
   "metadata": {},
   "outputs": [],
   "source": []
  }
 ],
 "metadata": {
  "kernelspec": {
   "display_name": "Python 3 (ipykernel)",
   "language": "python",
   "name": "python3"
  },
  "language_info": {
   "codemirror_mode": {
    "name": "ipython",
    "version": 3
   },
   "file_extension": ".py",
   "mimetype": "text/x-python",
   "name": "python",
   "nbconvert_exporter": "python",
   "pygments_lexer": "ipython3",
   "version": "3.10.13"
  }
 },
 "nbformat": 4,
 "nbformat_minor": 5
}
