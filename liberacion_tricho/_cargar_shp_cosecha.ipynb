{
 "cells": [
  {
   "cell_type": "code",
   "execution_count": 75,
   "id": "fa7c75b9-8819-4902-bea8-3904a817f5fb",
   "metadata": {},
   "outputs": [],
   "source": [
    "import pandas as pd\n",
    "import geopandas as gpd"
   ]
  },
  {
   "cell_type": "code",
   "execution_count": 67,
   "id": "ecc0264b-b82e-423a-b33b-944c8db734d1",
   "metadata": {},
   "outputs": [],
   "source": [
    "shp_cosecha_path = r'G:/OneDrive - Ingenio Azucarero Guabira S.A/INFORMACION GENERAL/CATASTRO/NUEVO/cosecha2024.shp'"
   ]
  },
  {
   "cell_type": "code",
   "execution_count": null,
   "id": "007717d3-1b77-406c-84ec-cc1f8ccc1513",
   "metadata": {},
   "outputs": [],
   "source": []
  },
  {
   "cell_type": "code",
   "execution_count": 68,
   "id": "44e8341e-1298-4a87-8fc1-f3d6312d6f65",
   "metadata": {},
   "outputs": [],
   "source": [
    "gdf_cosecha = gpd.read_file(shapefile_path)"
   ]
  },
  {
   "cell_type": "code",
   "execution_count": 69,
   "id": "6c63afa2-dd6a-4877-a673-6ef95ced39e1",
   "metadata": {},
   "outputs": [
    {
     "data": {
      "text/plain": [
       "Index(['id', 'unidad_01', 'unidad_02', 'unidad_03', 'unidad_04', 'unidad_05',\n",
       "       'variedad', 'soca', 'zona', 'textura', 'cultivo', 'zafra', 'financia',\n",
       "       'fs', 'fc', 'area', 'estado', 'fci', 'tipoc', 'geometry'],\n",
       "      dtype='object')"
      ]
     },
     "execution_count": 69,
     "metadata": {},
     "output_type": "execute_result"
    }
   ],
   "source": [
    "gdf_cosecha.columns"
   ]
  },
  {
   "cell_type": "code",
   "execution_count": 70,
   "id": "4aaf4864-3119-4eb8-8381-2fb956cb2a32",
   "metadata": {},
   "outputs": [],
   "source": [
    "gdf_cosecha['idd'] = gdf.apply(lambda row: f\"{row['unidad_01']}|{row['unidad_03']}|{row['unidad_05']}\", axis=1)"
   ]
  },
  {
   "cell_type": "code",
   "execution_count": 71,
   "id": "5b80303e-35e7-4efe-8173-9fb59e03b9ae",
   "metadata": {},
   "outputs": [],
   "source": [
    "gdf_cosecha['area'] = gdf_cosecha.geometry.area / 10000"
   ]
  },
  {
   "cell_type": "code",
   "execution_count": 72,
   "id": "8989a9b8-5239-4a12-a75f-6b503e2f50b1",
   "metadata": {},
   "outputs": [],
   "source": [
    "area_antes_disolve = gdf_cosecha['area'].sum()"
   ]
  },
  {
   "cell_type": "code",
   "execution_count": 73,
   "id": "3df496e2-eba1-4f11-b171-4a15cf225c34",
   "metadata": {},
   "outputs": [
    {
     "data": {
      "text/plain": [
       "{'cosecha', 'sincosecha'}"
      ]
     },
     "execution_count": 73,
     "metadata": {},
     "output_type": "execute_result"
    }
   ],
   "source": [
    "set(gdf_cosecha['estado'])"
   ]
  },
  {
   "cell_type": "code",
   "execution_count": 76,
   "id": "ddbd8fc7-f4d1-4a3d-8b14-95c0faec37a4",
   "metadata": {},
   "outputs": [],
   "source": [
    "pivot_table = pd.pivot_table(gdf_cosecha, values='area', index='estado', aggfunc='sum')"
   ]
  },
  {
   "cell_type": "code",
   "execution_count": 77,
   "id": "a16707d3-3acb-4c3c-95e5-b2772784c497",
   "metadata": {},
   "outputs": [
    {
     "data": {
      "text/html": [
       "<div>\n",
       "<style scoped>\n",
       "    .dataframe tbody tr th:only-of-type {\n",
       "        vertical-align: middle;\n",
       "    }\n",
       "\n",
       "    .dataframe tbody tr th {\n",
       "        vertical-align: top;\n",
       "    }\n",
       "\n",
       "    .dataframe thead th {\n",
       "        text-align: right;\n",
       "    }\n",
       "</style>\n",
       "<table border=\"1\" class=\"dataframe\">\n",
       "  <thead>\n",
       "    <tr style=\"text-align: right;\">\n",
       "      <th></th>\n",
       "      <th>area</th>\n",
       "    </tr>\n",
       "    <tr>\n",
       "      <th>estado</th>\n",
       "      <th></th>\n",
       "    </tr>\n",
       "  </thead>\n",
       "  <tbody>\n",
       "    <tr>\n",
       "      <th>cosecha</th>\n",
       "      <td>7.480266</td>\n",
       "    </tr>\n",
       "    <tr>\n",
       "      <th>sincosecha</th>\n",
       "      <td>54343.131210</td>\n",
       "    </tr>\n",
       "  </tbody>\n",
       "</table>\n",
       "</div>"
      ],
      "text/plain": [
       "                    area\n",
       "estado                  \n",
       "cosecha         7.480266\n",
       "sincosecha  54343.131210"
      ]
     },
     "execution_count": 77,
     "metadata": {},
     "output_type": "execute_result"
    }
   ],
   "source": [
    "pivot_table"
   ]
  },
  {
   "cell_type": "code",
   "execution_count": null,
   "id": "3897cbe3-37b4-41f2-b79e-bba26aafe39e",
   "metadata": {},
   "outputs": [],
   "source": []
  },
  {
   "cell_type": "code",
   "execution_count": null,
   "id": "2533a66d-bf60-4728-93a2-e2667e33c1f8",
   "metadata": {},
   "outputs": [],
   "source": []
  },
  {
   "cell_type": "code",
   "execution_count": null,
   "id": "3557822f-d48f-4f39-8bf3-000434dd10ec",
   "metadata": {},
   "outputs": [],
   "source": []
  },
  {
   "cell_type": "code",
   "execution_count": null,
   "id": "35e64a5d-ee65-4206-946a-296c0b953c9d",
   "metadata": {},
   "outputs": [],
   "source": []
  },
  {
   "cell_type": "code",
   "execution_count": null,
   "id": "ef4842b8-b036-4cd3-a0e1-0beb9f64ba1d",
   "metadata": {},
   "outputs": [],
   "source": []
  },
  {
   "cell_type": "code",
   "execution_count": 54,
   "id": "3f4a753c-ea89-4595-b7a3-74f92520031a",
   "metadata": {},
   "outputs": [],
   "source": [
    "gdf_disolve = gdf_cosecha.dissolve(by='idd')"
   ]
  },
  {
   "cell_type": "code",
   "execution_count": 55,
   "id": "16c74bdb-a667-4f83-9e1d-0bdd3aabe404",
   "metadata": {},
   "outputs": [],
   "source": [
    "gdf_disolve['area'] = gdf_disolve.geometry.area / 10000"
   ]
  },
  {
   "cell_type": "code",
   "execution_count": 56,
   "id": "1414d175-4914-4eff-9b28-5d9af9279591",
   "metadata": {},
   "outputs": [],
   "source": [
    "area_despues_disolve = gdf_disolve['area'].sum()"
   ]
  },
  {
   "cell_type": "code",
   "execution_count": null,
   "id": "234a926b-c81c-4642-ac71-0416c50b21db",
   "metadata": {},
   "outputs": [],
   "source": []
  },
  {
   "cell_type": "code",
   "execution_count": null,
   "id": "c6131c31-145f-4dbb-9362-ef933edf06e7",
   "metadata": {},
   "outputs": [],
   "source": []
  },
  {
   "cell_type": "code",
   "execution_count": null,
   "id": "1d48b030-179e-40b6-a5d3-d128151fae4a",
   "metadata": {},
   "outputs": [],
   "source": []
  },
  {
   "cell_type": "code",
   "execution_count": 57,
   "id": "2e375cb9-05f1-4a28-8e46-08663ee5a5cb",
   "metadata": {},
   "outputs": [
    {
     "data": {
      "text/plain": [
       "54350.61147599491"
      ]
     },
     "execution_count": 57,
     "metadata": {},
     "output_type": "execute_result"
    }
   ],
   "source": [
    "area_antes_disolve"
   ]
  },
  {
   "cell_type": "code",
   "execution_count": 58,
   "id": "76e75d99-66f1-4fb6-a0ee-7a60cc491db0",
   "metadata": {},
   "outputs": [
    {
     "data": {
      "text/plain": [
       "54350.611475994905"
      ]
     },
     "execution_count": 58,
     "metadata": {},
     "output_type": "execute_result"
    }
   ],
   "source": [
    "area_despues_disolve"
   ]
  }
 ],
 "metadata": {
  "kernelspec": {
   "display_name": "Python 3 (ipykernel)",
   "language": "python",
   "name": "python3"
  },
  "language_info": {
   "codemirror_mode": {
    "name": "ipython",
    "version": 3
   },
   "file_extension": ".py",
   "mimetype": "text/x-python",
   "name": "python",
   "nbconvert_exporter": "python",
   "pygments_lexer": "ipython3",
   "version": "3.10.13"
  }
 },
 "nbformat": 4,
 "nbformat_minor": 5
}
