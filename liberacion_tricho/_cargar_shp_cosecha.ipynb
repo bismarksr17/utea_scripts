{
 "cells": [
  {
   "cell_type": "code",
   "execution_count": 1,
   "id": "fa7c75b9-8819-4902-bea8-3904a817f5fb",
   "metadata": {},
   "outputs": [],
   "source": [
    "import pandas as pd\n",
    "import geopandas as gpd\n",
    "\n",
    "import numpy as np\n",
    "\n",
    "import datetime\n",
    "from datetime import datetime, timedelta\n"
   ]
  },
  {
   "cell_type": "code",
   "execution_count": 214,
   "id": "ecc0264b-b82e-423a-b33b-944c8db734d1",
   "metadata": {},
   "outputs": [],
   "source": [
    "shp_cosecha_path = r'C:/Documents/OneDrive - Ingenio Azucarero Guabira S.A/INFORMACION GENERAL/CATASTRO/NUEVO/cosecha2024.shp'"
   ]
  },
  {
   "cell_type": "code",
   "execution_count": 215,
   "id": "44e8341e-1298-4a87-8fc1-f3d6312d6f65",
   "metadata": {},
   "outputs": [],
   "source": [
    "gdf_cosecha = gpd.read_file(shp_cosecha_path)\n",
    "area_cargado = gdf_cosecha['area'].sum()"
   ]
  },
  {
   "cell_type": "code",
   "execution_count": 216,
   "id": "4aaf4864-3119-4eb8-8381-2fb956cb2a32",
   "metadata": {},
   "outputs": [],
   "source": [
    "gdf_cosecha['idd'] = gdf_cosecha.apply(lambda row: f\"{row['unidad_01']}|{row['unidad_03']}|{row['unidad_05']}\", axis=1)"
   ]
  },
  {
   "cell_type": "code",
   "execution_count": 217,
   "id": "5b80303e-35e7-4efe-8173-9fb59e03b9ae",
   "metadata": {},
   "outputs": [],
   "source": [
    "gdf_cosecha['area'] = gdf_cosecha.geometry.area / 10000"
   ]
  },
  {
   "cell_type": "code",
   "execution_count": 218,
   "id": "5607118b-a85a-439c-855e-bb41d21e7cab",
   "metadata": {},
   "outputs": [],
   "source": [
    "area_recalculado = gdf_cosecha['area'].sum()"
   ]
  },
  {
   "cell_type": "code",
   "execution_count": 219,
   "id": "174162ae-fca1-4317-8f63-4dad62f17dbd",
   "metadata": {},
   "outputs": [],
   "source": [
    "gdf_disolve = gdf_cosecha.dissolve(by='idd')\n",
    "gdf_disolve['area'] = gdf_disolve.geometry.area / 10000\n",
    "area_disolve = gdf_disolve['area'].sum()"
   ]
  },
  {
   "cell_type": "code",
   "execution_count": 220,
   "id": "3df496e2-eba1-4f11-b171-4a15cf225c34",
   "metadata": {},
   "outputs": [],
   "source": [
    "estados = set(gdf_cosecha['estado'])"
   ]
  },
  {
   "cell_type": "code",
   "execution_count": 221,
   "id": "ddbd8fc7-f4d1-4a3d-8b14-95c0faec37a4",
   "metadata": {},
   "outputs": [],
   "source": [
    "pivot_estados = pd.pivot_table(gdf_cosecha, values='area', index='estado', aggfunc='sum')"
   ]
  },
  {
   "cell_type": "code",
   "execution_count": 222,
   "id": "373034a8-7edf-410e-a25f-68e85e11310b",
   "metadata": {},
   "outputs": [
    {
     "data": {
      "text/html": [
       "<div>\n",
       "<style scoped>\n",
       "    .dataframe tbody tr th:only-of-type {\n",
       "        vertical-align: middle;\n",
       "    }\n",
       "\n",
       "    .dataframe tbody tr th {\n",
       "        vertical-align: top;\n",
       "    }\n",
       "\n",
       "    .dataframe thead th {\n",
       "        text-align: right;\n",
       "    }\n",
       "</style>\n",
       "<table border=\"1\" class=\"dataframe\">\n",
       "  <thead>\n",
       "    <tr style=\"text-align: right;\">\n",
       "      <th></th>\n",
       "      <th>area</th>\n",
       "    </tr>\n",
       "    <tr>\n",
       "      <th>estado</th>\n",
       "      <th></th>\n",
       "    </tr>\n",
       "  </thead>\n",
       "  <tbody>\n",
       "    <tr>\n",
       "      <th>cosechado</th>\n",
       "      <td>2200.580990</td>\n",
       "    </tr>\n",
       "    <tr>\n",
       "      <th>sincosecha</th>\n",
       "      <td>51738.509301</td>\n",
       "    </tr>\n",
       "  </tbody>\n",
       "</table>\n",
       "</div>"
      ],
      "text/plain": [
       "                    area\n",
       "estado                  \n",
       "cosechado    2200.580990\n",
       "sincosecha  51738.509301"
      ]
     },
     "execution_count": 222,
     "metadata": {},
     "output_type": "execute_result"
    }
   ],
   "source": [
    "pivot_estados"
   ]
  },
  {
   "cell_type": "code",
   "execution_count": 223,
   "id": "7044096c-36b6-4229-ae6d-2600c992e93c",
   "metadata": {},
   "outputs": [],
   "source": [
    "cosechado = pivot_estados['area']['cosechado']\n",
    "sincosecha = pivot_estados['area']['sincosecha']"
   ]
  },
  {
   "cell_type": "code",
   "execution_count": 224,
   "id": "0eae890e-0331-4915-80cd-ba3807085920",
   "metadata": {},
   "outputs": [
    {
     "data": {
      "text/html": [
       "<div>\n",
       "<style scoped>\n",
       "    .dataframe tbody tr th:only-of-type {\n",
       "        vertical-align: middle;\n",
       "    }\n",
       "\n",
       "    .dataframe tbody tr th {\n",
       "        vertical-align: top;\n",
       "    }\n",
       "\n",
       "    .dataframe thead th {\n",
       "        text-align: right;\n",
       "    }\n",
       "</style>\n",
       "<table border=\"1\" class=\"dataframe\">\n",
       "  <thead>\n",
       "    <tr style=\"text-align: right;\">\n",
       "      <th></th>\n",
       "      <th>Items</th>\n",
       "      <th>Datos</th>\n",
       "    </tr>\n",
       "  </thead>\n",
       "  <tbody>\n",
       "    <tr>\n",
       "      <th>0</th>\n",
       "      <td>Area cargado</td>\n",
       "      <td>53938.92</td>\n",
       "    </tr>\n",
       "    <tr>\n",
       "      <th>1</th>\n",
       "      <td>Area recalculado</td>\n",
       "      <td>53939.09</td>\n",
       "    </tr>\n",
       "    <tr>\n",
       "      <th>2</th>\n",
       "      <td>Area disolve</td>\n",
       "      <td>53939.09</td>\n",
       "    </tr>\n",
       "    <tr>\n",
       "      <th>3</th>\n",
       "      <td>Estados</td>\n",
       "      <td>{cosechado, sincosecha}</td>\n",
       "    </tr>\n",
       "    <tr>\n",
       "      <th>4</th>\n",
       "      <td>Cosechado</td>\n",
       "      <td>2200.58</td>\n",
       "    </tr>\n",
       "    <tr>\n",
       "      <th>5</th>\n",
       "      <td>Sin cosecha</td>\n",
       "      <td>51738.51</td>\n",
       "    </tr>\n",
       "    <tr>\n",
       "      <th>6</th>\n",
       "      <td>Suma estados</td>\n",
       "      <td>53939.09</td>\n",
       "    </tr>\n",
       "  </tbody>\n",
       "</table>\n",
       "</div>"
      ],
      "text/plain": [
       "              Items                    Datos\n",
       "0      Area cargado                 53938.92\n",
       "1  Area recalculado                 53939.09\n",
       "2      Area disolve                 53939.09\n",
       "3           Estados  {cosechado, sincosecha}\n",
       "4         Cosechado                  2200.58\n",
       "5       Sin cosecha                 51738.51\n",
       "6      Suma estados                 53939.09"
      ]
     },
     "execution_count": 224,
     "metadata": {},
     "output_type": "execute_result"
    }
   ],
   "source": [
    "estado_datos = {\n",
    "    'Items' : ['Area cargado', 'Area recalculado', 'Area disolve', 'Estados', 'Cosechado', 'Sin cosecha', 'Suma estados'],\n",
    "    'Datos' : [round(area_cargado, 2), round(area_recalculado, 2), round(area_disolve, 2), estados, round(cosechado, 2), round(sincosecha, 2), round(cosechado + sincosecha, 2)]\n",
    "}\n",
    "pd.DataFrame(estado_datos)"
   ]
  },
  {
   "cell_type": "code",
   "execution_count": null,
   "id": "2f83462d-3411-47a4-bfb8-1ffb1aec1aa1",
   "metadata": {},
   "outputs": [],
   "source": []
  },
  {
   "cell_type": "code",
   "execution_count": 225,
   "id": "363468e5-3761-445f-b4f0-818e10f0112b",
   "metadata": {},
   "outputs": [],
   "source": [
    "pivot_idd = pd.pivot_table(gdf_cosecha, index='idd', columns='estado', values='area', aggfunc='sum')"
   ]
  },
  {
   "cell_type": "code",
   "execution_count": 226,
   "id": "2533a66d-bf60-4728-93a2-e2667e33c1f8",
   "metadata": {},
   "outputs": [
    {
     "data": {
      "text/plain": [
       "Index(['cosechado', 'sincosecha'], dtype='object', name='estado')"
      ]
     },
     "execution_count": 226,
     "metadata": {},
     "output_type": "execute_result"
    }
   ],
   "source": [
    "pivot_idd.columns"
   ]
  },
  {
   "cell_type": "code",
   "execution_count": 227,
   "id": "3557822f-d48f-4f39-8bf3-000434dd10ec",
   "metadata": {},
   "outputs": [],
   "source": [
    "df_idd = pivot_idd.reset_index()"
   ]
  },
  {
   "cell_type": "code",
   "execution_count": 228,
   "id": "9822a289-58fb-482d-b373-1ef163fd2187",
   "metadata": {},
   "outputs": [],
   "source": [
    "df_idd['cosechado'] = df_idd['cosechado'].fillna(0)\n",
    "df_idd['sincosecha'] = df_idd['sincosecha'].fillna(0)"
   ]
  },
  {
   "cell_type": "code",
   "execution_count": 229,
   "id": "95709a66-bd23-433e-be6e-f91505ecabfd",
   "metadata": {},
   "outputs": [],
   "source": [
    "df_idd_select = df_idd[df_idd['cosechado']!=0]"
   ]
  },
  {
   "cell_type": "code",
   "execution_count": 230,
   "id": "521dd337-37dd-4817-84d1-a3b03fde8144",
   "metadata": {},
   "outputs": [],
   "source": [
    "df_idd_select = df_idd_select.copy()"
   ]
  },
  {
   "cell_type": "code",
   "execution_count": 231,
   "id": "ef4842b8-b036-4cd3-a0e1-0beb9f64ba1d",
   "metadata": {},
   "outputs": [],
   "source": [
    "df_idd_select.loc[:, 'total'] = df_idd_select['cosechado'] + df_idd_select['sincosecha']"
   ]
  },
  {
   "cell_type": "code",
   "execution_count": 232,
   "id": "3f4a753c-ea89-4595-b7a3-74f92520031a",
   "metadata": {},
   "outputs": [],
   "source": [
    "df_idd_select.loc[:, 'porcen'] = df_idd_select['cosechado'] / df_idd_select['total']"
   ]
  },
  {
   "cell_type": "code",
   "execution_count": 233,
   "id": "234a926b-c81c-4642-ac71-0416c50b21db",
   "metadata": {},
   "outputs": [],
   "source": [
    "df_idd_interes = df_idd_select[df_idd_select['porcen'] > 0.9][['idd', 'porcen']]"
   ]
  },
  {
   "cell_type": "code",
   "execution_count": 234,
   "id": "1d48b030-179e-40b6-a5d3-d128151fae4a",
   "metadata": {},
   "outputs": [
    {
     "data": {
      "text/html": [
       "<div>\n",
       "<style scoped>\n",
       "    .dataframe tbody tr th:only-of-type {\n",
       "        vertical-align: middle;\n",
       "    }\n",
       "\n",
       "    .dataframe tbody tr th {\n",
       "        vertical-align: top;\n",
       "    }\n",
       "\n",
       "    .dataframe thead th {\n",
       "        text-align: right;\n",
       "    }\n",
       "</style>\n",
       "<table border=\"1\" class=\"dataframe\">\n",
       "  <thead>\n",
       "    <tr style=\"text-align: right;\">\n",
       "      <th>estado</th>\n",
       "      <th>idd</th>\n",
       "      <th>porcen</th>\n",
       "    </tr>\n",
       "  </thead>\n",
       "  <tbody>\n",
       "    <tr>\n",
       "      <th>520</th>\n",
       "      <td>1115|20185|L8</td>\n",
       "      <td>1.0</td>\n",
       "    </tr>\n",
       "    <tr>\n",
       "      <th>690</th>\n",
       "      <td>114|11860|L1.4</td>\n",
       "      <td>1.0</td>\n",
       "    </tr>\n",
       "    <tr>\n",
       "      <th>691</th>\n",
       "      <td>114|11860|L1.5.1</td>\n",
       "      <td>1.0</td>\n",
       "    </tr>\n",
       "    <tr>\n",
       "      <th>717</th>\n",
       "      <td>1151|5836|L15_21</td>\n",
       "      <td>1.0</td>\n",
       "    </tr>\n",
       "    <tr>\n",
       "      <th>718</th>\n",
       "      <td>1151|5836|L22</td>\n",
       "      <td>1.0</td>\n",
       "    </tr>\n",
       "    <tr>\n",
       "      <th>...</th>\n",
       "      <td>...</td>\n",
       "      <td>...</td>\n",
       "    </tr>\n",
       "    <tr>\n",
       "      <th>10421</th>\n",
       "      <td>979|11158|L5</td>\n",
       "      <td>1.0</td>\n",
       "    </tr>\n",
       "    <tr>\n",
       "      <th>10422</th>\n",
       "      <td>979|11158|L6</td>\n",
       "      <td>1.0</td>\n",
       "    </tr>\n",
       "    <tr>\n",
       "      <th>10489</th>\n",
       "      <td>98|2662|L4</td>\n",
       "      <td>1.0</td>\n",
       "    </tr>\n",
       "    <tr>\n",
       "      <th>10491</th>\n",
       "      <td>98|2662|L6</td>\n",
       "      <td>1.0</td>\n",
       "    </tr>\n",
       "    <tr>\n",
       "      <th>10516</th>\n",
       "      <td>991|2187|L1.1</td>\n",
       "      <td>1.0</td>\n",
       "    </tr>\n",
       "  </tbody>\n",
       "</table>\n",
       "<p>299 rows × 2 columns</p>\n",
       "</div>"
      ],
      "text/plain": [
       "estado               idd  porcen\n",
       "520        1115|20185|L8     1.0\n",
       "690       114|11860|L1.4     1.0\n",
       "691     114|11860|L1.5.1     1.0\n",
       "717     1151|5836|L15_21     1.0\n",
       "718        1151|5836|L22     1.0\n",
       "...                  ...     ...\n",
       "10421       979|11158|L5     1.0\n",
       "10422       979|11158|L6     1.0\n",
       "10489         98|2662|L4     1.0\n",
       "10491         98|2662|L6     1.0\n",
       "10516      991|2187|L1.1     1.0\n",
       "\n",
       "[299 rows x 2 columns]"
      ]
     },
     "execution_count": 234,
     "metadata": {},
     "output_type": "execute_result"
    }
   ],
   "source": [
    "df_idd_interes"
   ]
  },
  {
   "cell_type": "code",
   "execution_count": 235,
   "id": "1a161ac9-0749-4857-8c04-c8ad44c97c97",
   "metadata": {},
   "outputs": [],
   "source": [
    "gdf_disolve = gdf_disolve.reset_index()"
   ]
  },
  {
   "cell_type": "code",
   "execution_count": 236,
   "id": "b672e336-aa1a-4255-80d0-313528dbef77",
   "metadata": {},
   "outputs": [],
   "source": [
    "df_merged = pd.merge(gdf_disolve, df_idd_interes, on='idd', how='left')"
   ]
  },
  {
   "cell_type": "code",
   "execution_count": 237,
   "id": "c6a00acb-7fb3-4a81-bf87-c4eff8e4383f",
   "metadata": {},
   "outputs": [
    {
     "data": {
      "text/plain": [
       "Index(['idd', 'geometry', 'id', 'unidad_01', 'unidad_02', 'unidad_03',\n",
       "       'unidad_04', 'unidad_05', 'variedad', 'soca', 'zona', 'textura',\n",
       "       'cultivo', 'zafra', 'financia', 'fs', 'fc', 'area', 'estado', 'fci',\n",
       "       'tipoc', 'porcen'],\n",
       "      dtype='object')"
      ]
     },
     "execution_count": 237,
     "metadata": {},
     "output_type": "execute_result"
    }
   ],
   "source": [
    "df_merged.columns"
   ]
  },
  {
   "cell_type": "code",
   "execution_count": 238,
   "id": "8f0005e8-f641-488f-b09c-37f3604c7050",
   "metadata": {},
   "outputs": [
    {
     "data": {
      "text/plain": [
       "53939.09026723008"
      ]
     },
     "execution_count": 238,
     "metadata": {},
     "output_type": "execute_result"
    }
   ],
   "source": [
    "df_merged['area'].sum()"
   ]
  },
  {
   "cell_type": "code",
   "execution_count": 239,
   "id": "34752eac-b5d5-41a6-9bd8-166a3fd80cd7",
   "metadata": {},
   "outputs": [],
   "source": [
    "df_merged['porcen'] = df_merged['porcen'].fillna(0)"
   ]
  },
  {
   "cell_type": "code",
   "execution_count": 302,
   "id": "b8805739-e229-4160-95ab-c5f6fa8ec574",
   "metadata": {},
   "outputs": [],
   "source": [
    "df_final = df_merged[df_merged['porcen']!=0]"
   ]
  },
  {
   "cell_type": "code",
   "execution_count": 310,
   "id": "6eb060dd-fcaf-48f0-b9e1-0d3db69320c7",
   "metadata": {},
   "outputs": [
    {
     "data": {
      "text/plain": [
       "Index(['idd', 'geometry', 'id', 'unidad_01', 'unidad_02', 'unidad_03',\n",
       "       'unidad_04', 'unidad_05', 'variedad', 'soca', 'zona', 'textura',\n",
       "       'cultivo', 'zafra', 'financia', 'fs', 'fc', 'area', 'estado', 'fci',\n",
       "       'tipoc', 'porcen', 'dias'],\n",
       "      dtype='object')"
      ]
     },
     "execution_count": 310,
     "metadata": {},
     "output_type": "execute_result"
    }
   ],
   "source": [
    "df_final.columns"
   ]
  },
  {
   "cell_type": "code",
   "execution_count": 304,
   "id": "1cde9ecc-5c6b-4ef5-8050-ca45c79e8b25",
   "metadata": {},
   "outputs": [],
   "source": [
    "df_final = df_final.copy()"
   ]
  },
  {
   "cell_type": "code",
   "execution_count": 305,
   "id": "29fc269c-bc10-45f2-bfb3-5b0758284bbd",
   "metadata": {},
   "outputs": [],
   "source": [
    "df_final['fc'] = pd.to_datetime(df_final['fc'])\n",
    "df_final['fs'] = pd.to_datetime(df_final['fs'])"
   ]
  },
  {
   "cell_type": "code",
   "execution_count": 306,
   "id": "57c944d8-bb19-4d3d-99a3-a00440b8c7c5",
   "metadata": {},
   "outputs": [],
   "source": [
    "fecha_actual = datetime.now()"
   ]
  },
  {
   "cell_type": "code",
   "execution_count": 307,
   "id": "23b097a0-c6c5-4902-b532-252cccf376b8",
   "metadata": {},
   "outputs": [],
   "source": [
    "df_final['dias'] = (fecha_actual - df_final['fc']).dt.days"
   ]
  },
  {
   "cell_type": "code",
   "execution_count": 308,
   "id": "33cbbf6a-0838-4cc4-950f-39d3c104a4b1",
   "metadata": {},
   "outputs": [
    {
     "data": {
      "text/html": [
       "<div>\n",
       "<style scoped>\n",
       "    .dataframe tbody tr th:only-of-type {\n",
       "        vertical-align: middle;\n",
       "    }\n",
       "\n",
       "    .dataframe tbody tr th {\n",
       "        vertical-align: top;\n",
       "    }\n",
       "\n",
       "    .dataframe thead th {\n",
       "        text-align: right;\n",
       "    }\n",
       "</style>\n",
       "<table border=\"1\" class=\"dataframe\">\n",
       "  <thead>\n",
       "    <tr style=\"text-align: right;\">\n",
       "      <th></th>\n",
       "      <th>idd</th>\n",
       "      <th>geometry</th>\n",
       "      <th>id</th>\n",
       "      <th>unidad_01</th>\n",
       "      <th>unidad_02</th>\n",
       "      <th>unidad_03</th>\n",
       "      <th>unidad_04</th>\n",
       "      <th>unidad_05</th>\n",
       "      <th>variedad</th>\n",
       "      <th>soca</th>\n",
       "      <th>...</th>\n",
       "      <th>zafra</th>\n",
       "      <th>financia</th>\n",
       "      <th>fs</th>\n",
       "      <th>fc</th>\n",
       "      <th>area</th>\n",
       "      <th>estado</th>\n",
       "      <th>fci</th>\n",
       "      <th>tipoc</th>\n",
       "      <th>porcen</th>\n",
       "      <th>dias</th>\n",
       "    </tr>\n",
       "  </thead>\n",
       "  <tbody>\n",
       "    <tr>\n",
       "      <th>721</th>\n",
       "      <td>1151|5836|L25</td>\n",
       "      <td>POLYGON ((518351.778 8091760.233, 518322.224 8...</td>\n",
       "      <td>000011510000L25</td>\n",
       "      <td>1151</td>\n",
       "      <td>ESTANCIA GUADALUPE--JEREZ HUGO</td>\n",
       "      <td>5836</td>\n",
       "      <td>INTEGRACION PRODUCTIVA SRL.</td>\n",
       "      <td>L25</td>\n",
       "      <td>UCG9020</td>\n",
       "      <td>4</td>\n",
       "      <td>...</td>\n",
       "      <td>2024</td>\n",
       "      <td>IAG</td>\n",
       "      <td>2019-07-25</td>\n",
       "      <td>2024-05-16</td>\n",
       "      <td>9.223266</td>\n",
       "      <td>sincosecha</td>\n",
       "      <td>0</td>\n",
       "      <td>ver</td>\n",
       "      <td>0.999992</td>\n",
       "      <td>14</td>\n",
       "    </tr>\n",
       "    <tr>\n",
       "      <th>959</th>\n",
       "      <td>119|7077|L1.1</td>\n",
       "      <td>POLYGON ((491304.304 8109240.956, 491304.304 8...</td>\n",
       "      <td>00001190000L1.1</td>\n",
       "      <td>119</td>\n",
       "      <td>CAIMANES VILLA COPACABANA--CKOLO</td>\n",
       "      <td>7077</td>\n",
       "      <td>CKOLO ESCALERA CARLOS</td>\n",
       "      <td>L1.1</td>\n",
       "      <td>UCG9020</td>\n",
       "      <td>8</td>\n",
       "      <td>...</td>\n",
       "      <td>2024</td>\n",
       "      <td>None</td>\n",
       "      <td>2015-04-20</td>\n",
       "      <td>2024-05-16</td>\n",
       "      <td>1.508501</td>\n",
       "      <td>sincosecha</td>\n",
       "      <td>0</td>\n",
       "      <td>ver</td>\n",
       "      <td>1.000000</td>\n",
       "      <td>14</td>\n",
       "    </tr>\n",
       "    <tr>\n",
       "      <th>1384</th>\n",
       "      <td>1294|8017|L15.1</td>\n",
       "      <td>MULTIPOLYGON (((496549.654 8094174.502, 496549...</td>\n",
       "      <td>000012940000L15.1</td>\n",
       "      <td>1294</td>\n",
       "      <td>LA FLORIDA--RIBERA ROLANDO</td>\n",
       "      <td>8017</td>\n",
       "      <td>RIBERA MERCADO ROLANDO</td>\n",
       "      <td>L15.1</td>\n",
       "      <td>UCG9020</td>\n",
       "      <td>0</td>\n",
       "      <td>...</td>\n",
       "      <td>2024</td>\n",
       "      <td>IAG</td>\n",
       "      <td>2023-05-19</td>\n",
       "      <td>2024-05-16</td>\n",
       "      <td>3.245415</td>\n",
       "      <td>sincosecha</td>\n",
       "      <td>0</td>\n",
       "      <td>ver</td>\n",
       "      <td>1.000000</td>\n",
       "      <td>14</td>\n",
       "    </tr>\n",
       "    <tr>\n",
       "      <th>1713</th>\n",
       "      <td>1351|7572|L1</td>\n",
       "      <td>POLYGON ((479397.041 8096190.928, 479394.689 8...</td>\n",
       "      <td>000013510000L1</td>\n",
       "      <td>1351</td>\n",
       "      <td>LA BELLEZA--LAVERAN ZENON</td>\n",
       "      <td>7572</td>\n",
       "      <td>LAVERAN VACA ZENON</td>\n",
       "      <td>L1</td>\n",
       "      <td>RBB7726</td>\n",
       "      <td>10</td>\n",
       "      <td>...</td>\n",
       "      <td>2024</td>\n",
       "      <td>None</td>\n",
       "      <td>2013-04-19</td>\n",
       "      <td>2024-05-16</td>\n",
       "      <td>3.026443</td>\n",
       "      <td>sincosecha</td>\n",
       "      <td>0</td>\n",
       "      <td>None</td>\n",
       "      <td>1.000000</td>\n",
       "      <td>14</td>\n",
       "    </tr>\n",
       "    <tr>\n",
       "      <th>1764</th>\n",
       "      <td>1368|8186|L1</td>\n",
       "      <td>POLYGON ((489189.729 8101317.834, 489187.584 8...</td>\n",
       "      <td>000013680000L1</td>\n",
       "      <td>1368</td>\n",
       "      <td>HERMANOS MERCADO--MERCADO EDUARDO</td>\n",
       "      <td>8186</td>\n",
       "      <td>MERCADO AGUILERA EDUARDO</td>\n",
       "      <td>L1</td>\n",
       "      <td>UCG9020</td>\n",
       "      <td>6</td>\n",
       "      <td>...</td>\n",
       "      <td>2024</td>\n",
       "      <td>None</td>\n",
       "      <td>2017-04-19</td>\n",
       "      <td>2024-05-16</td>\n",
       "      <td>3.613073</td>\n",
       "      <td>sincosecha</td>\n",
       "      <td>0</td>\n",
       "      <td>ver</td>\n",
       "      <td>1.000000</td>\n",
       "      <td>14</td>\n",
       "    </tr>\n",
       "    <tr>\n",
       "      <th>...</th>\n",
       "      <td>...</td>\n",
       "      <td>...</td>\n",
       "      <td>...</td>\n",
       "      <td>...</td>\n",
       "      <td>...</td>\n",
       "      <td>...</td>\n",
       "      <td>...</td>\n",
       "      <td>...</td>\n",
       "      <td>...</td>\n",
       "      <td>...</td>\n",
       "      <td>...</td>\n",
       "      <td>...</td>\n",
       "      <td>...</td>\n",
       "      <td>...</td>\n",
       "      <td>...</td>\n",
       "      <td>...</td>\n",
       "      <td>...</td>\n",
       "      <td>...</td>\n",
       "      <td>...</td>\n",
       "      <td>...</td>\n",
       "      <td>...</td>\n",
       "    </tr>\n",
       "    <tr>\n",
       "      <th>8877</th>\n",
       "      <td>74|2816|C1</td>\n",
       "      <td>POLYGON ((481302.770 8080479.566, 481238.756 8...</td>\n",
       "      <td>0000740000C1</td>\n",
       "      <td>74</td>\n",
       "      <td>LOS ARROYOS--DONOSO</td>\n",
       "      <td>2816</td>\n",
       "      <td>DONOSO BLANCO ALBERTO</td>\n",
       "      <td>C1</td>\n",
       "      <td>UCG9020</td>\n",
       "      <td>8</td>\n",
       "      <td>...</td>\n",
       "      <td>2024</td>\n",
       "      <td>None</td>\n",
       "      <td>2015-05-12</td>\n",
       "      <td>2024-05-16</td>\n",
       "      <td>7.012051</td>\n",
       "      <td>sincosecha</td>\n",
       "      <td>0</td>\n",
       "      <td>ver</td>\n",
       "      <td>1.000000</td>\n",
       "      <td>14</td>\n",
       "    </tr>\n",
       "    <tr>\n",
       "      <th>8879</th>\n",
       "      <td>74|2816|C3</td>\n",
       "      <td>POLYGON ((481615.472 8079541.295, 481614.309 8...</td>\n",
       "      <td>0000740000C3</td>\n",
       "      <td>74</td>\n",
       "      <td>LOS ARROYOS--DONOSO</td>\n",
       "      <td>2816</td>\n",
       "      <td>DONOSO BLANCO ALBERTO</td>\n",
       "      <td>C3</td>\n",
       "      <td>SP835073</td>\n",
       "      <td>10</td>\n",
       "      <td>...</td>\n",
       "      <td>2024</td>\n",
       "      <td>None</td>\n",
       "      <td>2013-04-15</td>\n",
       "      <td>2024-05-16</td>\n",
       "      <td>10.134778</td>\n",
       "      <td>sincosecha</td>\n",
       "      <td>0</td>\n",
       "      <td>ver</td>\n",
       "      <td>1.000000</td>\n",
       "      <td>14</td>\n",
       "    </tr>\n",
       "    <tr>\n",
       "      <th>9303</th>\n",
       "      <td>809|42047|L10</td>\n",
       "      <td>POLYGON ((483705.780 8091547.831, 483741.382 8...</td>\n",
       "      <td>00008090000L10</td>\n",
       "      <td>809</td>\n",
       "      <td>PROP.CINDA MONTAÑO</td>\n",
       "      <td>42047</td>\n",
       "      <td>TORREJON MONTAÑO ERICK FERNANDO</td>\n",
       "      <td>L10</td>\n",
       "      <td>RB2</td>\n",
       "      <td>0</td>\n",
       "      <td>...</td>\n",
       "      <td>2024</td>\n",
       "      <td>IAG</td>\n",
       "      <td>2023-05-10</td>\n",
       "      <td>2024-05-16</td>\n",
       "      <td>1.064180</td>\n",
       "      <td>cosechado</td>\n",
       "      <td>1</td>\n",
       "      <td>None</td>\n",
       "      <td>1.000000</td>\n",
       "      <td>14</td>\n",
       "    </tr>\n",
       "    <tr>\n",
       "      <th>9317</th>\n",
       "      <td>809|8816|L7</td>\n",
       "      <td>POLYGON ((483509.266 8091652.062, 483503.531 8...</td>\n",
       "      <td>00008090000L7</td>\n",
       "      <td>809</td>\n",
       "      <td>PROP.CINDA MONTAÑO</td>\n",
       "      <td>8816</td>\n",
       "      <td>MONTANO GUTIERREZ CINDA</td>\n",
       "      <td>L7</td>\n",
       "      <td>RBB7726</td>\n",
       "      <td>11</td>\n",
       "      <td>...</td>\n",
       "      <td>2024</td>\n",
       "      <td>None</td>\n",
       "      <td>2012-04-20</td>\n",
       "      <td>2024-05-16</td>\n",
       "      <td>2.375828</td>\n",
       "      <td>sincosecha</td>\n",
       "      <td>0</td>\n",
       "      <td>ver</td>\n",
       "      <td>1.000000</td>\n",
       "      <td>14</td>\n",
       "    </tr>\n",
       "    <tr>\n",
       "      <th>9615</th>\n",
       "      <td>861|65|L4</td>\n",
       "      <td>POLYGON ((491904.609 8111731.884, 491904.003 8...</td>\n",
       "      <td>00008610000L4</td>\n",
       "      <td>861</td>\n",
       "      <td>P-142 COOP.AGRIC.DE P.GUALBERTO VILLARROEL</td>\n",
       "      <td>65</td>\n",
       "      <td>AGUILAR CESPEDES VALERIO MODESTO</td>\n",
       "      <td>L4</td>\n",
       "      <td>UCG9020</td>\n",
       "      <td>4</td>\n",
       "      <td>...</td>\n",
       "      <td>2024</td>\n",
       "      <td>None</td>\n",
       "      <td>2019-04-23</td>\n",
       "      <td>2024-05-16</td>\n",
       "      <td>1.695626</td>\n",
       "      <td>sincosecha</td>\n",
       "      <td>0</td>\n",
       "      <td>ver</td>\n",
       "      <td>1.000000</td>\n",
       "      <td>14</td>\n",
       "    </tr>\n",
       "  </tbody>\n",
       "</table>\n",
       "<p>84 rows × 23 columns</p>\n",
       "</div>"
      ],
      "text/plain": [
       "                  idd                                           geometry  \\\n",
       "721     1151|5836|L25  POLYGON ((518351.778 8091760.233, 518322.224 8...   \n",
       "959     119|7077|L1.1  POLYGON ((491304.304 8109240.956, 491304.304 8...   \n",
       "1384  1294|8017|L15.1  MULTIPOLYGON (((496549.654 8094174.502, 496549...   \n",
       "1713     1351|7572|L1  POLYGON ((479397.041 8096190.928, 479394.689 8...   \n",
       "1764     1368|8186|L1  POLYGON ((489189.729 8101317.834, 489187.584 8...   \n",
       "...               ...                                                ...   \n",
       "8877       74|2816|C1  POLYGON ((481302.770 8080479.566, 481238.756 8...   \n",
       "8879       74|2816|C3  POLYGON ((481615.472 8079541.295, 481614.309 8...   \n",
       "9303    809|42047|L10  POLYGON ((483705.780 8091547.831, 483741.382 8...   \n",
       "9317      809|8816|L7  POLYGON ((483509.266 8091652.062, 483503.531 8...   \n",
       "9615        861|65|L4  POLYGON ((491904.609 8111731.884, 491904.003 8...   \n",
       "\n",
       "                     id  unidad_01  \\\n",
       "721     000011510000L25       1151   \n",
       "959     00001190000L1.1        119   \n",
       "1384  000012940000L15.1       1294   \n",
       "1713     000013510000L1       1351   \n",
       "1764     000013680000L1       1368   \n",
       "...                 ...        ...   \n",
       "8877       0000740000C1         74   \n",
       "8879       0000740000C3         74   \n",
       "9303     00008090000L10        809   \n",
       "9317      00008090000L7        809   \n",
       "9615      00008610000L4        861   \n",
       "\n",
       "                                       unidad_02  unidad_03  \\\n",
       "721               ESTANCIA GUADALUPE--JEREZ HUGO       5836   \n",
       "959             CAIMANES VILLA COPACABANA--CKOLO       7077   \n",
       "1384                  LA FLORIDA--RIBERA ROLANDO       8017   \n",
       "1713                   LA BELLEZA--LAVERAN ZENON       7572   \n",
       "1764           HERMANOS MERCADO--MERCADO EDUARDO       8186   \n",
       "...                                          ...        ...   \n",
       "8877                         LOS ARROYOS--DONOSO       2816   \n",
       "8879                         LOS ARROYOS--DONOSO       2816   \n",
       "9303                          PROP.CINDA MONTAÑO      42047   \n",
       "9317                          PROP.CINDA MONTAÑO       8816   \n",
       "9615  P-142 COOP.AGRIC.DE P.GUALBERTO VILLARROEL         65   \n",
       "\n",
       "                             unidad_04 unidad_05  variedad  soca  ...  zafra  \\\n",
       "721        INTEGRACION PRODUCTIVA SRL.       L25   UCG9020     4  ...   2024   \n",
       "959              CKOLO ESCALERA CARLOS      L1.1   UCG9020     8  ...   2024   \n",
       "1384            RIBERA MERCADO ROLANDO     L15.1   UCG9020     0  ...   2024   \n",
       "1713                LAVERAN VACA ZENON        L1   RBB7726    10  ...   2024   \n",
       "1764          MERCADO AGUILERA EDUARDO        L1   UCG9020     6  ...   2024   \n",
       "...                                ...       ...       ...   ...  ...    ...   \n",
       "8877             DONOSO BLANCO ALBERTO        C1   UCG9020     8  ...   2024   \n",
       "8879             DONOSO BLANCO ALBERTO        C3  SP835073    10  ...   2024   \n",
       "9303   TORREJON MONTAÑO ERICK FERNANDO       L10       RB2     0  ...   2024   \n",
       "9317           MONTANO GUTIERREZ CINDA        L7   RBB7726    11  ...   2024   \n",
       "9615  AGUILAR CESPEDES VALERIO MODESTO        L4   UCG9020     4  ...   2024   \n",
       "\n",
       "     financia         fs         fc       area      estado fci  tipoc  \\\n",
       "721       IAG 2019-07-25 2024-05-16   9.223266  sincosecha   0    ver   \n",
       "959      None 2015-04-20 2024-05-16   1.508501  sincosecha   0    ver   \n",
       "1384      IAG 2023-05-19 2024-05-16   3.245415  sincosecha   0    ver   \n",
       "1713     None 2013-04-19 2024-05-16   3.026443  sincosecha   0   None   \n",
       "1764     None 2017-04-19 2024-05-16   3.613073  sincosecha   0    ver   \n",
       "...       ...        ...        ...        ...         ...  ..    ...   \n",
       "8877     None 2015-05-12 2024-05-16   7.012051  sincosecha   0    ver   \n",
       "8879     None 2013-04-15 2024-05-16  10.134778  sincosecha   0    ver   \n",
       "9303      IAG 2023-05-10 2024-05-16   1.064180   cosechado   1   None   \n",
       "9317     None 2012-04-20 2024-05-16   2.375828  sincosecha   0    ver   \n",
       "9615     None 2019-04-23 2024-05-16   1.695626  sincosecha   0    ver   \n",
       "\n",
       "        porcen  dias  \n",
       "721   0.999992    14  \n",
       "959   1.000000    14  \n",
       "1384  1.000000    14  \n",
       "1713  1.000000    14  \n",
       "1764  1.000000    14  \n",
       "...        ...   ...  \n",
       "8877  1.000000    14  \n",
       "8879  1.000000    14  \n",
       "9303  1.000000    14  \n",
       "9317  1.000000    14  \n",
       "9615  1.000000    14  \n",
       "\n",
       "[84 rows x 23 columns]"
      ]
     },
     "execution_count": 308,
     "metadata": {},
     "output_type": "execute_result"
    }
   ],
   "source": [
    "df_final[df_final['dias'] > 10]"
   ]
  }
 ],
 "metadata": {
  "kernelspec": {
   "display_name": "Python 3 (ipykernel)",
   "language": "python",
   "name": "python3"
  },
  "language_info": {
   "codemirror_mode": {
    "name": "ipython",
    "version": 3
   },
   "file_extension": ".py",
   "mimetype": "text/x-python",
   "name": "python",
   "nbconvert_exporter": "python",
   "pygments_lexer": "ipython3",
   "version": "3.10.13"
  }
 },
 "nbformat": 4,
 "nbformat_minor": 5
}
