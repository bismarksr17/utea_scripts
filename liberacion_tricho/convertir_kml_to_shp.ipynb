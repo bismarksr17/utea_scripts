{
 "cells": [
  {
   "cell_type": "code",
   "execution_count": 59,
   "id": "76bdbda2-cb40-4967-a3c8-a57fe7fe2762",
   "metadata": {},
   "outputs": [],
   "source": [
    "import re\n",
    "from datetime import datetime"
   ]
  },
  {
   "cell_type": "code",
   "execution_count": 60,
   "id": "76931ea2-46e0-4c2b-9196-f371f34895ae",
   "metadata": {
    "tags": []
   },
   "outputs": [],
   "source": [
    "import os\n",
    "import geopandas as gpd\n",
    "import geemap\n",
    "import xml.etree.ElementTree as ET\n",
    "import pandas as pd\n",
    "from shapely.geometry import LineString\n",
    "\n",
    "# constante requerida\n",
    "namespace = {\"kml\": \"http://www.opengis.net/kml/2.2\"}"
   ]
  },
  {
   "cell_type": "code",
   "execution_count": 61,
   "id": "2b147dc3-6779-47d0-b0be-c64b0f4a81ce",
   "metadata": {
    "tags": []
   },
   "outputs": [
    {
     "data": {
      "text/plain": [
       "231"
      ]
     },
     "execution_count": 61,
     "metadata": {},
     "output_type": "execute_result"
    }
   ],
   "source": [
    "# Directorio donde están los archivos KML\n",
    "path_kml = r'G:/OneDrive - Ingenio Azucarero Guabira S.A/UTEA_2023/PROYECTO AREA LIBERACION/SEGUIMIENTO2/LOGS_GRAL/'\n",
    "contenido = os.listdir(path_kml)\n",
    "len(contenido)"
   ]
  },
  {
   "cell_type": "code",
   "execution_count": 77,
   "id": "bec38e53-9581-49d8-a2c1-75143e6b9016",
   "metadata": {},
   "outputs": [],
   "source": [
    "def extraer_fecha(fecha_txt):\n",
    "    match = re.search(r\"([A-Za-z]{3}-\\d{1,2}[a-z]{2}-\\d{4})\", fecha_txt)\n",
    "    return match.group(1) if match else None\n",
    "\n",
    "def format_date(date_str):\n",
    "    try:\n",
    "        # Eliminar sufijos ordinales para facilitar la conversión\n",
    "        date_without_suffix = re.sub(r'(st|nd|rd|th)', '', date_str)\n",
    "        return pd.to_datetime(date_without_suffix, format='%b-%d-%Y').strftime('%d/%m/%Y')\n",
    "    except:\n",
    "        return None\n",
    "\n",
    "def week_number(date_str):\n",
    "    \"\"\"\n",
    "    Retorna el número de semana del año para una fecha dada en formato \"dd/mm/aaaa\".\n",
    "    \"\"\"\n",
    "    try:\n",
    "        date_obj = pd.to_datetime(date_str, format='%d/%m/%Y')\n",
    "        return date_obj.isocalendar()[1]  # El segundo valor de isocalendar() es el número de semana\n",
    "    except:\n",
    "        return None"
   ]
  },
  {
   "cell_type": "code",
   "execution_count": 63,
   "id": "44a2da82-e3af-43bb-8a0a-a0b81fbb1775",
   "metadata": {
    "tags": []
   },
   "outputs": [],
   "source": [
    "# lista para almacenar nombres de archivo\n",
    "file_name = []\n",
    "# lista para alamcenar recorridos\n",
    "lineas = []\n",
    "\n",
    "# itera sobre la lista de nombres de archivos\n",
    "for i in contenido:\n",
    "    # directorio + nombre de archivo\n",
    "    path = path_kml + i\n",
    "    # leer el arbol de contenido del archivo\n",
    "    tree = ET.parse(path)\n",
    "    root = tree.getroot()\n",
    "    for placemark in root.findall(\".//kml:Placemark\", namespace):\n",
    "        coord_text = placemark.find(\".//kml:coordinates\", namespace).text.strip()\n",
    "        # obtiene las cooredenadas\n",
    "        coords = coord_text.split('\\n')\n",
    "        # lista para guardar las coors\n",
    "        coordinates = []\n",
    "        # recorre las coors\n",
    "        for j in coords:\n",
    "            # split para separa el 3er elemento que acompaña las coors\n",
    "            coord = j.split(',')\n",
    "            # agrega las coors a la lista\n",
    "            coordinates.append((float(coord[0]), float(coord[1])))\n",
    "    # conviente en DF\n",
    "    df = pd.DataFrame(coordinates, columns=['Longitude', 'Latitude'])\n",
    "    # convierte en GDF\n",
    "    gdf = gpd.GeoDataFrame(df, geometry=gpd.points_from_xy(df.Longitude, df.Latitude))\n",
    "    # convierte el GDF en Linea\n",
    "    line = LineString(gdf.geometry.tolist())\n",
    "    # se almacena en listas el nombre del archivo y la geomedia del recorrido\n",
    "    file_name.append(i)\n",
    "    lineas.append(line)"
   ]
  },
  {
   "cell_type": "code",
   "execution_count": 66,
   "id": "6d30a40a-b05d-4efa-9107-1fccbe49378e",
   "metadata": {},
   "outputs": [],
   "source": [
    "fechas = [extraer_fecha(i) for i in file_name]"
   ]
  },
  {
   "cell_type": "code",
   "execution_count": 68,
   "id": "d69d298a-6494-4ce8-9721-377323eafc90",
   "metadata": {},
   "outputs": [],
   "source": [
    "fechas = [format_date(i) for i in fechas]"
   ]
  },
  {
   "cell_type": "code",
   "execution_count": 78,
   "id": "768335eb-4b73-48ef-8031-28b0a1f262b2",
   "metadata": {},
   "outputs": [],
   "source": [
    "semanas = [week_number(i) for i in fechas]"
   ]
  },
  {
   "cell_type": "code",
   "execution_count": null,
   "id": "394708fe-7fc2-4c7a-924b-2ddb212a42d1",
   "metadata": {},
   "outputs": [],
   "source": []
  },
  {
   "cell_type": "code",
   "execution_count": null,
   "id": "275a3059-d2cb-41b4-9054-f65f5eb4312b",
   "metadata": {},
   "outputs": [],
   "source": []
  },
  {
   "cell_type": "code",
   "execution_count": 81,
   "id": "6d8cb069-7afd-460d-bd0b-1084acc7828a",
   "metadata": {
    "tags": []
   },
   "outputs": [],
   "source": [
    "# dic con la geometria y el file_name\n",
    "data_lineas = {\n",
    "    'geometry': lineas,\n",
    "    'nombre': file_name,\n",
    "    'fecha' : fechas,\n",
    "    'semana' : semanas\n",
    "}"
   ]
  },
  {
   "cell_type": "code",
   "execution_count": 82,
   "id": "1fa256a5-41f2-4b47-819f-09d3bd718980",
   "metadata": {
    "tags": []
   },
   "outputs": [],
   "source": [
    "gdf_lineas = gpd.GeoDataFrame(data_lineas)"
   ]
  },
  {
   "cell_type": "code",
   "execution_count": 83,
   "id": "e95033d3-7b65-4398-b2b4-b6398faf9fff",
   "metadata": {
    "tags": []
   },
   "outputs": [],
   "source": [
    "gdf_lineas.crs = \"EPSG:4326\""
   ]
  },
  {
   "cell_type": "code",
   "execution_count": 84,
   "id": "422ff311-5566-4a50-8c8b-cf8fa7a17ded",
   "metadata": {
    "tags": []
   },
   "outputs": [],
   "source": [
    "gdf_lineas = gdf_lineas.to_crs(epsg=32720)"
   ]
  },
  {
   "cell_type": "code",
   "execution_count": 85,
   "id": "05bda40f-a78e-4fc6-be18-4aeb06dd8825",
   "metadata": {},
   "outputs": [
    {
     "data": {
      "text/html": [
       "<div>\n",
       "<style scoped>\n",
       "    .dataframe tbody tr th:only-of-type {\n",
       "        vertical-align: middle;\n",
       "    }\n",
       "\n",
       "    .dataframe tbody tr th {\n",
       "        vertical-align: top;\n",
       "    }\n",
       "\n",
       "    .dataframe thead th {\n",
       "        text-align: right;\n",
       "    }\n",
       "</style>\n",
       "<table border=\"1\" class=\"dataframe\">\n",
       "  <thead>\n",
       "    <tr style=\"text-align: right;\">\n",
       "      <th></th>\n",
       "      <th>geometry</th>\n",
       "      <th>nombre</th>\n",
       "      <th>fecha</th>\n",
       "      <th>semana</th>\n",
       "    </tr>\n",
       "  </thead>\n",
       "  <tbody>\n",
       "    <tr>\n",
       "      <th>0</th>\n",
       "      <td>LINESTRING (483421.207 8102178.225, 483421.210...</td>\n",
       "      <td>Oct-11th-2023-08-51PM-Flight-Airdata.kml</td>\n",
       "      <td>11/10/2023</td>\n",
       "      <td>41</td>\n",
       "    </tr>\n",
       "    <tr>\n",
       "      <th>1</th>\n",
       "      <td>LINESTRING (483422.403 8102178.651, 483422.422...</td>\n",
       "      <td>Oct-11th-2023-08-56PM-Flight-Airdata.kml</td>\n",
       "      <td>11/10/2023</td>\n",
       "      <td>41</td>\n",
       "    </tr>\n",
       "    <tr>\n",
       "      <th>2</th>\n",
       "      <td>LINESTRING (483281.322 8101887.131, 483281.317...</td>\n",
       "      <td>Oct-11th-2023-09-20PM-Flight-Airdata.kml</td>\n",
       "      <td>11/10/2023</td>\n",
       "      <td>41</td>\n",
       "    </tr>\n",
       "    <tr>\n",
       "      <th>3</th>\n",
       "      <td>LINESTRING (483281.357 8101887.026, 483281.353...</td>\n",
       "      <td>Oct-11th-2023-09-22PM-Flight-Airdata.kml</td>\n",
       "      <td>11/10/2023</td>\n",
       "      <td>41</td>\n",
       "    </tr>\n",
       "    <tr>\n",
       "      <th>4</th>\n",
       "      <td>LINESTRING (483149.858 8101177.268, 483149.859...</td>\n",
       "      <td>Oct-11th-2023-09-34PM-Flight-Airdata.kml</td>\n",
       "      <td>11/10/2023</td>\n",
       "      <td>41</td>\n",
       "    </tr>\n",
       "    <tr>\n",
       "      <th>...</th>\n",
       "      <td>...</td>\n",
       "      <td>...</td>\n",
       "      <td>...</td>\n",
       "      <td>...</td>\n",
       "    </tr>\n",
       "    <tr>\n",
       "      <th>226</th>\n",
       "      <td>LINESTRING (467747.528 8079687.305, 467747.526...</td>\n",
       "      <td>Sep-9th-2023-07-28PM-Flight-Airdata.kml</td>\n",
       "      <td>09/09/2023</td>\n",
       "      <td>36</td>\n",
       "    </tr>\n",
       "    <tr>\n",
       "      <th>227</th>\n",
       "      <td>LINESTRING (468017.014 8079757.806, 468017.011...</td>\n",
       "      <td>Sep-9th-2023-07-39PM-Flight-Airdata.kml</td>\n",
       "      <td>09/09/2023</td>\n",
       "      <td>36</td>\n",
       "    </tr>\n",
       "    <tr>\n",
       "      <th>228</th>\n",
       "      <td>LINESTRING (467625.403 8080003.384, 467625.405...</td>\n",
       "      <td>Sep-9th-2023-08-03PM-Flight-Airdata.kml</td>\n",
       "      <td>09/09/2023</td>\n",
       "      <td>36</td>\n",
       "    </tr>\n",
       "    <tr>\n",
       "      <th>229</th>\n",
       "      <td>LINESTRING (467619.715 8080025.696, 467619.713...</td>\n",
       "      <td>Sep-9th-2023-08-51PM-Flight-Airdata.kml</td>\n",
       "      <td>09/09/2023</td>\n",
       "      <td>36</td>\n",
       "    </tr>\n",
       "    <tr>\n",
       "      <th>230</th>\n",
       "      <td>LINESTRING (467297.809 8079921.949, 467297.813...</td>\n",
       "      <td>Sep-9th-2023-09-20PM-Flight-Airdata.kml</td>\n",
       "      <td>09/09/2023</td>\n",
       "      <td>36</td>\n",
       "    </tr>\n",
       "  </tbody>\n",
       "</table>\n",
       "<p>231 rows × 4 columns</p>\n",
       "</div>"
      ],
      "text/plain": [
       "                                              geometry  \\\n",
       "0    LINESTRING (483421.207 8102178.225, 483421.210...   \n",
       "1    LINESTRING (483422.403 8102178.651, 483422.422...   \n",
       "2    LINESTRING (483281.322 8101887.131, 483281.317...   \n",
       "3    LINESTRING (483281.357 8101887.026, 483281.353...   \n",
       "4    LINESTRING (483149.858 8101177.268, 483149.859...   \n",
       "..                                                 ...   \n",
       "226  LINESTRING (467747.528 8079687.305, 467747.526...   \n",
       "227  LINESTRING (468017.014 8079757.806, 468017.011...   \n",
       "228  LINESTRING (467625.403 8080003.384, 467625.405...   \n",
       "229  LINESTRING (467619.715 8080025.696, 467619.713...   \n",
       "230  LINESTRING (467297.809 8079921.949, 467297.813...   \n",
       "\n",
       "                                       nombre       fecha  semana  \n",
       "0    Oct-11th-2023-08-51PM-Flight-Airdata.kml  11/10/2023      41  \n",
       "1    Oct-11th-2023-08-56PM-Flight-Airdata.kml  11/10/2023      41  \n",
       "2    Oct-11th-2023-09-20PM-Flight-Airdata.kml  11/10/2023      41  \n",
       "3    Oct-11th-2023-09-22PM-Flight-Airdata.kml  11/10/2023      41  \n",
       "4    Oct-11th-2023-09-34PM-Flight-Airdata.kml  11/10/2023      41  \n",
       "..                                        ...         ...     ...  \n",
       "226   Sep-9th-2023-07-28PM-Flight-Airdata.kml  09/09/2023      36  \n",
       "227   Sep-9th-2023-07-39PM-Flight-Airdata.kml  09/09/2023      36  \n",
       "228   Sep-9th-2023-08-03PM-Flight-Airdata.kml  09/09/2023      36  \n",
       "229   Sep-9th-2023-08-51PM-Flight-Airdata.kml  09/09/2023      36  \n",
       "230   Sep-9th-2023-09-20PM-Flight-Airdata.kml  09/09/2023      36  \n",
       "\n",
       "[231 rows x 4 columns]"
      ]
     },
     "execution_count": 85,
     "metadata": {},
     "output_type": "execute_result"
    }
   ],
   "source": [
    "gdf_lineas"
   ]
  },
  {
   "cell_type": "code",
   "execution_count": 86,
   "id": "1b2fb03a-015f-4ffa-9db3-e5c7ec0445fe",
   "metadata": {
    "tags": []
   },
   "outputs": [
    {
     "data": {
      "text/plain": [
       "<AxesSubplot:>"
      ]
     },
     "execution_count": 86,
     "metadata": {},
     "output_type": "execute_result"
    },
    {
     "data": {
      "image/png": "[encoded data removed]",
      "text/plain": [
       "<Figure size 640x480 with 1 Axes>"
      ]
     },
     "metadata": {},
     "output_type": "display_data"
    }
   ],
   "source": [
    "gdf_lineas.plot()"
   ]
  },
  {
   "cell_type": "code",
   "execution_count": 87,
   "id": "bcf22391-5a59-4fae-9d5a-cb9f7ea969b0",
   "metadata": {
    "tags": []
   },
   "outputs": [
    {
     "data": {
      "text/plain": [
       "231"
      ]
     },
     "execution_count": 87,
     "metadata": {},
     "output_type": "execute_result"
    }
   ],
   "source": [
    "len(gdf_lineas)"
   ]
  },
  {
   "cell_type": "code",
   "execution_count": 88,
   "id": "e53ccc88-5562-4a1d-b02d-9811386431d7",
   "metadata": {
    "tags": []
   },
   "outputs": [],
   "source": [
    "gdf_lineas.to_file('capa_logs', driver=\"ESRI Shapefile\")"
   ]
  },
  {
   "cell_type": "code",
   "execution_count": null,
   "id": "411f0abd-dbdd-4f66-baff-24689da94120",
   "metadata": {},
   "outputs": [],
   "source": []
  },
  {
   "cell_type": "code",
   "execution_count": null,
   "id": "19d0826a-9172-41da-b16d-0e25bedb5dbf",
   "metadata": {},
   "outputs": [],
   "source": []
  },
  {
   "cell_type": "code",
   "execution_count": null,
   "id": "45c58798-bb89-4fd5-bf2c-e4e2ca83f985",
   "metadata": {},
   "outputs": [],
   "source": []
  },
  {
   "cell_type": "code",
   "execution_count": null,
   "id": "88900319-64f4-4a7d-ab4b-110e522c838f",
   "metadata": {},
   "outputs": [],
   "source": []
  },
  {
   "cell_type": "code",
   "execution_count": null,
   "id": "f2ff11a9-f7c4-49c5-9b10-63774a1f9469",
   "metadata": {},
   "outputs": [],
   "source": []
  },
  {
   "cell_type": "code",
   "execution_count": null,
   "id": "1c97c826-cd01-4bff-82fa-c48518b78d6b",
   "metadata": {},
   "outputs": [],
   "source": []
  },
  {
   "cell_type": "code",
   "execution_count": null,
   "id": "70c233ba-1181-4150-9817-ddb13b9b8864",
   "metadata": {},
   "outputs": [],
   "source": []
  },
  {
   "cell_type": "code",
   "execution_count": null,
   "id": "1860bb65-994e-4b61-9636-c6f7ea99c1b6",
   "metadata": {},
   "outputs": [],
   "source": []
  }
 ],
 "metadata": {
  "kernelspec": {
   "display_name": "Python 3 (ipykernel)",
   "language": "python",
   "name": "python3"
  },
  "language_info": {
   "codemirror_mode": {
    "name": "ipython",
    "version": 3
   },
   "file_extension": ".py",
   "mimetype": "text/x-python",
   "name": "python",
   "nbconvert_exporter": "python",
   "pygments_lexer": "ipython3",
   "version": "3.7.16"
  }
 },
 "nbformat": 4,
 "nbformat_minor": 5
}
