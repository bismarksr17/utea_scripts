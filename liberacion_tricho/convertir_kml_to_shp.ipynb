{
 "cells": [
  {
   "cell_type": "code",
   "execution_count": 1,
   "id": "76931ea2-46e0-4c2b-9196-f371f34895ae",
   "metadata": {},
   "outputs": [],
   "source": [
    "import os\n",
    "import geopandas as gpd\n",
    "import geemap\n",
    "\n",
    "# Directorio donde están los archivos KML\n",
    "input_dir = 'kml/'\n",
    "\n",
    "# Directorio donde se guardarán los archivos SHP\n",
    "output_dir = 'shp/'"
   ]
  },
  {
   "cell_type": "code",
   "execution_count": 5,
   "id": "1c7f6832-5788-4770-86d9-9f8afe769a81",
   "metadata": {
    "tags": []
   },
   "outputs": [],
   "source": [
    "# Asegúrate de que el directorio de salida exista, si no, créalo\n",
    "os.makedirs(output_dir, exist_ok=True)"
   ]
  },
  {
   "cell_type": "code",
   "execution_count": 2,
   "id": "fff02d11-b416-4287-9d5d-aee21df89c4b",
   "metadata": {
    "tags": []
   },
   "outputs": [
    {
     "name": "stdout",
     "output_type": "stream",
     "text": [
      "Conversión completada.\n"
     ]
    }
   ],
   "source": [
    "\n",
    "# Asegúrate de que el directorio de salida exista, si no, créalo\n",
    "os.makedirs(output_dir, exist_ok=True)\n",
    "\n",
    "# Lista todos los archivos en el directorio de entrada\n",
    "for filename in os.listdir(input_dir):\n",
    "    if filename.endswith('.kml'):\n",
    "        # Ruta completa del archivo KML\n",
    "        kml_path = os.path.join(input_dir, filename)\n",
    "        \n",
    "        # Nombre del archivo de salida SHP (mismo nombre, extensión diferente)\n",
    "        shp_filename = os.path.splitext(filename)[0] + '.shp'\n",
    "        shp_path = os.path.join(output_dir, shp_filename)\n",
    "        \n",
    "        # Comando para convertir KML a SHP usando ogr2ogr\n",
    "        command = f\"ogr2ogr -f 'ESRI Shapefile' {shp_path} {kml_path}\"\n",
    "        os.system(command)\n",
    "\n",
    "print('Conversión completada.')\n"
   ]
  },
  {
   "cell_type": "code",
   "execution_count": null,
   "id": "2b147dc3-6779-47d0-b0be-c64b0f4a81ce",
   "metadata": {},
   "outputs": [],
   "source": []
  }
 ],
 "metadata": {
  "kernelspec": {
   "display_name": "Python 3 (ipykernel)",
   "language": "python",
   "name": "python3"
  },
  "language_info": {
   "codemirror_mode": {
    "name": "ipython",
    "version": 3
   },
   "file_extension": ".py",
   "mimetype": "text/x-python",
   "name": "python",
   "nbconvert_exporter": "python",
   "pygments_lexer": "ipython3",
   "version": "3.10.13"
  }
 },
 "nbformat": 4,
 "nbformat_minor": 5
}
