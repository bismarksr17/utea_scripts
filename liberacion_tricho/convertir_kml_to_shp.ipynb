{
 "cells": [
  {
   "cell_type": "code",
   "execution_count": 67,
   "id": "76bdbda2-cb40-4967-a3c8-a57fe7fe2762",
   "metadata": {},
   "outputs": [
    {
     "data": {
      "text/html": [
       "\n",
       "            <style>\n",
       "                .geemap-dark {\n",
       "                    --jp-widgets-color: white;\n",
       "                    --jp-widgets-label-color: white;\n",
       "                    --jp-ui-font-color1: white;\n",
       "                    --jp-layout-color2: #454545;\n",
       "                    background-color: #383838;\n",
       "                }\n",
       "                    \n",
       "                .geemap-dark .jupyter-button {\n",
       "                    --jp-layout-color3: #383838;\n",
       "                }\n",
       "                \n",
       "                .geemap-colab {\n",
       "                    background-color: var(--colab-primary-surface-color, white);\n",
       "                }\n",
       "                    \n",
       "                .geemap-colab .jupyter-button {\n",
       "                    --jp-layout-color3: var(--colab-primary-surface-color, white);\n",
       "                }\n",
       "            </style>\n",
       "            "
      ],
      "text/plain": [
       "<IPython.core.display.HTML object>"
      ]
     },
     "metadata": {},
     "output_type": "display_data"
    }
   ],
   "source": [
    "import re\n",
    "from datetime import datetime"
   ]
  },
  {
   "cell_type": "code",
   "execution_count": 68,
   "id": "76931ea2-46e0-4c2b-9196-f371f34895ae",
   "metadata": {
    "tags": []
   },
   "outputs": [
    {
     "data": {
      "text/html": [
       "\n",
       "            <style>\n",
       "                .geemap-dark {\n",
       "                    --jp-widgets-color: white;\n",
       "                    --jp-widgets-label-color: white;\n",
       "                    --jp-ui-font-color1: white;\n",
       "                    --jp-layout-color2: #454545;\n",
       "                    background-color: #383838;\n",
       "                }\n",
       "                    \n",
       "                .geemap-dark .jupyter-button {\n",
       "                    --jp-layout-color3: #383838;\n",
       "                }\n",
       "                \n",
       "                .geemap-colab {\n",
       "                    background-color: var(--colab-primary-surface-color, white);\n",
       "                }\n",
       "                    \n",
       "                .geemap-colab .jupyter-button {\n",
       "                    --jp-layout-color3: var(--colab-primary-surface-color, white);\n",
       "                }\n",
       "            </style>\n",
       "            "
      ],
      "text/plain": [
       "<IPython.core.display.HTML object>"
      ]
     },
     "metadata": {},
     "output_type": "display_data"
    }
   ],
   "source": [
    "import os\n",
    "import geopandas as gpd\n",
    "import geemap\n",
    "import xml.etree.ElementTree as ET\n",
    "import pandas as pd\n",
    "from shapely.geometry import LineString\n",
    "\n",
    "# constante requerida\n",
    "namespace = {\"kml\": \"http://www.opengis.net/kml/2.2\"}"
   ]
  },
  {
   "cell_type": "code",
   "execution_count": 69,
   "id": "2b147dc3-6779-47d0-b0be-c64b0f4a81ce",
   "metadata": {
    "tags": []
   },
   "outputs": [
    {
     "data": {
      "text/html": [
       "\n",
       "            <style>\n",
       "                .geemap-dark {\n",
       "                    --jp-widgets-color: white;\n",
       "                    --jp-widgets-label-color: white;\n",
       "                    --jp-ui-font-color1: white;\n",
       "                    --jp-layout-color2: #454545;\n",
       "                    background-color: #383838;\n",
       "                }\n",
       "                    \n",
       "                .geemap-dark .jupyter-button {\n",
       "                    --jp-layout-color3: #383838;\n",
       "                }\n",
       "                \n",
       "                .geemap-colab {\n",
       "                    background-color: var(--colab-primary-surface-color, white);\n",
       "                }\n",
       "                    \n",
       "                .geemap-colab .jupyter-button {\n",
       "                    --jp-layout-color3: var(--colab-primary-surface-color, white);\n",
       "                }\n",
       "            </style>\n",
       "            "
      ],
      "text/plain": [
       "<IPython.core.display.HTML object>"
      ]
     },
     "metadata": {},
     "output_type": "display_data"
    },
    {
     "data": {
      "text/plain": [
       "100"
      ]
     },
     "execution_count": 69,
     "metadata": {},
     "output_type": "execute_result"
    }
   ],
   "source": [
    "# Directorio donde están los archivos KML\n",
    "path_kml = r'G:/OneDrive - Ingenio Azucarero Guabira S.A/UTEA_2023/PROYECTO AREA LIBERACION/LOGS/cierre_151223/'\n",
    "contenido = os.listdir(path_kml)\n",
    "len(contenido)"
   ]
  },
  {
   "cell_type": "code",
   "execution_count": 70,
   "id": "ca8a992c-0f2e-48b1-b973-18cf7c30ab66",
   "metadata": {},
   "outputs": [
    {
     "data": {
      "text/html": [
       "\n",
       "            <style>\n",
       "                .geemap-dark {\n",
       "                    --jp-widgets-color: white;\n",
       "                    --jp-widgets-label-color: white;\n",
       "                    --jp-ui-font-color1: white;\n",
       "                    --jp-layout-color2: #454545;\n",
       "                    background-color: #383838;\n",
       "                }\n",
       "                    \n",
       "                .geemap-dark .jupyter-button {\n",
       "                    --jp-layout-color3: #383838;\n",
       "                }\n",
       "                \n",
       "                .geemap-colab {\n",
       "                    background-color: var(--colab-primary-surface-color, white);\n",
       "                }\n",
       "                    \n",
       "                .geemap-colab .jupyter-button {\n",
       "                    --jp-layout-color3: var(--colab-primary-surface-color, white);\n",
       "                }\n",
       "            </style>\n",
       "            "
      ],
      "text/plain": [
       "<IPython.core.display.HTML object>"
      ]
     },
     "metadata": {},
     "output_type": "display_data"
    },
    {
     "data": {
      "text/plain": [
       "['Dec-12th-2023-11-01AM-Flight-Airdata.kml',\n",
       " 'Dec-12th-2023-11-03AM-Flight-Airdata.kml',\n",
       " 'Dec-12th-2023-12-49AM-Flight-Airdata.kml',\n",
       " 'Dec-13th-2023-09-05PM-Flight-Airdata.kml',\n",
       " 'Dec-13th-2023-09-22PM-Flight-Airdata.kml',\n",
       " 'Dec-14th-2023-01-29AM-Flight-Airdata.kml',\n",
       " 'Dec-14th-2023-03-27AM-Flight-Airdata.kml',\n",
       " 'Dec-14th-2023-12-27AM-Flight-Airdata.kml',\n",
       " 'Dec-1st-2023-04-02AM-Flight-Airdata.kml',\n",
       " 'Dec-1st-2023-08-00AM-Flight-Airdata.kml',\n",
       " 'Dec-1st-2023-08-22AM-Flight-Airdata.kml',\n",
       " 'Dec-1st-2023-12-06AM-Flight-Airdata.kml',\n",
       " 'Dec-4th-2023-03-25AM-Flight-Airdata.kml',\n",
       " 'Dec-4th-2023-04-48AM-Flight-Airdata (1).kml',\n",
       " 'Dec-4th-2023-04-48AM-Flight-Airdata.kml',\n",
       " 'Dec-4th-2023-05-01AM-Flight-Airdata.kml',\n",
       " 'Dec-4th-2023-05-09AM-Flight-Airdata.kml',\n",
       " 'Dec-4th-2023-05-37AM-Flight-Airdata.kml',\n",
       " 'Dec-4th-2023-06-09AM-Flight-Airdata.kml',\n",
       " 'Dec-4th-2023-06-32AM-Flight-Airdata.kml',\n",
       " 'Dec-4th-2023-06-47AM-Flight-Airdata.kml',\n",
       " 'Dec-4th-2023-07-21AM-Flight-Airdata.kml',\n",
       " 'Dec-4th-2023-07-30AM-Flight-Airdata.kml',\n",
       " 'Dec-4th-2023-07-42AM-Flight-Airdata.kml',\n",
       " 'Dec-4th-2023-07-49AM-Flight-Airdata.kml',\n",
       " 'Dec-4th-2023-09-37AM-Flight-Airdata (1).kml',\n",
       " 'Dec-4th-2023-09-37AM-Flight-Airdata.kml',\n",
       " 'Dec-5th-2023-02-50AM-Flight-Airdata.kml',\n",
       " 'Dec-8th-2023-02-23AM-Flight-Airdata.kml',\n",
       " 'Dec-8th-2023-02-25AM-Flight-Airdata.kml',\n",
       " 'Dec-8th-2023-03-34AM-Flight-Airdata.kml',\n",
       " 'Nov-10th-2023-02-12PM-Flight-Airdata (1).kml',\n",
       " 'Nov-10th-2023-02-13PM-Flight-Airdata (2).kml',\n",
       " 'Nov-10th-2023-02-13PM-Flight-Airdata (3).kml',\n",
       " 'Nov-10th-2023-03-31PM-Flight-Airdata.kml',\n",
       " 'Nov-10th-2023-08-53AM-Flight-Airdata (1).kml',\n",
       " 'Nov-10th-2023-09-20AM-Flight-Airdata (1).kml',\n",
       " 'Nov-10th-2023-11-27AM-Flight-Airdata (1).kml',\n",
       " 'Nov-10th-2023-11-38AM-Flight-Airdata.kml',\n",
       " 'Nov-14th-2023-04-19AM-Flight-Airdata.kml',\n",
       " 'Nov-14th-2023-05-20AM-Flight-Airdata.kml',\n",
       " 'Nov-14th-2023-07-58AM-Flight-Airdata.kml',\n",
       " 'Nov-14th-2023-08-00AM-Flight-Airdata.kml',\n",
       " 'Nov-14th-2023-10-13AM-Flight-Airdata.kml',\n",
       " 'Nov-18th-2023-10-36PM-Flight-Airdata.kml',\n",
       " 'Nov-19th-2023-07-06AM-Flight-Airdata.kml',\n",
       " 'Nov-20th-2023-02-03AM-Flight-Airdata.kml',\n",
       " 'Nov-23rd-2023-01-19AM-Flight-Airdata (1).kml',\n",
       " 'Nov-23rd-2023-03-19AM-Flight-Airdata (1).kml',\n",
       " 'Nov-23rd-2023-03-41AM-Flight-Airdata (1).kml',\n",
       " 'Nov-23rd-2023-03-45AM-Flight-Airdata (1).kml',\n",
       " 'Nov-23rd-2023-05-26AM-Flight-Airdata (1).kml',\n",
       " 'Nov-23rd-2023-05-42AM-Flight-Airdata (1).kml',\n",
       " 'Nov-23rd-2023-05-53AM-Flight-Airdata (1).kml',\n",
       " 'Nov-23rd-2023-06-06AM-Flight-Airdata (1).kml',\n",
       " 'Nov-23rd-2023-06-15AM-Flight-Airdata (1).kml',\n",
       " 'Nov-23rd-2023-07-09AM-Flight-Airdata (1).kml',\n",
       " 'Nov-23rd-2023-07-45PM-Flight-Airdata (1).kml',\n",
       " 'Nov-23rd-2023-07-54AM-Flight-Airdata (1).kml',\n",
       " 'Nov-23rd-2023-07-58AM-Flight-Airdata (1).kml',\n",
       " 'Nov-23rd-2023-08-06AM-Flight-Airdata (1).kml',\n",
       " 'Nov-23rd-2023-08-35AM-Flight-Airdata (1).kml',\n",
       " 'Nov-23rd-2023-09-07AM-Flight-Airdata (1).kml',\n",
       " 'Nov-23rd-2023-09-52PM-Flight-Airdata (1).kml',\n",
       " 'Nov-23rd-2023-10-27PM-Flight-Airdata.kml',\n",
       " 'Nov-23rd-2023-11-37PM-Flight-Airdata (1).kml',\n",
       " 'Nov-24th-2023-01-19AM-Flight-Airdata (1).kml',\n",
       " 'Nov-24th-2023-01-39AM-Flight-Airdata (1).kml',\n",
       " 'Nov-24th-2023-01-58AM-Flight-Airdata (1).kml',\n",
       " 'Nov-24th-2023-05-40AM-Flight-Airdata (1).kml',\n",
       " 'Nov-24th-2023-12-20AM-Flight-Airdata (1).kml',\n",
       " 'Nov-24th-2023-12-25AM-Flight-Airdata (1).kml',\n",
       " 'Nov-24th-2023-12-50AM-Flight-Airdata (1).kml',\n",
       " 'Nov-24th-2023-12-51AM-Flight-Airdata (1).kml',\n",
       " 'Nov-26th-2023-09-22PM-Flight-Airdata (1).kml',\n",
       " 'Nov-26th-2023-10-38PM-Flight-Airdata (1).kml',\n",
       " 'Nov-27th-2023-01-49AM-Flight-Airdata (1).kml',\n",
       " 'Nov-27th-2023-02-00AM-Flight-Airdata (1).kml',\n",
       " 'Nov-27th-2023-06-33AM-Flight-Airdata (1).kml',\n",
       " 'Nov-27th-2023-12-08AM-Flight-Airdata (1).kml',\n",
       " 'Nov-28th-2023-02-43AM-Flight-Airdata.kml',\n",
       " 'Nov-28th-2023-04-07AM-Flight-Airdata.kml',\n",
       " 'Nov-28th-2023-05-53AM-Flight-Airdata.kml',\n",
       " 'Nov-28th-2023-06-11AM-Flight-Airdata.kml',\n",
       " 'Nov-28th-2023-06-23AM-Flight-Airdata.kml',\n",
       " 'Nov-28th-2023-06-36AM-Flight-Airdata.kml',\n",
       " 'Nov-28th-2023-06-46AM-Flight-Airdata.kml',\n",
       " 'Nov-28th-2023-06-52AM-Flight-Airdata.kml',\n",
       " 'Nov-28th-2023-09-00PM-Flight-Airdata.kml',\n",
       " 'Nov-28th-2023-12-02AM-Flight-Airdata.kml',\n",
       " 'Nov-29th-2023-02-11AM-Flight-Airdata.kml',\n",
       " 'Nov-29th-2023-02-33AM-Flight-Airdata.kml',\n",
       " 'Nov-29th-2023-03-06AM-Flight-Airdata.kml',\n",
       " 'Nov-29th-2023-07-04AM-Flight-Airdata.kml',\n",
       " 'Nov-29th-2023-12-49AM-Flight-Airdata.kml',\n",
       " 'Nov-30th-2023-01-24AM-Flight-Airdata.kml',\n",
       " 'Nov-30th-2023-02-40AM-Flight-Airdata.kml',\n",
       " 'Nov-30th-2023-03-10AM-Flight-Airdata.kml',\n",
       " 'Nov-30th-2023-03-35AM-Flight-Airdata.kml',\n",
       " 'Nov-30th-2023-05-37AM-Flight-Airdata.kml']"
      ]
     },
     "execution_count": 70,
     "metadata": {},
     "output_type": "execute_result"
    }
   ],
   "source": [
    "contenido"
   ]
  },
  {
   "cell_type": "code",
   "execution_count": 71,
   "id": "bec38e53-9581-49d8-a2c1-75143e6b9016",
   "metadata": {},
   "outputs": [
    {
     "data": {
      "text/html": [
       "\n",
       "            <style>\n",
       "                .geemap-dark {\n",
       "                    --jp-widgets-color: white;\n",
       "                    --jp-widgets-label-color: white;\n",
       "                    --jp-ui-font-color1: white;\n",
       "                    --jp-layout-color2: #454545;\n",
       "                    background-color: #383838;\n",
       "                }\n",
       "                    \n",
       "                .geemap-dark .jupyter-button {\n",
       "                    --jp-layout-color3: #383838;\n",
       "                }\n",
       "                \n",
       "                .geemap-colab {\n",
       "                    background-color: var(--colab-primary-surface-color, white);\n",
       "                }\n",
       "                    \n",
       "                .geemap-colab .jupyter-button {\n",
       "                    --jp-layout-color3: var(--colab-primary-surface-color, white);\n",
       "                }\n",
       "            </style>\n",
       "            "
      ],
      "text/plain": [
       "<IPython.core.display.HTML object>"
      ]
     },
     "metadata": {},
     "output_type": "display_data"
    }
   ],
   "source": [
    "def extraer_fecha(fecha_txt):\n",
    "    match = re.search(r\"([A-Za-z]{3}-\\d{1,2}[a-z]{2}-\\d{4})\", fecha_txt)\n",
    "    return match.group(1) if match else None\n",
    "\n",
    "def format_date(date_str):\n",
    "    try:\n",
    "        # Eliminar sufijos ordinales para facilitar la conversión\n",
    "        date_without_suffix = re.sub(r'(st|nd|rd|th)', '', date_str)\n",
    "        return pd.to_datetime(date_without_suffix, format='%b-%d-%Y').strftime('%d/%m/%Y')\n",
    "    except:\n",
    "        return None\n",
    "\n",
    "def week_number(date_str):\n",
    "    \"\"\"\n",
    "    Retorna el número de semana del año para una fecha dada en formato \"dd/mm/aaaa\".\n",
    "    \"\"\"\n",
    "    try:\n",
    "        date_obj = pd.to_datetime(date_str, format='%d/%m/%Y')\n",
    "        return date_obj.isocalendar()[1]  # El segundo valor de isocalendar() es el número de semana\n",
    "    except:\n",
    "        return None"
   ]
  },
  {
   "cell_type": "code",
   "execution_count": 72,
   "id": "44a2da82-e3af-43bb-8a0a-a0b81fbb1775",
   "metadata": {
    "tags": []
   },
   "outputs": [
    {
     "data": {
      "text/html": [
       "\n",
       "            <style>\n",
       "                .geemap-dark {\n",
       "                    --jp-widgets-color: white;\n",
       "                    --jp-widgets-label-color: white;\n",
       "                    --jp-ui-font-color1: white;\n",
       "                    --jp-layout-color2: #454545;\n",
       "                    background-color: #383838;\n",
       "                }\n",
       "                    \n",
       "                .geemap-dark .jupyter-button {\n",
       "                    --jp-layout-color3: #383838;\n",
       "                }\n",
       "                \n",
       "                .geemap-colab {\n",
       "                    background-color: var(--colab-primary-surface-color, white);\n",
       "                }\n",
       "                    \n",
       "                .geemap-colab .jupyter-button {\n",
       "                    --jp-layout-color3: var(--colab-primary-surface-color, white);\n",
       "                }\n",
       "            </style>\n",
       "            "
      ],
      "text/plain": [
       "<IPython.core.display.HTML object>"
      ]
     },
     "metadata": {},
     "output_type": "display_data"
    }
   ],
   "source": [
    "# lista para almacenar nombres de archivo\n",
    "file_name = []\n",
    "# lista para alamcenar recorridos\n",
    "lineas = []\n",
    "\n",
    "# itera sobre la lista de nombres de archivos\n",
    "for i in contenido:\n",
    "    # directorio + nombre de archivo\n",
    "    path = path_kml + i\n",
    "    # leer el arbol de contenido del archivo\n",
    "    tree = ET.parse(path)\n",
    "    root = tree.getroot()\n",
    "    for placemark in root.findall(\".//kml:Placemark\", namespace):\n",
    "        coord_text = placemark.find(\".//kml:coordinates\", namespace).text.strip()\n",
    "        # obtiene las cooredenadas\n",
    "        coords = coord_text.split('\\n')\n",
    "        # lista para guardar las coors\n",
    "        coordinates = []\n",
    "        # recorre las coors\n",
    "        for j in coords:\n",
    "            # split para separa el 3er elemento que acompaña las coors\n",
    "            coord = j.split(',')\n",
    "            # agrega las coors a la lista\n",
    "            coordinates.append((float(coord[0]), float(coord[1])))\n",
    "    # conviente en DF\n",
    "    df = pd.DataFrame(coordinates, columns=['Longitude', 'Latitude'])\n",
    "    # convierte en GDF\n",
    "    gdf = gpd.GeoDataFrame(df, geometry=gpd.points_from_xy(df.Longitude, df.Latitude))\n",
    "    # convierte el GDF en Linea\n",
    "    line = LineString(gdf.geometry.tolist())\n",
    "    # se almacena en listas el nombre del archivo y la geomedia del recorrido\n",
    "    file_name.append(i)\n",
    "    lineas.append(line)"
   ]
  },
  {
   "cell_type": "code",
   "execution_count": 73,
   "id": "6d30a40a-b05d-4efa-9107-1fccbe49378e",
   "metadata": {},
   "outputs": [
    {
     "data": {
      "text/html": [
       "\n",
       "            <style>\n",
       "                .geemap-dark {\n",
       "                    --jp-widgets-color: white;\n",
       "                    --jp-widgets-label-color: white;\n",
       "                    --jp-ui-font-color1: white;\n",
       "                    --jp-layout-color2: #454545;\n",
       "                    background-color: #383838;\n",
       "                }\n",
       "                    \n",
       "                .geemap-dark .jupyter-button {\n",
       "                    --jp-layout-color3: #383838;\n",
       "                }\n",
       "                \n",
       "                .geemap-colab {\n",
       "                    background-color: var(--colab-primary-surface-color, white);\n",
       "                }\n",
       "                    \n",
       "                .geemap-colab .jupyter-button {\n",
       "                    --jp-layout-color3: var(--colab-primary-surface-color, white);\n",
       "                }\n",
       "            </style>\n",
       "            "
      ],
      "text/plain": [
       "<IPython.core.display.HTML object>"
      ]
     },
     "metadata": {},
     "output_type": "display_data"
    }
   ],
   "source": [
    "fechas = [extraer_fecha(i) for i in file_name]"
   ]
  },
  {
   "cell_type": "code",
   "execution_count": 74,
   "id": "d69d298a-6494-4ce8-9721-377323eafc90",
   "metadata": {},
   "outputs": [
    {
     "data": {
      "text/html": [
       "\n",
       "            <style>\n",
       "                .geemap-dark {\n",
       "                    --jp-widgets-color: white;\n",
       "                    --jp-widgets-label-color: white;\n",
       "                    --jp-ui-font-color1: white;\n",
       "                    --jp-layout-color2: #454545;\n",
       "                    background-color: #383838;\n",
       "                }\n",
       "                    \n",
       "                .geemap-dark .jupyter-button {\n",
       "                    --jp-layout-color3: #383838;\n",
       "                }\n",
       "                \n",
       "                .geemap-colab {\n",
       "                    background-color: var(--colab-primary-surface-color, white);\n",
       "                }\n",
       "                    \n",
       "                .geemap-colab .jupyter-button {\n",
       "                    --jp-layout-color3: var(--colab-primary-surface-color, white);\n",
       "                }\n",
       "            </style>\n",
       "            "
      ],
      "text/plain": [
       "<IPython.core.display.HTML object>"
      ]
     },
     "metadata": {},
     "output_type": "display_data"
    }
   ],
   "source": [
    "fechas = [format_date(i) for i in fechas]"
   ]
  },
  {
   "cell_type": "code",
   "execution_count": 75,
   "id": "768335eb-4b73-48ef-8031-28b0a1f262b2",
   "metadata": {},
   "outputs": [
    {
     "data": {
      "text/html": [
       "\n",
       "            <style>\n",
       "                .geemap-dark {\n",
       "                    --jp-widgets-color: white;\n",
       "                    --jp-widgets-label-color: white;\n",
       "                    --jp-ui-font-color1: white;\n",
       "                    --jp-layout-color2: #454545;\n",
       "                    background-color: #383838;\n",
       "                }\n",
       "                    \n",
       "                .geemap-dark .jupyter-button {\n",
       "                    --jp-layout-color3: #383838;\n",
       "                }\n",
       "                \n",
       "                .geemap-colab {\n",
       "                    background-color: var(--colab-primary-surface-color, white);\n",
       "                }\n",
       "                    \n",
       "                .geemap-colab .jupyter-button {\n",
       "                    --jp-layout-color3: var(--colab-primary-surface-color, white);\n",
       "                }\n",
       "            </style>\n",
       "            "
      ],
      "text/plain": [
       "<IPython.core.display.HTML object>"
      ]
     },
     "metadata": {},
     "output_type": "display_data"
    }
   ],
   "source": [
    "semanas = [week_number(i) for i in fechas]"
   ]
  },
  {
   "cell_type": "code",
   "execution_count": null,
   "id": "394708fe-7fc2-4c7a-924b-2ddb212a42d1",
   "metadata": {},
   "outputs": [],
   "source": []
  },
  {
   "cell_type": "code",
   "execution_count": null,
   "id": "275a3059-d2cb-41b4-9054-f65f5eb4312b",
   "metadata": {},
   "outputs": [],
   "source": []
  },
  {
   "cell_type": "code",
   "execution_count": 76,
   "id": "6d8cb069-7afd-460d-bd0b-1084acc7828a",
   "metadata": {
    "tags": []
   },
   "outputs": [
    {
     "data": {
      "text/html": [
       "\n",
       "            <style>\n",
       "                .geemap-dark {\n",
       "                    --jp-widgets-color: white;\n",
       "                    --jp-widgets-label-color: white;\n",
       "                    --jp-ui-font-color1: white;\n",
       "                    --jp-layout-color2: #454545;\n",
       "                    background-color: #383838;\n",
       "                }\n",
       "                    \n",
       "                .geemap-dark .jupyter-button {\n",
       "                    --jp-layout-color3: #383838;\n",
       "                }\n",
       "                \n",
       "                .geemap-colab {\n",
       "                    background-color: var(--colab-primary-surface-color, white);\n",
       "                }\n",
       "                    \n",
       "                .geemap-colab .jupyter-button {\n",
       "                    --jp-layout-color3: var(--colab-primary-surface-color, white);\n",
       "                }\n",
       "            </style>\n",
       "            "
      ],
      "text/plain": [
       "<IPython.core.display.HTML object>"
      ]
     },
     "metadata": {},
     "output_type": "display_data"
    }
   ],
   "source": [
    "# dic con la geometria y el file_name\n",
    "data_lineas = {\n",
    "    'geometry': lineas,\n",
    "    'nombre': file_name,\n",
    "    'fecha' : fechas,\n",
    "    'semana' : semanas\n",
    "}"
   ]
  },
  {
   "cell_type": "code",
   "execution_count": 77,
   "id": "1fa256a5-41f2-4b47-819f-09d3bd718980",
   "metadata": {
    "tags": []
   },
   "outputs": [
    {
     "data": {
      "text/html": [
       "\n",
       "            <style>\n",
       "                .geemap-dark {\n",
       "                    --jp-widgets-color: white;\n",
       "                    --jp-widgets-label-color: white;\n",
       "                    --jp-ui-font-color1: white;\n",
       "                    --jp-layout-color2: #454545;\n",
       "                    background-color: #383838;\n",
       "                }\n",
       "                    \n",
       "                .geemap-dark .jupyter-button {\n",
       "                    --jp-layout-color3: #383838;\n",
       "                }\n",
       "                \n",
       "                .geemap-colab {\n",
       "                    background-color: var(--colab-primary-surface-color, white);\n",
       "                }\n",
       "                    \n",
       "                .geemap-colab .jupyter-button {\n",
       "                    --jp-layout-color3: var(--colab-primary-surface-color, white);\n",
       "                }\n",
       "            </style>\n",
       "            "
      ],
      "text/plain": [
       "<IPython.core.display.HTML object>"
      ]
     },
     "metadata": {},
     "output_type": "display_data"
    }
   ],
   "source": [
    "gdf_lineas = gpd.GeoDataFrame(data_lineas)"
   ]
  },
  {
   "cell_type": "code",
   "execution_count": 78,
   "id": "e95033d3-7b65-4398-b2b4-b6398faf9fff",
   "metadata": {
    "tags": []
   },
   "outputs": [
    {
     "data": {
      "text/html": [
       "\n",
       "            <style>\n",
       "                .geemap-dark {\n",
       "                    --jp-widgets-color: white;\n",
       "                    --jp-widgets-label-color: white;\n",
       "                    --jp-ui-font-color1: white;\n",
       "                    --jp-layout-color2: #454545;\n",
       "                    background-color: #383838;\n",
       "                }\n",
       "                    \n",
       "                .geemap-dark .jupyter-button {\n",
       "                    --jp-layout-color3: #383838;\n",
       "                }\n",
       "                \n",
       "                .geemap-colab {\n",
       "                    background-color: var(--colab-primary-surface-color, white);\n",
       "                }\n",
       "                    \n",
       "                .geemap-colab .jupyter-button {\n",
       "                    --jp-layout-color3: var(--colab-primary-surface-color, white);\n",
       "                }\n",
       "            </style>\n",
       "            "
      ],
      "text/plain": [
       "<IPython.core.display.HTML object>"
      ]
     },
     "metadata": {},
     "output_type": "display_data"
    }
   ],
   "source": [
    "gdf_lineas.crs = \"EPSG:4326\""
   ]
  },
  {
   "cell_type": "code",
   "execution_count": 79,
   "id": "422ff311-5566-4a50-8c8b-cf8fa7a17ded",
   "metadata": {
    "tags": []
   },
   "outputs": [
    {
     "data": {
      "text/html": [
       "\n",
       "            <style>\n",
       "                .geemap-dark {\n",
       "                    --jp-widgets-color: white;\n",
       "                    --jp-widgets-label-color: white;\n",
       "                    --jp-ui-font-color1: white;\n",
       "                    --jp-layout-color2: #454545;\n",
       "                    background-color: #383838;\n",
       "                }\n",
       "                    \n",
       "                .geemap-dark .jupyter-button {\n",
       "                    --jp-layout-color3: #383838;\n",
       "                }\n",
       "                \n",
       "                .geemap-colab {\n",
       "                    background-color: var(--colab-primary-surface-color, white);\n",
       "                }\n",
       "                    \n",
       "                .geemap-colab .jupyter-button {\n",
       "                    --jp-layout-color3: var(--colab-primary-surface-color, white);\n",
       "                }\n",
       "            </style>\n",
       "            "
      ],
      "text/plain": [
       "<IPython.core.display.HTML object>"
      ]
     },
     "metadata": {},
     "output_type": "display_data"
    }
   ],
   "source": [
    "gdf_lineas = gdf_lineas.to_crs(epsg=32720)"
   ]
  },
  {
   "cell_type": "code",
   "execution_count": 80,
   "id": "05bda40f-a78e-4fc6-be18-4aeb06dd8825",
   "metadata": {},
   "outputs": [
    {
     "data": {
      "text/html": [
       "\n",
       "            <style>\n",
       "                .geemap-dark {\n",
       "                    --jp-widgets-color: white;\n",
       "                    --jp-widgets-label-color: white;\n",
       "                    --jp-ui-font-color1: white;\n",
       "                    --jp-layout-color2: #454545;\n",
       "                    background-color: #383838;\n",
       "                }\n",
       "                    \n",
       "                .geemap-dark .jupyter-button {\n",
       "                    --jp-layout-color3: #383838;\n",
       "                }\n",
       "                \n",
       "                .geemap-colab {\n",
       "                    background-color: var(--colab-primary-surface-color, white);\n",
       "                }\n",
       "                    \n",
       "                .geemap-colab .jupyter-button {\n",
       "                    --jp-layout-color3: var(--colab-primary-surface-color, white);\n",
       "                }\n",
       "            </style>\n",
       "            "
      ],
      "text/plain": [
       "<IPython.core.display.HTML object>"
      ]
     },
     "metadata": {},
     "output_type": "display_data"
    },
    {
     "data": {
      "text/html": [
       "<div>\n",
       "<style scoped>\n",
       "    .dataframe tbody tr th:only-of-type {\n",
       "        vertical-align: middle;\n",
       "    }\n",
       "\n",
       "    .dataframe tbody tr th {\n",
       "        vertical-align: top;\n",
       "    }\n",
       "\n",
       "    .dataframe thead th {\n",
       "        text-align: right;\n",
       "    }\n",
       "</style>\n",
       "<table border=\"1\" class=\"dataframe\">\n",
       "  <thead>\n",
       "    <tr style=\"text-align: right;\">\n",
       "      <th></th>\n",
       "      <th>geometry</th>\n",
       "      <th>nombre</th>\n",
       "      <th>fecha</th>\n",
       "      <th>semana</th>\n",
       "    </tr>\n",
       "  </thead>\n",
       "  <tbody>\n",
       "    <tr>\n",
       "      <th>0</th>\n",
       "      <td>LINESTRING (482289.229 8101086.244, 482289.227...</td>\n",
       "      <td>Dec-12th-2023-11-01AM-Flight-Airdata.kml</td>\n",
       "      <td>12/12/2023</td>\n",
       "      <td>50</td>\n",
       "    </tr>\n",
       "    <tr>\n",
       "      <th>1</th>\n",
       "      <td>LINESTRING (482950.833 8101685.753, 482950.833...</td>\n",
       "      <td>Dec-12th-2023-11-03AM-Flight-Airdata.kml</td>\n",
       "      <td>12/12/2023</td>\n",
       "      <td>50</td>\n",
       "    </tr>\n",
       "    <tr>\n",
       "      <th>2</th>\n",
       "      <td>LINESTRING (486174.249 8104638.277, 486174.244...</td>\n",
       "      <td>Dec-12th-2023-12-49AM-Flight-Airdata.kml</td>\n",
       "      <td>12/12/2023</td>\n",
       "      <td>50</td>\n",
       "    </tr>\n",
       "    <tr>\n",
       "      <th>3</th>\n",
       "      <td>LINESTRING (477098.622 8097784.337, 477098.622...</td>\n",
       "      <td>Dec-13th-2023-09-05PM-Flight-Airdata.kml</td>\n",
       "      <td>13/12/2023</td>\n",
       "      <td>50</td>\n",
       "    </tr>\n",
       "    <tr>\n",
       "      <th>4</th>\n",
       "      <td>LINESTRING (477099.831 8097787.632, 477099.836...</td>\n",
       "      <td>Dec-13th-2023-09-22PM-Flight-Airdata.kml</td>\n",
       "      <td>13/12/2023</td>\n",
       "      <td>50</td>\n",
       "    </tr>\n",
       "    <tr>\n",
       "      <th>...</th>\n",
       "      <td>...</td>\n",
       "      <td>...</td>\n",
       "      <td>...</td>\n",
       "      <td>...</td>\n",
       "    </tr>\n",
       "    <tr>\n",
       "      <th>95</th>\n",
       "      <td>LINESTRING (499622.691 8090651.005, 499622.689...</td>\n",
       "      <td>Nov-30th-2023-01-24AM-Flight-Airdata.kml</td>\n",
       "      <td>30/11/2023</td>\n",
       "      <td>48</td>\n",
       "    </tr>\n",
       "    <tr>\n",
       "      <th>96</th>\n",
       "      <td>LINESTRING (489495.868 8092764.319, 489495.869...</td>\n",
       "      <td>Nov-30th-2023-02-40AM-Flight-Airdata.kml</td>\n",
       "      <td>30/11/2023</td>\n",
       "      <td>48</td>\n",
       "    </tr>\n",
       "    <tr>\n",
       "      <th>97</th>\n",
       "      <td>LINESTRING (489796.453 8092679.795, 489796.505...</td>\n",
       "      <td>Nov-30th-2023-03-10AM-Flight-Airdata.kml</td>\n",
       "      <td>30/11/2023</td>\n",
       "      <td>48</td>\n",
       "    </tr>\n",
       "    <tr>\n",
       "      <th>98</th>\n",
       "      <td>LINESTRING (490137.413 8093094.250, 490137.419...</td>\n",
       "      <td>Nov-30th-2023-03-35AM-Flight-Airdata.kml</td>\n",
       "      <td>30/11/2023</td>\n",
       "      <td>48</td>\n",
       "    </tr>\n",
       "    <tr>\n",
       "      <th>99</th>\n",
       "      <td>LINESTRING (499755.204 8091145.462, 499755.200...</td>\n",
       "      <td>Nov-30th-2023-05-37AM-Flight-Airdata.kml</td>\n",
       "      <td>30/11/2023</td>\n",
       "      <td>48</td>\n",
       "    </tr>\n",
       "  </tbody>\n",
       "</table>\n",
       "<p>100 rows × 4 columns</p>\n",
       "</div>"
      ],
      "text/plain": [
       "                                             geometry  \\\n",
       "0   LINESTRING (482289.229 8101086.244, 482289.227...   \n",
       "1   LINESTRING (482950.833 8101685.753, 482950.833...   \n",
       "2   LINESTRING (486174.249 8104638.277, 486174.244...   \n",
       "3   LINESTRING (477098.622 8097784.337, 477098.622...   \n",
       "4   LINESTRING (477099.831 8097787.632, 477099.836...   \n",
       "..                                                ...   \n",
       "95  LINESTRING (499622.691 8090651.005, 499622.689...   \n",
       "96  LINESTRING (489495.868 8092764.319, 489495.869...   \n",
       "97  LINESTRING (489796.453 8092679.795, 489796.505...   \n",
       "98  LINESTRING (490137.413 8093094.250, 490137.419...   \n",
       "99  LINESTRING (499755.204 8091145.462, 499755.200...   \n",
       "\n",
       "                                      nombre       fecha  semana  \n",
       "0   Dec-12th-2023-11-01AM-Flight-Airdata.kml  12/12/2023      50  \n",
       "1   Dec-12th-2023-11-03AM-Flight-Airdata.kml  12/12/2023      50  \n",
       "2   Dec-12th-2023-12-49AM-Flight-Airdata.kml  12/12/2023      50  \n",
       "3   Dec-13th-2023-09-05PM-Flight-Airdata.kml  13/12/2023      50  \n",
       "4   Dec-13th-2023-09-22PM-Flight-Airdata.kml  13/12/2023      50  \n",
       "..                                       ...         ...     ...  \n",
       "95  Nov-30th-2023-01-24AM-Flight-Airdata.kml  30/11/2023      48  \n",
       "96  Nov-30th-2023-02-40AM-Flight-Airdata.kml  30/11/2023      48  \n",
       "97  Nov-30th-2023-03-10AM-Flight-Airdata.kml  30/11/2023      48  \n",
       "98  Nov-30th-2023-03-35AM-Flight-Airdata.kml  30/11/2023      48  \n",
       "99  Nov-30th-2023-05-37AM-Flight-Airdata.kml  30/11/2023      48  \n",
       "\n",
       "[100 rows x 4 columns]"
      ]
     },
     "execution_count": 80,
     "metadata": {},
     "output_type": "execute_result"
    }
   ],
   "source": [
    "gdf_lineas"
   ]
  },
  {
   "cell_type": "code",
   "execution_count": 81,
   "id": "1b2fb03a-015f-4ffa-9db3-e5c7ec0445fe",
   "metadata": {
    "tags": []
   },
   "outputs": [
    {
     "data": {
      "text/html": [
       "\n",
       "            <style>\n",
       "                .geemap-dark {\n",
       "                    --jp-widgets-color: white;\n",
       "                    --jp-widgets-label-color: white;\n",
       "                    --jp-ui-font-color1: white;\n",
       "                    --jp-layout-color2: #454545;\n",
       "                    background-color: #383838;\n",
       "                }\n",
       "                    \n",
       "                .geemap-dark .jupyter-button {\n",
       "                    --jp-layout-color3: #383838;\n",
       "                }\n",
       "                \n",
       "                .geemap-colab {\n",
       "                    background-color: var(--colab-primary-surface-color, white);\n",
       "                }\n",
       "                    \n",
       "                .geemap-colab .jupyter-button {\n",
       "                    --jp-layout-color3: var(--colab-primary-surface-color, white);\n",
       "                }\n",
       "            </style>\n",
       "            "
      ],
      "text/plain": [
       "<IPython.core.display.HTML object>"
      ]
     },
     "metadata": {},
     "output_type": "display_data"
    },
    {
     "data": {
      "text/plain": [
       "<Axes: >"
      ]
     },
     "execution_count": 81,
     "metadata": {},
     "output_type": "execute_result"
    },
    {
     "data": {
      "image/png": "[encoded data removed]",
      "text/plain": [
       "<Figure size 640x480 with 1 Axes>"
      ]
     },
     "metadata": {},
     "output_type": "display_data"
    }
   ],
   "source": [
    "gdf_lineas.plot()"
   ]
  },
  {
   "cell_type": "code",
   "execution_count": 82,
   "id": "bcf22391-5a59-4fae-9d5a-cb9f7ea969b0",
   "metadata": {
    "tags": []
   },
   "outputs": [
    {
     "data": {
      "text/html": [
       "\n",
       "            <style>\n",
       "                .geemap-dark {\n",
       "                    --jp-widgets-color: white;\n",
       "                    --jp-widgets-label-color: white;\n",
       "                    --jp-ui-font-color1: white;\n",
       "                    --jp-layout-color2: #454545;\n",
       "                    background-color: #383838;\n",
       "                }\n",
       "                    \n",
       "                .geemap-dark .jupyter-button {\n",
       "                    --jp-layout-color3: #383838;\n",
       "                }\n",
       "                \n",
       "                .geemap-colab {\n",
       "                    background-color: var(--colab-primary-surface-color, white);\n",
       "                }\n",
       "                    \n",
       "                .geemap-colab .jupyter-button {\n",
       "                    --jp-layout-color3: var(--colab-primary-surface-color, white);\n",
       "                }\n",
       "            </style>\n",
       "            "
      ],
      "text/plain": [
       "<IPython.core.display.HTML object>"
      ]
     },
     "metadata": {},
     "output_type": "display_data"
    },
    {
     "data": {
      "text/plain": [
       "100"
      ]
     },
     "execution_count": 82,
     "metadata": {},
     "output_type": "execute_result"
    }
   ],
   "source": [
    "len(gdf_lineas)"
   ]
  },
  {
   "cell_type": "code",
   "execution_count": 83,
   "id": "e53ccc88-5562-4a1d-b02d-9811386431d7",
   "metadata": {
    "tags": []
   },
   "outputs": [
    {
     "data": {
      "text/html": [
       "\n",
       "            <style>\n",
       "                .geemap-dark {\n",
       "                    --jp-widgets-color: white;\n",
       "                    --jp-widgets-label-color: white;\n",
       "                    --jp-ui-font-color1: white;\n",
       "                    --jp-layout-color2: #454545;\n",
       "                    background-color: #383838;\n",
       "                }\n",
       "                    \n",
       "                .geemap-dark .jupyter-button {\n",
       "                    --jp-layout-color3: #383838;\n",
       "                }\n",
       "                \n",
       "                .geemap-colab {\n",
       "                    background-color: var(--colab-primary-surface-color, white);\n",
       "                }\n",
       "                    \n",
       "                .geemap-colab .jupyter-button {\n",
       "                    --jp-layout-color3: var(--colab-primary-surface-color, white);\n",
       "                }\n",
       "            </style>\n",
       "            "
      ],
      "text/plain": [
       "<IPython.core.display.HTML object>"
      ]
     },
     "metadata": {},
     "output_type": "display_data"
    }
   ],
   "source": [
    "gdf_lineas.to_file('capa_logs_6', driver=\"ESRI Shapefile\")"
   ]
  },
  {
   "cell_type": "code",
   "execution_count": null,
   "id": "411f0abd-dbdd-4f66-baff-24689da94120",
   "metadata": {},
   "outputs": [],
   "source": []
  },
  {
   "cell_type": "code",
   "execution_count": null,
   "id": "19d0826a-9172-41da-b16d-0e25bedb5dbf",
   "metadata": {},
   "outputs": [],
   "source": []
  },
  {
   "cell_type": "code",
   "execution_count": null,
   "id": "45c58798-bb89-4fd5-bf2c-e4e2ca83f985",
   "metadata": {},
   "outputs": [],
   "source": []
  },
  {
   "cell_type": "code",
   "execution_count": null,
   "id": "88900319-64f4-4a7d-ab4b-110e522c838f",
   "metadata": {},
   "outputs": [],
   "source": []
  },
  {
   "cell_type": "code",
   "execution_count": null,
   "id": "f2ff11a9-f7c4-49c5-9b10-63774a1f9469",
   "metadata": {},
   "outputs": [],
   "source": []
  },
  {
   "cell_type": "code",
   "execution_count": null,
   "id": "1c97c826-cd01-4bff-82fa-c48518b78d6b",
   "metadata": {},
   "outputs": [],
   "source": []
  },
  {
   "cell_type": "code",
   "execution_count": null,
   "id": "70c233ba-1181-4150-9817-ddb13b9b8864",
   "metadata": {},
   "outputs": [],
   "source": []
  },
  {
   "cell_type": "code",
   "execution_count": null,
   "id": "1860bb65-994e-4b61-9636-c6f7ea99c1b6",
   "metadata": {},
   "outputs": [],
   "source": []
  }
 ],
 "metadata": {
  "kernelspec": {
   "display_name": "Python 3 (ipykernel)",
   "language": "python",
   "name": "python3"
  },
  "language_info": {
   "codemirror_mode": {
    "name": "ipython",
    "version": 3
   },
   "file_extension": ".py",
   "mimetype": "text/x-python",
   "name": "python",
   "nbconvert_exporter": "python",
   "pygments_lexer": "ipython3",
   "version": "3.10.13"
  }
 },
 "nbformat": 4,
 "nbformat_minor": 5
}
