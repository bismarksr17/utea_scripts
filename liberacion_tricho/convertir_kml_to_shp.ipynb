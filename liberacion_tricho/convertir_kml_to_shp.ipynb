{
 "cells": [
  {
   "cell_type": "code",
   "execution_count": 1,
   "id": "76931ea2-46e0-4c2b-9196-f371f34895ae",
   "metadata": {
    "tags": []
   },
   "outputs": [],
   "source": [
    "import os\n",
    "import geopandas as gpd\n",
    "import geemap\n",
    "import xml.etree.ElementTree as ET\n",
    "import pandas as pd\n",
    "from shapely.geometry import LineString\n",
    "\n",
    "# constante requerida\n",
    "namespace = {\"kml\": \"http://www.opengis.net/kml/2.2\"}"
   ]
  },
  {
   "cell_type": "code",
   "execution_count": 3,
   "id": "2b147dc3-6779-47d0-b0be-c64b0f4a81ce",
   "metadata": {
    "tags": []
   },
   "outputs": [
    {
     "data": {
      "text/plain": [
       "57"
      ]
     },
     "execution_count": 3,
     "metadata": {},
     "output_type": "execute_result"
    }
   ],
   "source": [
    "# Directorio donde están los archivos KML\n",
    "path_kml = r'C:/Documents/OneDrive - Ingenio Azucarero Guabira S.A/UTEA_2023/PROYECTO AREA LIBERACION/SEGUIMIENTO2/SEMANA_42/LOGS_21-10-2023/'\n",
    "contenido = os.listdir(path_kml)\n",
    "len(contenido)"
   ]
  },
  {
   "cell_type": "code",
   "execution_count": 4,
   "id": "44a2da82-e3af-43bb-8a0a-a0b81fbb1775",
   "metadata": {
    "tags": []
   },
   "outputs": [],
   "source": [
    "# lista para almacenar nombres de archivo\n",
    "file_name = []\n",
    "# lista para alamcenar recorridos\n",
    "lineas = []\n",
    "\n",
    "# itera sobre la lista de nombres de archivos\n",
    "for i in contenido:\n",
    "    # directorio + nombre de archivo\n",
    "    path = path_kml + i\n",
    "    # leer el arbol de contenido del archivo\n",
    "    tree = ET.parse(path)\n",
    "    root = tree.getroot()\n",
    "    for placemark in root.findall(\".//kml:Placemark\", namespace):\n",
    "        coord_text = placemark.find(\".//kml:coordinates\", namespace).text.strip()\n",
    "        # obtiene las cooredenadas\n",
    "        coords = coord_text.split('\\n')\n",
    "        # lista para guardar las coors\n",
    "        coordinates = []\n",
    "        # recorre las coors\n",
    "        for j in coords:\n",
    "            # split para separa el 3er elemento que acompaña las coors\n",
    "            coord = j.split(',')\n",
    "            # agrega las coors a la lista\n",
    "            coordinates.append((float(coord[0]), float(coord[1])))\n",
    "    # conviente en DF\n",
    "    df = pd.DataFrame(coordinates, columns=['Longitude', 'Latitude'])\n",
    "    # convierte en GDF\n",
    "    gdf = gpd.GeoDataFrame(df, geometry=gpd.points_from_xy(df.Longitude, df.Latitude))\n",
    "    # convierte el GDF en Linea\n",
    "    line = LineString(gdf.geometry.tolist())\n",
    "    # se almacena en listas el nombre del archivo y la geomedia del recorrido\n",
    "    file_name.append(i)\n",
    "    lineas.append(line)"
   ]
  },
  {
   "cell_type": "code",
   "execution_count": 5,
   "id": "6d8cb069-7afd-460d-bd0b-1084acc7828a",
   "metadata": {
    "tags": []
   },
   "outputs": [],
   "source": [
    "# dic con la geometria y el file_name\n",
    "data_lineas = {\n",
    "    'geometry': lineas,\n",
    "    'nombre': file_name\n",
    "}"
   ]
  },
  {
   "cell_type": "code",
   "execution_count": 6,
   "id": "1fa256a5-41f2-4b47-819f-09d3bd718980",
   "metadata": {
    "tags": []
   },
   "outputs": [],
   "source": [
    "gdf_lineas = gpd.GeoDataFrame(data_lineas)"
   ]
  },
  {
   "cell_type": "code",
   "execution_count": 14,
   "id": "e95033d3-7b65-4398-b2b4-b6398faf9fff",
   "metadata": {
    "tags": []
   },
   "outputs": [],
   "source": [
    "gdf_lineas.crs = \"EPSG:4326\""
   ]
  },
  {
   "cell_type": "code",
   "execution_count": 15,
   "id": "422ff311-5566-4a50-8c8b-cf8fa7a17ded",
   "metadata": {
    "tags": []
   },
   "outputs": [],
   "source": [
    "gdf_lineas = gdf_lineas.to_crs(epsg=32720)"
   ]
  },
  {
   "cell_type": "code",
   "execution_count": 16,
   "id": "1b2fb03a-015f-4ffa-9db3-e5c7ec0445fe",
   "metadata": {
    "tags": []
   },
   "outputs": [
    {
     "data": {
      "text/plain": [
       "<Axes: >"
      ]
     },
     "execution_count": 16,
     "metadata": {},
     "output_type": "execute_result"
    },
    {
     "data": {
      "image/png": "[encoded data removed]",
      "text/plain": [
       "<Figure size 640x480 with 1 Axes>"
      ]
     },
     "metadata": {},
     "output_type": "display_data"
    }
   ],
   "source": [
    "gdf_lineas.plot()"
   ]
  },
  {
   "cell_type": "code",
   "execution_count": 17,
   "id": "bcf22391-5a59-4fae-9d5a-cb9f7ea969b0",
   "metadata": {
    "tags": []
   },
   "outputs": [
    {
     "data": {
      "text/plain": [
       "57"
      ]
     },
     "execution_count": 17,
     "metadata": {},
     "output_type": "execute_result"
    }
   ],
   "source": [
    "len(gdf_lineas)"
   ]
  },
  {
   "cell_type": "code",
   "execution_count": 18,
   "id": "e53ccc88-5562-4a1d-b02d-9811386431d7",
   "metadata": {
    "tags": []
   },
   "outputs": [],
   "source": [
    "gdf_lineas.to_file('capa_logs', driver=\"ESRI Shapefile\")"
   ]
  },
  {
   "cell_type": "code",
   "execution_count": null,
   "id": "411f0abd-dbdd-4f66-baff-24689da94120",
   "metadata": {},
   "outputs": [],
   "source": []
  },
  {
   "cell_type": "code",
   "execution_count": null,
   "id": "19d0826a-9172-41da-b16d-0e25bedb5dbf",
   "metadata": {},
   "outputs": [],
   "source": []
  },
  {
   "cell_type": "code",
   "execution_count": null,
   "id": "45c58798-bb89-4fd5-bf2c-e4e2ca83f985",
   "metadata": {},
   "outputs": [],
   "source": []
  },
  {
   "cell_type": "code",
   "execution_count": null,
   "id": "88900319-64f4-4a7d-ab4b-110e522c838f",
   "metadata": {},
   "outputs": [],
   "source": []
  },
  {
   "cell_type": "code",
   "execution_count": null,
   "id": "f2ff11a9-f7c4-49c5-9b10-63774a1f9469",
   "metadata": {},
   "outputs": [],
   "source": []
  },
  {
   "cell_type": "code",
   "execution_count": null,
   "id": "1c97c826-cd01-4bff-82fa-c48518b78d6b",
   "metadata": {},
   "outputs": [],
   "source": []
  },
  {
   "cell_type": "code",
   "execution_count": null,
   "id": "70c233ba-1181-4150-9817-ddb13b9b8864",
   "metadata": {},
   "outputs": [],
   "source": []
  },
  {
   "cell_type": "code",
   "execution_count": null,
   "id": "1860bb65-994e-4b61-9636-c6f7ea99c1b6",
   "metadata": {},
   "outputs": [],
   "source": []
  }
 ],
 "metadata": {
  "kernelspec": {
   "display_name": "Python 3 (ipykernel)",
   "language": "python",
   "name": "python3"
  },
  "language_info": {
   "codemirror_mode": {
    "name": "ipython",
    "version": 3
   },
   "file_extension": ".py",
   "mimetype": "text/x-python",
   "name": "python",
   "nbconvert_exporter": "python",
   "pygments_lexer": "ipython3",
   "version": "3.10.13"
  }
 },
 "nbformat": 4,
 "nbformat_minor": 5
}
