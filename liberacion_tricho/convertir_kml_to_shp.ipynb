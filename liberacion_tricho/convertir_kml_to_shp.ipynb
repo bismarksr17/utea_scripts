{
 "cells": [
  {
   "cell_type": "code",
   "execution_count": 14,
   "id": "76bdbda2-cb40-4967-a3c8-a57fe7fe2762",
   "metadata": {},
   "outputs": [
    {
     "data": {
      "text/html": [
       "\n",
       "            <style>\n",
       "                .geemap-dark {\n",
       "                    --jp-widgets-color: white;\n",
       "                    --jp-widgets-label-color: white;\n",
       "                    --jp-ui-font-color1: white;\n",
       "                    --jp-layout-color2: #454545;\n",
       "                    background-color: #383838;\n",
       "                }\n",
       "                    \n",
       "                .geemap-dark .jupyter-button {\n",
       "                    --jp-layout-color3: #383838;\n",
       "                }\n",
       "                \n",
       "                .geemap-colab {\n",
       "                    background-color: var(--colab-primary-surface-color, white);\n",
       "                }\n",
       "                    \n",
       "                .geemap-colab .jupyter-button {\n",
       "                    --jp-layout-color3: var(--colab-primary-surface-color, white);\n",
       "                }\n",
       "            </style>\n",
       "            "
      ],
      "text/plain": [
       "<IPython.core.display.HTML object>"
      ]
     },
     "metadata": {},
     "output_type": "display_data"
    }
   ],
   "source": [
    "import re\n",
    "from datetime import datetime"
   ]
  },
  {
   "cell_type": "code",
   "execution_count": 15,
   "id": "76931ea2-46e0-4c2b-9196-f371f34895ae",
   "metadata": {
    "tags": []
   },
   "outputs": [
    {
     "data": {
      "text/html": [
       "\n",
       "            <style>\n",
       "                .geemap-dark {\n",
       "                    --jp-widgets-color: white;\n",
       "                    --jp-widgets-label-color: white;\n",
       "                    --jp-ui-font-color1: white;\n",
       "                    --jp-layout-color2: #454545;\n",
       "                    background-color: #383838;\n",
       "                }\n",
       "                    \n",
       "                .geemap-dark .jupyter-button {\n",
       "                    --jp-layout-color3: #383838;\n",
       "                }\n",
       "                \n",
       "                .geemap-colab {\n",
       "                    background-color: var(--colab-primary-surface-color, white);\n",
       "                }\n",
       "                    \n",
       "                .geemap-colab .jupyter-button {\n",
       "                    --jp-layout-color3: var(--colab-primary-surface-color, white);\n",
       "                }\n",
       "            </style>\n",
       "            "
      ],
      "text/plain": [
       "<IPython.core.display.HTML object>"
      ]
     },
     "metadata": {},
     "output_type": "display_data"
    }
   ],
   "source": [
    "import os\n",
    "import geopandas as gpd\n",
    "import geemap\n",
    "import xml.etree.ElementTree as ET\n",
    "import pandas as pd\n",
    "from shapely.geometry import LineString\n",
    "\n",
    "# constante requerida\n",
    "namespace = {\"kml\": \"http://www.opengis.net/kml/2.2\"}"
   ]
  },
  {
   "cell_type": "code",
   "execution_count": null,
   "id": "861a000f-bf4d-40a1-b8c8-0859b59f1f46",
   "metadata": {},
   "outputs": [],
   "source": []
  },
  {
   "cell_type": "code",
   "execution_count": 16,
   "id": "9c9e3ed3-6a3e-44cb-bc5c-9fb54af07709",
   "metadata": {},
   "outputs": [
    {
     "data": {
      "text/html": [
       "\n",
       "            <style>\n",
       "                .geemap-dark {\n",
       "                    --jp-widgets-color: white;\n",
       "                    --jp-widgets-label-color: white;\n",
       "                    --jp-ui-font-color1: white;\n",
       "                    --jp-layout-color2: #454545;\n",
       "                    background-color: #383838;\n",
       "                }\n",
       "                    \n",
       "                .geemap-dark .jupyter-button {\n",
       "                    --jp-layout-color3: #383838;\n",
       "                }\n",
       "                \n",
       "                .geemap-colab {\n",
       "                    background-color: var(--colab-primary-surface-color, white);\n",
       "                }\n",
       "                    \n",
       "                .geemap-colab .jupyter-button {\n",
       "                    --jp-layout-color3: var(--colab-primary-surface-color, white);\n",
       "                }\n",
       "            </style>\n",
       "            "
      ],
      "text/plain": [
       "<IPython.core.display.HTML object>"
      ]
     },
     "metadata": {},
     "output_type": "display_data"
    }
   ],
   "source": [
    "import geopandas as gpd\n",
    "from pyproj import CRS\n",
    "from pykml import parser\n",
    "from shapely.geometry import Point, LineString"
   ]
  },
  {
   "cell_type": "code",
   "execution_count": null,
   "id": "dab87bed-054a-4b2d-87c7-17efd3675b02",
   "metadata": {},
   "outputs": [],
   "source": []
  },
  {
   "cell_type": "code",
   "execution_count": 26,
   "id": "ff3789cc-57a8-462b-aebf-310bd4358095",
   "metadata": {},
   "outputs": [
    {
     "data": {
      "text/html": [
       "\n",
       "            <style>\n",
       "                .geemap-dark {\n",
       "                    --jp-widgets-color: white;\n",
       "                    --jp-widgets-label-color: white;\n",
       "                    --jp-ui-font-color1: white;\n",
       "                    --jp-layout-color2: #454545;\n",
       "                    background-color: #383838;\n",
       "                }\n",
       "                    \n",
       "                .geemap-dark .jupyter-button {\n",
       "                    --jp-layout-color3: #383838;\n",
       "                }\n",
       "                \n",
       "                .geemap-colab {\n",
       "                    background-color: var(--colab-primary-surface-color, white);\n",
       "                }\n",
       "                    \n",
       "                .geemap-colab .jupyter-button {\n",
       "                    --jp-layout-color3: var(--colab-primary-surface-color, white);\n",
       "                }\n",
       "            </style>\n",
       "            "
      ],
      "text/plain": [
       "<IPython.core.display.HTML object>"
      ]
     },
     "metadata": {},
     "output_type": "display_data"
    },
    {
     "data": {
      "text/plain": [
       "75"
      ]
     },
     "execution_count": 26,
     "metadata": {},
     "output_type": "execute_result"
    }
   ],
   "source": [
    "# Directorio donde están los archivos KML\n",
    "path_kml = r'G:/VUELOS_FUM/'\n",
    "contenido = os.listdir(path_kml)\n",
    "len(contenido)"
   ]
  },
  {
   "cell_type": "code",
   "execution_count": 27,
   "id": "e8c0d910-f031-42a0-a55a-da30c9077a04",
   "metadata": {},
   "outputs": [
    {
     "data": {
      "text/html": [
       "\n",
       "            <style>\n",
       "                .geemap-dark {\n",
       "                    --jp-widgets-color: white;\n",
       "                    --jp-widgets-label-color: white;\n",
       "                    --jp-ui-font-color1: white;\n",
       "                    --jp-layout-color2: #454545;\n",
       "                    background-color: #383838;\n",
       "                }\n",
       "                    \n",
       "                .geemap-dark .jupyter-button {\n",
       "                    --jp-layout-color3: #383838;\n",
       "                }\n",
       "                \n",
       "                .geemap-colab {\n",
       "                    background-color: var(--colab-primary-surface-color, white);\n",
       "                }\n",
       "                    \n",
       "                .geemap-colab .jupyter-button {\n",
       "                    --jp-layout-color3: var(--colab-primary-surface-color, white);\n",
       "                }\n",
       "            </style>\n",
       "            "
      ],
      "text/plain": [
       "<IPython.core.display.HTML object>"
      ]
     },
     "metadata": {},
     "output_type": "display_data"
    },
    {
     "data": {
      "text/plain": [
       "'G:/VUELOS_FUM/'"
      ]
     },
     "execution_count": 27,
     "metadata": {},
     "output_type": "execute_result"
    }
   ],
   "source": [
    "path_kml"
   ]
  },
  {
   "cell_type": "code",
   "execution_count": 30,
   "id": "7cbe0a96-30d2-4808-820b-e8e666de4acd",
   "metadata": {},
   "outputs": [
    {
     "data": {
      "text/html": [
       "\n",
       "            <style>\n",
       "                .geemap-dark {\n",
       "                    --jp-widgets-color: white;\n",
       "                    --jp-widgets-label-color: white;\n",
       "                    --jp-ui-font-color1: white;\n",
       "                    --jp-layout-color2: #454545;\n",
       "                    background-color: #383838;\n",
       "                }\n",
       "                    \n",
       "                .geemap-dark .jupyter-button {\n",
       "                    --jp-layout-color3: #383838;\n",
       "                }\n",
       "                \n",
       "                .geemap-colab {\n",
       "                    background-color: var(--colab-primary-surface-color, white);\n",
       "                }\n",
       "                    \n",
       "                .geemap-colab .jupyter-button {\n",
       "                    --jp-layout-color3: var(--colab-primary-surface-color, white);\n",
       "                }\n",
       "            </style>\n",
       "            "
      ],
      "text/plain": [
       "<IPython.core.display.HTML object>"
      ]
     },
     "metadata": {},
     "output_type": "display_data"
    }
   ],
   "source": [
    "import geopandas as gpd\n",
    "from pyproj import CRS\n",
    "from pykml import parser\n",
    "from shapely.geometry import LineString\n",
    "import os"
   ]
  },
  {
   "cell_type": "code",
   "execution_count": 31,
   "id": "90fa492c-eeec-4419-9413-553a74d581eb",
   "metadata": {},
   "outputs": [
    {
     "data": {
      "text/html": [
       "\n",
       "            <style>\n",
       "                .geemap-dark {\n",
       "                    --jp-widgets-color: white;\n",
       "                    --jp-widgets-label-color: white;\n",
       "                    --jp-ui-font-color1: white;\n",
       "                    --jp-layout-color2: #454545;\n",
       "                    background-color: #383838;\n",
       "                }\n",
       "                    \n",
       "                .geemap-dark .jupyter-button {\n",
       "                    --jp-layout-color3: #383838;\n",
       "                }\n",
       "                \n",
       "                .geemap-colab {\n",
       "                    background-color: var(--colab-primary-surface-color, white);\n",
       "                }\n",
       "                    \n",
       "                .geemap-colab .jupyter-button {\n",
       "                    --jp-layout-color3: var(--colab-primary-surface-color, white);\n",
       "                }\n",
       "            </style>\n",
       "            "
      ],
      "text/plain": [
       "<IPython.core.display.HTML object>"
      ]
     },
     "metadata": {},
     "output_type": "display_data"
    }
   ],
   "source": [
    "def convertir_kmls_a_shapefile(kml_folder, shapefile_path):\n",
    "    \"\"\"\n",
    "    Convierte varios archivos KML en una carpeta a un solo shapefile con la proyección UTM zona 20S.\n",
    "\n",
    "    Parámetros:\n",
    "    kml_folder (str): Carpeta que contiene los archivos KML.\n",
    "    shapefile_path (str): Ruta donde se guardará el archivo shapefile combinado.\n",
    "    \"\"\"\n",
    "    line_geometries = []\n",
    "\n",
    "    # Procesar cada archivo KML en la carpeta\n",
    "    for filename in os.listdir(kml_folder):\n",
    "        if filename.endswith('.kml'):\n",
    "            kml_path = os.path.join(kml_folder, filename)\n",
    "            \n",
    "            # Leer el archivo KML\n",
    "            with open(kml_path, 'r') as file:\n",
    "                root = parser.parse(file).getroot()\n",
    "\n",
    "            # Extraer coordenadas de Placemark y crear geometría LineString\n",
    "            for placemark in root.Document.Placemark:\n",
    "                coordinates = placemark.LineString.coordinates.text.strip().split()\n",
    "                points = [tuple(map(float, coord.split(','))) for coord in coordinates]\n",
    "                line_geometries.append(LineString(points))\n",
    "\n",
    "    # Crear un GeoDataFrame\n",
    "    gdf = gpd.GeoDataFrame(geometry=line_geometries, crs='EPSG:4326')\n",
    "\n",
    "    # Definir el sistema de referencia de coordenadas de destino (UTM zona 20S)\n",
    "    crs_utm_20s = CRS(\"EPSG:32720\")\n",
    "\n",
    "    # Transformar las coordenadas al sistema UTM zona 20S\n",
    "    gdf_utm = gdf.to_crs(crs_utm_20s)\n",
    "\n",
    "    # Guardar el GeoDataFrame como un shapefile\n",
    "    gdf_utm.to_file(shapefile_path, driver='ESRI Shapefile')\n",
    "\n",
    "    print(f\"Archivo shapefile combinado guardado en: {shapefile_path}\")\n",
    "\n",
    "\n"
   ]
  },
  {
   "cell_type": "code",
   "execution_count": 32,
   "id": "6d5c11b5-abd6-4489-af5f-1ae70c0cd59d",
   "metadata": {},
   "outputs": [
    {
     "data": {
      "text/html": [
       "\n",
       "            <style>\n",
       "                .geemap-dark {\n",
       "                    --jp-widgets-color: white;\n",
       "                    --jp-widgets-label-color: white;\n",
       "                    --jp-ui-font-color1: white;\n",
       "                    --jp-layout-color2: #454545;\n",
       "                    background-color: #383838;\n",
       "                }\n",
       "                    \n",
       "                .geemap-dark .jupyter-button {\n",
       "                    --jp-layout-color3: #383838;\n",
       "                }\n",
       "                \n",
       "                .geemap-colab {\n",
       "                    background-color: var(--colab-primary-surface-color, white);\n",
       "                }\n",
       "                    \n",
       "                .geemap-colab .jupyter-button {\n",
       "                    --jp-layout-color3: var(--colab-primary-surface-color, white);\n",
       "                }\n",
       "            </style>\n",
       "            "
      ],
      "text/plain": [
       "<IPython.core.display.HTML object>"
      ]
     },
     "metadata": {},
     "output_type": "display_data"
    },
    {
     "name": "stdout",
     "output_type": "stream",
     "text": [
      "Archivo shapefile combinado guardado en: G:/VUELOS_FUM_2/res.shp\n"
     ]
    }
   ],
   "source": [
    "# Ejemplo de uso\n",
    "kml_folder = r'G:/VUELOS_FUM/'\n",
    "shapefile_path = r'G:/VUELOS_FUM_2/res.shp'\n",
    "convertir_kmls_a_shapefile(kml_folder, shapefile_path)"
   ]
  },
  {
   "cell_type": "code",
   "execution_count": null,
   "id": "adba5c6c-1a46-4059-9f75-4fc741e1973f",
   "metadata": {},
   "outputs": [],
   "source": []
  },
  {
   "cell_type": "code",
   "execution_count": null,
   "id": "65d9a817-7b26-4f30-a668-19c81c7cfb3a",
   "metadata": {},
   "outputs": [],
   "source": []
  },
  {
   "cell_type": "code",
   "execution_count": null,
   "id": "c65aa388-0682-4c1a-a394-674d6693fe97",
   "metadata": {},
   "outputs": [],
   "source": []
  },
  {
   "cell_type": "code",
   "execution_count": null,
   "id": "e23fde77-4fd9-4b96-a9ea-1959c7c80353",
   "metadata": {},
   "outputs": [],
   "source": []
  },
  {
   "cell_type": "code",
   "execution_count": null,
   "id": "77fd3824-8bf7-4612-93ed-5ccdd6114571",
   "metadata": {},
   "outputs": [],
   "source": []
  },
  {
   "cell_type": "code",
   "execution_count": null,
   "id": "8ee2aadd-efa7-4aea-9813-90abc7f41337",
   "metadata": {},
   "outputs": [],
   "source": []
  },
  {
   "cell_type": "code",
   "execution_count": null,
   "id": "d36822b6-02c8-452c-86cf-96d8889f5d4d",
   "metadata": {},
   "outputs": [],
   "source": []
  },
  {
   "cell_type": "code",
   "execution_count": 29,
   "id": "5eb855ec-fa5f-4938-9fe4-90bc92fd1ef1",
   "metadata": {},
   "outputs": [
    {
     "data": {
      "text/html": [
       "\n",
       "            <style>\n",
       "                .geemap-dark {\n",
       "                    --jp-widgets-color: white;\n",
       "                    --jp-widgets-label-color: white;\n",
       "                    --jp-ui-font-color1: white;\n",
       "                    --jp-layout-color2: #454545;\n",
       "                    background-color: #383838;\n",
       "                }\n",
       "                    \n",
       "                .geemap-dark .jupyter-button {\n",
       "                    --jp-layout-color3: #383838;\n",
       "                }\n",
       "                \n",
       "                .geemap-colab {\n",
       "                    background-color: var(--colab-primary-surface-color, white);\n",
       "                }\n",
       "                    \n",
       "                .geemap-colab .jupyter-button {\n",
       "                    --jp-layout-color3: var(--colab-primary-surface-color, white);\n",
       "                }\n",
       "            </style>\n",
       "            "
      ],
      "text/plain": [
       "<IPython.core.display.HTML object>"
      ]
     },
     "metadata": {},
     "output_type": "display_data"
    },
    {
     "name": "stdout",
     "output_type": "stream",
     "text": [
      "G:/VUELOS_FUM_2/T40_20240517132130_R0494334786.kml\n",
      "G:/VUELOS_FUM_2/T40_20240517132130_R0494334786.kml\n",
      "G:/VUELOS_FUM_2/T40_20240517132130_R0494334786.kml\n",
      "G:/VUELOS_FUM_2/T40_20240517132130_R0494334786.kml\n",
      "G:/VUELOS_FUM_2/T40_20240517132130_R0494334786.kml\n",
      "G:/VUELOS_FUM_2/T40_20240517132130_R0494334786.kml\n",
      "G:/VUELOS_FUM_2/T40_20240517132130_R0494334786.kml\n",
      "G:/VUELOS_FUM_2/T40_20240517132130_R0494334786.kml\n",
      "G:/VUELOS_FUM_2/T40_20240517132130_R0494334786.kml\n",
      "G:/VUELOS_FUM_2/T40_20240517132130_R0494334786.kml\n",
      "G:/VUELOS_FUM_2/T40_20240517132130_R0494334786.kml\n",
      "G:/VUELOS_FUM_2/T40_20240517132130_R0494334786.kml\n",
      "G:/VUELOS_FUM_2/T40_20240517132130_R0494334786.kml\n",
      "G:/VUELOS_FUM_2/T40_20240517132130_R0494334786.kml\n",
      "G:/VUELOS_FUM_2/T40_20240517132130_R0494334786.kml\n",
      "G:/VUELOS_FUM_2/T40_20240517132130_R0494334786.kml\n",
      "G:/VUELOS_FUM_2/T40_20240517132130_R0494334786.kml\n",
      "G:/VUELOS_FUM_2/T40_20240517132130_R0494334786.kml\n",
      "G:/VUELOS_FUM_2/T40_20240517132130_R0494334786.kml\n",
      "G:/VUELOS_FUM_2/T40_20240517132130_R0494334786.kml\n",
      "G:/VUELOS_FUM_2/T40_20240517132130_R0494334786.kml\n",
      "G:/VUELOS_FUM_2/T40_20240517132130_R0494334786.kml\n",
      "G:/VUELOS_FUM_2/T40_20240517132130_R0494334786.kml\n",
      "G:/VUELOS_FUM_2/T40_20240517132130_R0494334786.kml\n",
      "G:/VUELOS_FUM_2/T40_20240517132130_R0494334786.kml\n",
      "G:/VUELOS_FUM_2/T40_20240517132130_R0494334786.kml\n",
      "G:/VUELOS_FUM_2/T40_20240517132130_R0494334786.kml\n",
      "G:/VUELOS_FUM_2/T40_20240517132130_R0494334786.kml\n",
      "G:/VUELOS_FUM_2/T40_20240517132130_R0494334786.kml\n",
      "G:/VUELOS_FUM_2/T40_20240517132130_R0494334786.kml\n",
      "G:/VUELOS_FUM_2/T40_20240517132130_R0494334786.kml\n",
      "G:/VUELOS_FUM_2/T40_20240517132130_R0494334786.kml\n",
      "G:/VUELOS_FUM_2/T40_20240517132130_R0494334786.kml\n",
      "G:/VUELOS_FUM_2/T40_20240517132130_R0494334786.kml\n",
      "G:/VUELOS_FUM_2/T40_20240517132130_R0494334786.kml\n",
      "G:/VUELOS_FUM_2/T40_20240517132130_R0494334786.kml\n",
      "G:/VUELOS_FUM_2/T40_20240517132130_R0494334786.kml\n",
      "G:/VUELOS_FUM_2/T40_20240517132130_R0494334786.kml\n",
      "G:/VUELOS_FUM_2/T40_20240517132130_R0494334786.kml\n",
      "G:/VUELOS_FUM_2/T40_20240517132130_R0494334786.kml\n",
      "G:/VUELOS_FUM_2/T40_20240517132130_R0494334786.kml\n",
      "G:/VUELOS_FUM_2/T40_20240517132130_R0494334786.kml\n",
      "G:/VUELOS_FUM_2/T40_20240517132130_R0494334786.kml\n",
      "G:/VUELOS_FUM_2/T40_20240517132130_R0494334786.kml\n",
      "G:/VUELOS_FUM_2/T40_20240517132130_R0494334786.kml\n",
      "G:/VUELOS_FUM_2/T40_20240517132130_R0494334786.kml\n",
      "G:/VUELOS_FUM_2/T40_20240517132130_R0494334786.kml\n",
      "G:/VUELOS_FUM_2/T40_20240517132130_R0494334786.kml\n",
      "G:/VUELOS_FUM_2/T40_20240517132130_R0494334786.kml\n",
      "G:/VUELOS_FUM_2/T40_20240517132130_R0494334786.kml\n",
      "G:/VUELOS_FUM_2/T40_20240517132130_R0494334786.kml\n",
      "G:/VUELOS_FUM_2/T40_20240517132130_R0494334786.kml\n",
      "G:/VUELOS_FUM_2/T40_20240517132130_R0494334786.kml\n",
      "G:/VUELOS_FUM_2/T40_20240517132130_R0494334786.kml\n",
      "G:/VUELOS_FUM_2/T40_20240517132130_R0494334786.kml\n",
      "G:/VUELOS_FUM_2/T40_20240517132130_R0494334786.kml\n",
      "G:/VUELOS_FUM_2/T40_20240517132130_R0494334786.kml\n",
      "G:/VUELOS_FUM_2/T40_20240517132130_R0494334786.kml\n",
      "G:/VUELOS_FUM_2/T40_20240517132130_R0494334786.kml\n",
      "G:/VUELOS_FUM_2/T40_20240517132130_R0494334786.kml\n",
      "G:/VUELOS_FUM_2/T40_20240517132130_R0494334786.kml\n",
      "G:/VUELOS_FUM_2/T40_20240517132130_R0494334786.kml\n",
      "G:/VUELOS_FUM_2/T40_20240517132130_R0494334786.kml\n",
      "G:/VUELOS_FUM_2/T40_20240517132130_R0494334786.kml\n",
      "G:/VUELOS_FUM_2/T40_20240517132130_R0494334786.kml\n",
      "G:/VUELOS_FUM_2/T40_20240517132130_R0494334786.kml\n",
      "G:/VUELOS_FUM_2/T40_20240517132130_R0494334786.kml\n",
      "G:/VUELOS_FUM_2/T40_20240517132130_R0494334786.kml\n",
      "G:/VUELOS_FUM_2/T40_20240517132130_R0494334786.kml\n",
      "G:/VUELOS_FUM_2/T40_20240517132130_R0494334786.kml\n",
      "G:/VUELOS_FUM_2/T40_20240517132130_R0494334786.kml\n",
      "G:/VUELOS_FUM_2/T40_20240517132130_R0494334786.kml\n",
      "G:/VUELOS_FUM_2/T40_20240517132130_R0494334786.kml\n",
      "G:/VUELOS_FUM_2/T40_20240517132130_R0494334786.kml\n",
      "G:/VUELOS_FUM_2/T40_20240517132130_R0494334786.kml\n"
     ]
    }
   ],
   "source": [
    "j = 0\n",
    "for i in contenido:\n",
    "    # directorio + nombre de archivo\n",
    "    path = path_kml + i\n",
    "    #output_folder = \"ruta/a/tu/carpeta\"\n",
    "    output_folder = r'G:/VUELOS_FUM_2/'\n",
    "    shapefile_name = i\n",
    "    convertir_kml_a_shapefile(path, output_folder, shapefile_name)\n",
    "    j = j + 1\n",
    "    print(shapefile_path)"
   ]
  },
  {
   "cell_type": "code",
   "execution_count": null,
   "id": "0d6ef666-dcdd-4779-910e-6879a73ef9f7",
   "metadata": {},
   "outputs": [],
   "source": []
  },
  {
   "cell_type": "code",
   "execution_count": 28,
   "id": "3584beb5-d3f1-4fe2-9d2d-036d0cdd82d5",
   "metadata": {},
   "outputs": [
    {
     "data": {
      "text/html": [
       "\n",
       "            <style>\n",
       "                .geemap-dark {\n",
       "                    --jp-widgets-color: white;\n",
       "                    --jp-widgets-label-color: white;\n",
       "                    --jp-ui-font-color1: white;\n",
       "                    --jp-layout-color2: #454545;\n",
       "                    background-color: #383838;\n",
       "                }\n",
       "                    \n",
       "                .geemap-dark .jupyter-button {\n",
       "                    --jp-layout-color3: #383838;\n",
       "                }\n",
       "                \n",
       "                .geemap-colab {\n",
       "                    background-color: var(--colab-primary-surface-color, white);\n",
       "                }\n",
       "                    \n",
       "                .geemap-colab .jupyter-button {\n",
       "                    --jp-layout-color3: var(--colab-primary-surface-color, white);\n",
       "                }\n",
       "            </style>\n",
       "            "
      ],
      "text/plain": [
       "<IPython.core.display.HTML object>"
      ]
     },
     "metadata": {},
     "output_type": "display_data"
    }
   ],
   "source": [
    "def convertir_kml_a_shapefile(kml_path, output_folder, shapefile_name):\n",
    "    \"\"\"\n",
    "    Convierte un archivo KML a un shapefile con la proyección UTM zona 20S.\n",
    "\n",
    "    Parámetros:\n",
    "    kml_path (str): Ruta del archivo KML.\n",
    "    output_folder (str): Carpeta donde se guardarán los archivos del shapefile.\n",
    "    shapefile_name (str): Nombre base del archivo shapefile (sin extensión).\n",
    "    \"\"\"\n",
    "    # Leer el archivo KML\n",
    "    with open(kml_path, 'r') as file:\n",
    "        root = parser.parse(file).getroot()\n",
    "\n",
    "    # Extraer coordenadas de Placemark y crear geometría LineString\n",
    "    line_geometries = []\n",
    "    for placemark in root.Document.Placemark:\n",
    "        coordinates = placemark.LineString.coordinates.text.strip().split()\n",
    "        points = [tuple(map(float, coord.split(','))) for coord in coordinates]\n",
    "        line_geometries.append(LineString(points))\n",
    "\n",
    "    # Crear un GeoDataFrame\n",
    "    gdf = gpd.GeoDataFrame(geometry=line_geometries, crs='EPSG:4326')\n",
    "\n",
    "    # Definir el sistema de referencia de coordenadas de destino (UTM zona 20S)\n",
    "    crs_utm_20s = CRS(\"EPSG:32720\")\n",
    "\n",
    "    # Transformar las coordenadas al sistema UTM zona 20S\n",
    "    gdf_utm = gdf.to_crs(crs_utm_20s)\n",
    "\n",
    "    # Asegurarse de que la carpeta de salida exista\n",
    "    if not os.path.exists(output_folder):\n",
    "        os.makedirs(output_folder)\n",
    "\n",
    "    # Construir la ruta completa para el shapefile\n",
    "    shapefile_path = os.path.join(output_folder, shapefile_name)\n",
    "\n",
    "    # Guardar el GeoDataFrame como un shapefile\n",
    "    gdf_utm.to_file(shapefile_path, driver='ESRI Shapefile')"
   ]
  },
  {
   "cell_type": "code",
   "execution_count": null,
   "id": "2b79fbce-48be-4abd-b32b-219aec814f6e",
   "metadata": {},
   "outputs": [],
   "source": []
  },
  {
   "cell_type": "code",
   "execution_count": 20,
   "id": "44403542-807b-4002-a833-a798227b0f2c",
   "metadata": {},
   "outputs": [
    {
     "data": {
      "text/html": [
       "\n",
       "            <style>\n",
       "                .geemap-dark {\n",
       "                    --jp-widgets-color: white;\n",
       "                    --jp-widgets-label-color: white;\n",
       "                    --jp-ui-font-color1: white;\n",
       "                    --jp-layout-color2: #454545;\n",
       "                    background-color: #383838;\n",
       "                }\n",
       "                    \n",
       "                .geemap-dark .jupyter-button {\n",
       "                    --jp-layout-color3: #383838;\n",
       "                }\n",
       "                \n",
       "                .geemap-colab {\n",
       "                    background-color: var(--colab-primary-surface-color, white);\n",
       "                }\n",
       "                    \n",
       "                .geemap-colab .jupyter-button {\n",
       "                    --jp-layout-color3: var(--colab-primary-surface-color, white);\n",
       "                }\n",
       "            </style>\n",
       "            "
      ],
      "text/plain": [
       "<IPython.core.display.HTML object>"
      ]
     },
     "metadata": {},
     "output_type": "display_data"
    }
   ],
   "source": [
    "def convertir_kml_a_shapefile(kml_path, shapefile_path):\n",
    "    \"\"\"\n",
    "    Convierte un archivo KML a un shapefile con la proyección UTM zona 20S.\n",
    "\n",
    "    Parámetros:\n",
    "    kml_path (str): Ruta del archivo KML.\n",
    "    shapefile_path (str): Ruta donde se guardará el archivo shapefile.\n",
    "    \"\"\"\n",
    "    # Leer el archivo KML\n",
    "    with open(kml_path, 'r') as file:\n",
    "        root = parser.parse(file).getroot()\n",
    "\n",
    "    # Extraer coordenadas de Placemark y crear geometría LineString\n",
    "    line_geometries = []\n",
    "    for placemark in root.Document.Placemark:\n",
    "        coordinates = placemark.LineString.coordinates.text.strip().split()\n",
    "        points = [tuple(map(float, coord.split(','))) for coord in coordinates]\n",
    "        line_geometries.append(LineString(points))\n",
    "\n",
    "    # Crear un GeoDataFrame\n",
    "    gdf = gpd.GeoDataFrame(geometry=line_geometries, crs='EPSG:4326')\n",
    "\n",
    "    # Definir el sistema de referencia de coordenadas de destino (UTM zona 20S)\n",
    "    crs_utm_20s = CRS(\"EPSG:32720\")\n",
    "\n",
    "    # Transformar las coordenadas al sistema UTM zona 20S\n",
    "    gdf_utm = gdf.to_crs(crs_utm_20s)\n",
    "\n",
    "    # Guardar el GeoDataFrame como un shapefile\n",
    "    gdf_utm.to_file(shapefile_path, driver='ESRI Shapefile')\n",
    "\n",
    "    #print(f\"Archivo shapefile guardado en: {shapefile_path}\")"
   ]
  },
  {
   "cell_type": "code",
   "execution_count": null,
   "id": "05e28871-6aec-4c45-89e0-2354e842c7d1",
   "metadata": {},
   "outputs": [],
   "source": []
  },
  {
   "cell_type": "code",
   "execution_count": null,
   "id": "67ca4fd3-5fa3-4a6b-84f7-8cb3acc5cf94",
   "metadata": {},
   "outputs": [],
   "source": []
  },
  {
   "cell_type": "code",
   "execution_count": null,
   "id": "dcf79708-173b-4f49-aa24-cafb3304bc4f",
   "metadata": {},
   "outputs": [],
   "source": [
    "import geopandas as gpd\n",
    "from pyproj import CRS\n",
    "from pykml import parser\n",
    "from shapely.geometry import LineString\n",
    "import os\n",
    "\n",
    "def convertir_kml_a_shapefile(kml_path, output_folder, shapefile_name):\n",
    "    \"\"\"\n",
    "    Convierte un archivo KML a un shapefile con la proyección UTM zona 20S.\n",
    "\n",
    "    Parámetros:\n",
    "    kml_path (str): Ruta del archivo KML.\n",
    "    output_folder (str): Carpeta donde se guardarán los archivos del shapefile.\n",
    "    shapefile_name (str): Nombre base del archivo shapefile (sin extensión).\n",
    "    \"\"\"\n",
    "    # Leer el archivo KML\n",
    "    with open(kml_path, 'r') as file:\n",
    "        root = parser.parse(file).getroot()\n",
    "\n",
    "    # Extraer coordenadas de Placemark y crear geometría LineString\n",
    "    line_geometries = []\n",
    "    for placemark in root.Document.Placemark:\n",
    "        coordinates = placemark.LineString.coordinates.text.strip().split()\n",
    "        points = [tuple(map(float, coord.split(','))) for coord in coordinates]\n",
    "        line_geometries.append(LineString(points))\n",
    "\n",
    "    # Crear un GeoDataFrame\n",
    "    gdf = gpd.GeoDataFrame(geometry=line_geometries, crs='EPSG:4326')\n",
    "\n",
    "    # Definir el sistema de referencia de coordenadas de destino (UTM zona 20S)\n",
    "    crs_utm_20s = CRS(\"EPSG:32720\")\n",
    "\n",
    "    # Transformar las coordenadas al sistema UTM zona 20S\n",
    "    gdf_utm = gdf.to_crs(crs_utm_20s)\n",
    "\n",
    "    # Asegurarse de que la carpeta de salida exista\n",
    "    if not os.path.exists(output_folder):\n",
    "        os.makedirs(output_folder)\n",
    "\n",
    "    # Construir la ruta completa para el shapefile\n",
    "    shapefile_path = os.path.join(output_folder, shapefile_name)\n",
    "\n",
    "    # Guardar el GeoDataFrame como un shapefile\n",
    "    gdf_utm.to_file(shapefile_path, driver='ESRI Shapefile')\n",
    "\n",
    "    print(f\"Archivo shapefile guardado en: {shapefile_path}\")\n",
    "\n",
    "# Ejemplo de uso\n",
    "kml_path = \"ruta/a/tu/archivo/T40_20240515232209_R4364965591.kml\"\n",
    "output_folder = \"ruta/a/tu/carpeta\"\n",
    "shapefile_name = \"T40_20240515232209_R436496\n"
   ]
  },
  {
   "cell_type": "code",
   "execution_count": null,
   "id": "14043dab-ab0f-497c-a0b5-5b956c067037",
   "metadata": {},
   "outputs": [],
   "source": []
  },
  {
   "cell_type": "code",
   "execution_count": null,
   "id": "644c900f-591c-432b-9198-42f93d1d8afc",
   "metadata": {},
   "outputs": [],
   "source": []
  },
  {
   "cell_type": "code",
   "execution_count": null,
   "id": "71fdbdcc-9d7e-4bf1-9f2e-9e2c33ebafd8",
   "metadata": {},
   "outputs": [],
   "source": []
  },
  {
   "cell_type": "code",
   "execution_count": null,
   "id": "50811a66-9c73-4775-b7db-447338a6e960",
   "metadata": {},
   "outputs": [],
   "source": []
  },
  {
   "cell_type": "code",
   "execution_count": null,
   "id": "30dc7233-de9f-4eeb-9e66-06264107f2d3",
   "metadata": {},
   "outputs": [],
   "source": []
  },
  {
   "cell_type": "code",
   "execution_count": 3,
   "id": "2b147dc3-6779-47d0-b0be-c64b0f4a81ce",
   "metadata": {
    "tags": []
   },
   "outputs": [
    {
     "data": {
      "text/html": [
       "\n",
       "            <style>\n",
       "                .geemap-dark {\n",
       "                    --jp-widgets-color: white;\n",
       "                    --jp-widgets-label-color: white;\n",
       "                    --jp-ui-font-color1: white;\n",
       "                    --jp-layout-color2: #454545;\n",
       "                    background-color: #383838;\n",
       "                }\n",
       "                    \n",
       "                .geemap-dark .jupyter-button {\n",
       "                    --jp-layout-color3: #383838;\n",
       "                }\n",
       "                \n",
       "                .geemap-colab {\n",
       "                    background-color: var(--colab-primary-surface-color, white);\n",
       "                }\n",
       "                    \n",
       "                .geemap-colab .jupyter-button {\n",
       "                    --jp-layout-color3: var(--colab-primary-surface-color, white);\n",
       "                }\n",
       "            </style>\n",
       "            "
      ],
      "text/plain": [
       "<IPython.core.display.HTML object>"
      ]
     },
     "metadata": {},
     "output_type": "display_data"
    },
    {
     "data": {
      "text/plain": [
       "75"
      ]
     },
     "execution_count": 3,
     "metadata": {},
     "output_type": "execute_result"
    }
   ],
   "source": []
  },
  {
   "cell_type": "code",
   "execution_count": 12,
   "id": "ca8a992c-0f2e-48b1-b973-18cf7c30ab66",
   "metadata": {},
   "outputs": [
    {
     "data": {
      "text/html": [
       "\n",
       "            <style>\n",
       "                .geemap-dark {\n",
       "                    --jp-widgets-color: white;\n",
       "                    --jp-widgets-label-color: white;\n",
       "                    --jp-ui-font-color1: white;\n",
       "                    --jp-layout-color2: #454545;\n",
       "                    background-color: #383838;\n",
       "                }\n",
       "                    \n",
       "                .geemap-dark .jupyter-button {\n",
       "                    --jp-layout-color3: #383838;\n",
       "                }\n",
       "                \n",
       "                .geemap-colab {\n",
       "                    background-color: var(--colab-primary-surface-color, white);\n",
       "                }\n",
       "                    \n",
       "                .geemap-colab .jupyter-button {\n",
       "                    --jp-layout-color3: var(--colab-primary-surface-color, white);\n",
       "                }\n",
       "            </style>\n",
       "            "
      ],
      "text/plain": [
       "<IPython.core.display.HTML object>"
      ]
     },
     "metadata": {},
     "output_type": "display_data"
    },
    {
     "data": {
      "text/plain": [
       "['T40_20240515232209_R4364965591.kml',\n",
       " 'T40_20240516000153_R4405010685.kml',\n",
       " 'T40_20240516001437_R4445055779.kml',\n",
       " 'T40_20240516002758_R4485100873.kml',\n",
       " 'T40_20240516005051_R4505123420.kml',\n",
       " 'T40_20240516010827_R4545168514.kml',\n",
       " 'T40_20240516012027_R4585213608.kml',\n",
       " 'T40_20240516013316_R4625258702.kml',\n",
       " 'T40_20240516014331_R4645281249.kml',\n",
       " 'T40_20240516022138_R5196632322.kml',\n",
       " 'T40_20240516023516_R5305046488.kml',\n",
       " 'T40_20240516024822_R0842459380.kml',\n",
       " 'T40_20240516030121_R4735134929.kml',\n",
       " 'T40_20240516031438_R0612931120.kml',\n",
       " 'T40_20240516032749_R5466688925.kml',\n",
       " 'T40_20240516033642_R5486711472.kml',\n",
       " 'T40_20240516034108_R3106469252.kml',\n",
       " 'T40_20240516035351_R5977994904.kml',\n",
       " 'T40_20240516040523_R3943996541.kml',\n",
       " 'T40_20240516041806_R4721456189.kml',\n",
       " 'T40_20240516043037_R4123220652.kml',\n",
       " 'T40_20240516044305_R6293957159.kml',\n",
       " 'T40_20240516045543_R7523633957.kml',\n",
       " 'T40_20240516050809_R3816043077.kml',\n",
       " 'T40_20240516052501_R8355288374.kml',\n",
       " 'T40_20240516060712_R7042101703.kml',\n",
       " 'T40_20240516062235_R7142214438.kml',\n",
       " 'T40_20240516063453_R1892887439.kml',\n",
       " 'T40_20240516064537_R4740970859.kml',\n",
       " 'T40_20240516065743_R2368534507.kml',\n",
       " 'T40_20240516070938_R2588782524.kml',\n",
       " 'T40_20240516081624_R7863820232.kml',\n",
       " 'T40_20240516082854_R7983955514.kml',\n",
       " 'T40_20240516084106_R8084068249.kml',\n",
       " 'T40_20240516085156_R8144135890.kml',\n",
       " 'T40_20240516090250_R8264271172.kml',\n",
       " 'T40_20240516133505_R8364383907.kml',\n",
       " 'T40_20240516134327_R8444474095.kml',\n",
       " 'T40_20240516135245_R0009121250.kml',\n",
       " 'T40_20240516140544_R0029143797.kml',\n",
       " 'T40_20240516141735_R0209346720.kml',\n",
       " 'T40_20240516142940_R0309459455.kml',\n",
       " 'T40_20240516144139_R0489662378.kml',\n",
       " 'T40_20240516145331_R0549730019.kml',\n",
       " 'T40_20240516150559_R0649842754.kml',\n",
       " 'T40_20240516151728_R0810023130.kml',\n",
       " 'T40_20240516152905_R0870090771.kml',\n",
       " 'T40_20240516153901_R0990226053.kml',\n",
       " 'T40_20240516154517_R1130383882.kml',\n",
       " 'T40_20240516155747_R1250519164.kml',\n",
       " 'T40_20240516161044_R1430722087.kml',\n",
       " 'T40_20240516162347_R1610925010.kml',\n",
       " 'T40_20240516163714_R1670992651.kml',\n",
       " 'T40_20240516165038_R1851195574.kml',\n",
       " 'T40_20240516170424_R1931285762.kml',\n",
       " 'T40_20240516171728_R2011375950.kml',\n",
       " 'T40_20240516172842_R2051421044.kml',\n",
       " 'T40_20240517090040_R1147346853.kml',\n",
       " 'T40_20240517091823_R0647266427.kml',\n",
       " 'T40_20240517092922_R6475289665.kml',\n",
       " 'T40_20240517094049_R0494891919.kml',\n",
       " 'T40_20240517095201_R3301951433.kml',\n",
       " 'T40_20240517100309_R2484929940.kml',\n",
       " 'T40_20240517101454_R5918548969.kml',\n",
       " 'T40_20240517102708_R8549259238.kml',\n",
       " 'T40_20240517103822_R0013793658.kml',\n",
       " 'T40_20240517114140_R0073861299.kml',\n",
       " 'T40_20240517115430_R0093883846.kml',\n",
       " 'T40_20240517120714_R0193996581.kml',\n",
       " 'T40_20240517121752_R0214019128.kml',\n",
       " 'T40_20240517123015_R0314131863.kml',\n",
       " 'T40_20240517124323_R0354176957.kml',\n",
       " 'T40_20240517125805_R0394222051.kml',\n",
       " 'T40_20240517131157_R0474312239.kml',\n",
       " 'T40_20240517132130_R0494334786.kml']"
      ]
     },
     "execution_count": 12,
     "metadata": {},
     "output_type": "execute_result"
    }
   ],
   "source": [
    "contenido"
   ]
  },
  {
   "cell_type": "code",
   "execution_count": 5,
   "id": "bec38e53-9581-49d8-a2c1-75143e6b9016",
   "metadata": {},
   "outputs": [
    {
     "data": {
      "text/html": [
       "\n",
       "            <style>\n",
       "                .geemap-dark {\n",
       "                    --jp-widgets-color: white;\n",
       "                    --jp-widgets-label-color: white;\n",
       "                    --jp-ui-font-color1: white;\n",
       "                    --jp-layout-color2: #454545;\n",
       "                    background-color: #383838;\n",
       "                }\n",
       "                    \n",
       "                .geemap-dark .jupyter-button {\n",
       "                    --jp-layout-color3: #383838;\n",
       "                }\n",
       "                \n",
       "                .geemap-colab {\n",
       "                    background-color: var(--colab-primary-surface-color, white);\n",
       "                }\n",
       "                    \n",
       "                .geemap-colab .jupyter-button {\n",
       "                    --jp-layout-color3: var(--colab-primary-surface-color, white);\n",
       "                }\n",
       "            </style>\n",
       "            "
      ],
      "text/plain": [
       "<IPython.core.display.HTML object>"
      ]
     },
     "metadata": {},
     "output_type": "display_data"
    }
   ],
   "source": [
    "def extraer_fecha(fecha_txt):\n",
    "    match = re.search(r\"([A-Za-z]{3}-\\d{1,2}[a-z]{2}-\\d{4})\", fecha_txt)\n",
    "    return match.group(1) if match else None\n",
    "\n",
    "def format_date(date_str):\n",
    "    try:\n",
    "        # Eliminar sufijos ordinales para facilitar la conversión\n",
    "        date_without_suffix = re.sub(r'(st|nd|rd|th)', '', date_str)\n",
    "        return pd.to_datetime(date_without_suffix, format='%b-%d-%Y').strftime('%d/%m/%Y')\n",
    "    except:\n",
    "        return None\n",
    "\n",
    "def week_number(date_str):\n",
    "    \"\"\"\n",
    "    Retorna el número de semana del año para una fecha dada en formato \"dd/mm/aaaa\".\n",
    "    \"\"\"\n",
    "    try:\n",
    "        date_obj = pd.to_datetime(date_str, format='%d/%m/%Y')\n",
    "        return date_obj.isocalendar()[1]  # El segundo valor de isocalendar() es el número de semana\n",
    "    except:\n",
    "        return None"
   ]
  },
  {
   "cell_type": "code",
   "execution_count": null,
   "id": "cb9407a7-7538-482c-8ddf-ee44022e3388",
   "metadata": {},
   "outputs": [],
   "source": []
  },
  {
   "cell_type": "code",
   "execution_count": 6,
   "id": "44a2da82-e3af-43bb-8a0a-a0b81fbb1775",
   "metadata": {
    "tags": []
   },
   "outputs": [
    {
     "data": {
      "text/html": [
       "\n",
       "            <style>\n",
       "                .geemap-dark {\n",
       "                    --jp-widgets-color: white;\n",
       "                    --jp-widgets-label-color: white;\n",
       "                    --jp-ui-font-color1: white;\n",
       "                    --jp-layout-color2: #454545;\n",
       "                    background-color: #383838;\n",
       "                }\n",
       "                    \n",
       "                .geemap-dark .jupyter-button {\n",
       "                    --jp-layout-color3: #383838;\n",
       "                }\n",
       "                \n",
       "                .geemap-colab {\n",
       "                    background-color: var(--colab-primary-surface-color, white);\n",
       "                }\n",
       "                    \n",
       "                .geemap-colab .jupyter-button {\n",
       "                    --jp-layout-color3: var(--colab-primary-surface-color, white);\n",
       "                }\n",
       "            </style>\n",
       "            "
      ],
      "text/plain": [
       "<IPython.core.display.HTML object>"
      ]
     },
     "metadata": {},
     "output_type": "display_data"
    },
    {
     "ename": "NameError",
     "evalue": "name 'coordinates' is not defined",
     "output_type": "error",
     "traceback": [
      "\u001b[1;31m---------------------------------------------------------------------------\u001b[0m",
      "\u001b[1;31mNameError\u001b[0m                                 Traceback (most recent call last)",
      "Cell \u001b[1;32mIn[6], line 26\u001b[0m\n\u001b[0;32m     24\u001b[0m         coordinates\u001b[38;5;241m.\u001b[39mappend((\u001b[38;5;28mfloat\u001b[39m(coord[\u001b[38;5;241m0\u001b[39m]), \u001b[38;5;28mfloat\u001b[39m(coord[\u001b[38;5;241m1\u001b[39m])))\n\u001b[0;32m     25\u001b[0m \u001b[38;5;66;03m# conviente en DF\u001b[39;00m\n\u001b[1;32m---> 26\u001b[0m df \u001b[38;5;241m=\u001b[39m pd\u001b[38;5;241m.\u001b[39mDataFrame(\u001b[43mcoordinates\u001b[49m, columns\u001b[38;5;241m=\u001b[39m[\u001b[38;5;124m'\u001b[39m\u001b[38;5;124mLongitude\u001b[39m\u001b[38;5;124m'\u001b[39m, \u001b[38;5;124m'\u001b[39m\u001b[38;5;124mLatitude\u001b[39m\u001b[38;5;124m'\u001b[39m])\n\u001b[0;32m     27\u001b[0m \u001b[38;5;66;03m# convierte en GDF\u001b[39;00m\n\u001b[0;32m     28\u001b[0m gdf \u001b[38;5;241m=\u001b[39m gpd\u001b[38;5;241m.\u001b[39mGeoDataFrame(df, geometry\u001b[38;5;241m=\u001b[39mgpd\u001b[38;5;241m.\u001b[39mpoints_from_xy(df\u001b[38;5;241m.\u001b[39mLongitude, df\u001b[38;5;241m.\u001b[39mLatitude))\n",
      "\u001b[1;31mNameError\u001b[0m: name 'coordinates' is not defined"
     ]
    }
   ],
   "source": [
    "# lista para almacenar nombres de archivo\n",
    "file_name = []\n",
    "# lista para alamcenar recorridos\n",
    "lineas = []\n",
    "\n",
    "# itera sobre la lista de nombres de archivos\n",
    "for i in contenido:\n",
    "    # directorio + nombre de archivo\n",
    "    path = path_kml + i\n",
    "    # leer el arbol de contenido del archivo\n",
    "    tree = ET.parse(path)\n",
    "    root = tree.getroot()\n",
    "    for placemark in root.findall(\".//kml:Placemark\", namespace):\n",
    "        coord_text = placemark.find(\".//kml:coordinates\", namespace).text.strip()\n",
    "        # obtiene las cooredenadas\n",
    "        coords = coord_text.split('\\n')\n",
    "        # lista para guardar las coors\n",
    "        coordinates = []\n",
    "        # recorre las coors\n",
    "        for j in coords:\n",
    "            # split para separa el 3er elemento que acompaña las coors\n",
    "            coord = j.split(',')\n",
    "            # agrega las coors a la lista\n",
    "            coordinates.append((float(coord[0]), float(coord[1])))\n",
    "    # conviente en DF\n",
    "    df = pd.DataFrame(coordinates, columns=['Longitude', 'Latitude'])\n",
    "    # convierte en GDF\n",
    "    gdf = gpd.GeoDataFrame(df, geometry=gpd.points_from_xy(df.Longitude, df.Latitude))\n",
    "    # convierte el GDF en Linea\n",
    "    line = LineString(gdf.geometry.tolist())\n",
    "    # se almacena en listas el nombre del archivo y la geomedia del recorrido\n",
    "    file_name.append(i)\n",
    "    lineas.append(line)"
   ]
  },
  {
   "cell_type": "code",
   "execution_count": 7,
   "id": "6d30a40a-b05d-4efa-9107-1fccbe49378e",
   "metadata": {},
   "outputs": [],
   "source": [
    "fechas = [extraer_fecha(i) for i in file_name]"
   ]
  },
  {
   "cell_type": "code",
   "execution_count": 8,
   "id": "d69d298a-6494-4ce8-9721-377323eafc90",
   "metadata": {},
   "outputs": [],
   "source": [
    "fechas = [format_date(i) for i in fechas]"
   ]
  },
  {
   "cell_type": "code",
   "execution_count": 9,
   "id": "768335eb-4b73-48ef-8031-28b0a1f262b2",
   "metadata": {},
   "outputs": [],
   "source": [
    "semanas = [week_number(i) for i in fechas]"
   ]
  },
  {
   "cell_type": "code",
   "execution_count": null,
   "id": "394708fe-7fc2-4c7a-924b-2ddb212a42d1",
   "metadata": {},
   "outputs": [],
   "source": []
  },
  {
   "cell_type": "code",
   "execution_count": null,
   "id": "275a3059-d2cb-41b4-9054-f65f5eb4312b",
   "metadata": {},
   "outputs": [],
   "source": []
  },
  {
   "cell_type": "code",
   "execution_count": 10,
   "id": "6d8cb069-7afd-460d-bd0b-1084acc7828a",
   "metadata": {
    "tags": []
   },
   "outputs": [],
   "source": [
    "# dic con la geometria y el file_name\n",
    "data_lineas = {\n",
    "    'geometry': lineas,\n",
    "    'nombre': file_name,\n",
    "    'fecha' : fechas,\n",
    "    'semana' : semanas\n",
    "}"
   ]
  },
  {
   "cell_type": "code",
   "execution_count": 11,
   "id": "1fa256a5-41f2-4b47-819f-09d3bd718980",
   "metadata": {
    "tags": []
   },
   "outputs": [],
   "source": [
    "gdf_lineas = gpd.GeoDataFrame(data_lineas)"
   ]
  },
  {
   "cell_type": "code",
   "execution_count": 12,
   "id": "e95033d3-7b65-4398-b2b4-b6398faf9fff",
   "metadata": {
    "tags": []
   },
   "outputs": [],
   "source": [
    "gdf_lineas.crs = \"EPSG:4326\""
   ]
  },
  {
   "cell_type": "code",
   "execution_count": 13,
   "id": "422ff311-5566-4a50-8c8b-cf8fa7a17ded",
   "metadata": {
    "tags": []
   },
   "outputs": [],
   "source": [
    "gdf_lineas = gdf_lineas.to_crs(epsg=32720)"
   ]
  },
  {
   "cell_type": "code",
   "execution_count": 14,
   "id": "05bda40f-a78e-4fc6-be18-4aeb06dd8825",
   "metadata": {},
   "outputs": [
    {
     "data": {
      "text/html": [
       "<div>\n",
       "<style scoped>\n",
       "    .dataframe tbody tr th:only-of-type {\n",
       "        vertical-align: middle;\n",
       "    }\n",
       "\n",
       "    .dataframe tbody tr th {\n",
       "        vertical-align: top;\n",
       "    }\n",
       "\n",
       "    .dataframe thead th {\n",
       "        text-align: right;\n",
       "    }\n",
       "</style>\n",
       "<table border=\"1\" class=\"dataframe\">\n",
       "  <thead>\n",
       "    <tr style=\"text-align: right;\">\n",
       "      <th></th>\n",
       "      <th>geometry</th>\n",
       "      <th>nombre</th>\n",
       "      <th>fecha</th>\n",
       "      <th>semana</th>\n",
       "    </tr>\n",
       "  </thead>\n",
       "  <tbody>\n",
       "    <tr>\n",
       "      <th>0</th>\n",
       "      <td>LINESTRING (482289.229 8101086.244, 482289.227...</td>\n",
       "      <td>Dec-12th-2023-11-01AM-Flight-Airdata.kml</td>\n",
       "      <td>12/12/2023</td>\n",
       "      <td>50.0</td>\n",
       "    </tr>\n",
       "    <tr>\n",
       "      <th>1</th>\n",
       "      <td>LINESTRING (482950.833 8101685.753, 482950.833...</td>\n",
       "      <td>Dec-12th-2023-11-03AM-Flight-Airdata.kml</td>\n",
       "      <td>12/12/2023</td>\n",
       "      <td>50.0</td>\n",
       "    </tr>\n",
       "    <tr>\n",
       "      <th>2</th>\n",
       "      <td>LINESTRING (486174.249 8104638.277, 486174.244...</td>\n",
       "      <td>Dec-12th-2023-12-49AM-Flight-Airdata.kml</td>\n",
       "      <td>12/12/2023</td>\n",
       "      <td>50.0</td>\n",
       "    </tr>\n",
       "    <tr>\n",
       "      <th>3</th>\n",
       "      <td>LINESTRING (477098.622 8097784.337, 477098.622...</td>\n",
       "      <td>Dec-13th-2023-09-05PM-Flight-Airdata.kml</td>\n",
       "      <td>13/12/2023</td>\n",
       "      <td>50.0</td>\n",
       "    </tr>\n",
       "    <tr>\n",
       "      <th>4</th>\n",
       "      <td>LINESTRING (477099.831 8097787.632, 477099.836...</td>\n",
       "      <td>Dec-13th-2023-09-22PM-Flight-Airdata.kml</td>\n",
       "      <td>13/12/2023</td>\n",
       "      <td>50.0</td>\n",
       "    </tr>\n",
       "    <tr>\n",
       "      <th>...</th>\n",
       "      <td>...</td>\n",
       "      <td>...</td>\n",
       "      <td>...</td>\n",
       "      <td>...</td>\n",
       "    </tr>\n",
       "    <tr>\n",
       "      <th>593</th>\n",
       "      <td>LINESTRING (467747.528 8079687.305, 467747.526...</td>\n",
       "      <td>Sep-9th-2023-07-28PM-Flight-Airdata.kml</td>\n",
       "      <td>09/09/2023</td>\n",
       "      <td>36.0</td>\n",
       "    </tr>\n",
       "    <tr>\n",
       "      <th>594</th>\n",
       "      <td>LINESTRING (468017.014 8079757.806, 468017.011...</td>\n",
       "      <td>Sep-9th-2023-07-39PM-Flight-Airdata.kml</td>\n",
       "      <td>09/09/2023</td>\n",
       "      <td>36.0</td>\n",
       "    </tr>\n",
       "    <tr>\n",
       "      <th>595</th>\n",
       "      <td>LINESTRING (467625.403 8080003.384, 467625.405...</td>\n",
       "      <td>Sep-9th-2023-08-03PM-Flight-Airdata.kml</td>\n",
       "      <td>09/09/2023</td>\n",
       "      <td>36.0</td>\n",
       "    </tr>\n",
       "    <tr>\n",
       "      <th>596</th>\n",
       "      <td>LINESTRING (467619.715 8080025.696, 467619.713...</td>\n",
       "      <td>Sep-9th-2023-08-51PM-Flight-Airdata.kml</td>\n",
       "      <td>09/09/2023</td>\n",
       "      <td>36.0</td>\n",
       "    </tr>\n",
       "    <tr>\n",
       "      <th>597</th>\n",
       "      <td>LINESTRING (467297.809 8079921.949, 467297.813...</td>\n",
       "      <td>Sep-9th-2023-09-20PM-Flight-Airdata.kml</td>\n",
       "      <td>09/09/2023</td>\n",
       "      <td>36.0</td>\n",
       "    </tr>\n",
       "  </tbody>\n",
       "</table>\n",
       "<p>598 rows × 4 columns</p>\n",
       "</div>"
      ],
      "text/plain": [
       "                                              geometry  \\\n",
       "0    LINESTRING (482289.229 8101086.244, 482289.227...   \n",
       "1    LINESTRING (482950.833 8101685.753, 482950.833...   \n",
       "2    LINESTRING (486174.249 8104638.277, 486174.244...   \n",
       "3    LINESTRING (477098.622 8097784.337, 477098.622...   \n",
       "4    LINESTRING (477099.831 8097787.632, 477099.836...   \n",
       "..                                                 ...   \n",
       "593  LINESTRING (467747.528 8079687.305, 467747.526...   \n",
       "594  LINESTRING (468017.014 8079757.806, 468017.011...   \n",
       "595  LINESTRING (467625.403 8080003.384, 467625.405...   \n",
       "596  LINESTRING (467619.715 8080025.696, 467619.713...   \n",
       "597  LINESTRING (467297.809 8079921.949, 467297.813...   \n",
       "\n",
       "                                       nombre       fecha  semana  \n",
       "0    Dec-12th-2023-11-01AM-Flight-Airdata.kml  12/12/2023    50.0  \n",
       "1    Dec-12th-2023-11-03AM-Flight-Airdata.kml  12/12/2023    50.0  \n",
       "2    Dec-12th-2023-12-49AM-Flight-Airdata.kml  12/12/2023    50.0  \n",
       "3    Dec-13th-2023-09-05PM-Flight-Airdata.kml  13/12/2023    50.0  \n",
       "4    Dec-13th-2023-09-22PM-Flight-Airdata.kml  13/12/2023    50.0  \n",
       "..                                        ...         ...     ...  \n",
       "593   Sep-9th-2023-07-28PM-Flight-Airdata.kml  09/09/2023    36.0  \n",
       "594   Sep-9th-2023-07-39PM-Flight-Airdata.kml  09/09/2023    36.0  \n",
       "595   Sep-9th-2023-08-03PM-Flight-Airdata.kml  09/09/2023    36.0  \n",
       "596   Sep-9th-2023-08-51PM-Flight-Airdata.kml  09/09/2023    36.0  \n",
       "597   Sep-9th-2023-09-20PM-Flight-Airdata.kml  09/09/2023    36.0  \n",
       "\n",
       "[598 rows x 4 columns]"
      ]
     },
     "execution_count": 14,
     "metadata": {},
     "output_type": "execute_result"
    }
   ],
   "source": [
    "gdf_lineas"
   ]
  },
  {
   "cell_type": "code",
   "execution_count": 15,
   "id": "1b2fb03a-015f-4ffa-9db3-e5c7ec0445fe",
   "metadata": {
    "tags": []
   },
   "outputs": [
    {
     "data": {
      "text/plain": [
       "<Axes: >"
      ]
     },
     "execution_count": 15,
     "metadata": {},
     "output_type": "execute_result"
    },
    {
     "data": {
      "image/png": "[encoded data removed]",
      "text/plain": [
       "<Figure size 640x480 with 1 Axes>"
      ]
     },
     "metadata": {},
     "output_type": "display_data"
    }
   ],
   "source": [
    "gdf_lineas.plot()"
   ]
  },
  {
   "cell_type": "code",
   "execution_count": 16,
   "id": "bcf22391-5a59-4fae-9d5a-cb9f7ea969b0",
   "metadata": {
    "tags": []
   },
   "outputs": [
    {
     "data": {
      "text/plain": [
       "598"
      ]
     },
     "execution_count": 16,
     "metadata": {},
     "output_type": "execute_result"
    }
   ],
   "source": [
    "len(gdf_lineas)"
   ]
  },
  {
   "cell_type": "code",
   "execution_count": 17,
   "id": "e53ccc88-5562-4a1d-b02d-9811386431d7",
   "metadata": {
    "tags": []
   },
   "outputs": [],
   "source": [
    "gdf_lineas.to_file('capa_kml_todo', driver=\"ESRI Shapefile\")"
   ]
  },
  {
   "cell_type": "code",
   "execution_count": null,
   "id": "411f0abd-dbdd-4f66-baff-24689da94120",
   "metadata": {},
   "outputs": [],
   "source": []
  },
  {
   "cell_type": "code",
   "execution_count": null,
   "id": "19d0826a-9172-41da-b16d-0e25bedb5dbf",
   "metadata": {},
   "outputs": [],
   "source": []
  },
  {
   "cell_type": "code",
   "execution_count": null,
   "id": "45c58798-bb89-4fd5-bf2c-e4e2ca83f985",
   "metadata": {},
   "outputs": [],
   "source": []
  },
  {
   "cell_type": "code",
   "execution_count": null,
   "id": "88900319-64f4-4a7d-ab4b-110e522c838f",
   "metadata": {},
   "outputs": [],
   "source": []
  },
  {
   "cell_type": "code",
   "execution_count": null,
   "id": "f2ff11a9-f7c4-49c5-9b10-63774a1f9469",
   "metadata": {},
   "outputs": [],
   "source": []
  },
  {
   "cell_type": "code",
   "execution_count": null,
   "id": "1c97c826-cd01-4bff-82fa-c48518b78d6b",
   "metadata": {},
   "outputs": [],
   "source": []
  },
  {
   "cell_type": "code",
   "execution_count": null,
   "id": "70c233ba-1181-4150-9817-ddb13b9b8864",
   "metadata": {},
   "outputs": [],
   "source": []
  },
  {
   "cell_type": "code",
   "execution_count": null,
   "id": "1860bb65-994e-4b61-9636-c6f7ea99c1b6",
   "metadata": {},
   "outputs": [],
   "source": []
  }
 ],
 "metadata": {
  "kernelspec": {
   "display_name": "Python 3 (ipykernel)",
   "language": "python",
   "name": "python3"
  },
  "language_info": {
   "codemirror_mode": {
    "name": "ipython",
    "version": 3
   },
   "file_extension": ".py",
   "mimetype": "text/x-python",
   "name": "python",
   "nbconvert_exporter": "python",
   "pygments_lexer": "ipython3",
   "version": "3.10.13"
  }
 },
 "nbformat": 4,
 "nbformat_minor": 5
}
