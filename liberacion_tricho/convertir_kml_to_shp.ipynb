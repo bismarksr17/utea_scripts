{
 "cells": [
  {
   "cell_type": "code",
   "execution_count": 18,
   "id": "76bdbda2-cb40-4967-a3c8-a57fe7fe2762",
   "metadata": {},
   "outputs": [],
   "source": [
    "import re\n",
    "from datetime import datetime"
   ]
  },
  {
   "cell_type": "code",
   "execution_count": 19,
   "id": "76931ea2-46e0-4c2b-9196-f371f34895ae",
   "metadata": {
    "tags": []
   },
   "outputs": [],
   "source": [
    "import os\n",
    "import geopandas as gpd\n",
    "import geemap\n",
    "import xml.etree.ElementTree as ET\n",
    "import pandas as pd\n",
    "from shapely.geometry import LineString\n",
    "\n",
    "# constante requerida\n",
    "namespace = {\"kml\": \"http://www.opengis.net/kml/2.2\"}"
   ]
  },
  {
   "cell_type": "code",
   "execution_count": 20,
   "id": "2b147dc3-6779-47d0-b0be-c64b0f4a81ce",
   "metadata": {
    "tags": []
   },
   "outputs": [
    {
     "data": {
      "text/plain": [
       "24"
      ]
     },
     "execution_count": 20,
     "metadata": {},
     "output_type": "execute_result"
    }
   ],
   "source": [
    "# Directorio donde están los archivos KML\n",
    "path_kml = r'C:/LOGS/10/KML/'\n",
    "contenido = os.listdir(path_kml)\n",
    "len(contenido)"
   ]
  },
  {
   "cell_type": "code",
   "execution_count": 21,
   "id": "ca8a992c-0f2e-48b1-b973-18cf7c30ab66",
   "metadata": {},
   "outputs": [
    {
     "data": {
      "text/plain": [
       "['Nov-1st-2023-01-52AM-Flight-Airdata.kml',\n",
       " 'Nov-1st-2023-03-02AM-Flight-Airdata.kml',\n",
       " 'Nov-1st-2023-04-33AM-Flight-Airdata.kml',\n",
       " 'Nov-1st-2023-11-28PM-Flight-Airdata.kml',\n",
       " 'Nov-1st-2023-12-10AM-Flight-Airdata.kml',\n",
       " 'Nov-4th-2023-04-45PM-Flight-Airdata.kml',\n",
       " 'Nov-4th-2023-07-49PM-Flight-Airdata.kml',\n",
       " 'Nov-4th-2023-08-16PM-Flight-Airdata.kml',\n",
       " 'Nov-4th-2023-11-39PM-Flight-Airdata.kml',\n",
       " 'Nov-4th-2023-11-56PM-Flight-Airdata.kml',\n",
       " 'Nov-5th-2023-04-27AM-Flight-Airdata.kml',\n",
       " 'Nov-5th-2023-04-59AM-Flight-Airdata.kml',\n",
       " 'Nov-5th-2023-09-34PM-Flight-Airdata.kml',\n",
       " 'Nov-5th-2023-10-10PM-Flight-Airdata.kml',\n",
       " 'Nov-5th-2023-10-40PM-Flight-Airdata.kml',\n",
       " 'Nov-5th-2023-11-41PM-Flight-Airdata.kml',\n",
       " 'Nov-6th-2023-01-46AM-Flight-Airdata.kml',\n",
       " 'Nov-6th-2023-02-15AM-Flight-Airdata.kml',\n",
       " 'Nov-6th-2023-05-09AM-Flight-Airdata.kml',\n",
       " 'Nov-6th-2023-12-02AM-Flight-Airdata.kml',\n",
       " 'Oct-31st-2023-07-48AM-Flight-Airdata.kml',\n",
       " 'Oct-31st-2023-08-55PM-Flight-Airdata.kml',\n",
       " 'Oct-31st-2023-09-17PM-Flight-Airdata.kml',\n",
       " 'Oct-31st-2023-09-41PM-Flight-Airdata.kml']"
      ]
     },
     "execution_count": 21,
     "metadata": {},
     "output_type": "execute_result"
    }
   ],
   "source": [
    "contenido"
   ]
  },
  {
   "cell_type": "code",
   "execution_count": 22,
   "id": "bec38e53-9581-49d8-a2c1-75143e6b9016",
   "metadata": {},
   "outputs": [],
   "source": [
    "def extraer_fecha(fecha_txt):\n",
    "    match = re.search(r\"([A-Za-z]{3}-\\d{1,2}[a-z]{2}-\\d{4})\", fecha_txt)\n",
    "    return match.group(1) if match else None\n",
    "\n",
    "def format_date(date_str):\n",
    "    try:\n",
    "        # Eliminar sufijos ordinales para facilitar la conversión\n",
    "        date_without_suffix = re.sub(r'(st|nd|rd|th)', '', date_str)\n",
    "        return pd.to_datetime(date_without_suffix, format='%b-%d-%Y').strftime('%d/%m/%Y')\n",
    "    except:\n",
    "        return None\n",
    "\n",
    "def week_number(date_str):\n",
    "    \"\"\"\n",
    "    Retorna el número de semana del año para una fecha dada en formato \"dd/mm/aaaa\".\n",
    "    \"\"\"\n",
    "    try:\n",
    "        date_obj = pd.to_datetime(date_str, format='%d/%m/%Y')\n",
    "        return date_obj.isocalendar()[1]  # El segundo valor de isocalendar() es el número de semana\n",
    "    except:\n",
    "        return None"
   ]
  },
  {
   "cell_type": "code",
   "execution_count": 23,
   "id": "44a2da82-e3af-43bb-8a0a-a0b81fbb1775",
   "metadata": {
    "tags": []
   },
   "outputs": [],
   "source": [
    "# lista para almacenar nombres de archivo\n",
    "file_name = []\n",
    "# lista para alamcenar recorridos\n",
    "lineas = []\n",
    "\n",
    "# itera sobre la lista de nombres de archivos\n",
    "for i in contenido:\n",
    "    # directorio + nombre de archivo\n",
    "    path = path_kml + i\n",
    "    # leer el arbol de contenido del archivo\n",
    "    tree = ET.parse(path)\n",
    "    root = tree.getroot()\n",
    "    for placemark in root.findall(\".//kml:Placemark\", namespace):\n",
    "        coord_text = placemark.find(\".//kml:coordinates\", namespace).text.strip()\n",
    "        # obtiene las cooredenadas\n",
    "        coords = coord_text.split('\\n')\n",
    "        # lista para guardar las coors\n",
    "        coordinates = []\n",
    "        # recorre las coors\n",
    "        for j in coords:\n",
    "            # split para separa el 3er elemento que acompaña las coors\n",
    "            coord = j.split(',')\n",
    "            # agrega las coors a la lista\n",
    "            coordinates.append((float(coord[0]), float(coord[1])))\n",
    "    # conviente en DF\n",
    "    df = pd.DataFrame(coordinates, columns=['Longitude', 'Latitude'])\n",
    "    # convierte en GDF\n",
    "    gdf = gpd.GeoDataFrame(df, geometry=gpd.points_from_xy(df.Longitude, df.Latitude))\n",
    "    # convierte el GDF en Linea\n",
    "    line = LineString(gdf.geometry.tolist())\n",
    "    # se almacena en listas el nombre del archivo y la geomedia del recorrido\n",
    "    file_name.append(i)\n",
    "    lineas.append(line)"
   ]
  },
  {
   "cell_type": "code",
   "execution_count": 24,
   "id": "6d30a40a-b05d-4efa-9107-1fccbe49378e",
   "metadata": {},
   "outputs": [],
   "source": [
    "fechas = [extraer_fecha(i) for i in file_name]"
   ]
  },
  {
   "cell_type": "code",
   "execution_count": 25,
   "id": "d69d298a-6494-4ce8-9721-377323eafc90",
   "metadata": {},
   "outputs": [],
   "source": [
    "fechas = [format_date(i) for i in fechas]"
   ]
  },
  {
   "cell_type": "code",
   "execution_count": 26,
   "id": "768335eb-4b73-48ef-8031-28b0a1f262b2",
   "metadata": {},
   "outputs": [],
   "source": [
    "semanas = [week_number(i) for i in fechas]"
   ]
  },
  {
   "cell_type": "code",
   "execution_count": null,
   "id": "394708fe-7fc2-4c7a-924b-2ddb212a42d1",
   "metadata": {},
   "outputs": [],
   "source": []
  },
  {
   "cell_type": "code",
   "execution_count": null,
   "id": "275a3059-d2cb-41b4-9054-f65f5eb4312b",
   "metadata": {},
   "outputs": [],
   "source": []
  },
  {
   "cell_type": "code",
   "execution_count": 27,
   "id": "6d8cb069-7afd-460d-bd0b-1084acc7828a",
   "metadata": {
    "tags": []
   },
   "outputs": [],
   "source": [
    "# dic con la geometria y el file_name\n",
    "data_lineas = {\n",
    "    'geometry': lineas,\n",
    "    'nombre': file_name,\n",
    "    'fecha' : fechas,\n",
    "    'semana' : semanas\n",
    "}"
   ]
  },
  {
   "cell_type": "code",
   "execution_count": 28,
   "id": "1fa256a5-41f2-4b47-819f-09d3bd718980",
   "metadata": {
    "tags": []
   },
   "outputs": [],
   "source": [
    "gdf_lineas = gpd.GeoDataFrame(data_lineas)"
   ]
  },
  {
   "cell_type": "code",
   "execution_count": 29,
   "id": "e95033d3-7b65-4398-b2b4-b6398faf9fff",
   "metadata": {
    "tags": []
   },
   "outputs": [],
   "source": [
    "gdf_lineas.crs = \"EPSG:4326\""
   ]
  },
  {
   "cell_type": "code",
   "execution_count": 30,
   "id": "422ff311-5566-4a50-8c8b-cf8fa7a17ded",
   "metadata": {
    "tags": []
   },
   "outputs": [],
   "source": [
    "gdf_lineas = gdf_lineas.to_crs(epsg=32720)"
   ]
  },
  {
   "cell_type": "code",
   "execution_count": 31,
   "id": "05bda40f-a78e-4fc6-be18-4aeb06dd8825",
   "metadata": {},
   "outputs": [
    {
     "data": {
      "text/html": [
       "<div>\n",
       "<style scoped>\n",
       "    .dataframe tbody tr th:only-of-type {\n",
       "        vertical-align: middle;\n",
       "    }\n",
       "\n",
       "    .dataframe tbody tr th {\n",
       "        vertical-align: top;\n",
       "    }\n",
       "\n",
       "    .dataframe thead th {\n",
       "        text-align: right;\n",
       "    }\n",
       "</style>\n",
       "<table border=\"1\" class=\"dataframe\">\n",
       "  <thead>\n",
       "    <tr style=\"text-align: right;\">\n",
       "      <th></th>\n",
       "      <th>geometry</th>\n",
       "      <th>nombre</th>\n",
       "      <th>fecha</th>\n",
       "      <th>semana</th>\n",
       "    </tr>\n",
       "  </thead>\n",
       "  <tbody>\n",
       "    <tr>\n",
       "      <th>0</th>\n",
       "      <td>LINESTRING (470124.129 8100366.716, 470124.235...</td>\n",
       "      <td>Nov-1st-2023-01-52AM-Flight-Airdata.kml</td>\n",
       "      <td>01/11/2023</td>\n",
       "      <td>44</td>\n",
       "    </tr>\n",
       "    <tr>\n",
       "      <th>1</th>\n",
       "      <td>LINESTRING (469958.702 8098420.080, 469958.712...</td>\n",
       "      <td>Nov-1st-2023-03-02AM-Flight-Airdata.kml</td>\n",
       "      <td>01/11/2023</td>\n",
       "      <td>44</td>\n",
       "    </tr>\n",
       "    <tr>\n",
       "      <th>2</th>\n",
       "      <td>LINESTRING (485378.699 8087741.410, 485378.720...</td>\n",
       "      <td>Nov-1st-2023-04-33AM-Flight-Airdata.kml</td>\n",
       "      <td>01/11/2023</td>\n",
       "      <td>44</td>\n",
       "    </tr>\n",
       "    <tr>\n",
       "      <th>3</th>\n",
       "      <td>LINESTRING (485030.211 8087014.870, 485030.190...</td>\n",
       "      <td>Nov-1st-2023-11-28PM-Flight-Airdata.kml</td>\n",
       "      <td>01/11/2023</td>\n",
       "      <td>44</td>\n",
       "    </tr>\n",
       "    <tr>\n",
       "      <th>4</th>\n",
       "      <td>LINESTRING (470019.413 8099606.924, 470019.402...</td>\n",
       "      <td>Nov-1st-2023-12-10AM-Flight-Airdata.kml</td>\n",
       "      <td>01/11/2023</td>\n",
       "      <td>44</td>\n",
       "    </tr>\n",
       "    <tr>\n",
       "      <th>5</th>\n",
       "      <td>LINESTRING (481179.144 8078869.314, 481179.154...</td>\n",
       "      <td>Nov-4th-2023-04-45PM-Flight-Airdata.kml</td>\n",
       "      <td>04/11/2023</td>\n",
       "      <td>44</td>\n",
       "    </tr>\n",
       "    <tr>\n",
       "      <th>6</th>\n",
       "      <td>LINESTRING (467982.840 8077278.758, 467982.883...</td>\n",
       "      <td>Nov-4th-2023-07-49PM-Flight-Airdata.kml</td>\n",
       "      <td>04/11/2023</td>\n",
       "      <td>44</td>\n",
       "    </tr>\n",
       "    <tr>\n",
       "      <th>7</th>\n",
       "      <td>LINESTRING (467982.530 8077279.886, 467982.499...</td>\n",
       "      <td>Nov-4th-2023-08-16PM-Flight-Airdata.kml</td>\n",
       "      <td>04/11/2023</td>\n",
       "      <td>44</td>\n",
       "    </tr>\n",
       "    <tr>\n",
       "      <th>8</th>\n",
       "      <td>LINESTRING (485358.474 8085884.206, 485358.506...</td>\n",
       "      <td>Nov-4th-2023-11-39PM-Flight-Airdata.kml</td>\n",
       "      <td>04/11/2023</td>\n",
       "      <td>44</td>\n",
       "    </tr>\n",
       "    <tr>\n",
       "      <th>9</th>\n",
       "      <td>LINESTRING (485358.442 8085884.538, 485358.602...</td>\n",
       "      <td>Nov-4th-2023-11-56PM-Flight-Airdata.kml</td>\n",
       "      <td>04/11/2023</td>\n",
       "      <td>44</td>\n",
       "    </tr>\n",
       "    <tr>\n",
       "      <th>10</th>\n",
       "      <td>LINESTRING (479463.481 8093827.010, 479463.449...</td>\n",
       "      <td>Nov-5th-2023-04-27AM-Flight-Airdata.kml</td>\n",
       "      <td>05/11/2023</td>\n",
       "      <td>44</td>\n",
       "    </tr>\n",
       "    <tr>\n",
       "      <th>11</th>\n",
       "      <td>LINESTRING (478662.979 8093835.476, 478663.022...</td>\n",
       "      <td>Nov-5th-2023-04-59AM-Flight-Airdata.kml</td>\n",
       "      <td>05/11/2023</td>\n",
       "      <td>44</td>\n",
       "    </tr>\n",
       "    <tr>\n",
       "      <th>12</th>\n",
       "      <td>LINESTRING (501350.893 8095339.902, 501350.851...</td>\n",
       "      <td>Nov-5th-2023-09-34PM-Flight-Airdata.kml</td>\n",
       "      <td>05/11/2023</td>\n",
       "      <td>44</td>\n",
       "    </tr>\n",
       "    <tr>\n",
       "      <th>13</th>\n",
       "      <td>LINESTRING (501349.820 8095341.164, 501349.851...</td>\n",
       "      <td>Nov-5th-2023-10-10PM-Flight-Airdata.kml</td>\n",
       "      <td>05/11/2023</td>\n",
       "      <td>44</td>\n",
       "    </tr>\n",
       "    <tr>\n",
       "      <th>14</th>\n",
       "      <td>LINESTRING (501347.066 8095339.571, 501347.066...</td>\n",
       "      <td>Nov-5th-2023-10-40PM-Flight-Airdata.kml</td>\n",
       "      <td>05/11/2023</td>\n",
       "      <td>44</td>\n",
       "    </tr>\n",
       "    <tr>\n",
       "      <th>15</th>\n",
       "      <td>LINESTRING (503868.694 8095179.173, 503868.620...</td>\n",
       "      <td>Nov-5th-2023-11-41PM-Flight-Airdata.kml</td>\n",
       "      <td>05/11/2023</td>\n",
       "      <td>44</td>\n",
       "    </tr>\n",
       "    <tr>\n",
       "      <th>16</th>\n",
       "      <td>LINESTRING (493657.611 8088651.183, 493657.600...</td>\n",
       "      <td>Nov-6th-2023-01-46AM-Flight-Airdata.kml</td>\n",
       "      <td>06/11/2023</td>\n",
       "      <td>45</td>\n",
       "    </tr>\n",
       "    <tr>\n",
       "      <th>17</th>\n",
       "      <td>LINESTRING (494090.397 8088708.098, 494090.376...</td>\n",
       "      <td>Nov-6th-2023-02-15AM-Flight-Airdata.kml</td>\n",
       "      <td>06/11/2023</td>\n",
       "      <td>45</td>\n",
       "    </tr>\n",
       "    <tr>\n",
       "      <th>18</th>\n",
       "      <td>LINESTRING (499156.382 8084046.511, 499156.393...</td>\n",
       "      <td>Nov-6th-2023-05-09AM-Flight-Airdata.kml</td>\n",
       "      <td>06/11/2023</td>\n",
       "      <td>45</td>\n",
       "    </tr>\n",
       "    <tr>\n",
       "      <th>19</th>\n",
       "      <td>LINESTRING (503868.896 8095179.803, 503868.918...</td>\n",
       "      <td>Nov-6th-2023-12-02AM-Flight-Airdata.kml</td>\n",
       "      <td>06/11/2023</td>\n",
       "      <td>45</td>\n",
       "    </tr>\n",
       "    <tr>\n",
       "      <th>20</th>\n",
       "      <td>LINESTRING (476382.510 8089361.702, 476382.489...</td>\n",
       "      <td>Oct-31st-2023-07-48AM-Flight-Airdata.kml</td>\n",
       "      <td>31/10/2023</td>\n",
       "      <td>44</td>\n",
       "    </tr>\n",
       "    <tr>\n",
       "      <th>21</th>\n",
       "      <td>LINESTRING (476719.634 8088696.522, 476719.602...</td>\n",
       "      <td>Oct-31st-2023-08-55PM-Flight-Airdata.kml</td>\n",
       "      <td>31/10/2023</td>\n",
       "      <td>44</td>\n",
       "    </tr>\n",
       "    <tr>\n",
       "      <th>22</th>\n",
       "      <td>LINESTRING (476719.133 8088696.998, 476719.197...</td>\n",
       "      <td>Oct-31st-2023-09-17PM-Flight-Airdata.kml</td>\n",
       "      <td>31/10/2023</td>\n",
       "      <td>44</td>\n",
       "    </tr>\n",
       "    <tr>\n",
       "      <th>23</th>\n",
       "      <td>LINESTRING (476968.933 8088727.747, 476968.923...</td>\n",
       "      <td>Oct-31st-2023-09-41PM-Flight-Airdata.kml</td>\n",
       "      <td>31/10/2023</td>\n",
       "      <td>44</td>\n",
       "    </tr>\n",
       "  </tbody>\n",
       "</table>\n",
       "</div>"
      ],
      "text/plain": [
       "                                             geometry  \\\n",
       "0   LINESTRING (470124.129 8100366.716, 470124.235...   \n",
       "1   LINESTRING (469958.702 8098420.080, 469958.712...   \n",
       "2   LINESTRING (485378.699 8087741.410, 485378.720...   \n",
       "3   LINESTRING (485030.211 8087014.870, 485030.190...   \n",
       "4   LINESTRING (470019.413 8099606.924, 470019.402...   \n",
       "5   LINESTRING (481179.144 8078869.314, 481179.154...   \n",
       "6   LINESTRING (467982.840 8077278.758, 467982.883...   \n",
       "7   LINESTRING (467982.530 8077279.886, 467982.499...   \n",
       "8   LINESTRING (485358.474 8085884.206, 485358.506...   \n",
       "9   LINESTRING (485358.442 8085884.538, 485358.602...   \n",
       "10  LINESTRING (479463.481 8093827.010, 479463.449...   \n",
       "11  LINESTRING (478662.979 8093835.476, 478663.022...   \n",
       "12  LINESTRING (501350.893 8095339.902, 501350.851...   \n",
       "13  LINESTRING (501349.820 8095341.164, 501349.851...   \n",
       "14  LINESTRING (501347.066 8095339.571, 501347.066...   \n",
       "15  LINESTRING (503868.694 8095179.173, 503868.620...   \n",
       "16  LINESTRING (493657.611 8088651.183, 493657.600...   \n",
       "17  LINESTRING (494090.397 8088708.098, 494090.376...   \n",
       "18  LINESTRING (499156.382 8084046.511, 499156.393...   \n",
       "19  LINESTRING (503868.896 8095179.803, 503868.918...   \n",
       "20  LINESTRING (476382.510 8089361.702, 476382.489...   \n",
       "21  LINESTRING (476719.634 8088696.522, 476719.602...   \n",
       "22  LINESTRING (476719.133 8088696.998, 476719.197...   \n",
       "23  LINESTRING (476968.933 8088727.747, 476968.923...   \n",
       "\n",
       "                                      nombre       fecha  semana  \n",
       "0    Nov-1st-2023-01-52AM-Flight-Airdata.kml  01/11/2023      44  \n",
       "1    Nov-1st-2023-03-02AM-Flight-Airdata.kml  01/11/2023      44  \n",
       "2    Nov-1st-2023-04-33AM-Flight-Airdata.kml  01/11/2023      44  \n",
       "3    Nov-1st-2023-11-28PM-Flight-Airdata.kml  01/11/2023      44  \n",
       "4    Nov-1st-2023-12-10AM-Flight-Airdata.kml  01/11/2023      44  \n",
       "5    Nov-4th-2023-04-45PM-Flight-Airdata.kml  04/11/2023      44  \n",
       "6    Nov-4th-2023-07-49PM-Flight-Airdata.kml  04/11/2023      44  \n",
       "7    Nov-4th-2023-08-16PM-Flight-Airdata.kml  04/11/2023      44  \n",
       "8    Nov-4th-2023-11-39PM-Flight-Airdata.kml  04/11/2023      44  \n",
       "9    Nov-4th-2023-11-56PM-Flight-Airdata.kml  04/11/2023      44  \n",
       "10   Nov-5th-2023-04-27AM-Flight-Airdata.kml  05/11/2023      44  \n",
       "11   Nov-5th-2023-04-59AM-Flight-Airdata.kml  05/11/2023      44  \n",
       "12   Nov-5th-2023-09-34PM-Flight-Airdata.kml  05/11/2023      44  \n",
       "13   Nov-5th-2023-10-10PM-Flight-Airdata.kml  05/11/2023      44  \n",
       "14   Nov-5th-2023-10-40PM-Flight-Airdata.kml  05/11/2023      44  \n",
       "15   Nov-5th-2023-11-41PM-Flight-Airdata.kml  05/11/2023      44  \n",
       "16   Nov-6th-2023-01-46AM-Flight-Airdata.kml  06/11/2023      45  \n",
       "17   Nov-6th-2023-02-15AM-Flight-Airdata.kml  06/11/2023      45  \n",
       "18   Nov-6th-2023-05-09AM-Flight-Airdata.kml  06/11/2023      45  \n",
       "19   Nov-6th-2023-12-02AM-Flight-Airdata.kml  06/11/2023      45  \n",
       "20  Oct-31st-2023-07-48AM-Flight-Airdata.kml  31/10/2023      44  \n",
       "21  Oct-31st-2023-08-55PM-Flight-Airdata.kml  31/10/2023      44  \n",
       "22  Oct-31st-2023-09-17PM-Flight-Airdata.kml  31/10/2023      44  \n",
       "23  Oct-31st-2023-09-41PM-Flight-Airdata.kml  31/10/2023      44  "
      ]
     },
     "execution_count": 31,
     "metadata": {},
     "output_type": "execute_result"
    }
   ],
   "source": [
    "gdf_lineas"
   ]
  },
  {
   "cell_type": "code",
   "execution_count": 32,
   "id": "1b2fb03a-015f-4ffa-9db3-e5c7ec0445fe",
   "metadata": {
    "tags": []
   },
   "outputs": [
    {
     "data": {
      "text/plain": [
       "<AxesSubplot:>"
      ]
     },
     "execution_count": 32,
     "metadata": {},
     "output_type": "execute_result"
    },
    {
     "data": {
      "image/png": "[encoded data removed]",
      "text/plain": [
       "<Figure size 640x480 with 1 Axes>"
      ]
     },
     "metadata": {},
     "output_type": "display_data"
    }
   ],
   "source": [
    "gdf_lineas.plot()"
   ]
  },
  {
   "cell_type": "code",
   "execution_count": 33,
   "id": "bcf22391-5a59-4fae-9d5a-cb9f7ea969b0",
   "metadata": {
    "tags": []
   },
   "outputs": [
    {
     "data": {
      "text/plain": [
       "24"
      ]
     },
     "execution_count": 33,
     "metadata": {},
     "output_type": "execute_result"
    }
   ],
   "source": [
    "len(gdf_lineas)"
   ]
  },
  {
   "cell_type": "code",
   "execution_count": 34,
   "id": "e53ccc88-5562-4a1d-b02d-9811386431d7",
   "metadata": {
    "tags": []
   },
   "outputs": [],
   "source": [
    "gdf_lineas.to_file('capa_logs', driver=\"ESRI Shapefile\")"
   ]
  },
  {
   "cell_type": "code",
   "execution_count": null,
   "id": "411f0abd-dbdd-4f66-baff-24689da94120",
   "metadata": {},
   "outputs": [],
   "source": []
  },
  {
   "cell_type": "code",
   "execution_count": null,
   "id": "19d0826a-9172-41da-b16d-0e25bedb5dbf",
   "metadata": {},
   "outputs": [],
   "source": []
  },
  {
   "cell_type": "code",
   "execution_count": null,
   "id": "45c58798-bb89-4fd5-bf2c-e4e2ca83f985",
   "metadata": {},
   "outputs": [],
   "source": []
  },
  {
   "cell_type": "code",
   "execution_count": null,
   "id": "88900319-64f4-4a7d-ab4b-110e522c838f",
   "metadata": {},
   "outputs": [],
   "source": []
  },
  {
   "cell_type": "code",
   "execution_count": null,
   "id": "f2ff11a9-f7c4-49c5-9b10-63774a1f9469",
   "metadata": {},
   "outputs": [],
   "source": []
  },
  {
   "cell_type": "code",
   "execution_count": null,
   "id": "1c97c826-cd01-4bff-82fa-c48518b78d6b",
   "metadata": {},
   "outputs": [],
   "source": []
  },
  {
   "cell_type": "code",
   "execution_count": null,
   "id": "70c233ba-1181-4150-9817-ddb13b9b8864",
   "metadata": {},
   "outputs": [],
   "source": []
  },
  {
   "cell_type": "code",
   "execution_count": null,
   "id": "1860bb65-994e-4b61-9636-c6f7ea99c1b6",
   "metadata": {},
   "outputs": [],
   "source": []
  }
 ],
 "metadata": {
  "kernelspec": {
   "display_name": "Python 3 (ipykernel)",
   "language": "python",
   "name": "python3"
  },
  "language_info": {
   "codemirror_mode": {
    "name": "ipython",
    "version": 3
   },
   "file_extension": ".py",
   "mimetype": "text/x-python",
   "name": "python",
   "nbconvert_exporter": "python",
   "pygments_lexer": "ipython3",
   "version": "3.7.16"
  }
 },
 "nbformat": 4,
 "nbformat_minor": 5
}
