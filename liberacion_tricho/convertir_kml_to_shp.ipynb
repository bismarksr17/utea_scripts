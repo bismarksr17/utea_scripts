{
 "cells": [
  {
   "cell_type": "code",
   "execution_count": 36,
   "id": "76bdbda2-cb40-4967-a3c8-a57fe7fe2762",
   "metadata": {},
   "outputs": [],
   "source": [
    "import re\n",
    "from datetime import datetime"
   ]
  },
  {
   "cell_type": "code",
   "execution_count": 37,
   "id": "76931ea2-46e0-4c2b-9196-f371f34895ae",
   "metadata": {
    "tags": []
   },
   "outputs": [],
   "source": [
    "import os\n",
    "import geopandas as gpd\n",
    "import geemap\n",
    "import xml.etree.ElementTree as ET\n",
    "import pandas as pd\n",
    "from shapely.geometry import LineString\n",
    "\n",
    "# constante requerida\n",
    "namespace = {\"kml\": \"http://www.opengis.net/kml/2.2\"}"
   ]
  },
  {
   "cell_type": "code",
   "execution_count": 38,
   "id": "2b147dc3-6779-47d0-b0be-c64b0f4a81ce",
   "metadata": {
    "tags": []
   },
   "outputs": [
    {
     "data": {
      "text/plain": [
       "20"
      ]
     },
     "execution_count": 38,
     "metadata": {},
     "output_type": "execute_result"
    }
   ],
   "source": [
    "# Directorio donde están los archivos KML\n",
    "path_kml = r'G:/OneDrive - Ingenio Azucarero Guabira S.A/UTEA_2023/PROYECTO AREA LIBERACION/LOGS/05/KML/'\n",
    "contenido = os.listdir(path_kml)\n",
    "len(contenido)"
   ]
  },
  {
   "cell_type": "code",
   "execution_count": 39,
   "id": "ca8a992c-0f2e-48b1-b973-18cf7c30ab66",
   "metadata": {},
   "outputs": [
    {
     "data": {
      "text/plain": [
       "['Oct-8th-2023-03-57PM-Flight-Airdata.kml',\n",
       " 'Oct-8th-2023-05-07PM-Flight-Airdata.kml',\n",
       " 'Oct-8th-2023-05-54PM-Flight-Airdata.kml',\n",
       " 'Oct-8th-2023-06-21PM-Flight-Airdata.kml',\n",
       " 'Oct-8th-2023-06-48PM-Flight-Airdata.kml',\n",
       " 'Oct-8th-2023-08-36PM-Flight-Airdata.kml',\n",
       " 'Oct-8th-2023-09-12PM-Flight-Airdata.kml',\n",
       " 'Oct-8th-2023-09-47PM-Flight-Airdata.kml',\n",
       " 'Oct-9th-2023-01-22AM-Flight-Airdata.kml',\n",
       " 'Oct-9th-2023-01-43AM-Flight-Airdata.kml',\n",
       " 'Oct-9th-2023-02-08AM-Flight-Airdata.kml',\n",
       " 'Oct-9th-2023-02-45AM-Flight-Airdata.kml',\n",
       " 'Oct-9th-2023-04-49PM-Flight-Airdata.kml',\n",
       " 'Oct-9th-2023-05-11PM-Flight-Airdata.kml',\n",
       " 'Oct-9th-2023-05-32PM-Flight-Airdata.kml',\n",
       " 'Oct-9th-2023-05-54PM-Flight-Airdata.kml',\n",
       " 'Oct-9th-2023-06-51PM-Flight-Airdata.kml',\n",
       " 'Oct-9th-2023-08-08PM-Flight-Airdata.kml',\n",
       " 'Oct-9th-2023-08-29PM-Flight-Airdata.kml',\n",
       " 'Oct-9th-2023-09-14PM-Flight-Airdata.kml']"
      ]
     },
     "execution_count": 39,
     "metadata": {},
     "output_type": "execute_result"
    }
   ],
   "source": [
    "contenido"
   ]
  },
  {
   "cell_type": "code",
   "execution_count": 40,
   "id": "bec38e53-9581-49d8-a2c1-75143e6b9016",
   "metadata": {},
   "outputs": [],
   "source": [
    "def extraer_fecha(fecha_txt):\n",
    "    match = re.search(r\"([A-Za-z]{3}-\\d{1,2}[a-z]{2}-\\d{4})\", fecha_txt)\n",
    "    return match.group(1) if match else None\n",
    "\n",
    "def format_date(date_str):\n",
    "    try:\n",
    "        # Eliminar sufijos ordinales para facilitar la conversión\n",
    "        date_without_suffix = re.sub(r'(st|nd|rd|th)', '', date_str)\n",
    "        return pd.to_datetime(date_without_suffix, format='%b-%d-%Y').strftime('%d/%m/%Y')\n",
    "    except:\n",
    "        return None\n",
    "\n",
    "def week_number(date_str):\n",
    "    \"\"\"\n",
    "    Retorna el número de semana del año para una fecha dada en formato \"dd/mm/aaaa\".\n",
    "    \"\"\"\n",
    "    try:\n",
    "        date_obj = pd.to_datetime(date_str, format='%d/%m/%Y')\n",
    "        return date_obj.isocalendar()[1]  # El segundo valor de isocalendar() es el número de semana\n",
    "    except:\n",
    "        return None"
   ]
  },
  {
   "cell_type": "code",
   "execution_count": 41,
   "id": "44a2da82-e3af-43bb-8a0a-a0b81fbb1775",
   "metadata": {
    "tags": []
   },
   "outputs": [],
   "source": [
    "# lista para almacenar nombres de archivo\n",
    "file_name = []\n",
    "# lista para alamcenar recorridos\n",
    "lineas = []\n",
    "\n",
    "# itera sobre la lista de nombres de archivos\n",
    "for i in contenido:\n",
    "    # directorio + nombre de archivo\n",
    "    path = path_kml + i\n",
    "    # leer el arbol de contenido del archivo\n",
    "    tree = ET.parse(path)\n",
    "    root = tree.getroot()\n",
    "    for placemark in root.findall(\".//kml:Placemark\", namespace):\n",
    "        coord_text = placemark.find(\".//kml:coordinates\", namespace).text.strip()\n",
    "        # obtiene las cooredenadas\n",
    "        coords = coord_text.split('\\n')\n",
    "        # lista para guardar las coors\n",
    "        coordinates = []\n",
    "        # recorre las coors\n",
    "        for j in coords:\n",
    "            # split para separa el 3er elemento que acompaña las coors\n",
    "            coord = j.split(',')\n",
    "            # agrega las coors a la lista\n",
    "            coordinates.append((float(coord[0]), float(coord[1])))\n",
    "    # conviente en DF\n",
    "    df = pd.DataFrame(coordinates, columns=['Longitude', 'Latitude'])\n",
    "    # convierte en GDF\n",
    "    gdf = gpd.GeoDataFrame(df, geometry=gpd.points_from_xy(df.Longitude, df.Latitude))\n",
    "    # convierte el GDF en Linea\n",
    "    line = LineString(gdf.geometry.tolist())\n",
    "    # se almacena en listas el nombre del archivo y la geomedia del recorrido\n",
    "    file_name.append(i)\n",
    "    lineas.append(line)"
   ]
  },
  {
   "cell_type": "code",
   "execution_count": 42,
   "id": "6d30a40a-b05d-4efa-9107-1fccbe49378e",
   "metadata": {},
   "outputs": [],
   "source": [
    "fechas = [extraer_fecha(i) for i in file_name]"
   ]
  },
  {
   "cell_type": "code",
   "execution_count": 43,
   "id": "d69d298a-6494-4ce8-9721-377323eafc90",
   "metadata": {},
   "outputs": [],
   "source": [
    "fechas = [format_date(i) for i in fechas]"
   ]
  },
  {
   "cell_type": "code",
   "execution_count": 44,
   "id": "768335eb-4b73-48ef-8031-28b0a1f262b2",
   "metadata": {},
   "outputs": [],
   "source": [
    "semanas = [week_number(i) for i in fechas]"
   ]
  },
  {
   "cell_type": "code",
   "execution_count": null,
   "id": "394708fe-7fc2-4c7a-924b-2ddb212a42d1",
   "metadata": {},
   "outputs": [],
   "source": []
  },
  {
   "cell_type": "code",
   "execution_count": null,
   "id": "275a3059-d2cb-41b4-9054-f65f5eb4312b",
   "metadata": {},
   "outputs": [],
   "source": []
  },
  {
   "cell_type": "code",
   "execution_count": 45,
   "id": "6d8cb069-7afd-460d-bd0b-1084acc7828a",
   "metadata": {
    "tags": []
   },
   "outputs": [],
   "source": [
    "# dic con la geometria y el file_name\n",
    "data_lineas = {\n",
    "    'geometry': lineas,\n",
    "    'nombre': file_name,\n",
    "    'fecha' : fechas,\n",
    "    'semana' : semanas\n",
    "}"
   ]
  },
  {
   "cell_type": "code",
   "execution_count": 46,
   "id": "1fa256a5-41f2-4b47-819f-09d3bd718980",
   "metadata": {
    "tags": []
   },
   "outputs": [],
   "source": [
    "gdf_lineas = gpd.GeoDataFrame(data_lineas)"
   ]
  },
  {
   "cell_type": "code",
   "execution_count": 47,
   "id": "e95033d3-7b65-4398-b2b4-b6398faf9fff",
   "metadata": {
    "tags": []
   },
   "outputs": [],
   "source": [
    "gdf_lineas.crs = \"EPSG:4326\""
   ]
  },
  {
   "cell_type": "code",
   "execution_count": 48,
   "id": "422ff311-5566-4a50-8c8b-cf8fa7a17ded",
   "metadata": {
    "tags": []
   },
   "outputs": [],
   "source": [
    "gdf_lineas = gdf_lineas.to_crs(epsg=32720)"
   ]
  },
  {
   "cell_type": "code",
   "execution_count": 49,
   "id": "05bda40f-a78e-4fc6-be18-4aeb06dd8825",
   "metadata": {},
   "outputs": [
    {
     "data": {
      "text/html": [
       "<div>\n",
       "<style scoped>\n",
       "    .dataframe tbody tr th:only-of-type {\n",
       "        vertical-align: middle;\n",
       "    }\n",
       "\n",
       "    .dataframe tbody tr th {\n",
       "        vertical-align: top;\n",
       "    }\n",
       "\n",
       "    .dataframe thead th {\n",
       "        text-align: right;\n",
       "    }\n",
       "</style>\n",
       "<table border=\"1\" class=\"dataframe\">\n",
       "  <thead>\n",
       "    <tr style=\"text-align: right;\">\n",
       "      <th></th>\n",
       "      <th>geometry</th>\n",
       "      <th>nombre</th>\n",
       "      <th>fecha</th>\n",
       "      <th>semana</th>\n",
       "    </tr>\n",
       "  </thead>\n",
       "  <tbody>\n",
       "    <tr>\n",
       "      <th>0</th>\n",
       "      <td>LINESTRING (502996.355 8094850.025, 502996.365...</td>\n",
       "      <td>Oct-8th-2023-03-57PM-Flight-Airdata.kml</td>\n",
       "      <td>08/10/2023</td>\n",
       "      <td>40</td>\n",
       "    </tr>\n",
       "    <tr>\n",
       "      <th>1</th>\n",
       "      <td>LINESTRING (501898.889 8094402.877, 501898.857...</td>\n",
       "      <td>Oct-8th-2023-05-07PM-Flight-Airdata.kml</td>\n",
       "      <td>08/10/2023</td>\n",
       "      <td>40</td>\n",
       "    </tr>\n",
       "    <tr>\n",
       "      <th>2</th>\n",
       "      <td>LINESTRING (501590.849 8095803.204, 501590.817...</td>\n",
       "      <td>Oct-8th-2023-05-54PM-Flight-Airdata.kml</td>\n",
       "      <td>08/10/2023</td>\n",
       "      <td>40</td>\n",
       "    </tr>\n",
       "    <tr>\n",
       "      <th>3</th>\n",
       "      <td>LINESTRING (501590.955 8095804.410, 501591.008...</td>\n",
       "      <td>Oct-8th-2023-06-21PM-Flight-Airdata.kml</td>\n",
       "      <td>08/10/2023</td>\n",
       "      <td>40</td>\n",
       "    </tr>\n",
       "    <tr>\n",
       "      <th>4</th>\n",
       "      <td>LINESTRING (501114.660 8094897.772, 501114.969...</td>\n",
       "      <td>Oct-8th-2023-06-48PM-Flight-Airdata.kml</td>\n",
       "      <td>08/10/2023</td>\n",
       "      <td>40</td>\n",
       "    </tr>\n",
       "    <tr>\n",
       "      <th>5</th>\n",
       "      <td>LINESTRING (500358.043 8095828.010, 500357.969...</td>\n",
       "      <td>Oct-8th-2023-08-36PM-Flight-Airdata.kml</td>\n",
       "      <td>08/10/2023</td>\n",
       "      <td>40</td>\n",
       "    </tr>\n",
       "    <tr>\n",
       "      <th>6</th>\n",
       "      <td>LINESTRING (500038.956 8096614.286, 500038.945...</td>\n",
       "      <td>Oct-8th-2023-09-12PM-Flight-Airdata.kml</td>\n",
       "      <td>08/10/2023</td>\n",
       "      <td>40</td>\n",
       "    </tr>\n",
       "    <tr>\n",
       "      <th>7</th>\n",
       "      <td>LINESTRING (499462.977 8095665.649, 499462.998...</td>\n",
       "      <td>Oct-8th-2023-09-47PM-Flight-Airdata.kml</td>\n",
       "      <td>08/10/2023</td>\n",
       "      <td>40</td>\n",
       "    </tr>\n",
       "    <tr>\n",
       "      <th>8</th>\n",
       "      <td>LINESTRING (476730.128 8088673.878, 476730.107...</td>\n",
       "      <td>Oct-9th-2023-01-22AM-Flight-Airdata.kml</td>\n",
       "      <td>09/10/2023</td>\n",
       "      <td>41</td>\n",
       "    </tr>\n",
       "    <tr>\n",
       "      <th>9</th>\n",
       "      <td>LINESTRING (476731.498 8088674.620, 476731.519...</td>\n",
       "      <td>Oct-9th-2023-01-43AM-Flight-Airdata.kml</td>\n",
       "      <td>09/10/2023</td>\n",
       "      <td>41</td>\n",
       "    </tr>\n",
       "    <tr>\n",
       "      <th>10</th>\n",
       "      <td>LINESTRING (476963.922 8088741.924, 476963.901...</td>\n",
       "      <td>Oct-9th-2023-02-08AM-Flight-Airdata.kml</td>\n",
       "      <td>09/10/2023</td>\n",
       "      <td>41</td>\n",
       "    </tr>\n",
       "    <tr>\n",
       "      <th>11</th>\n",
       "      <td>LINESTRING (476385.451 8089364.339, 476385.451...</td>\n",
       "      <td>Oct-9th-2023-02-45AM-Flight-Airdata.kml</td>\n",
       "      <td>09/10/2023</td>\n",
       "      <td>41</td>\n",
       "    </tr>\n",
       "    <tr>\n",
       "      <th>12</th>\n",
       "      <td>LINESTRING (462789.917 8099927.506, 462790.002...</td>\n",
       "      <td>Oct-9th-2023-04-49PM-Flight-Airdata.kml</td>\n",
       "      <td>09/10/2023</td>\n",
       "      <td>41</td>\n",
       "    </tr>\n",
       "    <tr>\n",
       "      <th>13</th>\n",
       "      <td>LINESTRING (462731.560 8100079.085, 462731.539...</td>\n",
       "      <td>Oct-9th-2023-05-11PM-Flight-Airdata.kml</td>\n",
       "      <td>09/10/2023</td>\n",
       "      <td>41</td>\n",
       "    </tr>\n",
       "    <tr>\n",
       "      <th>14</th>\n",
       "      <td>LINESTRING (462641.352 8100313.366, 462641.309...</td>\n",
       "      <td>Oct-9th-2023-05-32PM-Flight-Airdata.kml</td>\n",
       "      <td>09/10/2023</td>\n",
       "      <td>41</td>\n",
       "    </tr>\n",
       "    <tr>\n",
       "      <th>15</th>\n",
       "      <td>LINESTRING (462559.633 8100515.968, 462559.590...</td>\n",
       "      <td>Oct-9th-2023-05-54PM-Flight-Airdata.kml</td>\n",
       "      <td>09/10/2023</td>\n",
       "      <td>41</td>\n",
       "    </tr>\n",
       "    <tr>\n",
       "      <th>16</th>\n",
       "      <td>LINESTRING (463623.789 8101359.636, 463623.799...</td>\n",
       "      <td>Oct-9th-2023-06-51PM-Flight-Airdata.kml</td>\n",
       "      <td>09/10/2023</td>\n",
       "      <td>41</td>\n",
       "    </tr>\n",
       "    <tr>\n",
       "      <th>17</th>\n",
       "      <td>LINESTRING (457478.895 8102454.141, 457478.906...</td>\n",
       "      <td>Oct-9th-2023-08-08PM-Flight-Airdata.kml</td>\n",
       "      <td>09/10/2023</td>\n",
       "      <td>41</td>\n",
       "    </tr>\n",
       "    <tr>\n",
       "      <th>18</th>\n",
       "      <td>LINESTRING (457478.474 8102457.338, 457478.474...</td>\n",
       "      <td>Oct-9th-2023-08-29PM-Flight-Airdata.kml</td>\n",
       "      <td>09/10/2023</td>\n",
       "      <td>41</td>\n",
       "    </tr>\n",
       "    <tr>\n",
       "      <th>19</th>\n",
       "      <td>LINESTRING (458372.254 8101368.718, 458372.265...</td>\n",
       "      <td>Oct-9th-2023-09-14PM-Flight-Airdata.kml</td>\n",
       "      <td>09/10/2023</td>\n",
       "      <td>41</td>\n",
       "    </tr>\n",
       "  </tbody>\n",
       "</table>\n",
       "</div>"
      ],
      "text/plain": [
       "                                             geometry  \\\n",
       "0   LINESTRING (502996.355 8094850.025, 502996.365...   \n",
       "1   LINESTRING (501898.889 8094402.877, 501898.857...   \n",
       "2   LINESTRING (501590.849 8095803.204, 501590.817...   \n",
       "3   LINESTRING (501590.955 8095804.410, 501591.008...   \n",
       "4   LINESTRING (501114.660 8094897.772, 501114.969...   \n",
       "5   LINESTRING (500358.043 8095828.010, 500357.969...   \n",
       "6   LINESTRING (500038.956 8096614.286, 500038.945...   \n",
       "7   LINESTRING (499462.977 8095665.649, 499462.998...   \n",
       "8   LINESTRING (476730.128 8088673.878, 476730.107...   \n",
       "9   LINESTRING (476731.498 8088674.620, 476731.519...   \n",
       "10  LINESTRING (476963.922 8088741.924, 476963.901...   \n",
       "11  LINESTRING (476385.451 8089364.339, 476385.451...   \n",
       "12  LINESTRING (462789.917 8099927.506, 462790.002...   \n",
       "13  LINESTRING (462731.560 8100079.085, 462731.539...   \n",
       "14  LINESTRING (462641.352 8100313.366, 462641.309...   \n",
       "15  LINESTRING (462559.633 8100515.968, 462559.590...   \n",
       "16  LINESTRING (463623.789 8101359.636, 463623.799...   \n",
       "17  LINESTRING (457478.895 8102454.141, 457478.906...   \n",
       "18  LINESTRING (457478.474 8102457.338, 457478.474...   \n",
       "19  LINESTRING (458372.254 8101368.718, 458372.265...   \n",
       "\n",
       "                                     nombre       fecha  semana  \n",
       "0   Oct-8th-2023-03-57PM-Flight-Airdata.kml  08/10/2023      40  \n",
       "1   Oct-8th-2023-05-07PM-Flight-Airdata.kml  08/10/2023      40  \n",
       "2   Oct-8th-2023-05-54PM-Flight-Airdata.kml  08/10/2023      40  \n",
       "3   Oct-8th-2023-06-21PM-Flight-Airdata.kml  08/10/2023      40  \n",
       "4   Oct-8th-2023-06-48PM-Flight-Airdata.kml  08/10/2023      40  \n",
       "5   Oct-8th-2023-08-36PM-Flight-Airdata.kml  08/10/2023      40  \n",
       "6   Oct-8th-2023-09-12PM-Flight-Airdata.kml  08/10/2023      40  \n",
       "7   Oct-8th-2023-09-47PM-Flight-Airdata.kml  08/10/2023      40  \n",
       "8   Oct-9th-2023-01-22AM-Flight-Airdata.kml  09/10/2023      41  \n",
       "9   Oct-9th-2023-01-43AM-Flight-Airdata.kml  09/10/2023      41  \n",
       "10  Oct-9th-2023-02-08AM-Flight-Airdata.kml  09/10/2023      41  \n",
       "11  Oct-9th-2023-02-45AM-Flight-Airdata.kml  09/10/2023      41  \n",
       "12  Oct-9th-2023-04-49PM-Flight-Airdata.kml  09/10/2023      41  \n",
       "13  Oct-9th-2023-05-11PM-Flight-Airdata.kml  09/10/2023      41  \n",
       "14  Oct-9th-2023-05-32PM-Flight-Airdata.kml  09/10/2023      41  \n",
       "15  Oct-9th-2023-05-54PM-Flight-Airdata.kml  09/10/2023      41  \n",
       "16  Oct-9th-2023-06-51PM-Flight-Airdata.kml  09/10/2023      41  \n",
       "17  Oct-9th-2023-08-08PM-Flight-Airdata.kml  09/10/2023      41  \n",
       "18  Oct-9th-2023-08-29PM-Flight-Airdata.kml  09/10/2023      41  \n",
       "19  Oct-9th-2023-09-14PM-Flight-Airdata.kml  09/10/2023      41  "
      ]
     },
     "execution_count": 49,
     "metadata": {},
     "output_type": "execute_result"
    }
   ],
   "source": [
    "gdf_lineas"
   ]
  },
  {
   "cell_type": "code",
   "execution_count": 50,
   "id": "1b2fb03a-015f-4ffa-9db3-e5c7ec0445fe",
   "metadata": {
    "tags": []
   },
   "outputs": [
    {
     "data": {
      "text/plain": [
       "<AxesSubplot:>"
      ]
     },
     "execution_count": 50,
     "metadata": {},
     "output_type": "execute_result"
    },
    {
     "data": {
      "image/png": "[encoded data removed]",
      "text/plain": [
       "<Figure size 640x480 with 1 Axes>"
      ]
     },
     "metadata": {},
     "output_type": "display_data"
    }
   ],
   "source": [
    "gdf_lineas.plot()"
   ]
  },
  {
   "cell_type": "code",
   "execution_count": 51,
   "id": "bcf22391-5a59-4fae-9d5a-cb9f7ea969b0",
   "metadata": {
    "tags": []
   },
   "outputs": [
    {
     "data": {
      "text/plain": [
       "20"
      ]
     },
     "execution_count": 51,
     "metadata": {},
     "output_type": "execute_result"
    }
   ],
   "source": [
    "len(gdf_lineas)"
   ]
  },
  {
   "cell_type": "code",
   "execution_count": 53,
   "id": "e53ccc88-5562-4a1d-b02d-9811386431d7",
   "metadata": {
    "tags": []
   },
   "outputs": [],
   "source": [
    "gdf_lineas.to_file('capa_logs_05', driver=\"ESRI Shapefile\")"
   ]
  },
  {
   "cell_type": "code",
   "execution_count": null,
   "id": "411f0abd-dbdd-4f66-baff-24689da94120",
   "metadata": {},
   "outputs": [],
   "source": []
  },
  {
   "cell_type": "code",
   "execution_count": null,
   "id": "19d0826a-9172-41da-b16d-0e25bedb5dbf",
   "metadata": {},
   "outputs": [],
   "source": []
  },
  {
   "cell_type": "code",
   "execution_count": null,
   "id": "45c58798-bb89-4fd5-bf2c-e4e2ca83f985",
   "metadata": {},
   "outputs": [],
   "source": []
  },
  {
   "cell_type": "code",
   "execution_count": null,
   "id": "88900319-64f4-4a7d-ab4b-110e522c838f",
   "metadata": {},
   "outputs": [],
   "source": []
  },
  {
   "cell_type": "code",
   "execution_count": null,
   "id": "f2ff11a9-f7c4-49c5-9b10-63774a1f9469",
   "metadata": {},
   "outputs": [],
   "source": []
  },
  {
   "cell_type": "code",
   "execution_count": null,
   "id": "1c97c826-cd01-4bff-82fa-c48518b78d6b",
   "metadata": {},
   "outputs": [],
   "source": []
  },
  {
   "cell_type": "code",
   "execution_count": null,
   "id": "70c233ba-1181-4150-9817-ddb13b9b8864",
   "metadata": {},
   "outputs": [],
   "source": []
  },
  {
   "cell_type": "code",
   "execution_count": null,
   "id": "1860bb65-994e-4b61-9636-c6f7ea99c1b6",
   "metadata": {},
   "outputs": [],
   "source": []
  }
 ],
 "metadata": {
  "kernelspec": {
   "display_name": "Python 3 (ipykernel)",
   "language": "python",
   "name": "python3"
  },
  "language_info": {
   "codemirror_mode": {
    "name": "ipython",
    "version": 3
   },
   "file_extension": ".py",
   "mimetype": "text/x-python",
   "name": "python",
   "nbconvert_exporter": "python",
   "pygments_lexer": "ipython3",
   "version": "3.7.16"
  }
 },
 "nbformat": 4,
 "nbformat_minor": 5
}
