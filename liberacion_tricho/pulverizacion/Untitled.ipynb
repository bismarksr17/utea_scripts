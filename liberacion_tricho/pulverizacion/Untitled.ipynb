{
 "cells": [
  {
   "cell_type": "code",
   "execution_count": 3,
   "id": "f6d00dbf-c206-47a4-b18e-52e84bfa9b88",
   "metadata": {},
   "outputs": [],
   "source": [
    "from selenium import webdriver\n",
    "from selenium.webdriver.common.by import By\n",
    "from selenium.webdriver.common.keys import Keys\n",
    "from selenium.webdriver.edge.service import Service as EdgeService\n",
    "from selenium.webdriver.edge.options import Options as EdgeOptions\n",
    "from selenium.webdriver.support.ui import WebDriverWait\n",
    "from selenium.webdriver.support import expected_conditions as EC\n"
   ]
  },
  {
   "cell_type": "code",
   "execution_count": null,
   "id": "bd4226b5-96f5-4511-bc11-ebc99ca3cfc6",
   "metadata": {},
   "outputs": [],
   "source": []
  },
  {
   "cell_type": "code",
   "execution_count": 5,
   "id": "a67657a4-c753-463c-a867-9ee950243e4d",
   "metadata": {},
   "outputs": [
    {
     "name": "stdout",
     "output_type": "stream",
     "text": [
      "Ocurrió un error: Message: \n",
      "\n"
     ]
    }
   ],
   "source": [
    "# Configura las opciones y el servicio de Edge\n",
    "edge_options = EdgeOptions()\n",
    "edge_options.use_chromium = True\n",
    "\n",
    "service = EdgeService()  # Asumiendo que msedgedriver está en el PATH\n",
    "\n",
    "# Inicializa el controlador de Edge\n",
    "driver = webdriver.Edge(service=service, options=edge_options)\n",
    "\n",
    "try:\n",
    "    # Navega a la página de inicio de sesión\n",
    "    driver.get('https://account.dji.com/login?appId=dji_ag2_kr&backUrl=https%3A%2F%2Fagms-us.dji.com')\n",
    "\n",
    "    # Espera a que los campos de inicio de sesión estén presentes\n",
    "    wait = WebDriverWait(driver, 10)\n",
    "\n",
    "    # Encuentra los campos de usuario y contraseña\n",
    "    username_field = wait.until(EC.presence_of_element_located((By.NAME, 'username')))\n",
    "    password_field = wait.until(EC.presence_of_element_located((By.XPATH, '//input[@class=\"ac-input\" and @aria-label=\"Password\"]')))\n",
    "\n",
    "    # Ingresa tus credenciales\n",
    "    username_field.send_keys('msanchez@guabira.com')      # Reemplaza con tu usuario\n",
    "    password_field.send_keys('A123456*')   # Reemplaza con tu contraseña\n",
    "\n",
    "    # Envía el formulario\n",
    "    password_field.send_keys(Keys.RETURN)\n",
    "\n",
    "    # Espera a que se redirija después del inicio de sesión\n",
    "    wait.until(EC.url_contains('/records'))\n",
    "\n",
    "    # Navega a la página de registros con las fechas especificadas\n",
    "    driver.get('https://agms-us.dji.com/records?start_date=2024-09-23&end_date=2024-09-24')\n",
    "\n",
    "    # Espera a que los datos se carguen\n",
    "    wait.until(EC.presence_of_element_located((By.CSS_SELECTOR, '.data-table')))  # Reemplaza con un selector válido\n",
    "\n",
    "    # Extrae la información deseada\n",
    "    registros = driver.find_elements(By.CSS_SELECTOR, '.data-row')  # Reemplaza con la clase correcta\n",
    "\n",
    "    for registro in registros:\n",
    "        datos = registro.text\n",
    "        print(datos)\n",
    "\n",
    "except Exception as e:\n",
    "    print(f'Ocurrió un error: {e}')\n",
    "finally:\n",
    "    # Cierra el navegador\n",
    "    driver.quit()\n"
   ]
  },
  {
   "cell_type": "code",
   "execution_count": null,
   "id": "a5bc8502-ca09-45c2-87cf-ec81301c7d9a",
   "metadata": {},
   "outputs": [],
   "source": []
  },
  {
   "cell_type": "code",
   "execution_count": null,
   "id": "d41e76b6-72ff-4dcf-9723-f8ad00092921",
   "metadata": {},
   "outputs": [],
   "source": []
  },
  {
   "cell_type": "code",
   "execution_count": null,
   "id": "1c685092-ae77-4078-a97c-5e6136700219",
   "metadata": {},
   "outputs": [],
   "source": []
  },
  {
   "cell_type": "code",
   "execution_count": null,
   "id": "1d0b5710-6258-4bd3-9442-4b7f4f57fa78",
   "metadata": {},
   "outputs": [],
   "source": []
  },
  {
   "cell_type": "code",
   "execution_count": null,
   "id": "409eb415-1811-4d3a-981f-aab0f490178f",
   "metadata": {},
   "outputs": [],
   "source": []
  },
  {
   "cell_type": "code",
   "execution_count": 8,
   "id": "52d37b8e-d9f5-45cf-8655-afb6b38afb8c",
   "metadata": {},
   "outputs": [
    {
     "name": "stdout",
     "output_type": "stream",
     "text": [
      "Inicio de sesión exitoso\n",
      "<!DOCTYPE html>\n",
      "<html><!--[if lt IE 9]>\n",
      "    <script>\n",
      "      window.___isLTIE9 = true\n",
      "    </script>\n",
      "  <![endif]--><head><meta charset=\"utf-8\"/><meta content=\"大疆农业管理平台\" name=\"description\"/><meta content=\"大疆,农业机\" name=\"keywords\"/><meta content=\"IE=edge\" http-equiv=\"X-UA-Compatible\"/><link href=\"https://cdn.djiny.cn/mg-supervise/assets/static/images/icons/favicon.ico\" rel=\"shortcut icon\"/><link href=\"https://cdn.djiny.cn/mg-supervise/assets/static/css/element.11225339536e25e83565.css\" rel=\"stylesheet\"/><link href=\"https://cdn.djiny.cn/mg-supervise/assets/static/css/app.9947c3f2bd65f1b541d1.css\" rel=\"stylesheet\"/></head><script>window.dataLayer = window.dataLayer || []\n",
      "    function gtag() {window.dataLayer.push(arguments)}</script><body><app></app><script src=\"https://cdn.djiny.cn/mg-supervise/assets/static/js/vendor.dll.js?v=0530\"></script><script src=\"https://cdn.djiny.cn/mg-supervise/assets/static/js/33.bc76291a9157843633bd.js\" type=\"text/javascript\"></script><script src=\"https://cdn.djiny.cn/mg-supervise/assets/static/js/34.75d9996348f10293ff89.js\" type=\"text/javascript\"></script><script src=\"https://cdn.djiny.cn/mg-supervise/assets/static/js/app.ef139f0013f1129c4a6a.js\" type=\"text/javascript\"></script></body></html>\n"
     ]
    }
   ],
   "source": [
    "import requests\n",
    "from bs4 import BeautifulSoup\n",
    "\n",
    "# Inicia una sesión\n",
    "session = requests.Session()\n",
    "\n",
    "# URL de inicio de sesión\n",
    "login_url = 'https://account.dji.com/login?appId=dji_ag2_kr&backUrl=https%3A%2F%2Fagms-us.dji.com'  # Asegúrate de que esta es la URL correcta para el inicio de sesión\n",
    "\n",
    "# Datos de autenticación\n",
    "payload = {\n",
    "    'username': 'msanchez@guabira.com',      # Reemplaza 'tu_usuario' con tu nombre de usuario\n",
    "    'password': 'A123456*'    # Reemplaza 'tu_contraseña' con tu contraseña\n",
    "}\n",
    "\n",
    "# Realiza la solicitud de inicio de sesión\n",
    "response = session.post(login_url, data=payload)\n",
    "\n",
    "# Verifica si el inicio de sesión fue exitoso\n",
    "if response.ok:\n",
    "    print('Inicio de sesión exitoso')\n",
    "\n",
    "    # URL de la página que deseas acceder\n",
    "    data_url = 'https://agms-us.dji.com/records?start_date=2024-09-23&end_date=2024-09-24'\n",
    "\n",
    "    # Realiza la solicitud a la página de datos\n",
    "    data_response = session.get(data_url)\n",
    "\n",
    "    # Verifica si la solicitud fue exitosa\n",
    "    if data_response.ok:\n",
    "        # Procesa la información obtenida\n",
    "        soup = BeautifulSoup(data_response.text, 'html.parser')\n",
    "\n",
    "        # Ejemplo: extraer todos los enlaces de la página\n",
    "        for link in soup.find_all('a'):\n",
    "            print(link.get('href'))\n",
    "        print(soup)\n",
    "    else:\n",
    "        print('No se pudo acceder a la página de datos')\n",
    "else:\n",
    "    print('Error en el inicio de sesión')\n"
   ]
  },
  {
   "cell_type": "code",
   "execution_count": null,
   "id": "119a913d-b283-461f-81ca-3fc649cd5de3",
   "metadata": {},
   "outputs": [],
   "source": []
  },
  {
   "cell_type": "code",
   "execution_count": null,
   "id": "53dfdb44-f708-457d-b4dc-b8cb20e74c70",
   "metadata": {},
   "outputs": [],
   "source": []
  },
  {
   "cell_type": "code",
   "execution_count": null,
   "id": "04ed2a4f-3ca3-460b-871e-5fe818d6257a",
   "metadata": {},
   "outputs": [],
   "source": []
  },
  {
   "cell_type": "code",
   "execution_count": null,
   "id": "9b56a3f2-2d05-4063-b2bb-4956465f9ca1",
   "metadata": {},
   "outputs": [],
   "source": []
  },
  {
   "cell_type": "code",
   "execution_count": null,
   "id": "59aca698-9f33-4d98-b194-10d3b68e17a3",
   "metadata": {},
   "outputs": [],
   "source": []
  }
 ],
 "metadata": {
  "kernelspec": {
   "display_name": "Python 3 (ipykernel)",
   "language": "python",
   "name": "python3"
  },
  "language_info": {
   "codemirror_mode": {
    "name": "ipython",
    "version": 3
   },
   "file_extension": ".py",
   "mimetype": "text/x-python",
   "name": "python",
   "nbconvert_exporter": "python",
   "pygments_lexer": "ipython3",
   "version": "3.10.13"
  }
 },
 "nbformat": 4,
 "nbformat_minor": 5
}
