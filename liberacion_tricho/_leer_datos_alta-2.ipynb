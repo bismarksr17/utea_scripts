{
 "cells": [
  {
   "cell_type": "code",
   "execution_count": 75,
   "id": "471a58e2-7e57-4c39-9f66-2901e67bad16",
   "metadata": {},
   "outputs": [],
   "source": [
    "from pymavlink import mavutil\n",
    "\n",
    "import matplotlib.pyplot as plt\n",
    "import pandas as pd\n",
    "import os\n",
    "import geopandas as gpd\n",
    "from shapely.geometry import Point, LineString"
   ]
  },
  {
   "cell_type": "code",
   "execution_count": 76,
   "id": "504d15e2-1b8c-45c8-8f0a-b574cd569e93",
   "metadata": {},
   "outputs": [],
   "source": [
    "path_log01 = 'C:/Documents/Ingenio Azucarero Guabira S.A/UTEA - SEMANAL - EQUIPO AVIACION UTEA/Trichogramma/2024/TLOGS/ALTA_01'\n",
    "path_log02 = 'C:/Documents/Ingenio Azucarero Guabira S.A/UTEA - SEMANAL - EQUIPO AVIACION UTEA/Trichogramma/2024/TLOGS/ALTA_02'"
   ]
  },
  {
   "cell_type": "code",
   "execution_count": 77,
   "id": "995b1987-dbfc-43a2-b928-eb006f03cdce",
   "metadata": {},
   "outputs": [
    {
     "name": "stdout",
     "output_type": "stream",
     "text": [
      "01 -  29\n",
      "02 -  29\n"
     ]
    }
   ],
   "source": [
    "contenido01 = os.listdir(path_log01)\n",
    "contenido02 = os.listdir(path_log02)\n",
    "print('01 - ', len(contenido01))\n",
    "print('02 - ', len(contenido02))"
   ]
  },
  {
   "cell_type": "code",
   "execution_count": null,
   "id": "4f07311f-4009-43fd-a579-1d4e5d1672a7",
   "metadata": {},
   "outputs": [],
   "source": []
  },
  {
   "cell_type": "code",
   "execution_count": null,
   "id": "b6d23e69-9f9a-4b51-a168-29272665849a",
   "metadata": {},
   "outputs": [],
   "source": []
  },
  {
   "cell_type": "code",
   "execution_count": null,
   "id": "96d17b3b-8cb0-4b32-b00d-46c7f00dcb6f",
   "metadata": {},
   "outputs": [],
   "source": []
  },
  {
   "cell_type": "code",
   "execution_count": null,
   "id": "197cf366-c685-4fb5-935a-1afd3b5854ff",
   "metadata": {},
   "outputs": [],
   "source": []
  },
  {
   "cell_type": "code",
   "execution_count": null,
   "id": "6529963a-5ce1-4445-9239-e60986d608dc",
   "metadata": {},
   "outputs": [],
   "source": []
  },
  {
   "cell_type": "code",
   "execution_count": null,
   "id": "cf9fdc82-8c0c-48a0-9cf0-fc1c5d0f7bb2",
   "metadata": {},
   "outputs": [],
   "source": []
  },
  {
   "cell_type": "code",
   "execution_count": null,
   "id": "b6b7bfde-09f3-4984-b776-2b1862c1a09f",
   "metadata": {},
   "outputs": [],
   "source": []
  },
  {
   "cell_type": "code",
   "execution_count": 78,
   "id": "8c2304b6-d580-4226-bd27-6d4c1c4494eb",
   "metadata": {},
   "outputs": [],
   "source": [
    "def leer_logs(lista_logs):\n",
    "    list_geo = []\n",
    "    list_name = []\n",
    "    for i in lista_logs:\n",
    "        log = path_log + '/' + i\n",
    "        mlog = mavutil.mavlink_connection(log)\n",
    "        lats = []\n",
    "        lons = []\n",
    "        while True:\n",
    "            msg = mlog.recv_match()\n",
    "            if not msg:\n",
    "                break\n",
    "            # Ejemplo de procesamiento de mensaje\n",
    "            if msg.get_type() == 'GLOBAL_POSITION_INT':\n",
    "                lat = msg.lat / 1e7  # Latitud en grados\n",
    "                lon = msg.lon / 1e7  # Longitud en grados\n",
    "                lats.append(lat)\n",
    "                lons.append(lon)\n",
    "\n",
    "        coors = {'lat':lats, 'lon':lons}\n",
    "        df = pd.DataFrame(coors)\n",
    "        \n",
    "        geometry = [Point(xy) for xy in zip(df['lon'], df['lat'])]\n",
    "        line = LineString(geometry)\n",
    "        list_geo.append(line)\n",
    "        list_name.append(i)\n",
    "    #dict_lines = {'geos':list_geo, 'names':list_name}\n",
    "    #gdf_line = gpd.GeoDataFrame(dict_lines, crs=\"EPSG:4326\")\n",
    "    #gdf_line_utm = gdf_line.to_crs(epsg=32720)\n",
    "    return (list_geo, list_name)"
   ]
  },
  {
   "cell_type": "code",
   "execution_count": 61,
   "id": "7ad1bdb4-a366-4004-b7b8-3ce52c5ced96",
   "metadata": {},
   "outputs": [],
   "source": [
    "lineas, names = leer_logs(contenido)"
   ]
  },
  {
   "cell_type": "code",
   "execution_count": null,
   "id": "d29197ba-a0c1-4e30-87c5-3c2965973af9",
   "metadata": {},
   "outputs": [],
   "source": []
  },
  {
   "cell_type": "code",
   "execution_count": null,
   "id": "7b5c9a06-c61b-4246-9da5-432286fd5a71",
   "metadata": {},
   "outputs": [],
   "source": []
  },
  {
   "cell_type": "code",
   "execution_count": null,
   "id": "cd14dbcc-f0f5-47eb-b96c-c62b3194d372",
   "metadata": {},
   "outputs": [],
   "source": []
  },
  {
   "cell_type": "code",
   "execution_count": null,
   "id": "993eae07-ccd9-4d2a-8043-40b060fd99d2",
   "metadata": {},
   "outputs": [],
   "source": []
  },
  {
   "cell_type": "code",
   "execution_count": null,
   "id": "bacbc68c-87cf-4a21-a200-80d20f7ac330",
   "metadata": {},
   "outputs": [],
   "source": []
  },
  {
   "cell_type": "code",
   "execution_count": 79,
   "id": "87f25c9e-3f5c-43bb-952b-c33c3b509cab",
   "metadata": {},
   "outputs": [],
   "source": [
    "path_log = 'C:/Documents/Ingenio Azucarero Guabira S.A/UTEA - SEMANAL - EQUIPO AVIACION UTEA/Trichogramma/2024/TLOGS/ALTA_01'\n",
    "path_res = 'C:/Documents/Ingenio Azucarero Guabira S.A/UTEA - SEMANAL - EQUIPO AVIACION UTEA/Trichogramma/2024/TLOGS/ALTA_01'"
   ]
  },
  {
   "cell_type": "code",
   "execution_count": 80,
   "id": "cd649841-bc3f-4d98-92d4-24d1c63899ab",
   "metadata": {},
   "outputs": [
    {
     "data": {
      "text/plain": [
       "29"
      ]
     },
     "execution_count": 80,
     "metadata": {},
     "output_type": "execute_result"
    }
   ],
   "source": [
    "contenido = os.listdir(path_log)\n",
    "len(contenido)"
   ]
  },
  {
   "cell_type": "code",
   "execution_count": 81,
   "id": "bf4f30ab-b7a9-4fdf-a750-28a661aa7ce8",
   "metadata": {},
   "outputs": [],
   "source": [
    "contenido = contenido[0:2] "
   ]
  },
  {
   "cell_type": "code",
   "execution_count": 82,
   "id": "873ec0e8-99c8-4092-8198-c8bf25850965",
   "metadata": {},
   "outputs": [
    {
     "data": {
      "text/plain": [
       "['2024-07-01 13-11-17.tlog', '2024-07-01 17-37-19.tlog']"
      ]
     },
     "execution_count": 82,
     "metadata": {},
     "output_type": "execute_result"
    }
   ],
   "source": [
    "contenido"
   ]
  },
  {
   "cell_type": "code",
   "execution_count": 83,
   "id": "ca3c281f-b619-4640-92a2-6c815204fc7c",
   "metadata": {},
   "outputs": [],
   "source": [
    "def leer_logs(lista_logs):\n",
    "    list_geo = []\n",
    "    list_name = []\n",
    "    list_fecha = []\n",
    "    list_hora = []\n",
    "    for i in lista_logs:\n",
    "        log = path_log + '/' + i\n",
    "        \n",
    "        name = i.split('.')[0]\n",
    "        fecha = name.split(' ')[0]\n",
    "        hora = name.split(' ')[1]\n",
    "        \n",
    "        mlog = mavutil.mavlink_connection(log)\n",
    "        lats = []\n",
    "        lons = []\n",
    "        while True:\n",
    "            msg = mlog.recv_match()\n",
    "            if not msg:\n",
    "                break\n",
    "            # Ejemplo de procesamiento de mensaje\n",
    "            if msg.get_type() == 'GLOBAL_POSITION_INT':\n",
    "                lat = msg.lat / 1e7  # Latitud en grados\n",
    "                lon = msg.lon / 1e7  # Longitud en grados\n",
    "                lats.append(lat)\n",
    "                lons.append(lon)\n",
    "\n",
    "        coors = {'lat':lats, 'lon':lons}\n",
    "        df = pd.DataFrame(coors)\n",
    "        \n",
    "        geometry = [Point(xy) for xy in zip(df['lon'], df['lat'])]\n",
    "        line = LineString(geometry)\n",
    "        list_geo.append(line)\n",
    "        list_name.append(name)\n",
    "        list_fecha.append(fecha)\n",
    "        list_hora.append(hora)\n",
    "    #dict_lines = {'geos':list_geo, 'names':list_name}\n",
    "    #gdf_line = gpd.GeoDataFrame(dict_lines, crs=\"EPSG:4326\")\n",
    "    #gdf_line_utm = gdf_line.to_crs(epsg=32720)\n",
    "    return (list_geo, list_name, list_fecha, list_hora)"
   ]
  },
  {
   "cell_type": "code",
   "execution_count": 85,
   "id": "d28df3e9-37ed-403b-b3c8-c9873fa59851",
   "metadata": {},
   "outputs": [],
   "source": [
    "lineas, names, fecha, hora = leer_logs(contenido)"
   ]
  },
  {
   "cell_type": "code",
   "execution_count": 101,
   "id": "b2732243-a2cb-48c8-975e-b697911936d0",
   "metadata": {},
   "outputs": [
    {
     "data": {
      "text/plain": [
       "2"
      ]
     },
     "execution_count": 101,
     "metadata": {},
     "output_type": "execute_result"
    }
   ],
   "source": [
    "len(lineas)"
   ]
  },
  {
   "cell_type": "code",
   "execution_count": 102,
   "id": "a1f3f449-e9dc-4c8c-998d-2030df3da1b3",
   "metadata": {},
   "outputs": [
    {
     "data": {
      "text/plain": [
       "2"
      ]
     },
     "execution_count": 102,
     "metadata": {},
     "output_type": "execute_result"
    }
   ],
   "source": [
    "len(names)"
   ]
  },
  {
   "cell_type": "code",
   "execution_count": 103,
   "id": "65a842f9-e32d-455e-9f12-0d5461b62b56",
   "metadata": {},
   "outputs": [],
   "source": [
    "# Crear un GeoDataFrame con los LineStrings y sus nombres\n",
    "gdf_lines = gpd.GeoDataFrame({'name': names, 'fecha': fecha, 'hora': hora, 'geometry': lineas}, crs=\"EPSG:4326\")"
   ]
  },
  {
   "cell_type": "code",
   "execution_count": 104,
   "id": "76afc766-6f98-430f-bd2f-b94ad23f47d8",
   "metadata": {},
   "outputs": [
    {
     "data": {
      "text/html": [
       "<div>\n",
       "<style scoped>\n",
       "    .dataframe tbody tr th:only-of-type {\n",
       "        vertical-align: middle;\n",
       "    }\n",
       "\n",
       "    .dataframe tbody tr th {\n",
       "        vertical-align: top;\n",
       "    }\n",
       "\n",
       "    .dataframe thead th {\n",
       "        text-align: right;\n",
       "    }\n",
       "</style>\n",
       "<table border=\"1\" class=\"dataframe\">\n",
       "  <thead>\n",
       "    <tr style=\"text-align: right;\">\n",
       "      <th></th>\n",
       "      <th>name</th>\n",
       "      <th>fecha</th>\n",
       "      <th>hora</th>\n",
       "      <th>geometry</th>\n",
       "    </tr>\n",
       "  </thead>\n",
       "  <tbody>\n",
       "    <tr>\n",
       "      <th>0</th>\n",
       "      <td>2024-07-01 13-11-17</td>\n",
       "      <td>2024-07-01</td>\n",
       "      <td>13-11-17</td>\n",
       "      <td>LINESTRING (-63.19876 -17.24399, -63.19876 -17...</td>\n",
       "    </tr>\n",
       "    <tr>\n",
       "      <th>1</th>\n",
       "      <td>2024-07-01 17-37-19</td>\n",
       "      <td>2024-07-01</td>\n",
       "      <td>17-37-19</td>\n",
       "      <td>LINESTRING (-62.97410 -17.22839, -62.97410 -17...</td>\n",
       "    </tr>\n",
       "  </tbody>\n",
       "</table>\n",
       "</div>"
      ],
      "text/plain": [
       "                  name       fecha      hora  \\\n",
       "0  2024-07-01 13-11-17  2024-07-01  13-11-17   \n",
       "1  2024-07-01 17-37-19  2024-07-01  17-37-19   \n",
       "\n",
       "                                            geometry  \n",
       "0  LINESTRING (-63.19876 -17.24399, -63.19876 -17...  \n",
       "1  LINESTRING (-62.97410 -17.22839, -62.97410 -17...  "
      ]
     },
     "execution_count": 104,
     "metadata": {},
     "output_type": "execute_result"
    }
   ],
   "source": [
    "gdf_lines"
   ]
  },
  {
   "cell_type": "code",
   "execution_count": 105,
   "id": "e19354fd-3846-4f71-88b4-e546b8deb621",
   "metadata": {},
   "outputs": [],
   "source": [
    "# Función para dividir y limpiar las líneas\n",
    "def dividir_y_limpiar_linea(linea):\n",
    "    puntos = list(linea.coords)\n",
    "    nuevas_lineas = []\n",
    "    nueva_linea = []\n",
    "    \n",
    "    for punto in puntos:\n",
    "        if punto != (0, 0):\n",
    "            nueva_linea.append(punto)\n",
    "        else:\n",
    "            if nueva_linea:\n",
    "                nuevas_lineas.append(LineString(nueva_linea))\n",
    "                nueva_linea = []\n",
    "    \n",
    "    if nueva_linea:\n",
    "        nuevas_lineas.append(LineString(nueva_linea))\n",
    "    \n",
    "    return nuevas_lineas"
   ]
  },
  {
   "cell_type": "code",
   "execution_count": 106,
   "id": "7d405569-5da0-4ab6-8e82-b02a3dbdd4c2",
   "metadata": {},
   "outputs": [],
   "source": [
    "# Crear una lista para las nuevas líneas y nombres\n",
    "nuevas_lineas = []\n",
    "nuevos_nombres = []\n",
    "nuevos_fecha = []\n",
    "nuevos_hora = []\n",
    "for idx, row in gdf_lines.iterrows():\n",
    "    lineas_divididas = dividir_y_limpiar_linea(row.geometry)\n",
    "    for linea in lineas_divididas:\n",
    "        nuevas_lineas.append(linea)\n",
    "        nuevos_nombres.append(row['name'])\n",
    "        nuevos_fecha.append(row['fecha'])\n",
    "        nuevos_hora.append(row['hora'])"
   ]
  },
  {
   "cell_type": "code",
   "execution_count": 111,
   "id": "e094a348-a4b5-4743-8c3a-c7dc6fb7a21a",
   "metadata": {},
   "outputs": [],
   "source": [
    "# Crear un nuevo GeoDataFrame con las nuevas líneas\n",
    "gdf_lines = gpd.GeoDataFrame({'name': nuevos_nombres, 'fecha' : nuevos_fecha, 'hora' : nuevos_hora, 'geometry': nuevas_lineas}, crs=\"EPSG:4326\")"
   ]
  },
  {
   "cell_type": "code",
   "execution_count": 112,
   "id": "0c91619d-f9dd-46af-9149-acca387f08e1",
   "metadata": {},
   "outputs": [],
   "source": [
    "# Función para contar la cantidad de coordenadas en una geometría de tipo LINESTRING\n",
    "def contar_coordenadas(linea):\n",
    "    return len(linea.coords)"
   ]
  },
  {
   "cell_type": "code",
   "execution_count": 113,
   "id": "02e41758-ab6e-46f4-90f6-686f83fc16bb",
   "metadata": {},
   "outputs": [],
   "source": [
    "gdf_lines['cant_coor'] = gdf_lines['geometry'].apply(contar_coordenadas)"
   ]
  },
  {
   "cell_type": "code",
   "execution_count": null,
   "id": "bae564ef-227a-4a2c-ab89-cb2cc7d43c53",
   "metadata": {},
   "outputs": [],
   "source": []
  },
  {
   "cell_type": "code",
   "execution_count": 114,
   "id": "7c21bb5c-d89a-4d80-88da-c6a7ed188f99",
   "metadata": {},
   "outputs": [
    {
     "data": {
      "text/html": [
       "<div>\n",
       "<style scoped>\n",
       "    .dataframe tbody tr th:only-of-type {\n",
       "        vertical-align: middle;\n",
       "    }\n",
       "\n",
       "    .dataframe tbody tr th {\n",
       "        vertical-align: top;\n",
       "    }\n",
       "\n",
       "    .dataframe thead th {\n",
       "        text-align: right;\n",
       "    }\n",
       "</style>\n",
       "<table border=\"1\" class=\"dataframe\">\n",
       "  <thead>\n",
       "    <tr style=\"text-align: right;\">\n",
       "      <th></th>\n",
       "      <th>name</th>\n",
       "      <th>fecha</th>\n",
       "      <th>hora</th>\n",
       "      <th>geometry</th>\n",
       "      <th>cant_coor</th>\n",
       "    </tr>\n",
       "  </thead>\n",
       "  <tbody>\n",
       "    <tr>\n",
       "      <th>0</th>\n",
       "      <td>2024-07-01 13-11-17</td>\n",
       "      <td>2024-07-01</td>\n",
       "      <td>13-11-17</td>\n",
       "      <td>LINESTRING (-63.19876 -17.24399, -63.19876 -17...</td>\n",
       "      <td>6713</td>\n",
       "    </tr>\n",
       "    <tr>\n",
       "      <th>1</th>\n",
       "      <td>2024-07-01 13-11-17</td>\n",
       "      <td>2024-07-01</td>\n",
       "      <td>13-11-17</td>\n",
       "      <td>LINESTRING (-63.19873 -17.24403, -63.19874 -17...</td>\n",
       "      <td>3090</td>\n",
       "    </tr>\n",
       "    <tr>\n",
       "      <th>2</th>\n",
       "      <td>2024-07-01 17-37-19</td>\n",
       "      <td>2024-07-01</td>\n",
       "      <td>17-37-19</td>\n",
       "      <td>LINESTRING (-62.97410 -17.22839, -62.97410 -17...</td>\n",
       "      <td>264</td>\n",
       "    </tr>\n",
       "    <tr>\n",
       "      <th>3</th>\n",
       "      <td>2024-07-01 17-37-19</td>\n",
       "      <td>2024-07-01</td>\n",
       "      <td>17-37-19</td>\n",
       "      <td>LINESTRING (-62.97410 -17.22839, -62.97410 -17...</td>\n",
       "      <td>4338</td>\n",
       "    </tr>\n",
       "    <tr>\n",
       "      <th>4</th>\n",
       "      <td>2024-07-01 17-37-19</td>\n",
       "      <td>2024-07-01</td>\n",
       "      <td>17-37-19</td>\n",
       "      <td>LINESTRING (-62.97417 -17.22834, -62.97417 -17...</td>\n",
       "      <td>495</td>\n",
       "    </tr>\n",
       "  </tbody>\n",
       "</table>\n",
       "</div>"
      ],
      "text/plain": [
       "                  name       fecha      hora  \\\n",
       "0  2024-07-01 13-11-17  2024-07-01  13-11-17   \n",
       "1  2024-07-01 13-11-17  2024-07-01  13-11-17   \n",
       "2  2024-07-01 17-37-19  2024-07-01  17-37-19   \n",
       "3  2024-07-01 17-37-19  2024-07-01  17-37-19   \n",
       "4  2024-07-01 17-37-19  2024-07-01  17-37-19   \n",
       "\n",
       "                                            geometry  cant_coor  \n",
       "0  LINESTRING (-63.19876 -17.24399, -63.19876 -17...       6713  \n",
       "1  LINESTRING (-63.19873 -17.24403, -63.19874 -17...       3090  \n",
       "2  LINESTRING (-62.97410 -17.22839, -62.97410 -17...        264  \n",
       "3  LINESTRING (-62.97410 -17.22839, -62.97410 -17...       4338  \n",
       "4  LINESTRING (-62.97417 -17.22834, -62.97417 -17...        495  "
      ]
     },
     "execution_count": 114,
     "metadata": {},
     "output_type": "execute_result"
    }
   ],
   "source": [
    "gdf_lines"
   ]
  },
  {
   "cell_type": "code",
   "execution_count": 115,
   "id": "a04b10fb-340a-4b87-8ccd-d3a03057ceba",
   "metadata": {},
   "outputs": [
    {
     "data": {
      "text/plain": [
       "<Axes: >"
      ]
     },
     "execution_count": 115,
     "metadata": {},
     "output_type": "execute_result"
    },
    {
     "data": {
      "image/png": "[encoded data removed]",
      "text/plain": [
       "<Figure size 640x480 with 1 Axes>"
      ]
     },
     "metadata": {},
     "output_type": "display_data"
    }
   ],
   "source": [
    "gdf_lines.plot()"
   ]
  },
  {
   "cell_type": "code",
   "execution_count": 116,
   "id": "d663ceb7-df00-447c-858a-6493a884b0ed",
   "metadata": {},
   "outputs": [],
   "source": [
    "gdf_lines_utm = gdf_lines.to_crs(epsg=32720)"
   ]
  },
  {
   "cell_type": "code",
   "execution_count": 117,
   "id": "a6aa1191-afe4-485b-a918-93aa19dc8453",
   "metadata": {},
   "outputs": [],
   "source": [
    "output_path = 'output_lines_with_names_shapefile.shp'\n",
    "gdf_lines_utm.to_file(output_path)"
   ]
  },
  {
   "cell_type": "code",
   "execution_count": null,
   "id": "e1090b73-7bb8-41ac-bd65-d57718b11a2a",
   "metadata": {},
   "outputs": [],
   "source": []
  },
  {
   "cell_type": "code",
   "execution_count": null,
   "id": "2429b83e-6cf9-476d-a3ac-3b92cd38ad08",
   "metadata": {},
   "outputs": [],
   "source": []
  },
  {
   "cell_type": "code",
   "execution_count": null,
   "id": "0fd2aae3-cd66-47f2-b738-5d892c951c1c",
   "metadata": {},
   "outputs": [],
   "source": []
  },
  {
   "cell_type": "code",
   "execution_count": null,
   "id": "5a55b0c2-1843-45be-a876-53b396f21796",
   "metadata": {},
   "outputs": [],
   "source": []
  }
 ],
 "metadata": {
  "kernelspec": {
   "display_name": "Python 3 (ipykernel)",
   "language": "python",
   "name": "python3"
  },
  "language_info": {
   "codemirror_mode": {
    "name": "ipython",
    "version": 3
   },
   "file_extension": ".py",
   "mimetype": "text/x-python",
   "name": "python",
   "nbconvert_exporter": "python",
   "pygments_lexer": "ipython3",
   "version": "3.10.13"
  }
 },
 "nbformat": 4,
 "nbformat_minor": 5
}
