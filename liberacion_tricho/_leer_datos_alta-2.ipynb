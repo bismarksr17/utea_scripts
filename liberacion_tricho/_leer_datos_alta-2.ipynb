{
 "cells": [
  {
   "cell_type": "code",
   "execution_count": 1,
   "id": "471a58e2-7e57-4c39-9f66-2901e67bad16",
   "metadata": {},
   "outputs": [
    {
     "name": "stderr",
     "output_type": "stream",
     "text": [
      "C:\\Users\\Usuario\\AppData\\Local\\Temp\\ipykernel_34764\\2406777076.py:4: DeprecationWarning: \n",
      "Pyarrow will become a required dependency of pandas in the next major release of pandas (pandas 3.0),\n",
      "(to allow more performant data types, such as the Arrow string type, and better interoperability with other libraries)\n",
      "but was not found to be installed on your system.\n",
      "If this would cause problems for you,\n",
      "please provide us feedback at https://github.com/pandas-dev/pandas/issues/54466\n",
      "        \n",
      "  import pandas as pd\n"
     ]
    }
   ],
   "source": [
    "from pymavlink import mavutil\n",
    "\n",
    "import matplotlib.pyplot as plt\n",
    "import pandas as pd\n",
    "import os\n",
    "import geopandas as gpd\n",
    "from shapely.geometry import Point, LineString"
   ]
  },
  {
   "cell_type": "code",
   "execution_count": 26,
   "id": "2daa78ba-f5c9-44f1-b6b2-4640c8891024",
   "metadata": {},
   "outputs": [],
   "source": [
    "vehiculo = 'DA02'"
   ]
  },
  {
   "cell_type": "code",
   "execution_count": 27,
   "id": "267f5023-bc5a-45eb-8207-5364f8d9166d",
   "metadata": {},
   "outputs": [],
   "source": [
    "path_rec = r'G:\\Ingenio Azucarero Guabira S.A\\UTEA - SEMANAL - EQUIPO AVIACION UTEA\\Trichogramma\\2024\\SHP\\RECORRIDOS.shp'\n",
    "gdf_rec = gpd.read_file(path_rec)"
   ]
  },
  {
   "cell_type": "code",
   "execution_count": 28,
   "id": "504d15e2-1b8c-45c8-8f0a-b574cd569e93",
   "metadata": {},
   "outputs": [
    {
     "data": {
      "text/plain": [
       "151"
      ]
     },
     "execution_count": 28,
     "metadata": {},
     "output_type": "execute_result"
    }
   ],
   "source": [
    "if vehiculo == 'DA01':\n",
    "    path_log = r'G:\\Ingenio Azucarero Guabira S.A\\UTEA - SEMANAL - EQUIPO AVIACION UTEA\\Trichogramma\\2024\\TLOGS\\ALTA_01'\n",
    "elif vehiculo == 'DA02':\n",
    "    path_log = r'G:\\Ingenio Azucarero Guabira S.A\\UTEA - SEMANAL - EQUIPO AVIACION UTEA\\Trichogramma\\2024\\TLOGS\\ALTA_02'\n",
    "contenido = os.listdir(path_log)\n",
    "len(contenido)"
   ]
  },
  {
   "cell_type": "code",
   "execution_count": 29,
   "id": "3f11a10e-4884-402e-a913-268ed87089c8",
   "metadata": {},
   "outputs": [
    {
     "data": {
      "text/plain": [
       "22"
      ]
     },
     "execution_count": 29,
     "metadata": {},
     "output_type": "execute_result"
    }
   ],
   "source": [
    "# Filtrar la lista 'contenido' para excluir elementos que están en la columna 'nombre' del GeoDataFrame\n",
    "contenido_filtrado = [item for item in contenido if item not in gdf_rec['nombre'].values]\n",
    "len(contenido_filtrado)"
   ]
  },
  {
   "cell_type": "code",
   "execution_count": 30,
   "id": "ca3c281f-b619-4640-92a2-6c815204fc7c",
   "metadata": {},
   "outputs": [],
   "source": [
    "def leer_logs(lista_logs):\n",
    "    list_geo = []\n",
    "    list_name = []\n",
    "    for i in lista_logs:\n",
    "        log = path_log + '/' + i\n",
    "        \n",
    "        name = i\n",
    "        \n",
    "        mlog = mavutil.mavlink_connection(log)\n",
    "        lats = []\n",
    "        lons = []\n",
    "        while True:\n",
    "            msg = mlog.recv_match()\n",
    "            if not msg:\n",
    "                break\n",
    "            # Ejemplo de procesamiento de mensaje\n",
    "            if msg.get_type() == 'GLOBAL_POSITION_INT':\n",
    "                lat = msg.lat / 1e7  # Latitud en grados\n",
    "                lon = msg.lon / 1e7  # Longitud en grados\n",
    "                lats.append(lat)\n",
    "                lons.append(lon)\n",
    "\n",
    "        coors = {'lat':lats, 'lon':lons}\n",
    "        df = pd.DataFrame(coors)\n",
    "        \n",
    "        geometry = [Point(xy) for xy in zip(df['lon'], df['lat'])]\n",
    "        line = LineString(geometry)\n",
    "        list_geo.append(line)\n",
    "        list_name.append(name)\n",
    "    return (list_geo, list_name)"
   ]
  },
  {
   "cell_type": "code",
   "execution_count": 31,
   "id": "d28df3e9-37ed-403b-b3c8-c9873fa59851",
   "metadata": {},
   "outputs": [],
   "source": [
    "lineas, names = leer_logs(contenido_filtrado)"
   ]
  },
  {
   "cell_type": "code",
   "execution_count": 32,
   "id": "65a842f9-e32d-455e-9f12-0d5461b62b56",
   "metadata": {},
   "outputs": [],
   "source": [
    "# Crear un GeoDataFrame con los LineStrings y sus nombres\n",
    "gdf_lines = gpd.GeoDataFrame({'nombre': names, 'geometry': lineas}, crs=\"EPSG:4326\")"
   ]
  },
  {
   "cell_type": "code",
   "execution_count": 33,
   "id": "76afc766-6f98-430f-bd2f-b94ad23f47d8",
   "metadata": {},
   "outputs": [
    {
     "data": {
      "text/html": [
       "<div>\n",
       "<style scoped>\n",
       "    .dataframe tbody tr th:only-of-type {\n",
       "        vertical-align: middle;\n",
       "    }\n",
       "\n",
       "    .dataframe tbody tr th {\n",
       "        vertical-align: top;\n",
       "    }\n",
       "\n",
       "    .dataframe thead th {\n",
       "        text-align: right;\n",
       "    }\n",
       "</style>\n",
       "<table border=\"1\" class=\"dataframe\">\n",
       "  <thead>\n",
       "    <tr style=\"text-align: right;\">\n",
       "      <th></th>\n",
       "      <th>nombre</th>\n",
       "      <th>geometry</th>\n",
       "    </tr>\n",
       "  </thead>\n",
       "  <tbody>\n",
       "    <tr>\n",
       "      <th>0</th>\n",
       "      <td>2024-05-22 19-15-37.tlog</td>\n",
       "      <td>LINESTRING (-63.19817 -17.24319, -63.19817 -17...</td>\n",
       "    </tr>\n",
       "    <tr>\n",
       "      <th>1</th>\n",
       "      <td>2024-07-15 18-37-09.tlog</td>\n",
       "      <td>LINESTRING (0.00000 0.00000, 0.00000 0.00000, ...</td>\n",
       "    </tr>\n",
       "    <tr>\n",
       "      <th>2</th>\n",
       "      <td>2024-07-24 19-53-05.tlog</td>\n",
       "      <td>LINESTRING (0.00000 0.00000, 0.00000 0.00000, ...</td>\n",
       "    </tr>\n",
       "    <tr>\n",
       "      <th>3</th>\n",
       "      <td>2024-08-05 11-06-00.tlog</td>\n",
       "      <td>LINESTRING (0.00000 0.00000, 0.00000 0.00000, ...</td>\n",
       "    </tr>\n",
       "    <tr>\n",
       "      <th>4</th>\n",
       "      <td>2024-08-05 11-50-22.tlog</td>\n",
       "      <td>LINESTRING (-62.97348 -17.22879, -62.97348 -17...</td>\n",
       "    </tr>\n",
       "    <tr>\n",
       "      <th>5</th>\n",
       "      <td>2024-08-05 19-26-29.tlog</td>\n",
       "      <td>LINESTRING (-62.97542 -17.22767, -62.97542 -17...</td>\n",
       "    </tr>\n",
       "    <tr>\n",
       "      <th>6</th>\n",
       "      <td>2024-08-10 15-31-23.tlog</td>\n",
       "      <td>LINESTRING (-63.08562 -17.29282, -63.08562 -17...</td>\n",
       "    </tr>\n",
       "    <tr>\n",
       "      <th>7</th>\n",
       "      <td>2024-08-10 17-12-13.tlog</td>\n",
       "      <td>LINESTRING (-63.09124 -17.28632, -63.09124 -17...</td>\n",
       "    </tr>\n",
       "    <tr>\n",
       "      <th>8</th>\n",
       "      <td>2024-08-10 18-06-21.tlog</td>\n",
       "      <td>LINESTRING (-63.08508 -17.29283, -63.08508 -17...</td>\n",
       "    </tr>\n",
       "    <tr>\n",
       "      <th>9</th>\n",
       "      <td>2024-08-10 18-33-59.tlog</td>\n",
       "      <td>LINESTRING (-63.08265 -17.29169, -63.08265 -17...</td>\n",
       "    </tr>\n",
       "    <tr>\n",
       "      <th>10</th>\n",
       "      <td>2024-08-10 19-45-08.tlog</td>\n",
       "      <td>LINESTRING (-63.07762 -17.28615, -63.07762 -17...</td>\n",
       "    </tr>\n",
       "    <tr>\n",
       "      <th>11</th>\n",
       "      <td>2024-08-10 20-23-12.tlog</td>\n",
       "      <td>LINESTRING (-63.08937 -17.28098, -63.08937 -17...</td>\n",
       "    </tr>\n",
       "    <tr>\n",
       "      <th>12</th>\n",
       "      <td>2024-08-11 22-29-31.tlog</td>\n",
       "      <td>LINESTRING (-63.26357 -17.27646, -63.26357 -17...</td>\n",
       "    </tr>\n",
       "    <tr>\n",
       "      <th>13</th>\n",
       "      <td>2024-08-11 22-53-40.tlog</td>\n",
       "      <td>LINESTRING (-63.26354 -17.27646, -63.26354 -17...</td>\n",
       "    </tr>\n",
       "    <tr>\n",
       "      <th>14</th>\n",
       "      <td>2024-08-12 18-18-15.tlog</td>\n",
       "      <td>LINESTRING (0.00000 0.00000, 0.00000 0.00000, ...</td>\n",
       "    </tr>\n",
       "    <tr>\n",
       "      <th>15</th>\n",
       "      <td>2024-08-12 19-27-16.tlog</td>\n",
       "      <td>LINESTRING (-63.19781 -17.37296, -63.19781 -17...</td>\n",
       "    </tr>\n",
       "    <tr>\n",
       "      <th>16</th>\n",
       "      <td>2024-08-12 19-42-51.tlog</td>\n",
       "      <td>LINESTRING (-63.19782 -17.37296, -63.19782 -17...</td>\n",
       "    </tr>\n",
       "    <tr>\n",
       "      <th>17</th>\n",
       "      <td>2024-08-12 20-59-49.tlog</td>\n",
       "      <td>LINESTRING (-63.18039 -17.37246, -63.18039 -17...</td>\n",
       "    </tr>\n",
       "    <tr>\n",
       "      <th>18</th>\n",
       "      <td>2024-08-12 21-11-16.tlog</td>\n",
       "      <td>LINESTRING (-63.18044 -17.37254, -63.18044 -17...</td>\n",
       "    </tr>\n",
       "    <tr>\n",
       "      <th>19</th>\n",
       "      <td>2024-08-12 22-32-46.tlog</td>\n",
       "      <td>LINESTRING (-63.17490 -17.36812, -63.17490 -17...</td>\n",
       "    </tr>\n",
       "    <tr>\n",
       "      <th>20</th>\n",
       "      <td>2024-08-12 22-53-33.tlog</td>\n",
       "      <td>LINESTRING (-63.17514 -17.37715, -63.17514 -17...</td>\n",
       "    </tr>\n",
       "    <tr>\n",
       "      <th>21</th>\n",
       "      <td>2024-08-13 08-56-48.tlog</td>\n",
       "      <td>LINESTRING (-63.17367 -17.38381, -63.17367 -17...</td>\n",
       "    </tr>\n",
       "  </tbody>\n",
       "</table>\n",
       "</div>"
      ],
      "text/plain": [
       "                      nombre  \\\n",
       "0   2024-05-22 19-15-37.tlog   \n",
       "1   2024-07-15 18-37-09.tlog   \n",
       "2   2024-07-24 19-53-05.tlog   \n",
       "3   2024-08-05 11-06-00.tlog   \n",
       "4   2024-08-05 11-50-22.tlog   \n",
       "5   2024-08-05 19-26-29.tlog   \n",
       "6   2024-08-10 15-31-23.tlog   \n",
       "7   2024-08-10 17-12-13.tlog   \n",
       "8   2024-08-10 18-06-21.tlog   \n",
       "9   2024-08-10 18-33-59.tlog   \n",
       "10  2024-08-10 19-45-08.tlog   \n",
       "11  2024-08-10 20-23-12.tlog   \n",
       "12  2024-08-11 22-29-31.tlog   \n",
       "13  2024-08-11 22-53-40.tlog   \n",
       "14  2024-08-12 18-18-15.tlog   \n",
       "15  2024-08-12 19-27-16.tlog   \n",
       "16  2024-08-12 19-42-51.tlog   \n",
       "17  2024-08-12 20-59-49.tlog   \n",
       "18  2024-08-12 21-11-16.tlog   \n",
       "19  2024-08-12 22-32-46.tlog   \n",
       "20  2024-08-12 22-53-33.tlog   \n",
       "21  2024-08-13 08-56-48.tlog   \n",
       "\n",
       "                                             geometry  \n",
       "0   LINESTRING (-63.19817 -17.24319, -63.19817 -17...  \n",
       "1   LINESTRING (0.00000 0.00000, 0.00000 0.00000, ...  \n",
       "2   LINESTRING (0.00000 0.00000, 0.00000 0.00000, ...  \n",
       "3   LINESTRING (0.00000 0.00000, 0.00000 0.00000, ...  \n",
       "4   LINESTRING (-62.97348 -17.22879, -62.97348 -17...  \n",
       "5   LINESTRING (-62.97542 -17.22767, -62.97542 -17...  \n",
       "6   LINESTRING (-63.08562 -17.29282, -63.08562 -17...  \n",
       "7   LINESTRING (-63.09124 -17.28632, -63.09124 -17...  \n",
       "8   LINESTRING (-63.08508 -17.29283, -63.08508 -17...  \n",
       "9   LINESTRING (-63.08265 -17.29169, -63.08265 -17...  \n",
       "10  LINESTRING (-63.07762 -17.28615, -63.07762 -17...  \n",
       "11  LINESTRING (-63.08937 -17.28098, -63.08937 -17...  \n",
       "12  LINESTRING (-63.26357 -17.27646, -63.26357 -17...  \n",
       "13  LINESTRING (-63.26354 -17.27646, -63.26354 -17...  \n",
       "14  LINESTRING (0.00000 0.00000, 0.00000 0.00000, ...  \n",
       "15  LINESTRING (-63.19781 -17.37296, -63.19781 -17...  \n",
       "16  LINESTRING (-63.19782 -17.37296, -63.19782 -17...  \n",
       "17  LINESTRING (-63.18039 -17.37246, -63.18039 -17...  \n",
       "18  LINESTRING (-63.18044 -17.37254, -63.18044 -17...  \n",
       "19  LINESTRING (-63.17490 -17.36812, -63.17490 -17...  \n",
       "20  LINESTRING (-63.17514 -17.37715, -63.17514 -17...  \n",
       "21  LINESTRING (-63.17367 -17.38381, -63.17367 -17...  "
      ]
     },
     "execution_count": 33,
     "metadata": {},
     "output_type": "execute_result"
    }
   ],
   "source": [
    "gdf_lines"
   ]
  },
  {
   "cell_type": "code",
   "execution_count": 34,
   "id": "6a26d1ff-331f-4474-b665-2482b58a2e4d",
   "metadata": {},
   "outputs": [
    {
     "data": {
      "text/plain": [
       "<Axes: >"
      ]
     },
     "execution_count": 34,
     "metadata": {},
     "output_type": "execute_result"
    },
    {
     "data": {
      "image/png": "[encoded data removed]",
      "text/plain": [
       "<Figure size 640x480 with 1 Axes>"
      ]
     },
     "metadata": {},
     "output_type": "display_data"
    }
   ],
   "source": [
    "gdf_lines.plot()"
   ]
  },
  {
   "cell_type": "code",
   "execution_count": 35,
   "id": "e19354fd-3846-4f71-88b4-e546b8deb621",
   "metadata": {},
   "outputs": [],
   "source": [
    "# Función para dividir y limpiar las líneas\n",
    "def dividir_y_limpiar_linea(linea):\n",
    "    puntos = list(linea.coords)\n",
    "    nuevas_lineas = []\n",
    "    nueva_linea = []\n",
    "    \n",
    "    for punto in puntos:\n",
    "        if punto != (0, 0):\n",
    "            nueva_linea.append(punto)\n",
    "        else:\n",
    "            if nueva_linea:\n",
    "                nuevas_lineas.append(LineString(nueva_linea))\n",
    "                nueva_linea = []\n",
    "    \n",
    "    if nueva_linea:\n",
    "        nuevas_lineas.append(LineString(nueva_linea))\n",
    "    \n",
    "    return nuevas_lineas"
   ]
  },
  {
   "cell_type": "code",
   "execution_count": 36,
   "id": "7d405569-5da0-4ab6-8e82-b02a3dbdd4c2",
   "metadata": {},
   "outputs": [],
   "source": [
    "# Crear una lista para las nuevas líneas y nombres\n",
    "nuevas_lineas = []\n",
    "nuevos_nombres = []\n",
    "for idx, row in gdf_lines.iterrows():\n",
    "    lineas_divididas = dividir_y_limpiar_linea(row.geometry)\n",
    "    for linea in lineas_divididas:\n",
    "        nuevas_lineas.append(linea)\n",
    "        nuevos_nombres.append(row['nombre'])"
   ]
  },
  {
   "cell_type": "code",
   "execution_count": 37,
   "id": "e094a348-a4b5-4743-8c3a-c7dc6fb7a21a",
   "metadata": {},
   "outputs": [],
   "source": [
    "# Crear un nuevo GeoDataFrame con las nuevas líneas\n",
    "gdf_lines = gpd.GeoDataFrame({'nombre': nuevos_nombres, 'geometry': nuevas_lineas}, crs=\"EPSG:4326\")"
   ]
  },
  {
   "cell_type": "code",
   "execution_count": 38,
   "id": "0c91619d-f9dd-46af-9149-acca387f08e1",
   "metadata": {},
   "outputs": [],
   "source": [
    "# Función para contar la cantidad de coordenadas en una geometría de tipo LINESTRING\n",
    "def contar_coordenadas(linea):\n",
    "    return len(linea.coords)"
   ]
  },
  {
   "cell_type": "code",
   "execution_count": 39,
   "id": "02e41758-ab6e-46f4-90f6-686f83fc16bb",
   "metadata": {},
   "outputs": [],
   "source": [
    "gdf_lines['num_vert'] = gdf_lines['geometry'].apply(contar_coordenadas)"
   ]
  },
  {
   "cell_type": "code",
   "execution_count": 40,
   "id": "bae564ef-227a-4a2c-ab89-cb2cc7d43c53",
   "metadata": {},
   "outputs": [],
   "source": [
    "gdf_lines['vehiculo'] = vehiculo"
   ]
  },
  {
   "cell_type": "code",
   "execution_count": 41,
   "id": "7c21bb5c-d89a-4d80-88da-c6a7ed188f99",
   "metadata": {},
   "outputs": [
    {
     "data": {
      "text/html": [
       "<div>\n",
       "<style scoped>\n",
       "    .dataframe tbody tr th:only-of-type {\n",
       "        vertical-align: middle;\n",
       "    }\n",
       "\n",
       "    .dataframe tbody tr th {\n",
       "        vertical-align: top;\n",
       "    }\n",
       "\n",
       "    .dataframe thead th {\n",
       "        text-align: right;\n",
       "    }\n",
       "</style>\n",
       "<table border=\"1\" class=\"dataframe\">\n",
       "  <thead>\n",
       "    <tr style=\"text-align: right;\">\n",
       "      <th></th>\n",
       "      <th>nombre</th>\n",
       "      <th>geometry</th>\n",
       "      <th>num_vert</th>\n",
       "      <th>vehiculo</th>\n",
       "    </tr>\n",
       "  </thead>\n",
       "  <tbody>\n",
       "    <tr>\n",
       "      <th>0</th>\n",
       "      <td>2024-05-22 19-15-37.tlog</td>\n",
       "      <td>LINESTRING (-63.19817 -17.24319, -63.19817 -17...</td>\n",
       "      <td>8453</td>\n",
       "      <td>DA02</td>\n",
       "    </tr>\n",
       "    <tr>\n",
       "      <th>1</th>\n",
       "      <td>2024-08-05 11-50-22.tlog</td>\n",
       "      <td>LINESTRING (-62.97348 -17.22879, -62.97348 -17...</td>\n",
       "      <td>1758</td>\n",
       "      <td>DA02</td>\n",
       "    </tr>\n",
       "    <tr>\n",
       "      <th>2</th>\n",
       "      <td>2024-08-05 19-26-29.tlog</td>\n",
       "      <td>LINESTRING (-62.97542 -17.22767, -62.97542 -17...</td>\n",
       "      <td>3028</td>\n",
       "      <td>DA02</td>\n",
       "    </tr>\n",
       "    <tr>\n",
       "      <th>3</th>\n",
       "      <td>2024-08-10 15-31-23.tlog</td>\n",
       "      <td>LINESTRING (-63.08562 -17.29282, -63.08562 -17...</td>\n",
       "      <td>1390</td>\n",
       "      <td>DA02</td>\n",
       "    </tr>\n",
       "    <tr>\n",
       "      <th>4</th>\n",
       "      <td>2024-08-10 17-12-13.tlog</td>\n",
       "      <td>LINESTRING (-63.09124 -17.28632, -63.09124 -17...</td>\n",
       "      <td>2070</td>\n",
       "      <td>DA02</td>\n",
       "    </tr>\n",
       "    <tr>\n",
       "      <th>5</th>\n",
       "      <td>2024-08-10 17-12-13.tlog</td>\n",
       "      <td>LINESTRING (-63.09139 -17.28664, -63.09139 -17...</td>\n",
       "      <td>2012</td>\n",
       "      <td>DA02</td>\n",
       "    </tr>\n",
       "    <tr>\n",
       "      <th>6</th>\n",
       "      <td>2024-08-10 18-06-21.tlog</td>\n",
       "      <td>LINESTRING (-63.08508 -17.29283, -63.08508 -17...</td>\n",
       "      <td>3285</td>\n",
       "      <td>DA02</td>\n",
       "    </tr>\n",
       "    <tr>\n",
       "      <th>7</th>\n",
       "      <td>2024-08-10 18-06-21.tlog</td>\n",
       "      <td>LINESTRING (-63.08492 -17.29283, -63.08492 -17...</td>\n",
       "      <td>1606</td>\n",
       "      <td>DA02</td>\n",
       "    </tr>\n",
       "    <tr>\n",
       "      <th>8</th>\n",
       "      <td>2024-08-10 18-33-59.tlog</td>\n",
       "      <td>LINESTRING (-63.08265 -17.29169, -63.08265 -17...</td>\n",
       "      <td>2096</td>\n",
       "      <td>DA02</td>\n",
       "    </tr>\n",
       "    <tr>\n",
       "      <th>9</th>\n",
       "      <td>2024-08-10 19-45-08.tlog</td>\n",
       "      <td>LINESTRING (-63.07762 -17.28615, -63.07762 -17...</td>\n",
       "      <td>1038</td>\n",
       "      <td>DA02</td>\n",
       "    </tr>\n",
       "    <tr>\n",
       "      <th>10</th>\n",
       "      <td>2024-08-10 20-23-12.tlog</td>\n",
       "      <td>LINESTRING (-63.08937 -17.28098, -63.08937 -17...</td>\n",
       "      <td>1214</td>\n",
       "      <td>DA02</td>\n",
       "    </tr>\n",
       "    <tr>\n",
       "      <th>11</th>\n",
       "      <td>2024-08-11 22-29-31.tlog</td>\n",
       "      <td>LINESTRING (-63.26357 -17.27646, -63.26357 -17...</td>\n",
       "      <td>87</td>\n",
       "      <td>DA02</td>\n",
       "    </tr>\n",
       "    <tr>\n",
       "      <th>12</th>\n",
       "      <td>2024-08-11 22-29-31.tlog</td>\n",
       "      <td>LINESTRING (-63.26357 -17.27645, -63.26357 -17...</td>\n",
       "      <td>3034</td>\n",
       "      <td>DA02</td>\n",
       "    </tr>\n",
       "    <tr>\n",
       "      <th>13</th>\n",
       "      <td>2024-08-11 22-53-40.tlog</td>\n",
       "      <td>LINESTRING (-63.26354 -17.27646, -63.26354 -17...</td>\n",
       "      <td>1885</td>\n",
       "      <td>DA02</td>\n",
       "    </tr>\n",
       "    <tr>\n",
       "      <th>14</th>\n",
       "      <td>2024-08-12 18-18-15.tlog</td>\n",
       "      <td>LINESTRING (-63.26327 -17.27121, -63.26327 -17...</td>\n",
       "      <td>3479</td>\n",
       "      <td>DA02</td>\n",
       "    </tr>\n",
       "    <tr>\n",
       "      <th>15</th>\n",
       "      <td>2024-08-12 19-27-16.tlog</td>\n",
       "      <td>LINESTRING (-63.19781 -17.37296, -63.19781 -17...</td>\n",
       "      <td>2476</td>\n",
       "      <td>DA02</td>\n",
       "    </tr>\n",
       "    <tr>\n",
       "      <th>16</th>\n",
       "      <td>2024-08-12 19-42-51.tlog</td>\n",
       "      <td>LINESTRING (-63.19782 -17.37296, -63.19782 -17...</td>\n",
       "      <td>1577</td>\n",
       "      <td>DA02</td>\n",
       "    </tr>\n",
       "    <tr>\n",
       "      <th>17</th>\n",
       "      <td>2024-08-12 20-59-49.tlog</td>\n",
       "      <td>LINESTRING (-63.18039 -17.37246, -63.18039 -17...</td>\n",
       "      <td>2985</td>\n",
       "      <td>DA02</td>\n",
       "    </tr>\n",
       "    <tr>\n",
       "      <th>18</th>\n",
       "      <td>2024-08-12 21-11-16.tlog</td>\n",
       "      <td>LINESTRING (-63.18044 -17.37254, -63.18044 -17...</td>\n",
       "      <td>1841</td>\n",
       "      <td>DA02</td>\n",
       "    </tr>\n",
       "    <tr>\n",
       "      <th>19</th>\n",
       "      <td>2024-08-12 22-32-46.tlog</td>\n",
       "      <td>LINESTRING (-63.17490 -17.36812, -63.17490 -17...</td>\n",
       "      <td>2172</td>\n",
       "      <td>DA02</td>\n",
       "    </tr>\n",
       "    <tr>\n",
       "      <th>20</th>\n",
       "      <td>2024-08-12 22-53-33.tlog</td>\n",
       "      <td>LINESTRING (-63.17514 -17.37715, -63.17514 -17...</td>\n",
       "      <td>1574</td>\n",
       "      <td>DA02</td>\n",
       "    </tr>\n",
       "    <tr>\n",
       "      <th>21</th>\n",
       "      <td>2024-08-13 08-56-48.tlog</td>\n",
       "      <td>LINESTRING (-63.17367 -17.38381, -63.17367 -17...</td>\n",
       "      <td>3422</td>\n",
       "      <td>DA02</td>\n",
       "    </tr>\n",
       "    <tr>\n",
       "      <th>22</th>\n",
       "      <td>2024-08-13 08-56-48.tlog</td>\n",
       "      <td>LINESTRING (-63.17366 -17.38385, -63.17366 -17...</td>\n",
       "      <td>1402</td>\n",
       "      <td>DA02</td>\n",
       "    </tr>\n",
       "  </tbody>\n",
       "</table>\n",
       "</div>"
      ],
      "text/plain": [
       "                      nombre  \\\n",
       "0   2024-05-22 19-15-37.tlog   \n",
       "1   2024-08-05 11-50-22.tlog   \n",
       "2   2024-08-05 19-26-29.tlog   \n",
       "3   2024-08-10 15-31-23.tlog   \n",
       "4   2024-08-10 17-12-13.tlog   \n",
       "5   2024-08-10 17-12-13.tlog   \n",
       "6   2024-08-10 18-06-21.tlog   \n",
       "7   2024-08-10 18-06-21.tlog   \n",
       "8   2024-08-10 18-33-59.tlog   \n",
       "9   2024-08-10 19-45-08.tlog   \n",
       "10  2024-08-10 20-23-12.tlog   \n",
       "11  2024-08-11 22-29-31.tlog   \n",
       "12  2024-08-11 22-29-31.tlog   \n",
       "13  2024-08-11 22-53-40.tlog   \n",
       "14  2024-08-12 18-18-15.tlog   \n",
       "15  2024-08-12 19-27-16.tlog   \n",
       "16  2024-08-12 19-42-51.tlog   \n",
       "17  2024-08-12 20-59-49.tlog   \n",
       "18  2024-08-12 21-11-16.tlog   \n",
       "19  2024-08-12 22-32-46.tlog   \n",
       "20  2024-08-12 22-53-33.tlog   \n",
       "21  2024-08-13 08-56-48.tlog   \n",
       "22  2024-08-13 08-56-48.tlog   \n",
       "\n",
       "                                             geometry  num_vert vehiculo  \n",
       "0   LINESTRING (-63.19817 -17.24319, -63.19817 -17...      8453     DA02  \n",
       "1   LINESTRING (-62.97348 -17.22879, -62.97348 -17...      1758     DA02  \n",
       "2   LINESTRING (-62.97542 -17.22767, -62.97542 -17...      3028     DA02  \n",
       "3   LINESTRING (-63.08562 -17.29282, -63.08562 -17...      1390     DA02  \n",
       "4   LINESTRING (-63.09124 -17.28632, -63.09124 -17...      2070     DA02  \n",
       "5   LINESTRING (-63.09139 -17.28664, -63.09139 -17...      2012     DA02  \n",
       "6   LINESTRING (-63.08508 -17.29283, -63.08508 -17...      3285     DA02  \n",
       "7   LINESTRING (-63.08492 -17.29283, -63.08492 -17...      1606     DA02  \n",
       "8   LINESTRING (-63.08265 -17.29169, -63.08265 -17...      2096     DA02  \n",
       "9   LINESTRING (-63.07762 -17.28615, -63.07762 -17...      1038     DA02  \n",
       "10  LINESTRING (-63.08937 -17.28098, -63.08937 -17...      1214     DA02  \n",
       "11  LINESTRING (-63.26357 -17.27646, -63.26357 -17...        87     DA02  \n",
       "12  LINESTRING (-63.26357 -17.27645, -63.26357 -17...      3034     DA02  \n",
       "13  LINESTRING (-63.26354 -17.27646, -63.26354 -17...      1885     DA02  \n",
       "14  LINESTRING (-63.26327 -17.27121, -63.26327 -17...      3479     DA02  \n",
       "15  LINESTRING (-63.19781 -17.37296, -63.19781 -17...      2476     DA02  \n",
       "16  LINESTRING (-63.19782 -17.37296, -63.19782 -17...      1577     DA02  \n",
       "17  LINESTRING (-63.18039 -17.37246, -63.18039 -17...      2985     DA02  \n",
       "18  LINESTRING (-63.18044 -17.37254, -63.18044 -17...      1841     DA02  \n",
       "19  LINESTRING (-63.17490 -17.36812, -63.17490 -17...      2172     DA02  \n",
       "20  LINESTRING (-63.17514 -17.37715, -63.17514 -17...      1574     DA02  \n",
       "21  LINESTRING (-63.17367 -17.38381, -63.17367 -17...      3422     DA02  \n",
       "22  LINESTRING (-63.17366 -17.38385, -63.17366 -17...      1402     DA02  "
      ]
     },
     "execution_count": 41,
     "metadata": {},
     "output_type": "execute_result"
    }
   ],
   "source": [
    "gdf_lines"
   ]
  },
  {
   "cell_type": "code",
   "execution_count": 42,
   "id": "53ff8c8a-2a43-4afe-bed5-38f1530fdae0",
   "metadata": {},
   "outputs": [
    {
     "data": {
      "text/plain": [
       "<Axes: >"
      ]
     },
     "execution_count": 42,
     "metadata": {},
     "output_type": "execute_result"
    },
    {
     "data": {
      "image/png": "[encoded data removed]",
      "text/plain": [
       "<Figure size 640x480 with 1 Axes>"
      ]
     },
     "metadata": {},
     "output_type": "display_data"
    }
   ],
   "source": [
    "gdf_lines.plot()"
   ]
  },
  {
   "cell_type": "code",
   "execution_count": 43,
   "id": "d663ceb7-df00-447c-858a-6493a884b0ed",
   "metadata": {},
   "outputs": [],
   "source": [
    "gdf_lines.crs = \"EPSG:4326\"\n",
    "gdf_lines_utm = gdf_lines.to_crs(epsg=32720)"
   ]
  },
  {
   "cell_type": "code",
   "execution_count": 44,
   "id": "a04b10fb-340a-4b87-8ccd-d3a03057ceba",
   "metadata": {},
   "outputs": [
    {
     "data": {
      "text/plain": [
       "<Axes: >"
      ]
     },
     "execution_count": 44,
     "metadata": {},
     "output_type": "execute_result"
    },
    {
     "data": {
      "image/png": "[encoded data removed]",
      "text/plain": [
       "<Figure size 640x480 with 1 Axes>"
      ]
     },
     "metadata": {},
     "output_type": "display_data"
    }
   ],
   "source": [
    "gdf_lines_utm.plot()"
   ]
  },
  {
   "cell_type": "code",
   "execution_count": 45,
   "id": "6f4d4c1a-3d7a-467c-bc89-c93475ae3aca",
   "metadata": {},
   "outputs": [],
   "source": [
    "# Combinar los GeoDataFrames\n",
    "gdf_combined = gpd.GeoDataFrame(pd.concat([gdf_rec, gdf_lines_utm], ignore_index=True))\n",
    "# rellenar valores NaN\n",
    "gdf_combined['idd'] = gdf_combined['idd'].fillna(0).astype(int)"
   ]
  },
  {
   "cell_type": "code",
   "execution_count": 46,
   "id": "0eb2ed02-320b-4b64-921b-316c75f27ef9",
   "metadata": {},
   "outputs": [
    {
     "data": {
      "text/html": [
       "<div>\n",
       "<style scoped>\n",
       "    .dataframe tbody tr th:only-of-type {\n",
       "        vertical-align: middle;\n",
       "    }\n",
       "\n",
       "    .dataframe tbody tr th {\n",
       "        vertical-align: top;\n",
       "    }\n",
       "\n",
       "    .dataframe thead th {\n",
       "        text-align: right;\n",
       "    }\n",
       "</style>\n",
       "<table border=\"1\" class=\"dataframe\">\n",
       "  <thead>\n",
       "    <tr style=\"text-align: right;\">\n",
       "      <th></th>\n",
       "      <th>idd</th>\n",
       "      <th>nombre</th>\n",
       "      <th>vehiculo</th>\n",
       "      <th>num_vert</th>\n",
       "      <th>geometry</th>\n",
       "    </tr>\n",
       "  </thead>\n",
       "  <tbody>\n",
       "    <tr>\n",
       "      <th>0</th>\n",
       "      <td>0</td>\n",
       "      <td>Jul-20th-2024-08-43PM-Flight-Airdata.kml</td>\n",
       "      <td>DA03</td>\n",
       "      <td>807</td>\n",
       "      <td>LINESTRING (460257.759 8096126.683, 460257.759...</td>\n",
       "    </tr>\n",
       "    <tr>\n",
       "      <th>1</th>\n",
       "      <td>63</td>\n",
       "      <td>Jul-25th-2024-05-47PM-Flight-Airdata.kml</td>\n",
       "      <td>DA03</td>\n",
       "      <td>931</td>\n",
       "      <td>LINESTRING (456011.255 8084542.548, 456011.265...</td>\n",
       "    </tr>\n",
       "    <tr>\n",
       "      <th>2</th>\n",
       "      <td>63</td>\n",
       "      <td>Jul-25th-2024-06-51PM-Flight-Airdata.kml</td>\n",
       "      <td>DA03</td>\n",
       "      <td>1168</td>\n",
       "      <td>LINESTRING (455648.848 8084842.307, 455648.848...</td>\n",
       "    </tr>\n",
       "    <tr>\n",
       "      <th>3</th>\n",
       "      <td>63</td>\n",
       "      <td>Jul-25th-2024-07-06PM-Flight-Airdata.kml</td>\n",
       "      <td>DA03</td>\n",
       "      <td>1581</td>\n",
       "      <td>LINESTRING (455647.763 8084843.024, 455647.752...</td>\n",
       "    </tr>\n",
       "    <tr>\n",
       "      <th>4</th>\n",
       "      <td>0</td>\n",
       "      <td>Jul-25th-2024-10-42PM-Flight-Airdata.kml</td>\n",
       "      <td>DA03</td>\n",
       "      <td>1225</td>\n",
       "      <td>LINESTRING (460855.506 8095707.381, 460855.527...</td>\n",
       "    </tr>\n",
       "    <tr>\n",
       "      <th>...</th>\n",
       "      <td>...</td>\n",
       "      <td>...</td>\n",
       "      <td>...</td>\n",
       "      <td>...</td>\n",
       "      <td>...</td>\n",
       "    </tr>\n",
       "    <tr>\n",
       "      <th>454</th>\n",
       "      <td>0</td>\n",
       "      <td>2024-08-12 21-11-16.tlog</td>\n",
       "      <td>DA02</td>\n",
       "      <td>1841</td>\n",
       "      <td>LINESTRING (480831.410 8079222.585, 480831.410...</td>\n",
       "    </tr>\n",
       "    <tr>\n",
       "      <th>455</th>\n",
       "      <td>0</td>\n",
       "      <td>2024-08-12 22-32-46.tlog</td>\n",
       "      <td>DA02</td>\n",
       "      <td>2172</td>\n",
       "      <td>LINESTRING (481419.314 8079712.444, 481419.282...</td>\n",
       "    </tr>\n",
       "    <tr>\n",
       "      <th>456</th>\n",
       "      <td>0</td>\n",
       "      <td>2024-08-12 22-53-33.tlog</td>\n",
       "      <td>DA02</td>\n",
       "      <td>1574</td>\n",
       "      <td>LINESTRING (481395.038 8078713.514, 481395.038...</td>\n",
       "    </tr>\n",
       "    <tr>\n",
       "      <th>457</th>\n",
       "      <td>0</td>\n",
       "      <td>2024-08-13 08-56-48.tlog</td>\n",
       "      <td>DA02</td>\n",
       "      <td>3422</td>\n",
       "      <td>LINESTRING (481551.787 8077976.442, 481551.787...</td>\n",
       "    </tr>\n",
       "    <tr>\n",
       "      <th>458</th>\n",
       "      <td>0</td>\n",
       "      <td>2024-08-13 08-56-48.tlog</td>\n",
       "      <td>DA02</td>\n",
       "      <td>1402</td>\n",
       "      <td>LINESTRING (481553.256 8077972.394, 481553.246...</td>\n",
       "    </tr>\n",
       "  </tbody>\n",
       "</table>\n",
       "<p>459 rows × 5 columns</p>\n",
       "</div>"
      ],
      "text/plain": [
       "     idd                                    nombre vehiculo  num_vert  \\\n",
       "0      0  Jul-20th-2024-08-43PM-Flight-Airdata.kml     DA03       807   \n",
       "1     63  Jul-25th-2024-05-47PM-Flight-Airdata.kml     DA03       931   \n",
       "2     63  Jul-25th-2024-06-51PM-Flight-Airdata.kml     DA03      1168   \n",
       "3     63  Jul-25th-2024-07-06PM-Flight-Airdata.kml     DA03      1581   \n",
       "4      0  Jul-25th-2024-10-42PM-Flight-Airdata.kml     DA03      1225   \n",
       "..   ...                                       ...      ...       ...   \n",
       "454    0                  2024-08-12 21-11-16.tlog     DA02      1841   \n",
       "455    0                  2024-08-12 22-32-46.tlog     DA02      2172   \n",
       "456    0                  2024-08-12 22-53-33.tlog     DA02      1574   \n",
       "457    0                  2024-08-13 08-56-48.tlog     DA02      3422   \n",
       "458    0                  2024-08-13 08-56-48.tlog     DA02      1402   \n",
       "\n",
       "                                              geometry  \n",
       "0    LINESTRING (460257.759 8096126.683, 460257.759...  \n",
       "1    LINESTRING (456011.255 8084542.548, 456011.265...  \n",
       "2    LINESTRING (455648.848 8084842.307, 455648.848...  \n",
       "3    LINESTRING (455647.763 8084843.024, 455647.752...  \n",
       "4    LINESTRING (460855.506 8095707.381, 460855.527...  \n",
       "..                                                 ...  \n",
       "454  LINESTRING (480831.410 8079222.585, 480831.410...  \n",
       "455  LINESTRING (481419.314 8079712.444, 481419.282...  \n",
       "456  LINESTRING (481395.038 8078713.514, 481395.038...  \n",
       "457  LINESTRING (481551.787 8077976.442, 481551.787...  \n",
       "458  LINESTRING (481553.256 8077972.394, 481553.246...  \n",
       "\n",
       "[459 rows x 5 columns]"
      ]
     },
     "execution_count": 46,
     "metadata": {},
     "output_type": "execute_result"
    }
   ],
   "source": [
    "gdf_combined"
   ]
  },
  {
   "cell_type": "code",
   "execution_count": 47,
   "id": "a533a1fd-3f67-457f-9b09-9607ef4fb5fd",
   "metadata": {},
   "outputs": [
    {
     "data": {
      "text/plain": [
       "idd            int32\n",
       "nombre        object\n",
       "vehiculo      object\n",
       "num_vert       int64\n",
       "geometry    geometry\n",
       "dtype: object"
      ]
     },
     "execution_count": 47,
     "metadata": {},
     "output_type": "execute_result"
    }
   ],
   "source": [
    "gdf_combined.dtypes"
   ]
  },
  {
   "cell_type": "code",
   "execution_count": 48,
   "id": "a6aa1191-afe4-485b-a918-93aa19dc8453",
   "metadata": {},
   "outputs": [],
   "source": [
    "gdf_combined.to_file(path_rec, driver=\"ESRI Shapefile\")"
   ]
  },
  {
   "cell_type": "code",
   "execution_count": null,
   "id": "e1090b73-7bb8-41ac-bd65-d57718b11a2a",
   "metadata": {},
   "outputs": [],
   "source": []
  },
  {
   "cell_type": "code",
   "execution_count": null,
   "id": "2429b83e-6cf9-476d-a3ac-3b92cd38ad08",
   "metadata": {},
   "outputs": [],
   "source": []
  },
  {
   "cell_type": "code",
   "execution_count": null,
   "id": "0fd2aae3-cd66-47f2-b738-5d892c951c1c",
   "metadata": {},
   "outputs": [],
   "source": []
  },
  {
   "cell_type": "code",
   "execution_count": null,
   "id": "5a55b0c2-1843-45be-a876-53b396f21796",
   "metadata": {},
   "outputs": [],
   "source": []
  }
 ],
 "metadata": {
  "kernelspec": {
   "display_name": "Python 3 (ipykernel)",
   "language": "python",
   "name": "python3"
  },
  "language_info": {
   "codemirror_mode": {
    "name": "ipython",
    "version": 3
   },
   "file_extension": ".py",
   "mimetype": "text/x-python",
   "name": "python",
   "nbconvert_exporter": "python",
   "pygments_lexer": "ipython3",
   "version": "3.10.13"
  }
 },
 "nbformat": 4,
 "nbformat_minor": 5
}
