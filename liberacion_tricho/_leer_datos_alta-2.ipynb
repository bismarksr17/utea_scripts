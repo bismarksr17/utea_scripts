{
 "cells": [
  {
   "cell_type": "code",
   "execution_count": 2,
   "id": "471a58e2-7e57-4c39-9f66-2901e67bad16",
   "metadata": {},
   "outputs": [],
   "source": [
    "from pymavlink import mavutil\n",
    "\n",
    "import matplotlib.pyplot as plt\n",
    "import pandas as pd\n",
    "import os\n",
    "import geopandas as gpd\n",
    "from shapely.geometry import Point, LineString"
   ]
  },
  {
   "cell_type": "code",
   "execution_count": 50,
   "id": "2daa78ba-f5c9-44f1-b6b2-4640c8891024",
   "metadata": {},
   "outputs": [],
   "source": [
    "vehiculo = 'DA03'"
   ]
  },
  {
   "cell_type": "code",
   "execution_count": 51,
   "id": "267f5023-bc5a-45eb-8207-5364f8d9166d",
   "metadata": {},
   "outputs": [],
   "source": [
    "path_rec = r'G:\\Ingenio Azucarero Guabira S.A\\UTEA - SEMANAL - EQUIPO AVIACION UTEA\\Trichogramma\\2024\\SHP\\RECORRIDOS.shp'\n",
    "gdf_rec = gpd.read_file(path_rec)"
   ]
  },
  {
   "cell_type": "code",
   "execution_count": 52,
   "id": "504d15e2-1b8c-45c8-8f0a-b574cd569e93",
   "metadata": {},
   "outputs": [
    {
     "data": {
      "text/plain": [
       "9"
      ]
     },
     "execution_count": 52,
     "metadata": {},
     "output_type": "execute_result"
    }
   ],
   "source": [
    "if vehiculo == 'DA01':\n",
    "    path_log = r'G:\\Ingenio Azucarero Guabira S.A\\UTEA - SEMANAL - EQUIPO AVIACION UTEA\\Trichogramma\\2024\\TLOGS\\ALTA_01'\n",
    "elif vehiculo == 'DA02':\n",
    "    path_log = r'G:\\Ingenio Azucarero Guabira S.A\\UTEA - SEMANAL - EQUIPO AVIACION UTEA\\Trichogramma\\2024\\TLOGS\\ALTA_02'\n",
    "elif vehiculo == 'DA03':\n",
    "    path_log = r'G:\\Ingenio Azucarero Guabira S.A\\UTEA - SEMANAL - EQUIPO AVIACION UTEA\\Trichogramma\\2024\\TLOGS\\ALTA_03'\n",
    "contenido = os.listdir(path_log)\n",
    "len(contenido)"
   ]
  },
  {
   "cell_type": "code",
   "execution_count": 53,
   "id": "3f11a10e-4884-402e-a913-268ed87089c8",
   "metadata": {},
   "outputs": [
    {
     "data": {
      "text/plain": [
       "9"
      ]
     },
     "execution_count": 53,
     "metadata": {},
     "output_type": "execute_result"
    }
   ],
   "source": [
    "# Filtrar la lista 'contenido' para excluir elementos que están en la columna 'nombre' del GeoDataFrame\n",
    "contenido_filtrado = [item for item in contenido if item not in gdf_rec['nombre'].values]\n",
    "len(contenido_filtrado)"
   ]
  },
  {
   "cell_type": "code",
   "execution_count": 54,
   "id": "ca3c281f-b619-4640-92a2-6c815204fc7c",
   "metadata": {},
   "outputs": [],
   "source": [
    "def leer_logs(lista_logs):\n",
    "    list_geo = []\n",
    "    list_name = []\n",
    "    for i in lista_logs:\n",
    "        log = path_log + '/' + i\n",
    "        \n",
    "        name = i\n",
    "        \n",
    "        mlog = mavutil.mavlink_connection(log)\n",
    "        lats = []\n",
    "        lons = []\n",
    "        while True:\n",
    "            msg = mlog.recv_match()\n",
    "            if not msg:\n",
    "                break\n",
    "            # Ejemplo de procesamiento de mensaje\n",
    "            if msg.get_type() == 'GLOBAL_POSITION_INT':\n",
    "                lat = msg.lat / 1e7  # Latitud en grados\n",
    "                lon = msg.lon / 1e7  # Longitud en grados\n",
    "                lats.append(lat)\n",
    "                lons.append(lon)\n",
    "\n",
    "        coors = {'lat':lats, 'lon':lons}\n",
    "        df = pd.DataFrame(coors)\n",
    "        \n",
    "        geometry = [Point(xy) for xy in zip(df['lon'], df['lat'])]\n",
    "        line = LineString(geometry)\n",
    "        list_geo.append(line)\n",
    "        list_name.append(name)\n",
    "    return (list_geo, list_name)"
   ]
  },
  {
   "cell_type": "code",
   "execution_count": 55,
   "id": "d28df3e9-37ed-403b-b3c8-c9873fa59851",
   "metadata": {},
   "outputs": [],
   "source": [
    "lineas, names = leer_logs(contenido_filtrado)"
   ]
  },
  {
   "cell_type": "code",
   "execution_count": 56,
   "id": "65a842f9-e32d-455e-9f12-0d5461b62b56",
   "metadata": {},
   "outputs": [],
   "source": [
    "# Crear un GeoDataFrame con los LineStrings y sus nombres\n",
    "gdf_lines = gpd.GeoDataFrame({'nombre': names, 'geometry': lineas}, crs=\"EPSG:4326\")"
   ]
  },
  {
   "cell_type": "code",
   "execution_count": 57,
   "id": "76afc766-6f98-430f-bd2f-b94ad23f47d8",
   "metadata": {},
   "outputs": [
    {
     "data": {
      "text/html": [
       "<div>\n",
       "<style scoped>\n",
       "    .dataframe tbody tr th:only-of-type {\n",
       "        vertical-align: middle;\n",
       "    }\n",
       "\n",
       "    .dataframe tbody tr th {\n",
       "        vertical-align: top;\n",
       "    }\n",
       "\n",
       "    .dataframe thead th {\n",
       "        text-align: right;\n",
       "    }\n",
       "</style>\n",
       "<table border=\"1\" class=\"dataframe\">\n",
       "  <thead>\n",
       "    <tr style=\"text-align: right;\">\n",
       "      <th></th>\n",
       "      <th>nombre</th>\n",
       "      <th>geometry</th>\n",
       "    </tr>\n",
       "  </thead>\n",
       "  <tbody>\n",
       "    <tr>\n",
       "      <th>0</th>\n",
       "      <td>2024-08-20 20-47-04.tlog</td>\n",
       "      <td>LINESTRING (-63.21555 -17.28824, -63.21555 -17...</td>\n",
       "    </tr>\n",
       "    <tr>\n",
       "      <th>1</th>\n",
       "      <td>2024-08-20 21-49-22.tlog</td>\n",
       "      <td>LINESTRING (-63.22210 -17.28097, -63.22210 -17...</td>\n",
       "    </tr>\n",
       "    <tr>\n",
       "      <th>2</th>\n",
       "      <td>2024-08-20 22-53-52.tlog</td>\n",
       "      <td>LINESTRING (-63.26321 -17.28706, -63.26321 -17...</td>\n",
       "    </tr>\n",
       "    <tr>\n",
       "      <th>3</th>\n",
       "      <td>2024-08-22 04-36-52.tlog</td>\n",
       "      <td>LINESTRING (-63.26322 -17.28706, -63.26322 -17...</td>\n",
       "    </tr>\n",
       "    <tr>\n",
       "      <th>4</th>\n",
       "      <td>2024-08-22 19-09-59.tlog</td>\n",
       "      <td>LINESTRING (-63.21068 -17.21585, -63.21068 -17...</td>\n",
       "    </tr>\n",
       "    <tr>\n",
       "      <th>5</th>\n",
       "      <td>2024-08-23 17-11-59.tlog</td>\n",
       "      <td>LINESTRING (-63.05443 -17.29934, -63.05443 -17...</td>\n",
       "    </tr>\n",
       "    <tr>\n",
       "      <th>6</th>\n",
       "      <td>2024-08-23 18-04-18.tlog</td>\n",
       "      <td>LINESTRING (-63.25377 -17.21192, -63.25377 -17...</td>\n",
       "    </tr>\n",
       "    <tr>\n",
       "      <th>7</th>\n",
       "      <td>2024-08-23 19-52-23.tlog</td>\n",
       "      <td>LINESTRING (-63.25443 -17.21623, -63.25443 -17...</td>\n",
       "    </tr>\n",
       "    <tr>\n",
       "      <th>8</th>\n",
       "      <td>2024-08-23 21-09-39.tlog</td>\n",
       "      <td>LINESTRING (-63.25385 -17.22072, -63.25385 -17...</td>\n",
       "    </tr>\n",
       "  </tbody>\n",
       "</table>\n",
       "</div>"
      ],
      "text/plain": [
       "                     nombre                                           geometry\n",
       "0  2024-08-20 20-47-04.tlog  LINESTRING (-63.21555 -17.28824, -63.21555 -17...\n",
       "1  2024-08-20 21-49-22.tlog  LINESTRING (-63.22210 -17.28097, -63.22210 -17...\n",
       "2  2024-08-20 22-53-52.tlog  LINESTRING (-63.26321 -17.28706, -63.26321 -17...\n",
       "3  2024-08-22 04-36-52.tlog  LINESTRING (-63.26322 -17.28706, -63.26322 -17...\n",
       "4  2024-08-22 19-09-59.tlog  LINESTRING (-63.21068 -17.21585, -63.21068 -17...\n",
       "5  2024-08-23 17-11-59.tlog  LINESTRING (-63.05443 -17.29934, -63.05443 -17...\n",
       "6  2024-08-23 18-04-18.tlog  LINESTRING (-63.25377 -17.21192, -63.25377 -17...\n",
       "7  2024-08-23 19-52-23.tlog  LINESTRING (-63.25443 -17.21623, -63.25443 -17...\n",
       "8  2024-08-23 21-09-39.tlog  LINESTRING (-63.25385 -17.22072, -63.25385 -17..."
      ]
     },
     "execution_count": 57,
     "metadata": {},
     "output_type": "execute_result"
    }
   ],
   "source": [
    "gdf_lines"
   ]
  },
  {
   "cell_type": "code",
   "execution_count": 58,
   "id": "6a26d1ff-331f-4474-b665-2482b58a2e4d",
   "metadata": {},
   "outputs": [
    {
     "data": {
      "text/plain": [
       "<Axes: >"
      ]
     },
     "execution_count": 58,
     "metadata": {},
     "output_type": "execute_result"
    },
    {
     "data": {
      "image/png": "[encoded data removed]",
      "text/plain": [
       "<Figure size 640x480 with 1 Axes>"
      ]
     },
     "metadata": {},
     "output_type": "display_data"
    }
   ],
   "source": [
    "gdf_lines.plot()"
   ]
  },
  {
   "cell_type": "code",
   "execution_count": 59,
   "id": "e19354fd-3846-4f71-88b4-e546b8deb621",
   "metadata": {},
   "outputs": [],
   "source": [
    "# Función para dividir y limpiar las líneas\n",
    "def dividir_y_limpiar_linea(linea):\n",
    "    puntos = list(linea.coords)\n",
    "    nuevas_lineas = []\n",
    "    nueva_linea = []\n",
    "    \n",
    "    for punto in puntos:\n",
    "        if punto != (0, 0):\n",
    "            nueva_linea.append(punto)\n",
    "        else:\n",
    "            if nueva_linea:\n",
    "                nuevas_lineas.append(LineString(nueva_linea))\n",
    "                nueva_linea = []\n",
    "    \n",
    "    if nueva_linea:\n",
    "        nuevas_lineas.append(LineString(nueva_linea))\n",
    "    \n",
    "    return nuevas_lineas"
   ]
  },
  {
   "cell_type": "code",
   "execution_count": 60,
   "id": "7d405569-5da0-4ab6-8e82-b02a3dbdd4c2",
   "metadata": {},
   "outputs": [],
   "source": [
    "# Crear una lista para las nuevas líneas y nombres\n",
    "nuevas_lineas = []\n",
    "nuevos_nombres = []\n",
    "for idx, row in gdf_lines.iterrows():\n",
    "    lineas_divididas = dividir_y_limpiar_linea(row.geometry)\n",
    "    for linea in lineas_divididas:\n",
    "        nuevas_lineas.append(linea)\n",
    "        nuevos_nombres.append(row['nombre'])"
   ]
  },
  {
   "cell_type": "code",
   "execution_count": 61,
   "id": "e094a348-a4b5-4743-8c3a-c7dc6fb7a21a",
   "metadata": {},
   "outputs": [],
   "source": [
    "# Crear un nuevo GeoDataFrame con las nuevas líneas\n",
    "gdf_lines = gpd.GeoDataFrame({'nombre': nuevos_nombres, 'geometry': nuevas_lineas}, crs=\"EPSG:4326\")"
   ]
  },
  {
   "cell_type": "code",
   "execution_count": 62,
   "id": "0c91619d-f9dd-46af-9149-acca387f08e1",
   "metadata": {},
   "outputs": [],
   "source": [
    "# Función para contar la cantidad de coordenadas en una geometría de tipo LINESTRING\n",
    "def contar_coordenadas(linea):\n",
    "    return len(linea.coords)"
   ]
  },
  {
   "cell_type": "code",
   "execution_count": 63,
   "id": "02e41758-ab6e-46f4-90f6-686f83fc16bb",
   "metadata": {},
   "outputs": [],
   "source": [
    "gdf_lines['num_vert'] = gdf_lines['geometry'].apply(contar_coordenadas)"
   ]
  },
  {
   "cell_type": "code",
   "execution_count": 64,
   "id": "bae564ef-227a-4a2c-ab89-cb2cc7d43c53",
   "metadata": {},
   "outputs": [],
   "source": [
    "gdf_lines['vehiculo'] = vehiculo"
   ]
  },
  {
   "cell_type": "code",
   "execution_count": 65,
   "id": "7c21bb5c-d89a-4d80-88da-c6a7ed188f99",
   "metadata": {},
   "outputs": [
    {
     "data": {
      "text/html": [
       "<div>\n",
       "<style scoped>\n",
       "    .dataframe tbody tr th:only-of-type {\n",
       "        vertical-align: middle;\n",
       "    }\n",
       "\n",
       "    .dataframe tbody tr th {\n",
       "        vertical-align: top;\n",
       "    }\n",
       "\n",
       "    .dataframe thead th {\n",
       "        text-align: right;\n",
       "    }\n",
       "</style>\n",
       "<table border=\"1\" class=\"dataframe\">\n",
       "  <thead>\n",
       "    <tr style=\"text-align: right;\">\n",
       "      <th></th>\n",
       "      <th>nombre</th>\n",
       "      <th>geometry</th>\n",
       "      <th>num_vert</th>\n",
       "      <th>vehiculo</th>\n",
       "    </tr>\n",
       "  </thead>\n",
       "  <tbody>\n",
       "    <tr>\n",
       "      <th>0</th>\n",
       "      <td>2024-08-20 20-47-04.tlog</td>\n",
       "      <td>LINESTRING (-63.21555 -17.28824, -63.21555 -17...</td>\n",
       "      <td>1072</td>\n",
       "      <td>DA03</td>\n",
       "    </tr>\n",
       "    <tr>\n",
       "      <th>1</th>\n",
       "      <td>2024-08-20 20-47-04.tlog</td>\n",
       "      <td>LINESTRING (-63.21556 -17.28824, -63.21556 -17...</td>\n",
       "      <td>3301</td>\n",
       "      <td>DA03</td>\n",
       "    </tr>\n",
       "    <tr>\n",
       "      <th>2</th>\n",
       "      <td>2024-08-20 20-47-04.tlog</td>\n",
       "      <td>LINESTRING (-63.21556 -17.28823, -63.21556 -17...</td>\n",
       "      <td>1540</td>\n",
       "      <td>DA03</td>\n",
       "    </tr>\n",
       "    <tr>\n",
       "      <th>3</th>\n",
       "      <td>2024-08-20 21-49-22.tlog</td>\n",
       "      <td>LINESTRING (-63.22210 -17.28097, -63.22210 -17...</td>\n",
       "      <td>2748</td>\n",
       "      <td>DA03</td>\n",
       "    </tr>\n",
       "    <tr>\n",
       "      <th>4</th>\n",
       "      <td>2024-08-20 22-53-52.tlog</td>\n",
       "      <td>LINESTRING (-63.26321 -17.28706, -63.26321 -17...</td>\n",
       "      <td>1999</td>\n",
       "      <td>DA03</td>\n",
       "    </tr>\n",
       "    <tr>\n",
       "      <th>5</th>\n",
       "      <td>2024-08-20 22-53-52.tlog</td>\n",
       "      <td>LINESTRING (-63.26322 -17.28707, -63.26322 -17...</td>\n",
       "      <td>15</td>\n",
       "      <td>DA03</td>\n",
       "    </tr>\n",
       "    <tr>\n",
       "      <th>6</th>\n",
       "      <td>2024-08-22 04-36-52.tlog</td>\n",
       "      <td>LINESTRING (-63.26322 -17.28706, -63.26322 -17...</td>\n",
       "      <td>1569</td>\n",
       "      <td>DA03</td>\n",
       "    </tr>\n",
       "    <tr>\n",
       "      <th>7</th>\n",
       "      <td>2024-08-22 19-09-59.tlog</td>\n",
       "      <td>LINESTRING (-63.21068 -17.21585, -63.21068 -17...</td>\n",
       "      <td>1183</td>\n",
       "      <td>DA03</td>\n",
       "    </tr>\n",
       "    <tr>\n",
       "      <th>8</th>\n",
       "      <td>2024-08-22 19-09-59.tlog</td>\n",
       "      <td>LINESTRING (-63.21067 -17.21586, -63.21067 -17...</td>\n",
       "      <td>2727</td>\n",
       "      <td>DA03</td>\n",
       "    </tr>\n",
       "    <tr>\n",
       "      <th>9</th>\n",
       "      <td>2024-08-22 19-09-59.tlog</td>\n",
       "      <td>LINESTRING (-63.21068 -17.21585, -63.21068 -17...</td>\n",
       "      <td>1617</td>\n",
       "      <td>DA03</td>\n",
       "    </tr>\n",
       "    <tr>\n",
       "      <th>10</th>\n",
       "      <td>2024-08-23 17-11-59.tlog</td>\n",
       "      <td>LINESTRING (-63.05443 -17.29934, -63.05443 -17...</td>\n",
       "      <td>2549</td>\n",
       "      <td>DA03</td>\n",
       "    </tr>\n",
       "    <tr>\n",
       "      <th>11</th>\n",
       "      <td>2024-08-23 18-04-18.tlog</td>\n",
       "      <td>LINESTRING (-63.25377 -17.21192, -63.25377 -17...</td>\n",
       "      <td>2094</td>\n",
       "      <td>DA03</td>\n",
       "    </tr>\n",
       "    <tr>\n",
       "      <th>12</th>\n",
       "      <td>2024-08-23 19-52-23.tlog</td>\n",
       "      <td>LINESTRING (-63.25443 -17.21623, -63.25443 -17...</td>\n",
       "      <td>3464</td>\n",
       "      <td>DA03</td>\n",
       "    </tr>\n",
       "    <tr>\n",
       "      <th>13</th>\n",
       "      <td>2024-08-23 19-52-23.tlog</td>\n",
       "      <td>LINESTRING (-63.25447 -17.21609, -63.25447 -17...</td>\n",
       "      <td>1225</td>\n",
       "      <td>DA03</td>\n",
       "    </tr>\n",
       "    <tr>\n",
       "      <th>14</th>\n",
       "      <td>2024-08-23 19-52-23.tlog</td>\n",
       "      <td>LINESTRING (-63.25446 -17.21609, -63.25446 -17...</td>\n",
       "      <td>2629</td>\n",
       "      <td>DA03</td>\n",
       "    </tr>\n",
       "    <tr>\n",
       "      <th>15</th>\n",
       "      <td>2024-08-23 21-09-39.tlog</td>\n",
       "      <td>LINESTRING (-63.25385 -17.22072, -63.25385 -17...</td>\n",
       "      <td>3894</td>\n",
       "      <td>DA03</td>\n",
       "    </tr>\n",
       "    <tr>\n",
       "      <th>16</th>\n",
       "      <td>2024-08-23 21-09-39.tlog</td>\n",
       "      <td>LINESTRING (-63.25384 -17.22072, -63.25384 -17...</td>\n",
       "      <td>2289</td>\n",
       "      <td>DA03</td>\n",
       "    </tr>\n",
       "    <tr>\n",
       "      <th>17</th>\n",
       "      <td>2024-08-23 21-09-39.tlog</td>\n",
       "      <td>LINESTRING (-63.25384 -17.22072, -63.25384 -17...</td>\n",
       "      <td>1486</td>\n",
       "      <td>DA03</td>\n",
       "    </tr>\n",
       "  </tbody>\n",
       "</table>\n",
       "</div>"
      ],
      "text/plain": [
       "                      nombre  \\\n",
       "0   2024-08-20 20-47-04.tlog   \n",
       "1   2024-08-20 20-47-04.tlog   \n",
       "2   2024-08-20 20-47-04.tlog   \n",
       "3   2024-08-20 21-49-22.tlog   \n",
       "4   2024-08-20 22-53-52.tlog   \n",
       "5   2024-08-20 22-53-52.tlog   \n",
       "6   2024-08-22 04-36-52.tlog   \n",
       "7   2024-08-22 19-09-59.tlog   \n",
       "8   2024-08-22 19-09-59.tlog   \n",
       "9   2024-08-22 19-09-59.tlog   \n",
       "10  2024-08-23 17-11-59.tlog   \n",
       "11  2024-08-23 18-04-18.tlog   \n",
       "12  2024-08-23 19-52-23.tlog   \n",
       "13  2024-08-23 19-52-23.tlog   \n",
       "14  2024-08-23 19-52-23.tlog   \n",
       "15  2024-08-23 21-09-39.tlog   \n",
       "16  2024-08-23 21-09-39.tlog   \n",
       "17  2024-08-23 21-09-39.tlog   \n",
       "\n",
       "                                             geometry  num_vert vehiculo  \n",
       "0   LINESTRING (-63.21555 -17.28824, -63.21555 -17...      1072     DA03  \n",
       "1   LINESTRING (-63.21556 -17.28824, -63.21556 -17...      3301     DA03  \n",
       "2   LINESTRING (-63.21556 -17.28823, -63.21556 -17...      1540     DA03  \n",
       "3   LINESTRING (-63.22210 -17.28097, -63.22210 -17...      2748     DA03  \n",
       "4   LINESTRING (-63.26321 -17.28706, -63.26321 -17...      1999     DA03  \n",
       "5   LINESTRING (-63.26322 -17.28707, -63.26322 -17...        15     DA03  \n",
       "6   LINESTRING (-63.26322 -17.28706, -63.26322 -17...      1569     DA03  \n",
       "7   LINESTRING (-63.21068 -17.21585, -63.21068 -17...      1183     DA03  \n",
       "8   LINESTRING (-63.21067 -17.21586, -63.21067 -17...      2727     DA03  \n",
       "9   LINESTRING (-63.21068 -17.21585, -63.21068 -17...      1617     DA03  \n",
       "10  LINESTRING (-63.05443 -17.29934, -63.05443 -17...      2549     DA03  \n",
       "11  LINESTRING (-63.25377 -17.21192, -63.25377 -17...      2094     DA03  \n",
       "12  LINESTRING (-63.25443 -17.21623, -63.25443 -17...      3464     DA03  \n",
       "13  LINESTRING (-63.25447 -17.21609, -63.25447 -17...      1225     DA03  \n",
       "14  LINESTRING (-63.25446 -17.21609, -63.25446 -17...      2629     DA03  \n",
       "15  LINESTRING (-63.25385 -17.22072, -63.25385 -17...      3894     DA03  \n",
       "16  LINESTRING (-63.25384 -17.22072, -63.25384 -17...      2289     DA03  \n",
       "17  LINESTRING (-63.25384 -17.22072, -63.25384 -17...      1486     DA03  "
      ]
     },
     "execution_count": 65,
     "metadata": {},
     "output_type": "execute_result"
    }
   ],
   "source": [
    "gdf_lines"
   ]
  },
  {
   "cell_type": "code",
   "execution_count": 66,
   "id": "53ff8c8a-2a43-4afe-bed5-38f1530fdae0",
   "metadata": {},
   "outputs": [
    {
     "data": {
      "text/plain": [
       "<Axes: >"
      ]
     },
     "execution_count": 66,
     "metadata": {},
     "output_type": "execute_result"
    },
    {
     "data": {
      "image/png": "[encoded data removed]",
      "text/plain": [
       "<Figure size 640x480 with 1 Axes>"
      ]
     },
     "metadata": {},
     "output_type": "display_data"
    }
   ],
   "source": [
    "gdf_lines.plot()"
   ]
  },
  {
   "cell_type": "code",
   "execution_count": 67,
   "id": "d663ceb7-df00-447c-858a-6493a884b0ed",
   "metadata": {},
   "outputs": [],
   "source": [
    "gdf_lines.crs = \"EPSG:4326\"\n",
    "gdf_lines_utm = gdf_lines.to_crs(epsg=32720)"
   ]
  },
  {
   "cell_type": "code",
   "execution_count": 68,
   "id": "a04b10fb-340a-4b87-8ccd-d3a03057ceba",
   "metadata": {},
   "outputs": [
    {
     "data": {
      "text/plain": [
       "<Axes: >"
      ]
     },
     "execution_count": 68,
     "metadata": {},
     "output_type": "execute_result"
    },
    {
     "data": {
      "image/png": "[encoded data removed]",
      "text/plain": [
       "<Figure size 640x480 with 1 Axes>"
      ]
     },
     "metadata": {},
     "output_type": "display_data"
    }
   ],
   "source": [
    "gdf_lines_utm.plot()"
   ]
  },
  {
   "cell_type": "code",
   "execution_count": 69,
   "id": "6f4d4c1a-3d7a-467c-bc89-c93475ae3aca",
   "metadata": {},
   "outputs": [],
   "source": [
    "# Combinar los GeoDataFrames\n",
    "gdf_combined = gpd.GeoDataFrame(pd.concat([gdf_rec, gdf_lines_utm], ignore_index=True))\n",
    "# rellenar valores NaN\n",
    "gdf_combined['idd'] = gdf_combined['idd'].fillna(0).astype(int)"
   ]
  },
  {
   "cell_type": "code",
   "execution_count": 70,
   "id": "0eb2ed02-320b-4b64-921b-316c75f27ef9",
   "metadata": {},
   "outputs": [
    {
     "data": {
      "text/html": [
       "<div>\n",
       "<style scoped>\n",
       "    .dataframe tbody tr th:only-of-type {\n",
       "        vertical-align: middle;\n",
       "    }\n",
       "\n",
       "    .dataframe tbody tr th {\n",
       "        vertical-align: top;\n",
       "    }\n",
       "\n",
       "    .dataframe thead th {\n",
       "        text-align: right;\n",
       "    }\n",
       "</style>\n",
       "<table border=\"1\" class=\"dataframe\">\n",
       "  <thead>\n",
       "    <tr style=\"text-align: right;\">\n",
       "      <th></th>\n",
       "      <th>idd</th>\n",
       "      <th>nombre</th>\n",
       "      <th>vehiculo</th>\n",
       "      <th>num_vert</th>\n",
       "      <th>id</th>\n",
       "      <th>asignado</th>\n",
       "      <th>geometry</th>\n",
       "    </tr>\n",
       "  </thead>\n",
       "  <tbody>\n",
       "    <tr>\n",
       "      <th>0</th>\n",
       "      <td>0</td>\n",
       "      <td>Jul-20th-2024-08-43PM-Flight-Airdata.kml</td>\n",
       "      <td>DA03</td>\n",
       "      <td>807</td>\n",
       "      <td>1.0</td>\n",
       "      <td>si</td>\n",
       "      <td>LINESTRING (460257.759 8096126.683, 460257.759...</td>\n",
       "    </tr>\n",
       "    <tr>\n",
       "      <th>1</th>\n",
       "      <td>63</td>\n",
       "      <td>Jul-25th-2024-05-47PM-Flight-Airdata.kml</td>\n",
       "      <td>DA03</td>\n",
       "      <td>931</td>\n",
       "      <td>2.0</td>\n",
       "      <td>si</td>\n",
       "      <td>LINESTRING (456011.255 8084542.548, 456011.265...</td>\n",
       "    </tr>\n",
       "    <tr>\n",
       "      <th>2</th>\n",
       "      <td>63</td>\n",
       "      <td>Jul-25th-2024-06-51PM-Flight-Airdata.kml</td>\n",
       "      <td>DA03</td>\n",
       "      <td>1168</td>\n",
       "      <td>3.0</td>\n",
       "      <td>None</td>\n",
       "      <td>LINESTRING (455648.848 8084842.307, 455648.848...</td>\n",
       "    </tr>\n",
       "    <tr>\n",
       "      <th>3</th>\n",
       "      <td>63</td>\n",
       "      <td>Jul-25th-2024-07-06PM-Flight-Airdata.kml</td>\n",
       "      <td>DA03</td>\n",
       "      <td>1581</td>\n",
       "      <td>4.0</td>\n",
       "      <td>None</td>\n",
       "      <td>LINESTRING (455647.763 8084843.024, 455647.752...</td>\n",
       "    </tr>\n",
       "    <tr>\n",
       "      <th>4</th>\n",
       "      <td>0</td>\n",
       "      <td>Jul-25th-2024-10-42PM-Flight-Airdata.kml</td>\n",
       "      <td>DA03</td>\n",
       "      <td>1225</td>\n",
       "      <td>5.0</td>\n",
       "      <td>None</td>\n",
       "      <td>LINESTRING (460855.506 8095707.381, 460855.527...</td>\n",
       "    </tr>\n",
       "    <tr>\n",
       "      <th>...</th>\n",
       "      <td>...</td>\n",
       "      <td>...</td>\n",
       "      <td>...</td>\n",
       "      <td>...</td>\n",
       "      <td>...</td>\n",
       "      <td>...</td>\n",
       "      <td>...</td>\n",
       "    </tr>\n",
       "    <tr>\n",
       "      <th>612</th>\n",
       "      <td>0</td>\n",
       "      <td>2024-08-23 19-52-23.tlog</td>\n",
       "      <td>DA03</td>\n",
       "      <td>1225</td>\n",
       "      <td>NaN</td>\n",
       "      <td>NaN</td>\n",
       "      <td>LINESTRING (472944.825 8096522.306, 472944.771...</td>\n",
       "    </tr>\n",
       "    <tr>\n",
       "      <th>613</th>\n",
       "      <td>0</td>\n",
       "      <td>2024-08-23 19-52-23.tlog</td>\n",
       "      <td>DA03</td>\n",
       "      <td>2629</td>\n",
       "      <td>NaN</td>\n",
       "      <td>NaN</td>\n",
       "      <td>LINESTRING (472945.388 8096522.129, 472945.324...</td>\n",
       "    </tr>\n",
       "    <tr>\n",
       "      <th>614</th>\n",
       "      <td>0</td>\n",
       "      <td>2024-08-23 21-09-39.tlog</td>\n",
       "      <td>DA03</td>\n",
       "      <td>3894</td>\n",
       "      <td>NaN</td>\n",
       "      <td>NaN</td>\n",
       "      <td>LINESTRING (473011.608 8096009.730, 473011.608...</td>\n",
       "    </tr>\n",
       "    <tr>\n",
       "      <th>615</th>\n",
       "      <td>0</td>\n",
       "      <td>2024-08-23 21-09-39.tlog</td>\n",
       "      <td>DA03</td>\n",
       "      <td>2289</td>\n",
       "      <td>NaN</td>\n",
       "      <td>NaN</td>\n",
       "      <td>LINESTRING (473012.702 8096010.285, 473012.702...</td>\n",
       "    </tr>\n",
       "    <tr>\n",
       "      <th>616</th>\n",
       "      <td>0</td>\n",
       "      <td>2024-08-23 21-09-39.tlog</td>\n",
       "      <td>DA03</td>\n",
       "      <td>1486</td>\n",
       "      <td>NaN</td>\n",
       "      <td>NaN</td>\n",
       "      <td>LINESTRING (473012.277 8096009.974, 473012.266...</td>\n",
       "    </tr>\n",
       "  </tbody>\n",
       "</table>\n",
       "<p>617 rows × 7 columns</p>\n",
       "</div>"
      ],
      "text/plain": [
       "     idd                                    nombre vehiculo  num_vert   id  \\\n",
       "0      0  Jul-20th-2024-08-43PM-Flight-Airdata.kml     DA03       807  1.0   \n",
       "1     63  Jul-25th-2024-05-47PM-Flight-Airdata.kml     DA03       931  2.0   \n",
       "2     63  Jul-25th-2024-06-51PM-Flight-Airdata.kml     DA03      1168  3.0   \n",
       "3     63  Jul-25th-2024-07-06PM-Flight-Airdata.kml     DA03      1581  4.0   \n",
       "4      0  Jul-25th-2024-10-42PM-Flight-Airdata.kml     DA03      1225  5.0   \n",
       "..   ...                                       ...      ...       ...  ...   \n",
       "612    0                  2024-08-23 19-52-23.tlog     DA03      1225  NaN   \n",
       "613    0                  2024-08-23 19-52-23.tlog     DA03      2629  NaN   \n",
       "614    0                  2024-08-23 21-09-39.tlog     DA03      3894  NaN   \n",
       "615    0                  2024-08-23 21-09-39.tlog     DA03      2289  NaN   \n",
       "616    0                  2024-08-23 21-09-39.tlog     DA03      1486  NaN   \n",
       "\n",
       "    asignado                                           geometry  \n",
       "0         si  LINESTRING (460257.759 8096126.683, 460257.759...  \n",
       "1         si  LINESTRING (456011.255 8084542.548, 456011.265...  \n",
       "2       None  LINESTRING (455648.848 8084842.307, 455648.848...  \n",
       "3       None  LINESTRING (455647.763 8084843.024, 455647.752...  \n",
       "4       None  LINESTRING (460855.506 8095707.381, 460855.527...  \n",
       "..       ...                                                ...  \n",
       "612      NaN  LINESTRING (472944.825 8096522.306, 472944.771...  \n",
       "613      NaN  LINESTRING (472945.388 8096522.129, 472945.324...  \n",
       "614      NaN  LINESTRING (473011.608 8096009.730, 473011.608...  \n",
       "615      NaN  LINESTRING (473012.702 8096010.285, 473012.702...  \n",
       "616      NaN  LINESTRING (473012.277 8096009.974, 473012.266...  \n",
       "\n",
       "[617 rows x 7 columns]"
      ]
     },
     "execution_count": 70,
     "metadata": {},
     "output_type": "execute_result"
    }
   ],
   "source": [
    "gdf_combined"
   ]
  },
  {
   "cell_type": "code",
   "execution_count": 71,
   "id": "a533a1fd-3f67-457f-9b09-9607ef4fb5fd",
   "metadata": {},
   "outputs": [
    {
     "data": {
      "text/plain": [
       "idd            int32\n",
       "nombre        object\n",
       "vehiculo      object\n",
       "num_vert       int64\n",
       "id           float64\n",
       "asignado      object\n",
       "geometry    geometry\n",
       "dtype: object"
      ]
     },
     "execution_count": 71,
     "metadata": {},
     "output_type": "execute_result"
    }
   ],
   "source": [
    "gdf_combined.dtypes"
   ]
  },
  {
   "cell_type": "code",
   "execution_count": 72,
   "id": "a6aa1191-afe4-485b-a918-93aa19dc8453",
   "metadata": {},
   "outputs": [],
   "source": [
    "gdf_combined.to_file(path_rec, driver=\"ESRI Shapefile\")"
   ]
  },
  {
   "cell_type": "code",
   "execution_count": null,
   "id": "e1090b73-7bb8-41ac-bd65-d57718b11a2a",
   "metadata": {},
   "outputs": [],
   "source": []
  },
  {
   "cell_type": "code",
   "execution_count": null,
   "id": "2429b83e-6cf9-476d-a3ac-3b92cd38ad08",
   "metadata": {},
   "outputs": [],
   "source": []
  },
  {
   "cell_type": "code",
   "execution_count": null,
   "id": "0fd2aae3-cd66-47f2-b738-5d892c951c1c",
   "metadata": {},
   "outputs": [],
   "source": []
  },
  {
   "cell_type": "code",
   "execution_count": null,
   "id": "5a55b0c2-1843-45be-a876-53b396f21796",
   "metadata": {},
   "outputs": [],
   "source": []
  }
 ],
 "metadata": {
  "kernelspec": {
   "display_name": "Python 3 (ipykernel)",
   "language": "python",
   "name": "python3"
  },
  "language_info": {
   "codemirror_mode": {
    "name": "ipython",
    "version": 3
   },
   "file_extension": ".py",
   "mimetype": "text/x-python",
   "name": "python",
   "nbconvert_exporter": "python",
   "pygments_lexer": "ipython3",
   "version": "3.10.13"
  }
 },
 "nbformat": 4,
 "nbformat_minor": 5
}
