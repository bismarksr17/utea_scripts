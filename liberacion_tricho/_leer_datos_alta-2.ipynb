{
 "cells": [
  {
   "cell_type": "code",
   "execution_count": 4,
   "id": "471a58e2-7e57-4c39-9f66-2901e67bad16",
   "metadata": {},
   "outputs": [],
   "source": [
    "from pymavlink import mavutil\n",
    "\n",
    "import matplotlib.pyplot as plt\n",
    "import pandas as pd\n",
    "import os\n",
    "import geopandas as gpd\n",
    "from shapely.geometry import Point, LineString"
   ]
  },
  {
   "cell_type": "code",
   "execution_count": 5,
   "id": "87f25c9e-3f5c-43bb-952b-c33c3b509cab",
   "metadata": {},
   "outputs": [],
   "source": [
    "path_log = 'G:/Ingenio Azucarero Guabira S.A/UTEA - SEMANAL - EQUIPO AVIACION UTEA/Trichogramma/2024/TLOGS/ALTA_01'\n",
    "path_res = 'G:/Ingenio Azucarero Guabira S.A/UTEA - SEMANAL - EQUIPO AVIACION UTEA/Trichogramma/2024/TLOGS/ALTA_01'"
   ]
  },
  {
   "cell_type": "code",
   "execution_count": 6,
   "id": "cd649841-bc3f-4d98-92d4-24d1c63899ab",
   "metadata": {},
   "outputs": [
    {
     "data": {
      "text/plain": [
       "29"
      ]
     },
     "execution_count": 6,
     "metadata": {},
     "output_type": "execute_result"
    }
   ],
   "source": [
    "contenido = os.listdir(path_log)\n",
    "len(contenido)"
   ]
  },
  {
   "cell_type": "code",
   "execution_count": 7,
   "id": "bf4f30ab-b7a9-4fdf-a750-28a661aa7ce8",
   "metadata": {},
   "outputs": [
    {
     "data": {
      "text/plain": [
       "['2024-07-01 13-11-17.tlog',\n",
       " '2024-07-01 17-37-19.tlog',\n",
       " '2024-07-01 17-38-37.tlog',\n",
       " '2024-07-01 18-22-17.tlog',\n",
       " '2024-07-01 19-52-18.tlog',\n",
       " '2024-07-01 20-35-38.tlog',\n",
       " '2024-07-01 21-49-26.tlog',\n",
       " '2024-07-01 22-24-53.tlog',\n",
       " '2024-07-01 23-07-04.tlog',\n",
       " '2024-07-01 23-43-15.tlog',\n",
       " '2024-07-02 00-27-21.tlog',\n",
       " '2024-07-02 02-43-47.tlog',\n",
       " '2024-07-02 03-20-34.tlog',\n",
       " '2024-07-02 03-33-48.tlog',\n",
       " '2024-07-02 03-55-53.tlog',\n",
       " '2024-07-02 04-23-29.tlog',\n",
       " '2024-07-02 05-02-45.tlog',\n",
       " '2024-07-02 08-33-41.tlog',\n",
       " '2024-07-02 15-49-35.tlog',\n",
       " '2024-07-02 22-23-42.tlog',\n",
       " '2024-07-03 03-59-59.tlog',\n",
       " '2024-07-03 05-19-08.tlog',\n",
       " '2024-07-03 19-22-35.tlog',\n",
       " '2024-07-03 21-10-56.tlog',\n",
       " '2024-07-03 23-28-42.tlog',\n",
       " '2024-07-03 23-59-40.tlog',\n",
       " '2024-07-04 02-55-29.tlog',\n",
       " '2024-07-04 02-59-36.tlog',\n",
       " '2024-07-04 13-57-18.tlog']"
      ]
     },
     "execution_count": 7,
     "metadata": {},
     "output_type": "execute_result"
    }
   ],
   "source": [
    "contenido"
   ]
  },
  {
   "cell_type": "code",
   "execution_count": 8,
   "id": "ca3c281f-b619-4640-92a2-6c815204fc7c",
   "metadata": {},
   "outputs": [],
   "source": [
    "def leer_logs(lista_logs):\n",
    "    list_geo = []\n",
    "    list_name = []\n",
    "    for i in lista_logs:\n",
    "        log = path_log + '/' + i\n",
    "        mlog = mavutil.mavlink_connection(log)\n",
    "        lats = []\n",
    "        lons = []\n",
    "        while True:\n",
    "            msg = mlog.recv_match()\n",
    "            if not msg:\n",
    "                break\n",
    "            # Ejemplo de procesamiento de mensaje\n",
    "            if msg.get_type() == 'GLOBAL_POSITION_INT':\n",
    "                lat = msg.lat / 1e7  # Latitud en grados\n",
    "                lon = msg.lon / 1e7  # Longitud en grados\n",
    "                lats.append(lat)\n",
    "                lons.append(lon)\n",
    "\n",
    "        coors = {'lat':lats, 'lon':lons}\n",
    "        df = pd.DataFrame(coors)\n",
    "        \n",
    "        geometry = [Point(xy) for xy in zip(df['lon'], df['lat'])]\n",
    "        line = LineString(geometry)\n",
    "        list_geo.append(line)\n",
    "        list_name.append(i)\n",
    "    #dict_lines = {'geos':list_geo, 'names':list_name}\n",
    "    #gdf_line = gpd.GeoDataFrame(dict_lines, crs=\"EPSG:4326\")\n",
    "    #gdf_line_utm = gdf_line.to_crs(epsg=32720)\n",
    "    return (list_geo, list_name)"
   ]
  },
  {
   "cell_type": "code",
   "execution_count": 9,
   "id": "d28df3e9-37ed-403b-b3c8-c9873fa59851",
   "metadata": {},
   "outputs": [],
   "source": [
    "lineas, names = leer_logs(contenido)"
   ]
  },
  {
   "cell_type": "code",
   "execution_count": 10,
   "id": "b2732243-a2cb-48c8-975e-b697911936d0",
   "metadata": {},
   "outputs": [
    {
     "data": {
      "text/plain": [
       "29"
      ]
     },
     "execution_count": 10,
     "metadata": {},
     "output_type": "execute_result"
    }
   ],
   "source": [
    "len(lineas)"
   ]
  },
  {
   "cell_type": "code",
   "execution_count": 11,
   "id": "a1f3f449-e9dc-4c8c-998d-2030df3da1b3",
   "metadata": {},
   "outputs": [
    {
     "data": {
      "text/plain": [
       "29"
      ]
     },
     "execution_count": 11,
     "metadata": {},
     "output_type": "execute_result"
    }
   ],
   "source": [
    "len(names)"
   ]
  },
  {
   "cell_type": "code",
   "execution_count": 12,
   "id": "65a842f9-e32d-455e-9f12-0d5461b62b56",
   "metadata": {},
   "outputs": [],
   "source": [
    "# Crear un GeoDataFrame con los LineStrings y sus nombres\n",
    "gdf_lines = gpd.GeoDataFrame({'name': names, 'geometry': lineas}, crs=\"EPSG:4326\")"
   ]
  },
  {
   "cell_type": "code",
   "execution_count": 13,
   "id": "76afc766-6f98-430f-bd2f-b94ad23f47d8",
   "metadata": {},
   "outputs": [
    {
     "data": {
      "text/html": [
       "<div>\n",
       "<style scoped>\n",
       "    .dataframe tbody tr th:only-of-type {\n",
       "        vertical-align: middle;\n",
       "    }\n",
       "\n",
       "    .dataframe tbody tr th {\n",
       "        vertical-align: top;\n",
       "    }\n",
       "\n",
       "    .dataframe thead th {\n",
       "        text-align: right;\n",
       "    }\n",
       "</style>\n",
       "<table border=\"1\" class=\"dataframe\">\n",
       "  <thead>\n",
       "    <tr style=\"text-align: right;\">\n",
       "      <th></th>\n",
       "      <th>name</th>\n",
       "      <th>geometry</th>\n",
       "    </tr>\n",
       "  </thead>\n",
       "  <tbody>\n",
       "    <tr>\n",
       "      <th>0</th>\n",
       "      <td>2024-07-01 13-11-17.tlog</td>\n",
       "      <td>LINESTRING (-63.19876 -17.24399, -63.19876 -17...</td>\n",
       "    </tr>\n",
       "    <tr>\n",
       "      <th>1</th>\n",
       "      <td>2024-07-01 17-37-19.tlog</td>\n",
       "      <td>LINESTRING (-62.97410 -17.22839, -62.97410 -17...</td>\n",
       "    </tr>\n",
       "    <tr>\n",
       "      <th>2</th>\n",
       "      <td>2024-07-01 17-38-37.tlog</td>\n",
       "      <td>LINESTRING (-62.97416 -17.22837, -62.97416 -17...</td>\n",
       "    </tr>\n",
       "    <tr>\n",
       "      <th>3</th>\n",
       "      <td>2024-07-01 18-22-17.tlog</td>\n",
       "      <td>LINESTRING (-62.97417 -17.22835, -62.97417 -17...</td>\n",
       "    </tr>\n",
       "    <tr>\n",
       "      <th>4</th>\n",
       "      <td>2024-07-01 19-52-18.tlog</td>\n",
       "      <td>LINESTRING (-62.98185 -17.22397, -62.98185 -17...</td>\n",
       "    </tr>\n",
       "    <tr>\n",
       "      <th>5</th>\n",
       "      <td>2024-07-01 20-35-38.tlog</td>\n",
       "      <td>LINESTRING (-62.98178 -17.22402, -62.98178 -17...</td>\n",
       "    </tr>\n",
       "    <tr>\n",
       "      <th>6</th>\n",
       "      <td>2024-07-01 21-49-26.tlog</td>\n",
       "      <td>LINESTRING (-62.98743 -17.22733, -62.98743 -17...</td>\n",
       "    </tr>\n",
       "    <tr>\n",
       "      <th>7</th>\n",
       "      <td>2024-07-01 22-24-53.tlog</td>\n",
       "      <td>LINESTRING (-62.99866 -17.21325, -62.99866 -17...</td>\n",
       "    </tr>\n",
       "    <tr>\n",
       "      <th>8</th>\n",
       "      <td>2024-07-01 23-07-04.tlog</td>\n",
       "      <td>LINESTRING (-62.99750 -17.21572, -62.99750 -17...</td>\n",
       "    </tr>\n",
       "    <tr>\n",
       "      <th>9</th>\n",
       "      <td>2024-07-01 23-43-15.tlog</td>\n",
       "      <td>LINESTRING (-62.99751 -17.21573, -62.99751 -17...</td>\n",
       "    </tr>\n",
       "    <tr>\n",
       "      <th>10</th>\n",
       "      <td>2024-07-02 00-27-21.tlog</td>\n",
       "      <td>LINESTRING (-62.99782 -17.21793, -62.99782 -17...</td>\n",
       "    </tr>\n",
       "    <tr>\n",
       "      <th>11</th>\n",
       "      <td>2024-07-02 02-43-47.tlog</td>\n",
       "      <td>LINESTRING (-62.99514 -17.22487, -62.99514 -17...</td>\n",
       "    </tr>\n",
       "    <tr>\n",
       "      <th>12</th>\n",
       "      <td>2024-07-02 03-20-34.tlog</td>\n",
       "      <td>LINESTRING (-62.98960 -17.23135, -62.98960 -17...</td>\n",
       "    </tr>\n",
       "    <tr>\n",
       "      <th>13</th>\n",
       "      <td>2024-07-02 03-33-48.tlog</td>\n",
       "      <td>LINESTRING (-62.98959 -17.23135, -62.98959 -17...</td>\n",
       "    </tr>\n",
       "    <tr>\n",
       "      <th>14</th>\n",
       "      <td>2024-07-02 03-55-53.tlog</td>\n",
       "      <td>LINESTRING (-62.98959 -17.23135, -62.98959 -17...</td>\n",
       "    </tr>\n",
       "    <tr>\n",
       "      <th>15</th>\n",
       "      <td>2024-07-02 04-23-29.tlog</td>\n",
       "      <td>LINESTRING (-62.98388 -17.23447, -62.98388 -17...</td>\n",
       "    </tr>\n",
       "    <tr>\n",
       "      <th>16</th>\n",
       "      <td>2024-07-02 05-02-45.tlog</td>\n",
       "      <td>LINESTRING (-62.98387 -17.23447, -62.98387 -17...</td>\n",
       "    </tr>\n",
       "    <tr>\n",
       "      <th>17</th>\n",
       "      <td>2024-07-02 08-33-41.tlog</td>\n",
       "      <td>LINESTRING (-62.98388 -17.23447, -62.98388 -17...</td>\n",
       "    </tr>\n",
       "    <tr>\n",
       "      <th>18</th>\n",
       "      <td>2024-07-02 15-49-35.tlog</td>\n",
       "      <td>LINESTRING (-62.97371 -17.23407, -62.97371 -17...</td>\n",
       "    </tr>\n",
       "    <tr>\n",
       "      <th>19</th>\n",
       "      <td>2024-07-02 22-23-42.tlog</td>\n",
       "      <td>LINESTRING (-63.19815 -17.23596, -63.19815 -17...</td>\n",
       "    </tr>\n",
       "    <tr>\n",
       "      <th>20</th>\n",
       "      <td>2024-07-03 03-59-59.tlog</td>\n",
       "      <td>LINESTRING (-62.97423 -17.22832, -62.97423 -17...</td>\n",
       "    </tr>\n",
       "    <tr>\n",
       "      <th>21</th>\n",
       "      <td>2024-07-03 05-19-08.tlog</td>\n",
       "      <td>LINESTRING (-62.98055 -17.23643, -62.98055 -17...</td>\n",
       "    </tr>\n",
       "    <tr>\n",
       "      <th>22</th>\n",
       "      <td>2024-07-03 19-22-35.tlog</td>\n",
       "      <td>LINESTRING (-63.11565 -17.23263, -63.11565 -17...</td>\n",
       "    </tr>\n",
       "    <tr>\n",
       "      <th>23</th>\n",
       "      <td>2024-07-03 21-10-56.tlog</td>\n",
       "      <td>LINESTRING (-62.96958 -17.23370, -62.96958 -17...</td>\n",
       "    </tr>\n",
       "    <tr>\n",
       "      <th>24</th>\n",
       "      <td>2024-07-03 23-28-42.tlog</td>\n",
       "      <td>LINESTRING (-62.96959 -17.23370, -62.96959 -17...</td>\n",
       "    </tr>\n",
       "    <tr>\n",
       "      <th>25</th>\n",
       "      <td>2024-07-03 23-59-40.tlog</td>\n",
       "      <td>LINESTRING (-62.96279 -17.22923, -62.96279 -17...</td>\n",
       "    </tr>\n",
       "    <tr>\n",
       "      <th>26</th>\n",
       "      <td>2024-07-04 02-55-29.tlog</td>\n",
       "      <td>LINESTRING (-62.96280 -17.22922, -62.96280 -17...</td>\n",
       "    </tr>\n",
       "    <tr>\n",
       "      <th>27</th>\n",
       "      <td>2024-07-04 02-59-36.tlog</td>\n",
       "      <td>LINESTRING (-62.97394 -17.22846, -62.97394 -17...</td>\n",
       "    </tr>\n",
       "    <tr>\n",
       "      <th>28</th>\n",
       "      <td>2024-07-04 13-57-18.tlog</td>\n",
       "      <td>LINESTRING (-62.97391 -17.22847, -62.97391 -17...</td>\n",
       "    </tr>\n",
       "  </tbody>\n",
       "</table>\n",
       "</div>"
      ],
      "text/plain": [
       "                        name  \\\n",
       "0   2024-07-01 13-11-17.tlog   \n",
       "1   2024-07-01 17-37-19.tlog   \n",
       "2   2024-07-01 17-38-37.tlog   \n",
       "3   2024-07-01 18-22-17.tlog   \n",
       "4   2024-07-01 19-52-18.tlog   \n",
       "5   2024-07-01 20-35-38.tlog   \n",
       "6   2024-07-01 21-49-26.tlog   \n",
       "7   2024-07-01 22-24-53.tlog   \n",
       "8   2024-07-01 23-07-04.tlog   \n",
       "9   2024-07-01 23-43-15.tlog   \n",
       "10  2024-07-02 00-27-21.tlog   \n",
       "11  2024-07-02 02-43-47.tlog   \n",
       "12  2024-07-02 03-20-34.tlog   \n",
       "13  2024-07-02 03-33-48.tlog   \n",
       "14  2024-07-02 03-55-53.tlog   \n",
       "15  2024-07-02 04-23-29.tlog   \n",
       "16  2024-07-02 05-02-45.tlog   \n",
       "17  2024-07-02 08-33-41.tlog   \n",
       "18  2024-07-02 15-49-35.tlog   \n",
       "19  2024-07-02 22-23-42.tlog   \n",
       "20  2024-07-03 03-59-59.tlog   \n",
       "21  2024-07-03 05-19-08.tlog   \n",
       "22  2024-07-03 19-22-35.tlog   \n",
       "23  2024-07-03 21-10-56.tlog   \n",
       "24  2024-07-03 23-28-42.tlog   \n",
       "25  2024-07-03 23-59-40.tlog   \n",
       "26  2024-07-04 02-55-29.tlog   \n",
       "27  2024-07-04 02-59-36.tlog   \n",
       "28  2024-07-04 13-57-18.tlog   \n",
       "\n",
       "                                             geometry  \n",
       "0   LINESTRING (-63.19876 -17.24399, -63.19876 -17...  \n",
       "1   LINESTRING (-62.97410 -17.22839, -62.97410 -17...  \n",
       "2   LINESTRING (-62.97416 -17.22837, -62.97416 -17...  \n",
       "3   LINESTRING (-62.97417 -17.22835, -62.97417 -17...  \n",
       "4   LINESTRING (-62.98185 -17.22397, -62.98185 -17...  \n",
       "5   LINESTRING (-62.98178 -17.22402, -62.98178 -17...  \n",
       "6   LINESTRING (-62.98743 -17.22733, -62.98743 -17...  \n",
       "7   LINESTRING (-62.99866 -17.21325, -62.99866 -17...  \n",
       "8   LINESTRING (-62.99750 -17.21572, -62.99750 -17...  \n",
       "9   LINESTRING (-62.99751 -17.21573, -62.99751 -17...  \n",
       "10  LINESTRING (-62.99782 -17.21793, -62.99782 -17...  \n",
       "11  LINESTRING (-62.99514 -17.22487, -62.99514 -17...  \n",
       "12  LINESTRING (-62.98960 -17.23135, -62.98960 -17...  \n",
       "13  LINESTRING (-62.98959 -17.23135, -62.98959 -17...  \n",
       "14  LINESTRING (-62.98959 -17.23135, -62.98959 -17...  \n",
       "15  LINESTRING (-62.98388 -17.23447, -62.98388 -17...  \n",
       "16  LINESTRING (-62.98387 -17.23447, -62.98387 -17...  \n",
       "17  LINESTRING (-62.98388 -17.23447, -62.98388 -17...  \n",
       "18  LINESTRING (-62.97371 -17.23407, -62.97371 -17...  \n",
       "19  LINESTRING (-63.19815 -17.23596, -63.19815 -17...  \n",
       "20  LINESTRING (-62.97423 -17.22832, -62.97423 -17...  \n",
       "21  LINESTRING (-62.98055 -17.23643, -62.98055 -17...  \n",
       "22  LINESTRING (-63.11565 -17.23263, -63.11565 -17...  \n",
       "23  LINESTRING (-62.96958 -17.23370, -62.96958 -17...  \n",
       "24  LINESTRING (-62.96959 -17.23370, -62.96959 -17...  \n",
       "25  LINESTRING (-62.96279 -17.22923, -62.96279 -17...  \n",
       "26  LINESTRING (-62.96280 -17.22922, -62.96280 -17...  \n",
       "27  LINESTRING (-62.97394 -17.22846, -62.97394 -17...  \n",
       "28  LINESTRING (-62.97391 -17.22847, -62.97391 -17...  "
      ]
     },
     "execution_count": 13,
     "metadata": {},
     "output_type": "execute_result"
    }
   ],
   "source": [
    "gdf_lines"
   ]
  },
  {
   "cell_type": "code",
   "execution_count": 14,
   "id": "e19354fd-3846-4f71-88b4-e546b8deb621",
   "metadata": {},
   "outputs": [],
   "source": [
    "# Función para dividir y limpiar las líneas\n",
    "def dividir_y_limpiar_linea(linea):\n",
    "    puntos = list(linea.coords)\n",
    "    nuevas_lineas = []\n",
    "    nueva_linea = []\n",
    "    \n",
    "    for punto in puntos:\n",
    "        if punto != (0, 0):\n",
    "            nueva_linea.append(punto)\n",
    "        else:\n",
    "            if nueva_linea:\n",
    "                nuevas_lineas.append(LineString(nueva_linea))\n",
    "                nueva_linea = []\n",
    "    \n",
    "    if nueva_linea:\n",
    "        nuevas_lineas.append(LineString(nueva_linea))\n",
    "    \n",
    "    return nuevas_lineas"
   ]
  },
  {
   "cell_type": "code",
   "execution_count": 15,
   "id": "7d405569-5da0-4ab6-8e82-b02a3dbdd4c2",
   "metadata": {},
   "outputs": [],
   "source": [
    "# Crear una lista para las nuevas líneas y nombres\n",
    "nuevas_lineas = []\n",
    "nuevos_nombres = []\n",
    "for idx, row in gdf_lines.iterrows():\n",
    "    lineas_divididas = dividir_y_limpiar_linea(row.geometry)\n",
    "    for linea in lineas_divididas:\n",
    "        nuevas_lineas.append(linea)\n",
    "        nuevos_nombres.append(row['name'])"
   ]
  },
  {
   "cell_type": "code",
   "execution_count": 16,
   "id": "e094a348-a4b5-4743-8c3a-c7dc6fb7a21a",
   "metadata": {},
   "outputs": [],
   "source": [
    "# Crear un nuevo GeoDataFrame con las nuevas líneas\n",
    "gdf_lines = gpd.GeoDataFrame({'name': nuevos_nombres, 'geometry': nuevas_lineas}, crs=\"EPSG:4326\")"
   ]
  },
  {
   "cell_type": "code",
   "execution_count": 17,
   "id": "0c91619d-f9dd-46af-9149-acca387f08e1",
   "metadata": {},
   "outputs": [],
   "source": [
    "# Función para contar la cantidad de coordenadas en una geometría de tipo LINESTRING\n",
    "def contar_coordenadas(linea):\n",
    "    return len(linea.coords)"
   ]
  },
  {
   "cell_type": "code",
   "execution_count": 18,
   "id": "02e41758-ab6e-46f4-90f6-686f83fc16bb",
   "metadata": {},
   "outputs": [],
   "source": [
    "gdf_lines['cant_coor'] = gdf_lines['geometry'].apply(contar_coordenadas)"
   ]
  },
  {
   "cell_type": "code",
   "execution_count": null,
   "id": "bae564ef-227a-4a2c-ab89-cb2cc7d43c53",
   "metadata": {},
   "outputs": [],
   "source": []
  },
  {
   "cell_type": "code",
   "execution_count": 19,
   "id": "7c21bb5c-d89a-4d80-88da-c6a7ed188f99",
   "metadata": {},
   "outputs": [
    {
     "data": {
      "text/html": [
       "<div>\n",
       "<style scoped>\n",
       "    .dataframe tbody tr th:only-of-type {\n",
       "        vertical-align: middle;\n",
       "    }\n",
       "\n",
       "    .dataframe tbody tr th {\n",
       "        vertical-align: top;\n",
       "    }\n",
       "\n",
       "    .dataframe thead th {\n",
       "        text-align: right;\n",
       "    }\n",
       "</style>\n",
       "<table border=\"1\" class=\"dataframe\">\n",
       "  <thead>\n",
       "    <tr style=\"text-align: right;\">\n",
       "      <th></th>\n",
       "      <th>name</th>\n",
       "      <th>geometry</th>\n",
       "      <th>cant_coor</th>\n",
       "    </tr>\n",
       "  </thead>\n",
       "  <tbody>\n",
       "    <tr>\n",
       "      <th>0</th>\n",
       "      <td>2024-07-01 13-11-17.tlog</td>\n",
       "      <td>LINESTRING (-63.19876 -17.24399, -63.19876 -17...</td>\n",
       "      <td>6713</td>\n",
       "    </tr>\n",
       "    <tr>\n",
       "      <th>1</th>\n",
       "      <td>2024-07-01 13-11-17.tlog</td>\n",
       "      <td>LINESTRING (-63.19873 -17.24403, -63.19874 -17...</td>\n",
       "      <td>3090</td>\n",
       "    </tr>\n",
       "    <tr>\n",
       "      <th>2</th>\n",
       "      <td>2024-07-01 17-37-19.tlog</td>\n",
       "      <td>LINESTRING (-62.97410 -17.22839, -62.97410 -17...</td>\n",
       "      <td>264</td>\n",
       "    </tr>\n",
       "    <tr>\n",
       "      <th>3</th>\n",
       "      <td>2024-07-01 17-37-19.tlog</td>\n",
       "      <td>LINESTRING (-62.97410 -17.22839, -62.97410 -17...</td>\n",
       "      <td>4338</td>\n",
       "    </tr>\n",
       "    <tr>\n",
       "      <th>4</th>\n",
       "      <td>2024-07-01 17-37-19.tlog</td>\n",
       "      <td>LINESTRING (-62.97417 -17.22834, -62.97417 -17...</td>\n",
       "      <td>495</td>\n",
       "    </tr>\n",
       "    <tr>\n",
       "      <th>...</th>\n",
       "      <td>...</td>\n",
       "      <td>...</td>\n",
       "      <td>...</td>\n",
       "    </tr>\n",
       "    <tr>\n",
       "      <th>57</th>\n",
       "      <td>2024-07-04 02-55-29.tlog</td>\n",
       "      <td>LINESTRING (-62.96278 -17.22923, -62.96278 -17...</td>\n",
       "      <td>3888</td>\n",
       "    </tr>\n",
       "    <tr>\n",
       "      <th>58</th>\n",
       "      <td>2024-07-04 02-55-29.tlog</td>\n",
       "      <td>LINESTRING (-62.96280 -17.22924, -62.96280 -17...</td>\n",
       "      <td>267</td>\n",
       "    </tr>\n",
       "    <tr>\n",
       "      <th>59</th>\n",
       "      <td>2024-07-04 02-55-29.tlog</td>\n",
       "      <td>LINESTRING (-62.96280 -17.22923, -62.96280 -17...</td>\n",
       "      <td>4349</td>\n",
       "    </tr>\n",
       "    <tr>\n",
       "      <th>60</th>\n",
       "      <td>2024-07-04 02-59-36.tlog</td>\n",
       "      <td>LINESTRING (-62.97394 -17.22846, -62.97394 -17...</td>\n",
       "      <td>510</td>\n",
       "    </tr>\n",
       "    <tr>\n",
       "      <th>61</th>\n",
       "      <td>2024-07-04 13-57-18.tlog</td>\n",
       "      <td>LINESTRING (-62.97391 -17.22847, -62.97391 -17...</td>\n",
       "      <td>1305</td>\n",
       "    </tr>\n",
       "  </tbody>\n",
       "</table>\n",
       "<p>62 rows × 3 columns</p>\n",
       "</div>"
      ],
      "text/plain": [
       "                        name  \\\n",
       "0   2024-07-01 13-11-17.tlog   \n",
       "1   2024-07-01 13-11-17.tlog   \n",
       "2   2024-07-01 17-37-19.tlog   \n",
       "3   2024-07-01 17-37-19.tlog   \n",
       "4   2024-07-01 17-37-19.tlog   \n",
       "..                       ...   \n",
       "57  2024-07-04 02-55-29.tlog   \n",
       "58  2024-07-04 02-55-29.tlog   \n",
       "59  2024-07-04 02-55-29.tlog   \n",
       "60  2024-07-04 02-59-36.tlog   \n",
       "61  2024-07-04 13-57-18.tlog   \n",
       "\n",
       "                                             geometry  cant_coor  \n",
       "0   LINESTRING (-63.19876 -17.24399, -63.19876 -17...       6713  \n",
       "1   LINESTRING (-63.19873 -17.24403, -63.19874 -17...       3090  \n",
       "2   LINESTRING (-62.97410 -17.22839, -62.97410 -17...        264  \n",
       "3   LINESTRING (-62.97410 -17.22839, -62.97410 -17...       4338  \n",
       "4   LINESTRING (-62.97417 -17.22834, -62.97417 -17...        495  \n",
       "..                                                ...        ...  \n",
       "57  LINESTRING (-62.96278 -17.22923, -62.96278 -17...       3888  \n",
       "58  LINESTRING (-62.96280 -17.22924, -62.96280 -17...        267  \n",
       "59  LINESTRING (-62.96280 -17.22923, -62.96280 -17...       4349  \n",
       "60  LINESTRING (-62.97394 -17.22846, -62.97394 -17...        510  \n",
       "61  LINESTRING (-62.97391 -17.22847, -62.97391 -17...       1305  \n",
       "\n",
       "[62 rows x 3 columns]"
      ]
     },
     "execution_count": 19,
     "metadata": {},
     "output_type": "execute_result"
    }
   ],
   "source": [
    "gdf_lines"
   ]
  },
  {
   "cell_type": "code",
   "execution_count": 20,
   "id": "a04b10fb-340a-4b87-8ccd-d3a03057ceba",
   "metadata": {},
   "outputs": [
    {
     "data": {
      "text/plain": [
       "<Axes: >"
      ]
     },
     "execution_count": 20,
     "metadata": {},
     "output_type": "execute_result"
    },
    {
     "data": {
      "image/png": "[encoded data removed]",
      "text/plain": [
       "<Figure size 640x480 with 1 Axes>"
      ]
     },
     "metadata": {},
     "output_type": "display_data"
    }
   ],
   "source": [
    "gdf_lines.plot()"
   ]
  },
  {
   "cell_type": "code",
   "execution_count": 21,
   "id": "d663ceb7-df00-447c-858a-6493a884b0ed",
   "metadata": {},
   "outputs": [],
   "source": [
    "gdf_lines_utm = gdf_lines.to_crs(epsg=32720)"
   ]
  },
  {
   "cell_type": "code",
   "execution_count": 22,
   "id": "a6aa1191-afe4-485b-a918-93aa19dc8453",
   "metadata": {},
   "outputs": [],
   "source": [
    "output_path = 'output_lines_with_names_shapefile.shp'\n",
    "gdf_lines_utm.to_file(output_path)"
   ]
  },
  {
   "cell_type": "code",
   "execution_count": null,
   "id": "e1090b73-7bb8-41ac-bd65-d57718b11a2a",
   "metadata": {},
   "outputs": [],
   "source": []
  },
  {
   "cell_type": "code",
   "execution_count": null,
   "id": "2429b83e-6cf9-476d-a3ac-3b92cd38ad08",
   "metadata": {},
   "outputs": [],
   "source": []
  },
  {
   "cell_type": "code",
   "execution_count": null,
   "id": "0fd2aae3-cd66-47f2-b738-5d892c951c1c",
   "metadata": {},
   "outputs": [],
   "source": []
  },
  {
   "cell_type": "code",
   "execution_count": null,
   "id": "5a55b0c2-1843-45be-a876-53b396f21796",
   "metadata": {},
   "outputs": [],
   "source": []
  }
 ],
 "metadata": {
  "kernelspec": {
   "display_name": "Python 3 (ipykernel)",
   "language": "python",
   "name": "python3"
  },
  "language_info": {
   "codemirror_mode": {
    "name": "ipython",
    "version": 3
   },
   "file_extension": ".py",
   "mimetype": "text/x-python",
   "name": "python",
   "nbconvert_exporter": "python",
   "pygments_lexer": "ipython3",
   "version": "3.10.13"
  }
 },
 "nbformat": 4,
 "nbformat_minor": 5
}
