{
 "cells": [
  {
   "cell_type": "code",
   "execution_count": 98,
   "id": "471a58e2-7e57-4c39-9f66-2901e67bad16",
   "metadata": {},
   "outputs": [],
   "source": [
    "from pymavlink import mavutil\n",
    "\n",
    "import pandas as pd\n",
    "\n",
    "import geopandas as gpd\n",
    "from shapely.geometry import Point, LineString"
   ]
  },
  {
   "cell_type": "code",
   "execution_count": 99,
   "id": "87f25c9e-3f5c-43bb-952b-c33c3b509cab",
   "metadata": {},
   "outputs": [],
   "source": [
    "path_log = 'C:/Documents/Ingenio Azucarero Guabira S.A/UTEA - SEMANAL - EQUIPO AVIACION UTEA/Trichogramma/log_vuelo_2025/logs04'\n",
    "path_res = 'C:/Documents/Ingenio Azucarero Guabira S.A/UTEA - SEMANAL - EQUIPO AVIACION UTEA/Trichogramma/log_vuelo_2025/logs04_shp'"
   ]
  },
  {
   "cell_type": "code",
   "execution_count": 100,
   "id": "cd649841-bc3f-4d98-92d4-24d1c63899ab",
   "metadata": {},
   "outputs": [
    {
     "data": {
      "text/plain": [
       "5"
      ]
     },
     "execution_count": 100,
     "metadata": {},
     "output_type": "execute_result"
    }
   ],
   "source": [
    "contenido = os.listdir(path_log)\n",
    "len(contenido)"
   ]
  },
  {
   "cell_type": "code",
   "execution_count": 104,
   "id": "bf4f30ab-b7a9-4fdf-a750-28a661aa7ce8",
   "metadata": {},
   "outputs": [
    {
     "data": {
      "text/plain": [
       "['2024-06-27 14-21-22.tlog',\n",
       " '2024-06-27 14-33-51.tlog',\n",
       " '2024-06-27 16-41-20.tlog',\n",
       " '2024-06-27 18-39-33.tlog',\n",
       " '2024-06-27 19-06-35.tlog']"
      ]
     },
     "execution_count": 104,
     "metadata": {},
     "output_type": "execute_result"
    }
   ],
   "source": [
    "contenido"
   ]
  },
  {
   "cell_type": "code",
   "execution_count": null,
   "id": "2573f2c6-0069-4cf9-86ab-a75887085921",
   "metadata": {},
   "outputs": [],
   "source": []
  },
  {
   "cell_type": "code",
   "execution_count": null,
   "id": "b7ab1536-77d0-4244-aa86-fcefe2eb72ab",
   "metadata": {},
   "outputs": [],
   "source": []
  },
  {
   "cell_type": "code",
   "execution_count": 106,
   "id": "ca3c281f-b619-4640-92a2-6c815204fc7c",
   "metadata": {},
   "outputs": [],
   "source": [
    "def leer_logs(lista_logs):\n",
    "    list_geo = []\n",
    "    list_name = []\n",
    "    for i in lista_logs:\n",
    "        log = path_log + '/' + i\n",
    "        mlog = mavutil.mavlink_connection(log)\n",
    "        lats = []\n",
    "        lons = []\n",
    "        while True:\n",
    "            msg = mlog.recv_match()\n",
    "            if not msg:\n",
    "                break\n",
    "            # Ejemplo de procesamiento de mensaje\n",
    "            if msg.get_type() == 'GLOBAL_POSITION_INT':\n",
    "                lat = msg.lat / 1e7  # Latitud en grados\n",
    "                lon = msg.lon / 1e7  # Longitud en grados\n",
    "                lats.append(lat)\n",
    "                lons.append(lon)\n",
    "\n",
    "        coors = {'lat':lats, 'lon':lons}\n",
    "        df = pd.DataFrame(coors)\n",
    "        \n",
    "        geometry = [Point(xy) for xy in zip(df['lon'], df['lat'])]\n",
    "        line = LineString(geometry)\n",
    "        list_geo.append(line)\n",
    "        list_name.append(i)\n",
    "    #dict_lines = {'geos':list_geo, 'names':list_name}\n",
    "    #gdf_line = gpd.GeoDataFrame(dict_lines, crs=\"EPSG:4326\")\n",
    "    #gdf_line_utm = gdf_line.to_crs(epsg=32720)\n",
    "    return (list_geo, list_name)"
   ]
  },
  {
   "cell_type": "code",
   "execution_count": 107,
   "id": "d28df3e9-37ed-403b-b3c8-c9873fa59851",
   "metadata": {},
   "outputs": [],
   "source": [
    "l = leer_logs(contenido)"
   ]
  },
  {
   "cell_type": "code",
   "execution_count": 108,
   "id": "f7c25725-7501-43af-8aea-42ed64f609b4",
   "metadata": {},
   "outputs": [
    {
     "data": {
      "text/plain": [
       "([<LINESTRING (-63.183 -17.243, -63.183 -17.243, -63.183 -17.243, -63.183 -17....>,\n",
       "  <LINESTRING (-63.192 -17.241, -63.192 -17.241, -63.192 -17.241, -63.192 -17....>,\n",
       "  <LINESTRING (-63.191 -17.241, -63.191 -17.241, -63.191 -17.241, -63.191 -17....>,\n",
       "  <LINESTRING (-63.139 -17.262, -63.139 -17.262, -63.139 -17.262, -63.139 -17....>,\n",
       "  <LINESTRING (-63.139 -17.262, -63.139 -17.262, -63.139 -17.262, -63.139 -17....>],\n",
       " ['2024-06-27 14-21-22.tlog',\n",
       "  '2024-06-27 14-33-51.tlog',\n",
       "  '2024-06-27 16-41-20.tlog',\n",
       "  '2024-06-27 18-39-33.tlog',\n",
       "  '2024-06-27 19-06-35.tlog'])"
      ]
     },
     "execution_count": 108,
     "metadata": {},
     "output_type": "execute_result"
    }
   ],
   "source": [
    "l"
   ]
  },
  {
   "cell_type": "code",
   "execution_count": null,
   "id": "65a842f9-e32d-455e-9f12-0d5461b62b56",
   "metadata": {},
   "outputs": [],
   "source": []
  },
  {
   "cell_type": "code",
   "execution_count": null,
   "id": "d663ceb7-df00-447c-858a-6493a884b0ed",
   "metadata": {},
   "outputs": [],
   "source": []
  },
  {
   "cell_type": "code",
   "execution_count": null,
   "id": "19c995b5-d3e3-42b3-b325-127035e1acee",
   "metadata": {},
   "outputs": [],
   "source": []
  },
  {
   "cell_type": "code",
   "execution_count": null,
   "id": "3ffa43ca-6d06-473f-aa95-856df24ab8a8",
   "metadata": {},
   "outputs": [],
   "source": []
  },
  {
   "cell_type": "code",
   "execution_count": 83,
   "id": "af7ea3fa-7121-4aad-93c7-c1cb880e5ca9",
   "metadata": {},
   "outputs": [],
   "source": [
    "log = path_log + '/' + '2024-06-27 14-33-51.tlog'"
   ]
  },
  {
   "cell_type": "code",
   "execution_count": 84,
   "id": "b6a236f9-6edd-4f00-a57a-29996c8cead3",
   "metadata": {},
   "outputs": [],
   "source": [
    "mlog = mavutil.mavlink_connection(log)"
   ]
  },
  {
   "cell_type": "code",
   "execution_count": 85,
   "id": "ebdc6097-4d7c-43b4-8a96-56d5b1c1d62f",
   "metadata": {},
   "outputs": [],
   "source": [
    "lats = []\n",
    "lons = []"
   ]
  },
  {
   "cell_type": "code",
   "execution_count": 86,
   "id": "2ba05266-6c2b-4aff-998c-a6d537d53d44",
   "metadata": {},
   "outputs": [],
   "source": [
    "while True:\n",
    "    msg = mlog.recv_match()\n",
    "    if not msg:\n",
    "        break\n",
    "    # Ejemplo de procesamiento de mensaje\n",
    "    if msg.get_type() == 'GLOBAL_POSITION_INT':\n",
    "        lat = msg.lat / 1e7  # Latitud en grados\n",
    "        lon = msg.lon / 1e7  # Longitud en grados\n",
    "        alt = msg.alt / 1e3  # Altitud en metros\n",
    "        \n",
    "        lats.append(lat)\n",
    "        lons.append(lon)\n",
    "        #print(f\"Latitud: {lat}, Longitud: {lon}, Altitud: {alt}\")"
   ]
  },
  {
   "cell_type": "code",
   "execution_count": 87,
   "id": "81cb615e-ea1c-4f70-a63e-50ee1da50f3f",
   "metadata": {},
   "outputs": [],
   "source": [
    "coors = {'lat':lats, 'lon':lons}"
   ]
  },
  {
   "cell_type": "code",
   "execution_count": 88,
   "id": "c1f28759-73aa-487b-8877-0d4049725fc6",
   "metadata": {},
   "outputs": [],
   "source": [
    "df = pd.DataFrame(coors)"
   ]
  },
  {
   "cell_type": "code",
   "execution_count": 89,
   "id": "0a668650-29e5-4421-838c-b7d702d9a1c1",
   "metadata": {},
   "outputs": [
    {
     "data": {
      "text/html": [
       "<div>\n",
       "<style scoped>\n",
       "    .dataframe tbody tr th:only-of-type {\n",
       "        vertical-align: middle;\n",
       "    }\n",
       "\n",
       "    .dataframe tbody tr th {\n",
       "        vertical-align: top;\n",
       "    }\n",
       "\n",
       "    .dataframe thead th {\n",
       "        text-align: right;\n",
       "    }\n",
       "</style>\n",
       "<table border=\"1\" class=\"dataframe\">\n",
       "  <thead>\n",
       "    <tr style=\"text-align: right;\">\n",
       "      <th></th>\n",
       "      <th>lat</th>\n",
       "      <th>lon</th>\n",
       "    </tr>\n",
       "  </thead>\n",
       "  <tbody>\n",
       "    <tr>\n",
       "      <th>0</th>\n",
       "      <td>-17.240544</td>\n",
       "      <td>-63.191583</td>\n",
       "    </tr>\n",
       "    <tr>\n",
       "      <th>1</th>\n",
       "      <td>-17.240544</td>\n",
       "      <td>-63.191583</td>\n",
       "    </tr>\n",
       "    <tr>\n",
       "      <th>2</th>\n",
       "      <td>-17.240544</td>\n",
       "      <td>-63.191583</td>\n",
       "    </tr>\n",
       "    <tr>\n",
       "      <th>3</th>\n",
       "      <td>-17.240544</td>\n",
       "      <td>-63.191583</td>\n",
       "    </tr>\n",
       "    <tr>\n",
       "      <th>4</th>\n",
       "      <td>-17.240543</td>\n",
       "      <td>-63.191583</td>\n",
       "    </tr>\n",
       "    <tr>\n",
       "      <th>...</th>\n",
       "      <td>...</td>\n",
       "      <td>...</td>\n",
       "    </tr>\n",
       "    <tr>\n",
       "      <th>1281</th>\n",
       "      <td>-17.240540</td>\n",
       "      <td>-63.191579</td>\n",
       "    </tr>\n",
       "    <tr>\n",
       "      <th>1282</th>\n",
       "      <td>-17.240540</td>\n",
       "      <td>-63.191579</td>\n",
       "    </tr>\n",
       "    <tr>\n",
       "      <th>1283</th>\n",
       "      <td>-17.240539</td>\n",
       "      <td>-63.191579</td>\n",
       "    </tr>\n",
       "    <tr>\n",
       "      <th>1284</th>\n",
       "      <td>-17.240538</td>\n",
       "      <td>-63.191578</td>\n",
       "    </tr>\n",
       "    <tr>\n",
       "      <th>1285</th>\n",
       "      <td>-17.240537</td>\n",
       "      <td>-63.191578</td>\n",
       "    </tr>\n",
       "  </tbody>\n",
       "</table>\n",
       "<p>1286 rows × 2 columns</p>\n",
       "</div>"
      ],
      "text/plain": [
       "            lat        lon\n",
       "0    -17.240544 -63.191583\n",
       "1    -17.240544 -63.191583\n",
       "2    -17.240544 -63.191583\n",
       "3    -17.240544 -63.191583\n",
       "4    -17.240543 -63.191583\n",
       "...         ...        ...\n",
       "1281 -17.240540 -63.191579\n",
       "1282 -17.240540 -63.191579\n",
       "1283 -17.240539 -63.191579\n",
       "1284 -17.240538 -63.191578\n",
       "1285 -17.240537 -63.191578\n",
       "\n",
       "[1286 rows x 2 columns]"
      ]
     },
     "execution_count": 89,
     "metadata": {},
     "output_type": "execute_result"
    }
   ],
   "source": [
    "df"
   ]
  },
  {
   "cell_type": "code",
   "execution_count": 90,
   "id": "c210544a-69f6-4acc-bc8c-0d12b62acaea",
   "metadata": {},
   "outputs": [],
   "source": [
    "geometry = [Point(xy) for xy in zip(df['lon'], df['lat'])]\n",
    "gdf = gpd.GeoDataFrame(df, geometry=geometry)\n",
    "\n",
    "# Establecer el sistema de coordenadas original (WGS84)\n",
    "gdf.set_crs(epsg=4326, inplace=True)\n",
    "# Reproyectar a UTM zona 20S\n",
    "gdf_utm = gdf.to_crs(epsg=32720)\n",
    "\n",
    "line = LineString(geometry)\n",
    "gdf_line = gpd.GeoDataFrame(geometry=[line], crs=\"EPSG:4326\")\n",
    "gdf_line_utm = gdf_line.to_crs(epsg=32720)"
   ]
  },
  {
   "cell_type": "code",
   "execution_count": 95,
   "id": "bb5ca01c-b3c5-4840-9322-f7d4b5d17757",
   "metadata": {},
   "outputs": [],
   "source": [
    "gdf_line_utm['name']='frgrgr'"
   ]
  },
  {
   "cell_type": "code",
   "execution_count": 96,
   "id": "037b3bb5-5836-4654-a4fb-35e866b2fa0c",
   "metadata": {},
   "outputs": [
    {
     "data": {
      "text/html": [
       "<div>\n",
       "<style scoped>\n",
       "    .dataframe tbody tr th:only-of-type {\n",
       "        vertical-align: middle;\n",
       "    }\n",
       "\n",
       "    .dataframe tbody tr th {\n",
       "        vertical-align: top;\n",
       "    }\n",
       "\n",
       "    .dataframe thead th {\n",
       "        text-align: right;\n",
       "    }\n",
       "</style>\n",
       "<table border=\"1\" class=\"dataframe\">\n",
       "  <thead>\n",
       "    <tr style=\"text-align: right;\">\n",
       "      <th></th>\n",
       "      <th>geometry</th>\n",
       "      <th>name</th>\n",
       "    </tr>\n",
       "  </thead>\n",
       "  <tbody>\n",
       "    <tr>\n",
       "      <th>0</th>\n",
       "      <td>LINESTRING (479633.490 8093824.325, 479633.479...</td>\n",
       "      <td>frgrgr</td>\n",
       "    </tr>\n",
       "  </tbody>\n",
       "</table>\n",
       "</div>"
      ],
      "text/plain": [
       "                                            geometry    name\n",
       "0  LINESTRING (479633.490 8093824.325, 479633.479...  frgrgr"
      ]
     },
     "execution_count": 96,
     "metadata": {},
     "output_type": "execute_result"
    }
   ],
   "source": [
    "gdf_line_utm"
   ]
  },
  {
   "cell_type": "code",
   "execution_count": 97,
   "id": "def232eb-9c83-4936-9ebf-b6517a4d3413",
   "metadata": {},
   "outputs": [],
   "source": [
    "output_path = path_res + '/output_line_shapefile.shp'\n",
    "gdf_line_utm.to_file(output_path)"
   ]
  },
  {
   "cell_type": "code",
   "execution_count": null,
   "id": "2429b83e-6cf9-476d-a3ac-3b92cd38ad08",
   "metadata": {},
   "outputs": [],
   "source": []
  },
  {
   "cell_type": "code",
   "execution_count": null,
   "id": "0fd2aae3-cd66-47f2-b738-5d892c951c1c",
   "metadata": {},
   "outputs": [],
   "source": []
  },
  {
   "cell_type": "code",
   "execution_count": null,
   "id": "5a55b0c2-1843-45be-a876-53b396f21796",
   "metadata": {},
   "outputs": [],
   "source": []
  }
 ],
 "metadata": {
  "kernelspec": {
   "display_name": "Python 3 (ipykernel)",
   "language": "python",
   "name": "python3"
  },
  "language_info": {
   "codemirror_mode": {
    "name": "ipython",
    "version": 3
   },
   "file_extension": ".py",
   "mimetype": "text/x-python",
   "name": "python",
   "nbconvert_exporter": "python",
   "pygments_lexer": "ipython3",
   "version": "3.10.13"
  }
 },
 "nbformat": 4,
 "nbformat_minor": 5
}
