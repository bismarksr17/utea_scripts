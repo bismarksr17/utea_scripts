{
 "cells": [
  {
   "cell_type": "code",
   "execution_count": 68,
   "id": "11ca266e-9a9d-4d65-ac26-b263e561d636",
   "metadata": {},
   "outputs": [],
   "source": [
    "import pandas as pd\n",
    "import geopandas as gpd"
   ]
  },
  {
   "cell_type": "code",
   "execution_count": 111,
   "id": "9537813f-486f-4c59-ba0b-4fb1817e547f",
   "metadata": {},
   "outputs": [],
   "source": [
    "def describir_shp(gdf):\n",
    "    area_cargado = gdf['area'].sum()\n",
    "    gdf['area'] = gdf.geometry.area / 10000\n",
    "    area_recalculado = gdf['area'].sum()\n",
    "    gdf['idd'] = gdf.apply(lambda row: f\"{row['unidad_01']}|{row['unidad_03']}|{row['unidad_05']}\", axis=1)\n",
    "    gdf_disolve = gdf.dissolve(by='idd')\n",
    "    gdf_disolve['area'] = gdf_disolve.geometry.area / 10000\n",
    "    area_disolve = gdf_disolve['area'].sum()\n",
    "    estado_datos = {\n",
    "        'Items' : ['Area cargado', 'Area recalculado', 'Area disolve'],\n",
    "        'Datos' : [round(area_cargado, 2), round(area_recalculado, 2), round(area_disolve, 2)]\n",
    "    }\n",
    "    return pd.DataFrame(estado_datos)"
   ]
  },
  {
   "cell_type": "code",
   "execution_count": 112,
   "id": "97c7c13e-d51a-4d57-8772-749516e59d9f",
   "metadata": {},
   "outputs": [],
   "source": [
    "path_shp_cosecha = r'C:/Documents/OneDrive - Ingenio Azucarero Guabira S.A/INFORMACION GENERAL/CATASTRO/NUEVO/cosecha2024.shp'\n",
    "path_shp_catastro = r'C:/Documents/OneDrive - Ingenio Azucarero Guabira S.A/INFORMACION GENERAL/CATASTRO/NUEVO/catastro170524.shp'"
   ]
  },
  {
   "cell_type": "code",
   "execution_count": 113,
   "id": "16e3e9f4-598b-48be-886f-f9bed56cc543",
   "metadata": {},
   "outputs": [],
   "source": [
    "gdf_cosecha = gpd.read_file(path_shp_cosecha)\n",
    "gdf_catastro = gpd.read_file(path_shp_catastro)"
   ]
  },
  {
   "cell_type": "code",
   "execution_count": 114,
   "id": "15ba7ac4-83c9-4d31-946f-32918b2bbaeb",
   "metadata": {},
   "outputs": [
    {
     "data": {
      "text/html": [
       "<div>\n",
       "<style scoped>\n",
       "    .dataframe tbody tr th:only-of-type {\n",
       "        vertical-align: middle;\n",
       "    }\n",
       "\n",
       "    .dataframe tbody tr th {\n",
       "        vertical-align: top;\n",
       "    }\n",
       "\n",
       "    .dataframe thead th {\n",
       "        text-align: right;\n",
       "    }\n",
       "</style>\n",
       "<table border=\"1\" class=\"dataframe\">\n",
       "  <thead>\n",
       "    <tr style=\"text-align: right;\">\n",
       "      <th></th>\n",
       "      <th>Items</th>\n",
       "      <th>Datos</th>\n",
       "    </tr>\n",
       "  </thead>\n",
       "  <tbody>\n",
       "    <tr>\n",
       "      <th>0</th>\n",
       "      <td>Area cargado</td>\n",
       "      <td>53938.92</td>\n",
       "    </tr>\n",
       "    <tr>\n",
       "      <th>1</th>\n",
       "      <td>Area recalculado</td>\n",
       "      <td>53939.09</td>\n",
       "    </tr>\n",
       "    <tr>\n",
       "      <th>2</th>\n",
       "      <td>Area disolve</td>\n",
       "      <td>53939.09</td>\n",
       "    </tr>\n",
       "  </tbody>\n",
       "</table>\n",
       "</div>"
      ],
      "text/plain": [
       "              Items     Datos\n",
       "0      Area cargado  53938.92\n",
       "1  Area recalculado  53939.09\n",
       "2      Area disolve  53939.09"
      ]
     },
     "execution_count": 114,
     "metadata": {},
     "output_type": "execute_result"
    }
   ],
   "source": [
    "describir_shp(gdf_cosecha)"
   ]
  },
  {
   "cell_type": "code",
   "execution_count": 115,
   "id": "04d02441-d7dc-4e8b-9e47-dda7df7a884b",
   "metadata": {},
   "outputs": [],
   "source": [
    "gdf_catastro_canha = gdf_catastro[gdf_catastro['cultivo']=='canha'].copy()"
   ]
  },
  {
   "cell_type": "code",
   "execution_count": 116,
   "id": "2905ce62-4c73-496c-a041-f865be9854e3",
   "metadata": {},
   "outputs": [
    {
     "data": {
      "text/html": [
       "<div>\n",
       "<style scoped>\n",
       "    .dataframe tbody tr th:only-of-type {\n",
       "        vertical-align: middle;\n",
       "    }\n",
       "\n",
       "    .dataframe tbody tr th {\n",
       "        vertical-align: top;\n",
       "    }\n",
       "\n",
       "    .dataframe thead th {\n",
       "        text-align: right;\n",
       "    }\n",
       "</style>\n",
       "<table border=\"1\" class=\"dataframe\">\n",
       "  <thead>\n",
       "    <tr style=\"text-align: right;\">\n",
       "      <th></th>\n",
       "      <th>Items</th>\n",
       "      <th>Datos</th>\n",
       "    </tr>\n",
       "  </thead>\n",
       "  <tbody>\n",
       "    <tr>\n",
       "      <th>0</th>\n",
       "      <td>Area cargado</td>\n",
       "      <td>54477.90</td>\n",
       "    </tr>\n",
       "    <tr>\n",
       "      <th>1</th>\n",
       "      <td>Area recalculado</td>\n",
       "      <td>54435.22</td>\n",
       "    </tr>\n",
       "    <tr>\n",
       "      <th>2</th>\n",
       "      <td>Area disolve</td>\n",
       "      <td>54435.22</td>\n",
       "    </tr>\n",
       "  </tbody>\n",
       "</table>\n",
       "</div>"
      ],
      "text/plain": [
       "              Items     Datos\n",
       "0      Area cargado  54477.90\n",
       "1  Area recalculado  54435.22\n",
       "2      Area disolve  54435.22"
      ]
     },
     "execution_count": 116,
     "metadata": {},
     "output_type": "execute_result"
    }
   ],
   "source": [
    "describir_shp(gdf_catastro_canha)"
   ]
  },
  {
   "cell_type": "code",
   "execution_count": 117,
   "id": "022fc8fb-fb3f-4cf2-b7d5-0492fa993b1b",
   "metadata": {},
   "outputs": [],
   "source": [
    "def comprobar_idd_repetidos(gdf):\n",
    "    gdf['idd'] = gdf.apply(lambda row: f\"{row['unidad_01']}|{row['unidad_03']}|{row['unidad_05']}\", axis=1)\n",
    "    gdf_orden = gdf.sort_values(by='idd')\n",
    "    conteos = gdf['idd'].value_counts()\n",
    "    valores_repetidos = conteos[conteos > 1]\n",
    "    return valores_repetidos"
   ]
  },
  {
   "cell_type": "markdown",
   "id": "e244e9b4-a4aa-4d93-ba73-dc8e574242f4",
   "metadata": {},
   "source": [
    "# COMPROBAR CATASTRO"
   ]
  },
  {
   "cell_type": "code",
   "execution_count": 118,
   "id": "7f3a18a3-812d-45c5-91e0-41816e95aabd",
   "metadata": {
    "tags": []
   },
   "outputs": [
    {
     "data": {
      "text/plain": [
       "idd\n",
       "377|11207|L1.4     2\n",
       "1742|10716|L2      2\n",
       "365|15001|L23.1    2\n",
       "1035|13660|L4      2\n",
       "1484|12314|L1.2    2\n",
       "503|12725|L4       2\n",
       "2017|2674|L2       2\n",
       "691|40253|L5       2\n",
       "898|41790|L9.2     2\n",
       "349|2161|L1.2      2\n",
       "288|2588|L3        2\n",
       "119|7077|L2        2\n",
       "365|15001|L14.1    2\n",
       "1425|40132|L4.1    2\n",
       "1395|13058|L2      2\n",
       "Name: count, dtype: int64"
      ]
     },
     "execution_count": 118,
     "metadata": {},
     "output_type": "execute_result"
    }
   ],
   "source": [
    "comprobar_idd_repetidos(gdf_catastro_canha)"
   ]
  },
  {
   "cell_type": "code",
   "execution_count": 119,
   "id": "704cec36-0f18-46ab-8946-a9ee07b7875a",
   "metadata": {},
   "outputs": [],
   "source": [
    "gdf_catastro_disolve = gdf_catastro_canha.dissolve(by='idd')\n",
    "gdf_catastro_disolve['area'] = gdf_catastro_disolve.geometry.area / 10000\n",
    "gdf_catastro_disolve = gdf_catastro_disolve.reset_index()\n",
    "area_catastro_disolve = gdf_catastro_disolve['area'].sum()"
   ]
  },
  {
   "cell_type": "code",
   "execution_count": 120,
   "id": "888dc379-f53d-4846-b488-1bee54afeaa0",
   "metadata": {},
   "outputs": [
    {
     "data": {
      "text/plain": [
       "54435.221193389036"
      ]
     },
     "execution_count": 120,
     "metadata": {},
     "output_type": "execute_result"
    }
   ],
   "source": [
    "area_catastro_disolve"
   ]
  },
  {
   "cell_type": "code",
   "execution_count": 121,
   "id": "a4a3aeb8-452b-4a7f-ae0f-8a6e7605330b",
   "metadata": {},
   "outputs": [
    {
     "data": {
      "text/plain": [
       "Series([], Name: count, dtype: int64)"
      ]
     },
     "execution_count": 121,
     "metadata": {},
     "output_type": "execute_result"
    }
   ],
   "source": [
    "comprobar_idd_repetidos(gdf_catastro_disolve)"
   ]
  },
  {
   "cell_type": "code",
   "execution_count": null,
   "id": "5f1586eb-2921-4c4c-a211-27b2802fe538",
   "metadata": {},
   "outputs": [],
   "source": []
  },
  {
   "cell_type": "markdown",
   "id": "6a328cb8-0cb0-4dff-9f76-1c75a20aeea6",
   "metadata": {},
   "source": [
    "# COMPROBAR SHP COSECHA"
   ]
  },
  {
   "cell_type": "code",
   "execution_count": 122,
   "id": "bbae1713-e3fd-4ba3-81dd-aa69c2cb8b10",
   "metadata": {},
   "outputs": [],
   "source": [
    "gdf_cosecha_disolve = gdf_cosecha.dissolve(by='idd')\n",
    "gdf_cosecha_disolve['area'] = gdf_cosecha_disolve.geometry.area / 10000\n",
    "gdf_cosecha_disolve = gdf_cosecha_disolve.reset_index()\n",
    "area_cosecha_disolve = gdf_cosecha_disolve['area'].sum()"
   ]
  },
  {
   "cell_type": "code",
   "execution_count": 123,
   "id": "af9b8729-1c8f-44b4-841b-76318a712f14",
   "metadata": {},
   "outputs": [
    {
     "data": {
      "text/plain": [
       "53939.09026723008"
      ]
     },
     "execution_count": 123,
     "metadata": {},
     "output_type": "execute_result"
    }
   ],
   "source": [
    "area_cosecha_disolve"
   ]
  },
  {
   "cell_type": "code",
   "execution_count": 124,
   "id": "36d99e0c-e384-4007-8dfb-74d21f8a5fe2",
   "metadata": {},
   "outputs": [
    {
     "data": {
      "text/plain": [
       "Series([], Name: count, dtype: int64)"
      ]
     },
     "execution_count": 124,
     "metadata": {},
     "output_type": "execute_result"
    }
   ],
   "source": [
    "comprobar_idd_repetidos(gdf_cosecha_disolve)"
   ]
  },
  {
   "cell_type": "code",
   "execution_count": null,
   "id": "e464f3d9-7298-45b3-8415-98b0f6c59dd5",
   "metadata": {},
   "outputs": [],
   "source": []
  },
  {
   "cell_type": "markdown",
   "id": "a9b2af32-575e-401b-956c-400eeae3e47d",
   "metadata": {},
   "source": [
    "# COMPARAR CATASTRO - COSECHA"
   ]
  },
  {
   "cell_type": "code",
   "execution_count": 126,
   "id": "7e5fe16a-efc1-4001-846f-b81e4933c877",
   "metadata": {},
   "outputs": [
    {
     "data": {
      "text/plain": [
       "54435.221193389036"
      ]
     },
     "execution_count": 126,
     "metadata": {},
     "output_type": "execute_result"
    }
   ],
   "source": [
    "gdf_catastro_disolve['area'].sum()"
   ]
  },
  {
   "cell_type": "code",
   "execution_count": 127,
   "id": "038abfed-a462-4a49-a493-9bb341f2d792",
   "metadata": {},
   "outputs": [
    {
     "data": {
      "text/plain": [
       "53939.09026723008"
      ]
     },
     "execution_count": 127,
     "metadata": {},
     "output_type": "execute_result"
    }
   ],
   "source": [
    "gdf_cosecha_disolve['area'].sum()"
   ]
  },
  {
   "cell_type": "code",
   "execution_count": 128,
   "id": "8c867512-3d79-48e3-a4bd-82b87772da3e",
   "metadata": {},
   "outputs": [
    {
     "data": {
      "text/plain": [
       "Index(['idd', 'geometry', 'id', 'unidad_01', 'unidad_02', 'unidad_03',\n",
       "       'unidad_04', 'unidad_05', 'variedad', 'soca', 'zona', 'textura',\n",
       "       'cultivo', 'zafra', 'financia', 'fs', 'fc', 'area', 'estado'],\n",
       "      dtype='object')"
      ]
     },
     "execution_count": 128,
     "metadata": {},
     "output_type": "execute_result"
    }
   ],
   "source": [
    "gdf_catastro_disolve.columns"
   ]
  },
  {
   "cell_type": "code",
   "execution_count": 130,
   "id": "10663468-4b1c-42c6-b648-58a8d6bd5581",
   "metadata": {},
   "outputs": [],
   "source": [
    "gdf_cat_pivot = gdf_catastro_disolve[['idd', 'area']]"
   ]
  },
  {
   "cell_type": "code",
   "execution_count": 131,
   "id": "f86aa343-70aa-46f6-aeb7-fbaef672d45f",
   "metadata": {},
   "outputs": [],
   "source": [
    "gdf_cos_pivot = gdf_cosecha_disolve[['idd', 'area']]"
   ]
  },
  {
   "cell_type": "code",
   "execution_count": 135,
   "id": "9a205361-81e7-4658-865b-104423cfbde8",
   "metadata": {},
   "outputs": [],
   "source": [
    "df_cat_merged = pd.merge(gdf_cat_pivot, gdf_cos_pivot, on='idd', how='left')"
   ]
  },
  {
   "cell_type": "code",
   "execution_count": 137,
   "id": "ee9d88fa-3cbb-41bc-9128-6b4908ad83cb",
   "metadata": {},
   "outputs": [],
   "source": [
    "df_cat_merged.to_excel('merge.xlsx')"
   ]
  },
  {
   "cell_type": "code",
   "execution_count": null,
   "id": "e4b66e85-ee35-4cc1-8595-0c77f8eb659e",
   "metadata": {},
   "outputs": [],
   "source": []
  },
  {
   "cell_type": "code",
   "execution_count": null,
   "id": "3d8217c6-5aff-47a3-a3db-15112a10e35f",
   "metadata": {},
   "outputs": [],
   "source": []
  },
  {
   "cell_type": "code",
   "execution_count": null,
   "id": "46d9c0e0-fba6-4cbc-a287-5dc8c39b35ca",
   "metadata": {},
   "outputs": [],
   "source": []
  },
  {
   "cell_type": "code",
   "execution_count": null,
   "id": "3d905510-b056-4022-bd1c-41705c04d1e5",
   "metadata": {},
   "outputs": [],
   "source": []
  }
 ],
 "metadata": {
  "kernelspec": {
   "display_name": "Python 3 (ipykernel)",
   "language": "python",
   "name": "python3"
  },
  "language_info": {
   "codemirror_mode": {
    "name": "ipython",
    "version": 3
   },
   "file_extension": ".py",
   "mimetype": "text/x-python",
   "name": "python",
   "nbconvert_exporter": "python",
   "pygments_lexer": "ipython3",
   "version": "3.10.13"
  }
 },
 "nbformat": 4,
 "nbformat_minor": 5
}
