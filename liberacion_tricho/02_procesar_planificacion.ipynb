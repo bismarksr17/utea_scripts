{
 "cells": [
  {
   "cell_type": "code",
   "execution_count": 97,
   "id": "4ca1910b-5695-4103-b096-022ec8e159e0",
   "metadata": {},
   "outputs": [],
   "source": [
    "import sys\n",
    "sys.path.append('../_amigocloud')"
   ]
  },
  {
   "cell_type": "code",
   "execution_count": 98,
   "id": "3d26f64e-c1fb-424d-bb27-d4ab069c2eed",
   "metadata": {},
   "outputs": [],
   "source": [
    "from amigocloud import AmigoCloud\n",
    "import pandas as pd\n",
    "from shapely import wkb\n",
    "\n",
    "import geopandas as gpd\n",
    "from shapely.geometry import Point, Polygon, MultiPolygon"
   ]
  },
  {
   "cell_type": "code",
   "execution_count": 99,
   "id": "f4b891e6-01fb-42b9-adae-2b0ca346522f",
   "metadata": {},
   "outputs": [],
   "source": [
    "# ruta de carpera donde estan las llaves\n",
    "ruta = open('../ruta.txt')\n",
    "ruta = ruta.readlines()[0]"
   ]
  },
  {
   "cell_type": "code",
   "execution_count": 100,
   "id": "d102d776-8a85-4ab2-bd4f-e915ae3d48b3",
   "metadata": {},
   "outputs": [
    {
     "name": "stderr",
     "output_type": "stream",
     "text": [
      "WARNING:socketIO-client:app.amigocloud.com:443/v2_socket.io/socket.io [connection error] recv disconnected (Connection to remote host was lost.)\n"
     ]
    },
    {
     "data": {
      "text/plain": [
       "<amigocloud.AmigoCloud at 0x2104f8d5000>"
      ]
     },
     "execution_count": 100,
     "metadata": {},
     "output_type": "execute_result"
    }
   ],
   "source": [
    "# leer token\n",
    "acceso = open(ruta + '/_keys/api_amigocloud.key','r')\n",
    "api_token = acceso.readlines()[0]\n",
    "acceso.close()\n",
    "amigocloud = AmigoCloud(token=api_token)\n",
    "amigocloud"
   ]
  },
  {
   "cell_type": "markdown",
   "id": "f90b0afe-f0a8-465a-bfbc-08fb3ecc23a4",
   "metadata": {},
   "source": [
    "# ACTUALIZAR SHP PLANIFICACION"
   ]
  },
  {
   "cell_type": "code",
   "execution_count": 106,
   "id": "6bf20ad6-1bc8-4322-998d-26544569d06c",
   "metadata": {},
   "outputs": [],
   "source": [
    "semana = 23"
   ]
  },
  {
   "cell_type": "code",
   "execution_count": 107,
   "id": "91fc3e36-811a-48ce-99fe-82af7ba3e137",
   "metadata": {},
   "outputs": [],
   "source": [
    "# leer los dos shps de siembra y puntos de planificacion\n",
    "path_siembras = r'G:\\Ingenio Azucarero Guabira S.A\\UTEA - SEMANAL - EQUIPO AVIACION UTEA\\Trichogramma\\2024\\SHP\\SIEMBRAS.shp'\n",
    "path_puntos = r'G:\\Ingenio Azucarero Guabira S.A\\UTEA - SEMANAL - EQUIPO AVIACION UTEA\\Trichogramma\\2024\\SHP\\PUNTOS.shp'\n",
    "gdf_siembras = gpd.read_file(path_siembras)\n",
    "gdf_puntos = gpd.read_file(path_puntos)"
   ]
  },
  {
   "cell_type": "code",
   "execution_count": 108,
   "id": "d04b5587-65f1-4876-adcf-4118f79fff2a",
   "metadata": {},
   "outputs": [
    {
     "name": "stdout",
     "output_type": "stream",
     "text": [
      "Ambas capas tienen el mismo CRS\n"
     ]
    }
   ],
   "source": [
    "# verifica si ambos shps tienen el mismo CRS\n",
    "if gdf_siembras.crs == gdf_puntos.crs:\n",
    "    print('Ambas capas tienen el mismo CRS')\n",
    "else:\n",
    "    print('No tienen el mismo CRS')"
   ]
  },
  {
   "cell_type": "code",
   "execution_count": 109,
   "id": "2633de73-5e3b-44c1-82c5-d27365f3f8e3",
   "metadata": {
    "scrolled": true
   },
   "outputs": [
    {
     "data": {
      "text/plain": [
       "<Axes: >"
      ]
     },
     "execution_count": 109,
     "metadata": {},
     "output_type": "execute_result"
    },
    {
     "data": {
      "image/png": "[encoded data removed]",
      "text/plain": [
       "<Figure size 640x480 with 1 Axes>"
      ]
     },
     "metadata": {},
     "output_type": "display_data"
    }
   ],
   "source": [
    "# filtrar la semna de interes\n",
    "gdf_puntos_sem = gdf_puntos[gdf_puntos['semana'] == semana]\n",
    "gdf_puntos_sem.plot()"
   ]
  },
  {
   "cell_type": "code",
   "execution_count": 110,
   "id": "b2322e14-f1dc-46ab-9f59-e4714e0a20b6",
   "metadata": {},
   "outputs": [],
   "source": [
    "# identifoca los lotes que se intersectan\n",
    "gdf_lotes_selec = gpd.sjoin(gdf_siembras, gdf_puntos, how='inner', predicate='intersects')\n",
    "# filtra los lotes intersectados en la capa original\n",
    "poligonos_intersect = gdf_siembras.loc[gdf_siembras.index.isin(gdf_lotes_selec.index)]\n",
    "# copy\n",
    "poligonos_intersect = poligonos_intersect.copy()\n",
    "# agregar campo de semana_planificacion\n",
    "poligonos_intersect['sem_plan'] = semana"
   ]
  },
  {
   "cell_type": "code",
   "execution_count": 114,
   "id": "cce50e5e-a116-4b2a-af88-5e8781eb1c30",
   "metadata": {},
   "outputs": [
    {
     "name": "stderr",
     "output_type": "stream",
     "text": [
      "C:\\Users\\Usuario\\AppData\\Local\\Temp\\ipykernel_18052\\3644728695.py:5: FutureWarning: The behavior of DataFrame concatenation with empty or all-NA entries is deprecated. In a future version, this will no longer exclude empty or all-NA columns when determining the result dtypes. To retain the old behavior, exclude the relevant entries before the concat operation.\n",
      "  gdf_pla_gral = pd.concat([gdf_plan, poligonos_intersect], ignore_index=True)\n"
     ]
    }
   ],
   "source": [
    "# cargar el shp de planificacion existente\n",
    "path_plan = r'G:\\Ingenio Azucarero Guabira S.A\\UTEA - SEMANAL - EQUIPO AVIACION UTEA\\Trichogramma\\2024\\SHP\\PLANIFICACION.shp'\n",
    "gdf_plan = gpd.read_file(path_plan)\n",
    "# union de los dos gdf\n",
    "gdf_pla_gral = pd.concat([gdf_plan, poligonos_intersect], ignore_index=True)\n",
    "# exportar los datos en nuevo shp\n",
    "gdf_pla_gral.to_file(path_plan)"
   ]
  },
  {
   "cell_type": "markdown",
   "id": "92a10d50-7471-4f3a-8085-fd37e259b2b1",
   "metadata": {},
   "source": [
    "# CARGAR PLANIFICACION A AMIGOCLOUD"
   ]
  },
  {
   "cell_type": "code",
   "execution_count": 116,
   "id": "b3af9f2f-af6f-4d93-9486-fc9dc3bf959b",
   "metadata": {},
   "outputs": [],
   "source": [
    "def convertir_a_multipolygon(geometry):\n",
    "    if isinstance(geometry, Polygon):\n",
    "        return MultiPolygon([geometry])\n",
    "    return geometry\n",
    "\n",
    "def convertir_a_wkb(polygon):\n",
    "    wkb_data = wkb.dumps(polygon, hex=True)\n",
    "    return wkb_data"
   ]
  },
  {
   "cell_type": "code",
   "execution_count": 117,
   "id": "3bb8b143-c2e1-4531-bb46-4d2dc6c94f35",
   "metadata": {},
   "outputs": [],
   "source": [
    "# repreyectar a WGS84\n",
    "poligonos_intersect = poligonos_intersect.to_crs(epsg=4326)\n",
    "# convertir poligonos a multipoligonos\n",
    "poligonos_intersect['geometry'] = poligonos_intersect['geometry'].apply(convertir_a_multipolygon)"
   ]
  },
  {
   "cell_type": "code",
   "execution_count": 118,
   "id": "2d282a8f-fc27-4967-88c9-e41de31ef6de",
   "metadata": {},
   "outputs": [
    {
     "data": {
      "text/html": [
       "<div>\n",
       "<style scoped>\n",
       "    .dataframe tbody tr th:only-of-type {\n",
       "        vertical-align: middle;\n",
       "    }\n",
       "\n",
       "    .dataframe tbody tr th {\n",
       "        vertical-align: top;\n",
       "    }\n",
       "\n",
       "    .dataframe thead th {\n",
       "        text-align: right;\n",
       "    }\n",
       "</style>\n",
       "<table border=\"1\" class=\"dataframe\">\n",
       "  <thead>\n",
       "    <tr style=\"text-align: right;\">\n",
       "      <th></th>\n",
       "      <th>sem_reg</th>\n",
       "      <th>unidad_01</th>\n",
       "      <th>unidad_02</th>\n",
       "      <th>unidad_03</th>\n",
       "      <th>unidad_04</th>\n",
       "      <th>unidad_05</th>\n",
       "      <th>area</th>\n",
       "      <th>fecha_ini</th>\n",
       "      <th>origen</th>\n",
       "      <th>dias</th>\n",
       "      <th>geometry</th>\n",
       "      <th>sem_plan</th>\n",
       "    </tr>\n",
       "  </thead>\n",
       "  <tbody>\n",
       "    <tr>\n",
       "      <th>13</th>\n",
       "      <td>19</td>\n",
       "      <td>63</td>\n",
       "      <td>SAN MARIANITO--CRONEMBOLD AGUILERA</td>\n",
       "      <td>2641</td>\n",
       "      <td>CRONENBOLD AGUILERA ROBERTO</td>\n",
       "      <td>L51</td>\n",
       "      <td>9.68</td>\n",
       "      <td>2024-03-22</td>\n",
       "      <td>SIEMBRA 2024</td>\n",
       "      <td>75</td>\n",
       "      <td>MULTIPOLYGON (((-63.17445 -17.38218, -63.17263...</td>\n",
       "      <td>23</td>\n",
       "    </tr>\n",
       "    <tr>\n",
       "      <th>14</th>\n",
       "      <td>19</td>\n",
       "      <td>63</td>\n",
       "      <td>SAN MARIANITO--CRONEMBOLD AGUILERA</td>\n",
       "      <td>2641</td>\n",
       "      <td>CRONENBOLD AGUILERA ROBERTO</td>\n",
       "      <td>L30.1</td>\n",
       "      <td>8.38</td>\n",
       "      <td>2024-03-13</td>\n",
       "      <td>SIEMBRA 2024</td>\n",
       "      <td>84</td>\n",
       "      <td>MULTIPOLYGON (((-63.18248 -17.37597, -63.18285...</td>\n",
       "      <td>23</td>\n",
       "    </tr>\n",
       "    <tr>\n",
       "      <th>15</th>\n",
       "      <td>19</td>\n",
       "      <td>63</td>\n",
       "      <td>SAN MARIANITO--CRONEMBOLD AGUILERA</td>\n",
       "      <td>2641</td>\n",
       "      <td>CRONENBOLD AGUILERA ROBERTO</td>\n",
       "      <td>L1</td>\n",
       "      <td>12.76</td>\n",
       "      <td>2024-03-17</td>\n",
       "      <td>SIEMBRA 2024</td>\n",
       "      <td>80</td>\n",
       "      <td>MULTIPOLYGON (((-63.19376 -17.37416, -63.19383...</td>\n",
       "      <td>23</td>\n",
       "    </tr>\n",
       "    <tr>\n",
       "      <th>17</th>\n",
       "      <td>19</td>\n",
       "      <td>2013</td>\n",
       "      <td>LA ASUNTA--CRONEMBOLD</td>\n",
       "      <td>2641</td>\n",
       "      <td>CRONENBOLD AGUILERA ROBERTO</td>\n",
       "      <td>L6</td>\n",
       "      <td>9.41</td>\n",
       "      <td>2024-04-10</td>\n",
       "      <td>SIEMBRA 2024</td>\n",
       "      <td>56</td>\n",
       "      <td>MULTIPOLYGON (((-63.26050 -17.24151, -63.25839...</td>\n",
       "      <td>23</td>\n",
       "    </tr>\n",
       "    <tr>\n",
       "      <th>18</th>\n",
       "      <td>19</td>\n",
       "      <td>2013</td>\n",
       "      <td>LA ASUNTA--CRONEMBOLD</td>\n",
       "      <td>2641</td>\n",
       "      <td>CRONENBOLD AGUILERA ROBERTO</td>\n",
       "      <td>L7</td>\n",
       "      <td>4.96</td>\n",
       "      <td>2024-04-10</td>\n",
       "      <td>SIEMBRA 2024</td>\n",
       "      <td>56</td>\n",
       "      <td>MULTIPOLYGON (((-63.26305 -17.24143, -63.26204...</td>\n",
       "      <td>23</td>\n",
       "    </tr>\n",
       "    <tr>\n",
       "      <th>21</th>\n",
       "      <td>19</td>\n",
       "      <td>2013</td>\n",
       "      <td>LA ASUNTA--CRONEMBOLD</td>\n",
       "      <td>2641</td>\n",
       "      <td>CRONENBOLD AGUILERA ROBERTO</td>\n",
       "      <td>L4</td>\n",
       "      <td>1.30</td>\n",
       "      <td>2024-04-10</td>\n",
       "      <td>SIEMBRA 2024</td>\n",
       "      <td>56</td>\n",
       "      <td>MULTIPOLYGON (((-63.25155 -17.24459, -63.25118...</td>\n",
       "      <td>23</td>\n",
       "    </tr>\n",
       "    <tr>\n",
       "      <th>22</th>\n",
       "      <td>19</td>\n",
       "      <td>558</td>\n",
       "      <td>NARANJAL--MARTA S. AGUILERA</td>\n",
       "      <td>2641</td>\n",
       "      <td>CRONENBOLD AGUILERA ROBERTO</td>\n",
       "      <td>L7</td>\n",
       "      <td>6.32</td>\n",
       "      <td>2024-04-10</td>\n",
       "      <td>SIEMBRA 2024</td>\n",
       "      <td>56</td>\n",
       "      <td>MULTIPOLYGON (((-63.19618 -17.39724, -63.19538...</td>\n",
       "      <td>23</td>\n",
       "    </tr>\n",
       "    <tr>\n",
       "      <th>26</th>\n",
       "      <td>20</td>\n",
       "      <td>183</td>\n",
       "      <td>EL IMPERIO--TUFIÑO</td>\n",
       "      <td>13763</td>\n",
       "      <td>TUFINO SCHWENK RUBEN DARIO</td>\n",
       "      <td>L2.2</td>\n",
       "      <td>8.55</td>\n",
       "      <td>2024-04-08</td>\n",
       "      <td>SIEMBRA 2024</td>\n",
       "      <td>58</td>\n",
       "      <td>MULTIPOLYGON (((-63.34186 -17.31858, -63.34192...</td>\n",
       "      <td>23</td>\n",
       "    </tr>\n",
       "  </tbody>\n",
       "</table>\n",
       "</div>"
      ],
      "text/plain": [
       "   sem_reg unidad_01                           unidad_02 unidad_03  \\\n",
       "13      19        63  SAN MARIANITO--CRONEMBOLD AGUILERA      2641   \n",
       "14      19        63  SAN MARIANITO--CRONEMBOLD AGUILERA      2641   \n",
       "15      19        63  SAN MARIANITO--CRONEMBOLD AGUILERA      2641   \n",
       "17      19      2013               LA ASUNTA--CRONEMBOLD      2641   \n",
       "18      19      2013               LA ASUNTA--CRONEMBOLD      2641   \n",
       "21      19      2013               LA ASUNTA--CRONEMBOLD      2641   \n",
       "22      19       558         NARANJAL--MARTA S. AGUILERA      2641   \n",
       "26      20       183                  EL IMPERIO--TUFIÑO     13763   \n",
       "\n",
       "                      unidad_04 unidad_05   area   fecha_ini        origen  \\\n",
       "13  CRONENBOLD AGUILERA ROBERTO       L51   9.68  2024-03-22  SIEMBRA 2024   \n",
       "14  CRONENBOLD AGUILERA ROBERTO     L30.1   8.38  2024-03-13  SIEMBRA 2024   \n",
       "15  CRONENBOLD AGUILERA ROBERTO        L1  12.76  2024-03-17  SIEMBRA 2024   \n",
       "17  CRONENBOLD AGUILERA ROBERTO        L6   9.41  2024-04-10  SIEMBRA 2024   \n",
       "18  CRONENBOLD AGUILERA ROBERTO        L7   4.96  2024-04-10  SIEMBRA 2024   \n",
       "21  CRONENBOLD AGUILERA ROBERTO        L4   1.30  2024-04-10  SIEMBRA 2024   \n",
       "22  CRONENBOLD AGUILERA ROBERTO        L7   6.32  2024-04-10  SIEMBRA 2024   \n",
       "26   TUFINO SCHWENK RUBEN DARIO      L2.2   8.55  2024-04-08  SIEMBRA 2024   \n",
       "\n",
       "   dias                                           geometry  sem_plan  \n",
       "13   75  MULTIPOLYGON (((-63.17445 -17.38218, -63.17263...        23  \n",
       "14   84  MULTIPOLYGON (((-63.18248 -17.37597, -63.18285...        23  \n",
       "15   80  MULTIPOLYGON (((-63.19376 -17.37416, -63.19383...        23  \n",
       "17   56  MULTIPOLYGON (((-63.26050 -17.24151, -63.25839...        23  \n",
       "18   56  MULTIPOLYGON (((-63.26305 -17.24143, -63.26204...        23  \n",
       "21   56  MULTIPOLYGON (((-63.25155 -17.24459, -63.25118...        23  \n",
       "22   56  MULTIPOLYGON (((-63.19618 -17.39724, -63.19538...        23  \n",
       "26   58  MULTIPOLYGON (((-63.34186 -17.31858, -63.34192...        23  "
      ]
     },
     "execution_count": 118,
     "metadata": {},
     "output_type": "execute_result"
    }
   ],
   "source": [
    "poligonos_intersect"
   ]
  },
  {
   "cell_type": "code",
   "execution_count": 119,
   "id": "c51086e2-3f84-4f06-8504-ecd00c850844",
   "metadata": {},
   "outputs": [],
   "source": [
    "# recorrer el gdf de lotes y cargarlo a amigocloud\n",
    "id_proyecto = f'https://app.amigocloud.com/api/v1/projects/33457/sql'\n",
    "for index, row in poligonos_intersect.iterrows():\n",
    "    wkb_hex = convertir_a_wkb(row['geometry'])\n",
    "    insert_sql = f\"\"\"\n",
    "    INSERT INTO dataset_345601 (sem_reg, unidad_01, unidad_02, unidad_03, unidad_04, unidad_05, area, fecha_ini, origen, dias, sem_plan, geometry)\n",
    "    VALUES ({row['sem_reg']}, {row['unidad_01']}, '{row['unidad_02']}', {row['unidad_03']}, '{row['unidad_04']}', '{row['unidad_05']}', {row['area']}, '{row['fecha_ini']}', '{row['origen']}', '{row['dias']}', '{row['sem_plan']}', ST_SetSRID(ST_GeomFromWKB('\\\\x{wkb_hex}'), 4326));\n",
    "    \"\"\"\n",
    "    query_sql = {'query': insert_sql}\n",
    "    resultado_post = amigocloud.post(id_proyecto, query_sql)"
   ]
  },
  {
   "cell_type": "code",
   "execution_count": null,
   "id": "345eaa4a-b9c7-403b-9b04-64fd018b4191",
   "metadata": {},
   "outputs": [],
   "source": []
  },
  {
   "cell_type": "markdown",
   "id": "16e8c566-2f71-4a12-a194-564c47acf886",
   "metadata": {},
   "source": [
    "# CREAR XLSX"
   ]
  },
  {
   "cell_type": "code",
   "execution_count": 120,
   "id": "c7f69162-b9bc-4552-899d-d06a5348cf94",
   "metadata": {},
   "outputs": [
    {
     "data": {
      "text/plain": [
       "'G:/Ingenio Azucarero Guabira S.A/UTEA - SEMANAL - EQUIPO AVIACION UTEA/Trichogramma/2024/XLSX_PLAN/S23.xlsx'"
      ]
     },
     "execution_count": 120,
     "metadata": {},
     "output_type": "execute_result"
    }
   ],
   "source": [
    "path_plan_XLSX = f\"G:/Ingenio Azucarero Guabira S.A/UTEA - SEMANAL - EQUIPO AVIACION UTEA/Trichogramma/2024/XLSX_PLAN/S{semana}.xlsx\"\n",
    "path_plan_XLSX"
   ]
  },
  {
   "cell_type": "code",
   "execution_count": 123,
   "id": "5bee4a92-4b56-403f-bfe9-eb4d23277f01",
   "metadata": {},
   "outputs": [
    {
     "data": {
      "text/plain": [
       "Index(['sem_reg', 'unidad_01', 'unidad_02', 'unidad_03', 'unidad_04',\n",
       "       'unidad_05', 'area', 'fecha_ini', 'origen', 'dias', 'geometry',\n",
       "       'sem_plan'],\n",
       "      dtype='object')"
      ]
     },
     "execution_count": 123,
     "metadata": {},
     "output_type": "execute_result"
    }
   ],
   "source": [
    "poligonos_intersect.columns"
   ]
  },
  {
   "cell_type": "code",
   "execution_count": 128,
   "id": "171f6013-4e3b-49c9-b24e-82d11c1a2065",
   "metadata": {},
   "outputs": [],
   "source": [
    "df_xlsx = poligonos_intersect[['sem_reg', 'unidad_01', 'unidad_02', 'unidad_03', 'unidad_04', 'unidad_05', 'area', 'fecha_ini', 'origen', 'dias', 'sem_plan']]"
   ]
  },
  {
   "cell_type": "code",
   "execution_count": 129,
   "id": "657fc34d-713b-46b2-9659-f54c9f53083a",
   "metadata": {},
   "outputs": [],
   "source": [
    "df_xlsx.to_excel(path_plan_XLSX, index=False, engine='openpyxl')"
   ]
  },
  {
   "cell_type": "code",
   "execution_count": null,
   "id": "2a51c637-8caf-4cec-b182-50b3526ed6ad",
   "metadata": {},
   "outputs": [],
   "source": []
  },
  {
   "cell_type": "code",
   "execution_count": null,
   "id": "3d36e236-6425-48ec-b6fd-660a57119ba3",
   "metadata": {},
   "outputs": [],
   "source": []
  }
 ],
 "metadata": {
  "kernelspec": {
   "display_name": "Python 3 (ipykernel)",
   "language": "python",
   "name": "python3"
  },
  "language_info": {
   "codemirror_mode": {
    "name": "ipython",
    "version": 3
   },
   "file_extension": ".py",
   "mimetype": "text/x-python",
   "name": "python",
   "nbconvert_exporter": "python",
   "pygments_lexer": "ipython3",
   "version": "3.10.13"
  }
 },
 "nbformat": 4,
 "nbformat_minor": 5
}
