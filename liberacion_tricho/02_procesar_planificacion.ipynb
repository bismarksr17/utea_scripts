{
 "cells": [
  {
   "cell_type": "code",
   "execution_count": 7,
   "id": "4ca1910b-5695-4103-b096-022ec8e159e0",
   "metadata": {},
   "outputs": [],
   "source": [
    "import sys\n",
    "sys.path.append('../_amigocloud')"
   ]
  },
  {
   "cell_type": "code",
   "execution_count": 8,
   "id": "3d26f64e-c1fb-424d-bb27-d4ab069c2eed",
   "metadata": {},
   "outputs": [],
   "source": [
    "from amigocloud import AmigoCloud\n",
    "import pandas as pd\n",
    "from shapely import wkb\n",
    "\n",
    "import geopandas as gpd\n",
    "from shapely.geometry import Point, Polygon, MultiPolygon\n",
    "#from shapely.geometry import Point, MultiPoint"
   ]
  },
  {
   "cell_type": "code",
   "execution_count": 9,
   "id": "f4b891e6-01fb-42b9-adae-2b0ca346522f",
   "metadata": {},
   "outputs": [],
   "source": [
    "# ruta de carpera donde estan las llaves\n",
    "ruta = open('../ruta.txt')\n",
    "ruta = ruta.readlines()[0]"
   ]
  },
  {
   "cell_type": "code",
   "execution_count": 10,
   "id": "d102d776-8a85-4ab2-bd4f-e915ae3d48b3",
   "metadata": {},
   "outputs": [
    {
     "data": {
      "text/plain": [
       "<amigocloud.AmigoCloud at 0x1fe4f6c4940>"
      ]
     },
     "execution_count": 10,
     "metadata": {},
     "output_type": "execute_result"
    }
   ],
   "source": [
    "# leer token\n",
    "acceso = open(ruta + '/_keys/api_amigocloud.key','r')\n",
    "api_token = acceso.readlines()[0]\n",
    "acceso.close()\n",
    "amigocloud = AmigoCloud(token=api_token)\n",
    "amigocloud"
   ]
  },
  {
   "cell_type": "markdown",
   "id": "f90b0afe-f0a8-465a-bfbc-08fb3ecc23a4",
   "metadata": {},
   "source": [
    "# ACTUALIZAR SHP PLANIFICACION"
   ]
  },
  {
   "cell_type": "code",
   "execution_count": 84,
   "id": "6bf20ad6-1bc8-4322-998d-26544569d06c",
   "metadata": {},
   "outputs": [],
   "source": [
    "semana = 1"
   ]
  },
  {
   "cell_type": "code",
   "execution_count": 85,
   "id": "91fc3e36-811a-48ce-99fe-82af7ba3e137",
   "metadata": {},
   "outputs": [],
   "source": [
    "# leer los dos shps de siembra y puntos de planificacion\n",
    "path_siembras = r'G:\\Ingenio Azucarero Guabira S.A\\UTEA - SEMANAL - EQUIPO AVIACION UTEA\\Trichogramma\\2024\\SHP\\SIEMBRAS.shp'\n",
    "path_cat = r'G:\\Ingenio Azucarero Guabira S.A\\UTEA - SEMANAL - EQUIPO AVIACION UTEA\\Trichogramma\\2024\\SHP\\catastro140624.shp'\n",
    "path_puntos = r'G:\\Ingenio Azucarero Guabira S.A\\UTEA - SEMANAL - EQUIPO AVIACION UTEA\\Trichogramma\\2024\\SHP\\PUNTOS_PLAN.shp'\n",
    "\n",
    "gdf_siembras = gpd.read_file(path_siembras)\n",
    "gdf_puntos = gpd.read_file(path_puntos)\n",
    "gdf_cat = gpd.read_file(path_cat)"
   ]
  },
  {
   "cell_type": "code",
   "execution_count": 86,
   "id": "d04b5587-65f1-4876-adcf-4118f79fff2a",
   "metadata": {},
   "outputs": [
    {
     "name": "stdout",
     "output_type": "stream",
     "text": [
      "Ambas capas tienen el mismo CRS\n"
     ]
    }
   ],
   "source": [
    "# verifica si ambos shps tienen el mismo CRS\n",
    "if gdf_siembras.crs == gdf_puntos.crs:\n",
    "    print('Ambas capas tienen el mismo CRS')\n",
    "else:\n",
    "    print('No tienen el mismo CRS')"
   ]
  },
  {
   "cell_type": "code",
   "execution_count": 87,
   "id": "2633de73-5e3b-44c1-82c5-d27365f3f8e3",
   "metadata": {},
   "outputs": [
    {
     "data": {
      "text/plain": [
       "<Axes: >"
      ]
     },
     "execution_count": 87,
     "metadata": {},
     "output_type": "execute_result"
    },
    {
     "data": {
      "image/png": "[encoded data removed]",
      "text/plain": [
       "<Figure size 640x480 with 1 Axes>"
      ]
     },
     "metadata": {},
     "output_type": "display_data"
    }
   ],
   "source": [
    "# filtrar la semna de interes\n",
    "gdf_puntos_sem = gdf_puntos[gdf_puntos['os'] == semana]\n",
    "gdf_puntos_sem.plot()"
   ]
  },
  {
   "cell_type": "code",
   "execution_count": 88,
   "id": "2dedbe7b-38b1-41d9-a36a-2987e6c3e177",
   "metadata": {},
   "outputs": [
    {
     "data": {
      "text/html": [
       "<div>\n",
       "<style scoped>\n",
       "    .dataframe tbody tr th:only-of-type {\n",
       "        vertical-align: middle;\n",
       "    }\n",
       "\n",
       "    .dataframe tbody tr th {\n",
       "        vertical-align: top;\n",
       "    }\n",
       "\n",
       "    .dataframe thead th {\n",
       "        text-align: right;\n",
       "    }\n",
       "</style>\n",
       "<table border=\"1\" class=\"dataframe\">\n",
       "  <thead>\n",
       "    <tr style=\"text-align: right;\">\n",
       "      <th></th>\n",
       "      <th>unidad_03</th>\n",
       "      <th>unidad_04</th>\n",
       "      <th>os</th>\n",
       "      <th>geometry</th>\n",
       "    </tr>\n",
       "  </thead>\n",
       "  <tbody>\n",
       "    <tr>\n",
       "      <th>0</th>\n",
       "      <td>388</td>\n",
       "      <td>AGROPECUARIA MARIANA S.R.L.</td>\n",
       "      <td>1</td>\n",
       "      <td>MULTIPOINT (484106.204 8093315.544, 484336.392...</td>\n",
       "    </tr>\n",
       "    <tr>\n",
       "      <th>1</th>\n",
       "      <td>454</td>\n",
       "      <td>AYALA ESPINOSA LEOPOLDO</td>\n",
       "      <td>1</td>\n",
       "      <td>MULTIPOINT (482005.011 8089351.394, 482011.626...</td>\n",
       "    </tr>\n",
       "  </tbody>\n",
       "</table>\n",
       "</div>"
      ],
      "text/plain": [
       "   unidad_03                    unidad_04  os  \\\n",
       "0        388  AGROPECUARIA MARIANA S.R.L.   1   \n",
       "1        454      AYALA ESPINOSA LEOPOLDO   1   \n",
       "\n",
       "                                            geometry  \n",
       "0  MULTIPOINT (484106.204 8093315.544, 484336.392...  \n",
       "1  MULTIPOINT (482005.011 8089351.394, 482011.626...  "
      ]
     },
     "execution_count": 88,
     "metadata": {},
     "output_type": "execute_result"
    }
   ],
   "source": [
    "gdf_puntos_sem"
   ]
  },
  {
   "cell_type": "code",
   "execution_count": 91,
   "id": "b7cf46a1-a58f-460e-b31b-9bee66eed1ef",
   "metadata": {},
   "outputs": [],
   "source": [
    "path_puntos = r'G:\\Ingenio Azucarero Guabira S.A\\UTEA - SEMANAL - EQUIPO AVIACION UTEA\\Trichogramma\\2024\\SHP\\PUNTOS_PLAN.shp'\n",
    "multipoint_gdf = gpd.read_file(path_puntos)"
   ]
  },
  {
   "cell_type": "code",
   "execution_count": 92,
   "id": "eab2d142-5f9c-45f0-b147-0b3baaccaf74",
   "metadata": {},
   "outputs": [],
   "source": [
    "# Crear una lista para almacenar los nuevos registros de puntos individuales\n",
    "point_records = []\n",
    "# Iterar sobre cada registro en el GeoDataFrame original\n",
    "for idx, row in multipoint_gdf.iterrows():\n",
    "    multipoint_geom = row.geometry\n",
    "    # Verificar si la geometría es de tipo multipunto\n",
    "    if isinstance(multipoint_geom, MultiPoint):\n",
    "        for point in multipoint_geom.geoms:\n",
    "            # Crear un nuevo registro para cada punto individual\n",
    "            new_record = row.copy()\n",
    "            new_record.geometry = point\n",
    "            point_records.append(new_record)\n",
    "    else:\n",
    "        # Si la geometría ya es un punto, simplemente añadir el registro original\n",
    "        point_records.append(row)\n",
    "\n",
    "# Crear un nuevo GeoDataFrame con los registros de puntos individuales\n",
    "puntos_indi = gpd.GeoDataFrame(point_records, crs=multipoint_gdf.crs)"
   ]
  },
  {
   "cell_type": "code",
   "execution_count": 93,
   "id": "8f7e34d2-349d-410c-8e82-1c1b350838ef",
   "metadata": {},
   "outputs": [
    {
     "data": {
      "text/html": [
       "<div>\n",
       "<style scoped>\n",
       "    .dataframe tbody tr th:only-of-type {\n",
       "        vertical-align: middle;\n",
       "    }\n",
       "\n",
       "    .dataframe tbody tr th {\n",
       "        vertical-align: top;\n",
       "    }\n",
       "\n",
       "    .dataframe thead th {\n",
       "        text-align: right;\n",
       "    }\n",
       "</style>\n",
       "<table border=\"1\" class=\"dataframe\">\n",
       "  <thead>\n",
       "    <tr style=\"text-align: right;\">\n",
       "      <th></th>\n",
       "      <th>unidad_03</th>\n",
       "      <th>unidad_04</th>\n",
       "      <th>os</th>\n",
       "      <th>geometry</th>\n",
       "    </tr>\n",
       "  </thead>\n",
       "  <tbody>\n",
       "    <tr>\n",
       "      <th>0</th>\n",
       "      <td>388</td>\n",
       "      <td>AGROPECUARIA MARIANA S.R.L.</td>\n",
       "      <td>1</td>\n",
       "      <td>POINT (484106.204 8093315.544)</td>\n",
       "    </tr>\n",
       "    <tr>\n",
       "      <th>0</th>\n",
       "      <td>388</td>\n",
       "      <td>AGROPECUARIA MARIANA S.R.L.</td>\n",
       "      <td>1</td>\n",
       "      <td>POINT (484336.392 8092168.573)</td>\n",
       "    </tr>\n",
       "    <tr>\n",
       "      <th>0</th>\n",
       "      <td>388</td>\n",
       "      <td>AGROPECUARIA MARIANA S.R.L.</td>\n",
       "      <td>1</td>\n",
       "      <td>POINT (484554.674 8093180.606)</td>\n",
       "    </tr>\n",
       "    <tr>\n",
       "      <th>0</th>\n",
       "      <td>388</td>\n",
       "      <td>AGROPECUARIA MARIANA S.R.L.</td>\n",
       "      <td>1</td>\n",
       "      <td>POINT (484645.955 8092815.480)</td>\n",
       "    </tr>\n",
       "    <tr>\n",
       "      <th>0</th>\n",
       "      <td>388</td>\n",
       "      <td>AGROPECUARIA MARIANA S.R.L.</td>\n",
       "      <td>1</td>\n",
       "      <td>POINT (485022.987 8093259.981)</td>\n",
       "    </tr>\n",
       "    <tr>\n",
       "      <th>0</th>\n",
       "      <td>388</td>\n",
       "      <td>AGROPECUARIA MARIANA S.R.L.</td>\n",
       "      <td>1</td>\n",
       "      <td>POINT (485185.706 8092839.293)</td>\n",
       "    </tr>\n",
       "    <tr>\n",
       "      <th>1</th>\n",
       "      <td>454</td>\n",
       "      <td>AYALA ESPINOSA LEOPOLDO</td>\n",
       "      <td>1</td>\n",
       "      <td>POINT (482005.011 8089351.394)</td>\n",
       "    </tr>\n",
       "    <tr>\n",
       "      <th>1</th>\n",
       "      <td>454</td>\n",
       "      <td>AYALA ESPINOSA LEOPOLDO</td>\n",
       "      <td>1</td>\n",
       "      <td>POINT (482011.626 8088924.753)</td>\n",
       "    </tr>\n",
       "    <tr>\n",
       "      <th>1</th>\n",
       "      <td>454</td>\n",
       "      <td>AYALA ESPINOSA LEOPOLDO</td>\n",
       "      <td>1</td>\n",
       "      <td>POINT (482077.772 8089725.119)</td>\n",
       "    </tr>\n",
       "    <tr>\n",
       "      <th>1</th>\n",
       "      <td>454</td>\n",
       "      <td>AYALA ESPINOSA LEOPOLDO</td>\n",
       "      <td>1</td>\n",
       "      <td>POINT (482216.678 8089993.010)</td>\n",
       "    </tr>\n",
       "  </tbody>\n",
       "</table>\n",
       "</div>"
      ],
      "text/plain": [
       "   unidad_03                    unidad_04  os                        geometry\n",
       "0        388  AGROPECUARIA MARIANA S.R.L.   1  POINT (484106.204 8093315.544)\n",
       "0        388  AGROPECUARIA MARIANA S.R.L.   1  POINT (484336.392 8092168.573)\n",
       "0        388  AGROPECUARIA MARIANA S.R.L.   1  POINT (484554.674 8093180.606)\n",
       "0        388  AGROPECUARIA MARIANA S.R.L.   1  POINT (484645.955 8092815.480)\n",
       "0        388  AGROPECUARIA MARIANA S.R.L.   1  POINT (485022.987 8093259.981)\n",
       "0        388  AGROPECUARIA MARIANA S.R.L.   1  POINT (485185.706 8092839.293)\n",
       "1        454      AYALA ESPINOSA LEOPOLDO   1  POINT (482005.011 8089351.394)\n",
       "1        454      AYALA ESPINOSA LEOPOLDO   1  POINT (482011.626 8088924.753)\n",
       "1        454      AYALA ESPINOSA LEOPOLDO   1  POINT (482077.772 8089725.119)\n",
       "1        454      AYALA ESPINOSA LEOPOLDO   1  POINT (482216.678 8089993.010)"
      ]
     },
     "execution_count": 93,
     "metadata": {},
     "output_type": "execute_result"
    }
   ],
   "source": [
    "# puntos individuales\n",
    "puntos_indi"
   ]
  },
  {
   "cell_type": "code",
   "execution_count": 94,
   "id": "af1f6e6a-7635-44ff-a812-a662c6b18c18",
   "metadata": {},
   "outputs": [
    {
     "data": {
      "text/plain": [
       "<Axes: >"
      ]
     },
     "execution_count": 94,
     "metadata": {},
     "output_type": "execute_result"
    },
    {
     "data": {
      "image/png": "[encoded data removed]",
      "text/plain": [
       "<Figure size 640x480 with 1 Axes>"
      ]
     },
     "metadata": {},
     "output_type": "display_data"
    }
   ],
   "source": [
    "puntos_indi.plot()"
   ]
  },
  {
   "cell_type": "code",
   "execution_count": null,
   "id": "2a4f8872-a8b5-4836-a699-923e93523e5c",
   "metadata": {},
   "outputs": [],
   "source": []
  },
  {
   "cell_type": "code",
   "execution_count": 95,
   "id": "85954895-c07c-4ea5-8900-f4b556e8f4ee",
   "metadata": {},
   "outputs": [
    {
     "name": "stdout",
     "output_type": "stream",
     "text": [
      "Los CRS si son iguales\n"
     ]
    }
   ],
   "source": [
    "# Asegurarse de que ambos GeoDataFrames tienen el mismo sistema de coordenadas (CRS)\n",
    "if puntos_indi.crs != gdf_siembras.crs:\n",
    "    print('Los CRS no son iguales')\n",
    "    #gdf_siembras = gdf_siembras.to_crs(puntos_indi.crs)\n",
    "else:\n",
    "    print('Los CRS si son iguales')"
   ]
  },
  {
   "cell_type": "code",
   "execution_count": null,
   "id": "98d53ea8-c591-4c9a-8b1f-4d801120a068",
   "metadata": {},
   "outputs": [],
   "source": []
  },
  {
   "cell_type": "code",
   "execution_count": 96,
   "id": "ff2de9e6-686c-45af-8347-594fa5e20091",
   "metadata": {},
   "outputs": [],
   "source": [
    "# Crear un GeoDataFrame vacío para almacenar los puntos que no intersectan con ningún polígono\n",
    "puntos_indi_solicitado = puntos_indi[~puntos_indi.geometry.apply(lambda point: any(gdf_siembras.contains(point)))]"
   ]
  },
  {
   "cell_type": "code",
   "execution_count": 102,
   "id": "9ced58e3-910e-491b-b294-8fa17fac0693",
   "metadata": {},
   "outputs": [
    {
     "data": {
      "text/html": [
       "<div>\n",
       "<style scoped>\n",
       "    .dataframe tbody tr th:only-of-type {\n",
       "        vertical-align: middle;\n",
       "    }\n",
       "\n",
       "    .dataframe tbody tr th {\n",
       "        vertical-align: top;\n",
       "    }\n",
       "\n",
       "    .dataframe thead th {\n",
       "        text-align: right;\n",
       "    }\n",
       "</style>\n",
       "<table border=\"1\" class=\"dataframe\">\n",
       "  <thead>\n",
       "    <tr style=\"text-align: right;\">\n",
       "      <th></th>\n",
       "      <th>unidad_03</th>\n",
       "      <th>unidad_04</th>\n",
       "      <th>os</th>\n",
       "      <th>geometry</th>\n",
       "    </tr>\n",
       "  </thead>\n",
       "  <tbody>\n",
       "    <tr>\n",
       "      <th>0</th>\n",
       "      <td>388</td>\n",
       "      <td>AGROPECUARIA MARIANA S.R.L.</td>\n",
       "      <td>1</td>\n",
       "      <td>POINT (484106.204 8093315.544)</td>\n",
       "    </tr>\n",
       "    <tr>\n",
       "      <th>0</th>\n",
       "      <td>388</td>\n",
       "      <td>AGROPECUARIA MARIANA S.R.L.</td>\n",
       "      <td>1</td>\n",
       "      <td>POINT (484645.955 8092815.480)</td>\n",
       "    </tr>\n",
       "    <tr>\n",
       "      <th>0</th>\n",
       "      <td>388</td>\n",
       "      <td>AGROPECUARIA MARIANA S.R.L.</td>\n",
       "      <td>1</td>\n",
       "      <td>POINT (485022.987 8093259.981)</td>\n",
       "    </tr>\n",
       "    <tr>\n",
       "      <th>1</th>\n",
       "      <td>454</td>\n",
       "      <td>AYALA ESPINOSA LEOPOLDO</td>\n",
       "      <td>1</td>\n",
       "      <td>POINT (482011.626 8088924.753)</td>\n",
       "    </tr>\n",
       "    <tr>\n",
       "      <th>1</th>\n",
       "      <td>454</td>\n",
       "      <td>AYALA ESPINOSA LEOPOLDO</td>\n",
       "      <td>1</td>\n",
       "      <td>POINT (482216.678 8089993.010)</td>\n",
       "    </tr>\n",
       "  </tbody>\n",
       "</table>\n",
       "</div>"
      ],
      "text/plain": [
       "   unidad_03                    unidad_04  os                        geometry\n",
       "0        388  AGROPECUARIA MARIANA S.R.L.   1  POINT (484106.204 8093315.544)\n",
       "0        388  AGROPECUARIA MARIANA S.R.L.   1  POINT (484645.955 8092815.480)\n",
       "0        388  AGROPECUARIA MARIANA S.R.L.   1  POINT (485022.987 8093259.981)\n",
       "1        454      AYALA ESPINOSA LEOPOLDO   1  POINT (482011.626 8088924.753)\n",
       "1        454      AYALA ESPINOSA LEOPOLDO   1  POINT (482216.678 8089993.010)"
      ]
     },
     "execution_count": 102,
     "metadata": {},
     "output_type": "execute_result"
    }
   ],
   "source": [
    "puntos_indi_solicitado"
   ]
  },
  {
   "cell_type": "code",
   "execution_count": 98,
   "id": "b27362b1-1f64-42e8-be89-b38e114fca78",
   "metadata": {},
   "outputs": [],
   "source": [
    "# identifoca los lotes que se intersectan\n",
    "gdf_lotes_cat = gpd.sjoin(gdf_cat, puntos_indi_solicitado, how='inner', predicate='intersects')"
   ]
  },
  {
   "cell_type": "code",
   "execution_count": 99,
   "id": "f7bbf035-99e4-4d74-832b-746b096ef0dc",
   "metadata": {},
   "outputs": [],
   "source": [
    "# filtra los lotes intersectados en la capa original\n",
    "poligonos_intersect_cat = gdf_cat.loc[gdf_cat.index.isin(gdf_lotes_cat.index)]"
   ]
  },
  {
   "cell_type": "code",
   "execution_count": 100,
   "id": "565bae02-3949-4e73-baaa-025e1af9a33a",
   "metadata": {},
   "outputs": [],
   "source": [
    "# copy\n",
    "poligonos_intersect_cat = poligonos_intersect_cat.copy()"
   ]
  },
  {
   "cell_type": "code",
   "execution_count": 103,
   "id": "1d0dde90-1af3-4b53-b9ca-02c9341bc1b6",
   "metadata": {},
   "outputs": [],
   "source": [
    "poligonos_intersect_cat = poligonos_intersect_cat[['unidad_01', 'unidad_02', 'unidad_03', 'unidad_04', 'unidad_05', 'area', 'geometry']]"
   ]
  },
  {
   "cell_type": "code",
   "execution_count": 104,
   "id": "9f826f35-82ee-4070-ba66-069e4d131014",
   "metadata": {},
   "outputs": [
    {
     "data": {
      "text/html": [
       "<div>\n",
       "<style scoped>\n",
       "    .dataframe tbody tr th:only-of-type {\n",
       "        vertical-align: middle;\n",
       "    }\n",
       "\n",
       "    .dataframe tbody tr th {\n",
       "        vertical-align: top;\n",
       "    }\n",
       "\n",
       "    .dataframe thead th {\n",
       "        text-align: right;\n",
       "    }\n",
       "</style>\n",
       "<table border=\"1\" class=\"dataframe\">\n",
       "  <thead>\n",
       "    <tr style=\"text-align: right;\">\n",
       "      <th></th>\n",
       "      <th>unidad_01</th>\n",
       "      <th>unidad_02</th>\n",
       "      <th>unidad_03</th>\n",
       "      <th>unidad_04</th>\n",
       "      <th>unidad_05</th>\n",
       "      <th>area</th>\n",
       "      <th>geometry</th>\n",
       "    </tr>\n",
       "  </thead>\n",
       "  <tbody>\n",
       "    <tr>\n",
       "      <th>3352</th>\n",
       "      <td>19</td>\n",
       "      <td>SANTA BARBARA</td>\n",
       "      <td>388</td>\n",
       "      <td>AGROPECUARIA MARIANA S.R.L.</td>\n",
       "      <td>L9.1</td>\n",
       "      <td>13.37</td>\n",
       "      <td>POLYGON ((484731.467 8093214.090, 484792.432 8...</td>\n",
       "    </tr>\n",
       "    <tr>\n",
       "      <th>6570</th>\n",
       "      <td>19</td>\n",
       "      <td>SANTA BARBARA</td>\n",
       "      <td>18358</td>\n",
       "      <td>ROJAS AMELUNGE CARLOS</td>\n",
       "      <td>L30.3</td>\n",
       "      <td>30.62</td>\n",
       "      <td>POLYGON ((482167.376 8088748.923, 481855.906 8...</td>\n",
       "    </tr>\n",
       "    <tr>\n",
       "      <th>7017</th>\n",
       "      <td>19</td>\n",
       "      <td>SANTA BARBARA</td>\n",
       "      <td>18358</td>\n",
       "      <td>ROJAS AMELUNGE CARLOS</td>\n",
       "      <td>L10.2</td>\n",
       "      <td>10.32</td>\n",
       "      <td>POLYGON ((484672.478 8092564.285, 484524.403 8...</td>\n",
       "    </tr>\n",
       "    <tr>\n",
       "      <th>7946</th>\n",
       "      <td>19</td>\n",
       "      <td>SANTA BARBARA</td>\n",
       "      <td>388</td>\n",
       "      <td>AGROPECUARIA MARIANA S.R.L.</td>\n",
       "      <td>L2</td>\n",
       "      <td>14.00</td>\n",
       "      <td>POLYGON ((483967.015 8093117.035, 483852.026 8...</td>\n",
       "    </tr>\n",
       "    <tr>\n",
       "      <th>9322</th>\n",
       "      <td>19</td>\n",
       "      <td>SANTA BARBARA</td>\n",
       "      <td>388</td>\n",
       "      <td>AGROPECUARIA MARIANA S.R.L.</td>\n",
       "      <td>L28.1</td>\n",
       "      <td>12.73</td>\n",
       "      <td>POLYGON ((482501.881 8089944.349, 482501.881 8...</td>\n",
       "    </tr>\n",
       "  </tbody>\n",
       "</table>\n",
       "</div>"
      ],
      "text/plain": [
       "      unidad_01      unidad_02  unidad_03                    unidad_04  \\\n",
       "3352         19  SANTA BARBARA        388  AGROPECUARIA MARIANA S.R.L.   \n",
       "6570         19  SANTA BARBARA      18358        ROJAS AMELUNGE CARLOS   \n",
       "7017         19  SANTA BARBARA      18358        ROJAS AMELUNGE CARLOS   \n",
       "7946         19  SANTA BARBARA        388  AGROPECUARIA MARIANA S.R.L.   \n",
       "9322         19  SANTA BARBARA        388  AGROPECUARIA MARIANA S.R.L.   \n",
       "\n",
       "     unidad_05   area                                           geometry  \n",
       "3352      L9.1  13.37  POLYGON ((484731.467 8093214.090, 484792.432 8...  \n",
       "6570     L30.3  30.62  POLYGON ((482167.376 8088748.923, 481855.906 8...  \n",
       "7017     L10.2  10.32  POLYGON ((484672.478 8092564.285, 484524.403 8...  \n",
       "7946        L2  14.00  POLYGON ((483967.015 8093117.035, 483852.026 8...  \n",
       "9322     L28.1  12.73  POLYGON ((482501.881 8089944.349, 482501.881 8...  "
      ]
     },
     "execution_count": 104,
     "metadata": {},
     "output_type": "execute_result"
    }
   ],
   "source": [
    "poligonos_intersect_cat"
   ]
  },
  {
   "cell_type": "code",
   "execution_count": 106,
   "id": "6368f2aa-ba1b-4eea-99aa-5ef29c11e684",
   "metadata": {},
   "outputs": [],
   "source": [
    "# CAMBIAR NOMBRE DATOS DE UNIDAD_03 Y UNDIAD_04 DE LOTES SOLICITADOS A LO INDICADO EN LOS PUNTOS\n",
    "# Iterar sobre cada punto y encontrar el polígono que intersecta\n",
    "for idx, point in puntos_indi_solicitado.iterrows():\n",
    "    point_geom = point.geometry\n",
    "    matching_polygons = poligonos_intersect_cat[poligonos_intersect_cat.intersects(point_geom)]\n",
    "    \n",
    "    # Actualizar los campos de los polígonos que intersectan con los valores del punto\n",
    "    for poly_idx in matching_polygons.index:\n",
    "        poligonos_intersect_cat.at[poly_idx, 'unidad_03'] = point['unidad_03']\n",
    "        poligonos_intersect_cat.at[poly_idx, 'unidad_04'] = point['unidad_04']"
   ]
  },
  {
   "cell_type": "code",
   "execution_count": 107,
   "id": "bea9f942-2e35-4d3b-928d-763710fb6c41",
   "metadata": {},
   "outputs": [
    {
     "data": {
      "text/html": [
       "<div>\n",
       "<style scoped>\n",
       "    .dataframe tbody tr th:only-of-type {\n",
       "        vertical-align: middle;\n",
       "    }\n",
       "\n",
       "    .dataframe tbody tr th {\n",
       "        vertical-align: top;\n",
       "    }\n",
       "\n",
       "    .dataframe thead th {\n",
       "        text-align: right;\n",
       "    }\n",
       "</style>\n",
       "<table border=\"1\" class=\"dataframe\">\n",
       "  <thead>\n",
       "    <tr style=\"text-align: right;\">\n",
       "      <th></th>\n",
       "      <th>unidad_01</th>\n",
       "      <th>unidad_02</th>\n",
       "      <th>unidad_03</th>\n",
       "      <th>unidad_04</th>\n",
       "      <th>unidad_05</th>\n",
       "      <th>area</th>\n",
       "      <th>geometry</th>\n",
       "    </tr>\n",
       "  </thead>\n",
       "  <tbody>\n",
       "    <tr>\n",
       "      <th>3352</th>\n",
       "      <td>19</td>\n",
       "      <td>SANTA BARBARA</td>\n",
       "      <td>388</td>\n",
       "      <td>AGROPECUARIA MARIANA S.R.L.</td>\n",
       "      <td>L9.1</td>\n",
       "      <td>13.37</td>\n",
       "      <td>POLYGON ((484731.467 8093214.090, 484792.432 8...</td>\n",
       "    </tr>\n",
       "    <tr>\n",
       "      <th>6570</th>\n",
       "      <td>19</td>\n",
       "      <td>SANTA BARBARA</td>\n",
       "      <td>454</td>\n",
       "      <td>AYALA ESPINOSA LEOPOLDO</td>\n",
       "      <td>L30.3</td>\n",
       "      <td>30.62</td>\n",
       "      <td>POLYGON ((482167.376 8088748.923, 481855.906 8...</td>\n",
       "    </tr>\n",
       "    <tr>\n",
       "      <th>7017</th>\n",
       "      <td>19</td>\n",
       "      <td>SANTA BARBARA</td>\n",
       "      <td>388</td>\n",
       "      <td>AGROPECUARIA MARIANA S.R.L.</td>\n",
       "      <td>L10.2</td>\n",
       "      <td>10.32</td>\n",
       "      <td>POLYGON ((484672.478 8092564.285, 484524.403 8...</td>\n",
       "    </tr>\n",
       "    <tr>\n",
       "      <th>7946</th>\n",
       "      <td>19</td>\n",
       "      <td>SANTA BARBARA</td>\n",
       "      <td>388</td>\n",
       "      <td>AGROPECUARIA MARIANA S.R.L.</td>\n",
       "      <td>L2</td>\n",
       "      <td>14.00</td>\n",
       "      <td>POLYGON ((483967.015 8093117.035, 483852.026 8...</td>\n",
       "    </tr>\n",
       "    <tr>\n",
       "      <th>9322</th>\n",
       "      <td>19</td>\n",
       "      <td>SANTA BARBARA</td>\n",
       "      <td>454</td>\n",
       "      <td>AYALA ESPINOSA LEOPOLDO</td>\n",
       "      <td>L28.1</td>\n",
       "      <td>12.73</td>\n",
       "      <td>POLYGON ((482501.881 8089944.349, 482501.881 8...</td>\n",
       "    </tr>\n",
       "  </tbody>\n",
       "</table>\n",
       "</div>"
      ],
      "text/plain": [
       "      unidad_01      unidad_02  unidad_03                    unidad_04  \\\n",
       "3352         19  SANTA BARBARA        388  AGROPECUARIA MARIANA S.R.L.   \n",
       "6570         19  SANTA BARBARA        454      AYALA ESPINOSA LEOPOLDO   \n",
       "7017         19  SANTA BARBARA        388  AGROPECUARIA MARIANA S.R.L.   \n",
       "7946         19  SANTA BARBARA        388  AGROPECUARIA MARIANA S.R.L.   \n",
       "9322         19  SANTA BARBARA        454      AYALA ESPINOSA LEOPOLDO   \n",
       "\n",
       "     unidad_05   area                                           geometry  \n",
       "3352      L9.1  13.37  POLYGON ((484731.467 8093214.090, 484792.432 8...  \n",
       "6570     L30.3  30.62  POLYGON ((482167.376 8088748.923, 481855.906 8...  \n",
       "7017     L10.2  10.32  POLYGON ((484672.478 8092564.285, 484524.403 8...  \n",
       "7946        L2  14.00  POLYGON ((483967.015 8093117.035, 483852.026 8...  \n",
       "9322     L28.1  12.73  POLYGON ((482501.881 8089944.349, 482501.881 8...  "
      ]
     },
     "execution_count": 107,
     "metadata": {},
     "output_type": "execute_result"
    }
   ],
   "source": [
    "poligonos_intersect_cat"
   ]
  },
  {
   "cell_type": "code",
   "execution_count": 112,
   "id": "16e8e3f8-b979-4342-ab8b-e80b06a43499",
   "metadata": {},
   "outputs": [],
   "source": [
    "poligonos_intersect_cat['sem_reg'] = 0\n",
    "poligonos_intersect_cat['fecha_ini'] = ''\n",
    "poligonos_intersect_cat['origen'] = 'SOLICITUD'\n",
    "poligonos_intersect_cat['dias'] = 0\n",
    "poligonos_intersect_cat['fecha'] = ''\n",
    "poligonos_intersect_cat['sem_plan'] = 0"
   ]
  },
  {
   "cell_type": "code",
   "execution_count": 113,
   "id": "1e74b24e-d6f8-4c0e-85d9-8df0636515d6",
   "metadata": {},
   "outputs": [
    {
     "data": {
      "text/html": [
       "<div>\n",
       "<style scoped>\n",
       "    .dataframe tbody tr th:only-of-type {\n",
       "        vertical-align: middle;\n",
       "    }\n",
       "\n",
       "    .dataframe tbody tr th {\n",
       "        vertical-align: top;\n",
       "    }\n",
       "\n",
       "    .dataframe thead th {\n",
       "        text-align: right;\n",
       "    }\n",
       "</style>\n",
       "<table border=\"1\" class=\"dataframe\">\n",
       "  <thead>\n",
       "    <tr style=\"text-align: right;\">\n",
       "      <th></th>\n",
       "      <th>unidad_01</th>\n",
       "      <th>unidad_02</th>\n",
       "      <th>unidad_03</th>\n",
       "      <th>unidad_04</th>\n",
       "      <th>unidad_05</th>\n",
       "      <th>area</th>\n",
       "      <th>geometry</th>\n",
       "      <th>sem_reg</th>\n",
       "      <th>fecha_ini</th>\n",
       "      <th>origen</th>\n",
       "      <th>dias</th>\n",
       "      <th>fecha</th>\n",
       "      <th>sem_plan</th>\n",
       "    </tr>\n",
       "  </thead>\n",
       "  <tbody>\n",
       "    <tr>\n",
       "      <th>3352</th>\n",
       "      <td>19</td>\n",
       "      <td>SANTA BARBARA</td>\n",
       "      <td>388</td>\n",
       "      <td>AGROPECUARIA MARIANA S.R.L.</td>\n",
       "      <td>L9.1</td>\n",
       "      <td>13.37</td>\n",
       "      <td>POLYGON ((484731.467 8093214.090, 484792.432 8...</td>\n",
       "      <td>0</td>\n",
       "      <td></td>\n",
       "      <td>SOLICITUD</td>\n",
       "      <td>0</td>\n",
       "      <td></td>\n",
       "      <td>0</td>\n",
       "    </tr>\n",
       "    <tr>\n",
       "      <th>6570</th>\n",
       "      <td>19</td>\n",
       "      <td>SANTA BARBARA</td>\n",
       "      <td>454</td>\n",
       "      <td>AYALA ESPINOSA LEOPOLDO</td>\n",
       "      <td>L30.3</td>\n",
       "      <td>30.62</td>\n",
       "      <td>POLYGON ((482167.376 8088748.923, 481855.906 8...</td>\n",
       "      <td>0</td>\n",
       "      <td></td>\n",
       "      <td>SOLICITUD</td>\n",
       "      <td>0</td>\n",
       "      <td></td>\n",
       "      <td>0</td>\n",
       "    </tr>\n",
       "    <tr>\n",
       "      <th>7017</th>\n",
       "      <td>19</td>\n",
       "      <td>SANTA BARBARA</td>\n",
       "      <td>388</td>\n",
       "      <td>AGROPECUARIA MARIANA S.R.L.</td>\n",
       "      <td>L10.2</td>\n",
       "      <td>10.32</td>\n",
       "      <td>POLYGON ((484672.478 8092564.285, 484524.403 8...</td>\n",
       "      <td>0</td>\n",
       "      <td></td>\n",
       "      <td>SOLICITUD</td>\n",
       "      <td>0</td>\n",
       "      <td></td>\n",
       "      <td>0</td>\n",
       "    </tr>\n",
       "    <tr>\n",
       "      <th>7946</th>\n",
       "      <td>19</td>\n",
       "      <td>SANTA BARBARA</td>\n",
       "      <td>388</td>\n",
       "      <td>AGROPECUARIA MARIANA S.R.L.</td>\n",
       "      <td>L2</td>\n",
       "      <td>14.00</td>\n",
       "      <td>POLYGON ((483967.015 8093117.035, 483852.026 8...</td>\n",
       "      <td>0</td>\n",
       "      <td></td>\n",
       "      <td>SOLICITUD</td>\n",
       "      <td>0</td>\n",
       "      <td></td>\n",
       "      <td>0</td>\n",
       "    </tr>\n",
       "    <tr>\n",
       "      <th>9322</th>\n",
       "      <td>19</td>\n",
       "      <td>SANTA BARBARA</td>\n",
       "      <td>454</td>\n",
       "      <td>AYALA ESPINOSA LEOPOLDO</td>\n",
       "      <td>L28.1</td>\n",
       "      <td>12.73</td>\n",
       "      <td>POLYGON ((482501.881 8089944.349, 482501.881 8...</td>\n",
       "      <td>0</td>\n",
       "      <td></td>\n",
       "      <td>SOLICITUD</td>\n",
       "      <td>0</td>\n",
       "      <td></td>\n",
       "      <td>0</td>\n",
       "    </tr>\n",
       "  </tbody>\n",
       "</table>\n",
       "</div>"
      ],
      "text/plain": [
       "      unidad_01      unidad_02  unidad_03                    unidad_04  \\\n",
       "3352         19  SANTA BARBARA        388  AGROPECUARIA MARIANA S.R.L.   \n",
       "6570         19  SANTA BARBARA        454      AYALA ESPINOSA LEOPOLDO   \n",
       "7017         19  SANTA BARBARA        388  AGROPECUARIA MARIANA S.R.L.   \n",
       "7946         19  SANTA BARBARA        388  AGROPECUARIA MARIANA S.R.L.   \n",
       "9322         19  SANTA BARBARA        454      AYALA ESPINOSA LEOPOLDO   \n",
       "\n",
       "     unidad_05   area                                           geometry  \\\n",
       "3352      L9.1  13.37  POLYGON ((484731.467 8093214.090, 484792.432 8...   \n",
       "6570     L30.3  30.62  POLYGON ((482167.376 8088748.923, 481855.906 8...   \n",
       "7017     L10.2  10.32  POLYGON ((484672.478 8092564.285, 484524.403 8...   \n",
       "7946        L2  14.00  POLYGON ((483967.015 8093117.035, 483852.026 8...   \n",
       "9322     L28.1  12.73  POLYGON ((482501.881 8089944.349, 482501.881 8...   \n",
       "\n",
       "      sem_reg fecha_ini     origen  dias fecha  sem_plan  \n",
       "3352        0            SOLICITUD     0               0  \n",
       "6570        0            SOLICITUD     0               0  \n",
       "7017        0            SOLICITUD     0               0  \n",
       "7946        0            SOLICITUD     0               0  \n",
       "9322        0            SOLICITUD     0               0  "
      ]
     },
     "execution_count": 113,
     "metadata": {},
     "output_type": "execute_result"
    }
   ],
   "source": [
    "poligonos_intersect_cat"
   ]
  },
  {
   "cell_type": "code",
   "execution_count": null,
   "id": "1a74b3c7-a105-450c-ab02-ccf438f72d47",
   "metadata": {},
   "outputs": [],
   "source": []
  },
  {
   "cell_type": "code",
   "execution_count": null,
   "id": "44f0a807-edff-4644-8af1-3bc71823db44",
   "metadata": {},
   "outputs": [],
   "source": []
  },
  {
   "cell_type": "code",
   "execution_count": null,
   "id": "0fc94acd-613a-451b-94a3-90628d0087e5",
   "metadata": {},
   "outputs": [],
   "source": []
  },
  {
   "cell_type": "code",
   "execution_count": null,
   "id": "8424dda3-6fd1-4d46-a554-726fa62144fd",
   "metadata": {},
   "outputs": [],
   "source": []
  },
  {
   "cell_type": "code",
   "execution_count": 114,
   "id": "b2322e14-f1dc-46ab-9f59-e4714e0a20b6",
   "metadata": {},
   "outputs": [],
   "source": [
    "# SELECCIONAR LOS LOTES DE SIEMBRAS\n",
    "# identifoca los lotes que se intersectan\n",
    "gdf_lotes_siem = gpd.sjoin(gdf_siembras, gdf_puntos, how='inner', predicate='intersects')\n",
    "# filtra los lotes intersectados en la capa original\n",
    "poligonos_intersect_siem = gdf_siembras.loc[gdf_siembras.index.isin(gdf_lotes_siem.index)]\n",
    "# copy\n",
    "poligonos_intersect_siem = poligonos_intersect_siem.copy()\n",
    "# agregar campo de semana_planificacion\n",
    "poligonos_intersect_siem['sem_plan'] = semana"
   ]
  },
  {
   "cell_type": "code",
   "execution_count": 115,
   "id": "fb93d517-7e8c-41ad-b4e9-cbaa81a3ba89",
   "metadata": {},
   "outputs": [
    {
     "data": {
      "text/html": [
       "<div>\n",
       "<style scoped>\n",
       "    .dataframe tbody tr th:only-of-type {\n",
       "        vertical-align: middle;\n",
       "    }\n",
       "\n",
       "    .dataframe tbody tr th {\n",
       "        vertical-align: top;\n",
       "    }\n",
       "\n",
       "    .dataframe thead th {\n",
       "        text-align: right;\n",
       "    }\n",
       "</style>\n",
       "<table border=\"1\" class=\"dataframe\">\n",
       "  <thead>\n",
       "    <tr style=\"text-align: right;\">\n",
       "      <th></th>\n",
       "      <th>sem_reg</th>\n",
       "      <th>unidad_01</th>\n",
       "      <th>unidad_02</th>\n",
       "      <th>unidad_03</th>\n",
       "      <th>unidad_04</th>\n",
       "      <th>unidad_05</th>\n",
       "      <th>area</th>\n",
       "      <th>fecha_ini</th>\n",
       "      <th>origen</th>\n",
       "      <th>dias</th>\n",
       "      <th>fecha</th>\n",
       "      <th>geometry</th>\n",
       "      <th>sem_plan</th>\n",
       "    </tr>\n",
       "  </thead>\n",
       "  <tbody>\n",
       "    <tr>\n",
       "      <th>70</th>\n",
       "      <td>0.0</td>\n",
       "      <td>19</td>\n",
       "      <td>SANTA BARBARA</td>\n",
       "      <td>18358</td>\n",
       "      <td>ROJAS AMELUNGE CARLOS</td>\n",
       "      <td>L30.11</td>\n",
       "      <td>11.686298</td>\n",
       "      <td>16/5/2024</td>\n",
       "      <td>SIEMBRA 2023</td>\n",
       "      <td>42</td>\n",
       "      <td>2024-05-16</td>\n",
       "      <td>POLYGON ((482104.111 8089213.948, 482099.880 8...</td>\n",
       "      <td>1</td>\n",
       "    </tr>\n",
       "    <tr>\n",
       "      <th>127</th>\n",
       "      <td>0.0</td>\n",
       "      <td>19</td>\n",
       "      <td>SANTA BARBARA</td>\n",
       "      <td>18358</td>\n",
       "      <td>ROJAS AMELUNGE CARLOS</td>\n",
       "      <td>L30.1</td>\n",
       "      <td>7.108919</td>\n",
       "      <td>16/5/2024</td>\n",
       "      <td>SIEMBRA 2023</td>\n",
       "      <td>42</td>\n",
       "      <td>2024-05-16</td>\n",
       "      <td>POLYGON ((482046.822 8089798.872, 482293.606 8...</td>\n",
       "      <td>1</td>\n",
       "    </tr>\n",
       "    <tr>\n",
       "      <th>542</th>\n",
       "      <td>24.0</td>\n",
       "      <td>19</td>\n",
       "      <td>SANTA BARBARA</td>\n",
       "      <td>18358</td>\n",
       "      <td>ROJAS AMELUNGE CARLOS</td>\n",
       "      <td>L11.3</td>\n",
       "      <td>4.871902</td>\n",
       "      <td>2024-05-25</td>\n",
       "      <td>SIEMBRA 2024</td>\n",
       "      <td>33</td>\n",
       "      <td>2024-05-25</td>\n",
       "      <td>POLYGON ((485258.313 8092748.319, 485025.381 8...</td>\n",
       "      <td>1</td>\n",
       "    </tr>\n",
       "    <tr>\n",
       "      <th>550</th>\n",
       "      <td>24.0</td>\n",
       "      <td>19</td>\n",
       "      <td>SANTA BARBARA</td>\n",
       "      <td>18358</td>\n",
       "      <td>ROJAS AMELUNGE CARLOS</td>\n",
       "      <td>L15</td>\n",
       "      <td>16.591264</td>\n",
       "      <td>2024-04-21</td>\n",
       "      <td>SIEMBRA 2024</td>\n",
       "      <td>67</td>\n",
       "      <td>2024-04-21</td>\n",
       "      <td>POLYGON ((484408.814 8091852.010, 484393.835 8...</td>\n",
       "      <td>1</td>\n",
       "    </tr>\n",
       "    <tr>\n",
       "      <th>559</th>\n",
       "      <td>24.0</td>\n",
       "      <td>19</td>\n",
       "      <td>SANTA BARBARA</td>\n",
       "      <td>18358</td>\n",
       "      <td>ROJAS AMELUNGE CARLOS</td>\n",
       "      <td>L5</td>\n",
       "      <td>8.271319</td>\n",
       "      <td>2024-05-24</td>\n",
       "      <td>SIEMBRA 2024</td>\n",
       "      <td>34</td>\n",
       "      <td>2024-05-24</td>\n",
       "      <td>POLYGON ((484261.379 8093191.568, 484784.170 8...</td>\n",
       "      <td>1</td>\n",
       "    </tr>\n",
       "  </tbody>\n",
       "</table>\n",
       "</div>"
      ],
      "text/plain": [
       "     sem_reg unidad_01      unidad_02 unidad_03              unidad_04  \\\n",
       "70       0.0        19  SANTA BARBARA     18358  ROJAS AMELUNGE CARLOS   \n",
       "127      0.0        19  SANTA BARBARA     18358  ROJAS AMELUNGE CARLOS   \n",
       "542     24.0        19  SANTA BARBARA     18358  ROJAS AMELUNGE CARLOS   \n",
       "550     24.0        19  SANTA BARBARA     18358  ROJAS AMELUNGE CARLOS   \n",
       "559     24.0        19  SANTA BARBARA     18358  ROJAS AMELUNGE CARLOS   \n",
       "\n",
       "    unidad_05       area   fecha_ini        origen  dias       fecha  \\\n",
       "70     L30.11  11.686298   16/5/2024  SIEMBRA 2023    42  2024-05-16   \n",
       "127     L30.1   7.108919   16/5/2024  SIEMBRA 2023    42  2024-05-16   \n",
       "542     L11.3   4.871902  2024-05-25  SIEMBRA 2024    33  2024-05-25   \n",
       "550       L15  16.591264  2024-04-21  SIEMBRA 2024    67  2024-04-21   \n",
       "559        L5   8.271319  2024-05-24  SIEMBRA 2024    34  2024-05-24   \n",
       "\n",
       "                                              geometry  sem_plan  \n",
       "70   POLYGON ((482104.111 8089213.948, 482099.880 8...         1  \n",
       "127  POLYGON ((482046.822 8089798.872, 482293.606 8...         1  \n",
       "542  POLYGON ((485258.313 8092748.319, 485025.381 8...         1  \n",
       "550  POLYGON ((484408.814 8091852.010, 484393.835 8...         1  \n",
       "559  POLYGON ((484261.379 8093191.568, 484784.170 8...         1  "
      ]
     },
     "execution_count": 115,
     "metadata": {},
     "output_type": "execute_result"
    }
   ],
   "source": [
    "poligonos_intersect_siem"
   ]
  },
  {
   "cell_type": "code",
   "execution_count": null,
   "id": "11a6acc7-6755-443a-b8ba-d100993382c1",
   "metadata": {},
   "outputs": [],
   "source": []
  },
  {
   "cell_type": "code",
   "execution_count": null,
   "id": "edc48721-a925-4f8b-9ffe-3c7ec588c893",
   "metadata": {},
   "outputs": [],
   "source": []
  },
  {
   "cell_type": "code",
   "execution_count": 116,
   "id": "f94775cc-b2cb-4562-bdbf-d4cdea9b7d4a",
   "metadata": {},
   "outputs": [],
   "source": [
    "# Concatenar los DataFrames a lo largo de las filas (axis=0)\n",
    "plan = pd.concat([poligonos_intersect_cat, poligonos_intersect_siem], axis=0)\n",
    "# Si deseas restablecer el índice después de concatenar\n",
    "plan.reset_index(drop=True, inplace=True)"
   ]
  },
  {
   "cell_type": "code",
   "execution_count": 118,
   "id": "eaaf58db-a69b-438d-a53c-3014bff3a849",
   "metadata": {},
   "outputs": [
    {
     "data": {
      "text/plain": [
       "<Axes: >"
      ]
     },
     "execution_count": 118,
     "metadata": {},
     "output_type": "execute_result"
    },
    {
     "data": {
      "image/png": "[encoded data removed]",
      "text/plain": [
       "<Figure size 640x480 with 1 Axes>"
      ]
     },
     "metadata": {},
     "output_type": "display_data"
    }
   ],
   "source": [
    "plan.plot()"
   ]
  },
  {
   "cell_type": "code",
   "execution_count": null,
   "id": "36d6783f-5ad7-4c3e-9dcb-eeb8b422fc74",
   "metadata": {},
   "outputs": [],
   "source": []
  },
  {
   "cell_type": "code",
   "execution_count": null,
   "id": "d20fa8af-ca0e-42a7-8578-b5fc74b3dc0a",
   "metadata": {},
   "outputs": [],
   "source": []
  },
  {
   "cell_type": "code",
   "execution_count": 120,
   "id": "cce50e5e-a116-4b2a-af88-5e8781eb1c30",
   "metadata": {},
   "outputs": [
    {
     "name": "stderr",
     "output_type": "stream",
     "text": [
      "C:\\Users\\Usuario\\AppData\\Local\\Temp\\ipykernel_31512\\1968544930.py:5: FutureWarning: The behavior of DataFrame concatenation with empty or all-NA entries is deprecated. In a future version, this will no longer exclude empty or all-NA columns when determining the result dtypes. To retain the old behavior, exclude the relevant entries before the concat operation.\n",
      "  gdf_pla_gral = pd.concat([gdf_plan, plan], ignore_index=True)\n"
     ]
    }
   ],
   "source": [
    "# cargar el shp de planificacion existente\n",
    "path_plan = r'G:\\Ingenio Azucarero Guabira S.A\\UTEA - SEMANAL - EQUIPO AVIACION UTEA\\Trichogramma\\2024\\SHP\\PLANIFICACION.shp'\n",
    "gdf_plan = gpd.read_file(path_plan)\n",
    "# union de los dos gdf\n",
    "gdf_pla_gral = pd.concat([gdf_plan, plan], ignore_index=True)\n",
    "# exportar los datos en nuevo shp\n",
    "gdf_pla_gral.to_file(path_plan)"
   ]
  },
  {
   "cell_type": "markdown",
   "id": "92a10d50-7471-4f3a-8085-fd37e259b2b1",
   "metadata": {},
   "source": [
    "# CARGAR PLANIFICACION A AMIGOCLOUD"
   ]
  },
  {
   "cell_type": "code",
   "execution_count": 121,
   "id": "b3af9f2f-af6f-4d93-9486-fc9dc3bf959b",
   "metadata": {},
   "outputs": [],
   "source": [
    "def convertir_a_multipolygon(geometry):\n",
    "    if isinstance(geometry, Polygon):\n",
    "        return MultiPolygon([geometry])\n",
    "    return geometry\n",
    "\n",
    "def convertir_a_wkb(polygon):\n",
    "    wkb_data = wkb.dumps(polygon, hex=True)\n",
    "    return wkb_data"
   ]
  },
  {
   "cell_type": "code",
   "execution_count": 125,
   "id": "3bb8b143-c2e1-4531-bb46-4d2dc6c94f35",
   "metadata": {},
   "outputs": [],
   "source": [
    "# repreyectar a WGS84\n",
    "plan = plan.to_crs(epsg=4326)\n",
    "# convertir poligonos a multipoligonos\n",
    "plan['geometry'] = plan['geometry'].apply(convertir_a_multipolygon)"
   ]
  },
  {
   "cell_type": "code",
   "execution_count": 126,
   "id": "2d282a8f-fc27-4967-88c9-e41de31ef6de",
   "metadata": {},
   "outputs": [
    {
     "data": {
      "text/html": [
       "<div>\n",
       "<style scoped>\n",
       "    .dataframe tbody tr th:only-of-type {\n",
       "        vertical-align: middle;\n",
       "    }\n",
       "\n",
       "    .dataframe tbody tr th {\n",
       "        vertical-align: top;\n",
       "    }\n",
       "\n",
       "    .dataframe thead th {\n",
       "        text-align: right;\n",
       "    }\n",
       "</style>\n",
       "<table border=\"1\" class=\"dataframe\">\n",
       "  <thead>\n",
       "    <tr style=\"text-align: right;\">\n",
       "      <th></th>\n",
       "      <th>unidad_01</th>\n",
       "      <th>unidad_02</th>\n",
       "      <th>unidad_03</th>\n",
       "      <th>unidad_04</th>\n",
       "      <th>unidad_05</th>\n",
       "      <th>area</th>\n",
       "      <th>geometry</th>\n",
       "      <th>sem_reg</th>\n",
       "      <th>fecha_ini</th>\n",
       "      <th>origen</th>\n",
       "      <th>dias</th>\n",
       "      <th>fecha</th>\n",
       "      <th>sem_plan</th>\n",
       "    </tr>\n",
       "  </thead>\n",
       "  <tbody>\n",
       "    <tr>\n",
       "      <th>0</th>\n",
       "      <td>19</td>\n",
       "      <td>SANTA BARBARA</td>\n",
       "      <td>388</td>\n",
       "      <td>AGROPECUARIA MARIANA S.R.L.</td>\n",
       "      <td>L9.1</td>\n",
       "      <td>13.370000</td>\n",
       "      <td>MULTIPOLYGON (((-63.14363 -17.24610, -63.14306...</td>\n",
       "      <td>0.0</td>\n",
       "      <td></td>\n",
       "      <td>SOLICITUD</td>\n",
       "      <td>0</td>\n",
       "      <td></td>\n",
       "      <td>0</td>\n",
       "    </tr>\n",
       "    <tr>\n",
       "      <th>1</th>\n",
       "      <td>19</td>\n",
       "      <td>SANTA BARBARA</td>\n",
       "      <td>454</td>\n",
       "      <td>AYALA ESPINOSA LEOPOLDO</td>\n",
       "      <td>L30.3</td>\n",
       "      <td>30.620000</td>\n",
       "      <td>MULTIPOLYGON (((-63.16779 -17.28644, -63.17072...</td>\n",
       "      <td>0.0</td>\n",
       "      <td></td>\n",
       "      <td>SOLICITUD</td>\n",
       "      <td>0</td>\n",
       "      <td></td>\n",
       "      <td>0</td>\n",
       "    </tr>\n",
       "    <tr>\n",
       "      <th>2</th>\n",
       "      <td>19</td>\n",
       "      <td>SANTA BARBARA</td>\n",
       "      <td>388</td>\n",
       "      <td>AGROPECUARIA MARIANA S.R.L.</td>\n",
       "      <td>L10.2</td>\n",
       "      <td>10.320000</td>\n",
       "      <td>MULTIPOLYGON (((-63.14419 -17.25197, -63.14558...</td>\n",
       "      <td>0.0</td>\n",
       "      <td></td>\n",
       "      <td>SOLICITUD</td>\n",
       "      <td>0</td>\n",
       "      <td></td>\n",
       "      <td>0</td>\n",
       "    </tr>\n",
       "    <tr>\n",
       "      <th>3</th>\n",
       "      <td>19</td>\n",
       "      <td>SANTA BARBARA</td>\n",
       "      <td>388</td>\n",
       "      <td>AGROPECUARIA MARIANA S.R.L.</td>\n",
       "      <td>L2</td>\n",
       "      <td>14.000000</td>\n",
       "      <td>MULTIPOLYGON (((-63.15082 -17.24697, -63.15191...</td>\n",
       "      <td>0.0</td>\n",
       "      <td></td>\n",
       "      <td>SOLICITUD</td>\n",
       "      <td>0</td>\n",
       "      <td></td>\n",
       "      <td>0</td>\n",
       "    </tr>\n",
       "    <tr>\n",
       "      <th>4</th>\n",
       "      <td>19</td>\n",
       "      <td>SANTA BARBARA</td>\n",
       "      <td>454</td>\n",
       "      <td>AYALA ESPINOSA LEOPOLDO</td>\n",
       "      <td>L28.1</td>\n",
       "      <td>12.730000</td>\n",
       "      <td>MULTIPOLYGON (((-63.16463 -17.27564, -63.16463...</td>\n",
       "      <td>0.0</td>\n",
       "      <td></td>\n",
       "      <td>SOLICITUD</td>\n",
       "      <td>0</td>\n",
       "      <td></td>\n",
       "      <td>0</td>\n",
       "    </tr>\n",
       "    <tr>\n",
       "      <th>5</th>\n",
       "      <td>19</td>\n",
       "      <td>SANTA BARBARA</td>\n",
       "      <td>18358</td>\n",
       "      <td>ROJAS AMELUNGE CARLOS</td>\n",
       "      <td>L30.11</td>\n",
       "      <td>11.686298</td>\n",
       "      <td>MULTIPOLYGON (((-63.16838 -17.28224, -63.16842...</td>\n",
       "      <td>0.0</td>\n",
       "      <td>16/5/2024</td>\n",
       "      <td>SIEMBRA 2023</td>\n",
       "      <td>42</td>\n",
       "      <td>2024-05-16</td>\n",
       "      <td>1</td>\n",
       "    </tr>\n",
       "    <tr>\n",
       "      <th>6</th>\n",
       "      <td>19</td>\n",
       "      <td>SANTA BARBARA</td>\n",
       "      <td>18358</td>\n",
       "      <td>ROJAS AMELUNGE CARLOS</td>\n",
       "      <td>L30.1</td>\n",
       "      <td>7.108919</td>\n",
       "      <td>MULTIPOLYGON (((-63.16891 -17.27695, -63.16659...</td>\n",
       "      <td>0.0</td>\n",
       "      <td>16/5/2024</td>\n",
       "      <td>SIEMBRA 2023</td>\n",
       "      <td>42</td>\n",
       "      <td>2024-05-16</td>\n",
       "      <td>1</td>\n",
       "    </tr>\n",
       "    <tr>\n",
       "      <th>7</th>\n",
       "      <td>19</td>\n",
       "      <td>SANTA BARBARA</td>\n",
       "      <td>18358</td>\n",
       "      <td>ROJAS AMELUNGE CARLOS</td>\n",
       "      <td>L11.3</td>\n",
       "      <td>4.871902</td>\n",
       "      <td>MULTIPOLYGON (((-63.13868 -17.25031, -63.14087...</td>\n",
       "      <td>24.0</td>\n",
       "      <td>2024-05-25</td>\n",
       "      <td>SIEMBRA 2024</td>\n",
       "      <td>33</td>\n",
       "      <td>2024-05-25</td>\n",
       "      <td>1</td>\n",
       "    </tr>\n",
       "    <tr>\n",
       "      <th>8</th>\n",
       "      <td>19</td>\n",
       "      <td>SANTA BARBARA</td>\n",
       "      <td>18358</td>\n",
       "      <td>ROJAS AMELUNGE CARLOS</td>\n",
       "      <td>L15</td>\n",
       "      <td>16.591264</td>\n",
       "      <td>MULTIPOLYGON (((-63.14668 -17.25841, -63.14682...</td>\n",
       "      <td>24.0</td>\n",
       "      <td>2024-04-21</td>\n",
       "      <td>SIEMBRA 2024</td>\n",
       "      <td>67</td>\n",
       "      <td>2024-04-21</td>\n",
       "      <td>1</td>\n",
       "    </tr>\n",
       "    <tr>\n",
       "      <th>9</th>\n",
       "      <td>19</td>\n",
       "      <td>SANTA BARBARA</td>\n",
       "      <td>18358</td>\n",
       "      <td>ROJAS AMELUNGE CARLOS</td>\n",
       "      <td>L5</td>\n",
       "      <td>8.271319</td>\n",
       "      <td>MULTIPOLYGON (((-63.14805 -17.24630, -63.14313...</td>\n",
       "      <td>24.0</td>\n",
       "      <td>2024-05-24</td>\n",
       "      <td>SIEMBRA 2024</td>\n",
       "      <td>34</td>\n",
       "      <td>2024-05-24</td>\n",
       "      <td>1</td>\n",
       "    </tr>\n",
       "  </tbody>\n",
       "</table>\n",
       "</div>"
      ],
      "text/plain": [
       "  unidad_01      unidad_02 unidad_03                    unidad_04 unidad_05  \\\n",
       "0        19  SANTA BARBARA       388  AGROPECUARIA MARIANA S.R.L.      L9.1   \n",
       "1        19  SANTA BARBARA       454      AYALA ESPINOSA LEOPOLDO     L30.3   \n",
       "2        19  SANTA BARBARA       388  AGROPECUARIA MARIANA S.R.L.     L10.2   \n",
       "3        19  SANTA BARBARA       388  AGROPECUARIA MARIANA S.R.L.        L2   \n",
       "4        19  SANTA BARBARA       454      AYALA ESPINOSA LEOPOLDO     L28.1   \n",
       "5        19  SANTA BARBARA     18358        ROJAS AMELUNGE CARLOS    L30.11   \n",
       "6        19  SANTA BARBARA     18358        ROJAS AMELUNGE CARLOS     L30.1   \n",
       "7        19  SANTA BARBARA     18358        ROJAS AMELUNGE CARLOS     L11.3   \n",
       "8        19  SANTA BARBARA     18358        ROJAS AMELUNGE CARLOS       L15   \n",
       "9        19  SANTA BARBARA     18358        ROJAS AMELUNGE CARLOS        L5   \n",
       "\n",
       "        area                                           geometry  sem_reg  \\\n",
       "0  13.370000  MULTIPOLYGON (((-63.14363 -17.24610, -63.14306...      0.0   \n",
       "1  30.620000  MULTIPOLYGON (((-63.16779 -17.28644, -63.17072...      0.0   \n",
       "2  10.320000  MULTIPOLYGON (((-63.14419 -17.25197, -63.14558...      0.0   \n",
       "3  14.000000  MULTIPOLYGON (((-63.15082 -17.24697, -63.15191...      0.0   \n",
       "4  12.730000  MULTIPOLYGON (((-63.16463 -17.27564, -63.16463...      0.0   \n",
       "5  11.686298  MULTIPOLYGON (((-63.16838 -17.28224, -63.16842...      0.0   \n",
       "6   7.108919  MULTIPOLYGON (((-63.16891 -17.27695, -63.16659...      0.0   \n",
       "7   4.871902  MULTIPOLYGON (((-63.13868 -17.25031, -63.14087...     24.0   \n",
       "8  16.591264  MULTIPOLYGON (((-63.14668 -17.25841, -63.14682...     24.0   \n",
       "9   8.271319  MULTIPOLYGON (((-63.14805 -17.24630, -63.14313...     24.0   \n",
       "\n",
       "    fecha_ini        origen  dias       fecha  sem_plan  \n",
       "0                 SOLICITUD     0                     0  \n",
       "1                 SOLICITUD     0                     0  \n",
       "2                 SOLICITUD     0                     0  \n",
       "3                 SOLICITUD     0                     0  \n",
       "4                 SOLICITUD     0                     0  \n",
       "5   16/5/2024  SIEMBRA 2023    42  2024-05-16         1  \n",
       "6   16/5/2024  SIEMBRA 2023    42  2024-05-16         1  \n",
       "7  2024-05-25  SIEMBRA 2024    33  2024-05-25         1  \n",
       "8  2024-04-21  SIEMBRA 2024    67  2024-04-21         1  \n",
       "9  2024-05-24  SIEMBRA 2024    34  2024-05-24         1  "
      ]
     },
     "execution_count": 126,
     "metadata": {},
     "output_type": "execute_result"
    }
   ],
   "source": [
    "plan"
   ]
  },
  {
   "cell_type": "code",
   "execution_count": 128,
   "id": "c51086e2-3f84-4f06-8504-ecd00c850844",
   "metadata": {},
   "outputs": [],
   "source": [
    "# recorrer el gdf de lotes y cargarlo a amigocloud\n",
    "id_proyecto = f'https://app.amigocloud.com/api/v1/projects/33457/sql'\n",
    "for index, row in plan.iterrows():\n",
    "    wkb_hex = convertir_a_wkb(row['geometry'])\n",
    "    insert_sql = f\"\"\"\n",
    "    INSERT INTO dataset_345601 (sem_reg, unidad_01, unidad_02, unidad_03, unidad_04, unidad_05, area, origen, dias, sem_plan, geometry)\n",
    "    VALUES ({row['sem_reg']}, {row['unidad_01']}, '{row['unidad_02']}', {row['unidad_03']}, '{row['unidad_04']}', '{row['unidad_05']}', {row['area']}, '{row['origen']}', '{row['dias']}', '{row['sem_plan']}', ST_SetSRID(ST_GeomFromWKB('\\\\x{wkb_hex}'), 4326));\n",
    "    \"\"\"\n",
    "    query_sql = {'query': insert_sql}\n",
    "    resultado_post = amigocloud.post(id_proyecto, query_sql)"
   ]
  },
  {
   "cell_type": "code",
   "execution_count": null,
   "id": "345eaa4a-b9c7-403b-9b04-64fd018b4191",
   "metadata": {},
   "outputs": [],
   "source": []
  },
  {
   "cell_type": "markdown",
   "id": "16e8c566-2f71-4a12-a194-564c47acf886",
   "metadata": {},
   "source": [
    "# CREAR XLSX"
   ]
  },
  {
   "cell_type": "code",
   "execution_count": 120,
   "id": "c7f69162-b9bc-4552-899d-d06a5348cf94",
   "metadata": {},
   "outputs": [
    {
     "data": {
      "text/plain": [
       "'G:/Ingenio Azucarero Guabira S.A/UTEA - SEMANAL - EQUIPO AVIACION UTEA/Trichogramma/2024/XLSX_PLAN/S23.xlsx'"
      ]
     },
     "execution_count": 120,
     "metadata": {},
     "output_type": "execute_result"
    }
   ],
   "source": [
    "path_plan_XLSX = f\"G:/Ingenio Azucarero Guabira S.A/UTEA - SEMANAL - EQUIPO AVIACION UTEA/Trichogramma/2024/XLSX_PLAN/S{semana}.xlsx\"\n",
    "path_plan_XLSX"
   ]
  },
  {
   "cell_type": "code",
   "execution_count": 123,
   "id": "5bee4a92-4b56-403f-bfe9-eb4d23277f01",
   "metadata": {},
   "outputs": [
    {
     "data": {
      "text/plain": [
       "Index(['sem_reg', 'unidad_01', 'unidad_02', 'unidad_03', 'unidad_04',\n",
       "       'unidad_05', 'area', 'fecha_ini', 'origen', 'dias', 'geometry',\n",
       "       'sem_plan'],\n",
       "      dtype='object')"
      ]
     },
     "execution_count": 123,
     "metadata": {},
     "output_type": "execute_result"
    }
   ],
   "source": [
    "poligonos_intersect.columns"
   ]
  },
  {
   "cell_type": "code",
   "execution_count": 128,
   "id": "171f6013-4e3b-49c9-b24e-82d11c1a2065",
   "metadata": {},
   "outputs": [],
   "source": [
    "df_xlsx = poligonos_intersect[['sem_reg', 'unidad_01', 'unidad_02', 'unidad_03', 'unidad_04', 'unidad_05', 'area', 'fecha_ini', 'origen', 'dias', 'sem_plan']]"
   ]
  },
  {
   "cell_type": "code",
   "execution_count": 129,
   "id": "657fc34d-713b-46b2-9659-f54c9f53083a",
   "metadata": {},
   "outputs": [],
   "source": [
    "df_xlsx.to_excel(path_plan_XLSX, index=False, engine='openpyxl')"
   ]
  },
  {
   "cell_type": "code",
   "execution_count": null,
   "id": "2a51c637-8caf-4cec-b182-50b3526ed6ad",
   "metadata": {},
   "outputs": [],
   "source": []
  },
  {
   "cell_type": "code",
   "execution_count": null,
   "id": "3d36e236-6425-48ec-b6fd-660a57119ba3",
   "metadata": {},
   "outputs": [],
   "source": []
  }
 ],
 "metadata": {
  "kernelspec": {
   "display_name": "Python 3 (ipykernel)",
   "language": "python",
   "name": "python3"
  },
  "language_info": {
   "codemirror_mode": {
    "name": "ipython",
    "version": 3
   },
   "file_extension": ".py",
   "mimetype": "text/x-python",
   "name": "python",
   "nbconvert_exporter": "python",
   "pygments_lexer": "ipython3",
   "version": "3.10.13"
  }
 },
 "nbformat": 4,
 "nbformat_minor": 5
}
