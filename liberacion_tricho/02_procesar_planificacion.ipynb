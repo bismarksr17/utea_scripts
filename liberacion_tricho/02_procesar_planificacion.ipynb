{
 "cells": [
  {
   "cell_type": "code",
   "execution_count": 3,
   "id": "4ca1910b-5695-4103-b096-022ec8e159e0",
   "metadata": {},
   "outputs": [],
   "source": [
    "import sys\n",
    "sys.path.append('../_amigocloud')"
   ]
  },
  {
   "cell_type": "code",
   "execution_count": 14,
   "id": "3d26f64e-c1fb-424d-bb27-d4ab069c2eed",
   "metadata": {},
   "outputs": [],
   "source": [
    "from amigocloud import AmigoCloud\n",
    "import pandas as pd\n",
    "from shapely import wkb\n",
    "\n",
    "import geopandas as gpd\n",
    "from shapely.geometry import Point, Polygon"
   ]
  },
  {
   "cell_type": "code",
   "execution_count": null,
   "id": "36188d7a-6542-4379-9265-d237533fbc15",
   "metadata": {},
   "outputs": [],
   "source": []
  },
  {
   "cell_type": "code",
   "execution_count": 6,
   "id": "91fc3e36-811a-48ce-99fe-82af7ba3e137",
   "metadata": {},
   "outputs": [],
   "source": [
    "path_siembras = r'G:\\Ingenio Azucarero Guabira S.A\\UTEA - SEMANAL - EQUIPO AVIACION UTEA\\Trichogramma\\2024\\SHP\\SIEMBRAS.shp'\n",
    "path_puntos = r'G:\\Ingenio Azucarero Guabira S.A\\UTEA - SEMANAL - EQUIPO AVIACION UTEA\\Trichogramma\\2024\\SHP\\PUNTOS.shp'"
   ]
  },
  {
   "cell_type": "code",
   "execution_count": 8,
   "id": "bcf7a8b4-d4eb-4920-8a6c-d94a67ad3c00",
   "metadata": {},
   "outputs": [],
   "source": [
    "gdf_siembras = gpd.read_file(path_siembras)\n",
    "gdf_puntos = gpd.read_file(path_puntos)"
   ]
  },
  {
   "cell_type": "code",
   "execution_count": 24,
   "id": "d04b5587-65f1-4876-adcf-4118f79fff2a",
   "metadata": {},
   "outputs": [
    {
     "name": "stdout",
     "output_type": "stream",
     "text": [
      "Ambas capas tienen el mismo CRS\n"
     ]
    }
   ],
   "source": [
    "if gdf_siembras.crs == gdf_puntos.crs:\n",
    "    print('Ambas capas tienen el mismo CRS')\n",
    "else:\n",
    "    print('No tienen el mismo CRS')"
   ]
  },
  {
   "cell_type": "code",
   "execution_count": 10,
   "id": "6bf20ad6-1bc8-4322-998d-26544569d06c",
   "metadata": {},
   "outputs": [],
   "source": [
    "semana = 23"
   ]
  },
  {
   "cell_type": "code",
   "execution_count": 12,
   "id": "2633de73-5e3b-44c1-82c5-d27365f3f8e3",
   "metadata": {
    "scrolled": true
   },
   "outputs": [
    {
     "data": {
      "text/html": [
       "<div>\n",
       "<style scoped>\n",
       "    .dataframe tbody tr th:only-of-type {\n",
       "        vertical-align: middle;\n",
       "    }\n",
       "\n",
       "    .dataframe tbody tr th {\n",
       "        vertical-align: top;\n",
       "    }\n",
       "\n",
       "    .dataframe thead th {\n",
       "        text-align: right;\n",
       "    }\n",
       "</style>\n",
       "<table border=\"1\" class=\"dataframe\">\n",
       "  <thead>\n",
       "    <tr style=\"text-align: right;\">\n",
       "      <th></th>\n",
       "      <th>Name</th>\n",
       "      <th>semana</th>\n",
       "      <th>geometry</th>\n",
       "    </tr>\n",
       "  </thead>\n",
       "  <tbody>\n",
       "    <tr>\n",
       "      <th>0</th>\n",
       "      <td>None</td>\n",
       "      <td>23</td>\n",
       "      <td>POINT (472103.475 8093494.430)</td>\n",
       "    </tr>\n",
       "    <tr>\n",
       "      <th>1</th>\n",
       "      <td>None</td>\n",
       "      <td>23</td>\n",
       "      <td>POINT (472478.126 8093519.830)</td>\n",
       "    </tr>\n",
       "    <tr>\n",
       "      <th>2</th>\n",
       "      <td>None</td>\n",
       "      <td>23</td>\n",
       "      <td>POINT (473232.190 8093469.030)</td>\n",
       "    </tr>\n",
       "    <tr>\n",
       "      <th>3</th>\n",
       "      <td>None</td>\n",
       "      <td>23</td>\n",
       "      <td>POINT (479293.553 8078858.312)</td>\n",
       "    </tr>\n",
       "    <tr>\n",
       "      <th>4</th>\n",
       "      <td>None</td>\n",
       "      <td>23</td>\n",
       "      <td>POINT (480677.856 8079213.913)</td>\n",
       "    </tr>\n",
       "    <tr>\n",
       "      <th>5</th>\n",
       "      <td>None</td>\n",
       "      <td>23</td>\n",
       "      <td>POINT (481490.658 8077886.760)</td>\n",
       "    </tr>\n",
       "    <tr>\n",
       "      <th>6</th>\n",
       "      <td>None</td>\n",
       "      <td>23</td>\n",
       "      <td>POINT (479128.453 8076134.157)</td>\n",
       "    </tr>\n",
       "    <tr>\n",
       "      <th>7</th>\n",
       "      <td>None</td>\n",
       "      <td>23</td>\n",
       "      <td>POINT (463704.272 8085352.900)</td>\n",
       "    </tr>\n",
       "  </tbody>\n",
       "</table>\n",
       "</div>"
      ],
      "text/plain": [
       "   Name  semana                        geometry\n",
       "0  None      23  POINT (472103.475 8093494.430)\n",
       "1  None      23  POINT (472478.126 8093519.830)\n",
       "2  None      23  POINT (473232.190 8093469.030)\n",
       "3  None      23  POINT (479293.553 8078858.312)\n",
       "4  None      23  POINT (480677.856 8079213.913)\n",
       "5  None      23  POINT (481490.658 8077886.760)\n",
       "6  None      23  POINT (479128.453 8076134.157)\n",
       "7  None      23  POINT (463704.272 8085352.900)"
      ]
     },
     "execution_count": 12,
     "metadata": {},
     "output_type": "execute_result"
    }
   ],
   "source": [
    "gdf_puntos_sem = gdf_puntos[gdf_puntos['semana'] == semana]\n",
    "gdf_puntos_sem"
   ]
  },
  {
   "cell_type": "code",
   "execution_count": 13,
   "id": "d3ca6aaf-e163-4eb7-a737-39b9d5aca6e8",
   "metadata": {},
   "outputs": [
    {
     "data": {
      "text/plain": [
       "<Axes: >"
      ]
     },
     "execution_count": 13,
     "metadata": {},
     "output_type": "execute_result"
    },
    {
     "data": {
      "image/png": "[encoded data removed]",
      "text/plain": [
       "<Figure size 640x480 with 1 Axes>"
      ]
     },
     "metadata": {},
     "output_type": "display_data"
    }
   ],
   "source": [
    "gdf_puntos_sem.plot()"
   ]
  },
  {
   "cell_type": "code",
   "execution_count": 28,
   "id": "b2322e14-f1dc-46ab-9f59-e4714e0a20b6",
   "metadata": {},
   "outputs": [],
   "source": [
    "# identifoca los lotes que se intersectan\n",
    "gdf_lotes_selec = gpd.sjoin(gdf_siembras, gdf_puntos, how='inner', predicate='intersects')"
   ]
  },
  {
   "cell_type": "code",
   "execution_count": 40,
   "id": "01143083-0d49-4f53-984d-76b4498f0708",
   "metadata": {},
   "outputs": [],
   "source": [
    "# filtra los lotes intersectados en la capa original\n",
    "poligonos_intersect = gdf_siembras.loc[gdf_siembras.index.isin(gdf_lotes_selec.index)]\n",
    "poligonos_intersect = poligonos_intersect.copy()"
   ]
  },
  {
   "cell_type": "code",
   "execution_count": 41,
   "id": "9d6fd9df-769f-45d1-a095-7087fe8979ff",
   "metadata": {},
   "outputs": [],
   "source": [
    "poligonos_intersect['semana'] = semana"
   ]
  },
  {
   "cell_type": "code",
   "execution_count": 42,
   "id": "e8c89c74-243d-44ce-8a86-b45ec2da26e7",
   "metadata": {},
   "outputs": [
    {
     "data": {
      "text/html": [
       "<div>\n",
       "<style scoped>\n",
       "    .dataframe tbody tr th:only-of-type {\n",
       "        vertical-align: middle;\n",
       "    }\n",
       "\n",
       "    .dataframe tbody tr th {\n",
       "        vertical-align: top;\n",
       "    }\n",
       "\n",
       "    .dataframe thead th {\n",
       "        text-align: right;\n",
       "    }\n",
       "</style>\n",
       "<table border=\"1\" class=\"dataframe\">\n",
       "  <thead>\n",
       "    <tr style=\"text-align: right;\">\n",
       "      <th></th>\n",
       "      <th>sem_reg</th>\n",
       "      <th>unidad_01</th>\n",
       "      <th>unidad_02</th>\n",
       "      <th>unidad_03</th>\n",
       "      <th>unidad_04</th>\n",
       "      <th>unidad_05</th>\n",
       "      <th>area</th>\n",
       "      <th>fecha_ini</th>\n",
       "      <th>origen</th>\n",
       "      <th>dias</th>\n",
       "      <th>geometry</th>\n",
       "      <th>semana</th>\n",
       "    </tr>\n",
       "  </thead>\n",
       "  <tbody>\n",
       "    <tr>\n",
       "      <th>13</th>\n",
       "      <td>19</td>\n",
       "      <td>63</td>\n",
       "      <td>SAN MARIANITO--CRONEMBOLD AGUILERA</td>\n",
       "      <td>2641</td>\n",
       "      <td>CRONENBOLD AGUILERA ROBERTO</td>\n",
       "      <td>L51</td>\n",
       "      <td>9.68</td>\n",
       "      <td>2024-03-22</td>\n",
       "      <td>SIEMBRA 2024</td>\n",
       "      <td>75</td>\n",
       "      <td>POLYGON ((481468.762 8078156.958, 481662.937 8...</td>\n",
       "      <td>23</td>\n",
       "    </tr>\n",
       "    <tr>\n",
       "      <th>14</th>\n",
       "      <td>19</td>\n",
       "      <td>63</td>\n",
       "      <td>SAN MARIANITO--CRONEMBOLD AGUILERA</td>\n",
       "      <td>2641</td>\n",
       "      <td>CRONENBOLD AGUILERA ROBERTO</td>\n",
       "      <td>L30.1</td>\n",
       "      <td>8.38</td>\n",
       "      <td>2024-03-13</td>\n",
       "      <td>SIEMBRA 2024</td>\n",
       "      <td>84</td>\n",
       "      <td>POLYGON ((480615.505 8078842.811, 480575.420 8...</td>\n",
       "      <td>23</td>\n",
       "    </tr>\n",
       "    <tr>\n",
       "      <th>15</th>\n",
       "      <td>19</td>\n",
       "      <td>63</td>\n",
       "      <td>SAN MARIANITO--CRONEMBOLD AGUILERA</td>\n",
       "      <td>2641</td>\n",
       "      <td>CRONENBOLD AGUILERA ROBERTO</td>\n",
       "      <td>L1</td>\n",
       "      <td>12.76</td>\n",
       "      <td>2024-03-17</td>\n",
       "      <td>SIEMBRA 2024</td>\n",
       "      <td>80</td>\n",
       "      <td>POLYGON ((479417.107 8079042.290, 479409.645 8...</td>\n",
       "      <td>23</td>\n",
       "    </tr>\n",
       "    <tr>\n",
       "      <th>17</th>\n",
       "      <td>19</td>\n",
       "      <td>2013</td>\n",
       "      <td>LA ASUNTA--CRONEMBOLD</td>\n",
       "      <td>2641</td>\n",
       "      <td>CRONENBOLD AGUILERA ROBERTO</td>\n",
       "      <td>L6</td>\n",
       "      <td>9.41</td>\n",
       "      <td>2024-04-10</td>\n",
       "      <td>SIEMBRA 2024</td>\n",
       "      <td>56</td>\n",
       "      <td>POLYGON ((472307.589 8093709.193, 472531.882 8...</td>\n",
       "      <td>23</td>\n",
       "    </tr>\n",
       "    <tr>\n",
       "      <th>18</th>\n",
       "      <td>19</td>\n",
       "      <td>2013</td>\n",
       "      <td>LA ASUNTA--CRONEMBOLD</td>\n",
       "      <td>2641</td>\n",
       "      <td>CRONENBOLD AGUILERA ROBERTO</td>\n",
       "      <td>L7</td>\n",
       "      <td>4.96</td>\n",
       "      <td>2024-04-10</td>\n",
       "      <td>SIEMBRA 2024</td>\n",
       "      <td>56</td>\n",
       "      <td>POLYGON ((472036.356 8093717.214, 472143.866 8...</td>\n",
       "      <td>23</td>\n",
       "    </tr>\n",
       "    <tr>\n",
       "      <th>21</th>\n",
       "      <td>19</td>\n",
       "      <td>2013</td>\n",
       "      <td>LA ASUNTA--CRONEMBOLD</td>\n",
       "      <td>2641</td>\n",
       "      <td>CRONENBOLD AGUILERA ROBERTO</td>\n",
       "      <td>L4</td>\n",
       "      <td>1.30</td>\n",
       "      <td>2024-04-10</td>\n",
       "      <td>SIEMBRA 2024</td>\n",
       "      <td>56</td>\n",
       "      <td>POLYGON ((473259.136 8093369.842, 473298.235 8...</td>\n",
       "      <td>23</td>\n",
       "    </tr>\n",
       "    <tr>\n",
       "      <th>22</th>\n",
       "      <td>19</td>\n",
       "      <td>558</td>\n",
       "      <td>NARANJAL--MARTA S. AGUILERA</td>\n",
       "      <td>2641</td>\n",
       "      <td>CRONENBOLD AGUILERA ROBERTO</td>\n",
       "      <td>L7</td>\n",
       "      <td>6.32</td>\n",
       "      <td>2024-04-10</td>\n",
       "      <td>SIEMBRA 2024</td>\n",
       "      <td>56</td>\n",
       "      <td>POLYGON ((479162.628 8076488.740, 479247.562 8...</td>\n",
       "      <td>23</td>\n",
       "    </tr>\n",
       "    <tr>\n",
       "      <th>26</th>\n",
       "      <td>20</td>\n",
       "      <td>183</td>\n",
       "      <td>EL IMPERIO--TUFIÑO</td>\n",
       "      <td>13763</td>\n",
       "      <td>TUFINO SCHWENK RUBEN DARIO</td>\n",
       "      <td>L2.2</td>\n",
       "      <td>8.55</td>\n",
       "      <td>2024-04-08</td>\n",
       "      <td>SIEMBRA 2024</td>\n",
       "      <td>58</td>\n",
       "      <td>POLYGON ((463673.452 8085169.511, 463667.024 8...</td>\n",
       "      <td>23</td>\n",
       "    </tr>\n",
       "  </tbody>\n",
       "</table>\n",
       "</div>"
      ],
      "text/plain": [
       "   sem_reg unidad_01                           unidad_02 unidad_03  \\\n",
       "13      19        63  SAN MARIANITO--CRONEMBOLD AGUILERA      2641   \n",
       "14      19        63  SAN MARIANITO--CRONEMBOLD AGUILERA      2641   \n",
       "15      19        63  SAN MARIANITO--CRONEMBOLD AGUILERA      2641   \n",
       "17      19      2013               LA ASUNTA--CRONEMBOLD      2641   \n",
       "18      19      2013               LA ASUNTA--CRONEMBOLD      2641   \n",
       "21      19      2013               LA ASUNTA--CRONEMBOLD      2641   \n",
       "22      19       558         NARANJAL--MARTA S. AGUILERA      2641   \n",
       "26      20       183                  EL IMPERIO--TUFIÑO     13763   \n",
       "\n",
       "                      unidad_04 unidad_05   area   fecha_ini        origen  \\\n",
       "13  CRONENBOLD AGUILERA ROBERTO       L51   9.68  2024-03-22  SIEMBRA 2024   \n",
       "14  CRONENBOLD AGUILERA ROBERTO     L30.1   8.38  2024-03-13  SIEMBRA 2024   \n",
       "15  CRONENBOLD AGUILERA ROBERTO        L1  12.76  2024-03-17  SIEMBRA 2024   \n",
       "17  CRONENBOLD AGUILERA ROBERTO        L6   9.41  2024-04-10  SIEMBRA 2024   \n",
       "18  CRONENBOLD AGUILERA ROBERTO        L7   4.96  2024-04-10  SIEMBRA 2024   \n",
       "21  CRONENBOLD AGUILERA ROBERTO        L4   1.30  2024-04-10  SIEMBRA 2024   \n",
       "22  CRONENBOLD AGUILERA ROBERTO        L7   6.32  2024-04-10  SIEMBRA 2024   \n",
       "26   TUFINO SCHWENK RUBEN DARIO      L2.2   8.55  2024-04-08  SIEMBRA 2024   \n",
       "\n",
       "   dias                                           geometry  semana  \n",
       "13   75  POLYGON ((481468.762 8078156.958, 481662.937 8...      23  \n",
       "14   84  POLYGON ((480615.505 8078842.811, 480575.420 8...      23  \n",
       "15   80  POLYGON ((479417.107 8079042.290, 479409.645 8...      23  \n",
       "17   56  POLYGON ((472307.589 8093709.193, 472531.882 8...      23  \n",
       "18   56  POLYGON ((472036.356 8093717.214, 472143.866 8...      23  \n",
       "21   56  POLYGON ((473259.136 8093369.842, 473298.235 8...      23  \n",
       "22   56  POLYGON ((479162.628 8076488.740, 479247.562 8...      23  \n",
       "26   58  POLYGON ((463673.452 8085169.511, 463667.024 8...      23  "
      ]
     },
     "execution_count": 42,
     "metadata": {},
     "output_type": "execute_result"
    }
   ],
   "source": [
    "poligonos_intersect"
   ]
  },
  {
   "cell_type": "code",
   "execution_count": null,
   "id": "91f352c2-06ad-4c90-b278-eabc8ad2f90d",
   "metadata": {},
   "outputs": [],
   "source": []
  },
  {
   "cell_type": "code",
   "execution_count": 43,
   "id": "cce50e5e-a116-4b2a-af88-5e8781eb1c30",
   "metadata": {},
   "outputs": [
    {
     "name": "stderr",
     "output_type": "stream",
     "text": [
      "C:\\Users\\Usuario\\AppData\\Local\\Temp\\ipykernel_26584\\183825536.py:3: FutureWarning: The behavior of DataFrame concatenation with empty or all-NA entries is deprecated. In a future version, this will no longer exclude empty or all-NA columns when determining the result dtypes. To retain the old behavior, exclude the relevant entries before the concat operation.\n",
      "  gdf_pla_gral = pd.concat([gdf_plan, poligonos_intersect], ignore_index=True)\n"
     ]
    }
   ],
   "source": [
    "path_plan = r'G:\\Ingenio Azucarero Guabira S.A\\UTEA - SEMANAL - EQUIPO AVIACION UTEA\\Trichogramma\\2024\\SHP\\PLANIFICACION.shp'\n",
    "gdf_plan = gpd.read_file(path_plan)\n",
    "gdf_pla_gral = pd.concat([gdf_plan, poligonos_intersect], ignore_index=True)\n",
    "gdf_pla_gral.to_file(path_plan)"
   ]
  },
  {
   "cell_type": "code",
   "execution_count": null,
   "id": "4319eac5-91d8-4dd7-aa81-92a332503cd4",
   "metadata": {},
   "outputs": [],
   "source": []
  },
  {
   "cell_type": "code",
   "execution_count": null,
   "id": "7f92b4cf-8f81-4e19-b7a9-e38f881cc9bf",
   "metadata": {},
   "outputs": [],
   "source": []
  },
  {
   "cell_type": "code",
   "execution_count": null,
   "id": "697b4dde-acbe-482e-8f0c-f2f51aeede28",
   "metadata": {},
   "outputs": [],
   "source": []
  },
  {
   "cell_type": "code",
   "execution_count": null,
   "id": "4fc5ac5e-b4f1-47f9-a4b4-c12537e41328",
   "metadata": {},
   "outputs": [],
   "source": []
  }
 ],
 "metadata": {
  "kernelspec": {
   "display_name": "Python 3 (ipykernel)",
   "language": "python",
   "name": "python3"
  },
  "language_info": {
   "codemirror_mode": {
    "name": "ipython",
    "version": 3
   },
   "file_extension": ".py",
   "mimetype": "text/x-python",
   "name": "python",
   "nbconvert_exporter": "python",
   "pygments_lexer": "ipython3",
   "version": "3.10.13"
  }
 },
 "nbformat": 4,
 "nbformat_minor": 5
}
