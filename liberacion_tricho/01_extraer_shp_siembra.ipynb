{
 "cells": [
  {
   "cell_type": "code",
   "execution_count": 169,
   "id": "62a0c5b2-78c1-43b6-b7d8-cd6edc57f6b3",
   "metadata": {},
   "outputs": [],
   "source": [
    "import sys\n",
    "sys.path.append('../_amigocloud')"
   ]
  },
  {
   "cell_type": "code",
   "execution_count": 170,
   "id": "fe7bf227-b7ce-4558-958c-8d6b6c5d409c",
   "metadata": {},
   "outputs": [],
   "source": [
    "from amigocloud import AmigoCloud\n",
    "import pandas as pd\n",
    "from shapely import wkb\n",
    "\n",
    "import geopandas as gpd\n",
    "\n",
    "from datetime import datetime, timedelta\n",
    "from shapely import wkb\n",
    "from shapely.geometry import Polygon, MultiPolygon"
   ]
  },
  {
   "cell_type": "code",
   "execution_count": 171,
   "id": "1c8335e4-d528-4bab-9ced-04132458b098",
   "metadata": {},
   "outputs": [],
   "source": [
    "# ruta de carpera donde estan las llaves\n",
    "ruta = open('../ruta.txt')\n",
    "ruta = ruta.readlines()[0]"
   ]
  },
  {
   "cell_type": "code",
   "execution_count": 172,
   "id": "08c716c7-2dc2-4095-9c88-5d8ba2c3aebe",
   "metadata": {},
   "outputs": [
    {
     "data": {
      "text/plain": [
       "<amigocloud.AmigoCloud at 0x1d74c966500>"
      ]
     },
     "execution_count": 172,
     "metadata": {},
     "output_type": "execute_result"
    }
   ],
   "source": [
    "# leer token\n",
    "acceso = open(ruta + '/_keys/api_amigocloud.key','r')\n",
    "api_token = acceso.readlines()[0]\n",
    "acceso.close()\n",
    "amigocloud = AmigoCloud(token=api_token)\n",
    "amigocloud"
   ]
  },
  {
   "cell_type": "code",
   "execution_count": 173,
   "id": "4f9c59c2-1c87-4cab-a254-2d747080a62b",
   "metadata": {},
   "outputs": [],
   "source": [
    "def convertir_wkb(wkb_data):\n",
    "    geom = wkb.loads(wkb_data, hex=True)\n",
    "    # Si la geometría es un MultiPolygon con un solo polígono, conviértelo a Polígono\n",
    "    if isinstance(geom, MultiPolygon) and len(geom.geoms) == 1:\n",
    "        geom = geom.geoms[0]\n",
    "    return geom"
   ]
  },
  {
   "cell_type": "code",
   "execution_count": 272,
   "id": "4bd13056-7c4d-48d0-ac27-240df59d1d26",
   "metadata": {},
   "outputs": [],
   "source": [
    "semana = 20"
   ]
  },
  {
   "cell_type": "code",
   "execution_count": 273,
   "id": "7c0491cb-9f24-4a56-88d0-86d9163720fb",
   "metadata": {},
   "outputs": [],
   "source": [
    "query = f\"select cast(split_part(insp.semana_3ra, 'S', 2) as integer) sem_reg, cast(split_part(prop.propiedad, ' / ', 1) as integer) unidad_01, split_part(prop.propiedad, ' / ', 2) unidad_02, cast(split_part(insp.canhero, ' / ', 1) as integer) unidad_03, split_part(insp.canhero, ' / ',2) unidad_04, lote.lote unidad_05, lote.superficie area, lote.fecha_siembra::date fecha_ini, 'SIEMBRA 2024' origen, lote.geometria geometry from dataset_307560 insp inner join dataset_307562 prop on insp.amigo_id = prop.insp_ref_prop inner join dataset_307563 lote on prop.amigo_id = lote.prop_ref_lote where insp.estado_3ra_insp = 'APROBADO' and (lote.estado_de_siembra = 'CAÑA NACIDA' or lote.estado_de_siembra = 'CAÑA NO NACIDA') and cast(split_part(insp.semana_3ra, 'S', 2) as integer) = {semana}\"\n",
    "query_consulta = {'query': query}\n",
    "select = amigocloud.get('https://app.amigocloud.com/api/v1/projects/32672/sql', query_consulta)\n",
    "data = select['data']"
   ]
  },
  {
   "cell_type": "code",
   "execution_count": 276,
   "id": "92b8d2eb-f8c9-4589-aed0-c48dc9ba7e39",
   "metadata": {},
   "outputs": [],
   "source": [
    "df = pd.DataFrame(data)\n",
    "df['geometry'] = df['geometry'].apply(convertir_wkb)\n",
    "data = gpd.GeoDataFrame(df, geometry='geometry', crs='EPSG:4326')\n",
    "gdf_utm = data.to_crs('EPSG:32720')\n",
    "gdf_utm['fecha_ini'] = pd.to_datetime(gdf_utm['fecha_ini'])\n",
    "now = datetime.now()\n",
    "gdf_utm['dias'] = (now - gdf_utm['fecha_ini']).dt.days\n",
    "gdf_utm['fecha_ini'] = gdf_utm['fecha_ini'].dt.strftime('%Y-%m-%d')"
   ]
  },
  {
   "cell_type": "code",
   "execution_count": 216,
   "id": "08db5591-d297-4a5d-86e2-738e3a3db3cf",
   "metadata": {},
   "outputs": [],
   "source": [
    "#file_name = r'G:\\Ingenio Azucarero Guabira S.A\\UTEA - SEMANAL - EQUIPO AVIACION UTEA\\Trichogramma\\2024\\SHP\\SIEMBRAS.shp'\n",
    "\n",
    "# Exporta el GeoDataFrame como un shapefile\n",
    "#gdf_utm.to_file(file_name)"
   ]
  },
  {
   "cell_type": "code",
   "execution_count": 290,
   "id": "88473c08-cf9d-47e3-ab85-76fa65073717",
   "metadata": {},
   "outputs": [],
   "source": [
    "file_name = r'G:\\Ingenio Azucarero Guabira S.A\\UTEA - SEMANAL - EQUIPO AVIACION UTEA\\Trichogramma\\2024\\SHP\\SIEMBRAS.shp'\n",
    "gdf_siembras = gpd.read_file(file_name)\n",
    "gdf_siembras = pd.concat([gdf_siembras, gdf_utm], ignore_index=True)\n",
    "gdf_siembras.to_file(file_name)"
   ]
  },
  {
   "cell_type": "code",
   "execution_count": 291,
   "id": "8826d251-e0eb-4387-835e-b521edd9ad12",
   "metadata": {},
   "outputs": [],
   "source": []
  },
  {
   "cell_type": "code",
   "execution_count": 293,
   "id": "402137e3-3c5b-4d1c-95af-ebee39c4bf01",
   "metadata": {},
   "outputs": [],
   "source": []
  },
  {
   "cell_type": "code",
   "execution_count": 295,
   "id": "3d9e4d5c-3cc0-425c-8df6-00a357b7f2bf",
   "metadata": {},
   "outputs": [],
   "source": []
  },
  {
   "cell_type": "code",
   "execution_count": null,
   "id": "2bfa287a-5e0f-44b3-a8b3-5efb74fd9f27",
   "metadata": {},
   "outputs": [],
   "source": []
  },
  {
   "cell_type": "code",
   "execution_count": null,
   "id": "ff8a64b4-ac51-4c49-89ee-128baae13fad",
   "metadata": {},
   "outputs": [],
   "source": []
  },
  {
   "cell_type": "code",
   "execution_count": null,
   "id": "436a2748-b34f-4d81-adf7-0792f6dc47ba",
   "metadata": {},
   "outputs": [],
   "source": []
  }
 ],
 "metadata": {
  "kernelspec": {
   "display_name": "Python 3 (ipykernel)",
   "language": "python",
   "name": "python3"
  },
  "language_info": {
   "codemirror_mode": {
    "name": "ipython",
    "version": 3
   },
   "file_extension": ".py",
   "mimetype": "text/x-python",
   "name": "python",
   "nbconvert_exporter": "python",
   "pygments_lexer": "ipython3",
   "version": "3.10.13"
  }
 },
 "nbformat": 4,
 "nbformat_minor": 5
}
