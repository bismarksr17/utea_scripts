{
 "cells": [
  {
   "cell_type": "code",
   "execution_count": 1,
   "id": "62a0c5b2-78c1-43b6-b7d8-cd6edc57f6b3",
   "metadata": {},
   "outputs": [],
   "source": [
    "import sys\n",
    "sys.path.append('../_amigocloud')"
   ]
  },
  {
   "cell_type": "code",
   "execution_count": 3,
   "id": "fe7bf227-b7ce-4558-958c-8d6b6c5d409c",
   "metadata": {},
   "outputs": [],
   "source": [
    "from amigocloud import AmigoCloud\n",
    "import pandas as pd\n",
    "from shapely import wkb\n",
    "\n",
    "import geopandas as gpd\n",
    "\n",
    "from datetime import datetime, timedelta\n",
    "from shapely import wkb\n",
    "from shapely.geometry import Polygon, MultiPolygon"
   ]
  },
  {
   "cell_type": "code",
   "execution_count": 4,
   "id": "1c8335e4-d528-4bab-9ced-04132458b098",
   "metadata": {},
   "outputs": [],
   "source": [
    "# ruta de carpera donde estan las llaves\n",
    "ruta = open('../ruta.txt')\n",
    "ruta = ruta.readlines()[0]"
   ]
  },
  {
   "cell_type": "code",
   "execution_count": 5,
   "id": "08c716c7-2dc2-4095-9c88-5d8ba2c3aebe",
   "metadata": {},
   "outputs": [
    {
     "data": {
      "text/plain": [
       "<amigocloud.AmigoCloud at 0x2457c02ada0>"
      ]
     },
     "execution_count": 5,
     "metadata": {},
     "output_type": "execute_result"
    }
   ],
   "source": [
    "# leer token\n",
    "acceso = open(ruta + '/_keys/api_amigocloud.key','r')\n",
    "api_token = acceso.readlines()[0]\n",
    "acceso.close()\n",
    "amigocloud = AmigoCloud(token=api_token)\n",
    "amigocloud"
   ]
  },
  {
   "cell_type": "code",
   "execution_count": 6,
   "id": "4f9c59c2-1c87-4cab-a254-2d747080a62b",
   "metadata": {},
   "outputs": [],
   "source": [
    "def convertir_wkb(wkb_data):\n",
    "    geom = wkb.loads(wkb_data, hex=True)\n",
    "    # Si la geometría es un MultiPolygon con un solo polígono, conviértelo a Polígono\n",
    "    if isinstance(geom, MultiPolygon) and len(geom.geoms) == 1:\n",
    "        geom = geom.geoms[0]\n",
    "    return geom"
   ]
  },
  {
   "cell_type": "code",
   "execution_count": 7,
   "id": "4bd13056-7c4d-48d0-ac27-240df59d1d26",
   "metadata": {},
   "outputs": [],
   "source": [
    "semana = 20"
   ]
  },
  {
   "cell_type": "code",
   "execution_count": 8,
   "id": "7c0491cb-9f24-4a56-88d0-86d9163720fb",
   "metadata": {},
   "outputs": [],
   "source": [
    "query = f\"select cast(split_part(insp.semana_3ra, 'S', 2) as integer) sem_reg, cast(split_part(prop.propiedad, ' / ', 1) as integer) unidad_01, split_part(prop.propiedad, ' / ', 2) unidad_02, cast(split_part(insp.canhero, ' / ', 1) as integer) unidad_03, split_part(insp.canhero, ' / ',2) unidad_04, lote.lote unidad_05, lote.superficie area, lote.fecha_siembra::date fecha_ini, 'SIEMBRA 2024' origen, lote.geometria geometry from dataset_307560 insp inner join dataset_307562 prop on insp.amigo_id = prop.insp_ref_prop inner join dataset_307563 lote on prop.amigo_id = lote.prop_ref_lote where insp.estado_3ra_insp = 'APROBADO' and (lote.estado_de_siembra = 'CAÑA NACIDA' or lote.estado_de_siembra = 'CAÑA NO NACIDA') and cast(split_part(insp.semana_3ra, 'S', 2) as integer) = {semana}\"\n",
    "query_consulta = {'query': query}\n",
    "select = amigocloud.get('https://app.amigocloud.com/api/v1/projects/32672/sql', query_consulta)\n",
    "data = select['data']"
   ]
  },
  {
   "cell_type": "code",
   "execution_count": 9,
   "id": "75d161d0-673d-400e-8820-713ea2e64ebb",
   "metadata": {},
   "outputs": [
    {
     "data": {
      "text/plain": [
       "[{'sem_reg': 20,\n",
       "  'unidad_01': 187,\n",
       "  'unidad_02': 'MATIAS--HABBAUER',\n",
       "  'unidad_03': 5421,\n",
       "  'unidad_04': 'HUBBAUER HOYOS ENRIQUE',\n",
       "  'unidad_05': 'L7.2',\n",
       "  'area': 1.84,\n",
       "  'fecha_ini': '2024-04-15',\n",
       "  'origen': 'SIEMBRA 2024',\n",
       "  'geometry': '0106000020E610000001000000010300000001000000050000001852738619A04FC05C69CD2D7D2B31C098D47E161AA04FC0A85307DFDC2B31C018934197F79F4FC018B6A5B5E12B31C0308A18BEF79F4FC0C83F451C7D2B31C01852738619A04FC05C69CD2D7D2B31C0'},\n",
       " {'sem_reg': 20,\n",
       "  'unidad_01': 187,\n",
       "  'unidad_02': 'MATIAS--HABBAUER',\n",
       "  'unidad_03': 5421,\n",
       "  'unidad_04': 'HUBBAUER HOYOS ENRIQUE',\n",
       "  'unidad_05': 'L6',\n",
       "  'area': 1.96,\n",
       "  'fecha_ini': '2024-04-15',\n",
       "  'origen': 'SIEMBRA 2024',\n",
       "  'geometry': '0106000020E610000001000000010300000001000000050000008626AAC834A04FC02C277F00F82B31C06682679F51A04FC020F9368EF92B31C0E8A5884B5CA04FC0242B17317C2B31C0A67291CB3FA04FC010D9994D7C2B31C08626AAC834A04FC02C277F00F82B31C0'},\n",
       " {'sem_reg': 20,\n",
       "  'unidad_01': 187,\n",
       "  'unidad_02': 'MATIAS--HABBAUER',\n",
       "  'unidad_03': 5421,\n",
       "  'unidad_04': 'HUBBAUER HOYOS ENRIQUE',\n",
       "  'unidad_05': 'L9.1',\n",
       "  'area': 3.61,\n",
       "  'fecha_ini': '2024-04-16',\n",
       "  'origen': 'SIEMBRA 2024',\n",
       "  'geometry': '0106000020E6100000010000000103000000010000000A00000074AFA43C27A04FC00A3FD8EAC12C31C04693787E25A04FC0408A7DA1C42C31C030FBA67118A04FC0C3B1CB06C72C31C0C179962007A04FC016A96A50C32C31C0BF376025FC9F4FC0C6FFEC0DC12C31C0C3A9629EF29F4FC01F081C06BB2C31C043BC123CF79F4FC0A99887B24C2C31C03010B23016A04FC0CA2895DA462C31C06CD01D882DA04FC005788596442C31C074AFA43C27A04FC00A3FD8EAC12C31C0'},\n",
       " {'sem_reg': 20,\n",
       "  'unidad_01': 183,\n",
       "  'unidad_02': 'EL IMPERIO--TUFIÑO',\n",
       "  'unidad_03': 13763,\n",
       "  'unidad_04': 'TUFINO SCHWENK RUBEN DARIO',\n",
       "  'unidad_05': 'L2.2',\n",
       "  'area': 8.55,\n",
       "  'fecha_ini': '2024-04-08',\n",
       "  'origen': 'SIEMBRA 2024',\n",
       "  'geometry': '0106000020E61000000100000001030000000100000009000000FEA7B3FBC1AB4FC0ACCB884C8E5131C0288B4DF7C3AB4FC09447A2F38E5131C0944158C9C4AB4FC0F848CBB08E5131C0060F3C19F7AB4FC0E4259E8B3E5131C08A1C528DBCAB4FC0248EEF57A65031C0E678E9FD6EAB4FC060E436A0225131C0D84D4EF2A2AB4FC0FC3CC740615131C0F0708DF0A8AB4FC0A048EE77695131C0FEA7B3FBC1AB4FC0ACCB884C8E5131C0'},\n",
       " {'sem_reg': 20,\n",
       "  'unidad_01': 183,\n",
       "  'unidad_02': 'EL IMPERIO--TUFIÑO',\n",
       "  'unidad_03': 13763,\n",
       "  'unidad_04': 'TUFINO SCHWENK RUBEN DARIO',\n",
       "  'unidad_05': 'L4.1',\n",
       "  'area': 3.0,\n",
       "  'fecha_ini': '2024-04-08',\n",
       "  'origen': 'SIEMBRA 2024',\n",
       "  'geometry': '0106000020E61000000100000001030000000100000007000000BE97B91FC6AA4FC0F8349C3D6A5131C040D8DCD5AFAA4FC00C81E12B695131C0420E0F50C3AA4FC08CFB845C145131C028009364BAAA4FC01029D5310F5131C0DA4CB723CAAA4FC05CE6AD7CA25031C02E9DEDB6EDAA4FC070480BEAA25031C0BE97B91FC6AA4FC0F8349C3D6A5131C0'},\n",
       " {'sem_reg': 20,\n",
       "  'unidad_01': 183,\n",
       "  'unidad_02': 'EL IMPERIO--TUFIÑO',\n",
       "  'unidad_03': 13763,\n",
       "  'unidad_04': 'TUFINO SCHWENK RUBEN DARIO',\n",
       "  'unidad_05': 'L3.3',\n",
       "  'area': 2.18,\n",
       "  'fecha_ini': '2024-04-09',\n",
       "  'origen': 'SIEMBRA 2024',\n",
       "  'geometry': '0106000020E6100000010000000103000000010000000A000000AE74560AC8AA4FC02C6D73086B5131C00E9E2662D0AA4FC078C088F3415131C088BC801DD1AA4FC0BC162FB73F5131C0B42B0977FDAA4FC0BC758DE03E5131C09E579E7E19AB4FC05414A74A4C5131C00E17DF1335AB4FC06CE27C0E575131C0846CF9EE40AB4FC0F4C5FB72655131C0380F2E2741AB4FC0044CA02D6B5131C072E3B22914AB4FC0E81146DA695131C0AE74560AC8AA4FC02C6D73086B5131C0'}]"
      ]
     },
     "execution_count": 9,
     "metadata": {},
     "output_type": "execute_result"
    }
   ],
   "source": [
    "data"
   ]
  },
  {
   "cell_type": "code",
   "execution_count": null,
   "id": "d9942862-d08b-4824-8c8c-7fd6f06faf34",
   "metadata": {},
   "outputs": [],
   "source": []
  },
  {
   "cell_type": "code",
   "execution_count": null,
   "id": "24ed63ec-08e5-45d0-9572-55c522d57b77",
   "metadata": {},
   "outputs": [],
   "source": []
  },
  {
   "cell_type": "code",
   "execution_count": 276,
   "id": "92b8d2eb-f8c9-4589-aed0-c48dc9ba7e39",
   "metadata": {},
   "outputs": [],
   "source": [
    "df = pd.DataFrame(data)\n",
    "df['geometry'] = df['geometry'].apply(convertir_wkb)\n",
    "data = gpd.GeoDataFrame(df, geometry='geometry', crs='EPSG:4326')\n",
    "gdf_utm = data.to_crs('EPSG:32720')\n",
    "gdf_utm['fecha_ini'] = pd.to_datetime(gdf_utm['fecha_ini'])\n",
    "now = datetime.now()\n",
    "gdf_utm['dias'] = (now - gdf_utm['fecha_ini']).dt.days\n",
    "gdf_utm['fecha_ini'] = gdf_utm['fecha_ini'].dt.strftime('%Y-%m-%d')"
   ]
  },
  {
   "cell_type": "code",
   "execution_count": 216,
   "id": "08db5591-d297-4a5d-86e2-738e3a3db3cf",
   "metadata": {},
   "outputs": [],
   "source": [
    "#file_name = r'G:\\Ingenio Azucarero Guabira S.A\\UTEA - SEMANAL - EQUIPO AVIACION UTEA\\Trichogramma\\2024\\SHP\\SIEMBRAS.shp'\n",
    "\n",
    "# Exporta el GeoDataFrame como un shapefile\n",
    "#gdf_utm.to_file(file_name)"
   ]
  },
  {
   "cell_type": "code",
   "execution_count": 290,
   "id": "88473c08-cf9d-47e3-ab85-76fa65073717",
   "metadata": {},
   "outputs": [],
   "source": [
    "file_name = r'G:\\Ingenio Azucarero Guabira S.A\\UTEA - SEMANAL - EQUIPO AVIACION UTEA\\Trichogramma\\2024\\SHP\\SIEMBRAS.shp'\n",
    "gdf_siembras = gpd.read_file(file_name)\n",
    "gdf_siembras = pd.concat([gdf_siembras, gdf_utm], ignore_index=True)\n",
    "gdf_siembras.to_file(file_name)"
   ]
  },
  {
   "cell_type": "code",
   "execution_count": 291,
   "id": "8826d251-e0eb-4387-835e-b521edd9ad12",
   "metadata": {},
   "outputs": [],
   "source": []
  },
  {
   "cell_type": "code",
   "execution_count": 293,
   "id": "402137e3-3c5b-4d1c-95af-ebee39c4bf01",
   "metadata": {},
   "outputs": [],
   "source": []
  },
  {
   "cell_type": "code",
   "execution_count": 295,
   "id": "3d9e4d5c-3cc0-425c-8df6-00a357b7f2bf",
   "metadata": {},
   "outputs": [],
   "source": []
  },
  {
   "cell_type": "code",
   "execution_count": null,
   "id": "2bfa287a-5e0f-44b3-a8b3-5efb74fd9f27",
   "metadata": {},
   "outputs": [],
   "source": []
  },
  {
   "cell_type": "code",
   "execution_count": null,
   "id": "ff8a64b4-ac51-4c49-89ee-128baae13fad",
   "metadata": {},
   "outputs": [],
   "source": []
  },
  {
   "cell_type": "code",
   "execution_count": null,
   "id": "436a2748-b34f-4d81-adf7-0792f6dc47ba",
   "metadata": {},
   "outputs": [],
   "source": []
  }
 ],
 "metadata": {
  "kernelspec": {
   "display_name": "Python 3 (ipykernel)",
   "language": "python",
   "name": "python3"
  },
  "language_info": {
   "codemirror_mode": {
    "name": "ipython",
    "version": 3
   },
   "file_extension": ".py",
   "mimetype": "text/x-python",
   "name": "python",
   "nbconvert_exporter": "python",
   "pygments_lexer": "ipython3",
   "version": "3.10.13"
  }
 },
 "nbformat": 4,
 "nbformat_minor": 5
}
