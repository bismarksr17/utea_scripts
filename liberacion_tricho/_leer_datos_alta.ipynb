{
 "cells": [
  {
   "cell_type": "code",
   "execution_count": 2,
   "id": "22a448a7-81eb-42ce-b7a6-3f70acc544cb",
   "metadata": {},
   "outputs": [],
   "source": [
    "import os\n",
    "\n",
    "import pandas as pd\n",
    "import geopandas as gpd\n",
    "from shapely.geometry import Point"
   ]
  },
  {
   "cell_type": "code",
   "execution_count": 3,
   "id": "6a25bf8c-ef4f-4cb5-8d1a-c2ab0e4a3a19",
   "metadata": {},
   "outputs": [],
   "source": [
    "from pyproj import CRS"
   ]
  },
  {
   "cell_type": "code",
   "execution_count": 4,
   "id": "60ea2998-5f60-4c51-8ff6-c9b5044c2f44",
   "metadata": {},
   "outputs": [],
   "source": [
    "data = pd.read_csv(r'C:/Users/Usuario/Downloads/drive-download-20240628T144500Z-001/2024-06-27 08-47-20 vehicle1.csv')"
   ]
  },
  {
   "cell_type": "code",
   "execution_count": null,
   "id": "bfc528da-ca45-4d4a-a5e4-9080eca7c78f",
   "metadata": {},
   "outputs": [],
   "source": []
  },
  {
   "cell_type": "code",
   "execution_count": 5,
   "id": "7646d5c5-373b-432d-a01c-227c65faf6a4",
   "metadata": {},
   "outputs": [],
   "source": [
    "def log_alta_to_shp(data, name, path_res):\n",
    "    data_vuelo = data[['Timestamp', 'gps.lat', 'gps.lon']]\n",
    "    data_vuelo = data_vuelo[data_vuelo['gps.lat'] != 0]\n",
    "    geometry = [Point(xy) for xy in zip(data_vuelo['gps.lon'], data_vuelo['gps.lat'])]\n",
    "    geo_df = gpd.GeoDataFrame(data_vuelo['Timestamp'], geometry=geometry, crs='EPSG:4326')\n",
    "    crs_utm_20s = CRS(\"EPSG:32720\")\n",
    "    # Transformar las coordenadas al sistema UTM zona 20S\n",
    "    gdf_utm = geo_df.to_crs(crs_utm_20s)\n",
    "    gdf_utm.to_file(path_res + '/' + name + '.shp', driver='ESRI Shapefile')"
   ]
  },
  {
   "cell_type": "code",
   "execution_count": null,
   "id": "e83d959f-12c5-4865-8c2a-2c42a7ccae86",
   "metadata": {},
   "outputs": [],
   "source": []
  },
  {
   "cell_type": "code",
   "execution_count": 6,
   "id": "87f25c9e-3f5c-43bb-952b-c33c3b509cab",
   "metadata": {},
   "outputs": [],
   "source": [
    "path_log = 'G:/Ingenio Azucarero Guabira S.A/UTEA - SEMANAL - EQUIPO AVIACION UTEA/Trichogramma/log_vuelo_2025/logs03'\n",
    "path_res = 'G:/Ingenio Azucarero Guabira S.A/UTEA - SEMANAL - EQUIPO AVIACION UTEA/Trichogramma/log_vuelo_2025/logs03_shp'"
   ]
  },
  {
   "cell_type": "code",
   "execution_count": 7,
   "id": "cd649841-bc3f-4d98-92d4-24d1c63899ab",
   "metadata": {},
   "outputs": [
    {
     "data": {
      "text/plain": [
       "11"
      ]
     },
     "execution_count": 7,
     "metadata": {},
     "output_type": "execute_result"
    }
   ],
   "source": [
    "contenido = os.listdir(path_log)\n",
    "len(contenido)"
   ]
  },
  {
   "cell_type": "code",
   "execution_count": 8,
   "id": "bf4f30ab-b7a9-4fdf-a750-28a661aa7ce8",
   "metadata": {},
   "outputs": [
    {
     "data": {
      "text/plain": [
       "['2024-06-27 08-47-20 vehicle1.csv',\n",
       " '2024-06-27 09-43-27 vehicle1.csv',\n",
       " '2024-06-27 10-24-01 vehicle1.csv',\n",
       " '2024-06-27 11-54-38 vehicle1.csv',\n",
       " '2024-06-27 12-55-27 vehicle1.csv',\n",
       " '2024-06-27 13-09-01 vehicle1.csv',\n",
       " '2024-06-27 14-23-56 vehicle1.csv',\n",
       " '2024-06-27 14-57-52 vehicle1.csv',\n",
       " '2024-06-27 16-42-43 vehicle1.csv',\n",
       " '2024-06-27 18-41-11 vehicle1.csv',\n",
       " '2024-06-27 19-08-42 vehicle1.csv']"
      ]
     },
     "execution_count": 8,
     "metadata": {},
     "output_type": "execute_result"
    }
   ],
   "source": [
    "contenido"
   ]
  },
  {
   "cell_type": "code",
   "execution_count": 9,
   "id": "d2e5fae4-eada-4899-bdb7-ded030e8c328",
   "metadata": {},
   "outputs": [],
   "source": [
    "for i in contenido:\n",
    "    data = pd.read_csv(path_log + '/' + i)\n",
    "    log_alta_to_shp(data, i.split('.')[0], path_res)"
   ]
  },
  {
   "cell_type": "code",
   "execution_count": null,
   "id": "0a668650-29e5-4421-838c-b7d702d9a1c1",
   "metadata": {},
   "outputs": [],
   "source": []
  },
  {
   "cell_type": "code",
   "execution_count": null,
   "id": "c210544a-69f6-4acc-bc8c-0d12b62acaea",
   "metadata": {},
   "outputs": [],
   "source": []
  },
  {
   "cell_type": "code",
   "execution_count": null,
   "id": "bb5ca01c-b3c5-4840-9322-f7d4b5d17757",
   "metadata": {},
   "outputs": [],
   "source": []
  },
  {
   "cell_type": "code",
   "execution_count": null,
   "id": "037b3bb5-5836-4654-a4fb-35e866b2fa0c",
   "metadata": {},
   "outputs": [],
   "source": []
  },
  {
   "cell_type": "code",
   "execution_count": null,
   "id": "def232eb-9c83-4936-9ebf-b6517a4d3413",
   "metadata": {},
   "outputs": [],
   "source": []
  },
  {
   "cell_type": "code",
   "execution_count": 33,
   "id": "746a1933-1969-4a76-8baa-7bca00015f35",
   "metadata": {},
   "outputs": [],
   "source": [
    "data_vuelo = data[['Timestamp', 'gps.lat', 'gps.lon']]"
   ]
  },
  {
   "cell_type": "code",
   "execution_count": 51,
   "id": "f4084a12-cb96-4402-9f45-dca223680c3a",
   "metadata": {},
   "outputs": [],
   "source": [
    "data_vuelo = data_vuelo[data_vuelo['gps.lat'] != 0]"
   ]
  },
  {
   "cell_type": "code",
   "execution_count": null,
   "id": "7ed0ddb8-6af8-4ad8-b3fd-c3035a8eb142",
   "metadata": {},
   "outputs": [],
   "source": [
    "geometry = [Point(xy) for xy in zip(data_vuelo['gps.lon'], data_vuelo['gps.lat'])]\n",
    "geo_df = gpd.GeoDataFrame(data_vuelo['Timestamp'], geometry=geometry, crs='EPSG:4326')"
   ]
  },
  {
   "cell_type": "code",
   "execution_count": null,
   "id": "35571faa-3655-47c5-a8fe-55e06fe0a099",
   "metadata": {},
   "outputs": [],
   "source": [
    "crs_utm_20s = CRS(\"EPSG:32720\")\n",
    "# Transformar las coordenadas al sistema UTM zona 20S\n",
    "gdf_utm = geo_df.to_crs(crs_utm_20s)"
   ]
  },
  {
   "cell_type": "code",
   "execution_count": null,
   "id": "0cff721e-f45a-45b1-a968-aac2a4ee765a",
   "metadata": {},
   "outputs": [],
   "source": [
    "gdf_utm.to_file('vuelo4.shp', driver='ESRI Shapefile')"
   ]
  },
  {
   "cell_type": "code",
   "execution_count": null,
   "id": "2429b83e-6cf9-476d-a3ac-3b92cd38ad08",
   "metadata": {},
   "outputs": [],
   "source": []
  },
  {
   "cell_type": "code",
   "execution_count": null,
   "id": "0fd2aae3-cd66-47f2-b738-5d892c951c1c",
   "metadata": {},
   "outputs": [],
   "source": []
  },
  {
   "cell_type": "code",
   "execution_count": null,
   "id": "5a55b0c2-1843-45be-a876-53b396f21796",
   "metadata": {},
   "outputs": [],
   "source": []
  }
 ],
 "metadata": {
  "kernelspec": {
   "display_name": "Python 3 (ipykernel)",
   "language": "python",
   "name": "python3"
  },
  "language_info": {
   "codemirror_mode": {
    "name": "ipython",
    "version": 3
   },
   "file_extension": ".py",
   "mimetype": "text/x-python",
   "name": "python",
   "nbconvert_exporter": "python",
   "pygments_lexer": "ipython3",
   "version": "3.10.13"
  }
 },
 "nbformat": 4,
 "nbformat_minor": 5
}
