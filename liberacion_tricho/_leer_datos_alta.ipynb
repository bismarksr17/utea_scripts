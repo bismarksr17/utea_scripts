{
 "cells": [
  {
   "cell_type": "code",
   "execution_count": 2,
   "id": "22a448a7-81eb-42ce-b7a6-3f70acc544cb",
   "metadata": {},
   "outputs": [],
   "source": [
    "import os\n",
    "\n",
    "import pandas as pd\n",
    "import geopandas as gpd\n",
    "from shapely.geometry import Point"
   ]
  },
  {
   "cell_type": "code",
   "execution_count": 3,
   "id": "6a25bf8c-ef4f-4cb5-8d1a-c2ab0e4a3a19",
   "metadata": {},
   "outputs": [],
   "source": [
    "from pyproj import CRS"
   ]
  },
  {
   "cell_type": "code",
   "execution_count": null,
   "id": "bfc528da-ca45-4d4a-a5e4-9080eca7c78f",
   "metadata": {},
   "outputs": [],
   "source": []
  },
  {
   "cell_type": "code",
   "execution_count": 35,
   "id": "7646d5c5-373b-432d-a01c-227c65faf6a4",
   "metadata": {},
   "outputs": [],
   "source": [
    "def log_alta_to_shp_2(data, name, path_res):\n",
    "    data_vuelo = data[['Timestamp', 'gps.lat', 'gps.lon', 'gps.count', 'terrain.blocksLoaded']]\n",
    "    data_vuelo = data_vuelo[data_vuelo['gps.lat'] != 0]\n",
    "    geometry = [Point(xy) for xy in zip(data_vuelo['gps.lon'], data_vuelo['gps.lat'])]\n",
    "    \n",
    "    #data_vuelo = data_vuelo.assign(geometry=geometry)\n",
    "    #geo_df = gpd.GeoDataFrame(data_vuelo, geometry='geometry', crs='EPSG:4326')\n",
    "    geo_df = gpd.GeoDataFrame(data_vuelo['Timestamp'], geometry=geometry, crs='EPSG:4326')\n",
    "    \n",
    "    crs_utm_20s = CRS(\"EPSG:32720\")\n",
    "    # Transformar las coordenadas al sistema UTM zona 20S\n",
    "    gdf_utm = geo_df.to_crs(crs_utm_20s)\n",
    "    gdf_utm.to_file(path_res + '/' + name + '.shp', driver='ESRI Shapefile')"
   ]
  },
  {
   "cell_type": "code",
   "execution_count": null,
   "id": "e83d959f-12c5-4865-8c2a-2c42a7ccae86",
   "metadata": {},
   "outputs": [],
   "source": []
  },
  {
   "cell_type": "code",
   "execution_count": 46,
   "id": "6924e34d-7cf7-4cf8-a442-f084c7b53c15",
   "metadata": {},
   "outputs": [],
   "source": [
    "def log_alta_to_shp(data, name, path_res):\n",
    "    # Seleccionar las columnas relevantes\n",
    "    data_vuelo = data[['Timestamp', 'gps.lat', 'gps.lon', 'gps.count', 'gps.vdop', 'terrain.blocksLoaded']]\n",
    "    \n",
    "    # Filtrar datos para eliminar registros con coordenadas GPS nulas\n",
    "    data_vuelo = data_vuelo[data_vuelo['gps.lat'] != 0]\n",
    "    \n",
    "    # Crear geometría de puntos a partir de las coordenadas GPS\n",
    "    geometry = [Point(xy) for xy in zip(data_vuelo['gps.lon'], data_vuelo['gps.lat'])]\n",
    "    \n",
    "    # Añadir la geometría al DataFrame original\n",
    "    data_vuelo = data_vuelo.assign(geometry=geometry)\n",
    "    \n",
    "    data_vuelo = data_vuelo.rename(columns={\n",
    "        'Timestamp': 'Time',\n",
    "        'gps.lat': 'Lat',\n",
    "        'gps.lon': 'Lon',\n",
    "        'gps.count': 'Count',\n",
    "        'terrain.blocksLoaded': 'Blocks',\n",
    "        'gps.vdop': 'vdop'\n",
    "    })\n",
    "    \n",
    "    # Crear GeoDataFrame con todas las columnas del DataFrame original y el CRS WGS 84\n",
    "    geo_df = gpd.GeoDataFrame(data_vuelo, geometry='geometry', crs='EPSG:4326')\n",
    "    \n",
    "    # Definir el CRS UTM Zona 20S\n",
    "    crs_utm_20s = CRS(\"EPSG:32720\")\n",
    "    \n",
    "    # Transformar las coordenadas al sistema UTM zona 20S\n",
    "    gdf_utm = geo_df.to_crs(crs_utm_20s)\n",
    "    \n",
    "    # Guardar el GeoDataFrame como un archivo shapefile\n",
    "    gdf_utm.to_file(f'{path_res}/{name}.shp', driver='ESRI Shapefile')"
   ]
  },
  {
   "cell_type": "code",
   "execution_count": null,
   "id": "6715aaae-efd2-4884-9c7a-f11ad63b237a",
   "metadata": {},
   "outputs": [],
   "source": []
  },
  {
   "cell_type": "code",
   "execution_count": null,
   "id": "ce64e2b6-5f7c-4e15-bdf2-a8d38b14317f",
   "metadata": {},
   "outputs": [],
   "source": []
  },
  {
   "cell_type": "code",
   "execution_count": null,
   "id": "471a58e2-7e57-4c39-9f66-2901e67bad16",
   "metadata": {},
   "outputs": [],
   "source": []
  },
  {
   "cell_type": "code",
   "execution_count": null,
   "id": "c9e92a72-9118-4c48-b92e-b280b85646e0",
   "metadata": {},
   "outputs": [],
   "source": []
  },
  {
   "cell_type": "code",
   "execution_count": null,
   "id": "63d01d73-1424-4d83-97ca-305563d13c29",
   "metadata": {},
   "outputs": [],
   "source": []
  },
  {
   "cell_type": "code",
   "execution_count": null,
   "id": "de8ea407-3f41-44cd-b259-806d47648985",
   "metadata": {},
   "outputs": [],
   "source": []
  },
  {
   "cell_type": "code",
   "execution_count": 39,
   "id": "87f25c9e-3f5c-43bb-952b-c33c3b509cab",
   "metadata": {},
   "outputs": [],
   "source": [
    "path_log = 'C:/Documents/Ingenio Azucarero Guabira S.A/UTEA - SEMANAL - EQUIPO AVIACION UTEA/Trichogramma/log_vuelo_2025/logs03'\n",
    "path_res = 'C:/Documents/Ingenio Azucarero Guabira S.A/UTEA - SEMANAL - EQUIPO AVIACION UTEA/Trichogramma/log_vuelo_2025/logs03_shp'"
   ]
  },
  {
   "cell_type": "code",
   "execution_count": 40,
   "id": "cd649841-bc3f-4d98-92d4-24d1c63899ab",
   "metadata": {},
   "outputs": [
    {
     "data": {
      "text/plain": [
       "11"
      ]
     },
     "execution_count": 40,
     "metadata": {},
     "output_type": "execute_result"
    }
   ],
   "source": [
    "contenido = os.listdir(path_log)\n",
    "len(contenido)"
   ]
  },
  {
   "cell_type": "code",
   "execution_count": 41,
   "id": "bf4f30ab-b7a9-4fdf-a750-28a661aa7ce8",
   "metadata": {},
   "outputs": [
    {
     "data": {
      "text/plain": [
       "['2024-06-27 08-47-20 vehicle1.csv',\n",
       " '2024-06-27 09-43-27 vehicle1.csv',\n",
       " '2024-06-27 10-24-01 vehicle1.csv',\n",
       " '2024-06-27 11-54-38 vehicle1.csv',\n",
       " '2024-06-27 12-55-27 vehicle1.csv',\n",
       " '2024-06-27 13-09-01 vehicle1.csv',\n",
       " '2024-06-27 14-23-56 vehicle1.csv',\n",
       " '2024-06-27 14-57-52 vehicle1.csv',\n",
       " '2024-06-27 16-42-43 vehicle1.csv',\n",
       " '2024-06-27 18-41-11 vehicle1.csv',\n",
       " '2024-06-27 19-08-42 vehicle1.csv']"
      ]
     },
     "execution_count": 41,
     "metadata": {},
     "output_type": "execute_result"
    }
   ],
   "source": [
    "contenido"
   ]
  },
  {
   "cell_type": "code",
   "execution_count": null,
   "id": "2573f2c6-0069-4cf9-86ab-a75887085921",
   "metadata": {},
   "outputs": [],
   "source": []
  },
  {
   "cell_type": "code",
   "execution_count": 10,
   "id": "af7ea3fa-7121-4aad-93c7-c1cb880e5ca9",
   "metadata": {},
   "outputs": [],
   "source": [
    "data = pd.read_csv(path_log + '/' + '2024-06-27 08-47-20 vehicle1.csv')"
   ]
  },
  {
   "cell_type": "code",
   "execution_count": 12,
   "id": "adf63611-285d-49ae-b969-ef41ce4bb099",
   "metadata": {},
   "outputs": [],
   "source": [
    "data_vuelo = data[['Timestamp', 'gps.lat', 'gps.lon']]"
   ]
  },
  {
   "cell_type": "code",
   "execution_count": 13,
   "id": "fb0c2b65-8d70-4477-8a2b-386bbfb16224",
   "metadata": {},
   "outputs": [
    {
     "data": {
      "text/html": [
       "<div>\n",
       "<style scoped>\n",
       "    .dataframe tbody tr th:only-of-type {\n",
       "        vertical-align: middle;\n",
       "    }\n",
       "\n",
       "    .dataframe tbody tr th {\n",
       "        vertical-align: top;\n",
       "    }\n",
       "\n",
       "    .dataframe thead th {\n",
       "        text-align: right;\n",
       "    }\n",
       "</style>\n",
       "<table border=\"1\" class=\"dataframe\">\n",
       "  <thead>\n",
       "    <tr style=\"text-align: right;\">\n",
       "      <th></th>\n",
       "      <th>Timestamp</th>\n",
       "      <th>gps.lat</th>\n",
       "      <th>gps.lon</th>\n",
       "    </tr>\n",
       "  </thead>\n",
       "  <tbody>\n",
       "    <tr>\n",
       "      <th>0</th>\n",
       "      <td>2024-06-27 08:47:20.221</td>\n",
       "      <td>-17.296912</td>\n",
       "      <td>-62.967745</td>\n",
       "    </tr>\n",
       "    <tr>\n",
       "      <th>1</th>\n",
       "      <td>2024-06-27 08:47:21.184</td>\n",
       "      <td>-17.296912</td>\n",
       "      <td>-62.967745</td>\n",
       "    </tr>\n",
       "    <tr>\n",
       "      <th>2</th>\n",
       "      <td>2024-06-27 08:47:22.181</td>\n",
       "      <td>-17.296912</td>\n",
       "      <td>-62.967744</td>\n",
       "    </tr>\n",
       "    <tr>\n",
       "      <th>3</th>\n",
       "      <td>2024-06-27 08:47:23.209</td>\n",
       "      <td>-17.296912</td>\n",
       "      <td>-62.967744</td>\n",
       "    </tr>\n",
       "    <tr>\n",
       "      <th>4</th>\n",
       "      <td>2024-06-27 08:47:24.183</td>\n",
       "      <td>-17.296912</td>\n",
       "      <td>-62.967745</td>\n",
       "    </tr>\n",
       "    <tr>\n",
       "      <th>...</th>\n",
       "      <td>...</td>\n",
       "      <td>...</td>\n",
       "      <td>...</td>\n",
       "    </tr>\n",
       "    <tr>\n",
       "      <th>3076</th>\n",
       "      <td>2024-06-27 09:41:42.747</td>\n",
       "      <td>-17.296920</td>\n",
       "      <td>-62.967763</td>\n",
       "    </tr>\n",
       "    <tr>\n",
       "      <th>3077</th>\n",
       "      <td>2024-06-27 09:41:43.739</td>\n",
       "      <td>-17.296920</td>\n",
       "      <td>-62.967763</td>\n",
       "    </tr>\n",
       "    <tr>\n",
       "      <th>3078</th>\n",
       "      <td>2024-06-27 09:41:44.748</td>\n",
       "      <td>-17.296920</td>\n",
       "      <td>-62.967763</td>\n",
       "    </tr>\n",
       "    <tr>\n",
       "      <th>3079</th>\n",
       "      <td>2024-06-27 09:41:45.741</td>\n",
       "      <td>-17.296920</td>\n",
       "      <td>-62.967763</td>\n",
       "    </tr>\n",
       "    <tr>\n",
       "      <th>3080</th>\n",
       "      <td>2024-06-27 09:41:46.739</td>\n",
       "      <td>-17.296920</td>\n",
       "      <td>-62.967763</td>\n",
       "    </tr>\n",
       "  </tbody>\n",
       "</table>\n",
       "<p>3081 rows × 3 columns</p>\n",
       "</div>"
      ],
      "text/plain": [
       "                    Timestamp    gps.lat    gps.lon\n",
       "0     2024-06-27 08:47:20.221 -17.296912 -62.967745\n",
       "1     2024-06-27 08:47:21.184 -17.296912 -62.967745\n",
       "2     2024-06-27 08:47:22.181 -17.296912 -62.967744\n",
       "3     2024-06-27 08:47:23.209 -17.296912 -62.967744\n",
       "4     2024-06-27 08:47:24.183 -17.296912 -62.967745\n",
       "...                       ...        ...        ...\n",
       "3076  2024-06-27 09:41:42.747 -17.296920 -62.967763\n",
       "3077  2024-06-27 09:41:43.739 -17.296920 -62.967763\n",
       "3078  2024-06-27 09:41:44.748 -17.296920 -62.967763\n",
       "3079  2024-06-27 09:41:45.741 -17.296920 -62.967763\n",
       "3080  2024-06-27 09:41:46.739 -17.296920 -62.967763\n",
       "\n",
       "[3081 rows x 3 columns]"
      ]
     },
     "execution_count": 13,
     "metadata": {},
     "output_type": "execute_result"
    }
   ],
   "source": [
    "data_vuelo"
   ]
  },
  {
   "cell_type": "code",
   "execution_count": null,
   "id": "b6a236f9-6edd-4f00-a57a-29996c8cead3",
   "metadata": {},
   "outputs": [],
   "source": []
  },
  {
   "cell_type": "code",
   "execution_count": null,
   "id": "2ba05266-6c2b-4aff-998c-a6d537d53d44",
   "metadata": {},
   "outputs": [],
   "source": []
  },
  {
   "cell_type": "code",
   "execution_count": null,
   "id": "81cb615e-ea1c-4f70-a63e-50ee1da50f3f",
   "metadata": {},
   "outputs": [],
   "source": []
  },
  {
   "cell_type": "code",
   "execution_count": null,
   "id": "c1f28759-73aa-487b-8877-0d4049725fc6",
   "metadata": {},
   "outputs": [],
   "source": []
  },
  {
   "cell_type": "code",
   "execution_count": 47,
   "id": "d2e5fae4-eada-4899-bdb7-ded030e8c328",
   "metadata": {},
   "outputs": [],
   "source": [
    "for i in contenido:\n",
    "    data = pd.read_csv(path_log + '/' + i)\n",
    "    log_alta_to_shp(data, i.split('.')[0], path_res)"
   ]
  },
  {
   "cell_type": "code",
   "execution_count": null,
   "id": "0a668650-29e5-4421-838c-b7d702d9a1c1",
   "metadata": {},
   "outputs": [],
   "source": []
  },
  {
   "cell_type": "code",
   "execution_count": null,
   "id": "c210544a-69f6-4acc-bc8c-0d12b62acaea",
   "metadata": {},
   "outputs": [],
   "source": []
  },
  {
   "cell_type": "code",
   "execution_count": null,
   "id": "bb5ca01c-b3c5-4840-9322-f7d4b5d17757",
   "metadata": {},
   "outputs": [],
   "source": []
  },
  {
   "cell_type": "code",
   "execution_count": null,
   "id": "037b3bb5-5836-4654-a4fb-35e866b2fa0c",
   "metadata": {},
   "outputs": [],
   "source": []
  },
  {
   "cell_type": "code",
   "execution_count": null,
   "id": "def232eb-9c83-4936-9ebf-b6517a4d3413",
   "metadata": {},
   "outputs": [],
   "source": []
  },
  {
   "cell_type": "code",
   "execution_count": 33,
   "id": "746a1933-1969-4a76-8baa-7bca00015f35",
   "metadata": {},
   "outputs": [],
   "source": [
    "data_vuelo = data[['Timestamp', 'gps.lat', 'gps.lon']]"
   ]
  },
  {
   "cell_type": "code",
   "execution_count": 51,
   "id": "f4084a12-cb96-4402-9f45-dca223680c3a",
   "metadata": {},
   "outputs": [],
   "source": [
    "data_vuelo = data_vuelo[data_vuelo['gps.lat'] != 0]"
   ]
  },
  {
   "cell_type": "code",
   "execution_count": null,
   "id": "7ed0ddb8-6af8-4ad8-b3fd-c3035a8eb142",
   "metadata": {},
   "outputs": [],
   "source": [
    "geometry = [Point(xy) for xy in zip(data_vuelo['gps.lon'], data_vuelo['gps.lat'])]\n",
    "geo_df = gpd.GeoDataFrame(data_vuelo['Timestamp'], geometry=geometry, crs='EPSG:4326')"
   ]
  },
  {
   "cell_type": "code",
   "execution_count": null,
   "id": "35571faa-3655-47c5-a8fe-55e06fe0a099",
   "metadata": {},
   "outputs": [],
   "source": [
    "crs_utm_20s = CRS(\"EPSG:32720\")\n",
    "# Transformar las coordenadas al sistema UTM zona 20S\n",
    "gdf_utm = geo_df.to_crs(crs_utm_20s)"
   ]
  },
  {
   "cell_type": "code",
   "execution_count": null,
   "id": "0cff721e-f45a-45b1-a968-aac2a4ee765a",
   "metadata": {},
   "outputs": [],
   "source": [
    "gdf_utm.to_file('vuelo4.shp', driver='ESRI Shapefile')"
   ]
  },
  {
   "cell_type": "code",
   "execution_count": null,
   "id": "2429b83e-6cf9-476d-a3ac-3b92cd38ad08",
   "metadata": {},
   "outputs": [],
   "source": []
  },
  {
   "cell_type": "code",
   "execution_count": null,
   "id": "0fd2aae3-cd66-47f2-b738-5d892c951c1c",
   "metadata": {},
   "outputs": [],
   "source": []
  },
  {
   "cell_type": "code",
   "execution_count": null,
   "id": "5a55b0c2-1843-45be-a876-53b396f21796",
   "metadata": {},
   "outputs": [],
   "source": []
  }
 ],
 "metadata": {
  "kernelspec": {
   "display_name": "Python 3 (ipykernel)",
   "language": "python",
   "name": "python3"
  },
  "language_info": {
   "codemirror_mode": {
    "name": "ipython",
    "version": 3
   },
   "file_extension": ".py",
   "mimetype": "text/x-python",
   "name": "python",
   "nbconvert_exporter": "python",
   "pygments_lexer": "ipython3",
   "version": "3.10.13"
  }
 },
 "nbformat": 4,
 "nbformat_minor": 5
}
