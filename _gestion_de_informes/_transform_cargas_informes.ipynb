{
 "cells": [
  {
   "cell_type": "code",
   "execution_count": 2,
   "id": "76ff372f-45c3-44f3-8e52-b20ae0763598",
   "metadata": {},
   "outputs": [],
   "source": [
    "import sys\n",
    "sys.path.append('../_amigocloud')\n",
    "\n",
    "from amigocloud import AmigoCloud\n",
    "from docx import Document\n",
    "from docx2pdf import convert\n",
    "import os\n",
    "import json\n",
    "\n",
    "# CONEXIÓN A GOOGLE DRIVE\n",
    "from pydrive.auth import GoogleAuth\n",
    "from pydrive.drive import GoogleDrive\n",
    "import os\n",
    "\n",
    "gauth = GoogleAuth()\n",
    "\n",
    "# Si existe el archivo, intenta cargarlo\n",
    "if os.path.exists(\"mycreds.txt\"):\n",
    "    gauth.LoadCredentialsFile(\"mycreds.txt\")\n",
    "\n",
    "# Si no hay credenciales o son inválidas, forzar nueva autenticación\n",
    "if gauth.credentials is None or gauth.access_token_expired:\n",
    "    try:\n",
    "        gauth.LocalWebserverAuth()\n",
    "    except:\n",
    "        print(\"Error de autenticación. Eliminá 'mycreds.txt' y volvé a intentarlo.\")\n",
    "else:\n",
    "    gauth.Authorize()\n",
    "\n",
    "gauth.SaveCredentialsFile(\"mycreds.txt\")\n",
    "drive = GoogleDrive(gauth)"
   ]
  },
  {
   "cell_type": "code",
   "execution_count": 3,
   "id": "493529d7-0454-40b9-9038-7081368824f4",
   "metadata": {},
   "outputs": [],
   "source": [
    "def get_unidad_local():\n",
    "    try:\n",
    "        # ruta del archivo que contiene la información necesaria\n",
    "        with open('../../unidad_local.txt', 'r') as file:\n",
    "            unidad = file.readline().strip()\n",
    "            return unidad\n",
    "    except FileNotFoundError:\n",
    "        print(\"El archivo 'unidad_local.txt' no se encuentra en la ruta especificada.\")\n",
    "    return None\n",
    "\n",
    "def get_ruta_local():\n",
    "    try:\n",
    "        with open('../ruta_local.txt', 'r') as file:\n",
    "            ruta = file.readline().strip()\n",
    "            return ruta\n",
    "    except FileNotFoundError:\n",
    "        print(\"El archivo 'ruta_local.txt' no se encuentra en la ruta especificada.\")\n",
    "    return None"
   ]
  },
  {
   "cell_type": "code",
   "execution_count": 4,
   "id": "042bd48f-7bbe-41ca-8fb2-9aa3fbd7d085",
   "metadata": {},
   "outputs": [],
   "source": [
    "def get_ruta_informes():\n",
    "    try:\n",
    "        with open('../../ruta_informes.txt', 'r') as file:\n",
    "            ruta_inf = file.readline().strip()\n",
    "            return ruta_inf\n",
    "    except FileNotFoundError:\n",
    "        print(\"El archivo 'ruta_local.txt' no se encuentra en la ruta especificada.\")\n",
    "    return None"
   ]
  },
  {
   "cell_type": "code",
   "execution_count": 5,
   "id": "650596a1-e808-48e8-8eb0-e9c86e4bb1b6",
   "metadata": {},
   "outputs": [],
   "source": [
    "def cargar_tokens(t_name, ruta_tkn):\n",
    "    with open(ruta_tkn, 'r') as f:\n",
    "        tokens = json.load(f)\n",
    "    return tokens.get(t_name)"
   ]
  },
  {
   "cell_type": "code",
   "execution_count": 6,
   "id": "4c118458-396f-4dd9-852a-ed0310522a20",
   "metadata": {},
   "outputs": [
    {
     "data": {
      "text/plain": [
       "<amigocloud.AmigoCloud at 0x1fb2bc4b460>"
      ]
     },
     "execution_count": 6,
     "metadata": {},
     "output_type": "execute_result"
    }
   ],
   "source": [
    "# RUTAS\n",
    "unidad = get_unidad_local()\n",
    "ruta = get_ruta_local()\n",
    "ruta_completa = os.path.join(unidad, ruta)\n",
    "ruta_completa\n",
    "\n",
    "ruta_informes = get_ruta_informes()\n",
    "directorio_origen = ruta_informes + r'\\_informes'\n",
    "directorio_destino = ruta_informes + r'\\_pdf'\n",
    "\n",
    "# tkns\n",
    "tkns = cargar_tokens('tkns_amigocloud', os.path.join(ruta_completa + r'\\_keys\\tkns.json'))\n",
    "tkn = tkns['cargar_informes']\n",
    "\n",
    "amigocloud = AmigoCloud(token=tkn)\n",
    "amigocloud"
   ]
  },
  {
   "cell_type": "code",
   "execution_count": null,
   "id": "9212c156-0f2b-4276-9575-f7928a06c756",
   "metadata": {},
   "outputs": [],
   "source": []
  },
  {
   "cell_type": "code",
   "execution_count": 7,
   "id": "8f2b75a2-0e90-4b26-9201-3cf627f5e687",
   "metadata": {},
   "outputs": [
    {
     "data": {
      "text/plain": [
       "'C:\\\\Users\\\\Usuario\\\\Desktop\\\\PYTHON\\\\_informes'"
      ]
     },
     "execution_count": 7,
     "metadata": {},
     "output_type": "execute_result"
    }
   ],
   "source": [
    "directorio_origen"
   ]
  },
  {
   "cell_type": "code",
   "execution_count": 8,
   "id": "7946d601-9d1c-4fcb-b049-56c3b71d7b91",
   "metadata": {},
   "outputs": [
    {
     "data": {
      "text/plain": [
       "'C:\\\\Users\\\\Usuario\\\\Desktop\\\\PYTHON\\\\_pdf'"
      ]
     },
     "execution_count": 8,
     "metadata": {},
     "output_type": "execute_result"
    }
   ],
   "source": [
    "directorio_destino"
   ]
  },
  {
   "cell_type": "code",
   "execution_count": 9,
   "id": "852c8c93-1556-41b8-a654-04798746224d",
   "metadata": {},
   "outputs": [],
   "source": [
    "# Recorre y convierte a pdf archivos .docx que no empiezan con \"_\"\n",
    "def convertir_docx_to_pdf():\n",
    "    for archivo in os.listdir(directorio_origen):\n",
    "        if archivo.lower().endswith(\".docx\") and not archivo.startswith(\"_\"):\n",
    "            ruta_docx = os.path.join(directorio_origen, archivo)\n",
    "            ruta_pdf = os.path.join(directorio_destino, archivo.replace(\".docx\", \".pdf\"))\n",
    "            \n",
    "            try:\n",
    "                convert(ruta_docx, ruta_pdf)\n",
    "                print(ruta_docx)\n",
    "                if os.path.exists(ruta_pdf):\n",
    "                    print(f\"✅ Convertido: {archivo}\")\n",
    "                    os.remove(ruta_docx)\n",
    "                    print(f\"🗑️ Eliminado original: {archivo}\")\n",
    "                else:\n",
    "                    print(f\"❌ Error: PDF no generado para {archivo}\")\n",
    "            except Exception as e:\n",
    "                print(f\"⚠️ Error al convertir {archivo}: {e}\")"
   ]
  },
  {
   "cell_type": "code",
   "execution_count": 10,
   "id": "93747933-e34a-4ad4-9407-b86213892048",
   "metadata": {},
   "outputs": [
    {
     "data": {
      "application/vnd.jupyter.widget-view+json": {
       "model_id": "88dc4dd9b6a34fb49af3fff10b3a1e30",
       "version_major": 2,
       "version_minor": 0
      },
      "text/plain": [
       "  0%|          | 0/1 [00:00<?, ?it/s]"
      ]
     },
     "metadata": {},
     "output_type": "display_data"
    },
    {
     "name": "stdout",
     "output_type": "stream",
     "text": [
      "C:\\Users\\Usuario\\Desktop\\PYTHON\\_informes\\10743_POSTIGO EDELFRIDA VASQUEZ DE.docx\n",
      "✅ Convertido: 10743_POSTIGO EDELFRIDA VASQUEZ DE.docx\n",
      "🗑️ Eliminado original: 10743_POSTIGO EDELFRIDA VASQUEZ DE.docx\n"
     ]
    },
    {
     "data": {
      "application/vnd.jupyter.widget-view+json": {
       "model_id": "1a9dc82e26c043468887e1e50eeeed83",
       "version_major": 2,
       "version_minor": 0
      },
      "text/plain": [
       "  0%|          | 0/1 [00:00<?, ?it/s]"
      ]
     },
     "metadata": {},
     "output_type": "display_data"
    },
    {
     "name": "stdout",
     "output_type": "stream",
     "text": [
      "C:\\Users\\Usuario\\Desktop\\PYTHON\\_informes\\11259_QUISPE ZURITA DELFIN.docx\n",
      "✅ Convertido: 11259_QUISPE ZURITA DELFIN.docx\n",
      "🗑️ Eliminado original: 11259_QUISPE ZURITA DELFIN.docx\n"
     ]
    },
    {
     "data": {
      "application/vnd.jupyter.widget-view+json": {
       "model_id": "472196e8376543c69a73cfa68e808274",
       "version_major": 2,
       "version_minor": 0
      },
      "text/plain": [
       "  0%|          | 0/1 [00:00<?, ?it/s]"
      ]
     },
     "metadata": {},
     "output_type": "display_data"
    },
    {
     "name": "stdout",
     "output_type": "stream",
     "text": [
      "C:\\Users\\Usuario\\Desktop\\PYTHON\\_informes\\1273_BALDELOMAR HIDALGO WILLY.docx\n",
      "✅ Convertido: 1273_BALDELOMAR HIDALGO WILLY.docx\n",
      "🗑️ Eliminado original: 1273_BALDELOMAR HIDALGO WILLY.docx\n"
     ]
    },
    {
     "data": {
      "application/vnd.jupyter.widget-view+json": {
       "model_id": "d5265113ba1e41baa775b939ab2c4e5c",
       "version_major": 2,
       "version_minor": 0
      },
      "text/plain": [
       "  0%|          | 0/1 [00:00<?, ?it/s]"
      ]
     },
     "metadata": {},
     "output_type": "display_data"
    },
    {
     "name": "stdout",
     "output_type": "stream",
     "text": [
      "C:\\Users\\Usuario\\Desktop\\PYTHON\\_informes\\12907_SOTO ROCHA BENJAMIN.docx\n",
      "✅ Convertido: 12907_SOTO ROCHA BENJAMIN.docx\n",
      "🗑️ Eliminado original: 12907_SOTO ROCHA BENJAMIN.docx\n"
     ]
    },
    {
     "data": {
      "application/vnd.jupyter.widget-view+json": {
       "model_id": "c44ac58d79c44dc08922f6e0a321c07c",
       "version_major": 2,
       "version_minor": 0
      },
      "text/plain": [
       "  0%|          | 0/1 [00:00<?, ?it/s]"
      ]
     },
     "metadata": {},
     "output_type": "display_data"
    },
    {
     "name": "stdout",
     "output_type": "stream",
     "text": [
      "C:\\Users\\Usuario\\Desktop\\PYTHON\\_informes\\13025_SALO SANTOS JUAN BAUTISTA.docx\n",
      "✅ Convertido: 13025_SALO SANTOS JUAN BAUTISTA.docx\n",
      "🗑️ Eliminado original: 13025_SALO SANTOS JUAN BAUTISTA.docx\n"
     ]
    },
    {
     "data": {
      "application/vnd.jupyter.widget-view+json": {
       "model_id": "eca085ef9bfa42ee8bbcf78518516c67",
       "version_major": 2,
       "version_minor": 0
      },
      "text/plain": [
       "  0%|          | 0/1 [00:00<?, ?it/s]"
      ]
     },
     "metadata": {},
     "output_type": "display_data"
    },
    {
     "name": "stdout",
     "output_type": "stream",
     "text": [
      "C:\\Users\\Usuario\\Desktop\\PYTHON\\_informes\\17691_GUZMAN MONTANO PEDRO WILMER.docx\n",
      "✅ Convertido: 17691_GUZMAN MONTANO PEDRO WILMER.docx\n",
      "🗑️ Eliminado original: 17691_GUZMAN MONTANO PEDRO WILMER.docx\n"
     ]
    },
    {
     "data": {
      "application/vnd.jupyter.widget-view+json": {
       "model_id": "88194a511c5949c79ebf70fa5770685f",
       "version_major": 2,
       "version_minor": 0
      },
      "text/plain": [
       "  0%|          | 0/1 [00:00<?, ?it/s]"
      ]
     },
     "metadata": {},
     "output_type": "display_data"
    },
    {
     "name": "stdout",
     "output_type": "stream",
     "text": [
      "C:\\Users\\Usuario\\Desktop\\PYTHON\\_informes\\18100_PERALES RODRIGUEZ ROGELIO.docx\n",
      "✅ Convertido: 18100_PERALES RODRIGUEZ ROGELIO.docx\n",
      "🗑️ Eliminado original: 18100_PERALES RODRIGUEZ ROGELIO.docx\n"
     ]
    },
    {
     "data": {
      "application/vnd.jupyter.widget-view+json": {
       "model_id": "0ba8a2d9e5854a7bbf4e94ae7db9d29e",
       "version_major": 2,
       "version_minor": 0
      },
      "text/plain": [
       "  0%|          | 0/1 [00:00<?, ?it/s]"
      ]
     },
     "metadata": {},
     "output_type": "display_data"
    },
    {
     "name": "stdout",
     "output_type": "stream",
     "text": [
      "C:\\Users\\Usuario\\Desktop\\PYTHON\\_informes\\2029_COLAMARINO DI SILVIO ANGELO.docx\n",
      "✅ Convertido: 2029_COLAMARINO DI SILVIO ANGELO.docx\n",
      "🗑️ Eliminado original: 2029_COLAMARINO DI SILVIO ANGELO.docx\n"
     ]
    },
    {
     "data": {
      "application/vnd.jupyter.widget-view+json": {
       "model_id": "e568b04fb3cb41e99cc61045a01e3b5c",
       "version_major": 2,
       "version_minor": 0
      },
      "text/plain": [
       "  0%|          | 0/1 [00:00<?, ?it/s]"
      ]
     },
     "metadata": {},
     "output_type": "display_data"
    },
    {
     "name": "stdout",
     "output_type": "stream",
     "text": [
      "C:\\Users\\Usuario\\Desktop\\PYTHON\\_informes\\3415_ESPINOZA VILLEGAS GERARDO.docx\n",
      "✅ Convertido: 3415_ESPINOZA VILLEGAS GERARDO.docx\n",
      "🗑️ Eliminado original: 3415_ESPINOZA VILLEGAS GERARDO.docx\n"
     ]
    },
    {
     "data": {
      "application/vnd.jupyter.widget-view+json": {
       "model_id": "717881333f3848c9ba5afd4b16fba1e1",
       "version_major": 2,
       "version_minor": 0
      },
      "text/plain": [
       "  0%|          | 0/1 [00:00<?, ?it/s]"
      ]
     },
     "metadata": {},
     "output_type": "display_data"
    },
    {
     "name": "stdout",
     "output_type": "stream",
     "text": [
      "C:\\Users\\Usuario\\Desktop\\PYTHON\\_informes\\40190_DURAN MERIDA CHARLES ROBERT.docx\n",
      "✅ Convertido: 40190_DURAN MERIDA CHARLES ROBERT.docx\n",
      "🗑️ Eliminado original: 40190_DURAN MERIDA CHARLES ROBERT.docx\n"
     ]
    },
    {
     "data": {
      "application/vnd.jupyter.widget-view+json": {
       "model_id": "08d6906f14f24f72a7c482f5dd450506",
       "version_major": 2,
       "version_minor": 0
      },
      "text/plain": [
       "  0%|          | 0/1 [00:00<?, ?it/s]"
      ]
     },
     "metadata": {},
     "output_type": "display_data"
    },
    {
     "name": "stdout",
     "output_type": "stream",
     "text": [
      "C:\\Users\\Usuario\\Desktop\\PYTHON\\_informes\\41822_AGUILERA ANTELO PRISCILA ROSSY.docx\n",
      "✅ Convertido: 41822_AGUILERA ANTELO PRISCILA ROSSY.docx\n",
      "🗑️ Eliminado original: 41822_AGUILERA ANTELO PRISCILA ROSSY.docx\n"
     ]
    },
    {
     "data": {
      "application/vnd.jupyter.widget-view+json": {
       "model_id": "8393b7cac1d846d7ae3145628639dc28",
       "version_major": 2,
       "version_minor": 0
      },
      "text/plain": [
       "  0%|          | 0/1 [00:00<?, ?it/s]"
      ]
     },
     "metadata": {},
     "output_type": "display_data"
    },
    {
     "name": "stdout",
     "output_type": "stream",
     "text": [
      "C:\\Users\\Usuario\\Desktop\\PYTHON\\_informes\\42098_AGUILERA ORTIZ SANTIAGO GUILLERMO.docx\n",
      "✅ Convertido: 42098_AGUILERA ORTIZ SANTIAGO GUILLERMO.docx\n",
      "🗑️ Eliminado original: 42098_AGUILERA ORTIZ SANTIAGO GUILLERMO.docx\n"
     ]
    },
    {
     "data": {
      "application/vnd.jupyter.widget-view+json": {
       "model_id": "4c66a694391f4328890f16c0c2c66142",
       "version_major": 2,
       "version_minor": 0
      },
      "text/plain": [
       "  0%|          | 0/1 [00:00<?, ?it/s]"
      ]
     },
     "metadata": {},
     "output_type": "display_data"
    },
    {
     "name": "stdout",
     "output_type": "stream",
     "text": [
      "C:\\Users\\Usuario\\Desktop\\PYTHON\\_informes\\42342_CUELLAR CHAVEZ ALEX JOSE.docx\n",
      "✅ Convertido: 42342_CUELLAR CHAVEZ ALEX JOSE.docx\n",
      "🗑️ Eliminado original: 42342_CUELLAR CHAVEZ ALEX JOSE.docx\n"
     ]
    },
    {
     "data": {
      "application/vnd.jupyter.widget-view+json": {
       "model_id": "1a473fa0a0ce421ba8e12aec9f129a69",
       "version_major": 2,
       "version_minor": 0
      },
      "text/plain": [
       "  0%|          | 0/1 [00:00<?, ?it/s]"
      ]
     },
     "metadata": {},
     "output_type": "display_data"
    },
    {
     "name": "stdout",
     "output_type": "stream",
     "text": [
      "C:\\Users\\Usuario\\Desktop\\PYTHON\\_informes\\4808_GUTIERREZ SOLIZ VICENTE.docx\n",
      "✅ Convertido: 4808_GUTIERREZ SOLIZ VICENTE.docx\n",
      "🗑️ Eliminado original: 4808_GUTIERREZ SOLIZ VICENTE.docx\n"
     ]
    },
    {
     "data": {
      "application/vnd.jupyter.widget-view+json": {
       "model_id": "69afa17c7c3644bbac965615b37775c7",
       "version_major": 2,
       "version_minor": 0
      },
      "text/plain": [
       "  0%|          | 0/1 [00:00<?, ?it/s]"
      ]
     },
     "metadata": {},
     "output_type": "display_data"
    },
    {
     "name": "stdout",
     "output_type": "stream",
     "text": [
      "C:\\Users\\Usuario\\Desktop\\PYTHON\\_informes\\7811_LOPEZ QUIROZ OMAR EDWIN.docx\n",
      "✅ Convertido: 7811_LOPEZ QUIROZ OMAR EDWIN.docx\n",
      "🗑️ Eliminado original: 7811_LOPEZ QUIROZ OMAR EDWIN.docx\n"
     ]
    },
    {
     "data": {
      "application/vnd.jupyter.widget-view+json": {
       "model_id": "f85c766b7c534fdf81f6b10daa6e39a3",
       "version_major": 2,
       "version_minor": 0
      },
      "text/plain": [
       "  0%|          | 0/1 [00:00<?, ?it/s]"
      ]
     },
     "metadata": {},
     "output_type": "display_data"
    },
    {
     "name": "stdout",
     "output_type": "stream",
     "text": [
      "C:\\Users\\Usuario\\Desktop\\PYTHON\\_informes\\8823_MERINO MEDRANO GUIDO.docx\n",
      "✅ Convertido: 8823_MERINO MEDRANO GUIDO.docx\n",
      "🗑️ Eliminado original: 8823_MERINO MEDRANO GUIDO.docx\n"
     ]
    },
    {
     "data": {
      "application/vnd.jupyter.widget-view+json": {
       "model_id": "7190d380056b43169d0225f1583f1e70",
       "version_major": 2,
       "version_minor": 0
      },
      "text/plain": [
       "  0%|          | 0/1 [00:00<?, ?it/s]"
      ]
     },
     "metadata": {},
     "output_type": "display_data"
    },
    {
     "name": "stdout",
     "output_type": "stream",
     "text": [
      "C:\\Users\\Usuario\\Desktop\\PYTHON\\_informes\\9677_OVANDO JIMENEZ JAIRO ESTEVAN.docx\n",
      "✅ Convertido: 9677_OVANDO JIMENEZ JAIRO ESTEVAN.docx\n",
      "🗑️ Eliminado original: 9677_OVANDO JIMENEZ JAIRO ESTEVAN.docx\n"
     ]
    }
   ],
   "source": [
    "convertir_docx_to_pdf()"
   ]
  },
  {
   "cell_type": "code",
   "execution_count": 33,
   "id": "4f16a9cc-38e2-4050-b6e0-a28c46d7560c",
   "metadata": {},
   "outputs": [],
   "source": [
    "data_siglas = {\n",
    "    'EMPC': {\n",
    "        'tipo' : 'Evaluacion de mantenimiento preventivo',\n",
    "        'id_propject' : 34080,\n",
    "        'dataset' : 'dataset_341171',\n",
    "        'drive' : '1GFQMfnFYdy9iDj8h8Mhqh_5ZMKMJeKka', \n",
    "        'campo' : 'link_reporte'\n",
    "    },\n",
    "    'CDSE': {\n",
    "        'tipo' : 'Calidad de semilla',\n",
    "        'id_propject' : 35567,\n",
    "        'dataset' : 'dataset_365887',\n",
    "        'drive' : '_CALIDAD DE SEMILLA', \n",
    "        'campo' : 'link_informe'\n",
    "    }\n",
    "}"
   ]
  },
  {
   "cell_type": "code",
   "execution_count": 34,
   "id": "df6329f9-9825-489a-a6e3-09d1c8ef08bb",
   "metadata": {},
   "outputs": [],
   "source": [
    "def cargar_pdf_to_drive(id_drive, title_file, path_file):\n",
    "    try:\n",
    "        # 1. Buscar si ya existe un archivo con el mismo nombre en la misma carpeta\n",
    "        query = f\"'{id_drive}' in parents and title = '{title_file}' and trashed = false\"\n",
    "        file_list = drive.ListFile({'q': query}).GetList()\n",
    "\n",
    "        if file_list:\n",
    "            # Si ya existe, usamos el primero encontrado\n",
    "            file = file_list[0]\n",
    "            print(f\"[INFO] El archivo '{title_file}' ya existe. Se reemplazará.\")\n",
    "        else:\n",
    "            # Si no existe, creamos uno nuevo\n",
    "            file = drive.CreateFile({\n",
    "                \"mimeType\": \"application/pdf\",\n",
    "                \"parents\": [{\"kind\": \"drive#fileLink\", \"id\": id_drive}]\n",
    "            })\n",
    "            file['title'] = title_file\n",
    "            print(f\"[INFO] El archivo '{title_file}' no existe. Se creará uno nuevo.\")\n",
    "\n",
    "        # 2. Reemplazar el contenido\n",
    "        file.SetContentFile(path_file)\n",
    "        file.Upload()\n",
    "\n",
    "        # 3. Dar permisos públicos si es nuevo\n",
    "        if not file_list:\n",
    "            file.InsertPermission({\n",
    "                'type': 'anyone',\n",
    "                'value': 'anyone',\n",
    "                'role': 'reader'\n",
    "            })\n",
    "\n",
    "        print(f\"[OK] Archivo '{title_file}' subido exitosamente.\")\n",
    "        return file['alternateLink']\n",
    "\n",
    "    except Exception as e:\n",
    "        print(f\"[ERROR] No se pudo subir el archivo '{title_file}': {e}\")\n",
    "        return False"
   ]
  },
  {
   "cell_type": "code",
   "execution_count": 36,
   "id": "340322ba-e753-48b8-bbc7-3c0392bd4ce1",
   "metadata": {},
   "outputs": [
    {
     "data": {
      "text/plain": [
       "['10697_EMPC_14-04-2025_PAZ REA JAIME EDUARDO_123.pdf',\n",
       " '15001_EMPC_14-04-2025_VARGAS PINTO RENNY EDWIN_122.pdf',\n",
       " '2899_EMPC_17-04-2025_EGUEZ ELHAGE JOSE EDUARDO_126.pdf',\n",
       " '515_EMPC_17-04-2025_AGUILERA OLGA RIVERO VDA. DE_124.pdf',\n",
       " '594_EMPC_17-04-2025_AGROPECUARIA FLAMBOYAN_125.pdf']"
      ]
     },
     "execution_count": 36,
     "metadata": {},
     "output_type": "execute_result"
    }
   ],
   "source": [
    "contenido = os.listdir(directorio_destino)\n",
    "contenido"
   ]
  },
  {
   "cell_type": "code",
   "execution_count": 39,
   "id": "934f31a7-d7ee-4065-9420-8b9a1b4e5ddb",
   "metadata": {},
   "outputs": [],
   "source": [
    "def cargar_link_to_amigocloud(dataset, campo, url, id_proyecto, id):\n",
    "    query = {'query': f\"UPDATE {dataset} SET {campo} = '{url}' WHERE id = {id}\"}\n",
    "    try:\n",
    "        res = amigocloud.post(\n",
    "            f'https://app.amigocloud.com/api/v1/projects/{id_proyecto}/sql',\n",
    "            query\n",
    "        )\n",
    "        return True\n",
    "    except Exception as e:\n",
    "        print(f\"[EXCEPCIÓN] Error al ejecutar la consulta: {e}\")\n",
    "        return False"
   ]
  },
  {
   "cell_type": "code",
   "execution_count": 40,
   "id": "69cd8b9c-b3a0-4809-a1a1-2ca454af7448",
   "metadata": {},
   "outputs": [
    {
     "name": "stdout",
     "output_type": "stream",
     "text": [
      "[INFO] El archivo '10697_EMPC_14-04-2025_PAZ REA JAIME EDUARDO_123.pdf' no existe. Se creará uno nuevo.\n",
      "[OK] Archivo '10697_EMPC_14-04-2025_PAZ REA JAIME EDUARDO_123.pdf' subido exitosamente.\n",
      "https://drive.google.com/file/d/1LD33h7ApK4nl1gFhxoIJEidreLMMz9di/view?usp=drivesdk\n",
      "[INFO] El archivo '15001_EMPC_14-04-2025_VARGAS PINTO RENNY EDWIN_122.pdf' no existe. Se creará uno nuevo.\n",
      "[OK] Archivo '15001_EMPC_14-04-2025_VARGAS PINTO RENNY EDWIN_122.pdf' subido exitosamente.\n",
      "https://drive.google.com/file/d/1uPBKqJ36tOoOTA2iCe0cv1tIXbR762mm/view?usp=drivesdk\n",
      "[INFO] El archivo '2899_EMPC_17-04-2025_EGUEZ ELHAGE JOSE EDUARDO_126.pdf' no existe. Se creará uno nuevo.\n",
      "[OK] Archivo '2899_EMPC_17-04-2025_EGUEZ ELHAGE JOSE EDUARDO_126.pdf' subido exitosamente.\n",
      "https://drive.google.com/file/d/1mBC1lZY4UEuBGDZZcjxhJcnECHxrOrXz/view?usp=drivesdk\n",
      "[INFO] El archivo '515_EMPC_17-04-2025_AGUILERA OLGA RIVERO VDA. DE_124.pdf' no existe. Se creará uno nuevo.\n",
      "[OK] Archivo '515_EMPC_17-04-2025_AGUILERA OLGA RIVERO VDA. DE_124.pdf' subido exitosamente.\n",
      "https://drive.google.com/file/d/1JANKXLkgHYWNvnkHECMt8BbSPCyWiJO2/view?usp=drivesdk\n",
      "[INFO] El archivo '594_EMPC_17-04-2025_AGROPECUARIA FLAMBOYAN_125.pdf' no existe. Se creará uno nuevo.\n",
      "[OK] Archivo '594_EMPC_17-04-2025_AGROPECUARIA FLAMBOYAN_125.pdf' subido exitosamente.\n",
      "https://drive.google.com/file/d/1huLATzhEIH4RZwZbce5C67x55O5i_lx0/view?usp=drivesdk\n"
     ]
    }
   ],
   "source": [
    "for file in contenido:\n",
    "    partes = file.split('_')\n",
    "    \n",
    "    id = partes[-1].split('.')[0]\n",
    "    sigla = partes[1]\n",
    "    title_file = file\n",
    "\n",
    "    info_sigla = data_siglas[sigla]\n",
    "    id_drive = info_sigla['drive']\n",
    "    dataset = info_sigla['dataset']\n",
    "    campo = info_sigla['campo']\n",
    "    id_proyecto = info_sigla['id_propject']\n",
    "    \n",
    "    path_file = os.path.join(directorio_destino, file)\n",
    "    url_drive = cargar_pdf_to_drive(id_drive, title_file, path_file)\n",
    "    if url_drive == False:\n",
    "        continue\n",
    "    result_amigocloud = cargar_link_to_amigocloud(dataset, campo, url_drive, id_proyecto, id)\n",
    "    if result_amigocloud == False:\n",
    "        continue\n",
    "    print(url_drive)"
   ]
  },
  {
   "cell_type": "code",
   "execution_count": 110,
   "id": "50f163b6-3fdd-4925-8f38-0f0d42a3fb16",
   "metadata": {},
   "outputs": [],
   "source": []
  },
  {
   "cell_type": "code",
   "execution_count": null,
   "id": "148f6aeb-19b2-403f-ab22-c47f86cd1f74",
   "metadata": {},
   "outputs": [],
   "source": []
  },
  {
   "cell_type": "code",
   "execution_count": null,
   "id": "af2e3b61-a9c6-457c-bd30-526b63da0100",
   "metadata": {},
   "outputs": [],
   "source": []
  }
 ],
 "metadata": {
  "kernelspec": {
   "display_name": "Python 3 (ipykernel)",
   "language": "python",
   "name": "python3"
  },
  "language_info": {
   "codemirror_mode": {
    "name": "ipython",
    "version": 3
   },
   "file_extension": ".py",
   "mimetype": "text/x-python",
   "name": "python",
   "nbconvert_exporter": "python",
   "pygments_lexer": "ipython3",
   "version": "3.10.13"
  }
 },
 "nbformat": 4,
 "nbformat_minor": 5
}
