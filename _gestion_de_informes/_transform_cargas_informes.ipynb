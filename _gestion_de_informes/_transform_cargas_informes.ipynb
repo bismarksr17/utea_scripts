{
 "cells": [
  {
   "cell_type": "code",
   "execution_count": 23,
   "id": "76ff372f-45c3-44f3-8e52-b20ae0763598",
   "metadata": {},
   "outputs": [
    {
     "name": "stdout",
     "output_type": "stream",
     "text": [
      "Your browser has been opened to visit:\n",
      "\n",
      "    https://accounts.google.com/o/oauth2/auth?client_id=590569475424-p6rmonetvvj1ea39ser57a4f3r7e70dh.apps.googleusercontent.com&redirect_uri=http%3A%2F%2Flocalhost%3A8080%2F&scope=https%3A%2F%2Fwww.googleapis.com%2Fauth%2Fdrive&access_type=offline&response_type=code\n",
      "\n",
      "Authentication successful.\n"
     ]
    }
   ],
   "source": [
    "import sys\n",
    "sys.path.append('../_amigocloud')\n",
    "\n",
    "from amigocloud import AmigoCloud\n",
    "from docx import Document\n",
    "from docx2pdf import convert\n",
    "import os\n",
    "import json\n",
    "\n",
    "# CONEXIÓN A GOOGLE DRIVE\n",
    "from pydrive.auth import GoogleAuth\n",
    "from pydrive.drive import GoogleDrive\n",
    "import os\n",
    "\n",
    "gauth = GoogleAuth()\n",
    "\n",
    "# Si existe el archivo, intenta cargarlo\n",
    "if os.path.exists(\"mycreds.txt\"):\n",
    "    gauth.LoadCredentialsFile(\"mycreds.txt\")\n",
    "\n",
    "# Si no hay credenciales o son inválidas, forzar nueva autenticación\n",
    "if gauth.credentials is None or gauth.access_token_expired:\n",
    "    try:\n",
    "        gauth.LocalWebserverAuth()\n",
    "    except:\n",
    "        print(\"Error de autenticación. Eliminá 'mycreds.txt' y volvé a intentarlo.\")\n",
    "else:\n",
    "    gauth.Authorize()\n",
    "\n",
    "gauth.SaveCredentialsFile(\"mycreds.txt\")\n",
    "drive = GoogleDrive(gauth)"
   ]
  },
  {
   "cell_type": "code",
   "execution_count": 24,
   "id": "493529d7-0454-40b9-9038-7081368824f4",
   "metadata": {},
   "outputs": [],
   "source": [
    "def get_unidad_local():\n",
    "    try:\n",
    "        # ruta del archivo que contiene la información necesaria\n",
    "        with open('../../unidad_local.txt', 'r') as file:\n",
    "            unidad = file.readline().strip()\n",
    "            return unidad\n",
    "    except FileNotFoundError:\n",
    "        print(\"El archivo 'unidad_local.txt' no se encuentra en la ruta especificada.\")\n",
    "    return None\n",
    "\n",
    "def get_ruta_local():\n",
    "    try:\n",
    "        with open('../ruta_local.txt', 'r') as file:\n",
    "            ruta = file.readline().strip()\n",
    "            return ruta\n",
    "    except FileNotFoundError:\n",
    "        print(\"El archivo 'ruta_local.txt' no se encuentra en la ruta especificada.\")\n",
    "    return None"
   ]
  },
  {
   "cell_type": "code",
   "execution_count": 25,
   "id": "042bd48f-7bbe-41ca-8fb2-9aa3fbd7d085",
   "metadata": {},
   "outputs": [],
   "source": [
    "def get_ruta_informes():\n",
    "    try:\n",
    "        with open('../../ruta_informes.txt', 'r') as file:\n",
    "            ruta_inf = file.readline().strip()\n",
    "            return ruta_inf\n",
    "    except FileNotFoundError:\n",
    "        print(\"El archivo 'ruta_local.txt' no se encuentra en la ruta especificada.\")\n",
    "    return None"
   ]
  },
  {
   "cell_type": "code",
   "execution_count": 26,
   "id": "650596a1-e808-48e8-8eb0-e9c86e4bb1b6",
   "metadata": {},
   "outputs": [],
   "source": [
    "def cargar_tokens(t_name, ruta_tkn):\n",
    "    with open(ruta_tkn, 'r') as f:\n",
    "        tokens = json.load(f)\n",
    "    return tokens.get(t_name)"
   ]
  },
  {
   "cell_type": "code",
   "execution_count": 27,
   "id": "4c118458-396f-4dd9-852a-ed0310522a20",
   "metadata": {},
   "outputs": [
    {
     "data": {
      "text/plain": [
       "<amigocloud.AmigoCloud at 0x22ae24eb760>"
      ]
     },
     "execution_count": 27,
     "metadata": {},
     "output_type": "execute_result"
    }
   ],
   "source": [
    "# RUTAS\n",
    "unidad = get_unidad_local()\n",
    "ruta = get_ruta_local()\n",
    "ruta_completa = os.path.join(unidad, ruta)\n",
    "ruta_completa\n",
    "\n",
    "ruta_informes = get_ruta_informes()\n",
    "directorio_origen = ruta_informes + r'\\_informes'\n",
    "directorio_destino = ruta_informes + r'\\_pdf'\n",
    "\n",
    "# tkns\n",
    "tkns = cargar_tokens('tkns_amigocloud', os.path.join(ruta_completa + r'\\_keys\\tkns.json'))\n",
    "tkn = tkns['cargar_informes']\n",
    "\n",
    "amigocloud = AmigoCloud(token=tkn)\n",
    "amigocloud"
   ]
  },
  {
   "cell_type": "code",
   "execution_count": null,
   "id": "9212c156-0f2b-4276-9575-f7928a06c756",
   "metadata": {},
   "outputs": [],
   "source": []
  },
  {
   "cell_type": "code",
   "execution_count": 28,
   "id": "8f2b75a2-0e90-4b26-9201-3cf627f5e687",
   "metadata": {},
   "outputs": [
    {
     "data": {
      "text/plain": [
       "'C:\\\\Users\\\\Usuario\\\\Desktop\\\\PROYECTOS\\\\_informes'"
      ]
     },
     "execution_count": 28,
     "metadata": {},
     "output_type": "execute_result"
    }
   ],
   "source": [
    "directorio_origen"
   ]
  },
  {
   "cell_type": "code",
   "execution_count": 29,
   "id": "7946d601-9d1c-4fcb-b049-56c3b71d7b91",
   "metadata": {},
   "outputs": [
    {
     "data": {
      "text/plain": [
       "'C:\\\\Users\\\\Usuario\\\\Desktop\\\\PROYECTOS\\\\_pdf'"
      ]
     },
     "execution_count": 29,
     "metadata": {},
     "output_type": "execute_result"
    }
   ],
   "source": [
    "directorio_destino"
   ]
  },
  {
   "cell_type": "code",
   "execution_count": 30,
   "id": "852c8c93-1556-41b8-a654-04798746224d",
   "metadata": {},
   "outputs": [],
   "source": [
    "# Recorre y convierte a pdf archivos .docx que no empiezan con \"_\"\n",
    "def convertir_docx_to_pdf():\n",
    "    for archivo in os.listdir(directorio_origen):\n",
    "        if archivo.lower().endswith(\".docx\") and not archivo.startswith(\"_\"):\n",
    "            ruta_docx = os.path.join(directorio_origen, archivo)\n",
    "            ruta_pdf = os.path.join(directorio_destino, archivo.replace(\".docx\", \".pdf\"))\n",
    "            \n",
    "            try:\n",
    "                convert(ruta_docx, ruta_pdf)\n",
    "                print(ruta_docx)\n",
    "                if os.path.exists(ruta_pdf):\n",
    "                    print(f\"✅ Convertido: {archivo}\")\n",
    "                    os.remove(ruta_docx)\n",
    "                    print(f\"🗑️ Eliminado original: {archivo}\")\n",
    "                else:\n",
    "                    print(f\"❌ Error: PDF no generado para {archivo}\")\n",
    "            except Exception as e:\n",
    "                print(f\"⚠️ Error al convertir {archivo}: {e}\")"
   ]
  },
  {
   "cell_type": "code",
   "execution_count": 31,
   "id": "93747933-e34a-4ad4-9407-b86213892048",
   "metadata": {},
   "outputs": [
    {
     "data": {
      "application/vnd.jupyter.widget-view+json": {
       "model_id": "5b32948c996b4c89a74a1559e5d171bb",
       "version_major": 2,
       "version_minor": 0
      },
      "text/plain": [
       "  0%|          | 0/1 [00:00<?, ?it/s]"
      ]
     },
     "metadata": {},
     "output_type": "display_data"
    },
    {
     "name": "stdout",
     "output_type": "stream",
     "text": [
      "C:\\Users\\Usuario\\Desktop\\PROYECTOS\\_informes\\1182_CRS_16-07-2025_BOHORQUEZ FERNANDEZ NICANOR_532.docx\n",
      "✅ Convertido: 1182_CRS_16-07-2025_BOHORQUEZ FERNANDEZ NICANOR_532.docx\n",
      "🗑️ Eliminado original: 1182_CRS_16-07-2025_BOHORQUEZ FERNANDEZ NICANOR_532.docx\n"
     ]
    },
    {
     "data": {
      "application/vnd.jupyter.widget-view+json": {
       "model_id": "3162a75f5aa3453aa3bd0733c2051b5c",
       "version_major": 2,
       "version_minor": 0
      },
      "text/plain": [
       "  0%|          | 0/1 [00:00<?, ?it/s]"
      ]
     },
     "metadata": {},
     "output_type": "display_data"
    },
    {
     "name": "stdout",
     "output_type": "stream",
     "text": [
      "C:\\Users\\Usuario\\Desktop\\PROYECTOS\\_informes\\13067_CRS_22-07-2025_SAUCEDO CERRUTI SONIA_467.docx\n",
      "✅ Convertido: 13067_CRS_22-07-2025_SAUCEDO CERRUTI SONIA_467.docx\n",
      "🗑️ Eliminado original: 13067_CRS_22-07-2025_SAUCEDO CERRUTI SONIA_467.docx\n"
     ]
    },
    {
     "data": {
      "application/vnd.jupyter.widget-view+json": {
       "model_id": "aa534c84613249a0b431ead92572b8c2",
       "version_major": 2,
       "version_minor": 0
      },
      "text/plain": [
       "  0%|          | 0/1 [00:00<?, ?it/s]"
      ]
     },
     "metadata": {},
     "output_type": "display_data"
    },
    {
     "name": "stdout",
     "output_type": "stream",
     "text": [
      "C:\\Users\\Usuario\\Desktop\\PROYECTOS\\_informes\\13763_CRS_22-07-2025_TUFINO SCHWENK RUBEN DARIO_577.docx\n",
      "✅ Convertido: 13763_CRS_22-07-2025_TUFINO SCHWENK RUBEN DARIO_577.docx\n",
      "🗑️ Eliminado original: 13763_CRS_22-07-2025_TUFINO SCHWENK RUBEN DARIO_577.docx\n"
     ]
    },
    {
     "data": {
      "application/vnd.jupyter.widget-view+json": {
       "model_id": "cf82337c7c2140efba28df03d5c7deae",
       "version_major": 2,
       "version_minor": 0
      },
      "text/plain": [
       "  0%|          | 0/1 [00:00<?, ?it/s]"
      ]
     },
     "metadata": {},
     "output_type": "display_data"
    },
    {
     "name": "stdout",
     "output_type": "stream",
     "text": [
      "C:\\Users\\Usuario\\Desktop\\PROYECTOS\\_informes\\15195_CRS_16-07-2025_VEIZAGA ENRIQUEZ GUSTAVO_507.docx\n",
      "✅ Convertido: 15195_CRS_16-07-2025_VEIZAGA ENRIQUEZ GUSTAVO_507.docx\n",
      "🗑️ Eliminado original: 15195_CRS_16-07-2025_VEIZAGA ENRIQUEZ GUSTAVO_507.docx\n"
     ]
    },
    {
     "data": {
      "application/vnd.jupyter.widget-view+json": {
       "model_id": "6ad28d687d544c039e3a36d7f8e948e7",
       "version_major": 2,
       "version_minor": 0
      },
      "text/plain": [
       "  0%|          | 0/1 [00:00<?, ?it/s]"
      ]
     },
     "metadata": {},
     "output_type": "display_data"
    },
    {
     "name": "stdout",
     "output_type": "stream",
     "text": [
      "C:\\Users\\Usuario\\Desktop\\PROYECTOS\\_informes\\2641_CRS_21-07-2025_CRONENBOLD AGUILERA ROBERTO_495.docx\n",
      "✅ Convertido: 2641_CRS_21-07-2025_CRONENBOLD AGUILERA ROBERTO_495.docx\n",
      "🗑️ Eliminado original: 2641_CRS_21-07-2025_CRONENBOLD AGUILERA ROBERTO_495.docx\n"
     ]
    },
    {
     "data": {
      "application/vnd.jupyter.widget-view+json": {
       "model_id": "44d4611d2f9e40b790d03adc3af11be4",
       "version_major": 2,
       "version_minor": 0
      },
      "text/plain": [
       "  0%|          | 0/1 [00:00<?, ?it/s]"
      ]
     },
     "metadata": {},
     "output_type": "display_data"
    },
    {
     "name": "stdout",
     "output_type": "stream",
     "text": [
      "C:\\Users\\Usuario\\Desktop\\PROYECTOS\\_informes\\41594_CRS_23-07-2025_AGROPECUARIA CAMPO DULCE S.R.L._494.docx\n",
      "✅ Convertido: 41594_CRS_23-07-2025_AGROPECUARIA CAMPO DULCE S.R.L._494.docx\n",
      "🗑️ Eliminado original: 41594_CRS_23-07-2025_AGROPECUARIA CAMPO DULCE S.R.L._494.docx\n"
     ]
    },
    {
     "data": {
      "application/vnd.jupyter.widget-view+json": {
       "model_id": "c02f83b23d244f838e85fdafa1e59c3f",
       "version_major": 2,
       "version_minor": 0
      },
      "text/plain": [
       "  0%|          | 0/1 [00:00<?, ?it/s]"
      ]
     },
     "metadata": {},
     "output_type": "display_data"
    },
    {
     "name": "stdout",
     "output_type": "stream",
     "text": [
      "C:\\Users\\Usuario\\Desktop\\PROYECTOS\\_informes\\42239_CRS_22-07-2025_CORDOVA OLGUIN LEONARDO_563.docx\n",
      "✅ Convertido: 42239_CRS_22-07-2025_CORDOVA OLGUIN LEONARDO_563.docx\n",
      "🗑️ Eliminado original: 42239_CRS_22-07-2025_CORDOVA OLGUIN LEONARDO_563.docx\n"
     ]
    },
    {
     "data": {
      "application/vnd.jupyter.widget-view+json": {
       "model_id": "dc96c5bd39a94b44a538bc9a0e9cfc0a",
       "version_major": 2,
       "version_minor": 0
      },
      "text/plain": [
       "  0%|          | 0/1 [00:00<?, ?it/s]"
      ]
     },
     "metadata": {},
     "output_type": "display_data"
    },
    {
     "name": "stdout",
     "output_type": "stream",
     "text": [
      "C:\\Users\\Usuario\\Desktop\\PROYECTOS\\_informes\\5448_CRS_23-07-2025_HUANCA MENCHAQUE ROLY_553.docx\n",
      "✅ Convertido: 5448_CRS_23-07-2025_HUANCA MENCHAQUE ROLY_553.docx\n",
      "🗑️ Eliminado original: 5448_CRS_23-07-2025_HUANCA MENCHAQUE ROLY_553.docx\n"
     ]
    },
    {
     "data": {
      "application/vnd.jupyter.widget-view+json": {
       "model_id": "8ff7e1e5294f4c8aaf9ac045cbe11635",
       "version_major": 2,
       "version_minor": 0
      },
      "text/plain": [
       "  0%|          | 0/1 [00:00<?, ?it/s]"
      ]
     },
     "metadata": {},
     "output_type": "display_data"
    },
    {
     "name": "stdout",
     "output_type": "stream",
     "text": [
      "C:\\Users\\Usuario\\Desktop\\PROYECTOS\\_informes\\7754_CRS_23-07-2025_LEON MONDAQUE ROLY_554.docx\n",
      "✅ Convertido: 7754_CRS_23-07-2025_LEON MONDAQUE ROLY_554.docx\n",
      "🗑️ Eliminado original: 7754_CRS_23-07-2025_LEON MONDAQUE ROLY_554.docx\n"
     ]
    }
   ],
   "source": [
    "convertir_docx_to_pdf()"
   ]
  },
  {
   "cell_type": "code",
   "execution_count": null,
   "id": "cb2ff566-e874-43bd-b4b5-22a76f3da960",
   "metadata": {},
   "outputs": [],
   "source": []
  },
  {
   "cell_type": "code",
   "execution_count": 13,
   "id": "4f16a9cc-38e2-4050-b6e0-a28c46d7560c",
   "metadata": {},
   "outputs": [],
   "source": [
    "data_siglas = {\n",
    "    'EMPC': {\n",
    "        'tipo' : 'Evaluacion de mantenimiento preventivo',\n",
    "        'id_propject' : 34080,\n",
    "        'dataset' : 'dataset_341171',\n",
    "        'drive' : '1GFQMfnFYdy9iDj8h8Mhqh_5ZMKMJeKka', \n",
    "        'campo' : 'link_reporte'\n",
    "    },\n",
    "    'CDSE': {\n",
    "        'tipo' : 'Calidad de semilla',\n",
    "        'id_propject' : 35567,\n",
    "        'dataset' : 'dataset_365887',\n",
    "        'drive' : '_CALIDAD DE SEMILLA', \n",
    "        'campo' : 'link_informe'\n",
    "    }\n",
    "}"
   ]
  },
  {
   "cell_type": "code",
   "execution_count": 11,
   "id": "df6329f9-9825-489a-a6e3-09d1c8ef08bb",
   "metadata": {},
   "outputs": [],
   "source": [
    "def cargar_pdf_to_drive(id_drive, title_file, path_file):\n",
    "    try:\n",
    "        # 1. Buscar si ya existe un archivo con el mismo nombre en la misma carpeta\n",
    "        query = f\"'{id_drive}' in parents and title = '{title_file}' and trashed = false\"\n",
    "        file_list = drive.ListFile({'q': query}).GetList()\n",
    "\n",
    "        if file_list:\n",
    "            # Si ya existe, usamos el primero encontrado\n",
    "            file = file_list[0]\n",
    "            print(f\"[INFO] El archivo '{title_file}' ya existe. Se reemplazará.\")\n",
    "        else:\n",
    "            # Si no existe, creamos uno nuevo\n",
    "            file = drive.CreateFile({\n",
    "                \"mimeType\": \"application/pdf\",\n",
    "                \"parents\": [{\"kind\": \"drive#fileLink\", \"id\": id_drive}]\n",
    "            })\n",
    "            file['title'] = title_file\n",
    "            print(f\"[INFO] El archivo '{title_file}' no existe. Se creará uno nuevo.\")\n",
    "\n",
    "        # 2. Reemplazar el contenido\n",
    "        file.SetContentFile(path_file)\n",
    "        file.Upload()\n",
    "\n",
    "        # 3. Dar permisos públicos si es nuevo\n",
    "        if not file_list:\n",
    "            file.InsertPermission({\n",
    "                'type': 'anyone',\n",
    "                'value': 'anyone',\n",
    "                'role': 'reader'\n",
    "            })\n",
    "\n",
    "        print(f\"[OK] Archivo '{title_file}' subido exitosamente.\")\n",
    "        return file['alternateLink']\n",
    "\n",
    "    except Exception as e:\n",
    "        print(f\"[ERROR] No se pudo subir el archivo '{title_file}': {e}\")\n",
    "        return False"
   ]
  },
  {
   "cell_type": "code",
   "execution_count": 12,
   "id": "340322ba-e753-48b8-bbc7-3c0392bd4ce1",
   "metadata": {},
   "outputs": [
    {
     "data": {
      "text/plain": [
       "['2160_EMPC_30-04-2025_CORDOVA CAMARA JUAN_175.pdf',\n",
       " '2220_EMPC_28-04-2025_CRUZ VARGAS TITO JHONNY_172.pdf',\n",
       " '2274_EMPC_28-04-2025_CRUZ VARGAS LUIS OMAR_171.pdf',\n",
       " '2274_EMPC_29-04-2025_CRUZ VARGAS LUIS OMAR_173.pdf',\n",
       " '30035_EMPC_03-05-2025_GUTIERREZ AGUILERA WIDEN GUILLERMO_177.pdf',\n",
       " '3415_EMPC_24-04-2025_ESPINOZA VILLEGAS GERARDO_169.pdf',\n",
       " '41820_EMPC_29-04-2025_ASUBY S.R.L._174.pdf',\n",
       " '4839_EMPC_02-05-2025_GUTIERREZ TARRADELLES ALFREDO_176.pdf',\n",
       " '854_EMPC_28-04-2025_AGROPECUARIA LOPEZ QUIROZ S.R.L._170.pdf']"
      ]
     },
     "execution_count": 12,
     "metadata": {},
     "output_type": "execute_result"
    }
   ],
   "source": [
    "contenido = os.listdir(directorio_destino)\n",
    "contenido"
   ]
  },
  {
   "cell_type": "code",
   "execution_count": 13,
   "id": "934f31a7-d7ee-4065-9420-8b9a1b4e5ddb",
   "metadata": {},
   "outputs": [],
   "source": [
    "def cargar_link_to_amigocloud(dataset, campo, url, id_proyecto, id):\n",
    "    query = {'query': f\"UPDATE {dataset} SET {campo} = '{url}' WHERE id = {id}\"}\n",
    "    try:\n",
    "        res = amigocloud.post(\n",
    "            f'https://app.amigocloud.com/api/v1/projects/{id_proyecto}/sql',\n",
    "            query\n",
    "        )\n",
    "        return True\n",
    "    except Exception as e:\n",
    "        print(f\"[EXCEPCIÓN] Error al ejecutar la consulta: {e}\")\n",
    "        return False"
   ]
  },
  {
   "cell_type": "code",
   "execution_count": 15,
   "id": "69cd8b9c-b3a0-4809-a1a1-2ca454af7448",
   "metadata": {},
   "outputs": [
    {
     "name": "stdout",
     "output_type": "stream",
     "text": [
      "[INFO] El archivo '2160_EMPC_30-04-2025_CORDOVA CAMARA JUAN_175.pdf' ya existe. Se reemplazará.\n",
      "[OK] Archivo '2160_EMPC_30-04-2025_CORDOVA CAMARA JUAN_175.pdf' subido exitosamente.\n",
      "https://drive.google.com/file/d/1O77ht2ePAOvLB2Yf02PbjXESdZN_GBt-/view?usp=drivesdk\n",
      "[INFO] El archivo '2220_EMPC_28-04-2025_CRUZ VARGAS TITO JHONNY_172.pdf' ya existe. Se reemplazará.\n",
      "[OK] Archivo '2220_EMPC_28-04-2025_CRUZ VARGAS TITO JHONNY_172.pdf' subido exitosamente.\n",
      "https://drive.google.com/file/d/1y4q7qx7XoMqnpj3XQy3vZJRMQbjhcsV6/view?usp=drivesdk\n",
      "[INFO] El archivo '2274_EMPC_28-04-2025_CRUZ VARGAS LUIS OMAR_171.pdf' no existe. Se creará uno nuevo.\n",
      "[OK] Archivo '2274_EMPC_28-04-2025_CRUZ VARGAS LUIS OMAR_171.pdf' subido exitosamente.\n",
      "https://drive.google.com/file/d/18TpLuUDImpFny-4i3gc4j54p90gLpi2R/view?usp=drivesdk\n",
      "[INFO] El archivo '2274_EMPC_29-04-2025_CRUZ VARGAS LUIS OMAR_173.pdf' no existe. Se creará uno nuevo.\n",
      "[OK] Archivo '2274_EMPC_29-04-2025_CRUZ VARGAS LUIS OMAR_173.pdf' subido exitosamente.\n",
      "https://drive.google.com/file/d/1tIipdBlWthhgObjeN8YADqV_hB-6MGkD/view?usp=drivesdk\n",
      "[INFO] El archivo '30035_EMPC_03-05-2025_GUTIERREZ AGUILERA WIDEN GUILLERMO_177.pdf' no existe. Se creará uno nuevo.\n",
      "[OK] Archivo '30035_EMPC_03-05-2025_GUTIERREZ AGUILERA WIDEN GUILLERMO_177.pdf' subido exitosamente.\n",
      "https://drive.google.com/file/d/1v872no_fej0x9XUR4su07zZJphfV7uhy/view?usp=drivesdk\n",
      "[INFO] El archivo '3415_EMPC_24-04-2025_ESPINOZA VILLEGAS GERARDO_169.pdf' no existe. Se creará uno nuevo.\n",
      "[OK] Archivo '3415_EMPC_24-04-2025_ESPINOZA VILLEGAS GERARDO_169.pdf' subido exitosamente.\n",
      "https://drive.google.com/file/d/1d7ClGUzkyW6ohBInM41IwC76l01NK9dr/view?usp=drivesdk\n",
      "[INFO] El archivo '41820_EMPC_29-04-2025_ASUBY S.R.L._174.pdf' no existe. Se creará uno nuevo.\n",
      "[OK] Archivo '41820_EMPC_29-04-2025_ASUBY S.R.L._174.pdf' subido exitosamente.\n",
      "https://drive.google.com/file/d/1isB86FZaRWeNZu7sKJaH36m9h0s_iB4v/view?usp=drivesdk\n",
      "[INFO] El archivo '4839_EMPC_02-05-2025_GUTIERREZ TARRADELLES ALFREDO_176.pdf' no existe. Se creará uno nuevo.\n",
      "[OK] Archivo '4839_EMPC_02-05-2025_GUTIERREZ TARRADELLES ALFREDO_176.pdf' subido exitosamente.\n",
      "https://drive.google.com/file/d/1sC5GOEjV5e3HF6cvAwicjY73stQzHmDk/view?usp=drivesdk\n",
      "[INFO] El archivo '854_EMPC_28-04-2025_AGROPECUARIA LOPEZ QUIROZ S.R.L._170.pdf' no existe. Se creará uno nuevo.\n",
      "[OK] Archivo '854_EMPC_28-04-2025_AGROPECUARIA LOPEZ QUIROZ S.R.L._170.pdf' subido exitosamente.\n",
      "https://drive.google.com/file/d/1W1KqOWvVyyHeD9BLLHnoudIEEjD0L2AT/view?usp=drivesdk\n"
     ]
    }
   ],
   "source": [
    "for file in contenido:\n",
    "    partes = file.split('_')\n",
    "    \n",
    "    id = partes[-1].split('.')[0]\n",
    "    sigla = partes[1]\n",
    "    title_file = file\n",
    "\n",
    "    info_sigla = data_siglas[sigla]\n",
    "    id_drive = info_sigla['drive']\n",
    "    dataset = info_sigla['dataset']\n",
    "    campo = info_sigla['campo']\n",
    "    id_proyecto = info_sigla['id_propject']\n",
    "    \n",
    "    path_file = os.path.join(directorio_destino, file)\n",
    "    \n",
    "    url_drive = cargar_pdf_to_drive(id_drive, title_file, path_file)\n",
    "    if url_drive == False:\n",
    "        continue\n",
    "    result_amigocloud = cargar_link_to_amigocloud(dataset, campo, url_drive, id_proyecto, id)\n",
    "    if result_amigocloud == False:\n",
    "        continue\n",
    "    print(url_drive)"
   ]
  },
  {
   "cell_type": "code",
   "execution_count": 110,
   "id": "50f163b6-3fdd-4925-8f38-0f0d42a3fb16",
   "metadata": {},
   "outputs": [],
   "source": []
  },
  {
   "cell_type": "code",
   "execution_count": null,
   "id": "148f6aeb-19b2-403f-ab22-c47f86cd1f74",
   "metadata": {},
   "outputs": [],
   "source": []
  },
  {
   "cell_type": "code",
   "execution_count": null,
   "id": "af2e3b61-a9c6-457c-bd30-526b63da0100",
   "metadata": {},
   "outputs": [],
   "source": []
  }
 ],
 "metadata": {
  "kernelspec": {
   "display_name": "Python 3 (ipykernel)",
   "language": "python",
   "name": "python3"
  },
  "language_info": {
   "codemirror_mode": {
    "name": "ipython",
    "version": 3
   },
   "file_extension": ".py",
   "mimetype": "text/x-python",
   "name": "python",
   "nbconvert_exporter": "python",
   "pygments_lexer": "ipython3",
   "version": "3.10.13"
  }
 },
 "nbformat": 4,
 "nbformat_minor": 5
}
