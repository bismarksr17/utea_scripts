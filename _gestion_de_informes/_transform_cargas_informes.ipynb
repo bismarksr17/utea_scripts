{
 "cells": [
  {
   "cell_type": "code",
   "execution_count": 137,
   "id": "76ff372f-45c3-44f3-8e52-b20ae0763598",
   "metadata": {},
   "outputs": [],
   "source": [
    "import sys\n",
    "sys.path.append('../_amigocloud')\n",
    "\n",
    "from amigocloud import AmigoCloud\n",
    "from docx import Document\n",
    "from docx2pdf import convert\n",
    "import os\n",
    "import json\n",
    "\n",
    "# CONEXION A GOOGLE DRIVE\n",
    "from pydrive.auth import GoogleAuth\n",
    "from pydrive.drive import GoogleDrive\n",
    "\n",
    "gauth = GoogleAuth()\n",
    "#verifica si esta el archivo de autenticacion\n",
    "#si no, pide autenticacion y guarda las credenciales\n",
    "gauth.LoadCredentialsFile(\"mycreds.txt\")\n",
    "if gauth.credentials is None:\n",
    "    gauth.LocalWebserverAuth()\n",
    "elif gauth.access_token_expired:\n",
    "    gauth.Refresh()\n",
    "else:\n",
    "    gauth.Authorize()\n",
    "gauth.SaveCredentialsFile(\"mycreds.txt\")\n",
    "gauth.LocalWebserverAuth()  # Abre una ventana del navegador para autenticarse con tu cuenta de Google\n",
    "drive = GoogleDrive(gauth)"
   ]
  },
  {
   "cell_type": "code",
   "execution_count": 138,
   "id": "493529d7-0454-40b9-9038-7081368824f4",
   "metadata": {},
   "outputs": [],
   "source": [
    "def get_unidad_local():\n",
    "    try:\n",
    "        # ruta del archivo que contiene la información necesaria\n",
    "        with open('../../unidad_local.txt', 'r') as file:\n",
    "            unidad = file.readline().strip()\n",
    "            return unidad\n",
    "    except FileNotFoundError:\n",
    "        print(\"El archivo 'unidad_local.txt' no se encuentra en la ruta especificada.\")\n",
    "    return None\n",
    "\n",
    "def get_ruta_local():\n",
    "    try:\n",
    "        with open('../ruta_local.txt', 'r') as file:\n",
    "            ruta = file.readline().strip()\n",
    "            return ruta\n",
    "    except FileNotFoundError:\n",
    "        print(\"El archivo 'ruta_local.txt' no se encuentra en la ruta especificada.\")\n",
    "    return None"
   ]
  },
  {
   "cell_type": "code",
   "execution_count": 139,
   "id": "042bd48f-7bbe-41ca-8fb2-9aa3fbd7d085",
   "metadata": {},
   "outputs": [],
   "source": [
    "def get_ruta_informes():\n",
    "    try:\n",
    "        with open('../../ruta_informes.txt', 'r') as file:\n",
    "            ruta_inf = file.readline().strip()\n",
    "            return ruta_inf\n",
    "    except FileNotFoundError:\n",
    "        print(\"El archivo 'ruta_local.txt' no se encuentra en la ruta especificada.\")\n",
    "    return None"
   ]
  },
  {
   "cell_type": "code",
   "execution_count": 140,
   "id": "650596a1-e808-48e8-8eb0-e9c86e4bb1b6",
   "metadata": {},
   "outputs": [],
   "source": [
    "def cargar_tokens(t_name, ruta_tkn):\n",
    "    with open(ruta_tkn, 'r') as f:\n",
    "        tokens = json.load(f)\n",
    "    return tokens.get(t_name)"
   ]
  },
  {
   "cell_type": "code",
   "execution_count": 141,
   "id": "4c118458-396f-4dd9-852a-ed0310522a20",
   "metadata": {},
   "outputs": [
    {
     "data": {
      "text/plain": [
       "<amigocloud.AmigoCloud at 0x221673566e0>"
      ]
     },
     "execution_count": 141,
     "metadata": {},
     "output_type": "execute_result"
    }
   ],
   "source": [
    "# RUTAS\n",
    "unidad = get_unidad_local()\n",
    "ruta = get_ruta_local()\n",
    "ruta_completa = os.path.join(unidad, ruta)\n",
    "ruta_completa\n",
    "\n",
    "ruta_informes = get_ruta_informes()\n",
    "directorio_origen = ruta_informes + r'\\_informes'\n",
    "directorio_destino = ruta_informes + r'\\_pdf'\n",
    "\n",
    "# tkns\n",
    "tkns = cargar_tokens('tkns_amigocloud', os.path.join(ruta_completa + r'\\_keys\\tkns.json'))\n",
    "tkn = tkns['cargar_informes']\n",
    "\n",
    "amigocloud = AmigoCloud(token=tkn)\n",
    "amigocloud"
   ]
  },
  {
   "cell_type": "code",
   "execution_count": 142,
   "id": "852c8c93-1556-41b8-a654-04798746224d",
   "metadata": {},
   "outputs": [],
   "source": [
    "# Recorre y convierte a pdf archivos .docx que no empiezan con \"_\"\n",
    "def convertir_docx_to_pdf():\n",
    "    for archivo in os.listdir(directorio_origen):\n",
    "        if archivo.lower().endswith(\".docx\") and not archivo.startswith(\"_\"):\n",
    "            ruta_docx = os.path.join(directorio_origen, archivo)\n",
    "            ruta_pdf = os.path.join(directorio_destino, archivo.replace(\".docx\", \".pdf\"))\n",
    "            try:\n",
    "                convert(ruta_docx, ruta_pdf)\n",
    "                if os.path.exists(ruta_pdf):\n",
    "                    print(f\"✅ Convertido: {archivo}\")\n",
    "                    os.remove(ruta_docx)\n",
    "                    print(f\"🗑️ Eliminado original: {archivo}\")\n",
    "                else:\n",
    "                    print(f\"❌ Error: PDF no generado para {archivo}\")\n",
    "            except Exception as e:\n",
    "                print(f\"⚠️ Error al convertir {archivo}: {e}\")"
   ]
  },
  {
   "cell_type": "code",
   "execution_count": 143,
   "id": "4f16a9cc-38e2-4050-b6e0-a28c46d7560c",
   "metadata": {},
   "outputs": [],
   "source": [
    "data_siglas = {\n",
    "    'EMPC': {\n",
    "        'tipo' : 'Evaluacion de mantenimiento preventivo',\n",
    "        'id_propject' : 34080,\n",
    "        'dataset' : 'dataset_341171',\n",
    "        'drive' : '1GFQMfnFYdy9iDj8h8Mhqh_5ZMKMJeKka', \n",
    "        'campo' : 'link_reporte'\n",
    "    },\n",
    "    'CDSE': {\n",
    "        'tipo' : 'Calidad de semilla',\n",
    "        'id_propject' : 35567,\n",
    "        'dataset' : 'dataset_365887',\n",
    "        'drive' : '_CALIDAD DE SEMILLA', \n",
    "        'campo' : 'link_informe'\n",
    "    }\n",
    "}"
   ]
  },
  {
   "cell_type": "code",
   "execution_count": 144,
   "id": "bc6be72d-c0d5-476d-ae80-b5163887a935",
   "metadata": {},
   "outputs": [],
   "source": [
    "def cargar_pdf_to_drive(id_drive, title_file, path_file):\n",
    "    try:\n",
    "        file = drive.CreateFile({\n",
    "            \"mimeType\": \"application/pdf\",\n",
    "            \"parents\": [{\"kind\": \"drive#fileLink\", \"id\": id_drive}]\n",
    "        })\n",
    "        file['title'] = title_file\n",
    "        file.SetContentFile(path_file)\n",
    "        file.Upload()\n",
    "        print('Created file %s with mimeType %s' % (file['title'], file['mimeType']))\n",
    "        file.InsertPermission({\n",
    "            'type': 'anyone',\n",
    "            'value': 'anyone',\n",
    "            'role': 'reader'\n",
    "        })\n",
    "        return file['alternateLink']\n",
    "    except Exception as e:\n",
    "        print(f\"[ERROR] No se pudo subir el archivo '{title_file}': {e}\")\n",
    "        return False"
   ]
  },
  {
   "cell_type": "code",
   "execution_count": 149,
   "id": "df6329f9-9825-489a-a6e3-09d1c8ef08bb",
   "metadata": {},
   "outputs": [],
   "source": [
    "def cargar_pdf_to_drive(id_drive, title_file, path_file):\n",
    "    try:\n",
    "        # 1. Buscar si ya existe un archivo con el mismo nombre en la misma carpeta\n",
    "        query = f\"'{id_drive}' in parents and title = '{title_file}' and trashed = false\"\n",
    "        file_list = drive.ListFile({'q': query}).GetList()\n",
    "\n",
    "        if file_list:\n",
    "            # Si ya existe, usamos el primero encontrado\n",
    "            file = file_list[0]\n",
    "            print(f\"[INFO] El archivo '{title_file}' ya existe. Se reemplazará.\")\n",
    "        else:\n",
    "            # Si no existe, creamos uno nuevo\n",
    "            file = drive.CreateFile({\n",
    "                \"mimeType\": \"application/pdf\",\n",
    "                \"parents\": [{\"kind\": \"drive#fileLink\", \"id\": id_drive}]\n",
    "            })\n",
    "            file['title'] = title_file\n",
    "            print(f\"[INFO] El archivo '{title_file}' no existe. Se creará uno nuevo.\")\n",
    "\n",
    "        # 2. Reemplazar el contenido\n",
    "        file.SetContentFile(path_file)\n",
    "        file.Upload()\n",
    "\n",
    "        # 3. Dar permisos públicos si es nuevo\n",
    "        if not file_list:\n",
    "            file.InsertPermission({\n",
    "                'type': 'anyone',\n",
    "                'value': 'anyone',\n",
    "                'role': 'reader'\n",
    "            })\n",
    "\n",
    "        print(f\"[OK] Archivo '{title_file}' subido exitosamente.\")\n",
    "        return file['alternateLink']\n",
    "\n",
    "    except Exception as e:\n",
    "        print(f\"[ERROR] No se pudo subir el archivo '{title_file}': {e}\")\n",
    "        return False"
   ]
  },
  {
   "cell_type": "code",
   "execution_count": 150,
   "id": "340322ba-e753-48b8-bbc7-3c0392bd4ce1",
   "metadata": {},
   "outputs": [
    {
     "data": {
      "text/plain": [
       "['633_EMPC_01-04-2025_AGROP. VICENTE ROCA GIL SRL_105.pdf',\n",
       " '75_EMPC_31-03-2025_AGUILERA TARADELLES NELSON MARIANO_100.pdf',\n",
       " '75_EMPC_31-03-2025_AGUILERA TARADELLES NELSON MARIANO_101.pdf',\n",
       " '9677_EMPC_02-04-2025_OVANDO JIMENEZ JAIRO ESTEVAN_109.pdf']"
      ]
     },
     "execution_count": 150,
     "metadata": {},
     "output_type": "execute_result"
    }
   ],
   "source": [
    "contenido = os.listdir(directorio_destino)\n",
    "contenido"
   ]
  },
  {
   "cell_type": "code",
   "execution_count": 151,
   "id": "934f31a7-d7ee-4065-9420-8b9a1b4e5ddb",
   "metadata": {},
   "outputs": [],
   "source": [
    "def cargar_link_to_amigocloud(dataset, campo, url, id_proyecto, id):\n",
    "    query = {'query': f\"UPDATE {dataset} SET {campo} = '{url}' WHERE id = {id}\"}\n",
    "    try:\n",
    "        res = amigocloud.post(\n",
    "            f'https://app.amigocloud.com/api/v1/projects/{id_proyecto}/sql',\n",
    "            query\n",
    "        )\n",
    "        return True\n",
    "    except Exception as e:\n",
    "        print(f\"[EXCEPCIÓN] Error al ejecutar la consulta: {e}\")\n",
    "        return False"
   ]
  },
  {
   "cell_type": "code",
   "execution_count": 152,
   "id": "69cd8b9c-b3a0-4809-a1a1-2ca454af7448",
   "metadata": {},
   "outputs": [
    {
     "name": "stdout",
     "output_type": "stream",
     "text": [
      "[INFO] El archivo '633_EMPC_01-04-2025_AGROP. VICENTE ROCA GIL SRL_105.pdf' ya existe. Se reemplazará.\n",
      "[OK] Archivo '633_EMPC_01-04-2025_AGROP. VICENTE ROCA GIL SRL_105.pdf' subido exitosamente.\n",
      "https://drive.google.com/file/d/1VYPAw2sorK1ayGXxMkCBb6sqvxceFojT/view?usp=drivesdk\n",
      "[INFO] El archivo '75_EMPC_31-03-2025_AGUILERA TARADELLES NELSON MARIANO_100.pdf' ya existe. Se reemplazará.\n",
      "[OK] Archivo '75_EMPC_31-03-2025_AGUILERA TARADELLES NELSON MARIANO_100.pdf' subido exitosamente.\n",
      "https://drive.google.com/file/d/17uSGz-wJiYS59KjO6bSY8XBwBW_afKjg/view?usp=drivesdk\n",
      "[INFO] El archivo '75_EMPC_31-03-2025_AGUILERA TARADELLES NELSON MARIANO_101.pdf' ya existe. Se reemplazará.\n",
      "[OK] Archivo '75_EMPC_31-03-2025_AGUILERA TARADELLES NELSON MARIANO_101.pdf' subido exitosamente.\n",
      "https://drive.google.com/file/d/1zDYydC0_1ehWXUEzDh5IqN019VHMW5hD/view?usp=drivesdk\n",
      "[INFO] El archivo '9677_EMPC_02-04-2025_OVANDO JIMENEZ JAIRO ESTEVAN_109.pdf' ya existe. Se reemplazará.\n",
      "[OK] Archivo '9677_EMPC_02-04-2025_OVANDO JIMENEZ JAIRO ESTEVAN_109.pdf' subido exitosamente.\n",
      "https://drive.google.com/file/d/1Dju0SmJ35vAZD7YOQvUiJSInt6rIioUq/view?usp=drivesdk\n"
     ]
    }
   ],
   "source": [
    "for file in contenido:\n",
    "    partes = file.split('_')\n",
    "    \n",
    "    id = partes[-1].split('.')[0]\n",
    "    sigla = partes[1]\n",
    "    title_file = file\n",
    "\n",
    "    info_sigla = data_siglas[sigla]\n",
    "    id_drive = info_sigla['drive']\n",
    "    dataset = info_sigla['dataset']\n",
    "    campo = info_sigla['campo']\n",
    "    id_proyecto = info_sigla['id_propject']\n",
    "    \n",
    "    path_file = os.path.join(directorio_destino, file)\n",
    "    url_drive = cargar_pdf_to_drive(id_drive, title_file, path_file)\n",
    "    if url_drive == False:\n",
    "        continue\n",
    "    result_amigocloud = cargar_link_to_amigocloud(dataset, campo, url_drive, id_proyecto, id)\n",
    "    if result_amigocloud == False:\n",
    "        continue\n",
    "    print(url_drive)"
   ]
  },
  {
   "cell_type": "code",
   "execution_count": 110,
   "id": "50f163b6-3fdd-4925-8f38-0f0d42a3fb16",
   "metadata": {},
   "outputs": [],
   "source": []
  },
  {
   "cell_type": "code",
   "execution_count": null,
   "id": "148f6aeb-19b2-403f-ab22-c47f86cd1f74",
   "metadata": {},
   "outputs": [],
   "source": []
  },
  {
   "cell_type": "code",
   "execution_count": null,
   "id": "af2e3b61-a9c6-457c-bd30-526b63da0100",
   "metadata": {},
   "outputs": [],
   "source": []
  }
 ],
 "metadata": {
  "kernelspec": {
   "display_name": "Python 3 (ipykernel)",
   "language": "python",
   "name": "python3"
  },
  "language_info": {
   "codemirror_mode": {
    "name": "ipython",
    "version": 3
   },
   "file_extension": ".py",
   "mimetype": "text/x-python",
   "name": "python",
   "nbconvert_exporter": "python",
   "pygments_lexer": "ipython3",
   "version": "3.10.13"
  }
 },
 "nbformat": 4,
 "nbformat_minor": 5
}
