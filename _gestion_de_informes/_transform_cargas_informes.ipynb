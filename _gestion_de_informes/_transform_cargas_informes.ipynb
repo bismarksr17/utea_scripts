{
 "cells": [
  {
   "cell_type": "code",
   "execution_count": 2,
   "id": "76ff372f-45c3-44f3-8e52-b20ae0763598",
   "metadata": {},
   "outputs": [],
   "source": [
    "import sys\n",
    "sys.path.append('../_amigocloud')\n",
    "\n",
    "from amigocloud import AmigoCloud\n",
    "from docx import Document\n",
    "from docx2pdf import convert\n",
    "import os\n",
    "import json\n",
    "\n",
    "# CONEXIÓN A GOOGLE DRIVE\n",
    "from pydrive.auth import GoogleAuth\n",
    "from pydrive.drive import GoogleDrive\n",
    "import os\n",
    "\n",
    "gauth = GoogleAuth()\n",
    "\n",
    "# Si existe el archivo, intenta cargarlo\n",
    "if os.path.exists(\"mycreds.txt\"):\n",
    "    gauth.LoadCredentialsFile(\"mycreds.txt\")\n",
    "\n",
    "# Si no hay credenciales o son inválidas, forzar nueva autenticación\n",
    "if gauth.credentials is None or gauth.access_token_expired:\n",
    "    try:\n",
    "        gauth.LocalWebserverAuth()\n",
    "    except:\n",
    "        print(\"Error de autenticación. Eliminá 'mycreds.txt' y volvé a intentarlo.\")\n",
    "else:\n",
    "    gauth.Authorize()\n",
    "\n",
    "gauth.SaveCredentialsFile(\"mycreds.txt\")\n",
    "drive = GoogleDrive(gauth)"
   ]
  },
  {
   "cell_type": "code",
   "execution_count": 3,
   "id": "493529d7-0454-40b9-9038-7081368824f4",
   "metadata": {},
   "outputs": [],
   "source": [
    "def get_unidad_local():\n",
    "    try:\n",
    "        # ruta del archivo que contiene la información necesaria\n",
    "        with open('../../unidad_local.txt', 'r') as file:\n",
    "            unidad = file.readline().strip()\n",
    "            return unidad\n",
    "    except FileNotFoundError:\n",
    "        print(\"El archivo 'unidad_local.txt' no se encuentra en la ruta especificada.\")\n",
    "    return None\n",
    "\n",
    "def get_ruta_local():\n",
    "    try:\n",
    "        with open('../ruta_local.txt', 'r') as file:\n",
    "            ruta = file.readline().strip()\n",
    "            return ruta\n",
    "    except FileNotFoundError:\n",
    "        print(\"El archivo 'ruta_local.txt' no se encuentra en la ruta especificada.\")\n",
    "    return None"
   ]
  },
  {
   "cell_type": "code",
   "execution_count": 4,
   "id": "042bd48f-7bbe-41ca-8fb2-9aa3fbd7d085",
   "metadata": {},
   "outputs": [],
   "source": [
    "def get_ruta_informes():\n",
    "    try:\n",
    "        with open('../../ruta_informes.txt', 'r') as file:\n",
    "            ruta_inf = file.readline().strip()\n",
    "            return ruta_inf\n",
    "    except FileNotFoundError:\n",
    "        print(\"El archivo 'ruta_local.txt' no se encuentra en la ruta especificada.\")\n",
    "    return None"
   ]
  },
  {
   "cell_type": "code",
   "execution_count": 5,
   "id": "650596a1-e808-48e8-8eb0-e9c86e4bb1b6",
   "metadata": {},
   "outputs": [],
   "source": [
    "def cargar_tokens(t_name, ruta_tkn):\n",
    "    with open(ruta_tkn, 'r') as f:\n",
    "        tokens = json.load(f)\n",
    "    return tokens.get(t_name)"
   ]
  },
  {
   "cell_type": "code",
   "execution_count": 6,
   "id": "4c118458-396f-4dd9-852a-ed0310522a20",
   "metadata": {},
   "outputs": [
    {
     "data": {
      "text/plain": [
       "<amigocloud.AmigoCloud at 0x207fc963220>"
      ]
     },
     "execution_count": 6,
     "metadata": {},
     "output_type": "execute_result"
    }
   ],
   "source": [
    "# RUTAS\n",
    "unidad = get_unidad_local()\n",
    "ruta = get_ruta_local()\n",
    "ruta_completa = os.path.join(unidad, ruta)\n",
    "ruta_completa\n",
    "\n",
    "ruta_informes = get_ruta_informes()\n",
    "directorio_origen = ruta_informes + r'\\_informes'\n",
    "directorio_destino = ruta_informes + r'\\_pdf'\n",
    "\n",
    "# tkns\n",
    "tkns = cargar_tokens('tkns_amigocloud', os.path.join(ruta_completa + r'\\_keys\\tkns.json'))\n",
    "tkn = tkns['cargar_informes']\n",
    "\n",
    "amigocloud = AmigoCloud(token=tkn)\n",
    "amigocloud"
   ]
  },
  {
   "cell_type": "code",
   "execution_count": null,
   "id": "9212c156-0f2b-4276-9575-f7928a06c756",
   "metadata": {},
   "outputs": [],
   "source": []
  },
  {
   "cell_type": "code",
   "execution_count": 7,
   "id": "8f2b75a2-0e90-4b26-9201-3cf627f5e687",
   "metadata": {},
   "outputs": [
    {
     "data": {
      "text/plain": [
       "'C:\\\\Users\\\\Usuario\\\\Desktop\\\\PROYECTOS\\\\_informes'"
      ]
     },
     "execution_count": 7,
     "metadata": {},
     "output_type": "execute_result"
    }
   ],
   "source": [
    "directorio_origen"
   ]
  },
  {
   "cell_type": "code",
   "execution_count": 8,
   "id": "7946d601-9d1c-4fcb-b049-56c3b71d7b91",
   "metadata": {},
   "outputs": [
    {
     "data": {
      "text/plain": [
       "'C:\\\\Users\\\\Usuario\\\\Desktop\\\\PROYECTOS\\\\_pdf'"
      ]
     },
     "execution_count": 8,
     "metadata": {},
     "output_type": "execute_result"
    }
   ],
   "source": [
    "directorio_destino"
   ]
  },
  {
   "cell_type": "code",
   "execution_count": 9,
   "id": "852c8c93-1556-41b8-a654-04798746224d",
   "metadata": {},
   "outputs": [],
   "source": [
    "# Recorre y convierte a pdf archivos .docx que no empiezan con \"_\"\n",
    "def convertir_docx_to_pdf():\n",
    "    for archivo in os.listdir(directorio_origen):\n",
    "        if archivo.lower().endswith(\".docx\") and not archivo.startswith(\"_\"):\n",
    "            ruta_docx = os.path.join(directorio_origen, archivo)\n",
    "            ruta_pdf = os.path.join(directorio_destino, archivo.replace(\".docx\", \".pdf\"))\n",
    "            \n",
    "            try:\n",
    "                convert(ruta_docx, ruta_pdf)\n",
    "                print(ruta_docx)\n",
    "                if os.path.exists(ruta_pdf):\n",
    "                    print(f\"✅ Convertido: {archivo}\")\n",
    "                    os.remove(ruta_docx)\n",
    "                    print(f\"🗑️ Eliminado original: {archivo}\")\n",
    "                else:\n",
    "                    print(f\"❌ Error: PDF no generado para {archivo}\")\n",
    "            except Exception as e:\n",
    "                print(f\"⚠️ Error al convertir {archivo}: {e}\")"
   ]
  },
  {
   "cell_type": "code",
   "execution_count": 10,
   "id": "93747933-e34a-4ad4-9407-b86213892048",
   "metadata": {},
   "outputs": [
    {
     "name": "stdout",
     "output_type": "stream",
     "text": [
      "Rebuilding cache of generated files for COM support...\n",
      "Checking 00020905-0000-0000-C000-000000000046x0x8x7\n",
      "Could not add module (IID('{00020905-0000-0000-C000-000000000046}'), 0, 8, 7) - <class 'AttributeError'>: module 'win32com.gen_py.00020905-0000-0000-C000-000000000046x0x8x7' has no attribute 'CLSIDToClassMap'\n",
      "Done.\n"
     ]
    },
    {
     "data": {
      "application/vnd.jupyter.widget-view+json": {
       "model_id": "41542b63a04d4618b9b550949df8b95c",
       "version_major": 2,
       "version_minor": 0
      },
      "text/plain": [
       "  0%|          | 0/1 [00:00<?, ?it/s]"
      ]
     },
     "metadata": {},
     "output_type": "display_data"
    },
    {
     "name": "stdout",
     "output_type": "stream",
     "text": [
      "C:\\Users\\Usuario\\Desktop\\PROYECTOS\\_informes\\10779_RPCC_27-08-2025_POSTIGO VASQUEZ VICTOR HUGO.docx\n",
      "✅ Convertido: 10779_RPCC_27-08-2025_POSTIGO VASQUEZ VICTOR HUGO.docx\n",
      "🗑️ Eliminado original: 10779_RPCC_27-08-2025_POSTIGO VASQUEZ VICTOR HUGO.docx\n"
     ]
    },
    {
     "data": {
      "application/vnd.jupyter.widget-view+json": {
       "model_id": "6af9cb94d06f4a9cb997d421b3aa789b",
       "version_major": 2,
       "version_minor": 0
      },
      "text/plain": [
       "  0%|          | 0/1 [00:00<?, ?it/s]"
      ]
     },
     "metadata": {},
     "output_type": "display_data"
    },
    {
     "name": "stdout",
     "output_type": "stream",
     "text": [
      "C:\\Users\\Usuario\\Desktop\\PROYECTOS\\_informes\\11116_RPCC_27-08-2025_QUENA OVANDO VICTOR.docx\n",
      "✅ Convertido: 11116_RPCC_27-08-2025_QUENA OVANDO VICTOR.docx\n",
      "🗑️ Eliminado original: 11116_RPCC_27-08-2025_QUENA OVANDO VICTOR.docx\n"
     ]
    },
    {
     "data": {
      "application/vnd.jupyter.widget-view+json": {
       "model_id": "d68e08b410e648a087f2be483e8651a2",
       "version_major": 2,
       "version_minor": 0
      },
      "text/plain": [
       "  0%|          | 0/1 [00:00<?, ?it/s]"
      ]
     },
     "metadata": {},
     "output_type": "display_data"
    },
    {
     "name": "stdout",
     "output_type": "stream",
     "text": [
      "C:\\Users\\Usuario\\Desktop\\PROYECTOS\\_informes\\11259_RPCC_27-08-2025_QUISPE ZURITA DELFIN.docx\n",
      "✅ Convertido: 11259_RPCC_27-08-2025_QUISPE ZURITA DELFIN.docx\n",
      "🗑️ Eliminado original: 11259_RPCC_27-08-2025_QUISPE ZURITA DELFIN.docx\n"
     ]
    },
    {
     "data": {
      "application/vnd.jupyter.widget-view+json": {
       "model_id": "2fd45a6f44944c4c837ba996d763f04e",
       "version_major": 2,
       "version_minor": 0
      },
      "text/plain": [
       "  0%|          | 0/1 [00:00<?, ?it/s]"
      ]
     },
     "metadata": {},
     "output_type": "display_data"
    },
    {
     "name": "stdout",
     "output_type": "stream",
     "text": [
      "C:\\Users\\Usuario\\Desktop\\PROYECTOS\\_informes\\12075_RPCC_27-08-2025_ROJAS GONZALES TOMAS.docx\n",
      "✅ Convertido: 12075_RPCC_27-08-2025_ROJAS GONZALES TOMAS.docx\n",
      "🗑️ Eliminado original: 12075_RPCC_27-08-2025_ROJAS GONZALES TOMAS.docx\n"
     ]
    },
    {
     "data": {
      "application/vnd.jupyter.widget-view+json": {
       "model_id": "987a89b1b2a14f22adc264636398b3b7",
       "version_major": 2,
       "version_minor": 0
      },
      "text/plain": [
       "  0%|          | 0/1 [00:00<?, ?it/s]"
      ]
     },
     "metadata": {},
     "output_type": "display_data"
    },
    {
     "name": "stdout",
     "output_type": "stream",
     "text": [
      "C:\\Users\\Usuario\\Desktop\\PROYECTOS\\_informes\\12187_RPCC_27-08-2025_RODRIGUEZ FLORA TOMICHA DE.docx\n",
      "✅ Convertido: 12187_RPCC_27-08-2025_RODRIGUEZ FLORA TOMICHA DE.docx\n",
      "🗑️ Eliminado original: 12187_RPCC_27-08-2025_RODRIGUEZ FLORA TOMICHA DE.docx\n"
     ]
    },
    {
     "data": {
      "application/vnd.jupyter.widget-view+json": {
       "model_id": "c41da120bdba46cdac5da782259707a9",
       "version_major": 2,
       "version_minor": 0
      },
      "text/plain": [
       "  0%|          | 0/1 [00:00<?, ?it/s]"
      ]
     },
     "metadata": {},
     "output_type": "display_data"
    },
    {
     "name": "stdout",
     "output_type": "stream",
     "text": [
      "C:\\Users\\Usuario\\Desktop\\PROYECTOS\\_informes\\1497_RPCC_27-08-2025_CALLE MERCADO PERCI EINAR.docx\n",
      "✅ Convertido: 1497_RPCC_27-08-2025_CALLE MERCADO PERCI EINAR.docx\n",
      "🗑️ Eliminado original: 1497_RPCC_27-08-2025_CALLE MERCADO PERCI EINAR.docx\n"
     ]
    },
    {
     "data": {
      "application/vnd.jupyter.widget-view+json": {
       "model_id": "70cd774fda3342c2bb31c712fae51f12",
       "version_major": 2,
       "version_minor": 0
      },
      "text/plain": [
       "  0%|          | 0/1 [00:00<?, ?it/s]"
      ]
     },
     "metadata": {},
     "output_type": "display_data"
    },
    {
     "name": "stdout",
     "output_type": "stream",
     "text": [
      "C:\\Users\\Usuario\\Desktop\\PROYECTOS\\_informes\\1686_RPCC_27-08-2025_CALVI PADILLA SAVINO.docx\n",
      "✅ Convertido: 1686_RPCC_27-08-2025_CALVI PADILLA SAVINO.docx\n",
      "🗑️ Eliminado original: 1686_RPCC_27-08-2025_CALVI PADILLA SAVINO.docx\n"
     ]
    },
    {
     "data": {
      "application/vnd.jupyter.widget-view+json": {
       "model_id": "11c10a594b21494da613428807c0a09e",
       "version_major": 2,
       "version_minor": 0
      },
      "text/plain": [
       "  0%|          | 0/1 [00:00<?, ?it/s]"
      ]
     },
     "metadata": {},
     "output_type": "display_data"
    },
    {
     "name": "stdout",
     "output_type": "stream",
     "text": [
      "C:\\Users\\Usuario\\Desktop\\PROYECTOS\\_informes\\172_RPCC_27-08-2025_ALVAREZ ALAVE JORGE.docx\n",
      "✅ Convertido: 172_RPCC_27-08-2025_ALVAREZ ALAVE JORGE.docx\n",
      "🗑️ Eliminado original: 172_RPCC_27-08-2025_ALVAREZ ALAVE JORGE.docx\n"
     ]
    },
    {
     "data": {
      "application/vnd.jupyter.widget-view+json": {
       "model_id": "2a00582992bd425da49baf1ad74ce17e",
       "version_major": 2,
       "version_minor": 0
      },
      "text/plain": [
       "  0%|          | 0/1 [00:00<?, ?it/s]"
      ]
     },
     "metadata": {},
     "output_type": "display_data"
    },
    {
     "name": "stdout",
     "output_type": "stream",
     "text": [
      "C:\\Users\\Usuario\\Desktop\\PROYECTOS\\_informes\\18115_RPCC_27-08-2025_JIMENEZ LEON RICARDO.docx\n",
      "✅ Convertido: 18115_RPCC_27-08-2025_JIMENEZ LEON RICARDO.docx\n",
      "🗑️ Eliminado original: 18115_RPCC_27-08-2025_JIMENEZ LEON RICARDO.docx\n"
     ]
    },
    {
     "data": {
      "application/vnd.jupyter.widget-view+json": {
       "model_id": "b7274cbc5fa740d1bbaa49ffc9530174",
       "version_major": 2,
       "version_minor": 0
      },
      "text/plain": [
       "  0%|          | 0/1 [00:00<?, ?it/s]"
      ]
     },
     "metadata": {},
     "output_type": "display_data"
    },
    {
     "name": "stdout",
     "output_type": "stream",
     "text": [
      "C:\\Users\\Usuario\\Desktop\\PROYECTOS\\_informes\\18341_RPCC_27-08-2025_ROCHA ROJAS RAFAEL.docx\n",
      "✅ Convertido: 18341_RPCC_27-08-2025_ROCHA ROJAS RAFAEL.docx\n",
      "🗑️ Eliminado original: 18341_RPCC_27-08-2025_ROCHA ROJAS RAFAEL.docx\n"
     ]
    },
    {
     "data": {
      "application/vnd.jupyter.widget-view+json": {
       "model_id": "fbb6754f68d045c4bbad052cd740dbcd",
       "version_major": 2,
       "version_minor": 0
      },
      "text/plain": [
       "  0%|          | 0/1 [00:00<?, ?it/s]"
      ]
     },
     "metadata": {},
     "output_type": "display_data"
    },
    {
     "name": "stdout",
     "output_type": "stream",
     "text": [
      "C:\\Users\\Usuario\\Desktop\\PROYECTOS\\_informes\\20262_RPCC_27-08-2025_HEVIA Y VACA PEREZ BERNABE.docx\n",
      "✅ Convertido: 20262_RPCC_27-08-2025_HEVIA Y VACA PEREZ BERNABE.docx\n",
      "🗑️ Eliminado original: 20262_RPCC_27-08-2025_HEVIA Y VACA PEREZ BERNABE.docx\n"
     ]
    },
    {
     "data": {
      "application/vnd.jupyter.widget-view+json": {
       "model_id": "fc80915abb72400b8b35257eccbb2ce1",
       "version_major": 2,
       "version_minor": 0
      },
      "text/plain": [
       "  0%|          | 0/1 [00:00<?, ?it/s]"
      ]
     },
     "metadata": {},
     "output_type": "display_data"
    },
    {
     "name": "stdout",
     "output_type": "stream",
     "text": [
      "C:\\Users\\Usuario\\Desktop\\PROYECTOS\\_informes\\2224_RPCC_27-08-2025_CRUZ VARGAS WILLY WALDO.docx\n",
      "✅ Convertido: 2224_RPCC_27-08-2025_CRUZ VARGAS WILLY WALDO.docx\n",
      "🗑️ Eliminado original: 2224_RPCC_27-08-2025_CRUZ VARGAS WILLY WALDO.docx\n"
     ]
    },
    {
     "data": {
      "application/vnd.jupyter.widget-view+json": {
       "model_id": "05115d85a6664a0880fa04e40ea0249b",
       "version_major": 2,
       "version_minor": 0
      },
      "text/plain": [
       "  0%|          | 0/1 [00:00<?, ?it/s]"
      ]
     },
     "metadata": {},
     "output_type": "display_data"
    },
    {
     "name": "stdout",
     "output_type": "stream",
     "text": [
      "C:\\Users\\Usuario\\Desktop\\PROYECTOS\\_informes\\2450_RPCC_27-08-2025_CONDORI PADILLA RICHARD.docx\n",
      "✅ Convertido: 2450_RPCC_27-08-2025_CONDORI PADILLA RICHARD.docx\n",
      "🗑️ Eliminado original: 2450_RPCC_27-08-2025_CONDORI PADILLA RICHARD.docx\n"
     ]
    },
    {
     "data": {
      "application/vnd.jupyter.widget-view+json": {
       "model_id": "e63b555dfd7c439383649b19c483a32c",
       "version_major": 2,
       "version_minor": 0
      },
      "text/plain": [
       "  0%|          | 0/1 [00:00<?, ?it/s]"
      ]
     },
     "metadata": {},
     "output_type": "display_data"
    },
    {
     "name": "stdout",
     "output_type": "stream",
     "text": [
      "C:\\Users\\Usuario\\Desktop\\PROYECTOS\\_informes\\2522_RPCC_27-08-2025_CARO SONIA GENOVEVA CLAROS DE.docx\n",
      "✅ Convertido: 2522_RPCC_27-08-2025_CARO SONIA GENOVEVA CLAROS DE.docx\n",
      "🗑️ Eliminado original: 2522_RPCC_27-08-2025_CARO SONIA GENOVEVA CLAROS DE.docx\n"
     ]
    },
    {
     "data": {
      "application/vnd.jupyter.widget-view+json": {
       "model_id": "76349ad7297e4bccb05ea8519ba3d8a0",
       "version_major": 2,
       "version_minor": 0
      },
      "text/plain": [
       "  0%|          | 0/1 [00:00<?, ?it/s]"
      ]
     },
     "metadata": {},
     "output_type": "display_data"
    },
    {
     "name": "stdout",
     "output_type": "stream",
     "text": [
      "C:\\Users\\Usuario\\Desktop\\PROYECTOS\\_informes\\2650_RPCC_27-08-2025_CLAROS VASQUEZ JHONNY MAURICIO.docx\n",
      "✅ Convertido: 2650_RPCC_27-08-2025_CLAROS VASQUEZ JHONNY MAURICIO.docx\n",
      "🗑️ Eliminado original: 2650_RPCC_27-08-2025_CLAROS VASQUEZ JHONNY MAURICIO.docx\n"
     ]
    },
    {
     "data": {
      "application/vnd.jupyter.widget-view+json": {
       "model_id": "3ad4244ade29476b9863eca5af3e89db",
       "version_major": 2,
       "version_minor": 0
      },
      "text/plain": [
       "  0%|          | 0/1 [00:00<?, ?it/s]"
      ]
     },
     "metadata": {},
     "output_type": "display_data"
    },
    {
     "name": "stdout",
     "output_type": "stream",
     "text": [
      "C:\\Users\\Usuario\\Desktop\\PROYECTOS\\_informes\\2910_RPCC_27-08-2025_DIAZ TERRAZAS RONALD BLADIMIR.docx\n",
      "✅ Convertido: 2910_RPCC_27-08-2025_DIAZ TERRAZAS RONALD BLADIMIR.docx\n",
      "🗑️ Eliminado original: 2910_RPCC_27-08-2025_DIAZ TERRAZAS RONALD BLADIMIR.docx\n"
     ]
    },
    {
     "data": {
      "application/vnd.jupyter.widget-view+json": {
       "model_id": "587fa963f0764893ae69eb429b5f78b1",
       "version_major": 2,
       "version_minor": 0
      },
      "text/plain": [
       "  0%|          | 0/1 [00:00<?, ?it/s]"
      ]
     },
     "metadata": {},
     "output_type": "display_data"
    },
    {
     "name": "stdout",
     "output_type": "stream",
     "text": [
      "C:\\Users\\Usuario\\Desktop\\PROYECTOS\\_informes\\30895_RPCC_27-08-2025_RODRIGUEZ VASQUEZ TOMASA.docx\n",
      "✅ Convertido: 30895_RPCC_27-08-2025_RODRIGUEZ VASQUEZ TOMASA.docx\n",
      "🗑️ Eliminado original: 30895_RPCC_27-08-2025_RODRIGUEZ VASQUEZ TOMASA.docx\n"
     ]
    },
    {
     "data": {
      "application/vnd.jupyter.widget-view+json": {
       "model_id": "3d0f2dde515747808b8b7d5e87bbd53d",
       "version_major": 2,
       "version_minor": 0
      },
      "text/plain": [
       "  0%|          | 0/1 [00:00<?, ?it/s]"
      ]
     },
     "metadata": {},
     "output_type": "display_data"
    },
    {
     "name": "stdout",
     "output_type": "stream",
     "text": [
      "C:\\Users\\Usuario\\Desktop\\PROYECTOS\\_informes\\3967_RPCC_27-08-2025_FLORES CHAVARRIA VICENTE.docx\n",
      "✅ Convertido: 3967_RPCC_27-08-2025_FLORES CHAVARRIA VICENTE.docx\n",
      "🗑️ Eliminado original: 3967_RPCC_27-08-2025_FLORES CHAVARRIA VICENTE.docx\n"
     ]
    },
    {
     "data": {
      "application/vnd.jupyter.widget-view+json": {
       "model_id": "aa80486993134c179d3344a7138125bb",
       "version_major": 2,
       "version_minor": 0
      },
      "text/plain": [
       "  0%|          | 0/1 [00:00<?, ?it/s]"
      ]
     },
     "metadata": {},
     "output_type": "display_data"
    },
    {
     "name": "stdout",
     "output_type": "stream",
     "text": [
      "C:\\Users\\Usuario\\Desktop\\PROYECTOS\\_informes\\40152_RPCC_27-08-2025_MUNOZ GREGORIA FLORES DE.docx\n",
      "✅ Convertido: 40152_RPCC_27-08-2025_MUNOZ GREGORIA FLORES DE.docx\n",
      "🗑️ Eliminado original: 40152_RPCC_27-08-2025_MUNOZ GREGORIA FLORES DE.docx\n"
     ]
    },
    {
     "data": {
      "application/vnd.jupyter.widget-view+json": {
       "model_id": "878cc66e4b29470fbda2fb35fdbbad8d",
       "version_major": 2,
       "version_minor": 0
      },
      "text/plain": [
       "  0%|          | 0/1 [00:00<?, ?it/s]"
      ]
     },
     "metadata": {},
     "output_type": "display_data"
    },
    {
     "name": "stdout",
     "output_type": "stream",
     "text": [
      "C:\\Users\\Usuario\\Desktop\\PROYECTOS\\_informes\\41539_RPCC_27-08-2025_VACA MENDEZ JULIO EDUARDO.docx\n",
      "✅ Convertido: 41539_RPCC_27-08-2025_VACA MENDEZ JULIO EDUARDO.docx\n",
      "🗑️ Eliminado original: 41539_RPCC_27-08-2025_VACA MENDEZ JULIO EDUARDO.docx\n"
     ]
    },
    {
     "data": {
      "application/vnd.jupyter.widget-view+json": {
       "model_id": "3468a240e813424c9b2bc0559d1ba928",
       "version_major": 2,
       "version_minor": 0
      },
      "text/plain": [
       "  0%|          | 0/1 [00:00<?, ?it/s]"
      ]
     },
     "metadata": {},
     "output_type": "display_data"
    },
    {
     "name": "stdout",
     "output_type": "stream",
     "text": [
      "C:\\Users\\Usuario\\Desktop\\PROYECTOS\\_informes\\41896_RPCC_27-08-2025_CORDOVA JUSTINIANO GERSON MOISES.docx\n",
      "✅ Convertido: 41896_RPCC_27-08-2025_CORDOVA JUSTINIANO GERSON MOISES.docx\n",
      "🗑️ Eliminado original: 41896_RPCC_27-08-2025_CORDOVA JUSTINIANO GERSON MOISES.docx\n"
     ]
    },
    {
     "data": {
      "application/vnd.jupyter.widget-view+json": {
       "model_id": "2facfee9784448468367ff1652d40496",
       "version_major": 2,
       "version_minor": 0
      },
      "text/plain": [
       "  0%|          | 0/1 [00:00<?, ?it/s]"
      ]
     },
     "metadata": {},
     "output_type": "display_data"
    },
    {
     "name": "stdout",
     "output_type": "stream",
     "text": [
      "C:\\Users\\Usuario\\Desktop\\PROYECTOS\\_informes\\42035_RPCC_27-08-2025_JANCO GARCIA JUSTO.docx\n",
      "✅ Convertido: 42035_RPCC_27-08-2025_JANCO GARCIA JUSTO.docx\n",
      "🗑️ Eliminado original: 42035_RPCC_27-08-2025_JANCO GARCIA JUSTO.docx\n"
     ]
    },
    {
     "data": {
      "application/vnd.jupyter.widget-view+json": {
       "model_id": "2079f421165f4bc5896f04e297ee204c",
       "version_major": 2,
       "version_minor": 0
      },
      "text/plain": [
       "  0%|          | 0/1 [00:00<?, ?it/s]"
      ]
     },
     "metadata": {},
     "output_type": "display_data"
    },
    {
     "name": "stdout",
     "output_type": "stream",
     "text": [
      "C:\\Users\\Usuario\\Desktop\\PROYECTOS\\_informes\\42109_RPCC_27-08-2025_GARCIA LEON DIOGENES.docx\n",
      "✅ Convertido: 42109_RPCC_27-08-2025_GARCIA LEON DIOGENES.docx\n",
      "🗑️ Eliminado original: 42109_RPCC_27-08-2025_GARCIA LEON DIOGENES.docx\n"
     ]
    },
    {
     "data": {
      "application/vnd.jupyter.widget-view+json": {
       "model_id": "a494dcdc5bf24425a0050fb4e350c45f",
       "version_major": 2,
       "version_minor": 0
      },
      "text/plain": [
       "  0%|          | 0/1 [00:00<?, ?it/s]"
      ]
     },
     "metadata": {},
     "output_type": "display_data"
    },
    {
     "name": "stdout",
     "output_type": "stream",
     "text": [
      "C:\\Users\\Usuario\\Desktop\\PROYECTOS\\_informes\\42344_RPCC_27-08-2025_CALIZAYA CARMONA NELSON.docx\n",
      "✅ Convertido: 42344_RPCC_27-08-2025_CALIZAYA CARMONA NELSON.docx\n",
      "🗑️ Eliminado original: 42344_RPCC_27-08-2025_CALIZAYA CARMONA NELSON.docx\n"
     ]
    },
    {
     "data": {
      "application/vnd.jupyter.widget-view+json": {
       "model_id": "acbc94316aa8440cb48f3ae7c501abb2",
       "version_major": 2,
       "version_minor": 0
      },
      "text/plain": [
       "  0%|          | 0/1 [00:00<?, ?it/s]"
      ]
     },
     "metadata": {},
     "output_type": "display_data"
    },
    {
     "name": "stdout",
     "output_type": "stream",
     "text": [
      "C:\\Users\\Usuario\\Desktop\\PROYECTOS\\_informes\\4551_RPCC_27-08-2025_GARCIA INES TENORIO DE.docx\n",
      "✅ Convertido: 4551_RPCC_27-08-2025_GARCIA INES TENORIO DE.docx\n",
      "🗑️ Eliminado original: 4551_RPCC_27-08-2025_GARCIA INES TENORIO DE.docx\n"
     ]
    },
    {
     "data": {
      "application/vnd.jupyter.widget-view+json": {
       "model_id": "b6ae0de984164da999aab98175bad40d",
       "version_major": 2,
       "version_minor": 0
      },
      "text/plain": [
       "  0%|          | 0/1 [00:00<?, ?it/s]"
      ]
     },
     "metadata": {},
     "output_type": "display_data"
    },
    {
     "name": "stdout",
     "output_type": "stream",
     "text": [
      "C:\\Users\\Usuario\\Desktop\\PROYECTOS\\_informes\\5288_RPCC_27-08-2025_HUALLPA MAMANI NANCY.docx\n",
      "✅ Convertido: 5288_RPCC_27-08-2025_HUALLPA MAMANI NANCY.docx\n",
      "🗑️ Eliminado original: 5288_RPCC_27-08-2025_HUALLPA MAMANI NANCY.docx\n"
     ]
    },
    {
     "data": {
      "application/vnd.jupyter.widget-view+json": {
       "model_id": "f2b9cbc1edf941f2a986118f961dd6c8",
       "version_major": 2,
       "version_minor": 0
      },
      "text/plain": [
       "  0%|          | 0/1 [00:00<?, ?it/s]"
      ]
     },
     "metadata": {},
     "output_type": "display_data"
    },
    {
     "name": "stdout",
     "output_type": "stream",
     "text": [
      "C:\\Users\\Usuario\\Desktop\\PROYECTOS\\_informes\\5334_RPCC_27-08-2025_HUALLPA AUCACHI JUSTINO.docx\n",
      "✅ Convertido: 5334_RPCC_27-08-2025_HUALLPA AUCACHI JUSTINO.docx\n",
      "🗑️ Eliminado original: 5334_RPCC_27-08-2025_HUALLPA AUCACHI JUSTINO.docx\n"
     ]
    },
    {
     "data": {
      "application/vnd.jupyter.widget-view+json": {
       "model_id": "e4612010dc1c4c248aa32e314074f5e1",
       "version_major": 2,
       "version_minor": 0
      },
      "text/plain": [
       "  0%|          | 0/1 [00:00<?, ?it/s]"
      ]
     },
     "metadata": {},
     "output_type": "display_data"
    },
    {
     "name": "stdout",
     "output_type": "stream",
     "text": [
      "C:\\Users\\Usuario\\Desktop\\PROYECTOS\\_informes\\551_RPCC_27-08-2025_AQUINO PAITA ELIAS.docx\n",
      "✅ Convertido: 551_RPCC_27-08-2025_AQUINO PAITA ELIAS.docx\n",
      "🗑️ Eliminado original: 551_RPCC_27-08-2025_AQUINO PAITA ELIAS.docx\n"
     ]
    },
    {
     "data": {
      "application/vnd.jupyter.widget-view+json": {
       "model_id": "be389d0643a741e382b622e36985c04d",
       "version_major": 2,
       "version_minor": 0
      },
      "text/plain": [
       "  0%|          | 0/1 [00:00<?, ?it/s]"
      ]
     },
     "metadata": {},
     "output_type": "display_data"
    },
    {
     "name": "stdout",
     "output_type": "stream",
     "text": [
      "C:\\Users\\Usuario\\Desktop\\PROYECTOS\\_informes\\699_RPCC_27-08-2025_ACUNA CANO MARIO.docx\n",
      "✅ Convertido: 699_RPCC_27-08-2025_ACUNA CANO MARIO.docx\n",
      "🗑️ Eliminado original: 699_RPCC_27-08-2025_ACUNA CANO MARIO.docx\n"
     ]
    },
    {
     "data": {
      "application/vnd.jupyter.widget-view+json": {
       "model_id": "8594ac9afda5448b8b9db4cef06e0c51",
       "version_major": 2,
       "version_minor": 0
      },
      "text/plain": [
       "  0%|          | 0/1 [00:00<?, ?it/s]"
      ]
     },
     "metadata": {},
     "output_type": "display_data"
    },
    {
     "name": "stdout",
     "output_type": "stream",
     "text": [
      "C:\\Users\\Usuario\\Desktop\\PROYECTOS\\_informes\\787_RPCC_27-08-2025_ALMENDRAS MURIEL EFRAIN.docx\n",
      "✅ Convertido: 787_RPCC_27-08-2025_ALMENDRAS MURIEL EFRAIN.docx\n",
      "🗑️ Eliminado original: 787_RPCC_27-08-2025_ALMENDRAS MURIEL EFRAIN.docx\n"
     ]
    },
    {
     "data": {
      "application/vnd.jupyter.widget-view+json": {
       "model_id": "22c84ff031524c2a9b17f7dbf5168be4",
       "version_major": 2,
       "version_minor": 0
      },
      "text/plain": [
       "  0%|          | 0/1 [00:00<?, ?it/s]"
      ]
     },
     "metadata": {},
     "output_type": "display_data"
    },
    {
     "name": "stdout",
     "output_type": "stream",
     "text": [
      "C:\\Users\\Usuario\\Desktop\\PROYECTOS\\_informes\\8896_RPCC_27-08-2025_MORATO LUIZAGA ALFREDO.docx\n",
      "✅ Convertido: 8896_RPCC_27-08-2025_MORATO LUIZAGA ALFREDO.docx\n",
      "🗑️ Eliminado original: 8896_RPCC_27-08-2025_MORATO LUIZAGA ALFREDO.docx\n"
     ]
    }
   ],
   "source": [
    "convertir_docx_to_pdf()"
   ]
  },
  {
   "cell_type": "code",
   "execution_count": null,
   "id": "cb2ff566-e874-43bd-b4b5-22a76f3da960",
   "metadata": {},
   "outputs": [],
   "source": []
  },
  {
   "cell_type": "code",
   "execution_count": 13,
   "id": "4f16a9cc-38e2-4050-b6e0-a28c46d7560c",
   "metadata": {},
   "outputs": [],
   "source": [
    "data_siglas = {\n",
    "    'EMPC': {\n",
    "        'tipo' : 'Evaluacion de mantenimiento preventivo',\n",
    "        'id_propject' : 34080,\n",
    "        'dataset' : 'dataset_341171',\n",
    "        'drive' : '1GFQMfnFYdy9iDj8h8Mhqh_5ZMKMJeKka', \n",
    "        'campo' : 'link_reporte'\n",
    "    },\n",
    "    'CDSE': {\n",
    "        'tipo' : 'Calidad de semilla',\n",
    "        'id_propject' : 35567,\n",
    "        'dataset' : 'dataset_365887',\n",
    "        'drive' : '_CALIDAD DE SEMILLA', \n",
    "        'campo' : 'link_informe'\n",
    "    }\n",
    "}"
   ]
  },
  {
   "cell_type": "code",
   "execution_count": 11,
   "id": "df6329f9-9825-489a-a6e3-09d1c8ef08bb",
   "metadata": {},
   "outputs": [],
   "source": [
    "def cargar_pdf_to_drive(id_drive, title_file, path_file):\n",
    "    try:\n",
    "        # 1. Buscar si ya existe un archivo con el mismo nombre en la misma carpeta\n",
    "        query = f\"'{id_drive}' in parents and title = '{title_file}' and trashed = false\"\n",
    "        file_list = drive.ListFile({'q': query}).GetList()\n",
    "\n",
    "        if file_list:\n",
    "            # Si ya existe, usamos el primero encontrado\n",
    "            file = file_list[0]\n",
    "            print(f\"[INFO] El archivo '{title_file}' ya existe. Se reemplazará.\")\n",
    "        else:\n",
    "            # Si no existe, creamos uno nuevo\n",
    "            file = drive.CreateFile({\n",
    "                \"mimeType\": \"application/pdf\",\n",
    "                \"parents\": [{\"kind\": \"drive#fileLink\", \"id\": id_drive}]\n",
    "            })\n",
    "            file['title'] = title_file\n",
    "            print(f\"[INFO] El archivo '{title_file}' no existe. Se creará uno nuevo.\")\n",
    "\n",
    "        # 2. Reemplazar el contenido\n",
    "        file.SetContentFile(path_file)\n",
    "        file.Upload()\n",
    "\n",
    "        # 3. Dar permisos públicos si es nuevo\n",
    "        if not file_list:\n",
    "            file.InsertPermission({\n",
    "                'type': 'anyone',\n",
    "                'value': 'anyone',\n",
    "                'role': 'reader'\n",
    "            })\n",
    "\n",
    "        print(f\"[OK] Archivo '{title_file}' subido exitosamente.\")\n",
    "        return file['alternateLink']\n",
    "\n",
    "    except Exception as e:\n",
    "        print(f\"[ERROR] No se pudo subir el archivo '{title_file}': {e}\")\n",
    "        return False"
   ]
  },
  {
   "cell_type": "code",
   "execution_count": 12,
   "id": "340322ba-e753-48b8-bbc7-3c0392bd4ce1",
   "metadata": {},
   "outputs": [
    {
     "data": {
      "text/plain": [
       "['2160_EMPC_30-04-2025_CORDOVA CAMARA JUAN_175.pdf',\n",
       " '2220_EMPC_28-04-2025_CRUZ VARGAS TITO JHONNY_172.pdf',\n",
       " '2274_EMPC_28-04-2025_CRUZ VARGAS LUIS OMAR_171.pdf',\n",
       " '2274_EMPC_29-04-2025_CRUZ VARGAS LUIS OMAR_173.pdf',\n",
       " '30035_EMPC_03-05-2025_GUTIERREZ AGUILERA WIDEN GUILLERMO_177.pdf',\n",
       " '3415_EMPC_24-04-2025_ESPINOZA VILLEGAS GERARDO_169.pdf',\n",
       " '41820_EMPC_29-04-2025_ASUBY S.R.L._174.pdf',\n",
       " '4839_EMPC_02-05-2025_GUTIERREZ TARRADELLES ALFREDO_176.pdf',\n",
       " '854_EMPC_28-04-2025_AGROPECUARIA LOPEZ QUIROZ S.R.L._170.pdf']"
      ]
     },
     "execution_count": 12,
     "metadata": {},
     "output_type": "execute_result"
    }
   ],
   "source": [
    "contenido = os.listdir(directorio_destino)\n",
    "contenido"
   ]
  },
  {
   "cell_type": "code",
   "execution_count": 13,
   "id": "934f31a7-d7ee-4065-9420-8b9a1b4e5ddb",
   "metadata": {},
   "outputs": [],
   "source": [
    "def cargar_link_to_amigocloud(dataset, campo, url, id_proyecto, id):\n",
    "    query = {'query': f\"UPDATE {dataset} SET {campo} = '{url}' WHERE id = {id}\"}\n",
    "    try:\n",
    "        res = amigocloud.post(\n",
    "            f'https://app.amigocloud.com/api/v1/projects/{id_proyecto}/sql',\n",
    "            query\n",
    "        )\n",
    "        return True\n",
    "    except Exception as e:\n",
    "        print(f\"[EXCEPCIÓN] Error al ejecutar la consulta: {e}\")\n",
    "        return False"
   ]
  },
  {
   "cell_type": "code",
   "execution_count": 15,
   "id": "69cd8b9c-b3a0-4809-a1a1-2ca454af7448",
   "metadata": {},
   "outputs": [
    {
     "name": "stdout",
     "output_type": "stream",
     "text": [
      "[INFO] El archivo '2160_EMPC_30-04-2025_CORDOVA CAMARA JUAN_175.pdf' ya existe. Se reemplazará.\n",
      "[OK] Archivo '2160_EMPC_30-04-2025_CORDOVA CAMARA JUAN_175.pdf' subido exitosamente.\n",
      "https://drive.google.com/file/d/1O77ht2ePAOvLB2Yf02PbjXESdZN_GBt-/view?usp=drivesdk\n",
      "[INFO] El archivo '2220_EMPC_28-04-2025_CRUZ VARGAS TITO JHONNY_172.pdf' ya existe. Se reemplazará.\n",
      "[OK] Archivo '2220_EMPC_28-04-2025_CRUZ VARGAS TITO JHONNY_172.pdf' subido exitosamente.\n",
      "https://drive.google.com/file/d/1y4q7qx7XoMqnpj3XQy3vZJRMQbjhcsV6/view?usp=drivesdk\n",
      "[INFO] El archivo '2274_EMPC_28-04-2025_CRUZ VARGAS LUIS OMAR_171.pdf' no existe. Se creará uno nuevo.\n",
      "[OK] Archivo '2274_EMPC_28-04-2025_CRUZ VARGAS LUIS OMAR_171.pdf' subido exitosamente.\n",
      "https://drive.google.com/file/d/18TpLuUDImpFny-4i3gc4j54p90gLpi2R/view?usp=drivesdk\n",
      "[INFO] El archivo '2274_EMPC_29-04-2025_CRUZ VARGAS LUIS OMAR_173.pdf' no existe. Se creará uno nuevo.\n",
      "[OK] Archivo '2274_EMPC_29-04-2025_CRUZ VARGAS LUIS OMAR_173.pdf' subido exitosamente.\n",
      "https://drive.google.com/file/d/1tIipdBlWthhgObjeN8YADqV_hB-6MGkD/view?usp=drivesdk\n",
      "[INFO] El archivo '30035_EMPC_03-05-2025_GUTIERREZ AGUILERA WIDEN GUILLERMO_177.pdf' no existe. Se creará uno nuevo.\n",
      "[OK] Archivo '30035_EMPC_03-05-2025_GUTIERREZ AGUILERA WIDEN GUILLERMO_177.pdf' subido exitosamente.\n",
      "https://drive.google.com/file/d/1v872no_fej0x9XUR4su07zZJphfV7uhy/view?usp=drivesdk\n",
      "[INFO] El archivo '3415_EMPC_24-04-2025_ESPINOZA VILLEGAS GERARDO_169.pdf' no existe. Se creará uno nuevo.\n",
      "[OK] Archivo '3415_EMPC_24-04-2025_ESPINOZA VILLEGAS GERARDO_169.pdf' subido exitosamente.\n",
      "https://drive.google.com/file/d/1d7ClGUzkyW6ohBInM41IwC76l01NK9dr/view?usp=drivesdk\n",
      "[INFO] El archivo '41820_EMPC_29-04-2025_ASUBY S.R.L._174.pdf' no existe. Se creará uno nuevo.\n",
      "[OK] Archivo '41820_EMPC_29-04-2025_ASUBY S.R.L._174.pdf' subido exitosamente.\n",
      "https://drive.google.com/file/d/1isB86FZaRWeNZu7sKJaH36m9h0s_iB4v/view?usp=drivesdk\n",
      "[INFO] El archivo '4839_EMPC_02-05-2025_GUTIERREZ TARRADELLES ALFREDO_176.pdf' no existe. Se creará uno nuevo.\n",
      "[OK] Archivo '4839_EMPC_02-05-2025_GUTIERREZ TARRADELLES ALFREDO_176.pdf' subido exitosamente.\n",
      "https://drive.google.com/file/d/1sC5GOEjV5e3HF6cvAwicjY73stQzHmDk/view?usp=drivesdk\n",
      "[INFO] El archivo '854_EMPC_28-04-2025_AGROPECUARIA LOPEZ QUIROZ S.R.L._170.pdf' no existe. Se creará uno nuevo.\n",
      "[OK] Archivo '854_EMPC_28-04-2025_AGROPECUARIA LOPEZ QUIROZ S.R.L._170.pdf' subido exitosamente.\n",
      "https://drive.google.com/file/d/1W1KqOWvVyyHeD9BLLHnoudIEEjD0L2AT/view?usp=drivesdk\n"
     ]
    }
   ],
   "source": [
    "for file in contenido:\n",
    "    partes = file.split('_')\n",
    "    \n",
    "    id = partes[-1].split('.')[0]\n",
    "    sigla = partes[1]\n",
    "    title_file = file\n",
    "\n",
    "    info_sigla = data_siglas[sigla]\n",
    "    id_drive = info_sigla['drive']\n",
    "    dataset = info_sigla['dataset']\n",
    "    campo = info_sigla['campo']\n",
    "    id_proyecto = info_sigla['id_propject']\n",
    "    \n",
    "    path_file = os.path.join(directorio_destino, file)\n",
    "    \n",
    "    url_drive = cargar_pdf_to_drive(id_drive, title_file, path_file)\n",
    "    if url_drive == False:\n",
    "        continue\n",
    "    result_amigocloud = cargar_link_to_amigocloud(dataset, campo, url_drive, id_proyecto, id)\n",
    "    if result_amigocloud == False:\n",
    "        continue\n",
    "    print(url_drive)"
   ]
  },
  {
   "cell_type": "code",
   "execution_count": 110,
   "id": "50f163b6-3fdd-4925-8f38-0f0d42a3fb16",
   "metadata": {},
   "outputs": [],
   "source": []
  },
  {
   "cell_type": "code",
   "execution_count": null,
   "id": "148f6aeb-19b2-403f-ab22-c47f86cd1f74",
   "metadata": {},
   "outputs": [],
   "source": []
  },
  {
   "cell_type": "code",
   "execution_count": null,
   "id": "af2e3b61-a9c6-457c-bd30-526b63da0100",
   "metadata": {},
   "outputs": [],
   "source": []
  }
 ],
 "metadata": {
  "kernelspec": {
   "display_name": "Python 3 (ipykernel)",
   "language": "python",
   "name": "python3"
  },
  "language_info": {
   "codemirror_mode": {
    "name": "ipython",
    "version": 3
   },
   "file_extension": ".py",
   "mimetype": "text/x-python",
   "name": "python",
   "nbconvert_exporter": "python",
   "pygments_lexer": "ipython3",
   "version": "3.10.13"
  }
 },
 "nbformat": 4,
 "nbformat_minor": 5
}
