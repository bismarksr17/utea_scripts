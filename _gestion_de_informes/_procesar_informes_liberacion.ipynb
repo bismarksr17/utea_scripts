{
 "cells": [
  {
   "cell_type": "code",
   "execution_count": 2,
   "id": "fb6efbf6-9eff-49b3-9f8c-e49a46103a9f",
   "metadata": {},
   "outputs": [
    {
     "ename": "NameError",
     "evalue": "name 'fege' is not defined",
     "output_type": "error",
     "traceback": [
      "\u001b[1;31m---------------------------------------------------------------------------\u001b[0m",
      "\u001b[1;31mNameError\u001b[0m                                 Traceback (most recent call last)",
      "Cell \u001b[1;32mIn[2], line 1\u001b[0m\n\u001b[1;32m----> 1\u001b[0m \u001b[43mfege\u001b[49m\n",
      "\u001b[1;31mNameError\u001b[0m: name 'fege' is not defined"
     ]
    }
   ],
   "source": [
    "fege"
   ]
  },
  {
   "cell_type": "code",
   "execution_count": 1,
   "id": "a8fcfb71-d889-45d2-a46f-b575a6908bfb",
   "metadata": {},
   "outputs": [],
   "source": [
    "import sys\n",
    "sys.path.append('../_amigocloud')\n",
    "\n",
    "from sqlalchemy import create_engine, text\n",
    "from amigocloud import AmigoCloud\n",
    "from docx import Document\n",
    "from docx2pdf import convert\n",
    "import os\n",
    "import json\n",
    "import pandas as pd\n",
    "\n",
    "# CONEXIÓN A GOOGLE DRIVE\n",
    "from pydrive.auth import GoogleAuth\n",
    "from pydrive.drive import GoogleDrive\n",
    "import os\n",
    "\n",
    "gauth = GoogleAuth()\n",
    "\n",
    "# Si existe el archivo, intenta cargarlo\n",
    "if os.path.exists(\"mycreds.txt\"):\n",
    "    gauth.LoadCredentialsFile(\"mycreds.txt\")\n",
    "\n",
    "# Si no hay credenciales o son inválidas, forzar nueva autenticación\n",
    "if gauth.credentials is None or gauth.access_token_expired:\n",
    "    try:\n",
    "        gauth.LocalWebserverAuth()\n",
    "    except:\n",
    "        print(\"Error de autenticación. Eliminá 'mycreds.txt' y volvé a intentarlo.\")\n",
    "else:\n",
    "    gauth.Authorize()\n",
    "\n",
    "gauth.SaveCredentialsFile(\"mycreds.txt\")\n",
    "drive = GoogleDrive(gauth)"
   ]
  },
  {
   "cell_type": "code",
   "execution_count": 2,
   "id": "10f0c050-45c8-496c-b5a7-364478c3f41e",
   "metadata": {},
   "outputs": [],
   "source": [
    "sys.path.append('..')\n",
    "\n",
    "from config import RUTA_UNIDAD_ONE_DRIVE\n",
    "from config import RUTA_LOCAL_ONE_DRIVE\n",
    "from config import POSTGRES_UTEA\n",
    "RUTA_COMPLETA = os.path.join(RUTA_UNIDAD_ONE_DRIVE, RUTA_LOCAL_ONE_DRIVE)"
   ]
  },
  {
   "cell_type": "code",
   "execution_count": null,
   "id": "817df305-d781-4903-a282-12ad328e3093",
   "metadata": {},
   "outputs": [],
   "source": []
  },
  {
   "cell_type": "code",
   "execution_count": 3,
   "id": "634dee54-20e5-44b3-ac7b-dfc1cc5f8f30",
   "metadata": {},
   "outputs": [],
   "source": [
    "def get_ruta_informes():\n",
    "    try:\n",
    "        with open('../../ruta_informes.txt', 'r') as file:\n",
    "            ruta_inf = file.readline().strip()\n",
    "            return ruta_inf\n",
    "    except FileNotFoundError:\n",
    "        print(\"El archivo 'ruta_local.txt' no se encuentra en la ruta especificada.\")\n",
    "    return None"
   ]
  },
  {
   "cell_type": "code",
   "execution_count": 4,
   "id": "34c60b3b-3d70-40c1-a3fc-a179afbaaacd",
   "metadata": {},
   "outputs": [],
   "source": [
    "ruta_informes = get_ruta_informes()\n",
    "directorio_origen = ruta_informes + r'\\_informes'\n",
    "directorio_destino = ruta_informes + r'\\_pdf'"
   ]
  },
  {
   "cell_type": "code",
   "execution_count": 5,
   "id": "f7358aef-7ee1-451d-bc05-47176be965d8",
   "metadata": {},
   "outputs": [],
   "source": [
    "# Recorre y convierte a pdf archivos .docx que no empiezan con \"_\"\n",
    "def convertir_docx_to_pdf():\n",
    "    for archivo in os.listdir(directorio_origen):\n",
    "        if archivo.lower().endswith(\".docx\") and not archivo.startswith(\"_\"):\n",
    "            ruta_docx = os.path.join(directorio_origen, archivo)\n",
    "            ruta_pdf = os.path.join(directorio_destino, archivo.replace(\".docx\", \".pdf\"))\n",
    "            \n",
    "            try:\n",
    "                convert(ruta_docx, ruta_pdf)\n",
    "                print(ruta_docx)\n",
    "                if os.path.exists(ruta_pdf):\n",
    "                    print(f\"✅ Convertido: {archivo}\")\n",
    "                    os.remove(ruta_docx)\n",
    "                    print(f\"🗑️ Eliminado original: {archivo}\")\n",
    "                else:\n",
    "                    print(f\"❌ Error: PDF no generado para {archivo}\")\n",
    "            except Exception as e:\n",
    "                print(f\"⚠️ Error al convertir {archivo}: {e}\")\n",
    "\n",
    "def obtener_engine():\n",
    "    return create_engine(\n",
    "        f\"postgresql+psycopg2://{POSTGRES_UTEA['USER']}:{POSTGRES_UTEA['PASSWORD']}@{POSTGRES_UTEA['HOST']}:{POSTGRES_UTEA['PORT']}/{POSTGRES_UTEA['DATABASE']}\"\n",
    "    )\n",
    "\n",
    "def cargar_link_to_db(url, cite):\n",
    "    engine = obtener_engine()\n",
    "    try:\n",
    "        with engine.begin() as conn:\n",
    "            query = text(\"\"\"\n",
    "                UPDATE drones_control_bio.resumen_control_bio SET link = :url WHERE cite = :cite\n",
    "            \"\"\")\n",
    "            conn.execute(query, {\"url\": url, \"cite\": cite})\n",
    "            print(f\"✔️ Se registro link para CITE: {cite}\" )\n",
    "    except Exception as e:\n",
    "        print(f\"❌ Error al actualizar CITE: {cite}, {e}\")\n",
    "\n",
    "def get_registros_sin_enviar():\n",
    "    engine = obtener_engine()\n",
    "    try:\n",
    "        query = \"\"\"\n",
    "            SELECT *\n",
    "            FROM drones_control_bio.resumen_control_bio\n",
    "            WHERE enviado = false\n",
    "        \"\"\"\n",
    "        df = pd.read_sql(query, engine)\n",
    "        return df\n",
    "    except Exception as e:\n",
    "        print(f\"❌ Error al consultar unidades sin labor: {e}\")\n",
    "        return pd.DataFrame()\n",
    "    return None"
   ]
  },
  {
   "cell_type": "code",
   "execution_count": null,
   "id": "99b4c3ca-df0a-45b0-b122-ab8b998180a1",
   "metadata": {},
   "outputs": [],
   "source": []
  },
  {
   "cell_type": "code",
   "execution_count": 6,
   "id": "5c89fabe-dbdc-418a-ba18-0c2c36a24f0c",
   "metadata": {},
   "outputs": [
    {
     "data": {
      "application/vnd.jupyter.widget-view+json": {
       "model_id": "7201047dc8f3400da474b9993d69ccbf",
       "version_major": 2,
       "version_minor": 0
      },
      "text/plain": [
       "  0%|          | 0/1 [00:00<?, ?it/s]"
      ]
     },
     "metadata": {},
     "output_type": "display_data"
    },
    {
     "name": "stdout",
     "output_type": "stream",
     "text": [
      "C:\\Users\\Usuario\\Desktop\\PROYECTOS\\_informes\\13187_SLCB_25-09-2025_SUAREZ CUELLAR REMBERTO_CB-2025-99.docx\n",
      "✅ Convertido: 13187_SLCB_25-09-2025_SUAREZ CUELLAR REMBERTO_CB-2025-99.docx\n",
      "🗑️ Eliminado original: 13187_SLCB_25-09-2025_SUAREZ CUELLAR REMBERTO_CB-2025-99.docx\n"
     ]
    },
    {
     "data": {
      "application/vnd.jupyter.widget-view+json": {
       "model_id": "f389c84118184f52b57e948841fa2499",
       "version_major": 2,
       "version_minor": 0
      },
      "text/plain": [
       "  0%|          | 0/1 [00:00<?, ?it/s]"
      ]
     },
     "metadata": {},
     "output_type": "display_data"
    },
    {
     "name": "stdout",
     "output_type": "stream",
     "text": [
      "C:\\Users\\Usuario\\Desktop\\PROYECTOS\\_informes\\15162_SLCB_26-09-2025_VELASCO ANEZ MARCO ANTONIO_CB-2025-101.docx\n",
      "✅ Convertido: 15162_SLCB_26-09-2025_VELASCO ANEZ MARCO ANTONIO_CB-2025-101.docx\n",
      "🗑️ Eliminado original: 15162_SLCB_26-09-2025_VELASCO ANEZ MARCO ANTONIO_CB-2025-101.docx\n"
     ]
    },
    {
     "data": {
      "application/vnd.jupyter.widget-view+json": {
       "model_id": "1101bcda651340db8e8fd726c097abb0",
       "version_major": 2,
       "version_minor": 0
      },
      "text/plain": [
       "  0%|          | 0/1 [00:00<?, ?it/s]"
      ]
     },
     "metadata": {},
     "output_type": "display_data"
    },
    {
     "name": "stdout",
     "output_type": "stream",
     "text": [
      "C:\\Users\\Usuario\\Desktop\\PROYECTOS\\_informes\\18062_SLCB_25-09-2025_MERCADO MERCADO RUBEN DARIO_CB-2025-104.docx\n",
      "✅ Convertido: 18062_SLCB_25-09-2025_MERCADO MERCADO RUBEN DARIO_CB-2025-104.docx\n",
      "🗑️ Eliminado original: 18062_SLCB_25-09-2025_MERCADO MERCADO RUBEN DARIO_CB-2025-104.docx\n"
     ]
    },
    {
     "data": {
      "application/vnd.jupyter.widget-view+json": {
       "model_id": "8e27870f239d44c6b8654ee1780b31a0",
       "version_major": 2,
       "version_minor": 0
      },
      "text/plain": [
       "  0%|          | 0/1 [00:00<?, ?it/s]"
      ]
     },
     "metadata": {},
     "output_type": "display_data"
    },
    {
     "name": "stdout",
     "output_type": "stream",
     "text": [
      "C:\\Users\\Usuario\\Desktop\\PROYECTOS\\_informes\\2351_SLCB_25-09-2025_CANDIA RUIZ ADALBERTO_CB-2025-102.docx\n",
      "✅ Convertido: 2351_SLCB_25-09-2025_CANDIA RUIZ ADALBERTO_CB-2025-102.docx\n",
      "🗑️ Eliminado original: 2351_SLCB_25-09-2025_CANDIA RUIZ ADALBERTO_CB-2025-102.docx\n"
     ]
    },
    {
     "data": {
      "application/vnd.jupyter.widget-view+json": {
       "model_id": "1a65379e47c14b1798dfd43dd1346fa8",
       "version_major": 2,
       "version_minor": 0
      },
      "text/plain": [
       "  0%|          | 0/1 [00:00<?, ?it/s]"
      ]
     },
     "metadata": {},
     "output_type": "display_data"
    },
    {
     "name": "stdout",
     "output_type": "stream",
     "text": [
      "C:\\Users\\Usuario\\Desktop\\PROYECTOS\\_informes\\2565_SLCB_25-09-2025_CANDIA RUIZ JOSE LUIS_CB-2025-106.docx\n",
      "✅ Convertido: 2565_SLCB_25-09-2025_CANDIA RUIZ JOSE LUIS_CB-2025-106.docx\n",
      "🗑️ Eliminado original: 2565_SLCB_25-09-2025_CANDIA RUIZ JOSE LUIS_CB-2025-106.docx\n"
     ]
    },
    {
     "data": {
      "application/vnd.jupyter.widget-view+json": {
       "model_id": "1fd5ecb419ac41cba3d242f5f66537c1",
       "version_major": 2,
       "version_minor": 0
      },
      "text/plain": [
       "  0%|          | 0/1 [00:00<?, ?it/s]"
      ]
     },
     "metadata": {},
     "output_type": "display_data"
    },
    {
     "name": "stdout",
     "output_type": "stream",
     "text": [
      "C:\\Users\\Usuario\\Desktop\\PROYECTOS\\_informes\\40250_SLCB_26-09-2025_AMURRIO MELGAROJO BISMARK ELISEO_CB-2025-110.docx\n",
      "✅ Convertido: 40250_SLCB_26-09-2025_AMURRIO MELGAROJO BISMARK ELISEO_CB-2025-110.docx\n",
      "🗑️ Eliminado original: 40250_SLCB_26-09-2025_AMURRIO MELGAROJO BISMARK ELISEO_CB-2025-110.docx\n"
     ]
    },
    {
     "data": {
      "application/vnd.jupyter.widget-view+json": {
       "model_id": "604400e20d984c3db8c604e337e37ac1",
       "version_major": 2,
       "version_minor": 0
      },
      "text/plain": [
       "  0%|          | 0/1 [00:00<?, ?it/s]"
      ]
     },
     "metadata": {},
     "output_type": "display_data"
    },
    {
     "name": "stdout",
     "output_type": "stream",
     "text": [
      "C:\\Users\\Usuario\\Desktop\\PROYECTOS\\_informes\\41962_SLCB_25-09-2025_CANDIA ROJAS JORGE LUIS_CB-2025-108.docx\n",
      "✅ Convertido: 41962_SLCB_25-09-2025_CANDIA ROJAS JORGE LUIS_CB-2025-108.docx\n",
      "🗑️ Eliminado original: 41962_SLCB_25-09-2025_CANDIA ROJAS JORGE LUIS_CB-2025-108.docx\n"
     ]
    },
    {
     "data": {
      "application/vnd.jupyter.widget-view+json": {
       "model_id": "63c2c8b59da24a98b0186a244e306697",
       "version_major": 2,
       "version_minor": 0
      },
      "text/plain": [
       "  0%|          | 0/1 [00:00<?, ?it/s]"
      ]
     },
     "metadata": {},
     "output_type": "display_data"
    },
    {
     "name": "stdout",
     "output_type": "stream",
     "text": [
      "C:\\Users\\Usuario\\Desktop\\PROYECTOS\\_informes\\41980_SLCB_26-09-2025_CASANOVA VELASCO JULIO CESAR_CB-2025-107.docx\n",
      "✅ Convertido: 41980_SLCB_26-09-2025_CASANOVA VELASCO JULIO CESAR_CB-2025-107.docx\n",
      "🗑️ Eliminado original: 41980_SLCB_26-09-2025_CASANOVA VELASCO JULIO CESAR_CB-2025-107.docx\n"
     ]
    },
    {
     "data": {
      "application/vnd.jupyter.widget-view+json": {
       "model_id": "74f3839f101a49e2bef3259062326494",
       "version_major": 2,
       "version_minor": 0
      },
      "text/plain": [
       "  0%|          | 0/1 [00:00<?, ?it/s]"
      ]
     },
     "metadata": {},
     "output_type": "display_data"
    },
    {
     "name": "stdout",
     "output_type": "stream",
     "text": [
      "C:\\Users\\Usuario\\Desktop\\PROYECTOS\\_informes\\42229_SLCB_25-09-2025_CANDIA ROJAS JOSE LUIS_CB-2025-109.docx\n",
      "✅ Convertido: 42229_SLCB_25-09-2025_CANDIA ROJAS JOSE LUIS_CB-2025-109.docx\n",
      "🗑️ Eliminado original: 42229_SLCB_25-09-2025_CANDIA ROJAS JOSE LUIS_CB-2025-109.docx\n"
     ]
    },
    {
     "data": {
      "application/vnd.jupyter.widget-view+json": {
       "model_id": "ae9cfd8be6f14b039fb2a675c75d7811",
       "version_major": 2,
       "version_minor": 0
      },
      "text/plain": [
       "  0%|          | 0/1 [00:00<?, ?it/s]"
      ]
     },
     "metadata": {},
     "output_type": "display_data"
    },
    {
     "name": "stdout",
     "output_type": "stream",
     "text": [
      "C:\\Users\\Usuario\\Desktop\\PROYECTOS\\_informes\\42347_SLCB_25-09-2025_MERCADO KATERINE JUSTINIANO DE_CB-2025-103.docx\n",
      "✅ Convertido: 42347_SLCB_25-09-2025_MERCADO KATERINE JUSTINIANO DE_CB-2025-103.docx\n",
      "🗑️ Eliminado original: 42347_SLCB_25-09-2025_MERCADO KATERINE JUSTINIANO DE_CB-2025-103.docx\n"
     ]
    },
    {
     "data": {
      "application/vnd.jupyter.widget-view+json": {
       "model_id": "9425fa7f3dd14c66a8cd943f6ff71482",
       "version_major": 2,
       "version_minor": 0
      },
      "text/plain": [
       "  0%|          | 0/1 [00:00<?, ?it/s]"
      ]
     },
     "metadata": {},
     "output_type": "display_data"
    },
    {
     "name": "stdout",
     "output_type": "stream",
     "text": [
      "C:\\Users\\Usuario\\Desktop\\PROYECTOS\\_informes\\42378_SLCB_25-09-2025_CANDIA RUIZ ORLANDO_CB-2025-111.docx\n",
      "✅ Convertido: 42378_SLCB_25-09-2025_CANDIA RUIZ ORLANDO_CB-2025-111.docx\n",
      "🗑️ Eliminado original: 42378_SLCB_25-09-2025_CANDIA RUIZ ORLANDO_CB-2025-111.docx\n"
     ]
    },
    {
     "data": {
      "application/vnd.jupyter.widget-view+json": {
       "model_id": "6137177888c04f24a56e75814df2e2f3",
       "version_major": 2,
       "version_minor": 0
      },
      "text/plain": [
       "  0%|          | 0/1 [00:00<?, ?it/s]"
      ]
     },
     "metadata": {},
     "output_type": "display_data"
    },
    {
     "name": "stdout",
     "output_type": "stream",
     "text": [
      "C:\\Users\\Usuario\\Desktop\\PROYECTOS\\_informes\\633_SLCB_26-09-2025_AGROP. VICENTE ROCA GIL SRL_CB-2025-100.docx\n",
      "✅ Convertido: 633_SLCB_26-09-2025_AGROP. VICENTE ROCA GIL SRL_CB-2025-100.docx\n",
      "🗑️ Eliminado original: 633_SLCB_26-09-2025_AGROP. VICENTE ROCA GIL SRL_CB-2025-100.docx\n"
     ]
    },
    {
     "data": {
      "application/vnd.jupyter.widget-view+json": {
       "model_id": "4573530746e64ece924c9e094e203fc4",
       "version_major": 2,
       "version_minor": 0
      },
      "text/plain": [
       "  0%|          | 0/1 [00:00<?, ?it/s]"
      ]
     },
     "metadata": {},
     "output_type": "display_data"
    },
    {
     "name": "stdout",
     "output_type": "stream",
     "text": [
      "C:\\Users\\Usuario\\Desktop\\PROYECTOS\\_informes\\7754_SLCB_25-09-2025_LEON MONDAQUE ROLY_CB-2025-112.docx\n",
      "✅ Convertido: 7754_SLCB_25-09-2025_LEON MONDAQUE ROLY_CB-2025-112.docx\n",
      "🗑️ Eliminado original: 7754_SLCB_25-09-2025_LEON MONDAQUE ROLY_CB-2025-112.docx\n"
     ]
    },
    {
     "data": {
      "application/vnd.jupyter.widget-view+json": {
       "model_id": "4da6353cdef14c939a4ee0ce3327e681",
       "version_major": 2,
       "version_minor": 0
      },
      "text/plain": [
       "  0%|          | 0/1 [00:00<?, ?it/s]"
      ]
     },
     "metadata": {},
     "output_type": "display_data"
    },
    {
     "name": "stdout",
     "output_type": "stream",
     "text": [
      "C:\\Users\\Usuario\\Desktop\\PROYECTOS\\_informes\\8894_SLCB_25-09-2025_MORA MIRANDA MARCELO_CB-2025-105.docx\n",
      "✅ Convertido: 8894_SLCB_25-09-2025_MORA MIRANDA MARCELO_CB-2025-105.docx\n",
      "🗑️ Eliminado original: 8894_SLCB_25-09-2025_MORA MIRANDA MARCELO_CB-2025-105.docx\n"
     ]
    }
   ],
   "source": [
    "convertir_docx_to_pdf()"
   ]
  },
  {
   "cell_type": "code",
   "execution_count": 7,
   "id": "150897f4-d3d0-4dcd-8363-43c575f22a70",
   "metadata": {},
   "outputs": [],
   "source": [
    "def cargar_pdf_to_drive(id_drive, title_file, path_file):\n",
    "    try:\n",
    "        # 1. Buscar si ya existe un archivo con el mismo nombre en la misma carpeta\n",
    "        query = f\"'{id_drive}' in parents and title = '{title_file}' and trashed = false\"\n",
    "        file_list = drive.ListFile({'q': query}).GetList()\n",
    "\n",
    "        if file_list:\n",
    "            # Si ya existe, usamos el primero encontrado\n",
    "            file = file_list[0]\n",
    "            print(f\"[INFO] El archivo '{title_file}' ya existe. Se reemplazará.\")\n",
    "        else:\n",
    "            # Si no existe, creamos uno nuevo\n",
    "            file = drive.CreateFile({\n",
    "                \"mimeType\": \"application/pdf\",\n",
    "                \"parents\": [{\"kind\": \"drive#fileLink\", \"id\": id_drive}]\n",
    "            })\n",
    "            file['title'] = title_file\n",
    "            print(f\"[INFO] El archivo '{title_file}' no existe. Se creará uno nuevo.\")\n",
    "\n",
    "        # 2. Reemplazar el contenido\n",
    "        file.SetContentFile(path_file)\n",
    "        file.Upload()\n",
    "\n",
    "        # 3. Dar permisos públicos si es nuevo\n",
    "        if not file_list:\n",
    "            file.InsertPermission({\n",
    "                'type': 'anyone',\n",
    "                'value': 'anyone',\n",
    "                'role': 'reader'\n",
    "            })\n",
    "\n",
    "        print(f\"[OK] Archivo '{title_file}' subido exitosamente.\")\n",
    "        return file['alternateLink']\n",
    "\n",
    "    except Exception as e:\n",
    "        print(f\"[ERROR] No se pudo subir el archivo '{title_file}': {e}\")\n",
    "        return False"
   ]
  },
  {
   "cell_type": "code",
   "execution_count": 8,
   "id": "8b9bd17e-26d6-4f55-aa7b-3c8d91af6b54",
   "metadata": {},
   "outputs": [
    {
     "name": "stdout",
     "output_type": "stream",
     "text": [
      "14\n"
     ]
    },
    {
     "data": {
      "text/plain": [
       "['13187_SLCB_25-09-2025_SUAREZ CUELLAR REMBERTO_CB-2025-99.pdf',\n",
       " '15162_SLCB_26-09-2025_VELASCO ANEZ MARCO ANTONIO_CB-2025-101.pdf',\n",
       " '18062_SLCB_25-09-2025_MERCADO MERCADO RUBEN DARIO_CB-2025-104.pdf',\n",
       " '2351_SLCB_25-09-2025_CANDIA RUIZ ADALBERTO_CB-2025-102.pdf',\n",
       " '2565_SLCB_25-09-2025_CANDIA RUIZ JOSE LUIS_CB-2025-106.pdf',\n",
       " '40250_SLCB_26-09-2025_AMURRIO MELGAROJO BISMARK ELISEO_CB-2025-110.pdf',\n",
       " '41962_SLCB_25-09-2025_CANDIA ROJAS JORGE LUIS_CB-2025-108.pdf',\n",
       " '41980_SLCB_26-09-2025_CASANOVA VELASCO JULIO CESAR_CB-2025-107.pdf',\n",
       " '42229_SLCB_25-09-2025_CANDIA ROJAS JOSE LUIS_CB-2025-109.pdf',\n",
       " '42347_SLCB_25-09-2025_MERCADO KATERINE JUSTINIANO DE_CB-2025-103.pdf',\n",
       " '42378_SLCB_25-09-2025_CANDIA RUIZ ORLANDO_CB-2025-111.pdf',\n",
       " '633_SLCB_26-09-2025_AGROP. VICENTE ROCA GIL SRL_CB-2025-100.pdf',\n",
       " '7754_SLCB_25-09-2025_LEON MONDAQUE ROLY_CB-2025-112.pdf',\n",
       " '8894_SLCB_25-09-2025_MORA MIRANDA MARCELO_CB-2025-105.pdf']"
      ]
     },
     "execution_count": 8,
     "metadata": {},
     "output_type": "execute_result"
    }
   ],
   "source": [
    "contenido = os.listdir(directorio_destino)\n",
    "print(len(contenido))\n",
    "contenido"
   ]
  },
  {
   "cell_type": "code",
   "execution_count": 9,
   "id": "cd3db610-4dd3-4c47-8573-8b2e16748b0a",
   "metadata": {},
   "outputs": [
    {
     "name": "stdout",
     "output_type": "stream",
     "text": [
      "CB-2025-99\n",
      "[INFO] El archivo '13187_SLCB_25-09-2025_SUAREZ CUELLAR REMBERTO_CB-2025-99.pdf' no existe. Se creará uno nuevo.\n",
      "[OK] Archivo '13187_SLCB_25-09-2025_SUAREZ CUELLAR REMBERTO_CB-2025-99.pdf' subido exitosamente.\n",
      "✔️ Se registro link para CITE: CB-2025-99\n",
      "✅ Archivo eliminado.\n",
      "CB-2025-101\n",
      "[INFO] El archivo '15162_SLCB_26-09-2025_VELASCO ANEZ MARCO ANTONIO_CB-2025-101.pdf' no existe. Se creará uno nuevo.\n",
      "[OK] Archivo '15162_SLCB_26-09-2025_VELASCO ANEZ MARCO ANTONIO_CB-2025-101.pdf' subido exitosamente.\n",
      "✔️ Se registro link para CITE: CB-2025-101\n",
      "✅ Archivo eliminado.\n",
      "CB-2025-104\n",
      "[INFO] El archivo '18062_SLCB_25-09-2025_MERCADO MERCADO RUBEN DARIO_CB-2025-104.pdf' no existe. Se creará uno nuevo.\n",
      "[OK] Archivo '18062_SLCB_25-09-2025_MERCADO MERCADO RUBEN DARIO_CB-2025-104.pdf' subido exitosamente.\n",
      "✔️ Se registro link para CITE: CB-2025-104\n",
      "✅ Archivo eliminado.\n",
      "CB-2025-102\n",
      "[INFO] El archivo '2351_SLCB_25-09-2025_CANDIA RUIZ ADALBERTO_CB-2025-102.pdf' no existe. Se creará uno nuevo.\n",
      "[OK] Archivo '2351_SLCB_25-09-2025_CANDIA RUIZ ADALBERTO_CB-2025-102.pdf' subido exitosamente.\n",
      "✔️ Se registro link para CITE: CB-2025-102\n",
      "✅ Archivo eliminado.\n",
      "CB-2025-106\n",
      "[INFO] El archivo '2565_SLCB_25-09-2025_CANDIA RUIZ JOSE LUIS_CB-2025-106.pdf' no existe. Se creará uno nuevo.\n",
      "[OK] Archivo '2565_SLCB_25-09-2025_CANDIA RUIZ JOSE LUIS_CB-2025-106.pdf' subido exitosamente.\n",
      "✔️ Se registro link para CITE: CB-2025-106\n",
      "✅ Archivo eliminado.\n",
      "CB-2025-110\n",
      "[INFO] El archivo '40250_SLCB_26-09-2025_AMURRIO MELGAROJO BISMARK ELISEO_CB-2025-110.pdf' no existe. Se creará uno nuevo.\n",
      "[OK] Archivo '40250_SLCB_26-09-2025_AMURRIO MELGAROJO BISMARK ELISEO_CB-2025-110.pdf' subido exitosamente.\n",
      "✔️ Se registro link para CITE: CB-2025-110\n",
      "✅ Archivo eliminado.\n",
      "CB-2025-108\n",
      "[INFO] El archivo '41962_SLCB_25-09-2025_CANDIA ROJAS JORGE LUIS_CB-2025-108.pdf' no existe. Se creará uno nuevo.\n",
      "[OK] Archivo '41962_SLCB_25-09-2025_CANDIA ROJAS JORGE LUIS_CB-2025-108.pdf' subido exitosamente.\n",
      "✔️ Se registro link para CITE: CB-2025-108\n",
      "✅ Archivo eliminado.\n",
      "CB-2025-107\n",
      "[INFO] El archivo '41980_SLCB_26-09-2025_CASANOVA VELASCO JULIO CESAR_CB-2025-107.pdf' no existe. Se creará uno nuevo.\n",
      "[OK] Archivo '41980_SLCB_26-09-2025_CASANOVA VELASCO JULIO CESAR_CB-2025-107.pdf' subido exitosamente.\n",
      "✔️ Se registro link para CITE: CB-2025-107\n",
      "✅ Archivo eliminado.\n",
      "CB-2025-109\n",
      "[INFO] El archivo '42229_SLCB_25-09-2025_CANDIA ROJAS JOSE LUIS_CB-2025-109.pdf' no existe. Se creará uno nuevo.\n",
      "[OK] Archivo '42229_SLCB_25-09-2025_CANDIA ROJAS JOSE LUIS_CB-2025-109.pdf' subido exitosamente.\n",
      "✔️ Se registro link para CITE: CB-2025-109\n",
      "✅ Archivo eliminado.\n",
      "CB-2025-103\n",
      "[INFO] El archivo '42347_SLCB_25-09-2025_MERCADO KATERINE JUSTINIANO DE_CB-2025-103.pdf' no existe. Se creará uno nuevo.\n",
      "[OK] Archivo '42347_SLCB_25-09-2025_MERCADO KATERINE JUSTINIANO DE_CB-2025-103.pdf' subido exitosamente.\n",
      "✔️ Se registro link para CITE: CB-2025-103\n",
      "✅ Archivo eliminado.\n",
      "CB-2025-111\n",
      "[INFO] El archivo '42378_SLCB_25-09-2025_CANDIA RUIZ ORLANDO_CB-2025-111.pdf' no existe. Se creará uno nuevo.\n",
      "[OK] Archivo '42378_SLCB_25-09-2025_CANDIA RUIZ ORLANDO_CB-2025-111.pdf' subido exitosamente.\n",
      "✔️ Se registro link para CITE: CB-2025-111\n",
      "✅ Archivo eliminado.\n",
      "CB-2025-100\n",
      "[INFO] El archivo '633_SLCB_26-09-2025_AGROP. VICENTE ROCA GIL SRL_CB-2025-100.pdf' no existe. Se creará uno nuevo.\n",
      "[OK] Archivo '633_SLCB_26-09-2025_AGROP. VICENTE ROCA GIL SRL_CB-2025-100.pdf' subido exitosamente.\n",
      "✔️ Se registro link para CITE: CB-2025-100\n",
      "✅ Archivo eliminado.\n",
      "CB-2025-112\n",
      "[INFO] El archivo '7754_SLCB_25-09-2025_LEON MONDAQUE ROLY_CB-2025-112.pdf' no existe. Se creará uno nuevo.\n",
      "[OK] Archivo '7754_SLCB_25-09-2025_LEON MONDAQUE ROLY_CB-2025-112.pdf' subido exitosamente.\n",
      "✔️ Se registro link para CITE: CB-2025-112\n",
      "✅ Archivo eliminado.\n",
      "CB-2025-105\n",
      "[INFO] El archivo '8894_SLCB_25-09-2025_MORA MIRANDA MARCELO_CB-2025-105.pdf' no existe. Se creará uno nuevo.\n",
      "[OK] Archivo '8894_SLCB_25-09-2025_MORA MIRANDA MARCELO_CB-2025-105.pdf' subido exitosamente.\n",
      "✔️ Se registro link para CITE: CB-2025-105\n",
      "✅ Archivo eliminado.\n"
     ]
    }
   ],
   "source": [
    "for file in contenido:\n",
    "    partes = file.split('_')\n",
    "    \n",
    "    cite = partes[-1].split('.')[0]\n",
    "    sigla = partes[1]\n",
    "    title_file = file\n",
    "    id_drive = '1sEfhWGATb7tkKgr6gcknH3ZA_ed_hGTq'\n",
    "    path_file = os.path.join(directorio_destino, file)\n",
    "    print(cite)\n",
    "    url_drive = cargar_pdf_to_drive(id_drive, title_file, path_file)\n",
    "    if url_drive == False:\n",
    "        continue\n",
    "    cargar_link_to_db(url_drive, cite)\n",
    "    if os.path.exists(path_file):\n",
    "        os.remove(path_file)\n",
    "        print(\"✅ Archivo eliminado.\")\n",
    "    else:\n",
    "        print(\"⚠️ El archivo no existe.\")"
   ]
  },
  {
   "cell_type": "code",
   "execution_count": null,
   "id": "ce06318b-f09b-4389-b5b4-5e8a5394bb2c",
   "metadata": {},
   "outputs": [],
   "source": []
  },
  {
   "cell_type": "code",
   "execution_count": null,
   "id": "bf43c9af-a971-4139-acbb-206adff27422",
   "metadata": {},
   "outputs": [],
   "source": []
  },
  {
   "cell_type": "code",
   "execution_count": null,
   "id": "d5c81f0c-6523-4723-95ba-516605266b5f",
   "metadata": {},
   "outputs": [],
   "source": []
  },
  {
   "cell_type": "code",
   "execution_count": null,
   "id": "e3ba5115-2b3a-4ba4-9bf4-49417e06dae0",
   "metadata": {},
   "outputs": [],
   "source": []
  },
  {
   "cell_type": "code",
   "execution_count": null,
   "id": "06524a4a-244c-44ec-bad6-4963047c5a77",
   "metadata": {},
   "outputs": [],
   "source": []
  },
  {
   "cell_type": "code",
   "execution_count": null,
   "id": "74582022-8ce8-441c-bb6a-310a814396ba",
   "metadata": {},
   "outputs": [],
   "source": []
  },
  {
   "cell_type": "code",
   "execution_count": 10,
   "id": "8a244821-7332-4c5f-aa0c-1e8dedef4263",
   "metadata": {},
   "outputs": [],
   "source": [
    "import psycopg2"
   ]
  },
  {
   "cell_type": "code",
   "execution_count": 11,
   "id": "af20d880-9560-47c5-8317-77c4c3000d50",
   "metadata": {},
   "outputs": [],
   "source": [
    "def obtener_conexion():\n",
    "    return psycopg2.connect(\n",
    "        host='localhost', \n",
    "        port=5433, \n",
    "        database='utea', \n",
    "        user='postgres', \n",
    "        password='A123456*')\n",
    "    \n",
    "def insertar_mensaje_whatsapp(cod_canero, nombre_canero, numero_contac, mensaje, enviado=False, fecha_enviado=None):\n",
    "    try:\n",
    "        conexion = obtener_conexion()\n",
    "        cursor = conexion.cursor()\n",
    "        cursor.execute(\"\"\"\n",
    "            INSERT INTO notificaciones_wsp.msj_whatsapp (\n",
    "                cod_canero, nombre_canero, numero_cel, mensaje, enviado, fecha_enviado, numero_contac\n",
    "            ) VALUES (%s, %s, %s, %s, %s, %s, %s)\n",
    "        \"\"\", (cod_canero, nombre_canero, 0, mensaje, enviado, fecha_enviado, numero_contac))\n",
    "        \n",
    "        conexion.commit()\n",
    "        cursor.close()\n",
    "        print(\"Mensaje insertado correctamente.\")\n",
    "    except Exception as e:\n",
    "        conexion.rollback()\n",
    "        print(\"Error inesperado\")\n",
    "    return None\n",
    "\n",
    "def marcar_resumen_lib_enviado(id_resumen):\n",
    "    try:\n",
    "        conexion = obtener_conexion()\n",
    "        cursor = conexion.cursor()\n",
    "        cursor.execute(\"\"\"\n",
    "            UPDATE drones_control_bio.resumen_control_bio\n",
    "            SET enviado = true\n",
    "            WHERE id = %s\n",
    "        \"\"\", (id_resumen,))\n",
    "        conexion.commit()\n",
    "        cursor.close()\n",
    "        print(f\"Mensaje con id={id_resumen} marcado como enviado.\")\n",
    "    except Exception as e:\n",
    "        conexion.rollback()\n",
    "        print(f\"Error inesperado: {e}\")\n",
    "    finally:\n",
    "        if conexion:\n",
    "            conexion.close()\n",
    "    return None"
   ]
  },
  {
   "cell_type": "code",
   "execution_count": 12,
   "id": "3136f95a-89b7-4f01-b444-c36a6eac8f8a",
   "metadata": {},
   "outputs": [],
   "source": [
    "PATH_XLSX_CONTAC=r'G:\\\\Ingenio Azucarero Guabira S.A\\\\UTEA - SEMANAL - EQUIPO AVIACION UTEA\\\\Pulverizacion\\\\Data\\\\CONTACTOS.xlsx'"
   ]
  },
  {
   "cell_type": "code",
   "execution_count": 19,
   "id": "0f30d8f8-d523-4ea5-9c84-0931823b295e",
   "metadata": {},
   "outputs": [],
   "source": [
    "sin_enviar = get_registros_sin_enviar()"
   ]
  },
  {
   "cell_type": "code",
   "execution_count": 20,
   "id": "0460aa16-7f7c-4491-8de4-e465ee4bef3f",
   "metadata": {},
   "outputs": [
    {
     "data": {
      "text/plain": [
       "[97, 99, 105, 106, 109, 111, 113, 116, 118, 89]"
      ]
     },
     "execution_count": 20,
     "metadata": {},
     "output_type": "execute_result"
    }
   ],
   "source": [
    "cods_ca = list(set(sin_enviar['id']))\n",
    "cods_ca"
   ]
  },
  {
   "cell_type": "code",
   "execution_count": 21,
   "id": "24cc7827-5111-4a93-83b3-ddaabe44bf58",
   "metadata": {},
   "outputs": [],
   "source": [
    "df_contac = pd.read_excel(PATH_XLSX_CONTAC)\n",
    "df_contac.fillna(0, inplace=True)\n",
    "df_contac = df_contac[['cod_ca', 'nom_ca', 'telf01', 'telf02', 'telf03']]"
   ]
  },
  {
   "cell_type": "code",
   "execution_count": 22,
   "id": "e9d687c4-3425-42e3-a626-6695f3a29aef",
   "metadata": {},
   "outputs": [
    {
     "data": {
      "text/html": [
       "<div>\n",
       "<style scoped>\n",
       "    .dataframe tbody tr th:only-of-type {\n",
       "        vertical-align: middle;\n",
       "    }\n",
       "\n",
       "    .dataframe tbody tr th {\n",
       "        vertical-align: top;\n",
       "    }\n",
       "\n",
       "    .dataframe thead th {\n",
       "        text-align: right;\n",
       "    }\n",
       "</style>\n",
       "<table border=\"1\" class=\"dataframe\">\n",
       "  <thead>\n",
       "    <tr style=\"text-align: right;\">\n",
       "      <th></th>\n",
       "      <th>cod_ca</th>\n",
       "      <th>nom_ca</th>\n",
       "      <th>telf01</th>\n",
       "      <th>telf02</th>\n",
       "      <th>telf03</th>\n",
       "    </tr>\n",
       "  </thead>\n",
       "  <tbody>\n",
       "    <tr>\n",
       "      <th>0</th>\n",
       "      <td>0</td>\n",
       "      <td>CAÑERO TEST</td>\n",
       "      <td>78194371</td>\n",
       "      <td>0.0</td>\n",
       "      <td>0.0</td>\n",
       "    </tr>\n",
       "    <tr>\n",
       "      <th>1</th>\n",
       "      <td>86</td>\n",
       "      <td>AGUILERA TARADELLES JOSE LUIS</td>\n",
       "      <td>67759316</td>\n",
       "      <td>77010520.0</td>\n",
       "      <td>68848905.0</td>\n",
       "    </tr>\n",
       "    <tr>\n",
       "      <th>2</th>\n",
       "      <td>180</td>\n",
       "      <td>ELISEO AMURRIO</td>\n",
       "      <td>67559958</td>\n",
       "      <td>0.0</td>\n",
       "      <td>0.0</td>\n",
       "    </tr>\n",
       "  </tbody>\n",
       "</table>\n",
       "</div>"
      ],
      "text/plain": [
       "   cod_ca                         nom_ca    telf01      telf02      telf03\n",
       "0       0                    CAÑERO TEST  78194371         0.0         0.0\n",
       "1      86  AGUILERA TARADELLES JOSE LUIS  67759316  77010520.0  68848905.0\n",
       "2     180                 ELISEO AMURRIO  67559958         0.0         0.0"
      ]
     },
     "execution_count": 22,
     "metadata": {},
     "output_type": "execute_result"
    }
   ],
   "source": [
    "df_contac.head(3)"
   ]
  },
  {
   "cell_type": "code",
   "execution_count": 23,
   "id": "a7d1323c-c61a-458d-b86d-7a7e10ad2e16",
   "metadata": {},
   "outputs": [
    {
     "data": {
      "text/html": [
       "<div>\n",
       "<style scoped>\n",
       "    .dataframe tbody tr th:only-of-type {\n",
       "        vertical-align: middle;\n",
       "    }\n",
       "\n",
       "    .dataframe tbody tr th {\n",
       "        vertical-align: top;\n",
       "    }\n",
       "\n",
       "    .dataframe thead th {\n",
       "        text-align: right;\n",
       "    }\n",
       "</style>\n",
       "<table border=\"1\" class=\"dataframe\">\n",
       "  <thead>\n",
       "    <tr style=\"text-align: right;\">\n",
       "      <th></th>\n",
       "      <th>id</th>\n",
       "      <th>fecha</th>\n",
       "      <th>institucion</th>\n",
       "      <th>cod_canero</th>\n",
       "      <th>nombre_canero</th>\n",
       "      <th>hectareas</th>\n",
       "      <th>cite</th>\n",
       "      <th>cod_propiedad</th>\n",
       "      <th>propiedad</th>\n",
       "      <th>producto</th>\n",
       "      <th>link</th>\n",
       "      <th>agrocittca</th>\n",
       "      <th>enviado</th>\n",
       "    </tr>\n",
       "  </thead>\n",
       "  <tbody>\n",
       "    <tr>\n",
       "      <th>0</th>\n",
       "      <td>99</td>\n",
       "      <td>2025-09-24</td>\n",
       "      <td>66</td>\n",
       "      <td>5448</td>\n",
       "      <td>HUANCA MENCHAQUE ROLY</td>\n",
       "      <td>5.67</td>\n",
       "      <td>CB-2025-92</td>\n",
       "      <td>545</td>\n",
       "      <td>TAJIBO--ANZE CUAJIRA</td>\n",
       "      <td>['TRICHOGRAMMA']</td>\n",
       "      <td>https://drive.google.com/file/d/1yMuoCSTlCPM3X...</td>\n",
       "      <td>True</td>\n",
       "      <td>False</td>\n",
       "    </tr>\n",
       "    <tr>\n",
       "      <th>1</th>\n",
       "      <td>89</td>\n",
       "      <td>2025-09-18</td>\n",
       "      <td>50</td>\n",
       "      <td>3412</td>\n",
       "      <td>ESPINOZA VILLCA DIONICIO</td>\n",
       "      <td>22.30</td>\n",
       "      <td>CB-2025-82</td>\n",
       "      <td>1561</td>\n",
       "      <td>OKINAWA I--DIONISIO ESPINOZA</td>\n",
       "      <td>['TRICHOGRAMMA']</td>\n",
       "      <td>https://drive.google.com/file/d/1gDmLPzM6rW9Ua...</td>\n",
       "      <td>True</td>\n",
       "      <td>False</td>\n",
       "    </tr>\n",
       "    <tr>\n",
       "      <th>2</th>\n",
       "      <td>97</td>\n",
       "      <td>2025-09-24</td>\n",
       "      <td>8</td>\n",
       "      <td>1165</td>\n",
       "      <td>BEJARANO GANDARILLA ERWIN</td>\n",
       "      <td>11.03</td>\n",
       "      <td>CB-2025-90</td>\n",
       "      <td>40</td>\n",
       "      <td>SAN VICENTE--ERWIN BEJARANO</td>\n",
       "      <td>['TRICHOGRAMMA']</td>\n",
       "      <td>https://drive.google.com/file/d/1g8YpDinDp3gkD...</td>\n",
       "      <td>True</td>\n",
       "      <td>False</td>\n",
       "    </tr>\n",
       "  </tbody>\n",
       "</table>\n",
       "</div>"
      ],
      "text/plain": [
       "   id       fecha  institucion  cod_canero              nombre_canero  \\\n",
       "0  99  2025-09-24           66        5448      HUANCA MENCHAQUE ROLY   \n",
       "1  89  2025-09-18           50        3412   ESPINOZA VILLCA DIONICIO   \n",
       "2  97  2025-09-24            8        1165  BEJARANO GANDARILLA ERWIN   \n",
       "\n",
       "   hectareas        cite  cod_propiedad                     propiedad  \\\n",
       "0       5.67  CB-2025-92            545          TAJIBO--ANZE CUAJIRA   \n",
       "1      22.30  CB-2025-82           1561  OKINAWA I--DIONISIO ESPINOZA   \n",
       "2      11.03  CB-2025-90             40   SAN VICENTE--ERWIN BEJARANO   \n",
       "\n",
       "           producto                                               link  \\\n",
       "0  ['TRICHOGRAMMA']  https://drive.google.com/file/d/1yMuoCSTlCPM3X...   \n",
       "1  ['TRICHOGRAMMA']  https://drive.google.com/file/d/1gDmLPzM6rW9Ua...   \n",
       "2  ['TRICHOGRAMMA']  https://drive.google.com/file/d/1g8YpDinDp3gkD...   \n",
       "\n",
       "   agrocittca  enviado  \n",
       "0        True    False  \n",
       "1        True    False  \n",
       "2        True    False  "
      ]
     },
     "execution_count": 23,
     "metadata": {},
     "output_type": "execute_result"
    }
   ],
   "source": [
    "sin_enviar.head(3)"
   ]
  },
  {
   "cell_type": "code",
   "execution_count": 24,
   "id": "3f78b1fb-c3b9-4c80-b2c0-d78877eafcc9",
   "metadata": {},
   "outputs": [
    {
     "name": "stdout",
     "output_type": "stream",
     "text": [
      "Codigo: 5448 - HUANCA MENCHAQUE ROLY no tiene registro telefonico\n",
      "Codigo: 3412 - ESPINOZA VILLCA DIONICIO no tiene registro telefonico\n",
      "Codigo: 1165 - BEJARANO GANDARILLA ERWIN no tiene registro telefonico\n",
      "Codigo: 16213 - ZAPATA SERON SIMON no tiene registro telefonico\n",
      "Codigo: 18062 - MERCADO MERCADO RUBEN DARIO no tiene registro telefonico\n",
      "Codigo: 2351 - CANDIA RUIZ ADALBERTO no tiene registro telefonico\n",
      "Codigo: 13187 - SUAREZ CUELLAR REMBERTO no tiene registro telefonico\n",
      "Codigo: 2565 - CANDIA RUIZ JOSE LUIS no tiene registro telefonico\n",
      "Codigo: 42229 - CANDIA ROJAS JOSE LUIS no tiene registro telefonico\n",
      "Codigo: 42378 - CANDIA RUIZ ORLANDO no tiene registro telefonico\n"
     ]
    }
   ],
   "source": [
    "for index, row in sin_enviar.iterrows():    \n",
    "    contac_filtro = df_contac[df_contac['cod_ca']==row['cod_canero']]\n",
    "    if not contac_filtro.empty:  # Verifica si hay al menos una fila\n",
    "        contac = contac_filtro.iloc[0]\n",
    "        telefonos = [int(contac['telf01']), int(contac['telf02']), int(contac['telf03'])]\n",
    "        telefonos_validos = [telefono for telefono in telefonos if len(str(telefono)) == 8]\n",
    "        if (len(telefonos_validos) == 0):\n",
    "            print(f'Codigo: {cod} no tinene numeros validos registrados')\n",
    "            continue\n",
    "        \n",
    "        for num in telefonos_validos:\n",
    "            msj = f\"Saludos *{row['nombre_canero']}*, le escribimos desde *UTEA - GUABIRA* para hacer llegar una copia del informe de servicio de control biologico en caña de azucar. Adjunto informe: {row['link']}\"\n",
    "            insertar_mensaje_whatsapp(\n",
    "                cod_canero=row['cod_canero'],\n",
    "                nombre_canero=row['nombre_canero'],\n",
    "                numero_contac=f'591{num}@s.whatsapp.net',\n",
    "                mensaje=msj\n",
    "            )\n",
    "            marcar_resumen_lib_enviado(row['id'])\n",
    "    else:\n",
    "        print(f\"Codigo: {row['cod_canero']} - {row['nombre_canero']} no tiene registro telefonico\")"
   ]
  },
  {
   "cell_type": "code",
   "execution_count": null,
   "id": "3b862c0d-f8cc-4200-89f8-7d23c3c154ef",
   "metadata": {},
   "outputs": [],
   "source": []
  },
  {
   "cell_type": "code",
   "execution_count": null,
   "id": "fbc2f321-08ca-4a33-93a4-e78dfe70a9d3",
   "metadata": {},
   "outputs": [],
   "source": []
  },
  {
   "cell_type": "code",
   "execution_count": null,
   "id": "06076602-2461-42ae-9d8a-d55b382f8b5c",
   "metadata": {},
   "outputs": [],
   "source": []
  },
  {
   "cell_type": "code",
   "execution_count": null,
   "id": "8ad04cff-9dd9-49cf-b302-ff60768a6565",
   "metadata": {},
   "outputs": [],
   "source": []
  },
  {
   "cell_type": "code",
   "execution_count": null,
   "id": "f7dfbd3e-eaac-49a7-b921-cd9c77f588cd",
   "metadata": {},
   "outputs": [],
   "source": []
  }
 ],
 "metadata": {
  "kernelspec": {
   "display_name": "Python 3 (ipykernel)",
   "language": "python",
   "name": "python3"
  },
  "language_info": {
   "codemirror_mode": {
    "name": "ipython",
    "version": 3
   },
   "file_extension": ".py",
   "mimetype": "text/x-python",
   "name": "python",
   "nbconvert_exporter": "python",
   "pygments_lexer": "ipython3",
   "version": "3.10.13"
  }
 },
 "nbformat": 4,
 "nbformat_minor": 5
}
