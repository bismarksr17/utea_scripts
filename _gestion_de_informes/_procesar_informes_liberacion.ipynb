{
 "cells": [
  {
   "cell_type": "code",
   "execution_count": 2,
   "id": "fb6efbf6-9eff-49b3-9f8c-e49a46103a9f",
   "metadata": {},
   "outputs": [
    {
     "ename": "NameError",
     "evalue": "name 'fege' is not defined",
     "output_type": "error",
     "traceback": [
      "\u001b[1;31m---------------------------------------------------------------------------\u001b[0m",
      "\u001b[1;31mNameError\u001b[0m                                 Traceback (most recent call last)",
      "Cell \u001b[1;32mIn[2], line 1\u001b[0m\n\u001b[1;32m----> 1\u001b[0m \u001b[43mfege\u001b[49m\n",
      "\u001b[1;31mNameError\u001b[0m: name 'fege' is not defined"
     ]
    }
   ],
   "source": [
    "fege"
   ]
  },
  {
   "cell_type": "code",
   "execution_count": 1,
   "id": "a8fcfb71-d889-45d2-a46f-b575a6908bfb",
   "metadata": {},
   "outputs": [],
   "source": [
    "import sys\n",
    "sys.path.append('../_amigocloud')\n",
    "\n",
    "from sqlalchemy import create_engine, text\n",
    "from amigocloud import AmigoCloud\n",
    "from docx import Document\n",
    "from docx2pdf import convert\n",
    "import os\n",
    "import json\n",
    "import pandas as pd\n",
    "\n",
    "# CONEXIÓN A GOOGLE DRIVE\n",
    "from pydrive.auth import GoogleAuth\n",
    "from pydrive.drive import GoogleDrive\n",
    "import os\n",
    "\n",
    "gauth = GoogleAuth()\n",
    "\n",
    "# Si existe el archivo, intenta cargarlo\n",
    "if os.path.exists(\"mycreds.txt\"):\n",
    "    gauth.LoadCredentialsFile(\"mycreds.txt\")\n",
    "\n",
    "# Si no hay credenciales o son inválidas, forzar nueva autenticación\n",
    "if gauth.credentials is None or gauth.access_token_expired:\n",
    "    try:\n",
    "        gauth.LocalWebserverAuth()\n",
    "    except:\n",
    "        print(\"Error de autenticación. Eliminá 'mycreds.txt' y volvé a intentarlo.\")\n",
    "else:\n",
    "    gauth.Authorize()\n",
    "\n",
    "gauth.SaveCredentialsFile(\"mycreds.txt\")\n",
    "drive = GoogleDrive(gauth)"
   ]
  },
  {
   "cell_type": "code",
   "execution_count": 2,
   "id": "10f0c050-45c8-496c-b5a7-364478c3f41e",
   "metadata": {},
   "outputs": [],
   "source": [
    "sys.path.append('..')\n",
    "\n",
    "from config import RUTA_UNIDAD_ONE_DRIVE\n",
    "from config import RUTA_LOCAL_ONE_DRIVE\n",
    "from config import POSTGRES_UTEA\n",
    "RUTA_COMPLETA = os.path.join(RUTA_UNIDAD_ONE_DRIVE, RUTA_LOCAL_ONE_DRIVE)"
   ]
  },
  {
   "cell_type": "code",
   "execution_count": null,
   "id": "817df305-d781-4903-a282-12ad328e3093",
   "metadata": {},
   "outputs": [],
   "source": []
  },
  {
   "cell_type": "code",
   "execution_count": 3,
   "id": "634dee54-20e5-44b3-ac7b-dfc1cc5f8f30",
   "metadata": {},
   "outputs": [],
   "source": [
    "def get_ruta_informes():\n",
    "    try:\n",
    "        with open('../../ruta_informes.txt', 'r') as file:\n",
    "            ruta_inf = file.readline().strip()\n",
    "            return ruta_inf\n",
    "    except FileNotFoundError:\n",
    "        print(\"El archivo 'ruta_local.txt' no se encuentra en la ruta especificada.\")\n",
    "    return None"
   ]
  },
  {
   "cell_type": "code",
   "execution_count": 4,
   "id": "34c60b3b-3d70-40c1-a3fc-a179afbaaacd",
   "metadata": {},
   "outputs": [],
   "source": [
    "ruta_informes = get_ruta_informes()\n",
    "directorio_origen = ruta_informes + r'\\_informes'\n",
    "directorio_destino = ruta_informes + r'\\_pdf'"
   ]
  },
  {
   "cell_type": "code",
   "execution_count": 5,
   "id": "f7358aef-7ee1-451d-bc05-47176be965d8",
   "metadata": {},
   "outputs": [],
   "source": [
    "# Recorre y convierte a pdf archivos .docx que no empiezan con \"_\"\n",
    "def convertir_docx_to_pdf():\n",
    "    for archivo in os.listdir(directorio_origen):\n",
    "        if archivo.lower().endswith(\".docx\") and not archivo.startswith(\"_\"):\n",
    "            ruta_docx = os.path.join(directorio_origen, archivo)\n",
    "            ruta_pdf = os.path.join(directorio_destino, archivo.replace(\".docx\", \".pdf\"))\n",
    "            \n",
    "            try:\n",
    "                convert(ruta_docx, ruta_pdf)\n",
    "                print(ruta_docx)\n",
    "                if os.path.exists(ruta_pdf):\n",
    "                    print(f\"✅ Convertido: {archivo}\")\n",
    "                    os.remove(ruta_docx)\n",
    "                    print(f\"🗑️ Eliminado original: {archivo}\")\n",
    "                else:\n",
    "                    print(f\"❌ Error: PDF no generado para {archivo}\")\n",
    "            except Exception as e:\n",
    "                print(f\"⚠️ Error al convertir {archivo}: {e}\")\n",
    "\n",
    "def obtener_engine():\n",
    "    return create_engine(\n",
    "        f\"postgresql+psycopg2://{POSTGRES_UTEA['USER']}:{POSTGRES_UTEA['PASSWORD']}@{POSTGRES_UTEA['HOST']}:{POSTGRES_UTEA['PORT']}/{POSTGRES_UTEA['DATABASE']}\"\n",
    "    )\n",
    "\n",
    "def cargar_link_to_db(url, cite):\n",
    "    engine = obtener_engine()\n",
    "    try:\n",
    "        with engine.begin() as conn:\n",
    "            query = text(\"\"\"\n",
    "                UPDATE drones_control_bio.resumen_control_bio SET link = :url WHERE cite = :cite\n",
    "            \"\"\")\n",
    "            conn.execute(query, {\"url\": url, \"cite\": cite})\n",
    "            print(f\"✔️ Se registro link para CITE: {cite}\" )\n",
    "    except Exception as e:\n",
    "        print(f\"❌ Error al actualizar CITE: {cite}, {e}\")\n",
    "\n",
    "def get_registros_sin_enviar():\n",
    "    engine = obtener_engine()\n",
    "    try:\n",
    "        query = \"\"\"\n",
    "            SELECT *\n",
    "            FROM drones_control_bio.resumen_control_bio\n",
    "            WHERE enviado = false\n",
    "        \"\"\"\n",
    "        df = pd.read_sql(query, engine)\n",
    "        return df\n",
    "    except Exception as e:\n",
    "        print(f\"❌ Error al consultar unidades sin labor: {e}\")\n",
    "        return pd.DataFrame()\n",
    "    return None"
   ]
  },
  {
   "cell_type": "code",
   "execution_count": null,
   "id": "99b4c3ca-df0a-45b0-b122-ab8b998180a1",
   "metadata": {},
   "outputs": [],
   "source": []
  },
  {
   "cell_type": "code",
   "execution_count": 6,
   "id": "5c89fabe-dbdc-418a-ba18-0c2c36a24f0c",
   "metadata": {},
   "outputs": [
    {
     "data": {
      "application/vnd.jupyter.widget-view+json": {
       "model_id": "4492850c000e4449bd01b1c3b0d5da03",
       "version_major": 2,
       "version_minor": 0
      },
      "text/plain": [
       "  0%|          | 0/1 [00:00<?, ?it/s]"
      ]
     },
     "metadata": {},
     "output_type": "display_data"
    },
    {
     "name": "stdout",
     "output_type": "stream",
     "text": [
      "C:\\Users\\Usuario\\Desktop\\PROYECTOS\\_informes\\1530_SLCB_08-09-2025_C.I.T.T.C.A._CB-2025-63.docx\n",
      "✅ Convertido: 1530_SLCB_08-09-2025_C.I.T.T.C.A._CB-2025-63.docx\n",
      "🗑️ Eliminado original: 1530_SLCB_08-09-2025_C.I.T.T.C.A._CB-2025-63.docx\n"
     ]
    },
    {
     "data": {
      "application/vnd.jupyter.widget-view+json": {
       "model_id": "2abc95a487d545c1aa0897a19e004f6c",
       "version_major": 2,
       "version_minor": 0
      },
      "text/plain": [
       "  0%|          | 0/1 [00:00<?, ?it/s]"
      ]
     },
     "metadata": {},
     "output_type": "display_data"
    },
    {
     "name": "stdout",
     "output_type": "stream",
     "text": [
      "C:\\Users\\Usuario\\Desktop\\PROYECTOS\\_informes\\1530_SLCB_10-09-2025_C.I.T.T.C.A._CB-2025-70.docx\n",
      "✅ Convertido: 1530_SLCB_10-09-2025_C.I.T.T.C.A._CB-2025-70.docx\n",
      "🗑️ Eliminado original: 1530_SLCB_10-09-2025_C.I.T.T.C.A._CB-2025-70.docx\n"
     ]
    },
    {
     "data": {
      "application/vnd.jupyter.widget-view+json": {
       "model_id": "6720ff3568ab43cd9b950842d17c9075",
       "version_major": 2,
       "version_minor": 0
      },
      "text/plain": [
       "  0%|          | 0/1 [00:00<?, ?it/s]"
      ]
     },
     "metadata": {},
     "output_type": "display_data"
    },
    {
     "name": "stdout",
     "output_type": "stream",
     "text": [
      "C:\\Users\\Usuario\\Desktop\\PROYECTOS\\_informes\\20262_SLCB_10-09-2025_HEVIA Y VACA PEREZ BERNABE_CB-2025-72.docx\n",
      "✅ Convertido: 20262_SLCB_10-09-2025_HEVIA Y VACA PEREZ BERNABE_CB-2025-72.docx\n",
      "🗑️ Eliminado original: 20262_SLCB_10-09-2025_HEVIA Y VACA PEREZ BERNABE_CB-2025-72.docx\n"
     ]
    },
    {
     "data": {
      "application/vnd.jupyter.widget-view+json": {
       "model_id": "3fe22284eb20475db50393d8c6bc9fa0",
       "version_major": 2,
       "version_minor": 0
      },
      "text/plain": [
       "  0%|          | 0/1 [00:00<?, ?it/s]"
      ]
     },
     "metadata": {},
     "output_type": "display_data"
    },
    {
     "name": "stdout",
     "output_type": "stream",
     "text": [
      "C:\\Users\\Usuario\\Desktop\\PROYECTOS\\_informes\\2641_SLCB_10-09-2025_CRONENBOLD AGUILERA ROBERTO_CB-2025-65.docx\n",
      "✅ Convertido: 2641_SLCB_10-09-2025_CRONENBOLD AGUILERA ROBERTO_CB-2025-65.docx\n",
      "🗑️ Eliminado original: 2641_SLCB_10-09-2025_CRONENBOLD AGUILERA ROBERTO_CB-2025-65.docx\n"
     ]
    },
    {
     "data": {
      "application/vnd.jupyter.widget-view+json": {
       "model_id": "f278a5db9a2f47599408d60ceb8d5418",
       "version_major": 2,
       "version_minor": 0
      },
      "text/plain": [
       "  0%|          | 0/1 [00:00<?, ?it/s]"
      ]
     },
     "metadata": {},
     "output_type": "display_data"
    },
    {
     "name": "stdout",
     "output_type": "stream",
     "text": [
      "C:\\Users\\Usuario\\Desktop\\PROYECTOS\\_informes\\2641_SLCB_10-09-2025_CRONENBOLD AGUILERA ROBERTO_CB-2025-66.docx\n",
      "✅ Convertido: 2641_SLCB_10-09-2025_CRONENBOLD AGUILERA ROBERTO_CB-2025-66.docx\n",
      "🗑️ Eliminado original: 2641_SLCB_10-09-2025_CRONENBOLD AGUILERA ROBERTO_CB-2025-66.docx\n"
     ]
    },
    {
     "data": {
      "application/vnd.jupyter.widget-view+json": {
       "model_id": "777aa1687b224d44a65ffa0fe8fc0853",
       "version_major": 2,
       "version_minor": 0
      },
      "text/plain": [
       "  0%|          | 0/1 [00:00<?, ?it/s]"
      ]
     },
     "metadata": {},
     "output_type": "display_data"
    },
    {
     "name": "stdout",
     "output_type": "stream",
     "text": [
      "C:\\Users\\Usuario\\Desktop\\PROYECTOS\\_informes\\2641_SLCB_10-09-2025_CRONENBOLD AGUILERA ROBERTO_CB-2025-73.docx\n",
      "✅ Convertido: 2641_SLCB_10-09-2025_CRONENBOLD AGUILERA ROBERTO_CB-2025-73.docx\n",
      "🗑️ Eliminado original: 2641_SLCB_10-09-2025_CRONENBOLD AGUILERA ROBERTO_CB-2025-73.docx\n"
     ]
    },
    {
     "data": {
      "application/vnd.jupyter.widget-view+json": {
       "model_id": "d9592e62b7b84bf5be42214a1d11b61e",
       "version_major": 2,
       "version_minor": 0
      },
      "text/plain": [
       "  0%|          | 0/1 [00:00<?, ?it/s]"
      ]
     },
     "metadata": {},
     "output_type": "display_data"
    },
    {
     "name": "stdout",
     "output_type": "stream",
     "text": [
      "C:\\Users\\Usuario\\Desktop\\PROYECTOS\\_informes\\3323_SLCB_09-09-2025_TREPP CARRASCO RUDIGER_CB-2025-64.docx\n",
      "✅ Convertido: 3323_SLCB_09-09-2025_TREPP CARRASCO RUDIGER_CB-2025-64.docx\n",
      "🗑️ Eliminado original: 3323_SLCB_09-09-2025_TREPP CARRASCO RUDIGER_CB-2025-64.docx\n"
     ]
    },
    {
     "data": {
      "application/vnd.jupyter.widget-view+json": {
       "model_id": "e1f3096f55ba4d9c8cb82fb16a4b1d03",
       "version_major": 2,
       "version_minor": 0
      },
      "text/plain": [
       "  0%|          | 0/1 [00:00<?, ?it/s]"
      ]
     },
     "metadata": {},
     "output_type": "display_data"
    },
    {
     "name": "stdout",
     "output_type": "stream",
     "text": [
      "C:\\Users\\Usuario\\Desktop\\PROYECTOS\\_informes\\40004_SLCB_10-09-2025_AGUILERA RIVERO NICOLAS JULIO_CB-2025-69.docx\n",
      "✅ Convertido: 40004_SLCB_10-09-2025_AGUILERA RIVERO NICOLAS JULIO_CB-2025-69.docx\n",
      "🗑️ Eliminado original: 40004_SLCB_10-09-2025_AGUILERA RIVERO NICOLAS JULIO_CB-2025-69.docx\n"
     ]
    },
    {
     "data": {
      "application/vnd.jupyter.widget-view+json": {
       "model_id": "c97349ff87b64b38841846751e3a5954",
       "version_major": 2,
       "version_minor": 0
      },
      "text/plain": [
       "  0%|          | 0/1 [00:00<?, ?it/s]"
      ]
     },
     "metadata": {},
     "output_type": "display_data"
    },
    {
     "name": "stdout",
     "output_type": "stream",
     "text": [
      "C:\\Users\\Usuario\\Desktop\\PROYECTOS\\_informes\\40256_SLCB_09-09-2025_INSERVA DAMIANA S.R.L_CB-2025-62.docx\n",
      "✅ Convertido: 40256_SLCB_09-09-2025_INSERVA DAMIANA S.R.L_CB-2025-62.docx\n",
      "🗑️ Eliminado original: 40256_SLCB_09-09-2025_INSERVA DAMIANA S.R.L_CB-2025-62.docx\n"
     ]
    },
    {
     "data": {
      "application/vnd.jupyter.widget-view+json": {
       "model_id": "d7293dd5ab4743d4b1bddc82114d41fa",
       "version_major": 2,
       "version_minor": 0
      },
      "text/plain": [
       "  0%|          | 0/1 [00:00<?, ?it/s]"
      ]
     },
     "metadata": {},
     "output_type": "display_data"
    },
    {
     "name": "stdout",
     "output_type": "stream",
     "text": [
      "C:\\Users\\Usuario\\Desktop\\PROYECTOS\\_informes\\515_SLCB_10-09-2025_AGUILERA OLGA RIVERO VDA DE_CB-2025-68.docx\n",
      "✅ Convertido: 515_SLCB_10-09-2025_AGUILERA OLGA RIVERO VDA DE_CB-2025-68.docx\n",
      "🗑️ Eliminado original: 515_SLCB_10-09-2025_AGUILERA OLGA RIVERO VDA DE_CB-2025-68.docx\n"
     ]
    },
    {
     "data": {
      "application/vnd.jupyter.widget-view+json": {
       "model_id": "3f477f41c14943c88a3839affb5442d1",
       "version_major": 2,
       "version_minor": 0
      },
      "text/plain": [
       "  0%|          | 0/1 [00:00<?, ?it/s]"
      ]
     },
     "metadata": {},
     "output_type": "display_data"
    },
    {
     "name": "stdout",
     "output_type": "stream",
     "text": [
      "C:\\Users\\Usuario\\Desktop\\PROYECTOS\\_informes\\794_SLCB_09-09-2025_AGUILERA WENDE MARIANO_CB-2025-61.docx\n",
      "✅ Convertido: 794_SLCB_09-09-2025_AGUILERA WENDE MARIANO_CB-2025-61.docx\n",
      "🗑️ Eliminado original: 794_SLCB_09-09-2025_AGUILERA WENDE MARIANO_CB-2025-61.docx\n"
     ]
    },
    {
     "data": {
      "application/vnd.jupyter.widget-view+json": {
       "model_id": "5fbf9ea8f73249cabf353544de65b937",
       "version_major": 2,
       "version_minor": 0
      },
      "text/plain": [
       "  0%|          | 0/1 [00:00<?, ?it/s]"
      ]
     },
     "metadata": {},
     "output_type": "display_data"
    },
    {
     "name": "stdout",
     "output_type": "stream",
     "text": [
      "C:\\Users\\Usuario\\Desktop\\PROYECTOS\\_informes\\794_SLCB_10-09-2025_AGUILERA WENDE MARIANO_CB-2025-71.docx\n",
      "✅ Convertido: 794_SLCB_10-09-2025_AGUILERA WENDE MARIANO_CB-2025-71.docx\n",
      "🗑️ Eliminado original: 794_SLCB_10-09-2025_AGUILERA WENDE MARIANO_CB-2025-71.docx\n"
     ]
    },
    {
     "data": {
      "application/vnd.jupyter.widget-view+json": {
       "model_id": "3c2f3122608441ae862e49466806ced2",
       "version_major": 2,
       "version_minor": 0
      },
      "text/plain": [
       "  0%|          | 0/1 [00:00<?, ?it/s]"
      ]
     },
     "metadata": {},
     "output_type": "display_data"
    },
    {
     "name": "stdout",
     "output_type": "stream",
     "text": [
      "C:\\Users\\Usuario\\Desktop\\PROYECTOS\\_informes\\8003_SLCB_10-09-2025_AGUILERA RIVERO SERGIO STEFAN_CB-2025-67.docx\n",
      "✅ Convertido: 8003_SLCB_10-09-2025_AGUILERA RIVERO SERGIO STEFAN_CB-2025-67.docx\n",
      "🗑️ Eliminado original: 8003_SLCB_10-09-2025_AGUILERA RIVERO SERGIO STEFAN_CB-2025-67.docx\n"
     ]
    }
   ],
   "source": [
    "convertir_docx_to_pdf()"
   ]
  },
  {
   "cell_type": "code",
   "execution_count": 6,
   "id": "150897f4-d3d0-4dcd-8363-43c575f22a70",
   "metadata": {},
   "outputs": [],
   "source": [
    "def cargar_pdf_to_drive(id_drive, title_file, path_file):\n",
    "    try:\n",
    "        # 1. Buscar si ya existe un archivo con el mismo nombre en la misma carpeta\n",
    "        query = f\"'{id_drive}' in parents and title = '{title_file}' and trashed = false\"\n",
    "        file_list = drive.ListFile({'q': query}).GetList()\n",
    "\n",
    "        if file_list:\n",
    "            # Si ya existe, usamos el primero encontrado\n",
    "            file = file_list[0]\n",
    "            print(f\"[INFO] El archivo '{title_file}' ya existe. Se reemplazará.\")\n",
    "        else:\n",
    "            # Si no existe, creamos uno nuevo\n",
    "            file = drive.CreateFile({\n",
    "                \"mimeType\": \"application/pdf\",\n",
    "                \"parents\": [{\"kind\": \"drive#fileLink\", \"id\": id_drive}]\n",
    "            })\n",
    "            file['title'] = title_file\n",
    "            print(f\"[INFO] El archivo '{title_file}' no existe. Se creará uno nuevo.\")\n",
    "\n",
    "        # 2. Reemplazar el contenido\n",
    "        file.SetContentFile(path_file)\n",
    "        file.Upload()\n",
    "\n",
    "        # 3. Dar permisos públicos si es nuevo\n",
    "        if not file_list:\n",
    "            file.InsertPermission({\n",
    "                'type': 'anyone',\n",
    "                'value': 'anyone',\n",
    "                'role': 'reader'\n",
    "            })\n",
    "\n",
    "        print(f\"[OK] Archivo '{title_file}' subido exitosamente.\")\n",
    "        return file['alternateLink']\n",
    "\n",
    "    except Exception as e:\n",
    "        print(f\"[ERROR] No se pudo subir el archivo '{title_file}': {e}\")\n",
    "        return False"
   ]
  },
  {
   "cell_type": "code",
   "execution_count": 7,
   "id": "8b9bd17e-26d6-4f55-aa7b-3c8d91af6b54",
   "metadata": {},
   "outputs": [
    {
     "name": "stdout",
     "output_type": "stream",
     "text": [
      "1\n"
     ]
    },
    {
     "data": {
      "text/plain": [
       "['2641_SLCB_10-09-2025_CRONENBOLD AGUILERA ROBERTO_CB-2025-66.pdf']"
      ]
     },
     "execution_count": 7,
     "metadata": {},
     "output_type": "execute_result"
    }
   ],
   "source": [
    "contenido = os.listdir(directorio_destino)\n",
    "print(len(contenido))\n",
    "contenido"
   ]
  },
  {
   "cell_type": "code",
   "execution_count": 8,
   "id": "cd3db610-4dd3-4c47-8573-8b2e16748b0a",
   "metadata": {},
   "outputs": [
    {
     "name": "stdout",
     "output_type": "stream",
     "text": [
      "CB-2025-66\n",
      "[INFO] El archivo '2641_SLCB_10-09-2025_CRONENBOLD AGUILERA ROBERTO_CB-2025-66.pdf' no existe. Se creará uno nuevo.\n",
      "[OK] Archivo '2641_SLCB_10-09-2025_CRONENBOLD AGUILERA ROBERTO_CB-2025-66.pdf' subido exitosamente.\n",
      "✔️ Se registro link para CITE: CB-2025-66\n",
      "✅ Archivo eliminado.\n"
     ]
    }
   ],
   "source": [
    "for file in contenido:\n",
    "    partes = file.split('_')\n",
    "    \n",
    "    cite = partes[-1].split('.')[0]\n",
    "    sigla = partes[1]\n",
    "    title_file = file\n",
    "    id_drive = '1sEfhWGATb7tkKgr6gcknH3ZA_ed_hGTq'\n",
    "    path_file = os.path.join(directorio_destino, file)\n",
    "    print(cite)\n",
    "    url_drive = cargar_pdf_to_drive(id_drive, title_file, path_file)\n",
    "    if url_drive == False:\n",
    "        continue\n",
    "    cargar_link_to_db(url_drive, cite)\n",
    "    if os.path.exists(path_file):\n",
    "        os.remove(path_file)\n",
    "        print(\"✅ Archivo eliminado.\")\n",
    "    else:\n",
    "        print(\"⚠️ El archivo no existe.\")"
   ]
  },
  {
   "cell_type": "code",
   "execution_count": null,
   "id": "ce06318b-f09b-4389-b5b4-5e8a5394bb2c",
   "metadata": {},
   "outputs": [],
   "source": []
  },
  {
   "cell_type": "code",
   "execution_count": null,
   "id": "bf43c9af-a971-4139-acbb-206adff27422",
   "metadata": {},
   "outputs": [],
   "source": []
  },
  {
   "cell_type": "code",
   "execution_count": null,
   "id": "d5c81f0c-6523-4723-95ba-516605266b5f",
   "metadata": {},
   "outputs": [],
   "source": []
  },
  {
   "cell_type": "code",
   "execution_count": null,
   "id": "e3ba5115-2b3a-4ba4-9bf4-49417e06dae0",
   "metadata": {},
   "outputs": [],
   "source": []
  },
  {
   "cell_type": "code",
   "execution_count": null,
   "id": "06524a4a-244c-44ec-bad6-4963047c5a77",
   "metadata": {},
   "outputs": [],
   "source": []
  },
  {
   "cell_type": "code",
   "execution_count": null,
   "id": "74582022-8ce8-441c-bb6a-310a814396ba",
   "metadata": {},
   "outputs": [],
   "source": []
  },
  {
   "cell_type": "code",
   "execution_count": 9,
   "id": "8a244821-7332-4c5f-aa0c-1e8dedef4263",
   "metadata": {},
   "outputs": [],
   "source": [
    "import psycopg2"
   ]
  },
  {
   "cell_type": "code",
   "execution_count": 10,
   "id": "af20d880-9560-47c5-8317-77c4c3000d50",
   "metadata": {},
   "outputs": [],
   "source": [
    "def obtener_conexion():\n",
    "    return psycopg2.connect(\n",
    "        host='localhost', \n",
    "        port=5433, \n",
    "        database='utea', \n",
    "        user='postgres', \n",
    "        password='A123456*')\n",
    "    \n",
    "def insertar_mensaje_whatsapp(cod_canero, nombre_canero, numero_contac, mensaje, enviado=False, fecha_enviado=None):\n",
    "    try:\n",
    "        conexion = obtener_conexion()\n",
    "        cursor = conexion.cursor()\n",
    "        cursor.execute(\"\"\"\n",
    "            INSERT INTO notificaciones_wsp.msj_whatsapp (\n",
    "                cod_canero, nombre_canero, numero_cel, mensaje, enviado, fecha_enviado, numero_contac\n",
    "            ) VALUES (%s, %s, %s, %s, %s, %s, %s)\n",
    "        \"\"\", (cod_canero, nombre_canero, 0, mensaje, enviado, fecha_enviado, numero_contac))\n",
    "        \n",
    "        conexion.commit()\n",
    "        cursor.close()\n",
    "        print(\"Mensaje insertado correctamente.\")\n",
    "    except Exception as e:\n",
    "        conexion.rollback()\n",
    "        print(\"Error inesperado\")\n",
    "    return None\n",
    "\n",
    "def marcar_resumen_lib_enviado(id_resumen):\n",
    "    try:\n",
    "        conexion = obtener_conexion()\n",
    "        cursor = conexion.cursor()\n",
    "        cursor.execute(\"\"\"\n",
    "            UPDATE drones_control_bio.resumen_control_bio\n",
    "            SET enviado = true\n",
    "            WHERE id = %s\n",
    "        \"\"\", (id_resumen,))\n",
    "        conexion.commit()\n",
    "        cursor.close()\n",
    "        print(f\"Mensaje con id={id_resumen} marcado como enviado.\")\n",
    "    except Exception as e:\n",
    "        conexion.rollback()\n",
    "        print(f\"Error inesperado: {e}\")\n",
    "    finally:\n",
    "        if conexion:\n",
    "            conexion.close()\n",
    "    return None"
   ]
  },
  {
   "cell_type": "code",
   "execution_count": 18,
   "id": "3136f95a-89b7-4f01-b444-c36a6eac8f8a",
   "metadata": {},
   "outputs": [],
   "source": [
    "PATH_XLSX_CONTAC=r'G:\\\\Ingenio Azucarero Guabira S.A\\\\UTEA - SEMANAL - EQUIPO AVIACION UTEA\\\\Pulverizacion\\\\Data\\\\CONTACTOS.xlsx'"
   ]
  },
  {
   "cell_type": "code",
   "execution_count": 19,
   "id": "0f30d8f8-d523-4ea5-9c84-0931823b295e",
   "metadata": {},
   "outputs": [],
   "source": [
    "sin_enviar = get_registros_sin_enviar()"
   ]
  },
  {
   "cell_type": "code",
   "execution_count": 20,
   "id": "0460aa16-7f7c-4491-8de4-e465ee4bef3f",
   "metadata": {},
   "outputs": [
    {
     "data": {
      "text/plain": [
       "[77]"
      ]
     },
     "execution_count": 20,
     "metadata": {},
     "output_type": "execute_result"
    }
   ],
   "source": [
    "cods_ca = list(set(sin_enviar['id']))\n",
    "cods_ca"
   ]
  },
  {
   "cell_type": "code",
   "execution_count": 21,
   "id": "24cc7827-5111-4a93-83b3-ddaabe44bf58",
   "metadata": {},
   "outputs": [],
   "source": [
    "df_contac = pd.read_excel(PATH_XLSX_CONTAC)\n",
    "df_contac.fillna(0, inplace=True)\n",
    "df_contac = df_contac[['cod_ca', 'nom_ca', 'telf01', 'telf02', 'telf03']]"
   ]
  },
  {
   "cell_type": "code",
   "execution_count": 22,
   "id": "e9d687c4-3425-42e3-a626-6695f3a29aef",
   "metadata": {},
   "outputs": [
    {
     "data": {
      "text/html": [
       "<div>\n",
       "<style scoped>\n",
       "    .dataframe tbody tr th:only-of-type {\n",
       "        vertical-align: middle;\n",
       "    }\n",
       "\n",
       "    .dataframe tbody tr th {\n",
       "        vertical-align: top;\n",
       "    }\n",
       "\n",
       "    .dataframe thead th {\n",
       "        text-align: right;\n",
       "    }\n",
       "</style>\n",
       "<table border=\"1\" class=\"dataframe\">\n",
       "  <thead>\n",
       "    <tr style=\"text-align: right;\">\n",
       "      <th></th>\n",
       "      <th>cod_ca</th>\n",
       "      <th>nom_ca</th>\n",
       "      <th>telf01</th>\n",
       "      <th>telf02</th>\n",
       "      <th>telf03</th>\n",
       "    </tr>\n",
       "  </thead>\n",
       "  <tbody>\n",
       "    <tr>\n",
       "      <th>0</th>\n",
       "      <td>0</td>\n",
       "      <td>CAÑERO TEST</td>\n",
       "      <td>78194371</td>\n",
       "      <td>0.0</td>\n",
       "      <td>0.0</td>\n",
       "    </tr>\n",
       "    <tr>\n",
       "      <th>1</th>\n",
       "      <td>75</td>\n",
       "      <td>AGUILERA TARADELLES NELSON MARIANO</td>\n",
       "      <td>76344582</td>\n",
       "      <td>77054999.0</td>\n",
       "      <td>0.0</td>\n",
       "    </tr>\n",
       "    <tr>\n",
       "      <th>2</th>\n",
       "      <td>86</td>\n",
       "      <td>AGUILERA TARADELLES JOSE LUIS</td>\n",
       "      <td>67759316</td>\n",
       "      <td>77010520.0</td>\n",
       "      <td>71384113.0</td>\n",
       "    </tr>\n",
       "  </tbody>\n",
       "</table>\n",
       "</div>"
      ],
      "text/plain": [
       "   cod_ca                              nom_ca    telf01      telf02  \\\n",
       "0       0                         CAÑERO TEST  78194371         0.0   \n",
       "1      75  AGUILERA TARADELLES NELSON MARIANO  76344582  77054999.0   \n",
       "2      86       AGUILERA TARADELLES JOSE LUIS  67759316  77010520.0   \n",
       "\n",
       "       telf03  \n",
       "0         0.0  \n",
       "1         0.0  \n",
       "2  71384113.0  "
      ]
     },
     "execution_count": 22,
     "metadata": {},
     "output_type": "execute_result"
    }
   ],
   "source": [
    "df_contac.head(3)"
   ]
  },
  {
   "cell_type": "code",
   "execution_count": 23,
   "id": "a7d1323c-c61a-458d-b86d-7a7e10ad2e16",
   "metadata": {},
   "outputs": [
    {
     "data": {
      "text/html": [
       "<div>\n",
       "<style scoped>\n",
       "    .dataframe tbody tr th:only-of-type {\n",
       "        vertical-align: middle;\n",
       "    }\n",
       "\n",
       "    .dataframe tbody tr th {\n",
       "        vertical-align: top;\n",
       "    }\n",
       "\n",
       "    .dataframe thead th {\n",
       "        text-align: right;\n",
       "    }\n",
       "</style>\n",
       "<table border=\"1\" class=\"dataframe\">\n",
       "  <thead>\n",
       "    <tr style=\"text-align: right;\">\n",
       "      <th></th>\n",
       "      <th>id</th>\n",
       "      <th>fecha</th>\n",
       "      <th>institucion</th>\n",
       "      <th>cod_canero</th>\n",
       "      <th>nombre_canero</th>\n",
       "      <th>hectareas</th>\n",
       "      <th>cite</th>\n",
       "      <th>cod_propiedad</th>\n",
       "      <th>propiedad</th>\n",
       "      <th>producto</th>\n",
       "      <th>link</th>\n",
       "      <th>agrocittca</th>\n",
       "      <th>enviado</th>\n",
       "    </tr>\n",
       "  </thead>\n",
       "  <tbody>\n",
       "    <tr>\n",
       "      <th>0</th>\n",
       "      <td>77</td>\n",
       "      <td>2025-09-10</td>\n",
       "      <td>69</td>\n",
       "      <td>20262</td>\n",
       "      <td>HEVIA Y VACA PEREZ BERNABE</td>\n",
       "      <td>18.15</td>\n",
       "      <td>CB-2025-72</td>\n",
       "      <td>791</td>\n",
       "      <td>LOS MONOS--HEBIA BERNABE</td>\n",
       "      <td>['TRICHOGRAMMA']</td>\n",
       "      <td>https://drive.google.com/file/d/1iE8rmSAAhDOUZ...</td>\n",
       "      <td>False</td>\n",
       "      <td>False</td>\n",
       "    </tr>\n",
       "  </tbody>\n",
       "</table>\n",
       "</div>"
      ],
      "text/plain": [
       "   id       fecha  institucion  cod_canero               nombre_canero  \\\n",
       "0  77  2025-09-10           69       20262  HEVIA Y VACA PEREZ BERNABE   \n",
       "\n",
       "   hectareas        cite  cod_propiedad                 propiedad  \\\n",
       "0      18.15  CB-2025-72            791  LOS MONOS--HEBIA BERNABE   \n",
       "\n",
       "           producto                                               link  \\\n",
       "0  ['TRICHOGRAMMA']  https://drive.google.com/file/d/1iE8rmSAAhDOUZ...   \n",
       "\n",
       "   agrocittca  enviado  \n",
       "0       False    False  "
      ]
     },
     "execution_count": 23,
     "metadata": {},
     "output_type": "execute_result"
    }
   ],
   "source": [
    "sin_enviar.head(3)"
   ]
  },
  {
   "cell_type": "code",
   "execution_count": 24,
   "id": "3f78b1fb-c3b9-4c80-b2c0-d78877eafcc9",
   "metadata": {},
   "outputs": [
    {
     "name": "stdout",
     "output_type": "stream",
     "text": [
      "Mensaje insertado correctamente.\n",
      "Mensaje con id=77 marcado como enviado.\n"
     ]
    }
   ],
   "source": [
    "for index, row in sin_enviar.iterrows():    \n",
    "    contac_filtro = df_contac[df_contac['cod_ca']==row['cod_canero']]\n",
    "    if not contac_filtro.empty:  # Verifica si hay al menos una fila\n",
    "        contac = contac_filtro.iloc[0]\n",
    "        telefonos = [int(contac['telf01']), int(contac['telf02']), int(contac['telf03'])]\n",
    "        telefonos_validos = [telefono for telefono in telefonos if len(str(telefono)) == 8]\n",
    "        if (len(telefonos_validos) == 0):\n",
    "            print(f'Codigo: {cod} no tinene numeros validos registrados')\n",
    "            continue\n",
    "            \n",
    "        for num in telefonos_validos:\n",
    "            msj = f\"Saludos *{row['nombre_canero']}*, le escribimos desde *UTEA - GUABIRA* para hacer llegar una copia del informe de servicio de control biologico en caña de azucar. Adjunto informe: {row['link']}\"\n",
    "            insertar_mensaje_whatsapp(\n",
    "                cod_canero=row['cod_canero'],\n",
    "                nombre_canero=row['nombre_canero'],\n",
    "                numero_contac=f'591{num}@s.whatsapp.net',\n",
    "                mensaje=msj\n",
    "            )\n",
    "            marcar_resumen_lib_enviado(row['id'])\n",
    "    else:\n",
    "        print(f\"Codigo: {row['cod_canero']} - {row['nombre_canero']} no tiene registro telefonico\")"
   ]
  },
  {
   "cell_type": "code",
   "execution_count": null,
   "id": "3b862c0d-f8cc-4200-89f8-7d23c3c154ef",
   "metadata": {},
   "outputs": [],
   "source": []
  },
  {
   "cell_type": "code",
   "execution_count": null,
   "id": "fbc2f321-08ca-4a33-93a4-e78dfe70a9d3",
   "metadata": {},
   "outputs": [],
   "source": []
  },
  {
   "cell_type": "code",
   "execution_count": null,
   "id": "06076602-2461-42ae-9d8a-d55b382f8b5c",
   "metadata": {},
   "outputs": [],
   "source": []
  },
  {
   "cell_type": "code",
   "execution_count": null,
   "id": "8ad04cff-9dd9-49cf-b302-ff60768a6565",
   "metadata": {},
   "outputs": [],
   "source": []
  },
  {
   "cell_type": "code",
   "execution_count": null,
   "id": "f7dfbd3e-eaac-49a7-b921-cd9c77f588cd",
   "metadata": {},
   "outputs": [],
   "source": []
  }
 ],
 "metadata": {
  "kernelspec": {
   "display_name": "Python 3 (ipykernel)",
   "language": "python",
   "name": "python3"
  },
  "language_info": {
   "codemirror_mode": {
    "name": "ipython",
    "version": 3
   },
   "file_extension": ".py",
   "mimetype": "text/x-python",
   "name": "python",
   "nbconvert_exporter": "python",
   "pygments_lexer": "ipython3",
   "version": "3.10.13"
  }
 },
 "nbformat": 4,
 "nbformat_minor": 5
}
