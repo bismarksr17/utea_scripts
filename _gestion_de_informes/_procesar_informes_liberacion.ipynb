{
 "cells": [
  {
   "cell_type": "code",
   "execution_count": 1,
   "id": "fb6efbf6-9eff-49b3-9f8c-e49a46103a9f",
   "metadata": {},
   "outputs": [
    {
     "ename": "NameError",
     "evalue": "name 'fege' is not defined",
     "output_type": "error",
     "traceback": [
      "\u001b[1;31m---------------------------------------------------------------------------\u001b[0m",
      "\u001b[1;31mNameError\u001b[0m                                 Traceback (most recent call last)",
      "Cell \u001b[1;32mIn[1], line 1\u001b[0m\n\u001b[1;32m----> 1\u001b[0m \u001b[43mfege\u001b[49m\n",
      "\u001b[1;31mNameError\u001b[0m: name 'fege' is not defined"
     ]
    }
   ],
   "source": [
    "fege"
   ]
  },
  {
   "cell_type": "code",
   "execution_count": 1,
   "id": "a8fcfb71-d889-45d2-a46f-b575a6908bfb",
   "metadata": {},
   "outputs": [],
   "source": [
    "import sys\n",
    "sys.path.append('../_amigocloud')\n",
    "\n",
    "from sqlalchemy import create_engine, text\n",
    "from amigocloud import AmigoCloud\n",
    "from docx import Document\n",
    "from docx2pdf import convert\n",
    "import os\n",
    "import json\n",
    "\n",
    "# CONEXIÓN A GOOGLE DRIVE\n",
    "from pydrive.auth import GoogleAuth\n",
    "from pydrive.drive import GoogleDrive\n",
    "import os\n",
    "\n",
    "gauth = GoogleAuth()\n",
    "\n",
    "# Si existe el archivo, intenta cargarlo\n",
    "if os.path.exists(\"mycreds.txt\"):\n",
    "    gauth.LoadCredentialsFile(\"mycreds.txt\")\n",
    "\n",
    "# Si no hay credenciales o son inválidas, forzar nueva autenticación\n",
    "if gauth.credentials is None or gauth.access_token_expired:\n",
    "    try:\n",
    "        gauth.LocalWebserverAuth()\n",
    "    except:\n",
    "        print(\"Error de autenticación. Eliminá 'mycreds.txt' y volvé a intentarlo.\")\n",
    "else:\n",
    "    gauth.Authorize()\n",
    "\n",
    "gauth.SaveCredentialsFile(\"mycreds.txt\")\n",
    "drive = GoogleDrive(gauth)"
   ]
  },
  {
   "cell_type": "code",
   "execution_count": 2,
   "id": "10f0c050-45c8-496c-b5a7-364478c3f41e",
   "metadata": {},
   "outputs": [],
   "source": [
    "sys.path.append('..')\n",
    "\n",
    "from config import RUTA_UNIDAD_ONE_DRIVE\n",
    "from config import RUTA_LOCAL_ONE_DRIVE\n",
    "from config import POSTGRES_UTEA\n",
    "RUTA_COMPLETA = os.path.join(RUTA_UNIDAD_ONE_DRIVE, RUTA_LOCAL_ONE_DRIVE)"
   ]
  },
  {
   "cell_type": "code",
   "execution_count": null,
   "id": "817df305-d781-4903-a282-12ad328e3093",
   "metadata": {},
   "outputs": [],
   "source": []
  },
  {
   "cell_type": "code",
   "execution_count": 3,
   "id": "634dee54-20e5-44b3-ac7b-dfc1cc5f8f30",
   "metadata": {},
   "outputs": [],
   "source": [
    "def get_ruta_informes():\n",
    "    try:\n",
    "        with open('../../ruta_informes.txt', 'r') as file:\n",
    "            ruta_inf = file.readline().strip()\n",
    "            return ruta_inf\n",
    "    except FileNotFoundError:\n",
    "        print(\"El archivo 'ruta_local.txt' no se encuentra en la ruta especificada.\")\n",
    "    return None"
   ]
  },
  {
   "cell_type": "code",
   "execution_count": 4,
   "id": "34c60b3b-3d70-40c1-a3fc-a179afbaaacd",
   "metadata": {},
   "outputs": [],
   "source": [
    "ruta_informes = get_ruta_informes()\n",
    "directorio_origen = ruta_informes + r'\\_informes'\n",
    "directorio_destino = ruta_informes + r'\\_pdf'"
   ]
  },
  {
   "cell_type": "code",
   "execution_count": 5,
   "id": "f7358aef-7ee1-451d-bc05-47176be965d8",
   "metadata": {},
   "outputs": [],
   "source": [
    "# Recorre y convierte a pdf archivos .docx que no empiezan con \"_\"\n",
    "def convertir_docx_to_pdf():\n",
    "    for archivo in os.listdir(directorio_origen):\n",
    "        if archivo.lower().endswith(\".docx\") and not archivo.startswith(\"_\"):\n",
    "            ruta_docx = os.path.join(directorio_origen, archivo)\n",
    "            ruta_pdf = os.path.join(directorio_destino, archivo.replace(\".docx\", \".pdf\"))\n",
    "            \n",
    "            try:\n",
    "                convert(ruta_docx, ruta_pdf)\n",
    "                print(ruta_docx)\n",
    "                if os.path.exists(ruta_pdf):\n",
    "                    print(f\"✅ Convertido: {archivo}\")\n",
    "                    os.remove(ruta_docx)\n",
    "                    print(f\"🗑️ Eliminado original: {archivo}\")\n",
    "                else:\n",
    "                    print(f\"❌ Error: PDF no generado para {archivo}\")\n",
    "            except Exception as e:\n",
    "                print(f\"⚠️ Error al convertir {archivo}: {e}\")\n",
    "\n",
    "def obtener_engine():\n",
    "    return create_engine(\n",
    "        f\"postgresql+psycopg2://{POSTGRES_UTEA['USER']}:{POSTGRES_UTEA['PASSWORD']}@{POSTGRES_UTEA['HOST']}:{POSTGRES_UTEA['PORT']}/{POSTGRES_UTEA['DATABASE']}\"\n",
    "    )\n",
    "\n",
    "def cargar_link_to_db(url, cite):\n",
    "    engine = obtener_engine()\n",
    "    try:\n",
    "        with engine.begin() as conn:\n",
    "            query = text(\"\"\"\n",
    "                UPDATE drones_control_bio.resumen_control_bio SET link = :url WHERE cite = :cite\n",
    "            \"\"\")\n",
    "            conn.execute(query, {\"url\": url, \"cite\": cite})\n",
    "            print(f\"✔️ Se registro link para CITE: {cite}\" )\n",
    "    except Exception as e:\n",
    "        print(f\"❌ Error al actualizar CITE: {cite}, {e}\")"
   ]
  },
  {
   "cell_type": "code",
   "execution_count": null,
   "id": "99b4c3ca-df0a-45b0-b122-ab8b998180a1",
   "metadata": {},
   "outputs": [],
   "source": []
  },
  {
   "cell_type": "code",
   "execution_count": 6,
   "id": "5c89fabe-dbdc-418a-ba18-0c2c36a24f0c",
   "metadata": {},
   "outputs": [],
   "source": [
    "convertir_docx_to_pdf()"
   ]
  },
  {
   "cell_type": "code",
   "execution_count": 6,
   "id": "150897f4-d3d0-4dcd-8363-43c575f22a70",
   "metadata": {},
   "outputs": [],
   "source": [
    "def cargar_pdf_to_drive(id_drive, title_file, path_file):\n",
    "    try:\n",
    "        # 1. Buscar si ya existe un archivo con el mismo nombre en la misma carpeta\n",
    "        query = f\"'{id_drive}' in parents and title = '{title_file}' and trashed = false\"\n",
    "        file_list = drive.ListFile({'q': query}).GetList()\n",
    "\n",
    "        if file_list:\n",
    "            # Si ya existe, usamos el primero encontrado\n",
    "            file = file_list[0]\n",
    "            print(f\"[INFO] El archivo '{title_file}' ya existe. Se reemplazará.\")\n",
    "        else:\n",
    "            # Si no existe, creamos uno nuevo\n",
    "            file = drive.CreateFile({\n",
    "                \"mimeType\": \"application/pdf\",\n",
    "                \"parents\": [{\"kind\": \"drive#fileLink\", \"id\": id_drive}]\n",
    "            })\n",
    "            file['title'] = title_file\n",
    "            print(f\"[INFO] El archivo '{title_file}' no existe. Se creará uno nuevo.\")\n",
    "\n",
    "        # 2. Reemplazar el contenido\n",
    "        file.SetContentFile(path_file)\n",
    "        file.Upload()\n",
    "\n",
    "        # 3. Dar permisos públicos si es nuevo\n",
    "        if not file_list:\n",
    "            file.InsertPermission({\n",
    "                'type': 'anyone',\n",
    "                'value': 'anyone',\n",
    "                'role': 'reader'\n",
    "            })\n",
    "\n",
    "        print(f\"[OK] Archivo '{title_file}' subido exitosamente.\")\n",
    "        return file['alternateLink']\n",
    "\n",
    "    except Exception as e:\n",
    "        print(f\"[ERROR] No se pudo subir el archivo '{title_file}': {e}\")\n",
    "        return False"
   ]
  },
  {
   "cell_type": "code",
   "execution_count": 7,
   "id": "8b9bd17e-26d6-4f55-aa7b-3c8d91af6b54",
   "metadata": {},
   "outputs": [
    {
     "data": {
      "text/plain": [
       "['13171_SLCB_12-08-2025_SUAREZ JUSTINIANO DAVID_CB-2025-29.pdf',\n",
       " '13171_SLCB_13-08-2025_SUAREZ JUSTINIANO DAVID_CB-2025-34.pdf',\n",
       " '1530_SLCB_12-08-2025_C.I.T.T.C.A._CB-2025-30.pdf',\n",
       " '1530_SLCB_12-08-2025_C.I.T.T.C.A._CB-2025-33.pdf',\n",
       " '2641_SLCB_11-08-2025_CRONENBOLD AGUILERA ROBERTO_CB-2025-36.pdf',\n",
       " '2641_SLCB_12-08-2025_CRONENBOLD AGUILERA ROBERTO _CB-2025-32.pdf',\n",
       " '2641_SLCB_12-08-2025_CRONENBOLD AGUILERA ROBERTO_CB-2025-31.pdf',\n",
       " '41594_SLCB_05-08-2025_AGROPECUARIA CAMPO DULCE S.R.L._CB-2025-27.pdf',\n",
       " '41594_SLCB_06-08-2025_AGROPECUARIA CAMPO DULCE S.R.L._CB-2025-21.pdf',\n",
       " '41594_SLCB_06-08-2025_AGROPECUARIA CAMPO DULCE S.R.L._CB-2025-23.pdf',\n",
       " '41594_SLCB_06-08-2025_AGROPECUARIA CAMPO DULCE S.R.L._CB-2025-24.pdf',\n",
       " '41594_SLCB_06-08-2025_AGROPECUARIA CAMPO DULCE S.R.L._CB-2025-28.pdf',\n",
       " '41594_SLCB_12-08-2025_AGROPECUARIA CAMPO DULCE S.R.L._CB-2025-35.pdf',\n",
       " '794_SLCB_07-08-2025_AGUILERA WENDE MARIANO_CB-2025-22.pdf']"
      ]
     },
     "execution_count": 7,
     "metadata": {},
     "output_type": "execute_result"
    }
   ],
   "source": [
    "contenido = os.listdir(directorio_destino)\n",
    "contenido"
   ]
  },
  {
   "cell_type": "code",
   "execution_count": 8,
   "id": "cd3db610-4dd3-4c47-8573-8b2e16748b0a",
   "metadata": {},
   "outputs": [
    {
     "name": "stdout",
     "output_type": "stream",
     "text": [
      "CB-2025-29\n",
      "[INFO] El archivo '13171_SLCB_12-08-2025_SUAREZ JUSTINIANO DAVID_CB-2025-29.pdf' no existe. Se creará uno nuevo.\n",
      "[OK] Archivo '13171_SLCB_12-08-2025_SUAREZ JUSTINIANO DAVID_CB-2025-29.pdf' subido exitosamente.\n",
      "✔️ Se registro link para CITE: CB-2025-29\n",
      "✅ Archivo eliminado.\n",
      "CB-2025-34\n",
      "[INFO] El archivo '13171_SLCB_13-08-2025_SUAREZ JUSTINIANO DAVID_CB-2025-34.pdf' no existe. Se creará uno nuevo.\n",
      "[OK] Archivo '13171_SLCB_13-08-2025_SUAREZ JUSTINIANO DAVID_CB-2025-34.pdf' subido exitosamente.\n",
      "✔️ Se registro link para CITE: CB-2025-34\n",
      "✅ Archivo eliminado.\n",
      "CB-2025-30\n",
      "[INFO] El archivo '1530_SLCB_12-08-2025_C.I.T.T.C.A._CB-2025-30.pdf' no existe. Se creará uno nuevo.\n",
      "[OK] Archivo '1530_SLCB_12-08-2025_C.I.T.T.C.A._CB-2025-30.pdf' subido exitosamente.\n",
      "✔️ Se registro link para CITE: CB-2025-30\n",
      "✅ Archivo eliminado.\n",
      "CB-2025-33\n",
      "[INFO] El archivo '1530_SLCB_12-08-2025_C.I.T.T.C.A._CB-2025-33.pdf' no existe. Se creará uno nuevo.\n",
      "[OK] Archivo '1530_SLCB_12-08-2025_C.I.T.T.C.A._CB-2025-33.pdf' subido exitosamente.\n",
      "✔️ Se registro link para CITE: CB-2025-33\n",
      "✅ Archivo eliminado.\n",
      "CB-2025-36\n",
      "[INFO] El archivo '2641_SLCB_11-08-2025_CRONENBOLD AGUILERA ROBERTO_CB-2025-36.pdf' no existe. Se creará uno nuevo.\n",
      "[OK] Archivo '2641_SLCB_11-08-2025_CRONENBOLD AGUILERA ROBERTO_CB-2025-36.pdf' subido exitosamente.\n",
      "✔️ Se registro link para CITE: CB-2025-36\n",
      "✅ Archivo eliminado.\n",
      "CB-2025-32\n",
      "[INFO] El archivo '2641_SLCB_12-08-2025_CRONENBOLD AGUILERA ROBERTO _CB-2025-32.pdf' no existe. Se creará uno nuevo.\n",
      "[OK] Archivo '2641_SLCB_12-08-2025_CRONENBOLD AGUILERA ROBERTO _CB-2025-32.pdf' subido exitosamente.\n",
      "✔️ Se registro link para CITE: CB-2025-32\n",
      "✅ Archivo eliminado.\n",
      "CB-2025-31\n",
      "[INFO] El archivo '2641_SLCB_12-08-2025_CRONENBOLD AGUILERA ROBERTO_CB-2025-31.pdf' no existe. Se creará uno nuevo.\n",
      "[OK] Archivo '2641_SLCB_12-08-2025_CRONENBOLD AGUILERA ROBERTO_CB-2025-31.pdf' subido exitosamente.\n",
      "✔️ Se registro link para CITE: CB-2025-31\n",
      "✅ Archivo eliminado.\n",
      "CB-2025-27\n",
      "[INFO] El archivo '41594_SLCB_05-08-2025_AGROPECUARIA CAMPO DULCE S.R.L._CB-2025-27.pdf' no existe. Se creará uno nuevo.\n",
      "[OK] Archivo '41594_SLCB_05-08-2025_AGROPECUARIA CAMPO DULCE S.R.L._CB-2025-27.pdf' subido exitosamente.\n",
      "✔️ Se registro link para CITE: CB-2025-27\n",
      "✅ Archivo eliminado.\n",
      "CB-2025-21\n",
      "[INFO] El archivo '41594_SLCB_06-08-2025_AGROPECUARIA CAMPO DULCE S.R.L._CB-2025-21.pdf' no existe. Se creará uno nuevo.\n",
      "[OK] Archivo '41594_SLCB_06-08-2025_AGROPECUARIA CAMPO DULCE S.R.L._CB-2025-21.pdf' subido exitosamente.\n",
      "✔️ Se registro link para CITE: CB-2025-21\n",
      "✅ Archivo eliminado.\n",
      "CB-2025-23\n",
      "[INFO] El archivo '41594_SLCB_06-08-2025_AGROPECUARIA CAMPO DULCE S.R.L._CB-2025-23.pdf' no existe. Se creará uno nuevo.\n",
      "[OK] Archivo '41594_SLCB_06-08-2025_AGROPECUARIA CAMPO DULCE S.R.L._CB-2025-23.pdf' subido exitosamente.\n",
      "✔️ Se registro link para CITE: CB-2025-23\n",
      "✅ Archivo eliminado.\n",
      "CB-2025-24\n",
      "[INFO] El archivo '41594_SLCB_06-08-2025_AGROPECUARIA CAMPO DULCE S.R.L._CB-2025-24.pdf' no existe. Se creará uno nuevo.\n",
      "[OK] Archivo '41594_SLCB_06-08-2025_AGROPECUARIA CAMPO DULCE S.R.L._CB-2025-24.pdf' subido exitosamente.\n",
      "✔️ Se registro link para CITE: CB-2025-24\n",
      "✅ Archivo eliminado.\n",
      "CB-2025-28\n",
      "[INFO] El archivo '41594_SLCB_06-08-2025_AGROPECUARIA CAMPO DULCE S.R.L._CB-2025-28.pdf' no existe. Se creará uno nuevo.\n",
      "[OK] Archivo '41594_SLCB_06-08-2025_AGROPECUARIA CAMPO DULCE S.R.L._CB-2025-28.pdf' subido exitosamente.\n",
      "✔️ Se registro link para CITE: CB-2025-28\n",
      "✅ Archivo eliminado.\n",
      "CB-2025-35\n",
      "[INFO] El archivo '41594_SLCB_12-08-2025_AGROPECUARIA CAMPO DULCE S.R.L._CB-2025-35.pdf' no existe. Se creará uno nuevo.\n",
      "[OK] Archivo '41594_SLCB_12-08-2025_AGROPECUARIA CAMPO DULCE S.R.L._CB-2025-35.pdf' subido exitosamente.\n",
      "✔️ Se registro link para CITE: CB-2025-35\n",
      "✅ Archivo eliminado.\n",
      "CB-2025-22\n",
      "[INFO] El archivo '794_SLCB_07-08-2025_AGUILERA WENDE MARIANO_CB-2025-22.pdf' no existe. Se creará uno nuevo.\n",
      "[OK] Archivo '794_SLCB_07-08-2025_AGUILERA WENDE MARIANO_CB-2025-22.pdf' subido exitosamente.\n",
      "✔️ Se registro link para CITE: CB-2025-22\n",
      "✅ Archivo eliminado.\n"
     ]
    }
   ],
   "source": [
    "for file in contenido:\n",
    "    partes = file.split('_')\n",
    "    \n",
    "    cite = partes[-1].split('.')[0]\n",
    "    sigla = partes[1]\n",
    "    title_file = file\n",
    "    id_drive = '1sEfhWGATb7tkKgr6gcknH3ZA_ed_hGTq'\n",
    "    path_file = os.path.join(directorio_destino, file)\n",
    "    print(cite)\n",
    "    url_drive = cargar_pdf_to_drive(id_drive, title_file, path_file)\n",
    "    if url_drive == False:\n",
    "        continue\n",
    "    cargar_link_to_db(url_drive, cite)\n",
    "    if os.path.exists(path_file):\n",
    "        #os.remove(path_file)\n",
    "        print(\"✅ Archivo eliminado.\")\n",
    "    else:\n",
    "        print(\"⚠️ El archivo no existe.\")"
   ]
  },
  {
   "cell_type": "code",
   "execution_count": null,
   "id": "ce06318b-f09b-4389-b5b4-5e8a5394bb2c",
   "metadata": {},
   "outputs": [],
   "source": []
  },
  {
   "cell_type": "code",
   "execution_count": null,
   "id": "bf43c9af-a971-4139-acbb-206adff27422",
   "metadata": {},
   "outputs": [],
   "source": []
  },
  {
   "cell_type": "code",
   "execution_count": null,
   "id": "af20d880-9560-47c5-8317-77c4c3000d50",
   "metadata": {},
   "outputs": [],
   "source": []
  },
  {
   "cell_type": "code",
   "execution_count": null,
   "id": "0f30d8f8-d523-4ea5-9c84-0931823b295e",
   "metadata": {},
   "outputs": [],
   "source": []
  },
  {
   "cell_type": "code",
   "execution_count": null,
   "id": "24cc7827-5111-4a93-83b3-ddaabe44bf58",
   "metadata": {},
   "outputs": [],
   "source": []
  },
  {
   "cell_type": "code",
   "execution_count": null,
   "id": "c4de7753-a197-42e3-a3e7-a8f2bf16e3a6",
   "metadata": {},
   "outputs": [],
   "source": []
  },
  {
   "cell_type": "code",
   "execution_count": null,
   "id": "ad90e102-1b77-4ec4-887e-5d1b8bd31f18",
   "metadata": {},
   "outputs": [],
   "source": []
  },
  {
   "cell_type": "code",
   "execution_count": null,
   "id": "f7dfbd3e-eaac-49a7-b921-cd9c77f588cd",
   "metadata": {},
   "outputs": [],
   "source": []
  }
 ],
 "metadata": {
  "kernelspec": {
   "display_name": "Python 3 (ipykernel)",
   "language": "python",
   "name": "python3"
  },
  "language_info": {
   "codemirror_mode": {
    "name": "ipython",
    "version": 3
   },
   "file_extension": ".py",
   "mimetype": "text/x-python",
   "name": "python",
   "nbconvert_exporter": "python",
   "pygments_lexer": "ipython3",
   "version": "3.10.13"
  }
 },
 "nbformat": 4,
 "nbformat_minor": 5
}
