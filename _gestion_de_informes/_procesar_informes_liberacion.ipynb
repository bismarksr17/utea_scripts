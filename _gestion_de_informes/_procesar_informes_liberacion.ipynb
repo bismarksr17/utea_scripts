{
 "cells": [
  {
   "cell_type": "code",
   "execution_count": 1,
   "id": "a8fcfb71-d889-45d2-a46f-b575a6908bfb",
   "metadata": {},
   "outputs": [],
   "source": [
    "import sys\n",
    "sys.path.append('../_amigocloud')\n",
    "\n",
    "from sqlalchemy import create_engine, text\n",
    "from amigocloud import AmigoCloud\n",
    "from docx import Document\n",
    "from docx2pdf import convert\n",
    "import os\n",
    "import json\n",
    "import pandas as pd\n",
    "\n",
    "# CONEXIÓN A GOOGLE DRIVE\n",
    "from pydrive.auth import GoogleAuth\n",
    "from pydrive.drive import GoogleDrive\n",
    "import os\n",
    "\n",
    "gauth = GoogleAuth()\n",
    "\n",
    "# Si existe el archivo, intenta cargarlo\n",
    "if os.path.exists(\"mycreds.txt\"):\n",
    "    gauth.LoadCredentialsFile(\"mycreds.txt\")\n",
    "\n",
    "# Si no hay credenciales o son inválidas, forzar nueva autenticación\n",
    "if gauth.credentials is None or gauth.access_token_expired:\n",
    "    try:\n",
    "        gauth.LocalWebserverAuth()\n",
    "    except:\n",
    "        print(\"Error de autenticación. Eliminá 'mycreds.txt' y volvé a intentarlo.\")\n",
    "else:\n",
    "    gauth.Authorize()\n",
    "\n",
    "gauth.SaveCredentialsFile(\"mycreds.txt\")\n",
    "drive = GoogleDrive(gauth)"
   ]
  },
  {
   "cell_type": "code",
   "execution_count": 2,
   "id": "10f0c050-45c8-496c-b5a7-364478c3f41e",
   "metadata": {},
   "outputs": [],
   "source": [
    "sys.path.append('..')\n",
    "\n",
    "from config import RUTA_UNIDAD_ONE_DRIVE\n",
    "from config import RUTA_LOCAL_ONE_DRIVE\n",
    "from config import POSTGRES_UTEA\n",
    "RUTA_COMPLETA = os.path.join(RUTA_UNIDAD_ONE_DRIVE, RUTA_LOCAL_ONE_DRIVE)"
   ]
  },
  {
   "cell_type": "code",
   "execution_count": null,
   "id": "817df305-d781-4903-a282-12ad328e3093",
   "metadata": {},
   "outputs": [],
   "source": []
  },
  {
   "cell_type": "code",
   "execution_count": 3,
   "id": "634dee54-20e5-44b3-ac7b-dfc1cc5f8f30",
   "metadata": {},
   "outputs": [],
   "source": [
    "def get_ruta_informes():\n",
    "    try:\n",
    "        with open('../../ruta_informes.txt', 'r') as file:\n",
    "            ruta_inf = file.readline().strip()\n",
    "            return ruta_inf\n",
    "    except FileNotFoundError:\n",
    "        print(\"El archivo 'ruta_local.txt' no se encuentra en la ruta especificada.\")\n",
    "    return None"
   ]
  },
  {
   "cell_type": "code",
   "execution_count": 4,
   "id": "34c60b3b-3d70-40c1-a3fc-a179afbaaacd",
   "metadata": {},
   "outputs": [],
   "source": [
    "ruta_informes = get_ruta_informes()\n",
    "directorio_origen = ruta_informes + r'\\_informes'\n",
    "directorio_destino = ruta_informes + r'\\_pdf'"
   ]
  },
  {
   "cell_type": "code",
   "execution_count": 5,
   "id": "f7358aef-7ee1-451d-bc05-47176be965d8",
   "metadata": {},
   "outputs": [],
   "source": [
    "# Recorre y convierte a pdf archivos .docx que no empiezan con \"_\"\n",
    "def convertir_docx_to_pdf():\n",
    "    for archivo in os.listdir(directorio_origen):\n",
    "        if archivo.lower().endswith(\".docx\") and not archivo.startswith(\"_\"):\n",
    "            ruta_docx = os.path.join(directorio_origen, archivo)\n",
    "            ruta_pdf = os.path.join(directorio_destino, archivo.replace(\".docx\", \".pdf\"))\n",
    "            \n",
    "            try:\n",
    "                convert(ruta_docx, ruta_pdf)\n",
    "                print(ruta_docx)\n",
    "                if os.path.exists(ruta_pdf):\n",
    "                    print(f\"✅ Convertido: {archivo}\")\n",
    "                    os.remove(ruta_docx)\n",
    "                    print(f\"🗑️ Eliminado original: {archivo}\")\n",
    "                else:\n",
    "                    print(f\"❌ Error: PDF no generado para {archivo}\")\n",
    "            except Exception as e:\n",
    "                print(f\"⚠️ Error al convertir {archivo}: {e}\")\n",
    "\n",
    "def obtener_engine():\n",
    "    return create_engine(\n",
    "        f\"postgresql+psycopg2://{POSTGRES_UTEA['USER']}:{POSTGRES_UTEA['PASSWORD']}@{POSTGRES_UTEA['HOST']}:{POSTGRES_UTEA['PORT']}/{POSTGRES_UTEA['DATABASE']}\"\n",
    "    )\n",
    "\n",
    "def cargar_link_to_db(url, cite):\n",
    "    engine = obtener_engine()\n",
    "    try:\n",
    "        with engine.begin() as conn:\n",
    "            query = text(\"\"\"\n",
    "                UPDATE drones_control_bio.resumen_control_bio SET link = :url WHERE cite = :cite\n",
    "            \"\"\")\n",
    "            conn.execute(query, {\"url\": url, \"cite\": cite})\n",
    "            print(f\"✔️ Se registro link para CITE: {cite}\" )\n",
    "    except Exception as e:\n",
    "        print(f\"❌ Error al actualizar CITE: {cite}, {e}\")\n",
    "\n",
    "def get_registros_sin_enviar():\n",
    "    engine = obtener_engine()\n",
    "    try:\n",
    "        query = \"\"\"\n",
    "            SELECT *\n",
    "            FROM drones_control_bio.resumen_control_bio\n",
    "            WHERE enviado = false\n",
    "        \"\"\"\n",
    "        df = pd.read_sql(query, engine)\n",
    "        return df\n",
    "    except Exception as e:\n",
    "        print(f\"❌ Error al consultar unidades sin labor: {e}\")\n",
    "        return pd.DataFrame()\n",
    "    return None"
   ]
  },
  {
   "cell_type": "code",
   "execution_count": null,
   "id": "99b4c3ca-df0a-45b0-b122-ab8b998180a1",
   "metadata": {},
   "outputs": [],
   "source": []
  },
  {
   "cell_type": "code",
   "execution_count": 6,
   "id": "5c89fabe-dbdc-418a-ba18-0c2c36a24f0c",
   "metadata": {},
   "outputs": [
    {
     "data": {
      "application/vnd.jupyter.widget-view+json": {
       "model_id": "7da315f87a414ce49cfd9552827c49a2",
       "version_major": 2,
       "version_minor": 0
      },
      "text/plain": [
       "  0%|          | 0/1 [00:00<?, ?it/s]"
      ]
     },
     "metadata": {},
     "output_type": "display_data"
    },
    {
     "name": "stdout",
     "output_type": "stream",
     "text": [
      "C:\\Users\\Usuario\\Desktop\\PROYECTOS\\_informes\\10697_SLCB_16-10-2025_PAZ REA JAIME EDUARDO_CB-2025-157.docx\n",
      "✅ Convertido: 10697_SLCB_16-10-2025_PAZ REA JAIME EDUARDO_CB-2025-157.docx\n",
      "🗑️ Eliminado original: 10697_SLCB_16-10-2025_PAZ REA JAIME EDUARDO_CB-2025-157.docx\n"
     ]
    },
    {
     "data": {
      "application/vnd.jupyter.widget-view+json": {
       "model_id": "790993b7e68c488d8b256f6dfdee372b",
       "version_major": 2,
       "version_minor": 0
      },
      "text/plain": [
       "  0%|          | 0/1 [00:00<?, ?it/s]"
      ]
     },
     "metadata": {},
     "output_type": "display_data"
    },
    {
     "name": "stdout",
     "output_type": "stream",
     "text": [
      "C:\\Users\\Usuario\\Desktop\\PROYECTOS\\_informes\\10863_SLCB_16-10-2025_PAZ REA ROSENDO_CB-2025-159.docx\n",
      "✅ Convertido: 10863_SLCB_16-10-2025_PAZ REA ROSENDO_CB-2025-159.docx\n",
      "🗑️ Eliminado original: 10863_SLCB_16-10-2025_PAZ REA ROSENDO_CB-2025-159.docx\n"
     ]
    },
    {
     "data": {
      "application/vnd.jupyter.widget-view+json": {
       "model_id": "381a7a4681274d6c8f30ff66239ea930",
       "version_major": 2,
       "version_minor": 0
      },
      "text/plain": [
       "  0%|          | 0/1 [00:00<?, ?it/s]"
      ]
     },
     "metadata": {},
     "output_type": "display_data"
    },
    {
     "name": "stdout",
     "output_type": "stream",
     "text": [
      "C:\\Users\\Usuario\\Desktop\\PROYECTOS\\_informes\\1182_SLCB_15-10-2025_BOHORQUEZ FERNANDEZ NICANOR_CB-2025-172.docx\n",
      "✅ Convertido: 1182_SLCB_15-10-2025_BOHORQUEZ FERNANDEZ NICANOR_CB-2025-172.docx\n",
      "🗑️ Eliminado original: 1182_SLCB_15-10-2025_BOHORQUEZ FERNANDEZ NICANOR_CB-2025-172.docx\n"
     ]
    },
    {
     "data": {
      "application/vnd.jupyter.widget-view+json": {
       "model_id": "e345b1273dd44910b6926e12bdc14a73",
       "version_major": 2,
       "version_minor": 0
      },
      "text/plain": [
       "  0%|          | 0/1 [00:00<?, ?it/s]"
      ]
     },
     "metadata": {},
     "output_type": "display_data"
    },
    {
     "name": "stdout",
     "output_type": "stream",
     "text": [
      "C:\\Users\\Usuario\\Desktop\\PROYECTOS\\_informes\\11860_SLCB_13-10-2025_ROCA SERRANO ARMANDO_CB-2025-160.docx\n",
      "✅ Convertido: 11860_SLCB_13-10-2025_ROCA SERRANO ARMANDO_CB-2025-160.docx\n",
      "🗑️ Eliminado original: 11860_SLCB_13-10-2025_ROCA SERRANO ARMANDO_CB-2025-160.docx\n"
     ]
    },
    {
     "data": {
      "application/vnd.jupyter.widget-view+json": {
       "model_id": "cfb1f8d25e0e408b9282251ad3dbb159",
       "version_major": 2,
       "version_minor": 0
      },
      "text/plain": [
       "  0%|          | 0/1 [00:00<?, ?it/s]"
      ]
     },
     "metadata": {},
     "output_type": "display_data"
    },
    {
     "name": "stdout",
     "output_type": "stream",
     "text": [
      "C:\\Users\\Usuario\\Desktop\\PROYECTOS\\_informes\\13638_SLCB_15-10-2025_TISCO VASQUEZ SERGIO_CB-2025-174.docx\n",
      "✅ Convertido: 13638_SLCB_15-10-2025_TISCO VASQUEZ SERGIO_CB-2025-174.docx\n",
      "🗑️ Eliminado original: 13638_SLCB_15-10-2025_TISCO VASQUEZ SERGIO_CB-2025-174.docx\n"
     ]
    },
    {
     "data": {
      "application/vnd.jupyter.widget-view+json": {
       "model_id": "5e477ea9ffcd48e1a8867bcf4c775a7b",
       "version_major": 2,
       "version_minor": 0
      },
      "text/plain": [
       "  0%|          | 0/1 [00:00<?, ?it/s]"
      ]
     },
     "metadata": {},
     "output_type": "display_data"
    },
    {
     "name": "stdout",
     "output_type": "stream",
     "text": [
      "C:\\Users\\Usuario\\Desktop\\PROYECTOS\\_informes\\1478_SLCB_15-10-2025_CALLE RALDEZ MARCO ANTONIO_CB-2025-176.docx\n",
      "✅ Convertido: 1478_SLCB_15-10-2025_CALLE RALDEZ MARCO ANTONIO_CB-2025-176.docx\n",
      "🗑️ Eliminado original: 1478_SLCB_15-10-2025_CALLE RALDEZ MARCO ANTONIO_CB-2025-176.docx\n"
     ]
    },
    {
     "data": {
      "application/vnd.jupyter.widget-view+json": {
       "model_id": "1702182a5f5240d7a25ebcb06fd211c3",
       "version_major": 2,
       "version_minor": 0
      },
      "text/plain": [
       "  0%|          | 0/1 [00:00<?, ?it/s]"
      ]
     },
     "metadata": {},
     "output_type": "display_data"
    },
    {
     "name": "stdout",
     "output_type": "stream",
     "text": [
      "C:\\Users\\Usuario\\Desktop\\PROYECTOS\\_informes\\15085_SLCB_15-10-2025_CRUZ RUTH JAQUELIN B. DE_CB-2025-168.docx\n",
      "✅ Convertido: 15085_SLCB_15-10-2025_CRUZ RUTH JAQUELIN B. DE_CB-2025-168.docx\n",
      "🗑️ Eliminado original: 15085_SLCB_15-10-2025_CRUZ RUTH JAQUELIN B. DE_CB-2025-168.docx\n"
     ]
    },
    {
     "data": {
      "application/vnd.jupyter.widget-view+json": {
       "model_id": "2bd9887c866b431781fee619fdb51eeb",
       "version_major": 2,
       "version_minor": 0
      },
      "text/plain": [
       "  0%|          | 0/1 [00:00<?, ?it/s]"
      ]
     },
     "metadata": {},
     "output_type": "display_data"
    },
    {
     "name": "stdout",
     "output_type": "stream",
     "text": [
      "C:\\Users\\Usuario\\Desktop\\PROYECTOS\\_informes\\15085_SLCB_15-10-2025_CRUZ RUTH JAQUELIN B. DE_CB-2025-170.docx\n",
      "✅ Convertido: 15085_SLCB_15-10-2025_CRUZ RUTH JAQUELIN B. DE_CB-2025-170.docx\n",
      "🗑️ Eliminado original: 15085_SLCB_15-10-2025_CRUZ RUTH JAQUELIN B. DE_CB-2025-170.docx\n"
     ]
    },
    {
     "data": {
      "application/vnd.jupyter.widget-view+json": {
       "model_id": "70f7616a22a2430c8ac37395d86f9809",
       "version_major": 2,
       "version_minor": 0
      },
      "text/plain": [
       "  0%|          | 0/1 [00:00<?, ?it/s]"
      ]
     },
     "metadata": {},
     "output_type": "display_data"
    },
    {
     "name": "stdout",
     "output_type": "stream",
     "text": [
      "C:\\Users\\Usuario\\Desktop\\PROYECTOS\\_informes\\15195_SLCB_15-10-2025_VEIZAGA ENRIQUEZ GUSTAVO_CB-2025-175.docx\n",
      "✅ Convertido: 15195_SLCB_15-10-2025_VEIZAGA ENRIQUEZ GUSTAVO_CB-2025-175.docx\n",
      "🗑️ Eliminado original: 15195_SLCB_15-10-2025_VEIZAGA ENRIQUEZ GUSTAVO_CB-2025-175.docx\n"
     ]
    },
    {
     "data": {
      "application/vnd.jupyter.widget-view+json": {
       "model_id": "fbeef811f0c04c8ab8ca1b63a3d33475",
       "version_major": 2,
       "version_minor": 0
      },
      "text/plain": [
       "  0%|          | 0/1 [00:00<?, ?it/s]"
      ]
     },
     "metadata": {},
     "output_type": "display_data"
    },
    {
     "name": "stdout",
     "output_type": "stream",
     "text": [
      "C:\\Users\\Usuario\\Desktop\\PROYECTOS\\_informes\\15195_SLCB_15-10-2025_VEIZAGA ENRIQUEZ GUSTAVO_CB-2025-177.docx\n",
      "✅ Convertido: 15195_SLCB_15-10-2025_VEIZAGA ENRIQUEZ GUSTAVO_CB-2025-177.docx\n",
      "🗑️ Eliminado original: 15195_SLCB_15-10-2025_VEIZAGA ENRIQUEZ GUSTAVO_CB-2025-177.docx\n"
     ]
    },
    {
     "data": {
      "application/vnd.jupyter.widget-view+json": {
       "model_id": "4e6281747a2c4c70bbd7b0bd53cfb80f",
       "version_major": 2,
       "version_minor": 0
      },
      "text/plain": [
       "  0%|          | 0/1 [00:00<?, ?it/s]"
      ]
     },
     "metadata": {},
     "output_type": "display_data"
    },
    {
     "name": "stdout",
     "output_type": "stream",
     "text": [
      "C:\\Users\\Usuario\\Desktop\\PROYECTOS\\_informes\\18189_SLCB_15-10-2025_BALCAZAR SOLETO RAMON BERTHY_CB-2025-179.docx\n",
      "✅ Convertido: 18189_SLCB_15-10-2025_BALCAZAR SOLETO RAMON BERTHY_CB-2025-179.docx\n",
      "🗑️ Eliminado original: 18189_SLCB_15-10-2025_BALCAZAR SOLETO RAMON BERTHY_CB-2025-179.docx\n"
     ]
    },
    {
     "data": {
      "application/vnd.jupyter.widget-view+json": {
       "model_id": "dc2f0e1c6c8a467388ef7159969fc113",
       "version_major": 2,
       "version_minor": 0
      },
      "text/plain": [
       "  0%|          | 0/1 [00:00<?, ?it/s]"
      ]
     },
     "metadata": {},
     "output_type": "display_data"
    },
    {
     "name": "stdout",
     "output_type": "stream",
     "text": [
      "C:\\Users\\Usuario\\Desktop\\PROYECTOS\\_informes\\18189_SLCB_15-10-2025_BALCAZAR SOLETO RAMON BERTHY_CB-2025-180.docx\n",
      "✅ Convertido: 18189_SLCB_15-10-2025_BALCAZAR SOLETO RAMON BERTHY_CB-2025-180.docx\n",
      "🗑️ Eliminado original: 18189_SLCB_15-10-2025_BALCAZAR SOLETO RAMON BERTHY_CB-2025-180.docx\n"
     ]
    },
    {
     "data": {
      "application/vnd.jupyter.widget-view+json": {
       "model_id": "d52c99070d734253a5c562dca1dd935f",
       "version_major": 2,
       "version_minor": 0
      },
      "text/plain": [
       "  0%|          | 0/1 [00:00<?, ?it/s]"
      ]
     },
     "metadata": {},
     "output_type": "display_data"
    },
    {
     "name": "stdout",
     "output_type": "stream",
     "text": [
      "C:\\Users\\Usuario\\Desktop\\PROYECTOS\\_informes\\2353_SLCB_15-10-2025_CARO BENITES GERMAN_CB-2025-173.docx\n",
      "✅ Convertido: 2353_SLCB_15-10-2025_CARO BENITES GERMAN_CB-2025-173.docx\n",
      "🗑️ Eliminado original: 2353_SLCB_15-10-2025_CARO BENITES GERMAN_CB-2025-173.docx\n"
     ]
    },
    {
     "data": {
      "application/vnd.jupyter.widget-view+json": {
       "model_id": "ae8814ecec504b66a177da4ed9d55dc4",
       "version_major": 2,
       "version_minor": 0
      },
      "text/plain": [
       "  0%|          | 0/1 [00:00<?, ?it/s]"
      ]
     },
     "metadata": {},
     "output_type": "display_data"
    },
    {
     "name": "stdout",
     "output_type": "stream",
     "text": [
      "C:\\Users\\Usuario\\Desktop\\PROYECTOS\\_informes\\2505_SLCB_15-10-2025_CRUZ BARRIENTOS CRISTIAN F._CB-2025-169.docx\n",
      "✅ Convertido: 2505_SLCB_15-10-2025_CRUZ BARRIENTOS CRISTIAN F._CB-2025-169.docx\n",
      "🗑️ Eliminado original: 2505_SLCB_15-10-2025_CRUZ BARRIENTOS CRISTIAN F._CB-2025-169.docx\n"
     ]
    },
    {
     "data": {
      "application/vnd.jupyter.widget-view+json": {
       "model_id": "13c353506f41419bbfc00c666852c8c4",
       "version_major": 2,
       "version_minor": 0
      },
      "text/plain": [
       "  0%|          | 0/1 [00:00<?, ?it/s]"
      ]
     },
     "metadata": {},
     "output_type": "display_data"
    },
    {
     "name": "stdout",
     "output_type": "stream",
     "text": [
      "C:\\Users\\Usuario\\Desktop\\PROYECTOS\\_informes\\31088_SLCB_14-10-2025_COLQUE QUIROZ JENNY FELICIDAD_CB-2025-167.docx\n",
      "✅ Convertido: 31088_SLCB_14-10-2025_COLQUE QUIROZ JENNY FELICIDAD_CB-2025-167.docx\n",
      "🗑️ Eliminado original: 31088_SLCB_14-10-2025_COLQUE QUIROZ JENNY FELICIDAD_CB-2025-167.docx\n"
     ]
    },
    {
     "data": {
      "application/vnd.jupyter.widget-view+json": {
       "model_id": "6c2f207481174124a2058e3c5f1ed96d",
       "version_major": 2,
       "version_minor": 0
      },
      "text/plain": [
       "  0%|          | 0/1 [00:00<?, ?it/s]"
      ]
     },
     "metadata": {},
     "output_type": "display_data"
    },
    {
     "name": "stdout",
     "output_type": "stream",
     "text": [
      "C:\\Users\\Usuario\\Desktop\\PROYECTOS\\_informes\\41533_SLCB_14-10-2025_ARNEZ COLQUE ROSARIO ESTELA_CB-2025-161.docx\n",
      "✅ Convertido: 41533_SLCB_14-10-2025_ARNEZ COLQUE ROSARIO ESTELA_CB-2025-161.docx\n",
      "🗑️ Eliminado original: 41533_SLCB_14-10-2025_ARNEZ COLQUE ROSARIO ESTELA_CB-2025-161.docx\n"
     ]
    },
    {
     "data": {
      "application/vnd.jupyter.widget-view+json": {
       "model_id": "ecbc2dd3bd554a31bfd7a9e5470ac9e5",
       "version_major": 2,
       "version_minor": 0
      },
      "text/plain": [
       "  0%|          | 0/1 [00:00<?, ?it/s]"
      ]
     },
     "metadata": {},
     "output_type": "display_data"
    },
    {
     "name": "stdout",
     "output_type": "stream",
     "text": [
      "C:\\Users\\Usuario\\Desktop\\PROYECTOS\\_informes\\41599_SLCB_15-10-2025_LOPEZ TURIHUANO JUAN CARLOS_CB-2025-183.docx\n",
      "✅ Convertido: 41599_SLCB_15-10-2025_LOPEZ TURIHUANO JUAN CARLOS_CB-2025-183.docx\n",
      "🗑️ Eliminado original: 41599_SLCB_15-10-2025_LOPEZ TURIHUANO JUAN CARLOS_CB-2025-183.docx\n"
     ]
    },
    {
     "data": {
      "application/vnd.jupyter.widget-view+json": {
       "model_id": "5742c1dd9f044676bb219d162d4651eb",
       "version_major": 2,
       "version_minor": 0
      },
      "text/plain": [
       "  0%|          | 0/1 [00:00<?, ?it/s]"
      ]
     },
     "metadata": {},
     "output_type": "display_data"
    },
    {
     "name": "stdout",
     "output_type": "stream",
     "text": [
      "C:\\Users\\Usuario\\Desktop\\PROYECTOS\\_informes\\41819_SLCB_14-10-2025_AGROPECUARIA GUSTAVITO SRL_CB-2025-171.docx\n",
      "✅ Convertido: 41819_SLCB_14-10-2025_AGROPECUARIA GUSTAVITO SRL_CB-2025-171.docx\n",
      "🗑️ Eliminado original: 41819_SLCB_14-10-2025_AGROPECUARIA GUSTAVITO SRL_CB-2025-171.docx\n"
     ]
    },
    {
     "data": {
      "application/vnd.jupyter.widget-view+json": {
       "model_id": "0d9472f7a22241d6b73f399c1e97aad5",
       "version_major": 2,
       "version_minor": 0
      },
      "text/plain": [
       "  0%|          | 0/1 [00:00<?, ?it/s]"
      ]
     },
     "metadata": {},
     "output_type": "display_data"
    },
    {
     "name": "stdout",
     "output_type": "stream",
     "text": [
      "C:\\Users\\Usuario\\Desktop\\PROYECTOS\\_informes\\42231_SLCB_16-10-2025_PAZ FERNANDEZ RODRIGO_CB-2025-158.docx\n",
      "✅ Convertido: 42231_SLCB_16-10-2025_PAZ FERNANDEZ RODRIGO_CB-2025-158.docx\n",
      "🗑️ Eliminado original: 42231_SLCB_16-10-2025_PAZ FERNANDEZ RODRIGO_CB-2025-158.docx\n"
     ]
    },
    {
     "data": {
      "application/vnd.jupyter.widget-view+json": {
       "model_id": "cfd3ee369dfe41159447fb76e7b15b26",
       "version_major": 2,
       "version_minor": 0
      },
      "text/plain": [
       "  0%|          | 0/1 [00:00<?, ?it/s]"
      ]
     },
     "metadata": {},
     "output_type": "display_data"
    },
    {
     "name": "stdout",
     "output_type": "stream",
     "text": [
      "C:\\Users\\Usuario\\Desktop\\PROYECTOS\\_informes\\594_SLCB_14-10-2025_AGROPECUARIA FLAMBOYAN_CB-2025-156.docx\n",
      "✅ Convertido: 594_SLCB_14-10-2025_AGROPECUARIA FLAMBOYAN_CB-2025-156.docx\n",
      "🗑️ Eliminado original: 594_SLCB_14-10-2025_AGROPECUARIA FLAMBOYAN_CB-2025-156.docx\n"
     ]
    },
    {
     "data": {
      "application/vnd.jupyter.widget-view+json": {
       "model_id": "92e2d77dbf1b4bafabddc17a8aa67105",
       "version_major": 2,
       "version_minor": 0
      },
      "text/plain": [
       "  0%|          | 0/1 [00:00<?, ?it/s]"
      ]
     },
     "metadata": {},
     "output_type": "display_data"
    },
    {
     "name": "stdout",
     "output_type": "stream",
     "text": [
      "C:\\Users\\Usuario\\Desktop\\PROYECTOS\\_informes\\767_SLCB_15-10-2025_PROSER S.R.L_CB-2025-178.docx\n",
      "✅ Convertido: 767_SLCB_15-10-2025_PROSER S.R.L_CB-2025-178.docx\n",
      "🗑️ Eliminado original: 767_SLCB_15-10-2025_PROSER S.R.L_CB-2025-178.docx\n"
     ]
    },
    {
     "data": {
      "application/vnd.jupyter.widget-view+json": {
       "model_id": "92bcc6383b324777b96a1ddf3873c0ef",
       "version_major": 2,
       "version_minor": 0
      },
      "text/plain": [
       "  0%|          | 0/1 [00:00<?, ?it/s]"
      ]
     },
     "metadata": {},
     "output_type": "display_data"
    },
    {
     "name": "stdout",
     "output_type": "stream",
     "text": [
      "C:\\Users\\Usuario\\Desktop\\PROYECTOS\\_informes\\767_SLCB_15-10-2025_PROSER S.R.L_CB-2025-182.docx\n",
      "✅ Convertido: 767_SLCB_15-10-2025_PROSER S.R.L_CB-2025-182.docx\n",
      "🗑️ Eliminado original: 767_SLCB_15-10-2025_PROSER S.R.L_CB-2025-182.docx\n"
     ]
    },
    {
     "data": {
      "application/vnd.jupyter.widget-view+json": {
       "model_id": "68beb2444eaa4fce896a9500a65396f0",
       "version_major": 2,
       "version_minor": 0
      },
      "text/plain": [
       "  0%|          | 0/1 [00:00<?, ?it/s]"
      ]
     },
     "metadata": {},
     "output_type": "display_data"
    },
    {
     "name": "stdout",
     "output_type": "stream",
     "text": [
      "C:\\Users\\Usuario\\Desktop\\PROYECTOS\\_informes\\794_SLCB_13-10-2025_AGUILERA WENDE MARIANO_CB-2025-166.docx\n",
      "✅ Convertido: 794_SLCB_13-10-2025_AGUILERA WENDE MARIANO_CB-2025-166.docx\n",
      "🗑️ Eliminado original: 794_SLCB_13-10-2025_AGUILERA WENDE MARIANO_CB-2025-166.docx\n"
     ]
    },
    {
     "data": {
      "application/vnd.jupyter.widget-view+json": {
       "model_id": "f8deccbc1b5d44048494a82004af0b99",
       "version_major": 2,
       "version_minor": 0
      },
      "text/plain": [
       "  0%|          | 0/1 [00:00<?, ?it/s]"
      ]
     },
     "metadata": {},
     "output_type": "display_data"
    },
    {
     "name": "stdout",
     "output_type": "stream",
     "text": [
      "C:\\Users\\Usuario\\Desktop\\PROYECTOS\\_informes\\794_SLCB_14-10-2025_AGUILERA WENDE MARIANO_CB-2025-162.docx\n",
      "✅ Convertido: 794_SLCB_14-10-2025_AGUILERA WENDE MARIANO_CB-2025-162.docx\n",
      "🗑️ Eliminado original: 794_SLCB_14-10-2025_AGUILERA WENDE MARIANO_CB-2025-162.docx\n"
     ]
    },
    {
     "data": {
      "application/vnd.jupyter.widget-view+json": {
       "model_id": "f8bb75f7bd954448b4997777e0061ad6",
       "version_major": 2,
       "version_minor": 0
      },
      "text/plain": [
       "  0%|          | 0/1 [00:00<?, ?it/s]"
      ]
     },
     "metadata": {},
     "output_type": "display_data"
    },
    {
     "name": "stdout",
     "output_type": "stream",
     "text": [
      "C:\\Users\\Usuario\\Desktop\\PROYECTOS\\_informes\\794_SLCB_14-10-2025_AGUILERA WENDE MARIANO_CB-2025-163.docx\n",
      "✅ Convertido: 794_SLCB_14-10-2025_AGUILERA WENDE MARIANO_CB-2025-163.docx\n",
      "🗑️ Eliminado original: 794_SLCB_14-10-2025_AGUILERA WENDE MARIANO_CB-2025-163.docx\n"
     ]
    },
    {
     "data": {
      "application/vnd.jupyter.widget-view+json": {
       "model_id": "170dc5d1ab0e47d2a4cf9dd306c154ce",
       "version_major": 2,
       "version_minor": 0
      },
      "text/plain": [
       "  0%|          | 0/1 [00:00<?, ?it/s]"
      ]
     },
     "metadata": {},
     "output_type": "display_data"
    },
    {
     "name": "stdout",
     "output_type": "stream",
     "text": [
      "C:\\Users\\Usuario\\Desktop\\PROYECTOS\\_informes\\8814_SLCB_13-10-2025_MURIALDO MENDEZ WALTER DANIEL_CB-2025-164.docx\n",
      "✅ Convertido: 8814_SLCB_13-10-2025_MURIALDO MENDEZ WALTER DANIEL_CB-2025-164.docx\n",
      "🗑️ Eliminado original: 8814_SLCB_13-10-2025_MURIALDO MENDEZ WALTER DANIEL_CB-2025-164.docx\n"
     ]
    },
    {
     "data": {
      "application/vnd.jupyter.widget-view+json": {
       "model_id": "f29dc446cfca44e788f346416fc6a1bb",
       "version_major": 2,
       "version_minor": 0
      },
      "text/plain": [
       "  0%|          | 0/1 [00:00<?, ?it/s]"
      ]
     },
     "metadata": {},
     "output_type": "display_data"
    },
    {
     "name": "stdout",
     "output_type": "stream",
     "text": [
      "C:\\Users\\Usuario\\Desktop\\PROYECTOS\\_informes\\8838_SLCB_13-10-2025_MENDEZ PAZ MIRYAM_CB-2025-165.docx\n",
      "✅ Convertido: 8838_SLCB_13-10-2025_MENDEZ PAZ MIRYAM_CB-2025-165.docx\n",
      "🗑️ Eliminado original: 8838_SLCB_13-10-2025_MENDEZ PAZ MIRYAM_CB-2025-165.docx\n"
     ]
    },
    {
     "data": {
      "application/vnd.jupyter.widget-view+json": {
       "model_id": "6acbd7a9c2724e45a2283231e5aecaf5",
       "version_major": 2,
       "version_minor": 0
      },
      "text/plain": [
       "  0%|          | 0/1 [00:00<?, ?it/s]"
      ]
     },
     "metadata": {},
     "output_type": "display_data"
    },
    {
     "name": "stdout",
     "output_type": "stream",
     "text": [
      "C:\\Users\\Usuario\\Desktop\\PROYECTOS\\_informes\\8842_SLCB_15-10-2025_MUÑOZ SUAREZ HUMBERTO_CB-2025-181.docx\n",
      "✅ Convertido: 8842_SLCB_15-10-2025_MUÑOZ SUAREZ HUMBERTO_CB-2025-181.docx\n",
      "🗑️ Eliminado original: 8842_SLCB_15-10-2025_MUÑOZ SUAREZ HUMBERTO_CB-2025-181.docx\n"
     ]
    }
   ],
   "source": [
    "convertir_docx_to_pdf()"
   ]
  },
  {
   "cell_type": "code",
   "execution_count": 7,
   "id": "150897f4-d3d0-4dcd-8363-43c575f22a70",
   "metadata": {},
   "outputs": [],
   "source": [
    "def cargar_pdf_to_drive(id_drive, title_file, path_file):\n",
    "    try:\n",
    "        # 1. Buscar si ya existe un archivo con el mismo nombre en la misma carpeta\n",
    "        query = f\"'{id_drive}' in parents and title = '{title_file}' and trashed = false\"\n",
    "        file_list = drive.ListFile({'q': query}).GetList()\n",
    "\n",
    "        if file_list:\n",
    "            # Si ya existe, usamos el primero encontrado\n",
    "            file = file_list[0]\n",
    "            print(f\"[INFO] El archivo '{title_file}' ya existe. Se reemplazará.\")\n",
    "        else:\n",
    "            # Si no existe, creamos uno nuevo\n",
    "            file = drive.CreateFile({\n",
    "                \"mimeType\": \"application/pdf\",\n",
    "                \"parents\": [{\"kind\": \"drive#fileLink\", \"id\": id_drive}]\n",
    "            })\n",
    "            file['title'] = title_file\n",
    "            print(f\"[INFO] El archivo '{title_file}' no existe. Se creará uno nuevo.\")\n",
    "\n",
    "        # 2. Reemplazar el contenido\n",
    "        file.SetContentFile(path_file)\n",
    "        file.Upload()\n",
    "\n",
    "        # 3. Dar permisos públicos si es nuevo\n",
    "        if not file_list:\n",
    "            file.InsertPermission({\n",
    "                'type': 'anyone',\n",
    "                'value': 'anyone',\n",
    "                'role': 'reader'\n",
    "            })\n",
    "\n",
    "        print(f\"✅[OK] Archivo '{title_file}' subido exitosamente.\")\n",
    "        return file['alternateLink']\n",
    "\n",
    "    except Exception as e:\n",
    "        print(f\"❌[ERROR] No se pudo subir el archivo '{title_file}': {e}\")\n",
    "        return False"
   ]
  },
  {
   "cell_type": "code",
   "execution_count": 8,
   "id": "8b9bd17e-26d6-4f55-aa7b-3c8d91af6b54",
   "metadata": {},
   "outputs": [
    {
     "name": "stdout",
     "output_type": "stream",
     "text": [
      "28\n"
     ]
    },
    {
     "data": {
      "text/plain": [
       "['10697_SLCB_16-10-2025_PAZ REA JAIME EDUARDO_CB-2025-157.pdf',\n",
       " '10863_SLCB_16-10-2025_PAZ REA ROSENDO_CB-2025-159.pdf',\n",
       " '1182_SLCB_15-10-2025_BOHORQUEZ FERNANDEZ NICANOR_CB-2025-172.pdf',\n",
       " '11860_SLCB_13-10-2025_ROCA SERRANO ARMANDO_CB-2025-160.pdf',\n",
       " '13638_SLCB_15-10-2025_TISCO VASQUEZ SERGIO_CB-2025-174.pdf',\n",
       " '1478_SLCB_15-10-2025_CALLE RALDEZ MARCO ANTONIO_CB-2025-176.pdf',\n",
       " '15085_SLCB_15-10-2025_CRUZ RUTH JAQUELIN B. DE_CB-2025-168.pdf',\n",
       " '15085_SLCB_15-10-2025_CRUZ RUTH JAQUELIN B. DE_CB-2025-170.pdf',\n",
       " '15195_SLCB_15-10-2025_VEIZAGA ENRIQUEZ GUSTAVO_CB-2025-175.pdf',\n",
       " '15195_SLCB_15-10-2025_VEIZAGA ENRIQUEZ GUSTAVO_CB-2025-177.pdf',\n",
       " '18189_SLCB_15-10-2025_BALCAZAR SOLETO RAMON BERTHY_CB-2025-179.pdf',\n",
       " '18189_SLCB_15-10-2025_BALCAZAR SOLETO RAMON BERTHY_CB-2025-180.pdf',\n",
       " '2353_SLCB_15-10-2025_CARO BENITES GERMAN_CB-2025-173.pdf',\n",
       " '2505_SLCB_15-10-2025_CRUZ BARRIENTOS CRISTIAN F._CB-2025-169.pdf',\n",
       " '31088_SLCB_14-10-2025_COLQUE QUIROZ JENNY FELICIDAD_CB-2025-167.pdf',\n",
       " '41533_SLCB_14-10-2025_ARNEZ COLQUE ROSARIO ESTELA_CB-2025-161.pdf',\n",
       " '41599_SLCB_15-10-2025_LOPEZ TURIHUANO JUAN CARLOS_CB-2025-183.pdf',\n",
       " '41819_SLCB_14-10-2025_AGROPECUARIA GUSTAVITO SRL_CB-2025-171.pdf',\n",
       " '42231_SLCB_16-10-2025_PAZ FERNANDEZ RODRIGO_CB-2025-158.pdf',\n",
       " '594_SLCB_14-10-2025_AGROPECUARIA FLAMBOYAN_CB-2025-156.pdf',\n",
       " '767_SLCB_15-10-2025_PROSER S.R.L_CB-2025-178.pdf',\n",
       " '767_SLCB_15-10-2025_PROSER S.R.L_CB-2025-182.pdf',\n",
       " '794_SLCB_13-10-2025_AGUILERA WENDE MARIANO_CB-2025-166.pdf',\n",
       " '794_SLCB_14-10-2025_AGUILERA WENDE MARIANO_CB-2025-162.pdf',\n",
       " '794_SLCB_14-10-2025_AGUILERA WENDE MARIANO_CB-2025-163.pdf',\n",
       " '8814_SLCB_13-10-2025_MURIALDO MENDEZ WALTER DANIEL_CB-2025-164.pdf',\n",
       " '8838_SLCB_13-10-2025_MENDEZ PAZ MIRYAM_CB-2025-165.pdf',\n",
       " '8842_SLCB_15-10-2025_MUÑOZ SUAREZ HUMBERTO_CB-2025-181.pdf']"
      ]
     },
     "execution_count": 8,
     "metadata": {},
     "output_type": "execute_result"
    }
   ],
   "source": [
    "contenido = os.listdir(directorio_destino)\n",
    "print(len(contenido))\n",
    "contenido"
   ]
  },
  {
   "cell_type": "code",
   "execution_count": 9,
   "id": "cd3db610-4dd3-4c47-8573-8b2e16748b0a",
   "metadata": {},
   "outputs": [
    {
     "name": "stdout",
     "output_type": "stream",
     "text": [
      "CB-2025-157\n",
      "[INFO] El archivo '10697_SLCB_16-10-2025_PAZ REA JAIME EDUARDO_CB-2025-157.pdf' no existe. Se creará uno nuevo.\n",
      "✅[OK] Archivo '10697_SLCB_16-10-2025_PAZ REA JAIME EDUARDO_CB-2025-157.pdf' subido exitosamente.\n",
      "✔️ Se registro link para CITE: CB-2025-157\n",
      "✅ Archivo eliminado.\n",
      "CB-2025-159\n",
      "[INFO] El archivo '10863_SLCB_16-10-2025_PAZ REA ROSENDO_CB-2025-159.pdf' no existe. Se creará uno nuevo.\n",
      "✅[OK] Archivo '10863_SLCB_16-10-2025_PAZ REA ROSENDO_CB-2025-159.pdf' subido exitosamente.\n",
      "✔️ Se registro link para CITE: CB-2025-159\n",
      "✅ Archivo eliminado.\n",
      "CB-2025-172\n",
      "[INFO] El archivo '1182_SLCB_15-10-2025_BOHORQUEZ FERNANDEZ NICANOR_CB-2025-172.pdf' no existe. Se creará uno nuevo.\n",
      "✅[OK] Archivo '1182_SLCB_15-10-2025_BOHORQUEZ FERNANDEZ NICANOR_CB-2025-172.pdf' subido exitosamente.\n",
      "✔️ Se registro link para CITE: CB-2025-172\n",
      "✅ Archivo eliminado.\n",
      "CB-2025-160\n",
      "[INFO] El archivo '11860_SLCB_13-10-2025_ROCA SERRANO ARMANDO_CB-2025-160.pdf' no existe. Se creará uno nuevo.\n",
      "✅[OK] Archivo '11860_SLCB_13-10-2025_ROCA SERRANO ARMANDO_CB-2025-160.pdf' subido exitosamente.\n",
      "✔️ Se registro link para CITE: CB-2025-160\n",
      "✅ Archivo eliminado.\n",
      "CB-2025-174\n",
      "[INFO] El archivo '13638_SLCB_15-10-2025_TISCO VASQUEZ SERGIO_CB-2025-174.pdf' no existe. Se creará uno nuevo.\n",
      "✅[OK] Archivo '13638_SLCB_15-10-2025_TISCO VASQUEZ SERGIO_CB-2025-174.pdf' subido exitosamente.\n",
      "✔️ Se registro link para CITE: CB-2025-174\n",
      "✅ Archivo eliminado.\n",
      "CB-2025-176\n",
      "[INFO] El archivo '1478_SLCB_15-10-2025_CALLE RALDEZ MARCO ANTONIO_CB-2025-176.pdf' no existe. Se creará uno nuevo.\n",
      "✅[OK] Archivo '1478_SLCB_15-10-2025_CALLE RALDEZ MARCO ANTONIO_CB-2025-176.pdf' subido exitosamente.\n",
      "✔️ Se registro link para CITE: CB-2025-176\n",
      "✅ Archivo eliminado.\n",
      "CB-2025-168\n",
      "[INFO] El archivo '15085_SLCB_15-10-2025_CRUZ RUTH JAQUELIN B. DE_CB-2025-168.pdf' no existe. Se creará uno nuevo.\n",
      "✅[OK] Archivo '15085_SLCB_15-10-2025_CRUZ RUTH JAQUELIN B. DE_CB-2025-168.pdf' subido exitosamente.\n",
      "✔️ Se registro link para CITE: CB-2025-168\n",
      "✅ Archivo eliminado.\n",
      "CB-2025-170\n",
      "[INFO] El archivo '15085_SLCB_15-10-2025_CRUZ RUTH JAQUELIN B. DE_CB-2025-170.pdf' no existe. Se creará uno nuevo.\n",
      "✅[OK] Archivo '15085_SLCB_15-10-2025_CRUZ RUTH JAQUELIN B. DE_CB-2025-170.pdf' subido exitosamente.\n",
      "✔️ Se registro link para CITE: CB-2025-170\n",
      "✅ Archivo eliminado.\n",
      "CB-2025-175\n",
      "[INFO] El archivo '15195_SLCB_15-10-2025_VEIZAGA ENRIQUEZ GUSTAVO_CB-2025-175.pdf' no existe. Se creará uno nuevo.\n",
      "✅[OK] Archivo '15195_SLCB_15-10-2025_VEIZAGA ENRIQUEZ GUSTAVO_CB-2025-175.pdf' subido exitosamente.\n",
      "✔️ Se registro link para CITE: CB-2025-175\n",
      "✅ Archivo eliminado.\n",
      "CB-2025-177\n",
      "[INFO] El archivo '15195_SLCB_15-10-2025_VEIZAGA ENRIQUEZ GUSTAVO_CB-2025-177.pdf' no existe. Se creará uno nuevo.\n",
      "✅[OK] Archivo '15195_SLCB_15-10-2025_VEIZAGA ENRIQUEZ GUSTAVO_CB-2025-177.pdf' subido exitosamente.\n",
      "✔️ Se registro link para CITE: CB-2025-177\n",
      "✅ Archivo eliminado.\n",
      "CB-2025-179\n",
      "[INFO] El archivo '18189_SLCB_15-10-2025_BALCAZAR SOLETO RAMON BERTHY_CB-2025-179.pdf' no existe. Se creará uno nuevo.\n",
      "✅[OK] Archivo '18189_SLCB_15-10-2025_BALCAZAR SOLETO RAMON BERTHY_CB-2025-179.pdf' subido exitosamente.\n",
      "✔️ Se registro link para CITE: CB-2025-179\n",
      "✅ Archivo eliminado.\n",
      "CB-2025-180\n",
      "[INFO] El archivo '18189_SLCB_15-10-2025_BALCAZAR SOLETO RAMON BERTHY_CB-2025-180.pdf' no existe. Se creará uno nuevo.\n",
      "✅[OK] Archivo '18189_SLCB_15-10-2025_BALCAZAR SOLETO RAMON BERTHY_CB-2025-180.pdf' subido exitosamente.\n",
      "✔️ Se registro link para CITE: CB-2025-180\n",
      "✅ Archivo eliminado.\n",
      "CB-2025-173\n",
      "[INFO] El archivo '2353_SLCB_15-10-2025_CARO BENITES GERMAN_CB-2025-173.pdf' no existe. Se creará uno nuevo.\n",
      "✅[OK] Archivo '2353_SLCB_15-10-2025_CARO BENITES GERMAN_CB-2025-173.pdf' subido exitosamente.\n",
      "✔️ Se registro link para CITE: CB-2025-173\n",
      "✅ Archivo eliminado.\n",
      "CB-2025-169\n",
      "[INFO] El archivo '2505_SLCB_15-10-2025_CRUZ BARRIENTOS CRISTIAN F._CB-2025-169.pdf' no existe. Se creará uno nuevo.\n",
      "✅[OK] Archivo '2505_SLCB_15-10-2025_CRUZ BARRIENTOS CRISTIAN F._CB-2025-169.pdf' subido exitosamente.\n",
      "✔️ Se registro link para CITE: CB-2025-169\n",
      "✅ Archivo eliminado.\n",
      "CB-2025-167\n",
      "[INFO] El archivo '31088_SLCB_14-10-2025_COLQUE QUIROZ JENNY FELICIDAD_CB-2025-167.pdf' no existe. Se creará uno nuevo.\n",
      "✅[OK] Archivo '31088_SLCB_14-10-2025_COLQUE QUIROZ JENNY FELICIDAD_CB-2025-167.pdf' subido exitosamente.\n",
      "✔️ Se registro link para CITE: CB-2025-167\n",
      "✅ Archivo eliminado.\n",
      "CB-2025-161\n",
      "[INFO] El archivo '41533_SLCB_14-10-2025_ARNEZ COLQUE ROSARIO ESTELA_CB-2025-161.pdf' no existe. Se creará uno nuevo.\n",
      "✅[OK] Archivo '41533_SLCB_14-10-2025_ARNEZ COLQUE ROSARIO ESTELA_CB-2025-161.pdf' subido exitosamente.\n",
      "✔️ Se registro link para CITE: CB-2025-161\n",
      "✅ Archivo eliminado.\n",
      "CB-2025-183\n",
      "[INFO] El archivo '41599_SLCB_15-10-2025_LOPEZ TURIHUANO JUAN CARLOS_CB-2025-183.pdf' no existe. Se creará uno nuevo.\n",
      "✅[OK] Archivo '41599_SLCB_15-10-2025_LOPEZ TURIHUANO JUAN CARLOS_CB-2025-183.pdf' subido exitosamente.\n",
      "✔️ Se registro link para CITE: CB-2025-183\n",
      "✅ Archivo eliminado.\n",
      "CB-2025-171\n",
      "[INFO] El archivo '41819_SLCB_14-10-2025_AGROPECUARIA GUSTAVITO SRL_CB-2025-171.pdf' no existe. Se creará uno nuevo.\n",
      "✅[OK] Archivo '41819_SLCB_14-10-2025_AGROPECUARIA GUSTAVITO SRL_CB-2025-171.pdf' subido exitosamente.\n",
      "✔️ Se registro link para CITE: CB-2025-171\n",
      "✅ Archivo eliminado.\n",
      "CB-2025-158\n",
      "[INFO] El archivo '42231_SLCB_16-10-2025_PAZ FERNANDEZ RODRIGO_CB-2025-158.pdf' no existe. Se creará uno nuevo.\n",
      "✅[OK] Archivo '42231_SLCB_16-10-2025_PAZ FERNANDEZ RODRIGO_CB-2025-158.pdf' subido exitosamente.\n",
      "✔️ Se registro link para CITE: CB-2025-158\n",
      "✅ Archivo eliminado.\n",
      "CB-2025-156\n",
      "[INFO] El archivo '594_SLCB_14-10-2025_AGROPECUARIA FLAMBOYAN_CB-2025-156.pdf' no existe. Se creará uno nuevo.\n",
      "✅[OK] Archivo '594_SLCB_14-10-2025_AGROPECUARIA FLAMBOYAN_CB-2025-156.pdf' subido exitosamente.\n",
      "✔️ Se registro link para CITE: CB-2025-156\n",
      "✅ Archivo eliminado.\n",
      "CB-2025-178\n",
      "[INFO] El archivo '767_SLCB_15-10-2025_PROSER S.R.L_CB-2025-178.pdf' no existe. Se creará uno nuevo.\n",
      "✅[OK] Archivo '767_SLCB_15-10-2025_PROSER S.R.L_CB-2025-178.pdf' subido exitosamente.\n",
      "✔️ Se registro link para CITE: CB-2025-178\n",
      "✅ Archivo eliminado.\n",
      "CB-2025-182\n",
      "[INFO] El archivo '767_SLCB_15-10-2025_PROSER S.R.L_CB-2025-182.pdf' no existe. Se creará uno nuevo.\n",
      "✅[OK] Archivo '767_SLCB_15-10-2025_PROSER S.R.L_CB-2025-182.pdf' subido exitosamente.\n",
      "✔️ Se registro link para CITE: CB-2025-182\n",
      "✅ Archivo eliminado.\n",
      "CB-2025-166\n",
      "[INFO] El archivo '794_SLCB_13-10-2025_AGUILERA WENDE MARIANO_CB-2025-166.pdf' no existe. Se creará uno nuevo.\n",
      "✅[OK] Archivo '794_SLCB_13-10-2025_AGUILERA WENDE MARIANO_CB-2025-166.pdf' subido exitosamente.\n",
      "✔️ Se registro link para CITE: CB-2025-166\n",
      "✅ Archivo eliminado.\n",
      "CB-2025-162\n",
      "[INFO] El archivo '794_SLCB_14-10-2025_AGUILERA WENDE MARIANO_CB-2025-162.pdf' no existe. Se creará uno nuevo.\n",
      "✅[OK] Archivo '794_SLCB_14-10-2025_AGUILERA WENDE MARIANO_CB-2025-162.pdf' subido exitosamente.\n",
      "✔️ Se registro link para CITE: CB-2025-162\n",
      "✅ Archivo eliminado.\n",
      "CB-2025-163\n",
      "[INFO] El archivo '794_SLCB_14-10-2025_AGUILERA WENDE MARIANO_CB-2025-163.pdf' no existe. Se creará uno nuevo.\n",
      "✅[OK] Archivo '794_SLCB_14-10-2025_AGUILERA WENDE MARIANO_CB-2025-163.pdf' subido exitosamente.\n",
      "✔️ Se registro link para CITE: CB-2025-163\n",
      "✅ Archivo eliminado.\n",
      "CB-2025-164\n",
      "[INFO] El archivo '8814_SLCB_13-10-2025_MURIALDO MENDEZ WALTER DANIEL_CB-2025-164.pdf' no existe. Se creará uno nuevo.\n",
      "✅[OK] Archivo '8814_SLCB_13-10-2025_MURIALDO MENDEZ WALTER DANIEL_CB-2025-164.pdf' subido exitosamente.\n",
      "✔️ Se registro link para CITE: CB-2025-164\n",
      "✅ Archivo eliminado.\n",
      "CB-2025-165\n",
      "[INFO] El archivo '8838_SLCB_13-10-2025_MENDEZ PAZ MIRYAM_CB-2025-165.pdf' no existe. Se creará uno nuevo.\n",
      "✅[OK] Archivo '8838_SLCB_13-10-2025_MENDEZ PAZ MIRYAM_CB-2025-165.pdf' subido exitosamente.\n",
      "✔️ Se registro link para CITE: CB-2025-165\n",
      "✅ Archivo eliminado.\n",
      "CB-2025-181\n",
      "[INFO] El archivo '8842_SLCB_15-10-2025_MUÑOZ SUAREZ HUMBERTO_CB-2025-181.pdf' no existe. Se creará uno nuevo.\n",
      "✅[OK] Archivo '8842_SLCB_15-10-2025_MUÑOZ SUAREZ HUMBERTO_CB-2025-181.pdf' subido exitosamente.\n",
      "✔️ Se registro link para CITE: CB-2025-181\n",
      "✅ Archivo eliminado.\n"
     ]
    }
   ],
   "source": [
    "for file in contenido:\n",
    "    partes = file.split('_')\n",
    "    \n",
    "    cite = partes[-1].split('.')[0]\n",
    "    sigla = partes[1]\n",
    "    title_file = file\n",
    "    id_drive = '1sEfhWGATb7tkKgr6gcknH3ZA_ed_hGTq'\n",
    "    path_file = os.path.join(directorio_destino, file)\n",
    "    print(cite)\n",
    "    url_drive = cargar_pdf_to_drive(id_drive, title_file, path_file)\n",
    "    if url_drive == False:\n",
    "        continue\n",
    "    cargar_link_to_db(url_drive, cite)\n",
    "    if os.path.exists(path_file):\n",
    "        os.remove(path_file)\n",
    "        print(\"✅ Archivo eliminado.\")\n",
    "    else:\n",
    "        print(\"⚠️ El archivo no existe.\")"
   ]
  },
  {
   "cell_type": "code",
   "execution_count": null,
   "id": "ce06318b-f09b-4389-b5b4-5e8a5394bb2c",
   "metadata": {},
   "outputs": [],
   "source": []
  },
  {
   "cell_type": "code",
   "execution_count": null,
   "id": "bf43c9af-a971-4139-acbb-206adff27422",
   "metadata": {},
   "outputs": [],
   "source": []
  },
  {
   "cell_type": "code",
   "execution_count": null,
   "id": "d5c81f0c-6523-4723-95ba-516605266b5f",
   "metadata": {},
   "outputs": [],
   "source": []
  },
  {
   "cell_type": "code",
   "execution_count": null,
   "id": "e3ba5115-2b3a-4ba4-9bf4-49417e06dae0",
   "metadata": {},
   "outputs": [],
   "source": []
  },
  {
   "cell_type": "code",
   "execution_count": null,
   "id": "06524a4a-244c-44ec-bad6-4963047c5a77",
   "metadata": {},
   "outputs": [],
   "source": []
  },
  {
   "cell_type": "code",
   "execution_count": null,
   "id": "74582022-8ce8-441c-bb6a-310a814396ba",
   "metadata": {},
   "outputs": [],
   "source": []
  },
  {
   "cell_type": "code",
   "execution_count": 21,
   "id": "8a244821-7332-4c5f-aa0c-1e8dedef4263",
   "metadata": {},
   "outputs": [],
   "source": [
    "import psycopg2"
   ]
  },
  {
   "cell_type": "code",
   "execution_count": 22,
   "id": "af20d880-9560-47c5-8317-77c4c3000d50",
   "metadata": {},
   "outputs": [],
   "source": [
    "def obtener_conexion():\n",
    "    return psycopg2.connect(\n",
    "        host='localhost', \n",
    "        port=5433, \n",
    "        database='utea', \n",
    "        user='postgres', \n",
    "        password='A123456*')\n",
    "    \n",
    "def insertar_mensaje_whatsapp(cod_canero, nombre_canero, numero_contac, mensaje, enviado=False, fecha_enviado=None):\n",
    "    try:\n",
    "        conexion = obtener_conexion()\n",
    "        cursor = conexion.cursor()\n",
    "        cursor.execute(\"\"\"\n",
    "            INSERT INTO notificaciones_wsp.msj_whatsapp (\n",
    "                cod_canero, nombre_canero, numero_cel, mensaje, enviado, fecha_enviado, numero_contac\n",
    "            ) VALUES (%s, %s, %s, %s, %s, %s, %s)\n",
    "        \"\"\", (cod_canero, nombre_canero, 0, mensaje, enviado, fecha_enviado, numero_contac))\n",
    "        \n",
    "        conexion.commit()\n",
    "        cursor.close()\n",
    "        print(\"Mensaje insertado correctamente.\")\n",
    "    except Exception as e:\n",
    "        conexion.rollback()\n",
    "        print(\"Error inesperado\")\n",
    "    return None\n",
    "\n",
    "def marcar_resumen_lib_enviado(id_resumen):\n",
    "    try:\n",
    "        conexion = obtener_conexion()\n",
    "        cursor = conexion.cursor()\n",
    "        cursor.execute(\"\"\"\n",
    "            UPDATE drones_control_bio.resumen_control_bio\n",
    "            SET enviado = true\n",
    "            WHERE id = %s\n",
    "        \"\"\", (id_resumen,))\n",
    "        conexion.commit()\n",
    "        cursor.close()\n",
    "        print(f\"Mensaje con id={id_resumen} marcado como enviado.\")\n",
    "    except Exception as e:\n",
    "        conexion.rollback()\n",
    "        print(f\"Error inesperado: {e}\")\n",
    "    finally:\n",
    "        if conexion:\n",
    "            conexion.close()\n",
    "    return None"
   ]
  },
  {
   "cell_type": "code",
   "execution_count": 34,
   "id": "3136f95a-89b7-4f01-b444-c36a6eac8f8a",
   "metadata": {},
   "outputs": [],
   "source": [
    "PATH_XLSX_CONTAC=r'G:\\\\Ingenio Azucarero Guabira S.A\\\\UTEA - SEMANAL - EQUIPO AVIACION UTEA\\\\Pulverizacion\\\\Data\\\\CONTACTOS.xlsx'"
   ]
  },
  {
   "cell_type": "code",
   "execution_count": 43,
   "id": "0f30d8f8-d523-4ea5-9c84-0931823b295e",
   "metadata": {},
   "outputs": [],
   "source": [
    "sin_enviar = get_registros_sin_enviar()"
   ]
  },
  {
   "cell_type": "code",
   "execution_count": 44,
   "id": "0460aa16-7f7c-4491-8de4-e465ee4bef3f",
   "metadata": {},
   "outputs": [
    {
     "name": "stdout",
     "output_type": "stream",
     "text": [
      "[97, 129, 105, 106, 109, 111, 113, 179, 180, 181, 116, 183, 118]\n"
     ]
    }
   ],
   "source": [
    "cods_ca = list(set(sin_enviar['id']))\n",
    "print(cods_ca)"
   ]
  },
  {
   "cell_type": "code",
   "execution_count": 45,
   "id": "90c013c7-7609-4dea-b843-467ac15c6623",
   "metadata": {},
   "outputs": [
    {
     "data": {
      "text/plain": [
       "13"
      ]
     },
     "execution_count": 45,
     "metadata": {},
     "output_type": "execute_result"
    }
   ],
   "source": [
    "len(cods_ca)"
   ]
  },
  {
   "cell_type": "code",
   "execution_count": 46,
   "id": "24cc7827-5111-4a93-83b3-ddaabe44bf58",
   "metadata": {},
   "outputs": [],
   "source": [
    "df_contac = pd.read_excel(PATH_XLSX_CONTAC)\n",
    "df_contac.fillna(0, inplace=True)\n",
    "df_contac = df_contac[['cod_ca', 'nom_ca', 'telf01', 'telf02', 'telf03']]"
   ]
  },
  {
   "cell_type": "code",
   "execution_count": 47,
   "id": "e9d687c4-3425-42e3-a626-6695f3a29aef",
   "metadata": {},
   "outputs": [
    {
     "data": {
      "text/html": [
       "<div>\n",
       "<style scoped>\n",
       "    .dataframe tbody tr th:only-of-type {\n",
       "        vertical-align: middle;\n",
       "    }\n",
       "\n",
       "    .dataframe tbody tr th {\n",
       "        vertical-align: top;\n",
       "    }\n",
       "\n",
       "    .dataframe thead th {\n",
       "        text-align: right;\n",
       "    }\n",
       "</style>\n",
       "<table border=\"1\" class=\"dataframe\">\n",
       "  <thead>\n",
       "    <tr style=\"text-align: right;\">\n",
       "      <th></th>\n",
       "      <th>cod_ca</th>\n",
       "      <th>nom_ca</th>\n",
       "      <th>telf01</th>\n",
       "      <th>telf02</th>\n",
       "      <th>telf03</th>\n",
       "    </tr>\n",
       "  </thead>\n",
       "  <tbody>\n",
       "    <tr>\n",
       "      <th>0</th>\n",
       "      <td>0</td>\n",
       "      <td>CAÑERO TEST</td>\n",
       "      <td>78194371</td>\n",
       "      <td>0.0</td>\n",
       "      <td>0.0</td>\n",
       "    </tr>\n",
       "    <tr>\n",
       "      <th>1</th>\n",
       "      <td>86</td>\n",
       "      <td>AGUILERA TARADELLES JOSE LUIS</td>\n",
       "      <td>67759316</td>\n",
       "      <td>77010520.0</td>\n",
       "      <td>68848905.0</td>\n",
       "    </tr>\n",
       "    <tr>\n",
       "      <th>2</th>\n",
       "      <td>180</td>\n",
       "      <td>ELISEO AMURRIO</td>\n",
       "      <td>67559958</td>\n",
       "      <td>0.0</td>\n",
       "      <td>0.0</td>\n",
       "    </tr>\n",
       "  </tbody>\n",
       "</table>\n",
       "</div>"
      ],
      "text/plain": [
       "   cod_ca                         nom_ca    telf01      telf02      telf03\n",
       "0       0                    CAÑERO TEST  78194371         0.0         0.0\n",
       "1      86  AGUILERA TARADELLES JOSE LUIS  67759316  77010520.0  68848905.0\n",
       "2     180                 ELISEO AMURRIO  67559958         0.0         0.0"
      ]
     },
     "execution_count": 47,
     "metadata": {},
     "output_type": "execute_result"
    }
   ],
   "source": [
    "df_contac.head(3)"
   ]
  },
  {
   "cell_type": "code",
   "execution_count": 48,
   "id": "a7d1323c-c61a-458d-b86d-7a7e10ad2e16",
   "metadata": {},
   "outputs": [
    {
     "data": {
      "text/html": [
       "<div>\n",
       "<style scoped>\n",
       "    .dataframe tbody tr th:only-of-type {\n",
       "        vertical-align: middle;\n",
       "    }\n",
       "\n",
       "    .dataframe tbody tr th {\n",
       "        vertical-align: top;\n",
       "    }\n",
       "\n",
       "    .dataframe thead th {\n",
       "        text-align: right;\n",
       "    }\n",
       "</style>\n",
       "<table border=\"1\" class=\"dataframe\">\n",
       "  <thead>\n",
       "    <tr style=\"text-align: right;\">\n",
       "      <th></th>\n",
       "      <th>id</th>\n",
       "      <th>fecha</th>\n",
       "      <th>institucion</th>\n",
       "      <th>cod_canero</th>\n",
       "      <th>nombre_canero</th>\n",
       "      <th>hectareas</th>\n",
       "      <th>cite</th>\n",
       "      <th>cod_propiedad</th>\n",
       "      <th>propiedad</th>\n",
       "      <th>producto</th>\n",
       "      <th>link</th>\n",
       "      <th>agrocittca</th>\n",
       "      <th>enviado</th>\n",
       "    </tr>\n",
       "  </thead>\n",
       "  <tbody>\n",
       "    <tr>\n",
       "      <th>0</th>\n",
       "      <td>97</td>\n",
       "      <td>2025-09-24</td>\n",
       "      <td>8</td>\n",
       "      <td>1165</td>\n",
       "      <td>BEJARANO GANDARILLA ERWIN</td>\n",
       "      <td>11.03</td>\n",
       "      <td>CB-2025-90</td>\n",
       "      <td>40</td>\n",
       "      <td>SAN VICENTE--ERWIN BEJARANO</td>\n",
       "      <td>['TRICHOGRAMMA']</td>\n",
       "      <td>https://drive.google.com/file/d/1g8YpDinDp3gkD...</td>\n",
       "      <td>True</td>\n",
       "      <td>False</td>\n",
       "    </tr>\n",
       "    <tr>\n",
       "      <th>1</th>\n",
       "      <td>183</td>\n",
       "      <td>2025-10-15</td>\n",
       "      <td>304</td>\n",
       "      <td>1478</td>\n",
       "      <td>CALLE RALDEZ MARCO ANTONIO</td>\n",
       "      <td>3.53</td>\n",
       "      <td>CB-2025-176</td>\n",
       "      <td>1411</td>\n",
       "      <td>SAN JORGE--RENE CALLE</td>\n",
       "      <td>['TRICHOGRAMMA']</td>\n",
       "      <td>https://drive.google.com/file/d/1jh4DaMf1wyvzh...</td>\n",
       "      <td>True</td>\n",
       "      <td>False</td>\n",
       "    </tr>\n",
       "    <tr>\n",
       "      <th>2</th>\n",
       "      <td>181</td>\n",
       "      <td>2025-10-15</td>\n",
       "      <td>1</td>\n",
       "      <td>13638</td>\n",
       "      <td>TISCO VASQUEZ SERGIO</td>\n",
       "      <td>2.31</td>\n",
       "      <td>CB-2025-174</td>\n",
       "      <td>776</td>\n",
       "      <td>SINDICATO AGRARIO 2 DE FEBRERO(PARCELA-005)--T...</td>\n",
       "      <td>['TRICHOGRAMMA']</td>\n",
       "      <td>https://drive.google.com/file/d/12T1cZzglpUMm0...</td>\n",
       "      <td>True</td>\n",
       "      <td>False</td>\n",
       "    </tr>\n",
       "  </tbody>\n",
       "</table>\n",
       "</div>"
      ],
      "text/plain": [
       "    id       fecha  institucion  cod_canero               nombre_canero  \\\n",
       "0   97  2025-09-24            8        1165   BEJARANO GANDARILLA ERWIN   \n",
       "1  183  2025-10-15          304        1478  CALLE RALDEZ MARCO ANTONIO   \n",
       "2  181  2025-10-15            1       13638        TISCO VASQUEZ SERGIO   \n",
       "\n",
       "   hectareas         cite  cod_propiedad  \\\n",
       "0      11.03   CB-2025-90             40   \n",
       "1       3.53  CB-2025-176           1411   \n",
       "2       2.31  CB-2025-174            776   \n",
       "\n",
       "                                           propiedad          producto  \\\n",
       "0                        SAN VICENTE--ERWIN BEJARANO  ['TRICHOGRAMMA']   \n",
       "1                              SAN JORGE--RENE CALLE  ['TRICHOGRAMMA']   \n",
       "2  SINDICATO AGRARIO 2 DE FEBRERO(PARCELA-005)--T...  ['TRICHOGRAMMA']   \n",
       "\n",
       "                                                link  agrocittca  enviado  \n",
       "0  https://drive.google.com/file/d/1g8YpDinDp3gkD...        True    False  \n",
       "1  https://drive.google.com/file/d/1jh4DaMf1wyvzh...        True    False  \n",
       "2  https://drive.google.com/file/d/12T1cZzglpUMm0...        True    False  "
      ]
     },
     "execution_count": 48,
     "metadata": {},
     "output_type": "execute_result"
    }
   ],
   "source": [
    "sin_enviar.head(3)"
   ]
  },
  {
   "cell_type": "markdown",
   "id": "8b655dca-17e4-45bf-a316-dd38c82f3bed",
   "metadata": {},
   "source": [
    "### Mensaje dirigiendo a agrocittca"
   ]
  },
  {
   "cell_type": "code",
   "execution_count": 49,
   "id": "570f1768-6948-42ba-a6c0-d27f5bb641ac",
   "metadata": {},
   "outputs": [
    {
     "name": "stdout",
     "output_type": "stream",
     "text": [
      "Codigo: 1165 - BEJARANO GANDARILLA ERWIN no tiene registro telefonico\n",
      "Codigo: 1478 - CALLE RALDEZ MARCO ANTONIO no tiene registro telefonico\n",
      "Codigo: 13638 - TISCO VASQUEZ SERGIO no tiene registro telefonico\n",
      "Codigo: 1182 - BOHORQUEZ FERNANDEZ NICANOR no tiene registro telefonico\n",
      "Codigo: 2353 - CARO BENITES GERMAN no tiene registro telefonico\n",
      "Codigo: 16213 - ZAPATA SERON SIMON no tiene registro telefonico\n",
      "Codigo: 2351 - CANDIA RUIZ ADALBERTO no tiene registro telefonico\n",
      "Codigo: 18062 - MERCADO MERCADO RUBEN DARIO no tiene registro telefonico\n",
      "Codigo: 13187 - SUAREZ CUELLAR REMBERTO no tiene registro telefonico\n",
      "Codigo: 2565 - CANDIA RUIZ JOSE LUIS no tiene registro telefonico\n",
      "Codigo: 42229 - CANDIA ROJAS JOSE LUIS no tiene registro telefonico\n",
      "Codigo: 42378 - CANDIA RUIZ ORLANDO no tiene registro telefonico\n",
      "Codigo: 41562 - SUAREZ SALAS ERWIN RONALD no tiene registro telefonico\n"
     ]
    }
   ],
   "source": [
    "for index, row in sin_enviar.iterrows():    \n",
    "    contac_filtro = df_contac[df_contac['cod_ca']==row['cod_canero']]\n",
    "    if not contac_filtro.empty:  # Verifica si hay al menos una fila\n",
    "        contac = contac_filtro.iloc[0]\n",
    "        telefonos = [int(contac['telf01']), int(contac['telf02']), int(contac['telf03'])]\n",
    "        telefonos_validos = [telefono for telefono in telefonos if len(str(telefono)) == 8]\n",
    "        if (len(telefonos_validos) == 0):\n",
    "            print(f'❌ Codigo: {cod} no tinene numeros validos registrados')\n",
    "            continue\n",
    "        \n",
    "        for num in telefonos_validos:\n",
    "            msj = f'''🌱 *Saludos {row['nombre_canero']}*, le escribimos desde *UTEA - GUABIRÁ* para comunicarle que el informe del último servicio de *🦋 Control Biológico* realizado ya se encuentra disponible en *AgroCITTCA*.\n",
    "\n",
    "📲 *Adjuntamos sus credenciales* para acceder a la App y los enlaces de descarga 👇\n",
    "\n",
    "    👤 *Usuario:* {row['cod_canero']}\n",
    "    🔑 *Contraseña:* 123*{row['cod_canero']}\n",
    "\n",
    "⬇️ *Descargue la App:* \n",
    "\n",
    "📱 *Android:* https://play.google.com/store/apps/details?id=com.dima.guabira  \n",
    "\n",
    "🍎 *iPhone:* https://apps.apple.com/us/app/agro-cittca-guabir%C3%A1/id1669149924\n",
    "\n",
    "🚀 Una vez instalada la app, inicie sesión con su usuario y contraseña, y acceda a:  \n",
    "📂 *AGROCITTCA → Seguimiento a campo → Informes*\n",
    "\n",
    "Si tiene inconvenientes para acceder o visualizar los informes, no dude en consultarnos. ¡Gracias por su confianza! 🙌\n",
    "'''         \n",
    "            insertar_mensaje_whatsapp(\n",
    "                cod_canero=row['cod_canero'],\n",
    "                nombre_canero=row['nombre_canero'],\n",
    "                numero_contac=f'591{num}@s.whatsapp.net',\n",
    "                mensaje=msj\n",
    "            )\n",
    "            marcar_resumen_lib_enviado(row['id'])\n",
    "    else:\n",
    "        print(f\"Codigo: {row['cod_canero']} - {row['nombre_canero']} no tiene registro telefonico\")"
   ]
  },
  {
   "cell_type": "code",
   "execution_count": null,
   "id": "34f90a4d-9867-4b2a-8ff7-7c0cd49a3409",
   "metadata": {},
   "outputs": [],
   "source": []
  },
  {
   "cell_type": "code",
   "execution_count": null,
   "id": "74d5ab8a-3aca-45ab-b98f-ee1fa383cb7a",
   "metadata": {},
   "outputs": [],
   "source": []
  },
  {
   "cell_type": "code",
   "execution_count": null,
   "id": "78c4ddcb-6d60-49a7-a6de-ee3673268c98",
   "metadata": {},
   "outputs": [],
   "source": []
  },
  {
   "cell_type": "markdown",
   "id": "c33b4cff-3f68-40d3-a5da-d6f837f2b5de",
   "metadata": {},
   "source": [
    "### Mensaje dirigiendo a PDF"
   ]
  },
  {
   "cell_type": "code",
   "execution_count": 24,
   "id": "3f78b1fb-c3b9-4c80-b2c0-d78877eafcc9",
   "metadata": {},
   "outputs": [
    {
     "name": "stdout",
     "output_type": "stream",
     "text": [
      "Codigo: 1165 - BEJARANO GANDARILLA ERWIN no tiene registro telefonico\n",
      "Codigo: 16213 - ZAPATA SERON SIMON no tiene registro telefonico\n",
      "Codigo: 2351 - CANDIA RUIZ ADALBERTO no tiene registro telefonico\n",
      "Codigo: 18062 - MERCADO MERCADO RUBEN DARIO no tiene registro telefonico\n",
      "Codigo: 13187 - SUAREZ CUELLAR REMBERTO no tiene registro telefonico\n",
      "Codigo: 2565 - CANDIA RUIZ JOSE LUIS no tiene registro telefonico\n",
      "Codigo: 42229 - CANDIA ROJAS JOSE LUIS no tiene registro telefonico\n",
      "Codigo: 42378 - CANDIA RUIZ ORLANDO no tiene registro telefonico\n",
      "Codigo: 41562 - SUAREZ SALAS ERWIN RONALD no tiene registro telefonico\n"
     ]
    }
   ],
   "source": [
    "for index, row in sin_enviar.iterrows():    \n",
    "    contac_filtro = df_contac[df_contac['cod_ca']==row['cod_canero']]\n",
    "    if not contac_filtro.empty:  # Verifica si hay al menos una fila\n",
    "        contac = contac_filtro.iloc[0]\n",
    "        telefonos = [int(contac['telf01']), int(contac['telf02']), int(contac['telf03'])]\n",
    "        telefonos_validos = [telefono for telefono in telefonos if len(str(telefono)) == 8]\n",
    "        if (len(telefonos_validos) == 0):\n",
    "            print(f'Codigo: {cod} no tinene numeros validos registrados')\n",
    "            continue\n",
    "        \n",
    "        for num in telefonos_validos:\n",
    "            msj = f\"Saludos *{row['nombre_canero']}*, le escribimos desde *UTEA - GUABIRA* para hacer llegar una copia del informe de servicio de control biologico en caña de azucar. También informale este informe lo puede encotrar en la aplicación AgroCITTCA, y que a partir de los proximos servicos los informes se enviaran direntamente a AgroCITTCA. Adjunto informe: {row['link']}\"\n",
    "            insertar_mensaje_whatsapp(\n",
    "                cod_canero=row['cod_canero'],\n",
    "                nombre_canero=row['nombre_canero'],\n",
    "                numero_contac=f'591{num}@s.whatsapp.net',\n",
    "                mensaje=msj\n",
    "            )\n",
    "            marcar_resumen_lib_enviado(row['id'])\n",
    "    else:\n",
    "        print(f\"Codigo: {row['cod_canero']} - {row['nombre_canero']} no tiene registro telefonico\")"
   ]
  },
  {
   "cell_type": "code",
   "execution_count": null,
   "id": "3b862c0d-f8cc-4200-89f8-7d23c3c154ef",
   "metadata": {},
   "outputs": [],
   "source": []
  },
  {
   "cell_type": "code",
   "execution_count": null,
   "id": "fbc2f321-08ca-4a33-93a4-e78dfe70a9d3",
   "metadata": {},
   "outputs": [],
   "source": []
  },
  {
   "cell_type": "code",
   "execution_count": null,
   "id": "06076602-2461-42ae-9d8a-d55b382f8b5c",
   "metadata": {},
   "outputs": [],
   "source": []
  },
  {
   "cell_type": "code",
   "execution_count": null,
   "id": "8ad04cff-9dd9-49cf-b302-ff60768a6565",
   "metadata": {},
   "outputs": [],
   "source": []
  },
  {
   "cell_type": "code",
   "execution_count": null,
   "id": "f7dfbd3e-eaac-49a7-b921-cd9c77f588cd",
   "metadata": {},
   "outputs": [],
   "source": []
  }
 ],
 "metadata": {
  "kernelspec": {
   "display_name": "Python 3 (ipykernel)",
   "language": "python",
   "name": "python3"
  },
  "language_info": {
   "codemirror_mode": {
    "name": "ipython",
    "version": 3
   },
   "file_extension": ".py",
   "mimetype": "text/x-python",
   "name": "python",
   "nbconvert_exporter": "python",
   "pygments_lexer": "ipython3",
   "version": "3.10.13"
  }
 },
 "nbformat": 4,
 "nbformat_minor": 5
}
