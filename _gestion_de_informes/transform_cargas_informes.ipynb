{
 "cells": [
  {
   "cell_type": "code",
   "execution_count": 69,
   "id": "76ff372f-45c3-44f3-8e52-b20ae0763598",
   "metadata": {},
   "outputs": [],
   "source": [
    "from docx import Document\n",
    "from docx2pdf import convert\n",
    "import os\n",
    "\n",
    "# CONEXION A GOOGLE DRIVE\n",
    "from pydrive.auth import GoogleAuth\n",
    "from pydrive.drive import GoogleDrive"
   ]
  },
  {
   "cell_type": "code",
   "execution_count": 71,
   "id": "493529d7-0454-40b9-9038-7081368824f4",
   "metadata": {},
   "outputs": [
    {
     "data": {
      "text/plain": [
       "'G:\\\\OneDrive - Ingenio Azucarero Guabira S.A\\\\_DATOS_PYTHON'"
      ]
     },
     "execution_count": 71,
     "metadata": {},
     "output_type": "execute_result"
    }
   ],
   "source": [
    "def get_unidad_local():\n",
    "    try:\n",
    "        # ruta del archivo que contiene la información necesaria\n",
    "        with open('../../unidad_local.txt', 'r') as file:\n",
    "            unidad = file.readline().strip()\n",
    "            return unidad\n",
    "    except FileNotFoundError:\n",
    "        print(\"El archivo 'unidad_local.txt' no se encuentra en la ruta especificada.\")\n",
    "    return None\n",
    "\n",
    "def get_ruta_local():\n",
    "    try:\n",
    "        with open('../ruta_local.txt', 'r') as file:\n",
    "            ruta = file.readline().strip()\n",
    "            return ruta\n",
    "    except FileNotFoundError:\n",
    "        print(\"El archivo 'ruta_local.txt' no se encuentra en la ruta especificada.\")\n",
    "    return None\n",
    "\n",
    "# RUTA ONEDRIVE\n",
    "unidad = get_unidad_local()\n",
    "ruta = get_ruta_local()\n",
    "ruta_completa = os.path.join(unidad, ruta)\n",
    "ruta_completa"
   ]
  },
  {
   "cell_type": "code",
   "execution_count": 55,
   "id": "042bd48f-7bbe-41ca-8fb2-9aa3fbd7d085",
   "metadata": {},
   "outputs": [],
   "source": [
    "def get_ruta_informes():\n",
    "    try:\n",
    "        with open('../../ruta_informes.txt', 'r') as file:\n",
    "            ruta_inf = file.readline().strip()\n",
    "            return ruta_inf\n",
    "    except FileNotFoundError:\n",
    "        print(\"El archivo 'ruta_local.txt' no se encuentra en la ruta especificada.\")\n",
    "    return None\n",
    "\n",
    "# RUTA ONEDRIVE\n",
    "ruta_informes = get_ruta_informes()"
   ]
  },
  {
   "cell_type": "code",
   "execution_count": 59,
   "id": "08e88ee4-8920-41ba-b68a-a17baf9d941f",
   "metadata": {},
   "outputs": [],
   "source": [
    "directorio_origen = ruta_informes + r'\\_informes'\n",
    "directorio_destino = ruta_informes + r'\\_pdf'"
   ]
  },
  {
   "cell_type": "code",
   "execution_count": 60,
   "id": "afb675c9-11f6-4a4f-8bd7-90b268cb00a2",
   "metadata": {},
   "outputs": [
    {
     "data": {
      "text/plain": [
       "[]"
      ]
     },
     "execution_count": 60,
     "metadata": {},
     "output_type": "execute_result"
    }
   ],
   "source": [
    "archivos_word = [\n",
    "    archivo for archivo in os.listdir(ruta_completa + r'\\informes')\n",
    "    if archivo.lower().endswith((\".doc\", \".docx\")) and not archivo.startswith(\"_\")\n",
    "]\n",
    "archivos_word"
   ]
  },
  {
   "cell_type": "code",
   "execution_count": 61,
   "id": "852c8c93-1556-41b8-a654-04798746224d",
   "metadata": {},
   "outputs": [
    {
     "ename": "FileNotFoundError",
     "evalue": "[WinError 3] El sistema no puede encontrar la ruta especificada: 'C:\\\\Users\\\\Usuario\\\\Desktop\\\\PYTHON\\\\_informes'",
     "output_type": "error",
     "traceback": [
      "\u001b[1;31m---------------------------------------------------------------------------\u001b[0m",
      "\u001b[1;31mFileNotFoundError\u001b[0m                         Traceback (most recent call last)",
      "Cell \u001b[1;32mIn[61], line 2\u001b[0m\n\u001b[0;32m      1\u001b[0m \u001b[38;5;66;03m# Recorre y convierte archivos .docx que no empiezan con \"_\"\u001b[39;00m\n\u001b[1;32m----> 2\u001b[0m \u001b[38;5;28;01mfor\u001b[39;00m archivo \u001b[38;5;129;01min\u001b[39;00m \u001b[43mos\u001b[49m\u001b[38;5;241;43m.\u001b[39;49m\u001b[43mlistdir\u001b[49m\u001b[43m(\u001b[49m\u001b[43mdirectorio_origen\u001b[49m\u001b[43m)\u001b[49m:\n\u001b[0;32m      3\u001b[0m     \u001b[38;5;28;01mif\u001b[39;00m archivo\u001b[38;5;241m.\u001b[39mlower()\u001b[38;5;241m.\u001b[39mendswith(\u001b[38;5;124m\"\u001b[39m\u001b[38;5;124m.docx\u001b[39m\u001b[38;5;124m\"\u001b[39m) \u001b[38;5;129;01mand\u001b[39;00m \u001b[38;5;129;01mnot\u001b[39;00m archivo\u001b[38;5;241m.\u001b[39mstartswith(\u001b[38;5;124m\"\u001b[39m\u001b[38;5;124m_\u001b[39m\u001b[38;5;124m\"\u001b[39m):\n\u001b[0;32m      4\u001b[0m         ruta_docx \u001b[38;5;241m=\u001b[39m os\u001b[38;5;241m.\u001b[39mpath\u001b[38;5;241m.\u001b[39mjoin(directorio_origen, archivo)\n",
      "\u001b[1;31mFileNotFoundError\u001b[0m: [WinError 3] El sistema no puede encontrar la ruta especificada: 'C:\\\\Users\\\\Usuario\\\\Desktop\\\\PYTHON\\\\_informes'"
     ]
    }
   ],
   "source": [
    "# Recorre y convierte archivos .docx que no empiezan con \"_\"\n",
    "for archivo in os.listdir(directorio_origen):\n",
    "    if archivo.lower().endswith(\".docx\") and not archivo.startswith(\"_\"):\n",
    "        ruta_docx = os.path.join(directorio_origen, archivo)\n",
    "        ruta_pdf = os.path.join(directorio_destino, archivo.replace(\".docx\", \".pdf\"))\n",
    "        try:\n",
    "            convert(ruta_docx, ruta_pdf)\n",
    "            if os.path.exists(ruta_pdf):\n",
    "                print(f\"✅ Convertido: {archivo}\")\n",
    "                os.remove(ruta_docx)\n",
    "                print(f\"🗑️ Eliminado original: {archivo}\")\n",
    "            else:\n",
    "                print(f\"❌ Error: PDF no generado para {archivo}\")\n",
    "        except Exception as e:\n",
    "            print(f\"⚠️ Error al convertir {archivo}: {e}\")"
   ]
  },
  {
   "cell_type": "code",
   "execution_count": null,
   "id": "64c33bf7-c8bb-4085-ae9f-e37185a4eeab",
   "metadata": {},
   "outputs": [],
   "source": []
  },
  {
   "cell_type": "code",
   "execution_count": 64,
   "id": "4f16a9cc-38e2-4050-b6e0-a28c46d7560c",
   "metadata": {},
   "outputs": [],
   "source": [
    "data_gral = {\n",
    "    'CDSE': {\n",
    "        'tipo' : 'Calidad de semilla',\n",
    "        'id_propject' : 35567,\n",
    "        'dataset' : 'dataset_365887',\n",
    "        'drive' : '_CALIDAD DE SEMILLA', \n",
    "        'campo' : 'link_informe'\n",
    "    }\n",
    "}"
   ]
  },
  {
   "cell_type": "code",
   "execution_count": 67,
   "id": "7fce5c01-b66a-4868-899a-c7fe8a640f98",
   "metadata": {},
   "outputs": [
    {
     "data": {
      "text/plain": [
       "{'tipo': 'Calidad de semilla',\n",
       " 'id_propject': 35567,\n",
       " 'dataset': 'dataset_365887',\n",
       " 'drive': '_CALIDAD DE SEMILLA',\n",
       " 'campo': 'link_informe'}"
      ]
     },
     "execution_count": 67,
     "metadata": {},
     "output_type": "execute_result"
    }
   ],
   "source": [
    "data_gral['CDSE']"
   ]
  },
  {
   "cell_type": "code",
   "execution_count": 72,
   "id": "7a4028d8-a270-4f4b-8e9c-b589bb0a03b0",
   "metadata": {},
   "outputs": [
    {
     "name": "stdout",
     "output_type": "stream",
     "text": [
      "Your browser has been opened to visit:\n",
      "\n",
      "    https://accounts.google.com/o/oauth2/auth?client_id=1096764895697-57btfmtn7rdejufct5qq4j9mi61j0unl.apps.googleusercontent.com&redirect_uri=http%3A%2F%2Flocalhost%3A8080%2F&scope=https%3A%2F%2Fwww.googleapis.com%2Fauth%2Fdrive&access_type=offline&response_type=code\n",
      "\n",
      "Failed to find \"code\" in the query parameters of the redirect.\n",
      "Try command-line authentication\n"
     ]
    },
    {
     "ename": "AuthenticationError",
     "evalue": "No code found in redirect",
     "output_type": "error",
     "traceback": [
      "\u001b[1;31m---------------------------------------------------------------------------\u001b[0m",
      "\u001b[1;31mAuthenticationError\u001b[0m                       Traceback (most recent call last)",
      "Cell \u001b[1;32mIn[72], line 3\u001b[0m\n\u001b[0;32m      1\u001b[0m gauth \u001b[38;5;241m=\u001b[39m GoogleAuth()\n\u001b[0;32m      2\u001b[0m gauth\u001b[38;5;241m.\u001b[39mLoadClientConfigFile(ruta_completa \u001b[38;5;241m+\u001b[39m \u001b[38;5;124mr\u001b[39m\u001b[38;5;124m'\u001b[39m\u001b[38;5;124m\\\u001b[39m\u001b[38;5;124m_keys\u001b[39m\u001b[38;5;124m\\\u001b[39m\u001b[38;5;124mclient_secrets.json\u001b[39m\u001b[38;5;124m'\u001b[39m)\n\u001b[1;32m----> 3\u001b[0m \u001b[43mgauth\u001b[49m\u001b[38;5;241;43m.\u001b[39;49m\u001b[43mLocalWebserverAuth\u001b[49m\u001b[43m(\u001b[49m\u001b[43m)\u001b[49m \u001b[38;5;66;03m# client_secrets.json need to be in the same directory as the script\u001b[39;00m\n\u001b[0;32m      4\u001b[0m drive \u001b[38;5;241m=\u001b[39m GoogleDrive(gauth)\n",
      "File \u001b[1;32m~\\anaconda3\\envs\\utea\\lib\\site-packages\\pydrive\\auth.py:115\u001b[0m, in \u001b[0;36mCheckAuth.<locals>._decorated\u001b[1;34m(self, *args, **kwargs)\u001b[0m\n\u001b[0;32m    113\u001b[0m   \u001b[38;5;28mself\u001b[39m\u001b[38;5;241m.\u001b[39mGetFlow()\n\u001b[0;32m    114\u001b[0m \u001b[38;5;28;01mif\u001b[39;00m \u001b[38;5;28mself\u001b[39m\u001b[38;5;241m.\u001b[39mcredentials \u001b[38;5;129;01mis\u001b[39;00m \u001b[38;5;28;01mNone\u001b[39;00m:\n\u001b[1;32m--> 115\u001b[0m   code \u001b[38;5;241m=\u001b[39m decoratee(\u001b[38;5;28mself\u001b[39m, \u001b[38;5;241m*\u001b[39margs, \u001b[38;5;241m*\u001b[39m\u001b[38;5;241m*\u001b[39mkwargs)\n\u001b[0;32m    116\u001b[0m   dirty \u001b[38;5;241m=\u001b[39m \u001b[38;5;28;01mTrue\u001b[39;00m\n\u001b[0;32m    117\u001b[0m \u001b[38;5;28;01melse\u001b[39;00m:\n",
      "File \u001b[1;32m~\\anaconda3\\envs\\utea\\lib\\site-packages\\pydrive\\auth.py:241\u001b[0m, in \u001b[0;36mGoogleAuth.LocalWebserverAuth\u001b[1;34m(self, host_name, port_numbers)\u001b[0m\n\u001b[0;32m    239\u001b[0m \u001b[38;5;28mprint\u001b[39m(\u001b[38;5;124m'\u001b[39m\u001b[38;5;124mFailed to find \u001b[39m\u001b[38;5;124m\"\u001b[39m\u001b[38;5;124mcode\u001b[39m\u001b[38;5;124m\"\u001b[39m\u001b[38;5;124m in the query parameters of the redirect.\u001b[39m\u001b[38;5;124m'\u001b[39m)\n\u001b[0;32m    240\u001b[0m \u001b[38;5;28mprint\u001b[39m(\u001b[38;5;124m'\u001b[39m\u001b[38;5;124mTry command-line authentication\u001b[39m\u001b[38;5;124m'\u001b[39m)\n\u001b[1;32m--> 241\u001b[0m \u001b[38;5;28;01mraise\u001b[39;00m AuthenticationError(\u001b[38;5;124m'\u001b[39m\u001b[38;5;124mNo code found in redirect\u001b[39m\u001b[38;5;124m'\u001b[39m)\n",
      "\u001b[1;31mAuthenticationError\u001b[0m: No code found in redirect"
     ]
    }
   ],
   "source": [
    "gauth = GoogleAuth()\n",
    "gauth.LoadClientConfigFile(ruta_completa + r'\\_keys\\client_secrets.json')\n",
    "gauth.LocalWebserverAuth() # client_secrets.json need to be in the same directory as the script\n",
    "drive = GoogleDrive(gauth)"
   ]
  },
  {
   "cell_type": "code",
   "execution_count": null,
   "id": "4674f9e2-6297-408c-ae47-c4d82c53d8bd",
   "metadata": {},
   "outputs": [],
   "source": []
  },
  {
   "cell_type": "code",
   "execution_count": null,
   "id": "8a27a285-4508-4e98-a5c1-b0c17a0a815f",
   "metadata": {},
   "outputs": [],
   "source": []
  },
  {
   "cell_type": "code",
   "execution_count": null,
   "id": "d6784d7f-afd0-4b34-a42f-0a9e3bc78e17",
   "metadata": {},
   "outputs": [],
   "source": []
  },
  {
   "cell_type": "code",
   "execution_count": null,
   "id": "50f163b6-3fdd-4925-8f38-0f0d42a3fb16",
   "metadata": {},
   "outputs": [],
   "source": []
  },
  {
   "cell_type": "code",
   "execution_count": null,
   "id": "a58767e1-4d44-4591-b464-75aec14e96ce",
   "metadata": {},
   "outputs": [],
   "source": []
  },
  {
   "cell_type": "code",
   "execution_count": null,
   "id": "7df18df1-d9a1-4f4b-ad0a-c50424ed0f00",
   "metadata": {},
   "outputs": [],
   "source": []
  },
  {
   "cell_type": "code",
   "execution_count": null,
   "id": "934f31a7-d7ee-4065-9420-8b9a1b4e5ddb",
   "metadata": {},
   "outputs": [],
   "source": []
  },
  {
   "cell_type": "code",
   "execution_count": null,
   "id": "148f6aeb-19b2-403f-ab22-c47f86cd1f74",
   "metadata": {},
   "outputs": [],
   "source": []
  },
  {
   "cell_type": "code",
   "execution_count": null,
   "id": "af2e3b61-a9c6-457c-bd30-526b63da0100",
   "metadata": {},
   "outputs": [],
   "source": []
  }
 ],
 "metadata": {
  "kernelspec": {
   "display_name": "Python 3 (ipykernel)",
   "language": "python",
   "name": "python3"
  },
  "language_info": {
   "codemirror_mode": {
    "name": "ipython",
    "version": 3
   },
   "file_extension": ".py",
   "mimetype": "text/x-python",
   "name": "python",
   "nbconvert_exporter": "python",
   "pygments_lexer": "ipython3",
   "version": "3.10.13"
  }
 },
 "nbformat": 4,
 "nbformat_minor": 5
}
