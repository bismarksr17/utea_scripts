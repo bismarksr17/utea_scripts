{
 "cells": [
  {
   "cell_type": "code",
   "execution_count": 34,
   "id": "a8fcfb71-d889-45d2-a46f-b575a6908bfb",
   "metadata": {},
   "outputs": [],
   "source": [
    "import sys\n",
    "sys.path.append('../_amigocloud')\n",
    "\n",
    "from sqlalchemy import create_engine, text\n",
    "from amigocloud import AmigoCloud\n",
    "from docx import Document\n",
    "from docx2pdf import convert\n",
    "import os\n",
    "import json\n",
    "\n",
    "# CONEXIÓN A GOOGLE DRIVE\n",
    "from pydrive.auth import GoogleAuth\n",
    "from pydrive.drive import GoogleDrive\n",
    "import os\n",
    "\n",
    "gauth = GoogleAuth()\n",
    "\n",
    "# Si existe el archivo, intenta cargarlo\n",
    "if os.path.exists(\"mycreds.txt\"):\n",
    "    gauth.LoadCredentialsFile(\"mycreds.txt\")\n",
    "\n",
    "# Si no hay credenciales o son inválidas, forzar nueva autenticación\n",
    "if gauth.credentials is None or gauth.access_token_expired:\n",
    "    try:\n",
    "        gauth.LocalWebserverAuth()\n",
    "    except:\n",
    "        print(\"Error de autenticación. Eliminá 'mycreds.txt' y volvé a intentarlo.\")\n",
    "else:\n",
    "    gauth.Authorize()\n",
    "\n",
    "gauth.SaveCredentialsFile(\"mycreds.txt\")\n",
    "drive = GoogleDrive(gauth)"
   ]
  },
  {
   "cell_type": "code",
   "execution_count": 5,
   "id": "10f0c050-45c8-496c-b5a7-364478c3f41e",
   "metadata": {},
   "outputs": [],
   "source": [
    "sys.path.append('..')\n",
    "\n",
    "from config import RUTA_UNIDAD_ONE_DRIVE\n",
    "from config import RUTA_LOCAL_ONE_DRIVE\n",
    "from config import POSTGRES_UTEA\n",
    "RUTA_COMPLETA = os.path.join(RUTA_UNIDAD_ONE_DRIVE, RUTA_LOCAL_ONE_DRIVE)"
   ]
  },
  {
   "cell_type": "code",
   "execution_count": 10,
   "id": "634dee54-20e5-44b3-ac7b-dfc1cc5f8f30",
   "metadata": {},
   "outputs": [],
   "source": [
    "def get_ruta_informes():\n",
    "    try:\n",
    "        with open('../../ruta_informes.txt', 'r') as file:\n",
    "            ruta_inf = file.readline().strip()\n",
    "            return ruta_inf\n",
    "    except FileNotFoundError:\n",
    "        print(\"El archivo 'ruta_local.txt' no se encuentra en la ruta especificada.\")\n",
    "    return None"
   ]
  },
  {
   "cell_type": "code",
   "execution_count": 12,
   "id": "34c60b3b-3d70-40c1-a3fc-a179afbaaacd",
   "metadata": {},
   "outputs": [],
   "source": [
    "ruta_informes = get_ruta_informes()\n",
    "directorio_origen = ruta_informes + r'\\_informes'\n",
    "directorio_destino = ruta_informes + r'\\_pdf'"
   ]
  },
  {
   "cell_type": "code",
   "execution_count": 52,
   "id": "f7358aef-7ee1-451d-bc05-47176be965d8",
   "metadata": {},
   "outputs": [],
   "source": [
    "# Recorre y convierte a pdf archivos .docx que no empiezan con \"_\"\n",
    "def convertir_docx_to_pdf():\n",
    "    for archivo in os.listdir(directorio_origen):\n",
    "        if archivo.lower().endswith(\".docx\") and not archivo.startswith(\"_\"):\n",
    "            ruta_docx = os.path.join(directorio_origen, archivo)\n",
    "            ruta_pdf = os.path.join(directorio_destino, archivo.replace(\".docx\", \".pdf\"))\n",
    "            \n",
    "            try:\n",
    "                convert(ruta_docx, ruta_pdf)\n",
    "                print(ruta_docx)\n",
    "                if os.path.exists(ruta_pdf):\n",
    "                    print(f\"✅ Convertido: {archivo}\")\n",
    "                    os.remove(ruta_docx)\n",
    "                    print(f\"🗑️ Eliminado original: {archivo}\")\n",
    "                else:\n",
    "                    print(f\"❌ Error: PDF no generado para {archivo}\")\n",
    "            except Exception as e:\n",
    "                print(f\"⚠️ Error al convertir {archivo}: {e}\")\n",
    "\n",
    "def obtener_engine():\n",
    "    return create_engine(\n",
    "        f\"postgresql+psycopg2://{POSTGRES_UTEA['USER']}:{POSTGRES_UTEA['PASSWORD']}@{POSTGRES_UTEA['HOST']}:{POSTGRES_UTEA['PORT']}/{POSTGRES_UTEA['DATABASE']}\"\n",
    "    )\n",
    "\n",
    "def cargar_link_to_db(url, cite):\n",
    "    engine = obtener_engine()\n",
    "    try:\n",
    "        with engine.begin() as conn:\n",
    "            query = text(\"\"\"\n",
    "                UPDATE drones_pulverizacion.resumen_pulv SET link = :url WHERE cite = :cite\n",
    "            \"\"\")\n",
    "            conn.execute(query, {\"url\": url, \"cite\": cite})\n",
    "            print(f\"✔️ Se registro link para CITE: {cite}\" )\n",
    "    except Exception as e:\n",
    "        print(f\"❌ Error al actualizar CITE: {cite}, {e}\")"
   ]
  },
  {
   "cell_type": "code",
   "execution_count": 16,
   "id": "5c89fabe-dbdc-418a-ba18-0c2c36a24f0c",
   "metadata": {},
   "outputs": [
    {
     "data": {
      "application/vnd.jupyter.widget-view+json": {
       "model_id": "bda32d85b2c440f4b2da356c7a294a1c",
       "version_major": 2,
       "version_minor": 0
      },
      "text/plain": [
       "  0%|          | 0/1 [00:00<?, ?it/s]"
      ]
     },
     "metadata": {},
     "output_type": "display_data"
    },
    {
     "name": "stdout",
     "output_type": "stream",
     "text": [
      "C:\\Users\\Usuario\\Desktop\\PYTHON\\_informes\\1180_SADA_06-05-2025_BALCAZAR BALCAZAR JESUS E._PA-2025-49.docx\n",
      "✅ Convertido: 1180_SADA_06-05-2025_BALCAZAR BALCAZAR JESUS E._PA-2025-49.docx\n",
      "🗑️ Eliminado original: 1180_SADA_06-05-2025_BALCAZAR BALCAZAR JESUS E._PA-2025-49.docx\n"
     ]
    },
    {
     "data": {
      "application/vnd.jupyter.widget-view+json": {
       "model_id": "fac6ed1656f949fcb544298f91defd2a",
       "version_major": 2,
       "version_minor": 0
      },
      "text/plain": [
       "  0%|          | 0/1 [00:00<?, ?it/s]"
      ]
     },
     "metadata": {},
     "output_type": "display_data"
    },
    {
     "name": "stdout",
     "output_type": "stream",
     "text": [
      "C:\\Users\\Usuario\\Desktop\\PYTHON\\_informes\\12308_SADA_08-05-2025_ROCA CHAVEZ MAURICIO DANIEL_PA-2025-47.docx\n",
      "✅ Convertido: 12308_SADA_08-05-2025_ROCA CHAVEZ MAURICIO DANIEL_PA-2025-47.docx\n",
      "🗑️ Eliminado original: 12308_SADA_08-05-2025_ROCA CHAVEZ MAURICIO DANIEL_PA-2025-47.docx\n"
     ]
    },
    {
     "data": {
      "application/vnd.jupyter.widget-view+json": {
       "model_id": "29da72220b5e41088d72fe33e340efb4",
       "version_major": 2,
       "version_minor": 0
      },
      "text/plain": [
       "  0%|          | 0/1 [00:00<?, ?it/s]"
      ]
     },
     "metadata": {},
     "output_type": "display_data"
    },
    {
     "name": "stdout",
     "output_type": "stream",
     "text": [
      "C:\\Users\\Usuario\\Desktop\\PYTHON\\_informes\\15284_SADA_12-05-2025_ROJAS CORDOVA ROGELIO FELIPE_PA-2025-43.docx\n",
      "✅ Convertido: 15284_SADA_12-05-2025_ROJAS CORDOVA ROGELIO FELIPE_PA-2025-43.docx\n",
      "🗑️ Eliminado original: 15284_SADA_12-05-2025_ROJAS CORDOVA ROGELIO FELIPE_PA-2025-43.docx\n"
     ]
    },
    {
     "data": {
      "application/vnd.jupyter.widget-view+json": {
       "model_id": "79eeaa0778fc46bcbc46c5bf7140bb92",
       "version_major": 2,
       "version_minor": 0
      },
      "text/plain": [
       "  0%|          | 0/1 [00:00<?, ?it/s]"
      ]
     },
     "metadata": {},
     "output_type": "display_data"
    },
    {
     "name": "stdout",
     "output_type": "stream",
     "text": [
      "C:\\Users\\Usuario\\Desktop\\PYTHON\\_informes\\18027_SADA_01-05-2025_AGUILERA TARRADELLES GUILLERMO_PA-2025-41.docx\n",
      "✅ Convertido: 18027_SADA_01-05-2025_AGUILERA TARRADELLES GUILLERMO_PA-2025-41.docx\n",
      "🗑️ Eliminado original: 18027_SADA_01-05-2025_AGUILERA TARRADELLES GUILLERMO_PA-2025-41.docx\n"
     ]
    },
    {
     "data": {
      "application/vnd.jupyter.widget-view+json": {
       "model_id": "d60bbaa34aad4ba8843cc8e72ddc9444",
       "version_major": 2,
       "version_minor": 0
      },
      "text/plain": [
       "  0%|          | 0/1 [00:00<?, ?it/s]"
      ]
     },
     "metadata": {},
     "output_type": "display_data"
    },
    {
     "name": "stdout",
     "output_type": "stream",
     "text": [
      "C:\\Users\\Usuario\\Desktop\\PYTHON\\_informes\\2549_SADA_06-05-2025_CAMARGO REQUENA MARCO ANTONIO_PA-2025-45.docx\n",
      "✅ Convertido: 2549_SADA_06-05-2025_CAMARGO REQUENA MARCO ANTONIO_PA-2025-45.docx\n",
      "🗑️ Eliminado original: 2549_SADA_06-05-2025_CAMARGO REQUENA MARCO ANTONIO_PA-2025-45.docx\n"
     ]
    },
    {
     "data": {
      "application/vnd.jupyter.widget-view+json": {
       "model_id": "e0088f4beb1240cfafe87826370b20a5",
       "version_major": 2,
       "version_minor": 0
      },
      "text/plain": [
       "  0%|          | 0/1 [00:00<?, ?it/s]"
      ]
     },
     "metadata": {},
     "output_type": "display_data"
    },
    {
     "name": "stdout",
     "output_type": "stream",
     "text": [
      "C:\\Users\\Usuario\\Desktop\\PYTHON\\_informes\\2641_SADA_01-05-2025_CRONENBOLD AGUILERA ROBERTO_PA-2025-42.docx\n",
      "✅ Convertido: 2641_SADA_01-05-2025_CRONENBOLD AGUILERA ROBERTO_PA-2025-42.docx\n",
      "🗑️ Eliminado original: 2641_SADA_01-05-2025_CRONENBOLD AGUILERA ROBERTO_PA-2025-42.docx\n"
     ]
    },
    {
     "data": {
      "application/vnd.jupyter.widget-view+json": {
       "model_id": "64b30788a0d448de9ee514124cfe5aa8",
       "version_major": 2,
       "version_minor": 0
      },
      "text/plain": [
       "  0%|          | 0/1 [00:00<?, ?it/s]"
      ]
     },
     "metadata": {},
     "output_type": "display_data"
    },
    {
     "name": "stdout",
     "output_type": "stream",
     "text": [
      "C:\\Users\\Usuario\\Desktop\\PYTHON\\_informes\\30035_SADA_12-05-2025_GUTIERREZ AGUILERA WIDEN GUILLER_PA-2025-50.docx\n",
      "✅ Convertido: 30035_SADA_12-05-2025_GUTIERREZ AGUILERA WIDEN GUILLER_PA-2025-50.docx\n",
      "🗑️ Eliminado original: 30035_SADA_12-05-2025_GUTIERREZ AGUILERA WIDEN GUILLER_PA-2025-50.docx\n"
     ]
    },
    {
     "data": {
      "application/vnd.jupyter.widget-view+json": {
       "model_id": "806ee8d3a3a842d786bca2551c955c7b",
       "version_major": 2,
       "version_minor": 0
      },
      "text/plain": [
       "  0%|          | 0/1 [00:00<?, ?it/s]"
      ]
     },
     "metadata": {},
     "output_type": "display_data"
    },
    {
     "name": "stdout",
     "output_type": "stream",
     "text": [
      "C:\\Users\\Usuario\\Desktop\\PYTHON\\_informes\\41550_SADA_17-05-2025_ZALZER ANTELO LUIS JHONNY_PA-2025-52.docx\n",
      "✅ Convertido: 41550_SADA_17-05-2025_ZALZER ANTELO LUIS JHONNY_PA-2025-52.docx\n",
      "🗑️ Eliminado original: 41550_SADA_17-05-2025_ZALZER ANTELO LUIS JHONNY_PA-2025-52.docx\n"
     ]
    },
    {
     "data": {
      "application/vnd.jupyter.widget-view+json": {
       "model_id": "10865c70c6c54ceab1b43d8dab5f14cc",
       "version_major": 2,
       "version_minor": 0
      },
      "text/plain": [
       "  0%|          | 0/1 [00:00<?, ?it/s]"
      ]
     },
     "metadata": {},
     "output_type": "display_data"
    },
    {
     "name": "stdout",
     "output_type": "stream",
     "text": [
      "C:\\Users\\Usuario\\Desktop\\PYTHON\\_informes\\41594_SADA_07-05-2025_AGROPECUARIA CAMPO DULCE S.R.L._PA-2025-48.docx\n",
      "✅ Convertido: 41594_SADA_07-05-2025_AGROPECUARIA CAMPO DULCE S.R.L._PA-2025-48.docx\n",
      "🗑️ Eliminado original: 41594_SADA_07-05-2025_AGROPECUARIA CAMPO DULCE S.R.L._PA-2025-48.docx\n"
     ]
    },
    {
     "data": {
      "application/vnd.jupyter.widget-view+json": {
       "model_id": "e2b60fa7ba6640558c406698f3fa90bb",
       "version_major": 2,
       "version_minor": 0
      },
      "text/plain": [
       "  0%|          | 0/1 [00:00<?, ?it/s]"
      ]
     },
     "metadata": {},
     "output_type": "display_data"
    },
    {
     "name": "stdout",
     "output_type": "stream",
     "text": [
      "C:\\Users\\Usuario\\Desktop\\PYTHON\\_informes\\41594_SADA_14-05-2025_AGROPECUARIA CAMPO DULCE S.R.L._PA-2025-51.docx\n",
      "✅ Convertido: 41594_SADA_14-05-2025_AGROPECUARIA CAMPO DULCE S.R.L._PA-2025-51.docx\n",
      "🗑️ Eliminado original: 41594_SADA_14-05-2025_AGROPECUARIA CAMPO DULCE S.R.L._PA-2025-51.docx\n"
     ]
    },
    {
     "data": {
      "application/vnd.jupyter.widget-view+json": {
       "model_id": "4b98fc4c41aa47f09d1b35dbdc60b96d",
       "version_major": 2,
       "version_minor": 0
      },
      "text/plain": [
       "  0%|          | 0/1 [00:00<?, ?it/s]"
      ]
     },
     "metadata": {},
     "output_type": "display_data"
    },
    {
     "name": "stdout",
     "output_type": "stream",
     "text": [
      "C:\\Users\\Usuario\\Desktop\\PYTHON\\_informes\\42376_SADA_07-05-2025_HURTADO PEREDO ANTONIO_PA-2025-46.docx\n",
      "✅ Convertido: 42376_SADA_07-05-2025_HURTADO PEREDO ANTONIO_PA-2025-46.docx\n",
      "🗑️ Eliminado original: 42376_SADA_07-05-2025_HURTADO PEREDO ANTONIO_PA-2025-46.docx\n"
     ]
    },
    {
     "data": {
      "application/vnd.jupyter.widget-view+json": {
       "model_id": "d6cdba204be04cd38d96064ef6251e02",
       "version_major": 2,
       "version_minor": 0
      },
      "text/plain": [
       "  0%|          | 0/1 [00:00<?, ?it/s]"
      ]
     },
     "metadata": {},
     "output_type": "display_data"
    },
    {
     "name": "stdout",
     "output_type": "stream",
     "text": [
      "C:\\Users\\Usuario\\Desktop\\PYTHON\\_informes\\515_SADA_13-05-2025_AGUILERA OLGA RIVERO VDA DE_PA-2025-44.docx\n",
      "✅ Convertido: 515_SADA_13-05-2025_AGUILERA OLGA RIVERO VDA DE_PA-2025-44.docx\n",
      "🗑️ Eliminado original: 515_SADA_13-05-2025_AGUILERA OLGA RIVERO VDA DE_PA-2025-44.docx\n"
     ]
    }
   ],
   "source": [
    "convertir_docx_to_pdf()"
   ]
  },
  {
   "cell_type": "code",
   "execution_count": 22,
   "id": "150897f4-d3d0-4dcd-8363-43c575f22a70",
   "metadata": {},
   "outputs": [],
   "source": [
    "def cargar_pdf_to_drive(id_drive, title_file, path_file):\n",
    "    try:\n",
    "        # 1. Buscar si ya existe un archivo con el mismo nombre en la misma carpeta\n",
    "        query = f\"'{id_drive}' in parents and title = '{title_file}' and trashed = false\"\n",
    "        file_list = drive.ListFile({'q': query}).GetList()\n",
    "\n",
    "        if file_list:\n",
    "            # Si ya existe, usamos el primero encontrado\n",
    "            file = file_list[0]\n",
    "            print(f\"[INFO] El archivo '{title_file}' ya existe. Se reemplazará.\")\n",
    "        else:\n",
    "            # Si no existe, creamos uno nuevo\n",
    "            file = drive.CreateFile({\n",
    "                \"mimeType\": \"application/pdf\",\n",
    "                \"parents\": [{\"kind\": \"drive#fileLink\", \"id\": id_drive}]\n",
    "            })\n",
    "            file['title'] = title_file\n",
    "            print(f\"[INFO] El archivo '{title_file}' no existe. Se creará uno nuevo.\")\n",
    "\n",
    "        # 2. Reemplazar el contenido\n",
    "        file.SetContentFile(path_file)\n",
    "        file.Upload()\n",
    "\n",
    "        # 3. Dar permisos públicos si es nuevo\n",
    "        if not file_list:\n",
    "            file.InsertPermission({\n",
    "                'type': 'anyone',\n",
    "                'value': 'anyone',\n",
    "                'role': 'reader'\n",
    "            })\n",
    "\n",
    "        print(f\"[OK] Archivo '{title_file}' subido exitosamente.\")\n",
    "        return file['alternateLink']\n",
    "\n",
    "    except Exception as e:\n",
    "        print(f\"[ERROR] No se pudo subir el archivo '{title_file}': {e}\")\n",
    "        return False"
   ]
  },
  {
   "cell_type": "code",
   "execution_count": 53,
   "id": "8b9bd17e-26d6-4f55-aa7b-3c8d91af6b54",
   "metadata": {},
   "outputs": [
    {
     "data": {
      "text/plain": [
       "['1180_SADA_06-05-2025_BALCAZAR BALCAZAR JESUS E._PA-2025-49.pdf',\n",
       " '12308_SADA_08-05-2025_ROCA CHAVEZ MAURICIO DANIEL_PA-2025-47.pdf',\n",
       " '15284_SADA_12-05-2025_ROJAS CORDOVA ROGELIO FELIPE_PA-2025-43.pdf',\n",
       " '18027_SADA_01-05-2025_AGUILERA TARRADELLES GUILLERMO_PA-2025-41.pdf',\n",
       " '2549_SADA_06-05-2025_CAMARGO REQUENA MARCO ANTONIO_PA-2025-45.pdf',\n",
       " '2641_SADA_01-05-2025_CRONENBOLD AGUILERA ROBERTO_PA-2025-42.pdf',\n",
       " '30035_SADA_12-05-2025_GUTIERREZ AGUILERA WIDEN GUILLER_PA-2025-50.pdf',\n",
       " '41550_SADA_17-05-2025_ZALZER ANTELO LUIS JHONNY_PA-2025-52.pdf',\n",
       " '41594_SADA_07-05-2025_AGROPECUARIA CAMPO DULCE S.R.L._PA-2025-48.pdf',\n",
       " '41594_SADA_14-05-2025_AGROPECUARIA CAMPO DULCE S.R.L._PA-2025-51.pdf',\n",
       " '42376_SADA_07-05-2025_HURTADO PEREDO ANTONIO_PA-2025-46.pdf']"
      ]
     },
     "execution_count": 53,
     "metadata": {},
     "output_type": "execute_result"
    }
   ],
   "source": [
    "contenido = os.listdir(directorio_destino)\n",
    "contenido"
   ]
  },
  {
   "cell_type": "code",
   "execution_count": 54,
   "id": "cd3db610-4dd3-4c47-8573-8b2e16748b0a",
   "metadata": {},
   "outputs": [
    {
     "name": "stdout",
     "output_type": "stream",
     "text": [
      "PA-2025-49\n",
      "[INFO] El archivo '1180_SADA_06-05-2025_BALCAZAR BALCAZAR JESUS E._PA-2025-49.pdf' no existe. Se creará uno nuevo.\n",
      "[OK] Archivo '1180_SADA_06-05-2025_BALCAZAR BALCAZAR JESUS E._PA-2025-49.pdf' subido exitosamente.\n",
      "✔️ Se registro link para CITE: PA-2025-49\n",
      "✅ Archivo eliminado.\n",
      "PA-2025-47\n",
      "[INFO] El archivo '12308_SADA_08-05-2025_ROCA CHAVEZ MAURICIO DANIEL_PA-2025-47.pdf' no existe. Se creará uno nuevo.\n",
      "[OK] Archivo '12308_SADA_08-05-2025_ROCA CHAVEZ MAURICIO DANIEL_PA-2025-47.pdf' subido exitosamente.\n",
      "✔️ Se registro link para CITE: PA-2025-47\n",
      "✅ Archivo eliminado.\n",
      "PA-2025-43\n",
      "[INFO] El archivo '15284_SADA_12-05-2025_ROJAS CORDOVA ROGELIO FELIPE_PA-2025-43.pdf' no existe. Se creará uno nuevo.\n",
      "[OK] Archivo '15284_SADA_12-05-2025_ROJAS CORDOVA ROGELIO FELIPE_PA-2025-43.pdf' subido exitosamente.\n",
      "✔️ Se registro link para CITE: PA-2025-43\n",
      "✅ Archivo eliminado.\n",
      "PA-2025-41\n",
      "[INFO] El archivo '18027_SADA_01-05-2025_AGUILERA TARRADELLES GUILLERMO_PA-2025-41.pdf' no existe. Se creará uno nuevo.\n",
      "[OK] Archivo '18027_SADA_01-05-2025_AGUILERA TARRADELLES GUILLERMO_PA-2025-41.pdf' subido exitosamente.\n",
      "✔️ Se registro link para CITE: PA-2025-41\n",
      "✅ Archivo eliminado.\n",
      "PA-2025-45\n",
      "[INFO] El archivo '2549_SADA_06-05-2025_CAMARGO REQUENA MARCO ANTONIO_PA-2025-45.pdf' no existe. Se creará uno nuevo.\n",
      "[OK] Archivo '2549_SADA_06-05-2025_CAMARGO REQUENA MARCO ANTONIO_PA-2025-45.pdf' subido exitosamente.\n",
      "✔️ Se registro link para CITE: PA-2025-45\n",
      "✅ Archivo eliminado.\n",
      "PA-2025-42\n",
      "[INFO] El archivo '2641_SADA_01-05-2025_CRONENBOLD AGUILERA ROBERTO_PA-2025-42.pdf' no existe. Se creará uno nuevo.\n",
      "[OK] Archivo '2641_SADA_01-05-2025_CRONENBOLD AGUILERA ROBERTO_PA-2025-42.pdf' subido exitosamente.\n",
      "✔️ Se registro link para CITE: PA-2025-42\n",
      "✅ Archivo eliminado.\n",
      "PA-2025-50\n",
      "[INFO] El archivo '30035_SADA_12-05-2025_GUTIERREZ AGUILERA WIDEN GUILLER_PA-2025-50.pdf' no existe. Se creará uno nuevo.\n",
      "[OK] Archivo '30035_SADA_12-05-2025_GUTIERREZ AGUILERA WIDEN GUILLER_PA-2025-50.pdf' subido exitosamente.\n",
      "✔️ Se registro link para CITE: PA-2025-50\n",
      "✅ Archivo eliminado.\n",
      "PA-2025-52\n",
      "[INFO] El archivo '41550_SADA_17-05-2025_ZALZER ANTELO LUIS JHONNY_PA-2025-52.pdf' no existe. Se creará uno nuevo.\n",
      "[OK] Archivo '41550_SADA_17-05-2025_ZALZER ANTELO LUIS JHONNY_PA-2025-52.pdf' subido exitosamente.\n",
      "✔️ Se registro link para CITE: PA-2025-52\n",
      "✅ Archivo eliminado.\n",
      "PA-2025-48\n",
      "[INFO] El archivo '41594_SADA_07-05-2025_AGROPECUARIA CAMPO DULCE S.R.L._PA-2025-48.pdf' no existe. Se creará uno nuevo.\n",
      "[OK] Archivo '41594_SADA_07-05-2025_AGROPECUARIA CAMPO DULCE S.R.L._PA-2025-48.pdf' subido exitosamente.\n",
      "✔️ Se registro link para CITE: PA-2025-48\n",
      "✅ Archivo eliminado.\n",
      "PA-2025-51\n",
      "[INFO] El archivo '41594_SADA_14-05-2025_AGROPECUARIA CAMPO DULCE S.R.L._PA-2025-51.pdf' no existe. Se creará uno nuevo.\n",
      "[OK] Archivo '41594_SADA_14-05-2025_AGROPECUARIA CAMPO DULCE S.R.L._PA-2025-51.pdf' subido exitosamente.\n",
      "✔️ Se registro link para CITE: PA-2025-51\n",
      "✅ Archivo eliminado.\n",
      "PA-2025-46\n",
      "[INFO] El archivo '42376_SADA_07-05-2025_HURTADO PEREDO ANTONIO_PA-2025-46.pdf' no existe. Se creará uno nuevo.\n",
      "[OK] Archivo '42376_SADA_07-05-2025_HURTADO PEREDO ANTONIO_PA-2025-46.pdf' subido exitosamente.\n",
      "✔️ Se registro link para CITE: PA-2025-46\n",
      "✅ Archivo eliminado.\n"
     ]
    }
   ],
   "source": [
    "for file in contenido:\n",
    "    partes = file.split('_')\n",
    "    \n",
    "    cite = partes[-1].split('.')[0]\n",
    "    sigla = partes[1]\n",
    "    title_file = file\n",
    "    id_drive = '18rEKX1tmqx4_Du3ydULVYXIrjfH5sGzk'\n",
    "    path_file = os.path.join(directorio_destino, file)\n",
    "    print(cite)\n",
    "    url_drive = cargar_pdf_to_drive(id_drive, title_file, path_file)\n",
    "    if url_drive == False:\n",
    "        continue\n",
    "    cargar_link_to_db(url_drive, cite)\n",
    "    if os.path.exists(path_file):\n",
    "        os.remove(path_file)\n",
    "        print(\"✅ Archivo eliminado.\")\n",
    "    else:\n",
    "        print(\"⚠️ El archivo no existe.\")"
   ]
  },
  {
   "cell_type": "code",
   "execution_count": null,
   "id": "ce06318b-f09b-4389-b5b4-5e8a5394bb2c",
   "metadata": {},
   "outputs": [],
   "source": []
  },
  {
   "cell_type": "code",
   "execution_count": null,
   "id": "bf43c9af-a971-4139-acbb-206adff27422",
   "metadata": {},
   "outputs": [],
   "source": []
  },
  {
   "cell_type": "code",
   "execution_count": null,
   "id": "af20d880-9560-47c5-8317-77c4c3000d50",
   "metadata": {},
   "outputs": [],
   "source": []
  },
  {
   "cell_type": "code",
   "execution_count": null,
   "id": "0f30d8f8-d523-4ea5-9c84-0931823b295e",
   "metadata": {},
   "outputs": [],
   "source": []
  },
  {
   "cell_type": "code",
   "execution_count": null,
   "id": "7e901558-0c03-438b-bac2-5b7f31bb3b9e",
   "metadata": {},
   "outputs": [],
   "source": []
  },
  {
   "cell_type": "code",
   "execution_count": null,
   "id": "0e258ad6-3878-4b69-8742-d282259f7358",
   "metadata": {},
   "outputs": [],
   "source": []
  },
  {
   "cell_type": "code",
   "execution_count": null,
   "id": "c754b60d-3dc6-47e2-accc-39f9e0c4571d",
   "metadata": {},
   "outputs": [],
   "source": []
  },
  {
   "cell_type": "code",
   "execution_count": null,
   "id": "c4de7753-a197-42e3-a3e7-a8f2bf16e3a6",
   "metadata": {},
   "outputs": [],
   "source": []
  },
  {
   "cell_type": "code",
   "execution_count": null,
   "id": "ad90e102-1b77-4ec4-887e-5d1b8bd31f18",
   "metadata": {},
   "outputs": [],
   "source": []
  },
  {
   "cell_type": "code",
   "execution_count": null,
   "id": "f7dfbd3e-eaac-49a7-b921-cd9c77f588cd",
   "metadata": {},
   "outputs": [],
   "source": []
  }
 ],
 "metadata": {
  "kernelspec": {
   "display_name": "Python 3 (ipykernel)",
   "language": "python",
   "name": "python3"
  },
  "language_info": {
   "codemirror_mode": {
    "name": "ipython",
    "version": 3
   },
   "file_extension": ".py",
   "mimetype": "text/x-python",
   "name": "python",
   "nbconvert_exporter": "python",
   "pygments_lexer": "ipython3",
   "version": "3.10.13"
  }
 },
 "nbformat": 4,
 "nbformat_minor": 5
}
