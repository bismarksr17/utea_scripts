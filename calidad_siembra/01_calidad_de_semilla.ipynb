{
 "cells": [
  {
   "cell_type": "code",
   "execution_count": 10,
   "id": "56283d04",
   "metadata": {},
   "outputs": [
    {
     "data": {
      "text/plain": [
       "'G:\\\\OneDrive - Ingenio Azucarero Guabira S.A\\\\_DATOS_PYTHON'"
      ]
     },
     "execution_count": 10,
     "metadata": {},
     "output_type": "execute_result"
    }
   ],
   "source": [
    "<<<<<<< LOCAL CELL DELETED >>>>>>>\n",
    "def get_unidad_local():\n",
    "    try:\n",
    "        # ruta del archivo que contiene la información necesaria\n",
    "        with open('../../unidad_local.txt', 'r') as file:\n",
    "            unidad = file.readline().strip()\n",
    "            return unidad\n",
    "    except FileNotFoundError:\n",
    "        print(\"El archivo 'unidad_local.txt' no se encuentra en la ruta especificada.\")\n",
    "    return None\n",
    "\n",
    "def get_ruta_local():\n",
    "    try:\n",
    "        with open('../ruta_local.txt', 'r') as file:\n",
    "            ruta = file.readline().strip()\n",
    "            return ruta\n",
    "    except FileNotFoundError:\n",
    "        print(\"El archivo 'ruta_local.txt' no se encuentra en la ruta especificada.\")\n",
    "    return None\n",
    "\n",
    "# RUTA ONEDRIVE\n",
    "unidad = get_unidad_local()\n",
    "ruta = get_ruta_local()\n",
    "ruta_completa = os.path.join(unidad, ruta)\n",
    "ruta_completa"
   ]
  },
  {
   "cell_type": "code",
   "execution_count": 11,
   "id": "5063fa84",
   "metadata": {},
   "outputs": [
    {
     "data": {
      "text/plain": [
       "<amigocloud.AmigoCloud at 0x1c6a68c4640>"
      ]
     },
     "execution_count": 11,
     "metadata": {},
     "output_type": "execute_result"
    }
   ],
   "source": [
    "# leer token\n",
    "acceso = open(ruta_completa + '/_keys/api_amigocloud.key','r')\n",
    "api_token = acceso.readlines()[0]\n",
    "acceso.close()\n",
    "amigocloud = AmigoCloud(token=api_token)\n",
    "amigocloud"
   ]
  },
  {
   "cell_type": "code",
   "execution_count": null,
   "id": "811bea11",
   "metadata": {},
   "outputs": [],
   "source": []
  },
  {
   "cell_type": "code",
   "execution_count": null,
   "id": "a037ffaa",
   "metadata": {},
   "outputs": [],
   "source": []
  },
  {
   "cell_type": "code",
   "execution_count": null,
   "id": "bbc0bb59",
   "metadata": {},
   "outputs": [],
   "source": []
  },
  {
   "cell_type": "code",
   "execution_count": null,
   "id": "e09026d0",
   "metadata": {},
   "outputs": [],
   "source": []
  },
  {
   "cell_type": "code",
   "execution_count": null,
   "id": "0cf4eabd",
   "metadata": {},
   "outputs": [],
   "source": []
  },
  {
   "cell_type": "code",
   "execution_count": null,
   "id": "abee0c8e",
   "metadata": {},
   "outputs": [],
   "source": []
  },
  {
   "cell_type": "code",
   "execution_count": null,
   "id": "e708eec4",
   "metadata": {},
   "outputs": [],
   "source": []
  },
  {
   "cell_type": "code",
   "execution_count": null,
   "id": "70fd25fc",
   "metadata": {},
   "outputs": [],
   "source": []
  },
  {
   "cell_type": "code",
   "execution_count": 14,
   "id": "ad7d508d",
   "metadata": {},
   "outputs": [
    {
     "data": {
      "text/html": [
       "<div>\n",
       "<style scoped>\n",
       "    .dataframe tbody tr th:only-of-type {\n",
       "        vertical-align: middle;\n",
       "    }\n",
       "\n",
       "    .dataframe tbody tr th {\n",
       "        vertical-align: top;\n",
       "    }\n",
       "\n",
       "    .dataframe thead th {\n",
       "        text-align: right;\n",
       "    }\n",
       "</style>\n",
       "<table border=\"1\" class=\"dataframe\">\n",
       "  <thead>\n",
       "    <tr style=\"text-align: right;\">\n",
       "      <th></th>\n",
       "      <th>id</th>\n",
       "      <th>canhero</th>\n",
       "      <th>propiedad</th>\n",
       "      <th>lote</th>\n",
       "      <th>variedad</th>\n",
       "    </tr>\n",
       "  </thead>\n",
       "  <tbody>\n",
       "    <tr>\n",
       "      <th>0</th>\n",
       "      <td>130</td>\n",
       "      <td>13067 / SAUCEDO CERRUTI SONIA</td>\n",
       "      <td>2076 / NAICO--SAUCEDO SONIA</td>\n",
       "      <td>B12</td>\n",
       "      <td>UCG 90-20</td>\n",
       "    </tr>\n",
       "    <tr>\n",
       "      <th>1</th>\n",
       "      <td>131</td>\n",
       "      <td>18086 / SUAREZ CUELLAR JENNY SONIA</td>\n",
       "      <td>550 / LA IMPROVISADA--SUAREZ</td>\n",
       "      <td>L12</td>\n",
       "      <td>CITTCA 0563</td>\n",
       "    </tr>\n",
       "  </tbody>\n",
       "</table>\n",
       "</div>"
      ],
      "text/plain": [
       "    id                             canhero                     propiedad lote  \\\n",
       "0  130       13067 / SAUCEDO CERRUTI SONIA   2076 / NAICO--SAUCEDO SONIA  B12   \n",
       "1  131  18086 / SUAREZ CUELLAR JENNY SONIA  550 / LA IMPROVISADA--SUAREZ  L12   \n",
       "\n",
       "      variedad  \n",
       "0    UCG 90-20  \n",
       "1  CITTCA 0563  "
      ]
     },
     "execution_count": 14,
     "metadata": {},
     "output_type": "execute_result"
    }
   ],
   "source": [
    "fecha_insp = '2025-02-18'\n",
    "query = {'query': 'select id, canhero, propiedad, lote, variedad from dataset_365887 where fecha_registro::date=\\'{fecha}\\''.format(fecha=fecha_insp)}\n",
    "select = amigocloud.get('https://app.amigocloud.com/api/v1/projects/35567/sql', query)\n",
    "data = select['data']\n",
    "tabla = pd.DataFrame(data)\n",
    "tabla"
   ]
  },
  {
   "cell_type": "code",
   "execution_count": null,
   "id": "0a6da977",
   "metadata": {},
   "outputs": [],
   "source": []
  },
  {
   "cell_type": "code",
   "execution_count": 15,
   "id": "92f6902e",
   "metadata": {},
   "outputs": [
    {
     "data": {
      "text/plain": [
       "[130, 131]"
      ]
     },
     "execution_count": 15,
     "metadata": {},
     "output_type": "execute_result"
    }
   ],
   "source": [
    "ids = list(tabla['id'])\n",
    "ids"
   ]
  },
  {
   "cell_type": "code",
   "execution_count": 17,
   "id": "d6b2b654",
   "metadata": {},
   "outputs": [
    {
     "name": "stdout",
     "output_type": "stream",
     "text": [
      "{'fecha_registro': '18/02/2025', 'id': 130, 'estado': 'APROBADO', 'ubicacion': '0101000020E61000007F5F7EDB28A74FC08A37F3161F4031C0', 'tecnico_responsable': 'JUAN PABLO', 'canhero': '13067 / SAUCEDO CERRUTI SONIA', 'lote': 'B12', 'observaciones': '', 'propiedad': '2076 / NAICO--SAUCEDO SONIA', 'variedad': 'UCG 90-20', 'ciclo': 'HOJA', 'area': 4.8, 'edad': 8, 'usuario': 'Juan Pablo Jaldin Duran', 'amigo_id': '50A2AFB7A10B486C9D542B4EC8EEFCF7', 'procesado': True, 'count': 1}\n",
      "buscando fotos\n",
      "{'query': \"select * from gallery_67001 where source_amigo_id='50A2AFB7A10B486C9D542B4EC8EEFCF7'\"}\n",
      "descargando fotos\n",
      "130\n",
      "{'fecha_registro': '18/02/2025', 'id': 131, 'estado': 'APROBADO', 'ubicacion': '0101000020E61000008A2DF30CD0984FC0CB08B99C5C4F31C0', 'tecnico_responsable': 'MILTON', 'canhero': '18086 / SUAREZ CUELLAR JENNY SONIA', 'lote': 'L12', 'observaciones': None, 'propiedad': '550 / LA IMPROVISADA--SUAREZ', 'variedad': 'CITTCA 0563', 'ciclo': 'SOCA 1', 'area': 13.4, 'edad': 10, 'usuario': '', 'amigo_id': '8f8ef0cb34a14c75964a149ceaf46145', 'procesado': True, 'count': 1}\n",
      "buscando fotos\n",
      "{'query': \"select * from gallery_67001 where source_amigo_id='8f8ef0cb34a14c75964a149ceaf46145'\"}\n",
      "descargando fotos\n",
      "descargando una foto\n",
      "descargando una foto\n",
      "131\n"
     ]
    }
   ],
   "source": [
    "for i in ids:\n",
    "    generar_reporte(i)\n",
    "    print(i)"
   ]
  }
 ],
 "metadata": {},
 "nbformat": 4,
 "nbformat_minor": 5
}
