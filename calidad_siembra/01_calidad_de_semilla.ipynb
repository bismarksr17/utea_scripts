{
 "cells": [
  {
   "cell_type": "code",
   "execution_count": 1,
   "id": "c55aebda-734f-424d-8c26-578cfd88689c",
   "metadata": {},
   "outputs": [],
   "source": [
    "import sys\n",
    "sys.path.append('../_amigocloud')\n",
    "\n",
    "from amigocloud import AmigoCloud\n",
    "import pandas as pd\n",
    "import geopandas as gpd\n",
    "from datetime import datetime, timedelta\n",
    "import collections\n",
    "import qrcode\n",
    "\n",
    "from docxtpl import DocxTemplate\n",
    "from docx.shared import Mm\n",
    "import docxtpl\n",
    "import requests\n",
    "import os\n",
    "\n",
    "# ID PROYECTO\n",
    "proyecto_id = 35567\n",
    "# ID FUNCIONES\n",
    "buscar_reg_nuevos = 6705"
   ]
  },
  {
   "cell_type": "code",
   "execution_count": 2,
   "id": "0a5b703c-aa54-4972-9e8d-3644330a2cf7",
   "metadata": {},
   "outputs": [],
   "source": [
    "# ejecuta cualquier query sql en el proyecto que se le indique\n",
    "# requiere el id de proyecto, query a ejecutar y tipo solicitud (get o post)\n",
    "def ejecutar_query_sql(id_project, query, tipo_sql):\n",
    "    # define la url del proyecto para ejecutar el querry\n",
    "    url_proyecto_sql = f'https://app.amigocloud.com/api/v1/projects/{id_project}/sql'\n",
    "    # crea la estructura de query para amigocloud\n",
    "    query_sql = {'query': query}\n",
    "    # variable para almacenar resultado\n",
    "    resultado_get = ''\n",
    "    # eleige que tipo de solicitud se realizara (get o post)\n",
    "    if tipo_sql == 'get': \n",
    "        resultado_get = amigocloud.get(url_proyecto_sql, query_sql)\n",
    "    elif tipo_sql == 'post':\n",
    "        resultado_get = amigocloud.post(url_proyecto_sql, query_sql)\n",
    "    else:\n",
    "        resultado_get = 'Se a seleccionado un tipo de solicitud erroneo.'\n",
    "    return resultado_get\n",
    "\n",
    "# ejecuta un query que esta almacenado en un proyecto de amigocloud (generalmente un update),\n",
    "# requiere id de proyecto e id de query\n",
    "# retorna cuantas filas fueron afectadas\n",
    "def ejecutar_query_por_id(id_project, id_query, tipo_sql):\n",
    "    # obtiene el query basado en el id_project y el id_query\n",
    "    get_query = amigocloud.get(f'https://app.amigocloud.com/api/v1/projects/{id_project}/queries/{id_query}')\n",
    "    # se extrae solo el texto del query\n",
    "    query = get_query['query']\n",
    "    # ejecuta el query_sql con metodo post y guarda la respuesta\n",
    "    respuesta_post = ejecutar_query_sql(id_project, query, tipo_sql)\n",
    "    # retorna el numero de filas afectadas por el query\n",
    "    return respuesta_post\n",
    "\n",
    "# convierte de formato YYYY-mm-dd H:M:S+z a d/m/YYYY\n",
    "def convertir_formato_fecha(fecha):\n",
    "    new_formato = datetime.strptime(fecha, \"%Y-%m-%d %H:%M:%S%z\").strftime(\"%d/%m/%Y\")\n",
    "    return new_formato"
   ]
  },
  {
   "cell_type": "code",
   "execution_count": 3,
   "id": "56283d04",
   "metadata": {},
   "outputs": [
    {
     "data": {
      "text/plain": [
       "'C:\\\\Documents\\\\OneDrive - Ingenio Azucarero Guabira S.A\\\\_DATOS_PYTHON'"
      ]
     },
     "execution_count": 3,
     "metadata": {},
     "output_type": "execute_result"
    }
   ],
   "source": [
    "def get_unidad_local():\n",
    "    try:\n",
    "        # ruta del archivo que contiene la información necesaria\n",
    "        with open('../../unidad_local.txt', 'r') as file:\n",
    "            unidad = file.readline().strip()\n",
    "            return unidad\n",
    "    except FileNotFoundError:\n",
    "        print(\"El archivo 'unidad_local.txt' no se encuentra en la ruta especificada.\")\n",
    "    return None\n",
    "\n",
    "def get_ruta_local():\n",
    "    try:\n",
    "        with open('../ruta_local.txt', 'r') as file:\n",
    "            ruta = file.readline().strip()\n",
    "            return ruta\n",
    "    except FileNotFoundError:\n",
    "        print(\"El archivo 'ruta_local.txt' no se encuentra en la ruta especificada.\")\n",
    "    return None\n",
    "\n",
    "# RUTA ONEDRIVE\n",
    "unidad = get_unidad_local()\n",
    "ruta = get_ruta_local()\n",
    "ruta_completa = os.path.join(unidad, ruta)\n",
    "ruta_completa"
   ]
  },
  {
   "cell_type": "code",
   "execution_count": 4,
   "id": "f6054e58-a8e9-484a-ab84-bf99f0f470f1",
   "metadata": {},
   "outputs": [
    {
     "data": {
      "text/plain": [
       "'C:\\\\Documents'"
      ]
     },
     "execution_count": 4,
     "metadata": {},
     "output_type": "execute_result"
    }
   ],
   "source": [
    "unidad"
   ]
  },
  {
   "cell_type": "code",
   "execution_count": 5,
   "id": "d5cbcc70-c795-4713-a0ae-8eb4a10f4948",
   "metadata": {},
   "outputs": [
    {
     "data": {
      "text/plain": [
       "'OneDrive - Ingenio Azucarero Guabira S.A\\\\_DATOS_PYTHON'"
      ]
     },
     "execution_count": 5,
     "metadata": {},
     "output_type": "execute_result"
    }
   ],
   "source": [
    "ruta"
   ]
  },
  {
   "cell_type": "code",
   "execution_count": 6,
   "id": "20e26a64-8673-459e-9583-e9b47a6b30c4",
   "metadata": {},
   "outputs": [
    {
     "data": {
      "text/plain": [
       "'C:\\\\Documents\\\\OneDrive - Ingenio Azucarero Guabira S.A\\\\_DATOS_PYTHON'"
      ]
     },
     "execution_count": 6,
     "metadata": {},
     "output_type": "execute_result"
    }
   ],
   "source": [
    "ruta_completa"
   ]
  },
  {
   "cell_type": "code",
   "execution_count": null,
   "id": "973d38cf-ed02-4017-8ff9-8d10c1aaeb81",
   "metadata": {},
   "outputs": [],
   "source": []
  },
  {
   "cell_type": "code",
   "execution_count": 7,
   "id": "5063fa84",
   "metadata": {},
   "outputs": [
    {
     "data": {
      "text/plain": [
       "<amigocloud.AmigoCloud at 0x289c9335090>"
      ]
     },
     "execution_count": 7,
     "metadata": {},
     "output_type": "execute_result"
    }
   ],
   "source": [
    "# leer token\n",
    "acceso = open(ruta_completa + '/_keys/api_amigocloud.key','r')\n",
    "api_token = acceso.readlines()[0]\n",
    "acceso.close()\n",
    "amigocloud = AmigoCloud(token=api_token)\n",
    "amigocloud"
   ]
  },
  {
   "cell_type": "code",
   "execution_count": 8,
   "id": "811bea11",
   "metadata": {},
   "outputs": [],
   "source": [
    "def crear_lista_imagenes(id_proyecto, source_amigo_id, doc):\n",
    "    print('buscando fotos')\n",
    "    query_fotos = {'query': 'select * from gallery_67001 where source_amigo_id=\\'{amigo_id}\\''.format(amigo_id=source_amigo_id)}\n",
    "    print(query_fotos)\n",
    "    project = 'https://app.amigocloud.com/api/v1/projects/' + str(id_proyecto) + '/sql'\n",
    "    select_fotos = amigocloud.get(project, query_fotos)\n",
    "    fotos = select_fotos['data']\n",
    "    lista_fotos_inline = []\n",
    "    print('descargando fotos')\n",
    "    for foto in fotos:\n",
    "        print('descargando una foto')\n",
    "        response = requests.get(\"https://www-amigocloud.s3.amazonaws.com/gallery/\" + foto['s3_filename'])\n",
    "        file = open(ruta_completa + '/fotos/' + foto['s3_filename'], \"wb\")\n",
    "        file.write(response.content)\n",
    "        file.close()\n",
    "        lista_fotos_inline.append({'foto': docxtpl.InlineImage(doc, image_descriptor=ruta_completa +'/fotos/' + foto['s3_filename'], width=Mm(60))})\n",
    "    return lista_fotos_inline"
   ]
  },
  {
   "cell_type": "code",
   "execution_count": 9,
   "id": "e3bd08a8-ad73-4bde-bfb3-b28694cd5679",
   "metadata": {},
   "outputs": [],
   "source": [
    "def generar_qr(texto):\n",
    "    qr = qrcode.QRCode(\n",
    "        version=1,\n",
    "        error_correction=qrcode.constants.ERROR_CORRECT_L,\n",
    "        box_size=10,\n",
    "        border=4,\n",
    "    )\n",
    "    qr.add_data(texto)\n",
    "    qr.make(fit=True)\n",
    "    qr_img = qr.make_image(fill_color=\"black\", back_color=\"white\")\n",
    "    ruta_qr = ruta_completa + '/planos/qr_calidad_semilla_aux.png'\n",
    "    qr_img.save(ruta_qr)\n",
    "    return ruta_qr"
   ]
  },
  {
   "cell_type": "code",
   "execution_count": 10,
   "id": "3599466a-a1d1-48c6-bd69-9176d23de302",
   "metadata": {},
   "outputs": [],
   "source": [
    "def set_estado(id, estado):\n",
    "    query = f'UPDATE dataset_365887 SET estado=\\'{estado}\\', procesado=True WHERE id={id}'\n",
    "    ejecutar_query_sql(proyecto_id, query, 'post')\n",
    "    return None"
   ]
  },
  {
   "cell_type": "code",
   "execution_count": 11,
   "id": "cc5759af-e32b-4aed-bae1-90b82da4e216",
   "metadata": {},
   "outputs": [],
   "source": [
    "def generar_reportes(df):\n",
    "    for i, row in df.iterrows():\n",
    "        insp = {\n",
    "            'id':row['id'],\n",
    "            'fecha': convertir_formato_fecha(row['fecha']),\n",
    "            'tecnico':row['tecnico'],\n",
    "            'canhero':row['canhero'],\n",
    "            'propiedad':row['propiedad'].split('--')[0],\n",
    "            'lote':row['lote'],\n",
    "            'variedad':row['variedad'],\n",
    "            'ciclo':row['ciclo'],\n",
    "            'edad':row['edad'],\n",
    "            'area':row['area'],\n",
    "            'obs':row['obs'],\n",
    "            'num_mus':40,\n",
    "            'amigo_id':row['amigo_id'],\n",
    "            't_yemas':row['total_yemas'],\n",
    "            't_perf':row['total_perf'],\n",
    "            'p_perf':row['total_perf'] / row['total_yemas'] * 100,\n",
    "            't_enrai':row['total_enrai'],\n",
    "            'p_enrai':row['total_enrai'] / row['total_yemas'] * 100,\n",
    "            't_brota':row['total_brota'],\n",
    "            'p_brota':row['total_brota'] / row['total_yemas'] * 100,\n",
    "            't_muer':row['total_muer'],\n",
    "            'p_muer':row['total_muer'] / row['total_yemas'] * 100,\n",
    "            't_inviables':row['total_inviables'],\n",
    "            'p_inviables':row['porcen_inviables'] * 100,\n",
    "            't_viables':row['total_viables'],\n",
    "            'p_viables':row['porcen_viables'] * 100,\n",
    "            'estado':row['estado']\n",
    "        }\n",
    "        insp = collections.namedtuple(\"insp\", insp.keys())(*insp.values()) \n",
    "        msj = F'''\n",
    "--UTEA--\n",
    "--CALIDAD DE SEMILLA--\n",
    "\n",
    "Codigo de Inspeccion: {insp.id}\n",
    "Fecha de 2da Inspeccion: {insp.fecha}\n",
    "Codigo Canero: {insp.canhero.split(' / ')[0]}\n",
    "Nombre Canero: {insp.canhero.split(' / ')[1]}\n",
    "Estado de Insp.: {insp.estado}\n",
    "Tecnico Responsable: {insp.tecnico}'''\n",
    "        img_qr = generar_qr(msj)\n",
    "        \n",
    "        doc = DocxTemplate(ruta_completa + \"/templates/tpl_rpt_calidad_semilla.docx\")\n",
    "        source_amigo_id = insp.amigo_id\n",
    "        inline_fotos = crear_lista_imagenes(proyecto_id, source_amigo_id, doc)\n",
    "        inline_firma = docxtpl.InlineImage(doc, image_descriptor=ruta_completa + f'/templates/firmas/{insp.tecnico}.png', width=Mm(60))\n",
    "        inline_qr = docxtpl.InlineImage(doc, image_descriptor=img_qr, width=Mm(30))\n",
    "        context = {'insp':insp, 'firma':inline_firma, 'fotos':inline_fotos, 'qr':inline_qr }\n",
    "        doc.render(context)\n",
    "        ca = insp.canhero.split(' / ')\n",
    "        file_name = ca[0] + '_CDSE_' + insp.fecha.replace('/', '-') + '_' + ca[1] + '_' + str(insp.id)\n",
    "        doc.save(ruta_completa + '/informes/_' + file_name + '.docx')\n",
    "        set_estado(insp.id, insp.estado)"
   ]
  },
  {
   "cell_type": "code",
   "execution_count": 12,
   "id": "5f655a45-c5ee-47d4-a4b1-df752d88684f",
   "metadata": {},
   "outputs": [
    {
     "name": "stdout",
     "output_type": "stream",
     "text": [
      "buscando fotos\n",
      "{'query': \"select * from gallery_67001 where source_amigo_id='501b540de48c4df5a565354dda668d96'\"}\n",
      "descargando fotos\n",
      "descargando una foto\n",
      "descargando una foto\n",
      "buscando fotos\n",
      "{'query': \"select * from gallery_67001 where source_amigo_id='1b1c800812124b329cc6f08df9a9d683'\"}\n",
      "descargando fotos\n",
      "descargando una foto\n",
      "buscando fotos\n",
      "{'query': \"select * from gallery_67001 where source_amigo_id='338dbbcecde844af86d1022737fd019a'\"}\n",
      "descargando fotos\n",
      "descargando una foto\n",
      "descargando una foto\n",
      "buscando fotos\n",
      "{'query': \"select * from gallery_67001 where source_amigo_id='de17e82dfb0246d6be36b3b0063e8e1b'\"}\n",
      "descargando fotos\n",
      "descargando una foto\n",
      "buscando fotos\n",
      "{'query': \"select * from gallery_67001 where source_amigo_id='6e02085966134712a4254eddfe2660e2'\"}\n",
      "descargando fotos\n",
      "descargando una foto\n",
      "descargando una foto\n",
      "Existen registros con datos no validos\n"
     ]
    }
   ],
   "source": [
    "new_registros = ejecutar_query_por_id(proyecto_id, buscar_reg_nuevos, 'get')\n",
    "df_new_data = pd.DataFrame(new_registros['data'])\n",
    "if len(df_new_data) > 0:\n",
    "    df_validos = df_new_data[df_new_data['propiedad'].notna() & df_new_data['total_yemas'].notna()]\n",
    "    df_invalidos = df_new_data[df_new_data['propiedad'].isna() | df_new_data['total_yemas'].isna()]\n",
    "    if len(df_validos) > 0:\n",
    "        generar_reportes(df_validos)\n",
    "    else:\n",
    "        print('No existen registros validos nuevos')\n",
    "    if len(df_invalidos) > 0:\n",
    "        print('Existen registros con datos no validos')\n",
    "else:\n",
    "    print('No existen registros nuevos')"
   ]
  },
  {
   "cell_type": "code",
   "execution_count": 68,
   "id": "0cf4eabd",
   "metadata": {},
   "outputs": [],
   "source": []
  },
  {
   "cell_type": "code",
   "execution_count": null,
   "id": "85252caa-1451-4e05-9319-908ead731454",
   "metadata": {},
   "outputs": [],
   "source": []
  },
  {
   "cell_type": "code",
   "execution_count": null,
   "id": "5ff253a3-3da0-4c1b-8fcc-2dd7f550790b",
   "metadata": {},
   "outputs": [],
   "source": []
  }
 ],
 "metadata": {
  "kernelspec": {
   "display_name": "Python 3 (ipykernel)",
   "language": "python",
   "name": "python3"
  },
  "language_info": {
   "codemirror_mode": {
    "name": "ipython",
    "version": 3
   },
   "file_extension": ".py",
   "mimetype": "text/x-python",
   "name": "python",
   "nbconvert_exporter": "python",
   "pygments_lexer": "ipython3",
   "version": "3.10.13"
  }
 },
 "nbformat": 4,
 "nbformat_minor": 5
}
