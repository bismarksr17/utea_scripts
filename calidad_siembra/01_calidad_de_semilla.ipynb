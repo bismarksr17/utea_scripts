{
 "cells": [
  {
   "cell_type": "code",
   "execution_count": 90,
   "id": "c55aebda-734f-424d-8c26-578cfd88689c",
   "metadata": {},
   "outputs": [],
   "source": [
    "import sys\n",
    "sys.path.append('../_amigocloud')\n",
    "\n",
    "from amigocloud import AmigoCloud\n",
    "import pandas as pd\n",
    "import geopandas as gpd\n",
    "from datetime import datetime, timedelta\n",
    "import collections\n",
    "\n",
    "from docxtpl import DocxTemplate\n",
    "from docx.shared import Mm\n",
    "import docxtpl\n",
    "import requests\n",
    "import os\n",
    "\n",
    "# ID PROYECTO\n",
    "proyecto_id = 35567\n",
    "# ID FUNCIONES\n",
    "buscar_reg_nuevos = 6705"
   ]
  },
  {
   "cell_type": "code",
   "execution_count": 91,
   "id": "0a5b703c-aa54-4972-9e8d-3644330a2cf7",
   "metadata": {},
   "outputs": [],
   "source": [
    "# ejecuta cualquier query sql en el proyecto que se le indique\n",
    "# requiere el id de proyecto, query a ejecutar y tipo solicitud (get o post)\n",
    "def ejecutar_query_sql(id_project, query, tipo_sql):\n",
    "    # define la url del proyecto para ejecutar el querry\n",
    "    url_proyecto_sql = f'https://app.amigocloud.com/api/v1/projects/{id_project}/sql'\n",
    "    # crea la estructura de query para amigocloud\n",
    "    query_sql = {'query': query}\n",
    "    # variable para almacenar resultado\n",
    "    resultado_get = ''\n",
    "    # eleige que tipo de solicitud se realizara (get o post)\n",
    "    if tipo_sql == 'get': \n",
    "        resultado_get = amigocloud.get(url_proyecto_sql, query_sql)\n",
    "    elif tipo_sql == 'post':\n",
    "        resultado_get = amigocloud.post(url_proyecto_sql, query_sql)\n",
    "    else:\n",
    "        resultado_get = 'Se a seleccionado un tipo de solicitud erroneo.'\n",
    "    return resultado_get\n",
    "\n",
    "# ejecuta un query que esta almacenado en un proyecto de amigocloud (generalmente un update),\n",
    "# requiere id de proyecto e id de query\n",
    "# retorna cuantas filas fueron afectadas\n",
    "def ejecutar_query_por_id(id_project, id_query, tipo_sql):\n",
    "    # obtiene el query basado en el id_project y el id_query\n",
    "    get_query = amigocloud.get(f'https://app.amigocloud.com/api/v1/projects/{id_project}/queries/{id_query}')\n",
    "    # se extrae solo el texto del query\n",
    "    query = get_query['query']\n",
    "    # ejecuta el query_sql con metodo post y guarda la respuesta\n",
    "    respuesta_post = ejecutar_query_sql(id_project, query, tipo_sql)\n",
    "    # retorna el numero de filas afectadas por el query\n",
    "    return respuesta_post\n",
    "\n",
    "# convierte de formato YYYY-mm-dd H:M:S+z a d/m/YYYY\n",
    "def convertir_formato_fecha(fecha):\n",
    "    new_formato = datetime.strptime(fecha, \"%Y-%m-%d %H:%M:%S%z\").strftime(\"%d/%m/%Y\")\n",
    "    return new_formato"
   ]
  },
  {
   "cell_type": "code",
   "execution_count": 92,
   "id": "56283d04",
   "metadata": {},
   "outputs": [
    {
     "data": {
      "text/plain": [
       "'C:\\\\Documents\\\\OneDrive - Ingenio Azucarero Guabira S.A\\\\_DATOS_PYTHON'"
      ]
     },
     "execution_count": 92,
     "metadata": {},
     "output_type": "execute_result"
    }
   ],
   "source": [
    "def get_unidad_local():\n",
    "    try:\n",
    "        # ruta del archivo que contiene la información necesaria\n",
    "        with open('../../unidad_local.txt', 'r') as file:\n",
    "            unidad = file.readline().strip()\n",
    "            return unidad\n",
    "    except FileNotFoundError:\n",
    "        print(\"El archivo 'unidad_local.txt' no se encuentra en la ruta especificada.\")\n",
    "    return None\n",
    "\n",
    "def get_ruta_local():\n",
    "    try:\n",
    "        with open('../ruta_local.txt', 'r') as file:\n",
    "            ruta = file.readline().strip()\n",
    "            return ruta\n",
    "    except FileNotFoundError:\n",
    "        print(\"El archivo 'ruta_local.txt' no se encuentra en la ruta especificada.\")\n",
    "    return None\n",
    "\n",
    "# RUTA ONEDRIVE\n",
    "unidad = get_unidad_local()\n",
    "ruta = get_ruta_local()\n",
    "ruta_completa = os.path.join(unidad, ruta)\n",
    "ruta_completa"
   ]
  },
  {
   "cell_type": "code",
   "execution_count": 93,
   "id": "5063fa84",
   "metadata": {},
   "outputs": [
    {
     "data": {
      "text/plain": [
       "<amigocloud.AmigoCloud at 0x23b9d937910>"
      ]
     },
     "execution_count": 93,
     "metadata": {},
     "output_type": "execute_result"
    }
   ],
   "source": [
    "# leer token\n",
    "acceso = open(ruta_completa + '/_keys/api_amigocloud.key','r')\n",
    "api_token = acceso.readlines()[0]\n",
    "acceso.close()\n",
    "amigocloud = AmigoCloud(token=api_token)\n",
    "amigocloud"
   ]
  },
  {
   "cell_type": "code",
   "execution_count": 101,
   "id": "811bea11",
   "metadata": {},
   "outputs": [],
   "source": [
    "def crear_lista_imagenes(id_proyecto, source_amigo_id, doc):\n",
    "    print('buscando fotos')\n",
    "    query_fotos = {'query': 'select * from gallery_67001 where source_amigo_id=\\'{amigo_id}\\''.format(amigo_id=source_amigo_id)}\n",
    "    print(query_fotos)\n",
    "    project = 'https://app.amigocloud.com/api/v1/projects/' + str(id_proyecto) + '/sql'\n",
    "    select_fotos = amigocloud.get(project, query_fotos)\n",
    "    fotos = select_fotos['data']\n",
    "    lista_fotos_inline = []\n",
    "    print('descargando fotos')\n",
    "    for foto in fotos:\n",
    "        print('descargando una foto')\n",
    "        response = requests.get(\"https://www-amigocloud.s3.amazonaws.com/gallery/\" + foto['s3_filename'])\n",
    "        file = open(ruta_completa + '/fotos/' + foto['s3_filename'], \"wb\")\n",
    "        file.write(response.content)\n",
    "        file.close()\n",
    "        lista_fotos_inline.append({'foto': docxtpl.InlineImage(doc, image_descriptor=ruta_completa +'/fotos/' + foto['s3_filename'], width=Mm(60))})\n",
    "    return lista_fotos_inline"
   ]
  },
  {
   "cell_type": "code",
   "execution_count": 150,
   "id": "e3bd08a8-ad73-4bde-bfb3-b28694cd5679",
   "metadata": {},
   "outputs": [],
   "source": [
    "def get_firma(tecnico):\n",
    "    if tecnico == 'ROGELIO':\n",
    "        nom = 'ROGELIO ACUÑA'\n",
    "    elif tecnico == 'JUAN PABLO ':\n",
    "        nom = 'JUAN PABLO JALDIN'\n",
    "    elif tecnico == 'MILTON':\n",
    "        nom = 'MILTON ARANIBAR'\n",
    "    elif tecnico == 'JORGE ANDRES':\n",
    "        nom = 'JORGE ANDRES LOPEZ'\n",
    "    else:\n",
    "        nom = 'firma_jaldin'\n",
    "    path_img_firma = ruta_completa + f'/templates/firmas/{nom}.png'\n",
    "    return path_img_firma"
   ]
  },
  {
   "cell_type": "code",
   "execution_count": 148,
   "id": "5bf6a104-5827-4a5b-9cf7-345b785612f4",
   "metadata": {},
   "outputs": [
    {
     "data": {
      "text/plain": [
       "'C:\\\\Documents\\\\OneDrive - Ingenio Azucarero Guabira S.A\\\\_DATOS_PYTHON/templates/firmas/firma_jaldin.png'"
      ]
     },
     "execution_count": 148,
     "metadata": {},
     "output_type": "execute_result"
    }
   ],
   "source": [
    "get_firma('dd')"
   ]
  },
  {
   "cell_type": "code",
   "execution_count": 131,
   "id": "a037ffaa",
   "metadata": {},
   "outputs": [],
   "source": [
    "def generar_reporte(cod):\n",
    "    id = cod\n",
    "    query = {'query': 'select mu.*, (select count(*) from dataset_365891 da where mu.amigo_id = da.muestra_ref_datos) from dataset_365887 mu where id={idd}'.format(idd=id)}\n",
    "    select = amigocloud.get('https://app.amigocloud.com/api/v1/projects/35567/sql', query)\n",
    "    data = select['data'][0]\n",
    "    data['fecha_registro'] = datetime.strptime(data['fecha_registro'].split(' ')[0], '%Y-%m-%d').strftime('%d/%m/%Y')\n",
    "    print(data)\n",
    "    insp = {\n",
    "        'fecha':data['fecha_registro'],\n",
    "        'canhero':data['canhero'],\n",
    "        'propiedad':data['propiedad'].split('--')[0],\n",
    "        'lote':data['lote'],\n",
    "        'area':data['area'],\n",
    "        'variedad':data['variedad'],\n",
    "        'edad':data['edad'],\n",
    "        'ciclo':data['ciclo'],\n",
    "        'num_mus':data['count']*20,\n",
    "        'id':data['id'],\n",
    "        'amigo_id':data['amigo_id']\n",
    "    }\n",
    "    insp = collections.namedtuple(\"insp\", insp.keys())(*insp.values())  \n",
    "\n",
    "    query = {'query': 'select * from dataset_365891 where muestra_ref_datos=\\'{amigo_id}\\''.format(amigo_id=data['amigo_id'])}\n",
    "    select = amigocloud.get('https://app.amigocloud.com/api/v1/projects/35567/sql', query)\n",
    "    datos = select['data']\n",
    "    tabla_datos = pd.DataFrame(datos)[['id', 'total_yemas', 'perforadas', 'enraizamiento', 'brotacion', 'muerta']]\n",
    "\n",
    "    total_yemas = tabla_datos['total_yemas'].sum()\n",
    "    total_perforadas = tabla_datos['perforadas'].sum()\n",
    "    total_enraizamiento = tabla_datos['enraizamiento'].sum()\n",
    "    total_brotacion = tabla_datos['brotacion'].sum()\n",
    "    total_muertas = tabla_datos['muerta'].sum()\n",
    "    total_inviables = total_perforadas + total_enraizamiento + total_brotacion + total_muertas\n",
    "    total_viables = total_yemas - total_inviables\n",
    "\n",
    "    porcen_perforadas = (total_perforadas / total_yemas)*100\n",
    "    porcen_enraizamiento = (total_enraizamiento / total_yemas)*100\n",
    "    porcen_brotacion = (total_brotacion / total_yemas)*100\n",
    "    porcen_muertas = (total_muertas / total_yemas)*100\n",
    "    porcen_inviables = (total_inviables / total_yemas)*100\n",
    "    porcen_viables = (total_viables / total_yemas)*100\n",
    "\n",
    "    res = {\n",
    "        'diat':total_perforadas,\n",
    "        'en':total_enraizamiento,\n",
    "        'bro':total_brotacion,\n",
    "        'mur':total_muertas,\n",
    "        'invi':total_inviables,\n",
    "        'via':total_viables,\n",
    "        'ana':total_yemas,\n",
    "        'diatp':porcen_perforadas,\n",
    "        'enp':porcen_enraizamiento,\n",
    "        'brop':porcen_brotacion,\n",
    "        'murp':porcen_muertas,\n",
    "        'invip':porcen_inviables,\n",
    "        'viap':porcen_viables\n",
    "    }\n",
    "    res = collections.namedtuple(\"res\", res.keys())(*res.values())\n",
    "    \n",
    "    doc = DocxTemplate(ruta_completa + \"/templates/tpl_rpt_calidad_semilla.docx\")\n",
    "    id_proyecto = '35567'\n",
    "    source_amigo_id = insp.amigo_id\n",
    "    inline_fotos = crear_lista_imagenes(proyecto_id, source_amigo_id, doc)\n",
    "    context = {'insp':insp, 'res':res, 'fotos':inline_fotos }\n",
    "    doc.render(context)\n",
    "    ca = insp.canhero.split(' / ')\n",
    "    file_name = ca[0] + '_CDSE_' + insp.fecha.replace('/', '-') + '_' + ca[1] + '_' + str(insp.id) + '_' + str(insp.lote)\n",
    "    doc.save(ruta_completa + '/informes/_' + file_name + '.docx')"
   ]
  },
  {
   "cell_type": "code",
   "execution_count": 136,
   "id": "cc5759af-e32b-4aed-bae1-90b82da4e216",
   "metadata": {},
   "outputs": [],
   "source": [
    "def generar_reportes(df):\n",
    "    for i, row in df.iterrows():\n",
    "        insp = {\n",
    "            'id':row['id'],\n",
    "            'fecha': convertir_formato_fecha(row['fecha']),\n",
    "            'tecnico':row['tecnico'],\n",
    "            'canhero':row['canhero'],\n",
    "            'propiedad':row['propiedad'].split('--')[0],\n",
    "            'lote':row['lote'],\n",
    "            'variedad':row['variedad'],\n",
    "            'ciclo':row['ciclo'],\n",
    "            'edad':row['edad'],\n",
    "            'area':row['area'],\n",
    "            'obs':row['obs'],\n",
    "            'amigo_id':row['amigo_id'],\n",
    "            't_yemas':row['total_yemas'],\n",
    "            't_perf':row['total_perf'],\n",
    "            'p_perf':row['total_perf'] / row['total_yemas'] * 100,\n",
    "            't_enrai':row['total_enrai'],\n",
    "            'p_enrai':row['total_enrai'] / row['total_yemas'] * 100,\n",
    "            't_brota':row['total_brota'],\n",
    "            'p_brota':row['total_brota'] / row['total_yemas'] * 100,\n",
    "            't_muer':row['total_muer'],\n",
    "            'p_muer':row['total_muer'] / row['total_yemas'] * 100,\n",
    "            't_inviables':row['total_inviables'],\n",
    "            'p_inviables':row['porcen_inviables'] * 100,\n",
    "            't_viables':row['total_viables'],\n",
    "            'p_viables':row['porcen_viables'] * 100,\n",
    "            'estado':row['estado'], \n",
    "        }\n",
    "        insp = collections.namedtuple(\"insp\", insp.keys())(*insp.values()) \n",
    "        doc = DocxTemplate(ruta_completa + \"/templates/tpl_rpt_calidad_semilla.docx\")\n",
    "        source_amigo_id = insp.amigo_id\n",
    "        inline_fotos = crear_lista_imagenes(proyecto_id, source_amigo_id, doc)\n",
    "        inline_firma = docxtpl.InlineImage(doc, image_descriptor=get_firma(insp.tecnico), width=Mm(60))\n",
    "        context = {'insp':insp, 'firma':inline_firma, 'fotos':inline_fotos }\n",
    "        doc.render(context)\n",
    "        ca = insp.canhero.split(' / ')\n",
    "        file_name = ca[0] + '_CDSE_' + insp.fecha.replace('/', '-') + '_' + ca[1] + '_' + str(insp.id)\n",
    "        doc.save(ruta_completa + '/informes/_' + file_name + '.docx')"
   ]
  },
  {
   "cell_type": "code",
   "execution_count": 133,
   "id": "5f655a45-c5ee-47d4-a4b1-df752d88684f",
   "metadata": {},
   "outputs": [
    {
     "data": {
      "text/html": [
       "<div>\n",
       "<style scoped>\n",
       "    .dataframe tbody tr th:only-of-type {\n",
       "        vertical-align: middle;\n",
       "    }\n",
       "\n",
       "    .dataframe tbody tr th {\n",
       "        vertical-align: top;\n",
       "    }\n",
       "\n",
       "    .dataframe thead th {\n",
       "        text-align: right;\n",
       "    }\n",
       "</style>\n",
       "<table border=\"1\" class=\"dataframe\">\n",
       "  <thead>\n",
       "    <tr style=\"text-align: right;\">\n",
       "      <th></th>\n",
       "      <th>id</th>\n",
       "      <th>fecha</th>\n",
       "      <th>tecnico</th>\n",
       "      <th>canhero</th>\n",
       "      <th>propiedad</th>\n",
       "      <th>lote</th>\n",
       "      <th>variedad</th>\n",
       "      <th>ciclo</th>\n",
       "      <th>edad</th>\n",
       "      <th>area</th>\n",
       "      <th>...</th>\n",
       "      <th>total_yemas</th>\n",
       "      <th>total_perf</th>\n",
       "      <th>total_enrai</th>\n",
       "      <th>total_brota</th>\n",
       "      <th>total_muer</th>\n",
       "      <th>total_inviables</th>\n",
       "      <th>porcen_inviables</th>\n",
       "      <th>total_viables</th>\n",
       "      <th>porcen_viables</th>\n",
       "      <th>estado</th>\n",
       "    </tr>\n",
       "  </thead>\n",
       "  <tbody>\n",
       "    <tr>\n",
       "      <th>0</th>\n",
       "      <td>200</td>\n",
       "      <td>2025-03-31 19:16:06+00:00</td>\n",
       "      <td>JUAN PABLO</td>\n",
       "      <td>1215 / AGUILERA RIVERO OLGA KARINA</td>\n",
       "      <td>1892 / SANTA ROSITA--SERRATE HUGO</td>\n",
       "      <td>L2</td>\n",
       "      <td>UCG 90-20</td>\n",
       "      <td>SOCA 1</td>\n",
       "      <td>9</td>\n",
       "      <td>2.8</td>\n",
       "      <td>...</td>\n",
       "      <td>300.0</td>\n",
       "      <td>15.0</td>\n",
       "      <td>6.0</td>\n",
       "      <td>0.0</td>\n",
       "      <td>0.0</td>\n",
       "      <td>21.0</td>\n",
       "      <td>0.07</td>\n",
       "      <td>279.0</td>\n",
       "      <td>0.93</td>\n",
       "      <td>EXCELENTE</td>\n",
       "    </tr>\n",
       "    <tr>\n",
       "      <th>1</th>\n",
       "      <td>204</td>\n",
       "      <td>2025-04-01 02:26:22+00:00</td>\n",
       "      <td>ROGELIO</td>\n",
       "      <td>10380 / PAICHUCAMA CACERES JOSE FELIX</td>\n",
       "      <td>None</td>\n",
       "      <td>None</td>\n",
       "      <td>UCG 90-20</td>\n",
       "      <td>SOCA 1</td>\n",
       "      <td>10</td>\n",
       "      <td>2.0</td>\n",
       "      <td>...</td>\n",
       "      <td>NaN</td>\n",
       "      <td>NaN</td>\n",
       "      <td>NaN</td>\n",
       "      <td>NaN</td>\n",
       "      <td>NaN</td>\n",
       "      <td>NaN</td>\n",
       "      <td>NaN</td>\n",
       "      <td>NaN</td>\n",
       "      <td>NaN</td>\n",
       "      <td>TERRIBLE</td>\n",
       "    </tr>\n",
       "  </tbody>\n",
       "</table>\n",
       "<p>2 rows × 25 columns</p>\n",
       "</div>"
      ],
      "text/plain": [
       "    id                      fecha     tecnico  \\\n",
       "0  200  2025-03-31 19:16:06+00:00  JUAN PABLO   \n",
       "1  204  2025-04-01 02:26:22+00:00     ROGELIO   \n",
       "\n",
       "                                 canhero                          propiedad  \\\n",
       "0     1215 / AGUILERA RIVERO OLGA KARINA  1892 / SANTA ROSITA--SERRATE HUGO   \n",
       "1  10380 / PAICHUCAMA CACERES JOSE FELIX                               None   \n",
       "\n",
       "   lote   variedad   ciclo  edad  area  ... total_yemas  total_perf  \\\n",
       "0    L2  UCG 90-20  SOCA 1     9   2.8  ...       300.0        15.0   \n",
       "1  None  UCG 90-20  SOCA 1    10   2.0  ...         NaN         NaN   \n",
       "\n",
       "  total_enrai total_brota total_muer  total_inviables  porcen_inviables  \\\n",
       "0         6.0         0.0        0.0             21.0              0.07   \n",
       "1         NaN         NaN        NaN              NaN               NaN   \n",
       "\n",
       "   total_viables  porcen_viables     estado  \n",
       "0          279.0            0.93  EXCELENTE  \n",
       "1            NaN             NaN   TERRIBLE  \n",
       "\n",
       "[2 rows x 25 columns]"
      ]
     },
     "execution_count": 133,
     "metadata": {},
     "output_type": "execute_result"
    }
   ],
   "source": [
    "new_registros = ejecutar_query_por_id(proyecto_id, buscar_reg_nuevos, 'get')\n",
    "df_new_data = pd.DataFrame(new_registros['data'])\n",
    "df_new_data"
   ]
  },
  {
   "cell_type": "code",
   "execution_count": 134,
   "id": "0cf4eabd",
   "metadata": {},
   "outputs": [],
   "source": [
    "df_validos = df_new_data[df_new_data['propiedad'].notna() & df_new_data['total_yemas'].notna()]\n",
    "df_invalidos = df_new_data[df_new_data['propiedad'].isna() | df_new_data['total_yemas'].isna()]"
   ]
  },
  {
   "cell_type": "code",
   "execution_count": 151,
   "id": "d1fb4a9c-7cc5-44c7-8e94-f94695b91949",
   "metadata": {},
   "outputs": [
    {
     "name": "stdout",
     "output_type": "stream",
     "text": [
      "buscando fotos\n",
      "{'query': \"select * from gallery_67001 where source_amigo_id='da5ebacbd6c74d3ba01b907548a19c23'\"}\n",
      "descargando fotos\n",
      "descargando una foto\n",
      "Existen registros con datos no validos\n"
     ]
    }
   ],
   "source": [
    "if len(df_validos) > 0:\n",
    "    generar_reportes(df_validos)\n",
    "else:\n",
    "    print('No existen registros validos nuevos')\n",
    "if len(df_invalidos) > 0:\n",
    "    print('Existen registros con datos no validos')"
   ]
  },
  {
   "cell_type": "code",
   "execution_count": null,
   "id": "cbda8318-6165-4f27-ae05-f392a3d28461",
   "metadata": {},
   "outputs": [],
   "source": []
  },
  {
   "cell_type": "code",
   "execution_count": null,
   "id": "85252caa-1451-4e05-9319-908ead731454",
   "metadata": {},
   "outputs": [],
   "source": []
  },
  {
   "cell_type": "code",
   "execution_count": null,
   "id": "5ff253a3-3da0-4c1b-8fcc-2dd7f550790b",
   "metadata": {},
   "outputs": [],
   "source": []
  },
  {
   "cell_type": "code",
   "execution_count": null,
   "id": "6d1df0cd-9844-4c22-b925-a903041aa1fb",
   "metadata": {},
   "outputs": [],
   "source": []
  },
  {
   "cell_type": "code",
   "execution_count": null,
   "id": "8619dae8-cf70-40a0-b1ed-675c2fce0dae",
   "metadata": {},
   "outputs": [],
   "source": []
  },
  {
   "cell_type": "code",
   "execution_count": null,
   "id": "66c95252-5c01-4a43-8bb6-70fad3d879ce",
   "metadata": {},
   "outputs": [],
   "source": []
  },
  {
   "cell_type": "code",
   "execution_count": null,
   "id": "2ae42bc9-d50c-4650-a35d-11cfc51860a5",
   "metadata": {},
   "outputs": [],
   "source": []
  },
  {
   "cell_type": "code",
   "execution_count": null,
   "id": "70fd25fc",
   "metadata": {},
   "outputs": [],
   "source": []
  },
  {
   "cell_type": "code",
   "execution_count": null,
   "id": "53d9be28-c364-41a6-998e-7724db2a0e5f",
   "metadata": {},
   "outputs": [],
   "source": []
  },
  {
   "cell_type": "code",
   "execution_count": null,
   "id": "bdacab22-7644-4fe4-912c-6521e0ff6ad9",
   "metadata": {},
   "outputs": [],
   "source": []
  },
  {
   "cell_type": "code",
   "execution_count": null,
   "id": "3662add1-e53d-44b0-9324-d241c9e8dbee",
   "metadata": {},
   "outputs": [],
   "source": []
  },
  {
   "cell_type": "code",
   "execution_count": null,
   "id": "8761fe65-9872-4a9f-99d2-894453ddeaf0",
   "metadata": {},
   "outputs": [],
   "source": [
    "fecha_insp = '2025-02-18'\n",
    "query = {'query': 'select id, canhero, propiedad, lote, variedad from dataset_365887 where fecha_registro::date=\\'{fecha}\\''.format(fecha=fecha_insp)}\n",
    "select = amigocloud.get('https://app.amigocloud.com/api/v1/projects/35567/sql', query)\n",
    "data = select['data']\n",
    "tabla = pd.DataFrame(data)\n",
    "tabla"
   ]
  },
  {
   "cell_type": "code",
   "execution_count": null,
   "id": "198ae1a4-5105-453f-92d4-f5595f5ec67a",
   "metadata": {},
   "outputs": [],
   "source": []
  },
  {
   "cell_type": "code",
   "execution_count": null,
   "id": "9d5c90ac-f1f9-4eed-8c7c-cb140ba06948",
   "metadata": {},
   "outputs": [],
   "source": []
  },
  {
   "cell_type": "code",
   "execution_count": null,
   "id": "6e7e96b4-e494-4d02-8f54-cfee2e1d1692",
   "metadata": {},
   "outputs": [],
   "source": []
  },
  {
   "cell_type": "code",
   "execution_count": null,
   "id": "33e1468d-a873-4253-a348-ef49b40851af",
   "metadata": {},
   "outputs": [],
   "source": []
  },
  {
   "cell_type": "code",
   "execution_count": null,
   "id": "fe7fdc57-983a-4423-aa1e-0a3e3a80d38e",
   "metadata": {},
   "outputs": [],
   "source": []
  },
  {
   "cell_type": "code",
   "execution_count": null,
   "id": "67bd7880-3d44-45ff-9139-dd28ebe778cb",
   "metadata": {},
   "outputs": [],
   "source": []
  },
  {
   "cell_type": "code",
   "execution_count": null,
   "id": "d1fb2f89-5a73-42c3-b3d6-f3f7857aa2c7",
   "metadata": {},
   "outputs": [],
   "source": []
  },
  {
   "cell_type": "code",
   "execution_count": 14,
   "id": "ad7d508d",
   "metadata": {},
   "outputs": [
    {
     "data": {
      "text/html": [
       "<div>\n",
       "<style scoped>\n",
       "    .dataframe tbody tr th:only-of-type {\n",
       "        vertical-align: middle;\n",
       "    }\n",
       "\n",
       "    .dataframe tbody tr th {\n",
       "        vertical-align: top;\n",
       "    }\n",
       "\n",
       "    .dataframe thead th {\n",
       "        text-align: right;\n",
       "    }\n",
       "</style>\n",
       "<table border=\"1\" class=\"dataframe\">\n",
       "  <thead>\n",
       "    <tr style=\"text-align: right;\">\n",
       "      <th></th>\n",
       "      <th>id</th>\n",
       "      <th>canhero</th>\n",
       "      <th>propiedad</th>\n",
       "      <th>lote</th>\n",
       "      <th>variedad</th>\n",
       "    </tr>\n",
       "  </thead>\n",
       "  <tbody>\n",
       "    <tr>\n",
       "      <th>0</th>\n",
       "      <td>130</td>\n",
       "      <td>13067 / SAUCEDO CERRUTI SONIA</td>\n",
       "      <td>2076 / NAICO--SAUCEDO SONIA</td>\n",
       "      <td>B12</td>\n",
       "      <td>UCG 90-20</td>\n",
       "    </tr>\n",
       "    <tr>\n",
       "      <th>1</th>\n",
       "      <td>131</td>\n",
       "      <td>18086 / SUAREZ CUELLAR JENNY SONIA</td>\n",
       "      <td>550 / LA IMPROVISADA--SUAREZ</td>\n",
       "      <td>L12</td>\n",
       "      <td>CITTCA 0563</td>\n",
       "    </tr>\n",
       "  </tbody>\n",
       "</table>\n",
       "</div>"
      ],
      "text/plain": [
       "    id                             canhero                     propiedad lote  \\\n",
       "0  130       13067 / SAUCEDO CERRUTI SONIA   2076 / NAICO--SAUCEDO SONIA  B12   \n",
       "1  131  18086 / SUAREZ CUELLAR JENNY SONIA  550 / LA IMPROVISADA--SUAREZ  L12   \n",
       "\n",
       "      variedad  \n",
       "0    UCG 90-20  \n",
       "1  CITTCA 0563  "
      ]
     },
     "execution_count": 14,
     "metadata": {},
     "output_type": "execute_result"
    }
   ],
   "source": [
    "fecha_insp = '2025-02-18'\n",
    "query = {'query': 'select id, canhero, propiedad, lote, variedad from dataset_365887 where fecha_registro::date=\\'{fecha}\\''.format(fecha=fecha_insp)}\n",
    "select = amigocloud.get('https://app.amigocloud.com/api/v1/projects/35567/sql', query)\n",
    "data = select['data']\n",
    "tabla = pd.DataFrame(data)\n",
    "tabla"
   ]
  },
  {
   "cell_type": "code",
   "execution_count": null,
   "id": "0a6da977",
   "metadata": {},
   "outputs": [],
   "source": []
  },
  {
   "cell_type": "code",
   "execution_count": 15,
   "id": "92f6902e",
   "metadata": {},
   "outputs": [
    {
     "data": {
      "text/plain": [
       "[130, 131]"
      ]
     },
     "execution_count": 15,
     "metadata": {},
     "output_type": "execute_result"
    }
   ],
   "source": [
    "ids = list(tabla['id'])\n",
    "ids"
   ]
  },
  {
   "cell_type": "code",
   "execution_count": 16,
   "id": "d6b2b654",
   "metadata": {},
   "outputs": [
    {
     "name": "stdout",
     "output_type": "stream",
     "text": [
      "{'fecha_registro': '18/02/2025', 'id': 130, 'estado': 'APROBADO', 'ubicacion': '0101000020E61000007F5F7EDB28A74FC08A37F3161F4031C0', 'tecnico_responsable': 'JUAN PABLO', 'canhero': '13067 / SAUCEDO CERRUTI SONIA', 'lote': 'B12', 'observaciones': '', 'propiedad': '2076 / NAICO--SAUCEDO SONIA', 'variedad': 'UCG 90-20', 'ciclo': 'HOJA', 'area': 4.8, 'edad': 8, 'usuario': 'Juan Pablo Jaldin Duran', 'amigo_id': '50A2AFB7A10B486C9D542B4EC8EEFCF7', 'procesado': True, 'count': 1}\n",
      "buscando fotos\n",
      "{'query': \"select * from gallery_67001 where source_amigo_id='50A2AFB7A10B486C9D542B4EC8EEFCF7'\"}\n",
      "descargando fotos\n",
      "130\n",
      "{'fecha_registro': '18/02/2025', 'id': 131, 'estado': 'APROBADO', 'ubicacion': '0101000020E61000008A2DF30CD0984FC0CB08B99C5C4F31C0', 'tecnico_responsable': 'MILTON', 'canhero': '18086 / SUAREZ CUELLAR JENNY SONIA', 'lote': 'L12', 'observaciones': None, 'propiedad': '550 / LA IMPROVISADA--SUAREZ', 'variedad': 'CITTCA 0563', 'ciclo': 'SOCA 1', 'area': 13.4, 'edad': 10, 'usuario': '', 'amigo_id': '8f8ef0cb34a14c75964a149ceaf46145', 'procesado': True, 'count': 1}\n",
      "buscando fotos\n",
      "{'query': \"select * from gallery_67001 where source_amigo_id='8f8ef0cb34a14c75964a149ceaf46145'\"}\n",
      "descargando fotos\n",
      "descargando una foto\n",
      "descargando una foto\n",
      "131\n"
     ]
    }
   ],
   "source": [
    "for i in ids:\n",
    "    generar_reporte(i)\n",
    "    print(i)"
   ]
  },
  {
   "cell_type": "code",
   "execution_count": null,
   "id": "6ae59258-115a-4abb-b315-65fb6c203e46",
   "metadata": {},
   "outputs": [],
   "source": []
  },
  {
   "cell_type": "code",
   "execution_count": null,
   "id": "17ee30cf-f7c5-4ce4-9be0-c644dcb0664f",
   "metadata": {},
   "outputs": [],
   "source": []
  },
  {
   "cell_type": "code",
   "execution_count": null,
   "id": "8ff0b96a-d36f-45c1-b474-1c9b9f6f6bc6",
   "metadata": {},
   "outputs": [],
   "source": []
  },
  {
   "cell_type": "code",
   "execution_count": null,
   "id": "1dccc546-0438-4229-baa9-7669b00556f8",
   "metadata": {},
   "outputs": [],
   "source": []
  },
  {
   "cell_type": "code",
   "execution_count": null,
   "id": "dc979822-9b06-4cb7-8f08-693e032285d7",
   "metadata": {},
   "outputs": [],
   "source": []
  }
 ],
 "metadata": {
  "kernelspec": {
   "display_name": "Python 3 (ipykernel)",
   "language": "python",
   "name": "python3"
  },
  "language_info": {
   "codemirror_mode": {
    "name": "ipython",
    "version": 3
   },
   "file_extension": ".py",
   "mimetype": "text/x-python",
   "name": "python",
   "nbconvert_exporter": "python",
   "pygments_lexer": "ipython3",
   "version": "3.10.13"
  }
 },
 "nbformat": 4,
 "nbformat_minor": 5
}
