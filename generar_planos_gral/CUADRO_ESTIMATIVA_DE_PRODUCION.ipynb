{
 "cells": [
  {
   "cell_type": "code",
   "execution_count": 1,
   "id": "765a2b08-985c-44ff-b3f3-974381b33b46",
   "metadata": {},
   "outputs": [],
   "source": [
    "# TOMA UN EXCEL CON LOS DATOS DE INTERSECCION DE ESTIMATIVAS GENERALES Y LAS EXPORTA COMO IMAGENES POR PROPIEDAD\n"
   ]
  },
  {
   "cell_type": "code",
   "execution_count": 21,
   "id": "e74161d7-30ae-4fb5-a86d-ec6bac980658",
   "metadata": {},
   "outputs": [],
   "source": [
    "import pandas as pd\n",
    "\n",
    "import tkinter as tk\n",
    "from tkinter import filedialog as fd\n",
    "import dataframe_image as dfi"
   ]
  },
  {
   "cell_type": "code",
   "execution_count": 22,
   "id": "ef742265-a75f-455c-acf3-d04cb0e36e6d",
   "metadata": {},
   "outputs": [],
   "source": [
    "# open file dialog\n",
    "root = tk.Tk()\n",
    "root.attributes('-topmost', True)\n",
    "root.iconify()\n",
    "file_name = fd.askopenfilename(parent=root, filetypes=[(\".xlsx\", \".xlsx\")])\n",
    "root.destroy()"
   ]
  },
  {
   "cell_type": "code",
   "execution_count": 116,
   "id": "06b44977-f743-417c-8571-d5a1f1a7fb5b",
   "metadata": {},
   "outputs": [],
   "source": [
    "file_name = 'G:\\BISMARK\\_TEMP\\data_tch.xlsx'"
   ]
  },
  {
   "cell_type": "code",
   "execution_count": 117,
   "id": "3b9960ef-fea6-4590-9721-207a08700587",
   "metadata": {},
   "outputs": [],
   "source": [
    "data = pd.read_excel(file_name)"
   ]
  },
  {
   "cell_type": "code",
   "execution_count": 118,
   "id": "3dc1a5e9-fd4d-4836-acb7-f1d193f14954",
   "metadata": {},
   "outputs": [
    {
     "data": {
      "text/html": [
       "<div>\n",
       "<style scoped>\n",
       "    .dataframe tbody tr th:only-of-type {\n",
       "        vertical-align: middle;\n",
       "    }\n",
       "\n",
       "    .dataframe tbody tr th {\n",
       "        vertical-align: top;\n",
       "    }\n",
       "\n",
       "    .dataframe thead th {\n",
       "        text-align: right;\n",
       "    }\n",
       "</style>\n",
       "<table border=\"1\" class=\"dataframe\">\n",
       "  <thead>\n",
       "    <tr style=\"text-align: right;\">\n",
       "      <th></th>\n",
       "      <th>cod_prop</th>\n",
       "      <th>nom_prop</th>\n",
       "      <th>tch</th>\n",
       "      <th>categoria</th>\n",
       "      <th>area</th>\n",
       "      <th>produccion</th>\n",
       "    </tr>\n",
       "  </thead>\n",
       "  <tbody>\n",
       "    <tr>\n",
       "      <th>0</th>\n",
       "      <td>1</td>\n",
       "      <td>SONIMA</td>\n",
       "      <td>0</td>\n",
       "      <td>1</td>\n",
       "      <td>3.732356</td>\n",
       "      <td>0.000000</td>\n",
       "    </tr>\n",
       "    <tr>\n",
       "      <th>1</th>\n",
       "      <td>1</td>\n",
       "      <td>SONIMA</td>\n",
       "      <td>20</td>\n",
       "      <td>2</td>\n",
       "      <td>9.361265</td>\n",
       "      <td>187.225300</td>\n",
       "    </tr>\n",
       "    <tr>\n",
       "      <th>2</th>\n",
       "      <td>1</td>\n",
       "      <td>SONIMA</td>\n",
       "      <td>30</td>\n",
       "      <td>3</td>\n",
       "      <td>15.908241</td>\n",
       "      <td>477.247237</td>\n",
       "    </tr>\n",
       "  </tbody>\n",
       "</table>\n",
       "</div>"
      ],
      "text/plain": [
       "   cod_prop nom_prop  tch  categoria       area  produccion\n",
       "0         1   SONIMA    0          1   3.732356    0.000000\n",
       "1         1   SONIMA   20          2   9.361265  187.225300\n",
       "2         1   SONIMA   30          3  15.908241  477.247237"
      ]
     },
     "execution_count": 118,
     "metadata": {},
     "output_type": "execute_result"
    }
   ],
   "source": [
    "data.head(3)"
   ]
  },
  {
   "cell_type": "code",
   "execution_count": 119,
   "id": "0564983f-c1a0-4b59-9b06-aeb8f643d398",
   "metadata": {},
   "outputs": [
    {
     "data": {
      "text/html": [
       "<div>\n",
       "<style scoped>\n",
       "    .dataframe tbody tr th:only-of-type {\n",
       "        vertical-align: middle;\n",
       "    }\n",
       "\n",
       "    .dataframe tbody tr th {\n",
       "        vertical-align: top;\n",
       "    }\n",
       "\n",
       "    .dataframe thead th {\n",
       "        text-align: right;\n",
       "    }\n",
       "</style>\n",
       "<table border=\"1\" class=\"dataframe\">\n",
       "  <thead>\n",
       "    <tr style=\"text-align: right;\">\n",
       "      <th></th>\n",
       "      <th>cod_prop</th>\n",
       "      <th>nom_prop</th>\n",
       "      <th>tch</th>\n",
       "      <th>categoria</th>\n",
       "      <th>area</th>\n",
       "      <th>produccion</th>\n",
       "    </tr>\n",
       "  </thead>\n",
       "  <tbody>\n",
       "    <tr>\n",
       "      <th>0</th>\n",
       "      <td>1</td>\n",
       "      <td>SONIMA</td>\n",
       "      <td>0</td>\n",
       "      <td>1</td>\n",
       "      <td>3.732356</td>\n",
       "      <td>0.000000</td>\n",
       "    </tr>\n",
       "    <tr>\n",
       "      <th>1</th>\n",
       "      <td>1</td>\n",
       "      <td>SONIMA</td>\n",
       "      <td>20</td>\n",
       "      <td>2</td>\n",
       "      <td>9.361265</td>\n",
       "      <td>187.225300</td>\n",
       "    </tr>\n",
       "    <tr>\n",
       "      <th>2</th>\n",
       "      <td>1</td>\n",
       "      <td>SONIMA</td>\n",
       "      <td>30</td>\n",
       "      <td>3</td>\n",
       "      <td>15.908241</td>\n",
       "      <td>477.247237</td>\n",
       "    </tr>\n",
       "  </tbody>\n",
       "</table>\n",
       "</div>"
      ],
      "text/plain": [
       "   cod_prop nom_prop  tch  categoria       area  produccion\n",
       "0         1   SONIMA    0          1   3.732356    0.000000\n",
       "1         1   SONIMA   20          2   9.361265  187.225300\n",
       "2         1   SONIMA   30          3  15.908241  477.247237"
      ]
     },
     "execution_count": 119,
     "metadata": {},
     "output_type": "execute_result"
    }
   ],
   "source": [
    "data.head(3)"
   ]
  },
  {
   "cell_type": "code",
   "execution_count": 120,
   "id": "4cccf306-1967-4ac8-97e5-0a9bd1b87a4b",
   "metadata": {},
   "outputs": [
    {
     "name": "stdout",
     "output_type": "stream",
     "text": [
      "[1, 2, 3, 4, 5, 6, 8, 9, 10, 11, 12, 13, 14, 15, 16, 17, 18, 19, 20, 21, 22, 23, 25, 26, 27, 28, 29, 30, 31, 32, 33, 36, 38, 39, 40, 42, 43, 44, 45, 46, 47, 48, 49, 50, 53, 54, 55, 57, 61, 62, 63, 66, 67, 68, 71, 72, 74, 76, 78, 79, 80, 83, 84, 85, 89, 92, 93, 94, 96, 98, 100, 103, 104, 105, 106, 109, 110, 111, 112, 113, 114, 115, 116, 117, 118, 119, 122, 123, 125, 126, 127, 128, 129, 132, 133, 135, 136, 137, 139, 140, 141, 142, 145, 146, 147, 149, 150, 155, 156, 159, 161, 162, 164, 168, 171, 172, 173, 174, 176, 178, 179, 182, 183, 185, 186, 187, 188, 189, 195, 197, 198, 201, 205, 206, 209, 211, 212, 213, 216, 217, 218, 219, 220, 221, 222, 225, 226, 227, 228, 229, 230, 231, 233, 234, 235, 236, 237, 238, 239, 240, 241, 242, 244, 246, 247, 249, 250, 251, 253, 256, 257, 258, 259, 260, 261, 263, 264, 265, 267, 268, 270, 271, 272, 273, 274, 275, 276, 277, 278, 279, 280, 281, 282, 283, 284, 285, 286, 287, 288, 289, 290, 291, 292, 293, 294, 295, 296, 297, 298, 299, 300, 301, 302, 303, 304, 305, 306, 307, 308, 309, 310, 311, 313, 318, 320, 324, 325, 326, 327, 328, 329, 330, 331, 332, 333, 341, 342, 343, 344, 345, 348, 349, 350, 355, 357, 358, 359, 360, 361, 365, 367, 368, 369, 370, 371, 374, 375, 376, 377, 378, 384, 386, 389, 391, 392, 395, 396, 398, 399, 400, 404, 405, 406, 407, 408, 411, 414, 415, 416, 417, 418, 419, 423, 424, 426, 429, 433, 434, 435, 437, 439, 440, 441, 442, 444, 445, 447, 450, 454, 458, 459, 466, 468, 469, 471, 472, 473, 476, 478, 483, 484, 485, 486, 487, 488, 489, 490, 491, 493, 494, 495, 496, 499, 500, 501, 502, 503, 504, 505, 507, 509, 510, 511, 512, 513, 514, 515, 516, 517, 519, 520, 521, 522, 523, 524, 525, 526, 527, 529, 531, 532, 533, 534, 535, 536, 537, 538, 539, 540, 541, 542, 544, 545, 546, 547, 550, 551, 552, 554, 555, 556, 558, 559, 560, 565, 566, 568, 570, 571, 572, 573, 574, 575, 576, 578, 579, 580, 582, 583, 585, 586, 588, 589, 590, 591, 592, 593, 594, 596, 597, 598, 601, 602, 603, 604, 605, 606, 608, 611, 612, 613, 614, 615, 616, 617, 618, 619, 620, 621, 622, 623, 624, 625, 627, 628, 629, 630, 631, 632, 633, 634, 636, 637, 638, 639, 640, 641, 642, 643, 645, 646, 647, 648, 649, 650, 651, 652, 653, 654, 655, 656, 657, 658, 659, 660, 661, 663, 664, 665, 666, 667, 668, 669, 670, 671, 672, 673, 674, 675, 676, 677, 678, 679, 681, 682, 683, 685, 687, 690, 691, 693, 694, 695, 696, 697, 699, 700, 702, 703, 704, 705, 706, 707, 708, 709, 710, 711, 714, 715, 716, 717, 718, 719, 720, 721, 722, 723, 724, 725, 726, 727, 728, 729, 730, 732, 733, 734, 737, 739, 741, 742, 744, 745, 746, 747, 749, 750, 751, 752, 753, 755, 756, 757, 758, 759, 761, 762, 763, 764, 765, 766, 767, 768, 769, 770, 771, 772, 773, 774, 775, 776, 777, 778, 779, 780, 781, 782, 783, 784, 785, 787, 788, 789, 790, 791, 793, 794, 795, 796, 797, 798, 799, 800, 801, 802, 803, 804, 805, 806, 807, 808, 809, 810, 811, 812, 813, 814, 815, 816, 817, 818, 819, 820, 823, 824, 825, 827, 828, 829, 830, 831, 832, 833, 834, 835, 838, 839, 840, 841, 842, 843, 844, 845, 846, 848, 849, 851, 852, 853, 854, 855, 856, 858, 859, 860, 861, 862, 863, 864, 865, 866, 867, 868, 869, 870, 871, 872, 873, 874, 875, 877, 878, 879, 880, 881, 882, 883, 886, 887, 888, 889, 890, 891, 893, 894, 895, 896, 897, 898, 899, 900, 901, 902, 903, 904, 905, 906, 907, 908, 909, 910, 912, 913, 914, 915, 916, 918, 919, 921, 922, 923, 924, 925, 926, 927, 928, 929, 930, 932, 934, 935, 936, 937, 938, 939, 940, 941, 942, 943, 944, 945, 947, 949, 950, 951, 952, 953, 954, 956, 957, 958, 961, 962, 963, 964, 966, 968, 969, 970, 971, 972, 973, 974, 975, 976, 978, 979, 980, 981, 982, 984, 986, 988, 989, 990, 991, 992, 993, 994, 995, 996, 999, 1000, 1001, 1002, 1005, 1006, 1009, 1011, 1013, 1014, 1015, 1018, 1020, 1021, 1022, 1023, 1024, 1025, 1026, 1028, 1033, 1035, 1036, 1038, 1039, 1040, 1041, 1042, 1043, 1044, 1045, 1047, 1049, 1050, 1051, 1052, 1053, 1054, 1057, 1064, 1065, 1066, 1067, 1069, 1070, 1072, 1073, 1074, 1075, 1076, 1077, 1080, 1081, 1082, 1083, 1084, 1085, 1086, 1087, 1088, 1089, 1090, 1091, 1092, 1093, 1094, 1095, 1096, 1097, 1099, 1100, 1102, 1104, 1106, 1107, 1108, 1109, 1111, 1113, 1114, 1115, 1116, 1117, 1118, 1119, 1120, 1121, 1122, 1123, 1124, 1125, 1126, 1128, 1131, 1132, 1136, 1137, 1139, 1140, 1141, 1142, 1144, 1145, 1146, 1147, 1148, 1149, 1151, 1152, 1153, 1154, 1156, 1157, 1158, 1159, 1160, 1161, 1162, 1163, 1165, 1166, 1168, 1170, 1171, 1172, 1173, 1174, 1175, 1176, 1177, 1178, 1179, 1180, 1181, 1182, 1183, 1184, 1185, 1186, 1187, 1189, 1190, 1193, 1195, 1197, 1198, 1199, 1200, 1201, 1203, 1204, 1205, 1206, 1207, 1208, 1209, 1210, 1211, 1212, 1213, 1214, 1215, 1216, 1219, 1220, 1221, 1222, 1225, 1227, 1228, 1229, 1231, 1232, 1233, 1234, 1235, 1237, 1238, 1240, 1242, 1243, 1244, 1247, 1248, 1249, 1250, 1251, 1252, 1254, 1255, 1256, 1257, 1258, 1259, 1260, 1262, 1263, 1264, 1266, 1267, 1268, 1269, 1273, 1274, 1275, 1276, 1277, 1278, 1279, 1280, 1281, 1282, 1283, 1284, 1285, 1286, 1287, 1289, 1290, 1291, 1292, 1294, 1295, 1297, 1299, 1300, 1301, 1302, 1303, 1304, 1305, 1306, 1307, 1308, 1309, 1311, 1313, 1314, 1320, 1321, 1322, 1323, 1324, 1325, 1326, 1327, 1330, 1331, 1333, 1335, 1336, 1337, 1338, 1339, 1342, 1343, 1344, 1345, 1346, 1347, 1349, 1350, 1351, 1352, 1353, 1354, 1355, 1356, 1357, 1358, 1359, 1362, 1364, 1365, 1366, 1367, 1368, 1369, 1370, 1371, 1372, 1373, 1374, 1375, 1376, 1377, 1379, 1380, 1381, 1382, 1384, 1385, 1386, 1388, 1389, 1392, 1393, 1394, 1395, 1397, 1399, 1401, 1402, 1403, 1404, 1405, 1406, 1407, 1409, 1410, 1411, 1412, 1413, 1414, 1416, 1417, 1418, 1419, 1420, 1421, 1422, 1423, 1424, 1425, 1426, 1428, 1431, 1432, 1433, 1434, 1436, 1440, 1441, 1442, 1443, 1445, 1446, 1447, 1450, 1451, 1452, 1453, 1454, 1456, 1457, 1458, 1460, 1461, 1464, 1465, 1466, 1467, 1469, 1470, 1472, 1473, 1474, 1475, 1476, 1478, 1479, 1480, 1481, 1482, 1484, 1488, 1489, 1491, 1494, 1495, 1497, 1498, 1500, 1502, 1503, 1505, 1507, 1508, 1509, 1510, 1511, 1512, 1513, 1516, 1518, 1520, 1522, 1523, 1524, 1525, 1526, 1528, 1531, 1535, 1536, 1538, 1539, 1540, 1541, 1542, 1544, 1545, 1546, 1547, 1548, 1549, 1550, 1553, 1554, 1556, 1557, 1558, 1559, 1561, 1562, 1563, 1564, 1566, 1567, 1568, 1569, 1570, 1572, 1573, 1574, 1577, 1578, 1579, 1580, 1582, 1583, 1584, 1585, 1586, 1587, 1588, 1591, 1592, 1593, 1594, 1596, 1597, 1598, 1600, 1601, 1602, 1604, 1605, 1606, 1607, 1608, 1609, 1610, 1611, 1612, 1613, 1615, 1616, 1617, 1618, 1619, 1620, 1621, 1622, 1623, 1627, 1628, 1629, 1630, 1631, 1633, 1637, 1638, 1639, 1640, 1641, 1642, 1643, 1644, 1645, 1646, 1648, 1649, 1650, 1651, 1652, 1653, 1654, 1655, 1656, 1658, 1659, 1661, 1662, 1663, 1665, 1667, 1668, 1669, 1670, 1671, 1672, 1673, 1674, 1675, 1676, 1677, 1682, 1683, 1684, 1685, 1686, 1687, 1688, 1689, 1690, 1693, 1694, 1695, 1696, 1699, 1700, 1701, 1702, 1703, 1704, 1705, 1706, 1707, 1708, 1709, 1710, 1711, 1712, 1714, 1716, 1718, 1719, 1720, 1721, 1722, 1723, 1724, 1726, 1730, 1731, 1732, 1733, 1735, 1736, 1737, 1738, 1739, 1740, 1741, 1742, 1744, 1745, 1746, 1748, 1750, 1755, 1756, 1757, 1758, 1759, 1760, 1761, 1762, 1763, 1764, 1765, 1766, 1767, 1768, 1769, 1770, 1771, 1772, 1773, 1774, 1775, 1776, 1777, 1778, 1780, 1781, 1782, 1783, 1786, 1787, 1788, 1789, 1790, 1791, 1792, 1793, 1794, 1795, 1796, 1797, 1798, 1799, 1800, 1801, 1802, 1805, 1806, 1807, 1808, 1811, 1812, 1815, 1816, 1817, 1818, 1819, 1820, 1823, 1824, 1826, 1828, 1829, 1830, 1831, 1832, 1833, 1844, 1845, 1846, 1847, 1848, 1849, 1850, 1851, 1852, 1853, 1854, 1855, 1856, 1857, 1859, 1860, 1861, 1862, 1863, 1864, 1865, 1866, 1867, 1868, 1869, 1870, 1871, 1872, 1873, 1874, 1875, 1876, 1878, 1879, 1880, 1881, 1882, 1883, 1884, 1885, 1886, 1887, 1888, 1889, 1890, 1891, 1892, 1893, 1894, 1895, 1896, 1898, 1899, 1900, 1901, 1902, 1903, 1904, 1905, 1906, 1907, 1908, 1909, 1910, 1911, 1912, 1915, 1916, 1917, 1918, 1919, 1920, 1921, 1922, 1924, 1925, 1926, 1927, 1928, 1929, 1930, 1931, 1932, 1933, 1934, 1935, 1936, 1937, 1938, 1940, 1941, 1944, 1946, 1947, 1948, 1949, 1950, 1951, 1953, 1955, 1957, 1960, 1961, 1962, 1963, 1964, 1965, 1966, 1967, 1968, 1969, 1970, 1971, 1972, 1973, 1974, 1975, 1976, 1977, 1978, 1979, 1980, 1981, 1982, 1983, 1984, 1985, 1986, 1987, 1988, 1989, 1990, 1991, 1992, 1993, 1994, 1995, 1996, 1997, 1998, 1999, 2000, 2001, 2002, 2003, 2004, 2005, 2006, 2007, 2008, 2009, 2010, 2011, 2012, 2013, 2014, 2015, 2016, 2017, 2018, 2019, 2020, 2021, 2022, 2023, 2024, 2025, 2026, 2027, 2028, 2029, 2030, 2031, 2032, 2033, 2034, 2035, 2036, 2037, 2038, 2039, 2040, 2041, 2042, 2043, 2044, 2045, 2046, 2047, 2048, 2049, 2050, 2051, 2052, 2053, 2054, 2055, 2056, 2057, 2058, 2059, 2060, 2061, 2062, 2063, 2065, 2066, 2067, 2068, 2069, 2070, 2071, 2072, 2073, 2074, 2075, 2076, 2077, 2080, 2081, 2082, 2083, 2084, 2085, 2086, 2087, 2088, 2089, 2090, 2091, 2092, 2093, 2094, 2095, 2096, 2097, 2098, 2099]\n"
     ]
    }
   ],
   "source": [
    "lista_cod_props = data['cod_prop']\n",
    "lista_cod_props = list(set(list(lista_cod_props)))\n",
    "print(lista_cod_props)"
   ]
  },
  {
   "cell_type": "code",
   "execution_count": 121,
   "id": "a3717ca3-8251-40b3-878a-be27b6f06c56",
   "metadata": {},
   "outputs": [
    {
     "data": {
      "text/plain": [
       "1606"
      ]
     },
     "execution_count": 121,
     "metadata": {},
     "output_type": "execute_result"
    }
   ],
   "source": [
    "len(lista_cod_props)"
   ]
  },
  {
   "cell_type": "code",
   "execution_count": 122,
   "id": "4f164d27-99a1-4388-8ec0-96ffbb887915",
   "metadata": {},
   "outputs": [
    {
     "data": {
      "text/plain": [
       "Index(['cod_prop', 'nom_prop', 'tch', 'categoria', 'area', 'produccion'], dtype='object')"
      ]
     },
     "execution_count": 122,
     "metadata": {},
     "output_type": "execute_result"
    }
   ],
   "source": [
    "data.columns"
   ]
  },
  {
   "cell_type": "code",
   "execution_count": 123,
   "id": "b37a57ee-a9f1-46cf-9d7f-0edee11307f1",
   "metadata": {},
   "outputs": [],
   "source": [
    "categoria = ['Nulo','Muy Bajo','Bajo Medio','Bajo','Medio','Medio Alto','Alto','Muy Alto']\n",
    "colores = ['','','','','','','','']\n",
    "\n",
    "def styling_specific_cell(x,row_idx,col_idx):\n",
    "    color = ['background-color: #ff2200;',\n",
    "             'background-color: #ff6f00;',\n",
    "             'background-color: #ffa600;',\n",
    "             'background-color: #ffe500;',\n",
    "             'background-color: #d6e600;',\n",
    "             'background-color: #8bb500;',\n",
    "             'background-color: #498a00;',\n",
    "             'background-color: #006100;']\n",
    "    df_styler = pd.DataFrame('', index=x.index, columns=x.columns)\n",
    "    df_styler.iloc[row_idx, col_idx] =  color\n",
    "    return df_styler\n",
    "\n",
    "def set_blod_categori(x,row_idx,col_idx):\n",
    "    color = ['font-weight:bold;',\n",
    "             'font-weight:bold;',\n",
    "             'font-weight:bold;',\n",
    "             'font-weight:bold;',\n",
    "             'font-weight:bold;',\n",
    "             'font-weight:bold;',\n",
    "             'font-weight:bold;',\n",
    "             'font-weight:bold;',\n",
    "             'font-weight:bold;']\n",
    "    df_styler = pd.DataFrame('', index=x.index, columns=x.columns)\n",
    "    df_styler.iloc[row_idx, col_idx] =  color\n",
    "    return df_styler\n",
    "\n",
    "def set_blod_row(x,row_idx,col_idx):\n",
    "    color = 'font-weight:bold; background-color: #9BC2E6; color: black;'\n",
    "    df_styler = pd.DataFrame('', index=x.index, columns=x.columns)\n",
    "    df_styler.iloc[row_idx, col_idx] =  color\n",
    "    return df_styler\n",
    "\n",
    "headers = {\n",
    "    'selector': 'tr:hover',\n",
    "    'props': [('background-color', '#9BC2E6'), ('color','black'), ('border','solid 1px')]\n",
    "}"
   ]
  },
  {
   "cell_type": "code",
   "execution_count": 124,
   "id": "5d346388-6177-4c83-a4f0-4ba524d52420",
   "metadata": {},
   "outputs": [],
   "source": [
    "def complete_index(df):\n",
    "    index_missing = set(range(1, 9)) - set(df.index)\n",
    "    print(index_missing)\n",
    "    for i in index_missing:\n",
    "        df.loc[i] = [0]\n",
    "    df = df.sort_index()\n",
    "    return df"
   ]
  },
  {
   "cell_type": "code",
   "execution_count": 125,
   "id": "4f04b99a-48d0-413c-8fa4-9ece8e813a26",
   "metadata": {},
   "outputs": [
    {
     "data": {
      "text/plain": [
       "Index(['cod_prop', 'nom_prop', 'tch', 'categoria', 'area', 'produccion'], dtype='object')"
      ]
     },
     "execution_count": 125,
     "metadata": {},
     "output_type": "execute_result"
    }
   ],
   "source": [
    "data.columns"
   ]
  },
  {
   "cell_type": "code",
   "execution_count": 126,
   "id": "2783ec90-92e1-4297-b5a2-16dd8abdce40",
   "metadata": {},
   "outputs": [
    {
     "data": {
      "text/html": [
       "<div>\n",
       "<style scoped>\n",
       "    .dataframe tbody tr th:only-of-type {\n",
       "        vertical-align: middle;\n",
       "    }\n",
       "\n",
       "    .dataframe tbody tr th {\n",
       "        vertical-align: top;\n",
       "    }\n",
       "\n",
       "    .dataframe thead th {\n",
       "        text-align: right;\n",
       "    }\n",
       "</style>\n",
       "<table border=\"1\" class=\"dataframe\">\n",
       "  <thead>\n",
       "    <tr style=\"text-align: right;\">\n",
       "      <th></th>\n",
       "      <th>cod_prop</th>\n",
       "      <th>nom_prop</th>\n",
       "      <th>tch</th>\n",
       "      <th>categoria</th>\n",
       "      <th>area</th>\n",
       "      <th>produccion</th>\n",
       "    </tr>\n",
       "  </thead>\n",
       "  <tbody>\n",
       "    <tr>\n",
       "      <th>0</th>\n",
       "      <td>1</td>\n",
       "      <td>SONIMA</td>\n",
       "      <td>0</td>\n",
       "      <td>1</td>\n",
       "      <td>3.732356</td>\n",
       "      <td>0.000000</td>\n",
       "    </tr>\n",
       "    <tr>\n",
       "      <th>1</th>\n",
       "      <td>1</td>\n",
       "      <td>SONIMA</td>\n",
       "      <td>20</td>\n",
       "      <td>2</td>\n",
       "      <td>9.361265</td>\n",
       "      <td>187.225300</td>\n",
       "    </tr>\n",
       "    <tr>\n",
       "      <th>2</th>\n",
       "      <td>1</td>\n",
       "      <td>SONIMA</td>\n",
       "      <td>30</td>\n",
       "      <td>3</td>\n",
       "      <td>15.908241</td>\n",
       "      <td>477.247237</td>\n",
       "    </tr>\n",
       "    <tr>\n",
       "      <th>3</th>\n",
       "      <td>1</td>\n",
       "      <td>SONIMA</td>\n",
       "      <td>40</td>\n",
       "      <td>4</td>\n",
       "      <td>21.641168</td>\n",
       "      <td>865.646728</td>\n",
       "    </tr>\n",
       "    <tr>\n",
       "      <th>4</th>\n",
       "      <td>1</td>\n",
       "      <td>SONIMA</td>\n",
       "      <td>55</td>\n",
       "      <td>5</td>\n",
       "      <td>25.187646</td>\n",
       "      <td>1385.320531</td>\n",
       "    </tr>\n",
       "    <tr>\n",
       "      <th>...</th>\n",
       "      <td>...</td>\n",
       "      <td>...</td>\n",
       "      <td>...</td>\n",
       "      <td>...</td>\n",
       "      <td>...</td>\n",
       "      <td>...</td>\n",
       "    </tr>\n",
       "    <tr>\n",
       "      <th>13316</th>\n",
       "      <td>2099</td>\n",
       "      <td>LA VICTORIA--TORRICO ERWIN</td>\n",
       "      <td>40</td>\n",
       "      <td>4</td>\n",
       "      <td>0.489636</td>\n",
       "      <td>19.585449</td>\n",
       "    </tr>\n",
       "    <tr>\n",
       "      <th>13317</th>\n",
       "      <td>2099</td>\n",
       "      <td>LA VICTORIA--TORRICO ERWIN</td>\n",
       "      <td>50</td>\n",
       "      <td>5</td>\n",
       "      <td>0.992389</td>\n",
       "      <td>49.619468</td>\n",
       "    </tr>\n",
       "    <tr>\n",
       "      <th>13318</th>\n",
       "      <td>2099</td>\n",
       "      <td>LA VICTORIA--TORRICO ERWIN</td>\n",
       "      <td>60</td>\n",
       "      <td>6</td>\n",
       "      <td>1.443753</td>\n",
       "      <td>86.625153</td>\n",
       "    </tr>\n",
       "    <tr>\n",
       "      <th>13319</th>\n",
       "      <td>2099</td>\n",
       "      <td>LA VICTORIA--TORRICO ERWIN</td>\n",
       "      <td>70</td>\n",
       "      <td>7</td>\n",
       "      <td>1.125277</td>\n",
       "      <td>78.769420</td>\n",
       "    </tr>\n",
       "    <tr>\n",
       "      <th>13320</th>\n",
       "      <td>2099</td>\n",
       "      <td>LA VICTORIA--TORRICO ERWIN</td>\n",
       "      <td>80</td>\n",
       "      <td>8</td>\n",
       "      <td>0.859731</td>\n",
       "      <td>68.778474</td>\n",
       "    </tr>\n",
       "  </tbody>\n",
       "</table>\n",
       "<p>13321 rows × 6 columns</p>\n",
       "</div>"
      ],
      "text/plain": [
       "       cod_prop                    nom_prop  tch  categoria       area  \\\n",
       "0             1                      SONIMA    0          1   3.732356   \n",
       "1             1                      SONIMA   20          2   9.361265   \n",
       "2             1                      SONIMA   30          3  15.908241   \n",
       "3             1                      SONIMA   40          4  21.641168   \n",
       "4             1                      SONIMA   55          5  25.187646   \n",
       "...         ...                         ...  ...        ...        ...   \n",
       "13316      2099  LA VICTORIA--TORRICO ERWIN   40          4   0.489636   \n",
       "13317      2099  LA VICTORIA--TORRICO ERWIN   50          5   0.992389   \n",
       "13318      2099  LA VICTORIA--TORRICO ERWIN   60          6   1.443753   \n",
       "13319      2099  LA VICTORIA--TORRICO ERWIN   70          7   1.125277   \n",
       "13320      2099  LA VICTORIA--TORRICO ERWIN   80          8   0.859731   \n",
       "\n",
       "        produccion  \n",
       "0         0.000000  \n",
       "1       187.225300  \n",
       "2       477.247237  \n",
       "3       865.646728  \n",
       "4      1385.320531  \n",
       "...            ...  \n",
       "13316    19.585449  \n",
       "13317    49.619468  \n",
       "13318    86.625153  \n",
       "13319    78.769420  \n",
       "13320    68.778474  \n",
       "\n",
       "[13321 rows x 6 columns]"
      ]
     },
     "execution_count": 126,
     "metadata": {},
     "output_type": "execute_result"
    }
   ],
   "source": [
    "data"
   ]
  },
  {
   "cell_type": "code",
   "execution_count": 127,
   "id": "2c868f47-a4e4-495b-a623-028131befc34",
   "metadata": {},
   "outputs": [
    {
     "name": "stdout",
     "output_type": "stream",
     "text": [
      "INICIO: 1\n",
      "set()\n"
     ]
    },
    {
     "name": "stderr",
     "output_type": "stream",
     "text": [
      "C:\\Users\\Usuario\\AppData\\Local\\Temp\\ipykernel_29492\\4044561297.py:23: FutureWarning: Setting an item of incompatible dtype is deprecated and will raise an error in a future version of pandas. Value '57.592608757109446' has dtype incompatible with int64, please explicitly cast to a compatible dtype first.\n",
      "  df_aux.at['Total','TCH'] = df_aux.at['Total','PRODUCCION'] / df_aux.at['Total','AREA']\n"
     ]
    },
    {
     "name": "stdout",
     "output_type": "stream",
     "text": [
      "FIN: 1\n",
      "INICIO: 2\n",
      "set()\n"
     ]
    },
    {
     "name": "stderr",
     "output_type": "stream",
     "text": [
      "C:\\Users\\Usuario\\AppData\\Local\\Temp\\ipykernel_29492\\4044561297.py:23: FutureWarning: Setting an item of incompatible dtype is deprecated and will raise an error in a future version of pandas. Value '47.40110821384701' has dtype incompatible with int64, please explicitly cast to a compatible dtype first.\n",
      "  df_aux.at['Total','TCH'] = df_aux.at['Total','PRODUCCION'] / df_aux.at['Total','AREA']\n"
     ]
    },
    {
     "name": "stdout",
     "output_type": "stream",
     "text": [
      "FIN: 2\n",
      "INICIO: 3\n",
      "set()\n"
     ]
    },
    {
     "name": "stderr",
     "output_type": "stream",
     "text": [
      "C:\\Users\\Usuario\\AppData\\Local\\Temp\\ipykernel_29492\\4044561297.py:23: FutureWarning: Setting an item of incompatible dtype is deprecated and will raise an error in a future version of pandas. Value '66.14187349855784' has dtype incompatible with int64, please explicitly cast to a compatible dtype first.\n",
      "  df_aux.at['Total','TCH'] = df_aux.at['Total','PRODUCCION'] / df_aux.at['Total','AREA']\n"
     ]
    },
    {
     "name": "stdout",
     "output_type": "stream",
     "text": [
      "FIN: 3\n",
      "INICIO: 4\n",
      "set()\n"
     ]
    },
    {
     "name": "stderr",
     "output_type": "stream",
     "text": [
      "C:\\Users\\Usuario\\AppData\\Local\\Temp\\ipykernel_29492\\4044561297.py:23: FutureWarning: Setting an item of incompatible dtype is deprecated and will raise an error in a future version of pandas. Value '53.42535258449719' has dtype incompatible with int64, please explicitly cast to a compatible dtype first.\n",
      "  df_aux.at['Total','TCH'] = df_aux.at['Total','PRODUCCION'] / df_aux.at['Total','AREA']\n"
     ]
    },
    {
     "name": "stdout",
     "output_type": "stream",
     "text": [
      "FIN: 4\n",
      "INICIO: 5\n",
      "set()\n"
     ]
    },
    {
     "name": "stderr",
     "output_type": "stream",
     "text": [
      "C:\\Users\\Usuario\\AppData\\Local\\Temp\\ipykernel_29492\\4044561297.py:23: FutureWarning: Setting an item of incompatible dtype is deprecated and will raise an error in a future version of pandas. Value '50.83979280113864' has dtype incompatible with int64, please explicitly cast to a compatible dtype first.\n",
      "  df_aux.at['Total','TCH'] = df_aux.at['Total','PRODUCCION'] / df_aux.at['Total','AREA']\n"
     ]
    },
    {
     "name": "stdout",
     "output_type": "stream",
     "text": [
      "FIN: 5\n",
      "INICIO: 6\n",
      "set()\n"
     ]
    },
    {
     "name": "stderr",
     "output_type": "stream",
     "text": [
      "C:\\Users\\Usuario\\AppData\\Local\\Temp\\ipykernel_29492\\4044561297.py:23: FutureWarning: Setting an item of incompatible dtype is deprecated and will raise an error in a future version of pandas. Value '48.9180587876104' has dtype incompatible with int64, please explicitly cast to a compatible dtype first.\n",
      "  df_aux.at['Total','TCH'] = df_aux.at['Total','PRODUCCION'] / df_aux.at['Total','AREA']\n"
     ]
    },
    {
     "name": "stdout",
     "output_type": "stream",
     "text": [
      "FIN: 6\n",
      "INICIO: 8\n",
      "set()\n"
     ]
    },
    {
     "name": "stderr",
     "output_type": "stream",
     "text": [
      "C:\\Users\\Usuario\\AppData\\Local\\Temp\\ipykernel_29492\\4044561297.py:23: FutureWarning: Setting an item of incompatible dtype is deprecated and will raise an error in a future version of pandas. Value '44.32399031759826' has dtype incompatible with int64, please explicitly cast to a compatible dtype first.\n",
      "  df_aux.at['Total','TCH'] = df_aux.at['Total','PRODUCCION'] / df_aux.at['Total','AREA']\n"
     ]
    },
    {
     "name": "stdout",
     "output_type": "stream",
     "text": [
      "FIN: 8\n",
      "INICIO: 9\n",
      "set()\n"
     ]
    },
    {
     "name": "stderr",
     "output_type": "stream",
     "text": [
      "C:\\Users\\Usuario\\AppData\\Local\\Temp\\ipykernel_29492\\4044561297.py:23: FutureWarning: Setting an item of incompatible dtype is deprecated and will raise an error in a future version of pandas. Value '62.157774461557096' has dtype incompatible with int64, please explicitly cast to a compatible dtype first.\n",
      "  df_aux.at['Total','TCH'] = df_aux.at['Total','PRODUCCION'] / df_aux.at['Total','AREA']\n"
     ]
    },
    {
     "name": "stdout",
     "output_type": "stream",
     "text": [
      "FIN: 9\n",
      "INICIO: 10\n",
      "set()\n"
     ]
    },
    {
     "name": "stderr",
     "output_type": "stream",
     "text": [
      "C:\\Users\\Usuario\\AppData\\Local\\Temp\\ipykernel_29492\\4044561297.py:23: FutureWarning: Setting an item of incompatible dtype is deprecated and will raise an error in a future version of pandas. Value '55.45201047901952' has dtype incompatible with int64, please explicitly cast to a compatible dtype first.\n",
      "  df_aux.at['Total','TCH'] = df_aux.at['Total','PRODUCCION'] / df_aux.at['Total','AREA']\n"
     ]
    },
    {
     "name": "stdout",
     "output_type": "stream",
     "text": [
      "FIN: 10\n",
      "INICIO: 11\n",
      "set()\n"
     ]
    },
    {
     "name": "stderr",
     "output_type": "stream",
     "text": [
      "C:\\Users\\Usuario\\AppData\\Local\\Temp\\ipykernel_29492\\4044561297.py:23: FutureWarning: Setting an item of incompatible dtype is deprecated and will raise an error in a future version of pandas. Value '53.79767106760915' has dtype incompatible with int64, please explicitly cast to a compatible dtype first.\n",
      "  df_aux.at['Total','TCH'] = df_aux.at['Total','PRODUCCION'] / df_aux.at['Total','AREA']\n"
     ]
    },
    {
     "name": "stdout",
     "output_type": "stream",
     "text": [
      "FIN: 11\n",
      "INICIO: 12\n",
      "set()\n"
     ]
    },
    {
     "name": "stderr",
     "output_type": "stream",
     "text": [
      "C:\\Users\\Usuario\\AppData\\Local\\Temp\\ipykernel_29492\\4044561297.py:23: FutureWarning: Setting an item of incompatible dtype is deprecated and will raise an error in a future version of pandas. Value '46.02231529671949' has dtype incompatible with int64, please explicitly cast to a compatible dtype first.\n",
      "  df_aux.at['Total','TCH'] = df_aux.at['Total','PRODUCCION'] / df_aux.at['Total','AREA']\n"
     ]
    },
    {
     "name": "stdout",
     "output_type": "stream",
     "text": [
      "FIN: 12\n",
      "INICIO: 13\n",
      "set()\n"
     ]
    },
    {
     "name": "stderr",
     "output_type": "stream",
     "text": [
      "C:\\Users\\Usuario\\AppData\\Local\\Temp\\ipykernel_29492\\4044561297.py:23: FutureWarning: Setting an item of incompatible dtype is deprecated and will raise an error in a future version of pandas. Value '43.66356797415925' has dtype incompatible with int64, please explicitly cast to a compatible dtype first.\n",
      "  df_aux.at['Total','TCH'] = df_aux.at['Total','PRODUCCION'] / df_aux.at['Total','AREA']\n"
     ]
    },
    {
     "name": "stdout",
     "output_type": "stream",
     "text": [
      "FIN: 13\n",
      "INICIO: 14\n",
      "set()\n"
     ]
    },
    {
     "name": "stderr",
     "output_type": "stream",
     "text": [
      "C:\\Users\\Usuario\\AppData\\Local\\Temp\\ipykernel_29492\\4044561297.py:23: FutureWarning: Setting an item of incompatible dtype is deprecated and will raise an error in a future version of pandas. Value '57.68823438258952' has dtype incompatible with int64, please explicitly cast to a compatible dtype first.\n",
      "  df_aux.at['Total','TCH'] = df_aux.at['Total','PRODUCCION'] / df_aux.at['Total','AREA']\n"
     ]
    },
    {
     "name": "stdout",
     "output_type": "stream",
     "text": [
      "FIN: 14\n",
      "INICIO: 15\n",
      "set()\n"
     ]
    },
    {
     "name": "stderr",
     "output_type": "stream",
     "text": [
      "C:\\Users\\Usuario\\AppData\\Local\\Temp\\ipykernel_29492\\4044561297.py:23: FutureWarning: Setting an item of incompatible dtype is deprecated and will raise an error in a future version of pandas. Value '49.059968396791994' has dtype incompatible with int64, please explicitly cast to a compatible dtype first.\n",
      "  df_aux.at['Total','TCH'] = df_aux.at['Total','PRODUCCION'] / df_aux.at['Total','AREA']\n"
     ]
    },
    {
     "name": "stdout",
     "output_type": "stream",
     "text": [
      "FIN: 15\n",
      "INICIO: 16\n",
      "set()\n"
     ]
    },
    {
     "name": "stderr",
     "output_type": "stream",
     "text": [
      "C:\\Users\\Usuario\\AppData\\Local\\Temp\\ipykernel_29492\\4044561297.py:23: FutureWarning: Setting an item of incompatible dtype is deprecated and will raise an error in a future version of pandas. Value '55.14248602497093' has dtype incompatible with int64, please explicitly cast to a compatible dtype first.\n",
      "  df_aux.at['Total','TCH'] = df_aux.at['Total','PRODUCCION'] / df_aux.at['Total','AREA']\n"
     ]
    },
    {
     "name": "stdout",
     "output_type": "stream",
     "text": [
      "FIN: 16\n",
      "INICIO: 17\n",
      "set()\n"
     ]
    },
    {
     "name": "stderr",
     "output_type": "stream",
     "text": [
      "C:\\Users\\Usuario\\AppData\\Local\\Temp\\ipykernel_29492\\4044561297.py:23: FutureWarning: Setting an item of incompatible dtype is deprecated and will raise an error in a future version of pandas. Value '49.39699949106403' has dtype incompatible with int64, please explicitly cast to a compatible dtype first.\n",
      "  df_aux.at['Total','TCH'] = df_aux.at['Total','PRODUCCION'] / df_aux.at['Total','AREA']\n"
     ]
    },
    {
     "name": "stdout",
     "output_type": "stream",
     "text": [
      "FIN: 17\n",
      "INICIO: 18\n",
      "set()\n"
     ]
    },
    {
     "name": "stderr",
     "output_type": "stream",
     "text": [
      "C:\\Users\\Usuario\\AppData\\Local\\Temp\\ipykernel_29492\\4044561297.py:23: FutureWarning: Setting an item of incompatible dtype is deprecated and will raise an error in a future version of pandas. Value '53.61004547961362' has dtype incompatible with int64, please explicitly cast to a compatible dtype first.\n",
      "  df_aux.at['Total','TCH'] = df_aux.at['Total','PRODUCCION'] / df_aux.at['Total','AREA']\n"
     ]
    },
    {
     "name": "stdout",
     "output_type": "stream",
     "text": [
      "FIN: 18\n",
      "INICIO: 19\n",
      "set()\n"
     ]
    },
    {
     "name": "stderr",
     "output_type": "stream",
     "text": [
      "C:\\Users\\Usuario\\AppData\\Local\\Temp\\ipykernel_29492\\4044561297.py:23: FutureWarning: Setting an item of incompatible dtype is deprecated and will raise an error in a future version of pandas. Value '58.12298276842502' has dtype incompatible with int64, please explicitly cast to a compatible dtype first.\n",
      "  df_aux.at['Total','TCH'] = df_aux.at['Total','PRODUCCION'] / df_aux.at['Total','AREA']\n"
     ]
    },
    {
     "name": "stdout",
     "output_type": "stream",
     "text": [
      "FIN: 19\n",
      "INICIO: 20\n",
      "set()\n"
     ]
    },
    {
     "name": "stderr",
     "output_type": "stream",
     "text": [
      "C:\\Users\\Usuario\\AppData\\Local\\Temp\\ipykernel_29492\\4044561297.py:23: FutureWarning: Setting an item of incompatible dtype is deprecated and will raise an error in a future version of pandas. Value '44.25444863823616' has dtype incompatible with int64, please explicitly cast to a compatible dtype first.\n",
      "  df_aux.at['Total','TCH'] = df_aux.at['Total','PRODUCCION'] / df_aux.at['Total','AREA']\n"
     ]
    },
    {
     "name": "stdout",
     "output_type": "stream",
     "text": [
      "FIN: 20\n",
      "INICIO: 21\n",
      "set()\n"
     ]
    },
    {
     "name": "stderr",
     "output_type": "stream",
     "text": [
      "C:\\Users\\Usuario\\AppData\\Local\\Temp\\ipykernel_29492\\4044561297.py:23: FutureWarning: Setting an item of incompatible dtype is deprecated and will raise an error in a future version of pandas. Value '66.64620389440184' has dtype incompatible with int64, please explicitly cast to a compatible dtype first.\n",
      "  df_aux.at['Total','TCH'] = df_aux.at['Total','PRODUCCION'] / df_aux.at['Total','AREA']\n"
     ]
    },
    {
     "name": "stdout",
     "output_type": "stream",
     "text": [
      "FIN: 21\n",
      "INICIO: 22\n",
      "set()\n"
     ]
    },
    {
     "name": "stderr",
     "output_type": "stream",
     "text": [
      "C:\\Users\\Usuario\\AppData\\Local\\Temp\\ipykernel_29492\\4044561297.py:23: FutureWarning: Setting an item of incompatible dtype is deprecated and will raise an error in a future version of pandas. Value '50.39457274271444' has dtype incompatible with int64, please explicitly cast to a compatible dtype first.\n",
      "  df_aux.at['Total','TCH'] = df_aux.at['Total','PRODUCCION'] / df_aux.at['Total','AREA']\n"
     ]
    },
    {
     "name": "stdout",
     "output_type": "stream",
     "text": [
      "FIN: 22\n",
      "INICIO: 23\n",
      "set()\n"
     ]
    },
    {
     "name": "stderr",
     "output_type": "stream",
     "text": [
      "C:\\Users\\Usuario\\AppData\\Local\\Temp\\ipykernel_29492\\4044561297.py:23: FutureWarning: Setting an item of incompatible dtype is deprecated and will raise an error in a future version of pandas. Value '45.79095364071378' has dtype incompatible with int64, please explicitly cast to a compatible dtype first.\n",
      "  df_aux.at['Total','TCH'] = df_aux.at['Total','PRODUCCION'] / df_aux.at['Total','AREA']\n"
     ]
    },
    {
     "name": "stdout",
     "output_type": "stream",
     "text": [
      "FIN: 23\n",
      "INICIO: 25\n",
      "set()\n"
     ]
    },
    {
     "name": "stderr",
     "output_type": "stream",
     "text": [
      "C:\\Users\\Usuario\\AppData\\Local\\Temp\\ipykernel_29492\\4044561297.py:23: FutureWarning: Setting an item of incompatible dtype is deprecated and will raise an error in a future version of pandas. Value '51.447264590225394' has dtype incompatible with int64, please explicitly cast to a compatible dtype first.\n",
      "  df_aux.at['Total','TCH'] = df_aux.at['Total','PRODUCCION'] / df_aux.at['Total','AREA']\n"
     ]
    },
    {
     "name": "stdout",
     "output_type": "stream",
     "text": [
      "FIN: 25\n",
      "INICIO: 26\n",
      "set()\n"
     ]
    },
    {
     "name": "stderr",
     "output_type": "stream",
     "text": [
      "C:\\Users\\Usuario\\AppData\\Local\\Temp\\ipykernel_29492\\4044561297.py:23: FutureWarning: Setting an item of incompatible dtype is deprecated and will raise an error in a future version of pandas. Value '49.893929371498714' has dtype incompatible with int64, please explicitly cast to a compatible dtype first.\n",
      "  df_aux.at['Total','TCH'] = df_aux.at['Total','PRODUCCION'] / df_aux.at['Total','AREA']\n"
     ]
    },
    {
     "name": "stdout",
     "output_type": "stream",
     "text": [
      "FIN: 26\n",
      "INICIO: 27\n",
      "set()\n"
     ]
    },
    {
     "name": "stderr",
     "output_type": "stream",
     "text": [
      "C:\\Users\\Usuario\\AppData\\Local\\Temp\\ipykernel_29492\\4044561297.py:23: FutureWarning: Setting an item of incompatible dtype is deprecated and will raise an error in a future version of pandas. Value '47.35161645300511' has dtype incompatible with int64, please explicitly cast to a compatible dtype first.\n",
      "  df_aux.at['Total','TCH'] = df_aux.at['Total','PRODUCCION'] / df_aux.at['Total','AREA']\n"
     ]
    },
    {
     "name": "stdout",
     "output_type": "stream",
     "text": [
      "FIN: 27\n",
      "INICIO: 28\n",
      "set()\n"
     ]
    },
    {
     "name": "stderr",
     "output_type": "stream",
     "text": [
      "C:\\Users\\Usuario\\AppData\\Local\\Temp\\ipykernel_29492\\4044561297.py:23: FutureWarning: Setting an item of incompatible dtype is deprecated and will raise an error in a future version of pandas. Value '54.2339588050997' has dtype incompatible with int64, please explicitly cast to a compatible dtype first.\n",
      "  df_aux.at['Total','TCH'] = df_aux.at['Total','PRODUCCION'] / df_aux.at['Total','AREA']\n"
     ]
    },
    {
     "name": "stdout",
     "output_type": "stream",
     "text": [
      "FIN: 28\n",
      "INICIO: 29\n",
      "set()\n"
     ]
    },
    {
     "name": "stderr",
     "output_type": "stream",
     "text": [
      "C:\\Users\\Usuario\\AppData\\Local\\Temp\\ipykernel_29492\\4044561297.py:23: FutureWarning: Setting an item of incompatible dtype is deprecated and will raise an error in a future version of pandas. Value '69.12062431473804' has dtype incompatible with int64, please explicitly cast to a compatible dtype first.\n",
      "  df_aux.at['Total','TCH'] = df_aux.at['Total','PRODUCCION'] / df_aux.at['Total','AREA']\n"
     ]
    },
    {
     "name": "stdout",
     "output_type": "stream",
     "text": [
      "FIN: 29\n",
      "INICIO: 30\n",
      "set()\n"
     ]
    },
    {
     "name": "stderr",
     "output_type": "stream",
     "text": [
      "C:\\Users\\Usuario\\AppData\\Local\\Temp\\ipykernel_29492\\4044561297.py:23: FutureWarning: Setting an item of incompatible dtype is deprecated and will raise an error in a future version of pandas. Value '62.05896179803993' has dtype incompatible with int64, please explicitly cast to a compatible dtype first.\n",
      "  df_aux.at['Total','TCH'] = df_aux.at['Total','PRODUCCION'] / df_aux.at['Total','AREA']\n"
     ]
    },
    {
     "name": "stdout",
     "output_type": "stream",
     "text": [
      "FIN: 30\n",
      "INICIO: 31\n",
      "set()\n"
     ]
    },
    {
     "name": "stderr",
     "output_type": "stream",
     "text": [
      "C:\\Users\\Usuario\\AppData\\Local\\Temp\\ipykernel_29492\\4044561297.py:23: FutureWarning: Setting an item of incompatible dtype is deprecated and will raise an error in a future version of pandas. Value '57.08387154776822' has dtype incompatible with int64, please explicitly cast to a compatible dtype first.\n",
      "  df_aux.at['Total','TCH'] = df_aux.at['Total','PRODUCCION'] / df_aux.at['Total','AREA']\n"
     ]
    },
    {
     "name": "stdout",
     "output_type": "stream",
     "text": [
      "FIN: 31\n",
      "INICIO: 32\n",
      "set()\n"
     ]
    },
    {
     "name": "stderr",
     "output_type": "stream",
     "text": [
      "C:\\Users\\Usuario\\AppData\\Local\\Temp\\ipykernel_29492\\4044561297.py:23: FutureWarning: Setting an item of incompatible dtype is deprecated and will raise an error in a future version of pandas. Value '69.28710976160558' has dtype incompatible with int64, please explicitly cast to a compatible dtype first.\n",
      "  df_aux.at['Total','TCH'] = df_aux.at['Total','PRODUCCION'] / df_aux.at['Total','AREA']\n"
     ]
    },
    {
     "name": "stdout",
     "output_type": "stream",
     "text": [
      "FIN: 32\n",
      "INICIO: 33\n",
      "set()\n"
     ]
    },
    {
     "name": "stderr",
     "output_type": "stream",
     "text": [
      "C:\\Users\\Usuario\\AppData\\Local\\Temp\\ipykernel_29492\\4044561297.py:23: FutureWarning: Setting an item of incompatible dtype is deprecated and will raise an error in a future version of pandas. Value '56.96068895666376' has dtype incompatible with int64, please explicitly cast to a compatible dtype first.\n",
      "  df_aux.at['Total','TCH'] = df_aux.at['Total','PRODUCCION'] / df_aux.at['Total','AREA']\n"
     ]
    },
    {
     "name": "stdout",
     "output_type": "stream",
     "text": [
      "FIN: 33\n",
      "INICIO: 36\n",
      "set()\n"
     ]
    },
    {
     "name": "stderr",
     "output_type": "stream",
     "text": [
      "C:\\Users\\Usuario\\AppData\\Local\\Temp\\ipykernel_29492\\4044561297.py:23: FutureWarning: Setting an item of incompatible dtype is deprecated and will raise an error in a future version of pandas. Value '56.26515453583647' has dtype incompatible with int64, please explicitly cast to a compatible dtype first.\n",
      "  df_aux.at['Total','TCH'] = df_aux.at['Total','PRODUCCION'] / df_aux.at['Total','AREA']\n"
     ]
    },
    {
     "name": "stdout",
     "output_type": "stream",
     "text": [
      "FIN: 36\n",
      "INICIO: 38\n",
      "set()\n"
     ]
    },
    {
     "name": "stderr",
     "output_type": "stream",
     "text": [
      "C:\\Users\\Usuario\\AppData\\Local\\Temp\\ipykernel_29492\\4044561297.py:23: FutureWarning: Setting an item of incompatible dtype is deprecated and will raise an error in a future version of pandas. Value '57.22184512198844' has dtype incompatible with int64, please explicitly cast to a compatible dtype first.\n",
      "  df_aux.at['Total','TCH'] = df_aux.at['Total','PRODUCCION'] / df_aux.at['Total','AREA']\n"
     ]
    },
    {
     "name": "stdout",
     "output_type": "stream",
     "text": [
      "FIN: 38\n",
      "INICIO: 39\n",
      "set()\n"
     ]
    },
    {
     "name": "stderr",
     "output_type": "stream",
     "text": [
      "C:\\Users\\Usuario\\AppData\\Local\\Temp\\ipykernel_29492\\4044561297.py:23: FutureWarning: Setting an item of incompatible dtype is deprecated and will raise an error in a future version of pandas. Value '51.36742661647709' has dtype incompatible with int64, please explicitly cast to a compatible dtype first.\n",
      "  df_aux.at['Total','TCH'] = df_aux.at['Total','PRODUCCION'] / df_aux.at['Total','AREA']\n"
     ]
    },
    {
     "name": "stdout",
     "output_type": "stream",
     "text": [
      "FIN: 39\n",
      "INICIO: 40\n",
      "set()\n"
     ]
    },
    {
     "name": "stderr",
     "output_type": "stream",
     "text": [
      "C:\\Users\\Usuario\\AppData\\Local\\Temp\\ipykernel_29492\\4044561297.py:23: FutureWarning: Setting an item of incompatible dtype is deprecated and will raise an error in a future version of pandas. Value '48.82743309230473' has dtype incompatible with int64, please explicitly cast to a compatible dtype first.\n",
      "  df_aux.at['Total','TCH'] = df_aux.at['Total','PRODUCCION'] / df_aux.at['Total','AREA']\n"
     ]
    },
    {
     "name": "stdout",
     "output_type": "stream",
     "text": [
      "FIN: 40\n",
      "INICIO: 42\n",
      "set()\n"
     ]
    },
    {
     "name": "stderr",
     "output_type": "stream",
     "text": [
      "C:\\Users\\Usuario\\AppData\\Local\\Temp\\ipykernel_29492\\4044561297.py:23: FutureWarning: Setting an item of incompatible dtype is deprecated and will raise an error in a future version of pandas. Value '69.40741828171937' has dtype incompatible with int64, please explicitly cast to a compatible dtype first.\n",
      "  df_aux.at['Total','TCH'] = df_aux.at['Total','PRODUCCION'] / df_aux.at['Total','AREA']\n"
     ]
    },
    {
     "name": "stdout",
     "output_type": "stream",
     "text": [
      "FIN: 42\n",
      "INICIO: 43\n",
      "set()\n"
     ]
    },
    {
     "name": "stderr",
     "output_type": "stream",
     "text": [
      "C:\\Users\\Usuario\\AppData\\Local\\Temp\\ipykernel_29492\\4044561297.py:23: FutureWarning: Setting an item of incompatible dtype is deprecated and will raise an error in a future version of pandas. Value '44.82292244833667' has dtype incompatible with int64, please explicitly cast to a compatible dtype first.\n",
      "  df_aux.at['Total','TCH'] = df_aux.at['Total','PRODUCCION'] / df_aux.at['Total','AREA']\n"
     ]
    },
    {
     "name": "stdout",
     "output_type": "stream",
     "text": [
      "FIN: 43\n",
      "INICIO: 44\n",
      "set()\n"
     ]
    },
    {
     "name": "stderr",
     "output_type": "stream",
     "text": [
      "C:\\Users\\Usuario\\AppData\\Local\\Temp\\ipykernel_29492\\4044561297.py:23: FutureWarning: Setting an item of incompatible dtype is deprecated and will raise an error in a future version of pandas. Value '49.97776468250246' has dtype incompatible with int64, please explicitly cast to a compatible dtype first.\n",
      "  df_aux.at['Total','TCH'] = df_aux.at['Total','PRODUCCION'] / df_aux.at['Total','AREA']\n"
     ]
    },
    {
     "name": "stdout",
     "output_type": "stream",
     "text": [
      "FIN: 44\n",
      "INICIO: 45\n",
      "{1}\n"
     ]
    },
    {
     "ename": "ValueError",
     "evalue": "Length of values (7) does not match length of index (8)",
     "output_type": "error",
     "traceback": [
      "\u001b[1;31m---------------------------------------------------------------------------\u001b[0m",
      "\u001b[1;31mValueError\u001b[0m                                Traceback (most recent call last)",
      "Cell \u001b[1;32mIn[127], line 17\u001b[0m\n\u001b[0;32m     15\u001b[0m df_aux\u001b[38;5;241m.\u001b[39minsert(loc\u001b[38;5;241m=\u001b[39m\u001b[38;5;241m1\u001b[39m, column\u001b[38;5;241m=\u001b[39m\u001b[38;5;124m'\u001b[39m\u001b[38;5;124mCOLOR\u001b[39m\u001b[38;5;124m'\u001b[39m, value\u001b[38;5;241m=\u001b[39mcolores)\n\u001b[0;32m     16\u001b[0m tchs \u001b[38;5;241m=\u001b[39m \u001b[38;5;28mlist\u001b[39m(df[\u001b[38;5;124m'\u001b[39m\u001b[38;5;124mtch\u001b[39m\u001b[38;5;124m'\u001b[39m])\n\u001b[1;32m---> 17\u001b[0m \u001b[43mdf_aux\u001b[49m\u001b[38;5;241;43m.\u001b[39;49m\u001b[43minsert\u001b[49m\u001b[43m(\u001b[49m\u001b[43mloc\u001b[49m\u001b[38;5;241;43m=\u001b[39;49m\u001b[38;5;241;43m2\u001b[39;49m\u001b[43m,\u001b[49m\u001b[43m \u001b[49m\u001b[43mcolumn\u001b[49m\u001b[38;5;241;43m=\u001b[39;49m\u001b[38;5;124;43m'\u001b[39;49m\u001b[38;5;124;43mTCH\u001b[39;49m\u001b[38;5;124;43m'\u001b[39;49m\u001b[43m,\u001b[49m\u001b[43m \u001b[49m\u001b[43mvalue\u001b[49m\u001b[38;5;241;43m=\u001b[39;49m\u001b[43mtchs\u001b[49m\u001b[43m)\u001b[49m\n\u001b[0;32m     18\u001b[0m df_aux[\u001b[38;5;124m'\u001b[39m\u001b[38;5;124m%\u001b[39m\u001b[38;5;124m'\u001b[39m]\u001b[38;5;241m=\u001b[39m(df_aux[\u001b[38;5;124m'\u001b[39m\u001b[38;5;124mAREA\u001b[39m\u001b[38;5;124m'\u001b[39m]\u001b[38;5;241m/\u001b[39mdf_aux[\u001b[38;5;124m'\u001b[39m\u001b[38;5;124mAREA\u001b[39m\u001b[38;5;124m'\u001b[39m]\u001b[38;5;241m.\u001b[39msum())\u001b[38;5;241m*\u001b[39m\u001b[38;5;241m100\u001b[39m\n\u001b[0;32m     19\u001b[0m df_aux[\u001b[38;5;124m'\u001b[39m\u001b[38;5;124mPRODUCCION\u001b[39m\u001b[38;5;124m'\u001b[39m] \u001b[38;5;241m=\u001b[39m df_aux[\u001b[38;5;124m'\u001b[39m\u001b[38;5;124mAREA\u001b[39m\u001b[38;5;124m'\u001b[39m] \u001b[38;5;241m*\u001b[39m df_aux[\u001b[38;5;124m'\u001b[39m\u001b[38;5;124mTCH\u001b[39m\u001b[38;5;124m'\u001b[39m]\n",
      "File \u001b[1;32m~\\anaconda3\\envs\\utea\\lib\\site-packages\\pandas\\core\\frame.py:5158\u001b[0m, in \u001b[0;36mDataFrame.insert\u001b[1;34m(self, loc, column, value, allow_duplicates)\u001b[0m\n\u001b[0;32m   5155\u001b[0m \u001b[38;5;28;01melif\u001b[39;00m \u001b[38;5;28misinstance\u001b[39m(value, DataFrame):\n\u001b[0;32m   5156\u001b[0m     value \u001b[38;5;241m=\u001b[39m value\u001b[38;5;241m.\u001b[39miloc[:, \u001b[38;5;241m0\u001b[39m]\n\u001b[1;32m-> 5158\u001b[0m value, refs \u001b[38;5;241m=\u001b[39m \u001b[38;5;28;43mself\u001b[39;49m\u001b[38;5;241;43m.\u001b[39;49m\u001b[43m_sanitize_column\u001b[49m\u001b[43m(\u001b[49m\u001b[43mvalue\u001b[49m\u001b[43m)\u001b[49m\n\u001b[0;32m   5159\u001b[0m \u001b[38;5;28mself\u001b[39m\u001b[38;5;241m.\u001b[39m_mgr\u001b[38;5;241m.\u001b[39minsert(loc, column, value, refs\u001b[38;5;241m=\u001b[39mrefs)\n",
      "File \u001b[1;32m~\\anaconda3\\envs\\utea\\lib\\site-packages\\pandas\\core\\frame.py:5253\u001b[0m, in \u001b[0;36mDataFrame._sanitize_column\u001b[1;34m(self, value)\u001b[0m\n\u001b[0;32m   5250\u001b[0m     \u001b[38;5;28;01mreturn\u001b[39;00m _reindex_for_setitem(value, \u001b[38;5;28mself\u001b[39m\u001b[38;5;241m.\u001b[39mindex)\n\u001b[0;32m   5252\u001b[0m \u001b[38;5;28;01mif\u001b[39;00m is_list_like(value):\n\u001b[1;32m-> 5253\u001b[0m     \u001b[43mcom\u001b[49m\u001b[38;5;241;43m.\u001b[39;49m\u001b[43mrequire_length_match\u001b[49m\u001b[43m(\u001b[49m\u001b[43mvalue\u001b[49m\u001b[43m,\u001b[49m\u001b[43m \u001b[49m\u001b[38;5;28;43mself\u001b[39;49m\u001b[38;5;241;43m.\u001b[39;49m\u001b[43mindex\u001b[49m\u001b[43m)\u001b[49m\n\u001b[0;32m   5254\u001b[0m arr \u001b[38;5;241m=\u001b[39m sanitize_array(value, \u001b[38;5;28mself\u001b[39m\u001b[38;5;241m.\u001b[39mindex, copy\u001b[38;5;241m=\u001b[39m\u001b[38;5;28;01mTrue\u001b[39;00m, allow_2d\u001b[38;5;241m=\u001b[39m\u001b[38;5;28;01mTrue\u001b[39;00m)\n\u001b[0;32m   5255\u001b[0m \u001b[38;5;28;01mif\u001b[39;00m (\n\u001b[0;32m   5256\u001b[0m     \u001b[38;5;28misinstance\u001b[39m(value, Index)\n\u001b[0;32m   5257\u001b[0m     \u001b[38;5;129;01mand\u001b[39;00m value\u001b[38;5;241m.\u001b[39mdtype \u001b[38;5;241m==\u001b[39m \u001b[38;5;124m\"\u001b[39m\u001b[38;5;124mobject\u001b[39m\u001b[38;5;124m\"\u001b[39m\n\u001b[1;32m   (...)\u001b[0m\n\u001b[0;32m   5260\u001b[0m     \u001b[38;5;66;03m# TODO: Remove kludge in sanitize_array for string mode when enforcing\u001b[39;00m\n\u001b[0;32m   5261\u001b[0m     \u001b[38;5;66;03m# this deprecation\u001b[39;00m\n",
      "File \u001b[1;32m~\\anaconda3\\envs\\utea\\lib\\site-packages\\pandas\\core\\common.py:571\u001b[0m, in \u001b[0;36mrequire_length_match\u001b[1;34m(data, index)\u001b[0m\n\u001b[0;32m    567\u001b[0m \u001b[38;5;250m\u001b[39m\u001b[38;5;124;03m\"\"\"\u001b[39;00m\n\u001b[0;32m    568\u001b[0m \u001b[38;5;124;03mCheck the length of data matches the length of the index.\u001b[39;00m\n\u001b[0;32m    569\u001b[0m \u001b[38;5;124;03m\"\"\"\u001b[39;00m\n\u001b[0;32m    570\u001b[0m \u001b[38;5;28;01mif\u001b[39;00m \u001b[38;5;28mlen\u001b[39m(data) \u001b[38;5;241m!=\u001b[39m \u001b[38;5;28mlen\u001b[39m(index):\n\u001b[1;32m--> 571\u001b[0m     \u001b[38;5;28;01mraise\u001b[39;00m \u001b[38;5;167;01mValueError\u001b[39;00m(\n\u001b[0;32m    572\u001b[0m         \u001b[38;5;124m\"\u001b[39m\u001b[38;5;124mLength of values \u001b[39m\u001b[38;5;124m\"\u001b[39m\n\u001b[0;32m    573\u001b[0m         \u001b[38;5;124mf\u001b[39m\u001b[38;5;124m\"\u001b[39m\u001b[38;5;124m(\u001b[39m\u001b[38;5;132;01m{\u001b[39;00m\u001b[38;5;28mlen\u001b[39m(data)\u001b[38;5;132;01m}\u001b[39;00m\u001b[38;5;124m) \u001b[39m\u001b[38;5;124m\"\u001b[39m\n\u001b[0;32m    574\u001b[0m         \u001b[38;5;124m\"\u001b[39m\u001b[38;5;124mdoes not match length of index \u001b[39m\u001b[38;5;124m\"\u001b[39m\n\u001b[0;32m    575\u001b[0m         \u001b[38;5;124mf\u001b[39m\u001b[38;5;124m\"\u001b[39m\u001b[38;5;124m(\u001b[39m\u001b[38;5;132;01m{\u001b[39;00m\u001b[38;5;28mlen\u001b[39m(index)\u001b[38;5;132;01m}\u001b[39;00m\u001b[38;5;124m)\u001b[39m\u001b[38;5;124m\"\u001b[39m\n\u001b[0;32m    576\u001b[0m     )\n",
      "\u001b[1;31mValueError\u001b[0m: Length of values (7) does not match length of index (8)"
     ]
    }
   ],
   "source": [
    "## ITERADOR QUE REALIZAR TODA LA GENERACIOND DE LAS IMAGENES\n",
    "## EXPORTA TODO EN UNA CARPETA imgs/\n",
    "for i in lista_cod_props:\n",
    "    print('INICIO: ' + str(i))\n",
    "    cod = i\n",
    "    df = data[data['cod_prop'] == cod]\n",
    "    df_aux = df[['categoria', 'area']]\n",
    "    \n",
    "    df_aux = df_aux.groupby(['categoria']).sum('area')\n",
    "    df_aux = df_aux.rename(columns={'area':'AREA'})\n",
    "    df_aux = complete_index(df_aux)\n",
    "    #print(df_aux)\n",
    "    df_aux.insert(loc=0, column='CATEGORIA', value=categoria)\n",
    "    \n",
    "    df_aux.insert(loc=1, column='COLOR', value=colores)\n",
    "    tchs = list(df['tch'])\n",
    "    df_aux.insert(loc=2, column='TCH', value=tchs)\n",
    "    df_aux['%']=(df_aux['AREA']/df_aux['AREA'].sum())*100\n",
    "    df_aux['PRODUCCION'] = df_aux['AREA'] * df_aux['TCH']\n",
    "    df_aux.loc['Total'] = df_aux.sum(axis=0)\n",
    "    df_aux.at['Total','CATEGORIA'] = 'TOTAL'\n",
    "    df_aux.at['Total','COLOR'] = ''\n",
    "    df_aux.at['Total','TCH'] = df_aux.at['Total','PRODUCCION'] / df_aux.at['Total','AREA']\n",
    "    \n",
    "    formato = {'AREA':'{:.2f}', '%':'{:.2f} %', 'TCH':'{:.2f}', 'PRODUCCION':'{:.2f}'}\n",
    "    i = pd.IndexSlice[df_aux.loc[(df_aux['%']<99.999999)].index, '%']\n",
    "    s = df_aux.style.format(formato)\\\n",
    "        .bar(subset=i, color='#10CB23')\\\n",
    "        .hide()\\\n",
    "        .apply(styling_specific_cell, row_idx = [0,1,2,3,4,5,6,7], col_idx = 1, axis = None)\\\n",
    "        .apply(set_blod_categori, row_idx = [0,1,2,3,4,5,6,7,8], col_idx = 0, axis = None)\\\n",
    "        .apply(set_blod_row, row_idx = 8, col_idx = [0,1,2,3,4,5], axis = None)\\\n",
    "        .set_table_styles([headers])\\\n",
    "        .set_table_styles([{'selector': 'th',\n",
    "                           'props': [('background-color', '#f8f8f8'),\n",
    "                                     ('color', '#333'),\n",
    "                                     ('border', '1px solid #333')]}])\n",
    "    s = s.set_properties(border=\"1px solid black\")\n",
    "    tabla = s\n",
    "    dfi.export(tabla, 'imgs/' + str(cod) + '.png')\n",
    "    print('FIN: ' + str(cod))"
   ]
  },
  {
   "cell_type": "code",
   "execution_count": 153,
   "id": "947294cc-a742-41a0-b87b-8e9dd745f882",
   "metadata": {},
   "outputs": [],
   "source": []
  },
  {
   "cell_type": "code",
   "execution_count": 146,
   "id": "69f72bc0-aad6-4de1-a325-136a9bb49f00",
   "metadata": {},
   "outputs": [
    {
     "name": "stdout",
     "output_type": "stream",
     "text": [
      "set()\n"
     ]
    },
    {
     "data": {
      "text/html": [
       "<div>\n",
       "<style scoped>\n",
       "    .dataframe tbody tr th:only-of-type {\n",
       "        vertical-align: middle;\n",
       "    }\n",
       "\n",
       "    .dataframe tbody tr th {\n",
       "        vertical-align: top;\n",
       "    }\n",
       "\n",
       "    .dataframe thead th {\n",
       "        text-align: right;\n",
       "    }\n",
       "</style>\n",
       "<table border=\"1\" class=\"dataframe\">\n",
       "  <thead>\n",
       "    <tr style=\"text-align: right;\">\n",
       "      <th></th>\n",
       "      <th>AREA (ha)</th>\n",
       "    </tr>\n",
       "    <tr>\n",
       "      <th>gridcode</th>\n",
       "      <th></th>\n",
       "    </tr>\n",
       "  </thead>\n",
       "  <tbody>\n",
       "    <tr>\n",
       "      <th>1</th>\n",
       "      <td>1.643796</td>\n",
       "    </tr>\n",
       "    <tr>\n",
       "      <th>2</th>\n",
       "      <td>0.901373</td>\n",
       "    </tr>\n",
       "    <tr>\n",
       "      <th>3</th>\n",
       "      <td>4.864175</td>\n",
       "    </tr>\n",
       "    <tr>\n",
       "      <th>4</th>\n",
       "      <td>16.771687</td>\n",
       "    </tr>\n",
       "    <tr>\n",
       "      <th>5</th>\n",
       "      <td>37.542967</td>\n",
       "    </tr>\n",
       "    <tr>\n",
       "      <th>6</th>\n",
       "      <td>33.898003</td>\n",
       "    </tr>\n",
       "    <tr>\n",
       "      <th>7</th>\n",
       "      <td>17.471084</td>\n",
       "    </tr>\n",
       "    <tr>\n",
       "      <th>8</th>\n",
       "      <td>9.652222</td>\n",
       "    </tr>\n",
       "  </tbody>\n",
       "</table>\n",
       "</div>"
      ],
      "text/plain": [
       "          AREA (ha)\n",
       "gridcode           \n",
       "1          1.643796\n",
       "2          0.901373\n",
       "3          4.864175\n",
       "4         16.771687\n",
       "5         37.542967\n",
       "6         33.898003\n",
       "7         17.471084\n",
       "8          9.652222"
      ]
     },
     "execution_count": 146,
     "metadata": {},
     "output_type": "execute_result"
    }
   ],
   "source": [
    "d = complete_index(aux)\n",
    "d"
   ]
  },
  {
   "cell_type": "code",
   "execution_count": 127,
   "id": "69760bab-69fc-47f1-9526-4dbc1d4ce642",
   "metadata": {},
   "outputs": [
    {
     "data": {
      "text/plain": [
       "Int64Index([1, 2, 3, 4, 5, 6, 7, 8], dtype='int64', name='gridcode')"
      ]
     },
     "execution_count": 127,
     "metadata": {},
     "output_type": "execute_result"
    }
   ],
   "source": [
    "aux.index"
   ]
  },
  {
   "cell_type": "code",
   "execution_count": 128,
   "id": "97479cdb-99f6-4bcd-9a6a-f4938a8b6ede",
   "metadata": {},
   "outputs": [
    {
     "data": {
      "text/plain": [
       "13"
      ]
     },
     "execution_count": 128,
     "metadata": {},
     "output_type": "execute_result"
    }
   ],
   "source": [
    "cod = lista_cod_props[1]\n",
    "cod"
   ]
  },
  {
   "cell_type": "code",
   "execution_count": 129,
   "id": "a3b607a4-52da-4dd8-9d54-ab769436246f",
   "metadata": {},
   "outputs": [
    {
     "data": {
      "text/html": [
       "<div>\n",
       "<style scoped>\n",
       "    .dataframe tbody tr th:only-of-type {\n",
       "        vertical-align: middle;\n",
       "    }\n",
       "\n",
       "    .dataframe tbody tr th {\n",
       "        vertical-align: top;\n",
       "    }\n",
       "\n",
       "    .dataframe thead th {\n",
       "        text-align: right;\n",
       "    }\n",
       "</style>\n",
       "<table border=\"1\" class=\"dataframe\">\n",
       "  <thead>\n",
       "    <tr style=\"text-align: right;\">\n",
       "      <th></th>\n",
       "      <th>OBJECTID</th>\n",
       "      <th>FID_Raster</th>\n",
       "      <th>Id</th>\n",
       "      <th>gridcode</th>\n",
       "      <th>FID_LOTES_</th>\n",
       "      <th>id_1</th>\n",
       "      <th>unidad_01</th>\n",
       "      <th>unidad_02</th>\n",
       "      <th>unidad_03</th>\n",
       "      <th>unidad_04</th>\n",
       "      <th>...</th>\n",
       "      <th>fs</th>\n",
       "      <th>textura</th>\n",
       "      <th>financia</th>\n",
       "      <th>soca</th>\n",
       "      <th>cultivo</th>\n",
       "      <th>zona</th>\n",
       "      <th>area</th>\n",
       "      <th>Shape_Leng</th>\n",
       "      <th>Shape_Area</th>\n",
       "      <th>cod_prop</th>\n",
       "    </tr>\n",
       "  </thead>\n",
       "  <tbody>\n",
       "    <tr>\n",
       "      <th>105753</th>\n",
       "      <td>105754</td>\n",
       "      <td>100014</td>\n",
       "      <td>100014</td>\n",
       "      <td>6</td>\n",
       "      <td>736</td>\n",
       "      <td>0000130000L17.2</td>\n",
       "      <td>13</td>\n",
       "      <td>GUAYABOCHI--AGUILERA</td>\n",
       "      <td>86</td>\n",
       "      <td>AGUILERA_TARADELLES_JOSE_LUIS</td>\n",
       "      <td>...</td>\n",
       "      <td>2019-05-28</td>\n",
       "      <td>F</td>\n",
       "      <td>IAG</td>\n",
       "      <td>3</td>\n",
       "      <td>canha</td>\n",
       "      <td>50</td>\n",
       "      <td>0.008729</td>\n",
       "      <td>0.000413</td>\n",
       "      <td>7.424122e-09</td>\n",
       "      <td>13</td>\n",
       "    </tr>\n",
       "    <tr>\n",
       "      <th>105789</th>\n",
       "      <td>105790</td>\n",
       "      <td>100049</td>\n",
       "      <td>100049</td>\n",
       "      <td>4</td>\n",
       "      <td>736</td>\n",
       "      <td>0000130000L17.2</td>\n",
       "      <td>13</td>\n",
       "      <td>GUAYABOCHI--AGUILERA</td>\n",
       "      <td>86</td>\n",
       "      <td>AGUILERA_TARADELLES_JOSE_LUIS</td>\n",
       "      <td>...</td>\n",
       "      <td>2019-05-28</td>\n",
       "      <td>F</td>\n",
       "      <td>IAG</td>\n",
       "      <td>3</td>\n",
       "      <td>canha</td>\n",
       "      <td>50</td>\n",
       "      <td>0.009488</td>\n",
       "      <td>0.000359</td>\n",
       "      <td>8.069703e-09</td>\n",
       "      <td>13</td>\n",
       "    </tr>\n",
       "    <tr>\n",
       "      <th>105790</th>\n",
       "      <td>105791</td>\n",
       "      <td>100050</td>\n",
       "      <td>100050</td>\n",
       "      <td>5</td>\n",
       "      <td>736</td>\n",
       "      <td>0000130000L17.2</td>\n",
       "      <td>13</td>\n",
       "      <td>GUAYABOCHI--AGUILERA</td>\n",
       "      <td>86</td>\n",
       "      <td>AGUILERA_TARADELLES_JOSE_LUIS</td>\n",
       "      <td>...</td>\n",
       "      <td>2019-05-28</td>\n",
       "      <td>F</td>\n",
       "      <td>IAG</td>\n",
       "      <td>3</td>\n",
       "      <td>canha</td>\n",
       "      <td>50</td>\n",
       "      <td>0.009488</td>\n",
       "      <td>0.000359</td>\n",
       "      <td>8.069703e-09</td>\n",
       "      <td>13</td>\n",
       "    </tr>\n",
       "    <tr>\n",
       "      <th>105829</th>\n",
       "      <td>105830</td>\n",
       "      <td>100087</td>\n",
       "      <td>100087</td>\n",
       "      <td>5</td>\n",
       "      <td>736</td>\n",
       "      <td>0000130000L17.2</td>\n",
       "      <td>13</td>\n",
       "      <td>GUAYABOCHI--AGUILERA</td>\n",
       "      <td>86</td>\n",
       "      <td>AGUILERA_TARADELLES_JOSE_LUIS</td>\n",
       "      <td>...</td>\n",
       "      <td>2019-05-28</td>\n",
       "      <td>F</td>\n",
       "      <td>IAG</td>\n",
       "      <td>3</td>\n",
       "      <td>canha</td>\n",
       "      <td>50</td>\n",
       "      <td>0.014763</td>\n",
       "      <td>0.000498</td>\n",
       "      <td>1.255657e-08</td>\n",
       "      <td>13</td>\n",
       "    </tr>\n",
       "    <tr>\n",
       "      <th>105874</th>\n",
       "      <td>105875</td>\n",
       "      <td>100127</td>\n",
       "      <td>100127</td>\n",
       "      <td>4</td>\n",
       "      <td>736</td>\n",
       "      <td>0000130000L17.2</td>\n",
       "      <td>13</td>\n",
       "      <td>GUAYABOCHI--AGUILERA</td>\n",
       "      <td>86</td>\n",
       "      <td>AGUILERA_TARADELLES_JOSE_LUIS</td>\n",
       "      <td>...</td>\n",
       "      <td>2019-05-28</td>\n",
       "      <td>F</td>\n",
       "      <td>IAG</td>\n",
       "      <td>3</td>\n",
       "      <td>canha</td>\n",
       "      <td>50</td>\n",
       "      <td>0.013235</td>\n",
       "      <td>0.000488</td>\n",
       "      <td>1.125739e-08</td>\n",
       "      <td>13</td>\n",
       "    </tr>\n",
       "    <tr>\n",
       "      <th>...</th>\n",
       "      <td>...</td>\n",
       "      <td>...</td>\n",
       "      <td>...</td>\n",
       "      <td>...</td>\n",
       "      <td>...</td>\n",
       "      <td>...</td>\n",
       "      <td>...</td>\n",
       "      <td>...</td>\n",
       "      <td>...</td>\n",
       "      <td>...</td>\n",
       "      <td>...</td>\n",
       "      <td>...</td>\n",
       "      <td>...</td>\n",
       "      <td>...</td>\n",
       "      <td>...</td>\n",
       "      <td>...</td>\n",
       "      <td>...</td>\n",
       "      <td>...</td>\n",
       "      <td>...</td>\n",
       "      <td>...</td>\n",
       "      <td>...</td>\n",
       "    </tr>\n",
       "    <tr>\n",
       "      <th>149958</th>\n",
       "      <td>149959</td>\n",
       "      <td>101419</td>\n",
       "      <td>101419</td>\n",
       "      <td>7</td>\n",
       "      <td>1938</td>\n",
       "      <td>0000130000L17.1</td>\n",
       "      <td>13</td>\n",
       "      <td>GUAYABOCHI--AGUILERA</td>\n",
       "      <td>86</td>\n",
       "      <td>AGUILERA_TARADELLES_JOSE_LUIS</td>\n",
       "      <td>...</td>\n",
       "      <td>2022-04-18</td>\n",
       "      <td>F</td>\n",
       "      <td>IAG</td>\n",
       "      <td>0</td>\n",
       "      <td>canha</td>\n",
       "      <td>50</td>\n",
       "      <td>0.004532</td>\n",
       "      <td>0.001672</td>\n",
       "      <td>3.854332e-09</td>\n",
       "      <td>13</td>\n",
       "    </tr>\n",
       "    <tr>\n",
       "      <th>149959</th>\n",
       "      <td>149960</td>\n",
       "      <td>103034</td>\n",
       "      <td>103034</td>\n",
       "      <td>4</td>\n",
       "      <td>129</td>\n",
       "      <td>0000130000L12.2</td>\n",
       "      <td>13</td>\n",
       "      <td>GUAYABOCHI--AGUILERA</td>\n",
       "      <td>14558</td>\n",
       "      <td>VACA_DIEZ_ATALA_MARIA_ALEJANDRA</td>\n",
       "      <td>...</td>\n",
       "      <td>2020-05-10</td>\n",
       "      <td>FA</td>\n",
       "      <td>IAG</td>\n",
       "      <td>2</td>\n",
       "      <td>canha</td>\n",
       "      <td>50</td>\n",
       "      <td>0.000005</td>\n",
       "      <td>0.000684</td>\n",
       "      <td>3.943020e-12</td>\n",
       "      <td>13</td>\n",
       "    </tr>\n",
       "    <tr>\n",
       "      <th>149960</th>\n",
       "      <td>149961</td>\n",
       "      <td>103034</td>\n",
       "      <td>103034</td>\n",
       "      <td>4</td>\n",
       "      <td>1444</td>\n",
       "      <td>0000130000L13</td>\n",
       "      <td>13</td>\n",
       "      <td>GUAYABOCHI--AGUILERA</td>\n",
       "      <td>86</td>\n",
       "      <td>AGUILERA_TARADELLES_JOSE_LUIS</td>\n",
       "      <td>...</td>\n",
       "      <td>2021-05-01</td>\n",
       "      <td>FA</td>\n",
       "      <td>IAG</td>\n",
       "      <td>1</td>\n",
       "      <td>canha</td>\n",
       "      <td>50</td>\n",
       "      <td>0.000005</td>\n",
       "      <td>0.000684</td>\n",
       "      <td>3.943020e-12</td>\n",
       "      <td>13</td>\n",
       "    </tr>\n",
       "    <tr>\n",
       "      <th>149961</th>\n",
       "      <td>149962</td>\n",
       "      <td>104957</td>\n",
       "      <td>104957</td>\n",
       "      <td>5</td>\n",
       "      <td>129</td>\n",
       "      <td>0000130000L12.2</td>\n",
       "      <td>13</td>\n",
       "      <td>GUAYABOCHI--AGUILERA</td>\n",
       "      <td>14558</td>\n",
       "      <td>VACA_DIEZ_ATALA_MARIA_ALEJANDRA</td>\n",
       "      <td>...</td>\n",
       "      <td>2020-05-10</td>\n",
       "      <td>FA</td>\n",
       "      <td>IAG</td>\n",
       "      <td>2</td>\n",
       "      <td>canha</td>\n",
       "      <td>50</td>\n",
       "      <td>0.000002</td>\n",
       "      <td>0.000288</td>\n",
       "      <td>2.024552e-12</td>\n",
       "      <td>13</td>\n",
       "    </tr>\n",
       "    <tr>\n",
       "      <th>149962</th>\n",
       "      <td>149963</td>\n",
       "      <td>104957</td>\n",
       "      <td>104957</td>\n",
       "      <td>5</td>\n",
       "      <td>1444</td>\n",
       "      <td>0000130000L13</td>\n",
       "      <td>13</td>\n",
       "      <td>GUAYABOCHI--AGUILERA</td>\n",
       "      <td>86</td>\n",
       "      <td>AGUILERA_TARADELLES_JOSE_LUIS</td>\n",
       "      <td>...</td>\n",
       "      <td>2021-05-01</td>\n",
       "      <td>FA</td>\n",
       "      <td>IAG</td>\n",
       "      <td>1</td>\n",
       "      <td>canha</td>\n",
       "      <td>50</td>\n",
       "      <td>0.000002</td>\n",
       "      <td>0.000288</td>\n",
       "      <td>2.024552e-12</td>\n",
       "      <td>13</td>\n",
       "    </tr>\n",
       "  </tbody>\n",
       "</table>\n",
       "<p>1105 rows × 22 columns</p>\n",
       "</div>"
      ],
      "text/plain": [
       "        OBJECTID  FID_Raster      Id  gridcode  FID_LOTES_             id_1  \\\n",
       "105753    105754      100014  100014         6         736  0000130000L17.2   \n",
       "105789    105790      100049  100049         4         736  0000130000L17.2   \n",
       "105790    105791      100050  100050         5         736  0000130000L17.2   \n",
       "105829    105830      100087  100087         5         736  0000130000L17.2   \n",
       "105874    105875      100127  100127         4         736  0000130000L17.2   \n",
       "...          ...         ...     ...       ...         ...              ...   \n",
       "149958    149959      101419  101419         7        1938  0000130000L17.1   \n",
       "149959    149960      103034  103034         4         129  0000130000L12.2   \n",
       "149960    149961      103034  103034         4        1444    0000130000L13   \n",
       "149961    149962      104957  104957         5         129  0000130000L12.2   \n",
       "149962    149963      104957  104957         5        1444    0000130000L13   \n",
       "\n",
       "        unidad_01             unidad_02  unidad_03  \\\n",
       "105753         13  GUAYABOCHI--AGUILERA         86   \n",
       "105789         13  GUAYABOCHI--AGUILERA         86   \n",
       "105790         13  GUAYABOCHI--AGUILERA         86   \n",
       "105829         13  GUAYABOCHI--AGUILERA         86   \n",
       "105874         13  GUAYABOCHI--AGUILERA         86   \n",
       "...           ...                   ...        ...   \n",
       "149958         13  GUAYABOCHI--AGUILERA         86   \n",
       "149959         13  GUAYABOCHI--AGUILERA      14558   \n",
       "149960         13  GUAYABOCHI--AGUILERA         86   \n",
       "149961         13  GUAYABOCHI--AGUILERA      14558   \n",
       "149962         13  GUAYABOCHI--AGUILERA         86   \n",
       "\n",
       "                              unidad_04  ...         fs textura financia soca  \\\n",
       "105753    AGUILERA_TARADELLES_JOSE_LUIS  ... 2019-05-28       F      IAG    3   \n",
       "105789    AGUILERA_TARADELLES_JOSE_LUIS  ... 2019-05-28       F      IAG    3   \n",
       "105790    AGUILERA_TARADELLES_JOSE_LUIS  ... 2019-05-28       F      IAG    3   \n",
       "105829    AGUILERA_TARADELLES_JOSE_LUIS  ... 2019-05-28       F      IAG    3   \n",
       "105874    AGUILERA_TARADELLES_JOSE_LUIS  ... 2019-05-28       F      IAG    3   \n",
       "...                                 ...  ...        ...     ...      ...  ...   \n",
       "149958    AGUILERA_TARADELLES_JOSE_LUIS  ... 2022-04-18       F      IAG    0   \n",
       "149959  VACA_DIEZ_ATALA_MARIA_ALEJANDRA  ... 2020-05-10      FA      IAG    2   \n",
       "149960    AGUILERA_TARADELLES_JOSE_LUIS  ... 2021-05-01      FA      IAG    1   \n",
       "149961  VACA_DIEZ_ATALA_MARIA_ALEJANDRA  ... 2020-05-10      FA      IAG    2   \n",
       "149962    AGUILERA_TARADELLES_JOSE_LUIS  ... 2021-05-01      FA      IAG    1   \n",
       "\n",
       "       cultivo  zona      area  Shape_Leng    Shape_Area  cod_prop  \n",
       "105753   canha    50  0.008729    0.000413  7.424122e-09        13  \n",
       "105789   canha    50  0.009488    0.000359  8.069703e-09        13  \n",
       "105790   canha    50  0.009488    0.000359  8.069703e-09        13  \n",
       "105829   canha    50  0.014763    0.000498  1.255657e-08        13  \n",
       "105874   canha    50  0.013235    0.000488  1.125739e-08        13  \n",
       "...        ...   ...       ...         ...           ...       ...  \n",
       "149958   canha    50  0.004532    0.001672  3.854332e-09        13  \n",
       "149959   canha    50  0.000005    0.000684  3.943020e-12        13  \n",
       "149960   canha    50  0.000005    0.000684  3.943020e-12        13  \n",
       "149961   canha    50  0.000002    0.000288  2.024552e-12        13  \n",
       "149962   canha    50  0.000002    0.000288  2.024552e-12        13  \n",
       "\n",
       "[1105 rows x 22 columns]"
      ]
     },
     "execution_count": 129,
     "metadata": {},
     "output_type": "execute_result"
    }
   ],
   "source": [
    "# selecciona una propiedad por el codigo\n",
    "df = data[data['unidad_01'] == 13]\n",
    "df"
   ]
  },
  {
   "cell_type": "code",
   "execution_count": 130,
   "id": "502a4b64-f0f1-4e5b-b8b0-913bc7d6c9f0",
   "metadata": {},
   "outputs": [
    {
     "data": {
      "text/html": [
       "<div>\n",
       "<style scoped>\n",
       "    .dataframe tbody tr th:only-of-type {\n",
       "        vertical-align: middle;\n",
       "    }\n",
       "\n",
       "    .dataframe tbody tr th {\n",
       "        vertical-align: top;\n",
       "    }\n",
       "\n",
       "    .dataframe thead th {\n",
       "        text-align: right;\n",
       "    }\n",
       "</style>\n",
       "<table border=\"1\" class=\"dataframe\">\n",
       "  <thead>\n",
       "    <tr style=\"text-align: right;\">\n",
       "      <th></th>\n",
       "      <th>gridcode</th>\n",
       "      <th>area</th>\n",
       "    </tr>\n",
       "  </thead>\n",
       "  <tbody>\n",
       "    <tr>\n",
       "      <th>105753</th>\n",
       "      <td>6</td>\n",
       "      <td>0.008729</td>\n",
       "    </tr>\n",
       "    <tr>\n",
       "      <th>105789</th>\n",
       "      <td>4</td>\n",
       "      <td>0.009488</td>\n",
       "    </tr>\n",
       "    <tr>\n",
       "      <th>105790</th>\n",
       "      <td>5</td>\n",
       "      <td>0.009488</td>\n",
       "    </tr>\n",
       "    <tr>\n",
       "      <th>105829</th>\n",
       "      <td>5</td>\n",
       "      <td>0.014763</td>\n",
       "    </tr>\n",
       "    <tr>\n",
       "      <th>105874</th>\n",
       "      <td>4</td>\n",
       "      <td>0.013235</td>\n",
       "    </tr>\n",
       "    <tr>\n",
       "      <th>...</th>\n",
       "      <td>...</td>\n",
       "      <td>...</td>\n",
       "    </tr>\n",
       "    <tr>\n",
       "      <th>149958</th>\n",
       "      <td>7</td>\n",
       "      <td>0.004532</td>\n",
       "    </tr>\n",
       "    <tr>\n",
       "      <th>149959</th>\n",
       "      <td>4</td>\n",
       "      <td>0.000005</td>\n",
       "    </tr>\n",
       "    <tr>\n",
       "      <th>149960</th>\n",
       "      <td>4</td>\n",
       "      <td>0.000005</td>\n",
       "    </tr>\n",
       "    <tr>\n",
       "      <th>149961</th>\n",
       "      <td>5</td>\n",
       "      <td>0.000002</td>\n",
       "    </tr>\n",
       "    <tr>\n",
       "      <th>149962</th>\n",
       "      <td>5</td>\n",
       "      <td>0.000002</td>\n",
       "    </tr>\n",
       "  </tbody>\n",
       "</table>\n",
       "<p>1105 rows × 2 columns</p>\n",
       "</div>"
      ],
      "text/plain": [
       "        gridcode      area\n",
       "105753         6  0.008729\n",
       "105789         4  0.009488\n",
       "105790         5  0.009488\n",
       "105829         5  0.014763\n",
       "105874         4  0.013235\n",
       "...          ...       ...\n",
       "149958         7  0.004532\n",
       "149959         4  0.000005\n",
       "149960         4  0.000005\n",
       "149961         5  0.000002\n",
       "149962         5  0.000002\n",
       "\n",
       "[1105 rows x 2 columns]"
      ]
     },
     "execution_count": 130,
     "metadata": {},
     "output_type": "execute_result"
    }
   ],
   "source": [
    "aux = df[['gridcode', 'area']]\n",
    "aux"
   ]
  },
  {
   "cell_type": "code",
   "execution_count": 131,
   "id": "1151d283-d0af-4754-8bc4-bc7fe531a19f",
   "metadata": {},
   "outputs": [
    {
     "data": {
      "text/html": [
       "<div>\n",
       "<style scoped>\n",
       "    .dataframe tbody tr th:only-of-type {\n",
       "        vertical-align: middle;\n",
       "    }\n",
       "\n",
       "    .dataframe tbody tr th {\n",
       "        vertical-align: top;\n",
       "    }\n",
       "\n",
       "    .dataframe thead th {\n",
       "        text-align: right;\n",
       "    }\n",
       "</style>\n",
       "<table border=\"1\" class=\"dataframe\">\n",
       "  <thead>\n",
       "    <tr style=\"text-align: right;\">\n",
       "      <th></th>\n",
       "      <th>AREA (ha)</th>\n",
       "    </tr>\n",
       "    <tr>\n",
       "      <th>gridcode</th>\n",
       "      <th></th>\n",
       "    </tr>\n",
       "  </thead>\n",
       "  <tbody>\n",
       "    <tr>\n",
       "      <th>1</th>\n",
       "      <td>1.643796</td>\n",
       "    </tr>\n",
       "    <tr>\n",
       "      <th>2</th>\n",
       "      <td>0.901373</td>\n",
       "    </tr>\n",
       "    <tr>\n",
       "      <th>3</th>\n",
       "      <td>4.864175</td>\n",
       "    </tr>\n",
       "    <tr>\n",
       "      <th>4</th>\n",
       "      <td>16.771687</td>\n",
       "    </tr>\n",
       "    <tr>\n",
       "      <th>5</th>\n",
       "      <td>37.542967</td>\n",
       "    </tr>\n",
       "    <tr>\n",
       "      <th>6</th>\n",
       "      <td>33.898003</td>\n",
       "    </tr>\n",
       "    <tr>\n",
       "      <th>7</th>\n",
       "      <td>17.471084</td>\n",
       "    </tr>\n",
       "    <tr>\n",
       "      <th>8</th>\n",
       "      <td>9.652222</td>\n",
       "    </tr>\n",
       "  </tbody>\n",
       "</table>\n",
       "</div>"
      ],
      "text/plain": [
       "          AREA (ha)\n",
       "gridcode           \n",
       "1          1.643796\n",
       "2          0.901373\n",
       "3          4.864175\n",
       "4         16.771687\n",
       "5         37.542967\n",
       "6         33.898003\n",
       "7         17.471084\n",
       "8          9.652222"
      ]
     },
     "execution_count": 131,
     "metadata": {},
     "output_type": "execute_result"
    }
   ],
   "source": [
    "aux = aux.groupby(['gridcode']).sum('area')\n",
    "aux = aux.rename(columns={'area':'AREA (ha)'})\n",
    "aux"
   ]
  },
  {
   "cell_type": "code",
   "execution_count": 86,
   "id": "57681a94-08f8-4c0d-83cb-f6612c5fff91",
   "metadata": {},
   "outputs": [],
   "source": [
    "categoria = ['Nulo','Muy Bajo','Bajo Medio','Bajo','Medio','Medio Alto','Alto','Muy Alto']\n",
    "colores = ['','','','','','','','']"
   ]
  },
  {
   "cell_type": "code",
   "execution_count": 87,
   "id": "db5a9ee0-879e-4c6d-945d-0dad5a869449",
   "metadata": {},
   "outputs": [],
   "source": [
    "aux.insert(loc=0, column='CATEGORIA', value=categoria)\n",
    "aux.insert(loc=1, column='COLOR', value=colores)\n",
    "aux['%']=(aux['AREA (ha)']/aux['AREA (ha)'].sum())*100\n",
    "aux.loc['Total'] = aux.sum(axis=0)\n",
    "aux.at['Total','CATEGORIA'] = 'TOTAL'\n",
    "aux['TCH (tn/ha)'] = ' '"
   ]
  },
  {
   "cell_type": "code",
   "execution_count": 88,
   "id": "0f67d57e-33aa-4f6b-8873-e559261f0179",
   "metadata": {},
   "outputs": [
    {
     "data": {
      "text/html": [
       "<div>\n",
       "<style scoped>\n",
       "    .dataframe tbody tr th:only-of-type {\n",
       "        vertical-align: middle;\n",
       "    }\n",
       "\n",
       "    .dataframe tbody tr th {\n",
       "        vertical-align: top;\n",
       "    }\n",
       "\n",
       "    .dataframe thead th {\n",
       "        text-align: right;\n",
       "    }\n",
       "</style>\n",
       "<table border=\"1\" class=\"dataframe\">\n",
       "  <thead>\n",
       "    <tr style=\"text-align: right;\">\n",
       "      <th></th>\n",
       "      <th>CATEGORIA</th>\n",
       "      <th>COLOR</th>\n",
       "      <th>AREA (ha)</th>\n",
       "      <th>%</th>\n",
       "      <th>TCH (tn/ha)</th>\n",
       "    </tr>\n",
       "    <tr>\n",
       "      <th>gridcode</th>\n",
       "      <th></th>\n",
       "      <th></th>\n",
       "      <th></th>\n",
       "      <th></th>\n",
       "      <th></th>\n",
       "    </tr>\n",
       "  </thead>\n",
       "  <tbody>\n",
       "    <tr>\n",
       "      <th>1</th>\n",
       "      <td>Nulo</td>\n",
       "      <td></td>\n",
       "      <td>1.643796</td>\n",
       "      <td>1.339192</td>\n",
       "      <td></td>\n",
       "    </tr>\n",
       "    <tr>\n",
       "      <th>2</th>\n",
       "      <td>Muy Bajo</td>\n",
       "      <td></td>\n",
       "      <td>0.901373</td>\n",
       "      <td>0.734344</td>\n",
       "      <td></td>\n",
       "    </tr>\n",
       "    <tr>\n",
       "      <th>3</th>\n",
       "      <td>Bajo Medio</td>\n",
       "      <td></td>\n",
       "      <td>4.864175</td>\n",
       "      <td>3.962819</td>\n",
       "      <td></td>\n",
       "    </tr>\n",
       "    <tr>\n",
       "      <th>4</th>\n",
       "      <td>Bajo</td>\n",
       "      <td></td>\n",
       "      <td>16.771687</td>\n",
       "      <td>13.663811</td>\n",
       "      <td></td>\n",
       "    </tr>\n",
       "    <tr>\n",
       "      <th>5</th>\n",
       "      <td>Medio</td>\n",
       "      <td></td>\n",
       "      <td>37.542967</td>\n",
       "      <td>30.586071</td>\n",
       "      <td></td>\n",
       "    </tr>\n",
       "    <tr>\n",
       "      <th>6</th>\n",
       "      <td>Medio Alto</td>\n",
       "      <td></td>\n",
       "      <td>33.898003</td>\n",
       "      <td>27.616537</td>\n",
       "      <td></td>\n",
       "    </tr>\n",
       "    <tr>\n",
       "      <th>7</th>\n",
       "      <td>Alto</td>\n",
       "      <td></td>\n",
       "      <td>17.471084</td>\n",
       "      <td>14.233606</td>\n",
       "      <td></td>\n",
       "    </tr>\n",
       "    <tr>\n",
       "      <th>8</th>\n",
       "      <td>Muy Alto</td>\n",
       "      <td></td>\n",
       "      <td>9.652222</td>\n",
       "      <td>7.863618</td>\n",
       "      <td></td>\n",
       "    </tr>\n",
       "    <tr>\n",
       "      <th>Total</th>\n",
       "      <td>TOTAL</td>\n",
       "      <td></td>\n",
       "      <td>122.745305</td>\n",
       "      <td>100.000000</td>\n",
       "      <td></td>\n",
       "    </tr>\n",
       "  </tbody>\n",
       "</table>\n",
       "</div>"
      ],
      "text/plain": [
       "           CATEGORIA COLOR   AREA (ha)           % TCH (tn/ha)\n",
       "gridcode                                                      \n",
       "1               Nulo          1.643796    1.339192            \n",
       "2           Muy Bajo          0.901373    0.734344            \n",
       "3         Bajo Medio          4.864175    3.962819            \n",
       "4               Bajo         16.771687   13.663811            \n",
       "5              Medio         37.542967   30.586071            \n",
       "6         Medio Alto         33.898003   27.616537            \n",
       "7               Alto         17.471084   14.233606            \n",
       "8           Muy Alto          9.652222    7.863618            \n",
       "Total          TOTAL        122.745305  100.000000            "
      ]
     },
     "execution_count": 88,
     "metadata": {},
     "output_type": "execute_result"
    }
   ],
   "source": [
    "aux"
   ]
  },
  {
   "cell_type": "code",
   "execution_count": 89,
   "id": "63985ad1-56fd-4519-a22e-571713ba10af",
   "metadata": {},
   "outputs": [],
   "source": [
    "aux.at['Total','COLOR'] = ''"
   ]
  },
  {
   "cell_type": "code",
   "execution_count": 90,
   "id": "206d36ef-deb0-4a8d-8d23-fdcbbde45363",
   "metadata": {},
   "outputs": [],
   "source": [
    "def styling_specific_cell(x,row_idx,col_idx):\n",
    "    color = ['background-color: #ff2200;',\n",
    "             'background-color: #ff6f00;',\n",
    "             'background-color: #ffa600;',\n",
    "             'background-color: #ffe500;',\n",
    "             'background-color: #d6e600;',\n",
    "             'background-color: #8bb500;',\n",
    "             'background-color: #498a00;',\n",
    "             'background-color: #006100;']\n",
    "    df_styler = pd.DataFrame('', index=x.index, columns=x.columns)\n",
    "    df_styler.iloc[row_idx, col_idx] =  color\n",
    "    return df_styler\n",
    "\n",
    "def set_blod_categori(x,row_idx,col_idx):\n",
    "    color = ['font-weight:bold;',\n",
    "             'font-weight:bold;',\n",
    "             'font-weight:bold;',\n",
    "             'font-weight:bold;',\n",
    "             'font-weight:bold;',\n",
    "             'font-weight:bold;',\n",
    "             'font-weight:bold;',\n",
    "             'font-weight:bold;',\n",
    "             'font-weight:bold;']\n",
    "    df_styler = pd.DataFrame('', index=x.index, columns=x.columns)\n",
    "    df_styler.iloc[row_idx, col_idx] =  color\n",
    "    return df_styler\n",
    "\n",
    "def set_blod_row(x,row_idx,col_idx):\n",
    "    color = 'font-weight:bold; background-color: #9BC2E6; color: black;'\n",
    "    df_styler = pd.DataFrame('', index=x.index, columns=x.columns)\n",
    "    df_styler.iloc[row_idx, col_idx] =  color\n",
    "    return df_styler\n",
    "\n",
    "headers = {\n",
    "    'selector': 'tr:hover',\n",
    "    'props': [('background-color', '#9BC2E6'), ('color','black'), ('border','solid 1px')]\n",
    "}"
   ]
  },
  {
   "cell_type": "code",
   "execution_count": 91,
   "id": "0f6e6809-8ccf-4d67-a9d2-f59aaca13944",
   "metadata": {},
   "outputs": [
    {
     "data": {
      "text/html": [
       "<div>\n",
       "<style scoped>\n",
       "    .dataframe tbody tr th:only-of-type {\n",
       "        vertical-align: middle;\n",
       "    }\n",
       "\n",
       "    .dataframe tbody tr th {\n",
       "        vertical-align: top;\n",
       "    }\n",
       "\n",
       "    .dataframe thead th {\n",
       "        text-align: right;\n",
       "    }\n",
       "</style>\n",
       "<table border=\"1\" class=\"dataframe\">\n",
       "  <thead>\n",
       "    <tr style=\"text-align: right;\">\n",
       "      <th></th>\n",
       "      <th>CATEGORIA</th>\n",
       "      <th>COLOR</th>\n",
       "      <th>AREA (ha)</th>\n",
       "      <th>%</th>\n",
       "      <th>TCH (tn/ha)</th>\n",
       "    </tr>\n",
       "    <tr>\n",
       "      <th>gridcode</th>\n",
       "      <th></th>\n",
       "      <th></th>\n",
       "      <th></th>\n",
       "      <th></th>\n",
       "      <th></th>\n",
       "    </tr>\n",
       "  </thead>\n",
       "  <tbody>\n",
       "    <tr>\n",
       "      <th>1</th>\n",
       "      <td>Nulo</td>\n",
       "      <td></td>\n",
       "      <td>1.643796</td>\n",
       "      <td>1.339192</td>\n",
       "      <td></td>\n",
       "    </tr>\n",
       "    <tr>\n",
       "      <th>2</th>\n",
       "      <td>Muy Bajo</td>\n",
       "      <td></td>\n",
       "      <td>0.901373</td>\n",
       "      <td>0.734344</td>\n",
       "      <td></td>\n",
       "    </tr>\n",
       "    <tr>\n",
       "      <th>3</th>\n",
       "      <td>Bajo Medio</td>\n",
       "      <td></td>\n",
       "      <td>4.864175</td>\n",
       "      <td>3.962819</td>\n",
       "      <td></td>\n",
       "    </tr>\n",
       "    <tr>\n",
       "      <th>4</th>\n",
       "      <td>Bajo</td>\n",
       "      <td></td>\n",
       "      <td>16.771687</td>\n",
       "      <td>13.663811</td>\n",
       "      <td></td>\n",
       "    </tr>\n",
       "    <tr>\n",
       "      <th>5</th>\n",
       "      <td>Medio</td>\n",
       "      <td></td>\n",
       "      <td>37.542967</td>\n",
       "      <td>30.586071</td>\n",
       "      <td></td>\n",
       "    </tr>\n",
       "    <tr>\n",
       "      <th>6</th>\n",
       "      <td>Medio Alto</td>\n",
       "      <td></td>\n",
       "      <td>33.898003</td>\n",
       "      <td>27.616537</td>\n",
       "      <td></td>\n",
       "    </tr>\n",
       "    <tr>\n",
       "      <th>7</th>\n",
       "      <td>Alto</td>\n",
       "      <td></td>\n",
       "      <td>17.471084</td>\n",
       "      <td>14.233606</td>\n",
       "      <td></td>\n",
       "    </tr>\n",
       "    <tr>\n",
       "      <th>8</th>\n",
       "      <td>Muy Alto</td>\n",
       "      <td></td>\n",
       "      <td>9.652222</td>\n",
       "      <td>7.863618</td>\n",
       "      <td></td>\n",
       "    </tr>\n",
       "    <tr>\n",
       "      <th>Total</th>\n",
       "      <td>TOTAL</td>\n",
       "      <td></td>\n",
       "      <td>122.745305</td>\n",
       "      <td>100.000000</td>\n",
       "      <td></td>\n",
       "    </tr>\n",
       "  </tbody>\n",
       "</table>\n",
       "</div>"
      ],
      "text/plain": [
       "           CATEGORIA COLOR   AREA (ha)           % TCH (tn/ha)\n",
       "gridcode                                                      \n",
       "1               Nulo          1.643796    1.339192            \n",
       "2           Muy Bajo          0.901373    0.734344            \n",
       "3         Bajo Medio          4.864175    3.962819            \n",
       "4               Bajo         16.771687   13.663811            \n",
       "5              Medio         37.542967   30.586071            \n",
       "6         Medio Alto         33.898003   27.616537            \n",
       "7               Alto         17.471084   14.233606            \n",
       "8           Muy Alto          9.652222    7.863618            \n",
       "Total          TOTAL        122.745305  100.000000            "
      ]
     },
     "execution_count": 91,
     "metadata": {},
     "output_type": "execute_result"
    }
   ],
   "source": [
    "aux"
   ]
  },
  {
   "cell_type": "code",
   "execution_count": 92,
   "id": "f44239f9-85bb-4c77-8b05-213c80e61c18",
   "metadata": {},
   "outputs": [
    {
     "data": {
      "text/html": [
       "<style type=\"text/css\">\n",
       "#T_1b4af_ th {\n",
       "  background-color: #f8f8f8;\n",
       "  color: #333;\n",
       "  border: 1px solid #333;\n",
       "}\n",
       "#T_1b4af_row0_col0, #T_1b4af_row1_col0, #T_1b4af_row2_col0, #T_1b4af_row3_col0, #T_1b4af_row4_col0, #T_1b4af_row5_col0, #T_1b4af_row6_col0, #T_1b4af_row7_col0 {\n",
       "  font-weight: bold;\n",
       "  border: 1px solid black;\n",
       "}\n",
       "#T_1b4af_row0_col1 {\n",
       "  background-color: #ff2200;\n",
       "  border: 1px solid black;\n",
       "}\n",
       "#T_1b4af_row0_col2, #T_1b4af_row0_col4, #T_1b4af_row1_col2, #T_1b4af_row1_col4, #T_1b4af_row2_col2, #T_1b4af_row2_col4, #T_1b4af_row3_col2, #T_1b4af_row3_col4, #T_1b4af_row4_col2, #T_1b4af_row4_col4, #T_1b4af_row5_col2, #T_1b4af_row5_col4, #T_1b4af_row6_col2, #T_1b4af_row6_col4, #T_1b4af_row7_col2, #T_1b4af_row7_col4, #T_1b4af_row8_col4 {\n",
       "  border: 1px solid black;\n",
       "}\n",
       "#T_1b4af_row0_col3 {\n",
       "  width: 10em;\n",
       "  height: 80%;\n",
       "  background: linear-gradient(90deg,#10CB23 2.0%, transparent 2.0%);\n",
       "  border: 1px solid black;\n",
       "}\n",
       "#T_1b4af_row1_col1 {\n",
       "  background-color: #ff6f00;\n",
       "  border: 1px solid black;\n",
       "}\n",
       "#T_1b4af_row1_col3 {\n",
       "  width: 10em;\n",
       "  height: 80%;\n",
       "  border: 1px solid black;\n",
       "}\n",
       "#T_1b4af_row2_col1 {\n",
       "  background-color: #ffa600;\n",
       "  border: 1px solid black;\n",
       "}\n",
       "#T_1b4af_row2_col3 {\n",
       "  width: 10em;\n",
       "  height: 80%;\n",
       "  background: linear-gradient(90deg,#10CB23 10.8%, transparent 10.8%);\n",
       "  border: 1px solid black;\n",
       "}\n",
       "#T_1b4af_row3_col1 {\n",
       "  background-color: #ffe500;\n",
       "  border: 1px solid black;\n",
       "}\n",
       "#T_1b4af_row3_col3 {\n",
       "  width: 10em;\n",
       "  height: 80%;\n",
       "  background: linear-gradient(90deg,#10CB23 43.3%, transparent 43.3%);\n",
       "  border: 1px solid black;\n",
       "}\n",
       "#T_1b4af_row4_col1 {\n",
       "  background-color: #d6e600;\n",
       "  border: 1px solid black;\n",
       "}\n",
       "#T_1b4af_row4_col3 {\n",
       "  width: 10em;\n",
       "  height: 80%;\n",
       "  background: linear-gradient(90deg,#10CB23 100.0%, transparent 100.0%);\n",
       "  border: 1px solid black;\n",
       "}\n",
       "#T_1b4af_row5_col1 {\n",
       "  background-color: #8bb500;\n",
       "  border: 1px solid black;\n",
       "}\n",
       "#T_1b4af_row5_col3 {\n",
       "  width: 10em;\n",
       "  height: 80%;\n",
       "  background: linear-gradient(90deg,#10CB23 90.1%, transparent 90.1%);\n",
       "  border: 1px solid black;\n",
       "}\n",
       "#T_1b4af_row6_col1 {\n",
       "  background-color: #498a00;\n",
       "  border: 1px solid black;\n",
       "}\n",
       "#T_1b4af_row6_col3 {\n",
       "  width: 10em;\n",
       "  height: 80%;\n",
       "  background: linear-gradient(90deg,#10CB23 45.2%, transparent 45.2%);\n",
       "  border: 1px solid black;\n",
       "}\n",
       "#T_1b4af_row7_col1 {\n",
       "  background-color: #006100;\n",
       "  border: 1px solid black;\n",
       "}\n",
       "#T_1b4af_row7_col3 {\n",
       "  width: 10em;\n",
       "  height: 80%;\n",
       "  background: linear-gradient(90deg,#10CB23 23.9%, transparent 23.9%);\n",
       "  border: 1px solid black;\n",
       "}\n",
       "#T_1b4af_row8_col0 {\n",
       "  font-weight: bold;\n",
       "  font-weight: bold;\n",
       "  background-color: #9BC2E6;\n",
       "  color: black;\n",
       "  border: 1px solid black;\n",
       "}\n",
       "#T_1b4af_row8_col1, #T_1b4af_row8_col2, #T_1b4af_row8_col3 {\n",
       "  font-weight: bold;\n",
       "  background-color: #9BC2E6;\n",
       "  color: black;\n",
       "  border: 1px solid black;\n",
       "}\n",
       "</style>\n",
       "<table id=\"T_1b4af_\">\n",
       "  <thead>\n",
       "    <tr>\n",
       "      <th class=\"col_heading level0 col0\" >CATEGORIA</th>\n",
       "      <th class=\"col_heading level0 col1\" >COLOR</th>\n",
       "      <th class=\"col_heading level0 col2\" >AREA (ha)</th>\n",
       "      <th class=\"col_heading level0 col3\" >%</th>\n",
       "      <th class=\"col_heading level0 col4\" >TCH (tn/ha)</th>\n",
       "    </tr>\n",
       "  </thead>\n",
       "  <tbody>\n",
       "    <tr>\n",
       "      <td id=\"T_1b4af_row0_col0\" class=\"data row0 col0\" >Nulo</td>\n",
       "      <td id=\"T_1b4af_row0_col1\" class=\"data row0 col1\" ></td>\n",
       "      <td id=\"T_1b4af_row0_col2\" class=\"data row0 col2\" >1.64</td>\n",
       "      <td id=\"T_1b4af_row0_col3\" class=\"data row0 col3\" >1.34 %</td>\n",
       "      <td id=\"T_1b4af_row0_col4\" class=\"data row0 col4\" > </td>\n",
       "    </tr>\n",
       "    <tr>\n",
       "      <td id=\"T_1b4af_row1_col0\" class=\"data row1 col0\" >Muy Bajo</td>\n",
       "      <td id=\"T_1b4af_row1_col1\" class=\"data row1 col1\" ></td>\n",
       "      <td id=\"T_1b4af_row1_col2\" class=\"data row1 col2\" >0.90</td>\n",
       "      <td id=\"T_1b4af_row1_col3\" class=\"data row1 col3\" >0.73 %</td>\n",
       "      <td id=\"T_1b4af_row1_col4\" class=\"data row1 col4\" > </td>\n",
       "    </tr>\n",
       "    <tr>\n",
       "      <td id=\"T_1b4af_row2_col0\" class=\"data row2 col0\" >Bajo Medio</td>\n",
       "      <td id=\"T_1b4af_row2_col1\" class=\"data row2 col1\" ></td>\n",
       "      <td id=\"T_1b4af_row2_col2\" class=\"data row2 col2\" >4.86</td>\n",
       "      <td id=\"T_1b4af_row2_col3\" class=\"data row2 col3\" >3.96 %</td>\n",
       "      <td id=\"T_1b4af_row2_col4\" class=\"data row2 col4\" > </td>\n",
       "    </tr>\n",
       "    <tr>\n",
       "      <td id=\"T_1b4af_row3_col0\" class=\"data row3 col0\" >Bajo</td>\n",
       "      <td id=\"T_1b4af_row3_col1\" class=\"data row3 col1\" ></td>\n",
       "      <td id=\"T_1b4af_row3_col2\" class=\"data row3 col2\" >16.77</td>\n",
       "      <td id=\"T_1b4af_row3_col3\" class=\"data row3 col3\" >13.66 %</td>\n",
       "      <td id=\"T_1b4af_row3_col4\" class=\"data row3 col4\" > </td>\n",
       "    </tr>\n",
       "    <tr>\n",
       "      <td id=\"T_1b4af_row4_col0\" class=\"data row4 col0\" >Medio</td>\n",
       "      <td id=\"T_1b4af_row4_col1\" class=\"data row4 col1\" ></td>\n",
       "      <td id=\"T_1b4af_row4_col2\" class=\"data row4 col2\" >37.54</td>\n",
       "      <td id=\"T_1b4af_row4_col3\" class=\"data row4 col3\" >30.59 %</td>\n",
       "      <td id=\"T_1b4af_row4_col4\" class=\"data row4 col4\" > </td>\n",
       "    </tr>\n",
       "    <tr>\n",
       "      <td id=\"T_1b4af_row5_col0\" class=\"data row5 col0\" >Medio Alto</td>\n",
       "      <td id=\"T_1b4af_row5_col1\" class=\"data row5 col1\" ></td>\n",
       "      <td id=\"T_1b4af_row5_col2\" class=\"data row5 col2\" >33.90</td>\n",
       "      <td id=\"T_1b4af_row5_col3\" class=\"data row5 col3\" >27.62 %</td>\n",
       "      <td id=\"T_1b4af_row5_col4\" class=\"data row5 col4\" > </td>\n",
       "    </tr>\n",
       "    <tr>\n",
       "      <td id=\"T_1b4af_row6_col0\" class=\"data row6 col0\" >Alto</td>\n",
       "      <td id=\"T_1b4af_row6_col1\" class=\"data row6 col1\" ></td>\n",
       "      <td id=\"T_1b4af_row6_col2\" class=\"data row6 col2\" >17.47</td>\n",
       "      <td id=\"T_1b4af_row6_col3\" class=\"data row6 col3\" >14.23 %</td>\n",
       "      <td id=\"T_1b4af_row6_col4\" class=\"data row6 col4\" > </td>\n",
       "    </tr>\n",
       "    <tr>\n",
       "      <td id=\"T_1b4af_row7_col0\" class=\"data row7 col0\" >Muy Alto</td>\n",
       "      <td id=\"T_1b4af_row7_col1\" class=\"data row7 col1\" ></td>\n",
       "      <td id=\"T_1b4af_row7_col2\" class=\"data row7 col2\" >9.65</td>\n",
       "      <td id=\"T_1b4af_row7_col3\" class=\"data row7 col3\" >7.86 %</td>\n",
       "      <td id=\"T_1b4af_row7_col4\" class=\"data row7 col4\" > </td>\n",
       "    </tr>\n",
       "    <tr>\n",
       "      <td id=\"T_1b4af_row8_col0\" class=\"data row8 col0\" >TOTAL</td>\n",
       "      <td id=\"T_1b4af_row8_col1\" class=\"data row8 col1\" ></td>\n",
       "      <td id=\"T_1b4af_row8_col2\" class=\"data row8 col2\" >122.75</td>\n",
       "      <td id=\"T_1b4af_row8_col3\" class=\"data row8 col3\" >100.00 %</td>\n",
       "      <td id=\"T_1b4af_row8_col4\" class=\"data row8 col4\" > </td>\n",
       "    </tr>\n",
       "  </tbody>\n",
       "</table>\n"
      ],
      "text/plain": [
       "<pandas.io.formats.style.Styler at 0x1568221c048>"
      ]
     },
     "execution_count": 92,
     "metadata": {},
     "output_type": "execute_result"
    }
   ],
   "source": [
    "formato = {'AREA (ha)':'{:.2f}', '%':'{:.2f} %'}\n",
    "i = pd.IndexSlice[aux.loc[(aux['%']<99.999999)].index, '%']\n",
    "\n",
    "s = aux.style.format(formato)\\\n",
    "    .bar(subset=i, color='#10CB23')\\\n",
    "    .hide_index()\\\n",
    "    .apply(styling_specific_cell, row_idx = [0,1,2,3,4,5,6,7], col_idx = 1, axis = None)\\\n",
    "    .apply(set_blod_categori, row_idx = [0,1,2,3,4,5,6,7,8], col_idx = 0, axis = None)\\\n",
    "    .apply(set_blod_row, row_idx = 8, col_idx = [0,1,2,3], axis = None)\\\n",
    "    .set_table_styles([headers])\\\n",
    "    .set_table_styles([{'selector': 'th',\n",
    "                           'props': [('background-color', '#f8f8f8'),\n",
    "                                     ('color', '#333'),\n",
    "                                     ('border', '1px solid #333')]}])\n",
    "s = s.set_properties(border=\"1px solid black\")\n",
    "tabla = s\n",
    "tabla"
   ]
  },
  {
   "cell_type": "code",
   "execution_count": 55,
   "id": "a2e97148-f034-4459-9285-f3d83cd3d23a",
   "metadata": {},
   "outputs": [],
   "source": [
    "dfi.export(tabla, 'tabla.png')"
   ]
  }
 ],
 "metadata": {
  "kernelspec": {
   "display_name": "Python 3 (ipykernel)",
   "language": "python",
   "name": "python3"
  },
  "language_info": {
   "codemirror_mode": {
    "name": "ipython",
    "version": 3
   },
   "file_extension": ".py",
   "mimetype": "text/x-python",
   "name": "python",
   "nbconvert_exporter": "python",
   "pygments_lexer": "ipython3",
   "version": "3.10.13"
  }
 },
 "nbformat": 4,
 "nbformat_minor": 5
}
